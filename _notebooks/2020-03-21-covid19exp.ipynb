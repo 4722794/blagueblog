{
 "cells": [
  {
   "cell_type": "markdown",
   "id": "muslim-click",
   "metadata": {
    "papermill": {
     "duration": 0.040454,
     "end_time": "2021-08-16T00:21:35.819126",
     "exception": false,
     "start_time": "2021-08-16T00:21:35.778672",
     "status": "completed"
    },
    "tags": []
   },
   "source": [
    "# COVID-19 Case Race\n",
    "> A race chart to see rising cases around the world\n",
    "\n",
    "- author: Hargun Oberoi\n",
    "- image: images/covid-overview.png\n",
    "- hide: false\n",
    "- badges: false"
   ]
  },
  {
   "cell_type": "code",
   "execution_count": 1,
   "id": "proof-material",
   "metadata": {
    "execution": {
     "iopub.execute_input": "2021-08-16T00:21:35.903619Z",
     "iopub.status.busy": "2021-08-16T00:21:35.903011Z",
     "iopub.status.idle": "2021-08-16T00:21:36.272962Z",
     "shell.execute_reply": "2021-08-16T00:21:36.272385Z"
    },
    "papermill": {
     "duration": 0.418989,
     "end_time": "2021-08-16T00:21:36.273145",
     "exception": false,
     "start_time": "2021-08-16T00:21:35.854156",
     "status": "completed"
    },
    "tags": []
   },
   "outputs": [],
   "source": [
    "#hide\n",
    "import numpy as np\n",
    "import pandas as pd\n",
    "from jinja2 import Template\n",
    "from IPython.display import HTML"
   ]
  },
  {
   "cell_type": "code",
   "execution_count": 2,
   "id": "developed-terminology",
   "metadata": {
    "execution": {
     "iopub.execute_input": "2021-08-16T00:21:36.351292Z",
     "iopub.status.busy": "2021-08-16T00:21:36.350622Z",
     "iopub.status.idle": "2021-08-16T00:21:36.352604Z",
     "shell.execute_reply": "2021-08-16T00:21:36.353256Z"
    },
    "papermill": {
     "duration": 0.043274,
     "end_time": "2021-08-16T00:21:36.353389",
     "exception": false,
     "start_time": "2021-08-16T00:21:36.310115",
     "status": "completed"
    },
    "tags": []
   },
   "outputs": [],
   "source": [
    "#hide\n",
    "\n",
    "# FETCH\n",
    "base_url = 'https://raw.githubusercontent.com/pratapvardhan/notebooks/master/covid19/'\n",
    "paths = {\n",
    "    'mapping': base_url + 'mapping_countries.csv',\n",
    "    'overview': base_url + 'overview.tpl'\n",
    "}"
   ]
  },
  {
   "cell_type": "code",
   "execution_count": 3,
   "id": "dynamic-saver",
   "metadata": {
    "execution": {
     "iopub.execute_input": "2021-08-16T00:21:36.448518Z",
     "iopub.status.busy": "2021-08-16T00:21:36.447252Z",
     "iopub.status.idle": "2021-08-16T00:21:36.450832Z",
     "shell.execute_reply": "2021-08-16T00:21:36.451392Z"
    },
    "papermill": {
     "duration": 0.057189,
     "end_time": "2021-08-16T00:21:36.451539",
     "exception": false,
     "start_time": "2021-08-16T00:21:36.394350",
     "status": "completed"
    },
    "tags": []
   },
   "outputs": [
    {
     "data": {
      "text/plain": [
       "'https://raw.githubusercontent.com/pratapvardhan/notebooks/master/covid19/mapping_countries.csv'"
      ]
     },
     "execution_count": 3,
     "metadata": {},
     "output_type": "execute_result"
    }
   ],
   "source": [
    "#hide\n",
    "paths['mapping']"
   ]
  },
  {
   "cell_type": "code",
   "execution_count": 4,
   "id": "urban-software",
   "metadata": {
    "execution": {
     "iopub.execute_input": "2021-08-16T00:21:36.532088Z",
     "iopub.status.busy": "2021-08-16T00:21:36.531495Z",
     "iopub.status.idle": "2021-08-16T00:21:36.533894Z",
     "shell.execute_reply": "2021-08-16T00:21:36.533429Z"
    },
    "papermill": {
     "duration": 0.044203,
     "end_time": "2021-08-16T00:21:36.534005",
     "exception": false,
     "start_time": "2021-08-16T00:21:36.489802",
     "status": "completed"
    },
    "tags": []
   },
   "outputs": [],
   "source": [
    "#hide\n",
    "def get_mappings(url):\n",
    "    df = pd.read_csv(url)\n",
    "    return {\n",
    "        'df': df,\n",
    "        'replace.country': dict(df.dropna(subset=['Name']).set_index('Country')['Name']),\n",
    "        'map.continent': dict(df.set_index('Name')['Continent'])\n",
    "    }"
   ]
  },
  {
   "cell_type": "code",
   "execution_count": 5,
   "id": "intimate-machinery",
   "metadata": {
    "execution": {
     "iopub.execute_input": "2021-08-16T00:21:36.611250Z",
     "iopub.status.busy": "2021-08-16T00:21:36.610576Z",
     "iopub.status.idle": "2021-08-16T00:21:36.653219Z",
     "shell.execute_reply": "2021-08-16T00:21:36.653759Z"
    },
    "papermill": {
     "duration": 0.084476,
     "end_time": "2021-08-16T00:21:36.653926",
     "exception": false,
     "start_time": "2021-08-16T00:21:36.569450",
     "status": "completed"
    },
    "tags": []
   },
   "outputs": [],
   "source": [
    "#hide\n",
    "mapping = get_mappings(paths['mapping'])"
   ]
  },
  {
   "cell_type": "code",
   "execution_count": 6,
   "id": "certified-tactics",
   "metadata": {
    "execution": {
     "iopub.execute_input": "2021-08-16T00:21:36.729578Z",
     "iopub.status.busy": "2021-08-16T00:21:36.728897Z",
     "iopub.status.idle": "2021-08-16T00:21:36.731735Z",
     "shell.execute_reply": "2021-08-16T00:21:36.731258Z"
    },
    "papermill": {
     "duration": 0.043752,
     "end_time": "2021-08-16T00:21:36.731843",
     "exception": false,
     "start_time": "2021-08-16T00:21:36.688091",
     "status": "completed"
    },
    "tags": []
   },
   "outputs": [],
   "source": [
    "#hide\n",
    "def get_template(path):\n",
    "    from urllib.parse import urlparse\n",
    "    if bool(urlparse(path).netloc):\n",
    "        from urllib.request import urlopen\n",
    "        return urlopen(path).read().decode('utf8')\n",
    "    return open(path).read()"
   ]
  },
  {
   "cell_type": "code",
   "execution_count": 7,
   "id": "realistic-blast",
   "metadata": {
    "execution": {
     "iopub.execute_input": "2021-08-16T00:21:36.807742Z",
     "iopub.status.busy": "2021-08-16T00:21:36.807102Z",
     "iopub.status.idle": "2021-08-16T00:21:36.809830Z",
     "shell.execute_reply": "2021-08-16T00:21:36.809358Z"
    },
    "papermill": {
     "duration": 0.044013,
     "end_time": "2021-08-16T00:21:36.809936",
     "exception": false,
     "start_time": "2021-08-16T00:21:36.765923",
     "status": "completed"
    },
    "tags": []
   },
   "outputs": [],
   "source": [
    "#hide\n",
    "def get_frame(name):\n",
    "    url = (\n",
    "        'https://raw.githubusercontent.com/CSSEGISandData/COVID-19/master/csse_covid_19_data/'\n",
    "        f'csse_covid_19_time_series/time_series_covid19_{name}_global.csv')\n",
    "    df = pd.read_csv(url)\n",
    "    # rename countries\n",
    "    df['Country/Region'] = df['Country/Region'].replace(mapping['replace.country'])\n",
    "    return df"
   ]
  },
  {
   "cell_type": "code",
   "execution_count": 8,
   "id": "affiliated-characterization",
   "metadata": {
    "execution": {
     "iopub.execute_input": "2021-08-16T00:21:36.885365Z",
     "iopub.status.busy": "2021-08-16T00:21:36.884700Z",
     "iopub.status.idle": "2021-08-16T00:21:36.887238Z",
     "shell.execute_reply": "2021-08-16T00:21:36.886560Z"
    },
    "papermill": {
     "duration": 0.041515,
     "end_time": "2021-08-16T00:21:36.887359",
     "exception": false,
     "start_time": "2021-08-16T00:21:36.845844",
     "status": "completed"
    },
    "tags": []
   },
   "outputs": [],
   "source": [
    "#hide\n",
    "def get_dates(df):\n",
    "    dt_cols = df.columns[~df.columns.isin(['Province/State', 'Country/Region', 'Lat', 'Long'])]\n",
    "    LAST_DATE_I = -1\n",
    "    # sometimes last column may be empty, then go backwards\n",
    "    for i in range(-1, -len(dt_cols), -1):\n",
    "        if not df[dt_cols[i]].fillna(0).eq(0).all():\n",
    "            LAST_DATE_I = i\n",
    "            break\n",
    "    return LAST_DATE_I, dt_cols"
   ]
  },
  {
   "cell_type": "code",
   "execution_count": 9,
   "id": "recent-optimization",
   "metadata": {
    "execution": {
     "iopub.execute_input": "2021-08-16T00:21:36.963032Z",
     "iopub.status.busy": "2021-08-16T00:21:36.962306Z",
     "iopub.status.idle": "2021-08-16T00:21:37.416891Z",
     "shell.execute_reply": "2021-08-16T00:21:37.416379Z"
    },
    "papermill": {
     "duration": 0.494776,
     "end_time": "2021-08-16T00:21:37.417046",
     "exception": false,
     "start_time": "2021-08-16T00:21:36.922270",
     "status": "completed"
    },
    "tags": []
   },
   "outputs": [],
   "source": [
    "#hide\n",
    "COL_REGION = 'Country/Region'\n",
    "# Confirmed, Recovered, Deaths\n",
    "df = get_frame('confirmed')\n",
    "# dft_: timeseries, dfc_: today country agg\n",
    "dft_cases = df\n",
    "dft_deaths = get_frame('deaths')\n",
    "dft_recovered = get_frame('recovered')\n",
    "LAST_DATE_I, dt_cols = get_dates(df)"
   ]
  },
  {
   "cell_type": "code",
   "execution_count": 10,
   "id": "absolute-copper",
   "metadata": {
    "execution": {
     "iopub.execute_input": "2021-08-16T00:21:37.499302Z",
     "iopub.status.busy": "2021-08-16T00:21:37.498548Z",
     "iopub.status.idle": "2021-08-16T00:21:37.501137Z",
     "shell.execute_reply": "2021-08-16T00:21:37.501708Z"
    },
    "papermill": {
     "duration": 0.047979,
     "end_time": "2021-08-16T00:21:37.501847",
     "exception": false,
     "start_time": "2021-08-16T00:21:37.453868",
     "status": "completed"
    },
    "tags": []
   },
   "outputs": [],
   "source": [
    "#hide\n",
    "LAST_DATE_I, dt_cols = get_dates(df)\n",
    "dt_today =dt_cols[LAST_DATE_I]\n",
    "# dt_5day = dt_cols[LAST_DATE_I - 5]\n",
    "dt_yday = dt_cols[LAST_DATE_I - 1]"
   ]
  },
  {
   "cell_type": "code",
   "execution_count": 11,
   "id": "restricted-sheriff",
   "metadata": {
    "execution": {
     "iopub.execute_input": "2021-08-16T00:21:37.576134Z",
     "iopub.status.busy": "2021-08-16T00:21:37.575489Z",
     "iopub.status.idle": "2021-08-16T00:21:37.585350Z",
     "shell.execute_reply": "2021-08-16T00:21:37.584928Z"
    },
    "papermill": {
     "duration": 0.048449,
     "end_time": "2021-08-16T00:21:37.585448",
     "exception": false,
     "start_time": "2021-08-16T00:21:37.536999",
     "status": "completed"
    },
    "tags": []
   },
   "outputs": [],
   "source": [
    "#hide\n",
    "dfc_cases = dft_cases.groupby(COL_REGION)[dt_today].sum()\n",
    "dfc_deaths = dft_deaths.groupby(COL_REGION)[dt_today].sum()\n",
    "# dfp_cases = dft_cases.groupby(COL_REGION)[dt_5day].sum()\n",
    "# dfp_deaths = dft_deaths.groupby(COL_REGION)[dt_5day].sum()\n",
    "dfp_cases = dft_cases.groupby(COL_REGION)[dt_yday].sum()\n",
    "dfp_deaths = dft_deaths.groupby(COL_REGION)[dt_yday].sum()"
   ]
  },
  {
   "cell_type": "code",
   "execution_count": 12,
   "id": "deluxe-hepatitis",
   "metadata": {
    "execution": {
     "iopub.execute_input": "2021-08-16T00:21:37.660157Z",
     "iopub.status.busy": "2021-08-16T00:21:37.659620Z",
     "iopub.status.idle": "2021-08-16T00:21:37.664831Z",
     "shell.execute_reply": "2021-08-16T00:21:37.665425Z"
    },
    "papermill": {
     "duration": 0.045278,
     "end_time": "2021-08-16T00:21:37.665572",
     "exception": false,
     "start_time": "2021-08-16T00:21:37.620294",
     "status": "completed"
    },
    "tags": []
   },
   "outputs": [],
   "source": [
    "#hide\n",
    "df_table = (pd.DataFrame(dict(Cases = dfc_cases, Deaths = dfc_deaths, PCases = dfp_cases, PDeaths = dfp_deaths))\n",
    "            .sort_values(by = ['Cases','Deaths'], ascending = [False, False])\n",
    "            .reset_index())"
   ]
  },
  {
   "cell_type": "code",
   "execution_count": 13,
   "id": "educational-chancellor",
   "metadata": {
    "execution": {
     "iopub.execute_input": "2021-08-16T00:21:37.760661Z",
     "iopub.status.busy": "2021-08-16T00:21:37.760053Z",
     "iopub.status.idle": "2021-08-16T00:21:37.769758Z",
     "shell.execute_reply": "2021-08-16T00:21:37.769281Z"
    },
    "papermill": {
     "duration": 0.066192,
     "end_time": "2021-08-16T00:21:37.769877",
     "exception": false,
     "start_time": "2021-08-16T00:21:37.703685",
     "status": "completed"
    },
    "tags": []
   },
   "outputs": [
    {
     "data": {
      "text/html": [
       "<div>\n",
       "<style scoped>\n",
       "    .dataframe tbody tr th:only-of-type {\n",
       "        vertical-align: middle;\n",
       "    }\n",
       "\n",
       "    .dataframe tbody tr th {\n",
       "        vertical-align: top;\n",
       "    }\n",
       "\n",
       "    .dataframe thead th {\n",
       "        text-align: right;\n",
       "    }\n",
       "</style>\n",
       "<table border=\"1\" class=\"dataframe\">\n",
       "  <thead>\n",
       "    <tr style=\"text-align: right;\">\n",
       "      <th></th>\n",
       "      <th>Country/Region</th>\n",
       "      <th>Cases</th>\n",
       "      <th>Deaths</th>\n",
       "      <th>PCases</th>\n",
       "      <th>PDeaths</th>\n",
       "      <th>Cases (+)</th>\n",
       "      <th>Deaths (+)</th>\n",
       "      <th>Fatality Rate</th>\n",
       "      <th>Continent</th>\n",
       "    </tr>\n",
       "  </thead>\n",
       "  <tbody>\n",
       "    <tr>\n",
       "      <th>0</th>\n",
       "      <td>US</td>\n",
       "      <td>36640271</td>\n",
       "      <td>621253</td>\n",
       "      <td>36597564</td>\n",
       "      <td>621016</td>\n",
       "      <td>42707</td>\n",
       "      <td>237</td>\n",
       "      <td>1.70</td>\n",
       "      <td>North America</td>\n",
       "    </tr>\n",
       "    <tr>\n",
       "      <th>1</th>\n",
       "      <td>India</td>\n",
       "      <td>32192576</td>\n",
       "      <td>431225</td>\n",
       "      <td>32156493</td>\n",
       "      <td>430732</td>\n",
       "      <td>36083</td>\n",
       "      <td>493</td>\n",
       "      <td>1.34</td>\n",
       "      <td>Asia</td>\n",
       "    </tr>\n",
       "    <tr>\n",
       "      <th>2</th>\n",
       "      <td>Brazil</td>\n",
       "      <td>20350142</td>\n",
       "      <td>568788</td>\n",
       "      <td>20319000</td>\n",
       "      <td>567862</td>\n",
       "      <td>31142</td>\n",
       "      <td>926</td>\n",
       "      <td>2.80</td>\n",
       "      <td>South America</td>\n",
       "    </tr>\n",
       "    <tr>\n",
       "      <th>3</th>\n",
       "      <td>France</td>\n",
       "      <td>6521927</td>\n",
       "      <td>112829</td>\n",
       "      <td>6497500</td>\n",
       "      <td>112778</td>\n",
       "      <td>24427</td>\n",
       "      <td>51</td>\n",
       "      <td>1.73</td>\n",
       "      <td>Europe</td>\n",
       "    </tr>\n",
       "    <tr>\n",
       "      <th>4</th>\n",
       "      <td>Russia</td>\n",
       "      <td>6490421</td>\n",
       "      <td>166795</td>\n",
       "      <td>6468890</td>\n",
       "      <td>165996</td>\n",
       "      <td>21531</td>\n",
       "      <td>799</td>\n",
       "      <td>2.57</td>\n",
       "      <td>Europe</td>\n",
       "    </tr>\n",
       "  </tbody>\n",
       "</table>\n",
       "</div>"
      ],
      "text/plain": [
       "  Country/Region     Cases  Deaths    PCases  PDeaths  Cases (+)  Deaths (+)  \\\n",
       "0             US  36640271  621253  36597564   621016      42707         237   \n",
       "1          India  32192576  431225  32156493   430732      36083         493   \n",
       "2         Brazil  20350142  568788  20319000   567862      31142         926   \n",
       "3         France   6521927  112829   6497500   112778      24427          51   \n",
       "4         Russia   6490421  166795   6468890   165996      21531         799   \n",
       "\n",
       "   Fatality Rate      Continent  \n",
       "0           1.70  North America  \n",
       "1           1.34           Asia  \n",
       "2           2.80  South America  \n",
       "3           1.73         Europe  \n",
       "4           2.57         Europe  "
      ]
     },
     "execution_count": 13,
     "metadata": {},
     "output_type": "execute_result"
    }
   ],
   "source": [
    "#hide\n",
    "for c in 'Cases, Deaths'.split(', '):\n",
    "    df_table[f'{c} (+)'] = (df_table[c] - df_table[f'P{c}']).clip(0)\n",
    "    #Clip ça veut dire, les chiffres negatif sont interdit\n",
    "df_table['Fatality Rate'] = (100* df_table['Deaths']/ df_table['Cases']).round(2)\n",
    "df_table['Continent'] = df_table['Country/Region'].map(mapping['map.continent'])\n",
    "df_table.head(5)"
   ]
  },
  {
   "cell_type": "code",
   "execution_count": 14,
   "id": "aboriginal-bulgaria",
   "metadata": {
    "execution": {
     "iopub.execute_input": "2021-08-16T00:21:37.845756Z",
     "iopub.status.busy": "2021-08-16T00:21:37.845155Z",
     "iopub.status.idle": "2021-08-16T00:21:37.850650Z",
     "shell.execute_reply": "2021-08-16T00:21:37.851216Z"
    },
    "papermill": {
     "duration": 0.044889,
     "end_time": "2021-08-16T00:21:37.851331",
     "exception": false,
     "start_time": "2021-08-16T00:21:37.806442",
     "status": "completed"
    },
    "tags": []
   },
   "outputs": [],
   "source": [
    "#hide\n",
    "#delete problematic countries from table\n",
    "df_table = df_table[~df_table['Country/Region'].isin(['Cape Verde', 'Cruise Ship', 'Kosovo'])]"
   ]
  },
  {
   "cell_type": "code",
   "execution_count": 15,
   "id": "fantastic-effect",
   "metadata": {
    "execution": {
     "iopub.execute_input": "2021-08-16T00:21:37.931937Z",
     "iopub.status.busy": "2021-08-16T00:21:37.931310Z",
     "iopub.status.idle": "2021-08-16T00:21:37.951698Z",
     "shell.execute_reply": "2021-08-16T00:21:37.952085Z"
    },
    "papermill": {
     "duration": 0.066607,
     "end_time": "2021-08-16T00:21:37.952217",
     "exception": false,
     "start_time": "2021-08-16T00:21:37.885610",
     "status": "completed"
    },
    "tags": []
   },
   "outputs": [
    {
     "data": {
      "text/html": [
       "<div>\n",
       "<style scoped>\n",
       "    .dataframe tbody tr th:only-of-type {\n",
       "        vertical-align: middle;\n",
       "    }\n",
       "\n",
       "    .dataframe tbody tr th {\n",
       "        vertical-align: top;\n",
       "    }\n",
       "\n",
       "    .dataframe thead th {\n",
       "        text-align: right;\n",
       "    }\n",
       "</style>\n",
       "<table border=\"1\" class=\"dataframe\">\n",
       "  <thead>\n",
       "    <tr style=\"text-align: right;\">\n",
       "      <th></th>\n",
       "      <th>Country/Region</th>\n",
       "      <th>Cases</th>\n",
       "      <th>Deaths</th>\n",
       "      <th>PCases</th>\n",
       "      <th>PDeaths</th>\n",
       "      <th>Cases (+)</th>\n",
       "      <th>Deaths (+)</th>\n",
       "      <th>Fatality Rate</th>\n",
       "      <th>Continent</th>\n",
       "    </tr>\n",
       "  </thead>\n",
       "  <tbody>\n",
       "    <tr>\n",
       "      <th>0</th>\n",
       "      <td>US</td>\n",
       "      <td>36640271</td>\n",
       "      <td>621253</td>\n",
       "      <td>36597564</td>\n",
       "      <td>621016</td>\n",
       "      <td>42707</td>\n",
       "      <td>237</td>\n",
       "      <td>1.7</td>\n",
       "      <td>North America</td>\n",
       "    </tr>\n",
       "    <tr>\n",
       "      <th>1</th>\n",
       "      <td>India</td>\n",
       "      <td>32192576</td>\n",
       "      <td>431225</td>\n",
       "      <td>32156493</td>\n",
       "      <td>430732</td>\n",
       "      <td>36083</td>\n",
       "      <td>493</td>\n",
       "      <td>1.3</td>\n",
       "      <td>Asia</td>\n",
       "    </tr>\n",
       "    <tr>\n",
       "      <th>2</th>\n",
       "      <td>Brazil</td>\n",
       "      <td>20350142</td>\n",
       "      <td>568788</td>\n",
       "      <td>20319000</td>\n",
       "      <td>567862</td>\n",
       "      <td>31142</td>\n",
       "      <td>926</td>\n",
       "      <td>2.8</td>\n",
       "      <td>South America</td>\n",
       "    </tr>\n",
       "    <tr>\n",
       "      <th>3</th>\n",
       "      <td>France</td>\n",
       "      <td>6521927</td>\n",
       "      <td>112829</td>\n",
       "      <td>6497500</td>\n",
       "      <td>112778</td>\n",
       "      <td>24427</td>\n",
       "      <td>51</td>\n",
       "      <td>1.7</td>\n",
       "      <td>Europe</td>\n",
       "    </tr>\n",
       "    <tr>\n",
       "      <th>4</th>\n",
       "      <td>Russia</td>\n",
       "      <td>6490421</td>\n",
       "      <td>166795</td>\n",
       "      <td>6468890</td>\n",
       "      <td>165996</td>\n",
       "      <td>21531</td>\n",
       "      <td>799</td>\n",
       "      <td>2.6</td>\n",
       "      <td>Europe</td>\n",
       "    </tr>\n",
       "  </tbody>\n",
       "</table>\n",
       "</div>"
      ],
      "text/plain": [
       "  Country/Region     Cases  Deaths    PCases  PDeaths  Cases (+)  Deaths (+)  \\\n",
       "0             US  36640271  621253  36597564   621016      42707         237   \n",
       "1          India  32192576  431225  32156493   430732      36083         493   \n",
       "2         Brazil  20350142  568788  20319000   567862      31142         926   \n",
       "3         France   6521927  112829   6497500   112778      24427          51   \n",
       "4         Russia   6490421  166795   6468890   165996      21531         799   \n",
       "\n",
       "   Fatality Rate      Continent  \n",
       "0            1.7  North America  \n",
       "1            1.3           Asia  \n",
       "2            2.8  South America  \n",
       "3            1.7         Europe  \n",
       "4            2.6         Europe  "
      ]
     },
     "execution_count": 15,
     "metadata": {},
     "output_type": "execute_result"
    }
   ],
   "source": [
    "#hide\n",
    "df_table = (pd.DataFrame(dict(Cases=dfc_cases, Deaths=dfc_deaths, PCases=dfp_cases, PDeaths=dfp_deaths))\n",
    "             .sort_values(by=['Cases', 'Deaths'], ascending=[False, False])\n",
    "             .reset_index())\n",
    "df_table.rename(columns={'index': 'Country/Region'}, inplace=True)\n",
    "for c in 'Cases, Deaths'.split(', '):\n",
    "    df_table[f'{c} (+)'] = (df_table[c] - df_table[f'P{c}']).clip(0)  # DATA BUG\n",
    "df_table['Fatality Rate'] = (100 * df_table['Deaths'] / df_table['Cases']).round(1)\n",
    "df_table['Continent'] = df_table['Country/Region'].map(mapping['map.continent'])\n",
    "df_table.head(5)"
   ]
  },
  {
   "cell_type": "code",
   "execution_count": 16,
   "id": "fewer-occasion",
   "metadata": {
    "execution": {
     "iopub.execute_input": "2021-08-16T00:21:38.031337Z",
     "iopub.status.busy": "2021-08-16T00:21:38.030708Z",
     "iopub.status.idle": "2021-08-16T00:21:38.032999Z",
     "shell.execute_reply": "2021-08-16T00:21:38.033433Z"
    },
    "papermill": {
     "duration": 0.045773,
     "end_time": "2021-08-16T00:21:38.033605",
     "exception": false,
     "start_time": "2021-08-16T00:21:37.987832",
     "status": "completed"
    },
    "tags": []
   },
   "outputs": [],
   "source": [
    "#hide\n",
    "#delete problematic countries from table\n",
    "df_table = df_table[~df_table['Country/Region'].isin(['Cape Verde', 'Cruise Ship', 'Kosovo'])]"
   ]
  },
  {
   "cell_type": "code",
   "execution_count": 17,
   "id": "related-center",
   "metadata": {
    "execution": {
     "iopub.execute_input": "2021-08-16T00:21:38.113768Z",
     "iopub.status.busy": "2021-08-16T00:21:38.113152Z",
     "iopub.status.idle": "2021-08-16T00:21:38.129023Z",
     "shell.execute_reply": "2021-08-16T00:21:38.128453Z"
    },
    "papermill": {
     "duration": 0.061107,
     "end_time": "2021-08-16T00:21:38.129240",
     "exception": false,
     "start_time": "2021-08-16T00:21:38.068133",
     "status": "completed"
    },
    "tags": []
   },
   "outputs": [],
   "source": [
    "#hide\n",
    "metrics = [df_table.columns[index] for index in [1,2,5,6]]\n",
    "# s_china = df_table[df_table['Country/Region'].eq('China')][metrics].sum().add_prefix('China ')\n",
    "s_us = df_table[df_table['Country/Region'].eq('US')][metrics].sum().add_prefix('US ')\n",
    "s_eu = df_table[df_table['Continent'].eq('Europe')][metrics].sum().add_prefix('EU ')\n",
    "s_ind = df_table[df_table['Country/Region'].eq('India')][metrics].sum().add_prefix('India ')\n",
    "summary = {'updated': pd.to_datetime(dt_today), 'since': pd.to_datetime(dt_yday)}\n",
    "summary = {'updated': pd.to_datetime(dt_today), 'since': pd.to_datetime(dt_yday)}\n",
    "summary = {**summary, **df_table[metrics].sum(), **s_ind, **s_us, **s_eu}"
   ]
  },
  {
   "cell_type": "code",
   "execution_count": 18,
   "id": "engaging-syndrome",
   "metadata": {
    "execution": {
     "iopub.execute_input": "2021-08-16T00:21:38.212625Z",
     "iopub.status.busy": "2021-08-16T00:21:38.212000Z",
     "iopub.status.idle": "2021-08-16T00:21:38.226595Z",
     "shell.execute_reply": "2021-08-16T00:21:38.226086Z"
    },
    "papermill": {
     "duration": 0.059446,
     "end_time": "2021-08-16T00:21:38.226801",
     "exception": false,
     "start_time": "2021-08-16T00:21:38.167355",
     "status": "completed"
    },
    "tags": []
   },
   "outputs": [],
   "source": [
    "#hide\n",
    "dft_ct_new_cases = dft_cases.groupby(COL_REGION)[dt_cols].sum().diff(axis=1).fillna(0).astype(int)"
   ]
  },
  {
   "cell_type": "code",
   "execution_count": 19,
   "id": "neutral-assignment",
   "metadata": {
    "execution": {
     "iopub.execute_input": "2021-08-16T00:21:38.305328Z",
     "iopub.status.busy": "2021-08-16T00:21:38.304679Z",
     "iopub.status.idle": "2021-08-16T00:21:38.309316Z",
     "shell.execute_reply": "2021-08-16T00:21:38.309842Z"
    },
    "papermill": {
     "duration": 0.048165,
     "end_time": "2021-08-16T00:21:38.309985",
     "exception": false,
     "start_time": "2021-08-16T00:21:38.261820",
     "status": "completed"
    },
    "tags": []
   },
   "outputs": [],
   "source": [
    "#hide\n",
    "everydaycases = dft_ct_new_cases.cumsum(axis=1)"
   ]
  },
  {
   "cell_type": "code",
   "execution_count": 20,
   "id": "parliamentary-calgary",
   "metadata": {
    "execution": {
     "iopub.execute_input": "2021-08-16T00:21:38.389678Z",
     "iopub.status.busy": "2021-08-16T00:21:38.388832Z",
     "iopub.status.idle": "2021-08-16T00:21:39.015662Z",
     "shell.execute_reply": "2021-08-16T00:21:39.015057Z"
    },
    "papermill": {
     "duration": 0.66949,
     "end_time": "2021-08-16T00:21:39.015790",
     "exception": false,
     "start_time": "2021-08-16T00:21:38.346300",
     "status": "completed"
    },
    "tags": []
   },
   "outputs": [],
   "source": [
    "#hide\n",
    "import pandas as pd\n",
    "import matplotlib.pyplot as plt\n",
    "import matplotlib.ticker as ticker\n",
    "import matplotlib.animation as animation\n",
    "from IPython.display import HTML"
   ]
  },
  {
   "cell_type": "code",
   "execution_count": 21,
   "id": "lasting-extraction",
   "metadata": {
    "execution": {
     "iopub.execute_input": "2021-08-16T00:21:39.095756Z",
     "iopub.status.busy": "2021-08-16T00:21:39.095134Z",
     "iopub.status.idle": "2021-08-16T00:21:39.100943Z",
     "shell.execute_reply": "2021-08-16T00:21:39.101486Z"
    },
    "papermill": {
     "duration": 0.048781,
     "end_time": "2021-08-16T00:21:39.101608",
     "exception": false,
     "start_time": "2021-08-16T00:21:39.052827",
     "status": "completed"
    },
    "tags": []
   },
   "outputs": [],
   "source": [
    "#hide\n",
    "t = everydaycases.stack()"
   ]
  },
  {
   "cell_type": "code",
   "execution_count": 22,
   "id": "premier-sleeve",
   "metadata": {
    "execution": {
     "iopub.execute_input": "2021-08-16T00:21:39.176313Z",
     "iopub.status.busy": "2021-08-16T00:21:39.175736Z",
     "iopub.status.idle": "2021-08-16T00:21:39.184645Z",
     "shell.execute_reply": "2021-08-16T00:21:39.184035Z"
    },
    "papermill": {
     "duration": 0.047806,
     "end_time": "2021-08-16T00:21:39.184781",
     "exception": false,
     "start_time": "2021-08-16T00:21:39.136975",
     "status": "completed"
    },
    "tags": []
   },
   "outputs": [],
   "source": [
    "#hide\n",
    "g = t.reset_index(['Country/Region'])"
   ]
  },
  {
   "cell_type": "code",
   "execution_count": 23,
   "id": "distributed-pittsburgh",
   "metadata": {
    "execution": {
     "iopub.execute_input": "2021-08-16T00:21:39.259602Z",
     "iopub.status.busy": "2021-08-16T00:21:39.258868Z",
     "iopub.status.idle": "2021-08-16T00:21:39.260731Z",
     "shell.execute_reply": "2021-08-16T00:21:39.261244Z"
    },
    "papermill": {
     "duration": 0.039157,
     "end_time": "2021-08-16T00:21:39.261373",
     "exception": false,
     "start_time": "2021-08-16T00:21:39.222216",
     "status": "completed"
    },
    "tags": []
   },
   "outputs": [],
   "source": [
    "#hide\n",
    "g.index.name = 'date'"
   ]
  },
  {
   "cell_type": "code",
   "execution_count": 24,
   "id": "naked-donor",
   "metadata": {
    "execution": {
     "iopub.execute_input": "2021-08-16T00:21:39.341174Z",
     "iopub.status.busy": "2021-08-16T00:21:39.340581Z",
     "iopub.status.idle": "2021-08-16T00:21:39.342518Z",
     "shell.execute_reply": "2021-08-16T00:21:39.343007Z"
    },
    "papermill": {
     "duration": 0.04474,
     "end_time": "2021-08-16T00:21:39.343135",
     "exception": false,
     "start_time": "2021-08-16T00:21:39.298395",
     "status": "completed"
    },
    "tags": []
   },
   "outputs": [],
   "source": [
    "# #hide\n",
    "# g = g.reset_index(['date'])"
   ]
  },
  {
   "cell_type": "code",
   "execution_count": 25,
   "id": "incomplete-mustang",
   "metadata": {
    "execution": {
     "iopub.execute_input": "2021-08-16T00:21:39.420105Z",
     "iopub.status.busy": "2021-08-16T00:21:39.419482Z",
     "iopub.status.idle": "2021-08-16T00:21:39.423657Z",
     "shell.execute_reply": "2021-08-16T00:21:39.423158Z"
    },
    "papermill": {
     "duration": 0.044567,
     "end_time": "2021-08-16T00:21:39.423823",
     "exception": false,
     "start_time": "2021-08-16T00:21:39.379256",
     "status": "completed"
    },
    "tags": []
   },
   "outputs": [],
   "source": [
    "#hide\n",
    "# g.head()"
   ]
  },
  {
   "cell_type": "code",
   "execution_count": 26,
   "id": "specific-kruger",
   "metadata": {
    "execution": {
     "iopub.execute_input": "2021-08-16T00:21:39.501388Z",
     "iopub.status.busy": "2021-08-16T00:21:39.500788Z",
     "iopub.status.idle": "2021-08-16T00:21:39.503930Z",
     "shell.execute_reply": "2021-08-16T00:21:39.503394Z"
    },
    "papermill": {
     "duration": 0.043858,
     "end_time": "2021-08-16T00:21:39.504039",
     "exception": false,
     "start_time": "2021-08-16T00:21:39.460181",
     "status": "completed"
    },
    "tags": []
   },
   "outputs": [],
   "source": [
    "#hide\n",
    "# g.columns = ['date','country','cases']"
   ]
  },
  {
   "cell_type": "code",
   "execution_count": 27,
   "id": "tender-conversion",
   "metadata": {
    "execution": {
     "iopub.execute_input": "2021-08-16T00:21:39.583537Z",
     "iopub.status.busy": "2021-08-16T00:21:39.582773Z",
     "iopub.status.idle": "2021-08-16T00:21:39.585188Z",
     "shell.execute_reply": "2021-08-16T00:21:39.584654Z"
    },
    "papermill": {
     "duration": 0.041933,
     "end_time": "2021-08-16T00:21:39.585335",
     "exception": false,
     "start_time": "2021-08-16T00:21:39.543402",
     "status": "completed"
    },
    "tags": []
   },
   "outputs": [],
   "source": [
    "#hide\n",
    "# g['continent'] = g.country"
   ]
  },
  {
   "cell_type": "code",
   "execution_count": 28,
   "id": "substantial-wilderness",
   "metadata": {
    "execution": {
     "iopub.execute_input": "2021-08-16T00:21:39.663135Z",
     "iopub.status.busy": "2021-08-16T00:21:39.662340Z",
     "iopub.status.idle": "2021-08-16T00:21:39.665224Z",
     "shell.execute_reply": "2021-08-16T00:21:39.664705Z"
    },
    "papermill": {
     "duration": 0.042157,
     "end_time": "2021-08-16T00:21:39.665519",
     "exception": false,
     "start_time": "2021-08-16T00:21:39.623362",
     "status": "completed"
    },
    "tags": []
   },
   "outputs": [],
   "source": [
    "#hide\n",
    "# cols = list(g.columns.values)"
   ]
  },
  {
   "cell_type": "code",
   "execution_count": 29,
   "id": "solved-farming",
   "metadata": {
    "execution": {
     "iopub.execute_input": "2021-08-16T00:21:39.747328Z",
     "iopub.status.busy": "2021-08-16T00:21:39.746745Z",
     "iopub.status.idle": "2021-08-16T00:21:39.749067Z",
     "shell.execute_reply": "2021-08-16T00:21:39.748592Z"
    },
    "papermill": {
     "duration": 0.045148,
     "end_time": "2021-08-16T00:21:39.749180",
     "exception": false,
     "start_time": "2021-08-16T00:21:39.704032",
     "status": "completed"
    },
    "tags": []
   },
   "outputs": [],
   "source": [
    "#hide\n",
    "# cols.insert(0, cols.pop())"
   ]
  },
  {
   "cell_type": "code",
   "execution_count": 30,
   "id": "executed-adoption",
   "metadata": {
    "execution": {
     "iopub.execute_input": "2021-08-16T00:21:39.827030Z",
     "iopub.status.busy": "2021-08-16T00:21:39.826327Z",
     "iopub.status.idle": "2021-08-16T00:21:39.828932Z",
     "shell.execute_reply": "2021-08-16T00:21:39.828433Z"
    },
    "papermill": {
     "duration": 0.042757,
     "end_time": "2021-08-16T00:21:39.829059",
     "exception": false,
     "start_time": "2021-08-16T00:21:39.786302",
     "status": "completed"
    },
    "tags": []
   },
   "outputs": [],
   "source": [
    "#hide\n",
    "# g = g[cols]"
   ]
  },
  {
   "cell_type": "code",
   "execution_count": 31,
   "id": "subject-dublin",
   "metadata": {
    "execution": {
     "iopub.execute_input": "2021-08-16T00:21:39.904783Z",
     "iopub.status.busy": "2021-08-16T00:21:39.904068Z",
     "iopub.status.idle": "2021-08-16T00:21:39.907830Z",
     "shell.execute_reply": "2021-08-16T00:21:39.905835Z"
    },
    "papermill": {
     "duration": 0.043567,
     "end_time": "2021-08-16T00:21:39.907941",
     "exception": false,
     "start_time": "2021-08-16T00:21:39.864374",
     "status": "completed"
    },
    "tags": []
   },
   "outputs": [],
   "source": [
    "#hide\n",
    "# g['continent'] = g['continent'].map(mapping['map.continent'])"
   ]
  },
  {
   "cell_type": "code",
   "execution_count": 32,
   "id": "freelance-scout",
   "metadata": {
    "execution": {
     "iopub.execute_input": "2021-08-16T00:21:39.983863Z",
     "iopub.status.busy": "2021-08-16T00:21:39.983259Z",
     "iopub.status.idle": "2021-08-16T00:21:39.985348Z",
     "shell.execute_reply": "2021-08-16T00:21:39.986005Z"
    },
    "papermill": {
     "duration": 0.040433,
     "end_time": "2021-08-16T00:21:39.986182",
     "exception": false,
     "start_time": "2021-08-16T00:21:39.945749",
     "status": "completed"
    },
    "tags": []
   },
   "outputs": [],
   "source": [
    "#hide\n",
    "# g.head()"
   ]
  },
  {
   "cell_type": "code",
   "execution_count": 33,
   "id": "limited-engine",
   "metadata": {
    "execution": {
     "iopub.execute_input": "2021-08-16T00:21:40.067581Z",
     "iopub.status.busy": "2021-08-16T00:21:40.066220Z",
     "iopub.status.idle": "2021-08-16T00:21:40.068712Z",
     "shell.execute_reply": "2021-08-16T00:21:40.069211Z"
    },
    "papermill": {
     "duration": 0.046315,
     "end_time": "2021-08-16T00:21:40.069387",
     "exception": false,
     "start_time": "2021-08-16T00:21:40.023072",
     "status": "completed"
    },
    "tags": []
   },
   "outputs": [],
   "source": [
    "# hide\n",
    "# g['date'] = g['date'].astype('datetime64[ns]')"
   ]
  },
  {
   "cell_type": "code",
   "execution_count": 34,
   "id": "sophisticated-supervisor",
   "metadata": {
    "execution": {
     "iopub.execute_input": "2021-08-16T00:21:40.148097Z",
     "iopub.status.busy": "2021-08-16T00:21:40.147380Z",
     "iopub.status.idle": "2021-08-16T00:21:40.149658Z",
     "shell.execute_reply": "2021-08-16T00:21:40.150281Z"
    },
    "papermill": {
     "duration": 0.043261,
     "end_time": "2021-08-16T00:21:40.150403",
     "exception": false,
     "start_time": "2021-08-16T00:21:40.107142",
     "status": "completed"
    },
    "tags": []
   },
   "outputs": [],
   "source": [
    "#hide\n",
    "# g['date'] = g.date.dt.dayofyear"
   ]
  },
  {
   "cell_type": "code",
   "execution_count": 35,
   "id": "inside-dubai",
   "metadata": {
    "execution": {
     "iopub.execute_input": "2021-08-16T00:21:40.225679Z",
     "iopub.status.busy": "2021-08-16T00:21:40.225009Z",
     "iopub.status.idle": "2021-08-16T00:21:40.227868Z",
     "shell.execute_reply": "2021-08-16T00:21:40.227196Z"
    },
    "papermill": {
     "duration": 0.043087,
     "end_time": "2021-08-16T00:21:40.228013",
     "exception": false,
     "start_time": "2021-08-16T00:21:40.184926",
     "status": "completed"
    },
    "tags": []
   },
   "outputs": [],
   "source": [
    "#hide\n",
    "# g = g.rename(columns= {'continent':'group','country':'name','cases':'value'})"
   ]
  },
  {
   "cell_type": "code",
   "execution_count": 36,
   "id": "fleet-motorcycle",
   "metadata": {
    "execution": {
     "iopub.execute_input": "2021-08-16T00:21:40.308528Z",
     "iopub.status.busy": "2021-08-16T00:21:40.307854Z",
     "iopub.status.idle": "2021-08-16T00:21:40.310497Z",
     "shell.execute_reply": "2021-08-16T00:21:40.310022Z"
    },
    "papermill": {
     "duration": 0.044192,
     "end_time": "2021-08-16T00:21:40.310781",
     "exception": false,
     "start_time": "2021-08-16T00:21:40.266589",
     "status": "completed"
    },
    "tags": []
   },
   "outputs": [],
   "source": [
    "#hide\n",
    "# cols = ['name','group','day','value']"
   ]
  },
  {
   "cell_type": "code",
   "execution_count": 37,
   "id": "continued-sleeping",
   "metadata": {
    "execution": {
     "iopub.execute_input": "2021-08-16T00:21:40.387576Z",
     "iopub.status.busy": "2021-08-16T00:21:40.386940Z",
     "iopub.status.idle": "2021-08-16T00:21:40.389629Z",
     "shell.execute_reply": "2021-08-16T00:21:40.388983Z"
    },
    "papermill": {
     "duration": 0.042729,
     "end_time": "2021-08-16T00:21:40.389761",
     "exception": false,
     "start_time": "2021-08-16T00:21:40.347032",
     "status": "completed"
    },
    "tags": []
   },
   "outputs": [],
   "source": [
    "#hide\n",
    "# g.rename(columns= {'date':'day'},inplace = True)"
   ]
  },
  {
   "cell_type": "code",
   "execution_count": 38,
   "id": "major-fight",
   "metadata": {
    "execution": {
     "iopub.execute_input": "2021-08-16T00:21:40.468165Z",
     "iopub.status.busy": "2021-08-16T00:21:40.467546Z",
     "iopub.status.idle": "2021-08-16T00:21:40.470446Z",
     "shell.execute_reply": "2021-08-16T00:21:40.469915Z"
    },
    "papermill": {
     "duration": 0.04292,
     "end_time": "2021-08-16T00:21:40.470548",
     "exception": false,
     "start_time": "2021-08-16T00:21:40.427628",
     "status": "completed"
    },
    "tags": []
   },
   "outputs": [],
   "source": [
    "#hide\n",
    "# g = g[cols]"
   ]
  },
  {
   "cell_type": "code",
   "execution_count": 39,
   "id": "structured-mobile",
   "metadata": {
    "execution": {
     "iopub.execute_input": "2021-08-16T00:21:40.553564Z",
     "iopub.status.busy": "2021-08-16T00:21:40.552755Z",
     "iopub.status.idle": "2021-08-16T00:21:40.555479Z",
     "shell.execute_reply": "2021-08-16T00:21:40.554815Z"
    },
    "papermill": {
     "duration": 0.046762,
     "end_time": "2021-08-16T00:21:40.555607",
     "exception": false,
     "start_time": "2021-08-16T00:21:40.508845",
     "status": "completed"
    },
    "tags": []
   },
   "outputs": [],
   "source": [
    "# #hide\n",
    "# g = g[g.group.notna()]"
   ]
  },
  {
   "cell_type": "code",
   "execution_count": 40,
   "id": "determined-closing",
   "metadata": {
    "execution": {
     "iopub.execute_input": "2021-08-16T00:21:40.632786Z",
     "iopub.status.busy": "2021-08-16T00:21:40.632016Z",
     "iopub.status.idle": "2021-08-16T00:21:40.634075Z",
     "shell.execute_reply": "2021-08-16T00:21:40.634875Z"
    },
    "papermill": {
     "duration": 0.042775,
     "end_time": "2021-08-16T00:21:40.635000",
     "exception": false,
     "start_time": "2021-08-16T00:21:40.592225",
     "status": "completed"
    },
    "tags": []
   },
   "outputs": [],
   "source": [
    "# #hide\n",
    "# colors = dict(zip(\n",
    "#     [\"Oceania\", \"Europe\", \"Asia\", \"South America\", \"Middle East\", \"North America\", \"Africa\"],\n",
    "#     [\"#adb0ff\", \"#ffb3ff\", \"#90d595\", \"#e48381\", \"#aafbff\", \"#f7bb5f\", \"#eafb50\"]\n",
    "# ))\n",
    "# group_lk = g.set_index('name')['group'].to_dict()"
   ]
  },
  {
   "cell_type": "code",
   "execution_count": null,
   "id": "gross-drinking",
   "metadata": {
    "papermill": {
     "duration": 0.035984,
     "end_time": "2021-08-16T00:21:40.707775",
     "exception": false,
     "start_time": "2021-08-16T00:21:40.671791",
     "status": "completed"
    },
    "tags": []
   },
   "outputs": [],
   "source": []
  },
  {
   "cell_type": "code",
   "execution_count": 41,
   "id": "subject-macintosh",
   "metadata": {
    "execution": {
     "iopub.execute_input": "2021-08-16T00:21:40.787485Z",
     "iopub.status.busy": "2021-08-16T00:21:40.786791Z",
     "iopub.status.idle": "2021-08-16T00:21:40.789134Z",
     "shell.execute_reply": "2021-08-16T00:21:40.788520Z"
    },
    "papermill": {
     "duration": 0.04534,
     "end_time": "2021-08-16T00:21:40.789250",
     "exception": false,
     "start_time": "2021-08-16T00:21:40.743910",
     "status": "completed"
    },
    "tags": []
   },
   "outputs": [],
   "source": [
    "# #hide\n",
    "# fig, ax = plt.subplots(figsize=(15, 8))\n",
    "\n",
    "# def draw_barchart(current_day):\n",
    "#     dff = g[g['day'].eq(current_day)].sort_values(by='value', ascending=True).tail(10)\n",
    "#     ax.clear()\n",
    "#     ax.barh(dff['name'], dff['value'], color=[colors[group_lk[x]] for x in dff['name']])\n",
    "#     dx = dff['value'].max() / 200\n",
    "    \n",
    "#     for i, (value, name) in enumerate(zip(dff['value'], dff['name'])):\n",
    "#         ax.text(value-dx, i,     name,           size=14, weight=600, ha='right', va='bottom')\n",
    "#         ax.text(value-dx, i-.25, group_lk[name], size=10, color='#444444', ha='right', va='baseline')\n",
    "#         ax.text(value+dx, i,     f'{value:,.0f}',  size=14, ha='left',  va='center')\n",
    "#     ax.text(1, 0.4, current_day, transform=ax.transAxes, color='#777777', size=46, ha='right', weight=800)\n",
    "#     ax.text(0, 1.06, 'Population (thousands)', transform=ax.transAxes, size=12, color='#777777')\n",
    "#     ax.xaxis.set_major_formatter(ticker.StrMethodFormatter('{x:,.0f}'))\n",
    "#     ax.xaxis.set_ticks_position('top')\n",
    "#     ax.tick_params(axis='x', colors='#777777', labelsize=12)\n",
    "#     ax.set_yticks([])\n",
    "#     ax.margins(0, 0.01)\n",
    "#     ax.grid(which='major', axis='x', linestyle='-')\n",
    "#     ax.set_axisbelow(True)\n",
    "    \n",
    "#     ax.text(0, 1.15, 'Coronavirus',\n",
    "#             transform=ax.transAxes, size=24, weight=600, ha='left', va='top')\n",
    "# #     ax.text(1, 0, 'by @pratapvardhan; credit @jburnmurdoch', transform=ax.transAxes, color='#777777', ha='right',\n",
    "# #             bbox=dict(facecolor='white', alpha=0.8, edgecolor='white'))\n",
    "#     plt.box(False)"
   ]
  },
  {
   "cell_type": "code",
   "execution_count": 42,
   "id": "sexual-wages",
   "metadata": {
    "execution": {
     "iopub.execute_input": "2021-08-16T00:21:40.870221Z",
     "iopub.status.busy": "2021-08-16T00:21:40.869591Z",
     "iopub.status.idle": "2021-08-16T00:21:40.872168Z",
     "shell.execute_reply": "2021-08-16T00:21:40.871658Z"
    },
    "papermill": {
     "duration": 0.045462,
     "end_time": "2021-08-16T00:21:40.872273",
     "exception": false,
     "start_time": "2021-08-16T00:21:40.826811",
     "status": "completed"
    },
    "tags": []
   },
   "outputs": [],
   "source": [
    "# #hide_input\n",
    "# fig, ax = plt.subplots(figsize=(15, 8))\n",
    "# animator = animation.FuncAnimation(fig, draw_barchart, frames=range(g.day.values.min(), g.day.values.max()))\n",
    "# HTML(animator.to_jshtml())\n",
    "# # or use animator.to_html5_video() or animator.save() "
   ]
  },
  {
   "cell_type": "code",
   "execution_count": null,
   "id": "australian-container",
   "metadata": {
    "papermill": {
     "duration": 0.036186,
     "end_time": "2021-08-16T00:21:40.946229",
     "exception": false,
     "start_time": "2021-08-16T00:21:40.910043",
     "status": "completed"
    },
    "tags": []
   },
   "outputs": [],
   "source": []
  },
  {
   "cell_type": "code",
   "execution_count": null,
   "id": "mediterranean-pontiac",
   "metadata": {
    "papermill": {
     "duration": 0.040647,
     "end_time": "2021-08-16T00:21:41.026406",
     "exception": false,
     "start_time": "2021-08-16T00:21:40.985759",
     "status": "completed"
    },
    "tags": []
   },
   "outputs": [],
   "source": []
  },
  {
   "cell_type": "code",
   "execution_count": null,
   "id": "aging-legislature",
   "metadata": {
    "papermill": {
     "duration": 0.039641,
     "end_time": "2021-08-16T00:21:41.104917",
     "exception": false,
     "start_time": "2021-08-16T00:21:41.065276",
     "status": "completed"
    },
    "tags": []
   },
   "outputs": [],
   "source": []
  }
 ],
 "metadata": {
  "kernelspec": {
   "display_name": "Python 3",
   "language": "python",
   "name": "python3"
  },
  "language_info": {
   "codemirror_mode": {
    "name": "ipython",
    "version": 3
   },
   "file_extension": ".py",
   "mimetype": "text/x-python",
   "name": "python",
   "nbconvert_exporter": "python",
   "pygments_lexer": "ipython3",
   "version": "3.6.14"
  },
  "papermill": {
   "duration": 6.775639,
   "end_time": "2021-08-16T00:21:41.451908",
   "environment_variables": {},
   "exception": null,
   "input_path": "2020-03-21-covid19exp.ipynb",
   "output_path": "2020-03-21-covid19exp.ipynb",
   "parameters": {},
   "start_time": "2021-08-16T00:21:34.676269",
   "version": "2.0.0"
  }
 },
 "nbformat": 4,
 "nbformat_minor": 5
}