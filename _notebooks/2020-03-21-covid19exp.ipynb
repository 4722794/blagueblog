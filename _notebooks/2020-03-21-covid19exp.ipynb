{
 "cells": [
  {
   "cell_type": "markdown",
   "id": "muslim-click",
   "metadata": {
    "papermill": {
     "duration": 0.044312,
     "end_time": "2022-04-28T12:17:06.569118",
     "exception": false,
     "start_time": "2022-04-28T12:17:06.524806",
     "status": "completed"
    },
    "tags": []
   },
   "source": [
    "# COVID-19 Case Race\n",
    "> A race chart to see rising cases around the world\n",
    "\n",
    "- author: Hargun Oberoi\n",
    "- image: images/covid-overview.png\n",
    "- hide: false\n",
    "- badges: false"
   ]
  },
  {
   "cell_type": "code",
   "execution_count": 1,
   "id": "proof-material",
   "metadata": {
    "execution": {
     "iopub.execute_input": "2022-04-28T12:17:06.660812Z",
     "iopub.status.busy": "2022-04-28T12:17:06.660051Z",
     "iopub.status.idle": "2022-04-28T12:17:07.103209Z",
     "shell.execute_reply": "2022-04-28T12:17:07.103756Z"
    },
    "papermill": {
     "duration": 0.493143,
     "end_time": "2022-04-28T12:17:07.103970",
     "exception": false,
     "start_time": "2022-04-28T12:17:06.610827",
     "status": "completed"
    },
    "tags": []
   },
   "outputs": [],
   "source": [
    "#hide\n",
    "import numpy as np\n",
    "import pandas as pd\n",
    "from jinja2 import Template\n",
    "from IPython.display import HTML"
   ]
  },
  {
   "cell_type": "code",
   "execution_count": 2,
   "id": "developed-terminology",
   "metadata": {
    "execution": {
     "iopub.execute_input": "2022-04-28T12:17:07.190538Z",
     "iopub.status.busy": "2022-04-28T12:17:07.189800Z",
     "iopub.status.idle": "2022-04-28T12:17:07.192422Z",
     "shell.execute_reply": "2022-04-28T12:17:07.191861Z"
    },
    "papermill": {
     "duration": 0.047613,
     "end_time": "2022-04-28T12:17:07.192575",
     "exception": false,
     "start_time": "2022-04-28T12:17:07.144962",
     "status": "completed"
    },
    "tags": []
   },
   "outputs": [],
   "source": [
    "#hide\n",
    "\n",
    "# FETCH\n",
    "base_url = 'https://raw.githubusercontent.com/pratapvardhan/notebooks/master/covid19/'\n",
    "paths = {\n",
    "    'mapping': base_url + 'mapping_countries.csv',\n",
    "    'overview': base_url + 'overview.tpl'\n",
    "}"
   ]
  },
  {
   "cell_type": "code",
   "execution_count": 3,
   "id": "dynamic-saver",
   "metadata": {
    "execution": {
     "iopub.execute_input": "2022-04-28T12:17:07.284127Z",
     "iopub.status.busy": "2022-04-28T12:17:07.283061Z",
     "iopub.status.idle": "2022-04-28T12:17:07.286230Z",
     "shell.execute_reply": "2022-04-28T12:17:07.286892Z"
    },
    "papermill": {
     "duration": 0.055122,
     "end_time": "2022-04-28T12:17:07.287069",
     "exception": false,
     "start_time": "2022-04-28T12:17:07.231947",
     "status": "completed"
    },
    "tags": []
   },
   "outputs": [
    {
     "data": {
      "text/plain": [
       "'https://raw.githubusercontent.com/pratapvardhan/notebooks/master/covid19/mapping_countries.csv'"
      ]
     },
     "execution_count": 3,
     "metadata": {},
     "output_type": "execute_result"
    }
   ],
   "source": [
    "#hide\n",
    "paths['mapping']"
   ]
  },
  {
   "cell_type": "code",
   "execution_count": 4,
   "id": "urban-software",
   "metadata": {
    "execution": {
     "iopub.execute_input": "2022-04-28T12:17:07.371988Z",
     "iopub.status.busy": "2022-04-28T12:17:07.371291Z",
     "iopub.status.idle": "2022-04-28T12:17:07.378051Z",
     "shell.execute_reply": "2022-04-28T12:17:07.375551Z"
    },
    "papermill": {
     "duration": 0.051905,
     "end_time": "2022-04-28T12:17:07.378285",
     "exception": false,
     "start_time": "2022-04-28T12:17:07.326380",
     "status": "completed"
    },
    "tags": []
   },
   "outputs": [],
   "source": [
    "#hide\n",
    "def get_mappings(url):\n",
    "    df = pd.read_csv(url)\n",
    "    return {\n",
    "        'df': df,\n",
    "        'replace.country': dict(df.dropna(subset=['Name']).set_index('Country')['Name']),\n",
    "        'map.continent': dict(df.set_index('Name')['Continent'])\n",
    "    }"
   ]
  },
  {
   "cell_type": "code",
   "execution_count": 5,
   "id": "intimate-machinery",
   "metadata": {
    "execution": {
     "iopub.execute_input": "2022-04-28T12:17:07.465069Z",
     "iopub.status.busy": "2022-04-28T12:17:07.464351Z",
     "iopub.status.idle": "2022-04-28T12:17:07.495132Z",
     "shell.execute_reply": "2022-04-28T12:17:07.494544Z"
    },
    "papermill": {
     "duration": 0.076042,
     "end_time": "2022-04-28T12:17:07.495297",
     "exception": false,
     "start_time": "2022-04-28T12:17:07.419255",
     "status": "completed"
    },
    "tags": []
   },
   "outputs": [],
   "source": [
    "#hide\n",
    "mapping = get_mappings(paths['mapping'])"
   ]
  },
  {
   "cell_type": "code",
   "execution_count": 6,
   "id": "certified-tactics",
   "metadata": {
    "execution": {
     "iopub.execute_input": "2022-04-28T12:17:07.580828Z",
     "iopub.status.busy": "2022-04-28T12:17:07.580117Z",
     "iopub.status.idle": "2022-04-28T12:17:07.582718Z",
     "shell.execute_reply": "2022-04-28T12:17:07.582131Z"
    },
    "papermill": {
     "duration": 0.047933,
     "end_time": "2022-04-28T12:17:07.582952",
     "exception": false,
     "start_time": "2022-04-28T12:17:07.535019",
     "status": "completed"
    },
    "tags": []
   },
   "outputs": [],
   "source": [
    "#hide\n",
    "def get_template(path):\n",
    "    from urllib.parse import urlparse\n",
    "    if bool(urlparse(path).netloc):\n",
    "        from urllib.request import urlopen\n",
    "        return urlopen(path).read().decode('utf8')\n",
    "    return open(path).read()"
   ]
  },
  {
   "cell_type": "code",
   "execution_count": 7,
   "id": "realistic-blast",
   "metadata": {
    "execution": {
     "iopub.execute_input": "2022-04-28T12:17:07.668301Z",
     "iopub.status.busy": "2022-04-28T12:17:07.667534Z",
     "iopub.status.idle": "2022-04-28T12:17:07.670180Z",
     "shell.execute_reply": "2022-04-28T12:17:07.669611Z"
    },
    "papermill": {
     "duration": 0.047621,
     "end_time": "2022-04-28T12:17:07.670316",
     "exception": false,
     "start_time": "2022-04-28T12:17:07.622695",
     "status": "completed"
    },
    "tags": []
   },
   "outputs": [],
   "source": [
    "#hide\n",
    "def get_frame(name):\n",
    "    url = (\n",
    "        'https://raw.githubusercontent.com/CSSEGISandData/COVID-19/master/csse_covid_19_data/'\n",
    "        f'csse_covid_19_time_series/time_series_covid19_{name}_global.csv')\n",
    "    df = pd.read_csv(url)\n",
    "    # rename countries\n",
    "    df['Country/Region'] = df['Country/Region'].replace(mapping['replace.country'])\n",
    "    return df"
   ]
  },
  {
   "cell_type": "code",
   "execution_count": 8,
   "id": "affiliated-characterization",
   "metadata": {
    "execution": {
     "iopub.execute_input": "2022-04-28T12:17:07.756765Z",
     "iopub.status.busy": "2022-04-28T12:17:07.756058Z",
     "iopub.status.idle": "2022-04-28T12:17:07.758826Z",
     "shell.execute_reply": "2022-04-28T12:17:07.758162Z"
    },
    "papermill": {
     "duration": 0.048173,
     "end_time": "2022-04-28T12:17:07.758982",
     "exception": false,
     "start_time": "2022-04-28T12:17:07.710809",
     "status": "completed"
    },
    "tags": []
   },
   "outputs": [],
   "source": [
    "#hide\n",
    "def get_dates(df):\n",
    "    dt_cols = df.columns[~df.columns.isin(['Province/State', 'Country/Region', 'Lat', 'Long'])]\n",
    "    LAST_DATE_I = -1\n",
    "    # sometimes last column may be empty, then go backwards\n",
    "    for i in range(-1, -len(dt_cols), -1):\n",
    "        if not df[dt_cols[i]].fillna(0).eq(0).all():\n",
    "            LAST_DATE_I = i\n",
    "            break\n",
    "    return LAST_DATE_I, dt_cols"
   ]
  },
  {
   "cell_type": "code",
   "execution_count": 9,
   "id": "recent-optimization",
   "metadata": {
    "execution": {
     "iopub.execute_input": "2022-04-28T12:17:07.842855Z",
     "iopub.status.busy": "2022-04-28T12:17:07.842141Z",
     "iopub.status.idle": "2022-04-28T12:17:08.296157Z",
     "shell.execute_reply": "2022-04-28T12:17:08.295522Z"
    },
    "papermill": {
     "duration": 0.499175,
     "end_time": "2022-04-28T12:17:08.296315",
     "exception": false,
     "start_time": "2022-04-28T12:17:07.797140",
     "status": "completed"
    },
    "tags": []
   },
   "outputs": [],
   "source": [
    "#hide\n",
    "COL_REGION = 'Country/Region'\n",
    "# Confirmed, Recovered, Deaths\n",
    "df = get_frame('confirmed')\n",
    "# dft_: timeseries, dfc_: today country agg\n",
    "dft_cases = df\n",
    "dft_deaths = get_frame('deaths')\n",
    "dft_recovered = get_frame('recovered')\n",
    "LAST_DATE_I, dt_cols = get_dates(df)"
   ]
  },
  {
   "cell_type": "code",
   "execution_count": 10,
   "id": "absolute-copper",
   "metadata": {
    "execution": {
     "iopub.execute_input": "2022-04-28T12:17:08.387447Z",
     "iopub.status.busy": "2022-04-28T12:17:08.386409Z",
     "iopub.status.idle": "2022-04-28T12:17:08.391145Z",
     "shell.execute_reply": "2022-04-28T12:17:08.391700Z"
    },
    "papermill": {
     "duration": 0.056587,
     "end_time": "2022-04-28T12:17:08.391888",
     "exception": false,
     "start_time": "2022-04-28T12:17:08.335301",
     "status": "completed"
    },
    "tags": []
   },
   "outputs": [],
   "source": [
    "#hide\n",
    "LAST_DATE_I, dt_cols = get_dates(df)\n",
    "dt_today =dt_cols[LAST_DATE_I]\n",
    "# dt_5day = dt_cols[LAST_DATE_I - 5]\n",
    "dt_yday = dt_cols[LAST_DATE_I - 1]"
   ]
  },
  {
   "cell_type": "code",
   "execution_count": 11,
   "id": "restricted-sheriff",
   "metadata": {
    "execution": {
     "iopub.execute_input": "2022-04-28T12:17:08.484656Z",
     "iopub.status.busy": "2022-04-28T12:17:08.483926Z",
     "iopub.status.idle": "2022-04-28T12:17:08.489958Z",
     "shell.execute_reply": "2022-04-28T12:17:08.489348Z"
    },
    "papermill": {
     "duration": 0.055809,
     "end_time": "2022-04-28T12:17:08.490120",
     "exception": false,
     "start_time": "2022-04-28T12:17:08.434311",
     "status": "completed"
    },
    "tags": []
   },
   "outputs": [],
   "source": [
    "#hide\n",
    "dfc_cases = dft_cases.groupby(COL_REGION)[dt_today].sum()\n",
    "dfc_deaths = dft_deaths.groupby(COL_REGION)[dt_today].sum()\n",
    "# dfp_cases = dft_cases.groupby(COL_REGION)[dt_5day].sum()\n",
    "# dfp_deaths = dft_deaths.groupby(COL_REGION)[dt_5day].sum()\n",
    "dfp_cases = dft_cases.groupby(COL_REGION)[dt_yday].sum()\n",
    "dfp_deaths = dft_deaths.groupby(COL_REGION)[dt_yday].sum()"
   ]
  },
  {
   "cell_type": "code",
   "execution_count": 12,
   "id": "deluxe-hepatitis",
   "metadata": {
    "execution": {
     "iopub.execute_input": "2022-04-28T12:17:08.576942Z",
     "iopub.status.busy": "2022-04-28T12:17:08.576223Z",
     "iopub.status.idle": "2022-04-28T12:17:08.582201Z",
     "shell.execute_reply": "2022-04-28T12:17:08.581620Z"
    },
    "papermill": {
     "duration": 0.052308,
     "end_time": "2022-04-28T12:17:08.582358",
     "exception": false,
     "start_time": "2022-04-28T12:17:08.530050",
     "status": "completed"
    },
    "tags": []
   },
   "outputs": [],
   "source": [
    "#hide\n",
    "df_table = (pd.DataFrame(dict(Cases = dfc_cases, Deaths = dfc_deaths, PCases = dfp_cases, PDeaths = dfp_deaths))\n",
    "            .sort_values(by = ['Cases','Deaths'], ascending = [False, False])\n",
    "            .reset_index())"
   ]
  },
  {
   "cell_type": "code",
   "execution_count": 13,
   "id": "educational-chancellor",
   "metadata": {
    "execution": {
     "iopub.execute_input": "2022-04-28T12:17:08.685757Z",
     "iopub.status.busy": "2022-04-28T12:17:08.678478Z",
     "iopub.status.idle": "2022-04-28T12:17:08.695239Z",
     "shell.execute_reply": "2022-04-28T12:17:08.695796Z"
    },
    "papermill": {
     "duration": 0.073818,
     "end_time": "2022-04-28T12:17:08.695984",
     "exception": false,
     "start_time": "2022-04-28T12:17:08.622166",
     "status": "completed"
    },
    "tags": []
   },
   "outputs": [
    {
     "data": {
      "text/html": [
       "<div>\n",
       "<style scoped>\n",
       "    .dataframe tbody tr th:only-of-type {\n",
       "        vertical-align: middle;\n",
       "    }\n",
       "\n",
       "    .dataframe tbody tr th {\n",
       "        vertical-align: top;\n",
       "    }\n",
       "\n",
       "    .dataframe thead th {\n",
       "        text-align: right;\n",
       "    }\n",
       "</style>\n",
       "<table border=\"1\" class=\"dataframe\">\n",
       "  <thead>\n",
       "    <tr style=\"text-align: right;\">\n",
       "      <th></th>\n",
       "      <th>Country/Region</th>\n",
       "      <th>Cases</th>\n",
       "      <th>Deaths</th>\n",
       "      <th>PCases</th>\n",
       "      <th>PDeaths</th>\n",
       "      <th>Cases (+)</th>\n",
       "      <th>Deaths (+)</th>\n",
       "      <th>Fatality Rate</th>\n",
       "      <th>Continent</th>\n",
       "    </tr>\n",
       "  </thead>\n",
       "  <tbody>\n",
       "    <tr>\n",
       "      <th>0</th>\n",
       "      <td>US</td>\n",
       "      <td>81189379</td>\n",
       "      <td>992740</td>\n",
       "      <td>81100599</td>\n",
       "      <td>991940</td>\n",
       "      <td>88780</td>\n",
       "      <td>800</td>\n",
       "      <td>1.22</td>\n",
       "      <td>North America</td>\n",
       "    </tr>\n",
       "    <tr>\n",
       "      <th>1</th>\n",
       "      <td>India</td>\n",
       "      <td>43068799</td>\n",
       "      <td>523693</td>\n",
       "      <td>43065496</td>\n",
       "      <td>523654</td>\n",
       "      <td>3303</td>\n",
       "      <td>39</td>\n",
       "      <td>1.22</td>\n",
       "      <td>Asia</td>\n",
       "    </tr>\n",
       "    <tr>\n",
       "      <th>2</th>\n",
       "      <td>Brazil</td>\n",
       "      <td>30399004</td>\n",
       "      <td>663350</td>\n",
       "      <td>30378061</td>\n",
       "      <td>663108</td>\n",
       "      <td>20943</td>\n",
       "      <td>242</td>\n",
       "      <td>2.18</td>\n",
       "      <td>South America</td>\n",
       "    </tr>\n",
       "    <tr>\n",
       "      <th>3</th>\n",
       "      <td>France</td>\n",
       "      <td>28673411</td>\n",
       "      <td>146616</td>\n",
       "      <td>28605614</td>\n",
       "      <td>146464</td>\n",
       "      <td>67797</td>\n",
       "      <td>152</td>\n",
       "      <td>0.51</td>\n",
       "      <td>Europe</td>\n",
       "    </tr>\n",
       "    <tr>\n",
       "      <th>4</th>\n",
       "      <td>Germany</td>\n",
       "      <td>24609159</td>\n",
       "      <td>135078</td>\n",
       "      <td>24337394</td>\n",
       "      <td>134489</td>\n",
       "      <td>271765</td>\n",
       "      <td>589</td>\n",
       "      <td>0.55</td>\n",
       "      <td>Europe</td>\n",
       "    </tr>\n",
       "  </tbody>\n",
       "</table>\n",
       "</div>"
      ],
      "text/plain": [
       "  Country/Region     Cases  Deaths    PCases  PDeaths  Cases (+)  Deaths (+)  \\\n",
       "0             US  81189379  992740  81100599   991940      88780         800   \n",
       "1          India  43068799  523693  43065496   523654       3303          39   \n",
       "2         Brazil  30399004  663350  30378061   663108      20943         242   \n",
       "3         France  28673411  146616  28605614   146464      67797         152   \n",
       "4        Germany  24609159  135078  24337394   134489     271765         589   \n",
       "\n",
       "   Fatality Rate      Continent  \n",
       "0           1.22  North America  \n",
       "1           1.22           Asia  \n",
       "2           2.18  South America  \n",
       "3           0.51         Europe  \n",
       "4           0.55         Europe  "
      ]
     },
     "execution_count": 13,
     "metadata": {},
     "output_type": "execute_result"
    }
   ],
   "source": [
    "#hide\n",
    "for c in 'Cases, Deaths'.split(', '):\n",
    "    df_table[f'{c} (+)'] = (df_table[c] - df_table[f'P{c}']).clip(0)\n",
    "    #Clip ça veut dire, les chiffres negatif sont interdit\n",
    "df_table['Fatality Rate'] = (100* df_table['Deaths']/ df_table['Cases']).round(2)\n",
    "df_table['Continent'] = df_table['Country/Region'].map(mapping['map.continent'])\n",
    "df_table.head(5)"
   ]
  },
  {
   "cell_type": "code",
   "execution_count": 14,
   "id": "aboriginal-bulgaria",
   "metadata": {
    "execution": {
     "iopub.execute_input": "2022-04-28T12:17:08.783319Z",
     "iopub.status.busy": "2022-04-28T12:17:08.782602Z",
     "iopub.status.idle": "2022-04-28T12:17:08.785369Z",
     "shell.execute_reply": "2022-04-28T12:17:08.784534Z"
    },
    "papermill": {
     "duration": 0.048701,
     "end_time": "2022-04-28T12:17:08.785523",
     "exception": false,
     "start_time": "2022-04-28T12:17:08.736822",
     "status": "completed"
    },
    "tags": []
   },
   "outputs": [],
   "source": [
    "#hide\n",
    "#delete problematic countries from table\n",
    "df_table = df_table[~df_table['Country/Region'].isin(['Cape Verde', 'Cruise Ship', 'Kosovo'])]"
   ]
  },
  {
   "cell_type": "code",
   "execution_count": 15,
   "id": "fantastic-effect",
   "metadata": {
    "execution": {
     "iopub.execute_input": "2022-04-28T12:17:08.876620Z",
     "iopub.status.busy": "2022-04-28T12:17:08.875915Z",
     "iopub.status.idle": "2022-04-28T12:17:08.899494Z",
     "shell.execute_reply": "2022-04-28T12:17:08.898926Z"
    },
    "papermill": {
     "duration": 0.072454,
     "end_time": "2022-04-28T12:17:08.899649",
     "exception": false,
     "start_time": "2022-04-28T12:17:08.827195",
     "status": "completed"
    },
    "tags": []
   },
   "outputs": [
    {
     "data": {
      "text/html": [
       "<div>\n",
       "<style scoped>\n",
       "    .dataframe tbody tr th:only-of-type {\n",
       "        vertical-align: middle;\n",
       "    }\n",
       "\n",
       "    .dataframe tbody tr th {\n",
       "        vertical-align: top;\n",
       "    }\n",
       "\n",
       "    .dataframe thead th {\n",
       "        text-align: right;\n",
       "    }\n",
       "</style>\n",
       "<table border=\"1\" class=\"dataframe\">\n",
       "  <thead>\n",
       "    <tr style=\"text-align: right;\">\n",
       "      <th></th>\n",
       "      <th>Country/Region</th>\n",
       "      <th>Cases</th>\n",
       "      <th>Deaths</th>\n",
       "      <th>PCases</th>\n",
       "      <th>PDeaths</th>\n",
       "      <th>Cases (+)</th>\n",
       "      <th>Deaths (+)</th>\n",
       "      <th>Fatality Rate</th>\n",
       "      <th>Continent</th>\n",
       "    </tr>\n",
       "  </thead>\n",
       "  <tbody>\n",
       "    <tr>\n",
       "      <th>0</th>\n",
       "      <td>US</td>\n",
       "      <td>81189379</td>\n",
       "      <td>992740</td>\n",
       "      <td>81100599</td>\n",
       "      <td>991940</td>\n",
       "      <td>88780</td>\n",
       "      <td>800</td>\n",
       "      <td>1.2</td>\n",
       "      <td>North America</td>\n",
       "    </tr>\n",
       "    <tr>\n",
       "      <th>1</th>\n",
       "      <td>India</td>\n",
       "      <td>43068799</td>\n",
       "      <td>523693</td>\n",
       "      <td>43065496</td>\n",
       "      <td>523654</td>\n",
       "      <td>3303</td>\n",
       "      <td>39</td>\n",
       "      <td>1.2</td>\n",
       "      <td>Asia</td>\n",
       "    </tr>\n",
       "    <tr>\n",
       "      <th>2</th>\n",
       "      <td>Brazil</td>\n",
       "      <td>30399004</td>\n",
       "      <td>663350</td>\n",
       "      <td>30378061</td>\n",
       "      <td>663108</td>\n",
       "      <td>20943</td>\n",
       "      <td>242</td>\n",
       "      <td>2.2</td>\n",
       "      <td>South America</td>\n",
       "    </tr>\n",
       "    <tr>\n",
       "      <th>3</th>\n",
       "      <td>France</td>\n",
       "      <td>28673411</td>\n",
       "      <td>146616</td>\n",
       "      <td>28605614</td>\n",
       "      <td>146464</td>\n",
       "      <td>67797</td>\n",
       "      <td>152</td>\n",
       "      <td>0.5</td>\n",
       "      <td>Europe</td>\n",
       "    </tr>\n",
       "    <tr>\n",
       "      <th>4</th>\n",
       "      <td>Germany</td>\n",
       "      <td>24609159</td>\n",
       "      <td>135078</td>\n",
       "      <td>24337394</td>\n",
       "      <td>134489</td>\n",
       "      <td>271765</td>\n",
       "      <td>589</td>\n",
       "      <td>0.5</td>\n",
       "      <td>Europe</td>\n",
       "    </tr>\n",
       "  </tbody>\n",
       "</table>\n",
       "</div>"
      ],
      "text/plain": [
       "  Country/Region     Cases  Deaths    PCases  PDeaths  Cases (+)  Deaths (+)  \\\n",
       "0             US  81189379  992740  81100599   991940      88780         800   \n",
       "1          India  43068799  523693  43065496   523654       3303          39   \n",
       "2         Brazil  30399004  663350  30378061   663108      20943         242   \n",
       "3         France  28673411  146616  28605614   146464      67797         152   \n",
       "4        Germany  24609159  135078  24337394   134489     271765         589   \n",
       "\n",
       "   Fatality Rate      Continent  \n",
       "0            1.2  North America  \n",
       "1            1.2           Asia  \n",
       "2            2.2  South America  \n",
       "3            0.5         Europe  \n",
       "4            0.5         Europe  "
      ]
     },
     "execution_count": 15,
     "metadata": {},
     "output_type": "execute_result"
    }
   ],
   "source": [
    "#hide\n",
    "df_table = (pd.DataFrame(dict(Cases=dfc_cases, Deaths=dfc_deaths, PCases=dfp_cases, PDeaths=dfp_deaths))\n",
    "             .sort_values(by=['Cases', 'Deaths'], ascending=[False, False])\n",
    "             .reset_index())\n",
    "df_table.rename(columns={'index': 'Country/Region'}, inplace=True)\n",
    "for c in 'Cases, Deaths'.split(', '):\n",
    "    df_table[f'{c} (+)'] = (df_table[c] - df_table[f'P{c}']).clip(0)  # DATA BUG\n",
    "df_table['Fatality Rate'] = (100 * df_table['Deaths'] / df_table['Cases']).round(1)\n",
    "df_table['Continent'] = df_table['Country/Region'].map(mapping['map.continent'])\n",
    "df_table.head(5)"
   ]
  },
  {
   "cell_type": "code",
   "execution_count": 16,
   "id": "fewer-occasion",
   "metadata": {
    "execution": {
     "iopub.execute_input": "2022-04-28T12:17:08.986863Z",
     "iopub.status.busy": "2022-04-28T12:17:08.986138Z",
     "iopub.status.idle": "2022-04-28T12:17:08.988692Z",
     "shell.execute_reply": "2022-04-28T12:17:08.988010Z"
    },
    "papermill": {
     "duration": 0.048586,
     "end_time": "2022-04-28T12:17:08.988843",
     "exception": false,
     "start_time": "2022-04-28T12:17:08.940257",
     "status": "completed"
    },
    "tags": []
   },
   "outputs": [],
   "source": [
    "#hide\n",
    "#delete problematic countries from table\n",
    "df_table = df_table[~df_table['Country/Region'].isin(['Cape Verde', 'Cruise Ship', 'Kosovo'])]"
   ]
  },
  {
   "cell_type": "code",
   "execution_count": 17,
   "id": "related-center",
   "metadata": {
    "execution": {
     "iopub.execute_input": "2022-04-28T12:17:09.081646Z",
     "iopub.status.busy": "2022-04-28T12:17:09.080879Z",
     "iopub.status.idle": "2022-04-28T12:17:09.098028Z",
     "shell.execute_reply": "2022-04-28T12:17:09.097424Z"
    },
    "papermill": {
     "duration": 0.06903,
     "end_time": "2022-04-28T12:17:09.098191",
     "exception": false,
     "start_time": "2022-04-28T12:17:09.029161",
     "status": "completed"
    },
    "tags": []
   },
   "outputs": [],
   "source": [
    "#hide\n",
    "metrics = [df_table.columns[index] for index in [1,2,5,6]]\n",
    "# s_china = df_table[df_table['Country/Region'].eq('China')][metrics].sum().add_prefix('China ')\n",
    "s_us = df_table[df_table['Country/Region'].eq('US')][metrics].sum().add_prefix('US ')\n",
    "s_eu = df_table[df_table['Continent'].eq('Europe')][metrics].sum().add_prefix('EU ')\n",
    "s_ind = df_table[df_table['Country/Region'].eq('India')][metrics].sum().add_prefix('India ')\n",
    "summary = {'updated': pd.to_datetime(dt_today), 'since': pd.to_datetime(dt_yday)}\n",
    "summary = {'updated': pd.to_datetime(dt_today), 'since': pd.to_datetime(dt_yday)}\n",
    "summary = {**summary, **df_table[metrics].sum(), **s_ind, **s_us, **s_eu}"
   ]
  },
  {
   "cell_type": "code",
   "execution_count": 18,
   "id": "engaging-syndrome",
   "metadata": {
    "execution": {
     "iopub.execute_input": "2022-04-28T12:17:09.187053Z",
     "iopub.status.busy": "2022-04-28T12:17:09.186328Z",
     "iopub.status.idle": "2022-04-28T12:17:09.208522Z",
     "shell.execute_reply": "2022-04-28T12:17:09.207912Z"
    },
    "papermill": {
     "duration": 0.069606,
     "end_time": "2022-04-28T12:17:09.208680",
     "exception": false,
     "start_time": "2022-04-28T12:17:09.139074",
     "status": "completed"
    },
    "tags": []
   },
   "outputs": [],
   "source": [
    "#hide\n",
    "dft_ct_new_cases = dft_cases.groupby(COL_REGION)[dt_cols].sum().diff(axis=1).fillna(0).astype(int)"
   ]
  },
  {
   "cell_type": "code",
   "execution_count": 19,
   "id": "neutral-assignment",
   "metadata": {
    "execution": {
     "iopub.execute_input": "2022-04-28T12:17:09.297271Z",
     "iopub.status.busy": "2022-04-28T12:17:09.296498Z",
     "iopub.status.idle": "2022-04-28T12:17:09.301012Z",
     "shell.execute_reply": "2022-04-28T12:17:09.300413Z"
    },
    "papermill": {
     "duration": 0.052968,
     "end_time": "2022-04-28T12:17:09.301529",
     "exception": false,
     "start_time": "2022-04-28T12:17:09.248561",
     "status": "completed"
    },
    "tags": []
   },
   "outputs": [],
   "source": [
    "#hide\n",
    "everydaycases = dft_ct_new_cases.cumsum(axis=1)"
   ]
  },
  {
   "cell_type": "code",
   "execution_count": 20,
   "id": "parliamentary-calgary",
   "metadata": {
    "execution": {
     "iopub.execute_input": "2022-04-28T12:17:09.403252Z",
     "iopub.status.busy": "2022-04-28T12:17:09.402503Z",
     "iopub.status.idle": "2022-04-28T12:17:10.203406Z",
     "shell.execute_reply": "2022-04-28T12:17:10.202801Z"
    },
    "papermill": {
     "duration": 0.85258,
     "end_time": "2022-04-28T12:17:10.203568",
     "exception": false,
     "start_time": "2022-04-28T12:17:09.350988",
     "status": "completed"
    },
    "tags": []
   },
   "outputs": [],
   "source": [
    "#hide\n",
    "import pandas as pd\n",
    "import matplotlib.pyplot as plt\n",
    "import matplotlib.ticker as ticker\n",
    "import matplotlib.animation as animation\n",
    "from IPython.display import HTML"
   ]
  },
  {
   "cell_type": "code",
   "execution_count": 21,
   "id": "lasting-extraction",
   "metadata": {
    "execution": {
     "iopub.execute_input": "2022-04-28T12:17:10.292546Z",
     "iopub.status.busy": "2022-04-28T12:17:10.291807Z",
     "iopub.status.idle": "2022-04-28T12:17:10.299904Z",
     "shell.execute_reply": "2022-04-28T12:17:10.299199Z"
    },
    "papermill": {
     "duration": 0.055641,
     "end_time": "2022-04-28T12:17:10.300073",
     "exception": false,
     "start_time": "2022-04-28T12:17:10.244432",
     "status": "completed"
    },
    "tags": []
   },
   "outputs": [],
   "source": [
    "#hide\n",
    "t = everydaycases.stack()"
   ]
  },
  {
   "cell_type": "code",
   "execution_count": 22,
   "id": "premier-sleeve",
   "metadata": {
    "execution": {
     "iopub.execute_input": "2022-04-28T12:17:10.388050Z",
     "iopub.status.busy": "2022-04-28T12:17:10.387315Z",
     "iopub.status.idle": "2022-04-28T12:17:10.400180Z",
     "shell.execute_reply": "2022-04-28T12:17:10.400748Z"
    },
    "papermill": {
     "duration": 0.059812,
     "end_time": "2022-04-28T12:17:10.400935",
     "exception": false,
     "start_time": "2022-04-28T12:17:10.341123",
     "status": "completed"
    },
    "tags": []
   },
   "outputs": [],
   "source": [
    "#hide\n",
    "g = t.reset_index(['Country/Region'])"
   ]
  },
  {
   "cell_type": "code",
   "execution_count": 23,
   "id": "distributed-pittsburgh",
   "metadata": {
    "execution": {
     "iopub.execute_input": "2022-04-28T12:17:10.486708Z",
     "iopub.status.busy": "2022-04-28T12:17:10.485990Z",
     "iopub.status.idle": "2022-04-28T12:17:10.488650Z",
     "shell.execute_reply": "2022-04-28T12:17:10.488082Z"
    },
    "papermill": {
     "duration": 0.047452,
     "end_time": "2022-04-28T12:17:10.488804",
     "exception": false,
     "start_time": "2022-04-28T12:17:10.441352",
     "status": "completed"
    },
    "tags": []
   },
   "outputs": [],
   "source": [
    "#hide\n",
    "g.index.name = 'date'"
   ]
  },
  {
   "cell_type": "code",
   "execution_count": 24,
   "id": "naked-donor",
   "metadata": {
    "execution": {
     "iopub.execute_input": "2022-04-28T12:17:10.584443Z",
     "iopub.status.busy": "2022-04-28T12:17:10.583724Z",
     "iopub.status.idle": "2022-04-28T12:17:10.586503Z",
     "shell.execute_reply": "2022-04-28T12:17:10.585721Z"
    },
    "papermill": {
     "duration": 0.046831,
     "end_time": "2022-04-28T12:17:10.586660",
     "exception": false,
     "start_time": "2022-04-28T12:17:10.539829",
     "status": "completed"
    },
    "tags": []
   },
   "outputs": [],
   "source": [
    "# #hide\n",
    "# g = g.reset_index(['date'])"
   ]
  },
  {
   "cell_type": "code",
   "execution_count": 25,
   "id": "incomplete-mustang",
   "metadata": {
    "execution": {
     "iopub.execute_input": "2022-04-28T12:17:10.671629Z",
     "iopub.status.busy": "2022-04-28T12:17:10.670935Z",
     "iopub.status.idle": "2022-04-28T12:17:10.673644Z",
     "shell.execute_reply": "2022-04-28T12:17:10.672923Z"
    },
    "papermill": {
     "duration": 0.046686,
     "end_time": "2022-04-28T12:17:10.673789",
     "exception": false,
     "start_time": "2022-04-28T12:17:10.627103",
     "status": "completed"
    },
    "tags": []
   },
   "outputs": [],
   "source": [
    "#hide\n",
    "# g.head()"
   ]
  },
  {
   "cell_type": "code",
   "execution_count": 26,
   "id": "specific-kruger",
   "metadata": {
    "execution": {
     "iopub.execute_input": "2022-04-28T12:17:10.760821Z",
     "iopub.status.busy": "2022-04-28T12:17:10.760118Z",
     "iopub.status.idle": "2022-04-28T12:17:10.764274Z",
     "shell.execute_reply": "2022-04-28T12:17:10.764789Z"
    },
    "papermill": {
     "duration": 0.050786,
     "end_time": "2022-04-28T12:17:10.764960",
     "exception": false,
     "start_time": "2022-04-28T12:17:10.714174",
     "status": "completed"
    },
    "tags": []
   },
   "outputs": [],
   "source": [
    "#hide\n",
    "# g.columns = ['date','country','cases']"
   ]
  },
  {
   "cell_type": "code",
   "execution_count": 27,
   "id": "tender-conversion",
   "metadata": {
    "execution": {
     "iopub.execute_input": "2022-04-28T12:17:10.854063Z",
     "iopub.status.busy": "2022-04-28T12:17:10.853381Z",
     "iopub.status.idle": "2022-04-28T12:17:10.856198Z",
     "shell.execute_reply": "2022-04-28T12:17:10.855343Z"
    },
    "papermill": {
     "duration": 0.050363,
     "end_time": "2022-04-28T12:17:10.856348",
     "exception": false,
     "start_time": "2022-04-28T12:17:10.805985",
     "status": "completed"
    },
    "tags": []
   },
   "outputs": [],
   "source": [
    "#hide\n",
    "# g['continent'] = g.country"
   ]
  },
  {
   "cell_type": "code",
   "execution_count": 28,
   "id": "substantial-wilderness",
   "metadata": {
    "execution": {
     "iopub.execute_input": "2022-04-28T12:17:10.948533Z",
     "iopub.status.busy": "2022-04-28T12:17:10.947812Z",
     "iopub.status.idle": "2022-04-28T12:17:10.949578Z",
     "shell.execute_reply": "2022-04-28T12:17:10.950169Z"
    },
    "papermill": {
     "duration": 0.04798,
     "end_time": "2022-04-28T12:17:10.950348",
     "exception": false,
     "start_time": "2022-04-28T12:17:10.902368",
     "status": "completed"
    },
    "tags": []
   },
   "outputs": [],
   "source": [
    "#hide\n",
    "# cols = list(g.columns.values)"
   ]
  },
  {
   "cell_type": "code",
   "execution_count": 29,
   "id": "solved-farming",
   "metadata": {
    "execution": {
     "iopub.execute_input": "2022-04-28T12:17:11.036114Z",
     "iopub.status.busy": "2022-04-28T12:17:11.035397Z",
     "iopub.status.idle": "2022-04-28T12:17:11.038095Z",
     "shell.execute_reply": "2022-04-28T12:17:11.038698Z"
    },
    "papermill": {
     "duration": 0.048039,
     "end_time": "2022-04-28T12:17:11.038876",
     "exception": false,
     "start_time": "2022-04-28T12:17:10.990837",
     "status": "completed"
    },
    "tags": []
   },
   "outputs": [],
   "source": [
    "#hide\n",
    "# cols.insert(0, cols.pop())"
   ]
  },
  {
   "cell_type": "code",
   "execution_count": 30,
   "id": "executed-adoption",
   "metadata": {
    "execution": {
     "iopub.execute_input": "2022-04-28T12:17:11.126132Z",
     "iopub.status.busy": "2022-04-28T12:17:11.124719Z",
     "iopub.status.idle": "2022-04-28T12:17:11.126897Z",
     "shell.execute_reply": "2022-04-28T12:17:11.127460Z"
    },
    "papermill": {
     "duration": 0.04725,
     "end_time": "2022-04-28T12:17:11.127636",
     "exception": false,
     "start_time": "2022-04-28T12:17:11.080386",
     "status": "completed"
    },
    "tags": []
   },
   "outputs": [],
   "source": [
    "#hide\n",
    "# g = g[cols]"
   ]
  },
  {
   "cell_type": "code",
   "execution_count": 31,
   "id": "subject-dublin",
   "metadata": {
    "execution": {
     "iopub.execute_input": "2022-04-28T12:17:11.214574Z",
     "iopub.status.busy": "2022-04-28T12:17:11.213852Z",
     "iopub.status.idle": "2022-04-28T12:17:11.218650Z",
     "shell.execute_reply": "2022-04-28T12:17:11.218065Z"
    },
    "papermill": {
     "duration": 0.050544,
     "end_time": "2022-04-28T12:17:11.218812",
     "exception": false,
     "start_time": "2022-04-28T12:17:11.168268",
     "status": "completed"
    },
    "tags": []
   },
   "outputs": [],
   "source": [
    "#hide\n",
    "# g['continent'] = g['continent'].map(mapping['map.continent'])"
   ]
  },
  {
   "cell_type": "code",
   "execution_count": 32,
   "id": "freelance-scout",
   "metadata": {
    "execution": {
     "iopub.execute_input": "2022-04-28T12:17:11.312352Z",
     "iopub.status.busy": "2022-04-28T12:17:11.311605Z",
     "iopub.status.idle": "2022-04-28T12:17:11.314331Z",
     "shell.execute_reply": "2022-04-28T12:17:11.313638Z"
    },
    "papermill": {
     "duration": 0.048933,
     "end_time": "2022-04-28T12:17:11.314483",
     "exception": false,
     "start_time": "2022-04-28T12:17:11.265550",
     "status": "completed"
    },
    "tags": []
   },
   "outputs": [],
   "source": [
    "#hide\n",
    "# g.head()"
   ]
  },
  {
   "cell_type": "code",
   "execution_count": 33,
   "id": "limited-engine",
   "metadata": {
    "execution": {
     "iopub.execute_input": "2022-04-28T12:17:11.401728Z",
     "iopub.status.busy": "2022-04-28T12:17:11.400757Z",
     "iopub.status.idle": "2022-04-28T12:17:11.402591Z",
     "shell.execute_reply": "2022-04-28T12:17:11.403232Z"
    },
    "papermill": {
     "duration": 0.047339,
     "end_time": "2022-04-28T12:17:11.403409",
     "exception": false,
     "start_time": "2022-04-28T12:17:11.356070",
     "status": "completed"
    },
    "tags": []
   },
   "outputs": [],
   "source": [
    "# hide\n",
    "# g['date'] = g['date'].astype('datetime64[ns]')"
   ]
  },
  {
   "cell_type": "code",
   "execution_count": 34,
   "id": "sophisticated-supervisor",
   "metadata": {
    "execution": {
     "iopub.execute_input": "2022-04-28T12:17:11.494841Z",
     "iopub.status.busy": "2022-04-28T12:17:11.494128Z",
     "iopub.status.idle": "2022-04-28T12:17:11.496221Z",
     "shell.execute_reply": "2022-04-28T12:17:11.496848Z"
    },
    "papermill": {
     "duration": 0.048426,
     "end_time": "2022-04-28T12:17:11.497088",
     "exception": false,
     "start_time": "2022-04-28T12:17:11.448662",
     "status": "completed"
    },
    "tags": []
   },
   "outputs": [],
   "source": [
    "#hide\n",
    "# g['date'] = g.date.dt.dayofyear"
   ]
  },
  {
   "cell_type": "code",
   "execution_count": 35,
   "id": "inside-dubai",
   "metadata": {
    "execution": {
     "iopub.execute_input": "2022-04-28T12:17:11.585800Z",
     "iopub.status.busy": "2022-04-28T12:17:11.584937Z",
     "iopub.status.idle": "2022-04-28T12:17:11.587771Z",
     "shell.execute_reply": "2022-04-28T12:17:11.587097Z"
    },
    "papermill": {
     "duration": 0.047916,
     "end_time": "2022-04-28T12:17:11.587924",
     "exception": false,
     "start_time": "2022-04-28T12:17:11.540008",
     "status": "completed"
    },
    "tags": []
   },
   "outputs": [],
   "source": [
    "#hide\n",
    "# g = g.rename(columns= {'continent':'group','country':'name','cases':'value'})"
   ]
  },
  {
   "cell_type": "code",
   "execution_count": 36,
   "id": "fleet-motorcycle",
   "metadata": {
    "execution": {
     "iopub.execute_input": "2022-04-28T12:17:11.676967Z",
     "iopub.status.busy": "2022-04-28T12:17:11.674419Z",
     "iopub.status.idle": "2022-04-28T12:17:11.678493Z",
     "shell.execute_reply": "2022-04-28T12:17:11.679052Z"
    },
    "papermill": {
     "duration": 0.050135,
     "end_time": "2022-04-28T12:17:11.679282",
     "exception": false,
     "start_time": "2022-04-28T12:17:11.629147",
     "status": "completed"
    },
    "tags": []
   },
   "outputs": [],
   "source": [
    "#hide\n",
    "# cols = ['name','group','day','value']"
   ]
  },
  {
   "cell_type": "code",
   "execution_count": 37,
   "id": "continued-sleeping",
   "metadata": {
    "execution": {
     "iopub.execute_input": "2022-04-28T12:17:11.767477Z",
     "iopub.status.busy": "2022-04-28T12:17:11.766792Z",
     "iopub.status.idle": "2022-04-28T12:17:11.769647Z",
     "shell.execute_reply": "2022-04-28T12:17:11.769039Z"
    },
    "papermill": {
     "duration": 0.049317,
     "end_time": "2022-04-28T12:17:11.769786",
     "exception": false,
     "start_time": "2022-04-28T12:17:11.720469",
     "status": "completed"
    },
    "tags": []
   },
   "outputs": [],
   "source": [
    "#hide\n",
    "# g.rename(columns= {'date':'day'},inplace = True)"
   ]
  },
  {
   "cell_type": "code",
   "execution_count": 38,
   "id": "major-fight",
   "metadata": {
    "execution": {
     "iopub.execute_input": "2022-04-28T12:17:11.857226Z",
     "iopub.status.busy": "2022-04-28T12:17:11.856483Z",
     "iopub.status.idle": "2022-04-28T12:17:11.861212Z",
     "shell.execute_reply": "2022-04-28T12:17:11.860525Z"
    },
    "papermill": {
     "duration": 0.051114,
     "end_time": "2022-04-28T12:17:11.861374",
     "exception": false,
     "start_time": "2022-04-28T12:17:11.810260",
     "status": "completed"
    },
    "tags": []
   },
   "outputs": [],
   "source": [
    "#hide\n",
    "# g = g[cols]"
   ]
  },
  {
   "cell_type": "code",
   "execution_count": 39,
   "id": "structured-mobile",
   "metadata": {
    "execution": {
     "iopub.execute_input": "2022-04-28T12:17:11.947435Z",
     "iopub.status.busy": "2022-04-28T12:17:11.946731Z",
     "iopub.status.idle": "2022-04-28T12:17:11.949255Z",
     "shell.execute_reply": "2022-04-28T12:17:11.948536Z"
    },
    "papermill": {
     "duration": 0.047367,
     "end_time": "2022-04-28T12:17:11.949411",
     "exception": false,
     "start_time": "2022-04-28T12:17:11.902044",
     "status": "completed"
    },
    "tags": []
   },
   "outputs": [],
   "source": [
    "# #hide\n",
    "# g = g[g.group.notna()]"
   ]
  },
  {
   "cell_type": "code",
   "execution_count": 40,
   "id": "determined-closing",
   "metadata": {
    "execution": {
     "iopub.execute_input": "2022-04-28T12:17:12.034488Z",
     "iopub.status.busy": "2022-04-28T12:17:12.033727Z",
     "iopub.status.idle": "2022-04-28T12:17:12.036224Z",
     "shell.execute_reply": "2022-04-28T12:17:12.036747Z"
    },
    "papermill": {
     "duration": 0.04728,
     "end_time": "2022-04-28T12:17:12.036925",
     "exception": false,
     "start_time": "2022-04-28T12:17:11.989645",
     "status": "completed"
    },
    "tags": []
   },
   "outputs": [],
   "source": [
    "# #hide\n",
    "# colors = dict(zip(\n",
    "#     [\"Oceania\", \"Europe\", \"Asia\", \"South America\", \"Middle East\", \"North America\", \"Africa\"],\n",
    "#     [\"#adb0ff\", \"#ffb3ff\", \"#90d595\", \"#e48381\", \"#aafbff\", \"#f7bb5f\", \"#eafb50\"]\n",
    "# ))\n",
    "# group_lk = g.set_index('name')['group'].to_dict()"
   ]
  },
  {
   "cell_type": "code",
   "execution_count": null,
   "id": "gross-drinking",
   "metadata": {
    "papermill": {
     "duration": 0.039994,
     "end_time": "2022-04-28T12:17:12.120032",
     "exception": false,
     "start_time": "2022-04-28T12:17:12.080038",
     "status": "completed"
    },
    "tags": []
   },
   "outputs": [],
   "source": []
  },
  {
   "cell_type": "code",
   "execution_count": 41,
   "id": "subject-macintosh",
   "metadata": {
    "execution": {
     "iopub.execute_input": "2022-04-28T12:17:12.205437Z",
     "iopub.status.busy": "2022-04-28T12:17:12.204665Z",
     "iopub.status.idle": "2022-04-28T12:17:12.210393Z",
     "shell.execute_reply": "2022-04-28T12:17:12.209800Z"
    },
    "papermill": {
     "duration": 0.050263,
     "end_time": "2022-04-28T12:17:12.210550",
     "exception": false,
     "start_time": "2022-04-28T12:17:12.160287",
     "status": "completed"
    },
    "tags": []
   },
   "outputs": [],
   "source": [
    "# #hide\n",
    "# fig, ax = plt.subplots(figsize=(15, 8))\n",
    "\n",
    "# def draw_barchart(current_day):\n",
    "#     dff = g[g['day'].eq(current_day)].sort_values(by='value', ascending=True).tail(10)\n",
    "#     ax.clear()\n",
    "#     ax.barh(dff['name'], dff['value'], color=[colors[group_lk[x]] for x in dff['name']])\n",
    "#     dx = dff['value'].max() / 200\n",
    "    \n",
    "#     for i, (value, name) in enumerate(zip(dff['value'], dff['name'])):\n",
    "#         ax.text(value-dx, i,     name,           size=14, weight=600, ha='right', va='bottom')\n",
    "#         ax.text(value-dx, i-.25, group_lk[name], size=10, color='#444444', ha='right', va='baseline')\n",
    "#         ax.text(value+dx, i,     f'{value:,.0f}',  size=14, ha='left',  va='center')\n",
    "#     ax.text(1, 0.4, current_day, transform=ax.transAxes, color='#777777', size=46, ha='right', weight=800)\n",
    "#     ax.text(0, 1.06, 'Population (thousands)', transform=ax.transAxes, size=12, color='#777777')\n",
    "#     ax.xaxis.set_major_formatter(ticker.StrMethodFormatter('{x:,.0f}'))\n",
    "#     ax.xaxis.set_ticks_position('top')\n",
    "#     ax.tick_params(axis='x', colors='#777777', labelsize=12)\n",
    "#     ax.set_yticks([])\n",
    "#     ax.margins(0, 0.01)\n",
    "#     ax.grid(which='major', axis='x', linestyle='-')\n",
    "#     ax.set_axisbelow(True)\n",
    "    \n",
    "#     ax.text(0, 1.15, 'Coronavirus',\n",
    "#             transform=ax.transAxes, size=24, weight=600, ha='left', va='top')\n",
    "# #     ax.text(1, 0, 'by @pratapvardhan; credit @jburnmurdoch', transform=ax.transAxes, color='#777777', ha='right',\n",
    "# #             bbox=dict(facecolor='white', alpha=0.8, edgecolor='white'))\n",
    "#     plt.box(False)"
   ]
  },
  {
   "cell_type": "code",
   "execution_count": 42,
   "id": "sexual-wages",
   "metadata": {
    "execution": {
     "iopub.execute_input": "2022-04-28T12:17:12.299283Z",
     "iopub.status.busy": "2022-04-28T12:17:12.298557Z",
     "iopub.status.idle": "2022-04-28T12:17:12.303555Z",
     "shell.execute_reply": "2022-04-28T12:17:12.302954Z"
    },
    "papermill": {
     "duration": 0.050856,
     "end_time": "2022-04-28T12:17:12.303716",
     "exception": false,
     "start_time": "2022-04-28T12:17:12.252860",
     "status": "completed"
    },
    "tags": []
   },
   "outputs": [],
   "source": [
    "# #hide_input\n",
    "# fig, ax = plt.subplots(figsize=(15, 8))\n",
    "# animator = animation.FuncAnimation(fig, draw_barchart, frames=range(g.day.values.min(), g.day.values.max()))\n",
    "# HTML(animator.to_jshtml())\n",
    "# # or use animator.to_html5_video() or animator.save() "
   ]
  },
  {
   "cell_type": "code",
   "execution_count": null,
   "id": "australian-container",
   "metadata": {
    "papermill": {
     "duration": 0.040309,
     "end_time": "2022-04-28T12:17:12.384744",
     "exception": false,
     "start_time": "2022-04-28T12:17:12.344435",
     "status": "completed"
    },
    "tags": []
   },
   "outputs": [],
   "source": []
  },
  {
   "cell_type": "code",
   "execution_count": null,
   "id": "mediterranean-pontiac",
   "metadata": {
    "papermill": {
     "duration": 0.040789,
     "end_time": "2022-04-28T12:17:12.466346",
     "exception": false,
     "start_time": "2022-04-28T12:17:12.425557",
     "status": "completed"
    },
    "tags": []
   },
   "outputs": [],
   "source": []
  },
  {
   "cell_type": "code",
   "execution_count": null,
   "id": "aging-legislature",
   "metadata": {
    "papermill": {
     "duration": 0.040895,
     "end_time": "2022-04-28T12:17:12.549113",
     "exception": false,
     "start_time": "2022-04-28T12:17:12.508218",
     "status": "completed"
    },
    "tags": []
   },
   "outputs": [],
   "source": []
  }
 ],
 "metadata": {
  "kernelspec": {
   "display_name": "Python 3",
   "language": "python",
   "name": "python3"
  },
  "language_info": {
   "codemirror_mode": {
    "name": "ipython",
    "version": 3
   },
   "file_extension": ".py",
   "mimetype": "text/x-python",
   "name": "python",
   "nbconvert_exporter": "python",
   "pygments_lexer": "ipython3",
   "version": "3.6.15"
  },
  "papermill": {
   "duration": 7.883503,
   "end_time": "2022-04-28T12:17:13.016391",
   "environment_variables": {},
   "exception": null,
   "input_path": "2020-03-21-covid19exp.ipynb",
   "output_path": "2020-03-21-covid19exp.ipynb",
   "parameters": {},
   "start_time": "2022-04-28T12:17:05.132888",
   "version": "2.0.0"
  }
 },
 "nbformat": 4,
 "nbformat_minor": 5
}