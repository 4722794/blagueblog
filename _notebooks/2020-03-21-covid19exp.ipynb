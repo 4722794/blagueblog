{
 "cells": [
  {
   "cell_type": "markdown",
   "id": "muslim-click",
   "metadata": {
    "papermill": {
     "duration": 0.040729,
     "end_time": "2022-03-17T12:15:14.966614",
     "exception": false,
     "start_time": "2022-03-17T12:15:14.925885",
     "status": "completed"
    },
    "tags": []
   },
   "source": [
    "# COVID-19 Case Race\n",
    "> A race chart to see rising cases around the world\n",
    "\n",
    "- author: Hargun Oberoi\n",
    "- image: images/covid-overview.png\n",
    "- hide: false\n",
    "- badges: false"
   ]
  },
  {
   "cell_type": "code",
   "execution_count": 1,
   "id": "proof-material",
   "metadata": {
    "execution": {
     "iopub.execute_input": "2022-03-17T12:15:15.050138Z",
     "iopub.status.busy": "2022-03-17T12:15:15.049460Z",
     "iopub.status.idle": "2022-03-17T12:15:15.445755Z",
     "shell.execute_reply": "2022-03-17T12:15:15.444903Z"
    },
    "papermill": {
     "duration": 0.442791,
     "end_time": "2022-03-17T12:15:15.445924",
     "exception": false,
     "start_time": "2022-03-17T12:15:15.003133",
     "status": "completed"
    },
    "tags": []
   },
   "outputs": [],
   "source": [
    "#hide\n",
    "import numpy as np\n",
    "import pandas as pd\n",
    "from jinja2 import Template\n",
    "from IPython.display import HTML"
   ]
  },
  {
   "cell_type": "code",
   "execution_count": 2,
   "id": "developed-terminology",
   "metadata": {
    "execution": {
     "iopub.execute_input": "2022-03-17T12:15:15.523804Z",
     "iopub.status.busy": "2022-03-17T12:15:15.523185Z",
     "iopub.status.idle": "2022-03-17T12:15:15.525601Z",
     "shell.execute_reply": "2022-03-17T12:15:15.525090Z"
    },
    "papermill": {
     "duration": 0.042222,
     "end_time": "2022-03-17T12:15:15.525722",
     "exception": false,
     "start_time": "2022-03-17T12:15:15.483500",
     "status": "completed"
    },
    "tags": []
   },
   "outputs": [],
   "source": [
    "#hide\n",
    "\n",
    "# FETCH\n",
    "base_url = 'https://raw.githubusercontent.com/pratapvardhan/notebooks/master/covid19/'\n",
    "paths = {\n",
    "    'mapping': base_url + 'mapping_countries.csv',\n",
    "    'overview': base_url + 'overview.tpl'\n",
    "}"
   ]
  },
  {
   "cell_type": "code",
   "execution_count": 3,
   "id": "dynamic-saver",
   "metadata": {
    "execution": {
     "iopub.execute_input": "2022-03-17T12:15:15.608494Z",
     "iopub.status.busy": "2022-03-17T12:15:15.607858Z",
     "iopub.status.idle": "2022-03-17T12:15:15.611576Z",
     "shell.execute_reply": "2022-03-17T12:15:15.611063Z"
    },
    "papermill": {
     "duration": 0.050455,
     "end_time": "2022-03-17T12:15:15.611694",
     "exception": false,
     "start_time": "2022-03-17T12:15:15.561239",
     "status": "completed"
    },
    "tags": []
   },
   "outputs": [
    {
     "data": {
      "text/plain": [
       "'https://raw.githubusercontent.com/pratapvardhan/notebooks/master/covid19/mapping_countries.csv'"
      ]
     },
     "execution_count": 3,
     "metadata": {},
     "output_type": "execute_result"
    }
   ],
   "source": [
    "#hide\n",
    "paths['mapping']"
   ]
  },
  {
   "cell_type": "code",
   "execution_count": 4,
   "id": "urban-software",
   "metadata": {
    "execution": {
     "iopub.execute_input": "2022-03-17T12:15:15.685266Z",
     "iopub.status.busy": "2022-03-17T12:15:15.684576Z",
     "iopub.status.idle": "2022-03-17T12:15:15.686982Z",
     "shell.execute_reply": "2022-03-17T12:15:15.686495Z"
    },
    "papermill": {
     "duration": 0.041394,
     "end_time": "2022-03-17T12:15:15.687103",
     "exception": false,
     "start_time": "2022-03-17T12:15:15.645709",
     "status": "completed"
    },
    "tags": []
   },
   "outputs": [],
   "source": [
    "#hide\n",
    "def get_mappings(url):\n",
    "    df = pd.read_csv(url)\n",
    "    return {\n",
    "        'df': df,\n",
    "        'replace.country': dict(df.dropna(subset=['Name']).set_index('Country')['Name']),\n",
    "        'map.continent': dict(df.set_index('Name')['Continent'])\n",
    "    }"
   ]
  },
  {
   "cell_type": "code",
   "execution_count": 5,
   "id": "intimate-machinery",
   "metadata": {
    "execution": {
     "iopub.execute_input": "2022-03-17T12:15:15.762380Z",
     "iopub.status.busy": "2022-03-17T12:15:15.761649Z",
     "iopub.status.idle": "2022-03-17T12:15:15.803934Z",
     "shell.execute_reply": "2022-03-17T12:15:15.803233Z"
    },
    "papermill": {
     "duration": 0.081538,
     "end_time": "2022-03-17T12:15:15.804083",
     "exception": false,
     "start_time": "2022-03-17T12:15:15.722545",
     "status": "completed"
    },
    "tags": []
   },
   "outputs": [],
   "source": [
    "#hide\n",
    "mapping = get_mappings(paths['mapping'])"
   ]
  },
  {
   "cell_type": "code",
   "execution_count": 6,
   "id": "certified-tactics",
   "metadata": {
    "execution": {
     "iopub.execute_input": "2022-03-17T12:15:15.887120Z",
     "iopub.status.busy": "2022-03-17T12:15:15.886410Z",
     "iopub.status.idle": "2022-03-17T12:15:15.888633Z",
     "shell.execute_reply": "2022-03-17T12:15:15.889156Z"
    },
    "papermill": {
     "duration": 0.047935,
     "end_time": "2022-03-17T12:15:15.889310",
     "exception": false,
     "start_time": "2022-03-17T12:15:15.841375",
     "status": "completed"
    },
    "tags": []
   },
   "outputs": [],
   "source": [
    "#hide\n",
    "def get_template(path):\n",
    "    from urllib.parse import urlparse\n",
    "    if bool(urlparse(path).netloc):\n",
    "        from urllib.request import urlopen\n",
    "        return urlopen(path).read().decode('utf8')\n",
    "    return open(path).read()"
   ]
  },
  {
   "cell_type": "code",
   "execution_count": 7,
   "id": "realistic-blast",
   "metadata": {
    "execution": {
     "iopub.execute_input": "2022-03-17T12:15:15.962394Z",
     "iopub.status.busy": "2022-03-17T12:15:15.961807Z",
     "iopub.status.idle": "2022-03-17T12:15:15.965515Z",
     "shell.execute_reply": "2022-03-17T12:15:15.965973Z"
    },
    "papermill": {
     "duration": 0.042788,
     "end_time": "2022-03-17T12:15:15.966102",
     "exception": false,
     "start_time": "2022-03-17T12:15:15.923314",
     "status": "completed"
    },
    "tags": []
   },
   "outputs": [],
   "source": [
    "#hide\n",
    "def get_frame(name):\n",
    "    url = (\n",
    "        'https://raw.githubusercontent.com/CSSEGISandData/COVID-19/master/csse_covid_19_data/'\n",
    "        f'csse_covid_19_time_series/time_series_covid19_{name}_global.csv')\n",
    "    df = pd.read_csv(url)\n",
    "    # rename countries\n",
    "    df['Country/Region'] = df['Country/Region'].replace(mapping['replace.country'])\n",
    "    return df"
   ]
  },
  {
   "cell_type": "code",
   "execution_count": 8,
   "id": "affiliated-characterization",
   "metadata": {
    "execution": {
     "iopub.execute_input": "2022-03-17T12:15:16.040227Z",
     "iopub.status.busy": "2022-03-17T12:15:16.039634Z",
     "iopub.status.idle": "2022-03-17T12:15:16.041925Z",
     "shell.execute_reply": "2022-03-17T12:15:16.042436Z"
    },
    "papermill": {
     "duration": 0.041983,
     "end_time": "2022-03-17T12:15:16.042568",
     "exception": false,
     "start_time": "2022-03-17T12:15:16.000585",
     "status": "completed"
    },
    "tags": []
   },
   "outputs": [],
   "source": [
    "#hide\n",
    "def get_dates(df):\n",
    "    dt_cols = df.columns[~df.columns.isin(['Province/State', 'Country/Region', 'Lat', 'Long'])]\n",
    "    LAST_DATE_I = -1\n",
    "    # sometimes last column may be empty, then go backwards\n",
    "    for i in range(-1, -len(dt_cols), -1):\n",
    "        if not df[dt_cols[i]].fillna(0).eq(0).all():\n",
    "            LAST_DATE_I = i\n",
    "            break\n",
    "    return LAST_DATE_I, dt_cols"
   ]
  },
  {
   "cell_type": "code",
   "execution_count": 9,
   "id": "recent-optimization",
   "metadata": {
    "execution": {
     "iopub.execute_input": "2022-03-17T12:15:16.125357Z",
     "iopub.status.busy": "2022-03-17T12:15:16.124629Z",
     "iopub.status.idle": "2022-03-17T12:15:16.518971Z",
     "shell.execute_reply": "2022-03-17T12:15:16.518444Z"
    },
    "papermill": {
     "duration": 0.435733,
     "end_time": "2022-03-17T12:15:16.519119",
     "exception": false,
     "start_time": "2022-03-17T12:15:16.083386",
     "status": "completed"
    },
    "tags": []
   },
   "outputs": [],
   "source": [
    "#hide\n",
    "COL_REGION = 'Country/Region'\n",
    "# Confirmed, Recovered, Deaths\n",
    "df = get_frame('confirmed')\n",
    "# dft_: timeseries, dfc_: today country agg\n",
    "dft_cases = df\n",
    "dft_deaths = get_frame('deaths')\n",
    "dft_recovered = get_frame('recovered')\n",
    "LAST_DATE_I, dt_cols = get_dates(df)"
   ]
  },
  {
   "cell_type": "code",
   "execution_count": 10,
   "id": "absolute-copper",
   "metadata": {
    "execution": {
     "iopub.execute_input": "2022-03-17T12:15:16.594193Z",
     "iopub.status.busy": "2022-03-17T12:15:16.593597Z",
     "iopub.status.idle": "2022-03-17T12:15:16.596360Z",
     "shell.execute_reply": "2022-03-17T12:15:16.595858Z"
    },
    "papermill": {
     "duration": 0.042731,
     "end_time": "2022-03-17T12:15:16.596478",
     "exception": false,
     "start_time": "2022-03-17T12:15:16.553747",
     "status": "completed"
    },
    "tags": []
   },
   "outputs": [],
   "source": [
    "#hide\n",
    "LAST_DATE_I, dt_cols = get_dates(df)\n",
    "dt_today =dt_cols[LAST_DATE_I]\n",
    "# dt_5day = dt_cols[LAST_DATE_I - 5]\n",
    "dt_yday = dt_cols[LAST_DATE_I - 1]"
   ]
  },
  {
   "cell_type": "code",
   "execution_count": 11,
   "id": "restricted-sheriff",
   "metadata": {
    "execution": {
     "iopub.execute_input": "2022-03-17T12:15:16.670229Z",
     "iopub.status.busy": "2022-03-17T12:15:16.669611Z",
     "iopub.status.idle": "2022-03-17T12:15:16.677582Z",
     "shell.execute_reply": "2022-03-17T12:15:16.678254Z"
    },
    "papermill": {
     "duration": 0.047684,
     "end_time": "2022-03-17T12:15:16.678382",
     "exception": false,
     "start_time": "2022-03-17T12:15:16.630698",
     "status": "completed"
    },
    "tags": []
   },
   "outputs": [],
   "source": [
    "#hide\n",
    "dfc_cases = dft_cases.groupby(COL_REGION)[dt_today].sum()\n",
    "dfc_deaths = dft_deaths.groupby(COL_REGION)[dt_today].sum()\n",
    "# dfp_cases = dft_cases.groupby(COL_REGION)[dt_5day].sum()\n",
    "# dfp_deaths = dft_deaths.groupby(COL_REGION)[dt_5day].sum()\n",
    "dfp_cases = dft_cases.groupby(COL_REGION)[dt_yday].sum()\n",
    "dfp_deaths = dft_deaths.groupby(COL_REGION)[dt_yday].sum()"
   ]
  },
  {
   "cell_type": "code",
   "execution_count": 12,
   "id": "deluxe-hepatitis",
   "metadata": {
    "execution": {
     "iopub.execute_input": "2022-03-17T12:15:16.755004Z",
     "iopub.status.busy": "2022-03-17T12:15:16.754331Z",
     "iopub.status.idle": "2022-03-17T12:15:16.759348Z",
     "shell.execute_reply": "2022-03-17T12:15:16.759862Z"
    },
    "papermill": {
     "duration": 0.0467,
     "end_time": "2022-03-17T12:15:16.759996",
     "exception": false,
     "start_time": "2022-03-17T12:15:16.713296",
     "status": "completed"
    },
    "tags": []
   },
   "outputs": [],
   "source": [
    "#hide\n",
    "df_table = (pd.DataFrame(dict(Cases = dfc_cases, Deaths = dfc_deaths, PCases = dfp_cases, PDeaths = dfp_deaths))\n",
    "            .sort_values(by = ['Cases','Deaths'], ascending = [False, False])\n",
    "            .reset_index())"
   ]
  },
  {
   "cell_type": "code",
   "execution_count": 13,
   "id": "educational-chancellor",
   "metadata": {
    "execution": {
     "iopub.execute_input": "2022-03-17T12:15:16.849270Z",
     "iopub.status.busy": "2022-03-17T12:15:16.848628Z",
     "iopub.status.idle": "2022-03-17T12:15:16.857412Z",
     "shell.execute_reply": "2022-03-17T12:15:16.856899Z"
    },
    "papermill": {
     "duration": 0.062115,
     "end_time": "2022-03-17T12:15:16.857534",
     "exception": false,
     "start_time": "2022-03-17T12:15:16.795419",
     "status": "completed"
    },
    "tags": []
   },
   "outputs": [
    {
     "data": {
      "text/html": [
       "<div>\n",
       "<style scoped>\n",
       "    .dataframe tbody tr th:only-of-type {\n",
       "        vertical-align: middle;\n",
       "    }\n",
       "\n",
       "    .dataframe tbody tr th {\n",
       "        vertical-align: top;\n",
       "    }\n",
       "\n",
       "    .dataframe thead th {\n",
       "        text-align: right;\n",
       "    }\n",
       "</style>\n",
       "<table border=\"1\" class=\"dataframe\">\n",
       "  <thead>\n",
       "    <tr style=\"text-align: right;\">\n",
       "      <th></th>\n",
       "      <th>Country/Region</th>\n",
       "      <th>Cases</th>\n",
       "      <th>Deaths</th>\n",
       "      <th>PCases</th>\n",
       "      <th>PDeaths</th>\n",
       "      <th>Cases (+)</th>\n",
       "      <th>Deaths (+)</th>\n",
       "      <th>Fatality Rate</th>\n",
       "      <th>Continent</th>\n",
       "    </tr>\n",
       "  </thead>\n",
       "  <tbody>\n",
       "    <tr>\n",
       "      <th>0</th>\n",
       "      <td>US</td>\n",
       "      <td>79631708</td>\n",
       "      <td>968329</td>\n",
       "      <td>79586694</td>\n",
       "      <td>966386</td>\n",
       "      <td>45014</td>\n",
       "      <td>1943</td>\n",
       "      <td>1.22</td>\n",
       "      <td>North America</td>\n",
       "    </tr>\n",
       "    <tr>\n",
       "      <th>1</th>\n",
       "      <td>India</td>\n",
       "      <td>43001477</td>\n",
       "      <td>516132</td>\n",
       "      <td>42998938</td>\n",
       "      <td>516072</td>\n",
       "      <td>2539</td>\n",
       "      <td>60</td>\n",
       "      <td>1.20</td>\n",
       "      <td>Asia</td>\n",
       "    </tr>\n",
       "    <tr>\n",
       "      <th>2</th>\n",
       "      <td>Brazil</td>\n",
       "      <td>29488777</td>\n",
       "      <td>656231</td>\n",
       "      <td>29441039</td>\n",
       "      <td>655878</td>\n",
       "      <td>47738</td>\n",
       "      <td>353</td>\n",
       "      <td>2.23</td>\n",
       "      <td>South America</td>\n",
       "    </tr>\n",
       "    <tr>\n",
       "      <th>3</th>\n",
       "      <td>France</td>\n",
       "      <td>23943801</td>\n",
       "      <td>141640</td>\n",
       "      <td>23834842</td>\n",
       "      <td>141467</td>\n",
       "      <td>108959</td>\n",
       "      <td>173</td>\n",
       "      <td>0.59</td>\n",
       "      <td>Europe</td>\n",
       "    </tr>\n",
       "    <tr>\n",
       "      <th>4</th>\n",
       "      <td>United Kingdom</td>\n",
       "      <td>20059641</td>\n",
       "      <td>163833</td>\n",
       "      <td>19965698</td>\n",
       "      <td>163680</td>\n",
       "      <td>93943</td>\n",
       "      <td>153</td>\n",
       "      <td>0.82</td>\n",
       "      <td>Europe</td>\n",
       "    </tr>\n",
       "  </tbody>\n",
       "</table>\n",
       "</div>"
      ],
      "text/plain": [
       "   Country/Region     Cases  Deaths    PCases  PDeaths  Cases (+)  Deaths (+)  \\\n",
       "0              US  79631708  968329  79586694   966386      45014        1943   \n",
       "1           India  43001477  516132  42998938   516072       2539          60   \n",
       "2          Brazil  29488777  656231  29441039   655878      47738         353   \n",
       "3          France  23943801  141640  23834842   141467     108959         173   \n",
       "4  United Kingdom  20059641  163833  19965698   163680      93943         153   \n",
       "\n",
       "   Fatality Rate      Continent  \n",
       "0           1.22  North America  \n",
       "1           1.20           Asia  \n",
       "2           2.23  South America  \n",
       "3           0.59         Europe  \n",
       "4           0.82         Europe  "
      ]
     },
     "execution_count": 13,
     "metadata": {},
     "output_type": "execute_result"
    }
   ],
   "source": [
    "#hide\n",
    "for c in 'Cases, Deaths'.split(', '):\n",
    "    df_table[f'{c} (+)'] = (df_table[c] - df_table[f'P{c}']).clip(0)\n",
    "    #Clip ça veut dire, les chiffres negatif sont interdit\n",
    "df_table['Fatality Rate'] = (100* df_table['Deaths']/ df_table['Cases']).round(2)\n",
    "df_table['Continent'] = df_table['Country/Region'].map(mapping['map.continent'])\n",
    "df_table.head(5)"
   ]
  },
  {
   "cell_type": "code",
   "execution_count": 14,
   "id": "aboriginal-bulgaria",
   "metadata": {
    "execution": {
     "iopub.execute_input": "2022-03-17T12:15:16.933529Z",
     "iopub.status.busy": "2022-03-17T12:15:16.932932Z",
     "iopub.status.idle": "2022-03-17T12:15:16.935535Z",
     "shell.execute_reply": "2022-03-17T12:15:16.934957Z"
    },
    "papermill": {
     "duration": 0.042767,
     "end_time": "2022-03-17T12:15:16.935651",
     "exception": false,
     "start_time": "2022-03-17T12:15:16.892884",
     "status": "completed"
    },
    "tags": []
   },
   "outputs": [],
   "source": [
    "#hide\n",
    "#delete problematic countries from table\n",
    "df_table = df_table[~df_table['Country/Region'].isin(['Cape Verde', 'Cruise Ship', 'Kosovo'])]"
   ]
  },
  {
   "cell_type": "code",
   "execution_count": 15,
   "id": "fantastic-effect",
   "metadata": {
    "execution": {
     "iopub.execute_input": "2022-03-17T12:15:17.011749Z",
     "iopub.status.busy": "2022-03-17T12:15:17.011144Z",
     "iopub.status.idle": "2022-03-17T12:15:17.031578Z",
     "shell.execute_reply": "2022-03-17T12:15:17.031086Z"
    },
    "papermill": {
     "duration": 0.062007,
     "end_time": "2022-03-17T12:15:17.031699",
     "exception": false,
     "start_time": "2022-03-17T12:15:16.969692",
     "status": "completed"
    },
    "tags": []
   },
   "outputs": [
    {
     "data": {
      "text/html": [
       "<div>\n",
       "<style scoped>\n",
       "    .dataframe tbody tr th:only-of-type {\n",
       "        vertical-align: middle;\n",
       "    }\n",
       "\n",
       "    .dataframe tbody tr th {\n",
       "        vertical-align: top;\n",
       "    }\n",
       "\n",
       "    .dataframe thead th {\n",
       "        text-align: right;\n",
       "    }\n",
       "</style>\n",
       "<table border=\"1\" class=\"dataframe\">\n",
       "  <thead>\n",
       "    <tr style=\"text-align: right;\">\n",
       "      <th></th>\n",
       "      <th>Country/Region</th>\n",
       "      <th>Cases</th>\n",
       "      <th>Deaths</th>\n",
       "      <th>PCases</th>\n",
       "      <th>PDeaths</th>\n",
       "      <th>Cases (+)</th>\n",
       "      <th>Deaths (+)</th>\n",
       "      <th>Fatality Rate</th>\n",
       "      <th>Continent</th>\n",
       "    </tr>\n",
       "  </thead>\n",
       "  <tbody>\n",
       "    <tr>\n",
       "      <th>0</th>\n",
       "      <td>US</td>\n",
       "      <td>79631708</td>\n",
       "      <td>968329</td>\n",
       "      <td>79586694</td>\n",
       "      <td>966386</td>\n",
       "      <td>45014</td>\n",
       "      <td>1943</td>\n",
       "      <td>1.2</td>\n",
       "      <td>North America</td>\n",
       "    </tr>\n",
       "    <tr>\n",
       "      <th>1</th>\n",
       "      <td>India</td>\n",
       "      <td>43001477</td>\n",
       "      <td>516132</td>\n",
       "      <td>42998938</td>\n",
       "      <td>516072</td>\n",
       "      <td>2539</td>\n",
       "      <td>60</td>\n",
       "      <td>1.2</td>\n",
       "      <td>Asia</td>\n",
       "    </tr>\n",
       "    <tr>\n",
       "      <th>2</th>\n",
       "      <td>Brazil</td>\n",
       "      <td>29488777</td>\n",
       "      <td>656231</td>\n",
       "      <td>29441039</td>\n",
       "      <td>655878</td>\n",
       "      <td>47738</td>\n",
       "      <td>353</td>\n",
       "      <td>2.2</td>\n",
       "      <td>South America</td>\n",
       "    </tr>\n",
       "    <tr>\n",
       "      <th>3</th>\n",
       "      <td>France</td>\n",
       "      <td>23943801</td>\n",
       "      <td>141640</td>\n",
       "      <td>23834842</td>\n",
       "      <td>141467</td>\n",
       "      <td>108959</td>\n",
       "      <td>173</td>\n",
       "      <td>0.6</td>\n",
       "      <td>Europe</td>\n",
       "    </tr>\n",
       "    <tr>\n",
       "      <th>4</th>\n",
       "      <td>United Kingdom</td>\n",
       "      <td>20059641</td>\n",
       "      <td>163833</td>\n",
       "      <td>19965698</td>\n",
       "      <td>163680</td>\n",
       "      <td>93943</td>\n",
       "      <td>153</td>\n",
       "      <td>0.8</td>\n",
       "      <td>Europe</td>\n",
       "    </tr>\n",
       "  </tbody>\n",
       "</table>\n",
       "</div>"
      ],
      "text/plain": [
       "   Country/Region     Cases  Deaths    PCases  PDeaths  Cases (+)  Deaths (+)  \\\n",
       "0              US  79631708  968329  79586694   966386      45014        1943   \n",
       "1           India  43001477  516132  42998938   516072       2539          60   \n",
       "2          Brazil  29488777  656231  29441039   655878      47738         353   \n",
       "3          France  23943801  141640  23834842   141467     108959         173   \n",
       "4  United Kingdom  20059641  163833  19965698   163680      93943         153   \n",
       "\n",
       "   Fatality Rate      Continent  \n",
       "0            1.2  North America  \n",
       "1            1.2           Asia  \n",
       "2            2.2  South America  \n",
       "3            0.6         Europe  \n",
       "4            0.8         Europe  "
      ]
     },
     "execution_count": 15,
     "metadata": {},
     "output_type": "execute_result"
    }
   ],
   "source": [
    "#hide\n",
    "df_table = (pd.DataFrame(dict(Cases=dfc_cases, Deaths=dfc_deaths, PCases=dfp_cases, PDeaths=dfp_deaths))\n",
    "             .sort_values(by=['Cases', 'Deaths'], ascending=[False, False])\n",
    "             .reset_index())\n",
    "df_table.rename(columns={'index': 'Country/Region'}, inplace=True)\n",
    "for c in 'Cases, Deaths'.split(', '):\n",
    "    df_table[f'{c} (+)'] = (df_table[c] - df_table[f'P{c}']).clip(0)  # DATA BUG\n",
    "df_table['Fatality Rate'] = (100 * df_table['Deaths'] / df_table['Cases']).round(1)\n",
    "df_table['Continent'] = df_table['Country/Region'].map(mapping['map.continent'])\n",
    "df_table.head(5)"
   ]
  },
  {
   "cell_type": "code",
   "execution_count": 16,
   "id": "fewer-occasion",
   "metadata": {
    "execution": {
     "iopub.execute_input": "2022-03-17T12:15:17.107922Z",
     "iopub.status.busy": "2022-03-17T12:15:17.107108Z",
     "iopub.status.idle": "2022-03-17T12:15:17.110038Z",
     "shell.execute_reply": "2022-03-17T12:15:17.109544Z"
    },
    "papermill": {
     "duration": 0.043074,
     "end_time": "2022-03-17T12:15:17.110152",
     "exception": false,
     "start_time": "2022-03-17T12:15:17.067078",
     "status": "completed"
    },
    "tags": []
   },
   "outputs": [],
   "source": [
    "#hide\n",
    "#delete problematic countries from table\n",
    "df_table = df_table[~df_table['Country/Region'].isin(['Cape Verde', 'Cruise Ship', 'Kosovo'])]"
   ]
  },
  {
   "cell_type": "code",
   "execution_count": 17,
   "id": "related-center",
   "metadata": {
    "execution": {
     "iopub.execute_input": "2022-03-17T12:15:17.198967Z",
     "iopub.status.busy": "2022-03-17T12:15:17.198283Z",
     "iopub.status.idle": "2022-03-17T12:15:17.200895Z",
     "shell.execute_reply": "2022-03-17T12:15:17.200373Z"
    },
    "papermill": {
     "duration": 0.056666,
     "end_time": "2022-03-17T12:15:17.201020",
     "exception": false,
     "start_time": "2022-03-17T12:15:17.144354",
     "status": "completed"
    },
    "tags": []
   },
   "outputs": [],
   "source": [
    "#hide\n",
    "metrics = [df_table.columns[index] for index in [1,2,5,6]]\n",
    "# s_china = df_table[df_table['Country/Region'].eq('China')][metrics].sum().add_prefix('China ')\n",
    "s_us = df_table[df_table['Country/Region'].eq('US')][metrics].sum().add_prefix('US ')\n",
    "s_eu = df_table[df_table['Continent'].eq('Europe')][metrics].sum().add_prefix('EU ')\n",
    "s_ind = df_table[df_table['Country/Region'].eq('India')][metrics].sum().add_prefix('India ')\n",
    "summary = {'updated': pd.to_datetime(dt_today), 'since': pd.to_datetime(dt_yday)}\n",
    "summary = {'updated': pd.to_datetime(dt_today), 'since': pd.to_datetime(dt_yday)}\n",
    "summary = {**summary, **df_table[metrics].sum(), **s_ind, **s_us, **s_eu}"
   ]
  },
  {
   "cell_type": "code",
   "execution_count": 18,
   "id": "engaging-syndrome",
   "metadata": {
    "execution": {
     "iopub.execute_input": "2022-03-17T12:15:17.276545Z",
     "iopub.status.busy": "2022-03-17T12:15:17.275965Z",
     "iopub.status.idle": "2022-03-17T12:15:17.293925Z",
     "shell.execute_reply": "2022-03-17T12:15:17.293384Z"
    },
    "papermill": {
     "duration": 0.056303,
     "end_time": "2022-03-17T12:15:17.294057",
     "exception": false,
     "start_time": "2022-03-17T12:15:17.237754",
     "status": "completed"
    },
    "tags": []
   },
   "outputs": [],
   "source": [
    "#hide\n",
    "dft_ct_new_cases = dft_cases.groupby(COL_REGION)[dt_cols].sum().diff(axis=1).fillna(0).astype(int)"
   ]
  },
  {
   "cell_type": "code",
   "execution_count": 19,
   "id": "neutral-assignment",
   "metadata": {
    "execution": {
     "iopub.execute_input": "2022-03-17T12:15:17.375380Z",
     "iopub.status.busy": "2022-03-17T12:15:17.374737Z",
     "iopub.status.idle": "2022-03-17T12:15:17.377319Z",
     "shell.execute_reply": "2022-03-17T12:15:17.376663Z"
    },
    "papermill": {
     "duration": 0.046741,
     "end_time": "2022-03-17T12:15:17.377462",
     "exception": false,
     "start_time": "2022-03-17T12:15:17.330721",
     "status": "completed"
    },
    "tags": []
   },
   "outputs": [],
   "source": [
    "#hide\n",
    "everydaycases = dft_ct_new_cases.cumsum(axis=1)"
   ]
  },
  {
   "cell_type": "code",
   "execution_count": 20,
   "id": "parliamentary-calgary",
   "metadata": {
    "execution": {
     "iopub.execute_input": "2022-03-17T12:15:17.458071Z",
     "iopub.status.busy": "2022-03-17T12:15:17.457355Z",
     "iopub.status.idle": "2022-03-17T12:15:18.150690Z",
     "shell.execute_reply": "2022-03-17T12:15:18.150150Z"
    },
    "papermill": {
     "duration": 0.735353,
     "end_time": "2022-03-17T12:15:18.150824",
     "exception": false,
     "start_time": "2022-03-17T12:15:17.415471",
     "status": "completed"
    },
    "tags": []
   },
   "outputs": [],
   "source": [
    "#hide\n",
    "import pandas as pd\n",
    "import matplotlib.pyplot as plt\n",
    "import matplotlib.ticker as ticker\n",
    "import matplotlib.animation as animation\n",
    "from IPython.display import HTML"
   ]
  },
  {
   "cell_type": "code",
   "execution_count": 21,
   "id": "lasting-extraction",
   "metadata": {
    "execution": {
     "iopub.execute_input": "2022-03-17T12:15:18.227250Z",
     "iopub.status.busy": "2022-03-17T12:15:18.226496Z",
     "iopub.status.idle": "2022-03-17T12:15:18.233401Z",
     "shell.execute_reply": "2022-03-17T12:15:18.232854Z"
    },
    "papermill": {
     "duration": 0.047882,
     "end_time": "2022-03-17T12:15:18.233521",
     "exception": false,
     "start_time": "2022-03-17T12:15:18.185639",
     "status": "completed"
    },
    "tags": []
   },
   "outputs": [],
   "source": [
    "#hide\n",
    "t = everydaycases.stack()"
   ]
  },
  {
   "cell_type": "code",
   "execution_count": 22,
   "id": "premier-sleeve",
   "metadata": {
    "execution": {
     "iopub.execute_input": "2022-03-17T12:15:18.307309Z",
     "iopub.status.busy": "2022-03-17T12:15:18.306708Z",
     "iopub.status.idle": "2022-03-17T12:15:18.317350Z",
     "shell.execute_reply": "2022-03-17T12:15:18.316815Z"
    },
    "papermill": {
     "duration": 0.04911,
     "end_time": "2022-03-17T12:15:18.317470",
     "exception": false,
     "start_time": "2022-03-17T12:15:18.268360",
     "status": "completed"
    },
    "tags": []
   },
   "outputs": [],
   "source": [
    "#hide\n",
    "g = t.reset_index(['Country/Region'])"
   ]
  },
  {
   "cell_type": "code",
   "execution_count": 23,
   "id": "distributed-pittsburgh",
   "metadata": {
    "execution": {
     "iopub.execute_input": "2022-03-17T12:15:18.390506Z",
     "iopub.status.busy": "2022-03-17T12:15:18.389850Z",
     "iopub.status.idle": "2022-03-17T12:15:18.392435Z",
     "shell.execute_reply": "2022-03-17T12:15:18.391928Z"
    },
    "papermill": {
     "duration": 0.040428,
     "end_time": "2022-03-17T12:15:18.392554",
     "exception": false,
     "start_time": "2022-03-17T12:15:18.352126",
     "status": "completed"
    },
    "tags": []
   },
   "outputs": [],
   "source": [
    "#hide\n",
    "g.index.name = 'date'"
   ]
  },
  {
   "cell_type": "code",
   "execution_count": 24,
   "id": "naked-donor",
   "metadata": {
    "execution": {
     "iopub.execute_input": "2022-03-17T12:15:18.468851Z",
     "iopub.status.busy": "2022-03-17T12:15:18.468257Z",
     "iopub.status.idle": "2022-03-17T12:15:18.470407Z",
     "shell.execute_reply": "2022-03-17T12:15:18.471035Z"
    },
    "papermill": {
     "duration": 0.042057,
     "end_time": "2022-03-17T12:15:18.471171",
     "exception": false,
     "start_time": "2022-03-17T12:15:18.429114",
     "status": "completed"
    },
    "tags": []
   },
   "outputs": [],
   "source": [
    "# #hide\n",
    "# g = g.reset_index(['date'])"
   ]
  },
  {
   "cell_type": "code",
   "execution_count": 25,
   "id": "incomplete-mustang",
   "metadata": {
    "execution": {
     "iopub.execute_input": "2022-03-17T12:15:18.546164Z",
     "iopub.status.busy": "2022-03-17T12:15:18.545568Z",
     "iopub.status.idle": "2022-03-17T12:15:18.548200Z",
     "shell.execute_reply": "2022-03-17T12:15:18.547698Z"
    },
    "papermill": {
     "duration": 0.041588,
     "end_time": "2022-03-17T12:15:18.548321",
     "exception": false,
     "start_time": "2022-03-17T12:15:18.506733",
     "status": "completed"
    },
    "tags": []
   },
   "outputs": [],
   "source": [
    "#hide\n",
    "# g.head()"
   ]
  },
  {
   "cell_type": "code",
   "execution_count": 26,
   "id": "specific-kruger",
   "metadata": {
    "execution": {
     "iopub.execute_input": "2022-03-17T12:15:18.622722Z",
     "iopub.status.busy": "2022-03-17T12:15:18.621908Z",
     "iopub.status.idle": "2022-03-17T12:15:18.624657Z",
     "shell.execute_reply": "2022-03-17T12:15:18.624071Z"
    },
    "papermill": {
     "duration": 0.041309,
     "end_time": "2022-03-17T12:15:18.624776",
     "exception": false,
     "start_time": "2022-03-17T12:15:18.583467",
     "status": "completed"
    },
    "tags": []
   },
   "outputs": [],
   "source": [
    "#hide\n",
    "# g.columns = ['date','country','cases']"
   ]
  },
  {
   "cell_type": "code",
   "execution_count": 27,
   "id": "tender-conversion",
   "metadata": {
    "execution": {
     "iopub.execute_input": "2022-03-17T12:15:18.698694Z",
     "iopub.status.busy": "2022-03-17T12:15:18.698057Z",
     "iopub.status.idle": "2022-03-17T12:15:18.700358Z",
     "shell.execute_reply": "2022-03-17T12:15:18.700961Z"
    },
    "papermill": {
     "duration": 0.041007,
     "end_time": "2022-03-17T12:15:18.701091",
     "exception": false,
     "start_time": "2022-03-17T12:15:18.660084",
     "status": "completed"
    },
    "tags": []
   },
   "outputs": [],
   "source": [
    "#hide\n",
    "# g['continent'] = g.country"
   ]
  },
  {
   "cell_type": "code",
   "execution_count": 28,
   "id": "substantial-wilderness",
   "metadata": {
    "execution": {
     "iopub.execute_input": "2022-03-17T12:15:18.779124Z",
     "iopub.status.busy": "2022-03-17T12:15:18.778420Z",
     "iopub.status.idle": "2022-03-17T12:15:18.781083Z",
     "shell.execute_reply": "2022-03-17T12:15:18.780492Z"
    },
    "papermill": {
     "duration": 0.041771,
     "end_time": "2022-03-17T12:15:18.781207",
     "exception": false,
     "start_time": "2022-03-17T12:15:18.739436",
     "status": "completed"
    },
    "tags": []
   },
   "outputs": [],
   "source": [
    "#hide\n",
    "# cols = list(g.columns.values)"
   ]
  },
  {
   "cell_type": "code",
   "execution_count": 29,
   "id": "solved-farming",
   "metadata": {
    "execution": {
     "iopub.execute_input": "2022-03-17T12:15:18.858749Z",
     "iopub.status.busy": "2022-03-17T12:15:18.857945Z",
     "iopub.status.idle": "2022-03-17T12:15:18.861692Z",
     "shell.execute_reply": "2022-03-17T12:15:18.862180Z"
    },
    "papermill": {
     "duration": 0.044423,
     "end_time": "2022-03-17T12:15:18.862327",
     "exception": false,
     "start_time": "2022-03-17T12:15:18.817904",
     "status": "completed"
    },
    "tags": []
   },
   "outputs": [],
   "source": [
    "#hide\n",
    "# cols.insert(0, cols.pop())"
   ]
  },
  {
   "cell_type": "code",
   "execution_count": 30,
   "id": "executed-adoption",
   "metadata": {
    "execution": {
     "iopub.execute_input": "2022-03-17T12:15:18.943508Z",
     "iopub.status.busy": "2022-03-17T12:15:18.942879Z",
     "iopub.status.idle": "2022-03-17T12:15:18.945349Z",
     "shell.execute_reply": "2022-03-17T12:15:18.944805Z"
    },
    "papermill": {
     "duration": 0.045658,
     "end_time": "2022-03-17T12:15:18.945481",
     "exception": false,
     "start_time": "2022-03-17T12:15:18.899823",
     "status": "completed"
    },
    "tags": []
   },
   "outputs": [],
   "source": [
    "#hide\n",
    "# g = g[cols]"
   ]
  },
  {
   "cell_type": "code",
   "execution_count": 31,
   "id": "subject-dublin",
   "metadata": {
    "execution": {
     "iopub.execute_input": "2022-03-17T12:15:19.025068Z",
     "iopub.status.busy": "2022-03-17T12:15:19.024395Z",
     "iopub.status.idle": "2022-03-17T12:15:19.027211Z",
     "shell.execute_reply": "2022-03-17T12:15:19.026571Z"
    },
    "papermill": {
     "duration": 0.044707,
     "end_time": "2022-03-17T12:15:19.027340",
     "exception": false,
     "start_time": "2022-03-17T12:15:18.982633",
     "status": "completed"
    },
    "tags": []
   },
   "outputs": [],
   "source": [
    "#hide\n",
    "# g['continent'] = g['continent'].map(mapping['map.continent'])"
   ]
  },
  {
   "cell_type": "code",
   "execution_count": 32,
   "id": "freelance-scout",
   "metadata": {
    "execution": {
     "iopub.execute_input": "2022-03-17T12:15:19.101749Z",
     "iopub.status.busy": "2022-03-17T12:15:19.101134Z",
     "iopub.status.idle": "2022-03-17T12:15:19.103407Z",
     "shell.execute_reply": "2022-03-17T12:15:19.102899Z"
    },
    "papermill": {
     "duration": 0.039936,
     "end_time": "2022-03-17T12:15:19.103522",
     "exception": false,
     "start_time": "2022-03-17T12:15:19.063586",
     "status": "completed"
    },
    "tags": []
   },
   "outputs": [],
   "source": [
    "#hide\n",
    "# g.head()"
   ]
  },
  {
   "cell_type": "code",
   "execution_count": 33,
   "id": "limited-engine",
   "metadata": {
    "execution": {
     "iopub.execute_input": "2022-03-17T12:15:19.180042Z",
     "iopub.status.busy": "2022-03-17T12:15:19.179348Z",
     "iopub.status.idle": "2022-03-17T12:15:19.183456Z",
     "shell.execute_reply": "2022-03-17T12:15:19.183956Z"
    },
    "papermill": {
     "duration": 0.044953,
     "end_time": "2022-03-17T12:15:19.184120",
     "exception": false,
     "start_time": "2022-03-17T12:15:19.139167",
     "status": "completed"
    },
    "tags": []
   },
   "outputs": [],
   "source": [
    "# hide\n",
    "# g['date'] = g['date'].astype('datetime64[ns]')"
   ]
  },
  {
   "cell_type": "code",
   "execution_count": 34,
   "id": "sophisticated-supervisor",
   "metadata": {
    "execution": {
     "iopub.execute_input": "2022-03-17T12:15:19.263702Z",
     "iopub.status.busy": "2022-03-17T12:15:19.263064Z",
     "iopub.status.idle": "2022-03-17T12:15:19.265575Z",
     "shell.execute_reply": "2022-03-17T12:15:19.265035Z"
    },
    "papermill": {
     "duration": 0.042663,
     "end_time": "2022-03-17T12:15:19.265703",
     "exception": false,
     "start_time": "2022-03-17T12:15:19.223040",
     "status": "completed"
    },
    "tags": []
   },
   "outputs": [],
   "source": [
    "#hide\n",
    "# g['date'] = g.date.dt.dayofyear"
   ]
  },
  {
   "cell_type": "code",
   "execution_count": 35,
   "id": "inside-dubai",
   "metadata": {
    "execution": {
     "iopub.execute_input": "2022-03-17T12:15:19.341366Z",
     "iopub.status.busy": "2022-03-17T12:15:19.340629Z",
     "iopub.status.idle": "2022-03-17T12:15:19.343188Z",
     "shell.execute_reply": "2022-03-17T12:15:19.342685Z"
    },
    "papermill": {
     "duration": 0.041,
     "end_time": "2022-03-17T12:15:19.343309",
     "exception": false,
     "start_time": "2022-03-17T12:15:19.302309",
     "status": "completed"
    },
    "tags": []
   },
   "outputs": [],
   "source": [
    "#hide\n",
    "# g = g.rename(columns= {'continent':'group','country':'name','cases':'value'})"
   ]
  },
  {
   "cell_type": "code",
   "execution_count": 36,
   "id": "fleet-motorcycle",
   "metadata": {
    "execution": {
     "iopub.execute_input": "2022-03-17T12:15:19.425772Z",
     "iopub.status.busy": "2022-03-17T12:15:19.424978Z",
     "iopub.status.idle": "2022-03-17T12:15:19.426970Z",
     "shell.execute_reply": "2022-03-17T12:15:19.427513Z"
    },
    "papermill": {
     "duration": 0.046552,
     "end_time": "2022-03-17T12:15:19.427672",
     "exception": false,
     "start_time": "2022-03-17T12:15:19.381120",
     "status": "completed"
    },
    "tags": []
   },
   "outputs": [],
   "source": [
    "#hide\n",
    "# cols = ['name','group','day','value']"
   ]
  },
  {
   "cell_type": "code",
   "execution_count": 37,
   "id": "continued-sleeping",
   "metadata": {
    "execution": {
     "iopub.execute_input": "2022-03-17T12:15:19.503926Z",
     "iopub.status.busy": "2022-03-17T12:15:19.503323Z",
     "iopub.status.idle": "2022-03-17T12:15:19.507224Z",
     "shell.execute_reply": "2022-03-17T12:15:19.507755Z"
    },
    "papermill": {
     "duration": 0.043075,
     "end_time": "2022-03-17T12:15:19.507919",
     "exception": false,
     "start_time": "2022-03-17T12:15:19.464844",
     "status": "completed"
    },
    "tags": []
   },
   "outputs": [],
   "source": [
    "#hide\n",
    "# g.rename(columns= {'date':'day'},inplace = True)"
   ]
  },
  {
   "cell_type": "code",
   "execution_count": 38,
   "id": "major-fight",
   "metadata": {
    "execution": {
     "iopub.execute_input": "2022-03-17T12:15:19.585450Z",
     "iopub.status.busy": "2022-03-17T12:15:19.584753Z",
     "iopub.status.idle": "2022-03-17T12:15:19.587188Z",
     "shell.execute_reply": "2022-03-17T12:15:19.586680Z"
    },
    "papermill": {
     "duration": 0.042917,
     "end_time": "2022-03-17T12:15:19.587310",
     "exception": false,
     "start_time": "2022-03-17T12:15:19.544393",
     "status": "completed"
    },
    "tags": []
   },
   "outputs": [],
   "source": [
    "#hide\n",
    "# g = g[cols]"
   ]
  },
  {
   "cell_type": "code",
   "execution_count": 39,
   "id": "structured-mobile",
   "metadata": {
    "execution": {
     "iopub.execute_input": "2022-03-17T12:15:19.664044Z",
     "iopub.status.busy": "2022-03-17T12:15:19.663253Z",
     "iopub.status.idle": "2022-03-17T12:15:19.665931Z",
     "shell.execute_reply": "2022-03-17T12:15:19.665303Z"
    },
    "papermill": {
     "duration": 0.040566,
     "end_time": "2022-03-17T12:15:19.666058",
     "exception": false,
     "start_time": "2022-03-17T12:15:19.625492",
     "status": "completed"
    },
    "tags": []
   },
   "outputs": [],
   "source": [
    "# #hide\n",
    "# g = g[g.group.notna()]"
   ]
  },
  {
   "cell_type": "code",
   "execution_count": 40,
   "id": "determined-closing",
   "metadata": {
    "execution": {
     "iopub.execute_input": "2022-03-17T12:15:19.743925Z",
     "iopub.status.busy": "2022-03-17T12:15:19.743222Z",
     "iopub.status.idle": "2022-03-17T12:15:19.746979Z",
     "shell.execute_reply": "2022-03-17T12:15:19.747556Z"
    },
    "papermill": {
     "duration": 0.044788,
     "end_time": "2022-03-17T12:15:19.747728",
     "exception": false,
     "start_time": "2022-03-17T12:15:19.702940",
     "status": "completed"
    },
    "tags": []
   },
   "outputs": [],
   "source": [
    "# #hide\n",
    "# colors = dict(zip(\n",
    "#     [\"Oceania\", \"Europe\", \"Asia\", \"South America\", \"Middle East\", \"North America\", \"Africa\"],\n",
    "#     [\"#adb0ff\", \"#ffb3ff\", \"#90d595\", \"#e48381\", \"#aafbff\", \"#f7bb5f\", \"#eafb50\"]\n",
    "# ))\n",
    "# group_lk = g.set_index('name')['group'].to_dict()"
   ]
  },
  {
   "cell_type": "code",
   "execution_count": null,
   "id": "gross-drinking",
   "metadata": {
    "papermill": {
     "duration": 0.03577,
     "end_time": "2022-03-17T12:15:19.818185",
     "exception": false,
     "start_time": "2022-03-17T12:15:19.782415",
     "status": "completed"
    },
    "tags": []
   },
   "outputs": [],
   "source": []
  },
  {
   "cell_type": "code",
   "execution_count": 41,
   "id": "subject-macintosh",
   "metadata": {
    "execution": {
     "iopub.execute_input": "2022-03-17T12:15:19.891007Z",
     "iopub.status.busy": "2022-03-17T12:15:19.890393Z",
     "iopub.status.idle": "2022-03-17T12:15:19.893039Z",
     "shell.execute_reply": "2022-03-17T12:15:19.892519Z"
    },
    "papermill": {
     "duration": 0.040538,
     "end_time": "2022-03-17T12:15:19.893162",
     "exception": false,
     "start_time": "2022-03-17T12:15:19.852624",
     "status": "completed"
    },
    "tags": []
   },
   "outputs": [],
   "source": [
    "# #hide\n",
    "# fig, ax = plt.subplots(figsize=(15, 8))\n",
    "\n",
    "# def draw_barchart(current_day):\n",
    "#     dff = g[g['day'].eq(current_day)].sort_values(by='value', ascending=True).tail(10)\n",
    "#     ax.clear()\n",
    "#     ax.barh(dff['name'], dff['value'], color=[colors[group_lk[x]] for x in dff['name']])\n",
    "#     dx = dff['value'].max() / 200\n",
    "    \n",
    "#     for i, (value, name) in enumerate(zip(dff['value'], dff['name'])):\n",
    "#         ax.text(value-dx, i,     name,           size=14, weight=600, ha='right', va='bottom')\n",
    "#         ax.text(value-dx, i-.25, group_lk[name], size=10, color='#444444', ha='right', va='baseline')\n",
    "#         ax.text(value+dx, i,     f'{value:,.0f}',  size=14, ha='left',  va='center')\n",
    "#     ax.text(1, 0.4, current_day, transform=ax.transAxes, color='#777777', size=46, ha='right', weight=800)\n",
    "#     ax.text(0, 1.06, 'Population (thousands)', transform=ax.transAxes, size=12, color='#777777')\n",
    "#     ax.xaxis.set_major_formatter(ticker.StrMethodFormatter('{x:,.0f}'))\n",
    "#     ax.xaxis.set_ticks_position('top')\n",
    "#     ax.tick_params(axis='x', colors='#777777', labelsize=12)\n",
    "#     ax.set_yticks([])\n",
    "#     ax.margins(0, 0.01)\n",
    "#     ax.grid(which='major', axis='x', linestyle='-')\n",
    "#     ax.set_axisbelow(True)\n",
    "    \n",
    "#     ax.text(0, 1.15, 'Coronavirus',\n",
    "#             transform=ax.transAxes, size=24, weight=600, ha='left', va='top')\n",
    "# #     ax.text(1, 0, 'by @pratapvardhan; credit @jburnmurdoch', transform=ax.transAxes, color='#777777', ha='right',\n",
    "# #             bbox=dict(facecolor='white', alpha=0.8, edgecolor='white'))\n",
    "#     plt.box(False)"
   ]
  },
  {
   "cell_type": "code",
   "execution_count": 42,
   "id": "sexual-wages",
   "metadata": {
    "execution": {
     "iopub.execute_input": "2022-03-17T12:15:19.968328Z",
     "iopub.status.busy": "2022-03-17T12:15:19.967633Z",
     "iopub.status.idle": "2022-03-17T12:15:19.970089Z",
     "shell.execute_reply": "2022-03-17T12:15:19.969589Z"
    },
    "papermill": {
     "duration": 0.040658,
     "end_time": "2022-03-17T12:15:19.970205",
     "exception": false,
     "start_time": "2022-03-17T12:15:19.929547",
     "status": "completed"
    },
    "tags": []
   },
   "outputs": [],
   "source": [
    "# #hide_input\n",
    "# fig, ax = plt.subplots(figsize=(15, 8))\n",
    "# animator = animation.FuncAnimation(fig, draw_barchart, frames=range(g.day.values.min(), g.day.values.max()))\n",
    "# HTML(animator.to_jshtml())\n",
    "# # or use animator.to_html5_video() or animator.save() "
   ]
  },
  {
   "cell_type": "code",
   "execution_count": null,
   "id": "australian-container",
   "metadata": {
    "papermill": {
     "duration": 0.035986,
     "end_time": "2022-03-17T12:15:20.041328",
     "exception": false,
     "start_time": "2022-03-17T12:15:20.005342",
     "status": "completed"
    },
    "tags": []
   },
   "outputs": [],
   "source": []
  },
  {
   "cell_type": "code",
   "execution_count": null,
   "id": "mediterranean-pontiac",
   "metadata": {
    "papermill": {
     "duration": 0.038727,
     "end_time": "2022-03-17T12:15:20.115241",
     "exception": false,
     "start_time": "2022-03-17T12:15:20.076514",
     "status": "completed"
    },
    "tags": []
   },
   "outputs": [],
   "source": []
  },
  {
   "cell_type": "code",
   "execution_count": null,
   "id": "aging-legislature",
   "metadata": {
    "papermill": {
     "duration": 0.037264,
     "end_time": "2022-03-17T12:15:20.191489",
     "exception": false,
     "start_time": "2022-03-17T12:15:20.154225",
     "status": "completed"
    },
    "tags": []
   },
   "outputs": [],
   "source": []
  }
 ],
 "metadata": {
  "kernelspec": {
   "display_name": "Python 3",
   "language": "python",
   "name": "python3"
  },
  "language_info": {
   "codemirror_mode": {
    "name": "ipython",
    "version": 3
   },
   "file_extension": ".py",
   "mimetype": "text/x-python",
   "name": "python",
   "nbconvert_exporter": "python",
   "pygments_lexer": "ipython3",
   "version": "3.6.15"
  },
  "papermill": {
   "duration": 6.930274,
   "end_time": "2022-03-17T12:15:20.550087",
   "environment_variables": {},
   "exception": null,
   "input_path": "2020-03-21-covid19exp.ipynb",
   "output_path": "2020-03-21-covid19exp.ipynb",
   "parameters": {},
   "start_time": "2022-03-17T12:15:13.619813",
   "version": "2.0.0"
  }
 },
 "nbformat": 4,
 "nbformat_minor": 5
}