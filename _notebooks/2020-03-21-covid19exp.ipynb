{
 "cells": [
  {
   "cell_type": "markdown",
   "id": "muslim-click",
   "metadata": {
    "papermill": {
     "duration": 0.042165,
     "end_time": "2021-10-27T12:13:08.760852",
     "exception": false,
     "start_time": "2021-10-27T12:13:08.718687",
     "status": "completed"
    },
    "tags": []
   },
   "source": [
    "# COVID-19 Case Race\n",
    "> A race chart to see rising cases around the world\n",
    "\n",
    "- author: Hargun Oberoi\n",
    "- image: images/covid-overview.png\n",
    "- hide: false\n",
    "- badges: false"
   ]
  },
  {
   "cell_type": "code",
   "execution_count": 1,
   "id": "proof-material",
   "metadata": {
    "execution": {
     "iopub.execute_input": "2021-10-27T12:13:08.850712Z",
     "iopub.status.busy": "2021-10-27T12:13:08.850020Z",
     "iopub.status.idle": "2021-10-27T12:13:09.262968Z",
     "shell.execute_reply": "2021-10-27T12:13:09.262378Z"
    },
    "papermill": {
     "duration": 0.461657,
     "end_time": "2021-10-27T12:13:09.263141",
     "exception": false,
     "start_time": "2021-10-27T12:13:08.801484",
     "status": "completed"
    },
    "tags": []
   },
   "outputs": [],
   "source": [
    "#hide\n",
    "import numpy as np\n",
    "import pandas as pd\n",
    "from jinja2 import Template\n",
    "from IPython.display import HTML"
   ]
  },
  {
   "cell_type": "code",
   "execution_count": 2,
   "id": "developed-terminology",
   "metadata": {
    "execution": {
     "iopub.execute_input": "2021-10-27T12:13:09.350370Z",
     "iopub.status.busy": "2021-10-27T12:13:09.349549Z",
     "iopub.status.idle": "2021-10-27T12:13:09.351571Z",
     "shell.execute_reply": "2021-10-27T12:13:09.350998Z"
    },
    "papermill": {
     "duration": 0.048059,
     "end_time": "2021-10-27T12:13:09.351711",
     "exception": false,
     "start_time": "2021-10-27T12:13:09.303652",
     "status": "completed"
    },
    "tags": []
   },
   "outputs": [],
   "source": [
    "#hide\n",
    "\n",
    "# FETCH\n",
    "base_url = 'https://raw.githubusercontent.com/pratapvardhan/notebooks/master/covid19/'\n",
    "paths = {\n",
    "    'mapping': base_url + 'mapping_countries.csv',\n",
    "    'overview': base_url + 'overview.tpl'\n",
    "}"
   ]
  },
  {
   "cell_type": "code",
   "execution_count": 3,
   "id": "dynamic-saver",
   "metadata": {
    "execution": {
     "iopub.execute_input": "2021-10-27T12:13:09.438292Z",
     "iopub.status.busy": "2021-10-27T12:13:09.437632Z",
     "iopub.status.idle": "2021-10-27T12:13:09.441055Z",
     "shell.execute_reply": "2021-10-27T12:13:09.440498Z"
    },
    "papermill": {
     "duration": 0.052492,
     "end_time": "2021-10-27T12:13:09.441192",
     "exception": false,
     "start_time": "2021-10-27T12:13:09.388700",
     "status": "completed"
    },
    "tags": []
   },
   "outputs": [
    {
     "data": {
      "text/plain": [
       "'https://raw.githubusercontent.com/pratapvardhan/notebooks/master/covid19/mapping_countries.csv'"
      ]
     },
     "execution_count": 3,
     "metadata": {},
     "output_type": "execute_result"
    }
   ],
   "source": [
    "#hide\n",
    "paths['mapping']"
   ]
  },
  {
   "cell_type": "code",
   "execution_count": 4,
   "id": "urban-software",
   "metadata": {
    "execution": {
     "iopub.execute_input": "2021-10-27T12:13:09.524445Z",
     "iopub.status.busy": "2021-10-27T12:13:09.523741Z",
     "iopub.status.idle": "2021-10-27T12:13:09.526671Z",
     "shell.execute_reply": "2021-10-27T12:13:09.526099Z"
    },
    "papermill": {
     "duration": 0.045758,
     "end_time": "2021-10-27T12:13:09.526803",
     "exception": false,
     "start_time": "2021-10-27T12:13:09.481045",
     "status": "completed"
    },
    "tags": []
   },
   "outputs": [],
   "source": [
    "#hide\n",
    "def get_mappings(url):\n",
    "    df = pd.read_csv(url)\n",
    "    return {\n",
    "        'df': df,\n",
    "        'replace.country': dict(df.dropna(subset=['Name']).set_index('Country')['Name']),\n",
    "        'map.continent': dict(df.set_index('Name')['Continent'])\n",
    "    }"
   ]
  },
  {
   "cell_type": "code",
   "execution_count": 5,
   "id": "intimate-machinery",
   "metadata": {
    "execution": {
     "iopub.execute_input": "2021-10-27T12:13:09.611608Z",
     "iopub.status.busy": "2021-10-27T12:13:09.610947Z",
     "iopub.status.idle": "2021-10-27T12:13:09.653634Z",
     "shell.execute_reply": "2021-10-27T12:13:09.654149Z"
    },
    "papermill": {
     "duration": 0.086599,
     "end_time": "2021-10-27T12:13:09.654320",
     "exception": false,
     "start_time": "2021-10-27T12:13:09.567721",
     "status": "completed"
    },
    "tags": []
   },
   "outputs": [],
   "source": [
    "#hide\n",
    "mapping = get_mappings(paths['mapping'])"
   ]
  },
  {
   "cell_type": "code",
   "execution_count": 6,
   "id": "certified-tactics",
   "metadata": {
    "execution": {
     "iopub.execute_input": "2021-10-27T12:13:09.739509Z",
     "iopub.status.busy": "2021-10-27T12:13:09.738851Z",
     "iopub.status.idle": "2021-10-27T12:13:09.740720Z",
     "shell.execute_reply": "2021-10-27T12:13:09.741249Z"
    },
    "papermill": {
     "duration": 0.049313,
     "end_time": "2021-10-27T12:13:09.741394",
     "exception": false,
     "start_time": "2021-10-27T12:13:09.692081",
     "status": "completed"
    },
    "tags": []
   },
   "outputs": [],
   "source": [
    "#hide\n",
    "def get_template(path):\n",
    "    from urllib.parse import urlparse\n",
    "    if bool(urlparse(path).netloc):\n",
    "        from urllib.request import urlopen\n",
    "        return urlopen(path).read().decode('utf8')\n",
    "    return open(path).read()"
   ]
  },
  {
   "cell_type": "code",
   "execution_count": 7,
   "id": "realistic-blast",
   "metadata": {
    "execution": {
     "iopub.execute_input": "2021-10-27T12:13:09.823355Z",
     "iopub.status.busy": "2021-10-27T12:13:09.822698Z",
     "iopub.status.idle": "2021-10-27T12:13:09.825157Z",
     "shell.execute_reply": "2021-10-27T12:13:09.825721Z"
    },
    "papermill": {
     "duration": 0.046131,
     "end_time": "2021-10-27T12:13:09.825867",
     "exception": false,
     "start_time": "2021-10-27T12:13:09.779736",
     "status": "completed"
    },
    "tags": []
   },
   "outputs": [],
   "source": [
    "#hide\n",
    "def get_frame(name):\n",
    "    url = (\n",
    "        'https://raw.githubusercontent.com/CSSEGISandData/COVID-19/master/csse_covid_19_data/'\n",
    "        f'csse_covid_19_time_series/time_series_covid19_{name}_global.csv')\n",
    "    df = pd.read_csv(url)\n",
    "    # rename countries\n",
    "    df['Country/Region'] = df['Country/Region'].replace(mapping['replace.country'])\n",
    "    return df"
   ]
  },
  {
   "cell_type": "code",
   "execution_count": 8,
   "id": "affiliated-characterization",
   "metadata": {
    "execution": {
     "iopub.execute_input": "2021-10-27T12:13:09.908997Z",
     "iopub.status.busy": "2021-10-27T12:13:09.908205Z",
     "iopub.status.idle": "2021-10-27T12:13:09.911613Z",
     "shell.execute_reply": "2021-10-27T12:13:09.911041Z"
    },
    "papermill": {
     "duration": 0.046861,
     "end_time": "2021-10-27T12:13:09.911746",
     "exception": false,
     "start_time": "2021-10-27T12:13:09.864885",
     "status": "completed"
    },
    "tags": []
   },
   "outputs": [],
   "source": [
    "#hide\n",
    "def get_dates(df):\n",
    "    dt_cols = df.columns[~df.columns.isin(['Province/State', 'Country/Region', 'Lat', 'Long'])]\n",
    "    LAST_DATE_I = -1\n",
    "    # sometimes last column may be empty, then go backwards\n",
    "    for i in range(-1, -len(dt_cols), -1):\n",
    "        if not df[dt_cols[i]].fillna(0).eq(0).all():\n",
    "            LAST_DATE_I = i\n",
    "            break\n",
    "    return LAST_DATE_I, dt_cols"
   ]
  },
  {
   "cell_type": "code",
   "execution_count": 9,
   "id": "recent-optimization",
   "metadata": {
    "execution": {
     "iopub.execute_input": "2021-10-27T12:13:09.993598Z",
     "iopub.status.busy": "2021-10-27T12:13:09.992833Z",
     "iopub.status.idle": "2021-10-27T12:13:10.432852Z",
     "shell.execute_reply": "2021-10-27T12:13:10.432154Z"
    },
    "papermill": {
     "duration": 0.482286,
     "end_time": "2021-10-27T12:13:10.433001",
     "exception": false,
     "start_time": "2021-10-27T12:13:09.950715",
     "status": "completed"
    },
    "tags": []
   },
   "outputs": [],
   "source": [
    "#hide\n",
    "COL_REGION = 'Country/Region'\n",
    "# Confirmed, Recovered, Deaths\n",
    "df = get_frame('confirmed')\n",
    "# dft_: timeseries, dfc_: today country agg\n",
    "dft_cases = df\n",
    "dft_deaths = get_frame('deaths')\n",
    "dft_recovered = get_frame('recovered')\n",
    "LAST_DATE_I, dt_cols = get_dates(df)"
   ]
  },
  {
   "cell_type": "code",
   "execution_count": 10,
   "id": "absolute-copper",
   "metadata": {
    "execution": {
     "iopub.execute_input": "2021-10-27T12:13:10.521951Z",
     "iopub.status.busy": "2021-10-27T12:13:10.521233Z",
     "iopub.status.idle": "2021-10-27T12:13:10.523765Z",
     "shell.execute_reply": "2021-10-27T12:13:10.523207Z"
    },
    "papermill": {
     "duration": 0.051103,
     "end_time": "2021-10-27T12:13:10.523928",
     "exception": false,
     "start_time": "2021-10-27T12:13:10.472825",
     "status": "completed"
    },
    "tags": []
   },
   "outputs": [],
   "source": [
    "#hide\n",
    "LAST_DATE_I, dt_cols = get_dates(df)\n",
    "dt_today =dt_cols[LAST_DATE_I]\n",
    "# dt_5day = dt_cols[LAST_DATE_I - 5]\n",
    "dt_yday = dt_cols[LAST_DATE_I - 1]"
   ]
  },
  {
   "cell_type": "code",
   "execution_count": 11,
   "id": "restricted-sheriff",
   "metadata": {
    "execution": {
     "iopub.execute_input": "2021-10-27T12:13:10.609583Z",
     "iopub.status.busy": "2021-10-27T12:13:10.608921Z",
     "iopub.status.idle": "2021-10-27T12:13:10.615595Z",
     "shell.execute_reply": "2021-10-27T12:13:10.616167Z"
    },
    "papermill": {
     "duration": 0.053283,
     "end_time": "2021-10-27T12:13:10.616325",
     "exception": false,
     "start_time": "2021-10-27T12:13:10.563042",
     "status": "completed"
    },
    "tags": []
   },
   "outputs": [],
   "source": [
    "#hide\n",
    "dfc_cases = dft_cases.groupby(COL_REGION)[dt_today].sum()\n",
    "dfc_deaths = dft_deaths.groupby(COL_REGION)[dt_today].sum()\n",
    "# dfp_cases = dft_cases.groupby(COL_REGION)[dt_5day].sum()\n",
    "# dfp_deaths = dft_deaths.groupby(COL_REGION)[dt_5day].sum()\n",
    "dfp_cases = dft_cases.groupby(COL_REGION)[dt_yday].sum()\n",
    "dfp_deaths = dft_deaths.groupby(COL_REGION)[dt_yday].sum()"
   ]
  },
  {
   "cell_type": "code",
   "execution_count": 12,
   "id": "deluxe-hepatitis",
   "metadata": {
    "execution": {
     "iopub.execute_input": "2021-10-27T12:13:10.701808Z",
     "iopub.status.busy": "2021-10-27T12:13:10.701147Z",
     "iopub.status.idle": "2021-10-27T12:13:10.706077Z",
     "shell.execute_reply": "2021-10-27T12:13:10.706693Z"
    },
    "papermill": {
     "duration": 0.051257,
     "end_time": "2021-10-27T12:13:10.706845",
     "exception": false,
     "start_time": "2021-10-27T12:13:10.655588",
     "status": "completed"
    },
    "tags": []
   },
   "outputs": [],
   "source": [
    "#hide\n",
    "df_table = (pd.DataFrame(dict(Cases = dfc_cases, Deaths = dfc_deaths, PCases = dfp_cases, PDeaths = dfp_deaths))\n",
    "            .sort_values(by = ['Cases','Deaths'], ascending = [False, False])\n",
    "            .reset_index())"
   ]
  },
  {
   "cell_type": "code",
   "execution_count": 13,
   "id": "educational-chancellor",
   "metadata": {
    "execution": {
     "iopub.execute_input": "2021-10-27T12:13:10.806924Z",
     "iopub.status.busy": "2021-10-27T12:13:10.806256Z",
     "iopub.status.idle": "2021-10-27T12:13:10.816621Z",
     "shell.execute_reply": "2021-10-27T12:13:10.816077Z"
    },
    "papermill": {
     "duration": 0.071057,
     "end_time": "2021-10-27T12:13:10.816762",
     "exception": false,
     "start_time": "2021-10-27T12:13:10.745705",
     "status": "completed"
    },
    "tags": []
   },
   "outputs": [
    {
     "data": {
      "text/html": [
       "<div>\n",
       "<style scoped>\n",
       "    .dataframe tbody tr th:only-of-type {\n",
       "        vertical-align: middle;\n",
       "    }\n",
       "\n",
       "    .dataframe tbody tr th {\n",
       "        vertical-align: top;\n",
       "    }\n",
       "\n",
       "    .dataframe thead th {\n",
       "        text-align: right;\n",
       "    }\n",
       "</style>\n",
       "<table border=\"1\" class=\"dataframe\">\n",
       "  <thead>\n",
       "    <tr style=\"text-align: right;\">\n",
       "      <th></th>\n",
       "      <th>Country/Region</th>\n",
       "      <th>Cases</th>\n",
       "      <th>Deaths</th>\n",
       "      <th>PCases</th>\n",
       "      <th>PDeaths</th>\n",
       "      <th>Cases (+)</th>\n",
       "      <th>Deaths (+)</th>\n",
       "      <th>Fatality Rate</th>\n",
       "      <th>Continent</th>\n",
       "    </tr>\n",
       "  </thead>\n",
       "  <tbody>\n",
       "    <tr>\n",
       "      <th>0</th>\n",
       "      <td>US</td>\n",
       "      <td>45609021</td>\n",
       "      <td>738877</td>\n",
       "      <td>45547158</td>\n",
       "      <td>737342</td>\n",
       "      <td>61863</td>\n",
       "      <td>1535</td>\n",
       "      <td>1.62</td>\n",
       "      <td>North America</td>\n",
       "    </tr>\n",
       "    <tr>\n",
       "      <th>1</th>\n",
       "      <td>India</td>\n",
       "      <td>34215653</td>\n",
       "      <td>455653</td>\n",
       "      <td>34202202</td>\n",
       "      <td>455068</td>\n",
       "      <td>13451</td>\n",
       "      <td>585</td>\n",
       "      <td>1.33</td>\n",
       "      <td>Asia</td>\n",
       "    </tr>\n",
       "    <tr>\n",
       "      <th>2</th>\n",
       "      <td>Brazil</td>\n",
       "      <td>21748984</td>\n",
       "      <td>606246</td>\n",
       "      <td>21735560</td>\n",
       "      <td>605804</td>\n",
       "      <td>13424</td>\n",
       "      <td>442</td>\n",
       "      <td>2.79</td>\n",
       "      <td>South America</td>\n",
       "    </tr>\n",
       "    <tr>\n",
       "      <th>3</th>\n",
       "      <td>United Kingdom</td>\n",
       "      <td>8894843</td>\n",
       "      <td>140253</td>\n",
       "      <td>8851104</td>\n",
       "      <td>139990</td>\n",
       "      <td>43739</td>\n",
       "      <td>263</td>\n",
       "      <td>1.58</td>\n",
       "      <td>Europe</td>\n",
       "    </tr>\n",
       "    <tr>\n",
       "      <th>4</th>\n",
       "      <td>Russia</td>\n",
       "      <td>8185400</td>\n",
       "      <td>228581</td>\n",
       "      <td>8149946</td>\n",
       "      <td>227506</td>\n",
       "      <td>35454</td>\n",
       "      <td>1075</td>\n",
       "      <td>2.79</td>\n",
       "      <td>Europe</td>\n",
       "    </tr>\n",
       "  </tbody>\n",
       "</table>\n",
       "</div>"
      ],
      "text/plain": [
       "   Country/Region     Cases  Deaths    PCases  PDeaths  Cases (+)  Deaths (+)  \\\n",
       "0              US  45609021  738877  45547158   737342      61863        1535   \n",
       "1           India  34215653  455653  34202202   455068      13451         585   \n",
       "2          Brazil  21748984  606246  21735560   605804      13424         442   \n",
       "3  United Kingdom   8894843  140253   8851104   139990      43739         263   \n",
       "4          Russia   8185400  228581   8149946   227506      35454        1075   \n",
       "\n",
       "   Fatality Rate      Continent  \n",
       "0           1.62  North America  \n",
       "1           1.33           Asia  \n",
       "2           2.79  South America  \n",
       "3           1.58         Europe  \n",
       "4           2.79         Europe  "
      ]
     },
     "execution_count": 13,
     "metadata": {},
     "output_type": "execute_result"
    }
   ],
   "source": [
    "#hide\n",
    "for c in 'Cases, Deaths'.split(', '):\n",
    "    df_table[f'{c} (+)'] = (df_table[c] - df_table[f'P{c}']).clip(0)\n",
    "    #Clip ça veut dire, les chiffres negatif sont interdit\n",
    "df_table['Fatality Rate'] = (100* df_table['Deaths']/ df_table['Cases']).round(2)\n",
    "df_table['Continent'] = df_table['Country/Region'].map(mapping['map.continent'])\n",
    "df_table.head(5)"
   ]
  },
  {
   "cell_type": "code",
   "execution_count": 14,
   "id": "aboriginal-bulgaria",
   "metadata": {
    "execution": {
     "iopub.execute_input": "2021-10-27T12:13:10.912903Z",
     "iopub.status.busy": "2021-10-27T12:13:10.912112Z",
     "iopub.status.idle": "2021-10-27T12:13:10.915028Z",
     "shell.execute_reply": "2021-10-27T12:13:10.914493Z"
    },
    "papermill": {
     "duration": 0.05002,
     "end_time": "2021-10-27T12:13:10.915168",
     "exception": false,
     "start_time": "2021-10-27T12:13:10.865148",
     "status": "completed"
    },
    "tags": []
   },
   "outputs": [],
   "source": [
    "#hide\n",
    "#delete problematic countries from table\n",
    "df_table = df_table[~df_table['Country/Region'].isin(['Cape Verde', 'Cruise Ship', 'Kosovo'])]"
   ]
  },
  {
   "cell_type": "code",
   "execution_count": 15,
   "id": "fantastic-effect",
   "metadata": {
    "execution": {
     "iopub.execute_input": "2021-10-27T12:13:11.003230Z",
     "iopub.status.busy": "2021-10-27T12:13:11.002461Z",
     "iopub.status.idle": "2021-10-27T12:13:11.026311Z",
     "shell.execute_reply": "2021-10-27T12:13:11.025745Z"
    },
    "papermill": {
     "duration": 0.070507,
     "end_time": "2021-10-27T12:13:11.026451",
     "exception": false,
     "start_time": "2021-10-27T12:13:10.955944",
     "status": "completed"
    },
    "tags": []
   },
   "outputs": [
    {
     "data": {
      "text/html": [
       "<div>\n",
       "<style scoped>\n",
       "    .dataframe tbody tr th:only-of-type {\n",
       "        vertical-align: middle;\n",
       "    }\n",
       "\n",
       "    .dataframe tbody tr th {\n",
       "        vertical-align: top;\n",
       "    }\n",
       "\n",
       "    .dataframe thead th {\n",
       "        text-align: right;\n",
       "    }\n",
       "</style>\n",
       "<table border=\"1\" class=\"dataframe\">\n",
       "  <thead>\n",
       "    <tr style=\"text-align: right;\">\n",
       "      <th></th>\n",
       "      <th>Country/Region</th>\n",
       "      <th>Cases</th>\n",
       "      <th>Deaths</th>\n",
       "      <th>PCases</th>\n",
       "      <th>PDeaths</th>\n",
       "      <th>Cases (+)</th>\n",
       "      <th>Deaths (+)</th>\n",
       "      <th>Fatality Rate</th>\n",
       "      <th>Continent</th>\n",
       "    </tr>\n",
       "  </thead>\n",
       "  <tbody>\n",
       "    <tr>\n",
       "      <th>0</th>\n",
       "      <td>US</td>\n",
       "      <td>45609021</td>\n",
       "      <td>738877</td>\n",
       "      <td>45547158</td>\n",
       "      <td>737342</td>\n",
       "      <td>61863</td>\n",
       "      <td>1535</td>\n",
       "      <td>1.6</td>\n",
       "      <td>North America</td>\n",
       "    </tr>\n",
       "    <tr>\n",
       "      <th>1</th>\n",
       "      <td>India</td>\n",
       "      <td>34215653</td>\n",
       "      <td>455653</td>\n",
       "      <td>34202202</td>\n",
       "      <td>455068</td>\n",
       "      <td>13451</td>\n",
       "      <td>585</td>\n",
       "      <td>1.3</td>\n",
       "      <td>Asia</td>\n",
       "    </tr>\n",
       "    <tr>\n",
       "      <th>2</th>\n",
       "      <td>Brazil</td>\n",
       "      <td>21748984</td>\n",
       "      <td>606246</td>\n",
       "      <td>21735560</td>\n",
       "      <td>605804</td>\n",
       "      <td>13424</td>\n",
       "      <td>442</td>\n",
       "      <td>2.8</td>\n",
       "      <td>South America</td>\n",
       "    </tr>\n",
       "    <tr>\n",
       "      <th>3</th>\n",
       "      <td>United Kingdom</td>\n",
       "      <td>8894843</td>\n",
       "      <td>140253</td>\n",
       "      <td>8851104</td>\n",
       "      <td>139990</td>\n",
       "      <td>43739</td>\n",
       "      <td>263</td>\n",
       "      <td>1.6</td>\n",
       "      <td>Europe</td>\n",
       "    </tr>\n",
       "    <tr>\n",
       "      <th>4</th>\n",
       "      <td>Russia</td>\n",
       "      <td>8185400</td>\n",
       "      <td>228581</td>\n",
       "      <td>8149946</td>\n",
       "      <td>227506</td>\n",
       "      <td>35454</td>\n",
       "      <td>1075</td>\n",
       "      <td>2.8</td>\n",
       "      <td>Europe</td>\n",
       "    </tr>\n",
       "  </tbody>\n",
       "</table>\n",
       "</div>"
      ],
      "text/plain": [
       "   Country/Region     Cases  Deaths    PCases  PDeaths  Cases (+)  Deaths (+)  \\\n",
       "0              US  45609021  738877  45547158   737342      61863        1535   \n",
       "1           India  34215653  455653  34202202   455068      13451         585   \n",
       "2          Brazil  21748984  606246  21735560   605804      13424         442   \n",
       "3  United Kingdom   8894843  140253   8851104   139990      43739         263   \n",
       "4          Russia   8185400  228581   8149946   227506      35454        1075   \n",
       "\n",
       "   Fatality Rate      Continent  \n",
       "0            1.6  North America  \n",
       "1            1.3           Asia  \n",
       "2            2.8  South America  \n",
       "3            1.6         Europe  \n",
       "4            2.8         Europe  "
      ]
     },
     "execution_count": 15,
     "metadata": {},
     "output_type": "execute_result"
    }
   ],
   "source": [
    "#hide\n",
    "df_table = (pd.DataFrame(dict(Cases=dfc_cases, Deaths=dfc_deaths, PCases=dfp_cases, PDeaths=dfp_deaths))\n",
    "             .sort_values(by=['Cases', 'Deaths'], ascending=[False, False])\n",
    "             .reset_index())\n",
    "df_table.rename(columns={'index': 'Country/Region'}, inplace=True)\n",
    "for c in 'Cases, Deaths'.split(', '):\n",
    "    df_table[f'{c} (+)'] = (df_table[c] - df_table[f'P{c}']).clip(0)  # DATA BUG\n",
    "df_table['Fatality Rate'] = (100 * df_table['Deaths'] / df_table['Cases']).round(1)\n",
    "df_table['Continent'] = df_table['Country/Region'].map(mapping['map.continent'])\n",
    "df_table.head(5)"
   ]
  },
  {
   "cell_type": "code",
   "execution_count": 16,
   "id": "fewer-occasion",
   "metadata": {
    "execution": {
     "iopub.execute_input": "2021-10-27T12:13:11.114579Z",
     "iopub.status.busy": "2021-10-27T12:13:11.113912Z",
     "iopub.status.idle": "2021-10-27T12:13:11.116491Z",
     "shell.execute_reply": "2021-10-27T12:13:11.115930Z"
    },
    "papermill": {
     "duration": 0.048372,
     "end_time": "2021-10-27T12:13:11.116626",
     "exception": false,
     "start_time": "2021-10-27T12:13:11.068254",
     "status": "completed"
    },
    "tags": []
   },
   "outputs": [],
   "source": [
    "#hide\n",
    "#delete problematic countries from table\n",
    "df_table = df_table[~df_table['Country/Region'].isin(['Cape Verde', 'Cruise Ship', 'Kosovo'])]"
   ]
  },
  {
   "cell_type": "code",
   "execution_count": 17,
   "id": "related-center",
   "metadata": {
    "execution": {
     "iopub.execute_input": "2021-10-27T12:13:11.229793Z",
     "iopub.status.busy": "2021-10-27T12:13:11.229134Z",
     "iopub.status.idle": "2021-10-27T12:13:11.232142Z",
     "shell.execute_reply": "2021-10-27T12:13:11.231553Z"
    },
    "papermill": {
     "duration": 0.067851,
     "end_time": "2021-10-27T12:13:11.232277",
     "exception": false,
     "start_time": "2021-10-27T12:13:11.164426",
     "status": "completed"
    },
    "tags": []
   },
   "outputs": [],
   "source": [
    "#hide\n",
    "metrics = [df_table.columns[index] for index in [1,2,5,6]]\n",
    "# s_china = df_table[df_table['Country/Region'].eq('China')][metrics].sum().add_prefix('China ')\n",
    "s_us = df_table[df_table['Country/Region'].eq('US')][metrics].sum().add_prefix('US ')\n",
    "s_eu = df_table[df_table['Continent'].eq('Europe')][metrics].sum().add_prefix('EU ')\n",
    "s_ind = df_table[df_table['Country/Region'].eq('India')][metrics].sum().add_prefix('India ')\n",
    "summary = {'updated': pd.to_datetime(dt_today), 'since': pd.to_datetime(dt_yday)}\n",
    "summary = {'updated': pd.to_datetime(dt_today), 'since': pd.to_datetime(dt_yday)}\n",
    "summary = {**summary, **df_table[metrics].sum(), **s_ind, **s_us, **s_eu}"
   ]
  },
  {
   "cell_type": "code",
   "execution_count": 18,
   "id": "engaging-syndrome",
   "metadata": {
    "execution": {
     "iopub.execute_input": "2021-10-27T12:13:11.316546Z",
     "iopub.status.busy": "2021-10-27T12:13:11.315882Z",
     "iopub.status.idle": "2021-10-27T12:13:11.329563Z",
     "shell.execute_reply": "2021-10-27T12:13:11.330208Z"
    },
    "papermill": {
     "duration": 0.058932,
     "end_time": "2021-10-27T12:13:11.330364",
     "exception": false,
     "start_time": "2021-10-27T12:13:11.271432",
     "status": "completed"
    },
    "tags": []
   },
   "outputs": [],
   "source": [
    "#hide\n",
    "dft_ct_new_cases = dft_cases.groupby(COL_REGION)[dt_cols].sum().diff(axis=1).fillna(0).astype(int)"
   ]
  },
  {
   "cell_type": "code",
   "execution_count": 19,
   "id": "neutral-assignment",
   "metadata": {
    "execution": {
     "iopub.execute_input": "2021-10-27T12:13:11.423888Z",
     "iopub.status.busy": "2021-10-27T12:13:11.423208Z",
     "iopub.status.idle": "2021-10-27T12:13:11.425751Z",
     "shell.execute_reply": "2021-10-27T12:13:11.425098Z"
    },
    "papermill": {
     "duration": 0.055514,
     "end_time": "2021-10-27T12:13:11.425884",
     "exception": false,
     "start_time": "2021-10-27T12:13:11.370370",
     "status": "completed"
    },
    "tags": []
   },
   "outputs": [],
   "source": [
    "#hide\n",
    "everydaycases = dft_ct_new_cases.cumsum(axis=1)"
   ]
  },
  {
   "cell_type": "code",
   "execution_count": 20,
   "id": "parliamentary-calgary",
   "metadata": {
    "execution": {
     "iopub.execute_input": "2021-10-27T12:13:11.530848Z",
     "iopub.status.busy": "2021-10-27T12:13:11.529766Z",
     "iopub.status.idle": "2021-10-27T12:13:12.267212Z",
     "shell.execute_reply": "2021-10-27T12:13:12.266604Z"
    },
    "papermill": {
     "duration": 0.793748,
     "end_time": "2021-10-27T12:13:12.267363",
     "exception": false,
     "start_time": "2021-10-27T12:13:11.473615",
     "status": "completed"
    },
    "tags": []
   },
   "outputs": [],
   "source": [
    "#hide\n",
    "import pandas as pd\n",
    "import matplotlib.pyplot as plt\n",
    "import matplotlib.ticker as ticker\n",
    "import matplotlib.animation as animation\n",
    "from IPython.display import HTML"
   ]
  },
  {
   "cell_type": "code",
   "execution_count": 21,
   "id": "lasting-extraction",
   "metadata": {
    "execution": {
     "iopub.execute_input": "2021-10-27T12:13:12.357119Z",
     "iopub.status.busy": "2021-10-27T12:13:12.356462Z",
     "iopub.status.idle": "2021-10-27T12:13:12.363499Z",
     "shell.execute_reply": "2021-10-27T12:13:12.364052Z"
    },
    "papermill": {
     "duration": 0.054781,
     "end_time": "2021-10-27T12:13:12.364228",
     "exception": false,
     "start_time": "2021-10-27T12:13:12.309447",
     "status": "completed"
    },
    "tags": []
   },
   "outputs": [],
   "source": [
    "#hide\n",
    "t = everydaycases.stack()"
   ]
  },
  {
   "cell_type": "code",
   "execution_count": 22,
   "id": "premier-sleeve",
   "metadata": {
    "execution": {
     "iopub.execute_input": "2021-10-27T12:13:12.446537Z",
     "iopub.status.busy": "2021-10-27T12:13:12.445877Z",
     "iopub.status.idle": "2021-10-27T12:13:12.456579Z",
     "shell.execute_reply": "2021-10-27T12:13:12.457206Z"
    },
    "papermill": {
     "duration": 0.054196,
     "end_time": "2021-10-27T12:13:12.457363",
     "exception": false,
     "start_time": "2021-10-27T12:13:12.403167",
     "status": "completed"
    },
    "tags": []
   },
   "outputs": [],
   "source": [
    "#hide\n",
    "g = t.reset_index(['Country/Region'])"
   ]
  },
  {
   "cell_type": "code",
   "execution_count": 23,
   "id": "distributed-pittsburgh",
   "metadata": {
    "execution": {
     "iopub.execute_input": "2021-10-27T12:13:12.541672Z",
     "iopub.status.busy": "2021-10-27T12:13:12.540776Z",
     "iopub.status.idle": "2021-10-27T12:13:12.542773Z",
     "shell.execute_reply": "2021-10-27T12:13:12.543335Z"
    },
    "papermill": {
     "duration": 0.04731,
     "end_time": "2021-10-27T12:13:12.543484",
     "exception": false,
     "start_time": "2021-10-27T12:13:12.496174",
     "status": "completed"
    },
    "tags": []
   },
   "outputs": [],
   "source": [
    "#hide\n",
    "g.index.name = 'date'"
   ]
  },
  {
   "cell_type": "code",
   "execution_count": 24,
   "id": "naked-donor",
   "metadata": {
    "execution": {
     "iopub.execute_input": "2021-10-27T12:13:12.625816Z",
     "iopub.status.busy": "2021-10-27T12:13:12.625163Z",
     "iopub.status.idle": "2021-10-27T12:13:12.627153Z",
     "shell.execute_reply": "2021-10-27T12:13:12.627648Z"
    },
    "papermill": {
     "duration": 0.045032,
     "end_time": "2021-10-27T12:13:12.627795",
     "exception": false,
     "start_time": "2021-10-27T12:13:12.582763",
     "status": "completed"
    },
    "tags": []
   },
   "outputs": [],
   "source": [
    "# #hide\n",
    "# g = g.reset_index(['date'])"
   ]
  },
  {
   "cell_type": "code",
   "execution_count": 25,
   "id": "incomplete-mustang",
   "metadata": {
    "execution": {
     "iopub.execute_input": "2021-10-27T12:13:12.718512Z",
     "iopub.status.busy": "2021-10-27T12:13:12.717855Z",
     "iopub.status.idle": "2021-10-27T12:13:12.719979Z",
     "shell.execute_reply": "2021-10-27T12:13:12.720609Z"
    },
    "papermill": {
     "duration": 0.04731,
     "end_time": "2021-10-27T12:13:12.720767",
     "exception": false,
     "start_time": "2021-10-27T12:13:12.673457",
     "status": "completed"
    },
    "tags": []
   },
   "outputs": [],
   "source": [
    "#hide\n",
    "# g.head()"
   ]
  },
  {
   "cell_type": "code",
   "execution_count": 26,
   "id": "specific-kruger",
   "metadata": {
    "execution": {
     "iopub.execute_input": "2021-10-27T12:13:12.806763Z",
     "iopub.status.busy": "2021-10-27T12:13:12.806059Z",
     "iopub.status.idle": "2021-10-27T12:13:12.808045Z",
     "shell.execute_reply": "2021-10-27T12:13:12.808622Z"
    },
    "papermill": {
     "duration": 0.047804,
     "end_time": "2021-10-27T12:13:12.808776",
     "exception": false,
     "start_time": "2021-10-27T12:13:12.760972",
     "status": "completed"
    },
    "tags": []
   },
   "outputs": [],
   "source": [
    "#hide\n",
    "# g.columns = ['date','country','cases']"
   ]
  },
  {
   "cell_type": "code",
   "execution_count": 27,
   "id": "tender-conversion",
   "metadata": {
    "execution": {
     "iopub.execute_input": "2021-10-27T12:13:12.891676Z",
     "iopub.status.busy": "2021-10-27T12:13:12.891019Z",
     "iopub.status.idle": "2021-10-27T12:13:12.894132Z",
     "shell.execute_reply": "2021-10-27T12:13:12.893576Z"
    },
    "papermill": {
     "duration": 0.045622,
     "end_time": "2021-10-27T12:13:12.894265",
     "exception": false,
     "start_time": "2021-10-27T12:13:12.848643",
     "status": "completed"
    },
    "tags": []
   },
   "outputs": [],
   "source": [
    "#hide\n",
    "# g['continent'] = g.country"
   ]
  },
  {
   "cell_type": "code",
   "execution_count": 28,
   "id": "substantial-wilderness",
   "metadata": {
    "execution": {
     "iopub.execute_input": "2021-10-27T12:13:12.977627Z",
     "iopub.status.busy": "2021-10-27T12:13:12.976973Z",
     "iopub.status.idle": "2021-10-27T12:13:12.979427Z",
     "shell.execute_reply": "2021-10-27T12:13:12.978783Z"
    },
    "papermill": {
     "duration": 0.04652,
     "end_time": "2021-10-27T12:13:12.979559",
     "exception": false,
     "start_time": "2021-10-27T12:13:12.933039",
     "status": "completed"
    },
    "tags": []
   },
   "outputs": [],
   "source": [
    "#hide\n",
    "# cols = list(g.columns.values)"
   ]
  },
  {
   "cell_type": "code",
   "execution_count": 29,
   "id": "solved-farming",
   "metadata": {
    "execution": {
     "iopub.execute_input": "2021-10-27T12:13:13.062445Z",
     "iopub.status.busy": "2021-10-27T12:13:13.061791Z",
     "iopub.status.idle": "2021-10-27T12:13:13.066344Z",
     "shell.execute_reply": "2021-10-27T12:13:13.065803Z"
    },
    "papermill": {
     "duration": 0.04854,
     "end_time": "2021-10-27T12:13:13.066487",
     "exception": false,
     "start_time": "2021-10-27T12:13:13.017947",
     "status": "completed"
    },
    "tags": []
   },
   "outputs": [],
   "source": [
    "#hide\n",
    "# cols.insert(0, cols.pop())"
   ]
  },
  {
   "cell_type": "code",
   "execution_count": 30,
   "id": "executed-adoption",
   "metadata": {
    "execution": {
     "iopub.execute_input": "2021-10-27T12:13:13.151611Z",
     "iopub.status.busy": "2021-10-27T12:13:13.150949Z",
     "iopub.status.idle": "2021-10-27T12:13:13.152940Z",
     "shell.execute_reply": "2021-10-27T12:13:13.153558Z"
    },
    "papermill": {
     "duration": 0.047648,
     "end_time": "2021-10-27T12:13:13.153710",
     "exception": false,
     "start_time": "2021-10-27T12:13:13.106062",
     "status": "completed"
    },
    "tags": []
   },
   "outputs": [],
   "source": [
    "#hide\n",
    "# g = g[cols]"
   ]
  },
  {
   "cell_type": "code",
   "execution_count": 31,
   "id": "subject-dublin",
   "metadata": {
    "execution": {
     "iopub.execute_input": "2021-10-27T12:13:13.238778Z",
     "iopub.status.busy": "2021-10-27T12:13:13.238120Z",
     "iopub.status.idle": "2021-10-27T12:13:13.240791Z",
     "shell.execute_reply": "2021-10-27T12:13:13.240234Z"
    },
    "papermill": {
     "duration": 0.046661,
     "end_time": "2021-10-27T12:13:13.240922",
     "exception": false,
     "start_time": "2021-10-27T12:13:13.194261",
     "status": "completed"
    },
    "tags": []
   },
   "outputs": [],
   "source": [
    "#hide\n",
    "# g['continent'] = g['continent'].map(mapping['map.continent'])"
   ]
  },
  {
   "cell_type": "code",
   "execution_count": 32,
   "id": "freelance-scout",
   "metadata": {
    "execution": {
     "iopub.execute_input": "2021-10-27T12:13:13.326872Z",
     "iopub.status.busy": "2021-10-27T12:13:13.326221Z",
     "iopub.status.idle": "2021-10-27T12:13:13.328711Z",
     "shell.execute_reply": "2021-10-27T12:13:13.328064Z"
    },
    "papermill": {
     "duration": 0.046701,
     "end_time": "2021-10-27T12:13:13.328845",
     "exception": false,
     "start_time": "2021-10-27T12:13:13.282144",
     "status": "completed"
    },
    "tags": []
   },
   "outputs": [],
   "source": [
    "#hide\n",
    "# g.head()"
   ]
  },
  {
   "cell_type": "code",
   "execution_count": 33,
   "id": "limited-engine",
   "metadata": {
    "execution": {
     "iopub.execute_input": "2021-10-27T12:13:13.412641Z",
     "iopub.status.busy": "2021-10-27T12:13:13.411986Z",
     "iopub.status.idle": "2021-10-27T12:13:13.414409Z",
     "shell.execute_reply": "2021-10-27T12:13:13.414982Z"
    },
    "papermill": {
     "duration": 0.047139,
     "end_time": "2021-10-27T12:13:13.415130",
     "exception": false,
     "start_time": "2021-10-27T12:13:13.367991",
     "status": "completed"
    },
    "tags": []
   },
   "outputs": [],
   "source": [
    "# hide\n",
    "# g['date'] = g['date'].astype('datetime64[ns]')"
   ]
  },
  {
   "cell_type": "code",
   "execution_count": 34,
   "id": "sophisticated-supervisor",
   "metadata": {
    "execution": {
     "iopub.execute_input": "2021-10-27T12:13:13.499371Z",
     "iopub.status.busy": "2021-10-27T12:13:13.498723Z",
     "iopub.status.idle": "2021-10-27T12:13:13.501452Z",
     "shell.execute_reply": "2021-10-27T12:13:13.500930Z"
    },
    "papermill": {
     "duration": 0.046697,
     "end_time": "2021-10-27T12:13:13.501584",
     "exception": false,
     "start_time": "2021-10-27T12:13:13.454887",
     "status": "completed"
    },
    "tags": []
   },
   "outputs": [],
   "source": [
    "#hide\n",
    "# g['date'] = g.date.dt.dayofyear"
   ]
  },
  {
   "cell_type": "code",
   "execution_count": 35,
   "id": "inside-dubai",
   "metadata": {
    "execution": {
     "iopub.execute_input": "2021-10-27T12:13:13.583689Z",
     "iopub.status.busy": "2021-10-27T12:13:13.583036Z",
     "iopub.status.idle": "2021-10-27T12:13:13.585676Z",
     "shell.execute_reply": "2021-10-27T12:13:13.585023Z"
    },
    "papermill": {
     "duration": 0.046065,
     "end_time": "2021-10-27T12:13:13.585807",
     "exception": false,
     "start_time": "2021-10-27T12:13:13.539742",
     "status": "completed"
    },
    "tags": []
   },
   "outputs": [],
   "source": [
    "#hide\n",
    "# g = g.rename(columns= {'continent':'group','country':'name','cases':'value'})"
   ]
  },
  {
   "cell_type": "code",
   "execution_count": 36,
   "id": "fleet-motorcycle",
   "metadata": {
    "execution": {
     "iopub.execute_input": "2021-10-27T12:13:13.670574Z",
     "iopub.status.busy": "2021-10-27T12:13:13.669918Z",
     "iopub.status.idle": "2021-10-27T12:13:13.672540Z",
     "shell.execute_reply": "2021-10-27T12:13:13.671983Z"
    },
    "papermill": {
     "duration": 0.047038,
     "end_time": "2021-10-27T12:13:13.672670",
     "exception": false,
     "start_time": "2021-10-27T12:13:13.625632",
     "status": "completed"
    },
    "tags": []
   },
   "outputs": [],
   "source": [
    "#hide\n",
    "# cols = ['name','group','day','value']"
   ]
  },
  {
   "cell_type": "code",
   "execution_count": 37,
   "id": "continued-sleeping",
   "metadata": {
    "execution": {
     "iopub.execute_input": "2021-10-27T12:13:13.757531Z",
     "iopub.status.busy": "2021-10-27T12:13:13.756879Z",
     "iopub.status.idle": "2021-10-27T12:13:13.759792Z",
     "shell.execute_reply": "2021-10-27T12:13:13.759239Z"
    },
    "papermill": {
     "duration": 0.04692,
     "end_time": "2021-10-27T12:13:13.759950",
     "exception": false,
     "start_time": "2021-10-27T12:13:13.713030",
     "status": "completed"
    },
    "tags": []
   },
   "outputs": [],
   "source": [
    "#hide\n",
    "# g.rename(columns= {'date':'day'},inplace = True)"
   ]
  },
  {
   "cell_type": "code",
   "execution_count": 38,
   "id": "major-fight",
   "metadata": {
    "execution": {
     "iopub.execute_input": "2021-10-27T12:13:13.841569Z",
     "iopub.status.busy": "2021-10-27T12:13:13.840917Z",
     "iopub.status.idle": "2021-10-27T12:13:13.842871Z",
     "shell.execute_reply": "2021-10-27T12:13:13.843700Z"
    },
    "papermill": {
     "duration": 0.044652,
     "end_time": "2021-10-27T12:13:13.843847",
     "exception": false,
     "start_time": "2021-10-27T12:13:13.799195",
     "status": "completed"
    },
    "tags": []
   },
   "outputs": [],
   "source": [
    "#hide\n",
    "# g = g[cols]"
   ]
  },
  {
   "cell_type": "code",
   "execution_count": 39,
   "id": "structured-mobile",
   "metadata": {
    "execution": {
     "iopub.execute_input": "2021-10-27T12:13:13.926917Z",
     "iopub.status.busy": "2021-10-27T12:13:13.926261Z",
     "iopub.status.idle": "2021-10-27T12:13:13.928710Z",
     "shell.execute_reply": "2021-10-27T12:13:13.928058Z"
    },
    "papermill": {
     "duration": 0.045788,
     "end_time": "2021-10-27T12:13:13.928838",
     "exception": false,
     "start_time": "2021-10-27T12:13:13.883050",
     "status": "completed"
    },
    "tags": []
   },
   "outputs": [],
   "source": [
    "# #hide\n",
    "# g = g[g.group.notna()]"
   ]
  },
  {
   "cell_type": "code",
   "execution_count": 40,
   "id": "determined-closing",
   "metadata": {
    "execution": {
     "iopub.execute_input": "2021-10-27T12:13:14.012207Z",
     "iopub.status.busy": "2021-10-27T12:13:14.011506Z",
     "iopub.status.idle": "2021-10-27T12:13:14.014011Z",
     "shell.execute_reply": "2021-10-27T12:13:14.013361Z"
    },
    "papermill": {
     "duration": 0.045741,
     "end_time": "2021-10-27T12:13:14.014144",
     "exception": false,
     "start_time": "2021-10-27T12:13:13.968403",
     "status": "completed"
    },
    "tags": []
   },
   "outputs": [],
   "source": [
    "# #hide\n",
    "# colors = dict(zip(\n",
    "#     [\"Oceania\", \"Europe\", \"Asia\", \"South America\", \"Middle East\", \"North America\", \"Africa\"],\n",
    "#     [\"#adb0ff\", \"#ffb3ff\", \"#90d595\", \"#e48381\", \"#aafbff\", \"#f7bb5f\", \"#eafb50\"]\n",
    "# ))\n",
    "# group_lk = g.set_index('name')['group'].to_dict()"
   ]
  },
  {
   "cell_type": "code",
   "execution_count": null,
   "id": "gross-drinking",
   "metadata": {
    "papermill": {
     "duration": 0.04004,
     "end_time": "2021-10-27T12:13:14.093454",
     "exception": false,
     "start_time": "2021-10-27T12:13:14.053414",
     "status": "completed"
    },
    "tags": []
   },
   "outputs": [],
   "source": []
  },
  {
   "cell_type": "code",
   "execution_count": 41,
   "id": "subject-macintosh",
   "metadata": {
    "execution": {
     "iopub.execute_input": "2021-10-27T12:13:14.180593Z",
     "iopub.status.busy": "2021-10-27T12:13:14.179919Z",
     "iopub.status.idle": "2021-10-27T12:13:14.182920Z",
     "shell.execute_reply": "2021-10-27T12:13:14.182259Z"
    },
    "papermill": {
     "duration": 0.050446,
     "end_time": "2021-10-27T12:13:14.183055",
     "exception": false,
     "start_time": "2021-10-27T12:13:14.132609",
     "status": "completed"
    },
    "tags": []
   },
   "outputs": [],
   "source": [
    "# #hide\n",
    "# fig, ax = plt.subplots(figsize=(15, 8))\n",
    "\n",
    "# def draw_barchart(current_day):\n",
    "#     dff = g[g['day'].eq(current_day)].sort_values(by='value', ascending=True).tail(10)\n",
    "#     ax.clear()\n",
    "#     ax.barh(dff['name'], dff['value'], color=[colors[group_lk[x]] for x in dff['name']])\n",
    "#     dx = dff['value'].max() / 200\n",
    "    \n",
    "#     for i, (value, name) in enumerate(zip(dff['value'], dff['name'])):\n",
    "#         ax.text(value-dx, i,     name,           size=14, weight=600, ha='right', va='bottom')\n",
    "#         ax.text(value-dx, i-.25, group_lk[name], size=10, color='#444444', ha='right', va='baseline')\n",
    "#         ax.text(value+dx, i,     f'{value:,.0f}',  size=14, ha='left',  va='center')\n",
    "#     ax.text(1, 0.4, current_day, transform=ax.transAxes, color='#777777', size=46, ha='right', weight=800)\n",
    "#     ax.text(0, 1.06, 'Population (thousands)', transform=ax.transAxes, size=12, color='#777777')\n",
    "#     ax.xaxis.set_major_formatter(ticker.StrMethodFormatter('{x:,.0f}'))\n",
    "#     ax.xaxis.set_ticks_position('top')\n",
    "#     ax.tick_params(axis='x', colors='#777777', labelsize=12)\n",
    "#     ax.set_yticks([])\n",
    "#     ax.margins(0, 0.01)\n",
    "#     ax.grid(which='major', axis='x', linestyle='-')\n",
    "#     ax.set_axisbelow(True)\n",
    "    \n",
    "#     ax.text(0, 1.15, 'Coronavirus',\n",
    "#             transform=ax.transAxes, size=24, weight=600, ha='left', va='top')\n",
    "# #     ax.text(1, 0, 'by @pratapvardhan; credit @jburnmurdoch', transform=ax.transAxes, color='#777777', ha='right',\n",
    "# #             bbox=dict(facecolor='white', alpha=0.8, edgecolor='white'))\n",
    "#     plt.box(False)"
   ]
  },
  {
   "cell_type": "code",
   "execution_count": 42,
   "id": "sexual-wages",
   "metadata": {
    "execution": {
     "iopub.execute_input": "2021-10-27T12:13:14.265375Z",
     "iopub.status.busy": "2021-10-27T12:13:14.264714Z",
     "iopub.status.idle": "2021-10-27T12:13:14.266677Z",
     "shell.execute_reply": "2021-10-27T12:13:14.268478Z"
    },
    "papermill": {
     "duration": 0.046571,
     "end_time": "2021-10-27T12:13:14.268663",
     "exception": false,
     "start_time": "2021-10-27T12:13:14.222092",
     "status": "completed"
    },
    "tags": []
   },
   "outputs": [],
   "source": [
    "# #hide_input\n",
    "# fig, ax = plt.subplots(figsize=(15, 8))\n",
    "# animator = animation.FuncAnimation(fig, draw_barchart, frames=range(g.day.values.min(), g.day.values.max()))\n",
    "# HTML(animator.to_jshtml())\n",
    "# # or use animator.to_html5_video() or animator.save() "
   ]
  },
  {
   "cell_type": "code",
   "execution_count": null,
   "id": "australian-container",
   "metadata": {
    "papermill": {
     "duration": 0.04135,
     "end_time": "2021-10-27T12:13:14.350880",
     "exception": false,
     "start_time": "2021-10-27T12:13:14.309530",
     "status": "completed"
    },
    "tags": []
   },
   "outputs": [],
   "source": []
  },
  {
   "cell_type": "code",
   "execution_count": null,
   "id": "mediterranean-pontiac",
   "metadata": {
    "papermill": {
     "duration": 0.039035,
     "end_time": "2021-10-27T12:13:14.430080",
     "exception": false,
     "start_time": "2021-10-27T12:13:14.391045",
     "status": "completed"
    },
    "tags": []
   },
   "outputs": [],
   "source": []
  },
  {
   "cell_type": "code",
   "execution_count": null,
   "id": "aging-legislature",
   "metadata": {
    "papermill": {
     "duration": 0.038631,
     "end_time": "2021-10-27T12:13:14.508637",
     "exception": false,
     "start_time": "2021-10-27T12:13:14.470006",
     "status": "completed"
    },
    "tags": []
   },
   "outputs": [],
   "source": []
  }
 ],
 "metadata": {
  "kernelspec": {
   "display_name": "Python 3",
   "language": "python",
   "name": "python3"
  },
  "language_info": {
   "codemirror_mode": {
    "name": "ipython",
    "version": 3
   },
   "file_extension": ".py",
   "mimetype": "text/x-python",
   "name": "python",
   "nbconvert_exporter": "python",
   "pygments_lexer": "ipython3",
   "version": "3.6.15"
  },
  "papermill": {
   "duration": 7.374656,
   "end_time": "2021-10-27T12:13:14.956615",
   "environment_variables": {},
   "exception": null,
   "input_path": "2020-03-21-covid19exp.ipynb",
   "output_path": "2020-03-21-covid19exp.ipynb",
   "parameters": {},
   "start_time": "2021-10-27T12:13:07.581959",
   "version": "2.0.0"
  }
 },
 "nbformat": 4,
 "nbformat_minor": 5
}