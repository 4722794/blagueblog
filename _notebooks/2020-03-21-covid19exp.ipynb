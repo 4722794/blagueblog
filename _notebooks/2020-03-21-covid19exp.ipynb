{
 "cells": [
  {
   "cell_type": "markdown",
   "id": "muslim-click",
   "metadata": {
    "papermill": {
     "duration": 0.038358,
     "end_time": "2021-12-13T12:29:50.987558",
     "exception": false,
     "start_time": "2021-12-13T12:29:50.949200",
     "status": "completed"
    },
    "tags": []
   },
   "source": [
    "# COVID-19 Case Race\n",
    "> A race chart to see rising cases around the world\n",
    "\n",
    "- author: Hargun Oberoi\n",
    "- image: images/covid-overview.png\n",
    "- hide: false\n",
    "- badges: false"
   ]
  },
  {
   "cell_type": "code",
   "execution_count": 1,
   "id": "proof-material",
   "metadata": {
    "execution": {
     "iopub.execute_input": "2021-12-13T12:29:51.068452Z",
     "iopub.status.busy": "2021-12-13T12:29:51.067804Z",
     "iopub.status.idle": "2021-12-13T12:29:51.461206Z",
     "shell.execute_reply": "2021-12-13T12:29:51.461826Z"
    },
    "papermill": {
     "duration": 0.440477,
     "end_time": "2021-12-13T12:29:51.462040",
     "exception": false,
     "start_time": "2021-12-13T12:29:51.021563",
     "status": "completed"
    },
    "tags": []
   },
   "outputs": [],
   "source": [
    "#hide\n",
    "import numpy as np\n",
    "import pandas as pd\n",
    "from jinja2 import Template\n",
    "from IPython.display import HTML"
   ]
  },
  {
   "cell_type": "code",
   "execution_count": 2,
   "id": "developed-terminology",
   "metadata": {
    "execution": {
     "iopub.execute_input": "2021-12-13T12:29:51.540700Z",
     "iopub.status.busy": "2021-12-13T12:29:51.540067Z",
     "iopub.status.idle": "2021-12-13T12:29:51.541387Z",
     "shell.execute_reply": "2021-12-13T12:29:51.541860Z"
    },
    "papermill": {
     "duration": 0.04365,
     "end_time": "2021-12-13T12:29:51.542002",
     "exception": false,
     "start_time": "2021-12-13T12:29:51.498352",
     "status": "completed"
    },
    "tags": []
   },
   "outputs": [],
   "source": [
    "#hide\n",
    "\n",
    "# FETCH\n",
    "base_url = 'https://raw.githubusercontent.com/pratapvardhan/notebooks/master/covid19/'\n",
    "paths = {\n",
    "    'mapping': base_url + 'mapping_countries.csv',\n",
    "    'overview': base_url + 'overview.tpl'\n",
    "}"
   ]
  },
  {
   "cell_type": "code",
   "execution_count": 3,
   "id": "dynamic-saver",
   "metadata": {
    "execution": {
     "iopub.execute_input": "2021-12-13T12:29:51.634932Z",
     "iopub.status.busy": "2021-12-13T12:29:51.634315Z",
     "iopub.status.idle": "2021-12-13T12:29:51.636724Z",
     "shell.execute_reply": "2021-12-13T12:29:51.637305Z"
    },
    "papermill": {
     "duration": 0.060363,
     "end_time": "2021-12-13T12:29:51.637447",
     "exception": false,
     "start_time": "2021-12-13T12:29:51.577084",
     "status": "completed"
    },
    "tags": []
   },
   "outputs": [
    {
     "data": {
      "text/plain": [
       "'https://raw.githubusercontent.com/pratapvardhan/notebooks/master/covid19/mapping_countries.csv'"
      ]
     },
     "execution_count": 3,
     "metadata": {},
     "output_type": "execute_result"
    }
   ],
   "source": [
    "#hide\n",
    "paths['mapping']"
   ]
  },
  {
   "cell_type": "code",
   "execution_count": 4,
   "id": "urban-software",
   "metadata": {
    "execution": {
     "iopub.execute_input": "2021-12-13T12:29:51.712830Z",
     "iopub.status.busy": "2021-12-13T12:29:51.712238Z",
     "iopub.status.idle": "2021-12-13T12:29:51.714904Z",
     "shell.execute_reply": "2021-12-13T12:29:51.714431Z"
    },
    "papermill": {
     "duration": 0.043388,
     "end_time": "2021-12-13T12:29:51.715037",
     "exception": false,
     "start_time": "2021-12-13T12:29:51.671649",
     "status": "completed"
    },
    "tags": []
   },
   "outputs": [],
   "source": [
    "#hide\n",
    "def get_mappings(url):\n",
    "    df = pd.read_csv(url)\n",
    "    return {\n",
    "        'df': df,\n",
    "        'replace.country': dict(df.dropna(subset=['Name']).set_index('Country')['Name']),\n",
    "        'map.continent': dict(df.set_index('Name')['Continent'])\n",
    "    }"
   ]
  },
  {
   "cell_type": "code",
   "execution_count": 5,
   "id": "intimate-machinery",
   "metadata": {
    "execution": {
     "iopub.execute_input": "2021-12-13T12:29:51.791079Z",
     "iopub.status.busy": "2021-12-13T12:29:51.790482Z",
     "iopub.status.idle": "2021-12-13T12:29:51.820035Z",
     "shell.execute_reply": "2021-12-13T12:29:51.819354Z"
    },
    "papermill": {
     "duration": 0.071823,
     "end_time": "2021-12-13T12:29:51.820205",
     "exception": false,
     "start_time": "2021-12-13T12:29:51.748382",
     "status": "completed"
    },
    "tags": []
   },
   "outputs": [],
   "source": [
    "#hide\n",
    "mapping = get_mappings(paths['mapping'])"
   ]
  },
  {
   "cell_type": "code",
   "execution_count": 6,
   "id": "certified-tactics",
   "metadata": {
    "execution": {
     "iopub.execute_input": "2021-12-13T12:29:51.892940Z",
     "iopub.status.busy": "2021-12-13T12:29:51.892271Z",
     "iopub.status.idle": "2021-12-13T12:29:51.894691Z",
     "shell.execute_reply": "2021-12-13T12:29:51.894179Z"
    },
    "papermill": {
     "duration": 0.039911,
     "end_time": "2021-12-13T12:29:51.894804",
     "exception": false,
     "start_time": "2021-12-13T12:29:51.854893",
     "status": "completed"
    },
    "tags": []
   },
   "outputs": [],
   "source": [
    "#hide\n",
    "def get_template(path):\n",
    "    from urllib.parse import urlparse\n",
    "    if bool(urlparse(path).netloc):\n",
    "        from urllib.request import urlopen\n",
    "        return urlopen(path).read().decode('utf8')\n",
    "    return open(path).read()"
   ]
  },
  {
   "cell_type": "code",
   "execution_count": 7,
   "id": "realistic-blast",
   "metadata": {
    "execution": {
     "iopub.execute_input": "2021-12-13T12:29:51.966251Z",
     "iopub.status.busy": "2021-12-13T12:29:51.965654Z",
     "iopub.status.idle": "2021-12-13T12:29:51.968116Z",
     "shell.execute_reply": "2021-12-13T12:29:51.968685Z"
    },
    "papermill": {
     "duration": 0.040999,
     "end_time": "2021-12-13T12:29:51.968826",
     "exception": false,
     "start_time": "2021-12-13T12:29:51.927827",
     "status": "completed"
    },
    "tags": []
   },
   "outputs": [],
   "source": [
    "#hide\n",
    "def get_frame(name):\n",
    "    url = (\n",
    "        'https://raw.githubusercontent.com/CSSEGISandData/COVID-19/master/csse_covid_19_data/'\n",
    "        f'csse_covid_19_time_series/time_series_covid19_{name}_global.csv')\n",
    "    df = pd.read_csv(url)\n",
    "    # rename countries\n",
    "    df['Country/Region'] = df['Country/Region'].replace(mapping['replace.country'])\n",
    "    return df"
   ]
  },
  {
   "cell_type": "code",
   "execution_count": 8,
   "id": "affiliated-characterization",
   "metadata": {
    "execution": {
     "iopub.execute_input": "2021-12-13T12:29:52.041245Z",
     "iopub.status.busy": "2021-12-13T12:29:52.040614Z",
     "iopub.status.idle": "2021-12-13T12:29:52.042867Z",
     "shell.execute_reply": "2021-12-13T12:29:52.042413Z"
    },
    "papermill": {
     "duration": 0.040909,
     "end_time": "2021-12-13T12:29:52.042987",
     "exception": false,
     "start_time": "2021-12-13T12:29:52.002078",
     "status": "completed"
    },
    "tags": []
   },
   "outputs": [],
   "source": [
    "#hide\n",
    "def get_dates(df):\n",
    "    dt_cols = df.columns[~df.columns.isin(['Province/State', 'Country/Region', 'Lat', 'Long'])]\n",
    "    LAST_DATE_I = -1\n",
    "    # sometimes last column may be empty, then go backwards\n",
    "    for i in range(-1, -len(dt_cols), -1):\n",
    "        if not df[dt_cols[i]].fillna(0).eq(0).all():\n",
    "            LAST_DATE_I = i\n",
    "            break\n",
    "    return LAST_DATE_I, dt_cols"
   ]
  },
  {
   "cell_type": "code",
   "execution_count": 9,
   "id": "recent-optimization",
   "metadata": {
    "execution": {
     "iopub.execute_input": "2021-12-13T12:29:52.118996Z",
     "iopub.status.busy": "2021-12-13T12:29:52.118191Z",
     "iopub.status.idle": "2021-12-13T12:29:52.448033Z",
     "shell.execute_reply": "2021-12-13T12:29:52.446867Z"
    },
    "papermill": {
     "duration": 0.370256,
     "end_time": "2021-12-13T12:29:52.448174",
     "exception": false,
     "start_time": "2021-12-13T12:29:52.077918",
     "status": "completed"
    },
    "tags": []
   },
   "outputs": [],
   "source": [
    "#hide\n",
    "COL_REGION = 'Country/Region'\n",
    "# Confirmed, Recovered, Deaths\n",
    "df = get_frame('confirmed')\n",
    "# dft_: timeseries, dfc_: today country agg\n",
    "dft_cases = df\n",
    "dft_deaths = get_frame('deaths')\n",
    "dft_recovered = get_frame('recovered')\n",
    "LAST_DATE_I, dt_cols = get_dates(df)"
   ]
  },
  {
   "cell_type": "code",
   "execution_count": 10,
   "id": "absolute-copper",
   "metadata": {
    "execution": {
     "iopub.execute_input": "2021-12-13T12:29:52.522937Z",
     "iopub.status.busy": "2021-12-13T12:29:52.521889Z",
     "iopub.status.idle": "2021-12-13T12:29:52.523983Z",
     "shell.execute_reply": "2021-12-13T12:29:52.523490Z"
    },
    "papermill": {
     "duration": 0.042205,
     "end_time": "2021-12-13T12:29:52.524105",
     "exception": false,
     "start_time": "2021-12-13T12:29:52.481900",
     "status": "completed"
    },
    "tags": []
   },
   "outputs": [],
   "source": [
    "#hide\n",
    "LAST_DATE_I, dt_cols = get_dates(df)\n",
    "dt_today =dt_cols[LAST_DATE_I]\n",
    "# dt_5day = dt_cols[LAST_DATE_I - 5]\n",
    "dt_yday = dt_cols[LAST_DATE_I - 1]"
   ]
  },
  {
   "cell_type": "code",
   "execution_count": 11,
   "id": "restricted-sheriff",
   "metadata": {
    "execution": {
     "iopub.execute_input": "2021-12-13T12:29:52.602724Z",
     "iopub.status.busy": "2021-12-13T12:29:52.600042Z",
     "iopub.status.idle": "2021-12-13T12:29:52.607398Z",
     "shell.execute_reply": "2021-12-13T12:29:52.606350Z"
    },
    "papermill": {
     "duration": 0.049879,
     "end_time": "2021-12-13T12:29:52.607528",
     "exception": false,
     "start_time": "2021-12-13T12:29:52.557649",
     "status": "completed"
    },
    "tags": []
   },
   "outputs": [],
   "source": [
    "#hide\n",
    "dfc_cases = dft_cases.groupby(COL_REGION)[dt_today].sum()\n",
    "dfc_deaths = dft_deaths.groupby(COL_REGION)[dt_today].sum()\n",
    "# dfp_cases = dft_cases.groupby(COL_REGION)[dt_5day].sum()\n",
    "# dfp_deaths = dft_deaths.groupby(COL_REGION)[dt_5day].sum()\n",
    "dfp_cases = dft_cases.groupby(COL_REGION)[dt_yday].sum()\n",
    "dfp_deaths = dft_deaths.groupby(COL_REGION)[dt_yday].sum()"
   ]
  },
  {
   "cell_type": "code",
   "execution_count": 12,
   "id": "deluxe-hepatitis",
   "metadata": {
    "execution": {
     "iopub.execute_input": "2021-12-13T12:29:52.683233Z",
     "iopub.status.busy": "2021-12-13T12:29:52.682633Z",
     "iopub.status.idle": "2021-12-13T12:29:52.685292Z",
     "shell.execute_reply": "2021-12-13T12:29:52.685742Z"
    },
    "papermill": {
     "duration": 0.045199,
     "end_time": "2021-12-13T12:29:52.685876",
     "exception": false,
     "start_time": "2021-12-13T12:29:52.640677",
     "status": "completed"
    },
    "tags": []
   },
   "outputs": [],
   "source": [
    "#hide\n",
    "df_table = (pd.DataFrame(dict(Cases = dfc_cases, Deaths = dfc_deaths, PCases = dfp_cases, PDeaths = dfp_deaths))\n",
    "            .sort_values(by = ['Cases','Deaths'], ascending = [False, False])\n",
    "            .reset_index())"
   ]
  },
  {
   "cell_type": "code",
   "execution_count": 13,
   "id": "educational-chancellor",
   "metadata": {
    "execution": {
     "iopub.execute_input": "2021-12-13T12:29:52.760463Z",
     "iopub.status.busy": "2021-12-13T12:29:52.759887Z",
     "iopub.status.idle": "2021-12-13T12:29:52.781663Z",
     "shell.execute_reply": "2021-12-13T12:29:52.780915Z"
    },
    "papermill": {
     "duration": 0.063484,
     "end_time": "2021-12-13T12:29:52.781811",
     "exception": false,
     "start_time": "2021-12-13T12:29:52.718327",
     "status": "completed"
    },
    "tags": []
   },
   "outputs": [
    {
     "data": {
      "text/html": [
       "<div>\n",
       "<style scoped>\n",
       "    .dataframe tbody tr th:only-of-type {\n",
       "        vertical-align: middle;\n",
       "    }\n",
       "\n",
       "    .dataframe tbody tr th {\n",
       "        vertical-align: top;\n",
       "    }\n",
       "\n",
       "    .dataframe thead th {\n",
       "        text-align: right;\n",
       "    }\n",
       "</style>\n",
       "<table border=\"1\" class=\"dataframe\">\n",
       "  <thead>\n",
       "    <tr style=\"text-align: right;\">\n",
       "      <th></th>\n",
       "      <th>Country/Region</th>\n",
       "      <th>Cases</th>\n",
       "      <th>Deaths</th>\n",
       "      <th>PCases</th>\n",
       "      <th>PDeaths</th>\n",
       "      <th>Cases (+)</th>\n",
       "      <th>Deaths (+)</th>\n",
       "      <th>Fatality Rate</th>\n",
       "      <th>Continent</th>\n",
       "    </tr>\n",
       "  </thead>\n",
       "  <tbody>\n",
       "    <tr>\n",
       "      <th>0</th>\n",
       "      <td>US</td>\n",
       "      <td>49921405</td>\n",
       "      <td>797346</td>\n",
       "      <td>49884587</td>\n",
       "      <td>797179</td>\n",
       "      <td>36818</td>\n",
       "      <td>167</td>\n",
       "      <td>1.60</td>\n",
       "      <td>North America</td>\n",
       "    </tr>\n",
       "    <tr>\n",
       "      <th>1</th>\n",
       "      <td>India</td>\n",
       "      <td>34697860</td>\n",
       "      <td>475636</td>\n",
       "      <td>34690510</td>\n",
       "      <td>475434</td>\n",
       "      <td>7350</td>\n",
       "      <td>202</td>\n",
       "      <td>1.37</td>\n",
       "      <td>Asia</td>\n",
       "    </tr>\n",
       "    <tr>\n",
       "      <th>2</th>\n",
       "      <td>Brazil</td>\n",
       "      <td>22177059</td>\n",
       "      <td>616457</td>\n",
       "      <td>22177059</td>\n",
       "      <td>616457</td>\n",
       "      <td>0</td>\n",
       "      <td>0</td>\n",
       "      <td>2.78</td>\n",
       "      <td>South America</td>\n",
       "    </tr>\n",
       "    <tr>\n",
       "      <th>3</th>\n",
       "      <td>United Kingdom</td>\n",
       "      <td>10881189</td>\n",
       "      <td>146896</td>\n",
       "      <td>10833033</td>\n",
       "      <td>146844</td>\n",
       "      <td>48156</td>\n",
       "      <td>52</td>\n",
       "      <td>1.35</td>\n",
       "      <td>Europe</td>\n",
       "    </tr>\n",
       "    <tr>\n",
       "      <th>4</th>\n",
       "      <td>Russia</td>\n",
       "      <td>9842021</td>\n",
       "      <td>283815</td>\n",
       "      <td>9812538</td>\n",
       "      <td>282713</td>\n",
       "      <td>29483</td>\n",
       "      <td>1102</td>\n",
       "      <td>2.88</td>\n",
       "      <td>Europe</td>\n",
       "    </tr>\n",
       "  </tbody>\n",
       "</table>\n",
       "</div>"
      ],
      "text/plain": [
       "   Country/Region     Cases  Deaths    PCases  PDeaths  Cases (+)  Deaths (+)  \\\n",
       "0              US  49921405  797346  49884587   797179      36818         167   \n",
       "1           India  34697860  475636  34690510   475434       7350         202   \n",
       "2          Brazil  22177059  616457  22177059   616457          0           0   \n",
       "3  United Kingdom  10881189  146896  10833033   146844      48156          52   \n",
       "4          Russia   9842021  283815   9812538   282713      29483        1102   \n",
       "\n",
       "   Fatality Rate      Continent  \n",
       "0           1.60  North America  \n",
       "1           1.37           Asia  \n",
       "2           2.78  South America  \n",
       "3           1.35         Europe  \n",
       "4           2.88         Europe  "
      ]
     },
     "execution_count": 13,
     "metadata": {},
     "output_type": "execute_result"
    }
   ],
   "source": [
    "#hide\n",
    "for c in 'Cases, Deaths'.split(', '):\n",
    "    df_table[f'{c} (+)'] = (df_table[c] - df_table[f'P{c}']).clip(0)\n",
    "    #Clip ça veut dire, les chiffres negatif sont interdit\n",
    "df_table['Fatality Rate'] = (100* df_table['Deaths']/ df_table['Cases']).round(2)\n",
    "df_table['Continent'] = df_table['Country/Region'].map(mapping['map.continent'])\n",
    "df_table.head(5)"
   ]
  },
  {
   "cell_type": "code",
   "execution_count": 14,
   "id": "aboriginal-bulgaria",
   "metadata": {
    "execution": {
     "iopub.execute_input": "2021-12-13T12:29:52.855656Z",
     "iopub.status.busy": "2021-12-13T12:29:52.855104Z",
     "iopub.status.idle": "2021-12-13T12:29:52.859026Z",
     "shell.execute_reply": "2021-12-13T12:29:52.859464Z"
    },
    "papermill": {
     "duration": 0.044103,
     "end_time": "2021-12-13T12:29:52.859606",
     "exception": false,
     "start_time": "2021-12-13T12:29:52.815503",
     "status": "completed"
    },
    "tags": []
   },
   "outputs": [],
   "source": [
    "#hide\n",
    "#delete problematic countries from table\n",
    "df_table = df_table[~df_table['Country/Region'].isin(['Cape Verde', 'Cruise Ship', 'Kosovo'])]"
   ]
  },
  {
   "cell_type": "code",
   "execution_count": 15,
   "id": "fantastic-effect",
   "metadata": {
    "execution": {
     "iopub.execute_input": "2021-12-13T12:29:52.933629Z",
     "iopub.status.busy": "2021-12-13T12:29:52.933062Z",
     "iopub.status.idle": "2021-12-13T12:29:52.953717Z",
     "shell.execute_reply": "2021-12-13T12:29:52.953053Z"
    },
    "papermill": {
     "duration": 0.061607,
     "end_time": "2021-12-13T12:29:52.953869",
     "exception": false,
     "start_time": "2021-12-13T12:29:52.892262",
     "status": "completed"
    },
    "tags": []
   },
   "outputs": [
    {
     "data": {
      "text/html": [
       "<div>\n",
       "<style scoped>\n",
       "    .dataframe tbody tr th:only-of-type {\n",
       "        vertical-align: middle;\n",
       "    }\n",
       "\n",
       "    .dataframe tbody tr th {\n",
       "        vertical-align: top;\n",
       "    }\n",
       "\n",
       "    .dataframe thead th {\n",
       "        text-align: right;\n",
       "    }\n",
       "</style>\n",
       "<table border=\"1\" class=\"dataframe\">\n",
       "  <thead>\n",
       "    <tr style=\"text-align: right;\">\n",
       "      <th></th>\n",
       "      <th>Country/Region</th>\n",
       "      <th>Cases</th>\n",
       "      <th>Deaths</th>\n",
       "      <th>PCases</th>\n",
       "      <th>PDeaths</th>\n",
       "      <th>Cases (+)</th>\n",
       "      <th>Deaths (+)</th>\n",
       "      <th>Fatality Rate</th>\n",
       "      <th>Continent</th>\n",
       "    </tr>\n",
       "  </thead>\n",
       "  <tbody>\n",
       "    <tr>\n",
       "      <th>0</th>\n",
       "      <td>US</td>\n",
       "      <td>49921405</td>\n",
       "      <td>797346</td>\n",
       "      <td>49884587</td>\n",
       "      <td>797179</td>\n",
       "      <td>36818</td>\n",
       "      <td>167</td>\n",
       "      <td>1.6</td>\n",
       "      <td>North America</td>\n",
       "    </tr>\n",
       "    <tr>\n",
       "      <th>1</th>\n",
       "      <td>India</td>\n",
       "      <td>34697860</td>\n",
       "      <td>475636</td>\n",
       "      <td>34690510</td>\n",
       "      <td>475434</td>\n",
       "      <td>7350</td>\n",
       "      <td>202</td>\n",
       "      <td>1.4</td>\n",
       "      <td>Asia</td>\n",
       "    </tr>\n",
       "    <tr>\n",
       "      <th>2</th>\n",
       "      <td>Brazil</td>\n",
       "      <td>22177059</td>\n",
       "      <td>616457</td>\n",
       "      <td>22177059</td>\n",
       "      <td>616457</td>\n",
       "      <td>0</td>\n",
       "      <td>0</td>\n",
       "      <td>2.8</td>\n",
       "      <td>South America</td>\n",
       "    </tr>\n",
       "    <tr>\n",
       "      <th>3</th>\n",
       "      <td>United Kingdom</td>\n",
       "      <td>10881189</td>\n",
       "      <td>146896</td>\n",
       "      <td>10833033</td>\n",
       "      <td>146844</td>\n",
       "      <td>48156</td>\n",
       "      <td>52</td>\n",
       "      <td>1.3</td>\n",
       "      <td>Europe</td>\n",
       "    </tr>\n",
       "    <tr>\n",
       "      <th>4</th>\n",
       "      <td>Russia</td>\n",
       "      <td>9842021</td>\n",
       "      <td>283815</td>\n",
       "      <td>9812538</td>\n",
       "      <td>282713</td>\n",
       "      <td>29483</td>\n",
       "      <td>1102</td>\n",
       "      <td>2.9</td>\n",
       "      <td>Europe</td>\n",
       "    </tr>\n",
       "  </tbody>\n",
       "</table>\n",
       "</div>"
      ],
      "text/plain": [
       "   Country/Region     Cases  Deaths    PCases  PDeaths  Cases (+)  Deaths (+)  \\\n",
       "0              US  49921405  797346  49884587   797179      36818         167   \n",
       "1           India  34697860  475636  34690510   475434       7350         202   \n",
       "2          Brazil  22177059  616457  22177059   616457          0           0   \n",
       "3  United Kingdom  10881189  146896  10833033   146844      48156          52   \n",
       "4          Russia   9842021  283815   9812538   282713      29483        1102   \n",
       "\n",
       "   Fatality Rate      Continent  \n",
       "0            1.6  North America  \n",
       "1            1.4           Asia  \n",
       "2            2.8  South America  \n",
       "3            1.3         Europe  \n",
       "4            2.9         Europe  "
      ]
     },
     "execution_count": 15,
     "metadata": {},
     "output_type": "execute_result"
    }
   ],
   "source": [
    "#hide\n",
    "df_table = (pd.DataFrame(dict(Cases=dfc_cases, Deaths=dfc_deaths, PCases=dfp_cases, PDeaths=dfp_deaths))\n",
    "             .sort_values(by=['Cases', 'Deaths'], ascending=[False, False])\n",
    "             .reset_index())\n",
    "df_table.rename(columns={'index': 'Country/Region'}, inplace=True)\n",
    "for c in 'Cases, Deaths'.split(', '):\n",
    "    df_table[f'{c} (+)'] = (df_table[c] - df_table[f'P{c}']).clip(0)  # DATA BUG\n",
    "df_table['Fatality Rate'] = (100 * df_table['Deaths'] / df_table['Cases']).round(1)\n",
    "df_table['Continent'] = df_table['Country/Region'].map(mapping['map.continent'])\n",
    "df_table.head(5)"
   ]
  },
  {
   "cell_type": "code",
   "execution_count": 16,
   "id": "fewer-occasion",
   "metadata": {
    "execution": {
     "iopub.execute_input": "2021-12-13T12:29:53.030061Z",
     "iopub.status.busy": "2021-12-13T12:29:53.029275Z",
     "iopub.status.idle": "2021-12-13T12:29:53.031769Z",
     "shell.execute_reply": "2021-12-13T12:29:53.031327Z"
    },
    "papermill": {
     "duration": 0.043177,
     "end_time": "2021-12-13T12:29:53.031886",
     "exception": false,
     "start_time": "2021-12-13T12:29:52.988709",
     "status": "completed"
    },
    "tags": []
   },
   "outputs": [],
   "source": [
    "#hide\n",
    "#delete problematic countries from table\n",
    "df_table = df_table[~df_table['Country/Region'].isin(['Cape Verde', 'Cruise Ship', 'Kosovo'])]"
   ]
  },
  {
   "cell_type": "code",
   "execution_count": 17,
   "id": "related-center",
   "metadata": {
    "execution": {
     "iopub.execute_input": "2021-12-13T12:29:53.111524Z",
     "iopub.status.busy": "2021-12-13T12:29:53.110907Z",
     "iopub.status.idle": "2021-12-13T12:29:53.123983Z",
     "shell.execute_reply": "2021-12-13T12:29:53.123465Z"
    },
    "papermill": {
     "duration": 0.05908,
     "end_time": "2021-12-13T12:29:53.124107",
     "exception": false,
     "start_time": "2021-12-13T12:29:53.065027",
     "status": "completed"
    },
    "tags": []
   },
   "outputs": [],
   "source": [
    "#hide\n",
    "metrics = [df_table.columns[index] for index in [1,2,5,6]]\n",
    "# s_china = df_table[df_table['Country/Region'].eq('China')][metrics].sum().add_prefix('China ')\n",
    "s_us = df_table[df_table['Country/Region'].eq('US')][metrics].sum().add_prefix('US ')\n",
    "s_eu = df_table[df_table['Continent'].eq('Europe')][metrics].sum().add_prefix('EU ')\n",
    "s_ind = df_table[df_table['Country/Region'].eq('India')][metrics].sum().add_prefix('India ')\n",
    "summary = {'updated': pd.to_datetime(dt_today), 'since': pd.to_datetime(dt_yday)}\n",
    "summary = {'updated': pd.to_datetime(dt_today), 'since': pd.to_datetime(dt_yday)}\n",
    "summary = {**summary, **df_table[metrics].sum(), **s_ind, **s_us, **s_eu}"
   ]
  },
  {
   "cell_type": "code",
   "execution_count": 18,
   "id": "engaging-syndrome",
   "metadata": {
    "execution": {
     "iopub.execute_input": "2021-12-13T12:29:53.197950Z",
     "iopub.status.busy": "2021-12-13T12:29:53.197372Z",
     "iopub.status.idle": "2021-12-13T12:29:53.214359Z",
     "shell.execute_reply": "2021-12-13T12:29:53.213742Z"
    },
    "papermill": {
     "duration": 0.055962,
     "end_time": "2021-12-13T12:29:53.214487",
     "exception": false,
     "start_time": "2021-12-13T12:29:53.158525",
     "status": "completed"
    },
    "tags": []
   },
   "outputs": [],
   "source": [
    "#hide\n",
    "dft_ct_new_cases = dft_cases.groupby(COL_REGION)[dt_cols].sum().diff(axis=1).fillna(0).astype(int)"
   ]
  },
  {
   "cell_type": "code",
   "execution_count": 19,
   "id": "neutral-assignment",
   "metadata": {
    "execution": {
     "iopub.execute_input": "2021-12-13T12:29:53.288717Z",
     "iopub.status.busy": "2021-12-13T12:29:53.288162Z",
     "iopub.status.idle": "2021-12-13T12:29:53.290868Z",
     "shell.execute_reply": "2021-12-13T12:29:53.291400Z"
    },
    "papermill": {
     "duration": 0.043098,
     "end_time": "2021-12-13T12:29:53.291530",
     "exception": false,
     "start_time": "2021-12-13T12:29:53.248432",
     "status": "completed"
    },
    "tags": []
   },
   "outputs": [],
   "source": [
    "#hide\n",
    "everydaycases = dft_ct_new_cases.cumsum(axis=1)"
   ]
  },
  {
   "cell_type": "code",
   "execution_count": 20,
   "id": "parliamentary-calgary",
   "metadata": {
    "execution": {
     "iopub.execute_input": "2021-12-13T12:29:53.363541Z",
     "iopub.status.busy": "2021-12-13T12:29:53.362977Z",
     "iopub.status.idle": "2021-12-13T12:29:54.019342Z",
     "shell.execute_reply": "2021-12-13T12:29:54.018819Z"
    },
    "papermill": {
     "duration": 0.694404,
     "end_time": "2021-12-13T12:29:54.019476",
     "exception": false,
     "start_time": "2021-12-13T12:29:53.325072",
     "status": "completed"
    },
    "tags": []
   },
   "outputs": [],
   "source": [
    "#hide\n",
    "import pandas as pd\n",
    "import matplotlib.pyplot as plt\n",
    "import matplotlib.ticker as ticker\n",
    "import matplotlib.animation as animation\n",
    "from IPython.display import HTML"
   ]
  },
  {
   "cell_type": "code",
   "execution_count": 21,
   "id": "lasting-extraction",
   "metadata": {
    "execution": {
     "iopub.execute_input": "2021-12-13T12:29:54.093621Z",
     "iopub.status.busy": "2021-12-13T12:29:54.093033Z",
     "iopub.status.idle": "2021-12-13T12:29:54.099354Z",
     "shell.execute_reply": "2021-12-13T12:29:54.098875Z"
    },
    "papermill": {
     "duration": 0.046906,
     "end_time": "2021-12-13T12:29:54.099481",
     "exception": false,
     "start_time": "2021-12-13T12:29:54.052575",
     "status": "completed"
    },
    "tags": []
   },
   "outputs": [],
   "source": [
    "#hide\n",
    "t = everydaycases.stack()"
   ]
  },
  {
   "cell_type": "code",
   "execution_count": 22,
   "id": "premier-sleeve",
   "metadata": {
    "execution": {
     "iopub.execute_input": "2021-12-13T12:29:54.171197Z",
     "iopub.status.busy": "2021-12-13T12:29:54.170583Z",
     "iopub.status.idle": "2021-12-13T12:29:54.181762Z",
     "shell.execute_reply": "2021-12-13T12:29:54.182213Z"
    },
    "papermill": {
     "duration": 0.049703,
     "end_time": "2021-12-13T12:29:54.182348",
     "exception": false,
     "start_time": "2021-12-13T12:29:54.132645",
     "status": "completed"
    },
    "tags": []
   },
   "outputs": [],
   "source": [
    "#hide\n",
    "g = t.reset_index(['Country/Region'])"
   ]
  },
  {
   "cell_type": "code",
   "execution_count": 23,
   "id": "distributed-pittsburgh",
   "metadata": {
    "execution": {
     "iopub.execute_input": "2021-12-13T12:29:54.253811Z",
     "iopub.status.busy": "2021-12-13T12:29:54.253175Z",
     "iopub.status.idle": "2021-12-13T12:29:54.256126Z",
     "shell.execute_reply": "2021-12-13T12:29:54.255642Z"
    },
    "papermill": {
     "duration": 0.040597,
     "end_time": "2021-12-13T12:29:54.256251",
     "exception": false,
     "start_time": "2021-12-13T12:29:54.215654",
     "status": "completed"
    },
    "tags": []
   },
   "outputs": [],
   "source": [
    "#hide\n",
    "g.index.name = 'date'"
   ]
  },
  {
   "cell_type": "code",
   "execution_count": 24,
   "id": "naked-donor",
   "metadata": {
    "execution": {
     "iopub.execute_input": "2021-12-13T12:29:54.331679Z",
     "iopub.status.busy": "2021-12-13T12:29:54.330615Z",
     "iopub.status.idle": "2021-12-13T12:29:54.335081Z",
     "shell.execute_reply": "2021-12-13T12:29:54.335530Z"
    },
    "papermill": {
     "duration": 0.044192,
     "end_time": "2021-12-13T12:29:54.335662",
     "exception": false,
     "start_time": "2021-12-13T12:29:54.291470",
     "status": "completed"
    },
    "tags": []
   },
   "outputs": [],
   "source": [
    "# #hide\n",
    "# g = g.reset_index(['date'])"
   ]
  },
  {
   "cell_type": "code",
   "execution_count": 25,
   "id": "incomplete-mustang",
   "metadata": {
    "execution": {
     "iopub.execute_input": "2021-12-13T12:29:54.407301Z",
     "iopub.status.busy": "2021-12-13T12:29:54.406687Z",
     "iopub.status.idle": "2021-12-13T12:29:54.410745Z",
     "shell.execute_reply": "2021-12-13T12:29:54.410266Z"
    },
    "papermill": {
     "duration": 0.041205,
     "end_time": "2021-12-13T12:29:54.410882",
     "exception": false,
     "start_time": "2021-12-13T12:29:54.369677",
     "status": "completed"
    },
    "tags": []
   },
   "outputs": [],
   "source": [
    "#hide\n",
    "# g.head()"
   ]
  },
  {
   "cell_type": "code",
   "execution_count": 26,
   "id": "specific-kruger",
   "metadata": {
    "execution": {
     "iopub.execute_input": "2021-12-13T12:29:54.483056Z",
     "iopub.status.busy": "2021-12-13T12:29:54.482493Z",
     "iopub.status.idle": "2021-12-13T12:29:54.485178Z",
     "shell.execute_reply": "2021-12-13T12:29:54.485756Z"
    },
    "papermill": {
     "duration": 0.040899,
     "end_time": "2021-12-13T12:29:54.485900",
     "exception": false,
     "start_time": "2021-12-13T12:29:54.445001",
     "status": "completed"
    },
    "tags": []
   },
   "outputs": [],
   "source": [
    "#hide\n",
    "# g.columns = ['date','country','cases']"
   ]
  },
  {
   "cell_type": "code",
   "execution_count": 27,
   "id": "tender-conversion",
   "metadata": {
    "execution": {
     "iopub.execute_input": "2021-12-13T12:29:54.558250Z",
     "iopub.status.busy": "2021-12-13T12:29:54.557577Z",
     "iopub.status.idle": "2021-12-13T12:29:54.561050Z",
     "shell.execute_reply": "2021-12-13T12:29:54.561473Z"
    },
    "papermill": {
     "duration": 0.042136,
     "end_time": "2021-12-13T12:29:54.561613",
     "exception": false,
     "start_time": "2021-12-13T12:29:54.519477",
     "status": "completed"
    },
    "tags": []
   },
   "outputs": [],
   "source": [
    "#hide\n",
    "# g['continent'] = g.country"
   ]
  },
  {
   "cell_type": "code",
   "execution_count": 28,
   "id": "substantial-wilderness",
   "metadata": {
    "execution": {
     "iopub.execute_input": "2021-12-13T12:29:54.633591Z",
     "iopub.status.busy": "2021-12-13T12:29:54.633024Z",
     "iopub.status.idle": "2021-12-13T12:29:54.635442Z",
     "shell.execute_reply": "2021-12-13T12:29:54.635911Z"
    },
    "papermill": {
     "duration": 0.040299,
     "end_time": "2021-12-13T12:29:54.636063",
     "exception": false,
     "start_time": "2021-12-13T12:29:54.595764",
     "status": "completed"
    },
    "tags": []
   },
   "outputs": [],
   "source": [
    "#hide\n",
    "# cols = list(g.columns.values)"
   ]
  },
  {
   "cell_type": "code",
   "execution_count": 29,
   "id": "solved-farming",
   "metadata": {
    "execution": {
     "iopub.execute_input": "2021-12-13T12:29:54.708208Z",
     "iopub.status.busy": "2021-12-13T12:29:54.707595Z",
     "iopub.status.idle": "2021-12-13T12:29:54.710053Z",
     "shell.execute_reply": "2021-12-13T12:29:54.710559Z"
    },
    "papermill": {
     "duration": 0.041053,
     "end_time": "2021-12-13T12:29:54.710699",
     "exception": false,
     "start_time": "2021-12-13T12:29:54.669646",
     "status": "completed"
    },
    "tags": []
   },
   "outputs": [],
   "source": [
    "#hide\n",
    "# cols.insert(0, cols.pop())"
   ]
  },
  {
   "cell_type": "code",
   "execution_count": 30,
   "id": "executed-adoption",
   "metadata": {
    "execution": {
     "iopub.execute_input": "2021-12-13T12:29:54.782306Z",
     "iopub.status.busy": "2021-12-13T12:29:54.781566Z",
     "iopub.status.idle": "2021-12-13T12:29:54.785125Z",
     "shell.execute_reply": "2021-12-13T12:29:54.785551Z"
    },
    "papermill": {
     "duration": 0.041273,
     "end_time": "2021-12-13T12:29:54.785688",
     "exception": false,
     "start_time": "2021-12-13T12:29:54.744415",
     "status": "completed"
    },
    "tags": []
   },
   "outputs": [],
   "source": [
    "#hide\n",
    "# g = g[cols]"
   ]
  },
  {
   "cell_type": "code",
   "execution_count": 31,
   "id": "subject-dublin",
   "metadata": {
    "execution": {
     "iopub.execute_input": "2021-12-13T12:29:54.861240Z",
     "iopub.status.busy": "2021-12-13T12:29:54.857072Z",
     "iopub.status.idle": "2021-12-13T12:29:54.861917Z",
     "shell.execute_reply": "2021-12-13T12:29:54.862385Z"
    },
    "papermill": {
     "duration": 0.043377,
     "end_time": "2021-12-13T12:29:54.862520",
     "exception": false,
     "start_time": "2021-12-13T12:29:54.819143",
     "status": "completed"
    },
    "tags": []
   },
   "outputs": [],
   "source": [
    "#hide\n",
    "# g['continent'] = g['continent'].map(mapping['map.continent'])"
   ]
  },
  {
   "cell_type": "code",
   "execution_count": 32,
   "id": "freelance-scout",
   "metadata": {
    "execution": {
     "iopub.execute_input": "2021-12-13T12:29:54.934755Z",
     "iopub.status.busy": "2021-12-13T12:29:54.934130Z",
     "iopub.status.idle": "2021-12-13T12:29:54.936635Z",
     "shell.execute_reply": "2021-12-13T12:29:54.937087Z"
    },
    "papermill": {
     "duration": 0.040773,
     "end_time": "2021-12-13T12:29:54.937226",
     "exception": false,
     "start_time": "2021-12-13T12:29:54.896453",
     "status": "completed"
    },
    "tags": []
   },
   "outputs": [],
   "source": [
    "#hide\n",
    "# g.head()"
   ]
  },
  {
   "cell_type": "code",
   "execution_count": 33,
   "id": "limited-engine",
   "metadata": {
    "execution": {
     "iopub.execute_input": "2021-12-13T12:29:55.010259Z",
     "iopub.status.busy": "2021-12-13T12:29:55.009658Z",
     "iopub.status.idle": "2021-12-13T12:29:55.012273Z",
     "shell.execute_reply": "2021-12-13T12:29:55.012734Z"
    },
    "papermill": {
     "duration": 0.041192,
     "end_time": "2021-12-13T12:29:55.012910",
     "exception": false,
     "start_time": "2021-12-13T12:29:54.971718",
     "status": "completed"
    },
    "tags": []
   },
   "outputs": [],
   "source": [
    "# hide\n",
    "# g['date'] = g['date'].astype('datetime64[ns]')"
   ]
  },
  {
   "cell_type": "code",
   "execution_count": 34,
   "id": "sophisticated-supervisor",
   "metadata": {
    "execution": {
     "iopub.execute_input": "2021-12-13T12:29:55.084907Z",
     "iopub.status.busy": "2021-12-13T12:29:55.084262Z",
     "iopub.status.idle": "2021-12-13T12:29:55.085921Z",
     "shell.execute_reply": "2021-12-13T12:29:55.086369Z"
    },
    "papermill": {
     "duration": 0.040054,
     "end_time": "2021-12-13T12:29:55.086515",
     "exception": false,
     "start_time": "2021-12-13T12:29:55.046461",
     "status": "completed"
    },
    "tags": []
   },
   "outputs": [],
   "source": [
    "#hide\n",
    "# g['date'] = g.date.dt.dayofyear"
   ]
  },
  {
   "cell_type": "code",
   "execution_count": 35,
   "id": "inside-dubai",
   "metadata": {
    "execution": {
     "iopub.execute_input": "2021-12-13T12:29:55.165616Z",
     "iopub.status.busy": "2021-12-13T12:29:55.164499Z",
     "iopub.status.idle": "2021-12-13T12:29:55.168399Z",
     "shell.execute_reply": "2021-12-13T12:29:55.167876Z"
    },
    "papermill": {
     "duration": 0.043022,
     "end_time": "2021-12-13T12:29:55.168522",
     "exception": false,
     "start_time": "2021-12-13T12:29:55.125500",
     "status": "completed"
    },
    "tags": []
   },
   "outputs": [],
   "source": [
    "#hide\n",
    "# g = g.rename(columns= {'continent':'group','country':'name','cases':'value'})"
   ]
  },
  {
   "cell_type": "code",
   "execution_count": 36,
   "id": "fleet-motorcycle",
   "metadata": {
    "execution": {
     "iopub.execute_input": "2021-12-13T12:29:55.240182Z",
     "iopub.status.busy": "2021-12-13T12:29:55.239550Z",
     "iopub.status.idle": "2021-12-13T12:29:55.243381Z",
     "shell.execute_reply": "2021-12-13T12:29:55.242848Z"
    },
    "papermill": {
     "duration": 0.040759,
     "end_time": "2021-12-13T12:29:55.243500",
     "exception": false,
     "start_time": "2021-12-13T12:29:55.202741",
     "status": "completed"
    },
    "tags": []
   },
   "outputs": [],
   "source": [
    "#hide\n",
    "# cols = ['name','group','day','value']"
   ]
  },
  {
   "cell_type": "code",
   "execution_count": 37,
   "id": "continued-sleeping",
   "metadata": {
    "execution": {
     "iopub.execute_input": "2021-12-13T12:29:55.316496Z",
     "iopub.status.busy": "2021-12-13T12:29:55.315610Z",
     "iopub.status.idle": "2021-12-13T12:29:55.319954Z",
     "shell.execute_reply": "2021-12-13T12:29:55.320370Z"
    },
    "papermill": {
     "duration": 0.042651,
     "end_time": "2021-12-13T12:29:55.320505",
     "exception": false,
     "start_time": "2021-12-13T12:29:55.277854",
     "status": "completed"
    },
    "tags": []
   },
   "outputs": [],
   "source": [
    "#hide\n",
    "# g.rename(columns= {'date':'day'},inplace = True)"
   ]
  },
  {
   "cell_type": "code",
   "execution_count": 38,
   "id": "major-fight",
   "metadata": {
    "execution": {
     "iopub.execute_input": "2021-12-13T12:29:55.392783Z",
     "iopub.status.busy": "2021-12-13T12:29:55.392164Z",
     "iopub.status.idle": "2021-12-13T12:29:55.394541Z",
     "shell.execute_reply": "2021-12-13T12:29:55.394033Z"
    },
    "papermill": {
     "duration": 0.039793,
     "end_time": "2021-12-13T12:29:55.394662",
     "exception": false,
     "start_time": "2021-12-13T12:29:55.354869",
     "status": "completed"
    },
    "tags": []
   },
   "outputs": [],
   "source": [
    "#hide\n",
    "# g = g[cols]"
   ]
  },
  {
   "cell_type": "code",
   "execution_count": 39,
   "id": "structured-mobile",
   "metadata": {
    "execution": {
     "iopub.execute_input": "2021-12-13T12:29:55.467474Z",
     "iopub.status.busy": "2021-12-13T12:29:55.466838Z",
     "iopub.status.idle": "2021-12-13T12:29:55.470114Z",
     "shell.execute_reply": "2021-12-13T12:29:55.469637Z"
    },
    "papermill": {
     "duration": 0.041098,
     "end_time": "2021-12-13T12:29:55.470239",
     "exception": false,
     "start_time": "2021-12-13T12:29:55.429141",
     "status": "completed"
    },
    "tags": []
   },
   "outputs": [],
   "source": [
    "# #hide\n",
    "# g = g[g.group.notna()]"
   ]
  },
  {
   "cell_type": "code",
   "execution_count": 40,
   "id": "determined-closing",
   "metadata": {
    "execution": {
     "iopub.execute_input": "2021-12-13T12:29:55.543727Z",
     "iopub.status.busy": "2021-12-13T12:29:55.543128Z",
     "iopub.status.idle": "2021-12-13T12:29:55.545869Z",
     "shell.execute_reply": "2021-12-13T12:29:55.545365Z"
    },
    "papermill": {
     "duration": 0.040998,
     "end_time": "2021-12-13T12:29:55.545989",
     "exception": false,
     "start_time": "2021-12-13T12:29:55.504991",
     "status": "completed"
    },
    "tags": []
   },
   "outputs": [],
   "source": [
    "# #hide\n",
    "# colors = dict(zip(\n",
    "#     [\"Oceania\", \"Europe\", \"Asia\", \"South America\", \"Middle East\", \"North America\", \"Africa\"],\n",
    "#     [\"#adb0ff\", \"#ffb3ff\", \"#90d595\", \"#e48381\", \"#aafbff\", \"#f7bb5f\", \"#eafb50\"]\n",
    "# ))\n",
    "# group_lk = g.set_index('name')['group'].to_dict()"
   ]
  },
  {
   "cell_type": "code",
   "execution_count": null,
   "id": "gross-drinking",
   "metadata": {
    "papermill": {
     "duration": 0.034177,
     "end_time": "2021-12-13T12:29:55.614308",
     "exception": false,
     "start_time": "2021-12-13T12:29:55.580131",
     "status": "completed"
    },
    "tags": []
   },
   "outputs": [],
   "source": []
  },
  {
   "cell_type": "code",
   "execution_count": 41,
   "id": "subject-macintosh",
   "metadata": {
    "execution": {
     "iopub.execute_input": "2021-12-13T12:29:55.687862Z",
     "iopub.status.busy": "2021-12-13T12:29:55.687230Z",
     "iopub.status.idle": "2021-12-13T12:29:55.691289Z",
     "shell.execute_reply": "2021-12-13T12:29:55.690765Z"
    },
    "papermill": {
     "duration": 0.04332,
     "end_time": "2021-12-13T12:29:55.691403",
     "exception": false,
     "start_time": "2021-12-13T12:29:55.648083",
     "status": "completed"
    },
    "tags": []
   },
   "outputs": [],
   "source": [
    "# #hide\n",
    "# fig, ax = plt.subplots(figsize=(15, 8))\n",
    "\n",
    "# def draw_barchart(current_day):\n",
    "#     dff = g[g['day'].eq(current_day)].sort_values(by='value', ascending=True).tail(10)\n",
    "#     ax.clear()\n",
    "#     ax.barh(dff['name'], dff['value'], color=[colors[group_lk[x]] for x in dff['name']])\n",
    "#     dx = dff['value'].max() / 200\n",
    "    \n",
    "#     for i, (value, name) in enumerate(zip(dff['value'], dff['name'])):\n",
    "#         ax.text(value-dx, i,     name,           size=14, weight=600, ha='right', va='bottom')\n",
    "#         ax.text(value-dx, i-.25, group_lk[name], size=10, color='#444444', ha='right', va='baseline')\n",
    "#         ax.text(value+dx, i,     f'{value:,.0f}',  size=14, ha='left',  va='center')\n",
    "#     ax.text(1, 0.4, current_day, transform=ax.transAxes, color='#777777', size=46, ha='right', weight=800)\n",
    "#     ax.text(0, 1.06, 'Population (thousands)', transform=ax.transAxes, size=12, color='#777777')\n",
    "#     ax.xaxis.set_major_formatter(ticker.StrMethodFormatter('{x:,.0f}'))\n",
    "#     ax.xaxis.set_ticks_position('top')\n",
    "#     ax.tick_params(axis='x', colors='#777777', labelsize=12)\n",
    "#     ax.set_yticks([])\n",
    "#     ax.margins(0, 0.01)\n",
    "#     ax.grid(which='major', axis='x', linestyle='-')\n",
    "#     ax.set_axisbelow(True)\n",
    "    \n",
    "#     ax.text(0, 1.15, 'Coronavirus',\n",
    "#             transform=ax.transAxes, size=24, weight=600, ha='left', va='top')\n",
    "# #     ax.text(1, 0, 'by @pratapvardhan; credit @jburnmurdoch', transform=ax.transAxes, color='#777777', ha='right',\n",
    "# #             bbox=dict(facecolor='white', alpha=0.8, edgecolor='white'))\n",
    "#     plt.box(False)"
   ]
  },
  {
   "cell_type": "code",
   "execution_count": 42,
   "id": "sexual-wages",
   "metadata": {
    "execution": {
     "iopub.execute_input": "2021-12-13T12:29:55.766048Z",
     "iopub.status.busy": "2021-12-13T12:29:55.765145Z",
     "iopub.status.idle": "2021-12-13T12:29:55.766789Z",
     "shell.execute_reply": "2021-12-13T12:29:55.767268Z"
    },
    "papermill": {
     "duration": 0.041184,
     "end_time": "2021-12-13T12:29:55.767410",
     "exception": false,
     "start_time": "2021-12-13T12:29:55.726226",
     "status": "completed"
    },
    "tags": []
   },
   "outputs": [],
   "source": [
    "# #hide_input\n",
    "# fig, ax = plt.subplots(figsize=(15, 8))\n",
    "# animator = animation.FuncAnimation(fig, draw_barchart, frames=range(g.day.values.min(), g.day.values.max()))\n",
    "# HTML(animator.to_jshtml())\n",
    "# # or use animator.to_html5_video() or animator.save() "
   ]
  },
  {
   "cell_type": "code",
   "execution_count": null,
   "id": "australian-container",
   "metadata": {
    "papermill": {
     "duration": 0.034752,
     "end_time": "2021-12-13T12:29:55.836577",
     "exception": false,
     "start_time": "2021-12-13T12:29:55.801825",
     "status": "completed"
    },
    "tags": []
   },
   "outputs": [],
   "source": []
  },
  {
   "cell_type": "code",
   "execution_count": null,
   "id": "mediterranean-pontiac",
   "metadata": {
    "papermill": {
     "duration": 0.034499,
     "end_time": "2021-12-13T12:29:55.905709",
     "exception": false,
     "start_time": "2021-12-13T12:29:55.871210",
     "status": "completed"
    },
    "tags": []
   },
   "outputs": [],
   "source": []
  },
  {
   "cell_type": "code",
   "execution_count": null,
   "id": "aging-legislature",
   "metadata": {
    "papermill": {
     "duration": 0.033444,
     "end_time": "2021-12-13T12:29:55.972513",
     "exception": false,
     "start_time": "2021-12-13T12:29:55.939069",
     "status": "completed"
    },
    "tags": []
   },
   "outputs": [],
   "source": []
  }
 ],
 "metadata": {
  "kernelspec": {
   "display_name": "Python 3",
   "language": "python",
   "name": "python3"
  },
  "language_info": {
   "codemirror_mode": {
    "name": "ipython",
    "version": 3
   },
   "file_extension": ".py",
   "mimetype": "text/x-python",
   "name": "python",
   "nbconvert_exporter": "python",
   "pygments_lexer": "ipython3",
   "version": "3.6.15"
  },
  "papermill": {
   "duration": 6.656626,
   "end_time": "2021-12-13T12:29:56.316486",
   "environment_variables": {},
   "exception": null,
   "input_path": "2020-03-21-covid19exp.ipynb",
   "output_path": "2020-03-21-covid19exp.ipynb",
   "parameters": {},
   "start_time": "2021-12-13T12:29:49.659860",
   "version": "2.0.0"
  }
 },
 "nbformat": 4,
 "nbformat_minor": 5
}