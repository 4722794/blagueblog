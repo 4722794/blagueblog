{
 "cells": [
  {
   "cell_type": "markdown",
   "id": "muslim-click",
   "metadata": {
    "papermill": {
     "duration": 0.041994,
     "end_time": "2021-05-12T12:11:17.034282",
     "exception": false,
     "start_time": "2021-05-12T12:11:16.992288",
     "status": "completed"
    },
    "tags": []
   },
   "source": [
    "# COVID-19 Case Race\n",
    "> A race chart to see rising cases around the world\n",
    "\n",
    "- author: Hargun Oberoi\n",
    "- image: images/covid-overview.png\n",
    "- hide: false\n",
    "- badges: false"
   ]
  },
  {
   "cell_type": "code",
   "execution_count": 1,
   "id": "proof-material",
   "metadata": {
    "execution": {
     "iopub.execute_input": "2021-05-12T12:11:17.124173Z",
     "iopub.status.busy": "2021-05-12T12:11:17.123527Z",
     "iopub.status.idle": "2021-05-12T12:11:17.541821Z",
     "shell.execute_reply": "2021-05-12T12:11:17.542366Z"
    },
    "papermill": {
     "duration": 0.469517,
     "end_time": "2021-05-12T12:11:17.542561",
     "exception": false,
     "start_time": "2021-05-12T12:11:17.073044",
     "status": "completed"
    },
    "tags": []
   },
   "outputs": [],
   "source": [
    "#hide\n",
    "import numpy as np\n",
    "import pandas as pd\n",
    "from jinja2 import Template\n",
    "from IPython.display import HTML"
   ]
  },
  {
   "cell_type": "code",
   "execution_count": 2,
   "id": "developed-terminology",
   "metadata": {
    "execution": {
     "iopub.execute_input": "2021-05-12T12:11:17.628233Z",
     "iopub.status.busy": "2021-05-12T12:11:17.627423Z",
     "iopub.status.idle": "2021-05-12T12:11:17.629867Z",
     "shell.execute_reply": "2021-05-12T12:11:17.630471Z"
    },
    "papermill": {
     "duration": 0.046311,
     "end_time": "2021-05-12T12:11:17.630697",
     "exception": false,
     "start_time": "2021-05-12T12:11:17.584386",
     "status": "completed"
    },
    "tags": []
   },
   "outputs": [],
   "source": [
    "#hide\n",
    "\n",
    "# FETCH\n",
    "base_url = 'https://raw.githubusercontent.com/pratapvardhan/notebooks/master/covid19/'\n",
    "paths = {\n",
    "    'mapping': base_url + 'mapping_countries.csv',\n",
    "    'overview': base_url + 'overview.tpl'\n",
    "}"
   ]
  },
  {
   "cell_type": "code",
   "execution_count": 3,
   "id": "dynamic-saver",
   "metadata": {
    "execution": {
     "iopub.execute_input": "2021-05-12T12:11:17.720485Z",
     "iopub.status.busy": "2021-05-12T12:11:17.719695Z",
     "iopub.status.idle": "2021-05-12T12:11:17.722606Z",
     "shell.execute_reply": "2021-05-12T12:11:17.723160Z"
    },
    "papermill": {
     "duration": 0.053656,
     "end_time": "2021-05-12T12:11:17.723301",
     "exception": false,
     "start_time": "2021-05-12T12:11:17.669645",
     "status": "completed"
    },
    "tags": []
   },
   "outputs": [
    {
     "data": {
      "text/plain": [
       "'https://raw.githubusercontent.com/pratapvardhan/notebooks/master/covid19/mapping_countries.csv'"
      ]
     },
     "execution_count": 3,
     "metadata": {},
     "output_type": "execute_result"
    }
   ],
   "source": [
    "#hide\n",
    "paths['mapping']"
   ]
  },
  {
   "cell_type": "code",
   "execution_count": 4,
   "id": "urban-software",
   "metadata": {
    "execution": {
     "iopub.execute_input": "2021-05-12T12:11:17.808670Z",
     "iopub.status.busy": "2021-05-12T12:11:17.807977Z",
     "iopub.status.idle": "2021-05-12T12:11:17.809986Z",
     "shell.execute_reply": "2021-05-12T12:11:17.810725Z"
    },
    "papermill": {
     "duration": 0.048494,
     "end_time": "2021-05-12T12:11:17.810945",
     "exception": false,
     "start_time": "2021-05-12T12:11:17.762451",
     "status": "completed"
    },
    "tags": []
   },
   "outputs": [],
   "source": [
    "#hide\n",
    "def get_mappings(url):\n",
    "    df = pd.read_csv(url)\n",
    "    return {\n",
    "        'df': df,\n",
    "        'replace.country': dict(df.dropna(subset=['Name']).set_index('Country')['Name']),\n",
    "        'map.continent': dict(df.set_index('Name')['Continent'])\n",
    "    }"
   ]
  },
  {
   "cell_type": "code",
   "execution_count": 5,
   "id": "intimate-machinery",
   "metadata": {
    "execution": {
     "iopub.execute_input": "2021-05-12T12:11:17.890780Z",
     "iopub.status.busy": "2021-05-12T12:11:17.890137Z",
     "iopub.status.idle": "2021-05-12T12:11:17.941491Z",
     "shell.execute_reply": "2021-05-12T12:11:17.941959Z"
    },
    "papermill": {
     "duration": 0.093546,
     "end_time": "2021-05-12T12:11:17.942115",
     "exception": false,
     "start_time": "2021-05-12T12:11:17.848569",
     "status": "completed"
    },
    "tags": []
   },
   "outputs": [],
   "source": [
    "#hide\n",
    "mapping = get_mappings(paths['mapping'])"
   ]
  },
  {
   "cell_type": "code",
   "execution_count": 6,
   "id": "certified-tactics",
   "metadata": {
    "execution": {
     "iopub.execute_input": "2021-05-12T12:11:18.023420Z",
     "iopub.status.busy": "2021-05-12T12:11:18.022686Z",
     "iopub.status.idle": "2021-05-12T12:11:18.024606Z",
     "shell.execute_reply": "2021-05-12T12:11:18.025064Z"
    },
    "papermill": {
     "duration": 0.044951,
     "end_time": "2021-05-12T12:11:18.025190",
     "exception": false,
     "start_time": "2021-05-12T12:11:17.980239",
     "status": "completed"
    },
    "tags": []
   },
   "outputs": [],
   "source": [
    "#hide\n",
    "def get_template(path):\n",
    "    from urllib.parse import urlparse\n",
    "    if bool(urlparse(path).netloc):\n",
    "        from urllib.request import urlopen\n",
    "        return urlopen(path).read().decode('utf8')\n",
    "    return open(path).read()"
   ]
  },
  {
   "cell_type": "code",
   "execution_count": 7,
   "id": "realistic-blast",
   "metadata": {
    "execution": {
     "iopub.execute_input": "2021-05-12T12:11:18.109074Z",
     "iopub.status.busy": "2021-05-12T12:11:18.108233Z",
     "iopub.status.idle": "2021-05-12T12:11:18.110830Z",
     "shell.execute_reply": "2021-05-12T12:11:18.110288Z"
    },
    "papermill": {
     "duration": 0.048074,
     "end_time": "2021-05-12T12:11:18.110947",
     "exception": false,
     "start_time": "2021-05-12T12:11:18.062873",
     "status": "completed"
    },
    "tags": []
   },
   "outputs": [],
   "source": [
    "#hide\n",
    "def get_frame(name):\n",
    "    url = (\n",
    "        'https://raw.githubusercontent.com/CSSEGISandData/COVID-19/master/csse_covid_19_data/'\n",
    "        f'csse_covid_19_time_series/time_series_covid19_{name}_global.csv')\n",
    "    df = pd.read_csv(url)\n",
    "    # rename countries\n",
    "    df['Country/Region'] = df['Country/Region'].replace(mapping['replace.country'])\n",
    "    return df"
   ]
  },
  {
   "cell_type": "code",
   "execution_count": 8,
   "id": "affiliated-characterization",
   "metadata": {
    "execution": {
     "iopub.execute_input": "2021-05-12T12:11:18.188641Z",
     "iopub.status.busy": "2021-05-12T12:11:18.188055Z",
     "iopub.status.idle": "2021-05-12T12:11:18.190449Z",
     "shell.execute_reply": "2021-05-12T12:11:18.189886Z"
    },
    "papermill": {
     "duration": 0.043981,
     "end_time": "2021-05-12T12:11:18.190566",
     "exception": false,
     "start_time": "2021-05-12T12:11:18.146585",
     "status": "completed"
    },
    "tags": []
   },
   "outputs": [],
   "source": [
    "#hide\n",
    "def get_dates(df):\n",
    "    dt_cols = df.columns[~df.columns.isin(['Province/State', 'Country/Region', 'Lat', 'Long'])]\n",
    "    LAST_DATE_I = -1\n",
    "    # sometimes last column may be empty, then go backwards\n",
    "    for i in range(-1, -len(dt_cols), -1):\n",
    "        if not df[dt_cols[i]].fillna(0).eq(0).all():\n",
    "            LAST_DATE_I = i\n",
    "            break\n",
    "    return LAST_DATE_I, dt_cols"
   ]
  },
  {
   "cell_type": "code",
   "execution_count": 9,
   "id": "recent-optimization",
   "metadata": {
    "execution": {
     "iopub.execute_input": "2021-05-12T12:11:18.274227Z",
     "iopub.status.busy": "2021-05-12T12:11:18.273457Z",
     "iopub.status.idle": "2021-05-12T12:11:18.661794Z",
     "shell.execute_reply": "2021-05-12T12:11:18.661282Z"
    },
    "papermill": {
     "duration": 0.434137,
     "end_time": "2021-05-12T12:11:18.661947",
     "exception": false,
     "start_time": "2021-05-12T12:11:18.227810",
     "status": "completed"
    },
    "tags": []
   },
   "outputs": [],
   "source": [
    "#hide\n",
    "COL_REGION = 'Country/Region'\n",
    "# Confirmed, Recovered, Deaths\n",
    "df = get_frame('confirmed')\n",
    "# dft_: timeseries, dfc_: today country agg\n",
    "dft_cases = df\n",
    "dft_deaths = get_frame('deaths')\n",
    "dft_recovered = get_frame('recovered')\n",
    "LAST_DATE_I, dt_cols = get_dates(df)"
   ]
  },
  {
   "cell_type": "code",
   "execution_count": 10,
   "id": "absolute-copper",
   "metadata": {
    "execution": {
     "iopub.execute_input": "2021-05-12T12:11:18.763035Z",
     "iopub.status.busy": "2021-05-12T12:11:18.762376Z",
     "iopub.status.idle": "2021-05-12T12:11:18.764965Z",
     "shell.execute_reply": "2021-05-12T12:11:18.764389Z"
    },
    "papermill": {
     "duration": 0.058878,
     "end_time": "2021-05-12T12:11:18.765097",
     "exception": false,
     "start_time": "2021-05-12T12:11:18.706219",
     "status": "completed"
    },
    "tags": []
   },
   "outputs": [],
   "source": [
    "#hide\n",
    "LAST_DATE_I, dt_cols = get_dates(df)\n",
    "dt_today =dt_cols[LAST_DATE_I]\n",
    "# dt_5day = dt_cols[LAST_DATE_I - 5]\n",
    "dt_yday = dt_cols[LAST_DATE_I - 1]"
   ]
  },
  {
   "cell_type": "code",
   "execution_count": 11,
   "id": "restricted-sheriff",
   "metadata": {
    "execution": {
     "iopub.execute_input": "2021-05-12T12:11:18.848892Z",
     "iopub.status.busy": "2021-05-12T12:11:18.848323Z",
     "iopub.status.idle": "2021-05-12T12:11:18.855109Z",
     "shell.execute_reply": "2021-05-12T12:11:18.855709Z"
    },
    "papermill": {
     "duration": 0.052812,
     "end_time": "2021-05-12T12:11:18.855835",
     "exception": false,
     "start_time": "2021-05-12T12:11:18.803023",
     "status": "completed"
    },
    "tags": []
   },
   "outputs": [],
   "source": [
    "#hide\n",
    "dfc_cases = dft_cases.groupby(COL_REGION)[dt_today].sum()\n",
    "dfc_deaths = dft_deaths.groupby(COL_REGION)[dt_today].sum()\n",
    "# dfp_cases = dft_cases.groupby(COL_REGION)[dt_5day].sum()\n",
    "# dfp_deaths = dft_deaths.groupby(COL_REGION)[dt_5day].sum()\n",
    "dfp_cases = dft_cases.groupby(COL_REGION)[dt_yday].sum()\n",
    "dfp_deaths = dft_deaths.groupby(COL_REGION)[dt_yday].sum()"
   ]
  },
  {
   "cell_type": "code",
   "execution_count": 12,
   "id": "deluxe-hepatitis",
   "metadata": {
    "execution": {
     "iopub.execute_input": "2021-05-12T12:11:18.938073Z",
     "iopub.status.busy": "2021-05-12T12:11:18.937222Z",
     "iopub.status.idle": "2021-05-12T12:11:18.943346Z",
     "shell.execute_reply": "2021-05-12T12:11:18.942888Z"
    },
    "papermill": {
     "duration": 0.04963,
     "end_time": "2021-05-12T12:11:18.943462",
     "exception": false,
     "start_time": "2021-05-12T12:11:18.893832",
     "status": "completed"
    },
    "tags": []
   },
   "outputs": [],
   "source": [
    "#hide\n",
    "df_table = (pd.DataFrame(dict(Cases = dfc_cases, Deaths = dfc_deaths, PCases = dfp_cases, PDeaths = dfp_deaths))\n",
    "            .sort_values(by = ['Cases','Deaths'], ascending = [False, False])\n",
    "            .reset_index())"
   ]
  },
  {
   "cell_type": "code",
   "execution_count": 13,
   "id": "educational-chancellor",
   "metadata": {
    "execution": {
     "iopub.execute_input": "2021-05-12T12:11:19.046355Z",
     "iopub.status.busy": "2021-05-12T12:11:19.045462Z",
     "iopub.status.idle": "2021-05-12T12:11:19.050156Z",
     "shell.execute_reply": "2021-05-12T12:11:19.050712Z"
    },
    "papermill": {
     "duration": 0.071027,
     "end_time": "2021-05-12T12:11:19.050856",
     "exception": false,
     "start_time": "2021-05-12T12:11:18.979829",
     "status": "completed"
    },
    "tags": []
   },
   "outputs": [
    {
     "data": {
      "text/html": [
       "<div>\n",
       "<style scoped>\n",
       "    .dataframe tbody tr th:only-of-type {\n",
       "        vertical-align: middle;\n",
       "    }\n",
       "\n",
       "    .dataframe tbody tr th {\n",
       "        vertical-align: top;\n",
       "    }\n",
       "\n",
       "    .dataframe thead th {\n",
       "        text-align: right;\n",
       "    }\n",
       "</style>\n",
       "<table border=\"1\" class=\"dataframe\">\n",
       "  <thead>\n",
       "    <tr style=\"text-align: right;\">\n",
       "      <th></th>\n",
       "      <th>Country/Region</th>\n",
       "      <th>Cases</th>\n",
       "      <th>Deaths</th>\n",
       "      <th>PCases</th>\n",
       "      <th>PDeaths</th>\n",
       "      <th>Cases (+)</th>\n",
       "      <th>Deaths (+)</th>\n",
       "      <th>Fatality Rate</th>\n",
       "      <th>Continent</th>\n",
       "    </tr>\n",
       "  </thead>\n",
       "  <tbody>\n",
       "    <tr>\n",
       "      <th>0</th>\n",
       "      <td>US</td>\n",
       "      <td>32778906</td>\n",
       "      <td>582837</td>\n",
       "      <td>32745255</td>\n",
       "      <td>582153</td>\n",
       "      <td>33651</td>\n",
       "      <td>684</td>\n",
       "      <td>1.78</td>\n",
       "      <td>North America</td>\n",
       "    </tr>\n",
       "    <tr>\n",
       "      <th>1</th>\n",
       "      <td>India</td>\n",
       "      <td>23340938</td>\n",
       "      <td>254197</td>\n",
       "      <td>22992517</td>\n",
       "      <td>249992</td>\n",
       "      <td>348421</td>\n",
       "      <td>4205</td>\n",
       "      <td>1.09</td>\n",
       "      <td>Asia</td>\n",
       "    </tr>\n",
       "    <tr>\n",
       "      <th>2</th>\n",
       "      <td>Brazil</td>\n",
       "      <td>15282705</td>\n",
       "      <td>425540</td>\n",
       "      <td>15209990</td>\n",
       "      <td>423229</td>\n",
       "      <td>72715</td>\n",
       "      <td>2311</td>\n",
       "      <td>2.78</td>\n",
       "      <td>South America</td>\n",
       "    </tr>\n",
       "    <tr>\n",
       "      <th>3</th>\n",
       "      <td>France</td>\n",
       "      <td>5861384</td>\n",
       "      <td>107096</td>\n",
       "      <td>5841593</td>\n",
       "      <td>106845</td>\n",
       "      <td>19791</td>\n",
       "      <td>251</td>\n",
       "      <td>1.83</td>\n",
       "      <td>Europe</td>\n",
       "    </tr>\n",
       "    <tr>\n",
       "      <th>4</th>\n",
       "      <td>Turkey</td>\n",
       "      <td>5059433</td>\n",
       "      <td>43589</td>\n",
       "      <td>5044936</td>\n",
       "      <td>43311</td>\n",
       "      <td>14497</td>\n",
       "      <td>278</td>\n",
       "      <td>0.86</td>\n",
       "      <td>Asia</td>\n",
       "    </tr>\n",
       "  </tbody>\n",
       "</table>\n",
       "</div>"
      ],
      "text/plain": [
       "  Country/Region     Cases  Deaths    PCases  PDeaths  Cases (+)  Deaths (+)  \\\n",
       "0             US  32778906  582837  32745255   582153      33651         684   \n",
       "1          India  23340938  254197  22992517   249992     348421        4205   \n",
       "2         Brazil  15282705  425540  15209990   423229      72715        2311   \n",
       "3         France   5861384  107096   5841593   106845      19791         251   \n",
       "4         Turkey   5059433   43589   5044936    43311      14497         278   \n",
       "\n",
       "   Fatality Rate      Continent  \n",
       "0           1.78  North America  \n",
       "1           1.09           Asia  \n",
       "2           2.78  South America  \n",
       "3           1.83         Europe  \n",
       "4           0.86           Asia  "
      ]
     },
     "execution_count": 13,
     "metadata": {},
     "output_type": "execute_result"
    }
   ],
   "source": [
    "#hide\n",
    "for c in 'Cases, Deaths'.split(', '):\n",
    "    df_table[f'{c} (+)'] = (df_table[c] - df_table[f'P{c}']).clip(0)\n",
    "    #Clip ça veut dire, les chiffres negatif sont interdit\n",
    "df_table['Fatality Rate'] = (100* df_table['Deaths']/ df_table['Cases']).round(2)\n",
    "df_table['Continent'] = df_table['Country/Region'].map(mapping['map.continent'])\n",
    "df_table.head(5)"
   ]
  },
  {
   "cell_type": "code",
   "execution_count": 14,
   "id": "aboriginal-bulgaria",
   "metadata": {
    "execution": {
     "iopub.execute_input": "2021-05-12T12:11:19.134435Z",
     "iopub.status.busy": "2021-05-12T12:11:19.133824Z",
     "iopub.status.idle": "2021-05-12T12:11:19.136794Z",
     "shell.execute_reply": "2021-05-12T12:11:19.136218Z"
    },
    "papermill": {
     "duration": 0.047619,
     "end_time": "2021-05-12T12:11:19.136915",
     "exception": false,
     "start_time": "2021-05-12T12:11:19.089296",
     "status": "completed"
    },
    "tags": []
   },
   "outputs": [],
   "source": [
    "#hide\n",
    "#delete problematic countries from table\n",
    "df_table = df_table[~df_table['Country/Region'].isin(['Cape Verde', 'Cruise Ship', 'Kosovo'])]"
   ]
  },
  {
   "cell_type": "code",
   "execution_count": 15,
   "id": "fantastic-effect",
   "metadata": {
    "execution": {
     "iopub.execute_input": "2021-05-12T12:11:19.231035Z",
     "iopub.status.busy": "2021-05-12T12:11:19.230224Z",
     "iopub.status.idle": "2021-05-12T12:11:19.254188Z",
     "shell.execute_reply": "2021-05-12T12:11:19.254780Z"
    },
    "papermill": {
     "duration": 0.077745,
     "end_time": "2021-05-12T12:11:19.255006",
     "exception": false,
     "start_time": "2021-05-12T12:11:19.177261",
     "status": "completed"
    },
    "tags": []
   },
   "outputs": [
    {
     "data": {
      "text/html": [
       "<div>\n",
       "<style scoped>\n",
       "    .dataframe tbody tr th:only-of-type {\n",
       "        vertical-align: middle;\n",
       "    }\n",
       "\n",
       "    .dataframe tbody tr th {\n",
       "        vertical-align: top;\n",
       "    }\n",
       "\n",
       "    .dataframe thead th {\n",
       "        text-align: right;\n",
       "    }\n",
       "</style>\n",
       "<table border=\"1\" class=\"dataframe\">\n",
       "  <thead>\n",
       "    <tr style=\"text-align: right;\">\n",
       "      <th></th>\n",
       "      <th>Country/Region</th>\n",
       "      <th>Cases</th>\n",
       "      <th>Deaths</th>\n",
       "      <th>PCases</th>\n",
       "      <th>PDeaths</th>\n",
       "      <th>Cases (+)</th>\n",
       "      <th>Deaths (+)</th>\n",
       "      <th>Fatality Rate</th>\n",
       "      <th>Continent</th>\n",
       "    </tr>\n",
       "  </thead>\n",
       "  <tbody>\n",
       "    <tr>\n",
       "      <th>0</th>\n",
       "      <td>US</td>\n",
       "      <td>32778906</td>\n",
       "      <td>582837</td>\n",
       "      <td>32745255</td>\n",
       "      <td>582153</td>\n",
       "      <td>33651</td>\n",
       "      <td>684</td>\n",
       "      <td>1.8</td>\n",
       "      <td>North America</td>\n",
       "    </tr>\n",
       "    <tr>\n",
       "      <th>1</th>\n",
       "      <td>India</td>\n",
       "      <td>23340938</td>\n",
       "      <td>254197</td>\n",
       "      <td>22992517</td>\n",
       "      <td>249992</td>\n",
       "      <td>348421</td>\n",
       "      <td>4205</td>\n",
       "      <td>1.1</td>\n",
       "      <td>Asia</td>\n",
       "    </tr>\n",
       "    <tr>\n",
       "      <th>2</th>\n",
       "      <td>Brazil</td>\n",
       "      <td>15282705</td>\n",
       "      <td>425540</td>\n",
       "      <td>15209990</td>\n",
       "      <td>423229</td>\n",
       "      <td>72715</td>\n",
       "      <td>2311</td>\n",
       "      <td>2.8</td>\n",
       "      <td>South America</td>\n",
       "    </tr>\n",
       "    <tr>\n",
       "      <th>3</th>\n",
       "      <td>France</td>\n",
       "      <td>5861384</td>\n",
       "      <td>107096</td>\n",
       "      <td>5841593</td>\n",
       "      <td>106845</td>\n",
       "      <td>19791</td>\n",
       "      <td>251</td>\n",
       "      <td>1.8</td>\n",
       "      <td>Europe</td>\n",
       "    </tr>\n",
       "    <tr>\n",
       "      <th>4</th>\n",
       "      <td>Turkey</td>\n",
       "      <td>5059433</td>\n",
       "      <td>43589</td>\n",
       "      <td>5044936</td>\n",
       "      <td>43311</td>\n",
       "      <td>14497</td>\n",
       "      <td>278</td>\n",
       "      <td>0.9</td>\n",
       "      <td>Asia</td>\n",
       "    </tr>\n",
       "  </tbody>\n",
       "</table>\n",
       "</div>"
      ],
      "text/plain": [
       "  Country/Region     Cases  Deaths    PCases  PDeaths  Cases (+)  Deaths (+)  \\\n",
       "0             US  32778906  582837  32745255   582153      33651         684   \n",
       "1          India  23340938  254197  22992517   249992     348421        4205   \n",
       "2         Brazil  15282705  425540  15209990   423229      72715        2311   \n",
       "3         France   5861384  107096   5841593   106845      19791         251   \n",
       "4         Turkey   5059433   43589   5044936    43311      14497         278   \n",
       "\n",
       "   Fatality Rate      Continent  \n",
       "0            1.8  North America  \n",
       "1            1.1           Asia  \n",
       "2            2.8  South America  \n",
       "3            1.8         Europe  \n",
       "4            0.9           Asia  "
      ]
     },
     "execution_count": 15,
     "metadata": {},
     "output_type": "execute_result"
    }
   ],
   "source": [
    "#hide\n",
    "df_table = (pd.DataFrame(dict(Cases=dfc_cases, Deaths=dfc_deaths, PCases=dfp_cases, PDeaths=dfp_deaths))\n",
    "             .sort_values(by=['Cases', 'Deaths'], ascending=[False, False])\n",
    "             .reset_index())\n",
    "df_table.rename(columns={'index': 'Country/Region'}, inplace=True)\n",
    "for c in 'Cases, Deaths'.split(', '):\n",
    "    df_table[f'{c} (+)'] = (df_table[c] - df_table[f'P{c}']).clip(0)  # DATA BUG\n",
    "df_table['Fatality Rate'] = (100 * df_table['Deaths'] / df_table['Cases']).round(1)\n",
    "df_table['Continent'] = df_table['Country/Region'].map(mapping['map.continent'])\n",
    "df_table.head(5)"
   ]
  },
  {
   "cell_type": "code",
   "execution_count": 16,
   "id": "fewer-occasion",
   "metadata": {
    "execution": {
     "iopub.execute_input": "2021-05-12T12:11:19.342626Z",
     "iopub.status.busy": "2021-05-12T12:11:19.341837Z",
     "iopub.status.idle": "2021-05-12T12:11:19.345183Z",
     "shell.execute_reply": "2021-05-12T12:11:19.345981Z"
    },
    "papermill": {
     "duration": 0.050661,
     "end_time": "2021-05-12T12:11:19.346134",
     "exception": false,
     "start_time": "2021-05-12T12:11:19.295473",
     "status": "completed"
    },
    "tags": []
   },
   "outputs": [],
   "source": [
    "#hide\n",
    "#delete problematic countries from table\n",
    "df_table = df_table[~df_table['Country/Region'].isin(['Cape Verde', 'Cruise Ship', 'Kosovo'])]"
   ]
  },
  {
   "cell_type": "code",
   "execution_count": 17,
   "id": "related-center",
   "metadata": {
    "execution": {
     "iopub.execute_input": "2021-05-12T12:11:19.465681Z",
     "iopub.status.busy": "2021-05-12T12:11:19.464985Z",
     "iopub.status.idle": "2021-05-12T12:11:19.467404Z",
     "shell.execute_reply": "2021-05-12T12:11:19.466862Z"
    },
    "papermill": {
     "duration": 0.078373,
     "end_time": "2021-05-12T12:11:19.467549",
     "exception": false,
     "start_time": "2021-05-12T12:11:19.389176",
     "status": "completed"
    },
    "tags": []
   },
   "outputs": [],
   "source": [
    "#hide\n",
    "metrics = [df_table.columns[index] for index in [1,2,5,6]]\n",
    "# s_china = df_table[df_table['Country/Region'].eq('China')][metrics].sum().add_prefix('China ')\n",
    "s_us = df_table[df_table['Country/Region'].eq('US')][metrics].sum().add_prefix('US ')\n",
    "s_eu = df_table[df_table['Continent'].eq('Europe')][metrics].sum().add_prefix('EU ')\n",
    "s_ind = df_table[df_table['Country/Region'].eq('India')][metrics].sum().add_prefix('India ')\n",
    "summary = {'updated': pd.to_datetime(dt_today), 'since': pd.to_datetime(dt_yday)}\n",
    "summary = {'updated': pd.to_datetime(dt_today), 'since': pd.to_datetime(dt_yday)}\n",
    "summary = {**summary, **df_table[metrics].sum(), **s_ind, **s_us, **s_eu}"
   ]
  },
  {
   "cell_type": "code",
   "execution_count": 18,
   "id": "engaging-syndrome",
   "metadata": {
    "execution": {
     "iopub.execute_input": "2021-05-12T12:11:19.561560Z",
     "iopub.status.busy": "2021-05-12T12:11:19.560962Z",
     "iopub.status.idle": "2021-05-12T12:11:19.574217Z",
     "shell.execute_reply": "2021-05-12T12:11:19.573650Z"
    },
    "papermill": {
     "duration": 0.061132,
     "end_time": "2021-05-12T12:11:19.574342",
     "exception": false,
     "start_time": "2021-05-12T12:11:19.513210",
     "status": "completed"
    },
    "tags": []
   },
   "outputs": [],
   "source": [
    "#hide\n",
    "dft_ct_new_cases = dft_cases.groupby(COL_REGION)[dt_cols].sum().diff(axis=1).fillna(0).astype(int)"
   ]
  },
  {
   "cell_type": "code",
   "execution_count": 19,
   "id": "neutral-assignment",
   "metadata": {
    "execution": {
     "iopub.execute_input": "2021-05-12T12:11:19.667991Z",
     "iopub.status.busy": "2021-05-12T12:11:19.667294Z",
     "iopub.status.idle": "2021-05-12T12:11:19.669838Z",
     "shell.execute_reply": "2021-05-12T12:11:19.670315Z"
    },
    "papermill": {
     "duration": 0.055419,
     "end_time": "2021-05-12T12:11:19.670446",
     "exception": false,
     "start_time": "2021-05-12T12:11:19.615027",
     "status": "completed"
    },
    "tags": []
   },
   "outputs": [],
   "source": [
    "#hide\n",
    "everydaycases = dft_ct_new_cases.cumsum(axis=1)"
   ]
  },
  {
   "cell_type": "code",
   "execution_count": 20,
   "id": "parliamentary-calgary",
   "metadata": {
    "execution": {
     "iopub.execute_input": "2021-05-12T12:11:19.759178Z",
     "iopub.status.busy": "2021-05-12T12:11:19.758400Z",
     "iopub.status.idle": "2021-05-12T12:11:20.473249Z",
     "shell.execute_reply": "2021-05-12T12:11:20.472672Z"
    },
    "papermill": {
     "duration": 0.762037,
     "end_time": "2021-05-12T12:11:20.473396",
     "exception": false,
     "start_time": "2021-05-12T12:11:19.711359",
     "status": "completed"
    },
    "tags": []
   },
   "outputs": [],
   "source": [
    "#hide\n",
    "import pandas as pd\n",
    "import matplotlib.pyplot as plt\n",
    "import matplotlib.ticker as ticker\n",
    "import matplotlib.animation as animation\n",
    "from IPython.display import HTML"
   ]
  },
  {
   "cell_type": "code",
   "execution_count": 21,
   "id": "lasting-extraction",
   "metadata": {
    "execution": {
     "iopub.execute_input": "2021-05-12T12:11:20.577237Z",
     "iopub.status.busy": "2021-05-12T12:11:20.576534Z",
     "iopub.status.idle": "2021-05-12T12:11:20.581787Z",
     "shell.execute_reply": "2021-05-12T12:11:20.582305Z"
    },
    "papermill": {
     "duration": 0.053045,
     "end_time": "2021-05-12T12:11:20.582533",
     "exception": false,
     "start_time": "2021-05-12T12:11:20.529488",
     "status": "completed"
    },
    "tags": []
   },
   "outputs": [],
   "source": [
    "#hide\n",
    "t = everydaycases.stack()"
   ]
  },
  {
   "cell_type": "code",
   "execution_count": 22,
   "id": "premier-sleeve",
   "metadata": {
    "execution": {
     "iopub.execute_input": "2021-05-12T12:11:20.681468Z",
     "iopub.status.busy": "2021-05-12T12:11:20.680620Z",
     "iopub.status.idle": "2021-05-12T12:11:20.689023Z",
     "shell.execute_reply": "2021-05-12T12:11:20.690013Z"
    },
    "papermill": {
     "duration": 0.060532,
     "end_time": "2021-05-12T12:11:20.690189",
     "exception": false,
     "start_time": "2021-05-12T12:11:20.629657",
     "status": "completed"
    },
    "tags": []
   },
   "outputs": [],
   "source": [
    "#hide\n",
    "g = t.reset_index(['Country/Region'])"
   ]
  },
  {
   "cell_type": "code",
   "execution_count": 23,
   "id": "distributed-pittsburgh",
   "metadata": {
    "execution": {
     "iopub.execute_input": "2021-05-12T12:11:20.782122Z",
     "iopub.status.busy": "2021-05-12T12:11:20.781454Z",
     "iopub.status.idle": "2021-05-12T12:11:20.785252Z",
     "shell.execute_reply": "2021-05-12T12:11:20.785765Z"
    },
    "papermill": {
     "duration": 0.051894,
     "end_time": "2021-05-12T12:11:20.785935",
     "exception": false,
     "start_time": "2021-05-12T12:11:20.734041",
     "status": "completed"
    },
    "tags": []
   },
   "outputs": [],
   "source": [
    "#hide\n",
    "g.index.name = 'date'"
   ]
  },
  {
   "cell_type": "code",
   "execution_count": 24,
   "id": "naked-donor",
   "metadata": {
    "execution": {
     "iopub.execute_input": "2021-05-12T12:11:20.879293Z",
     "iopub.status.busy": "2021-05-12T12:11:20.876830Z",
     "iopub.status.idle": "2021-05-12T12:11:20.880956Z",
     "shell.execute_reply": "2021-05-12T12:11:20.883744Z"
    },
    "papermill": {
     "duration": 0.05561,
     "end_time": "2021-05-12T12:11:20.884140",
     "exception": false,
     "start_time": "2021-05-12T12:11:20.828530",
     "status": "completed"
    },
    "tags": []
   },
   "outputs": [],
   "source": [
    "# #hide\n",
    "# g = g.reset_index(['date'])"
   ]
  },
  {
   "cell_type": "code",
   "execution_count": 25,
   "id": "incomplete-mustang",
   "metadata": {
    "execution": {
     "iopub.execute_input": "2021-05-12T12:11:20.979093Z",
     "iopub.status.busy": "2021-05-12T12:11:20.974792Z",
     "iopub.status.idle": "2021-05-12T12:11:20.984839Z",
     "shell.execute_reply": "2021-05-12T12:11:20.984118Z"
    },
    "papermill": {
     "duration": 0.057945,
     "end_time": "2021-05-12T12:11:20.984990",
     "exception": false,
     "start_time": "2021-05-12T12:11:20.927045",
     "status": "completed"
    },
    "tags": []
   },
   "outputs": [],
   "source": [
    "#hide\n",
    "# g.head()"
   ]
  },
  {
   "cell_type": "code",
   "execution_count": 26,
   "id": "specific-kruger",
   "metadata": {
    "execution": {
     "iopub.execute_input": "2021-05-12T12:11:21.080752Z",
     "iopub.status.busy": "2021-05-12T12:11:21.080035Z",
     "iopub.status.idle": "2021-05-12T12:11:21.091552Z",
     "shell.execute_reply": "2021-05-12T12:11:21.092838Z"
    },
    "papermill": {
     "duration": 0.065639,
     "end_time": "2021-05-12T12:11:21.093045",
     "exception": false,
     "start_time": "2021-05-12T12:11:21.027406",
     "status": "completed"
    },
    "tags": []
   },
   "outputs": [],
   "source": [
    "#hide\n",
    "# g.columns = ['date','country','cases']"
   ]
  },
  {
   "cell_type": "code",
   "execution_count": 27,
   "id": "tender-conversion",
   "metadata": {
    "execution": {
     "iopub.execute_input": "2021-05-12T12:11:21.215456Z",
     "iopub.status.busy": "2021-05-12T12:11:21.214748Z",
     "iopub.status.idle": "2021-05-12T12:11:21.219731Z",
     "shell.execute_reply": "2021-05-12T12:11:21.219167Z"
    },
    "papermill": {
     "duration": 0.060768,
     "end_time": "2021-05-12T12:11:21.219880",
     "exception": false,
     "start_time": "2021-05-12T12:11:21.159112",
     "status": "completed"
    },
    "tags": []
   },
   "outputs": [],
   "source": [
    "#hide\n",
    "# g['continent'] = g.country"
   ]
  },
  {
   "cell_type": "code",
   "execution_count": 28,
   "id": "substantial-wilderness",
   "metadata": {
    "execution": {
     "iopub.execute_input": "2021-05-12T12:11:21.312256Z",
     "iopub.status.busy": "2021-05-12T12:11:21.310788Z",
     "iopub.status.idle": "2021-05-12T12:11:21.313071Z",
     "shell.execute_reply": "2021-05-12T12:11:21.313618Z"
    },
    "papermill": {
     "duration": 0.048697,
     "end_time": "2021-05-12T12:11:21.313773",
     "exception": false,
     "start_time": "2021-05-12T12:11:21.265076",
     "status": "completed"
    },
    "tags": []
   },
   "outputs": [],
   "source": [
    "#hide\n",
    "# cols = list(g.columns.values)"
   ]
  },
  {
   "cell_type": "code",
   "execution_count": 29,
   "id": "solved-farming",
   "metadata": {
    "execution": {
     "iopub.execute_input": "2021-05-12T12:11:21.405688Z",
     "iopub.status.busy": "2021-05-12T12:11:21.405003Z",
     "iopub.status.idle": "2021-05-12T12:11:21.407997Z",
     "shell.execute_reply": "2021-05-12T12:11:21.407403Z"
    },
    "papermill": {
     "duration": 0.046708,
     "end_time": "2021-05-12T12:11:21.408158",
     "exception": false,
     "start_time": "2021-05-12T12:11:21.361450",
     "status": "completed"
    },
    "tags": []
   },
   "outputs": [],
   "source": [
    "#hide\n",
    "# cols.insert(0, cols.pop())"
   ]
  },
  {
   "cell_type": "code",
   "execution_count": 30,
   "id": "executed-adoption",
   "metadata": {
    "execution": {
     "iopub.execute_input": "2021-05-12T12:11:21.506169Z",
     "iopub.status.busy": "2021-05-12T12:11:21.505496Z",
     "iopub.status.idle": "2021-05-12T12:11:21.507392Z",
     "shell.execute_reply": "2021-05-12T12:11:21.507931Z"
    },
    "papermill": {
     "duration": 0.049992,
     "end_time": "2021-05-12T12:11:21.508165",
     "exception": false,
     "start_time": "2021-05-12T12:11:21.458173",
     "status": "completed"
    },
    "tags": []
   },
   "outputs": [],
   "source": [
    "#hide\n",
    "# g = g[cols]"
   ]
  },
  {
   "cell_type": "code",
   "execution_count": 31,
   "id": "subject-dublin",
   "metadata": {
    "execution": {
     "iopub.execute_input": "2021-05-12T12:11:21.596896Z",
     "iopub.status.busy": "2021-05-12T12:11:21.596080Z",
     "iopub.status.idle": "2021-05-12T12:11:21.598603Z",
     "shell.execute_reply": "2021-05-12T12:11:21.599216Z"
    },
    "papermill": {
     "duration": 0.049488,
     "end_time": "2021-05-12T12:11:21.599370",
     "exception": false,
     "start_time": "2021-05-12T12:11:21.549882",
     "status": "completed"
    },
    "tags": []
   },
   "outputs": [],
   "source": [
    "#hide\n",
    "# g['continent'] = g['continent'].map(mapping['map.continent'])"
   ]
  },
  {
   "cell_type": "code",
   "execution_count": 32,
   "id": "freelance-scout",
   "metadata": {
    "execution": {
     "iopub.execute_input": "2021-05-12T12:11:21.692239Z",
     "iopub.status.busy": "2021-05-12T12:11:21.691487Z",
     "iopub.status.idle": "2021-05-12T12:11:21.693795Z",
     "shell.execute_reply": "2021-05-12T12:11:21.694637Z"
    },
    "papermill": {
     "duration": 0.052671,
     "end_time": "2021-05-12T12:11:21.694807",
     "exception": false,
     "start_time": "2021-05-12T12:11:21.642136",
     "status": "completed"
    },
    "tags": []
   },
   "outputs": [],
   "source": [
    "#hide\n",
    "# g.head()"
   ]
  },
  {
   "cell_type": "code",
   "execution_count": 33,
   "id": "limited-engine",
   "metadata": {
    "execution": {
     "iopub.execute_input": "2021-05-12T12:11:21.798079Z",
     "iopub.status.busy": "2021-05-12T12:11:21.797137Z",
     "iopub.status.idle": "2021-05-12T12:11:21.799553Z",
     "shell.execute_reply": "2021-05-12T12:11:21.800450Z"
    },
    "papermill": {
     "duration": 0.057047,
     "end_time": "2021-05-12T12:11:21.800721",
     "exception": false,
     "start_time": "2021-05-12T12:11:21.743674",
     "status": "completed"
    },
    "tags": []
   },
   "outputs": [],
   "source": [
    "# hide\n",
    "# g['date'] = g['date'].astype('datetime64[ns]')"
   ]
  },
  {
   "cell_type": "code",
   "execution_count": 34,
   "id": "sophisticated-supervisor",
   "metadata": {
    "execution": {
     "iopub.execute_input": "2021-05-12T12:11:21.911775Z",
     "iopub.status.busy": "2021-05-12T12:11:21.911107Z",
     "iopub.status.idle": "2021-05-12T12:11:21.914002Z",
     "shell.execute_reply": "2021-05-12T12:11:21.913341Z"
    },
    "papermill": {
     "duration": 0.060391,
     "end_time": "2021-05-12T12:11:21.914141",
     "exception": false,
     "start_time": "2021-05-12T12:11:21.853750",
     "status": "completed"
    },
    "tags": []
   },
   "outputs": [],
   "source": [
    "#hide\n",
    "# g['date'] = g.date.dt.dayofyear"
   ]
  },
  {
   "cell_type": "code",
   "execution_count": 35,
   "id": "inside-dubai",
   "metadata": {
    "execution": {
     "iopub.execute_input": "2021-05-12T12:11:22.011388Z",
     "iopub.status.busy": "2021-05-12T12:11:22.010396Z",
     "iopub.status.idle": "2021-05-12T12:11:22.013364Z",
     "shell.execute_reply": "2021-05-12T12:11:22.014038Z"
    },
    "papermill": {
     "duration": 0.054522,
     "end_time": "2021-05-12T12:11:22.014192",
     "exception": false,
     "start_time": "2021-05-12T12:11:21.959670",
     "status": "completed"
    },
    "tags": []
   },
   "outputs": [],
   "source": [
    "#hide\n",
    "# g = g.rename(columns= {'continent':'group','country':'name','cases':'value'})"
   ]
  },
  {
   "cell_type": "code",
   "execution_count": 36,
   "id": "fleet-motorcycle",
   "metadata": {
    "execution": {
     "iopub.execute_input": "2021-05-12T12:11:22.117674Z",
     "iopub.status.busy": "2021-05-12T12:11:22.116648Z",
     "iopub.status.idle": "2021-05-12T12:11:22.118602Z",
     "shell.execute_reply": "2021-05-12T12:11:22.120149Z"
    },
    "papermill": {
     "duration": 0.059365,
     "end_time": "2021-05-12T12:11:22.120366",
     "exception": false,
     "start_time": "2021-05-12T12:11:22.061001",
     "status": "completed"
    },
    "tags": []
   },
   "outputs": [],
   "source": [
    "#hide\n",
    "# cols = ['name','group','day','value']"
   ]
  },
  {
   "cell_type": "code",
   "execution_count": 37,
   "id": "continued-sleeping",
   "metadata": {
    "execution": {
     "iopub.execute_input": "2021-05-12T12:11:22.233649Z",
     "iopub.status.busy": "2021-05-12T12:11:22.232867Z",
     "iopub.status.idle": "2021-05-12T12:11:22.235584Z",
     "shell.execute_reply": "2021-05-12T12:11:22.236363Z"
    },
    "papermill": {
     "duration": 0.056244,
     "end_time": "2021-05-12T12:11:22.236624",
     "exception": false,
     "start_time": "2021-05-12T12:11:22.180380",
     "status": "completed"
    },
    "tags": []
   },
   "outputs": [],
   "source": [
    "#hide\n",
    "# g.rename(columns= {'date':'day'},inplace = True)"
   ]
  },
  {
   "cell_type": "code",
   "execution_count": 38,
   "id": "major-fight",
   "metadata": {
    "execution": {
     "iopub.execute_input": "2021-05-12T12:11:22.336072Z",
     "iopub.status.busy": "2021-05-12T12:11:22.335247Z",
     "iopub.status.idle": "2021-05-12T12:11:22.338430Z",
     "shell.execute_reply": "2021-05-12T12:11:22.337863Z"
    },
    "papermill": {
     "duration": 0.052947,
     "end_time": "2021-05-12T12:11:22.338561",
     "exception": false,
     "start_time": "2021-05-12T12:11:22.285614",
     "status": "completed"
    },
    "tags": []
   },
   "outputs": [],
   "source": [
    "#hide\n",
    "# g = g[cols]"
   ]
  },
  {
   "cell_type": "code",
   "execution_count": 39,
   "id": "structured-mobile",
   "metadata": {
    "execution": {
     "iopub.execute_input": "2021-05-12T12:11:22.431128Z",
     "iopub.status.busy": "2021-05-12T12:11:22.430462Z",
     "iopub.status.idle": "2021-05-12T12:11:22.433193Z",
     "shell.execute_reply": "2021-05-12T12:11:22.432646Z"
    },
    "papermill": {
     "duration": 0.051506,
     "end_time": "2021-05-12T12:11:22.433338",
     "exception": false,
     "start_time": "2021-05-12T12:11:22.381832",
     "status": "completed"
    },
    "tags": []
   },
   "outputs": [],
   "source": [
    "# #hide\n",
    "# g = g[g.group.notna()]"
   ]
  },
  {
   "cell_type": "code",
   "execution_count": 40,
   "id": "determined-closing",
   "metadata": {
    "execution": {
     "iopub.execute_input": "2021-05-12T12:11:22.532376Z",
     "iopub.status.busy": "2021-05-12T12:11:22.531654Z",
     "iopub.status.idle": "2021-05-12T12:11:22.533743Z",
     "shell.execute_reply": "2021-05-12T12:11:22.534358Z"
    },
    "papermill": {
     "duration": 0.049501,
     "end_time": "2021-05-12T12:11:22.534513",
     "exception": false,
     "start_time": "2021-05-12T12:11:22.485012",
     "status": "completed"
    },
    "tags": []
   },
   "outputs": [],
   "source": [
    "# #hide\n",
    "# colors = dict(zip(\n",
    "#     [\"Oceania\", \"Europe\", \"Asia\", \"South America\", \"Middle East\", \"North America\", \"Africa\"],\n",
    "#     [\"#adb0ff\", \"#ffb3ff\", \"#90d595\", \"#e48381\", \"#aafbff\", \"#f7bb5f\", \"#eafb50\"]\n",
    "# ))\n",
    "# group_lk = g.set_index('name')['group'].to_dict()"
   ]
  },
  {
   "cell_type": "code",
   "execution_count": null,
   "id": "gross-drinking",
   "metadata": {
    "papermill": {
     "duration": 0.041559,
     "end_time": "2021-05-12T12:11:22.620441",
     "exception": false,
     "start_time": "2021-05-12T12:11:22.578882",
     "status": "completed"
    },
    "tags": []
   },
   "outputs": [],
   "source": []
  },
  {
   "cell_type": "code",
   "execution_count": 41,
   "id": "subject-macintosh",
   "metadata": {
    "execution": {
     "iopub.execute_input": "2021-05-12T12:11:22.706716Z",
     "iopub.status.busy": "2021-05-12T12:11:22.706024Z",
     "iopub.status.idle": "2021-05-12T12:11:22.707973Z",
     "shell.execute_reply": "2021-05-12T12:11:22.708579Z"
    },
    "papermill": {
     "duration": 0.047858,
     "end_time": "2021-05-12T12:11:22.708731",
     "exception": false,
     "start_time": "2021-05-12T12:11:22.660873",
     "status": "completed"
    },
    "tags": []
   },
   "outputs": [],
   "source": [
    "# #hide\n",
    "# fig, ax = plt.subplots(figsize=(15, 8))\n",
    "\n",
    "# def draw_barchart(current_day):\n",
    "#     dff = g[g['day'].eq(current_day)].sort_values(by='value', ascending=True).tail(10)\n",
    "#     ax.clear()\n",
    "#     ax.barh(dff['name'], dff['value'], color=[colors[group_lk[x]] for x in dff['name']])\n",
    "#     dx = dff['value'].max() / 200\n",
    "    \n",
    "#     for i, (value, name) in enumerate(zip(dff['value'], dff['name'])):\n",
    "#         ax.text(value-dx, i,     name,           size=14, weight=600, ha='right', va='bottom')\n",
    "#         ax.text(value-dx, i-.25, group_lk[name], size=10, color='#444444', ha='right', va='baseline')\n",
    "#         ax.text(value+dx, i,     f'{value:,.0f}',  size=14, ha='left',  va='center')\n",
    "#     ax.text(1, 0.4, current_day, transform=ax.transAxes, color='#777777', size=46, ha='right', weight=800)\n",
    "#     ax.text(0, 1.06, 'Population (thousands)', transform=ax.transAxes, size=12, color='#777777')\n",
    "#     ax.xaxis.set_major_formatter(ticker.StrMethodFormatter('{x:,.0f}'))\n",
    "#     ax.xaxis.set_ticks_position('top')\n",
    "#     ax.tick_params(axis='x', colors='#777777', labelsize=12)\n",
    "#     ax.set_yticks([])\n",
    "#     ax.margins(0, 0.01)\n",
    "#     ax.grid(which='major', axis='x', linestyle='-')\n",
    "#     ax.set_axisbelow(True)\n",
    "    \n",
    "#     ax.text(0, 1.15, 'Coronavirus',\n",
    "#             transform=ax.transAxes, size=24, weight=600, ha='left', va='top')\n",
    "# #     ax.text(1, 0, 'by @pratapvardhan; credit @jburnmurdoch', transform=ax.transAxes, color='#777777', ha='right',\n",
    "# #             bbox=dict(facecolor='white', alpha=0.8, edgecolor='white'))\n",
    "#     plt.box(False)"
   ]
  },
  {
   "cell_type": "code",
   "execution_count": 42,
   "id": "sexual-wages",
   "metadata": {
    "execution": {
     "iopub.execute_input": "2021-05-12T12:11:22.796414Z",
     "iopub.status.busy": "2021-05-12T12:11:22.795697Z",
     "iopub.status.idle": "2021-05-12T12:11:22.797684Z",
     "shell.execute_reply": "2021-05-12T12:11:22.798203Z"
    },
    "papermill": {
     "duration": 0.047998,
     "end_time": "2021-05-12T12:11:22.798366",
     "exception": false,
     "start_time": "2021-05-12T12:11:22.750368",
     "status": "completed"
    },
    "tags": []
   },
   "outputs": [],
   "source": [
    "# #hide_input\n",
    "# fig, ax = plt.subplots(figsize=(15, 8))\n",
    "# animator = animation.FuncAnimation(fig, draw_barchart, frames=range(g.day.values.min(), g.day.values.max()))\n",
    "# HTML(animator.to_jshtml())\n",
    "# # or use animator.to_html5_video() or animator.save() "
   ]
  },
  {
   "cell_type": "code",
   "execution_count": null,
   "id": "australian-container",
   "metadata": {
    "papermill": {
     "duration": 0.042199,
     "end_time": "2021-05-12T12:11:22.881650",
     "exception": false,
     "start_time": "2021-05-12T12:11:22.839451",
     "status": "completed"
    },
    "tags": []
   },
   "outputs": [],
   "source": []
  },
  {
   "cell_type": "code",
   "execution_count": null,
   "id": "mediterranean-pontiac",
   "metadata": {
    "papermill": {
     "duration": 0.043108,
     "end_time": "2021-05-12T12:11:22.967989",
     "exception": false,
     "start_time": "2021-05-12T12:11:22.924881",
     "status": "completed"
    },
    "tags": []
   },
   "outputs": [],
   "source": []
  },
  {
   "cell_type": "code",
   "execution_count": null,
   "id": "aging-legislature",
   "metadata": {
    "papermill": {
     "duration": 0.041553,
     "end_time": "2021-05-12T12:11:23.053027",
     "exception": false,
     "start_time": "2021-05-12T12:11:23.011474",
     "status": "completed"
    },
    "tags": []
   },
   "outputs": [],
   "source": []
  }
 ],
 "metadata": {
  "kernelspec": {
   "display_name": "Python 3",
   "language": "python",
   "name": "python3"
  },
  "language_info": {
   "codemirror_mode": {
    "name": "ipython",
    "version": 3
   },
   "file_extension": ".py",
   "mimetype": "text/x-python",
   "name": "python",
   "nbconvert_exporter": "python",
   "pygments_lexer": "ipython3",
   "version": "3.6.13"
  },
  "papermill": {
   "duration": 7.842431,
   "end_time": "2021-05-12T12:11:23.503593",
   "environment_variables": {},
   "exception": null,
   "input_path": "2020-03-21-covid19exp.ipynb",
   "output_path": "2020-03-21-covid19exp.ipynb",
   "parameters": {},
   "start_time": "2021-05-12T12:11:15.661162",
   "version": "2.0.0"
  }
 },
 "nbformat": 4,
 "nbformat_minor": 5
}