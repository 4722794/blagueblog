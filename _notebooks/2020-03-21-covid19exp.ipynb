{
 "cells": [
  {
   "cell_type": "markdown",
   "id": "muslim-click",
   "metadata": {
    "papermill": {
     "duration": 0.038666,
     "end_time": "2022-02-08T00:26:36.306202",
     "exception": false,
     "start_time": "2022-02-08T00:26:36.267536",
     "status": "completed"
    },
    "tags": []
   },
   "source": [
    "# COVID-19 Case Race\n",
    "> A race chart to see rising cases around the world\n",
    "\n",
    "- author: Hargun Oberoi\n",
    "- image: images/covid-overview.png\n",
    "- hide: false\n",
    "- badges: false"
   ]
  },
  {
   "cell_type": "code",
   "execution_count": 1,
   "id": "proof-material",
   "metadata": {
    "execution": {
     "iopub.execute_input": "2022-02-08T00:26:36.387877Z",
     "iopub.status.busy": "2022-02-08T00:26:36.387254Z",
     "iopub.status.idle": "2022-02-08T00:26:36.789523Z",
     "shell.execute_reply": "2022-02-08T00:26:36.788451Z"
    },
    "papermill": {
     "duration": 0.447276,
     "end_time": "2022-02-08T00:26:36.789694",
     "exception": false,
     "start_time": "2022-02-08T00:26:36.342418",
     "status": "completed"
    },
    "tags": []
   },
   "outputs": [],
   "source": [
    "#hide\n",
    "import numpy as np\n",
    "import pandas as pd\n",
    "from jinja2 import Template\n",
    "from IPython.display import HTML"
   ]
  },
  {
   "cell_type": "code",
   "execution_count": 2,
   "id": "developed-terminology",
   "metadata": {
    "execution": {
     "iopub.execute_input": "2022-02-08T00:26:36.863185Z",
     "iopub.status.busy": "2022-02-08T00:26:36.862570Z",
     "iopub.status.idle": "2022-02-08T00:26:36.864873Z",
     "shell.execute_reply": "2022-02-08T00:26:36.864251Z"
    },
    "papermill": {
     "duration": 0.041506,
     "end_time": "2022-02-08T00:26:36.865000",
     "exception": false,
     "start_time": "2022-02-08T00:26:36.823494",
     "status": "completed"
    },
    "tags": []
   },
   "outputs": [],
   "source": [
    "#hide\n",
    "\n",
    "# FETCH\n",
    "base_url = 'https://raw.githubusercontent.com/pratapvardhan/notebooks/master/covid19/'\n",
    "paths = {\n",
    "    'mapping': base_url + 'mapping_countries.csv',\n",
    "    'overview': base_url + 'overview.tpl'\n",
    "}"
   ]
  },
  {
   "cell_type": "code",
   "execution_count": 3,
   "id": "dynamic-saver",
   "metadata": {
    "execution": {
     "iopub.execute_input": "2022-02-08T00:26:36.944754Z",
     "iopub.status.busy": "2022-02-08T00:26:36.944157Z",
     "iopub.status.idle": "2022-02-08T00:26:36.947155Z",
     "shell.execute_reply": "2022-02-08T00:26:36.946567Z"
    },
    "papermill": {
     "duration": 0.048757,
     "end_time": "2022-02-08T00:26:36.947274",
     "exception": false,
     "start_time": "2022-02-08T00:26:36.898517",
     "status": "completed"
    },
    "tags": []
   },
   "outputs": [
    {
     "data": {
      "text/plain": [
       "'https://raw.githubusercontent.com/pratapvardhan/notebooks/master/covid19/mapping_countries.csv'"
      ]
     },
     "execution_count": 3,
     "metadata": {},
     "output_type": "execute_result"
    }
   ],
   "source": [
    "#hide\n",
    "paths['mapping']"
   ]
  },
  {
   "cell_type": "code",
   "execution_count": 4,
   "id": "urban-software",
   "metadata": {
    "execution": {
     "iopub.execute_input": "2022-02-08T00:26:37.020305Z",
     "iopub.status.busy": "2022-02-08T00:26:37.019712Z",
     "iopub.status.idle": "2022-02-08T00:26:37.022517Z",
     "shell.execute_reply": "2022-02-08T00:26:37.022041Z"
    },
    "papermill": {
     "duration": 0.041064,
     "end_time": "2022-02-08T00:26:37.022639",
     "exception": false,
     "start_time": "2022-02-08T00:26:36.981575",
     "status": "completed"
    },
    "tags": []
   },
   "outputs": [],
   "source": [
    "#hide\n",
    "def get_mappings(url):\n",
    "    df = pd.read_csv(url)\n",
    "    return {\n",
    "        'df': df,\n",
    "        'replace.country': dict(df.dropna(subset=['Name']).set_index('Country')['Name']),\n",
    "        'map.continent': dict(df.set_index('Name')['Continent'])\n",
    "    }"
   ]
  },
  {
   "cell_type": "code",
   "execution_count": 5,
   "id": "intimate-machinery",
   "metadata": {
    "execution": {
     "iopub.execute_input": "2022-02-08T00:26:37.095379Z",
     "iopub.status.busy": "2022-02-08T00:26:37.094776Z",
     "iopub.status.idle": "2022-02-08T00:26:37.125497Z",
     "shell.execute_reply": "2022-02-08T00:26:37.124606Z"
    },
    "papermill": {
     "duration": 0.069421,
     "end_time": "2022-02-08T00:26:37.125708",
     "exception": false,
     "start_time": "2022-02-08T00:26:37.056287",
     "status": "completed"
    },
    "tags": []
   },
   "outputs": [],
   "source": [
    "#hide\n",
    "mapping = get_mappings(paths['mapping'])"
   ]
  },
  {
   "cell_type": "code",
   "execution_count": 6,
   "id": "certified-tactics",
   "metadata": {
    "execution": {
     "iopub.execute_input": "2022-02-08T00:26:37.201214Z",
     "iopub.status.busy": "2022-02-08T00:26:37.200470Z",
     "iopub.status.idle": "2022-02-08T00:26:37.205020Z",
     "shell.execute_reply": "2022-02-08T00:26:37.204321Z"
    },
    "papermill": {
     "duration": 0.042893,
     "end_time": "2022-02-08T00:26:37.205162",
     "exception": false,
     "start_time": "2022-02-08T00:26:37.162269",
     "status": "completed"
    },
    "tags": []
   },
   "outputs": [],
   "source": [
    "#hide\n",
    "def get_template(path):\n",
    "    from urllib.parse import urlparse\n",
    "    if bool(urlparse(path).netloc):\n",
    "        from urllib.request import urlopen\n",
    "        return urlopen(path).read().decode('utf8')\n",
    "    return open(path).read()"
   ]
  },
  {
   "cell_type": "code",
   "execution_count": 7,
   "id": "realistic-blast",
   "metadata": {
    "execution": {
     "iopub.execute_input": "2022-02-08T00:26:37.288674Z",
     "iopub.status.busy": "2022-02-08T00:26:37.287997Z",
     "iopub.status.idle": "2022-02-08T00:26:37.289712Z",
     "shell.execute_reply": "2022-02-08T00:26:37.290256Z"
    },
    "papermill": {
     "duration": 0.04629,
     "end_time": "2022-02-08T00:26:37.290408",
     "exception": false,
     "start_time": "2022-02-08T00:26:37.244118",
     "status": "completed"
    },
    "tags": []
   },
   "outputs": [],
   "source": [
    "#hide\n",
    "def get_frame(name):\n",
    "    url = (\n",
    "        'https://raw.githubusercontent.com/CSSEGISandData/COVID-19/master/csse_covid_19_data/'\n",
    "        f'csse_covid_19_time_series/time_series_covid19_{name}_global.csv')\n",
    "    df = pd.read_csv(url)\n",
    "    # rename countries\n",
    "    df['Country/Region'] = df['Country/Region'].replace(mapping['replace.country'])\n",
    "    return df"
   ]
  },
  {
   "cell_type": "code",
   "execution_count": 8,
   "id": "affiliated-characterization",
   "metadata": {
    "execution": {
     "iopub.execute_input": "2022-02-08T00:26:37.365197Z",
     "iopub.status.busy": "2022-02-08T00:26:37.364553Z",
     "iopub.status.idle": "2022-02-08T00:26:37.368144Z",
     "shell.execute_reply": "2022-02-08T00:26:37.367533Z"
    },
    "papermill": {
     "duration": 0.043535,
     "end_time": "2022-02-08T00:26:37.368267",
     "exception": false,
     "start_time": "2022-02-08T00:26:37.324732",
     "status": "completed"
    },
    "tags": []
   },
   "outputs": [],
   "source": [
    "#hide\n",
    "def get_dates(df):\n",
    "    dt_cols = df.columns[~df.columns.isin(['Province/State', 'Country/Region', 'Lat', 'Long'])]\n",
    "    LAST_DATE_I = -1\n",
    "    # sometimes last column may be empty, then go backwards\n",
    "    for i in range(-1, -len(dt_cols), -1):\n",
    "        if not df[dt_cols[i]].fillna(0).eq(0).all():\n",
    "            LAST_DATE_I = i\n",
    "            break\n",
    "    return LAST_DATE_I, dt_cols"
   ]
  },
  {
   "cell_type": "code",
   "execution_count": 9,
   "id": "recent-optimization",
   "metadata": {
    "execution": {
     "iopub.execute_input": "2022-02-08T00:26:37.440566Z",
     "iopub.status.busy": "2022-02-08T00:26:37.439953Z",
     "iopub.status.idle": "2022-02-08T00:26:37.779907Z",
     "shell.execute_reply": "2022-02-08T00:26:37.779369Z"
    },
    "papermill": {
     "duration": 0.378151,
     "end_time": "2022-02-08T00:26:37.780051",
     "exception": false,
     "start_time": "2022-02-08T00:26:37.401900",
     "status": "completed"
    },
    "tags": []
   },
   "outputs": [],
   "source": [
    "#hide\n",
    "COL_REGION = 'Country/Region'\n",
    "# Confirmed, Recovered, Deaths\n",
    "df = get_frame('confirmed')\n",
    "# dft_: timeseries, dfc_: today country agg\n",
    "dft_cases = df\n",
    "dft_deaths = get_frame('deaths')\n",
    "dft_recovered = get_frame('recovered')\n",
    "LAST_DATE_I, dt_cols = get_dates(df)"
   ]
  },
  {
   "cell_type": "code",
   "execution_count": 10,
   "id": "absolute-copper",
   "metadata": {
    "execution": {
     "iopub.execute_input": "2022-02-08T00:26:37.855297Z",
     "iopub.status.busy": "2022-02-08T00:26:37.854618Z",
     "iopub.status.idle": "2022-02-08T00:26:37.855864Z",
     "shell.execute_reply": "2022-02-08T00:26:37.856475Z"
    },
    "papermill": {
     "duration": 0.04146,
     "end_time": "2022-02-08T00:26:37.856625",
     "exception": false,
     "start_time": "2022-02-08T00:26:37.815165",
     "status": "completed"
    },
    "tags": []
   },
   "outputs": [],
   "source": [
    "#hide\n",
    "LAST_DATE_I, dt_cols = get_dates(df)\n",
    "dt_today =dt_cols[LAST_DATE_I]\n",
    "# dt_5day = dt_cols[LAST_DATE_I - 5]\n",
    "dt_yday = dt_cols[LAST_DATE_I - 1]"
   ]
  },
  {
   "cell_type": "code",
   "execution_count": 11,
   "id": "restricted-sheriff",
   "metadata": {
    "execution": {
     "iopub.execute_input": "2022-02-08T00:26:37.936086Z",
     "iopub.status.busy": "2022-02-08T00:26:37.935482Z",
     "iopub.status.idle": "2022-02-08T00:26:37.940654Z",
     "shell.execute_reply": "2022-02-08T00:26:37.940146Z"
    },
    "papermill": {
     "duration": 0.050482,
     "end_time": "2022-02-08T00:26:37.940776",
     "exception": false,
     "start_time": "2022-02-08T00:26:37.890294",
     "status": "completed"
    },
    "tags": []
   },
   "outputs": [],
   "source": [
    "#hide\n",
    "dfc_cases = dft_cases.groupby(COL_REGION)[dt_today].sum()\n",
    "dfc_deaths = dft_deaths.groupby(COL_REGION)[dt_today].sum()\n",
    "# dfp_cases = dft_cases.groupby(COL_REGION)[dt_5day].sum()\n",
    "# dfp_deaths = dft_deaths.groupby(COL_REGION)[dt_5day].sum()\n",
    "dfp_cases = dft_cases.groupby(COL_REGION)[dt_yday].sum()\n",
    "dfp_deaths = dft_deaths.groupby(COL_REGION)[dt_yday].sum()"
   ]
  },
  {
   "cell_type": "code",
   "execution_count": 12,
   "id": "deluxe-hepatitis",
   "metadata": {
    "execution": {
     "iopub.execute_input": "2022-02-08T00:26:38.016558Z",
     "iopub.status.busy": "2022-02-08T00:26:38.015959Z",
     "iopub.status.idle": "2022-02-08T00:26:38.020731Z",
     "shell.execute_reply": "2022-02-08T00:26:38.020256Z"
    },
    "papermill": {
     "duration": 0.046273,
     "end_time": "2022-02-08T00:26:38.020881",
     "exception": false,
     "start_time": "2022-02-08T00:26:37.974608",
     "status": "completed"
    },
    "tags": []
   },
   "outputs": [],
   "source": [
    "#hide\n",
    "df_table = (pd.DataFrame(dict(Cases = dfc_cases, Deaths = dfc_deaths, PCases = dfp_cases, PDeaths = dfp_deaths))\n",
    "            .sort_values(by = ['Cases','Deaths'], ascending = [False, False])\n",
    "            .reset_index())"
   ]
  },
  {
   "cell_type": "code",
   "execution_count": 13,
   "id": "educational-chancellor",
   "metadata": {
    "execution": {
     "iopub.execute_input": "2022-02-08T00:26:38.108269Z",
     "iopub.status.busy": "2022-02-08T00:26:38.104097Z",
     "iopub.status.idle": "2022-02-08T00:26:38.117874Z",
     "shell.execute_reply": "2022-02-08T00:26:38.117371Z"
    },
    "papermill": {
     "duration": 0.063587,
     "end_time": "2022-02-08T00:26:38.118011",
     "exception": false,
     "start_time": "2022-02-08T00:26:38.054424",
     "status": "completed"
    },
    "tags": []
   },
   "outputs": [
    {
     "data": {
      "text/html": [
       "<div>\n",
       "<style scoped>\n",
       "    .dataframe tbody tr th:only-of-type {\n",
       "        vertical-align: middle;\n",
       "    }\n",
       "\n",
       "    .dataframe tbody tr th {\n",
       "        vertical-align: top;\n",
       "    }\n",
       "\n",
       "    .dataframe thead th {\n",
       "        text-align: right;\n",
       "    }\n",
       "</style>\n",
       "<table border=\"1\" class=\"dataframe\">\n",
       "  <thead>\n",
       "    <tr style=\"text-align: right;\">\n",
       "      <th></th>\n",
       "      <th>Country/Region</th>\n",
       "      <th>Cases</th>\n",
       "      <th>Deaths</th>\n",
       "      <th>PCases</th>\n",
       "      <th>PDeaths</th>\n",
       "      <th>Cases (+)</th>\n",
       "      <th>Deaths (+)</th>\n",
       "      <th>Fatality Rate</th>\n",
       "      <th>Continent</th>\n",
       "    </tr>\n",
       "  </thead>\n",
       "  <tbody>\n",
       "    <tr>\n",
       "      <th>0</th>\n",
       "      <td>US</td>\n",
       "      <td>76511821</td>\n",
       "      <td>902635</td>\n",
       "      <td>76458144</td>\n",
       "      <td>902266</td>\n",
       "      <td>53677</td>\n",
       "      <td>369</td>\n",
       "      <td>1.18</td>\n",
       "      <td>North America</td>\n",
       "    </tr>\n",
       "    <tr>\n",
       "      <th>1</th>\n",
       "      <td>India</td>\n",
       "      <td>42272014</td>\n",
       "      <td>502874</td>\n",
       "      <td>42188138</td>\n",
       "      <td>501979</td>\n",
       "      <td>83876</td>\n",
       "      <td>895</td>\n",
       "      <td>1.19</td>\n",
       "      <td>Asia</td>\n",
       "    </tr>\n",
       "    <tr>\n",
       "      <th>2</th>\n",
       "      <td>Brazil</td>\n",
       "      <td>26546399</td>\n",
       "      <td>632514</td>\n",
       "      <td>26484546</td>\n",
       "      <td>632095</td>\n",
       "      <td>61853</td>\n",
       "      <td>419</td>\n",
       "      <td>2.38</td>\n",
       "      <td>South America</td>\n",
       "    </tr>\n",
       "    <tr>\n",
       "      <th>3</th>\n",
       "      <td>France</td>\n",
       "      <td>20887052</td>\n",
       "      <td>133501</td>\n",
       "      <td>20731613</td>\n",
       "      <td>133372</td>\n",
       "      <td>155439</td>\n",
       "      <td>129</td>\n",
       "      <td>0.64</td>\n",
       "      <td>Europe</td>\n",
       "    </tr>\n",
       "    <tr>\n",
       "      <th>4</th>\n",
       "      <td>United Kingdom</td>\n",
       "      <td>17923805</td>\n",
       "      <td>158856</td>\n",
       "      <td>17870379</td>\n",
       "      <td>158781</td>\n",
       "      <td>53426</td>\n",
       "      <td>75</td>\n",
       "      <td>0.89</td>\n",
       "      <td>Europe</td>\n",
       "    </tr>\n",
       "  </tbody>\n",
       "</table>\n",
       "</div>"
      ],
      "text/plain": [
       "   Country/Region     Cases  Deaths    PCases  PDeaths  Cases (+)  Deaths (+)  \\\n",
       "0              US  76511821  902635  76458144   902266      53677         369   \n",
       "1           India  42272014  502874  42188138   501979      83876         895   \n",
       "2          Brazil  26546399  632514  26484546   632095      61853         419   \n",
       "3          France  20887052  133501  20731613   133372     155439         129   \n",
       "4  United Kingdom  17923805  158856  17870379   158781      53426          75   \n",
       "\n",
       "   Fatality Rate      Continent  \n",
       "0           1.18  North America  \n",
       "1           1.19           Asia  \n",
       "2           2.38  South America  \n",
       "3           0.64         Europe  \n",
       "4           0.89         Europe  "
      ]
     },
     "execution_count": 13,
     "metadata": {},
     "output_type": "execute_result"
    }
   ],
   "source": [
    "#hide\n",
    "for c in 'Cases, Deaths'.split(', '):\n",
    "    df_table[f'{c} (+)'] = (df_table[c] - df_table[f'P{c}']).clip(0)\n",
    "    #Clip ça veut dire, les chiffres negatif sont interdit\n",
    "df_table['Fatality Rate'] = (100* df_table['Deaths']/ df_table['Cases']).round(2)\n",
    "df_table['Continent'] = df_table['Country/Region'].map(mapping['map.continent'])\n",
    "df_table.head(5)"
   ]
  },
  {
   "cell_type": "code",
   "execution_count": 14,
   "id": "aboriginal-bulgaria",
   "metadata": {
    "execution": {
     "iopub.execute_input": "2022-02-08T00:26:38.198978Z",
     "iopub.status.busy": "2022-02-08T00:26:38.198365Z",
     "iopub.status.idle": "2022-02-08T00:26:38.200229Z",
     "shell.execute_reply": "2022-02-08T00:26:38.200678Z"
    },
    "papermill": {
     "duration": 0.044423,
     "end_time": "2022-02-08T00:26:38.200854",
     "exception": false,
     "start_time": "2022-02-08T00:26:38.156431",
     "status": "completed"
    },
    "tags": []
   },
   "outputs": [],
   "source": [
    "#hide\n",
    "#delete problematic countries from table\n",
    "df_table = df_table[~df_table['Country/Region'].isin(['Cape Verde', 'Cruise Ship', 'Kosovo'])]"
   ]
  },
  {
   "cell_type": "code",
   "execution_count": 15,
   "id": "fantastic-effect",
   "metadata": {
    "execution": {
     "iopub.execute_input": "2022-02-08T00:26:38.276675Z",
     "iopub.status.busy": "2022-02-08T00:26:38.276081Z",
     "iopub.status.idle": "2022-02-08T00:26:38.294863Z",
     "shell.execute_reply": "2022-02-08T00:26:38.295343Z"
    },
    "papermill": {
     "duration": 0.060648,
     "end_time": "2022-02-08T00:26:38.295481",
     "exception": false,
     "start_time": "2022-02-08T00:26:38.234833",
     "status": "completed"
    },
    "tags": []
   },
   "outputs": [
    {
     "data": {
      "text/html": [
       "<div>\n",
       "<style scoped>\n",
       "    .dataframe tbody tr th:only-of-type {\n",
       "        vertical-align: middle;\n",
       "    }\n",
       "\n",
       "    .dataframe tbody tr th {\n",
       "        vertical-align: top;\n",
       "    }\n",
       "\n",
       "    .dataframe thead th {\n",
       "        text-align: right;\n",
       "    }\n",
       "</style>\n",
       "<table border=\"1\" class=\"dataframe\">\n",
       "  <thead>\n",
       "    <tr style=\"text-align: right;\">\n",
       "      <th></th>\n",
       "      <th>Country/Region</th>\n",
       "      <th>Cases</th>\n",
       "      <th>Deaths</th>\n",
       "      <th>PCases</th>\n",
       "      <th>PDeaths</th>\n",
       "      <th>Cases (+)</th>\n",
       "      <th>Deaths (+)</th>\n",
       "      <th>Fatality Rate</th>\n",
       "      <th>Continent</th>\n",
       "    </tr>\n",
       "  </thead>\n",
       "  <tbody>\n",
       "    <tr>\n",
       "      <th>0</th>\n",
       "      <td>US</td>\n",
       "      <td>76511821</td>\n",
       "      <td>902635</td>\n",
       "      <td>76458144</td>\n",
       "      <td>902266</td>\n",
       "      <td>53677</td>\n",
       "      <td>369</td>\n",
       "      <td>1.2</td>\n",
       "      <td>North America</td>\n",
       "    </tr>\n",
       "    <tr>\n",
       "      <th>1</th>\n",
       "      <td>India</td>\n",
       "      <td>42272014</td>\n",
       "      <td>502874</td>\n",
       "      <td>42188138</td>\n",
       "      <td>501979</td>\n",
       "      <td>83876</td>\n",
       "      <td>895</td>\n",
       "      <td>1.2</td>\n",
       "      <td>Asia</td>\n",
       "    </tr>\n",
       "    <tr>\n",
       "      <th>2</th>\n",
       "      <td>Brazil</td>\n",
       "      <td>26546399</td>\n",
       "      <td>632514</td>\n",
       "      <td>26484546</td>\n",
       "      <td>632095</td>\n",
       "      <td>61853</td>\n",
       "      <td>419</td>\n",
       "      <td>2.4</td>\n",
       "      <td>South America</td>\n",
       "    </tr>\n",
       "    <tr>\n",
       "      <th>3</th>\n",
       "      <td>France</td>\n",
       "      <td>20887052</td>\n",
       "      <td>133501</td>\n",
       "      <td>20731613</td>\n",
       "      <td>133372</td>\n",
       "      <td>155439</td>\n",
       "      <td>129</td>\n",
       "      <td>0.6</td>\n",
       "      <td>Europe</td>\n",
       "    </tr>\n",
       "    <tr>\n",
       "      <th>4</th>\n",
       "      <td>United Kingdom</td>\n",
       "      <td>17923805</td>\n",
       "      <td>158856</td>\n",
       "      <td>17870379</td>\n",
       "      <td>158781</td>\n",
       "      <td>53426</td>\n",
       "      <td>75</td>\n",
       "      <td>0.9</td>\n",
       "      <td>Europe</td>\n",
       "    </tr>\n",
       "  </tbody>\n",
       "</table>\n",
       "</div>"
      ],
      "text/plain": [
       "   Country/Region     Cases  Deaths    PCases  PDeaths  Cases (+)  Deaths (+)  \\\n",
       "0              US  76511821  902635  76458144   902266      53677         369   \n",
       "1           India  42272014  502874  42188138   501979      83876         895   \n",
       "2          Brazil  26546399  632514  26484546   632095      61853         419   \n",
       "3          France  20887052  133501  20731613   133372     155439         129   \n",
       "4  United Kingdom  17923805  158856  17870379   158781      53426          75   \n",
       "\n",
       "   Fatality Rate      Continent  \n",
       "0            1.2  North America  \n",
       "1            1.2           Asia  \n",
       "2            2.4  South America  \n",
       "3            0.6         Europe  \n",
       "4            0.9         Europe  "
      ]
     },
     "execution_count": 15,
     "metadata": {},
     "output_type": "execute_result"
    }
   ],
   "source": [
    "#hide\n",
    "df_table = (pd.DataFrame(dict(Cases=dfc_cases, Deaths=dfc_deaths, PCases=dfp_cases, PDeaths=dfp_deaths))\n",
    "             .sort_values(by=['Cases', 'Deaths'], ascending=[False, False])\n",
    "             .reset_index())\n",
    "df_table.rename(columns={'index': 'Country/Region'}, inplace=True)\n",
    "for c in 'Cases, Deaths'.split(', '):\n",
    "    df_table[f'{c} (+)'] = (df_table[c] - df_table[f'P{c}']).clip(0)  # DATA BUG\n",
    "df_table['Fatality Rate'] = (100 * df_table['Deaths'] / df_table['Cases']).round(1)\n",
    "df_table['Continent'] = df_table['Country/Region'].map(mapping['map.continent'])\n",
    "df_table.head(5)"
   ]
  },
  {
   "cell_type": "code",
   "execution_count": 16,
   "id": "fewer-occasion",
   "metadata": {
    "execution": {
     "iopub.execute_input": "2022-02-08T00:26:38.371441Z",
     "iopub.status.busy": "2022-02-08T00:26:38.370840Z",
     "iopub.status.idle": "2022-02-08T00:26:38.372834Z",
     "shell.execute_reply": "2022-02-08T00:26:38.373294Z"
    },
    "papermill": {
     "duration": 0.042855,
     "end_time": "2022-02-08T00:26:38.373432",
     "exception": false,
     "start_time": "2022-02-08T00:26:38.330577",
     "status": "completed"
    },
    "tags": []
   },
   "outputs": [],
   "source": [
    "#hide\n",
    "#delete problematic countries from table\n",
    "df_table = df_table[~df_table['Country/Region'].isin(['Cape Verde', 'Cruise Ship', 'Kosovo'])]"
   ]
  },
  {
   "cell_type": "code",
   "execution_count": 17,
   "id": "related-center",
   "metadata": {
    "execution": {
     "iopub.execute_input": "2022-02-08T00:26:38.451058Z",
     "iopub.status.busy": "2022-02-08T00:26:38.450460Z",
     "iopub.status.idle": "2022-02-08T00:26:38.463714Z",
     "shell.execute_reply": "2022-02-08T00:26:38.463236Z"
    },
    "papermill": {
     "duration": 0.055907,
     "end_time": "2022-02-08T00:26:38.463833",
     "exception": false,
     "start_time": "2022-02-08T00:26:38.407926",
     "status": "completed"
    },
    "tags": []
   },
   "outputs": [],
   "source": [
    "#hide\n",
    "metrics = [df_table.columns[index] for index in [1,2,5,6]]\n",
    "# s_china = df_table[df_table['Country/Region'].eq('China')][metrics].sum().add_prefix('China ')\n",
    "s_us = df_table[df_table['Country/Region'].eq('US')][metrics].sum().add_prefix('US ')\n",
    "s_eu = df_table[df_table['Continent'].eq('Europe')][metrics].sum().add_prefix('EU ')\n",
    "s_ind = df_table[df_table['Country/Region'].eq('India')][metrics].sum().add_prefix('India ')\n",
    "summary = {'updated': pd.to_datetime(dt_today), 'since': pd.to_datetime(dt_yday)}\n",
    "summary = {'updated': pd.to_datetime(dt_today), 'since': pd.to_datetime(dt_yday)}\n",
    "summary = {**summary, **df_table[metrics].sum(), **s_ind, **s_us, **s_eu}"
   ]
  },
  {
   "cell_type": "code",
   "execution_count": 18,
   "id": "engaging-syndrome",
   "metadata": {
    "execution": {
     "iopub.execute_input": "2022-02-08T00:26:38.539359Z",
     "iopub.status.busy": "2022-02-08T00:26:38.538761Z",
     "iopub.status.idle": "2022-02-08T00:26:38.558316Z",
     "shell.execute_reply": "2022-02-08T00:26:38.557660Z"
    },
    "papermill": {
     "duration": 0.059881,
     "end_time": "2022-02-08T00:26:38.558484",
     "exception": false,
     "start_time": "2022-02-08T00:26:38.498603",
     "status": "completed"
    },
    "tags": []
   },
   "outputs": [],
   "source": [
    "#hide\n",
    "dft_ct_new_cases = dft_cases.groupby(COL_REGION)[dt_cols].sum().diff(axis=1).fillna(0).astype(int)"
   ]
  },
  {
   "cell_type": "code",
   "execution_count": 19,
   "id": "neutral-assignment",
   "metadata": {
    "execution": {
     "iopub.execute_input": "2022-02-08T00:26:38.633651Z",
     "iopub.status.busy": "2022-02-08T00:26:38.633050Z",
     "iopub.status.idle": "2022-02-08T00:26:38.638947Z",
     "shell.execute_reply": "2022-02-08T00:26:38.638470Z"
    },
    "papermill": {
     "duration": 0.044398,
     "end_time": "2022-02-08T00:26:38.639068",
     "exception": false,
     "start_time": "2022-02-08T00:26:38.594670",
     "status": "completed"
    },
    "tags": []
   },
   "outputs": [],
   "source": [
    "#hide\n",
    "everydaycases = dft_ct_new_cases.cumsum(axis=1)"
   ]
  },
  {
   "cell_type": "code",
   "execution_count": 20,
   "id": "parliamentary-calgary",
   "metadata": {
    "execution": {
     "iopub.execute_input": "2022-02-08T00:26:38.713269Z",
     "iopub.status.busy": "2022-02-08T00:26:38.712633Z",
     "iopub.status.idle": "2022-02-08T00:26:39.389334Z",
     "shell.execute_reply": "2022-02-08T00:26:39.389877Z"
    },
    "papermill": {
     "duration": 0.716178,
     "end_time": "2022-02-08T00:26:39.390043",
     "exception": false,
     "start_time": "2022-02-08T00:26:38.673865",
     "status": "completed"
    },
    "tags": []
   },
   "outputs": [],
   "source": [
    "#hide\n",
    "import pandas as pd\n",
    "import matplotlib.pyplot as plt\n",
    "import matplotlib.ticker as ticker\n",
    "import matplotlib.animation as animation\n",
    "from IPython.display import HTML"
   ]
  },
  {
   "cell_type": "code",
   "execution_count": 21,
   "id": "lasting-extraction",
   "metadata": {
    "execution": {
     "iopub.execute_input": "2022-02-08T00:26:39.466319Z",
     "iopub.status.busy": "2022-02-08T00:26:39.465721Z",
     "iopub.status.idle": "2022-02-08T00:26:39.472577Z",
     "shell.execute_reply": "2022-02-08T00:26:39.472099Z"
    },
    "papermill": {
     "duration": 0.047788,
     "end_time": "2022-02-08T00:26:39.472708",
     "exception": false,
     "start_time": "2022-02-08T00:26:39.424920",
     "status": "completed"
    },
    "tags": []
   },
   "outputs": [],
   "source": [
    "#hide\n",
    "t = everydaycases.stack()"
   ]
  },
  {
   "cell_type": "code",
   "execution_count": 22,
   "id": "premier-sleeve",
   "metadata": {
    "execution": {
     "iopub.execute_input": "2022-02-08T00:26:39.546859Z",
     "iopub.status.busy": "2022-02-08T00:26:39.546267Z",
     "iopub.status.idle": "2022-02-08T00:26:39.557044Z",
     "shell.execute_reply": "2022-02-08T00:26:39.557526Z"
    },
    "papermill": {
     "duration": 0.050028,
     "end_time": "2022-02-08T00:26:39.557668",
     "exception": false,
     "start_time": "2022-02-08T00:26:39.507640",
     "status": "completed"
    },
    "tags": []
   },
   "outputs": [],
   "source": [
    "#hide\n",
    "g = t.reset_index(['Country/Region'])"
   ]
  },
  {
   "cell_type": "code",
   "execution_count": 23,
   "id": "distributed-pittsburgh",
   "metadata": {
    "execution": {
     "iopub.execute_input": "2022-02-08T00:26:39.631207Z",
     "iopub.status.busy": "2022-02-08T00:26:39.630588Z",
     "iopub.status.idle": "2022-02-08T00:26:39.634080Z",
     "shell.execute_reply": "2022-02-08T00:26:39.634529Z"
    },
    "papermill": {
     "duration": 0.04241,
     "end_time": "2022-02-08T00:26:39.634671",
     "exception": false,
     "start_time": "2022-02-08T00:26:39.592261",
     "status": "completed"
    },
    "tags": []
   },
   "outputs": [],
   "source": [
    "#hide\n",
    "g.index.name = 'date'"
   ]
  },
  {
   "cell_type": "code",
   "execution_count": 24,
   "id": "naked-donor",
   "metadata": {
    "execution": {
     "iopub.execute_input": "2022-02-08T00:26:39.710073Z",
     "iopub.status.busy": "2022-02-08T00:26:39.708995Z",
     "iopub.status.idle": "2022-02-08T00:26:39.711182Z",
     "shell.execute_reply": "2022-02-08T00:26:39.711997Z"
    },
    "papermill": {
     "duration": 0.042807,
     "end_time": "2022-02-08T00:26:39.712225",
     "exception": false,
     "start_time": "2022-02-08T00:26:39.669418",
     "status": "completed"
    },
    "tags": []
   },
   "outputs": [],
   "source": [
    "# #hide\n",
    "# g = g.reset_index(['date'])"
   ]
  },
  {
   "cell_type": "code",
   "execution_count": 25,
   "id": "incomplete-mustang",
   "metadata": {
    "execution": {
     "iopub.execute_input": "2022-02-08T00:26:39.786275Z",
     "iopub.status.busy": "2022-02-08T00:26:39.785661Z",
     "iopub.status.idle": "2022-02-08T00:26:39.787934Z",
     "shell.execute_reply": "2022-02-08T00:26:39.787462Z"
    },
    "papermill": {
     "duration": 0.040289,
     "end_time": "2022-02-08T00:26:39.788056",
     "exception": false,
     "start_time": "2022-02-08T00:26:39.747767",
     "status": "completed"
    },
    "tags": []
   },
   "outputs": [],
   "source": [
    "#hide\n",
    "# g.head()"
   ]
  },
  {
   "cell_type": "code",
   "execution_count": 26,
   "id": "specific-kruger",
   "metadata": {
    "execution": {
     "iopub.execute_input": "2022-02-08T00:26:39.873156Z",
     "iopub.status.busy": "2022-02-08T00:26:39.872387Z",
     "iopub.status.idle": "2022-02-08T00:26:39.875994Z",
     "shell.execute_reply": "2022-02-08T00:26:39.876443Z"
    },
    "papermill": {
     "duration": 0.047397,
     "end_time": "2022-02-08T00:26:39.876583",
     "exception": false,
     "start_time": "2022-02-08T00:26:39.829186",
     "status": "completed"
    },
    "tags": []
   },
   "outputs": [],
   "source": [
    "#hide\n",
    "# g.columns = ['date','country','cases']"
   ]
  },
  {
   "cell_type": "code",
   "execution_count": 27,
   "id": "tender-conversion",
   "metadata": {
    "execution": {
     "iopub.execute_input": "2022-02-08T00:26:39.949934Z",
     "iopub.status.busy": "2022-02-08T00:26:39.949332Z",
     "iopub.status.idle": "2022-02-08T00:26:39.953350Z",
     "shell.execute_reply": "2022-02-08T00:26:39.952862Z"
    },
    "papermill": {
     "duration": 0.042324,
     "end_time": "2022-02-08T00:26:39.953472",
     "exception": false,
     "start_time": "2022-02-08T00:26:39.911148",
     "status": "completed"
    },
    "tags": []
   },
   "outputs": [],
   "source": [
    "#hide\n",
    "# g['continent'] = g.country"
   ]
  },
  {
   "cell_type": "code",
   "execution_count": 28,
   "id": "substantial-wilderness",
   "metadata": {
    "execution": {
     "iopub.execute_input": "2022-02-08T00:26:40.026621Z",
     "iopub.status.busy": "2022-02-08T00:26:40.026020Z",
     "iopub.status.idle": "2022-02-08T00:26:40.028221Z",
     "shell.execute_reply": "2022-02-08T00:26:40.027630Z"
    },
    "papermill": {
     "duration": 0.040029,
     "end_time": "2022-02-08T00:26:40.028341",
     "exception": false,
     "start_time": "2022-02-08T00:26:39.988312",
     "status": "completed"
    },
    "tags": []
   },
   "outputs": [],
   "source": [
    "#hide\n",
    "# cols = list(g.columns.values)"
   ]
  },
  {
   "cell_type": "code",
   "execution_count": 29,
   "id": "solved-farming",
   "metadata": {
    "execution": {
     "iopub.execute_input": "2022-02-08T00:26:40.102617Z",
     "iopub.status.busy": "2022-02-08T00:26:40.101946Z",
     "iopub.status.idle": "2022-02-08T00:26:40.104262Z",
     "shell.execute_reply": "2022-02-08T00:26:40.103627Z"
    },
    "papermill": {
     "duration": 0.041189,
     "end_time": "2022-02-08T00:26:40.104392",
     "exception": false,
     "start_time": "2022-02-08T00:26:40.063203",
     "status": "completed"
    },
    "tags": []
   },
   "outputs": [],
   "source": [
    "#hide\n",
    "# cols.insert(0, cols.pop())"
   ]
  },
  {
   "cell_type": "code",
   "execution_count": 30,
   "id": "executed-adoption",
   "metadata": {
    "execution": {
     "iopub.execute_input": "2022-02-08T00:26:40.178171Z",
     "iopub.status.busy": "2022-02-08T00:26:40.177557Z",
     "iopub.status.idle": "2022-02-08T00:26:40.179798Z",
     "shell.execute_reply": "2022-02-08T00:26:40.179207Z"
    },
    "papermill": {
     "duration": 0.040168,
     "end_time": "2022-02-08T00:26:40.179919",
     "exception": false,
     "start_time": "2022-02-08T00:26:40.139751",
     "status": "completed"
    },
    "tags": []
   },
   "outputs": [],
   "source": [
    "#hide\n",
    "# g = g[cols]"
   ]
  },
  {
   "cell_type": "code",
   "execution_count": 31,
   "id": "subject-dublin",
   "metadata": {
    "execution": {
     "iopub.execute_input": "2022-02-08T00:26:40.253934Z",
     "iopub.status.busy": "2022-02-08T00:26:40.253323Z",
     "iopub.status.idle": "2022-02-08T00:26:40.256864Z",
     "shell.execute_reply": "2022-02-08T00:26:40.257320Z"
    },
    "papermill": {
     "duration": 0.042788,
     "end_time": "2022-02-08T00:26:40.257462",
     "exception": false,
     "start_time": "2022-02-08T00:26:40.214674",
     "status": "completed"
    },
    "tags": []
   },
   "outputs": [],
   "source": [
    "#hide\n",
    "# g['continent'] = g['continent'].map(mapping['map.continent'])"
   ]
  },
  {
   "cell_type": "code",
   "execution_count": 32,
   "id": "freelance-scout",
   "metadata": {
    "execution": {
     "iopub.execute_input": "2022-02-08T00:26:40.330391Z",
     "iopub.status.busy": "2022-02-08T00:26:40.329788Z",
     "iopub.status.idle": "2022-02-08T00:26:40.331985Z",
     "shell.execute_reply": "2022-02-08T00:26:40.331395Z"
    },
    "papermill": {
     "duration": 0.039886,
     "end_time": "2022-02-08T00:26:40.332103",
     "exception": false,
     "start_time": "2022-02-08T00:26:40.292217",
     "status": "completed"
    },
    "tags": []
   },
   "outputs": [],
   "source": [
    "#hide\n",
    "# g.head()"
   ]
  },
  {
   "cell_type": "code",
   "execution_count": 33,
   "id": "limited-engine",
   "metadata": {
    "execution": {
     "iopub.execute_input": "2022-02-08T00:26:40.406786Z",
     "iopub.status.busy": "2022-02-08T00:26:40.406180Z",
     "iopub.status.idle": "2022-02-08T00:26:40.408041Z",
     "shell.execute_reply": "2022-02-08T00:26:40.408496Z"
    },
    "papermill": {
     "duration": 0.041485,
     "end_time": "2022-02-08T00:26:40.408637",
     "exception": false,
     "start_time": "2022-02-08T00:26:40.367152",
     "status": "completed"
    },
    "tags": []
   },
   "outputs": [],
   "source": [
    "# hide\n",
    "# g['date'] = g['date'].astype('datetime64[ns]')"
   ]
  },
  {
   "cell_type": "code",
   "execution_count": 34,
   "id": "sophisticated-supervisor",
   "metadata": {
    "execution": {
     "iopub.execute_input": "2022-02-08T00:26:40.481994Z",
     "iopub.status.busy": "2022-02-08T00:26:40.481385Z",
     "iopub.status.idle": "2022-02-08T00:26:40.483748Z",
     "shell.execute_reply": "2022-02-08T00:26:40.483246Z"
    },
    "papermill": {
     "duration": 0.040393,
     "end_time": "2022-02-08T00:26:40.483865",
     "exception": false,
     "start_time": "2022-02-08T00:26:40.443472",
     "status": "completed"
    },
    "tags": []
   },
   "outputs": [],
   "source": [
    "#hide\n",
    "# g['date'] = g.date.dt.dayofyear"
   ]
  },
  {
   "cell_type": "code",
   "execution_count": 35,
   "id": "inside-dubai",
   "metadata": {
    "execution": {
     "iopub.execute_input": "2022-02-08T00:26:40.558106Z",
     "iopub.status.busy": "2022-02-08T00:26:40.557510Z",
     "iopub.status.idle": "2022-02-08T00:26:40.561246Z",
     "shell.execute_reply": "2022-02-08T00:26:40.560737Z"
    },
    "papermill": {
     "duration": 0.042839,
     "end_time": "2022-02-08T00:26:40.561370",
     "exception": false,
     "start_time": "2022-02-08T00:26:40.518531",
     "status": "completed"
    },
    "tags": []
   },
   "outputs": [],
   "source": [
    "#hide\n",
    "# g = g.rename(columns= {'continent':'group','country':'name','cases':'value'})"
   ]
  },
  {
   "cell_type": "code",
   "execution_count": 36,
   "id": "fleet-motorcycle",
   "metadata": {
    "execution": {
     "iopub.execute_input": "2022-02-08T00:26:40.636740Z",
     "iopub.status.busy": "2022-02-08T00:26:40.635703Z",
     "iopub.status.idle": "2022-02-08T00:26:40.640040Z",
     "shell.execute_reply": "2022-02-08T00:26:40.639521Z"
    },
    "papermill": {
     "duration": 0.043814,
     "end_time": "2022-02-08T00:26:40.640157",
     "exception": false,
     "start_time": "2022-02-08T00:26:40.596343",
     "status": "completed"
    },
    "tags": []
   },
   "outputs": [],
   "source": [
    "#hide\n",
    "# cols = ['name','group','day','value']"
   ]
  },
  {
   "cell_type": "code",
   "execution_count": 37,
   "id": "continued-sleeping",
   "metadata": {
    "execution": {
     "iopub.execute_input": "2022-02-08T00:26:40.714948Z",
     "iopub.status.busy": "2022-02-08T00:26:40.713914Z",
     "iopub.status.idle": "2022-02-08T00:26:40.718917Z",
     "shell.execute_reply": "2022-02-08T00:26:40.719704Z"
    },
    "papermill": {
     "duration": 0.045092,
     "end_time": "2022-02-08T00:26:40.719843",
     "exception": false,
     "start_time": "2022-02-08T00:26:40.674751",
     "status": "completed"
    },
    "tags": []
   },
   "outputs": [],
   "source": [
    "#hide\n",
    "# g.rename(columns= {'date':'day'},inplace = True)"
   ]
  },
  {
   "cell_type": "code",
   "execution_count": 38,
   "id": "major-fight",
   "metadata": {
    "execution": {
     "iopub.execute_input": "2022-02-08T00:26:40.795223Z",
     "iopub.status.busy": "2022-02-08T00:26:40.794156Z",
     "iopub.status.idle": "2022-02-08T00:26:40.799048Z",
     "shell.execute_reply": "2022-02-08T00:26:40.799838Z"
    },
    "papermill": {
     "duration": 0.045436,
     "end_time": "2022-02-08T00:26:40.800069",
     "exception": false,
     "start_time": "2022-02-08T00:26:40.754633",
     "status": "completed"
    },
    "tags": []
   },
   "outputs": [],
   "source": [
    "#hide\n",
    "# g = g[cols]"
   ]
  },
  {
   "cell_type": "code",
   "execution_count": 39,
   "id": "structured-mobile",
   "metadata": {
    "execution": {
     "iopub.execute_input": "2022-02-08T00:26:40.874306Z",
     "iopub.status.busy": "2022-02-08T00:26:40.873718Z",
     "iopub.status.idle": "2022-02-08T00:26:40.876226Z",
     "shell.execute_reply": "2022-02-08T00:26:40.875750Z"
    },
    "papermill": {
     "duration": 0.0414,
     "end_time": "2022-02-08T00:26:40.876345",
     "exception": false,
     "start_time": "2022-02-08T00:26:40.834945",
     "status": "completed"
    },
    "tags": []
   },
   "outputs": [],
   "source": [
    "# #hide\n",
    "# g = g[g.group.notna()]"
   ]
  },
  {
   "cell_type": "code",
   "execution_count": 40,
   "id": "determined-closing",
   "metadata": {
    "execution": {
     "iopub.execute_input": "2022-02-08T00:26:40.950791Z",
     "iopub.status.busy": "2022-02-08T00:26:40.950174Z",
     "iopub.status.idle": "2022-02-08T00:26:40.953101Z",
     "shell.execute_reply": "2022-02-08T00:26:40.953677Z"
    },
    "papermill": {
     "duration": 0.04259,
     "end_time": "2022-02-08T00:26:40.953813",
     "exception": false,
     "start_time": "2022-02-08T00:26:40.911223",
     "status": "completed"
    },
    "tags": []
   },
   "outputs": [],
   "source": [
    "# #hide\n",
    "# colors = dict(zip(\n",
    "#     [\"Oceania\", \"Europe\", \"Asia\", \"South America\", \"Middle East\", \"North America\", \"Africa\"],\n",
    "#     [\"#adb0ff\", \"#ffb3ff\", \"#90d595\", \"#e48381\", \"#aafbff\", \"#f7bb5f\", \"#eafb50\"]\n",
    "# ))\n",
    "# group_lk = g.set_index('name')['group'].to_dict()"
   ]
  },
  {
   "cell_type": "code",
   "execution_count": null,
   "id": "gross-drinking",
   "metadata": {
    "papermill": {
     "duration": 0.034874,
     "end_time": "2022-02-08T00:26:41.024255",
     "exception": false,
     "start_time": "2022-02-08T00:26:40.989381",
     "status": "completed"
    },
    "tags": []
   },
   "outputs": [],
   "source": []
  },
  {
   "cell_type": "code",
   "execution_count": 41,
   "id": "subject-macintosh",
   "metadata": {
    "execution": {
     "iopub.execute_input": "2022-02-08T00:26:41.099718Z",
     "iopub.status.busy": "2022-02-08T00:26:41.099095Z",
     "iopub.status.idle": "2022-02-08T00:26:41.101470Z",
     "shell.execute_reply": "2022-02-08T00:26:41.100958Z"
    },
    "papermill": {
     "duration": 0.042619,
     "end_time": "2022-02-08T00:26:41.101584",
     "exception": false,
     "start_time": "2022-02-08T00:26:41.058965",
     "status": "completed"
    },
    "tags": []
   },
   "outputs": [],
   "source": [
    "# #hide\n",
    "# fig, ax = plt.subplots(figsize=(15, 8))\n",
    "\n",
    "# def draw_barchart(current_day):\n",
    "#     dff = g[g['day'].eq(current_day)].sort_values(by='value', ascending=True).tail(10)\n",
    "#     ax.clear()\n",
    "#     ax.barh(dff['name'], dff['value'], color=[colors[group_lk[x]] for x in dff['name']])\n",
    "#     dx = dff['value'].max() / 200\n",
    "    \n",
    "#     for i, (value, name) in enumerate(zip(dff['value'], dff['name'])):\n",
    "#         ax.text(value-dx, i,     name,           size=14, weight=600, ha='right', va='bottom')\n",
    "#         ax.text(value-dx, i-.25, group_lk[name], size=10, color='#444444', ha='right', va='baseline')\n",
    "#         ax.text(value+dx, i,     f'{value:,.0f}',  size=14, ha='left',  va='center')\n",
    "#     ax.text(1, 0.4, current_day, transform=ax.transAxes, color='#777777', size=46, ha='right', weight=800)\n",
    "#     ax.text(0, 1.06, 'Population (thousands)', transform=ax.transAxes, size=12, color='#777777')\n",
    "#     ax.xaxis.set_major_formatter(ticker.StrMethodFormatter('{x:,.0f}'))\n",
    "#     ax.xaxis.set_ticks_position('top')\n",
    "#     ax.tick_params(axis='x', colors='#777777', labelsize=12)\n",
    "#     ax.set_yticks([])\n",
    "#     ax.margins(0, 0.01)\n",
    "#     ax.grid(which='major', axis='x', linestyle='-')\n",
    "#     ax.set_axisbelow(True)\n",
    "    \n",
    "#     ax.text(0, 1.15, 'Coronavirus',\n",
    "#             transform=ax.transAxes, size=24, weight=600, ha='left', va='top')\n",
    "# #     ax.text(1, 0, 'by @pratapvardhan; credit @jburnmurdoch', transform=ax.transAxes, color='#777777', ha='right',\n",
    "# #             bbox=dict(facecolor='white', alpha=0.8, edgecolor='white'))\n",
    "#     plt.box(False)"
   ]
  },
  {
   "cell_type": "code",
   "execution_count": 42,
   "id": "sexual-wages",
   "metadata": {
    "execution": {
     "iopub.execute_input": "2022-02-08T00:26:41.176663Z",
     "iopub.status.busy": "2022-02-08T00:26:41.175592Z",
     "iopub.status.idle": "2022-02-08T00:26:41.180947Z",
     "shell.execute_reply": "2022-02-08T00:26:41.180343Z"
    },
    "papermill": {
     "duration": 0.044689,
     "end_time": "2022-02-08T00:26:41.181068",
     "exception": false,
     "start_time": "2022-02-08T00:26:41.136379",
     "status": "completed"
    },
    "tags": []
   },
   "outputs": [],
   "source": [
    "# #hide_input\n",
    "# fig, ax = plt.subplots(figsize=(15, 8))\n",
    "# animator = animation.FuncAnimation(fig, draw_barchart, frames=range(g.day.values.min(), g.day.values.max()))\n",
    "# HTML(animator.to_jshtml())\n",
    "# # or use animator.to_html5_video() or animator.save() "
   ]
  },
  {
   "cell_type": "code",
   "execution_count": null,
   "id": "australian-container",
   "metadata": {
    "papermill": {
     "duration": 0.034782,
     "end_time": "2022-02-08T00:26:41.250627",
     "exception": false,
     "start_time": "2022-02-08T00:26:41.215845",
     "status": "completed"
    },
    "tags": []
   },
   "outputs": [],
   "source": []
  },
  {
   "cell_type": "code",
   "execution_count": null,
   "id": "mediterranean-pontiac",
   "metadata": {
    "papermill": {
     "duration": 0.034686,
     "end_time": "2022-02-08T00:26:41.320034",
     "exception": false,
     "start_time": "2022-02-08T00:26:41.285348",
     "status": "completed"
    },
    "tags": []
   },
   "outputs": [],
   "source": []
  },
  {
   "cell_type": "code",
   "execution_count": null,
   "id": "aging-legislature",
   "metadata": {
    "papermill": {
     "duration": 0.035071,
     "end_time": "2022-02-08T00:26:41.390662",
     "exception": false,
     "start_time": "2022-02-08T00:26:41.355591",
     "status": "completed"
    },
    "tags": []
   },
   "outputs": [],
   "source": []
  }
 ],
 "metadata": {
  "kernelspec": {
   "display_name": "Python 3",
   "language": "python",
   "name": "python3"
  },
  "language_info": {
   "codemirror_mode": {
    "name": "ipython",
    "version": 3
   },
   "file_extension": ".py",
   "mimetype": "text/x-python",
   "name": "python",
   "nbconvert_exporter": "python",
   "pygments_lexer": "ipython3",
   "version": "3.6.15"
  },
  "papermill": {
   "duration": 6.766896,
   "end_time": "2022-02-08T00:26:41.745860",
   "environment_variables": {},
   "exception": null,
   "input_path": "2020-03-21-covid19exp.ipynb",
   "output_path": "2020-03-21-covid19exp.ipynb",
   "parameters": {},
   "start_time": "2022-02-08T00:26:34.978964",
   "version": "2.0.0"
  }
 },
 "nbformat": 4,
 "nbformat_minor": 5
}