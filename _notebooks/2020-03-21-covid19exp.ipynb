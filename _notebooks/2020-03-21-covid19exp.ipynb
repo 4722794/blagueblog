{
 "cells": [
  {
   "cell_type": "markdown",
   "id": "muslim-click",
   "metadata": {
    "papermill": {
     "duration": 0.044326,
     "end_time": "2021-12-09T12:13:19.605545",
     "exception": false,
     "start_time": "2021-12-09T12:13:19.561219",
     "status": "completed"
    },
    "tags": []
   },
   "source": [
    "# COVID-19 Case Race\n",
    "> A race chart to see rising cases around the world\n",
    "\n",
    "- author: Hargun Oberoi\n",
    "- image: images/covid-overview.png\n",
    "- hide: false\n",
    "- badges: false"
   ]
  },
  {
   "cell_type": "code",
   "execution_count": 1,
   "id": "proof-material",
   "metadata": {
    "execution": {
     "iopub.execute_input": "2021-12-09T12:13:19.692336Z",
     "iopub.status.busy": "2021-12-09T12:13:19.691608Z",
     "iopub.status.idle": "2021-12-09T12:13:20.070101Z",
     "shell.execute_reply": "2021-12-09T12:13:20.070741Z"
    },
    "papermill": {
     "duration": 0.426513,
     "end_time": "2021-12-09T12:13:20.070949",
     "exception": false,
     "start_time": "2021-12-09T12:13:19.644436",
     "status": "completed"
    },
    "tags": []
   },
   "outputs": [],
   "source": [
    "#hide\n",
    "import numpy as np\n",
    "import pandas as pd\n",
    "from jinja2 import Template\n",
    "from IPython.display import HTML"
   ]
  },
  {
   "cell_type": "code",
   "execution_count": 2,
   "id": "developed-terminology",
   "metadata": {
    "execution": {
     "iopub.execute_input": "2021-12-09T12:13:20.155550Z",
     "iopub.status.busy": "2021-12-09T12:13:20.154775Z",
     "iopub.status.idle": "2021-12-09T12:13:20.157590Z",
     "shell.execute_reply": "2021-12-09T12:13:20.156822Z"
    },
    "papermill": {
     "duration": 0.047606,
     "end_time": "2021-12-09T12:13:20.157714",
     "exception": false,
     "start_time": "2021-12-09T12:13:20.110108",
     "status": "completed"
    },
    "tags": []
   },
   "outputs": [],
   "source": [
    "#hide\n",
    "\n",
    "# FETCH\n",
    "base_url = 'https://raw.githubusercontent.com/pratapvardhan/notebooks/master/covid19/'\n",
    "paths = {\n",
    "    'mapping': base_url + 'mapping_countries.csv',\n",
    "    'overview': base_url + 'overview.tpl'\n",
    "}"
   ]
  },
  {
   "cell_type": "code",
   "execution_count": 3,
   "id": "dynamic-saver",
   "metadata": {
    "execution": {
     "iopub.execute_input": "2021-12-09T12:13:20.245225Z",
     "iopub.status.busy": "2021-12-09T12:13:20.244440Z",
     "iopub.status.idle": "2021-12-09T12:13:20.252928Z",
     "shell.execute_reply": "2021-12-09T12:13:20.252252Z"
    },
    "papermill": {
     "duration": 0.05583,
     "end_time": "2021-12-09T12:13:20.253073",
     "exception": false,
     "start_time": "2021-12-09T12:13:20.197243",
     "status": "completed"
    },
    "tags": []
   },
   "outputs": [
    {
     "data": {
      "text/plain": [
       "'https://raw.githubusercontent.com/pratapvardhan/notebooks/master/covid19/mapping_countries.csv'"
      ]
     },
     "execution_count": 3,
     "metadata": {},
     "output_type": "execute_result"
    }
   ],
   "source": [
    "#hide\n",
    "paths['mapping']"
   ]
  },
  {
   "cell_type": "code",
   "execution_count": 4,
   "id": "urban-software",
   "metadata": {
    "execution": {
     "iopub.execute_input": "2021-12-09T12:13:20.340950Z",
     "iopub.status.busy": "2021-12-09T12:13:20.340263Z",
     "iopub.status.idle": "2021-12-09T12:13:20.342387Z",
     "shell.execute_reply": "2021-12-09T12:13:20.342947Z"
    },
    "papermill": {
     "duration": 0.048345,
     "end_time": "2021-12-09T12:13:20.343148",
     "exception": false,
     "start_time": "2021-12-09T12:13:20.294803",
     "status": "completed"
    },
    "tags": []
   },
   "outputs": [],
   "source": [
    "#hide\n",
    "def get_mappings(url):\n",
    "    df = pd.read_csv(url)\n",
    "    return {\n",
    "        'df': df,\n",
    "        'replace.country': dict(df.dropna(subset=['Name']).set_index('Country')['Name']),\n",
    "        'map.continent': dict(df.set_index('Name')['Continent'])\n",
    "    }"
   ]
  },
  {
   "cell_type": "code",
   "execution_count": 5,
   "id": "intimate-machinery",
   "metadata": {
    "execution": {
     "iopub.execute_input": "2021-12-09T12:13:20.426570Z",
     "iopub.status.busy": "2021-12-09T12:13:20.425954Z",
     "iopub.status.idle": "2021-12-09T12:13:20.468096Z",
     "shell.execute_reply": "2021-12-09T12:13:20.467508Z"
    },
    "papermill": {
     "duration": 0.085579,
     "end_time": "2021-12-09T12:13:20.468306",
     "exception": false,
     "start_time": "2021-12-09T12:13:20.382727",
     "status": "completed"
    },
    "tags": []
   },
   "outputs": [],
   "source": [
    "#hide\n",
    "mapping = get_mappings(paths['mapping'])"
   ]
  },
  {
   "cell_type": "code",
   "execution_count": 6,
   "id": "certified-tactics",
   "metadata": {
    "execution": {
     "iopub.execute_input": "2021-12-09T12:13:20.548753Z",
     "iopub.status.busy": "2021-12-09T12:13:20.547982Z",
     "iopub.status.idle": "2021-12-09T12:13:20.550952Z",
     "shell.execute_reply": "2021-12-09T12:13:20.551529Z"
    },
    "papermill": {
     "duration": 0.048217,
     "end_time": "2021-12-09T12:13:20.551691",
     "exception": false,
     "start_time": "2021-12-09T12:13:20.503474",
     "status": "completed"
    },
    "tags": []
   },
   "outputs": [],
   "source": [
    "#hide\n",
    "def get_template(path):\n",
    "    from urllib.parse import urlparse\n",
    "    if bool(urlparse(path).netloc):\n",
    "        from urllib.request import urlopen\n",
    "        return urlopen(path).read().decode('utf8')\n",
    "    return open(path).read()"
   ]
  },
  {
   "cell_type": "code",
   "execution_count": 7,
   "id": "realistic-blast",
   "metadata": {
    "execution": {
     "iopub.execute_input": "2021-12-09T12:13:20.634820Z",
     "iopub.status.busy": "2021-12-09T12:13:20.634137Z",
     "iopub.status.idle": "2021-12-09T12:13:20.638691Z",
     "shell.execute_reply": "2021-12-09T12:13:20.638128Z"
    },
    "papermill": {
     "duration": 0.048786,
     "end_time": "2021-12-09T12:13:20.638817",
     "exception": false,
     "start_time": "2021-12-09T12:13:20.590031",
     "status": "completed"
    },
    "tags": []
   },
   "outputs": [],
   "source": [
    "#hide\n",
    "def get_frame(name):\n",
    "    url = (\n",
    "        'https://raw.githubusercontent.com/CSSEGISandData/COVID-19/master/csse_covid_19_data/'\n",
    "        f'csse_covid_19_time_series/time_series_covid19_{name}_global.csv')\n",
    "    df = pd.read_csv(url)\n",
    "    # rename countries\n",
    "    df['Country/Region'] = df['Country/Region'].replace(mapping['replace.country'])\n",
    "    return df"
   ]
  },
  {
   "cell_type": "code",
   "execution_count": 8,
   "id": "affiliated-characterization",
   "metadata": {
    "execution": {
     "iopub.execute_input": "2021-12-09T12:13:20.718526Z",
     "iopub.status.busy": "2021-12-09T12:13:20.717822Z",
     "iopub.status.idle": "2021-12-09T12:13:20.722053Z",
     "shell.execute_reply": "2021-12-09T12:13:20.721586Z"
    },
    "papermill": {
     "duration": 0.046411,
     "end_time": "2021-12-09T12:13:20.722175",
     "exception": false,
     "start_time": "2021-12-09T12:13:20.675764",
     "status": "completed"
    },
    "tags": []
   },
   "outputs": [],
   "source": [
    "#hide\n",
    "def get_dates(df):\n",
    "    dt_cols = df.columns[~df.columns.isin(['Province/State', 'Country/Region', 'Lat', 'Long'])]\n",
    "    LAST_DATE_I = -1\n",
    "    # sometimes last column may be empty, then go backwards\n",
    "    for i in range(-1, -len(dt_cols), -1):\n",
    "        if not df[dt_cols[i]].fillna(0).eq(0).all():\n",
    "            LAST_DATE_I = i\n",
    "            break\n",
    "    return LAST_DATE_I, dt_cols"
   ]
  },
  {
   "cell_type": "code",
   "execution_count": 9,
   "id": "recent-optimization",
   "metadata": {
    "execution": {
     "iopub.execute_input": "2021-12-09T12:13:20.799374Z",
     "iopub.status.busy": "2021-12-09T12:13:20.798601Z",
     "iopub.status.idle": "2021-12-09T12:13:21.287820Z",
     "shell.execute_reply": "2021-12-09T12:13:21.286759Z"
    },
    "papermill": {
     "duration": 0.529655,
     "end_time": "2021-12-09T12:13:21.287993",
     "exception": false,
     "start_time": "2021-12-09T12:13:20.758338",
     "status": "completed"
    },
    "tags": []
   },
   "outputs": [],
   "source": [
    "#hide\n",
    "COL_REGION = 'Country/Region'\n",
    "# Confirmed, Recovered, Deaths\n",
    "df = get_frame('confirmed')\n",
    "# dft_: timeseries, dfc_: today country agg\n",
    "dft_cases = df\n",
    "dft_deaths = get_frame('deaths')\n",
    "dft_recovered = get_frame('recovered')\n",
    "LAST_DATE_I, dt_cols = get_dates(df)"
   ]
  },
  {
   "cell_type": "code",
   "execution_count": 10,
   "id": "absolute-copper",
   "metadata": {
    "execution": {
     "iopub.execute_input": "2021-12-09T12:13:21.380511Z",
     "iopub.status.busy": "2021-12-09T12:13:21.379728Z",
     "iopub.status.idle": "2021-12-09T12:13:21.382049Z",
     "shell.execute_reply": "2021-12-09T12:13:21.381423Z"
    },
    "papermill": {
     "duration": 0.05073,
     "end_time": "2021-12-09T12:13:21.382182",
     "exception": false,
     "start_time": "2021-12-09T12:13:21.331452",
     "status": "completed"
    },
    "tags": []
   },
   "outputs": [],
   "source": [
    "#hide\n",
    "LAST_DATE_I, dt_cols = get_dates(df)\n",
    "dt_today =dt_cols[LAST_DATE_I]\n",
    "# dt_5day = dt_cols[LAST_DATE_I - 5]\n",
    "dt_yday = dt_cols[LAST_DATE_I - 1]"
   ]
  },
  {
   "cell_type": "code",
   "execution_count": 11,
   "id": "restricted-sheriff",
   "metadata": {
    "execution": {
     "iopub.execute_input": "2021-12-09T12:13:21.471396Z",
     "iopub.status.busy": "2021-12-09T12:13:21.466486Z",
     "iopub.status.idle": "2021-12-09T12:13:21.476846Z",
     "shell.execute_reply": "2021-12-09T12:13:21.477390Z"
    },
    "papermill": {
     "duration": 0.055825,
     "end_time": "2021-12-09T12:13:21.477545",
     "exception": false,
     "start_time": "2021-12-09T12:13:21.421720",
     "status": "completed"
    },
    "tags": []
   },
   "outputs": [],
   "source": [
    "#hide\n",
    "dfc_cases = dft_cases.groupby(COL_REGION)[dt_today].sum()\n",
    "dfc_deaths = dft_deaths.groupby(COL_REGION)[dt_today].sum()\n",
    "# dfp_cases = dft_cases.groupby(COL_REGION)[dt_5day].sum()\n",
    "# dfp_deaths = dft_deaths.groupby(COL_REGION)[dt_5day].sum()\n",
    "dfp_cases = dft_cases.groupby(COL_REGION)[dt_yday].sum()\n",
    "dfp_deaths = dft_deaths.groupby(COL_REGION)[dt_yday].sum()"
   ]
  },
  {
   "cell_type": "code",
   "execution_count": 12,
   "id": "deluxe-hepatitis",
   "metadata": {
    "execution": {
     "iopub.execute_input": "2021-12-09T12:13:21.565139Z",
     "iopub.status.busy": "2021-12-09T12:13:21.562281Z",
     "iopub.status.idle": "2021-12-09T12:13:21.567906Z",
     "shell.execute_reply": "2021-12-09T12:13:21.567364Z"
    },
    "papermill": {
     "duration": 0.052761,
     "end_time": "2021-12-09T12:13:21.568026",
     "exception": false,
     "start_time": "2021-12-09T12:13:21.515265",
     "status": "completed"
    },
    "tags": []
   },
   "outputs": [],
   "source": [
    "#hide\n",
    "df_table = (pd.DataFrame(dict(Cases = dfc_cases, Deaths = dfc_deaths, PCases = dfp_cases, PDeaths = dfp_deaths))\n",
    "            .sort_values(by = ['Cases','Deaths'], ascending = [False, False])\n",
    "            .reset_index())"
   ]
  },
  {
   "cell_type": "code",
   "execution_count": 13,
   "id": "educational-chancellor",
   "metadata": {
    "execution": {
     "iopub.execute_input": "2021-12-09T12:13:21.670250Z",
     "iopub.status.busy": "2021-12-09T12:13:21.664366Z",
     "iopub.status.idle": "2021-12-09T12:13:21.680657Z",
     "shell.execute_reply": "2021-12-09T12:13:21.680024Z"
    },
    "papermill": {
     "duration": 0.07354,
     "end_time": "2021-12-09T12:13:21.680798",
     "exception": false,
     "start_time": "2021-12-09T12:13:21.607258",
     "status": "completed"
    },
    "tags": []
   },
   "outputs": [
    {
     "data": {
      "text/html": [
       "<div>\n",
       "<style scoped>\n",
       "    .dataframe tbody tr th:only-of-type {\n",
       "        vertical-align: middle;\n",
       "    }\n",
       "\n",
       "    .dataframe tbody tr th {\n",
       "        vertical-align: top;\n",
       "    }\n",
       "\n",
       "    .dataframe thead th {\n",
       "        text-align: right;\n",
       "    }\n",
       "</style>\n",
       "<table border=\"1\" class=\"dataframe\">\n",
       "  <thead>\n",
       "    <tr style=\"text-align: right;\">\n",
       "      <th></th>\n",
       "      <th>Country/Region</th>\n",
       "      <th>Cases</th>\n",
       "      <th>Deaths</th>\n",
       "      <th>PCases</th>\n",
       "      <th>PDeaths</th>\n",
       "      <th>Cases (+)</th>\n",
       "      <th>Deaths (+)</th>\n",
       "      <th>Fatality Rate</th>\n",
       "      <th>Continent</th>\n",
       "    </tr>\n",
       "  </thead>\n",
       "  <tbody>\n",
       "    <tr>\n",
       "      <th>0</th>\n",
       "      <td>US</td>\n",
       "      <td>49538947</td>\n",
       "      <td>793228</td>\n",
       "      <td>49387208</td>\n",
       "      <td>791514</td>\n",
       "      <td>151739</td>\n",
       "      <td>1714</td>\n",
       "      <td>1.60</td>\n",
       "      <td>North America</td>\n",
       "    </tr>\n",
       "    <tr>\n",
       "      <th>1</th>\n",
       "      <td>India</td>\n",
       "      <td>34666241</td>\n",
       "      <td>474111</td>\n",
       "      <td>34656822</td>\n",
       "      <td>473952</td>\n",
       "      <td>9419</td>\n",
       "      <td>159</td>\n",
       "      <td>1.37</td>\n",
       "      <td>Asia</td>\n",
       "    </tr>\n",
       "    <tr>\n",
       "      <th>2</th>\n",
       "      <td>Brazil</td>\n",
       "      <td>22167781</td>\n",
       "      <td>616251</td>\n",
       "      <td>22157726</td>\n",
       "      <td>616018</td>\n",
       "      <td>10055</td>\n",
       "      <td>233</td>\n",
       "      <td>2.78</td>\n",
       "      <td>South America</td>\n",
       "    </tr>\n",
       "    <tr>\n",
       "      <th>3</th>\n",
       "      <td>United Kingdom</td>\n",
       "      <td>10671538</td>\n",
       "      <td>146444</td>\n",
       "      <td>10620535</td>\n",
       "      <td>146281</td>\n",
       "      <td>51003</td>\n",
       "      <td>163</td>\n",
       "      <td>1.37</td>\n",
       "      <td>Europe</td>\n",
       "    </tr>\n",
       "    <tr>\n",
       "      <th>4</th>\n",
       "      <td>Russia</td>\n",
       "      <td>9722639</td>\n",
       "      <td>279280</td>\n",
       "      <td>9692411</td>\n",
       "      <td>278131</td>\n",
       "      <td>30228</td>\n",
       "      <td>1149</td>\n",
       "      <td>2.87</td>\n",
       "      <td>Europe</td>\n",
       "    </tr>\n",
       "  </tbody>\n",
       "</table>\n",
       "</div>"
      ],
      "text/plain": [
       "   Country/Region     Cases  Deaths    PCases  PDeaths  Cases (+)  Deaths (+)  \\\n",
       "0              US  49538947  793228  49387208   791514     151739        1714   \n",
       "1           India  34666241  474111  34656822   473952       9419         159   \n",
       "2          Brazil  22167781  616251  22157726   616018      10055         233   \n",
       "3  United Kingdom  10671538  146444  10620535   146281      51003         163   \n",
       "4          Russia   9722639  279280   9692411   278131      30228        1149   \n",
       "\n",
       "   Fatality Rate      Continent  \n",
       "0           1.60  North America  \n",
       "1           1.37           Asia  \n",
       "2           2.78  South America  \n",
       "3           1.37         Europe  \n",
       "4           2.87         Europe  "
      ]
     },
     "execution_count": 13,
     "metadata": {},
     "output_type": "execute_result"
    }
   ],
   "source": [
    "#hide\n",
    "for c in 'Cases, Deaths'.split(', '):\n",
    "    df_table[f'{c} (+)'] = (df_table[c] - df_table[f'P{c}']).clip(0)\n",
    "    #Clip ça veut dire, les chiffres negatif sont interdit\n",
    "df_table['Fatality Rate'] = (100* df_table['Deaths']/ df_table['Cases']).round(2)\n",
    "df_table['Continent'] = df_table['Country/Region'].map(mapping['map.continent'])\n",
    "df_table.head(5)"
   ]
  },
  {
   "cell_type": "code",
   "execution_count": 14,
   "id": "aboriginal-bulgaria",
   "metadata": {
    "execution": {
     "iopub.execute_input": "2021-12-09T12:13:21.770392Z",
     "iopub.status.busy": "2021-12-09T12:13:21.769721Z",
     "iopub.status.idle": "2021-12-09T12:13:21.771484Z",
     "shell.execute_reply": "2021-12-09T12:13:21.772956Z"
    },
    "papermill": {
     "duration": 0.051654,
     "end_time": "2021-12-09T12:13:21.773121",
     "exception": false,
     "start_time": "2021-12-09T12:13:21.721467",
     "status": "completed"
    },
    "tags": []
   },
   "outputs": [],
   "source": [
    "#hide\n",
    "#delete problematic countries from table\n",
    "df_table = df_table[~df_table['Country/Region'].isin(['Cape Verde', 'Cruise Ship', 'Kosovo'])]"
   ]
  },
  {
   "cell_type": "code",
   "execution_count": 15,
   "id": "fantastic-effect",
   "metadata": {
    "execution": {
     "iopub.execute_input": "2021-12-09T12:13:21.864707Z",
     "iopub.status.busy": "2021-12-09T12:13:21.863753Z",
     "iopub.status.idle": "2021-12-09T12:13:21.888955Z",
     "shell.execute_reply": "2021-12-09T12:13:21.888392Z"
    },
    "papermill": {
     "duration": 0.075285,
     "end_time": "2021-12-09T12:13:21.889095",
     "exception": false,
     "start_time": "2021-12-09T12:13:21.813810",
     "status": "completed"
    },
    "tags": []
   },
   "outputs": [
    {
     "data": {
      "text/html": [
       "<div>\n",
       "<style scoped>\n",
       "    .dataframe tbody tr th:only-of-type {\n",
       "        vertical-align: middle;\n",
       "    }\n",
       "\n",
       "    .dataframe tbody tr th {\n",
       "        vertical-align: top;\n",
       "    }\n",
       "\n",
       "    .dataframe thead th {\n",
       "        text-align: right;\n",
       "    }\n",
       "</style>\n",
       "<table border=\"1\" class=\"dataframe\">\n",
       "  <thead>\n",
       "    <tr style=\"text-align: right;\">\n",
       "      <th></th>\n",
       "      <th>Country/Region</th>\n",
       "      <th>Cases</th>\n",
       "      <th>Deaths</th>\n",
       "      <th>PCases</th>\n",
       "      <th>PDeaths</th>\n",
       "      <th>Cases (+)</th>\n",
       "      <th>Deaths (+)</th>\n",
       "      <th>Fatality Rate</th>\n",
       "      <th>Continent</th>\n",
       "    </tr>\n",
       "  </thead>\n",
       "  <tbody>\n",
       "    <tr>\n",
       "      <th>0</th>\n",
       "      <td>US</td>\n",
       "      <td>49538947</td>\n",
       "      <td>793228</td>\n",
       "      <td>49387208</td>\n",
       "      <td>791514</td>\n",
       "      <td>151739</td>\n",
       "      <td>1714</td>\n",
       "      <td>1.6</td>\n",
       "      <td>North America</td>\n",
       "    </tr>\n",
       "    <tr>\n",
       "      <th>1</th>\n",
       "      <td>India</td>\n",
       "      <td>34666241</td>\n",
       "      <td>474111</td>\n",
       "      <td>34656822</td>\n",
       "      <td>473952</td>\n",
       "      <td>9419</td>\n",
       "      <td>159</td>\n",
       "      <td>1.4</td>\n",
       "      <td>Asia</td>\n",
       "    </tr>\n",
       "    <tr>\n",
       "      <th>2</th>\n",
       "      <td>Brazil</td>\n",
       "      <td>22167781</td>\n",
       "      <td>616251</td>\n",
       "      <td>22157726</td>\n",
       "      <td>616018</td>\n",
       "      <td>10055</td>\n",
       "      <td>233</td>\n",
       "      <td>2.8</td>\n",
       "      <td>South America</td>\n",
       "    </tr>\n",
       "    <tr>\n",
       "      <th>3</th>\n",
       "      <td>United Kingdom</td>\n",
       "      <td>10671538</td>\n",
       "      <td>146444</td>\n",
       "      <td>10620535</td>\n",
       "      <td>146281</td>\n",
       "      <td>51003</td>\n",
       "      <td>163</td>\n",
       "      <td>1.4</td>\n",
       "      <td>Europe</td>\n",
       "    </tr>\n",
       "    <tr>\n",
       "      <th>4</th>\n",
       "      <td>Russia</td>\n",
       "      <td>9722639</td>\n",
       "      <td>279280</td>\n",
       "      <td>9692411</td>\n",
       "      <td>278131</td>\n",
       "      <td>30228</td>\n",
       "      <td>1149</td>\n",
       "      <td>2.9</td>\n",
       "      <td>Europe</td>\n",
       "    </tr>\n",
       "  </tbody>\n",
       "</table>\n",
       "</div>"
      ],
      "text/plain": [
       "   Country/Region     Cases  Deaths    PCases  PDeaths  Cases (+)  Deaths (+)  \\\n",
       "0              US  49538947  793228  49387208   791514     151739        1714   \n",
       "1           India  34666241  474111  34656822   473952       9419         159   \n",
       "2          Brazil  22167781  616251  22157726   616018      10055         233   \n",
       "3  United Kingdom  10671538  146444  10620535   146281      51003         163   \n",
       "4          Russia   9722639  279280   9692411   278131      30228        1149   \n",
       "\n",
       "   Fatality Rate      Continent  \n",
       "0            1.6  North America  \n",
       "1            1.4           Asia  \n",
       "2            2.8  South America  \n",
       "3            1.4         Europe  \n",
       "4            2.9         Europe  "
      ]
     },
     "execution_count": 15,
     "metadata": {},
     "output_type": "execute_result"
    }
   ],
   "source": [
    "#hide\n",
    "df_table = (pd.DataFrame(dict(Cases=dfc_cases, Deaths=dfc_deaths, PCases=dfp_cases, PDeaths=dfp_deaths))\n",
    "             .sort_values(by=['Cases', 'Deaths'], ascending=[False, False])\n",
    "             .reset_index())\n",
    "df_table.rename(columns={'index': 'Country/Region'}, inplace=True)\n",
    "for c in 'Cases, Deaths'.split(', '):\n",
    "    df_table[f'{c} (+)'] = (df_table[c] - df_table[f'P{c}']).clip(0)  # DATA BUG\n",
    "df_table['Fatality Rate'] = (100 * df_table['Deaths'] / df_table['Cases']).round(1)\n",
    "df_table['Continent'] = df_table['Country/Region'].map(mapping['map.continent'])\n",
    "df_table.head(5)"
   ]
  },
  {
   "cell_type": "code",
   "execution_count": 16,
   "id": "fewer-occasion",
   "metadata": {
    "execution": {
     "iopub.execute_input": "2021-12-09T12:13:21.977553Z",
     "iopub.status.busy": "2021-12-09T12:13:21.976917Z",
     "iopub.status.idle": "2021-12-09T12:13:21.980449Z",
     "shell.execute_reply": "2021-12-09T12:13:21.979898Z"
    },
    "papermill": {
     "duration": 0.050504,
     "end_time": "2021-12-09T12:13:21.980573",
     "exception": false,
     "start_time": "2021-12-09T12:13:21.930069",
     "status": "completed"
    },
    "tags": []
   },
   "outputs": [],
   "source": [
    "#hide\n",
    "#delete problematic countries from table\n",
    "df_table = df_table[~df_table['Country/Region'].isin(['Cape Verde', 'Cruise Ship', 'Kosovo'])]"
   ]
  },
  {
   "cell_type": "code",
   "execution_count": 17,
   "id": "related-center",
   "metadata": {
    "execution": {
     "iopub.execute_input": "2021-12-09T12:13:22.080477Z",
     "iopub.status.busy": "2021-12-09T12:13:22.079838Z",
     "iopub.status.idle": "2021-12-09T12:13:22.081906Z",
     "shell.execute_reply": "2021-12-09T12:13:22.082431Z"
    },
    "papermill": {
     "duration": 0.064311,
     "end_time": "2021-12-09T12:13:22.082644",
     "exception": false,
     "start_time": "2021-12-09T12:13:22.018333",
     "status": "completed"
    },
    "tags": []
   },
   "outputs": [],
   "source": [
    "#hide\n",
    "metrics = [df_table.columns[index] for index in [1,2,5,6]]\n",
    "# s_china = df_table[df_table['Country/Region'].eq('China')][metrics].sum().add_prefix('China ')\n",
    "s_us = df_table[df_table['Country/Region'].eq('US')][metrics].sum().add_prefix('US ')\n",
    "s_eu = df_table[df_table['Continent'].eq('Europe')][metrics].sum().add_prefix('EU ')\n",
    "s_ind = df_table[df_table['Country/Region'].eq('India')][metrics].sum().add_prefix('India ')\n",
    "summary = {'updated': pd.to_datetime(dt_today), 'since': pd.to_datetime(dt_yday)}\n",
    "summary = {'updated': pd.to_datetime(dt_today), 'since': pd.to_datetime(dt_yday)}\n",
    "summary = {**summary, **df_table[metrics].sum(), **s_ind, **s_us, **s_eu}"
   ]
  },
  {
   "cell_type": "code",
   "execution_count": 18,
   "id": "engaging-syndrome",
   "metadata": {
    "execution": {
     "iopub.execute_input": "2021-12-09T12:13:22.167667Z",
     "iopub.status.busy": "2021-12-09T12:13:22.166989Z",
     "iopub.status.idle": "2021-12-09T12:13:22.181631Z",
     "shell.execute_reply": "2021-12-09T12:13:22.182159Z"
    },
    "papermill": {
     "duration": 0.06106,
     "end_time": "2021-12-09T12:13:22.182359",
     "exception": false,
     "start_time": "2021-12-09T12:13:22.121299",
     "status": "completed"
    },
    "tags": []
   },
   "outputs": [],
   "source": [
    "#hide\n",
    "dft_ct_new_cases = dft_cases.groupby(COL_REGION)[dt_cols].sum().diff(axis=1).fillna(0).astype(int)"
   ]
  },
  {
   "cell_type": "code",
   "execution_count": 19,
   "id": "neutral-assignment",
   "metadata": {
    "execution": {
     "iopub.execute_input": "2021-12-09T12:13:22.263766Z",
     "iopub.status.busy": "2021-12-09T12:13:22.263052Z",
     "iopub.status.idle": "2021-12-09T12:13:22.269453Z",
     "shell.execute_reply": "2021-12-09T12:13:22.268954Z"
    },
    "papermill": {
     "duration": 0.049424,
     "end_time": "2021-12-09T12:13:22.269587",
     "exception": false,
     "start_time": "2021-12-09T12:13:22.220163",
     "status": "completed"
    },
    "tags": []
   },
   "outputs": [],
   "source": [
    "#hide\n",
    "everydaycases = dft_ct_new_cases.cumsum(axis=1)"
   ]
  },
  {
   "cell_type": "code",
   "execution_count": 20,
   "id": "parliamentary-calgary",
   "metadata": {
    "execution": {
     "iopub.execute_input": "2021-12-09T12:13:22.360077Z",
     "iopub.status.busy": "2021-12-09T12:13:22.359398Z",
     "iopub.status.idle": "2021-12-09T12:13:23.263593Z",
     "shell.execute_reply": "2021-12-09T12:13:23.264092Z"
    },
    "papermill": {
     "duration": 0.955895,
     "end_time": "2021-12-09T12:13:23.264307",
     "exception": false,
     "start_time": "2021-12-09T12:13:22.308412",
     "status": "completed"
    },
    "tags": []
   },
   "outputs": [],
   "source": [
    "#hide\n",
    "import pandas as pd\n",
    "import matplotlib.pyplot as plt\n",
    "import matplotlib.ticker as ticker\n",
    "import matplotlib.animation as animation\n",
    "from IPython.display import HTML"
   ]
  },
  {
   "cell_type": "code",
   "execution_count": 21,
   "id": "lasting-extraction",
   "metadata": {
    "execution": {
     "iopub.execute_input": "2021-12-09T12:13:23.355620Z",
     "iopub.status.busy": "2021-12-09T12:13:23.354926Z",
     "iopub.status.idle": "2021-12-09T12:13:23.362412Z",
     "shell.execute_reply": "2021-12-09T12:13:23.362956Z"
    },
    "papermill": {
     "duration": 0.0569,
     "end_time": "2021-12-09T12:13:23.363106",
     "exception": false,
     "start_time": "2021-12-09T12:13:23.306206",
     "status": "completed"
    },
    "tags": []
   },
   "outputs": [],
   "source": [
    "#hide\n",
    "t = everydaycases.stack()"
   ]
  },
  {
   "cell_type": "code",
   "execution_count": 22,
   "id": "premier-sleeve",
   "metadata": {
    "execution": {
     "iopub.execute_input": "2021-12-09T12:13:23.445359Z",
     "iopub.status.busy": "2021-12-09T12:13:23.444622Z",
     "iopub.status.idle": "2021-12-09T12:13:23.455551Z",
     "shell.execute_reply": "2021-12-09T12:13:23.456076Z"
    },
    "papermill": {
     "duration": 0.05366,
     "end_time": "2021-12-09T12:13:23.456288",
     "exception": false,
     "start_time": "2021-12-09T12:13:23.402628",
     "status": "completed"
    },
    "tags": []
   },
   "outputs": [],
   "source": [
    "#hide\n",
    "g = t.reset_index(['Country/Region'])"
   ]
  },
  {
   "cell_type": "code",
   "execution_count": 23,
   "id": "distributed-pittsburgh",
   "metadata": {
    "execution": {
     "iopub.execute_input": "2021-12-09T12:13:23.542141Z",
     "iopub.status.busy": "2021-12-09T12:13:23.541436Z",
     "iopub.status.idle": "2021-12-09T12:13:23.545905Z",
     "shell.execute_reply": "2021-12-09T12:13:23.545342Z"
    },
    "papermill": {
     "duration": 0.049402,
     "end_time": "2021-12-09T12:13:23.546037",
     "exception": false,
     "start_time": "2021-12-09T12:13:23.496635",
     "status": "completed"
    },
    "tags": []
   },
   "outputs": [],
   "source": [
    "#hide\n",
    "g.index.name = 'date'"
   ]
  },
  {
   "cell_type": "code",
   "execution_count": 24,
   "id": "naked-donor",
   "metadata": {
    "execution": {
     "iopub.execute_input": "2021-12-09T12:13:23.635857Z",
     "iopub.status.busy": "2021-12-09T12:13:23.634371Z",
     "iopub.status.idle": "2021-12-09T12:13:23.636578Z",
     "shell.execute_reply": "2021-12-09T12:13:23.637181Z"
    },
    "papermill": {
     "duration": 0.051031,
     "end_time": "2021-12-09T12:13:23.637342",
     "exception": false,
     "start_time": "2021-12-09T12:13:23.586311",
     "status": "completed"
    },
    "tags": []
   },
   "outputs": [],
   "source": [
    "# #hide\n",
    "# g = g.reset_index(['date'])"
   ]
  },
  {
   "cell_type": "code",
   "execution_count": 25,
   "id": "incomplete-mustang",
   "metadata": {
    "execution": {
     "iopub.execute_input": "2021-12-09T12:13:23.730805Z",
     "iopub.status.busy": "2021-12-09T12:13:23.730076Z",
     "iopub.status.idle": "2021-12-09T12:13:23.734992Z",
     "shell.execute_reply": "2021-12-09T12:13:23.734355Z"
    },
    "papermill": {
     "duration": 0.055556,
     "end_time": "2021-12-09T12:13:23.735149",
     "exception": false,
     "start_time": "2021-12-09T12:13:23.679593",
     "status": "completed"
    },
    "tags": []
   },
   "outputs": [],
   "source": [
    "#hide\n",
    "# g.head()"
   ]
  },
  {
   "cell_type": "code",
   "execution_count": 26,
   "id": "specific-kruger",
   "metadata": {
    "execution": {
     "iopub.execute_input": "2021-12-09T12:13:23.824554Z",
     "iopub.status.busy": "2021-12-09T12:13:23.822630Z",
     "iopub.status.idle": "2021-12-09T12:13:23.825373Z",
     "shell.execute_reply": "2021-12-09T12:13:23.825933Z"
    },
    "papermill": {
     "duration": 0.049283,
     "end_time": "2021-12-09T12:13:23.826104",
     "exception": false,
     "start_time": "2021-12-09T12:13:23.776821",
     "status": "completed"
    },
    "tags": []
   },
   "outputs": [],
   "source": [
    "#hide\n",
    "# g.columns = ['date','country','cases']"
   ]
  },
  {
   "cell_type": "code",
   "execution_count": 27,
   "id": "tender-conversion",
   "metadata": {
    "execution": {
     "iopub.execute_input": "2021-12-09T12:13:23.913579Z",
     "iopub.status.busy": "2021-12-09T12:13:23.912760Z",
     "iopub.status.idle": "2021-12-09T12:13:23.917498Z",
     "shell.execute_reply": "2021-12-09T12:13:23.916855Z"
    },
    "papermill": {
     "duration": 0.049615,
     "end_time": "2021-12-09T12:13:23.917657",
     "exception": false,
     "start_time": "2021-12-09T12:13:23.868042",
     "status": "completed"
    },
    "tags": []
   },
   "outputs": [],
   "source": [
    "#hide\n",
    "# g['continent'] = g.country"
   ]
  },
  {
   "cell_type": "code",
   "execution_count": 28,
   "id": "substantial-wilderness",
   "metadata": {
    "execution": {
     "iopub.execute_input": "2021-12-09T12:13:24.022071Z",
     "iopub.status.busy": "2021-12-09T12:13:24.021340Z",
     "iopub.status.idle": "2021-12-09T12:13:24.023875Z",
     "shell.execute_reply": "2021-12-09T12:13:24.023216Z"
    },
    "papermill": {
     "duration": 0.051946,
     "end_time": "2021-12-09T12:13:24.024044",
     "exception": false,
     "start_time": "2021-12-09T12:13:23.972098",
     "status": "completed"
    },
    "tags": []
   },
   "outputs": [],
   "source": [
    "#hide\n",
    "# cols = list(g.columns.values)"
   ]
  },
  {
   "cell_type": "code",
   "execution_count": 29,
   "id": "solved-farming",
   "metadata": {
    "execution": {
     "iopub.execute_input": "2021-12-09T12:13:24.111195Z",
     "iopub.status.busy": "2021-12-09T12:13:24.110555Z",
     "iopub.status.idle": "2021-12-09T12:13:24.113061Z",
     "shell.execute_reply": "2021-12-09T12:13:24.112448Z"
    },
    "papermill": {
     "duration": 0.048073,
     "end_time": "2021-12-09T12:13:24.113205",
     "exception": false,
     "start_time": "2021-12-09T12:13:24.065132",
     "status": "completed"
    },
    "tags": []
   },
   "outputs": [],
   "source": [
    "#hide\n",
    "# cols.insert(0, cols.pop())"
   ]
  },
  {
   "cell_type": "code",
   "execution_count": 30,
   "id": "executed-adoption",
   "metadata": {
    "execution": {
     "iopub.execute_input": "2021-12-09T12:13:24.198557Z",
     "iopub.status.busy": "2021-12-09T12:13:24.197375Z",
     "iopub.status.idle": "2021-12-09T12:13:24.199487Z",
     "shell.execute_reply": "2021-12-09T12:13:24.200068Z"
    },
    "papermill": {
     "duration": 0.046682,
     "end_time": "2021-12-09T12:13:24.200243",
     "exception": false,
     "start_time": "2021-12-09T12:13:24.153561",
     "status": "completed"
    },
    "tags": []
   },
   "outputs": [],
   "source": [
    "#hide\n",
    "# g = g[cols]"
   ]
  },
  {
   "cell_type": "code",
   "execution_count": 31,
   "id": "subject-dublin",
   "metadata": {
    "execution": {
     "iopub.execute_input": "2021-12-09T12:13:24.281942Z",
     "iopub.status.busy": "2021-12-09T12:13:24.281274Z",
     "iopub.status.idle": "2021-12-09T12:13:24.285024Z",
     "shell.execute_reply": "2021-12-09T12:13:24.285511Z"
    },
    "papermill": {
     "duration": 0.046614,
     "end_time": "2021-12-09T12:13:24.285668",
     "exception": false,
     "start_time": "2021-12-09T12:13:24.239054",
     "status": "completed"
    },
    "tags": []
   },
   "outputs": [],
   "source": [
    "#hide\n",
    "# g['continent'] = g['continent'].map(mapping['map.continent'])"
   ]
  },
  {
   "cell_type": "code",
   "execution_count": 32,
   "id": "freelance-scout",
   "metadata": {
    "execution": {
     "iopub.execute_input": "2021-12-09T12:13:24.373565Z",
     "iopub.status.busy": "2021-12-09T12:13:24.372908Z",
     "iopub.status.idle": "2021-12-09T12:13:24.375396Z",
     "shell.execute_reply": "2021-12-09T12:13:24.374830Z"
    },
    "papermill": {
     "duration": 0.04989,
     "end_time": "2021-12-09T12:13:24.375572",
     "exception": false,
     "start_time": "2021-12-09T12:13:24.325682",
     "status": "completed"
    },
    "tags": []
   },
   "outputs": [],
   "source": [
    "#hide\n",
    "# g.head()"
   ]
  },
  {
   "cell_type": "code",
   "execution_count": 33,
   "id": "limited-engine",
   "metadata": {
    "execution": {
     "iopub.execute_input": "2021-12-09T12:13:24.457110Z",
     "iopub.status.busy": "2021-12-09T12:13:24.456512Z",
     "iopub.status.idle": "2021-12-09T12:13:24.459383Z",
     "shell.execute_reply": "2021-12-09T12:13:24.458911Z"
    },
    "papermill": {
     "duration": 0.04506,
     "end_time": "2021-12-09T12:13:24.459505",
     "exception": false,
     "start_time": "2021-12-09T12:13:24.414445",
     "status": "completed"
    },
    "tags": []
   },
   "outputs": [],
   "source": [
    "# hide\n",
    "# g['date'] = g['date'].astype('datetime64[ns]')"
   ]
  },
  {
   "cell_type": "code",
   "execution_count": 34,
   "id": "sophisticated-supervisor",
   "metadata": {
    "execution": {
     "iopub.execute_input": "2021-12-09T12:13:24.546023Z",
     "iopub.status.busy": "2021-12-09T12:13:24.545285Z",
     "iopub.status.idle": "2021-12-09T12:13:24.547501Z",
     "shell.execute_reply": "2021-12-09T12:13:24.548074Z"
    },
    "papermill": {
     "duration": 0.051031,
     "end_time": "2021-12-09T12:13:24.548387",
     "exception": false,
     "start_time": "2021-12-09T12:13:24.497356",
     "status": "completed"
    },
    "tags": []
   },
   "outputs": [],
   "source": [
    "#hide\n",
    "# g['date'] = g.date.dt.dayofyear"
   ]
  },
  {
   "cell_type": "code",
   "execution_count": 35,
   "id": "inside-dubai",
   "metadata": {
    "execution": {
     "iopub.execute_input": "2021-12-09T12:13:24.632317Z",
     "iopub.status.busy": "2021-12-09T12:13:24.631463Z",
     "iopub.status.idle": "2021-12-09T12:13:24.633910Z",
     "shell.execute_reply": "2021-12-09T12:13:24.634412Z"
    },
    "papermill": {
     "duration": 0.045937,
     "end_time": "2021-12-09T12:13:24.634562",
     "exception": false,
     "start_time": "2021-12-09T12:13:24.588625",
     "status": "completed"
    },
    "tags": []
   },
   "outputs": [],
   "source": [
    "#hide\n",
    "# g = g.rename(columns= {'continent':'group','country':'name','cases':'value'})"
   ]
  },
  {
   "cell_type": "code",
   "execution_count": 36,
   "id": "fleet-motorcycle",
   "metadata": {
    "execution": {
     "iopub.execute_input": "2021-12-09T12:13:24.716994Z",
     "iopub.status.busy": "2021-12-09T12:13:24.716378Z",
     "iopub.status.idle": "2021-12-09T12:13:24.719761Z",
     "shell.execute_reply": "2021-12-09T12:13:24.719087Z"
    },
    "papermill": {
     "duration": 0.046202,
     "end_time": "2021-12-09T12:13:24.719893",
     "exception": false,
     "start_time": "2021-12-09T12:13:24.673691",
     "status": "completed"
    },
    "tags": []
   },
   "outputs": [],
   "source": [
    "#hide\n",
    "# cols = ['name','group','day','value']"
   ]
  },
  {
   "cell_type": "code",
   "execution_count": 37,
   "id": "continued-sleeping",
   "metadata": {
    "execution": {
     "iopub.execute_input": "2021-12-09T12:13:24.805103Z",
     "iopub.status.busy": "2021-12-09T12:13:24.804473Z",
     "iopub.status.idle": "2021-12-09T12:13:24.807437Z",
     "shell.execute_reply": "2021-12-09T12:13:24.806910Z"
    },
    "papermill": {
     "duration": 0.048539,
     "end_time": "2021-12-09T12:13:24.807565",
     "exception": false,
     "start_time": "2021-12-09T12:13:24.759026",
     "status": "completed"
    },
    "tags": []
   },
   "outputs": [],
   "source": [
    "#hide\n",
    "# g.rename(columns= {'date':'day'},inplace = True)"
   ]
  },
  {
   "cell_type": "code",
   "execution_count": 38,
   "id": "major-fight",
   "metadata": {
    "execution": {
     "iopub.execute_input": "2021-12-09T12:13:24.890103Z",
     "iopub.status.busy": "2021-12-09T12:13:24.889405Z",
     "iopub.status.idle": "2021-12-09T12:13:24.893107Z",
     "shell.execute_reply": "2021-12-09T12:13:24.893576Z"
    },
    "papermill": {
     "duration": 0.046549,
     "end_time": "2021-12-09T12:13:24.893730",
     "exception": false,
     "start_time": "2021-12-09T12:13:24.847181",
     "status": "completed"
    },
    "tags": []
   },
   "outputs": [],
   "source": [
    "#hide\n",
    "# g = g[cols]"
   ]
  },
  {
   "cell_type": "code",
   "execution_count": 39,
   "id": "structured-mobile",
   "metadata": {
    "execution": {
     "iopub.execute_input": "2021-12-09T12:13:24.978203Z",
     "iopub.status.busy": "2021-12-09T12:13:24.977200Z",
     "iopub.status.idle": "2021-12-09T12:13:24.979573Z",
     "shell.execute_reply": "2021-12-09T12:13:24.978949Z"
    },
    "papermill": {
     "duration": 0.045561,
     "end_time": "2021-12-09T12:13:24.979717",
     "exception": false,
     "start_time": "2021-12-09T12:13:24.934156",
     "status": "completed"
    },
    "tags": []
   },
   "outputs": [],
   "source": [
    "# #hide\n",
    "# g = g[g.group.notna()]"
   ]
  },
  {
   "cell_type": "code",
   "execution_count": 40,
   "id": "determined-closing",
   "metadata": {
    "execution": {
     "iopub.execute_input": "2021-12-09T12:13:25.063751Z",
     "iopub.status.busy": "2021-12-09T12:13:25.063021Z",
     "iopub.status.idle": "2021-12-09T12:13:25.067242Z",
     "shell.execute_reply": "2021-12-09T12:13:25.067780Z"
    },
    "papermill": {
     "duration": 0.047951,
     "end_time": "2021-12-09T12:13:25.067967",
     "exception": false,
     "start_time": "2021-12-09T12:13:25.020016",
     "status": "completed"
    },
    "tags": []
   },
   "outputs": [],
   "source": [
    "# #hide\n",
    "# colors = dict(zip(\n",
    "#     [\"Oceania\", \"Europe\", \"Asia\", \"South America\", \"Middle East\", \"North America\", \"Africa\"],\n",
    "#     [\"#adb0ff\", \"#ffb3ff\", \"#90d595\", \"#e48381\", \"#aafbff\", \"#f7bb5f\", \"#eafb50\"]\n",
    "# ))\n",
    "# group_lk = g.set_index('name')['group'].to_dict()"
   ]
  },
  {
   "cell_type": "code",
   "execution_count": null,
   "id": "gross-drinking",
   "metadata": {
    "papermill": {
     "duration": 0.039709,
     "end_time": "2021-12-09T12:13:25.146874",
     "exception": false,
     "start_time": "2021-12-09T12:13:25.107165",
     "status": "completed"
    },
    "tags": []
   },
   "outputs": [],
   "source": []
  },
  {
   "cell_type": "code",
   "execution_count": 41,
   "id": "subject-macintosh",
   "metadata": {
    "execution": {
     "iopub.execute_input": "2021-12-09T12:13:25.233445Z",
     "iopub.status.busy": "2021-12-09T12:13:25.232553Z",
     "iopub.status.idle": "2021-12-09T12:13:25.235189Z",
     "shell.execute_reply": "2021-12-09T12:13:25.234264Z"
    },
    "papermill": {
     "duration": 0.049937,
     "end_time": "2021-12-09T12:13:25.235375",
     "exception": false,
     "start_time": "2021-12-09T12:13:25.185438",
     "status": "completed"
    },
    "tags": []
   },
   "outputs": [],
   "source": [
    "# #hide\n",
    "# fig, ax = plt.subplots(figsize=(15, 8))\n",
    "\n",
    "# def draw_barchart(current_day):\n",
    "#     dff = g[g['day'].eq(current_day)].sort_values(by='value', ascending=True).tail(10)\n",
    "#     ax.clear()\n",
    "#     ax.barh(dff['name'], dff['value'], color=[colors[group_lk[x]] for x in dff['name']])\n",
    "#     dx = dff['value'].max() / 200\n",
    "    \n",
    "#     for i, (value, name) in enumerate(zip(dff['value'], dff['name'])):\n",
    "#         ax.text(value-dx, i,     name,           size=14, weight=600, ha='right', va='bottom')\n",
    "#         ax.text(value-dx, i-.25, group_lk[name], size=10, color='#444444', ha='right', va='baseline')\n",
    "#         ax.text(value+dx, i,     f'{value:,.0f}',  size=14, ha='left',  va='center')\n",
    "#     ax.text(1, 0.4, current_day, transform=ax.transAxes, color='#777777', size=46, ha='right', weight=800)\n",
    "#     ax.text(0, 1.06, 'Population (thousands)', transform=ax.transAxes, size=12, color='#777777')\n",
    "#     ax.xaxis.set_major_formatter(ticker.StrMethodFormatter('{x:,.0f}'))\n",
    "#     ax.xaxis.set_ticks_position('top')\n",
    "#     ax.tick_params(axis='x', colors='#777777', labelsize=12)\n",
    "#     ax.set_yticks([])\n",
    "#     ax.margins(0, 0.01)\n",
    "#     ax.grid(which='major', axis='x', linestyle='-')\n",
    "#     ax.set_axisbelow(True)\n",
    "    \n",
    "#     ax.text(0, 1.15, 'Coronavirus',\n",
    "#             transform=ax.transAxes, size=24, weight=600, ha='left', va='top')\n",
    "# #     ax.text(1, 0, 'by @pratapvardhan; credit @jburnmurdoch', transform=ax.transAxes, color='#777777', ha='right',\n",
    "# #             bbox=dict(facecolor='white', alpha=0.8, edgecolor='white'))\n",
    "#     plt.box(False)"
   ]
  },
  {
   "cell_type": "code",
   "execution_count": 42,
   "id": "sexual-wages",
   "metadata": {
    "execution": {
     "iopub.execute_input": "2021-12-09T12:13:25.321305Z",
     "iopub.status.busy": "2021-12-09T12:13:25.320437Z",
     "iopub.status.idle": "2021-12-09T12:13:25.323380Z",
     "shell.execute_reply": "2021-12-09T12:13:25.323880Z"
    },
    "papermill": {
     "duration": 0.047274,
     "end_time": "2021-12-09T12:13:25.324043",
     "exception": false,
     "start_time": "2021-12-09T12:13:25.276769",
     "status": "completed"
    },
    "tags": []
   },
   "outputs": [],
   "source": [
    "# #hide_input\n",
    "# fig, ax = plt.subplots(figsize=(15, 8))\n",
    "# animator = animation.FuncAnimation(fig, draw_barchart, frames=range(g.day.values.min(), g.day.values.max()))\n",
    "# HTML(animator.to_jshtml())\n",
    "# # or use animator.to_html5_video() or animator.save() "
   ]
  },
  {
   "cell_type": "code",
   "execution_count": null,
   "id": "australian-container",
   "metadata": {
    "papermill": {
     "duration": 0.039107,
     "end_time": "2021-12-09T12:13:25.401336",
     "exception": false,
     "start_time": "2021-12-09T12:13:25.362229",
     "status": "completed"
    },
    "tags": []
   },
   "outputs": [],
   "source": []
  },
  {
   "cell_type": "code",
   "execution_count": null,
   "id": "mediterranean-pontiac",
   "metadata": {
    "papermill": {
     "duration": 0.038231,
     "end_time": "2021-12-09T12:13:25.478344",
     "exception": false,
     "start_time": "2021-12-09T12:13:25.440113",
     "status": "completed"
    },
    "tags": []
   },
   "outputs": [],
   "source": []
  },
  {
   "cell_type": "code",
   "execution_count": null,
   "id": "aging-legislature",
   "metadata": {
    "papermill": {
     "duration": 0.038799,
     "end_time": "2021-12-09T12:13:25.555757",
     "exception": false,
     "start_time": "2021-12-09T12:13:25.516958",
     "status": "completed"
    },
    "tags": []
   },
   "outputs": [],
   "source": []
  }
 ],
 "metadata": {
  "kernelspec": {
   "display_name": "Python 3",
   "language": "python",
   "name": "python3"
  },
  "language_info": {
   "codemirror_mode": {
    "name": "ipython",
    "version": 3
   },
   "file_extension": ".py",
   "mimetype": "text/x-python",
   "name": "python",
   "nbconvert_exporter": "python",
   "pygments_lexer": "ipython3",
   "version": "3.6.15"
  },
  "papermill": {
   "duration": 7.767839,
   "end_time": "2021-12-09T12:13:26.004179",
   "environment_variables": {},
   "exception": null,
   "input_path": "2020-03-21-covid19exp.ipynb",
   "output_path": "2020-03-21-covid19exp.ipynb",
   "parameters": {},
   "start_time": "2021-12-09T12:13:18.236340",
   "version": "2.0.0"
  }
 },
 "nbformat": 4,
 "nbformat_minor": 5
}