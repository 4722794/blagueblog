{
 "cells": [
  {
   "cell_type": "markdown",
   "id": "muslim-click",
   "metadata": {
    "papermill": {
     "duration": 0.037697,
     "end_time": "2022-02-25T12:14:09.493666",
     "exception": false,
     "start_time": "2022-02-25T12:14:09.455969",
     "status": "completed"
    },
    "tags": []
   },
   "source": [
    "# COVID-19 Case Race\n",
    "> A race chart to see rising cases around the world\n",
    "\n",
    "- author: Hargun Oberoi\n",
    "- image: images/covid-overview.png\n",
    "- hide: false\n",
    "- badges: false"
   ]
  },
  {
   "cell_type": "code",
   "execution_count": 1,
   "id": "proof-material",
   "metadata": {
    "execution": {
     "iopub.execute_input": "2022-02-25T12:14:09.571611Z",
     "iopub.status.busy": "2022-02-25T12:14:09.570960Z",
     "iopub.status.idle": "2022-02-25T12:14:09.921961Z",
     "shell.execute_reply": "2022-02-25T12:14:09.921311Z"
    },
    "papermill": {
     "duration": 0.391855,
     "end_time": "2022-02-25T12:14:09.922146",
     "exception": false,
     "start_time": "2022-02-25T12:14:09.530291",
     "status": "completed"
    },
    "tags": []
   },
   "outputs": [],
   "source": [
    "#hide\n",
    "import numpy as np\n",
    "import pandas as pd\n",
    "from jinja2 import Template\n",
    "from IPython.display import HTML"
   ]
  },
  {
   "cell_type": "code",
   "execution_count": 2,
   "id": "developed-terminology",
   "metadata": {
    "execution": {
     "iopub.execute_input": "2022-02-25T12:14:09.996529Z",
     "iopub.status.busy": "2022-02-25T12:14:09.995841Z",
     "iopub.status.idle": "2022-02-25T12:14:09.998802Z",
     "shell.execute_reply": "2022-02-25T12:14:09.998301Z"
    },
    "papermill": {
     "duration": 0.044667,
     "end_time": "2022-02-25T12:14:09.998914",
     "exception": false,
     "start_time": "2022-02-25T12:14:09.954247",
     "status": "completed"
    },
    "tags": []
   },
   "outputs": [],
   "source": [
    "#hide\n",
    "\n",
    "# FETCH\n",
    "base_url = 'https://raw.githubusercontent.com/pratapvardhan/notebooks/master/covid19/'\n",
    "paths = {\n",
    "    'mapping': base_url + 'mapping_countries.csv',\n",
    "    'overview': base_url + 'overview.tpl'\n",
    "}"
   ]
  },
  {
   "cell_type": "code",
   "execution_count": 3,
   "id": "dynamic-saver",
   "metadata": {
    "execution": {
     "iopub.execute_input": "2022-02-25T12:14:10.078977Z",
     "iopub.status.busy": "2022-02-25T12:14:10.078360Z",
     "iopub.status.idle": "2022-02-25T12:14:10.081837Z",
     "shell.execute_reply": "2022-02-25T12:14:10.082439Z"
    },
    "papermill": {
     "duration": 0.04967,
     "end_time": "2022-02-25T12:14:10.082622",
     "exception": false,
     "start_time": "2022-02-25T12:14:10.032952",
     "status": "completed"
    },
    "tags": []
   },
   "outputs": [
    {
     "data": {
      "text/plain": [
       "'https://raw.githubusercontent.com/pratapvardhan/notebooks/master/covid19/mapping_countries.csv'"
      ]
     },
     "execution_count": 3,
     "metadata": {},
     "output_type": "execute_result"
    }
   ],
   "source": [
    "#hide\n",
    "paths['mapping']"
   ]
  },
  {
   "cell_type": "code",
   "execution_count": 4,
   "id": "urban-software",
   "metadata": {
    "execution": {
     "iopub.execute_input": "2022-02-25T12:14:10.155703Z",
     "iopub.status.busy": "2022-02-25T12:14:10.155008Z",
     "iopub.status.idle": "2022-02-25T12:14:10.157649Z",
     "shell.execute_reply": "2022-02-25T12:14:10.156978Z"
    },
    "papermill": {
     "duration": 0.039921,
     "end_time": "2022-02-25T12:14:10.157802",
     "exception": false,
     "start_time": "2022-02-25T12:14:10.117881",
     "status": "completed"
    },
    "tags": []
   },
   "outputs": [],
   "source": [
    "#hide\n",
    "def get_mappings(url):\n",
    "    df = pd.read_csv(url)\n",
    "    return {\n",
    "        'df': df,\n",
    "        'replace.country': dict(df.dropna(subset=['Name']).set_index('Country')['Name']),\n",
    "        'map.continent': dict(df.set_index('Name')['Continent'])\n",
    "    }"
   ]
  },
  {
   "cell_type": "code",
   "execution_count": 5,
   "id": "intimate-machinery",
   "metadata": {
    "execution": {
     "iopub.execute_input": "2022-02-25T12:14:10.226107Z",
     "iopub.status.busy": "2022-02-25T12:14:10.225326Z",
     "iopub.status.idle": "2022-02-25T12:14:10.263422Z",
     "shell.execute_reply": "2022-02-25T12:14:10.262990Z"
    },
    "papermill": {
     "duration": 0.074429,
     "end_time": "2022-02-25T12:14:10.263636",
     "exception": false,
     "start_time": "2022-02-25T12:14:10.189207",
     "status": "completed"
    },
    "tags": []
   },
   "outputs": [],
   "source": [
    "#hide\n",
    "mapping = get_mappings(paths['mapping'])"
   ]
  },
  {
   "cell_type": "code",
   "execution_count": 6,
   "id": "certified-tactics",
   "metadata": {
    "execution": {
     "iopub.execute_input": "2022-02-25T12:14:10.352263Z",
     "iopub.status.busy": "2022-02-25T12:14:10.351570Z",
     "iopub.status.idle": "2022-02-25T12:14:10.352983Z",
     "shell.execute_reply": "2022-02-25T12:14:10.353618Z"
    },
    "papermill": {
     "duration": 0.058051,
     "end_time": "2022-02-25T12:14:10.353765",
     "exception": false,
     "start_time": "2022-02-25T12:14:10.295714",
     "status": "completed"
    },
    "tags": []
   },
   "outputs": [],
   "source": [
    "#hide\n",
    "def get_template(path):\n",
    "    from urllib.parse import urlparse\n",
    "    if bool(urlparse(path).netloc):\n",
    "        from urllib.request import urlopen\n",
    "        return urlopen(path).read().decode('utf8')\n",
    "    return open(path).read()"
   ]
  },
  {
   "cell_type": "code",
   "execution_count": 7,
   "id": "realistic-blast",
   "metadata": {
    "execution": {
     "iopub.execute_input": "2022-02-25T12:14:10.443609Z",
     "iopub.status.busy": "2022-02-25T12:14:10.442776Z",
     "iopub.status.idle": "2022-02-25T12:14:10.445336Z",
     "shell.execute_reply": "2022-02-25T12:14:10.446034Z"
    },
    "papermill": {
     "duration": 0.046845,
     "end_time": "2022-02-25T12:14:10.446188",
     "exception": false,
     "start_time": "2022-02-25T12:14:10.399343",
     "status": "completed"
    },
    "tags": []
   },
   "outputs": [],
   "source": [
    "#hide\n",
    "def get_frame(name):\n",
    "    url = (\n",
    "        'https://raw.githubusercontent.com/CSSEGISandData/COVID-19/master/csse_covid_19_data/'\n",
    "        f'csse_covid_19_time_series/time_series_covid19_{name}_global.csv')\n",
    "    df = pd.read_csv(url)\n",
    "    # rename countries\n",
    "    df['Country/Region'] = df['Country/Region'].replace(mapping['replace.country'])\n",
    "    return df"
   ]
  },
  {
   "cell_type": "code",
   "execution_count": 8,
   "id": "affiliated-characterization",
   "metadata": {
    "execution": {
     "iopub.execute_input": "2022-02-25T12:14:10.529887Z",
     "iopub.status.busy": "2022-02-25T12:14:10.529163Z",
     "iopub.status.idle": "2022-02-25T12:14:10.531726Z",
     "shell.execute_reply": "2022-02-25T12:14:10.531182Z"
    },
    "papermill": {
     "duration": 0.048037,
     "end_time": "2022-02-25T12:14:10.531857",
     "exception": false,
     "start_time": "2022-02-25T12:14:10.483820",
     "status": "completed"
    },
    "tags": []
   },
   "outputs": [],
   "source": [
    "#hide\n",
    "def get_dates(df):\n",
    "    dt_cols = df.columns[~df.columns.isin(['Province/State', 'Country/Region', 'Lat', 'Long'])]\n",
    "    LAST_DATE_I = -1\n",
    "    # sometimes last column may be empty, then go backwards\n",
    "    for i in range(-1, -len(dt_cols), -1):\n",
    "        if not df[dt_cols[i]].fillna(0).eq(0).all():\n",
    "            LAST_DATE_I = i\n",
    "            break\n",
    "    return LAST_DATE_I, dt_cols"
   ]
  },
  {
   "cell_type": "code",
   "execution_count": 9,
   "id": "recent-optimization",
   "metadata": {
    "execution": {
     "iopub.execute_input": "2022-02-25T12:14:10.615732Z",
     "iopub.status.busy": "2022-02-25T12:14:10.615099Z",
     "iopub.status.idle": "2022-02-25T12:14:11.057968Z",
     "shell.execute_reply": "2022-02-25T12:14:11.057367Z"
    },
    "papermill": {
     "duration": 0.486287,
     "end_time": "2022-02-25T12:14:11.058129",
     "exception": false,
     "start_time": "2022-02-25T12:14:10.571842",
     "status": "completed"
    },
    "tags": []
   },
   "outputs": [],
   "source": [
    "#hide\n",
    "COL_REGION = 'Country/Region'\n",
    "# Confirmed, Recovered, Deaths\n",
    "df = get_frame('confirmed')\n",
    "# dft_: timeseries, dfc_: today country agg\n",
    "dft_cases = df\n",
    "dft_deaths = get_frame('deaths')\n",
    "dft_recovered = get_frame('recovered')\n",
    "LAST_DATE_I, dt_cols = get_dates(df)"
   ]
  },
  {
   "cell_type": "code",
   "execution_count": 10,
   "id": "absolute-copper",
   "metadata": {
    "execution": {
     "iopub.execute_input": "2022-02-25T12:14:11.138598Z",
     "iopub.status.busy": "2022-02-25T12:14:11.137929Z",
     "iopub.status.idle": "2022-02-25T12:14:11.140706Z",
     "shell.execute_reply": "2022-02-25T12:14:11.140067Z"
    },
    "papermill": {
     "duration": 0.043715,
     "end_time": "2022-02-25T12:14:11.140817",
     "exception": false,
     "start_time": "2022-02-25T12:14:11.097102",
     "status": "completed"
    },
    "tags": []
   },
   "outputs": [],
   "source": [
    "#hide\n",
    "LAST_DATE_I, dt_cols = get_dates(df)\n",
    "dt_today =dt_cols[LAST_DATE_I]\n",
    "# dt_5day = dt_cols[LAST_DATE_I - 5]\n",
    "dt_yday = dt_cols[LAST_DATE_I - 1]"
   ]
  },
  {
   "cell_type": "code",
   "execution_count": 11,
   "id": "restricted-sheriff",
   "metadata": {
    "execution": {
     "iopub.execute_input": "2022-02-25T12:14:11.219042Z",
     "iopub.status.busy": "2022-02-25T12:14:11.218396Z",
     "iopub.status.idle": "2022-02-25T12:14:11.228823Z",
     "shell.execute_reply": "2022-02-25T12:14:11.228305Z"
    },
    "papermill": {
     "duration": 0.052876,
     "end_time": "2022-02-25T12:14:11.228997",
     "exception": false,
     "start_time": "2022-02-25T12:14:11.176121",
     "status": "completed"
    },
    "tags": []
   },
   "outputs": [],
   "source": [
    "#hide\n",
    "dfc_cases = dft_cases.groupby(COL_REGION)[dt_today].sum()\n",
    "dfc_deaths = dft_deaths.groupby(COL_REGION)[dt_today].sum()\n",
    "# dfp_cases = dft_cases.groupby(COL_REGION)[dt_5day].sum()\n",
    "# dfp_deaths = dft_deaths.groupby(COL_REGION)[dt_5day].sum()\n",
    "dfp_cases = dft_cases.groupby(COL_REGION)[dt_yday].sum()\n",
    "dfp_deaths = dft_deaths.groupby(COL_REGION)[dt_yday].sum()"
   ]
  },
  {
   "cell_type": "code",
   "execution_count": 12,
   "id": "deluxe-hepatitis",
   "metadata": {
    "execution": {
     "iopub.execute_input": "2022-02-25T12:14:11.313375Z",
     "iopub.status.busy": "2022-02-25T12:14:11.312762Z",
     "iopub.status.idle": "2022-02-25T12:14:11.318188Z",
     "shell.execute_reply": "2022-02-25T12:14:11.318751Z"
    },
    "papermill": {
     "duration": 0.050365,
     "end_time": "2022-02-25T12:14:11.318885",
     "exception": false,
     "start_time": "2022-02-25T12:14:11.268520",
     "status": "completed"
    },
    "tags": []
   },
   "outputs": [],
   "source": [
    "#hide\n",
    "df_table = (pd.DataFrame(dict(Cases = dfc_cases, Deaths = dfc_deaths, PCases = dfp_cases, PDeaths = dfp_deaths))\n",
    "            .sort_values(by = ['Cases','Deaths'], ascending = [False, False])\n",
    "            .reset_index())"
   ]
  },
  {
   "cell_type": "code",
   "execution_count": 13,
   "id": "educational-chancellor",
   "metadata": {
    "execution": {
     "iopub.execute_input": "2022-02-25T12:14:11.415122Z",
     "iopub.status.busy": "2022-02-25T12:14:11.414381Z",
     "iopub.status.idle": "2022-02-25T12:14:11.422760Z",
     "shell.execute_reply": "2022-02-25T12:14:11.423217Z"
    },
    "papermill": {
     "duration": 0.068953,
     "end_time": "2022-02-25T12:14:11.423357",
     "exception": false,
     "start_time": "2022-02-25T12:14:11.354404",
     "status": "completed"
    },
    "tags": []
   },
   "outputs": [
    {
     "data": {
      "text/html": [
       "<div>\n",
       "<style scoped>\n",
       "    .dataframe tbody tr th:only-of-type {\n",
       "        vertical-align: middle;\n",
       "    }\n",
       "\n",
       "    .dataframe tbody tr th {\n",
       "        vertical-align: top;\n",
       "    }\n",
       "\n",
       "    .dataframe thead th {\n",
       "        text-align: right;\n",
       "    }\n",
       "</style>\n",
       "<table border=\"1\" class=\"dataframe\">\n",
       "  <thead>\n",
       "    <tr style=\"text-align: right;\">\n",
       "      <th></th>\n",
       "      <th>Country/Region</th>\n",
       "      <th>Cases</th>\n",
       "      <th>Deaths</th>\n",
       "      <th>PCases</th>\n",
       "      <th>PDeaths</th>\n",
       "      <th>Cases (+)</th>\n",
       "      <th>Deaths (+)</th>\n",
       "      <th>Fatality Rate</th>\n",
       "      <th>Continent</th>\n",
       "    </tr>\n",
       "  </thead>\n",
       "  <tbody>\n",
       "    <tr>\n",
       "      <th>0</th>\n",
       "      <td>US</td>\n",
       "      <td>78798989</td>\n",
       "      <td>944830</td>\n",
       "      <td>78733498</td>\n",
       "      <td>941889</td>\n",
       "      <td>65491</td>\n",
       "      <td>2941</td>\n",
       "      <td>1.20</td>\n",
       "      <td>North America</td>\n",
       "    </tr>\n",
       "    <tr>\n",
       "      <th>1</th>\n",
       "      <td>India</td>\n",
       "      <td>42894345</td>\n",
       "      <td>513226</td>\n",
       "      <td>42881179</td>\n",
       "      <td>512924</td>\n",
       "      <td>13166</td>\n",
       "      <td>302</td>\n",
       "      <td>1.20</td>\n",
       "      <td>Asia</td>\n",
       "    </tr>\n",
       "    <tr>\n",
       "      <th>2</th>\n",
       "      <td>Brazil</td>\n",
       "      <td>28589235</td>\n",
       "      <td>647703</td>\n",
       "      <td>28493336</td>\n",
       "      <td>646714</td>\n",
       "      <td>95899</td>\n",
       "      <td>989</td>\n",
       "      <td>2.27</td>\n",
       "      <td>South America</td>\n",
       "    </tr>\n",
       "    <tr>\n",
       "      <th>3</th>\n",
       "      <td>France</td>\n",
       "      <td>22707110</td>\n",
       "      <td>138784</td>\n",
       "      <td>22638153</td>\n",
       "      <td>138502</td>\n",
       "      <td>68957</td>\n",
       "      <td>282</td>\n",
       "      <td>0.61</td>\n",
       "      <td>Europe</td>\n",
       "    </tr>\n",
       "    <tr>\n",
       "      <th>4</th>\n",
       "      <td>United Kingdom</td>\n",
       "      <td>18906546</td>\n",
       "      <td>161675</td>\n",
       "      <td>18867585</td>\n",
       "      <td>161549</td>\n",
       "      <td>38961</td>\n",
       "      <td>126</td>\n",
       "      <td>0.86</td>\n",
       "      <td>Europe</td>\n",
       "    </tr>\n",
       "  </tbody>\n",
       "</table>\n",
       "</div>"
      ],
      "text/plain": [
       "   Country/Region     Cases  Deaths    PCases  PDeaths  Cases (+)  Deaths (+)  \\\n",
       "0              US  78798989  944830  78733498   941889      65491        2941   \n",
       "1           India  42894345  513226  42881179   512924      13166         302   \n",
       "2          Brazil  28589235  647703  28493336   646714      95899         989   \n",
       "3          France  22707110  138784  22638153   138502      68957         282   \n",
       "4  United Kingdom  18906546  161675  18867585   161549      38961         126   \n",
       "\n",
       "   Fatality Rate      Continent  \n",
       "0           1.20  North America  \n",
       "1           1.20           Asia  \n",
       "2           2.27  South America  \n",
       "3           0.61         Europe  \n",
       "4           0.86         Europe  "
      ]
     },
     "execution_count": 13,
     "metadata": {},
     "output_type": "execute_result"
    }
   ],
   "source": [
    "#hide\n",
    "for c in 'Cases, Deaths'.split(', '):\n",
    "    df_table[f'{c} (+)'] = (df_table[c] - df_table[f'P{c}']).clip(0)\n",
    "    #Clip ça veut dire, les chiffres negatif sont interdit\n",
    "df_table['Fatality Rate'] = (100* df_table['Deaths']/ df_table['Cases']).round(2)\n",
    "df_table['Continent'] = df_table['Country/Region'].map(mapping['map.continent'])\n",
    "df_table.head(5)"
   ]
  },
  {
   "cell_type": "code",
   "execution_count": 14,
   "id": "aboriginal-bulgaria",
   "metadata": {
    "execution": {
     "iopub.execute_input": "2022-02-25T12:14:11.505223Z",
     "iopub.status.busy": "2022-02-25T12:14:11.504605Z",
     "iopub.status.idle": "2022-02-25T12:14:11.507608Z",
     "shell.execute_reply": "2022-02-25T12:14:11.508195Z"
    },
    "papermill": {
     "duration": 0.046555,
     "end_time": "2022-02-25T12:14:11.508356",
     "exception": false,
     "start_time": "2022-02-25T12:14:11.461801",
     "status": "completed"
    },
    "tags": []
   },
   "outputs": [],
   "source": [
    "#hide\n",
    "#delete problematic countries from table\n",
    "df_table = df_table[~df_table['Country/Region'].isin(['Cape Verde', 'Cruise Ship', 'Kosovo'])]"
   ]
  },
  {
   "cell_type": "code",
   "execution_count": 15,
   "id": "fantastic-effect",
   "metadata": {
    "execution": {
     "iopub.execute_input": "2022-02-25T12:14:11.592231Z",
     "iopub.status.busy": "2022-02-25T12:14:11.591553Z",
     "iopub.status.idle": "2022-02-25T12:14:11.613416Z",
     "shell.execute_reply": "2022-02-25T12:14:11.613926Z"
    },
    "papermill": {
     "duration": 0.069858,
     "end_time": "2022-02-25T12:14:11.614065",
     "exception": false,
     "start_time": "2022-02-25T12:14:11.544207",
     "status": "completed"
    },
    "tags": []
   },
   "outputs": [
    {
     "data": {
      "text/html": [
       "<div>\n",
       "<style scoped>\n",
       "    .dataframe tbody tr th:only-of-type {\n",
       "        vertical-align: middle;\n",
       "    }\n",
       "\n",
       "    .dataframe tbody tr th {\n",
       "        vertical-align: top;\n",
       "    }\n",
       "\n",
       "    .dataframe thead th {\n",
       "        text-align: right;\n",
       "    }\n",
       "</style>\n",
       "<table border=\"1\" class=\"dataframe\">\n",
       "  <thead>\n",
       "    <tr style=\"text-align: right;\">\n",
       "      <th></th>\n",
       "      <th>Country/Region</th>\n",
       "      <th>Cases</th>\n",
       "      <th>Deaths</th>\n",
       "      <th>PCases</th>\n",
       "      <th>PDeaths</th>\n",
       "      <th>Cases (+)</th>\n",
       "      <th>Deaths (+)</th>\n",
       "      <th>Fatality Rate</th>\n",
       "      <th>Continent</th>\n",
       "    </tr>\n",
       "  </thead>\n",
       "  <tbody>\n",
       "    <tr>\n",
       "      <th>0</th>\n",
       "      <td>US</td>\n",
       "      <td>78798989</td>\n",
       "      <td>944830</td>\n",
       "      <td>78733498</td>\n",
       "      <td>941889</td>\n",
       "      <td>65491</td>\n",
       "      <td>2941</td>\n",
       "      <td>1.2</td>\n",
       "      <td>North America</td>\n",
       "    </tr>\n",
       "    <tr>\n",
       "      <th>1</th>\n",
       "      <td>India</td>\n",
       "      <td>42894345</td>\n",
       "      <td>513226</td>\n",
       "      <td>42881179</td>\n",
       "      <td>512924</td>\n",
       "      <td>13166</td>\n",
       "      <td>302</td>\n",
       "      <td>1.2</td>\n",
       "      <td>Asia</td>\n",
       "    </tr>\n",
       "    <tr>\n",
       "      <th>2</th>\n",
       "      <td>Brazil</td>\n",
       "      <td>28589235</td>\n",
       "      <td>647703</td>\n",
       "      <td>28493336</td>\n",
       "      <td>646714</td>\n",
       "      <td>95899</td>\n",
       "      <td>989</td>\n",
       "      <td>2.3</td>\n",
       "      <td>South America</td>\n",
       "    </tr>\n",
       "    <tr>\n",
       "      <th>3</th>\n",
       "      <td>France</td>\n",
       "      <td>22707110</td>\n",
       "      <td>138784</td>\n",
       "      <td>22638153</td>\n",
       "      <td>138502</td>\n",
       "      <td>68957</td>\n",
       "      <td>282</td>\n",
       "      <td>0.6</td>\n",
       "      <td>Europe</td>\n",
       "    </tr>\n",
       "    <tr>\n",
       "      <th>4</th>\n",
       "      <td>United Kingdom</td>\n",
       "      <td>18906546</td>\n",
       "      <td>161675</td>\n",
       "      <td>18867585</td>\n",
       "      <td>161549</td>\n",
       "      <td>38961</td>\n",
       "      <td>126</td>\n",
       "      <td>0.9</td>\n",
       "      <td>Europe</td>\n",
       "    </tr>\n",
       "  </tbody>\n",
       "</table>\n",
       "</div>"
      ],
      "text/plain": [
       "   Country/Region     Cases  Deaths    PCases  PDeaths  Cases (+)  Deaths (+)  \\\n",
       "0              US  78798989  944830  78733498   941889      65491        2941   \n",
       "1           India  42894345  513226  42881179   512924      13166         302   \n",
       "2          Brazil  28589235  647703  28493336   646714      95899         989   \n",
       "3          France  22707110  138784  22638153   138502      68957         282   \n",
       "4  United Kingdom  18906546  161675  18867585   161549      38961         126   \n",
       "\n",
       "   Fatality Rate      Continent  \n",
       "0            1.2  North America  \n",
       "1            1.2           Asia  \n",
       "2            2.3  South America  \n",
       "3            0.6         Europe  \n",
       "4            0.9         Europe  "
      ]
     },
     "execution_count": 15,
     "metadata": {},
     "output_type": "execute_result"
    }
   ],
   "source": [
    "#hide\n",
    "df_table = (pd.DataFrame(dict(Cases=dfc_cases, Deaths=dfc_deaths, PCases=dfp_cases, PDeaths=dfp_deaths))\n",
    "             .sort_values(by=['Cases', 'Deaths'], ascending=[False, False])\n",
    "             .reset_index())\n",
    "df_table.rename(columns={'index': 'Country/Region'}, inplace=True)\n",
    "for c in 'Cases, Deaths'.split(', '):\n",
    "    df_table[f'{c} (+)'] = (df_table[c] - df_table[f'P{c}']).clip(0)  # DATA BUG\n",
    "df_table['Fatality Rate'] = (100 * df_table['Deaths'] / df_table['Cases']).round(1)\n",
    "df_table['Continent'] = df_table['Country/Region'].map(mapping['map.continent'])\n",
    "df_table.head(5)"
   ]
  },
  {
   "cell_type": "code",
   "execution_count": 16,
   "id": "fewer-occasion",
   "metadata": {
    "execution": {
     "iopub.execute_input": "2022-02-25T12:14:11.693815Z",
     "iopub.status.busy": "2022-02-25T12:14:11.693230Z",
     "iopub.status.idle": "2022-02-25T12:14:11.696126Z",
     "shell.execute_reply": "2022-02-25T12:14:11.696553Z"
    },
    "papermill": {
     "duration": 0.046136,
     "end_time": "2022-02-25T12:14:11.696698",
     "exception": false,
     "start_time": "2022-02-25T12:14:11.650562",
     "status": "completed"
    },
    "tags": []
   },
   "outputs": [],
   "source": [
    "#hide\n",
    "#delete problematic countries from table\n",
    "df_table = df_table[~df_table['Country/Region'].isin(['Cape Verde', 'Cruise Ship', 'Kosovo'])]"
   ]
  },
  {
   "cell_type": "code",
   "execution_count": 17,
   "id": "related-center",
   "metadata": {
    "execution": {
     "iopub.execute_input": "2022-02-25T12:14:11.783246Z",
     "iopub.status.busy": "2022-02-25T12:14:11.782606Z",
     "iopub.status.idle": "2022-02-25T12:14:11.791204Z",
     "shell.execute_reply": "2022-02-25T12:14:11.791738Z"
    },
    "papermill": {
     "duration": 0.060828,
     "end_time": "2022-02-25T12:14:11.791949",
     "exception": false,
     "start_time": "2022-02-25T12:14:11.731121",
     "status": "completed"
    },
    "tags": []
   },
   "outputs": [],
   "source": [
    "#hide\n",
    "metrics = [df_table.columns[index] for index in [1,2,5,6]]\n",
    "# s_china = df_table[df_table['Country/Region'].eq('China')][metrics].sum().add_prefix('China ')\n",
    "s_us = df_table[df_table['Country/Region'].eq('US')][metrics].sum().add_prefix('US ')\n",
    "s_eu = df_table[df_table['Continent'].eq('Europe')][metrics].sum().add_prefix('EU ')\n",
    "s_ind = df_table[df_table['Country/Region'].eq('India')][metrics].sum().add_prefix('India ')\n",
    "summary = {'updated': pd.to_datetime(dt_today), 'since': pd.to_datetime(dt_yday)}\n",
    "summary = {'updated': pd.to_datetime(dt_today), 'since': pd.to_datetime(dt_yday)}\n",
    "summary = {**summary, **df_table[metrics].sum(), **s_ind, **s_us, **s_eu}"
   ]
  },
  {
   "cell_type": "code",
   "execution_count": 18,
   "id": "engaging-syndrome",
   "metadata": {
    "execution": {
     "iopub.execute_input": "2022-02-25T12:14:11.871655Z",
     "iopub.status.busy": "2022-02-25T12:14:11.870416Z",
     "iopub.status.idle": "2022-02-25T12:14:11.888074Z",
     "shell.execute_reply": "2022-02-25T12:14:11.887582Z"
    },
    "papermill": {
     "duration": 0.057649,
     "end_time": "2022-02-25T12:14:11.888196",
     "exception": false,
     "start_time": "2022-02-25T12:14:11.830547",
     "status": "completed"
    },
    "tags": []
   },
   "outputs": [],
   "source": [
    "#hide\n",
    "dft_ct_new_cases = dft_cases.groupby(COL_REGION)[dt_cols].sum().diff(axis=1).fillna(0).astype(int)"
   ]
  },
  {
   "cell_type": "code",
   "execution_count": 19,
   "id": "neutral-assignment",
   "metadata": {
    "execution": {
     "iopub.execute_input": "2022-02-25T12:14:11.967364Z",
     "iopub.status.busy": "2022-02-25T12:14:11.966691Z",
     "iopub.status.idle": "2022-02-25T12:14:11.968846Z",
     "shell.execute_reply": "2022-02-25T12:14:11.969375Z"
    },
    "papermill": {
     "duration": 0.045166,
     "end_time": "2022-02-25T12:14:11.969547",
     "exception": false,
     "start_time": "2022-02-25T12:14:11.924381",
     "status": "completed"
    },
    "tags": []
   },
   "outputs": [],
   "source": [
    "#hide\n",
    "everydaycases = dft_ct_new_cases.cumsum(axis=1)"
   ]
  },
  {
   "cell_type": "code",
   "execution_count": 20,
   "id": "parliamentary-calgary",
   "metadata": {
    "execution": {
     "iopub.execute_input": "2022-02-25T12:14:12.045544Z",
     "iopub.status.busy": "2022-02-25T12:14:12.044921Z",
     "iopub.status.idle": "2022-02-25T12:14:12.766077Z",
     "shell.execute_reply": "2022-02-25T12:14:12.766528Z"
    },
    "papermill": {
     "duration": 0.762461,
     "end_time": "2022-02-25T12:14:12.766684",
     "exception": false,
     "start_time": "2022-02-25T12:14:12.004223",
     "status": "completed"
    },
    "tags": []
   },
   "outputs": [],
   "source": [
    "#hide\n",
    "import pandas as pd\n",
    "import matplotlib.pyplot as plt\n",
    "import matplotlib.ticker as ticker\n",
    "import matplotlib.animation as animation\n",
    "from IPython.display import HTML"
   ]
  },
  {
   "cell_type": "code",
   "execution_count": 21,
   "id": "lasting-extraction",
   "metadata": {
    "execution": {
     "iopub.execute_input": "2022-02-25T12:14:12.849617Z",
     "iopub.status.busy": "2022-02-25T12:14:12.848870Z",
     "iopub.status.idle": "2022-02-25T12:14:12.855241Z",
     "shell.execute_reply": "2022-02-25T12:14:12.855820Z"
    },
    "papermill": {
     "duration": 0.048578,
     "end_time": "2022-02-25T12:14:12.856069",
     "exception": false,
     "start_time": "2022-02-25T12:14:12.807491",
     "status": "completed"
    },
    "tags": []
   },
   "outputs": [],
   "source": [
    "#hide\n",
    "t = everydaycases.stack()"
   ]
  },
  {
   "cell_type": "code",
   "execution_count": 22,
   "id": "premier-sleeve",
   "metadata": {
    "execution": {
     "iopub.execute_input": "2022-02-25T12:14:12.929345Z",
     "iopub.status.busy": "2022-02-25T12:14:12.928757Z",
     "iopub.status.idle": "2022-02-25T12:14:12.939605Z",
     "shell.execute_reply": "2022-02-25T12:14:12.939142Z"
    },
    "papermill": {
     "duration": 0.048835,
     "end_time": "2022-02-25T12:14:12.939711",
     "exception": false,
     "start_time": "2022-02-25T12:14:12.890876",
     "status": "completed"
    },
    "tags": []
   },
   "outputs": [],
   "source": [
    "#hide\n",
    "g = t.reset_index(['Country/Region'])"
   ]
  },
  {
   "cell_type": "code",
   "execution_count": 23,
   "id": "distributed-pittsburgh",
   "metadata": {
    "execution": {
     "iopub.execute_input": "2022-02-25T12:14:13.010277Z",
     "iopub.status.busy": "2022-02-25T12:14:13.009637Z",
     "iopub.status.idle": "2022-02-25T12:14:13.012401Z",
     "shell.execute_reply": "2022-02-25T12:14:13.011696Z"
    },
    "papermill": {
     "duration": 0.038776,
     "end_time": "2022-02-25T12:14:13.012534",
     "exception": false,
     "start_time": "2022-02-25T12:14:12.973758",
     "status": "completed"
    },
    "tags": []
   },
   "outputs": [],
   "source": [
    "#hide\n",
    "g.index.name = 'date'"
   ]
  },
  {
   "cell_type": "code",
   "execution_count": 24,
   "id": "naked-donor",
   "metadata": {
    "execution": {
     "iopub.execute_input": "2022-02-25T12:14:13.088390Z",
     "iopub.status.busy": "2022-02-25T12:14:13.087665Z",
     "iopub.status.idle": "2022-02-25T12:14:13.090278Z",
     "shell.execute_reply": "2022-02-25T12:14:13.090759Z"
    },
    "papermill": {
     "duration": 0.040034,
     "end_time": "2022-02-25T12:14:13.090878",
     "exception": false,
     "start_time": "2022-02-25T12:14:13.050844",
     "status": "completed"
    },
    "tags": []
   },
   "outputs": [],
   "source": [
    "# #hide\n",
    "# g = g.reset_index(['date'])"
   ]
  },
  {
   "cell_type": "code",
   "execution_count": 25,
   "id": "incomplete-mustang",
   "metadata": {
    "execution": {
     "iopub.execute_input": "2022-02-25T12:14:13.160988Z",
     "iopub.status.busy": "2022-02-25T12:14:13.160379Z",
     "iopub.status.idle": "2022-02-25T12:14:13.162847Z",
     "shell.execute_reply": "2022-02-25T12:14:13.162357Z"
    },
    "papermill": {
     "duration": 0.038468,
     "end_time": "2022-02-25T12:14:13.162954",
     "exception": false,
     "start_time": "2022-02-25T12:14:13.124486",
     "status": "completed"
    },
    "tags": []
   },
   "outputs": [],
   "source": [
    "#hide\n",
    "# g.head()"
   ]
  },
  {
   "cell_type": "code",
   "execution_count": 26,
   "id": "specific-kruger",
   "metadata": {
    "execution": {
     "iopub.execute_input": "2022-02-25T12:14:13.236268Z",
     "iopub.status.busy": "2022-02-25T12:14:13.235638Z",
     "iopub.status.idle": "2022-02-25T12:14:13.237695Z",
     "shell.execute_reply": "2022-02-25T12:14:13.238115Z"
    },
    "papermill": {
     "duration": 0.040641,
     "end_time": "2022-02-25T12:14:13.238239",
     "exception": false,
     "start_time": "2022-02-25T12:14:13.197598",
     "status": "completed"
    },
    "tags": []
   },
   "outputs": [],
   "source": [
    "#hide\n",
    "# g.columns = ['date','country','cases']"
   ]
  },
  {
   "cell_type": "code",
   "execution_count": 27,
   "id": "tender-conversion",
   "metadata": {
    "execution": {
     "iopub.execute_input": "2022-02-25T12:14:13.307012Z",
     "iopub.status.busy": "2022-02-25T12:14:13.306461Z",
     "iopub.status.idle": "2022-02-25T12:14:13.309770Z",
     "shell.execute_reply": "2022-02-25T12:14:13.310172Z"
    },
    "papermill": {
     "duration": 0.038385,
     "end_time": "2022-02-25T12:14:13.310288",
     "exception": false,
     "start_time": "2022-02-25T12:14:13.271903",
     "status": "completed"
    },
    "tags": []
   },
   "outputs": [],
   "source": [
    "#hide\n",
    "# g['continent'] = g.country"
   ]
  },
  {
   "cell_type": "code",
   "execution_count": 28,
   "id": "substantial-wilderness",
   "metadata": {
    "execution": {
     "iopub.execute_input": "2022-02-25T12:14:13.377969Z",
     "iopub.status.busy": "2022-02-25T12:14:13.377339Z",
     "iopub.status.idle": "2022-02-25T12:14:13.380384Z",
     "shell.execute_reply": "2022-02-25T12:14:13.379920Z"
    },
    "papermill": {
     "duration": 0.037774,
     "end_time": "2022-02-25T12:14:13.380534",
     "exception": false,
     "start_time": "2022-02-25T12:14:13.342760",
     "status": "completed"
    },
    "tags": []
   },
   "outputs": [],
   "source": [
    "#hide\n",
    "# cols = list(g.columns.values)"
   ]
  },
  {
   "cell_type": "code",
   "execution_count": 29,
   "id": "solved-farming",
   "metadata": {
    "execution": {
     "iopub.execute_input": "2022-02-25T12:14:13.454136Z",
     "iopub.status.busy": "2022-02-25T12:14:13.453448Z",
     "iopub.status.idle": "2022-02-25T12:14:13.455882Z",
     "shell.execute_reply": "2022-02-25T12:14:13.456356Z"
    },
    "papermill": {
     "duration": 0.041019,
     "end_time": "2022-02-25T12:14:13.456479",
     "exception": false,
     "start_time": "2022-02-25T12:14:13.415460",
     "status": "completed"
    },
    "tags": []
   },
   "outputs": [],
   "source": [
    "#hide\n",
    "# cols.insert(0, cols.pop())"
   ]
  },
  {
   "cell_type": "code",
   "execution_count": 30,
   "id": "executed-adoption",
   "metadata": {
    "execution": {
     "iopub.execute_input": "2022-02-25T12:14:13.530272Z",
     "iopub.status.busy": "2022-02-25T12:14:13.529583Z",
     "iopub.status.idle": "2022-02-25T12:14:13.532902Z",
     "shell.execute_reply": "2022-02-25T12:14:13.532216Z"
    },
    "papermill": {
     "duration": 0.043881,
     "end_time": "2022-02-25T12:14:13.533079",
     "exception": false,
     "start_time": "2022-02-25T12:14:13.489198",
     "status": "completed"
    },
    "tags": []
   },
   "outputs": [],
   "source": [
    "#hide\n",
    "# g = g[cols]"
   ]
  },
  {
   "cell_type": "code",
   "execution_count": 31,
   "id": "subject-dublin",
   "metadata": {
    "execution": {
     "iopub.execute_input": "2022-02-25T12:14:13.605610Z",
     "iopub.status.busy": "2022-02-25T12:14:13.604967Z",
     "iopub.status.idle": "2022-02-25T12:14:13.607084Z",
     "shell.execute_reply": "2022-02-25T12:14:13.607738Z"
    },
    "papermill": {
     "duration": 0.038273,
     "end_time": "2022-02-25T12:14:13.607852",
     "exception": false,
     "start_time": "2022-02-25T12:14:13.569579",
     "status": "completed"
    },
    "tags": []
   },
   "outputs": [],
   "source": [
    "#hide\n",
    "# g['continent'] = g['continent'].map(mapping['map.continent'])"
   ]
  },
  {
   "cell_type": "code",
   "execution_count": 32,
   "id": "freelance-scout",
   "metadata": {
    "execution": {
     "iopub.execute_input": "2022-02-25T12:14:13.674560Z",
     "iopub.status.busy": "2022-02-25T12:14:13.673727Z",
     "iopub.status.idle": "2022-02-25T12:14:13.677770Z",
     "shell.execute_reply": "2022-02-25T12:14:13.678242Z"
    },
    "papermill": {
     "duration": 0.038995,
     "end_time": "2022-02-25T12:14:13.678368",
     "exception": false,
     "start_time": "2022-02-25T12:14:13.639373",
     "status": "completed"
    },
    "tags": []
   },
   "outputs": [],
   "source": [
    "#hide\n",
    "# g.head()"
   ]
  },
  {
   "cell_type": "code",
   "execution_count": 33,
   "id": "limited-engine",
   "metadata": {
    "execution": {
     "iopub.execute_input": "2022-02-25T12:14:13.748408Z",
     "iopub.status.busy": "2022-02-25T12:14:13.747629Z",
     "iopub.status.idle": "2022-02-25T12:14:13.749884Z",
     "shell.execute_reply": "2022-02-25T12:14:13.749302Z"
    },
    "papermill": {
     "duration": 0.037211,
     "end_time": "2022-02-25T12:14:13.749994",
     "exception": false,
     "start_time": "2022-02-25T12:14:13.712783",
     "status": "completed"
    },
    "tags": []
   },
   "outputs": [],
   "source": [
    "# hide\n",
    "# g['date'] = g['date'].astype('datetime64[ns]')"
   ]
  },
  {
   "cell_type": "code",
   "execution_count": 34,
   "id": "sophisticated-supervisor",
   "metadata": {
    "execution": {
     "iopub.execute_input": "2022-02-25T12:14:13.823838Z",
     "iopub.status.busy": "2022-02-25T12:14:13.823215Z",
     "iopub.status.idle": "2022-02-25T12:14:13.825670Z",
     "shell.execute_reply": "2022-02-25T12:14:13.825093Z"
    },
    "papermill": {
     "duration": 0.040997,
     "end_time": "2022-02-25T12:14:13.825782",
     "exception": false,
     "start_time": "2022-02-25T12:14:13.784785",
     "status": "completed"
    },
    "tags": []
   },
   "outputs": [],
   "source": [
    "#hide\n",
    "# g['date'] = g.date.dt.dayofyear"
   ]
  },
  {
   "cell_type": "code",
   "execution_count": 35,
   "id": "inside-dubai",
   "metadata": {
    "execution": {
     "iopub.execute_input": "2022-02-25T12:14:13.894566Z",
     "iopub.status.busy": "2022-02-25T12:14:13.894035Z",
     "iopub.status.idle": "2022-02-25T12:14:13.896741Z",
     "shell.execute_reply": "2022-02-25T12:14:13.895828Z"
    },
    "papermill": {
     "duration": 0.037435,
     "end_time": "2022-02-25T12:14:13.896848",
     "exception": false,
     "start_time": "2022-02-25T12:14:13.859413",
     "status": "completed"
    },
    "tags": []
   },
   "outputs": [],
   "source": [
    "#hide\n",
    "# g = g.rename(columns= {'continent':'group','country':'name','cases':'value'})"
   ]
  },
  {
   "cell_type": "code",
   "execution_count": 36,
   "id": "fleet-motorcycle",
   "metadata": {
    "execution": {
     "iopub.execute_input": "2022-02-25T12:14:13.971655Z",
     "iopub.status.busy": "2022-02-25T12:14:13.971014Z",
     "iopub.status.idle": "2022-02-25T12:14:13.973247Z",
     "shell.execute_reply": "2022-02-25T12:14:13.972592Z"
    },
    "papermill": {
     "duration": 0.041807,
     "end_time": "2022-02-25T12:14:13.973356",
     "exception": false,
     "start_time": "2022-02-25T12:14:13.931549",
     "status": "completed"
    },
    "tags": []
   },
   "outputs": [],
   "source": [
    "#hide\n",
    "# cols = ['name','group','day','value']"
   ]
  },
  {
   "cell_type": "code",
   "execution_count": 37,
   "id": "continued-sleeping",
   "metadata": {
    "execution": {
     "iopub.execute_input": "2022-02-25T12:14:14.047771Z",
     "iopub.status.busy": "2022-02-25T12:14:14.047107Z",
     "iopub.status.idle": "2022-02-25T12:14:14.049383Z",
     "shell.execute_reply": "2022-02-25T12:14:14.049901Z"
    },
    "papermill": {
     "duration": 0.039905,
     "end_time": "2022-02-25T12:14:14.050017",
     "exception": false,
     "start_time": "2022-02-25T12:14:14.010112",
     "status": "completed"
    },
    "tags": []
   },
   "outputs": [],
   "source": [
    "#hide\n",
    "# g.rename(columns= {'date':'day'},inplace = True)"
   ]
  },
  {
   "cell_type": "code",
   "execution_count": 38,
   "id": "major-fight",
   "metadata": {
    "execution": {
     "iopub.execute_input": "2022-02-25T12:14:14.143446Z",
     "iopub.status.busy": "2022-02-25T12:14:14.142781Z",
     "iopub.status.idle": "2022-02-25T12:14:14.149336Z",
     "shell.execute_reply": "2022-02-25T12:14:14.148646Z"
    },
    "papermill": {
     "duration": 0.058113,
     "end_time": "2022-02-25T12:14:14.149563",
     "exception": false,
     "start_time": "2022-02-25T12:14:14.091450",
     "status": "completed"
    },
    "tags": []
   },
   "outputs": [],
   "source": [
    "#hide\n",
    "# g = g[cols]"
   ]
  },
  {
   "cell_type": "code",
   "execution_count": 39,
   "id": "structured-mobile",
   "metadata": {
    "execution": {
     "iopub.execute_input": "2022-02-25T12:14:14.229507Z",
     "iopub.status.busy": "2022-02-25T12:14:14.228899Z",
     "iopub.status.idle": "2022-02-25T12:14:14.232312Z",
     "shell.execute_reply": "2022-02-25T12:14:14.232828Z"
    },
    "papermill": {
     "duration": 0.040577,
     "end_time": "2022-02-25T12:14:14.232959",
     "exception": false,
     "start_time": "2022-02-25T12:14:14.192382",
     "status": "completed"
    },
    "tags": []
   },
   "outputs": [],
   "source": [
    "# #hide\n",
    "# g = g[g.group.notna()]"
   ]
  },
  {
   "cell_type": "code",
   "execution_count": 40,
   "id": "determined-closing",
   "metadata": {
    "execution": {
     "iopub.execute_input": "2022-02-25T12:14:14.304254Z",
     "iopub.status.busy": "2022-02-25T12:14:14.303592Z",
     "iopub.status.idle": "2022-02-25T12:14:14.306176Z",
     "shell.execute_reply": "2022-02-25T12:14:14.305615Z"
    },
    "papermill": {
     "duration": 0.038401,
     "end_time": "2022-02-25T12:14:14.306307",
     "exception": false,
     "start_time": "2022-02-25T12:14:14.267906",
     "status": "completed"
    },
    "tags": []
   },
   "outputs": [],
   "source": [
    "# #hide\n",
    "# colors = dict(zip(\n",
    "#     [\"Oceania\", \"Europe\", \"Asia\", \"South America\", \"Middle East\", \"North America\", \"Africa\"],\n",
    "#     [\"#adb0ff\", \"#ffb3ff\", \"#90d595\", \"#e48381\", \"#aafbff\", \"#f7bb5f\", \"#eafb50\"]\n",
    "# ))\n",
    "# group_lk = g.set_index('name')['group'].to_dict()"
   ]
  },
  {
   "cell_type": "code",
   "execution_count": null,
   "id": "gross-drinking",
   "metadata": {
    "papermill": {
     "duration": 0.035507,
     "end_time": "2022-02-25T12:14:14.375356",
     "exception": false,
     "start_time": "2022-02-25T12:14:14.339849",
     "status": "completed"
    },
    "tags": []
   },
   "outputs": [],
   "source": []
  },
  {
   "cell_type": "code",
   "execution_count": 41,
   "id": "subject-macintosh",
   "metadata": {
    "execution": {
     "iopub.execute_input": "2022-02-25T12:14:14.446867Z",
     "iopub.status.busy": "2022-02-25T12:14:14.446157Z",
     "iopub.status.idle": "2022-02-25T12:14:14.450143Z",
     "shell.execute_reply": "2022-02-25T12:14:14.450615Z"
    },
    "papermill": {
     "duration": 0.041798,
     "end_time": "2022-02-25T12:14:14.450749",
     "exception": false,
     "start_time": "2022-02-25T12:14:14.408951",
     "status": "completed"
    },
    "tags": []
   },
   "outputs": [],
   "source": [
    "# #hide\n",
    "# fig, ax = plt.subplots(figsize=(15, 8))\n",
    "\n",
    "# def draw_barchart(current_day):\n",
    "#     dff = g[g['day'].eq(current_day)].sort_values(by='value', ascending=True).tail(10)\n",
    "#     ax.clear()\n",
    "#     ax.barh(dff['name'], dff['value'], color=[colors[group_lk[x]] for x in dff['name']])\n",
    "#     dx = dff['value'].max() / 200\n",
    "    \n",
    "#     for i, (value, name) in enumerate(zip(dff['value'], dff['name'])):\n",
    "#         ax.text(value-dx, i,     name,           size=14, weight=600, ha='right', va='bottom')\n",
    "#         ax.text(value-dx, i-.25, group_lk[name], size=10, color='#444444', ha='right', va='baseline')\n",
    "#         ax.text(value+dx, i,     f'{value:,.0f}',  size=14, ha='left',  va='center')\n",
    "#     ax.text(1, 0.4, current_day, transform=ax.transAxes, color='#777777', size=46, ha='right', weight=800)\n",
    "#     ax.text(0, 1.06, 'Population (thousands)', transform=ax.transAxes, size=12, color='#777777')\n",
    "#     ax.xaxis.set_major_formatter(ticker.StrMethodFormatter('{x:,.0f}'))\n",
    "#     ax.xaxis.set_ticks_position('top')\n",
    "#     ax.tick_params(axis='x', colors='#777777', labelsize=12)\n",
    "#     ax.set_yticks([])\n",
    "#     ax.margins(0, 0.01)\n",
    "#     ax.grid(which='major', axis='x', linestyle='-')\n",
    "#     ax.set_axisbelow(True)\n",
    "    \n",
    "#     ax.text(0, 1.15, 'Coronavirus',\n",
    "#             transform=ax.transAxes, size=24, weight=600, ha='left', va='top')\n",
    "# #     ax.text(1, 0, 'by @pratapvardhan; credit @jburnmurdoch', transform=ax.transAxes, color='#777777', ha='right',\n",
    "# #             bbox=dict(facecolor='white', alpha=0.8, edgecolor='white'))\n",
    "#     plt.box(False)"
   ]
  },
  {
   "cell_type": "code",
   "execution_count": 42,
   "id": "sexual-wages",
   "metadata": {
    "execution": {
     "iopub.execute_input": "2022-02-25T12:14:14.536971Z",
     "iopub.status.busy": "2022-02-25T12:14:14.536349Z",
     "iopub.status.idle": "2022-02-25T12:14:14.538568Z",
     "shell.execute_reply": "2022-02-25T12:14:14.538969Z"
    },
    "papermill": {
     "duration": 0.052262,
     "end_time": "2022-02-25T12:14:14.539096",
     "exception": false,
     "start_time": "2022-02-25T12:14:14.486834",
     "status": "completed"
    },
    "tags": []
   },
   "outputs": [],
   "source": [
    "# #hide_input\n",
    "# fig, ax = plt.subplots(figsize=(15, 8))\n",
    "# animator = animation.FuncAnimation(fig, draw_barchart, frames=range(g.day.values.min(), g.day.values.max()))\n",
    "# HTML(animator.to_jshtml())\n",
    "# # or use animator.to_html5_video() or animator.save() "
   ]
  },
  {
   "cell_type": "code",
   "execution_count": null,
   "id": "australian-container",
   "metadata": {
    "papermill": {
     "duration": 0.042547,
     "end_time": "2022-02-25T12:14:14.615160",
     "exception": false,
     "start_time": "2022-02-25T12:14:14.572613",
     "status": "completed"
    },
    "tags": []
   },
   "outputs": [],
   "source": []
  },
  {
   "cell_type": "code",
   "execution_count": null,
   "id": "mediterranean-pontiac",
   "metadata": {
    "papermill": {
     "duration": 0.05062,
     "end_time": "2022-02-25T12:14:14.704531",
     "exception": false,
     "start_time": "2022-02-25T12:14:14.653911",
     "status": "completed"
    },
    "tags": []
   },
   "outputs": [],
   "source": []
  },
  {
   "cell_type": "code",
   "execution_count": null,
   "id": "aging-legislature",
   "metadata": {
    "papermill": {
     "duration": 0.037658,
     "end_time": "2022-02-25T12:14:14.780755",
     "exception": false,
     "start_time": "2022-02-25T12:14:14.743097",
     "status": "completed"
    },
    "tags": []
   },
   "outputs": [],
   "source": []
  }
 ],
 "metadata": {
  "kernelspec": {
   "display_name": "Python 3",
   "language": "python",
   "name": "python3"
  },
  "language_info": {
   "codemirror_mode": {
    "name": "ipython",
    "version": 3
   },
   "file_extension": ".py",
   "mimetype": "text/x-python",
   "name": "python",
   "nbconvert_exporter": "python",
   "pygments_lexer": "ipython3",
   "version": "3.6.15"
  },
  "papermill": {
   "duration": 6.664356,
   "end_time": "2022-02-25T12:14:15.136186",
   "environment_variables": {},
   "exception": null,
   "input_path": "2020-03-21-covid19exp.ipynb",
   "output_path": "2020-03-21-covid19exp.ipynb",
   "parameters": {},
   "start_time": "2022-02-25T12:14:08.471830",
   "version": "2.0.0"
  }
 },
 "nbformat": 4,
 "nbformat_minor": 5
}