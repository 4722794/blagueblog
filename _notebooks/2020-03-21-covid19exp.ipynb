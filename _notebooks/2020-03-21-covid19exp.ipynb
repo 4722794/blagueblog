{
 "cells": [
  {
   "cell_type": "markdown",
   "id": "muslim-click",
   "metadata": {
    "papermill": {
     "duration": 0.03511,
     "end_time": "2022-08-28T00:49:39.188284",
     "exception": false,
     "start_time": "2022-08-28T00:49:39.153174",
     "status": "completed"
    },
    "tags": []
   },
   "source": [
    "# COVID-19 Case Race\n",
    "> A race chart to see rising cases around the world\n",
    "\n",
    "- author: Hargun Oberoi\n",
    "- image: images/covid-overview.png\n",
    "- hide: false\n",
    "- badges: false"
   ]
  },
  {
   "cell_type": "code",
   "execution_count": 1,
   "id": "proof-material",
   "metadata": {
    "execution": {
     "iopub.execute_input": "2022-08-28T00:49:39.257384Z",
     "iopub.status.busy": "2022-08-28T00:49:39.256736Z",
     "iopub.status.idle": "2022-08-28T00:49:39.586989Z",
     "shell.execute_reply": "2022-08-28T00:49:39.585984Z"
    },
    "papermill": {
     "duration": 0.369081,
     "end_time": "2022-08-28T00:49:39.587148",
     "exception": false,
     "start_time": "2022-08-28T00:49:39.218067",
     "status": "completed"
    },
    "tags": []
   },
   "outputs": [],
   "source": [
    "#hide\n",
    "import numpy as np\n",
    "import pandas as pd\n",
    "from jinja2 import Template\n",
    "from IPython.display import HTML"
   ]
  },
  {
   "cell_type": "code",
   "execution_count": 2,
   "id": "developed-terminology",
   "metadata": {
    "execution": {
     "iopub.execute_input": "2022-08-28T00:49:39.652014Z",
     "iopub.status.busy": "2022-08-28T00:49:39.651410Z",
     "iopub.status.idle": "2022-08-28T00:49:39.653765Z",
     "shell.execute_reply": "2022-08-28T00:49:39.654351Z"
    },
    "papermill": {
     "duration": 0.037148,
     "end_time": "2022-08-28T00:49:39.654482",
     "exception": false,
     "start_time": "2022-08-28T00:49:39.617334",
     "status": "completed"
    },
    "tags": []
   },
   "outputs": [],
   "source": [
    "#hide\n",
    "\n",
    "# FETCH\n",
    "base_url = 'https://raw.githubusercontent.com/pratapvardhan/notebooks/master/covid19/'\n",
    "paths = {\n",
    "    'mapping': base_url + 'mapping_countries.csv',\n",
    "    'overview': base_url + 'overview.tpl'\n",
    "}"
   ]
  },
  {
   "cell_type": "code",
   "execution_count": 3,
   "id": "dynamic-saver",
   "metadata": {
    "execution": {
     "iopub.execute_input": "2022-08-28T00:49:39.721717Z",
     "iopub.status.busy": "2022-08-28T00:49:39.719608Z",
     "iopub.status.idle": "2022-08-28T00:49:39.724634Z",
     "shell.execute_reply": "2022-08-28T00:49:39.725062Z"
    },
    "papermill": {
     "duration": 0.041953,
     "end_time": "2022-08-28T00:49:39.725187",
     "exception": false,
     "start_time": "2022-08-28T00:49:39.683234",
     "status": "completed"
    },
    "tags": []
   },
   "outputs": [
    {
     "data": {
      "text/plain": [
       "'https://raw.githubusercontent.com/pratapvardhan/notebooks/master/covid19/mapping_countries.csv'"
      ]
     },
     "execution_count": 3,
     "metadata": {},
     "output_type": "execute_result"
    }
   ],
   "source": [
    "#hide\n",
    "paths['mapping']"
   ]
  },
  {
   "cell_type": "code",
   "execution_count": 4,
   "id": "urban-software",
   "metadata": {
    "execution": {
     "iopub.execute_input": "2022-08-28T00:49:39.789240Z",
     "iopub.status.busy": "2022-08-28T00:49:39.788559Z",
     "iopub.status.idle": "2022-08-28T00:49:39.790957Z",
     "shell.execute_reply": "2022-08-28T00:49:39.790387Z"
    },
    "papermill": {
     "duration": 0.036562,
     "end_time": "2022-08-28T00:49:39.791065",
     "exception": false,
     "start_time": "2022-08-28T00:49:39.754503",
     "status": "completed"
    },
    "tags": []
   },
   "outputs": [],
   "source": [
    "#hide\n",
    "def get_mappings(url):\n",
    "    df = pd.read_csv(url)\n",
    "    return {\n",
    "        'df': df,\n",
    "        'replace.country': dict(df.dropna(subset=['Name']).set_index('Country')['Name']),\n",
    "        'map.continent': dict(df.set_index('Name')['Continent'])\n",
    "    }"
   ]
  },
  {
   "cell_type": "code",
   "execution_count": 5,
   "id": "intimate-machinery",
   "metadata": {
    "execution": {
     "iopub.execute_input": "2022-08-28T00:49:39.854826Z",
     "iopub.status.busy": "2022-08-28T00:49:39.854218Z",
     "iopub.status.idle": "2022-08-28T00:49:39.890581Z",
     "shell.execute_reply": "2022-08-28T00:49:39.889968Z"
    },
    "papermill": {
     "duration": 0.070532,
     "end_time": "2022-08-28T00:49:39.890713",
     "exception": false,
     "start_time": "2022-08-28T00:49:39.820181",
     "status": "completed"
    },
    "tags": []
   },
   "outputs": [],
   "source": [
    "#hide\n",
    "mapping = get_mappings(paths['mapping'])"
   ]
  },
  {
   "cell_type": "code",
   "execution_count": 6,
   "id": "certified-tactics",
   "metadata": {
    "execution": {
     "iopub.execute_input": "2022-08-28T00:49:39.954829Z",
     "iopub.status.busy": "2022-08-28T00:49:39.954227Z",
     "iopub.status.idle": "2022-08-28T00:49:39.956490Z",
     "shell.execute_reply": "2022-08-28T00:49:39.957048Z"
    },
    "papermill": {
     "duration": 0.036891,
     "end_time": "2022-08-28T00:49:39.957174",
     "exception": false,
     "start_time": "2022-08-28T00:49:39.920283",
     "status": "completed"
    },
    "tags": []
   },
   "outputs": [],
   "source": [
    "#hide\n",
    "def get_template(path):\n",
    "    from urllib.parse import urlparse\n",
    "    if bool(urlparse(path).netloc):\n",
    "        from urllib.request import urlopen\n",
    "        return urlopen(path).read().decode('utf8')\n",
    "    return open(path).read()"
   ]
  },
  {
   "cell_type": "code",
   "execution_count": 7,
   "id": "realistic-blast",
   "metadata": {
    "execution": {
     "iopub.execute_input": "2022-08-28T00:49:40.020778Z",
     "iopub.status.busy": "2022-08-28T00:49:40.020196Z",
     "iopub.status.idle": "2022-08-28T00:49:40.022223Z",
     "shell.execute_reply": "2022-08-28T00:49:40.022783Z"
    },
    "papermill": {
     "duration": 0.036624,
     "end_time": "2022-08-28T00:49:40.022911",
     "exception": false,
     "start_time": "2022-08-28T00:49:39.986287",
     "status": "completed"
    },
    "tags": []
   },
   "outputs": [],
   "source": [
    "#hide\n",
    "def get_frame(name):\n",
    "    url = (\n",
    "        'https://raw.githubusercontent.com/CSSEGISandData/COVID-19/master/csse_covid_19_data/'\n",
    "        f'csse_covid_19_time_series/time_series_covid19_{name}_global.csv')\n",
    "    df = pd.read_csv(url)\n",
    "    # rename countries\n",
    "    df['Country/Region'] = df['Country/Region'].replace(mapping['replace.country'])\n",
    "    return df"
   ]
  },
  {
   "cell_type": "code",
   "execution_count": 8,
   "id": "affiliated-characterization",
   "metadata": {
    "execution": {
     "iopub.execute_input": "2022-08-28T00:49:40.088143Z",
     "iopub.status.busy": "2022-08-28T00:49:40.087467Z",
     "iopub.status.idle": "2022-08-28T00:49:40.089981Z",
     "shell.execute_reply": "2022-08-28T00:49:40.089497Z"
    },
    "papermill": {
     "duration": 0.037912,
     "end_time": "2022-08-28T00:49:40.090126",
     "exception": false,
     "start_time": "2022-08-28T00:49:40.052214",
     "status": "completed"
    },
    "tags": []
   },
   "outputs": [],
   "source": [
    "#hide\n",
    "def get_dates(df):\n",
    "    dt_cols = df.columns[~df.columns.isin(['Province/State', 'Country/Region', 'Lat', 'Long'])]\n",
    "    LAST_DATE_I = -1\n",
    "    # sometimes last column may be empty, then go backwards\n",
    "    for i in range(-1, -len(dt_cols), -1):\n",
    "        if not df[dt_cols[i]].fillna(0).eq(0).all():\n",
    "            LAST_DATE_I = i\n",
    "            break\n",
    "    return LAST_DATE_I, dt_cols"
   ]
  },
  {
   "cell_type": "code",
   "execution_count": 9,
   "id": "recent-optimization",
   "metadata": {
    "execution": {
     "iopub.execute_input": "2022-08-28T00:49:40.154634Z",
     "iopub.status.busy": "2022-08-28T00:49:40.153982Z",
     "iopub.status.idle": "2022-08-28T00:49:40.542415Z",
     "shell.execute_reply": "2022-08-28T00:49:40.541764Z"
    },
    "papermill": {
     "duration": 0.42296,
     "end_time": "2022-08-28T00:49:40.542573",
     "exception": false,
     "start_time": "2022-08-28T00:49:40.119613",
     "status": "completed"
    },
    "tags": []
   },
   "outputs": [],
   "source": [
    "#hide\n",
    "COL_REGION = 'Country/Region'\n",
    "# Confirmed, Recovered, Deaths\n",
    "df = get_frame('confirmed')\n",
    "# dft_: timeseries, dfc_: today country agg\n",
    "dft_cases = df\n",
    "dft_deaths = get_frame('deaths')\n",
    "dft_recovered = get_frame('recovered')\n",
    "LAST_DATE_I, dt_cols = get_dates(df)"
   ]
  },
  {
   "cell_type": "code",
   "execution_count": 10,
   "id": "absolute-copper",
   "metadata": {
    "execution": {
     "iopub.execute_input": "2022-08-28T00:49:40.607723Z",
     "iopub.status.busy": "2022-08-28T00:49:40.607088Z",
     "iopub.status.idle": "2022-08-28T00:49:40.610316Z",
     "shell.execute_reply": "2022-08-28T00:49:40.609794Z"
    },
    "papermill": {
     "duration": 0.038155,
     "end_time": "2022-08-28T00:49:40.610433",
     "exception": false,
     "start_time": "2022-08-28T00:49:40.572278",
     "status": "completed"
    },
    "tags": []
   },
   "outputs": [],
   "source": [
    "#hide\n",
    "LAST_DATE_I, dt_cols = get_dates(df)\n",
    "dt_today =dt_cols[LAST_DATE_I]\n",
    "# dt_5day = dt_cols[LAST_DATE_I - 5]\n",
    "dt_yday = dt_cols[LAST_DATE_I - 1]"
   ]
  },
  {
   "cell_type": "code",
   "execution_count": 11,
   "id": "restricted-sheriff",
   "metadata": {
    "execution": {
     "iopub.execute_input": "2022-08-28T00:49:40.677129Z",
     "iopub.status.busy": "2022-08-28T00:49:40.676477Z",
     "iopub.status.idle": "2022-08-28T00:49:40.682370Z",
     "shell.execute_reply": "2022-08-28T00:49:40.681747Z"
    },
    "papermill": {
     "duration": 0.042938,
     "end_time": "2022-08-28T00:49:40.682489",
     "exception": false,
     "start_time": "2022-08-28T00:49:40.639551",
     "status": "completed"
    },
    "tags": []
   },
   "outputs": [],
   "source": [
    "#hide\n",
    "dfc_cases = dft_cases.groupby(COL_REGION)[dt_today].sum()\n",
    "dfc_deaths = dft_deaths.groupby(COL_REGION)[dt_today].sum()\n",
    "# dfp_cases = dft_cases.groupby(COL_REGION)[dt_5day].sum()\n",
    "# dfp_deaths = dft_deaths.groupby(COL_REGION)[dt_5day].sum()\n",
    "dfp_cases = dft_cases.groupby(COL_REGION)[dt_yday].sum()\n",
    "dfp_deaths = dft_deaths.groupby(COL_REGION)[dt_yday].sum()"
   ]
  },
  {
   "cell_type": "code",
   "execution_count": 12,
   "id": "deluxe-hepatitis",
   "metadata": {
    "execution": {
     "iopub.execute_input": "2022-08-28T00:49:40.748020Z",
     "iopub.status.busy": "2022-08-28T00:49:40.746658Z",
     "iopub.status.idle": "2022-08-28T00:49:40.752686Z",
     "shell.execute_reply": "2022-08-28T00:49:40.753139Z"
    },
    "papermill": {
     "duration": 0.041584,
     "end_time": "2022-08-28T00:49:40.753265",
     "exception": false,
     "start_time": "2022-08-28T00:49:40.711681",
     "status": "completed"
    },
    "tags": []
   },
   "outputs": [],
   "source": [
    "#hide\n",
    "df_table = (pd.DataFrame(dict(Cases = dfc_cases, Deaths = dfc_deaths, PCases = dfp_cases, PDeaths = dfp_deaths))\n",
    "            .sort_values(by = ['Cases','Deaths'], ascending = [False, False])\n",
    "            .reset_index())"
   ]
  },
  {
   "cell_type": "code",
   "execution_count": 13,
   "id": "educational-chancellor",
   "metadata": {
    "execution": {
     "iopub.execute_input": "2022-08-28T00:49:40.830781Z",
     "iopub.status.busy": "2022-08-28T00:49:40.830126Z",
     "iopub.status.idle": "2022-08-28T00:49:40.837949Z",
     "shell.execute_reply": "2022-08-28T00:49:40.837467Z"
    },
    "papermill": {
     "duration": 0.055542,
     "end_time": "2022-08-28T00:49:40.838094",
     "exception": false,
     "start_time": "2022-08-28T00:49:40.782552",
     "status": "completed"
    },
    "tags": []
   },
   "outputs": [
    {
     "data": {
      "text/html": [
       "<div>\n",
       "<style scoped>\n",
       "    .dataframe tbody tr th:only-of-type {\n",
       "        vertical-align: middle;\n",
       "    }\n",
       "\n",
       "    .dataframe tbody tr th {\n",
       "        vertical-align: top;\n",
       "    }\n",
       "\n",
       "    .dataframe thead th {\n",
       "        text-align: right;\n",
       "    }\n",
       "</style>\n",
       "<table border=\"1\" class=\"dataframe\">\n",
       "  <thead>\n",
       "    <tr style=\"text-align: right;\">\n",
       "      <th></th>\n",
       "      <th>Country/Region</th>\n",
       "      <th>Cases</th>\n",
       "      <th>Deaths</th>\n",
       "      <th>PCases</th>\n",
       "      <th>PDeaths</th>\n",
       "      <th>Cases (+)</th>\n",
       "      <th>Deaths (+)</th>\n",
       "      <th>Fatality Rate</th>\n",
       "      <th>Continent</th>\n",
       "    </tr>\n",
       "  </thead>\n",
       "  <tbody>\n",
       "    <tr>\n",
       "      <th>0</th>\n",
       "      <td>US</td>\n",
       "      <td>94171060</td>\n",
       "      <td>1043783</td>\n",
       "      <td>94028840</td>\n",
       "      <td>1043089</td>\n",
       "      <td>142220</td>\n",
       "      <td>694</td>\n",
       "      <td>1.11</td>\n",
       "      <td>North America</td>\n",
       "    </tr>\n",
       "    <tr>\n",
       "      <th>1</th>\n",
       "      <td>India</td>\n",
       "      <td>44398696</td>\n",
       "      <td>527597</td>\n",
       "      <td>44389176</td>\n",
       "      <td>527556</td>\n",
       "      <td>9520</td>\n",
       "      <td>41</td>\n",
       "      <td>1.19</td>\n",
       "      <td>Asia</td>\n",
       "    </tr>\n",
       "    <tr>\n",
       "      <th>2</th>\n",
       "      <td>France</td>\n",
       "      <td>34662834</td>\n",
       "      <td>154897</td>\n",
       "      <td>34644718</td>\n",
       "      <td>154846</td>\n",
       "      <td>18116</td>\n",
       "      <td>51</td>\n",
       "      <td>0.45</td>\n",
       "      <td>Europe</td>\n",
       "    </tr>\n",
       "    <tr>\n",
       "      <th>3</th>\n",
       "      <td>Brazil</td>\n",
       "      <td>34368909</td>\n",
       "      <td>683397</td>\n",
       "      <td>34350639</td>\n",
       "      <td>683233</td>\n",
       "      <td>18270</td>\n",
       "      <td>164</td>\n",
       "      <td>1.99</td>\n",
       "      <td>South America</td>\n",
       "    </tr>\n",
       "    <tr>\n",
       "      <th>4</th>\n",
       "      <td>Germany</td>\n",
       "      <td>32041348</td>\n",
       "      <td>147104</td>\n",
       "      <td>32008122</td>\n",
       "      <td>147003</td>\n",
       "      <td>33226</td>\n",
       "      <td>101</td>\n",
       "      <td>0.46</td>\n",
       "      <td>Europe</td>\n",
       "    </tr>\n",
       "  </tbody>\n",
       "</table>\n",
       "</div>"
      ],
      "text/plain": [
       "  Country/Region     Cases   Deaths    PCases  PDeaths  Cases (+)  Deaths (+)  \\\n",
       "0             US  94171060  1043783  94028840  1043089     142220         694   \n",
       "1          India  44398696   527597  44389176   527556       9520          41   \n",
       "2         France  34662834   154897  34644718   154846      18116          51   \n",
       "3         Brazil  34368909   683397  34350639   683233      18270         164   \n",
       "4        Germany  32041348   147104  32008122   147003      33226         101   \n",
       "\n",
       "   Fatality Rate      Continent  \n",
       "0           1.11  North America  \n",
       "1           1.19           Asia  \n",
       "2           0.45         Europe  \n",
       "3           1.99  South America  \n",
       "4           0.46         Europe  "
      ]
     },
     "execution_count": 13,
     "metadata": {},
     "output_type": "execute_result"
    }
   ],
   "source": [
    "#hide\n",
    "for c in 'Cases, Deaths'.split(', '):\n",
    "    df_table[f'{c} (+)'] = (df_table[c] - df_table[f'P{c}']).clip(0)\n",
    "    #Clip ça veut dire, les chiffres negatif sont interdit\n",
    "df_table['Fatality Rate'] = (100* df_table['Deaths']/ df_table['Cases']).round(2)\n",
    "df_table['Continent'] = df_table['Country/Region'].map(mapping['map.continent'])\n",
    "df_table.head(5)"
   ]
  },
  {
   "cell_type": "code",
   "execution_count": 14,
   "id": "aboriginal-bulgaria",
   "metadata": {
    "execution": {
     "iopub.execute_input": "2022-08-28T00:49:40.903979Z",
     "iopub.status.busy": "2022-08-28T00:49:40.903390Z",
     "iopub.status.idle": "2022-08-28T00:49:40.905811Z",
     "shell.execute_reply": "2022-08-28T00:49:40.906291Z"
    },
    "papermill": {
     "duration": 0.038311,
     "end_time": "2022-08-28T00:49:40.906424",
     "exception": false,
     "start_time": "2022-08-28T00:49:40.868113",
     "status": "completed"
    },
    "tags": []
   },
   "outputs": [],
   "source": [
    "#hide\n",
    "#delete problematic countries from table\n",
    "df_table = df_table[~df_table['Country/Region'].isin(['Cape Verde', 'Cruise Ship', 'Kosovo'])]"
   ]
  },
  {
   "cell_type": "code",
   "execution_count": 15,
   "id": "fantastic-effect",
   "metadata": {
    "execution": {
     "iopub.execute_input": "2022-08-28T00:49:40.973108Z",
     "iopub.status.busy": "2022-08-28T00:49:40.972520Z",
     "iopub.status.idle": "2022-08-28T00:49:40.990800Z",
     "shell.execute_reply": "2022-08-28T00:49:40.990217Z"
    },
    "papermill": {
     "duration": 0.05499,
     "end_time": "2022-08-28T00:49:40.990911",
     "exception": false,
     "start_time": "2022-08-28T00:49:40.935921",
     "status": "completed"
    },
    "tags": []
   },
   "outputs": [
    {
     "data": {
      "text/html": [
       "<div>\n",
       "<style scoped>\n",
       "    .dataframe tbody tr th:only-of-type {\n",
       "        vertical-align: middle;\n",
       "    }\n",
       "\n",
       "    .dataframe tbody tr th {\n",
       "        vertical-align: top;\n",
       "    }\n",
       "\n",
       "    .dataframe thead th {\n",
       "        text-align: right;\n",
       "    }\n",
       "</style>\n",
       "<table border=\"1\" class=\"dataframe\">\n",
       "  <thead>\n",
       "    <tr style=\"text-align: right;\">\n",
       "      <th></th>\n",
       "      <th>Country/Region</th>\n",
       "      <th>Cases</th>\n",
       "      <th>Deaths</th>\n",
       "      <th>PCases</th>\n",
       "      <th>PDeaths</th>\n",
       "      <th>Cases (+)</th>\n",
       "      <th>Deaths (+)</th>\n",
       "      <th>Fatality Rate</th>\n",
       "      <th>Continent</th>\n",
       "    </tr>\n",
       "  </thead>\n",
       "  <tbody>\n",
       "    <tr>\n",
       "      <th>0</th>\n",
       "      <td>US</td>\n",
       "      <td>94171060</td>\n",
       "      <td>1043783</td>\n",
       "      <td>94028840</td>\n",
       "      <td>1043089</td>\n",
       "      <td>142220</td>\n",
       "      <td>694</td>\n",
       "      <td>1.1</td>\n",
       "      <td>North America</td>\n",
       "    </tr>\n",
       "    <tr>\n",
       "      <th>1</th>\n",
       "      <td>India</td>\n",
       "      <td>44398696</td>\n",
       "      <td>527597</td>\n",
       "      <td>44389176</td>\n",
       "      <td>527556</td>\n",
       "      <td>9520</td>\n",
       "      <td>41</td>\n",
       "      <td>1.2</td>\n",
       "      <td>Asia</td>\n",
       "    </tr>\n",
       "    <tr>\n",
       "      <th>2</th>\n",
       "      <td>France</td>\n",
       "      <td>34662834</td>\n",
       "      <td>154897</td>\n",
       "      <td>34644718</td>\n",
       "      <td>154846</td>\n",
       "      <td>18116</td>\n",
       "      <td>51</td>\n",
       "      <td>0.4</td>\n",
       "      <td>Europe</td>\n",
       "    </tr>\n",
       "    <tr>\n",
       "      <th>3</th>\n",
       "      <td>Brazil</td>\n",
       "      <td>34368909</td>\n",
       "      <td>683397</td>\n",
       "      <td>34350639</td>\n",
       "      <td>683233</td>\n",
       "      <td>18270</td>\n",
       "      <td>164</td>\n",
       "      <td>2.0</td>\n",
       "      <td>South America</td>\n",
       "    </tr>\n",
       "    <tr>\n",
       "      <th>4</th>\n",
       "      <td>Germany</td>\n",
       "      <td>32041348</td>\n",
       "      <td>147104</td>\n",
       "      <td>32008122</td>\n",
       "      <td>147003</td>\n",
       "      <td>33226</td>\n",
       "      <td>101</td>\n",
       "      <td>0.5</td>\n",
       "      <td>Europe</td>\n",
       "    </tr>\n",
       "  </tbody>\n",
       "</table>\n",
       "</div>"
      ],
      "text/plain": [
       "  Country/Region     Cases   Deaths    PCases  PDeaths  Cases (+)  Deaths (+)  \\\n",
       "0             US  94171060  1043783  94028840  1043089     142220         694   \n",
       "1          India  44398696   527597  44389176   527556       9520          41   \n",
       "2         France  34662834   154897  34644718   154846      18116          51   \n",
       "3         Brazil  34368909   683397  34350639   683233      18270         164   \n",
       "4        Germany  32041348   147104  32008122   147003      33226         101   \n",
       "\n",
       "   Fatality Rate      Continent  \n",
       "0            1.1  North America  \n",
       "1            1.2           Asia  \n",
       "2            0.4         Europe  \n",
       "3            2.0  South America  \n",
       "4            0.5         Europe  "
      ]
     },
     "execution_count": 15,
     "metadata": {},
     "output_type": "execute_result"
    }
   ],
   "source": [
    "#hide\n",
    "df_table = (pd.DataFrame(dict(Cases=dfc_cases, Deaths=dfc_deaths, PCases=dfp_cases, PDeaths=dfp_deaths))\n",
    "             .sort_values(by=['Cases', 'Deaths'], ascending=[False, False])\n",
    "             .reset_index())\n",
    "df_table.rename(columns={'index': 'Country/Region'}, inplace=True)\n",
    "for c in 'Cases, Deaths'.split(', '):\n",
    "    df_table[f'{c} (+)'] = (df_table[c] - df_table[f'P{c}']).clip(0)  # DATA BUG\n",
    "df_table['Fatality Rate'] = (100 * df_table['Deaths'] / df_table['Cases']).round(1)\n",
    "df_table['Continent'] = df_table['Country/Region'].map(mapping['map.continent'])\n",
    "df_table.head(5)"
   ]
  },
  {
   "cell_type": "code",
   "execution_count": 16,
   "id": "fewer-occasion",
   "metadata": {
    "execution": {
     "iopub.execute_input": "2022-08-28T00:49:41.057696Z",
     "iopub.status.busy": "2022-08-28T00:49:41.057094Z",
     "iopub.status.idle": "2022-08-28T00:49:41.060147Z",
     "shell.execute_reply": "2022-08-28T00:49:41.059668Z"
    },
    "papermill": {
     "duration": 0.038753,
     "end_time": "2022-08-28T00:49:41.060258",
     "exception": false,
     "start_time": "2022-08-28T00:49:41.021505",
     "status": "completed"
    },
    "tags": []
   },
   "outputs": [],
   "source": [
    "#hide\n",
    "#delete problematic countries from table\n",
    "df_table = df_table[~df_table['Country/Region'].isin(['Cape Verde', 'Cruise Ship', 'Kosovo'])]"
   ]
  },
  {
   "cell_type": "code",
   "execution_count": 17,
   "id": "related-center",
   "metadata": {
    "execution": {
     "iopub.execute_input": "2022-08-28T00:49:41.138877Z",
     "iopub.status.busy": "2022-08-28T00:49:41.138253Z",
     "iopub.status.idle": "2022-08-28T00:49:41.141081Z",
     "shell.execute_reply": "2022-08-28T00:49:41.140500Z"
    },
    "papermill": {
     "duration": 0.050724,
     "end_time": "2022-08-28T00:49:41.141197",
     "exception": false,
     "start_time": "2022-08-28T00:49:41.090473",
     "status": "completed"
    },
    "tags": []
   },
   "outputs": [],
   "source": [
    "#hide\n",
    "metrics = [df_table.columns[index] for index in [1,2,5,6]]\n",
    "# s_china = df_table[df_table['Country/Region'].eq('China')][metrics].sum().add_prefix('China ')\n",
    "s_us = df_table[df_table['Country/Region'].eq('US')][metrics].sum().add_prefix('US ')\n",
    "s_eu = df_table[df_table['Continent'].eq('Europe')][metrics].sum().add_prefix('EU ')\n",
    "s_ind = df_table[df_table['Country/Region'].eq('India')][metrics].sum().add_prefix('India ')\n",
    "summary = {'updated': pd.to_datetime(dt_today), 'since': pd.to_datetime(dt_yday)}\n",
    "summary = {'updated': pd.to_datetime(dt_today), 'since': pd.to_datetime(dt_yday)}\n",
    "summary = {**summary, **df_table[metrics].sum(), **s_ind, **s_us, **s_eu}"
   ]
  },
  {
   "cell_type": "code",
   "execution_count": 18,
   "id": "engaging-syndrome",
   "metadata": {
    "execution": {
     "iopub.execute_input": "2022-08-28T00:49:41.206917Z",
     "iopub.status.busy": "2022-08-28T00:49:41.206317Z",
     "iopub.status.idle": "2022-08-28T00:49:41.227974Z",
     "shell.execute_reply": "2022-08-28T00:49:41.227494Z"
    },
    "papermill": {
     "duration": 0.056546,
     "end_time": "2022-08-28T00:49:41.228105",
     "exception": false,
     "start_time": "2022-08-28T00:49:41.171559",
     "status": "completed"
    },
    "tags": []
   },
   "outputs": [],
   "source": [
    "#hide\n",
    "dft_ct_new_cases = dft_cases.groupby(COL_REGION)[dt_cols].sum().diff(axis=1).fillna(0).astype(int)"
   ]
  },
  {
   "cell_type": "code",
   "execution_count": 19,
   "id": "neutral-assignment",
   "metadata": {
    "execution": {
     "iopub.execute_input": "2022-08-28T00:49:41.295465Z",
     "iopub.status.busy": "2022-08-28T00:49:41.294853Z",
     "iopub.status.idle": "2022-08-28T00:49:41.297980Z",
     "shell.execute_reply": "2022-08-28T00:49:41.298578Z"
    },
    "papermill": {
     "duration": 0.040304,
     "end_time": "2022-08-28T00:49:41.298712",
     "exception": false,
     "start_time": "2022-08-28T00:49:41.258408",
     "status": "completed"
    },
    "tags": []
   },
   "outputs": [],
   "source": [
    "#hide\n",
    "everydaycases = dft_ct_new_cases.cumsum(axis=1)"
   ]
  },
  {
   "cell_type": "code",
   "execution_count": 20,
   "id": "parliamentary-calgary",
   "metadata": {
    "execution": {
     "iopub.execute_input": "2022-08-28T00:49:41.363982Z",
     "iopub.status.busy": "2022-08-28T00:49:41.363394Z",
     "iopub.status.idle": "2022-08-28T00:49:41.926048Z",
     "shell.execute_reply": "2022-08-28T00:49:41.924713Z"
    },
    "papermill": {
     "duration": 0.597188,
     "end_time": "2022-08-28T00:49:41.926190",
     "exception": false,
     "start_time": "2022-08-28T00:49:41.329002",
     "status": "completed"
    },
    "tags": []
   },
   "outputs": [],
   "source": [
    "#hide\n",
    "import pandas as pd\n",
    "import matplotlib.pyplot as plt\n",
    "import matplotlib.ticker as ticker\n",
    "import matplotlib.animation as animation\n",
    "from IPython.display import HTML"
   ]
  },
  {
   "cell_type": "code",
   "execution_count": 21,
   "id": "lasting-extraction",
   "metadata": {
    "execution": {
     "iopub.execute_input": "2022-08-28T00:49:41.994363Z",
     "iopub.status.busy": "2022-08-28T00:49:41.993619Z",
     "iopub.status.idle": "2022-08-28T00:49:42.001118Z",
     "shell.execute_reply": "2022-08-28T00:49:42.000599Z"
    },
    "papermill": {
     "duration": 0.044597,
     "end_time": "2022-08-28T00:49:42.001235",
     "exception": false,
     "start_time": "2022-08-28T00:49:41.956638",
     "status": "completed"
    },
    "tags": []
   },
   "outputs": [],
   "source": [
    "#hide\n",
    "t = everydaycases.stack()"
   ]
  },
  {
   "cell_type": "code",
   "execution_count": 22,
   "id": "premier-sleeve",
   "metadata": {
    "execution": {
     "iopub.execute_input": "2022-08-28T00:49:42.066582Z",
     "iopub.status.busy": "2022-08-28T00:49:42.065931Z",
     "iopub.status.idle": "2022-08-28T00:49:42.078562Z",
     "shell.execute_reply": "2022-08-28T00:49:42.079055Z"
    },
    "papermill": {
     "duration": 0.047526,
     "end_time": "2022-08-28T00:49:42.079191",
     "exception": false,
     "start_time": "2022-08-28T00:49:42.031665",
     "status": "completed"
    },
    "tags": []
   },
   "outputs": [],
   "source": [
    "#hide\n",
    "g = t.reset_index(['Country/Region'])"
   ]
  },
  {
   "cell_type": "code",
   "execution_count": 23,
   "id": "distributed-pittsburgh",
   "metadata": {
    "execution": {
     "iopub.execute_input": "2022-08-28T00:49:42.144261Z",
     "iopub.status.busy": "2022-08-28T00:49:42.143653Z",
     "iopub.status.idle": "2022-08-28T00:49:42.146412Z",
     "shell.execute_reply": "2022-08-28T00:49:42.145806Z"
    },
    "papermill": {
     "duration": 0.037148,
     "end_time": "2022-08-28T00:49:42.146524",
     "exception": false,
     "start_time": "2022-08-28T00:49:42.109376",
     "status": "completed"
    },
    "tags": []
   },
   "outputs": [],
   "source": [
    "#hide\n",
    "g.index.name = 'date'"
   ]
  },
  {
   "cell_type": "code",
   "execution_count": 24,
   "id": "naked-donor",
   "metadata": {
    "execution": {
     "iopub.execute_input": "2022-08-28T00:49:42.211041Z",
     "iopub.status.busy": "2022-08-28T00:49:42.210442Z",
     "iopub.status.idle": "2022-08-28T00:49:42.212765Z",
     "shell.execute_reply": "2022-08-28T00:49:42.213315Z"
    },
    "papermill": {
     "duration": 0.036677,
     "end_time": "2022-08-28T00:49:42.213442",
     "exception": false,
     "start_time": "2022-08-28T00:49:42.176765",
     "status": "completed"
    },
    "tags": []
   },
   "outputs": [],
   "source": [
    "# #hide\n",
    "# g = g.reset_index(['date'])"
   ]
  },
  {
   "cell_type": "code",
   "execution_count": 25,
   "id": "incomplete-mustang",
   "metadata": {
    "execution": {
     "iopub.execute_input": "2022-08-28T00:49:42.277871Z",
     "iopub.status.busy": "2022-08-28T00:49:42.277213Z",
     "iopub.status.idle": "2022-08-28T00:49:42.281123Z",
     "shell.execute_reply": "2022-08-28T00:49:42.281579Z"
    },
    "papermill": {
     "duration": 0.038246,
     "end_time": "2022-08-28T00:49:42.281723",
     "exception": false,
     "start_time": "2022-08-28T00:49:42.243477",
     "status": "completed"
    },
    "tags": []
   },
   "outputs": [],
   "source": [
    "#hide\n",
    "# g.head()"
   ]
  },
  {
   "cell_type": "code",
   "execution_count": 26,
   "id": "specific-kruger",
   "metadata": {
    "execution": {
     "iopub.execute_input": "2022-08-28T00:49:42.347187Z",
     "iopub.status.busy": "2022-08-28T00:49:42.346569Z",
     "iopub.status.idle": "2022-08-28T00:49:42.348754Z",
     "shell.execute_reply": "2022-08-28T00:49:42.348185Z"
    },
    "papermill": {
     "duration": 0.036508,
     "end_time": "2022-08-28T00:49:42.348868",
     "exception": false,
     "start_time": "2022-08-28T00:49:42.312360",
     "status": "completed"
    },
    "tags": []
   },
   "outputs": [],
   "source": [
    "#hide\n",
    "# g.columns = ['date','country','cases']"
   ]
  },
  {
   "cell_type": "code",
   "execution_count": 27,
   "id": "tender-conversion",
   "metadata": {
    "execution": {
     "iopub.execute_input": "2022-08-28T00:49:42.414072Z",
     "iopub.status.busy": "2022-08-28T00:49:42.413303Z",
     "iopub.status.idle": "2022-08-28T00:49:42.415821Z",
     "shell.execute_reply": "2022-08-28T00:49:42.415165Z"
    },
    "papermill": {
     "duration": 0.036979,
     "end_time": "2022-08-28T00:49:42.415947",
     "exception": false,
     "start_time": "2022-08-28T00:49:42.378968",
     "status": "completed"
    },
    "tags": []
   },
   "outputs": [],
   "source": [
    "#hide\n",
    "# g['continent'] = g.country"
   ]
  },
  {
   "cell_type": "code",
   "execution_count": 28,
   "id": "substantial-wilderness",
   "metadata": {
    "execution": {
     "iopub.execute_input": "2022-08-28T00:49:42.481271Z",
     "iopub.status.busy": "2022-08-28T00:49:42.480572Z",
     "iopub.status.idle": "2022-08-28T00:49:42.484620Z",
     "shell.execute_reply": "2022-08-28T00:49:42.485111Z"
    },
    "papermill": {
     "duration": 0.038558,
     "end_time": "2022-08-28T00:49:42.485259",
     "exception": false,
     "start_time": "2022-08-28T00:49:42.446701",
     "status": "completed"
    },
    "tags": []
   },
   "outputs": [],
   "source": [
    "#hide\n",
    "# cols = list(g.columns.values)"
   ]
  },
  {
   "cell_type": "code",
   "execution_count": 29,
   "id": "solved-farming",
   "metadata": {
    "execution": {
     "iopub.execute_input": "2022-08-28T00:49:42.551192Z",
     "iopub.status.busy": "2022-08-28T00:49:42.550572Z",
     "iopub.status.idle": "2022-08-28T00:49:42.552876Z",
     "shell.execute_reply": "2022-08-28T00:49:42.553303Z"
    },
    "papermill": {
     "duration": 0.036898,
     "end_time": "2022-08-28T00:49:42.553434",
     "exception": false,
     "start_time": "2022-08-28T00:49:42.516536",
     "status": "completed"
    },
    "tags": []
   },
   "outputs": [],
   "source": [
    "#hide\n",
    "# cols.insert(0, cols.pop())"
   ]
  },
  {
   "cell_type": "code",
   "execution_count": 30,
   "id": "executed-adoption",
   "metadata": {
    "execution": {
     "iopub.execute_input": "2022-08-28T00:49:42.617495Z",
     "iopub.status.busy": "2022-08-28T00:49:42.616884Z",
     "iopub.status.idle": "2022-08-28T00:49:42.619241Z",
     "shell.execute_reply": "2022-08-28T00:49:42.619670Z"
    },
    "papermill": {
     "duration": 0.036145,
     "end_time": "2022-08-28T00:49:42.619798",
     "exception": false,
     "start_time": "2022-08-28T00:49:42.583653",
     "status": "completed"
    },
    "tags": []
   },
   "outputs": [],
   "source": [
    "#hide\n",
    "# g = g[cols]"
   ]
  },
  {
   "cell_type": "code",
   "execution_count": 31,
   "id": "subject-dublin",
   "metadata": {
    "execution": {
     "iopub.execute_input": "2022-08-28T00:49:42.683880Z",
     "iopub.status.busy": "2022-08-28T00:49:42.683198Z",
     "iopub.status.idle": "2022-08-28T00:49:42.685206Z",
     "shell.execute_reply": "2022-08-28T00:49:42.684581Z"
    },
    "papermill": {
     "duration": 0.035479,
     "end_time": "2022-08-28T00:49:42.685324",
     "exception": false,
     "start_time": "2022-08-28T00:49:42.649845",
     "status": "completed"
    },
    "tags": []
   },
   "outputs": [],
   "source": [
    "#hide\n",
    "# g['continent'] = g['continent'].map(mapping['map.continent'])"
   ]
  },
  {
   "cell_type": "code",
   "execution_count": 32,
   "id": "freelance-scout",
   "metadata": {
    "execution": {
     "iopub.execute_input": "2022-08-28T00:49:42.750514Z",
     "iopub.status.busy": "2022-08-28T00:49:42.749867Z",
     "iopub.status.idle": "2022-08-28T00:49:42.752639Z",
     "shell.execute_reply": "2022-08-28T00:49:42.752167Z"
    },
    "papermill": {
     "duration": 0.036534,
     "end_time": "2022-08-28T00:49:42.752750",
     "exception": false,
     "start_time": "2022-08-28T00:49:42.716216",
     "status": "completed"
    },
    "tags": []
   },
   "outputs": [],
   "source": [
    "#hide\n",
    "# g.head()"
   ]
  },
  {
   "cell_type": "code",
   "execution_count": 33,
   "id": "limited-engine",
   "metadata": {
    "execution": {
     "iopub.execute_input": "2022-08-28T00:49:42.818768Z",
     "iopub.status.busy": "2022-08-28T00:49:42.817953Z",
     "iopub.status.idle": "2022-08-28T00:49:42.819704Z",
     "shell.execute_reply": "2022-08-28T00:49:42.820250Z"
    },
    "papermill": {
     "duration": 0.037649,
     "end_time": "2022-08-28T00:49:42.820390",
     "exception": false,
     "start_time": "2022-08-28T00:49:42.782741",
     "status": "completed"
    },
    "tags": []
   },
   "outputs": [],
   "source": [
    "# hide\n",
    "# g['date'] = g['date'].astype('datetime64[ns]')"
   ]
  },
  {
   "cell_type": "code",
   "execution_count": 34,
   "id": "sophisticated-supervisor",
   "metadata": {
    "execution": {
     "iopub.execute_input": "2022-08-28T00:49:42.884952Z",
     "iopub.status.busy": "2022-08-28T00:49:42.884350Z",
     "iopub.status.idle": "2022-08-28T00:49:42.886926Z",
     "shell.execute_reply": "2022-08-28T00:49:42.886453Z"
    },
    "papermill": {
     "duration": 0.03618,
     "end_time": "2022-08-28T00:49:42.887033",
     "exception": false,
     "start_time": "2022-08-28T00:49:42.850853",
     "status": "completed"
    },
    "tags": []
   },
   "outputs": [],
   "source": [
    "#hide\n",
    "# g['date'] = g.date.dt.dayofyear"
   ]
  },
  {
   "cell_type": "code",
   "execution_count": 35,
   "id": "inside-dubai",
   "metadata": {
    "execution": {
     "iopub.execute_input": "2022-08-28T00:49:42.952045Z",
     "iopub.status.busy": "2022-08-28T00:49:42.951342Z",
     "iopub.status.idle": "2022-08-28T00:49:42.954862Z",
     "shell.execute_reply": "2022-08-28T00:49:42.955429Z"
    },
    "papermill": {
     "duration": 0.038541,
     "end_time": "2022-08-28T00:49:42.955558",
     "exception": false,
     "start_time": "2022-08-28T00:49:42.917017",
     "status": "completed"
    },
    "tags": []
   },
   "outputs": [],
   "source": [
    "#hide\n",
    "# g = g.rename(columns= {'continent':'group','country':'name','cases':'value'})"
   ]
  },
  {
   "cell_type": "code",
   "execution_count": 36,
   "id": "fleet-motorcycle",
   "metadata": {
    "execution": {
     "iopub.execute_input": "2022-08-28T00:49:43.019675Z",
     "iopub.status.busy": "2022-08-28T00:49:43.019003Z",
     "iopub.status.idle": "2022-08-28T00:49:43.023383Z",
     "shell.execute_reply": "2022-08-28T00:49:43.023908Z"
    },
    "papermill": {
     "duration": 0.038375,
     "end_time": "2022-08-28T00:49:43.024048",
     "exception": false,
     "start_time": "2022-08-28T00:49:42.985673",
     "status": "completed"
    },
    "tags": []
   },
   "outputs": [],
   "source": [
    "#hide\n",
    "# cols = ['name','group','day','value']"
   ]
  },
  {
   "cell_type": "code",
   "execution_count": 37,
   "id": "continued-sleeping",
   "metadata": {
    "execution": {
     "iopub.execute_input": "2022-08-28T00:49:43.088090Z",
     "iopub.status.busy": "2022-08-28T00:49:43.087493Z",
     "iopub.status.idle": "2022-08-28T00:49:43.091122Z",
     "shell.execute_reply": "2022-08-28T00:49:43.091547Z"
    },
    "papermill": {
     "duration": 0.037386,
     "end_time": "2022-08-28T00:49:43.091672",
     "exception": false,
     "start_time": "2022-08-28T00:49:43.054286",
     "status": "completed"
    },
    "tags": []
   },
   "outputs": [],
   "source": [
    "#hide\n",
    "# g.rename(columns= {'date':'day'},inplace = True)"
   ]
  },
  {
   "cell_type": "code",
   "execution_count": 38,
   "id": "major-fight",
   "metadata": {
    "execution": {
     "iopub.execute_input": "2022-08-28T00:49:43.155109Z",
     "iopub.status.busy": "2022-08-28T00:49:43.154538Z",
     "iopub.status.idle": "2022-08-28T00:49:43.157010Z",
     "shell.execute_reply": "2022-08-28T00:49:43.156448Z"
    },
    "papermill": {
     "duration": 0.035452,
     "end_time": "2022-08-28T00:49:43.157117",
     "exception": false,
     "start_time": "2022-08-28T00:49:43.121665",
     "status": "completed"
    },
    "tags": []
   },
   "outputs": [],
   "source": [
    "#hide\n",
    "# g = g[cols]"
   ]
  },
  {
   "cell_type": "code",
   "execution_count": 39,
   "id": "structured-mobile",
   "metadata": {
    "execution": {
     "iopub.execute_input": "2022-08-28T00:49:43.220377Z",
     "iopub.status.busy": "2022-08-28T00:49:43.219784Z",
     "iopub.status.idle": "2022-08-28T00:49:43.224064Z",
     "shell.execute_reply": "2022-08-28T00:49:43.223597Z"
    },
    "papermill": {
     "duration": 0.037199,
     "end_time": "2022-08-28T00:49:43.224168",
     "exception": false,
     "start_time": "2022-08-28T00:49:43.186969",
     "status": "completed"
    },
    "tags": []
   },
   "outputs": [],
   "source": [
    "# #hide\n",
    "# g = g[g.group.notna()]"
   ]
  },
  {
   "cell_type": "code",
   "execution_count": 40,
   "id": "determined-closing",
   "metadata": {
    "execution": {
     "iopub.execute_input": "2022-08-28T00:49:43.289029Z",
     "iopub.status.busy": "2022-08-28T00:49:43.288338Z",
     "iopub.status.idle": "2022-08-28T00:49:43.292175Z",
     "shell.execute_reply": "2022-08-28T00:49:43.292601Z"
    },
    "papermill": {
     "duration": 0.037665,
     "end_time": "2022-08-28T00:49:43.292726",
     "exception": false,
     "start_time": "2022-08-28T00:49:43.255061",
     "status": "completed"
    },
    "tags": []
   },
   "outputs": [],
   "source": [
    "# #hide\n",
    "# colors = dict(zip(\n",
    "#     [\"Oceania\", \"Europe\", \"Asia\", \"South America\", \"Middle East\", \"North America\", \"Africa\"],\n",
    "#     [\"#adb0ff\", \"#ffb3ff\", \"#90d595\", \"#e48381\", \"#aafbff\", \"#f7bb5f\", \"#eafb50\"]\n",
    "# ))\n",
    "# group_lk = g.set_index('name')['group'].to_dict()"
   ]
  },
  {
   "cell_type": "code",
   "execution_count": null,
   "id": "gross-drinking",
   "metadata": {
    "papermill": {
     "duration": 0.029844,
     "end_time": "2022-08-28T00:49:43.352478",
     "exception": false,
     "start_time": "2022-08-28T00:49:43.322634",
     "status": "completed"
    },
    "tags": []
   },
   "outputs": [],
   "source": []
  },
  {
   "cell_type": "code",
   "execution_count": 41,
   "id": "subject-macintosh",
   "metadata": {
    "execution": {
     "iopub.execute_input": "2022-08-28T00:49:43.416795Z",
     "iopub.status.busy": "2022-08-28T00:49:43.416184Z",
     "iopub.status.idle": "2022-08-28T00:49:43.418728Z",
     "shell.execute_reply": "2022-08-28T00:49:43.419203Z"
    },
    "papermill": {
     "duration": 0.036816,
     "end_time": "2022-08-28T00:49:43.419322",
     "exception": false,
     "start_time": "2022-08-28T00:49:43.382506",
     "status": "completed"
    },
    "tags": []
   },
   "outputs": [],
   "source": [
    "# #hide\n",
    "# fig, ax = plt.subplots(figsize=(15, 8))\n",
    "\n",
    "# def draw_barchart(current_day):\n",
    "#     dff = g[g['day'].eq(current_day)].sort_values(by='value', ascending=True).tail(10)\n",
    "#     ax.clear()\n",
    "#     ax.barh(dff['name'], dff['value'], color=[colors[group_lk[x]] for x in dff['name']])\n",
    "#     dx = dff['value'].max() / 200\n",
    "    \n",
    "#     for i, (value, name) in enumerate(zip(dff['value'], dff['name'])):\n",
    "#         ax.text(value-dx, i,     name,           size=14, weight=600, ha='right', va='bottom')\n",
    "#         ax.text(value-dx, i-.25, group_lk[name], size=10, color='#444444', ha='right', va='baseline')\n",
    "#         ax.text(value+dx, i,     f'{value:,.0f}',  size=14, ha='left',  va='center')\n",
    "#     ax.text(1, 0.4, current_day, transform=ax.transAxes, color='#777777', size=46, ha='right', weight=800)\n",
    "#     ax.text(0, 1.06, 'Population (thousands)', transform=ax.transAxes, size=12, color='#777777')\n",
    "#     ax.xaxis.set_major_formatter(ticker.StrMethodFormatter('{x:,.0f}'))\n",
    "#     ax.xaxis.set_ticks_position('top')\n",
    "#     ax.tick_params(axis='x', colors='#777777', labelsize=12)\n",
    "#     ax.set_yticks([])\n",
    "#     ax.margins(0, 0.01)\n",
    "#     ax.grid(which='major', axis='x', linestyle='-')\n",
    "#     ax.set_axisbelow(True)\n",
    "    \n",
    "#     ax.text(0, 1.15, 'Coronavirus',\n",
    "#             transform=ax.transAxes, size=24, weight=600, ha='left', va='top')\n",
    "# #     ax.text(1, 0, 'by @pratapvardhan; credit @jburnmurdoch', transform=ax.transAxes, color='#777777', ha='right',\n",
    "# #             bbox=dict(facecolor='white', alpha=0.8, edgecolor='white'))\n",
    "#     plt.box(False)"
   ]
  },
  {
   "cell_type": "code",
   "execution_count": 42,
   "id": "sexual-wages",
   "metadata": {
    "execution": {
     "iopub.execute_input": "2022-08-28T00:49:43.483197Z",
     "iopub.status.busy": "2022-08-28T00:49:43.482604Z",
     "iopub.status.idle": "2022-08-28T00:49:43.484932Z",
     "shell.execute_reply": "2022-08-28T00:49:43.485409Z"
    },
    "papermill": {
     "duration": 0.036183,
     "end_time": "2022-08-28T00:49:43.485530",
     "exception": false,
     "start_time": "2022-08-28T00:49:43.449347",
     "status": "completed"
    },
    "tags": []
   },
   "outputs": [],
   "source": [
    "# #hide_input\n",
    "# fig, ax = plt.subplots(figsize=(15, 8))\n",
    "# animator = animation.FuncAnimation(fig, draw_barchart, frames=range(g.day.values.min(), g.day.values.max()))\n",
    "# HTML(animator.to_jshtml())\n",
    "# # or use animator.to_html5_video() or animator.save() "
   ]
  },
  {
   "cell_type": "code",
   "execution_count": null,
   "id": "australian-container",
   "metadata": {
    "papermill": {
     "duration": 0.030039,
     "end_time": "2022-08-28T00:49:43.546317",
     "exception": false,
     "start_time": "2022-08-28T00:49:43.516278",
     "status": "completed"
    },
    "tags": []
   },
   "outputs": [],
   "source": []
  },
  {
   "cell_type": "code",
   "execution_count": null,
   "id": "mediterranean-pontiac",
   "metadata": {
    "papermill": {
     "duration": 0.030084,
     "end_time": "2022-08-28T00:49:43.606390",
     "exception": false,
     "start_time": "2022-08-28T00:49:43.576306",
     "status": "completed"
    },
    "tags": []
   },
   "outputs": [],
   "source": []
  },
  {
   "cell_type": "code",
   "execution_count": null,
   "id": "aging-legislature",
   "metadata": {
    "papermill": {
     "duration": 0.030271,
     "end_time": "2022-08-28T00:49:43.666972",
     "exception": false,
     "start_time": "2022-08-28T00:49:43.636701",
     "status": "completed"
    },
    "tags": []
   },
   "outputs": [],
   "source": []
  }
 ],
 "metadata": {
  "kernelspec": {
   "display_name": "Python 3",
   "language": "python",
   "name": "python3"
  },
  "language_info": {
   "codemirror_mode": {
    "name": "ipython",
    "version": 3
   },
   "file_extension": ".py",
   "mimetype": "text/x-python",
   "name": "python",
   "nbconvert_exporter": "python",
   "pygments_lexer": "ipython3",
   "version": "3.6.15"
  },
  "papermill": {
   "duration": 5.912286,
   "end_time": "2022-08-28T00:49:44.117057",
   "environment_variables": {},
   "exception": null,
   "input_path": "2020-03-21-covid19exp.ipynb",
   "output_path": "2020-03-21-covid19exp.ipynb",
   "parameters": {},
   "start_time": "2022-08-28T00:49:38.204771",
   "version": "2.0.0"
  }
 },
 "nbformat": 4,
 "nbformat_minor": 5
}