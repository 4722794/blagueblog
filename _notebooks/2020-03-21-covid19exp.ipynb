{
 "cells": [
  {
   "cell_type": "markdown",
   "id": "muslim-click",
   "metadata": {
    "papermill": {
     "duration": 0.044289,
     "end_time": "2021-04-30T00:23:33.975491",
     "exception": false,
     "start_time": "2021-04-30T00:23:33.931202",
     "status": "completed"
    },
    "tags": []
   },
   "source": [
    "# COVID-19 Case Race\n",
    "> A race chart to see rising cases around the world\n",
    "\n",
    "- author: Hargun Oberoi\n",
    "- image: images/covid-overview.png\n",
    "- hide: false\n",
    "- badges: false"
   ]
  },
  {
   "cell_type": "code",
   "execution_count": 1,
   "id": "proof-material",
   "metadata": {
    "execution": {
     "iopub.execute_input": "2021-04-30T00:23:34.065797Z",
     "iopub.status.busy": "2021-04-30T00:23:34.065094Z",
     "iopub.status.idle": "2021-04-30T00:23:34.442102Z",
     "shell.execute_reply": "2021-04-30T00:23:34.441503Z"
    },
    "papermill": {
     "duration": 0.428115,
     "end_time": "2021-04-30T00:23:34.442270",
     "exception": false,
     "start_time": "2021-04-30T00:23:34.014155",
     "status": "completed"
    },
    "tags": []
   },
   "outputs": [],
   "source": [
    "#hide\n",
    "import numpy as np\n",
    "import pandas as pd\n",
    "from jinja2 import Template\n",
    "from IPython.display import HTML"
   ]
  },
  {
   "cell_type": "code",
   "execution_count": 2,
   "id": "developed-terminology",
   "metadata": {
    "execution": {
     "iopub.execute_input": "2021-04-30T00:23:34.524826Z",
     "iopub.status.busy": "2021-04-30T00:23:34.524153Z",
     "iopub.status.idle": "2021-04-30T00:23:34.526588Z",
     "shell.execute_reply": "2021-04-30T00:23:34.526017Z"
    },
    "papermill": {
     "duration": 0.045387,
     "end_time": "2021-04-30T00:23:34.526740",
     "exception": false,
     "start_time": "2021-04-30T00:23:34.481353",
     "status": "completed"
    },
    "tags": []
   },
   "outputs": [],
   "source": [
    "#hide\n",
    "\n",
    "# FETCH\n",
    "base_url = 'https://raw.githubusercontent.com/pratapvardhan/notebooks/master/covid19/'\n",
    "paths = {\n",
    "    'mapping': base_url + 'mapping_countries.csv',\n",
    "    'overview': base_url + 'overview.tpl'\n",
    "}"
   ]
  },
  {
   "cell_type": "code",
   "execution_count": 3,
   "id": "dynamic-saver",
   "metadata": {
    "execution": {
     "iopub.execute_input": "2021-04-30T00:23:34.617280Z",
     "iopub.status.busy": "2021-04-30T00:23:34.614155Z",
     "iopub.status.idle": "2021-04-30T00:23:34.620514Z",
     "shell.execute_reply": "2021-04-30T00:23:34.621085Z"
    },
    "papermill": {
     "duration": 0.056331,
     "end_time": "2021-04-30T00:23:34.621289",
     "exception": false,
     "start_time": "2021-04-30T00:23:34.564958",
     "status": "completed"
    },
    "tags": []
   },
   "outputs": [
    {
     "data": {
      "text/plain": [
       "'https://raw.githubusercontent.com/pratapvardhan/notebooks/master/covid19/mapping_countries.csv'"
      ]
     },
     "execution_count": 3,
     "metadata": {},
     "output_type": "execute_result"
    }
   ],
   "source": [
    "#hide\n",
    "paths['mapping']"
   ]
  },
  {
   "cell_type": "code",
   "execution_count": 4,
   "id": "urban-software",
   "metadata": {
    "execution": {
     "iopub.execute_input": "2021-04-30T00:23:34.699615Z",
     "iopub.status.busy": "2021-04-30T00:23:34.698806Z",
     "iopub.status.idle": "2021-04-30T00:23:34.703391Z",
     "shell.execute_reply": "2021-04-30T00:23:34.704182Z"
    },
    "papermill": {
     "duration": 0.04604,
     "end_time": "2021-04-30T00:23:34.704331",
     "exception": false,
     "start_time": "2021-04-30T00:23:34.658291",
     "status": "completed"
    },
    "tags": []
   },
   "outputs": [],
   "source": [
    "#hide\n",
    "def get_mappings(url):\n",
    "    df = pd.read_csv(url)\n",
    "    return {\n",
    "        'df': df,\n",
    "        'replace.country': dict(df.dropna(subset=['Name']).set_index('Country')['Name']),\n",
    "        'map.continent': dict(df.set_index('Name')['Continent'])\n",
    "    }"
   ]
  },
  {
   "cell_type": "code",
   "execution_count": 5,
   "id": "intimate-machinery",
   "metadata": {
    "execution": {
     "iopub.execute_input": "2021-04-30T00:23:34.782977Z",
     "iopub.status.busy": "2021-04-30T00:23:34.782244Z",
     "iopub.status.idle": "2021-04-30T00:23:34.829779Z",
     "shell.execute_reply": "2021-04-30T00:23:34.829281Z"
    },
    "papermill": {
     "duration": 0.089141,
     "end_time": "2021-04-30T00:23:34.829923",
     "exception": false,
     "start_time": "2021-04-30T00:23:34.740782",
     "status": "completed"
    },
    "tags": []
   },
   "outputs": [],
   "source": [
    "#hide\n",
    "mapping = get_mappings(paths['mapping'])"
   ]
  },
  {
   "cell_type": "code",
   "execution_count": 6,
   "id": "certified-tactics",
   "metadata": {
    "execution": {
     "iopub.execute_input": "2021-04-30T00:23:34.909738Z",
     "iopub.status.busy": "2021-04-30T00:23:34.908935Z",
     "iopub.status.idle": "2021-04-30T00:23:34.913158Z",
     "shell.execute_reply": "2021-04-30T00:23:34.914112Z"
    },
    "papermill": {
     "duration": 0.047635,
     "end_time": "2021-04-30T00:23:34.914282",
     "exception": false,
     "start_time": "2021-04-30T00:23:34.866647",
     "status": "completed"
    },
    "tags": []
   },
   "outputs": [],
   "source": [
    "#hide\n",
    "def get_template(path):\n",
    "    from urllib.parse import urlparse\n",
    "    if bool(urlparse(path).netloc):\n",
    "        from urllib.request import urlopen\n",
    "        return urlopen(path).read().decode('utf8')\n",
    "    return open(path).read()"
   ]
  },
  {
   "cell_type": "code",
   "execution_count": 7,
   "id": "realistic-blast",
   "metadata": {
    "execution": {
     "iopub.execute_input": "2021-04-30T00:23:34.997131Z",
     "iopub.status.busy": "2021-04-30T00:23:34.996428Z",
     "iopub.status.idle": "2021-04-30T00:23:34.998399Z",
     "shell.execute_reply": "2021-04-30T00:23:34.998892Z"
    },
    "papermill": {
     "duration": 0.045445,
     "end_time": "2021-04-30T00:23:34.999038",
     "exception": false,
     "start_time": "2021-04-30T00:23:34.953593",
     "status": "completed"
    },
    "tags": []
   },
   "outputs": [],
   "source": [
    "#hide\n",
    "def get_frame(name):\n",
    "    url = (\n",
    "        'https://raw.githubusercontent.com/CSSEGISandData/COVID-19/master/csse_covid_19_data/'\n",
    "        f'csse_covid_19_time_series/time_series_covid19_{name}_global.csv')\n",
    "    df = pd.read_csv(url)\n",
    "    # rename countries\n",
    "    df['Country/Region'] = df['Country/Region'].replace(mapping['replace.country'])\n",
    "    return df"
   ]
  },
  {
   "cell_type": "code",
   "execution_count": 8,
   "id": "affiliated-characterization",
   "metadata": {
    "execution": {
     "iopub.execute_input": "2021-04-30T00:23:35.084304Z",
     "iopub.status.busy": "2021-04-30T00:23:35.083395Z",
     "iopub.status.idle": "2021-04-30T00:23:35.086273Z",
     "shell.execute_reply": "2021-04-30T00:23:35.085636Z"
    },
    "papermill": {
     "duration": 0.048961,
     "end_time": "2021-04-30T00:23:35.086435",
     "exception": false,
     "start_time": "2021-04-30T00:23:35.037474",
     "status": "completed"
    },
    "tags": []
   },
   "outputs": [],
   "source": [
    "#hide\n",
    "def get_dates(df):\n",
    "    dt_cols = df.columns[~df.columns.isin(['Province/State', 'Country/Region', 'Lat', 'Long'])]\n",
    "    LAST_DATE_I = -1\n",
    "    # sometimes last column may be empty, then go backwards\n",
    "    for i in range(-1, -len(dt_cols), -1):\n",
    "        if not df[dt_cols[i]].fillna(0).eq(0).all():\n",
    "            LAST_DATE_I = i\n",
    "            break\n",
    "    return LAST_DATE_I, dt_cols"
   ]
  },
  {
   "cell_type": "code",
   "execution_count": 9,
   "id": "recent-optimization",
   "metadata": {
    "execution": {
     "iopub.execute_input": "2021-04-30T00:23:35.171689Z",
     "iopub.status.busy": "2021-04-30T00:23:35.170961Z",
     "iopub.status.idle": "2021-04-30T00:23:35.568486Z",
     "shell.execute_reply": "2021-04-30T00:23:35.567240Z"
    },
    "papermill": {
     "duration": 0.443138,
     "end_time": "2021-04-30T00:23:35.568666",
     "exception": false,
     "start_time": "2021-04-30T00:23:35.125528",
     "status": "completed"
    },
    "tags": []
   },
   "outputs": [],
   "source": [
    "#hide\n",
    "COL_REGION = 'Country/Region'\n",
    "# Confirmed, Recovered, Deaths\n",
    "df = get_frame('confirmed')\n",
    "# dft_: timeseries, dfc_: today country agg\n",
    "dft_cases = df\n",
    "dft_deaths = get_frame('deaths')\n",
    "dft_recovered = get_frame('recovered')\n",
    "LAST_DATE_I, dt_cols = get_dates(df)"
   ]
  },
  {
   "cell_type": "code",
   "execution_count": 10,
   "id": "absolute-copper",
   "metadata": {
    "execution": {
     "iopub.execute_input": "2021-04-30T00:23:35.650215Z",
     "iopub.status.busy": "2021-04-30T00:23:35.649542Z",
     "iopub.status.idle": "2021-04-30T00:23:35.653682Z",
     "shell.execute_reply": "2021-04-30T00:23:35.651929Z"
    },
    "papermill": {
     "duration": 0.048893,
     "end_time": "2021-04-30T00:23:35.653874",
     "exception": false,
     "start_time": "2021-04-30T00:23:35.604981",
     "status": "completed"
    },
    "tags": []
   },
   "outputs": [],
   "source": [
    "#hide\n",
    "LAST_DATE_I, dt_cols = get_dates(df)\n",
    "dt_today =dt_cols[LAST_DATE_I]\n",
    "# dt_5day = dt_cols[LAST_DATE_I - 5]\n",
    "dt_yday = dt_cols[LAST_DATE_I - 1]"
   ]
  },
  {
   "cell_type": "code",
   "execution_count": 11,
   "id": "restricted-sheriff",
   "metadata": {
    "execution": {
     "iopub.execute_input": "2021-04-30T00:23:35.734864Z",
     "iopub.status.busy": "2021-04-30T00:23:35.734055Z",
     "iopub.status.idle": "2021-04-30T00:23:35.743298Z",
     "shell.execute_reply": "2021-04-30T00:23:35.743869Z"
    },
    "papermill": {
     "duration": 0.053291,
     "end_time": "2021-04-30T00:23:35.744017",
     "exception": false,
     "start_time": "2021-04-30T00:23:35.690726",
     "status": "completed"
    },
    "tags": []
   },
   "outputs": [],
   "source": [
    "#hide\n",
    "dfc_cases = dft_cases.groupby(COL_REGION)[dt_today].sum()\n",
    "dfc_deaths = dft_deaths.groupby(COL_REGION)[dt_today].sum()\n",
    "# dfp_cases = dft_cases.groupby(COL_REGION)[dt_5day].sum()\n",
    "# dfp_deaths = dft_deaths.groupby(COL_REGION)[dt_5day].sum()\n",
    "dfp_cases = dft_cases.groupby(COL_REGION)[dt_yday].sum()\n",
    "dfp_deaths = dft_deaths.groupby(COL_REGION)[dt_yday].sum()"
   ]
  },
  {
   "cell_type": "code",
   "execution_count": 12,
   "id": "deluxe-hepatitis",
   "metadata": {
    "execution": {
     "iopub.execute_input": "2021-04-30T00:23:35.825488Z",
     "iopub.status.busy": "2021-04-30T00:23:35.824677Z",
     "iopub.status.idle": "2021-04-30T00:23:35.830449Z",
     "shell.execute_reply": "2021-04-30T00:23:35.829899Z"
    },
    "papermill": {
     "duration": 0.050384,
     "end_time": "2021-04-30T00:23:35.830567",
     "exception": false,
     "start_time": "2021-04-30T00:23:35.780183",
     "status": "completed"
    },
    "tags": []
   },
   "outputs": [],
   "source": [
    "#hide\n",
    "df_table = (pd.DataFrame(dict(Cases = dfc_cases, Deaths = dfc_deaths, PCases = dfp_cases, PDeaths = dfp_deaths))\n",
    "            .sort_values(by = ['Cases','Deaths'], ascending = [False, False])\n",
    "            .reset_index())"
   ]
  },
  {
   "cell_type": "code",
   "execution_count": 13,
   "id": "educational-chancellor",
   "metadata": {
    "execution": {
     "iopub.execute_input": "2021-04-30T00:23:35.924519Z",
     "iopub.status.busy": "2021-04-30T00:23:35.923624Z",
     "iopub.status.idle": "2021-04-30T00:23:35.932970Z",
     "shell.execute_reply": "2021-04-30T00:23:35.932275Z"
    },
    "papermill": {
     "duration": 0.066477,
     "end_time": "2021-04-30T00:23:35.933143",
     "exception": false,
     "start_time": "2021-04-30T00:23:35.866666",
     "status": "completed"
    },
    "tags": []
   },
   "outputs": [
    {
     "data": {
      "text/html": [
       "<div>\n",
       "<style scoped>\n",
       "    .dataframe tbody tr th:only-of-type {\n",
       "        vertical-align: middle;\n",
       "    }\n",
       "\n",
       "    .dataframe tbody tr th {\n",
       "        vertical-align: top;\n",
       "    }\n",
       "\n",
       "    .dataframe thead th {\n",
       "        text-align: right;\n",
       "    }\n",
       "</style>\n",
       "<table border=\"1\" class=\"dataframe\">\n",
       "  <thead>\n",
       "    <tr style=\"text-align: right;\">\n",
       "      <th></th>\n",
       "      <th>Country/Region</th>\n",
       "      <th>Cases</th>\n",
       "      <th>Deaths</th>\n",
       "      <th>PCases</th>\n",
       "      <th>PDeaths</th>\n",
       "      <th>Cases (+)</th>\n",
       "      <th>Deaths (+)</th>\n",
       "      <th>Fatality Rate</th>\n",
       "      <th>Continent</th>\n",
       "    </tr>\n",
       "  </thead>\n",
       "  <tbody>\n",
       "    <tr>\n",
       "      <th>0</th>\n",
       "      <td>US</td>\n",
       "      <td>32230850</td>\n",
       "      <td>574340</td>\n",
       "      <td>32175725</td>\n",
       "      <td>573381</td>\n",
       "      <td>55125</td>\n",
       "      <td>959</td>\n",
       "      <td>1.78</td>\n",
       "      <td>North America</td>\n",
       "    </tr>\n",
       "    <tr>\n",
       "      <th>1</th>\n",
       "      <td>India</td>\n",
       "      <td>18376421</td>\n",
       "      <td>204832</td>\n",
       "      <td>17997113</td>\n",
       "      <td>201187</td>\n",
       "      <td>379308</td>\n",
       "      <td>3645</td>\n",
       "      <td>1.11</td>\n",
       "      <td>Asia</td>\n",
       "    </tr>\n",
       "    <tr>\n",
       "      <th>2</th>\n",
       "      <td>Brazil</td>\n",
       "      <td>14521289</td>\n",
       "      <td>398185</td>\n",
       "      <td>14441563</td>\n",
       "      <td>395022</td>\n",
       "      <td>79726</td>\n",
       "      <td>3163</td>\n",
       "      <td>2.74</td>\n",
       "      <td>South America</td>\n",
       "    </tr>\n",
       "    <tr>\n",
       "      <th>3</th>\n",
       "      <td>France</td>\n",
       "      <td>5626985</td>\n",
       "      <td>104077</td>\n",
       "      <td>5595403</td>\n",
       "      <td>103762</td>\n",
       "      <td>31582</td>\n",
       "      <td>315</td>\n",
       "      <td>1.85</td>\n",
       "      <td>Europe</td>\n",
       "    </tr>\n",
       "    <tr>\n",
       "      <th>4</th>\n",
       "      <td>Turkey</td>\n",
       "      <td>4751026</td>\n",
       "      <td>39398</td>\n",
       "      <td>4710582</td>\n",
       "      <td>39057</td>\n",
       "      <td>40444</td>\n",
       "      <td>341</td>\n",
       "      <td>0.83</td>\n",
       "      <td>Asia</td>\n",
       "    </tr>\n",
       "  </tbody>\n",
       "</table>\n",
       "</div>"
      ],
      "text/plain": [
       "  Country/Region     Cases  Deaths    PCases  PDeaths  Cases (+)  Deaths (+)  \\\n",
       "0             US  32230850  574340  32175725   573381      55125         959   \n",
       "1          India  18376421  204832  17997113   201187     379308        3645   \n",
       "2         Brazil  14521289  398185  14441563   395022      79726        3163   \n",
       "3         France   5626985  104077   5595403   103762      31582         315   \n",
       "4         Turkey   4751026   39398   4710582    39057      40444         341   \n",
       "\n",
       "   Fatality Rate      Continent  \n",
       "0           1.78  North America  \n",
       "1           1.11           Asia  \n",
       "2           2.74  South America  \n",
       "3           1.85         Europe  \n",
       "4           0.83           Asia  "
      ]
     },
     "execution_count": 13,
     "metadata": {},
     "output_type": "execute_result"
    }
   ],
   "source": [
    "#hide\n",
    "for c in 'Cases, Deaths'.split(', '):\n",
    "    df_table[f'{c} (+)'] = (df_table[c] - df_table[f'P{c}']).clip(0)\n",
    "    #Clip ça veut dire, les chiffres negatif sont interdit\n",
    "df_table['Fatality Rate'] = (100* df_table['Deaths']/ df_table['Cases']).round(2)\n",
    "df_table['Continent'] = df_table['Country/Region'].map(mapping['map.continent'])\n",
    "df_table.head(5)"
   ]
  },
  {
   "cell_type": "code",
   "execution_count": 14,
   "id": "aboriginal-bulgaria",
   "metadata": {
    "execution": {
     "iopub.execute_input": "2021-04-30T00:23:36.023933Z",
     "iopub.status.busy": "2021-04-30T00:23:36.023195Z",
     "iopub.status.idle": "2021-04-30T00:23:36.026086Z",
     "shell.execute_reply": "2021-04-30T00:23:36.026717Z"
    },
    "papermill": {
     "duration": 0.048009,
     "end_time": "2021-04-30T00:23:36.026846",
     "exception": false,
     "start_time": "2021-04-30T00:23:35.978837",
     "status": "completed"
    },
    "tags": []
   },
   "outputs": [],
   "source": [
    "#hide\n",
    "#delete problematic countries from table\n",
    "df_table = df_table[~df_table['Country/Region'].isin(['Cape Verde', 'Cruise Ship', 'Kosovo'])]"
   ]
  },
  {
   "cell_type": "code",
   "execution_count": 15,
   "id": "fantastic-effect",
   "metadata": {
    "execution": {
     "iopub.execute_input": "2021-04-30T00:23:36.111404Z",
     "iopub.status.busy": "2021-04-30T00:23:36.110794Z",
     "iopub.status.idle": "2021-04-30T00:23:36.138756Z",
     "shell.execute_reply": "2021-04-30T00:23:36.138144Z"
    },
    "papermill": {
     "duration": 0.073596,
     "end_time": "2021-04-30T00:23:36.138927",
     "exception": false,
     "start_time": "2021-04-30T00:23:36.065331",
     "status": "completed"
    },
    "tags": []
   },
   "outputs": [
    {
     "data": {
      "text/html": [
       "<div>\n",
       "<style scoped>\n",
       "    .dataframe tbody tr th:only-of-type {\n",
       "        vertical-align: middle;\n",
       "    }\n",
       "\n",
       "    .dataframe tbody tr th {\n",
       "        vertical-align: top;\n",
       "    }\n",
       "\n",
       "    .dataframe thead th {\n",
       "        text-align: right;\n",
       "    }\n",
       "</style>\n",
       "<table border=\"1\" class=\"dataframe\">\n",
       "  <thead>\n",
       "    <tr style=\"text-align: right;\">\n",
       "      <th></th>\n",
       "      <th>Country/Region</th>\n",
       "      <th>Cases</th>\n",
       "      <th>Deaths</th>\n",
       "      <th>PCases</th>\n",
       "      <th>PDeaths</th>\n",
       "      <th>Cases (+)</th>\n",
       "      <th>Deaths (+)</th>\n",
       "      <th>Fatality Rate</th>\n",
       "      <th>Continent</th>\n",
       "    </tr>\n",
       "  </thead>\n",
       "  <tbody>\n",
       "    <tr>\n",
       "      <th>0</th>\n",
       "      <td>US</td>\n",
       "      <td>32230850</td>\n",
       "      <td>574340</td>\n",
       "      <td>32175725</td>\n",
       "      <td>573381</td>\n",
       "      <td>55125</td>\n",
       "      <td>959</td>\n",
       "      <td>1.8</td>\n",
       "      <td>North America</td>\n",
       "    </tr>\n",
       "    <tr>\n",
       "      <th>1</th>\n",
       "      <td>India</td>\n",
       "      <td>18376421</td>\n",
       "      <td>204832</td>\n",
       "      <td>17997113</td>\n",
       "      <td>201187</td>\n",
       "      <td>379308</td>\n",
       "      <td>3645</td>\n",
       "      <td>1.1</td>\n",
       "      <td>Asia</td>\n",
       "    </tr>\n",
       "    <tr>\n",
       "      <th>2</th>\n",
       "      <td>Brazil</td>\n",
       "      <td>14521289</td>\n",
       "      <td>398185</td>\n",
       "      <td>14441563</td>\n",
       "      <td>395022</td>\n",
       "      <td>79726</td>\n",
       "      <td>3163</td>\n",
       "      <td>2.7</td>\n",
       "      <td>South America</td>\n",
       "    </tr>\n",
       "    <tr>\n",
       "      <th>3</th>\n",
       "      <td>France</td>\n",
       "      <td>5626985</td>\n",
       "      <td>104077</td>\n",
       "      <td>5595403</td>\n",
       "      <td>103762</td>\n",
       "      <td>31582</td>\n",
       "      <td>315</td>\n",
       "      <td>1.8</td>\n",
       "      <td>Europe</td>\n",
       "    </tr>\n",
       "    <tr>\n",
       "      <th>4</th>\n",
       "      <td>Turkey</td>\n",
       "      <td>4751026</td>\n",
       "      <td>39398</td>\n",
       "      <td>4710582</td>\n",
       "      <td>39057</td>\n",
       "      <td>40444</td>\n",
       "      <td>341</td>\n",
       "      <td>0.8</td>\n",
       "      <td>Asia</td>\n",
       "    </tr>\n",
       "  </tbody>\n",
       "</table>\n",
       "</div>"
      ],
      "text/plain": [
       "  Country/Region     Cases  Deaths    PCases  PDeaths  Cases (+)  Deaths (+)  \\\n",
       "0             US  32230850  574340  32175725   573381      55125         959   \n",
       "1          India  18376421  204832  17997113   201187     379308        3645   \n",
       "2         Brazil  14521289  398185  14441563   395022      79726        3163   \n",
       "3         France   5626985  104077   5595403   103762      31582         315   \n",
       "4         Turkey   4751026   39398   4710582    39057      40444         341   \n",
       "\n",
       "   Fatality Rate      Continent  \n",
       "0            1.8  North America  \n",
       "1            1.1           Asia  \n",
       "2            2.7  South America  \n",
       "3            1.8         Europe  \n",
       "4            0.8           Asia  "
      ]
     },
     "execution_count": 15,
     "metadata": {},
     "output_type": "execute_result"
    }
   ],
   "source": [
    "#hide\n",
    "df_table = (pd.DataFrame(dict(Cases=dfc_cases, Deaths=dfc_deaths, PCases=dfp_cases, PDeaths=dfp_deaths))\n",
    "             .sort_values(by=['Cases', 'Deaths'], ascending=[False, False])\n",
    "             .reset_index())\n",
    "df_table.rename(columns={'index': 'Country/Region'}, inplace=True)\n",
    "for c in 'Cases, Deaths'.split(', '):\n",
    "    df_table[f'{c} (+)'] = (df_table[c] - df_table[f'P{c}']).clip(0)  # DATA BUG\n",
    "df_table['Fatality Rate'] = (100 * df_table['Deaths'] / df_table['Cases']).round(1)\n",
    "df_table['Continent'] = df_table['Country/Region'].map(mapping['map.continent'])\n",
    "df_table.head(5)"
   ]
  },
  {
   "cell_type": "code",
   "execution_count": 16,
   "id": "fewer-occasion",
   "metadata": {
    "execution": {
     "iopub.execute_input": "2021-04-30T00:23:36.224831Z",
     "iopub.status.busy": "2021-04-30T00:23:36.224051Z",
     "iopub.status.idle": "2021-04-30T00:23:36.227794Z",
     "shell.execute_reply": "2021-04-30T00:23:36.228250Z"
    },
    "papermill": {
     "duration": 0.048791,
     "end_time": "2021-04-30T00:23:36.228399",
     "exception": false,
     "start_time": "2021-04-30T00:23:36.179608",
     "status": "completed"
    },
    "tags": []
   },
   "outputs": [],
   "source": [
    "#hide\n",
    "#delete problematic countries from table\n",
    "df_table = df_table[~df_table['Country/Region'].isin(['Cape Verde', 'Cruise Ship', 'Kosovo'])]"
   ]
  },
  {
   "cell_type": "code",
   "execution_count": 17,
   "id": "related-center",
   "metadata": {
    "execution": {
     "iopub.execute_input": "2021-04-30T00:23:36.312788Z",
     "iopub.status.busy": "2021-04-30T00:23:36.312196Z",
     "iopub.status.idle": "2021-04-30T00:23:36.329105Z",
     "shell.execute_reply": "2021-04-30T00:23:36.328615Z"
    },
    "papermill": {
     "duration": 0.062225,
     "end_time": "2021-04-30T00:23:36.329231",
     "exception": false,
     "start_time": "2021-04-30T00:23:36.267006",
     "status": "completed"
    },
    "tags": []
   },
   "outputs": [],
   "source": [
    "#hide\n",
    "metrics = [df_table.columns[index] for index in [1,2,5,6]]\n",
    "# s_china = df_table[df_table['Country/Region'].eq('China')][metrics].sum().add_prefix('China ')\n",
    "s_us = df_table[df_table['Country/Region'].eq('US')][metrics].sum().add_prefix('US ')\n",
    "s_eu = df_table[df_table['Continent'].eq('Europe')][metrics].sum().add_prefix('EU ')\n",
    "s_ind = df_table[df_table['Country/Region'].eq('India')][metrics].sum().add_prefix('India ')\n",
    "summary = {'updated': pd.to_datetime(dt_today), 'since': pd.to_datetime(dt_yday)}\n",
    "summary = {'updated': pd.to_datetime(dt_today), 'since': pd.to_datetime(dt_yday)}\n",
    "summary = {**summary, **df_table[metrics].sum(), **s_ind, **s_us, **s_eu}"
   ]
  },
  {
   "cell_type": "code",
   "execution_count": 18,
   "id": "engaging-syndrome",
   "metadata": {
    "execution": {
     "iopub.execute_input": "2021-04-30T00:23:36.413285Z",
     "iopub.status.busy": "2021-04-30T00:23:36.412467Z",
     "iopub.status.idle": "2021-04-30T00:23:36.426483Z",
     "shell.execute_reply": "2021-04-30T00:23:36.427400Z"
    },
    "papermill": {
     "duration": 0.06006,
     "end_time": "2021-04-30T00:23:36.427605",
     "exception": false,
     "start_time": "2021-04-30T00:23:36.367545",
     "status": "completed"
    },
    "tags": []
   },
   "outputs": [],
   "source": [
    "#hide\n",
    "dft_ct_new_cases = dft_cases.groupby(COL_REGION)[dt_cols].sum().diff(axis=1).fillna(0).astype(int)"
   ]
  },
  {
   "cell_type": "code",
   "execution_count": 19,
   "id": "neutral-assignment",
   "metadata": {
    "execution": {
     "iopub.execute_input": "2021-04-30T00:23:36.515700Z",
     "iopub.status.busy": "2021-04-30T00:23:36.515041Z",
     "iopub.status.idle": "2021-04-30T00:23:36.517409Z",
     "shell.execute_reply": "2021-04-30T00:23:36.516793Z"
    },
    "papermill": {
     "duration": 0.04761,
     "end_time": "2021-04-30T00:23:36.517531",
     "exception": false,
     "start_time": "2021-04-30T00:23:36.469921",
     "status": "completed"
    },
    "tags": []
   },
   "outputs": [],
   "source": [
    "#hide\n",
    "everydaycases = dft_ct_new_cases.cumsum(axis=1)"
   ]
  },
  {
   "cell_type": "code",
   "execution_count": 20,
   "id": "parliamentary-calgary",
   "metadata": {
    "execution": {
     "iopub.execute_input": "2021-04-30T00:23:36.597799Z",
     "iopub.status.busy": "2021-04-30T00:23:36.597148Z",
     "iopub.status.idle": "2021-04-30T00:23:37.198716Z",
     "shell.execute_reply": "2021-04-30T00:23:37.198100Z"
    },
    "papermill": {
     "duration": 0.64281,
     "end_time": "2021-04-30T00:23:37.198871",
     "exception": false,
     "start_time": "2021-04-30T00:23:36.556061",
     "status": "completed"
    },
    "tags": []
   },
   "outputs": [],
   "source": [
    "#hide\n",
    "import pandas as pd\n",
    "import matplotlib.pyplot as plt\n",
    "import matplotlib.ticker as ticker\n",
    "import matplotlib.animation as animation\n",
    "from IPython.display import HTML"
   ]
  },
  {
   "cell_type": "code",
   "execution_count": 21,
   "id": "lasting-extraction",
   "metadata": {
    "execution": {
     "iopub.execute_input": "2021-04-30T00:23:37.287699Z",
     "iopub.status.busy": "2021-04-30T00:23:37.287019Z",
     "iopub.status.idle": "2021-04-30T00:23:37.292618Z",
     "shell.execute_reply": "2021-04-30T00:23:37.293155Z"
    },
    "papermill": {
     "duration": 0.052312,
     "end_time": "2021-04-30T00:23:37.293325",
     "exception": false,
     "start_time": "2021-04-30T00:23:37.241013",
     "status": "completed"
    },
    "tags": []
   },
   "outputs": [],
   "source": [
    "#hide\n",
    "t = everydaycases.stack()"
   ]
  },
  {
   "cell_type": "code",
   "execution_count": 22,
   "id": "premier-sleeve",
   "metadata": {
    "execution": {
     "iopub.execute_input": "2021-04-30T00:23:37.379683Z",
     "iopub.status.busy": "2021-04-30T00:23:37.378942Z",
     "iopub.status.idle": "2021-04-30T00:23:37.387067Z",
     "shell.execute_reply": "2021-04-30T00:23:37.387595Z"
    },
    "papermill": {
     "duration": 0.057477,
     "end_time": "2021-04-30T00:23:37.387759",
     "exception": false,
     "start_time": "2021-04-30T00:23:37.330282",
     "status": "completed"
    },
    "tags": []
   },
   "outputs": [],
   "source": [
    "#hide\n",
    "g = t.reset_index(['Country/Region'])"
   ]
  },
  {
   "cell_type": "code",
   "execution_count": 23,
   "id": "distributed-pittsburgh",
   "metadata": {
    "execution": {
     "iopub.execute_input": "2021-04-30T00:23:37.473884Z",
     "iopub.status.busy": "2021-04-30T00:23:37.473230Z",
     "iopub.status.idle": "2021-04-30T00:23:37.476009Z",
     "shell.execute_reply": "2021-04-30T00:23:37.475457Z"
    },
    "papermill": {
     "duration": 0.051245,
     "end_time": "2021-04-30T00:23:37.476131",
     "exception": false,
     "start_time": "2021-04-30T00:23:37.424886",
     "status": "completed"
    },
    "tags": []
   },
   "outputs": [],
   "source": [
    "#hide\n",
    "g.index.name = 'date'"
   ]
  },
  {
   "cell_type": "code",
   "execution_count": 24,
   "id": "naked-donor",
   "metadata": {
    "execution": {
     "iopub.execute_input": "2021-04-30T00:23:37.566119Z",
     "iopub.status.busy": "2021-04-30T00:23:37.565368Z",
     "iopub.status.idle": "2021-04-30T00:23:37.568043Z",
     "shell.execute_reply": "2021-04-30T00:23:37.567403Z"
    },
    "papermill": {
     "duration": 0.051654,
     "end_time": "2021-04-30T00:23:37.568204",
     "exception": false,
     "start_time": "2021-04-30T00:23:37.516550",
     "status": "completed"
    },
    "tags": []
   },
   "outputs": [],
   "source": [
    "# #hide\n",
    "# g = g.reset_index(['date'])"
   ]
  },
  {
   "cell_type": "code",
   "execution_count": 25,
   "id": "incomplete-mustang",
   "metadata": {
    "execution": {
     "iopub.execute_input": "2021-04-30T00:23:37.656271Z",
     "iopub.status.busy": "2021-04-30T00:23:37.654452Z",
     "iopub.status.idle": "2021-04-30T00:23:37.657014Z",
     "shell.execute_reply": "2021-04-30T00:23:37.657539Z"
    },
    "papermill": {
     "duration": 0.048736,
     "end_time": "2021-04-30T00:23:37.657676",
     "exception": false,
     "start_time": "2021-04-30T00:23:37.608940",
     "status": "completed"
    },
    "tags": []
   },
   "outputs": [],
   "source": [
    "#hide\n",
    "# g.head()"
   ]
  },
  {
   "cell_type": "code",
   "execution_count": 26,
   "id": "specific-kruger",
   "metadata": {
    "execution": {
     "iopub.execute_input": "2021-04-30T00:23:37.745576Z",
     "iopub.status.busy": "2021-04-30T00:23:37.744836Z",
     "iopub.status.idle": "2021-04-30T00:23:37.746993Z",
     "shell.execute_reply": "2021-04-30T00:23:37.747648Z"
    },
    "papermill": {
     "duration": 0.050122,
     "end_time": "2021-04-30T00:23:37.747858",
     "exception": false,
     "start_time": "2021-04-30T00:23:37.697736",
     "status": "completed"
    },
    "tags": []
   },
   "outputs": [],
   "source": [
    "#hide\n",
    "# g.columns = ['date','country','cases']"
   ]
  },
  {
   "cell_type": "code",
   "execution_count": 27,
   "id": "tender-conversion",
   "metadata": {
    "execution": {
     "iopub.execute_input": "2021-04-30T00:23:37.835765Z",
     "iopub.status.busy": "2021-04-30T00:23:37.835133Z",
     "iopub.status.idle": "2021-04-30T00:23:37.839030Z",
     "shell.execute_reply": "2021-04-30T00:23:37.838334Z"
    },
    "papermill": {
     "duration": 0.048411,
     "end_time": "2021-04-30T00:23:37.839179",
     "exception": false,
     "start_time": "2021-04-30T00:23:37.790768",
     "status": "completed"
    },
    "tags": []
   },
   "outputs": [],
   "source": [
    "#hide\n",
    "# g['continent'] = g.country"
   ]
  },
  {
   "cell_type": "code",
   "execution_count": 28,
   "id": "substantial-wilderness",
   "metadata": {
    "execution": {
     "iopub.execute_input": "2021-04-30T00:23:37.922684Z",
     "iopub.status.busy": "2021-04-30T00:23:37.922000Z",
     "iopub.status.idle": "2021-04-30T00:23:37.924135Z",
     "shell.execute_reply": "2021-04-30T00:23:37.924783Z"
    },
    "papermill": {
     "duration": 0.046558,
     "end_time": "2021-04-30T00:23:37.924977",
     "exception": false,
     "start_time": "2021-04-30T00:23:37.878419",
     "status": "completed"
    },
    "tags": []
   },
   "outputs": [],
   "source": [
    "#hide\n",
    "# cols = list(g.columns.values)"
   ]
  },
  {
   "cell_type": "code",
   "execution_count": 29,
   "id": "solved-farming",
   "metadata": {
    "execution": {
     "iopub.execute_input": "2021-04-30T00:23:38.014511Z",
     "iopub.status.busy": "2021-04-30T00:23:38.013770Z",
     "iopub.status.idle": "2021-04-30T00:23:38.016389Z",
     "shell.execute_reply": "2021-04-30T00:23:38.015612Z"
    },
    "papermill": {
     "duration": 0.050218,
     "end_time": "2021-04-30T00:23:38.016513",
     "exception": false,
     "start_time": "2021-04-30T00:23:37.966295",
     "status": "completed"
    },
    "tags": []
   },
   "outputs": [],
   "source": [
    "#hide\n",
    "# cols.insert(0, cols.pop())"
   ]
  },
  {
   "cell_type": "code",
   "execution_count": 30,
   "id": "executed-adoption",
   "metadata": {
    "execution": {
     "iopub.execute_input": "2021-04-30T00:23:38.102910Z",
     "iopub.status.busy": "2021-04-30T00:23:38.102295Z",
     "iopub.status.idle": "2021-04-30T00:23:38.104759Z",
     "shell.execute_reply": "2021-04-30T00:23:38.104232Z"
    },
    "papermill": {
     "duration": 0.047375,
     "end_time": "2021-04-30T00:23:38.104879",
     "exception": false,
     "start_time": "2021-04-30T00:23:38.057504",
     "status": "completed"
    },
    "tags": []
   },
   "outputs": [],
   "source": [
    "#hide\n",
    "# g = g[cols]"
   ]
  },
  {
   "cell_type": "code",
   "execution_count": 31,
   "id": "subject-dublin",
   "metadata": {
    "execution": {
     "iopub.execute_input": "2021-04-30T00:23:38.190555Z",
     "iopub.status.busy": "2021-04-30T00:23:38.189842Z",
     "iopub.status.idle": "2021-04-30T00:23:38.192192Z",
     "shell.execute_reply": "2021-04-30T00:23:38.191580Z"
    },
    "papermill": {
     "duration": 0.047682,
     "end_time": "2021-04-30T00:23:38.192312",
     "exception": false,
     "start_time": "2021-04-30T00:23:38.144630",
     "status": "completed"
    },
    "tags": []
   },
   "outputs": [],
   "source": [
    "#hide\n",
    "# g['continent'] = g['continent'].map(mapping['map.continent'])"
   ]
  },
  {
   "cell_type": "code",
   "execution_count": 32,
   "id": "freelance-scout",
   "metadata": {
    "execution": {
     "iopub.execute_input": "2021-04-30T00:23:38.276110Z",
     "iopub.status.busy": "2021-04-30T00:23:38.275414Z",
     "iopub.status.idle": "2021-04-30T00:23:38.278131Z",
     "shell.execute_reply": "2021-04-30T00:23:38.277586Z"
    },
    "papermill": {
     "duration": 0.04841,
     "end_time": "2021-04-30T00:23:38.278268",
     "exception": false,
     "start_time": "2021-04-30T00:23:38.229858",
     "status": "completed"
    },
    "tags": []
   },
   "outputs": [],
   "source": [
    "#hide\n",
    "# g.head()"
   ]
  },
  {
   "cell_type": "code",
   "execution_count": 33,
   "id": "limited-engine",
   "metadata": {
    "execution": {
     "iopub.execute_input": "2021-04-30T00:23:38.361162Z",
     "iopub.status.busy": "2021-04-30T00:23:38.360263Z",
     "iopub.status.idle": "2021-04-30T00:23:38.362200Z",
     "shell.execute_reply": "2021-04-30T00:23:38.362715Z"
    },
    "papermill": {
     "duration": 0.046015,
     "end_time": "2021-04-30T00:23:38.362850",
     "exception": false,
     "start_time": "2021-04-30T00:23:38.316835",
     "status": "completed"
    },
    "tags": []
   },
   "outputs": [],
   "source": [
    "# hide\n",
    "# g['date'] = g['date'].astype('datetime64[ns]')"
   ]
  },
  {
   "cell_type": "code",
   "execution_count": 34,
   "id": "sophisticated-supervisor",
   "metadata": {
    "execution": {
     "iopub.execute_input": "2021-04-30T00:23:38.445824Z",
     "iopub.status.busy": "2021-04-30T00:23:38.445066Z",
     "iopub.status.idle": "2021-04-30T00:23:38.447514Z",
     "shell.execute_reply": "2021-04-30T00:23:38.447036Z"
    },
    "papermill": {
     "duration": 0.045565,
     "end_time": "2021-04-30T00:23:38.447639",
     "exception": false,
     "start_time": "2021-04-30T00:23:38.402074",
     "status": "completed"
    },
    "tags": []
   },
   "outputs": [],
   "source": [
    "#hide\n",
    "# g['date'] = g.date.dt.dayofyear"
   ]
  },
  {
   "cell_type": "code",
   "execution_count": 35,
   "id": "inside-dubai",
   "metadata": {
    "execution": {
     "iopub.execute_input": "2021-04-30T00:23:38.528760Z",
     "iopub.status.busy": "2021-04-30T00:23:38.527930Z",
     "iopub.status.idle": "2021-04-30T00:23:38.530836Z",
     "shell.execute_reply": "2021-04-30T00:23:38.530291Z"
    },
    "papermill": {
     "duration": 0.045587,
     "end_time": "2021-04-30T00:23:38.530951",
     "exception": false,
     "start_time": "2021-04-30T00:23:38.485364",
     "status": "completed"
    },
    "tags": []
   },
   "outputs": [],
   "source": [
    "#hide\n",
    "# g = g.rename(columns= {'continent':'group','country':'name','cases':'value'})"
   ]
  },
  {
   "cell_type": "code",
   "execution_count": 36,
   "id": "fleet-motorcycle",
   "metadata": {
    "execution": {
     "iopub.execute_input": "2021-04-30T00:23:38.610775Z",
     "iopub.status.busy": "2021-04-30T00:23:38.610137Z",
     "iopub.status.idle": "2021-04-30T00:23:38.612873Z",
     "shell.execute_reply": "2021-04-30T00:23:38.612392Z"
    },
    "papermill": {
     "duration": 0.043444,
     "end_time": "2021-04-30T00:23:38.612987",
     "exception": false,
     "start_time": "2021-04-30T00:23:38.569543",
     "status": "completed"
    },
    "tags": []
   },
   "outputs": [],
   "source": [
    "#hide\n",
    "# cols = ['name','group','day','value']"
   ]
  },
  {
   "cell_type": "code",
   "execution_count": 37,
   "id": "continued-sleeping",
   "metadata": {
    "execution": {
     "iopub.execute_input": "2021-04-30T00:23:38.693700Z",
     "iopub.status.busy": "2021-04-30T00:23:38.693043Z",
     "iopub.status.idle": "2021-04-30T00:23:38.694873Z",
     "shell.execute_reply": "2021-04-30T00:23:38.695368Z"
    },
    "papermill": {
     "duration": 0.043463,
     "end_time": "2021-04-30T00:23:38.695492",
     "exception": false,
     "start_time": "2021-04-30T00:23:38.652029",
     "status": "completed"
    },
    "tags": []
   },
   "outputs": [],
   "source": [
    "#hide\n",
    "# g.rename(columns= {'date':'day'},inplace = True)"
   ]
  },
  {
   "cell_type": "code",
   "execution_count": 38,
   "id": "major-fight",
   "metadata": {
    "execution": {
     "iopub.execute_input": "2021-04-30T00:23:38.781666Z",
     "iopub.status.busy": "2021-04-30T00:23:38.781031Z",
     "iopub.status.idle": "2021-04-30T00:23:38.783064Z",
     "shell.execute_reply": "2021-04-30T00:23:38.783522Z"
    },
    "papermill": {
     "duration": 0.051154,
     "end_time": "2021-04-30T00:23:38.783663",
     "exception": false,
     "start_time": "2021-04-30T00:23:38.732509",
     "status": "completed"
    },
    "tags": []
   },
   "outputs": [],
   "source": [
    "#hide\n",
    "# g = g[cols]"
   ]
  },
  {
   "cell_type": "code",
   "execution_count": 39,
   "id": "structured-mobile",
   "metadata": {
    "execution": {
     "iopub.execute_input": "2021-04-30T00:23:38.865596Z",
     "iopub.status.busy": "2021-04-30T00:23:38.865004Z",
     "iopub.status.idle": "2021-04-30T00:23:38.867764Z",
     "shell.execute_reply": "2021-04-30T00:23:38.867139Z"
    },
    "papermill": {
     "duration": 0.046434,
     "end_time": "2021-04-30T00:23:38.867879",
     "exception": false,
     "start_time": "2021-04-30T00:23:38.821445",
     "status": "completed"
    },
    "tags": []
   },
   "outputs": [],
   "source": [
    "# #hide\n",
    "# g = g[g.group.notna()]"
   ]
  },
  {
   "cell_type": "code",
   "execution_count": 40,
   "id": "determined-closing",
   "metadata": {
    "execution": {
     "iopub.execute_input": "2021-04-30T00:23:38.947052Z",
     "iopub.status.busy": "2021-04-30T00:23:38.946436Z",
     "iopub.status.idle": "2021-04-30T00:23:38.949037Z",
     "shell.execute_reply": "2021-04-30T00:23:38.948220Z"
    },
    "papermill": {
     "duration": 0.044007,
     "end_time": "2021-04-30T00:23:38.949193",
     "exception": false,
     "start_time": "2021-04-30T00:23:38.905186",
     "status": "completed"
    },
    "tags": []
   },
   "outputs": [],
   "source": [
    "# #hide\n",
    "# colors = dict(zip(\n",
    "#     [\"Oceania\", \"Europe\", \"Asia\", \"South America\", \"Middle East\", \"North America\", \"Africa\"],\n",
    "#     [\"#adb0ff\", \"#ffb3ff\", \"#90d595\", \"#e48381\", \"#aafbff\", \"#f7bb5f\", \"#eafb50\"]\n",
    "# ))\n",
    "# group_lk = g.set_index('name')['group'].to_dict()"
   ]
  },
  {
   "cell_type": "code",
   "execution_count": null,
   "id": "gross-drinking",
   "metadata": {
    "papermill": {
     "duration": 0.037373,
     "end_time": "2021-04-30T00:23:39.025765",
     "exception": false,
     "start_time": "2021-04-30T00:23:38.988392",
     "status": "completed"
    },
    "tags": []
   },
   "outputs": [],
   "source": []
  },
  {
   "cell_type": "code",
   "execution_count": 41,
   "id": "subject-macintosh",
   "metadata": {
    "execution": {
     "iopub.execute_input": "2021-04-30T00:23:39.110875Z",
     "iopub.status.busy": "2021-04-30T00:23:39.110253Z",
     "iopub.status.idle": "2021-04-30T00:23:39.117267Z",
     "shell.execute_reply": "2021-04-30T00:23:39.112284Z"
    },
    "papermill": {
     "duration": 0.050687,
     "end_time": "2021-04-30T00:23:39.117394",
     "exception": false,
     "start_time": "2021-04-30T00:23:39.066707",
     "status": "completed"
    },
    "tags": []
   },
   "outputs": [],
   "source": [
    "# #hide\n",
    "# fig, ax = plt.subplots(figsize=(15, 8))\n",
    "\n",
    "# def draw_barchart(current_day):\n",
    "#     dff = g[g['day'].eq(current_day)].sort_values(by='value', ascending=True).tail(10)\n",
    "#     ax.clear()\n",
    "#     ax.barh(dff['name'], dff['value'], color=[colors[group_lk[x]] for x in dff['name']])\n",
    "#     dx = dff['value'].max() / 200\n",
    "    \n",
    "#     for i, (value, name) in enumerate(zip(dff['value'], dff['name'])):\n",
    "#         ax.text(value-dx, i,     name,           size=14, weight=600, ha='right', va='bottom')\n",
    "#         ax.text(value-dx, i-.25, group_lk[name], size=10, color='#444444', ha='right', va='baseline')\n",
    "#         ax.text(value+dx, i,     f'{value:,.0f}',  size=14, ha='left',  va='center')\n",
    "#     ax.text(1, 0.4, current_day, transform=ax.transAxes, color='#777777', size=46, ha='right', weight=800)\n",
    "#     ax.text(0, 1.06, 'Population (thousands)', transform=ax.transAxes, size=12, color='#777777')\n",
    "#     ax.xaxis.set_major_formatter(ticker.StrMethodFormatter('{x:,.0f}'))\n",
    "#     ax.xaxis.set_ticks_position('top')\n",
    "#     ax.tick_params(axis='x', colors='#777777', labelsize=12)\n",
    "#     ax.set_yticks([])\n",
    "#     ax.margins(0, 0.01)\n",
    "#     ax.grid(which='major', axis='x', linestyle='-')\n",
    "#     ax.set_axisbelow(True)\n",
    "    \n",
    "#     ax.text(0, 1.15, 'Coronavirus',\n",
    "#             transform=ax.transAxes, size=24, weight=600, ha='left', va='top')\n",
    "# #     ax.text(1, 0, 'by @pratapvardhan; credit @jburnmurdoch', transform=ax.transAxes, color='#777777', ha='right',\n",
    "# #             bbox=dict(facecolor='white', alpha=0.8, edgecolor='white'))\n",
    "#     plt.box(False)"
   ]
  },
  {
   "cell_type": "code",
   "execution_count": 42,
   "id": "sexual-wages",
   "metadata": {
    "execution": {
     "iopub.execute_input": "2021-04-30T00:23:39.203686Z",
     "iopub.status.busy": "2021-04-30T00:23:39.202790Z",
     "iopub.status.idle": "2021-04-30T00:23:39.204932Z",
     "shell.execute_reply": "2021-04-30T00:23:39.205571Z"
    },
    "papermill": {
     "duration": 0.04617,
     "end_time": "2021-04-30T00:23:39.205709",
     "exception": false,
     "start_time": "2021-04-30T00:23:39.159539",
     "status": "completed"
    },
    "tags": []
   },
   "outputs": [],
   "source": [
    "# #hide_input\n",
    "# fig, ax = plt.subplots(figsize=(15, 8))\n",
    "# animator = animation.FuncAnimation(fig, draw_barchart, frames=range(g.day.values.min(), g.day.values.max()))\n",
    "# HTML(animator.to_jshtml())\n",
    "# # or use animator.to_html5_video() or animator.save() "
   ]
  },
  {
   "cell_type": "code",
   "execution_count": null,
   "id": "australian-container",
   "metadata": {
    "papermill": {
     "duration": 0.043124,
     "end_time": "2021-04-30T00:23:39.286427",
     "exception": false,
     "start_time": "2021-04-30T00:23:39.243303",
     "status": "completed"
    },
    "tags": []
   },
   "outputs": [],
   "source": []
  },
  {
   "cell_type": "code",
   "execution_count": null,
   "id": "mediterranean-pontiac",
   "metadata": {
    "papermill": {
     "duration": 0.041532,
     "end_time": "2021-04-30T00:23:39.370312",
     "exception": false,
     "start_time": "2021-04-30T00:23:39.328780",
     "status": "completed"
    },
    "tags": []
   },
   "outputs": [],
   "source": []
  },
  {
   "cell_type": "code",
   "execution_count": null,
   "id": "aging-legislature",
   "metadata": {
    "papermill": {
     "duration": 0.04833,
     "end_time": "2021-04-30T00:23:39.465957",
     "exception": false,
     "start_time": "2021-04-30T00:23:39.417627",
     "status": "completed"
    },
    "tags": []
   },
   "outputs": [],
   "source": []
  }
 ],
 "metadata": {
  "kernelspec": {
   "display_name": "Python 3",
   "language": "python",
   "name": "python3"
  },
  "language_info": {
   "codemirror_mode": {
    "name": "ipython",
    "version": 3
   },
   "file_extension": ".py",
   "mimetype": "text/x-python",
   "name": "python",
   "nbconvert_exporter": "python",
   "pygments_lexer": "ipython3",
   "version": "3.6.13"
  },
  "papermill": {
   "duration": 7.013768,
   "end_time": "2021-04-30T00:23:39.815379",
   "environment_variables": {},
   "exception": null,
   "input_path": "2020-03-21-covid19exp.ipynb",
   "output_path": "2020-03-21-covid19exp.ipynb",
   "parameters": {},
   "start_time": "2021-04-30T00:23:32.801611",
   "version": "2.0.0"
  }
 },
 "nbformat": 4,
 "nbformat_minor": 5
}