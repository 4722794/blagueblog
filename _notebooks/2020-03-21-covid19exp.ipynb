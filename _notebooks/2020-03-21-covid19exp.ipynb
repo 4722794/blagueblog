{
 "cells": [
  {
   "cell_type": "markdown",
   "id": "muslim-click",
   "metadata": {
    "papermill": {
     "duration": 0.033563,
     "end_time": "2021-08-09T12:10:25.367855",
     "exception": false,
     "start_time": "2021-08-09T12:10:25.334292",
     "status": "completed"
    },
    "tags": []
   },
   "source": [
    "# COVID-19 Case Race\n",
    "> A race chart to see rising cases around the world\n",
    "\n",
    "- author: Hargun Oberoi\n",
    "- image: images/covid-overview.png\n",
    "- hide: false\n",
    "- badges: false"
   ]
  },
  {
   "cell_type": "code",
   "execution_count": 1,
   "id": "proof-material",
   "metadata": {
    "execution": {
     "iopub.execute_input": "2021-08-09T12:10:25.438330Z",
     "iopub.status.busy": "2021-08-09T12:10:25.437775Z",
     "iopub.status.idle": "2021-08-09T12:10:25.755022Z",
     "shell.execute_reply": "2021-08-09T12:10:25.755497Z"
    },
    "papermill": {
     "duration": 0.358094,
     "end_time": "2021-08-09T12:10:25.755680",
     "exception": false,
     "start_time": "2021-08-09T12:10:25.397586",
     "status": "completed"
    },
    "tags": []
   },
   "outputs": [],
   "source": [
    "#hide\n",
    "import numpy as np\n",
    "import pandas as pd\n",
    "from jinja2 import Template\n",
    "from IPython.display import HTML"
   ]
  },
  {
   "cell_type": "code",
   "execution_count": 2,
   "id": "developed-terminology",
   "metadata": {
    "execution": {
     "iopub.execute_input": "2021-08-09T12:10:25.820661Z",
     "iopub.status.busy": "2021-08-09T12:10:25.820045Z",
     "iopub.status.idle": "2021-08-09T12:10:25.821465Z",
     "shell.execute_reply": "2021-08-09T12:10:25.821917Z"
    },
    "papermill": {
     "duration": 0.035686,
     "end_time": "2021-08-09T12:10:25.822079",
     "exception": false,
     "start_time": "2021-08-09T12:10:25.786393",
     "status": "completed"
    },
    "tags": []
   },
   "outputs": [],
   "source": [
    "#hide\n",
    "\n",
    "# FETCH\n",
    "base_url = 'https://raw.githubusercontent.com/pratapvardhan/notebooks/master/covid19/'\n",
    "paths = {\n",
    "    'mapping': base_url + 'mapping_countries.csv',\n",
    "    'overview': base_url + 'overview.tpl'\n",
    "}"
   ]
  },
  {
   "cell_type": "code",
   "execution_count": 3,
   "id": "dynamic-saver",
   "metadata": {
    "execution": {
     "iopub.execute_input": "2021-08-09T12:10:25.890660Z",
     "iopub.status.busy": "2021-08-09T12:10:25.890139Z",
     "iopub.status.idle": "2021-08-09T12:10:25.892764Z",
     "shell.execute_reply": "2021-08-09T12:10:25.892367Z"
    },
    "papermill": {
     "duration": 0.041256,
     "end_time": "2021-08-09T12:10:25.892871",
     "exception": false,
     "start_time": "2021-08-09T12:10:25.851615",
     "status": "completed"
    },
    "tags": []
   },
   "outputs": [
    {
     "data": {
      "text/plain": [
       "'https://raw.githubusercontent.com/pratapvardhan/notebooks/master/covid19/mapping_countries.csv'"
      ]
     },
     "execution_count": 3,
     "metadata": {},
     "output_type": "execute_result"
    }
   ],
   "source": [
    "#hide\n",
    "paths['mapping']"
   ]
  },
  {
   "cell_type": "code",
   "execution_count": 4,
   "id": "urban-software",
   "metadata": {
    "execution": {
     "iopub.execute_input": "2021-08-09T12:10:25.957605Z",
     "iopub.status.busy": "2021-08-09T12:10:25.957095Z",
     "iopub.status.idle": "2021-08-09T12:10:25.959222Z",
     "shell.execute_reply": "2021-08-09T12:10:25.958803Z"
    },
    "papermill": {
     "duration": 0.036289,
     "end_time": "2021-08-09T12:10:25.959328",
     "exception": false,
     "start_time": "2021-08-09T12:10:25.923039",
     "status": "completed"
    },
    "tags": []
   },
   "outputs": [],
   "source": [
    "#hide\n",
    "def get_mappings(url):\n",
    "    df = pd.read_csv(url)\n",
    "    return {\n",
    "        'df': df,\n",
    "        'replace.country': dict(df.dropna(subset=['Name']).set_index('Country')['Name']),\n",
    "        'map.continent': dict(df.set_index('Name')['Continent'])\n",
    "    }"
   ]
  },
  {
   "cell_type": "code",
   "execution_count": 5,
   "id": "intimate-machinery",
   "metadata": {
    "execution": {
     "iopub.execute_input": "2021-08-09T12:10:26.022932Z",
     "iopub.status.busy": "2021-08-09T12:10:26.022439Z",
     "iopub.status.idle": "2021-08-09T12:10:26.130130Z",
     "shell.execute_reply": "2021-08-09T12:10:26.130565Z"
    },
    "papermill": {
     "duration": 0.142054,
     "end_time": "2021-08-09T12:10:26.130717",
     "exception": false,
     "start_time": "2021-08-09T12:10:25.988663",
     "status": "completed"
    },
    "tags": []
   },
   "outputs": [],
   "source": [
    "#hide\n",
    "mapping = get_mappings(paths['mapping'])"
   ]
  },
  {
   "cell_type": "code",
   "execution_count": 6,
   "id": "certified-tactics",
   "metadata": {
    "execution": {
     "iopub.execute_input": "2021-08-09T12:10:26.195882Z",
     "iopub.status.busy": "2021-08-09T12:10:26.195367Z",
     "iopub.status.idle": "2021-08-09T12:10:26.197510Z",
     "shell.execute_reply": "2021-08-09T12:10:26.197114Z"
    },
    "papermill": {
     "duration": 0.036925,
     "end_time": "2021-08-09T12:10:26.197620",
     "exception": false,
     "start_time": "2021-08-09T12:10:26.160695",
     "status": "completed"
    },
    "tags": []
   },
   "outputs": [],
   "source": [
    "#hide\n",
    "def get_template(path):\n",
    "    from urllib.parse import urlparse\n",
    "    if bool(urlparse(path).netloc):\n",
    "        from urllib.request import urlopen\n",
    "        return urlopen(path).read().decode('utf8')\n",
    "    return open(path).read()"
   ]
  },
  {
   "cell_type": "code",
   "execution_count": 7,
   "id": "realistic-blast",
   "metadata": {
    "execution": {
     "iopub.execute_input": "2021-08-09T12:10:26.261448Z",
     "iopub.status.busy": "2021-08-09T12:10:26.260950Z",
     "iopub.status.idle": "2021-08-09T12:10:26.262697Z",
     "shell.execute_reply": "2021-08-09T12:10:26.263066Z"
    },
    "papermill": {
     "duration": 0.036043,
     "end_time": "2021-08-09T12:10:26.263197",
     "exception": false,
     "start_time": "2021-08-09T12:10:26.227154",
     "status": "completed"
    },
    "tags": []
   },
   "outputs": [],
   "source": [
    "#hide\n",
    "def get_frame(name):\n",
    "    url = (\n",
    "        'https://raw.githubusercontent.com/CSSEGISandData/COVID-19/master/csse_covid_19_data/'\n",
    "        f'csse_covid_19_time_series/time_series_covid19_{name}_global.csv')\n",
    "    df = pd.read_csv(url)\n",
    "    # rename countries\n",
    "    df['Country/Region'] = df['Country/Region'].replace(mapping['replace.country'])\n",
    "    return df"
   ]
  },
  {
   "cell_type": "code",
   "execution_count": 8,
   "id": "affiliated-characterization",
   "metadata": {
    "execution": {
     "iopub.execute_input": "2021-08-09T12:10:26.328162Z",
     "iopub.status.busy": "2021-08-09T12:10:26.327652Z",
     "iopub.status.idle": "2021-08-09T12:10:26.329939Z",
     "shell.execute_reply": "2021-08-09T12:10:26.329545Z"
    },
    "papermill": {
     "duration": 0.037268,
     "end_time": "2021-08-09T12:10:26.330072",
     "exception": false,
     "start_time": "2021-08-09T12:10:26.292804",
     "status": "completed"
    },
    "tags": []
   },
   "outputs": [],
   "source": [
    "#hide\n",
    "def get_dates(df):\n",
    "    dt_cols = df.columns[~df.columns.isin(['Province/State', 'Country/Region', 'Lat', 'Long'])]\n",
    "    LAST_DATE_I = -1\n",
    "    # sometimes last column may be empty, then go backwards\n",
    "    for i in range(-1, -len(dt_cols), -1):\n",
    "        if not df[dt_cols[i]].fillna(0).eq(0).all():\n",
    "            LAST_DATE_I = i\n",
    "            break\n",
    "    return LAST_DATE_I, dt_cols"
   ]
  },
  {
   "cell_type": "code",
   "execution_count": 9,
   "id": "recent-optimization",
   "metadata": {
    "execution": {
     "iopub.execute_input": "2021-08-09T12:10:26.393634Z",
     "iopub.status.busy": "2021-08-09T12:10:26.393128Z",
     "iopub.status.idle": "2021-08-09T12:10:26.902991Z",
     "shell.execute_reply": "2021-08-09T12:10:26.903426Z"
    },
    "papermill": {
     "duration": 0.544011,
     "end_time": "2021-08-09T12:10:26.903575",
     "exception": false,
     "start_time": "2021-08-09T12:10:26.359564",
     "status": "completed"
    },
    "tags": []
   },
   "outputs": [],
   "source": [
    "#hide\n",
    "COL_REGION = 'Country/Region'\n",
    "# Confirmed, Recovered, Deaths\n",
    "df = get_frame('confirmed')\n",
    "# dft_: timeseries, dfc_: today country agg\n",
    "dft_cases = df\n",
    "dft_deaths = get_frame('deaths')\n",
    "dft_recovered = get_frame('recovered')\n",
    "LAST_DATE_I, dt_cols = get_dates(df)"
   ]
  },
  {
   "cell_type": "code",
   "execution_count": 10,
   "id": "absolute-copper",
   "metadata": {
    "execution": {
     "iopub.execute_input": "2021-08-09T12:10:26.968106Z",
     "iopub.status.busy": "2021-08-09T12:10:26.967598Z",
     "iopub.status.idle": "2021-08-09T12:10:26.969564Z",
     "shell.execute_reply": "2021-08-09T12:10:26.970057Z"
    },
    "papermill": {
     "duration": 0.036733,
     "end_time": "2021-08-09T12:10:26.970185",
     "exception": false,
     "start_time": "2021-08-09T12:10:26.933452",
     "status": "completed"
    },
    "tags": []
   },
   "outputs": [],
   "source": [
    "#hide\n",
    "LAST_DATE_I, dt_cols = get_dates(df)\n",
    "dt_today =dt_cols[LAST_DATE_I]\n",
    "# dt_5day = dt_cols[LAST_DATE_I - 5]\n",
    "dt_yday = dt_cols[LAST_DATE_I - 1]"
   ]
  },
  {
   "cell_type": "code",
   "execution_count": 11,
   "id": "restricted-sheriff",
   "metadata": {
    "execution": {
     "iopub.execute_input": "2021-08-09T12:10:27.034604Z",
     "iopub.status.busy": "2021-08-09T12:10:27.034092Z",
     "iopub.status.idle": "2021-08-09T12:10:27.040363Z",
     "shell.execute_reply": "2021-08-09T12:10:27.040786Z"
    },
    "papermill": {
     "duration": 0.041333,
     "end_time": "2021-08-09T12:10:27.040907",
     "exception": false,
     "start_time": "2021-08-09T12:10:26.999574",
     "status": "completed"
    },
    "tags": []
   },
   "outputs": [],
   "source": [
    "#hide\n",
    "dfc_cases = dft_cases.groupby(COL_REGION)[dt_today].sum()\n",
    "dfc_deaths = dft_deaths.groupby(COL_REGION)[dt_today].sum()\n",
    "# dfp_cases = dft_cases.groupby(COL_REGION)[dt_5day].sum()\n",
    "# dfp_deaths = dft_deaths.groupby(COL_REGION)[dt_5day].sum()\n",
    "dfp_cases = dft_cases.groupby(COL_REGION)[dt_yday].sum()\n",
    "dfp_deaths = dft_deaths.groupby(COL_REGION)[dt_yday].sum()"
   ]
  },
  {
   "cell_type": "code",
   "execution_count": 12,
   "id": "deluxe-hepatitis",
   "metadata": {
    "execution": {
     "iopub.execute_input": "2021-08-09T12:10:27.106042Z",
     "iopub.status.busy": "2021-08-09T12:10:27.105513Z",
     "iopub.status.idle": "2021-08-09T12:10:27.109769Z",
     "shell.execute_reply": "2021-08-09T12:10:27.109348Z"
    },
    "papermill": {
     "duration": 0.039322,
     "end_time": "2021-08-09T12:10:27.109880",
     "exception": false,
     "start_time": "2021-08-09T12:10:27.070558",
     "status": "completed"
    },
    "tags": []
   },
   "outputs": [],
   "source": [
    "#hide\n",
    "df_table = (pd.DataFrame(dict(Cases = dfc_cases, Deaths = dfc_deaths, PCases = dfp_cases, PDeaths = dfp_deaths))\n",
    "            .sort_values(by = ['Cases','Deaths'], ascending = [False, False])\n",
    "            .reset_index())"
   ]
  },
  {
   "cell_type": "code",
   "execution_count": 13,
   "id": "educational-chancellor",
   "metadata": {
    "execution": {
     "iopub.execute_input": "2021-08-09T12:10:27.185820Z",
     "iopub.status.busy": "2021-08-09T12:10:27.185311Z",
     "iopub.status.idle": "2021-08-09T12:10:27.192768Z",
     "shell.execute_reply": "2021-08-09T12:10:27.192370Z"
    },
    "papermill": {
     "duration": 0.053565,
     "end_time": "2021-08-09T12:10:27.192877",
     "exception": false,
     "start_time": "2021-08-09T12:10:27.139312",
     "status": "completed"
    },
    "tags": []
   },
   "outputs": [
    {
     "data": {
      "text/html": [
       "<div>\n",
       "<style scoped>\n",
       "    .dataframe tbody tr th:only-of-type {\n",
       "        vertical-align: middle;\n",
       "    }\n",
       "\n",
       "    .dataframe tbody tr th {\n",
       "        vertical-align: top;\n",
       "    }\n",
       "\n",
       "    .dataframe thead th {\n",
       "        text-align: right;\n",
       "    }\n",
       "</style>\n",
       "<table border=\"1\" class=\"dataframe\">\n",
       "  <thead>\n",
       "    <tr style=\"text-align: right;\">\n",
       "      <th></th>\n",
       "      <th>Country/Region</th>\n",
       "      <th>Cases</th>\n",
       "      <th>Deaths</th>\n",
       "      <th>PCases</th>\n",
       "      <th>PDeaths</th>\n",
       "      <th>Cases (+)</th>\n",
       "      <th>Deaths (+)</th>\n",
       "      <th>Fatality Rate</th>\n",
       "      <th>Continent</th>\n",
       "    </tr>\n",
       "  </thead>\n",
       "  <tbody>\n",
       "    <tr>\n",
       "      <th>0</th>\n",
       "      <td>US</td>\n",
       "      <td>35763785</td>\n",
       "      <td>616829</td>\n",
       "      <td>35739551</td>\n",
       "      <td>616718</td>\n",
       "      <td>24234</td>\n",
       "      <td>111</td>\n",
       "      <td>1.72</td>\n",
       "      <td>North America</td>\n",
       "    </tr>\n",
       "    <tr>\n",
       "      <th>1</th>\n",
       "      <td>India</td>\n",
       "      <td>31969954</td>\n",
       "      <td>428309</td>\n",
       "      <td>31934455</td>\n",
       "      <td>427862</td>\n",
       "      <td>35499</td>\n",
       "      <td>447</td>\n",
       "      <td>1.34</td>\n",
       "      <td>Asia</td>\n",
       "    </tr>\n",
       "    <tr>\n",
       "      <th>2</th>\n",
       "      <td>Brazil</td>\n",
       "      <td>20165672</td>\n",
       "      <td>563151</td>\n",
       "      <td>20151779</td>\n",
       "      <td>562752</td>\n",
       "      <td>13893</td>\n",
       "      <td>399</td>\n",
       "      <td>2.79</td>\n",
       "      <td>South America</td>\n",
       "    </tr>\n",
       "    <tr>\n",
       "      <th>3</th>\n",
       "      <td>France</td>\n",
       "      <td>6371349</td>\n",
       "      <td>112407</td>\n",
       "      <td>6350899</td>\n",
       "      <td>112379</td>\n",
       "      <td>20450</td>\n",
       "      <td>28</td>\n",
       "      <td>1.76</td>\n",
       "      <td>Europe</td>\n",
       "    </tr>\n",
       "    <tr>\n",
       "      <th>4</th>\n",
       "      <td>Russia</td>\n",
       "      <td>6362641</td>\n",
       "      <td>162109</td>\n",
       "      <td>6340370</td>\n",
       "      <td>161343</td>\n",
       "      <td>22271</td>\n",
       "      <td>766</td>\n",
       "      <td>2.55</td>\n",
       "      <td>Europe</td>\n",
       "    </tr>\n",
       "  </tbody>\n",
       "</table>\n",
       "</div>"
      ],
      "text/plain": [
       "  Country/Region     Cases  Deaths    PCases  PDeaths  Cases (+)  Deaths (+)  \\\n",
       "0             US  35763785  616829  35739551   616718      24234         111   \n",
       "1          India  31969954  428309  31934455   427862      35499         447   \n",
       "2         Brazil  20165672  563151  20151779   562752      13893         399   \n",
       "3         France   6371349  112407   6350899   112379      20450          28   \n",
       "4         Russia   6362641  162109   6340370   161343      22271         766   \n",
       "\n",
       "   Fatality Rate      Continent  \n",
       "0           1.72  North America  \n",
       "1           1.34           Asia  \n",
       "2           2.79  South America  \n",
       "3           1.76         Europe  \n",
       "4           2.55         Europe  "
      ]
     },
     "execution_count": 13,
     "metadata": {},
     "output_type": "execute_result"
    }
   ],
   "source": [
    "#hide\n",
    "for c in 'Cases, Deaths'.split(', '):\n",
    "    df_table[f'{c} (+)'] = (df_table[c] - df_table[f'P{c}']).clip(0)\n",
    "    #Clip ça veut dire, les chiffres negatif sont interdit\n",
    "df_table['Fatality Rate'] = (100* df_table['Deaths']/ df_table['Cases']).round(2)\n",
    "df_table['Continent'] = df_table['Country/Region'].map(mapping['map.continent'])\n",
    "df_table.head(5)"
   ]
  },
  {
   "cell_type": "code",
   "execution_count": 14,
   "id": "aboriginal-bulgaria",
   "metadata": {
    "execution": {
     "iopub.execute_input": "2021-08-09T12:10:27.258542Z",
     "iopub.status.busy": "2021-08-09T12:10:27.258016Z",
     "iopub.status.idle": "2021-08-09T12:10:27.260002Z",
     "shell.execute_reply": "2021-08-09T12:10:27.259585Z"
    },
    "papermill": {
     "duration": 0.037082,
     "end_time": "2021-08-09T12:10:27.260107",
     "exception": false,
     "start_time": "2021-08-09T12:10:27.223025",
     "status": "completed"
    },
    "tags": []
   },
   "outputs": [],
   "source": [
    "#hide\n",
    "#delete problematic countries from table\n",
    "df_table = df_table[~df_table['Country/Region'].isin(['Cape Verde', 'Cruise Ship', 'Kosovo'])]"
   ]
  },
  {
   "cell_type": "code",
   "execution_count": 15,
   "id": "fantastic-effect",
   "metadata": {
    "execution": {
     "iopub.execute_input": "2021-08-09T12:10:27.326876Z",
     "iopub.status.busy": "2021-08-09T12:10:27.326372Z",
     "iopub.status.idle": "2021-08-09T12:10:27.343571Z",
     "shell.execute_reply": "2021-08-09T12:10:27.343154Z"
    },
    "papermill": {
     "duration": 0.053816,
     "end_time": "2021-08-09T12:10:27.343676",
     "exception": false,
     "start_time": "2021-08-09T12:10:27.289860",
     "status": "completed"
    },
    "tags": []
   },
   "outputs": [
    {
     "data": {
      "text/html": [
       "<div>\n",
       "<style scoped>\n",
       "    .dataframe tbody tr th:only-of-type {\n",
       "        vertical-align: middle;\n",
       "    }\n",
       "\n",
       "    .dataframe tbody tr th {\n",
       "        vertical-align: top;\n",
       "    }\n",
       "\n",
       "    .dataframe thead th {\n",
       "        text-align: right;\n",
       "    }\n",
       "</style>\n",
       "<table border=\"1\" class=\"dataframe\">\n",
       "  <thead>\n",
       "    <tr style=\"text-align: right;\">\n",
       "      <th></th>\n",
       "      <th>Country/Region</th>\n",
       "      <th>Cases</th>\n",
       "      <th>Deaths</th>\n",
       "      <th>PCases</th>\n",
       "      <th>PDeaths</th>\n",
       "      <th>Cases (+)</th>\n",
       "      <th>Deaths (+)</th>\n",
       "      <th>Fatality Rate</th>\n",
       "      <th>Continent</th>\n",
       "    </tr>\n",
       "  </thead>\n",
       "  <tbody>\n",
       "    <tr>\n",
       "      <th>0</th>\n",
       "      <td>US</td>\n",
       "      <td>35763785</td>\n",
       "      <td>616829</td>\n",
       "      <td>35739551</td>\n",
       "      <td>616718</td>\n",
       "      <td>24234</td>\n",
       "      <td>111</td>\n",
       "      <td>1.7</td>\n",
       "      <td>North America</td>\n",
       "    </tr>\n",
       "    <tr>\n",
       "      <th>1</th>\n",
       "      <td>India</td>\n",
       "      <td>31969954</td>\n",
       "      <td>428309</td>\n",
       "      <td>31934455</td>\n",
       "      <td>427862</td>\n",
       "      <td>35499</td>\n",
       "      <td>447</td>\n",
       "      <td>1.3</td>\n",
       "      <td>Asia</td>\n",
       "    </tr>\n",
       "    <tr>\n",
       "      <th>2</th>\n",
       "      <td>Brazil</td>\n",
       "      <td>20165672</td>\n",
       "      <td>563151</td>\n",
       "      <td>20151779</td>\n",
       "      <td>562752</td>\n",
       "      <td>13893</td>\n",
       "      <td>399</td>\n",
       "      <td>2.8</td>\n",
       "      <td>South America</td>\n",
       "    </tr>\n",
       "    <tr>\n",
       "      <th>3</th>\n",
       "      <td>France</td>\n",
       "      <td>6371349</td>\n",
       "      <td>112407</td>\n",
       "      <td>6350899</td>\n",
       "      <td>112379</td>\n",
       "      <td>20450</td>\n",
       "      <td>28</td>\n",
       "      <td>1.8</td>\n",
       "      <td>Europe</td>\n",
       "    </tr>\n",
       "    <tr>\n",
       "      <th>4</th>\n",
       "      <td>Russia</td>\n",
       "      <td>6362641</td>\n",
       "      <td>162109</td>\n",
       "      <td>6340370</td>\n",
       "      <td>161343</td>\n",
       "      <td>22271</td>\n",
       "      <td>766</td>\n",
       "      <td>2.5</td>\n",
       "      <td>Europe</td>\n",
       "    </tr>\n",
       "  </tbody>\n",
       "</table>\n",
       "</div>"
      ],
      "text/plain": [
       "  Country/Region     Cases  Deaths    PCases  PDeaths  Cases (+)  Deaths (+)  \\\n",
       "0             US  35763785  616829  35739551   616718      24234         111   \n",
       "1          India  31969954  428309  31934455   427862      35499         447   \n",
       "2         Brazil  20165672  563151  20151779   562752      13893         399   \n",
       "3         France   6371349  112407   6350899   112379      20450          28   \n",
       "4         Russia   6362641  162109   6340370   161343      22271         766   \n",
       "\n",
       "   Fatality Rate      Continent  \n",
       "0            1.7  North America  \n",
       "1            1.3           Asia  \n",
       "2            2.8  South America  \n",
       "3            1.8         Europe  \n",
       "4            2.5         Europe  "
      ]
     },
     "execution_count": 15,
     "metadata": {},
     "output_type": "execute_result"
    }
   ],
   "source": [
    "#hide\n",
    "df_table = (pd.DataFrame(dict(Cases=dfc_cases, Deaths=dfc_deaths, PCases=dfp_cases, PDeaths=dfp_deaths))\n",
    "             .sort_values(by=['Cases', 'Deaths'], ascending=[False, False])\n",
    "             .reset_index())\n",
    "df_table.rename(columns={'index': 'Country/Region'}, inplace=True)\n",
    "for c in 'Cases, Deaths'.split(', '):\n",
    "    df_table[f'{c} (+)'] = (df_table[c] - df_table[f'P{c}']).clip(0)  # DATA BUG\n",
    "df_table['Fatality Rate'] = (100 * df_table['Deaths'] / df_table['Cases']).round(1)\n",
    "df_table['Continent'] = df_table['Country/Region'].map(mapping['map.continent'])\n",
    "df_table.head(5)"
   ]
  },
  {
   "cell_type": "code",
   "execution_count": 16,
   "id": "fewer-occasion",
   "metadata": {
    "execution": {
     "iopub.execute_input": "2021-08-09T12:10:27.410294Z",
     "iopub.status.busy": "2021-08-09T12:10:27.409763Z",
     "iopub.status.idle": "2021-08-09T12:10:27.411472Z",
     "shell.execute_reply": "2021-08-09T12:10:27.411869Z"
    },
    "papermill": {
     "duration": 0.037807,
     "end_time": "2021-08-09T12:10:27.411994",
     "exception": false,
     "start_time": "2021-08-09T12:10:27.374187",
     "status": "completed"
    },
    "tags": []
   },
   "outputs": [],
   "source": [
    "#hide\n",
    "#delete problematic countries from table\n",
    "df_table = df_table[~df_table['Country/Region'].isin(['Cape Verde', 'Cruise Ship', 'Kosovo'])]"
   ]
  },
  {
   "cell_type": "code",
   "execution_count": 17,
   "id": "related-center",
   "metadata": {
    "execution": {
     "iopub.execute_input": "2021-08-09T12:10:27.490341Z",
     "iopub.status.busy": "2021-08-09T12:10:27.489795Z",
     "iopub.status.idle": "2021-08-09T12:10:27.491846Z",
     "shell.execute_reply": "2021-08-09T12:10:27.491423Z"
    },
    "papermill": {
     "duration": 0.049593,
     "end_time": "2021-08-09T12:10:27.491955",
     "exception": false,
     "start_time": "2021-08-09T12:10:27.442362",
     "status": "completed"
    },
    "tags": []
   },
   "outputs": [],
   "source": [
    "#hide\n",
    "metrics = [df_table.columns[index] for index in [1,2,5,6]]\n",
    "# s_china = df_table[df_table['Country/Region'].eq('China')][metrics].sum().add_prefix('China ')\n",
    "s_us = df_table[df_table['Country/Region'].eq('US')][metrics].sum().add_prefix('US ')\n",
    "s_eu = df_table[df_table['Continent'].eq('Europe')][metrics].sum().add_prefix('EU ')\n",
    "s_ind = df_table[df_table['Country/Region'].eq('India')][metrics].sum().add_prefix('India ')\n",
    "summary = {'updated': pd.to_datetime(dt_today), 'since': pd.to_datetime(dt_yday)}\n",
    "summary = {'updated': pd.to_datetime(dt_today), 'since': pd.to_datetime(dt_yday)}\n",
    "summary = {**summary, **df_table[metrics].sum(), **s_ind, **s_us, **s_eu}"
   ]
  },
  {
   "cell_type": "code",
   "execution_count": 18,
   "id": "engaging-syndrome",
   "metadata": {
    "execution": {
     "iopub.execute_input": "2021-08-09T12:10:27.557393Z",
     "iopub.status.busy": "2021-08-09T12:10:27.556904Z",
     "iopub.status.idle": "2021-08-09T12:10:27.569966Z",
     "shell.execute_reply": "2021-08-09T12:10:27.569526Z"
    },
    "papermill": {
     "duration": 0.047703,
     "end_time": "2021-08-09T12:10:27.570078",
     "exception": false,
     "start_time": "2021-08-09T12:10:27.522375",
     "status": "completed"
    },
    "tags": []
   },
   "outputs": [],
   "source": [
    "#hide\n",
    "dft_ct_new_cases = dft_cases.groupby(COL_REGION)[dt_cols].sum().diff(axis=1).fillna(0).astype(int)"
   ]
  },
  {
   "cell_type": "code",
   "execution_count": 19,
   "id": "neutral-assignment",
   "metadata": {
    "execution": {
     "iopub.execute_input": "2021-08-09T12:10:27.637867Z",
     "iopub.status.busy": "2021-08-09T12:10:27.637342Z",
     "iopub.status.idle": "2021-08-09T12:10:27.639592Z",
     "shell.execute_reply": "2021-08-09T12:10:27.639192Z"
    },
    "papermill": {
     "duration": 0.038556,
     "end_time": "2021-08-09T12:10:27.639704",
     "exception": false,
     "start_time": "2021-08-09T12:10:27.601148",
     "status": "completed"
    },
    "tags": []
   },
   "outputs": [],
   "source": [
    "#hide\n",
    "everydaycases = dft_ct_new_cases.cumsum(axis=1)"
   ]
  },
  {
   "cell_type": "code",
   "execution_count": 20,
   "id": "parliamentary-calgary",
   "metadata": {
    "execution": {
     "iopub.execute_input": "2021-08-09T12:10:27.705106Z",
     "iopub.status.busy": "2021-08-09T12:10:27.704599Z",
     "iopub.status.idle": "2021-08-09T12:10:28.297623Z",
     "shell.execute_reply": "2021-08-09T12:10:28.297112Z"
    },
    "papermill": {
     "duration": 0.627566,
     "end_time": "2021-08-09T12:10:28.297765",
     "exception": false,
     "start_time": "2021-08-09T12:10:27.670199",
     "status": "completed"
    },
    "tags": []
   },
   "outputs": [],
   "source": [
    "#hide\n",
    "import pandas as pd\n",
    "import matplotlib.pyplot as plt\n",
    "import matplotlib.ticker as ticker\n",
    "import matplotlib.animation as animation\n",
    "from IPython.display import HTML"
   ]
  },
  {
   "cell_type": "code",
   "execution_count": 21,
   "id": "lasting-extraction",
   "metadata": {
    "execution": {
     "iopub.execute_input": "2021-08-09T12:10:28.364599Z",
     "iopub.status.busy": "2021-08-09T12:10:28.364086Z",
     "iopub.status.idle": "2021-08-09T12:10:28.369037Z",
     "shell.execute_reply": "2021-08-09T12:10:28.369479Z"
    },
    "papermill": {
     "duration": 0.040757,
     "end_time": "2021-08-09T12:10:28.369604",
     "exception": false,
     "start_time": "2021-08-09T12:10:28.328847",
     "status": "completed"
    },
    "tags": []
   },
   "outputs": [],
   "source": [
    "#hide\n",
    "t = everydaycases.stack()"
   ]
  },
  {
   "cell_type": "code",
   "execution_count": 22,
   "id": "premier-sleeve",
   "metadata": {
    "execution": {
     "iopub.execute_input": "2021-08-09T12:10:28.434192Z",
     "iopub.status.busy": "2021-08-09T12:10:28.433668Z",
     "iopub.status.idle": "2021-08-09T12:10:28.441066Z",
     "shell.execute_reply": "2021-08-09T12:10:28.441439Z"
    },
    "papermill": {
     "duration": 0.041427,
     "end_time": "2021-08-09T12:10:28.441565",
     "exception": false,
     "start_time": "2021-08-09T12:10:28.400138",
     "status": "completed"
    },
    "tags": []
   },
   "outputs": [],
   "source": [
    "#hide\n",
    "g = t.reset_index(['Country/Region'])"
   ]
  },
  {
   "cell_type": "code",
   "execution_count": 23,
   "id": "distributed-pittsburgh",
   "metadata": {
    "execution": {
     "iopub.execute_input": "2021-08-09T12:10:28.505858Z",
     "iopub.status.busy": "2021-08-09T12:10:28.505358Z",
     "iopub.status.idle": "2021-08-09T12:10:28.507699Z",
     "shell.execute_reply": "2021-08-09T12:10:28.507281Z"
    },
    "papermill": {
     "duration": 0.035973,
     "end_time": "2021-08-09T12:10:28.507804",
     "exception": false,
     "start_time": "2021-08-09T12:10:28.471831",
     "status": "completed"
    },
    "tags": []
   },
   "outputs": [],
   "source": [
    "#hide\n",
    "g.index.name = 'date'"
   ]
  },
  {
   "cell_type": "code",
   "execution_count": 24,
   "id": "naked-donor",
   "metadata": {
    "execution": {
     "iopub.execute_input": "2021-08-09T12:10:28.572063Z",
     "iopub.status.busy": "2021-08-09T12:10:28.571567Z",
     "iopub.status.idle": "2021-08-09T12:10:28.573745Z",
     "shell.execute_reply": "2021-08-09T12:10:28.573347Z"
    },
    "papermill": {
     "duration": 0.035716,
     "end_time": "2021-08-09T12:10:28.573855",
     "exception": false,
     "start_time": "2021-08-09T12:10:28.538139",
     "status": "completed"
    },
    "tags": []
   },
   "outputs": [],
   "source": [
    "# #hide\n",
    "# g = g.reset_index(['date'])"
   ]
  },
  {
   "cell_type": "code",
   "execution_count": 25,
   "id": "incomplete-mustang",
   "metadata": {
    "execution": {
     "iopub.execute_input": "2021-08-09T12:10:28.638467Z",
     "iopub.status.busy": "2021-08-09T12:10:28.637923Z",
     "iopub.status.idle": "2021-08-09T12:10:28.639587Z",
     "shell.execute_reply": "2021-08-09T12:10:28.640003Z"
    },
    "papermill": {
     "duration": 0.035615,
     "end_time": "2021-08-09T12:10:28.640124",
     "exception": false,
     "start_time": "2021-08-09T12:10:28.604509",
     "status": "completed"
    },
    "tags": []
   },
   "outputs": [],
   "source": [
    "#hide\n",
    "# g.head()"
   ]
  },
  {
   "cell_type": "code",
   "execution_count": 26,
   "id": "specific-kruger",
   "metadata": {
    "execution": {
     "iopub.execute_input": "2021-08-09T12:10:28.704576Z",
     "iopub.status.busy": "2021-08-09T12:10:28.704082Z",
     "iopub.status.idle": "2021-08-09T12:10:28.706303Z",
     "shell.execute_reply": "2021-08-09T12:10:28.705887Z"
    },
    "papermill": {
     "duration": 0.035795,
     "end_time": "2021-08-09T12:10:28.706413",
     "exception": false,
     "start_time": "2021-08-09T12:10:28.670618",
     "status": "completed"
    },
    "tags": []
   },
   "outputs": [],
   "source": [
    "#hide\n",
    "# g.columns = ['date','country','cases']"
   ]
  },
  {
   "cell_type": "code",
   "execution_count": 27,
   "id": "tender-conversion",
   "metadata": {
    "execution": {
     "iopub.execute_input": "2021-08-09T12:10:28.770329Z",
     "iopub.status.busy": "2021-08-09T12:10:28.769801Z",
     "iopub.status.idle": "2021-08-09T12:10:28.771508Z",
     "shell.execute_reply": "2021-08-09T12:10:28.771979Z"
    },
    "papermill": {
     "duration": 0.03553,
     "end_time": "2021-08-09T12:10:28.772099",
     "exception": false,
     "start_time": "2021-08-09T12:10:28.736569",
     "status": "completed"
    },
    "tags": []
   },
   "outputs": [],
   "source": [
    "#hide\n",
    "# g['continent'] = g.country"
   ]
  },
  {
   "cell_type": "code",
   "execution_count": 28,
   "id": "substantial-wilderness",
   "metadata": {
    "execution": {
     "iopub.execute_input": "2021-08-09T12:10:28.835979Z",
     "iopub.status.busy": "2021-08-09T12:10:28.835485Z",
     "iopub.status.idle": "2021-08-09T12:10:28.837709Z",
     "shell.execute_reply": "2021-08-09T12:10:28.837316Z"
    },
    "papermill": {
     "duration": 0.035359,
     "end_time": "2021-08-09T12:10:28.837816",
     "exception": false,
     "start_time": "2021-08-09T12:10:28.802457",
     "status": "completed"
    },
    "tags": []
   },
   "outputs": [],
   "source": [
    "#hide\n",
    "# cols = list(g.columns.values)"
   ]
  },
  {
   "cell_type": "code",
   "execution_count": 29,
   "id": "solved-farming",
   "metadata": {
    "execution": {
     "iopub.execute_input": "2021-08-09T12:10:28.901658Z",
     "iopub.status.busy": "2021-08-09T12:10:28.901166Z",
     "iopub.status.idle": "2021-08-09T12:10:28.903289Z",
     "shell.execute_reply": "2021-08-09T12:10:28.902896Z"
    },
    "papermill": {
     "duration": 0.035399,
     "end_time": "2021-08-09T12:10:28.903394",
     "exception": false,
     "start_time": "2021-08-09T12:10:28.867995",
     "status": "completed"
    },
    "tags": []
   },
   "outputs": [],
   "source": [
    "#hide\n",
    "# cols.insert(0, cols.pop())"
   ]
  },
  {
   "cell_type": "code",
   "execution_count": 30,
   "id": "executed-adoption",
   "metadata": {
    "execution": {
     "iopub.execute_input": "2021-08-09T12:10:28.967763Z",
     "iopub.status.busy": "2021-08-09T12:10:28.967266Z",
     "iopub.status.idle": "2021-08-09T12:10:28.969481Z",
     "shell.execute_reply": "2021-08-09T12:10:28.969086Z"
    },
    "papermill": {
     "duration": 0.035759,
     "end_time": "2021-08-09T12:10:28.969591",
     "exception": false,
     "start_time": "2021-08-09T12:10:28.933832",
     "status": "completed"
    },
    "tags": []
   },
   "outputs": [],
   "source": [
    "#hide\n",
    "# g = g[cols]"
   ]
  },
  {
   "cell_type": "code",
   "execution_count": 31,
   "id": "subject-dublin",
   "metadata": {
    "execution": {
     "iopub.execute_input": "2021-08-09T12:10:29.033751Z",
     "iopub.status.busy": "2021-08-09T12:10:29.033249Z",
     "iopub.status.idle": "2021-08-09T12:10:29.035376Z",
     "shell.execute_reply": "2021-08-09T12:10:29.034981Z"
    },
    "papermill": {
     "duration": 0.035626,
     "end_time": "2021-08-09T12:10:29.035485",
     "exception": false,
     "start_time": "2021-08-09T12:10:28.999859",
     "status": "completed"
    },
    "tags": []
   },
   "outputs": [],
   "source": [
    "#hide\n",
    "# g['continent'] = g['continent'].map(mapping['map.continent'])"
   ]
  },
  {
   "cell_type": "code",
   "execution_count": 32,
   "id": "freelance-scout",
   "metadata": {
    "execution": {
     "iopub.execute_input": "2021-08-09T12:10:29.099691Z",
     "iopub.status.busy": "2021-08-09T12:10:29.099196Z",
     "iopub.status.idle": "2021-08-09T12:10:29.101097Z",
     "shell.execute_reply": "2021-08-09T12:10:29.101513Z"
    },
    "papermill": {
     "duration": 0.035791,
     "end_time": "2021-08-09T12:10:29.101637",
     "exception": false,
     "start_time": "2021-08-09T12:10:29.065846",
     "status": "completed"
    },
    "tags": []
   },
   "outputs": [],
   "source": [
    "#hide\n",
    "# g.head()"
   ]
  },
  {
   "cell_type": "code",
   "execution_count": 33,
   "id": "limited-engine",
   "metadata": {
    "execution": {
     "iopub.execute_input": "2021-08-09T12:10:29.165641Z",
     "iopub.status.busy": "2021-08-09T12:10:29.165138Z",
     "iopub.status.idle": "2021-08-09T12:10:29.167265Z",
     "shell.execute_reply": "2021-08-09T12:10:29.166867Z"
    },
    "papermill": {
     "duration": 0.035595,
     "end_time": "2021-08-09T12:10:29.167373",
     "exception": false,
     "start_time": "2021-08-09T12:10:29.131778",
     "status": "completed"
    },
    "tags": []
   },
   "outputs": [],
   "source": [
    "# hide\n",
    "# g['date'] = g['date'].astype('datetime64[ns]')"
   ]
  },
  {
   "cell_type": "code",
   "execution_count": 34,
   "id": "sophisticated-supervisor",
   "metadata": {
    "execution": {
     "iopub.execute_input": "2021-08-09T12:10:29.232018Z",
     "iopub.status.busy": "2021-08-09T12:10:29.231515Z",
     "iopub.status.idle": "2021-08-09T12:10:29.233678Z",
     "shell.execute_reply": "2021-08-09T12:10:29.233283Z"
    },
    "papermill": {
     "duration": 0.035951,
     "end_time": "2021-08-09T12:10:29.233793",
     "exception": false,
     "start_time": "2021-08-09T12:10:29.197842",
     "status": "completed"
    },
    "tags": []
   },
   "outputs": [],
   "source": [
    "#hide\n",
    "# g['date'] = g.date.dt.dayofyear"
   ]
  },
  {
   "cell_type": "code",
   "execution_count": 35,
   "id": "inside-dubai",
   "metadata": {
    "execution": {
     "iopub.execute_input": "2021-08-09T12:10:29.298406Z",
     "iopub.status.busy": "2021-08-09T12:10:29.297856Z",
     "iopub.status.idle": "2021-08-09T12:10:29.299876Z",
     "shell.execute_reply": "2021-08-09T12:10:29.299376Z"
    },
    "papermill": {
     "duration": 0.035815,
     "end_time": "2021-08-09T12:10:29.299992",
     "exception": false,
     "start_time": "2021-08-09T12:10:29.264177",
     "status": "completed"
    },
    "tags": []
   },
   "outputs": [],
   "source": [
    "#hide\n",
    "# g = g.rename(columns= {'continent':'group','country':'name','cases':'value'})"
   ]
  },
  {
   "cell_type": "code",
   "execution_count": 36,
   "id": "fleet-motorcycle",
   "metadata": {
    "execution": {
     "iopub.execute_input": "2021-08-09T12:10:29.364450Z",
     "iopub.status.busy": "2021-08-09T12:10:29.363942Z",
     "iopub.status.idle": "2021-08-09T12:10:29.365795Z",
     "shell.execute_reply": "2021-08-09T12:10:29.366190Z"
    },
    "papermill": {
     "duration": 0.035956,
     "end_time": "2021-08-09T12:10:29.366322",
     "exception": false,
     "start_time": "2021-08-09T12:10:29.330366",
     "status": "completed"
    },
    "tags": []
   },
   "outputs": [],
   "source": [
    "#hide\n",
    "# cols = ['name','group','day','value']"
   ]
  },
  {
   "cell_type": "code",
   "execution_count": 37,
   "id": "continued-sleeping",
   "metadata": {
    "execution": {
     "iopub.execute_input": "2021-08-09T12:10:29.430476Z",
     "iopub.status.busy": "2021-08-09T12:10:29.429942Z",
     "iopub.status.idle": "2021-08-09T12:10:29.431965Z",
     "shell.execute_reply": "2021-08-09T12:10:29.431547Z"
    },
    "papermill": {
     "duration": 0.035501,
     "end_time": "2021-08-09T12:10:29.432073",
     "exception": false,
     "start_time": "2021-08-09T12:10:29.396572",
     "status": "completed"
    },
    "tags": []
   },
   "outputs": [],
   "source": [
    "#hide\n",
    "# g.rename(columns= {'date':'day'},inplace = True)"
   ]
  },
  {
   "cell_type": "code",
   "execution_count": 38,
   "id": "major-fight",
   "metadata": {
    "execution": {
     "iopub.execute_input": "2021-08-09T12:10:29.496994Z",
     "iopub.status.busy": "2021-08-09T12:10:29.496481Z",
     "iopub.status.idle": "2021-08-09T12:10:29.498312Z",
     "shell.execute_reply": "2021-08-09T12:10:29.498690Z"
    },
    "papermill": {
     "duration": 0.036101,
     "end_time": "2021-08-09T12:10:29.498822",
     "exception": false,
     "start_time": "2021-08-09T12:10:29.462721",
     "status": "completed"
    },
    "tags": []
   },
   "outputs": [],
   "source": [
    "#hide\n",
    "# g = g[cols]"
   ]
  },
  {
   "cell_type": "code",
   "execution_count": 39,
   "id": "structured-mobile",
   "metadata": {
    "execution": {
     "iopub.execute_input": "2021-08-09T12:10:29.563363Z",
     "iopub.status.busy": "2021-08-09T12:10:29.562857Z",
     "iopub.status.idle": "2021-08-09T12:10:29.564840Z",
     "shell.execute_reply": "2021-08-09T12:10:29.564422Z"
    },
    "papermill": {
     "duration": 0.035755,
     "end_time": "2021-08-09T12:10:29.564948",
     "exception": false,
     "start_time": "2021-08-09T12:10:29.529193",
     "status": "completed"
    },
    "tags": []
   },
   "outputs": [],
   "source": [
    "# #hide\n",
    "# g = g[g.group.notna()]"
   ]
  },
  {
   "cell_type": "code",
   "execution_count": 40,
   "id": "determined-closing",
   "metadata": {
    "execution": {
     "iopub.execute_input": "2021-08-09T12:10:29.629700Z",
     "iopub.status.busy": "2021-08-09T12:10:29.629195Z",
     "iopub.status.idle": "2021-08-09T12:10:29.631473Z",
     "shell.execute_reply": "2021-08-09T12:10:29.631076Z"
    },
    "papermill": {
     "duration": 0.035822,
     "end_time": "2021-08-09T12:10:29.631584",
     "exception": false,
     "start_time": "2021-08-09T12:10:29.595762",
     "status": "completed"
    },
    "tags": []
   },
   "outputs": [],
   "source": [
    "# #hide\n",
    "# colors = dict(zip(\n",
    "#     [\"Oceania\", \"Europe\", \"Asia\", \"South America\", \"Middle East\", \"North America\", \"Africa\"],\n",
    "#     [\"#adb0ff\", \"#ffb3ff\", \"#90d595\", \"#e48381\", \"#aafbff\", \"#f7bb5f\", \"#eafb50\"]\n",
    "# ))\n",
    "# group_lk = g.set_index('name')['group'].to_dict()"
   ]
  },
  {
   "cell_type": "code",
   "execution_count": null,
   "id": "gross-drinking",
   "metadata": {
    "papermill": {
     "duration": 0.030278,
     "end_time": "2021-08-09T12:10:29.692075",
     "exception": false,
     "start_time": "2021-08-09T12:10:29.661797",
     "status": "completed"
    },
    "tags": []
   },
   "outputs": [],
   "source": []
  },
  {
   "cell_type": "code",
   "execution_count": 41,
   "id": "subject-macintosh",
   "metadata": {
    "execution": {
     "iopub.execute_input": "2021-08-09T12:10:29.757251Z",
     "iopub.status.busy": "2021-08-09T12:10:29.756730Z",
     "iopub.status.idle": "2021-08-09T12:10:29.758348Z",
     "shell.execute_reply": "2021-08-09T12:10:29.758719Z"
    },
    "papermill": {
     "duration": 0.036301,
     "end_time": "2021-08-09T12:10:29.758849",
     "exception": false,
     "start_time": "2021-08-09T12:10:29.722548",
     "status": "completed"
    },
    "tags": []
   },
   "outputs": [],
   "source": [
    "# #hide\n",
    "# fig, ax = plt.subplots(figsize=(15, 8))\n",
    "\n",
    "# def draw_barchart(current_day):\n",
    "#     dff = g[g['day'].eq(current_day)].sort_values(by='value', ascending=True).tail(10)\n",
    "#     ax.clear()\n",
    "#     ax.barh(dff['name'], dff['value'], color=[colors[group_lk[x]] for x in dff['name']])\n",
    "#     dx = dff['value'].max() / 200\n",
    "    \n",
    "#     for i, (value, name) in enumerate(zip(dff['value'], dff['name'])):\n",
    "#         ax.text(value-dx, i,     name,           size=14, weight=600, ha='right', va='bottom')\n",
    "#         ax.text(value-dx, i-.25, group_lk[name], size=10, color='#444444', ha='right', va='baseline')\n",
    "#         ax.text(value+dx, i,     f'{value:,.0f}',  size=14, ha='left',  va='center')\n",
    "#     ax.text(1, 0.4, current_day, transform=ax.transAxes, color='#777777', size=46, ha='right', weight=800)\n",
    "#     ax.text(0, 1.06, 'Population (thousands)', transform=ax.transAxes, size=12, color='#777777')\n",
    "#     ax.xaxis.set_major_formatter(ticker.StrMethodFormatter('{x:,.0f}'))\n",
    "#     ax.xaxis.set_ticks_position('top')\n",
    "#     ax.tick_params(axis='x', colors='#777777', labelsize=12)\n",
    "#     ax.set_yticks([])\n",
    "#     ax.margins(0, 0.01)\n",
    "#     ax.grid(which='major', axis='x', linestyle='-')\n",
    "#     ax.set_axisbelow(True)\n",
    "    \n",
    "#     ax.text(0, 1.15, 'Coronavirus',\n",
    "#             transform=ax.transAxes, size=24, weight=600, ha='left', va='top')\n",
    "# #     ax.text(1, 0, 'by @pratapvardhan; credit @jburnmurdoch', transform=ax.transAxes, color='#777777', ha='right',\n",
    "# #             bbox=dict(facecolor='white', alpha=0.8, edgecolor='white'))\n",
    "#     plt.box(False)"
   ]
  },
  {
   "cell_type": "code",
   "execution_count": 42,
   "id": "sexual-wages",
   "metadata": {
    "execution": {
     "iopub.execute_input": "2021-08-09T12:10:29.823355Z",
     "iopub.status.busy": "2021-08-09T12:10:29.822843Z",
     "iopub.status.idle": "2021-08-09T12:10:29.825054Z",
     "shell.execute_reply": "2021-08-09T12:10:29.824653Z"
    },
    "papermill": {
     "duration": 0.035985,
     "end_time": "2021-08-09T12:10:29.825166",
     "exception": false,
     "start_time": "2021-08-09T12:10:29.789181",
     "status": "completed"
    },
    "tags": []
   },
   "outputs": [],
   "source": [
    "# #hide_input\n",
    "# fig, ax = plt.subplots(figsize=(15, 8))\n",
    "# animator = animation.FuncAnimation(fig, draw_barchart, frames=range(g.day.values.min(), g.day.values.max()))\n",
    "# HTML(animator.to_jshtml())\n",
    "# # or use animator.to_html5_video() or animator.save() "
   ]
  },
  {
   "cell_type": "code",
   "execution_count": null,
   "id": "australian-container",
   "metadata": {
    "papermill": {
     "duration": 0.030267,
     "end_time": "2021-08-09T12:10:29.885883",
     "exception": false,
     "start_time": "2021-08-09T12:10:29.855616",
     "status": "completed"
    },
    "tags": []
   },
   "outputs": [],
   "source": []
  },
  {
   "cell_type": "code",
   "execution_count": null,
   "id": "mediterranean-pontiac",
   "metadata": {
    "papermill": {
     "duration": 0.030282,
     "end_time": "2021-08-09T12:10:29.946391",
     "exception": false,
     "start_time": "2021-08-09T12:10:29.916109",
     "status": "completed"
    },
    "tags": []
   },
   "outputs": [],
   "source": []
  },
  {
   "cell_type": "code",
   "execution_count": null,
   "id": "aging-legislature",
   "metadata": {
    "papermill": {
     "duration": 0.030246,
     "end_time": "2021-08-09T12:10:30.007186",
     "exception": false,
     "start_time": "2021-08-09T12:10:29.976940",
     "status": "completed"
    },
    "tags": []
   },
   "outputs": [],
   "source": []
  }
 ],
 "metadata": {
  "kernelspec": {
   "display_name": "Python 3",
   "language": "python",
   "name": "python3"
  },
  "language_info": {
   "codemirror_mode": {
    "name": "ipython",
    "version": 3
   },
   "file_extension": ".py",
   "mimetype": "text/x-python",
   "name": "python",
   "nbconvert_exporter": "python",
   "pygments_lexer": "ipython3",
   "version": "3.6.14"
  },
  "papermill": {
   "duration": 6.061688,
   "end_time": "2021-08-09T12:10:30.345281",
   "environment_variables": {},
   "exception": null,
   "input_path": "2020-03-21-covid19exp.ipynb",
   "output_path": "2020-03-21-covid19exp.ipynb",
   "parameters": {},
   "start_time": "2021-08-09T12:10:24.283593",
   "version": "2.0.0"
  }
 },
 "nbformat": 4,
 "nbformat_minor": 5
}