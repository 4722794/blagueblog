{
 "cells": [
  {
   "cell_type": "markdown",
   "id": "muslim-click",
   "metadata": {
    "papermill": {
     "duration": 0.030788,
     "end_time": "2022-01-13T12:13:34.166569",
     "exception": false,
     "start_time": "2022-01-13T12:13:34.135781",
     "status": "completed"
    },
    "tags": []
   },
   "source": [
    "# COVID-19 Case Race\n",
    "> A race chart to see rising cases around the world\n",
    "\n",
    "- author: Hargun Oberoi\n",
    "- image: images/covid-overview.png\n",
    "- hide: false\n",
    "- badges: false"
   ]
  },
  {
   "cell_type": "code",
   "execution_count": 1,
   "id": "proof-material",
   "metadata": {
    "execution": {
     "iopub.execute_input": "2022-01-13T12:13:34.232869Z",
     "iopub.status.busy": "2022-01-13T12:13:34.232344Z",
     "iopub.status.idle": "2022-01-13T12:13:34.556472Z",
     "shell.execute_reply": "2022-01-13T12:13:34.555986Z"
    },
    "papermill": {
     "duration": 0.362689,
     "end_time": "2022-01-13T12:13:34.556612",
     "exception": false,
     "start_time": "2022-01-13T12:13:34.193923",
     "status": "completed"
    },
    "tags": []
   },
   "outputs": [],
   "source": [
    "#hide\n",
    "import numpy as np\n",
    "import pandas as pd\n",
    "from jinja2 import Template\n",
    "from IPython.display import HTML"
   ]
  },
  {
   "cell_type": "code",
   "execution_count": 2,
   "id": "developed-terminology",
   "metadata": {
    "execution": {
     "iopub.execute_input": "2022-01-13T12:13:34.616802Z",
     "iopub.status.busy": "2022-01-13T12:13:34.616170Z",
     "iopub.status.idle": "2022-01-13T12:13:34.617339Z",
     "shell.execute_reply": "2022-01-13T12:13:34.617780Z"
    },
    "papermill": {
     "duration": 0.0341,
     "end_time": "2022-01-13T12:13:34.617913",
     "exception": false,
     "start_time": "2022-01-13T12:13:34.583813",
     "status": "completed"
    },
    "tags": []
   },
   "outputs": [],
   "source": [
    "#hide\n",
    "\n",
    "# FETCH\n",
    "base_url = 'https://raw.githubusercontent.com/pratapvardhan/notebooks/master/covid19/'\n",
    "paths = {\n",
    "    'mapping': base_url + 'mapping_countries.csv',\n",
    "    'overview': base_url + 'overview.tpl'\n",
    "}"
   ]
  },
  {
   "cell_type": "code",
   "execution_count": 3,
   "id": "dynamic-saver",
   "metadata": {
    "execution": {
     "iopub.execute_input": "2022-01-13T12:13:34.681773Z",
     "iopub.status.busy": "2022-01-13T12:13:34.681273Z",
     "iopub.status.idle": "2022-01-13T12:13:34.683884Z",
     "shell.execute_reply": "2022-01-13T12:13:34.683474Z"
    },
    "papermill": {
     "duration": 0.039085,
     "end_time": "2022-01-13T12:13:34.684001",
     "exception": false,
     "start_time": "2022-01-13T12:13:34.644916",
     "status": "completed"
    },
    "tags": []
   },
   "outputs": [
    {
     "data": {
      "text/plain": [
       "'https://raw.githubusercontent.com/pratapvardhan/notebooks/master/covid19/mapping_countries.csv'"
      ]
     },
     "execution_count": 3,
     "metadata": {},
     "output_type": "execute_result"
    }
   ],
   "source": [
    "#hide\n",
    "paths['mapping']"
   ]
  },
  {
   "cell_type": "code",
   "execution_count": 4,
   "id": "urban-software",
   "metadata": {
    "execution": {
     "iopub.execute_input": "2022-01-13T12:13:34.743921Z",
     "iopub.status.busy": "2022-01-13T12:13:34.743390Z",
     "iopub.status.idle": "2022-01-13T12:13:34.747163Z",
     "shell.execute_reply": "2022-01-13T12:13:34.746744Z"
    },
    "papermill": {
     "duration": 0.035841,
     "end_time": "2022-01-13T12:13:34.747279",
     "exception": false,
     "start_time": "2022-01-13T12:13:34.711438",
     "status": "completed"
    },
    "tags": []
   },
   "outputs": [],
   "source": [
    "#hide\n",
    "def get_mappings(url):\n",
    "    df = pd.read_csv(url)\n",
    "    return {\n",
    "        'df': df,\n",
    "        'replace.country': dict(df.dropna(subset=['Name']).set_index('Country')['Name']),\n",
    "        'map.continent': dict(df.set_index('Name')['Continent'])\n",
    "    }"
   ]
  },
  {
   "cell_type": "code",
   "execution_count": 5,
   "id": "intimate-machinery",
   "metadata": {
    "execution": {
     "iopub.execute_input": "2022-01-13T12:13:34.807150Z",
     "iopub.status.busy": "2022-01-13T12:13:34.806664Z",
     "iopub.status.idle": "2022-01-13T12:13:34.834950Z",
     "shell.execute_reply": "2022-01-13T12:13:34.834408Z"
    },
    "papermill": {
     "duration": 0.060753,
     "end_time": "2022-01-13T12:13:34.835099",
     "exception": false,
     "start_time": "2022-01-13T12:13:34.774346",
     "status": "completed"
    },
    "tags": []
   },
   "outputs": [],
   "source": [
    "#hide\n",
    "mapping = get_mappings(paths['mapping'])"
   ]
  },
  {
   "cell_type": "code",
   "execution_count": 6,
   "id": "certified-tactics",
   "metadata": {
    "execution": {
     "iopub.execute_input": "2022-01-13T12:13:34.895982Z",
     "iopub.status.busy": "2022-01-13T12:13:34.895449Z",
     "iopub.status.idle": "2022-01-13T12:13:34.897246Z",
     "shell.execute_reply": "2022-01-13T12:13:34.897688Z"
    },
    "papermill": {
     "duration": 0.034256,
     "end_time": "2022-01-13T12:13:34.897828",
     "exception": false,
     "start_time": "2022-01-13T12:13:34.863572",
     "status": "completed"
    },
    "tags": []
   },
   "outputs": [],
   "source": [
    "#hide\n",
    "def get_template(path):\n",
    "    from urllib.parse import urlparse\n",
    "    if bool(urlparse(path).netloc):\n",
    "        from urllib.request import urlopen\n",
    "        return urlopen(path).read().decode('utf8')\n",
    "    return open(path).read()"
   ]
  },
  {
   "cell_type": "code",
   "execution_count": 7,
   "id": "realistic-blast",
   "metadata": {
    "execution": {
     "iopub.execute_input": "2022-01-13T12:13:34.957225Z",
     "iopub.status.busy": "2022-01-13T12:13:34.956653Z",
     "iopub.status.idle": "2022-01-13T12:13:34.958444Z",
     "shell.execute_reply": "2022-01-13T12:13:34.958819Z"
    },
    "papermill": {
     "duration": 0.03402,
     "end_time": "2022-01-13T12:13:34.958958",
     "exception": false,
     "start_time": "2022-01-13T12:13:34.924938",
     "status": "completed"
    },
    "tags": []
   },
   "outputs": [],
   "source": [
    "#hide\n",
    "def get_frame(name):\n",
    "    url = (\n",
    "        'https://raw.githubusercontent.com/CSSEGISandData/COVID-19/master/csse_covid_19_data/'\n",
    "        f'csse_covid_19_time_series/time_series_covid19_{name}_global.csv')\n",
    "    df = pd.read_csv(url)\n",
    "    # rename countries\n",
    "    df['Country/Region'] = df['Country/Region'].replace(mapping['replace.country'])\n",
    "    return df"
   ]
  },
  {
   "cell_type": "code",
   "execution_count": 8,
   "id": "affiliated-characterization",
   "metadata": {
    "execution": {
     "iopub.execute_input": "2022-01-13T12:13:35.019573Z",
     "iopub.status.busy": "2022-01-13T12:13:35.019034Z",
     "iopub.status.idle": "2022-01-13T12:13:35.022391Z",
     "shell.execute_reply": "2022-01-13T12:13:35.022777Z"
    },
    "papermill": {
     "duration": 0.036712,
     "end_time": "2022-01-13T12:13:35.022926",
     "exception": false,
     "start_time": "2022-01-13T12:13:34.986214",
     "status": "completed"
    },
    "tags": []
   },
   "outputs": [],
   "source": [
    "#hide\n",
    "def get_dates(df):\n",
    "    dt_cols = df.columns[~df.columns.isin(['Province/State', 'Country/Region', 'Lat', 'Long'])]\n",
    "    LAST_DATE_I = -1\n",
    "    # sometimes last column may be empty, then go backwards\n",
    "    for i in range(-1, -len(dt_cols), -1):\n",
    "        if not df[dt_cols[i]].fillna(0).eq(0).all():\n",
    "            LAST_DATE_I = i\n",
    "            break\n",
    "    return LAST_DATE_I, dt_cols"
   ]
  },
  {
   "cell_type": "code",
   "execution_count": 9,
   "id": "recent-optimization",
   "metadata": {
    "execution": {
     "iopub.execute_input": "2022-01-13T12:13:35.082242Z",
     "iopub.status.busy": "2022-01-13T12:13:35.081750Z",
     "iopub.status.idle": "2022-01-13T12:13:35.379956Z",
     "shell.execute_reply": "2022-01-13T12:13:35.379495Z"
    },
    "papermill": {
     "duration": 0.330064,
     "end_time": "2022-01-13T12:13:35.380076",
     "exception": false,
     "start_time": "2022-01-13T12:13:35.050012",
     "status": "completed"
    },
    "tags": []
   },
   "outputs": [],
   "source": [
    "#hide\n",
    "COL_REGION = 'Country/Region'\n",
    "# Confirmed, Recovered, Deaths\n",
    "df = get_frame('confirmed')\n",
    "# dft_: timeseries, dfc_: today country agg\n",
    "dft_cases = df\n",
    "dft_deaths = get_frame('deaths')\n",
    "dft_recovered = get_frame('recovered')\n",
    "LAST_DATE_I, dt_cols = get_dates(df)"
   ]
  },
  {
   "cell_type": "code",
   "execution_count": 10,
   "id": "absolute-copper",
   "metadata": {
    "execution": {
     "iopub.execute_input": "2022-01-13T12:13:35.439716Z",
     "iopub.status.busy": "2022-01-13T12:13:35.439219Z",
     "iopub.status.idle": "2022-01-13T12:13:35.443043Z",
     "shell.execute_reply": "2022-01-13T12:13:35.442641Z"
    },
    "papermill": {
     "duration": 0.03597,
     "end_time": "2022-01-13T12:13:35.443161",
     "exception": false,
     "start_time": "2022-01-13T12:13:35.407191",
     "status": "completed"
    },
    "tags": []
   },
   "outputs": [],
   "source": [
    "#hide\n",
    "LAST_DATE_I, dt_cols = get_dates(df)\n",
    "dt_today =dt_cols[LAST_DATE_I]\n",
    "# dt_5day = dt_cols[LAST_DATE_I - 5]\n",
    "dt_yday = dt_cols[LAST_DATE_I - 1]"
   ]
  },
  {
   "cell_type": "code",
   "execution_count": 11,
   "id": "restricted-sheriff",
   "metadata": {
    "execution": {
     "iopub.execute_input": "2022-01-13T12:13:35.505809Z",
     "iopub.status.busy": "2022-01-13T12:13:35.505273Z",
     "iopub.status.idle": "2022-01-13T12:13:35.509851Z",
     "shell.execute_reply": "2022-01-13T12:13:35.509449Z"
    },
    "papermill": {
     "duration": 0.039696,
     "end_time": "2022-01-13T12:13:35.509974",
     "exception": false,
     "start_time": "2022-01-13T12:13:35.470278",
     "status": "completed"
    },
    "tags": []
   },
   "outputs": [],
   "source": [
    "#hide\n",
    "dfc_cases = dft_cases.groupby(COL_REGION)[dt_today].sum()\n",
    "dfc_deaths = dft_deaths.groupby(COL_REGION)[dt_today].sum()\n",
    "# dfp_cases = dft_cases.groupby(COL_REGION)[dt_5day].sum()\n",
    "# dfp_deaths = dft_deaths.groupby(COL_REGION)[dt_5day].sum()\n",
    "dfp_cases = dft_cases.groupby(COL_REGION)[dt_yday].sum()\n",
    "dfp_deaths = dft_deaths.groupby(COL_REGION)[dt_yday].sum()"
   ]
  },
  {
   "cell_type": "code",
   "execution_count": 12,
   "id": "deluxe-hepatitis",
   "metadata": {
    "execution": {
     "iopub.execute_input": "2022-01-13T12:13:35.570231Z",
     "iopub.status.busy": "2022-01-13T12:13:35.569749Z",
     "iopub.status.idle": "2022-01-13T12:13:35.573743Z",
     "shell.execute_reply": "2022-01-13T12:13:35.574122Z"
    },
    "papermill": {
     "duration": 0.037052,
     "end_time": "2022-01-13T12:13:35.574259",
     "exception": false,
     "start_time": "2022-01-13T12:13:35.537207",
     "status": "completed"
    },
    "tags": []
   },
   "outputs": [],
   "source": [
    "#hide\n",
    "df_table = (pd.DataFrame(dict(Cases = dfc_cases, Deaths = dfc_deaths, PCases = dfp_cases, PDeaths = dfp_deaths))\n",
    "            .sort_values(by = ['Cases','Deaths'], ascending = [False, False])\n",
    "            .reset_index())"
   ]
  },
  {
   "cell_type": "code",
   "execution_count": 13,
   "id": "educational-chancellor",
   "metadata": {
    "execution": {
     "iopub.execute_input": "2022-01-13T12:13:35.646577Z",
     "iopub.status.busy": "2022-01-13T12:13:35.642218Z",
     "iopub.status.idle": "2022-01-13T12:13:35.653734Z",
     "shell.execute_reply": "2022-01-13T12:13:35.653349Z"
    },
    "papermill": {
     "duration": 0.052367,
     "end_time": "2022-01-13T12:13:35.653848",
     "exception": false,
     "start_time": "2022-01-13T12:13:35.601481",
     "status": "completed"
    },
    "tags": []
   },
   "outputs": [
    {
     "data": {
      "text/html": [
       "<div>\n",
       "<style scoped>\n",
       "    .dataframe tbody tr th:only-of-type {\n",
       "        vertical-align: middle;\n",
       "    }\n",
       "\n",
       "    .dataframe tbody tr th {\n",
       "        vertical-align: top;\n",
       "    }\n",
       "\n",
       "    .dataframe thead th {\n",
       "        text-align: right;\n",
       "    }\n",
       "</style>\n",
       "<table border=\"1\" class=\"dataframe\">\n",
       "  <thead>\n",
       "    <tr style=\"text-align: right;\">\n",
       "      <th></th>\n",
       "      <th>Country/Region</th>\n",
       "      <th>Cases</th>\n",
       "      <th>Deaths</th>\n",
       "      <th>PCases</th>\n",
       "      <th>PDeaths</th>\n",
       "      <th>Cases (+)</th>\n",
       "      <th>Deaths (+)</th>\n",
       "      <th>Fatality Rate</th>\n",
       "      <th>Continent</th>\n",
       "    </tr>\n",
       "  </thead>\n",
       "  <tbody>\n",
       "    <tr>\n",
       "      <th>0</th>\n",
       "      <td>US</td>\n",
       "      <td>63203443</td>\n",
       "      <td>844562</td>\n",
       "      <td>62308472</td>\n",
       "      <td>842141</td>\n",
       "      <td>894971</td>\n",
       "      <td>2421</td>\n",
       "      <td>1.34</td>\n",
       "      <td>North America</td>\n",
       "    </tr>\n",
       "    <tr>\n",
       "      <th>1</th>\n",
       "      <td>India</td>\n",
       "      <td>36317927</td>\n",
       "      <td>485035</td>\n",
       "      <td>35875790</td>\n",
       "      <td>484213</td>\n",
       "      <td>442137</td>\n",
       "      <td>822</td>\n",
       "      <td>1.34</td>\n",
       "      <td>Asia</td>\n",
       "    </tr>\n",
       "    <tr>\n",
       "      <th>2</th>\n",
       "      <td>Brazil</td>\n",
       "      <td>22724232</td>\n",
       "      <td>620641</td>\n",
       "      <td>22636359</td>\n",
       "      <td>620507</td>\n",
       "      <td>87873</td>\n",
       "      <td>134</td>\n",
       "      <td>2.73</td>\n",
       "      <td>South America</td>\n",
       "    </tr>\n",
       "    <tr>\n",
       "      <th>3</th>\n",
       "      <td>United Kingdom</td>\n",
       "      <td>14958196</td>\n",
       "      <td>151496</td>\n",
       "      <td>14826336</td>\n",
       "      <td>151093</td>\n",
       "      <td>131860</td>\n",
       "      <td>403</td>\n",
       "      <td>1.01</td>\n",
       "      <td>Europe</td>\n",
       "    </tr>\n",
       "    <tr>\n",
       "      <th>4</th>\n",
       "      <td>France</td>\n",
       "      <td>13042665</td>\n",
       "      <td>127294</td>\n",
       "      <td>12680780</td>\n",
       "      <td>127048</td>\n",
       "      <td>361885</td>\n",
       "      <td>246</td>\n",
       "      <td>0.98</td>\n",
       "      <td>Europe</td>\n",
       "    </tr>\n",
       "  </tbody>\n",
       "</table>\n",
       "</div>"
      ],
      "text/plain": [
       "   Country/Region     Cases  Deaths    PCases  PDeaths  Cases (+)  Deaths (+)  \\\n",
       "0              US  63203443  844562  62308472   842141     894971        2421   \n",
       "1           India  36317927  485035  35875790   484213     442137         822   \n",
       "2          Brazil  22724232  620641  22636359   620507      87873         134   \n",
       "3  United Kingdom  14958196  151496  14826336   151093     131860         403   \n",
       "4          France  13042665  127294  12680780   127048     361885         246   \n",
       "\n",
       "   Fatality Rate      Continent  \n",
       "0           1.34  North America  \n",
       "1           1.34           Asia  \n",
       "2           2.73  South America  \n",
       "3           1.01         Europe  \n",
       "4           0.98         Europe  "
      ]
     },
     "execution_count": 13,
     "metadata": {},
     "output_type": "execute_result"
    }
   ],
   "source": [
    "#hide\n",
    "for c in 'Cases, Deaths'.split(', '):\n",
    "    df_table[f'{c} (+)'] = (df_table[c] - df_table[f'P{c}']).clip(0)\n",
    "    #Clip ça veut dire, les chiffres negatif sont interdit\n",
    "df_table['Fatality Rate'] = (100* df_table['Deaths']/ df_table['Cases']).round(2)\n",
    "df_table['Continent'] = df_table['Country/Region'].map(mapping['map.continent'])\n",
    "df_table.head(5)"
   ]
  },
  {
   "cell_type": "code",
   "execution_count": 14,
   "id": "aboriginal-bulgaria",
   "metadata": {
    "execution": {
     "iopub.execute_input": "2022-01-13T12:13:35.715430Z",
     "iopub.status.busy": "2022-01-13T12:13:35.714804Z",
     "iopub.status.idle": "2022-01-13T12:13:35.718539Z",
     "shell.execute_reply": "2022-01-13T12:13:35.718994Z"
    },
    "papermill": {
     "duration": 0.03778,
     "end_time": "2022-01-13T12:13:35.719146",
     "exception": false,
     "start_time": "2022-01-13T12:13:35.681366",
     "status": "completed"
    },
    "tags": []
   },
   "outputs": [],
   "source": [
    "#hide\n",
    "#delete problematic countries from table\n",
    "df_table = df_table[~df_table['Country/Region'].isin(['Cape Verde', 'Cruise Ship', 'Kosovo'])]"
   ]
  },
  {
   "cell_type": "code",
   "execution_count": 15,
   "id": "fantastic-effect",
   "metadata": {
    "execution": {
     "iopub.execute_input": "2022-01-13T12:13:35.783371Z",
     "iopub.status.busy": "2022-01-13T12:13:35.782854Z",
     "iopub.status.idle": "2022-01-13T12:13:35.800919Z",
     "shell.execute_reply": "2022-01-13T12:13:35.800392Z"
    },
    "papermill": {
     "duration": 0.054708,
     "end_time": "2022-01-13T12:13:35.801049",
     "exception": false,
     "start_time": "2022-01-13T12:13:35.746341",
     "status": "completed"
    },
    "tags": []
   },
   "outputs": [
    {
     "data": {
      "text/html": [
       "<div>\n",
       "<style scoped>\n",
       "    .dataframe tbody tr th:only-of-type {\n",
       "        vertical-align: middle;\n",
       "    }\n",
       "\n",
       "    .dataframe tbody tr th {\n",
       "        vertical-align: top;\n",
       "    }\n",
       "\n",
       "    .dataframe thead th {\n",
       "        text-align: right;\n",
       "    }\n",
       "</style>\n",
       "<table border=\"1\" class=\"dataframe\">\n",
       "  <thead>\n",
       "    <tr style=\"text-align: right;\">\n",
       "      <th></th>\n",
       "      <th>Country/Region</th>\n",
       "      <th>Cases</th>\n",
       "      <th>Deaths</th>\n",
       "      <th>PCases</th>\n",
       "      <th>PDeaths</th>\n",
       "      <th>Cases (+)</th>\n",
       "      <th>Deaths (+)</th>\n",
       "      <th>Fatality Rate</th>\n",
       "      <th>Continent</th>\n",
       "    </tr>\n",
       "  </thead>\n",
       "  <tbody>\n",
       "    <tr>\n",
       "      <th>0</th>\n",
       "      <td>US</td>\n",
       "      <td>63203443</td>\n",
       "      <td>844562</td>\n",
       "      <td>62308472</td>\n",
       "      <td>842141</td>\n",
       "      <td>894971</td>\n",
       "      <td>2421</td>\n",
       "      <td>1.3</td>\n",
       "      <td>North America</td>\n",
       "    </tr>\n",
       "    <tr>\n",
       "      <th>1</th>\n",
       "      <td>India</td>\n",
       "      <td>36317927</td>\n",
       "      <td>485035</td>\n",
       "      <td>35875790</td>\n",
       "      <td>484213</td>\n",
       "      <td>442137</td>\n",
       "      <td>822</td>\n",
       "      <td>1.3</td>\n",
       "      <td>Asia</td>\n",
       "    </tr>\n",
       "    <tr>\n",
       "      <th>2</th>\n",
       "      <td>Brazil</td>\n",
       "      <td>22724232</td>\n",
       "      <td>620641</td>\n",
       "      <td>22636359</td>\n",
       "      <td>620507</td>\n",
       "      <td>87873</td>\n",
       "      <td>134</td>\n",
       "      <td>2.7</td>\n",
       "      <td>South America</td>\n",
       "    </tr>\n",
       "    <tr>\n",
       "      <th>3</th>\n",
       "      <td>United Kingdom</td>\n",
       "      <td>14958196</td>\n",
       "      <td>151496</td>\n",
       "      <td>14826336</td>\n",
       "      <td>151093</td>\n",
       "      <td>131860</td>\n",
       "      <td>403</td>\n",
       "      <td>1.0</td>\n",
       "      <td>Europe</td>\n",
       "    </tr>\n",
       "    <tr>\n",
       "      <th>4</th>\n",
       "      <td>France</td>\n",
       "      <td>13042665</td>\n",
       "      <td>127294</td>\n",
       "      <td>12680780</td>\n",
       "      <td>127048</td>\n",
       "      <td>361885</td>\n",
       "      <td>246</td>\n",
       "      <td>1.0</td>\n",
       "      <td>Europe</td>\n",
       "    </tr>\n",
       "  </tbody>\n",
       "</table>\n",
       "</div>"
      ],
      "text/plain": [
       "   Country/Region     Cases  Deaths    PCases  PDeaths  Cases (+)  Deaths (+)  \\\n",
       "0              US  63203443  844562  62308472   842141     894971        2421   \n",
       "1           India  36317927  485035  35875790   484213     442137         822   \n",
       "2          Brazil  22724232  620641  22636359   620507      87873         134   \n",
       "3  United Kingdom  14958196  151496  14826336   151093     131860         403   \n",
       "4          France  13042665  127294  12680780   127048     361885         246   \n",
       "\n",
       "   Fatality Rate      Continent  \n",
       "0            1.3  North America  \n",
       "1            1.3           Asia  \n",
       "2            2.7  South America  \n",
       "3            1.0         Europe  \n",
       "4            1.0         Europe  "
      ]
     },
     "execution_count": 15,
     "metadata": {},
     "output_type": "execute_result"
    }
   ],
   "source": [
    "#hide\n",
    "df_table = (pd.DataFrame(dict(Cases=dfc_cases, Deaths=dfc_deaths, PCases=dfp_cases, PDeaths=dfp_deaths))\n",
    "             .sort_values(by=['Cases', 'Deaths'], ascending=[False, False])\n",
    "             .reset_index())\n",
    "df_table.rename(columns={'index': 'Country/Region'}, inplace=True)\n",
    "for c in 'Cases, Deaths'.split(', '):\n",
    "    df_table[f'{c} (+)'] = (df_table[c] - df_table[f'P{c}']).clip(0)  # DATA BUG\n",
    "df_table['Fatality Rate'] = (100 * df_table['Deaths'] / df_table['Cases']).round(1)\n",
    "df_table['Continent'] = df_table['Country/Region'].map(mapping['map.continent'])\n",
    "df_table.head(5)"
   ]
  },
  {
   "cell_type": "code",
   "execution_count": 16,
   "id": "fewer-occasion",
   "metadata": {
    "execution": {
     "iopub.execute_input": "2022-01-13T12:13:35.863515Z",
     "iopub.status.busy": "2022-01-13T12:13:35.863035Z",
     "iopub.status.idle": "2022-01-13T12:13:35.864988Z",
     "shell.execute_reply": "2022-01-13T12:13:35.865349Z"
    },
    "papermill": {
     "duration": 0.036319,
     "end_time": "2022-01-13T12:13:35.865482",
     "exception": false,
     "start_time": "2022-01-13T12:13:35.829163",
     "status": "completed"
    },
    "tags": []
   },
   "outputs": [],
   "source": [
    "#hide\n",
    "#delete problematic countries from table\n",
    "df_table = df_table[~df_table['Country/Region'].isin(['Cape Verde', 'Cruise Ship', 'Kosovo'])]"
   ]
  },
  {
   "cell_type": "code",
   "execution_count": 17,
   "id": "related-center",
   "metadata": {
    "execution": {
     "iopub.execute_input": "2022-01-13T12:13:35.927898Z",
     "iopub.status.busy": "2022-01-13T12:13:35.927393Z",
     "iopub.status.idle": "2022-01-13T12:13:35.940123Z",
     "shell.execute_reply": "2022-01-13T12:13:35.939717Z"
    },
    "papermill": {
     "duration": 0.046771,
     "end_time": "2022-01-13T12:13:35.940240",
     "exception": false,
     "start_time": "2022-01-13T12:13:35.893469",
     "status": "completed"
    },
    "tags": []
   },
   "outputs": [],
   "source": [
    "#hide\n",
    "metrics = [df_table.columns[index] for index in [1,2,5,6]]\n",
    "# s_china = df_table[df_table['Country/Region'].eq('China')][metrics].sum().add_prefix('China ')\n",
    "s_us = df_table[df_table['Country/Region'].eq('US')][metrics].sum().add_prefix('US ')\n",
    "s_eu = df_table[df_table['Continent'].eq('Europe')][metrics].sum().add_prefix('EU ')\n",
    "s_ind = df_table[df_table['Country/Region'].eq('India')][metrics].sum().add_prefix('India ')\n",
    "summary = {'updated': pd.to_datetime(dt_today), 'since': pd.to_datetime(dt_yday)}\n",
    "summary = {'updated': pd.to_datetime(dt_today), 'since': pd.to_datetime(dt_yday)}\n",
    "summary = {**summary, **df_table[metrics].sum(), **s_ind, **s_us, **s_eu}"
   ]
  },
  {
   "cell_type": "code",
   "execution_count": 18,
   "id": "engaging-syndrome",
   "metadata": {
    "execution": {
     "iopub.execute_input": "2022-01-13T12:13:36.004505Z",
     "iopub.status.busy": "2022-01-13T12:13:36.000761Z",
     "iopub.status.idle": "2022-01-13T12:13:36.016010Z",
     "shell.execute_reply": "2022-01-13T12:13:36.016399Z"
    },
    "papermill": {
     "duration": 0.048238,
     "end_time": "2022-01-13T12:13:36.016540",
     "exception": false,
     "start_time": "2022-01-13T12:13:35.968302",
     "status": "completed"
    },
    "tags": []
   },
   "outputs": [],
   "source": [
    "#hide\n",
    "dft_ct_new_cases = dft_cases.groupby(COL_REGION)[dt_cols].sum().diff(axis=1).fillna(0).astype(int)"
   ]
  },
  {
   "cell_type": "code",
   "execution_count": 19,
   "id": "neutral-assignment",
   "metadata": {
    "execution": {
     "iopub.execute_input": "2022-01-13T12:13:36.079066Z",
     "iopub.status.busy": "2022-01-13T12:13:36.078530Z",
     "iopub.status.idle": "2022-01-13T12:13:36.080278Z",
     "shell.execute_reply": "2022-01-13T12:13:36.080668Z"
    },
    "papermill": {
     "duration": 0.036222,
     "end_time": "2022-01-13T12:13:36.080812",
     "exception": false,
     "start_time": "2022-01-13T12:13:36.044590",
     "status": "completed"
    },
    "tags": []
   },
   "outputs": [],
   "source": [
    "#hide\n",
    "everydaycases = dft_ct_new_cases.cumsum(axis=1)"
   ]
  },
  {
   "cell_type": "code",
   "execution_count": 20,
   "id": "parliamentary-calgary",
   "metadata": {
    "execution": {
     "iopub.execute_input": "2022-01-13T12:13:36.141276Z",
     "iopub.status.busy": "2022-01-13T12:13:36.140754Z",
     "iopub.status.idle": "2022-01-13T12:13:36.781855Z",
     "shell.execute_reply": "2022-01-13T12:13:36.781413Z"
    },
    "papermill": {
     "duration": 0.673283,
     "end_time": "2022-01-13T12:13:36.781979",
     "exception": false,
     "start_time": "2022-01-13T12:13:36.108696",
     "status": "completed"
    },
    "tags": []
   },
   "outputs": [],
   "source": [
    "#hide\n",
    "import pandas as pd\n",
    "import matplotlib.pyplot as plt\n",
    "import matplotlib.ticker as ticker\n",
    "import matplotlib.animation as animation\n",
    "from IPython.display import HTML"
   ]
  },
  {
   "cell_type": "code",
   "execution_count": 21,
   "id": "lasting-extraction",
   "metadata": {
    "execution": {
     "iopub.execute_input": "2022-01-13T12:13:36.844059Z",
     "iopub.status.busy": "2022-01-13T12:13:36.843565Z",
     "iopub.status.idle": "2022-01-13T12:13:36.849232Z",
     "shell.execute_reply": "2022-01-13T12:13:36.849587Z"
    },
    "papermill": {
     "duration": 0.039878,
     "end_time": "2022-01-13T12:13:36.849729",
     "exception": false,
     "start_time": "2022-01-13T12:13:36.809851",
     "status": "completed"
    },
    "tags": []
   },
   "outputs": [],
   "source": [
    "#hide\n",
    "t = everydaycases.stack()"
   ]
  },
  {
   "cell_type": "code",
   "execution_count": 22,
   "id": "premier-sleeve",
   "metadata": {
    "execution": {
     "iopub.execute_input": "2022-01-13T12:13:36.910060Z",
     "iopub.status.busy": "2022-01-13T12:13:36.909588Z",
     "iopub.status.idle": "2022-01-13T12:13:36.919703Z",
     "shell.execute_reply": "2022-01-13T12:13:36.919316Z"
    },
    "papermill": {
     "duration": 0.042049,
     "end_time": "2022-01-13T12:13:36.919821",
     "exception": false,
     "start_time": "2022-01-13T12:13:36.877772",
     "status": "completed"
    },
    "tags": []
   },
   "outputs": [],
   "source": [
    "#hide\n",
    "g = t.reset_index(['Country/Region'])"
   ]
  },
  {
   "cell_type": "code",
   "execution_count": 23,
   "id": "distributed-pittsburgh",
   "metadata": {
    "execution": {
     "iopub.execute_input": "2022-01-13T12:13:36.979870Z",
     "iopub.status.busy": "2022-01-13T12:13:36.979364Z",
     "iopub.status.idle": "2022-01-13T12:13:36.983116Z",
     "shell.execute_reply": "2022-01-13T12:13:36.982726Z"
    },
    "papermill": {
     "duration": 0.035461,
     "end_time": "2022-01-13T12:13:36.983236",
     "exception": false,
     "start_time": "2022-01-13T12:13:36.947775",
     "status": "completed"
    },
    "tags": []
   },
   "outputs": [],
   "source": [
    "#hide\n",
    "g.index.name = 'date'"
   ]
  },
  {
   "cell_type": "code",
   "execution_count": 24,
   "id": "naked-donor",
   "metadata": {
    "execution": {
     "iopub.execute_input": "2022-01-13T12:13:37.042824Z",
     "iopub.status.busy": "2022-01-13T12:13:37.042351Z",
     "iopub.status.idle": "2022-01-13T12:13:37.044132Z",
     "shell.execute_reply": "2022-01-13T12:13:37.044501Z"
    },
    "papermill": {
     "duration": 0.033306,
     "end_time": "2022-01-13T12:13:37.044628",
     "exception": false,
     "start_time": "2022-01-13T12:13:37.011322",
     "status": "completed"
    },
    "tags": []
   },
   "outputs": [],
   "source": [
    "# #hide\n",
    "# g = g.reset_index(['date'])"
   ]
  },
  {
   "cell_type": "code",
   "execution_count": 25,
   "id": "incomplete-mustang",
   "metadata": {
    "execution": {
     "iopub.execute_input": "2022-01-13T12:13:37.104475Z",
     "iopub.status.busy": "2022-01-13T12:13:37.103855Z",
     "iopub.status.idle": "2022-01-13T12:13:37.107397Z",
     "shell.execute_reply": "2022-01-13T12:13:37.107849Z"
    },
    "papermill": {
     "duration": 0.035579,
     "end_time": "2022-01-13T12:13:37.108010",
     "exception": false,
     "start_time": "2022-01-13T12:13:37.072431",
     "status": "completed"
    },
    "tags": []
   },
   "outputs": [],
   "source": [
    "#hide\n",
    "# g.head()"
   ]
  },
  {
   "cell_type": "code",
   "execution_count": 26,
   "id": "specific-kruger",
   "metadata": {
    "execution": {
     "iopub.execute_input": "2022-01-13T12:13:37.167813Z",
     "iopub.status.busy": "2022-01-13T12:13:37.167201Z",
     "iopub.status.idle": "2022-01-13T12:13:37.170660Z",
     "shell.execute_reply": "2022-01-13T12:13:37.171013Z"
    },
    "papermill": {
     "duration": 0.035276,
     "end_time": "2022-01-13T12:13:37.171150",
     "exception": false,
     "start_time": "2022-01-13T12:13:37.135874",
     "status": "completed"
    },
    "tags": []
   },
   "outputs": [],
   "source": [
    "#hide\n",
    "# g.columns = ['date','country','cases']"
   ]
  },
  {
   "cell_type": "code",
   "execution_count": 27,
   "id": "tender-conversion",
   "metadata": {
    "execution": {
     "iopub.execute_input": "2022-01-13T12:13:37.231394Z",
     "iopub.status.busy": "2022-01-13T12:13:37.230871Z",
     "iopub.status.idle": "2022-01-13T12:13:37.232449Z",
     "shell.execute_reply": "2022-01-13T12:13:37.231978Z"
    },
    "papermill": {
     "duration": 0.033593,
     "end_time": "2022-01-13T12:13:37.232566",
     "exception": false,
     "start_time": "2022-01-13T12:13:37.198973",
     "status": "completed"
    },
    "tags": []
   },
   "outputs": [],
   "source": [
    "#hide\n",
    "# g['continent'] = g.country"
   ]
  },
  {
   "cell_type": "code",
   "execution_count": 28,
   "id": "substantial-wilderness",
   "metadata": {
    "execution": {
     "iopub.execute_input": "2022-01-13T12:13:37.292279Z",
     "iopub.status.busy": "2022-01-13T12:13:37.291789Z",
     "iopub.status.idle": "2022-01-13T12:13:37.294138Z",
     "shell.execute_reply": "2022-01-13T12:13:37.293746Z"
    },
    "papermill": {
     "duration": 0.033731,
     "end_time": "2022-01-13T12:13:37.294246",
     "exception": false,
     "start_time": "2022-01-13T12:13:37.260515",
     "status": "completed"
    },
    "tags": []
   },
   "outputs": [],
   "source": [
    "#hide\n",
    "# cols = list(g.columns.values)"
   ]
  },
  {
   "cell_type": "code",
   "execution_count": 29,
   "id": "solved-farming",
   "metadata": {
    "execution": {
     "iopub.execute_input": "2022-01-13T12:13:37.353609Z",
     "iopub.status.busy": "2022-01-13T12:13:37.353107Z",
     "iopub.status.idle": "2022-01-13T12:13:37.355223Z",
     "shell.execute_reply": "2022-01-13T12:13:37.354751Z"
    },
    "papermill": {
     "duration": 0.033329,
     "end_time": "2022-01-13T12:13:37.355338",
     "exception": false,
     "start_time": "2022-01-13T12:13:37.322009",
     "status": "completed"
    },
    "tags": []
   },
   "outputs": [],
   "source": [
    "#hide\n",
    "# cols.insert(0, cols.pop())"
   ]
  },
  {
   "cell_type": "code",
   "execution_count": 30,
   "id": "executed-adoption",
   "metadata": {
    "execution": {
     "iopub.execute_input": "2022-01-13T12:13:37.414804Z",
     "iopub.status.busy": "2022-01-13T12:13:37.414317Z",
     "iopub.status.idle": "2022-01-13T12:13:37.416184Z",
     "shell.execute_reply": "2022-01-13T12:13:37.415790Z"
    },
    "papermill": {
     "duration": 0.033119,
     "end_time": "2022-01-13T12:13:37.416298",
     "exception": false,
     "start_time": "2022-01-13T12:13:37.383179",
     "status": "completed"
    },
    "tags": []
   },
   "outputs": [],
   "source": [
    "#hide\n",
    "# g = g[cols]"
   ]
  },
  {
   "cell_type": "code",
   "execution_count": 31,
   "id": "subject-dublin",
   "metadata": {
    "execution": {
     "iopub.execute_input": "2022-01-13T12:13:37.475649Z",
     "iopub.status.busy": "2022-01-13T12:13:37.475160Z",
     "iopub.status.idle": "2022-01-13T12:13:37.477122Z",
     "shell.execute_reply": "2022-01-13T12:13:37.476725Z"
    },
    "papermill": {
     "duration": 0.033193,
     "end_time": "2022-01-13T12:13:37.477241",
     "exception": false,
     "start_time": "2022-01-13T12:13:37.444048",
     "status": "completed"
    },
    "tags": []
   },
   "outputs": [],
   "source": [
    "#hide\n",
    "# g['continent'] = g['continent'].map(mapping['map.continent'])"
   ]
  },
  {
   "cell_type": "code",
   "execution_count": 32,
   "id": "freelance-scout",
   "metadata": {
    "execution": {
     "iopub.execute_input": "2022-01-13T12:13:37.537104Z",
     "iopub.status.busy": "2022-01-13T12:13:37.536548Z",
     "iopub.status.idle": "2022-01-13T12:13:37.538542Z",
     "shell.execute_reply": "2022-01-13T12:13:37.538117Z"
    },
    "papermill": {
     "duration": 0.03323,
     "end_time": "2022-01-13T12:13:37.538660",
     "exception": false,
     "start_time": "2022-01-13T12:13:37.505430",
     "status": "completed"
    },
    "tags": []
   },
   "outputs": [],
   "source": [
    "#hide\n",
    "# g.head()"
   ]
  },
  {
   "cell_type": "code",
   "execution_count": 33,
   "id": "limited-engine",
   "metadata": {
    "execution": {
     "iopub.execute_input": "2022-01-13T12:13:37.598394Z",
     "iopub.status.busy": "2022-01-13T12:13:37.597787Z",
     "iopub.status.idle": "2022-01-13T12:13:37.600996Z",
     "shell.execute_reply": "2022-01-13T12:13:37.601352Z"
    },
    "papermill": {
     "duration": 0.034712,
     "end_time": "2022-01-13T12:13:37.601487",
     "exception": false,
     "start_time": "2022-01-13T12:13:37.566775",
     "status": "completed"
    },
    "tags": []
   },
   "outputs": [],
   "source": [
    "# hide\n",
    "# g['date'] = g['date'].astype('datetime64[ns]')"
   ]
  },
  {
   "cell_type": "code",
   "execution_count": 34,
   "id": "sophisticated-supervisor",
   "metadata": {
    "execution": {
     "iopub.execute_input": "2022-01-13T12:13:37.661484Z",
     "iopub.status.busy": "2022-01-13T12:13:37.660805Z",
     "iopub.status.idle": "2022-01-13T12:13:37.664080Z",
     "shell.execute_reply": "2022-01-13T12:13:37.663583Z"
    },
    "papermill": {
     "duration": 0.034866,
     "end_time": "2022-01-13T12:13:37.664224",
     "exception": false,
     "start_time": "2022-01-13T12:13:37.629358",
     "status": "completed"
    },
    "tags": []
   },
   "outputs": [],
   "source": [
    "#hide\n",
    "# g['date'] = g.date.dt.dayofyear"
   ]
  },
  {
   "cell_type": "code",
   "execution_count": 35,
   "id": "inside-dubai",
   "metadata": {
    "execution": {
     "iopub.execute_input": "2022-01-13T12:13:37.724444Z",
     "iopub.status.busy": "2022-01-13T12:13:37.723833Z",
     "iopub.status.idle": "2022-01-13T12:13:37.727396Z",
     "shell.execute_reply": "2022-01-13T12:13:37.727749Z"
    },
    "papermill": {
     "duration": 0.035336,
     "end_time": "2022-01-13T12:13:37.727886",
     "exception": false,
     "start_time": "2022-01-13T12:13:37.692550",
     "status": "completed"
    },
    "tags": []
   },
   "outputs": [],
   "source": [
    "#hide\n",
    "# g = g.rename(columns= {'continent':'group','country':'name','cases':'value'})"
   ]
  },
  {
   "cell_type": "code",
   "execution_count": 36,
   "id": "fleet-motorcycle",
   "metadata": {
    "execution": {
     "iopub.execute_input": "2022-01-13T12:13:37.788214Z",
     "iopub.status.busy": "2022-01-13T12:13:37.787702Z",
     "iopub.status.idle": "2022-01-13T12:13:37.790155Z",
     "shell.execute_reply": "2022-01-13T12:13:37.789759Z"
    },
    "papermill": {
     "duration": 0.034177,
     "end_time": "2022-01-13T12:13:37.790275",
     "exception": false,
     "start_time": "2022-01-13T12:13:37.756098",
     "status": "completed"
    },
    "tags": []
   },
   "outputs": [],
   "source": [
    "#hide\n",
    "# cols = ['name','group','day','value']"
   ]
  },
  {
   "cell_type": "code",
   "execution_count": 37,
   "id": "continued-sleeping",
   "metadata": {
    "execution": {
     "iopub.execute_input": "2022-01-13T12:13:37.849751Z",
     "iopub.status.busy": "2022-01-13T12:13:37.849248Z",
     "iopub.status.idle": "2022-01-13T12:13:37.851200Z",
     "shell.execute_reply": "2022-01-13T12:13:37.850818Z"
    },
    "papermill": {
     "duration": 0.033225,
     "end_time": "2022-01-13T12:13:37.851315",
     "exception": false,
     "start_time": "2022-01-13T12:13:37.818090",
     "status": "completed"
    },
    "tags": []
   },
   "outputs": [],
   "source": [
    "#hide\n",
    "# g.rename(columns= {'date':'day'},inplace = True)"
   ]
  },
  {
   "cell_type": "code",
   "execution_count": 38,
   "id": "major-fight",
   "metadata": {
    "execution": {
     "iopub.execute_input": "2022-01-13T12:13:37.911081Z",
     "iopub.status.busy": "2022-01-13T12:13:37.910569Z",
     "iopub.status.idle": "2022-01-13T12:13:37.911805Z",
     "shell.execute_reply": "2022-01-13T12:13:37.912195Z"
    },
    "papermill": {
     "duration": 0.033169,
     "end_time": "2022-01-13T12:13:37.912332",
     "exception": false,
     "start_time": "2022-01-13T12:13:37.879163",
     "status": "completed"
    },
    "tags": []
   },
   "outputs": [],
   "source": [
    "#hide\n",
    "# g = g[cols]"
   ]
  },
  {
   "cell_type": "code",
   "execution_count": 39,
   "id": "structured-mobile",
   "metadata": {
    "execution": {
     "iopub.execute_input": "2022-01-13T12:13:37.971949Z",
     "iopub.status.busy": "2022-01-13T12:13:37.971458Z",
     "iopub.status.idle": "2022-01-13T12:13:37.975042Z",
     "shell.execute_reply": "2022-01-13T12:13:37.974657Z"
    },
    "papermill": {
     "duration": 0.034938,
     "end_time": "2022-01-13T12:13:37.975159",
     "exception": false,
     "start_time": "2022-01-13T12:13:37.940221",
     "status": "completed"
    },
    "tags": []
   },
   "outputs": [],
   "source": [
    "# #hide\n",
    "# g = g[g.group.notna()]"
   ]
  },
  {
   "cell_type": "code",
   "execution_count": 40,
   "id": "determined-closing",
   "metadata": {
    "execution": {
     "iopub.execute_input": "2022-01-13T12:13:38.035073Z",
     "iopub.status.busy": "2022-01-13T12:13:38.034559Z",
     "iopub.status.idle": "2022-01-13T12:13:38.036871Z",
     "shell.execute_reply": "2022-01-13T12:13:38.036444Z"
    },
    "papermill": {
     "duration": 0.033946,
     "end_time": "2022-01-13T12:13:38.037013",
     "exception": false,
     "start_time": "2022-01-13T12:13:38.003067",
     "status": "completed"
    },
    "tags": []
   },
   "outputs": [],
   "source": [
    "# #hide\n",
    "# colors = dict(zip(\n",
    "#     [\"Oceania\", \"Europe\", \"Asia\", \"South America\", \"Middle East\", \"North America\", \"Africa\"],\n",
    "#     [\"#adb0ff\", \"#ffb3ff\", \"#90d595\", \"#e48381\", \"#aafbff\", \"#f7bb5f\", \"#eafb50\"]\n",
    "# ))\n",
    "# group_lk = g.set_index('name')['group'].to_dict()"
   ]
  },
  {
   "cell_type": "code",
   "execution_count": null,
   "id": "gross-drinking",
   "metadata": {
    "papermill": {
     "duration": 0.027687,
     "end_time": "2022-01-13T12:13:38.092347",
     "exception": false,
     "start_time": "2022-01-13T12:13:38.064660",
     "status": "completed"
    },
    "tags": []
   },
   "outputs": [],
   "source": []
  },
  {
   "cell_type": "code",
   "execution_count": 41,
   "id": "subject-macintosh",
   "metadata": {
    "execution": {
     "iopub.execute_input": "2022-01-13T12:13:38.152594Z",
     "iopub.status.busy": "2022-01-13T12:13:38.152087Z",
     "iopub.status.idle": "2022-01-13T12:13:38.154551Z",
     "shell.execute_reply": "2022-01-13T12:13:38.154075Z"
    },
    "papermill": {
     "duration": 0.034521,
     "end_time": "2022-01-13T12:13:38.154665",
     "exception": false,
     "start_time": "2022-01-13T12:13:38.120144",
     "status": "completed"
    },
    "tags": []
   },
   "outputs": [],
   "source": [
    "# #hide\n",
    "# fig, ax = plt.subplots(figsize=(15, 8))\n",
    "\n",
    "# def draw_barchart(current_day):\n",
    "#     dff = g[g['day'].eq(current_day)].sort_values(by='value', ascending=True).tail(10)\n",
    "#     ax.clear()\n",
    "#     ax.barh(dff['name'], dff['value'], color=[colors[group_lk[x]] for x in dff['name']])\n",
    "#     dx = dff['value'].max() / 200\n",
    "    \n",
    "#     for i, (value, name) in enumerate(zip(dff['value'], dff['name'])):\n",
    "#         ax.text(value-dx, i,     name,           size=14, weight=600, ha='right', va='bottom')\n",
    "#         ax.text(value-dx, i-.25, group_lk[name], size=10, color='#444444', ha='right', va='baseline')\n",
    "#         ax.text(value+dx, i,     f'{value:,.0f}',  size=14, ha='left',  va='center')\n",
    "#     ax.text(1, 0.4, current_day, transform=ax.transAxes, color='#777777', size=46, ha='right', weight=800)\n",
    "#     ax.text(0, 1.06, 'Population (thousands)', transform=ax.transAxes, size=12, color='#777777')\n",
    "#     ax.xaxis.set_major_formatter(ticker.StrMethodFormatter('{x:,.0f}'))\n",
    "#     ax.xaxis.set_ticks_position('top')\n",
    "#     ax.tick_params(axis='x', colors='#777777', labelsize=12)\n",
    "#     ax.set_yticks([])\n",
    "#     ax.margins(0, 0.01)\n",
    "#     ax.grid(which='major', axis='x', linestyle='-')\n",
    "#     ax.set_axisbelow(True)\n",
    "    \n",
    "#     ax.text(0, 1.15, 'Coronavirus',\n",
    "#             transform=ax.transAxes, size=24, weight=600, ha='left', va='top')\n",
    "# #     ax.text(1, 0, 'by @pratapvardhan; credit @jburnmurdoch', transform=ax.transAxes, color='#777777', ha='right',\n",
    "# #             bbox=dict(facecolor='white', alpha=0.8, edgecolor='white'))\n",
    "#     plt.box(False)"
   ]
  },
  {
   "cell_type": "code",
   "execution_count": 42,
   "id": "sexual-wages",
   "metadata": {
    "execution": {
     "iopub.execute_input": "2022-01-13T12:13:38.214117Z",
     "iopub.status.busy": "2022-01-13T12:13:38.213611Z",
     "iopub.status.idle": "2022-01-13T12:13:38.216158Z",
     "shell.execute_reply": "2022-01-13T12:13:38.215776Z"
    },
    "papermill": {
     "duration": 0.033773,
     "end_time": "2022-01-13T12:13:38.216272",
     "exception": false,
     "start_time": "2022-01-13T12:13:38.182499",
     "status": "completed"
    },
    "tags": []
   },
   "outputs": [],
   "source": [
    "# #hide_input\n",
    "# fig, ax = plt.subplots(figsize=(15, 8))\n",
    "# animator = animation.FuncAnimation(fig, draw_barchart, frames=range(g.day.values.min(), g.day.values.max()))\n",
    "# HTML(animator.to_jshtml())\n",
    "# # or use animator.to_html5_video() or animator.save() "
   ]
  },
  {
   "cell_type": "code",
   "execution_count": null,
   "id": "australian-container",
   "metadata": {
    "papermill": {
     "duration": 0.027817,
     "end_time": "2022-01-13T12:13:38.271949",
     "exception": false,
     "start_time": "2022-01-13T12:13:38.244132",
     "status": "completed"
    },
    "tags": []
   },
   "outputs": [],
   "source": []
  },
  {
   "cell_type": "code",
   "execution_count": null,
   "id": "mediterranean-pontiac",
   "metadata": {
    "papermill": {
     "duration": 0.027652,
     "end_time": "2022-01-13T12:13:38.327277",
     "exception": false,
     "start_time": "2022-01-13T12:13:38.299625",
     "status": "completed"
    },
    "tags": []
   },
   "outputs": [],
   "source": []
  },
  {
   "cell_type": "code",
   "execution_count": null,
   "id": "aging-legislature",
   "metadata": {
    "papermill": {
     "duration": 0.027751,
     "end_time": "2022-01-13T12:13:38.383085",
     "exception": false,
     "start_time": "2022-01-13T12:13:38.355334",
     "status": "completed"
    },
    "tags": []
   },
   "outputs": [],
   "source": []
  }
 ],
 "metadata": {
  "kernelspec": {
   "display_name": "Python 3",
   "language": "python",
   "name": "python3"
  },
  "language_info": {
   "codemirror_mode": {
    "name": "ipython",
    "version": 3
   },
   "file_extension": ".py",
   "mimetype": "text/x-python",
   "name": "python",
   "nbconvert_exporter": "python",
   "pygments_lexer": "ipython3",
   "version": "3.6.15"
  },
  "papermill": {
   "duration": 5.592731,
   "end_time": "2022-01-13T12:13:38.819480",
   "environment_variables": {},
   "exception": null,
   "input_path": "2020-03-21-covid19exp.ipynb",
   "output_path": "2020-03-21-covid19exp.ipynb",
   "parameters": {},
   "start_time": "2022-01-13T12:13:33.226749",
   "version": "2.0.0"
  }
 },
 "nbformat": 4,
 "nbformat_minor": 5
}