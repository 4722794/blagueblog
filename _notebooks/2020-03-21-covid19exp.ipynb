{
 "cells": [
  {
   "cell_type": "markdown",
   "metadata": {
    "papermill": {
     "duration": 0.035761,
     "end_time": "2020-12-30T00:21:23.330113",
     "exception": false,
     "start_time": "2020-12-30T00:21:23.294352",
     "status": "completed"
    },
    "tags": []
   },
   "source": [
    "# COVID-19 Case Race\n",
    "> A race chart to see rising cases around the world\n",
    "\n",
    "- author: Hargun Oberoi\n",
    "- image: images/covid-overview.png\n",
    "- hide: false\n",
    "- badges: false"
   ]
  },
  {
   "cell_type": "code",
   "execution_count": 1,
   "metadata": {
    "execution": {
     "iopub.execute_input": "2020-12-30T00:21:23.404591Z",
     "iopub.status.busy": "2020-12-30T00:21:23.402314Z",
     "iopub.status.idle": "2020-12-30T00:21:23.739704Z",
     "shell.execute_reply": "2020-12-30T00:21:23.739125Z"
    },
    "papermill": {
     "duration": 0.377713,
     "end_time": "2020-12-30T00:21:23.739870",
     "exception": false,
     "start_time": "2020-12-30T00:21:23.362157",
     "status": "completed"
    },
    "tags": []
   },
   "outputs": [],
   "source": [
    "#hide\n",
    "import numpy as np\n",
    "import pandas as pd\n",
    "from jinja2 import Template\n",
    "from IPython.display import HTML"
   ]
  },
  {
   "cell_type": "code",
   "execution_count": 2,
   "metadata": {
    "execution": {
     "iopub.execute_input": "2020-12-30T00:21:23.808923Z",
     "iopub.status.busy": "2020-12-30T00:21:23.808253Z",
     "iopub.status.idle": "2020-12-30T00:21:23.810385Z",
     "shell.execute_reply": "2020-12-30T00:21:23.810962Z"
    },
    "papermill": {
     "duration": 0.040048,
     "end_time": "2020-12-30T00:21:23.811092",
     "exception": false,
     "start_time": "2020-12-30T00:21:23.771044",
     "status": "completed"
    },
    "tags": []
   },
   "outputs": [],
   "source": [
    "#hide\n",
    "\n",
    "# FETCH\n",
    "base_url = 'https://raw.githubusercontent.com/pratapvardhan/notebooks/master/covid19/'\n",
    "paths = {\n",
    "    'mapping': base_url + 'mapping_countries.csv',\n",
    "    'overview': base_url + 'overview.tpl'\n",
    "}"
   ]
  },
  {
   "cell_type": "code",
   "execution_count": 3,
   "metadata": {
    "execution": {
     "iopub.execute_input": "2020-12-30T00:21:23.887382Z",
     "iopub.status.busy": "2020-12-30T00:21:23.886768Z",
     "iopub.status.idle": "2020-12-30T00:21:23.890114Z",
     "shell.execute_reply": "2020-12-30T00:21:23.889447Z"
    },
    "papermill": {
     "duration": 0.045164,
     "end_time": "2020-12-30T00:21:23.890356",
     "exception": false,
     "start_time": "2020-12-30T00:21:23.845192",
     "status": "completed"
    },
    "tags": []
   },
   "outputs": [
    {
     "data": {
      "text/plain": [
       "'https://raw.githubusercontent.com/pratapvardhan/notebooks/master/covid19/mapping_countries.csv'"
      ]
     },
     "execution_count": 3,
     "metadata": {},
     "output_type": "execute_result"
    }
   ],
   "source": [
    "#hide\n",
    "paths['mapping']"
   ]
  },
  {
   "cell_type": "code",
   "execution_count": 4,
   "metadata": {
    "execution": {
     "iopub.execute_input": "2020-12-30T00:21:23.955447Z",
     "iopub.status.busy": "2020-12-30T00:21:23.954775Z",
     "iopub.status.idle": "2020-12-30T00:21:23.957327Z",
     "shell.execute_reply": "2020-12-30T00:21:23.956617Z"
    },
    "papermill": {
     "duration": 0.036961,
     "end_time": "2020-12-30T00:21:23.957430",
     "exception": false,
     "start_time": "2020-12-30T00:21:23.920469",
     "status": "completed"
    },
    "tags": []
   },
   "outputs": [],
   "source": [
    "#hide\n",
    "def get_mappings(url):\n",
    "    df = pd.read_csv(url)\n",
    "    return {\n",
    "        'df': df,\n",
    "        'replace.country': dict(df.dropna(subset=['Name']).set_index('Country')['Name']),\n",
    "        'map.continent': dict(df.set_index('Name')['Continent'])\n",
    "    }"
   ]
  },
  {
   "cell_type": "code",
   "execution_count": 5,
   "metadata": {
    "execution": {
     "iopub.execute_input": "2020-12-30T00:21:24.027421Z",
     "iopub.status.busy": "2020-12-30T00:21:24.026791Z",
     "iopub.status.idle": "2020-12-30T00:21:24.123076Z",
     "shell.execute_reply": "2020-12-30T00:21:24.122541Z"
    },
    "papermill": {
     "duration": 0.136517,
     "end_time": "2020-12-30T00:21:24.123199",
     "exception": false,
     "start_time": "2020-12-30T00:21:23.986682",
     "status": "completed"
    },
    "tags": []
   },
   "outputs": [],
   "source": [
    "#hide\n",
    "mapping = get_mappings(paths['mapping'])"
   ]
  },
  {
   "cell_type": "code",
   "execution_count": 6,
   "metadata": {
    "execution": {
     "iopub.execute_input": "2020-12-30T00:21:24.195001Z",
     "iopub.status.busy": "2020-12-30T00:21:24.194323Z",
     "iopub.status.idle": "2020-12-30T00:21:24.196874Z",
     "shell.execute_reply": "2020-12-30T00:21:24.197535Z"
    },
    "papermill": {
     "duration": 0.041147,
     "end_time": "2020-12-30T00:21:24.197700",
     "exception": false,
     "start_time": "2020-12-30T00:21:24.156553",
     "status": "completed"
    },
    "tags": []
   },
   "outputs": [],
   "source": [
    "#hide\n",
    "def get_template(path):\n",
    "    from urllib.parse import urlparse\n",
    "    if bool(urlparse(path).netloc):\n",
    "        from urllib.request import urlopen\n",
    "        return urlopen(path).read().decode('utf8')\n",
    "    return open(path).read()"
   ]
  },
  {
   "cell_type": "code",
   "execution_count": 7,
   "metadata": {
    "execution": {
     "iopub.execute_input": "2020-12-30T00:21:24.264252Z",
     "iopub.status.busy": "2020-12-30T00:21:24.263595Z",
     "iopub.status.idle": "2020-12-30T00:21:24.266935Z",
     "shell.execute_reply": "2020-12-30T00:21:24.266442Z"
    },
    "papermill": {
     "duration": 0.038121,
     "end_time": "2020-12-30T00:21:24.267081",
     "exception": false,
     "start_time": "2020-12-30T00:21:24.228960",
     "status": "completed"
    },
    "tags": []
   },
   "outputs": [],
   "source": [
    "#hide\n",
    "def get_frame(name):\n",
    "    url = (\n",
    "        'https://raw.githubusercontent.com/CSSEGISandData/COVID-19/master/csse_covid_19_data/'\n",
    "        f'csse_covid_19_time_series/time_series_covid19_{name}_global.csv')\n",
    "    df = pd.read_csv(url)\n",
    "    # rename countries\n",
    "    df['Country/Region'] = df['Country/Region'].replace(mapping['replace.country'])\n",
    "    return df"
   ]
  },
  {
   "cell_type": "code",
   "execution_count": 8,
   "metadata": {
    "execution": {
     "iopub.execute_input": "2020-12-30T00:21:24.336720Z",
     "iopub.status.busy": "2020-12-30T00:21:24.336070Z",
     "iopub.status.idle": "2020-12-30T00:21:24.338634Z",
     "shell.execute_reply": "2020-12-30T00:21:24.338056Z"
    },
    "papermill": {
     "duration": 0.039405,
     "end_time": "2020-12-30T00:21:24.338741",
     "exception": false,
     "start_time": "2020-12-30T00:21:24.299336",
     "status": "completed"
    },
    "tags": []
   },
   "outputs": [],
   "source": [
    "#hide\n",
    "def get_dates(df):\n",
    "    dt_cols = df.columns[~df.columns.isin(['Province/State', 'Country/Region', 'Lat', 'Long'])]\n",
    "    LAST_DATE_I = -1\n",
    "    # sometimes last column may be empty, then go backwards\n",
    "    for i in range(-1, -len(dt_cols), -1):\n",
    "        if not df[dt_cols[i]].fillna(0).eq(0).all():\n",
    "            LAST_DATE_I = i\n",
    "            break\n",
    "    return LAST_DATE_I, dt_cols"
   ]
  },
  {
   "cell_type": "code",
   "execution_count": 9,
   "metadata": {
    "execution": {
     "iopub.execute_input": "2020-12-30T00:21:24.406129Z",
     "iopub.status.busy": "2020-12-30T00:21:24.404951Z",
     "iopub.status.idle": "2020-12-30T00:21:24.885093Z",
     "shell.execute_reply": "2020-12-30T00:21:24.884015Z"
    },
    "papermill": {
     "duration": 0.515344,
     "end_time": "2020-12-30T00:21:24.885238",
     "exception": false,
     "start_time": "2020-12-30T00:21:24.369894",
     "status": "completed"
    },
    "tags": []
   },
   "outputs": [],
   "source": [
    "#hide\n",
    "COL_REGION = 'Country/Region'\n",
    "# Confirmed, Recovered, Deaths\n",
    "df = get_frame('confirmed')\n",
    "# dft_: timeseries, dfc_: today country agg\n",
    "dft_cases = df\n",
    "dft_deaths = get_frame('deaths')\n",
    "dft_recovered = get_frame('recovered')\n",
    "LAST_DATE_I, dt_cols = get_dates(df)"
   ]
  },
  {
   "cell_type": "code",
   "execution_count": 10,
   "metadata": {
    "execution": {
     "iopub.execute_input": "2020-12-30T00:21:24.956752Z",
     "iopub.status.busy": "2020-12-30T00:21:24.955892Z",
     "iopub.status.idle": "2020-12-30T00:21:24.958531Z",
     "shell.execute_reply": "2020-12-30T00:21:24.957864Z"
    },
    "papermill": {
     "duration": 0.041752,
     "end_time": "2020-12-30T00:21:24.958663",
     "exception": false,
     "start_time": "2020-12-30T00:21:24.916911",
     "status": "completed"
    },
    "tags": []
   },
   "outputs": [],
   "source": [
    "#hide\n",
    "LAST_DATE_I, dt_cols = get_dates(df)\n",
    "dt_today =dt_cols[LAST_DATE_I]\n",
    "# dt_5day = dt_cols[LAST_DATE_I - 5]\n",
    "dt_yday = dt_cols[LAST_DATE_I - 1]"
   ]
  },
  {
   "cell_type": "code",
   "execution_count": 11,
   "metadata": {
    "execution": {
     "iopub.execute_input": "2020-12-30T00:21:25.030663Z",
     "iopub.status.busy": "2020-12-30T00:21:25.029732Z",
     "iopub.status.idle": "2020-12-30T00:21:25.037566Z",
     "shell.execute_reply": "2020-12-30T00:21:25.038251Z"
    },
    "papermill": {
     "duration": 0.048179,
     "end_time": "2020-12-30T00:21:25.038391",
     "exception": false,
     "start_time": "2020-12-30T00:21:24.990212",
     "status": "completed"
    },
    "tags": []
   },
   "outputs": [],
   "source": [
    "#hide\n",
    "dfc_cases = dft_cases.groupby(COL_REGION)[dt_today].sum()\n",
    "dfc_deaths = dft_deaths.groupby(COL_REGION)[dt_today].sum()\n",
    "# dfp_cases = dft_cases.groupby(COL_REGION)[dt_5day].sum()\n",
    "# dfp_deaths = dft_deaths.groupby(COL_REGION)[dt_5day].sum()\n",
    "dfp_cases = dft_cases.groupby(COL_REGION)[dt_yday].sum()\n",
    "dfp_deaths = dft_deaths.groupby(COL_REGION)[dt_yday].sum()"
   ]
  },
  {
   "cell_type": "code",
   "execution_count": 12,
   "metadata": {
    "execution": {
     "iopub.execute_input": "2020-12-30T00:21:25.107676Z",
     "iopub.status.busy": "2020-12-30T00:21:25.106977Z",
     "iopub.status.idle": "2020-12-30T00:21:25.112588Z",
     "shell.execute_reply": "2020-12-30T00:21:25.113168Z"
    },
    "papermill": {
     "duration": 0.0439,
     "end_time": "2020-12-30T00:21:25.113342",
     "exception": false,
     "start_time": "2020-12-30T00:21:25.069442",
     "status": "completed"
    },
    "tags": []
   },
   "outputs": [],
   "source": [
    "#hide\n",
    "df_table = (pd.DataFrame(dict(Cases = dfc_cases, Deaths = dfc_deaths, PCases = dfp_cases, PDeaths = dfp_deaths))\n",
    "            .sort_values(by = ['Cases','Deaths'], ascending = [False, False])\n",
    "            .reset_index())"
   ]
  },
  {
   "cell_type": "code",
   "execution_count": 13,
   "metadata": {
    "execution": {
     "iopub.execute_input": "2020-12-30T00:21:25.195856Z",
     "iopub.status.busy": "2020-12-30T00:21:25.195148Z",
     "iopub.status.idle": "2020-12-30T00:21:25.209236Z",
     "shell.execute_reply": "2020-12-30T00:21:25.209749Z"
    },
    "papermill": {
     "duration": 0.065697,
     "end_time": "2020-12-30T00:21:25.209906",
     "exception": false,
     "start_time": "2020-12-30T00:21:25.144209",
     "status": "completed"
    },
    "tags": []
   },
   "outputs": [
    {
     "data": {
      "text/html": [
       "<div>\n",
       "<style scoped>\n",
       "    .dataframe tbody tr th:only-of-type {\n",
       "        vertical-align: middle;\n",
       "    }\n",
       "\n",
       "    .dataframe tbody tr th {\n",
       "        vertical-align: top;\n",
       "    }\n",
       "\n",
       "    .dataframe thead th {\n",
       "        text-align: right;\n",
       "    }\n",
       "</style>\n",
       "<table border=\"1\" class=\"dataframe\">\n",
       "  <thead>\n",
       "    <tr style=\"text-align: right;\">\n",
       "      <th></th>\n",
       "      <th>Country/Region</th>\n",
       "      <th>Cases</th>\n",
       "      <th>Deaths</th>\n",
       "      <th>PCases</th>\n",
       "      <th>PDeaths</th>\n",
       "      <th>Cases (+)</th>\n",
       "      <th>Deaths (+)</th>\n",
       "      <th>Fatality Rate</th>\n",
       "      <th>Continent</th>\n",
       "    </tr>\n",
       "  </thead>\n",
       "  <tbody>\n",
       "    <tr>\n",
       "      <th>0</th>\n",
       "      <td>US</td>\n",
       "      <td>19301543</td>\n",
       "      <td>334836</td>\n",
       "      <td>19132726</td>\n",
       "      <td>333118</td>\n",
       "      <td>168817</td>\n",
       "      <td>1718</td>\n",
       "      <td>1.73</td>\n",
       "      <td>North America</td>\n",
       "    </tr>\n",
       "    <tr>\n",
       "      <th>1</th>\n",
       "      <td>India</td>\n",
       "      <td>10224303</td>\n",
       "      <td>148153</td>\n",
       "      <td>10207871</td>\n",
       "      <td>147901</td>\n",
       "      <td>16432</td>\n",
       "      <td>252</td>\n",
       "      <td>1.45</td>\n",
       "      <td>Asia</td>\n",
       "    </tr>\n",
       "    <tr>\n",
       "      <th>2</th>\n",
       "      <td>Brazil</td>\n",
       "      <td>7504833</td>\n",
       "      <td>191570</td>\n",
       "      <td>7484285</td>\n",
       "      <td>191139</td>\n",
       "      <td>20548</td>\n",
       "      <td>431</td>\n",
       "      <td>2.55</td>\n",
       "      <td>South America</td>\n",
       "    </tr>\n",
       "    <tr>\n",
       "      <th>3</th>\n",
       "      <td>Russia</td>\n",
       "      <td>3047335</td>\n",
       "      <td>54559</td>\n",
       "      <td>3019972</td>\n",
       "      <td>54080</td>\n",
       "      <td>27363</td>\n",
       "      <td>479</td>\n",
       "      <td>1.79</td>\n",
       "      <td>Europe</td>\n",
       "    </tr>\n",
       "    <tr>\n",
       "      <th>4</th>\n",
       "      <td>France</td>\n",
       "      <td>2619616</td>\n",
       "      <td>63235</td>\n",
       "      <td>2616510</td>\n",
       "      <td>62867</td>\n",
       "      <td>3106</td>\n",
       "      <td>368</td>\n",
       "      <td>2.41</td>\n",
       "      <td>Europe</td>\n",
       "    </tr>\n",
       "  </tbody>\n",
       "</table>\n",
       "</div>"
      ],
      "text/plain": [
       "  Country/Region     Cases  Deaths    PCases  PDeaths  Cases (+)  Deaths (+)  \\\n",
       "0             US  19301543  334836  19132726   333118     168817        1718   \n",
       "1          India  10224303  148153  10207871   147901      16432         252   \n",
       "2         Brazil   7504833  191570   7484285   191139      20548         431   \n",
       "3         Russia   3047335   54559   3019972    54080      27363         479   \n",
       "4         France   2619616   63235   2616510    62867       3106         368   \n",
       "\n",
       "   Fatality Rate      Continent  \n",
       "0           1.73  North America  \n",
       "1           1.45           Asia  \n",
       "2           2.55  South America  \n",
       "3           1.79         Europe  \n",
       "4           2.41         Europe  "
      ]
     },
     "execution_count": 13,
     "metadata": {},
     "output_type": "execute_result"
    }
   ],
   "source": [
    "#hide\n",
    "for c in 'Cases, Deaths'.split(', '):\n",
    "    df_table[f'{c} (+)'] = (df_table[c] - df_table[f'P{c}']).clip(0)\n",
    "    #Clip ça veut dire, les chiffres negatif sont interdit\n",
    "df_table['Fatality Rate'] = (100* df_table['Deaths']/ df_table['Cases']).round(2)\n",
    "df_table['Continent'] = df_table['Country/Region'].map(mapping['map.continent'])\n",
    "df_table.head(5)"
   ]
  },
  {
   "cell_type": "code",
   "execution_count": 14,
   "metadata": {
    "execution": {
     "iopub.execute_input": "2020-12-30T00:21:25.278560Z",
     "iopub.status.busy": "2020-12-30T00:21:25.277901Z",
     "iopub.status.idle": "2020-12-30T00:21:25.281128Z",
     "shell.execute_reply": "2020-12-30T00:21:25.280530Z"
    },
    "papermill": {
     "duration": 0.040486,
     "end_time": "2020-12-30T00:21:25.281267",
     "exception": false,
     "start_time": "2020-12-30T00:21:25.240781",
     "status": "completed"
    },
    "tags": []
   },
   "outputs": [],
   "source": [
    "#hide\n",
    "#delete problematic countries from table\n",
    "df_table = df_table[~df_table['Country/Region'].isin(['Cape Verde', 'Cruise Ship', 'Kosovo'])]"
   ]
  },
  {
   "cell_type": "code",
   "execution_count": 15,
   "metadata": {
    "execution": {
     "iopub.execute_input": "2020-12-30T00:21:25.356204Z",
     "iopub.status.busy": "2020-12-30T00:21:25.355532Z",
     "iopub.status.idle": "2020-12-30T00:21:25.376463Z",
     "shell.execute_reply": "2020-12-30T00:21:25.375972Z"
    },
    "papermill": {
     "duration": 0.065917,
     "end_time": "2020-12-30T00:21:25.376656",
     "exception": false,
     "start_time": "2020-12-30T00:21:25.310739",
     "status": "completed"
    },
    "tags": []
   },
   "outputs": [
    {
     "data": {
      "text/html": [
       "<div>\n",
       "<style scoped>\n",
       "    .dataframe tbody tr th:only-of-type {\n",
       "        vertical-align: middle;\n",
       "    }\n",
       "\n",
       "    .dataframe tbody tr th {\n",
       "        vertical-align: top;\n",
       "    }\n",
       "\n",
       "    .dataframe thead th {\n",
       "        text-align: right;\n",
       "    }\n",
       "</style>\n",
       "<table border=\"1\" class=\"dataframe\">\n",
       "  <thead>\n",
       "    <tr style=\"text-align: right;\">\n",
       "      <th></th>\n",
       "      <th>Country/Region</th>\n",
       "      <th>Cases</th>\n",
       "      <th>Deaths</th>\n",
       "      <th>PCases</th>\n",
       "      <th>PDeaths</th>\n",
       "      <th>Cases (+)</th>\n",
       "      <th>Deaths (+)</th>\n",
       "      <th>Fatality Rate</th>\n",
       "      <th>Continent</th>\n",
       "    </tr>\n",
       "  </thead>\n",
       "  <tbody>\n",
       "    <tr>\n",
       "      <th>0</th>\n",
       "      <td>US</td>\n",
       "      <td>19301543</td>\n",
       "      <td>334836</td>\n",
       "      <td>19132726</td>\n",
       "      <td>333118</td>\n",
       "      <td>168817</td>\n",
       "      <td>1718</td>\n",
       "      <td>1.7</td>\n",
       "      <td>North America</td>\n",
       "    </tr>\n",
       "    <tr>\n",
       "      <th>1</th>\n",
       "      <td>India</td>\n",
       "      <td>10224303</td>\n",
       "      <td>148153</td>\n",
       "      <td>10207871</td>\n",
       "      <td>147901</td>\n",
       "      <td>16432</td>\n",
       "      <td>252</td>\n",
       "      <td>1.4</td>\n",
       "      <td>Asia</td>\n",
       "    </tr>\n",
       "    <tr>\n",
       "      <th>2</th>\n",
       "      <td>Brazil</td>\n",
       "      <td>7504833</td>\n",
       "      <td>191570</td>\n",
       "      <td>7484285</td>\n",
       "      <td>191139</td>\n",
       "      <td>20548</td>\n",
       "      <td>431</td>\n",
       "      <td>2.6</td>\n",
       "      <td>South America</td>\n",
       "    </tr>\n",
       "    <tr>\n",
       "      <th>3</th>\n",
       "      <td>Russia</td>\n",
       "      <td>3047335</td>\n",
       "      <td>54559</td>\n",
       "      <td>3019972</td>\n",
       "      <td>54080</td>\n",
       "      <td>27363</td>\n",
       "      <td>479</td>\n",
       "      <td>1.8</td>\n",
       "      <td>Europe</td>\n",
       "    </tr>\n",
       "    <tr>\n",
       "      <th>4</th>\n",
       "      <td>France</td>\n",
       "      <td>2619616</td>\n",
       "      <td>63235</td>\n",
       "      <td>2616510</td>\n",
       "      <td>62867</td>\n",
       "      <td>3106</td>\n",
       "      <td>368</td>\n",
       "      <td>2.4</td>\n",
       "      <td>Europe</td>\n",
       "    </tr>\n",
       "  </tbody>\n",
       "</table>\n",
       "</div>"
      ],
      "text/plain": [
       "  Country/Region     Cases  Deaths    PCases  PDeaths  Cases (+)  Deaths (+)  \\\n",
       "0             US  19301543  334836  19132726   333118     168817        1718   \n",
       "1          India  10224303  148153  10207871   147901      16432         252   \n",
       "2         Brazil   7504833  191570   7484285   191139      20548         431   \n",
       "3         Russia   3047335   54559   3019972    54080      27363         479   \n",
       "4         France   2619616   63235   2616510    62867       3106         368   \n",
       "\n",
       "   Fatality Rate      Continent  \n",
       "0            1.7  North America  \n",
       "1            1.4           Asia  \n",
       "2            2.6  South America  \n",
       "3            1.8         Europe  \n",
       "4            2.4         Europe  "
      ]
     },
     "execution_count": 15,
     "metadata": {},
     "output_type": "execute_result"
    }
   ],
   "source": [
    "#hide\n",
    "df_table = (pd.DataFrame(dict(Cases=dfc_cases, Deaths=dfc_deaths, PCases=dfp_cases, PDeaths=dfp_deaths))\n",
    "             .sort_values(by=['Cases', 'Deaths'], ascending=[False, False])\n",
    "             .reset_index())\n",
    "df_table.rename(columns={'index': 'Country/Region'}, inplace=True)\n",
    "for c in 'Cases, Deaths'.split(', '):\n",
    "    df_table[f'{c} (+)'] = (df_table[c] - df_table[f'P{c}']).clip(0)  # DATA BUG\n",
    "df_table['Fatality Rate'] = (100 * df_table['Deaths'] / df_table['Cases']).round(1)\n",
    "df_table['Continent'] = df_table['Country/Region'].map(mapping['map.continent'])\n",
    "df_table.head(5)"
   ]
  },
  {
   "cell_type": "code",
   "execution_count": 16,
   "metadata": {
    "execution": {
     "iopub.execute_input": "2020-12-30T00:21:25.451321Z",
     "iopub.status.busy": "2020-12-30T00:21:25.450614Z",
     "iopub.status.idle": "2020-12-30T00:21:25.453919Z",
     "shell.execute_reply": "2020-12-30T00:21:25.454445Z"
    },
    "papermill": {
     "duration": 0.042045,
     "end_time": "2020-12-30T00:21:25.454579",
     "exception": false,
     "start_time": "2020-12-30T00:21:25.412534",
     "status": "completed"
    },
    "tags": []
   },
   "outputs": [],
   "source": [
    "#hide\n",
    "#delete problematic countries from table\n",
    "df_table = df_table[~df_table['Country/Region'].isin(['Cape Verde', 'Cruise Ship', 'Kosovo'])]"
   ]
  },
  {
   "cell_type": "code",
   "execution_count": 17,
   "metadata": {
    "execution": {
     "iopub.execute_input": "2020-12-30T00:21:25.538288Z",
     "iopub.status.busy": "2020-12-30T00:21:25.537571Z",
     "iopub.status.idle": "2020-12-30T00:21:25.541627Z",
     "shell.execute_reply": "2020-12-30T00:21:25.540908Z"
    },
    "papermill": {
     "duration": 0.054736,
     "end_time": "2020-12-30T00:21:25.541787",
     "exception": false,
     "start_time": "2020-12-30T00:21:25.487051",
     "status": "completed"
    },
    "tags": []
   },
   "outputs": [],
   "source": [
    "#hide\n",
    "metrics = [df_table.columns[index] for index in [1,2,5,6]]\n",
    "# s_china = df_table[df_table['Country/Region'].eq('China')][metrics].sum().add_prefix('China ')\n",
    "s_us = df_table[df_table['Country/Region'].eq('US')][metrics].sum().add_prefix('US ')\n",
    "s_eu = df_table[df_table['Continent'].eq('Europe')][metrics].sum().add_prefix('EU ')\n",
    "s_ind = df_table[df_table['Country/Region'].eq('India')][metrics].sum().add_prefix('India ')\n",
    "summary = {'updated': pd.to_datetime(dt_today), 'since': pd.to_datetime(dt_yday)}\n",
    "summary = {'updated': pd.to_datetime(dt_today), 'since': pd.to_datetime(dt_yday)}\n",
    "summary = {**summary, **df_table[metrics].sum(), **s_ind, **s_us, **s_eu}"
   ]
  },
  {
   "cell_type": "code",
   "execution_count": 18,
   "metadata": {
    "execution": {
     "iopub.execute_input": "2020-12-30T00:21:25.613101Z",
     "iopub.status.busy": "2020-12-30T00:21:25.612476Z",
     "iopub.status.idle": "2020-12-30T00:21:25.621909Z",
     "shell.execute_reply": "2020-12-30T00:21:25.622593Z"
    },
    "papermill": {
     "duration": 0.049135,
     "end_time": "2020-12-30T00:21:25.622788",
     "exception": false,
     "start_time": "2020-12-30T00:21:25.573653",
     "status": "completed"
    },
    "tags": []
   },
   "outputs": [],
   "source": [
    "#hide\n",
    "dft_ct_new_cases = dft_cases.groupby(COL_REGION)[dt_cols].sum().diff(axis=1).fillna(0).astype(int)"
   ]
  },
  {
   "cell_type": "code",
   "execution_count": 19,
   "metadata": {
    "execution": {
     "iopub.execute_input": "2020-12-30T00:21:25.694803Z",
     "iopub.status.busy": "2020-12-30T00:21:25.694140Z",
     "iopub.status.idle": "2020-12-30T00:21:25.696713Z",
     "shell.execute_reply": "2020-12-30T00:21:25.696197Z"
    },
    "papermill": {
     "duration": 0.040513,
     "end_time": "2020-12-30T00:21:25.696860",
     "exception": false,
     "start_time": "2020-12-30T00:21:25.656347",
     "status": "completed"
    },
    "tags": []
   },
   "outputs": [],
   "source": [
    "#hide\n",
    "everydaycases = dft_ct_new_cases.cumsum(axis=1)"
   ]
  },
  {
   "cell_type": "code",
   "execution_count": 20,
   "metadata": {
    "execution": {
     "iopub.execute_input": "2020-12-30T00:21:25.767221Z",
     "iopub.status.busy": "2020-12-30T00:21:25.766413Z",
     "iopub.status.idle": "2020-12-30T00:21:28.651895Z",
     "shell.execute_reply": "2020-12-30T00:21:28.651342Z"
    },
    "papermill": {
     "duration": 2.922272,
     "end_time": "2020-12-30T00:21:28.652034",
     "exception": false,
     "start_time": "2020-12-30T00:21:25.729762",
     "status": "completed"
    },
    "tags": []
   },
   "outputs": [],
   "source": [
    "#hide\n",
    "import pandas as pd\n",
    "import matplotlib.pyplot as plt\n",
    "import matplotlib.ticker as ticker\n",
    "import matplotlib.animation as animation\n",
    "from IPython.display import HTML"
   ]
  },
  {
   "cell_type": "code",
   "execution_count": 21,
   "metadata": {
    "execution": {
     "iopub.execute_input": "2020-12-30T00:21:28.720663Z",
     "iopub.status.busy": "2020-12-30T00:21:28.719968Z",
     "iopub.status.idle": "2020-12-30T00:21:28.727892Z",
     "shell.execute_reply": "2020-12-30T00:21:28.727276Z"
    },
    "papermill": {
     "duration": 0.042908,
     "end_time": "2020-12-30T00:21:28.728031",
     "exception": false,
     "start_time": "2020-12-30T00:21:28.685123",
     "status": "completed"
    },
    "tags": []
   },
   "outputs": [],
   "source": [
    "#hide\n",
    "t = everydaycases.stack()"
   ]
  },
  {
   "cell_type": "code",
   "execution_count": 22,
   "metadata": {
    "execution": {
     "iopub.execute_input": "2020-12-30T00:21:28.800956Z",
     "iopub.status.busy": "2020-12-30T00:21:28.800268Z",
     "iopub.status.idle": "2020-12-30T00:21:28.806680Z",
     "shell.execute_reply": "2020-12-30T00:21:28.807274Z"
    },
    "papermill": {
     "duration": 0.044621,
     "end_time": "2020-12-30T00:21:28.807425",
     "exception": false,
     "start_time": "2020-12-30T00:21:28.762804",
     "status": "completed"
    },
    "tags": []
   },
   "outputs": [],
   "source": [
    "#hide\n",
    "g = t.reset_index(['Country/Region'])"
   ]
  },
  {
   "cell_type": "code",
   "execution_count": 23,
   "metadata": {
    "execution": {
     "iopub.execute_input": "2020-12-30T00:21:28.879836Z",
     "iopub.status.busy": "2020-12-30T00:21:28.879258Z",
     "iopub.status.idle": "2020-12-30T00:21:28.881124Z",
     "shell.execute_reply": "2020-12-30T00:21:28.881710Z"
    },
    "papermill": {
     "duration": 0.041687,
     "end_time": "2020-12-30T00:21:28.881841",
     "exception": false,
     "start_time": "2020-12-30T00:21:28.840154",
     "status": "completed"
    },
    "tags": []
   },
   "outputs": [],
   "source": [
    "#hide\n",
    "g.index.name = 'date'"
   ]
  },
  {
   "cell_type": "code",
   "execution_count": 24,
   "metadata": {
    "execution": {
     "iopub.execute_input": "2020-12-30T00:21:28.950936Z",
     "iopub.status.busy": "2020-12-30T00:21:28.950300Z",
     "iopub.status.idle": "2020-12-30T00:21:28.952186Z",
     "shell.execute_reply": "2020-12-30T00:21:28.952933Z"
    },
    "papermill": {
     "duration": 0.038566,
     "end_time": "2020-12-30T00:21:28.953117",
     "exception": false,
     "start_time": "2020-12-30T00:21:28.914551",
     "status": "completed"
    },
    "tags": []
   },
   "outputs": [],
   "source": [
    "# #hide\n",
    "# g = g.reset_index(['date'])"
   ]
  },
  {
   "cell_type": "code",
   "execution_count": 25,
   "metadata": {
    "execution": {
     "iopub.execute_input": "2020-12-30T00:21:29.023435Z",
     "iopub.status.busy": "2020-12-30T00:21:29.022797Z",
     "iopub.status.idle": "2020-12-30T00:21:29.025174Z",
     "shell.execute_reply": "2020-12-30T00:21:29.024546Z"
    },
    "papermill": {
     "duration": 0.04053,
     "end_time": "2020-12-30T00:21:29.025290",
     "exception": false,
     "start_time": "2020-12-30T00:21:28.984760",
     "status": "completed"
    },
    "tags": []
   },
   "outputs": [],
   "source": [
    "#hide\n",
    "# g.head()"
   ]
  },
  {
   "cell_type": "code",
   "execution_count": 26,
   "metadata": {
    "execution": {
     "iopub.execute_input": "2020-12-30T00:21:29.099819Z",
     "iopub.status.busy": "2020-12-30T00:21:29.099193Z",
     "iopub.status.idle": "2020-12-30T00:21:29.101154Z",
     "shell.execute_reply": "2020-12-30T00:21:29.101627Z"
    },
    "papermill": {
     "duration": 0.043795,
     "end_time": "2020-12-30T00:21:29.101773",
     "exception": false,
     "start_time": "2020-12-30T00:21:29.057978",
     "status": "completed"
    },
    "tags": []
   },
   "outputs": [],
   "source": [
    "#hide\n",
    "# g.columns = ['date','country','cases']"
   ]
  },
  {
   "cell_type": "code",
   "execution_count": 27,
   "metadata": {
    "execution": {
     "iopub.execute_input": "2020-12-30T00:21:29.173459Z",
     "iopub.status.busy": "2020-12-30T00:21:29.172834Z",
     "iopub.status.idle": "2020-12-30T00:21:29.175288Z",
     "shell.execute_reply": "2020-12-30T00:21:29.174771Z"
    },
    "papermill": {
     "duration": 0.040068,
     "end_time": "2020-12-30T00:21:29.175414",
     "exception": false,
     "start_time": "2020-12-30T00:21:29.135346",
     "status": "completed"
    },
    "tags": []
   },
   "outputs": [],
   "source": [
    "#hide\n",
    "# g['continent'] = g.country"
   ]
  },
  {
   "cell_type": "code",
   "execution_count": 28,
   "metadata": {
    "execution": {
     "iopub.execute_input": "2020-12-30T00:21:29.246092Z",
     "iopub.status.busy": "2020-12-30T00:21:29.245433Z",
     "iopub.status.idle": "2020-12-30T00:21:29.247429Z",
     "shell.execute_reply": "2020-12-30T00:21:29.248023Z"
    },
    "papermill": {
     "duration": 0.039654,
     "end_time": "2020-12-30T00:21:29.248215",
     "exception": false,
     "start_time": "2020-12-30T00:21:29.208561",
     "status": "completed"
    },
    "tags": []
   },
   "outputs": [],
   "source": [
    "#hide\n",
    "# cols = list(g.columns.values)"
   ]
  },
  {
   "cell_type": "code",
   "execution_count": 29,
   "metadata": {
    "execution": {
     "iopub.execute_input": "2020-12-30T00:21:29.318215Z",
     "iopub.status.busy": "2020-12-30T00:21:29.317499Z",
     "iopub.status.idle": "2020-12-30T00:21:29.321272Z",
     "shell.execute_reply": "2020-12-30T00:21:29.321747Z"
    },
    "papermill": {
     "duration": 0.041059,
     "end_time": "2020-12-30T00:21:29.321905",
     "exception": false,
     "start_time": "2020-12-30T00:21:29.280846",
     "status": "completed"
    },
    "tags": []
   },
   "outputs": [],
   "source": [
    "#hide\n",
    "# cols.insert(0, cols.pop())"
   ]
  },
  {
   "cell_type": "code",
   "execution_count": 30,
   "metadata": {
    "execution": {
     "iopub.execute_input": "2020-12-30T00:21:29.395620Z",
     "iopub.status.busy": "2020-12-30T00:21:29.394914Z",
     "iopub.status.idle": "2020-12-30T00:21:29.397422Z",
     "shell.execute_reply": "2020-12-30T00:21:29.396878Z"
    },
    "papermill": {
     "duration": 0.040165,
     "end_time": "2020-12-30T00:21:29.397546",
     "exception": false,
     "start_time": "2020-12-30T00:21:29.357381",
     "status": "completed"
    },
    "tags": []
   },
   "outputs": [],
   "source": [
    "#hide\n",
    "# g = g[cols]"
   ]
  },
  {
   "cell_type": "code",
   "execution_count": 31,
   "metadata": {
    "execution": {
     "iopub.execute_input": "2020-12-30T00:21:29.472689Z",
     "iopub.status.busy": "2020-12-30T00:21:29.471021Z",
     "iopub.status.idle": "2020-12-30T00:21:29.473473Z",
     "shell.execute_reply": "2020-12-30T00:21:29.473960Z"
    },
    "papermill": {
     "duration": 0.04245,
     "end_time": "2020-12-30T00:21:29.474116",
     "exception": false,
     "start_time": "2020-12-30T00:21:29.431666",
     "status": "completed"
    },
    "tags": []
   },
   "outputs": [],
   "source": [
    "#hide\n",
    "# g['continent'] = g['continent'].map(mapping['map.continent'])"
   ]
  },
  {
   "cell_type": "code",
   "execution_count": 32,
   "metadata": {
    "execution": {
     "iopub.execute_input": "2020-12-30T00:21:29.545834Z",
     "iopub.status.busy": "2020-12-30T00:21:29.544375Z",
     "iopub.status.idle": "2020-12-30T00:21:29.546648Z",
     "shell.execute_reply": "2020-12-30T00:21:29.547132Z"
    },
    "papermill": {
     "duration": 0.040159,
     "end_time": "2020-12-30T00:21:29.547286",
     "exception": false,
     "start_time": "2020-12-30T00:21:29.507127",
     "status": "completed"
    },
    "tags": []
   },
   "outputs": [],
   "source": [
    "#hide\n",
    "# g.head()"
   ]
  },
  {
   "cell_type": "code",
   "execution_count": 33,
   "metadata": {
    "execution": {
     "iopub.execute_input": "2020-12-30T00:21:29.618434Z",
     "iopub.status.busy": "2020-12-30T00:21:29.617783Z",
     "iopub.status.idle": "2020-12-30T00:21:29.620752Z",
     "shell.execute_reply": "2020-12-30T00:21:29.621292Z"
    },
    "papermill": {
     "duration": 0.04152,
     "end_time": "2020-12-30T00:21:29.621501",
     "exception": false,
     "start_time": "2020-12-30T00:21:29.579981",
     "status": "completed"
    },
    "tags": []
   },
   "outputs": [],
   "source": [
    "# hide\n",
    "# g['date'] = g['date'].astype('datetime64[ns]')"
   ]
  },
  {
   "cell_type": "code",
   "execution_count": 34,
   "metadata": {
    "execution": {
     "iopub.execute_input": "2020-12-30T00:21:29.693168Z",
     "iopub.status.busy": "2020-12-30T00:21:29.692555Z",
     "iopub.status.idle": "2020-12-30T00:21:29.695032Z",
     "shell.execute_reply": "2020-12-30T00:21:29.694579Z"
    },
    "papermill": {
     "duration": 0.040151,
     "end_time": "2020-12-30T00:21:29.695181",
     "exception": false,
     "start_time": "2020-12-30T00:21:29.655030",
     "status": "completed"
    },
    "tags": []
   },
   "outputs": [],
   "source": [
    "#hide\n",
    "# g['date'] = g.date.dt.dayofyear"
   ]
  },
  {
   "cell_type": "code",
   "execution_count": 35,
   "metadata": {
    "execution": {
     "iopub.execute_input": "2020-12-30T00:21:29.763328Z",
     "iopub.status.busy": "2020-12-30T00:21:29.762673Z",
     "iopub.status.idle": "2020-12-30T00:21:29.765758Z",
     "shell.execute_reply": "2020-12-30T00:21:29.765150Z"
    },
    "papermill": {
     "duration": 0.03931,
     "end_time": "2020-12-30T00:21:29.765901",
     "exception": false,
     "start_time": "2020-12-30T00:21:29.726591",
     "status": "completed"
    },
    "tags": []
   },
   "outputs": [],
   "source": [
    "#hide\n",
    "# g = g.rename(columns= {'continent':'group','country':'name','cases':'value'})"
   ]
  },
  {
   "cell_type": "code",
   "execution_count": 36,
   "metadata": {
    "execution": {
     "iopub.execute_input": "2020-12-30T00:21:29.838518Z",
     "iopub.status.busy": "2020-12-30T00:21:29.837877Z",
     "iopub.status.idle": "2020-12-30T00:21:29.840325Z",
     "shell.execute_reply": "2020-12-30T00:21:29.839808Z"
    },
    "papermill": {
     "duration": 0.039882,
     "end_time": "2020-12-30T00:21:29.840480",
     "exception": false,
     "start_time": "2020-12-30T00:21:29.800598",
     "status": "completed"
    },
    "tags": []
   },
   "outputs": [],
   "source": [
    "#hide\n",
    "# cols = ['name','group','day','value']"
   ]
  },
  {
   "cell_type": "code",
   "execution_count": 37,
   "metadata": {
    "execution": {
     "iopub.execute_input": "2020-12-30T00:21:29.909572Z",
     "iopub.status.busy": "2020-12-30T00:21:29.908991Z",
     "iopub.status.idle": "2020-12-30T00:21:29.911396Z",
     "shell.execute_reply": "2020-12-30T00:21:29.910832Z"
    },
    "papermill": {
     "duration": 0.039963,
     "end_time": "2020-12-30T00:21:29.911548",
     "exception": false,
     "start_time": "2020-12-30T00:21:29.871585",
     "status": "completed"
    },
    "tags": []
   },
   "outputs": [],
   "source": [
    "#hide\n",
    "# g.rename(columns= {'date':'day'},inplace = True)"
   ]
  },
  {
   "cell_type": "code",
   "execution_count": 38,
   "metadata": {
    "execution": {
     "iopub.execute_input": "2020-12-30T00:21:29.986345Z",
     "iopub.status.busy": "2020-12-30T00:21:29.985760Z",
     "iopub.status.idle": "2020-12-30T00:21:29.987769Z",
     "shell.execute_reply": "2020-12-30T00:21:29.988359Z"
    },
    "papermill": {
     "duration": 0.041104,
     "end_time": "2020-12-30T00:21:29.988489",
     "exception": false,
     "start_time": "2020-12-30T00:21:29.947385",
     "status": "completed"
    },
    "tags": []
   },
   "outputs": [],
   "source": [
    "#hide\n",
    "# g = g[cols]"
   ]
  },
  {
   "cell_type": "code",
   "execution_count": 39,
   "metadata": {
    "execution": {
     "iopub.execute_input": "2020-12-30T00:21:30.057472Z",
     "iopub.status.busy": "2020-12-30T00:21:30.056805Z",
     "iopub.status.idle": "2020-12-30T00:21:30.058759Z",
     "shell.execute_reply": "2020-12-30T00:21:30.059352Z"
    },
    "papermill": {
     "duration": 0.038933,
     "end_time": "2020-12-30T00:21:30.059519",
     "exception": false,
     "start_time": "2020-12-30T00:21:30.020586",
     "status": "completed"
    },
    "tags": []
   },
   "outputs": [],
   "source": [
    "# #hide\n",
    "# g = g[g.group.notna()]"
   ]
  },
  {
   "cell_type": "code",
   "execution_count": 40,
   "metadata": {
    "execution": {
     "iopub.execute_input": "2020-12-30T00:21:30.132521Z",
     "iopub.status.busy": "2020-12-30T00:21:30.131725Z",
     "iopub.status.idle": "2020-12-30T00:21:30.134400Z",
     "shell.execute_reply": "2020-12-30T00:21:30.133891Z"
    },
    "papermill": {
     "duration": 0.041346,
     "end_time": "2020-12-30T00:21:30.134526",
     "exception": false,
     "start_time": "2020-12-30T00:21:30.093180",
     "status": "completed"
    },
    "tags": []
   },
   "outputs": [],
   "source": [
    "# #hide\n",
    "# colors = dict(zip(\n",
    "#     [\"Oceania\", \"Europe\", \"Asia\", \"South America\", \"Middle East\", \"North America\", \"Africa\"],\n",
    "#     [\"#adb0ff\", \"#ffb3ff\", \"#90d595\", \"#e48381\", \"#aafbff\", \"#f7bb5f\", \"#eafb50\"]\n",
    "# ))\n",
    "# group_lk = g.set_index('name')['group'].to_dict()"
   ]
  },
  {
   "cell_type": "code",
   "execution_count": null,
   "metadata": {
    "papermill": {
     "duration": 0.034913,
     "end_time": "2020-12-30T00:21:30.204698",
     "exception": false,
     "start_time": "2020-12-30T00:21:30.169785",
     "status": "completed"
    },
    "tags": []
   },
   "outputs": [],
   "source": []
  },
  {
   "cell_type": "code",
   "execution_count": 41,
   "metadata": {
    "execution": {
     "iopub.execute_input": "2020-12-30T00:21:30.273444Z",
     "iopub.status.busy": "2020-12-30T00:21:30.272791Z",
     "iopub.status.idle": "2020-12-30T00:21:30.274762Z",
     "shell.execute_reply": "2020-12-30T00:21:30.275328Z"
    },
    "papermill": {
     "duration": 0.039754,
     "end_time": "2020-12-30T00:21:30.275492",
     "exception": false,
     "start_time": "2020-12-30T00:21:30.235738",
     "status": "completed"
    },
    "tags": []
   },
   "outputs": [],
   "source": [
    "# #hide\n",
    "# fig, ax = plt.subplots(figsize=(15, 8))\n",
    "\n",
    "# def draw_barchart(current_day):\n",
    "#     dff = g[g['day'].eq(current_day)].sort_values(by='value', ascending=True).tail(10)\n",
    "#     ax.clear()\n",
    "#     ax.barh(dff['name'], dff['value'], color=[colors[group_lk[x]] for x in dff['name']])\n",
    "#     dx = dff['value'].max() / 200\n",
    "    \n",
    "#     for i, (value, name) in enumerate(zip(dff['value'], dff['name'])):\n",
    "#         ax.text(value-dx, i,     name,           size=14, weight=600, ha='right', va='bottom')\n",
    "#         ax.text(value-dx, i-.25, group_lk[name], size=10, color='#444444', ha='right', va='baseline')\n",
    "#         ax.text(value+dx, i,     f'{value:,.0f}',  size=14, ha='left',  va='center')\n",
    "#     ax.text(1, 0.4, current_day, transform=ax.transAxes, color='#777777', size=46, ha='right', weight=800)\n",
    "#     ax.text(0, 1.06, 'Population (thousands)', transform=ax.transAxes, size=12, color='#777777')\n",
    "#     ax.xaxis.set_major_formatter(ticker.StrMethodFormatter('{x:,.0f}'))\n",
    "#     ax.xaxis.set_ticks_position('top')\n",
    "#     ax.tick_params(axis='x', colors='#777777', labelsize=12)\n",
    "#     ax.set_yticks([])\n",
    "#     ax.margins(0, 0.01)\n",
    "#     ax.grid(which='major', axis='x', linestyle='-')\n",
    "#     ax.set_axisbelow(True)\n",
    "    \n",
    "#     ax.text(0, 1.15, 'Coronavirus',\n",
    "#             transform=ax.transAxes, size=24, weight=600, ha='left', va='top')\n",
    "# #     ax.text(1, 0, 'by @pratapvardhan; credit @jburnmurdoch', transform=ax.transAxes, color='#777777', ha='right',\n",
    "# #             bbox=dict(facecolor='white', alpha=0.8, edgecolor='white'))\n",
    "#     plt.box(False)"
   ]
  },
  {
   "cell_type": "code",
   "execution_count": 42,
   "metadata": {
    "execution": {
     "iopub.execute_input": "2020-12-30T00:21:30.343641Z",
     "iopub.status.busy": "2020-12-30T00:21:30.342887Z",
     "iopub.status.idle": "2020-12-30T00:21:30.345496Z",
     "shell.execute_reply": "2020-12-30T00:21:30.344961Z"
    },
    "papermill": {
     "duration": 0.038232,
     "end_time": "2020-12-30T00:21:30.345619",
     "exception": false,
     "start_time": "2020-12-30T00:21:30.307387",
     "status": "completed"
    },
    "tags": []
   },
   "outputs": [],
   "source": [
    "# #hide_input\n",
    "# fig, ax = plt.subplots(figsize=(15, 8))\n",
    "# animator = animation.FuncAnimation(fig, draw_barchart, frames=range(g.day.values.min(), g.day.values.max()))\n",
    "# HTML(animator.to_jshtml())\n",
    "# # or use animator.to_html5_video() or animator.save() "
   ]
  },
  {
   "cell_type": "code",
   "execution_count": null,
   "metadata": {
    "papermill": {
     "duration": 0.036862,
     "end_time": "2020-12-30T00:21:30.415109",
     "exception": false,
     "start_time": "2020-12-30T00:21:30.378247",
     "status": "completed"
    },
    "tags": []
   },
   "outputs": [],
   "source": []
  },
  {
   "cell_type": "code",
   "execution_count": null,
   "metadata": {
    "papermill": {
     "duration": 0.035165,
     "end_time": "2020-12-30T00:21:30.483204",
     "exception": false,
     "start_time": "2020-12-30T00:21:30.448039",
     "status": "completed"
    },
    "tags": []
   },
   "outputs": [],
   "source": []
  },
  {
   "cell_type": "code",
   "execution_count": null,
   "metadata": {
    "papermill": {
     "duration": 0.03525,
     "end_time": "2020-12-30T00:21:30.554920",
     "exception": false,
     "start_time": "2020-12-30T00:21:30.519670",
     "status": "completed"
    },
    "tags": []
   },
   "outputs": [],
   "source": []
  }
 ],
 "metadata": {
  "kernelspec": {
   "display_name": "Python 3",
   "language": "python",
   "name": "python3"
  },
  "language_info": {
   "codemirror_mode": {
    "name": "ipython",
    "version": 3
   },
   "file_extension": ".py",
   "mimetype": "text/x-python",
   "name": "python",
   "nbconvert_exporter": "python",
   "pygments_lexer": "ipython3",
   "version": "3.6.12"
  },
  "papermill": {
   "duration": 8.73187,
   "end_time": "2020-12-30T00:21:30.897192",
   "environment_variables": {},
   "exception": null,
   "input_path": "2020-03-21-covid19exp.ipynb",
   "output_path": "2020-03-21-covid19exp.ipynb",
   "parameters": {},
   "start_time": "2020-12-30T00:21:22.165322",
   "version": "2.0.0"
  }
 },
 "nbformat": 4,
 "nbformat_minor": 4
}