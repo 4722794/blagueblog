{
 "cells": [
  {
   "cell_type": "markdown",
   "id": "muslim-click",
   "metadata": {
    "papermill": {
     "duration": 0.041047,
     "end_time": "2021-02-23T12:07:11.736613",
     "exception": false,
     "start_time": "2021-02-23T12:07:11.695566",
     "status": "completed"
    },
    "tags": []
   },
   "source": [
    "# COVID-19 Case Race\n",
    "> A race chart to see rising cases around the world\n",
    "\n",
    "- author: Hargun Oberoi\n",
    "- image: images/covid-overview.png\n",
    "- hide: false\n",
    "- badges: false"
   ]
  },
  {
   "cell_type": "code",
   "execution_count": 1,
   "id": "proof-material",
   "metadata": {
    "execution": {
     "iopub.execute_input": "2021-02-23T12:07:11.822057Z",
     "iopub.status.busy": "2021-02-23T12:07:11.821399Z",
     "iopub.status.idle": "2021-02-23T12:07:12.190049Z",
     "shell.execute_reply": "2021-02-23T12:07:12.190657Z"
    },
    "papermill": {
     "duration": 0.416152,
     "end_time": "2021-02-23T12:07:12.190843",
     "exception": false,
     "start_time": "2021-02-23T12:07:11.774691",
     "status": "completed"
    },
    "tags": []
   },
   "outputs": [],
   "source": [
    "#hide\n",
    "import numpy as np\n",
    "import pandas as pd\n",
    "from jinja2 import Template\n",
    "from IPython.display import HTML"
   ]
  },
  {
   "cell_type": "code",
   "execution_count": 2,
   "id": "developed-terminology",
   "metadata": {
    "execution": {
     "iopub.execute_input": "2021-02-23T12:07:12.271117Z",
     "iopub.status.busy": "2021-02-23T12:07:12.270344Z",
     "iopub.status.idle": "2021-02-23T12:07:12.272810Z",
     "shell.execute_reply": "2021-02-23T12:07:12.272159Z"
    },
    "papermill": {
     "duration": 0.045549,
     "end_time": "2021-02-23T12:07:12.272929",
     "exception": false,
     "start_time": "2021-02-23T12:07:12.227380",
     "status": "completed"
    },
    "tags": []
   },
   "outputs": [],
   "source": [
    "#hide\n",
    "\n",
    "# FETCH\n",
    "base_url = 'https://raw.githubusercontent.com/pratapvardhan/notebooks/master/covid19/'\n",
    "paths = {\n",
    "    'mapping': base_url + 'mapping_countries.csv',\n",
    "    'overview': base_url + 'overview.tpl'\n",
    "}"
   ]
  },
  {
   "cell_type": "code",
   "execution_count": 3,
   "id": "dynamic-saver",
   "metadata": {
    "execution": {
     "iopub.execute_input": "2021-02-23T12:07:12.355604Z",
     "iopub.status.busy": "2021-02-23T12:07:12.354977Z",
     "iopub.status.idle": "2021-02-23T12:07:12.358973Z",
     "shell.execute_reply": "2021-02-23T12:07:12.358409Z"
    },
    "papermill": {
     "duration": 0.050106,
     "end_time": "2021-02-23T12:07:12.359095",
     "exception": false,
     "start_time": "2021-02-23T12:07:12.308989",
     "status": "completed"
    },
    "tags": []
   },
   "outputs": [
    {
     "data": {
      "text/plain": [
       "'https://raw.githubusercontent.com/pratapvardhan/notebooks/master/covid19/mapping_countries.csv'"
      ]
     },
     "execution_count": 3,
     "metadata": {},
     "output_type": "execute_result"
    }
   ],
   "source": [
    "#hide\n",
    "paths['mapping']"
   ]
  },
  {
   "cell_type": "code",
   "execution_count": 4,
   "id": "urban-software",
   "metadata": {
    "execution": {
     "iopub.execute_input": "2021-02-23T12:07:12.436355Z",
     "iopub.status.busy": "2021-02-23T12:07:12.435692Z",
     "iopub.status.idle": "2021-02-23T12:07:12.437926Z",
     "shell.execute_reply": "2021-02-23T12:07:12.437418Z"
    },
    "papermill": {
     "duration": 0.042941,
     "end_time": "2021-02-23T12:07:12.438183",
     "exception": false,
     "start_time": "2021-02-23T12:07:12.395242",
     "status": "completed"
    },
    "tags": []
   },
   "outputs": [],
   "source": [
    "#hide\n",
    "def get_mappings(url):\n",
    "    df = pd.read_csv(url)\n",
    "    return {\n",
    "        'df': df,\n",
    "        'replace.country': dict(df.dropna(subset=['Name']).set_index('Country')['Name']),\n",
    "        'map.continent': dict(df.set_index('Name')['Continent'])\n",
    "    }"
   ]
  },
  {
   "cell_type": "code",
   "execution_count": 5,
   "id": "intimate-machinery",
   "metadata": {
    "execution": {
     "iopub.execute_input": "2021-02-23T12:07:12.515637Z",
     "iopub.status.busy": "2021-02-23T12:07:12.514970Z",
     "iopub.status.idle": "2021-02-23T12:07:12.563678Z",
     "shell.execute_reply": "2021-02-23T12:07:12.562884Z"
    },
    "papermill": {
     "duration": 0.088784,
     "end_time": "2021-02-23T12:07:12.563802",
     "exception": false,
     "start_time": "2021-02-23T12:07:12.475018",
     "status": "completed"
    },
    "tags": []
   },
   "outputs": [],
   "source": [
    "#hide\n",
    "mapping = get_mappings(paths['mapping'])"
   ]
  },
  {
   "cell_type": "code",
   "execution_count": 6,
   "id": "certified-tactics",
   "metadata": {
    "execution": {
     "iopub.execute_input": "2021-02-23T12:07:12.638920Z",
     "iopub.status.busy": "2021-02-23T12:07:12.638235Z",
     "iopub.status.idle": "2021-02-23T12:07:12.640067Z",
     "shell.execute_reply": "2021-02-23T12:07:12.640585Z"
    },
    "papermill": {
     "duration": 0.042422,
     "end_time": "2021-02-23T12:07:12.640706",
     "exception": false,
     "start_time": "2021-02-23T12:07:12.598284",
     "status": "completed"
    },
    "tags": []
   },
   "outputs": [],
   "source": [
    "#hide\n",
    "def get_template(path):\n",
    "    from urllib.parse import urlparse\n",
    "    if bool(urlparse(path).netloc):\n",
    "        from urllib.request import urlopen\n",
    "        return urlopen(path).read().decode('utf8')\n",
    "    return open(path).read()"
   ]
  },
  {
   "cell_type": "code",
   "execution_count": 7,
   "id": "realistic-blast",
   "metadata": {
    "execution": {
     "iopub.execute_input": "2021-02-23T12:07:12.713334Z",
     "iopub.status.busy": "2021-02-23T12:07:12.712719Z",
     "iopub.status.idle": "2021-02-23T12:07:12.715183Z",
     "shell.execute_reply": "2021-02-23T12:07:12.714616Z"
    },
    "papermill": {
     "duration": 0.040982,
     "end_time": "2021-02-23T12:07:12.715301",
     "exception": false,
     "start_time": "2021-02-23T12:07:12.674319",
     "status": "completed"
    },
    "tags": []
   },
   "outputs": [],
   "source": [
    "#hide\n",
    "def get_frame(name):\n",
    "    url = (\n",
    "        'https://raw.githubusercontent.com/CSSEGISandData/COVID-19/master/csse_covid_19_data/'\n",
    "        f'csse_covid_19_time_series/time_series_covid19_{name}_global.csv')\n",
    "    df = pd.read_csv(url)\n",
    "    # rename countries\n",
    "    df['Country/Region'] = df['Country/Region'].replace(mapping['replace.country'])\n",
    "    return df"
   ]
  },
  {
   "cell_type": "code",
   "execution_count": 8,
   "id": "affiliated-characterization",
   "metadata": {
    "execution": {
     "iopub.execute_input": "2021-02-23T12:07:12.790912Z",
     "iopub.status.busy": "2021-02-23T12:07:12.790304Z",
     "iopub.status.idle": "2021-02-23T12:07:12.792858Z",
     "shell.execute_reply": "2021-02-23T12:07:12.792382Z"
    },
    "papermill": {
     "duration": 0.043397,
     "end_time": "2021-02-23T12:07:12.792971",
     "exception": false,
     "start_time": "2021-02-23T12:07:12.749574",
     "status": "completed"
    },
    "tags": []
   },
   "outputs": [],
   "source": [
    "#hide\n",
    "def get_dates(df):\n",
    "    dt_cols = df.columns[~df.columns.isin(['Province/State', 'Country/Region', 'Lat', 'Long'])]\n",
    "    LAST_DATE_I = -1\n",
    "    # sometimes last column may be empty, then go backwards\n",
    "    for i in range(-1, -len(dt_cols), -1):\n",
    "        if not df[dt_cols[i]].fillna(0).eq(0).all():\n",
    "            LAST_DATE_I = i\n",
    "            break\n",
    "    return LAST_DATE_I, dt_cols"
   ]
  },
  {
   "cell_type": "code",
   "execution_count": 9,
   "id": "recent-optimization",
   "metadata": {
    "execution": {
     "iopub.execute_input": "2021-02-23T12:07:12.869413Z",
     "iopub.status.busy": "2021-02-23T12:07:12.868793Z",
     "iopub.status.idle": "2021-02-23T12:07:13.197067Z",
     "shell.execute_reply": "2021-02-23T12:07:13.196372Z"
    },
    "papermill": {
     "duration": 0.369388,
     "end_time": "2021-02-23T12:07:13.197210",
     "exception": false,
     "start_time": "2021-02-23T12:07:12.827822",
     "status": "completed"
    },
    "tags": []
   },
   "outputs": [],
   "source": [
    "#hide\n",
    "COL_REGION = 'Country/Region'\n",
    "# Confirmed, Recovered, Deaths\n",
    "df = get_frame('confirmed')\n",
    "# dft_: timeseries, dfc_: today country agg\n",
    "dft_cases = df\n",
    "dft_deaths = get_frame('deaths')\n",
    "dft_recovered = get_frame('recovered')\n",
    "LAST_DATE_I, dt_cols = get_dates(df)"
   ]
  },
  {
   "cell_type": "code",
   "execution_count": 10,
   "id": "absolute-copper",
   "metadata": {
    "execution": {
     "iopub.execute_input": "2021-02-23T12:07:13.279319Z",
     "iopub.status.busy": "2021-02-23T12:07:13.278637Z",
     "iopub.status.idle": "2021-02-23T12:07:13.280570Z",
     "shell.execute_reply": "2021-02-23T12:07:13.281068Z"
    },
    "papermill": {
     "duration": 0.047142,
     "end_time": "2021-02-23T12:07:13.281200",
     "exception": false,
     "start_time": "2021-02-23T12:07:13.234058",
     "status": "completed"
    },
    "tags": []
   },
   "outputs": [],
   "source": [
    "#hide\n",
    "LAST_DATE_I, dt_cols = get_dates(df)\n",
    "dt_today =dt_cols[LAST_DATE_I]\n",
    "# dt_5day = dt_cols[LAST_DATE_I - 5]\n",
    "dt_yday = dt_cols[LAST_DATE_I - 1]"
   ]
  },
  {
   "cell_type": "code",
   "execution_count": 11,
   "id": "restricted-sheriff",
   "metadata": {
    "execution": {
     "iopub.execute_input": "2021-02-23T12:07:13.359432Z",
     "iopub.status.busy": "2021-02-23T12:07:13.358708Z",
     "iopub.status.idle": "2021-02-23T12:07:13.366392Z",
     "shell.execute_reply": "2021-02-23T12:07:13.365877Z"
    },
    "papermill": {
     "duration": 0.049627,
     "end_time": "2021-02-23T12:07:13.366524",
     "exception": false,
     "start_time": "2021-02-23T12:07:13.316897",
     "status": "completed"
    },
    "tags": []
   },
   "outputs": [],
   "source": [
    "#hide\n",
    "dfc_cases = dft_cases.groupby(COL_REGION)[dt_today].sum()\n",
    "dfc_deaths = dft_deaths.groupby(COL_REGION)[dt_today].sum()\n",
    "# dfp_cases = dft_cases.groupby(COL_REGION)[dt_5day].sum()\n",
    "# dfp_deaths = dft_deaths.groupby(COL_REGION)[dt_5day].sum()\n",
    "dfp_cases = dft_cases.groupby(COL_REGION)[dt_yday].sum()\n",
    "dfp_deaths = dft_deaths.groupby(COL_REGION)[dt_yday].sum()"
   ]
  },
  {
   "cell_type": "code",
   "execution_count": 12,
   "id": "deluxe-hepatitis",
   "metadata": {
    "execution": {
     "iopub.execute_input": "2021-02-23T12:07:13.445626Z",
     "iopub.status.busy": "2021-02-23T12:07:13.444977Z",
     "iopub.status.idle": "2021-02-23T12:07:13.449664Z",
     "shell.execute_reply": "2021-02-23T12:07:13.450249Z"
    },
    "papermill": {
     "duration": 0.048836,
     "end_time": "2021-02-23T12:07:13.450399",
     "exception": false,
     "start_time": "2021-02-23T12:07:13.401563",
     "status": "completed"
    },
    "tags": []
   },
   "outputs": [],
   "source": [
    "#hide\n",
    "df_table = (pd.DataFrame(dict(Cases = dfc_cases, Deaths = dfc_deaths, PCases = dfp_cases, PDeaths = dfp_deaths))\n",
    "            .sort_values(by = ['Cases','Deaths'], ascending = [False, False])\n",
    "            .reset_index())"
   ]
  },
  {
   "cell_type": "code",
   "execution_count": 13,
   "id": "educational-chancellor",
   "metadata": {
    "execution": {
     "iopub.execute_input": "2021-02-23T12:07:13.545771Z",
     "iopub.status.busy": "2021-02-23T12:07:13.545145Z",
     "iopub.status.idle": "2021-02-23T12:07:13.553333Z",
     "shell.execute_reply": "2021-02-23T12:07:13.554036Z"
    },
    "papermill": {
     "duration": 0.068748,
     "end_time": "2021-02-23T12:07:13.554261",
     "exception": false,
     "start_time": "2021-02-23T12:07:13.485513",
     "status": "completed"
    },
    "tags": []
   },
   "outputs": [
    {
     "data": {
      "text/html": [
       "<div>\n",
       "<style scoped>\n",
       "    .dataframe tbody tr th:only-of-type {\n",
       "        vertical-align: middle;\n",
       "    }\n",
       "\n",
       "    .dataframe tbody tr th {\n",
       "        vertical-align: top;\n",
       "    }\n",
       "\n",
       "    .dataframe thead th {\n",
       "        text-align: right;\n",
       "    }\n",
       "</style>\n",
       "<table border=\"1\" class=\"dataframe\">\n",
       "  <thead>\n",
       "    <tr style=\"text-align: right;\">\n",
       "      <th></th>\n",
       "      <th>Country/Region</th>\n",
       "      <th>Cases</th>\n",
       "      <th>Deaths</th>\n",
       "      <th>PCases</th>\n",
       "      <th>PDeaths</th>\n",
       "      <th>Cases (+)</th>\n",
       "      <th>Deaths (+)</th>\n",
       "      <th>Fatality Rate</th>\n",
       "      <th>Continent</th>\n",
       "    </tr>\n",
       "  </thead>\n",
       "  <tbody>\n",
       "    <tr>\n",
       "      <th>0</th>\n",
       "      <td>US</td>\n",
       "      <td>28190159</td>\n",
       "      <td>500310</td>\n",
       "      <td>28134115</td>\n",
       "      <td>498897</td>\n",
       "      <td>56044</td>\n",
       "      <td>1413</td>\n",
       "      <td>1.77</td>\n",
       "      <td>North America</td>\n",
       "    </tr>\n",
       "    <tr>\n",
       "      <th>1</th>\n",
       "      <td>India</td>\n",
       "      <td>11016434</td>\n",
       "      <td>156463</td>\n",
       "      <td>11005850</td>\n",
       "      <td>156385</td>\n",
       "      <td>10584</td>\n",
       "      <td>78</td>\n",
       "      <td>1.42</td>\n",
       "      <td>Asia</td>\n",
       "    </tr>\n",
       "    <tr>\n",
       "      <th>2</th>\n",
       "      <td>Brazil</td>\n",
       "      <td>10195160</td>\n",
       "      <td>247143</td>\n",
       "      <td>10168174</td>\n",
       "      <td>246504</td>\n",
       "      <td>26986</td>\n",
       "      <td>639</td>\n",
       "      <td>2.42</td>\n",
       "      <td>South America</td>\n",
       "    </tr>\n",
       "    <tr>\n",
       "      <th>3</th>\n",
       "      <td>United Kingdom</td>\n",
       "      <td>4138233</td>\n",
       "      <td>120988</td>\n",
       "      <td>4127574</td>\n",
       "      <td>120810</td>\n",
       "      <td>10659</td>\n",
       "      <td>178</td>\n",
       "      <td>2.92</td>\n",
       "      <td>Europe</td>\n",
       "    </tr>\n",
       "    <tr>\n",
       "      <th>4</th>\n",
       "      <td>Russia</td>\n",
       "      <td>4130447</td>\n",
       "      <td>82255</td>\n",
       "      <td>4117992</td>\n",
       "      <td>81926</td>\n",
       "      <td>12455</td>\n",
       "      <td>329</td>\n",
       "      <td>1.99</td>\n",
       "      <td>Europe</td>\n",
       "    </tr>\n",
       "  </tbody>\n",
       "</table>\n",
       "</div>"
      ],
      "text/plain": [
       "   Country/Region     Cases  Deaths    PCases  PDeaths  Cases (+)  Deaths (+)  \\\n",
       "0              US  28190159  500310  28134115   498897      56044        1413   \n",
       "1           India  11016434  156463  11005850   156385      10584          78   \n",
       "2          Brazil  10195160  247143  10168174   246504      26986         639   \n",
       "3  United Kingdom   4138233  120988   4127574   120810      10659         178   \n",
       "4          Russia   4130447   82255   4117992    81926      12455         329   \n",
       "\n",
       "   Fatality Rate      Continent  \n",
       "0           1.77  North America  \n",
       "1           1.42           Asia  \n",
       "2           2.42  South America  \n",
       "3           2.92         Europe  \n",
       "4           1.99         Europe  "
      ]
     },
     "execution_count": 13,
     "metadata": {},
     "output_type": "execute_result"
    }
   ],
   "source": [
    "#hide\n",
    "for c in 'Cases, Deaths'.split(', '):\n",
    "    df_table[f'{c} (+)'] = (df_table[c] - df_table[f'P{c}']).clip(0)\n",
    "    #Clip ça veut dire, les chiffres negatif sont interdit\n",
    "df_table['Fatality Rate'] = (100* df_table['Deaths']/ df_table['Cases']).round(2)\n",
    "df_table['Continent'] = df_table['Country/Region'].map(mapping['map.continent'])\n",
    "df_table.head(5)"
   ]
  },
  {
   "cell_type": "code",
   "execution_count": 14,
   "id": "aboriginal-bulgaria",
   "metadata": {
    "execution": {
     "iopub.execute_input": "2021-02-23T12:07:13.631092Z",
     "iopub.status.busy": "2021-02-23T12:07:13.630439Z",
     "iopub.status.idle": "2021-02-23T12:07:13.633867Z",
     "shell.execute_reply": "2021-02-23T12:07:13.633386Z"
    },
    "papermill": {
     "duration": 0.043514,
     "end_time": "2021-02-23T12:07:13.633983",
     "exception": false,
     "start_time": "2021-02-23T12:07:13.590469",
     "status": "completed"
    },
    "tags": []
   },
   "outputs": [],
   "source": [
    "#hide\n",
    "#delete problematic countries from table\n",
    "df_table = df_table[~df_table['Country/Region'].isin(['Cape Verde', 'Cruise Ship', 'Kosovo'])]"
   ]
  },
  {
   "cell_type": "code",
   "execution_count": 15,
   "id": "fantastic-effect",
   "metadata": {
    "execution": {
     "iopub.execute_input": "2021-02-23T12:07:13.713810Z",
     "iopub.status.busy": "2021-02-23T12:07:13.713179Z",
     "iopub.status.idle": "2021-02-23T12:07:13.734237Z",
     "shell.execute_reply": "2021-02-23T12:07:13.733713Z"
    },
    "papermill": {
     "duration": 0.06472,
     "end_time": "2021-02-23T12:07:13.734369",
     "exception": false,
     "start_time": "2021-02-23T12:07:13.669649",
     "status": "completed"
    },
    "tags": []
   },
   "outputs": [
    {
     "data": {
      "text/html": [
       "<div>\n",
       "<style scoped>\n",
       "    .dataframe tbody tr th:only-of-type {\n",
       "        vertical-align: middle;\n",
       "    }\n",
       "\n",
       "    .dataframe tbody tr th {\n",
       "        vertical-align: top;\n",
       "    }\n",
       "\n",
       "    .dataframe thead th {\n",
       "        text-align: right;\n",
       "    }\n",
       "</style>\n",
       "<table border=\"1\" class=\"dataframe\">\n",
       "  <thead>\n",
       "    <tr style=\"text-align: right;\">\n",
       "      <th></th>\n",
       "      <th>Country/Region</th>\n",
       "      <th>Cases</th>\n",
       "      <th>Deaths</th>\n",
       "      <th>PCases</th>\n",
       "      <th>PDeaths</th>\n",
       "      <th>Cases (+)</th>\n",
       "      <th>Deaths (+)</th>\n",
       "      <th>Fatality Rate</th>\n",
       "      <th>Continent</th>\n",
       "    </tr>\n",
       "  </thead>\n",
       "  <tbody>\n",
       "    <tr>\n",
       "      <th>0</th>\n",
       "      <td>US</td>\n",
       "      <td>28190159</td>\n",
       "      <td>500310</td>\n",
       "      <td>28134115</td>\n",
       "      <td>498897</td>\n",
       "      <td>56044</td>\n",
       "      <td>1413</td>\n",
       "      <td>1.8</td>\n",
       "      <td>North America</td>\n",
       "    </tr>\n",
       "    <tr>\n",
       "      <th>1</th>\n",
       "      <td>India</td>\n",
       "      <td>11016434</td>\n",
       "      <td>156463</td>\n",
       "      <td>11005850</td>\n",
       "      <td>156385</td>\n",
       "      <td>10584</td>\n",
       "      <td>78</td>\n",
       "      <td>1.4</td>\n",
       "      <td>Asia</td>\n",
       "    </tr>\n",
       "    <tr>\n",
       "      <th>2</th>\n",
       "      <td>Brazil</td>\n",
       "      <td>10195160</td>\n",
       "      <td>247143</td>\n",
       "      <td>10168174</td>\n",
       "      <td>246504</td>\n",
       "      <td>26986</td>\n",
       "      <td>639</td>\n",
       "      <td>2.4</td>\n",
       "      <td>South America</td>\n",
       "    </tr>\n",
       "    <tr>\n",
       "      <th>3</th>\n",
       "      <td>United Kingdom</td>\n",
       "      <td>4138233</td>\n",
       "      <td>120988</td>\n",
       "      <td>4127574</td>\n",
       "      <td>120810</td>\n",
       "      <td>10659</td>\n",
       "      <td>178</td>\n",
       "      <td>2.9</td>\n",
       "      <td>Europe</td>\n",
       "    </tr>\n",
       "    <tr>\n",
       "      <th>4</th>\n",
       "      <td>Russia</td>\n",
       "      <td>4130447</td>\n",
       "      <td>82255</td>\n",
       "      <td>4117992</td>\n",
       "      <td>81926</td>\n",
       "      <td>12455</td>\n",
       "      <td>329</td>\n",
       "      <td>2.0</td>\n",
       "      <td>Europe</td>\n",
       "    </tr>\n",
       "  </tbody>\n",
       "</table>\n",
       "</div>"
      ],
      "text/plain": [
       "   Country/Region     Cases  Deaths    PCases  PDeaths  Cases (+)  Deaths (+)  \\\n",
       "0              US  28190159  500310  28134115   498897      56044        1413   \n",
       "1           India  11016434  156463  11005850   156385      10584          78   \n",
       "2          Brazil  10195160  247143  10168174   246504      26986         639   \n",
       "3  United Kingdom   4138233  120988   4127574   120810      10659         178   \n",
       "4          Russia   4130447   82255   4117992    81926      12455         329   \n",
       "\n",
       "   Fatality Rate      Continent  \n",
       "0            1.8  North America  \n",
       "1            1.4           Asia  \n",
       "2            2.4  South America  \n",
       "3            2.9         Europe  \n",
       "4            2.0         Europe  "
      ]
     },
     "execution_count": 15,
     "metadata": {},
     "output_type": "execute_result"
    }
   ],
   "source": [
    "#hide\n",
    "df_table = (pd.DataFrame(dict(Cases=dfc_cases, Deaths=dfc_deaths, PCases=dfp_cases, PDeaths=dfp_deaths))\n",
    "             .sort_values(by=['Cases', 'Deaths'], ascending=[False, False])\n",
    "             .reset_index())\n",
    "df_table.rename(columns={'index': 'Country/Region'}, inplace=True)\n",
    "for c in 'Cases, Deaths'.split(', '):\n",
    "    df_table[f'{c} (+)'] = (df_table[c] - df_table[f'P{c}']).clip(0)  # DATA BUG\n",
    "df_table['Fatality Rate'] = (100 * df_table['Deaths'] / df_table['Cases']).round(1)\n",
    "df_table['Continent'] = df_table['Country/Region'].map(mapping['map.continent'])\n",
    "df_table.head(5)"
   ]
  },
  {
   "cell_type": "code",
   "execution_count": 16,
   "id": "fewer-occasion",
   "metadata": {
    "execution": {
     "iopub.execute_input": "2021-02-23T12:07:13.812878Z",
     "iopub.status.busy": "2021-02-23T12:07:13.812260Z",
     "iopub.status.idle": "2021-02-23T12:07:13.815450Z",
     "shell.execute_reply": "2021-02-23T12:07:13.814704Z"
    },
    "papermill": {
     "duration": 0.045084,
     "end_time": "2021-02-23T12:07:13.815564",
     "exception": false,
     "start_time": "2021-02-23T12:07:13.770480",
     "status": "completed"
    },
    "tags": []
   },
   "outputs": [],
   "source": [
    "#hide\n",
    "#delete problematic countries from table\n",
    "df_table = df_table[~df_table['Country/Region'].isin(['Cape Verde', 'Cruise Ship', 'Kosovo'])]"
   ]
  },
  {
   "cell_type": "code",
   "execution_count": 17,
   "id": "related-center",
   "metadata": {
    "execution": {
     "iopub.execute_input": "2021-02-23T12:07:13.909840Z",
     "iopub.status.busy": "2021-02-23T12:07:13.909037Z",
     "iopub.status.idle": "2021-02-23T12:07:13.911997Z",
     "shell.execute_reply": "2021-02-23T12:07:13.912453Z"
    },
    "papermill": {
     "duration": 0.060693,
     "end_time": "2021-02-23T12:07:13.912590",
     "exception": false,
     "start_time": "2021-02-23T12:07:13.851897",
     "status": "completed"
    },
    "tags": []
   },
   "outputs": [],
   "source": [
    "#hide\n",
    "metrics = [df_table.columns[index] for index in [1,2,5,6]]\n",
    "# s_china = df_table[df_table['Country/Region'].eq('China')][metrics].sum().add_prefix('China ')\n",
    "s_us = df_table[df_table['Country/Region'].eq('US')][metrics].sum().add_prefix('US ')\n",
    "s_eu = df_table[df_table['Continent'].eq('Europe')][metrics].sum().add_prefix('EU ')\n",
    "s_ind = df_table[df_table['Country/Region'].eq('India')][metrics].sum().add_prefix('India ')\n",
    "summary = {'updated': pd.to_datetime(dt_today), 'since': pd.to_datetime(dt_yday)}\n",
    "summary = {'updated': pd.to_datetime(dt_today), 'since': pd.to_datetime(dt_yday)}\n",
    "summary = {**summary, **df_table[metrics].sum(), **s_ind, **s_us, **s_eu}"
   ]
  },
  {
   "cell_type": "code",
   "execution_count": 18,
   "id": "engaging-syndrome",
   "metadata": {
    "execution": {
     "iopub.execute_input": "2021-02-23T12:07:13.994237Z",
     "iopub.status.busy": "2021-02-23T12:07:13.993583Z",
     "iopub.status.idle": "2021-02-23T12:07:14.006367Z",
     "shell.execute_reply": "2021-02-23T12:07:14.005786Z"
    },
    "papermill": {
     "duration": 0.055227,
     "end_time": "2021-02-23T12:07:14.006507",
     "exception": false,
     "start_time": "2021-02-23T12:07:13.951280",
     "status": "completed"
    },
    "tags": []
   },
   "outputs": [],
   "source": [
    "#hide\n",
    "dft_ct_new_cases = dft_cases.groupby(COL_REGION)[dt_cols].sum().diff(axis=1).fillna(0).astype(int)"
   ]
  },
  {
   "cell_type": "code",
   "execution_count": 19,
   "id": "neutral-assignment",
   "metadata": {
    "execution": {
     "iopub.execute_input": "2021-02-23T12:07:14.087846Z",
     "iopub.status.busy": "2021-02-23T12:07:14.087219Z",
     "iopub.status.idle": "2021-02-23T12:07:14.089571Z",
     "shell.execute_reply": "2021-02-23T12:07:14.089078Z"
    },
    "papermill": {
     "duration": 0.046513,
     "end_time": "2021-02-23T12:07:14.089719",
     "exception": false,
     "start_time": "2021-02-23T12:07:14.043206",
     "status": "completed"
    },
    "tags": []
   },
   "outputs": [],
   "source": [
    "#hide\n",
    "everydaycases = dft_ct_new_cases.cumsum(axis=1)"
   ]
  },
  {
   "cell_type": "code",
   "execution_count": 20,
   "id": "parliamentary-calgary",
   "metadata": {
    "execution": {
     "iopub.execute_input": "2021-02-23T12:07:14.169833Z",
     "iopub.status.busy": "2021-02-23T12:07:14.169222Z",
     "iopub.status.idle": "2021-02-23T12:07:16.925282Z",
     "shell.execute_reply": "2021-02-23T12:07:16.924651Z"
    },
    "papermill": {
     "duration": 2.797733,
     "end_time": "2021-02-23T12:07:16.925416",
     "exception": false,
     "start_time": "2021-02-23T12:07:14.127683",
     "status": "completed"
    },
    "tags": []
   },
   "outputs": [],
   "source": [
    "#hide\n",
    "import pandas as pd\n",
    "import matplotlib.pyplot as plt\n",
    "import matplotlib.ticker as ticker\n",
    "import matplotlib.animation as animation\n",
    "from IPython.display import HTML"
   ]
  },
  {
   "cell_type": "code",
   "execution_count": 21,
   "id": "lasting-extraction",
   "metadata": {
    "execution": {
     "iopub.execute_input": "2021-02-23T12:07:17.011617Z",
     "iopub.status.busy": "2021-02-23T12:07:17.010902Z",
     "iopub.status.idle": "2021-02-23T12:07:17.016275Z",
     "shell.execute_reply": "2021-02-23T12:07:17.015617Z"
    },
    "papermill": {
     "duration": 0.052374,
     "end_time": "2021-02-23T12:07:17.016415",
     "exception": false,
     "start_time": "2021-02-23T12:07:16.964041",
     "status": "completed"
    },
    "tags": []
   },
   "outputs": [],
   "source": [
    "#hide\n",
    "t = everydaycases.stack()"
   ]
  },
  {
   "cell_type": "code",
   "execution_count": 22,
   "id": "premier-sleeve",
   "metadata": {
    "execution": {
     "iopub.execute_input": "2021-02-23T12:07:17.104379Z",
     "iopub.status.busy": "2021-02-23T12:07:17.103735Z",
     "iopub.status.idle": "2021-02-23T12:07:17.111598Z",
     "shell.execute_reply": "2021-02-23T12:07:17.112154Z"
    },
    "papermill": {
     "duration": 0.056275,
     "end_time": "2021-02-23T12:07:17.112315",
     "exception": false,
     "start_time": "2021-02-23T12:07:17.056040",
     "status": "completed"
    },
    "tags": []
   },
   "outputs": [],
   "source": [
    "#hide\n",
    "g = t.reset_index(['Country/Region'])"
   ]
  },
  {
   "cell_type": "code",
   "execution_count": 23,
   "id": "distributed-pittsburgh",
   "metadata": {
    "execution": {
     "iopub.execute_input": "2021-02-23T12:07:17.195485Z",
     "iopub.status.busy": "2021-02-23T12:07:17.194723Z",
     "iopub.status.idle": "2021-02-23T12:07:17.197231Z",
     "shell.execute_reply": "2021-02-23T12:07:17.196602Z"
    },
    "papermill": {
     "duration": 0.046636,
     "end_time": "2021-02-23T12:07:17.197377",
     "exception": false,
     "start_time": "2021-02-23T12:07:17.150741",
     "status": "completed"
    },
    "tags": []
   },
   "outputs": [],
   "source": [
    "#hide\n",
    "g.index.name = 'date'"
   ]
  },
  {
   "cell_type": "code",
   "execution_count": 24,
   "id": "naked-donor",
   "metadata": {
    "execution": {
     "iopub.execute_input": "2021-02-23T12:07:17.281579Z",
     "iopub.status.busy": "2021-02-23T12:07:17.280899Z",
     "iopub.status.idle": "2021-02-23T12:07:17.283534Z",
     "shell.execute_reply": "2021-02-23T12:07:17.282967Z"
    },
    "papermill": {
     "duration": 0.046623,
     "end_time": "2021-02-23T12:07:17.283665",
     "exception": false,
     "start_time": "2021-02-23T12:07:17.237042",
     "status": "completed"
    },
    "tags": []
   },
   "outputs": [],
   "source": [
    "# #hide\n",
    "# g = g.reset_index(['date'])"
   ]
  },
  {
   "cell_type": "code",
   "execution_count": 25,
   "id": "incomplete-mustang",
   "metadata": {
    "execution": {
     "iopub.execute_input": "2021-02-23T12:07:17.365546Z",
     "iopub.status.busy": "2021-02-23T12:07:17.364911Z",
     "iopub.status.idle": "2021-02-23T12:07:17.366983Z",
     "shell.execute_reply": "2021-02-23T12:07:17.367533Z"
    },
    "papermill": {
     "duration": 0.044773,
     "end_time": "2021-02-23T12:07:17.367689",
     "exception": false,
     "start_time": "2021-02-23T12:07:17.322916",
     "status": "completed"
    },
    "tags": []
   },
   "outputs": [],
   "source": [
    "#hide\n",
    "# g.head()"
   ]
  },
  {
   "cell_type": "code",
   "execution_count": 26,
   "id": "specific-kruger",
   "metadata": {
    "execution": {
     "iopub.execute_input": "2021-02-23T12:07:17.448422Z",
     "iopub.status.busy": "2021-02-23T12:07:17.447758Z",
     "iopub.status.idle": "2021-02-23T12:07:17.450184Z",
     "shell.execute_reply": "2021-02-23T12:07:17.449683Z"
    },
    "papermill": {
     "duration": 0.043688,
     "end_time": "2021-02-23T12:07:17.450300",
     "exception": false,
     "start_time": "2021-02-23T12:07:17.406612",
     "status": "completed"
    },
    "tags": []
   },
   "outputs": [],
   "source": [
    "#hide\n",
    "# g.columns = ['date','country','cases']"
   ]
  },
  {
   "cell_type": "code",
   "execution_count": 27,
   "id": "tender-conversion",
   "metadata": {
    "execution": {
     "iopub.execute_input": "2021-02-23T12:07:17.528447Z",
     "iopub.status.busy": "2021-02-23T12:07:17.527777Z",
     "iopub.status.idle": "2021-02-23T12:07:17.530435Z",
     "shell.execute_reply": "2021-02-23T12:07:17.529788Z"
    },
    "papermill": {
     "duration": 0.043496,
     "end_time": "2021-02-23T12:07:17.530553",
     "exception": false,
     "start_time": "2021-02-23T12:07:17.487057",
     "status": "completed"
    },
    "tags": []
   },
   "outputs": [],
   "source": [
    "#hide\n",
    "# g['continent'] = g.country"
   ]
  },
  {
   "cell_type": "code",
   "execution_count": 28,
   "id": "substantial-wilderness",
   "metadata": {
    "execution": {
     "iopub.execute_input": "2021-02-23T12:07:17.607833Z",
     "iopub.status.busy": "2021-02-23T12:07:17.607112Z",
     "iopub.status.idle": "2021-02-23T12:07:17.610888Z",
     "shell.execute_reply": "2021-02-23T12:07:17.609202Z"
    },
    "papermill": {
     "duration": 0.043363,
     "end_time": "2021-02-23T12:07:17.611041",
     "exception": false,
     "start_time": "2021-02-23T12:07:17.567678",
     "status": "completed"
    },
    "tags": []
   },
   "outputs": [],
   "source": [
    "#hide\n",
    "# cols = list(g.columns.values)"
   ]
  },
  {
   "cell_type": "code",
   "execution_count": 29,
   "id": "solved-farming",
   "metadata": {
    "execution": {
     "iopub.execute_input": "2021-02-23T12:07:17.688781Z",
     "iopub.status.busy": "2021-02-23T12:07:17.688095Z",
     "iopub.status.idle": "2021-02-23T12:07:17.690613Z",
     "shell.execute_reply": "2021-02-23T12:07:17.690016Z"
    },
    "papermill": {
     "duration": 0.042004,
     "end_time": "2021-02-23T12:07:17.690858",
     "exception": false,
     "start_time": "2021-02-23T12:07:17.648854",
     "status": "completed"
    },
    "tags": []
   },
   "outputs": [],
   "source": [
    "#hide\n",
    "# cols.insert(0, cols.pop())"
   ]
  },
  {
   "cell_type": "code",
   "execution_count": 30,
   "id": "executed-adoption",
   "metadata": {
    "execution": {
     "iopub.execute_input": "2021-02-23T12:07:17.770702Z",
     "iopub.status.busy": "2021-02-23T12:07:17.770005Z",
     "iopub.status.idle": "2021-02-23T12:07:17.773793Z",
     "shell.execute_reply": "2021-02-23T12:07:17.774285Z"
    },
    "papermill": {
     "duration": 0.045182,
     "end_time": "2021-02-23T12:07:17.774444",
     "exception": false,
     "start_time": "2021-02-23T12:07:17.729262",
     "status": "completed"
    },
    "tags": []
   },
   "outputs": [],
   "source": [
    "#hide\n",
    "# g = g[cols]"
   ]
  },
  {
   "cell_type": "code",
   "execution_count": 31,
   "id": "subject-dublin",
   "metadata": {
    "execution": {
     "iopub.execute_input": "2021-02-23T12:07:17.852685Z",
     "iopub.status.busy": "2021-02-23T12:07:17.851179Z",
     "iopub.status.idle": "2021-02-23T12:07:17.853412Z",
     "shell.execute_reply": "2021-02-23T12:07:17.853922Z"
    },
    "papermill": {
     "duration": 0.042655,
     "end_time": "2021-02-23T12:07:17.854122",
     "exception": false,
     "start_time": "2021-02-23T12:07:17.811467",
     "status": "completed"
    },
    "tags": []
   },
   "outputs": [],
   "source": [
    "#hide\n",
    "# g['continent'] = g['continent'].map(mapping['map.continent'])"
   ]
  },
  {
   "cell_type": "code",
   "execution_count": 32,
   "id": "freelance-scout",
   "metadata": {
    "execution": {
     "iopub.execute_input": "2021-02-23T12:07:17.930116Z",
     "iopub.status.busy": "2021-02-23T12:07:17.929339Z",
     "iopub.status.idle": "2021-02-23T12:07:17.931530Z",
     "shell.execute_reply": "2021-02-23T12:07:17.931994Z"
    },
    "papermill": {
     "duration": 0.042132,
     "end_time": "2021-02-23T12:07:17.932126",
     "exception": false,
     "start_time": "2021-02-23T12:07:17.889994",
     "status": "completed"
    },
    "tags": []
   },
   "outputs": [],
   "source": [
    "#hide\n",
    "# g.head()"
   ]
  },
  {
   "cell_type": "code",
   "execution_count": 33,
   "id": "limited-engine",
   "metadata": {
    "execution": {
     "iopub.execute_input": "2021-02-23T12:07:18.016635Z",
     "iopub.status.busy": "2021-02-23T12:07:18.014549Z",
     "iopub.status.idle": "2021-02-23T12:07:18.020308Z",
     "shell.execute_reply": "2021-02-23T12:07:18.019768Z"
    },
    "papermill": {
     "duration": 0.047918,
     "end_time": "2021-02-23T12:07:18.020427",
     "exception": false,
     "start_time": "2021-02-23T12:07:17.972509",
     "status": "completed"
    },
    "tags": []
   },
   "outputs": [],
   "source": [
    "# hide\n",
    "# g['date'] = g['date'].astype('datetime64[ns]')"
   ]
  },
  {
   "cell_type": "code",
   "execution_count": 34,
   "id": "sophisticated-supervisor",
   "metadata": {
    "execution": {
     "iopub.execute_input": "2021-02-23T12:07:18.097641Z",
     "iopub.status.busy": "2021-02-23T12:07:18.097031Z",
     "iopub.status.idle": "2021-02-23T12:07:18.099521Z",
     "shell.execute_reply": "2021-02-23T12:07:18.099017Z"
    },
    "papermill": {
     "duration": 0.042613,
     "end_time": "2021-02-23T12:07:18.099638",
     "exception": false,
     "start_time": "2021-02-23T12:07:18.057025",
     "status": "completed"
    },
    "tags": []
   },
   "outputs": [],
   "source": [
    "#hide\n",
    "# g['date'] = g.date.dt.dayofyear"
   ]
  },
  {
   "cell_type": "code",
   "execution_count": 35,
   "id": "inside-dubai",
   "metadata": {
    "execution": {
     "iopub.execute_input": "2021-02-23T12:07:18.175565Z",
     "iopub.status.busy": "2021-02-23T12:07:18.174773Z",
     "iopub.status.idle": "2021-02-23T12:07:18.176739Z",
     "shell.execute_reply": "2021-02-23T12:07:18.177292Z"
    },
    "papermill": {
     "duration": 0.04227,
     "end_time": "2021-02-23T12:07:18.177438",
     "exception": false,
     "start_time": "2021-02-23T12:07:18.135168",
     "status": "completed"
    },
    "tags": []
   },
   "outputs": [],
   "source": [
    "#hide\n",
    "# g = g.rename(columns= {'continent':'group','country':'name','cases':'value'})"
   ]
  },
  {
   "cell_type": "code",
   "execution_count": 36,
   "id": "fleet-motorcycle",
   "metadata": {
    "execution": {
     "iopub.execute_input": "2021-02-23T12:07:18.253016Z",
     "iopub.status.busy": "2021-02-23T12:07:18.252381Z",
     "iopub.status.idle": "2021-02-23T12:07:18.255033Z",
     "shell.execute_reply": "2021-02-23T12:07:18.254411Z"
    },
    "papermill": {
     "duration": 0.041316,
     "end_time": "2021-02-23T12:07:18.255149",
     "exception": false,
     "start_time": "2021-02-23T12:07:18.213833",
     "status": "completed"
    },
    "tags": []
   },
   "outputs": [],
   "source": [
    "#hide\n",
    "# cols = ['name','group','day','value']"
   ]
  },
  {
   "cell_type": "code",
   "execution_count": 37,
   "id": "continued-sleeping",
   "metadata": {
    "execution": {
     "iopub.execute_input": "2021-02-23T12:07:18.333163Z",
     "iopub.status.busy": "2021-02-23T12:07:18.332427Z",
     "iopub.status.idle": "2021-02-23T12:07:18.336144Z",
     "shell.execute_reply": "2021-02-23T12:07:18.335500Z"
    },
    "papermill": {
     "duration": 0.044727,
     "end_time": "2021-02-23T12:07:18.336281",
     "exception": false,
     "start_time": "2021-02-23T12:07:18.291554",
     "status": "completed"
    },
    "tags": []
   },
   "outputs": [],
   "source": [
    "#hide\n",
    "# g.rename(columns= {'date':'day'},inplace = True)"
   ]
  },
  {
   "cell_type": "code",
   "execution_count": 38,
   "id": "major-fight",
   "metadata": {
    "execution": {
     "iopub.execute_input": "2021-02-23T12:07:18.426796Z",
     "iopub.status.busy": "2021-02-23T12:07:18.426150Z",
     "iopub.status.idle": "2021-02-23T12:07:18.427956Z",
     "shell.execute_reply": "2021-02-23T12:07:18.428488Z"
    },
    "papermill": {
     "duration": 0.043654,
     "end_time": "2021-02-23T12:07:18.428619",
     "exception": false,
     "start_time": "2021-02-23T12:07:18.384965",
     "status": "completed"
    },
    "tags": []
   },
   "outputs": [],
   "source": [
    "#hide\n",
    "# g = g[cols]"
   ]
  },
  {
   "cell_type": "code",
   "execution_count": 39,
   "id": "structured-mobile",
   "metadata": {
    "execution": {
     "iopub.execute_input": "2021-02-23T12:07:18.509136Z",
     "iopub.status.busy": "2021-02-23T12:07:18.508441Z",
     "iopub.status.idle": "2021-02-23T12:07:18.510915Z",
     "shell.execute_reply": "2021-02-23T12:07:18.510238Z"
    },
    "papermill": {
     "duration": 0.045879,
     "end_time": "2021-02-23T12:07:18.511075",
     "exception": false,
     "start_time": "2021-02-23T12:07:18.465196",
     "status": "completed"
    },
    "tags": []
   },
   "outputs": [],
   "source": [
    "# #hide\n",
    "# g = g[g.group.notna()]"
   ]
  },
  {
   "cell_type": "code",
   "execution_count": 40,
   "id": "determined-closing",
   "metadata": {
    "execution": {
     "iopub.execute_input": "2021-02-23T12:07:18.593398Z",
     "iopub.status.busy": "2021-02-23T12:07:18.592694Z",
     "iopub.status.idle": "2021-02-23T12:07:18.595125Z",
     "shell.execute_reply": "2021-02-23T12:07:18.595582Z"
    },
    "papermill": {
     "duration": 0.048486,
     "end_time": "2021-02-23T12:07:18.595713",
     "exception": false,
     "start_time": "2021-02-23T12:07:18.547227",
     "status": "completed"
    },
    "tags": []
   },
   "outputs": [],
   "source": [
    "# #hide\n",
    "# colors = dict(zip(\n",
    "#     [\"Oceania\", \"Europe\", \"Asia\", \"South America\", \"Middle East\", \"North America\", \"Africa\"],\n",
    "#     [\"#adb0ff\", \"#ffb3ff\", \"#90d595\", \"#e48381\", \"#aafbff\", \"#f7bb5f\", \"#eafb50\"]\n",
    "# ))\n",
    "# group_lk = g.set_index('name')['group'].to_dict()"
   ]
  },
  {
   "cell_type": "code",
   "execution_count": null,
   "id": "gross-drinking",
   "metadata": {
    "papermill": {
     "duration": 0.035416,
     "end_time": "2021-02-23T12:07:18.666464",
     "exception": false,
     "start_time": "2021-02-23T12:07:18.631048",
     "status": "completed"
    },
    "tags": []
   },
   "outputs": [],
   "source": []
  },
  {
   "cell_type": "code",
   "execution_count": 41,
   "id": "subject-macintosh",
   "metadata": {
    "execution": {
     "iopub.execute_input": "2021-02-23T12:07:18.744786Z",
     "iopub.status.busy": "2021-02-23T12:07:18.744084Z",
     "iopub.status.idle": "2021-02-23T12:07:18.746519Z",
     "shell.execute_reply": "2021-02-23T12:07:18.745932Z"
    },
    "papermill": {
     "duration": 0.04385,
     "end_time": "2021-02-23T12:07:18.746645",
     "exception": false,
     "start_time": "2021-02-23T12:07:18.702795",
     "status": "completed"
    },
    "tags": []
   },
   "outputs": [],
   "source": [
    "# #hide\n",
    "# fig, ax = plt.subplots(figsize=(15, 8))\n",
    "\n",
    "# def draw_barchart(current_day):\n",
    "#     dff = g[g['day'].eq(current_day)].sort_values(by='value', ascending=True).tail(10)\n",
    "#     ax.clear()\n",
    "#     ax.barh(dff['name'], dff['value'], color=[colors[group_lk[x]] for x in dff['name']])\n",
    "#     dx = dff['value'].max() / 200\n",
    "    \n",
    "#     for i, (value, name) in enumerate(zip(dff['value'], dff['name'])):\n",
    "#         ax.text(value-dx, i,     name,           size=14, weight=600, ha='right', va='bottom')\n",
    "#         ax.text(value-dx, i-.25, group_lk[name], size=10, color='#444444', ha='right', va='baseline')\n",
    "#         ax.text(value+dx, i,     f'{value:,.0f}',  size=14, ha='left',  va='center')\n",
    "#     ax.text(1, 0.4, current_day, transform=ax.transAxes, color='#777777', size=46, ha='right', weight=800)\n",
    "#     ax.text(0, 1.06, 'Population (thousands)', transform=ax.transAxes, size=12, color='#777777')\n",
    "#     ax.xaxis.set_major_formatter(ticker.StrMethodFormatter('{x:,.0f}'))\n",
    "#     ax.xaxis.set_ticks_position('top')\n",
    "#     ax.tick_params(axis='x', colors='#777777', labelsize=12)\n",
    "#     ax.set_yticks([])\n",
    "#     ax.margins(0, 0.01)\n",
    "#     ax.grid(which='major', axis='x', linestyle='-')\n",
    "#     ax.set_axisbelow(True)\n",
    "    \n",
    "#     ax.text(0, 1.15, 'Coronavirus',\n",
    "#             transform=ax.transAxes, size=24, weight=600, ha='left', va='top')\n",
    "# #     ax.text(1, 0, 'by @pratapvardhan; credit @jburnmurdoch', transform=ax.transAxes, color='#777777', ha='right',\n",
    "# #             bbox=dict(facecolor='white', alpha=0.8, edgecolor='white'))\n",
    "#     plt.box(False)"
   ]
  },
  {
   "cell_type": "code",
   "execution_count": 42,
   "id": "sexual-wages",
   "metadata": {
    "execution": {
     "iopub.execute_input": "2021-02-23T12:07:18.824205Z",
     "iopub.status.busy": "2021-02-23T12:07:18.823560Z",
     "iopub.status.idle": "2021-02-23T12:07:18.827341Z",
     "shell.execute_reply": "2021-02-23T12:07:18.827804Z"
    },
    "papermill": {
     "duration": 0.044467,
     "end_time": "2021-02-23T12:07:18.827974",
     "exception": false,
     "start_time": "2021-02-23T12:07:18.783507",
     "status": "completed"
    },
    "tags": []
   },
   "outputs": [],
   "source": [
    "# #hide_input\n",
    "# fig, ax = plt.subplots(figsize=(15, 8))\n",
    "# animator = animation.FuncAnimation(fig, draw_barchart, frames=range(g.day.values.min(), g.day.values.max()))\n",
    "# HTML(animator.to_jshtml())\n",
    "# # or use animator.to_html5_video() or animator.save() "
   ]
  },
  {
   "cell_type": "code",
   "execution_count": null,
   "id": "australian-container",
   "metadata": {
    "papermill": {
     "duration": 0.036314,
     "end_time": "2021-02-23T12:07:18.901545",
     "exception": false,
     "start_time": "2021-02-23T12:07:18.865231",
     "status": "completed"
    },
    "tags": []
   },
   "outputs": [],
   "source": []
  },
  {
   "cell_type": "code",
   "execution_count": null,
   "id": "mediterranean-pontiac",
   "metadata": {
    "papermill": {
     "duration": 0.03757,
     "end_time": "2021-02-23T12:07:18.974611",
     "exception": false,
     "start_time": "2021-02-23T12:07:18.937041",
     "status": "completed"
    },
    "tags": []
   },
   "outputs": [],
   "source": []
  },
  {
   "cell_type": "code",
   "execution_count": null,
   "id": "aging-legislature",
   "metadata": {
    "papermill": {
     "duration": 0.036195,
     "end_time": "2021-02-23T12:07:19.048450",
     "exception": false,
     "start_time": "2021-02-23T12:07:19.012255",
     "status": "completed"
    },
    "tags": []
   },
   "outputs": [],
   "source": []
  }
 ],
 "metadata": {
  "kernelspec": {
   "display_name": "Python 3",
   "language": "python",
   "name": "python3"
  },
  "language_info": {
   "codemirror_mode": {
    "name": "ipython",
    "version": 3
   },
   "file_extension": ".py",
   "mimetype": "text/x-python",
   "name": "python",
   "nbconvert_exporter": "python",
   "pygments_lexer": "ipython3",
   "version": "3.6.12"
  },
  "papermill": {
   "duration": 8.812939,
   "end_time": "2021-02-23T12:07:19.392785",
   "environment_variables": {},
   "exception": null,
   "input_path": "2020-03-21-covid19exp.ipynb",
   "output_path": "2020-03-21-covid19exp.ipynb",
   "parameters": {},
   "start_time": "2021-02-23T12:07:10.579846",
   "version": "2.0.0"
  }
 },
 "nbformat": 4,
 "nbformat_minor": 5
}