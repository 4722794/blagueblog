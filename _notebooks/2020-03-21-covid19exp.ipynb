{
 "cells": [
  {
   "cell_type": "markdown",
   "id": "muslim-click",
   "metadata": {
    "papermill": {
     "duration": 0.044869,
     "end_time": "2021-05-14T12:11:36.244008",
     "exception": false,
     "start_time": "2021-05-14T12:11:36.199139",
     "status": "completed"
    },
    "tags": []
   },
   "source": [
    "# COVID-19 Case Race\n",
    "> A race chart to see rising cases around the world\n",
    "\n",
    "- author: Hargun Oberoi\n",
    "- image: images/covid-overview.png\n",
    "- hide: false\n",
    "- badges: false"
   ]
  },
  {
   "cell_type": "code",
   "execution_count": 1,
   "id": "proof-material",
   "metadata": {
    "execution": {
     "iopub.execute_input": "2021-05-14T12:11:36.334282Z",
     "iopub.status.busy": "2021-05-14T12:11:36.333530Z",
     "iopub.status.idle": "2021-05-14T12:11:36.720538Z",
     "shell.execute_reply": "2021-05-14T12:11:36.719960Z"
    },
    "papermill": {
     "duration": 0.438236,
     "end_time": "2021-05-14T12:11:36.720696",
     "exception": false,
     "start_time": "2021-05-14T12:11:36.282460",
     "status": "completed"
    },
    "tags": []
   },
   "outputs": [],
   "source": [
    "#hide\n",
    "import numpy as np\n",
    "import pandas as pd\n",
    "from jinja2 import Template\n",
    "from IPython.display import HTML"
   ]
  },
  {
   "cell_type": "code",
   "execution_count": 2,
   "id": "developed-terminology",
   "metadata": {
    "execution": {
     "iopub.execute_input": "2021-05-14T12:11:36.801879Z",
     "iopub.status.busy": "2021-05-14T12:11:36.801183Z",
     "iopub.status.idle": "2021-05-14T12:11:36.803919Z",
     "shell.execute_reply": "2021-05-14T12:11:36.803373Z"
    },
    "papermill": {
     "duration": 0.044799,
     "end_time": "2021-05-14T12:11:36.804051",
     "exception": false,
     "start_time": "2021-05-14T12:11:36.759252",
     "status": "completed"
    },
    "tags": []
   },
   "outputs": [],
   "source": [
    "#hide\n",
    "\n",
    "# FETCH\n",
    "base_url = 'https://raw.githubusercontent.com/pratapvardhan/notebooks/master/covid19/'\n",
    "paths = {\n",
    "    'mapping': base_url + 'mapping_countries.csv',\n",
    "    'overview': base_url + 'overview.tpl'\n",
    "}"
   ]
  },
  {
   "cell_type": "code",
   "execution_count": 3,
   "id": "dynamic-saver",
   "metadata": {
    "execution": {
     "iopub.execute_input": "2021-05-14T12:11:36.893528Z",
     "iopub.status.busy": "2021-05-14T12:11:36.892882Z",
     "iopub.status.idle": "2021-05-14T12:11:36.895672Z",
     "shell.execute_reply": "2021-05-14T12:11:36.896160Z"
    },
    "papermill": {
     "duration": 0.054732,
     "end_time": "2021-05-14T12:11:36.896317",
     "exception": false,
     "start_time": "2021-05-14T12:11:36.841585",
     "status": "completed"
    },
    "tags": []
   },
   "outputs": [
    {
     "data": {
      "text/plain": [
       "'https://raw.githubusercontent.com/pratapvardhan/notebooks/master/covid19/mapping_countries.csv'"
      ]
     },
     "execution_count": 3,
     "metadata": {},
     "output_type": "execute_result"
    }
   ],
   "source": [
    "#hide\n",
    "paths['mapping']"
   ]
  },
  {
   "cell_type": "code",
   "execution_count": 4,
   "id": "urban-software",
   "metadata": {
    "execution": {
     "iopub.execute_input": "2021-05-14T12:11:36.980668Z",
     "iopub.status.busy": "2021-05-14T12:11:36.979946Z",
     "iopub.status.idle": "2021-05-14T12:11:36.982755Z",
     "shell.execute_reply": "2021-05-14T12:11:36.982116Z"
    },
    "papermill": {
     "duration": 0.047162,
     "end_time": "2021-05-14T12:11:36.982881",
     "exception": false,
     "start_time": "2021-05-14T12:11:36.935719",
     "status": "completed"
    },
    "tags": []
   },
   "outputs": [],
   "source": [
    "#hide\n",
    "def get_mappings(url):\n",
    "    df = pd.read_csv(url)\n",
    "    return {\n",
    "        'df': df,\n",
    "        'replace.country': dict(df.dropna(subset=['Name']).set_index('Country')['Name']),\n",
    "        'map.continent': dict(df.set_index('Name')['Continent'])\n",
    "    }"
   ]
  },
  {
   "cell_type": "code",
   "execution_count": 5,
   "id": "intimate-machinery",
   "metadata": {
    "execution": {
     "iopub.execute_input": "2021-05-14T12:11:37.066510Z",
     "iopub.status.busy": "2021-05-14T12:11:37.065876Z",
     "iopub.status.idle": "2021-05-14T12:11:37.150184Z",
     "shell.execute_reply": "2021-05-14T12:11:37.149625Z"
    },
    "papermill": {
     "duration": 0.129534,
     "end_time": "2021-05-14T12:11:37.150329",
     "exception": false,
     "start_time": "2021-05-14T12:11:37.020795",
     "status": "completed"
    },
    "tags": []
   },
   "outputs": [],
   "source": [
    "#hide\n",
    "mapping = get_mappings(paths['mapping'])"
   ]
  },
  {
   "cell_type": "code",
   "execution_count": 6,
   "id": "certified-tactics",
   "metadata": {
    "execution": {
     "iopub.execute_input": "2021-05-14T12:11:37.234896Z",
     "iopub.status.busy": "2021-05-14T12:11:37.234239Z",
     "iopub.status.idle": "2021-05-14T12:11:37.236120Z",
     "shell.execute_reply": "2021-05-14T12:11:37.236620Z"
    },
    "papermill": {
     "duration": 0.047547,
     "end_time": "2021-05-14T12:11:37.236768",
     "exception": false,
     "start_time": "2021-05-14T12:11:37.189221",
     "status": "completed"
    },
    "tags": []
   },
   "outputs": [],
   "source": [
    "#hide\n",
    "def get_template(path):\n",
    "    from urllib.parse import urlparse\n",
    "    if bool(urlparse(path).netloc):\n",
    "        from urllib.request import urlopen\n",
    "        return urlopen(path).read().decode('utf8')\n",
    "    return open(path).read()"
   ]
  },
  {
   "cell_type": "code",
   "execution_count": 7,
   "id": "realistic-blast",
   "metadata": {
    "execution": {
     "iopub.execute_input": "2021-05-14T12:11:37.321825Z",
     "iopub.status.busy": "2021-05-14T12:11:37.321155Z",
     "iopub.status.idle": "2021-05-14T12:11:37.323083Z",
     "shell.execute_reply": "2021-05-14T12:11:37.323627Z"
    },
    "papermill": {
     "duration": 0.047107,
     "end_time": "2021-05-14T12:11:37.323777",
     "exception": false,
     "start_time": "2021-05-14T12:11:37.276670",
     "status": "completed"
    },
    "tags": []
   },
   "outputs": [],
   "source": [
    "#hide\n",
    "def get_frame(name):\n",
    "    url = (\n",
    "        'https://raw.githubusercontent.com/CSSEGISandData/COVID-19/master/csse_covid_19_data/'\n",
    "        f'csse_covid_19_time_series/time_series_covid19_{name}_global.csv')\n",
    "    df = pd.read_csv(url)\n",
    "    # rename countries\n",
    "    df['Country/Region'] = df['Country/Region'].replace(mapping['replace.country'])\n",
    "    return df"
   ]
  },
  {
   "cell_type": "code",
   "execution_count": 8,
   "id": "affiliated-characterization",
   "metadata": {
    "execution": {
     "iopub.execute_input": "2021-05-14T12:11:37.407522Z",
     "iopub.status.busy": "2021-05-14T12:11:37.406887Z",
     "iopub.status.idle": "2021-05-14T12:11:37.409472Z",
     "shell.execute_reply": "2021-05-14T12:11:37.408936Z"
    },
    "papermill": {
     "duration": 0.047875,
     "end_time": "2021-05-14T12:11:37.409601",
     "exception": false,
     "start_time": "2021-05-14T12:11:37.361726",
     "status": "completed"
    },
    "tags": []
   },
   "outputs": [],
   "source": [
    "#hide\n",
    "def get_dates(df):\n",
    "    dt_cols = df.columns[~df.columns.isin(['Province/State', 'Country/Region', 'Lat', 'Long'])]\n",
    "    LAST_DATE_I = -1\n",
    "    # sometimes last column may be empty, then go backwards\n",
    "    for i in range(-1, -len(dt_cols), -1):\n",
    "        if not df[dt_cols[i]].fillna(0).eq(0).all():\n",
    "            LAST_DATE_I = i\n",
    "            break\n",
    "    return LAST_DATE_I, dt_cols"
   ]
  },
  {
   "cell_type": "code",
   "execution_count": 9,
   "id": "recent-optimization",
   "metadata": {
    "execution": {
     "iopub.execute_input": "2021-05-14T12:11:37.491007Z",
     "iopub.status.busy": "2021-05-14T12:11:37.490371Z",
     "iopub.status.idle": "2021-05-14T12:11:37.999219Z",
     "shell.execute_reply": "2021-05-14T12:11:37.998626Z"
    },
    "papermill": {
     "duration": 0.55113,
     "end_time": "2021-05-14T12:11:37.999367",
     "exception": false,
     "start_time": "2021-05-14T12:11:37.448237",
     "status": "completed"
    },
    "tags": []
   },
   "outputs": [],
   "source": [
    "#hide\n",
    "COL_REGION = 'Country/Region'\n",
    "# Confirmed, Recovered, Deaths\n",
    "df = get_frame('confirmed')\n",
    "# dft_: timeseries, dfc_: today country agg\n",
    "dft_cases = df\n",
    "dft_deaths = get_frame('deaths')\n",
    "dft_recovered = get_frame('recovered')\n",
    "LAST_DATE_I, dt_cols = get_dates(df)"
   ]
  },
  {
   "cell_type": "code",
   "execution_count": 10,
   "id": "absolute-copper",
   "metadata": {
    "execution": {
     "iopub.execute_input": "2021-05-14T12:11:38.081263Z",
     "iopub.status.busy": "2021-05-14T12:11:38.080619Z",
     "iopub.status.idle": "2021-05-14T12:11:38.084319Z",
     "shell.execute_reply": "2021-05-14T12:11:38.084803Z"
    },
    "papermill": {
     "duration": 0.046797,
     "end_time": "2021-05-14T12:11:38.084951",
     "exception": false,
     "start_time": "2021-05-14T12:11:38.038154",
     "status": "completed"
    },
    "tags": []
   },
   "outputs": [],
   "source": [
    "#hide\n",
    "LAST_DATE_I, dt_cols = get_dates(df)\n",
    "dt_today =dt_cols[LAST_DATE_I]\n",
    "# dt_5day = dt_cols[LAST_DATE_I - 5]\n",
    "dt_yday = dt_cols[LAST_DATE_I - 1]"
   ]
  },
  {
   "cell_type": "code",
   "execution_count": 11,
   "id": "restricted-sheriff",
   "metadata": {
    "execution": {
     "iopub.execute_input": "2021-05-14T12:11:38.169641Z",
     "iopub.status.busy": "2021-05-14T12:11:38.166622Z",
     "iopub.status.idle": "2021-05-14T12:11:38.175199Z",
     "shell.execute_reply": "2021-05-14T12:11:38.174560Z"
    },
    "papermill": {
     "duration": 0.052492,
     "end_time": "2021-05-14T12:11:38.175495",
     "exception": false,
     "start_time": "2021-05-14T12:11:38.123003",
     "status": "completed"
    },
    "tags": []
   },
   "outputs": [],
   "source": [
    "#hide\n",
    "dfc_cases = dft_cases.groupby(COL_REGION)[dt_today].sum()\n",
    "dfc_deaths = dft_deaths.groupby(COL_REGION)[dt_today].sum()\n",
    "# dfp_cases = dft_cases.groupby(COL_REGION)[dt_5day].sum()\n",
    "# dfp_deaths = dft_deaths.groupby(COL_REGION)[dt_5day].sum()\n",
    "dfp_cases = dft_cases.groupby(COL_REGION)[dt_yday].sum()\n",
    "dfp_deaths = dft_deaths.groupby(COL_REGION)[dt_yday].sum()"
   ]
  },
  {
   "cell_type": "code",
   "execution_count": 12,
   "id": "deluxe-hepatitis",
   "metadata": {
    "execution": {
     "iopub.execute_input": "2021-05-14T12:11:38.260913Z",
     "iopub.status.busy": "2021-05-14T12:11:38.260270Z",
     "iopub.status.idle": "2021-05-14T12:11:38.264938Z",
     "shell.execute_reply": "2021-05-14T12:11:38.265543Z"
    },
    "papermill": {
     "duration": 0.052421,
     "end_time": "2021-05-14T12:11:38.265726",
     "exception": false,
     "start_time": "2021-05-14T12:11:38.213305",
     "status": "completed"
    },
    "tags": []
   },
   "outputs": [],
   "source": [
    "#hide\n",
    "df_table = (pd.DataFrame(dict(Cases = dfc_cases, Deaths = dfc_deaths, PCases = dfp_cases, PDeaths = dfp_deaths))\n",
    "            .sort_values(by = ['Cases','Deaths'], ascending = [False, False])\n",
    "            .reset_index())"
   ]
  },
  {
   "cell_type": "code",
   "execution_count": 13,
   "id": "educational-chancellor",
   "metadata": {
    "execution": {
     "iopub.execute_input": "2021-05-14T12:11:38.369945Z",
     "iopub.status.busy": "2021-05-14T12:11:38.369194Z",
     "iopub.status.idle": "2021-05-14T12:11:38.371680Z",
     "shell.execute_reply": "2021-05-14T12:11:38.372287Z"
    },
    "papermill": {
     "duration": 0.068618,
     "end_time": "2021-05-14T12:11:38.372451",
     "exception": false,
     "start_time": "2021-05-14T12:11:38.303833",
     "status": "completed"
    },
    "tags": []
   },
   "outputs": [
    {
     "data": {
      "text/html": [
       "<div>\n",
       "<style scoped>\n",
       "    .dataframe tbody tr th:only-of-type {\n",
       "        vertical-align: middle;\n",
       "    }\n",
       "\n",
       "    .dataframe tbody tr th {\n",
       "        vertical-align: top;\n",
       "    }\n",
       "\n",
       "    .dataframe thead th {\n",
       "        text-align: right;\n",
       "    }\n",
       "</style>\n",
       "<table border=\"1\" class=\"dataframe\">\n",
       "  <thead>\n",
       "    <tr style=\"text-align: right;\">\n",
       "      <th></th>\n",
       "      <th>Country/Region</th>\n",
       "      <th>Cases</th>\n",
       "      <th>Deaths</th>\n",
       "      <th>PCases</th>\n",
       "      <th>PDeaths</th>\n",
       "      <th>Cases (+)</th>\n",
       "      <th>Deaths (+)</th>\n",
       "      <th>Fatality Rate</th>\n",
       "      <th>Continent</th>\n",
       "    </tr>\n",
       "  </thead>\n",
       "  <tbody>\n",
       "    <tr>\n",
       "      <th>0</th>\n",
       "      <td>US</td>\n",
       "      <td>32852871</td>\n",
       "      <td>584487</td>\n",
       "      <td>32814784</td>\n",
       "      <td>583685</td>\n",
       "      <td>38087</td>\n",
       "      <td>802</td>\n",
       "      <td>1.78</td>\n",
       "      <td>North America</td>\n",
       "    </tr>\n",
       "    <tr>\n",
       "      <th>1</th>\n",
       "      <td>India</td>\n",
       "      <td>24046809</td>\n",
       "      <td>262317</td>\n",
       "      <td>23703665</td>\n",
       "      <td>258317</td>\n",
       "      <td>343144</td>\n",
       "      <td>4000</td>\n",
       "      <td>1.09</td>\n",
       "      <td>Asia</td>\n",
       "    </tr>\n",
       "    <tr>\n",
       "      <th>2</th>\n",
       "      <td>Brazil</td>\n",
       "      <td>15433989</td>\n",
       "      <td>430417</td>\n",
       "      <td>15359397</td>\n",
       "      <td>428034</td>\n",
       "      <td>74592</td>\n",
       "      <td>2383</td>\n",
       "      <td>2.79</td>\n",
       "      <td>South America</td>\n",
       "    </tr>\n",
       "    <tr>\n",
       "      <th>3</th>\n",
       "      <td>France</td>\n",
       "      <td>5902343</td>\n",
       "      <td>107411</td>\n",
       "      <td>5882882</td>\n",
       "      <td>107280</td>\n",
       "      <td>19461</td>\n",
       "      <td>131</td>\n",
       "      <td>1.82</td>\n",
       "      <td>Europe</td>\n",
       "    </tr>\n",
       "    <tr>\n",
       "      <th>4</th>\n",
       "      <td>Turkey</td>\n",
       "      <td>5083996</td>\n",
       "      <td>44059</td>\n",
       "      <td>5072462</td>\n",
       "      <td>43821</td>\n",
       "      <td>11534</td>\n",
       "      <td>238</td>\n",
       "      <td>0.87</td>\n",
       "      <td>Asia</td>\n",
       "    </tr>\n",
       "  </tbody>\n",
       "</table>\n",
       "</div>"
      ],
      "text/plain": [
       "  Country/Region     Cases  Deaths    PCases  PDeaths  Cases (+)  Deaths (+)  \\\n",
       "0             US  32852871  584487  32814784   583685      38087         802   \n",
       "1          India  24046809  262317  23703665   258317     343144        4000   \n",
       "2         Brazil  15433989  430417  15359397   428034      74592        2383   \n",
       "3         France   5902343  107411   5882882   107280      19461         131   \n",
       "4         Turkey   5083996   44059   5072462    43821      11534         238   \n",
       "\n",
       "   Fatality Rate      Continent  \n",
       "0           1.78  North America  \n",
       "1           1.09           Asia  \n",
       "2           2.79  South America  \n",
       "3           1.82         Europe  \n",
       "4           0.87           Asia  "
      ]
     },
     "execution_count": 13,
     "metadata": {},
     "output_type": "execute_result"
    }
   ],
   "source": [
    "#hide\n",
    "for c in 'Cases, Deaths'.split(', '):\n",
    "    df_table[f'{c} (+)'] = (df_table[c] - df_table[f'P{c}']).clip(0)\n",
    "    #Clip ça veut dire, les chiffres negatif sont interdit\n",
    "df_table['Fatality Rate'] = (100* df_table['Deaths']/ df_table['Cases']).round(2)\n",
    "df_table['Continent'] = df_table['Country/Region'].map(mapping['map.continent'])\n",
    "df_table.head(5)"
   ]
  },
  {
   "cell_type": "code",
   "execution_count": 14,
   "id": "aboriginal-bulgaria",
   "metadata": {
    "execution": {
     "iopub.execute_input": "2021-05-14T12:11:38.457889Z",
     "iopub.status.busy": "2021-05-14T12:11:38.456941Z",
     "iopub.status.idle": "2021-05-14T12:11:38.460180Z",
     "shell.execute_reply": "2021-05-14T12:11:38.460680Z"
    },
    "papermill": {
     "duration": 0.048304,
     "end_time": "2021-05-14T12:11:38.460833",
     "exception": false,
     "start_time": "2021-05-14T12:11:38.412529",
     "status": "completed"
    },
    "tags": []
   },
   "outputs": [],
   "source": [
    "#hide\n",
    "#delete problematic countries from table\n",
    "df_table = df_table[~df_table['Country/Region'].isin(['Cape Verde', 'Cruise Ship', 'Kosovo'])]"
   ]
  },
  {
   "cell_type": "code",
   "execution_count": 15,
   "id": "fantastic-effect",
   "metadata": {
    "execution": {
     "iopub.execute_input": "2021-05-14T12:11:38.544279Z",
     "iopub.status.busy": "2021-05-14T12:11:38.543638Z",
     "iopub.status.idle": "2021-05-14T12:11:38.565013Z",
     "shell.execute_reply": "2021-05-14T12:11:38.565645Z"
    },
    "papermill": {
     "duration": 0.067557,
     "end_time": "2021-05-14T12:11:38.565811",
     "exception": false,
     "start_time": "2021-05-14T12:11:38.498254",
     "status": "completed"
    },
    "tags": []
   },
   "outputs": [
    {
     "data": {
      "text/html": [
       "<div>\n",
       "<style scoped>\n",
       "    .dataframe tbody tr th:only-of-type {\n",
       "        vertical-align: middle;\n",
       "    }\n",
       "\n",
       "    .dataframe tbody tr th {\n",
       "        vertical-align: top;\n",
       "    }\n",
       "\n",
       "    .dataframe thead th {\n",
       "        text-align: right;\n",
       "    }\n",
       "</style>\n",
       "<table border=\"1\" class=\"dataframe\">\n",
       "  <thead>\n",
       "    <tr style=\"text-align: right;\">\n",
       "      <th></th>\n",
       "      <th>Country/Region</th>\n",
       "      <th>Cases</th>\n",
       "      <th>Deaths</th>\n",
       "      <th>PCases</th>\n",
       "      <th>PDeaths</th>\n",
       "      <th>Cases (+)</th>\n",
       "      <th>Deaths (+)</th>\n",
       "      <th>Fatality Rate</th>\n",
       "      <th>Continent</th>\n",
       "    </tr>\n",
       "  </thead>\n",
       "  <tbody>\n",
       "    <tr>\n",
       "      <th>0</th>\n",
       "      <td>US</td>\n",
       "      <td>32852871</td>\n",
       "      <td>584487</td>\n",
       "      <td>32814784</td>\n",
       "      <td>583685</td>\n",
       "      <td>38087</td>\n",
       "      <td>802</td>\n",
       "      <td>1.8</td>\n",
       "      <td>North America</td>\n",
       "    </tr>\n",
       "    <tr>\n",
       "      <th>1</th>\n",
       "      <td>India</td>\n",
       "      <td>24046809</td>\n",
       "      <td>262317</td>\n",
       "      <td>23703665</td>\n",
       "      <td>258317</td>\n",
       "      <td>343144</td>\n",
       "      <td>4000</td>\n",
       "      <td>1.1</td>\n",
       "      <td>Asia</td>\n",
       "    </tr>\n",
       "    <tr>\n",
       "      <th>2</th>\n",
       "      <td>Brazil</td>\n",
       "      <td>15433989</td>\n",
       "      <td>430417</td>\n",
       "      <td>15359397</td>\n",
       "      <td>428034</td>\n",
       "      <td>74592</td>\n",
       "      <td>2383</td>\n",
       "      <td>2.8</td>\n",
       "      <td>South America</td>\n",
       "    </tr>\n",
       "    <tr>\n",
       "      <th>3</th>\n",
       "      <td>France</td>\n",
       "      <td>5902343</td>\n",
       "      <td>107411</td>\n",
       "      <td>5882882</td>\n",
       "      <td>107280</td>\n",
       "      <td>19461</td>\n",
       "      <td>131</td>\n",
       "      <td>1.8</td>\n",
       "      <td>Europe</td>\n",
       "    </tr>\n",
       "    <tr>\n",
       "      <th>4</th>\n",
       "      <td>Turkey</td>\n",
       "      <td>5083996</td>\n",
       "      <td>44059</td>\n",
       "      <td>5072462</td>\n",
       "      <td>43821</td>\n",
       "      <td>11534</td>\n",
       "      <td>238</td>\n",
       "      <td>0.9</td>\n",
       "      <td>Asia</td>\n",
       "    </tr>\n",
       "  </tbody>\n",
       "</table>\n",
       "</div>"
      ],
      "text/plain": [
       "  Country/Region     Cases  Deaths    PCases  PDeaths  Cases (+)  Deaths (+)  \\\n",
       "0             US  32852871  584487  32814784   583685      38087         802   \n",
       "1          India  24046809  262317  23703665   258317     343144        4000   \n",
       "2         Brazil  15433989  430417  15359397   428034      74592        2383   \n",
       "3         France   5902343  107411   5882882   107280      19461         131   \n",
       "4         Turkey   5083996   44059   5072462    43821      11534         238   \n",
       "\n",
       "   Fatality Rate      Continent  \n",
       "0            1.8  North America  \n",
       "1            1.1           Asia  \n",
       "2            2.8  South America  \n",
       "3            1.8         Europe  \n",
       "4            0.9           Asia  "
      ]
     },
     "execution_count": 15,
     "metadata": {},
     "output_type": "execute_result"
    }
   ],
   "source": [
    "#hide\n",
    "df_table = (pd.DataFrame(dict(Cases=dfc_cases, Deaths=dfc_deaths, PCases=dfp_cases, PDeaths=dfp_deaths))\n",
    "             .sort_values(by=['Cases', 'Deaths'], ascending=[False, False])\n",
    "             .reset_index())\n",
    "df_table.rename(columns={'index': 'Country/Region'}, inplace=True)\n",
    "for c in 'Cases, Deaths'.split(', '):\n",
    "    df_table[f'{c} (+)'] = (df_table[c] - df_table[f'P{c}']).clip(0)  # DATA BUG\n",
    "df_table['Fatality Rate'] = (100 * df_table['Deaths'] / df_table['Cases']).round(1)\n",
    "df_table['Continent'] = df_table['Country/Region'].map(mapping['map.continent'])\n",
    "df_table.head(5)"
   ]
  },
  {
   "cell_type": "code",
   "execution_count": 16,
   "id": "fewer-occasion",
   "metadata": {
    "execution": {
     "iopub.execute_input": "2021-05-14T12:11:38.650547Z",
     "iopub.status.busy": "2021-05-14T12:11:38.649907Z",
     "iopub.status.idle": "2021-05-14T12:11:38.652338Z",
     "shell.execute_reply": "2021-05-14T12:11:38.651794Z"
    },
    "papermill": {
     "duration": 0.047896,
     "end_time": "2021-05-14T12:11:38.652471",
     "exception": false,
     "start_time": "2021-05-14T12:11:38.604575",
     "status": "completed"
    },
    "tags": []
   },
   "outputs": [],
   "source": [
    "#hide\n",
    "#delete problematic countries from table\n",
    "df_table = df_table[~df_table['Country/Region'].isin(['Cape Verde', 'Cruise Ship', 'Kosovo'])]"
   ]
  },
  {
   "cell_type": "code",
   "execution_count": 17,
   "id": "related-center",
   "metadata": {
    "execution": {
     "iopub.execute_input": "2021-05-14T12:11:38.753166Z",
     "iopub.status.busy": "2021-05-14T12:11:38.752482Z",
     "iopub.status.idle": "2021-05-14T12:11:38.754316Z",
     "shell.execute_reply": "2021-05-14T12:11:38.754879Z"
    },
    "papermill": {
     "duration": 0.06339,
     "end_time": "2021-05-14T12:11:38.755056",
     "exception": false,
     "start_time": "2021-05-14T12:11:38.691666",
     "status": "completed"
    },
    "tags": []
   },
   "outputs": [],
   "source": [
    "#hide\n",
    "metrics = [df_table.columns[index] for index in [1,2,5,6]]\n",
    "# s_china = df_table[df_table['Country/Region'].eq('China')][metrics].sum().add_prefix('China ')\n",
    "s_us = df_table[df_table['Country/Region'].eq('US')][metrics].sum().add_prefix('US ')\n",
    "s_eu = df_table[df_table['Continent'].eq('Europe')][metrics].sum().add_prefix('EU ')\n",
    "s_ind = df_table[df_table['Country/Region'].eq('India')][metrics].sum().add_prefix('India ')\n",
    "summary = {'updated': pd.to_datetime(dt_today), 'since': pd.to_datetime(dt_yday)}\n",
    "summary = {'updated': pd.to_datetime(dt_today), 'since': pd.to_datetime(dt_yday)}\n",
    "summary = {**summary, **df_table[metrics].sum(), **s_ind, **s_us, **s_eu}"
   ]
  },
  {
   "cell_type": "code",
   "execution_count": 18,
   "id": "engaging-syndrome",
   "metadata": {
    "execution": {
     "iopub.execute_input": "2021-05-14T12:11:38.843288Z",
     "iopub.status.busy": "2021-05-14T12:11:38.842639Z",
     "iopub.status.idle": "2021-05-14T12:11:38.855393Z",
     "shell.execute_reply": "2021-05-14T12:11:38.854846Z"
    },
    "papermill": {
     "duration": 0.059778,
     "end_time": "2021-05-14T12:11:38.855538",
     "exception": false,
     "start_time": "2021-05-14T12:11:38.795760",
     "status": "completed"
    },
    "tags": []
   },
   "outputs": [],
   "source": [
    "#hide\n",
    "dft_ct_new_cases = dft_cases.groupby(COL_REGION)[dt_cols].sum().diff(axis=1).fillna(0).astype(int)"
   ]
  },
  {
   "cell_type": "code",
   "execution_count": 19,
   "id": "neutral-assignment",
   "metadata": {
    "execution": {
     "iopub.execute_input": "2021-05-14T12:11:38.941160Z",
     "iopub.status.busy": "2021-05-14T12:11:38.940507Z",
     "iopub.status.idle": "2021-05-14T12:11:38.942443Z",
     "shell.execute_reply": "2021-05-14T12:11:38.943247Z"
    },
    "papermill": {
     "duration": 0.048621,
     "end_time": "2021-05-14T12:11:38.943406",
     "exception": false,
     "start_time": "2021-05-14T12:11:38.894785",
     "status": "completed"
    },
    "tags": []
   },
   "outputs": [],
   "source": [
    "#hide\n",
    "everydaycases = dft_ct_new_cases.cumsum(axis=1)"
   ]
  },
  {
   "cell_type": "code",
   "execution_count": 20,
   "id": "parliamentary-calgary",
   "metadata": {
    "execution": {
     "iopub.execute_input": "2021-05-14T12:11:39.027814Z",
     "iopub.status.busy": "2021-05-14T12:11:39.027162Z",
     "iopub.status.idle": "2021-05-14T12:11:39.673596Z",
     "shell.execute_reply": "2021-05-14T12:11:39.674156Z"
    },
    "papermill": {
     "duration": 0.691291,
     "end_time": "2021-05-14T12:11:39.674331",
     "exception": false,
     "start_time": "2021-05-14T12:11:38.983040",
     "status": "completed"
    },
    "tags": []
   },
   "outputs": [],
   "source": [
    "#hide\n",
    "import pandas as pd\n",
    "import matplotlib.pyplot as plt\n",
    "import matplotlib.ticker as ticker\n",
    "import matplotlib.animation as animation\n",
    "from IPython.display import HTML"
   ]
  },
  {
   "cell_type": "code",
   "execution_count": 21,
   "id": "lasting-extraction",
   "metadata": {
    "execution": {
     "iopub.execute_input": "2021-05-14T12:11:39.757942Z",
     "iopub.status.busy": "2021-05-14T12:11:39.757272Z",
     "iopub.status.idle": "2021-05-14T12:11:39.762917Z",
     "shell.execute_reply": "2021-05-14T12:11:39.762241Z"
    },
    "papermill": {
     "duration": 0.050528,
     "end_time": "2021-05-14T12:11:39.763074",
     "exception": false,
     "start_time": "2021-05-14T12:11:39.712546",
     "status": "completed"
    },
    "tags": []
   },
   "outputs": [],
   "source": [
    "#hide\n",
    "t = everydaycases.stack()"
   ]
  },
  {
   "cell_type": "code",
   "execution_count": 22,
   "id": "premier-sleeve",
   "metadata": {
    "execution": {
     "iopub.execute_input": "2021-05-14T12:11:39.844986Z",
     "iopub.status.busy": "2021-05-14T12:11:39.844347Z",
     "iopub.status.idle": "2021-05-14T12:11:39.851928Z",
     "shell.execute_reply": "2021-05-14T12:11:39.852551Z"
    },
    "papermill": {
     "duration": 0.051292,
     "end_time": "2021-05-14T12:11:39.852704",
     "exception": false,
     "start_time": "2021-05-14T12:11:39.801412",
     "status": "completed"
    },
    "tags": []
   },
   "outputs": [],
   "source": [
    "#hide\n",
    "g = t.reset_index(['Country/Region'])"
   ]
  },
  {
   "cell_type": "code",
   "execution_count": 23,
   "id": "distributed-pittsburgh",
   "metadata": {
    "execution": {
     "iopub.execute_input": "2021-05-14T12:11:39.937729Z",
     "iopub.status.busy": "2021-05-14T12:11:39.936888Z",
     "iopub.status.idle": "2021-05-14T12:11:39.939462Z",
     "shell.execute_reply": "2021-05-14T12:11:39.938918Z"
    },
    "papermill": {
     "duration": 0.046503,
     "end_time": "2021-05-14T12:11:39.939591",
     "exception": false,
     "start_time": "2021-05-14T12:11:39.893088",
     "status": "completed"
    },
    "tags": []
   },
   "outputs": [],
   "source": [
    "#hide\n",
    "g.index.name = 'date'"
   ]
  },
  {
   "cell_type": "code",
   "execution_count": 24,
   "id": "naked-donor",
   "metadata": {
    "execution": {
     "iopub.execute_input": "2021-05-14T12:11:40.021299Z",
     "iopub.status.busy": "2021-05-14T12:11:40.020642Z",
     "iopub.status.idle": "2021-05-14T12:11:40.022415Z",
     "shell.execute_reply": "2021-05-14T12:11:40.023006Z"
    },
    "papermill": {
     "duration": 0.04598,
     "end_time": "2021-05-14T12:11:40.023144",
     "exception": false,
     "start_time": "2021-05-14T12:11:39.977164",
     "status": "completed"
    },
    "tags": []
   },
   "outputs": [],
   "source": [
    "# #hide\n",
    "# g = g.reset_index(['date'])"
   ]
  },
  {
   "cell_type": "code",
   "execution_count": 25,
   "id": "incomplete-mustang",
   "metadata": {
    "execution": {
     "iopub.execute_input": "2021-05-14T12:11:40.104394Z",
     "iopub.status.busy": "2021-05-14T12:11:40.103055Z",
     "iopub.status.idle": "2021-05-14T12:11:40.105089Z",
     "shell.execute_reply": "2021-05-14T12:11:40.105658Z"
    },
    "papermill": {
     "duration": 0.044054,
     "end_time": "2021-05-14T12:11:40.105805",
     "exception": false,
     "start_time": "2021-05-14T12:11:40.061751",
     "status": "completed"
    },
    "tags": []
   },
   "outputs": [],
   "source": [
    "#hide\n",
    "# g.head()"
   ]
  },
  {
   "cell_type": "code",
   "execution_count": 26,
   "id": "specific-kruger",
   "metadata": {
    "execution": {
     "iopub.execute_input": "2021-05-14T12:11:40.186919Z",
     "iopub.status.busy": "2021-05-14T12:11:40.186275Z",
     "iopub.status.idle": "2021-05-14T12:11:40.189996Z",
     "shell.execute_reply": "2021-05-14T12:11:40.190510Z"
    },
    "papermill": {
     "duration": 0.046396,
     "end_time": "2021-05-14T12:11:40.190662",
     "exception": false,
     "start_time": "2021-05-14T12:11:40.144266",
     "status": "completed"
    },
    "tags": []
   },
   "outputs": [],
   "source": [
    "#hide\n",
    "# g.columns = ['date','country','cases']"
   ]
  },
  {
   "cell_type": "code",
   "execution_count": 27,
   "id": "tender-conversion",
   "metadata": {
    "execution": {
     "iopub.execute_input": "2021-05-14T12:11:40.272258Z",
     "iopub.status.busy": "2021-05-14T12:11:40.271637Z",
     "iopub.status.idle": "2021-05-14T12:11:40.273997Z",
     "shell.execute_reply": "2021-05-14T12:11:40.273412Z"
    },
    "papermill": {
     "duration": 0.044071,
     "end_time": "2021-05-14T12:11:40.274128",
     "exception": false,
     "start_time": "2021-05-14T12:11:40.230057",
     "status": "completed"
    },
    "tags": []
   },
   "outputs": [],
   "source": [
    "#hide\n",
    "# g['continent'] = g.country"
   ]
  },
  {
   "cell_type": "code",
   "execution_count": 28,
   "id": "substantial-wilderness",
   "metadata": {
    "execution": {
     "iopub.execute_input": "2021-05-14T12:11:40.355670Z",
     "iopub.status.busy": "2021-05-14T12:11:40.355017Z",
     "iopub.status.idle": "2021-05-14T12:11:40.357116Z",
     "shell.execute_reply": "2021-05-14T12:11:40.357724Z"
    },
    "papermill": {
     "duration": 0.045174,
     "end_time": "2021-05-14T12:11:40.357871",
     "exception": false,
     "start_time": "2021-05-14T12:11:40.312697",
     "status": "completed"
    },
    "tags": []
   },
   "outputs": [],
   "source": [
    "#hide\n",
    "# cols = list(g.columns.values)"
   ]
  },
  {
   "cell_type": "code",
   "execution_count": 29,
   "id": "solved-farming",
   "metadata": {
    "execution": {
     "iopub.execute_input": "2021-05-14T12:11:40.440858Z",
     "iopub.status.busy": "2021-05-14T12:11:40.440225Z",
     "iopub.status.idle": "2021-05-14T12:11:40.442229Z",
     "shell.execute_reply": "2021-05-14T12:11:40.442736Z"
    },
    "papermill": {
     "duration": 0.045958,
     "end_time": "2021-05-14T12:11:40.442887",
     "exception": false,
     "start_time": "2021-05-14T12:11:40.396929",
     "status": "completed"
    },
    "tags": []
   },
   "outputs": [],
   "source": [
    "#hide\n",
    "# cols.insert(0, cols.pop())"
   ]
  },
  {
   "cell_type": "code",
   "execution_count": 30,
   "id": "executed-adoption",
   "metadata": {
    "execution": {
     "iopub.execute_input": "2021-05-14T12:11:40.535015Z",
     "iopub.status.busy": "2021-05-14T12:11:40.534379Z",
     "iopub.status.idle": "2021-05-14T12:11:40.536288Z",
     "shell.execute_reply": "2021-05-14T12:11:40.536778Z"
    },
    "papermill": {
     "duration": 0.052726,
     "end_time": "2021-05-14T12:11:40.536928",
     "exception": false,
     "start_time": "2021-05-14T12:11:40.484202",
     "status": "completed"
    },
    "tags": []
   },
   "outputs": [],
   "source": [
    "#hide\n",
    "# g = g[cols]"
   ]
  },
  {
   "cell_type": "code",
   "execution_count": 31,
   "id": "subject-dublin",
   "metadata": {
    "execution": {
     "iopub.execute_input": "2021-05-14T12:11:40.619624Z",
     "iopub.status.busy": "2021-05-14T12:11:40.619010Z",
     "iopub.status.idle": "2021-05-14T12:11:40.621455Z",
     "shell.execute_reply": "2021-05-14T12:11:40.620953Z"
    },
    "papermill": {
     "duration": 0.045704,
     "end_time": "2021-05-14T12:11:40.621575",
     "exception": false,
     "start_time": "2021-05-14T12:11:40.575871",
     "status": "completed"
    },
    "tags": []
   },
   "outputs": [],
   "source": [
    "#hide\n",
    "# g['continent'] = g['continent'].map(mapping['map.continent'])"
   ]
  },
  {
   "cell_type": "code",
   "execution_count": 32,
   "id": "freelance-scout",
   "metadata": {
    "execution": {
     "iopub.execute_input": "2021-05-14T12:11:40.703027Z",
     "iopub.status.busy": "2021-05-14T12:11:40.702387Z",
     "iopub.status.idle": "2021-05-14T12:11:40.704846Z",
     "shell.execute_reply": "2021-05-14T12:11:40.705384Z"
    },
    "papermill": {
     "duration": 0.045893,
     "end_time": "2021-05-14T12:11:40.705540",
     "exception": false,
     "start_time": "2021-05-14T12:11:40.659647",
     "status": "completed"
    },
    "tags": []
   },
   "outputs": [],
   "source": [
    "#hide\n",
    "# g.head()"
   ]
  },
  {
   "cell_type": "code",
   "execution_count": 33,
   "id": "limited-engine",
   "metadata": {
    "execution": {
     "iopub.execute_input": "2021-05-14T12:11:40.790770Z",
     "iopub.status.busy": "2021-05-14T12:11:40.790137Z",
     "iopub.status.idle": "2021-05-14T12:11:40.792692Z",
     "shell.execute_reply": "2021-05-14T12:11:40.792153Z"
    },
    "papermill": {
     "duration": 0.047976,
     "end_time": "2021-05-14T12:11:40.792821",
     "exception": false,
     "start_time": "2021-05-14T12:11:40.744845",
     "status": "completed"
    },
    "tags": []
   },
   "outputs": [],
   "source": [
    "# hide\n",
    "# g['date'] = g['date'].astype('datetime64[ns]')"
   ]
  },
  {
   "cell_type": "code",
   "execution_count": 34,
   "id": "sophisticated-supervisor",
   "metadata": {
    "execution": {
     "iopub.execute_input": "2021-05-14T12:11:40.870966Z",
     "iopub.status.busy": "2021-05-14T12:11:40.870339Z",
     "iopub.status.idle": "2021-05-14T12:11:40.872237Z",
     "shell.execute_reply": "2021-05-14T12:11:40.872737Z"
    },
    "papermill": {
     "duration": 0.042083,
     "end_time": "2021-05-14T12:11:40.872877",
     "exception": false,
     "start_time": "2021-05-14T12:11:40.830794",
     "status": "completed"
    },
    "tags": []
   },
   "outputs": [],
   "source": [
    "#hide\n",
    "# g['date'] = g.date.dt.dayofyear"
   ]
  },
  {
   "cell_type": "code",
   "execution_count": 35,
   "id": "inside-dubai",
   "metadata": {
    "execution": {
     "iopub.execute_input": "2021-05-14T12:11:40.953140Z",
     "iopub.status.busy": "2021-05-14T12:11:40.952444Z",
     "iopub.status.idle": "2021-05-14T12:11:40.955072Z",
     "shell.execute_reply": "2021-05-14T12:11:40.954504Z"
    },
    "papermill": {
     "duration": 0.044256,
     "end_time": "2021-05-14T12:11:40.955217",
     "exception": false,
     "start_time": "2021-05-14T12:11:40.910961",
     "status": "completed"
    },
    "tags": []
   },
   "outputs": [],
   "source": [
    "#hide\n",
    "# g = g.rename(columns= {'continent':'group','country':'name','cases':'value'})"
   ]
  },
  {
   "cell_type": "code",
   "execution_count": 36,
   "id": "fleet-motorcycle",
   "metadata": {
    "execution": {
     "iopub.execute_input": "2021-05-14T12:11:41.040953Z",
     "iopub.status.busy": "2021-05-14T12:11:41.040328Z",
     "iopub.status.idle": "2021-05-14T12:11:41.042184Z",
     "shell.execute_reply": "2021-05-14T12:11:41.042695Z"
    },
    "papermill": {
     "duration": 0.045421,
     "end_time": "2021-05-14T12:11:41.042845",
     "exception": false,
     "start_time": "2021-05-14T12:11:40.997424",
     "status": "completed"
    },
    "tags": []
   },
   "outputs": [],
   "source": [
    "#hide\n",
    "# cols = ['name','group','day','value']"
   ]
  },
  {
   "cell_type": "code",
   "execution_count": 37,
   "id": "continued-sleeping",
   "metadata": {
    "execution": {
     "iopub.execute_input": "2021-05-14T12:11:41.119277Z",
     "iopub.status.busy": "2021-05-14T12:11:41.118674Z",
     "iopub.status.idle": "2021-05-14T12:11:41.121629Z",
     "shell.execute_reply": "2021-05-14T12:11:41.121109Z"
    },
    "papermill": {
     "duration": 0.041434,
     "end_time": "2021-05-14T12:11:41.121747",
     "exception": false,
     "start_time": "2021-05-14T12:11:41.080313",
     "status": "completed"
    },
    "tags": []
   },
   "outputs": [],
   "source": [
    "#hide\n",
    "# g.rename(columns= {'date':'day'},inplace = True)"
   ]
  },
  {
   "cell_type": "code",
   "execution_count": 38,
   "id": "major-fight",
   "metadata": {
    "execution": {
     "iopub.execute_input": "2021-05-14T12:11:41.199225Z",
     "iopub.status.busy": "2021-05-14T12:11:41.198596Z",
     "iopub.status.idle": "2021-05-14T12:11:41.201112Z",
     "shell.execute_reply": "2021-05-14T12:11:41.200416Z"
    },
    "papermill": {
     "duration": 0.04391,
     "end_time": "2021-05-14T12:11:41.201255",
     "exception": false,
     "start_time": "2021-05-14T12:11:41.157345",
     "status": "completed"
    },
    "tags": []
   },
   "outputs": [],
   "source": [
    "#hide\n",
    "# g = g[cols]"
   ]
  },
  {
   "cell_type": "code",
   "execution_count": 39,
   "id": "structured-mobile",
   "metadata": {
    "execution": {
     "iopub.execute_input": "2021-05-14T12:11:41.280996Z",
     "iopub.status.busy": "2021-05-14T12:11:41.280372Z",
     "iopub.status.idle": "2021-05-14T12:11:41.282991Z",
     "shell.execute_reply": "2021-05-14T12:11:41.282486Z"
    },
    "papermill": {
     "duration": 0.043587,
     "end_time": "2021-05-14T12:11:41.283110",
     "exception": false,
     "start_time": "2021-05-14T12:11:41.239523",
     "status": "completed"
    },
    "tags": []
   },
   "outputs": [],
   "source": [
    "# #hide\n",
    "# g = g[g.group.notna()]"
   ]
  },
  {
   "cell_type": "code",
   "execution_count": 40,
   "id": "determined-closing",
   "metadata": {
    "execution": {
     "iopub.execute_input": "2021-05-14T12:11:41.364823Z",
     "iopub.status.busy": "2021-05-14T12:11:41.364189Z",
     "iopub.status.idle": "2021-05-14T12:11:41.366269Z",
     "shell.execute_reply": "2021-05-14T12:11:41.366746Z"
    },
    "papermill": {
     "duration": 0.045181,
     "end_time": "2021-05-14T12:11:41.366886",
     "exception": false,
     "start_time": "2021-05-14T12:11:41.321705",
     "status": "completed"
    },
    "tags": []
   },
   "outputs": [],
   "source": [
    "# #hide\n",
    "# colors = dict(zip(\n",
    "#     [\"Oceania\", \"Europe\", \"Asia\", \"South America\", \"Middle East\", \"North America\", \"Africa\"],\n",
    "#     [\"#adb0ff\", \"#ffb3ff\", \"#90d595\", \"#e48381\", \"#aafbff\", \"#f7bb5f\", \"#eafb50\"]\n",
    "# ))\n",
    "# group_lk = g.set_index('name')['group'].to_dict()"
   ]
  },
  {
   "cell_type": "code",
   "execution_count": null,
   "id": "gross-drinking",
   "metadata": {
    "papermill": {
     "duration": 0.037839,
     "end_time": "2021-05-14T12:11:41.442743",
     "exception": false,
     "start_time": "2021-05-14T12:11:41.404904",
     "status": "completed"
    },
    "tags": []
   },
   "outputs": [],
   "source": []
  },
  {
   "cell_type": "code",
   "execution_count": 41,
   "id": "subject-macintosh",
   "metadata": {
    "execution": {
     "iopub.execute_input": "2021-05-14T12:11:41.522374Z",
     "iopub.status.busy": "2021-05-14T12:11:41.521694Z",
     "iopub.status.idle": "2021-05-14T12:11:41.523648Z",
     "shell.execute_reply": "2021-05-14T12:11:41.524607Z"
    },
    "papermill": {
     "duration": 0.045132,
     "end_time": "2021-05-14T12:11:41.524786",
     "exception": false,
     "start_time": "2021-05-14T12:11:41.479654",
     "status": "completed"
    },
    "tags": []
   },
   "outputs": [],
   "source": [
    "# #hide\n",
    "# fig, ax = plt.subplots(figsize=(15, 8))\n",
    "\n",
    "# def draw_barchart(current_day):\n",
    "#     dff = g[g['day'].eq(current_day)].sort_values(by='value', ascending=True).tail(10)\n",
    "#     ax.clear()\n",
    "#     ax.barh(dff['name'], dff['value'], color=[colors[group_lk[x]] for x in dff['name']])\n",
    "#     dx = dff['value'].max() / 200\n",
    "    \n",
    "#     for i, (value, name) in enumerate(zip(dff['value'], dff['name'])):\n",
    "#         ax.text(value-dx, i,     name,           size=14, weight=600, ha='right', va='bottom')\n",
    "#         ax.text(value-dx, i-.25, group_lk[name], size=10, color='#444444', ha='right', va='baseline')\n",
    "#         ax.text(value+dx, i,     f'{value:,.0f}',  size=14, ha='left',  va='center')\n",
    "#     ax.text(1, 0.4, current_day, transform=ax.transAxes, color='#777777', size=46, ha='right', weight=800)\n",
    "#     ax.text(0, 1.06, 'Population (thousands)', transform=ax.transAxes, size=12, color='#777777')\n",
    "#     ax.xaxis.set_major_formatter(ticker.StrMethodFormatter('{x:,.0f}'))\n",
    "#     ax.xaxis.set_ticks_position('top')\n",
    "#     ax.tick_params(axis='x', colors='#777777', labelsize=12)\n",
    "#     ax.set_yticks([])\n",
    "#     ax.margins(0, 0.01)\n",
    "#     ax.grid(which='major', axis='x', linestyle='-')\n",
    "#     ax.set_axisbelow(True)\n",
    "    \n",
    "#     ax.text(0, 1.15, 'Coronavirus',\n",
    "#             transform=ax.transAxes, size=24, weight=600, ha='left', va='top')\n",
    "# #     ax.text(1, 0, 'by @pratapvardhan; credit @jburnmurdoch', transform=ax.transAxes, color='#777777', ha='right',\n",
    "# #             bbox=dict(facecolor='white', alpha=0.8, edgecolor='white'))\n",
    "#     plt.box(False)"
   ]
  },
  {
   "cell_type": "code",
   "execution_count": 42,
   "id": "sexual-wages",
   "metadata": {
    "execution": {
     "iopub.execute_input": "2021-05-14T12:11:41.604574Z",
     "iopub.status.busy": "2021-05-14T12:11:41.603971Z",
     "iopub.status.idle": "2021-05-14T12:11:41.606520Z",
     "shell.execute_reply": "2021-05-14T12:11:41.605891Z"
    },
    "papermill": {
     "duration": 0.043085,
     "end_time": "2021-05-14T12:11:41.606632",
     "exception": false,
     "start_time": "2021-05-14T12:11:41.563547",
     "status": "completed"
    },
    "tags": []
   },
   "outputs": [],
   "source": [
    "# #hide_input\n",
    "# fig, ax = plt.subplots(figsize=(15, 8))\n",
    "# animator = animation.FuncAnimation(fig, draw_barchart, frames=range(g.day.values.min(), g.day.values.max()))\n",
    "# HTML(animator.to_jshtml())\n",
    "# # or use animator.to_html5_video() or animator.save() "
   ]
  },
  {
   "cell_type": "code",
   "execution_count": null,
   "id": "australian-container",
   "metadata": {
    "papermill": {
     "duration": 0.040279,
     "end_time": "2021-05-14T12:11:41.691056",
     "exception": false,
     "start_time": "2021-05-14T12:11:41.650777",
     "status": "completed"
    },
    "tags": []
   },
   "outputs": [],
   "source": []
  },
  {
   "cell_type": "code",
   "execution_count": null,
   "id": "mediterranean-pontiac",
   "metadata": {
    "papermill": {
     "duration": 0.0369,
     "end_time": "2021-05-14T12:11:41.765541",
     "exception": false,
     "start_time": "2021-05-14T12:11:41.728641",
     "status": "completed"
    },
    "tags": []
   },
   "outputs": [],
   "source": []
  },
  {
   "cell_type": "code",
   "execution_count": null,
   "id": "aging-legislature",
   "metadata": {
    "papermill": {
     "duration": 0.038946,
     "end_time": "2021-05-14T12:11:41.842029",
     "exception": false,
     "start_time": "2021-05-14T12:11:41.803083",
     "status": "completed"
    },
    "tags": []
   },
   "outputs": [],
   "source": []
  }
 ],
 "metadata": {
  "kernelspec": {
   "display_name": "Python 3",
   "language": "python",
   "name": "python3"
  },
  "language_info": {
   "codemirror_mode": {
    "name": "ipython",
    "version": 3
   },
   "file_extension": ".py",
   "mimetype": "text/x-python",
   "name": "python",
   "nbconvert_exporter": "python",
   "pygments_lexer": "ipython3",
   "version": "3.6.13"
  },
  "papermill": {
   "duration": 7.309642,
   "end_time": "2021-05-14T12:11:42.189092",
   "environment_variables": {},
   "exception": null,
   "input_path": "2020-03-21-covid19exp.ipynb",
   "output_path": "2020-03-21-covid19exp.ipynb",
   "parameters": {},
   "start_time": "2021-05-14T12:11:34.879450",
   "version": "2.0.0"
  }
 },
 "nbformat": 4,
 "nbformat_minor": 5
}