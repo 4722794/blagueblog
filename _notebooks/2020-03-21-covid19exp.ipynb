{
 "cells": [
  {
   "cell_type": "markdown",
   "id": "muslim-click",
   "metadata": {
    "papermill": {
     "duration": 0.041483,
     "end_time": "2021-12-05T00:27:11.167013",
     "exception": false,
     "start_time": "2021-12-05T00:27:11.125530",
     "status": "completed"
    },
    "tags": []
   },
   "source": [
    "# COVID-19 Case Race\n",
    "> A race chart to see rising cases around the world\n",
    "\n",
    "- author: Hargun Oberoi\n",
    "- image: images/covid-overview.png\n",
    "- hide: false\n",
    "- badges: false"
   ]
  },
  {
   "cell_type": "code",
   "execution_count": 1,
   "id": "proof-material",
   "metadata": {
    "execution": {
     "iopub.execute_input": "2021-12-05T00:27:11.250718Z",
     "iopub.status.busy": "2021-12-05T00:27:11.250066Z",
     "iopub.status.idle": "2021-12-05T00:27:11.624587Z",
     "shell.execute_reply": "2021-12-05T00:27:11.623894Z"
    },
    "papermill": {
     "duration": 0.421484,
     "end_time": "2021-12-05T00:27:11.624741",
     "exception": false,
     "start_time": "2021-12-05T00:27:11.203257",
     "status": "completed"
    },
    "tags": []
   },
   "outputs": [],
   "source": [
    "#hide\n",
    "import numpy as np\n",
    "import pandas as pd\n",
    "from jinja2 import Template\n",
    "from IPython.display import HTML"
   ]
  },
  {
   "cell_type": "code",
   "execution_count": 2,
   "id": "developed-terminology",
   "metadata": {
    "execution": {
     "iopub.execute_input": "2021-12-05T00:27:11.704807Z",
     "iopub.status.busy": "2021-12-05T00:27:11.704100Z",
     "iopub.status.idle": "2021-12-05T00:27:11.706640Z",
     "shell.execute_reply": "2021-12-05T00:27:11.707083Z"
    },
    "papermill": {
     "duration": 0.044898,
     "end_time": "2021-12-05T00:27:11.707214",
     "exception": false,
     "start_time": "2021-12-05T00:27:11.662316",
     "status": "completed"
    },
    "tags": []
   },
   "outputs": [],
   "source": [
    "#hide\n",
    "\n",
    "# FETCH\n",
    "base_url = 'https://raw.githubusercontent.com/pratapvardhan/notebooks/master/covid19/'\n",
    "paths = {\n",
    "    'mapping': base_url + 'mapping_countries.csv',\n",
    "    'overview': base_url + 'overview.tpl'\n",
    "}"
   ]
  },
  {
   "cell_type": "code",
   "execution_count": 3,
   "id": "dynamic-saver",
   "metadata": {
    "execution": {
     "iopub.execute_input": "2021-12-05T00:27:11.787235Z",
     "iopub.status.busy": "2021-12-05T00:27:11.786554Z",
     "iopub.status.idle": "2021-12-05T00:27:11.792101Z",
     "shell.execute_reply": "2021-12-05T00:27:11.791581Z"
    },
    "papermill": {
     "duration": 0.051047,
     "end_time": "2021-12-05T00:27:11.792214",
     "exception": false,
     "start_time": "2021-12-05T00:27:11.741167",
     "status": "completed"
    },
    "tags": []
   },
   "outputs": [
    {
     "data": {
      "text/plain": [
       "'https://raw.githubusercontent.com/pratapvardhan/notebooks/master/covid19/mapping_countries.csv'"
      ]
     },
     "execution_count": 3,
     "metadata": {},
     "output_type": "execute_result"
    }
   ],
   "source": [
    "#hide\n",
    "paths['mapping']"
   ]
  },
  {
   "cell_type": "code",
   "execution_count": 4,
   "id": "urban-software",
   "metadata": {
    "execution": {
     "iopub.execute_input": "2021-12-05T00:27:11.883987Z",
     "iopub.status.busy": "2021-12-05T00:27:11.883336Z",
     "iopub.status.idle": "2021-12-05T00:27:11.885617Z",
     "shell.execute_reply": "2021-12-05T00:27:11.886266Z"
    },
    "papermill": {
     "duration": 0.049744,
     "end_time": "2021-12-05T00:27:11.886436",
     "exception": false,
     "start_time": "2021-12-05T00:27:11.836692",
     "status": "completed"
    },
    "tags": []
   },
   "outputs": [],
   "source": [
    "#hide\n",
    "def get_mappings(url):\n",
    "    df = pd.read_csv(url)\n",
    "    return {\n",
    "        'df': df,\n",
    "        'replace.country': dict(df.dropna(subset=['Name']).set_index('Country')['Name']),\n",
    "        'map.continent': dict(df.set_index('Name')['Continent'])\n",
    "    }"
   ]
  },
  {
   "cell_type": "code",
   "execution_count": 5,
   "id": "intimate-machinery",
   "metadata": {
    "execution": {
     "iopub.execute_input": "2021-12-05T00:27:11.961081Z",
     "iopub.status.busy": "2021-12-05T00:27:11.960497Z",
     "iopub.status.idle": "2021-12-05T00:27:12.002396Z",
     "shell.execute_reply": "2021-12-05T00:27:12.003000Z"
    },
    "papermill": {
     "duration": 0.082098,
     "end_time": "2021-12-05T00:27:12.003132",
     "exception": false,
     "start_time": "2021-12-05T00:27:11.921034",
     "status": "completed"
    },
    "tags": []
   },
   "outputs": [],
   "source": [
    "#hide\n",
    "mapping = get_mappings(paths['mapping'])"
   ]
  },
  {
   "cell_type": "code",
   "execution_count": 6,
   "id": "certified-tactics",
   "metadata": {
    "execution": {
     "iopub.execute_input": "2021-12-05T00:27:12.086186Z",
     "iopub.status.busy": "2021-12-05T00:27:12.085588Z",
     "iopub.status.idle": "2021-12-05T00:27:12.088297Z",
     "shell.execute_reply": "2021-12-05T00:27:12.087707Z"
    },
    "papermill": {
     "duration": 0.046097,
     "end_time": "2021-12-05T00:27:12.088418",
     "exception": false,
     "start_time": "2021-12-05T00:27:12.042321",
     "status": "completed"
    },
    "tags": []
   },
   "outputs": [],
   "source": [
    "#hide\n",
    "def get_template(path):\n",
    "    from urllib.parse import urlparse\n",
    "    if bool(urlparse(path).netloc):\n",
    "        from urllib.request import urlopen\n",
    "        return urlopen(path).read().decode('utf8')\n",
    "    return open(path).read()"
   ]
  },
  {
   "cell_type": "code",
   "execution_count": 7,
   "id": "realistic-blast",
   "metadata": {
    "execution": {
     "iopub.execute_input": "2021-12-05T00:27:12.166236Z",
     "iopub.status.busy": "2021-12-05T00:27:12.165649Z",
     "iopub.status.idle": "2021-12-05T00:27:12.170109Z",
     "shell.execute_reply": "2021-12-05T00:27:12.169579Z"
    },
    "papermill": {
     "duration": 0.045388,
     "end_time": "2021-12-05T00:27:12.170229",
     "exception": false,
     "start_time": "2021-12-05T00:27:12.124841",
     "status": "completed"
    },
    "tags": []
   },
   "outputs": [],
   "source": [
    "#hide\n",
    "def get_frame(name):\n",
    "    url = (\n",
    "        'https://raw.githubusercontent.com/CSSEGISandData/COVID-19/master/csse_covid_19_data/'\n",
    "        f'csse_covid_19_time_series/time_series_covid19_{name}_global.csv')\n",
    "    df = pd.read_csv(url)\n",
    "    # rename countries\n",
    "    df['Country/Region'] = df['Country/Region'].replace(mapping['replace.country'])\n",
    "    return df"
   ]
  },
  {
   "cell_type": "code",
   "execution_count": 8,
   "id": "affiliated-characterization",
   "metadata": {
    "execution": {
     "iopub.execute_input": "2021-12-05T00:27:12.244679Z",
     "iopub.status.busy": "2021-12-05T00:27:12.243997Z",
     "iopub.status.idle": "2021-12-05T00:27:12.245986Z",
     "shell.execute_reply": "2021-12-05T00:27:12.246441Z"
    },
    "papermill": {
     "duration": 0.041547,
     "end_time": "2021-12-05T00:27:12.246569",
     "exception": false,
     "start_time": "2021-12-05T00:27:12.205022",
     "status": "completed"
    },
    "tags": []
   },
   "outputs": [],
   "source": [
    "#hide\n",
    "def get_dates(df):\n",
    "    dt_cols = df.columns[~df.columns.isin(['Province/State', 'Country/Region', 'Lat', 'Long'])]\n",
    "    LAST_DATE_I = -1\n",
    "    # sometimes last column may be empty, then go backwards\n",
    "    for i in range(-1, -len(dt_cols), -1):\n",
    "        if not df[dt_cols[i]].fillna(0).eq(0).all():\n",
    "            LAST_DATE_I = i\n",
    "            break\n",
    "    return LAST_DATE_I, dt_cols"
   ]
  },
  {
   "cell_type": "code",
   "execution_count": 9,
   "id": "recent-optimization",
   "metadata": {
    "execution": {
     "iopub.execute_input": "2021-12-05T00:27:12.321361Z",
     "iopub.status.busy": "2021-12-05T00:27:12.320664Z",
     "iopub.status.idle": "2021-12-05T00:27:12.747885Z",
     "shell.execute_reply": "2021-12-05T00:27:12.747169Z"
    },
    "papermill": {
     "duration": 0.46682,
     "end_time": "2021-12-05T00:27:12.748020",
     "exception": false,
     "start_time": "2021-12-05T00:27:12.281200",
     "status": "completed"
    },
    "tags": []
   },
   "outputs": [],
   "source": [
    "#hide\n",
    "COL_REGION = 'Country/Region'\n",
    "# Confirmed, Recovered, Deaths\n",
    "df = get_frame('confirmed')\n",
    "# dft_: timeseries, dfc_: today country agg\n",
    "dft_cases = df\n",
    "dft_deaths = get_frame('deaths')\n",
    "dft_recovered = get_frame('recovered')\n",
    "LAST_DATE_I, dt_cols = get_dates(df)"
   ]
  },
  {
   "cell_type": "code",
   "execution_count": 10,
   "id": "absolute-copper",
   "metadata": {
    "execution": {
     "iopub.execute_input": "2021-12-05T00:27:12.834639Z",
     "iopub.status.busy": "2021-12-05T00:27:12.833447Z",
     "iopub.status.idle": "2021-12-05T00:27:12.836919Z",
     "shell.execute_reply": "2021-12-05T00:27:12.837620Z"
    },
    "papermill": {
     "duration": 0.054506,
     "end_time": "2021-12-05T00:27:12.837769",
     "exception": false,
     "start_time": "2021-12-05T00:27:12.783263",
     "status": "completed"
    },
    "tags": []
   },
   "outputs": [],
   "source": [
    "#hide\n",
    "LAST_DATE_I, dt_cols = get_dates(df)\n",
    "dt_today =dt_cols[LAST_DATE_I]\n",
    "# dt_5day = dt_cols[LAST_DATE_I - 5]\n",
    "dt_yday = dt_cols[LAST_DATE_I - 1]"
   ]
  },
  {
   "cell_type": "code",
   "execution_count": 11,
   "id": "restricted-sheriff",
   "metadata": {
    "execution": {
     "iopub.execute_input": "2021-12-05T00:27:12.918642Z",
     "iopub.status.busy": "2021-12-05T00:27:12.917978Z",
     "iopub.status.idle": "2021-12-05T00:27:12.926863Z",
     "shell.execute_reply": "2021-12-05T00:27:12.926317Z"
    },
    "papermill": {
     "duration": 0.053383,
     "end_time": "2021-12-05T00:27:12.926993",
     "exception": false,
     "start_time": "2021-12-05T00:27:12.873610",
     "status": "completed"
    },
    "tags": []
   },
   "outputs": [],
   "source": [
    "#hide\n",
    "dfc_cases = dft_cases.groupby(COL_REGION)[dt_today].sum()\n",
    "dfc_deaths = dft_deaths.groupby(COL_REGION)[dt_today].sum()\n",
    "# dfp_cases = dft_cases.groupby(COL_REGION)[dt_5day].sum()\n",
    "# dfp_deaths = dft_deaths.groupby(COL_REGION)[dt_5day].sum()\n",
    "dfp_cases = dft_cases.groupby(COL_REGION)[dt_yday].sum()\n",
    "dfp_deaths = dft_deaths.groupby(COL_REGION)[dt_yday].sum()"
   ]
  },
  {
   "cell_type": "code",
   "execution_count": 12,
   "id": "deluxe-hepatitis",
   "metadata": {
    "execution": {
     "iopub.execute_input": "2021-12-05T00:27:13.007951Z",
     "iopub.status.busy": "2021-12-05T00:27:13.007257Z",
     "iopub.status.idle": "2021-12-05T00:27:13.012038Z",
     "shell.execute_reply": "2021-12-05T00:27:13.012700Z"
    },
    "papermill": {
     "duration": 0.049581,
     "end_time": "2021-12-05T00:27:13.012877",
     "exception": false,
     "start_time": "2021-12-05T00:27:12.963296",
     "status": "completed"
    },
    "tags": []
   },
   "outputs": [],
   "source": [
    "#hide\n",
    "df_table = (pd.DataFrame(dict(Cases = dfc_cases, Deaths = dfc_deaths, PCases = dfp_cases, PDeaths = dfp_deaths))\n",
    "            .sort_values(by = ['Cases','Deaths'], ascending = [False, False])\n",
    "            .reset_index())"
   ]
  },
  {
   "cell_type": "code",
   "execution_count": 13,
   "id": "educational-chancellor",
   "metadata": {
    "execution": {
     "iopub.execute_input": "2021-12-05T00:27:13.128860Z",
     "iopub.status.busy": "2021-12-05T00:27:13.128232Z",
     "iopub.status.idle": "2021-12-05T00:27:13.131880Z",
     "shell.execute_reply": "2021-12-05T00:27:13.131262Z"
    },
    "papermill": {
     "duration": 0.080303,
     "end_time": "2021-12-05T00:27:13.132007",
     "exception": false,
     "start_time": "2021-12-05T00:27:13.051704",
     "status": "completed"
    },
    "tags": []
   },
   "outputs": [
    {
     "data": {
      "text/html": [
       "<div>\n",
       "<style scoped>\n",
       "    .dataframe tbody tr th:only-of-type {\n",
       "        vertical-align: middle;\n",
       "    }\n",
       "\n",
       "    .dataframe tbody tr th {\n",
       "        vertical-align: top;\n",
       "    }\n",
       "\n",
       "    .dataframe thead th {\n",
       "        text-align: right;\n",
       "    }\n",
       "</style>\n",
       "<table border=\"1\" class=\"dataframe\">\n",
       "  <thead>\n",
       "    <tr style=\"text-align: right;\">\n",
       "      <th></th>\n",
       "      <th>Country/Region</th>\n",
       "      <th>Cases</th>\n",
       "      <th>Deaths</th>\n",
       "      <th>PCases</th>\n",
       "      <th>PDeaths</th>\n",
       "      <th>Cases (+)</th>\n",
       "      <th>Deaths (+)</th>\n",
       "      <th>Fatality Rate</th>\n",
       "      <th>Continent</th>\n",
       "    </tr>\n",
       "  </thead>\n",
       "  <tbody>\n",
       "    <tr>\n",
       "      <th>0</th>\n",
       "      <td>US</td>\n",
       "      <td>48990127</td>\n",
       "      <td>787695</td>\n",
       "      <td>48832228</td>\n",
       "      <td>785900</td>\n",
       "      <td>157899</td>\n",
       "      <td>1795</td>\n",
       "      <td>1.61</td>\n",
       "      <td>North America</td>\n",
       "    </tr>\n",
       "    <tr>\n",
       "      <th>1</th>\n",
       "      <td>India</td>\n",
       "      <td>34624360</td>\n",
       "      <td>470530</td>\n",
       "      <td>34615757</td>\n",
       "      <td>470115</td>\n",
       "      <td>8603</td>\n",
       "      <td>415</td>\n",
       "      <td>1.36</td>\n",
       "      <td>Asia</td>\n",
       "    </tr>\n",
       "    <tr>\n",
       "      <th>2</th>\n",
       "      <td>Brazil</td>\n",
       "      <td>22129409</td>\n",
       "      <td>615400</td>\n",
       "      <td>22118782</td>\n",
       "      <td>615179</td>\n",
       "      <td>10627</td>\n",
       "      <td>221</td>\n",
       "      <td>2.78</td>\n",
       "      <td>South America</td>\n",
       "    </tr>\n",
       "    <tr>\n",
       "      <th>3</th>\n",
       "      <td>United Kingdom</td>\n",
       "      <td>10438381</td>\n",
       "      <td>145874</td>\n",
       "      <td>10387200</td>\n",
       "      <td>145728</td>\n",
       "      <td>51181</td>\n",
       "      <td>146</td>\n",
       "      <td>1.40</td>\n",
       "      <td>Europe</td>\n",
       "    </tr>\n",
       "    <tr>\n",
       "      <th>4</th>\n",
       "      <td>Russia</td>\n",
       "      <td>9565909</td>\n",
       "      <td>273463</td>\n",
       "      <td>9533593</td>\n",
       "      <td>272279</td>\n",
       "      <td>32316</td>\n",
       "      <td>1184</td>\n",
       "      <td>2.86</td>\n",
       "      <td>Europe</td>\n",
       "    </tr>\n",
       "  </tbody>\n",
       "</table>\n",
       "</div>"
      ],
      "text/plain": [
       "   Country/Region     Cases  Deaths    PCases  PDeaths  Cases (+)  Deaths (+)  \\\n",
       "0              US  48990127  787695  48832228   785900     157899        1795   \n",
       "1           India  34624360  470530  34615757   470115       8603         415   \n",
       "2          Brazil  22129409  615400  22118782   615179      10627         221   \n",
       "3  United Kingdom  10438381  145874  10387200   145728      51181         146   \n",
       "4          Russia   9565909  273463   9533593   272279      32316        1184   \n",
       "\n",
       "   Fatality Rate      Continent  \n",
       "0           1.61  North America  \n",
       "1           1.36           Asia  \n",
       "2           2.78  South America  \n",
       "3           1.40         Europe  \n",
       "4           2.86         Europe  "
      ]
     },
     "execution_count": 13,
     "metadata": {},
     "output_type": "execute_result"
    }
   ],
   "source": [
    "#hide\n",
    "for c in 'Cases, Deaths'.split(', '):\n",
    "    df_table[f'{c} (+)'] = (df_table[c] - df_table[f'P{c}']).clip(0)\n",
    "    #Clip ça veut dire, les chiffres negatif sont interdit\n",
    "df_table['Fatality Rate'] = (100* df_table['Deaths']/ df_table['Cases']).round(2)\n",
    "df_table['Continent'] = df_table['Country/Region'].map(mapping['map.continent'])\n",
    "df_table.head(5)"
   ]
  },
  {
   "cell_type": "code",
   "execution_count": 14,
   "id": "aboriginal-bulgaria",
   "metadata": {
    "execution": {
     "iopub.execute_input": "2021-12-05T00:27:13.213387Z",
     "iopub.status.busy": "2021-12-05T00:27:13.212602Z",
     "iopub.status.idle": "2021-12-05T00:27:13.216485Z",
     "shell.execute_reply": "2021-12-05T00:27:13.217097Z"
    },
    "papermill": {
     "duration": 0.048322,
     "end_time": "2021-12-05T00:27:13.217266",
     "exception": false,
     "start_time": "2021-12-05T00:27:13.168944",
     "status": "completed"
    },
    "tags": []
   },
   "outputs": [],
   "source": [
    "#hide\n",
    "#delete problematic countries from table\n",
    "df_table = df_table[~df_table['Country/Region'].isin(['Cape Verde', 'Cruise Ship', 'Kosovo'])]"
   ]
  },
  {
   "cell_type": "code",
   "execution_count": 15,
   "id": "fantastic-effect",
   "metadata": {
    "execution": {
     "iopub.execute_input": "2021-12-05T00:27:13.303026Z",
     "iopub.status.busy": "2021-12-05T00:27:13.302232Z",
     "iopub.status.idle": "2021-12-05T00:27:13.325183Z",
     "shell.execute_reply": "2021-12-05T00:27:13.324582Z"
    },
    "papermill": {
     "duration": 0.069961,
     "end_time": "2021-12-05T00:27:13.325322",
     "exception": false,
     "start_time": "2021-12-05T00:27:13.255361",
     "status": "completed"
    },
    "tags": []
   },
   "outputs": [
    {
     "data": {
      "text/html": [
       "<div>\n",
       "<style scoped>\n",
       "    .dataframe tbody tr th:only-of-type {\n",
       "        vertical-align: middle;\n",
       "    }\n",
       "\n",
       "    .dataframe tbody tr th {\n",
       "        vertical-align: top;\n",
       "    }\n",
       "\n",
       "    .dataframe thead th {\n",
       "        text-align: right;\n",
       "    }\n",
       "</style>\n",
       "<table border=\"1\" class=\"dataframe\">\n",
       "  <thead>\n",
       "    <tr style=\"text-align: right;\">\n",
       "      <th></th>\n",
       "      <th>Country/Region</th>\n",
       "      <th>Cases</th>\n",
       "      <th>Deaths</th>\n",
       "      <th>PCases</th>\n",
       "      <th>PDeaths</th>\n",
       "      <th>Cases (+)</th>\n",
       "      <th>Deaths (+)</th>\n",
       "      <th>Fatality Rate</th>\n",
       "      <th>Continent</th>\n",
       "    </tr>\n",
       "  </thead>\n",
       "  <tbody>\n",
       "    <tr>\n",
       "      <th>0</th>\n",
       "      <td>US</td>\n",
       "      <td>48990127</td>\n",
       "      <td>787695</td>\n",
       "      <td>48832228</td>\n",
       "      <td>785900</td>\n",
       "      <td>157899</td>\n",
       "      <td>1795</td>\n",
       "      <td>1.6</td>\n",
       "      <td>North America</td>\n",
       "    </tr>\n",
       "    <tr>\n",
       "      <th>1</th>\n",
       "      <td>India</td>\n",
       "      <td>34624360</td>\n",
       "      <td>470530</td>\n",
       "      <td>34615757</td>\n",
       "      <td>470115</td>\n",
       "      <td>8603</td>\n",
       "      <td>415</td>\n",
       "      <td>1.4</td>\n",
       "      <td>Asia</td>\n",
       "    </tr>\n",
       "    <tr>\n",
       "      <th>2</th>\n",
       "      <td>Brazil</td>\n",
       "      <td>22129409</td>\n",
       "      <td>615400</td>\n",
       "      <td>22118782</td>\n",
       "      <td>615179</td>\n",
       "      <td>10627</td>\n",
       "      <td>221</td>\n",
       "      <td>2.8</td>\n",
       "      <td>South America</td>\n",
       "    </tr>\n",
       "    <tr>\n",
       "      <th>3</th>\n",
       "      <td>United Kingdom</td>\n",
       "      <td>10438381</td>\n",
       "      <td>145874</td>\n",
       "      <td>10387200</td>\n",
       "      <td>145728</td>\n",
       "      <td>51181</td>\n",
       "      <td>146</td>\n",
       "      <td>1.4</td>\n",
       "      <td>Europe</td>\n",
       "    </tr>\n",
       "    <tr>\n",
       "      <th>4</th>\n",
       "      <td>Russia</td>\n",
       "      <td>9565909</td>\n",
       "      <td>273463</td>\n",
       "      <td>9533593</td>\n",
       "      <td>272279</td>\n",
       "      <td>32316</td>\n",
       "      <td>1184</td>\n",
       "      <td>2.9</td>\n",
       "      <td>Europe</td>\n",
       "    </tr>\n",
       "  </tbody>\n",
       "</table>\n",
       "</div>"
      ],
      "text/plain": [
       "   Country/Region     Cases  Deaths    PCases  PDeaths  Cases (+)  Deaths (+)  \\\n",
       "0              US  48990127  787695  48832228   785900     157899        1795   \n",
       "1           India  34624360  470530  34615757   470115       8603         415   \n",
       "2          Brazil  22129409  615400  22118782   615179      10627         221   \n",
       "3  United Kingdom  10438381  145874  10387200   145728      51181         146   \n",
       "4          Russia   9565909  273463   9533593   272279      32316        1184   \n",
       "\n",
       "   Fatality Rate      Continent  \n",
       "0            1.6  North America  \n",
       "1            1.4           Asia  \n",
       "2            2.8  South America  \n",
       "3            1.4         Europe  \n",
       "4            2.9         Europe  "
      ]
     },
     "execution_count": 15,
     "metadata": {},
     "output_type": "execute_result"
    }
   ],
   "source": [
    "#hide\n",
    "df_table = (pd.DataFrame(dict(Cases=dfc_cases, Deaths=dfc_deaths, PCases=dfp_cases, PDeaths=dfp_deaths))\n",
    "             .sort_values(by=['Cases', 'Deaths'], ascending=[False, False])\n",
    "             .reset_index())\n",
    "df_table.rename(columns={'index': 'Country/Region'}, inplace=True)\n",
    "for c in 'Cases, Deaths'.split(', '):\n",
    "    df_table[f'{c} (+)'] = (df_table[c] - df_table[f'P{c}']).clip(0)  # DATA BUG\n",
    "df_table['Fatality Rate'] = (100 * df_table['Deaths'] / df_table['Cases']).round(1)\n",
    "df_table['Continent'] = df_table['Country/Region'].map(mapping['map.continent'])\n",
    "df_table.head(5)"
   ]
  },
  {
   "cell_type": "code",
   "execution_count": 16,
   "id": "fewer-occasion",
   "metadata": {
    "execution": {
     "iopub.execute_input": "2021-12-05T00:27:13.409395Z",
     "iopub.status.busy": "2021-12-05T00:27:13.408776Z",
     "iopub.status.idle": "2021-12-05T00:27:13.410935Z",
     "shell.execute_reply": "2021-12-05T00:27:13.411518Z"
    },
    "papermill": {
     "duration": 0.046662,
     "end_time": "2021-12-05T00:27:13.411652",
     "exception": false,
     "start_time": "2021-12-05T00:27:13.364990",
     "status": "completed"
    },
    "tags": []
   },
   "outputs": [],
   "source": [
    "#hide\n",
    "#delete problematic countries from table\n",
    "df_table = df_table[~df_table['Country/Region'].isin(['Cape Verde', 'Cruise Ship', 'Kosovo'])]"
   ]
  },
  {
   "cell_type": "code",
   "execution_count": 17,
   "id": "related-center",
   "metadata": {
    "execution": {
     "iopub.execute_input": "2021-12-05T00:27:13.507525Z",
     "iopub.status.busy": "2021-12-05T00:27:13.506888Z",
     "iopub.status.idle": "2021-12-05T00:27:13.508847Z",
     "shell.execute_reply": "2021-12-05T00:27:13.509304Z"
    },
    "papermill": {
     "duration": 0.059991,
     "end_time": "2021-12-05T00:27:13.509447",
     "exception": false,
     "start_time": "2021-12-05T00:27:13.449456",
     "status": "completed"
    },
    "tags": []
   },
   "outputs": [],
   "source": [
    "#hide\n",
    "metrics = [df_table.columns[index] for index in [1,2,5,6]]\n",
    "# s_china = df_table[df_table['Country/Region'].eq('China')][metrics].sum().add_prefix('China ')\n",
    "s_us = df_table[df_table['Country/Region'].eq('US')][metrics].sum().add_prefix('US ')\n",
    "s_eu = df_table[df_table['Continent'].eq('Europe')][metrics].sum().add_prefix('EU ')\n",
    "s_ind = df_table[df_table['Country/Region'].eq('India')][metrics].sum().add_prefix('India ')\n",
    "summary = {'updated': pd.to_datetime(dt_today), 'since': pd.to_datetime(dt_yday)}\n",
    "summary = {'updated': pd.to_datetime(dt_today), 'since': pd.to_datetime(dt_yday)}\n",
    "summary = {**summary, **df_table[metrics].sum(), **s_ind, **s_us, **s_eu}"
   ]
  },
  {
   "cell_type": "code",
   "execution_count": 18,
   "id": "engaging-syndrome",
   "metadata": {
    "execution": {
     "iopub.execute_input": "2021-12-05T00:27:13.597366Z",
     "iopub.status.busy": "2021-12-05T00:27:13.596691Z",
     "iopub.status.idle": "2021-12-05T00:27:13.619520Z",
     "shell.execute_reply": "2021-12-05T00:27:13.618820Z"
    },
    "papermill": {
     "duration": 0.072832,
     "end_time": "2021-12-05T00:27:13.619669",
     "exception": false,
     "start_time": "2021-12-05T00:27:13.546837",
     "status": "completed"
    },
    "tags": []
   },
   "outputs": [],
   "source": [
    "#hide\n",
    "dft_ct_new_cases = dft_cases.groupby(COL_REGION)[dt_cols].sum().diff(axis=1).fillna(0).astype(int)"
   ]
  },
  {
   "cell_type": "code",
   "execution_count": 19,
   "id": "neutral-assignment",
   "metadata": {
    "execution": {
     "iopub.execute_input": "2021-12-05T00:27:13.704151Z",
     "iopub.status.busy": "2021-12-05T00:27:13.703428Z",
     "iopub.status.idle": "2021-12-05T00:27:13.706100Z",
     "shell.execute_reply": "2021-12-05T00:27:13.705523Z"
    },
    "papermill": {
     "duration": 0.045043,
     "end_time": "2021-12-05T00:27:13.706247",
     "exception": false,
     "start_time": "2021-12-05T00:27:13.661204",
     "status": "completed"
    },
    "tags": []
   },
   "outputs": [],
   "source": [
    "#hide\n",
    "everydaycases = dft_ct_new_cases.cumsum(axis=1)"
   ]
  },
  {
   "cell_type": "code",
   "execution_count": 20,
   "id": "parliamentary-calgary",
   "metadata": {
    "execution": {
     "iopub.execute_input": "2021-12-05T00:27:13.786747Z",
     "iopub.status.busy": "2021-12-05T00:27:13.786082Z",
     "iopub.status.idle": "2021-12-05T00:27:14.513148Z",
     "shell.execute_reply": "2021-12-05T00:27:14.512577Z"
    },
    "papermill": {
     "duration": 0.766479,
     "end_time": "2021-12-05T00:27:14.513297",
     "exception": false,
     "start_time": "2021-12-05T00:27:13.746818",
     "status": "completed"
    },
    "tags": []
   },
   "outputs": [],
   "source": [
    "#hide\n",
    "import pandas as pd\n",
    "import matplotlib.pyplot as plt\n",
    "import matplotlib.ticker as ticker\n",
    "import matplotlib.animation as animation\n",
    "from IPython.display import HTML"
   ]
  },
  {
   "cell_type": "code",
   "execution_count": 21,
   "id": "lasting-extraction",
   "metadata": {
    "execution": {
     "iopub.execute_input": "2021-12-05T00:27:14.601580Z",
     "iopub.status.busy": "2021-12-05T00:27:14.600958Z",
     "iopub.status.idle": "2021-12-05T00:27:14.606685Z",
     "shell.execute_reply": "2021-12-05T00:27:14.607326Z"
    },
    "papermill": {
     "duration": 0.049012,
     "end_time": "2021-12-05T00:27:14.607471",
     "exception": false,
     "start_time": "2021-12-05T00:27:14.558459",
     "status": "completed"
    },
    "tags": []
   },
   "outputs": [],
   "source": [
    "#hide\n",
    "t = everydaycases.stack()"
   ]
  },
  {
   "cell_type": "code",
   "execution_count": 22,
   "id": "premier-sleeve",
   "metadata": {
    "execution": {
     "iopub.execute_input": "2021-12-05T00:27:14.691941Z",
     "iopub.status.busy": "2021-12-05T00:27:14.691217Z",
     "iopub.status.idle": "2021-12-05T00:27:14.701789Z",
     "shell.execute_reply": "2021-12-05T00:27:14.701245Z"
    },
    "papermill": {
     "duration": 0.05425,
     "end_time": "2021-12-05T00:27:14.701944",
     "exception": false,
     "start_time": "2021-12-05T00:27:14.647694",
     "status": "completed"
    },
    "tags": []
   },
   "outputs": [],
   "source": [
    "#hide\n",
    "g = t.reset_index(['Country/Region'])"
   ]
  },
  {
   "cell_type": "code",
   "execution_count": 23,
   "id": "distributed-pittsburgh",
   "metadata": {
    "execution": {
     "iopub.execute_input": "2021-12-05T00:27:14.782178Z",
     "iopub.status.busy": "2021-12-05T00:27:14.781547Z",
     "iopub.status.idle": "2021-12-05T00:27:14.783682Z",
     "shell.execute_reply": "2021-12-05T00:27:14.784253Z"
    },
    "papermill": {
     "duration": 0.042957,
     "end_time": "2021-12-05T00:27:14.784411",
     "exception": false,
     "start_time": "2021-12-05T00:27:14.741454",
     "status": "completed"
    },
    "tags": []
   },
   "outputs": [],
   "source": [
    "#hide\n",
    "g.index.name = 'date'"
   ]
  },
  {
   "cell_type": "code",
   "execution_count": 24,
   "id": "naked-donor",
   "metadata": {
    "execution": {
     "iopub.execute_input": "2021-12-05T00:27:14.872493Z",
     "iopub.status.busy": "2021-12-05T00:27:14.871857Z",
     "iopub.status.idle": "2021-12-05T00:27:14.874502Z",
     "shell.execute_reply": "2021-12-05T00:27:14.873849Z"
    },
    "papermill": {
     "duration": 0.050985,
     "end_time": "2021-12-05T00:27:14.874658",
     "exception": false,
     "start_time": "2021-12-05T00:27:14.823673",
     "status": "completed"
    },
    "tags": []
   },
   "outputs": [],
   "source": [
    "# #hide\n",
    "# g = g.reset_index(['date'])"
   ]
  },
  {
   "cell_type": "code",
   "execution_count": 25,
   "id": "incomplete-mustang",
   "metadata": {
    "execution": {
     "iopub.execute_input": "2021-12-05T00:27:14.955024Z",
     "iopub.status.busy": "2021-12-05T00:27:14.954330Z",
     "iopub.status.idle": "2021-12-05T00:27:14.957637Z",
     "shell.execute_reply": "2021-12-05T00:27:14.956518Z"
    },
    "papermill": {
     "duration": 0.044439,
     "end_time": "2021-12-05T00:27:14.957804",
     "exception": false,
     "start_time": "2021-12-05T00:27:14.913365",
     "status": "completed"
    },
    "tags": []
   },
   "outputs": [],
   "source": [
    "#hide\n",
    "# g.head()"
   ]
  },
  {
   "cell_type": "code",
   "execution_count": 26,
   "id": "specific-kruger",
   "metadata": {
    "execution": {
     "iopub.execute_input": "2021-12-05T00:27:15.036936Z",
     "iopub.status.busy": "2021-12-05T00:27:15.036272Z",
     "iopub.status.idle": "2021-12-05T00:27:15.039422Z",
     "shell.execute_reply": "2021-12-05T00:27:15.038842Z"
    },
    "papermill": {
     "duration": 0.042944,
     "end_time": "2021-12-05T00:27:15.039574",
     "exception": false,
     "start_time": "2021-12-05T00:27:14.996630",
     "status": "completed"
    },
    "tags": []
   },
   "outputs": [],
   "source": [
    "#hide\n",
    "# g.columns = ['date','country','cases']"
   ]
  },
  {
   "cell_type": "code",
   "execution_count": 27,
   "id": "tender-conversion",
   "metadata": {
    "execution": {
     "iopub.execute_input": "2021-12-05T00:27:15.119479Z",
     "iopub.status.busy": "2021-12-05T00:27:15.118808Z",
     "iopub.status.idle": "2021-12-05T00:27:15.121553Z",
     "shell.execute_reply": "2021-12-05T00:27:15.120897Z"
    },
    "papermill": {
     "duration": 0.042861,
     "end_time": "2021-12-05T00:27:15.121682",
     "exception": false,
     "start_time": "2021-12-05T00:27:15.078821",
     "status": "completed"
    },
    "tags": []
   },
   "outputs": [],
   "source": [
    "#hide\n",
    "# g['continent'] = g.country"
   ]
  },
  {
   "cell_type": "code",
   "execution_count": 28,
   "id": "substantial-wilderness",
   "metadata": {
    "execution": {
     "iopub.execute_input": "2021-12-05T00:27:15.198317Z",
     "iopub.status.busy": "2021-12-05T00:27:15.197673Z",
     "iopub.status.idle": "2021-12-05T00:27:15.200211Z",
     "shell.execute_reply": "2021-12-05T00:27:15.199614Z"
    },
    "papermill": {
     "duration": 0.041468,
     "end_time": "2021-12-05T00:27:15.200324",
     "exception": false,
     "start_time": "2021-12-05T00:27:15.158856",
     "status": "completed"
    },
    "tags": []
   },
   "outputs": [],
   "source": [
    "#hide\n",
    "# cols = list(g.columns.values)"
   ]
  },
  {
   "cell_type": "code",
   "execution_count": 29,
   "id": "solved-farming",
   "metadata": {
    "execution": {
     "iopub.execute_input": "2021-12-05T00:27:15.282932Z",
     "iopub.status.busy": "2021-12-05T00:27:15.282221Z",
     "iopub.status.idle": "2021-12-05T00:27:15.285439Z",
     "shell.execute_reply": "2021-12-05T00:27:15.285975Z"
    },
    "papermill": {
     "duration": 0.049072,
     "end_time": "2021-12-05T00:27:15.286124",
     "exception": false,
     "start_time": "2021-12-05T00:27:15.237052",
     "status": "completed"
    },
    "tags": []
   },
   "outputs": [],
   "source": [
    "#hide\n",
    "# cols.insert(0, cols.pop())"
   ]
  },
  {
   "cell_type": "code",
   "execution_count": 30,
   "id": "executed-adoption",
   "metadata": {
    "execution": {
     "iopub.execute_input": "2021-12-05T00:27:15.367736Z",
     "iopub.status.busy": "2021-12-05T00:27:15.367080Z",
     "iopub.status.idle": "2021-12-05T00:27:15.369565Z",
     "shell.execute_reply": "2021-12-05T00:27:15.370074Z"
    },
    "papermill": {
     "duration": 0.045523,
     "end_time": "2021-12-05T00:27:15.370212",
     "exception": false,
     "start_time": "2021-12-05T00:27:15.324689",
     "status": "completed"
    },
    "tags": []
   },
   "outputs": [],
   "source": [
    "#hide\n",
    "# g = g[cols]"
   ]
  },
  {
   "cell_type": "code",
   "execution_count": 31,
   "id": "subject-dublin",
   "metadata": {
    "execution": {
     "iopub.execute_input": "2021-12-05T00:27:15.452968Z",
     "iopub.status.busy": "2021-12-05T00:27:15.452288Z",
     "iopub.status.idle": "2021-12-05T00:27:15.456173Z",
     "shell.execute_reply": "2021-12-05T00:27:15.456703Z"
    },
    "papermill": {
     "duration": 0.048692,
     "end_time": "2021-12-05T00:27:15.456883",
     "exception": false,
     "start_time": "2021-12-05T00:27:15.408191",
     "status": "completed"
    },
    "tags": []
   },
   "outputs": [],
   "source": [
    "#hide\n",
    "# g['continent'] = g['continent'].map(mapping['map.continent'])"
   ]
  },
  {
   "cell_type": "code",
   "execution_count": 32,
   "id": "freelance-scout",
   "metadata": {
    "execution": {
     "iopub.execute_input": "2021-12-05T00:27:15.537517Z",
     "iopub.status.busy": "2021-12-05T00:27:15.536825Z",
     "iopub.status.idle": "2021-12-05T00:27:15.539164Z",
     "shell.execute_reply": "2021-12-05T00:27:15.539758Z"
    },
    "papermill": {
     "duration": 0.044691,
     "end_time": "2021-12-05T00:27:15.539955",
     "exception": false,
     "start_time": "2021-12-05T00:27:15.495264",
     "status": "completed"
    },
    "tags": []
   },
   "outputs": [],
   "source": [
    "#hide\n",
    "# g.head()"
   ]
  },
  {
   "cell_type": "code",
   "execution_count": 33,
   "id": "limited-engine",
   "metadata": {
    "execution": {
     "iopub.execute_input": "2021-12-05T00:27:15.625447Z",
     "iopub.status.busy": "2021-12-05T00:27:15.624524Z",
     "iopub.status.idle": "2021-12-05T00:27:15.626729Z",
     "shell.execute_reply": "2021-12-05T00:27:15.627258Z"
    },
    "papermill": {
     "duration": 0.04777,
     "end_time": "2021-12-05T00:27:15.627410",
     "exception": false,
     "start_time": "2021-12-05T00:27:15.579640",
     "status": "completed"
    },
    "tags": []
   },
   "outputs": [],
   "source": [
    "# hide\n",
    "# g['date'] = g['date'].astype('datetime64[ns]')"
   ]
  },
  {
   "cell_type": "code",
   "execution_count": 34,
   "id": "sophisticated-supervisor",
   "metadata": {
    "execution": {
     "iopub.execute_input": "2021-12-05T00:27:15.712387Z",
     "iopub.status.busy": "2021-12-05T00:27:15.711705Z",
     "iopub.status.idle": "2021-12-05T00:27:15.713640Z",
     "shell.execute_reply": "2021-12-05T00:27:15.714187Z"
    },
    "papermill": {
     "duration": 0.047145,
     "end_time": "2021-12-05T00:27:15.714330",
     "exception": false,
     "start_time": "2021-12-05T00:27:15.667185",
     "status": "completed"
    },
    "tags": []
   },
   "outputs": [],
   "source": [
    "#hide\n",
    "# g['date'] = g.date.dt.dayofyear"
   ]
  },
  {
   "cell_type": "code",
   "execution_count": 35,
   "id": "inside-dubai",
   "metadata": {
    "execution": {
     "iopub.execute_input": "2021-12-05T00:27:15.793825Z",
     "iopub.status.busy": "2021-12-05T00:27:15.793169Z",
     "iopub.status.idle": "2021-12-05T00:27:15.795258Z",
     "shell.execute_reply": "2021-12-05T00:27:15.795942Z"
    },
    "papermill": {
     "duration": 0.043125,
     "end_time": "2021-12-05T00:27:15.796103",
     "exception": false,
     "start_time": "2021-12-05T00:27:15.752978",
     "status": "completed"
    },
    "tags": []
   },
   "outputs": [],
   "source": [
    "#hide\n",
    "# g = g.rename(columns= {'continent':'group','country':'name','cases':'value'})"
   ]
  },
  {
   "cell_type": "code",
   "execution_count": 36,
   "id": "fleet-motorcycle",
   "metadata": {
    "execution": {
     "iopub.execute_input": "2021-12-05T00:27:15.876959Z",
     "iopub.status.busy": "2021-12-05T00:27:15.876269Z",
     "iopub.status.idle": "2021-12-05T00:27:15.880155Z",
     "shell.execute_reply": "2021-12-05T00:27:15.880669Z"
    },
    "papermill": {
     "duration": 0.046337,
     "end_time": "2021-12-05T00:27:15.880824",
     "exception": false,
     "start_time": "2021-12-05T00:27:15.834487",
     "status": "completed"
    },
    "tags": []
   },
   "outputs": [],
   "source": [
    "#hide\n",
    "# cols = ['name','group','day','value']"
   ]
  },
  {
   "cell_type": "code",
   "execution_count": 37,
   "id": "continued-sleeping",
   "metadata": {
    "execution": {
     "iopub.execute_input": "2021-12-05T00:27:15.962196Z",
     "iopub.status.busy": "2021-12-05T00:27:15.961558Z",
     "iopub.status.idle": "2021-12-05T00:27:15.963933Z",
     "shell.execute_reply": "2021-12-05T00:27:15.964407Z"
    },
    "papermill": {
     "duration": 0.043614,
     "end_time": "2021-12-05T00:27:15.964577",
     "exception": false,
     "start_time": "2021-12-05T00:27:15.920963",
     "status": "completed"
    },
    "tags": []
   },
   "outputs": [],
   "source": [
    "#hide\n",
    "# g.rename(columns= {'date':'day'},inplace = True)"
   ]
  },
  {
   "cell_type": "code",
   "execution_count": 38,
   "id": "major-fight",
   "metadata": {
    "execution": {
     "iopub.execute_input": "2021-12-05T00:27:16.048024Z",
     "iopub.status.busy": "2021-12-05T00:27:16.047261Z",
     "iopub.status.idle": "2021-12-05T00:27:16.050366Z",
     "shell.execute_reply": "2021-12-05T00:27:16.049520Z"
    },
    "papermill": {
     "duration": 0.047429,
     "end_time": "2021-12-05T00:27:16.050503",
     "exception": false,
     "start_time": "2021-12-05T00:27:16.003074",
     "status": "completed"
    },
    "tags": []
   },
   "outputs": [],
   "source": [
    "#hide\n",
    "# g = g[cols]"
   ]
  },
  {
   "cell_type": "code",
   "execution_count": 39,
   "id": "structured-mobile",
   "metadata": {
    "execution": {
     "iopub.execute_input": "2021-12-05T00:27:16.133999Z",
     "iopub.status.busy": "2021-12-05T00:27:16.133343Z",
     "iopub.status.idle": "2021-12-05T00:27:16.137711Z",
     "shell.execute_reply": "2021-12-05T00:27:16.137123Z"
    },
    "papermill": {
     "duration": 0.047872,
     "end_time": "2021-12-05T00:27:16.137840",
     "exception": false,
     "start_time": "2021-12-05T00:27:16.089968",
     "status": "completed"
    },
    "tags": []
   },
   "outputs": [],
   "source": [
    "# #hide\n",
    "# g = g[g.group.notna()]"
   ]
  },
  {
   "cell_type": "code",
   "execution_count": 40,
   "id": "determined-closing",
   "metadata": {
    "execution": {
     "iopub.execute_input": "2021-12-05T00:27:16.221368Z",
     "iopub.status.busy": "2021-12-05T00:27:16.220595Z",
     "iopub.status.idle": "2021-12-05T00:27:16.222655Z",
     "shell.execute_reply": "2021-12-05T00:27:16.223195Z"
    },
    "papermill": {
     "duration": 0.045687,
     "end_time": "2021-12-05T00:27:16.223324",
     "exception": false,
     "start_time": "2021-12-05T00:27:16.177637",
     "status": "completed"
    },
    "tags": []
   },
   "outputs": [],
   "source": [
    "# #hide\n",
    "# colors = dict(zip(\n",
    "#     [\"Oceania\", \"Europe\", \"Asia\", \"South America\", \"Middle East\", \"North America\", \"Africa\"],\n",
    "#     [\"#adb0ff\", \"#ffb3ff\", \"#90d595\", \"#e48381\", \"#aafbff\", \"#f7bb5f\", \"#eafb50\"]\n",
    "# ))\n",
    "# group_lk = g.set_index('name')['group'].to_dict()"
   ]
  },
  {
   "cell_type": "code",
   "execution_count": null,
   "id": "gross-drinking",
   "metadata": {
    "papermill": {
     "duration": 0.036524,
     "end_time": "2021-12-05T00:27:16.297454",
     "exception": false,
     "start_time": "2021-12-05T00:27:16.260930",
     "status": "completed"
    },
    "tags": []
   },
   "outputs": [],
   "source": []
  },
  {
   "cell_type": "code",
   "execution_count": 41,
   "id": "subject-macintosh",
   "metadata": {
    "execution": {
     "iopub.execute_input": "2021-12-05T00:27:16.376919Z",
     "iopub.status.busy": "2021-12-05T00:27:16.376184Z",
     "iopub.status.idle": "2021-12-05T00:27:16.378826Z",
     "shell.execute_reply": "2021-12-05T00:27:16.378264Z"
    },
    "papermill": {
     "duration": 0.044303,
     "end_time": "2021-12-05T00:27:16.378973",
     "exception": false,
     "start_time": "2021-12-05T00:27:16.334670",
     "status": "completed"
    },
    "tags": []
   },
   "outputs": [],
   "source": [
    "# #hide\n",
    "# fig, ax = plt.subplots(figsize=(15, 8))\n",
    "\n",
    "# def draw_barchart(current_day):\n",
    "#     dff = g[g['day'].eq(current_day)].sort_values(by='value', ascending=True).tail(10)\n",
    "#     ax.clear()\n",
    "#     ax.barh(dff['name'], dff['value'], color=[colors[group_lk[x]] for x in dff['name']])\n",
    "#     dx = dff['value'].max() / 200\n",
    "    \n",
    "#     for i, (value, name) in enumerate(zip(dff['value'], dff['name'])):\n",
    "#         ax.text(value-dx, i,     name,           size=14, weight=600, ha='right', va='bottom')\n",
    "#         ax.text(value-dx, i-.25, group_lk[name], size=10, color='#444444', ha='right', va='baseline')\n",
    "#         ax.text(value+dx, i,     f'{value:,.0f}',  size=14, ha='left',  va='center')\n",
    "#     ax.text(1, 0.4, current_day, transform=ax.transAxes, color='#777777', size=46, ha='right', weight=800)\n",
    "#     ax.text(0, 1.06, 'Population (thousands)', transform=ax.transAxes, size=12, color='#777777')\n",
    "#     ax.xaxis.set_major_formatter(ticker.StrMethodFormatter('{x:,.0f}'))\n",
    "#     ax.xaxis.set_ticks_position('top')\n",
    "#     ax.tick_params(axis='x', colors='#777777', labelsize=12)\n",
    "#     ax.set_yticks([])\n",
    "#     ax.margins(0, 0.01)\n",
    "#     ax.grid(which='major', axis='x', linestyle='-')\n",
    "#     ax.set_axisbelow(True)\n",
    "    \n",
    "#     ax.text(0, 1.15, 'Coronavirus',\n",
    "#             transform=ax.transAxes, size=24, weight=600, ha='left', va='top')\n",
    "# #     ax.text(1, 0, 'by @pratapvardhan; credit @jburnmurdoch', transform=ax.transAxes, color='#777777', ha='right',\n",
    "# #             bbox=dict(facecolor='white', alpha=0.8, edgecolor='white'))\n",
    "#     plt.box(False)"
   ]
  },
  {
   "cell_type": "code",
   "execution_count": 42,
   "id": "sexual-wages",
   "metadata": {
    "execution": {
     "iopub.execute_input": "2021-12-05T00:27:16.460759Z",
     "iopub.status.busy": "2021-12-05T00:27:16.460132Z",
     "iopub.status.idle": "2021-12-05T00:27:16.462705Z",
     "shell.execute_reply": "2021-12-05T00:27:16.462178Z"
    },
    "papermill": {
     "duration": 0.043832,
     "end_time": "2021-12-05T00:27:16.462840",
     "exception": false,
     "start_time": "2021-12-05T00:27:16.419008",
     "status": "completed"
    },
    "tags": []
   },
   "outputs": [],
   "source": [
    "# #hide_input\n",
    "# fig, ax = plt.subplots(figsize=(15, 8))\n",
    "# animator = animation.FuncAnimation(fig, draw_barchart, frames=range(g.day.values.min(), g.day.values.max()))\n",
    "# HTML(animator.to_jshtml())\n",
    "# # or use animator.to_html5_video() or animator.save() "
   ]
  },
  {
   "cell_type": "code",
   "execution_count": null,
   "id": "australian-container",
   "metadata": {
    "papermill": {
     "duration": 0.038139,
     "end_time": "2021-12-05T00:27:16.548724",
     "exception": false,
     "start_time": "2021-12-05T00:27:16.510585",
     "status": "completed"
    },
    "tags": []
   },
   "outputs": [],
   "source": []
  },
  {
   "cell_type": "code",
   "execution_count": null,
   "id": "mediterranean-pontiac",
   "metadata": {
    "papermill": {
     "duration": 0.038439,
     "end_time": "2021-12-05T00:27:16.624486",
     "exception": false,
     "start_time": "2021-12-05T00:27:16.586047",
     "status": "completed"
    },
    "tags": []
   },
   "outputs": [],
   "source": []
  },
  {
   "cell_type": "code",
   "execution_count": null,
   "id": "aging-legislature",
   "metadata": {
    "papermill": {
     "duration": 0.036579,
     "end_time": "2021-12-05T00:27:16.698786",
     "exception": false,
     "start_time": "2021-12-05T00:27:16.662207",
     "status": "completed"
    },
    "tags": []
   },
   "outputs": [],
   "source": []
  }
 ],
 "metadata": {
  "kernelspec": {
   "display_name": "Python 3",
   "language": "python",
   "name": "python3"
  },
  "language_info": {
   "codemirror_mode": {
    "name": "ipython",
    "version": 3
   },
   "file_extension": ".py",
   "mimetype": "text/x-python",
   "name": "python",
   "nbconvert_exporter": "python",
   "pygments_lexer": "ipython3",
   "version": "3.6.15"
  },
  "papermill": {
   "duration": 7.228073,
   "end_time": "2021-12-05T00:27:17.045175",
   "environment_variables": {},
   "exception": null,
   "input_path": "2020-03-21-covid19exp.ipynb",
   "output_path": "2020-03-21-covid19exp.ipynb",
   "parameters": {},
   "start_time": "2021-12-05T00:27:09.817102",
   "version": "2.0.0"
  }
 },
 "nbformat": 4,
 "nbformat_minor": 5
}