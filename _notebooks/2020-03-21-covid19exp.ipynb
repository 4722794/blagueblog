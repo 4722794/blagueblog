{
 "cells": [
  {
   "cell_type": "markdown",
   "id": "muslim-click",
   "metadata": {
    "papermill": {
     "duration": 0.035596,
     "end_time": "2021-05-03T00:24:49.986547",
     "exception": false,
     "start_time": "2021-05-03T00:24:49.950951",
     "status": "completed"
    },
    "tags": []
   },
   "source": [
    "# COVID-19 Case Race\n",
    "> A race chart to see rising cases around the world\n",
    "\n",
    "- author: Hargun Oberoi\n",
    "- image: images/covid-overview.png\n",
    "- hide: false\n",
    "- badges: false"
   ]
  },
  {
   "cell_type": "code",
   "execution_count": 1,
   "id": "proof-material",
   "metadata": {
    "execution": {
     "iopub.execute_input": "2021-05-03T00:24:50.057693Z",
     "iopub.status.busy": "2021-05-03T00:24:50.057160Z",
     "iopub.status.idle": "2021-05-03T00:24:50.344860Z",
     "shell.execute_reply": "2021-05-03T00:24:50.344384Z"
    },
    "papermill": {
     "duration": 0.326875,
     "end_time": "2021-05-03T00:24:50.344996",
     "exception": false,
     "start_time": "2021-05-03T00:24:50.018121",
     "status": "completed"
    },
    "tags": []
   },
   "outputs": [],
   "source": [
    "#hide\n",
    "import numpy as np\n",
    "import pandas as pd\n",
    "from jinja2 import Template\n",
    "from IPython.display import HTML"
   ]
  },
  {
   "cell_type": "code",
   "execution_count": 2,
   "id": "developed-terminology",
   "metadata": {
    "execution": {
     "iopub.execute_input": "2021-05-03T00:24:50.411319Z",
     "iopub.status.busy": "2021-05-03T00:24:50.410700Z",
     "iopub.status.idle": "2021-05-03T00:24:50.413123Z",
     "shell.execute_reply": "2021-05-03T00:24:50.412661Z"
    },
    "papermill": {
     "duration": 0.037311,
     "end_time": "2021-05-03T00:24:50.413226",
     "exception": false,
     "start_time": "2021-05-03T00:24:50.375915",
     "status": "completed"
    },
    "tags": []
   },
   "outputs": [],
   "source": [
    "#hide\n",
    "\n",
    "# FETCH\n",
    "base_url = 'https://raw.githubusercontent.com/pratapvardhan/notebooks/master/covid19/'\n",
    "paths = {\n",
    "    'mapping': base_url + 'mapping_countries.csv',\n",
    "    'overview': base_url + 'overview.tpl'\n",
    "}"
   ]
  },
  {
   "cell_type": "code",
   "execution_count": 3,
   "id": "dynamic-saver",
   "metadata": {
    "execution": {
     "iopub.execute_input": "2021-05-03T00:24:50.485281Z",
     "iopub.status.busy": "2021-05-03T00:24:50.484488Z",
     "iopub.status.idle": "2021-05-03T00:24:50.487647Z",
     "shell.execute_reply": "2021-05-03T00:24:50.488130Z"
    },
    "papermill": {
     "duration": 0.043129,
     "end_time": "2021-05-03T00:24:50.488240",
     "exception": false,
     "start_time": "2021-05-03T00:24:50.445111",
     "status": "completed"
    },
    "tags": []
   },
   "outputs": [
    {
     "data": {
      "text/plain": [
       "'https://raw.githubusercontent.com/pratapvardhan/notebooks/master/covid19/mapping_countries.csv'"
      ]
     },
     "execution_count": 3,
     "metadata": {},
     "output_type": "execute_result"
    }
   ],
   "source": [
    "#hide\n",
    "paths['mapping']"
   ]
  },
  {
   "cell_type": "code",
   "execution_count": 4,
   "id": "urban-software",
   "metadata": {
    "execution": {
     "iopub.execute_input": "2021-05-03T00:24:50.553032Z",
     "iopub.status.busy": "2021-05-03T00:24:50.552522Z",
     "iopub.status.idle": "2021-05-03T00:24:50.554844Z",
     "shell.execute_reply": "2021-05-03T00:24:50.554404Z"
    },
    "papermill": {
     "duration": 0.035825,
     "end_time": "2021-05-03T00:24:50.554942",
     "exception": false,
     "start_time": "2021-05-03T00:24:50.519117",
     "status": "completed"
    },
    "tags": []
   },
   "outputs": [],
   "source": [
    "#hide\n",
    "def get_mappings(url):\n",
    "    df = pd.read_csv(url)\n",
    "    return {\n",
    "        'df': df,\n",
    "        'replace.country': dict(df.dropna(subset=['Name']).set_index('Country')['Name']),\n",
    "        'map.continent': dict(df.set_index('Name')['Continent'])\n",
    "    }"
   ]
  },
  {
   "cell_type": "code",
   "execution_count": 5,
   "id": "intimate-machinery",
   "metadata": {
    "execution": {
     "iopub.execute_input": "2021-05-03T00:24:50.620101Z",
     "iopub.status.busy": "2021-05-03T00:24:50.619582Z",
     "iopub.status.idle": "2021-05-03T00:24:50.658480Z",
     "shell.execute_reply": "2021-05-03T00:24:50.658887Z"
    },
    "papermill": {
     "duration": 0.073384,
     "end_time": "2021-05-03T00:24:50.659002",
     "exception": false,
     "start_time": "2021-05-03T00:24:50.585618",
     "status": "completed"
    },
    "tags": []
   },
   "outputs": [],
   "source": [
    "#hide\n",
    "mapping = get_mappings(paths['mapping'])"
   ]
  },
  {
   "cell_type": "code",
   "execution_count": 6,
   "id": "certified-tactics",
   "metadata": {
    "execution": {
     "iopub.execute_input": "2021-05-03T00:24:50.726697Z",
     "iopub.status.busy": "2021-05-03T00:24:50.726181Z",
     "iopub.status.idle": "2021-05-03T00:24:50.728625Z",
     "shell.execute_reply": "2021-05-03T00:24:50.728208Z"
    },
    "papermill": {
     "duration": 0.036358,
     "end_time": "2021-05-03T00:24:50.728726",
     "exception": false,
     "start_time": "2021-05-03T00:24:50.692368",
     "status": "completed"
    },
    "tags": []
   },
   "outputs": [],
   "source": [
    "#hide\n",
    "def get_template(path):\n",
    "    from urllib.parse import urlparse\n",
    "    if bool(urlparse(path).netloc):\n",
    "        from urllib.request import urlopen\n",
    "        return urlopen(path).read().decode('utf8')\n",
    "    return open(path).read()"
   ]
  },
  {
   "cell_type": "code",
   "execution_count": 7,
   "id": "realistic-blast",
   "metadata": {
    "execution": {
     "iopub.execute_input": "2021-05-03T00:24:50.792790Z",
     "iopub.status.busy": "2021-05-03T00:24:50.792271Z",
     "iopub.status.idle": "2021-05-03T00:24:50.794044Z",
     "shell.execute_reply": "2021-05-03T00:24:50.794557Z"
    },
    "papermill": {
     "duration": 0.03593,
     "end_time": "2021-05-03T00:24:50.794666",
     "exception": false,
     "start_time": "2021-05-03T00:24:50.758736",
     "status": "completed"
    },
    "tags": []
   },
   "outputs": [],
   "source": [
    "#hide\n",
    "def get_frame(name):\n",
    "    url = (\n",
    "        'https://raw.githubusercontent.com/CSSEGISandData/COVID-19/master/csse_covid_19_data/'\n",
    "        f'csse_covid_19_time_series/time_series_covid19_{name}_global.csv')\n",
    "    df = pd.read_csv(url)\n",
    "    # rename countries\n",
    "    df['Country/Region'] = df['Country/Region'].replace(mapping['replace.country'])\n",
    "    return df"
   ]
  },
  {
   "cell_type": "code",
   "execution_count": 8,
   "id": "affiliated-characterization",
   "metadata": {
    "execution": {
     "iopub.execute_input": "2021-05-03T00:24:50.859430Z",
     "iopub.status.busy": "2021-05-03T00:24:50.858882Z",
     "iopub.status.idle": "2021-05-03T00:24:50.860827Z",
     "shell.execute_reply": "2021-05-03T00:24:50.860322Z"
    },
    "papermill": {
     "duration": 0.036552,
     "end_time": "2021-05-03T00:24:50.860926",
     "exception": false,
     "start_time": "2021-05-03T00:24:50.824374",
     "status": "completed"
    },
    "tags": []
   },
   "outputs": [],
   "source": [
    "#hide\n",
    "def get_dates(df):\n",
    "    dt_cols = df.columns[~df.columns.isin(['Province/State', 'Country/Region', 'Lat', 'Long'])]\n",
    "    LAST_DATE_I = -1\n",
    "    # sometimes last column may be empty, then go backwards\n",
    "    for i in range(-1, -len(dt_cols), -1):\n",
    "        if not df[dt_cols[i]].fillna(0).eq(0).all():\n",
    "            LAST_DATE_I = i\n",
    "            break\n",
    "    return LAST_DATE_I, dt_cols"
   ]
  },
  {
   "cell_type": "code",
   "execution_count": 9,
   "id": "recent-optimization",
   "metadata": {
    "execution": {
     "iopub.execute_input": "2021-05-03T00:24:50.924276Z",
     "iopub.status.busy": "2021-05-03T00:24:50.923743Z",
     "iopub.status.idle": "2021-05-03T00:24:51.246554Z",
     "shell.execute_reply": "2021-05-03T00:24:51.246068Z"
    },
    "papermill": {
     "duration": 0.35579,
     "end_time": "2021-05-03T00:24:51.246669",
     "exception": false,
     "start_time": "2021-05-03T00:24:50.890879",
     "status": "completed"
    },
    "tags": []
   },
   "outputs": [],
   "source": [
    "#hide\n",
    "COL_REGION = 'Country/Region'\n",
    "# Confirmed, Recovered, Deaths\n",
    "df = get_frame('confirmed')\n",
    "# dft_: timeseries, dfc_: today country agg\n",
    "dft_cases = df\n",
    "dft_deaths = get_frame('deaths')\n",
    "dft_recovered = get_frame('recovered')\n",
    "LAST_DATE_I, dt_cols = get_dates(df)"
   ]
  },
  {
   "cell_type": "code",
   "execution_count": 10,
   "id": "absolute-copper",
   "metadata": {
    "execution": {
     "iopub.execute_input": "2021-05-03T00:24:51.313717Z",
     "iopub.status.busy": "2021-05-03T00:24:51.313142Z",
     "iopub.status.idle": "2021-05-03T00:24:51.315669Z",
     "shell.execute_reply": "2021-05-03T00:24:51.315198Z"
    },
    "papermill": {
     "duration": 0.03738,
     "end_time": "2021-05-03T00:24:51.315769",
     "exception": false,
     "start_time": "2021-05-03T00:24:51.278389",
     "status": "completed"
    },
    "tags": []
   },
   "outputs": [],
   "source": [
    "#hide\n",
    "LAST_DATE_I, dt_cols = get_dates(df)\n",
    "dt_today =dt_cols[LAST_DATE_I]\n",
    "# dt_5day = dt_cols[LAST_DATE_I - 5]\n",
    "dt_yday = dt_cols[LAST_DATE_I - 1]"
   ]
  },
  {
   "cell_type": "code",
   "execution_count": 11,
   "id": "restricted-sheriff",
   "metadata": {
    "execution": {
     "iopub.execute_input": "2021-05-03T00:24:51.384687Z",
     "iopub.status.busy": "2021-05-03T00:24:51.384141Z",
     "iopub.status.idle": "2021-05-03T00:24:51.392328Z",
     "shell.execute_reply": "2021-05-03T00:24:51.392823Z"
    },
    "papermill": {
     "duration": 0.046241,
     "end_time": "2021-05-03T00:24:51.392933",
     "exception": false,
     "start_time": "2021-05-03T00:24:51.346692",
     "status": "completed"
    },
    "tags": []
   },
   "outputs": [],
   "source": [
    "#hide\n",
    "dfc_cases = dft_cases.groupby(COL_REGION)[dt_today].sum()\n",
    "dfc_deaths = dft_deaths.groupby(COL_REGION)[dt_today].sum()\n",
    "# dfp_cases = dft_cases.groupby(COL_REGION)[dt_5day].sum()\n",
    "# dfp_deaths = dft_deaths.groupby(COL_REGION)[dt_5day].sum()\n",
    "dfp_cases = dft_cases.groupby(COL_REGION)[dt_yday].sum()\n",
    "dfp_deaths = dft_deaths.groupby(COL_REGION)[dt_yday].sum()"
   ]
  },
  {
   "cell_type": "code",
   "execution_count": 12,
   "id": "deluxe-hepatitis",
   "metadata": {
    "execution": {
     "iopub.execute_input": "2021-05-03T00:24:51.456811Z",
     "iopub.status.busy": "2021-05-03T00:24:51.456296Z",
     "iopub.status.idle": "2021-05-03T00:24:51.460565Z",
     "shell.execute_reply": "2021-05-03T00:24:51.461058Z"
    },
    "papermill": {
     "duration": 0.038524,
     "end_time": "2021-05-03T00:24:51.461167",
     "exception": false,
     "start_time": "2021-05-03T00:24:51.422643",
     "status": "completed"
    },
    "tags": []
   },
   "outputs": [],
   "source": [
    "#hide\n",
    "df_table = (pd.DataFrame(dict(Cases = dfc_cases, Deaths = dfc_deaths, PCases = dfp_cases, PDeaths = dfp_deaths))\n",
    "            .sort_values(by = ['Cases','Deaths'], ascending = [False, False])\n",
    "            .reset_index())"
   ]
  },
  {
   "cell_type": "code",
   "execution_count": 13,
   "id": "educational-chancellor",
   "metadata": {
    "execution": {
     "iopub.execute_input": "2021-05-03T00:24:51.538524Z",
     "iopub.status.busy": "2021-05-03T00:24:51.537995Z",
     "iopub.status.idle": "2021-05-03T00:24:51.545120Z",
     "shell.execute_reply": "2021-05-03T00:24:51.545618Z"
    },
    "papermill": {
     "duration": 0.0539,
     "end_time": "2021-05-03T00:24:51.545729",
     "exception": false,
     "start_time": "2021-05-03T00:24:51.491829",
     "status": "completed"
    },
    "tags": []
   },
   "outputs": [
    {
     "data": {
      "text/html": [
       "<div>\n",
       "<style scoped>\n",
       "    .dataframe tbody tr th:only-of-type {\n",
       "        vertical-align: middle;\n",
       "    }\n",
       "\n",
       "    .dataframe tbody tr th {\n",
       "        vertical-align: top;\n",
       "    }\n",
       "\n",
       "    .dataframe thead th {\n",
       "        text-align: right;\n",
       "    }\n",
       "</style>\n",
       "<table border=\"1\" class=\"dataframe\">\n",
       "  <thead>\n",
       "    <tr style=\"text-align: right;\">\n",
       "      <th></th>\n",
       "      <th>Country/Region</th>\n",
       "      <th>Cases</th>\n",
       "      <th>Deaths</th>\n",
       "      <th>PCases</th>\n",
       "      <th>PDeaths</th>\n",
       "      <th>Cases (+)</th>\n",
       "      <th>Deaths (+)</th>\n",
       "      <th>Fatality Rate</th>\n",
       "      <th>Continent</th>\n",
       "    </tr>\n",
       "  </thead>\n",
       "  <tbody>\n",
       "    <tr>\n",
       "      <th>0</th>\n",
       "      <td>US</td>\n",
       "      <td>32392274</td>\n",
       "      <td>576722</td>\n",
       "      <td>32346971</td>\n",
       "      <td>576232</td>\n",
       "      <td>45303</td>\n",
       "      <td>490</td>\n",
       "      <td>1.78</td>\n",
       "      <td>North America</td>\n",
       "    </tr>\n",
       "    <tr>\n",
       "      <th>1</th>\n",
       "      <td>India</td>\n",
       "      <td>19557457</td>\n",
       "      <td>215542</td>\n",
       "      <td>19164969</td>\n",
       "      <td>211853</td>\n",
       "      <td>392488</td>\n",
       "      <td>3689</td>\n",
       "      <td>1.10</td>\n",
       "      <td>Asia</td>\n",
       "    </tr>\n",
       "    <tr>\n",
       "      <th>2</th>\n",
       "      <td>Brazil</td>\n",
       "      <td>14725975</td>\n",
       "      <td>406437</td>\n",
       "      <td>14659011</td>\n",
       "      <td>403781</td>\n",
       "      <td>66964</td>\n",
       "      <td>2656</td>\n",
       "      <td>2.76</td>\n",
       "      <td>South America</td>\n",
       "    </tr>\n",
       "    <tr>\n",
       "      <th>3</th>\n",
       "      <td>France</td>\n",
       "      <td>5703505</td>\n",
       "      <td>104867</td>\n",
       "      <td>5677835</td>\n",
       "      <td>104675</td>\n",
       "      <td>25670</td>\n",
       "      <td>192</td>\n",
       "      <td>1.84</td>\n",
       "      <td>Europe</td>\n",
       "    </tr>\n",
       "    <tr>\n",
       "      <th>4</th>\n",
       "      <td>Turkey</td>\n",
       "      <td>4849408</td>\n",
       "      <td>40504</td>\n",
       "      <td>4820591</td>\n",
       "      <td>40131</td>\n",
       "      <td>28817</td>\n",
       "      <td>373</td>\n",
       "      <td>0.84</td>\n",
       "      <td>Asia</td>\n",
       "    </tr>\n",
       "  </tbody>\n",
       "</table>\n",
       "</div>"
      ],
      "text/plain": [
       "  Country/Region     Cases  Deaths    PCases  PDeaths  Cases (+)  Deaths (+)  \\\n",
       "0             US  32392274  576722  32346971   576232      45303         490   \n",
       "1          India  19557457  215542  19164969   211853     392488        3689   \n",
       "2         Brazil  14725975  406437  14659011   403781      66964        2656   \n",
       "3         France   5703505  104867   5677835   104675      25670         192   \n",
       "4         Turkey   4849408   40504   4820591    40131      28817         373   \n",
       "\n",
       "   Fatality Rate      Continent  \n",
       "0           1.78  North America  \n",
       "1           1.10           Asia  \n",
       "2           2.76  South America  \n",
       "3           1.84         Europe  \n",
       "4           0.84           Asia  "
      ]
     },
     "execution_count": 13,
     "metadata": {},
     "output_type": "execute_result"
    }
   ],
   "source": [
    "#hide\n",
    "for c in 'Cases, Deaths'.split(', '):\n",
    "    df_table[f'{c} (+)'] = (df_table[c] - df_table[f'P{c}']).clip(0)\n",
    "    #Clip ça veut dire, les chiffres negatif sont interdit\n",
    "df_table['Fatality Rate'] = (100* df_table['Deaths']/ df_table['Cases']).round(2)\n",
    "df_table['Continent'] = df_table['Country/Region'].map(mapping['map.continent'])\n",
    "df_table.head(5)"
   ]
  },
  {
   "cell_type": "code",
   "execution_count": 14,
   "id": "aboriginal-bulgaria",
   "metadata": {
    "execution": {
     "iopub.execute_input": "2021-05-03T00:24:51.612221Z",
     "iopub.status.busy": "2021-05-03T00:24:51.611615Z",
     "iopub.status.idle": "2021-05-03T00:24:51.613871Z",
     "shell.execute_reply": "2021-05-03T00:24:51.614465Z"
    },
    "papermill": {
     "duration": 0.038861,
     "end_time": "2021-05-03T00:24:51.614575",
     "exception": false,
     "start_time": "2021-05-03T00:24:51.575714",
     "status": "completed"
    },
    "tags": []
   },
   "outputs": [],
   "source": [
    "#hide\n",
    "#delete problematic countries from table\n",
    "df_table = df_table[~df_table['Country/Region'].isin(['Cape Verde', 'Cruise Ship', 'Kosovo'])]"
   ]
  },
  {
   "cell_type": "code",
   "execution_count": 15,
   "id": "fantastic-effect",
   "metadata": {
    "execution": {
     "iopub.execute_input": "2021-05-03T00:24:51.691084Z",
     "iopub.status.busy": "2021-05-03T00:24:51.690541Z",
     "iopub.status.idle": "2021-05-03T00:24:51.710381Z",
     "shell.execute_reply": "2021-05-03T00:24:51.710883Z"
    },
    "papermill": {
     "duration": 0.06475,
     "end_time": "2021-05-03T00:24:51.710995",
     "exception": false,
     "start_time": "2021-05-03T00:24:51.646245",
     "status": "completed"
    },
    "tags": []
   },
   "outputs": [
    {
     "data": {
      "text/html": [
       "<div>\n",
       "<style scoped>\n",
       "    .dataframe tbody tr th:only-of-type {\n",
       "        vertical-align: middle;\n",
       "    }\n",
       "\n",
       "    .dataframe tbody tr th {\n",
       "        vertical-align: top;\n",
       "    }\n",
       "\n",
       "    .dataframe thead th {\n",
       "        text-align: right;\n",
       "    }\n",
       "</style>\n",
       "<table border=\"1\" class=\"dataframe\">\n",
       "  <thead>\n",
       "    <tr style=\"text-align: right;\">\n",
       "      <th></th>\n",
       "      <th>Country/Region</th>\n",
       "      <th>Cases</th>\n",
       "      <th>Deaths</th>\n",
       "      <th>PCases</th>\n",
       "      <th>PDeaths</th>\n",
       "      <th>Cases (+)</th>\n",
       "      <th>Deaths (+)</th>\n",
       "      <th>Fatality Rate</th>\n",
       "      <th>Continent</th>\n",
       "    </tr>\n",
       "  </thead>\n",
       "  <tbody>\n",
       "    <tr>\n",
       "      <th>0</th>\n",
       "      <td>US</td>\n",
       "      <td>32392274</td>\n",
       "      <td>576722</td>\n",
       "      <td>32346971</td>\n",
       "      <td>576232</td>\n",
       "      <td>45303</td>\n",
       "      <td>490</td>\n",
       "      <td>1.8</td>\n",
       "      <td>North America</td>\n",
       "    </tr>\n",
       "    <tr>\n",
       "      <th>1</th>\n",
       "      <td>India</td>\n",
       "      <td>19557457</td>\n",
       "      <td>215542</td>\n",
       "      <td>19164969</td>\n",
       "      <td>211853</td>\n",
       "      <td>392488</td>\n",
       "      <td>3689</td>\n",
       "      <td>1.1</td>\n",
       "      <td>Asia</td>\n",
       "    </tr>\n",
       "    <tr>\n",
       "      <th>2</th>\n",
       "      <td>Brazil</td>\n",
       "      <td>14725975</td>\n",
       "      <td>406437</td>\n",
       "      <td>14659011</td>\n",
       "      <td>403781</td>\n",
       "      <td>66964</td>\n",
       "      <td>2656</td>\n",
       "      <td>2.8</td>\n",
       "      <td>South America</td>\n",
       "    </tr>\n",
       "    <tr>\n",
       "      <th>3</th>\n",
       "      <td>France</td>\n",
       "      <td>5703505</td>\n",
       "      <td>104867</td>\n",
       "      <td>5677835</td>\n",
       "      <td>104675</td>\n",
       "      <td>25670</td>\n",
       "      <td>192</td>\n",
       "      <td>1.8</td>\n",
       "      <td>Europe</td>\n",
       "    </tr>\n",
       "    <tr>\n",
       "      <th>4</th>\n",
       "      <td>Turkey</td>\n",
       "      <td>4849408</td>\n",
       "      <td>40504</td>\n",
       "      <td>4820591</td>\n",
       "      <td>40131</td>\n",
       "      <td>28817</td>\n",
       "      <td>373</td>\n",
       "      <td>0.8</td>\n",
       "      <td>Asia</td>\n",
       "    </tr>\n",
       "  </tbody>\n",
       "</table>\n",
       "</div>"
      ],
      "text/plain": [
       "  Country/Region     Cases  Deaths    PCases  PDeaths  Cases (+)  Deaths (+)  \\\n",
       "0             US  32392274  576722  32346971   576232      45303         490   \n",
       "1          India  19557457  215542  19164969   211853     392488        3689   \n",
       "2         Brazil  14725975  406437  14659011   403781      66964        2656   \n",
       "3         France   5703505  104867   5677835   104675      25670         192   \n",
       "4         Turkey   4849408   40504   4820591    40131      28817         373   \n",
       "\n",
       "   Fatality Rate      Continent  \n",
       "0            1.8  North America  \n",
       "1            1.1           Asia  \n",
       "2            2.8  South America  \n",
       "3            1.8         Europe  \n",
       "4            0.8           Asia  "
      ]
     },
     "execution_count": 15,
     "metadata": {},
     "output_type": "execute_result"
    }
   ],
   "source": [
    "#hide\n",
    "df_table = (pd.DataFrame(dict(Cases=dfc_cases, Deaths=dfc_deaths, PCases=dfp_cases, PDeaths=dfp_deaths))\n",
    "             .sort_values(by=['Cases', 'Deaths'], ascending=[False, False])\n",
    "             .reset_index())\n",
    "df_table.rename(columns={'index': 'Country/Region'}, inplace=True)\n",
    "for c in 'Cases, Deaths'.split(', '):\n",
    "    df_table[f'{c} (+)'] = (df_table[c] - df_table[f'P{c}']).clip(0)  # DATA BUG\n",
    "df_table['Fatality Rate'] = (100 * df_table['Deaths'] / df_table['Cases']).round(1)\n",
    "df_table['Continent'] = df_table['Country/Region'].map(mapping['map.continent'])\n",
    "df_table.head(5)"
   ]
  },
  {
   "cell_type": "code",
   "execution_count": 16,
   "id": "fewer-occasion",
   "metadata": {
    "execution": {
     "iopub.execute_input": "2021-05-03T00:24:51.776974Z",
     "iopub.status.busy": "2021-05-03T00:24:51.776435Z",
     "iopub.status.idle": "2021-05-03T00:24:51.779573Z",
     "shell.execute_reply": "2021-05-03T00:24:51.780254Z"
    },
    "papermill": {
     "duration": 0.041796,
     "end_time": "2021-05-03T00:24:51.783760",
     "exception": false,
     "start_time": "2021-05-03T00:24:51.741964",
     "status": "completed"
    },
    "tags": []
   },
   "outputs": [],
   "source": [
    "#hide\n",
    "#delete problematic countries from table\n",
    "df_table = df_table[~df_table['Country/Region'].isin(['Cape Verde', 'Cruise Ship', 'Kosovo'])]"
   ]
  },
  {
   "cell_type": "code",
   "execution_count": 17,
   "id": "related-center",
   "metadata": {
    "execution": {
     "iopub.execute_input": "2021-05-03T00:24:51.868978Z",
     "iopub.status.busy": "2021-05-03T00:24:51.868411Z",
     "iopub.status.idle": "2021-05-03T00:24:51.870470Z",
     "shell.execute_reply": "2021-05-03T00:24:51.870985Z"
    },
    "papermill": {
     "duration": 0.051248,
     "end_time": "2021-05-03T00:24:51.871095",
     "exception": false,
     "start_time": "2021-05-03T00:24:51.819847",
     "status": "completed"
    },
    "tags": []
   },
   "outputs": [],
   "source": [
    "#hide\n",
    "metrics = [df_table.columns[index] for index in [1,2,5,6]]\n",
    "# s_china = df_table[df_table['Country/Region'].eq('China')][metrics].sum().add_prefix('China ')\n",
    "s_us = df_table[df_table['Country/Region'].eq('US')][metrics].sum().add_prefix('US ')\n",
    "s_eu = df_table[df_table['Continent'].eq('Europe')][metrics].sum().add_prefix('EU ')\n",
    "s_ind = df_table[df_table['Country/Region'].eq('India')][metrics].sum().add_prefix('India ')\n",
    "summary = {'updated': pd.to_datetime(dt_today), 'since': pd.to_datetime(dt_yday)}\n",
    "summary = {'updated': pd.to_datetime(dt_today), 'since': pd.to_datetime(dt_yday)}\n",
    "summary = {**summary, **df_table[metrics].sum(), **s_ind, **s_us, **s_eu}"
   ]
  },
  {
   "cell_type": "code",
   "execution_count": 18,
   "id": "engaging-syndrome",
   "metadata": {
    "execution": {
     "iopub.execute_input": "2021-05-03T00:24:51.937566Z",
     "iopub.status.busy": "2021-05-03T00:24:51.937057Z",
     "iopub.status.idle": "2021-05-03T00:24:51.947276Z",
     "shell.execute_reply": "2021-05-03T00:24:51.947773Z"
    },
    "papermill": {
     "duration": 0.045756,
     "end_time": "2021-05-03T00:24:51.947883",
     "exception": false,
     "start_time": "2021-05-03T00:24:51.902127",
     "status": "completed"
    },
    "tags": []
   },
   "outputs": [],
   "source": [
    "#hide\n",
    "dft_ct_new_cases = dft_cases.groupby(COL_REGION)[dt_cols].sum().diff(axis=1).fillna(0).astype(int)"
   ]
  },
  {
   "cell_type": "code",
   "execution_count": 19,
   "id": "neutral-assignment",
   "metadata": {
    "execution": {
     "iopub.execute_input": "2021-05-03T00:24:52.013426Z",
     "iopub.status.busy": "2021-05-03T00:24:52.012912Z",
     "iopub.status.idle": "2021-05-03T00:24:52.015072Z",
     "shell.execute_reply": "2021-05-03T00:24:52.015494Z"
    },
    "papermill": {
     "duration": 0.03767,
     "end_time": "2021-05-03T00:24:52.015606",
     "exception": false,
     "start_time": "2021-05-03T00:24:51.977936",
     "status": "completed"
    },
    "tags": []
   },
   "outputs": [],
   "source": [
    "#hide\n",
    "everydaycases = dft_ct_new_cases.cumsum(axis=1)"
   ]
  },
  {
   "cell_type": "code",
   "execution_count": 20,
   "id": "parliamentary-calgary",
   "metadata": {
    "execution": {
     "iopub.execute_input": "2021-05-03T00:24:52.083977Z",
     "iopub.status.busy": "2021-05-03T00:24:52.083460Z",
     "iopub.status.idle": "2021-05-03T00:24:52.543132Z",
     "shell.execute_reply": "2021-05-03T00:24:52.542624Z"
    },
    "papermill": {
     "duration": 0.495562,
     "end_time": "2021-05-03T00:24:52.543256",
     "exception": false,
     "start_time": "2021-05-03T00:24:52.047694",
     "status": "completed"
    },
    "tags": []
   },
   "outputs": [],
   "source": [
    "#hide\n",
    "import pandas as pd\n",
    "import matplotlib.pyplot as plt\n",
    "import matplotlib.ticker as ticker\n",
    "import matplotlib.animation as animation\n",
    "from IPython.display import HTML"
   ]
  },
  {
   "cell_type": "code",
   "execution_count": 21,
   "id": "lasting-extraction",
   "metadata": {
    "execution": {
     "iopub.execute_input": "2021-05-03T00:24:52.724505Z",
     "iopub.status.busy": "2021-05-03T00:24:52.723731Z",
     "iopub.status.idle": "2021-05-03T00:24:52.732941Z",
     "shell.execute_reply": "2021-05-03T00:24:52.732502Z"
    },
    "papermill": {
     "duration": 0.158074,
     "end_time": "2021-05-03T00:24:52.733043",
     "exception": false,
     "start_time": "2021-05-03T00:24:52.574969",
     "status": "completed"
    },
    "tags": []
   },
   "outputs": [],
   "source": [
    "#hide\n",
    "t = everydaycases.stack()"
   ]
  },
  {
   "cell_type": "code",
   "execution_count": 22,
   "id": "premier-sleeve",
   "metadata": {
    "execution": {
     "iopub.execute_input": "2021-05-03T00:24:53.088463Z",
     "iopub.status.busy": "2021-05-03T00:24:53.087937Z",
     "iopub.status.idle": "2021-05-03T00:24:53.094659Z",
     "shell.execute_reply": "2021-05-03T00:24:53.095225Z"
    },
    "papermill": {
     "duration": 0.120898,
     "end_time": "2021-05-03T00:24:53.095349",
     "exception": false,
     "start_time": "2021-05-03T00:24:52.974451",
     "status": "completed"
    },
    "tags": []
   },
   "outputs": [],
   "source": [
    "#hide\n",
    "g = t.reset_index(['Country/Region'])"
   ]
  },
  {
   "cell_type": "code",
   "execution_count": 23,
   "id": "distributed-pittsburgh",
   "metadata": {
    "execution": {
     "iopub.execute_input": "2021-05-03T00:24:53.326972Z",
     "iopub.status.busy": "2021-05-03T00:24:53.326453Z",
     "iopub.status.idle": "2021-05-03T00:24:53.328591Z",
     "shell.execute_reply": "2021-05-03T00:24:53.328085Z"
    },
    "papermill": {
     "duration": 0.051355,
     "end_time": "2021-05-03T00:24:53.328697",
     "exception": false,
     "start_time": "2021-05-03T00:24:53.277342",
     "status": "completed"
    },
    "tags": []
   },
   "outputs": [],
   "source": [
    "#hide\n",
    "g.index.name = 'date'"
   ]
  },
  {
   "cell_type": "code",
   "execution_count": 24,
   "id": "naked-donor",
   "metadata": {
    "execution": {
     "iopub.execute_input": "2021-05-03T00:24:53.395440Z",
     "iopub.status.busy": "2021-05-03T00:24:53.394898Z",
     "iopub.status.idle": "2021-05-03T00:24:53.396553Z",
     "shell.execute_reply": "2021-05-03T00:24:53.397044Z"
    },
    "papermill": {
     "duration": 0.035225,
     "end_time": "2021-05-03T00:24:53.397152",
     "exception": false,
     "start_time": "2021-05-03T00:24:53.361927",
     "status": "completed"
    },
    "tags": []
   },
   "outputs": [],
   "source": [
    "# #hide\n",
    "# g = g.reset_index(['date'])"
   ]
  },
  {
   "cell_type": "code",
   "execution_count": 25,
   "id": "incomplete-mustang",
   "metadata": {
    "execution": {
     "iopub.execute_input": "2021-05-03T00:24:53.462001Z",
     "iopub.status.busy": "2021-05-03T00:24:53.461490Z",
     "iopub.status.idle": "2021-05-03T00:24:53.463429Z",
     "shell.execute_reply": "2021-05-03T00:24:53.463924Z"
    },
    "papermill": {
     "duration": 0.035482,
     "end_time": "2021-05-03T00:24:53.464033",
     "exception": false,
     "start_time": "2021-05-03T00:24:53.428551",
     "status": "completed"
    },
    "tags": []
   },
   "outputs": [],
   "source": [
    "#hide\n",
    "# g.head()"
   ]
  },
  {
   "cell_type": "code",
   "execution_count": 26,
   "id": "specific-kruger",
   "metadata": {
    "execution": {
     "iopub.execute_input": "2021-05-03T00:24:53.527936Z",
     "iopub.status.busy": "2021-05-03T00:24:53.527424Z",
     "iopub.status.idle": "2021-05-03T00:24:53.529545Z",
     "shell.execute_reply": "2021-05-03T00:24:53.529106Z"
    },
    "papermill": {
     "duration": 0.034953,
     "end_time": "2021-05-03T00:24:53.529643",
     "exception": false,
     "start_time": "2021-05-03T00:24:53.494690",
     "status": "completed"
    },
    "tags": []
   },
   "outputs": [],
   "source": [
    "#hide\n",
    "# g.columns = ['date','country','cases']"
   ]
  },
  {
   "cell_type": "code",
   "execution_count": 27,
   "id": "tender-conversion",
   "metadata": {
    "execution": {
     "iopub.execute_input": "2021-05-03T00:24:53.595012Z",
     "iopub.status.busy": "2021-05-03T00:24:53.594255Z",
     "iopub.status.idle": "2021-05-03T00:24:53.597626Z",
     "shell.execute_reply": "2021-05-03T00:24:53.598134Z"
    },
    "papermill": {
     "duration": 0.038048,
     "end_time": "2021-05-03T00:24:53.598245",
     "exception": false,
     "start_time": "2021-05-03T00:24:53.560197",
     "status": "completed"
    },
    "tags": []
   },
   "outputs": [],
   "source": [
    "#hide\n",
    "# g['continent'] = g.country"
   ]
  },
  {
   "cell_type": "code",
   "execution_count": 28,
   "id": "substantial-wilderness",
   "metadata": {
    "execution": {
     "iopub.execute_input": "2021-05-03T00:24:53.662866Z",
     "iopub.status.busy": "2021-05-03T00:24:53.662347Z",
     "iopub.status.idle": "2021-05-03T00:24:53.664189Z",
     "shell.execute_reply": "2021-05-03T00:24:53.664587Z"
    },
    "papermill": {
     "duration": 0.035685,
     "end_time": "2021-05-03T00:24:53.664698",
     "exception": false,
     "start_time": "2021-05-03T00:24:53.629013",
     "status": "completed"
    },
    "tags": []
   },
   "outputs": [],
   "source": [
    "#hide\n",
    "# cols = list(g.columns.values)"
   ]
  },
  {
   "cell_type": "code",
   "execution_count": 29,
   "id": "solved-farming",
   "metadata": {
    "execution": {
     "iopub.execute_input": "2021-05-03T00:24:53.728313Z",
     "iopub.status.busy": "2021-05-03T00:24:53.727806Z",
     "iopub.status.idle": "2021-05-03T00:24:53.729665Z",
     "shell.execute_reply": "2021-05-03T00:24:53.730054Z"
    },
    "papermill": {
     "duration": 0.034833,
     "end_time": "2021-05-03T00:24:53.730168",
     "exception": false,
     "start_time": "2021-05-03T00:24:53.695335",
     "status": "completed"
    },
    "tags": []
   },
   "outputs": [],
   "source": [
    "#hide\n",
    "# cols.insert(0, cols.pop())"
   ]
  },
  {
   "cell_type": "code",
   "execution_count": 30,
   "id": "executed-adoption",
   "metadata": {
    "execution": {
     "iopub.execute_input": "2021-05-03T00:24:53.794107Z",
     "iopub.status.busy": "2021-05-03T00:24:53.793569Z",
     "iopub.status.idle": "2021-05-03T00:24:53.795890Z",
     "shell.execute_reply": "2021-05-03T00:24:53.795465Z"
    },
    "papermill": {
     "duration": 0.035295,
     "end_time": "2021-05-03T00:24:53.795985",
     "exception": false,
     "start_time": "2021-05-03T00:24:53.760690",
     "status": "completed"
    },
    "tags": []
   },
   "outputs": [],
   "source": [
    "#hide\n",
    "# g = g[cols]"
   ]
  },
  {
   "cell_type": "code",
   "execution_count": 31,
   "id": "subject-dublin",
   "metadata": {
    "execution": {
     "iopub.execute_input": "2021-05-03T00:24:53.860639Z",
     "iopub.status.busy": "2021-05-03T00:24:53.860118Z",
     "iopub.status.idle": "2021-05-03T00:24:53.862302Z",
     "shell.execute_reply": "2021-05-03T00:24:53.861865Z"
    },
    "papermill": {
     "duration": 0.034406,
     "end_time": "2021-05-03T00:24:53.862404",
     "exception": false,
     "start_time": "2021-05-03T00:24:53.827998",
     "status": "completed"
    },
    "tags": []
   },
   "outputs": [],
   "source": [
    "#hide\n",
    "# g['continent'] = g['continent'].map(mapping['map.continent'])"
   ]
  },
  {
   "cell_type": "code",
   "execution_count": 32,
   "id": "freelance-scout",
   "metadata": {
    "execution": {
     "iopub.execute_input": "2021-05-03T00:24:53.926608Z",
     "iopub.status.busy": "2021-05-03T00:24:53.926095Z",
     "iopub.status.idle": "2021-05-03T00:24:53.928452Z",
     "shell.execute_reply": "2021-05-03T00:24:53.927902Z"
    },
    "papermill": {
     "duration": 0.035817,
     "end_time": "2021-05-03T00:24:53.928552",
     "exception": false,
     "start_time": "2021-05-03T00:24:53.892735",
     "status": "completed"
    },
    "tags": []
   },
   "outputs": [],
   "source": [
    "#hide\n",
    "# g.head()"
   ]
  },
  {
   "cell_type": "code",
   "execution_count": 33,
   "id": "limited-engine",
   "metadata": {
    "execution": {
     "iopub.execute_input": "2021-05-03T00:24:53.992529Z",
     "iopub.status.busy": "2021-05-03T00:24:53.991916Z",
     "iopub.status.idle": "2021-05-03T00:24:53.994689Z",
     "shell.execute_reply": "2021-05-03T00:24:53.995236Z"
    },
    "papermill": {
     "duration": 0.036669,
     "end_time": "2021-05-03T00:24:53.995369",
     "exception": false,
     "start_time": "2021-05-03T00:24:53.958700",
     "status": "completed"
    },
    "tags": []
   },
   "outputs": [],
   "source": [
    "# hide\n",
    "# g['date'] = g['date'].astype('datetime64[ns]')"
   ]
  },
  {
   "cell_type": "code",
   "execution_count": 34,
   "id": "sophisticated-supervisor",
   "metadata": {
    "execution": {
     "iopub.execute_input": "2021-05-03T00:24:54.059970Z",
     "iopub.status.busy": "2021-05-03T00:24:54.059171Z",
     "iopub.status.idle": "2021-05-03T00:24:54.061636Z",
     "shell.execute_reply": "2021-05-03T00:24:54.062283Z"
    },
    "papermill": {
     "duration": 0.036138,
     "end_time": "2021-05-03T00:24:54.062424",
     "exception": false,
     "start_time": "2021-05-03T00:24:54.026286",
     "status": "completed"
    },
    "tags": []
   },
   "outputs": [],
   "source": [
    "#hide\n",
    "# g['date'] = g.date.dt.dayofyear"
   ]
  },
  {
   "cell_type": "code",
   "execution_count": 35,
   "id": "inside-dubai",
   "metadata": {
    "execution": {
     "iopub.execute_input": "2021-05-03T00:24:54.125928Z",
     "iopub.status.busy": "2021-05-03T00:24:54.125417Z",
     "iopub.status.idle": "2021-05-03T00:24:54.127379Z",
     "shell.execute_reply": "2021-05-03T00:24:54.127768Z"
    },
    "papermill": {
     "duration": 0.035124,
     "end_time": "2021-05-03T00:24:54.127903",
     "exception": false,
     "start_time": "2021-05-03T00:24:54.092779",
     "status": "completed"
    },
    "tags": []
   },
   "outputs": [],
   "source": [
    "#hide\n",
    "# g = g.rename(columns= {'continent':'group','country':'name','cases':'value'})"
   ]
  },
  {
   "cell_type": "code",
   "execution_count": 36,
   "id": "fleet-motorcycle",
   "metadata": {
    "execution": {
     "iopub.execute_input": "2021-05-03T00:24:54.195612Z",
     "iopub.status.busy": "2021-05-03T00:24:54.195012Z",
     "iopub.status.idle": "2021-05-03T00:24:54.197118Z",
     "shell.execute_reply": "2021-05-03T00:24:54.196694Z"
    },
    "papermill": {
     "duration": 0.036666,
     "end_time": "2021-05-03T00:24:54.197213",
     "exception": false,
     "start_time": "2021-05-03T00:24:54.160547",
     "status": "completed"
    },
    "tags": []
   },
   "outputs": [],
   "source": [
    "#hide\n",
    "# cols = ['name','group','day','value']"
   ]
  },
  {
   "cell_type": "code",
   "execution_count": 37,
   "id": "continued-sleeping",
   "metadata": {
    "execution": {
     "iopub.execute_input": "2021-05-03T00:24:54.262939Z",
     "iopub.status.busy": "2021-05-03T00:24:54.262416Z",
     "iopub.status.idle": "2021-05-03T00:24:54.264552Z",
     "shell.execute_reply": "2021-05-03T00:24:54.264040Z"
    },
    "papermill": {
     "duration": 0.036012,
     "end_time": "2021-05-03T00:24:54.264653",
     "exception": false,
     "start_time": "2021-05-03T00:24:54.228641",
     "status": "completed"
    },
    "tags": []
   },
   "outputs": [],
   "source": [
    "#hide\n",
    "# g.rename(columns= {'date':'day'},inplace = True)"
   ]
  },
  {
   "cell_type": "code",
   "execution_count": 38,
   "id": "major-fight",
   "metadata": {
    "execution": {
     "iopub.execute_input": "2021-05-03T00:24:54.329108Z",
     "iopub.status.busy": "2021-05-03T00:24:54.328592Z",
     "iopub.status.idle": "2021-05-03T00:24:54.330780Z",
     "shell.execute_reply": "2021-05-03T00:24:54.330341Z"
    },
    "papermill": {
     "duration": 0.035407,
     "end_time": "2021-05-03T00:24:54.330879",
     "exception": false,
     "start_time": "2021-05-03T00:24:54.295472",
     "status": "completed"
    },
    "tags": []
   },
   "outputs": [],
   "source": [
    "#hide\n",
    "# g = g[cols]"
   ]
  },
  {
   "cell_type": "code",
   "execution_count": 39,
   "id": "structured-mobile",
   "metadata": {
    "execution": {
     "iopub.execute_input": "2021-05-03T00:24:54.396239Z",
     "iopub.status.busy": "2021-05-03T00:24:54.395704Z",
     "iopub.status.idle": "2021-05-03T00:24:54.397712Z",
     "shell.execute_reply": "2021-05-03T00:24:54.397283Z"
    },
    "papermill": {
     "duration": 0.035785,
     "end_time": "2021-05-03T00:24:54.397810",
     "exception": false,
     "start_time": "2021-05-03T00:24:54.362025",
     "status": "completed"
    },
    "tags": []
   },
   "outputs": [],
   "source": [
    "# #hide\n",
    "# g = g[g.group.notna()]"
   ]
  },
  {
   "cell_type": "code",
   "execution_count": 40,
   "id": "determined-closing",
   "metadata": {
    "execution": {
     "iopub.execute_input": "2021-05-03T00:24:54.461408Z",
     "iopub.status.busy": "2021-05-03T00:24:54.460888Z",
     "iopub.status.idle": "2021-05-03T00:24:54.463534Z",
     "shell.execute_reply": "2021-05-03T00:24:54.462758Z"
    },
    "papermill": {
     "duration": 0.035158,
     "end_time": "2021-05-03T00:24:54.463639",
     "exception": false,
     "start_time": "2021-05-03T00:24:54.428481",
     "status": "completed"
    },
    "tags": []
   },
   "outputs": [],
   "source": [
    "# #hide\n",
    "# colors = dict(zip(\n",
    "#     [\"Oceania\", \"Europe\", \"Asia\", \"South America\", \"Middle East\", \"North America\", \"Africa\"],\n",
    "#     [\"#adb0ff\", \"#ffb3ff\", \"#90d595\", \"#e48381\", \"#aafbff\", \"#f7bb5f\", \"#eafb50\"]\n",
    "# ))\n",
    "# group_lk = g.set_index('name')['group'].to_dict()"
   ]
  },
  {
   "cell_type": "code",
   "execution_count": null,
   "id": "gross-drinking",
   "metadata": {
    "papermill": {
     "duration": 0.030854,
     "end_time": "2021-05-03T00:24:54.524979",
     "exception": false,
     "start_time": "2021-05-03T00:24:54.494125",
     "status": "completed"
    },
    "tags": []
   },
   "outputs": [],
   "source": []
  },
  {
   "cell_type": "code",
   "execution_count": 41,
   "id": "subject-macintosh",
   "metadata": {
    "execution": {
     "iopub.execute_input": "2021-05-03T00:24:54.589666Z",
     "iopub.status.busy": "2021-05-03T00:24:54.589080Z",
     "iopub.status.idle": "2021-05-03T00:24:54.590987Z",
     "shell.execute_reply": "2021-05-03T00:24:54.591543Z"
    },
    "papermill": {
     "duration": 0.036462,
     "end_time": "2021-05-03T00:24:54.591654",
     "exception": false,
     "start_time": "2021-05-03T00:24:54.555192",
     "status": "completed"
    },
    "tags": []
   },
   "outputs": [],
   "source": [
    "# #hide\n",
    "# fig, ax = plt.subplots(figsize=(15, 8))\n",
    "\n",
    "# def draw_barchart(current_day):\n",
    "#     dff = g[g['day'].eq(current_day)].sort_values(by='value', ascending=True).tail(10)\n",
    "#     ax.clear()\n",
    "#     ax.barh(dff['name'], dff['value'], color=[colors[group_lk[x]] for x in dff['name']])\n",
    "#     dx = dff['value'].max() / 200\n",
    "    \n",
    "#     for i, (value, name) in enumerate(zip(dff['value'], dff['name'])):\n",
    "#         ax.text(value-dx, i,     name,           size=14, weight=600, ha='right', va='bottom')\n",
    "#         ax.text(value-dx, i-.25, group_lk[name], size=10, color='#444444', ha='right', va='baseline')\n",
    "#         ax.text(value+dx, i,     f'{value:,.0f}',  size=14, ha='left',  va='center')\n",
    "#     ax.text(1, 0.4, current_day, transform=ax.transAxes, color='#777777', size=46, ha='right', weight=800)\n",
    "#     ax.text(0, 1.06, 'Population (thousands)', transform=ax.transAxes, size=12, color='#777777')\n",
    "#     ax.xaxis.set_major_formatter(ticker.StrMethodFormatter('{x:,.0f}'))\n",
    "#     ax.xaxis.set_ticks_position('top')\n",
    "#     ax.tick_params(axis='x', colors='#777777', labelsize=12)\n",
    "#     ax.set_yticks([])\n",
    "#     ax.margins(0, 0.01)\n",
    "#     ax.grid(which='major', axis='x', linestyle='-')\n",
    "#     ax.set_axisbelow(True)\n",
    "    \n",
    "#     ax.text(0, 1.15, 'Coronavirus',\n",
    "#             transform=ax.transAxes, size=24, weight=600, ha='left', va='top')\n",
    "# #     ax.text(1, 0, 'by @pratapvardhan; credit @jburnmurdoch', transform=ax.transAxes, color='#777777', ha='right',\n",
    "# #             bbox=dict(facecolor='white', alpha=0.8, edgecolor='white'))\n",
    "#     plt.box(False)"
   ]
  },
  {
   "cell_type": "code",
   "execution_count": 42,
   "id": "sexual-wages",
   "metadata": {
    "execution": {
     "iopub.execute_input": "2021-05-03T00:24:54.656854Z",
     "iopub.status.busy": "2021-05-03T00:24:54.656343Z",
     "iopub.status.idle": "2021-05-03T00:24:54.658579Z",
     "shell.execute_reply": "2021-05-03T00:24:54.658054Z"
    },
    "papermill": {
     "duration": 0.036298,
     "end_time": "2021-05-03T00:24:54.658709",
     "exception": false,
     "start_time": "2021-05-03T00:24:54.622411",
     "status": "completed"
    },
    "tags": []
   },
   "outputs": [],
   "source": [
    "# #hide_input\n",
    "# fig, ax = plt.subplots(figsize=(15, 8))\n",
    "# animator = animation.FuncAnimation(fig, draw_barchart, frames=range(g.day.values.min(), g.day.values.max()))\n",
    "# HTML(animator.to_jshtml())\n",
    "# # or use animator.to_html5_video() or animator.save() "
   ]
  },
  {
   "cell_type": "code",
   "execution_count": null,
   "id": "australian-container",
   "metadata": {
    "papermill": {
     "duration": 0.030204,
     "end_time": "2021-05-03T00:24:54.721469",
     "exception": false,
     "start_time": "2021-05-03T00:24:54.691265",
     "status": "completed"
    },
    "tags": []
   },
   "outputs": [],
   "source": []
  },
  {
   "cell_type": "code",
   "execution_count": null,
   "id": "mediterranean-pontiac",
   "metadata": {
    "papermill": {
     "duration": 0.03017,
     "end_time": "2021-05-03T00:24:54.784144",
     "exception": false,
     "start_time": "2021-05-03T00:24:54.753974",
     "status": "completed"
    },
    "tags": []
   },
   "outputs": [],
   "source": []
  },
  {
   "cell_type": "code",
   "execution_count": null,
   "id": "aging-legislature",
   "metadata": {
    "papermill": {
     "duration": 0.030051,
     "end_time": "2021-05-03T00:24:54.844531",
     "exception": false,
     "start_time": "2021-05-03T00:24:54.814480",
     "status": "completed"
    },
    "tags": []
   },
   "outputs": [],
   "source": []
  }
 ],
 "metadata": {
  "kernelspec": {
   "display_name": "Python 3",
   "language": "python",
   "name": "python3"
  },
  "language_info": {
   "codemirror_mode": {
    "name": "ipython",
    "version": 3
   },
   "file_extension": ".py",
   "mimetype": "text/x-python",
   "name": "python",
   "nbconvert_exporter": "python",
   "pygments_lexer": "ipython3",
   "version": "3.6.13"
  },
  "papermill": {
   "duration": 6.268916,
   "end_time": "2021-05-03T00:24:55.182800",
   "environment_variables": {},
   "exception": null,
   "input_path": "2020-03-21-covid19exp.ipynb",
   "output_path": "2020-03-21-covid19exp.ipynb",
   "parameters": {},
   "start_time": "2021-05-03T00:24:48.913884",
   "version": "2.0.0"
  }
 },
 "nbformat": 4,
 "nbformat_minor": 5
}