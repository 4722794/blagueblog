{
 "cells": [
  {
   "cell_type": "markdown",
   "id": "muslim-click",
   "metadata": {
    "papermill": {
     "duration": 0.042722,
     "end_time": "2021-04-30T12:11:39.544174",
     "exception": false,
     "start_time": "2021-04-30T12:11:39.501452",
     "status": "completed"
    },
    "tags": []
   },
   "source": [
    "# COVID-19 Case Race\n",
    "> A race chart to see rising cases around the world\n",
    "\n",
    "- author: Hargun Oberoi\n",
    "- image: images/covid-overview.png\n",
    "- hide: false\n",
    "- badges: false"
   ]
  },
  {
   "cell_type": "code",
   "execution_count": 1,
   "id": "proof-material",
   "metadata": {
    "execution": {
     "iopub.execute_input": "2021-04-30T12:11:39.629260Z",
     "iopub.status.busy": "2021-04-30T12:11:39.628615Z",
     "iopub.status.idle": "2021-04-30T12:11:39.968707Z",
     "shell.execute_reply": "2021-04-30T12:11:39.967651Z"
    },
    "papermill": {
     "duration": 0.387074,
     "end_time": "2021-04-30T12:11:39.968866",
     "exception": false,
     "start_time": "2021-04-30T12:11:39.581792",
     "status": "completed"
    },
    "tags": []
   },
   "outputs": [],
   "source": [
    "#hide\n",
    "import numpy as np\n",
    "import pandas as pd\n",
    "from jinja2 import Template\n",
    "from IPython.display import HTML"
   ]
  },
  {
   "cell_type": "code",
   "execution_count": 2,
   "id": "developed-terminology",
   "metadata": {
    "execution": {
     "iopub.execute_input": "2021-04-30T12:11:40.053112Z",
     "iopub.status.busy": "2021-04-30T12:11:40.052445Z",
     "iopub.status.idle": "2021-04-30T12:11:40.054808Z",
     "shell.execute_reply": "2021-04-30T12:11:40.054284Z"
    },
    "papermill": {
     "duration": 0.048543,
     "end_time": "2021-04-30T12:11:40.054936",
     "exception": false,
     "start_time": "2021-04-30T12:11:40.006393",
     "status": "completed"
    },
    "tags": []
   },
   "outputs": [],
   "source": [
    "#hide\n",
    "\n",
    "# FETCH\n",
    "base_url = 'https://raw.githubusercontent.com/pratapvardhan/notebooks/master/covid19/'\n",
    "paths = {\n",
    "    'mapping': base_url + 'mapping_countries.csv',\n",
    "    'overview': base_url + 'overview.tpl'\n",
    "}"
   ]
  },
  {
   "cell_type": "code",
   "execution_count": 3,
   "id": "dynamic-saver",
   "metadata": {
    "execution": {
     "iopub.execute_input": "2021-04-30T12:11:40.138438Z",
     "iopub.status.busy": "2021-04-30T12:11:40.135692Z",
     "iopub.status.idle": "2021-04-30T12:11:40.141858Z",
     "shell.execute_reply": "2021-04-30T12:11:40.141307Z"
    },
    "papermill": {
     "duration": 0.050017,
     "end_time": "2021-04-30T12:11:40.141981",
     "exception": false,
     "start_time": "2021-04-30T12:11:40.091964",
     "status": "completed"
    },
    "tags": []
   },
   "outputs": [
    {
     "data": {
      "text/plain": [
       "'https://raw.githubusercontent.com/pratapvardhan/notebooks/master/covid19/mapping_countries.csv'"
      ]
     },
     "execution_count": 3,
     "metadata": {},
     "output_type": "execute_result"
    }
   ],
   "source": [
    "#hide\n",
    "paths['mapping']"
   ]
  },
  {
   "cell_type": "code",
   "execution_count": 4,
   "id": "urban-software",
   "metadata": {
    "execution": {
     "iopub.execute_input": "2021-04-30T12:11:40.225959Z",
     "iopub.status.busy": "2021-04-30T12:11:40.225305Z",
     "iopub.status.idle": "2021-04-30T12:11:40.227762Z",
     "shell.execute_reply": "2021-04-30T12:11:40.227203Z"
    },
    "papermill": {
     "duration": 0.048316,
     "end_time": "2021-04-30T12:11:40.227888",
     "exception": false,
     "start_time": "2021-04-30T12:11:40.179572",
     "status": "completed"
    },
    "tags": []
   },
   "outputs": [],
   "source": [
    "#hide\n",
    "def get_mappings(url):\n",
    "    df = pd.read_csv(url)\n",
    "    return {\n",
    "        'df': df,\n",
    "        'replace.country': dict(df.dropna(subset=['Name']).set_index('Country')['Name']),\n",
    "        'map.continent': dict(df.set_index('Name')['Continent'])\n",
    "    }"
   ]
  },
  {
   "cell_type": "code",
   "execution_count": 5,
   "id": "intimate-machinery",
   "metadata": {
    "execution": {
     "iopub.execute_input": "2021-04-30T12:11:40.312904Z",
     "iopub.status.busy": "2021-04-30T12:11:40.312264Z",
     "iopub.status.idle": "2021-04-30T12:11:40.347266Z",
     "shell.execute_reply": "2021-04-30T12:11:40.346685Z"
    },
    "papermill": {
     "duration": 0.082286,
     "end_time": "2021-04-30T12:11:40.347404",
     "exception": false,
     "start_time": "2021-04-30T12:11:40.265118",
     "status": "completed"
    },
    "tags": []
   },
   "outputs": [],
   "source": [
    "#hide\n",
    "mapping = get_mappings(paths['mapping'])"
   ]
  },
  {
   "cell_type": "code",
   "execution_count": 6,
   "id": "certified-tactics",
   "metadata": {
    "execution": {
     "iopub.execute_input": "2021-04-30T12:11:40.427777Z",
     "iopub.status.busy": "2021-04-30T12:11:40.427103Z",
     "iopub.status.idle": "2021-04-30T12:11:40.429464Z",
     "shell.execute_reply": "2021-04-30T12:11:40.428835Z"
    },
    "papermill": {
     "duration": 0.044142,
     "end_time": "2021-04-30T12:11:40.429586",
     "exception": false,
     "start_time": "2021-04-30T12:11:40.385444",
     "status": "completed"
    },
    "tags": []
   },
   "outputs": [],
   "source": [
    "#hide\n",
    "def get_template(path):\n",
    "    from urllib.parse import urlparse\n",
    "    if bool(urlparse(path).netloc):\n",
    "        from urllib.request import urlopen\n",
    "        return urlopen(path).read().decode('utf8')\n",
    "    return open(path).read()"
   ]
  },
  {
   "cell_type": "code",
   "execution_count": 7,
   "id": "realistic-blast",
   "metadata": {
    "execution": {
     "iopub.execute_input": "2021-04-30T12:11:40.513090Z",
     "iopub.status.busy": "2021-04-30T12:11:40.512441Z",
     "iopub.status.idle": "2021-04-30T12:11:40.514843Z",
     "shell.execute_reply": "2021-04-30T12:11:40.514293Z"
    },
    "papermill": {
     "duration": 0.044205,
     "end_time": "2021-04-30T12:11:40.514968",
     "exception": false,
     "start_time": "2021-04-30T12:11:40.470763",
     "status": "completed"
    },
    "tags": []
   },
   "outputs": [],
   "source": [
    "#hide\n",
    "def get_frame(name):\n",
    "    url = (\n",
    "        'https://raw.githubusercontent.com/CSSEGISandData/COVID-19/master/csse_covid_19_data/'\n",
    "        f'csse_covid_19_time_series/time_series_covid19_{name}_global.csv')\n",
    "    df = pd.read_csv(url)\n",
    "    # rename countries\n",
    "    df['Country/Region'] = df['Country/Region'].replace(mapping['replace.country'])\n",
    "    return df"
   ]
  },
  {
   "cell_type": "code",
   "execution_count": 8,
   "id": "affiliated-characterization",
   "metadata": {
    "execution": {
     "iopub.execute_input": "2021-04-30T12:11:40.596435Z",
     "iopub.status.busy": "2021-04-30T12:11:40.595784Z",
     "iopub.status.idle": "2021-04-30T12:11:40.598123Z",
     "shell.execute_reply": "2021-04-30T12:11:40.597488Z"
    },
    "papermill": {
     "duration": 0.044866,
     "end_time": "2021-04-30T12:11:40.598244",
     "exception": false,
     "start_time": "2021-04-30T12:11:40.553378",
     "status": "completed"
    },
    "tags": []
   },
   "outputs": [],
   "source": [
    "#hide\n",
    "def get_dates(df):\n",
    "    dt_cols = df.columns[~df.columns.isin(['Province/State', 'Country/Region', 'Lat', 'Long'])]\n",
    "    LAST_DATE_I = -1\n",
    "    # sometimes last column may be empty, then go backwards\n",
    "    for i in range(-1, -len(dt_cols), -1):\n",
    "        if not df[dt_cols[i]].fillna(0).eq(0).all():\n",
    "            LAST_DATE_I = i\n",
    "            break\n",
    "    return LAST_DATE_I, dt_cols"
   ]
  },
  {
   "cell_type": "code",
   "execution_count": 9,
   "id": "recent-optimization",
   "metadata": {
    "execution": {
     "iopub.execute_input": "2021-04-30T12:11:40.679029Z",
     "iopub.status.busy": "2021-04-30T12:11:40.678265Z",
     "iopub.status.idle": "2021-04-30T12:11:40.952436Z",
     "shell.execute_reply": "2021-04-30T12:11:40.951877Z"
    },
    "papermill": {
     "duration": 0.316526,
     "end_time": "2021-04-30T12:11:40.952580",
     "exception": false,
     "start_time": "2021-04-30T12:11:40.636054",
     "status": "completed"
    },
    "tags": []
   },
   "outputs": [],
   "source": [
    "#hide\n",
    "COL_REGION = 'Country/Region'\n",
    "# Confirmed, Recovered, Deaths\n",
    "df = get_frame('confirmed')\n",
    "# dft_: timeseries, dfc_: today country agg\n",
    "dft_cases = df\n",
    "dft_deaths = get_frame('deaths')\n",
    "dft_recovered = get_frame('recovered')\n",
    "LAST_DATE_I, dt_cols = get_dates(df)"
   ]
  },
  {
   "cell_type": "code",
   "execution_count": 10,
   "id": "absolute-copper",
   "metadata": {
    "execution": {
     "iopub.execute_input": "2021-04-30T12:11:41.038297Z",
     "iopub.status.busy": "2021-04-30T12:11:41.037661Z",
     "iopub.status.idle": "2021-04-30T12:11:41.039523Z",
     "shell.execute_reply": "2021-04-30T12:11:41.040134Z"
    },
    "papermill": {
     "duration": 0.047687,
     "end_time": "2021-04-30T12:11:41.040271",
     "exception": false,
     "start_time": "2021-04-30T12:11:40.992584",
     "status": "completed"
    },
    "tags": []
   },
   "outputs": [],
   "source": [
    "#hide\n",
    "LAST_DATE_I, dt_cols = get_dates(df)\n",
    "dt_today =dt_cols[LAST_DATE_I]\n",
    "# dt_5day = dt_cols[LAST_DATE_I - 5]\n",
    "dt_yday = dt_cols[LAST_DATE_I - 1]"
   ]
  },
  {
   "cell_type": "code",
   "execution_count": 11,
   "id": "restricted-sheriff",
   "metadata": {
    "execution": {
     "iopub.execute_input": "2021-04-30T12:11:41.124647Z",
     "iopub.status.busy": "2021-04-30T12:11:41.124004Z",
     "iopub.status.idle": "2021-04-30T12:11:41.130088Z",
     "shell.execute_reply": "2021-04-30T12:11:41.130689Z"
    },
    "papermill": {
     "duration": 0.051739,
     "end_time": "2021-04-30T12:11:41.130827",
     "exception": false,
     "start_time": "2021-04-30T12:11:41.079088",
     "status": "completed"
    },
    "tags": []
   },
   "outputs": [],
   "source": [
    "#hide\n",
    "dfc_cases = dft_cases.groupby(COL_REGION)[dt_today].sum()\n",
    "dfc_deaths = dft_deaths.groupby(COL_REGION)[dt_today].sum()\n",
    "# dfp_cases = dft_cases.groupby(COL_REGION)[dt_5day].sum()\n",
    "# dfp_deaths = dft_deaths.groupby(COL_REGION)[dt_5day].sum()\n",
    "dfp_cases = dft_cases.groupby(COL_REGION)[dt_yday].sum()\n",
    "dfp_deaths = dft_deaths.groupby(COL_REGION)[dt_yday].sum()"
   ]
  },
  {
   "cell_type": "code",
   "execution_count": 12,
   "id": "deluxe-hepatitis",
   "metadata": {
    "execution": {
     "iopub.execute_input": "2021-04-30T12:11:41.212902Z",
     "iopub.status.busy": "2021-04-30T12:11:41.212221Z",
     "iopub.status.idle": "2021-04-30T12:11:41.216697Z",
     "shell.execute_reply": "2021-04-30T12:11:41.217298Z"
    },
    "papermill": {
     "duration": 0.048581,
     "end_time": "2021-04-30T12:11:41.217438",
     "exception": false,
     "start_time": "2021-04-30T12:11:41.168857",
     "status": "completed"
    },
    "tags": []
   },
   "outputs": [],
   "source": [
    "#hide\n",
    "df_table = (pd.DataFrame(dict(Cases = dfc_cases, Deaths = dfc_deaths, PCases = dfp_cases, PDeaths = dfp_deaths))\n",
    "            .sort_values(by = ['Cases','Deaths'], ascending = [False, False])\n",
    "            .reset_index())"
   ]
  },
  {
   "cell_type": "code",
   "execution_count": 13,
   "id": "educational-chancellor",
   "metadata": {
    "execution": {
     "iopub.execute_input": "2021-04-30T12:11:41.314491Z",
     "iopub.status.busy": "2021-04-30T12:11:41.313604Z",
     "iopub.status.idle": "2021-04-30T12:11:41.322468Z",
     "shell.execute_reply": "2021-04-30T12:11:41.321915Z"
    },
    "papermill": {
     "duration": 0.067777,
     "end_time": "2021-04-30T12:11:41.322592",
     "exception": false,
     "start_time": "2021-04-30T12:11:41.254815",
     "status": "completed"
    },
    "tags": []
   },
   "outputs": [
    {
     "data": {
      "text/html": [
       "<div>\n",
       "<style scoped>\n",
       "    .dataframe tbody tr th:only-of-type {\n",
       "        vertical-align: middle;\n",
       "    }\n",
       "\n",
       "    .dataframe tbody tr th {\n",
       "        vertical-align: top;\n",
       "    }\n",
       "\n",
       "    .dataframe thead th {\n",
       "        text-align: right;\n",
       "    }\n",
       "</style>\n",
       "<table border=\"1\" class=\"dataframe\">\n",
       "  <thead>\n",
       "    <tr style=\"text-align: right;\">\n",
       "      <th></th>\n",
       "      <th>Country/Region</th>\n",
       "      <th>Cases</th>\n",
       "      <th>Deaths</th>\n",
       "      <th>PCases</th>\n",
       "      <th>PDeaths</th>\n",
       "      <th>Cases (+)</th>\n",
       "      <th>Deaths (+)</th>\n",
       "      <th>Fatality Rate</th>\n",
       "      <th>Continent</th>\n",
       "    </tr>\n",
       "  </thead>\n",
       "  <tbody>\n",
       "    <tr>\n",
       "      <th>0</th>\n",
       "      <td>US</td>\n",
       "      <td>32289049</td>\n",
       "      <td>575194</td>\n",
       "      <td>32230850</td>\n",
       "      <td>574340</td>\n",
       "      <td>58199</td>\n",
       "      <td>854</td>\n",
       "      <td>1.78</td>\n",
       "      <td>North America</td>\n",
       "    </tr>\n",
       "    <tr>\n",
       "      <th>1</th>\n",
       "      <td>India</td>\n",
       "      <td>18762976</td>\n",
       "      <td>208330</td>\n",
       "      <td>18376421</td>\n",
       "      <td>204832</td>\n",
       "      <td>386555</td>\n",
       "      <td>3498</td>\n",
       "      <td>1.11</td>\n",
       "      <td>Asia</td>\n",
       "    </tr>\n",
       "    <tr>\n",
       "      <th>2</th>\n",
       "      <td>Brazil</td>\n",
       "      <td>14590678</td>\n",
       "      <td>401186</td>\n",
       "      <td>14521289</td>\n",
       "      <td>398185</td>\n",
       "      <td>69389</td>\n",
       "      <td>3001</td>\n",
       "      <td>2.75</td>\n",
       "      <td>South America</td>\n",
       "    </tr>\n",
       "    <tr>\n",
       "      <th>3</th>\n",
       "      <td>France</td>\n",
       "      <td>5653533</td>\n",
       "      <td>104385</td>\n",
       "      <td>5626985</td>\n",
       "      <td>104077</td>\n",
       "      <td>26548</td>\n",
       "      <td>308</td>\n",
       "      <td>1.85</td>\n",
       "      <td>Europe</td>\n",
       "    </tr>\n",
       "    <tr>\n",
       "      <th>4</th>\n",
       "      <td>Turkey</td>\n",
       "      <td>4788700</td>\n",
       "      <td>39737</td>\n",
       "      <td>4751026</td>\n",
       "      <td>39398</td>\n",
       "      <td>37674</td>\n",
       "      <td>339</td>\n",
       "      <td>0.83</td>\n",
       "      <td>Asia</td>\n",
       "    </tr>\n",
       "  </tbody>\n",
       "</table>\n",
       "</div>"
      ],
      "text/plain": [
       "  Country/Region     Cases  Deaths    PCases  PDeaths  Cases (+)  Deaths (+)  \\\n",
       "0             US  32289049  575194  32230850   574340      58199         854   \n",
       "1          India  18762976  208330  18376421   204832     386555        3498   \n",
       "2         Brazil  14590678  401186  14521289   398185      69389        3001   \n",
       "3         France   5653533  104385   5626985   104077      26548         308   \n",
       "4         Turkey   4788700   39737   4751026    39398      37674         339   \n",
       "\n",
       "   Fatality Rate      Continent  \n",
       "0           1.78  North America  \n",
       "1           1.11           Asia  \n",
       "2           2.75  South America  \n",
       "3           1.85         Europe  \n",
       "4           0.83           Asia  "
      ]
     },
     "execution_count": 13,
     "metadata": {},
     "output_type": "execute_result"
    }
   ],
   "source": [
    "#hide\n",
    "for c in 'Cases, Deaths'.split(', '):\n",
    "    df_table[f'{c} (+)'] = (df_table[c] - df_table[f'P{c}']).clip(0)\n",
    "    #Clip ça veut dire, les chiffres negatif sont interdit\n",
    "df_table['Fatality Rate'] = (100* df_table['Deaths']/ df_table['Cases']).round(2)\n",
    "df_table['Continent'] = df_table['Country/Region'].map(mapping['map.continent'])\n",
    "df_table.head(5)"
   ]
  },
  {
   "cell_type": "code",
   "execution_count": 14,
   "id": "aboriginal-bulgaria",
   "metadata": {
    "execution": {
     "iopub.execute_input": "2021-04-30T12:11:41.403370Z",
     "iopub.status.busy": "2021-04-30T12:11:41.402685Z",
     "iopub.status.idle": "2021-04-30T12:11:41.406155Z",
     "shell.execute_reply": "2021-04-30T12:11:41.405604Z"
    },
    "papermill": {
     "duration": 0.045507,
     "end_time": "2021-04-30T12:11:41.406278",
     "exception": false,
     "start_time": "2021-04-30T12:11:41.360771",
     "status": "completed"
    },
    "tags": []
   },
   "outputs": [],
   "source": [
    "#hide\n",
    "#delete problematic countries from table\n",
    "df_table = df_table[~df_table['Country/Region'].isin(['Cape Verde', 'Cruise Ship', 'Kosovo'])]"
   ]
  },
  {
   "cell_type": "code",
   "execution_count": 15,
   "id": "fantastic-effect",
   "metadata": {
    "execution": {
     "iopub.execute_input": "2021-04-30T12:11:41.490014Z",
     "iopub.status.busy": "2021-04-30T12:11:41.489363Z",
     "iopub.status.idle": "2021-04-30T12:11:41.509954Z",
     "shell.execute_reply": "2021-04-30T12:11:41.509400Z"
    },
    "papermill": {
     "duration": 0.066176,
     "end_time": "2021-04-30T12:11:41.510080",
     "exception": false,
     "start_time": "2021-04-30T12:11:41.443904",
     "status": "completed"
    },
    "tags": []
   },
   "outputs": [
    {
     "data": {
      "text/html": [
       "<div>\n",
       "<style scoped>\n",
       "    .dataframe tbody tr th:only-of-type {\n",
       "        vertical-align: middle;\n",
       "    }\n",
       "\n",
       "    .dataframe tbody tr th {\n",
       "        vertical-align: top;\n",
       "    }\n",
       "\n",
       "    .dataframe thead th {\n",
       "        text-align: right;\n",
       "    }\n",
       "</style>\n",
       "<table border=\"1\" class=\"dataframe\">\n",
       "  <thead>\n",
       "    <tr style=\"text-align: right;\">\n",
       "      <th></th>\n",
       "      <th>Country/Region</th>\n",
       "      <th>Cases</th>\n",
       "      <th>Deaths</th>\n",
       "      <th>PCases</th>\n",
       "      <th>PDeaths</th>\n",
       "      <th>Cases (+)</th>\n",
       "      <th>Deaths (+)</th>\n",
       "      <th>Fatality Rate</th>\n",
       "      <th>Continent</th>\n",
       "    </tr>\n",
       "  </thead>\n",
       "  <tbody>\n",
       "    <tr>\n",
       "      <th>0</th>\n",
       "      <td>US</td>\n",
       "      <td>32289049</td>\n",
       "      <td>575194</td>\n",
       "      <td>32230850</td>\n",
       "      <td>574340</td>\n",
       "      <td>58199</td>\n",
       "      <td>854</td>\n",
       "      <td>1.8</td>\n",
       "      <td>North America</td>\n",
       "    </tr>\n",
       "    <tr>\n",
       "      <th>1</th>\n",
       "      <td>India</td>\n",
       "      <td>18762976</td>\n",
       "      <td>208330</td>\n",
       "      <td>18376421</td>\n",
       "      <td>204832</td>\n",
       "      <td>386555</td>\n",
       "      <td>3498</td>\n",
       "      <td>1.1</td>\n",
       "      <td>Asia</td>\n",
       "    </tr>\n",
       "    <tr>\n",
       "      <th>2</th>\n",
       "      <td>Brazil</td>\n",
       "      <td>14590678</td>\n",
       "      <td>401186</td>\n",
       "      <td>14521289</td>\n",
       "      <td>398185</td>\n",
       "      <td>69389</td>\n",
       "      <td>3001</td>\n",
       "      <td>2.7</td>\n",
       "      <td>South America</td>\n",
       "    </tr>\n",
       "    <tr>\n",
       "      <th>3</th>\n",
       "      <td>France</td>\n",
       "      <td>5653533</td>\n",
       "      <td>104385</td>\n",
       "      <td>5626985</td>\n",
       "      <td>104077</td>\n",
       "      <td>26548</td>\n",
       "      <td>308</td>\n",
       "      <td>1.8</td>\n",
       "      <td>Europe</td>\n",
       "    </tr>\n",
       "    <tr>\n",
       "      <th>4</th>\n",
       "      <td>Turkey</td>\n",
       "      <td>4788700</td>\n",
       "      <td>39737</td>\n",
       "      <td>4751026</td>\n",
       "      <td>39398</td>\n",
       "      <td>37674</td>\n",
       "      <td>339</td>\n",
       "      <td>0.8</td>\n",
       "      <td>Asia</td>\n",
       "    </tr>\n",
       "  </tbody>\n",
       "</table>\n",
       "</div>"
      ],
      "text/plain": [
       "  Country/Region     Cases  Deaths    PCases  PDeaths  Cases (+)  Deaths (+)  \\\n",
       "0             US  32289049  575194  32230850   574340      58199         854   \n",
       "1          India  18762976  208330  18376421   204832     386555        3498   \n",
       "2         Brazil  14590678  401186  14521289   398185      69389        3001   \n",
       "3         France   5653533  104385   5626985   104077      26548         308   \n",
       "4         Turkey   4788700   39737   4751026    39398      37674         339   \n",
       "\n",
       "   Fatality Rate      Continent  \n",
       "0            1.8  North America  \n",
       "1            1.1           Asia  \n",
       "2            2.7  South America  \n",
       "3            1.8         Europe  \n",
       "4            0.8           Asia  "
      ]
     },
     "execution_count": 15,
     "metadata": {},
     "output_type": "execute_result"
    }
   ],
   "source": [
    "#hide\n",
    "df_table = (pd.DataFrame(dict(Cases=dfc_cases, Deaths=dfc_deaths, PCases=dfp_cases, PDeaths=dfp_deaths))\n",
    "             .sort_values(by=['Cases', 'Deaths'], ascending=[False, False])\n",
    "             .reset_index())\n",
    "df_table.rename(columns={'index': 'Country/Region'}, inplace=True)\n",
    "for c in 'Cases, Deaths'.split(', '):\n",
    "    df_table[f'{c} (+)'] = (df_table[c] - df_table[f'P{c}']).clip(0)  # DATA BUG\n",
    "df_table['Fatality Rate'] = (100 * df_table['Deaths'] / df_table['Cases']).round(1)\n",
    "df_table['Continent'] = df_table['Country/Region'].map(mapping['map.continent'])\n",
    "df_table.head(5)"
   ]
  },
  {
   "cell_type": "code",
   "execution_count": 16,
   "id": "fewer-occasion",
   "metadata": {
    "execution": {
     "iopub.execute_input": "2021-04-30T12:11:41.594141Z",
     "iopub.status.busy": "2021-04-30T12:11:41.593452Z",
     "iopub.status.idle": "2021-04-30T12:11:41.596791Z",
     "shell.execute_reply": "2021-04-30T12:11:41.596237Z"
    },
    "papermill": {
     "duration": 0.047527,
     "end_time": "2021-04-30T12:11:41.596914",
     "exception": false,
     "start_time": "2021-04-30T12:11:41.549387",
     "status": "completed"
    },
    "tags": []
   },
   "outputs": [],
   "source": [
    "#hide\n",
    "#delete problematic countries from table\n",
    "df_table = df_table[~df_table['Country/Region'].isin(['Cape Verde', 'Cruise Ship', 'Kosovo'])]"
   ]
  },
  {
   "cell_type": "code",
   "execution_count": 17,
   "id": "related-center",
   "metadata": {
    "execution": {
     "iopub.execute_input": "2021-04-30T12:11:41.682662Z",
     "iopub.status.busy": "2021-04-30T12:11:41.682000Z",
     "iopub.status.idle": "2021-04-30T12:11:41.696364Z",
     "shell.execute_reply": "2021-04-30T12:11:41.695788Z"
    },
    "papermill": {
     "duration": 0.060136,
     "end_time": "2021-04-30T12:11:41.696503",
     "exception": false,
     "start_time": "2021-04-30T12:11:41.636367",
     "status": "completed"
    },
    "tags": []
   },
   "outputs": [],
   "source": [
    "#hide\n",
    "metrics = [df_table.columns[index] for index in [1,2,5,6]]\n",
    "# s_china = df_table[df_table['Country/Region'].eq('China')][metrics].sum().add_prefix('China ')\n",
    "s_us = df_table[df_table['Country/Region'].eq('US')][metrics].sum().add_prefix('US ')\n",
    "s_eu = df_table[df_table['Continent'].eq('Europe')][metrics].sum().add_prefix('EU ')\n",
    "s_ind = df_table[df_table['Country/Region'].eq('India')][metrics].sum().add_prefix('India ')\n",
    "summary = {'updated': pd.to_datetime(dt_today), 'since': pd.to_datetime(dt_yday)}\n",
    "summary = {'updated': pd.to_datetime(dt_today), 'since': pd.to_datetime(dt_yday)}\n",
    "summary = {**summary, **df_table[metrics].sum(), **s_ind, **s_us, **s_eu}"
   ]
  },
  {
   "cell_type": "code",
   "execution_count": 18,
   "id": "engaging-syndrome",
   "metadata": {
    "execution": {
     "iopub.execute_input": "2021-04-30T12:11:41.782668Z",
     "iopub.status.busy": "2021-04-30T12:11:41.782013Z",
     "iopub.status.idle": "2021-04-30T12:11:41.795817Z",
     "shell.execute_reply": "2021-04-30T12:11:41.795167Z"
    },
    "papermill": {
     "duration": 0.060697,
     "end_time": "2021-04-30T12:11:41.795950",
     "exception": false,
     "start_time": "2021-04-30T12:11:41.735253",
     "status": "completed"
    },
    "tags": []
   },
   "outputs": [],
   "source": [
    "#hide\n",
    "dft_ct_new_cases = dft_cases.groupby(COL_REGION)[dt_cols].sum().diff(axis=1).fillna(0).astype(int)"
   ]
  },
  {
   "cell_type": "code",
   "execution_count": 19,
   "id": "neutral-assignment",
   "metadata": {
    "execution": {
     "iopub.execute_input": "2021-04-30T12:11:41.879309Z",
     "iopub.status.busy": "2021-04-30T12:11:41.878634Z",
     "iopub.status.idle": "2021-04-30T12:11:41.881081Z",
     "shell.execute_reply": "2021-04-30T12:11:41.880529Z"
    },
    "papermill": {
     "duration": 0.045814,
     "end_time": "2021-04-30T12:11:41.881205",
     "exception": false,
     "start_time": "2021-04-30T12:11:41.835391",
     "status": "completed"
    },
    "tags": []
   },
   "outputs": [],
   "source": [
    "#hide\n",
    "everydaycases = dft_ct_new_cases.cumsum(axis=1)"
   ]
  },
  {
   "cell_type": "code",
   "execution_count": 20,
   "id": "parliamentary-calgary",
   "metadata": {
    "execution": {
     "iopub.execute_input": "2021-04-30T12:11:41.963306Z",
     "iopub.status.busy": "2021-04-30T12:11:41.962618Z",
     "iopub.status.idle": "2021-04-30T12:11:42.517161Z",
     "shell.execute_reply": "2021-04-30T12:11:42.516596Z"
    },
    "papermill": {
     "duration": 0.597336,
     "end_time": "2021-04-30T12:11:42.517305",
     "exception": false,
     "start_time": "2021-04-30T12:11:41.919969",
     "status": "completed"
    },
    "tags": []
   },
   "outputs": [],
   "source": [
    "#hide\n",
    "import pandas as pd\n",
    "import matplotlib.pyplot as plt\n",
    "import matplotlib.ticker as ticker\n",
    "import matplotlib.animation as animation\n",
    "from IPython.display import HTML"
   ]
  },
  {
   "cell_type": "code",
   "execution_count": 21,
   "id": "lasting-extraction",
   "metadata": {
    "execution": {
     "iopub.execute_input": "2021-04-30T12:11:42.602993Z",
     "iopub.status.busy": "2021-04-30T12:11:42.602316Z",
     "iopub.status.idle": "2021-04-30T12:11:42.607510Z",
     "shell.execute_reply": "2021-04-30T12:11:42.608008Z"
    },
    "papermill": {
     "duration": 0.049201,
     "end_time": "2021-04-30T12:11:42.608202",
     "exception": false,
     "start_time": "2021-04-30T12:11:42.559001",
     "status": "completed"
    },
    "tags": []
   },
   "outputs": [],
   "source": [
    "#hide\n",
    "t = everydaycases.stack()"
   ]
  },
  {
   "cell_type": "code",
   "execution_count": 22,
   "id": "premier-sleeve",
   "metadata": {
    "execution": {
     "iopub.execute_input": "2021-04-30T12:11:42.690584Z",
     "iopub.status.busy": "2021-04-30T12:11:42.689950Z",
     "iopub.status.idle": "2021-04-30T12:11:42.697740Z",
     "shell.execute_reply": "2021-04-30T12:11:42.697200Z"
    },
    "papermill": {
     "duration": 0.04937,
     "end_time": "2021-04-30T12:11:42.697860",
     "exception": false,
     "start_time": "2021-04-30T12:11:42.648490",
     "status": "completed"
    },
    "tags": []
   },
   "outputs": [],
   "source": [
    "#hide\n",
    "g = t.reset_index(['Country/Region'])"
   ]
  },
  {
   "cell_type": "code",
   "execution_count": 23,
   "id": "distributed-pittsburgh",
   "metadata": {
    "execution": {
     "iopub.execute_input": "2021-04-30T12:11:42.778390Z",
     "iopub.status.busy": "2021-04-30T12:11:42.777759Z",
     "iopub.status.idle": "2021-04-30T12:11:42.780426Z",
     "shell.execute_reply": "2021-04-30T12:11:42.779888Z"
    },
    "papermill": {
     "duration": 0.044503,
     "end_time": "2021-04-30T12:11:42.780545",
     "exception": false,
     "start_time": "2021-04-30T12:11:42.736042",
     "status": "completed"
    },
    "tags": []
   },
   "outputs": [],
   "source": [
    "#hide\n",
    "g.index.name = 'date'"
   ]
  },
  {
   "cell_type": "code",
   "execution_count": 24,
   "id": "naked-donor",
   "metadata": {
    "execution": {
     "iopub.execute_input": "2021-04-30T12:11:42.862218Z",
     "iopub.status.busy": "2021-04-30T12:11:42.861585Z",
     "iopub.status.idle": "2021-04-30T12:11:42.864149Z",
     "shell.execute_reply": "2021-04-30T12:11:42.863611Z"
    },
    "papermill": {
     "duration": 0.044461,
     "end_time": "2021-04-30T12:11:42.864268",
     "exception": false,
     "start_time": "2021-04-30T12:11:42.819807",
     "status": "completed"
    },
    "tags": []
   },
   "outputs": [],
   "source": [
    "# #hide\n",
    "# g = g.reset_index(['date'])"
   ]
  },
  {
   "cell_type": "code",
   "execution_count": 25,
   "id": "incomplete-mustang",
   "metadata": {
    "execution": {
     "iopub.execute_input": "2021-04-30T12:11:42.948291Z",
     "iopub.status.busy": "2021-04-30T12:11:42.947652Z",
     "iopub.status.idle": "2021-04-30T12:11:42.950205Z",
     "shell.execute_reply": "2021-04-30T12:11:42.949670Z"
    },
    "papermill": {
     "duration": 0.045865,
     "end_time": "2021-04-30T12:11:42.950326",
     "exception": false,
     "start_time": "2021-04-30T12:11:42.904461",
     "status": "completed"
    },
    "tags": []
   },
   "outputs": [],
   "source": [
    "#hide\n",
    "# g.head()"
   ]
  },
  {
   "cell_type": "code",
   "execution_count": 26,
   "id": "specific-kruger",
   "metadata": {
    "execution": {
     "iopub.execute_input": "2021-04-30T12:11:43.031486Z",
     "iopub.status.busy": "2021-04-30T12:11:43.030823Z",
     "iopub.status.idle": "2021-04-30T12:11:43.033293Z",
     "shell.execute_reply": "2021-04-30T12:11:43.032752Z"
    },
    "papermill": {
     "duration": 0.044943,
     "end_time": "2021-04-30T12:11:43.033414",
     "exception": false,
     "start_time": "2021-04-30T12:11:42.988471",
     "status": "completed"
    },
    "tags": []
   },
   "outputs": [],
   "source": [
    "#hide\n",
    "# g.columns = ['date','country','cases']"
   ]
  },
  {
   "cell_type": "code",
   "execution_count": 27,
   "id": "tender-conversion",
   "metadata": {
    "execution": {
     "iopub.execute_input": "2021-04-30T12:11:43.117647Z",
     "iopub.status.busy": "2021-04-30T12:11:43.117020Z",
     "iopub.status.idle": "2021-04-30T12:11:43.119398Z",
     "shell.execute_reply": "2021-04-30T12:11:43.118751Z"
    },
    "papermill": {
     "duration": 0.044985,
     "end_time": "2021-04-30T12:11:43.119519",
     "exception": false,
     "start_time": "2021-04-30T12:11:43.074534",
     "status": "completed"
    },
    "tags": []
   },
   "outputs": [],
   "source": [
    "#hide\n",
    "# g['continent'] = g.country"
   ]
  },
  {
   "cell_type": "code",
   "execution_count": 28,
   "id": "substantial-wilderness",
   "metadata": {
    "execution": {
     "iopub.execute_input": "2021-04-30T12:11:43.199322Z",
     "iopub.status.busy": "2021-04-30T12:11:43.198654Z",
     "iopub.status.idle": "2021-04-30T12:11:43.201122Z",
     "shell.execute_reply": "2021-04-30T12:11:43.200505Z"
    },
    "papermill": {
     "duration": 0.043314,
     "end_time": "2021-04-30T12:11:43.201242",
     "exception": false,
     "start_time": "2021-04-30T12:11:43.157928",
     "status": "completed"
    },
    "tags": []
   },
   "outputs": [],
   "source": [
    "#hide\n",
    "# cols = list(g.columns.values)"
   ]
  },
  {
   "cell_type": "code",
   "execution_count": 29,
   "id": "solved-farming",
   "metadata": {
    "execution": {
     "iopub.execute_input": "2021-04-30T12:11:43.281068Z",
     "iopub.status.busy": "2021-04-30T12:11:43.280436Z",
     "iopub.status.idle": "2021-04-30T12:11:43.282760Z",
     "shell.execute_reply": "2021-04-30T12:11:43.282226Z"
    },
    "papermill": {
     "duration": 0.043502,
     "end_time": "2021-04-30T12:11:43.282879",
     "exception": false,
     "start_time": "2021-04-30T12:11:43.239377",
     "status": "completed"
    },
    "tags": []
   },
   "outputs": [],
   "source": [
    "#hide\n",
    "# cols.insert(0, cols.pop())"
   ]
  },
  {
   "cell_type": "code",
   "execution_count": 30,
   "id": "executed-adoption",
   "metadata": {
    "execution": {
     "iopub.execute_input": "2021-04-30T12:11:43.362883Z",
     "iopub.status.busy": "2021-04-30T12:11:43.362240Z",
     "iopub.status.idle": "2021-04-30T12:11:43.364727Z",
     "shell.execute_reply": "2021-04-30T12:11:43.364173Z"
    },
    "papermill": {
     "duration": 0.043655,
     "end_time": "2021-04-30T12:11:43.364849",
     "exception": false,
     "start_time": "2021-04-30T12:11:43.321194",
     "status": "completed"
    },
    "tags": []
   },
   "outputs": [],
   "source": [
    "#hide\n",
    "# g = g[cols]"
   ]
  },
  {
   "cell_type": "code",
   "execution_count": 31,
   "id": "subject-dublin",
   "metadata": {
    "execution": {
     "iopub.execute_input": "2021-04-30T12:11:43.446523Z",
     "iopub.status.busy": "2021-04-30T12:11:43.445891Z",
     "iopub.status.idle": "2021-04-30T12:11:43.448423Z",
     "shell.execute_reply": "2021-04-30T12:11:43.447885Z"
    },
    "papermill": {
     "duration": 0.045176,
     "end_time": "2021-04-30T12:11:43.448545",
     "exception": false,
     "start_time": "2021-04-30T12:11:43.403369",
     "status": "completed"
    },
    "tags": []
   },
   "outputs": [],
   "source": [
    "#hide\n",
    "# g['continent'] = g['continent'].map(mapping['map.continent'])"
   ]
  },
  {
   "cell_type": "code",
   "execution_count": 32,
   "id": "freelance-scout",
   "metadata": {
    "execution": {
     "iopub.execute_input": "2021-04-30T12:11:43.528598Z",
     "iopub.status.busy": "2021-04-30T12:11:43.527973Z",
     "iopub.status.idle": "2021-04-30T12:11:43.530304Z",
     "shell.execute_reply": "2021-04-30T12:11:43.529687Z"
    },
    "papermill": {
     "duration": 0.04357,
     "end_time": "2021-04-30T12:11:43.530423",
     "exception": false,
     "start_time": "2021-04-30T12:11:43.486853",
     "status": "completed"
    },
    "tags": []
   },
   "outputs": [],
   "source": [
    "#hide\n",
    "# g.head()"
   ]
  },
  {
   "cell_type": "code",
   "execution_count": 33,
   "id": "limited-engine",
   "metadata": {
    "execution": {
     "iopub.execute_input": "2021-04-30T12:11:43.615825Z",
     "iopub.status.busy": "2021-04-30T12:11:43.615158Z",
     "iopub.status.idle": "2021-04-30T12:11:43.617762Z",
     "shell.execute_reply": "2021-04-30T12:11:43.617133Z"
    },
    "papermill": {
     "duration": 0.046684,
     "end_time": "2021-04-30T12:11:43.617884",
     "exception": false,
     "start_time": "2021-04-30T12:11:43.571200",
     "status": "completed"
    },
    "tags": []
   },
   "outputs": [],
   "source": [
    "# hide\n",
    "# g['date'] = g['date'].astype('datetime64[ns]')"
   ]
  },
  {
   "cell_type": "code",
   "execution_count": 34,
   "id": "sophisticated-supervisor",
   "metadata": {
    "execution": {
     "iopub.execute_input": "2021-04-30T12:11:43.698540Z",
     "iopub.status.busy": "2021-04-30T12:11:43.697902Z",
     "iopub.status.idle": "2021-04-30T12:11:43.700322Z",
     "shell.execute_reply": "2021-04-30T12:11:43.699781Z"
    },
    "papermill": {
     "duration": 0.04387,
     "end_time": "2021-04-30T12:11:43.700443",
     "exception": false,
     "start_time": "2021-04-30T12:11:43.656573",
     "status": "completed"
    },
    "tags": []
   },
   "outputs": [],
   "source": [
    "#hide\n",
    "# g['date'] = g.date.dt.dayofyear"
   ]
  },
  {
   "cell_type": "code",
   "execution_count": 35,
   "id": "inside-dubai",
   "metadata": {
    "execution": {
     "iopub.execute_input": "2021-04-30T12:11:43.780599Z",
     "iopub.status.busy": "2021-04-30T12:11:43.779971Z",
     "iopub.status.idle": "2021-04-30T12:11:43.782610Z",
     "shell.execute_reply": "2021-04-30T12:11:43.781984Z"
    },
    "papermill": {
     "duration": 0.043925,
     "end_time": "2021-04-30T12:11:43.782731",
     "exception": false,
     "start_time": "2021-04-30T12:11:43.738806",
     "status": "completed"
    },
    "tags": []
   },
   "outputs": [],
   "source": [
    "#hide\n",
    "# g = g.rename(columns= {'continent':'group','country':'name','cases':'value'})"
   ]
  },
  {
   "cell_type": "code",
   "execution_count": 36,
   "id": "fleet-motorcycle",
   "metadata": {
    "execution": {
     "iopub.execute_input": "2021-04-30T12:11:43.862618Z",
     "iopub.status.busy": "2021-04-30T12:11:43.861894Z",
     "iopub.status.idle": "2021-04-30T12:11:43.864389Z",
     "shell.execute_reply": "2021-04-30T12:11:43.863855Z"
    },
    "papermill": {
     "duration": 0.043445,
     "end_time": "2021-04-30T12:11:43.864507",
     "exception": false,
     "start_time": "2021-04-30T12:11:43.821062",
     "status": "completed"
    },
    "tags": []
   },
   "outputs": [],
   "source": [
    "#hide\n",
    "# cols = ['name','group','day','value']"
   ]
  },
  {
   "cell_type": "code",
   "execution_count": 37,
   "id": "continued-sleeping",
   "metadata": {
    "execution": {
     "iopub.execute_input": "2021-04-30T12:11:43.944473Z",
     "iopub.status.busy": "2021-04-30T12:11:43.943835Z",
     "iopub.status.idle": "2021-04-30T12:11:43.945836Z",
     "shell.execute_reply": "2021-04-30T12:11:43.946341Z"
    },
    "papermill": {
     "duration": 0.04344,
     "end_time": "2021-04-30T12:11:43.946481",
     "exception": false,
     "start_time": "2021-04-30T12:11:43.903041",
     "status": "completed"
    },
    "tags": []
   },
   "outputs": [],
   "source": [
    "#hide\n",
    "# g.rename(columns= {'date':'day'},inplace = True)"
   ]
  },
  {
   "cell_type": "code",
   "execution_count": 38,
   "id": "major-fight",
   "metadata": {
    "execution": {
     "iopub.execute_input": "2021-04-30T12:11:44.032712Z",
     "iopub.status.busy": "2021-04-30T12:11:44.032026Z",
     "iopub.status.idle": "2021-04-30T12:11:44.034649Z",
     "shell.execute_reply": "2021-04-30T12:11:44.034116Z"
    },
    "papermill": {
     "duration": 0.04385,
     "end_time": "2021-04-30T12:11:44.034769",
     "exception": false,
     "start_time": "2021-04-30T12:11:43.990919",
     "status": "completed"
    },
    "tags": []
   },
   "outputs": [],
   "source": [
    "#hide\n",
    "# g = g[cols]"
   ]
  },
  {
   "cell_type": "code",
   "execution_count": 39,
   "id": "structured-mobile",
   "metadata": {
    "execution": {
     "iopub.execute_input": "2021-04-30T12:11:44.115252Z",
     "iopub.status.busy": "2021-04-30T12:11:44.114597Z",
     "iopub.status.idle": "2021-04-30T12:11:44.117124Z",
     "shell.execute_reply": "2021-04-30T12:11:44.116589Z"
    },
    "papermill": {
     "duration": 0.043865,
     "end_time": "2021-04-30T12:11:44.117244",
     "exception": false,
     "start_time": "2021-04-30T12:11:44.073379",
     "status": "completed"
    },
    "tags": []
   },
   "outputs": [],
   "source": [
    "# #hide\n",
    "# g = g[g.group.notna()]"
   ]
  },
  {
   "cell_type": "code",
   "execution_count": 40,
   "id": "determined-closing",
   "metadata": {
    "execution": {
     "iopub.execute_input": "2021-04-30T12:11:44.200513Z",
     "iopub.status.busy": "2021-04-30T12:11:44.199855Z",
     "iopub.status.idle": "2021-04-30T12:11:44.202226Z",
     "shell.execute_reply": "2021-04-30T12:11:44.201600Z"
    },
    "papermill": {
     "duration": 0.043692,
     "end_time": "2021-04-30T12:11:44.202350",
     "exception": false,
     "start_time": "2021-04-30T12:11:44.158658",
     "status": "completed"
    },
    "tags": []
   },
   "outputs": [],
   "source": [
    "# #hide\n",
    "# colors = dict(zip(\n",
    "#     [\"Oceania\", \"Europe\", \"Asia\", \"South America\", \"Middle East\", \"North America\", \"Africa\"],\n",
    "#     [\"#adb0ff\", \"#ffb3ff\", \"#90d595\", \"#e48381\", \"#aafbff\", \"#f7bb5f\", \"#eafb50\"]\n",
    "# ))\n",
    "# group_lk = g.set_index('name')['group'].to_dict()"
   ]
  },
  {
   "cell_type": "code",
   "execution_count": null,
   "id": "gross-drinking",
   "metadata": {
    "papermill": {
     "duration": 0.038245,
     "end_time": "2021-04-30T12:11:44.283542",
     "exception": false,
     "start_time": "2021-04-30T12:11:44.245297",
     "status": "completed"
    },
    "tags": []
   },
   "outputs": [],
   "source": []
  },
  {
   "cell_type": "code",
   "execution_count": 41,
   "id": "subject-macintosh",
   "metadata": {
    "execution": {
     "iopub.execute_input": "2021-04-30T12:11:44.364615Z",
     "iopub.status.busy": "2021-04-30T12:11:44.363957Z",
     "iopub.status.idle": "2021-04-30T12:11:44.366286Z",
     "shell.execute_reply": "2021-04-30T12:11:44.366785Z"
    },
    "papermill": {
     "duration": 0.045014,
     "end_time": "2021-04-30T12:11:44.366926",
     "exception": false,
     "start_time": "2021-04-30T12:11:44.321912",
     "status": "completed"
    },
    "tags": []
   },
   "outputs": [],
   "source": [
    "# #hide\n",
    "# fig, ax = plt.subplots(figsize=(15, 8))\n",
    "\n",
    "# def draw_barchart(current_day):\n",
    "#     dff = g[g['day'].eq(current_day)].sort_values(by='value', ascending=True).tail(10)\n",
    "#     ax.clear()\n",
    "#     ax.barh(dff['name'], dff['value'], color=[colors[group_lk[x]] for x in dff['name']])\n",
    "#     dx = dff['value'].max() / 200\n",
    "    \n",
    "#     for i, (value, name) in enumerate(zip(dff['value'], dff['name'])):\n",
    "#         ax.text(value-dx, i,     name,           size=14, weight=600, ha='right', va='bottom')\n",
    "#         ax.text(value-dx, i-.25, group_lk[name], size=10, color='#444444', ha='right', va='baseline')\n",
    "#         ax.text(value+dx, i,     f'{value:,.0f}',  size=14, ha='left',  va='center')\n",
    "#     ax.text(1, 0.4, current_day, transform=ax.transAxes, color='#777777', size=46, ha='right', weight=800)\n",
    "#     ax.text(0, 1.06, 'Population (thousands)', transform=ax.transAxes, size=12, color='#777777')\n",
    "#     ax.xaxis.set_major_formatter(ticker.StrMethodFormatter('{x:,.0f}'))\n",
    "#     ax.xaxis.set_ticks_position('top')\n",
    "#     ax.tick_params(axis='x', colors='#777777', labelsize=12)\n",
    "#     ax.set_yticks([])\n",
    "#     ax.margins(0, 0.01)\n",
    "#     ax.grid(which='major', axis='x', linestyle='-')\n",
    "#     ax.set_axisbelow(True)\n",
    "    \n",
    "#     ax.text(0, 1.15, 'Coronavirus',\n",
    "#             transform=ax.transAxes, size=24, weight=600, ha='left', va='top')\n",
    "# #     ax.text(1, 0, 'by @pratapvardhan; credit @jburnmurdoch', transform=ax.transAxes, color='#777777', ha='right',\n",
    "# #             bbox=dict(facecolor='white', alpha=0.8, edgecolor='white'))\n",
    "#     plt.box(False)"
   ]
  },
  {
   "cell_type": "code",
   "execution_count": 42,
   "id": "sexual-wages",
   "metadata": {
    "execution": {
     "iopub.execute_input": "2021-04-30T12:11:44.446943Z",
     "iopub.status.busy": "2021-04-30T12:11:44.446311Z",
     "iopub.status.idle": "2021-04-30T12:11:44.448312Z",
     "shell.execute_reply": "2021-04-30T12:11:44.448858Z"
    },
    "papermill": {
     "duration": 0.043644,
     "end_time": "2021-04-30T12:11:44.448991",
     "exception": false,
     "start_time": "2021-04-30T12:11:44.405347",
     "status": "completed"
    },
    "tags": []
   },
   "outputs": [],
   "source": [
    "# #hide_input\n",
    "# fig, ax = plt.subplots(figsize=(15, 8))\n",
    "# animator = animation.FuncAnimation(fig, draw_barchart, frames=range(g.day.values.min(), g.day.values.max()))\n",
    "# HTML(animator.to_jshtml())\n",
    "# # or use animator.to_html5_video() or animator.save() "
   ]
  },
  {
   "cell_type": "code",
   "execution_count": null,
   "id": "australian-container",
   "metadata": {
    "papermill": {
     "duration": 0.038234,
     "end_time": "2021-04-30T12:11:44.525861",
     "exception": false,
     "start_time": "2021-04-30T12:11:44.487627",
     "status": "completed"
    },
    "tags": []
   },
   "outputs": [],
   "source": []
  },
  {
   "cell_type": "code",
   "execution_count": null,
   "id": "mediterranean-pontiac",
   "metadata": {
    "papermill": {
     "duration": 0.038451,
     "end_time": "2021-04-30T12:11:44.606400",
     "exception": false,
     "start_time": "2021-04-30T12:11:44.567949",
     "status": "completed"
    },
    "tags": []
   },
   "outputs": [],
   "source": []
  },
  {
   "cell_type": "code",
   "execution_count": null,
   "id": "aging-legislature",
   "metadata": {
    "papermill": {
     "duration": 0.038141,
     "end_time": "2021-04-30T12:11:44.682777",
     "exception": false,
     "start_time": "2021-04-30T12:11:44.644636",
     "status": "completed"
    },
    "tags": []
   },
   "outputs": [],
   "source": []
  }
 ],
 "metadata": {
  "kernelspec": {
   "display_name": "Python 3",
   "language": "python",
   "name": "python3"
  },
  "language_info": {
   "codemirror_mode": {
    "name": "ipython",
    "version": 3
   },
   "file_extension": ".py",
   "mimetype": "text/x-python",
   "name": "python",
   "nbconvert_exporter": "python",
   "pygments_lexer": "ipython3",
   "version": "3.6.13"
  },
  "papermill": {
   "duration": 6.821146,
   "end_time": "2021-04-30T12:11:45.028225",
   "environment_variables": {},
   "exception": null,
   "input_path": "2020-03-21-covid19exp.ipynb",
   "output_path": "2020-03-21-covid19exp.ipynb",
   "parameters": {},
   "start_time": "2021-04-30T12:11:38.207079",
   "version": "2.0.0"
  }
 },
 "nbformat": 4,
 "nbformat_minor": 5
}