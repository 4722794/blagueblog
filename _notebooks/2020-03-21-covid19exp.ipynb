{
 "cells": [
  {
   "cell_type": "markdown",
   "id": "muslim-click",
   "metadata": {
    "papermill": {
     "duration": 0.034369,
     "end_time": "2021-11-16T12:12:16.038046",
     "exception": false,
     "start_time": "2021-11-16T12:12:16.003677",
     "status": "completed"
    },
    "tags": []
   },
   "source": [
    "# COVID-19 Case Race\n",
    "> A race chart to see rising cases around the world\n",
    "\n",
    "- author: Hargun Oberoi\n",
    "- image: images/covid-overview.png\n",
    "- hide: false\n",
    "- badges: false"
   ]
  },
  {
   "cell_type": "code",
   "execution_count": 1,
   "id": "proof-material",
   "metadata": {
    "execution": {
     "iopub.execute_input": "2021-11-16T12:12:16.107455Z",
     "iopub.status.busy": "2021-11-16T12:12:16.106932Z",
     "iopub.status.idle": "2021-11-16T12:12:16.423970Z",
     "shell.execute_reply": "2021-11-16T12:12:16.423415Z"
    },
    "papermill": {
     "duration": 0.35589,
     "end_time": "2021-11-16T12:12:16.424131",
     "exception": false,
     "start_time": "2021-11-16T12:12:16.068241",
     "status": "completed"
    },
    "tags": []
   },
   "outputs": [],
   "source": [
    "#hide\n",
    "import numpy as np\n",
    "import pandas as pd\n",
    "from jinja2 import Template\n",
    "from IPython.display import HTML"
   ]
  },
  {
   "cell_type": "code",
   "execution_count": 2,
   "id": "developed-terminology",
   "metadata": {
    "execution": {
     "iopub.execute_input": "2021-11-16T12:12:16.489854Z",
     "iopub.status.busy": "2021-11-16T12:12:16.489309Z",
     "iopub.status.idle": "2021-11-16T12:12:16.491321Z",
     "shell.execute_reply": "2021-11-16T12:12:16.490822Z"
    },
    "papermill": {
     "duration": 0.036217,
     "end_time": "2021-11-16T12:12:16.491429",
     "exception": false,
     "start_time": "2021-11-16T12:12:16.455212",
     "status": "completed"
    },
    "tags": []
   },
   "outputs": [],
   "source": [
    "#hide\n",
    "\n",
    "# FETCH\n",
    "base_url = 'https://raw.githubusercontent.com/pratapvardhan/notebooks/master/covid19/'\n",
    "paths = {\n",
    "    'mapping': base_url + 'mapping_countries.csv',\n",
    "    'overview': base_url + 'overview.tpl'\n",
    "}"
   ]
  },
  {
   "cell_type": "code",
   "execution_count": 3,
   "id": "dynamic-saver",
   "metadata": {
    "execution": {
     "iopub.execute_input": "2021-11-16T12:12:16.560146Z",
     "iopub.status.busy": "2021-11-16T12:12:16.559592Z",
     "iopub.status.idle": "2021-11-16T12:12:16.562366Z",
     "shell.execute_reply": "2021-11-16T12:12:16.561943Z"
    },
    "papermill": {
     "duration": 0.041627,
     "end_time": "2021-11-16T12:12:16.562470",
     "exception": false,
     "start_time": "2021-11-16T12:12:16.520843",
     "status": "completed"
    },
    "tags": []
   },
   "outputs": [
    {
     "data": {
      "text/plain": [
       "'https://raw.githubusercontent.com/pratapvardhan/notebooks/master/covid19/mapping_countries.csv'"
      ]
     },
     "execution_count": 3,
     "metadata": {},
     "output_type": "execute_result"
    }
   ],
   "source": [
    "#hide\n",
    "paths['mapping']"
   ]
  },
  {
   "cell_type": "code",
   "execution_count": 4,
   "id": "urban-software",
   "metadata": {
    "execution": {
     "iopub.execute_input": "2021-11-16T12:12:16.626472Z",
     "iopub.status.busy": "2021-11-16T12:12:16.625971Z",
     "iopub.status.idle": "2021-11-16T12:12:16.628050Z",
     "shell.execute_reply": "2021-11-16T12:12:16.628536Z"
    },
    "papermill": {
     "duration": 0.036407,
     "end_time": "2021-11-16T12:12:16.628660",
     "exception": false,
     "start_time": "2021-11-16T12:12:16.592253",
     "status": "completed"
    },
    "tags": []
   },
   "outputs": [],
   "source": [
    "#hide\n",
    "def get_mappings(url):\n",
    "    df = pd.read_csv(url)\n",
    "    return {\n",
    "        'df': df,\n",
    "        'replace.country': dict(df.dropna(subset=['Name']).set_index('Country')['Name']),\n",
    "        'map.continent': dict(df.set_index('Name')['Continent'])\n",
    "    }"
   ]
  },
  {
   "cell_type": "code",
   "execution_count": 5,
   "id": "intimate-machinery",
   "metadata": {
    "execution": {
     "iopub.execute_input": "2021-11-16T12:12:16.695078Z",
     "iopub.status.busy": "2021-11-16T12:12:16.694572Z",
     "iopub.status.idle": "2021-11-16T12:12:16.721622Z",
     "shell.execute_reply": "2021-11-16T12:12:16.722042Z"
    },
    "papermill": {
     "duration": 0.06234,
     "end_time": "2021-11-16T12:12:16.722170",
     "exception": false,
     "start_time": "2021-11-16T12:12:16.659830",
     "status": "completed"
    },
    "tags": []
   },
   "outputs": [],
   "source": [
    "#hide\n",
    "mapping = get_mappings(paths['mapping'])"
   ]
  },
  {
   "cell_type": "code",
   "execution_count": 6,
   "id": "certified-tactics",
   "metadata": {
    "execution": {
     "iopub.execute_input": "2021-11-16T12:12:16.788203Z",
     "iopub.status.busy": "2021-11-16T12:12:16.787647Z",
     "iopub.status.idle": "2021-11-16T12:12:16.789750Z",
     "shell.execute_reply": "2021-11-16T12:12:16.790161Z"
    },
    "papermill": {
     "duration": 0.037951,
     "end_time": "2021-11-16T12:12:16.790289",
     "exception": false,
     "start_time": "2021-11-16T12:12:16.752338",
     "status": "completed"
    },
    "tags": []
   },
   "outputs": [],
   "source": [
    "#hide\n",
    "def get_template(path):\n",
    "    from urllib.parse import urlparse\n",
    "    if bool(urlparse(path).netloc):\n",
    "        from urllib.request import urlopen\n",
    "        return urlopen(path).read().decode('utf8')\n",
    "    return open(path).read()"
   ]
  },
  {
   "cell_type": "code",
   "execution_count": 7,
   "id": "realistic-blast",
   "metadata": {
    "execution": {
     "iopub.execute_input": "2021-11-16T12:12:16.855158Z",
     "iopub.status.busy": "2021-11-16T12:12:16.854646Z",
     "iopub.status.idle": "2021-11-16T12:12:16.857052Z",
     "shell.execute_reply": "2021-11-16T12:12:16.856624Z"
    },
    "papermill": {
     "duration": 0.036942,
     "end_time": "2021-11-16T12:12:16.857161",
     "exception": false,
     "start_time": "2021-11-16T12:12:16.820219",
     "status": "completed"
    },
    "tags": []
   },
   "outputs": [],
   "source": [
    "#hide\n",
    "def get_frame(name):\n",
    "    url = (\n",
    "        'https://raw.githubusercontent.com/CSSEGISandData/COVID-19/master/csse_covid_19_data/'\n",
    "        f'csse_covid_19_time_series/time_series_covid19_{name}_global.csv')\n",
    "    df = pd.read_csv(url)\n",
    "    # rename countries\n",
    "    df['Country/Region'] = df['Country/Region'].replace(mapping['replace.country'])\n",
    "    return df"
   ]
  },
  {
   "cell_type": "code",
   "execution_count": 8,
   "id": "affiliated-characterization",
   "metadata": {
    "execution": {
     "iopub.execute_input": "2021-11-16T12:12:16.923614Z",
     "iopub.status.busy": "2021-11-16T12:12:16.923095Z",
     "iopub.status.idle": "2021-11-16T12:12:16.925282Z",
     "shell.execute_reply": "2021-11-16T12:12:16.925664Z"
    },
    "papermill": {
     "duration": 0.038571,
     "end_time": "2021-11-16T12:12:16.925797",
     "exception": false,
     "start_time": "2021-11-16T12:12:16.887226",
     "status": "completed"
    },
    "tags": []
   },
   "outputs": [],
   "source": [
    "#hide\n",
    "def get_dates(df):\n",
    "    dt_cols = df.columns[~df.columns.isin(['Province/State', 'Country/Region', 'Lat', 'Long'])]\n",
    "    LAST_DATE_I = -1\n",
    "    # sometimes last column may be empty, then go backwards\n",
    "    for i in range(-1, -len(dt_cols), -1):\n",
    "        if not df[dt_cols[i]].fillna(0).eq(0).all():\n",
    "            LAST_DATE_I = i\n",
    "            break\n",
    "    return LAST_DATE_I, dt_cols"
   ]
  },
  {
   "cell_type": "code",
   "execution_count": 9,
   "id": "recent-optimization",
   "metadata": {
    "execution": {
     "iopub.execute_input": "2021-11-16T12:12:16.990177Z",
     "iopub.status.busy": "2021-11-16T12:12:16.989643Z",
     "iopub.status.idle": "2021-11-16T12:12:17.286493Z",
     "shell.execute_reply": "2021-11-16T12:12:17.285595Z"
    },
    "papermill": {
     "duration": 0.331022,
     "end_time": "2021-11-16T12:12:17.286635",
     "exception": false,
     "start_time": "2021-11-16T12:12:16.955613",
     "status": "completed"
    },
    "tags": []
   },
   "outputs": [],
   "source": [
    "#hide\n",
    "COL_REGION = 'Country/Region'\n",
    "# Confirmed, Recovered, Deaths\n",
    "df = get_frame('confirmed')\n",
    "# dft_: timeseries, dfc_: today country agg\n",
    "dft_cases = df\n",
    "dft_deaths = get_frame('deaths')\n",
    "dft_recovered = get_frame('recovered')\n",
    "LAST_DATE_I, dt_cols = get_dates(df)"
   ]
  },
  {
   "cell_type": "code",
   "execution_count": 10,
   "id": "absolute-copper",
   "metadata": {
    "execution": {
     "iopub.execute_input": "2021-11-16T12:12:17.352802Z",
     "iopub.status.busy": "2021-11-16T12:12:17.352242Z",
     "iopub.status.idle": "2021-11-16T12:12:17.353855Z",
     "shell.execute_reply": "2021-11-16T12:12:17.354237Z"
    },
    "papermill": {
     "duration": 0.036797,
     "end_time": "2021-11-16T12:12:17.354360",
     "exception": false,
     "start_time": "2021-11-16T12:12:17.317563",
     "status": "completed"
    },
    "tags": []
   },
   "outputs": [],
   "source": [
    "#hide\n",
    "LAST_DATE_I, dt_cols = get_dates(df)\n",
    "dt_today =dt_cols[LAST_DATE_I]\n",
    "# dt_5day = dt_cols[LAST_DATE_I - 5]\n",
    "dt_yday = dt_cols[LAST_DATE_I - 1]"
   ]
  },
  {
   "cell_type": "code",
   "execution_count": 11,
   "id": "restricted-sheriff",
   "metadata": {
    "execution": {
     "iopub.execute_input": "2021-11-16T12:12:17.419472Z",
     "iopub.status.busy": "2021-11-16T12:12:17.418967Z",
     "iopub.status.idle": "2021-11-16T12:12:17.426045Z",
     "shell.execute_reply": "2021-11-16T12:12:17.425640Z"
    },
    "papermill": {
     "duration": 0.042147,
     "end_time": "2021-11-16T12:12:17.426156",
     "exception": false,
     "start_time": "2021-11-16T12:12:17.384009",
     "status": "completed"
    },
    "tags": []
   },
   "outputs": [],
   "source": [
    "#hide\n",
    "dfc_cases = dft_cases.groupby(COL_REGION)[dt_today].sum()\n",
    "dfc_deaths = dft_deaths.groupby(COL_REGION)[dt_today].sum()\n",
    "# dfp_cases = dft_cases.groupby(COL_REGION)[dt_5day].sum()\n",
    "# dfp_deaths = dft_deaths.groupby(COL_REGION)[dt_5day].sum()\n",
    "dfp_cases = dft_cases.groupby(COL_REGION)[dt_yday].sum()\n",
    "dfp_deaths = dft_deaths.groupby(COL_REGION)[dt_yday].sum()"
   ]
  },
  {
   "cell_type": "code",
   "execution_count": 12,
   "id": "deluxe-hepatitis",
   "metadata": {
    "execution": {
     "iopub.execute_input": "2021-11-16T12:12:17.492483Z",
     "iopub.status.busy": "2021-11-16T12:12:17.491957Z",
     "iopub.status.idle": "2021-11-16T12:12:17.496199Z",
     "shell.execute_reply": "2021-11-16T12:12:17.496679Z"
    },
    "papermill": {
     "duration": 0.040683,
     "end_time": "2021-11-16T12:12:17.496803",
     "exception": false,
     "start_time": "2021-11-16T12:12:17.456120",
     "status": "completed"
    },
    "tags": []
   },
   "outputs": [],
   "source": [
    "#hide\n",
    "df_table = (pd.DataFrame(dict(Cases = dfc_cases, Deaths = dfc_deaths, PCases = dfp_cases, PDeaths = dfp_deaths))\n",
    "            .sort_values(by = ['Cases','Deaths'], ascending = [False, False])\n",
    "            .reset_index())"
   ]
  },
  {
   "cell_type": "code",
   "execution_count": 13,
   "id": "educational-chancellor",
   "metadata": {
    "execution": {
     "iopub.execute_input": "2021-11-16T12:12:17.566906Z",
     "iopub.status.busy": "2021-11-16T12:12:17.566306Z",
     "iopub.status.idle": "2021-11-16T12:12:17.581802Z",
     "shell.execute_reply": "2021-11-16T12:12:17.581387Z"
    },
    "papermill": {
     "duration": 0.055389,
     "end_time": "2021-11-16T12:12:17.581919",
     "exception": false,
     "start_time": "2021-11-16T12:12:17.526530",
     "status": "completed"
    },
    "tags": []
   },
   "outputs": [
    {
     "data": {
      "text/html": [
       "<div>\n",
       "<style scoped>\n",
       "    .dataframe tbody tr th:only-of-type {\n",
       "        vertical-align: middle;\n",
       "    }\n",
       "\n",
       "    .dataframe tbody tr th {\n",
       "        vertical-align: top;\n",
       "    }\n",
       "\n",
       "    .dataframe thead th {\n",
       "        text-align: right;\n",
       "    }\n",
       "</style>\n",
       "<table border=\"1\" class=\"dataframe\">\n",
       "  <thead>\n",
       "    <tr style=\"text-align: right;\">\n",
       "      <th></th>\n",
       "      <th>Country/Region</th>\n",
       "      <th>Cases</th>\n",
       "      <th>Deaths</th>\n",
       "      <th>PCases</th>\n",
       "      <th>PDeaths</th>\n",
       "      <th>Cases (+)</th>\n",
       "      <th>Deaths (+)</th>\n",
       "      <th>Fatality Rate</th>\n",
       "      <th>Continent</th>\n",
       "    </tr>\n",
       "  </thead>\n",
       "  <tbody>\n",
       "    <tr>\n",
       "      <th>0</th>\n",
       "      <td>US</td>\n",
       "      <td>47221549</td>\n",
       "      <td>764363</td>\n",
       "      <td>47077864</td>\n",
       "      <td>763092</td>\n",
       "      <td>143685</td>\n",
       "      <td>1271</td>\n",
       "      <td>1.62</td>\n",
       "      <td>North America</td>\n",
       "    </tr>\n",
       "    <tr>\n",
       "      <th>1</th>\n",
       "      <td>India</td>\n",
       "      <td>34456401</td>\n",
       "      <td>463852</td>\n",
       "      <td>34447536</td>\n",
       "      <td>463655</td>\n",
       "      <td>8865</td>\n",
       "      <td>197</td>\n",
       "      <td>1.35</td>\n",
       "      <td>Asia</td>\n",
       "    </tr>\n",
       "    <tr>\n",
       "      <th>2</th>\n",
       "      <td>Brazil</td>\n",
       "      <td>21960766</td>\n",
       "      <td>611346</td>\n",
       "      <td>21957967</td>\n",
       "      <td>611283</td>\n",
       "      <td>2799</td>\n",
       "      <td>63</td>\n",
       "      <td>2.78</td>\n",
       "      <td>South America</td>\n",
       "    </tr>\n",
       "    <tr>\n",
       "      <th>3</th>\n",
       "      <td>United Kingdom</td>\n",
       "      <td>9649233</td>\n",
       "      <td>143384</td>\n",
       "      <td>9608568</td>\n",
       "      <td>143337</td>\n",
       "      <td>40665</td>\n",
       "      <td>47</td>\n",
       "      <td>1.49</td>\n",
       "      <td>Europe</td>\n",
       "    </tr>\n",
       "    <tr>\n",
       "      <th>4</th>\n",
       "      <td>Russia</td>\n",
       "      <td>8956136</td>\n",
       "      <td>251796</td>\n",
       "      <td>8918926</td>\n",
       "      <td>250609</td>\n",
       "      <td>37210</td>\n",
       "      <td>1187</td>\n",
       "      <td>2.81</td>\n",
       "      <td>Europe</td>\n",
       "    </tr>\n",
       "  </tbody>\n",
       "</table>\n",
       "</div>"
      ],
      "text/plain": [
       "   Country/Region     Cases  Deaths    PCases  PDeaths  Cases (+)  Deaths (+)  \\\n",
       "0              US  47221549  764363  47077864   763092     143685        1271   \n",
       "1           India  34456401  463852  34447536   463655       8865         197   \n",
       "2          Brazil  21960766  611346  21957967   611283       2799          63   \n",
       "3  United Kingdom   9649233  143384   9608568   143337      40665          47   \n",
       "4          Russia   8956136  251796   8918926   250609      37210        1187   \n",
       "\n",
       "   Fatality Rate      Continent  \n",
       "0           1.62  North America  \n",
       "1           1.35           Asia  \n",
       "2           2.78  South America  \n",
       "3           1.49         Europe  \n",
       "4           2.81         Europe  "
      ]
     },
     "execution_count": 13,
     "metadata": {},
     "output_type": "execute_result"
    }
   ],
   "source": [
    "#hide\n",
    "for c in 'Cases, Deaths'.split(', '):\n",
    "    df_table[f'{c} (+)'] = (df_table[c] - df_table[f'P{c}']).clip(0)\n",
    "    #Clip ça veut dire, les chiffres negatif sont interdit\n",
    "df_table['Fatality Rate'] = (100* df_table['Deaths']/ df_table['Cases']).round(2)\n",
    "df_table['Continent'] = df_table['Country/Region'].map(mapping['map.continent'])\n",
    "df_table.head(5)"
   ]
  },
  {
   "cell_type": "code",
   "execution_count": 14,
   "id": "aboriginal-bulgaria",
   "metadata": {
    "execution": {
     "iopub.execute_input": "2021-11-16T12:12:17.649137Z",
     "iopub.status.busy": "2021-11-16T12:12:17.648623Z",
     "iopub.status.idle": "2021-11-16T12:12:17.650978Z",
     "shell.execute_reply": "2021-11-16T12:12:17.650550Z"
    },
    "papermill": {
     "duration": 0.038669,
     "end_time": "2021-11-16T12:12:17.651088",
     "exception": false,
     "start_time": "2021-11-16T12:12:17.612419",
     "status": "completed"
    },
    "tags": []
   },
   "outputs": [],
   "source": [
    "#hide\n",
    "#delete problematic countries from table\n",
    "df_table = df_table[~df_table['Country/Region'].isin(['Cape Verde', 'Cruise Ship', 'Kosovo'])]"
   ]
  },
  {
   "cell_type": "code",
   "execution_count": 15,
   "id": "fantastic-effect",
   "metadata": {
    "execution": {
     "iopub.execute_input": "2021-11-16T12:12:17.720044Z",
     "iopub.status.busy": "2021-11-16T12:12:17.719487Z",
     "iopub.status.idle": "2021-11-16T12:12:17.736694Z",
     "shell.execute_reply": "2021-11-16T12:12:17.736285Z"
    },
    "papermill": {
     "duration": 0.055484,
     "end_time": "2021-11-16T12:12:17.736808",
     "exception": false,
     "start_time": "2021-11-16T12:12:17.681324",
     "status": "completed"
    },
    "tags": []
   },
   "outputs": [
    {
     "data": {
      "text/html": [
       "<div>\n",
       "<style scoped>\n",
       "    .dataframe tbody tr th:only-of-type {\n",
       "        vertical-align: middle;\n",
       "    }\n",
       "\n",
       "    .dataframe tbody tr th {\n",
       "        vertical-align: top;\n",
       "    }\n",
       "\n",
       "    .dataframe thead th {\n",
       "        text-align: right;\n",
       "    }\n",
       "</style>\n",
       "<table border=\"1\" class=\"dataframe\">\n",
       "  <thead>\n",
       "    <tr style=\"text-align: right;\">\n",
       "      <th></th>\n",
       "      <th>Country/Region</th>\n",
       "      <th>Cases</th>\n",
       "      <th>Deaths</th>\n",
       "      <th>PCases</th>\n",
       "      <th>PDeaths</th>\n",
       "      <th>Cases (+)</th>\n",
       "      <th>Deaths (+)</th>\n",
       "      <th>Fatality Rate</th>\n",
       "      <th>Continent</th>\n",
       "    </tr>\n",
       "  </thead>\n",
       "  <tbody>\n",
       "    <tr>\n",
       "      <th>0</th>\n",
       "      <td>US</td>\n",
       "      <td>47221549</td>\n",
       "      <td>764363</td>\n",
       "      <td>47077864</td>\n",
       "      <td>763092</td>\n",
       "      <td>143685</td>\n",
       "      <td>1271</td>\n",
       "      <td>1.6</td>\n",
       "      <td>North America</td>\n",
       "    </tr>\n",
       "    <tr>\n",
       "      <th>1</th>\n",
       "      <td>India</td>\n",
       "      <td>34456401</td>\n",
       "      <td>463852</td>\n",
       "      <td>34447536</td>\n",
       "      <td>463655</td>\n",
       "      <td>8865</td>\n",
       "      <td>197</td>\n",
       "      <td>1.3</td>\n",
       "      <td>Asia</td>\n",
       "    </tr>\n",
       "    <tr>\n",
       "      <th>2</th>\n",
       "      <td>Brazil</td>\n",
       "      <td>21960766</td>\n",
       "      <td>611346</td>\n",
       "      <td>21957967</td>\n",
       "      <td>611283</td>\n",
       "      <td>2799</td>\n",
       "      <td>63</td>\n",
       "      <td>2.8</td>\n",
       "      <td>South America</td>\n",
       "    </tr>\n",
       "    <tr>\n",
       "      <th>3</th>\n",
       "      <td>United Kingdom</td>\n",
       "      <td>9649233</td>\n",
       "      <td>143384</td>\n",
       "      <td>9608568</td>\n",
       "      <td>143337</td>\n",
       "      <td>40665</td>\n",
       "      <td>47</td>\n",
       "      <td>1.5</td>\n",
       "      <td>Europe</td>\n",
       "    </tr>\n",
       "    <tr>\n",
       "      <th>4</th>\n",
       "      <td>Russia</td>\n",
       "      <td>8956136</td>\n",
       "      <td>251796</td>\n",
       "      <td>8918926</td>\n",
       "      <td>250609</td>\n",
       "      <td>37210</td>\n",
       "      <td>1187</td>\n",
       "      <td>2.8</td>\n",
       "      <td>Europe</td>\n",
       "    </tr>\n",
       "  </tbody>\n",
       "</table>\n",
       "</div>"
      ],
      "text/plain": [
       "   Country/Region     Cases  Deaths    PCases  PDeaths  Cases (+)  Deaths (+)  \\\n",
       "0              US  47221549  764363  47077864   763092     143685        1271   \n",
       "1           India  34456401  463852  34447536   463655       8865         197   \n",
       "2          Brazil  21960766  611346  21957967   611283       2799          63   \n",
       "3  United Kingdom   9649233  143384   9608568   143337      40665          47   \n",
       "4          Russia   8956136  251796   8918926   250609      37210        1187   \n",
       "\n",
       "   Fatality Rate      Continent  \n",
       "0            1.6  North America  \n",
       "1            1.3           Asia  \n",
       "2            2.8  South America  \n",
       "3            1.5         Europe  \n",
       "4            2.8         Europe  "
      ]
     },
     "execution_count": 15,
     "metadata": {},
     "output_type": "execute_result"
    }
   ],
   "source": [
    "#hide\n",
    "df_table = (pd.DataFrame(dict(Cases=dfc_cases, Deaths=dfc_deaths, PCases=dfp_cases, PDeaths=dfp_deaths))\n",
    "             .sort_values(by=['Cases', 'Deaths'], ascending=[False, False])\n",
    "             .reset_index())\n",
    "df_table.rename(columns={'index': 'Country/Region'}, inplace=True)\n",
    "for c in 'Cases, Deaths'.split(', '):\n",
    "    df_table[f'{c} (+)'] = (df_table[c] - df_table[f'P{c}']).clip(0)  # DATA BUG\n",
    "df_table['Fatality Rate'] = (100 * df_table['Deaths'] / df_table['Cases']).round(1)\n",
    "df_table['Continent'] = df_table['Country/Region'].map(mapping['map.continent'])\n",
    "df_table.head(5)"
   ]
  },
  {
   "cell_type": "code",
   "execution_count": 16,
   "id": "fewer-occasion",
   "metadata": {
    "execution": {
     "iopub.execute_input": "2021-11-16T12:12:17.803759Z",
     "iopub.status.busy": "2021-11-16T12:12:17.803248Z",
     "iopub.status.idle": "2021-11-16T12:12:17.805883Z",
     "shell.execute_reply": "2021-11-16T12:12:17.806365Z"
    },
    "papermill": {
     "duration": 0.038813,
     "end_time": "2021-11-16T12:12:17.806493",
     "exception": false,
     "start_time": "2021-11-16T12:12:17.767680",
     "status": "completed"
    },
    "tags": []
   },
   "outputs": [],
   "source": [
    "#hide\n",
    "#delete problematic countries from table\n",
    "df_table = df_table[~df_table['Country/Region'].isin(['Cape Verde', 'Cruise Ship', 'Kosovo'])]"
   ]
  },
  {
   "cell_type": "code",
   "execution_count": 17,
   "id": "related-center",
   "metadata": {
    "execution": {
     "iopub.execute_input": "2021-11-16T12:12:17.873824Z",
     "iopub.status.busy": "2021-11-16T12:12:17.873211Z",
     "iopub.status.idle": "2021-11-16T12:12:17.886171Z",
     "shell.execute_reply": "2021-11-16T12:12:17.885766Z"
    },
    "papermill": {
     "duration": 0.049394,
     "end_time": "2021-11-16T12:12:17.886281",
     "exception": false,
     "start_time": "2021-11-16T12:12:17.836887",
     "status": "completed"
    },
    "tags": []
   },
   "outputs": [],
   "source": [
    "#hide\n",
    "metrics = [df_table.columns[index] for index in [1,2,5,6]]\n",
    "# s_china = df_table[df_table['Country/Region'].eq('China')][metrics].sum().add_prefix('China ')\n",
    "s_us = df_table[df_table['Country/Region'].eq('US')][metrics].sum().add_prefix('US ')\n",
    "s_eu = df_table[df_table['Continent'].eq('Europe')][metrics].sum().add_prefix('EU ')\n",
    "s_ind = df_table[df_table['Country/Region'].eq('India')][metrics].sum().add_prefix('India ')\n",
    "summary = {'updated': pd.to_datetime(dt_today), 'since': pd.to_datetime(dt_yday)}\n",
    "summary = {'updated': pd.to_datetime(dt_today), 'since': pd.to_datetime(dt_yday)}\n",
    "summary = {**summary, **df_table[metrics].sum(), **s_ind, **s_us, **s_eu}"
   ]
  },
  {
   "cell_type": "code",
   "execution_count": 18,
   "id": "engaging-syndrome",
   "metadata": {
    "execution": {
     "iopub.execute_input": "2021-11-16T12:12:17.952573Z",
     "iopub.status.busy": "2021-11-16T12:12:17.952053Z",
     "iopub.status.idle": "2021-11-16T12:12:17.965627Z",
     "shell.execute_reply": "2021-11-16T12:12:17.965218Z"
    },
    "papermill": {
     "duration": 0.048731,
     "end_time": "2021-11-16T12:12:17.965739",
     "exception": false,
     "start_time": "2021-11-16T12:12:17.917008",
     "status": "completed"
    },
    "tags": []
   },
   "outputs": [],
   "source": [
    "#hide\n",
    "dft_ct_new_cases = dft_cases.groupby(COL_REGION)[dt_cols].sum().diff(axis=1).fillna(0).astype(int)"
   ]
  },
  {
   "cell_type": "code",
   "execution_count": 19,
   "id": "neutral-assignment",
   "metadata": {
    "execution": {
     "iopub.execute_input": "2021-11-16T12:12:18.032430Z",
     "iopub.status.busy": "2021-11-16T12:12:18.031895Z",
     "iopub.status.idle": "2021-11-16T12:12:18.033932Z",
     "shell.execute_reply": "2021-11-16T12:12:18.034419Z"
    },
    "papermill": {
     "duration": 0.038258,
     "end_time": "2021-11-16T12:12:18.034543",
     "exception": false,
     "start_time": "2021-11-16T12:12:17.996285",
     "status": "completed"
    },
    "tags": []
   },
   "outputs": [],
   "source": [
    "#hide\n",
    "everydaycases = dft_ct_new_cases.cumsum(axis=1)"
   ]
  },
  {
   "cell_type": "code",
   "execution_count": 20,
   "id": "parliamentary-calgary",
   "metadata": {
    "execution": {
     "iopub.execute_input": "2021-11-16T12:12:18.099813Z",
     "iopub.status.busy": "2021-11-16T12:12:18.099218Z",
     "iopub.status.idle": "2021-11-16T12:12:18.720562Z",
     "shell.execute_reply": "2021-11-16T12:12:18.720056Z"
    },
    "papermill": {
     "duration": 0.655588,
     "end_time": "2021-11-16T12:12:18.720682",
     "exception": false,
     "start_time": "2021-11-16T12:12:18.065094",
     "status": "completed"
    },
    "tags": []
   },
   "outputs": [],
   "source": [
    "#hide\n",
    "import pandas as pd\n",
    "import matplotlib.pyplot as plt\n",
    "import matplotlib.ticker as ticker\n",
    "import matplotlib.animation as animation\n",
    "from IPython.display import HTML"
   ]
  },
  {
   "cell_type": "code",
   "execution_count": 21,
   "id": "lasting-extraction",
   "metadata": {
    "execution": {
     "iopub.execute_input": "2021-11-16T12:12:18.788012Z",
     "iopub.status.busy": "2021-11-16T12:12:18.787477Z",
     "iopub.status.idle": "2021-11-16T12:12:18.793383Z",
     "shell.execute_reply": "2021-11-16T12:12:18.792968Z"
    },
    "papermill": {
     "duration": 0.042043,
     "end_time": "2021-11-16T12:12:18.793496",
     "exception": false,
     "start_time": "2021-11-16T12:12:18.751453",
     "status": "completed"
    },
    "tags": []
   },
   "outputs": [],
   "source": [
    "#hide\n",
    "t = everydaycases.stack()"
   ]
  },
  {
   "cell_type": "code",
   "execution_count": 22,
   "id": "premier-sleeve",
   "metadata": {
    "execution": {
     "iopub.execute_input": "2021-11-16T12:12:18.858741Z",
     "iopub.status.busy": "2021-11-16T12:12:18.858232Z",
     "iopub.status.idle": "2021-11-16T12:12:18.867326Z",
     "shell.execute_reply": "2021-11-16T12:12:18.866900Z"
    },
    "papermill": {
     "duration": 0.04319,
     "end_time": "2021-11-16T12:12:18.867433",
     "exception": false,
     "start_time": "2021-11-16T12:12:18.824243",
     "status": "completed"
    },
    "tags": []
   },
   "outputs": [],
   "source": [
    "#hide\n",
    "g = t.reset_index(['Country/Region'])"
   ]
  },
  {
   "cell_type": "code",
   "execution_count": 23,
   "id": "distributed-pittsburgh",
   "metadata": {
    "execution": {
     "iopub.execute_input": "2021-11-16T12:12:18.932529Z",
     "iopub.status.busy": "2021-11-16T12:12:18.931992Z",
     "iopub.status.idle": "2021-11-16T12:12:18.934309Z",
     "shell.execute_reply": "2021-11-16T12:12:18.934700Z"
    },
    "papermill": {
     "duration": 0.036737,
     "end_time": "2021-11-16T12:12:18.934826",
     "exception": false,
     "start_time": "2021-11-16T12:12:18.898089",
     "status": "completed"
    },
    "tags": []
   },
   "outputs": [],
   "source": [
    "#hide\n",
    "g.index.name = 'date'"
   ]
  },
  {
   "cell_type": "code",
   "execution_count": 24,
   "id": "naked-donor",
   "metadata": {
    "execution": {
     "iopub.execute_input": "2021-11-16T12:12:19.000196Z",
     "iopub.status.busy": "2021-11-16T12:12:18.999551Z",
     "iopub.status.idle": "2021-11-16T12:12:19.001137Z",
     "shell.execute_reply": "2021-11-16T12:12:19.001573Z"
    },
    "papermill": {
     "duration": 0.036209,
     "end_time": "2021-11-16T12:12:19.001714",
     "exception": false,
     "start_time": "2021-11-16T12:12:18.965505",
     "status": "completed"
    },
    "tags": []
   },
   "outputs": [],
   "source": [
    "# #hide\n",
    "# g = g.reset_index(['date'])"
   ]
  },
  {
   "cell_type": "code",
   "execution_count": 25,
   "id": "incomplete-mustang",
   "metadata": {
    "execution": {
     "iopub.execute_input": "2021-11-16T12:12:19.066941Z",
     "iopub.status.busy": "2021-11-16T12:12:19.066339Z",
     "iopub.status.idle": "2021-11-16T12:12:19.067863Z",
     "shell.execute_reply": "2021-11-16T12:12:19.068329Z"
    },
    "papermill": {
     "duration": 0.036008,
     "end_time": "2021-11-16T12:12:19.068472",
     "exception": false,
     "start_time": "2021-11-16T12:12:19.032464",
     "status": "completed"
    },
    "tags": []
   },
   "outputs": [],
   "source": [
    "#hide\n",
    "# g.head()"
   ]
  },
  {
   "cell_type": "code",
   "execution_count": 26,
   "id": "specific-kruger",
   "metadata": {
    "execution": {
     "iopub.execute_input": "2021-11-16T12:12:19.134662Z",
     "iopub.status.busy": "2021-11-16T12:12:19.134143Z",
     "iopub.status.idle": "2021-11-16T12:12:19.137627Z",
     "shell.execute_reply": "2021-11-16T12:12:19.137223Z"
    },
    "papermill": {
     "duration": 0.038014,
     "end_time": "2021-11-16T12:12:19.137735",
     "exception": false,
     "start_time": "2021-11-16T12:12:19.099721",
     "status": "completed"
    },
    "tags": []
   },
   "outputs": [],
   "source": [
    "#hide\n",
    "# g.columns = ['date','country','cases']"
   ]
  },
  {
   "cell_type": "code",
   "execution_count": 27,
   "id": "tender-conversion",
   "metadata": {
    "execution": {
     "iopub.execute_input": "2021-11-16T12:12:19.202318Z",
     "iopub.status.busy": "2021-11-16T12:12:19.201783Z",
     "iopub.status.idle": "2021-11-16T12:12:19.204063Z",
     "shell.execute_reply": "2021-11-16T12:12:19.203639Z"
    },
    "papermill": {
     "duration": 0.035905,
     "end_time": "2021-11-16T12:12:19.204174",
     "exception": false,
     "start_time": "2021-11-16T12:12:19.168269",
     "status": "completed"
    },
    "tags": []
   },
   "outputs": [],
   "source": [
    "#hide\n",
    "# g['continent'] = g.country"
   ]
  },
  {
   "cell_type": "code",
   "execution_count": 28,
   "id": "substantial-wilderness",
   "metadata": {
    "execution": {
     "iopub.execute_input": "2021-11-16T12:12:19.268854Z",
     "iopub.status.busy": "2021-11-16T12:12:19.268326Z",
     "iopub.status.idle": "2021-11-16T12:12:19.271849Z",
     "shell.execute_reply": "2021-11-16T12:12:19.271445Z"
    },
    "papermill": {
     "duration": 0.037069,
     "end_time": "2021-11-16T12:12:19.271981",
     "exception": false,
     "start_time": "2021-11-16T12:12:19.234912",
     "status": "completed"
    },
    "tags": []
   },
   "outputs": [],
   "source": [
    "#hide\n",
    "# cols = list(g.columns.values)"
   ]
  },
  {
   "cell_type": "code",
   "execution_count": 29,
   "id": "solved-farming",
   "metadata": {
    "execution": {
     "iopub.execute_input": "2021-11-16T12:12:19.336450Z",
     "iopub.status.busy": "2021-11-16T12:12:19.335815Z",
     "iopub.status.idle": "2021-11-16T12:12:19.337907Z",
     "shell.execute_reply": "2021-11-16T12:12:19.337427Z"
    },
    "papermill": {
     "duration": 0.035584,
     "end_time": "2021-11-16T12:12:19.338023",
     "exception": false,
     "start_time": "2021-11-16T12:12:19.302439",
     "status": "completed"
    },
    "tags": []
   },
   "outputs": [],
   "source": [
    "#hide\n",
    "# cols.insert(0, cols.pop())"
   ]
  },
  {
   "cell_type": "code",
   "execution_count": 30,
   "id": "executed-adoption",
   "metadata": {
    "execution": {
     "iopub.execute_input": "2021-11-16T12:12:19.402779Z",
     "iopub.status.busy": "2021-11-16T12:12:19.402180Z",
     "iopub.status.idle": "2021-11-16T12:12:19.404302Z",
     "shell.execute_reply": "2021-11-16T12:12:19.403710Z"
    },
    "papermill": {
     "duration": 0.035675,
     "end_time": "2021-11-16T12:12:19.404422",
     "exception": false,
     "start_time": "2021-11-16T12:12:19.368747",
     "status": "completed"
    },
    "tags": []
   },
   "outputs": [],
   "source": [
    "#hide\n",
    "# g = g[cols]"
   ]
  },
  {
   "cell_type": "code",
   "execution_count": 31,
   "id": "subject-dublin",
   "metadata": {
    "execution": {
     "iopub.execute_input": "2021-11-16T12:12:19.469561Z",
     "iopub.status.busy": "2021-11-16T12:12:19.468984Z",
     "iopub.status.idle": "2021-11-16T12:12:19.470698Z",
     "shell.execute_reply": "2021-11-16T12:12:19.471131Z"
    },
    "papermill": {
     "duration": 0.035576,
     "end_time": "2021-11-16T12:12:19.471262",
     "exception": false,
     "start_time": "2021-11-16T12:12:19.435686",
     "status": "completed"
    },
    "tags": []
   },
   "outputs": [],
   "source": [
    "#hide\n",
    "# g['continent'] = g['continent'].map(mapping['map.continent'])"
   ]
  },
  {
   "cell_type": "code",
   "execution_count": 32,
   "id": "freelance-scout",
   "metadata": {
    "execution": {
     "iopub.execute_input": "2021-11-16T12:12:19.535907Z",
     "iopub.status.busy": "2021-11-16T12:12:19.535316Z",
     "iopub.status.idle": "2021-11-16T12:12:19.537048Z",
     "shell.execute_reply": "2021-11-16T12:12:19.537487Z"
    },
    "papermill": {
     "duration": 0.035872,
     "end_time": "2021-11-16T12:12:19.537622",
     "exception": false,
     "start_time": "2021-11-16T12:12:19.501750",
     "status": "completed"
    },
    "tags": []
   },
   "outputs": [],
   "source": [
    "#hide\n",
    "# g.head()"
   ]
  },
  {
   "cell_type": "code",
   "execution_count": 33,
   "id": "limited-engine",
   "metadata": {
    "execution": {
     "iopub.execute_input": "2021-11-16T12:12:19.602371Z",
     "iopub.status.busy": "2021-11-16T12:12:19.601788Z",
     "iopub.status.idle": "2021-11-16T12:12:19.603866Z",
     "shell.execute_reply": "2021-11-16T12:12:19.603466Z"
    },
    "papermill": {
     "duration": 0.035383,
     "end_time": "2021-11-16T12:12:19.603993",
     "exception": false,
     "start_time": "2021-11-16T12:12:19.568610",
     "status": "completed"
    },
    "tags": []
   },
   "outputs": [],
   "source": [
    "# hide\n",
    "# g['date'] = g['date'].astype('datetime64[ns]')"
   ]
  },
  {
   "cell_type": "code",
   "execution_count": 34,
   "id": "sophisticated-supervisor",
   "metadata": {
    "execution": {
     "iopub.execute_input": "2021-11-16T12:12:19.669103Z",
     "iopub.status.busy": "2021-11-16T12:12:19.668520Z",
     "iopub.status.idle": "2021-11-16T12:12:19.670247Z",
     "shell.execute_reply": "2021-11-16T12:12:19.670687Z"
    },
    "papermill": {
     "duration": 0.036124,
     "end_time": "2021-11-16T12:12:19.670825",
     "exception": false,
     "start_time": "2021-11-16T12:12:19.634701",
     "status": "completed"
    },
    "tags": []
   },
   "outputs": [],
   "source": [
    "#hide\n",
    "# g['date'] = g.date.dt.dayofyear"
   ]
  },
  {
   "cell_type": "code",
   "execution_count": 35,
   "id": "inside-dubai",
   "metadata": {
    "execution": {
     "iopub.execute_input": "2021-11-16T12:12:19.735850Z",
     "iopub.status.busy": "2021-11-16T12:12:19.735300Z",
     "iopub.status.idle": "2021-11-16T12:12:19.737336Z",
     "shell.execute_reply": "2021-11-16T12:12:19.736909Z"
    },
    "papermill": {
     "duration": 0.035598,
     "end_time": "2021-11-16T12:12:19.737437",
     "exception": false,
     "start_time": "2021-11-16T12:12:19.701839",
     "status": "completed"
    },
    "tags": []
   },
   "outputs": [],
   "source": [
    "#hide\n",
    "# g = g.rename(columns= {'continent':'group','country':'name','cases':'value'})"
   ]
  },
  {
   "cell_type": "code",
   "execution_count": 36,
   "id": "fleet-motorcycle",
   "metadata": {
    "execution": {
     "iopub.execute_input": "2021-11-16T12:12:19.802470Z",
     "iopub.status.busy": "2021-11-16T12:12:19.801882Z",
     "iopub.status.idle": "2021-11-16T12:12:19.803372Z",
     "shell.execute_reply": "2021-11-16T12:12:19.803831Z"
    },
    "papermill": {
     "duration": 0.035709,
     "end_time": "2021-11-16T12:12:19.803987",
     "exception": false,
     "start_time": "2021-11-16T12:12:19.768278",
     "status": "completed"
    },
    "tags": []
   },
   "outputs": [],
   "source": [
    "#hide\n",
    "# cols = ['name','group','day','value']"
   ]
  },
  {
   "cell_type": "code",
   "execution_count": 37,
   "id": "continued-sleeping",
   "metadata": {
    "execution": {
     "iopub.execute_input": "2021-11-16T12:12:19.868695Z",
     "iopub.status.busy": "2021-11-16T12:12:19.868123Z",
     "iopub.status.idle": "2021-11-16T12:12:19.869726Z",
     "shell.execute_reply": "2021-11-16T12:12:19.870108Z"
    },
    "papermill": {
     "duration": 0.035386,
     "end_time": "2021-11-16T12:12:19.870229",
     "exception": false,
     "start_time": "2021-11-16T12:12:19.834843",
     "status": "completed"
    },
    "tags": []
   },
   "outputs": [],
   "source": [
    "#hide\n",
    "# g.rename(columns= {'date':'day'},inplace = True)"
   ]
  },
  {
   "cell_type": "code",
   "execution_count": 38,
   "id": "major-fight",
   "metadata": {
    "execution": {
     "iopub.execute_input": "2021-11-16T12:12:19.935249Z",
     "iopub.status.busy": "2021-11-16T12:12:19.934668Z",
     "iopub.status.idle": "2021-11-16T12:12:19.938376Z",
     "shell.execute_reply": "2021-11-16T12:12:19.937806Z"
    },
    "papermill": {
     "duration": 0.037643,
     "end_time": "2021-11-16T12:12:19.938493",
     "exception": false,
     "start_time": "2021-11-16T12:12:19.900850",
     "status": "completed"
    },
    "tags": []
   },
   "outputs": [],
   "source": [
    "#hide\n",
    "# g = g[cols]"
   ]
  },
  {
   "cell_type": "code",
   "execution_count": 39,
   "id": "structured-mobile",
   "metadata": {
    "execution": {
     "iopub.execute_input": "2021-11-16T12:12:20.002828Z",
     "iopub.status.busy": "2021-11-16T12:12:20.002246Z",
     "iopub.status.idle": "2021-11-16T12:12:20.004437Z",
     "shell.execute_reply": "2021-11-16T12:12:20.003946Z"
    },
    "papermill": {
     "duration": 0.035504,
     "end_time": "2021-11-16T12:12:20.004551",
     "exception": false,
     "start_time": "2021-11-16T12:12:19.969047",
     "status": "completed"
    },
    "tags": []
   },
   "outputs": [],
   "source": [
    "# #hide\n",
    "# g = g[g.group.notna()]"
   ]
  },
  {
   "cell_type": "code",
   "execution_count": 40,
   "id": "determined-closing",
   "metadata": {
    "execution": {
     "iopub.execute_input": "2021-11-16T12:12:20.069955Z",
     "iopub.status.busy": "2021-11-16T12:12:20.069363Z",
     "iopub.status.idle": "2021-11-16T12:12:20.071440Z",
     "shell.execute_reply": "2021-11-16T12:12:20.070870Z"
    },
    "papermill": {
     "duration": 0.035574,
     "end_time": "2021-11-16T12:12:20.071557",
     "exception": false,
     "start_time": "2021-11-16T12:12:20.035983",
     "status": "completed"
    },
    "tags": []
   },
   "outputs": [],
   "source": [
    "# #hide\n",
    "# colors = dict(zip(\n",
    "#     [\"Oceania\", \"Europe\", \"Asia\", \"South America\", \"Middle East\", \"North America\", \"Africa\"],\n",
    "#     [\"#adb0ff\", \"#ffb3ff\", \"#90d595\", \"#e48381\", \"#aafbff\", \"#f7bb5f\", \"#eafb50\"]\n",
    "# ))\n",
    "# group_lk = g.set_index('name')['group'].to_dict()"
   ]
  },
  {
   "cell_type": "code",
   "execution_count": null,
   "id": "gross-drinking",
   "metadata": {
    "papermill": {
     "duration": 0.03081,
     "end_time": "2021-11-16T12:12:20.132896",
     "exception": false,
     "start_time": "2021-11-16T12:12:20.102086",
     "status": "completed"
    },
    "tags": []
   },
   "outputs": [],
   "source": []
  },
  {
   "cell_type": "code",
   "execution_count": 41,
   "id": "subject-macintosh",
   "metadata": {
    "execution": {
     "iopub.execute_input": "2021-11-16T12:12:20.198793Z",
     "iopub.status.busy": "2021-11-16T12:12:20.198185Z",
     "iopub.status.idle": "2021-11-16T12:12:20.200308Z",
     "shell.execute_reply": "2021-11-16T12:12:20.199712Z"
    },
    "papermill": {
     "duration": 0.036913,
     "end_time": "2021-11-16T12:12:20.200429",
     "exception": false,
     "start_time": "2021-11-16T12:12:20.163516",
     "status": "completed"
    },
    "tags": []
   },
   "outputs": [],
   "source": [
    "# #hide\n",
    "# fig, ax = plt.subplots(figsize=(15, 8))\n",
    "\n",
    "# def draw_barchart(current_day):\n",
    "#     dff = g[g['day'].eq(current_day)].sort_values(by='value', ascending=True).tail(10)\n",
    "#     ax.clear()\n",
    "#     ax.barh(dff['name'], dff['value'], color=[colors[group_lk[x]] for x in dff['name']])\n",
    "#     dx = dff['value'].max() / 200\n",
    "    \n",
    "#     for i, (value, name) in enumerate(zip(dff['value'], dff['name'])):\n",
    "#         ax.text(value-dx, i,     name,           size=14, weight=600, ha='right', va='bottom')\n",
    "#         ax.text(value-dx, i-.25, group_lk[name], size=10, color='#444444', ha='right', va='baseline')\n",
    "#         ax.text(value+dx, i,     f'{value:,.0f}',  size=14, ha='left',  va='center')\n",
    "#     ax.text(1, 0.4, current_day, transform=ax.transAxes, color='#777777', size=46, ha='right', weight=800)\n",
    "#     ax.text(0, 1.06, 'Population (thousands)', transform=ax.transAxes, size=12, color='#777777')\n",
    "#     ax.xaxis.set_major_formatter(ticker.StrMethodFormatter('{x:,.0f}'))\n",
    "#     ax.xaxis.set_ticks_position('top')\n",
    "#     ax.tick_params(axis='x', colors='#777777', labelsize=12)\n",
    "#     ax.set_yticks([])\n",
    "#     ax.margins(0, 0.01)\n",
    "#     ax.grid(which='major', axis='x', linestyle='-')\n",
    "#     ax.set_axisbelow(True)\n",
    "    \n",
    "#     ax.text(0, 1.15, 'Coronavirus',\n",
    "#             transform=ax.transAxes, size=24, weight=600, ha='left', va='top')\n",
    "# #     ax.text(1, 0, 'by @pratapvardhan; credit @jburnmurdoch', transform=ax.transAxes, color='#777777', ha='right',\n",
    "# #             bbox=dict(facecolor='white', alpha=0.8, edgecolor='white'))\n",
    "#     plt.box(False)"
   ]
  },
  {
   "cell_type": "code",
   "execution_count": 42,
   "id": "sexual-wages",
   "metadata": {
    "execution": {
     "iopub.execute_input": "2021-11-16T12:12:20.265701Z",
     "iopub.status.busy": "2021-11-16T12:12:20.265171Z",
     "iopub.status.idle": "2021-11-16T12:12:20.268817Z",
     "shell.execute_reply": "2021-11-16T12:12:20.268410Z"
    },
    "papermill": {
     "duration": 0.037568,
     "end_time": "2021-11-16T12:12:20.268927",
     "exception": false,
     "start_time": "2021-11-16T12:12:20.231359",
     "status": "completed"
    },
    "tags": []
   },
   "outputs": [],
   "source": [
    "# #hide_input\n",
    "# fig, ax = plt.subplots(figsize=(15, 8))\n",
    "# animator = animation.FuncAnimation(fig, draw_barchart, frames=range(g.day.values.min(), g.day.values.max()))\n",
    "# HTML(animator.to_jshtml())\n",
    "# # or use animator.to_html5_video() or animator.save() "
   ]
  },
  {
   "cell_type": "code",
   "execution_count": null,
   "id": "australian-container",
   "metadata": {
    "papermill": {
     "duration": 0.030434,
     "end_time": "2021-11-16T12:12:20.329916",
     "exception": false,
     "start_time": "2021-11-16T12:12:20.299482",
     "status": "completed"
    },
    "tags": []
   },
   "outputs": [],
   "source": []
  },
  {
   "cell_type": "code",
   "execution_count": null,
   "id": "mediterranean-pontiac",
   "metadata": {
    "papermill": {
     "duration": 0.030355,
     "end_time": "2021-11-16T12:12:20.390716",
     "exception": false,
     "start_time": "2021-11-16T12:12:20.360361",
     "status": "completed"
    },
    "tags": []
   },
   "outputs": [],
   "source": []
  },
  {
   "cell_type": "code",
   "execution_count": null,
   "id": "aging-legislature",
   "metadata": {
    "papermill": {
     "duration": 0.030351,
     "end_time": "2021-11-16T12:12:20.451728",
     "exception": false,
     "start_time": "2021-11-16T12:12:20.421377",
     "status": "completed"
    },
    "tags": []
   },
   "outputs": [],
   "source": []
  }
 ],
 "metadata": {
  "kernelspec": {
   "display_name": "Python 3",
   "language": "python",
   "name": "python3"
  },
  "language_info": {
   "codemirror_mode": {
    "name": "ipython",
    "version": 3
   },
   "file_extension": ".py",
   "mimetype": "text/x-python",
   "name": "python",
   "nbconvert_exporter": "python",
   "pygments_lexer": "ipython3",
   "version": "3.6.15"
  },
  "papermill": {
   "duration": 5.961532,
   "end_time": "2021-11-16T12:12:20.790125",
   "environment_variables": {},
   "exception": null,
   "input_path": "2020-03-21-covid19exp.ipynb",
   "output_path": "2020-03-21-covid19exp.ipynb",
   "parameters": {},
   "start_time": "2021-11-16T12:12:14.828593",
   "version": "2.0.0"
  }
 },
 "nbformat": 4,
 "nbformat_minor": 5
}