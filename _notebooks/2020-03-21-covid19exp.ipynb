{
 "cells": [
  {
   "cell_type": "markdown",
   "id": "muslim-click",
   "metadata": {
    "papermill": {
     "duration": 0.042399,
     "end_time": "2022-09-29T12:20:56.845120",
     "exception": false,
     "start_time": "2022-09-29T12:20:56.802721",
     "status": "completed"
    },
    "tags": []
   },
   "source": [
    "# COVID-19 Case Race\n",
    "> A race chart to see rising cases around the world\n",
    "\n",
    "- author: Hargun Oberoi\n",
    "- image: images/covid-overview.png\n",
    "- hide: false\n",
    "- badges: false"
   ]
  },
  {
   "cell_type": "code",
   "execution_count": 1,
   "id": "proof-material",
   "metadata": {
    "execution": {
     "iopub.execute_input": "2022-09-29T12:20:56.932680Z",
     "iopub.status.busy": "2022-09-29T12:20:56.931966Z",
     "iopub.status.idle": "2022-09-29T12:20:57.311027Z",
     "shell.execute_reply": "2022-09-29T12:20:57.311639Z"
    },
    "papermill": {
     "duration": 0.423881,
     "end_time": "2022-09-29T12:20:57.311841",
     "exception": false,
     "start_time": "2022-09-29T12:20:56.887960",
     "status": "completed"
    },
    "tags": []
   },
   "outputs": [],
   "source": [
    "#hide\n",
    "import numpy as np\n",
    "import pandas as pd\n",
    "from jinja2 import Template\n",
    "from IPython.display import HTML"
   ]
  },
  {
   "cell_type": "code",
   "execution_count": 2,
   "id": "developed-terminology",
   "metadata": {
    "execution": {
     "iopub.execute_input": "2022-09-29T12:20:57.388522Z",
     "iopub.status.busy": "2022-09-29T12:20:57.387859Z",
     "iopub.status.idle": "2022-09-29T12:20:57.390766Z",
     "shell.execute_reply": "2022-09-29T12:20:57.390245Z"
    },
    "papermill": {
     "duration": 0.041385,
     "end_time": "2022-09-29T12:20:57.390875",
     "exception": false,
     "start_time": "2022-09-29T12:20:57.349490",
     "status": "completed"
    },
    "tags": []
   },
   "outputs": [],
   "source": [
    "#hide\n",
    "\n",
    "# FETCH\n",
    "base_url = 'https://raw.githubusercontent.com/pratapvardhan/notebooks/master/covid19/'\n",
    "paths = {\n",
    "    'mapping': base_url + 'mapping_countries.csv',\n",
    "    'overview': base_url + 'overview.tpl'\n",
    "}"
   ]
  },
  {
   "cell_type": "code",
   "execution_count": 3,
   "id": "dynamic-saver",
   "metadata": {
    "execution": {
     "iopub.execute_input": "2022-09-29T12:20:57.472820Z",
     "iopub.status.busy": "2022-09-29T12:20:57.471853Z",
     "iopub.status.idle": "2022-09-29T12:20:57.476530Z",
     "shell.execute_reply": "2022-09-29T12:20:57.475922Z"
    },
    "papermill": {
     "duration": 0.051922,
     "end_time": "2022-09-29T12:20:57.476667",
     "exception": false,
     "start_time": "2022-09-29T12:20:57.424745",
     "status": "completed"
    },
    "tags": []
   },
   "outputs": [
    {
     "data": {
      "text/plain": [
       "'https://raw.githubusercontent.com/pratapvardhan/notebooks/master/covid19/mapping_countries.csv'"
      ]
     },
     "execution_count": 3,
     "metadata": {},
     "output_type": "execute_result"
    }
   ],
   "source": [
    "#hide\n",
    "paths['mapping']"
   ]
  },
  {
   "cell_type": "code",
   "execution_count": 4,
   "id": "urban-software",
   "metadata": {
    "execution": {
     "iopub.execute_input": "2022-09-29T12:20:57.551400Z",
     "iopub.status.busy": "2022-09-29T12:20:57.550739Z",
     "iopub.status.idle": "2022-09-29T12:20:57.553892Z",
     "shell.execute_reply": "2022-09-29T12:20:57.553350Z"
    },
    "papermill": {
     "duration": 0.042016,
     "end_time": "2022-09-29T12:20:57.554009",
     "exception": false,
     "start_time": "2022-09-29T12:20:57.511993",
     "status": "completed"
    },
    "tags": []
   },
   "outputs": [],
   "source": [
    "#hide\n",
    "def get_mappings(url):\n",
    "    df = pd.read_csv(url)\n",
    "    return {\n",
    "        'df': df,\n",
    "        'replace.country': dict(df.dropna(subset=['Name']).set_index('Country')['Name']),\n",
    "        'map.continent': dict(df.set_index('Name')['Continent'])\n",
    "    }"
   ]
  },
  {
   "cell_type": "code",
   "execution_count": 5,
   "id": "intimate-machinery",
   "metadata": {
    "execution": {
     "iopub.execute_input": "2022-09-29T12:20:57.628449Z",
     "iopub.status.busy": "2022-09-29T12:20:57.627666Z",
     "iopub.status.idle": "2022-09-29T12:20:57.655054Z",
     "shell.execute_reply": "2022-09-29T12:20:57.654346Z"
    },
    "papermill": {
     "duration": 0.066817,
     "end_time": "2022-09-29T12:20:57.655215",
     "exception": false,
     "start_time": "2022-09-29T12:20:57.588398",
     "status": "completed"
    },
    "tags": []
   },
   "outputs": [],
   "source": [
    "#hide\n",
    "mapping = get_mappings(paths['mapping'])"
   ]
  },
  {
   "cell_type": "code",
   "execution_count": 6,
   "id": "certified-tactics",
   "metadata": {
    "execution": {
     "iopub.execute_input": "2022-09-29T12:20:57.730759Z",
     "iopub.status.busy": "2022-09-29T12:20:57.730063Z",
     "iopub.status.idle": "2022-09-29T12:20:57.733106Z",
     "shell.execute_reply": "2022-09-29T12:20:57.732491Z"
    },
    "papermill": {
     "duration": 0.043967,
     "end_time": "2022-09-29T12:20:57.733249",
     "exception": false,
     "start_time": "2022-09-29T12:20:57.689282",
     "status": "completed"
    },
    "tags": []
   },
   "outputs": [],
   "source": [
    "#hide\n",
    "def get_template(path):\n",
    "    from urllib.parse import urlparse\n",
    "    if bool(urlparse(path).netloc):\n",
    "        from urllib.request import urlopen\n",
    "        return urlopen(path).read().decode('utf8')\n",
    "    return open(path).read()"
   ]
  },
  {
   "cell_type": "code",
   "execution_count": 7,
   "id": "realistic-blast",
   "metadata": {
    "execution": {
     "iopub.execute_input": "2022-09-29T12:20:57.815950Z",
     "iopub.status.busy": "2022-09-29T12:20:57.815072Z",
     "iopub.status.idle": "2022-09-29T12:20:57.818542Z",
     "shell.execute_reply": "2022-09-29T12:20:57.817831Z"
    },
    "papermill": {
     "duration": 0.049543,
     "end_time": "2022-09-29T12:20:57.818704",
     "exception": false,
     "start_time": "2022-09-29T12:20:57.769161",
     "status": "completed"
    },
    "tags": []
   },
   "outputs": [],
   "source": [
    "#hide\n",
    "def get_frame(name):\n",
    "    url = (\n",
    "        'https://raw.githubusercontent.com/CSSEGISandData/COVID-19/master/csse_covid_19_data/'\n",
    "        f'csse_covid_19_time_series/time_series_covid19_{name}_global.csv')\n",
    "    df = pd.read_csv(url)\n",
    "    # rename countries\n",
    "    df['Country/Region'] = df['Country/Region'].replace(mapping['replace.country'])\n",
    "    return df"
   ]
  },
  {
   "cell_type": "code",
   "execution_count": 8,
   "id": "affiliated-characterization",
   "metadata": {
    "execution": {
     "iopub.execute_input": "2022-09-29T12:20:57.895281Z",
     "iopub.status.busy": "2022-09-29T12:20:57.894481Z",
     "iopub.status.idle": "2022-09-29T12:20:57.898162Z",
     "shell.execute_reply": "2022-09-29T12:20:57.897627Z"
    },
    "papermill": {
     "duration": 0.04436,
     "end_time": "2022-09-29T12:20:57.898281",
     "exception": false,
     "start_time": "2022-09-29T12:20:57.853921",
     "status": "completed"
    },
    "tags": []
   },
   "outputs": [],
   "source": [
    "#hide\n",
    "def get_dates(df):\n",
    "    dt_cols = df.columns[~df.columns.isin(['Province/State', 'Country/Region', 'Lat', 'Long'])]\n",
    "    LAST_DATE_I = -1\n",
    "    # sometimes last column may be empty, then go backwards\n",
    "    for i in range(-1, -len(dt_cols), -1):\n",
    "        if not df[dt_cols[i]].fillna(0).eq(0).all():\n",
    "            LAST_DATE_I = i\n",
    "            break\n",
    "    return LAST_DATE_I, dt_cols"
   ]
  },
  {
   "cell_type": "code",
   "execution_count": 9,
   "id": "recent-optimization",
   "metadata": {
    "execution": {
     "iopub.execute_input": "2022-09-29T12:20:57.970996Z",
     "iopub.status.busy": "2022-09-29T12:20:57.970326Z",
     "iopub.status.idle": "2022-09-29T12:20:58.410958Z",
     "shell.execute_reply": "2022-09-29T12:20:58.411529Z"
    },
    "papermill": {
     "duration": 0.479187,
     "end_time": "2022-09-29T12:20:58.411688",
     "exception": false,
     "start_time": "2022-09-29T12:20:57.932501",
     "status": "completed"
    },
    "tags": []
   },
   "outputs": [],
   "source": [
    "#hide\n",
    "COL_REGION = 'Country/Region'\n",
    "# Confirmed, Recovered, Deaths\n",
    "df = get_frame('confirmed')\n",
    "# dft_: timeseries, dfc_: today country agg\n",
    "dft_cases = df\n",
    "dft_deaths = get_frame('deaths')\n",
    "dft_recovered = get_frame('recovered')\n",
    "LAST_DATE_I, dt_cols = get_dates(df)"
   ]
  },
  {
   "cell_type": "code",
   "execution_count": 10,
   "id": "absolute-copper",
   "metadata": {
    "execution": {
     "iopub.execute_input": "2022-09-29T12:20:58.487369Z",
     "iopub.status.busy": "2022-09-29T12:20:58.486670Z",
     "iopub.status.idle": "2022-09-29T12:20:58.489787Z",
     "shell.execute_reply": "2022-09-29T12:20:58.489146Z"
    },
    "papermill": {
     "duration": 0.043277,
     "end_time": "2022-09-29T12:20:58.489903",
     "exception": false,
     "start_time": "2022-09-29T12:20:58.446626",
     "status": "completed"
    },
    "tags": []
   },
   "outputs": [],
   "source": [
    "#hide\n",
    "LAST_DATE_I, dt_cols = get_dates(df)\n",
    "dt_today =dt_cols[LAST_DATE_I]\n",
    "# dt_5day = dt_cols[LAST_DATE_I - 5]\n",
    "dt_yday = dt_cols[LAST_DATE_I - 1]"
   ]
  },
  {
   "cell_type": "code",
   "execution_count": 11,
   "id": "restricted-sheriff",
   "metadata": {
    "execution": {
     "iopub.execute_input": "2022-09-29T12:20:58.568753Z",
     "iopub.status.busy": "2022-09-29T12:20:58.568069Z",
     "iopub.status.idle": "2022-09-29T12:20:58.572766Z",
     "shell.execute_reply": "2022-09-29T12:20:58.572228Z"
    },
    "papermill": {
     "duration": 0.048679,
     "end_time": "2022-09-29T12:20:58.572877",
     "exception": false,
     "start_time": "2022-09-29T12:20:58.524198",
     "status": "completed"
    },
    "tags": []
   },
   "outputs": [],
   "source": [
    "#hide\n",
    "dfc_cases = dft_cases.groupby(COL_REGION)[dt_today].sum()\n",
    "dfc_deaths = dft_deaths.groupby(COL_REGION)[dt_today].sum()\n",
    "# dfp_cases = dft_cases.groupby(COL_REGION)[dt_5day].sum()\n",
    "# dfp_deaths = dft_deaths.groupby(COL_REGION)[dt_5day].sum()\n",
    "dfp_cases = dft_cases.groupby(COL_REGION)[dt_yday].sum()\n",
    "dfp_deaths = dft_deaths.groupby(COL_REGION)[dt_yday].sum()"
   ]
  },
  {
   "cell_type": "code",
   "execution_count": 12,
   "id": "deluxe-hepatitis",
   "metadata": {
    "execution": {
     "iopub.execute_input": "2022-09-29T12:20:58.650858Z",
     "iopub.status.busy": "2022-09-29T12:20:58.650178Z",
     "iopub.status.idle": "2022-09-29T12:20:58.655320Z",
     "shell.execute_reply": "2022-09-29T12:20:58.656039Z"
    },
    "papermill": {
     "duration": 0.049356,
     "end_time": "2022-09-29T12:20:58.656174",
     "exception": false,
     "start_time": "2022-09-29T12:20:58.606818",
     "status": "completed"
    },
    "tags": []
   },
   "outputs": [],
   "source": [
    "#hide\n",
    "df_table = (pd.DataFrame(dict(Cases = dfc_cases, Deaths = dfc_deaths, PCases = dfp_cases, PDeaths = dfp_deaths))\n",
    "            .sort_values(by = ['Cases','Deaths'], ascending = [False, False])\n",
    "            .reset_index())"
   ]
  },
  {
   "cell_type": "code",
   "execution_count": 13,
   "id": "educational-chancellor",
   "metadata": {
    "execution": {
     "iopub.execute_input": "2022-09-29T12:20:58.744567Z",
     "iopub.status.busy": "2022-09-29T12:20:58.743875Z",
     "iopub.status.idle": "2022-09-29T12:20:58.753243Z",
     "shell.execute_reply": "2022-09-29T12:20:58.752711Z"
    },
    "papermill": {
     "duration": 0.063217,
     "end_time": "2022-09-29T12:20:58.753360",
     "exception": false,
     "start_time": "2022-09-29T12:20:58.690143",
     "status": "completed"
    },
    "tags": []
   },
   "outputs": [
    {
     "data": {
      "text/html": [
       "<div>\n",
       "<style scoped>\n",
       "    .dataframe tbody tr th:only-of-type {\n",
       "        vertical-align: middle;\n",
       "    }\n",
       "\n",
       "    .dataframe tbody tr th {\n",
       "        vertical-align: top;\n",
       "    }\n",
       "\n",
       "    .dataframe thead th {\n",
       "        text-align: right;\n",
       "    }\n",
       "</style>\n",
       "<table border=\"1\" class=\"dataframe\">\n",
       "  <thead>\n",
       "    <tr style=\"text-align: right;\">\n",
       "      <th></th>\n",
       "      <th>Country/Region</th>\n",
       "      <th>Cases</th>\n",
       "      <th>Deaths</th>\n",
       "      <th>PCases</th>\n",
       "      <th>PDeaths</th>\n",
       "      <th>Cases (+)</th>\n",
       "      <th>Deaths (+)</th>\n",
       "      <th>Fatality Rate</th>\n",
       "      <th>Continent</th>\n",
       "    </tr>\n",
       "  </thead>\n",
       "  <tbody>\n",
       "    <tr>\n",
       "      <th>0</th>\n",
       "      <td>US</td>\n",
       "      <td>96249166</td>\n",
       "      <td>1058506</td>\n",
       "      <td>96162670</td>\n",
       "      <td>1057246</td>\n",
       "      <td>86496</td>\n",
       "      <td>1260</td>\n",
       "      <td>1.10</td>\n",
       "      <td>North America</td>\n",
       "    </tr>\n",
       "    <tr>\n",
       "      <th>1</th>\n",
       "      <td>India</td>\n",
       "      <td>44583360</td>\n",
       "      <td>528611</td>\n",
       "      <td>44579088</td>\n",
       "      <td>528584</td>\n",
       "      <td>4272</td>\n",
       "      <td>27</td>\n",
       "      <td>1.19</td>\n",
       "      <td>Asia</td>\n",
       "    </tr>\n",
       "    <tr>\n",
       "      <th>2</th>\n",
       "      <td>France</td>\n",
       "      <td>35508658</td>\n",
       "      <td>156085</td>\n",
       "      <td>35456751</td>\n",
       "      <td>156049</td>\n",
       "      <td>51907</td>\n",
       "      <td>36</td>\n",
       "      <td>0.44</td>\n",
       "      <td>Europe</td>\n",
       "    </tr>\n",
       "    <tr>\n",
       "      <th>3</th>\n",
       "      <td>Brazil</td>\n",
       "      <td>34654190</td>\n",
       "      <td>685927</td>\n",
       "      <td>34638288</td>\n",
       "      <td>685835</td>\n",
       "      <td>15902</td>\n",
       "      <td>92</td>\n",
       "      <td>1.98</td>\n",
       "      <td>South America</td>\n",
       "    </tr>\n",
       "    <tr>\n",
       "      <th>4</th>\n",
       "      <td>Germany</td>\n",
       "      <td>33216006</td>\n",
       "      <td>149808</td>\n",
       "      <td>33137143</td>\n",
       "      <td>149714</td>\n",
       "      <td>78863</td>\n",
       "      <td>94</td>\n",
       "      <td>0.45</td>\n",
       "      <td>Europe</td>\n",
       "    </tr>\n",
       "  </tbody>\n",
       "</table>\n",
       "</div>"
      ],
      "text/plain": [
       "  Country/Region     Cases   Deaths    PCases  PDeaths  Cases (+)  Deaths (+)  \\\n",
       "0             US  96249166  1058506  96162670  1057246      86496        1260   \n",
       "1          India  44583360   528611  44579088   528584       4272          27   \n",
       "2         France  35508658   156085  35456751   156049      51907          36   \n",
       "3         Brazil  34654190   685927  34638288   685835      15902          92   \n",
       "4        Germany  33216006   149808  33137143   149714      78863          94   \n",
       "\n",
       "   Fatality Rate      Continent  \n",
       "0           1.10  North America  \n",
       "1           1.19           Asia  \n",
       "2           0.44         Europe  \n",
       "3           1.98  South America  \n",
       "4           0.45         Europe  "
      ]
     },
     "execution_count": 13,
     "metadata": {},
     "output_type": "execute_result"
    }
   ],
   "source": [
    "#hide\n",
    "for c in 'Cases, Deaths'.split(', '):\n",
    "    df_table[f'{c} (+)'] = (df_table[c] - df_table[f'P{c}']).clip(0)\n",
    "    #Clip ça veut dire, les chiffres negatif sont interdit\n",
    "df_table['Fatality Rate'] = (100* df_table['Deaths']/ df_table['Cases']).round(2)\n",
    "df_table['Continent'] = df_table['Country/Region'].map(mapping['map.continent'])\n",
    "df_table.head(5)"
   ]
  },
  {
   "cell_type": "code",
   "execution_count": 14,
   "id": "aboriginal-bulgaria",
   "metadata": {
    "execution": {
     "iopub.execute_input": "2022-09-29T12:20:58.829569Z",
     "iopub.status.busy": "2022-09-29T12:20:58.828871Z",
     "iopub.status.idle": "2022-09-29T12:20:58.831600Z",
     "shell.execute_reply": "2022-09-29T12:20:58.832107Z"
    },
    "papermill": {
     "duration": 0.044108,
     "end_time": "2022-09-29T12:20:58.832237",
     "exception": false,
     "start_time": "2022-09-29T12:20:58.788129",
     "status": "completed"
    },
    "tags": []
   },
   "outputs": [],
   "source": [
    "#hide\n",
    "#delete problematic countries from table\n",
    "df_table = df_table[~df_table['Country/Region'].isin(['Cape Verde', 'Cruise Ship', 'Kosovo'])]"
   ]
  },
  {
   "cell_type": "code",
   "execution_count": 15,
   "id": "fantastic-effect",
   "metadata": {
    "execution": {
     "iopub.execute_input": "2022-09-29T12:20:58.909761Z",
     "iopub.status.busy": "2022-09-29T12:20:58.909086Z",
     "iopub.status.idle": "2022-09-29T12:20:58.930577Z",
     "shell.execute_reply": "2022-09-29T12:20:58.931064Z"
    },
    "papermill": {
     "duration": 0.065095,
     "end_time": "2022-09-29T12:20:58.931196",
     "exception": false,
     "start_time": "2022-09-29T12:20:58.866101",
     "status": "completed"
    },
    "tags": []
   },
   "outputs": [
    {
     "data": {
      "text/html": [
       "<div>\n",
       "<style scoped>\n",
       "    .dataframe tbody tr th:only-of-type {\n",
       "        vertical-align: middle;\n",
       "    }\n",
       "\n",
       "    .dataframe tbody tr th {\n",
       "        vertical-align: top;\n",
       "    }\n",
       "\n",
       "    .dataframe thead th {\n",
       "        text-align: right;\n",
       "    }\n",
       "</style>\n",
       "<table border=\"1\" class=\"dataframe\">\n",
       "  <thead>\n",
       "    <tr style=\"text-align: right;\">\n",
       "      <th></th>\n",
       "      <th>Country/Region</th>\n",
       "      <th>Cases</th>\n",
       "      <th>Deaths</th>\n",
       "      <th>PCases</th>\n",
       "      <th>PDeaths</th>\n",
       "      <th>Cases (+)</th>\n",
       "      <th>Deaths (+)</th>\n",
       "      <th>Fatality Rate</th>\n",
       "      <th>Continent</th>\n",
       "    </tr>\n",
       "  </thead>\n",
       "  <tbody>\n",
       "    <tr>\n",
       "      <th>0</th>\n",
       "      <td>US</td>\n",
       "      <td>96249166</td>\n",
       "      <td>1058506</td>\n",
       "      <td>96162670</td>\n",
       "      <td>1057246</td>\n",
       "      <td>86496</td>\n",
       "      <td>1260</td>\n",
       "      <td>1.1</td>\n",
       "      <td>North America</td>\n",
       "    </tr>\n",
       "    <tr>\n",
       "      <th>1</th>\n",
       "      <td>India</td>\n",
       "      <td>44583360</td>\n",
       "      <td>528611</td>\n",
       "      <td>44579088</td>\n",
       "      <td>528584</td>\n",
       "      <td>4272</td>\n",
       "      <td>27</td>\n",
       "      <td>1.2</td>\n",
       "      <td>Asia</td>\n",
       "    </tr>\n",
       "    <tr>\n",
       "      <th>2</th>\n",
       "      <td>France</td>\n",
       "      <td>35508658</td>\n",
       "      <td>156085</td>\n",
       "      <td>35456751</td>\n",
       "      <td>156049</td>\n",
       "      <td>51907</td>\n",
       "      <td>36</td>\n",
       "      <td>0.4</td>\n",
       "      <td>Europe</td>\n",
       "    </tr>\n",
       "    <tr>\n",
       "      <th>3</th>\n",
       "      <td>Brazil</td>\n",
       "      <td>34654190</td>\n",
       "      <td>685927</td>\n",
       "      <td>34638288</td>\n",
       "      <td>685835</td>\n",
       "      <td>15902</td>\n",
       "      <td>92</td>\n",
       "      <td>2.0</td>\n",
       "      <td>South America</td>\n",
       "    </tr>\n",
       "    <tr>\n",
       "      <th>4</th>\n",
       "      <td>Germany</td>\n",
       "      <td>33216006</td>\n",
       "      <td>149808</td>\n",
       "      <td>33137143</td>\n",
       "      <td>149714</td>\n",
       "      <td>78863</td>\n",
       "      <td>94</td>\n",
       "      <td>0.5</td>\n",
       "      <td>Europe</td>\n",
       "    </tr>\n",
       "  </tbody>\n",
       "</table>\n",
       "</div>"
      ],
      "text/plain": [
       "  Country/Region     Cases   Deaths    PCases  PDeaths  Cases (+)  Deaths (+)  \\\n",
       "0             US  96249166  1058506  96162670  1057246      86496        1260   \n",
       "1          India  44583360   528611  44579088   528584       4272          27   \n",
       "2         France  35508658   156085  35456751   156049      51907          36   \n",
       "3         Brazil  34654190   685927  34638288   685835      15902          92   \n",
       "4        Germany  33216006   149808  33137143   149714      78863          94   \n",
       "\n",
       "   Fatality Rate      Continent  \n",
       "0            1.1  North America  \n",
       "1            1.2           Asia  \n",
       "2            0.4         Europe  \n",
       "3            2.0  South America  \n",
       "4            0.5         Europe  "
      ]
     },
     "execution_count": 15,
     "metadata": {},
     "output_type": "execute_result"
    }
   ],
   "source": [
    "#hide\n",
    "df_table = (pd.DataFrame(dict(Cases=dfc_cases, Deaths=dfc_deaths, PCases=dfp_cases, PDeaths=dfp_deaths))\n",
    "             .sort_values(by=['Cases', 'Deaths'], ascending=[False, False])\n",
    "             .reset_index())\n",
    "df_table.rename(columns={'index': 'Country/Region'}, inplace=True)\n",
    "for c in 'Cases, Deaths'.split(', '):\n",
    "    df_table[f'{c} (+)'] = (df_table[c] - df_table[f'P{c}']).clip(0)  # DATA BUG\n",
    "df_table['Fatality Rate'] = (100 * df_table['Deaths'] / df_table['Cases']).round(1)\n",
    "df_table['Continent'] = df_table['Country/Region'].map(mapping['map.continent'])\n",
    "df_table.head(5)"
   ]
  },
  {
   "cell_type": "code",
   "execution_count": 16,
   "id": "fewer-occasion",
   "metadata": {
    "execution": {
     "iopub.execute_input": "2022-09-29T12:20:59.011464Z",
     "iopub.status.busy": "2022-09-29T12:20:59.010713Z",
     "iopub.status.idle": "2022-09-29T12:20:59.014467Z",
     "shell.execute_reply": "2022-09-29T12:20:59.013843Z"
    },
    "papermill": {
     "duration": 0.047216,
     "end_time": "2022-09-29T12:20:59.014597",
     "exception": false,
     "start_time": "2022-09-29T12:20:58.967381",
     "status": "completed"
    },
    "tags": []
   },
   "outputs": [],
   "source": [
    "#hide\n",
    "#delete problematic countries from table\n",
    "df_table = df_table[~df_table['Country/Region'].isin(['Cape Verde', 'Cruise Ship', 'Kosovo'])]"
   ]
  },
  {
   "cell_type": "code",
   "execution_count": 17,
   "id": "related-center",
   "metadata": {
    "execution": {
     "iopub.execute_input": "2022-09-29T12:20:59.113170Z",
     "iopub.status.busy": "2022-09-29T12:20:59.112411Z",
     "iopub.status.idle": "2022-09-29T12:20:59.115574Z",
     "shell.execute_reply": "2022-09-29T12:20:59.114949Z"
    },
    "papermill": {
     "duration": 0.06256,
     "end_time": "2022-09-29T12:20:59.115706",
     "exception": false,
     "start_time": "2022-09-29T12:20:59.053146",
     "status": "completed"
    },
    "tags": []
   },
   "outputs": [],
   "source": [
    "#hide\n",
    "metrics = [df_table.columns[index] for index in [1,2,5,6]]\n",
    "# s_china = df_table[df_table['Country/Region'].eq('China')][metrics].sum().add_prefix('China ')\n",
    "s_us = df_table[df_table['Country/Region'].eq('US')][metrics].sum().add_prefix('US ')\n",
    "s_eu = df_table[df_table['Continent'].eq('Europe')][metrics].sum().add_prefix('EU ')\n",
    "s_ind = df_table[df_table['Country/Region'].eq('India')][metrics].sum().add_prefix('India ')\n",
    "summary = {'updated': pd.to_datetime(dt_today), 'since': pd.to_datetime(dt_yday)}\n",
    "summary = {'updated': pd.to_datetime(dt_today), 'since': pd.to_datetime(dt_yday)}\n",
    "summary = {**summary, **df_table[metrics].sum(), **s_ind, **s_us, **s_eu}"
   ]
  },
  {
   "cell_type": "code",
   "execution_count": 18,
   "id": "engaging-syndrome",
   "metadata": {
    "execution": {
     "iopub.execute_input": "2022-09-29T12:20:59.194751Z",
     "iopub.status.busy": "2022-09-29T12:20:59.194079Z",
     "iopub.status.idle": "2022-09-29T12:20:59.214395Z",
     "shell.execute_reply": "2022-09-29T12:20:59.213839Z"
    },
    "papermill": {
     "duration": 0.061796,
     "end_time": "2022-09-29T12:20:59.214528",
     "exception": false,
     "start_time": "2022-09-29T12:20:59.152732",
     "status": "completed"
    },
    "tags": []
   },
   "outputs": [],
   "source": [
    "#hide\n",
    "dft_ct_new_cases = dft_cases.groupby(COL_REGION)[dt_cols].sum().diff(axis=1).fillna(0).astype(int)"
   ]
  },
  {
   "cell_type": "code",
   "execution_count": 19,
   "id": "neutral-assignment",
   "metadata": {
    "execution": {
     "iopub.execute_input": "2022-09-29T12:20:59.291060Z",
     "iopub.status.busy": "2022-09-29T12:20:59.290413Z",
     "iopub.status.idle": "2022-09-29T12:20:59.296200Z",
     "shell.execute_reply": "2022-09-29T12:20:59.295647Z"
    },
    "papermill": {
     "duration": 0.045377,
     "end_time": "2022-09-29T12:20:59.296318",
     "exception": false,
     "start_time": "2022-09-29T12:20:59.250941",
     "status": "completed"
    },
    "tags": []
   },
   "outputs": [],
   "source": [
    "#hide\n",
    "everydaycases = dft_ct_new_cases.cumsum(axis=1)"
   ]
  },
  {
   "cell_type": "code",
   "execution_count": 20,
   "id": "parliamentary-calgary",
   "metadata": {
    "execution": {
     "iopub.execute_input": "2022-09-29T12:20:59.373071Z",
     "iopub.status.busy": "2022-09-29T12:20:59.372390Z",
     "iopub.status.idle": "2022-09-29T12:20:59.979592Z",
     "shell.execute_reply": "2022-09-29T12:20:59.980169Z"
    },
    "papermill": {
     "duration": 0.648022,
     "end_time": "2022-09-29T12:20:59.980333",
     "exception": false,
     "start_time": "2022-09-29T12:20:59.332311",
     "status": "completed"
    },
    "tags": []
   },
   "outputs": [],
   "source": [
    "#hide\n",
    "import pandas as pd\n",
    "import matplotlib.pyplot as plt\n",
    "import matplotlib.ticker as ticker\n",
    "import matplotlib.animation as animation\n",
    "from IPython.display import HTML"
   ]
  },
  {
   "cell_type": "code",
   "execution_count": 21,
   "id": "lasting-extraction",
   "metadata": {
    "execution": {
     "iopub.execute_input": "2022-09-29T12:21:00.062879Z",
     "iopub.status.busy": "2022-09-29T12:21:00.062235Z",
     "iopub.status.idle": "2022-09-29T12:21:00.070050Z",
     "shell.execute_reply": "2022-09-29T12:21:00.070684Z"
    },
    "papermill": {
     "duration": 0.052209,
     "end_time": "2022-09-29T12:21:00.070845",
     "exception": false,
     "start_time": "2022-09-29T12:21:00.018636",
     "status": "completed"
    },
    "tags": []
   },
   "outputs": [],
   "source": [
    "#hide\n",
    "t = everydaycases.stack()"
   ]
  },
  {
   "cell_type": "code",
   "execution_count": 22,
   "id": "premier-sleeve",
   "metadata": {
    "execution": {
     "iopub.execute_input": "2022-09-29T12:21:00.158985Z",
     "iopub.status.busy": "2022-09-29T12:21:00.158342Z",
     "iopub.status.idle": "2022-09-29T12:21:00.170779Z",
     "shell.execute_reply": "2022-09-29T12:21:00.171443Z"
    },
    "papermill": {
     "duration": 0.053871,
     "end_time": "2022-09-29T12:21:00.171582",
     "exception": false,
     "start_time": "2022-09-29T12:21:00.117711",
     "status": "completed"
    },
    "tags": []
   },
   "outputs": [],
   "source": [
    "#hide\n",
    "g = t.reset_index(['Country/Region'])"
   ]
  },
  {
   "cell_type": "code",
   "execution_count": 23,
   "id": "distributed-pittsburgh",
   "metadata": {
    "execution": {
     "iopub.execute_input": "2022-09-29T12:21:00.249984Z",
     "iopub.status.busy": "2022-09-29T12:21:00.249239Z",
     "iopub.status.idle": "2022-09-29T12:21:00.256418Z",
     "shell.execute_reply": "2022-09-29T12:21:00.257007Z"
    },
    "papermill": {
     "duration": 0.050715,
     "end_time": "2022-09-29T12:21:00.257166",
     "exception": false,
     "start_time": "2022-09-29T12:21:00.206451",
     "status": "completed"
    },
    "tags": []
   },
   "outputs": [],
   "source": [
    "#hide\n",
    "g.index.name = 'date'"
   ]
  },
  {
   "cell_type": "code",
   "execution_count": 24,
   "id": "naked-donor",
   "metadata": {
    "execution": {
     "iopub.execute_input": "2022-09-29T12:21:00.335687Z",
     "iopub.status.busy": "2022-09-29T12:21:00.335010Z",
     "iopub.status.idle": "2022-09-29T12:21:00.337512Z",
     "shell.execute_reply": "2022-09-29T12:21:00.338396Z"
    },
    "papermill": {
     "duration": 0.04311,
     "end_time": "2022-09-29T12:21:00.338554",
     "exception": false,
     "start_time": "2022-09-29T12:21:00.295444",
     "status": "completed"
    },
    "tags": []
   },
   "outputs": [],
   "source": [
    "# #hide\n",
    "# g = g.reset_index(['date'])"
   ]
  },
  {
   "cell_type": "code",
   "execution_count": 25,
   "id": "incomplete-mustang",
   "metadata": {
    "execution": {
     "iopub.execute_input": "2022-09-29T12:21:00.412770Z",
     "iopub.status.busy": "2022-09-29T12:21:00.412050Z",
     "iopub.status.idle": "2022-09-29T12:21:00.415063Z",
     "shell.execute_reply": "2022-09-29T12:21:00.414475Z"
    },
    "papermill": {
     "duration": 0.041679,
     "end_time": "2022-09-29T12:21:00.415191",
     "exception": false,
     "start_time": "2022-09-29T12:21:00.373512",
     "status": "completed"
    },
    "tags": []
   },
   "outputs": [],
   "source": [
    "#hide\n",
    "# g.head()"
   ]
  },
  {
   "cell_type": "code",
   "execution_count": 26,
   "id": "specific-kruger",
   "metadata": {
    "execution": {
     "iopub.execute_input": "2022-09-29T12:21:00.492456Z",
     "iopub.status.busy": "2022-09-29T12:21:00.491772Z",
     "iopub.status.idle": "2022-09-29T12:21:00.494810Z",
     "shell.execute_reply": "2022-09-29T12:21:00.494259Z"
    },
    "papermill": {
     "duration": 0.043588,
     "end_time": "2022-09-29T12:21:00.494938",
     "exception": false,
     "start_time": "2022-09-29T12:21:00.451350",
     "status": "completed"
    },
    "tags": []
   },
   "outputs": [],
   "source": [
    "#hide\n",
    "# g.columns = ['date','country','cases']"
   ]
  },
  {
   "cell_type": "code",
   "execution_count": 27,
   "id": "tender-conversion",
   "metadata": {
    "execution": {
     "iopub.execute_input": "2022-09-29T12:21:00.570456Z",
     "iopub.status.busy": "2022-09-29T12:21:00.569597Z",
     "iopub.status.idle": "2022-09-29T12:21:00.574269Z",
     "shell.execute_reply": "2022-09-29T12:21:00.573739Z"
    },
    "papermill": {
     "duration": 0.043248,
     "end_time": "2022-09-29T12:21:00.574381",
     "exception": false,
     "start_time": "2022-09-29T12:21:00.531133",
     "status": "completed"
    },
    "tags": []
   },
   "outputs": [],
   "source": [
    "#hide\n",
    "# g['continent'] = g.country"
   ]
  },
  {
   "cell_type": "code",
   "execution_count": 28,
   "id": "substantial-wilderness",
   "metadata": {
    "execution": {
     "iopub.execute_input": "2022-09-29T12:21:00.649585Z",
     "iopub.status.busy": "2022-09-29T12:21:00.648929Z",
     "iopub.status.idle": "2022-09-29T12:21:00.652075Z",
     "shell.execute_reply": "2022-09-29T12:21:00.651526Z"
    },
    "papermill": {
     "duration": 0.042038,
     "end_time": "2022-09-29T12:21:00.652190",
     "exception": false,
     "start_time": "2022-09-29T12:21:00.610152",
     "status": "completed"
    },
    "tags": []
   },
   "outputs": [],
   "source": [
    "#hide\n",
    "# cols = list(g.columns.values)"
   ]
  },
  {
   "cell_type": "code",
   "execution_count": 29,
   "id": "solved-farming",
   "metadata": {
    "execution": {
     "iopub.execute_input": "2022-09-29T12:21:00.729124Z",
     "iopub.status.busy": "2022-09-29T12:21:00.728479Z",
     "iopub.status.idle": "2022-09-29T12:21:00.731321Z",
     "shell.execute_reply": "2022-09-29T12:21:00.731896Z"
    },
    "papermill": {
     "duration": 0.042338,
     "end_time": "2022-09-29T12:21:00.732026",
     "exception": false,
     "start_time": "2022-09-29T12:21:00.689688",
     "status": "completed"
    },
    "tags": []
   },
   "outputs": [],
   "source": [
    "#hide\n",
    "# cols.insert(0, cols.pop())"
   ]
  },
  {
   "cell_type": "code",
   "execution_count": 30,
   "id": "executed-adoption",
   "metadata": {
    "execution": {
     "iopub.execute_input": "2022-09-29T12:21:00.806402Z",
     "iopub.status.busy": "2022-09-29T12:21:00.805731Z",
     "iopub.status.idle": "2022-09-29T12:21:00.808614Z",
     "shell.execute_reply": "2022-09-29T12:21:00.808080Z"
    },
    "papermill": {
     "duration": 0.040482,
     "end_time": "2022-09-29T12:21:00.808729",
     "exception": false,
     "start_time": "2022-09-29T12:21:00.768247",
     "status": "completed"
    },
    "tags": []
   },
   "outputs": [],
   "source": [
    "#hide\n",
    "# g = g[cols]"
   ]
  },
  {
   "cell_type": "code",
   "execution_count": 31,
   "id": "subject-dublin",
   "metadata": {
    "execution": {
     "iopub.execute_input": "2022-09-29T12:21:00.890948Z",
     "iopub.status.busy": "2022-09-29T12:21:00.890227Z",
     "iopub.status.idle": "2022-09-29T12:21:00.893377Z",
     "shell.execute_reply": "2022-09-29T12:21:00.893931Z"
    },
    "papermill": {
     "duration": 0.044024,
     "end_time": "2022-09-29T12:21:00.894078",
     "exception": false,
     "start_time": "2022-09-29T12:21:00.850054",
     "status": "completed"
    },
    "tags": []
   },
   "outputs": [],
   "source": [
    "#hide\n",
    "# g['continent'] = g['continent'].map(mapping['map.continent'])"
   ]
  },
  {
   "cell_type": "code",
   "execution_count": 32,
   "id": "freelance-scout",
   "metadata": {
    "execution": {
     "iopub.execute_input": "2022-09-29T12:21:00.979449Z",
     "iopub.status.busy": "2022-09-29T12:21:00.978681Z",
     "iopub.status.idle": "2022-09-29T12:21:00.981867Z",
     "shell.execute_reply": "2022-09-29T12:21:00.981309Z"
    },
    "papermill": {
     "duration": 0.049588,
     "end_time": "2022-09-29T12:21:00.982045",
     "exception": false,
     "start_time": "2022-09-29T12:21:00.932457",
     "status": "completed"
    },
    "tags": []
   },
   "outputs": [],
   "source": [
    "#hide\n",
    "# g.head()"
   ]
  },
  {
   "cell_type": "code",
   "execution_count": 33,
   "id": "limited-engine",
   "metadata": {
    "execution": {
     "iopub.execute_input": "2022-09-29T12:21:01.070374Z",
     "iopub.status.busy": "2022-09-29T12:21:01.069579Z",
     "iopub.status.idle": "2022-09-29T12:21:01.072897Z",
     "shell.execute_reply": "2022-09-29T12:21:01.072319Z"
    },
    "papermill": {
     "duration": 0.050324,
     "end_time": "2022-09-29T12:21:01.073035",
     "exception": false,
     "start_time": "2022-09-29T12:21:01.022711",
     "status": "completed"
    },
    "tags": []
   },
   "outputs": [],
   "source": [
    "# hide\n",
    "# g['date'] = g['date'].astype('datetime64[ns]')"
   ]
  },
  {
   "cell_type": "code",
   "execution_count": 34,
   "id": "sophisticated-supervisor",
   "metadata": {
    "execution": {
     "iopub.execute_input": "2022-09-29T12:21:01.165586Z",
     "iopub.status.busy": "2022-09-29T12:21:01.164846Z",
     "iopub.status.idle": "2022-09-29T12:21:01.167698Z",
     "shell.execute_reply": "2022-09-29T12:21:01.168230Z"
    },
    "papermill": {
     "duration": 0.05082,
     "end_time": "2022-09-29T12:21:01.168384",
     "exception": false,
     "start_time": "2022-09-29T12:21:01.117564",
     "status": "completed"
    },
    "tags": []
   },
   "outputs": [],
   "source": [
    "#hide\n",
    "# g['date'] = g.date.dt.dayofyear"
   ]
  },
  {
   "cell_type": "code",
   "execution_count": 35,
   "id": "inside-dubai",
   "metadata": {
    "execution": {
     "iopub.execute_input": "2022-09-29T12:21:01.251209Z",
     "iopub.status.busy": "2022-09-29T12:21:01.250122Z",
     "iopub.status.idle": "2022-09-29T12:21:01.253268Z",
     "shell.execute_reply": "2022-09-29T12:21:01.252645Z"
    },
    "papermill": {
     "duration": 0.044421,
     "end_time": "2022-09-29T12:21:01.253385",
     "exception": false,
     "start_time": "2022-09-29T12:21:01.208964",
     "status": "completed"
    },
    "tags": []
   },
   "outputs": [],
   "source": [
    "#hide\n",
    "# g = g.rename(columns= {'continent':'group','country':'name','cases':'value'})"
   ]
  },
  {
   "cell_type": "code",
   "execution_count": 36,
   "id": "fleet-motorcycle",
   "metadata": {
    "execution": {
     "iopub.execute_input": "2022-09-29T12:21:01.332999Z",
     "iopub.status.busy": "2022-09-29T12:21:01.332346Z",
     "iopub.status.idle": "2022-09-29T12:21:01.335710Z",
     "shell.execute_reply": "2022-09-29T12:21:01.335091Z"
    },
    "papermill": {
     "duration": 0.04191,
     "end_time": "2022-09-29T12:21:01.335831",
     "exception": false,
     "start_time": "2022-09-29T12:21:01.293921",
     "status": "completed"
    },
    "tags": []
   },
   "outputs": [],
   "source": [
    "#hide\n",
    "# cols = ['name','group','day','value']"
   ]
  },
  {
   "cell_type": "code",
   "execution_count": 37,
   "id": "continued-sleeping",
   "metadata": {
    "execution": {
     "iopub.execute_input": "2022-09-29T12:21:01.411004Z",
     "iopub.status.busy": "2022-09-29T12:21:01.410350Z",
     "iopub.status.idle": "2022-09-29T12:21:01.412820Z",
     "shell.execute_reply": "2022-09-29T12:21:01.413358Z"
    },
    "papermill": {
     "duration": 0.042121,
     "end_time": "2022-09-29T12:21:01.413505",
     "exception": false,
     "start_time": "2022-09-29T12:21:01.371384",
     "status": "completed"
    },
    "tags": []
   },
   "outputs": [],
   "source": [
    "#hide\n",
    "# g.rename(columns= {'date':'day'},inplace = True)"
   ]
  },
  {
   "cell_type": "code",
   "execution_count": 38,
   "id": "major-fight",
   "metadata": {
    "execution": {
     "iopub.execute_input": "2022-09-29T12:21:01.490596Z",
     "iopub.status.busy": "2022-09-29T12:21:01.489936Z",
     "iopub.status.idle": "2022-09-29T12:21:01.492830Z",
     "shell.execute_reply": "2022-09-29T12:21:01.493370Z"
    },
    "papermill": {
     "duration": 0.044814,
     "end_time": "2022-09-29T12:21:01.493500",
     "exception": false,
     "start_time": "2022-09-29T12:21:01.448686",
     "status": "completed"
    },
    "tags": []
   },
   "outputs": [],
   "source": [
    "#hide\n",
    "# g = g[cols]"
   ]
  },
  {
   "cell_type": "code",
   "execution_count": 39,
   "id": "structured-mobile",
   "metadata": {
    "execution": {
     "iopub.execute_input": "2022-09-29T12:21:01.568181Z",
     "iopub.status.busy": "2022-09-29T12:21:01.567533Z",
     "iopub.status.idle": "2022-09-29T12:21:01.570570Z",
     "shell.execute_reply": "2022-09-29T12:21:01.570028Z"
    },
    "papermill": {
     "duration": 0.041223,
     "end_time": "2022-09-29T12:21:01.570682",
     "exception": false,
     "start_time": "2022-09-29T12:21:01.529459",
     "status": "completed"
    },
    "tags": []
   },
   "outputs": [],
   "source": [
    "# #hide\n",
    "# g = g[g.group.notna()]"
   ]
  },
  {
   "cell_type": "code",
   "execution_count": 40,
   "id": "determined-closing",
   "metadata": {
    "execution": {
     "iopub.execute_input": "2022-09-29T12:21:01.645782Z",
     "iopub.status.busy": "2022-09-29T12:21:01.645117Z",
     "iopub.status.idle": "2022-09-29T12:21:01.648148Z",
     "shell.execute_reply": "2022-09-29T12:21:01.647478Z"
    },
    "papermill": {
     "duration": 0.042615,
     "end_time": "2022-09-29T12:21:01.648282",
     "exception": false,
     "start_time": "2022-09-29T12:21:01.605667",
     "status": "completed"
    },
    "tags": []
   },
   "outputs": [],
   "source": [
    "# #hide\n",
    "# colors = dict(zip(\n",
    "#     [\"Oceania\", \"Europe\", \"Asia\", \"South America\", \"Middle East\", \"North America\", \"Africa\"],\n",
    "#     [\"#adb0ff\", \"#ffb3ff\", \"#90d595\", \"#e48381\", \"#aafbff\", \"#f7bb5f\", \"#eafb50\"]\n",
    "# ))\n",
    "# group_lk = g.set_index('name')['group'].to_dict()"
   ]
  },
  {
   "cell_type": "code",
   "execution_count": null,
   "id": "gross-drinking",
   "metadata": {
    "papermill": {
     "duration": 0.035085,
     "end_time": "2022-09-29T12:21:01.719144",
     "exception": false,
     "start_time": "2022-09-29T12:21:01.684059",
     "status": "completed"
    },
    "tags": []
   },
   "outputs": [],
   "source": []
  },
  {
   "cell_type": "code",
   "execution_count": 41,
   "id": "subject-macintosh",
   "metadata": {
    "execution": {
     "iopub.execute_input": "2022-09-29T12:21:01.795103Z",
     "iopub.status.busy": "2022-09-29T12:21:01.794383Z",
     "iopub.status.idle": "2022-09-29T12:21:01.796900Z",
     "shell.execute_reply": "2022-09-29T12:21:01.797463Z"
    },
    "papermill": {
     "duration": 0.04259,
     "end_time": "2022-09-29T12:21:01.797625",
     "exception": false,
     "start_time": "2022-09-29T12:21:01.755035",
     "status": "completed"
    },
    "tags": []
   },
   "outputs": [],
   "source": [
    "# #hide\n",
    "# fig, ax = plt.subplots(figsize=(15, 8))\n",
    "\n",
    "# def draw_barchart(current_day):\n",
    "#     dff = g[g['day'].eq(current_day)].sort_values(by='value', ascending=True).tail(10)\n",
    "#     ax.clear()\n",
    "#     ax.barh(dff['name'], dff['value'], color=[colors[group_lk[x]] for x in dff['name']])\n",
    "#     dx = dff['value'].max() / 200\n",
    "    \n",
    "#     for i, (value, name) in enumerate(zip(dff['value'], dff['name'])):\n",
    "#         ax.text(value-dx, i,     name,           size=14, weight=600, ha='right', va='bottom')\n",
    "#         ax.text(value-dx, i-.25, group_lk[name], size=10, color='#444444', ha='right', va='baseline')\n",
    "#         ax.text(value+dx, i,     f'{value:,.0f}',  size=14, ha='left',  va='center')\n",
    "#     ax.text(1, 0.4, current_day, transform=ax.transAxes, color='#777777', size=46, ha='right', weight=800)\n",
    "#     ax.text(0, 1.06, 'Population (thousands)', transform=ax.transAxes, size=12, color='#777777')\n",
    "#     ax.xaxis.set_major_formatter(ticker.StrMethodFormatter('{x:,.0f}'))\n",
    "#     ax.xaxis.set_ticks_position('top')\n",
    "#     ax.tick_params(axis='x', colors='#777777', labelsize=12)\n",
    "#     ax.set_yticks([])\n",
    "#     ax.margins(0, 0.01)\n",
    "#     ax.grid(which='major', axis='x', linestyle='-')\n",
    "#     ax.set_axisbelow(True)\n",
    "    \n",
    "#     ax.text(0, 1.15, 'Coronavirus',\n",
    "#             transform=ax.transAxes, size=24, weight=600, ha='left', va='top')\n",
    "# #     ax.text(1, 0, 'by @pratapvardhan; credit @jburnmurdoch', transform=ax.transAxes, color='#777777', ha='right',\n",
    "# #             bbox=dict(facecolor='white', alpha=0.8, edgecolor='white'))\n",
    "#     plt.box(False)"
   ]
  },
  {
   "cell_type": "code",
   "execution_count": 42,
   "id": "sexual-wages",
   "metadata": {
    "execution": {
     "iopub.execute_input": "2022-09-29T12:21:01.878182Z",
     "iopub.status.busy": "2022-09-29T12:21:01.877522Z",
     "iopub.status.idle": "2022-09-29T12:21:01.880400Z",
     "shell.execute_reply": "2022-09-29T12:21:01.880916Z"
    },
    "papermill": {
     "duration": 0.043826,
     "end_time": "2022-09-29T12:21:01.881052",
     "exception": false,
     "start_time": "2022-09-29T12:21:01.837226",
     "status": "completed"
    },
    "tags": []
   },
   "outputs": [],
   "source": [
    "# #hide_input\n",
    "# fig, ax = plt.subplots(figsize=(15, 8))\n",
    "# animator = animation.FuncAnimation(fig, draw_barchart, frames=range(g.day.values.min(), g.day.values.max()))\n",
    "# HTML(animator.to_jshtml())\n",
    "# # or use animator.to_html5_video() or animator.save() "
   ]
  },
  {
   "cell_type": "code",
   "execution_count": null,
   "id": "australian-container",
   "metadata": {
    "papermill": {
     "duration": 0.035424,
     "end_time": "2022-09-29T12:21:01.952831",
     "exception": false,
     "start_time": "2022-09-29T12:21:01.917407",
     "status": "completed"
    },
    "tags": []
   },
   "outputs": [],
   "source": []
  },
  {
   "cell_type": "code",
   "execution_count": null,
   "id": "mediterranean-pontiac",
   "metadata": {
    "papermill": {
     "duration": 0.035217,
     "end_time": "2022-09-29T12:21:02.023882",
     "exception": false,
     "start_time": "2022-09-29T12:21:01.988665",
     "status": "completed"
    },
    "tags": []
   },
   "outputs": [],
   "source": []
  },
  {
   "cell_type": "code",
   "execution_count": null,
   "id": "aging-legislature",
   "metadata": {
    "papermill": {
     "duration": 0.038594,
     "end_time": "2022-09-29T12:21:02.097956",
     "exception": false,
     "start_time": "2022-09-29T12:21:02.059362",
     "status": "completed"
    },
    "tags": []
   },
   "outputs": [],
   "source": []
  }
 ],
 "metadata": {
  "kernelspec": {
   "display_name": "Python 3",
   "language": "python",
   "name": "python3"
  },
  "language_info": {
   "codemirror_mode": {
    "name": "ipython",
    "version": 3
   },
   "file_extension": ".py",
   "mimetype": "text/x-python",
   "name": "python",
   "nbconvert_exporter": "python",
   "pygments_lexer": "ipython3",
   "version": "3.6.15"
  },
  "papermill": {
   "duration": 6.821958,
   "end_time": "2022-09-29T12:21:02.455800",
   "environment_variables": {},
   "exception": null,
   "input_path": "2020-03-21-covid19exp.ipynb",
   "output_path": "2020-03-21-covid19exp.ipynb",
   "parameters": {},
   "start_time": "2022-09-29T12:20:55.633842",
   "version": "2.0.0"
  }
 },
 "nbformat": 4,
 "nbformat_minor": 5
}