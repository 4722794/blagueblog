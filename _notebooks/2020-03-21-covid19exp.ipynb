{
 "cells": [
  {
   "cell_type": "markdown",
   "id": "muslim-click",
   "metadata": {
    "papermill": {
     "duration": 0.041761,
     "end_time": "2022-10-01T01:08:06.655084",
     "exception": false,
     "start_time": "2022-10-01T01:08:06.613323",
     "status": "completed"
    },
    "tags": []
   },
   "source": [
    "# COVID-19 Case Race\n",
    "> A race chart to see rising cases around the world\n",
    "\n",
    "- author: Hargun Oberoi\n",
    "- image: images/covid-overview.png\n",
    "- hide: false\n",
    "- badges: false"
   ]
  },
  {
   "cell_type": "code",
   "execution_count": 1,
   "id": "proof-material",
   "metadata": {
    "execution": {
     "iopub.execute_input": "2022-10-01T01:08:06.737159Z",
     "iopub.status.busy": "2022-10-01T01:08:06.736431Z",
     "iopub.status.idle": "2022-10-01T01:08:07.109711Z",
     "shell.execute_reply": "2022-10-01T01:08:07.108982Z"
    },
    "papermill": {
     "duration": 0.419043,
     "end_time": "2022-10-01T01:08:07.109881",
     "exception": false,
     "start_time": "2022-10-01T01:08:06.690838",
     "status": "completed"
    },
    "tags": []
   },
   "outputs": [],
   "source": [
    "#hide\n",
    "import numpy as np\n",
    "import pandas as pd\n",
    "from jinja2 import Template\n",
    "from IPython.display import HTML"
   ]
  },
  {
   "cell_type": "code",
   "execution_count": 2,
   "id": "developed-terminology",
   "metadata": {
    "execution": {
     "iopub.execute_input": "2022-10-01T01:08:07.183639Z",
     "iopub.status.busy": "2022-10-01T01:08:07.182907Z",
     "iopub.status.idle": "2022-10-01T01:08:07.186058Z",
     "shell.execute_reply": "2022-10-01T01:08:07.185497Z"
    },
    "papermill": {
     "duration": 0.041332,
     "end_time": "2022-10-01T01:08:07.186182",
     "exception": false,
     "start_time": "2022-10-01T01:08:07.144850",
     "status": "completed"
    },
    "tags": []
   },
   "outputs": [],
   "source": [
    "#hide\n",
    "\n",
    "# FETCH\n",
    "base_url = 'https://raw.githubusercontent.com/pratapvardhan/notebooks/master/covid19/'\n",
    "paths = {\n",
    "    'mapping': base_url + 'mapping_countries.csv',\n",
    "    'overview': base_url + 'overview.tpl'\n",
    "}"
   ]
  },
  {
   "cell_type": "code",
   "execution_count": 3,
   "id": "dynamic-saver",
   "metadata": {
    "execution": {
     "iopub.execute_input": "2022-10-01T01:08:07.264230Z",
     "iopub.status.busy": "2022-10-01T01:08:07.263511Z",
     "iopub.status.idle": "2022-10-01T01:08:07.267704Z",
     "shell.execute_reply": "2022-10-01T01:08:07.267143Z"
    },
    "papermill": {
     "duration": 0.048699,
     "end_time": "2022-10-01T01:08:07.267830",
     "exception": false,
     "start_time": "2022-10-01T01:08:07.219131",
     "status": "completed"
    },
    "tags": []
   },
   "outputs": [
    {
     "data": {
      "text/plain": [
       "'https://raw.githubusercontent.com/pratapvardhan/notebooks/master/covid19/mapping_countries.csv'"
      ]
     },
     "execution_count": 3,
     "metadata": {},
     "output_type": "execute_result"
    }
   ],
   "source": [
    "#hide\n",
    "paths['mapping']"
   ]
  },
  {
   "cell_type": "code",
   "execution_count": 4,
   "id": "urban-software",
   "metadata": {
    "execution": {
     "iopub.execute_input": "2022-10-01T01:08:07.341773Z",
     "iopub.status.busy": "2022-10-01T01:08:07.341084Z",
     "iopub.status.idle": "2022-10-01T01:08:07.344415Z",
     "shell.execute_reply": "2022-10-01T01:08:07.343827Z"
    },
    "papermill": {
     "duration": 0.042451,
     "end_time": "2022-10-01T01:08:07.344541",
     "exception": false,
     "start_time": "2022-10-01T01:08:07.302090",
     "status": "completed"
    },
    "tags": []
   },
   "outputs": [],
   "source": [
    "#hide\n",
    "def get_mappings(url):\n",
    "    df = pd.read_csv(url)\n",
    "    return {\n",
    "        'df': df,\n",
    "        'replace.country': dict(df.dropna(subset=['Name']).set_index('Country')['Name']),\n",
    "        'map.continent': dict(df.set_index('Name')['Continent'])\n",
    "    }"
   ]
  },
  {
   "cell_type": "code",
   "execution_count": 5,
   "id": "intimate-machinery",
   "metadata": {
    "execution": {
     "iopub.execute_input": "2022-10-01T01:08:07.417222Z",
     "iopub.status.busy": "2022-10-01T01:08:07.416519Z",
     "iopub.status.idle": "2022-10-01T01:08:07.463830Z",
     "shell.execute_reply": "2022-10-01T01:08:07.463209Z"
    },
    "papermill": {
     "duration": 0.086057,
     "end_time": "2022-10-01T01:08:07.463972",
     "exception": false,
     "start_time": "2022-10-01T01:08:07.377915",
     "status": "completed"
    },
    "tags": []
   },
   "outputs": [],
   "source": [
    "#hide\n",
    "mapping = get_mappings(paths['mapping'])"
   ]
  },
  {
   "cell_type": "code",
   "execution_count": 6,
   "id": "certified-tactics",
   "metadata": {
    "execution": {
     "iopub.execute_input": "2022-10-01T01:08:07.536363Z",
     "iopub.status.busy": "2022-10-01T01:08:07.535693Z",
     "iopub.status.idle": "2022-10-01T01:08:07.538869Z",
     "shell.execute_reply": "2022-10-01T01:08:07.538319Z"
    },
    "papermill": {
     "duration": 0.041831,
     "end_time": "2022-10-01T01:08:07.538985",
     "exception": false,
     "start_time": "2022-10-01T01:08:07.497154",
     "status": "completed"
    },
    "tags": []
   },
   "outputs": [],
   "source": [
    "#hide\n",
    "def get_template(path):\n",
    "    from urllib.parse import urlparse\n",
    "    if bool(urlparse(path).netloc):\n",
    "        from urllib.request import urlopen\n",
    "        return urlopen(path).read().decode('utf8')\n",
    "    return open(path).read()"
   ]
  },
  {
   "cell_type": "code",
   "execution_count": 7,
   "id": "realistic-blast",
   "metadata": {
    "execution": {
     "iopub.execute_input": "2022-10-01T01:08:07.609508Z",
     "iopub.status.busy": "2022-10-01T01:08:07.608844Z",
     "iopub.status.idle": "2022-10-01T01:08:07.611514Z",
     "shell.execute_reply": "2022-10-01T01:08:07.610966Z"
    },
    "papermill": {
     "duration": 0.040144,
     "end_time": "2022-10-01T01:08:07.611641",
     "exception": false,
     "start_time": "2022-10-01T01:08:07.571497",
     "status": "completed"
    },
    "tags": []
   },
   "outputs": [],
   "source": [
    "#hide\n",
    "def get_frame(name):\n",
    "    url = (\n",
    "        'https://raw.githubusercontent.com/CSSEGISandData/COVID-19/master/csse_covid_19_data/'\n",
    "        f'csse_covid_19_time_series/time_series_covid19_{name}_global.csv')\n",
    "    df = pd.read_csv(url)\n",
    "    # rename countries\n",
    "    df['Country/Region'] = df['Country/Region'].replace(mapping['replace.country'])\n",
    "    return df"
   ]
  },
  {
   "cell_type": "code",
   "execution_count": 8,
   "id": "affiliated-characterization",
   "metadata": {
    "execution": {
     "iopub.execute_input": "2022-10-01T01:08:07.685899Z",
     "iopub.status.busy": "2022-10-01T01:08:07.685074Z",
     "iopub.status.idle": "2022-10-01T01:08:07.687063Z",
     "shell.execute_reply": "2022-10-01T01:08:07.687712Z"
    },
    "papermill": {
     "duration": 0.042657,
     "end_time": "2022-10-01T01:08:07.687867",
     "exception": false,
     "start_time": "2022-10-01T01:08:07.645210",
     "status": "completed"
    },
    "tags": []
   },
   "outputs": [],
   "source": [
    "#hide\n",
    "def get_dates(df):\n",
    "    dt_cols = df.columns[~df.columns.isin(['Province/State', 'Country/Region', 'Lat', 'Long'])]\n",
    "    LAST_DATE_I = -1\n",
    "    # sometimes last column may be empty, then go backwards\n",
    "    for i in range(-1, -len(dt_cols), -1):\n",
    "        if not df[dt_cols[i]].fillna(0).eq(0).all():\n",
    "            LAST_DATE_I = i\n",
    "            break\n",
    "    return LAST_DATE_I, dt_cols"
   ]
  },
  {
   "cell_type": "code",
   "execution_count": 9,
   "id": "recent-optimization",
   "metadata": {
    "execution": {
     "iopub.execute_input": "2022-10-01T01:08:07.758578Z",
     "iopub.status.busy": "2022-10-01T01:08:07.757893Z",
     "iopub.status.idle": "2022-10-01T01:08:08.336175Z",
     "shell.execute_reply": "2022-10-01T01:08:08.334977Z"
    },
    "papermill": {
     "duration": 0.615795,
     "end_time": "2022-10-01T01:08:08.336325",
     "exception": false,
     "start_time": "2022-10-01T01:08:07.720530",
     "status": "completed"
    },
    "tags": []
   },
   "outputs": [],
   "source": [
    "#hide\n",
    "COL_REGION = 'Country/Region'\n",
    "# Confirmed, Recovered, Deaths\n",
    "df = get_frame('confirmed')\n",
    "# dft_: timeseries, dfc_: today country agg\n",
    "dft_cases = df\n",
    "dft_deaths = get_frame('deaths')\n",
    "dft_recovered = get_frame('recovered')\n",
    "LAST_DATE_I, dt_cols = get_dates(df)"
   ]
  },
  {
   "cell_type": "code",
   "execution_count": 10,
   "id": "absolute-copper",
   "metadata": {
    "execution": {
     "iopub.execute_input": "2022-10-01T01:08:08.410945Z",
     "iopub.status.busy": "2022-10-01T01:08:08.409350Z",
     "iopub.status.idle": "2022-10-01T01:08:08.411725Z",
     "shell.execute_reply": "2022-10-01T01:08:08.412270Z"
    },
    "papermill": {
     "duration": 0.041841,
     "end_time": "2022-10-01T01:08:08.412409",
     "exception": false,
     "start_time": "2022-10-01T01:08:08.370568",
     "status": "completed"
    },
    "tags": []
   },
   "outputs": [],
   "source": [
    "#hide\n",
    "LAST_DATE_I, dt_cols = get_dates(df)\n",
    "dt_today =dt_cols[LAST_DATE_I]\n",
    "# dt_5day = dt_cols[LAST_DATE_I - 5]\n",
    "dt_yday = dt_cols[LAST_DATE_I - 1]"
   ]
  },
  {
   "cell_type": "code",
   "execution_count": 11,
   "id": "restricted-sheriff",
   "metadata": {
    "execution": {
     "iopub.execute_input": "2022-10-01T01:08:08.484291Z",
     "iopub.status.busy": "2022-10-01T01:08:08.482212Z",
     "iopub.status.idle": "2022-10-01T01:08:08.492134Z",
     "shell.execute_reply": "2022-10-01T01:08:08.491604Z"
    },
    "papermill": {
     "duration": 0.047629,
     "end_time": "2022-10-01T01:08:08.492246",
     "exception": false,
     "start_time": "2022-10-01T01:08:08.444617",
     "status": "completed"
    },
    "tags": []
   },
   "outputs": [],
   "source": [
    "#hide\n",
    "dfc_cases = dft_cases.groupby(COL_REGION)[dt_today].sum()\n",
    "dfc_deaths = dft_deaths.groupby(COL_REGION)[dt_today].sum()\n",
    "# dfp_cases = dft_cases.groupby(COL_REGION)[dt_5day].sum()\n",
    "# dfp_deaths = dft_deaths.groupby(COL_REGION)[dt_5day].sum()\n",
    "dfp_cases = dft_cases.groupby(COL_REGION)[dt_yday].sum()\n",
    "dfp_deaths = dft_deaths.groupby(COL_REGION)[dt_yday].sum()"
   ]
  },
  {
   "cell_type": "code",
   "execution_count": 12,
   "id": "deluxe-hepatitis",
   "metadata": {
    "execution": {
     "iopub.execute_input": "2022-10-01T01:08:08.565816Z",
     "iopub.status.busy": "2022-10-01T01:08:08.565120Z",
     "iopub.status.idle": "2022-10-01T01:08:08.571177Z",
     "shell.execute_reply": "2022-10-01T01:08:08.570630Z"
    },
    "papermill": {
     "duration": 0.045799,
     "end_time": "2022-10-01T01:08:08.571307",
     "exception": false,
     "start_time": "2022-10-01T01:08:08.525508",
     "status": "completed"
    },
    "tags": []
   },
   "outputs": [],
   "source": [
    "#hide\n",
    "df_table = (pd.DataFrame(dict(Cases = dfc_cases, Deaths = dfc_deaths, PCases = dfp_cases, PDeaths = dfp_deaths))\n",
    "            .sort_values(by = ['Cases','Deaths'], ascending = [False, False])\n",
    "            .reset_index())"
   ]
  },
  {
   "cell_type": "code",
   "execution_count": 13,
   "id": "educational-chancellor",
   "metadata": {
    "execution": {
     "iopub.execute_input": "2022-10-01T01:08:08.657987Z",
     "iopub.status.busy": "2022-10-01T01:08:08.657264Z",
     "iopub.status.idle": "2022-10-01T01:08:08.666094Z",
     "shell.execute_reply": "2022-10-01T01:08:08.665539Z"
    },
    "papermill": {
     "duration": 0.061904,
     "end_time": "2022-10-01T01:08:08.666218",
     "exception": false,
     "start_time": "2022-10-01T01:08:08.604314",
     "status": "completed"
    },
    "tags": []
   },
   "outputs": [
    {
     "data": {
      "text/html": [
       "<div>\n",
       "<style scoped>\n",
       "    .dataframe tbody tr th:only-of-type {\n",
       "        vertical-align: middle;\n",
       "    }\n",
       "\n",
       "    .dataframe tbody tr th {\n",
       "        vertical-align: top;\n",
       "    }\n",
       "\n",
       "    .dataframe thead th {\n",
       "        text-align: right;\n",
       "    }\n",
       "</style>\n",
       "<table border=\"1\" class=\"dataframe\">\n",
       "  <thead>\n",
       "    <tr style=\"text-align: right;\">\n",
       "      <th></th>\n",
       "      <th>Country/Region</th>\n",
       "      <th>Cases</th>\n",
       "      <th>Deaths</th>\n",
       "      <th>PCases</th>\n",
       "      <th>PDeaths</th>\n",
       "      <th>Cases (+)</th>\n",
       "      <th>Deaths (+)</th>\n",
       "      <th>Fatality Rate</th>\n",
       "      <th>Continent</th>\n",
       "    </tr>\n",
       "  </thead>\n",
       "  <tbody>\n",
       "    <tr>\n",
       "      <th>0</th>\n",
       "      <td>US</td>\n",
       "      <td>96347994</td>\n",
       "      <td>1059288</td>\n",
       "      <td>96264615</td>\n",
       "      <td>1058595</td>\n",
       "      <td>83379</td>\n",
       "      <td>693</td>\n",
       "      <td>1.10</td>\n",
       "      <td>North America</td>\n",
       "    </tr>\n",
       "    <tr>\n",
       "      <th>1</th>\n",
       "      <td>India</td>\n",
       "      <td>44587307</td>\n",
       "      <td>528629</td>\n",
       "      <td>44583360</td>\n",
       "      <td>528611</td>\n",
       "      <td>3947</td>\n",
       "      <td>18</td>\n",
       "      <td>1.19</td>\n",
       "      <td>Asia</td>\n",
       "    </tr>\n",
       "    <tr>\n",
       "      <th>2</th>\n",
       "      <td>France</td>\n",
       "      <td>35560024</td>\n",
       "      <td>156118</td>\n",
       "      <td>35508658</td>\n",
       "      <td>156085</td>\n",
       "      <td>51366</td>\n",
       "      <td>33</td>\n",
       "      <td>0.44</td>\n",
       "      <td>Europe</td>\n",
       "    </tr>\n",
       "    <tr>\n",
       "      <th>3</th>\n",
       "      <td>Brazil</td>\n",
       "      <td>34654190</td>\n",
       "      <td>685927</td>\n",
       "      <td>34654190</td>\n",
       "      <td>685927</td>\n",
       "      <td>0</td>\n",
       "      <td>0</td>\n",
       "      <td>1.98</td>\n",
       "      <td>South America</td>\n",
       "    </tr>\n",
       "    <tr>\n",
       "      <th>4</th>\n",
       "      <td>Germany</td>\n",
       "      <td>33312373</td>\n",
       "      <td>149948</td>\n",
       "      <td>33216006</td>\n",
       "      <td>149808</td>\n",
       "      <td>96367</td>\n",
       "      <td>140</td>\n",
       "      <td>0.45</td>\n",
       "      <td>Europe</td>\n",
       "    </tr>\n",
       "  </tbody>\n",
       "</table>\n",
       "</div>"
      ],
      "text/plain": [
       "  Country/Region     Cases   Deaths    PCases  PDeaths  Cases (+)  Deaths (+)  \\\n",
       "0             US  96347994  1059288  96264615  1058595      83379         693   \n",
       "1          India  44587307   528629  44583360   528611       3947          18   \n",
       "2         France  35560024   156118  35508658   156085      51366          33   \n",
       "3         Brazil  34654190   685927  34654190   685927          0           0   \n",
       "4        Germany  33312373   149948  33216006   149808      96367         140   \n",
       "\n",
       "   Fatality Rate      Continent  \n",
       "0           1.10  North America  \n",
       "1           1.19           Asia  \n",
       "2           0.44         Europe  \n",
       "3           1.98  South America  \n",
       "4           0.45         Europe  "
      ]
     },
     "execution_count": 13,
     "metadata": {},
     "output_type": "execute_result"
    }
   ],
   "source": [
    "#hide\n",
    "for c in 'Cases, Deaths'.split(', '):\n",
    "    df_table[f'{c} (+)'] = (df_table[c] - df_table[f'P{c}']).clip(0)\n",
    "    #Clip ça veut dire, les chiffres negatif sont interdit\n",
    "df_table['Fatality Rate'] = (100* df_table['Deaths']/ df_table['Cases']).round(2)\n",
    "df_table['Continent'] = df_table['Country/Region'].map(mapping['map.continent'])\n",
    "df_table.head(5)"
   ]
  },
  {
   "cell_type": "code",
   "execution_count": 14,
   "id": "aboriginal-bulgaria",
   "metadata": {
    "execution": {
     "iopub.execute_input": "2022-10-01T01:08:08.744472Z",
     "iopub.status.busy": "2022-10-01T01:08:08.743735Z",
     "iopub.status.idle": "2022-10-01T01:08:08.746328Z",
     "shell.execute_reply": "2022-10-01T01:08:08.746826Z"
    },
    "papermill": {
     "duration": 0.04344,
     "end_time": "2022-10-01T01:08:08.746970",
     "exception": false,
     "start_time": "2022-10-01T01:08:08.703530",
     "status": "completed"
    },
    "tags": []
   },
   "outputs": [],
   "source": [
    "#hide\n",
    "#delete problematic countries from table\n",
    "df_table = df_table[~df_table['Country/Region'].isin(['Cape Verde', 'Cruise Ship', 'Kosovo'])]"
   ]
  },
  {
   "cell_type": "code",
   "execution_count": 15,
   "id": "fantastic-effect",
   "metadata": {
    "execution": {
     "iopub.execute_input": "2022-10-01T01:08:08.823688Z",
     "iopub.status.busy": "2022-10-01T01:08:08.822980Z",
     "iopub.status.idle": "2022-10-01T01:08:08.842308Z",
     "shell.execute_reply": "2022-10-01T01:08:08.842964Z"
    },
    "papermill": {
     "duration": 0.062464,
     "end_time": "2022-10-01T01:08:08.843114",
     "exception": false,
     "start_time": "2022-10-01T01:08:08.780650",
     "status": "completed"
    },
    "tags": []
   },
   "outputs": [
    {
     "data": {
      "text/html": [
       "<div>\n",
       "<style scoped>\n",
       "    .dataframe tbody tr th:only-of-type {\n",
       "        vertical-align: middle;\n",
       "    }\n",
       "\n",
       "    .dataframe tbody tr th {\n",
       "        vertical-align: top;\n",
       "    }\n",
       "\n",
       "    .dataframe thead th {\n",
       "        text-align: right;\n",
       "    }\n",
       "</style>\n",
       "<table border=\"1\" class=\"dataframe\">\n",
       "  <thead>\n",
       "    <tr style=\"text-align: right;\">\n",
       "      <th></th>\n",
       "      <th>Country/Region</th>\n",
       "      <th>Cases</th>\n",
       "      <th>Deaths</th>\n",
       "      <th>PCases</th>\n",
       "      <th>PDeaths</th>\n",
       "      <th>Cases (+)</th>\n",
       "      <th>Deaths (+)</th>\n",
       "      <th>Fatality Rate</th>\n",
       "      <th>Continent</th>\n",
       "    </tr>\n",
       "  </thead>\n",
       "  <tbody>\n",
       "    <tr>\n",
       "      <th>0</th>\n",
       "      <td>US</td>\n",
       "      <td>96347994</td>\n",
       "      <td>1059288</td>\n",
       "      <td>96264615</td>\n",
       "      <td>1058595</td>\n",
       "      <td>83379</td>\n",
       "      <td>693</td>\n",
       "      <td>1.1</td>\n",
       "      <td>North America</td>\n",
       "    </tr>\n",
       "    <tr>\n",
       "      <th>1</th>\n",
       "      <td>India</td>\n",
       "      <td>44587307</td>\n",
       "      <td>528629</td>\n",
       "      <td>44583360</td>\n",
       "      <td>528611</td>\n",
       "      <td>3947</td>\n",
       "      <td>18</td>\n",
       "      <td>1.2</td>\n",
       "      <td>Asia</td>\n",
       "    </tr>\n",
       "    <tr>\n",
       "      <th>2</th>\n",
       "      <td>France</td>\n",
       "      <td>35560024</td>\n",
       "      <td>156118</td>\n",
       "      <td>35508658</td>\n",
       "      <td>156085</td>\n",
       "      <td>51366</td>\n",
       "      <td>33</td>\n",
       "      <td>0.4</td>\n",
       "      <td>Europe</td>\n",
       "    </tr>\n",
       "    <tr>\n",
       "      <th>3</th>\n",
       "      <td>Brazil</td>\n",
       "      <td>34654190</td>\n",
       "      <td>685927</td>\n",
       "      <td>34654190</td>\n",
       "      <td>685927</td>\n",
       "      <td>0</td>\n",
       "      <td>0</td>\n",
       "      <td>2.0</td>\n",
       "      <td>South America</td>\n",
       "    </tr>\n",
       "    <tr>\n",
       "      <th>4</th>\n",
       "      <td>Germany</td>\n",
       "      <td>33312373</td>\n",
       "      <td>149948</td>\n",
       "      <td>33216006</td>\n",
       "      <td>149808</td>\n",
       "      <td>96367</td>\n",
       "      <td>140</td>\n",
       "      <td>0.5</td>\n",
       "      <td>Europe</td>\n",
       "    </tr>\n",
       "  </tbody>\n",
       "</table>\n",
       "</div>"
      ],
      "text/plain": [
       "  Country/Region     Cases   Deaths    PCases  PDeaths  Cases (+)  Deaths (+)  \\\n",
       "0             US  96347994  1059288  96264615  1058595      83379         693   \n",
       "1          India  44587307   528629  44583360   528611       3947          18   \n",
       "2         France  35560024   156118  35508658   156085      51366          33   \n",
       "3         Brazil  34654190   685927  34654190   685927          0           0   \n",
       "4        Germany  33312373   149948  33216006   149808      96367         140   \n",
       "\n",
       "   Fatality Rate      Continent  \n",
       "0            1.1  North America  \n",
       "1            1.2           Asia  \n",
       "2            0.4         Europe  \n",
       "3            2.0  South America  \n",
       "4            0.5         Europe  "
      ]
     },
     "execution_count": 15,
     "metadata": {},
     "output_type": "execute_result"
    }
   ],
   "source": [
    "#hide\n",
    "df_table = (pd.DataFrame(dict(Cases=dfc_cases, Deaths=dfc_deaths, PCases=dfp_cases, PDeaths=dfp_deaths))\n",
    "             .sort_values(by=['Cases', 'Deaths'], ascending=[False, False])\n",
    "             .reset_index())\n",
    "df_table.rename(columns={'index': 'Country/Region'}, inplace=True)\n",
    "for c in 'Cases, Deaths'.split(', '):\n",
    "    df_table[f'{c} (+)'] = (df_table[c] - df_table[f'P{c}']).clip(0)  # DATA BUG\n",
    "df_table['Fatality Rate'] = (100 * df_table['Deaths'] / df_table['Cases']).round(1)\n",
    "df_table['Continent'] = df_table['Country/Region'].map(mapping['map.continent'])\n",
    "df_table.head(5)"
   ]
  },
  {
   "cell_type": "code",
   "execution_count": 16,
   "id": "fewer-occasion",
   "metadata": {
    "execution": {
     "iopub.execute_input": "2022-10-01T01:08:08.921333Z",
     "iopub.status.busy": "2022-10-01T01:08:08.920493Z",
     "iopub.status.idle": "2022-10-01T01:08:08.923940Z",
     "shell.execute_reply": "2022-10-01T01:08:08.923287Z"
    },
    "papermill": {
     "duration": 0.044411,
     "end_time": "2022-10-01T01:08:08.924113",
     "exception": false,
     "start_time": "2022-10-01T01:08:08.879702",
     "status": "completed"
    },
    "tags": []
   },
   "outputs": [],
   "source": [
    "#hide\n",
    "#delete problematic countries from table\n",
    "df_table = df_table[~df_table['Country/Region'].isin(['Cape Verde', 'Cruise Ship', 'Kosovo'])]"
   ]
  },
  {
   "cell_type": "code",
   "execution_count": 17,
   "id": "related-center",
   "metadata": {
    "execution": {
     "iopub.execute_input": "2022-10-01T01:08:09.014017Z",
     "iopub.status.busy": "2022-10-01T01:08:09.013287Z",
     "iopub.status.idle": "2022-10-01T01:08:09.016376Z",
     "shell.execute_reply": "2022-10-01T01:08:09.015786Z"
    },
    "papermill": {
     "duration": 0.057518,
     "end_time": "2022-10-01T01:08:09.016507",
     "exception": false,
     "start_time": "2022-10-01T01:08:08.958989",
     "status": "completed"
    },
    "tags": []
   },
   "outputs": [],
   "source": [
    "#hide\n",
    "metrics = [df_table.columns[index] for index in [1,2,5,6]]\n",
    "# s_china = df_table[df_table['Country/Region'].eq('China')][metrics].sum().add_prefix('China ')\n",
    "s_us = df_table[df_table['Country/Region'].eq('US')][metrics].sum().add_prefix('US ')\n",
    "s_eu = df_table[df_table['Continent'].eq('Europe')][metrics].sum().add_prefix('EU ')\n",
    "s_ind = df_table[df_table['Country/Region'].eq('India')][metrics].sum().add_prefix('India ')\n",
    "summary = {'updated': pd.to_datetime(dt_today), 'since': pd.to_datetime(dt_yday)}\n",
    "summary = {'updated': pd.to_datetime(dt_today), 'since': pd.to_datetime(dt_yday)}\n",
    "summary = {**summary, **df_table[metrics].sum(), **s_ind, **s_us, **s_eu}"
   ]
  },
  {
   "cell_type": "code",
   "execution_count": 18,
   "id": "engaging-syndrome",
   "metadata": {
    "execution": {
     "iopub.execute_input": "2022-10-01T01:08:09.092453Z",
     "iopub.status.busy": "2022-10-01T01:08:09.091651Z",
     "iopub.status.idle": "2022-10-01T01:08:09.116440Z",
     "shell.execute_reply": "2022-10-01T01:08:09.115669Z"
    },
    "papermill": {
     "duration": 0.06532,
     "end_time": "2022-10-01T01:08:09.116601",
     "exception": false,
     "start_time": "2022-10-01T01:08:09.051281",
     "status": "completed"
    },
    "tags": []
   },
   "outputs": [],
   "source": [
    "#hide\n",
    "dft_ct_new_cases = dft_cases.groupby(COL_REGION)[dt_cols].sum().diff(axis=1).fillna(0).astype(int)"
   ]
  },
  {
   "cell_type": "code",
   "execution_count": 19,
   "id": "neutral-assignment",
   "metadata": {
    "execution": {
     "iopub.execute_input": "2022-10-01T01:08:09.194006Z",
     "iopub.status.busy": "2022-10-01T01:08:09.193290Z",
     "iopub.status.idle": "2022-10-01T01:08:09.196438Z",
     "shell.execute_reply": "2022-10-01T01:08:09.195724Z"
    },
    "papermill": {
     "duration": 0.044833,
     "end_time": "2022-10-01T01:08:09.196564",
     "exception": false,
     "start_time": "2022-10-01T01:08:09.151731",
     "status": "completed"
    },
    "tags": []
   },
   "outputs": [],
   "source": [
    "#hide\n",
    "everydaycases = dft_ct_new_cases.cumsum(axis=1)"
   ]
  },
  {
   "cell_type": "code",
   "execution_count": 20,
   "id": "parliamentary-calgary",
   "metadata": {
    "execution": {
     "iopub.execute_input": "2022-10-01T01:08:09.271353Z",
     "iopub.status.busy": "2022-10-01T01:08:09.270660Z",
     "iopub.status.idle": "2022-10-01T01:08:09.898886Z",
     "shell.execute_reply": "2022-10-01T01:08:09.898297Z"
    },
    "papermill": {
     "duration": 0.66762,
     "end_time": "2022-10-01T01:08:09.899025",
     "exception": false,
     "start_time": "2022-10-01T01:08:09.231405",
     "status": "completed"
    },
    "tags": []
   },
   "outputs": [],
   "source": [
    "#hide\n",
    "import pandas as pd\n",
    "import matplotlib.pyplot as plt\n",
    "import matplotlib.ticker as ticker\n",
    "import matplotlib.animation as animation\n",
    "from IPython.display import HTML"
   ]
  },
  {
   "cell_type": "code",
   "execution_count": 21,
   "id": "lasting-extraction",
   "metadata": {
    "execution": {
     "iopub.execute_input": "2022-10-01T01:08:09.987974Z",
     "iopub.status.busy": "2022-10-01T01:08:09.987265Z",
     "iopub.status.idle": "2022-10-01T01:08:09.995828Z",
     "shell.execute_reply": "2022-10-01T01:08:09.995272Z"
    },
    "papermill": {
     "duration": 0.05471,
     "end_time": "2022-10-01T01:08:09.995953",
     "exception": false,
     "start_time": "2022-10-01T01:08:09.941243",
     "status": "completed"
    },
    "tags": []
   },
   "outputs": [],
   "source": [
    "#hide\n",
    "t = everydaycases.stack()"
   ]
  },
  {
   "cell_type": "code",
   "execution_count": 22,
   "id": "premier-sleeve",
   "metadata": {
    "execution": {
     "iopub.execute_input": "2022-10-01T01:08:10.070199Z",
     "iopub.status.busy": "2022-10-01T01:08:10.069521Z",
     "iopub.status.idle": "2022-10-01T01:08:10.084347Z",
     "shell.execute_reply": "2022-10-01T01:08:10.083650Z"
    },
    "papermill": {
     "duration": 0.053595,
     "end_time": "2022-10-01T01:08:10.084476",
     "exception": false,
     "start_time": "2022-10-01T01:08:10.030881",
     "status": "completed"
    },
    "tags": []
   },
   "outputs": [],
   "source": [
    "#hide\n",
    "g = t.reset_index(['Country/Region'])"
   ]
  },
  {
   "cell_type": "code",
   "execution_count": 23,
   "id": "distributed-pittsburgh",
   "metadata": {
    "execution": {
     "iopub.execute_input": "2022-10-01T01:08:10.157358Z",
     "iopub.status.busy": "2022-10-01T01:08:10.156536Z",
     "iopub.status.idle": "2022-10-01T01:08:10.158386Z",
     "shell.execute_reply": "2022-10-01T01:08:10.159145Z"
    },
    "papermill": {
     "duration": 0.040942,
     "end_time": "2022-10-01T01:08:10.159305",
     "exception": false,
     "start_time": "2022-10-01T01:08:10.118363",
     "status": "completed"
    },
    "tags": []
   },
   "outputs": [],
   "source": [
    "#hide\n",
    "g.index.name = 'date'"
   ]
  },
  {
   "cell_type": "code",
   "execution_count": 24,
   "id": "naked-donor",
   "metadata": {
    "execution": {
     "iopub.execute_input": "2022-10-01T01:08:10.232916Z",
     "iopub.status.busy": "2022-10-01T01:08:10.232039Z",
     "iopub.status.idle": "2022-10-01T01:08:10.235696Z",
     "shell.execute_reply": "2022-10-01T01:08:10.235148Z"
    },
    "papermill": {
     "duration": 0.041382,
     "end_time": "2022-10-01T01:08:10.235819",
     "exception": false,
     "start_time": "2022-10-01T01:08:10.194437",
     "status": "completed"
    },
    "tags": []
   },
   "outputs": [],
   "source": [
    "# #hide\n",
    "# g = g.reset_index(['date'])"
   ]
  },
  {
   "cell_type": "code",
   "execution_count": 25,
   "id": "incomplete-mustang",
   "metadata": {
    "execution": {
     "iopub.execute_input": "2022-10-01T01:08:10.309352Z",
     "iopub.status.busy": "2022-10-01T01:08:10.308509Z",
     "iopub.status.idle": "2022-10-01T01:08:10.310493Z",
     "shell.execute_reply": "2022-10-01T01:08:10.311110Z"
    },
    "papermill": {
     "duration": 0.041362,
     "end_time": "2022-10-01T01:08:10.311273",
     "exception": false,
     "start_time": "2022-10-01T01:08:10.269911",
     "status": "completed"
    },
    "tags": []
   },
   "outputs": [],
   "source": [
    "#hide\n",
    "# g.head()"
   ]
  },
  {
   "cell_type": "code",
   "execution_count": 26,
   "id": "specific-kruger",
   "metadata": {
    "execution": {
     "iopub.execute_input": "2022-10-01T01:08:10.386395Z",
     "iopub.status.busy": "2022-10-01T01:08:10.385530Z",
     "iopub.status.idle": "2022-10-01T01:08:10.387345Z",
     "shell.execute_reply": "2022-10-01T01:08:10.387976Z"
    },
    "papermill": {
     "duration": 0.041293,
     "end_time": "2022-10-01T01:08:10.388145",
     "exception": false,
     "start_time": "2022-10-01T01:08:10.346852",
     "status": "completed"
    },
    "tags": []
   },
   "outputs": [],
   "source": [
    "#hide\n",
    "# g.columns = ['date','country','cases']"
   ]
  },
  {
   "cell_type": "code",
   "execution_count": 27,
   "id": "tender-conversion",
   "metadata": {
    "execution": {
     "iopub.execute_input": "2022-10-01T01:08:10.462345Z",
     "iopub.status.busy": "2022-10-01T01:08:10.461532Z",
     "iopub.status.idle": "2022-10-01T01:08:10.463505Z",
     "shell.execute_reply": "2022-10-01T01:08:10.464130Z"
    },
    "papermill": {
     "duration": 0.041659,
     "end_time": "2022-10-01T01:08:10.464291",
     "exception": false,
     "start_time": "2022-10-01T01:08:10.422632",
     "status": "completed"
    },
    "tags": []
   },
   "outputs": [],
   "source": [
    "#hide\n",
    "# g['continent'] = g.country"
   ]
  },
  {
   "cell_type": "code",
   "execution_count": 28,
   "id": "substantial-wilderness",
   "metadata": {
    "execution": {
     "iopub.execute_input": "2022-10-01T01:08:10.539429Z",
     "iopub.status.busy": "2022-10-01T01:08:10.538687Z",
     "iopub.status.idle": "2022-10-01T01:08:10.540202Z",
     "shell.execute_reply": "2022-10-01T01:08:10.540763Z"
    },
    "papermill": {
     "duration": 0.041351,
     "end_time": "2022-10-01T01:08:10.540910",
     "exception": false,
     "start_time": "2022-10-01T01:08:10.499559",
     "status": "completed"
    },
    "tags": []
   },
   "outputs": [],
   "source": [
    "#hide\n",
    "# cols = list(g.columns.values)"
   ]
  },
  {
   "cell_type": "code",
   "execution_count": 29,
   "id": "solved-farming",
   "metadata": {
    "execution": {
     "iopub.execute_input": "2022-10-01T01:08:10.626789Z",
     "iopub.status.busy": "2022-10-01T01:08:10.625939Z",
     "iopub.status.idle": "2022-10-01T01:08:10.627933Z",
     "shell.execute_reply": "2022-10-01T01:08:10.628659Z"
    },
    "papermill": {
     "duration": 0.043887,
     "end_time": "2022-10-01T01:08:10.628833",
     "exception": false,
     "start_time": "2022-10-01T01:08:10.584946",
     "status": "completed"
    },
    "tags": []
   },
   "outputs": [],
   "source": [
    "#hide\n",
    "# cols.insert(0, cols.pop())"
   ]
  },
  {
   "cell_type": "code",
   "execution_count": 30,
   "id": "executed-adoption",
   "metadata": {
    "execution": {
     "iopub.execute_input": "2022-10-01T01:08:10.702882Z",
     "iopub.status.busy": "2022-10-01T01:08:10.702162Z",
     "iopub.status.idle": "2022-10-01T01:08:10.706087Z",
     "shell.execute_reply": "2022-10-01T01:08:10.706615Z"
    },
    "papermill": {
     "duration": 0.04328,
     "end_time": "2022-10-01T01:08:10.706764",
     "exception": false,
     "start_time": "2022-10-01T01:08:10.663484",
     "status": "completed"
    },
    "tags": []
   },
   "outputs": [],
   "source": [
    "#hide\n",
    "# g = g[cols]"
   ]
  },
  {
   "cell_type": "code",
   "execution_count": 31,
   "id": "subject-dublin",
   "metadata": {
    "execution": {
     "iopub.execute_input": "2022-10-01T01:08:10.782834Z",
     "iopub.status.busy": "2022-10-01T01:08:10.782128Z",
     "iopub.status.idle": "2022-10-01T01:08:10.784701Z",
     "shell.execute_reply": "2022-10-01T01:08:10.784002Z"
    },
    "papermill": {
     "duration": 0.041979,
     "end_time": "2022-10-01T01:08:10.784826",
     "exception": false,
     "start_time": "2022-10-01T01:08:10.742847",
     "status": "completed"
    },
    "tags": []
   },
   "outputs": [],
   "source": [
    "#hide\n",
    "# g['continent'] = g['continent'].map(mapping['map.continent'])"
   ]
  },
  {
   "cell_type": "code",
   "execution_count": 32,
   "id": "freelance-scout",
   "metadata": {
    "execution": {
     "iopub.execute_input": "2022-10-01T01:08:10.859839Z",
     "iopub.status.busy": "2022-10-01T01:08:10.858975Z",
     "iopub.status.idle": "2022-10-01T01:08:10.863636Z",
     "shell.execute_reply": "2022-10-01T01:08:10.864174Z"
    },
    "papermill": {
     "duration": 0.044355,
     "end_time": "2022-10-01T01:08:10.864333",
     "exception": false,
     "start_time": "2022-10-01T01:08:10.819978",
     "status": "completed"
    },
    "tags": []
   },
   "outputs": [],
   "source": [
    "#hide\n",
    "# g.head()"
   ]
  },
  {
   "cell_type": "code",
   "execution_count": 33,
   "id": "limited-engine",
   "metadata": {
    "execution": {
     "iopub.execute_input": "2022-10-01T01:08:10.943839Z",
     "iopub.status.busy": "2022-10-01T01:08:10.941881Z",
     "iopub.status.idle": "2022-10-01T01:08:10.944655Z",
     "shell.execute_reply": "2022-10-01T01:08:10.945172Z"
    },
    "papermill": {
     "duration": 0.045945,
     "end_time": "2022-10-01T01:08:10.945315",
     "exception": false,
     "start_time": "2022-10-01T01:08:10.899370",
     "status": "completed"
    },
    "tags": []
   },
   "outputs": [],
   "source": [
    "# hide\n",
    "# g['date'] = g['date'].astype('datetime64[ns]')"
   ]
  },
  {
   "cell_type": "code",
   "execution_count": 34,
   "id": "sophisticated-supervisor",
   "metadata": {
    "execution": {
     "iopub.execute_input": "2022-10-01T01:08:11.020478Z",
     "iopub.status.busy": "2022-10-01T01:08:11.019576Z",
     "iopub.status.idle": "2022-10-01T01:08:11.021590Z",
     "shell.execute_reply": "2022-10-01T01:08:11.022249Z"
    },
    "papermill": {
     "duration": 0.042088,
     "end_time": "2022-10-01T01:08:11.022423",
     "exception": false,
     "start_time": "2022-10-01T01:08:10.980335",
     "status": "completed"
    },
    "tags": []
   },
   "outputs": [],
   "source": [
    "#hide\n",
    "# g['date'] = g.date.dt.dayofyear"
   ]
  },
  {
   "cell_type": "code",
   "execution_count": 35,
   "id": "inside-dubai",
   "metadata": {
    "execution": {
     "iopub.execute_input": "2022-10-01T01:08:11.097290Z",
     "iopub.status.busy": "2022-10-01T01:08:11.096551Z",
     "iopub.status.idle": "2022-10-01T01:08:11.101037Z",
     "shell.execute_reply": "2022-10-01T01:08:11.100476Z"
    },
    "papermill": {
     "duration": 0.043209,
     "end_time": "2022-10-01T01:08:11.101160",
     "exception": false,
     "start_time": "2022-10-01T01:08:11.057951",
     "status": "completed"
    },
    "tags": []
   },
   "outputs": [],
   "source": [
    "#hide\n",
    "# g = g.rename(columns= {'continent':'group','country':'name','cases':'value'})"
   ]
  },
  {
   "cell_type": "code",
   "execution_count": 36,
   "id": "fleet-motorcycle",
   "metadata": {
    "execution": {
     "iopub.execute_input": "2022-10-01T01:08:11.174849Z",
     "iopub.status.busy": "2022-10-01T01:08:11.174020Z",
     "iopub.status.idle": "2022-10-01T01:08:11.176110Z",
     "shell.execute_reply": "2022-10-01T01:08:11.176668Z"
    },
    "papermill": {
     "duration": 0.040944,
     "end_time": "2022-10-01T01:08:11.176810",
     "exception": false,
     "start_time": "2022-10-01T01:08:11.135866",
     "status": "completed"
    },
    "tags": []
   },
   "outputs": [],
   "source": [
    "#hide\n",
    "# cols = ['name','group','day','value']"
   ]
  },
  {
   "cell_type": "code",
   "execution_count": 37,
   "id": "continued-sleeping",
   "metadata": {
    "execution": {
     "iopub.execute_input": "2022-10-01T01:08:11.250030Z",
     "iopub.status.busy": "2022-10-01T01:08:11.249327Z",
     "iopub.status.idle": "2022-10-01T01:08:11.252177Z",
     "shell.execute_reply": "2022-10-01T01:08:11.251491Z"
    },
    "papermill": {
     "duration": 0.040867,
     "end_time": "2022-10-01T01:08:11.252300",
     "exception": false,
     "start_time": "2022-10-01T01:08:11.211433",
     "status": "completed"
    },
    "tags": []
   },
   "outputs": [],
   "source": [
    "#hide\n",
    "# g.rename(columns= {'date':'day'},inplace = True)"
   ]
  },
  {
   "cell_type": "code",
   "execution_count": 38,
   "id": "major-fight",
   "metadata": {
    "execution": {
     "iopub.execute_input": "2022-10-01T01:08:11.326719Z",
     "iopub.status.busy": "2022-10-01T01:08:11.325862Z",
     "iopub.status.idle": "2022-10-01T01:08:11.327708Z",
     "shell.execute_reply": "2022-10-01T01:08:11.328505Z"
    },
    "papermill": {
     "duration": 0.041502,
     "end_time": "2022-10-01T01:08:11.328677",
     "exception": false,
     "start_time": "2022-10-01T01:08:11.287175",
     "status": "completed"
    },
    "tags": []
   },
   "outputs": [],
   "source": [
    "#hide\n",
    "# g = g[cols]"
   ]
  },
  {
   "cell_type": "code",
   "execution_count": 39,
   "id": "structured-mobile",
   "metadata": {
    "execution": {
     "iopub.execute_input": "2022-10-01T01:08:11.402212Z",
     "iopub.status.busy": "2022-10-01T01:08:11.401262Z",
     "iopub.status.idle": "2022-10-01T01:08:11.404720Z",
     "shell.execute_reply": "2022-10-01T01:08:11.405219Z"
    },
    "papermill": {
     "duration": 0.04224,
     "end_time": "2022-10-01T01:08:11.405370",
     "exception": false,
     "start_time": "2022-10-01T01:08:11.363130",
     "status": "completed"
    },
    "tags": []
   },
   "outputs": [],
   "source": [
    "# #hide\n",
    "# g = g[g.group.notna()]"
   ]
  },
  {
   "cell_type": "code",
   "execution_count": 40,
   "id": "determined-closing",
   "metadata": {
    "execution": {
     "iopub.execute_input": "2022-10-01T01:08:11.479448Z",
     "iopub.status.busy": "2022-10-01T01:08:11.478708Z",
     "iopub.status.idle": "2022-10-01T01:08:11.482929Z",
     "shell.execute_reply": "2022-10-01T01:08:11.483430Z"
    },
    "papermill": {
     "duration": 0.043362,
     "end_time": "2022-10-01T01:08:11.483580",
     "exception": false,
     "start_time": "2022-10-01T01:08:11.440218",
     "status": "completed"
    },
    "tags": []
   },
   "outputs": [],
   "source": [
    "# #hide\n",
    "# colors = dict(zip(\n",
    "#     [\"Oceania\", \"Europe\", \"Asia\", \"South America\", \"Middle East\", \"North America\", \"Africa\"],\n",
    "#     [\"#adb0ff\", \"#ffb3ff\", \"#90d595\", \"#e48381\", \"#aafbff\", \"#f7bb5f\", \"#eafb50\"]\n",
    "# ))\n",
    "# group_lk = g.set_index('name')['group'].to_dict()"
   ]
  },
  {
   "cell_type": "code",
   "execution_count": null,
   "id": "gross-drinking",
   "metadata": {
    "papermill": {
     "duration": 0.03575,
     "end_time": "2022-10-01T01:08:11.554995",
     "exception": false,
     "start_time": "2022-10-01T01:08:11.519245",
     "status": "completed"
    },
    "tags": []
   },
   "outputs": [],
   "source": []
  },
  {
   "cell_type": "code",
   "execution_count": 41,
   "id": "subject-macintosh",
   "metadata": {
    "execution": {
     "iopub.execute_input": "2022-10-01T01:08:11.632488Z",
     "iopub.status.busy": "2022-10-01T01:08:11.631745Z",
     "iopub.status.idle": "2022-10-01T01:08:11.635243Z",
     "shell.execute_reply": "2022-10-01T01:08:11.634571Z"
    },
    "papermill": {
     "duration": 0.0438,
     "end_time": "2022-10-01T01:08:11.635369",
     "exception": false,
     "start_time": "2022-10-01T01:08:11.591569",
     "status": "completed"
    },
    "tags": []
   },
   "outputs": [],
   "source": [
    "# #hide\n",
    "# fig, ax = plt.subplots(figsize=(15, 8))\n",
    "\n",
    "# def draw_barchart(current_day):\n",
    "#     dff = g[g['day'].eq(current_day)].sort_values(by='value', ascending=True).tail(10)\n",
    "#     ax.clear()\n",
    "#     ax.barh(dff['name'], dff['value'], color=[colors[group_lk[x]] for x in dff['name']])\n",
    "#     dx = dff['value'].max() / 200\n",
    "    \n",
    "#     for i, (value, name) in enumerate(zip(dff['value'], dff['name'])):\n",
    "#         ax.text(value-dx, i,     name,           size=14, weight=600, ha='right', va='bottom')\n",
    "#         ax.text(value-dx, i-.25, group_lk[name], size=10, color='#444444', ha='right', va='baseline')\n",
    "#         ax.text(value+dx, i,     f'{value:,.0f}',  size=14, ha='left',  va='center')\n",
    "#     ax.text(1, 0.4, current_day, transform=ax.transAxes, color='#777777', size=46, ha='right', weight=800)\n",
    "#     ax.text(0, 1.06, 'Population (thousands)', transform=ax.transAxes, size=12, color='#777777')\n",
    "#     ax.xaxis.set_major_formatter(ticker.StrMethodFormatter('{x:,.0f}'))\n",
    "#     ax.xaxis.set_ticks_position('top')\n",
    "#     ax.tick_params(axis='x', colors='#777777', labelsize=12)\n",
    "#     ax.set_yticks([])\n",
    "#     ax.margins(0, 0.01)\n",
    "#     ax.grid(which='major', axis='x', linestyle='-')\n",
    "#     ax.set_axisbelow(True)\n",
    "    \n",
    "#     ax.text(0, 1.15, 'Coronavirus',\n",
    "#             transform=ax.transAxes, size=24, weight=600, ha='left', va='top')\n",
    "# #     ax.text(1, 0, 'by @pratapvardhan; credit @jburnmurdoch', transform=ax.transAxes, color='#777777', ha='right',\n",
    "# #             bbox=dict(facecolor='white', alpha=0.8, edgecolor='white'))\n",
    "#     plt.box(False)"
   ]
  },
  {
   "cell_type": "code",
   "execution_count": 42,
   "id": "sexual-wages",
   "metadata": {
    "execution": {
     "iopub.execute_input": "2022-10-01T01:08:11.714759Z",
     "iopub.status.busy": "2022-10-01T01:08:11.714074Z",
     "iopub.status.idle": "2022-10-01T01:08:11.717167Z",
     "shell.execute_reply": "2022-10-01T01:08:11.716615Z"
    },
    "papermill": {
     "duration": 0.046601,
     "end_time": "2022-10-01T01:08:11.717288",
     "exception": false,
     "start_time": "2022-10-01T01:08:11.670687",
     "status": "completed"
    },
    "tags": []
   },
   "outputs": [],
   "source": [
    "# #hide_input\n",
    "# fig, ax = plt.subplots(figsize=(15, 8))\n",
    "# animator = animation.FuncAnimation(fig, draw_barchart, frames=range(g.day.values.min(), g.day.values.max()))\n",
    "# HTML(animator.to_jshtml())\n",
    "# # or use animator.to_html5_video() or animator.save() "
   ]
  },
  {
   "cell_type": "code",
   "execution_count": null,
   "id": "australian-container",
   "metadata": {
    "papermill": {
     "duration": 0.034499,
     "end_time": "2022-10-01T01:08:11.786231",
     "exception": false,
     "start_time": "2022-10-01T01:08:11.751732",
     "status": "completed"
    },
    "tags": []
   },
   "outputs": [],
   "source": []
  },
  {
   "cell_type": "code",
   "execution_count": null,
   "id": "mediterranean-pontiac",
   "metadata": {
    "papermill": {
     "duration": 0.034395,
     "end_time": "2022-10-01T01:08:11.854906",
     "exception": false,
     "start_time": "2022-10-01T01:08:11.820511",
     "status": "completed"
    },
    "tags": []
   },
   "outputs": [],
   "source": []
  },
  {
   "cell_type": "code",
   "execution_count": null,
   "id": "aging-legislature",
   "metadata": {
    "papermill": {
     "duration": 0.034338,
     "end_time": "2022-10-01T01:08:11.923844",
     "exception": false,
     "start_time": "2022-10-01T01:08:11.889506",
     "status": "completed"
    },
    "tags": []
   },
   "outputs": [],
   "source": []
  }
 ],
 "metadata": {
  "kernelspec": {
   "display_name": "Python 3",
   "language": "python",
   "name": "python3"
  },
  "language_info": {
   "codemirror_mode": {
    "name": "ipython",
    "version": 3
   },
   "file_extension": ".py",
   "mimetype": "text/x-python",
   "name": "python",
   "nbconvert_exporter": "python",
   "pygments_lexer": "ipython3",
   "version": "3.6.15"
  },
  "papermill": {
   "duration": 6.959757,
   "end_time": "2022-10-01T01:08:12.278968",
   "environment_variables": {},
   "exception": null,
   "input_path": "2020-03-21-covid19exp.ipynb",
   "output_path": "2020-03-21-covid19exp.ipynb",
   "parameters": {},
   "start_time": "2022-10-01T01:08:05.319211",
   "version": "2.0.0"
  }
 },
 "nbformat": 4,
 "nbformat_minor": 5
}