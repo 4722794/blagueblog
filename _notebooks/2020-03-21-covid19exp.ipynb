{
 "cells": [
  {
   "cell_type": "markdown",
   "id": "muslim-click",
   "metadata": {
    "papermill": {
     "duration": 0.034756,
     "end_time": "2022-09-09T12:18:35.125100",
     "exception": false,
     "start_time": "2022-09-09T12:18:35.090344",
     "status": "completed"
    },
    "tags": []
   },
   "source": [
    "# COVID-19 Case Race\n",
    "> A race chart to see rising cases around the world\n",
    "\n",
    "- author: Hargun Oberoi\n",
    "- image: images/covid-overview.png\n",
    "- hide: false\n",
    "- badges: false"
   ]
  },
  {
   "cell_type": "code",
   "execution_count": 1,
   "id": "proof-material",
   "metadata": {
    "execution": {
     "iopub.execute_input": "2022-09-09T12:18:35.195569Z",
     "iopub.status.busy": "2022-09-09T12:18:35.194998Z",
     "iopub.status.idle": "2022-09-09T12:18:35.505032Z",
     "shell.execute_reply": "2022-09-09T12:18:35.504085Z"
    },
    "papermill": {
     "duration": 0.348847,
     "end_time": "2022-09-09T12:18:35.505169",
     "exception": false,
     "start_time": "2022-09-09T12:18:35.156322",
     "status": "completed"
    },
    "tags": []
   },
   "outputs": [],
   "source": [
    "#hide\n",
    "import numpy as np\n",
    "import pandas as pd\n",
    "from jinja2 import Template\n",
    "from IPython.display import HTML"
   ]
  },
  {
   "cell_type": "code",
   "execution_count": 2,
   "id": "developed-terminology",
   "metadata": {
    "execution": {
     "iopub.execute_input": "2022-09-09T12:18:35.569474Z",
     "iopub.status.busy": "2022-09-09T12:18:35.568899Z",
     "iopub.status.idle": "2022-09-09T12:18:35.570695Z",
     "shell.execute_reply": "2022-09-09T12:18:35.571088Z"
    },
    "papermill": {
     "duration": 0.036004,
     "end_time": "2022-09-09T12:18:35.571204",
     "exception": false,
     "start_time": "2022-09-09T12:18:35.535200",
     "status": "completed"
    },
    "tags": []
   },
   "outputs": [],
   "source": [
    "#hide\n",
    "\n",
    "# FETCH\n",
    "base_url = 'https://raw.githubusercontent.com/pratapvardhan/notebooks/master/covid19/'\n",
    "paths = {\n",
    "    'mapping': base_url + 'mapping_countries.csv',\n",
    "    'overview': base_url + 'overview.tpl'\n",
    "}"
   ]
  },
  {
   "cell_type": "code",
   "execution_count": 3,
   "id": "dynamic-saver",
   "metadata": {
    "execution": {
     "iopub.execute_input": "2022-09-09T12:18:35.639877Z",
     "iopub.status.busy": "2022-09-09T12:18:35.639288Z",
     "iopub.status.idle": "2022-09-09T12:18:35.642334Z",
     "shell.execute_reply": "2022-09-09T12:18:35.641896Z"
    },
    "papermill": {
     "duration": 0.041659,
     "end_time": "2022-09-09T12:18:35.642434",
     "exception": false,
     "start_time": "2022-09-09T12:18:35.600775",
     "status": "completed"
    },
    "tags": []
   },
   "outputs": [
    {
     "data": {
      "text/plain": [
       "'https://raw.githubusercontent.com/pratapvardhan/notebooks/master/covid19/mapping_countries.csv'"
      ]
     },
     "execution_count": 3,
     "metadata": {},
     "output_type": "execute_result"
    }
   ],
   "source": [
    "#hide\n",
    "paths['mapping']"
   ]
  },
  {
   "cell_type": "code",
   "execution_count": 4,
   "id": "urban-software",
   "metadata": {
    "execution": {
     "iopub.execute_input": "2022-09-09T12:18:35.707918Z",
     "iopub.status.busy": "2022-09-09T12:18:35.707343Z",
     "iopub.status.idle": "2022-09-09T12:18:35.709808Z",
     "shell.execute_reply": "2022-09-09T12:18:35.709357Z"
    },
    "papermill": {
     "duration": 0.03711,
     "end_time": "2022-09-09T12:18:35.709908",
     "exception": false,
     "start_time": "2022-09-09T12:18:35.672798",
     "status": "completed"
    },
    "tags": []
   },
   "outputs": [],
   "source": [
    "#hide\n",
    "def get_mappings(url):\n",
    "    df = pd.read_csv(url)\n",
    "    return {\n",
    "        'df': df,\n",
    "        'replace.country': dict(df.dropna(subset=['Name']).set_index('Country')['Name']),\n",
    "        'map.continent': dict(df.set_index('Name')['Continent'])\n",
    "    }"
   ]
  },
  {
   "cell_type": "code",
   "execution_count": 5,
   "id": "intimate-machinery",
   "metadata": {
    "execution": {
     "iopub.execute_input": "2022-09-09T12:18:35.774951Z",
     "iopub.status.busy": "2022-09-09T12:18:35.774395Z",
     "iopub.status.idle": "2022-09-09T12:18:35.813655Z",
     "shell.execute_reply": "2022-09-09T12:18:35.814097Z"
    },
    "papermill": {
     "duration": 0.074358,
     "end_time": "2022-09-09T12:18:35.814219",
     "exception": false,
     "start_time": "2022-09-09T12:18:35.739861",
     "status": "completed"
    },
    "tags": []
   },
   "outputs": [],
   "source": [
    "#hide\n",
    "mapping = get_mappings(paths['mapping'])"
   ]
  },
  {
   "cell_type": "code",
   "execution_count": 6,
   "id": "certified-tactics",
   "metadata": {
    "execution": {
     "iopub.execute_input": "2022-09-09T12:18:35.879860Z",
     "iopub.status.busy": "2022-09-09T12:18:35.879303Z",
     "iopub.status.idle": "2022-09-09T12:18:35.881603Z",
     "shell.execute_reply": "2022-09-09T12:18:35.882021Z"
    },
    "papermill": {
     "duration": 0.037133,
     "end_time": "2022-09-09T12:18:35.882132",
     "exception": false,
     "start_time": "2022-09-09T12:18:35.844999",
     "status": "completed"
    },
    "tags": []
   },
   "outputs": [],
   "source": [
    "#hide\n",
    "def get_template(path):\n",
    "    from urllib.parse import urlparse\n",
    "    if bool(urlparse(path).netloc):\n",
    "        from urllib.request import urlopen\n",
    "        return urlopen(path).read().decode('utf8')\n",
    "    return open(path).read()"
   ]
  },
  {
   "cell_type": "code",
   "execution_count": 7,
   "id": "realistic-blast",
   "metadata": {
    "execution": {
     "iopub.execute_input": "2022-09-09T12:18:35.947232Z",
     "iopub.status.busy": "2022-09-09T12:18:35.946651Z",
     "iopub.status.idle": "2022-09-09T12:18:35.949035Z",
     "shell.execute_reply": "2022-09-09T12:18:35.948481Z"
    },
    "papermill": {
     "duration": 0.036868,
     "end_time": "2022-09-09T12:18:35.949138",
     "exception": false,
     "start_time": "2022-09-09T12:18:35.912270",
     "status": "completed"
    },
    "tags": []
   },
   "outputs": [],
   "source": [
    "#hide\n",
    "def get_frame(name):\n",
    "    url = (\n",
    "        'https://raw.githubusercontent.com/CSSEGISandData/COVID-19/master/csse_covid_19_data/'\n",
    "        f'csse_covid_19_time_series/time_series_covid19_{name}_global.csv')\n",
    "    df = pd.read_csv(url)\n",
    "    # rename countries\n",
    "    df['Country/Region'] = df['Country/Region'].replace(mapping['replace.country'])\n",
    "    return df"
   ]
  },
  {
   "cell_type": "code",
   "execution_count": 8,
   "id": "affiliated-characterization",
   "metadata": {
    "execution": {
     "iopub.execute_input": "2022-09-09T12:18:36.015376Z",
     "iopub.status.busy": "2022-09-09T12:18:36.014802Z",
     "iopub.status.idle": "2022-09-09T12:18:36.017580Z",
     "shell.execute_reply": "2022-09-09T12:18:36.017117Z"
    },
    "papermill": {
     "duration": 0.038516,
     "end_time": "2022-09-09T12:18:36.017682",
     "exception": false,
     "start_time": "2022-09-09T12:18:35.979166",
     "status": "completed"
    },
    "tags": []
   },
   "outputs": [],
   "source": [
    "#hide\n",
    "def get_dates(df):\n",
    "    dt_cols = df.columns[~df.columns.isin(['Province/State', 'Country/Region', 'Lat', 'Long'])]\n",
    "    LAST_DATE_I = -1\n",
    "    # sometimes last column may be empty, then go backwards\n",
    "    for i in range(-1, -len(dt_cols), -1):\n",
    "        if not df[dt_cols[i]].fillna(0).eq(0).all():\n",
    "            LAST_DATE_I = i\n",
    "            break\n",
    "    return LAST_DATE_I, dt_cols"
   ]
  },
  {
   "cell_type": "code",
   "execution_count": 9,
   "id": "recent-optimization",
   "metadata": {
    "execution": {
     "iopub.execute_input": "2022-09-09T12:18:36.082572Z",
     "iopub.status.busy": "2022-09-09T12:18:36.081800Z",
     "iopub.status.idle": "2022-09-09T12:18:36.542165Z",
     "shell.execute_reply": "2022-09-09T12:18:36.541681Z"
    },
    "papermill": {
     "duration": 0.494581,
     "end_time": "2022-09-09T12:18:36.542279",
     "exception": false,
     "start_time": "2022-09-09T12:18:36.047698",
     "status": "completed"
    },
    "tags": []
   },
   "outputs": [],
   "source": [
    "#hide\n",
    "COL_REGION = 'Country/Region'\n",
    "# Confirmed, Recovered, Deaths\n",
    "df = get_frame('confirmed')\n",
    "# dft_: timeseries, dfc_: today country agg\n",
    "dft_cases = df\n",
    "dft_deaths = get_frame('deaths')\n",
    "dft_recovered = get_frame('recovered')\n",
    "LAST_DATE_I, dt_cols = get_dates(df)"
   ]
  },
  {
   "cell_type": "code",
   "execution_count": 10,
   "id": "absolute-copper",
   "metadata": {
    "execution": {
     "iopub.execute_input": "2022-09-09T12:18:36.608377Z",
     "iopub.status.busy": "2022-09-09T12:18:36.607800Z",
     "iopub.status.idle": "2022-09-09T12:18:36.610256Z",
     "shell.execute_reply": "2022-09-09T12:18:36.609700Z"
    },
    "papermill": {
     "duration": 0.037423,
     "end_time": "2022-09-09T12:18:36.610359",
     "exception": false,
     "start_time": "2022-09-09T12:18:36.572936",
     "status": "completed"
    },
    "tags": []
   },
   "outputs": [],
   "source": [
    "#hide\n",
    "LAST_DATE_I, dt_cols = get_dates(df)\n",
    "dt_today =dt_cols[LAST_DATE_I]\n",
    "# dt_5day = dt_cols[LAST_DATE_I - 5]\n",
    "dt_yday = dt_cols[LAST_DATE_I - 1]"
   ]
  },
  {
   "cell_type": "code",
   "execution_count": 11,
   "id": "restricted-sheriff",
   "metadata": {
    "execution": {
     "iopub.execute_input": "2022-09-09T12:18:36.676274Z",
     "iopub.status.busy": "2022-09-09T12:18:36.675712Z",
     "iopub.status.idle": "2022-09-09T12:18:36.682720Z",
     "shell.execute_reply": "2022-09-09T12:18:36.682191Z"
    },
    "papermill": {
     "duration": 0.042346,
     "end_time": "2022-09-09T12:18:36.682820",
     "exception": false,
     "start_time": "2022-09-09T12:18:36.640474",
     "status": "completed"
    },
    "tags": []
   },
   "outputs": [],
   "source": [
    "#hide\n",
    "dfc_cases = dft_cases.groupby(COL_REGION)[dt_today].sum()\n",
    "dfc_deaths = dft_deaths.groupby(COL_REGION)[dt_today].sum()\n",
    "# dfp_cases = dft_cases.groupby(COL_REGION)[dt_5day].sum()\n",
    "# dfp_deaths = dft_deaths.groupby(COL_REGION)[dt_5day].sum()\n",
    "dfp_cases = dft_cases.groupby(COL_REGION)[dt_yday].sum()\n",
    "dfp_deaths = dft_deaths.groupby(COL_REGION)[dt_yday].sum()"
   ]
  },
  {
   "cell_type": "code",
   "execution_count": 12,
   "id": "deluxe-hepatitis",
   "metadata": {
    "execution": {
     "iopub.execute_input": "2022-09-09T12:18:36.748427Z",
     "iopub.status.busy": "2022-09-09T12:18:36.747868Z",
     "iopub.status.idle": "2022-09-09T12:18:36.752821Z",
     "shell.execute_reply": "2022-09-09T12:18:36.752337Z"
    },
    "papermill": {
     "duration": 0.039881,
     "end_time": "2022-09-09T12:18:36.752930",
     "exception": false,
     "start_time": "2022-09-09T12:18:36.713049",
     "status": "completed"
    },
    "tags": []
   },
   "outputs": [],
   "source": [
    "#hide\n",
    "df_table = (pd.DataFrame(dict(Cases = dfc_cases, Deaths = dfc_deaths, PCases = dfp_cases, PDeaths = dfp_deaths))\n",
    "            .sort_values(by = ['Cases','Deaths'], ascending = [False, False])\n",
    "            .reset_index())"
   ]
  },
  {
   "cell_type": "code",
   "execution_count": 13,
   "id": "educational-chancellor",
   "metadata": {
    "execution": {
     "iopub.execute_input": "2022-09-09T12:18:36.826390Z",
     "iopub.status.busy": "2022-09-09T12:18:36.825805Z",
     "iopub.status.idle": "2022-09-09T12:18:36.837984Z",
     "shell.execute_reply": "2022-09-09T12:18:36.837435Z"
    },
    "papermill": {
     "duration": 0.054958,
     "end_time": "2022-09-09T12:18:36.838090",
     "exception": false,
     "start_time": "2022-09-09T12:18:36.783132",
     "status": "completed"
    },
    "tags": []
   },
   "outputs": [
    {
     "data": {
      "text/html": [
       "<div>\n",
       "<style scoped>\n",
       "    .dataframe tbody tr th:only-of-type {\n",
       "        vertical-align: middle;\n",
       "    }\n",
       "\n",
       "    .dataframe tbody tr th {\n",
       "        vertical-align: top;\n",
       "    }\n",
       "\n",
       "    .dataframe thead th {\n",
       "        text-align: right;\n",
       "    }\n",
       "</style>\n",
       "<table border=\"1\" class=\"dataframe\">\n",
       "  <thead>\n",
       "    <tr style=\"text-align: right;\">\n",
       "      <th></th>\n",
       "      <th>Country/Region</th>\n",
       "      <th>Cases</th>\n",
       "      <th>Deaths</th>\n",
       "      <th>PCases</th>\n",
       "      <th>PDeaths</th>\n",
       "      <th>Cases (+)</th>\n",
       "      <th>Deaths (+)</th>\n",
       "      <th>Fatality Rate</th>\n",
       "      <th>Continent</th>\n",
       "    </tr>\n",
       "  </thead>\n",
       "  <tbody>\n",
       "    <tr>\n",
       "      <th>0</th>\n",
       "      <td>US</td>\n",
       "      <td>95118482</td>\n",
       "      <td>1049749</td>\n",
       "      <td>94995356</td>\n",
       "      <td>1049075</td>\n",
       "      <td>123126</td>\n",
       "      <td>674</td>\n",
       "      <td>1.10</td>\n",
       "      <td>North America</td>\n",
       "    </tr>\n",
       "    <tr>\n",
       "      <th>1</th>\n",
       "      <td>India</td>\n",
       "      <td>44484729</td>\n",
       "      <td>528121</td>\n",
       "      <td>44478636</td>\n",
       "      <td>528090</td>\n",
       "      <td>6093</td>\n",
       "      <td>31</td>\n",
       "      <td>1.19</td>\n",
       "      <td>Asia</td>\n",
       "    </tr>\n",
       "    <tr>\n",
       "      <th>2</th>\n",
       "      <td>France</td>\n",
       "      <td>34879822</td>\n",
       "      <td>155477</td>\n",
       "      <td>34859956</td>\n",
       "      <td>155419</td>\n",
       "      <td>19866</td>\n",
       "      <td>58</td>\n",
       "      <td>0.45</td>\n",
       "      <td>Europe</td>\n",
       "    </tr>\n",
       "    <tr>\n",
       "      <th>3</th>\n",
       "      <td>Brazil</td>\n",
       "      <td>34477539</td>\n",
       "      <td>684425</td>\n",
       "      <td>34477539</td>\n",
       "      <td>684425</td>\n",
       "      <td>0</td>\n",
       "      <td>0</td>\n",
       "      <td>1.99</td>\n",
       "      <td>South America</td>\n",
       "    </tr>\n",
       "    <tr>\n",
       "      <th>4</th>\n",
       "      <td>Germany</td>\n",
       "      <td>32422084</td>\n",
       "      <td>148217</td>\n",
       "      <td>32386089</td>\n",
       "      <td>148098</td>\n",
       "      <td>35995</td>\n",
       "      <td>119</td>\n",
       "      <td>0.46</td>\n",
       "      <td>Europe</td>\n",
       "    </tr>\n",
       "  </tbody>\n",
       "</table>\n",
       "</div>"
      ],
      "text/plain": [
       "  Country/Region     Cases   Deaths    PCases  PDeaths  Cases (+)  Deaths (+)  \\\n",
       "0             US  95118482  1049749  94995356  1049075     123126         674   \n",
       "1          India  44484729   528121  44478636   528090       6093          31   \n",
       "2         France  34879822   155477  34859956   155419      19866          58   \n",
       "3         Brazil  34477539   684425  34477539   684425          0           0   \n",
       "4        Germany  32422084   148217  32386089   148098      35995         119   \n",
       "\n",
       "   Fatality Rate      Continent  \n",
       "0           1.10  North America  \n",
       "1           1.19           Asia  \n",
       "2           0.45         Europe  \n",
       "3           1.99  South America  \n",
       "4           0.46         Europe  "
      ]
     },
     "execution_count": 13,
     "metadata": {},
     "output_type": "execute_result"
    }
   ],
   "source": [
    "#hide\n",
    "for c in 'Cases, Deaths'.split(', '):\n",
    "    df_table[f'{c} (+)'] = (df_table[c] - df_table[f'P{c}']).clip(0)\n",
    "    #Clip ça veut dire, les chiffres negatif sont interdit\n",
    "df_table['Fatality Rate'] = (100* df_table['Deaths']/ df_table['Cases']).round(2)\n",
    "df_table['Continent'] = df_table['Country/Region'].map(mapping['map.continent'])\n",
    "df_table.head(5)"
   ]
  },
  {
   "cell_type": "code",
   "execution_count": 14,
   "id": "aboriginal-bulgaria",
   "metadata": {
    "execution": {
     "iopub.execute_input": "2022-09-09T12:18:36.904912Z",
     "iopub.status.busy": "2022-09-09T12:18:36.904315Z",
     "iopub.status.idle": "2022-09-09T12:18:36.906775Z",
     "shell.execute_reply": "2022-09-09T12:18:36.906333Z"
    },
    "papermill": {
     "duration": 0.037945,
     "end_time": "2022-09-09T12:18:36.906875",
     "exception": false,
     "start_time": "2022-09-09T12:18:36.868930",
     "status": "completed"
    },
    "tags": []
   },
   "outputs": [],
   "source": [
    "#hide\n",
    "#delete problematic countries from table\n",
    "df_table = df_table[~df_table['Country/Region'].isin(['Cape Verde', 'Cruise Ship', 'Kosovo'])]"
   ]
  },
  {
   "cell_type": "code",
   "execution_count": 15,
   "id": "fantastic-effect",
   "metadata": {
    "execution": {
     "iopub.execute_input": "2022-09-09T12:18:36.975859Z",
     "iopub.status.busy": "2022-09-09T12:18:36.975281Z",
     "iopub.status.idle": "2022-09-09T12:18:36.992807Z",
     "shell.execute_reply": "2022-09-09T12:18:36.992327Z"
    },
    "papermill": {
     "duration": 0.055493,
     "end_time": "2022-09-09T12:18:36.992910",
     "exception": false,
     "start_time": "2022-09-09T12:18:36.937417",
     "status": "completed"
    },
    "tags": []
   },
   "outputs": [
    {
     "data": {
      "text/html": [
       "<div>\n",
       "<style scoped>\n",
       "    .dataframe tbody tr th:only-of-type {\n",
       "        vertical-align: middle;\n",
       "    }\n",
       "\n",
       "    .dataframe tbody tr th {\n",
       "        vertical-align: top;\n",
       "    }\n",
       "\n",
       "    .dataframe thead th {\n",
       "        text-align: right;\n",
       "    }\n",
       "</style>\n",
       "<table border=\"1\" class=\"dataframe\">\n",
       "  <thead>\n",
       "    <tr style=\"text-align: right;\">\n",
       "      <th></th>\n",
       "      <th>Country/Region</th>\n",
       "      <th>Cases</th>\n",
       "      <th>Deaths</th>\n",
       "      <th>PCases</th>\n",
       "      <th>PDeaths</th>\n",
       "      <th>Cases (+)</th>\n",
       "      <th>Deaths (+)</th>\n",
       "      <th>Fatality Rate</th>\n",
       "      <th>Continent</th>\n",
       "    </tr>\n",
       "  </thead>\n",
       "  <tbody>\n",
       "    <tr>\n",
       "      <th>0</th>\n",
       "      <td>US</td>\n",
       "      <td>95118482</td>\n",
       "      <td>1049749</td>\n",
       "      <td>94995356</td>\n",
       "      <td>1049075</td>\n",
       "      <td>123126</td>\n",
       "      <td>674</td>\n",
       "      <td>1.1</td>\n",
       "      <td>North America</td>\n",
       "    </tr>\n",
       "    <tr>\n",
       "      <th>1</th>\n",
       "      <td>India</td>\n",
       "      <td>44484729</td>\n",
       "      <td>528121</td>\n",
       "      <td>44478636</td>\n",
       "      <td>528090</td>\n",
       "      <td>6093</td>\n",
       "      <td>31</td>\n",
       "      <td>1.2</td>\n",
       "      <td>Asia</td>\n",
       "    </tr>\n",
       "    <tr>\n",
       "      <th>2</th>\n",
       "      <td>France</td>\n",
       "      <td>34879822</td>\n",
       "      <td>155477</td>\n",
       "      <td>34859956</td>\n",
       "      <td>155419</td>\n",
       "      <td>19866</td>\n",
       "      <td>58</td>\n",
       "      <td>0.4</td>\n",
       "      <td>Europe</td>\n",
       "    </tr>\n",
       "    <tr>\n",
       "      <th>3</th>\n",
       "      <td>Brazil</td>\n",
       "      <td>34477539</td>\n",
       "      <td>684425</td>\n",
       "      <td>34477539</td>\n",
       "      <td>684425</td>\n",
       "      <td>0</td>\n",
       "      <td>0</td>\n",
       "      <td>2.0</td>\n",
       "      <td>South America</td>\n",
       "    </tr>\n",
       "    <tr>\n",
       "      <th>4</th>\n",
       "      <td>Germany</td>\n",
       "      <td>32422084</td>\n",
       "      <td>148217</td>\n",
       "      <td>32386089</td>\n",
       "      <td>148098</td>\n",
       "      <td>35995</td>\n",
       "      <td>119</td>\n",
       "      <td>0.5</td>\n",
       "      <td>Europe</td>\n",
       "    </tr>\n",
       "  </tbody>\n",
       "</table>\n",
       "</div>"
      ],
      "text/plain": [
       "  Country/Region     Cases   Deaths    PCases  PDeaths  Cases (+)  Deaths (+)  \\\n",
       "0             US  95118482  1049749  94995356  1049075     123126         674   \n",
       "1          India  44484729   528121  44478636   528090       6093          31   \n",
       "2         France  34879822   155477  34859956   155419      19866          58   \n",
       "3         Brazil  34477539   684425  34477539   684425          0           0   \n",
       "4        Germany  32422084   148217  32386089   148098      35995         119   \n",
       "\n",
       "   Fatality Rate      Continent  \n",
       "0            1.1  North America  \n",
       "1            1.2           Asia  \n",
       "2            0.4         Europe  \n",
       "3            2.0  South America  \n",
       "4            0.5         Europe  "
      ]
     },
     "execution_count": 15,
     "metadata": {},
     "output_type": "execute_result"
    }
   ],
   "source": [
    "#hide\n",
    "df_table = (pd.DataFrame(dict(Cases=dfc_cases, Deaths=dfc_deaths, PCases=dfp_cases, PDeaths=dfp_deaths))\n",
    "             .sort_values(by=['Cases', 'Deaths'], ascending=[False, False])\n",
    "             .reset_index())\n",
    "df_table.rename(columns={'index': 'Country/Region'}, inplace=True)\n",
    "for c in 'Cases, Deaths'.split(', '):\n",
    "    df_table[f'{c} (+)'] = (df_table[c] - df_table[f'P{c}']).clip(0)  # DATA BUG\n",
    "df_table['Fatality Rate'] = (100 * df_table['Deaths'] / df_table['Cases']).round(1)\n",
    "df_table['Continent'] = df_table['Country/Region'].map(mapping['map.continent'])\n",
    "df_table.head(5)"
   ]
  },
  {
   "cell_type": "code",
   "execution_count": 16,
   "id": "fewer-occasion",
   "metadata": {
    "execution": {
     "iopub.execute_input": "2022-09-09T12:18:37.060487Z",
     "iopub.status.busy": "2022-09-09T12:18:37.059927Z",
     "iopub.status.idle": "2022-09-09T12:18:37.062789Z",
     "shell.execute_reply": "2022-09-09T12:18:37.062351Z"
    },
    "papermill": {
     "duration": 0.038611,
     "end_time": "2022-09-09T12:18:37.062887",
     "exception": false,
     "start_time": "2022-09-09T12:18:37.024276",
     "status": "completed"
    },
    "tags": []
   },
   "outputs": [],
   "source": [
    "#hide\n",
    "#delete problematic countries from table\n",
    "df_table = df_table[~df_table['Country/Region'].isin(['Cape Verde', 'Cruise Ship', 'Kosovo'])]"
   ]
  },
  {
   "cell_type": "code",
   "execution_count": 17,
   "id": "related-center",
   "metadata": {
    "execution": {
     "iopub.execute_input": "2022-09-09T12:18:37.142731Z",
     "iopub.status.busy": "2022-09-09T12:18:37.142151Z",
     "iopub.status.idle": "2022-09-09T12:18:37.144470Z",
     "shell.execute_reply": "2022-09-09T12:18:37.143941Z"
    },
    "papermill": {
     "duration": 0.050589,
     "end_time": "2022-09-09T12:18:37.144592",
     "exception": false,
     "start_time": "2022-09-09T12:18:37.094003",
     "status": "completed"
    },
    "tags": []
   },
   "outputs": [],
   "source": [
    "#hide\n",
    "metrics = [df_table.columns[index] for index in [1,2,5,6]]\n",
    "# s_china = df_table[df_table['Country/Region'].eq('China')][metrics].sum().add_prefix('China ')\n",
    "s_us = df_table[df_table['Country/Region'].eq('US')][metrics].sum().add_prefix('US ')\n",
    "s_eu = df_table[df_table['Continent'].eq('Europe')][metrics].sum().add_prefix('EU ')\n",
    "s_ind = df_table[df_table['Country/Region'].eq('India')][metrics].sum().add_prefix('India ')\n",
    "summary = {'updated': pd.to_datetime(dt_today), 'since': pd.to_datetime(dt_yday)}\n",
    "summary = {'updated': pd.to_datetime(dt_today), 'since': pd.to_datetime(dt_yday)}\n",
    "summary = {**summary, **df_table[metrics].sum(), **s_ind, **s_us, **s_eu}"
   ]
  },
  {
   "cell_type": "code",
   "execution_count": 18,
   "id": "engaging-syndrome",
   "metadata": {
    "execution": {
     "iopub.execute_input": "2022-09-09T12:18:37.211793Z",
     "iopub.status.busy": "2022-09-09T12:18:37.211228Z",
     "iopub.status.idle": "2022-09-09T12:18:37.230779Z",
     "shell.execute_reply": "2022-09-09T12:18:37.230329Z"
    },
    "papermill": {
     "duration": 0.054986,
     "end_time": "2022-09-09T12:18:37.230884",
     "exception": false,
     "start_time": "2022-09-09T12:18:37.175898",
     "status": "completed"
    },
    "tags": []
   },
   "outputs": [],
   "source": [
    "#hide\n",
    "dft_ct_new_cases = dft_cases.groupby(COL_REGION)[dt_cols].sum().diff(axis=1).fillna(0).astype(int)"
   ]
  },
  {
   "cell_type": "code",
   "execution_count": 19,
   "id": "neutral-assignment",
   "metadata": {
    "execution": {
     "iopub.execute_input": "2022-09-09T12:18:37.299305Z",
     "iopub.status.busy": "2022-09-09T12:18:37.298712Z",
     "iopub.status.idle": "2022-09-09T12:18:37.301124Z",
     "shell.execute_reply": "2022-09-09T12:18:37.300571Z"
    },
    "papermill": {
     "duration": 0.039168,
     "end_time": "2022-09-09T12:18:37.301231",
     "exception": false,
     "start_time": "2022-09-09T12:18:37.262063",
     "status": "completed"
    },
    "tags": []
   },
   "outputs": [],
   "source": [
    "#hide\n",
    "everydaycases = dft_ct_new_cases.cumsum(axis=1)"
   ]
  },
  {
   "cell_type": "code",
   "execution_count": 20,
   "id": "parliamentary-calgary",
   "metadata": {
    "execution": {
     "iopub.execute_input": "2022-09-09T12:18:37.367812Z",
     "iopub.status.busy": "2022-09-09T12:18:37.367238Z",
     "iopub.status.idle": "2022-09-09T12:18:37.913934Z",
     "shell.execute_reply": "2022-09-09T12:18:37.913462Z"
    },
    "papermill": {
     "duration": 0.581603,
     "end_time": "2022-09-09T12:18:37.914047",
     "exception": false,
     "start_time": "2022-09-09T12:18:37.332444",
     "status": "completed"
    },
    "tags": []
   },
   "outputs": [],
   "source": [
    "#hide\n",
    "import pandas as pd\n",
    "import matplotlib.pyplot as plt\n",
    "import matplotlib.ticker as ticker\n",
    "import matplotlib.animation as animation\n",
    "from IPython.display import HTML"
   ]
  },
  {
   "cell_type": "code",
   "execution_count": 21,
   "id": "lasting-extraction",
   "metadata": {
    "execution": {
     "iopub.execute_input": "2022-09-09T12:18:37.982535Z",
     "iopub.status.busy": "2022-09-09T12:18:37.981970Z",
     "iopub.status.idle": "2022-09-09T12:18:37.988514Z",
     "shell.execute_reply": "2022-09-09T12:18:37.988961Z"
    },
    "papermill": {
     "duration": 0.043822,
     "end_time": "2022-09-09T12:18:37.989083",
     "exception": false,
     "start_time": "2022-09-09T12:18:37.945261",
     "status": "completed"
    },
    "tags": []
   },
   "outputs": [],
   "source": [
    "#hide\n",
    "t = everydaycases.stack()"
   ]
  },
  {
   "cell_type": "code",
   "execution_count": 22,
   "id": "premier-sleeve",
   "metadata": {
    "execution": {
     "iopub.execute_input": "2022-09-09T12:18:38.055622Z",
     "iopub.status.busy": "2022-09-09T12:18:38.055053Z",
     "iopub.status.idle": "2022-09-09T12:18:38.066665Z",
     "shell.execute_reply": "2022-09-09T12:18:38.066201Z"
    },
    "papermill": {
     "duration": 0.046375,
     "end_time": "2022-09-09T12:18:38.066771",
     "exception": false,
     "start_time": "2022-09-09T12:18:38.020396",
     "status": "completed"
    },
    "tags": []
   },
   "outputs": [],
   "source": [
    "#hide\n",
    "g = t.reset_index(['Country/Region'])"
   ]
  },
  {
   "cell_type": "code",
   "execution_count": 23,
   "id": "distributed-pittsburgh",
   "metadata": {
    "execution": {
     "iopub.execute_input": "2022-09-09T12:18:38.132997Z",
     "iopub.status.busy": "2022-09-09T12:18:38.132359Z",
     "iopub.status.idle": "2022-09-09T12:18:38.135628Z",
     "shell.execute_reply": "2022-09-09T12:18:38.135205Z"
    },
    "papermill": {
     "duration": 0.037844,
     "end_time": "2022-09-09T12:18:38.135731",
     "exception": false,
     "start_time": "2022-09-09T12:18:38.097887",
     "status": "completed"
    },
    "tags": []
   },
   "outputs": [],
   "source": [
    "#hide\n",
    "g.index.name = 'date'"
   ]
  },
  {
   "cell_type": "code",
   "execution_count": 24,
   "id": "naked-donor",
   "metadata": {
    "execution": {
     "iopub.execute_input": "2022-09-09T12:18:38.201812Z",
     "iopub.status.busy": "2022-09-09T12:18:38.201253Z",
     "iopub.status.idle": "2022-09-09T12:18:38.203626Z",
     "shell.execute_reply": "2022-09-09T12:18:38.203083Z"
    },
    "papermill": {
     "duration": 0.036756,
     "end_time": "2022-09-09T12:18:38.203728",
     "exception": false,
     "start_time": "2022-09-09T12:18:38.166972",
     "status": "completed"
    },
    "tags": []
   },
   "outputs": [],
   "source": [
    "# #hide\n",
    "# g = g.reset_index(['date'])"
   ]
  },
  {
   "cell_type": "code",
   "execution_count": 25,
   "id": "incomplete-mustang",
   "metadata": {
    "execution": {
     "iopub.execute_input": "2022-09-09T12:18:38.269951Z",
     "iopub.status.busy": "2022-09-09T12:18:38.269377Z",
     "iopub.status.idle": "2022-09-09T12:18:38.272883Z",
     "shell.execute_reply": "2022-09-09T12:18:38.273286Z"
    },
    "papermill": {
     "duration": 0.038422,
     "end_time": "2022-09-09T12:18:38.273408",
     "exception": false,
     "start_time": "2022-09-09T12:18:38.234986",
     "status": "completed"
    },
    "tags": []
   },
   "outputs": [],
   "source": [
    "#hide\n",
    "# g.head()"
   ]
  },
  {
   "cell_type": "code",
   "execution_count": 26,
   "id": "specific-kruger",
   "metadata": {
    "execution": {
     "iopub.execute_input": "2022-09-09T12:18:38.339845Z",
     "iopub.status.busy": "2022-09-09T12:18:38.339282Z",
     "iopub.status.idle": "2022-09-09T12:18:38.341585Z",
     "shell.execute_reply": "2022-09-09T12:18:38.341135Z"
    },
    "papermill": {
     "duration": 0.036897,
     "end_time": "2022-09-09T12:18:38.341685",
     "exception": false,
     "start_time": "2022-09-09T12:18:38.304788",
     "status": "completed"
    },
    "tags": []
   },
   "outputs": [],
   "source": [
    "#hide\n",
    "# g.columns = ['date','country','cases']"
   ]
  },
  {
   "cell_type": "code",
   "execution_count": 27,
   "id": "tender-conversion",
   "metadata": {
    "execution": {
     "iopub.execute_input": "2022-09-09T12:18:38.407463Z",
     "iopub.status.busy": "2022-09-09T12:18:38.406893Z",
     "iopub.status.idle": "2022-09-09T12:18:38.409287Z",
     "shell.execute_reply": "2022-09-09T12:18:38.408751Z"
    },
    "papermill": {
     "duration": 0.036753,
     "end_time": "2022-09-09T12:18:38.409388",
     "exception": false,
     "start_time": "2022-09-09T12:18:38.372635",
     "status": "completed"
    },
    "tags": []
   },
   "outputs": [],
   "source": [
    "#hide\n",
    "# g['continent'] = g.country"
   ]
  },
  {
   "cell_type": "code",
   "execution_count": 28,
   "id": "substantial-wilderness",
   "metadata": {
    "execution": {
     "iopub.execute_input": "2022-09-09T12:18:38.475684Z",
     "iopub.status.busy": "2022-09-09T12:18:38.475115Z",
     "iopub.status.idle": "2022-09-09T12:18:38.477530Z",
     "shell.execute_reply": "2022-09-09T12:18:38.477093Z"
    },
    "papermill": {
     "duration": 0.036738,
     "end_time": "2022-09-09T12:18:38.477626",
     "exception": false,
     "start_time": "2022-09-09T12:18:38.440888",
     "status": "completed"
    },
    "tags": []
   },
   "outputs": [],
   "source": [
    "#hide\n",
    "# cols = list(g.columns.values)"
   ]
  },
  {
   "cell_type": "code",
   "execution_count": 29,
   "id": "solved-farming",
   "metadata": {
    "execution": {
     "iopub.execute_input": "2022-09-09T12:18:38.543054Z",
     "iopub.status.busy": "2022-09-09T12:18:38.542478Z",
     "iopub.status.idle": "2022-09-09T12:18:38.544890Z",
     "shell.execute_reply": "2022-09-09T12:18:38.544338Z"
    },
    "papermill": {
     "duration": 0.036418,
     "end_time": "2022-09-09T12:18:38.544993",
     "exception": false,
     "start_time": "2022-09-09T12:18:38.508575",
     "status": "completed"
    },
    "tags": []
   },
   "outputs": [],
   "source": [
    "#hide\n",
    "# cols.insert(0, cols.pop())"
   ]
  },
  {
   "cell_type": "code",
   "execution_count": 30,
   "id": "executed-adoption",
   "metadata": {
    "execution": {
     "iopub.execute_input": "2022-09-09T12:18:38.610735Z",
     "iopub.status.busy": "2022-09-09T12:18:38.610164Z",
     "iopub.status.idle": "2022-09-09T12:18:38.612525Z",
     "shell.execute_reply": "2022-09-09T12:18:38.612086Z"
    },
    "papermill": {
     "duration": 0.03664,
     "end_time": "2022-09-09T12:18:38.612640",
     "exception": false,
     "start_time": "2022-09-09T12:18:38.576000",
     "status": "completed"
    },
    "tags": []
   },
   "outputs": [],
   "source": [
    "#hide\n",
    "# g = g[cols]"
   ]
  },
  {
   "cell_type": "code",
   "execution_count": 31,
   "id": "subject-dublin",
   "metadata": {
    "execution": {
     "iopub.execute_input": "2022-09-09T12:18:38.678091Z",
     "iopub.status.busy": "2022-09-09T12:18:38.677524Z",
     "iopub.status.idle": "2022-09-09T12:18:38.681097Z",
     "shell.execute_reply": "2022-09-09T12:18:38.681502Z"
    },
    "papermill": {
     "duration": 0.038054,
     "end_time": "2022-09-09T12:18:38.681618",
     "exception": false,
     "start_time": "2022-09-09T12:18:38.643564",
     "status": "completed"
    },
    "tags": []
   },
   "outputs": [],
   "source": [
    "#hide\n",
    "# g['continent'] = g['continent'].map(mapping['map.continent'])"
   ]
  },
  {
   "cell_type": "code",
   "execution_count": 32,
   "id": "freelance-scout",
   "metadata": {
    "execution": {
     "iopub.execute_input": "2022-09-09T12:18:38.747608Z",
     "iopub.status.busy": "2022-09-09T12:18:38.747031Z",
     "iopub.status.idle": "2022-09-09T12:18:38.748953Z",
     "shell.execute_reply": "2022-09-09T12:18:38.749376Z"
    },
    "papermill": {
     "duration": 0.036644,
     "end_time": "2022-09-09T12:18:38.749490",
     "exception": false,
     "start_time": "2022-09-09T12:18:38.712846",
     "status": "completed"
    },
    "tags": []
   },
   "outputs": [],
   "source": [
    "#hide\n",
    "# g.head()"
   ]
  },
  {
   "cell_type": "code",
   "execution_count": 33,
   "id": "limited-engine",
   "metadata": {
    "execution": {
     "iopub.execute_input": "2022-09-09T12:18:38.815426Z",
     "iopub.status.busy": "2022-09-09T12:18:38.814838Z",
     "iopub.status.idle": "2022-09-09T12:18:38.817160Z",
     "shell.execute_reply": "2022-09-09T12:18:38.816718Z"
    },
    "papermill": {
     "duration": 0.036753,
     "end_time": "2022-09-09T12:18:38.817258",
     "exception": false,
     "start_time": "2022-09-09T12:18:38.780505",
     "status": "completed"
    },
    "tags": []
   },
   "outputs": [],
   "source": [
    "# hide\n",
    "# g['date'] = g['date'].astype('datetime64[ns]')"
   ]
  },
  {
   "cell_type": "code",
   "execution_count": 34,
   "id": "sophisticated-supervisor",
   "metadata": {
    "execution": {
     "iopub.execute_input": "2022-09-09T12:18:38.883263Z",
     "iopub.status.busy": "2022-09-09T12:18:38.882693Z",
     "iopub.status.idle": "2022-09-09T12:18:38.885117Z",
     "shell.execute_reply": "2022-09-09T12:18:38.884676Z"
    },
    "papermill": {
     "duration": 0.036714,
     "end_time": "2022-09-09T12:18:38.885215",
     "exception": false,
     "start_time": "2022-09-09T12:18:38.848501",
     "status": "completed"
    },
    "tags": []
   },
   "outputs": [],
   "source": [
    "#hide\n",
    "# g['date'] = g.date.dt.dayofyear"
   ]
  },
  {
   "cell_type": "code",
   "execution_count": 35,
   "id": "inside-dubai",
   "metadata": {
    "execution": {
     "iopub.execute_input": "2022-09-09T12:18:38.950793Z",
     "iopub.status.busy": "2022-09-09T12:18:38.950210Z",
     "iopub.status.idle": "2022-09-09T12:18:38.952688Z",
     "shell.execute_reply": "2022-09-09T12:18:38.952223Z"
    },
    "papermill": {
     "duration": 0.036552,
     "end_time": "2022-09-09T12:18:38.952789",
     "exception": false,
     "start_time": "2022-09-09T12:18:38.916237",
     "status": "completed"
    },
    "tags": []
   },
   "outputs": [],
   "source": [
    "#hide\n",
    "# g = g.rename(columns= {'continent':'group','country':'name','cases':'value'})"
   ]
  },
  {
   "cell_type": "code",
   "execution_count": 36,
   "id": "fleet-motorcycle",
   "metadata": {
    "execution": {
     "iopub.execute_input": "2022-09-09T12:18:39.018587Z",
     "iopub.status.busy": "2022-09-09T12:18:39.018006Z",
     "iopub.status.idle": "2022-09-09T12:18:39.020376Z",
     "shell.execute_reply": "2022-09-09T12:18:39.019852Z"
    },
    "papermill": {
     "duration": 0.036512,
     "end_time": "2022-09-09T12:18:39.020475",
     "exception": false,
     "start_time": "2022-09-09T12:18:38.983963",
     "status": "completed"
    },
    "tags": []
   },
   "outputs": [],
   "source": [
    "#hide\n",
    "# cols = ['name','group','day','value']"
   ]
  },
  {
   "cell_type": "code",
   "execution_count": 37,
   "id": "continued-sleeping",
   "metadata": {
    "execution": {
     "iopub.execute_input": "2022-09-09T12:18:39.086331Z",
     "iopub.status.busy": "2022-09-09T12:18:39.085741Z",
     "iopub.status.idle": "2022-09-09T12:18:39.088066Z",
     "shell.execute_reply": "2022-09-09T12:18:39.087542Z"
    },
    "papermill": {
     "duration": 0.03654,
     "end_time": "2022-09-09T12:18:39.088163",
     "exception": false,
     "start_time": "2022-09-09T12:18:39.051623",
     "status": "completed"
    },
    "tags": []
   },
   "outputs": [],
   "source": [
    "#hide\n",
    "# g.rename(columns= {'date':'day'},inplace = True)"
   ]
  },
  {
   "cell_type": "code",
   "execution_count": 38,
   "id": "major-fight",
   "metadata": {
    "execution": {
     "iopub.execute_input": "2022-09-09T12:18:39.154478Z",
     "iopub.status.busy": "2022-09-09T12:18:39.153898Z",
     "iopub.status.idle": "2022-09-09T12:18:39.156282Z",
     "shell.execute_reply": "2022-09-09T12:18:39.155753Z"
    },
    "papermill": {
     "duration": 0.036955,
     "end_time": "2022-09-09T12:18:39.156383",
     "exception": false,
     "start_time": "2022-09-09T12:18:39.119428",
     "status": "completed"
    },
    "tags": []
   },
   "outputs": [],
   "source": [
    "#hide\n",
    "# g = g[cols]"
   ]
  },
  {
   "cell_type": "code",
   "execution_count": 39,
   "id": "structured-mobile",
   "metadata": {
    "execution": {
     "iopub.execute_input": "2022-09-09T12:18:39.222918Z",
     "iopub.status.busy": "2022-09-09T12:18:39.222337Z",
     "iopub.status.idle": "2022-09-09T12:18:39.224677Z",
     "shell.execute_reply": "2022-09-09T12:18:39.224132Z"
    },
    "papermill": {
     "duration": 0.037385,
     "end_time": "2022-09-09T12:18:39.224777",
     "exception": false,
     "start_time": "2022-09-09T12:18:39.187392",
     "status": "completed"
    },
    "tags": []
   },
   "outputs": [],
   "source": [
    "# #hide\n",
    "# g = g[g.group.notna()]"
   ]
  },
  {
   "cell_type": "code",
   "execution_count": 40,
   "id": "determined-closing",
   "metadata": {
    "execution": {
     "iopub.execute_input": "2022-09-09T12:18:39.290965Z",
     "iopub.status.busy": "2022-09-09T12:18:39.290384Z",
     "iopub.status.idle": "2022-09-09T12:18:39.292817Z",
     "shell.execute_reply": "2022-09-09T12:18:39.292270Z"
    },
    "papermill": {
     "duration": 0.036844,
     "end_time": "2022-09-09T12:18:39.292917",
     "exception": false,
     "start_time": "2022-09-09T12:18:39.256073",
     "status": "completed"
    },
    "tags": []
   },
   "outputs": [],
   "source": [
    "# #hide\n",
    "# colors = dict(zip(\n",
    "#     [\"Oceania\", \"Europe\", \"Asia\", \"South America\", \"Middle East\", \"North America\", \"Africa\"],\n",
    "#     [\"#adb0ff\", \"#ffb3ff\", \"#90d595\", \"#e48381\", \"#aafbff\", \"#f7bb5f\", \"#eafb50\"]\n",
    "# ))\n",
    "# group_lk = g.set_index('name')['group'].to_dict()"
   ]
  },
  {
   "cell_type": "code",
   "execution_count": null,
   "id": "gross-drinking",
   "metadata": {
    "papermill": {
     "duration": 0.031005,
     "end_time": "2022-09-09T12:18:39.354779",
     "exception": false,
     "start_time": "2022-09-09T12:18:39.323774",
     "status": "completed"
    },
    "tags": []
   },
   "outputs": [],
   "source": []
  },
  {
   "cell_type": "code",
   "execution_count": 41,
   "id": "subject-macintosh",
   "metadata": {
    "execution": {
     "iopub.execute_input": "2022-09-09T12:18:39.421152Z",
     "iopub.status.busy": "2022-09-09T12:18:39.420530Z",
     "iopub.status.idle": "2022-09-09T12:18:39.422974Z",
     "shell.execute_reply": "2022-09-09T12:18:39.422529Z"
    },
    "papermill": {
     "duration": 0.037189,
     "end_time": "2022-09-09T12:18:39.423075",
     "exception": false,
     "start_time": "2022-09-09T12:18:39.385886",
     "status": "completed"
    },
    "tags": []
   },
   "outputs": [],
   "source": [
    "# #hide\n",
    "# fig, ax = plt.subplots(figsize=(15, 8))\n",
    "\n",
    "# def draw_barchart(current_day):\n",
    "#     dff = g[g['day'].eq(current_day)].sort_values(by='value', ascending=True).tail(10)\n",
    "#     ax.clear()\n",
    "#     ax.barh(dff['name'], dff['value'], color=[colors[group_lk[x]] for x in dff['name']])\n",
    "#     dx = dff['value'].max() / 200\n",
    "    \n",
    "#     for i, (value, name) in enumerate(zip(dff['value'], dff['name'])):\n",
    "#         ax.text(value-dx, i,     name,           size=14, weight=600, ha='right', va='bottom')\n",
    "#         ax.text(value-dx, i-.25, group_lk[name], size=10, color='#444444', ha='right', va='baseline')\n",
    "#         ax.text(value+dx, i,     f'{value:,.0f}',  size=14, ha='left',  va='center')\n",
    "#     ax.text(1, 0.4, current_day, transform=ax.transAxes, color='#777777', size=46, ha='right', weight=800)\n",
    "#     ax.text(0, 1.06, 'Population (thousands)', transform=ax.transAxes, size=12, color='#777777')\n",
    "#     ax.xaxis.set_major_formatter(ticker.StrMethodFormatter('{x:,.0f}'))\n",
    "#     ax.xaxis.set_ticks_position('top')\n",
    "#     ax.tick_params(axis='x', colors='#777777', labelsize=12)\n",
    "#     ax.set_yticks([])\n",
    "#     ax.margins(0, 0.01)\n",
    "#     ax.grid(which='major', axis='x', linestyle='-')\n",
    "#     ax.set_axisbelow(True)\n",
    "    \n",
    "#     ax.text(0, 1.15, 'Coronavirus',\n",
    "#             transform=ax.transAxes, size=24, weight=600, ha='left', va='top')\n",
    "# #     ax.text(1, 0, 'by @pratapvardhan; credit @jburnmurdoch', transform=ax.transAxes, color='#777777', ha='right',\n",
    "# #             bbox=dict(facecolor='white', alpha=0.8, edgecolor='white'))\n",
    "#     plt.box(False)"
   ]
  },
  {
   "cell_type": "code",
   "execution_count": 42,
   "id": "sexual-wages",
   "metadata": {
    "execution": {
     "iopub.execute_input": "2022-09-09T12:18:39.489722Z",
     "iopub.status.busy": "2022-09-09T12:18:39.489154Z",
     "iopub.status.idle": "2022-09-09T12:18:39.491517Z",
     "shell.execute_reply": "2022-09-09T12:18:39.491077Z"
    },
    "papermill": {
     "duration": 0.036838,
     "end_time": "2022-09-09T12:18:39.491615",
     "exception": false,
     "start_time": "2022-09-09T12:18:39.454777",
     "status": "completed"
    },
    "tags": []
   },
   "outputs": [],
   "source": [
    "# #hide_input\n",
    "# fig, ax = plt.subplots(figsize=(15, 8))\n",
    "# animator = animation.FuncAnimation(fig, draw_barchart, frames=range(g.day.values.min(), g.day.values.max()))\n",
    "# HTML(animator.to_jshtml())\n",
    "# # or use animator.to_html5_video() or animator.save() "
   ]
  },
  {
   "cell_type": "code",
   "execution_count": null,
   "id": "australian-container",
   "metadata": {
    "papermill": {
     "duration": 0.030952,
     "end_time": "2022-09-09T12:18:39.553636",
     "exception": false,
     "start_time": "2022-09-09T12:18:39.522684",
     "status": "completed"
    },
    "tags": []
   },
   "outputs": [],
   "source": []
  },
  {
   "cell_type": "code",
   "execution_count": null,
   "id": "mediterranean-pontiac",
   "metadata": {
    "papermill": {
     "duration": 0.031009,
     "end_time": "2022-09-09T12:18:39.615746",
     "exception": false,
     "start_time": "2022-09-09T12:18:39.584737",
     "status": "completed"
    },
    "tags": []
   },
   "outputs": [],
   "source": []
  },
  {
   "cell_type": "code",
   "execution_count": null,
   "id": "aging-legislature",
   "metadata": {
    "papermill": {
     "duration": 0.030783,
     "end_time": "2022-09-09T12:18:39.677631",
     "exception": false,
     "start_time": "2022-09-09T12:18:39.646848",
     "status": "completed"
    },
    "tags": []
   },
   "outputs": [],
   "source": []
  }
 ],
 "metadata": {
  "kernelspec": {
   "display_name": "Python 3",
   "language": "python",
   "name": "python3"
  },
  "language_info": {
   "codemirror_mode": {
    "name": "ipython",
    "version": 3
   },
   "file_extension": ".py",
   "mimetype": "text/x-python",
   "name": "python",
   "nbconvert_exporter": "python",
   "pygments_lexer": "ipython3",
   "version": "3.6.15"
  },
  "papermill": {
   "duration": 5.86525,
   "end_time": "2022-09-09T12:18:40.026419",
   "environment_variables": {},
   "exception": null,
   "input_path": "2020-03-21-covid19exp.ipynb",
   "output_path": "2020-03-21-covid19exp.ipynb",
   "parameters": {},
   "start_time": "2022-09-09T12:18:34.161169",
   "version": "2.0.0"
  }
 },
 "nbformat": 4,
 "nbformat_minor": 5
}