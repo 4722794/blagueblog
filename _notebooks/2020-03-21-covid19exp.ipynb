{
 "cells": [
  {
   "cell_type": "markdown",
   "id": "muslim-click",
   "metadata": {
    "papermill": {
     "duration": 0.046564,
     "end_time": "2021-11-26T12:12:26.810946",
     "exception": false,
     "start_time": "2021-11-26T12:12:26.764382",
     "status": "completed"
    },
    "tags": []
   },
   "source": [
    "# COVID-19 Case Race\n",
    "> A race chart to see rising cases around the world\n",
    "\n",
    "- author: Hargun Oberoi\n",
    "- image: images/covid-overview.png\n",
    "- hide: false\n",
    "- badges: false"
   ]
  },
  {
   "cell_type": "code",
   "execution_count": 1,
   "id": "proof-material",
   "metadata": {
    "execution": {
     "iopub.execute_input": "2021-11-26T12:12:26.901787Z",
     "iopub.status.busy": "2021-11-26T12:12:26.900814Z",
     "iopub.status.idle": "2021-11-26T12:12:27.319435Z",
     "shell.execute_reply": "2021-11-26T12:12:27.318796Z"
    },
    "papermill": {
     "duration": 0.469451,
     "end_time": "2021-11-26T12:12:27.319660",
     "exception": false,
     "start_time": "2021-11-26T12:12:26.850209",
     "status": "completed"
    },
    "tags": []
   },
   "outputs": [],
   "source": [
    "#hide\n",
    "import numpy as np\n",
    "import pandas as pd\n",
    "from jinja2 import Template\n",
    "from IPython.display import HTML"
   ]
  },
  {
   "cell_type": "code",
   "execution_count": 2,
   "id": "developed-terminology",
   "metadata": {
    "execution": {
     "iopub.execute_input": "2021-11-26T12:12:27.405665Z",
     "iopub.status.busy": "2021-11-26T12:12:27.404924Z",
     "iopub.status.idle": "2021-11-26T12:12:27.407929Z",
     "shell.execute_reply": "2021-11-26T12:12:27.407275Z"
    },
    "papermill": {
     "duration": 0.048053,
     "end_time": "2021-11-26T12:12:27.408064",
     "exception": false,
     "start_time": "2021-11-26T12:12:27.360011",
     "status": "completed"
    },
    "tags": []
   },
   "outputs": [],
   "source": [
    "#hide\n",
    "\n",
    "# FETCH\n",
    "base_url = 'https://raw.githubusercontent.com/pratapvardhan/notebooks/master/covid19/'\n",
    "paths = {\n",
    "    'mapping': base_url + 'mapping_countries.csv',\n",
    "    'overview': base_url + 'overview.tpl'\n",
    "}"
   ]
  },
  {
   "cell_type": "code",
   "execution_count": 3,
   "id": "dynamic-saver",
   "metadata": {
    "execution": {
     "iopub.execute_input": "2021-11-26T12:12:27.494287Z",
     "iopub.status.busy": "2021-11-26T12:12:27.490955Z",
     "iopub.status.idle": "2021-11-26T12:12:27.498071Z",
     "shell.execute_reply": "2021-11-26T12:12:27.497482Z"
    },
    "papermill": {
     "duration": 0.052308,
     "end_time": "2021-11-26T12:12:27.498191",
     "exception": false,
     "start_time": "2021-11-26T12:12:27.445883",
     "status": "completed"
    },
    "tags": []
   },
   "outputs": [
    {
     "data": {
      "text/plain": [
       "'https://raw.githubusercontent.com/pratapvardhan/notebooks/master/covid19/mapping_countries.csv'"
      ]
     },
     "execution_count": 3,
     "metadata": {},
     "output_type": "execute_result"
    }
   ],
   "source": [
    "#hide\n",
    "paths['mapping']"
   ]
  },
  {
   "cell_type": "code",
   "execution_count": 4,
   "id": "urban-software",
   "metadata": {
    "execution": {
     "iopub.execute_input": "2021-11-26T12:12:27.582045Z",
     "iopub.status.busy": "2021-11-26T12:12:27.581370Z",
     "iopub.status.idle": "2021-11-26T12:12:27.585095Z",
     "shell.execute_reply": "2021-11-26T12:12:27.583814Z"
    },
    "papermill": {
     "duration": 0.046816,
     "end_time": "2021-11-26T12:12:27.585552",
     "exception": false,
     "start_time": "2021-11-26T12:12:27.538736",
     "status": "completed"
    },
    "tags": []
   },
   "outputs": [],
   "source": [
    "#hide\n",
    "def get_mappings(url):\n",
    "    df = pd.read_csv(url)\n",
    "    return {\n",
    "        'df': df,\n",
    "        'replace.country': dict(df.dropna(subset=['Name']).set_index('Country')['Name']),\n",
    "        'map.continent': dict(df.set_index('Name')['Continent'])\n",
    "    }"
   ]
  },
  {
   "cell_type": "code",
   "execution_count": 5,
   "id": "intimate-machinery",
   "metadata": {
    "execution": {
     "iopub.execute_input": "2021-11-26T12:12:27.674201Z",
     "iopub.status.busy": "2021-11-26T12:12:27.673503Z",
     "iopub.status.idle": "2021-11-26T12:12:27.708023Z",
     "shell.execute_reply": "2021-11-26T12:12:27.708654Z"
    },
    "papermill": {
     "duration": 0.079362,
     "end_time": "2021-11-26T12:12:27.708814",
     "exception": false,
     "start_time": "2021-11-26T12:12:27.629452",
     "status": "completed"
    },
    "tags": []
   },
   "outputs": [],
   "source": [
    "#hide\n",
    "mapping = get_mappings(paths['mapping'])"
   ]
  },
  {
   "cell_type": "code",
   "execution_count": 6,
   "id": "certified-tactics",
   "metadata": {
    "execution": {
     "iopub.execute_input": "2021-11-26T12:12:27.793351Z",
     "iopub.status.busy": "2021-11-26T12:12:27.792655Z",
     "iopub.status.idle": "2021-11-26T12:12:27.798161Z",
     "shell.execute_reply": "2021-11-26T12:12:27.797613Z"
    },
    "papermill": {
     "duration": 0.04966,
     "end_time": "2021-11-26T12:12:27.798327",
     "exception": false,
     "start_time": "2021-11-26T12:12:27.748667",
     "status": "completed"
    },
    "tags": []
   },
   "outputs": [],
   "source": [
    "#hide\n",
    "def get_template(path):\n",
    "    from urllib.parse import urlparse\n",
    "    if bool(urlparse(path).netloc):\n",
    "        from urllib.request import urlopen\n",
    "        return urlopen(path).read().decode('utf8')\n",
    "    return open(path).read()"
   ]
  },
  {
   "cell_type": "code",
   "execution_count": 7,
   "id": "realistic-blast",
   "metadata": {
    "execution": {
     "iopub.execute_input": "2021-11-26T12:12:27.884099Z",
     "iopub.status.busy": "2021-11-26T12:12:27.883405Z",
     "iopub.status.idle": "2021-11-26T12:12:27.885817Z",
     "shell.execute_reply": "2021-11-26T12:12:27.885111Z"
    },
    "papermill": {
     "duration": 0.046884,
     "end_time": "2021-11-26T12:12:27.885944",
     "exception": false,
     "start_time": "2021-11-26T12:12:27.839060",
     "status": "completed"
    },
    "tags": []
   },
   "outputs": [],
   "source": [
    "#hide\n",
    "def get_frame(name):\n",
    "    url = (\n",
    "        'https://raw.githubusercontent.com/CSSEGISandData/COVID-19/master/csse_covid_19_data/'\n",
    "        f'csse_covid_19_time_series/time_series_covid19_{name}_global.csv')\n",
    "    df = pd.read_csv(url)\n",
    "    # rename countries\n",
    "    df['Country/Region'] = df['Country/Region'].replace(mapping['replace.country'])\n",
    "    return df"
   ]
  },
  {
   "cell_type": "code",
   "execution_count": 8,
   "id": "affiliated-characterization",
   "metadata": {
    "execution": {
     "iopub.execute_input": "2021-11-26T12:12:27.973549Z",
     "iopub.status.busy": "2021-11-26T12:12:27.972900Z",
     "iopub.status.idle": "2021-11-26T12:12:27.977375Z",
     "shell.execute_reply": "2021-11-26T12:12:27.976759Z"
    },
    "papermill": {
     "duration": 0.049917,
     "end_time": "2021-11-26T12:12:27.977517",
     "exception": false,
     "start_time": "2021-11-26T12:12:27.927600",
     "status": "completed"
    },
    "tags": []
   },
   "outputs": [],
   "source": [
    "#hide\n",
    "def get_dates(df):\n",
    "    dt_cols = df.columns[~df.columns.isin(['Province/State', 'Country/Region', 'Lat', 'Long'])]\n",
    "    LAST_DATE_I = -1\n",
    "    # sometimes last column may be empty, then go backwards\n",
    "    for i in range(-1, -len(dt_cols), -1):\n",
    "        if not df[dt_cols[i]].fillna(0).eq(0).all():\n",
    "            LAST_DATE_I = i\n",
    "            break\n",
    "    return LAST_DATE_I, dt_cols"
   ]
  },
  {
   "cell_type": "code",
   "execution_count": 9,
   "id": "recent-optimization",
   "metadata": {
    "execution": {
     "iopub.execute_input": "2021-11-26T12:12:28.060881Z",
     "iopub.status.busy": "2021-11-26T12:12:28.060102Z",
     "iopub.status.idle": "2021-11-26T12:12:28.452128Z",
     "shell.execute_reply": "2021-11-26T12:12:28.451544Z"
    },
    "papermill": {
     "duration": 0.435587,
     "end_time": "2021-11-26T12:12:28.452533",
     "exception": false,
     "start_time": "2021-11-26T12:12:28.016946",
     "status": "completed"
    },
    "tags": []
   },
   "outputs": [],
   "source": [
    "#hide\n",
    "COL_REGION = 'Country/Region'\n",
    "# Confirmed, Recovered, Deaths\n",
    "df = get_frame('confirmed')\n",
    "# dft_: timeseries, dfc_: today country agg\n",
    "dft_cases = df\n",
    "dft_deaths = get_frame('deaths')\n",
    "dft_recovered = get_frame('recovered')\n",
    "LAST_DATE_I, dt_cols = get_dates(df)"
   ]
  },
  {
   "cell_type": "code",
   "execution_count": 10,
   "id": "absolute-copper",
   "metadata": {
    "execution": {
     "iopub.execute_input": "2021-11-26T12:12:28.542119Z",
     "iopub.status.busy": "2021-11-26T12:12:28.541400Z",
     "iopub.status.idle": "2021-11-26T12:12:28.546153Z",
     "shell.execute_reply": "2021-11-26T12:12:28.545573Z"
    },
    "papermill": {
     "duration": 0.051708,
     "end_time": "2021-11-26T12:12:28.546315",
     "exception": false,
     "start_time": "2021-11-26T12:12:28.494607",
     "status": "completed"
    },
    "tags": []
   },
   "outputs": [],
   "source": [
    "#hide\n",
    "LAST_DATE_I, dt_cols = get_dates(df)\n",
    "dt_today =dt_cols[LAST_DATE_I]\n",
    "# dt_5day = dt_cols[LAST_DATE_I - 5]\n",
    "dt_yday = dt_cols[LAST_DATE_I - 1]"
   ]
  },
  {
   "cell_type": "code",
   "execution_count": 11,
   "id": "restricted-sheriff",
   "metadata": {
    "execution": {
     "iopub.execute_input": "2021-11-26T12:12:28.634673Z",
     "iopub.status.busy": "2021-11-26T12:12:28.630759Z",
     "iopub.status.idle": "2021-11-26T12:12:28.641183Z",
     "shell.execute_reply": "2021-11-26T12:12:28.640026Z"
    },
    "papermill": {
     "duration": 0.055938,
     "end_time": "2021-11-26T12:12:28.641336",
     "exception": false,
     "start_time": "2021-11-26T12:12:28.585398",
     "status": "completed"
    },
    "tags": []
   },
   "outputs": [],
   "source": [
    "#hide\n",
    "dfc_cases = dft_cases.groupby(COL_REGION)[dt_today].sum()\n",
    "dfc_deaths = dft_deaths.groupby(COL_REGION)[dt_today].sum()\n",
    "# dfp_cases = dft_cases.groupby(COL_REGION)[dt_5day].sum()\n",
    "# dfp_deaths = dft_deaths.groupby(COL_REGION)[dt_5day].sum()\n",
    "dfp_cases = dft_cases.groupby(COL_REGION)[dt_yday].sum()\n",
    "dfp_deaths = dft_deaths.groupby(COL_REGION)[dt_yday].sum()"
   ]
  },
  {
   "cell_type": "code",
   "execution_count": 12,
   "id": "deluxe-hepatitis",
   "metadata": {
    "execution": {
     "iopub.execute_input": "2021-11-26T12:12:28.730179Z",
     "iopub.status.busy": "2021-11-26T12:12:28.727592Z",
     "iopub.status.idle": "2021-11-26T12:12:28.733095Z",
     "shell.execute_reply": "2021-11-26T12:12:28.732438Z"
    },
    "papermill": {
     "duration": 0.053344,
     "end_time": "2021-11-26T12:12:28.733231",
     "exception": false,
     "start_time": "2021-11-26T12:12:28.679887",
     "status": "completed"
    },
    "tags": []
   },
   "outputs": [],
   "source": [
    "#hide\n",
    "df_table = (pd.DataFrame(dict(Cases = dfc_cases, Deaths = dfc_deaths, PCases = dfp_cases, PDeaths = dfp_deaths))\n",
    "            .sort_values(by = ['Cases','Deaths'], ascending = [False, False])\n",
    "            .reset_index())"
   ]
  },
  {
   "cell_type": "code",
   "execution_count": 13,
   "id": "educational-chancellor",
   "metadata": {
    "execution": {
     "iopub.execute_input": "2021-11-26T12:12:28.843665Z",
     "iopub.status.busy": "2021-11-26T12:12:28.837314Z",
     "iopub.status.idle": "2021-11-26T12:12:28.847293Z",
     "shell.execute_reply": "2021-11-26T12:12:28.847846Z"
    },
    "papermill": {
     "duration": 0.07545,
     "end_time": "2021-11-26T12:12:28.848025",
     "exception": false,
     "start_time": "2021-11-26T12:12:28.772575",
     "status": "completed"
    },
    "tags": []
   },
   "outputs": [
    {
     "data": {
      "text/html": [
       "<div>\n",
       "<style scoped>\n",
       "    .dataframe tbody tr th:only-of-type {\n",
       "        vertical-align: middle;\n",
       "    }\n",
       "\n",
       "    .dataframe tbody tr th {\n",
       "        vertical-align: top;\n",
       "    }\n",
       "\n",
       "    .dataframe thead th {\n",
       "        text-align: right;\n",
       "    }\n",
       "</style>\n",
       "<table border=\"1\" class=\"dataframe\">\n",
       "  <thead>\n",
       "    <tr style=\"text-align: right;\">\n",
       "      <th></th>\n",
       "      <th>Country/Region</th>\n",
       "      <th>Cases</th>\n",
       "      <th>Deaths</th>\n",
       "      <th>PCases</th>\n",
       "      <th>PDeaths</th>\n",
       "      <th>Cases (+)</th>\n",
       "      <th>Deaths (+)</th>\n",
       "      <th>Fatality Rate</th>\n",
       "      <th>Continent</th>\n",
       "    </tr>\n",
       "  </thead>\n",
       "  <tbody>\n",
       "    <tr>\n",
       "      <th>0</th>\n",
       "      <td>US</td>\n",
       "      <td>48126574</td>\n",
       "      <td>775797</td>\n",
       "      <td>48092052</td>\n",
       "      <td>775403</td>\n",
       "      <td>34522</td>\n",
       "      <td>394</td>\n",
       "      <td>1.61</td>\n",
       "      <td>North America</td>\n",
       "    </tr>\n",
       "    <tr>\n",
       "      <th>1</th>\n",
       "      <td>India</td>\n",
       "      <td>34555431</td>\n",
       "      <td>467468</td>\n",
       "      <td>34544882</td>\n",
       "      <td>466980</td>\n",
       "      <td>10549</td>\n",
       "      <td>488</td>\n",
       "      <td>1.35</td>\n",
       "      <td>Asia</td>\n",
       "    </tr>\n",
       "    <tr>\n",
       "      <th>2</th>\n",
       "      <td>Brazil</td>\n",
       "      <td>22055238</td>\n",
       "      <td>613642</td>\n",
       "      <td>22043112</td>\n",
       "      <td>613339</td>\n",
       "      <td>12126</td>\n",
       "      <td>303</td>\n",
       "      <td>2.78</td>\n",
       "      <td>South America</td>\n",
       "    </tr>\n",
       "    <tr>\n",
       "      <th>3</th>\n",
       "      <td>United Kingdom</td>\n",
       "      <td>10076116</td>\n",
       "      <td>144876</td>\n",
       "      <td>10028829</td>\n",
       "      <td>144728</td>\n",
       "      <td>47287</td>\n",
       "      <td>148</td>\n",
       "      <td>1.44</td>\n",
       "      <td>Europe</td>\n",
       "    </tr>\n",
       "    <tr>\n",
       "      <th>4</th>\n",
       "      <td>Russia</td>\n",
       "      <td>9303751</td>\n",
       "      <td>263934</td>\n",
       "      <td>9270885</td>\n",
       "      <td>262733</td>\n",
       "      <td>32866</td>\n",
       "      <td>1201</td>\n",
       "      <td>2.84</td>\n",
       "      <td>Europe</td>\n",
       "    </tr>\n",
       "  </tbody>\n",
       "</table>\n",
       "</div>"
      ],
      "text/plain": [
       "   Country/Region     Cases  Deaths    PCases  PDeaths  Cases (+)  Deaths (+)  \\\n",
       "0              US  48126574  775797  48092052   775403      34522         394   \n",
       "1           India  34555431  467468  34544882   466980      10549         488   \n",
       "2          Brazil  22055238  613642  22043112   613339      12126         303   \n",
       "3  United Kingdom  10076116  144876  10028829   144728      47287         148   \n",
       "4          Russia   9303751  263934   9270885   262733      32866        1201   \n",
       "\n",
       "   Fatality Rate      Continent  \n",
       "0           1.61  North America  \n",
       "1           1.35           Asia  \n",
       "2           2.78  South America  \n",
       "3           1.44         Europe  \n",
       "4           2.84         Europe  "
      ]
     },
     "execution_count": 13,
     "metadata": {},
     "output_type": "execute_result"
    }
   ],
   "source": [
    "#hide\n",
    "for c in 'Cases, Deaths'.split(', '):\n",
    "    df_table[f'{c} (+)'] = (df_table[c] - df_table[f'P{c}']).clip(0)\n",
    "    #Clip ça veut dire, les chiffres negatif sont interdit\n",
    "df_table['Fatality Rate'] = (100* df_table['Deaths']/ df_table['Cases']).round(2)\n",
    "df_table['Continent'] = df_table['Country/Region'].map(mapping['map.continent'])\n",
    "df_table.head(5)"
   ]
  },
  {
   "cell_type": "code",
   "execution_count": 14,
   "id": "aboriginal-bulgaria",
   "metadata": {
    "execution": {
     "iopub.execute_input": "2021-11-26T12:12:28.935207Z",
     "iopub.status.busy": "2021-11-26T12:12:28.933964Z",
     "iopub.status.idle": "2021-11-26T12:12:28.935976Z",
     "shell.execute_reply": "2021-11-26T12:12:28.936689Z"
    },
    "papermill": {
     "duration": 0.04896,
     "end_time": "2021-11-26T12:12:28.936823",
     "exception": false,
     "start_time": "2021-11-26T12:12:28.887863",
     "status": "completed"
    },
    "tags": []
   },
   "outputs": [],
   "source": [
    "#hide\n",
    "#delete problematic countries from table\n",
    "df_table = df_table[~df_table['Country/Region'].isin(['Cape Verde', 'Cruise Ship', 'Kosovo'])]"
   ]
  },
  {
   "cell_type": "code",
   "execution_count": 15,
   "id": "fantastic-effect",
   "metadata": {
    "execution": {
     "iopub.execute_input": "2021-11-26T12:12:29.025189Z",
     "iopub.status.busy": "2021-11-26T12:12:29.024515Z",
     "iopub.status.idle": "2021-11-26T12:12:29.048660Z",
     "shell.execute_reply": "2021-11-26T12:12:29.049491Z"
    },
    "papermill": {
     "duration": 0.074509,
     "end_time": "2021-11-26T12:12:29.049639",
     "exception": false,
     "start_time": "2021-11-26T12:12:28.975130",
     "status": "completed"
    },
    "tags": []
   },
   "outputs": [
    {
     "data": {
      "text/html": [
       "<div>\n",
       "<style scoped>\n",
       "    .dataframe tbody tr th:only-of-type {\n",
       "        vertical-align: middle;\n",
       "    }\n",
       "\n",
       "    .dataframe tbody tr th {\n",
       "        vertical-align: top;\n",
       "    }\n",
       "\n",
       "    .dataframe thead th {\n",
       "        text-align: right;\n",
       "    }\n",
       "</style>\n",
       "<table border=\"1\" class=\"dataframe\">\n",
       "  <thead>\n",
       "    <tr style=\"text-align: right;\">\n",
       "      <th></th>\n",
       "      <th>Country/Region</th>\n",
       "      <th>Cases</th>\n",
       "      <th>Deaths</th>\n",
       "      <th>PCases</th>\n",
       "      <th>PDeaths</th>\n",
       "      <th>Cases (+)</th>\n",
       "      <th>Deaths (+)</th>\n",
       "      <th>Fatality Rate</th>\n",
       "      <th>Continent</th>\n",
       "    </tr>\n",
       "  </thead>\n",
       "  <tbody>\n",
       "    <tr>\n",
       "      <th>0</th>\n",
       "      <td>US</td>\n",
       "      <td>48126574</td>\n",
       "      <td>775797</td>\n",
       "      <td>48092052</td>\n",
       "      <td>775403</td>\n",
       "      <td>34522</td>\n",
       "      <td>394</td>\n",
       "      <td>1.6</td>\n",
       "      <td>North America</td>\n",
       "    </tr>\n",
       "    <tr>\n",
       "      <th>1</th>\n",
       "      <td>India</td>\n",
       "      <td>34555431</td>\n",
       "      <td>467468</td>\n",
       "      <td>34544882</td>\n",
       "      <td>466980</td>\n",
       "      <td>10549</td>\n",
       "      <td>488</td>\n",
       "      <td>1.4</td>\n",
       "      <td>Asia</td>\n",
       "    </tr>\n",
       "    <tr>\n",
       "      <th>2</th>\n",
       "      <td>Brazil</td>\n",
       "      <td>22055238</td>\n",
       "      <td>613642</td>\n",
       "      <td>22043112</td>\n",
       "      <td>613339</td>\n",
       "      <td>12126</td>\n",
       "      <td>303</td>\n",
       "      <td>2.8</td>\n",
       "      <td>South America</td>\n",
       "    </tr>\n",
       "    <tr>\n",
       "      <th>3</th>\n",
       "      <td>United Kingdom</td>\n",
       "      <td>10076116</td>\n",
       "      <td>144876</td>\n",
       "      <td>10028829</td>\n",
       "      <td>144728</td>\n",
       "      <td>47287</td>\n",
       "      <td>148</td>\n",
       "      <td>1.4</td>\n",
       "      <td>Europe</td>\n",
       "    </tr>\n",
       "    <tr>\n",
       "      <th>4</th>\n",
       "      <td>Russia</td>\n",
       "      <td>9303751</td>\n",
       "      <td>263934</td>\n",
       "      <td>9270885</td>\n",
       "      <td>262733</td>\n",
       "      <td>32866</td>\n",
       "      <td>1201</td>\n",
       "      <td>2.8</td>\n",
       "      <td>Europe</td>\n",
       "    </tr>\n",
       "  </tbody>\n",
       "</table>\n",
       "</div>"
      ],
      "text/plain": [
       "   Country/Region     Cases  Deaths    PCases  PDeaths  Cases (+)  Deaths (+)  \\\n",
       "0              US  48126574  775797  48092052   775403      34522         394   \n",
       "1           India  34555431  467468  34544882   466980      10549         488   \n",
       "2          Brazil  22055238  613642  22043112   613339      12126         303   \n",
       "3  United Kingdom  10076116  144876  10028829   144728      47287         148   \n",
       "4          Russia   9303751  263934   9270885   262733      32866        1201   \n",
       "\n",
       "   Fatality Rate      Continent  \n",
       "0            1.6  North America  \n",
       "1            1.4           Asia  \n",
       "2            2.8  South America  \n",
       "3            1.4         Europe  \n",
       "4            2.8         Europe  "
      ]
     },
     "execution_count": 15,
     "metadata": {},
     "output_type": "execute_result"
    }
   ],
   "source": [
    "#hide\n",
    "df_table = (pd.DataFrame(dict(Cases=dfc_cases, Deaths=dfc_deaths, PCases=dfp_cases, PDeaths=dfp_deaths))\n",
    "             .sort_values(by=['Cases', 'Deaths'], ascending=[False, False])\n",
    "             .reset_index())\n",
    "df_table.rename(columns={'index': 'Country/Region'}, inplace=True)\n",
    "for c in 'Cases, Deaths'.split(', '):\n",
    "    df_table[f'{c} (+)'] = (df_table[c] - df_table[f'P{c}']).clip(0)  # DATA BUG\n",
    "df_table['Fatality Rate'] = (100 * df_table['Deaths'] / df_table['Cases']).round(1)\n",
    "df_table['Continent'] = df_table['Country/Region'].map(mapping['map.continent'])\n",
    "df_table.head(5)"
   ]
  },
  {
   "cell_type": "code",
   "execution_count": 16,
   "id": "fewer-occasion",
   "metadata": {
    "execution": {
     "iopub.execute_input": "2021-11-26T12:12:29.134741Z",
     "iopub.status.busy": "2021-11-26T12:12:29.134095Z",
     "iopub.status.idle": "2021-11-26T12:12:29.138177Z",
     "shell.execute_reply": "2021-11-26T12:12:29.137622Z"
    },
    "papermill": {
     "duration": 0.049585,
     "end_time": "2021-11-26T12:12:29.138311",
     "exception": false,
     "start_time": "2021-11-26T12:12:29.088726",
     "status": "completed"
    },
    "tags": []
   },
   "outputs": [],
   "source": [
    "#hide\n",
    "#delete problematic countries from table\n",
    "df_table = df_table[~df_table['Country/Region'].isin(['Cape Verde', 'Cruise Ship', 'Kosovo'])]"
   ]
  },
  {
   "cell_type": "code",
   "execution_count": 17,
   "id": "related-center",
   "metadata": {
    "execution": {
     "iopub.execute_input": "2021-11-26T12:12:29.242159Z",
     "iopub.status.busy": "2021-11-26T12:12:29.241354Z",
     "iopub.status.idle": "2021-11-26T12:12:29.243220Z",
     "shell.execute_reply": "2021-11-26T12:12:29.244280Z"
    },
    "papermill": {
     "duration": 0.065351,
     "end_time": "2021-11-26T12:12:29.244437",
     "exception": false,
     "start_time": "2021-11-26T12:12:29.179086",
     "status": "completed"
    },
    "tags": []
   },
   "outputs": [],
   "source": [
    "#hide\n",
    "metrics = [df_table.columns[index] for index in [1,2,5,6]]\n",
    "# s_china = df_table[df_table['Country/Region'].eq('China')][metrics].sum().add_prefix('China ')\n",
    "s_us = df_table[df_table['Country/Region'].eq('US')][metrics].sum().add_prefix('US ')\n",
    "s_eu = df_table[df_table['Continent'].eq('Europe')][metrics].sum().add_prefix('EU ')\n",
    "s_ind = df_table[df_table['Country/Region'].eq('India')][metrics].sum().add_prefix('India ')\n",
    "summary = {'updated': pd.to_datetime(dt_today), 'since': pd.to_datetime(dt_yday)}\n",
    "summary = {'updated': pd.to_datetime(dt_today), 'since': pd.to_datetime(dt_yday)}\n",
    "summary = {**summary, **df_table[metrics].sum(), **s_ind, **s_us, **s_eu}"
   ]
  },
  {
   "cell_type": "code",
   "execution_count": 18,
   "id": "engaging-syndrome",
   "metadata": {
    "execution": {
     "iopub.execute_input": "2021-11-26T12:12:29.335564Z",
     "iopub.status.busy": "2021-11-26T12:12:29.334513Z",
     "iopub.status.idle": "2021-11-26T12:12:29.352195Z",
     "shell.execute_reply": "2021-11-26T12:12:29.351496Z"
    },
    "papermill": {
     "duration": 0.067756,
     "end_time": "2021-11-26T12:12:29.352334",
     "exception": false,
     "start_time": "2021-11-26T12:12:29.284578",
     "status": "completed"
    },
    "tags": []
   },
   "outputs": [],
   "source": [
    "#hide\n",
    "dft_ct_new_cases = dft_cases.groupby(COL_REGION)[dt_cols].sum().diff(axis=1).fillna(0).astype(int)"
   ]
  },
  {
   "cell_type": "code",
   "execution_count": 19,
   "id": "neutral-assignment",
   "metadata": {
    "execution": {
     "iopub.execute_input": "2021-11-26T12:12:29.439532Z",
     "iopub.status.busy": "2021-11-26T12:12:29.438761Z",
     "iopub.status.idle": "2021-11-26T12:12:29.441256Z",
     "shell.execute_reply": "2021-11-26T12:12:29.441764Z"
    },
    "papermill": {
     "duration": 0.050076,
     "end_time": "2021-11-26T12:12:29.441927",
     "exception": false,
     "start_time": "2021-11-26T12:12:29.391851",
     "status": "completed"
    },
    "tags": []
   },
   "outputs": [],
   "source": [
    "#hide\n",
    "everydaycases = dft_ct_new_cases.cumsum(axis=1)"
   ]
  },
  {
   "cell_type": "code",
   "execution_count": 20,
   "id": "parliamentary-calgary",
   "metadata": {
    "execution": {
     "iopub.execute_input": "2021-11-26T12:12:29.526309Z",
     "iopub.status.busy": "2021-11-26T12:12:29.525604Z",
     "iopub.status.idle": "2021-11-26T12:12:30.263562Z",
     "shell.execute_reply": "2021-11-26T12:12:30.262922Z"
    },
    "papermill": {
     "duration": 0.78245,
     "end_time": "2021-11-26T12:12:30.263706",
     "exception": false,
     "start_time": "2021-11-26T12:12:29.481256",
     "status": "completed"
    },
    "tags": []
   },
   "outputs": [],
   "source": [
    "#hide\n",
    "import pandas as pd\n",
    "import matplotlib.pyplot as plt\n",
    "import matplotlib.ticker as ticker\n",
    "import matplotlib.animation as animation\n",
    "from IPython.display import HTML"
   ]
  },
  {
   "cell_type": "code",
   "execution_count": 21,
   "id": "lasting-extraction",
   "metadata": {
    "execution": {
     "iopub.execute_input": "2021-11-26T12:12:30.350550Z",
     "iopub.status.busy": "2021-11-26T12:12:30.349851Z",
     "iopub.status.idle": "2021-11-26T12:12:30.356934Z",
     "shell.execute_reply": "2021-11-26T12:12:30.356308Z"
    },
    "papermill": {
     "duration": 0.053244,
     "end_time": "2021-11-26T12:12:30.357080",
     "exception": false,
     "start_time": "2021-11-26T12:12:30.303836",
     "status": "completed"
    },
    "tags": []
   },
   "outputs": [],
   "source": [
    "#hide\n",
    "t = everydaycases.stack()"
   ]
  },
  {
   "cell_type": "code",
   "execution_count": 22,
   "id": "premier-sleeve",
   "metadata": {
    "execution": {
     "iopub.execute_input": "2021-11-26T12:12:30.438550Z",
     "iopub.status.busy": "2021-11-26T12:12:30.437880Z",
     "iopub.status.idle": "2021-11-26T12:12:30.447810Z",
     "shell.execute_reply": "2021-11-26T12:12:30.448526Z"
    },
    "papermill": {
     "duration": 0.052763,
     "end_time": "2021-11-26T12:12:30.448665",
     "exception": false,
     "start_time": "2021-11-26T12:12:30.395902",
     "status": "completed"
    },
    "tags": []
   },
   "outputs": [],
   "source": [
    "#hide\n",
    "g = t.reset_index(['Country/Region'])"
   ]
  },
  {
   "cell_type": "code",
   "execution_count": 23,
   "id": "distributed-pittsburgh",
   "metadata": {
    "execution": {
     "iopub.execute_input": "2021-11-26T12:12:30.531610Z",
     "iopub.status.busy": "2021-11-26T12:12:30.530863Z",
     "iopub.status.idle": "2021-11-26T12:12:30.536108Z",
     "shell.execute_reply": "2021-11-26T12:12:30.535156Z"
    },
    "papermill": {
     "duration": 0.048007,
     "end_time": "2021-11-26T12:12:30.536283",
     "exception": false,
     "start_time": "2021-11-26T12:12:30.488276",
     "status": "completed"
    },
    "tags": []
   },
   "outputs": [],
   "source": [
    "#hide\n",
    "g.index.name = 'date'"
   ]
  },
  {
   "cell_type": "code",
   "execution_count": 24,
   "id": "naked-donor",
   "metadata": {
    "execution": {
     "iopub.execute_input": "2021-11-26T12:12:30.619566Z",
     "iopub.status.busy": "2021-11-26T12:12:30.618784Z",
     "iopub.status.idle": "2021-11-26T12:12:30.621720Z",
     "shell.execute_reply": "2021-11-26T12:12:30.621160Z"
    },
    "papermill": {
     "duration": 0.045347,
     "end_time": "2021-11-26T12:12:30.621834",
     "exception": false,
     "start_time": "2021-11-26T12:12:30.576487",
     "status": "completed"
    },
    "tags": []
   },
   "outputs": [],
   "source": [
    "# #hide\n",
    "# g = g.reset_index(['date'])"
   ]
  },
  {
   "cell_type": "code",
   "execution_count": 25,
   "id": "incomplete-mustang",
   "metadata": {
    "execution": {
     "iopub.execute_input": "2021-11-26T12:12:30.705592Z",
     "iopub.status.busy": "2021-11-26T12:12:30.704871Z",
     "iopub.status.idle": "2021-11-26T12:12:30.709478Z",
     "shell.execute_reply": "2021-11-26T12:12:30.708903Z"
    },
    "papermill": {
     "duration": 0.047757,
     "end_time": "2021-11-26T12:12:30.709595",
     "exception": false,
     "start_time": "2021-11-26T12:12:30.661838",
     "status": "completed"
    },
    "tags": []
   },
   "outputs": [],
   "source": [
    "#hide\n",
    "# g.head()"
   ]
  },
  {
   "cell_type": "code",
   "execution_count": 26,
   "id": "specific-kruger",
   "metadata": {
    "execution": {
     "iopub.execute_input": "2021-11-26T12:12:30.796373Z",
     "iopub.status.busy": "2021-11-26T12:12:30.795636Z",
     "iopub.status.idle": "2021-11-26T12:12:30.798003Z",
     "shell.execute_reply": "2021-11-26T12:12:30.798701Z"
    },
    "papermill": {
     "duration": 0.048719,
     "end_time": "2021-11-26T12:12:30.798846",
     "exception": false,
     "start_time": "2021-11-26T12:12:30.750127",
     "status": "completed"
    },
    "tags": []
   },
   "outputs": [],
   "source": [
    "#hide\n",
    "# g.columns = ['date','country','cases']"
   ]
  },
  {
   "cell_type": "code",
   "execution_count": 27,
   "id": "tender-conversion",
   "metadata": {
    "execution": {
     "iopub.execute_input": "2021-11-26T12:12:30.885306Z",
     "iopub.status.busy": "2021-11-26T12:12:30.884593Z",
     "iopub.status.idle": "2021-11-26T12:12:30.888845Z",
     "shell.execute_reply": "2021-11-26T12:12:30.889384Z"
    },
    "papermill": {
     "duration": 0.049306,
     "end_time": "2021-11-26T12:12:30.889537",
     "exception": false,
     "start_time": "2021-11-26T12:12:30.840231",
     "status": "completed"
    },
    "tags": []
   },
   "outputs": [],
   "source": [
    "#hide\n",
    "# g['continent'] = g.country"
   ]
  },
  {
   "cell_type": "code",
   "execution_count": 28,
   "id": "substantial-wilderness",
   "metadata": {
    "execution": {
     "iopub.execute_input": "2021-11-26T12:12:30.974203Z",
     "iopub.status.busy": "2021-11-26T12:12:30.973476Z",
     "iopub.status.idle": "2021-11-26T12:12:30.977988Z",
     "shell.execute_reply": "2021-11-26T12:12:30.977357Z"
    },
    "papermill": {
     "duration": 0.047868,
     "end_time": "2021-11-26T12:12:30.978128",
     "exception": false,
     "start_time": "2021-11-26T12:12:30.930260",
     "status": "completed"
    },
    "tags": []
   },
   "outputs": [],
   "source": [
    "#hide\n",
    "# cols = list(g.columns.values)"
   ]
  },
  {
   "cell_type": "code",
   "execution_count": 29,
   "id": "solved-farming",
   "metadata": {
    "execution": {
     "iopub.execute_input": "2021-11-26T12:12:31.062116Z",
     "iopub.status.busy": "2021-11-26T12:12:31.061328Z",
     "iopub.status.idle": "2021-11-26T12:12:31.063957Z",
     "shell.execute_reply": "2021-11-26T12:12:31.063208Z"
    },
    "papermill": {
     "duration": 0.046646,
     "end_time": "2021-11-26T12:12:31.064084",
     "exception": false,
     "start_time": "2021-11-26T12:12:31.017438",
     "status": "completed"
    },
    "tags": []
   },
   "outputs": [],
   "source": [
    "#hide\n",
    "# cols.insert(0, cols.pop())"
   ]
  },
  {
   "cell_type": "code",
   "execution_count": 30,
   "id": "executed-adoption",
   "metadata": {
    "execution": {
     "iopub.execute_input": "2021-11-26T12:12:31.150154Z",
     "iopub.status.busy": "2021-11-26T12:12:31.149330Z",
     "iopub.status.idle": "2021-11-26T12:12:31.151663Z",
     "shell.execute_reply": "2021-11-26T12:12:31.152256Z"
    },
    "papermill": {
     "duration": 0.04836,
     "end_time": "2021-11-26T12:12:31.152398",
     "exception": false,
     "start_time": "2021-11-26T12:12:31.104038",
     "status": "completed"
    },
    "tags": []
   },
   "outputs": [],
   "source": [
    "#hide\n",
    "# g = g[cols]"
   ]
  },
  {
   "cell_type": "code",
   "execution_count": 31,
   "id": "subject-dublin",
   "metadata": {
    "execution": {
     "iopub.execute_input": "2021-11-26T12:12:31.235881Z",
     "iopub.status.busy": "2021-11-26T12:12:31.235160Z",
     "iopub.status.idle": "2021-11-26T12:12:31.237179Z",
     "shell.execute_reply": "2021-11-26T12:12:31.237707Z"
    },
    "papermill": {
     "duration": 0.046273,
     "end_time": "2021-11-26T12:12:31.237902",
     "exception": false,
     "start_time": "2021-11-26T12:12:31.191629",
     "status": "completed"
    },
    "tags": []
   },
   "outputs": [],
   "source": [
    "#hide\n",
    "# g['continent'] = g['continent'].map(mapping['map.continent'])"
   ]
  },
  {
   "cell_type": "code",
   "execution_count": 32,
   "id": "freelance-scout",
   "metadata": {
    "execution": {
     "iopub.execute_input": "2021-11-26T12:12:31.323512Z",
     "iopub.status.busy": "2021-11-26T12:12:31.322805Z",
     "iopub.status.idle": "2021-11-26T12:12:31.325537Z",
     "shell.execute_reply": "2021-11-26T12:12:31.324955Z"
    },
    "papermill": {
     "duration": 0.047053,
     "end_time": "2021-11-26T12:12:31.325665",
     "exception": false,
     "start_time": "2021-11-26T12:12:31.278612",
     "status": "completed"
    },
    "tags": []
   },
   "outputs": [],
   "source": [
    "#hide\n",
    "# g.head()"
   ]
  },
  {
   "cell_type": "code",
   "execution_count": 33,
   "id": "limited-engine",
   "metadata": {
    "execution": {
     "iopub.execute_input": "2021-11-26T12:12:31.411679Z",
     "iopub.status.busy": "2021-11-26T12:12:31.410932Z",
     "iopub.status.idle": "2021-11-26T12:12:31.416254Z",
     "shell.execute_reply": "2021-11-26T12:12:31.415729Z"
    },
    "papermill": {
     "duration": 0.050324,
     "end_time": "2021-11-26T12:12:31.416388",
     "exception": false,
     "start_time": "2021-11-26T12:12:31.366064",
     "status": "completed"
    },
    "tags": []
   },
   "outputs": [],
   "source": [
    "# hide\n",
    "# g['date'] = g['date'].astype('datetime64[ns]')"
   ]
  },
  {
   "cell_type": "code",
   "execution_count": 34,
   "id": "sophisticated-supervisor",
   "metadata": {
    "execution": {
     "iopub.execute_input": "2021-11-26T12:12:31.501877Z",
     "iopub.status.busy": "2021-11-26T12:12:31.501136Z",
     "iopub.status.idle": "2021-11-26T12:12:31.504579Z",
     "shell.execute_reply": "2021-11-26T12:12:31.503957Z"
    },
    "papermill": {
     "duration": 0.048111,
     "end_time": "2021-11-26T12:12:31.504750",
     "exception": false,
     "start_time": "2021-11-26T12:12:31.456639",
     "status": "completed"
    },
    "tags": []
   },
   "outputs": [],
   "source": [
    "#hide\n",
    "# g['date'] = g.date.dt.dayofyear"
   ]
  },
  {
   "cell_type": "code",
   "execution_count": 35,
   "id": "inside-dubai",
   "metadata": {
    "execution": {
     "iopub.execute_input": "2021-11-26T12:12:31.590076Z",
     "iopub.status.busy": "2021-11-26T12:12:31.589432Z",
     "iopub.status.idle": "2021-11-26T12:12:31.591595Z",
     "shell.execute_reply": "2021-11-26T12:12:31.592068Z"
    },
    "papermill": {
     "duration": 0.046756,
     "end_time": "2021-11-26T12:12:31.592202",
     "exception": false,
     "start_time": "2021-11-26T12:12:31.545446",
     "status": "completed"
    },
    "tags": []
   },
   "outputs": [],
   "source": [
    "#hide\n",
    "# g = g.rename(columns= {'continent':'group','country':'name','cases':'value'})"
   ]
  },
  {
   "cell_type": "code",
   "execution_count": 36,
   "id": "fleet-motorcycle",
   "metadata": {
    "execution": {
     "iopub.execute_input": "2021-11-26T12:12:31.674107Z",
     "iopub.status.busy": "2021-11-26T12:12:31.673407Z",
     "iopub.status.idle": "2021-11-26T12:12:31.678198Z",
     "shell.execute_reply": "2021-11-26T12:12:31.677542Z"
    },
    "papermill": {
     "duration": 0.047998,
     "end_time": "2021-11-26T12:12:31.678322",
     "exception": false,
     "start_time": "2021-11-26T12:12:31.630324",
     "status": "completed"
    },
    "tags": []
   },
   "outputs": [],
   "source": [
    "#hide\n",
    "# cols = ['name','group','day','value']"
   ]
  },
  {
   "cell_type": "code",
   "execution_count": 37,
   "id": "continued-sleeping",
   "metadata": {
    "execution": {
     "iopub.execute_input": "2021-11-26T12:12:31.768584Z",
     "iopub.status.busy": "2021-11-26T12:12:31.767950Z",
     "iopub.status.idle": "2021-11-26T12:12:31.769929Z",
     "shell.execute_reply": "2021-11-26T12:12:31.770386Z"
    },
    "papermill": {
     "duration": 0.04807,
     "end_time": "2021-11-26T12:12:31.770522",
     "exception": false,
     "start_time": "2021-11-26T12:12:31.722452",
     "status": "completed"
    },
    "tags": []
   },
   "outputs": [],
   "source": [
    "#hide\n",
    "# g.rename(columns= {'date':'day'},inplace = True)"
   ]
  },
  {
   "cell_type": "code",
   "execution_count": 38,
   "id": "major-fight",
   "metadata": {
    "execution": {
     "iopub.execute_input": "2021-11-26T12:12:31.853652Z",
     "iopub.status.busy": "2021-11-26T12:12:31.852738Z",
     "iopub.status.idle": "2021-11-26T12:12:31.857641Z",
     "shell.execute_reply": "2021-11-26T12:12:31.857112Z"
    },
    "papermill": {
     "duration": 0.048283,
     "end_time": "2021-11-26T12:12:31.857775",
     "exception": false,
     "start_time": "2021-11-26T12:12:31.809492",
     "status": "completed"
    },
    "tags": []
   },
   "outputs": [],
   "source": [
    "#hide\n",
    "# g = g[cols]"
   ]
  },
  {
   "cell_type": "code",
   "execution_count": 39,
   "id": "structured-mobile",
   "metadata": {
    "execution": {
     "iopub.execute_input": "2021-11-26T12:12:31.943046Z",
     "iopub.status.busy": "2021-11-26T12:12:31.942384Z",
     "iopub.status.idle": "2021-11-26T12:12:31.944544Z",
     "shell.execute_reply": "2021-11-26T12:12:31.943843Z"
    },
    "papermill": {
     "duration": 0.045598,
     "end_time": "2021-11-26T12:12:31.944665",
     "exception": false,
     "start_time": "2021-11-26T12:12:31.899067",
     "status": "completed"
    },
    "tags": []
   },
   "outputs": [],
   "source": [
    "# #hide\n",
    "# g = g[g.group.notna()]"
   ]
  },
  {
   "cell_type": "code",
   "execution_count": 40,
   "id": "determined-closing",
   "metadata": {
    "execution": {
     "iopub.execute_input": "2021-11-26T12:12:32.028013Z",
     "iopub.status.busy": "2021-11-26T12:12:32.027274Z",
     "iopub.status.idle": "2021-11-26T12:12:32.030034Z",
     "shell.execute_reply": "2021-11-26T12:12:32.029464Z"
    },
    "papermill": {
     "duration": 0.044856,
     "end_time": "2021-11-26T12:12:32.030156",
     "exception": false,
     "start_time": "2021-11-26T12:12:31.985300",
     "status": "completed"
    },
    "tags": []
   },
   "outputs": [],
   "source": [
    "# #hide\n",
    "# colors = dict(zip(\n",
    "#     [\"Oceania\", \"Europe\", \"Asia\", \"South America\", \"Middle East\", \"North America\", \"Africa\"],\n",
    "#     [\"#adb0ff\", \"#ffb3ff\", \"#90d595\", \"#e48381\", \"#aafbff\", \"#f7bb5f\", \"#eafb50\"]\n",
    "# ))\n",
    "# group_lk = g.set_index('name')['group'].to_dict()"
   ]
  },
  {
   "cell_type": "code",
   "execution_count": null,
   "id": "gross-drinking",
   "metadata": {
    "papermill": {
     "duration": 0.039878,
     "end_time": "2021-11-26T12:12:32.108526",
     "exception": false,
     "start_time": "2021-11-26T12:12:32.068648",
     "status": "completed"
    },
    "tags": []
   },
   "outputs": [],
   "source": []
  },
  {
   "cell_type": "code",
   "execution_count": 41,
   "id": "subject-macintosh",
   "metadata": {
    "execution": {
     "iopub.execute_input": "2021-11-26T12:12:32.199497Z",
     "iopub.status.busy": "2021-11-26T12:12:32.198768Z",
     "iopub.status.idle": "2021-11-26T12:12:32.204226Z",
     "shell.execute_reply": "2021-11-26T12:12:32.203513Z"
    },
    "papermill": {
     "duration": 0.055343,
     "end_time": "2021-11-26T12:12:32.204344",
     "exception": false,
     "start_time": "2021-11-26T12:12:32.149001",
     "status": "completed"
    },
    "tags": []
   },
   "outputs": [],
   "source": [
    "# #hide\n",
    "# fig, ax = plt.subplots(figsize=(15, 8))\n",
    "\n",
    "# def draw_barchart(current_day):\n",
    "#     dff = g[g['day'].eq(current_day)].sort_values(by='value', ascending=True).tail(10)\n",
    "#     ax.clear()\n",
    "#     ax.barh(dff['name'], dff['value'], color=[colors[group_lk[x]] for x in dff['name']])\n",
    "#     dx = dff['value'].max() / 200\n",
    "    \n",
    "#     for i, (value, name) in enumerate(zip(dff['value'], dff['name'])):\n",
    "#         ax.text(value-dx, i,     name,           size=14, weight=600, ha='right', va='bottom')\n",
    "#         ax.text(value-dx, i-.25, group_lk[name], size=10, color='#444444', ha='right', va='baseline')\n",
    "#         ax.text(value+dx, i,     f'{value:,.0f}',  size=14, ha='left',  va='center')\n",
    "#     ax.text(1, 0.4, current_day, transform=ax.transAxes, color='#777777', size=46, ha='right', weight=800)\n",
    "#     ax.text(0, 1.06, 'Population (thousands)', transform=ax.transAxes, size=12, color='#777777')\n",
    "#     ax.xaxis.set_major_formatter(ticker.StrMethodFormatter('{x:,.0f}'))\n",
    "#     ax.xaxis.set_ticks_position('top')\n",
    "#     ax.tick_params(axis='x', colors='#777777', labelsize=12)\n",
    "#     ax.set_yticks([])\n",
    "#     ax.margins(0, 0.01)\n",
    "#     ax.grid(which='major', axis='x', linestyle='-')\n",
    "#     ax.set_axisbelow(True)\n",
    "    \n",
    "#     ax.text(0, 1.15, 'Coronavirus',\n",
    "#             transform=ax.transAxes, size=24, weight=600, ha='left', va='top')\n",
    "# #     ax.text(1, 0, 'by @pratapvardhan; credit @jburnmurdoch', transform=ax.transAxes, color='#777777', ha='right',\n",
    "# #             bbox=dict(facecolor='white', alpha=0.8, edgecolor='white'))\n",
    "#     plt.box(False)"
   ]
  },
  {
   "cell_type": "code",
   "execution_count": 42,
   "id": "sexual-wages",
   "metadata": {
    "execution": {
     "iopub.execute_input": "2021-11-26T12:12:32.290617Z",
     "iopub.status.busy": "2021-11-26T12:12:32.289972Z",
     "iopub.status.idle": "2021-11-26T12:12:32.293836Z",
     "shell.execute_reply": "2021-11-26T12:12:32.294455Z"
    },
    "papermill": {
     "duration": 0.05031,
     "end_time": "2021-11-26T12:12:32.294675",
     "exception": false,
     "start_time": "2021-11-26T12:12:32.244365",
     "status": "completed"
    },
    "tags": []
   },
   "outputs": [],
   "source": [
    "# #hide_input\n",
    "# fig, ax = plt.subplots(figsize=(15, 8))\n",
    "# animator = animation.FuncAnimation(fig, draw_barchart, frames=range(g.day.values.min(), g.day.values.max()))\n",
    "# HTML(animator.to_jshtml())\n",
    "# # or use animator.to_html5_video() or animator.save() "
   ]
  },
  {
   "cell_type": "code",
   "execution_count": null,
   "id": "australian-container",
   "metadata": {
    "papermill": {
     "duration": 0.041454,
     "end_time": "2021-11-26T12:12:32.375866",
     "exception": false,
     "start_time": "2021-11-26T12:12:32.334412",
     "status": "completed"
    },
    "tags": []
   },
   "outputs": [],
   "source": []
  },
  {
   "cell_type": "code",
   "execution_count": null,
   "id": "mediterranean-pontiac",
   "metadata": {
    "papermill": {
     "duration": 0.038524,
     "end_time": "2021-11-26T12:12:32.453777",
     "exception": false,
     "start_time": "2021-11-26T12:12:32.415253",
     "status": "completed"
    },
    "tags": []
   },
   "outputs": [],
   "source": []
  },
  {
   "cell_type": "code",
   "execution_count": null,
   "id": "aging-legislature",
   "metadata": {
    "papermill": {
     "duration": 0.039211,
     "end_time": "2021-11-26T12:12:32.534467",
     "exception": false,
     "start_time": "2021-11-26T12:12:32.495256",
     "status": "completed"
    },
    "tags": []
   },
   "outputs": [],
   "source": []
  }
 ],
 "metadata": {
  "kernelspec": {
   "display_name": "Python 3",
   "language": "python",
   "name": "python3"
  },
  "language_info": {
   "codemirror_mode": {
    "name": "ipython",
    "version": 3
   },
   "file_extension": ".py",
   "mimetype": "text/x-python",
   "name": "python",
   "nbconvert_exporter": "python",
   "pygments_lexer": "ipython3",
   "version": "3.6.15"
  },
  "papermill": {
   "duration": 7.503239,
   "end_time": "2021-11-26T12:12:32.884660",
   "environment_variables": {},
   "exception": null,
   "input_path": "2020-03-21-covid19exp.ipynb",
   "output_path": "2020-03-21-covid19exp.ipynb",
   "parameters": {},
   "start_time": "2021-11-26T12:12:25.381421",
   "version": "2.0.0"
  }
 },
 "nbformat": 4,
 "nbformat_minor": 5
}