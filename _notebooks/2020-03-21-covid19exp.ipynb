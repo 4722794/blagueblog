{
 "cells": [
  {
   "cell_type": "markdown",
   "id": "muslim-click",
   "metadata": {
    "papermill": {
     "duration": 0.024631,
     "end_time": "2022-05-23T12:16:49.240926",
     "exception": false,
     "start_time": "2022-05-23T12:16:49.216295",
     "status": "completed"
    },
    "tags": []
   },
   "source": [
    "# COVID-19 Case Race\n",
    "> A race chart to see rising cases around the world\n",
    "\n",
    "- author: Hargun Oberoi\n",
    "- image: images/covid-overview.png\n",
    "- hide: false\n",
    "- badges: false"
   ]
  },
  {
   "cell_type": "code",
   "execution_count": 1,
   "id": "proof-material",
   "metadata": {
    "execution": {
     "iopub.execute_input": "2022-05-23T12:16:49.294837Z",
     "iopub.status.busy": "2022-05-23T12:16:49.294008Z",
     "iopub.status.idle": "2022-05-23T12:16:49.565672Z",
     "shell.execute_reply": "2022-05-23T12:16:49.565060Z"
    },
    "papermill": {
     "duration": 0.301292,
     "end_time": "2022-05-23T12:16:49.565775",
     "exception": false,
     "start_time": "2022-05-23T12:16:49.264483",
     "status": "completed"
    },
    "tags": []
   },
   "outputs": [],
   "source": [
    "#hide\n",
    "import numpy as np\n",
    "import pandas as pd\n",
    "from jinja2 import Template\n",
    "from IPython.display import HTML"
   ]
  },
  {
   "cell_type": "code",
   "execution_count": 2,
   "id": "developed-terminology",
   "metadata": {
    "execution": {
     "iopub.execute_input": "2022-05-23T12:16:49.614744Z",
     "iopub.status.busy": "2022-05-23T12:16:49.614056Z",
     "iopub.status.idle": "2022-05-23T12:16:49.616434Z",
     "shell.execute_reply": "2022-05-23T12:16:49.616081Z"
    },
    "papermill": {
     "duration": 0.028392,
     "end_time": "2022-05-23T12:16:49.616519",
     "exception": false,
     "start_time": "2022-05-23T12:16:49.588127",
     "status": "completed"
    },
    "tags": []
   },
   "outputs": [],
   "source": [
    "#hide\n",
    "\n",
    "# FETCH\n",
    "base_url = 'https://raw.githubusercontent.com/pratapvardhan/notebooks/master/covid19/'\n",
    "paths = {\n",
    "    'mapping': base_url + 'mapping_countries.csv',\n",
    "    'overview': base_url + 'overview.tpl'\n",
    "}"
   ]
  },
  {
   "cell_type": "code",
   "execution_count": 3,
   "id": "dynamic-saver",
   "metadata": {
    "execution": {
     "iopub.execute_input": "2022-05-23T12:16:49.669132Z",
     "iopub.status.busy": "2022-05-23T12:16:49.668486Z",
     "iopub.status.idle": "2022-05-23T12:16:49.671541Z",
     "shell.execute_reply": "2022-05-23T12:16:49.671173Z"
    },
    "papermill": {
     "duration": 0.032896,
     "end_time": "2022-05-23T12:16:49.671623",
     "exception": false,
     "start_time": "2022-05-23T12:16:49.638727",
     "status": "completed"
    },
    "tags": []
   },
   "outputs": [
    {
     "data": {
      "text/plain": [
       "'https://raw.githubusercontent.com/pratapvardhan/notebooks/master/covid19/mapping_countries.csv'"
      ]
     },
     "execution_count": 3,
     "metadata": {},
     "output_type": "execute_result"
    }
   ],
   "source": [
    "#hide\n",
    "paths['mapping']"
   ]
  },
  {
   "cell_type": "code",
   "execution_count": 4,
   "id": "urban-software",
   "metadata": {
    "execution": {
     "iopub.execute_input": "2022-05-23T12:16:49.721278Z",
     "iopub.status.busy": "2022-05-23T12:16:49.720688Z",
     "iopub.status.idle": "2022-05-23T12:16:49.722735Z",
     "shell.execute_reply": "2022-05-23T12:16:49.723077Z"
    },
    "papermill": {
     "duration": 0.029042,
     "end_time": "2022-05-23T12:16:49.723175",
     "exception": false,
     "start_time": "2022-05-23T12:16:49.694133",
     "status": "completed"
    },
    "tags": []
   },
   "outputs": [],
   "source": [
    "#hide\n",
    "def get_mappings(url):\n",
    "    df = pd.read_csv(url)\n",
    "    return {\n",
    "        'df': df,\n",
    "        'replace.country': dict(df.dropna(subset=['Name']).set_index('Country')['Name']),\n",
    "        'map.continent': dict(df.set_index('Name')['Continent'])\n",
    "    }"
   ]
  },
  {
   "cell_type": "code",
   "execution_count": 5,
   "id": "intimate-machinery",
   "metadata": {
    "execution": {
     "iopub.execute_input": "2022-05-23T12:16:49.772261Z",
     "iopub.status.busy": "2022-05-23T12:16:49.771513Z",
     "iopub.status.idle": "2022-05-23T12:16:49.829682Z",
     "shell.execute_reply": "2022-05-23T12:16:49.829318Z"
    },
    "papermill": {
     "duration": 0.084444,
     "end_time": "2022-05-23T12:16:49.829772",
     "exception": false,
     "start_time": "2022-05-23T12:16:49.745328",
     "status": "completed"
    },
    "tags": []
   },
   "outputs": [],
   "source": [
    "#hide\n",
    "mapping = get_mappings(paths['mapping'])"
   ]
  },
  {
   "cell_type": "code",
   "execution_count": 6,
   "id": "certified-tactics",
   "metadata": {
    "execution": {
     "iopub.execute_input": "2022-05-23T12:16:49.878992Z",
     "iopub.status.busy": "2022-05-23T12:16:49.878401Z",
     "iopub.status.idle": "2022-05-23T12:16:49.880810Z",
     "shell.execute_reply": "2022-05-23T12:16:49.880461Z"
    },
    "papermill": {
     "duration": 0.028713,
     "end_time": "2022-05-23T12:16:49.880889",
     "exception": false,
     "start_time": "2022-05-23T12:16:49.852176",
     "status": "completed"
    },
    "tags": []
   },
   "outputs": [],
   "source": [
    "#hide\n",
    "def get_template(path):\n",
    "    from urllib.parse import urlparse\n",
    "    if bool(urlparse(path).netloc):\n",
    "        from urllib.request import urlopen\n",
    "        return urlopen(path).read().decode('utf8')\n",
    "    return open(path).read()"
   ]
  },
  {
   "cell_type": "code",
   "execution_count": 7,
   "id": "realistic-blast",
   "metadata": {
    "execution": {
     "iopub.execute_input": "2022-05-23T12:16:49.929423Z",
     "iopub.status.busy": "2022-05-23T12:16:49.928798Z",
     "iopub.status.idle": "2022-05-23T12:16:49.931112Z",
     "shell.execute_reply": "2022-05-23T12:16:49.930598Z"
    },
    "papermill": {
     "duration": 0.028278,
     "end_time": "2022-05-23T12:16:49.931201",
     "exception": false,
     "start_time": "2022-05-23T12:16:49.902923",
     "status": "completed"
    },
    "tags": []
   },
   "outputs": [],
   "source": [
    "#hide\n",
    "def get_frame(name):\n",
    "    url = (\n",
    "        'https://raw.githubusercontent.com/CSSEGISandData/COVID-19/master/csse_covid_19_data/'\n",
    "        f'csse_covid_19_time_series/time_series_covid19_{name}_global.csv')\n",
    "    df = pd.read_csv(url)\n",
    "    # rename countries\n",
    "    df['Country/Region'] = df['Country/Region'].replace(mapping['replace.country'])\n",
    "    return df"
   ]
  },
  {
   "cell_type": "code",
   "execution_count": 8,
   "id": "affiliated-characterization",
   "metadata": {
    "execution": {
     "iopub.execute_input": "2022-05-23T12:16:49.980459Z",
     "iopub.status.busy": "2022-05-23T12:16:49.979869Z",
     "iopub.status.idle": "2022-05-23T12:16:49.982240Z",
     "shell.execute_reply": "2022-05-23T12:16:49.981814Z"
    },
    "papermill": {
     "duration": 0.02892,
     "end_time": "2022-05-23T12:16:49.982324",
     "exception": false,
     "start_time": "2022-05-23T12:16:49.953404",
     "status": "completed"
    },
    "tags": []
   },
   "outputs": [],
   "source": [
    "#hide\n",
    "def get_dates(df):\n",
    "    dt_cols = df.columns[~df.columns.isin(['Province/State', 'Country/Region', 'Lat', 'Long'])]\n",
    "    LAST_DATE_I = -1\n",
    "    # sometimes last column may be empty, then go backwards\n",
    "    for i in range(-1, -len(dt_cols), -1):\n",
    "        if not df[dt_cols[i]].fillna(0).eq(0).all():\n",
    "            LAST_DATE_I = i\n",
    "            break\n",
    "    return LAST_DATE_I, dt_cols"
   ]
  },
  {
   "cell_type": "code",
   "execution_count": 9,
   "id": "recent-optimization",
   "metadata": {
    "execution": {
     "iopub.execute_input": "2022-05-23T12:16:50.031017Z",
     "iopub.status.busy": "2022-05-23T12:16:50.030407Z",
     "iopub.status.idle": "2022-05-23T12:16:50.711585Z",
     "shell.execute_reply": "2022-05-23T12:16:50.711181Z"
    },
    "papermill": {
     "duration": 0.707119,
     "end_time": "2022-05-23T12:16:50.711673",
     "exception": false,
     "start_time": "2022-05-23T12:16:50.004554",
     "status": "completed"
    },
    "tags": []
   },
   "outputs": [],
   "source": [
    "#hide\n",
    "COL_REGION = 'Country/Region'\n",
    "# Confirmed, Recovered, Deaths\n",
    "df = get_frame('confirmed')\n",
    "# dft_: timeseries, dfc_: today country agg\n",
    "dft_cases = df\n",
    "dft_deaths = get_frame('deaths')\n",
    "dft_recovered = get_frame('recovered')\n",
    "LAST_DATE_I, dt_cols = get_dates(df)"
   ]
  },
  {
   "cell_type": "code",
   "execution_count": 10,
   "id": "absolute-copper",
   "metadata": {
    "execution": {
     "iopub.execute_input": "2022-05-23T12:16:50.761469Z",
     "iopub.status.busy": "2022-05-23T12:16:50.760839Z",
     "iopub.status.idle": "2022-05-23T12:16:50.763178Z",
     "shell.execute_reply": "2022-05-23T12:16:50.762796Z"
    },
    "papermill": {
     "duration": 0.028944,
     "end_time": "2022-05-23T12:16:50.763263",
     "exception": false,
     "start_time": "2022-05-23T12:16:50.734319",
     "status": "completed"
    },
    "tags": []
   },
   "outputs": [],
   "source": [
    "#hide\n",
    "LAST_DATE_I, dt_cols = get_dates(df)\n",
    "dt_today =dt_cols[LAST_DATE_I]\n",
    "# dt_5day = dt_cols[LAST_DATE_I - 5]\n",
    "dt_yday = dt_cols[LAST_DATE_I - 1]"
   ]
  },
  {
   "cell_type": "code",
   "execution_count": 11,
   "id": "restricted-sheriff",
   "metadata": {
    "execution": {
     "iopub.execute_input": "2022-05-23T12:16:50.813173Z",
     "iopub.status.busy": "2022-05-23T12:16:50.812359Z",
     "iopub.status.idle": "2022-05-23T12:16:50.819461Z",
     "shell.execute_reply": "2022-05-23T12:16:50.819082Z"
    },
    "papermill": {
     "duration": 0.034089,
     "end_time": "2022-05-23T12:16:50.819550",
     "exception": false,
     "start_time": "2022-05-23T12:16:50.785461",
     "status": "completed"
    },
    "tags": []
   },
   "outputs": [],
   "source": [
    "#hide\n",
    "dfc_cases = dft_cases.groupby(COL_REGION)[dt_today].sum()\n",
    "dfc_deaths = dft_deaths.groupby(COL_REGION)[dt_today].sum()\n",
    "# dfp_cases = dft_cases.groupby(COL_REGION)[dt_5day].sum()\n",
    "# dfp_deaths = dft_deaths.groupby(COL_REGION)[dt_5day].sum()\n",
    "dfp_cases = dft_cases.groupby(COL_REGION)[dt_yday].sum()\n",
    "dfp_deaths = dft_deaths.groupby(COL_REGION)[dt_yday].sum()"
   ]
  },
  {
   "cell_type": "code",
   "execution_count": 12,
   "id": "deluxe-hepatitis",
   "metadata": {
    "execution": {
     "iopub.execute_input": "2022-05-23T12:16:50.869790Z",
     "iopub.status.busy": "2022-05-23T12:16:50.869027Z",
     "iopub.status.idle": "2022-05-23T12:16:50.873416Z",
     "shell.execute_reply": "2022-05-23T12:16:50.873064Z"
    },
    "papermill": {
     "duration": 0.03164,
     "end_time": "2022-05-23T12:16:50.873500",
     "exception": false,
     "start_time": "2022-05-23T12:16:50.841860",
     "status": "completed"
    },
    "tags": []
   },
   "outputs": [],
   "source": [
    "#hide\n",
    "df_table = (pd.DataFrame(dict(Cases = dfc_cases, Deaths = dfc_deaths, PCases = dfp_cases, PDeaths = dfp_deaths))\n",
    "            .sort_values(by = ['Cases','Deaths'], ascending = [False, False])\n",
    "            .reset_index())"
   ]
  },
  {
   "cell_type": "code",
   "execution_count": 13,
   "id": "educational-chancellor",
   "metadata": {
    "execution": {
     "iopub.execute_input": "2022-05-23T12:16:50.924831Z",
     "iopub.status.busy": "2022-05-23T12:16:50.924076Z",
     "iopub.status.idle": "2022-05-23T12:16:50.938941Z",
     "shell.execute_reply": "2022-05-23T12:16:50.938569Z"
    },
    "papermill": {
     "duration": 0.043387,
     "end_time": "2022-05-23T12:16:50.939028",
     "exception": false,
     "start_time": "2022-05-23T12:16:50.895641",
     "status": "completed"
    },
    "tags": []
   },
   "outputs": [
    {
     "data": {
      "text/html": [
       "<div>\n",
       "<style scoped>\n",
       "    .dataframe tbody tr th:only-of-type {\n",
       "        vertical-align: middle;\n",
       "    }\n",
       "\n",
       "    .dataframe tbody tr th {\n",
       "        vertical-align: top;\n",
       "    }\n",
       "\n",
       "    .dataframe thead th {\n",
       "        text-align: right;\n",
       "    }\n",
       "</style>\n",
       "<table border=\"1\" class=\"dataframe\">\n",
       "  <thead>\n",
       "    <tr style=\"text-align: right;\">\n",
       "      <th></th>\n",
       "      <th>Country/Region</th>\n",
       "      <th>Cases</th>\n",
       "      <th>Deaths</th>\n",
       "      <th>PCases</th>\n",
       "      <th>PDeaths</th>\n",
       "      <th>Cases (+)</th>\n",
       "      <th>Deaths (+)</th>\n",
       "      <th>Fatality Rate</th>\n",
       "      <th>Continent</th>\n",
       "    </tr>\n",
       "  </thead>\n",
       "  <tbody>\n",
       "    <tr>\n",
       "      <th>0</th>\n",
       "      <td>US</td>\n",
       "      <td>83281329</td>\n",
       "      <td>1002173</td>\n",
       "      <td>83263020</td>\n",
       "      <td>1002146</td>\n",
       "      <td>18309</td>\n",
       "      <td>27</td>\n",
       "      <td>1.20</td>\n",
       "      <td>North America</td>\n",
       "    </tr>\n",
       "    <tr>\n",
       "      <th>1</th>\n",
       "      <td>India</td>\n",
       "      <td>43138393</td>\n",
       "      <td>524459</td>\n",
       "      <td>43136371</td>\n",
       "      <td>524413</td>\n",
       "      <td>2022</td>\n",
       "      <td>46</td>\n",
       "      <td>1.22</td>\n",
       "      <td>Asia</td>\n",
       "    </tr>\n",
       "    <tr>\n",
       "      <th>2</th>\n",
       "      <td>Brazil</td>\n",
       "      <td>30791220</td>\n",
       "      <td>665854</td>\n",
       "      <td>30762413</td>\n",
       "      <td>665720</td>\n",
       "      <td>28807</td>\n",
       "      <td>134</td>\n",
       "      <td>2.16</td>\n",
       "      <td>South America</td>\n",
       "    </tr>\n",
       "    <tr>\n",
       "      <th>3</th>\n",
       "      <td>France</td>\n",
       "      <td>29580970</td>\n",
       "      <td>148823</td>\n",
       "      <td>29564005</td>\n",
       "      <td>148820</td>\n",
       "      <td>16965</td>\n",
       "      <td>3</td>\n",
       "      <td>0.50</td>\n",
       "      <td>Europe</td>\n",
       "    </tr>\n",
       "    <tr>\n",
       "      <th>4</th>\n",
       "      <td>Germany</td>\n",
       "      <td>26045528</td>\n",
       "      <td>138326</td>\n",
       "      <td>26044283</td>\n",
       "      <td>138325</td>\n",
       "      <td>1245</td>\n",
       "      <td>1</td>\n",
       "      <td>0.53</td>\n",
       "      <td>Europe</td>\n",
       "    </tr>\n",
       "  </tbody>\n",
       "</table>\n",
       "</div>"
      ],
      "text/plain": [
       "  Country/Region     Cases   Deaths    PCases  PDeaths  Cases (+)  Deaths (+)  \\\n",
       "0             US  83281329  1002173  83263020  1002146      18309          27   \n",
       "1          India  43138393   524459  43136371   524413       2022          46   \n",
       "2         Brazil  30791220   665854  30762413   665720      28807         134   \n",
       "3         France  29580970   148823  29564005   148820      16965           3   \n",
       "4        Germany  26045528   138326  26044283   138325       1245           1   \n",
       "\n",
       "   Fatality Rate      Continent  \n",
       "0           1.20  North America  \n",
       "1           1.22           Asia  \n",
       "2           2.16  South America  \n",
       "3           0.50         Europe  \n",
       "4           0.53         Europe  "
      ]
     },
     "execution_count": 13,
     "metadata": {},
     "output_type": "execute_result"
    }
   ],
   "source": [
    "#hide\n",
    "for c in 'Cases, Deaths'.split(', '):\n",
    "    df_table[f'{c} (+)'] = (df_table[c] - df_table[f'P{c}']).clip(0)\n",
    "    #Clip ça veut dire, les chiffres negatif sont interdit\n",
    "df_table['Fatality Rate'] = (100* df_table['Deaths']/ df_table['Cases']).round(2)\n",
    "df_table['Continent'] = df_table['Country/Region'].map(mapping['map.continent'])\n",
    "df_table.head(5)"
   ]
  },
  {
   "cell_type": "code",
   "execution_count": 14,
   "id": "aboriginal-bulgaria",
   "metadata": {
    "execution": {
     "iopub.execute_input": "2022-05-23T12:16:50.989413Z",
     "iopub.status.busy": "2022-05-23T12:16:50.988709Z",
     "iopub.status.idle": "2022-05-23T12:16:50.990593Z",
     "shell.execute_reply": "2022-05-23T12:16:50.990947Z"
    },
    "papermill": {
     "duration": 0.029441,
     "end_time": "2022-05-23T12:16:50.991043",
     "exception": false,
     "start_time": "2022-05-23T12:16:50.961602",
     "status": "completed"
    },
    "tags": []
   },
   "outputs": [],
   "source": [
    "#hide\n",
    "#delete problematic countries from table\n",
    "df_table = df_table[~df_table['Country/Region'].isin(['Cape Verde', 'Cruise Ship', 'Kosovo'])]"
   ]
  },
  {
   "cell_type": "code",
   "execution_count": 15,
   "id": "fantastic-effect",
   "metadata": {
    "execution": {
     "iopub.execute_input": "2022-05-23T12:16:51.042526Z",
     "iopub.status.busy": "2022-05-23T12:16:51.041771Z",
     "iopub.status.idle": "2022-05-23T12:16:51.055819Z",
     "shell.execute_reply": "2022-05-23T12:16:51.055465Z"
    },
    "papermill": {
     "duration": 0.042506,
     "end_time": "2022-05-23T12:16:51.055903",
     "exception": false,
     "start_time": "2022-05-23T12:16:51.013397",
     "status": "completed"
    },
    "tags": []
   },
   "outputs": [
    {
     "data": {
      "text/html": [
       "<div>\n",
       "<style scoped>\n",
       "    .dataframe tbody tr th:only-of-type {\n",
       "        vertical-align: middle;\n",
       "    }\n",
       "\n",
       "    .dataframe tbody tr th {\n",
       "        vertical-align: top;\n",
       "    }\n",
       "\n",
       "    .dataframe thead th {\n",
       "        text-align: right;\n",
       "    }\n",
       "</style>\n",
       "<table border=\"1\" class=\"dataframe\">\n",
       "  <thead>\n",
       "    <tr style=\"text-align: right;\">\n",
       "      <th></th>\n",
       "      <th>Country/Region</th>\n",
       "      <th>Cases</th>\n",
       "      <th>Deaths</th>\n",
       "      <th>PCases</th>\n",
       "      <th>PDeaths</th>\n",
       "      <th>Cases (+)</th>\n",
       "      <th>Deaths (+)</th>\n",
       "      <th>Fatality Rate</th>\n",
       "      <th>Continent</th>\n",
       "    </tr>\n",
       "  </thead>\n",
       "  <tbody>\n",
       "    <tr>\n",
       "      <th>0</th>\n",
       "      <td>US</td>\n",
       "      <td>83281329</td>\n",
       "      <td>1002173</td>\n",
       "      <td>83263020</td>\n",
       "      <td>1002146</td>\n",
       "      <td>18309</td>\n",
       "      <td>27</td>\n",
       "      <td>1.2</td>\n",
       "      <td>North America</td>\n",
       "    </tr>\n",
       "    <tr>\n",
       "      <th>1</th>\n",
       "      <td>India</td>\n",
       "      <td>43138393</td>\n",
       "      <td>524459</td>\n",
       "      <td>43136371</td>\n",
       "      <td>524413</td>\n",
       "      <td>2022</td>\n",
       "      <td>46</td>\n",
       "      <td>1.2</td>\n",
       "      <td>Asia</td>\n",
       "    </tr>\n",
       "    <tr>\n",
       "      <th>2</th>\n",
       "      <td>Brazil</td>\n",
       "      <td>30791220</td>\n",
       "      <td>665854</td>\n",
       "      <td>30762413</td>\n",
       "      <td>665720</td>\n",
       "      <td>28807</td>\n",
       "      <td>134</td>\n",
       "      <td>2.2</td>\n",
       "      <td>South America</td>\n",
       "    </tr>\n",
       "    <tr>\n",
       "      <th>3</th>\n",
       "      <td>France</td>\n",
       "      <td>29580970</td>\n",
       "      <td>148823</td>\n",
       "      <td>29564005</td>\n",
       "      <td>148820</td>\n",
       "      <td>16965</td>\n",
       "      <td>3</td>\n",
       "      <td>0.5</td>\n",
       "      <td>Europe</td>\n",
       "    </tr>\n",
       "    <tr>\n",
       "      <th>4</th>\n",
       "      <td>Germany</td>\n",
       "      <td>26045528</td>\n",
       "      <td>138326</td>\n",
       "      <td>26044283</td>\n",
       "      <td>138325</td>\n",
       "      <td>1245</td>\n",
       "      <td>1</td>\n",
       "      <td>0.5</td>\n",
       "      <td>Europe</td>\n",
       "    </tr>\n",
       "  </tbody>\n",
       "</table>\n",
       "</div>"
      ],
      "text/plain": [
       "  Country/Region     Cases   Deaths    PCases  PDeaths  Cases (+)  Deaths (+)  \\\n",
       "0             US  83281329  1002173  83263020  1002146      18309          27   \n",
       "1          India  43138393   524459  43136371   524413       2022          46   \n",
       "2         Brazil  30791220   665854  30762413   665720      28807         134   \n",
       "3         France  29580970   148823  29564005   148820      16965           3   \n",
       "4        Germany  26045528   138326  26044283   138325       1245           1   \n",
       "\n",
       "   Fatality Rate      Continent  \n",
       "0            1.2  North America  \n",
       "1            1.2           Asia  \n",
       "2            2.2  South America  \n",
       "3            0.5         Europe  \n",
       "4            0.5         Europe  "
      ]
     },
     "execution_count": 15,
     "metadata": {},
     "output_type": "execute_result"
    }
   ],
   "source": [
    "#hide\n",
    "df_table = (pd.DataFrame(dict(Cases=dfc_cases, Deaths=dfc_deaths, PCases=dfp_cases, PDeaths=dfp_deaths))\n",
    "             .sort_values(by=['Cases', 'Deaths'], ascending=[False, False])\n",
    "             .reset_index())\n",
    "df_table.rename(columns={'index': 'Country/Region'}, inplace=True)\n",
    "for c in 'Cases, Deaths'.split(', '):\n",
    "    df_table[f'{c} (+)'] = (df_table[c] - df_table[f'P{c}']).clip(0)  # DATA BUG\n",
    "df_table['Fatality Rate'] = (100 * df_table['Deaths'] / df_table['Cases']).round(1)\n",
    "df_table['Continent'] = df_table['Country/Region'].map(mapping['map.continent'])\n",
    "df_table.head(5)"
   ]
  },
  {
   "cell_type": "code",
   "execution_count": 16,
   "id": "fewer-occasion",
   "metadata": {
    "execution": {
     "iopub.execute_input": "2022-05-23T12:16:51.106377Z",
     "iopub.status.busy": "2022-05-23T12:16:51.105769Z",
     "iopub.status.idle": "2022-05-23T12:16:51.108678Z",
     "shell.execute_reply": "2022-05-23T12:16:51.108256Z"
    },
    "papermill": {
     "duration": 0.029873,
     "end_time": "2022-05-23T12:16:51.108762",
     "exception": false,
     "start_time": "2022-05-23T12:16:51.078889",
     "status": "completed"
    },
    "tags": []
   },
   "outputs": [],
   "source": [
    "#hide\n",
    "#delete problematic countries from table\n",
    "df_table = df_table[~df_table['Country/Region'].isin(['Cape Verde', 'Cruise Ship', 'Kosovo'])]"
   ]
  },
  {
   "cell_type": "code",
   "execution_count": 17,
   "id": "related-center",
   "metadata": {
    "execution": {
     "iopub.execute_input": "2022-05-23T12:16:51.161617Z",
     "iopub.status.busy": "2022-05-23T12:16:51.160855Z",
     "iopub.status.idle": "2022-05-23T12:16:51.170954Z",
     "shell.execute_reply": "2022-05-23T12:16:51.170550Z"
    },
    "papermill": {
     "duration": 0.039235,
     "end_time": "2022-05-23T12:16:51.171040",
     "exception": false,
     "start_time": "2022-05-23T12:16:51.131805",
     "status": "completed"
    },
    "tags": []
   },
   "outputs": [],
   "source": [
    "#hide\n",
    "metrics = [df_table.columns[index] for index in [1,2,5,6]]\n",
    "# s_china = df_table[df_table['Country/Region'].eq('China')][metrics].sum().add_prefix('China ')\n",
    "s_us = df_table[df_table['Country/Region'].eq('US')][metrics].sum().add_prefix('US ')\n",
    "s_eu = df_table[df_table['Continent'].eq('Europe')][metrics].sum().add_prefix('EU ')\n",
    "s_ind = df_table[df_table['Country/Region'].eq('India')][metrics].sum().add_prefix('India ')\n",
    "summary = {'updated': pd.to_datetime(dt_today), 'since': pd.to_datetime(dt_yday)}\n",
    "summary = {'updated': pd.to_datetime(dt_today), 'since': pd.to_datetime(dt_yday)}\n",
    "summary = {**summary, **df_table[metrics].sum(), **s_ind, **s_us, **s_eu}"
   ]
  },
  {
   "cell_type": "code",
   "execution_count": 18,
   "id": "engaging-syndrome",
   "metadata": {
    "execution": {
     "iopub.execute_input": "2022-05-23T12:16:51.221881Z",
     "iopub.status.busy": "2022-05-23T12:16:51.221067Z",
     "iopub.status.idle": "2022-05-23T12:16:51.234824Z",
     "shell.execute_reply": "2022-05-23T12:16:51.235169Z"
    },
    "papermill": {
     "duration": 0.041086,
     "end_time": "2022-05-23T12:16:51.235275",
     "exception": false,
     "start_time": "2022-05-23T12:16:51.194189",
     "status": "completed"
    },
    "tags": []
   },
   "outputs": [],
   "source": [
    "#hide\n",
    "dft_ct_new_cases = dft_cases.groupby(COL_REGION)[dt_cols].sum().diff(axis=1).fillna(0).astype(int)"
   ]
  },
  {
   "cell_type": "code",
   "execution_count": 19,
   "id": "neutral-assignment",
   "metadata": {
    "execution": {
     "iopub.execute_input": "2022-05-23T12:16:51.286980Z",
     "iopub.status.busy": "2022-05-23T12:16:51.286264Z",
     "iopub.status.idle": "2022-05-23T12:16:51.288498Z",
     "shell.execute_reply": "2022-05-23T12:16:51.288075Z"
    },
    "papermill": {
     "duration": 0.030312,
     "end_time": "2022-05-23T12:16:51.288581",
     "exception": false,
     "start_time": "2022-05-23T12:16:51.258269",
     "status": "completed"
    },
    "tags": []
   },
   "outputs": [],
   "source": [
    "#hide\n",
    "everydaycases = dft_ct_new_cases.cumsum(axis=1)"
   ]
  },
  {
   "cell_type": "code",
   "execution_count": 20,
   "id": "parliamentary-calgary",
   "metadata": {
    "execution": {
     "iopub.execute_input": "2022-05-23T12:16:51.338959Z",
     "iopub.status.busy": "2022-05-23T12:16:51.338207Z",
     "iopub.status.idle": "2022-05-23T12:16:51.818203Z",
     "shell.execute_reply": "2022-05-23T12:16:51.817332Z"
    },
    "papermill": {
     "duration": 0.506315,
     "end_time": "2022-05-23T12:16:51.818295",
     "exception": false,
     "start_time": "2022-05-23T12:16:51.311980",
     "status": "completed"
    },
    "tags": []
   },
   "outputs": [],
   "source": [
    "#hide\n",
    "import pandas as pd\n",
    "import matplotlib.pyplot as plt\n",
    "import matplotlib.ticker as ticker\n",
    "import matplotlib.animation as animation\n",
    "from IPython.display import HTML"
   ]
  },
  {
   "cell_type": "code",
   "execution_count": 21,
   "id": "lasting-extraction",
   "metadata": {
    "execution": {
     "iopub.execute_input": "2022-05-23T12:16:51.869276Z",
     "iopub.status.busy": "2022-05-23T12:16:51.868580Z",
     "iopub.status.idle": "2022-05-23T12:16:51.874006Z",
     "shell.execute_reply": "2022-05-23T12:16:51.873656Z"
    },
    "papermill": {
     "duration": 0.032965,
     "end_time": "2022-05-23T12:16:51.874088",
     "exception": false,
     "start_time": "2022-05-23T12:16:51.841123",
     "status": "completed"
    },
    "tags": []
   },
   "outputs": [],
   "source": [
    "#hide\n",
    "t = everydaycases.stack()"
   ]
  },
  {
   "cell_type": "code",
   "execution_count": 22,
   "id": "premier-sleeve",
   "metadata": {
    "execution": {
     "iopub.execute_input": "2022-05-23T12:16:51.924898Z",
     "iopub.status.busy": "2022-05-23T12:16:51.924231Z",
     "iopub.status.idle": "2022-05-23T12:16:51.932416Z",
     "shell.execute_reply": "2022-05-23T12:16:51.932770Z"
    },
    "papermill": {
     "duration": 0.035637,
     "end_time": "2022-05-23T12:16:51.932866",
     "exception": false,
     "start_time": "2022-05-23T12:16:51.897229",
     "status": "completed"
    },
    "tags": []
   },
   "outputs": [],
   "source": [
    "#hide\n",
    "g = t.reset_index(['Country/Region'])"
   ]
  },
  {
   "cell_type": "code",
   "execution_count": 23,
   "id": "distributed-pittsburgh",
   "metadata": {
    "execution": {
     "iopub.execute_input": "2022-05-23T12:16:51.981289Z",
     "iopub.status.busy": "2022-05-23T12:16:51.980794Z",
     "iopub.status.idle": "2022-05-23T12:16:51.982817Z",
     "shell.execute_reply": "2022-05-23T12:16:51.983130Z"
    },
    "papermill": {
     "duration": 0.027734,
     "end_time": "2022-05-23T12:16:51.983227",
     "exception": false,
     "start_time": "2022-05-23T12:16:51.955493",
     "status": "completed"
    },
    "tags": []
   },
   "outputs": [],
   "source": [
    "#hide\n",
    "g.index.name = 'date'"
   ]
  },
  {
   "cell_type": "code",
   "execution_count": 24,
   "id": "naked-donor",
   "metadata": {
    "execution": {
     "iopub.execute_input": "2022-05-23T12:16:52.032362Z",
     "iopub.status.busy": "2022-05-23T12:16:52.031833Z",
     "iopub.status.idle": "2022-05-23T12:16:52.034032Z",
     "shell.execute_reply": "2022-05-23T12:16:52.033675Z"
    },
    "papermill": {
     "duration": 0.027985,
     "end_time": "2022-05-23T12:16:52.034110",
     "exception": false,
     "start_time": "2022-05-23T12:16:52.006125",
     "status": "completed"
    },
    "tags": []
   },
   "outputs": [],
   "source": [
    "# #hide\n",
    "# g = g.reset_index(['date'])"
   ]
  },
  {
   "cell_type": "code",
   "execution_count": 25,
   "id": "incomplete-mustang",
   "metadata": {
    "execution": {
     "iopub.execute_input": "2022-05-23T12:16:52.082647Z",
     "iopub.status.busy": "2022-05-23T12:16:52.082128Z",
     "iopub.status.idle": "2022-05-23T12:16:52.084142Z",
     "shell.execute_reply": "2022-05-23T12:16:52.084463Z"
    },
    "papermill": {
     "duration": 0.027554,
     "end_time": "2022-05-23T12:16:52.084550",
     "exception": false,
     "start_time": "2022-05-23T12:16:52.056996",
     "status": "completed"
    },
    "tags": []
   },
   "outputs": [],
   "source": [
    "#hide\n",
    "# g.head()"
   ]
  },
  {
   "cell_type": "code",
   "execution_count": 26,
   "id": "specific-kruger",
   "metadata": {
    "execution": {
     "iopub.execute_input": "2022-05-23T12:16:52.133210Z",
     "iopub.status.busy": "2022-05-23T12:16:52.132724Z",
     "iopub.status.idle": "2022-05-23T12:16:52.134735Z",
     "shell.execute_reply": "2022-05-23T12:16:52.135065Z"
    },
    "papermill": {
     "duration": 0.027738,
     "end_time": "2022-05-23T12:16:52.135152",
     "exception": false,
     "start_time": "2022-05-23T12:16:52.107414",
     "status": "completed"
    },
    "tags": []
   },
   "outputs": [],
   "source": [
    "#hide\n",
    "# g.columns = ['date','country','cases']"
   ]
  },
  {
   "cell_type": "code",
   "execution_count": 27,
   "id": "tender-conversion",
   "metadata": {
    "execution": {
     "iopub.execute_input": "2022-05-23T12:16:52.183444Z",
     "iopub.status.busy": "2022-05-23T12:16:52.182943Z",
     "iopub.status.idle": "2022-05-23T12:16:52.185240Z",
     "shell.execute_reply": "2022-05-23T12:16:52.184821Z"
    },
    "papermill": {
     "duration": 0.027537,
     "end_time": "2022-05-23T12:16:52.185316",
     "exception": false,
     "start_time": "2022-05-23T12:16:52.157779",
     "status": "completed"
    },
    "tags": []
   },
   "outputs": [],
   "source": [
    "#hide\n",
    "# g['continent'] = g.country"
   ]
  },
  {
   "cell_type": "code",
   "execution_count": 28,
   "id": "substantial-wilderness",
   "metadata": {
    "execution": {
     "iopub.execute_input": "2022-05-23T12:16:52.233760Z",
     "iopub.status.busy": "2022-05-23T12:16:52.233297Z",
     "iopub.status.idle": "2022-05-23T12:16:52.235684Z",
     "shell.execute_reply": "2022-05-23T12:16:52.235270Z"
    },
    "papermill": {
     "duration": 0.027552,
     "end_time": "2022-05-23T12:16:52.235759",
     "exception": false,
     "start_time": "2022-05-23T12:16:52.208207",
     "status": "completed"
    },
    "tags": []
   },
   "outputs": [],
   "source": [
    "#hide\n",
    "# cols = list(g.columns.values)"
   ]
  },
  {
   "cell_type": "code",
   "execution_count": 29,
   "id": "solved-farming",
   "metadata": {
    "execution": {
     "iopub.execute_input": "2022-05-23T12:16:52.283926Z",
     "iopub.status.busy": "2022-05-23T12:16:52.283443Z",
     "iopub.status.idle": "2022-05-23T12:16:52.285718Z",
     "shell.execute_reply": "2022-05-23T12:16:52.285309Z"
    },
    "papermill": {
     "duration": 0.027428,
     "end_time": "2022-05-23T12:16:52.285792",
     "exception": false,
     "start_time": "2022-05-23T12:16:52.258364",
     "status": "completed"
    },
    "tags": []
   },
   "outputs": [],
   "source": [
    "#hide\n",
    "# cols.insert(0, cols.pop())"
   ]
  },
  {
   "cell_type": "code",
   "execution_count": 30,
   "id": "executed-adoption",
   "metadata": {
    "execution": {
     "iopub.execute_input": "2022-05-23T12:16:52.334296Z",
     "iopub.status.busy": "2022-05-23T12:16:52.333800Z",
     "iopub.status.idle": "2022-05-23T12:16:52.336223Z",
     "shell.execute_reply": "2022-05-23T12:16:52.335804Z"
    },
    "papermill": {
     "duration": 0.027781,
     "end_time": "2022-05-23T12:16:52.336299",
     "exception": false,
     "start_time": "2022-05-23T12:16:52.308518",
     "status": "completed"
    },
    "tags": []
   },
   "outputs": [],
   "source": [
    "#hide\n",
    "# g = g[cols]"
   ]
  },
  {
   "cell_type": "code",
   "execution_count": 31,
   "id": "subject-dublin",
   "metadata": {
    "execution": {
     "iopub.execute_input": "2022-05-23T12:16:52.384919Z",
     "iopub.status.busy": "2022-05-23T12:16:52.384408Z",
     "iopub.status.idle": "2022-05-23T12:16:52.386363Z",
     "shell.execute_reply": "2022-05-23T12:16:52.386684Z"
    },
    "papermill": {
     "duration": 0.027637,
     "end_time": "2022-05-23T12:16:52.386778",
     "exception": false,
     "start_time": "2022-05-23T12:16:52.359141",
     "status": "completed"
    },
    "tags": []
   },
   "outputs": [],
   "source": [
    "#hide\n",
    "# g['continent'] = g['continent'].map(mapping['map.continent'])"
   ]
  },
  {
   "cell_type": "code",
   "execution_count": 32,
   "id": "freelance-scout",
   "metadata": {
    "execution": {
     "iopub.execute_input": "2022-05-23T12:16:52.435689Z",
     "iopub.status.busy": "2022-05-23T12:16:52.435213Z",
     "iopub.status.idle": "2022-05-23T12:16:52.437216Z",
     "shell.execute_reply": "2022-05-23T12:16:52.437524Z"
    },
    "papermill": {
     "duration": 0.027717,
     "end_time": "2022-05-23T12:16:52.437615",
     "exception": false,
     "start_time": "2022-05-23T12:16:52.409898",
     "status": "completed"
    },
    "tags": []
   },
   "outputs": [],
   "source": [
    "#hide\n",
    "# g.head()"
   ]
  },
  {
   "cell_type": "code",
   "execution_count": 33,
   "id": "limited-engine",
   "metadata": {
    "execution": {
     "iopub.execute_input": "2022-05-23T12:16:52.486116Z",
     "iopub.status.busy": "2022-05-23T12:16:52.485635Z",
     "iopub.status.idle": "2022-05-23T12:16:52.487623Z",
     "shell.execute_reply": "2022-05-23T12:16:52.487926Z"
    },
    "papermill": {
     "duration": 0.027324,
     "end_time": "2022-05-23T12:16:52.488013",
     "exception": false,
     "start_time": "2022-05-23T12:16:52.460689",
     "status": "completed"
    },
    "tags": []
   },
   "outputs": [],
   "source": [
    "# hide\n",
    "# g['date'] = g['date'].astype('datetime64[ns]')"
   ]
  },
  {
   "cell_type": "code",
   "execution_count": 34,
   "id": "sophisticated-supervisor",
   "metadata": {
    "execution": {
     "iopub.execute_input": "2022-05-23T12:16:52.536235Z",
     "iopub.status.busy": "2022-05-23T12:16:52.535760Z",
     "iopub.status.idle": "2022-05-23T12:16:52.538094Z",
     "shell.execute_reply": "2022-05-23T12:16:52.537682Z"
    },
    "papermill": {
     "duration": 0.027392,
     "end_time": "2022-05-23T12:16:52.538167",
     "exception": false,
     "start_time": "2022-05-23T12:16:52.510775",
     "status": "completed"
    },
    "tags": []
   },
   "outputs": [],
   "source": [
    "#hide\n",
    "# g['date'] = g.date.dt.dayofyear"
   ]
  },
  {
   "cell_type": "code",
   "execution_count": 35,
   "id": "inside-dubai",
   "metadata": {
    "execution": {
     "iopub.execute_input": "2022-05-23T12:16:52.586478Z",
     "iopub.status.busy": "2022-05-23T12:16:52.585958Z",
     "iopub.status.idle": "2022-05-23T12:16:52.588403Z",
     "shell.execute_reply": "2022-05-23T12:16:52.588050Z"
    },
    "papermill": {
     "duration": 0.027657,
     "end_time": "2022-05-23T12:16:52.588482",
     "exception": false,
     "start_time": "2022-05-23T12:16:52.560825",
     "status": "completed"
    },
    "tags": []
   },
   "outputs": [],
   "source": [
    "#hide\n",
    "# g = g.rename(columns= {'continent':'group','country':'name','cases':'value'})"
   ]
  },
  {
   "cell_type": "code",
   "execution_count": 36,
   "id": "fleet-motorcycle",
   "metadata": {
    "execution": {
     "iopub.execute_input": "2022-05-23T12:16:52.638079Z",
     "iopub.status.busy": "2022-05-23T12:16:52.637562Z",
     "iopub.status.idle": "2022-05-23T12:16:52.640077Z",
     "shell.execute_reply": "2022-05-23T12:16:52.639721Z"
    },
    "papermill": {
     "duration": 0.028354,
     "end_time": "2022-05-23T12:16:52.640153",
     "exception": false,
     "start_time": "2022-05-23T12:16:52.611799",
     "status": "completed"
    },
    "tags": []
   },
   "outputs": [],
   "source": [
    "#hide\n",
    "# cols = ['name','group','day','value']"
   ]
  },
  {
   "cell_type": "code",
   "execution_count": 37,
   "id": "continued-sleeping",
   "metadata": {
    "execution": {
     "iopub.execute_input": "2022-05-23T12:16:52.688973Z",
     "iopub.status.busy": "2022-05-23T12:16:52.688456Z",
     "iopub.status.idle": "2022-05-23T12:16:52.690572Z",
     "shell.execute_reply": "2022-05-23T12:16:52.690907Z"
    },
    "papermill": {
     "duration": 0.02803,
     "end_time": "2022-05-23T12:16:52.691003",
     "exception": false,
     "start_time": "2022-05-23T12:16:52.662973",
     "status": "completed"
    },
    "tags": []
   },
   "outputs": [],
   "source": [
    "#hide\n",
    "# g.rename(columns= {'date':'day'},inplace = True)"
   ]
  },
  {
   "cell_type": "code",
   "execution_count": 38,
   "id": "major-fight",
   "metadata": {
    "execution": {
     "iopub.execute_input": "2022-05-23T12:16:52.740130Z",
     "iopub.status.busy": "2022-05-23T12:16:52.739586Z",
     "iopub.status.idle": "2022-05-23T12:16:52.742038Z",
     "shell.execute_reply": "2022-05-23T12:16:52.741687Z"
    },
    "papermill": {
     "duration": 0.028141,
     "end_time": "2022-05-23T12:16:52.742117",
     "exception": false,
     "start_time": "2022-05-23T12:16:52.713976",
     "status": "completed"
    },
    "tags": []
   },
   "outputs": [],
   "source": [
    "#hide\n",
    "# g = g[cols]"
   ]
  },
  {
   "cell_type": "code",
   "execution_count": 39,
   "id": "structured-mobile",
   "metadata": {
    "execution": {
     "iopub.execute_input": "2022-05-23T12:16:52.790522Z",
     "iopub.status.busy": "2022-05-23T12:16:52.790027Z",
     "iopub.status.idle": "2022-05-23T12:16:52.792437Z",
     "shell.execute_reply": "2022-05-23T12:16:52.792018Z"
    },
    "papermill": {
     "duration": 0.027775,
     "end_time": "2022-05-23T12:16:52.792517",
     "exception": false,
     "start_time": "2022-05-23T12:16:52.764742",
     "status": "completed"
    },
    "tags": []
   },
   "outputs": [],
   "source": [
    "# #hide\n",
    "# g = g[g.group.notna()]"
   ]
  },
  {
   "cell_type": "code",
   "execution_count": 40,
   "id": "determined-closing",
   "metadata": {
    "execution": {
     "iopub.execute_input": "2022-05-23T12:16:52.841139Z",
     "iopub.status.busy": "2022-05-23T12:16:52.840642Z",
     "iopub.status.idle": "2022-05-23T12:16:52.843015Z",
     "shell.execute_reply": "2022-05-23T12:16:52.842656Z"
    },
    "papermill": {
     "duration": 0.027779,
     "end_time": "2022-05-23T12:16:52.843089",
     "exception": false,
     "start_time": "2022-05-23T12:16:52.815310",
     "status": "completed"
    },
    "tags": []
   },
   "outputs": [],
   "source": [
    "# #hide\n",
    "# colors = dict(zip(\n",
    "#     [\"Oceania\", \"Europe\", \"Asia\", \"South America\", \"Middle East\", \"North America\", \"Africa\"],\n",
    "#     [\"#adb0ff\", \"#ffb3ff\", \"#90d595\", \"#e48381\", \"#aafbff\", \"#f7bb5f\", \"#eafb50\"]\n",
    "# ))\n",
    "# group_lk = g.set_index('name')['group'].to_dict()"
   ]
  },
  {
   "cell_type": "code",
   "execution_count": null,
   "id": "gross-drinking",
   "metadata": {
    "papermill": {
     "duration": 0.022611,
     "end_time": "2022-05-23T12:16:52.888312",
     "exception": false,
     "start_time": "2022-05-23T12:16:52.865701",
     "status": "completed"
    },
    "tags": []
   },
   "outputs": [],
   "source": []
  },
  {
   "cell_type": "code",
   "execution_count": 41,
   "id": "subject-macintosh",
   "metadata": {
    "execution": {
     "iopub.execute_input": "2022-05-23T12:16:52.936873Z",
     "iopub.status.busy": "2022-05-23T12:16:52.936338Z",
     "iopub.status.idle": "2022-05-23T12:16:52.938539Z",
     "shell.execute_reply": "2022-05-23T12:16:52.938205Z"
    },
    "papermill": {
     "duration": 0.027733,
     "end_time": "2022-05-23T12:16:52.938612",
     "exception": false,
     "start_time": "2022-05-23T12:16:52.910879",
     "status": "completed"
    },
    "tags": []
   },
   "outputs": [],
   "source": [
    "# #hide\n",
    "# fig, ax = plt.subplots(figsize=(15, 8))\n",
    "\n",
    "# def draw_barchart(current_day):\n",
    "#     dff = g[g['day'].eq(current_day)].sort_values(by='value', ascending=True).tail(10)\n",
    "#     ax.clear()\n",
    "#     ax.barh(dff['name'], dff['value'], color=[colors[group_lk[x]] for x in dff['name']])\n",
    "#     dx = dff['value'].max() / 200\n",
    "    \n",
    "#     for i, (value, name) in enumerate(zip(dff['value'], dff['name'])):\n",
    "#         ax.text(value-dx, i,     name,           size=14, weight=600, ha='right', va='bottom')\n",
    "#         ax.text(value-dx, i-.25, group_lk[name], size=10, color='#444444', ha='right', va='baseline')\n",
    "#         ax.text(value+dx, i,     f'{value:,.0f}',  size=14, ha='left',  va='center')\n",
    "#     ax.text(1, 0.4, current_day, transform=ax.transAxes, color='#777777', size=46, ha='right', weight=800)\n",
    "#     ax.text(0, 1.06, 'Population (thousands)', transform=ax.transAxes, size=12, color='#777777')\n",
    "#     ax.xaxis.set_major_formatter(ticker.StrMethodFormatter('{x:,.0f}'))\n",
    "#     ax.xaxis.set_ticks_position('top')\n",
    "#     ax.tick_params(axis='x', colors='#777777', labelsize=12)\n",
    "#     ax.set_yticks([])\n",
    "#     ax.margins(0, 0.01)\n",
    "#     ax.grid(which='major', axis='x', linestyle='-')\n",
    "#     ax.set_axisbelow(True)\n",
    "    \n",
    "#     ax.text(0, 1.15, 'Coronavirus',\n",
    "#             transform=ax.transAxes, size=24, weight=600, ha='left', va='top')\n",
    "# #     ax.text(1, 0, 'by @pratapvardhan; credit @jburnmurdoch', transform=ax.transAxes, color='#777777', ha='right',\n",
    "# #             bbox=dict(facecolor='white', alpha=0.8, edgecolor='white'))\n",
    "#     plt.box(False)"
   ]
  },
  {
   "cell_type": "code",
   "execution_count": 42,
   "id": "sexual-wages",
   "metadata": {
    "execution": {
     "iopub.execute_input": "2022-05-23T12:16:52.987594Z",
     "iopub.status.busy": "2022-05-23T12:16:52.987111Z",
     "iopub.status.idle": "2022-05-23T12:16:52.989478Z",
     "shell.execute_reply": "2022-05-23T12:16:52.989063Z"
    },
    "papermill": {
     "duration": 0.027578,
     "end_time": "2022-05-23T12:16:52.989568",
     "exception": false,
     "start_time": "2022-05-23T12:16:52.961990",
     "status": "completed"
    },
    "tags": []
   },
   "outputs": [],
   "source": [
    "# #hide_input\n",
    "# fig, ax = plt.subplots(figsize=(15, 8))\n",
    "# animator = animation.FuncAnimation(fig, draw_barchart, frames=range(g.day.values.min(), g.day.values.max()))\n",
    "# HTML(animator.to_jshtml())\n",
    "# # or use animator.to_html5_video() or animator.save() "
   ]
  },
  {
   "cell_type": "code",
   "execution_count": null,
   "id": "australian-container",
   "metadata": {
    "papermill": {
     "duration": 0.022717,
     "end_time": "2022-05-23T12:16:53.035276",
     "exception": false,
     "start_time": "2022-05-23T12:16:53.012559",
     "status": "completed"
    },
    "tags": []
   },
   "outputs": [],
   "source": []
  },
  {
   "cell_type": "code",
   "execution_count": null,
   "id": "mediterranean-pontiac",
   "metadata": {
    "papermill": {
     "duration": 0.022659,
     "end_time": "2022-05-23T12:16:53.080624",
     "exception": false,
     "start_time": "2022-05-23T12:16:53.057965",
     "status": "completed"
    },
    "tags": []
   },
   "outputs": [],
   "source": []
  },
  {
   "cell_type": "code",
   "execution_count": null,
   "id": "aging-legislature",
   "metadata": {
    "papermill": {
     "duration": 0.022857,
     "end_time": "2022-05-23T12:16:53.126462",
     "exception": false,
     "start_time": "2022-05-23T12:16:53.103605",
     "status": "completed"
    },
    "tags": []
   },
   "outputs": [],
   "source": []
  }
 ],
 "metadata": {
  "kernelspec": {
   "display_name": "Python 3",
   "language": "python",
   "name": "python3"
  },
  "language_info": {
   "codemirror_mode": {
    "name": "ipython",
    "version": 3
   },
   "file_extension": ".py",
   "mimetype": "text/x-python",
   "name": "python",
   "nbconvert_exporter": "python",
   "pygments_lexer": "ipython3",
   "version": "3.6.15"
  },
  "papermill": {
   "duration": 5.094673,
   "end_time": "2022-05-23T12:16:53.467503",
   "environment_variables": {},
   "exception": null,
   "input_path": "2020-03-21-covid19exp.ipynb",
   "output_path": "2020-03-21-covid19exp.ipynb",
   "parameters": {},
   "start_time": "2022-05-23T12:16:48.372830",
   "version": "2.0.0"
  }
 },
 "nbformat": 4,
 "nbformat_minor": 5
}