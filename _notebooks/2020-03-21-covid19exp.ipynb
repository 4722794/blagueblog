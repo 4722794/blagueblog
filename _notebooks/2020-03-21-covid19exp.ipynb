{
 "cells": [
  {
   "cell_type": "markdown",
   "id": "muslim-click",
   "metadata": {
    "papermill": {
     "duration": 0.034864,
     "end_time": "2022-11-04T12:20:04.523935",
     "exception": false,
     "start_time": "2022-11-04T12:20:04.489071",
     "status": "completed"
    },
    "tags": []
   },
   "source": [
    "# COVID-19 Case Race\n",
    "> A race chart to see rising cases around the world\n",
    "\n",
    "- author: Hargun Oberoi\n",
    "- image: images/covid-overview.png\n",
    "- hide: false\n",
    "- badges: false"
   ]
  },
  {
   "cell_type": "code",
   "execution_count": 1,
   "id": "proof-material",
   "metadata": {
    "execution": {
     "iopub.execute_input": "2022-11-04T12:20:04.593966Z",
     "iopub.status.busy": "2022-11-04T12:20:04.593395Z",
     "iopub.status.idle": "2022-11-04T12:20:04.897465Z",
     "shell.execute_reply": "2022-11-04T12:20:04.896984Z"
    },
    "papermill": {
     "duration": 0.343023,
     "end_time": "2022-11-04T12:20:04.897593",
     "exception": false,
     "start_time": "2022-11-04T12:20:04.554570",
     "status": "completed"
    },
    "tags": []
   },
   "outputs": [],
   "source": [
    "#hide\n",
    "import numpy as np\n",
    "import pandas as pd\n",
    "from jinja2 import Template\n",
    "from IPython.display import HTML"
   ]
  },
  {
   "cell_type": "code",
   "execution_count": 2,
   "id": "developed-terminology",
   "metadata": {
    "execution": {
     "iopub.execute_input": "2022-11-04T12:20:04.961441Z",
     "iopub.status.busy": "2022-11-04T12:20:04.960888Z",
     "iopub.status.idle": "2022-11-04T12:20:04.963096Z",
     "shell.execute_reply": "2022-11-04T12:20:04.963573Z"
    },
    "papermill": {
     "duration": 0.036066,
     "end_time": "2022-11-04T12:20:04.963684",
     "exception": false,
     "start_time": "2022-11-04T12:20:04.927618",
     "status": "completed"
    },
    "tags": []
   },
   "outputs": [],
   "source": [
    "#hide\n",
    "\n",
    "# FETCH\n",
    "base_url = 'https://raw.githubusercontent.com/pratapvardhan/notebooks/master/covid19/'\n",
    "paths = {\n",
    "    'mapping': base_url + 'mapping_countries.csv',\n",
    "    'overview': base_url + 'overview.tpl'\n",
    "}"
   ]
  },
  {
   "cell_type": "code",
   "execution_count": 3,
   "id": "dynamic-saver",
   "metadata": {
    "execution": {
     "iopub.execute_input": "2022-11-04T12:20:05.031559Z",
     "iopub.status.busy": "2022-11-04T12:20:05.030992Z",
     "iopub.status.idle": "2022-11-04T12:20:05.033973Z",
     "shell.execute_reply": "2022-11-04T12:20:05.034421Z"
    },
    "papermill": {
     "duration": 0.04109,
     "end_time": "2022-11-04T12:20:05.034533",
     "exception": false,
     "start_time": "2022-11-04T12:20:04.993443",
     "status": "completed"
    },
    "tags": []
   },
   "outputs": [
    {
     "data": {
      "text/plain": [
       "'https://raw.githubusercontent.com/pratapvardhan/notebooks/master/covid19/mapping_countries.csv'"
      ]
     },
     "execution_count": 3,
     "metadata": {},
     "output_type": "execute_result"
    }
   ],
   "source": [
    "#hide\n",
    "paths['mapping']"
   ]
  },
  {
   "cell_type": "code",
   "execution_count": 4,
   "id": "urban-software",
   "metadata": {
    "execution": {
     "iopub.execute_input": "2022-11-04T12:20:05.099368Z",
     "iopub.status.busy": "2022-11-04T12:20:05.098779Z",
     "iopub.status.idle": "2022-11-04T12:20:05.101272Z",
     "shell.execute_reply": "2022-11-04T12:20:05.100829Z"
    },
    "papermill": {
     "duration": 0.03656,
     "end_time": "2022-11-04T12:20:05.101363",
     "exception": false,
     "start_time": "2022-11-04T12:20:05.064803",
     "status": "completed"
    },
    "tags": []
   },
   "outputs": [],
   "source": [
    "#hide\n",
    "def get_mappings(url):\n",
    "    df = pd.read_csv(url)\n",
    "    return {\n",
    "        'df': df,\n",
    "        'replace.country': dict(df.dropna(subset=['Name']).set_index('Country')['Name']),\n",
    "        'map.continent': dict(df.set_index('Name')['Continent'])\n",
    "    }"
   ]
  },
  {
   "cell_type": "code",
   "execution_count": 5,
   "id": "intimate-machinery",
   "metadata": {
    "execution": {
     "iopub.execute_input": "2022-11-04T12:20:05.166186Z",
     "iopub.status.busy": "2022-11-04T12:20:05.165627Z",
     "iopub.status.idle": "2022-11-04T12:20:05.214540Z",
     "shell.execute_reply": "2022-11-04T12:20:05.214980Z"
    },
    "papermill": {
     "duration": 0.083643,
     "end_time": "2022-11-04T12:20:05.215088",
     "exception": false,
     "start_time": "2022-11-04T12:20:05.131445",
     "status": "completed"
    },
    "tags": []
   },
   "outputs": [],
   "source": [
    "#hide\n",
    "mapping = get_mappings(paths['mapping'])"
   ]
  },
  {
   "cell_type": "code",
   "execution_count": 6,
   "id": "certified-tactics",
   "metadata": {
    "execution": {
     "iopub.execute_input": "2022-11-04T12:20:05.280492Z",
     "iopub.status.busy": "2022-11-04T12:20:05.279919Z",
     "iopub.status.idle": "2022-11-04T12:20:05.282387Z",
     "shell.execute_reply": "2022-11-04T12:20:05.281941Z"
    },
    "papermill": {
     "duration": 0.037184,
     "end_time": "2022-11-04T12:20:05.282482",
     "exception": false,
     "start_time": "2022-11-04T12:20:05.245298",
     "status": "completed"
    },
    "tags": []
   },
   "outputs": [],
   "source": [
    "#hide\n",
    "def get_template(path):\n",
    "    from urllib.parse import urlparse\n",
    "    if bool(urlparse(path).netloc):\n",
    "        from urllib.request import urlopen\n",
    "        return urlopen(path).read().decode('utf8')\n",
    "    return open(path).read()"
   ]
  },
  {
   "cell_type": "code",
   "execution_count": 7,
   "id": "realistic-blast",
   "metadata": {
    "execution": {
     "iopub.execute_input": "2022-11-04T12:20:05.346952Z",
     "iopub.status.busy": "2022-11-04T12:20:05.346387Z",
     "iopub.status.idle": "2022-11-04T12:20:05.348840Z",
     "shell.execute_reply": "2022-11-04T12:20:05.348389Z"
    },
    "papermill": {
     "duration": 0.036281,
     "end_time": "2022-11-04T12:20:05.348932",
     "exception": false,
     "start_time": "2022-11-04T12:20:05.312651",
     "status": "completed"
    },
    "tags": []
   },
   "outputs": [],
   "source": [
    "#hide\n",
    "def get_frame(name):\n",
    "    url = (\n",
    "        'https://raw.githubusercontent.com/CSSEGISandData/COVID-19/master/csse_covid_19_data/'\n",
    "        f'csse_covid_19_time_series/time_series_covid19_{name}_global.csv')\n",
    "    df = pd.read_csv(url)\n",
    "    # rename countries\n",
    "    df['Country/Region'] = df['Country/Region'].replace(mapping['replace.country'])\n",
    "    return df"
   ]
  },
  {
   "cell_type": "code",
   "execution_count": 8,
   "id": "affiliated-characterization",
   "metadata": {
    "execution": {
     "iopub.execute_input": "2022-11-04T12:20:05.414453Z",
     "iopub.status.busy": "2022-11-04T12:20:05.413878Z",
     "iopub.status.idle": "2022-11-04T12:20:05.416313Z",
     "shell.execute_reply": "2022-11-04T12:20:05.415869Z"
    },
    "papermill": {
     "duration": 0.037325,
     "end_time": "2022-11-04T12:20:05.416405",
     "exception": false,
     "start_time": "2022-11-04T12:20:05.379080",
     "status": "completed"
    },
    "tags": []
   },
   "outputs": [],
   "source": [
    "#hide\n",
    "def get_dates(df):\n",
    "    dt_cols = df.columns[~df.columns.isin(['Province/State', 'Country/Region', 'Lat', 'Long'])]\n",
    "    LAST_DATE_I = -1\n",
    "    # sometimes last column may be empty, then go backwards\n",
    "    for i in range(-1, -len(dt_cols), -1):\n",
    "        if not df[dt_cols[i]].fillna(0).eq(0).all():\n",
    "            LAST_DATE_I = i\n",
    "            break\n",
    "    return LAST_DATE_I, dt_cols"
   ]
  },
  {
   "cell_type": "code",
   "execution_count": 9,
   "id": "recent-optimization",
   "metadata": {
    "execution": {
     "iopub.execute_input": "2022-11-04T12:20:05.480835Z",
     "iopub.status.busy": "2022-11-04T12:20:05.480283Z",
     "iopub.status.idle": "2022-11-04T12:20:06.003950Z",
     "shell.execute_reply": "2022-11-04T12:20:06.003332Z"
    },
    "papermill": {
     "duration": 0.557609,
     "end_time": "2022-11-04T12:20:06.004063",
     "exception": false,
     "start_time": "2022-11-04T12:20:05.446454",
     "status": "completed"
    },
    "tags": []
   },
   "outputs": [],
   "source": [
    "#hide\n",
    "COL_REGION = 'Country/Region'\n",
    "# Confirmed, Recovered, Deaths\n",
    "df = get_frame('confirmed')\n",
    "# dft_: timeseries, dfc_: today country agg\n",
    "dft_cases = df\n",
    "dft_deaths = get_frame('deaths')\n",
    "dft_recovered = get_frame('recovered')\n",
    "LAST_DATE_I, dt_cols = get_dates(df)"
   ]
  },
  {
   "cell_type": "code",
   "execution_count": 10,
   "id": "absolute-copper",
   "metadata": {
    "execution": {
     "iopub.execute_input": "2022-11-04T12:20:06.070117Z",
     "iopub.status.busy": "2022-11-04T12:20:06.069533Z",
     "iopub.status.idle": "2022-11-04T12:20:06.072021Z",
     "shell.execute_reply": "2022-11-04T12:20:06.071508Z"
    },
    "papermill": {
     "duration": 0.037633,
     "end_time": "2022-11-04T12:20:06.072120",
     "exception": false,
     "start_time": "2022-11-04T12:20:06.034487",
     "status": "completed"
    },
    "tags": []
   },
   "outputs": [],
   "source": [
    "#hide\n",
    "LAST_DATE_I, dt_cols = get_dates(df)\n",
    "dt_today =dt_cols[LAST_DATE_I]\n",
    "# dt_5day = dt_cols[LAST_DATE_I - 5]\n",
    "dt_yday = dt_cols[LAST_DATE_I - 1]"
   ]
  },
  {
   "cell_type": "code",
   "execution_count": 11,
   "id": "restricted-sheriff",
   "metadata": {
    "execution": {
     "iopub.execute_input": "2022-11-04T12:20:06.137154Z",
     "iopub.status.busy": "2022-11-04T12:20:06.136598Z",
     "iopub.status.idle": "2022-11-04T12:20:06.143542Z",
     "shell.execute_reply": "2022-11-04T12:20:06.144046Z"
    },
    "papermill": {
     "duration": 0.041955,
     "end_time": "2022-11-04T12:20:06.144157",
     "exception": false,
     "start_time": "2022-11-04T12:20:06.102202",
     "status": "completed"
    },
    "tags": []
   },
   "outputs": [],
   "source": [
    "#hide\n",
    "dfc_cases = dft_cases.groupby(COL_REGION)[dt_today].sum()\n",
    "dfc_deaths = dft_deaths.groupby(COL_REGION)[dt_today].sum()\n",
    "# dfp_cases = dft_cases.groupby(COL_REGION)[dt_5day].sum()\n",
    "# dfp_deaths = dft_deaths.groupby(COL_REGION)[dt_5day].sum()\n",
    "dfp_cases = dft_cases.groupby(COL_REGION)[dt_yday].sum()\n",
    "dfp_deaths = dft_deaths.groupby(COL_REGION)[dt_yday].sum()"
   ]
  },
  {
   "cell_type": "code",
   "execution_count": 12,
   "id": "deluxe-hepatitis",
   "metadata": {
    "execution": {
     "iopub.execute_input": "2022-11-04T12:20:06.209806Z",
     "iopub.status.busy": "2022-11-04T12:20:06.209261Z",
     "iopub.status.idle": "2022-11-04T12:20:06.213431Z",
     "shell.execute_reply": "2022-11-04T12:20:06.213880Z"
    },
    "papermill": {
     "duration": 0.039683,
     "end_time": "2022-11-04T12:20:06.213990",
     "exception": false,
     "start_time": "2022-11-04T12:20:06.174307",
     "status": "completed"
    },
    "tags": []
   },
   "outputs": [],
   "source": [
    "#hide\n",
    "df_table = (pd.DataFrame(dict(Cases = dfc_cases, Deaths = dfc_deaths, PCases = dfp_cases, PDeaths = dfp_deaths))\n",
    "            .sort_values(by = ['Cases','Deaths'], ascending = [False, False])\n",
    "            .reset_index())"
   ]
  },
  {
   "cell_type": "code",
   "execution_count": 13,
   "id": "educational-chancellor",
   "metadata": {
    "execution": {
     "iopub.execute_input": "2022-11-04T12:20:06.289784Z",
     "iopub.status.busy": "2022-11-04T12:20:06.289218Z",
     "iopub.status.idle": "2022-11-04T12:20:06.297624Z",
     "shell.execute_reply": "2022-11-04T12:20:06.297089Z"
    },
    "papermill": {
     "duration": 0.053636,
     "end_time": "2022-11-04T12:20:06.297722",
     "exception": false,
     "start_time": "2022-11-04T12:20:06.244086",
     "status": "completed"
    },
    "tags": []
   },
   "outputs": [
    {
     "data": {
      "text/html": [
       "<div>\n",
       "<style scoped>\n",
       "    .dataframe tbody tr th:only-of-type {\n",
       "        vertical-align: middle;\n",
       "    }\n",
       "\n",
       "    .dataframe tbody tr th {\n",
       "        vertical-align: top;\n",
       "    }\n",
       "\n",
       "    .dataframe thead th {\n",
       "        text-align: right;\n",
       "    }\n",
       "</style>\n",
       "<table border=\"1\" class=\"dataframe\">\n",
       "  <thead>\n",
       "    <tr style=\"text-align: right;\">\n",
       "      <th></th>\n",
       "      <th>Country/Region</th>\n",
       "      <th>Cases</th>\n",
       "      <th>Deaths</th>\n",
       "      <th>PCases</th>\n",
       "      <th>PDeaths</th>\n",
       "      <th>Cases (+)</th>\n",
       "      <th>Deaths (+)</th>\n",
       "      <th>Fatality Rate</th>\n",
       "      <th>Continent</th>\n",
       "    </tr>\n",
       "  </thead>\n",
       "  <tbody>\n",
       "    <tr>\n",
       "      <th>0</th>\n",
       "      <td>US</td>\n",
       "      <td>97691083</td>\n",
       "      <td>1072222</td>\n",
       "      <td>97622089</td>\n",
       "      <td>1071649</td>\n",
       "      <td>68994</td>\n",
       "      <td>573</td>\n",
       "      <td>1.10</td>\n",
       "      <td>North America</td>\n",
       "    </tr>\n",
       "    <tr>\n",
       "      <th>1</th>\n",
       "      <td>India</td>\n",
       "      <td>44658365</td>\n",
       "      <td>530479</td>\n",
       "      <td>44655926</td>\n",
       "      <td>530461</td>\n",
       "      <td>2439</td>\n",
       "      <td>18</td>\n",
       "      <td>1.19</td>\n",
       "      <td>Asia</td>\n",
       "    </tr>\n",
       "    <tr>\n",
       "      <th>2</th>\n",
       "      <td>France</td>\n",
       "      <td>37110800</td>\n",
       "      <td>158239</td>\n",
       "      <td>37068741</td>\n",
       "      <td>158184</td>\n",
       "      <td>42059</td>\n",
       "      <td>55</td>\n",
       "      <td>0.43</td>\n",
       "      <td>Europe</td>\n",
       "    </tr>\n",
       "    <tr>\n",
       "      <th>3</th>\n",
       "      <td>Germany</td>\n",
       "      <td>35784912</td>\n",
       "      <td>154328</td>\n",
       "      <td>35728277</td>\n",
       "      <td>154095</td>\n",
       "      <td>56635</td>\n",
       "      <td>233</td>\n",
       "      <td>0.43</td>\n",
       "      <td>Europe</td>\n",
       "    </tr>\n",
       "    <tr>\n",
       "      <th>4</th>\n",
       "      <td>Brazil</td>\n",
       "      <td>34846308</td>\n",
       "      <td>688267</td>\n",
       "      <td>34837035</td>\n",
       "      <td>688219</td>\n",
       "      <td>9273</td>\n",
       "      <td>48</td>\n",
       "      <td>1.98</td>\n",
       "      <td>South America</td>\n",
       "    </tr>\n",
       "  </tbody>\n",
       "</table>\n",
       "</div>"
      ],
      "text/plain": [
       "  Country/Region     Cases   Deaths    PCases  PDeaths  Cases (+)  Deaths (+)  \\\n",
       "0             US  97691083  1072222  97622089  1071649      68994         573   \n",
       "1          India  44658365   530479  44655926   530461       2439          18   \n",
       "2         France  37110800   158239  37068741   158184      42059          55   \n",
       "3        Germany  35784912   154328  35728277   154095      56635         233   \n",
       "4         Brazil  34846308   688267  34837035   688219       9273          48   \n",
       "\n",
       "   Fatality Rate      Continent  \n",
       "0           1.10  North America  \n",
       "1           1.19           Asia  \n",
       "2           0.43         Europe  \n",
       "3           0.43         Europe  \n",
       "4           1.98  South America  "
      ]
     },
     "execution_count": 13,
     "metadata": {},
     "output_type": "execute_result"
    }
   ],
   "source": [
    "#hide\n",
    "for c in 'Cases, Deaths'.split(', '):\n",
    "    df_table[f'{c} (+)'] = (df_table[c] - df_table[f'P{c}']).clip(0)\n",
    "    #Clip ça veut dire, les chiffres negatif sont interdit\n",
    "df_table['Fatality Rate'] = (100* df_table['Deaths']/ df_table['Cases']).round(2)\n",
    "df_table['Continent'] = df_table['Country/Region'].map(mapping['map.continent'])\n",
    "df_table.head(5)"
   ]
  },
  {
   "cell_type": "code",
   "execution_count": 14,
   "id": "aboriginal-bulgaria",
   "metadata": {
    "execution": {
     "iopub.execute_input": "2022-11-04T12:20:06.363944Z",
     "iopub.status.busy": "2022-11-04T12:20:06.363402Z",
     "iopub.status.idle": "2022-11-04T12:20:06.365712Z",
     "shell.execute_reply": "2022-11-04T12:20:06.365273Z"
    },
    "papermill": {
     "duration": 0.037334,
     "end_time": "2022-11-04T12:20:06.365805",
     "exception": false,
     "start_time": "2022-11-04T12:20:06.328471",
     "status": "completed"
    },
    "tags": []
   },
   "outputs": [],
   "source": [
    "#hide\n",
    "#delete problematic countries from table\n",
    "df_table = df_table[~df_table['Country/Region'].isin(['Cape Verde', 'Cruise Ship', 'Kosovo'])]"
   ]
  },
  {
   "cell_type": "code",
   "execution_count": 15,
   "id": "fantastic-effect",
   "metadata": {
    "execution": {
     "iopub.execute_input": "2022-11-04T12:20:06.433838Z",
     "iopub.status.busy": "2022-11-04T12:20:06.433291Z",
     "iopub.status.idle": "2022-11-04T12:20:06.449535Z",
     "shell.execute_reply": "2022-11-04T12:20:06.449988Z"
    },
    "papermill": {
     "duration": 0.053671,
     "end_time": "2022-11-04T12:20:06.450094",
     "exception": false,
     "start_time": "2022-11-04T12:20:06.396423",
     "status": "completed"
    },
    "tags": []
   },
   "outputs": [
    {
     "data": {
      "text/html": [
       "<div>\n",
       "<style scoped>\n",
       "    .dataframe tbody tr th:only-of-type {\n",
       "        vertical-align: middle;\n",
       "    }\n",
       "\n",
       "    .dataframe tbody tr th {\n",
       "        vertical-align: top;\n",
       "    }\n",
       "\n",
       "    .dataframe thead th {\n",
       "        text-align: right;\n",
       "    }\n",
       "</style>\n",
       "<table border=\"1\" class=\"dataframe\">\n",
       "  <thead>\n",
       "    <tr style=\"text-align: right;\">\n",
       "      <th></th>\n",
       "      <th>Country/Region</th>\n",
       "      <th>Cases</th>\n",
       "      <th>Deaths</th>\n",
       "      <th>PCases</th>\n",
       "      <th>PDeaths</th>\n",
       "      <th>Cases (+)</th>\n",
       "      <th>Deaths (+)</th>\n",
       "      <th>Fatality Rate</th>\n",
       "      <th>Continent</th>\n",
       "    </tr>\n",
       "  </thead>\n",
       "  <tbody>\n",
       "    <tr>\n",
       "      <th>0</th>\n",
       "      <td>US</td>\n",
       "      <td>97691083</td>\n",
       "      <td>1072222</td>\n",
       "      <td>97622089</td>\n",
       "      <td>1071649</td>\n",
       "      <td>68994</td>\n",
       "      <td>573</td>\n",
       "      <td>1.1</td>\n",
       "      <td>North America</td>\n",
       "    </tr>\n",
       "    <tr>\n",
       "      <th>1</th>\n",
       "      <td>India</td>\n",
       "      <td>44658365</td>\n",
       "      <td>530479</td>\n",
       "      <td>44655926</td>\n",
       "      <td>530461</td>\n",
       "      <td>2439</td>\n",
       "      <td>18</td>\n",
       "      <td>1.2</td>\n",
       "      <td>Asia</td>\n",
       "    </tr>\n",
       "    <tr>\n",
       "      <th>2</th>\n",
       "      <td>France</td>\n",
       "      <td>37110800</td>\n",
       "      <td>158239</td>\n",
       "      <td>37068741</td>\n",
       "      <td>158184</td>\n",
       "      <td>42059</td>\n",
       "      <td>55</td>\n",
       "      <td>0.4</td>\n",
       "      <td>Europe</td>\n",
       "    </tr>\n",
       "    <tr>\n",
       "      <th>3</th>\n",
       "      <td>Germany</td>\n",
       "      <td>35784912</td>\n",
       "      <td>154328</td>\n",
       "      <td>35728277</td>\n",
       "      <td>154095</td>\n",
       "      <td>56635</td>\n",
       "      <td>233</td>\n",
       "      <td>0.4</td>\n",
       "      <td>Europe</td>\n",
       "    </tr>\n",
       "    <tr>\n",
       "      <th>4</th>\n",
       "      <td>Brazil</td>\n",
       "      <td>34846308</td>\n",
       "      <td>688267</td>\n",
       "      <td>34837035</td>\n",
       "      <td>688219</td>\n",
       "      <td>9273</td>\n",
       "      <td>48</td>\n",
       "      <td>2.0</td>\n",
       "      <td>South America</td>\n",
       "    </tr>\n",
       "  </tbody>\n",
       "</table>\n",
       "</div>"
      ],
      "text/plain": [
       "  Country/Region     Cases   Deaths    PCases  PDeaths  Cases (+)  Deaths (+)  \\\n",
       "0             US  97691083  1072222  97622089  1071649      68994         573   \n",
       "1          India  44658365   530479  44655926   530461       2439          18   \n",
       "2         France  37110800   158239  37068741   158184      42059          55   \n",
       "3        Germany  35784912   154328  35728277   154095      56635         233   \n",
       "4         Brazil  34846308   688267  34837035   688219       9273          48   \n",
       "\n",
       "   Fatality Rate      Continent  \n",
       "0            1.1  North America  \n",
       "1            1.2           Asia  \n",
       "2            0.4         Europe  \n",
       "3            0.4         Europe  \n",
       "4            2.0  South America  "
      ]
     },
     "execution_count": 15,
     "metadata": {},
     "output_type": "execute_result"
    }
   ],
   "source": [
    "#hide\n",
    "df_table = (pd.DataFrame(dict(Cases=dfc_cases, Deaths=dfc_deaths, PCases=dfp_cases, PDeaths=dfp_deaths))\n",
    "             .sort_values(by=['Cases', 'Deaths'], ascending=[False, False])\n",
    "             .reset_index())\n",
    "df_table.rename(columns={'index': 'Country/Region'}, inplace=True)\n",
    "for c in 'Cases, Deaths'.split(', '):\n",
    "    df_table[f'{c} (+)'] = (df_table[c] - df_table[f'P{c}']).clip(0)  # DATA BUG\n",
    "df_table['Fatality Rate'] = (100 * df_table['Deaths'] / df_table['Cases']).round(1)\n",
    "df_table['Continent'] = df_table['Country/Region'].map(mapping['map.continent'])\n",
    "df_table.head(5)"
   ]
  },
  {
   "cell_type": "code",
   "execution_count": 16,
   "id": "fewer-occasion",
   "metadata": {
    "execution": {
     "iopub.execute_input": "2022-11-04T12:20:06.517119Z",
     "iopub.status.busy": "2022-11-04T12:20:06.516548Z",
     "iopub.status.idle": "2022-11-04T12:20:06.519037Z",
     "shell.execute_reply": "2022-11-04T12:20:06.518586Z"
    },
    "papermill": {
     "duration": 0.03781,
     "end_time": "2022-11-04T12:20:06.519148",
     "exception": false,
     "start_time": "2022-11-04T12:20:06.481338",
     "status": "completed"
    },
    "tags": []
   },
   "outputs": [],
   "source": [
    "#hide\n",
    "#delete problematic countries from table\n",
    "df_table = df_table[~df_table['Country/Region'].isin(['Cape Verde', 'Cruise Ship', 'Kosovo'])]"
   ]
  },
  {
   "cell_type": "code",
   "execution_count": 17,
   "id": "related-center",
   "metadata": {
    "execution": {
     "iopub.execute_input": "2022-11-04T12:20:06.587159Z",
     "iopub.status.busy": "2022-11-04T12:20:06.586582Z",
     "iopub.status.idle": "2022-11-04T12:20:06.599366Z",
     "shell.execute_reply": "2022-11-04T12:20:06.598909Z"
    },
    "papermill": {
     "duration": 0.049332,
     "end_time": "2022-11-04T12:20:06.599459",
     "exception": false,
     "start_time": "2022-11-04T12:20:06.550127",
     "status": "completed"
    },
    "tags": []
   },
   "outputs": [],
   "source": [
    "#hide\n",
    "metrics = [df_table.columns[index] for index in [1,2,5,6]]\n",
    "# s_china = df_table[df_table['Country/Region'].eq('China')][metrics].sum().add_prefix('China ')\n",
    "s_us = df_table[df_table['Country/Region'].eq('US')][metrics].sum().add_prefix('US ')\n",
    "s_eu = df_table[df_table['Continent'].eq('Europe')][metrics].sum().add_prefix('EU ')\n",
    "s_ind = df_table[df_table['Country/Region'].eq('India')][metrics].sum().add_prefix('India ')\n",
    "summary = {'updated': pd.to_datetime(dt_today), 'since': pd.to_datetime(dt_yday)}\n",
    "summary = {'updated': pd.to_datetime(dt_today), 'since': pd.to_datetime(dt_yday)}\n",
    "summary = {**summary, **df_table[metrics].sum(), **s_ind, **s_us, **s_eu}"
   ]
  },
  {
   "cell_type": "code",
   "execution_count": 18,
   "id": "engaging-syndrome",
   "metadata": {
    "execution": {
     "iopub.execute_input": "2022-11-04T12:20:06.666236Z",
     "iopub.status.busy": "2022-11-04T12:20:06.665665Z",
     "iopub.status.idle": "2022-11-04T12:20:06.685230Z",
     "shell.execute_reply": "2022-11-04T12:20:06.685651Z"
    },
    "papermill": {
     "duration": 0.055127,
     "end_time": "2022-11-04T12:20:06.685767",
     "exception": false,
     "start_time": "2022-11-04T12:20:06.630640",
     "status": "completed"
    },
    "tags": []
   },
   "outputs": [],
   "source": [
    "#hide\n",
    "dft_ct_new_cases = dft_cases.groupby(COL_REGION)[dt_cols].sum().diff(axis=1).fillna(0).astype(int)"
   ]
  },
  {
   "cell_type": "code",
   "execution_count": 19,
   "id": "neutral-assignment",
   "metadata": {
    "execution": {
     "iopub.execute_input": "2022-11-04T12:20:06.753055Z",
     "iopub.status.busy": "2022-11-04T12:20:06.752503Z",
     "iopub.status.idle": "2022-11-04T12:20:06.754378Z",
     "shell.execute_reply": "2022-11-04T12:20:06.754808Z"
    },
    "papermill": {
     "duration": 0.038093,
     "end_time": "2022-11-04T12:20:06.754916",
     "exception": false,
     "start_time": "2022-11-04T12:20:06.716823",
     "status": "completed"
    },
    "tags": []
   },
   "outputs": [],
   "source": [
    "#hide\n",
    "everydaycases = dft_ct_new_cases.cumsum(axis=1)"
   ]
  },
  {
   "cell_type": "code",
   "execution_count": 20,
   "id": "parliamentary-calgary",
   "metadata": {
    "execution": {
     "iopub.execute_input": "2022-11-04T12:20:06.820776Z",
     "iopub.status.busy": "2022-11-04T12:20:06.820219Z",
     "iopub.status.idle": "2022-11-04T12:20:07.350462Z",
     "shell.execute_reply": "2022-11-04T12:20:07.349993Z"
    },
    "papermill": {
     "duration": 0.564535,
     "end_time": "2022-11-04T12:20:07.350577",
     "exception": false,
     "start_time": "2022-11-04T12:20:06.786042",
     "status": "completed"
    },
    "tags": []
   },
   "outputs": [],
   "source": [
    "#hide\n",
    "import pandas as pd\n",
    "import matplotlib.pyplot as plt\n",
    "import matplotlib.ticker as ticker\n",
    "import matplotlib.animation as animation\n",
    "from IPython.display import HTML"
   ]
  },
  {
   "cell_type": "code",
   "execution_count": 21,
   "id": "lasting-extraction",
   "metadata": {
    "execution": {
     "iopub.execute_input": "2022-11-04T12:20:07.419019Z",
     "iopub.status.busy": "2022-11-04T12:20:07.418466Z",
     "iopub.status.idle": "2022-11-04T12:20:07.425545Z",
     "shell.execute_reply": "2022-11-04T12:20:07.426057Z"
    },
    "papermill": {
     "duration": 0.044249,
     "end_time": "2022-11-04T12:20:07.426173",
     "exception": false,
     "start_time": "2022-11-04T12:20:07.381924",
     "status": "completed"
    },
    "tags": []
   },
   "outputs": [],
   "source": [
    "#hide\n",
    "t = everydaycases.stack()"
   ]
  },
  {
   "cell_type": "code",
   "execution_count": 22,
   "id": "premier-sleeve",
   "metadata": {
    "execution": {
     "iopub.execute_input": "2022-11-04T12:20:07.492623Z",
     "iopub.status.busy": "2022-11-04T12:20:07.492068Z",
     "iopub.status.idle": "2022-11-04T12:20:07.503788Z",
     "shell.execute_reply": "2022-11-04T12:20:07.503347Z"
    },
    "papermill": {
     "duration": 0.046462,
     "end_time": "2022-11-04T12:20:07.503894",
     "exception": false,
     "start_time": "2022-11-04T12:20:07.457432",
     "status": "completed"
    },
    "tags": []
   },
   "outputs": [],
   "source": [
    "#hide\n",
    "g = t.reset_index(['Country/Region'])"
   ]
  },
  {
   "cell_type": "code",
   "execution_count": 23,
   "id": "distributed-pittsburgh",
   "metadata": {
    "execution": {
     "iopub.execute_input": "2022-11-04T12:20:07.569638Z",
     "iopub.status.busy": "2022-11-04T12:20:07.569047Z",
     "iopub.status.idle": "2022-11-04T12:20:07.571753Z",
     "shell.execute_reply": "2022-11-04T12:20:07.572167Z"
    },
    "papermill": {
     "duration": 0.037278,
     "end_time": "2022-11-04T12:20:07.572283",
     "exception": false,
     "start_time": "2022-11-04T12:20:07.535005",
     "status": "completed"
    },
    "tags": []
   },
   "outputs": [],
   "source": [
    "#hide\n",
    "g.index.name = 'date'"
   ]
  },
  {
   "cell_type": "code",
   "execution_count": 24,
   "id": "naked-donor",
   "metadata": {
    "execution": {
     "iopub.execute_input": "2022-11-04T12:20:07.637818Z",
     "iopub.status.busy": "2022-11-04T12:20:07.637257Z",
     "iopub.status.idle": "2022-11-04T12:20:07.639729Z",
     "shell.execute_reply": "2022-11-04T12:20:07.639205Z"
    },
    "papermill": {
     "duration": 0.036372,
     "end_time": "2022-11-04T12:20:07.639825",
     "exception": false,
     "start_time": "2022-11-04T12:20:07.603453",
     "status": "completed"
    },
    "tags": []
   },
   "outputs": [],
   "source": [
    "# #hide\n",
    "# g = g.reset_index(['date'])"
   ]
  },
  {
   "cell_type": "code",
   "execution_count": 25,
   "id": "incomplete-mustang",
   "metadata": {
    "execution": {
     "iopub.execute_input": "2022-11-04T12:20:07.705178Z",
     "iopub.status.busy": "2022-11-04T12:20:07.704635Z",
     "iopub.status.idle": "2022-11-04T12:20:07.706960Z",
     "shell.execute_reply": "2022-11-04T12:20:07.706459Z"
    },
    "papermill": {
     "duration": 0.036139,
     "end_time": "2022-11-04T12:20:07.707053",
     "exception": false,
     "start_time": "2022-11-04T12:20:07.670914",
     "status": "completed"
    },
    "tags": []
   },
   "outputs": [],
   "source": [
    "#hide\n",
    "# g.head()"
   ]
  },
  {
   "cell_type": "code",
   "execution_count": 26,
   "id": "specific-kruger",
   "metadata": {
    "execution": {
     "iopub.execute_input": "2022-11-04T12:20:07.772468Z",
     "iopub.status.busy": "2022-11-04T12:20:07.771920Z",
     "iopub.status.idle": "2022-11-04T12:20:07.774231Z",
     "shell.execute_reply": "2022-11-04T12:20:07.773698Z"
    },
    "papermill": {
     "duration": 0.036032,
     "end_time": "2022-11-04T12:20:07.774327",
     "exception": false,
     "start_time": "2022-11-04T12:20:07.738295",
     "status": "completed"
    },
    "tags": []
   },
   "outputs": [],
   "source": [
    "#hide\n",
    "# g.columns = ['date','country','cases']"
   ]
  },
  {
   "cell_type": "code",
   "execution_count": 27,
   "id": "tender-conversion",
   "metadata": {
    "execution": {
     "iopub.execute_input": "2022-11-04T12:20:07.839715Z",
     "iopub.status.busy": "2022-11-04T12:20:07.839137Z",
     "iopub.status.idle": "2022-11-04T12:20:07.841577Z",
     "shell.execute_reply": "2022-11-04T12:20:07.841143Z"
    },
    "papermill": {
     "duration": 0.036224,
     "end_time": "2022-11-04T12:20:07.841671",
     "exception": false,
     "start_time": "2022-11-04T12:20:07.805447",
     "status": "completed"
    },
    "tags": []
   },
   "outputs": [],
   "source": [
    "#hide\n",
    "# g['continent'] = g.country"
   ]
  },
  {
   "cell_type": "code",
   "execution_count": 28,
   "id": "substantial-wilderness",
   "metadata": {
    "execution": {
     "iopub.execute_input": "2022-11-04T12:20:07.907664Z",
     "iopub.status.busy": "2022-11-04T12:20:07.907061Z",
     "iopub.status.idle": "2022-11-04T12:20:07.909492Z",
     "shell.execute_reply": "2022-11-04T12:20:07.909057Z"
    },
    "papermill": {
     "duration": 0.036263,
     "end_time": "2022-11-04T12:20:07.909585",
     "exception": false,
     "start_time": "2022-11-04T12:20:07.873322",
     "status": "completed"
    },
    "tags": []
   },
   "outputs": [],
   "source": [
    "#hide\n",
    "# cols = list(g.columns.values)"
   ]
  },
  {
   "cell_type": "code",
   "execution_count": 29,
   "id": "solved-farming",
   "metadata": {
    "execution": {
     "iopub.execute_input": "2022-11-04T12:20:07.974811Z",
     "iopub.status.busy": "2022-11-04T12:20:07.974254Z",
     "iopub.status.idle": "2022-11-04T12:20:07.976681Z",
     "shell.execute_reply": "2022-11-04T12:20:07.976162Z"
    },
    "papermill": {
     "duration": 0.036247,
     "end_time": "2022-11-04T12:20:07.976775",
     "exception": false,
     "start_time": "2022-11-04T12:20:07.940528",
     "status": "completed"
    },
    "tags": []
   },
   "outputs": [],
   "source": [
    "#hide\n",
    "# cols.insert(0, cols.pop())"
   ]
  },
  {
   "cell_type": "code",
   "execution_count": 30,
   "id": "executed-adoption",
   "metadata": {
    "execution": {
     "iopub.execute_input": "2022-11-04T12:20:08.042242Z",
     "iopub.status.busy": "2022-11-04T12:20:08.041668Z",
     "iopub.status.idle": "2022-11-04T12:20:08.044162Z",
     "shell.execute_reply": "2022-11-04T12:20:08.043726Z"
    },
    "papermill": {
     "duration": 0.036367,
     "end_time": "2022-11-04T12:20:08.044253",
     "exception": false,
     "start_time": "2022-11-04T12:20:08.007886",
     "status": "completed"
    },
    "tags": []
   },
   "outputs": [],
   "source": [
    "#hide\n",
    "# g = g[cols]"
   ]
  },
  {
   "cell_type": "code",
   "execution_count": 31,
   "id": "subject-dublin",
   "metadata": {
    "execution": {
     "iopub.execute_input": "2022-11-04T12:20:08.109578Z",
     "iopub.status.busy": "2022-11-04T12:20:08.109030Z",
     "iopub.status.idle": "2022-11-04T12:20:08.111384Z",
     "shell.execute_reply": "2022-11-04T12:20:08.110926Z"
    },
    "papermill": {
     "duration": 0.036075,
     "end_time": "2022-11-04T12:20:08.111477",
     "exception": false,
     "start_time": "2022-11-04T12:20:08.075402",
     "status": "completed"
    },
    "tags": []
   },
   "outputs": [],
   "source": [
    "#hide\n",
    "# g['continent'] = g['continent'].map(mapping['map.continent'])"
   ]
  },
  {
   "cell_type": "code",
   "execution_count": 32,
   "id": "freelance-scout",
   "metadata": {
    "execution": {
     "iopub.execute_input": "2022-11-04T12:20:08.176939Z",
     "iopub.status.busy": "2022-11-04T12:20:08.176380Z",
     "iopub.status.idle": "2022-11-04T12:20:08.178791Z",
     "shell.execute_reply": "2022-11-04T12:20:08.178345Z"
    },
    "papermill": {
     "duration": 0.036232,
     "end_time": "2022-11-04T12:20:08.178885",
     "exception": false,
     "start_time": "2022-11-04T12:20:08.142653",
     "status": "completed"
    },
    "tags": []
   },
   "outputs": [],
   "source": [
    "#hide\n",
    "# g.head()"
   ]
  },
  {
   "cell_type": "code",
   "execution_count": 33,
   "id": "limited-engine",
   "metadata": {
    "execution": {
     "iopub.execute_input": "2022-11-04T12:20:08.244148Z",
     "iopub.status.busy": "2022-11-04T12:20:08.243597Z",
     "iopub.status.idle": "2022-11-04T12:20:08.245915Z",
     "shell.execute_reply": "2022-11-04T12:20:08.245484Z"
    },
    "papermill": {
     "duration": 0.0361,
     "end_time": "2022-11-04T12:20:08.246006",
     "exception": false,
     "start_time": "2022-11-04T12:20:08.209906",
     "status": "completed"
    },
    "tags": []
   },
   "outputs": [],
   "source": [
    "# hide\n",
    "# g['date'] = g['date'].astype('datetime64[ns]')"
   ]
  },
  {
   "cell_type": "code",
   "execution_count": 34,
   "id": "sophisticated-supervisor",
   "metadata": {
    "execution": {
     "iopub.execute_input": "2022-11-04T12:20:08.311984Z",
     "iopub.status.busy": "2022-11-04T12:20:08.311410Z",
     "iopub.status.idle": "2022-11-04T12:20:08.313751Z",
     "shell.execute_reply": "2022-11-04T12:20:08.313229Z"
    },
    "papermill": {
     "duration": 0.036539,
     "end_time": "2022-11-04T12:20:08.313843",
     "exception": false,
     "start_time": "2022-11-04T12:20:08.277304",
     "status": "completed"
    },
    "tags": []
   },
   "outputs": [],
   "source": [
    "#hide\n",
    "# g['date'] = g.date.dt.dayofyear"
   ]
  },
  {
   "cell_type": "code",
   "execution_count": 35,
   "id": "inside-dubai",
   "metadata": {
    "execution": {
     "iopub.execute_input": "2022-11-04T12:20:08.379207Z",
     "iopub.status.busy": "2022-11-04T12:20:08.378617Z",
     "iopub.status.idle": "2022-11-04T12:20:08.381063Z",
     "shell.execute_reply": "2022-11-04T12:20:08.380545Z"
    },
    "papermill": {
     "duration": 0.03616,
     "end_time": "2022-11-04T12:20:08.381156",
     "exception": false,
     "start_time": "2022-11-04T12:20:08.344996",
     "status": "completed"
    },
    "tags": []
   },
   "outputs": [],
   "source": [
    "#hide\n",
    "# g = g.rename(columns= {'continent':'group','country':'name','cases':'value'})"
   ]
  },
  {
   "cell_type": "code",
   "execution_count": 36,
   "id": "fleet-motorcycle",
   "metadata": {
    "execution": {
     "iopub.execute_input": "2022-11-04T12:20:08.446855Z",
     "iopub.status.busy": "2022-11-04T12:20:08.446302Z",
     "iopub.status.idle": "2022-11-04T12:20:08.448684Z",
     "shell.execute_reply": "2022-11-04T12:20:08.448160Z"
    },
    "papermill": {
     "duration": 0.036484,
     "end_time": "2022-11-04T12:20:08.448778",
     "exception": false,
     "start_time": "2022-11-04T12:20:08.412294",
     "status": "completed"
    },
    "tags": []
   },
   "outputs": [],
   "source": [
    "#hide\n",
    "# cols = ['name','group','day','value']"
   ]
  },
  {
   "cell_type": "code",
   "execution_count": 37,
   "id": "continued-sleeping",
   "metadata": {
    "execution": {
     "iopub.execute_input": "2022-11-04T12:20:08.514537Z",
     "iopub.status.busy": "2022-11-04T12:20:08.513968Z",
     "iopub.status.idle": "2022-11-04T12:20:08.516354Z",
     "shell.execute_reply": "2022-11-04T12:20:08.515834Z"
    },
    "papermill": {
     "duration": 0.036538,
     "end_time": "2022-11-04T12:20:08.516449",
     "exception": false,
     "start_time": "2022-11-04T12:20:08.479911",
     "status": "completed"
    },
    "tags": []
   },
   "outputs": [],
   "source": [
    "#hide\n",
    "# g.rename(columns= {'date':'day'},inplace = True)"
   ]
  },
  {
   "cell_type": "code",
   "execution_count": 38,
   "id": "major-fight",
   "metadata": {
    "execution": {
     "iopub.execute_input": "2022-11-04T12:20:08.582318Z",
     "iopub.status.busy": "2022-11-04T12:20:08.581741Z",
     "iopub.status.idle": "2022-11-04T12:20:08.584064Z",
     "shell.execute_reply": "2022-11-04T12:20:08.583543Z"
    },
    "papermill": {
     "duration": 0.036546,
     "end_time": "2022-11-04T12:20:08.584157",
     "exception": false,
     "start_time": "2022-11-04T12:20:08.547611",
     "status": "completed"
    },
    "tags": []
   },
   "outputs": [],
   "source": [
    "#hide\n",
    "# g = g[cols]"
   ]
  },
  {
   "cell_type": "code",
   "execution_count": 39,
   "id": "structured-mobile",
   "metadata": {
    "execution": {
     "iopub.execute_input": "2022-11-04T12:20:08.650479Z",
     "iopub.status.busy": "2022-11-04T12:20:08.649917Z",
     "iopub.status.idle": "2022-11-04T12:20:08.652303Z",
     "shell.execute_reply": "2022-11-04T12:20:08.651786Z"
    },
    "papermill": {
     "duration": 0.036307,
     "end_time": "2022-11-04T12:20:08.652397",
     "exception": false,
     "start_time": "2022-11-04T12:20:08.616090",
     "status": "completed"
    },
    "tags": []
   },
   "outputs": [],
   "source": [
    "# #hide\n",
    "# g = g[g.group.notna()]"
   ]
  },
  {
   "cell_type": "code",
   "execution_count": 40,
   "id": "determined-closing",
   "metadata": {
    "execution": {
     "iopub.execute_input": "2022-11-04T12:20:08.718131Z",
     "iopub.status.busy": "2022-11-04T12:20:08.717561Z",
     "iopub.status.idle": "2022-11-04T12:20:08.719947Z",
     "shell.execute_reply": "2022-11-04T12:20:08.719403Z"
    },
    "papermill": {
     "duration": 0.036375,
     "end_time": "2022-11-04T12:20:08.720042",
     "exception": false,
     "start_time": "2022-11-04T12:20:08.683667",
     "status": "completed"
    },
    "tags": []
   },
   "outputs": [],
   "source": [
    "# #hide\n",
    "# colors = dict(zip(\n",
    "#     [\"Oceania\", \"Europe\", \"Asia\", \"South America\", \"Middle East\", \"North America\", \"Africa\"],\n",
    "#     [\"#adb0ff\", \"#ffb3ff\", \"#90d595\", \"#e48381\", \"#aafbff\", \"#f7bb5f\", \"#eafb50\"]\n",
    "# ))\n",
    "# group_lk = g.set_index('name')['group'].to_dict()"
   ]
  },
  {
   "cell_type": "code",
   "execution_count": null,
   "id": "gross-drinking",
   "metadata": {
    "papermill": {
     "duration": 0.031081,
     "end_time": "2022-11-04T12:20:08.782166",
     "exception": false,
     "start_time": "2022-11-04T12:20:08.751085",
     "status": "completed"
    },
    "tags": []
   },
   "outputs": [],
   "source": []
  },
  {
   "cell_type": "code",
   "execution_count": 41,
   "id": "subject-macintosh",
   "metadata": {
    "execution": {
     "iopub.execute_input": "2022-11-04T12:20:08.848377Z",
     "iopub.status.busy": "2022-11-04T12:20:08.847803Z",
     "iopub.status.idle": "2022-11-04T12:20:08.849990Z",
     "shell.execute_reply": "2022-11-04T12:20:08.849471Z"
    },
    "papermill": {
     "duration": 0.036732,
     "end_time": "2022-11-04T12:20:08.850085",
     "exception": false,
     "start_time": "2022-11-04T12:20:08.813353",
     "status": "completed"
    },
    "tags": []
   },
   "outputs": [],
   "source": [
    "# #hide\n",
    "# fig, ax = plt.subplots(figsize=(15, 8))\n",
    "\n",
    "# def draw_barchart(current_day):\n",
    "#     dff = g[g['day'].eq(current_day)].sort_values(by='value', ascending=True).tail(10)\n",
    "#     ax.clear()\n",
    "#     ax.barh(dff['name'], dff['value'], color=[colors[group_lk[x]] for x in dff['name']])\n",
    "#     dx = dff['value'].max() / 200\n",
    "    \n",
    "#     for i, (value, name) in enumerate(zip(dff['value'], dff['name'])):\n",
    "#         ax.text(value-dx, i,     name,           size=14, weight=600, ha='right', va='bottom')\n",
    "#         ax.text(value-dx, i-.25, group_lk[name], size=10, color='#444444', ha='right', va='baseline')\n",
    "#         ax.text(value+dx, i,     f'{value:,.0f}',  size=14, ha='left',  va='center')\n",
    "#     ax.text(1, 0.4, current_day, transform=ax.transAxes, color='#777777', size=46, ha='right', weight=800)\n",
    "#     ax.text(0, 1.06, 'Population (thousands)', transform=ax.transAxes, size=12, color='#777777')\n",
    "#     ax.xaxis.set_major_formatter(ticker.StrMethodFormatter('{x:,.0f}'))\n",
    "#     ax.xaxis.set_ticks_position('top')\n",
    "#     ax.tick_params(axis='x', colors='#777777', labelsize=12)\n",
    "#     ax.set_yticks([])\n",
    "#     ax.margins(0, 0.01)\n",
    "#     ax.grid(which='major', axis='x', linestyle='-')\n",
    "#     ax.set_axisbelow(True)\n",
    "    \n",
    "#     ax.text(0, 1.15, 'Coronavirus',\n",
    "#             transform=ax.transAxes, size=24, weight=600, ha='left', va='top')\n",
    "# #     ax.text(1, 0, 'by @pratapvardhan; credit @jburnmurdoch', transform=ax.transAxes, color='#777777', ha='right',\n",
    "# #             bbox=dict(facecolor='white', alpha=0.8, edgecolor='white'))\n",
    "#     plt.box(False)"
   ]
  },
  {
   "cell_type": "code",
   "execution_count": 42,
   "id": "sexual-wages",
   "metadata": {
    "execution": {
     "iopub.execute_input": "2022-11-04T12:20:08.916177Z",
     "iopub.status.busy": "2022-11-04T12:20:08.915624Z",
     "iopub.status.idle": "2022-11-04T12:20:08.919058Z",
     "shell.execute_reply": "2022-11-04T12:20:08.919485Z"
    },
    "papermill": {
     "duration": 0.037936,
     "end_time": "2022-11-04T12:20:08.919600",
     "exception": false,
     "start_time": "2022-11-04T12:20:08.881664",
     "status": "completed"
    },
    "tags": []
   },
   "outputs": [],
   "source": [
    "# #hide_input\n",
    "# fig, ax = plt.subplots(figsize=(15, 8))\n",
    "# animator = animation.FuncAnimation(fig, draw_barchart, frames=range(g.day.values.min(), g.day.values.max()))\n",
    "# HTML(animator.to_jshtml())\n",
    "# # or use animator.to_html5_video() or animator.save() "
   ]
  },
  {
   "cell_type": "code",
   "execution_count": null,
   "id": "australian-container",
   "metadata": {
    "papermill": {
     "duration": 0.030944,
     "end_time": "2022-11-04T12:20:08.981753",
     "exception": false,
     "start_time": "2022-11-04T12:20:08.950809",
     "status": "completed"
    },
    "tags": []
   },
   "outputs": [],
   "source": []
  },
  {
   "cell_type": "code",
   "execution_count": null,
   "id": "mediterranean-pontiac",
   "metadata": {
    "papermill": {
     "duration": 0.030928,
     "end_time": "2022-11-04T12:20:09.043775",
     "exception": false,
     "start_time": "2022-11-04T12:20:09.012847",
     "status": "completed"
    },
    "tags": []
   },
   "outputs": [],
   "source": []
  },
  {
   "cell_type": "code",
   "execution_count": null,
   "id": "aging-legislature",
   "metadata": {
    "papermill": {
     "duration": 0.030989,
     "end_time": "2022-11-04T12:20:09.105963",
     "exception": false,
     "start_time": "2022-11-04T12:20:09.074974",
     "status": "completed"
    },
    "tags": []
   },
   "outputs": [],
   "source": []
  }
 ],
 "metadata": {
  "kernelspec": {
   "display_name": "Python 3",
   "language": "python",
   "name": "python3"
  },
  "language_info": {
   "codemirror_mode": {
    "name": "ipython",
    "version": 3
   },
   "file_extension": ".py",
   "mimetype": "text/x-python",
   "name": "python",
   "nbconvert_exporter": "python",
   "pygments_lexer": "ipython3",
   "version": "3.6.15"
  },
  "papermill": {
   "duration": 5.8864,
   "end_time": "2022-11-04T12:20:09.454962",
   "environment_variables": {},
   "exception": null,
   "input_path": "2020-03-21-covid19exp.ipynb",
   "output_path": "2020-03-21-covid19exp.ipynb",
   "parameters": {},
   "start_time": "2022-11-04T12:20:03.568562",
   "version": "2.0.0"
  }
 },
 "nbformat": 4,
 "nbformat_minor": 5
}