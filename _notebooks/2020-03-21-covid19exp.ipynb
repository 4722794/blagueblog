{
 "cells": [
  {
   "cell_type": "markdown",
   "id": "muslim-click",
   "metadata": {
    "papermill": {
     "duration": 0.050027,
     "end_time": "2021-04-22T12:05:10.537960",
     "exception": false,
     "start_time": "2021-04-22T12:05:10.487933",
     "status": "completed"
    },
    "tags": []
   },
   "source": [
    "# COVID-19 Case Race\n",
    "> A race chart to see rising cases around the world\n",
    "\n",
    "- author: Hargun Oberoi\n",
    "- image: images/covid-overview.png\n",
    "- hide: false\n",
    "- badges: false"
   ]
  },
  {
   "cell_type": "code",
   "execution_count": 1,
   "id": "proof-material",
   "metadata": {
    "execution": {
     "iopub.execute_input": "2021-04-22T12:05:10.628692Z",
     "iopub.status.busy": "2021-04-22T12:05:10.627943Z",
     "iopub.status.idle": "2021-04-22T12:05:11.016721Z",
     "shell.execute_reply": "2021-04-22T12:05:11.017310Z"
    },
    "papermill": {
     "duration": 0.440307,
     "end_time": "2021-04-22T12:05:11.017503",
     "exception": false,
     "start_time": "2021-04-22T12:05:10.577196",
     "status": "completed"
    },
    "tags": []
   },
   "outputs": [],
   "source": [
    "#hide\n",
    "import numpy as np\n",
    "import pandas as pd\n",
    "from jinja2 import Template\n",
    "from IPython.display import HTML"
   ]
  },
  {
   "cell_type": "code",
   "execution_count": 2,
   "id": "developed-terminology",
   "metadata": {
    "execution": {
     "iopub.execute_input": "2021-04-22T12:05:11.113914Z",
     "iopub.status.busy": "2021-04-22T12:05:11.113114Z",
     "iopub.status.idle": "2021-04-22T12:05:11.115078Z",
     "shell.execute_reply": "2021-04-22T12:05:11.115694Z"
    },
    "papermill": {
     "duration": 0.057796,
     "end_time": "2021-04-22T12:05:11.115857",
     "exception": false,
     "start_time": "2021-04-22T12:05:11.058061",
     "status": "completed"
    },
    "tags": []
   },
   "outputs": [],
   "source": [
    "#hide\n",
    "\n",
    "# FETCH\n",
    "base_url = 'https://raw.githubusercontent.com/pratapvardhan/notebooks/master/covid19/'\n",
    "paths = {\n",
    "    'mapping': base_url + 'mapping_countries.csv',\n",
    "    'overview': base_url + 'overview.tpl'\n",
    "}"
   ]
  },
  {
   "cell_type": "code",
   "execution_count": 3,
   "id": "dynamic-saver",
   "metadata": {
    "execution": {
     "iopub.execute_input": "2021-04-22T12:05:11.208723Z",
     "iopub.status.busy": "2021-04-22T12:05:11.208070Z",
     "iopub.status.idle": "2021-04-22T12:05:11.211544Z",
     "shell.execute_reply": "2021-04-22T12:05:11.210901Z"
    },
    "papermill": {
     "duration": 0.056496,
     "end_time": "2021-04-22T12:05:11.211684",
     "exception": false,
     "start_time": "2021-04-22T12:05:11.155188",
     "status": "completed"
    },
    "tags": []
   },
   "outputs": [
    {
     "data": {
      "text/plain": [
       "'https://raw.githubusercontent.com/pratapvardhan/notebooks/master/covid19/mapping_countries.csv'"
      ]
     },
     "execution_count": 3,
     "metadata": {},
     "output_type": "execute_result"
    }
   ],
   "source": [
    "#hide\n",
    "paths['mapping']"
   ]
  },
  {
   "cell_type": "code",
   "execution_count": 4,
   "id": "urban-software",
   "metadata": {
    "execution": {
     "iopub.execute_input": "2021-04-22T12:05:11.301127Z",
     "iopub.status.busy": "2021-04-22T12:05:11.300396Z",
     "iopub.status.idle": "2021-04-22T12:05:11.303282Z",
     "shell.execute_reply": "2021-04-22T12:05:11.302686Z"
    },
    "papermill": {
     "duration": 0.050316,
     "end_time": "2021-04-22T12:05:11.303411",
     "exception": false,
     "start_time": "2021-04-22T12:05:11.253095",
     "status": "completed"
    },
    "tags": []
   },
   "outputs": [],
   "source": [
    "#hide\n",
    "def get_mappings(url):\n",
    "    df = pd.read_csv(url)\n",
    "    return {\n",
    "        'df': df,\n",
    "        'replace.country': dict(df.dropna(subset=['Name']).set_index('Country')['Name']),\n",
    "        'map.continent': dict(df.set_index('Name')['Continent'])\n",
    "    }"
   ]
  },
  {
   "cell_type": "code",
   "execution_count": 5,
   "id": "intimate-machinery",
   "metadata": {
    "execution": {
     "iopub.execute_input": "2021-04-22T12:05:11.385225Z",
     "iopub.status.busy": "2021-04-22T12:05:11.384580Z",
     "iopub.status.idle": "2021-04-22T12:05:11.428112Z",
     "shell.execute_reply": "2021-04-22T12:05:11.428627Z"
    },
    "papermill": {
     "duration": 0.087672,
     "end_time": "2021-04-22T12:05:11.428787",
     "exception": false,
     "start_time": "2021-04-22T12:05:11.341115",
     "status": "completed"
    },
    "tags": []
   },
   "outputs": [],
   "source": [
    "#hide\n",
    "mapping = get_mappings(paths['mapping'])"
   ]
  },
  {
   "cell_type": "code",
   "execution_count": 6,
   "id": "certified-tactics",
   "metadata": {
    "execution": {
     "iopub.execute_input": "2021-04-22T12:05:11.518784Z",
     "iopub.status.busy": "2021-04-22T12:05:11.518129Z",
     "iopub.status.idle": "2021-04-22T12:05:11.520056Z",
     "shell.execute_reply": "2021-04-22T12:05:11.520700Z"
    },
    "papermill": {
     "duration": 0.050136,
     "end_time": "2021-04-22T12:05:11.520833",
     "exception": false,
     "start_time": "2021-04-22T12:05:11.470697",
     "status": "completed"
    },
    "tags": []
   },
   "outputs": [],
   "source": [
    "#hide\n",
    "def get_template(path):\n",
    "    from urllib.parse import urlparse\n",
    "    if bool(urlparse(path).netloc):\n",
    "        from urllib.request import urlopen\n",
    "        return urlopen(path).read().decode('utf8')\n",
    "    return open(path).read()"
   ]
  },
  {
   "cell_type": "code",
   "execution_count": 7,
   "id": "realistic-blast",
   "metadata": {
    "execution": {
     "iopub.execute_input": "2021-04-22T12:05:11.606312Z",
     "iopub.status.busy": "2021-04-22T12:05:11.605622Z",
     "iopub.status.idle": "2021-04-22T12:05:11.608107Z",
     "shell.execute_reply": "2021-04-22T12:05:11.607548Z"
    },
    "papermill": {
     "duration": 0.049031,
     "end_time": "2021-04-22T12:05:11.608227",
     "exception": false,
     "start_time": "2021-04-22T12:05:11.559196",
     "status": "completed"
    },
    "tags": []
   },
   "outputs": [],
   "source": [
    "#hide\n",
    "def get_frame(name):\n",
    "    url = (\n",
    "        'https://raw.githubusercontent.com/CSSEGISandData/COVID-19/master/csse_covid_19_data/'\n",
    "        f'csse_covid_19_time_series/time_series_covid19_{name}_global.csv')\n",
    "    df = pd.read_csv(url)\n",
    "    # rename countries\n",
    "    df['Country/Region'] = df['Country/Region'].replace(mapping['replace.country'])\n",
    "    return df"
   ]
  },
  {
   "cell_type": "code",
   "execution_count": 8,
   "id": "affiliated-characterization",
   "metadata": {
    "execution": {
     "iopub.execute_input": "2021-04-22T12:05:11.694693Z",
     "iopub.status.busy": "2021-04-22T12:05:11.693916Z",
     "iopub.status.idle": "2021-04-22T12:05:11.696612Z",
     "shell.execute_reply": "2021-04-22T12:05:11.696034Z"
    },
    "papermill": {
     "duration": 0.048734,
     "end_time": "2021-04-22T12:05:11.696732",
     "exception": false,
     "start_time": "2021-04-22T12:05:11.647998",
     "status": "completed"
    },
    "tags": []
   },
   "outputs": [],
   "source": [
    "#hide\n",
    "def get_dates(df):\n",
    "    dt_cols = df.columns[~df.columns.isin(['Province/State', 'Country/Region', 'Lat', 'Long'])]\n",
    "    LAST_DATE_I = -1\n",
    "    # sometimes last column may be empty, then go backwards\n",
    "    for i in range(-1, -len(dt_cols), -1):\n",
    "        if not df[dt_cols[i]].fillna(0).eq(0).all():\n",
    "            LAST_DATE_I = i\n",
    "            break\n",
    "    return LAST_DATE_I, dt_cols"
   ]
  },
  {
   "cell_type": "code",
   "execution_count": 9,
   "id": "recent-optimization",
   "metadata": {
    "execution": {
     "iopub.execute_input": "2021-04-22T12:05:11.783202Z",
     "iopub.status.busy": "2021-04-22T12:05:11.782396Z",
     "iopub.status.idle": "2021-04-22T12:05:12.198803Z",
     "shell.execute_reply": "2021-04-22T12:05:12.198191Z"
    },
    "papermill": {
     "duration": 0.461822,
     "end_time": "2021-04-22T12:05:12.198965",
     "exception": false,
     "start_time": "2021-04-22T12:05:11.737143",
     "status": "completed"
    },
    "tags": []
   },
   "outputs": [],
   "source": [
    "#hide\n",
    "COL_REGION = 'Country/Region'\n",
    "# Confirmed, Recovered, Deaths\n",
    "df = get_frame('confirmed')\n",
    "# dft_: timeseries, dfc_: today country agg\n",
    "dft_cases = df\n",
    "dft_deaths = get_frame('deaths')\n",
    "dft_recovered = get_frame('recovered')\n",
    "LAST_DATE_I, dt_cols = get_dates(df)"
   ]
  },
  {
   "cell_type": "code",
   "execution_count": 10,
   "id": "absolute-copper",
   "metadata": {
    "execution": {
     "iopub.execute_input": "2021-04-22T12:05:12.289878Z",
     "iopub.status.busy": "2021-04-22T12:05:12.289062Z",
     "iopub.status.idle": "2021-04-22T12:05:12.291734Z",
     "shell.execute_reply": "2021-04-22T12:05:12.291053Z"
    },
    "papermill": {
     "duration": 0.04802,
     "end_time": "2021-04-22T12:05:12.291866",
     "exception": false,
     "start_time": "2021-04-22T12:05:12.243846",
     "status": "completed"
    },
    "tags": []
   },
   "outputs": [],
   "source": [
    "#hide\n",
    "LAST_DATE_I, dt_cols = get_dates(df)\n",
    "dt_today =dt_cols[LAST_DATE_I]\n",
    "# dt_5day = dt_cols[LAST_DATE_I - 5]\n",
    "dt_yday = dt_cols[LAST_DATE_I - 1]"
   ]
  },
  {
   "cell_type": "code",
   "execution_count": 11,
   "id": "restricted-sheriff",
   "metadata": {
    "execution": {
     "iopub.execute_input": "2021-04-22T12:05:12.380361Z",
     "iopub.status.busy": "2021-04-22T12:05:12.379621Z",
     "iopub.status.idle": "2021-04-22T12:05:12.386502Z",
     "shell.execute_reply": "2021-04-22T12:05:12.387237Z"
    },
    "papermill": {
     "duration": 0.055503,
     "end_time": "2021-04-22T12:05:12.387412",
     "exception": false,
     "start_time": "2021-04-22T12:05:12.331909",
     "status": "completed"
    },
    "tags": []
   },
   "outputs": [],
   "source": [
    "#hide\n",
    "dfc_cases = dft_cases.groupby(COL_REGION)[dt_today].sum()\n",
    "dfc_deaths = dft_deaths.groupby(COL_REGION)[dt_today].sum()\n",
    "# dfp_cases = dft_cases.groupby(COL_REGION)[dt_5day].sum()\n",
    "# dfp_deaths = dft_deaths.groupby(COL_REGION)[dt_5day].sum()\n",
    "dfp_cases = dft_cases.groupby(COL_REGION)[dt_yday].sum()\n",
    "dfp_deaths = dft_deaths.groupby(COL_REGION)[dt_yday].sum()"
   ]
  },
  {
   "cell_type": "code",
   "execution_count": 12,
   "id": "deluxe-hepatitis",
   "metadata": {
    "execution": {
     "iopub.execute_input": "2021-04-22T12:05:12.471652Z",
     "iopub.status.busy": "2021-04-22T12:05:12.470991Z",
     "iopub.status.idle": "2021-04-22T12:05:12.477115Z",
     "shell.execute_reply": "2021-04-22T12:05:12.476574Z"
    },
    "papermill": {
     "duration": 0.051297,
     "end_time": "2021-04-22T12:05:12.477243",
     "exception": false,
     "start_time": "2021-04-22T12:05:12.425946",
     "status": "completed"
    },
    "tags": []
   },
   "outputs": [],
   "source": [
    "#hide\n",
    "df_table = (pd.DataFrame(dict(Cases = dfc_cases, Deaths = dfc_deaths, PCases = dfp_cases, PDeaths = dfp_deaths))\n",
    "            .sort_values(by = ['Cases','Deaths'], ascending = [False, False])\n",
    "            .reset_index())"
   ]
  },
  {
   "cell_type": "code",
   "execution_count": 13,
   "id": "educational-chancellor",
   "metadata": {
    "execution": {
     "iopub.execute_input": "2021-04-22T12:05:12.574299Z",
     "iopub.status.busy": "2021-04-22T12:05:12.573640Z",
     "iopub.status.idle": "2021-04-22T12:05:12.588269Z",
     "shell.execute_reply": "2021-04-22T12:05:12.588905Z"
    },
    "papermill": {
     "duration": 0.069914,
     "end_time": "2021-04-22T12:05:12.589120",
     "exception": false,
     "start_time": "2021-04-22T12:05:12.519206",
     "status": "completed"
    },
    "tags": []
   },
   "outputs": [
    {
     "data": {
      "text/html": [
       "<div>\n",
       "<style scoped>\n",
       "    .dataframe tbody tr th:only-of-type {\n",
       "        vertical-align: middle;\n",
       "    }\n",
       "\n",
       "    .dataframe tbody tr th {\n",
       "        vertical-align: top;\n",
       "    }\n",
       "\n",
       "    .dataframe thead th {\n",
       "        text-align: right;\n",
       "    }\n",
       "</style>\n",
       "<table border=\"1\" class=\"dataframe\">\n",
       "  <thead>\n",
       "    <tr style=\"text-align: right;\">\n",
       "      <th></th>\n",
       "      <th>Country/Region</th>\n",
       "      <th>Cases</th>\n",
       "      <th>Deaths</th>\n",
       "      <th>PCases</th>\n",
       "      <th>PDeaths</th>\n",
       "      <th>Cases (+)</th>\n",
       "      <th>Deaths (+)</th>\n",
       "      <th>Fatality Rate</th>\n",
       "      <th>Continent</th>\n",
       "    </tr>\n",
       "  </thead>\n",
       "  <tbody>\n",
       "    <tr>\n",
       "      <th>0</th>\n",
       "      <td>US</td>\n",
       "      <td>31862094</td>\n",
       "      <td>569402</td>\n",
       "      <td>31799237</td>\n",
       "      <td>568560</td>\n",
       "      <td>62857</td>\n",
       "      <td>842</td>\n",
       "      <td>1.79</td>\n",
       "      <td>North America</td>\n",
       "    </tr>\n",
       "    <tr>\n",
       "      <th>1</th>\n",
       "      <td>India</td>\n",
       "      <td>15930774</td>\n",
       "      <td>184657</td>\n",
       "      <td>15616130</td>\n",
       "      <td>182553</td>\n",
       "      <td>314644</td>\n",
       "      <td>2104</td>\n",
       "      <td>1.16</td>\n",
       "      <td>Asia</td>\n",
       "    </tr>\n",
       "    <tr>\n",
       "      <th>2</th>\n",
       "      <td>Brazil</td>\n",
       "      <td>14122795</td>\n",
       "      <td>381475</td>\n",
       "      <td>14043076</td>\n",
       "      <td>378003</td>\n",
       "      <td>79719</td>\n",
       "      <td>3472</td>\n",
       "      <td>2.70</td>\n",
       "      <td>South America</td>\n",
       "    </tr>\n",
       "    <tr>\n",
       "      <th>3</th>\n",
       "      <td>France</td>\n",
       "      <td>5436229</td>\n",
       "      <td>102046</td>\n",
       "      <td>5401305</td>\n",
       "      <td>101713</td>\n",
       "      <td>34924</td>\n",
       "      <td>333</td>\n",
       "      <td>1.88</td>\n",
       "      <td>Europe</td>\n",
       "    </tr>\n",
       "    <tr>\n",
       "      <th>4</th>\n",
       "      <td>Russia</td>\n",
       "      <td>4673699</td>\n",
       "      <td>104937</td>\n",
       "      <td>4665553</td>\n",
       "      <td>104545</td>\n",
       "      <td>8146</td>\n",
       "      <td>392</td>\n",
       "      <td>2.25</td>\n",
       "      <td>Europe</td>\n",
       "    </tr>\n",
       "  </tbody>\n",
       "</table>\n",
       "</div>"
      ],
      "text/plain": [
       "  Country/Region     Cases  Deaths    PCases  PDeaths  Cases (+)  Deaths (+)  \\\n",
       "0             US  31862094  569402  31799237   568560      62857         842   \n",
       "1          India  15930774  184657  15616130   182553     314644        2104   \n",
       "2         Brazil  14122795  381475  14043076   378003      79719        3472   \n",
       "3         France   5436229  102046   5401305   101713      34924         333   \n",
       "4         Russia   4673699  104937   4665553   104545       8146         392   \n",
       "\n",
       "   Fatality Rate      Continent  \n",
       "0           1.79  North America  \n",
       "1           1.16           Asia  \n",
       "2           2.70  South America  \n",
       "3           1.88         Europe  \n",
       "4           2.25         Europe  "
      ]
     },
     "execution_count": 13,
     "metadata": {},
     "output_type": "execute_result"
    }
   ],
   "source": [
    "#hide\n",
    "for c in 'Cases, Deaths'.split(', '):\n",
    "    df_table[f'{c} (+)'] = (df_table[c] - df_table[f'P{c}']).clip(0)\n",
    "    #Clip ça veut dire, les chiffres negatif sont interdit\n",
    "df_table['Fatality Rate'] = (100* df_table['Deaths']/ df_table['Cases']).round(2)\n",
    "df_table['Continent'] = df_table['Country/Region'].map(mapping['map.continent'])\n",
    "df_table.head(5)"
   ]
  },
  {
   "cell_type": "code",
   "execution_count": 14,
   "id": "aboriginal-bulgaria",
   "metadata": {
    "execution": {
     "iopub.execute_input": "2021-04-22T12:05:12.674571Z",
     "iopub.status.busy": "2021-04-22T12:05:12.673891Z",
     "iopub.status.idle": "2021-04-22T12:05:12.677115Z",
     "shell.execute_reply": "2021-04-22T12:05:12.677798Z"
    },
    "papermill": {
     "duration": 0.048586,
     "end_time": "2021-04-22T12:05:12.677930",
     "exception": false,
     "start_time": "2021-04-22T12:05:12.629344",
     "status": "completed"
    },
    "tags": []
   },
   "outputs": [],
   "source": [
    "#hide\n",
    "#delete problematic countries from table\n",
    "df_table = df_table[~df_table['Country/Region'].isin(['Cape Verde', 'Cruise Ship', 'Kosovo'])]"
   ]
  },
  {
   "cell_type": "code",
   "execution_count": 15,
   "id": "fantastic-effect",
   "metadata": {
    "execution": {
     "iopub.execute_input": "2021-04-22T12:05:12.766193Z",
     "iopub.status.busy": "2021-04-22T12:05:12.765552Z",
     "iopub.status.idle": "2021-04-22T12:05:12.787559Z",
     "shell.execute_reply": "2021-04-22T12:05:12.788107Z"
    },
    "papermill": {
     "duration": 0.071499,
     "end_time": "2021-04-22T12:05:12.788441",
     "exception": false,
     "start_time": "2021-04-22T12:05:12.716942",
     "status": "completed"
    },
    "tags": []
   },
   "outputs": [
    {
     "data": {
      "text/html": [
       "<div>\n",
       "<style scoped>\n",
       "    .dataframe tbody tr th:only-of-type {\n",
       "        vertical-align: middle;\n",
       "    }\n",
       "\n",
       "    .dataframe tbody tr th {\n",
       "        vertical-align: top;\n",
       "    }\n",
       "\n",
       "    .dataframe thead th {\n",
       "        text-align: right;\n",
       "    }\n",
       "</style>\n",
       "<table border=\"1\" class=\"dataframe\">\n",
       "  <thead>\n",
       "    <tr style=\"text-align: right;\">\n",
       "      <th></th>\n",
       "      <th>Country/Region</th>\n",
       "      <th>Cases</th>\n",
       "      <th>Deaths</th>\n",
       "      <th>PCases</th>\n",
       "      <th>PDeaths</th>\n",
       "      <th>Cases (+)</th>\n",
       "      <th>Deaths (+)</th>\n",
       "      <th>Fatality Rate</th>\n",
       "      <th>Continent</th>\n",
       "    </tr>\n",
       "  </thead>\n",
       "  <tbody>\n",
       "    <tr>\n",
       "      <th>0</th>\n",
       "      <td>US</td>\n",
       "      <td>31862094</td>\n",
       "      <td>569402</td>\n",
       "      <td>31799237</td>\n",
       "      <td>568560</td>\n",
       "      <td>62857</td>\n",
       "      <td>842</td>\n",
       "      <td>1.8</td>\n",
       "      <td>North America</td>\n",
       "    </tr>\n",
       "    <tr>\n",
       "      <th>1</th>\n",
       "      <td>India</td>\n",
       "      <td>15930774</td>\n",
       "      <td>184657</td>\n",
       "      <td>15616130</td>\n",
       "      <td>182553</td>\n",
       "      <td>314644</td>\n",
       "      <td>2104</td>\n",
       "      <td>1.2</td>\n",
       "      <td>Asia</td>\n",
       "    </tr>\n",
       "    <tr>\n",
       "      <th>2</th>\n",
       "      <td>Brazil</td>\n",
       "      <td>14122795</td>\n",
       "      <td>381475</td>\n",
       "      <td>14043076</td>\n",
       "      <td>378003</td>\n",
       "      <td>79719</td>\n",
       "      <td>3472</td>\n",
       "      <td>2.7</td>\n",
       "      <td>South America</td>\n",
       "    </tr>\n",
       "    <tr>\n",
       "      <th>3</th>\n",
       "      <td>France</td>\n",
       "      <td>5436229</td>\n",
       "      <td>102046</td>\n",
       "      <td>5401305</td>\n",
       "      <td>101713</td>\n",
       "      <td>34924</td>\n",
       "      <td>333</td>\n",
       "      <td>1.9</td>\n",
       "      <td>Europe</td>\n",
       "    </tr>\n",
       "    <tr>\n",
       "      <th>4</th>\n",
       "      <td>Russia</td>\n",
       "      <td>4673699</td>\n",
       "      <td>104937</td>\n",
       "      <td>4665553</td>\n",
       "      <td>104545</td>\n",
       "      <td>8146</td>\n",
       "      <td>392</td>\n",
       "      <td>2.2</td>\n",
       "      <td>Europe</td>\n",
       "    </tr>\n",
       "  </tbody>\n",
       "</table>\n",
       "</div>"
      ],
      "text/plain": [
       "  Country/Region     Cases  Deaths    PCases  PDeaths  Cases (+)  Deaths (+)  \\\n",
       "0             US  31862094  569402  31799237   568560      62857         842   \n",
       "1          India  15930774  184657  15616130   182553     314644        2104   \n",
       "2         Brazil  14122795  381475  14043076   378003      79719        3472   \n",
       "3         France   5436229  102046   5401305   101713      34924         333   \n",
       "4         Russia   4673699  104937   4665553   104545       8146         392   \n",
       "\n",
       "   Fatality Rate      Continent  \n",
       "0            1.8  North America  \n",
       "1            1.2           Asia  \n",
       "2            2.7  South America  \n",
       "3            1.9         Europe  \n",
       "4            2.2         Europe  "
      ]
     },
     "execution_count": 15,
     "metadata": {},
     "output_type": "execute_result"
    }
   ],
   "source": [
    "#hide\n",
    "df_table = (pd.DataFrame(dict(Cases=dfc_cases, Deaths=dfc_deaths, PCases=dfp_cases, PDeaths=dfp_deaths))\n",
    "             .sort_values(by=['Cases', 'Deaths'], ascending=[False, False])\n",
    "             .reset_index())\n",
    "df_table.rename(columns={'index': 'Country/Region'}, inplace=True)\n",
    "for c in 'Cases, Deaths'.split(', '):\n",
    "    df_table[f'{c} (+)'] = (df_table[c] - df_table[f'P{c}']).clip(0)  # DATA BUG\n",
    "df_table['Fatality Rate'] = (100 * df_table['Deaths'] / df_table['Cases']).round(1)\n",
    "df_table['Continent'] = df_table['Country/Region'].map(mapping['map.continent'])\n",
    "df_table.head(5)"
   ]
  },
  {
   "cell_type": "code",
   "execution_count": 16,
   "id": "fewer-occasion",
   "metadata": {
    "execution": {
     "iopub.execute_input": "2021-04-22T12:05:12.878520Z",
     "iopub.status.busy": "2021-04-22T12:05:12.877850Z",
     "iopub.status.idle": "2021-04-22T12:05:12.880749Z",
     "shell.execute_reply": "2021-04-22T12:05:12.880183Z"
    },
    "papermill": {
     "duration": 0.050304,
     "end_time": "2021-04-22T12:05:12.880868",
     "exception": false,
     "start_time": "2021-04-22T12:05:12.830564",
     "status": "completed"
    },
    "tags": []
   },
   "outputs": [],
   "source": [
    "#hide\n",
    "#delete problematic countries from table\n",
    "df_table = df_table[~df_table['Country/Region'].isin(['Cape Verde', 'Cruise Ship', 'Kosovo'])]"
   ]
  },
  {
   "cell_type": "code",
   "execution_count": 17,
   "id": "related-center",
   "metadata": {
    "execution": {
     "iopub.execute_input": "2021-04-22T12:05:12.979436Z",
     "iopub.status.busy": "2021-04-22T12:05:12.978702Z",
     "iopub.status.idle": "2021-04-22T12:05:12.990642Z",
     "shell.execute_reply": "2021-04-22T12:05:12.989906Z"
    },
    "papermill": {
     "duration": 0.069135,
     "end_time": "2021-04-22T12:05:12.990769",
     "exception": false,
     "start_time": "2021-04-22T12:05:12.921634",
     "status": "completed"
    },
    "tags": []
   },
   "outputs": [],
   "source": [
    "#hide\n",
    "metrics = [df_table.columns[index] for index in [1,2,5,6]]\n",
    "# s_china = df_table[df_table['Country/Region'].eq('China')][metrics].sum().add_prefix('China ')\n",
    "s_us = df_table[df_table['Country/Region'].eq('US')][metrics].sum().add_prefix('US ')\n",
    "s_eu = df_table[df_table['Continent'].eq('Europe')][metrics].sum().add_prefix('EU ')\n",
    "s_ind = df_table[df_table['Country/Region'].eq('India')][metrics].sum().add_prefix('India ')\n",
    "summary = {'updated': pd.to_datetime(dt_today), 'since': pd.to_datetime(dt_yday)}\n",
    "summary = {'updated': pd.to_datetime(dt_today), 'since': pd.to_datetime(dt_yday)}\n",
    "summary = {**summary, **df_table[metrics].sum(), **s_ind, **s_us, **s_eu}"
   ]
  },
  {
   "cell_type": "code",
   "execution_count": 18,
   "id": "engaging-syndrome",
   "metadata": {
    "execution": {
     "iopub.execute_input": "2021-04-22T12:05:13.083505Z",
     "iopub.status.busy": "2021-04-22T12:05:13.082812Z",
     "iopub.status.idle": "2021-04-22T12:05:13.095719Z",
     "shell.execute_reply": "2021-04-22T12:05:13.096429Z"
    },
    "papermill": {
     "duration": 0.061265,
     "end_time": "2021-04-22T12:05:13.096574",
     "exception": false,
     "start_time": "2021-04-22T12:05:13.035309",
     "status": "completed"
    },
    "tags": []
   },
   "outputs": [],
   "source": [
    "#hide\n",
    "dft_ct_new_cases = dft_cases.groupby(COL_REGION)[dt_cols].sum().diff(axis=1).fillna(0).astype(int)"
   ]
  },
  {
   "cell_type": "code",
   "execution_count": 19,
   "id": "neutral-assignment",
   "metadata": {
    "execution": {
     "iopub.execute_input": "2021-04-22T12:05:13.192191Z",
     "iopub.status.busy": "2021-04-22T12:05:13.191493Z",
     "iopub.status.idle": "2021-04-22T12:05:13.194107Z",
     "shell.execute_reply": "2021-04-22T12:05:13.193537Z"
    },
    "papermill": {
     "duration": 0.05008,
     "end_time": "2021-04-22T12:05:13.194236",
     "exception": false,
     "start_time": "2021-04-22T12:05:13.144156",
     "status": "completed"
    },
    "tags": []
   },
   "outputs": [],
   "source": [
    "#hide\n",
    "everydaycases = dft_ct_new_cases.cumsum(axis=1)"
   ]
  },
  {
   "cell_type": "code",
   "execution_count": 20,
   "id": "parliamentary-calgary",
   "metadata": {
    "execution": {
     "iopub.execute_input": "2021-04-22T12:05:13.282425Z",
     "iopub.status.busy": "2021-04-22T12:05:13.281708Z",
     "iopub.status.idle": "2021-04-22T12:05:14.106196Z",
     "shell.execute_reply": "2021-04-22T12:05:14.105473Z"
    },
    "papermill": {
     "duration": 0.870009,
     "end_time": "2021-04-22T12:05:14.106339",
     "exception": false,
     "start_time": "2021-04-22T12:05:13.236330",
     "status": "completed"
    },
    "tags": []
   },
   "outputs": [],
   "source": [
    "#hide\n",
    "import pandas as pd\n",
    "import matplotlib.pyplot as plt\n",
    "import matplotlib.ticker as ticker\n",
    "import matplotlib.animation as animation\n",
    "from IPython.display import HTML"
   ]
  },
  {
   "cell_type": "code",
   "execution_count": 21,
   "id": "lasting-extraction",
   "metadata": {
    "execution": {
     "iopub.execute_input": "2021-04-22T12:05:14.193017Z",
     "iopub.status.busy": "2021-04-22T12:05:14.192383Z",
     "iopub.status.idle": "2021-04-22T12:05:14.198603Z",
     "shell.execute_reply": "2021-04-22T12:05:14.198044Z"
    },
    "papermill": {
     "duration": 0.052173,
     "end_time": "2021-04-22T12:05:14.198732",
     "exception": false,
     "start_time": "2021-04-22T12:05:14.146559",
     "status": "completed"
    },
    "tags": []
   },
   "outputs": [],
   "source": [
    "#hide\n",
    "t = everydaycases.stack()"
   ]
  },
  {
   "cell_type": "code",
   "execution_count": 22,
   "id": "premier-sleeve",
   "metadata": {
    "execution": {
     "iopub.execute_input": "2021-04-22T12:05:14.287420Z",
     "iopub.status.busy": "2021-04-22T12:05:14.286742Z",
     "iopub.status.idle": "2021-04-22T12:05:14.295289Z",
     "shell.execute_reply": "2021-04-22T12:05:14.295981Z"
    },
    "papermill": {
     "duration": 0.057107,
     "end_time": "2021-04-22T12:05:14.296116",
     "exception": false,
     "start_time": "2021-04-22T12:05:14.239009",
     "status": "completed"
    },
    "tags": []
   },
   "outputs": [],
   "source": [
    "#hide\n",
    "g = t.reset_index(['Country/Region'])"
   ]
  },
  {
   "cell_type": "code",
   "execution_count": 23,
   "id": "distributed-pittsburgh",
   "metadata": {
    "execution": {
     "iopub.execute_input": "2021-04-22T12:05:14.381650Z",
     "iopub.status.busy": "2021-04-22T12:05:14.380958Z",
     "iopub.status.idle": "2021-04-22T12:05:14.383836Z",
     "shell.execute_reply": "2021-04-22T12:05:14.383345Z"
    },
    "papermill": {
     "duration": 0.046137,
     "end_time": "2021-04-22T12:05:14.383951",
     "exception": false,
     "start_time": "2021-04-22T12:05:14.337814",
     "status": "completed"
    },
    "tags": []
   },
   "outputs": [],
   "source": [
    "#hide\n",
    "g.index.name = 'date'"
   ]
  },
  {
   "cell_type": "code",
   "execution_count": 24,
   "id": "naked-donor",
   "metadata": {
    "execution": {
     "iopub.execute_input": "2021-04-22T12:05:14.466941Z",
     "iopub.status.busy": "2021-04-22T12:05:14.466305Z",
     "iopub.status.idle": "2021-04-22T12:05:14.468880Z",
     "shell.execute_reply": "2021-04-22T12:05:14.468368Z"
    },
    "papermill": {
     "duration": 0.044327,
     "end_time": "2021-04-22T12:05:14.468990",
     "exception": false,
     "start_time": "2021-04-22T12:05:14.424663",
     "status": "completed"
    },
    "tags": []
   },
   "outputs": [],
   "source": [
    "# #hide\n",
    "# g = g.reset_index(['date'])"
   ]
  },
  {
   "cell_type": "code",
   "execution_count": 25,
   "id": "incomplete-mustang",
   "metadata": {
    "execution": {
     "iopub.execute_input": "2021-04-22T12:05:14.556840Z",
     "iopub.status.busy": "2021-04-22T12:05:14.556175Z",
     "iopub.status.idle": "2021-04-22T12:05:14.558860Z",
     "shell.execute_reply": "2021-04-22T12:05:14.558260Z"
    },
    "papermill": {
     "duration": 0.047888,
     "end_time": "2021-04-22T12:05:14.558984",
     "exception": false,
     "start_time": "2021-04-22T12:05:14.511096",
     "status": "completed"
    },
    "tags": []
   },
   "outputs": [],
   "source": [
    "#hide\n",
    "# g.head()"
   ]
  },
  {
   "cell_type": "code",
   "execution_count": 26,
   "id": "specific-kruger",
   "metadata": {
    "execution": {
     "iopub.execute_input": "2021-04-22T12:05:14.644987Z",
     "iopub.status.busy": "2021-04-22T12:05:14.644323Z",
     "iopub.status.idle": "2021-04-22T12:05:14.646528Z",
     "shell.execute_reply": "2021-04-22T12:05:14.647040Z"
    },
    "papermill": {
     "duration": 0.048836,
     "end_time": "2021-04-22T12:05:14.647195",
     "exception": false,
     "start_time": "2021-04-22T12:05:14.598359",
     "status": "completed"
    },
    "tags": []
   },
   "outputs": [],
   "source": [
    "#hide\n",
    "# g.columns = ['date','country','cases']"
   ]
  },
  {
   "cell_type": "code",
   "execution_count": 27,
   "id": "tender-conversion",
   "metadata": {
    "execution": {
     "iopub.execute_input": "2021-04-22T12:05:14.738300Z",
     "iopub.status.busy": "2021-04-22T12:05:14.737684Z",
     "iopub.status.idle": "2021-04-22T12:05:14.741974Z",
     "shell.execute_reply": "2021-04-22T12:05:14.741448Z"
    },
    "papermill": {
     "duration": 0.047869,
     "end_time": "2021-04-22T12:05:14.742108",
     "exception": false,
     "start_time": "2021-04-22T12:05:14.694239",
     "status": "completed"
    },
    "tags": []
   },
   "outputs": [],
   "source": [
    "#hide\n",
    "# g['continent'] = g.country"
   ]
  },
  {
   "cell_type": "code",
   "execution_count": 28,
   "id": "substantial-wilderness",
   "metadata": {
    "execution": {
     "iopub.execute_input": "2021-04-22T12:05:14.830709Z",
     "iopub.status.busy": "2021-04-22T12:05:14.829906Z",
     "iopub.status.idle": "2021-04-22T12:05:14.832319Z",
     "shell.execute_reply": "2021-04-22T12:05:14.832827Z"
    },
    "papermill": {
     "duration": 0.052202,
     "end_time": "2021-04-22T12:05:14.832979",
     "exception": false,
     "start_time": "2021-04-22T12:05:14.780777",
     "status": "completed"
    },
    "tags": []
   },
   "outputs": [],
   "source": [
    "#hide\n",
    "# cols = list(g.columns.values)"
   ]
  },
  {
   "cell_type": "code",
   "execution_count": 29,
   "id": "solved-farming",
   "metadata": {
    "execution": {
     "iopub.execute_input": "2021-04-22T12:05:14.926920Z",
     "iopub.status.busy": "2021-04-22T12:05:14.924830Z",
     "iopub.status.idle": "2021-04-22T12:05:14.928251Z",
     "shell.execute_reply": "2021-04-22T12:05:14.927660Z"
    },
    "papermill": {
     "duration": 0.050641,
     "end_time": "2021-04-22T12:05:14.928391",
     "exception": false,
     "start_time": "2021-04-22T12:05:14.877750",
     "status": "completed"
    },
    "tags": []
   },
   "outputs": [],
   "source": [
    "#hide\n",
    "# cols.insert(0, cols.pop())"
   ]
  },
  {
   "cell_type": "code",
   "execution_count": 30,
   "id": "executed-adoption",
   "metadata": {
    "execution": {
     "iopub.execute_input": "2021-04-22T12:05:15.026064Z",
     "iopub.status.busy": "2021-04-22T12:05:15.025310Z",
     "iopub.status.idle": "2021-04-22T12:05:15.031246Z",
     "shell.execute_reply": "2021-04-22T12:05:15.030680Z"
    },
    "papermill": {
     "duration": 0.056664,
     "end_time": "2021-04-22T12:05:15.031450",
     "exception": false,
     "start_time": "2021-04-22T12:05:14.974786",
     "status": "completed"
    },
    "tags": []
   },
   "outputs": [],
   "source": [
    "#hide\n",
    "# g = g[cols]"
   ]
  },
  {
   "cell_type": "code",
   "execution_count": 31,
   "id": "subject-dublin",
   "metadata": {
    "execution": {
     "iopub.execute_input": "2021-04-22T12:05:15.116883Z",
     "iopub.status.busy": "2021-04-22T12:05:15.116240Z",
     "iopub.status.idle": "2021-04-22T12:05:15.118548Z",
     "shell.execute_reply": "2021-04-22T12:05:15.119065Z"
    },
    "papermill": {
     "duration": 0.04677,
     "end_time": "2021-04-22T12:05:15.119197",
     "exception": false,
     "start_time": "2021-04-22T12:05:15.072427",
     "status": "completed"
    },
    "tags": []
   },
   "outputs": [],
   "source": [
    "#hide\n",
    "# g['continent'] = g['continent'].map(mapping['map.continent'])"
   ]
  },
  {
   "cell_type": "code",
   "execution_count": 32,
   "id": "freelance-scout",
   "metadata": {
    "execution": {
     "iopub.execute_input": "2021-04-22T12:05:15.206326Z",
     "iopub.status.busy": "2021-04-22T12:05:15.205709Z",
     "iopub.status.idle": "2021-04-22T12:05:15.207618Z",
     "shell.execute_reply": "2021-04-22T12:05:15.208135Z"
    },
    "papermill": {
     "duration": 0.046323,
     "end_time": "2021-04-22T12:05:15.208452",
     "exception": false,
     "start_time": "2021-04-22T12:05:15.162129",
     "status": "completed"
    },
    "tags": []
   },
   "outputs": [],
   "source": [
    "#hide\n",
    "# g.head()"
   ]
  },
  {
   "cell_type": "code",
   "execution_count": 33,
   "id": "limited-engine",
   "metadata": {
    "execution": {
     "iopub.execute_input": "2021-04-22T12:05:15.293484Z",
     "iopub.status.busy": "2021-04-22T12:05:15.292644Z",
     "iopub.status.idle": "2021-04-22T12:05:15.295485Z",
     "shell.execute_reply": "2021-04-22T12:05:15.294776Z"
    },
    "papermill": {
     "duration": 0.046078,
     "end_time": "2021-04-22T12:05:15.295640",
     "exception": false,
     "start_time": "2021-04-22T12:05:15.249562",
     "status": "completed"
    },
    "tags": []
   },
   "outputs": [],
   "source": [
    "# hide\n",
    "# g['date'] = g['date'].astype('datetime64[ns]')"
   ]
  },
  {
   "cell_type": "code",
   "execution_count": 34,
   "id": "sophisticated-supervisor",
   "metadata": {
    "execution": {
     "iopub.execute_input": "2021-04-22T12:05:15.380308Z",
     "iopub.status.busy": "2021-04-22T12:05:15.379583Z",
     "iopub.status.idle": "2021-04-22T12:05:15.381635Z",
     "shell.execute_reply": "2021-04-22T12:05:15.382151Z"
    },
    "papermill": {
     "duration": 0.046255,
     "end_time": "2021-04-22T12:05:15.382307",
     "exception": false,
     "start_time": "2021-04-22T12:05:15.336052",
     "status": "completed"
    },
    "tags": []
   },
   "outputs": [],
   "source": [
    "#hide\n",
    "# g['date'] = g.date.dt.dayofyear"
   ]
  },
  {
   "cell_type": "code",
   "execution_count": 35,
   "id": "inside-dubai",
   "metadata": {
    "execution": {
     "iopub.execute_input": "2021-04-22T12:05:15.467826Z",
     "iopub.status.busy": "2021-04-22T12:05:15.467173Z",
     "iopub.status.idle": "2021-04-22T12:05:15.469066Z",
     "shell.execute_reply": "2021-04-22T12:05:15.469651Z"
    },
    "papermill": {
     "duration": 0.047606,
     "end_time": "2021-04-22T12:05:15.469787",
     "exception": false,
     "start_time": "2021-04-22T12:05:15.422181",
     "status": "completed"
    },
    "tags": []
   },
   "outputs": [],
   "source": [
    "#hide\n",
    "# g = g.rename(columns= {'continent':'group','country':'name','cases':'value'})"
   ]
  },
  {
   "cell_type": "code",
   "execution_count": 36,
   "id": "fleet-motorcycle",
   "metadata": {
    "execution": {
     "iopub.execute_input": "2021-04-22T12:05:15.556386Z",
     "iopub.status.busy": "2021-04-22T12:05:15.555732Z",
     "iopub.status.idle": "2021-04-22T12:05:15.557741Z",
     "shell.execute_reply": "2021-04-22T12:05:15.558277Z"
    },
    "papermill": {
     "duration": 0.049019,
     "end_time": "2021-04-22T12:05:15.558424",
     "exception": false,
     "start_time": "2021-04-22T12:05:15.509405",
     "status": "completed"
    },
    "tags": []
   },
   "outputs": [],
   "source": [
    "#hide\n",
    "# cols = ['name','group','day','value']"
   ]
  },
  {
   "cell_type": "code",
   "execution_count": 37,
   "id": "continued-sleeping",
   "metadata": {
    "execution": {
     "iopub.execute_input": "2021-04-22T12:05:15.643926Z",
     "iopub.status.busy": "2021-04-22T12:05:15.643237Z",
     "iopub.status.idle": "2021-04-22T12:05:15.645752Z",
     "shell.execute_reply": "2021-04-22T12:05:15.645108Z"
    },
    "papermill": {
     "duration": 0.046703,
     "end_time": "2021-04-22T12:05:15.645877",
     "exception": false,
     "start_time": "2021-04-22T12:05:15.599174",
     "status": "completed"
    },
    "tags": []
   },
   "outputs": [],
   "source": [
    "#hide\n",
    "# g.rename(columns= {'date':'day'},inplace = True)"
   ]
  },
  {
   "cell_type": "code",
   "execution_count": 38,
   "id": "major-fight",
   "metadata": {
    "execution": {
     "iopub.execute_input": "2021-04-22T12:05:15.727668Z",
     "iopub.status.busy": "2021-04-22T12:05:15.726973Z",
     "iopub.status.idle": "2021-04-22T12:05:15.729504Z",
     "shell.execute_reply": "2021-04-22T12:05:15.729995Z"
    },
    "papermill": {
     "duration": 0.045025,
     "end_time": "2021-04-22T12:05:15.730158",
     "exception": false,
     "start_time": "2021-04-22T12:05:15.685133",
     "status": "completed"
    },
    "tags": []
   },
   "outputs": [],
   "source": [
    "#hide\n",
    "# g = g[cols]"
   ]
  },
  {
   "cell_type": "code",
   "execution_count": 39,
   "id": "structured-mobile",
   "metadata": {
    "execution": {
     "iopub.execute_input": "2021-04-22T12:05:15.816421Z",
     "iopub.status.busy": "2021-04-22T12:05:15.815767Z",
     "iopub.status.idle": "2021-04-22T12:05:15.818381Z",
     "shell.execute_reply": "2021-04-22T12:05:15.817833Z"
    },
    "papermill": {
     "duration": 0.047297,
     "end_time": "2021-04-22T12:05:15.818511",
     "exception": false,
     "start_time": "2021-04-22T12:05:15.771214",
     "status": "completed"
    },
    "tags": []
   },
   "outputs": [],
   "source": [
    "# #hide\n",
    "# g = g[g.group.notna()]"
   ]
  },
  {
   "cell_type": "code",
   "execution_count": 40,
   "id": "determined-closing",
   "metadata": {
    "execution": {
     "iopub.execute_input": "2021-04-22T12:05:15.904565Z",
     "iopub.status.busy": "2021-04-22T12:05:15.903919Z",
     "iopub.status.idle": "2021-04-22T12:05:15.906017Z",
     "shell.execute_reply": "2021-04-22T12:05:15.906644Z"
    },
    "papermill": {
     "duration": 0.046996,
     "end_time": "2021-04-22T12:05:15.906783",
     "exception": false,
     "start_time": "2021-04-22T12:05:15.859787",
     "status": "completed"
    },
    "tags": []
   },
   "outputs": [],
   "source": [
    "# #hide\n",
    "# colors = dict(zip(\n",
    "#     [\"Oceania\", \"Europe\", \"Asia\", \"South America\", \"Middle East\", \"North America\", \"Africa\"],\n",
    "#     [\"#adb0ff\", \"#ffb3ff\", \"#90d595\", \"#e48381\", \"#aafbff\", \"#f7bb5f\", \"#eafb50\"]\n",
    "# ))\n",
    "# group_lk = g.set_index('name')['group'].to_dict()"
   ]
  },
  {
   "cell_type": "code",
   "execution_count": null,
   "id": "gross-drinking",
   "metadata": {
    "papermill": {
     "duration": 0.040404,
     "end_time": "2021-04-22T12:05:15.990051",
     "exception": false,
     "start_time": "2021-04-22T12:05:15.949647",
     "status": "completed"
    },
    "tags": []
   },
   "outputs": [],
   "source": []
  },
  {
   "cell_type": "code",
   "execution_count": 41,
   "id": "subject-macintosh",
   "metadata": {
    "execution": {
     "iopub.execute_input": "2021-04-22T12:05:16.078119Z",
     "iopub.status.busy": "2021-04-22T12:05:16.077218Z",
     "iopub.status.idle": "2021-04-22T12:05:16.079424Z",
     "shell.execute_reply": "2021-04-22T12:05:16.079975Z"
    },
    "papermill": {
     "duration": 0.048808,
     "end_time": "2021-04-22T12:05:16.080117",
     "exception": false,
     "start_time": "2021-04-22T12:05:16.031309",
     "status": "completed"
    },
    "tags": []
   },
   "outputs": [],
   "source": [
    "# #hide\n",
    "# fig, ax = plt.subplots(figsize=(15, 8))\n",
    "\n",
    "# def draw_barchart(current_day):\n",
    "#     dff = g[g['day'].eq(current_day)].sort_values(by='value', ascending=True).tail(10)\n",
    "#     ax.clear()\n",
    "#     ax.barh(dff['name'], dff['value'], color=[colors[group_lk[x]] for x in dff['name']])\n",
    "#     dx = dff['value'].max() / 200\n",
    "    \n",
    "#     for i, (value, name) in enumerate(zip(dff['value'], dff['name'])):\n",
    "#         ax.text(value-dx, i,     name,           size=14, weight=600, ha='right', va='bottom')\n",
    "#         ax.text(value-dx, i-.25, group_lk[name], size=10, color='#444444', ha='right', va='baseline')\n",
    "#         ax.text(value+dx, i,     f'{value:,.0f}',  size=14, ha='left',  va='center')\n",
    "#     ax.text(1, 0.4, current_day, transform=ax.transAxes, color='#777777', size=46, ha='right', weight=800)\n",
    "#     ax.text(0, 1.06, 'Population (thousands)', transform=ax.transAxes, size=12, color='#777777')\n",
    "#     ax.xaxis.set_major_formatter(ticker.StrMethodFormatter('{x:,.0f}'))\n",
    "#     ax.xaxis.set_ticks_position('top')\n",
    "#     ax.tick_params(axis='x', colors='#777777', labelsize=12)\n",
    "#     ax.set_yticks([])\n",
    "#     ax.margins(0, 0.01)\n",
    "#     ax.grid(which='major', axis='x', linestyle='-')\n",
    "#     ax.set_axisbelow(True)\n",
    "    \n",
    "#     ax.text(0, 1.15, 'Coronavirus',\n",
    "#             transform=ax.transAxes, size=24, weight=600, ha='left', va='top')\n",
    "# #     ax.text(1, 0, 'by @pratapvardhan; credit @jburnmurdoch', transform=ax.transAxes, color='#777777', ha='right',\n",
    "# #             bbox=dict(facecolor='white', alpha=0.8, edgecolor='white'))\n",
    "#     plt.box(False)"
   ]
  },
  {
   "cell_type": "code",
   "execution_count": 42,
   "id": "sexual-wages",
   "metadata": {
    "execution": {
     "iopub.execute_input": "2021-04-22T12:05:16.166364Z",
     "iopub.status.busy": "2021-04-22T12:05:16.165741Z",
     "iopub.status.idle": "2021-04-22T12:05:16.168191Z",
     "shell.execute_reply": "2021-04-22T12:05:16.167625Z"
    },
    "papermill": {
     "duration": 0.047541,
     "end_time": "2021-04-22T12:05:16.168320",
     "exception": false,
     "start_time": "2021-04-22T12:05:16.120779",
     "status": "completed"
    },
    "tags": []
   },
   "outputs": [],
   "source": [
    "# #hide_input\n",
    "# fig, ax = plt.subplots(figsize=(15, 8))\n",
    "# animator = animation.FuncAnimation(fig, draw_barchart, frames=range(g.day.values.min(), g.day.values.max()))\n",
    "# HTML(animator.to_jshtml())\n",
    "# # or use animator.to_html5_video() or animator.save() "
   ]
  },
  {
   "cell_type": "code",
   "execution_count": null,
   "id": "australian-container",
   "metadata": {
    "papermill": {
     "duration": 0.040166,
     "end_time": "2021-04-22T12:05:16.248575",
     "exception": false,
     "start_time": "2021-04-22T12:05:16.208409",
     "status": "completed"
    },
    "tags": []
   },
   "outputs": [],
   "source": []
  },
  {
   "cell_type": "code",
   "execution_count": null,
   "id": "mediterranean-pontiac",
   "metadata": {
    "papermill": {
     "duration": 0.039956,
     "end_time": "2021-04-22T12:05:16.328673",
     "exception": false,
     "start_time": "2021-04-22T12:05:16.288717",
     "status": "completed"
    },
    "tags": []
   },
   "outputs": [],
   "source": []
  },
  {
   "cell_type": "code",
   "execution_count": null,
   "id": "aging-legislature",
   "metadata": {
    "papermill": {
     "duration": 0.039799,
     "end_time": "2021-04-22T12:05:16.412889",
     "exception": false,
     "start_time": "2021-04-22T12:05:16.373090",
     "status": "completed"
    },
    "tags": []
   },
   "outputs": [],
   "source": []
  }
 ],
 "metadata": {
  "kernelspec": {
   "display_name": "Python 3",
   "language": "python",
   "name": "python3"
  },
  "language_info": {
   "codemirror_mode": {
    "name": "ipython",
    "version": 3
   },
   "file_extension": ".py",
   "mimetype": "text/x-python",
   "name": "python",
   "nbconvert_exporter": "python",
   "pygments_lexer": "ipython3",
   "version": "3.6.13"
  },
  "papermill": {
   "duration": 8.403875,
   "end_time": "2021-04-22T12:05:17.748546",
   "environment_variables": {},
   "exception": null,
   "input_path": "2020-03-21-covid19exp.ipynb",
   "output_path": "2020-03-21-covid19exp.ipynb",
   "parameters": {},
   "start_time": "2021-04-22T12:05:09.344671",
   "version": "2.0.0"
  }
 },
 "nbformat": 4,
 "nbformat_minor": 5
}