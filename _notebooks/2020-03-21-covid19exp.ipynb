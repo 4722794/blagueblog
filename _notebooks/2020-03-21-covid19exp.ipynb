{
 "cells": [
  {
   "cell_type": "markdown",
   "id": "muslim-click",
   "metadata": {
    "papermill": {
     "duration": 0.036497,
     "end_time": "2022-05-20T12:16:40.620462",
     "exception": false,
     "start_time": "2022-05-20T12:16:40.583965",
     "status": "completed"
    },
    "tags": []
   },
   "source": [
    "# COVID-19 Case Race\n",
    "> A race chart to see rising cases around the world\n",
    "\n",
    "- author: Hargun Oberoi\n",
    "- image: images/covid-overview.png\n",
    "- hide: false\n",
    "- badges: false"
   ]
  },
  {
   "cell_type": "code",
   "execution_count": 1,
   "id": "proof-material",
   "metadata": {
    "execution": {
     "iopub.execute_input": "2022-05-20T12:16:40.697283Z",
     "iopub.status.busy": "2022-05-20T12:16:40.696570Z",
     "iopub.status.idle": "2022-05-20T12:16:41.111976Z",
     "shell.execute_reply": "2022-05-20T12:16:41.111428Z"
    },
    "papermill": {
     "duration": 0.458386,
     "end_time": "2022-05-20T12:16:41.112120",
     "exception": false,
     "start_time": "2022-05-20T12:16:40.653734",
     "status": "completed"
    },
    "tags": []
   },
   "outputs": [],
   "source": [
    "#hide\n",
    "import numpy as np\n",
    "import pandas as pd\n",
    "from jinja2 import Template\n",
    "from IPython.display import HTML"
   ]
  },
  {
   "cell_type": "code",
   "execution_count": 2,
   "id": "developed-terminology",
   "metadata": {
    "execution": {
     "iopub.execute_input": "2022-05-20T12:16:41.180722Z",
     "iopub.status.busy": "2022-05-20T12:16:41.179973Z",
     "iopub.status.idle": "2022-05-20T12:16:41.183210Z",
     "shell.execute_reply": "2022-05-20T12:16:41.183793Z"
    },
    "papermill": {
     "duration": 0.040236,
     "end_time": "2022-05-20T12:16:41.183944",
     "exception": false,
     "start_time": "2022-05-20T12:16:41.143708",
     "status": "completed"
    },
    "tags": []
   },
   "outputs": [],
   "source": [
    "#hide\n",
    "\n",
    "# FETCH\n",
    "base_url = 'https://raw.githubusercontent.com/pratapvardhan/notebooks/master/covid19/'\n",
    "paths = {\n",
    "    'mapping': base_url + 'mapping_countries.csv',\n",
    "    'overview': base_url + 'overview.tpl'\n",
    "}"
   ]
  },
  {
   "cell_type": "code",
   "execution_count": 3,
   "id": "dynamic-saver",
   "metadata": {
    "execution": {
     "iopub.execute_input": "2022-05-20T12:16:41.261877Z",
     "iopub.status.busy": "2022-05-20T12:16:41.261221Z",
     "iopub.status.idle": "2022-05-20T12:16:41.265716Z",
     "shell.execute_reply": "2022-05-20T12:16:41.265205Z"
    },
    "papermill": {
     "duration": 0.047153,
     "end_time": "2022-05-20T12:16:41.265842",
     "exception": false,
     "start_time": "2022-05-20T12:16:41.218689",
     "status": "completed"
    },
    "tags": []
   },
   "outputs": [
    {
     "data": {
      "text/plain": [
       "'https://raw.githubusercontent.com/pratapvardhan/notebooks/master/covid19/mapping_countries.csv'"
      ]
     },
     "execution_count": 3,
     "metadata": {},
     "output_type": "execute_result"
    }
   ],
   "source": [
    "#hide\n",
    "paths['mapping']"
   ]
  },
  {
   "cell_type": "code",
   "execution_count": 4,
   "id": "urban-software",
   "metadata": {
    "execution": {
     "iopub.execute_input": "2022-05-20T12:16:41.334560Z",
     "iopub.status.busy": "2022-05-20T12:16:41.333917Z",
     "iopub.status.idle": "2022-05-20T12:16:41.335578Z",
     "shell.execute_reply": "2022-05-20T12:16:41.336130Z"
    },
    "papermill": {
     "duration": 0.039027,
     "end_time": "2022-05-20T12:16:41.336276",
     "exception": false,
     "start_time": "2022-05-20T12:16:41.297249",
     "status": "completed"
    },
    "tags": []
   },
   "outputs": [],
   "source": [
    "#hide\n",
    "def get_mappings(url):\n",
    "    df = pd.read_csv(url)\n",
    "    return {\n",
    "        'df': df,\n",
    "        'replace.country': dict(df.dropna(subset=['Name']).set_index('Country')['Name']),\n",
    "        'map.continent': dict(df.set_index('Name')['Continent'])\n",
    "    }"
   ]
  },
  {
   "cell_type": "code",
   "execution_count": 5,
   "id": "intimate-machinery",
   "metadata": {
    "execution": {
     "iopub.execute_input": "2022-05-20T12:16:41.408601Z",
     "iopub.status.busy": "2022-05-20T12:16:41.407947Z",
     "iopub.status.idle": "2022-05-20T12:16:41.457838Z",
     "shell.execute_reply": "2022-05-20T12:16:41.457297Z"
    },
    "papermill": {
     "duration": 0.087598,
     "end_time": "2022-05-20T12:16:41.457959",
     "exception": false,
     "start_time": "2022-05-20T12:16:41.370361",
     "status": "completed"
    },
    "tags": []
   },
   "outputs": [],
   "source": [
    "#hide\n",
    "mapping = get_mappings(paths['mapping'])"
   ]
  },
  {
   "cell_type": "code",
   "execution_count": 6,
   "id": "certified-tactics",
   "metadata": {
    "execution": {
     "iopub.execute_input": "2022-05-20T12:16:41.532830Z",
     "iopub.status.busy": "2022-05-20T12:16:41.532175Z",
     "iopub.status.idle": "2022-05-20T12:16:41.535272Z",
     "shell.execute_reply": "2022-05-20T12:16:41.534759Z"
    },
    "papermill": {
     "duration": 0.041831,
     "end_time": "2022-05-20T12:16:41.535391",
     "exception": false,
     "start_time": "2022-05-20T12:16:41.493560",
     "status": "completed"
    },
    "tags": []
   },
   "outputs": [],
   "source": [
    "#hide\n",
    "def get_template(path):\n",
    "    from urllib.parse import urlparse\n",
    "    if bool(urlparse(path).netloc):\n",
    "        from urllib.request import urlopen\n",
    "        return urlopen(path).read().decode('utf8')\n",
    "    return open(path).read()"
   ]
  },
  {
   "cell_type": "code",
   "execution_count": 7,
   "id": "realistic-blast",
   "metadata": {
    "execution": {
     "iopub.execute_input": "2022-05-20T12:16:41.603971Z",
     "iopub.status.busy": "2022-05-20T12:16:41.603357Z",
     "iopub.status.idle": "2022-05-20T12:16:41.606697Z",
     "shell.execute_reply": "2022-05-20T12:16:41.606164Z"
    },
    "papermill": {
     "duration": 0.040156,
     "end_time": "2022-05-20T12:16:41.606818",
     "exception": false,
     "start_time": "2022-05-20T12:16:41.566662",
     "status": "completed"
    },
    "tags": []
   },
   "outputs": [],
   "source": [
    "#hide\n",
    "def get_frame(name):\n",
    "    url = (\n",
    "        'https://raw.githubusercontent.com/CSSEGISandData/COVID-19/master/csse_covid_19_data/'\n",
    "        f'csse_covid_19_time_series/time_series_covid19_{name}_global.csv')\n",
    "    df = pd.read_csv(url)\n",
    "    # rename countries\n",
    "    df['Country/Region'] = df['Country/Region'].replace(mapping['replace.country'])\n",
    "    return df"
   ]
  },
  {
   "cell_type": "code",
   "execution_count": 8,
   "id": "affiliated-characterization",
   "metadata": {
    "execution": {
     "iopub.execute_input": "2022-05-20T12:16:41.674056Z",
     "iopub.status.busy": "2022-05-20T12:16:41.673427Z",
     "iopub.status.idle": "2022-05-20T12:16:41.680180Z",
     "shell.execute_reply": "2022-05-20T12:16:41.679675Z"
    },
    "papermill": {
     "duration": 0.041123,
     "end_time": "2022-05-20T12:16:41.680310",
     "exception": false,
     "start_time": "2022-05-20T12:16:41.639187",
     "status": "completed"
    },
    "tags": []
   },
   "outputs": [],
   "source": [
    "#hide\n",
    "def get_dates(df):\n",
    "    dt_cols = df.columns[~df.columns.isin(['Province/State', 'Country/Region', 'Lat', 'Long'])]\n",
    "    LAST_DATE_I = -1\n",
    "    # sometimes last column may be empty, then go backwards\n",
    "    for i in range(-1, -len(dt_cols), -1):\n",
    "        if not df[dt_cols[i]].fillna(0).eq(0).all():\n",
    "            LAST_DATE_I = i\n",
    "            break\n",
    "    return LAST_DATE_I, dt_cols"
   ]
  },
  {
   "cell_type": "code",
   "execution_count": 9,
   "id": "recent-optimization",
   "metadata": {
    "execution": {
     "iopub.execute_input": "2022-05-20T12:16:41.748117Z",
     "iopub.status.busy": "2022-05-20T12:16:41.747488Z",
     "iopub.status.idle": "2022-05-20T12:16:42.248586Z",
     "shell.execute_reply": "2022-05-20T12:16:42.247267Z"
    },
    "papermill": {
     "duration": 0.53716,
     "end_time": "2022-05-20T12:16:42.248727",
     "exception": false,
     "start_time": "2022-05-20T12:16:41.711567",
     "status": "completed"
    },
    "tags": []
   },
   "outputs": [],
   "source": [
    "#hide\n",
    "COL_REGION = 'Country/Region'\n",
    "# Confirmed, Recovered, Deaths\n",
    "df = get_frame('confirmed')\n",
    "# dft_: timeseries, dfc_: today country agg\n",
    "dft_cases = df\n",
    "dft_deaths = get_frame('deaths')\n",
    "dft_recovered = get_frame('recovered')\n",
    "LAST_DATE_I, dt_cols = get_dates(df)"
   ]
  },
  {
   "cell_type": "code",
   "execution_count": 10,
   "id": "absolute-copper",
   "metadata": {
    "execution": {
     "iopub.execute_input": "2022-05-20T12:16:42.317443Z",
     "iopub.status.busy": "2022-05-20T12:16:42.316757Z",
     "iopub.status.idle": "2022-05-20T12:16:42.319470Z",
     "shell.execute_reply": "2022-05-20T12:16:42.318971Z"
    },
    "papermill": {
     "duration": 0.039371,
     "end_time": "2022-05-20T12:16:42.319596",
     "exception": false,
     "start_time": "2022-05-20T12:16:42.280225",
     "status": "completed"
    },
    "tags": []
   },
   "outputs": [],
   "source": [
    "#hide\n",
    "LAST_DATE_I, dt_cols = get_dates(df)\n",
    "dt_today =dt_cols[LAST_DATE_I]\n",
    "# dt_5day = dt_cols[LAST_DATE_I - 5]\n",
    "dt_yday = dt_cols[LAST_DATE_I - 1]"
   ]
  },
  {
   "cell_type": "code",
   "execution_count": 11,
   "id": "restricted-sheriff",
   "metadata": {
    "execution": {
     "iopub.execute_input": "2022-05-20T12:16:42.391295Z",
     "iopub.status.busy": "2022-05-20T12:16:42.390450Z",
     "iopub.status.idle": "2022-05-20T12:16:42.398142Z",
     "shell.execute_reply": "2022-05-20T12:16:42.397411Z"
    },
    "papermill": {
     "duration": 0.047493,
     "end_time": "2022-05-20T12:16:42.398269",
     "exception": false,
     "start_time": "2022-05-20T12:16:42.350776",
     "status": "completed"
    },
    "tags": []
   },
   "outputs": [],
   "source": [
    "#hide\n",
    "dfc_cases = dft_cases.groupby(COL_REGION)[dt_today].sum()\n",
    "dfc_deaths = dft_deaths.groupby(COL_REGION)[dt_today].sum()\n",
    "# dfp_cases = dft_cases.groupby(COL_REGION)[dt_5day].sum()\n",
    "# dfp_deaths = dft_deaths.groupby(COL_REGION)[dt_5day].sum()\n",
    "dfp_cases = dft_cases.groupby(COL_REGION)[dt_yday].sum()\n",
    "dfp_deaths = dft_deaths.groupby(COL_REGION)[dt_yday].sum()"
   ]
  },
  {
   "cell_type": "code",
   "execution_count": 12,
   "id": "deluxe-hepatitis",
   "metadata": {
    "execution": {
     "iopub.execute_input": "2022-05-20T12:16:42.476802Z",
     "iopub.status.busy": "2022-05-20T12:16:42.476112Z",
     "iopub.status.idle": "2022-05-20T12:16:42.482424Z",
     "shell.execute_reply": "2022-05-20T12:16:42.481409Z"
    },
    "papermill": {
     "duration": 0.048463,
     "end_time": "2022-05-20T12:16:42.482552",
     "exception": false,
     "start_time": "2022-05-20T12:16:42.434089",
     "status": "completed"
    },
    "tags": []
   },
   "outputs": [],
   "source": [
    "#hide\n",
    "df_table = (pd.DataFrame(dict(Cases = dfc_cases, Deaths = dfc_deaths, PCases = dfp_cases, PDeaths = dfp_deaths))\n",
    "            .sort_values(by = ['Cases','Deaths'], ascending = [False, False])\n",
    "            .reset_index())"
   ]
  },
  {
   "cell_type": "code",
   "execution_count": 13,
   "id": "educational-chancellor",
   "metadata": {
    "execution": {
     "iopub.execute_input": "2022-05-20T12:16:42.577031Z",
     "iopub.status.busy": "2022-05-20T12:16:42.576338Z",
     "iopub.status.idle": "2022-05-20T12:16:42.587122Z",
     "shell.execute_reply": "2022-05-20T12:16:42.587636Z"
    },
    "papermill": {
     "duration": 0.064126,
     "end_time": "2022-05-20T12:16:42.587783",
     "exception": false,
     "start_time": "2022-05-20T12:16:42.523657",
     "status": "completed"
    },
    "tags": []
   },
   "outputs": [
    {
     "data": {
      "text/html": [
       "<div>\n",
       "<style scoped>\n",
       "    .dataframe tbody tr th:only-of-type {\n",
       "        vertical-align: middle;\n",
       "    }\n",
       "\n",
       "    .dataframe tbody tr th {\n",
       "        vertical-align: top;\n",
       "    }\n",
       "\n",
       "    .dataframe thead th {\n",
       "        text-align: right;\n",
       "    }\n",
       "</style>\n",
       "<table border=\"1\" class=\"dataframe\">\n",
       "  <thead>\n",
       "    <tr style=\"text-align: right;\">\n",
       "      <th></th>\n",
       "      <th>Country/Region</th>\n",
       "      <th>Cases</th>\n",
       "      <th>Deaths</th>\n",
       "      <th>PCases</th>\n",
       "      <th>PDeaths</th>\n",
       "      <th>Cases (+)</th>\n",
       "      <th>Deaths (+)</th>\n",
       "      <th>Fatality Rate</th>\n",
       "      <th>Continent</th>\n",
       "    </tr>\n",
       "  </thead>\n",
       "  <tbody>\n",
       "    <tr>\n",
       "      <th>0</th>\n",
       "      <td>US</td>\n",
       "      <td>83060959</td>\n",
       "      <td>1001606</td>\n",
       "      <td>82951379</td>\n",
       "      <td>1001269</td>\n",
       "      <td>109580</td>\n",
       "      <td>337</td>\n",
       "      <td>1.21</td>\n",
       "      <td>North America</td>\n",
       "    </tr>\n",
       "    <tr>\n",
       "      <th>1</th>\n",
       "      <td>India</td>\n",
       "      <td>43131822</td>\n",
       "      <td>524323</td>\n",
       "      <td>43129563</td>\n",
       "      <td>524303</td>\n",
       "      <td>2259</td>\n",
       "      <td>20</td>\n",
       "      <td>1.22</td>\n",
       "      <td>Asia</td>\n",
       "    </tr>\n",
       "    <tr>\n",
       "      <th>2</th>\n",
       "      <td>Brazil</td>\n",
       "      <td>30701900</td>\n",
       "      <td>665216</td>\n",
       "      <td>30701900</td>\n",
       "      <td>665216</td>\n",
       "      <td>0</td>\n",
       "      <td>0</td>\n",
       "      <td>2.17</td>\n",
       "      <td>South America</td>\n",
       "    </tr>\n",
       "    <tr>\n",
       "      <th>3</th>\n",
       "      <td>France</td>\n",
       "      <td>29517146</td>\n",
       "      <td>148753</td>\n",
       "      <td>29489304</td>\n",
       "      <td>148686</td>\n",
       "      <td>27842</td>\n",
       "      <td>67</td>\n",
       "      <td>0.50</td>\n",
       "      <td>Europe</td>\n",
       "    </tr>\n",
       "    <tr>\n",
       "      <th>4</th>\n",
       "      <td>Germany</td>\n",
       "      <td>25998085</td>\n",
       "      <td>138204</td>\n",
       "      <td>25949175</td>\n",
       "      <td>138053</td>\n",
       "      <td>48910</td>\n",
       "      <td>151</td>\n",
       "      <td>0.53</td>\n",
       "      <td>Europe</td>\n",
       "    </tr>\n",
       "  </tbody>\n",
       "</table>\n",
       "</div>"
      ],
      "text/plain": [
       "  Country/Region     Cases   Deaths    PCases  PDeaths  Cases (+)  Deaths (+)  \\\n",
       "0             US  83060959  1001606  82951379  1001269     109580         337   \n",
       "1          India  43131822   524323  43129563   524303       2259          20   \n",
       "2         Brazil  30701900   665216  30701900   665216          0           0   \n",
       "3         France  29517146   148753  29489304   148686      27842          67   \n",
       "4        Germany  25998085   138204  25949175   138053      48910         151   \n",
       "\n",
       "   Fatality Rate      Continent  \n",
       "0           1.21  North America  \n",
       "1           1.22           Asia  \n",
       "2           2.17  South America  \n",
       "3           0.50         Europe  \n",
       "4           0.53         Europe  "
      ]
     },
     "execution_count": 13,
     "metadata": {},
     "output_type": "execute_result"
    }
   ],
   "source": [
    "#hide\n",
    "for c in 'Cases, Deaths'.split(', '):\n",
    "    df_table[f'{c} (+)'] = (df_table[c] - df_table[f'P{c}']).clip(0)\n",
    "    #Clip ça veut dire, les chiffres negatif sont interdit\n",
    "df_table['Fatality Rate'] = (100* df_table['Deaths']/ df_table['Cases']).round(2)\n",
    "df_table['Continent'] = df_table['Country/Region'].map(mapping['map.continent'])\n",
    "df_table.head(5)"
   ]
  },
  {
   "cell_type": "code",
   "execution_count": 14,
   "id": "aboriginal-bulgaria",
   "metadata": {
    "execution": {
     "iopub.execute_input": "2022-05-20T12:16:42.658843Z",
     "iopub.status.busy": "2022-05-20T12:16:42.658194Z",
     "iopub.status.idle": "2022-05-20T12:16:42.661840Z",
     "shell.execute_reply": "2022-05-20T12:16:42.661306Z"
    },
    "papermill": {
     "duration": 0.042226,
     "end_time": "2022-05-20T12:16:42.661975",
     "exception": false,
     "start_time": "2022-05-20T12:16:42.619749",
     "status": "completed"
    },
    "tags": []
   },
   "outputs": [],
   "source": [
    "#hide\n",
    "#delete problematic countries from table\n",
    "df_table = df_table[~df_table['Country/Region'].isin(['Cape Verde', 'Cruise Ship', 'Kosovo'])]"
   ]
  },
  {
   "cell_type": "code",
   "execution_count": 15,
   "id": "fantastic-effect",
   "metadata": {
    "execution": {
     "iopub.execute_input": "2022-05-20T12:16:42.734321Z",
     "iopub.status.busy": "2022-05-20T12:16:42.733688Z",
     "iopub.status.idle": "2022-05-20T12:16:42.753177Z",
     "shell.execute_reply": "2022-05-20T12:16:42.752617Z"
    },
    "papermill": {
     "duration": 0.059687,
     "end_time": "2022-05-20T12:16:42.753302",
     "exception": false,
     "start_time": "2022-05-20T12:16:42.693615",
     "status": "completed"
    },
    "tags": []
   },
   "outputs": [
    {
     "data": {
      "text/html": [
       "<div>\n",
       "<style scoped>\n",
       "    .dataframe tbody tr th:only-of-type {\n",
       "        vertical-align: middle;\n",
       "    }\n",
       "\n",
       "    .dataframe tbody tr th {\n",
       "        vertical-align: top;\n",
       "    }\n",
       "\n",
       "    .dataframe thead th {\n",
       "        text-align: right;\n",
       "    }\n",
       "</style>\n",
       "<table border=\"1\" class=\"dataframe\">\n",
       "  <thead>\n",
       "    <tr style=\"text-align: right;\">\n",
       "      <th></th>\n",
       "      <th>Country/Region</th>\n",
       "      <th>Cases</th>\n",
       "      <th>Deaths</th>\n",
       "      <th>PCases</th>\n",
       "      <th>PDeaths</th>\n",
       "      <th>Cases (+)</th>\n",
       "      <th>Deaths (+)</th>\n",
       "      <th>Fatality Rate</th>\n",
       "      <th>Continent</th>\n",
       "    </tr>\n",
       "  </thead>\n",
       "  <tbody>\n",
       "    <tr>\n",
       "      <th>0</th>\n",
       "      <td>US</td>\n",
       "      <td>83060959</td>\n",
       "      <td>1001606</td>\n",
       "      <td>82951379</td>\n",
       "      <td>1001269</td>\n",
       "      <td>109580</td>\n",
       "      <td>337</td>\n",
       "      <td>1.2</td>\n",
       "      <td>North America</td>\n",
       "    </tr>\n",
       "    <tr>\n",
       "      <th>1</th>\n",
       "      <td>India</td>\n",
       "      <td>43131822</td>\n",
       "      <td>524323</td>\n",
       "      <td>43129563</td>\n",
       "      <td>524303</td>\n",
       "      <td>2259</td>\n",
       "      <td>20</td>\n",
       "      <td>1.2</td>\n",
       "      <td>Asia</td>\n",
       "    </tr>\n",
       "    <tr>\n",
       "      <th>2</th>\n",
       "      <td>Brazil</td>\n",
       "      <td>30701900</td>\n",
       "      <td>665216</td>\n",
       "      <td>30701900</td>\n",
       "      <td>665216</td>\n",
       "      <td>0</td>\n",
       "      <td>0</td>\n",
       "      <td>2.2</td>\n",
       "      <td>South America</td>\n",
       "    </tr>\n",
       "    <tr>\n",
       "      <th>3</th>\n",
       "      <td>France</td>\n",
       "      <td>29517146</td>\n",
       "      <td>148753</td>\n",
       "      <td>29489304</td>\n",
       "      <td>148686</td>\n",
       "      <td>27842</td>\n",
       "      <td>67</td>\n",
       "      <td>0.5</td>\n",
       "      <td>Europe</td>\n",
       "    </tr>\n",
       "    <tr>\n",
       "      <th>4</th>\n",
       "      <td>Germany</td>\n",
       "      <td>25998085</td>\n",
       "      <td>138204</td>\n",
       "      <td>25949175</td>\n",
       "      <td>138053</td>\n",
       "      <td>48910</td>\n",
       "      <td>151</td>\n",
       "      <td>0.5</td>\n",
       "      <td>Europe</td>\n",
       "    </tr>\n",
       "  </tbody>\n",
       "</table>\n",
       "</div>"
      ],
      "text/plain": [
       "  Country/Region     Cases   Deaths    PCases  PDeaths  Cases (+)  Deaths (+)  \\\n",
       "0             US  83060959  1001606  82951379  1001269     109580         337   \n",
       "1          India  43131822   524323  43129563   524303       2259          20   \n",
       "2         Brazil  30701900   665216  30701900   665216          0           0   \n",
       "3         France  29517146   148753  29489304   148686      27842          67   \n",
       "4        Germany  25998085   138204  25949175   138053      48910         151   \n",
       "\n",
       "   Fatality Rate      Continent  \n",
       "0            1.2  North America  \n",
       "1            1.2           Asia  \n",
       "2            2.2  South America  \n",
       "3            0.5         Europe  \n",
       "4            0.5         Europe  "
      ]
     },
     "execution_count": 15,
     "metadata": {},
     "output_type": "execute_result"
    }
   ],
   "source": [
    "#hide\n",
    "df_table = (pd.DataFrame(dict(Cases=dfc_cases, Deaths=dfc_deaths, PCases=dfp_cases, PDeaths=dfp_deaths))\n",
    "             .sort_values(by=['Cases', 'Deaths'], ascending=[False, False])\n",
    "             .reset_index())\n",
    "df_table.rename(columns={'index': 'Country/Region'}, inplace=True)\n",
    "for c in 'Cases, Deaths'.split(', '):\n",
    "    df_table[f'{c} (+)'] = (df_table[c] - df_table[f'P{c}']).clip(0)  # DATA BUG\n",
    "df_table['Fatality Rate'] = (100 * df_table['Deaths'] / df_table['Cases']).round(1)\n",
    "df_table['Continent'] = df_table['Country/Region'].map(mapping['map.continent'])\n",
    "df_table.head(5)"
   ]
  },
  {
   "cell_type": "code",
   "execution_count": 16,
   "id": "fewer-occasion",
   "metadata": {
    "execution": {
     "iopub.execute_input": "2022-05-20T12:16:42.824825Z",
     "iopub.status.busy": "2022-05-20T12:16:42.824151Z",
     "iopub.status.idle": "2022-05-20T12:16:42.826978Z",
     "shell.execute_reply": "2022-05-20T12:16:42.826460Z"
    },
    "papermill": {
     "duration": 0.041264,
     "end_time": "2022-05-20T12:16:42.827107",
     "exception": false,
     "start_time": "2022-05-20T12:16:42.785843",
     "status": "completed"
    },
    "tags": []
   },
   "outputs": [],
   "source": [
    "#hide\n",
    "#delete problematic countries from table\n",
    "df_table = df_table[~df_table['Country/Region'].isin(['Cape Verde', 'Cruise Ship', 'Kosovo'])]"
   ]
  },
  {
   "cell_type": "code",
   "execution_count": 17,
   "id": "related-center",
   "metadata": {
    "execution": {
     "iopub.execute_input": "2022-05-20T12:16:42.920339Z",
     "iopub.status.busy": "2022-05-20T12:16:42.919507Z",
     "iopub.status.idle": "2022-05-20T12:16:42.928253Z",
     "shell.execute_reply": "2022-05-20T12:16:42.927677Z"
    },
    "papermill": {
     "duration": 0.061006,
     "end_time": "2022-05-20T12:16:42.928389",
     "exception": false,
     "start_time": "2022-05-20T12:16:42.867383",
     "status": "completed"
    },
    "tags": []
   },
   "outputs": [],
   "source": [
    "#hide\n",
    "metrics = [df_table.columns[index] for index in [1,2,5,6]]\n",
    "# s_china = df_table[df_table['Country/Region'].eq('China')][metrics].sum().add_prefix('China ')\n",
    "s_us = df_table[df_table['Country/Region'].eq('US')][metrics].sum().add_prefix('US ')\n",
    "s_eu = df_table[df_table['Continent'].eq('Europe')][metrics].sum().add_prefix('EU ')\n",
    "s_ind = df_table[df_table['Country/Region'].eq('India')][metrics].sum().add_prefix('India ')\n",
    "summary = {'updated': pd.to_datetime(dt_today), 'since': pd.to_datetime(dt_yday)}\n",
    "summary = {'updated': pd.to_datetime(dt_today), 'since': pd.to_datetime(dt_yday)}\n",
    "summary = {**summary, **df_table[metrics].sum(), **s_ind, **s_us, **s_eu}"
   ]
  },
  {
   "cell_type": "code",
   "execution_count": 18,
   "id": "engaging-syndrome",
   "metadata": {
    "execution": {
     "iopub.execute_input": "2022-05-20T12:16:43.004762Z",
     "iopub.status.busy": "2022-05-20T12:16:43.004045Z",
     "iopub.status.idle": "2022-05-20T12:16:43.026479Z",
     "shell.execute_reply": "2022-05-20T12:16:43.026962Z"
    },
    "papermill": {
     "duration": 0.063304,
     "end_time": "2022-05-20T12:16:43.027122",
     "exception": false,
     "start_time": "2022-05-20T12:16:42.963818",
     "status": "completed"
    },
    "tags": []
   },
   "outputs": [],
   "source": [
    "#hide\n",
    "dft_ct_new_cases = dft_cases.groupby(COL_REGION)[dt_cols].sum().diff(axis=1).fillna(0).astype(int)"
   ]
  },
  {
   "cell_type": "code",
   "execution_count": 19,
   "id": "neutral-assignment",
   "metadata": {
    "execution": {
     "iopub.execute_input": "2022-05-20T12:16:43.112013Z",
     "iopub.status.busy": "2022-05-20T12:16:43.111342Z",
     "iopub.status.idle": "2022-05-20T12:16:43.114216Z",
     "shell.execute_reply": "2022-05-20T12:16:43.114667Z"
    },
    "papermill": {
     "duration": 0.047874,
     "end_time": "2022-05-20T12:16:43.114816",
     "exception": false,
     "start_time": "2022-05-20T12:16:43.066942",
     "status": "completed"
    },
    "tags": []
   },
   "outputs": [],
   "source": [
    "#hide\n",
    "everydaycases = dft_ct_new_cases.cumsum(axis=1)"
   ]
  },
  {
   "cell_type": "code",
   "execution_count": 20,
   "id": "parliamentary-calgary",
   "metadata": {
    "execution": {
     "iopub.execute_input": "2022-05-20T12:16:43.184771Z",
     "iopub.status.busy": "2022-05-20T12:16:43.184120Z",
     "iopub.status.idle": "2022-05-20T12:16:43.869389Z",
     "shell.execute_reply": "2022-05-20T12:16:43.868399Z"
    },
    "papermill": {
     "duration": 0.722011,
     "end_time": "2022-05-20T12:16:43.869527",
     "exception": false,
     "start_time": "2022-05-20T12:16:43.147516",
     "status": "completed"
    },
    "tags": []
   },
   "outputs": [],
   "source": [
    "#hide\n",
    "import pandas as pd\n",
    "import matplotlib.pyplot as plt\n",
    "import matplotlib.ticker as ticker\n",
    "import matplotlib.animation as animation\n",
    "from IPython.display import HTML"
   ]
  },
  {
   "cell_type": "code",
   "execution_count": 21,
   "id": "lasting-extraction",
   "metadata": {
    "execution": {
     "iopub.execute_input": "2022-05-20T12:16:43.941323Z",
     "iopub.status.busy": "2022-05-20T12:16:43.940662Z",
     "iopub.status.idle": "2022-05-20T12:16:43.948135Z",
     "shell.execute_reply": "2022-05-20T12:16:43.948650Z"
    },
    "papermill": {
     "duration": 0.047,
     "end_time": "2022-05-20T12:16:43.948796",
     "exception": false,
     "start_time": "2022-05-20T12:16:43.901796",
     "status": "completed"
    },
    "tags": []
   },
   "outputs": [],
   "source": [
    "#hide\n",
    "t = everydaycases.stack()"
   ]
  },
  {
   "cell_type": "code",
   "execution_count": 22,
   "id": "premier-sleeve",
   "metadata": {
    "execution": {
     "iopub.execute_input": "2022-05-20T12:16:44.018244Z",
     "iopub.status.busy": "2022-05-20T12:16:44.017657Z",
     "iopub.status.idle": "2022-05-20T12:16:44.029801Z",
     "shell.execute_reply": "2022-05-20T12:16:44.029307Z"
    },
    "papermill": {
     "duration": 0.048589,
     "end_time": "2022-05-20T12:16:44.029926",
     "exception": false,
     "start_time": "2022-05-20T12:16:43.981337",
     "status": "completed"
    },
    "tags": []
   },
   "outputs": [],
   "source": [
    "#hide\n",
    "g = t.reset_index(['Country/Region'])"
   ]
  },
  {
   "cell_type": "code",
   "execution_count": 23,
   "id": "distributed-pittsburgh",
   "metadata": {
    "execution": {
     "iopub.execute_input": "2022-05-20T12:16:44.099843Z",
     "iopub.status.busy": "2022-05-20T12:16:44.099180Z",
     "iopub.status.idle": "2022-05-20T12:16:44.102415Z",
     "shell.execute_reply": "2022-05-20T12:16:44.101378Z"
    },
    "papermill": {
     "duration": 0.040314,
     "end_time": "2022-05-20T12:16:44.102547",
     "exception": false,
     "start_time": "2022-05-20T12:16:44.062233",
     "status": "completed"
    },
    "tags": []
   },
   "outputs": [],
   "source": [
    "#hide\n",
    "g.index.name = 'date'"
   ]
  },
  {
   "cell_type": "code",
   "execution_count": 24,
   "id": "naked-donor",
   "metadata": {
    "execution": {
     "iopub.execute_input": "2022-05-20T12:16:44.183110Z",
     "iopub.status.busy": "2022-05-20T12:16:44.182463Z",
     "iopub.status.idle": "2022-05-20T12:16:44.185026Z",
     "shell.execute_reply": "2022-05-20T12:16:44.184517Z"
    },
    "papermill": {
     "duration": 0.044453,
     "end_time": "2022-05-20T12:16:44.185147",
     "exception": false,
     "start_time": "2022-05-20T12:16:44.140694",
     "status": "completed"
    },
    "tags": []
   },
   "outputs": [],
   "source": [
    "# #hide\n",
    "# g = g.reset_index(['date'])"
   ]
  },
  {
   "cell_type": "code",
   "execution_count": 25,
   "id": "incomplete-mustang",
   "metadata": {
    "execution": {
     "iopub.execute_input": "2022-05-20T12:16:44.254336Z",
     "iopub.status.busy": "2022-05-20T12:16:44.253555Z",
     "iopub.status.idle": "2022-05-20T12:16:44.256129Z",
     "shell.execute_reply": "2022-05-20T12:16:44.255515Z"
    },
    "papermill": {
     "duration": 0.038786,
     "end_time": "2022-05-20T12:16:44.256248",
     "exception": false,
     "start_time": "2022-05-20T12:16:44.217462",
     "status": "completed"
    },
    "tags": []
   },
   "outputs": [],
   "source": [
    "#hide\n",
    "# g.head()"
   ]
  },
  {
   "cell_type": "code",
   "execution_count": 26,
   "id": "specific-kruger",
   "metadata": {
    "execution": {
     "iopub.execute_input": "2022-05-20T12:16:44.333354Z",
     "iopub.status.busy": "2022-05-20T12:16:44.332634Z",
     "iopub.status.idle": "2022-05-20T12:16:44.335381Z",
     "shell.execute_reply": "2022-05-20T12:16:44.334863Z"
    },
    "papermill": {
     "duration": 0.04211,
     "end_time": "2022-05-20T12:16:44.335504",
     "exception": false,
     "start_time": "2022-05-20T12:16:44.293394",
     "status": "completed"
    },
    "tags": []
   },
   "outputs": [],
   "source": [
    "#hide\n",
    "# g.columns = ['date','country','cases']"
   ]
  },
  {
   "cell_type": "code",
   "execution_count": 27,
   "id": "tender-conversion",
   "metadata": {
    "execution": {
     "iopub.execute_input": "2022-05-20T12:16:44.404605Z",
     "iopub.status.busy": "2022-05-20T12:16:44.403936Z",
     "iopub.status.idle": "2022-05-20T12:16:44.408582Z",
     "shell.execute_reply": "2022-05-20T12:16:44.409197Z"
    },
    "papermill": {
     "duration": 0.041636,
     "end_time": "2022-05-20T12:16:44.409354",
     "exception": false,
     "start_time": "2022-05-20T12:16:44.367718",
     "status": "completed"
    },
    "tags": []
   },
   "outputs": [],
   "source": [
    "#hide\n",
    "# g['continent'] = g.country"
   ]
  },
  {
   "cell_type": "code",
   "execution_count": 28,
   "id": "substantial-wilderness",
   "metadata": {
    "execution": {
     "iopub.execute_input": "2022-05-20T12:16:44.481741Z",
     "iopub.status.busy": "2022-05-20T12:16:44.481076Z",
     "iopub.status.idle": "2022-05-20T12:16:44.484433Z",
     "shell.execute_reply": "2022-05-20T12:16:44.483724Z"
    },
    "papermill": {
     "duration": 0.041646,
     "end_time": "2022-05-20T12:16:44.484570",
     "exception": false,
     "start_time": "2022-05-20T12:16:44.442924",
     "status": "completed"
    },
    "tags": []
   },
   "outputs": [],
   "source": [
    "#hide\n",
    "# cols = list(g.columns.values)"
   ]
  },
  {
   "cell_type": "code",
   "execution_count": 29,
   "id": "solved-farming",
   "metadata": {
    "execution": {
     "iopub.execute_input": "2022-05-20T12:16:44.561674Z",
     "iopub.status.busy": "2022-05-20T12:16:44.561023Z",
     "iopub.status.idle": "2022-05-20T12:16:44.563216Z",
     "shell.execute_reply": "2022-05-20T12:16:44.562624Z"
    },
    "papermill": {
     "duration": 0.044076,
     "end_time": "2022-05-20T12:16:44.563345",
     "exception": false,
     "start_time": "2022-05-20T12:16:44.519269",
     "status": "completed"
    },
    "tags": []
   },
   "outputs": [],
   "source": [
    "#hide\n",
    "# cols.insert(0, cols.pop())"
   ]
  },
  {
   "cell_type": "code",
   "execution_count": 30,
   "id": "executed-adoption",
   "metadata": {
    "execution": {
     "iopub.execute_input": "2022-05-20T12:16:44.635439Z",
     "iopub.status.busy": "2022-05-20T12:16:44.634655Z",
     "iopub.status.idle": "2022-05-20T12:16:44.637522Z",
     "shell.execute_reply": "2022-05-20T12:16:44.637020Z"
    },
    "papermill": {
     "duration": 0.040345,
     "end_time": "2022-05-20T12:16:44.637642",
     "exception": false,
     "start_time": "2022-05-20T12:16:44.597297",
     "status": "completed"
    },
    "tags": []
   },
   "outputs": [],
   "source": [
    "#hide\n",
    "# g = g[cols]"
   ]
  },
  {
   "cell_type": "code",
   "execution_count": 31,
   "id": "subject-dublin",
   "metadata": {
    "execution": {
     "iopub.execute_input": "2022-05-20T12:16:44.708489Z",
     "iopub.status.busy": "2022-05-20T12:16:44.707753Z",
     "iopub.status.idle": "2022-05-20T12:16:44.709458Z",
     "shell.execute_reply": "2022-05-20T12:16:44.710081Z"
    },
    "papermill": {
     "duration": 0.038772,
     "end_time": "2022-05-20T12:16:44.710282",
     "exception": false,
     "start_time": "2022-05-20T12:16:44.671510",
     "status": "completed"
    },
    "tags": []
   },
   "outputs": [],
   "source": [
    "#hide\n",
    "# g['continent'] = g['continent'].map(mapping['map.continent'])"
   ]
  },
  {
   "cell_type": "code",
   "execution_count": 32,
   "id": "freelance-scout",
   "metadata": {
    "execution": {
     "iopub.execute_input": "2022-05-20T12:16:44.795178Z",
     "iopub.status.busy": "2022-05-20T12:16:44.794510Z",
     "iopub.status.idle": "2022-05-20T12:16:44.797328Z",
     "shell.execute_reply": "2022-05-20T12:16:44.796681Z"
    },
    "papermill": {
     "duration": 0.046438,
     "end_time": "2022-05-20T12:16:44.797453",
     "exception": false,
     "start_time": "2022-05-20T12:16:44.751015",
     "status": "completed"
    },
    "tags": []
   },
   "outputs": [],
   "source": [
    "#hide\n",
    "# g.head()"
   ]
  },
  {
   "cell_type": "code",
   "execution_count": 33,
   "id": "limited-engine",
   "metadata": {
    "execution": {
     "iopub.execute_input": "2022-05-20T12:16:44.865927Z",
     "iopub.status.busy": "2022-05-20T12:16:44.865276Z",
     "iopub.status.idle": "2022-05-20T12:16:44.867653Z",
     "shell.execute_reply": "2022-05-20T12:16:44.868129Z"
    },
    "papermill": {
     "duration": 0.038726,
     "end_time": "2022-05-20T12:16:44.868280",
     "exception": false,
     "start_time": "2022-05-20T12:16:44.829554",
     "status": "completed"
    },
    "tags": []
   },
   "outputs": [],
   "source": [
    "# hide\n",
    "# g['date'] = g['date'].astype('datetime64[ns]')"
   ]
  },
  {
   "cell_type": "code",
   "execution_count": 34,
   "id": "sophisticated-supervisor",
   "metadata": {
    "execution": {
     "iopub.execute_input": "2022-05-20T12:16:44.944391Z",
     "iopub.status.busy": "2022-05-20T12:16:44.943719Z",
     "iopub.status.idle": "2022-05-20T12:16:44.946630Z",
     "shell.execute_reply": "2022-05-20T12:16:44.946148Z"
    },
    "papermill": {
     "duration": 0.042651,
     "end_time": "2022-05-20T12:16:44.946759",
     "exception": false,
     "start_time": "2022-05-20T12:16:44.904108",
     "status": "completed"
    },
    "tags": []
   },
   "outputs": [],
   "source": [
    "#hide\n",
    "# g['date'] = g.date.dt.dayofyear"
   ]
  },
  {
   "cell_type": "code",
   "execution_count": 35,
   "id": "inside-dubai",
   "metadata": {
    "execution": {
     "iopub.execute_input": "2022-05-20T12:16:45.015607Z",
     "iopub.status.busy": "2022-05-20T12:16:45.014939Z",
     "iopub.status.idle": "2022-05-20T12:16:45.017596Z",
     "shell.execute_reply": "2022-05-20T12:16:45.016874Z"
    },
    "papermill": {
     "duration": 0.03881,
     "end_time": "2022-05-20T12:16:45.017722",
     "exception": false,
     "start_time": "2022-05-20T12:16:44.978912",
     "status": "completed"
    },
    "tags": []
   },
   "outputs": [],
   "source": [
    "#hide\n",
    "# g = g.rename(columns= {'continent':'group','country':'name','cases':'value'})"
   ]
  },
  {
   "cell_type": "code",
   "execution_count": 36,
   "id": "fleet-motorcycle",
   "metadata": {
    "execution": {
     "iopub.execute_input": "2022-05-20T12:16:45.096674Z",
     "iopub.status.busy": "2022-05-20T12:16:45.096031Z",
     "iopub.status.idle": "2022-05-20T12:16:45.100734Z",
     "shell.execute_reply": "2022-05-20T12:16:45.101251Z"
    },
    "papermill": {
     "duration": 0.047719,
     "end_time": "2022-05-20T12:16:45.101409",
     "exception": false,
     "start_time": "2022-05-20T12:16:45.053690",
     "status": "completed"
    },
    "tags": []
   },
   "outputs": [],
   "source": [
    "#hide\n",
    "# cols = ['name','group','day','value']"
   ]
  },
  {
   "cell_type": "code",
   "execution_count": 37,
   "id": "continued-sleeping",
   "metadata": {
    "execution": {
     "iopub.execute_input": "2022-05-20T12:16:45.173585Z",
     "iopub.status.busy": "2022-05-20T12:16:45.172861Z",
     "iopub.status.idle": "2022-05-20T12:16:45.176084Z",
     "shell.execute_reply": "2022-05-20T12:16:45.175558Z"
    },
    "papermill": {
     "duration": 0.042231,
     "end_time": "2022-05-20T12:16:45.176209",
     "exception": false,
     "start_time": "2022-05-20T12:16:45.133978",
     "status": "completed"
    },
    "tags": []
   },
   "outputs": [],
   "source": [
    "#hide\n",
    "# g.rename(columns= {'date':'day'},inplace = True)"
   ]
  },
  {
   "cell_type": "code",
   "execution_count": 38,
   "id": "major-fight",
   "metadata": {
    "execution": {
     "iopub.execute_input": "2022-05-20T12:16:45.246803Z",
     "iopub.status.busy": "2022-05-20T12:16:45.246106Z",
     "iopub.status.idle": "2022-05-20T12:16:45.250921Z",
     "shell.execute_reply": "2022-05-20T12:16:45.250398Z"
    },
    "papermill": {
     "duration": 0.041775,
     "end_time": "2022-05-20T12:16:45.251051",
     "exception": false,
     "start_time": "2022-05-20T12:16:45.209276",
     "status": "completed"
    },
    "tags": []
   },
   "outputs": [],
   "source": [
    "#hide\n",
    "# g = g[cols]"
   ]
  },
  {
   "cell_type": "code",
   "execution_count": 39,
   "id": "structured-mobile",
   "metadata": {
    "execution": {
     "iopub.execute_input": "2022-05-20T12:16:45.327936Z",
     "iopub.status.busy": "2022-05-20T12:16:45.327278Z",
     "iopub.status.idle": "2022-05-20T12:16:45.330136Z",
     "shell.execute_reply": "2022-05-20T12:16:45.329641Z"
    },
    "papermill": {
     "duration": 0.042927,
     "end_time": "2022-05-20T12:16:45.330265",
     "exception": false,
     "start_time": "2022-05-20T12:16:45.287338",
     "status": "completed"
    },
    "tags": []
   },
   "outputs": [],
   "source": [
    "# #hide\n",
    "# g = g[g.group.notna()]"
   ]
  },
  {
   "cell_type": "code",
   "execution_count": 40,
   "id": "determined-closing",
   "metadata": {
    "execution": {
     "iopub.execute_input": "2022-05-20T12:16:45.400097Z",
     "iopub.status.busy": "2022-05-20T12:16:45.399407Z",
     "iopub.status.idle": "2022-05-20T12:16:45.402650Z",
     "shell.execute_reply": "2022-05-20T12:16:45.401997Z"
    },
    "papermill": {
     "duration": 0.04003,
     "end_time": "2022-05-20T12:16:45.402936",
     "exception": false,
     "start_time": "2022-05-20T12:16:45.362906",
     "status": "completed"
    },
    "tags": []
   },
   "outputs": [],
   "source": [
    "# #hide\n",
    "# colors = dict(zip(\n",
    "#     [\"Oceania\", \"Europe\", \"Asia\", \"South America\", \"Middle East\", \"North America\", \"Africa\"],\n",
    "#     [\"#adb0ff\", \"#ffb3ff\", \"#90d595\", \"#e48381\", \"#aafbff\", \"#f7bb5f\", \"#eafb50\"]\n",
    "# ))\n",
    "# group_lk = g.set_index('name')['group'].to_dict()"
   ]
  },
  {
   "cell_type": "code",
   "execution_count": null,
   "id": "gross-drinking",
   "metadata": {
    "papermill": {
     "duration": 0.036317,
     "end_time": "2022-05-20T12:16:45.473166",
     "exception": false,
     "start_time": "2022-05-20T12:16:45.436849",
     "status": "completed"
    },
    "tags": []
   },
   "outputs": [],
   "source": []
  },
  {
   "cell_type": "code",
   "execution_count": 41,
   "id": "subject-macintosh",
   "metadata": {
    "execution": {
     "iopub.execute_input": "2022-05-20T12:16:45.551684Z",
     "iopub.status.busy": "2022-05-20T12:16:45.551019Z",
     "iopub.status.idle": "2022-05-20T12:16:45.555504Z",
     "shell.execute_reply": "2022-05-20T12:16:45.555992Z"
    },
    "papermill": {
     "duration": 0.048359,
     "end_time": "2022-05-20T12:16:45.556149",
     "exception": false,
     "start_time": "2022-05-20T12:16:45.507790",
     "status": "completed"
    },
    "tags": []
   },
   "outputs": [],
   "source": [
    "# #hide\n",
    "# fig, ax = plt.subplots(figsize=(15, 8))\n",
    "\n",
    "# def draw_barchart(current_day):\n",
    "#     dff = g[g['day'].eq(current_day)].sort_values(by='value', ascending=True).tail(10)\n",
    "#     ax.clear()\n",
    "#     ax.barh(dff['name'], dff['value'], color=[colors[group_lk[x]] for x in dff['name']])\n",
    "#     dx = dff['value'].max() / 200\n",
    "    \n",
    "#     for i, (value, name) in enumerate(zip(dff['value'], dff['name'])):\n",
    "#         ax.text(value-dx, i,     name,           size=14, weight=600, ha='right', va='bottom')\n",
    "#         ax.text(value-dx, i-.25, group_lk[name], size=10, color='#444444', ha='right', va='baseline')\n",
    "#         ax.text(value+dx, i,     f'{value:,.0f}',  size=14, ha='left',  va='center')\n",
    "#     ax.text(1, 0.4, current_day, transform=ax.transAxes, color='#777777', size=46, ha='right', weight=800)\n",
    "#     ax.text(0, 1.06, 'Population (thousands)', transform=ax.transAxes, size=12, color='#777777')\n",
    "#     ax.xaxis.set_major_formatter(ticker.StrMethodFormatter('{x:,.0f}'))\n",
    "#     ax.xaxis.set_ticks_position('top')\n",
    "#     ax.tick_params(axis='x', colors='#777777', labelsize=12)\n",
    "#     ax.set_yticks([])\n",
    "#     ax.margins(0, 0.01)\n",
    "#     ax.grid(which='major', axis='x', linestyle='-')\n",
    "#     ax.set_axisbelow(True)\n",
    "    \n",
    "#     ax.text(0, 1.15, 'Coronavirus',\n",
    "#             transform=ax.transAxes, size=24, weight=600, ha='left', va='top')\n",
    "# #     ax.text(1, 0, 'by @pratapvardhan; credit @jburnmurdoch', transform=ax.transAxes, color='#777777', ha='right',\n",
    "# #             bbox=dict(facecolor='white', alpha=0.8, edgecolor='white'))\n",
    "#     plt.box(False)"
   ]
  },
  {
   "cell_type": "code",
   "execution_count": 42,
   "id": "sexual-wages",
   "metadata": {
    "execution": {
     "iopub.execute_input": "2022-05-20T12:16:45.625830Z",
     "iopub.status.busy": "2022-05-20T12:16:45.624908Z",
     "iopub.status.idle": "2022-05-20T12:16:45.627246Z",
     "shell.execute_reply": "2022-05-20T12:16:45.626537Z"
    },
    "papermill": {
     "duration": 0.0388,
     "end_time": "2022-05-20T12:16:45.627375",
     "exception": false,
     "start_time": "2022-05-20T12:16:45.588575",
     "status": "completed"
    },
    "tags": []
   },
   "outputs": [],
   "source": [
    "# #hide_input\n",
    "# fig, ax = plt.subplots(figsize=(15, 8))\n",
    "# animator = animation.FuncAnimation(fig, draw_barchart, frames=range(g.day.values.min(), g.day.values.max()))\n",
    "# HTML(animator.to_jshtml())\n",
    "# # or use animator.to_html5_video() or animator.save() "
   ]
  },
  {
   "cell_type": "code",
   "execution_count": null,
   "id": "australian-container",
   "metadata": {
    "papermill": {
     "duration": 0.034955,
     "end_time": "2022-05-20T12:16:45.698708",
     "exception": false,
     "start_time": "2022-05-20T12:16:45.663753",
     "status": "completed"
    },
    "tags": []
   },
   "outputs": [],
   "source": []
  },
  {
   "cell_type": "code",
   "execution_count": null,
   "id": "mediterranean-pontiac",
   "metadata": {
    "papermill": {
     "duration": 0.032347,
     "end_time": "2022-05-20T12:16:45.764438",
     "exception": false,
     "start_time": "2022-05-20T12:16:45.732091",
     "status": "completed"
    },
    "tags": []
   },
   "outputs": [],
   "source": []
  },
  {
   "cell_type": "code",
   "execution_count": null,
   "id": "aging-legislature",
   "metadata": {
    "papermill": {
     "duration": 0.032257,
     "end_time": "2022-05-20T12:16:45.829230",
     "exception": false,
     "start_time": "2022-05-20T12:16:45.796973",
     "status": "completed"
    },
    "tags": []
   },
   "outputs": [],
   "source": []
  }
 ],
 "metadata": {
  "kernelspec": {
   "display_name": "Python 3",
   "language": "python",
   "name": "python3"
  },
  "language_info": {
   "codemirror_mode": {
    "name": "ipython",
    "version": 3
   },
   "file_extension": ".py",
   "mimetype": "text/x-python",
   "name": "python",
   "nbconvert_exporter": "python",
   "pygments_lexer": "ipython3",
   "version": "3.6.15"
  },
  "papermill": {
   "duration": 6.972392,
   "end_time": "2022-05-20T12:16:46.281943",
   "environment_variables": {},
   "exception": null,
   "input_path": "2020-03-21-covid19exp.ipynb",
   "output_path": "2020-03-21-covid19exp.ipynb",
   "parameters": {},
   "start_time": "2022-05-20T12:16:39.309551",
   "version": "2.0.0"
  }
 },
 "nbformat": 4,
 "nbformat_minor": 5
}