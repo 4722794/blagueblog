{
 "cells": [
  {
   "cell_type": "markdown",
   "id": "muslim-click",
   "metadata": {
    "papermill": {
     "duration": 0.044339,
     "end_time": "2022-09-27T00:57:10.705765",
     "exception": false,
     "start_time": "2022-09-27T00:57:10.661426",
     "status": "completed"
    },
    "tags": []
   },
   "source": [
    "# COVID-19 Case Race\n",
    "> A race chart to see rising cases around the world\n",
    "\n",
    "- author: Hargun Oberoi\n",
    "- image: images/covid-overview.png\n",
    "- hide: false\n",
    "- badges: false"
   ]
  },
  {
   "cell_type": "code",
   "execution_count": 1,
   "id": "proof-material",
   "metadata": {
    "execution": {
     "iopub.execute_input": "2022-09-27T00:57:10.786773Z",
     "iopub.status.busy": "2022-09-27T00:57:10.786008Z",
     "iopub.status.idle": "2022-09-27T00:57:11.172893Z",
     "shell.execute_reply": "2022-09-27T00:57:11.172172Z"
    },
    "papermill": {
     "duration": 0.432,
     "end_time": "2022-09-27T00:57:11.173071",
     "exception": false,
     "start_time": "2022-09-27T00:57:10.741071",
     "status": "completed"
    },
    "tags": []
   },
   "outputs": [],
   "source": [
    "#hide\n",
    "import numpy as np\n",
    "import pandas as pd\n",
    "from jinja2 import Template\n",
    "from IPython.display import HTML"
   ]
  },
  {
   "cell_type": "code",
   "execution_count": 2,
   "id": "developed-terminology",
   "metadata": {
    "execution": {
     "iopub.execute_input": "2022-09-27T00:57:11.252165Z",
     "iopub.status.busy": "2022-09-27T00:57:11.251324Z",
     "iopub.status.idle": "2022-09-27T00:57:11.254136Z",
     "shell.execute_reply": "2022-09-27T00:57:11.254712Z"
    },
    "papermill": {
     "duration": 0.04492,
     "end_time": "2022-09-27T00:57:11.254896",
     "exception": false,
     "start_time": "2022-09-27T00:57:11.209976",
     "status": "completed"
    },
    "tags": []
   },
   "outputs": [],
   "source": [
    "#hide\n",
    "\n",
    "# FETCH\n",
    "base_url = 'https://raw.githubusercontent.com/pratapvardhan/notebooks/master/covid19/'\n",
    "paths = {\n",
    "    'mapping': base_url + 'mapping_countries.csv',\n",
    "    'overview': base_url + 'overview.tpl'\n",
    "}"
   ]
  },
  {
   "cell_type": "code",
   "execution_count": 3,
   "id": "dynamic-saver",
   "metadata": {
    "execution": {
     "iopub.execute_input": "2022-09-27T00:57:11.338648Z",
     "iopub.status.busy": "2022-09-27T00:57:11.337923Z",
     "iopub.status.idle": "2022-09-27T00:57:11.341931Z",
     "shell.execute_reply": "2022-09-27T00:57:11.342502Z"
    },
    "papermill": {
     "duration": 0.049718,
     "end_time": "2022-09-27T00:57:11.342670",
     "exception": false,
     "start_time": "2022-09-27T00:57:11.292952",
     "status": "completed"
    },
    "tags": []
   },
   "outputs": [
    {
     "data": {
      "text/plain": [
       "'https://raw.githubusercontent.com/pratapvardhan/notebooks/master/covid19/mapping_countries.csv'"
      ]
     },
     "execution_count": 3,
     "metadata": {},
     "output_type": "execute_result"
    }
   ],
   "source": [
    "#hide\n",
    "paths['mapping']"
   ]
  },
  {
   "cell_type": "code",
   "execution_count": 4,
   "id": "urban-software",
   "metadata": {
    "execution": {
     "iopub.execute_input": "2022-09-27T00:57:11.423391Z",
     "iopub.status.busy": "2022-09-27T00:57:11.422672Z",
     "iopub.status.idle": "2022-09-27T00:57:11.425314Z",
     "shell.execute_reply": "2022-09-27T00:57:11.425819Z"
    },
    "papermill": {
     "duration": 0.0436,
     "end_time": "2022-09-27T00:57:11.425965",
     "exception": false,
     "start_time": "2022-09-27T00:57:11.382365",
     "status": "completed"
    },
    "tags": []
   },
   "outputs": [],
   "source": [
    "#hide\n",
    "def get_mappings(url):\n",
    "    df = pd.read_csv(url)\n",
    "    return {\n",
    "        'df': df,\n",
    "        'replace.country': dict(df.dropna(subset=['Name']).set_index('Country')['Name']),\n",
    "        'map.continent': dict(df.set_index('Name')['Continent'])\n",
    "    }"
   ]
  },
  {
   "cell_type": "code",
   "execution_count": 5,
   "id": "intimate-machinery",
   "metadata": {
    "execution": {
     "iopub.execute_input": "2022-09-27T00:57:11.499684Z",
     "iopub.status.busy": "2022-09-27T00:57:11.498517Z",
     "iopub.status.idle": "2022-09-27T00:57:11.526685Z",
     "shell.execute_reply": "2022-09-27T00:57:11.527242Z"
    },
    "papermill": {
     "duration": 0.067189,
     "end_time": "2022-09-27T00:57:11.527375",
     "exception": false,
     "start_time": "2022-09-27T00:57:11.460186",
     "status": "completed"
    },
    "tags": []
   },
   "outputs": [],
   "source": [
    "#hide\n",
    "mapping = get_mappings(paths['mapping'])"
   ]
  },
  {
   "cell_type": "code",
   "execution_count": 6,
   "id": "certified-tactics",
   "metadata": {
    "execution": {
     "iopub.execute_input": "2022-09-27T00:57:11.601207Z",
     "iopub.status.busy": "2022-09-27T00:57:11.600489Z",
     "iopub.status.idle": "2022-09-27T00:57:11.604206Z",
     "shell.execute_reply": "2022-09-27T00:57:11.602914Z"
    },
    "papermill": {
     "duration": 0.042655,
     "end_time": "2022-09-27T00:57:11.604332",
     "exception": false,
     "start_time": "2022-09-27T00:57:11.561677",
     "status": "completed"
    },
    "tags": []
   },
   "outputs": [],
   "source": [
    "#hide\n",
    "def get_template(path):\n",
    "    from urllib.parse import urlparse\n",
    "    if bool(urlparse(path).netloc):\n",
    "        from urllib.request import urlopen\n",
    "        return urlopen(path).read().decode('utf8')\n",
    "    return open(path).read()"
   ]
  },
  {
   "cell_type": "code",
   "execution_count": 7,
   "id": "realistic-blast",
   "metadata": {
    "execution": {
     "iopub.execute_input": "2022-09-27T00:57:11.677032Z",
     "iopub.status.busy": "2022-09-27T00:57:11.676324Z",
     "iopub.status.idle": "2022-09-27T00:57:11.678869Z",
     "shell.execute_reply": "2022-09-27T00:57:11.679362Z"
    },
    "papermill": {
     "duration": 0.041384,
     "end_time": "2022-09-27T00:57:11.679498",
     "exception": false,
     "start_time": "2022-09-27T00:57:11.638114",
     "status": "completed"
    },
    "tags": []
   },
   "outputs": [],
   "source": [
    "#hide\n",
    "def get_frame(name):\n",
    "    url = (\n",
    "        'https://raw.githubusercontent.com/CSSEGISandData/COVID-19/master/csse_covid_19_data/'\n",
    "        f'csse_covid_19_time_series/time_series_covid19_{name}_global.csv')\n",
    "    df = pd.read_csv(url)\n",
    "    # rename countries\n",
    "    df['Country/Region'] = df['Country/Region'].replace(mapping['replace.country'])\n",
    "    return df"
   ]
  },
  {
   "cell_type": "code",
   "execution_count": 8,
   "id": "affiliated-characterization",
   "metadata": {
    "execution": {
     "iopub.execute_input": "2022-09-27T00:57:11.755395Z",
     "iopub.status.busy": "2022-09-27T00:57:11.753970Z",
     "iopub.status.idle": "2022-09-27T00:57:11.757382Z",
     "shell.execute_reply": "2022-09-27T00:57:11.756797Z"
    },
    "papermill": {
     "duration": 0.04299,
     "end_time": "2022-09-27T00:57:11.757510",
     "exception": false,
     "start_time": "2022-09-27T00:57:11.714520",
     "status": "completed"
    },
    "tags": []
   },
   "outputs": [],
   "source": [
    "#hide\n",
    "def get_dates(df):\n",
    "    dt_cols = df.columns[~df.columns.isin(['Province/State', 'Country/Region', 'Lat', 'Long'])]\n",
    "    LAST_DATE_I = -1\n",
    "    # sometimes last column may be empty, then go backwards\n",
    "    for i in range(-1, -len(dt_cols), -1):\n",
    "        if not df[dt_cols[i]].fillna(0).eq(0).all():\n",
    "            LAST_DATE_I = i\n",
    "            break\n",
    "    return LAST_DATE_I, dt_cols"
   ]
  },
  {
   "cell_type": "code",
   "execution_count": 9,
   "id": "recent-optimization",
   "metadata": {
    "execution": {
     "iopub.execute_input": "2022-09-27T00:57:11.834258Z",
     "iopub.status.busy": "2022-09-27T00:57:11.833366Z",
     "iopub.status.idle": "2022-09-27T00:57:12.330868Z",
     "shell.execute_reply": "2022-09-27T00:57:12.331389Z"
    },
    "papermill": {
     "duration": 0.537397,
     "end_time": "2022-09-27T00:57:12.331557",
     "exception": false,
     "start_time": "2022-09-27T00:57:11.794160",
     "status": "completed"
    },
    "tags": []
   },
   "outputs": [],
   "source": [
    "#hide\n",
    "COL_REGION = 'Country/Region'\n",
    "# Confirmed, Recovered, Deaths\n",
    "df = get_frame('confirmed')\n",
    "# dft_: timeseries, dfc_: today country agg\n",
    "dft_cases = df\n",
    "dft_deaths = get_frame('deaths')\n",
    "dft_recovered = get_frame('recovered')\n",
    "LAST_DATE_I, dt_cols = get_dates(df)"
   ]
  },
  {
   "cell_type": "code",
   "execution_count": 10,
   "id": "absolute-copper",
   "metadata": {
    "execution": {
     "iopub.execute_input": "2022-09-27T00:57:12.412678Z",
     "iopub.status.busy": "2022-09-27T00:57:12.411817Z",
     "iopub.status.idle": "2022-09-27T00:57:12.414959Z",
     "shell.execute_reply": "2022-09-27T00:57:12.415560Z"
    },
    "papermill": {
     "duration": 0.048129,
     "end_time": "2022-09-27T00:57:12.415707",
     "exception": false,
     "start_time": "2022-09-27T00:57:12.367578",
     "status": "completed"
    },
    "tags": []
   },
   "outputs": [],
   "source": [
    "#hide\n",
    "LAST_DATE_I, dt_cols = get_dates(df)\n",
    "dt_today =dt_cols[LAST_DATE_I]\n",
    "# dt_5day = dt_cols[LAST_DATE_I - 5]\n",
    "dt_yday = dt_cols[LAST_DATE_I - 1]"
   ]
  },
  {
   "cell_type": "code",
   "execution_count": 11,
   "id": "restricted-sheriff",
   "metadata": {
    "execution": {
     "iopub.execute_input": "2022-09-27T00:57:12.495567Z",
     "iopub.status.busy": "2022-09-27T00:57:12.494819Z",
     "iopub.status.idle": "2022-09-27T00:57:12.500515Z",
     "shell.execute_reply": "2022-09-27T00:57:12.501862Z"
    },
    "papermill": {
     "duration": 0.049641,
     "end_time": "2022-09-27T00:57:12.502006",
     "exception": false,
     "start_time": "2022-09-27T00:57:12.452365",
     "status": "completed"
    },
    "tags": []
   },
   "outputs": [],
   "source": [
    "#hide\n",
    "dfc_cases = dft_cases.groupby(COL_REGION)[dt_today].sum()\n",
    "dfc_deaths = dft_deaths.groupby(COL_REGION)[dt_today].sum()\n",
    "# dfp_cases = dft_cases.groupby(COL_REGION)[dt_5day].sum()\n",
    "# dfp_deaths = dft_deaths.groupby(COL_REGION)[dt_5day].sum()\n",
    "dfp_cases = dft_cases.groupby(COL_REGION)[dt_yday].sum()\n",
    "dfp_deaths = dft_deaths.groupby(COL_REGION)[dt_yday].sum()"
   ]
  },
  {
   "cell_type": "code",
   "execution_count": 12,
   "id": "deluxe-hepatitis",
   "metadata": {
    "execution": {
     "iopub.execute_input": "2022-09-27T00:57:12.577778Z",
     "iopub.status.busy": "2022-09-27T00:57:12.577072Z",
     "iopub.status.idle": "2022-09-27T00:57:12.581240Z",
     "shell.execute_reply": "2022-09-27T00:57:12.581881Z"
    },
    "papermill": {
     "duration": 0.047302,
     "end_time": "2022-09-27T00:57:12.582054",
     "exception": false,
     "start_time": "2022-09-27T00:57:12.534752",
     "status": "completed"
    },
    "tags": []
   },
   "outputs": [],
   "source": [
    "#hide\n",
    "df_table = (pd.DataFrame(dict(Cases = dfc_cases, Deaths = dfc_deaths, PCases = dfp_cases, PDeaths = dfp_deaths))\n",
    "            .sort_values(by = ['Cases','Deaths'], ascending = [False, False])\n",
    "            .reset_index())"
   ]
  },
  {
   "cell_type": "code",
   "execution_count": 13,
   "id": "educational-chancellor",
   "metadata": {
    "execution": {
     "iopub.execute_input": "2022-09-27T00:57:12.666448Z",
     "iopub.status.busy": "2022-09-27T00:57:12.665679Z",
     "iopub.status.idle": "2022-09-27T00:57:12.684588Z",
     "shell.execute_reply": "2022-09-27T00:57:12.685351Z"
    },
    "papermill": {
     "duration": 0.065289,
     "end_time": "2022-09-27T00:57:12.685539",
     "exception": false,
     "start_time": "2022-09-27T00:57:12.620250",
     "status": "completed"
    },
    "tags": []
   },
   "outputs": [
    {
     "data": {
      "text/html": [
       "<div>\n",
       "<style scoped>\n",
       "    .dataframe tbody tr th:only-of-type {\n",
       "        vertical-align: middle;\n",
       "    }\n",
       "\n",
       "    .dataframe tbody tr th {\n",
       "        vertical-align: top;\n",
       "    }\n",
       "\n",
       "    .dataframe thead th {\n",
       "        text-align: right;\n",
       "    }\n",
       "</style>\n",
       "<table border=\"1\" class=\"dataframe\">\n",
       "  <thead>\n",
       "    <tr style=\"text-align: right;\">\n",
       "      <th></th>\n",
       "      <th>Country/Region</th>\n",
       "      <th>Cases</th>\n",
       "      <th>Deaths</th>\n",
       "      <th>PCases</th>\n",
       "      <th>PDeaths</th>\n",
       "      <th>Cases (+)</th>\n",
       "      <th>Deaths (+)</th>\n",
       "      <th>Fatality Rate</th>\n",
       "      <th>Continent</th>\n",
       "    </tr>\n",
       "  </thead>\n",
       "  <tbody>\n",
       "    <tr>\n",
       "      <th>0</th>\n",
       "      <td>US</td>\n",
       "      <td>96070980</td>\n",
       "      <td>1056416</td>\n",
       "      <td>96065161</td>\n",
       "      <td>1056409</td>\n",
       "      <td>5819</td>\n",
       "      <td>7</td>\n",
       "      <td>1.10</td>\n",
       "      <td>North America</td>\n",
       "    </tr>\n",
       "    <tr>\n",
       "      <th>1</th>\n",
       "      <td>India</td>\n",
       "      <td>44572243</td>\n",
       "      <td>528530</td>\n",
       "      <td>44568114</td>\n",
       "      <td>528510</td>\n",
       "      <td>4129</td>\n",
       "      <td>20</td>\n",
       "      <td>1.19</td>\n",
       "      <td>Asia</td>\n",
       "    </tr>\n",
       "    <tr>\n",
       "      <th>2</th>\n",
       "      <td>France</td>\n",
       "      <td>35304648</td>\n",
       "      <td>155927</td>\n",
       "      <td>35304648</td>\n",
       "      <td>155927</td>\n",
       "      <td>0</td>\n",
       "      <td>0</td>\n",
       "      <td>0.44</td>\n",
       "      <td>Europe</td>\n",
       "    </tr>\n",
       "    <tr>\n",
       "      <th>3</th>\n",
       "      <td>Brazil</td>\n",
       "      <td>34624427</td>\n",
       "      <td>685750</td>\n",
       "      <td>34624427</td>\n",
       "      <td>685750</td>\n",
       "      <td>0</td>\n",
       "      <td>0</td>\n",
       "      <td>1.98</td>\n",
       "      <td>South America</td>\n",
       "    </tr>\n",
       "    <tr>\n",
       "      <th>4</th>\n",
       "      <td>Germany</td>\n",
       "      <td>32952050</td>\n",
       "      <td>149458</td>\n",
       "      <td>32952050</td>\n",
       "      <td>149458</td>\n",
       "      <td>0</td>\n",
       "      <td>0</td>\n",
       "      <td>0.45</td>\n",
       "      <td>Europe</td>\n",
       "    </tr>\n",
       "  </tbody>\n",
       "</table>\n",
       "</div>"
      ],
      "text/plain": [
       "  Country/Region     Cases   Deaths    PCases  PDeaths  Cases (+)  Deaths (+)  \\\n",
       "0             US  96070980  1056416  96065161  1056409       5819           7   \n",
       "1          India  44572243   528530  44568114   528510       4129          20   \n",
       "2         France  35304648   155927  35304648   155927          0           0   \n",
       "3         Brazil  34624427   685750  34624427   685750          0           0   \n",
       "4        Germany  32952050   149458  32952050   149458          0           0   \n",
       "\n",
       "   Fatality Rate      Continent  \n",
       "0           1.10  North America  \n",
       "1           1.19           Asia  \n",
       "2           0.44         Europe  \n",
       "3           1.98  South America  \n",
       "4           0.45         Europe  "
      ]
     },
     "execution_count": 13,
     "metadata": {},
     "output_type": "execute_result"
    }
   ],
   "source": [
    "#hide\n",
    "for c in 'Cases, Deaths'.split(', '):\n",
    "    df_table[f'{c} (+)'] = (df_table[c] - df_table[f'P{c}']).clip(0)\n",
    "    #Clip ça veut dire, les chiffres negatif sont interdit\n",
    "df_table['Fatality Rate'] = (100* df_table['Deaths']/ df_table['Cases']).round(2)\n",
    "df_table['Continent'] = df_table['Country/Region'].map(mapping['map.continent'])\n",
    "df_table.head(5)"
   ]
  },
  {
   "cell_type": "code",
   "execution_count": 14,
   "id": "aboriginal-bulgaria",
   "metadata": {
    "execution": {
     "iopub.execute_input": "2022-09-27T00:57:12.763190Z",
     "iopub.status.busy": "2022-09-27T00:57:12.762427Z",
     "iopub.status.idle": "2022-09-27T00:57:12.765147Z",
     "shell.execute_reply": "2022-09-27T00:57:12.765648Z"
    },
    "papermill": {
     "duration": 0.043449,
     "end_time": "2022-09-27T00:57:12.765793",
     "exception": false,
     "start_time": "2022-09-27T00:57:12.722344",
     "status": "completed"
    },
    "tags": []
   },
   "outputs": [],
   "source": [
    "#hide\n",
    "#delete problematic countries from table\n",
    "df_table = df_table[~df_table['Country/Region'].isin(['Cape Verde', 'Cruise Ship', 'Kosovo'])]"
   ]
  },
  {
   "cell_type": "code",
   "execution_count": 15,
   "id": "fantastic-effect",
   "metadata": {
    "execution": {
     "iopub.execute_input": "2022-09-27T00:57:12.844453Z",
     "iopub.status.busy": "2022-09-27T00:57:12.843592Z",
     "iopub.status.idle": "2022-09-27T00:57:12.865376Z",
     "shell.execute_reply": "2022-09-27T00:57:12.866032Z"
    },
    "papermill": {
     "duration": 0.066064,
     "end_time": "2022-09-27T00:57:12.866172",
     "exception": false,
     "start_time": "2022-09-27T00:57:12.800108",
     "status": "completed"
    },
    "tags": []
   },
   "outputs": [
    {
     "data": {
      "text/html": [
       "<div>\n",
       "<style scoped>\n",
       "    .dataframe tbody tr th:only-of-type {\n",
       "        vertical-align: middle;\n",
       "    }\n",
       "\n",
       "    .dataframe tbody tr th {\n",
       "        vertical-align: top;\n",
       "    }\n",
       "\n",
       "    .dataframe thead th {\n",
       "        text-align: right;\n",
       "    }\n",
       "</style>\n",
       "<table border=\"1\" class=\"dataframe\">\n",
       "  <thead>\n",
       "    <tr style=\"text-align: right;\">\n",
       "      <th></th>\n",
       "      <th>Country/Region</th>\n",
       "      <th>Cases</th>\n",
       "      <th>Deaths</th>\n",
       "      <th>PCases</th>\n",
       "      <th>PDeaths</th>\n",
       "      <th>Cases (+)</th>\n",
       "      <th>Deaths (+)</th>\n",
       "      <th>Fatality Rate</th>\n",
       "      <th>Continent</th>\n",
       "    </tr>\n",
       "  </thead>\n",
       "  <tbody>\n",
       "    <tr>\n",
       "      <th>0</th>\n",
       "      <td>US</td>\n",
       "      <td>96070980</td>\n",
       "      <td>1056416</td>\n",
       "      <td>96065161</td>\n",
       "      <td>1056409</td>\n",
       "      <td>5819</td>\n",
       "      <td>7</td>\n",
       "      <td>1.1</td>\n",
       "      <td>North America</td>\n",
       "    </tr>\n",
       "    <tr>\n",
       "      <th>1</th>\n",
       "      <td>India</td>\n",
       "      <td>44572243</td>\n",
       "      <td>528530</td>\n",
       "      <td>44568114</td>\n",
       "      <td>528510</td>\n",
       "      <td>4129</td>\n",
       "      <td>20</td>\n",
       "      <td>1.2</td>\n",
       "      <td>Asia</td>\n",
       "    </tr>\n",
       "    <tr>\n",
       "      <th>2</th>\n",
       "      <td>France</td>\n",
       "      <td>35304648</td>\n",
       "      <td>155927</td>\n",
       "      <td>35304648</td>\n",
       "      <td>155927</td>\n",
       "      <td>0</td>\n",
       "      <td>0</td>\n",
       "      <td>0.4</td>\n",
       "      <td>Europe</td>\n",
       "    </tr>\n",
       "    <tr>\n",
       "      <th>3</th>\n",
       "      <td>Brazil</td>\n",
       "      <td>34624427</td>\n",
       "      <td>685750</td>\n",
       "      <td>34624427</td>\n",
       "      <td>685750</td>\n",
       "      <td>0</td>\n",
       "      <td>0</td>\n",
       "      <td>2.0</td>\n",
       "      <td>South America</td>\n",
       "    </tr>\n",
       "    <tr>\n",
       "      <th>4</th>\n",
       "      <td>Germany</td>\n",
       "      <td>32952050</td>\n",
       "      <td>149458</td>\n",
       "      <td>32952050</td>\n",
       "      <td>149458</td>\n",
       "      <td>0</td>\n",
       "      <td>0</td>\n",
       "      <td>0.5</td>\n",
       "      <td>Europe</td>\n",
       "    </tr>\n",
       "  </tbody>\n",
       "</table>\n",
       "</div>"
      ],
      "text/plain": [
       "  Country/Region     Cases   Deaths    PCases  PDeaths  Cases (+)  Deaths (+)  \\\n",
       "0             US  96070980  1056416  96065161  1056409       5819           7   \n",
       "1          India  44572243   528530  44568114   528510       4129          20   \n",
       "2         France  35304648   155927  35304648   155927          0           0   \n",
       "3         Brazil  34624427   685750  34624427   685750          0           0   \n",
       "4        Germany  32952050   149458  32952050   149458          0           0   \n",
       "\n",
       "   Fatality Rate      Continent  \n",
       "0            1.1  North America  \n",
       "1            1.2           Asia  \n",
       "2            0.4         Europe  \n",
       "3            2.0  South America  \n",
       "4            0.5         Europe  "
      ]
     },
     "execution_count": 15,
     "metadata": {},
     "output_type": "execute_result"
    }
   ],
   "source": [
    "#hide\n",
    "df_table = (pd.DataFrame(dict(Cases=dfc_cases, Deaths=dfc_deaths, PCases=dfp_cases, PDeaths=dfp_deaths))\n",
    "             .sort_values(by=['Cases', 'Deaths'], ascending=[False, False])\n",
    "             .reset_index())\n",
    "df_table.rename(columns={'index': 'Country/Region'}, inplace=True)\n",
    "for c in 'Cases, Deaths'.split(', '):\n",
    "    df_table[f'{c} (+)'] = (df_table[c] - df_table[f'P{c}']).clip(0)  # DATA BUG\n",
    "df_table['Fatality Rate'] = (100 * df_table['Deaths'] / df_table['Cases']).round(1)\n",
    "df_table['Continent'] = df_table['Country/Region'].map(mapping['map.continent'])\n",
    "df_table.head(5)"
   ]
  },
  {
   "cell_type": "code",
   "execution_count": 16,
   "id": "fewer-occasion",
   "metadata": {
    "execution": {
     "iopub.execute_input": "2022-09-27T00:57:12.943181Z",
     "iopub.status.busy": "2022-09-27T00:57:12.942464Z",
     "iopub.status.idle": "2022-09-27T00:57:12.946151Z",
     "shell.execute_reply": "2022-09-27T00:57:12.945599Z"
    },
    "papermill": {
     "duration": 0.045068,
     "end_time": "2022-09-27T00:57:12.946275",
     "exception": false,
     "start_time": "2022-09-27T00:57:12.901207",
     "status": "completed"
    },
    "tags": []
   },
   "outputs": [],
   "source": [
    "#hide\n",
    "#delete problematic countries from table\n",
    "df_table = df_table[~df_table['Country/Region'].isin(['Cape Verde', 'Cruise Ship', 'Kosovo'])]"
   ]
  },
  {
   "cell_type": "code",
   "execution_count": 17,
   "id": "related-center",
   "metadata": {
    "execution": {
     "iopub.execute_input": "2022-09-27T00:57:13.042106Z",
     "iopub.status.busy": "2022-09-27T00:57:13.041358Z",
     "iopub.status.idle": "2022-09-27T00:57:13.044179Z",
     "shell.execute_reply": "2022-09-27T00:57:13.044770Z"
    },
    "papermill": {
     "duration": 0.060677,
     "end_time": "2022-09-27T00:57:13.044914",
     "exception": false,
     "start_time": "2022-09-27T00:57:12.984237",
     "status": "completed"
    },
    "tags": []
   },
   "outputs": [],
   "source": [
    "#hide\n",
    "metrics = [df_table.columns[index] for index in [1,2,5,6]]\n",
    "# s_china = df_table[df_table['Country/Region'].eq('China')][metrics].sum().add_prefix('China ')\n",
    "s_us = df_table[df_table['Country/Region'].eq('US')][metrics].sum().add_prefix('US ')\n",
    "s_eu = df_table[df_table['Continent'].eq('Europe')][metrics].sum().add_prefix('EU ')\n",
    "s_ind = df_table[df_table['Country/Region'].eq('India')][metrics].sum().add_prefix('India ')\n",
    "summary = {'updated': pd.to_datetime(dt_today), 'since': pd.to_datetime(dt_yday)}\n",
    "summary = {'updated': pd.to_datetime(dt_today), 'since': pd.to_datetime(dt_yday)}\n",
    "summary = {**summary, **df_table[metrics].sum(), **s_ind, **s_us, **s_eu}"
   ]
  },
  {
   "cell_type": "code",
   "execution_count": 18,
   "id": "engaging-syndrome",
   "metadata": {
    "execution": {
     "iopub.execute_input": "2022-09-27T00:57:13.126992Z",
     "iopub.status.busy": "2022-09-27T00:57:13.126290Z",
     "iopub.status.idle": "2022-09-27T00:57:13.146075Z",
     "shell.execute_reply": "2022-09-27T00:57:13.147266Z"
    },
    "papermill": {
     "duration": 0.064753,
     "end_time": "2022-09-27T00:57:13.147431",
     "exception": false,
     "start_time": "2022-09-27T00:57:13.082678",
     "status": "completed"
    },
    "tags": []
   },
   "outputs": [],
   "source": [
    "#hide\n",
    "dft_ct_new_cases = dft_cases.groupby(COL_REGION)[dt_cols].sum().diff(axis=1).fillna(0).astype(int)"
   ]
  },
  {
   "cell_type": "code",
   "execution_count": 19,
   "id": "neutral-assignment",
   "metadata": {
    "execution": {
     "iopub.execute_input": "2022-09-27T00:57:13.227745Z",
     "iopub.status.busy": "2022-09-27T00:57:13.226935Z",
     "iopub.status.idle": "2022-09-27T00:57:13.230711Z",
     "shell.execute_reply": "2022-09-27T00:57:13.230091Z"
    },
    "papermill": {
     "duration": 0.047353,
     "end_time": "2022-09-27T00:57:13.230870",
     "exception": false,
     "start_time": "2022-09-27T00:57:13.183517",
     "status": "completed"
    },
    "tags": []
   },
   "outputs": [],
   "source": [
    "#hide\n",
    "everydaycases = dft_ct_new_cases.cumsum(axis=1)"
   ]
  },
  {
   "cell_type": "code",
   "execution_count": 20,
   "id": "parliamentary-calgary",
   "metadata": {
    "execution": {
     "iopub.execute_input": "2022-09-27T00:57:13.311885Z",
     "iopub.status.busy": "2022-09-27T00:57:13.311150Z",
     "iopub.status.idle": "2022-09-27T00:57:13.914181Z",
     "shell.execute_reply": "2022-09-27T00:57:13.914699Z"
    },
    "papermill": {
     "duration": 0.64723,
     "end_time": "2022-09-27T00:57:13.914876",
     "exception": false,
     "start_time": "2022-09-27T00:57:13.267646",
     "status": "completed"
    },
    "tags": []
   },
   "outputs": [],
   "source": [
    "#hide\n",
    "import pandas as pd\n",
    "import matplotlib.pyplot as plt\n",
    "import matplotlib.ticker as ticker\n",
    "import matplotlib.animation as animation\n",
    "from IPython.display import HTML"
   ]
  },
  {
   "cell_type": "code",
   "execution_count": 21,
   "id": "lasting-extraction",
   "metadata": {
    "execution": {
     "iopub.execute_input": "2022-09-27T00:57:13.995755Z",
     "iopub.status.busy": "2022-09-27T00:57:13.995090Z",
     "iopub.status.idle": "2022-09-27T00:57:14.003928Z",
     "shell.execute_reply": "2022-09-27T00:57:14.003162Z"
    },
    "papermill": {
     "duration": 0.05212,
     "end_time": "2022-09-27T00:57:14.004063",
     "exception": false,
     "start_time": "2022-09-27T00:57:13.951943",
     "status": "completed"
    },
    "tags": []
   },
   "outputs": [],
   "source": [
    "#hide\n",
    "t = everydaycases.stack()"
   ]
  },
  {
   "cell_type": "code",
   "execution_count": 22,
   "id": "premier-sleeve",
   "metadata": {
    "execution": {
     "iopub.execute_input": "2022-09-27T00:57:14.081680Z",
     "iopub.status.busy": "2022-09-27T00:57:14.080888Z",
     "iopub.status.idle": "2022-09-27T00:57:14.094803Z",
     "shell.execute_reply": "2022-09-27T00:57:14.094032Z"
    },
    "papermill": {
     "duration": 0.055925,
     "end_time": "2022-09-27T00:57:14.094936",
     "exception": false,
     "start_time": "2022-09-27T00:57:14.039011",
     "status": "completed"
    },
    "tags": []
   },
   "outputs": [],
   "source": [
    "#hide\n",
    "g = t.reset_index(['Country/Region'])"
   ]
  },
  {
   "cell_type": "code",
   "execution_count": 23,
   "id": "distributed-pittsburgh",
   "metadata": {
    "execution": {
     "iopub.execute_input": "2022-09-27T00:57:14.174743Z",
     "iopub.status.busy": "2022-09-27T00:57:14.173982Z",
     "iopub.status.idle": "2022-09-27T00:57:14.178116Z",
     "shell.execute_reply": "2022-09-27T00:57:14.177360Z"
    },
    "papermill": {
     "duration": 0.04702,
     "end_time": "2022-09-27T00:57:14.178277",
     "exception": false,
     "start_time": "2022-09-27T00:57:14.131257",
     "status": "completed"
    },
    "tags": []
   },
   "outputs": [],
   "source": [
    "#hide\n",
    "g.index.name = 'date'"
   ]
  },
  {
   "cell_type": "code",
   "execution_count": 24,
   "id": "naked-donor",
   "metadata": {
    "execution": {
     "iopub.execute_input": "2022-09-27T00:57:14.254788Z",
     "iopub.status.busy": "2022-09-27T00:57:14.254069Z",
     "iopub.status.idle": "2022-09-27T00:57:14.259193Z",
     "shell.execute_reply": "2022-09-27T00:57:14.258642Z"
    },
    "papermill": {
     "duration": 0.043331,
     "end_time": "2022-09-27T00:57:14.259313",
     "exception": false,
     "start_time": "2022-09-27T00:57:14.215982",
     "status": "completed"
    },
    "tags": []
   },
   "outputs": [],
   "source": [
    "# #hide\n",
    "# g = g.reset_index(['date'])"
   ]
  },
  {
   "cell_type": "code",
   "execution_count": 25,
   "id": "incomplete-mustang",
   "metadata": {
    "execution": {
     "iopub.execute_input": "2022-09-27T00:57:14.337069Z",
     "iopub.status.busy": "2022-09-27T00:57:14.336270Z",
     "iopub.status.idle": "2022-09-27T00:57:14.338826Z",
     "shell.execute_reply": "2022-09-27T00:57:14.339358Z"
    },
    "papermill": {
     "duration": 0.043691,
     "end_time": "2022-09-27T00:57:14.339512",
     "exception": false,
     "start_time": "2022-09-27T00:57:14.295821",
     "status": "completed"
    },
    "tags": []
   },
   "outputs": [],
   "source": [
    "#hide\n",
    "# g.head()"
   ]
  },
  {
   "cell_type": "code",
   "execution_count": 26,
   "id": "specific-kruger",
   "metadata": {
    "execution": {
     "iopub.execute_input": "2022-09-27T00:57:14.416922Z",
     "iopub.status.busy": "2022-09-27T00:57:14.416151Z",
     "iopub.status.idle": "2022-09-27T00:57:14.419023Z",
     "shell.execute_reply": "2022-09-27T00:57:14.419517Z"
    },
    "papermill": {
     "duration": 0.043423,
     "end_time": "2022-09-27T00:57:14.419655",
     "exception": false,
     "start_time": "2022-09-27T00:57:14.376232",
     "status": "completed"
    },
    "tags": []
   },
   "outputs": [],
   "source": [
    "#hide\n",
    "# g.columns = ['date','country','cases']"
   ]
  },
  {
   "cell_type": "code",
   "execution_count": 27,
   "id": "tender-conversion",
   "metadata": {
    "execution": {
     "iopub.execute_input": "2022-09-27T00:57:14.502291Z",
     "iopub.status.busy": "2022-09-27T00:57:14.501564Z",
     "iopub.status.idle": "2022-09-27T00:57:14.504882Z",
     "shell.execute_reply": "2022-09-27T00:57:14.504259Z"
    },
    "papermill": {
     "duration": 0.046627,
     "end_time": "2022-09-27T00:57:14.505014",
     "exception": false,
     "start_time": "2022-09-27T00:57:14.458387",
     "status": "completed"
    },
    "tags": []
   },
   "outputs": [],
   "source": [
    "#hide\n",
    "# g['continent'] = g.country"
   ]
  },
  {
   "cell_type": "code",
   "execution_count": 28,
   "id": "substantial-wilderness",
   "metadata": {
    "execution": {
     "iopub.execute_input": "2022-09-27T00:57:14.582724Z",
     "iopub.status.busy": "2022-09-27T00:57:14.582044Z",
     "iopub.status.idle": "2022-09-27T00:57:14.585180Z",
     "shell.execute_reply": "2022-09-27T00:57:14.584573Z"
    },
    "papermill": {
     "duration": 0.044206,
     "end_time": "2022-09-27T00:57:14.585316",
     "exception": false,
     "start_time": "2022-09-27T00:57:14.541110",
     "status": "completed"
    },
    "tags": []
   },
   "outputs": [],
   "source": [
    "#hide\n",
    "# cols = list(g.columns.values)"
   ]
  },
  {
   "cell_type": "code",
   "execution_count": 29,
   "id": "solved-farming",
   "metadata": {
    "execution": {
     "iopub.execute_input": "2022-09-27T00:57:14.667841Z",
     "iopub.status.busy": "2022-09-27T00:57:14.666980Z",
     "iopub.status.idle": "2022-09-27T00:57:14.670204Z",
     "shell.execute_reply": "2022-09-27T00:57:14.669621Z"
    },
    "papermill": {
     "duration": 0.045319,
     "end_time": "2022-09-27T00:57:14.670335",
     "exception": false,
     "start_time": "2022-09-27T00:57:14.625016",
     "status": "completed"
    },
    "tags": []
   },
   "outputs": [],
   "source": [
    "#hide\n",
    "# cols.insert(0, cols.pop())"
   ]
  },
  {
   "cell_type": "code",
   "execution_count": 30,
   "id": "executed-adoption",
   "metadata": {
    "execution": {
     "iopub.execute_input": "2022-09-27T00:57:14.749041Z",
     "iopub.status.busy": "2022-09-27T00:57:14.747635Z",
     "iopub.status.idle": "2022-09-27T00:57:14.751942Z",
     "shell.execute_reply": "2022-09-27T00:57:14.750886Z"
    },
    "papermill": {
     "duration": 0.043434,
     "end_time": "2022-09-27T00:57:14.752071",
     "exception": false,
     "start_time": "2022-09-27T00:57:14.708637",
     "status": "completed"
    },
    "tags": []
   },
   "outputs": [],
   "source": [
    "#hide\n",
    "# g = g[cols]"
   ]
  },
  {
   "cell_type": "code",
   "execution_count": 31,
   "id": "subject-dublin",
   "metadata": {
    "execution": {
     "iopub.execute_input": "2022-09-27T00:57:14.833620Z",
     "iopub.status.busy": "2022-09-27T00:57:14.832850Z",
     "iopub.status.idle": "2022-09-27T00:57:14.836576Z",
     "shell.execute_reply": "2022-09-27T00:57:14.835886Z"
    },
    "papermill": {
     "duration": 0.047116,
     "end_time": "2022-09-27T00:57:14.836732",
     "exception": false,
     "start_time": "2022-09-27T00:57:14.789616",
     "status": "completed"
    },
    "tags": []
   },
   "outputs": [],
   "source": [
    "#hide\n",
    "# g['continent'] = g['continent'].map(mapping['map.continent'])"
   ]
  },
  {
   "cell_type": "code",
   "execution_count": 32,
   "id": "freelance-scout",
   "metadata": {
    "execution": {
     "iopub.execute_input": "2022-09-27T00:57:14.918211Z",
     "iopub.status.busy": "2022-09-27T00:57:14.917453Z",
     "iopub.status.idle": "2022-09-27T00:57:14.920975Z",
     "shell.execute_reply": "2022-09-27T00:57:14.921533Z"
    },
    "papermill": {
     "duration": 0.046408,
     "end_time": "2022-09-27T00:57:14.921691",
     "exception": false,
     "start_time": "2022-09-27T00:57:14.875283",
     "status": "completed"
    },
    "tags": []
   },
   "outputs": [],
   "source": [
    "#hide\n",
    "# g.head()"
   ]
  },
  {
   "cell_type": "code",
   "execution_count": 33,
   "id": "limited-engine",
   "metadata": {
    "execution": {
     "iopub.execute_input": "2022-09-27T00:57:15.014394Z",
     "iopub.status.busy": "2022-09-27T00:57:15.013626Z",
     "iopub.status.idle": "2022-09-27T00:57:15.017353Z",
     "shell.execute_reply": "2022-09-27T00:57:15.016726Z"
    },
    "papermill": {
     "duration": 0.054715,
     "end_time": "2022-09-27T00:57:15.017500",
     "exception": false,
     "start_time": "2022-09-27T00:57:14.962785",
     "status": "completed"
    },
    "tags": []
   },
   "outputs": [],
   "source": [
    "# hide\n",
    "# g['date'] = g['date'].astype('datetime64[ns]')"
   ]
  },
  {
   "cell_type": "code",
   "execution_count": 34,
   "id": "sophisticated-supervisor",
   "metadata": {
    "execution": {
     "iopub.execute_input": "2022-09-27T00:57:15.103298Z",
     "iopub.status.busy": "2022-09-27T00:57:15.102634Z",
     "iopub.status.idle": "2022-09-27T00:57:15.105669Z",
     "shell.execute_reply": "2022-09-27T00:57:15.105129Z"
    },
    "papermill": {
     "duration": 0.046366,
     "end_time": "2022-09-27T00:57:15.105793",
     "exception": false,
     "start_time": "2022-09-27T00:57:15.059427",
     "status": "completed"
    },
    "tags": []
   },
   "outputs": [],
   "source": [
    "#hide\n",
    "# g['date'] = g.date.dt.dayofyear"
   ]
  },
  {
   "cell_type": "code",
   "execution_count": 35,
   "id": "inside-dubai",
   "metadata": {
    "execution": {
     "iopub.execute_input": "2022-09-27T00:57:15.179423Z",
     "iopub.status.busy": "2022-09-27T00:57:15.178739Z",
     "iopub.status.idle": "2022-09-27T00:57:15.181926Z",
     "shell.execute_reply": "2022-09-27T00:57:15.181368Z"
    },
    "papermill": {
     "duration": 0.04249,
     "end_time": "2022-09-27T00:57:15.182052",
     "exception": false,
     "start_time": "2022-09-27T00:57:15.139562",
     "status": "completed"
    },
    "tags": []
   },
   "outputs": [],
   "source": [
    "#hide\n",
    "# g = g.rename(columns= {'continent':'group','country':'name','cases':'value'})"
   ]
  },
  {
   "cell_type": "code",
   "execution_count": 36,
   "id": "fleet-motorcycle",
   "metadata": {
    "execution": {
     "iopub.execute_input": "2022-09-27T00:57:15.257678Z",
     "iopub.status.busy": "2022-09-27T00:57:15.257012Z",
     "iopub.status.idle": "2022-09-27T00:57:15.259504Z",
     "shell.execute_reply": "2022-09-27T00:57:15.259995Z"
    },
    "papermill": {
     "duration": 0.042705,
     "end_time": "2022-09-27T00:57:15.260132",
     "exception": false,
     "start_time": "2022-09-27T00:57:15.217427",
     "status": "completed"
    },
    "tags": []
   },
   "outputs": [],
   "source": [
    "#hide\n",
    "# cols = ['name','group','day','value']"
   ]
  },
  {
   "cell_type": "code",
   "execution_count": 37,
   "id": "continued-sleeping",
   "metadata": {
    "execution": {
     "iopub.execute_input": "2022-09-27T00:57:15.337173Z",
     "iopub.status.busy": "2022-09-27T00:57:15.336446Z",
     "iopub.status.idle": "2022-09-27T00:57:15.338976Z",
     "shell.execute_reply": "2022-09-27T00:57:15.339703Z"
    },
    "papermill": {
     "duration": 0.043505,
     "end_time": "2022-09-27T00:57:15.339860",
     "exception": false,
     "start_time": "2022-09-27T00:57:15.296355",
     "status": "completed"
    },
    "tags": []
   },
   "outputs": [],
   "source": [
    "#hide\n",
    "# g.rename(columns= {'date':'day'},inplace = True)"
   ]
  },
  {
   "cell_type": "code",
   "execution_count": 38,
   "id": "major-fight",
   "metadata": {
    "execution": {
     "iopub.execute_input": "2022-09-27T00:57:15.418135Z",
     "iopub.status.busy": "2022-09-27T00:57:15.417420Z",
     "iopub.status.idle": "2022-09-27T00:57:15.419963Z",
     "shell.execute_reply": "2022-09-27T00:57:15.420455Z"
    },
    "papermill": {
     "duration": 0.043684,
     "end_time": "2022-09-27T00:57:15.420625",
     "exception": false,
     "start_time": "2022-09-27T00:57:15.376941",
     "status": "completed"
    },
    "tags": []
   },
   "outputs": [],
   "source": [
    "#hide\n",
    "# g = g[cols]"
   ]
  },
  {
   "cell_type": "code",
   "execution_count": 39,
   "id": "structured-mobile",
   "metadata": {
    "execution": {
     "iopub.execute_input": "2022-09-27T00:57:15.497629Z",
     "iopub.status.busy": "2022-09-27T00:57:15.496886Z",
     "iopub.status.idle": "2022-09-27T00:57:15.499565Z",
     "shell.execute_reply": "2022-09-27T00:57:15.500134Z"
    },
    "papermill": {
     "duration": 0.042673,
     "end_time": "2022-09-27T00:57:15.500286",
     "exception": false,
     "start_time": "2022-09-27T00:57:15.457613",
     "status": "completed"
    },
    "tags": []
   },
   "outputs": [],
   "source": [
    "# #hide\n",
    "# g = g[g.group.notna()]"
   ]
  },
  {
   "cell_type": "code",
   "execution_count": 40,
   "id": "determined-closing",
   "metadata": {
    "execution": {
     "iopub.execute_input": "2022-09-27T00:57:15.575335Z",
     "iopub.status.busy": "2022-09-27T00:57:15.574519Z",
     "iopub.status.idle": "2022-09-27T00:57:15.577113Z",
     "shell.execute_reply": "2022-09-27T00:57:15.577604Z"
    },
    "papermill": {
     "duration": 0.041757,
     "end_time": "2022-09-27T00:57:15.577740",
     "exception": false,
     "start_time": "2022-09-27T00:57:15.535983",
     "status": "completed"
    },
    "tags": []
   },
   "outputs": [],
   "source": [
    "# #hide\n",
    "# colors = dict(zip(\n",
    "#     [\"Oceania\", \"Europe\", \"Asia\", \"South America\", \"Middle East\", \"North America\", \"Africa\"],\n",
    "#     [\"#adb0ff\", \"#ffb3ff\", \"#90d595\", \"#e48381\", \"#aafbff\", \"#f7bb5f\", \"#eafb50\"]\n",
    "# ))\n",
    "# group_lk = g.set_index('name')['group'].to_dict()"
   ]
  },
  {
   "cell_type": "code",
   "execution_count": null,
   "id": "gross-drinking",
   "metadata": {
    "papermill": {
     "duration": 0.038997,
     "end_time": "2022-09-27T00:57:15.652940",
     "exception": false,
     "start_time": "2022-09-27T00:57:15.613943",
     "status": "completed"
    },
    "tags": []
   },
   "outputs": [],
   "source": []
  },
  {
   "cell_type": "code",
   "execution_count": 41,
   "id": "subject-macintosh",
   "metadata": {
    "execution": {
     "iopub.execute_input": "2022-09-27T00:57:15.726959Z",
     "iopub.status.busy": "2022-09-27T00:57:15.726202Z",
     "iopub.status.idle": "2022-09-27T00:57:15.729473Z",
     "shell.execute_reply": "2022-09-27T00:57:15.728906Z"
    },
    "papermill": {
     "duration": 0.042558,
     "end_time": "2022-09-27T00:57:15.729597",
     "exception": false,
     "start_time": "2022-09-27T00:57:15.687039",
     "status": "completed"
    },
    "tags": []
   },
   "outputs": [],
   "source": [
    "# #hide\n",
    "# fig, ax = plt.subplots(figsize=(15, 8))\n",
    "\n",
    "# def draw_barchart(current_day):\n",
    "#     dff = g[g['day'].eq(current_day)].sort_values(by='value', ascending=True).tail(10)\n",
    "#     ax.clear()\n",
    "#     ax.barh(dff['name'], dff['value'], color=[colors[group_lk[x]] for x in dff['name']])\n",
    "#     dx = dff['value'].max() / 200\n",
    "    \n",
    "#     for i, (value, name) in enumerate(zip(dff['value'], dff['name'])):\n",
    "#         ax.text(value-dx, i,     name,           size=14, weight=600, ha='right', va='bottom')\n",
    "#         ax.text(value-dx, i-.25, group_lk[name], size=10, color='#444444', ha='right', va='baseline')\n",
    "#         ax.text(value+dx, i,     f'{value:,.0f}',  size=14, ha='left',  va='center')\n",
    "#     ax.text(1, 0.4, current_day, transform=ax.transAxes, color='#777777', size=46, ha='right', weight=800)\n",
    "#     ax.text(0, 1.06, 'Population (thousands)', transform=ax.transAxes, size=12, color='#777777')\n",
    "#     ax.xaxis.set_major_formatter(ticker.StrMethodFormatter('{x:,.0f}'))\n",
    "#     ax.xaxis.set_ticks_position('top')\n",
    "#     ax.tick_params(axis='x', colors='#777777', labelsize=12)\n",
    "#     ax.set_yticks([])\n",
    "#     ax.margins(0, 0.01)\n",
    "#     ax.grid(which='major', axis='x', linestyle='-')\n",
    "#     ax.set_axisbelow(True)\n",
    "    \n",
    "#     ax.text(0, 1.15, 'Coronavirus',\n",
    "#             transform=ax.transAxes, size=24, weight=600, ha='left', va='top')\n",
    "# #     ax.text(1, 0, 'by @pratapvardhan; credit @jburnmurdoch', transform=ax.transAxes, color='#777777', ha='right',\n",
    "# #             bbox=dict(facecolor='white', alpha=0.8, edgecolor='white'))\n",
    "#     plt.box(False)"
   ]
  },
  {
   "cell_type": "code",
   "execution_count": 42,
   "id": "sexual-wages",
   "metadata": {
    "execution": {
     "iopub.execute_input": "2022-09-27T00:57:15.804242Z",
     "iopub.status.busy": "2022-09-27T00:57:15.803555Z",
     "iopub.status.idle": "2022-09-27T00:57:15.806477Z",
     "shell.execute_reply": "2022-09-27T00:57:15.805924Z"
    },
    "papermill": {
     "duration": 0.042231,
     "end_time": "2022-09-27T00:57:15.806602",
     "exception": false,
     "start_time": "2022-09-27T00:57:15.764371",
     "status": "completed"
    },
    "tags": []
   },
   "outputs": [],
   "source": [
    "# #hide_input\n",
    "# fig, ax = plt.subplots(figsize=(15, 8))\n",
    "# animator = animation.FuncAnimation(fig, draw_barchart, frames=range(g.day.values.min(), g.day.values.max()))\n",
    "# HTML(animator.to_jshtml())\n",
    "# # or use animator.to_html5_video() or animator.save() "
   ]
  },
  {
   "cell_type": "code",
   "execution_count": null,
   "id": "australian-container",
   "metadata": {
    "papermill": {
     "duration": 0.035899,
     "end_time": "2022-09-27T00:57:15.877802",
     "exception": false,
     "start_time": "2022-09-27T00:57:15.841903",
     "status": "completed"
    },
    "tags": []
   },
   "outputs": [],
   "source": []
  },
  {
   "cell_type": "code",
   "execution_count": null,
   "id": "mediterranean-pontiac",
   "metadata": {
    "papermill": {
     "duration": 0.03511,
     "end_time": "2022-09-27T00:57:15.947486",
     "exception": false,
     "start_time": "2022-09-27T00:57:15.912376",
     "status": "completed"
    },
    "tags": []
   },
   "outputs": [],
   "source": []
  },
  {
   "cell_type": "code",
   "execution_count": null,
   "id": "aging-legislature",
   "metadata": {
    "papermill": {
     "duration": 0.034685,
     "end_time": "2022-09-27T00:57:16.019357",
     "exception": false,
     "start_time": "2022-09-27T00:57:15.984672",
     "status": "completed"
    },
    "tags": []
   },
   "outputs": [],
   "source": []
  }
 ],
 "metadata": {
  "kernelspec": {
   "display_name": "Python 3",
   "language": "python",
   "name": "python3"
  },
  "language_info": {
   "codemirror_mode": {
    "name": "ipython",
    "version": 3
   },
   "file_extension": ".py",
   "mimetype": "text/x-python",
   "name": "python",
   "nbconvert_exporter": "python",
   "pygments_lexer": "ipython3",
   "version": "3.6.15"
  },
  "papermill": {
   "duration": 7.11602,
   "end_time": "2022-09-27T00:57:16.476953",
   "environment_variables": {},
   "exception": null,
   "input_path": "2020-03-21-covid19exp.ipynb",
   "output_path": "2020-03-21-covid19exp.ipynb",
   "parameters": {},
   "start_time": "2022-09-27T00:57:09.360933",
   "version": "2.0.0"
  }
 },
 "nbformat": 4,
 "nbformat_minor": 5
}