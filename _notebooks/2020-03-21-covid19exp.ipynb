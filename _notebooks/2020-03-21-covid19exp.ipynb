{
 "cells": [
  {
   "cell_type": "markdown",
   "id": "muslim-click",
   "metadata": {
    "papermill": {
     "duration": 0.033675,
     "end_time": "2022-01-15T00:26:57.422483",
     "exception": false,
     "start_time": "2022-01-15T00:26:57.388808",
     "status": "completed"
    },
    "tags": []
   },
   "source": [
    "# COVID-19 Case Race\n",
    "> A race chart to see rising cases around the world\n",
    "\n",
    "- author: Hargun Oberoi\n",
    "- image: images/covid-overview.png\n",
    "- hide: false\n",
    "- badges: false"
   ]
  },
  {
   "cell_type": "code",
   "execution_count": 1,
   "id": "proof-material",
   "metadata": {
    "execution": {
     "iopub.execute_input": "2022-01-15T00:26:57.494617Z",
     "iopub.status.busy": "2022-01-15T00:26:57.494084Z",
     "iopub.status.idle": "2022-01-15T00:26:57.830103Z",
     "shell.execute_reply": "2022-01-15T00:26:57.829551Z"
    },
    "papermill": {
     "duration": 0.377619,
     "end_time": "2022-01-15T00:26:57.830264",
     "exception": false,
     "start_time": "2022-01-15T00:26:57.452645",
     "status": "completed"
    },
    "tags": []
   },
   "outputs": [],
   "source": [
    "#hide\n",
    "import numpy as np\n",
    "import pandas as pd\n",
    "from jinja2 import Template\n",
    "from IPython.display import HTML"
   ]
  },
  {
   "cell_type": "code",
   "execution_count": 2,
   "id": "developed-terminology",
   "metadata": {
    "execution": {
     "iopub.execute_input": "2022-01-15T00:26:57.895274Z",
     "iopub.status.busy": "2022-01-15T00:26:57.894720Z",
     "iopub.status.idle": "2022-01-15T00:26:57.896754Z",
     "shell.execute_reply": "2022-01-15T00:26:57.896337Z"
    },
    "papermill": {
     "duration": 0.036604,
     "end_time": "2022-01-15T00:26:57.896868",
     "exception": false,
     "start_time": "2022-01-15T00:26:57.860264",
     "status": "completed"
    },
    "tags": []
   },
   "outputs": [],
   "source": [
    "#hide\n",
    "\n",
    "# FETCH\n",
    "base_url = 'https://raw.githubusercontent.com/pratapvardhan/notebooks/master/covid19/'\n",
    "paths = {\n",
    "    'mapping': base_url + 'mapping_countries.csv',\n",
    "    'overview': base_url + 'overview.tpl'\n",
    "}"
   ]
  },
  {
   "cell_type": "code",
   "execution_count": 3,
   "id": "dynamic-saver",
   "metadata": {
    "execution": {
     "iopub.execute_input": "2022-01-15T00:26:57.966616Z",
     "iopub.status.busy": "2022-01-15T00:26:57.966065Z",
     "iopub.status.idle": "2022-01-15T00:26:57.968412Z",
     "shell.execute_reply": "2022-01-15T00:26:57.968850Z"
    },
    "papermill": {
     "duration": 0.042265,
     "end_time": "2022-01-15T00:26:57.968987",
     "exception": false,
     "start_time": "2022-01-15T00:26:57.926722",
     "status": "completed"
    },
    "tags": []
   },
   "outputs": [
    {
     "data": {
      "text/plain": [
       "'https://raw.githubusercontent.com/pratapvardhan/notebooks/master/covid19/mapping_countries.csv'"
      ]
     },
     "execution_count": 3,
     "metadata": {},
     "output_type": "execute_result"
    }
   ],
   "source": [
    "#hide\n",
    "paths['mapping']"
   ]
  },
  {
   "cell_type": "code",
   "execution_count": 4,
   "id": "urban-software",
   "metadata": {
    "execution": {
     "iopub.execute_input": "2022-01-15T00:26:58.034269Z",
     "iopub.status.busy": "2022-01-15T00:26:58.033670Z",
     "iopub.status.idle": "2022-01-15T00:26:58.035155Z",
     "shell.execute_reply": "2022-01-15T00:26:58.035644Z"
    },
    "papermill": {
     "duration": 0.037094,
     "end_time": "2022-01-15T00:26:58.035795",
     "exception": false,
     "start_time": "2022-01-15T00:26:57.998701",
     "status": "completed"
    },
    "tags": []
   },
   "outputs": [],
   "source": [
    "#hide\n",
    "def get_mappings(url):\n",
    "    df = pd.read_csv(url)\n",
    "    return {\n",
    "        'df': df,\n",
    "        'replace.country': dict(df.dropna(subset=['Name']).set_index('Country')['Name']),\n",
    "        'map.continent': dict(df.set_index('Name')['Continent'])\n",
    "    }"
   ]
  },
  {
   "cell_type": "code",
   "execution_count": 5,
   "id": "intimate-machinery",
   "metadata": {
    "execution": {
     "iopub.execute_input": "2022-01-15T00:26:58.100667Z",
     "iopub.status.busy": "2022-01-15T00:26:58.100145Z",
     "iopub.status.idle": "2022-01-15T00:26:58.127051Z",
     "shell.execute_reply": "2022-01-15T00:26:58.126561Z"
    },
    "papermill": {
     "duration": 0.061808,
     "end_time": "2022-01-15T00:26:58.127185",
     "exception": false,
     "start_time": "2022-01-15T00:26:58.065377",
     "status": "completed"
    },
    "tags": []
   },
   "outputs": [],
   "source": [
    "#hide\n",
    "mapping = get_mappings(paths['mapping'])"
   ]
  },
  {
   "cell_type": "code",
   "execution_count": 6,
   "id": "certified-tactics",
   "metadata": {
    "execution": {
     "iopub.execute_input": "2022-01-15T00:26:58.192338Z",
     "iopub.status.busy": "2022-01-15T00:26:58.191768Z",
     "iopub.status.idle": "2022-01-15T00:26:58.193796Z",
     "shell.execute_reply": "2022-01-15T00:26:58.193381Z"
    },
    "papermill": {
     "duration": 0.036598,
     "end_time": "2022-01-15T00:26:58.193912",
     "exception": false,
     "start_time": "2022-01-15T00:26:58.157314",
     "status": "completed"
    },
    "tags": []
   },
   "outputs": [],
   "source": [
    "#hide\n",
    "def get_template(path):\n",
    "    from urllib.parse import urlparse\n",
    "    if bool(urlparse(path).netloc):\n",
    "        from urllib.request import urlopen\n",
    "        return urlopen(path).read().decode('utf8')\n",
    "    return open(path).read()"
   ]
  },
  {
   "cell_type": "code",
   "execution_count": 7,
   "id": "realistic-blast",
   "metadata": {
    "execution": {
     "iopub.execute_input": "2022-01-15T00:26:58.258591Z",
     "iopub.status.busy": "2022-01-15T00:26:58.257980Z",
     "iopub.status.idle": "2022-01-15T00:26:58.262231Z",
     "shell.execute_reply": "2022-01-15T00:26:58.261817Z"
    },
    "papermill": {
     "duration": 0.038667,
     "end_time": "2022-01-15T00:26:58.262345",
     "exception": false,
     "start_time": "2022-01-15T00:26:58.223678",
     "status": "completed"
    },
    "tags": []
   },
   "outputs": [],
   "source": [
    "#hide\n",
    "def get_frame(name):\n",
    "    url = (\n",
    "        'https://raw.githubusercontent.com/CSSEGISandData/COVID-19/master/csse_covid_19_data/'\n",
    "        f'csse_covid_19_time_series/time_series_covid19_{name}_global.csv')\n",
    "    df = pd.read_csv(url)\n",
    "    # rename countries\n",
    "    df['Country/Region'] = df['Country/Region'].replace(mapping['replace.country'])\n",
    "    return df"
   ]
  },
  {
   "cell_type": "code",
   "execution_count": 8,
   "id": "affiliated-characterization",
   "metadata": {
    "execution": {
     "iopub.execute_input": "2022-01-15T00:26:58.327852Z",
     "iopub.status.busy": "2022-01-15T00:26:58.327314Z",
     "iopub.status.idle": "2022-01-15T00:26:58.329860Z",
     "shell.execute_reply": "2022-01-15T00:26:58.329451Z"
    },
    "papermill": {
     "duration": 0.037744,
     "end_time": "2022-01-15T00:26:58.329972",
     "exception": false,
     "start_time": "2022-01-15T00:26:58.292228",
     "status": "completed"
    },
    "tags": []
   },
   "outputs": [],
   "source": [
    "#hide\n",
    "def get_dates(df):\n",
    "    dt_cols = df.columns[~df.columns.isin(['Province/State', 'Country/Region', 'Lat', 'Long'])]\n",
    "    LAST_DATE_I = -1\n",
    "    # sometimes last column may be empty, then go backwards\n",
    "    for i in range(-1, -len(dt_cols), -1):\n",
    "        if not df[dt_cols[i]].fillna(0).eq(0).all():\n",
    "            LAST_DATE_I = i\n",
    "            break\n",
    "    return LAST_DATE_I, dt_cols"
   ]
  },
  {
   "cell_type": "code",
   "execution_count": 9,
   "id": "recent-optimization",
   "metadata": {
    "execution": {
     "iopub.execute_input": "2022-01-15T00:26:58.394811Z",
     "iopub.status.busy": "2022-01-15T00:26:58.394284Z",
     "iopub.status.idle": "2022-01-15T00:26:58.698660Z",
     "shell.execute_reply": "2022-01-15T00:26:58.698176Z"
    },
    "papermill": {
     "duration": 0.339413,
     "end_time": "2022-01-15T00:26:58.698792",
     "exception": false,
     "start_time": "2022-01-15T00:26:58.359379",
     "status": "completed"
    },
    "tags": []
   },
   "outputs": [],
   "source": [
    "#hide\n",
    "COL_REGION = 'Country/Region'\n",
    "# Confirmed, Recovered, Deaths\n",
    "df = get_frame('confirmed')\n",
    "# dft_: timeseries, dfc_: today country agg\n",
    "dft_cases = df\n",
    "dft_deaths = get_frame('deaths')\n",
    "dft_recovered = get_frame('recovered')\n",
    "LAST_DATE_I, dt_cols = get_dates(df)"
   ]
  },
  {
   "cell_type": "code",
   "execution_count": 10,
   "id": "absolute-copper",
   "metadata": {
    "execution": {
     "iopub.execute_input": "2022-01-15T00:26:58.765165Z",
     "iopub.status.busy": "2022-01-15T00:26:58.764561Z",
     "iopub.status.idle": "2022-01-15T00:26:58.766762Z",
     "shell.execute_reply": "2022-01-15T00:26:58.766292Z"
    },
    "papermill": {
     "duration": 0.037685,
     "end_time": "2022-01-15T00:26:58.766890",
     "exception": false,
     "start_time": "2022-01-15T00:26:58.729205",
     "status": "completed"
    },
    "tags": []
   },
   "outputs": [],
   "source": [
    "#hide\n",
    "LAST_DATE_I, dt_cols = get_dates(df)\n",
    "dt_today =dt_cols[LAST_DATE_I]\n",
    "# dt_5day = dt_cols[LAST_DATE_I - 5]\n",
    "dt_yday = dt_cols[LAST_DATE_I - 1]"
   ]
  },
  {
   "cell_type": "code",
   "execution_count": 11,
   "id": "restricted-sheriff",
   "metadata": {
    "execution": {
     "iopub.execute_input": "2022-01-15T00:26:58.834625Z",
     "iopub.status.busy": "2022-01-15T00:26:58.834092Z",
     "iopub.status.idle": "2022-01-15T00:26:58.839254Z",
     "shell.execute_reply": "2022-01-15T00:26:58.839695Z"
    },
    "papermill": {
     "duration": 0.042882,
     "end_time": "2022-01-15T00:26:58.839851",
     "exception": false,
     "start_time": "2022-01-15T00:26:58.796969",
     "status": "completed"
    },
    "tags": []
   },
   "outputs": [],
   "source": [
    "#hide\n",
    "dfc_cases = dft_cases.groupby(COL_REGION)[dt_today].sum()\n",
    "dfc_deaths = dft_deaths.groupby(COL_REGION)[dt_today].sum()\n",
    "# dfp_cases = dft_cases.groupby(COL_REGION)[dt_5day].sum()\n",
    "# dfp_deaths = dft_deaths.groupby(COL_REGION)[dt_5day].sum()\n",
    "dfp_cases = dft_cases.groupby(COL_REGION)[dt_yday].sum()\n",
    "dfp_deaths = dft_deaths.groupby(COL_REGION)[dt_yday].sum()"
   ]
  },
  {
   "cell_type": "code",
   "execution_count": 12,
   "id": "deluxe-hepatitis",
   "metadata": {
    "execution": {
     "iopub.execute_input": "2022-01-15T00:26:58.905931Z",
     "iopub.status.busy": "2022-01-15T00:26:58.905407Z",
     "iopub.status.idle": "2022-01-15T00:26:58.910061Z",
     "shell.execute_reply": "2022-01-15T00:26:58.909643Z"
    },
    "papermill": {
     "duration": 0.040511,
     "end_time": "2022-01-15T00:26:58.910176",
     "exception": false,
     "start_time": "2022-01-15T00:26:58.869665",
     "status": "completed"
    },
    "tags": []
   },
   "outputs": [],
   "source": [
    "#hide\n",
    "df_table = (pd.DataFrame(dict(Cases = dfc_cases, Deaths = dfc_deaths, PCases = dfp_cases, PDeaths = dfp_deaths))\n",
    "            .sort_values(by = ['Cases','Deaths'], ascending = [False, False])\n",
    "            .reset_index())"
   ]
  },
  {
   "cell_type": "code",
   "execution_count": 13,
   "id": "educational-chancellor",
   "metadata": {
    "execution": {
     "iopub.execute_input": "2022-01-15T00:26:58.987627Z",
     "iopub.status.busy": "2022-01-15T00:26:58.987087Z",
     "iopub.status.idle": "2022-01-15T00:26:58.994613Z",
     "shell.execute_reply": "2022-01-15T00:26:58.994196Z"
    },
    "papermill": {
     "duration": 0.054901,
     "end_time": "2022-01-15T00:26:58.994731",
     "exception": false,
     "start_time": "2022-01-15T00:26:58.939830",
     "status": "completed"
    },
    "tags": []
   },
   "outputs": [
    {
     "data": {
      "text/html": [
       "<div>\n",
       "<style scoped>\n",
       "    .dataframe tbody tr th:only-of-type {\n",
       "        vertical-align: middle;\n",
       "    }\n",
       "\n",
       "    .dataframe tbody tr th {\n",
       "        vertical-align: top;\n",
       "    }\n",
       "\n",
       "    .dataframe thead th {\n",
       "        text-align: right;\n",
       "    }\n",
       "</style>\n",
       "<table border=\"1\" class=\"dataframe\">\n",
       "  <thead>\n",
       "    <tr style=\"text-align: right;\">\n",
       "      <th></th>\n",
       "      <th>Country/Region</th>\n",
       "      <th>Cases</th>\n",
       "      <th>Deaths</th>\n",
       "      <th>PCases</th>\n",
       "      <th>PDeaths</th>\n",
       "      <th>Cases (+)</th>\n",
       "      <th>Deaths (+)</th>\n",
       "      <th>Fatality Rate</th>\n",
       "      <th>Continent</th>\n",
       "    </tr>\n",
       "  </thead>\n",
       "  <tbody>\n",
       "    <tr>\n",
       "      <th>0</th>\n",
       "      <td>US</td>\n",
       "      <td>64062060</td>\n",
       "      <td>846463</td>\n",
       "      <td>63285605</td>\n",
       "      <td>844588</td>\n",
       "      <td>776455</td>\n",
       "      <td>1875</td>\n",
       "      <td>1.32</td>\n",
       "      <td>North America</td>\n",
       "    </tr>\n",
       "    <tr>\n",
       "      <th>1</th>\n",
       "      <td>India</td>\n",
       "      <td>36317927</td>\n",
       "      <td>485131</td>\n",
       "      <td>36317927</td>\n",
       "      <td>485035</td>\n",
       "      <td>0</td>\n",
       "      <td>96</td>\n",
       "      <td>1.34</td>\n",
       "      <td>Asia</td>\n",
       "    </tr>\n",
       "    <tr>\n",
       "      <th>2</th>\n",
       "      <td>Brazil</td>\n",
       "      <td>22822177</td>\n",
       "      <td>620830</td>\n",
       "      <td>22724232</td>\n",
       "      <td>620641</td>\n",
       "      <td>97945</td>\n",
       "      <td>189</td>\n",
       "      <td>2.72</td>\n",
       "      <td>South America</td>\n",
       "    </tr>\n",
       "    <tr>\n",
       "      <th>3</th>\n",
       "      <td>United Kingdom</td>\n",
       "      <td>15064685</td>\n",
       "      <td>151833</td>\n",
       "      <td>14958196</td>\n",
       "      <td>151496</td>\n",
       "      <td>106489</td>\n",
       "      <td>337</td>\n",
       "      <td>1.01</td>\n",
       "      <td>Europe</td>\n",
       "    </tr>\n",
       "    <tr>\n",
       "      <th>4</th>\n",
       "      <td>France</td>\n",
       "      <td>13351053</td>\n",
       "      <td>127520</td>\n",
       "      <td>13042665</td>\n",
       "      <td>127294</td>\n",
       "      <td>308388</td>\n",
       "      <td>226</td>\n",
       "      <td>0.96</td>\n",
       "      <td>Europe</td>\n",
       "    </tr>\n",
       "  </tbody>\n",
       "</table>\n",
       "</div>"
      ],
      "text/plain": [
       "   Country/Region     Cases  Deaths    PCases  PDeaths  Cases (+)  Deaths (+)  \\\n",
       "0              US  64062060  846463  63285605   844588     776455        1875   \n",
       "1           India  36317927  485131  36317927   485035          0          96   \n",
       "2          Brazil  22822177  620830  22724232   620641      97945         189   \n",
       "3  United Kingdom  15064685  151833  14958196   151496     106489         337   \n",
       "4          France  13351053  127520  13042665   127294     308388         226   \n",
       "\n",
       "   Fatality Rate      Continent  \n",
       "0           1.32  North America  \n",
       "1           1.34           Asia  \n",
       "2           2.72  South America  \n",
       "3           1.01         Europe  \n",
       "4           0.96         Europe  "
      ]
     },
     "execution_count": 13,
     "metadata": {},
     "output_type": "execute_result"
    }
   ],
   "source": [
    "#hide\n",
    "for c in 'Cases, Deaths'.split(', '):\n",
    "    df_table[f'{c} (+)'] = (df_table[c] - df_table[f'P{c}']).clip(0)\n",
    "    #Clip ça veut dire, les chiffres negatif sont interdit\n",
    "df_table['Fatality Rate'] = (100* df_table['Deaths']/ df_table['Cases']).round(2)\n",
    "df_table['Continent'] = df_table['Country/Region'].map(mapping['map.continent'])\n",
    "df_table.head(5)"
   ]
  },
  {
   "cell_type": "code",
   "execution_count": 14,
   "id": "aboriginal-bulgaria",
   "metadata": {
    "execution": {
     "iopub.execute_input": "2022-01-15T00:26:59.061683Z",
     "iopub.status.busy": "2022-01-15T00:26:59.061158Z",
     "iopub.status.idle": "2022-01-15T00:26:59.063275Z",
     "shell.execute_reply": "2022-01-15T00:26:59.063690Z"
    },
    "papermill": {
     "duration": 0.038615,
     "end_time": "2022-01-15T00:26:59.063848",
     "exception": false,
     "start_time": "2022-01-15T00:26:59.025233",
     "status": "completed"
    },
    "tags": []
   },
   "outputs": [],
   "source": [
    "#hide\n",
    "#delete problematic countries from table\n",
    "df_table = df_table[~df_table['Country/Region'].isin(['Cape Verde', 'Cruise Ship', 'Kosovo'])]"
   ]
  },
  {
   "cell_type": "code",
   "execution_count": 15,
   "id": "fantastic-effect",
   "metadata": {
    "execution": {
     "iopub.execute_input": "2022-01-15T00:26:59.132422Z",
     "iopub.status.busy": "2022-01-15T00:26:59.131881Z",
     "iopub.status.idle": "2022-01-15T00:26:59.149141Z",
     "shell.execute_reply": "2022-01-15T00:26:59.148697Z"
    },
    "papermill": {
     "duration": 0.055359,
     "end_time": "2022-01-15T00:26:59.149257",
     "exception": false,
     "start_time": "2022-01-15T00:26:59.093898",
     "status": "completed"
    },
    "tags": []
   },
   "outputs": [
    {
     "data": {
      "text/html": [
       "<div>\n",
       "<style scoped>\n",
       "    .dataframe tbody tr th:only-of-type {\n",
       "        vertical-align: middle;\n",
       "    }\n",
       "\n",
       "    .dataframe tbody tr th {\n",
       "        vertical-align: top;\n",
       "    }\n",
       "\n",
       "    .dataframe thead th {\n",
       "        text-align: right;\n",
       "    }\n",
       "</style>\n",
       "<table border=\"1\" class=\"dataframe\">\n",
       "  <thead>\n",
       "    <tr style=\"text-align: right;\">\n",
       "      <th></th>\n",
       "      <th>Country/Region</th>\n",
       "      <th>Cases</th>\n",
       "      <th>Deaths</th>\n",
       "      <th>PCases</th>\n",
       "      <th>PDeaths</th>\n",
       "      <th>Cases (+)</th>\n",
       "      <th>Deaths (+)</th>\n",
       "      <th>Fatality Rate</th>\n",
       "      <th>Continent</th>\n",
       "    </tr>\n",
       "  </thead>\n",
       "  <tbody>\n",
       "    <tr>\n",
       "      <th>0</th>\n",
       "      <td>US</td>\n",
       "      <td>64062060</td>\n",
       "      <td>846463</td>\n",
       "      <td>63285605</td>\n",
       "      <td>844588</td>\n",
       "      <td>776455</td>\n",
       "      <td>1875</td>\n",
       "      <td>1.3</td>\n",
       "      <td>North America</td>\n",
       "    </tr>\n",
       "    <tr>\n",
       "      <th>1</th>\n",
       "      <td>India</td>\n",
       "      <td>36317927</td>\n",
       "      <td>485131</td>\n",
       "      <td>36317927</td>\n",
       "      <td>485035</td>\n",
       "      <td>0</td>\n",
       "      <td>96</td>\n",
       "      <td>1.3</td>\n",
       "      <td>Asia</td>\n",
       "    </tr>\n",
       "    <tr>\n",
       "      <th>2</th>\n",
       "      <td>Brazil</td>\n",
       "      <td>22822177</td>\n",
       "      <td>620830</td>\n",
       "      <td>22724232</td>\n",
       "      <td>620641</td>\n",
       "      <td>97945</td>\n",
       "      <td>189</td>\n",
       "      <td>2.7</td>\n",
       "      <td>South America</td>\n",
       "    </tr>\n",
       "    <tr>\n",
       "      <th>3</th>\n",
       "      <td>United Kingdom</td>\n",
       "      <td>15064685</td>\n",
       "      <td>151833</td>\n",
       "      <td>14958196</td>\n",
       "      <td>151496</td>\n",
       "      <td>106489</td>\n",
       "      <td>337</td>\n",
       "      <td>1.0</td>\n",
       "      <td>Europe</td>\n",
       "    </tr>\n",
       "    <tr>\n",
       "      <th>4</th>\n",
       "      <td>France</td>\n",
       "      <td>13351053</td>\n",
       "      <td>127520</td>\n",
       "      <td>13042665</td>\n",
       "      <td>127294</td>\n",
       "      <td>308388</td>\n",
       "      <td>226</td>\n",
       "      <td>1.0</td>\n",
       "      <td>Europe</td>\n",
       "    </tr>\n",
       "  </tbody>\n",
       "</table>\n",
       "</div>"
      ],
      "text/plain": [
       "   Country/Region     Cases  Deaths    PCases  PDeaths  Cases (+)  Deaths (+)  \\\n",
       "0              US  64062060  846463  63285605   844588     776455        1875   \n",
       "1           India  36317927  485131  36317927   485035          0          96   \n",
       "2          Brazil  22822177  620830  22724232   620641      97945         189   \n",
       "3  United Kingdom  15064685  151833  14958196   151496     106489         337   \n",
       "4          France  13351053  127520  13042665   127294     308388         226   \n",
       "\n",
       "   Fatality Rate      Continent  \n",
       "0            1.3  North America  \n",
       "1            1.3           Asia  \n",
       "2            2.7  South America  \n",
       "3            1.0         Europe  \n",
       "4            1.0         Europe  "
      ]
     },
     "execution_count": 15,
     "metadata": {},
     "output_type": "execute_result"
    }
   ],
   "source": [
    "#hide\n",
    "df_table = (pd.DataFrame(dict(Cases=dfc_cases, Deaths=dfc_deaths, PCases=dfp_cases, PDeaths=dfp_deaths))\n",
    "             .sort_values(by=['Cases', 'Deaths'], ascending=[False, False])\n",
    "             .reset_index())\n",
    "df_table.rename(columns={'index': 'Country/Region'}, inplace=True)\n",
    "for c in 'Cases, Deaths'.split(', '):\n",
    "    df_table[f'{c} (+)'] = (df_table[c] - df_table[f'P{c}']).clip(0)  # DATA BUG\n",
    "df_table['Fatality Rate'] = (100 * df_table['Deaths'] / df_table['Cases']).round(1)\n",
    "df_table['Continent'] = df_table['Country/Region'].map(mapping['map.continent'])\n",
    "df_table.head(5)"
   ]
  },
  {
   "cell_type": "code",
   "execution_count": 16,
   "id": "fewer-occasion",
   "metadata": {
    "execution": {
     "iopub.execute_input": "2022-01-15T00:26:59.215896Z",
     "iopub.status.busy": "2022-01-15T00:26:59.215338Z",
     "iopub.status.idle": "2022-01-15T00:26:59.218128Z",
     "shell.execute_reply": "2022-01-15T00:26:59.218565Z"
    },
    "papermill": {
     "duration": 0.038737,
     "end_time": "2022-01-15T00:26:59.218699",
     "exception": false,
     "start_time": "2022-01-15T00:26:59.179962",
     "status": "completed"
    },
    "tags": []
   },
   "outputs": [],
   "source": [
    "#hide\n",
    "#delete problematic countries from table\n",
    "df_table = df_table[~df_table['Country/Region'].isin(['Cape Verde', 'Cruise Ship', 'Kosovo'])]"
   ]
  },
  {
   "cell_type": "code",
   "execution_count": 17,
   "id": "related-center",
   "metadata": {
    "execution": {
     "iopub.execute_input": "2022-01-15T00:26:59.289050Z",
     "iopub.status.busy": "2022-01-15T00:26:59.288508Z",
     "iopub.status.idle": "2022-01-15T00:26:59.300635Z",
     "shell.execute_reply": "2022-01-15T00:26:59.301030Z"
    },
    "papermill": {
     "duration": 0.051757,
     "end_time": "2022-01-15T00:26:59.301177",
     "exception": false,
     "start_time": "2022-01-15T00:26:59.249420",
     "status": "completed"
    },
    "tags": []
   },
   "outputs": [],
   "source": [
    "#hide\n",
    "metrics = [df_table.columns[index] for index in [1,2,5,6]]\n",
    "# s_china = df_table[df_table['Country/Region'].eq('China')][metrics].sum().add_prefix('China ')\n",
    "s_us = df_table[df_table['Country/Region'].eq('US')][metrics].sum().add_prefix('US ')\n",
    "s_eu = df_table[df_table['Continent'].eq('Europe')][metrics].sum().add_prefix('EU ')\n",
    "s_ind = df_table[df_table['Country/Region'].eq('India')][metrics].sum().add_prefix('India ')\n",
    "summary = {'updated': pd.to_datetime(dt_today), 'since': pd.to_datetime(dt_yday)}\n",
    "summary = {'updated': pd.to_datetime(dt_today), 'since': pd.to_datetime(dt_yday)}\n",
    "summary = {**summary, **df_table[metrics].sum(), **s_ind, **s_us, **s_eu}"
   ]
  },
  {
   "cell_type": "code",
   "execution_count": 18,
   "id": "engaging-syndrome",
   "metadata": {
    "execution": {
     "iopub.execute_input": "2022-01-15T00:26:59.368336Z",
     "iopub.status.busy": "2022-01-15T00:26:59.367799Z",
     "iopub.status.idle": "2022-01-15T00:26:59.382382Z",
     "shell.execute_reply": "2022-01-15T00:26:59.381948Z"
    },
    "papermill": {
     "duration": 0.050364,
     "end_time": "2022-01-15T00:26:59.382502",
     "exception": false,
     "start_time": "2022-01-15T00:26:59.332138",
     "status": "completed"
    },
    "tags": []
   },
   "outputs": [],
   "source": [
    "#hide\n",
    "dft_ct_new_cases = dft_cases.groupby(COL_REGION)[dt_cols].sum().diff(axis=1).fillna(0).astype(int)"
   ]
  },
  {
   "cell_type": "code",
   "execution_count": 19,
   "id": "neutral-assignment",
   "metadata": {
    "execution": {
     "iopub.execute_input": "2022-01-15T00:26:59.451515Z",
     "iopub.status.busy": "2022-01-15T00:26:59.450876Z",
     "iopub.status.idle": "2022-01-15T00:26:59.452507Z",
     "shell.execute_reply": "2022-01-15T00:26:59.452949Z"
    },
    "papermill": {
     "duration": 0.039773,
     "end_time": "2022-01-15T00:26:59.453113",
     "exception": false,
     "start_time": "2022-01-15T00:26:59.413340",
     "status": "completed"
    },
    "tags": []
   },
   "outputs": [],
   "source": [
    "#hide\n",
    "everydaycases = dft_ct_new_cases.cumsum(axis=1)"
   ]
  },
  {
   "cell_type": "code",
   "execution_count": 20,
   "id": "parliamentary-calgary",
   "metadata": {
    "execution": {
     "iopub.execute_input": "2022-01-15T00:26:59.520325Z",
     "iopub.status.busy": "2022-01-15T00:26:59.519772Z",
     "iopub.status.idle": "2022-01-15T00:27:00.116451Z",
     "shell.execute_reply": "2022-01-15T00:27:00.115903Z"
    },
    "papermill": {
     "duration": 0.632272,
     "end_time": "2022-01-15T00:27:00.116595",
     "exception": false,
     "start_time": "2022-01-15T00:26:59.484323",
     "status": "completed"
    },
    "tags": []
   },
   "outputs": [],
   "source": [
    "#hide\n",
    "import pandas as pd\n",
    "import matplotlib.pyplot as plt\n",
    "import matplotlib.ticker as ticker\n",
    "import matplotlib.animation as animation\n",
    "from IPython.display import HTML"
   ]
  },
  {
   "cell_type": "code",
   "execution_count": 21,
   "id": "lasting-extraction",
   "metadata": {
    "execution": {
     "iopub.execute_input": "2022-01-15T00:27:00.184771Z",
     "iopub.status.busy": "2022-01-15T00:27:00.184230Z",
     "iopub.status.idle": "2022-01-15T00:27:00.190247Z",
     "shell.execute_reply": "2022-01-15T00:27:00.190683Z"
    },
    "papermill": {
     "duration": 0.043573,
     "end_time": "2022-01-15T00:27:00.190819",
     "exception": false,
     "start_time": "2022-01-15T00:27:00.147246",
     "status": "completed"
    },
    "tags": []
   },
   "outputs": [],
   "source": [
    "#hide\n",
    "t = everydaycases.stack()"
   ]
  },
  {
   "cell_type": "code",
   "execution_count": 22,
   "id": "premier-sleeve",
   "metadata": {
    "execution": {
     "iopub.execute_input": "2022-01-15T00:27:00.256943Z",
     "iopub.status.busy": "2022-01-15T00:27:00.256407Z",
     "iopub.status.idle": "2022-01-15T00:27:00.266605Z",
     "shell.execute_reply": "2022-01-15T00:27:00.266185Z"
    },
    "papermill": {
     "duration": 0.044918,
     "end_time": "2022-01-15T00:27:00.266721",
     "exception": false,
     "start_time": "2022-01-15T00:27:00.221803",
     "status": "completed"
    },
    "tags": []
   },
   "outputs": [],
   "source": [
    "#hide\n",
    "g = t.reset_index(['Country/Region'])"
   ]
  },
  {
   "cell_type": "code",
   "execution_count": 23,
   "id": "distributed-pittsburgh",
   "metadata": {
    "execution": {
     "iopub.execute_input": "2022-01-15T00:27:00.332133Z",
     "iopub.status.busy": "2022-01-15T00:27:00.331558Z",
     "iopub.status.idle": "2022-01-15T00:27:00.333145Z",
     "shell.execute_reply": "2022-01-15T00:27:00.333582Z"
    },
    "papermill": {
     "duration": 0.036579,
     "end_time": "2022-01-15T00:27:00.333716",
     "exception": false,
     "start_time": "2022-01-15T00:27:00.297137",
     "status": "completed"
    },
    "tags": []
   },
   "outputs": [],
   "source": [
    "#hide\n",
    "g.index.name = 'date'"
   ]
  },
  {
   "cell_type": "code",
   "execution_count": 24,
   "id": "naked-donor",
   "metadata": {
    "execution": {
     "iopub.execute_input": "2022-01-15T00:27:00.399070Z",
     "iopub.status.busy": "2022-01-15T00:27:00.398445Z",
     "iopub.status.idle": "2022-01-15T00:27:00.401926Z",
     "shell.execute_reply": "2022-01-15T00:27:00.402369Z"
    },
    "papermill": {
     "duration": 0.03811,
     "end_time": "2022-01-15T00:27:00.402518",
     "exception": false,
     "start_time": "2022-01-15T00:27:00.364408",
     "status": "completed"
    },
    "tags": []
   },
   "outputs": [],
   "source": [
    "# #hide\n",
    "# g = g.reset_index(['date'])"
   ]
  },
  {
   "cell_type": "code",
   "execution_count": 25,
   "id": "incomplete-mustang",
   "metadata": {
    "execution": {
     "iopub.execute_input": "2022-01-15T00:27:00.468263Z",
     "iopub.status.busy": "2022-01-15T00:27:00.467586Z",
     "iopub.status.idle": "2022-01-15T00:27:00.469545Z",
     "shell.execute_reply": "2022-01-15T00:27:00.468964Z"
    },
    "papermill": {
     "duration": 0.03645,
     "end_time": "2022-01-15T00:27:00.469678",
     "exception": false,
     "start_time": "2022-01-15T00:27:00.433228",
     "status": "completed"
    },
    "tags": []
   },
   "outputs": [],
   "source": [
    "#hide\n",
    "# g.head()"
   ]
  },
  {
   "cell_type": "code",
   "execution_count": 26,
   "id": "specific-kruger",
   "metadata": {
    "execution": {
     "iopub.execute_input": "2022-01-15T00:27:00.536093Z",
     "iopub.status.busy": "2022-01-15T00:27:00.535472Z",
     "iopub.status.idle": "2022-01-15T00:27:00.536885Z",
     "shell.execute_reply": "2022-01-15T00:27:00.537316Z"
    },
    "papermill": {
     "duration": 0.03629,
     "end_time": "2022-01-15T00:27:00.537450",
     "exception": false,
     "start_time": "2022-01-15T00:27:00.501160",
     "status": "completed"
    },
    "tags": []
   },
   "outputs": [],
   "source": [
    "#hide\n",
    "# g.columns = ['date','country','cases']"
   ]
  },
  {
   "cell_type": "code",
   "execution_count": 27,
   "id": "tender-conversion",
   "metadata": {
    "execution": {
     "iopub.execute_input": "2022-01-15T00:27:00.602611Z",
     "iopub.status.busy": "2022-01-15T00:27:00.601998Z",
     "iopub.status.idle": "2022-01-15T00:27:00.605523Z",
     "shell.execute_reply": "2022-01-15T00:27:00.605053Z"
    },
    "papermill": {
     "duration": 0.037666,
     "end_time": "2022-01-15T00:27:00.605649",
     "exception": false,
     "start_time": "2022-01-15T00:27:00.567983",
     "status": "completed"
    },
    "tags": []
   },
   "outputs": [],
   "source": [
    "#hide\n",
    "# g['continent'] = g.country"
   ]
  },
  {
   "cell_type": "code",
   "execution_count": 28,
   "id": "substantial-wilderness",
   "metadata": {
    "execution": {
     "iopub.execute_input": "2022-01-15T00:27:00.671415Z",
     "iopub.status.busy": "2022-01-15T00:27:00.670882Z",
     "iopub.status.idle": "2022-01-15T00:27:00.673124Z",
     "shell.execute_reply": "2022-01-15T00:27:00.673616Z"
    },
    "papermill": {
     "duration": 0.037246,
     "end_time": "2022-01-15T00:27:00.673751",
     "exception": false,
     "start_time": "2022-01-15T00:27:00.636505",
     "status": "completed"
    },
    "tags": []
   },
   "outputs": [],
   "source": [
    "#hide\n",
    "# cols = list(g.columns.values)"
   ]
  },
  {
   "cell_type": "code",
   "execution_count": 29,
   "id": "solved-farming",
   "metadata": {
    "execution": {
     "iopub.execute_input": "2022-01-15T00:27:00.739360Z",
     "iopub.status.busy": "2022-01-15T00:27:00.738743Z",
     "iopub.status.idle": "2022-01-15T00:27:00.742572Z",
     "shell.execute_reply": "2022-01-15T00:27:00.742149Z"
    },
    "papermill": {
     "duration": 0.038184,
     "end_time": "2022-01-15T00:27:00.742693",
     "exception": false,
     "start_time": "2022-01-15T00:27:00.704509",
     "status": "completed"
    },
    "tags": []
   },
   "outputs": [],
   "source": [
    "#hide\n",
    "# cols.insert(0, cols.pop())"
   ]
  },
  {
   "cell_type": "code",
   "execution_count": 30,
   "id": "executed-adoption",
   "metadata": {
    "execution": {
     "iopub.execute_input": "2022-01-15T00:27:00.808386Z",
     "iopub.status.busy": "2022-01-15T00:27:00.807833Z",
     "iopub.status.idle": "2022-01-15T00:27:00.810286Z",
     "shell.execute_reply": "2022-01-15T00:27:00.809818Z"
    },
    "papermill": {
     "duration": 0.036751,
     "end_time": "2022-01-15T00:27:00.810399",
     "exception": false,
     "start_time": "2022-01-15T00:27:00.773648",
     "status": "completed"
    },
    "tags": []
   },
   "outputs": [],
   "source": [
    "#hide\n",
    "# g = g[cols]"
   ]
  },
  {
   "cell_type": "code",
   "execution_count": 31,
   "id": "subject-dublin",
   "metadata": {
    "execution": {
     "iopub.execute_input": "2022-01-15T00:27:00.876280Z",
     "iopub.status.busy": "2022-01-15T00:27:00.875590Z",
     "iopub.status.idle": "2022-01-15T00:27:00.877569Z",
     "shell.execute_reply": "2022-01-15T00:27:00.876992Z"
    },
    "papermill": {
     "duration": 0.036525,
     "end_time": "2022-01-15T00:27:00.877700",
     "exception": false,
     "start_time": "2022-01-15T00:27:00.841175",
     "status": "completed"
    },
    "tags": []
   },
   "outputs": [],
   "source": [
    "#hide\n",
    "# g['continent'] = g['continent'].map(mapping['map.continent'])"
   ]
  },
  {
   "cell_type": "code",
   "execution_count": 32,
   "id": "freelance-scout",
   "metadata": {
    "execution": {
     "iopub.execute_input": "2022-01-15T00:27:00.943418Z",
     "iopub.status.busy": "2022-01-15T00:27:00.942889Z",
     "iopub.status.idle": "2022-01-15T00:27:00.946558Z",
     "shell.execute_reply": "2022-01-15T00:27:00.946135Z"
    },
    "papermill": {
     "duration": 0.037729,
     "end_time": "2022-01-15T00:27:00.946674",
     "exception": false,
     "start_time": "2022-01-15T00:27:00.908945",
     "status": "completed"
    },
    "tags": []
   },
   "outputs": [],
   "source": [
    "#hide\n",
    "# g.head()"
   ]
  },
  {
   "cell_type": "code",
   "execution_count": 33,
   "id": "limited-engine",
   "metadata": {
    "execution": {
     "iopub.execute_input": "2022-01-15T00:27:01.011409Z",
     "iopub.status.busy": "2022-01-15T00:27:01.010817Z",
     "iopub.status.idle": "2022-01-15T00:27:01.012752Z",
     "shell.execute_reply": "2022-01-15T00:27:01.012171Z"
    },
    "papermill": {
     "duration": 0.035846,
     "end_time": "2022-01-15T00:27:01.012877",
     "exception": false,
     "start_time": "2022-01-15T00:27:00.977031",
     "status": "completed"
    },
    "tags": []
   },
   "outputs": [],
   "source": [
    "# hide\n",
    "# g['date'] = g['date'].astype('datetime64[ns]')"
   ]
  },
  {
   "cell_type": "code",
   "execution_count": 34,
   "id": "sophisticated-supervisor",
   "metadata": {
    "execution": {
     "iopub.execute_input": "2022-01-15T00:27:01.077841Z",
     "iopub.status.busy": "2022-01-15T00:27:01.077241Z",
     "iopub.status.idle": "2022-01-15T00:27:01.079265Z",
     "shell.execute_reply": "2022-01-15T00:27:01.078688Z"
    },
    "papermill": {
     "duration": 0.03582,
     "end_time": "2022-01-15T00:27:01.079387",
     "exception": false,
     "start_time": "2022-01-15T00:27:01.043567",
     "status": "completed"
    },
    "tags": []
   },
   "outputs": [],
   "source": [
    "#hide\n",
    "# g['date'] = g.date.dt.dayofyear"
   ]
  },
  {
   "cell_type": "code",
   "execution_count": 35,
   "id": "inside-dubai",
   "metadata": {
    "execution": {
     "iopub.execute_input": "2022-01-15T00:27:01.145468Z",
     "iopub.status.busy": "2022-01-15T00:27:01.144863Z",
     "iopub.status.idle": "2022-01-15T00:27:01.148736Z",
     "shell.execute_reply": "2022-01-15T00:27:01.148288Z"
    },
    "papermill": {
     "duration": 0.038074,
     "end_time": "2022-01-15T00:27:01.148856",
     "exception": false,
     "start_time": "2022-01-15T00:27:01.110782",
     "status": "completed"
    },
    "tags": []
   },
   "outputs": [],
   "source": [
    "#hide\n",
    "# g = g.rename(columns= {'continent':'group','country':'name','cases':'value'})"
   ]
  },
  {
   "cell_type": "code",
   "execution_count": 36,
   "id": "fleet-motorcycle",
   "metadata": {
    "execution": {
     "iopub.execute_input": "2022-01-15T00:27:01.214498Z",
     "iopub.status.busy": "2022-01-15T00:27:01.213970Z",
     "iopub.status.idle": "2022-01-15T00:27:01.216233Z",
     "shell.execute_reply": "2022-01-15T00:27:01.215775Z"
    },
    "papermill": {
     "duration": 0.036823,
     "end_time": "2022-01-15T00:27:01.216348",
     "exception": false,
     "start_time": "2022-01-15T00:27:01.179525",
     "status": "completed"
    },
    "tags": []
   },
   "outputs": [],
   "source": [
    "#hide\n",
    "# cols = ['name','group','day','value']"
   ]
  },
  {
   "cell_type": "code",
   "execution_count": 37,
   "id": "continued-sleeping",
   "metadata": {
    "execution": {
     "iopub.execute_input": "2022-01-15T00:27:01.281842Z",
     "iopub.status.busy": "2022-01-15T00:27:01.281258Z",
     "iopub.status.idle": "2022-01-15T00:27:01.283367Z",
     "shell.execute_reply": "2022-01-15T00:27:01.282914Z"
    },
    "papermill": {
     "duration": 0.036553,
     "end_time": "2022-01-15T00:27:01.283484",
     "exception": false,
     "start_time": "2022-01-15T00:27:01.246931",
     "status": "completed"
    },
    "tags": []
   },
   "outputs": [],
   "source": [
    "#hide\n",
    "# g.rename(columns= {'date':'day'},inplace = True)"
   ]
  },
  {
   "cell_type": "code",
   "execution_count": 38,
   "id": "major-fight",
   "metadata": {
    "execution": {
     "iopub.execute_input": "2022-01-15T00:27:01.349959Z",
     "iopub.status.busy": "2022-01-15T00:27:01.349334Z",
     "iopub.status.idle": "2022-01-15T00:27:01.353271Z",
     "shell.execute_reply": "2022-01-15T00:27:01.352844Z"
    },
    "papermill": {
     "duration": 0.038586,
     "end_time": "2022-01-15T00:27:01.353395",
     "exception": false,
     "start_time": "2022-01-15T00:27:01.314809",
     "status": "completed"
    },
    "tags": []
   },
   "outputs": [],
   "source": [
    "#hide\n",
    "# g = g[cols]"
   ]
  },
  {
   "cell_type": "code",
   "execution_count": 39,
   "id": "structured-mobile",
   "metadata": {
    "execution": {
     "iopub.execute_input": "2022-01-15T00:27:01.419046Z",
     "iopub.status.busy": "2022-01-15T00:27:01.418439Z",
     "iopub.status.idle": "2022-01-15T00:27:01.420508Z",
     "shell.execute_reply": "2022-01-15T00:27:01.419915Z"
    },
    "papermill": {
     "duration": 0.036564,
     "end_time": "2022-01-15T00:27:01.420634",
     "exception": false,
     "start_time": "2022-01-15T00:27:01.384070",
     "status": "completed"
    },
    "tags": []
   },
   "outputs": [],
   "source": [
    "# #hide\n",
    "# g = g[g.group.notna()]"
   ]
  },
  {
   "cell_type": "code",
   "execution_count": 40,
   "id": "determined-closing",
   "metadata": {
    "execution": {
     "iopub.execute_input": "2022-01-15T00:27:01.486546Z",
     "iopub.status.busy": "2022-01-15T00:27:01.485935Z",
     "iopub.status.idle": "2022-01-15T00:27:01.487460Z",
     "shell.execute_reply": "2022-01-15T00:27:01.487959Z"
    },
    "papermill": {
     "duration": 0.036388,
     "end_time": "2022-01-15T00:27:01.488114",
     "exception": false,
     "start_time": "2022-01-15T00:27:01.451726",
     "status": "completed"
    },
    "tags": []
   },
   "outputs": [],
   "source": [
    "# #hide\n",
    "# colors = dict(zip(\n",
    "#     [\"Oceania\", \"Europe\", \"Asia\", \"South America\", \"Middle East\", \"North America\", \"Africa\"],\n",
    "#     [\"#adb0ff\", \"#ffb3ff\", \"#90d595\", \"#e48381\", \"#aafbff\", \"#f7bb5f\", \"#eafb50\"]\n",
    "# ))\n",
    "# group_lk = g.set_index('name')['group'].to_dict()"
   ]
  },
  {
   "cell_type": "code",
   "execution_count": null,
   "id": "gross-drinking",
   "metadata": {
    "papermill": {
     "duration": 0.030551,
     "end_time": "2022-01-15T00:27:01.549614",
     "exception": false,
     "start_time": "2022-01-15T00:27:01.519063",
     "status": "completed"
    },
    "tags": []
   },
   "outputs": [],
   "source": []
  },
  {
   "cell_type": "code",
   "execution_count": 41,
   "id": "subject-macintosh",
   "metadata": {
    "execution": {
     "iopub.execute_input": "2022-01-15T00:27:01.615740Z",
     "iopub.status.busy": "2022-01-15T00:27:01.615133Z",
     "iopub.status.idle": "2022-01-15T00:27:01.617071Z",
     "shell.execute_reply": "2022-01-15T00:27:01.617483Z"
    },
    "papermill": {
     "duration": 0.037355,
     "end_time": "2022-01-15T00:27:01.617618",
     "exception": false,
     "start_time": "2022-01-15T00:27:01.580263",
     "status": "completed"
    },
    "tags": []
   },
   "outputs": [],
   "source": [
    "# #hide\n",
    "# fig, ax = plt.subplots(figsize=(15, 8))\n",
    "\n",
    "# def draw_barchart(current_day):\n",
    "#     dff = g[g['day'].eq(current_day)].sort_values(by='value', ascending=True).tail(10)\n",
    "#     ax.clear()\n",
    "#     ax.barh(dff['name'], dff['value'], color=[colors[group_lk[x]] for x in dff['name']])\n",
    "#     dx = dff['value'].max() / 200\n",
    "    \n",
    "#     for i, (value, name) in enumerate(zip(dff['value'], dff['name'])):\n",
    "#         ax.text(value-dx, i,     name,           size=14, weight=600, ha='right', va='bottom')\n",
    "#         ax.text(value-dx, i-.25, group_lk[name], size=10, color='#444444', ha='right', va='baseline')\n",
    "#         ax.text(value+dx, i,     f'{value:,.0f}',  size=14, ha='left',  va='center')\n",
    "#     ax.text(1, 0.4, current_day, transform=ax.transAxes, color='#777777', size=46, ha='right', weight=800)\n",
    "#     ax.text(0, 1.06, 'Population (thousands)', transform=ax.transAxes, size=12, color='#777777')\n",
    "#     ax.xaxis.set_major_formatter(ticker.StrMethodFormatter('{x:,.0f}'))\n",
    "#     ax.xaxis.set_ticks_position('top')\n",
    "#     ax.tick_params(axis='x', colors='#777777', labelsize=12)\n",
    "#     ax.set_yticks([])\n",
    "#     ax.margins(0, 0.01)\n",
    "#     ax.grid(which='major', axis='x', linestyle='-')\n",
    "#     ax.set_axisbelow(True)\n",
    "    \n",
    "#     ax.text(0, 1.15, 'Coronavirus',\n",
    "#             transform=ax.transAxes, size=24, weight=600, ha='left', va='top')\n",
    "# #     ax.text(1, 0, 'by @pratapvardhan; credit @jburnmurdoch', transform=ax.transAxes, color='#777777', ha='right',\n",
    "# #             bbox=dict(facecolor='white', alpha=0.8, edgecolor='white'))\n",
    "#     plt.box(False)"
   ]
  },
  {
   "cell_type": "code",
   "execution_count": 42,
   "id": "sexual-wages",
   "metadata": {
    "execution": {
     "iopub.execute_input": "2022-01-15T00:27:01.683554Z",
     "iopub.status.busy": "2022-01-15T00:27:01.683011Z",
     "iopub.status.idle": "2022-01-15T00:27:01.685442Z",
     "shell.execute_reply": "2022-01-15T00:27:01.685016Z"
    },
    "papermill": {
     "duration": 0.037052,
     "end_time": "2022-01-15T00:27:01.685560",
     "exception": false,
     "start_time": "2022-01-15T00:27:01.648508",
     "status": "completed"
    },
    "tags": []
   },
   "outputs": [],
   "source": [
    "# #hide_input\n",
    "# fig, ax = plt.subplots(figsize=(15, 8))\n",
    "# animator = animation.FuncAnimation(fig, draw_barchart, frames=range(g.day.values.min(), g.day.values.max()))\n",
    "# HTML(animator.to_jshtml())\n",
    "# # or use animator.to_html5_video() or animator.save() "
   ]
  },
  {
   "cell_type": "code",
   "execution_count": null,
   "id": "australian-container",
   "metadata": {
    "papermill": {
     "duration": 0.031065,
     "end_time": "2022-01-15T00:27:01.747782",
     "exception": false,
     "start_time": "2022-01-15T00:27:01.716717",
     "status": "completed"
    },
    "tags": []
   },
   "outputs": [],
   "source": []
  },
  {
   "cell_type": "code",
   "execution_count": null,
   "id": "mediterranean-pontiac",
   "metadata": {
    "papermill": {
     "duration": 0.030626,
     "end_time": "2022-01-15T00:27:01.808932",
     "exception": false,
     "start_time": "2022-01-15T00:27:01.778306",
     "status": "completed"
    },
    "tags": []
   },
   "outputs": [],
   "source": []
  },
  {
   "cell_type": "code",
   "execution_count": null,
   "id": "aging-legislature",
   "metadata": {
    "papermill": {
     "duration": 0.030661,
     "end_time": "2022-01-15T00:27:01.870632",
     "exception": false,
     "start_time": "2022-01-15T00:27:01.839971",
     "status": "completed"
    },
    "tags": []
   },
   "outputs": [],
   "source": []
  }
 ],
 "metadata": {
  "kernelspec": {
   "display_name": "Python 3",
   "language": "python",
   "name": "python3"
  },
  "language_info": {
   "codemirror_mode": {
    "name": "ipython",
    "version": 3
   },
   "file_extension": ".py",
   "mimetype": "text/x-python",
   "name": "python",
   "nbconvert_exporter": "python",
   "pygments_lexer": "ipython3",
   "version": "3.6.15"
  },
  "papermill": {
   "duration": 5.880325,
   "end_time": "2022-01-15T00:27:02.320851",
   "environment_variables": {},
   "exception": null,
   "input_path": "2020-03-21-covid19exp.ipynb",
   "output_path": "2020-03-21-covid19exp.ipynb",
   "parameters": {},
   "start_time": "2022-01-15T00:26:56.440526",
   "version": "2.0.0"
  }
 },
 "nbformat": 4,
 "nbformat_minor": 5
}