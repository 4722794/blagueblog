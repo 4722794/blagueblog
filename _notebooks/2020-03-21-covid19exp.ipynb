{
 "cells": [
  {
   "cell_type": "markdown",
   "id": "muslim-click",
   "metadata": {
    "papermill": {
     "duration": 0.039971,
     "end_time": "2021-11-30T12:10:53.315303",
     "exception": false,
     "start_time": "2021-11-30T12:10:53.275332",
     "status": "completed"
    },
    "tags": []
   },
   "source": [
    "# COVID-19 Case Race\n",
    "> A race chart to see rising cases around the world\n",
    "\n",
    "- author: Hargun Oberoi\n",
    "- image: images/covid-overview.png\n",
    "- hide: false\n",
    "- badges: false"
   ]
  },
  {
   "cell_type": "code",
   "execution_count": 1,
   "id": "proof-material",
   "metadata": {
    "execution": {
     "iopub.execute_input": "2021-11-30T12:10:53.395780Z",
     "iopub.status.busy": "2021-11-30T12:10:53.395134Z",
     "iopub.status.idle": "2021-11-30T12:10:53.784064Z",
     "shell.execute_reply": "2021-11-30T12:10:53.783532Z"
    },
    "papermill": {
     "duration": 0.433394,
     "end_time": "2021-11-30T12:10:53.784221",
     "exception": false,
     "start_time": "2021-11-30T12:10:53.350827",
     "status": "completed"
    },
    "tags": []
   },
   "outputs": [],
   "source": [
    "#hide\n",
    "import numpy as np\n",
    "import pandas as pd\n",
    "from jinja2 import Template\n",
    "from IPython.display import HTML"
   ]
  },
  {
   "cell_type": "code",
   "execution_count": 2,
   "id": "developed-terminology",
   "metadata": {
    "execution": {
     "iopub.execute_input": "2021-11-30T12:10:53.866613Z",
     "iopub.status.busy": "2021-11-30T12:10:53.865883Z",
     "iopub.status.idle": "2021-11-30T12:10:53.868698Z",
     "shell.execute_reply": "2021-11-30T12:10:53.868164Z"
    },
    "papermill": {
     "duration": 0.047138,
     "end_time": "2021-11-30T12:10:53.868842",
     "exception": false,
     "start_time": "2021-11-30T12:10:53.821704",
     "status": "completed"
    },
    "tags": []
   },
   "outputs": [],
   "source": [
    "#hide\n",
    "\n",
    "# FETCH\n",
    "base_url = 'https://raw.githubusercontent.com/pratapvardhan/notebooks/master/covid19/'\n",
    "paths = {\n",
    "    'mapping': base_url + 'mapping_countries.csv',\n",
    "    'overview': base_url + 'overview.tpl'\n",
    "}"
   ]
  },
  {
   "cell_type": "code",
   "execution_count": 3,
   "id": "dynamic-saver",
   "metadata": {
    "execution": {
     "iopub.execute_input": "2021-11-30T12:10:53.955290Z",
     "iopub.status.busy": "2021-11-30T12:10:53.954623Z",
     "iopub.status.idle": "2021-11-30T12:10:53.957937Z",
     "shell.execute_reply": "2021-11-30T12:10:53.957444Z"
    },
    "papermill": {
     "duration": 0.052751,
     "end_time": "2021-11-30T12:10:53.958058",
     "exception": false,
     "start_time": "2021-11-30T12:10:53.905307",
     "status": "completed"
    },
    "tags": []
   },
   "outputs": [
    {
     "data": {
      "text/plain": [
       "'https://raw.githubusercontent.com/pratapvardhan/notebooks/master/covid19/mapping_countries.csv'"
      ]
     },
     "execution_count": 3,
     "metadata": {},
     "output_type": "execute_result"
    }
   ],
   "source": [
    "#hide\n",
    "paths['mapping']"
   ]
  },
  {
   "cell_type": "code",
   "execution_count": 4,
   "id": "urban-software",
   "metadata": {
    "execution": {
     "iopub.execute_input": "2021-11-30T12:10:54.032256Z",
     "iopub.status.busy": "2021-11-30T12:10:54.031677Z",
     "iopub.status.idle": "2021-11-30T12:10:54.033871Z",
     "shell.execute_reply": "2021-11-30T12:10:54.034614Z"
    },
    "papermill": {
     "duration": 0.041484,
     "end_time": "2021-11-30T12:10:54.034744",
     "exception": false,
     "start_time": "2021-11-30T12:10:53.993260",
     "status": "completed"
    },
    "tags": []
   },
   "outputs": [],
   "source": [
    "#hide\n",
    "def get_mappings(url):\n",
    "    df = pd.read_csv(url)\n",
    "    return {\n",
    "        'df': df,\n",
    "        'replace.country': dict(df.dropna(subset=['Name']).set_index('Country')['Name']),\n",
    "        'map.continent': dict(df.set_index('Name')['Continent'])\n",
    "    }"
   ]
  },
  {
   "cell_type": "code",
   "execution_count": 5,
   "id": "intimate-machinery",
   "metadata": {
    "execution": {
     "iopub.execute_input": "2021-11-30T12:10:54.111865Z",
     "iopub.status.busy": "2021-11-30T12:10:54.111187Z",
     "iopub.status.idle": "2021-11-30T12:10:54.152958Z",
     "shell.execute_reply": "2021-11-30T12:10:54.152432Z"
    },
    "papermill": {
     "duration": 0.08213,
     "end_time": "2021-11-30T12:10:54.153098",
     "exception": false,
     "start_time": "2021-11-30T12:10:54.070968",
     "status": "completed"
    },
    "tags": []
   },
   "outputs": [],
   "source": [
    "#hide\n",
    "mapping = get_mappings(paths['mapping'])"
   ]
  },
  {
   "cell_type": "code",
   "execution_count": 6,
   "id": "certified-tactics",
   "metadata": {
    "execution": {
     "iopub.execute_input": "2021-11-30T12:10:54.236505Z",
     "iopub.status.busy": "2021-11-30T12:10:54.235700Z",
     "iopub.status.idle": "2021-11-30T12:10:54.238429Z",
     "shell.execute_reply": "2021-11-30T12:10:54.237689Z"
    },
    "papermill": {
     "duration": 0.048125,
     "end_time": "2021-11-30T12:10:54.238575",
     "exception": false,
     "start_time": "2021-11-30T12:10:54.190450",
     "status": "completed"
    },
    "tags": []
   },
   "outputs": [],
   "source": [
    "#hide\n",
    "def get_template(path):\n",
    "    from urllib.parse import urlparse\n",
    "    if bool(urlparse(path).netloc):\n",
    "        from urllib.request import urlopen\n",
    "        return urlopen(path).read().decode('utf8')\n",
    "    return open(path).read()"
   ]
  },
  {
   "cell_type": "code",
   "execution_count": 7,
   "id": "realistic-blast",
   "metadata": {
    "execution": {
     "iopub.execute_input": "2021-11-30T12:10:54.317858Z",
     "iopub.status.busy": "2021-11-30T12:10:54.316434Z",
     "iopub.status.idle": "2021-11-30T12:10:54.320328Z",
     "shell.execute_reply": "2021-11-30T12:10:54.319710Z"
    },
    "papermill": {
     "duration": 0.044988,
     "end_time": "2021-11-30T12:10:54.320461",
     "exception": false,
     "start_time": "2021-11-30T12:10:54.275473",
     "status": "completed"
    },
    "tags": []
   },
   "outputs": [],
   "source": [
    "#hide\n",
    "def get_frame(name):\n",
    "    url = (\n",
    "        'https://raw.githubusercontent.com/CSSEGISandData/COVID-19/master/csse_covid_19_data/'\n",
    "        f'csse_covid_19_time_series/time_series_covid19_{name}_global.csv')\n",
    "    df = pd.read_csv(url)\n",
    "    # rename countries\n",
    "    df['Country/Region'] = df['Country/Region'].replace(mapping['replace.country'])\n",
    "    return df"
   ]
  },
  {
   "cell_type": "code",
   "execution_count": 8,
   "id": "affiliated-characterization",
   "metadata": {
    "execution": {
     "iopub.execute_input": "2021-11-30T12:10:54.403478Z",
     "iopub.status.busy": "2021-11-30T12:10:54.402810Z",
     "iopub.status.idle": "2021-11-30T12:10:54.405450Z",
     "shell.execute_reply": "2021-11-30T12:10:54.404841Z"
    },
    "papermill": {
     "duration": 0.049828,
     "end_time": "2021-11-30T12:10:54.405572",
     "exception": false,
     "start_time": "2021-11-30T12:10:54.355744",
     "status": "completed"
    },
    "tags": []
   },
   "outputs": [],
   "source": [
    "#hide\n",
    "def get_dates(df):\n",
    "    dt_cols = df.columns[~df.columns.isin(['Province/State', 'Country/Region', 'Lat', 'Long'])]\n",
    "    LAST_DATE_I = -1\n",
    "    # sometimes last column may be empty, then go backwards\n",
    "    for i in range(-1, -len(dt_cols), -1):\n",
    "        if not df[dt_cols[i]].fillna(0).eq(0).all():\n",
    "            LAST_DATE_I = i\n",
    "            break\n",
    "    return LAST_DATE_I, dt_cols"
   ]
  },
  {
   "cell_type": "code",
   "execution_count": 9,
   "id": "recent-optimization",
   "metadata": {
    "execution": {
     "iopub.execute_input": "2021-11-30T12:10:54.482723Z",
     "iopub.status.busy": "2021-11-30T12:10:54.481913Z",
     "iopub.status.idle": "2021-11-30T12:10:54.907187Z",
     "shell.execute_reply": "2021-11-30T12:10:54.906593Z"
    },
    "papermill": {
     "duration": 0.464612,
     "end_time": "2021-11-30T12:10:54.907325",
     "exception": false,
     "start_time": "2021-11-30T12:10:54.442713",
     "status": "completed"
    },
    "tags": []
   },
   "outputs": [],
   "source": [
    "#hide\n",
    "COL_REGION = 'Country/Region'\n",
    "# Confirmed, Recovered, Deaths\n",
    "df = get_frame('confirmed')\n",
    "# dft_: timeseries, dfc_: today country agg\n",
    "dft_cases = df\n",
    "dft_deaths = get_frame('deaths')\n",
    "dft_recovered = get_frame('recovered')\n",
    "LAST_DATE_I, dt_cols = get_dates(df)"
   ]
  },
  {
   "cell_type": "code",
   "execution_count": 10,
   "id": "absolute-copper",
   "metadata": {
    "execution": {
     "iopub.execute_input": "2021-11-30T12:10:54.985019Z",
     "iopub.status.busy": "2021-11-30T12:10:54.984294Z",
     "iopub.status.idle": "2021-11-30T12:10:54.988072Z",
     "shell.execute_reply": "2021-11-30T12:10:54.988535Z"
    },
    "papermill": {
     "duration": 0.044349,
     "end_time": "2021-11-30T12:10:54.988671",
     "exception": false,
     "start_time": "2021-11-30T12:10:54.944322",
     "status": "completed"
    },
    "tags": []
   },
   "outputs": [],
   "source": [
    "#hide\n",
    "LAST_DATE_I, dt_cols = get_dates(df)\n",
    "dt_today =dt_cols[LAST_DATE_I]\n",
    "# dt_5day = dt_cols[LAST_DATE_I - 5]\n",
    "dt_yday = dt_cols[LAST_DATE_I - 1]"
   ]
  },
  {
   "cell_type": "code",
   "execution_count": 11,
   "id": "restricted-sheriff",
   "metadata": {
    "execution": {
     "iopub.execute_input": "2021-11-30T12:10:55.086257Z",
     "iopub.status.busy": "2021-11-30T12:10:55.085586Z",
     "iopub.status.idle": "2021-11-30T12:10:55.088469Z",
     "shell.execute_reply": "2021-11-30T12:10:55.087969Z"
    },
    "papermill": {
     "duration": 0.062563,
     "end_time": "2021-11-30T12:10:55.088594",
     "exception": false,
     "start_time": "2021-11-30T12:10:55.026031",
     "status": "completed"
    },
    "tags": []
   },
   "outputs": [],
   "source": [
    "#hide\n",
    "dfc_cases = dft_cases.groupby(COL_REGION)[dt_today].sum()\n",
    "dfc_deaths = dft_deaths.groupby(COL_REGION)[dt_today].sum()\n",
    "# dfp_cases = dft_cases.groupby(COL_REGION)[dt_5day].sum()\n",
    "# dfp_deaths = dft_deaths.groupby(COL_REGION)[dt_5day].sum()\n",
    "dfp_cases = dft_cases.groupby(COL_REGION)[dt_yday].sum()\n",
    "dfp_deaths = dft_deaths.groupby(COL_REGION)[dt_yday].sum()"
   ]
  },
  {
   "cell_type": "code",
   "execution_count": 12,
   "id": "deluxe-hepatitis",
   "metadata": {
    "execution": {
     "iopub.execute_input": "2021-11-30T12:10:55.168169Z",
     "iopub.status.busy": "2021-11-30T12:10:55.167559Z",
     "iopub.status.idle": "2021-11-30T12:10:55.172264Z",
     "shell.execute_reply": "2021-11-30T12:10:55.172826Z"
    },
    "papermill": {
     "duration": 0.047854,
     "end_time": "2021-11-30T12:10:55.172961",
     "exception": false,
     "start_time": "2021-11-30T12:10:55.125107",
     "status": "completed"
    },
    "tags": []
   },
   "outputs": [],
   "source": [
    "#hide\n",
    "df_table = (pd.DataFrame(dict(Cases = dfc_cases, Deaths = dfc_deaths, PCases = dfp_cases, PDeaths = dfp_deaths))\n",
    "            .sort_values(by = ['Cases','Deaths'], ascending = [False, False])\n",
    "            .reset_index())"
   ]
  },
  {
   "cell_type": "code",
   "execution_count": 13,
   "id": "educational-chancellor",
   "metadata": {
    "execution": {
     "iopub.execute_input": "2021-11-30T12:10:55.260357Z",
     "iopub.status.busy": "2021-11-30T12:10:55.259767Z",
     "iopub.status.idle": "2021-11-30T12:10:55.270283Z",
     "shell.execute_reply": "2021-11-30T12:10:55.269750Z"
    },
    "papermill": {
     "duration": 0.063382,
     "end_time": "2021-11-30T12:10:55.270414",
     "exception": false,
     "start_time": "2021-11-30T12:10:55.207032",
     "status": "completed"
    },
    "tags": []
   },
   "outputs": [
    {
     "data": {
      "text/html": [
       "<div>\n",
       "<style scoped>\n",
       "    .dataframe tbody tr th:only-of-type {\n",
       "        vertical-align: middle;\n",
       "    }\n",
       "\n",
       "    .dataframe tbody tr th {\n",
       "        vertical-align: top;\n",
       "    }\n",
       "\n",
       "    .dataframe thead th {\n",
       "        text-align: right;\n",
       "    }\n",
       "</style>\n",
       "<table border=\"1\" class=\"dataframe\">\n",
       "  <thead>\n",
       "    <tr style=\"text-align: right;\">\n",
       "      <th></th>\n",
       "      <th>Country/Region</th>\n",
       "      <th>Cases</th>\n",
       "      <th>Deaths</th>\n",
       "      <th>PCases</th>\n",
       "      <th>PDeaths</th>\n",
       "      <th>Cases (+)</th>\n",
       "      <th>Deaths (+)</th>\n",
       "      <th>Fatality Rate</th>\n",
       "      <th>Continent</th>\n",
       "    </tr>\n",
       "  </thead>\n",
       "  <tbody>\n",
       "    <tr>\n",
       "      <th>0</th>\n",
       "      <td>US</td>\n",
       "      <td>48437955</td>\n",
       "      <td>778601</td>\n",
       "      <td>48229210</td>\n",
       "      <td>776639</td>\n",
       "      <td>208745</td>\n",
       "      <td>1962</td>\n",
       "      <td>1.61</td>\n",
       "      <td>North America</td>\n",
       "    </tr>\n",
       "    <tr>\n",
       "      <th>1</th>\n",
       "      <td>India</td>\n",
       "      <td>34587822</td>\n",
       "      <td>468980</td>\n",
       "      <td>34580832</td>\n",
       "      <td>468790</td>\n",
       "      <td>6990</td>\n",
       "      <td>190</td>\n",
       "      <td>1.36</td>\n",
       "      <td>Asia</td>\n",
       "    </tr>\n",
       "    <tr>\n",
       "      <th>2</th>\n",
       "      <td>Brazil</td>\n",
       "      <td>22084749</td>\n",
       "      <td>614376</td>\n",
       "      <td>22080906</td>\n",
       "      <td>614278</td>\n",
       "      <td>3843</td>\n",
       "      <td>98</td>\n",
       "      <td>2.78</td>\n",
       "      <td>South America</td>\n",
       "    </tr>\n",
       "    <tr>\n",
       "      <th>3</th>\n",
       "      <td>United Kingdom</td>\n",
       "      <td>10245244</td>\n",
       "      <td>145253</td>\n",
       "      <td>10202370</td>\n",
       "      <td>145218</td>\n",
       "      <td>42874</td>\n",
       "      <td>35</td>\n",
       "      <td>1.42</td>\n",
       "      <td>Europe</td>\n",
       "    </tr>\n",
       "    <tr>\n",
       "      <th>4</th>\n",
       "      <td>Russia</td>\n",
       "      <td>9436650</td>\n",
       "      <td>268705</td>\n",
       "      <td>9403480</td>\n",
       "      <td>267527</td>\n",
       "      <td>33170</td>\n",
       "      <td>1178</td>\n",
       "      <td>2.85</td>\n",
       "      <td>Europe</td>\n",
       "    </tr>\n",
       "  </tbody>\n",
       "</table>\n",
       "</div>"
      ],
      "text/plain": [
       "   Country/Region     Cases  Deaths    PCases  PDeaths  Cases (+)  Deaths (+)  \\\n",
       "0              US  48437955  778601  48229210   776639     208745        1962   \n",
       "1           India  34587822  468980  34580832   468790       6990         190   \n",
       "2          Brazil  22084749  614376  22080906   614278       3843          98   \n",
       "3  United Kingdom  10245244  145253  10202370   145218      42874          35   \n",
       "4          Russia   9436650  268705   9403480   267527      33170        1178   \n",
       "\n",
       "   Fatality Rate      Continent  \n",
       "0           1.61  North America  \n",
       "1           1.36           Asia  \n",
       "2           2.78  South America  \n",
       "3           1.42         Europe  \n",
       "4           2.85         Europe  "
      ]
     },
     "execution_count": 13,
     "metadata": {},
     "output_type": "execute_result"
    }
   ],
   "source": [
    "#hide\n",
    "for c in 'Cases, Deaths'.split(', '):\n",
    "    df_table[f'{c} (+)'] = (df_table[c] - df_table[f'P{c}']).clip(0)\n",
    "    #Clip ça veut dire, les chiffres negatif sont interdit\n",
    "df_table['Fatality Rate'] = (100* df_table['Deaths']/ df_table['Cases']).round(2)\n",
    "df_table['Continent'] = df_table['Country/Region'].map(mapping['map.continent'])\n",
    "df_table.head(5)"
   ]
  },
  {
   "cell_type": "code",
   "execution_count": 14,
   "id": "aboriginal-bulgaria",
   "metadata": {
    "execution": {
     "iopub.execute_input": "2021-11-30T12:10:55.350094Z",
     "iopub.status.busy": "2021-11-30T12:10:55.349435Z",
     "iopub.status.idle": "2021-11-30T12:10:55.351414Z",
     "shell.execute_reply": "2021-11-30T12:10:55.351899Z"
    },
    "papermill": {
     "duration": 0.045203,
     "end_time": "2021-11-30T12:10:55.352063",
     "exception": false,
     "start_time": "2021-11-30T12:10:55.306860",
     "status": "completed"
    },
    "tags": []
   },
   "outputs": [],
   "source": [
    "#hide\n",
    "#delete problematic countries from table\n",
    "df_table = df_table[~df_table['Country/Region'].isin(['Cape Verde', 'Cruise Ship', 'Kosovo'])]"
   ]
  },
  {
   "cell_type": "code",
   "execution_count": 15,
   "id": "fantastic-effect",
   "metadata": {
    "execution": {
     "iopub.execute_input": "2021-11-30T12:10:55.432495Z",
     "iopub.status.busy": "2021-11-30T12:10:55.431884Z",
     "iopub.status.idle": "2021-11-30T12:10:55.453515Z",
     "shell.execute_reply": "2021-11-30T12:10:55.454020Z"
    },
    "papermill": {
     "duration": 0.064478,
     "end_time": "2021-11-30T12:10:55.454154",
     "exception": false,
     "start_time": "2021-11-30T12:10:55.389676",
     "status": "completed"
    },
    "tags": []
   },
   "outputs": [
    {
     "data": {
      "text/html": [
       "<div>\n",
       "<style scoped>\n",
       "    .dataframe tbody tr th:only-of-type {\n",
       "        vertical-align: middle;\n",
       "    }\n",
       "\n",
       "    .dataframe tbody tr th {\n",
       "        vertical-align: top;\n",
       "    }\n",
       "\n",
       "    .dataframe thead th {\n",
       "        text-align: right;\n",
       "    }\n",
       "</style>\n",
       "<table border=\"1\" class=\"dataframe\">\n",
       "  <thead>\n",
       "    <tr style=\"text-align: right;\">\n",
       "      <th></th>\n",
       "      <th>Country/Region</th>\n",
       "      <th>Cases</th>\n",
       "      <th>Deaths</th>\n",
       "      <th>PCases</th>\n",
       "      <th>PDeaths</th>\n",
       "      <th>Cases (+)</th>\n",
       "      <th>Deaths (+)</th>\n",
       "      <th>Fatality Rate</th>\n",
       "      <th>Continent</th>\n",
       "    </tr>\n",
       "  </thead>\n",
       "  <tbody>\n",
       "    <tr>\n",
       "      <th>0</th>\n",
       "      <td>US</td>\n",
       "      <td>48437955</td>\n",
       "      <td>778601</td>\n",
       "      <td>48229210</td>\n",
       "      <td>776639</td>\n",
       "      <td>208745</td>\n",
       "      <td>1962</td>\n",
       "      <td>1.6</td>\n",
       "      <td>North America</td>\n",
       "    </tr>\n",
       "    <tr>\n",
       "      <th>1</th>\n",
       "      <td>India</td>\n",
       "      <td>34587822</td>\n",
       "      <td>468980</td>\n",
       "      <td>34580832</td>\n",
       "      <td>468790</td>\n",
       "      <td>6990</td>\n",
       "      <td>190</td>\n",
       "      <td>1.4</td>\n",
       "      <td>Asia</td>\n",
       "    </tr>\n",
       "    <tr>\n",
       "      <th>2</th>\n",
       "      <td>Brazil</td>\n",
       "      <td>22084749</td>\n",
       "      <td>614376</td>\n",
       "      <td>22080906</td>\n",
       "      <td>614278</td>\n",
       "      <td>3843</td>\n",
       "      <td>98</td>\n",
       "      <td>2.8</td>\n",
       "      <td>South America</td>\n",
       "    </tr>\n",
       "    <tr>\n",
       "      <th>3</th>\n",
       "      <td>United Kingdom</td>\n",
       "      <td>10245244</td>\n",
       "      <td>145253</td>\n",
       "      <td>10202370</td>\n",
       "      <td>145218</td>\n",
       "      <td>42874</td>\n",
       "      <td>35</td>\n",
       "      <td>1.4</td>\n",
       "      <td>Europe</td>\n",
       "    </tr>\n",
       "    <tr>\n",
       "      <th>4</th>\n",
       "      <td>Russia</td>\n",
       "      <td>9436650</td>\n",
       "      <td>268705</td>\n",
       "      <td>9403480</td>\n",
       "      <td>267527</td>\n",
       "      <td>33170</td>\n",
       "      <td>1178</td>\n",
       "      <td>2.8</td>\n",
       "      <td>Europe</td>\n",
       "    </tr>\n",
       "  </tbody>\n",
       "</table>\n",
       "</div>"
      ],
      "text/plain": [
       "   Country/Region     Cases  Deaths    PCases  PDeaths  Cases (+)  Deaths (+)  \\\n",
       "0              US  48437955  778601  48229210   776639     208745        1962   \n",
       "1           India  34587822  468980  34580832   468790       6990         190   \n",
       "2          Brazil  22084749  614376  22080906   614278       3843          98   \n",
       "3  United Kingdom  10245244  145253  10202370   145218      42874          35   \n",
       "4          Russia   9436650  268705   9403480   267527      33170        1178   \n",
       "\n",
       "   Fatality Rate      Continent  \n",
       "0            1.6  North America  \n",
       "1            1.4           Asia  \n",
       "2            2.8  South America  \n",
       "3            1.4         Europe  \n",
       "4            2.8         Europe  "
      ]
     },
     "execution_count": 15,
     "metadata": {},
     "output_type": "execute_result"
    }
   ],
   "source": [
    "#hide\n",
    "df_table = (pd.DataFrame(dict(Cases=dfc_cases, Deaths=dfc_deaths, PCases=dfp_cases, PDeaths=dfp_deaths))\n",
    "             .sort_values(by=['Cases', 'Deaths'], ascending=[False, False])\n",
    "             .reset_index())\n",
    "df_table.rename(columns={'index': 'Country/Region'}, inplace=True)\n",
    "for c in 'Cases, Deaths'.split(', '):\n",
    "    df_table[f'{c} (+)'] = (df_table[c] - df_table[f'P{c}']).clip(0)  # DATA BUG\n",
    "df_table['Fatality Rate'] = (100 * df_table['Deaths'] / df_table['Cases']).round(1)\n",
    "df_table['Continent'] = df_table['Country/Region'].map(mapping['map.continent'])\n",
    "df_table.head(5)"
   ]
  },
  {
   "cell_type": "code",
   "execution_count": 16,
   "id": "fewer-occasion",
   "metadata": {
    "execution": {
     "iopub.execute_input": "2021-11-30T12:10:55.532333Z",
     "iopub.status.busy": "2021-11-30T12:10:55.531677Z",
     "iopub.status.idle": "2021-11-30T12:10:55.534665Z",
     "shell.execute_reply": "2021-11-30T12:10:55.534090Z"
    },
    "papermill": {
     "duration": 0.044913,
     "end_time": "2021-11-30T12:10:55.534791",
     "exception": false,
     "start_time": "2021-11-30T12:10:55.489878",
     "status": "completed"
    },
    "tags": []
   },
   "outputs": [],
   "source": [
    "#hide\n",
    "#delete problematic countries from table\n",
    "df_table = df_table[~df_table['Country/Region'].isin(['Cape Verde', 'Cruise Ship', 'Kosovo'])]"
   ]
  },
  {
   "cell_type": "code",
   "execution_count": 17,
   "id": "related-center",
   "metadata": {
    "execution": {
     "iopub.execute_input": "2021-11-30T12:10:55.630021Z",
     "iopub.status.busy": "2021-11-30T12:10:55.629385Z",
     "iopub.status.idle": "2021-11-30T12:10:55.632081Z",
     "shell.execute_reply": "2021-11-30T12:10:55.631547Z"
    },
    "papermill": {
     "duration": 0.060972,
     "end_time": "2021-11-30T12:10:55.632215",
     "exception": false,
     "start_time": "2021-11-30T12:10:55.571243",
     "status": "completed"
    },
    "tags": []
   },
   "outputs": [],
   "source": [
    "#hide\n",
    "metrics = [df_table.columns[index] for index in [1,2,5,6]]\n",
    "# s_china = df_table[df_table['Country/Region'].eq('China')][metrics].sum().add_prefix('China ')\n",
    "s_us = df_table[df_table['Country/Region'].eq('US')][metrics].sum().add_prefix('US ')\n",
    "s_eu = df_table[df_table['Continent'].eq('Europe')][metrics].sum().add_prefix('EU ')\n",
    "s_ind = df_table[df_table['Country/Region'].eq('India')][metrics].sum().add_prefix('India ')\n",
    "summary = {'updated': pd.to_datetime(dt_today), 'since': pd.to_datetime(dt_yday)}\n",
    "summary = {'updated': pd.to_datetime(dt_today), 'since': pd.to_datetime(dt_yday)}\n",
    "summary = {**summary, **df_table[metrics].sum(), **s_ind, **s_us, **s_eu}"
   ]
  },
  {
   "cell_type": "code",
   "execution_count": 18,
   "id": "engaging-syndrome",
   "metadata": {
    "execution": {
     "iopub.execute_input": "2021-11-30T12:10:55.709833Z",
     "iopub.status.busy": "2021-11-30T12:10:55.709176Z",
     "iopub.status.idle": "2021-11-30T12:10:55.728413Z",
     "shell.execute_reply": "2021-11-30T12:10:55.728989Z"
    },
    "papermill": {
     "duration": 0.061053,
     "end_time": "2021-11-30T12:10:55.729162",
     "exception": false,
     "start_time": "2021-11-30T12:10:55.668109",
     "status": "completed"
    },
    "tags": []
   },
   "outputs": [],
   "source": [
    "#hide\n",
    "dft_ct_new_cases = dft_cases.groupby(COL_REGION)[dt_cols].sum().diff(axis=1).fillna(0).astype(int)"
   ]
  },
  {
   "cell_type": "code",
   "execution_count": 19,
   "id": "neutral-assignment",
   "metadata": {
    "execution": {
     "iopub.execute_input": "2021-11-30T12:10:55.808752Z",
     "iopub.status.busy": "2021-11-30T12:10:55.808171Z",
     "iopub.status.idle": "2021-11-30T12:10:55.810479Z",
     "shell.execute_reply": "2021-11-30T12:10:55.811042Z"
    },
    "papermill": {
     "duration": 0.044848,
     "end_time": "2021-11-30T12:10:55.811173",
     "exception": false,
     "start_time": "2021-11-30T12:10:55.766325",
     "status": "completed"
    },
    "tags": []
   },
   "outputs": [],
   "source": [
    "#hide\n",
    "everydaycases = dft_ct_new_cases.cumsum(axis=1)"
   ]
  },
  {
   "cell_type": "code",
   "execution_count": 20,
   "id": "parliamentary-calgary",
   "metadata": {
    "execution": {
     "iopub.execute_input": "2021-11-30T12:10:55.892371Z",
     "iopub.status.busy": "2021-11-30T12:10:55.891739Z",
     "iopub.status.idle": "2021-11-30T12:10:56.625594Z",
     "shell.execute_reply": "2021-11-30T12:10:56.626093Z"
    },
    "papermill": {
     "duration": 0.777319,
     "end_time": "2021-11-30T12:10:56.626293",
     "exception": false,
     "start_time": "2021-11-30T12:10:55.848974",
     "status": "completed"
    },
    "tags": []
   },
   "outputs": [],
   "source": [
    "#hide\n",
    "import pandas as pd\n",
    "import matplotlib.pyplot as plt\n",
    "import matplotlib.ticker as ticker\n",
    "import matplotlib.animation as animation\n",
    "from IPython.display import HTML"
   ]
  },
  {
   "cell_type": "code",
   "execution_count": 21,
   "id": "lasting-extraction",
   "metadata": {
    "execution": {
     "iopub.execute_input": "2021-11-30T12:10:56.711167Z",
     "iopub.status.busy": "2021-11-30T12:10:56.710505Z",
     "iopub.status.idle": "2021-11-30T12:10:56.716957Z",
     "shell.execute_reply": "2021-11-30T12:10:56.716490Z"
    },
    "papermill": {
     "duration": 0.052679,
     "end_time": "2021-11-30T12:10:56.717082",
     "exception": false,
     "start_time": "2021-11-30T12:10:56.664403",
     "status": "completed"
    },
    "tags": []
   },
   "outputs": [],
   "source": [
    "#hide\n",
    "t = everydaycases.stack()"
   ]
  },
  {
   "cell_type": "code",
   "execution_count": 22,
   "id": "premier-sleeve",
   "metadata": {
    "execution": {
     "iopub.execute_input": "2021-11-30T12:10:56.795458Z",
     "iopub.status.busy": "2021-11-30T12:10:56.794870Z",
     "iopub.status.idle": "2021-11-30T12:10:56.804192Z",
     "shell.execute_reply": "2021-11-30T12:10:56.804832Z"
    },
    "papermill": {
     "duration": 0.051008,
     "end_time": "2021-11-30T12:10:56.804966",
     "exception": false,
     "start_time": "2021-11-30T12:10:56.753958",
     "status": "completed"
    },
    "tags": []
   },
   "outputs": [],
   "source": [
    "#hide\n",
    "g = t.reset_index(['Country/Region'])"
   ]
  },
  {
   "cell_type": "code",
   "execution_count": 23,
   "id": "distributed-pittsburgh",
   "metadata": {
    "execution": {
     "iopub.execute_input": "2021-11-30T12:10:56.882886Z",
     "iopub.status.busy": "2021-11-30T12:10:56.882213Z",
     "iopub.status.idle": "2021-11-30T12:10:56.884221Z",
     "shell.execute_reply": "2021-11-30T12:10:56.884675Z"
    },
    "papermill": {
     "duration": 0.043666,
     "end_time": "2021-11-30T12:10:56.884817",
     "exception": false,
     "start_time": "2021-11-30T12:10:56.841151",
     "status": "completed"
    },
    "tags": []
   },
   "outputs": [],
   "source": [
    "#hide\n",
    "g.index.name = 'date'"
   ]
  },
  {
   "cell_type": "code",
   "execution_count": 24,
   "id": "naked-donor",
   "metadata": {
    "execution": {
     "iopub.execute_input": "2021-11-30T12:10:56.966452Z",
     "iopub.status.busy": "2021-11-30T12:10:56.965722Z",
     "iopub.status.idle": "2021-11-30T12:10:56.969647Z",
     "shell.execute_reply": "2021-11-30T12:10:56.969165Z"
    },
    "papermill": {
     "duration": 0.043628,
     "end_time": "2021-11-30T12:10:56.969773",
     "exception": false,
     "start_time": "2021-11-30T12:10:56.926145",
     "status": "completed"
    },
    "tags": []
   },
   "outputs": [],
   "source": [
    "# #hide\n",
    "# g = g.reset_index(['date'])"
   ]
  },
  {
   "cell_type": "code",
   "execution_count": 25,
   "id": "incomplete-mustang",
   "metadata": {
    "execution": {
     "iopub.execute_input": "2021-11-30T12:10:57.047319Z",
     "iopub.status.busy": "2021-11-30T12:10:57.046720Z",
     "iopub.status.idle": "2021-11-30T12:10:57.049185Z",
     "shell.execute_reply": "2021-11-30T12:10:57.048711Z"
    },
    "papermill": {
     "duration": 0.043106,
     "end_time": "2021-11-30T12:10:57.049306",
     "exception": false,
     "start_time": "2021-11-30T12:10:57.006200",
     "status": "completed"
    },
    "tags": []
   },
   "outputs": [],
   "source": [
    "#hide\n",
    "# g.head()"
   ]
  },
  {
   "cell_type": "code",
   "execution_count": 26,
   "id": "specific-kruger",
   "metadata": {
    "execution": {
     "iopub.execute_input": "2021-11-30T12:10:57.141888Z",
     "iopub.status.busy": "2021-11-30T12:10:57.141098Z",
     "iopub.status.idle": "2021-11-30T12:10:57.143941Z",
     "shell.execute_reply": "2021-11-30T12:10:57.143278Z"
    },
    "papermill": {
     "duration": 0.055049,
     "end_time": "2021-11-30T12:10:57.144078",
     "exception": false,
     "start_time": "2021-11-30T12:10:57.089029",
     "status": "completed"
    },
    "tags": []
   },
   "outputs": [],
   "source": [
    "#hide\n",
    "# g.columns = ['date','country','cases']"
   ]
  },
  {
   "cell_type": "code",
   "execution_count": 27,
   "id": "tender-conversion",
   "metadata": {
    "execution": {
     "iopub.execute_input": "2021-11-30T12:10:57.224469Z",
     "iopub.status.busy": "2021-11-30T12:10:57.223795Z",
     "iopub.status.idle": "2021-11-30T12:10:57.225984Z",
     "shell.execute_reply": "2021-11-30T12:10:57.226630Z"
    },
    "papermill": {
     "duration": 0.044269,
     "end_time": "2021-11-30T12:10:57.226784",
     "exception": false,
     "start_time": "2021-11-30T12:10:57.182515",
     "status": "completed"
    },
    "tags": []
   },
   "outputs": [],
   "source": [
    "#hide\n",
    "# g['continent'] = g.country"
   ]
  },
  {
   "cell_type": "code",
   "execution_count": 28,
   "id": "substantial-wilderness",
   "metadata": {
    "execution": {
     "iopub.execute_input": "2021-11-30T12:10:57.307831Z",
     "iopub.status.busy": "2021-11-30T12:10:57.307153Z",
     "iopub.status.idle": "2021-11-30T12:10:57.309725Z",
     "shell.execute_reply": "2021-11-30T12:10:57.309150Z"
    },
    "papermill": {
     "duration": 0.043953,
     "end_time": "2021-11-30T12:10:57.309863",
     "exception": false,
     "start_time": "2021-11-30T12:10:57.265910",
     "status": "completed"
    },
    "tags": []
   },
   "outputs": [],
   "source": [
    "#hide\n",
    "# cols = list(g.columns.values)"
   ]
  },
  {
   "cell_type": "code",
   "execution_count": 29,
   "id": "solved-farming",
   "metadata": {
    "execution": {
     "iopub.execute_input": "2021-11-30T12:10:57.392385Z",
     "iopub.status.busy": "2021-11-30T12:10:57.391797Z",
     "iopub.status.idle": "2021-11-30T12:10:57.395688Z",
     "shell.execute_reply": "2021-11-30T12:10:57.396145Z"
    },
    "papermill": {
     "duration": 0.045745,
     "end_time": "2021-11-30T12:10:57.396292",
     "exception": false,
     "start_time": "2021-11-30T12:10:57.350547",
     "status": "completed"
    },
    "tags": []
   },
   "outputs": [],
   "source": [
    "#hide\n",
    "# cols.insert(0, cols.pop())"
   ]
  },
  {
   "cell_type": "code",
   "execution_count": 30,
   "id": "executed-adoption",
   "metadata": {
    "execution": {
     "iopub.execute_input": "2021-11-30T12:10:57.471899Z",
     "iopub.status.busy": "2021-11-30T12:10:57.471301Z",
     "iopub.status.idle": "2021-11-30T12:10:57.473841Z",
     "shell.execute_reply": "2021-11-30T12:10:57.473338Z"
    },
    "papermill": {
     "duration": 0.042137,
     "end_time": "2021-11-30T12:10:57.473964",
     "exception": false,
     "start_time": "2021-11-30T12:10:57.431827",
     "status": "completed"
    },
    "tags": []
   },
   "outputs": [],
   "source": [
    "#hide\n",
    "# g = g[cols]"
   ]
  },
  {
   "cell_type": "code",
   "execution_count": 31,
   "id": "subject-dublin",
   "metadata": {
    "execution": {
     "iopub.execute_input": "2021-11-30T12:10:57.552602Z",
     "iopub.status.busy": "2021-11-30T12:10:57.552014Z",
     "iopub.status.idle": "2021-11-30T12:10:57.554837Z",
     "shell.execute_reply": "2021-11-30T12:10:57.554217Z"
    },
    "papermill": {
     "duration": 0.044376,
     "end_time": "2021-11-30T12:10:57.554972",
     "exception": false,
     "start_time": "2021-11-30T12:10:57.510596",
     "status": "completed"
    },
    "tags": []
   },
   "outputs": [],
   "source": [
    "#hide\n",
    "# g['continent'] = g['continent'].map(mapping['map.continent'])"
   ]
  },
  {
   "cell_type": "code",
   "execution_count": 32,
   "id": "freelance-scout",
   "metadata": {
    "execution": {
     "iopub.execute_input": "2021-11-30T12:10:57.634089Z",
     "iopub.status.busy": "2021-11-30T12:10:57.633497Z",
     "iopub.status.idle": "2021-11-30T12:10:57.638114Z",
     "shell.execute_reply": "2021-11-30T12:10:57.637583Z"
    },
    "papermill": {
     "duration": 0.044699,
     "end_time": "2021-11-30T12:10:57.638281",
     "exception": false,
     "start_time": "2021-11-30T12:10:57.593582",
     "status": "completed"
    },
    "tags": []
   },
   "outputs": [],
   "source": [
    "#hide\n",
    "# g.head()"
   ]
  },
  {
   "cell_type": "code",
   "execution_count": 33,
   "id": "limited-engine",
   "metadata": {
    "execution": {
     "iopub.execute_input": "2021-11-30T12:10:57.715482Z",
     "iopub.status.busy": "2021-11-30T12:10:57.714811Z",
     "iopub.status.idle": "2021-11-30T12:10:57.717049Z",
     "shell.execute_reply": "2021-11-30T12:10:57.718229Z"
    },
    "papermill": {
     "duration": 0.04183,
     "end_time": "2021-11-30T12:10:57.718392",
     "exception": false,
     "start_time": "2021-11-30T12:10:57.676562",
     "status": "completed"
    },
    "tags": []
   },
   "outputs": [],
   "source": [
    "# hide\n",
    "# g['date'] = g['date'].astype('datetime64[ns]')"
   ]
  },
  {
   "cell_type": "code",
   "execution_count": 34,
   "id": "sophisticated-supervisor",
   "metadata": {
    "execution": {
     "iopub.execute_input": "2021-11-30T12:10:57.792965Z",
     "iopub.status.busy": "2021-11-30T12:10:57.792316Z",
     "iopub.status.idle": "2021-11-30T12:10:57.795859Z",
     "shell.execute_reply": "2021-11-30T12:10:57.796307Z"
    },
    "papermill": {
     "duration": 0.042985,
     "end_time": "2021-11-30T12:10:57.796439",
     "exception": false,
     "start_time": "2021-11-30T12:10:57.753454",
     "status": "completed"
    },
    "tags": []
   },
   "outputs": [],
   "source": [
    "#hide\n",
    "# g['date'] = g.date.dt.dayofyear"
   ]
  },
  {
   "cell_type": "code",
   "execution_count": 35,
   "id": "inside-dubai",
   "metadata": {
    "execution": {
     "iopub.execute_input": "2021-11-30T12:10:57.873374Z",
     "iopub.status.busy": "2021-11-30T12:10:57.872702Z",
     "iopub.status.idle": "2021-11-30T12:10:57.876162Z",
     "shell.execute_reply": "2021-11-30T12:10:57.876611Z"
    },
    "papermill": {
     "duration": 0.044397,
     "end_time": "2021-11-30T12:10:57.876746",
     "exception": false,
     "start_time": "2021-11-30T12:10:57.832349",
     "status": "completed"
    },
    "tags": []
   },
   "outputs": [],
   "source": [
    "#hide\n",
    "# g = g.rename(columns= {'continent':'group','country':'name','cases':'value'})"
   ]
  },
  {
   "cell_type": "code",
   "execution_count": 36,
   "id": "fleet-motorcycle",
   "metadata": {
    "execution": {
     "iopub.execute_input": "2021-11-30T12:10:57.951798Z",
     "iopub.status.busy": "2021-11-30T12:10:57.951212Z",
     "iopub.status.idle": "2021-11-30T12:10:57.953585Z",
     "shell.execute_reply": "2021-11-30T12:10:57.953091Z"
    },
    "papermill": {
     "duration": 0.041774,
     "end_time": "2021-11-30T12:10:57.953699",
     "exception": false,
     "start_time": "2021-11-30T12:10:57.911925",
     "status": "completed"
    },
    "tags": []
   },
   "outputs": [],
   "source": [
    "#hide\n",
    "# cols = ['name','group','day','value']"
   ]
  },
  {
   "cell_type": "code",
   "execution_count": 37,
   "id": "continued-sleeping",
   "metadata": {
    "execution": {
     "iopub.execute_input": "2021-11-30T12:10:58.037588Z",
     "iopub.status.busy": "2021-11-30T12:10:58.036948Z",
     "iopub.status.idle": "2021-11-30T12:10:58.040916Z",
     "shell.execute_reply": "2021-11-30T12:10:58.041418Z"
    },
    "papermill": {
     "duration": 0.047611,
     "end_time": "2021-11-30T12:10:58.041564",
     "exception": false,
     "start_time": "2021-11-30T12:10:57.993953",
     "status": "completed"
    },
    "tags": []
   },
   "outputs": [],
   "source": [
    "#hide\n",
    "# g.rename(columns= {'date':'day'},inplace = True)"
   ]
  },
  {
   "cell_type": "code",
   "execution_count": 38,
   "id": "major-fight",
   "metadata": {
    "execution": {
     "iopub.execute_input": "2021-11-30T12:10:58.133717Z",
     "iopub.status.busy": "2021-11-30T12:10:58.133108Z",
     "iopub.status.idle": "2021-11-30T12:10:58.137583Z",
     "shell.execute_reply": "2021-11-30T12:10:58.137035Z"
    },
    "papermill": {
     "duration": 0.050281,
     "end_time": "2021-11-30T12:10:58.137722",
     "exception": false,
     "start_time": "2021-11-30T12:10:58.087441",
     "status": "completed"
    },
    "tags": []
   },
   "outputs": [],
   "source": [
    "#hide\n",
    "# g = g[cols]"
   ]
  },
  {
   "cell_type": "code",
   "execution_count": 39,
   "id": "structured-mobile",
   "metadata": {
    "execution": {
     "iopub.execute_input": "2021-11-30T12:10:58.216721Z",
     "iopub.status.busy": "2021-11-30T12:10:58.216057Z",
     "iopub.status.idle": "2021-11-30T12:10:58.218116Z",
     "shell.execute_reply": "2021-11-30T12:10:58.217513Z"
    },
    "papermill": {
     "duration": 0.042433,
     "end_time": "2021-11-30T12:10:58.218266",
     "exception": false,
     "start_time": "2021-11-30T12:10:58.175833",
     "status": "completed"
    },
    "tags": []
   },
   "outputs": [],
   "source": [
    "# #hide\n",
    "# g = g[g.group.notna()]"
   ]
  },
  {
   "cell_type": "code",
   "execution_count": 40,
   "id": "determined-closing",
   "metadata": {
    "execution": {
     "iopub.execute_input": "2021-11-30T12:10:58.296784Z",
     "iopub.status.busy": "2021-11-30T12:10:58.296142Z",
     "iopub.status.idle": "2021-11-30T12:10:58.299925Z",
     "shell.execute_reply": "2021-11-30T12:10:58.300397Z"
    },
    "papermill": {
     "duration": 0.046327,
     "end_time": "2021-11-30T12:10:58.300545",
     "exception": false,
     "start_time": "2021-11-30T12:10:58.254218",
     "status": "completed"
    },
    "tags": []
   },
   "outputs": [],
   "source": [
    "# #hide\n",
    "# colors = dict(zip(\n",
    "#     [\"Oceania\", \"Europe\", \"Asia\", \"South America\", \"Middle East\", \"North America\", \"Africa\"],\n",
    "#     [\"#adb0ff\", \"#ffb3ff\", \"#90d595\", \"#e48381\", \"#aafbff\", \"#f7bb5f\", \"#eafb50\"]\n",
    "# ))\n",
    "# group_lk = g.set_index('name')['group'].to_dict()"
   ]
  },
  {
   "cell_type": "code",
   "execution_count": null,
   "id": "gross-drinking",
   "metadata": {
    "papermill": {
     "duration": 0.044989,
     "end_time": "2021-11-30T12:10:58.393316",
     "exception": false,
     "start_time": "2021-11-30T12:10:58.348327",
     "status": "completed"
    },
    "tags": []
   },
   "outputs": [],
   "source": []
  },
  {
   "cell_type": "code",
   "execution_count": 41,
   "id": "subject-macintosh",
   "metadata": {
    "execution": {
     "iopub.execute_input": "2021-11-30T12:10:58.482566Z",
     "iopub.status.busy": "2021-11-30T12:10:58.481856Z",
     "iopub.status.idle": "2021-11-30T12:10:58.484381Z",
     "shell.execute_reply": "2021-11-30T12:10:58.484918Z"
    },
    "papermill": {
     "duration": 0.045667,
     "end_time": "2021-11-30T12:10:58.485078",
     "exception": false,
     "start_time": "2021-11-30T12:10:58.439411",
     "status": "completed"
    },
    "tags": []
   },
   "outputs": [],
   "source": [
    "# #hide\n",
    "# fig, ax = plt.subplots(figsize=(15, 8))\n",
    "\n",
    "# def draw_barchart(current_day):\n",
    "#     dff = g[g['day'].eq(current_day)].sort_values(by='value', ascending=True).tail(10)\n",
    "#     ax.clear()\n",
    "#     ax.barh(dff['name'], dff['value'], color=[colors[group_lk[x]] for x in dff['name']])\n",
    "#     dx = dff['value'].max() / 200\n",
    "    \n",
    "#     for i, (value, name) in enumerate(zip(dff['value'], dff['name'])):\n",
    "#         ax.text(value-dx, i,     name,           size=14, weight=600, ha='right', va='bottom')\n",
    "#         ax.text(value-dx, i-.25, group_lk[name], size=10, color='#444444', ha='right', va='baseline')\n",
    "#         ax.text(value+dx, i,     f'{value:,.0f}',  size=14, ha='left',  va='center')\n",
    "#     ax.text(1, 0.4, current_day, transform=ax.transAxes, color='#777777', size=46, ha='right', weight=800)\n",
    "#     ax.text(0, 1.06, 'Population (thousands)', transform=ax.transAxes, size=12, color='#777777')\n",
    "#     ax.xaxis.set_major_formatter(ticker.StrMethodFormatter('{x:,.0f}'))\n",
    "#     ax.xaxis.set_ticks_position('top')\n",
    "#     ax.tick_params(axis='x', colors='#777777', labelsize=12)\n",
    "#     ax.set_yticks([])\n",
    "#     ax.margins(0, 0.01)\n",
    "#     ax.grid(which='major', axis='x', linestyle='-')\n",
    "#     ax.set_axisbelow(True)\n",
    "    \n",
    "#     ax.text(0, 1.15, 'Coronavirus',\n",
    "#             transform=ax.transAxes, size=24, weight=600, ha='left', va='top')\n",
    "# #     ax.text(1, 0, 'by @pratapvardhan; credit @jburnmurdoch', transform=ax.transAxes, color='#777777', ha='right',\n",
    "# #             bbox=dict(facecolor='white', alpha=0.8, edgecolor='white'))\n",
    "#     plt.box(False)"
   ]
  },
  {
   "cell_type": "code",
   "execution_count": 42,
   "id": "sexual-wages",
   "metadata": {
    "execution": {
     "iopub.execute_input": "2021-11-30T12:10:58.581759Z",
     "iopub.status.busy": "2021-11-30T12:10:58.581140Z",
     "iopub.status.idle": "2021-11-30T12:10:58.583562Z",
     "shell.execute_reply": "2021-11-30T12:10:58.583060Z"
    },
    "papermill": {
     "duration": 0.055579,
     "end_time": "2021-11-30T12:10:58.583687",
     "exception": false,
     "start_time": "2021-11-30T12:10:58.528108",
     "status": "completed"
    },
    "tags": []
   },
   "outputs": [],
   "source": [
    "# #hide_input\n",
    "# fig, ax = plt.subplots(figsize=(15, 8))\n",
    "# animator = animation.FuncAnimation(fig, draw_barchart, frames=range(g.day.values.min(), g.day.values.max()))\n",
    "# HTML(animator.to_jshtml())\n",
    "# # or use animator.to_html5_video() or animator.save() "
   ]
  },
  {
   "cell_type": "code",
   "execution_count": null,
   "id": "australian-container",
   "metadata": {
    "papermill": {
     "duration": 0.036629,
     "end_time": "2021-11-30T12:10:58.658063",
     "exception": false,
     "start_time": "2021-11-30T12:10:58.621434",
     "status": "completed"
    },
    "tags": []
   },
   "outputs": [],
   "source": []
  },
  {
   "cell_type": "code",
   "execution_count": null,
   "id": "mediterranean-pontiac",
   "metadata": {
    "papermill": {
     "duration": 0.035637,
     "end_time": "2021-11-30T12:10:58.730429",
     "exception": false,
     "start_time": "2021-11-30T12:10:58.694792",
     "status": "completed"
    },
    "tags": []
   },
   "outputs": [],
   "source": []
  },
  {
   "cell_type": "code",
   "execution_count": null,
   "id": "aging-legislature",
   "metadata": {
    "papermill": {
     "duration": 0.037515,
     "end_time": "2021-11-30T12:10:58.804407",
     "exception": false,
     "start_time": "2021-11-30T12:10:58.766892",
     "status": "completed"
    },
    "tags": []
   },
   "outputs": [],
   "source": []
  }
 ],
 "metadata": {
  "kernelspec": {
   "display_name": "Python 3",
   "language": "python",
   "name": "python3"
  },
  "language_info": {
   "codemirror_mode": {
    "name": "ipython",
    "version": 3
   },
   "file_extension": ".py",
   "mimetype": "text/x-python",
   "name": "python",
   "nbconvert_exporter": "python",
   "pygments_lexer": "ipython3",
   "version": "3.6.15"
  },
  "papermill": {
   "duration": 7.176059,
   "end_time": "2021-11-30T12:10:59.149213",
   "environment_variables": {},
   "exception": null,
   "input_path": "2020-03-21-covid19exp.ipynb",
   "output_path": "2020-03-21-covid19exp.ipynb",
   "parameters": {},
   "start_time": "2021-11-30T12:10:51.973154",
   "version": "2.0.0"
  }
 },
 "nbformat": 4,
 "nbformat_minor": 5
}