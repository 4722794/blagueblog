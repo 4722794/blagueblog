{
 "cells": [
  {
   "cell_type": "markdown",
   "metadata": {
    "papermill": {
     "duration": 0.038791,
     "end_time": "2020-12-20T12:07:35.491121",
     "exception": false,
     "start_time": "2020-12-20T12:07:35.452330",
     "status": "completed"
    },
    "tags": []
   },
   "source": [
    "# COVID-19 Case Race\n",
    "> A race chart to see rising cases around the world\n",
    "\n",
    "- author: Hargun Oberoi\n",
    "- image: images/covid-overview.png\n",
    "- hide: false\n",
    "- badges: false"
   ]
  },
  {
   "cell_type": "code",
   "execution_count": 1,
   "metadata": {
    "execution": {
     "iopub.execute_input": "2020-12-20T12:07:35.564057Z",
     "iopub.status.busy": "2020-12-20T12:07:35.563448Z",
     "iopub.status.idle": "2020-12-20T12:07:35.907535Z",
     "shell.execute_reply": "2020-12-20T12:07:35.906916Z"
    },
    "papermill": {
     "duration": 0.38624,
     "end_time": "2020-12-20T12:07:35.907709",
     "exception": false,
     "start_time": "2020-12-20T12:07:35.521469",
     "status": "completed"
    },
    "tags": []
   },
   "outputs": [],
   "source": [
    "#hide\n",
    "import numpy as np\n",
    "import pandas as pd\n",
    "from jinja2 import Template\n",
    "from IPython.display import HTML"
   ]
  },
  {
   "cell_type": "code",
   "execution_count": 2,
   "metadata": {
    "execution": {
     "iopub.execute_input": "2020-12-20T12:07:35.972808Z",
     "iopub.status.busy": "2020-12-20T12:07:35.972078Z",
     "iopub.status.idle": "2020-12-20T12:07:35.973524Z",
     "shell.execute_reply": "2020-12-20T12:07:35.974095Z"
    },
    "papermill": {
     "duration": 0.036022,
     "end_time": "2020-12-20T12:07:35.974259",
     "exception": false,
     "start_time": "2020-12-20T12:07:35.938237",
     "status": "completed"
    },
    "tags": []
   },
   "outputs": [],
   "source": [
    "#hide\n",
    "\n",
    "# FETCH\n",
    "base_url = 'https://raw.githubusercontent.com/pratapvardhan/notebooks/master/covid19/'\n",
    "paths = {\n",
    "    'mapping': base_url + 'mapping_countries.csv',\n",
    "    'overview': base_url + 'overview.tpl'\n",
    "}"
   ]
  },
  {
   "cell_type": "code",
   "execution_count": 3,
   "metadata": {
    "execution": {
     "iopub.execute_input": "2020-12-20T12:07:36.049081Z",
     "iopub.status.busy": "2020-12-20T12:07:36.048455Z",
     "iopub.status.idle": "2020-12-20T12:07:36.050871Z",
     "shell.execute_reply": "2020-12-20T12:07:36.051429Z"
    },
    "papermill": {
     "duration": 0.045546,
     "end_time": "2020-12-20T12:07:36.051585",
     "exception": false,
     "start_time": "2020-12-20T12:07:36.006039",
     "status": "completed"
    },
    "tags": []
   },
   "outputs": [
    {
     "data": {
      "text/plain": [
       "'https://raw.githubusercontent.com/pratapvardhan/notebooks/master/covid19/mapping_countries.csv'"
      ]
     },
     "execution_count": 3,
     "metadata": {},
     "output_type": "execute_result"
    }
   ],
   "source": [
    "#hide\n",
    "paths['mapping']"
   ]
  },
  {
   "cell_type": "code",
   "execution_count": 4,
   "metadata": {
    "execution": {
     "iopub.execute_input": "2020-12-20T12:07:36.117108Z",
     "iopub.status.busy": "2020-12-20T12:07:36.116386Z",
     "iopub.status.idle": "2020-12-20T12:07:36.117780Z",
     "shell.execute_reply": "2020-12-20T12:07:36.118338Z"
    },
    "papermill": {
     "duration": 0.037049,
     "end_time": "2020-12-20T12:07:36.118487",
     "exception": false,
     "start_time": "2020-12-20T12:07:36.081438",
     "status": "completed"
    },
    "tags": []
   },
   "outputs": [],
   "source": [
    "#hide\n",
    "def get_mappings(url):\n",
    "    df = pd.read_csv(url)\n",
    "    return {\n",
    "        'df': df,\n",
    "        'replace.country': dict(df.dropna(subset=['Name']).set_index('Country')['Name']),\n",
    "        'map.continent': dict(df.set_index('Name')['Continent'])\n",
    "    }"
   ]
  },
  {
   "cell_type": "code",
   "execution_count": 5,
   "metadata": {
    "execution": {
     "iopub.execute_input": "2020-12-20T12:07:36.188022Z",
     "iopub.status.busy": "2020-12-20T12:07:36.180079Z",
     "iopub.status.idle": "2020-12-20T12:07:36.246980Z",
     "shell.execute_reply": "2020-12-20T12:07:36.245902Z"
    },
    "papermill": {
     "duration": 0.09972,
     "end_time": "2020-12-20T12:07:36.247122",
     "exception": false,
     "start_time": "2020-12-20T12:07:36.147402",
     "status": "completed"
    },
    "tags": []
   },
   "outputs": [],
   "source": [
    "#hide\n",
    "mapping = get_mappings(paths['mapping'])"
   ]
  },
  {
   "cell_type": "code",
   "execution_count": 6,
   "metadata": {
    "execution": {
     "iopub.execute_input": "2020-12-20T12:07:36.311868Z",
     "iopub.status.busy": "2020-12-20T12:07:36.311259Z",
     "iopub.status.idle": "2020-12-20T12:07:36.313458Z",
     "shell.execute_reply": "2020-12-20T12:07:36.312881Z"
    },
    "papermill": {
     "duration": 0.036363,
     "end_time": "2020-12-20T12:07:36.313588",
     "exception": false,
     "start_time": "2020-12-20T12:07:36.277225",
     "status": "completed"
    },
    "tags": []
   },
   "outputs": [],
   "source": [
    "#hide\n",
    "def get_template(path):\n",
    "    from urllib.parse import urlparse\n",
    "    if bool(urlparse(path).netloc):\n",
    "        from urllib.request import urlopen\n",
    "        return urlopen(path).read().decode('utf8')\n",
    "    return open(path).read()"
   ]
  },
  {
   "cell_type": "code",
   "execution_count": 7,
   "metadata": {
    "execution": {
     "iopub.execute_input": "2020-12-20T12:07:36.379319Z",
     "iopub.status.busy": "2020-12-20T12:07:36.378715Z",
     "iopub.status.idle": "2020-12-20T12:07:36.380690Z",
     "shell.execute_reply": "2020-12-20T12:07:36.381168Z"
    },
    "papermill": {
     "duration": 0.037719,
     "end_time": "2020-12-20T12:07:36.381305",
     "exception": false,
     "start_time": "2020-12-20T12:07:36.343586",
     "status": "completed"
    },
    "tags": []
   },
   "outputs": [],
   "source": [
    "#hide\n",
    "def get_frame(name):\n",
    "    url = (\n",
    "        'https://raw.githubusercontent.com/CSSEGISandData/COVID-19/master/csse_covid_19_data/'\n",
    "        f'csse_covid_19_time_series/time_series_covid19_{name}_global.csv')\n",
    "    df = pd.read_csv(url)\n",
    "    # rename countries\n",
    "    df['Country/Region'] = df['Country/Region'].replace(mapping['replace.country'])\n",
    "    return df"
   ]
  },
  {
   "cell_type": "code",
   "execution_count": 8,
   "metadata": {
    "execution": {
     "iopub.execute_input": "2020-12-20T12:07:36.446094Z",
     "iopub.status.busy": "2020-12-20T12:07:36.445502Z",
     "iopub.status.idle": "2020-12-20T12:07:36.447795Z",
     "shell.execute_reply": "2020-12-20T12:07:36.447218Z"
    },
    "papermill": {
     "duration": 0.037019,
     "end_time": "2020-12-20T12:07:36.447926",
     "exception": false,
     "start_time": "2020-12-20T12:07:36.410907",
     "status": "completed"
    },
    "tags": []
   },
   "outputs": [],
   "source": [
    "#hide\n",
    "def get_dates(df):\n",
    "    dt_cols = df.columns[~df.columns.isin(['Province/State', 'Country/Region', 'Lat', 'Long'])]\n",
    "    LAST_DATE_I = -1\n",
    "    # sometimes last column may be empty, then go backwards\n",
    "    for i in range(-1, -len(dt_cols), -1):\n",
    "        if not df[dt_cols[i]].fillna(0).eq(0).all():\n",
    "            LAST_DATE_I = i\n",
    "            break\n",
    "    return LAST_DATE_I, dt_cols"
   ]
  },
  {
   "cell_type": "code",
   "execution_count": 9,
   "metadata": {
    "execution": {
     "iopub.execute_input": "2020-12-20T12:07:36.509841Z",
     "iopub.status.busy": "2020-12-20T12:07:36.509234Z",
     "iopub.status.idle": "2020-12-20T12:07:36.953472Z",
     "shell.execute_reply": "2020-12-20T12:07:36.952259Z"
    },
    "papermill": {
     "duration": 0.477711,
     "end_time": "2020-12-20T12:07:36.953620",
     "exception": false,
     "start_time": "2020-12-20T12:07:36.475909",
     "status": "completed"
    },
    "tags": []
   },
   "outputs": [],
   "source": [
    "#hide\n",
    "COL_REGION = 'Country/Region'\n",
    "# Confirmed, Recovered, Deaths\n",
    "df = get_frame('confirmed')\n",
    "# dft_: timeseries, dfc_: today country agg\n",
    "dft_cases = df\n",
    "dft_deaths = get_frame('deaths')\n",
    "dft_recovered = get_frame('recovered')\n",
    "LAST_DATE_I, dt_cols = get_dates(df)"
   ]
  },
  {
   "cell_type": "code",
   "execution_count": 10,
   "metadata": {
    "execution": {
     "iopub.execute_input": "2020-12-20T12:07:37.016314Z",
     "iopub.status.busy": "2020-12-20T12:07:37.015611Z",
     "iopub.status.idle": "2020-12-20T12:07:37.017025Z",
     "shell.execute_reply": "2020-12-20T12:07:37.017687Z"
    },
    "papermill": {
     "duration": 0.035978,
     "end_time": "2020-12-20T12:07:37.017858",
     "exception": false,
     "start_time": "2020-12-20T12:07:36.981880",
     "status": "completed"
    },
    "tags": []
   },
   "outputs": [],
   "source": [
    "#hide\n",
    "LAST_DATE_I, dt_cols = get_dates(df)\n",
    "dt_today =dt_cols[LAST_DATE_I]\n",
    "# dt_5day = dt_cols[LAST_DATE_I - 5]\n",
    "dt_yday = dt_cols[LAST_DATE_I - 1]"
   ]
  },
  {
   "cell_type": "code",
   "execution_count": 11,
   "metadata": {
    "execution": {
     "iopub.execute_input": "2020-12-20T12:07:37.085391Z",
     "iopub.status.busy": "2020-12-20T12:07:37.084779Z",
     "iopub.status.idle": "2020-12-20T12:07:37.090959Z",
     "shell.execute_reply": "2020-12-20T12:07:37.091414Z"
    },
    "papermill": {
     "duration": 0.044611,
     "end_time": "2020-12-20T12:07:37.091581",
     "exception": false,
     "start_time": "2020-12-20T12:07:37.046970",
     "status": "completed"
    },
    "tags": []
   },
   "outputs": [],
   "source": [
    "#hide\n",
    "dfc_cases = dft_cases.groupby(COL_REGION)[dt_today].sum()\n",
    "dfc_deaths = dft_deaths.groupby(COL_REGION)[dt_today].sum()\n",
    "# dfp_cases = dft_cases.groupby(COL_REGION)[dt_5day].sum()\n",
    "# dfp_deaths = dft_deaths.groupby(COL_REGION)[dt_5day].sum()\n",
    "dfp_cases = dft_cases.groupby(COL_REGION)[dt_yday].sum()\n",
    "dfp_deaths = dft_deaths.groupby(COL_REGION)[dt_yday].sum()"
   ]
  },
  {
   "cell_type": "code",
   "execution_count": 12,
   "metadata": {
    "execution": {
     "iopub.execute_input": "2020-12-20T12:07:37.156056Z",
     "iopub.status.busy": "2020-12-20T12:07:37.155456Z",
     "iopub.status.idle": "2020-12-20T12:07:37.159170Z",
     "shell.execute_reply": "2020-12-20T12:07:37.159681Z"
    },
    "papermill": {
     "duration": 0.038965,
     "end_time": "2020-12-20T12:07:37.159821",
     "exception": false,
     "start_time": "2020-12-20T12:07:37.120856",
     "status": "completed"
    },
    "tags": []
   },
   "outputs": [],
   "source": [
    "#hide\n",
    "df_table = (pd.DataFrame(dict(Cases = dfc_cases, Deaths = dfc_deaths, PCases = dfp_cases, PDeaths = dfp_deaths))\n",
    "            .sort_values(by = ['Cases','Deaths'], ascending = [False, False])\n",
    "            .reset_index())"
   ]
  },
  {
   "cell_type": "code",
   "execution_count": 13,
   "metadata": {
    "execution": {
     "iopub.execute_input": "2020-12-20T12:07:37.237086Z",
     "iopub.status.busy": "2020-12-20T12:07:37.236471Z",
     "iopub.status.idle": "2020-12-20T12:07:37.244639Z",
     "shell.execute_reply": "2020-12-20T12:07:37.245214Z"
    },
    "papermill": {
     "duration": 0.057951,
     "end_time": "2020-12-20T12:07:37.245459",
     "exception": false,
     "start_time": "2020-12-20T12:07:37.187508",
     "status": "completed"
    },
    "tags": []
   },
   "outputs": [
    {
     "data": {
      "text/html": [
       "<div>\n",
       "<style scoped>\n",
       "    .dataframe tbody tr th:only-of-type {\n",
       "        vertical-align: middle;\n",
       "    }\n",
       "\n",
       "    .dataframe tbody tr th {\n",
       "        vertical-align: top;\n",
       "    }\n",
       "\n",
       "    .dataframe thead th {\n",
       "        text-align: right;\n",
       "    }\n",
       "</style>\n",
       "<table border=\"1\" class=\"dataframe\">\n",
       "  <thead>\n",
       "    <tr style=\"text-align: right;\">\n",
       "      <th></th>\n",
       "      <th>Country/Region</th>\n",
       "      <th>Cases</th>\n",
       "      <th>Deaths</th>\n",
       "      <th>PCases</th>\n",
       "      <th>PDeaths</th>\n",
       "      <th>Cases (+)</th>\n",
       "      <th>Deaths (+)</th>\n",
       "      <th>Fatality Rate</th>\n",
       "      <th>Continent</th>\n",
       "    </tr>\n",
       "  </thead>\n",
       "  <tbody>\n",
       "    <tr>\n",
       "      <th>0</th>\n",
       "      <td>US</td>\n",
       "      <td>17655591</td>\n",
       "      <td>316159</td>\n",
       "      <td>17459296</td>\n",
       "      <td>313588</td>\n",
       "      <td>196295</td>\n",
       "      <td>2571</td>\n",
       "      <td>1.79</td>\n",
       "      <td>North America</td>\n",
       "    </tr>\n",
       "    <tr>\n",
       "      <th>1</th>\n",
       "      <td>India</td>\n",
       "      <td>10031223</td>\n",
       "      <td>145477</td>\n",
       "      <td>10004599</td>\n",
       "      <td>145136</td>\n",
       "      <td>26624</td>\n",
       "      <td>341</td>\n",
       "      <td>1.45</td>\n",
       "      <td>Asia</td>\n",
       "    </tr>\n",
       "    <tr>\n",
       "      <th>2</th>\n",
       "      <td>Brazil</td>\n",
       "      <td>7213155</td>\n",
       "      <td>186356</td>\n",
       "      <td>7162978</td>\n",
       "      <td>185650</td>\n",
       "      <td>50177</td>\n",
       "      <td>706</td>\n",
       "      <td>2.58</td>\n",
       "      <td>South America</td>\n",
       "    </tr>\n",
       "    <tr>\n",
       "      <th>3</th>\n",
       "      <td>Russia</td>\n",
       "      <td>2792615</td>\n",
       "      <td>49744</td>\n",
       "      <td>2764843</td>\n",
       "      <td>49170</td>\n",
       "      <td>27772</td>\n",
       "      <td>574</td>\n",
       "      <td>1.78</td>\n",
       "      <td>Europe</td>\n",
       "    </tr>\n",
       "    <tr>\n",
       "      <th>4</th>\n",
       "      <td>France</td>\n",
       "      <td>2516957</td>\n",
       "      <td>60534</td>\n",
       "      <td>2499529</td>\n",
       "      <td>60345</td>\n",
       "      <td>17428</td>\n",
       "      <td>189</td>\n",
       "      <td>2.41</td>\n",
       "      <td>Europe</td>\n",
       "    </tr>\n",
       "  </tbody>\n",
       "</table>\n",
       "</div>"
      ],
      "text/plain": [
       "  Country/Region     Cases  Deaths    PCases  PDeaths  Cases (+)  Deaths (+)  \\\n",
       "0             US  17655591  316159  17459296   313588     196295        2571   \n",
       "1          India  10031223  145477  10004599   145136      26624         341   \n",
       "2         Brazil   7213155  186356   7162978   185650      50177         706   \n",
       "3         Russia   2792615   49744   2764843    49170      27772         574   \n",
       "4         France   2516957   60534   2499529    60345      17428         189   \n",
       "\n",
       "   Fatality Rate      Continent  \n",
       "0           1.79  North America  \n",
       "1           1.45           Asia  \n",
       "2           2.58  South America  \n",
       "3           1.78         Europe  \n",
       "4           2.41         Europe  "
      ]
     },
     "execution_count": 13,
     "metadata": {},
     "output_type": "execute_result"
    }
   ],
   "source": [
    "#hide\n",
    "for c in 'Cases, Deaths'.split(', '):\n",
    "    df_table[f'{c} (+)'] = (df_table[c] - df_table[f'P{c}']).clip(0)\n",
    "    #Clip ça veut dire, les chiffres negatif sont interdit\n",
    "df_table['Fatality Rate'] = (100* df_table['Deaths']/ df_table['Cases']).round(2)\n",
    "df_table['Continent'] = df_table['Country/Region'].map(mapping['map.continent'])\n",
    "df_table.head(5)"
   ]
  },
  {
   "cell_type": "code",
   "execution_count": 14,
   "metadata": {
    "execution": {
     "iopub.execute_input": "2020-12-20T12:07:37.311599Z",
     "iopub.status.busy": "2020-12-20T12:07:37.310999Z",
     "iopub.status.idle": "2020-12-20T12:07:37.314427Z",
     "shell.execute_reply": "2020-12-20T12:07:37.313935Z"
    },
    "papermill": {
     "duration": 0.039623,
     "end_time": "2020-12-20T12:07:37.314572",
     "exception": false,
     "start_time": "2020-12-20T12:07:37.274949",
     "status": "completed"
    },
    "tags": []
   },
   "outputs": [],
   "source": [
    "#hide\n",
    "#delete problematic countries from table\n",
    "df_table = df_table[~df_table['Country/Region'].isin(['Cape Verde', 'Cruise Ship', 'Kosovo'])]"
   ]
  },
  {
   "cell_type": "code",
   "execution_count": 15,
   "metadata": {
    "execution": {
     "iopub.execute_input": "2020-12-20T12:07:37.383826Z",
     "iopub.status.busy": "2020-12-20T12:07:37.383263Z",
     "iopub.status.idle": "2020-12-20T12:07:37.402377Z",
     "shell.execute_reply": "2020-12-20T12:07:37.401870Z"
    },
    "papermill": {
     "duration": 0.057668,
     "end_time": "2020-12-20T12:07:37.402542",
     "exception": false,
     "start_time": "2020-12-20T12:07:37.344874",
     "status": "completed"
    },
    "tags": []
   },
   "outputs": [
    {
     "data": {
      "text/html": [
       "<div>\n",
       "<style scoped>\n",
       "    .dataframe tbody tr th:only-of-type {\n",
       "        vertical-align: middle;\n",
       "    }\n",
       "\n",
       "    .dataframe tbody tr th {\n",
       "        vertical-align: top;\n",
       "    }\n",
       "\n",
       "    .dataframe thead th {\n",
       "        text-align: right;\n",
       "    }\n",
       "</style>\n",
       "<table border=\"1\" class=\"dataframe\">\n",
       "  <thead>\n",
       "    <tr style=\"text-align: right;\">\n",
       "      <th></th>\n",
       "      <th>Country/Region</th>\n",
       "      <th>Cases</th>\n",
       "      <th>Deaths</th>\n",
       "      <th>PCases</th>\n",
       "      <th>PDeaths</th>\n",
       "      <th>Cases (+)</th>\n",
       "      <th>Deaths (+)</th>\n",
       "      <th>Fatality Rate</th>\n",
       "      <th>Continent</th>\n",
       "    </tr>\n",
       "  </thead>\n",
       "  <tbody>\n",
       "    <tr>\n",
       "      <th>0</th>\n",
       "      <td>US</td>\n",
       "      <td>17655591</td>\n",
       "      <td>316159</td>\n",
       "      <td>17459296</td>\n",
       "      <td>313588</td>\n",
       "      <td>196295</td>\n",
       "      <td>2571</td>\n",
       "      <td>1.8</td>\n",
       "      <td>North America</td>\n",
       "    </tr>\n",
       "    <tr>\n",
       "      <th>1</th>\n",
       "      <td>India</td>\n",
       "      <td>10031223</td>\n",
       "      <td>145477</td>\n",
       "      <td>10004599</td>\n",
       "      <td>145136</td>\n",
       "      <td>26624</td>\n",
       "      <td>341</td>\n",
       "      <td>1.5</td>\n",
       "      <td>Asia</td>\n",
       "    </tr>\n",
       "    <tr>\n",
       "      <th>2</th>\n",
       "      <td>Brazil</td>\n",
       "      <td>7213155</td>\n",
       "      <td>186356</td>\n",
       "      <td>7162978</td>\n",
       "      <td>185650</td>\n",
       "      <td>50177</td>\n",
       "      <td>706</td>\n",
       "      <td>2.6</td>\n",
       "      <td>South America</td>\n",
       "    </tr>\n",
       "    <tr>\n",
       "      <th>3</th>\n",
       "      <td>Russia</td>\n",
       "      <td>2792615</td>\n",
       "      <td>49744</td>\n",
       "      <td>2764843</td>\n",
       "      <td>49170</td>\n",
       "      <td>27772</td>\n",
       "      <td>574</td>\n",
       "      <td>1.8</td>\n",
       "      <td>Europe</td>\n",
       "    </tr>\n",
       "    <tr>\n",
       "      <th>4</th>\n",
       "      <td>France</td>\n",
       "      <td>2516957</td>\n",
       "      <td>60534</td>\n",
       "      <td>2499529</td>\n",
       "      <td>60345</td>\n",
       "      <td>17428</td>\n",
       "      <td>189</td>\n",
       "      <td>2.4</td>\n",
       "      <td>Europe</td>\n",
       "    </tr>\n",
       "  </tbody>\n",
       "</table>\n",
       "</div>"
      ],
      "text/plain": [
       "  Country/Region     Cases  Deaths    PCases  PDeaths  Cases (+)  Deaths (+)  \\\n",
       "0             US  17655591  316159  17459296   313588     196295        2571   \n",
       "1          India  10031223  145477  10004599   145136      26624         341   \n",
       "2         Brazil   7213155  186356   7162978   185650      50177         706   \n",
       "3         Russia   2792615   49744   2764843    49170      27772         574   \n",
       "4         France   2516957   60534   2499529    60345      17428         189   \n",
       "\n",
       "   Fatality Rate      Continent  \n",
       "0            1.8  North America  \n",
       "1            1.5           Asia  \n",
       "2            2.6  South America  \n",
       "3            1.8         Europe  \n",
       "4            2.4         Europe  "
      ]
     },
     "execution_count": 15,
     "metadata": {},
     "output_type": "execute_result"
    }
   ],
   "source": [
    "#hide\n",
    "df_table = (pd.DataFrame(dict(Cases=dfc_cases, Deaths=dfc_deaths, PCases=dfp_cases, PDeaths=dfp_deaths))\n",
    "             .sort_values(by=['Cases', 'Deaths'], ascending=[False, False])\n",
    "             .reset_index())\n",
    "df_table.rename(columns={'index': 'Country/Region'}, inplace=True)\n",
    "for c in 'Cases, Deaths'.split(', '):\n",
    "    df_table[f'{c} (+)'] = (df_table[c] - df_table[f'P{c}']).clip(0)  # DATA BUG\n",
    "df_table['Fatality Rate'] = (100 * df_table['Deaths'] / df_table['Cases']).round(1)\n",
    "df_table['Continent'] = df_table['Country/Region'].map(mapping['map.continent'])\n",
    "df_table.head(5)"
   ]
  },
  {
   "cell_type": "code",
   "execution_count": 16,
   "metadata": {
    "execution": {
     "iopub.execute_input": "2020-12-20T12:07:37.468710Z",
     "iopub.status.busy": "2020-12-20T12:07:37.468109Z",
     "iopub.status.idle": "2020-12-20T12:07:37.470637Z",
     "shell.execute_reply": "2020-12-20T12:07:37.470144Z"
    },
    "papermill": {
     "duration": 0.038108,
     "end_time": "2020-12-20T12:07:37.470764",
     "exception": false,
     "start_time": "2020-12-20T12:07:37.432656",
     "status": "completed"
    },
    "tags": []
   },
   "outputs": [],
   "source": [
    "#hide\n",
    "#delete problematic countries from table\n",
    "df_table = df_table[~df_table['Country/Region'].isin(['Cape Verde', 'Cruise Ship', 'Kosovo'])]"
   ]
  },
  {
   "cell_type": "code",
   "execution_count": 17,
   "metadata": {
    "execution": {
     "iopub.execute_input": "2020-12-20T12:07:37.539743Z",
     "iopub.status.busy": "2020-12-20T12:07:37.539144Z",
     "iopub.status.idle": "2020-12-20T12:07:37.552747Z",
     "shell.execute_reply": "2020-12-20T12:07:37.552240Z"
    },
    "papermill": {
     "duration": 0.052227,
     "end_time": "2020-12-20T12:07:37.552899",
     "exception": false,
     "start_time": "2020-12-20T12:07:37.500672",
     "status": "completed"
    },
    "tags": []
   },
   "outputs": [],
   "source": [
    "#hide\n",
    "metrics = [df_table.columns[index] for index in [1,2,5,6]]\n",
    "# s_china = df_table[df_table['Country/Region'].eq('China')][metrics].sum().add_prefix('China ')\n",
    "s_us = df_table[df_table['Country/Region'].eq('US')][metrics].sum().add_prefix('US ')\n",
    "s_eu = df_table[df_table['Continent'].eq('Europe')][metrics].sum().add_prefix('EU ')\n",
    "s_ind = df_table[df_table['Country/Region'].eq('India')][metrics].sum().add_prefix('India ')\n",
    "summary = {'updated': pd.to_datetime(dt_today), 'since': pd.to_datetime(dt_yday)}\n",
    "summary = {'updated': pd.to_datetime(dt_today), 'since': pd.to_datetime(dt_yday)}\n",
    "summary = {**summary, **df_table[metrics].sum(), **s_ind, **s_us, **s_eu}"
   ]
  },
  {
   "cell_type": "code",
   "execution_count": 18,
   "metadata": {
    "execution": {
     "iopub.execute_input": "2020-12-20T12:07:37.618840Z",
     "iopub.status.busy": "2020-12-20T12:07:37.618265Z",
     "iopub.status.idle": "2020-12-20T12:07:37.629350Z",
     "shell.execute_reply": "2020-12-20T12:07:37.628858Z"
    },
    "papermill": {
     "duration": 0.045855,
     "end_time": "2020-12-20T12:07:37.629494",
     "exception": false,
     "start_time": "2020-12-20T12:07:37.583639",
     "status": "completed"
    },
    "tags": []
   },
   "outputs": [],
   "source": [
    "#hide\n",
    "dft_ct_new_cases = dft_cases.groupby(COL_REGION)[dt_cols].sum().diff(axis=1).fillna(0).astype(int)"
   ]
  },
  {
   "cell_type": "code",
   "execution_count": 19,
   "metadata": {
    "execution": {
     "iopub.execute_input": "2020-12-20T12:07:37.695764Z",
     "iopub.status.busy": "2020-12-20T12:07:37.695210Z",
     "iopub.status.idle": "2020-12-20T12:07:37.697173Z",
     "shell.execute_reply": "2020-12-20T12:07:37.697851Z"
    },
    "papermill": {
     "duration": 0.038593,
     "end_time": "2020-12-20T12:07:37.698010",
     "exception": false,
     "start_time": "2020-12-20T12:07:37.659417",
     "status": "completed"
    },
    "tags": []
   },
   "outputs": [],
   "source": [
    "#hide\n",
    "everydaycases = dft_ct_new_cases.cumsum(axis=1)"
   ]
  },
  {
   "cell_type": "code",
   "execution_count": 20,
   "metadata": {
    "execution": {
     "iopub.execute_input": "2020-12-20T12:07:37.764888Z",
     "iopub.status.busy": "2020-12-20T12:07:37.764262Z",
     "iopub.status.idle": "2020-12-20T12:07:38.797863Z",
     "shell.execute_reply": "2020-12-20T12:07:38.797227Z"
    },
    "papermill": {
     "duration": 1.069694,
     "end_time": "2020-12-20T12:07:38.798030",
     "exception": false,
     "start_time": "2020-12-20T12:07:37.728336",
     "status": "completed"
    },
    "tags": []
   },
   "outputs": [],
   "source": [
    "#hide\n",
    "import pandas as pd\n",
    "import matplotlib.pyplot as plt\n",
    "import matplotlib.ticker as ticker\n",
    "import matplotlib.animation as animation\n",
    "from IPython.display import HTML"
   ]
  },
  {
   "cell_type": "code",
   "execution_count": 21,
   "metadata": {
    "execution": {
     "iopub.execute_input": "2020-12-20T12:07:38.866763Z",
     "iopub.status.busy": "2020-12-20T12:07:38.866140Z",
     "iopub.status.idle": "2020-12-20T12:07:38.871341Z",
     "shell.execute_reply": "2020-12-20T12:07:38.870826Z"
    },
    "papermill": {
     "duration": 0.041371,
     "end_time": "2020-12-20T12:07:38.871475",
     "exception": false,
     "start_time": "2020-12-20T12:07:38.830104",
     "status": "completed"
    },
    "tags": []
   },
   "outputs": [],
   "source": [
    "#hide\n",
    "t = everydaycases.stack()"
   ]
  },
  {
   "cell_type": "code",
   "execution_count": 22,
   "metadata": {
    "execution": {
     "iopub.execute_input": "2020-12-20T12:07:38.940253Z",
     "iopub.status.busy": "2020-12-20T12:07:38.939653Z",
     "iopub.status.idle": "2020-12-20T12:07:38.948431Z",
     "shell.execute_reply": "2020-12-20T12:07:38.947210Z"
    },
    "papermill": {
     "duration": 0.045748,
     "end_time": "2020-12-20T12:07:38.948570",
     "exception": false,
     "start_time": "2020-12-20T12:07:38.902822",
     "status": "completed"
    },
    "tags": []
   },
   "outputs": [],
   "source": [
    "#hide\n",
    "g = t.reset_index(['Country/Region'])"
   ]
  },
  {
   "cell_type": "code",
   "execution_count": 23,
   "metadata": {
    "execution": {
     "iopub.execute_input": "2020-12-20T12:07:39.013342Z",
     "iopub.status.busy": "2020-12-20T12:07:39.012013Z",
     "iopub.status.idle": "2020-12-20T12:07:39.013992Z",
     "shell.execute_reply": "2020-12-20T12:07:39.014426Z"
    },
    "papermill": {
     "duration": 0.036568,
     "end_time": "2020-12-20T12:07:39.014604",
     "exception": false,
     "start_time": "2020-12-20T12:07:38.978036",
     "status": "completed"
    },
    "tags": []
   },
   "outputs": [],
   "source": [
    "#hide\n",
    "g.index.name = 'date'"
   ]
  },
  {
   "cell_type": "code",
   "execution_count": 24,
   "metadata": {
    "execution": {
     "iopub.execute_input": "2020-12-20T12:07:39.080181Z",
     "iopub.status.busy": "2020-12-20T12:07:39.079473Z",
     "iopub.status.idle": "2020-12-20T12:07:39.080975Z",
     "shell.execute_reply": "2020-12-20T12:07:39.081628Z"
    },
    "papermill": {
     "duration": 0.036814,
     "end_time": "2020-12-20T12:07:39.081801",
     "exception": false,
     "start_time": "2020-12-20T12:07:39.044987",
     "status": "completed"
    },
    "tags": []
   },
   "outputs": [],
   "source": [
    "# #hide\n",
    "# g = g.reset_index(['date'])"
   ]
  },
  {
   "cell_type": "code",
   "execution_count": 25,
   "metadata": {
    "execution": {
     "iopub.execute_input": "2020-12-20T12:07:39.146889Z",
     "iopub.status.busy": "2020-12-20T12:07:39.146270Z",
     "iopub.status.idle": "2020-12-20T12:07:39.148116Z",
     "shell.execute_reply": "2020-12-20T12:07:39.148625Z"
    },
    "papermill": {
     "duration": 0.036516,
     "end_time": "2020-12-20T12:07:39.148762",
     "exception": false,
     "start_time": "2020-12-20T12:07:39.112246",
     "status": "completed"
    },
    "tags": []
   },
   "outputs": [],
   "source": [
    "#hide\n",
    "# g.head()"
   ]
  },
  {
   "cell_type": "code",
   "execution_count": 26,
   "metadata": {
    "execution": {
     "iopub.execute_input": "2020-12-20T12:07:39.214402Z",
     "iopub.status.busy": "2020-12-20T12:07:39.213809Z",
     "iopub.status.idle": "2020-12-20T12:07:39.215741Z",
     "shell.execute_reply": "2020-12-20T12:07:39.216285Z"
    },
    "papermill": {
     "duration": 0.037055,
     "end_time": "2020-12-20T12:07:39.216434",
     "exception": false,
     "start_time": "2020-12-20T12:07:39.179379",
     "status": "completed"
    },
    "tags": []
   },
   "outputs": [],
   "source": [
    "#hide\n",
    "# g.columns = ['date','country','cases']"
   ]
  },
  {
   "cell_type": "code",
   "execution_count": 27,
   "metadata": {
    "execution": {
     "iopub.execute_input": "2020-12-20T12:07:39.281293Z",
     "iopub.status.busy": "2020-12-20T12:07:39.280706Z",
     "iopub.status.idle": "2020-12-20T12:07:39.282972Z",
     "shell.execute_reply": "2020-12-20T12:07:39.282442Z"
    },
    "papermill": {
     "duration": 0.036531,
     "end_time": "2020-12-20T12:07:39.283100",
     "exception": false,
     "start_time": "2020-12-20T12:07:39.246569",
     "status": "completed"
    },
    "tags": []
   },
   "outputs": [],
   "source": [
    "#hide\n",
    "# g['continent'] = g.country"
   ]
  },
  {
   "cell_type": "code",
   "execution_count": 28,
   "metadata": {
    "execution": {
     "iopub.execute_input": "2020-12-20T12:07:39.349079Z",
     "iopub.status.busy": "2020-12-20T12:07:39.348490Z",
     "iopub.status.idle": "2020-12-20T12:07:39.351006Z",
     "shell.execute_reply": "2020-12-20T12:07:39.350480Z"
    },
    "papermill": {
     "duration": 0.036946,
     "end_time": "2020-12-20T12:07:39.351134",
     "exception": false,
     "start_time": "2020-12-20T12:07:39.314188",
     "status": "completed"
    },
    "tags": []
   },
   "outputs": [],
   "source": [
    "#hide\n",
    "# cols = list(g.columns.values)"
   ]
  },
  {
   "cell_type": "code",
   "execution_count": 29,
   "metadata": {
    "execution": {
     "iopub.execute_input": "2020-12-20T12:07:39.414374Z",
     "iopub.status.busy": "2020-12-20T12:07:39.413790Z",
     "iopub.status.idle": "2020-12-20T12:07:39.415862Z",
     "shell.execute_reply": "2020-12-20T12:07:39.416459Z"
    },
    "papermill": {
     "duration": 0.036203,
     "end_time": "2020-12-20T12:07:39.416619",
     "exception": false,
     "start_time": "2020-12-20T12:07:39.380416",
     "status": "completed"
    },
    "tags": []
   },
   "outputs": [],
   "source": [
    "#hide\n",
    "# cols.insert(0, cols.pop())"
   ]
  },
  {
   "cell_type": "code",
   "execution_count": 30,
   "metadata": {
    "execution": {
     "iopub.execute_input": "2020-12-20T12:07:39.481325Z",
     "iopub.status.busy": "2020-12-20T12:07:39.480718Z",
     "iopub.status.idle": "2020-12-20T12:07:39.483095Z",
     "shell.execute_reply": "2020-12-20T12:07:39.482604Z"
    },
    "papermill": {
     "duration": 0.036695,
     "end_time": "2020-12-20T12:07:39.483219",
     "exception": false,
     "start_time": "2020-12-20T12:07:39.446524",
     "status": "completed"
    },
    "tags": []
   },
   "outputs": [],
   "source": [
    "#hide\n",
    "# g = g[cols]"
   ]
  },
  {
   "cell_type": "code",
   "execution_count": 31,
   "metadata": {
    "execution": {
     "iopub.execute_input": "2020-12-20T12:07:39.548838Z",
     "iopub.status.busy": "2020-12-20T12:07:39.548246Z",
     "iopub.status.idle": "2020-12-20T12:07:39.550831Z",
     "shell.execute_reply": "2020-12-20T12:07:39.550223Z"
    },
    "papermill": {
     "duration": 0.036819,
     "end_time": "2020-12-20T12:07:39.550966",
     "exception": false,
     "start_time": "2020-12-20T12:07:39.514147",
     "status": "completed"
    },
    "tags": []
   },
   "outputs": [],
   "source": [
    "#hide\n",
    "# g['continent'] = g['continent'].map(mapping['map.continent'])"
   ]
  },
  {
   "cell_type": "code",
   "execution_count": 32,
   "metadata": {
    "execution": {
     "iopub.execute_input": "2020-12-20T12:07:39.616763Z",
     "iopub.status.busy": "2020-12-20T12:07:39.616176Z",
     "iopub.status.idle": "2020-12-20T12:07:39.618702Z",
     "shell.execute_reply": "2020-12-20T12:07:39.618232Z"
    },
    "papermill": {
     "duration": 0.036979,
     "end_time": "2020-12-20T12:07:39.618829",
     "exception": false,
     "start_time": "2020-12-20T12:07:39.581850",
     "status": "completed"
    },
    "tags": []
   },
   "outputs": [],
   "source": [
    "#hide\n",
    "# g.head()"
   ]
  },
  {
   "cell_type": "code",
   "execution_count": 33,
   "metadata": {
    "execution": {
     "iopub.execute_input": "2020-12-20T12:07:39.685183Z",
     "iopub.status.busy": "2020-12-20T12:07:39.684590Z",
     "iopub.status.idle": "2020-12-20T12:07:39.686834Z",
     "shell.execute_reply": "2020-12-20T12:07:39.686219Z"
    },
    "papermill": {
     "duration": 0.037657,
     "end_time": "2020-12-20T12:07:39.686966",
     "exception": false,
     "start_time": "2020-12-20T12:07:39.649309",
     "status": "completed"
    },
    "tags": []
   },
   "outputs": [],
   "source": [
    "# hide\n",
    "# g['date'] = g['date'].astype('datetime64[ns]')"
   ]
  },
  {
   "cell_type": "code",
   "execution_count": 34,
   "metadata": {
    "execution": {
     "iopub.execute_input": "2020-12-20T12:07:39.752822Z",
     "iopub.status.busy": "2020-12-20T12:07:39.752269Z",
     "iopub.status.idle": "2020-12-20T12:07:39.754270Z",
     "shell.execute_reply": "2020-12-20T12:07:39.754742Z"
    },
    "papermill": {
     "duration": 0.037289,
     "end_time": "2020-12-20T12:07:39.754906",
     "exception": false,
     "start_time": "2020-12-20T12:07:39.717617",
     "status": "completed"
    },
    "tags": []
   },
   "outputs": [],
   "source": [
    "#hide\n",
    "# g['date'] = g.date.dt.dayofyear"
   ]
  },
  {
   "cell_type": "code",
   "execution_count": 35,
   "metadata": {
    "execution": {
     "iopub.execute_input": "2020-12-20T12:07:39.820547Z",
     "iopub.status.busy": "2020-12-20T12:07:39.819947Z",
     "iopub.status.idle": "2020-12-20T12:07:39.822475Z",
     "shell.execute_reply": "2020-12-20T12:07:39.821960Z"
    },
    "papermill": {
     "duration": 0.037061,
     "end_time": "2020-12-20T12:07:39.822710",
     "exception": false,
     "start_time": "2020-12-20T12:07:39.785649",
     "status": "completed"
    },
    "tags": []
   },
   "outputs": [],
   "source": [
    "#hide\n",
    "# g = g.rename(columns= {'continent':'group','country':'name','cases':'value'})"
   ]
  },
  {
   "cell_type": "code",
   "execution_count": 36,
   "metadata": {
    "execution": {
     "iopub.execute_input": "2020-12-20T12:07:39.888398Z",
     "iopub.status.busy": "2020-12-20T12:07:39.887794Z",
     "iopub.status.idle": "2020-12-20T12:07:39.890049Z",
     "shell.execute_reply": "2020-12-20T12:07:39.889570Z"
    },
    "papermill": {
     "duration": 0.036744,
     "end_time": "2020-12-20T12:07:39.890180",
     "exception": false,
     "start_time": "2020-12-20T12:07:39.853436",
     "status": "completed"
    },
    "tags": []
   },
   "outputs": [],
   "source": [
    "#hide\n",
    "# cols = ['name','group','day','value']"
   ]
  },
  {
   "cell_type": "code",
   "execution_count": 37,
   "metadata": {
    "execution": {
     "iopub.execute_input": "2020-12-20T12:07:39.956226Z",
     "iopub.status.busy": "2020-12-20T12:07:39.955508Z",
     "iopub.status.idle": "2020-12-20T12:07:39.956935Z",
     "shell.execute_reply": "2020-12-20T12:07:39.957637Z"
    },
    "papermill": {
     "duration": 0.03729,
     "end_time": "2020-12-20T12:07:39.957816",
     "exception": false,
     "start_time": "2020-12-20T12:07:39.920526",
     "status": "completed"
    },
    "tags": []
   },
   "outputs": [],
   "source": [
    "#hide\n",
    "# g.rename(columns= {'date':'day'},inplace = True)"
   ]
  },
  {
   "cell_type": "code",
   "execution_count": 38,
   "metadata": {
    "execution": {
     "iopub.execute_input": "2020-12-20T12:07:40.023554Z",
     "iopub.status.busy": "2020-12-20T12:07:40.022818Z",
     "iopub.status.idle": "2020-12-20T12:07:40.024360Z",
     "shell.execute_reply": "2020-12-20T12:07:40.025007Z"
    },
    "papermill": {
     "duration": 0.036015,
     "end_time": "2020-12-20T12:07:40.025179",
     "exception": false,
     "start_time": "2020-12-20T12:07:39.989164",
     "status": "completed"
    },
    "tags": []
   },
   "outputs": [],
   "source": [
    "#hide\n",
    "# g = g[cols]"
   ]
  },
  {
   "cell_type": "code",
   "execution_count": 39,
   "metadata": {
    "execution": {
     "iopub.execute_input": "2020-12-20T12:07:40.091980Z",
     "iopub.status.busy": "2020-12-20T12:07:40.091338Z",
     "iopub.status.idle": "2020-12-20T12:07:40.093157Z",
     "shell.execute_reply": "2020-12-20T12:07:40.093603Z"
    },
    "papermill": {
     "duration": 0.037955,
     "end_time": "2020-12-20T12:07:40.093841",
     "exception": false,
     "start_time": "2020-12-20T12:07:40.055886",
     "status": "completed"
    },
    "tags": []
   },
   "outputs": [],
   "source": [
    "# #hide\n",
    "# g = g[g.group.notna()]"
   ]
  },
  {
   "cell_type": "code",
   "execution_count": 40,
   "metadata": {
    "execution": {
     "iopub.execute_input": "2020-12-20T12:07:40.159002Z",
     "iopub.status.busy": "2020-12-20T12:07:40.158359Z",
     "iopub.status.idle": "2020-12-20T12:07:40.160386Z",
     "shell.execute_reply": "2020-12-20T12:07:40.160897Z"
    },
    "papermill": {
     "duration": 0.036792,
     "end_time": "2020-12-20T12:07:40.161035",
     "exception": false,
     "start_time": "2020-12-20T12:07:40.124243",
     "status": "completed"
    },
    "tags": []
   },
   "outputs": [],
   "source": [
    "# #hide\n",
    "# colors = dict(zip(\n",
    "#     [\"Oceania\", \"Europe\", \"Asia\", \"South America\", \"Middle East\", \"North America\", \"Africa\"],\n",
    "#     [\"#adb0ff\", \"#ffb3ff\", \"#90d595\", \"#e48381\", \"#aafbff\", \"#f7bb5f\", \"#eafb50\"]\n",
    "# ))\n",
    "# group_lk = g.set_index('name')['group'].to_dict()"
   ]
  },
  {
   "cell_type": "code",
   "execution_count": null,
   "metadata": {
    "papermill": {
     "duration": 0.030865,
     "end_time": "2020-12-20T12:07:40.222088",
     "exception": false,
     "start_time": "2020-12-20T12:07:40.191223",
     "status": "completed"
    },
    "tags": []
   },
   "outputs": [],
   "source": []
  },
  {
   "cell_type": "code",
   "execution_count": 41,
   "metadata": {
    "execution": {
     "iopub.execute_input": "2020-12-20T12:07:40.288373Z",
     "iopub.status.busy": "2020-12-20T12:07:40.287714Z",
     "iopub.status.idle": "2020-12-20T12:07:40.290185Z",
     "shell.execute_reply": "2020-12-20T12:07:40.289601Z"
    },
    "papermill": {
     "duration": 0.037707,
     "end_time": "2020-12-20T12:07:40.290322",
     "exception": false,
     "start_time": "2020-12-20T12:07:40.252615",
     "status": "completed"
    },
    "tags": []
   },
   "outputs": [],
   "source": [
    "# #hide\n",
    "# fig, ax = plt.subplots(figsize=(15, 8))\n",
    "\n",
    "# def draw_barchart(current_day):\n",
    "#     dff = g[g['day'].eq(current_day)].sort_values(by='value', ascending=True).tail(10)\n",
    "#     ax.clear()\n",
    "#     ax.barh(dff['name'], dff['value'], color=[colors[group_lk[x]] for x in dff['name']])\n",
    "#     dx = dff['value'].max() / 200\n",
    "    \n",
    "#     for i, (value, name) in enumerate(zip(dff['value'], dff['name'])):\n",
    "#         ax.text(value-dx, i,     name,           size=14, weight=600, ha='right', va='bottom')\n",
    "#         ax.text(value-dx, i-.25, group_lk[name], size=10, color='#444444', ha='right', va='baseline')\n",
    "#         ax.text(value+dx, i,     f'{value:,.0f}',  size=14, ha='left',  va='center')\n",
    "#     ax.text(1, 0.4, current_day, transform=ax.transAxes, color='#777777', size=46, ha='right', weight=800)\n",
    "#     ax.text(0, 1.06, 'Population (thousands)', transform=ax.transAxes, size=12, color='#777777')\n",
    "#     ax.xaxis.set_major_formatter(ticker.StrMethodFormatter('{x:,.0f}'))\n",
    "#     ax.xaxis.set_ticks_position('top')\n",
    "#     ax.tick_params(axis='x', colors='#777777', labelsize=12)\n",
    "#     ax.set_yticks([])\n",
    "#     ax.margins(0, 0.01)\n",
    "#     ax.grid(which='major', axis='x', linestyle='-')\n",
    "#     ax.set_axisbelow(True)\n",
    "    \n",
    "#     ax.text(0, 1.15, 'Coronavirus',\n",
    "#             transform=ax.transAxes, size=24, weight=600, ha='left', va='top')\n",
    "# #     ax.text(1, 0, 'by @pratapvardhan; credit @jburnmurdoch', transform=ax.transAxes, color='#777777', ha='right',\n",
    "# #             bbox=dict(facecolor='white', alpha=0.8, edgecolor='white'))\n",
    "#     plt.box(False)"
   ]
  },
  {
   "cell_type": "code",
   "execution_count": 42,
   "metadata": {
    "execution": {
     "iopub.execute_input": "2020-12-20T12:07:40.357254Z",
     "iopub.status.busy": "2020-12-20T12:07:40.356637Z",
     "iopub.status.idle": "2020-12-20T12:07:40.358939Z",
     "shell.execute_reply": "2020-12-20T12:07:40.358442Z"
    },
    "papermill": {
     "duration": 0.037612,
     "end_time": "2020-12-20T12:07:40.359081",
     "exception": false,
     "start_time": "2020-12-20T12:07:40.321469",
     "status": "completed"
    },
    "tags": []
   },
   "outputs": [],
   "source": [
    "# #hide_input\n",
    "# fig, ax = plt.subplots(figsize=(15, 8))\n",
    "# animator = animation.FuncAnimation(fig, draw_barchart, frames=range(g.day.values.min(), g.day.values.max()))\n",
    "# HTML(animator.to_jshtml())\n",
    "# # or use animator.to_html5_video() or animator.save() "
   ]
  },
  {
   "cell_type": "code",
   "execution_count": null,
   "metadata": {
    "papermill": {
     "duration": 0.02947,
     "end_time": "2020-12-20T12:07:40.418369",
     "exception": false,
     "start_time": "2020-12-20T12:07:40.388899",
     "status": "completed"
    },
    "tags": []
   },
   "outputs": [],
   "source": []
  },
  {
   "cell_type": "code",
   "execution_count": null,
   "metadata": {
    "papermill": {
     "duration": 0.029541,
     "end_time": "2020-12-20T12:07:40.478220",
     "exception": false,
     "start_time": "2020-12-20T12:07:40.448679",
     "status": "completed"
    },
    "tags": []
   },
   "outputs": [],
   "source": []
  },
  {
   "cell_type": "code",
   "execution_count": null,
   "metadata": {
    "papermill": {
     "duration": 0.030309,
     "end_time": "2020-12-20T12:07:40.539106",
     "exception": false,
     "start_time": "2020-12-20T12:07:40.508797",
     "status": "completed"
    },
    "tags": []
   },
   "outputs": [],
   "source": []
  }
 ],
 "metadata": {
  "kernelspec": {
   "display_name": "Python 3",
   "language": "python",
   "name": "python3"
  },
  "language_info": {
   "codemirror_mode": {
    "name": "ipython",
    "version": 3
   },
   "file_extension": ".py",
   "mimetype": "text/x-python",
   "name": "python",
   "nbconvert_exporter": "python",
   "pygments_lexer": "ipython3",
   "version": "3.6.12"
  },
  "papermill": {
   "duration": 6.513472,
   "end_time": "2020-12-20T12:07:40.877411",
   "environment_variables": {},
   "exception": null,
   "input_path": "2020-03-21-covid19exp.ipynb",
   "output_path": "2020-03-21-covid19exp.ipynb",
   "parameters": {},
   "start_time": "2020-12-20T12:07:34.363939",
   "version": "2.0.0"
  }
 },
 "nbformat": 4,
 "nbformat_minor": 4
}