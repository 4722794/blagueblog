{
 "cells": [
  {
   "cell_type": "markdown",
   "id": "muslim-click",
   "metadata": {
    "papermill": {
     "duration": 0.057073,
     "end_time": "2021-07-03T00:19:47.885326",
     "exception": false,
     "start_time": "2021-07-03T00:19:47.828253",
     "status": "completed"
    },
    "tags": []
   },
   "source": [
    "# COVID-19 Case Race\n",
    "> A race chart to see rising cases around the world\n",
    "\n",
    "- author: Hargun Oberoi\n",
    "- image: images/covid-overview.png\n",
    "- hide: false\n",
    "- badges: false"
   ]
  },
  {
   "cell_type": "code",
   "execution_count": 1,
   "id": "proof-material",
   "metadata": {
    "execution": {
     "iopub.execute_input": "2021-07-03T00:19:47.980352Z",
     "iopub.status.busy": "2021-07-03T00:19:47.979534Z",
     "iopub.status.idle": "2021-07-03T00:19:48.408230Z",
     "shell.execute_reply": "2021-07-03T00:19:48.407616Z"
    },
    "papermill": {
     "duration": 0.482222,
     "end_time": "2021-07-03T00:19:48.408419",
     "exception": false,
     "start_time": "2021-07-03T00:19:47.926197",
     "status": "completed"
    },
    "tags": []
   },
   "outputs": [],
   "source": [
    "#hide\n",
    "import numpy as np\n",
    "import pandas as pd\n",
    "from jinja2 import Template\n",
    "from IPython.display import HTML"
   ]
  },
  {
   "cell_type": "code",
   "execution_count": 2,
   "id": "developed-terminology",
   "metadata": {
    "execution": {
     "iopub.execute_input": "2021-07-03T00:19:48.504996Z",
     "iopub.status.busy": "2021-07-03T00:19:48.504309Z",
     "iopub.status.idle": "2021-07-03T00:19:48.506198Z",
     "shell.execute_reply": "2021-07-03T00:19:48.506839Z"
    },
    "papermill": {
     "duration": 0.058408,
     "end_time": "2021-07-03T00:19:48.507024",
     "exception": false,
     "start_time": "2021-07-03T00:19:48.448616",
     "status": "completed"
    },
    "tags": []
   },
   "outputs": [],
   "source": [
    "#hide\n",
    "\n",
    "# FETCH\n",
    "base_url = 'https://raw.githubusercontent.com/pratapvardhan/notebooks/master/covid19/'\n",
    "paths = {\n",
    "    'mapping': base_url + 'mapping_countries.csv',\n",
    "    'overview': base_url + 'overview.tpl'\n",
    "}"
   ]
  },
  {
   "cell_type": "code",
   "execution_count": 3,
   "id": "dynamic-saver",
   "metadata": {
    "execution": {
     "iopub.execute_input": "2021-07-03T00:19:48.602930Z",
     "iopub.status.busy": "2021-07-03T00:19:48.602218Z",
     "iopub.status.idle": "2021-07-03T00:19:48.604802Z",
     "shell.execute_reply": "2021-07-03T00:19:48.605494Z"
    },
    "papermill": {
     "duration": 0.057827,
     "end_time": "2021-07-03T00:19:48.605659",
     "exception": false,
     "start_time": "2021-07-03T00:19:48.547832",
     "status": "completed"
    },
    "tags": []
   },
   "outputs": [
    {
     "data": {
      "text/plain": [
       "'https://raw.githubusercontent.com/pratapvardhan/notebooks/master/covid19/mapping_countries.csv'"
      ]
     },
     "execution_count": 3,
     "metadata": {},
     "output_type": "execute_result"
    }
   ],
   "source": [
    "#hide\n",
    "paths['mapping']"
   ]
  },
  {
   "cell_type": "code",
   "execution_count": 4,
   "id": "urban-software",
   "metadata": {
    "execution": {
     "iopub.execute_input": "2021-07-03T00:19:48.699110Z",
     "iopub.status.busy": "2021-07-03T00:19:48.698371Z",
     "iopub.status.idle": "2021-07-03T00:19:48.699839Z",
     "shell.execute_reply": "2021-07-03T00:19:48.700423Z"
    },
    "papermill": {
     "duration": 0.051373,
     "end_time": "2021-07-03T00:19:48.700637",
     "exception": false,
     "start_time": "2021-07-03T00:19:48.649264",
     "status": "completed"
    },
    "tags": []
   },
   "outputs": [],
   "source": [
    "#hide\n",
    "def get_mappings(url):\n",
    "    df = pd.read_csv(url)\n",
    "    return {\n",
    "        'df': df,\n",
    "        'replace.country': dict(df.dropna(subset=['Name']).set_index('Country')['Name']),\n",
    "        'map.continent': dict(df.set_index('Name')['Continent'])\n",
    "    }"
   ]
  },
  {
   "cell_type": "code",
   "execution_count": 5,
   "id": "intimate-machinery",
   "metadata": {
    "execution": {
     "iopub.execute_input": "2021-07-03T00:19:48.791155Z",
     "iopub.status.busy": "2021-07-03T00:19:48.790411Z",
     "iopub.status.idle": "2021-07-03T00:19:48.825372Z",
     "shell.execute_reply": "2021-07-03T00:19:48.825928Z"
    },
    "papermill": {
     "duration": 0.083512,
     "end_time": "2021-07-03T00:19:48.826107",
     "exception": false,
     "start_time": "2021-07-03T00:19:48.742595",
     "status": "completed"
    },
    "tags": []
   },
   "outputs": [],
   "source": [
    "#hide\n",
    "mapping = get_mappings(paths['mapping'])"
   ]
  },
  {
   "cell_type": "code",
   "execution_count": 6,
   "id": "certified-tactics",
   "metadata": {
    "execution": {
     "iopub.execute_input": "2021-07-03T00:19:48.913667Z",
     "iopub.status.busy": "2021-07-03T00:19:48.912939Z",
     "iopub.status.idle": "2021-07-03T00:19:48.914570Z",
     "shell.execute_reply": "2021-07-03T00:19:48.915351Z"
    },
    "papermill": {
     "duration": 0.049201,
     "end_time": "2021-07-03T00:19:48.915497",
     "exception": false,
     "start_time": "2021-07-03T00:19:48.866296",
     "status": "completed"
    },
    "tags": []
   },
   "outputs": [],
   "source": [
    "#hide\n",
    "def get_template(path):\n",
    "    from urllib.parse import urlparse\n",
    "    if bool(urlparse(path).netloc):\n",
    "        from urllib.request import urlopen\n",
    "        return urlopen(path).read().decode('utf8')\n",
    "    return open(path).read()"
   ]
  },
  {
   "cell_type": "code",
   "execution_count": 7,
   "id": "realistic-blast",
   "metadata": {
    "execution": {
     "iopub.execute_input": "2021-07-03T00:19:49.004572Z",
     "iopub.status.busy": "2021-07-03T00:19:49.003852Z",
     "iopub.status.idle": "2021-07-03T00:19:49.006361Z",
     "shell.execute_reply": "2021-07-03T00:19:49.005772Z"
    },
    "papermill": {
     "duration": 0.048942,
     "end_time": "2021-07-03T00:19:49.006501",
     "exception": false,
     "start_time": "2021-07-03T00:19:48.957559",
     "status": "completed"
    },
    "tags": []
   },
   "outputs": [],
   "source": [
    "#hide\n",
    "def get_frame(name):\n",
    "    url = (\n",
    "        'https://raw.githubusercontent.com/CSSEGISandData/COVID-19/master/csse_covid_19_data/'\n",
    "        f'csse_covid_19_time_series/time_series_covid19_{name}_global.csv')\n",
    "    df = pd.read_csv(url)\n",
    "    # rename countries\n",
    "    df['Country/Region'] = df['Country/Region'].replace(mapping['replace.country'])\n",
    "    return df"
   ]
  },
  {
   "cell_type": "code",
   "execution_count": 8,
   "id": "affiliated-characterization",
   "metadata": {
    "execution": {
     "iopub.execute_input": "2021-07-03T00:19:49.096267Z",
     "iopub.status.busy": "2021-07-03T00:19:49.095467Z",
     "iopub.status.idle": "2021-07-03T00:19:49.098723Z",
     "shell.execute_reply": "2021-07-03T00:19:49.098171Z"
    },
    "papermill": {
     "duration": 0.051588,
     "end_time": "2021-07-03T00:19:49.098913",
     "exception": false,
     "start_time": "2021-07-03T00:19:49.047325",
     "status": "completed"
    },
    "tags": []
   },
   "outputs": [],
   "source": [
    "#hide\n",
    "def get_dates(df):\n",
    "    dt_cols = df.columns[~df.columns.isin(['Province/State', 'Country/Region', 'Lat', 'Long'])]\n",
    "    LAST_DATE_I = -1\n",
    "    # sometimes last column may be empty, then go backwards\n",
    "    for i in range(-1, -len(dt_cols), -1):\n",
    "        if not df[dt_cols[i]].fillna(0).eq(0).all():\n",
    "            LAST_DATE_I = i\n",
    "            break\n",
    "    return LAST_DATE_I, dt_cols"
   ]
  },
  {
   "cell_type": "code",
   "execution_count": 9,
   "id": "recent-optimization",
   "metadata": {
    "execution": {
     "iopub.execute_input": "2021-07-03T00:19:49.188633Z",
     "iopub.status.busy": "2021-07-03T00:19:49.187944Z",
     "iopub.status.idle": "2021-07-03T00:19:49.556601Z",
     "shell.execute_reply": "2021-07-03T00:19:49.555426Z"
    },
    "papermill": {
     "duration": 0.416706,
     "end_time": "2021-07-03T00:19:49.556750",
     "exception": false,
     "start_time": "2021-07-03T00:19:49.140044",
     "status": "completed"
    },
    "tags": []
   },
   "outputs": [],
   "source": [
    "#hide\n",
    "COL_REGION = 'Country/Region'\n",
    "# Confirmed, Recovered, Deaths\n",
    "df = get_frame('confirmed')\n",
    "# dft_: timeseries, dfc_: today country agg\n",
    "dft_cases = df\n",
    "dft_deaths = get_frame('deaths')\n",
    "dft_recovered = get_frame('recovered')\n",
    "LAST_DATE_I, dt_cols = get_dates(df)"
   ]
  },
  {
   "cell_type": "code",
   "execution_count": 10,
   "id": "absolute-copper",
   "metadata": {
    "execution": {
     "iopub.execute_input": "2021-07-03T00:19:49.649785Z",
     "iopub.status.busy": "2021-07-03T00:19:49.648076Z",
     "iopub.status.idle": "2021-07-03T00:19:49.650619Z",
     "shell.execute_reply": "2021-07-03T00:19:49.651287Z"
    },
    "papermill": {
     "duration": 0.053195,
     "end_time": "2021-07-03T00:19:49.651453",
     "exception": false,
     "start_time": "2021-07-03T00:19:49.598258",
     "status": "completed"
    },
    "tags": []
   },
   "outputs": [],
   "source": [
    "#hide\n",
    "LAST_DATE_I, dt_cols = get_dates(df)\n",
    "dt_today =dt_cols[LAST_DATE_I]\n",
    "# dt_5day = dt_cols[LAST_DATE_I - 5]\n",
    "dt_yday = dt_cols[LAST_DATE_I - 1]"
   ]
  },
  {
   "cell_type": "code",
   "execution_count": 11,
   "id": "restricted-sheriff",
   "metadata": {
    "execution": {
     "iopub.execute_input": "2021-07-03T00:19:49.745217Z",
     "iopub.status.busy": "2021-07-03T00:19:49.742616Z",
     "iopub.status.idle": "2021-07-03T00:19:49.752738Z",
     "shell.execute_reply": "2021-07-03T00:19:49.752114Z"
    },
    "papermill": {
     "duration": 0.05854,
     "end_time": "2021-07-03T00:19:49.752883",
     "exception": false,
     "start_time": "2021-07-03T00:19:49.694343",
     "status": "completed"
    },
    "tags": []
   },
   "outputs": [],
   "source": [
    "#hide\n",
    "dfc_cases = dft_cases.groupby(COL_REGION)[dt_today].sum()\n",
    "dfc_deaths = dft_deaths.groupby(COL_REGION)[dt_today].sum()\n",
    "# dfp_cases = dft_cases.groupby(COL_REGION)[dt_5day].sum()\n",
    "# dfp_deaths = dft_deaths.groupby(COL_REGION)[dt_5day].sum()\n",
    "dfp_cases = dft_cases.groupby(COL_REGION)[dt_yday].sum()\n",
    "dfp_deaths = dft_deaths.groupby(COL_REGION)[dt_yday].sum()"
   ]
  },
  {
   "cell_type": "code",
   "execution_count": 12,
   "id": "deluxe-hepatitis",
   "metadata": {
    "execution": {
     "iopub.execute_input": "2021-07-03T00:19:49.841872Z",
     "iopub.status.busy": "2021-07-03T00:19:49.841167Z",
     "iopub.status.idle": "2021-07-03T00:19:49.848226Z",
     "shell.execute_reply": "2021-07-03T00:19:49.848929Z"
    },
    "papermill": {
     "duration": 0.054127,
     "end_time": "2021-07-03T00:19:49.849098",
     "exception": false,
     "start_time": "2021-07-03T00:19:49.794971",
     "status": "completed"
    },
    "tags": []
   },
   "outputs": [],
   "source": [
    "#hide\n",
    "df_table = (pd.DataFrame(dict(Cases = dfc_cases, Deaths = dfc_deaths, PCases = dfp_cases, PDeaths = dfp_deaths))\n",
    "            .sort_values(by = ['Cases','Deaths'], ascending = [False, False])\n",
    "            .reset_index())"
   ]
  },
  {
   "cell_type": "code",
   "execution_count": 13,
   "id": "educational-chancellor",
   "metadata": {
    "execution": {
     "iopub.execute_input": "2021-07-03T00:19:49.951374Z",
     "iopub.status.busy": "2021-07-03T00:19:49.950627Z",
     "iopub.status.idle": "2021-07-03T00:19:49.959844Z",
     "shell.execute_reply": "2021-07-03T00:19:49.960459Z"
    },
    "papermill": {
     "duration": 0.071164,
     "end_time": "2021-07-03T00:19:49.960625",
     "exception": false,
     "start_time": "2021-07-03T00:19:49.889461",
     "status": "completed"
    },
    "tags": []
   },
   "outputs": [
    {
     "data": {
      "text/html": [
       "<div>\n",
       "<style scoped>\n",
       "    .dataframe tbody tr th:only-of-type {\n",
       "        vertical-align: middle;\n",
       "    }\n",
       "\n",
       "    .dataframe tbody tr th {\n",
       "        vertical-align: top;\n",
       "    }\n",
       "\n",
       "    .dataframe thead th {\n",
       "        text-align: right;\n",
       "    }\n",
       "</style>\n",
       "<table border=\"1\" class=\"dataframe\">\n",
       "  <thead>\n",
       "    <tr style=\"text-align: right;\">\n",
       "      <th></th>\n",
       "      <th>Country/Region</th>\n",
       "      <th>Cases</th>\n",
       "      <th>Deaths</th>\n",
       "      <th>PCases</th>\n",
       "      <th>PDeaths</th>\n",
       "      <th>Cases (+)</th>\n",
       "      <th>Deaths (+)</th>\n",
       "      <th>Fatality Rate</th>\n",
       "      <th>Continent</th>\n",
       "    </tr>\n",
       "  </thead>\n",
       "  <tbody>\n",
       "    <tr>\n",
       "      <th>0</th>\n",
       "      <td>US</td>\n",
       "      <td>33679433</td>\n",
       "      <td>605019</td>\n",
       "      <td>33664970</td>\n",
       "      <td>604714</td>\n",
       "      <td>14463</td>\n",
       "      <td>305</td>\n",
       "      <td>1.80</td>\n",
       "      <td>North America</td>\n",
       "    </tr>\n",
       "    <tr>\n",
       "      <th>1</th>\n",
       "      <td>India</td>\n",
       "      <td>30458251</td>\n",
       "      <td>400312</td>\n",
       "      <td>30411634</td>\n",
       "      <td>399459</td>\n",
       "      <td>46617</td>\n",
       "      <td>853</td>\n",
       "      <td>1.31</td>\n",
       "      <td>Asia</td>\n",
       "    </tr>\n",
       "    <tr>\n",
       "      <th>2</th>\n",
       "      <td>Brazil</td>\n",
       "      <td>18622304</td>\n",
       "      <td>520095</td>\n",
       "      <td>18557141</td>\n",
       "      <td>518066</td>\n",
       "      <td>65163</td>\n",
       "      <td>2029</td>\n",
       "      <td>2.79</td>\n",
       "      <td>South America</td>\n",
       "    </tr>\n",
       "    <tr>\n",
       "      <th>3</th>\n",
       "      <td>France</td>\n",
       "      <td>5839929</td>\n",
       "      <td>111273</td>\n",
       "      <td>5837265</td>\n",
       "      <td>111244</td>\n",
       "      <td>2664</td>\n",
       "      <td>29</td>\n",
       "      <td>1.91</td>\n",
       "      <td>Europe</td>\n",
       "    </tr>\n",
       "    <tr>\n",
       "      <th>4</th>\n",
       "      <td>Russia</td>\n",
       "      <td>5472722</td>\n",
       "      <td>133633</td>\n",
       "      <td>5449594</td>\n",
       "      <td>132973</td>\n",
       "      <td>23128</td>\n",
       "      <td>660</td>\n",
       "      <td>2.44</td>\n",
       "      <td>Europe</td>\n",
       "    </tr>\n",
       "  </tbody>\n",
       "</table>\n",
       "</div>"
      ],
      "text/plain": [
       "  Country/Region     Cases  Deaths    PCases  PDeaths  Cases (+)  Deaths (+)  \\\n",
       "0             US  33679433  605019  33664970   604714      14463         305   \n",
       "1          India  30458251  400312  30411634   399459      46617         853   \n",
       "2         Brazil  18622304  520095  18557141   518066      65163        2029   \n",
       "3         France   5839929  111273   5837265   111244       2664          29   \n",
       "4         Russia   5472722  133633   5449594   132973      23128         660   \n",
       "\n",
       "   Fatality Rate      Continent  \n",
       "0           1.80  North America  \n",
       "1           1.31           Asia  \n",
       "2           2.79  South America  \n",
       "3           1.91         Europe  \n",
       "4           2.44         Europe  "
      ]
     },
     "execution_count": 13,
     "metadata": {},
     "output_type": "execute_result"
    }
   ],
   "source": [
    "#hide\n",
    "for c in 'Cases, Deaths'.split(', '):\n",
    "    df_table[f'{c} (+)'] = (df_table[c] - df_table[f'P{c}']).clip(0)\n",
    "    #Clip ça veut dire, les chiffres negatif sont interdit\n",
    "df_table['Fatality Rate'] = (100* df_table['Deaths']/ df_table['Cases']).round(2)\n",
    "df_table['Continent'] = df_table['Country/Region'].map(mapping['map.continent'])\n",
    "df_table.head(5)"
   ]
  },
  {
   "cell_type": "code",
   "execution_count": 14,
   "id": "aboriginal-bulgaria",
   "metadata": {
    "execution": {
     "iopub.execute_input": "2021-07-03T00:19:50.064609Z",
     "iopub.status.busy": "2021-07-03T00:19:50.063675Z",
     "iopub.status.idle": "2021-07-03T00:19:50.066769Z",
     "shell.execute_reply": "2021-07-03T00:19:50.067393Z"
    },
    "papermill": {
     "duration": 0.052739,
     "end_time": "2021-07-03T00:19:50.067566",
     "exception": false,
     "start_time": "2021-07-03T00:19:50.014827",
     "status": "completed"
    },
    "tags": []
   },
   "outputs": [],
   "source": [
    "#hide\n",
    "#delete problematic countries from table\n",
    "df_table = df_table[~df_table['Country/Region'].isin(['Cape Verde', 'Cruise Ship', 'Kosovo'])]"
   ]
  },
  {
   "cell_type": "code",
   "execution_count": 15,
   "id": "fantastic-effect",
   "metadata": {
    "execution": {
     "iopub.execute_input": "2021-07-03T00:19:50.161302Z",
     "iopub.status.busy": "2021-07-03T00:19:50.160492Z",
     "iopub.status.idle": "2021-07-03T00:19:50.184317Z",
     "shell.execute_reply": "2021-07-03T00:19:50.183768Z"
    },
    "papermill": {
     "duration": 0.075016,
     "end_time": "2021-07-03T00:19:50.184458",
     "exception": false,
     "start_time": "2021-07-03T00:19:50.109442",
     "status": "completed"
    },
    "tags": []
   },
   "outputs": [
    {
     "data": {
      "text/html": [
       "<div>\n",
       "<style scoped>\n",
       "    .dataframe tbody tr th:only-of-type {\n",
       "        vertical-align: middle;\n",
       "    }\n",
       "\n",
       "    .dataframe tbody tr th {\n",
       "        vertical-align: top;\n",
       "    }\n",
       "\n",
       "    .dataframe thead th {\n",
       "        text-align: right;\n",
       "    }\n",
       "</style>\n",
       "<table border=\"1\" class=\"dataframe\">\n",
       "  <thead>\n",
       "    <tr style=\"text-align: right;\">\n",
       "      <th></th>\n",
       "      <th>Country/Region</th>\n",
       "      <th>Cases</th>\n",
       "      <th>Deaths</th>\n",
       "      <th>PCases</th>\n",
       "      <th>PDeaths</th>\n",
       "      <th>Cases (+)</th>\n",
       "      <th>Deaths (+)</th>\n",
       "      <th>Fatality Rate</th>\n",
       "      <th>Continent</th>\n",
       "    </tr>\n",
       "  </thead>\n",
       "  <tbody>\n",
       "    <tr>\n",
       "      <th>0</th>\n",
       "      <td>US</td>\n",
       "      <td>33679433</td>\n",
       "      <td>605019</td>\n",
       "      <td>33664970</td>\n",
       "      <td>604714</td>\n",
       "      <td>14463</td>\n",
       "      <td>305</td>\n",
       "      <td>1.8</td>\n",
       "      <td>North America</td>\n",
       "    </tr>\n",
       "    <tr>\n",
       "      <th>1</th>\n",
       "      <td>India</td>\n",
       "      <td>30458251</td>\n",
       "      <td>400312</td>\n",
       "      <td>30411634</td>\n",
       "      <td>399459</td>\n",
       "      <td>46617</td>\n",
       "      <td>853</td>\n",
       "      <td>1.3</td>\n",
       "      <td>Asia</td>\n",
       "    </tr>\n",
       "    <tr>\n",
       "      <th>2</th>\n",
       "      <td>Brazil</td>\n",
       "      <td>18622304</td>\n",
       "      <td>520095</td>\n",
       "      <td>18557141</td>\n",
       "      <td>518066</td>\n",
       "      <td>65163</td>\n",
       "      <td>2029</td>\n",
       "      <td>2.8</td>\n",
       "      <td>South America</td>\n",
       "    </tr>\n",
       "    <tr>\n",
       "      <th>3</th>\n",
       "      <td>France</td>\n",
       "      <td>5839929</td>\n",
       "      <td>111273</td>\n",
       "      <td>5837265</td>\n",
       "      <td>111244</td>\n",
       "      <td>2664</td>\n",
       "      <td>29</td>\n",
       "      <td>1.9</td>\n",
       "      <td>Europe</td>\n",
       "    </tr>\n",
       "    <tr>\n",
       "      <th>4</th>\n",
       "      <td>Russia</td>\n",
       "      <td>5472722</td>\n",
       "      <td>133633</td>\n",
       "      <td>5449594</td>\n",
       "      <td>132973</td>\n",
       "      <td>23128</td>\n",
       "      <td>660</td>\n",
       "      <td>2.4</td>\n",
       "      <td>Europe</td>\n",
       "    </tr>\n",
       "  </tbody>\n",
       "</table>\n",
       "</div>"
      ],
      "text/plain": [
       "  Country/Region     Cases  Deaths    PCases  PDeaths  Cases (+)  Deaths (+)  \\\n",
       "0             US  33679433  605019  33664970   604714      14463         305   \n",
       "1          India  30458251  400312  30411634   399459      46617         853   \n",
       "2         Brazil  18622304  520095  18557141   518066      65163        2029   \n",
       "3         France   5839929  111273   5837265   111244       2664          29   \n",
       "4         Russia   5472722  133633   5449594   132973      23128         660   \n",
       "\n",
       "   Fatality Rate      Continent  \n",
       "0            1.8  North America  \n",
       "1            1.3           Asia  \n",
       "2            2.8  South America  \n",
       "3            1.9         Europe  \n",
       "4            2.4         Europe  "
      ]
     },
     "execution_count": 15,
     "metadata": {},
     "output_type": "execute_result"
    }
   ],
   "source": [
    "#hide\n",
    "df_table = (pd.DataFrame(dict(Cases=dfc_cases, Deaths=dfc_deaths, PCases=dfp_cases, PDeaths=dfp_deaths))\n",
    "             .sort_values(by=['Cases', 'Deaths'], ascending=[False, False])\n",
    "             .reset_index())\n",
    "df_table.rename(columns={'index': 'Country/Region'}, inplace=True)\n",
    "for c in 'Cases, Deaths'.split(', '):\n",
    "    df_table[f'{c} (+)'] = (df_table[c] - df_table[f'P{c}']).clip(0)  # DATA BUG\n",
    "df_table['Fatality Rate'] = (100 * df_table['Deaths'] / df_table['Cases']).round(1)\n",
    "df_table['Continent'] = df_table['Country/Region'].map(mapping['map.continent'])\n",
    "df_table.head(5)"
   ]
  },
  {
   "cell_type": "code",
   "execution_count": 16,
   "id": "fewer-occasion",
   "metadata": {
    "execution": {
     "iopub.execute_input": "2021-07-03T00:19:50.280198Z",
     "iopub.status.busy": "2021-07-03T00:19:50.279543Z",
     "iopub.status.idle": "2021-07-03T00:19:50.283203Z",
     "shell.execute_reply": "2021-07-03T00:19:50.282622Z"
    },
    "papermill": {
     "duration": 0.053854,
     "end_time": "2021-07-03T00:19:50.283343",
     "exception": false,
     "start_time": "2021-07-03T00:19:50.229489",
     "status": "completed"
    },
    "tags": []
   },
   "outputs": [],
   "source": [
    "#hide\n",
    "#delete problematic countries from table\n",
    "df_table = df_table[~df_table['Country/Region'].isin(['Cape Verde', 'Cruise Ship', 'Kosovo'])]"
   ]
  },
  {
   "cell_type": "code",
   "execution_count": 17,
   "id": "related-center",
   "metadata": {
    "execution": {
     "iopub.execute_input": "2021-07-03T00:19:50.392787Z",
     "iopub.status.busy": "2021-07-03T00:19:50.392049Z",
     "iopub.status.idle": "2021-07-03T00:19:50.394449Z",
     "shell.execute_reply": "2021-07-03T00:19:50.393764Z"
    },
    "papermill": {
     "duration": 0.068956,
     "end_time": "2021-07-03T00:19:50.394637",
     "exception": false,
     "start_time": "2021-07-03T00:19:50.325681",
     "status": "completed"
    },
    "tags": []
   },
   "outputs": [],
   "source": [
    "#hide\n",
    "metrics = [df_table.columns[index] for index in [1,2,5,6]]\n",
    "# s_china = df_table[df_table['Country/Region'].eq('China')][metrics].sum().add_prefix('China ')\n",
    "s_us = df_table[df_table['Country/Region'].eq('US')][metrics].sum().add_prefix('US ')\n",
    "s_eu = df_table[df_table['Continent'].eq('Europe')][metrics].sum().add_prefix('EU ')\n",
    "s_ind = df_table[df_table['Country/Region'].eq('India')][metrics].sum().add_prefix('India ')\n",
    "summary = {'updated': pd.to_datetime(dt_today), 'since': pd.to_datetime(dt_yday)}\n",
    "summary = {'updated': pd.to_datetime(dt_today), 'since': pd.to_datetime(dt_yday)}\n",
    "summary = {**summary, **df_table[metrics].sum(), **s_ind, **s_us, **s_eu}"
   ]
  },
  {
   "cell_type": "code",
   "execution_count": 18,
   "id": "engaging-syndrome",
   "metadata": {
    "execution": {
     "iopub.execute_input": "2021-07-03T00:19:50.483821Z",
     "iopub.status.busy": "2021-07-03T00:19:50.483167Z",
     "iopub.status.idle": "2021-07-03T00:19:50.497971Z",
     "shell.execute_reply": "2021-07-03T00:19:50.498679Z"
    },
    "papermill": {
     "duration": 0.062643,
     "end_time": "2021-07-03T00:19:50.498897",
     "exception": false,
     "start_time": "2021-07-03T00:19:50.436254",
     "status": "completed"
    },
    "tags": []
   },
   "outputs": [],
   "source": [
    "#hide\n",
    "dft_ct_new_cases = dft_cases.groupby(COL_REGION)[dt_cols].sum().diff(axis=1).fillna(0).astype(int)"
   ]
  },
  {
   "cell_type": "code",
   "execution_count": 19,
   "id": "neutral-assignment",
   "metadata": {
    "execution": {
     "iopub.execute_input": "2021-07-03T00:19:50.586513Z",
     "iopub.status.busy": "2021-07-03T00:19:50.585832Z",
     "iopub.status.idle": "2021-07-03T00:19:50.588413Z",
     "shell.execute_reply": "2021-07-03T00:19:50.587852Z"
    },
    "papermill": {
     "duration": 0.049087,
     "end_time": "2021-07-03T00:19:50.588558",
     "exception": false,
     "start_time": "2021-07-03T00:19:50.539471",
     "status": "completed"
    },
    "tags": []
   },
   "outputs": [],
   "source": [
    "#hide\n",
    "everydaycases = dft_ct_new_cases.cumsum(axis=1)"
   ]
  },
  {
   "cell_type": "code",
   "execution_count": 20,
   "id": "parliamentary-calgary",
   "metadata": {
    "execution": {
     "iopub.execute_input": "2021-07-03T00:19:50.678363Z",
     "iopub.status.busy": "2021-07-03T00:19:50.677595Z",
     "iopub.status.idle": "2021-07-03T00:19:51.451695Z",
     "shell.execute_reply": "2021-07-03T00:19:51.451086Z"
    },
    "papermill": {
     "duration": 0.82158,
     "end_time": "2021-07-03T00:19:51.451844",
     "exception": false,
     "start_time": "2021-07-03T00:19:50.630264",
     "status": "completed"
    },
    "tags": []
   },
   "outputs": [],
   "source": [
    "#hide\n",
    "import pandas as pd\n",
    "import matplotlib.pyplot as plt\n",
    "import matplotlib.ticker as ticker\n",
    "import matplotlib.animation as animation\n",
    "from IPython.display import HTML"
   ]
  },
  {
   "cell_type": "code",
   "execution_count": 21,
   "id": "lasting-extraction",
   "metadata": {
    "execution": {
     "iopub.execute_input": "2021-07-03T00:19:51.547724Z",
     "iopub.status.busy": "2021-07-03T00:19:51.547068Z",
     "iopub.status.idle": "2021-07-03T00:19:51.552544Z",
     "shell.execute_reply": "2021-07-03T00:19:51.553185Z"
    },
    "papermill": {
     "duration": 0.060565,
     "end_time": "2021-07-03T00:19:51.553349",
     "exception": false,
     "start_time": "2021-07-03T00:19:51.492784",
     "status": "completed"
    },
    "tags": []
   },
   "outputs": [],
   "source": [
    "#hide\n",
    "t = everydaycases.stack()"
   ]
  },
  {
   "cell_type": "code",
   "execution_count": 22,
   "id": "premier-sleeve",
   "metadata": {
    "execution": {
     "iopub.execute_input": "2021-07-03T00:19:51.648879Z",
     "iopub.status.busy": "2021-07-03T00:19:51.648221Z",
     "iopub.status.idle": "2021-07-03T00:19:51.657371Z",
     "shell.execute_reply": "2021-07-03T00:19:51.656739Z"
    },
    "papermill": {
     "duration": 0.058096,
     "end_time": "2021-07-03T00:19:51.657515",
     "exception": false,
     "start_time": "2021-07-03T00:19:51.599419",
     "status": "completed"
    },
    "tags": []
   },
   "outputs": [],
   "source": [
    "#hide\n",
    "g = t.reset_index(['Country/Region'])"
   ]
  },
  {
   "cell_type": "code",
   "execution_count": 23,
   "id": "distributed-pittsburgh",
   "metadata": {
    "execution": {
     "iopub.execute_input": "2021-07-03T00:19:51.747585Z",
     "iopub.status.busy": "2021-07-03T00:19:51.746126Z",
     "iopub.status.idle": "2021-07-03T00:19:51.748432Z",
     "shell.execute_reply": "2021-07-03T00:19:51.749071Z"
    },
    "papermill": {
     "duration": 0.050232,
     "end_time": "2021-07-03T00:19:51.749224",
     "exception": false,
     "start_time": "2021-07-03T00:19:51.698992",
     "status": "completed"
    },
    "tags": []
   },
   "outputs": [],
   "source": [
    "#hide\n",
    "g.index.name = 'date'"
   ]
  },
  {
   "cell_type": "code",
   "execution_count": 24,
   "id": "naked-donor",
   "metadata": {
    "execution": {
     "iopub.execute_input": "2021-07-03T00:19:51.839947Z",
     "iopub.status.busy": "2021-07-03T00:19:51.838362Z",
     "iopub.status.idle": "2021-07-03T00:19:51.840675Z",
     "shell.execute_reply": "2021-07-03T00:19:51.841243Z"
    },
    "papermill": {
     "duration": 0.050071,
     "end_time": "2021-07-03T00:19:51.841429",
     "exception": false,
     "start_time": "2021-07-03T00:19:51.791358",
     "status": "completed"
    },
    "tags": []
   },
   "outputs": [],
   "source": [
    "# #hide\n",
    "# g = g.reset_index(['date'])"
   ]
  },
  {
   "cell_type": "code",
   "execution_count": 25,
   "id": "incomplete-mustang",
   "metadata": {
    "execution": {
     "iopub.execute_input": "2021-07-03T00:19:51.930216Z",
     "iopub.status.busy": "2021-07-03T00:19:51.929521Z",
     "iopub.status.idle": "2021-07-03T00:19:51.931997Z",
     "shell.execute_reply": "2021-07-03T00:19:51.931426Z"
    },
    "papermill": {
     "duration": 0.048137,
     "end_time": "2021-07-03T00:19:51.932202",
     "exception": false,
     "start_time": "2021-07-03T00:19:51.884065",
     "status": "completed"
    },
    "tags": []
   },
   "outputs": [],
   "source": [
    "#hide\n",
    "# g.head()"
   ]
  },
  {
   "cell_type": "code",
   "execution_count": 26,
   "id": "specific-kruger",
   "metadata": {
    "execution": {
     "iopub.execute_input": "2021-07-03T00:19:52.021364Z",
     "iopub.status.busy": "2021-07-03T00:19:52.020542Z",
     "iopub.status.idle": "2021-07-03T00:19:52.023425Z",
     "shell.execute_reply": "2021-07-03T00:19:52.022885Z"
    },
    "papermill": {
     "duration": 0.048427,
     "end_time": "2021-07-03T00:19:52.023686",
     "exception": false,
     "start_time": "2021-07-03T00:19:51.975259",
     "status": "completed"
    },
    "tags": []
   },
   "outputs": [],
   "source": [
    "#hide\n",
    "# g.columns = ['date','country','cases']"
   ]
  },
  {
   "cell_type": "code",
   "execution_count": 27,
   "id": "tender-conversion",
   "metadata": {
    "execution": {
     "iopub.execute_input": "2021-07-03T00:19:52.112504Z",
     "iopub.status.busy": "2021-07-03T00:19:52.111838Z",
     "iopub.status.idle": "2021-07-03T00:19:52.114712Z",
     "shell.execute_reply": "2021-07-03T00:19:52.113676Z"
    },
    "papermill": {
     "duration": 0.047962,
     "end_time": "2021-07-03T00:19:52.114874",
     "exception": false,
     "start_time": "2021-07-03T00:19:52.066912",
     "status": "completed"
    },
    "tags": []
   },
   "outputs": [],
   "source": [
    "#hide\n",
    "# g['continent'] = g.country"
   ]
  },
  {
   "cell_type": "code",
   "execution_count": 28,
   "id": "substantial-wilderness",
   "metadata": {
    "execution": {
     "iopub.execute_input": "2021-07-03T00:19:52.206562Z",
     "iopub.status.busy": "2021-07-03T00:19:52.205828Z",
     "iopub.status.idle": "2021-07-03T00:19:52.207565Z",
     "shell.execute_reply": "2021-07-03T00:19:52.208091Z"
    },
    "papermill": {
     "duration": 0.051391,
     "end_time": "2021-07-03T00:19:52.208273",
     "exception": false,
     "start_time": "2021-07-03T00:19:52.156882",
     "status": "completed"
    },
    "tags": []
   },
   "outputs": [],
   "source": [
    "#hide\n",
    "# cols = list(g.columns.values)"
   ]
  },
  {
   "cell_type": "code",
   "execution_count": 29,
   "id": "solved-farming",
   "metadata": {
    "execution": {
     "iopub.execute_input": "2021-07-03T00:19:52.295709Z",
     "iopub.status.busy": "2021-07-03T00:19:52.295017Z",
     "iopub.status.idle": "2021-07-03T00:19:52.298721Z",
     "shell.execute_reply": "2021-07-03T00:19:52.298011Z"
    },
    "papermill": {
     "duration": 0.048974,
     "end_time": "2021-07-03T00:19:52.298907",
     "exception": false,
     "start_time": "2021-07-03T00:19:52.249933",
     "status": "completed"
    },
    "tags": []
   },
   "outputs": [],
   "source": [
    "#hide\n",
    "# cols.insert(0, cols.pop())"
   ]
  },
  {
   "cell_type": "code",
   "execution_count": 30,
   "id": "executed-adoption",
   "metadata": {
    "execution": {
     "iopub.execute_input": "2021-07-03T00:19:52.385793Z",
     "iopub.status.busy": "2021-07-03T00:19:52.385042Z",
     "iopub.status.idle": "2021-07-03T00:19:52.387919Z",
     "shell.execute_reply": "2021-07-03T00:19:52.386949Z"
    },
    "papermill": {
     "duration": 0.047902,
     "end_time": "2021-07-03T00:19:52.388081",
     "exception": false,
     "start_time": "2021-07-03T00:19:52.340179",
     "status": "completed"
    },
    "tags": []
   },
   "outputs": [],
   "source": [
    "#hide\n",
    "# g = g[cols]"
   ]
  },
  {
   "cell_type": "code",
   "execution_count": 31,
   "id": "subject-dublin",
   "metadata": {
    "execution": {
     "iopub.execute_input": "2021-07-03T00:19:52.476729Z",
     "iopub.status.busy": "2021-07-03T00:19:52.475998Z",
     "iopub.status.idle": "2021-07-03T00:19:52.478771Z",
     "shell.execute_reply": "2021-07-03T00:19:52.477970Z"
    },
    "papermill": {
     "duration": 0.048605,
     "end_time": "2021-07-03T00:19:52.478946",
     "exception": false,
     "start_time": "2021-07-03T00:19:52.430341",
     "status": "completed"
    },
    "tags": []
   },
   "outputs": [],
   "source": [
    "#hide\n",
    "# g['continent'] = g['continent'].map(mapping['map.continent'])"
   ]
  },
  {
   "cell_type": "code",
   "execution_count": 32,
   "id": "freelance-scout",
   "metadata": {
    "execution": {
     "iopub.execute_input": "2021-07-03T00:19:52.568546Z",
     "iopub.status.busy": "2021-07-03T00:19:52.567864Z",
     "iopub.status.idle": "2021-07-03T00:19:52.570445Z",
     "shell.execute_reply": "2021-07-03T00:19:52.569877Z"
    },
    "papermill": {
     "duration": 0.048566,
     "end_time": "2021-07-03T00:19:52.570587",
     "exception": false,
     "start_time": "2021-07-03T00:19:52.522021",
     "status": "completed"
    },
    "tags": []
   },
   "outputs": [],
   "source": [
    "#hide\n",
    "# g.head()"
   ]
  },
  {
   "cell_type": "code",
   "execution_count": 33,
   "id": "limited-engine",
   "metadata": {
    "execution": {
     "iopub.execute_input": "2021-07-03T00:19:52.662132Z",
     "iopub.status.busy": "2021-07-03T00:19:52.661410Z",
     "iopub.status.idle": "2021-07-03T00:19:52.664469Z",
     "shell.execute_reply": "2021-07-03T00:19:52.663867Z"
    },
    "papermill": {
     "duration": 0.053239,
     "end_time": "2021-07-03T00:19:52.664624",
     "exception": false,
     "start_time": "2021-07-03T00:19:52.611385",
     "status": "completed"
    },
    "tags": []
   },
   "outputs": [],
   "source": [
    "# hide\n",
    "# g['date'] = g['date'].astype('datetime64[ns]')"
   ]
  },
  {
   "cell_type": "code",
   "execution_count": 34,
   "id": "sophisticated-supervisor",
   "metadata": {
    "execution": {
     "iopub.execute_input": "2021-07-03T00:19:52.752865Z",
     "iopub.status.busy": "2021-07-03T00:19:52.752183Z",
     "iopub.status.idle": "2021-07-03T00:19:52.756294Z",
     "shell.execute_reply": "2021-07-03T00:19:52.755627Z"
    },
    "papermill": {
     "duration": 0.048351,
     "end_time": "2021-07-03T00:19:52.756494",
     "exception": false,
     "start_time": "2021-07-03T00:19:52.708143",
     "status": "completed"
    },
    "tags": []
   },
   "outputs": [],
   "source": [
    "#hide\n",
    "# g['date'] = g.date.dt.dayofyear"
   ]
  },
  {
   "cell_type": "code",
   "execution_count": 35,
   "id": "inside-dubai",
   "metadata": {
    "execution": {
     "iopub.execute_input": "2021-07-03T00:19:52.846707Z",
     "iopub.status.busy": "2021-07-03T00:19:52.846022Z",
     "iopub.status.idle": "2021-07-03T00:19:52.847961Z",
     "shell.execute_reply": "2021-07-03T00:19:52.848582Z"
    },
    "papermill": {
     "duration": 0.04914,
     "end_time": "2021-07-03T00:19:52.848736",
     "exception": false,
     "start_time": "2021-07-03T00:19:52.799596",
     "status": "completed"
    },
    "tags": []
   },
   "outputs": [],
   "source": [
    "#hide\n",
    "# g = g.rename(columns= {'continent':'group','country':'name','cases':'value'})"
   ]
  },
  {
   "cell_type": "code",
   "execution_count": 36,
   "id": "fleet-motorcycle",
   "metadata": {
    "execution": {
     "iopub.execute_input": "2021-07-03T00:19:52.936671Z",
     "iopub.status.busy": "2021-07-03T00:19:52.935984Z",
     "iopub.status.idle": "2021-07-03T00:19:52.937368Z",
     "shell.execute_reply": "2021-07-03T00:19:52.938245Z"
    },
    "papermill": {
     "duration": 0.047649,
     "end_time": "2021-07-03T00:19:52.938430",
     "exception": false,
     "start_time": "2021-07-03T00:19:52.890781",
     "status": "completed"
    },
    "tags": []
   },
   "outputs": [],
   "source": [
    "#hide\n",
    "# cols = ['name','group','day','value']"
   ]
  },
  {
   "cell_type": "code",
   "execution_count": 37,
   "id": "continued-sleeping",
   "metadata": {
    "execution": {
     "iopub.execute_input": "2021-07-03T00:19:53.028959Z",
     "iopub.status.busy": "2021-07-03T00:19:53.028215Z",
     "iopub.status.idle": "2021-07-03T00:19:53.031021Z",
     "shell.execute_reply": "2021-07-03T00:19:53.030471Z"
    },
    "papermill": {
     "duration": 0.048531,
     "end_time": "2021-07-03T00:19:53.031160",
     "exception": false,
     "start_time": "2021-07-03T00:19:52.982629",
     "status": "completed"
    },
    "tags": []
   },
   "outputs": [],
   "source": [
    "#hide\n",
    "# g.rename(columns= {'date':'day'},inplace = True)"
   ]
  },
  {
   "cell_type": "code",
   "execution_count": 38,
   "id": "major-fight",
   "metadata": {
    "execution": {
     "iopub.execute_input": "2021-07-03T00:19:53.119033Z",
     "iopub.status.busy": "2021-07-03T00:19:53.118345Z",
     "iopub.status.idle": "2021-07-03T00:19:53.120324Z",
     "shell.execute_reply": "2021-07-03T00:19:53.120827Z"
    },
    "papermill": {
     "duration": 0.047378,
     "end_time": "2021-07-03T00:19:53.120989",
     "exception": false,
     "start_time": "2021-07-03T00:19:53.073611",
     "status": "completed"
    },
    "tags": []
   },
   "outputs": [],
   "source": [
    "#hide\n",
    "# g = g[cols]"
   ]
  },
  {
   "cell_type": "code",
   "execution_count": 39,
   "id": "structured-mobile",
   "metadata": {
    "execution": {
     "iopub.execute_input": "2021-07-03T00:19:53.206248Z",
     "iopub.status.busy": "2021-07-03T00:19:53.205574Z",
     "iopub.status.idle": "2021-07-03T00:19:53.207885Z",
     "shell.execute_reply": "2021-07-03T00:19:53.207242Z"
    },
    "papermill": {
     "duration": 0.046596,
     "end_time": "2021-07-03T00:19:53.208024",
     "exception": false,
     "start_time": "2021-07-03T00:19:53.161428",
     "status": "completed"
    },
    "tags": []
   },
   "outputs": [],
   "source": [
    "# #hide\n",
    "# g = g[g.group.notna()]"
   ]
  },
  {
   "cell_type": "code",
   "execution_count": 40,
   "id": "determined-closing",
   "metadata": {
    "execution": {
     "iopub.execute_input": "2021-07-03T00:19:53.299085Z",
     "iopub.status.busy": "2021-07-03T00:19:53.298373Z",
     "iopub.status.idle": "2021-07-03T00:19:53.300780Z",
     "shell.execute_reply": "2021-07-03T00:19:53.300091Z"
    },
    "papermill": {
     "duration": 0.048123,
     "end_time": "2021-07-03T00:19:53.300935",
     "exception": false,
     "start_time": "2021-07-03T00:19:53.252812",
     "status": "completed"
    },
    "tags": []
   },
   "outputs": [],
   "source": [
    "# #hide\n",
    "# colors = dict(zip(\n",
    "#     [\"Oceania\", \"Europe\", \"Asia\", \"South America\", \"Middle East\", \"North America\", \"Africa\"],\n",
    "#     [\"#adb0ff\", \"#ffb3ff\", \"#90d595\", \"#e48381\", \"#aafbff\", \"#f7bb5f\", \"#eafb50\"]\n",
    "# ))\n",
    "# group_lk = g.set_index('name')['group'].to_dict()"
   ]
  },
  {
   "cell_type": "code",
   "execution_count": null,
   "id": "gross-drinking",
   "metadata": {
    "papermill": {
     "duration": 0.04645,
     "end_time": "2021-07-03T00:19:53.388856",
     "exception": false,
     "start_time": "2021-07-03T00:19:53.342406",
     "status": "completed"
    },
    "tags": []
   },
   "outputs": [],
   "source": []
  },
  {
   "cell_type": "code",
   "execution_count": 41,
   "id": "subject-macintosh",
   "metadata": {
    "execution": {
     "iopub.execute_input": "2021-07-03T00:19:53.475778Z",
     "iopub.status.busy": "2021-07-03T00:19:53.475098Z",
     "iopub.status.idle": "2021-07-03T00:19:53.477503Z",
     "shell.execute_reply": "2021-07-03T00:19:53.476851Z"
    },
    "papermill": {
     "duration": 0.047872,
     "end_time": "2021-07-03T00:19:53.477640",
     "exception": false,
     "start_time": "2021-07-03T00:19:53.429768",
     "status": "completed"
    },
    "tags": []
   },
   "outputs": [],
   "source": [
    "# #hide\n",
    "# fig, ax = plt.subplots(figsize=(15, 8))\n",
    "\n",
    "# def draw_barchart(current_day):\n",
    "#     dff = g[g['day'].eq(current_day)].sort_values(by='value', ascending=True).tail(10)\n",
    "#     ax.clear()\n",
    "#     ax.barh(dff['name'], dff['value'], color=[colors[group_lk[x]] for x in dff['name']])\n",
    "#     dx = dff['value'].max() / 200\n",
    "    \n",
    "#     for i, (value, name) in enumerate(zip(dff['value'], dff['name'])):\n",
    "#         ax.text(value-dx, i,     name,           size=14, weight=600, ha='right', va='bottom')\n",
    "#         ax.text(value-dx, i-.25, group_lk[name], size=10, color='#444444', ha='right', va='baseline')\n",
    "#         ax.text(value+dx, i,     f'{value:,.0f}',  size=14, ha='left',  va='center')\n",
    "#     ax.text(1, 0.4, current_day, transform=ax.transAxes, color='#777777', size=46, ha='right', weight=800)\n",
    "#     ax.text(0, 1.06, 'Population (thousands)', transform=ax.transAxes, size=12, color='#777777')\n",
    "#     ax.xaxis.set_major_formatter(ticker.StrMethodFormatter('{x:,.0f}'))\n",
    "#     ax.xaxis.set_ticks_position('top')\n",
    "#     ax.tick_params(axis='x', colors='#777777', labelsize=12)\n",
    "#     ax.set_yticks([])\n",
    "#     ax.margins(0, 0.01)\n",
    "#     ax.grid(which='major', axis='x', linestyle='-')\n",
    "#     ax.set_axisbelow(True)\n",
    "    \n",
    "#     ax.text(0, 1.15, 'Coronavirus',\n",
    "#             transform=ax.transAxes, size=24, weight=600, ha='left', va='top')\n",
    "# #     ax.text(1, 0, 'by @pratapvardhan; credit @jburnmurdoch', transform=ax.transAxes, color='#777777', ha='right',\n",
    "# #             bbox=dict(facecolor='white', alpha=0.8, edgecolor='white'))\n",
    "#     plt.box(False)"
   ]
  },
  {
   "cell_type": "code",
   "execution_count": 42,
   "id": "sexual-wages",
   "metadata": {
    "execution": {
     "iopub.execute_input": "2021-07-03T00:19:53.565889Z",
     "iopub.status.busy": "2021-07-03T00:19:53.565209Z",
     "iopub.status.idle": "2021-07-03T00:19:53.567190Z",
     "shell.execute_reply": "2021-07-03T00:19:53.567794Z"
    },
    "papermill": {
     "duration": 0.047895,
     "end_time": "2021-07-03T00:19:53.567941",
     "exception": false,
     "start_time": "2021-07-03T00:19:53.520046",
     "status": "completed"
    },
    "tags": []
   },
   "outputs": [],
   "source": [
    "# #hide_input\n",
    "# fig, ax = plt.subplots(figsize=(15, 8))\n",
    "# animator = animation.FuncAnimation(fig, draw_barchart, frames=range(g.day.values.min(), g.day.values.max()))\n",
    "# HTML(animator.to_jshtml())\n",
    "# # or use animator.to_html5_video() or animator.save() "
   ]
  },
  {
   "cell_type": "code",
   "execution_count": null,
   "id": "australian-container",
   "metadata": {
    "papermill": {
     "duration": 0.044056,
     "end_time": "2021-07-03T00:19:53.655951",
     "exception": false,
     "start_time": "2021-07-03T00:19:53.611895",
     "status": "completed"
    },
    "tags": []
   },
   "outputs": [],
   "source": []
  },
  {
   "cell_type": "code",
   "execution_count": null,
   "id": "mediterranean-pontiac",
   "metadata": {
    "papermill": {
     "duration": 0.043004,
     "end_time": "2021-07-03T00:19:53.739940",
     "exception": false,
     "start_time": "2021-07-03T00:19:53.696936",
     "status": "completed"
    },
    "tags": []
   },
   "outputs": [],
   "source": []
  },
  {
   "cell_type": "code",
   "execution_count": null,
   "id": "aging-legislature",
   "metadata": {
    "papermill": {
     "duration": 0.041294,
     "end_time": "2021-07-03T00:19:53.823156",
     "exception": false,
     "start_time": "2021-07-03T00:19:53.781862",
     "status": "completed"
    },
    "tags": []
   },
   "outputs": [],
   "source": []
  }
 ],
 "metadata": {
  "kernelspec": {
   "display_name": "Python 3",
   "language": "python",
   "name": "python3"
  },
  "language_info": {
   "codemirror_mode": {
    "name": "ipython",
    "version": 3
   },
   "file_extension": ".py",
   "mimetype": "text/x-python",
   "name": "python",
   "nbconvert_exporter": "python",
   "pygments_lexer": "ipython3",
   "version": "3.6.13"
  },
  "papermill": {
   "duration": 8.429325,
   "end_time": "2021-07-03T00:19:55.059416",
   "environment_variables": {},
   "exception": null,
   "input_path": "2020-03-21-covid19exp.ipynb",
   "output_path": "2020-03-21-covid19exp.ipynb",
   "parameters": {},
   "start_time": "2021-07-03T00:19:46.630091",
   "version": "2.0.0"
  }
 },
 "nbformat": 4,
 "nbformat_minor": 5
}