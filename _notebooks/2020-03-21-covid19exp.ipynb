{
 "cells": [
  {
   "cell_type": "markdown",
   "id": "muslim-click",
   "metadata": {
    "papermill": {
     "duration": 0.037586,
     "end_time": "2021-08-16T12:12:32.150776",
     "exception": false,
     "start_time": "2021-08-16T12:12:32.113190",
     "status": "completed"
    },
    "tags": []
   },
   "source": [
    "# COVID-19 Case Race\n",
    "> A race chart to see rising cases around the world\n",
    "\n",
    "- author: Hargun Oberoi\n",
    "- image: images/covid-overview.png\n",
    "- hide: false\n",
    "- badges: false"
   ]
  },
  {
   "cell_type": "code",
   "execution_count": 1,
   "id": "proof-material",
   "metadata": {
    "execution": {
     "iopub.execute_input": "2021-08-16T12:12:32.230853Z",
     "iopub.status.busy": "2021-08-16T12:12:32.230104Z",
     "iopub.status.idle": "2021-08-16T12:12:32.578659Z",
     "shell.execute_reply": "2021-08-16T12:12:32.578090Z"
    },
    "papermill": {
     "duration": 0.393064,
     "end_time": "2021-08-16T12:12:32.578806",
     "exception": false,
     "start_time": "2021-08-16T12:12:32.185742",
     "status": "completed"
    },
    "tags": []
   },
   "outputs": [],
   "source": [
    "#hide\n",
    "import numpy as np\n",
    "import pandas as pd\n",
    "from jinja2 import Template\n",
    "from IPython.display import HTML"
   ]
  },
  {
   "cell_type": "code",
   "execution_count": 2,
   "id": "developed-terminology",
   "metadata": {
    "execution": {
     "iopub.execute_input": "2021-08-16T12:12:32.649913Z",
     "iopub.status.busy": "2021-08-16T12:12:32.649298Z",
     "iopub.status.idle": "2021-08-16T12:12:32.651193Z",
     "shell.execute_reply": "2021-08-16T12:12:32.651637Z"
    },
    "papermill": {
     "duration": 0.038655,
     "end_time": "2021-08-16T12:12:32.651759",
     "exception": false,
     "start_time": "2021-08-16T12:12:32.613104",
     "status": "completed"
    },
    "tags": []
   },
   "outputs": [],
   "source": [
    "#hide\n",
    "\n",
    "# FETCH\n",
    "base_url = 'https://raw.githubusercontent.com/pratapvardhan/notebooks/master/covid19/'\n",
    "paths = {\n",
    "    'mapping': base_url + 'mapping_countries.csv',\n",
    "    'overview': base_url + 'overview.tpl'\n",
    "}"
   ]
  },
  {
   "cell_type": "code",
   "execution_count": 3,
   "id": "dynamic-saver",
   "metadata": {
    "execution": {
     "iopub.execute_input": "2021-08-16T12:12:32.729789Z",
     "iopub.status.busy": "2021-08-16T12:12:32.729194Z",
     "iopub.status.idle": "2021-08-16T12:12:32.732219Z",
     "shell.execute_reply": "2021-08-16T12:12:32.731737Z"
    },
    "papermill": {
     "duration": 0.0461,
     "end_time": "2021-08-16T12:12:32.732327",
     "exception": false,
     "start_time": "2021-08-16T12:12:32.686227",
     "status": "completed"
    },
    "tags": []
   },
   "outputs": [
    {
     "data": {
      "text/plain": [
       "'https://raw.githubusercontent.com/pratapvardhan/notebooks/master/covid19/mapping_countries.csv'"
      ]
     },
     "execution_count": 3,
     "metadata": {},
     "output_type": "execute_result"
    }
   ],
   "source": [
    "#hide\n",
    "paths['mapping']"
   ]
  },
  {
   "cell_type": "code",
   "execution_count": 4,
   "id": "urban-software",
   "metadata": {
    "execution": {
     "iopub.execute_input": "2021-08-16T12:12:32.807110Z",
     "iopub.status.busy": "2021-08-16T12:12:32.806512Z",
     "iopub.status.idle": "2021-08-16T12:12:32.807748Z",
     "shell.execute_reply": "2021-08-16T12:12:32.808208Z"
    },
    "papermill": {
     "duration": 0.040825,
     "end_time": "2021-08-16T12:12:32.808329",
     "exception": false,
     "start_time": "2021-08-16T12:12:32.767504",
     "status": "completed"
    },
    "tags": []
   },
   "outputs": [],
   "source": [
    "#hide\n",
    "def get_mappings(url):\n",
    "    df = pd.read_csv(url)\n",
    "    return {\n",
    "        'df': df,\n",
    "        'replace.country': dict(df.dropna(subset=['Name']).set_index('Country')['Name']),\n",
    "        'map.continent': dict(df.set_index('Name')['Continent'])\n",
    "    }"
   ]
  },
  {
   "cell_type": "code",
   "execution_count": 5,
   "id": "intimate-machinery",
   "metadata": {
    "execution": {
     "iopub.execute_input": "2021-08-16T12:12:32.883329Z",
     "iopub.status.busy": "2021-08-16T12:12:32.882723Z",
     "iopub.status.idle": "2021-08-16T12:12:32.923447Z",
     "shell.execute_reply": "2021-08-16T12:12:32.922955Z"
    },
    "papermill": {
     "duration": 0.080306,
     "end_time": "2021-08-16T12:12:32.923565",
     "exception": false,
     "start_time": "2021-08-16T12:12:32.843259",
     "status": "completed"
    },
    "tags": []
   },
   "outputs": [],
   "source": [
    "#hide\n",
    "mapping = get_mappings(paths['mapping'])"
   ]
  },
  {
   "cell_type": "code",
   "execution_count": 6,
   "id": "certified-tactics",
   "metadata": {
    "execution": {
     "iopub.execute_input": "2021-08-16T12:12:32.995390Z",
     "iopub.status.busy": "2021-08-16T12:12:32.994815Z",
     "iopub.status.idle": "2021-08-16T12:12:32.997161Z",
     "shell.execute_reply": "2021-08-16T12:12:32.996677Z"
    },
    "papermill": {
     "duration": 0.038948,
     "end_time": "2021-08-16T12:12:32.997268",
     "exception": false,
     "start_time": "2021-08-16T12:12:32.958320",
     "status": "completed"
    },
    "tags": []
   },
   "outputs": [],
   "source": [
    "#hide\n",
    "def get_template(path):\n",
    "    from urllib.parse import urlparse\n",
    "    if bool(urlparse(path).netloc):\n",
    "        from urllib.request import urlopen\n",
    "        return urlopen(path).read().decode('utf8')\n",
    "    return open(path).read()"
   ]
  },
  {
   "cell_type": "code",
   "execution_count": 7,
   "id": "realistic-blast",
   "metadata": {
    "execution": {
     "iopub.execute_input": "2021-08-16T12:12:33.071137Z",
     "iopub.status.busy": "2021-08-16T12:12:33.070531Z",
     "iopub.status.idle": "2021-08-16T12:12:33.073028Z",
     "shell.execute_reply": "2021-08-16T12:12:33.072527Z"
    },
    "papermill": {
     "duration": 0.042571,
     "end_time": "2021-08-16T12:12:33.073143",
     "exception": false,
     "start_time": "2021-08-16T12:12:33.030572",
     "status": "completed"
    },
    "tags": []
   },
   "outputs": [],
   "source": [
    "#hide\n",
    "def get_frame(name):\n",
    "    url = (\n",
    "        'https://raw.githubusercontent.com/CSSEGISandData/COVID-19/master/csse_covid_19_data/'\n",
    "        f'csse_covid_19_time_series/time_series_covid19_{name}_global.csv')\n",
    "    df = pd.read_csv(url)\n",
    "    # rename countries\n",
    "    df['Country/Region'] = df['Country/Region'].replace(mapping['replace.country'])\n",
    "    return df"
   ]
  },
  {
   "cell_type": "code",
   "execution_count": 8,
   "id": "affiliated-characterization",
   "metadata": {
    "execution": {
     "iopub.execute_input": "2021-08-16T12:12:33.144737Z",
     "iopub.status.busy": "2021-08-16T12:12:33.144166Z",
     "iopub.status.idle": "2021-08-16T12:12:33.146729Z",
     "shell.execute_reply": "2021-08-16T12:12:33.146248Z"
    },
    "papermill": {
     "duration": 0.040539,
     "end_time": "2021-08-16T12:12:33.146837",
     "exception": false,
     "start_time": "2021-08-16T12:12:33.106298",
     "status": "completed"
    },
    "tags": []
   },
   "outputs": [],
   "source": [
    "#hide\n",
    "def get_dates(df):\n",
    "    dt_cols = df.columns[~df.columns.isin(['Province/State', 'Country/Region', 'Lat', 'Long'])]\n",
    "    LAST_DATE_I = -1\n",
    "    # sometimes last column may be empty, then go backwards\n",
    "    for i in range(-1, -len(dt_cols), -1):\n",
    "        if not df[dt_cols[i]].fillna(0).eq(0).all():\n",
    "            LAST_DATE_I = i\n",
    "            break\n",
    "    return LAST_DATE_I, dt_cols"
   ]
  },
  {
   "cell_type": "code",
   "execution_count": 9,
   "id": "recent-optimization",
   "metadata": {
    "execution": {
     "iopub.execute_input": "2021-08-16T12:12:33.218880Z",
     "iopub.status.busy": "2021-08-16T12:12:33.217651Z",
     "iopub.status.idle": "2021-08-16T12:12:33.590769Z",
     "shell.execute_reply": "2021-08-16T12:12:33.590194Z"
    },
    "papermill": {
     "duration": 0.41033,
     "end_time": "2021-08-16T12:12:33.590929",
     "exception": false,
     "start_time": "2021-08-16T12:12:33.180599",
     "status": "completed"
    },
    "tags": []
   },
   "outputs": [],
   "source": [
    "#hide\n",
    "COL_REGION = 'Country/Region'\n",
    "# Confirmed, Recovered, Deaths\n",
    "df = get_frame('confirmed')\n",
    "# dft_: timeseries, dfc_: today country agg\n",
    "dft_cases = df\n",
    "dft_deaths = get_frame('deaths')\n",
    "dft_recovered = get_frame('recovered')\n",
    "LAST_DATE_I, dt_cols = get_dates(df)"
   ]
  },
  {
   "cell_type": "code",
   "execution_count": 10,
   "id": "absolute-copper",
   "metadata": {
    "execution": {
     "iopub.execute_input": "2021-08-16T12:12:33.666445Z",
     "iopub.status.busy": "2021-08-16T12:12:33.665170Z",
     "iopub.status.idle": "2021-08-16T12:12:33.667098Z",
     "shell.execute_reply": "2021-08-16T12:12:33.667957Z"
    },
    "papermill": {
     "duration": 0.042172,
     "end_time": "2021-08-16T12:12:33.668084",
     "exception": false,
     "start_time": "2021-08-16T12:12:33.625912",
     "status": "completed"
    },
    "tags": []
   },
   "outputs": [],
   "source": [
    "#hide\n",
    "LAST_DATE_I, dt_cols = get_dates(df)\n",
    "dt_today =dt_cols[LAST_DATE_I]\n",
    "# dt_5day = dt_cols[LAST_DATE_I - 5]\n",
    "dt_yday = dt_cols[LAST_DATE_I - 1]"
   ]
  },
  {
   "cell_type": "code",
   "execution_count": 11,
   "id": "restricted-sheriff",
   "metadata": {
    "execution": {
     "iopub.execute_input": "2021-08-16T12:12:33.752749Z",
     "iopub.status.busy": "2021-08-16T12:12:33.752095Z",
     "iopub.status.idle": "2021-08-16T12:12:33.757872Z",
     "shell.execute_reply": "2021-08-16T12:12:33.758317Z"
    },
    "papermill": {
     "duration": 0.05574,
     "end_time": "2021-08-16T12:12:33.758453",
     "exception": false,
     "start_time": "2021-08-16T12:12:33.702713",
     "status": "completed"
    },
    "tags": []
   },
   "outputs": [],
   "source": [
    "#hide\n",
    "dfc_cases = dft_cases.groupby(COL_REGION)[dt_today].sum()\n",
    "dfc_deaths = dft_deaths.groupby(COL_REGION)[dt_today].sum()\n",
    "# dfp_cases = dft_cases.groupby(COL_REGION)[dt_5day].sum()\n",
    "# dfp_deaths = dft_deaths.groupby(COL_REGION)[dt_5day].sum()\n",
    "dfp_cases = dft_cases.groupby(COL_REGION)[dt_yday].sum()\n",
    "dfp_deaths = dft_deaths.groupby(COL_REGION)[dt_yday].sum()"
   ]
  },
  {
   "cell_type": "code",
   "execution_count": 12,
   "id": "deluxe-hepatitis",
   "metadata": {
    "execution": {
     "iopub.execute_input": "2021-08-16T12:12:33.830269Z",
     "iopub.status.busy": "2021-08-16T12:12:33.829696Z",
     "iopub.status.idle": "2021-08-16T12:12:33.835142Z",
     "shell.execute_reply": "2021-08-16T12:12:33.834658Z"
    },
    "papermill": {
     "duration": 0.043347,
     "end_time": "2021-08-16T12:12:33.835251",
     "exception": false,
     "start_time": "2021-08-16T12:12:33.791904",
     "status": "completed"
    },
    "tags": []
   },
   "outputs": [],
   "source": [
    "#hide\n",
    "df_table = (pd.DataFrame(dict(Cases = dfc_cases, Deaths = dfc_deaths, PCases = dfp_cases, PDeaths = dfp_deaths))\n",
    "            .sort_values(by = ['Cases','Deaths'], ascending = [False, False])\n",
    "            .reset_index())"
   ]
  },
  {
   "cell_type": "code",
   "execution_count": 13,
   "id": "educational-chancellor",
   "metadata": {
    "execution": {
     "iopub.execute_input": "2021-08-16T12:12:33.923332Z",
     "iopub.status.busy": "2021-08-16T12:12:33.922734Z",
     "iopub.status.idle": "2021-08-16T12:12:33.930405Z",
     "shell.execute_reply": "2021-08-16T12:12:33.930899Z"
    },
    "papermill": {
     "duration": 0.062296,
     "end_time": "2021-08-16T12:12:33.931038",
     "exception": false,
     "start_time": "2021-08-16T12:12:33.868742",
     "status": "completed"
    },
    "tags": []
   },
   "outputs": [
    {
     "data": {
      "text/html": [
       "<div>\n",
       "<style scoped>\n",
       "    .dataframe tbody tr th:only-of-type {\n",
       "        vertical-align: middle;\n",
       "    }\n",
       "\n",
       "    .dataframe tbody tr th {\n",
       "        vertical-align: top;\n",
       "    }\n",
       "\n",
       "    .dataframe thead th {\n",
       "        text-align: right;\n",
       "    }\n",
       "</style>\n",
       "<table border=\"1\" class=\"dataframe\">\n",
       "  <thead>\n",
       "    <tr style=\"text-align: right;\">\n",
       "      <th></th>\n",
       "      <th>Country/Region</th>\n",
       "      <th>Cases</th>\n",
       "      <th>Deaths</th>\n",
       "      <th>PCases</th>\n",
       "      <th>PDeaths</th>\n",
       "      <th>Cases (+)</th>\n",
       "      <th>Deaths (+)</th>\n",
       "      <th>Fatality Rate</th>\n",
       "      <th>Continent</th>\n",
       "    </tr>\n",
       "  </thead>\n",
       "  <tbody>\n",
       "    <tr>\n",
       "      <th>0</th>\n",
       "      <td>US</td>\n",
       "      <td>36678753</td>\n",
       "      <td>621635</td>\n",
       "      <td>36640271</td>\n",
       "      <td>621253</td>\n",
       "      <td>38482</td>\n",
       "      <td>382</td>\n",
       "      <td>1.69</td>\n",
       "      <td>North America</td>\n",
       "    </tr>\n",
       "    <tr>\n",
       "      <th>1</th>\n",
       "      <td>India</td>\n",
       "      <td>32225513</td>\n",
       "      <td>431642</td>\n",
       "      <td>32192576</td>\n",
       "      <td>431225</td>\n",
       "      <td>32937</td>\n",
       "      <td>417</td>\n",
       "      <td>1.34</td>\n",
       "      <td>Asia</td>\n",
       "    </tr>\n",
       "    <tr>\n",
       "      <th>2</th>\n",
       "      <td>Brazil</td>\n",
       "      <td>20364099</td>\n",
       "      <td>569058</td>\n",
       "      <td>20350142</td>\n",
       "      <td>568788</td>\n",
       "      <td>13957</td>\n",
       "      <td>270</td>\n",
       "      <td>2.79</td>\n",
       "      <td>South America</td>\n",
       "    </tr>\n",
       "    <tr>\n",
       "      <th>3</th>\n",
       "      <td>Russia</td>\n",
       "      <td>6511431</td>\n",
       "      <td>167595</td>\n",
       "      <td>6490421</td>\n",
       "      <td>166795</td>\n",
       "      <td>21010</td>\n",
       "      <td>800</td>\n",
       "      <td>2.57</td>\n",
       "      <td>Europe</td>\n",
       "    </tr>\n",
       "    <tr>\n",
       "      <th>4</th>\n",
       "      <td>France</td>\n",
       "      <td>6471262</td>\n",
       "      <td>112705</td>\n",
       "      <td>6521927</td>\n",
       "      <td>112829</td>\n",
       "      <td>0</td>\n",
       "      <td>0</td>\n",
       "      <td>1.74</td>\n",
       "      <td>Europe</td>\n",
       "    </tr>\n",
       "  </tbody>\n",
       "</table>\n",
       "</div>"
      ],
      "text/plain": [
       "  Country/Region     Cases  Deaths    PCases  PDeaths  Cases (+)  Deaths (+)  \\\n",
       "0             US  36678753  621635  36640271   621253      38482         382   \n",
       "1          India  32225513  431642  32192576   431225      32937         417   \n",
       "2         Brazil  20364099  569058  20350142   568788      13957         270   \n",
       "3         Russia   6511431  167595   6490421   166795      21010         800   \n",
       "4         France   6471262  112705   6521927   112829          0           0   \n",
       "\n",
       "   Fatality Rate      Continent  \n",
       "0           1.69  North America  \n",
       "1           1.34           Asia  \n",
       "2           2.79  South America  \n",
       "3           2.57         Europe  \n",
       "4           1.74         Europe  "
      ]
     },
     "execution_count": 13,
     "metadata": {},
     "output_type": "execute_result"
    }
   ],
   "source": [
    "#hide\n",
    "for c in 'Cases, Deaths'.split(', '):\n",
    "    df_table[f'{c} (+)'] = (df_table[c] - df_table[f'P{c}']).clip(0)\n",
    "    #Clip ça veut dire, les chiffres negatif sont interdit\n",
    "df_table['Fatality Rate'] = (100* df_table['Deaths']/ df_table['Cases']).round(2)\n",
    "df_table['Continent'] = df_table['Country/Region'].map(mapping['map.continent'])\n",
    "df_table.head(5)"
   ]
  },
  {
   "cell_type": "code",
   "execution_count": 14,
   "id": "aboriginal-bulgaria",
   "metadata": {
    "execution": {
     "iopub.execute_input": "2021-08-16T12:12:34.004469Z",
     "iopub.status.busy": "2021-08-16T12:12:34.003874Z",
     "iopub.status.idle": "2021-08-16T12:12:34.006694Z",
     "shell.execute_reply": "2021-08-16T12:12:34.005950Z"
    },
    "papermill": {
     "duration": 0.041329,
     "end_time": "2021-08-16T12:12:34.006820",
     "exception": false,
     "start_time": "2021-08-16T12:12:33.965491",
     "status": "completed"
    },
    "tags": []
   },
   "outputs": [],
   "source": [
    "#hide\n",
    "#delete problematic countries from table\n",
    "df_table = df_table[~df_table['Country/Region'].isin(['Cape Verde', 'Cruise Ship', 'Kosovo'])]"
   ]
  },
  {
   "cell_type": "code",
   "execution_count": 15,
   "id": "fantastic-effect",
   "metadata": {
    "execution": {
     "iopub.execute_input": "2021-08-16T12:12:34.084753Z",
     "iopub.status.busy": "2021-08-16T12:12:34.084139Z",
     "iopub.status.idle": "2021-08-16T12:12:34.102306Z",
     "shell.execute_reply": "2021-08-16T12:12:34.102798Z"
    },
    "papermill": {
     "duration": 0.060705,
     "end_time": "2021-08-16T12:12:34.102922",
     "exception": false,
     "start_time": "2021-08-16T12:12:34.042217",
     "status": "completed"
    },
    "tags": []
   },
   "outputs": [
    {
     "data": {
      "text/html": [
       "<div>\n",
       "<style scoped>\n",
       "    .dataframe tbody tr th:only-of-type {\n",
       "        vertical-align: middle;\n",
       "    }\n",
       "\n",
       "    .dataframe tbody tr th {\n",
       "        vertical-align: top;\n",
       "    }\n",
       "\n",
       "    .dataframe thead th {\n",
       "        text-align: right;\n",
       "    }\n",
       "</style>\n",
       "<table border=\"1\" class=\"dataframe\">\n",
       "  <thead>\n",
       "    <tr style=\"text-align: right;\">\n",
       "      <th></th>\n",
       "      <th>Country/Region</th>\n",
       "      <th>Cases</th>\n",
       "      <th>Deaths</th>\n",
       "      <th>PCases</th>\n",
       "      <th>PDeaths</th>\n",
       "      <th>Cases (+)</th>\n",
       "      <th>Deaths (+)</th>\n",
       "      <th>Fatality Rate</th>\n",
       "      <th>Continent</th>\n",
       "    </tr>\n",
       "  </thead>\n",
       "  <tbody>\n",
       "    <tr>\n",
       "      <th>0</th>\n",
       "      <td>US</td>\n",
       "      <td>36678753</td>\n",
       "      <td>621635</td>\n",
       "      <td>36640271</td>\n",
       "      <td>621253</td>\n",
       "      <td>38482</td>\n",
       "      <td>382</td>\n",
       "      <td>1.7</td>\n",
       "      <td>North America</td>\n",
       "    </tr>\n",
       "    <tr>\n",
       "      <th>1</th>\n",
       "      <td>India</td>\n",
       "      <td>32225513</td>\n",
       "      <td>431642</td>\n",
       "      <td>32192576</td>\n",
       "      <td>431225</td>\n",
       "      <td>32937</td>\n",
       "      <td>417</td>\n",
       "      <td>1.3</td>\n",
       "      <td>Asia</td>\n",
       "    </tr>\n",
       "    <tr>\n",
       "      <th>2</th>\n",
       "      <td>Brazil</td>\n",
       "      <td>20364099</td>\n",
       "      <td>569058</td>\n",
       "      <td>20350142</td>\n",
       "      <td>568788</td>\n",
       "      <td>13957</td>\n",
       "      <td>270</td>\n",
       "      <td>2.8</td>\n",
       "      <td>South America</td>\n",
       "    </tr>\n",
       "    <tr>\n",
       "      <th>3</th>\n",
       "      <td>Russia</td>\n",
       "      <td>6511431</td>\n",
       "      <td>167595</td>\n",
       "      <td>6490421</td>\n",
       "      <td>166795</td>\n",
       "      <td>21010</td>\n",
       "      <td>800</td>\n",
       "      <td>2.6</td>\n",
       "      <td>Europe</td>\n",
       "    </tr>\n",
       "    <tr>\n",
       "      <th>4</th>\n",
       "      <td>France</td>\n",
       "      <td>6471262</td>\n",
       "      <td>112705</td>\n",
       "      <td>6521927</td>\n",
       "      <td>112829</td>\n",
       "      <td>0</td>\n",
       "      <td>0</td>\n",
       "      <td>1.7</td>\n",
       "      <td>Europe</td>\n",
       "    </tr>\n",
       "  </tbody>\n",
       "</table>\n",
       "</div>"
      ],
      "text/plain": [
       "  Country/Region     Cases  Deaths    PCases  PDeaths  Cases (+)  Deaths (+)  \\\n",
       "0             US  36678753  621635  36640271   621253      38482         382   \n",
       "1          India  32225513  431642  32192576   431225      32937         417   \n",
       "2         Brazil  20364099  569058  20350142   568788      13957         270   \n",
       "3         Russia   6511431  167595   6490421   166795      21010         800   \n",
       "4         France   6471262  112705   6521927   112829          0           0   \n",
       "\n",
       "   Fatality Rate      Continent  \n",
       "0            1.7  North America  \n",
       "1            1.3           Asia  \n",
       "2            2.8  South America  \n",
       "3            2.6         Europe  \n",
       "4            1.7         Europe  "
      ]
     },
     "execution_count": 15,
     "metadata": {},
     "output_type": "execute_result"
    }
   ],
   "source": [
    "#hide\n",
    "df_table = (pd.DataFrame(dict(Cases=dfc_cases, Deaths=dfc_deaths, PCases=dfp_cases, PDeaths=dfp_deaths))\n",
    "             .sort_values(by=['Cases', 'Deaths'], ascending=[False, False])\n",
    "             .reset_index())\n",
    "df_table.rename(columns={'index': 'Country/Region'}, inplace=True)\n",
    "for c in 'Cases, Deaths'.split(', '):\n",
    "    df_table[f'{c} (+)'] = (df_table[c] - df_table[f'P{c}']).clip(0)  # DATA BUG\n",
    "df_table['Fatality Rate'] = (100 * df_table['Deaths'] / df_table['Cases']).round(1)\n",
    "df_table['Continent'] = df_table['Country/Region'].map(mapping['map.continent'])\n",
    "df_table.head(5)"
   ]
  },
  {
   "cell_type": "code",
   "execution_count": 16,
   "id": "fewer-occasion",
   "metadata": {
    "execution": {
     "iopub.execute_input": "2021-08-16T12:12:34.176705Z",
     "iopub.status.busy": "2021-08-16T12:12:34.176119Z",
     "iopub.status.idle": "2021-08-16T12:12:34.179174Z",
     "shell.execute_reply": "2021-08-16T12:12:34.179640Z"
    },
    "papermill": {
     "duration": 0.042159,
     "end_time": "2021-08-16T12:12:34.179777",
     "exception": false,
     "start_time": "2021-08-16T12:12:34.137618",
     "status": "completed"
    },
    "tags": []
   },
   "outputs": [],
   "source": [
    "#hide\n",
    "#delete problematic countries from table\n",
    "df_table = df_table[~df_table['Country/Region'].isin(['Cape Verde', 'Cruise Ship', 'Kosovo'])]"
   ]
  },
  {
   "cell_type": "code",
   "execution_count": 17,
   "id": "related-center",
   "metadata": {
    "execution": {
     "iopub.execute_input": "2021-08-16T12:12:34.261076Z",
     "iopub.status.busy": "2021-08-16T12:12:34.260495Z",
     "iopub.status.idle": "2021-08-16T12:12:34.268779Z",
     "shell.execute_reply": "2021-08-16T12:12:34.269271Z"
    },
    "papermill": {
     "duration": 0.054807,
     "end_time": "2021-08-16T12:12:34.269395",
     "exception": false,
     "start_time": "2021-08-16T12:12:34.214588",
     "status": "completed"
    },
    "tags": []
   },
   "outputs": [],
   "source": [
    "#hide\n",
    "metrics = [df_table.columns[index] for index in [1,2,5,6]]\n",
    "# s_china = df_table[df_table['Country/Region'].eq('China')][metrics].sum().add_prefix('China ')\n",
    "s_us = df_table[df_table['Country/Region'].eq('US')][metrics].sum().add_prefix('US ')\n",
    "s_eu = df_table[df_table['Continent'].eq('Europe')][metrics].sum().add_prefix('EU ')\n",
    "s_ind = df_table[df_table['Country/Region'].eq('India')][metrics].sum().add_prefix('India ')\n",
    "summary = {'updated': pd.to_datetime(dt_today), 'since': pd.to_datetime(dt_yday)}\n",
    "summary = {'updated': pd.to_datetime(dt_today), 'since': pd.to_datetime(dt_yday)}\n",
    "summary = {**summary, **df_table[metrics].sum(), **s_ind, **s_us, **s_eu}"
   ]
  },
  {
   "cell_type": "code",
   "execution_count": 18,
   "id": "engaging-syndrome",
   "metadata": {
    "execution": {
     "iopub.execute_input": "2021-08-16T12:12:34.345892Z",
     "iopub.status.busy": "2021-08-16T12:12:34.345262Z",
     "iopub.status.idle": "2021-08-16T12:12:34.359834Z",
     "shell.execute_reply": "2021-08-16T12:12:34.359320Z"
    },
    "papermill": {
     "duration": 0.055089,
     "end_time": "2021-08-16T12:12:34.359950",
     "exception": false,
     "start_time": "2021-08-16T12:12:34.304861",
     "status": "completed"
    },
    "tags": []
   },
   "outputs": [],
   "source": [
    "#hide\n",
    "dft_ct_new_cases = dft_cases.groupby(COL_REGION)[dt_cols].sum().diff(axis=1).fillna(0).astype(int)"
   ]
  },
  {
   "cell_type": "code",
   "execution_count": 19,
   "id": "neutral-assignment",
   "metadata": {
    "execution": {
     "iopub.execute_input": "2021-08-16T12:12:34.438827Z",
     "iopub.status.busy": "2021-08-16T12:12:34.438144Z",
     "iopub.status.idle": "2021-08-16T12:12:34.440136Z",
     "shell.execute_reply": "2021-08-16T12:12:34.440769Z"
    },
    "papermill": {
     "duration": 0.044154,
     "end_time": "2021-08-16T12:12:34.440889",
     "exception": false,
     "start_time": "2021-08-16T12:12:34.396735",
     "status": "completed"
    },
    "tags": []
   },
   "outputs": [],
   "source": [
    "#hide\n",
    "everydaycases = dft_ct_new_cases.cumsum(axis=1)"
   ]
  },
  {
   "cell_type": "code",
   "execution_count": 20,
   "id": "parliamentary-calgary",
   "metadata": {
    "execution": {
     "iopub.execute_input": "2021-08-16T12:12:34.518186Z",
     "iopub.status.busy": "2021-08-16T12:12:34.517614Z",
     "iopub.status.idle": "2021-08-16T12:12:35.073719Z",
     "shell.execute_reply": "2021-08-16T12:12:35.073174Z"
    },
    "papermill": {
     "duration": 0.595215,
     "end_time": "2021-08-16T12:12:35.073856",
     "exception": false,
     "start_time": "2021-08-16T12:12:34.478641",
     "status": "completed"
    },
    "tags": []
   },
   "outputs": [],
   "source": [
    "#hide\n",
    "import pandas as pd\n",
    "import matplotlib.pyplot as plt\n",
    "import matplotlib.ticker as ticker\n",
    "import matplotlib.animation as animation\n",
    "from IPython.display import HTML"
   ]
  },
  {
   "cell_type": "code",
   "execution_count": 21,
   "id": "lasting-extraction",
   "metadata": {
    "execution": {
     "iopub.execute_input": "2021-08-16T12:12:35.148403Z",
     "iopub.status.busy": "2021-08-16T12:12:35.147824Z",
     "iopub.status.idle": "2021-08-16T12:12:35.154144Z",
     "shell.execute_reply": "2021-08-16T12:12:35.153625Z"
    },
    "papermill": {
     "duration": 0.045501,
     "end_time": "2021-08-16T12:12:35.154256",
     "exception": false,
     "start_time": "2021-08-16T12:12:35.108755",
     "status": "completed"
    },
    "tags": []
   },
   "outputs": [],
   "source": [
    "#hide\n",
    "t = everydaycases.stack()"
   ]
  },
  {
   "cell_type": "code",
   "execution_count": 22,
   "id": "premier-sleeve",
   "metadata": {
    "execution": {
     "iopub.execute_input": "2021-08-16T12:12:35.235885Z",
     "iopub.status.busy": "2021-08-16T12:12:35.235272Z",
     "iopub.status.idle": "2021-08-16T12:12:35.243012Z",
     "shell.execute_reply": "2021-08-16T12:12:35.243715Z"
    },
    "papermill": {
     "duration": 0.047931,
     "end_time": "2021-08-16T12:12:35.243875",
     "exception": false,
     "start_time": "2021-08-16T12:12:35.195944",
     "status": "completed"
    },
    "tags": []
   },
   "outputs": [],
   "source": [
    "#hide\n",
    "g = t.reset_index(['Country/Region'])"
   ]
  },
  {
   "cell_type": "code",
   "execution_count": 23,
   "id": "distributed-pittsburgh",
   "metadata": {
    "execution": {
     "iopub.execute_input": "2021-08-16T12:12:35.318291Z",
     "iopub.status.busy": "2021-08-16T12:12:35.317628Z",
     "iopub.status.idle": "2021-08-16T12:12:35.319901Z",
     "shell.execute_reply": "2021-08-16T12:12:35.319275Z"
    },
    "papermill": {
     "duration": 0.040535,
     "end_time": "2021-08-16T12:12:35.320020",
     "exception": false,
     "start_time": "2021-08-16T12:12:35.279485",
     "status": "completed"
    },
    "tags": []
   },
   "outputs": [],
   "source": [
    "#hide\n",
    "g.index.name = 'date'"
   ]
  },
  {
   "cell_type": "code",
   "execution_count": 24,
   "id": "naked-donor",
   "metadata": {
    "execution": {
     "iopub.execute_input": "2021-08-16T12:12:35.394901Z",
     "iopub.status.busy": "2021-08-16T12:12:35.394155Z",
     "iopub.status.idle": "2021-08-16T12:12:35.396750Z",
     "shell.execute_reply": "2021-08-16T12:12:35.396266Z"
    },
    "papermill": {
     "duration": 0.041348,
     "end_time": "2021-08-16T12:12:35.396863",
     "exception": false,
     "start_time": "2021-08-16T12:12:35.355515",
     "status": "completed"
    },
    "tags": []
   },
   "outputs": [],
   "source": [
    "# #hide\n",
    "# g = g.reset_index(['date'])"
   ]
  },
  {
   "cell_type": "code",
   "execution_count": 25,
   "id": "incomplete-mustang",
   "metadata": {
    "execution": {
     "iopub.execute_input": "2021-08-16T12:12:35.475964Z",
     "iopub.status.busy": "2021-08-16T12:12:35.475236Z",
     "iopub.status.idle": "2021-08-16T12:12:35.477185Z",
     "shell.execute_reply": "2021-08-16T12:12:35.477756Z"
    },
    "papermill": {
     "duration": 0.044311,
     "end_time": "2021-08-16T12:12:35.477884",
     "exception": false,
     "start_time": "2021-08-16T12:12:35.433573",
     "status": "completed"
    },
    "tags": []
   },
   "outputs": [],
   "source": [
    "#hide\n",
    "# g.head()"
   ]
  },
  {
   "cell_type": "code",
   "execution_count": 26,
   "id": "specific-kruger",
   "metadata": {
    "execution": {
     "iopub.execute_input": "2021-08-16T12:12:35.555666Z",
     "iopub.status.busy": "2021-08-16T12:12:35.555042Z",
     "iopub.status.idle": "2021-08-16T12:12:35.556777Z",
     "shell.execute_reply": "2021-08-16T12:12:35.557963Z"
    },
    "papermill": {
     "duration": 0.043308,
     "end_time": "2021-08-16T12:12:35.558096",
     "exception": false,
     "start_time": "2021-08-16T12:12:35.514788",
     "status": "completed"
    },
    "tags": []
   },
   "outputs": [],
   "source": [
    "#hide\n",
    "# g.columns = ['date','country','cases']"
   ]
  },
  {
   "cell_type": "code",
   "execution_count": 27,
   "id": "tender-conversion",
   "metadata": {
    "execution": {
     "iopub.execute_input": "2021-08-16T12:12:35.637020Z",
     "iopub.status.busy": "2021-08-16T12:12:35.635728Z",
     "iopub.status.idle": "2021-08-16T12:12:35.638201Z",
     "shell.execute_reply": "2021-08-16T12:12:35.638750Z"
    },
    "papermill": {
     "duration": 0.043519,
     "end_time": "2021-08-16T12:12:35.638883",
     "exception": false,
     "start_time": "2021-08-16T12:12:35.595364",
     "status": "completed"
    },
    "tags": []
   },
   "outputs": [],
   "source": [
    "#hide\n",
    "# g['continent'] = g.country"
   ]
  },
  {
   "cell_type": "code",
   "execution_count": 28,
   "id": "substantial-wilderness",
   "metadata": {
    "execution": {
     "iopub.execute_input": "2021-08-16T12:12:35.714088Z",
     "iopub.status.busy": "2021-08-16T12:12:35.713377Z",
     "iopub.status.idle": "2021-08-16T12:12:35.716924Z",
     "shell.execute_reply": "2021-08-16T12:12:35.717515Z"
    },
    "papermill": {
     "duration": 0.04228,
     "end_time": "2021-08-16T12:12:35.717654",
     "exception": false,
     "start_time": "2021-08-16T12:12:35.675374",
     "status": "completed"
    },
    "tags": []
   },
   "outputs": [],
   "source": [
    "#hide\n",
    "# cols = list(g.columns.values)"
   ]
  },
  {
   "cell_type": "code",
   "execution_count": 29,
   "id": "solved-farming",
   "metadata": {
    "execution": {
     "iopub.execute_input": "2021-08-16T12:12:35.789665Z",
     "iopub.status.busy": "2021-08-16T12:12:35.788994Z",
     "iopub.status.idle": "2021-08-16T12:12:35.791203Z",
     "shell.execute_reply": "2021-08-16T12:12:35.791641Z"
    },
    "papermill": {
     "duration": 0.039989,
     "end_time": "2021-08-16T12:12:35.791763",
     "exception": false,
     "start_time": "2021-08-16T12:12:35.751774",
     "status": "completed"
    },
    "tags": []
   },
   "outputs": [],
   "source": [
    "#hide\n",
    "# cols.insert(0, cols.pop())"
   ]
  },
  {
   "cell_type": "code",
   "execution_count": 30,
   "id": "executed-adoption",
   "metadata": {
    "execution": {
     "iopub.execute_input": "2021-08-16T12:12:35.865436Z",
     "iopub.status.busy": "2021-08-16T12:12:35.864831Z",
     "iopub.status.idle": "2021-08-16T12:12:35.867263Z",
     "shell.execute_reply": "2021-08-16T12:12:35.866780Z"
    },
    "papermill": {
     "duration": 0.040329,
     "end_time": "2021-08-16T12:12:35.867372",
     "exception": false,
     "start_time": "2021-08-16T12:12:35.827043",
     "status": "completed"
    },
    "tags": []
   },
   "outputs": [],
   "source": [
    "#hide\n",
    "# g = g[cols]"
   ]
  },
  {
   "cell_type": "code",
   "execution_count": 31,
   "id": "subject-dublin",
   "metadata": {
    "execution": {
     "iopub.execute_input": "2021-08-16T12:12:35.939885Z",
     "iopub.status.busy": "2021-08-16T12:12:35.939315Z",
     "iopub.status.idle": "2021-08-16T12:12:35.941083Z",
     "shell.execute_reply": "2021-08-16T12:12:35.941987Z"
    },
    "papermill": {
     "duration": 0.039982,
     "end_time": "2021-08-16T12:12:35.942220",
     "exception": false,
     "start_time": "2021-08-16T12:12:35.902238",
     "status": "completed"
    },
    "tags": []
   },
   "outputs": [],
   "source": [
    "#hide\n",
    "# g['continent'] = g['continent'].map(mapping['map.continent'])"
   ]
  },
  {
   "cell_type": "code",
   "execution_count": 32,
   "id": "freelance-scout",
   "metadata": {
    "execution": {
     "iopub.execute_input": "2021-08-16T12:12:36.016276Z",
     "iopub.status.busy": "2021-08-16T12:12:36.015707Z",
     "iopub.status.idle": "2021-08-16T12:12:36.017583Z",
     "shell.execute_reply": "2021-08-16T12:12:36.018076Z"
    },
    "papermill": {
     "duration": 0.041551,
     "end_time": "2021-08-16T12:12:36.018197",
     "exception": false,
     "start_time": "2021-08-16T12:12:35.976646",
     "status": "completed"
    },
    "tags": []
   },
   "outputs": [],
   "source": [
    "#hide\n",
    "# g.head()"
   ]
  },
  {
   "cell_type": "code",
   "execution_count": 33,
   "id": "limited-engine",
   "metadata": {
    "execution": {
     "iopub.execute_input": "2021-08-16T12:12:36.092658Z",
     "iopub.status.busy": "2021-08-16T12:12:36.091399Z",
     "iopub.status.idle": "2021-08-16T12:12:36.093405Z",
     "shell.execute_reply": "2021-08-16T12:12:36.093895Z"
    },
    "papermill": {
     "duration": 0.040367,
     "end_time": "2021-08-16T12:12:36.094017",
     "exception": false,
     "start_time": "2021-08-16T12:12:36.053650",
     "status": "completed"
    },
    "tags": []
   },
   "outputs": [],
   "source": [
    "# hide\n",
    "# g['date'] = g['date'].astype('datetime64[ns]')"
   ]
  },
  {
   "cell_type": "code",
   "execution_count": 34,
   "id": "sophisticated-supervisor",
   "metadata": {
    "execution": {
     "iopub.execute_input": "2021-08-16T12:12:36.169233Z",
     "iopub.status.busy": "2021-08-16T12:12:36.167959Z",
     "iopub.status.idle": "2021-08-16T12:12:36.169907Z",
     "shell.execute_reply": "2021-08-16T12:12:36.170368Z"
    },
    "papermill": {
     "duration": 0.041114,
     "end_time": "2021-08-16T12:12:36.170488",
     "exception": false,
     "start_time": "2021-08-16T12:12:36.129374",
     "status": "completed"
    },
    "tags": []
   },
   "outputs": [],
   "source": [
    "#hide\n",
    "# g['date'] = g.date.dt.dayofyear"
   ]
  },
  {
   "cell_type": "code",
   "execution_count": 35,
   "id": "inside-dubai",
   "metadata": {
    "execution": {
     "iopub.execute_input": "2021-08-16T12:12:36.242669Z",
     "iopub.status.busy": "2021-08-16T12:12:36.241393Z",
     "iopub.status.idle": "2021-08-16T12:12:36.243292Z",
     "shell.execute_reply": "2021-08-16T12:12:36.243754Z"
    },
    "papermill": {
     "duration": 0.039002,
     "end_time": "2021-08-16T12:12:36.243874",
     "exception": false,
     "start_time": "2021-08-16T12:12:36.204872",
     "status": "completed"
    },
    "tags": []
   },
   "outputs": [],
   "source": [
    "#hide\n",
    "# g = g.rename(columns= {'continent':'group','country':'name','cases':'value'})"
   ]
  },
  {
   "cell_type": "code",
   "execution_count": 36,
   "id": "fleet-motorcycle",
   "metadata": {
    "execution": {
     "iopub.execute_input": "2021-08-16T12:12:36.318453Z",
     "iopub.status.busy": "2021-08-16T12:12:36.317266Z",
     "iopub.status.idle": "2021-08-16T12:12:36.319079Z",
     "shell.execute_reply": "2021-08-16T12:12:36.319542Z"
    },
    "papermill": {
     "duration": 0.040164,
     "end_time": "2021-08-16T12:12:36.319662",
     "exception": false,
     "start_time": "2021-08-16T12:12:36.279498",
     "status": "completed"
    },
    "tags": []
   },
   "outputs": [],
   "source": [
    "#hide\n",
    "# cols = ['name','group','day','value']"
   ]
  },
  {
   "cell_type": "code",
   "execution_count": 37,
   "id": "continued-sleeping",
   "metadata": {
    "execution": {
     "iopub.execute_input": "2021-08-16T12:12:36.392939Z",
     "iopub.status.busy": "2021-08-16T12:12:36.391812Z",
     "iopub.status.idle": "2021-08-16T12:12:36.393580Z",
     "shell.execute_reply": "2021-08-16T12:12:36.394073Z"
    },
    "papermill": {
     "duration": 0.040127,
     "end_time": "2021-08-16T12:12:36.394193",
     "exception": false,
     "start_time": "2021-08-16T12:12:36.354066",
     "status": "completed"
    },
    "tags": []
   },
   "outputs": [],
   "source": [
    "#hide\n",
    "# g.rename(columns= {'date':'day'},inplace = True)"
   ]
  },
  {
   "cell_type": "code",
   "execution_count": 38,
   "id": "major-fight",
   "metadata": {
    "execution": {
     "iopub.execute_input": "2021-08-16T12:12:36.465105Z",
     "iopub.status.busy": "2021-08-16T12:12:36.464535Z",
     "iopub.status.idle": "2021-08-16T12:12:36.467226Z",
     "shell.execute_reply": "2021-08-16T12:12:36.468028Z"
    },
    "papermill": {
     "duration": 0.039514,
     "end_time": "2021-08-16T12:12:36.468150",
     "exception": false,
     "start_time": "2021-08-16T12:12:36.428636",
     "status": "completed"
    },
    "tags": []
   },
   "outputs": [],
   "source": [
    "#hide\n",
    "# g = g[cols]"
   ]
  },
  {
   "cell_type": "code",
   "execution_count": 39,
   "id": "structured-mobile",
   "metadata": {
    "execution": {
     "iopub.execute_input": "2021-08-16T12:12:36.539970Z",
     "iopub.status.busy": "2021-08-16T12:12:36.539405Z",
     "iopub.status.idle": "2021-08-16T12:12:36.541775Z",
     "shell.execute_reply": "2021-08-16T12:12:36.541259Z"
    },
    "papermill": {
     "duration": 0.039778,
     "end_time": "2021-08-16T12:12:36.541883",
     "exception": false,
     "start_time": "2021-08-16T12:12:36.502105",
     "status": "completed"
    },
    "tags": []
   },
   "outputs": [],
   "source": [
    "# #hide\n",
    "# g = g[g.group.notna()]"
   ]
  },
  {
   "cell_type": "code",
   "execution_count": 40,
   "id": "determined-closing",
   "metadata": {
    "execution": {
     "iopub.execute_input": "2021-08-16T12:12:36.616324Z",
     "iopub.status.busy": "2021-08-16T12:12:36.615035Z",
     "iopub.status.idle": "2021-08-16T12:12:36.616987Z",
     "shell.execute_reply": "2021-08-16T12:12:36.617481Z"
    },
    "papermill": {
     "duration": 0.041193,
     "end_time": "2021-08-16T12:12:36.617613",
     "exception": false,
     "start_time": "2021-08-16T12:12:36.576420",
     "status": "completed"
    },
    "tags": []
   },
   "outputs": [],
   "source": [
    "# #hide\n",
    "# colors = dict(zip(\n",
    "#     [\"Oceania\", \"Europe\", \"Asia\", \"South America\", \"Middle East\", \"North America\", \"Africa\"],\n",
    "#     [\"#adb0ff\", \"#ffb3ff\", \"#90d595\", \"#e48381\", \"#aafbff\", \"#f7bb5f\", \"#eafb50\"]\n",
    "# ))\n",
    "# group_lk = g.set_index('name')['group'].to_dict()"
   ]
  },
  {
   "cell_type": "code",
   "execution_count": null,
   "id": "gross-drinking",
   "metadata": {
    "papermill": {
     "duration": 0.035536,
     "end_time": "2021-08-16T12:12:36.686911",
     "exception": false,
     "start_time": "2021-08-16T12:12:36.651375",
     "status": "completed"
    },
    "tags": []
   },
   "outputs": [],
   "source": []
  },
  {
   "cell_type": "code",
   "execution_count": 41,
   "id": "subject-macintosh",
   "metadata": {
    "execution": {
     "iopub.execute_input": "2021-08-16T12:12:36.759961Z",
     "iopub.status.busy": "2021-08-16T12:12:36.759370Z",
     "iopub.status.idle": "2021-08-16T12:12:36.762257Z",
     "shell.execute_reply": "2021-08-16T12:12:36.761773Z"
    },
    "papermill": {
     "duration": 0.040152,
     "end_time": "2021-08-16T12:12:36.762365",
     "exception": false,
     "start_time": "2021-08-16T12:12:36.722213",
     "status": "completed"
    },
    "tags": []
   },
   "outputs": [],
   "source": [
    "# #hide\n",
    "# fig, ax = plt.subplots(figsize=(15, 8))\n",
    "\n",
    "# def draw_barchart(current_day):\n",
    "#     dff = g[g['day'].eq(current_day)].sort_values(by='value', ascending=True).tail(10)\n",
    "#     ax.clear()\n",
    "#     ax.barh(dff['name'], dff['value'], color=[colors[group_lk[x]] for x in dff['name']])\n",
    "#     dx = dff['value'].max() / 200\n",
    "    \n",
    "#     for i, (value, name) in enumerate(zip(dff['value'], dff['name'])):\n",
    "#         ax.text(value-dx, i,     name,           size=14, weight=600, ha='right', va='bottom')\n",
    "#         ax.text(value-dx, i-.25, group_lk[name], size=10, color='#444444', ha='right', va='baseline')\n",
    "#         ax.text(value+dx, i,     f'{value:,.0f}',  size=14, ha='left',  va='center')\n",
    "#     ax.text(1, 0.4, current_day, transform=ax.transAxes, color='#777777', size=46, ha='right', weight=800)\n",
    "#     ax.text(0, 1.06, 'Population (thousands)', transform=ax.transAxes, size=12, color='#777777')\n",
    "#     ax.xaxis.set_major_formatter(ticker.StrMethodFormatter('{x:,.0f}'))\n",
    "#     ax.xaxis.set_ticks_position('top')\n",
    "#     ax.tick_params(axis='x', colors='#777777', labelsize=12)\n",
    "#     ax.set_yticks([])\n",
    "#     ax.margins(0, 0.01)\n",
    "#     ax.grid(which='major', axis='x', linestyle='-')\n",
    "#     ax.set_axisbelow(True)\n",
    "    \n",
    "#     ax.text(0, 1.15, 'Coronavirus',\n",
    "#             transform=ax.transAxes, size=24, weight=600, ha='left', va='top')\n",
    "# #     ax.text(1, 0, 'by @pratapvardhan; credit @jburnmurdoch', transform=ax.transAxes, color='#777777', ha='right',\n",
    "# #             bbox=dict(facecolor='white', alpha=0.8, edgecolor='white'))\n",
    "#     plt.box(False)"
   ]
  },
  {
   "cell_type": "code",
   "execution_count": 42,
   "id": "sexual-wages",
   "metadata": {
    "execution": {
     "iopub.execute_input": "2021-08-16T12:12:36.835991Z",
     "iopub.status.busy": "2021-08-16T12:12:36.835421Z",
     "iopub.status.idle": "2021-08-16T12:12:36.837815Z",
     "shell.execute_reply": "2021-08-16T12:12:36.837309Z"
    },
    "papermill": {
     "duration": 0.041739,
     "end_time": "2021-08-16T12:12:36.837923",
     "exception": false,
     "start_time": "2021-08-16T12:12:36.796184",
     "status": "completed"
    },
    "tags": []
   },
   "outputs": [],
   "source": [
    "# #hide_input\n",
    "# fig, ax = plt.subplots(figsize=(15, 8))\n",
    "# animator = animation.FuncAnimation(fig, draw_barchart, frames=range(g.day.values.min(), g.day.values.max()))\n",
    "# HTML(animator.to_jshtml())\n",
    "# # or use animator.to_html5_video() or animator.save() "
   ]
  },
  {
   "cell_type": "code",
   "execution_count": null,
   "id": "australian-container",
   "metadata": {
    "papermill": {
     "duration": 0.035338,
     "end_time": "2021-08-16T12:12:36.909881",
     "exception": false,
     "start_time": "2021-08-16T12:12:36.874543",
     "status": "completed"
    },
    "tags": []
   },
   "outputs": [],
   "source": []
  },
  {
   "cell_type": "code",
   "execution_count": null,
   "id": "mediterranean-pontiac",
   "metadata": {
    "papermill": {
     "duration": 0.035679,
     "end_time": "2021-08-16T12:12:36.981538",
     "exception": false,
     "start_time": "2021-08-16T12:12:36.945859",
     "status": "completed"
    },
    "tags": []
   },
   "outputs": [],
   "source": []
  },
  {
   "cell_type": "code",
   "execution_count": null,
   "id": "aging-legislature",
   "metadata": {
    "papermill": {
     "duration": 0.034438,
     "end_time": "2021-08-16T12:12:37.050936",
     "exception": false,
     "start_time": "2021-08-16T12:12:37.016498",
     "status": "completed"
    },
    "tags": []
   },
   "outputs": [],
   "source": []
  }
 ],
 "metadata": {
  "kernelspec": {
   "display_name": "Python 3",
   "language": "python",
   "name": "python3"
  },
  "language_info": {
   "codemirror_mode": {
    "name": "ipython",
    "version": 3
   },
   "file_extension": ".py",
   "mimetype": "text/x-python",
   "name": "python",
   "nbconvert_exporter": "python",
   "pygments_lexer": "ipython3",
   "version": "3.6.14"
  },
  "papermill": {
   "duration": 7.332198,
   "end_time": "2021-08-16T12:12:38.367422",
   "environment_variables": {},
   "exception": null,
   "input_path": "2020-03-21-covid19exp.ipynb",
   "output_path": "2020-03-21-covid19exp.ipynb",
   "parameters": {},
   "start_time": "2021-08-16T12:12:31.035224",
   "version": "2.0.0"
  }
 },
 "nbformat": 4,
 "nbformat_minor": 5
}