{
 "cells": [
  {
   "cell_type": "markdown",
   "id": "muslim-click",
   "metadata": {
    "papermill": {
     "duration": 0.034191,
     "end_time": "2022-11-22T12:17:56.984488",
     "exception": false,
     "start_time": "2022-11-22T12:17:56.950297",
     "status": "completed"
    },
    "tags": []
   },
   "source": [
    "# COVID-19 Case Race\n",
    "> A race chart to see rising cases around the world\n",
    "\n",
    "- author: Hargun Oberoi\n",
    "- image: images/covid-overview.png\n",
    "- hide: false\n",
    "- badges: false"
   ]
  },
  {
   "cell_type": "code",
   "execution_count": 1,
   "id": "proof-material",
   "metadata": {
    "execution": {
     "iopub.execute_input": "2022-11-22T12:17:57.054359Z",
     "iopub.status.busy": "2022-11-22T12:17:57.052889Z",
     "iopub.status.idle": "2022-11-22T12:17:57.372536Z",
     "shell.execute_reply": "2022-11-22T12:17:57.371528Z"
    },
    "papermill": {
     "duration": 0.358728,
     "end_time": "2022-11-22T12:17:57.372684",
     "exception": false,
     "start_time": "2022-11-22T12:17:57.013956",
     "status": "completed"
    },
    "tags": []
   },
   "outputs": [],
   "source": [
    "#hide\n",
    "import numpy as np\n",
    "import pandas as pd\n",
    "from jinja2 import Template\n",
    "from IPython.display import HTML"
   ]
  },
  {
   "cell_type": "code",
   "execution_count": 2,
   "id": "developed-terminology",
   "metadata": {
    "execution": {
     "iopub.execute_input": "2022-11-22T12:17:57.435313Z",
     "iopub.status.busy": "2022-11-22T12:17:57.434637Z",
     "iopub.status.idle": "2022-11-22T12:17:57.436933Z",
     "shell.execute_reply": "2022-11-22T12:17:57.436275Z"
    },
    "papermill": {
     "duration": 0.035325,
     "end_time": "2022-11-22T12:17:57.437055",
     "exception": false,
     "start_time": "2022-11-22T12:17:57.401730",
     "status": "completed"
    },
    "tags": []
   },
   "outputs": [],
   "source": [
    "#hide\n",
    "\n",
    "# FETCH\n",
    "base_url = 'https://raw.githubusercontent.com/pratapvardhan/notebooks/master/covid19/'\n",
    "paths = {\n",
    "    'mapping': base_url + 'mapping_countries.csv',\n",
    "    'overview': base_url + 'overview.tpl'\n",
    "}"
   ]
  },
  {
   "cell_type": "code",
   "execution_count": 3,
   "id": "dynamic-saver",
   "metadata": {
    "execution": {
     "iopub.execute_input": "2022-11-22T12:17:57.503477Z",
     "iopub.status.busy": "2022-11-22T12:17:57.502915Z",
     "iopub.status.idle": "2022-11-22T12:17:57.506070Z",
     "shell.execute_reply": "2022-11-22T12:17:57.505527Z"
    },
    "papermill": {
     "duration": 0.040406,
     "end_time": "2022-11-22T12:17:57.506170",
     "exception": false,
     "start_time": "2022-11-22T12:17:57.465764",
     "status": "completed"
    },
    "tags": []
   },
   "outputs": [
    {
     "data": {
      "text/plain": [
       "'https://raw.githubusercontent.com/pratapvardhan/notebooks/master/covid19/mapping_countries.csv'"
      ]
     },
     "execution_count": 3,
     "metadata": {},
     "output_type": "execute_result"
    }
   ],
   "source": [
    "#hide\n",
    "paths['mapping']"
   ]
  },
  {
   "cell_type": "code",
   "execution_count": 4,
   "id": "urban-software",
   "metadata": {
    "execution": {
     "iopub.execute_input": "2022-11-22T12:17:57.569007Z",
     "iopub.status.busy": "2022-11-22T12:17:57.568422Z",
     "iopub.status.idle": "2022-11-22T12:17:57.570803Z",
     "shell.execute_reply": "2022-11-22T12:17:57.571211Z"
    },
    "papermill": {
     "duration": 0.03608,
     "end_time": "2022-11-22T12:17:57.571325",
     "exception": false,
     "start_time": "2022-11-22T12:17:57.535245",
     "status": "completed"
    },
    "tags": []
   },
   "outputs": [],
   "source": [
    "#hide\n",
    "def get_mappings(url):\n",
    "    df = pd.read_csv(url)\n",
    "    return {\n",
    "        'df': df,\n",
    "        'replace.country': dict(df.dropna(subset=['Name']).set_index('Country')['Name']),\n",
    "        'map.continent': dict(df.set_index('Name')['Continent'])\n",
    "    }"
   ]
  },
  {
   "cell_type": "code",
   "execution_count": 5,
   "id": "intimate-machinery",
   "metadata": {
    "execution": {
     "iopub.execute_input": "2022-11-22T12:17:57.635003Z",
     "iopub.status.busy": "2022-11-22T12:17:57.634439Z",
     "iopub.status.idle": "2022-11-22T12:17:57.697600Z",
     "shell.execute_reply": "2022-11-22T12:17:57.697087Z"
    },
    "papermill": {
     "duration": 0.097349,
     "end_time": "2022-11-22T12:17:57.697725",
     "exception": false,
     "start_time": "2022-11-22T12:17:57.600376",
     "status": "completed"
    },
    "tags": []
   },
   "outputs": [],
   "source": [
    "#hide\n",
    "mapping = get_mappings(paths['mapping'])"
   ]
  },
  {
   "cell_type": "code",
   "execution_count": 6,
   "id": "certified-tactics",
   "metadata": {
    "execution": {
     "iopub.execute_input": "2022-11-22T12:17:57.761675Z",
     "iopub.status.busy": "2022-11-22T12:17:57.761097Z",
     "iopub.status.idle": "2022-11-22T12:17:57.763478Z",
     "shell.execute_reply": "2022-11-22T12:17:57.763022Z"
    },
    "papermill": {
     "duration": 0.036202,
     "end_time": "2022-11-22T12:17:57.763581",
     "exception": false,
     "start_time": "2022-11-22T12:17:57.727379",
     "status": "completed"
    },
    "tags": []
   },
   "outputs": [],
   "source": [
    "#hide\n",
    "def get_template(path):\n",
    "    from urllib.parse import urlparse\n",
    "    if bool(urlparse(path).netloc):\n",
    "        from urllib.request import urlopen\n",
    "        return urlopen(path).read().decode('utf8')\n",
    "    return open(path).read()"
   ]
  },
  {
   "cell_type": "code",
   "execution_count": 7,
   "id": "realistic-blast",
   "metadata": {
    "execution": {
     "iopub.execute_input": "2022-11-22T12:17:57.826634Z",
     "iopub.status.busy": "2022-11-22T12:17:57.825983Z",
     "iopub.status.idle": "2022-11-22T12:17:57.828236Z",
     "shell.execute_reply": "2022-11-22T12:17:57.827687Z"
    },
    "papermill": {
     "duration": 0.035687,
     "end_time": "2022-11-22T12:17:57.828339",
     "exception": false,
     "start_time": "2022-11-22T12:17:57.792652",
     "status": "completed"
    },
    "tags": []
   },
   "outputs": [],
   "source": [
    "#hide\n",
    "def get_frame(name):\n",
    "    url = (\n",
    "        'https://raw.githubusercontent.com/CSSEGISandData/COVID-19/master/csse_covid_19_data/'\n",
    "        f'csse_covid_19_time_series/time_series_covid19_{name}_global.csv')\n",
    "    df = pd.read_csv(url)\n",
    "    # rename countries\n",
    "    df['Country/Region'] = df['Country/Region'].replace(mapping['replace.country'])\n",
    "    return df"
   ]
  },
  {
   "cell_type": "code",
   "execution_count": 8,
   "id": "affiliated-characterization",
   "metadata": {
    "execution": {
     "iopub.execute_input": "2022-11-22T12:17:57.892229Z",
     "iopub.status.busy": "2022-11-22T12:17:57.891657Z",
     "iopub.status.idle": "2022-11-22T12:17:57.894136Z",
     "shell.execute_reply": "2022-11-22T12:17:57.894548Z"
    },
    "papermill": {
     "duration": 0.037092,
     "end_time": "2022-11-22T12:17:57.894665",
     "exception": false,
     "start_time": "2022-11-22T12:17:57.857573",
     "status": "completed"
    },
    "tags": []
   },
   "outputs": [],
   "source": [
    "#hide\n",
    "def get_dates(df):\n",
    "    dt_cols = df.columns[~df.columns.isin(['Province/State', 'Country/Region', 'Lat', 'Long'])]\n",
    "    LAST_DATE_I = -1\n",
    "    # sometimes last column may be empty, then go backwards\n",
    "    for i in range(-1, -len(dt_cols), -1):\n",
    "        if not df[dt_cols[i]].fillna(0).eq(0).all():\n",
    "            LAST_DATE_I = i\n",
    "            break\n",
    "    return LAST_DATE_I, dt_cols"
   ]
  },
  {
   "cell_type": "code",
   "execution_count": 9,
   "id": "recent-optimization",
   "metadata": {
    "execution": {
     "iopub.execute_input": "2022-11-22T12:17:57.956991Z",
     "iopub.status.busy": "2022-11-22T12:17:57.956334Z",
     "iopub.status.idle": "2022-11-22T12:17:58.622405Z",
     "shell.execute_reply": "2022-11-22T12:17:58.621857Z"
    },
    "papermill": {
     "duration": 0.698915,
     "end_time": "2022-11-22T12:17:58.622540",
     "exception": false,
     "start_time": "2022-11-22T12:17:57.923625",
     "status": "completed"
    },
    "tags": []
   },
   "outputs": [],
   "source": [
    "#hide\n",
    "COL_REGION = 'Country/Region'\n",
    "# Confirmed, Recovered, Deaths\n",
    "df = get_frame('confirmed')\n",
    "# dft_: timeseries, dfc_: today country agg\n",
    "dft_cases = df\n",
    "dft_deaths = get_frame('deaths')\n",
    "dft_recovered = get_frame('recovered')\n",
    "LAST_DATE_I, dt_cols = get_dates(df)"
   ]
  },
  {
   "cell_type": "code",
   "execution_count": 10,
   "id": "absolute-copper",
   "metadata": {
    "execution": {
     "iopub.execute_input": "2022-11-22T12:17:58.686678Z",
     "iopub.status.busy": "2022-11-22T12:17:58.686103Z",
     "iopub.status.idle": "2022-11-22T12:17:58.688378Z",
     "shell.execute_reply": "2022-11-22T12:17:58.688835Z"
    },
    "papermill": {
     "duration": 0.036876,
     "end_time": "2022-11-22T12:17:58.688954",
     "exception": false,
     "start_time": "2022-11-22T12:17:58.652078",
     "status": "completed"
    },
    "tags": []
   },
   "outputs": [],
   "source": [
    "#hide\n",
    "LAST_DATE_I, dt_cols = get_dates(df)\n",
    "dt_today =dt_cols[LAST_DATE_I]\n",
    "# dt_5day = dt_cols[LAST_DATE_I - 5]\n",
    "dt_yday = dt_cols[LAST_DATE_I - 1]"
   ]
  },
  {
   "cell_type": "code",
   "execution_count": 11,
   "id": "restricted-sheriff",
   "metadata": {
    "execution": {
     "iopub.execute_input": "2022-11-22T12:17:58.752351Z",
     "iopub.status.busy": "2022-11-22T12:17:58.751786Z",
     "iopub.status.idle": "2022-11-22T12:17:58.760180Z",
     "shell.execute_reply": "2022-11-22T12:17:58.759724Z"
    },
    "papermill": {
     "duration": 0.042288,
     "end_time": "2022-11-22T12:17:58.760283",
     "exception": false,
     "start_time": "2022-11-22T12:17:58.717995",
     "status": "completed"
    },
    "tags": []
   },
   "outputs": [],
   "source": [
    "#hide\n",
    "dfc_cases = dft_cases.groupby(COL_REGION)[dt_today].sum()\n",
    "dfc_deaths = dft_deaths.groupby(COL_REGION)[dt_today].sum()\n",
    "# dfp_cases = dft_cases.groupby(COL_REGION)[dt_5day].sum()\n",
    "# dfp_deaths = dft_deaths.groupby(COL_REGION)[dt_5day].sum()\n",
    "dfp_cases = dft_cases.groupby(COL_REGION)[dt_yday].sum()\n",
    "dfp_deaths = dft_deaths.groupby(COL_REGION)[dt_yday].sum()"
   ]
  },
  {
   "cell_type": "code",
   "execution_count": 12,
   "id": "deluxe-hepatitis",
   "metadata": {
    "execution": {
     "iopub.execute_input": "2022-11-22T12:17:58.823946Z",
     "iopub.status.busy": "2022-11-22T12:17:58.823374Z",
     "iopub.status.idle": "2022-11-22T12:17:58.827901Z",
     "shell.execute_reply": "2022-11-22T12:17:58.828361Z"
    },
    "papermill": {
     "duration": 0.039128,
     "end_time": "2022-11-22T12:17:58.828477",
     "exception": false,
     "start_time": "2022-11-22T12:17:58.789349",
     "status": "completed"
    },
    "tags": []
   },
   "outputs": [],
   "source": [
    "#hide\n",
    "df_table = (pd.DataFrame(dict(Cases = dfc_cases, Deaths = dfc_deaths, PCases = dfp_cases, PDeaths = dfp_deaths))\n",
    "            .sort_values(by = ['Cases','Deaths'], ascending = [False, False])\n",
    "            .reset_index())"
   ]
  },
  {
   "cell_type": "code",
   "execution_count": 13,
   "id": "educational-chancellor",
   "metadata": {
    "execution": {
     "iopub.execute_input": "2022-11-22T12:17:58.903737Z",
     "iopub.status.busy": "2022-11-22T12:17:58.903173Z",
     "iopub.status.idle": "2022-11-22T12:17:58.911141Z",
     "shell.execute_reply": "2022-11-22T12:17:58.910686Z"
    },
    "papermill": {
     "duration": 0.053876,
     "end_time": "2022-11-22T12:17:58.911242",
     "exception": false,
     "start_time": "2022-11-22T12:17:58.857366",
     "status": "completed"
    },
    "tags": []
   },
   "outputs": [
    {
     "data": {
      "text/html": [
       "<div>\n",
       "<style scoped>\n",
       "    .dataframe tbody tr th:only-of-type {\n",
       "        vertical-align: middle;\n",
       "    }\n",
       "\n",
       "    .dataframe tbody tr th {\n",
       "        vertical-align: top;\n",
       "    }\n",
       "\n",
       "    .dataframe thead th {\n",
       "        text-align: right;\n",
       "    }\n",
       "</style>\n",
       "<table border=\"1\" class=\"dataframe\">\n",
       "  <thead>\n",
       "    <tr style=\"text-align: right;\">\n",
       "      <th></th>\n",
       "      <th>Country/Region</th>\n",
       "      <th>Cases</th>\n",
       "      <th>Deaths</th>\n",
       "      <th>PCases</th>\n",
       "      <th>PDeaths</th>\n",
       "      <th>Cases (+)</th>\n",
       "      <th>Deaths (+)</th>\n",
       "      <th>Fatality Rate</th>\n",
       "      <th>Continent</th>\n",
       "    </tr>\n",
       "  </thead>\n",
       "  <tbody>\n",
       "    <tr>\n",
       "      <th>0</th>\n",
       "      <td>US</td>\n",
       "      <td>98351547</td>\n",
       "      <td>1077225</td>\n",
       "      <td>98308990</td>\n",
       "      <td>1077031</td>\n",
       "      <td>42557</td>\n",
       "      <td>194</td>\n",
       "      <td>1.10</td>\n",
       "      <td>North America</td>\n",
       "    </tr>\n",
       "    <tr>\n",
       "      <th>1</th>\n",
       "      <td>India</td>\n",
       "      <td>44670940</td>\n",
       "      <td>530591</td>\n",
       "      <td>44670646</td>\n",
       "      <td>530586</td>\n",
       "      <td>294</td>\n",
       "      <td>5</td>\n",
       "      <td>1.19</td>\n",
       "      <td>Asia</td>\n",
       "    </tr>\n",
       "    <tr>\n",
       "      <th>2</th>\n",
       "      <td>France</td>\n",
       "      <td>37576243</td>\n",
       "      <td>159378</td>\n",
       "      <td>37508185</td>\n",
       "      <td>159203</td>\n",
       "      <td>68058</td>\n",
       "      <td>175</td>\n",
       "      <td>0.42</td>\n",
       "      <td>Europe</td>\n",
       "    </tr>\n",
       "    <tr>\n",
       "      <th>3</th>\n",
       "      <td>Germany</td>\n",
       "      <td>36247081</td>\n",
       "      <td>156812</td>\n",
       "      <td>36205405</td>\n",
       "      <td>156613</td>\n",
       "      <td>41676</td>\n",
       "      <td>199</td>\n",
       "      <td>0.43</td>\n",
       "      <td>Europe</td>\n",
       "    </tr>\n",
       "    <tr>\n",
       "      <th>4</th>\n",
       "      <td>Brazil</td>\n",
       "      <td>34999495</td>\n",
       "      <td>688907</td>\n",
       "      <td>34999495</td>\n",
       "      <td>688907</td>\n",
       "      <td>0</td>\n",
       "      <td>0</td>\n",
       "      <td>1.97</td>\n",
       "      <td>South America</td>\n",
       "    </tr>\n",
       "  </tbody>\n",
       "</table>\n",
       "</div>"
      ],
      "text/plain": [
       "  Country/Region     Cases   Deaths    PCases  PDeaths  Cases (+)  Deaths (+)  \\\n",
       "0             US  98351547  1077225  98308990  1077031      42557         194   \n",
       "1          India  44670940   530591  44670646   530586        294           5   \n",
       "2         France  37576243   159378  37508185   159203      68058         175   \n",
       "3        Germany  36247081   156812  36205405   156613      41676         199   \n",
       "4         Brazil  34999495   688907  34999495   688907          0           0   \n",
       "\n",
       "   Fatality Rate      Continent  \n",
       "0           1.10  North America  \n",
       "1           1.19           Asia  \n",
       "2           0.42         Europe  \n",
       "3           0.43         Europe  \n",
       "4           1.97  South America  "
      ]
     },
     "execution_count": 13,
     "metadata": {},
     "output_type": "execute_result"
    }
   ],
   "source": [
    "#hide\n",
    "for c in 'Cases, Deaths'.split(', '):\n",
    "    df_table[f'{c} (+)'] = (df_table[c] - df_table[f'P{c}']).clip(0)\n",
    "    #Clip ça veut dire, les chiffres negatif sont interdit\n",
    "df_table['Fatality Rate'] = (100* df_table['Deaths']/ df_table['Cases']).round(2)\n",
    "df_table['Continent'] = df_table['Country/Region'].map(mapping['map.continent'])\n",
    "df_table.head(5)"
   ]
  },
  {
   "cell_type": "code",
   "execution_count": 14,
   "id": "aboriginal-bulgaria",
   "metadata": {
    "execution": {
     "iopub.execute_input": "2022-11-22T12:17:58.975689Z",
     "iopub.status.busy": "2022-11-22T12:17:58.975132Z",
     "iopub.status.idle": "2022-11-22T12:17:58.977523Z",
     "shell.execute_reply": "2022-11-22T12:17:58.978059Z"
    },
    "papermill": {
     "duration": 0.037274,
     "end_time": "2022-11-22T12:17:58.978174",
     "exception": false,
     "start_time": "2022-11-22T12:17:58.940900",
     "status": "completed"
    },
    "tags": []
   },
   "outputs": [],
   "source": [
    "#hide\n",
    "#delete problematic countries from table\n",
    "df_table = df_table[~df_table['Country/Region'].isin(['Cape Verde', 'Cruise Ship', 'Kosovo'])]"
   ]
  },
  {
   "cell_type": "code",
   "execution_count": 15,
   "id": "fantastic-effect",
   "metadata": {
    "execution": {
     "iopub.execute_input": "2022-11-22T12:17:59.044315Z",
     "iopub.status.busy": "2022-11-22T12:17:59.043751Z",
     "iopub.status.idle": "2022-11-22T12:17:59.060807Z",
     "shell.execute_reply": "2022-11-22T12:17:59.061222Z"
    },
    "papermill": {
     "duration": 0.053706,
     "end_time": "2022-11-22T12:17:59.061343",
     "exception": false,
     "start_time": "2022-11-22T12:17:59.007637",
     "status": "completed"
    },
    "tags": []
   },
   "outputs": [
    {
     "data": {
      "text/html": [
       "<div>\n",
       "<style scoped>\n",
       "    .dataframe tbody tr th:only-of-type {\n",
       "        vertical-align: middle;\n",
       "    }\n",
       "\n",
       "    .dataframe tbody tr th {\n",
       "        vertical-align: top;\n",
       "    }\n",
       "\n",
       "    .dataframe thead th {\n",
       "        text-align: right;\n",
       "    }\n",
       "</style>\n",
       "<table border=\"1\" class=\"dataframe\">\n",
       "  <thead>\n",
       "    <tr style=\"text-align: right;\">\n",
       "      <th></th>\n",
       "      <th>Country/Region</th>\n",
       "      <th>Cases</th>\n",
       "      <th>Deaths</th>\n",
       "      <th>PCases</th>\n",
       "      <th>PDeaths</th>\n",
       "      <th>Cases (+)</th>\n",
       "      <th>Deaths (+)</th>\n",
       "      <th>Fatality Rate</th>\n",
       "      <th>Continent</th>\n",
       "    </tr>\n",
       "  </thead>\n",
       "  <tbody>\n",
       "    <tr>\n",
       "      <th>0</th>\n",
       "      <td>US</td>\n",
       "      <td>98351547</td>\n",
       "      <td>1077225</td>\n",
       "      <td>98308990</td>\n",
       "      <td>1077031</td>\n",
       "      <td>42557</td>\n",
       "      <td>194</td>\n",
       "      <td>1.1</td>\n",
       "      <td>North America</td>\n",
       "    </tr>\n",
       "    <tr>\n",
       "      <th>1</th>\n",
       "      <td>India</td>\n",
       "      <td>44670940</td>\n",
       "      <td>530591</td>\n",
       "      <td>44670646</td>\n",
       "      <td>530586</td>\n",
       "      <td>294</td>\n",
       "      <td>5</td>\n",
       "      <td>1.2</td>\n",
       "      <td>Asia</td>\n",
       "    </tr>\n",
       "    <tr>\n",
       "      <th>2</th>\n",
       "      <td>France</td>\n",
       "      <td>37576243</td>\n",
       "      <td>159378</td>\n",
       "      <td>37508185</td>\n",
       "      <td>159203</td>\n",
       "      <td>68058</td>\n",
       "      <td>175</td>\n",
       "      <td>0.4</td>\n",
       "      <td>Europe</td>\n",
       "    </tr>\n",
       "    <tr>\n",
       "      <th>3</th>\n",
       "      <td>Germany</td>\n",
       "      <td>36247081</td>\n",
       "      <td>156812</td>\n",
       "      <td>36205405</td>\n",
       "      <td>156613</td>\n",
       "      <td>41676</td>\n",
       "      <td>199</td>\n",
       "      <td>0.4</td>\n",
       "      <td>Europe</td>\n",
       "    </tr>\n",
       "    <tr>\n",
       "      <th>4</th>\n",
       "      <td>Brazil</td>\n",
       "      <td>34999495</td>\n",
       "      <td>688907</td>\n",
       "      <td>34999495</td>\n",
       "      <td>688907</td>\n",
       "      <td>0</td>\n",
       "      <td>0</td>\n",
       "      <td>2.0</td>\n",
       "      <td>South America</td>\n",
       "    </tr>\n",
       "  </tbody>\n",
       "</table>\n",
       "</div>"
      ],
      "text/plain": [
       "  Country/Region     Cases   Deaths    PCases  PDeaths  Cases (+)  Deaths (+)  \\\n",
       "0             US  98351547  1077225  98308990  1077031      42557         194   \n",
       "1          India  44670940   530591  44670646   530586        294           5   \n",
       "2         France  37576243   159378  37508185   159203      68058         175   \n",
       "3        Germany  36247081   156812  36205405   156613      41676         199   \n",
       "4         Brazil  34999495   688907  34999495   688907          0           0   \n",
       "\n",
       "   Fatality Rate      Continent  \n",
       "0            1.1  North America  \n",
       "1            1.2           Asia  \n",
       "2            0.4         Europe  \n",
       "3            0.4         Europe  \n",
       "4            2.0  South America  "
      ]
     },
     "execution_count": 15,
     "metadata": {},
     "output_type": "execute_result"
    }
   ],
   "source": [
    "#hide\n",
    "df_table = (pd.DataFrame(dict(Cases=dfc_cases, Deaths=dfc_deaths, PCases=dfp_cases, PDeaths=dfp_deaths))\n",
    "             .sort_values(by=['Cases', 'Deaths'], ascending=[False, False])\n",
    "             .reset_index())\n",
    "df_table.rename(columns={'index': 'Country/Region'}, inplace=True)\n",
    "for c in 'Cases, Deaths'.split(', '):\n",
    "    df_table[f'{c} (+)'] = (df_table[c] - df_table[f'P{c}']).clip(0)  # DATA BUG\n",
    "df_table['Fatality Rate'] = (100 * df_table['Deaths'] / df_table['Cases']).round(1)\n",
    "df_table['Continent'] = df_table['Country/Region'].map(mapping['map.continent'])\n",
    "df_table.head(5)"
   ]
  },
  {
   "cell_type": "code",
   "execution_count": 16,
   "id": "fewer-occasion",
   "metadata": {
    "execution": {
     "iopub.execute_input": "2022-11-22T12:17:59.127041Z",
     "iopub.status.busy": "2022-11-22T12:17:59.126400Z",
     "iopub.status.idle": "2022-11-22T12:17:59.128830Z",
     "shell.execute_reply": "2022-11-22T12:17:59.128178Z"
    },
    "papermill": {
     "duration": 0.037313,
     "end_time": "2022-11-22T12:17:59.128949",
     "exception": false,
     "start_time": "2022-11-22T12:17:59.091636",
     "status": "completed"
    },
    "tags": []
   },
   "outputs": [],
   "source": [
    "#hide\n",
    "#delete problematic countries from table\n",
    "df_table = df_table[~df_table['Country/Region'].isin(['Cape Verde', 'Cruise Ship', 'Kosovo'])]"
   ]
  },
  {
   "cell_type": "code",
   "execution_count": 17,
   "id": "related-center",
   "metadata": {
    "execution": {
     "iopub.execute_input": "2022-11-22T12:17:59.195602Z",
     "iopub.status.busy": "2022-11-22T12:17:59.195034Z",
     "iopub.status.idle": "2022-11-22T12:17:59.208027Z",
     "shell.execute_reply": "2022-11-22T12:17:59.207477Z"
    },
    "papermill": {
     "duration": 0.048899,
     "end_time": "2022-11-22T12:17:59.208127",
     "exception": false,
     "start_time": "2022-11-22T12:17:59.159228",
     "status": "completed"
    },
    "tags": []
   },
   "outputs": [],
   "source": [
    "#hide\n",
    "metrics = [df_table.columns[index] for index in [1,2,5,6]]\n",
    "# s_china = df_table[df_table['Country/Region'].eq('China')][metrics].sum().add_prefix('China ')\n",
    "s_us = df_table[df_table['Country/Region'].eq('US')][metrics].sum().add_prefix('US ')\n",
    "s_eu = df_table[df_table['Continent'].eq('Europe')][metrics].sum().add_prefix('EU ')\n",
    "s_ind = df_table[df_table['Country/Region'].eq('India')][metrics].sum().add_prefix('India ')\n",
    "summary = {'updated': pd.to_datetime(dt_today), 'since': pd.to_datetime(dt_yday)}\n",
    "summary = {'updated': pd.to_datetime(dt_today), 'since': pd.to_datetime(dt_yday)}\n",
    "summary = {**summary, **df_table[metrics].sum(), **s_ind, **s_us, **s_eu}"
   ]
  },
  {
   "cell_type": "code",
   "execution_count": 18,
   "id": "engaging-syndrome",
   "metadata": {
    "execution": {
     "iopub.execute_input": "2022-11-22T12:17:59.273358Z",
     "iopub.status.busy": "2022-11-22T12:17:59.272657Z",
     "iopub.status.idle": "2022-11-22T12:17:59.293867Z",
     "shell.execute_reply": "2022-11-22T12:17:59.293361Z"
    },
    "papermill": {
     "duration": 0.055718,
     "end_time": "2022-11-22T12:17:59.293972",
     "exception": false,
     "start_time": "2022-11-22T12:17:59.238254",
     "status": "completed"
    },
    "tags": []
   },
   "outputs": [],
   "source": [
    "#hide\n",
    "dft_ct_new_cases = dft_cases.groupby(COL_REGION)[dt_cols].sum().diff(axis=1).fillna(0).astype(int)"
   ]
  },
  {
   "cell_type": "code",
   "execution_count": 19,
   "id": "neutral-assignment",
   "metadata": {
    "execution": {
     "iopub.execute_input": "2022-11-22T12:17:59.359531Z",
     "iopub.status.busy": "2022-11-22T12:17:59.358964Z",
     "iopub.status.idle": "2022-11-22T12:17:59.361320Z",
     "shell.execute_reply": "2022-11-22T12:17:59.361859Z"
    },
    "papermill": {
     "duration": 0.03773,
     "end_time": "2022-11-22T12:17:59.361974",
     "exception": false,
     "start_time": "2022-11-22T12:17:59.324244",
     "status": "completed"
    },
    "tags": []
   },
   "outputs": [],
   "source": [
    "#hide\n",
    "everydaycases = dft_ct_new_cases.cumsum(axis=1)"
   ]
  },
  {
   "cell_type": "code",
   "execution_count": 20,
   "id": "parliamentary-calgary",
   "metadata": {
    "execution": {
     "iopub.execute_input": "2022-11-22T12:17:59.426110Z",
     "iopub.status.busy": "2022-11-22T12:17:59.425542Z",
     "iopub.status.idle": "2022-11-22T12:18:00.026181Z",
     "shell.execute_reply": "2022-11-22T12:18:00.025274Z"
    },
    "papermill": {
     "duration": 0.634295,
     "end_time": "2022-11-22T12:18:00.026313",
     "exception": false,
     "start_time": "2022-11-22T12:17:59.392018",
     "status": "completed"
    },
    "tags": []
   },
   "outputs": [],
   "source": [
    "#hide\n",
    "import pandas as pd\n",
    "import matplotlib.pyplot as plt\n",
    "import matplotlib.ticker as ticker\n",
    "import matplotlib.animation as animation\n",
    "from IPython.display import HTML"
   ]
  },
  {
   "cell_type": "code",
   "execution_count": 21,
   "id": "lasting-extraction",
   "metadata": {
    "execution": {
     "iopub.execute_input": "2022-11-22T12:18:00.093721Z",
     "iopub.status.busy": "2022-11-22T12:18:00.093138Z",
     "iopub.status.idle": "2022-11-22T12:18:00.100300Z",
     "shell.execute_reply": "2022-11-22T12:18:00.100857Z"
    },
    "papermill": {
     "duration": 0.044484,
     "end_time": "2022-11-22T12:18:00.100983",
     "exception": false,
     "start_time": "2022-11-22T12:18:00.056499",
     "status": "completed"
    },
    "tags": []
   },
   "outputs": [],
   "source": [
    "#hide\n",
    "t = everydaycases.stack()"
   ]
  },
  {
   "cell_type": "code",
   "execution_count": 22,
   "id": "premier-sleeve",
   "metadata": {
    "execution": {
     "iopub.execute_input": "2022-11-22T12:18:00.165819Z",
     "iopub.status.busy": "2022-11-22T12:18:00.165171Z",
     "iopub.status.idle": "2022-11-22T12:18:00.177423Z",
     "shell.execute_reply": "2022-11-22T12:18:00.177977Z"
    },
    "papermill": {
     "duration": 0.046825,
     "end_time": "2022-11-22T12:18:00.178104",
     "exception": false,
     "start_time": "2022-11-22T12:18:00.131279",
     "status": "completed"
    },
    "tags": []
   },
   "outputs": [],
   "source": [
    "#hide\n",
    "g = t.reset_index(['Country/Region'])"
   ]
  },
  {
   "cell_type": "code",
   "execution_count": 23,
   "id": "distributed-pittsburgh",
   "metadata": {
    "execution": {
     "iopub.execute_input": "2022-11-22T12:18:00.242438Z",
     "iopub.status.busy": "2022-11-22T12:18:00.241873Z",
     "iopub.status.idle": "2022-11-22T12:18:00.243873Z",
     "shell.execute_reply": "2022-11-22T12:18:00.244412Z"
    },
    "papermill": {
     "duration": 0.036396,
     "end_time": "2022-11-22T12:18:00.244535",
     "exception": false,
     "start_time": "2022-11-22T12:18:00.208139",
     "status": "completed"
    },
    "tags": []
   },
   "outputs": [],
   "source": [
    "#hide\n",
    "g.index.name = 'date'"
   ]
  },
  {
   "cell_type": "code",
   "execution_count": 24,
   "id": "naked-donor",
   "metadata": {
    "execution": {
     "iopub.execute_input": "2022-11-22T12:18:00.308292Z",
     "iopub.status.busy": "2022-11-22T12:18:00.307644Z",
     "iopub.status.idle": "2022-11-22T12:18:00.310138Z",
     "shell.execute_reply": "2022-11-22T12:18:00.309699Z"
    },
    "papermill": {
     "duration": 0.035595,
     "end_time": "2022-11-22T12:18:00.310247",
     "exception": false,
     "start_time": "2022-11-22T12:18:00.274652",
     "status": "completed"
    },
    "tags": []
   },
   "outputs": [],
   "source": [
    "# #hide\n",
    "# g = g.reset_index(['date'])"
   ]
  },
  {
   "cell_type": "code",
   "execution_count": 25,
   "id": "incomplete-mustang",
   "metadata": {
    "execution": {
     "iopub.execute_input": "2022-11-22T12:18:00.374563Z",
     "iopub.status.busy": "2022-11-22T12:18:00.373916Z",
     "iopub.status.idle": "2022-11-22T12:18:00.376025Z",
     "shell.execute_reply": "2022-11-22T12:18:00.376494Z"
    },
    "papermill": {
     "duration": 0.035807,
     "end_time": "2022-11-22T12:18:00.376629",
     "exception": false,
     "start_time": "2022-11-22T12:18:00.340822",
     "status": "completed"
    },
    "tags": []
   },
   "outputs": [],
   "source": [
    "#hide\n",
    "# g.head()"
   ]
  },
  {
   "cell_type": "code",
   "execution_count": 26,
   "id": "specific-kruger",
   "metadata": {
    "execution": {
     "iopub.execute_input": "2022-11-22T12:18:00.440961Z",
     "iopub.status.busy": "2022-11-22T12:18:00.440281Z",
     "iopub.status.idle": "2022-11-22T12:18:00.443001Z",
     "shell.execute_reply": "2022-11-22T12:18:00.442546Z"
    },
    "papermill": {
     "duration": 0.035876,
     "end_time": "2022-11-22T12:18:00.443105",
     "exception": false,
     "start_time": "2022-11-22T12:18:00.407229",
     "status": "completed"
    },
    "tags": []
   },
   "outputs": [],
   "source": [
    "#hide\n",
    "# g.columns = ['date','country','cases']"
   ]
  },
  {
   "cell_type": "code",
   "execution_count": 27,
   "id": "tender-conversion",
   "metadata": {
    "execution": {
     "iopub.execute_input": "2022-11-22T12:18:00.506165Z",
     "iopub.status.busy": "2022-11-22T12:18:00.505604Z",
     "iopub.status.idle": "2022-11-22T12:18:00.508574Z",
     "shell.execute_reply": "2022-11-22T12:18:00.508122Z"
    },
    "papermill": {
     "duration": 0.035655,
     "end_time": "2022-11-22T12:18:00.508676",
     "exception": false,
     "start_time": "2022-11-22T12:18:00.473021",
     "status": "completed"
    },
    "tags": []
   },
   "outputs": [],
   "source": [
    "#hide\n",
    "# g['continent'] = g.country"
   ]
  },
  {
   "cell_type": "code",
   "execution_count": 28,
   "id": "substantial-wilderness",
   "metadata": {
    "execution": {
     "iopub.execute_input": "2022-11-22T12:18:00.572388Z",
     "iopub.status.busy": "2022-11-22T12:18:00.571747Z",
     "iopub.status.idle": "2022-11-22T12:18:00.574144Z",
     "shell.execute_reply": "2022-11-22T12:18:00.573689Z"
    },
    "papermill": {
     "duration": 0.035535,
     "end_time": "2022-11-22T12:18:00.574246",
     "exception": false,
     "start_time": "2022-11-22T12:18:00.538711",
     "status": "completed"
    },
    "tags": []
   },
   "outputs": [],
   "source": [
    "#hide\n",
    "# cols = list(g.columns.values)"
   ]
  },
  {
   "cell_type": "code",
   "execution_count": 29,
   "id": "solved-farming",
   "metadata": {
    "execution": {
     "iopub.execute_input": "2022-11-22T12:18:00.637534Z",
     "iopub.status.busy": "2022-11-22T12:18:00.636885Z",
     "iopub.status.idle": "2022-11-22T12:18:00.639355Z",
     "shell.execute_reply": "2022-11-22T12:18:00.638833Z"
    },
    "papermill": {
     "duration": 0.035346,
     "end_time": "2022-11-22T12:18:00.639470",
     "exception": false,
     "start_time": "2022-11-22T12:18:00.604124",
     "status": "completed"
    },
    "tags": []
   },
   "outputs": [],
   "source": [
    "#hide\n",
    "# cols.insert(0, cols.pop())"
   ]
  },
  {
   "cell_type": "code",
   "execution_count": 30,
   "id": "executed-adoption",
   "metadata": {
    "execution": {
     "iopub.execute_input": "2022-11-22T12:18:00.703357Z",
     "iopub.status.busy": "2022-11-22T12:18:00.702791Z",
     "iopub.status.idle": "2022-11-22T12:18:00.705064Z",
     "shell.execute_reply": "2022-11-22T12:18:00.705532Z"
    },
    "papermill": {
     "duration": 0.035667,
     "end_time": "2022-11-22T12:18:00.705646",
     "exception": false,
     "start_time": "2022-11-22T12:18:00.669979",
     "status": "completed"
    },
    "tags": []
   },
   "outputs": [],
   "source": [
    "#hide\n",
    "# g = g[cols]"
   ]
  },
  {
   "cell_type": "code",
   "execution_count": 31,
   "id": "subject-dublin",
   "metadata": {
    "execution": {
     "iopub.execute_input": "2022-11-22T12:18:00.769426Z",
     "iopub.status.busy": "2022-11-22T12:18:00.768847Z",
     "iopub.status.idle": "2022-11-22T12:18:00.771029Z",
     "shell.execute_reply": "2022-11-22T12:18:00.771563Z"
    },
    "papermill": {
     "duration": 0.036075,
     "end_time": "2022-11-22T12:18:00.771682",
     "exception": false,
     "start_time": "2022-11-22T12:18:00.735607",
     "status": "completed"
    },
    "tags": []
   },
   "outputs": [],
   "source": [
    "#hide\n",
    "# g['continent'] = g['continent'].map(mapping['map.continent'])"
   ]
  },
  {
   "cell_type": "code",
   "execution_count": 32,
   "id": "freelance-scout",
   "metadata": {
    "execution": {
     "iopub.execute_input": "2022-11-22T12:18:00.835185Z",
     "iopub.status.busy": "2022-11-22T12:18:00.834542Z",
     "iopub.status.idle": "2022-11-22T12:18:00.836549Z",
     "shell.execute_reply": "2022-11-22T12:18:00.836983Z"
    },
    "papermill": {
     "duration": 0.03538,
     "end_time": "2022-11-22T12:18:00.837103",
     "exception": false,
     "start_time": "2022-11-22T12:18:00.801723",
     "status": "completed"
    },
    "tags": []
   },
   "outputs": [],
   "source": [
    "#hide\n",
    "# g.head()"
   ]
  },
  {
   "cell_type": "code",
   "execution_count": 33,
   "id": "limited-engine",
   "metadata": {
    "execution": {
     "iopub.execute_input": "2022-11-22T12:18:00.900343Z",
     "iopub.status.busy": "2022-11-22T12:18:00.899704Z",
     "iopub.status.idle": "2022-11-22T12:18:00.901743Z",
     "shell.execute_reply": "2022-11-22T12:18:00.902215Z"
    },
    "papermill": {
     "duration": 0.03536,
     "end_time": "2022-11-22T12:18:00.902344",
     "exception": false,
     "start_time": "2022-11-22T12:18:00.866984",
     "status": "completed"
    },
    "tags": []
   },
   "outputs": [],
   "source": [
    "# hide\n",
    "# g['date'] = g['date'].astype('datetime64[ns]')"
   ]
  },
  {
   "cell_type": "code",
   "execution_count": 34,
   "id": "sophisticated-supervisor",
   "metadata": {
    "execution": {
     "iopub.execute_input": "2022-11-22T12:18:00.966462Z",
     "iopub.status.busy": "2022-11-22T12:18:00.965821Z",
     "iopub.status.idle": "2022-11-22T12:18:00.968356Z",
     "shell.execute_reply": "2022-11-22T12:18:00.967839Z"
    },
    "papermill": {
     "duration": 0.035329,
     "end_time": "2022-11-22T12:18:00.968460",
     "exception": false,
     "start_time": "2022-11-22T12:18:00.933131",
     "status": "completed"
    },
    "tags": []
   },
   "outputs": [],
   "source": [
    "#hide\n",
    "# g['date'] = g.date.dt.dayofyear"
   ]
  },
  {
   "cell_type": "code",
   "execution_count": 35,
   "id": "inside-dubai",
   "metadata": {
    "execution": {
     "iopub.execute_input": "2022-11-22T12:18:01.031740Z",
     "iopub.status.busy": "2022-11-22T12:18:01.031097Z",
     "iopub.status.idle": "2022-11-22T12:18:01.033616Z",
     "shell.execute_reply": "2022-11-22T12:18:01.032961Z"
    },
    "papermill": {
     "duration": 0.035261,
     "end_time": "2022-11-22T12:18:01.033730",
     "exception": false,
     "start_time": "2022-11-22T12:18:00.998469",
     "status": "completed"
    },
    "tags": []
   },
   "outputs": [],
   "source": [
    "#hide\n",
    "# g = g.rename(columns= {'continent':'group','country':'name','cases':'value'})"
   ]
  },
  {
   "cell_type": "code",
   "execution_count": 36,
   "id": "fleet-motorcycle",
   "metadata": {
    "execution": {
     "iopub.execute_input": "2022-11-22T12:18:01.097925Z",
     "iopub.status.busy": "2022-11-22T12:18:01.097348Z",
     "iopub.status.idle": "2022-11-22T12:18:01.099834Z",
     "shell.execute_reply": "2022-11-22T12:18:01.099275Z"
    },
    "papermill": {
     "duration": 0.035311,
     "end_time": "2022-11-22T12:18:01.099935",
     "exception": false,
     "start_time": "2022-11-22T12:18:01.064624",
     "status": "completed"
    },
    "tags": []
   },
   "outputs": [],
   "source": [
    "#hide\n",
    "# cols = ['name','group','day','value']"
   ]
  },
  {
   "cell_type": "code",
   "execution_count": 37,
   "id": "continued-sleeping",
   "metadata": {
    "execution": {
     "iopub.execute_input": "2022-11-22T12:18:01.163388Z",
     "iopub.status.busy": "2022-11-22T12:18:01.162747Z",
     "iopub.status.idle": "2022-11-22T12:18:01.167139Z",
     "shell.execute_reply": "2022-11-22T12:18:01.166676Z"
    },
    "papermill": {
     "duration": 0.037366,
     "end_time": "2022-11-22T12:18:01.167236",
     "exception": false,
     "start_time": "2022-11-22T12:18:01.129870",
     "status": "completed"
    },
    "tags": []
   },
   "outputs": [],
   "source": [
    "#hide\n",
    "# g.rename(columns= {'date':'day'},inplace = True)"
   ]
  },
  {
   "cell_type": "code",
   "execution_count": 38,
   "id": "major-fight",
   "metadata": {
    "execution": {
     "iopub.execute_input": "2022-11-22T12:18:01.230790Z",
     "iopub.status.busy": "2022-11-22T12:18:01.230141Z",
     "iopub.status.idle": "2022-11-22T12:18:01.232621Z",
     "shell.execute_reply": "2022-11-22T12:18:01.231991Z"
    },
    "papermill": {
     "duration": 0.035332,
     "end_time": "2022-11-22T12:18:01.232718",
     "exception": false,
     "start_time": "2022-11-22T12:18:01.197386",
     "status": "completed"
    },
    "tags": []
   },
   "outputs": [],
   "source": [
    "#hide\n",
    "# g = g[cols]"
   ]
  },
  {
   "cell_type": "code",
   "execution_count": 39,
   "id": "structured-mobile",
   "metadata": {
    "execution": {
     "iopub.execute_input": "2022-11-22T12:18:01.295923Z",
     "iopub.status.busy": "2022-11-22T12:18:01.295286Z",
     "iopub.status.idle": "2022-11-22T12:18:01.297320Z",
     "shell.execute_reply": "2022-11-22T12:18:01.297785Z"
    },
    "papermill": {
     "duration": 0.03533,
     "end_time": "2022-11-22T12:18:01.297910",
     "exception": false,
     "start_time": "2022-11-22T12:18:01.262580",
     "status": "completed"
    },
    "tags": []
   },
   "outputs": [],
   "source": [
    "# #hide\n",
    "# g = g[g.group.notna()]"
   ]
  },
  {
   "cell_type": "code",
   "execution_count": 40,
   "id": "determined-closing",
   "metadata": {
    "execution": {
     "iopub.execute_input": "2022-11-22T12:18:01.362720Z",
     "iopub.status.busy": "2022-11-22T12:18:01.362071Z",
     "iopub.status.idle": "2022-11-22T12:18:01.364458Z",
     "shell.execute_reply": "2022-11-22T12:18:01.363916Z"
    },
    "papermill": {
     "duration": 0.035869,
     "end_time": "2022-11-22T12:18:01.364555",
     "exception": false,
     "start_time": "2022-11-22T12:18:01.328686",
     "status": "completed"
    },
    "tags": []
   },
   "outputs": [],
   "source": [
    "# #hide\n",
    "# colors = dict(zip(\n",
    "#     [\"Oceania\", \"Europe\", \"Asia\", \"South America\", \"Middle East\", \"North America\", \"Africa\"],\n",
    "#     [\"#adb0ff\", \"#ffb3ff\", \"#90d595\", \"#e48381\", \"#aafbff\", \"#f7bb5f\", \"#eafb50\"]\n",
    "# ))\n",
    "# group_lk = g.set_index('name')['group'].to_dict()"
   ]
  },
  {
   "cell_type": "code",
   "execution_count": null,
   "id": "gross-drinking",
   "metadata": {
    "papermill": {
     "duration": 0.030016,
     "end_time": "2022-11-22T12:18:01.424478",
     "exception": false,
     "start_time": "2022-11-22T12:18:01.394462",
     "status": "completed"
    },
    "tags": []
   },
   "outputs": [],
   "source": []
  },
  {
   "cell_type": "code",
   "execution_count": 41,
   "id": "subject-macintosh",
   "metadata": {
    "execution": {
     "iopub.execute_input": "2022-11-22T12:18:01.488296Z",
     "iopub.status.busy": "2022-11-22T12:18:01.487722Z",
     "iopub.status.idle": "2022-11-22T12:18:01.490222Z",
     "shell.execute_reply": "2022-11-22T12:18:01.490682Z"
    },
    "papermill": {
     "duration": 0.036159,
     "end_time": "2022-11-22T12:18:01.490790",
     "exception": false,
     "start_time": "2022-11-22T12:18:01.454631",
     "status": "completed"
    },
    "tags": []
   },
   "outputs": [],
   "source": [
    "# #hide\n",
    "# fig, ax = plt.subplots(figsize=(15, 8))\n",
    "\n",
    "# def draw_barchart(current_day):\n",
    "#     dff = g[g['day'].eq(current_day)].sort_values(by='value', ascending=True).tail(10)\n",
    "#     ax.clear()\n",
    "#     ax.barh(dff['name'], dff['value'], color=[colors[group_lk[x]] for x in dff['name']])\n",
    "#     dx = dff['value'].max() / 200\n",
    "    \n",
    "#     for i, (value, name) in enumerate(zip(dff['value'], dff['name'])):\n",
    "#         ax.text(value-dx, i,     name,           size=14, weight=600, ha='right', va='bottom')\n",
    "#         ax.text(value-dx, i-.25, group_lk[name], size=10, color='#444444', ha='right', va='baseline')\n",
    "#         ax.text(value+dx, i,     f'{value:,.0f}',  size=14, ha='left',  va='center')\n",
    "#     ax.text(1, 0.4, current_day, transform=ax.transAxes, color='#777777', size=46, ha='right', weight=800)\n",
    "#     ax.text(0, 1.06, 'Population (thousands)', transform=ax.transAxes, size=12, color='#777777')\n",
    "#     ax.xaxis.set_major_formatter(ticker.StrMethodFormatter('{x:,.0f}'))\n",
    "#     ax.xaxis.set_ticks_position('top')\n",
    "#     ax.tick_params(axis='x', colors='#777777', labelsize=12)\n",
    "#     ax.set_yticks([])\n",
    "#     ax.margins(0, 0.01)\n",
    "#     ax.grid(which='major', axis='x', linestyle='-')\n",
    "#     ax.set_axisbelow(True)\n",
    "    \n",
    "#     ax.text(0, 1.15, 'Coronavirus',\n",
    "#             transform=ax.transAxes, size=24, weight=600, ha='left', va='top')\n",
    "# #     ax.text(1, 0, 'by @pratapvardhan; credit @jburnmurdoch', transform=ax.transAxes, color='#777777', ha='right',\n",
    "# #             bbox=dict(facecolor='white', alpha=0.8, edgecolor='white'))\n",
    "#     plt.box(False)"
   ]
  },
  {
   "cell_type": "code",
   "execution_count": 42,
   "id": "sexual-wages",
   "metadata": {
    "execution": {
     "iopub.execute_input": "2022-11-22T12:18:01.554222Z",
     "iopub.status.busy": "2022-11-22T12:18:01.553579Z",
     "iopub.status.idle": "2022-11-22T12:18:01.557177Z",
     "shell.execute_reply": "2022-11-22T12:18:01.557589Z"
    },
    "papermill": {
     "duration": 0.03693,
     "end_time": "2022-11-22T12:18:01.557700",
     "exception": false,
     "start_time": "2022-11-22T12:18:01.520770",
     "status": "completed"
    },
    "tags": []
   },
   "outputs": [],
   "source": [
    "# #hide_input\n",
    "# fig, ax = plt.subplots(figsize=(15, 8))\n",
    "# animator = animation.FuncAnimation(fig, draw_barchart, frames=range(g.day.values.min(), g.day.values.max()))\n",
    "# HTML(animator.to_jshtml())\n",
    "# # or use animator.to_html5_video() or animator.save() "
   ]
  },
  {
   "cell_type": "code",
   "execution_count": null,
   "id": "australian-container",
   "metadata": {
    "papermill": {
     "duration": 0.030061,
     "end_time": "2022-11-22T12:18:01.617900",
     "exception": false,
     "start_time": "2022-11-22T12:18:01.587839",
     "status": "completed"
    },
    "tags": []
   },
   "outputs": [],
   "source": []
  },
  {
   "cell_type": "code",
   "execution_count": null,
   "id": "mediterranean-pontiac",
   "metadata": {
    "papermill": {
     "duration": 0.02984,
     "end_time": "2022-11-22T12:18:01.677585",
     "exception": false,
     "start_time": "2022-11-22T12:18:01.647745",
     "status": "completed"
    },
    "tags": []
   },
   "outputs": [],
   "source": []
  },
  {
   "cell_type": "code",
   "execution_count": null,
   "id": "aging-legislature",
   "metadata": {
    "papermill": {
     "duration": 0.030128,
     "end_time": "2022-11-22T12:18:01.737831",
     "exception": false,
     "start_time": "2022-11-22T12:18:01.707703",
     "status": "completed"
    },
    "tags": []
   },
   "outputs": [],
   "source": []
  }
 ],
 "metadata": {
  "kernelspec": {
   "display_name": "Python 3",
   "language": "python",
   "name": "python3"
  },
  "language_info": {
   "codemirror_mode": {
    "name": "ipython",
    "version": 3
   },
   "file_extension": ".py",
   "mimetype": "text/x-python",
   "name": "python",
   "nbconvert_exporter": "python",
   "pygments_lexer": "ipython3",
   "version": "3.6.15"
  },
  "papermill": {
   "duration": 6.067751,
   "end_time": "2022-11-22T12:18:02.087383",
   "environment_variables": {},
   "exception": null,
   "input_path": "2020-03-21-covid19exp.ipynb",
   "output_path": "2020-03-21-covid19exp.ipynb",
   "parameters": {},
   "start_time": "2022-11-22T12:17:56.019632",
   "version": "2.0.0"
  }
 },
 "nbformat": 4,
 "nbformat_minor": 5
}