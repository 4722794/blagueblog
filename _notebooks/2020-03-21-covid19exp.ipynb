{
 "cells": [
  {
   "cell_type": "markdown",
   "id": "muslim-click",
   "metadata": {
    "papermill": {
     "duration": 0.043181,
     "end_time": "2021-06-22T12:10:30.814303",
     "exception": false,
     "start_time": "2021-06-22T12:10:30.771122",
     "status": "completed"
    },
    "tags": []
   },
   "source": [
    "# COVID-19 Case Race\n",
    "> A race chart to see rising cases around the world\n",
    "\n",
    "- author: Hargun Oberoi\n",
    "- image: images/covid-overview.png\n",
    "- hide: false\n",
    "- badges: false"
   ]
  },
  {
   "cell_type": "code",
   "execution_count": 1,
   "id": "proof-material",
   "metadata": {
    "execution": {
     "iopub.execute_input": "2021-06-22T12:10:30.903314Z",
     "iopub.status.busy": "2021-06-22T12:10:30.902550Z",
     "iopub.status.idle": "2021-06-22T12:10:31.312482Z",
     "shell.execute_reply": "2021-06-22T12:10:31.311824Z"
    },
    "papermill": {
     "duration": 0.458797,
     "end_time": "2021-06-22T12:10:31.312724",
     "exception": false,
     "start_time": "2021-06-22T12:10:30.853927",
     "status": "completed"
    },
    "tags": []
   },
   "outputs": [],
   "source": [
    "#hide\n",
    "import numpy as np\n",
    "import pandas as pd\n",
    "from jinja2 import Template\n",
    "from IPython.display import HTML"
   ]
  },
  {
   "cell_type": "code",
   "execution_count": 2,
   "id": "developed-terminology",
   "metadata": {
    "execution": {
     "iopub.execute_input": "2021-06-22T12:10:31.398995Z",
     "iopub.status.busy": "2021-06-22T12:10:31.398333Z",
     "iopub.status.idle": "2021-06-22T12:10:31.400773Z",
     "shell.execute_reply": "2021-06-22T12:10:31.400239Z"
    },
    "papermill": {
     "duration": 0.047331,
     "end_time": "2021-06-22T12:10:31.400893",
     "exception": false,
     "start_time": "2021-06-22T12:10:31.353562",
     "status": "completed"
    },
    "tags": []
   },
   "outputs": [],
   "source": [
    "#hide\n",
    "\n",
    "# FETCH\n",
    "base_url = 'https://raw.githubusercontent.com/pratapvardhan/notebooks/master/covid19/'\n",
    "paths = {\n",
    "    'mapping': base_url + 'mapping_countries.csv',\n",
    "    'overview': base_url + 'overview.tpl'\n",
    "}"
   ]
  },
  {
   "cell_type": "code",
   "execution_count": 3,
   "id": "dynamic-saver",
   "metadata": {
    "execution": {
     "iopub.execute_input": "2021-06-22T12:10:31.488412Z",
     "iopub.status.busy": "2021-06-22T12:10:31.487671Z",
     "iopub.status.idle": "2021-06-22T12:10:31.490403Z",
     "shell.execute_reply": "2021-06-22T12:10:31.490986Z"
    },
    "papermill": {
     "duration": 0.052359,
     "end_time": "2021-06-22T12:10:31.491147",
     "exception": false,
     "start_time": "2021-06-22T12:10:31.438788",
     "status": "completed"
    },
    "tags": []
   },
   "outputs": [
    {
     "data": {
      "text/plain": [
       "'https://raw.githubusercontent.com/pratapvardhan/notebooks/master/covid19/mapping_countries.csv'"
      ]
     },
     "execution_count": 3,
     "metadata": {},
     "output_type": "execute_result"
    }
   ],
   "source": [
    "#hide\n",
    "paths['mapping']"
   ]
  },
  {
   "cell_type": "code",
   "execution_count": 4,
   "id": "urban-software",
   "metadata": {
    "execution": {
     "iopub.execute_input": "2021-06-22T12:10:31.580852Z",
     "iopub.status.busy": "2021-06-22T12:10:31.579925Z",
     "iopub.status.idle": "2021-06-22T12:10:31.581713Z",
     "shell.execute_reply": "2021-06-22T12:10:31.582742Z"
    },
    "papermill": {
     "duration": 0.051101,
     "end_time": "2021-06-22T12:10:31.582893",
     "exception": false,
     "start_time": "2021-06-22T12:10:31.531792",
     "status": "completed"
    },
    "tags": []
   },
   "outputs": [],
   "source": [
    "#hide\n",
    "def get_mappings(url):\n",
    "    df = pd.read_csv(url)\n",
    "    return {\n",
    "        'df': df,\n",
    "        'replace.country': dict(df.dropna(subset=['Name']).set_index('Country')['Name']),\n",
    "        'map.continent': dict(df.set_index('Name')['Continent'])\n",
    "    }"
   ]
  },
  {
   "cell_type": "code",
   "execution_count": 5,
   "id": "intimate-machinery",
   "metadata": {
    "execution": {
     "iopub.execute_input": "2021-06-22T12:10:31.671011Z",
     "iopub.status.busy": "2021-06-22T12:10:31.670343Z",
     "iopub.status.idle": "2021-06-22T12:10:31.714352Z",
     "shell.execute_reply": "2021-06-22T12:10:31.714876Z"
    },
    "papermill": {
     "duration": 0.089326,
     "end_time": "2021-06-22T12:10:31.715034",
     "exception": false,
     "start_time": "2021-06-22T12:10:31.625708",
     "status": "completed"
    },
    "tags": []
   },
   "outputs": [],
   "source": [
    "#hide\n",
    "mapping = get_mappings(paths['mapping'])"
   ]
  },
  {
   "cell_type": "code",
   "execution_count": 6,
   "id": "certified-tactics",
   "metadata": {
    "execution": {
     "iopub.execute_input": "2021-06-22T12:10:31.798223Z",
     "iopub.status.busy": "2021-06-22T12:10:31.797623Z",
     "iopub.status.idle": "2021-06-22T12:10:31.802637Z",
     "shell.execute_reply": "2021-06-22T12:10:31.803208Z"
    },
    "papermill": {
     "duration": 0.050472,
     "end_time": "2021-06-22T12:10:31.803350",
     "exception": false,
     "start_time": "2021-06-22T12:10:31.752878",
     "status": "completed"
    },
    "tags": []
   },
   "outputs": [],
   "source": [
    "#hide\n",
    "def get_template(path):\n",
    "    from urllib.parse import urlparse\n",
    "    if bool(urlparse(path).netloc):\n",
    "        from urllib.request import urlopen\n",
    "        return urlopen(path).read().decode('utf8')\n",
    "    return open(path).read()"
   ]
  },
  {
   "cell_type": "code",
   "execution_count": 7,
   "id": "realistic-blast",
   "metadata": {
    "execution": {
     "iopub.execute_input": "2021-06-22T12:10:31.890812Z",
     "iopub.status.busy": "2021-06-22T12:10:31.890173Z",
     "iopub.status.idle": "2021-06-22T12:10:31.892126Z",
     "shell.execute_reply": "2021-06-22T12:10:31.892837Z"
    },
    "papermill": {
     "duration": 0.048884,
     "end_time": "2021-06-22T12:10:31.892979",
     "exception": false,
     "start_time": "2021-06-22T12:10:31.844095",
     "status": "completed"
    },
    "tags": []
   },
   "outputs": [],
   "source": [
    "#hide\n",
    "def get_frame(name):\n",
    "    url = (\n",
    "        'https://raw.githubusercontent.com/CSSEGISandData/COVID-19/master/csse_covid_19_data/'\n",
    "        f'csse_covid_19_time_series/time_series_covid19_{name}_global.csv')\n",
    "    df = pd.read_csv(url)\n",
    "    # rename countries\n",
    "    df['Country/Region'] = df['Country/Region'].replace(mapping['replace.country'])\n",
    "    return df"
   ]
  },
  {
   "cell_type": "code",
   "execution_count": 8,
   "id": "affiliated-characterization",
   "metadata": {
    "execution": {
     "iopub.execute_input": "2021-06-22T12:10:31.983918Z",
     "iopub.status.busy": "2021-06-22T12:10:31.983239Z",
     "iopub.status.idle": "2021-06-22T12:10:31.985223Z",
     "shell.execute_reply": "2021-06-22T12:10:31.985865Z"
    },
    "papermill": {
     "duration": 0.05241,
     "end_time": "2021-06-22T12:10:31.986019",
     "exception": false,
     "start_time": "2021-06-22T12:10:31.933609",
     "status": "completed"
    },
    "tags": []
   },
   "outputs": [],
   "source": [
    "#hide\n",
    "def get_dates(df):\n",
    "    dt_cols = df.columns[~df.columns.isin(['Province/State', 'Country/Region', 'Lat', 'Long'])]\n",
    "    LAST_DATE_I = -1\n",
    "    # sometimes last column may be empty, then go backwards\n",
    "    for i in range(-1, -len(dt_cols), -1):\n",
    "        if not df[dt_cols[i]].fillna(0).eq(0).all():\n",
    "            LAST_DATE_I = i\n",
    "            break\n",
    "    return LAST_DATE_I, dt_cols"
   ]
  },
  {
   "cell_type": "code",
   "execution_count": 9,
   "id": "recent-optimization",
   "metadata": {
    "execution": {
     "iopub.execute_input": "2021-06-22T12:10:32.072767Z",
     "iopub.status.busy": "2021-06-22T12:10:32.071992Z",
     "iopub.status.idle": "2021-06-22T12:10:32.461235Z",
     "shell.execute_reply": "2021-06-22T12:10:32.459996Z"
    },
    "papermill": {
     "duration": 0.435727,
     "end_time": "2021-06-22T12:10:32.461381",
     "exception": false,
     "start_time": "2021-06-22T12:10:32.025654",
     "status": "completed"
    },
    "tags": []
   },
   "outputs": [],
   "source": [
    "#hide\n",
    "COL_REGION = 'Country/Region'\n",
    "# Confirmed, Recovered, Deaths\n",
    "df = get_frame('confirmed')\n",
    "# dft_: timeseries, dfc_: today country agg\n",
    "dft_cases = df\n",
    "dft_deaths = get_frame('deaths')\n",
    "dft_recovered = get_frame('recovered')\n",
    "LAST_DATE_I, dt_cols = get_dates(df)"
   ]
  },
  {
   "cell_type": "code",
   "execution_count": 10,
   "id": "absolute-copper",
   "metadata": {
    "execution": {
     "iopub.execute_input": "2021-06-22T12:10:32.545705Z",
     "iopub.status.busy": "2021-06-22T12:10:32.544893Z",
     "iopub.status.idle": "2021-06-22T12:10:32.546694Z",
     "shell.execute_reply": "2021-06-22T12:10:32.547182Z"
    },
    "papermill": {
     "duration": 0.046391,
     "end_time": "2021-06-22T12:10:32.547321",
     "exception": false,
     "start_time": "2021-06-22T12:10:32.500930",
     "status": "completed"
    },
    "tags": []
   },
   "outputs": [],
   "source": [
    "#hide\n",
    "LAST_DATE_I, dt_cols = get_dates(df)\n",
    "dt_today =dt_cols[LAST_DATE_I]\n",
    "# dt_5day = dt_cols[LAST_DATE_I - 5]\n",
    "dt_yday = dt_cols[LAST_DATE_I - 1]"
   ]
  },
  {
   "cell_type": "code",
   "execution_count": 11,
   "id": "restricted-sheriff",
   "metadata": {
    "execution": {
     "iopub.execute_input": "2021-06-22T12:10:32.633059Z",
     "iopub.status.busy": "2021-06-22T12:10:32.632444Z",
     "iopub.status.idle": "2021-06-22T12:10:32.640015Z",
     "shell.execute_reply": "2021-06-22T12:10:32.639405Z"
    },
    "papermill": {
     "duration": 0.055933,
     "end_time": "2021-06-22T12:10:32.640164",
     "exception": false,
     "start_time": "2021-06-22T12:10:32.584231",
     "status": "completed"
    },
    "tags": []
   },
   "outputs": [],
   "source": [
    "#hide\n",
    "dfc_cases = dft_cases.groupby(COL_REGION)[dt_today].sum()\n",
    "dfc_deaths = dft_deaths.groupby(COL_REGION)[dt_today].sum()\n",
    "# dfp_cases = dft_cases.groupby(COL_REGION)[dt_5day].sum()\n",
    "# dfp_deaths = dft_deaths.groupby(COL_REGION)[dt_5day].sum()\n",
    "dfp_cases = dft_cases.groupby(COL_REGION)[dt_yday].sum()\n",
    "dfp_deaths = dft_deaths.groupby(COL_REGION)[dt_yday].sum()"
   ]
  },
  {
   "cell_type": "code",
   "execution_count": 12,
   "id": "deluxe-hepatitis",
   "metadata": {
    "execution": {
     "iopub.execute_input": "2021-06-22T12:10:32.722067Z",
     "iopub.status.busy": "2021-06-22T12:10:32.721399Z",
     "iopub.status.idle": "2021-06-22T12:10:32.727149Z",
     "shell.execute_reply": "2021-06-22T12:10:32.726351Z"
    },
    "papermill": {
     "duration": 0.049932,
     "end_time": "2021-06-22T12:10:32.727312",
     "exception": false,
     "start_time": "2021-06-22T12:10:32.677380",
     "status": "completed"
    },
    "tags": []
   },
   "outputs": [],
   "source": [
    "#hide\n",
    "df_table = (pd.DataFrame(dict(Cases = dfc_cases, Deaths = dfc_deaths, PCases = dfp_cases, PDeaths = dfp_deaths))\n",
    "            .sort_values(by = ['Cases','Deaths'], ascending = [False, False])\n",
    "            .reset_index())"
   ]
  },
  {
   "cell_type": "code",
   "execution_count": 13,
   "id": "educational-chancellor",
   "metadata": {
    "execution": {
     "iopub.execute_input": "2021-06-22T12:10:32.827003Z",
     "iopub.status.busy": "2021-06-22T12:10:32.826266Z",
     "iopub.status.idle": "2021-06-22T12:10:32.835693Z",
     "shell.execute_reply": "2021-06-22T12:10:32.836407Z"
    },
    "papermill": {
     "duration": 0.070111,
     "end_time": "2021-06-22T12:10:32.836586",
     "exception": false,
     "start_time": "2021-06-22T12:10:32.766475",
     "status": "completed"
    },
    "tags": []
   },
   "outputs": [
    {
     "data": {
      "text/html": [
       "<div>\n",
       "<style scoped>\n",
       "    .dataframe tbody tr th:only-of-type {\n",
       "        vertical-align: middle;\n",
       "    }\n",
       "\n",
       "    .dataframe tbody tr th {\n",
       "        vertical-align: top;\n",
       "    }\n",
       "\n",
       "    .dataframe thead th {\n",
       "        text-align: right;\n",
       "    }\n",
       "</style>\n",
       "<table border=\"1\" class=\"dataframe\">\n",
       "  <thead>\n",
       "    <tr style=\"text-align: right;\">\n",
       "      <th></th>\n",
       "      <th>Country/Region</th>\n",
       "      <th>Cases</th>\n",
       "      <th>Deaths</th>\n",
       "      <th>PCases</th>\n",
       "      <th>PDeaths</th>\n",
       "      <th>Cases (+)</th>\n",
       "      <th>Deaths (+)</th>\n",
       "      <th>Fatality Rate</th>\n",
       "      <th>Continent</th>\n",
       "    </tr>\n",
       "  </thead>\n",
       "  <tbody>\n",
       "    <tr>\n",
       "      <th>0</th>\n",
       "      <td>US</td>\n",
       "      <td>33554275</td>\n",
       "      <td>602092</td>\n",
       "      <td>33541887</td>\n",
       "      <td>601824</td>\n",
       "      <td>12388</td>\n",
       "      <td>268</td>\n",
       "      <td>1.79</td>\n",
       "      <td>North America</td>\n",
       "    </tr>\n",
       "    <tr>\n",
       "      <th>1</th>\n",
       "      <td>India</td>\n",
       "      <td>29977861</td>\n",
       "      <td>389302</td>\n",
       "      <td>29935221</td>\n",
       "      <td>388135</td>\n",
       "      <td>42640</td>\n",
       "      <td>1167</td>\n",
       "      <td>1.30</td>\n",
       "      <td>Asia</td>\n",
       "    </tr>\n",
       "    <tr>\n",
       "      <th>2</th>\n",
       "      <td>Brazil</td>\n",
       "      <td>17966831</td>\n",
       "      <td>502586</td>\n",
       "      <td>17927928</td>\n",
       "      <td>501825</td>\n",
       "      <td>38903</td>\n",
       "      <td>761</td>\n",
       "      <td>2.80</td>\n",
       "      <td>South America</td>\n",
       "    </tr>\n",
       "    <tr>\n",
       "      <th>3</th>\n",
       "      <td>France</td>\n",
       "      <td>5819584</td>\n",
       "      <td>110940</td>\n",
       "      <td>5819088</td>\n",
       "      <td>110900</td>\n",
       "      <td>496</td>\n",
       "      <td>40</td>\n",
       "      <td>1.91</td>\n",
       "      <td>Europe</td>\n",
       "    </tr>\n",
       "    <tr>\n",
       "      <th>4</th>\n",
       "      <td>Turkey</td>\n",
       "      <td>5375593</td>\n",
       "      <td>49236</td>\n",
       "      <td>5370299</td>\n",
       "      <td>49185</td>\n",
       "      <td>5294</td>\n",
       "      <td>51</td>\n",
       "      <td>0.92</td>\n",
       "      <td>Asia</td>\n",
       "    </tr>\n",
       "  </tbody>\n",
       "</table>\n",
       "</div>"
      ],
      "text/plain": [
       "  Country/Region     Cases  Deaths    PCases  PDeaths  Cases (+)  Deaths (+)  \\\n",
       "0             US  33554275  602092  33541887   601824      12388         268   \n",
       "1          India  29977861  389302  29935221   388135      42640        1167   \n",
       "2         Brazil  17966831  502586  17927928   501825      38903         761   \n",
       "3         France   5819584  110940   5819088   110900        496          40   \n",
       "4         Turkey   5375593   49236   5370299    49185       5294          51   \n",
       "\n",
       "   Fatality Rate      Continent  \n",
       "0           1.79  North America  \n",
       "1           1.30           Asia  \n",
       "2           2.80  South America  \n",
       "3           1.91         Europe  \n",
       "4           0.92           Asia  "
      ]
     },
     "execution_count": 13,
     "metadata": {},
     "output_type": "execute_result"
    }
   ],
   "source": [
    "#hide\n",
    "for c in 'Cases, Deaths'.split(', '):\n",
    "    df_table[f'{c} (+)'] = (df_table[c] - df_table[f'P{c}']).clip(0)\n",
    "    #Clip ça veut dire, les chiffres negatif sont interdit\n",
    "df_table['Fatality Rate'] = (100* df_table['Deaths']/ df_table['Cases']).round(2)\n",
    "df_table['Continent'] = df_table['Country/Region'].map(mapping['map.continent'])\n",
    "df_table.head(5)"
   ]
  },
  {
   "cell_type": "code",
   "execution_count": 14,
   "id": "aboriginal-bulgaria",
   "metadata": {
    "execution": {
     "iopub.execute_input": "2021-06-22T12:10:32.925631Z",
     "iopub.status.busy": "2021-06-22T12:10:32.924972Z",
     "iopub.status.idle": "2021-06-22T12:10:32.928376Z",
     "shell.execute_reply": "2021-06-22T12:10:32.929106Z"
    },
    "papermill": {
     "duration": 0.05052,
     "end_time": "2021-06-22T12:10:32.929268",
     "exception": false,
     "start_time": "2021-06-22T12:10:32.878748",
     "status": "completed"
    },
    "tags": []
   },
   "outputs": [],
   "source": [
    "#hide\n",
    "#delete problematic countries from table\n",
    "df_table = df_table[~df_table['Country/Region'].isin(['Cape Verde', 'Cruise Ship', 'Kosovo'])]"
   ]
  },
  {
   "cell_type": "code",
   "execution_count": 15,
   "id": "fantastic-effect",
   "metadata": {
    "execution": {
     "iopub.execute_input": "2021-06-22T12:10:33.018094Z",
     "iopub.status.busy": "2021-06-22T12:10:33.017451Z",
     "iopub.status.idle": "2021-06-22T12:10:33.040410Z",
     "shell.execute_reply": "2021-06-22T12:10:33.039750Z"
    },
    "papermill": {
     "duration": 0.072556,
     "end_time": "2021-06-22T12:10:33.040528",
     "exception": false,
     "start_time": "2021-06-22T12:10:32.967972",
     "status": "completed"
    },
    "tags": []
   },
   "outputs": [
    {
     "data": {
      "text/html": [
       "<div>\n",
       "<style scoped>\n",
       "    .dataframe tbody tr th:only-of-type {\n",
       "        vertical-align: middle;\n",
       "    }\n",
       "\n",
       "    .dataframe tbody tr th {\n",
       "        vertical-align: top;\n",
       "    }\n",
       "\n",
       "    .dataframe thead th {\n",
       "        text-align: right;\n",
       "    }\n",
       "</style>\n",
       "<table border=\"1\" class=\"dataframe\">\n",
       "  <thead>\n",
       "    <tr style=\"text-align: right;\">\n",
       "      <th></th>\n",
       "      <th>Country/Region</th>\n",
       "      <th>Cases</th>\n",
       "      <th>Deaths</th>\n",
       "      <th>PCases</th>\n",
       "      <th>PDeaths</th>\n",
       "      <th>Cases (+)</th>\n",
       "      <th>Deaths (+)</th>\n",
       "      <th>Fatality Rate</th>\n",
       "      <th>Continent</th>\n",
       "    </tr>\n",
       "  </thead>\n",
       "  <tbody>\n",
       "    <tr>\n",
       "      <th>0</th>\n",
       "      <td>US</td>\n",
       "      <td>33554275</td>\n",
       "      <td>602092</td>\n",
       "      <td>33541887</td>\n",
       "      <td>601824</td>\n",
       "      <td>12388</td>\n",
       "      <td>268</td>\n",
       "      <td>1.8</td>\n",
       "      <td>North America</td>\n",
       "    </tr>\n",
       "    <tr>\n",
       "      <th>1</th>\n",
       "      <td>India</td>\n",
       "      <td>29977861</td>\n",
       "      <td>389302</td>\n",
       "      <td>29935221</td>\n",
       "      <td>388135</td>\n",
       "      <td>42640</td>\n",
       "      <td>1167</td>\n",
       "      <td>1.3</td>\n",
       "      <td>Asia</td>\n",
       "    </tr>\n",
       "    <tr>\n",
       "      <th>2</th>\n",
       "      <td>Brazil</td>\n",
       "      <td>17966831</td>\n",
       "      <td>502586</td>\n",
       "      <td>17927928</td>\n",
       "      <td>501825</td>\n",
       "      <td>38903</td>\n",
       "      <td>761</td>\n",
       "      <td>2.8</td>\n",
       "      <td>South America</td>\n",
       "    </tr>\n",
       "    <tr>\n",
       "      <th>3</th>\n",
       "      <td>France</td>\n",
       "      <td>5819584</td>\n",
       "      <td>110940</td>\n",
       "      <td>5819088</td>\n",
       "      <td>110900</td>\n",
       "      <td>496</td>\n",
       "      <td>40</td>\n",
       "      <td>1.9</td>\n",
       "      <td>Europe</td>\n",
       "    </tr>\n",
       "    <tr>\n",
       "      <th>4</th>\n",
       "      <td>Turkey</td>\n",
       "      <td>5375593</td>\n",
       "      <td>49236</td>\n",
       "      <td>5370299</td>\n",
       "      <td>49185</td>\n",
       "      <td>5294</td>\n",
       "      <td>51</td>\n",
       "      <td>0.9</td>\n",
       "      <td>Asia</td>\n",
       "    </tr>\n",
       "  </tbody>\n",
       "</table>\n",
       "</div>"
      ],
      "text/plain": [
       "  Country/Region     Cases  Deaths    PCases  PDeaths  Cases (+)  Deaths (+)  \\\n",
       "0             US  33554275  602092  33541887   601824      12388         268   \n",
       "1          India  29977861  389302  29935221   388135      42640        1167   \n",
       "2         Brazil  17966831  502586  17927928   501825      38903         761   \n",
       "3         France   5819584  110940   5819088   110900        496          40   \n",
       "4         Turkey   5375593   49236   5370299    49185       5294          51   \n",
       "\n",
       "   Fatality Rate      Continent  \n",
       "0            1.8  North America  \n",
       "1            1.3           Asia  \n",
       "2            2.8  South America  \n",
       "3            1.9         Europe  \n",
       "4            0.9           Asia  "
      ]
     },
     "execution_count": 15,
     "metadata": {},
     "output_type": "execute_result"
    }
   ],
   "source": [
    "#hide\n",
    "df_table = (pd.DataFrame(dict(Cases=dfc_cases, Deaths=dfc_deaths, PCases=dfp_cases, PDeaths=dfp_deaths))\n",
    "             .sort_values(by=['Cases', 'Deaths'], ascending=[False, False])\n",
    "             .reset_index())\n",
    "df_table.rename(columns={'index': 'Country/Region'}, inplace=True)\n",
    "for c in 'Cases, Deaths'.split(', '):\n",
    "    df_table[f'{c} (+)'] = (df_table[c] - df_table[f'P{c}']).clip(0)  # DATA BUG\n",
    "df_table['Fatality Rate'] = (100 * df_table['Deaths'] / df_table['Cases']).round(1)\n",
    "df_table['Continent'] = df_table['Country/Region'].map(mapping['map.continent'])\n",
    "df_table.head(5)"
   ]
  },
  {
   "cell_type": "code",
   "execution_count": 16,
   "id": "fewer-occasion",
   "metadata": {
    "execution": {
     "iopub.execute_input": "2021-06-22T12:10:33.128891Z",
     "iopub.status.busy": "2021-06-22T12:10:33.128149Z",
     "iopub.status.idle": "2021-06-22T12:10:33.130635Z",
     "shell.execute_reply": "2021-06-22T12:10:33.131310Z"
    },
    "papermill": {
     "duration": 0.049554,
     "end_time": "2021-06-22T12:10:33.131476",
     "exception": false,
     "start_time": "2021-06-22T12:10:33.081922",
     "status": "completed"
    },
    "tags": []
   },
   "outputs": [],
   "source": [
    "#hide\n",
    "#delete problematic countries from table\n",
    "df_table = df_table[~df_table['Country/Region'].isin(['Cape Verde', 'Cruise Ship', 'Kosovo'])]"
   ]
  },
  {
   "cell_type": "code",
   "execution_count": 17,
   "id": "related-center",
   "metadata": {
    "execution": {
     "iopub.execute_input": "2021-06-22T12:10:33.230018Z",
     "iopub.status.busy": "2021-06-22T12:10:33.229436Z",
     "iopub.status.idle": "2021-06-22T12:10:33.231948Z",
     "shell.execute_reply": "2021-06-22T12:10:33.231479Z"
    },
    "papermill": {
     "duration": 0.060558,
     "end_time": "2021-06-22T12:10:33.232057",
     "exception": false,
     "start_time": "2021-06-22T12:10:33.171499",
     "status": "completed"
    },
    "tags": []
   },
   "outputs": [],
   "source": [
    "#hide\n",
    "metrics = [df_table.columns[index] for index in [1,2,5,6]]\n",
    "# s_china = df_table[df_table['Country/Region'].eq('China')][metrics].sum().add_prefix('China ')\n",
    "s_us = df_table[df_table['Country/Region'].eq('US')][metrics].sum().add_prefix('US ')\n",
    "s_eu = df_table[df_table['Continent'].eq('Europe')][metrics].sum().add_prefix('EU ')\n",
    "s_ind = df_table[df_table['Country/Region'].eq('India')][metrics].sum().add_prefix('India ')\n",
    "summary = {'updated': pd.to_datetime(dt_today), 'since': pd.to_datetime(dt_yday)}\n",
    "summary = {'updated': pd.to_datetime(dt_today), 'since': pd.to_datetime(dt_yday)}\n",
    "summary = {**summary, **df_table[metrics].sum(), **s_ind, **s_us, **s_eu}"
   ]
  },
  {
   "cell_type": "code",
   "execution_count": 18,
   "id": "engaging-syndrome",
   "metadata": {
    "execution": {
     "iopub.execute_input": "2021-06-22T12:10:33.315634Z",
     "iopub.status.busy": "2021-06-22T12:10:33.315056Z",
     "iopub.status.idle": "2021-06-22T12:10:33.325226Z",
     "shell.execute_reply": "2021-06-22T12:10:33.324577Z"
    },
    "papermill": {
     "duration": 0.055493,
     "end_time": "2021-06-22T12:10:33.325371",
     "exception": false,
     "start_time": "2021-06-22T12:10:33.269878",
     "status": "completed"
    },
    "tags": []
   },
   "outputs": [],
   "source": [
    "#hide\n",
    "dft_ct_new_cases = dft_cases.groupby(COL_REGION)[dt_cols].sum().diff(axis=1).fillna(0).astype(int)"
   ]
  },
  {
   "cell_type": "code",
   "execution_count": 19,
   "id": "neutral-assignment",
   "metadata": {
    "execution": {
     "iopub.execute_input": "2021-06-22T12:10:33.408127Z",
     "iopub.status.busy": "2021-06-22T12:10:33.407485Z",
     "iopub.status.idle": "2021-06-22T12:10:33.410164Z",
     "shell.execute_reply": "2021-06-22T12:10:33.410746Z"
    },
    "papermill": {
     "duration": 0.046631,
     "end_time": "2021-06-22T12:10:33.410887",
     "exception": false,
     "start_time": "2021-06-22T12:10:33.364256",
     "status": "completed"
    },
    "tags": []
   },
   "outputs": [],
   "source": [
    "#hide\n",
    "everydaycases = dft_ct_new_cases.cumsum(axis=1)"
   ]
  },
  {
   "cell_type": "code",
   "execution_count": 20,
   "id": "parliamentary-calgary",
   "metadata": {
    "execution": {
     "iopub.execute_input": "2021-06-22T12:10:33.490849Z",
     "iopub.status.busy": "2021-06-22T12:10:33.490280Z",
     "iopub.status.idle": "2021-06-22T12:10:34.185272Z",
     "shell.execute_reply": "2021-06-22T12:10:34.184703Z"
    },
    "papermill": {
     "duration": 0.737575,
     "end_time": "2021-06-22T12:10:34.185507",
     "exception": false,
     "start_time": "2021-06-22T12:10:33.447932",
     "status": "completed"
    },
    "tags": []
   },
   "outputs": [],
   "source": [
    "#hide\n",
    "import pandas as pd\n",
    "import matplotlib.pyplot as plt\n",
    "import matplotlib.ticker as ticker\n",
    "import matplotlib.animation as animation\n",
    "from IPython.display import HTML"
   ]
  },
  {
   "cell_type": "code",
   "execution_count": 21,
   "id": "lasting-extraction",
   "metadata": {
    "execution": {
     "iopub.execute_input": "2021-06-22T12:10:34.268010Z",
     "iopub.status.busy": "2021-06-22T12:10:34.267391Z",
     "iopub.status.idle": "2021-06-22T12:10:34.272725Z",
     "shell.execute_reply": "2021-06-22T12:10:34.272225Z"
    },
    "papermill": {
     "duration": 0.049518,
     "end_time": "2021-06-22T12:10:34.272835",
     "exception": false,
     "start_time": "2021-06-22T12:10:34.223317",
     "status": "completed"
    },
    "tags": []
   },
   "outputs": [],
   "source": [
    "#hide\n",
    "t = everydaycases.stack()"
   ]
  },
  {
   "cell_type": "code",
   "execution_count": 22,
   "id": "premier-sleeve",
   "metadata": {
    "execution": {
     "iopub.execute_input": "2021-06-22T12:10:34.355790Z",
     "iopub.status.busy": "2021-06-22T12:10:34.355023Z",
     "iopub.status.idle": "2021-06-22T12:10:34.363707Z",
     "shell.execute_reply": "2021-06-22T12:10:34.363197Z"
    },
    "papermill": {
     "duration": 0.052095,
     "end_time": "2021-06-22T12:10:34.363826",
     "exception": false,
     "start_time": "2021-06-22T12:10:34.311731",
     "status": "completed"
    },
    "tags": []
   },
   "outputs": [],
   "source": [
    "#hide\n",
    "g = t.reset_index(['Country/Region'])"
   ]
  },
  {
   "cell_type": "code",
   "execution_count": 23,
   "id": "distributed-pittsburgh",
   "metadata": {
    "execution": {
     "iopub.execute_input": "2021-06-22T12:10:34.449341Z",
     "iopub.status.busy": "2021-06-22T12:10:34.448731Z",
     "iopub.status.idle": "2021-06-22T12:10:34.450641Z",
     "shell.execute_reply": "2021-06-22T12:10:34.451081Z"
    },
    "papermill": {
     "duration": 0.046309,
     "end_time": "2021-06-22T12:10:34.451209",
     "exception": false,
     "start_time": "2021-06-22T12:10:34.404900",
     "status": "completed"
    },
    "tags": []
   },
   "outputs": [],
   "source": [
    "#hide\n",
    "g.index.name = 'date'"
   ]
  },
  {
   "cell_type": "code",
   "execution_count": 24,
   "id": "naked-donor",
   "metadata": {
    "execution": {
     "iopub.execute_input": "2021-06-22T12:10:34.530351Z",
     "iopub.status.busy": "2021-06-22T12:10:34.529760Z",
     "iopub.status.idle": "2021-06-22T12:10:34.531473Z",
     "shell.execute_reply": "2021-06-22T12:10:34.531935Z"
    },
    "papermill": {
     "duration": 0.041453,
     "end_time": "2021-06-22T12:10:34.532063",
     "exception": false,
     "start_time": "2021-06-22T12:10:34.490610",
     "status": "completed"
    },
    "tags": []
   },
   "outputs": [],
   "source": [
    "# #hide\n",
    "# g = g.reset_index(['date'])"
   ]
  },
  {
   "cell_type": "code",
   "execution_count": 25,
   "id": "incomplete-mustang",
   "metadata": {
    "execution": {
     "iopub.execute_input": "2021-06-22T12:10:34.612035Z",
     "iopub.status.busy": "2021-06-22T12:10:34.610777Z",
     "iopub.status.idle": "2021-06-22T12:10:34.612753Z",
     "shell.execute_reply": "2021-06-22T12:10:34.613198Z"
    },
    "papermill": {
     "duration": 0.043787,
     "end_time": "2021-06-22T12:10:34.613321",
     "exception": false,
     "start_time": "2021-06-22T12:10:34.569534",
     "status": "completed"
    },
    "tags": []
   },
   "outputs": [],
   "source": [
    "#hide\n",
    "# g.head()"
   ]
  },
  {
   "cell_type": "code",
   "execution_count": 26,
   "id": "specific-kruger",
   "metadata": {
    "execution": {
     "iopub.execute_input": "2021-06-22T12:10:34.695609Z",
     "iopub.status.busy": "2021-06-22T12:10:34.694971Z",
     "iopub.status.idle": "2021-06-22T12:10:34.696953Z",
     "shell.execute_reply": "2021-06-22T12:10:34.697476Z"
    },
    "papermill": {
     "duration": 0.045396,
     "end_time": "2021-06-22T12:10:34.697663",
     "exception": false,
     "start_time": "2021-06-22T12:10:34.652267",
     "status": "completed"
    },
    "tags": []
   },
   "outputs": [],
   "source": [
    "#hide\n",
    "# g.columns = ['date','country','cases']"
   ]
  },
  {
   "cell_type": "code",
   "execution_count": 27,
   "id": "tender-conversion",
   "metadata": {
    "execution": {
     "iopub.execute_input": "2021-06-22T12:10:34.775432Z",
     "iopub.status.busy": "2021-06-22T12:10:34.774869Z",
     "iopub.status.idle": "2021-06-22T12:10:34.777358Z",
     "shell.execute_reply": "2021-06-22T12:10:34.776887Z"
    },
    "papermill": {
     "duration": 0.042889,
     "end_time": "2021-06-22T12:10:34.777489",
     "exception": false,
     "start_time": "2021-06-22T12:10:34.734600",
     "status": "completed"
    },
    "tags": []
   },
   "outputs": [],
   "source": [
    "#hide\n",
    "# g['continent'] = g.country"
   ]
  },
  {
   "cell_type": "code",
   "execution_count": 28,
   "id": "substantial-wilderness",
   "metadata": {
    "execution": {
     "iopub.execute_input": "2021-06-22T12:10:34.854989Z",
     "iopub.status.busy": "2021-06-22T12:10:34.854204Z",
     "iopub.status.idle": "2021-06-22T12:10:34.856179Z",
     "shell.execute_reply": "2021-06-22T12:10:34.856697Z"
    },
    "papermill": {
     "duration": 0.042434,
     "end_time": "2021-06-22T12:10:34.856821",
     "exception": false,
     "start_time": "2021-06-22T12:10:34.814387",
     "status": "completed"
    },
    "tags": []
   },
   "outputs": [],
   "source": [
    "#hide\n",
    "# cols = list(g.columns.values)"
   ]
  },
  {
   "cell_type": "code",
   "execution_count": 29,
   "id": "solved-farming",
   "metadata": {
    "execution": {
     "iopub.execute_input": "2021-06-22T12:10:34.935519Z",
     "iopub.status.busy": "2021-06-22T12:10:34.934943Z",
     "iopub.status.idle": "2021-06-22T12:10:34.937447Z",
     "shell.execute_reply": "2021-06-22T12:10:34.936911Z"
    },
    "papermill": {
     "duration": 0.044435,
     "end_time": "2021-06-22T12:10:34.937557",
     "exception": false,
     "start_time": "2021-06-22T12:10:34.893122",
     "status": "completed"
    },
    "tags": []
   },
   "outputs": [],
   "source": [
    "#hide\n",
    "# cols.insert(0, cols.pop())"
   ]
  },
  {
   "cell_type": "code",
   "execution_count": 30,
   "id": "executed-adoption",
   "metadata": {
    "execution": {
     "iopub.execute_input": "2021-06-22T12:10:35.021873Z",
     "iopub.status.busy": "2021-06-22T12:10:35.021212Z",
     "iopub.status.idle": "2021-06-22T12:10:35.023356Z",
     "shell.execute_reply": "2021-06-22T12:10:35.023993Z"
    },
    "papermill": {
     "duration": 0.047404,
     "end_time": "2021-06-22T12:10:35.024149",
     "exception": false,
     "start_time": "2021-06-22T12:10:34.976745",
     "status": "completed"
    },
    "tags": []
   },
   "outputs": [],
   "source": [
    "#hide\n",
    "# g = g[cols]"
   ]
  },
  {
   "cell_type": "code",
   "execution_count": 31,
   "id": "subject-dublin",
   "metadata": {
    "execution": {
     "iopub.execute_input": "2021-06-22T12:10:35.105639Z",
     "iopub.status.busy": "2021-06-22T12:10:35.104990Z",
     "iopub.status.idle": "2021-06-22T12:10:35.107284Z",
     "shell.execute_reply": "2021-06-22T12:10:35.106741Z"
    },
    "papermill": {
     "duration": 0.045645,
     "end_time": "2021-06-22T12:10:35.107418",
     "exception": false,
     "start_time": "2021-06-22T12:10:35.061773",
     "status": "completed"
    },
    "tags": []
   },
   "outputs": [],
   "source": [
    "#hide\n",
    "# g['continent'] = g['continent'].map(mapping['map.continent'])"
   ]
  },
  {
   "cell_type": "code",
   "execution_count": 32,
   "id": "freelance-scout",
   "metadata": {
    "execution": {
     "iopub.execute_input": "2021-06-22T12:10:35.192120Z",
     "iopub.status.busy": "2021-06-22T12:10:35.191539Z",
     "iopub.status.idle": "2021-06-22T12:10:35.193895Z",
     "shell.execute_reply": "2021-06-22T12:10:35.193391Z"
    },
    "papermill": {
     "duration": 0.046009,
     "end_time": "2021-06-22T12:10:35.194011",
     "exception": false,
     "start_time": "2021-06-22T12:10:35.148002",
     "status": "completed"
    },
    "tags": []
   },
   "outputs": [],
   "source": [
    "#hide\n",
    "# g.head()"
   ]
  },
  {
   "cell_type": "code",
   "execution_count": 33,
   "id": "limited-engine",
   "metadata": {
    "execution": {
     "iopub.execute_input": "2021-06-22T12:10:35.275134Z",
     "iopub.status.busy": "2021-06-22T12:10:35.274452Z",
     "iopub.status.idle": "2021-06-22T12:10:35.276901Z",
     "shell.execute_reply": "2021-06-22T12:10:35.276089Z"
    },
    "papermill": {
     "duration": 0.045144,
     "end_time": "2021-06-22T12:10:35.277045",
     "exception": false,
     "start_time": "2021-06-22T12:10:35.231901",
     "status": "completed"
    },
    "tags": []
   },
   "outputs": [],
   "source": [
    "# hide\n",
    "# g['date'] = g['date'].astype('datetime64[ns]')"
   ]
  },
  {
   "cell_type": "code",
   "execution_count": 34,
   "id": "sophisticated-supervisor",
   "metadata": {
    "execution": {
     "iopub.execute_input": "2021-06-22T12:10:35.356357Z",
     "iopub.status.busy": "2021-06-22T12:10:35.355612Z",
     "iopub.status.idle": "2021-06-22T12:10:35.358063Z",
     "shell.execute_reply": "2021-06-22T12:10:35.357421Z"
    },
    "papermill": {
     "duration": 0.04414,
     "end_time": "2021-06-22T12:10:35.358172",
     "exception": false,
     "start_time": "2021-06-22T12:10:35.314032",
     "status": "completed"
    },
    "tags": []
   },
   "outputs": [],
   "source": [
    "#hide\n",
    "# g['date'] = g.date.dt.dayofyear"
   ]
  },
  {
   "cell_type": "code",
   "execution_count": 35,
   "id": "inside-dubai",
   "metadata": {
    "execution": {
     "iopub.execute_input": "2021-06-22T12:10:35.438453Z",
     "iopub.status.busy": "2021-06-22T12:10:35.437621Z",
     "iopub.status.idle": "2021-06-22T12:10:35.440308Z",
     "shell.execute_reply": "2021-06-22T12:10:35.439457Z"
    },
    "papermill": {
     "duration": 0.04412,
     "end_time": "2021-06-22T12:10:35.440444",
     "exception": false,
     "start_time": "2021-06-22T12:10:35.396324",
     "status": "completed"
    },
    "tags": []
   },
   "outputs": [],
   "source": [
    "#hide\n",
    "# g = g.rename(columns= {'continent':'group','country':'name','cases':'value'})"
   ]
  },
  {
   "cell_type": "code",
   "execution_count": 36,
   "id": "fleet-motorcycle",
   "metadata": {
    "execution": {
     "iopub.execute_input": "2021-06-22T12:10:35.521629Z",
     "iopub.status.busy": "2021-06-22T12:10:35.520723Z",
     "iopub.status.idle": "2021-06-22T12:10:35.523487Z",
     "shell.execute_reply": "2021-06-22T12:10:35.522988Z"
    },
    "papermill": {
     "duration": 0.045024,
     "end_time": "2021-06-22T12:10:35.523648",
     "exception": false,
     "start_time": "2021-06-22T12:10:35.478624",
     "status": "completed"
    },
    "tags": []
   },
   "outputs": [],
   "source": [
    "#hide\n",
    "# cols = ['name','group','day','value']"
   ]
  },
  {
   "cell_type": "code",
   "execution_count": 37,
   "id": "continued-sleeping",
   "metadata": {
    "execution": {
     "iopub.execute_input": "2021-06-22T12:10:35.602535Z",
     "iopub.status.busy": "2021-06-22T12:10:35.601933Z",
     "iopub.status.idle": "2021-06-22T12:10:35.603824Z",
     "shell.execute_reply": "2021-06-22T12:10:35.604332Z"
    },
    "papermill": {
     "duration": 0.042808,
     "end_time": "2021-06-22T12:10:35.604455",
     "exception": false,
     "start_time": "2021-06-22T12:10:35.561647",
     "status": "completed"
    },
    "tags": []
   },
   "outputs": [],
   "source": [
    "#hide\n",
    "# g.rename(columns= {'date':'day'},inplace = True)"
   ]
  },
  {
   "cell_type": "code",
   "execution_count": 38,
   "id": "major-fight",
   "metadata": {
    "execution": {
     "iopub.execute_input": "2021-06-22T12:10:35.686804Z",
     "iopub.status.busy": "2021-06-22T12:10:35.686182Z",
     "iopub.status.idle": "2021-06-22T12:10:35.688682Z",
     "shell.execute_reply": "2021-06-22T12:10:35.688018Z"
    },
    "papermill": {
     "duration": 0.044658,
     "end_time": "2021-06-22T12:10:35.688818",
     "exception": false,
     "start_time": "2021-06-22T12:10:35.644160",
     "status": "completed"
    },
    "tags": []
   },
   "outputs": [],
   "source": [
    "#hide\n",
    "# g = g[cols]"
   ]
  },
  {
   "cell_type": "code",
   "execution_count": 39,
   "id": "structured-mobile",
   "metadata": {
    "execution": {
     "iopub.execute_input": "2021-06-22T12:10:35.772478Z",
     "iopub.status.busy": "2021-06-22T12:10:35.771760Z",
     "iopub.status.idle": "2021-06-22T12:10:35.774755Z",
     "shell.execute_reply": "2021-06-22T12:10:35.774074Z"
    },
    "papermill": {
     "duration": 0.046358,
     "end_time": "2021-06-22T12:10:35.774883",
     "exception": false,
     "start_time": "2021-06-22T12:10:35.728525",
     "status": "completed"
    },
    "tags": []
   },
   "outputs": [],
   "source": [
    "# #hide\n",
    "# g = g[g.group.notna()]"
   ]
  },
  {
   "cell_type": "code",
   "execution_count": 40,
   "id": "determined-closing",
   "metadata": {
    "execution": {
     "iopub.execute_input": "2021-06-22T12:10:35.858804Z",
     "iopub.status.busy": "2021-06-22T12:10:35.858196Z",
     "iopub.status.idle": "2021-06-22T12:10:35.860267Z",
     "shell.execute_reply": "2021-06-22T12:10:35.860746Z"
    },
    "papermill": {
     "duration": 0.045722,
     "end_time": "2021-06-22T12:10:35.860896",
     "exception": false,
     "start_time": "2021-06-22T12:10:35.815174",
     "status": "completed"
    },
    "tags": []
   },
   "outputs": [],
   "source": [
    "# #hide\n",
    "# colors = dict(zip(\n",
    "#     [\"Oceania\", \"Europe\", \"Asia\", \"South America\", \"Middle East\", \"North America\", \"Africa\"],\n",
    "#     [\"#adb0ff\", \"#ffb3ff\", \"#90d595\", \"#e48381\", \"#aafbff\", \"#f7bb5f\", \"#eafb50\"]\n",
    "# ))\n",
    "# group_lk = g.set_index('name')['group'].to_dict()"
   ]
  },
  {
   "cell_type": "code",
   "execution_count": null,
   "id": "gross-drinking",
   "metadata": {
    "papermill": {
     "duration": 0.038904,
     "end_time": "2021-06-22T12:10:35.939471",
     "exception": false,
     "start_time": "2021-06-22T12:10:35.900567",
     "status": "completed"
    },
    "tags": []
   },
   "outputs": [],
   "source": []
  },
  {
   "cell_type": "code",
   "execution_count": 41,
   "id": "subject-macintosh",
   "metadata": {
    "execution": {
     "iopub.execute_input": "2021-06-22T12:10:36.033393Z",
     "iopub.status.busy": "2021-06-22T12:10:36.032682Z",
     "iopub.status.idle": "2021-06-22T12:10:36.035149Z",
     "shell.execute_reply": "2021-06-22T12:10:36.034453Z"
    },
    "papermill": {
     "duration": 0.055206,
     "end_time": "2021-06-22T12:10:36.035318",
     "exception": false,
     "start_time": "2021-06-22T12:10:35.980112",
     "status": "completed"
    },
    "tags": []
   },
   "outputs": [],
   "source": [
    "# #hide\n",
    "# fig, ax = plt.subplots(figsize=(15, 8))\n",
    "\n",
    "# def draw_barchart(current_day):\n",
    "#     dff = g[g['day'].eq(current_day)].sort_values(by='value', ascending=True).tail(10)\n",
    "#     ax.clear()\n",
    "#     ax.barh(dff['name'], dff['value'], color=[colors[group_lk[x]] for x in dff['name']])\n",
    "#     dx = dff['value'].max() / 200\n",
    "    \n",
    "#     for i, (value, name) in enumerate(zip(dff['value'], dff['name'])):\n",
    "#         ax.text(value-dx, i,     name,           size=14, weight=600, ha='right', va='bottom')\n",
    "#         ax.text(value-dx, i-.25, group_lk[name], size=10, color='#444444', ha='right', va='baseline')\n",
    "#         ax.text(value+dx, i,     f'{value:,.0f}',  size=14, ha='left',  va='center')\n",
    "#     ax.text(1, 0.4, current_day, transform=ax.transAxes, color='#777777', size=46, ha='right', weight=800)\n",
    "#     ax.text(0, 1.06, 'Population (thousands)', transform=ax.transAxes, size=12, color='#777777')\n",
    "#     ax.xaxis.set_major_formatter(ticker.StrMethodFormatter('{x:,.0f}'))\n",
    "#     ax.xaxis.set_ticks_position('top')\n",
    "#     ax.tick_params(axis='x', colors='#777777', labelsize=12)\n",
    "#     ax.set_yticks([])\n",
    "#     ax.margins(0, 0.01)\n",
    "#     ax.grid(which='major', axis='x', linestyle='-')\n",
    "#     ax.set_axisbelow(True)\n",
    "    \n",
    "#     ax.text(0, 1.15, 'Coronavirus',\n",
    "#             transform=ax.transAxes, size=24, weight=600, ha='left', va='top')\n",
    "# #     ax.text(1, 0, 'by @pratapvardhan; credit @jburnmurdoch', transform=ax.transAxes, color='#777777', ha='right',\n",
    "# #             bbox=dict(facecolor='white', alpha=0.8, edgecolor='white'))\n",
    "#     plt.box(False)"
   ]
  },
  {
   "cell_type": "code",
   "execution_count": 42,
   "id": "sexual-wages",
   "metadata": {
    "execution": {
     "iopub.execute_input": "2021-06-22T12:10:36.117998Z",
     "iopub.status.busy": "2021-06-22T12:10:36.117221Z",
     "iopub.status.idle": "2021-06-22T12:10:36.119332Z",
     "shell.execute_reply": "2021-06-22T12:10:36.119865Z"
    },
    "papermill": {
     "duration": 0.044374,
     "end_time": "2021-06-22T12:10:36.120058",
     "exception": false,
     "start_time": "2021-06-22T12:10:36.075684",
     "status": "completed"
    },
    "tags": []
   },
   "outputs": [],
   "source": [
    "# #hide_input\n",
    "# fig, ax = plt.subplots(figsize=(15, 8))\n",
    "# animator = animation.FuncAnimation(fig, draw_barchart, frames=range(g.day.values.min(), g.day.values.max()))\n",
    "# HTML(animator.to_jshtml())\n",
    "# # or use animator.to_html5_video() or animator.save() "
   ]
  },
  {
   "cell_type": "code",
   "execution_count": null,
   "id": "australian-container",
   "metadata": {
    "papermill": {
     "duration": 0.038107,
     "end_time": "2021-06-22T12:10:36.198317",
     "exception": false,
     "start_time": "2021-06-22T12:10:36.160210",
     "status": "completed"
    },
    "tags": []
   },
   "outputs": [],
   "source": []
  },
  {
   "cell_type": "code",
   "execution_count": null,
   "id": "mediterranean-pontiac",
   "metadata": {
    "papermill": {
     "duration": 0.03646,
     "end_time": "2021-06-22T12:10:36.271686",
     "exception": false,
     "start_time": "2021-06-22T12:10:36.235226",
     "status": "completed"
    },
    "tags": []
   },
   "outputs": [],
   "source": []
  },
  {
   "cell_type": "code",
   "execution_count": null,
   "id": "aging-legislature",
   "metadata": {
    "papermill": {
     "duration": 0.037711,
     "end_time": "2021-06-22T12:10:36.347789",
     "exception": false,
     "start_time": "2021-06-22T12:10:36.310078",
     "status": "completed"
    },
    "tags": []
   },
   "outputs": [],
   "source": []
  }
 ],
 "metadata": {
  "kernelspec": {
   "display_name": "Python 3",
   "language": "python",
   "name": "python3"
  },
  "language_info": {
   "codemirror_mode": {
    "name": "ipython",
    "version": 3
   },
   "file_extension": ".py",
   "mimetype": "text/x-python",
   "name": "python",
   "nbconvert_exporter": "python",
   "pygments_lexer": "ipython3",
   "version": "3.6.13"
  },
  "papermill": {
   "duration": 7.087526,
   "end_time": "2021-06-22T12:10:36.693535",
   "environment_variables": {},
   "exception": null,
   "input_path": "2020-03-21-covid19exp.ipynb",
   "output_path": "2020-03-21-covid19exp.ipynb",
   "parameters": {},
   "start_time": "2021-06-22T12:10:29.606009",
   "version": "2.0.0"
  }
 },
 "nbformat": 4,
 "nbformat_minor": 5
}