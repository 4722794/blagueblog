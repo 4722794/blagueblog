{
 "cells": [
  {
   "cell_type": "markdown",
   "id": "muslim-click",
   "metadata": {
    "papermill": {
     "duration": 0.03867,
     "end_time": "2022-07-26T00:46:33.124080",
     "exception": false,
     "start_time": "2022-07-26T00:46:33.085410",
     "status": "completed"
    },
    "tags": []
   },
   "source": [
    "# COVID-19 Case Race\n",
    "> A race chart to see rising cases around the world\n",
    "\n",
    "- author: Hargun Oberoi\n",
    "- image: images/covid-overview.png\n",
    "- hide: false\n",
    "- badges: false"
   ]
  },
  {
   "cell_type": "code",
   "execution_count": 1,
   "id": "proof-material",
   "metadata": {
    "execution": {
     "iopub.execute_input": "2022-07-26T00:46:33.189465Z",
     "iopub.status.busy": "2022-07-26T00:46:33.188729Z",
     "iopub.status.idle": "2022-07-26T00:46:33.573086Z",
     "shell.execute_reply": "2022-07-26T00:46:33.572502Z"
    },
    "papermill": {
     "duration": 0.417777,
     "end_time": "2022-07-26T00:46:33.573241",
     "exception": false,
     "start_time": "2022-07-26T00:46:33.155464",
     "status": "completed"
    },
    "tags": []
   },
   "outputs": [],
   "source": [
    "#hide\n",
    "import numpy as np\n",
    "import pandas as pd\n",
    "from jinja2 import Template\n",
    "from IPython.display import HTML"
   ]
  },
  {
   "cell_type": "code",
   "execution_count": 2,
   "id": "developed-terminology",
   "metadata": {
    "execution": {
     "iopub.execute_input": "2022-07-26T00:46:33.646096Z",
     "iopub.status.busy": "2022-07-26T00:46:33.645383Z",
     "iopub.status.idle": "2022-07-26T00:46:33.647871Z",
     "shell.execute_reply": "2022-07-26T00:46:33.648544Z"
    },
    "papermill": {
     "duration": 0.038977,
     "end_time": "2022-07-26T00:46:33.648701",
     "exception": false,
     "start_time": "2022-07-26T00:46:33.609724",
     "status": "completed"
    },
    "tags": []
   },
   "outputs": [],
   "source": [
    "#hide\n",
    "\n",
    "# FETCH\n",
    "base_url = 'https://raw.githubusercontent.com/pratapvardhan/notebooks/master/covid19/'\n",
    "paths = {\n",
    "    'mapping': base_url + 'mapping_countries.csv',\n",
    "    'overview': base_url + 'overview.tpl'\n",
    "}"
   ]
  },
  {
   "cell_type": "code",
   "execution_count": 3,
   "id": "dynamic-saver",
   "metadata": {
    "execution": {
     "iopub.execute_input": "2022-07-26T00:46:33.722623Z",
     "iopub.status.busy": "2022-07-26T00:46:33.721863Z",
     "iopub.status.idle": "2022-07-26T00:46:33.726079Z",
     "shell.execute_reply": "2022-07-26T00:46:33.725455Z"
    },
    "papermill": {
     "duration": 0.046098,
     "end_time": "2022-07-26T00:46:33.726207",
     "exception": false,
     "start_time": "2022-07-26T00:46:33.680109",
     "status": "completed"
    },
    "tags": []
   },
   "outputs": [
    {
     "data": {
      "text/plain": [
       "'https://raw.githubusercontent.com/pratapvardhan/notebooks/master/covid19/mapping_countries.csv'"
      ]
     },
     "execution_count": 3,
     "metadata": {},
     "output_type": "execute_result"
    }
   ],
   "source": [
    "#hide\n",
    "paths['mapping']"
   ]
  },
  {
   "cell_type": "code",
   "execution_count": 4,
   "id": "urban-software",
   "metadata": {
    "execution": {
     "iopub.execute_input": "2022-07-26T00:46:33.803163Z",
     "iopub.status.busy": "2022-07-26T00:46:33.802324Z",
     "iopub.status.idle": "2022-07-26T00:46:33.804310Z",
     "shell.execute_reply": "2022-07-26T00:46:33.803778Z"
    },
    "papermill": {
     "duration": 0.046696,
     "end_time": "2022-07-26T00:46:33.804436",
     "exception": false,
     "start_time": "2022-07-26T00:46:33.757740",
     "status": "completed"
    },
    "tags": []
   },
   "outputs": [],
   "source": [
    "#hide\n",
    "def get_mappings(url):\n",
    "    df = pd.read_csv(url)\n",
    "    return {\n",
    "        'df': df,\n",
    "        'replace.country': dict(df.dropna(subset=['Name']).set_index('Country')['Name']),\n",
    "        'map.continent': dict(df.set_index('Name')['Continent'])\n",
    "    }"
   ]
  },
  {
   "cell_type": "code",
   "execution_count": 5,
   "id": "intimate-machinery",
   "metadata": {
    "execution": {
     "iopub.execute_input": "2022-07-26T00:46:33.882444Z",
     "iopub.status.busy": "2022-07-26T00:46:33.881522Z",
     "iopub.status.idle": "2022-07-26T00:46:33.917389Z",
     "shell.execute_reply": "2022-07-26T00:46:33.916820Z"
    },
    "papermill": {
     "duration": 0.079834,
     "end_time": "2022-07-26T00:46:33.917524",
     "exception": false,
     "start_time": "2022-07-26T00:46:33.837690",
     "status": "completed"
    },
    "tags": []
   },
   "outputs": [],
   "source": [
    "#hide\n",
    "mapping = get_mappings(paths['mapping'])"
   ]
  },
  {
   "cell_type": "code",
   "execution_count": 6,
   "id": "certified-tactics",
   "metadata": {
    "execution": {
     "iopub.execute_input": "2022-07-26T00:46:33.988324Z",
     "iopub.status.busy": "2022-07-26T00:46:33.987492Z",
     "iopub.status.idle": "2022-07-26T00:46:33.990433Z",
     "shell.execute_reply": "2022-07-26T00:46:33.989925Z"
    },
    "papermill": {
     "duration": 0.039645,
     "end_time": "2022-07-26T00:46:33.990562",
     "exception": false,
     "start_time": "2022-07-26T00:46:33.950917",
     "status": "completed"
    },
    "tags": []
   },
   "outputs": [],
   "source": [
    "#hide\n",
    "def get_template(path):\n",
    "    from urllib.parse import urlparse\n",
    "    if bool(urlparse(path).netloc):\n",
    "        from urllib.request import urlopen\n",
    "        return urlopen(path).read().decode('utf8')\n",
    "    return open(path).read()"
   ]
  },
  {
   "cell_type": "code",
   "execution_count": 7,
   "id": "realistic-blast",
   "metadata": {
    "execution": {
     "iopub.execute_input": "2022-07-26T00:46:34.061769Z",
     "iopub.status.busy": "2022-07-26T00:46:34.060976Z",
     "iopub.status.idle": "2022-07-26T00:46:34.063923Z",
     "shell.execute_reply": "2022-07-26T00:46:34.063361Z"
    },
    "papermill": {
     "duration": 0.04114,
     "end_time": "2022-07-26T00:46:34.064061",
     "exception": false,
     "start_time": "2022-07-26T00:46:34.022921",
     "status": "completed"
    },
    "tags": []
   },
   "outputs": [],
   "source": [
    "#hide\n",
    "def get_frame(name):\n",
    "    url = (\n",
    "        'https://raw.githubusercontent.com/CSSEGISandData/COVID-19/master/csse_covid_19_data/'\n",
    "        f'csse_covid_19_time_series/time_series_covid19_{name}_global.csv')\n",
    "    df = pd.read_csv(url)\n",
    "    # rename countries\n",
    "    df['Country/Region'] = df['Country/Region'].replace(mapping['replace.country'])\n",
    "    return df"
   ]
  },
  {
   "cell_type": "code",
   "execution_count": 8,
   "id": "affiliated-characterization",
   "metadata": {
    "execution": {
     "iopub.execute_input": "2022-07-26T00:46:34.138366Z",
     "iopub.status.busy": "2022-07-26T00:46:34.137660Z",
     "iopub.status.idle": "2022-07-26T00:46:34.140366Z",
     "shell.execute_reply": "2022-07-26T00:46:34.139730Z"
    },
    "papermill": {
     "duration": 0.039756,
     "end_time": "2022-07-26T00:46:34.140495",
     "exception": false,
     "start_time": "2022-07-26T00:46:34.100739",
     "status": "completed"
    },
    "tags": []
   },
   "outputs": [],
   "source": [
    "#hide\n",
    "def get_dates(df):\n",
    "    dt_cols = df.columns[~df.columns.isin(['Province/State', 'Country/Region', 'Lat', 'Long'])]\n",
    "    LAST_DATE_I = -1\n",
    "    # sometimes last column may be empty, then go backwards\n",
    "    for i in range(-1, -len(dt_cols), -1):\n",
    "        if not df[dt_cols[i]].fillna(0).eq(0).all():\n",
    "            LAST_DATE_I = i\n",
    "            break\n",
    "    return LAST_DATE_I, dt_cols"
   ]
  },
  {
   "cell_type": "code",
   "execution_count": 9,
   "id": "recent-optimization",
   "metadata": {
    "execution": {
     "iopub.execute_input": "2022-07-26T00:46:34.211717Z",
     "iopub.status.busy": "2022-07-26T00:46:34.210985Z",
     "iopub.status.idle": "2022-07-26T00:46:34.609960Z",
     "shell.execute_reply": "2022-07-26T00:46:34.610597Z"
    },
    "papermill": {
     "duration": 0.439613,
     "end_time": "2022-07-26T00:46:34.610776",
     "exception": false,
     "start_time": "2022-07-26T00:46:34.171163",
     "status": "completed"
    },
    "tags": []
   },
   "outputs": [],
   "source": [
    "#hide\n",
    "COL_REGION = 'Country/Region'\n",
    "# Confirmed, Recovered, Deaths\n",
    "df = get_frame('confirmed')\n",
    "# dft_: timeseries, dfc_: today country agg\n",
    "dft_cases = df\n",
    "dft_deaths = get_frame('deaths')\n",
    "dft_recovered = get_frame('recovered')\n",
    "LAST_DATE_I, dt_cols = get_dates(df)"
   ]
  },
  {
   "cell_type": "code",
   "execution_count": 10,
   "id": "absolute-copper",
   "metadata": {
    "execution": {
     "iopub.execute_input": "2022-07-26T00:46:34.688895Z",
     "iopub.status.busy": "2022-07-26T00:46:34.688176Z",
     "iopub.status.idle": "2022-07-26T00:46:34.693840Z",
     "shell.execute_reply": "2022-07-26T00:46:34.694470Z"
    },
    "papermill": {
     "duration": 0.047628,
     "end_time": "2022-07-26T00:46:34.694617",
     "exception": false,
     "start_time": "2022-07-26T00:46:34.646989",
     "status": "completed"
    },
    "tags": []
   },
   "outputs": [],
   "source": [
    "#hide\n",
    "LAST_DATE_I, dt_cols = get_dates(df)\n",
    "dt_today =dt_cols[LAST_DATE_I]\n",
    "# dt_5day = dt_cols[LAST_DATE_I - 5]\n",
    "dt_yday = dt_cols[LAST_DATE_I - 1]"
   ]
  },
  {
   "cell_type": "code",
   "execution_count": 11,
   "id": "restricted-sheriff",
   "metadata": {
    "execution": {
     "iopub.execute_input": "2022-07-26T00:46:34.771534Z",
     "iopub.status.busy": "2022-07-26T00:46:34.770398Z",
     "iopub.status.idle": "2022-07-26T00:46:34.776676Z",
     "shell.execute_reply": "2022-07-26T00:46:34.777350Z"
    },
    "papermill": {
     "duration": 0.049746,
     "end_time": "2022-07-26T00:46:34.777499",
     "exception": false,
     "start_time": "2022-07-26T00:46:34.727753",
     "status": "completed"
    },
    "tags": []
   },
   "outputs": [],
   "source": [
    "#hide\n",
    "dfc_cases = dft_cases.groupby(COL_REGION)[dt_today].sum()\n",
    "dfc_deaths = dft_deaths.groupby(COL_REGION)[dt_today].sum()\n",
    "# dfp_cases = dft_cases.groupby(COL_REGION)[dt_5day].sum()\n",
    "# dfp_deaths = dft_deaths.groupby(COL_REGION)[dt_5day].sum()\n",
    "dfp_cases = dft_cases.groupby(COL_REGION)[dt_yday].sum()\n",
    "dfp_deaths = dft_deaths.groupby(COL_REGION)[dt_yday].sum()"
   ]
  },
  {
   "cell_type": "code",
   "execution_count": 12,
   "id": "deluxe-hepatitis",
   "metadata": {
    "execution": {
     "iopub.execute_input": "2022-07-26T00:46:34.853187Z",
     "iopub.status.busy": "2022-07-26T00:46:34.852253Z",
     "iopub.status.idle": "2022-07-26T00:46:34.858046Z",
     "shell.execute_reply": "2022-07-26T00:46:34.857453Z"
    },
    "papermill": {
     "duration": 0.046167,
     "end_time": "2022-07-26T00:46:34.858180",
     "exception": false,
     "start_time": "2022-07-26T00:46:34.812013",
     "status": "completed"
    },
    "tags": []
   },
   "outputs": [],
   "source": [
    "#hide\n",
    "df_table = (pd.DataFrame(dict(Cases = dfc_cases, Deaths = dfc_deaths, PCases = dfp_cases, PDeaths = dfp_deaths))\n",
    "            .sort_values(by = ['Cases','Deaths'], ascending = [False, False])\n",
    "            .reset_index())"
   ]
  },
  {
   "cell_type": "code",
   "execution_count": 13,
   "id": "educational-chancellor",
   "metadata": {
    "execution": {
     "iopub.execute_input": "2022-07-26T00:46:34.942936Z",
     "iopub.status.busy": "2022-07-26T00:46:34.942247Z",
     "iopub.status.idle": "2022-07-26T00:46:34.951877Z",
     "shell.execute_reply": "2022-07-26T00:46:34.951346Z"
    },
    "papermill": {
     "duration": 0.061921,
     "end_time": "2022-07-26T00:46:34.952005",
     "exception": false,
     "start_time": "2022-07-26T00:46:34.890084",
     "status": "completed"
    },
    "tags": []
   },
   "outputs": [
    {
     "data": {
      "text/html": [
       "<div>\n",
       "<style scoped>\n",
       "    .dataframe tbody tr th:only-of-type {\n",
       "        vertical-align: middle;\n",
       "    }\n",
       "\n",
       "    .dataframe tbody tr th {\n",
       "        vertical-align: top;\n",
       "    }\n",
       "\n",
       "    .dataframe thead th {\n",
       "        text-align: right;\n",
       "    }\n",
       "</style>\n",
       "<table border=\"1\" class=\"dataframe\">\n",
       "  <thead>\n",
       "    <tr style=\"text-align: right;\">\n",
       "      <th></th>\n",
       "      <th>Country/Region</th>\n",
       "      <th>Cases</th>\n",
       "      <th>Deaths</th>\n",
       "      <th>PCases</th>\n",
       "      <th>PDeaths</th>\n",
       "      <th>Cases (+)</th>\n",
       "      <th>Deaths (+)</th>\n",
       "      <th>Fatality Rate</th>\n",
       "      <th>Continent</th>\n",
       "    </tr>\n",
       "  </thead>\n",
       "  <tbody>\n",
       "    <tr>\n",
       "      <th>0</th>\n",
       "      <td>US</td>\n",
       "      <td>90410386</td>\n",
       "      <td>1026951</td>\n",
       "      <td>90390185</td>\n",
       "      <td>1026937</td>\n",
       "      <td>20201</td>\n",
       "      <td>14</td>\n",
       "      <td>1.14</td>\n",
       "      <td>North America</td>\n",
       "    </tr>\n",
       "    <tr>\n",
       "      <th>1</th>\n",
       "      <td>India</td>\n",
       "      <td>43905621</td>\n",
       "      <td>526074</td>\n",
       "      <td>43888755</td>\n",
       "      <td>526033</td>\n",
       "      <td>16866</td>\n",
       "      <td>41</td>\n",
       "      <td>1.20</td>\n",
       "      <td>Asia</td>\n",
       "    </tr>\n",
       "    <tr>\n",
       "      <th>2</th>\n",
       "      <td>France</td>\n",
       "      <td>33621366</td>\n",
       "      <td>152390</td>\n",
       "      <td>33621366</td>\n",
       "      <td>152390</td>\n",
       "      <td>0</td>\n",
       "      <td>0</td>\n",
       "      <td>0.45</td>\n",
       "      <td>Europe</td>\n",
       "    </tr>\n",
       "    <tr>\n",
       "      <th>3</th>\n",
       "      <td>Brazil</td>\n",
       "      <td>33591356</td>\n",
       "      <td>676964</td>\n",
       "      <td>33555526</td>\n",
       "      <td>676766</td>\n",
       "      <td>35830</td>\n",
       "      <td>198</td>\n",
       "      <td>2.02</td>\n",
       "      <td>South America</td>\n",
       "    </tr>\n",
       "    <tr>\n",
       "      <th>4</th>\n",
       "      <td>Germany</td>\n",
       "      <td>30331133</td>\n",
       "      <td>143177</td>\n",
       "      <td>30331133</td>\n",
       "      <td>143177</td>\n",
       "      <td>0</td>\n",
       "      <td>0</td>\n",
       "      <td>0.47</td>\n",
       "      <td>Europe</td>\n",
       "    </tr>\n",
       "  </tbody>\n",
       "</table>\n",
       "</div>"
      ],
      "text/plain": [
       "  Country/Region     Cases   Deaths    PCases  PDeaths  Cases (+)  Deaths (+)  \\\n",
       "0             US  90410386  1026951  90390185  1026937      20201          14   \n",
       "1          India  43905621   526074  43888755   526033      16866          41   \n",
       "2         France  33621366   152390  33621366   152390          0           0   \n",
       "3         Brazil  33591356   676964  33555526   676766      35830         198   \n",
       "4        Germany  30331133   143177  30331133   143177          0           0   \n",
       "\n",
       "   Fatality Rate      Continent  \n",
       "0           1.14  North America  \n",
       "1           1.20           Asia  \n",
       "2           0.45         Europe  \n",
       "3           2.02  South America  \n",
       "4           0.47         Europe  "
      ]
     },
     "execution_count": 13,
     "metadata": {},
     "output_type": "execute_result"
    }
   ],
   "source": [
    "#hide\n",
    "for c in 'Cases, Deaths'.split(', '):\n",
    "    df_table[f'{c} (+)'] = (df_table[c] - df_table[f'P{c}']).clip(0)\n",
    "    #Clip ça veut dire, les chiffres negatif sont interdit\n",
    "df_table['Fatality Rate'] = (100* df_table['Deaths']/ df_table['Cases']).round(2)\n",
    "df_table['Continent'] = df_table['Country/Region'].map(mapping['map.continent'])\n",
    "df_table.head(5)"
   ]
  },
  {
   "cell_type": "code",
   "execution_count": 14,
   "id": "aboriginal-bulgaria",
   "metadata": {
    "execution": {
     "iopub.execute_input": "2022-07-26T00:46:35.026625Z",
     "iopub.status.busy": "2022-07-26T00:46:35.025907Z",
     "iopub.status.idle": "2022-07-26T00:46:35.029077Z",
     "shell.execute_reply": "2022-07-26T00:46:35.029599Z"
    },
    "papermill": {
     "duration": 0.043286,
     "end_time": "2022-07-26T00:46:35.029736",
     "exception": false,
     "start_time": "2022-07-26T00:46:34.986450",
     "status": "completed"
    },
    "tags": []
   },
   "outputs": [],
   "source": [
    "#hide\n",
    "#delete problematic countries from table\n",
    "df_table = df_table[~df_table['Country/Region'].isin(['Cape Verde', 'Cruise Ship', 'Kosovo'])]"
   ]
  },
  {
   "cell_type": "code",
   "execution_count": 15,
   "id": "fantastic-effect",
   "metadata": {
    "execution": {
     "iopub.execute_input": "2022-07-26T00:46:35.105819Z",
     "iopub.status.busy": "2022-07-26T00:46:35.105059Z",
     "iopub.status.idle": "2022-07-26T00:46:35.125826Z",
     "shell.execute_reply": "2022-07-26T00:46:35.126490Z"
    },
    "papermill": {
     "duration": 0.063177,
     "end_time": "2022-07-26T00:46:35.126658",
     "exception": false,
     "start_time": "2022-07-26T00:46:35.063481",
     "status": "completed"
    },
    "tags": []
   },
   "outputs": [
    {
     "data": {
      "text/html": [
       "<div>\n",
       "<style scoped>\n",
       "    .dataframe tbody tr th:only-of-type {\n",
       "        vertical-align: middle;\n",
       "    }\n",
       "\n",
       "    .dataframe tbody tr th {\n",
       "        vertical-align: top;\n",
       "    }\n",
       "\n",
       "    .dataframe thead th {\n",
       "        text-align: right;\n",
       "    }\n",
       "</style>\n",
       "<table border=\"1\" class=\"dataframe\">\n",
       "  <thead>\n",
       "    <tr style=\"text-align: right;\">\n",
       "      <th></th>\n",
       "      <th>Country/Region</th>\n",
       "      <th>Cases</th>\n",
       "      <th>Deaths</th>\n",
       "      <th>PCases</th>\n",
       "      <th>PDeaths</th>\n",
       "      <th>Cases (+)</th>\n",
       "      <th>Deaths (+)</th>\n",
       "      <th>Fatality Rate</th>\n",
       "      <th>Continent</th>\n",
       "    </tr>\n",
       "  </thead>\n",
       "  <tbody>\n",
       "    <tr>\n",
       "      <th>0</th>\n",
       "      <td>US</td>\n",
       "      <td>90410386</td>\n",
       "      <td>1026951</td>\n",
       "      <td>90390185</td>\n",
       "      <td>1026937</td>\n",
       "      <td>20201</td>\n",
       "      <td>14</td>\n",
       "      <td>1.1</td>\n",
       "      <td>North America</td>\n",
       "    </tr>\n",
       "    <tr>\n",
       "      <th>1</th>\n",
       "      <td>India</td>\n",
       "      <td>43905621</td>\n",
       "      <td>526074</td>\n",
       "      <td>43888755</td>\n",
       "      <td>526033</td>\n",
       "      <td>16866</td>\n",
       "      <td>41</td>\n",
       "      <td>1.2</td>\n",
       "      <td>Asia</td>\n",
       "    </tr>\n",
       "    <tr>\n",
       "      <th>2</th>\n",
       "      <td>France</td>\n",
       "      <td>33621366</td>\n",
       "      <td>152390</td>\n",
       "      <td>33621366</td>\n",
       "      <td>152390</td>\n",
       "      <td>0</td>\n",
       "      <td>0</td>\n",
       "      <td>0.5</td>\n",
       "      <td>Europe</td>\n",
       "    </tr>\n",
       "    <tr>\n",
       "      <th>3</th>\n",
       "      <td>Brazil</td>\n",
       "      <td>33591356</td>\n",
       "      <td>676964</td>\n",
       "      <td>33555526</td>\n",
       "      <td>676766</td>\n",
       "      <td>35830</td>\n",
       "      <td>198</td>\n",
       "      <td>2.0</td>\n",
       "      <td>South America</td>\n",
       "    </tr>\n",
       "    <tr>\n",
       "      <th>4</th>\n",
       "      <td>Germany</td>\n",
       "      <td>30331133</td>\n",
       "      <td>143177</td>\n",
       "      <td>30331133</td>\n",
       "      <td>143177</td>\n",
       "      <td>0</td>\n",
       "      <td>0</td>\n",
       "      <td>0.5</td>\n",
       "      <td>Europe</td>\n",
       "    </tr>\n",
       "  </tbody>\n",
       "</table>\n",
       "</div>"
      ],
      "text/plain": [
       "  Country/Region     Cases   Deaths    PCases  PDeaths  Cases (+)  Deaths (+)  \\\n",
       "0             US  90410386  1026951  90390185  1026937      20201          14   \n",
       "1          India  43905621   526074  43888755   526033      16866          41   \n",
       "2         France  33621366   152390  33621366   152390          0           0   \n",
       "3         Brazil  33591356   676964  33555526   676766      35830         198   \n",
       "4        Germany  30331133   143177  30331133   143177          0           0   \n",
       "\n",
       "   Fatality Rate      Continent  \n",
       "0            1.1  North America  \n",
       "1            1.2           Asia  \n",
       "2            0.5         Europe  \n",
       "3            2.0  South America  \n",
       "4            0.5         Europe  "
      ]
     },
     "execution_count": 15,
     "metadata": {},
     "output_type": "execute_result"
    }
   ],
   "source": [
    "#hide\n",
    "df_table = (pd.DataFrame(dict(Cases=dfc_cases, Deaths=dfc_deaths, PCases=dfp_cases, PDeaths=dfp_deaths))\n",
    "             .sort_values(by=['Cases', 'Deaths'], ascending=[False, False])\n",
    "             .reset_index())\n",
    "df_table.rename(columns={'index': 'Country/Region'}, inplace=True)\n",
    "for c in 'Cases, Deaths'.split(', '):\n",
    "    df_table[f'{c} (+)'] = (df_table[c] - df_table[f'P{c}']).clip(0)  # DATA BUG\n",
    "df_table['Fatality Rate'] = (100 * df_table['Deaths'] / df_table['Cases']).round(1)\n",
    "df_table['Continent'] = df_table['Country/Region'].map(mapping['map.continent'])\n",
    "df_table.head(5)"
   ]
  },
  {
   "cell_type": "code",
   "execution_count": 16,
   "id": "fewer-occasion",
   "metadata": {
    "execution": {
     "iopub.execute_input": "2022-07-26T00:46:35.204620Z",
     "iopub.status.busy": "2022-07-26T00:46:35.203912Z",
     "iopub.status.idle": "2022-07-26T00:46:35.207630Z",
     "shell.execute_reply": "2022-07-26T00:46:35.208148Z"
    },
    "papermill": {
     "duration": 0.048064,
     "end_time": "2022-07-26T00:46:35.208307",
     "exception": false,
     "start_time": "2022-07-26T00:46:35.160243",
     "status": "completed"
    },
    "tags": []
   },
   "outputs": [],
   "source": [
    "#hide\n",
    "#delete problematic countries from table\n",
    "df_table = df_table[~df_table['Country/Region'].isin(['Cape Verde', 'Cruise Ship', 'Kosovo'])]"
   ]
  },
  {
   "cell_type": "code",
   "execution_count": 17,
   "id": "related-center",
   "metadata": {
    "execution": {
     "iopub.execute_input": "2022-07-26T00:46:35.291731Z",
     "iopub.status.busy": "2022-07-26T00:46:35.291050Z",
     "iopub.status.idle": "2022-07-26T00:46:35.300821Z",
     "shell.execute_reply": "2022-07-26T00:46:35.301780Z"
    },
    "papermill": {
     "duration": 0.060817,
     "end_time": "2022-07-26T00:46:35.301947",
     "exception": false,
     "start_time": "2022-07-26T00:46:35.241130",
     "status": "completed"
    },
    "tags": []
   },
   "outputs": [],
   "source": [
    "#hide\n",
    "metrics = [df_table.columns[index] for index in [1,2,5,6]]\n",
    "# s_china = df_table[df_table['Country/Region'].eq('China')][metrics].sum().add_prefix('China ')\n",
    "s_us = df_table[df_table['Country/Region'].eq('US')][metrics].sum().add_prefix('US ')\n",
    "s_eu = df_table[df_table['Continent'].eq('Europe')][metrics].sum().add_prefix('EU ')\n",
    "s_ind = df_table[df_table['Country/Region'].eq('India')][metrics].sum().add_prefix('India ')\n",
    "summary = {'updated': pd.to_datetime(dt_today), 'since': pd.to_datetime(dt_yday)}\n",
    "summary = {'updated': pd.to_datetime(dt_today), 'since': pd.to_datetime(dt_yday)}\n",
    "summary = {**summary, **df_table[metrics].sum(), **s_ind, **s_us, **s_eu}"
   ]
  },
  {
   "cell_type": "code",
   "execution_count": 18,
   "id": "engaging-syndrome",
   "metadata": {
    "execution": {
     "iopub.execute_input": "2022-07-26T00:46:35.374801Z",
     "iopub.status.busy": "2022-07-26T00:46:35.374138Z",
     "iopub.status.idle": "2022-07-26T00:46:35.401132Z",
     "shell.execute_reply": "2022-07-26T00:46:35.401841Z"
    },
    "papermill": {
     "duration": 0.067192,
     "end_time": "2022-07-26T00:46:35.402035",
     "exception": false,
     "start_time": "2022-07-26T00:46:35.334843",
     "status": "completed"
    },
    "tags": []
   },
   "outputs": [],
   "source": [
    "#hide\n",
    "dft_ct_new_cases = dft_cases.groupby(COL_REGION)[dt_cols].sum().diff(axis=1).fillna(0).astype(int)"
   ]
  },
  {
   "cell_type": "code",
   "execution_count": 19,
   "id": "neutral-assignment",
   "metadata": {
    "execution": {
     "iopub.execute_input": "2022-07-26T00:46:35.477269Z",
     "iopub.status.busy": "2022-07-26T00:46:35.476604Z",
     "iopub.status.idle": "2022-07-26T00:46:35.479331Z",
     "shell.execute_reply": "2022-07-26T00:46:35.479861Z"
    },
    "papermill": {
     "duration": 0.043823,
     "end_time": "2022-07-26T00:46:35.480006",
     "exception": false,
     "start_time": "2022-07-26T00:46:35.436183",
     "status": "completed"
    },
    "tags": []
   },
   "outputs": [],
   "source": [
    "#hide\n",
    "everydaycases = dft_ct_new_cases.cumsum(axis=1)"
   ]
  },
  {
   "cell_type": "code",
   "execution_count": 20,
   "id": "parliamentary-calgary",
   "metadata": {
    "execution": {
     "iopub.execute_input": "2022-07-26T00:46:35.552737Z",
     "iopub.status.busy": "2022-07-26T00:46:35.552023Z",
     "iopub.status.idle": "2022-07-26T00:46:36.197309Z",
     "shell.execute_reply": "2022-07-26T00:46:36.197956Z"
    },
    "papermill": {
     "duration": 0.684345,
     "end_time": "2022-07-26T00:46:36.198138",
     "exception": false,
     "start_time": "2022-07-26T00:46:35.513793",
     "status": "completed"
    },
    "tags": []
   },
   "outputs": [],
   "source": [
    "#hide\n",
    "import pandas as pd\n",
    "import matplotlib.pyplot as plt\n",
    "import matplotlib.ticker as ticker\n",
    "import matplotlib.animation as animation\n",
    "from IPython.display import HTML"
   ]
  },
  {
   "cell_type": "code",
   "execution_count": 21,
   "id": "lasting-extraction",
   "metadata": {
    "execution": {
     "iopub.execute_input": "2022-07-26T00:46:36.275164Z",
     "iopub.status.busy": "2022-07-26T00:46:36.274476Z",
     "iopub.status.idle": "2022-07-26T00:46:36.282695Z",
     "shell.execute_reply": "2022-07-26T00:46:36.283305Z"
    },
    "papermill": {
     "duration": 0.051375,
     "end_time": "2022-07-26T00:46:36.283473",
     "exception": false,
     "start_time": "2022-07-26T00:46:36.232098",
     "status": "completed"
    },
    "tags": []
   },
   "outputs": [],
   "source": [
    "#hide\n",
    "t = everydaycases.stack()"
   ]
  },
  {
   "cell_type": "code",
   "execution_count": 22,
   "id": "premier-sleeve",
   "metadata": {
    "execution": {
     "iopub.execute_input": "2022-07-26T00:46:36.361269Z",
     "iopub.status.busy": "2022-07-26T00:46:36.360597Z",
     "iopub.status.idle": "2022-07-26T00:46:36.374023Z",
     "shell.execute_reply": "2022-07-26T00:46:36.373294Z"
    },
    "papermill": {
     "duration": 0.054078,
     "end_time": "2022-07-26T00:46:36.374702",
     "exception": false,
     "start_time": "2022-07-26T00:46:36.320624",
     "status": "completed"
    },
    "tags": []
   },
   "outputs": [],
   "source": [
    "#hide\n",
    "g = t.reset_index(['Country/Region'])"
   ]
  },
  {
   "cell_type": "code",
   "execution_count": 23,
   "id": "distributed-pittsburgh",
   "metadata": {
    "execution": {
     "iopub.execute_input": "2022-07-26T00:46:36.448802Z",
     "iopub.status.busy": "2022-07-26T00:46:36.447945Z",
     "iopub.status.idle": "2022-07-26T00:46:36.452568Z",
     "shell.execute_reply": "2022-07-26T00:46:36.453076Z"
    },
    "papermill": {
     "duration": 0.043993,
     "end_time": "2022-07-26T00:46:36.453236",
     "exception": false,
     "start_time": "2022-07-26T00:46:36.409243",
     "status": "completed"
    },
    "tags": []
   },
   "outputs": [],
   "source": [
    "#hide\n",
    "g.index.name = 'date'"
   ]
  },
  {
   "cell_type": "code",
   "execution_count": 24,
   "id": "naked-donor",
   "metadata": {
    "execution": {
     "iopub.execute_input": "2022-07-26T00:46:36.526888Z",
     "iopub.status.busy": "2022-07-26T00:46:36.526042Z",
     "iopub.status.idle": "2022-07-26T00:46:36.528602Z",
     "shell.execute_reply": "2022-07-26T00:46:36.527917Z"
    },
    "papermill": {
     "duration": 0.041331,
     "end_time": "2022-07-26T00:46:36.528739",
     "exception": false,
     "start_time": "2022-07-26T00:46:36.487408",
     "status": "completed"
    },
    "tags": []
   },
   "outputs": [],
   "source": [
    "# #hide\n",
    "# g = g.reset_index(['date'])"
   ]
  },
  {
   "cell_type": "code",
   "execution_count": 25,
   "id": "incomplete-mustang",
   "metadata": {
    "execution": {
     "iopub.execute_input": "2022-07-26T00:46:36.603528Z",
     "iopub.status.busy": "2022-07-26T00:46:36.602809Z",
     "iopub.status.idle": "2022-07-26T00:46:36.605604Z",
     "shell.execute_reply": "2022-07-26T00:46:36.606165Z"
    },
    "papermill": {
     "duration": 0.042574,
     "end_time": "2022-07-26T00:46:36.606327",
     "exception": false,
     "start_time": "2022-07-26T00:46:36.563753",
     "status": "completed"
    },
    "tags": []
   },
   "outputs": [],
   "source": [
    "#hide\n",
    "# g.head()"
   ]
  },
  {
   "cell_type": "code",
   "execution_count": 26,
   "id": "specific-kruger",
   "metadata": {
    "execution": {
     "iopub.execute_input": "2022-07-26T00:46:36.682906Z",
     "iopub.status.busy": "2022-07-26T00:46:36.682154Z",
     "iopub.status.idle": "2022-07-26T00:46:36.684879Z",
     "shell.execute_reply": "2022-07-26T00:46:36.685387Z"
    },
    "papermill": {
     "duration": 0.042493,
     "end_time": "2022-07-26T00:46:36.685547",
     "exception": false,
     "start_time": "2022-07-26T00:46:36.643054",
     "status": "completed"
    },
    "tags": []
   },
   "outputs": [],
   "source": [
    "#hide\n",
    "# g.columns = ['date','country','cases']"
   ]
  },
  {
   "cell_type": "code",
   "execution_count": 27,
   "id": "tender-conversion",
   "metadata": {
    "execution": {
     "iopub.execute_input": "2022-07-26T00:46:36.759249Z",
     "iopub.status.busy": "2022-07-26T00:46:36.758476Z",
     "iopub.status.idle": "2022-07-26T00:46:36.761318Z",
     "shell.execute_reply": "2022-07-26T00:46:36.760746Z"
    },
    "papermill": {
     "duration": 0.041417,
     "end_time": "2022-07-26T00:46:36.761452",
     "exception": false,
     "start_time": "2022-07-26T00:46:36.720035",
     "status": "completed"
    },
    "tags": []
   },
   "outputs": [],
   "source": [
    "#hide\n",
    "# g['continent'] = g.country"
   ]
  },
  {
   "cell_type": "code",
   "execution_count": 28,
   "id": "substantial-wilderness",
   "metadata": {
    "execution": {
     "iopub.execute_input": "2022-07-26T00:46:36.839008Z",
     "iopub.status.busy": "2022-07-26T00:46:36.838316Z",
     "iopub.status.idle": "2022-07-26T00:46:36.843122Z",
     "shell.execute_reply": "2022-07-26T00:46:36.842517Z"
    },
    "papermill": {
     "duration": 0.042456,
     "end_time": "2022-07-26T00:46:36.843250",
     "exception": false,
     "start_time": "2022-07-26T00:46:36.800794",
     "status": "completed"
    },
    "tags": []
   },
   "outputs": [],
   "source": [
    "#hide\n",
    "# cols = list(g.columns.values)"
   ]
  },
  {
   "cell_type": "code",
   "execution_count": 29,
   "id": "solved-farming",
   "metadata": {
    "execution": {
     "iopub.execute_input": "2022-07-26T00:46:36.922372Z",
     "iopub.status.busy": "2022-07-26T00:46:36.921617Z",
     "iopub.status.idle": "2022-07-26T00:46:36.926428Z",
     "shell.execute_reply": "2022-07-26T00:46:36.925838Z"
    },
    "papermill": {
     "duration": 0.046375,
     "end_time": "2022-07-26T00:46:36.926566",
     "exception": false,
     "start_time": "2022-07-26T00:46:36.880191",
     "status": "completed"
    },
    "tags": []
   },
   "outputs": [],
   "source": [
    "#hide\n",
    "# cols.insert(0, cols.pop())"
   ]
  },
  {
   "cell_type": "code",
   "execution_count": 30,
   "id": "executed-adoption",
   "metadata": {
    "execution": {
     "iopub.execute_input": "2022-07-26T00:46:36.999002Z",
     "iopub.status.busy": "2022-07-26T00:46:36.998282Z",
     "iopub.status.idle": "2022-07-26T00:46:37.001143Z",
     "shell.execute_reply": "2022-07-26T00:46:37.000545Z"
    },
    "papermill": {
     "duration": 0.040916,
     "end_time": "2022-07-26T00:46:37.001271",
     "exception": false,
     "start_time": "2022-07-26T00:46:36.960355",
     "status": "completed"
    },
    "tags": []
   },
   "outputs": [],
   "source": [
    "#hide\n",
    "# g = g[cols]"
   ]
  },
  {
   "cell_type": "code",
   "execution_count": 31,
   "id": "subject-dublin",
   "metadata": {
    "execution": {
     "iopub.execute_input": "2022-07-26T00:46:37.072944Z",
     "iopub.status.busy": "2022-07-26T00:46:37.072250Z",
     "iopub.status.idle": "2022-07-26T00:46:37.076361Z",
     "shell.execute_reply": "2022-07-26T00:46:37.076868Z"
    },
    "papermill": {
     "duration": 0.042447,
     "end_time": "2022-07-26T00:46:37.077024",
     "exception": false,
     "start_time": "2022-07-26T00:46:37.034577",
     "status": "completed"
    },
    "tags": []
   },
   "outputs": [],
   "source": [
    "#hide\n",
    "# g['continent'] = g['continent'].map(mapping['map.continent'])"
   ]
  },
  {
   "cell_type": "code",
   "execution_count": 32,
   "id": "freelance-scout",
   "metadata": {
    "execution": {
     "iopub.execute_input": "2022-07-26T00:46:37.153890Z",
     "iopub.status.busy": "2022-07-26T00:46:37.153160Z",
     "iopub.status.idle": "2022-07-26T00:46:37.157386Z",
     "shell.execute_reply": "2022-07-26T00:46:37.157922Z"
    },
    "papermill": {
     "duration": 0.042892,
     "end_time": "2022-07-26T00:46:37.158077",
     "exception": false,
     "start_time": "2022-07-26T00:46:37.115185",
     "status": "completed"
    },
    "tags": []
   },
   "outputs": [],
   "source": [
    "#hide\n",
    "# g.head()"
   ]
  },
  {
   "cell_type": "code",
   "execution_count": 33,
   "id": "limited-engine",
   "metadata": {
    "execution": {
     "iopub.execute_input": "2022-07-26T00:46:37.236673Z",
     "iopub.status.busy": "2022-07-26T00:46:37.234931Z",
     "iopub.status.idle": "2022-07-26T00:46:37.237490Z",
     "shell.execute_reply": "2022-07-26T00:46:37.238050Z"
    },
    "papermill": {
     "duration": 0.041706,
     "end_time": "2022-07-26T00:46:37.238209",
     "exception": false,
     "start_time": "2022-07-26T00:46:37.196503",
     "status": "completed"
    },
    "tags": []
   },
   "outputs": [],
   "source": [
    "# hide\n",
    "# g['date'] = g['date'].astype('datetime64[ns]')"
   ]
  },
  {
   "cell_type": "code",
   "execution_count": 34,
   "id": "sophisticated-supervisor",
   "metadata": {
    "execution": {
     "iopub.execute_input": "2022-07-26T00:46:37.312405Z",
     "iopub.status.busy": "2022-07-26T00:46:37.310755Z",
     "iopub.status.idle": "2022-07-26T00:46:37.313212Z",
     "shell.execute_reply": "2022-07-26T00:46:37.313772Z"
    },
    "papermill": {
     "duration": 0.042244,
     "end_time": "2022-07-26T00:46:37.313934",
     "exception": false,
     "start_time": "2022-07-26T00:46:37.271690",
     "status": "completed"
    },
    "tags": []
   },
   "outputs": [],
   "source": [
    "#hide\n",
    "# g['date'] = g.date.dt.dayofyear"
   ]
  },
  {
   "cell_type": "code",
   "execution_count": 35,
   "id": "inside-dubai",
   "metadata": {
    "execution": {
     "iopub.execute_input": "2022-07-26T00:46:37.386321Z",
     "iopub.status.busy": "2022-07-26T00:46:37.385551Z",
     "iopub.status.idle": "2022-07-26T00:46:37.393083Z",
     "shell.execute_reply": "2022-07-26T00:46:37.393623Z"
    },
    "papermill": {
     "duration": 0.046846,
     "end_time": "2022-07-26T00:46:37.393792",
     "exception": false,
     "start_time": "2022-07-26T00:46:37.346946",
     "status": "completed"
    },
    "tags": []
   },
   "outputs": [],
   "source": [
    "#hide\n",
    "# g = g.rename(columns= {'continent':'group','country':'name','cases':'value'})"
   ]
  },
  {
   "cell_type": "code",
   "execution_count": 36,
   "id": "fleet-motorcycle",
   "metadata": {
    "execution": {
     "iopub.execute_input": "2022-07-26T00:46:37.468315Z",
     "iopub.status.busy": "2022-07-26T00:46:37.467588Z",
     "iopub.status.idle": "2022-07-26T00:46:37.471789Z",
     "shell.execute_reply": "2022-07-26T00:46:37.472301Z"
    },
    "papermill": {
     "duration": 0.043471,
     "end_time": "2022-07-26T00:46:37.472470",
     "exception": false,
     "start_time": "2022-07-26T00:46:37.428999",
     "status": "completed"
    },
    "tags": []
   },
   "outputs": [],
   "source": [
    "#hide\n",
    "# cols = ['name','group','day','value']"
   ]
  },
  {
   "cell_type": "code",
   "execution_count": 37,
   "id": "continued-sleeping",
   "metadata": {
    "execution": {
     "iopub.execute_input": "2022-07-26T00:46:37.549760Z",
     "iopub.status.busy": "2022-07-26T00:46:37.549007Z",
     "iopub.status.idle": "2022-07-26T00:46:37.551475Z",
     "shell.execute_reply": "2022-07-26T00:46:37.550790Z"
    },
    "papermill": {
     "duration": 0.040484,
     "end_time": "2022-07-26T00:46:37.551609",
     "exception": false,
     "start_time": "2022-07-26T00:46:37.511125",
     "status": "completed"
    },
    "tags": []
   },
   "outputs": [],
   "source": [
    "#hide\n",
    "# g.rename(columns= {'date':'day'},inplace = True)"
   ]
  },
  {
   "cell_type": "code",
   "execution_count": 38,
   "id": "major-fight",
   "metadata": {
    "execution": {
     "iopub.execute_input": "2022-07-26T00:46:37.630357Z",
     "iopub.status.busy": "2022-07-26T00:46:37.629595Z",
     "iopub.status.idle": "2022-07-26T00:46:37.632449Z",
     "shell.execute_reply": "2022-07-26T00:46:37.631878Z"
    },
    "papermill": {
     "duration": 0.043411,
     "end_time": "2022-07-26T00:46:37.632587",
     "exception": false,
     "start_time": "2022-07-26T00:46:37.589176",
     "status": "completed"
    },
    "tags": []
   },
   "outputs": [],
   "source": [
    "#hide\n",
    "# g = g[cols]"
   ]
  },
  {
   "cell_type": "code",
   "execution_count": 39,
   "id": "structured-mobile",
   "metadata": {
    "execution": {
     "iopub.execute_input": "2022-07-26T00:46:37.710828Z",
     "iopub.status.busy": "2022-07-26T00:46:37.710091Z",
     "iopub.status.idle": "2022-07-26T00:46:37.712889Z",
     "shell.execute_reply": "2022-07-26T00:46:37.712322Z"
    },
    "papermill": {
     "duration": 0.045751,
     "end_time": "2022-07-26T00:46:37.713024",
     "exception": false,
     "start_time": "2022-07-26T00:46:37.667273",
     "status": "completed"
    },
    "tags": []
   },
   "outputs": [],
   "source": [
    "# #hide\n",
    "# g = g[g.group.notna()]"
   ]
  },
  {
   "cell_type": "code",
   "execution_count": 40,
   "id": "determined-closing",
   "metadata": {
    "execution": {
     "iopub.execute_input": "2022-07-26T00:46:37.787543Z",
     "iopub.status.busy": "2022-07-26T00:46:37.786790Z",
     "iopub.status.idle": "2022-07-26T00:46:37.789430Z",
     "shell.execute_reply": "2022-07-26T00:46:37.788753Z"
    },
    "papermill": {
     "duration": 0.04104,
     "end_time": "2022-07-26T00:46:37.789589",
     "exception": false,
     "start_time": "2022-07-26T00:46:37.748549",
     "status": "completed"
    },
    "tags": []
   },
   "outputs": [],
   "source": [
    "# #hide\n",
    "# colors = dict(zip(\n",
    "#     [\"Oceania\", \"Europe\", \"Asia\", \"South America\", \"Middle East\", \"North America\", \"Africa\"],\n",
    "#     [\"#adb0ff\", \"#ffb3ff\", \"#90d595\", \"#e48381\", \"#aafbff\", \"#f7bb5f\", \"#eafb50\"]\n",
    "# ))\n",
    "# group_lk = g.set_index('name')['group'].to_dict()"
   ]
  },
  {
   "cell_type": "code",
   "execution_count": null,
   "id": "gross-drinking",
   "metadata": {
    "papermill": {
     "duration": 0.034009,
     "end_time": "2022-07-26T00:46:37.856380",
     "exception": false,
     "start_time": "2022-07-26T00:46:37.822371",
     "status": "completed"
    },
    "tags": []
   },
   "outputs": [],
   "source": []
  },
  {
   "cell_type": "code",
   "execution_count": 41,
   "id": "subject-macintosh",
   "metadata": {
    "execution": {
     "iopub.execute_input": "2022-07-26T00:46:37.928606Z",
     "iopub.status.busy": "2022-07-26T00:46:37.927859Z",
     "iopub.status.idle": "2022-07-26T00:46:37.930694Z",
     "shell.execute_reply": "2022-07-26T00:46:37.931307Z"
    },
    "papermill": {
     "duration": 0.040804,
     "end_time": "2022-07-26T00:46:37.931458",
     "exception": false,
     "start_time": "2022-07-26T00:46:37.890654",
     "status": "completed"
    },
    "tags": []
   },
   "outputs": [],
   "source": [
    "# #hide\n",
    "# fig, ax = plt.subplots(figsize=(15, 8))\n",
    "\n",
    "# def draw_barchart(current_day):\n",
    "#     dff = g[g['day'].eq(current_day)].sort_values(by='value', ascending=True).tail(10)\n",
    "#     ax.clear()\n",
    "#     ax.barh(dff['name'], dff['value'], color=[colors[group_lk[x]] for x in dff['name']])\n",
    "#     dx = dff['value'].max() / 200\n",
    "    \n",
    "#     for i, (value, name) in enumerate(zip(dff['value'], dff['name'])):\n",
    "#         ax.text(value-dx, i,     name,           size=14, weight=600, ha='right', va='bottom')\n",
    "#         ax.text(value-dx, i-.25, group_lk[name], size=10, color='#444444', ha='right', va='baseline')\n",
    "#         ax.text(value+dx, i,     f'{value:,.0f}',  size=14, ha='left',  va='center')\n",
    "#     ax.text(1, 0.4, current_day, transform=ax.transAxes, color='#777777', size=46, ha='right', weight=800)\n",
    "#     ax.text(0, 1.06, 'Population (thousands)', transform=ax.transAxes, size=12, color='#777777')\n",
    "#     ax.xaxis.set_major_formatter(ticker.StrMethodFormatter('{x:,.0f}'))\n",
    "#     ax.xaxis.set_ticks_position('top')\n",
    "#     ax.tick_params(axis='x', colors='#777777', labelsize=12)\n",
    "#     ax.set_yticks([])\n",
    "#     ax.margins(0, 0.01)\n",
    "#     ax.grid(which='major', axis='x', linestyle='-')\n",
    "#     ax.set_axisbelow(True)\n",
    "    \n",
    "#     ax.text(0, 1.15, 'Coronavirus',\n",
    "#             transform=ax.transAxes, size=24, weight=600, ha='left', va='top')\n",
    "# #     ax.text(1, 0, 'by @pratapvardhan; credit @jburnmurdoch', transform=ax.transAxes, color='#777777', ha='right',\n",
    "# #             bbox=dict(facecolor='white', alpha=0.8, edgecolor='white'))\n",
    "#     plt.box(False)"
   ]
  },
  {
   "cell_type": "code",
   "execution_count": 42,
   "id": "sexual-wages",
   "metadata": {
    "execution": {
     "iopub.execute_input": "2022-07-26T00:46:38.003594Z",
     "iopub.status.busy": "2022-07-26T00:46:38.002883Z",
     "iopub.status.idle": "2022-07-26T00:46:38.005165Z",
     "shell.execute_reply": "2022-07-26T00:46:38.005736Z"
    },
    "papermill": {
     "duration": 0.041652,
     "end_time": "2022-07-26T00:46:38.005902",
     "exception": false,
     "start_time": "2022-07-26T00:46:37.964250",
     "status": "completed"
    },
    "tags": []
   },
   "outputs": [],
   "source": [
    "# #hide_input\n",
    "# fig, ax = plt.subplots(figsize=(15, 8))\n",
    "# animator = animation.FuncAnimation(fig, draw_barchart, frames=range(g.day.values.min(), g.day.values.max()))\n",
    "# HTML(animator.to_jshtml())\n",
    "# # or use animator.to_html5_video() or animator.save() "
   ]
  },
  {
   "cell_type": "code",
   "execution_count": null,
   "id": "australian-container",
   "metadata": {
    "papermill": {
     "duration": 0.033832,
     "end_time": "2022-07-26T00:46:38.073563",
     "exception": false,
     "start_time": "2022-07-26T00:46:38.039731",
     "status": "completed"
    },
    "tags": []
   },
   "outputs": [],
   "source": []
  },
  {
   "cell_type": "code",
   "execution_count": null,
   "id": "mediterranean-pontiac",
   "metadata": {
    "papermill": {
     "duration": 0.034394,
     "end_time": "2022-07-26T00:46:38.142521",
     "exception": false,
     "start_time": "2022-07-26T00:46:38.108127",
     "status": "completed"
    },
    "tags": []
   },
   "outputs": [],
   "source": []
  },
  {
   "cell_type": "code",
   "execution_count": null,
   "id": "aging-legislature",
   "metadata": {
    "papermill": {
     "duration": 0.034514,
     "end_time": "2022-07-26T00:46:38.211778",
     "exception": false,
     "start_time": "2022-07-26T00:46:38.177264",
     "status": "completed"
    },
    "tags": []
   },
   "outputs": [],
   "source": []
  }
 ],
 "metadata": {
  "kernelspec": {
   "display_name": "Python 3",
   "language": "python",
   "name": "python3"
  },
  "language_info": {
   "codemirror_mode": {
    "name": "ipython",
    "version": 3
   },
   "file_extension": ".py",
   "mimetype": "text/x-python",
   "name": "python",
   "nbconvert_exporter": "python",
   "pygments_lexer": "ipython3",
   "version": "3.6.15"
  },
  "papermill": {
   "duration": 6.749491,
   "end_time": "2022-07-26T00:46:38.665257",
   "environment_variables": {},
   "exception": null,
   "input_path": "2020-03-21-covid19exp.ipynb",
   "output_path": "2020-03-21-covid19exp.ipynb",
   "parameters": {},
   "start_time": "2022-07-26T00:46:31.915766",
   "version": "2.0.0"
  }
 },
 "nbformat": 4,
 "nbformat_minor": 5
}