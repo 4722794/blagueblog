{
 "cells": [
  {
   "cell_type": "markdown",
   "id": "muslim-click",
   "metadata": {
    "papermill": {
     "duration": 0.038837,
     "end_time": "2021-05-15T00:24:26.220838",
     "exception": false,
     "start_time": "2021-05-15T00:24:26.182001",
     "status": "completed"
    },
    "tags": []
   },
   "source": [
    "# COVID-19 Case Race\n",
    "> A race chart to see rising cases around the world\n",
    "\n",
    "- author: Hargun Oberoi\n",
    "- image: images/covid-overview.png\n",
    "- hide: false\n",
    "- badges: false"
   ]
  },
  {
   "cell_type": "code",
   "execution_count": 1,
   "id": "proof-material",
   "metadata": {
    "execution": {
     "iopub.execute_input": "2021-05-15T00:24:26.299281Z",
     "iopub.status.busy": "2021-05-15T00:24:26.298718Z",
     "iopub.status.idle": "2021-05-15T00:24:26.662146Z",
     "shell.execute_reply": "2021-05-15T00:24:26.661151Z"
    },
    "papermill": {
     "duration": 0.406732,
     "end_time": "2021-05-15T00:24:26.662371",
     "exception": false,
     "start_time": "2021-05-15T00:24:26.255639",
     "status": "completed"
    },
    "tags": []
   },
   "outputs": [],
   "source": [
    "#hide\n",
    "import numpy as np\n",
    "import pandas as pd\n",
    "from jinja2 import Template\n",
    "from IPython.display import HTML"
   ]
  },
  {
   "cell_type": "code",
   "execution_count": 2,
   "id": "developed-terminology",
   "metadata": {
    "execution": {
     "iopub.execute_input": "2021-05-15T00:24:26.745507Z",
     "iopub.status.busy": "2021-05-15T00:24:26.744868Z",
     "iopub.status.idle": "2021-05-15T00:24:26.746591Z",
     "shell.execute_reply": "2021-05-15T00:24:26.747061Z"
    },
    "papermill": {
     "duration": 0.044617,
     "end_time": "2021-05-15T00:24:26.747203",
     "exception": false,
     "start_time": "2021-05-15T00:24:26.702586",
     "status": "completed"
    },
    "tags": []
   },
   "outputs": [],
   "source": [
    "#hide\n",
    "\n",
    "# FETCH\n",
    "base_url = 'https://raw.githubusercontent.com/pratapvardhan/notebooks/master/covid19/'\n",
    "paths = {\n",
    "    'mapping': base_url + 'mapping_countries.csv',\n",
    "    'overview': base_url + 'overview.tpl'\n",
    "}"
   ]
  },
  {
   "cell_type": "code",
   "execution_count": 3,
   "id": "dynamic-saver",
   "metadata": {
    "execution": {
     "iopub.execute_input": "2021-05-15T00:24:26.828967Z",
     "iopub.status.busy": "2021-05-15T00:24:26.828341Z",
     "iopub.status.idle": "2021-05-15T00:24:26.830585Z",
     "shell.execute_reply": "2021-05-15T00:24:26.831134Z"
    },
    "papermill": {
     "duration": 0.048713,
     "end_time": "2021-05-15T00:24:26.831275",
     "exception": false,
     "start_time": "2021-05-15T00:24:26.782562",
     "status": "completed"
    },
    "tags": []
   },
   "outputs": [
    {
     "data": {
      "text/plain": [
       "'https://raw.githubusercontent.com/pratapvardhan/notebooks/master/covid19/mapping_countries.csv'"
      ]
     },
     "execution_count": 3,
     "metadata": {},
     "output_type": "execute_result"
    }
   ],
   "source": [
    "#hide\n",
    "paths['mapping']"
   ]
  },
  {
   "cell_type": "code",
   "execution_count": 4,
   "id": "urban-software",
   "metadata": {
    "execution": {
     "iopub.execute_input": "2021-05-15T00:24:26.908950Z",
     "iopub.status.busy": "2021-05-15T00:24:26.907964Z",
     "iopub.status.idle": "2021-05-15T00:24:26.909906Z",
     "shell.execute_reply": "2021-05-15T00:24:26.910432Z"
    },
    "papermill": {
     "duration": 0.044745,
     "end_time": "2021-05-15T00:24:26.910579",
     "exception": false,
     "start_time": "2021-05-15T00:24:26.865834",
     "status": "completed"
    },
    "tags": []
   },
   "outputs": [],
   "source": [
    "#hide\n",
    "def get_mappings(url):\n",
    "    df = pd.read_csv(url)\n",
    "    return {\n",
    "        'df': df,\n",
    "        'replace.country': dict(df.dropna(subset=['Name']).set_index('Country')['Name']),\n",
    "        'map.continent': dict(df.set_index('Name')['Continent'])\n",
    "    }"
   ]
  },
  {
   "cell_type": "code",
   "execution_count": 5,
   "id": "intimate-machinery",
   "metadata": {
    "execution": {
     "iopub.execute_input": "2021-05-15T00:24:26.987548Z",
     "iopub.status.busy": "2021-05-15T00:24:26.986728Z",
     "iopub.status.idle": "2021-05-15T00:24:27.023237Z",
     "shell.execute_reply": "2021-05-15T00:24:27.022695Z"
    },
    "papermill": {
     "duration": 0.07746,
     "end_time": "2021-05-15T00:24:27.023366",
     "exception": false,
     "start_time": "2021-05-15T00:24:26.945906",
     "status": "completed"
    },
    "tags": []
   },
   "outputs": [],
   "source": [
    "#hide\n",
    "mapping = get_mappings(paths['mapping'])"
   ]
  },
  {
   "cell_type": "code",
   "execution_count": 6,
   "id": "certified-tactics",
   "metadata": {
    "execution": {
     "iopub.execute_input": "2021-05-15T00:24:27.105276Z",
     "iopub.status.busy": "2021-05-15T00:24:27.104669Z",
     "iopub.status.idle": "2021-05-15T00:24:27.106908Z",
     "shell.execute_reply": "2021-05-15T00:24:27.107421Z"
    },
    "papermill": {
     "duration": 0.048103,
     "end_time": "2021-05-15T00:24:27.107568",
     "exception": false,
     "start_time": "2021-05-15T00:24:27.059465",
     "status": "completed"
    },
    "tags": []
   },
   "outputs": [],
   "source": [
    "#hide\n",
    "def get_template(path):\n",
    "    from urllib.parse import urlparse\n",
    "    if bool(urlparse(path).netloc):\n",
    "        from urllib.request import urlopen\n",
    "        return urlopen(path).read().decode('utf8')\n",
    "    return open(path).read()"
   ]
  },
  {
   "cell_type": "code",
   "execution_count": 7,
   "id": "realistic-blast",
   "metadata": {
    "execution": {
     "iopub.execute_input": "2021-05-15T00:24:27.188002Z",
     "iopub.status.busy": "2021-05-15T00:24:27.187408Z",
     "iopub.status.idle": "2021-05-15T00:24:27.189919Z",
     "shell.execute_reply": "2021-05-15T00:24:27.190470Z"
    },
    "papermill": {
     "duration": 0.047034,
     "end_time": "2021-05-15T00:24:27.190664",
     "exception": false,
     "start_time": "2021-05-15T00:24:27.143630",
     "status": "completed"
    },
    "tags": []
   },
   "outputs": [],
   "source": [
    "#hide\n",
    "def get_frame(name):\n",
    "    url = (\n",
    "        'https://raw.githubusercontent.com/CSSEGISandData/COVID-19/master/csse_covid_19_data/'\n",
    "        f'csse_covid_19_time_series/time_series_covid19_{name}_global.csv')\n",
    "    df = pd.read_csv(url)\n",
    "    # rename countries\n",
    "    df['Country/Region'] = df['Country/Region'].replace(mapping['replace.country'])\n",
    "    return df"
   ]
  },
  {
   "cell_type": "code",
   "execution_count": 8,
   "id": "affiliated-characterization",
   "metadata": {
    "execution": {
     "iopub.execute_input": "2021-05-15T00:24:27.269791Z",
     "iopub.status.busy": "2021-05-15T00:24:27.269183Z",
     "iopub.status.idle": "2021-05-15T00:24:27.271854Z",
     "shell.execute_reply": "2021-05-15T00:24:27.271365Z"
    },
    "papermill": {
     "duration": 0.046883,
     "end_time": "2021-05-15T00:24:27.271974",
     "exception": false,
     "start_time": "2021-05-15T00:24:27.225091",
     "status": "completed"
    },
    "tags": []
   },
   "outputs": [],
   "source": [
    "#hide\n",
    "def get_dates(df):\n",
    "    dt_cols = df.columns[~df.columns.isin(['Province/State', 'Country/Region', 'Lat', 'Long'])]\n",
    "    LAST_DATE_I = -1\n",
    "    # sometimes last column may be empty, then go backwards\n",
    "    for i in range(-1, -len(dt_cols), -1):\n",
    "        if not df[dt_cols[i]].fillna(0).eq(0).all():\n",
    "            LAST_DATE_I = i\n",
    "            break\n",
    "    return LAST_DATE_I, dt_cols"
   ]
  },
  {
   "cell_type": "code",
   "execution_count": 9,
   "id": "recent-optimization",
   "metadata": {
    "execution": {
     "iopub.execute_input": "2021-05-15T00:24:27.344530Z",
     "iopub.status.busy": "2021-05-15T00:24:27.343927Z",
     "iopub.status.idle": "2021-05-15T00:24:27.634327Z",
     "shell.execute_reply": "2021-05-15T00:24:27.633809Z"
    },
    "papermill": {
     "duration": 0.32905,
     "end_time": "2021-05-15T00:24:27.634451",
     "exception": false,
     "start_time": "2021-05-15T00:24:27.305401",
     "status": "completed"
    },
    "tags": []
   },
   "outputs": [],
   "source": [
    "#hide\n",
    "COL_REGION = 'Country/Region'\n",
    "# Confirmed, Recovered, Deaths\n",
    "df = get_frame('confirmed')\n",
    "# dft_: timeseries, dfc_: today country agg\n",
    "dft_cases = df\n",
    "dft_deaths = get_frame('deaths')\n",
    "dft_recovered = get_frame('recovered')\n",
    "LAST_DATE_I, dt_cols = get_dates(df)"
   ]
  },
  {
   "cell_type": "code",
   "execution_count": 10,
   "id": "absolute-copper",
   "metadata": {
    "execution": {
     "iopub.execute_input": "2021-05-15T00:24:27.707859Z",
     "iopub.status.busy": "2021-05-15T00:24:27.707126Z",
     "iopub.status.idle": "2021-05-15T00:24:27.708413Z",
     "shell.execute_reply": "2021-05-15T00:24:27.708818Z"
    },
    "papermill": {
     "duration": 0.042334,
     "end_time": "2021-05-15T00:24:27.708947",
     "exception": false,
     "start_time": "2021-05-15T00:24:27.666613",
     "status": "completed"
    },
    "tags": []
   },
   "outputs": [],
   "source": [
    "#hide\n",
    "LAST_DATE_I, dt_cols = get_dates(df)\n",
    "dt_today =dt_cols[LAST_DATE_I]\n",
    "# dt_5day = dt_cols[LAST_DATE_I - 5]\n",
    "dt_yday = dt_cols[LAST_DATE_I - 1]"
   ]
  },
  {
   "cell_type": "code",
   "execution_count": 11,
   "id": "restricted-sheriff",
   "metadata": {
    "execution": {
     "iopub.execute_input": "2021-05-15T00:24:27.783167Z",
     "iopub.status.busy": "2021-05-15T00:24:27.782557Z",
     "iopub.status.idle": "2021-05-15T00:24:27.794207Z",
     "shell.execute_reply": "2021-05-15T00:24:27.793735Z"
    },
    "papermill": {
     "duration": 0.052069,
     "end_time": "2021-05-15T00:24:27.794334",
     "exception": false,
     "start_time": "2021-05-15T00:24:27.742265",
     "status": "completed"
    },
    "tags": []
   },
   "outputs": [],
   "source": [
    "#hide\n",
    "dfc_cases = dft_cases.groupby(COL_REGION)[dt_today].sum()\n",
    "dfc_deaths = dft_deaths.groupby(COL_REGION)[dt_today].sum()\n",
    "# dfp_cases = dft_cases.groupby(COL_REGION)[dt_5day].sum()\n",
    "# dfp_deaths = dft_deaths.groupby(COL_REGION)[dt_5day].sum()\n",
    "dfp_cases = dft_cases.groupby(COL_REGION)[dt_yday].sum()\n",
    "dfp_deaths = dft_deaths.groupby(COL_REGION)[dt_yday].sum()"
   ]
  },
  {
   "cell_type": "code",
   "execution_count": 12,
   "id": "deluxe-hepatitis",
   "metadata": {
    "execution": {
     "iopub.execute_input": "2021-05-15T00:24:27.870512Z",
     "iopub.status.busy": "2021-05-15T00:24:27.869864Z",
     "iopub.status.idle": "2021-05-15T00:24:27.874739Z",
     "shell.execute_reply": "2021-05-15T00:24:27.875208Z"
    },
    "papermill": {
     "duration": 0.046027,
     "end_time": "2021-05-15T00:24:27.875350",
     "exception": false,
     "start_time": "2021-05-15T00:24:27.829323",
     "status": "completed"
    },
    "tags": []
   },
   "outputs": [],
   "source": [
    "#hide\n",
    "df_table = (pd.DataFrame(dict(Cases = dfc_cases, Deaths = dfc_deaths, PCases = dfp_cases, PDeaths = dfp_deaths))\n",
    "            .sort_values(by = ['Cases','Deaths'], ascending = [False, False])\n",
    "            .reset_index())"
   ]
  },
  {
   "cell_type": "code",
   "execution_count": 13,
   "id": "educational-chancellor",
   "metadata": {
    "execution": {
     "iopub.execute_input": "2021-05-15T00:24:27.966277Z",
     "iopub.status.busy": "2021-05-15T00:24:27.961160Z",
     "iopub.status.idle": "2021-05-15T00:24:27.973754Z",
     "shell.execute_reply": "2021-05-15T00:24:27.974294Z"
    },
    "papermill": {
     "duration": 0.064034,
     "end_time": "2021-05-15T00:24:27.974439",
     "exception": false,
     "start_time": "2021-05-15T00:24:27.910405",
     "status": "completed"
    },
    "tags": []
   },
   "outputs": [
    {
     "data": {
      "text/html": [
       "<div>\n",
       "<style scoped>\n",
       "    .dataframe tbody tr th:only-of-type {\n",
       "        vertical-align: middle;\n",
       "    }\n",
       "\n",
       "    .dataframe tbody tr th {\n",
       "        vertical-align: top;\n",
       "    }\n",
       "\n",
       "    .dataframe thead th {\n",
       "        text-align: right;\n",
       "    }\n",
       "</style>\n",
       "<table border=\"1\" class=\"dataframe\">\n",
       "  <thead>\n",
       "    <tr style=\"text-align: right;\">\n",
       "      <th></th>\n",
       "      <th>Country/Region</th>\n",
       "      <th>Cases</th>\n",
       "      <th>Deaths</th>\n",
       "      <th>PCases</th>\n",
       "      <th>PDeaths</th>\n",
       "      <th>Cases (+)</th>\n",
       "      <th>Deaths (+)</th>\n",
       "      <th>Fatality Rate</th>\n",
       "      <th>Continent</th>\n",
       "    </tr>\n",
       "  </thead>\n",
       "  <tbody>\n",
       "    <tr>\n",
       "      <th>0</th>\n",
       "      <td>US</td>\n",
       "      <td>32852871</td>\n",
       "      <td>584487</td>\n",
       "      <td>32814784</td>\n",
       "      <td>583685</td>\n",
       "      <td>38087</td>\n",
       "      <td>802</td>\n",
       "      <td>1.78</td>\n",
       "      <td>North America</td>\n",
       "    </tr>\n",
       "    <tr>\n",
       "      <th>1</th>\n",
       "      <td>India</td>\n",
       "      <td>24046809</td>\n",
       "      <td>262317</td>\n",
       "      <td>23703665</td>\n",
       "      <td>258317</td>\n",
       "      <td>343144</td>\n",
       "      <td>4000</td>\n",
       "      <td>1.09</td>\n",
       "      <td>Asia</td>\n",
       "    </tr>\n",
       "    <tr>\n",
       "      <th>2</th>\n",
       "      <td>Brazil</td>\n",
       "      <td>15433989</td>\n",
       "      <td>430417</td>\n",
       "      <td>15359397</td>\n",
       "      <td>428034</td>\n",
       "      <td>74592</td>\n",
       "      <td>2383</td>\n",
       "      <td>2.79</td>\n",
       "      <td>South America</td>\n",
       "    </tr>\n",
       "    <tr>\n",
       "      <th>3</th>\n",
       "      <td>France</td>\n",
       "      <td>5902343</td>\n",
       "      <td>107411</td>\n",
       "      <td>5882882</td>\n",
       "      <td>107280</td>\n",
       "      <td>19461</td>\n",
       "      <td>131</td>\n",
       "      <td>1.82</td>\n",
       "      <td>Europe</td>\n",
       "    </tr>\n",
       "    <tr>\n",
       "      <th>4</th>\n",
       "      <td>Turkey</td>\n",
       "      <td>5083996</td>\n",
       "      <td>44059</td>\n",
       "      <td>5072462</td>\n",
       "      <td>43821</td>\n",
       "      <td>11534</td>\n",
       "      <td>238</td>\n",
       "      <td>0.87</td>\n",
       "      <td>Asia</td>\n",
       "    </tr>\n",
       "  </tbody>\n",
       "</table>\n",
       "</div>"
      ],
      "text/plain": [
       "  Country/Region     Cases  Deaths    PCases  PDeaths  Cases (+)  Deaths (+)  \\\n",
       "0             US  32852871  584487  32814784   583685      38087         802   \n",
       "1          India  24046809  262317  23703665   258317     343144        4000   \n",
       "2         Brazil  15433989  430417  15359397   428034      74592        2383   \n",
       "3         France   5902343  107411   5882882   107280      19461         131   \n",
       "4         Turkey   5083996   44059   5072462    43821      11534         238   \n",
       "\n",
       "   Fatality Rate      Continent  \n",
       "0           1.78  North America  \n",
       "1           1.09           Asia  \n",
       "2           2.79  South America  \n",
       "3           1.82         Europe  \n",
       "4           0.87           Asia  "
      ]
     },
     "execution_count": 13,
     "metadata": {},
     "output_type": "execute_result"
    }
   ],
   "source": [
    "#hide\n",
    "for c in 'Cases, Deaths'.split(', '):\n",
    "    df_table[f'{c} (+)'] = (df_table[c] - df_table[f'P{c}']).clip(0)\n",
    "    #Clip ça veut dire, les chiffres negatif sont interdit\n",
    "df_table['Fatality Rate'] = (100* df_table['Deaths']/ df_table['Cases']).round(2)\n",
    "df_table['Continent'] = df_table['Country/Region'].map(mapping['map.continent'])\n",
    "df_table.head(5)"
   ]
  },
  {
   "cell_type": "code",
   "execution_count": 14,
   "id": "aboriginal-bulgaria",
   "metadata": {
    "execution": {
     "iopub.execute_input": "2021-05-15T00:24:28.053016Z",
     "iopub.status.busy": "2021-05-15T00:24:28.051976Z",
     "iopub.status.idle": "2021-05-15T00:24:28.053768Z",
     "shell.execute_reply": "2021-05-15T00:24:28.054223Z"
    },
    "papermill": {
     "duration": 0.045301,
     "end_time": "2021-05-15T00:24:28.054362",
     "exception": false,
     "start_time": "2021-05-15T00:24:28.009061",
     "status": "completed"
    },
    "tags": []
   },
   "outputs": [],
   "source": [
    "#hide\n",
    "#delete problematic countries from table\n",
    "df_table = df_table[~df_table['Country/Region'].isin(['Cape Verde', 'Cruise Ship', 'Kosovo'])]"
   ]
  },
  {
   "cell_type": "code",
   "execution_count": 15,
   "id": "fantastic-effect",
   "metadata": {
    "execution": {
     "iopub.execute_input": "2021-05-15T00:24:28.144653Z",
     "iopub.status.busy": "2021-05-15T00:24:28.144061Z",
     "iopub.status.idle": "2021-05-15T00:24:28.164526Z",
     "shell.execute_reply": "2021-05-15T00:24:28.164051Z"
    },
    "papermill": {
     "duration": 0.067675,
     "end_time": "2021-05-15T00:24:28.164652",
     "exception": false,
     "start_time": "2021-05-15T00:24:28.096977",
     "status": "completed"
    },
    "tags": []
   },
   "outputs": [
    {
     "data": {
      "text/html": [
       "<div>\n",
       "<style scoped>\n",
       "    .dataframe tbody tr th:only-of-type {\n",
       "        vertical-align: middle;\n",
       "    }\n",
       "\n",
       "    .dataframe tbody tr th {\n",
       "        vertical-align: top;\n",
       "    }\n",
       "\n",
       "    .dataframe thead th {\n",
       "        text-align: right;\n",
       "    }\n",
       "</style>\n",
       "<table border=\"1\" class=\"dataframe\">\n",
       "  <thead>\n",
       "    <tr style=\"text-align: right;\">\n",
       "      <th></th>\n",
       "      <th>Country/Region</th>\n",
       "      <th>Cases</th>\n",
       "      <th>Deaths</th>\n",
       "      <th>PCases</th>\n",
       "      <th>PDeaths</th>\n",
       "      <th>Cases (+)</th>\n",
       "      <th>Deaths (+)</th>\n",
       "      <th>Fatality Rate</th>\n",
       "      <th>Continent</th>\n",
       "    </tr>\n",
       "  </thead>\n",
       "  <tbody>\n",
       "    <tr>\n",
       "      <th>0</th>\n",
       "      <td>US</td>\n",
       "      <td>32852871</td>\n",
       "      <td>584487</td>\n",
       "      <td>32814784</td>\n",
       "      <td>583685</td>\n",
       "      <td>38087</td>\n",
       "      <td>802</td>\n",
       "      <td>1.8</td>\n",
       "      <td>North America</td>\n",
       "    </tr>\n",
       "    <tr>\n",
       "      <th>1</th>\n",
       "      <td>India</td>\n",
       "      <td>24046809</td>\n",
       "      <td>262317</td>\n",
       "      <td>23703665</td>\n",
       "      <td>258317</td>\n",
       "      <td>343144</td>\n",
       "      <td>4000</td>\n",
       "      <td>1.1</td>\n",
       "      <td>Asia</td>\n",
       "    </tr>\n",
       "    <tr>\n",
       "      <th>2</th>\n",
       "      <td>Brazil</td>\n",
       "      <td>15433989</td>\n",
       "      <td>430417</td>\n",
       "      <td>15359397</td>\n",
       "      <td>428034</td>\n",
       "      <td>74592</td>\n",
       "      <td>2383</td>\n",
       "      <td>2.8</td>\n",
       "      <td>South America</td>\n",
       "    </tr>\n",
       "    <tr>\n",
       "      <th>3</th>\n",
       "      <td>France</td>\n",
       "      <td>5902343</td>\n",
       "      <td>107411</td>\n",
       "      <td>5882882</td>\n",
       "      <td>107280</td>\n",
       "      <td>19461</td>\n",
       "      <td>131</td>\n",
       "      <td>1.8</td>\n",
       "      <td>Europe</td>\n",
       "    </tr>\n",
       "    <tr>\n",
       "      <th>4</th>\n",
       "      <td>Turkey</td>\n",
       "      <td>5083996</td>\n",
       "      <td>44059</td>\n",
       "      <td>5072462</td>\n",
       "      <td>43821</td>\n",
       "      <td>11534</td>\n",
       "      <td>238</td>\n",
       "      <td>0.9</td>\n",
       "      <td>Asia</td>\n",
       "    </tr>\n",
       "  </tbody>\n",
       "</table>\n",
       "</div>"
      ],
      "text/plain": [
       "  Country/Region     Cases  Deaths    PCases  PDeaths  Cases (+)  Deaths (+)  \\\n",
       "0             US  32852871  584487  32814784   583685      38087         802   \n",
       "1          India  24046809  262317  23703665   258317     343144        4000   \n",
       "2         Brazil  15433989  430417  15359397   428034      74592        2383   \n",
       "3         France   5902343  107411   5882882   107280      19461         131   \n",
       "4         Turkey   5083996   44059   5072462    43821      11534         238   \n",
       "\n",
       "   Fatality Rate      Continent  \n",
       "0            1.8  North America  \n",
       "1            1.1           Asia  \n",
       "2            2.8  South America  \n",
       "3            1.8         Europe  \n",
       "4            0.9           Asia  "
      ]
     },
     "execution_count": 15,
     "metadata": {},
     "output_type": "execute_result"
    }
   ],
   "source": [
    "#hide\n",
    "df_table = (pd.DataFrame(dict(Cases=dfc_cases, Deaths=dfc_deaths, PCases=dfp_cases, PDeaths=dfp_deaths))\n",
    "             .sort_values(by=['Cases', 'Deaths'], ascending=[False, False])\n",
    "             .reset_index())\n",
    "df_table.rename(columns={'index': 'Country/Region'}, inplace=True)\n",
    "for c in 'Cases, Deaths'.split(', '):\n",
    "    df_table[f'{c} (+)'] = (df_table[c] - df_table[f'P{c}']).clip(0)  # DATA BUG\n",
    "df_table['Fatality Rate'] = (100 * df_table['Deaths'] / df_table['Cases']).round(1)\n",
    "df_table['Continent'] = df_table['Country/Region'].map(mapping['map.continent'])\n",
    "df_table.head(5)"
   ]
  },
  {
   "cell_type": "code",
   "execution_count": 16,
   "id": "fewer-occasion",
   "metadata": {
    "execution": {
     "iopub.execute_input": "2021-05-15T00:24:28.240879Z",
     "iopub.status.busy": "2021-05-15T00:24:28.240269Z",
     "iopub.status.idle": "2021-05-15T00:24:28.242742Z",
     "shell.execute_reply": "2021-05-15T00:24:28.242308Z"
    },
    "papermill": {
     "duration": 0.042801,
     "end_time": "2021-05-15T00:24:28.242857",
     "exception": false,
     "start_time": "2021-05-15T00:24:28.200056",
     "status": "completed"
    },
    "tags": []
   },
   "outputs": [],
   "source": [
    "#hide\n",
    "#delete problematic countries from table\n",
    "df_table = df_table[~df_table['Country/Region'].isin(['Cape Verde', 'Cruise Ship', 'Kosovo'])]"
   ]
  },
  {
   "cell_type": "code",
   "execution_count": 17,
   "id": "related-center",
   "metadata": {
    "execution": {
     "iopub.execute_input": "2021-05-15T00:24:28.326408Z",
     "iopub.status.busy": "2021-05-15T00:24:28.325791Z",
     "iopub.status.idle": "2021-05-15T00:24:28.336128Z",
     "shell.execute_reply": "2021-05-15T00:24:28.335644Z"
    },
    "papermill": {
     "duration": 0.058806,
     "end_time": "2021-05-15T00:24:28.336256",
     "exception": false,
     "start_time": "2021-05-15T00:24:28.277450",
     "status": "completed"
    },
    "tags": []
   },
   "outputs": [],
   "source": [
    "#hide\n",
    "metrics = [df_table.columns[index] for index in [1,2,5,6]]\n",
    "# s_china = df_table[df_table['Country/Region'].eq('China')][metrics].sum().add_prefix('China ')\n",
    "s_us = df_table[df_table['Country/Region'].eq('US')][metrics].sum().add_prefix('US ')\n",
    "s_eu = df_table[df_table['Continent'].eq('Europe')][metrics].sum().add_prefix('EU ')\n",
    "s_ind = df_table[df_table['Country/Region'].eq('India')][metrics].sum().add_prefix('India ')\n",
    "summary = {'updated': pd.to_datetime(dt_today), 'since': pd.to_datetime(dt_yday)}\n",
    "summary = {'updated': pd.to_datetime(dt_today), 'since': pd.to_datetime(dt_yday)}\n",
    "summary = {**summary, **df_table[metrics].sum(), **s_ind, **s_us, **s_eu}"
   ]
  },
  {
   "cell_type": "code",
   "execution_count": 18,
   "id": "engaging-syndrome",
   "metadata": {
    "execution": {
     "iopub.execute_input": "2021-05-15T00:24:28.418230Z",
     "iopub.status.busy": "2021-05-15T00:24:28.417624Z",
     "iopub.status.idle": "2021-05-15T00:24:28.427983Z",
     "shell.execute_reply": "2021-05-15T00:24:28.428457Z"
    },
    "papermill": {
     "duration": 0.053751,
     "end_time": "2021-05-15T00:24:28.428604",
     "exception": false,
     "start_time": "2021-05-15T00:24:28.374853",
     "status": "completed"
    },
    "tags": []
   },
   "outputs": [],
   "source": [
    "#hide\n",
    "dft_ct_new_cases = dft_cases.groupby(COL_REGION)[dt_cols].sum().diff(axis=1).fillna(0).astype(int)"
   ]
  },
  {
   "cell_type": "code",
   "execution_count": 19,
   "id": "neutral-assignment",
   "metadata": {
    "execution": {
     "iopub.execute_input": "2021-05-15T00:24:28.510202Z",
     "iopub.status.busy": "2021-05-15T00:24:28.509175Z",
     "iopub.status.idle": "2021-05-15T00:24:28.510821Z",
     "shell.execute_reply": "2021-05-15T00:24:28.511277Z"
    },
    "papermill": {
     "duration": 0.046943,
     "end_time": "2021-05-15T00:24:28.511418",
     "exception": false,
     "start_time": "2021-05-15T00:24:28.464475",
     "status": "completed"
    },
    "tags": []
   },
   "outputs": [],
   "source": [
    "#hide\n",
    "everydaycases = dft_ct_new_cases.cumsum(axis=1)"
   ]
  },
  {
   "cell_type": "code",
   "execution_count": 20,
   "id": "parliamentary-calgary",
   "metadata": {
    "execution": {
     "iopub.execute_input": "2021-05-15T00:24:28.586114Z",
     "iopub.status.busy": "2021-05-15T00:24:28.585550Z",
     "iopub.status.idle": "2021-05-15T00:24:29.224242Z",
     "shell.execute_reply": "2021-05-15T00:24:29.223050Z"
    },
    "papermill": {
     "duration": 0.678294,
     "end_time": "2021-05-15T00:24:29.224375",
     "exception": false,
     "start_time": "2021-05-15T00:24:28.546081",
     "status": "completed"
    },
    "tags": []
   },
   "outputs": [],
   "source": [
    "#hide\n",
    "import pandas as pd\n",
    "import matplotlib.pyplot as plt\n",
    "import matplotlib.ticker as ticker\n",
    "import matplotlib.animation as animation\n",
    "from IPython.display import HTML"
   ]
  },
  {
   "cell_type": "code",
   "execution_count": 21,
   "id": "lasting-extraction",
   "metadata": {
    "execution": {
     "iopub.execute_input": "2021-05-15T00:24:29.299308Z",
     "iopub.status.busy": "2021-05-15T00:24:29.298269Z",
     "iopub.status.idle": "2021-05-15T00:24:29.304012Z",
     "shell.execute_reply": "2021-05-15T00:24:29.303152Z"
    },
    "papermill": {
     "duration": 0.045801,
     "end_time": "2021-05-15T00:24:29.304132",
     "exception": false,
     "start_time": "2021-05-15T00:24:29.258331",
     "status": "completed"
    },
    "tags": []
   },
   "outputs": [],
   "source": [
    "#hide\n",
    "t = everydaycases.stack()"
   ]
  },
  {
   "cell_type": "code",
   "execution_count": 22,
   "id": "premier-sleeve",
   "metadata": {
    "execution": {
     "iopub.execute_input": "2021-05-15T00:24:29.381858Z",
     "iopub.status.busy": "2021-05-15T00:24:29.381309Z",
     "iopub.status.idle": "2021-05-15T00:24:29.391988Z",
     "shell.execute_reply": "2021-05-15T00:24:29.391467Z"
    },
    "papermill": {
     "duration": 0.05148,
     "end_time": "2021-05-15T00:24:29.392119",
     "exception": false,
     "start_time": "2021-05-15T00:24:29.340639",
     "status": "completed"
    },
    "tags": []
   },
   "outputs": [],
   "source": [
    "#hide\n",
    "g = t.reset_index(['Country/Region'])"
   ]
  },
  {
   "cell_type": "code",
   "execution_count": 23,
   "id": "distributed-pittsburgh",
   "metadata": {
    "execution": {
     "iopub.execute_input": "2021-05-15T00:24:29.468658Z",
     "iopub.status.busy": "2021-05-15T00:24:29.468067Z",
     "iopub.status.idle": "2021-05-15T00:24:29.470807Z",
     "shell.execute_reply": "2021-05-15T00:24:29.471812Z"
    },
    "papermill": {
     "duration": 0.044348,
     "end_time": "2021-05-15T00:24:29.471968",
     "exception": false,
     "start_time": "2021-05-15T00:24:29.427620",
     "status": "completed"
    },
    "tags": []
   },
   "outputs": [],
   "source": [
    "#hide\n",
    "g.index.name = 'date'"
   ]
  },
  {
   "cell_type": "code",
   "execution_count": 24,
   "id": "naked-donor",
   "metadata": {
    "execution": {
     "iopub.execute_input": "2021-05-15T00:24:29.548228Z",
     "iopub.status.busy": "2021-05-15T00:24:29.547617Z",
     "iopub.status.idle": "2021-05-15T00:24:29.550063Z",
     "shell.execute_reply": "2021-05-15T00:24:29.549594Z"
    },
    "papermill": {
     "duration": 0.042272,
     "end_time": "2021-05-15T00:24:29.550187",
     "exception": false,
     "start_time": "2021-05-15T00:24:29.507915",
     "status": "completed"
    },
    "tags": []
   },
   "outputs": [],
   "source": [
    "# #hide\n",
    "# g = g.reset_index(['date'])"
   ]
  },
  {
   "cell_type": "code",
   "execution_count": 25,
   "id": "incomplete-mustang",
   "metadata": {
    "execution": {
     "iopub.execute_input": "2021-05-15T00:24:29.626024Z",
     "iopub.status.busy": "2021-05-15T00:24:29.625437Z",
     "iopub.status.idle": "2021-05-15T00:24:29.628024Z",
     "shell.execute_reply": "2021-05-15T00:24:29.628606Z"
    },
    "papermill": {
     "duration": 0.043574,
     "end_time": "2021-05-15T00:24:29.628761",
     "exception": false,
     "start_time": "2021-05-15T00:24:29.585187",
     "status": "completed"
    },
    "tags": []
   },
   "outputs": [],
   "source": [
    "#hide\n",
    "# g.head()"
   ]
  },
  {
   "cell_type": "code",
   "execution_count": 26,
   "id": "specific-kruger",
   "metadata": {
    "execution": {
     "iopub.execute_input": "2021-05-15T00:24:29.706430Z",
     "iopub.status.busy": "2021-05-15T00:24:29.705736Z",
     "iopub.status.idle": "2021-05-15T00:24:29.708161Z",
     "shell.execute_reply": "2021-05-15T00:24:29.708710Z"
    },
    "papermill": {
     "duration": 0.042475,
     "end_time": "2021-05-15T00:24:29.708847",
     "exception": false,
     "start_time": "2021-05-15T00:24:29.666372",
     "status": "completed"
    },
    "tags": []
   },
   "outputs": [],
   "source": [
    "#hide\n",
    "# g.columns = ['date','country','cases']"
   ]
  },
  {
   "cell_type": "code",
   "execution_count": 27,
   "id": "tender-conversion",
   "metadata": {
    "execution": {
     "iopub.execute_input": "2021-05-15T00:24:29.783889Z",
     "iopub.status.busy": "2021-05-15T00:24:29.783296Z",
     "iopub.status.idle": "2021-05-15T00:24:29.785734Z",
     "shell.execute_reply": "2021-05-15T00:24:29.785222Z"
    },
    "papermill": {
     "duration": 0.041764,
     "end_time": "2021-05-15T00:24:29.785864",
     "exception": false,
     "start_time": "2021-05-15T00:24:29.744100",
     "status": "completed"
    },
    "tags": []
   },
   "outputs": [],
   "source": [
    "#hide\n",
    "# g['continent'] = g.country"
   ]
  },
  {
   "cell_type": "code",
   "execution_count": 28,
   "id": "substantial-wilderness",
   "metadata": {
    "execution": {
     "iopub.execute_input": "2021-05-15T00:24:29.863595Z",
     "iopub.status.busy": "2021-05-15T00:24:29.863047Z",
     "iopub.status.idle": "2021-05-15T00:24:29.865355Z",
     "shell.execute_reply": "2021-05-15T00:24:29.865803Z"
    },
    "papermill": {
     "duration": 0.043494,
     "end_time": "2021-05-15T00:24:29.865947",
     "exception": false,
     "start_time": "2021-05-15T00:24:29.822453",
     "status": "completed"
    },
    "tags": []
   },
   "outputs": [],
   "source": [
    "#hide\n",
    "# cols = list(g.columns.values)"
   ]
  },
  {
   "cell_type": "code",
   "execution_count": 29,
   "id": "solved-farming",
   "metadata": {
    "execution": {
     "iopub.execute_input": "2021-05-15T00:24:29.941361Z",
     "iopub.status.busy": "2021-05-15T00:24:29.940668Z",
     "iopub.status.idle": "2021-05-15T00:24:29.943034Z",
     "shell.execute_reply": "2021-05-15T00:24:29.942572Z"
    },
    "papermill": {
     "duration": 0.042638,
     "end_time": "2021-05-15T00:24:29.943160",
     "exception": false,
     "start_time": "2021-05-15T00:24:29.900522",
     "status": "completed"
    },
    "tags": []
   },
   "outputs": [],
   "source": [
    "#hide\n",
    "# cols.insert(0, cols.pop())"
   ]
  },
  {
   "cell_type": "code",
   "execution_count": 30,
   "id": "executed-adoption",
   "metadata": {
    "execution": {
     "iopub.execute_input": "2021-05-15T00:24:30.017955Z",
     "iopub.status.busy": "2021-05-15T00:24:30.017359Z",
     "iopub.status.idle": "2021-05-15T00:24:30.019101Z",
     "shell.execute_reply": "2021-05-15T00:24:30.019551Z"
    },
    "papermill": {
     "duration": 0.041506,
     "end_time": "2021-05-15T00:24:30.019678",
     "exception": false,
     "start_time": "2021-05-15T00:24:29.978172",
     "status": "completed"
    },
    "tags": []
   },
   "outputs": [],
   "source": [
    "#hide\n",
    "# g = g[cols]"
   ]
  },
  {
   "cell_type": "code",
   "execution_count": 31,
   "id": "subject-dublin",
   "metadata": {
    "execution": {
     "iopub.execute_input": "2021-05-15T00:24:30.096441Z",
     "iopub.status.busy": "2021-05-15T00:24:30.095856Z",
     "iopub.status.idle": "2021-05-15T00:24:30.098097Z",
     "shell.execute_reply": "2021-05-15T00:24:30.097640Z"
    },
    "papermill": {
     "duration": 0.044604,
     "end_time": "2021-05-15T00:24:30.098210",
     "exception": false,
     "start_time": "2021-05-15T00:24:30.053606",
     "status": "completed"
    },
    "tags": []
   },
   "outputs": [],
   "source": [
    "#hide\n",
    "# g['continent'] = g['continent'].map(mapping['map.continent'])"
   ]
  },
  {
   "cell_type": "code",
   "execution_count": 32,
   "id": "freelance-scout",
   "metadata": {
    "execution": {
     "iopub.execute_input": "2021-05-15T00:24:30.176992Z",
     "iopub.status.busy": "2021-05-15T00:24:30.176484Z",
     "iopub.status.idle": "2021-05-15T00:24:30.178052Z",
     "shell.execute_reply": "2021-05-15T00:24:30.178380Z"
    },
    "papermill": {
     "duration": 0.04388,
     "end_time": "2021-05-15T00:24:30.178487",
     "exception": false,
     "start_time": "2021-05-15T00:24:30.134607",
     "status": "completed"
    },
    "tags": []
   },
   "outputs": [],
   "source": [
    "#hide\n",
    "# g.head()"
   ]
  },
  {
   "cell_type": "code",
   "execution_count": 33,
   "id": "limited-engine",
   "metadata": {
    "execution": {
     "iopub.execute_input": "2021-05-15T00:24:30.253903Z",
     "iopub.status.busy": "2021-05-15T00:24:30.253089Z",
     "iopub.status.idle": "2021-05-15T00:24:30.255264Z",
     "shell.execute_reply": "2021-05-15T00:24:30.255860Z"
    },
    "papermill": {
     "duration": 0.042532,
     "end_time": "2021-05-15T00:24:30.256011",
     "exception": false,
     "start_time": "2021-05-15T00:24:30.213479",
     "status": "completed"
    },
    "tags": []
   },
   "outputs": [],
   "source": [
    "# hide\n",
    "# g['date'] = g['date'].astype('datetime64[ns]')"
   ]
  },
  {
   "cell_type": "code",
   "execution_count": 34,
   "id": "sophisticated-supervisor",
   "metadata": {
    "execution": {
     "iopub.execute_input": "2021-05-15T00:24:30.336639Z",
     "iopub.status.busy": "2021-05-15T00:24:30.336048Z",
     "iopub.status.idle": "2021-05-15T00:24:30.338558Z",
     "shell.execute_reply": "2021-05-15T00:24:30.339311Z"
    },
    "papermill": {
     "duration": 0.044709,
     "end_time": "2021-05-15T00:24:30.339467",
     "exception": false,
     "start_time": "2021-05-15T00:24:30.294758",
     "status": "completed"
    },
    "tags": []
   },
   "outputs": [],
   "source": [
    "#hide\n",
    "# g['date'] = g.date.dt.dayofyear"
   ]
  },
  {
   "cell_type": "code",
   "execution_count": 35,
   "id": "inside-dubai",
   "metadata": {
    "execution": {
     "iopub.execute_input": "2021-05-15T00:24:30.422253Z",
     "iopub.status.busy": "2021-05-15T00:24:30.421661Z",
     "iopub.status.idle": "2021-05-15T00:24:30.424452Z",
     "shell.execute_reply": "2021-05-15T00:24:30.423955Z"
    },
    "papermill": {
     "duration": 0.044661,
     "end_time": "2021-05-15T00:24:30.424575",
     "exception": false,
     "start_time": "2021-05-15T00:24:30.379914",
     "status": "completed"
    },
    "tags": []
   },
   "outputs": [],
   "source": [
    "#hide\n",
    "# g = g.rename(columns= {'continent':'group','country':'name','cases':'value'})"
   ]
  },
  {
   "cell_type": "code",
   "execution_count": 36,
   "id": "fleet-motorcycle",
   "metadata": {
    "execution": {
     "iopub.execute_input": "2021-05-15T00:24:30.501452Z",
     "iopub.status.busy": "2021-05-15T00:24:30.500748Z",
     "iopub.status.idle": "2021-05-15T00:24:30.503439Z",
     "shell.execute_reply": "2021-05-15T00:24:30.504009Z"
    },
    "papermill": {
     "duration": 0.043204,
     "end_time": "2021-05-15T00:24:30.504152",
     "exception": false,
     "start_time": "2021-05-15T00:24:30.460948",
     "status": "completed"
    },
    "tags": []
   },
   "outputs": [],
   "source": [
    "#hide\n",
    "# cols = ['name','group','day','value']"
   ]
  },
  {
   "cell_type": "code",
   "execution_count": 37,
   "id": "continued-sleeping",
   "metadata": {
    "execution": {
     "iopub.execute_input": "2021-05-15T00:24:30.591582Z",
     "iopub.status.busy": "2021-05-15T00:24:30.590538Z",
     "iopub.status.idle": "2021-05-15T00:24:30.592672Z",
     "shell.execute_reply": "2021-05-15T00:24:30.593762Z"
    },
    "papermill": {
     "duration": 0.052506,
     "end_time": "2021-05-15T00:24:30.594016",
     "exception": false,
     "start_time": "2021-05-15T00:24:30.541510",
     "status": "completed"
    },
    "tags": []
   },
   "outputs": [],
   "source": [
    "#hide\n",
    "# g.rename(columns= {'date':'day'},inplace = True)"
   ]
  },
  {
   "cell_type": "code",
   "execution_count": 38,
   "id": "major-fight",
   "metadata": {
    "execution": {
     "iopub.execute_input": "2021-05-15T00:24:30.668874Z",
     "iopub.status.busy": "2021-05-15T00:24:30.668269Z",
     "iopub.status.idle": "2021-05-15T00:24:30.670505Z",
     "shell.execute_reply": "2021-05-15T00:24:30.670051Z"
    },
    "papermill": {
     "duration": 0.041189,
     "end_time": "2021-05-15T00:24:30.670635",
     "exception": false,
     "start_time": "2021-05-15T00:24:30.629446",
     "status": "completed"
    },
    "tags": []
   },
   "outputs": [],
   "source": [
    "#hide\n",
    "# g = g[cols]"
   ]
  },
  {
   "cell_type": "code",
   "execution_count": 39,
   "id": "structured-mobile",
   "metadata": {
    "execution": {
     "iopub.execute_input": "2021-05-15T00:24:30.744977Z",
     "iopub.status.busy": "2021-05-15T00:24:30.744403Z",
     "iopub.status.idle": "2021-05-15T00:24:30.746959Z",
     "shell.execute_reply": "2021-05-15T00:24:30.746477Z"
    },
    "papermill": {
     "duration": 0.040763,
     "end_time": "2021-05-15T00:24:30.747084",
     "exception": false,
     "start_time": "2021-05-15T00:24:30.706321",
     "status": "completed"
    },
    "tags": []
   },
   "outputs": [],
   "source": [
    "# #hide\n",
    "# g = g[g.group.notna()]"
   ]
  },
  {
   "cell_type": "code",
   "execution_count": 40,
   "id": "determined-closing",
   "metadata": {
    "execution": {
     "iopub.execute_input": "2021-05-15T00:24:30.823101Z",
     "iopub.status.busy": "2021-05-15T00:24:30.822499Z",
     "iopub.status.idle": "2021-05-15T00:24:30.824653Z",
     "shell.execute_reply": "2021-05-15T00:24:30.824164Z"
    },
    "papermill": {
     "duration": 0.041964,
     "end_time": "2021-05-15T00:24:30.824771",
     "exception": false,
     "start_time": "2021-05-15T00:24:30.782807",
     "status": "completed"
    },
    "tags": []
   },
   "outputs": [],
   "source": [
    "# #hide\n",
    "# colors = dict(zip(\n",
    "#     [\"Oceania\", \"Europe\", \"Asia\", \"South America\", \"Middle East\", \"North America\", \"Africa\"],\n",
    "#     [\"#adb0ff\", \"#ffb3ff\", \"#90d595\", \"#e48381\", \"#aafbff\", \"#f7bb5f\", \"#eafb50\"]\n",
    "# ))\n",
    "# group_lk = g.set_index('name')['group'].to_dict()"
   ]
  },
  {
   "cell_type": "code",
   "execution_count": null,
   "id": "gross-drinking",
   "metadata": {
    "papermill": {
     "duration": 0.035442,
     "end_time": "2021-05-15T00:24:30.896158",
     "exception": false,
     "start_time": "2021-05-15T00:24:30.860716",
     "status": "completed"
    },
    "tags": []
   },
   "outputs": [],
   "source": []
  },
  {
   "cell_type": "code",
   "execution_count": 41,
   "id": "subject-macintosh",
   "metadata": {
    "execution": {
     "iopub.execute_input": "2021-05-15T00:24:30.973304Z",
     "iopub.status.busy": "2021-05-15T00:24:30.972689Z",
     "iopub.status.idle": "2021-05-15T00:24:30.975271Z",
     "shell.execute_reply": "2021-05-15T00:24:30.974809Z"
    },
    "papermill": {
     "duration": 0.043533,
     "end_time": "2021-05-15T00:24:30.975386",
     "exception": false,
     "start_time": "2021-05-15T00:24:30.931853",
     "status": "completed"
    },
    "tags": []
   },
   "outputs": [],
   "source": [
    "# #hide\n",
    "# fig, ax = plt.subplots(figsize=(15, 8))\n",
    "\n",
    "# def draw_barchart(current_day):\n",
    "#     dff = g[g['day'].eq(current_day)].sort_values(by='value', ascending=True).tail(10)\n",
    "#     ax.clear()\n",
    "#     ax.barh(dff['name'], dff['value'], color=[colors[group_lk[x]] for x in dff['name']])\n",
    "#     dx = dff['value'].max() / 200\n",
    "    \n",
    "#     for i, (value, name) in enumerate(zip(dff['value'], dff['name'])):\n",
    "#         ax.text(value-dx, i,     name,           size=14, weight=600, ha='right', va='bottom')\n",
    "#         ax.text(value-dx, i-.25, group_lk[name], size=10, color='#444444', ha='right', va='baseline')\n",
    "#         ax.text(value+dx, i,     f'{value:,.0f}',  size=14, ha='left',  va='center')\n",
    "#     ax.text(1, 0.4, current_day, transform=ax.transAxes, color='#777777', size=46, ha='right', weight=800)\n",
    "#     ax.text(0, 1.06, 'Population (thousands)', transform=ax.transAxes, size=12, color='#777777')\n",
    "#     ax.xaxis.set_major_formatter(ticker.StrMethodFormatter('{x:,.0f}'))\n",
    "#     ax.xaxis.set_ticks_position('top')\n",
    "#     ax.tick_params(axis='x', colors='#777777', labelsize=12)\n",
    "#     ax.set_yticks([])\n",
    "#     ax.margins(0, 0.01)\n",
    "#     ax.grid(which='major', axis='x', linestyle='-')\n",
    "#     ax.set_axisbelow(True)\n",
    "    \n",
    "#     ax.text(0, 1.15, 'Coronavirus',\n",
    "#             transform=ax.transAxes, size=24, weight=600, ha='left', va='top')\n",
    "# #     ax.text(1, 0, 'by @pratapvardhan; credit @jburnmurdoch', transform=ax.transAxes, color='#777777', ha='right',\n",
    "# #             bbox=dict(facecolor='white', alpha=0.8, edgecolor='white'))\n",
    "#     plt.box(False)"
   ]
  },
  {
   "cell_type": "code",
   "execution_count": 42,
   "id": "sexual-wages",
   "metadata": {
    "execution": {
     "iopub.execute_input": "2021-05-15T00:24:31.050521Z",
     "iopub.status.busy": "2021-05-15T00:24:31.049869Z",
     "iopub.status.idle": "2021-05-15T00:24:31.052136Z",
     "shell.execute_reply": "2021-05-15T00:24:31.051681Z"
    },
    "papermill": {
     "duration": 0.040856,
     "end_time": "2021-05-15T00:24:31.052246",
     "exception": false,
     "start_time": "2021-05-15T00:24:31.011390",
     "status": "completed"
    },
    "tags": []
   },
   "outputs": [],
   "source": [
    "# #hide_input\n",
    "# fig, ax = plt.subplots(figsize=(15, 8))\n",
    "# animator = animation.FuncAnimation(fig, draw_barchart, frames=range(g.day.values.min(), g.day.values.max()))\n",
    "# HTML(animator.to_jshtml())\n",
    "# # or use animator.to_html5_video() or animator.save() "
   ]
  },
  {
   "cell_type": "code",
   "execution_count": null,
   "id": "australian-container",
   "metadata": {
    "papermill": {
     "duration": 0.034467,
     "end_time": "2021-05-15T00:24:31.121734",
     "exception": false,
     "start_time": "2021-05-15T00:24:31.087267",
     "status": "completed"
    },
    "tags": []
   },
   "outputs": [],
   "source": []
  },
  {
   "cell_type": "code",
   "execution_count": null,
   "id": "mediterranean-pontiac",
   "metadata": {
    "papermill": {
     "duration": 0.033883,
     "end_time": "2021-05-15T00:24:31.189869",
     "exception": false,
     "start_time": "2021-05-15T00:24:31.155986",
     "status": "completed"
    },
    "tags": []
   },
   "outputs": [],
   "source": []
  },
  {
   "cell_type": "code",
   "execution_count": null,
   "id": "aging-legislature",
   "metadata": {
    "papermill": {
     "duration": 0.034708,
     "end_time": "2021-05-15T00:24:31.259097",
     "exception": false,
     "start_time": "2021-05-15T00:24:31.224389",
     "status": "completed"
    },
    "tags": []
   },
   "outputs": [],
   "source": []
  }
 ],
 "metadata": {
  "kernelspec": {
   "display_name": "Python 3",
   "language": "python",
   "name": "python3"
  },
  "language_info": {
   "codemirror_mode": {
    "name": "ipython",
    "version": 3
   },
   "file_extension": ".py",
   "mimetype": "text/x-python",
   "name": "python",
   "nbconvert_exporter": "python",
   "pygments_lexer": "ipython3",
   "version": "3.6.13"
  },
  "papermill": {
   "duration": 6.520462,
   "end_time": "2021-05-15T00:24:31.602450",
   "environment_variables": {},
   "exception": null,
   "input_path": "2020-03-21-covid19exp.ipynb",
   "output_path": "2020-03-21-covid19exp.ipynb",
   "parameters": {},
   "start_time": "2021-05-15T00:24:25.081988",
   "version": "2.0.0"
  }
 },
 "nbformat": 4,
 "nbformat_minor": 5
}