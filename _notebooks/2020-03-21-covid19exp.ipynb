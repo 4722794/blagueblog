{
 "cells": [
  {
   "cell_type": "markdown",
   "id": "muslim-click",
   "metadata": {
    "papermill": {
     "duration": 0.040917,
     "end_time": "2021-05-31T00:59:36.191465",
     "exception": false,
     "start_time": "2021-05-31T00:59:36.150548",
     "status": "completed"
    },
    "tags": []
   },
   "source": [
    "# COVID-19 Case Race\n",
    "> A race chart to see rising cases around the world\n",
    "\n",
    "- author: Hargun Oberoi\n",
    "- image: images/covid-overview.png\n",
    "- hide: false\n",
    "- badges: false"
   ]
  },
  {
   "cell_type": "code",
   "execution_count": 1,
   "id": "proof-material",
   "metadata": {
    "execution": {
     "iopub.execute_input": "2021-05-31T00:59:36.272054Z",
     "iopub.status.busy": "2021-05-31T00:59:36.271366Z",
     "iopub.status.idle": "2021-05-31T00:59:36.646412Z",
     "shell.execute_reply": "2021-05-31T00:59:36.647101Z"
    },
    "papermill": {
     "duration": 0.419301,
     "end_time": "2021-05-31T00:59:36.647275",
     "exception": false,
     "start_time": "2021-05-31T00:59:36.227974",
     "status": "completed"
    },
    "tags": []
   },
   "outputs": [],
   "source": [
    "#hide\n",
    "import numpy as np\n",
    "import pandas as pd\n",
    "from jinja2 import Template\n",
    "from IPython.display import HTML"
   ]
  },
  {
   "cell_type": "code",
   "execution_count": 2,
   "id": "developed-terminology",
   "metadata": {
    "execution": {
     "iopub.execute_input": "2021-05-31T00:59:36.723244Z",
     "iopub.status.busy": "2021-05-31T00:59:36.722515Z",
     "iopub.status.idle": "2021-05-31T00:59:36.724878Z",
     "shell.execute_reply": "2021-05-31T00:59:36.724386Z"
    },
    "papermill": {
     "duration": 0.040921,
     "end_time": "2021-05-31T00:59:36.724985",
     "exception": false,
     "start_time": "2021-05-31T00:59:36.684064",
     "status": "completed"
    },
    "tags": []
   },
   "outputs": [],
   "source": [
    "#hide\n",
    "\n",
    "# FETCH\n",
    "base_url = 'https://raw.githubusercontent.com/pratapvardhan/notebooks/master/covid19/'\n",
    "paths = {\n",
    "    'mapping': base_url + 'mapping_countries.csv',\n",
    "    'overview': base_url + 'overview.tpl'\n",
    "}"
   ]
  },
  {
   "cell_type": "code",
   "execution_count": 3,
   "id": "dynamic-saver",
   "metadata": {
    "execution": {
     "iopub.execute_input": "2021-05-31T00:59:36.806321Z",
     "iopub.status.busy": "2021-05-31T00:59:36.805588Z",
     "iopub.status.idle": "2021-05-31T00:59:36.809001Z",
     "shell.execute_reply": "2021-05-31T00:59:36.808539Z"
    },
    "papermill": {
     "duration": 0.050009,
     "end_time": "2021-05-31T00:59:36.809119",
     "exception": false,
     "start_time": "2021-05-31T00:59:36.759110",
     "status": "completed"
    },
    "tags": []
   },
   "outputs": [
    {
     "data": {
      "text/plain": [
       "'https://raw.githubusercontent.com/pratapvardhan/notebooks/master/covid19/mapping_countries.csv'"
      ]
     },
     "execution_count": 3,
     "metadata": {},
     "output_type": "execute_result"
    }
   ],
   "source": [
    "#hide\n",
    "paths['mapping']"
   ]
  },
  {
   "cell_type": "code",
   "execution_count": 4,
   "id": "urban-software",
   "metadata": {
    "execution": {
     "iopub.execute_input": "2021-05-31T00:59:36.892542Z",
     "iopub.status.busy": "2021-05-31T00:59:36.891794Z",
     "iopub.status.idle": "2021-05-31T00:59:36.894306Z",
     "shell.execute_reply": "2021-05-31T00:59:36.893804Z"
    },
    "papermill": {
     "duration": 0.04897,
     "end_time": "2021-05-31T00:59:36.894423",
     "exception": false,
     "start_time": "2021-05-31T00:59:36.845453",
     "status": "completed"
    },
    "tags": []
   },
   "outputs": [],
   "source": [
    "#hide\n",
    "def get_mappings(url):\n",
    "    df = pd.read_csv(url)\n",
    "    return {\n",
    "        'df': df,\n",
    "        'replace.country': dict(df.dropna(subset=['Name']).set_index('Country')['Name']),\n",
    "        'map.continent': dict(df.set_index('Name')['Continent'])\n",
    "    }"
   ]
  },
  {
   "cell_type": "code",
   "execution_count": 5,
   "id": "intimate-machinery",
   "metadata": {
    "execution": {
     "iopub.execute_input": "2021-05-31T00:59:36.974710Z",
     "iopub.status.busy": "2021-05-31T00:59:36.973249Z",
     "iopub.status.idle": "2021-05-31T00:59:37.015353Z",
     "shell.execute_reply": "2021-05-31T00:59:37.014758Z"
    },
    "papermill": {
     "duration": 0.086017,
     "end_time": "2021-05-31T00:59:37.015471",
     "exception": false,
     "start_time": "2021-05-31T00:59:36.929454",
     "status": "completed"
    },
    "tags": []
   },
   "outputs": [],
   "source": [
    "#hide\n",
    "mapping = get_mappings(paths['mapping'])"
   ]
  },
  {
   "cell_type": "code",
   "execution_count": 6,
   "id": "certified-tactics",
   "metadata": {
    "execution": {
     "iopub.execute_input": "2021-05-31T00:59:37.105143Z",
     "iopub.status.busy": "2021-05-31T00:59:37.104423Z",
     "iopub.status.idle": "2021-05-31T00:59:37.106790Z",
     "shell.execute_reply": "2021-05-31T00:59:37.106100Z"
    },
    "papermill": {
     "duration": 0.04475,
     "end_time": "2021-05-31T00:59:37.107041",
     "exception": false,
     "start_time": "2021-05-31T00:59:37.062291",
     "status": "completed"
    },
    "tags": []
   },
   "outputs": [],
   "source": [
    "#hide\n",
    "def get_template(path):\n",
    "    from urllib.parse import urlparse\n",
    "    if bool(urlparse(path).netloc):\n",
    "        from urllib.request import urlopen\n",
    "        return urlopen(path).read().decode('utf8')\n",
    "    return open(path).read()"
   ]
  },
  {
   "cell_type": "code",
   "execution_count": 7,
   "id": "realistic-blast",
   "metadata": {
    "execution": {
     "iopub.execute_input": "2021-05-31T00:59:37.183845Z",
     "iopub.status.busy": "2021-05-31T00:59:37.183203Z",
     "iopub.status.idle": "2021-05-31T00:59:37.185476Z",
     "shell.execute_reply": "2021-05-31T00:59:37.186114Z"
    },
    "papermill": {
     "duration": 0.044089,
     "end_time": "2021-05-31T00:59:37.186288",
     "exception": false,
     "start_time": "2021-05-31T00:59:37.142199",
     "status": "completed"
    },
    "tags": []
   },
   "outputs": [],
   "source": [
    "#hide\n",
    "def get_frame(name):\n",
    "    url = (\n",
    "        'https://raw.githubusercontent.com/CSSEGISandData/COVID-19/master/csse_covid_19_data/'\n",
    "        f'csse_covid_19_time_series/time_series_covid19_{name}_global.csv')\n",
    "    df = pd.read_csv(url)\n",
    "    # rename countries\n",
    "    df['Country/Region'] = df['Country/Region'].replace(mapping['replace.country'])\n",
    "    return df"
   ]
  },
  {
   "cell_type": "code",
   "execution_count": 8,
   "id": "affiliated-characterization",
   "metadata": {
    "execution": {
     "iopub.execute_input": "2021-05-31T00:59:37.263477Z",
     "iopub.status.busy": "2021-05-31T00:59:37.262765Z",
     "iopub.status.idle": "2021-05-31T00:59:37.266787Z",
     "shell.execute_reply": "2021-05-31T00:59:37.265822Z"
    },
    "papermill": {
     "duration": 0.044667,
     "end_time": "2021-05-31T00:59:37.266981",
     "exception": false,
     "start_time": "2021-05-31T00:59:37.222314",
     "status": "completed"
    },
    "tags": []
   },
   "outputs": [],
   "source": [
    "#hide\n",
    "def get_dates(df):\n",
    "    dt_cols = df.columns[~df.columns.isin(['Province/State', 'Country/Region', 'Lat', 'Long'])]\n",
    "    LAST_DATE_I = -1\n",
    "    # sometimes last column may be empty, then go backwards\n",
    "    for i in range(-1, -len(dt_cols), -1):\n",
    "        if not df[dt_cols[i]].fillna(0).eq(0).all():\n",
    "            LAST_DATE_I = i\n",
    "            break\n",
    "    return LAST_DATE_I, dt_cols"
   ]
  },
  {
   "cell_type": "code",
   "execution_count": 9,
   "id": "recent-optimization",
   "metadata": {
    "execution": {
     "iopub.execute_input": "2021-05-31T00:59:37.341717Z",
     "iopub.status.busy": "2021-05-31T00:59:37.341081Z",
     "iopub.status.idle": "2021-05-31T00:59:37.728470Z",
     "shell.execute_reply": "2021-05-31T00:59:37.727875Z"
    },
    "papermill": {
     "duration": 0.426099,
     "end_time": "2021-05-31T00:59:37.728587",
     "exception": false,
     "start_time": "2021-05-31T00:59:37.302488",
     "status": "completed"
    },
    "tags": []
   },
   "outputs": [],
   "source": [
    "#hide\n",
    "COL_REGION = 'Country/Region'\n",
    "# Confirmed, Recovered, Deaths\n",
    "df = get_frame('confirmed')\n",
    "# dft_: timeseries, dfc_: today country agg\n",
    "dft_cases = df\n",
    "dft_deaths = get_frame('deaths')\n",
    "dft_recovered = get_frame('recovered')\n",
    "LAST_DATE_I, dt_cols = get_dates(df)"
   ]
  },
  {
   "cell_type": "code",
   "execution_count": 10,
   "id": "absolute-copper",
   "metadata": {
    "execution": {
     "iopub.execute_input": "2021-05-31T00:59:37.803673Z",
     "iopub.status.busy": "2021-05-31T00:59:37.802970Z",
     "iopub.status.idle": "2021-05-31T00:59:37.806201Z",
     "shell.execute_reply": "2021-05-31T00:59:37.805760Z"
    },
    "papermill": {
     "duration": 0.043288,
     "end_time": "2021-05-31T00:59:37.806349",
     "exception": false,
     "start_time": "2021-05-31T00:59:37.763061",
     "status": "completed"
    },
    "tags": []
   },
   "outputs": [],
   "source": [
    "#hide\n",
    "LAST_DATE_I, dt_cols = get_dates(df)\n",
    "dt_today =dt_cols[LAST_DATE_I]\n",
    "# dt_5day = dt_cols[LAST_DATE_I - 5]\n",
    "dt_yday = dt_cols[LAST_DATE_I - 1]"
   ]
  },
  {
   "cell_type": "code",
   "execution_count": 11,
   "id": "restricted-sheriff",
   "metadata": {
    "execution": {
     "iopub.execute_input": "2021-05-31T00:59:37.892614Z",
     "iopub.status.busy": "2021-05-31T00:59:37.890305Z",
     "iopub.status.idle": "2021-05-31T00:59:37.898744Z",
     "shell.execute_reply": "2021-05-31T00:59:37.898178Z"
    },
    "papermill": {
     "duration": 0.056271,
     "end_time": "2021-05-31T00:59:37.898858",
     "exception": false,
     "start_time": "2021-05-31T00:59:37.842587",
     "status": "completed"
    },
    "tags": []
   },
   "outputs": [],
   "source": [
    "#hide\n",
    "dfc_cases = dft_cases.groupby(COL_REGION)[dt_today].sum()\n",
    "dfc_deaths = dft_deaths.groupby(COL_REGION)[dt_today].sum()\n",
    "# dfp_cases = dft_cases.groupby(COL_REGION)[dt_5day].sum()\n",
    "# dfp_deaths = dft_deaths.groupby(COL_REGION)[dt_5day].sum()\n",
    "dfp_cases = dft_cases.groupby(COL_REGION)[dt_yday].sum()\n",
    "dfp_deaths = dft_deaths.groupby(COL_REGION)[dt_yday].sum()"
   ]
  },
  {
   "cell_type": "code",
   "execution_count": 12,
   "id": "deluxe-hepatitis",
   "metadata": {
    "execution": {
     "iopub.execute_input": "2021-05-31T00:59:37.974088Z",
     "iopub.status.busy": "2021-05-31T00:59:37.973491Z",
     "iopub.status.idle": "2021-05-31T00:59:37.978278Z",
     "shell.execute_reply": "2021-05-31T00:59:37.978921Z"
    },
    "papermill": {
     "duration": 0.044493,
     "end_time": "2021-05-31T00:59:37.979076",
     "exception": false,
     "start_time": "2021-05-31T00:59:37.934583",
     "status": "completed"
    },
    "tags": []
   },
   "outputs": [],
   "source": [
    "#hide\n",
    "df_table = (pd.DataFrame(dict(Cases = dfc_cases, Deaths = dfc_deaths, PCases = dfp_cases, PDeaths = dfp_deaths))\n",
    "            .sort_values(by = ['Cases','Deaths'], ascending = [False, False])\n",
    "            .reset_index())"
   ]
  },
  {
   "cell_type": "code",
   "execution_count": 13,
   "id": "educational-chancellor",
   "metadata": {
    "execution": {
     "iopub.execute_input": "2021-05-31T00:59:38.063010Z",
     "iopub.status.busy": "2021-05-31T00:59:38.062206Z",
     "iopub.status.idle": "2021-05-31T00:59:38.077400Z",
     "shell.execute_reply": "2021-05-31T00:59:38.078085Z"
    },
    "papermill": {
     "duration": 0.064703,
     "end_time": "2021-05-31T00:59:38.078205",
     "exception": false,
     "start_time": "2021-05-31T00:59:38.013502",
     "status": "completed"
    },
    "tags": []
   },
   "outputs": [
    {
     "data": {
      "text/html": [
       "<div>\n",
       "<style scoped>\n",
       "    .dataframe tbody tr th:only-of-type {\n",
       "        vertical-align: middle;\n",
       "    }\n",
       "\n",
       "    .dataframe tbody tr th {\n",
       "        vertical-align: top;\n",
       "    }\n",
       "\n",
       "    .dataframe thead th {\n",
       "        text-align: right;\n",
       "    }\n",
       "</style>\n",
       "<table border=\"1\" class=\"dataframe\">\n",
       "  <thead>\n",
       "    <tr style=\"text-align: right;\">\n",
       "      <th></th>\n",
       "      <th>Country/Region</th>\n",
       "      <th>Cases</th>\n",
       "      <th>Deaths</th>\n",
       "      <th>PCases</th>\n",
       "      <th>PDeaths</th>\n",
       "      <th>Cases (+)</th>\n",
       "      <th>Deaths (+)</th>\n",
       "      <th>Fatality Rate</th>\n",
       "      <th>Continent</th>\n",
       "    </tr>\n",
       "  </thead>\n",
       "  <tbody>\n",
       "    <tr>\n",
       "      <th>0</th>\n",
       "      <td>US</td>\n",
       "      <td>33251939</td>\n",
       "      <td>594306</td>\n",
       "      <td>33239963</td>\n",
       "      <td>593963</td>\n",
       "      <td>11976</td>\n",
       "      <td>343</td>\n",
       "      <td>1.79</td>\n",
       "      <td>North America</td>\n",
       "    </tr>\n",
       "    <tr>\n",
       "      <th>1</th>\n",
       "      <td>India</td>\n",
       "      <td>27894800</td>\n",
       "      <td>325972</td>\n",
       "      <td>27729247</td>\n",
       "      <td>322512</td>\n",
       "      <td>165553</td>\n",
       "      <td>3460</td>\n",
       "      <td>1.17</td>\n",
       "      <td>Asia</td>\n",
       "    </tr>\n",
       "    <tr>\n",
       "      <th>2</th>\n",
       "      <td>Brazil</td>\n",
       "      <td>16471600</td>\n",
       "      <td>461057</td>\n",
       "      <td>16391930</td>\n",
       "      <td>459045</td>\n",
       "      <td>79670</td>\n",
       "      <td>2012</td>\n",
       "      <td>2.80</td>\n",
       "      <td>South America</td>\n",
       "    </tr>\n",
       "    <tr>\n",
       "      <th>3</th>\n",
       "      <td>France</td>\n",
       "      <td>5719877</td>\n",
       "      <td>109518</td>\n",
       "      <td>5708350</td>\n",
       "      <td>109452</td>\n",
       "      <td>11527</td>\n",
       "      <td>66</td>\n",
       "      <td>1.91</td>\n",
       "      <td>Europe</td>\n",
       "    </tr>\n",
       "    <tr>\n",
       "      <th>4</th>\n",
       "      <td>Turkey</td>\n",
       "      <td>5235978</td>\n",
       "      <td>47271</td>\n",
       "      <td>5228322</td>\n",
       "      <td>47134</td>\n",
       "      <td>7656</td>\n",
       "      <td>137</td>\n",
       "      <td>0.90</td>\n",
       "      <td>Asia</td>\n",
       "    </tr>\n",
       "  </tbody>\n",
       "</table>\n",
       "</div>"
      ],
      "text/plain": [
       "  Country/Region     Cases  Deaths    PCases  PDeaths  Cases (+)  Deaths (+)  \\\n",
       "0             US  33251939  594306  33239963   593963      11976         343   \n",
       "1          India  27894800  325972  27729247   322512     165553        3460   \n",
       "2         Brazil  16471600  461057  16391930   459045      79670        2012   \n",
       "3         France   5719877  109518   5708350   109452      11527          66   \n",
       "4         Turkey   5235978   47271   5228322    47134       7656         137   \n",
       "\n",
       "   Fatality Rate      Continent  \n",
       "0           1.79  North America  \n",
       "1           1.17           Asia  \n",
       "2           2.80  South America  \n",
       "3           1.91         Europe  \n",
       "4           0.90           Asia  "
      ]
     },
     "execution_count": 13,
     "metadata": {},
     "output_type": "execute_result"
    }
   ],
   "source": [
    "#hide\n",
    "for c in 'Cases, Deaths'.split(', '):\n",
    "    df_table[f'{c} (+)'] = (df_table[c] - df_table[f'P{c}']).clip(0)\n",
    "    #Clip ça veut dire, les chiffres negatif sont interdit\n",
    "df_table['Fatality Rate'] = (100* df_table['Deaths']/ df_table['Cases']).round(2)\n",
    "df_table['Continent'] = df_table['Country/Region'].map(mapping['map.continent'])\n",
    "df_table.head(5)"
   ]
  },
  {
   "cell_type": "code",
   "execution_count": 14,
   "id": "aboriginal-bulgaria",
   "metadata": {
    "execution": {
     "iopub.execute_input": "2021-05-31T00:59:38.155526Z",
     "iopub.status.busy": "2021-05-31T00:59:38.154898Z",
     "iopub.status.idle": "2021-05-31T00:59:38.157346Z",
     "shell.execute_reply": "2021-05-31T00:59:38.158233Z"
    },
    "papermill": {
     "duration": 0.045711,
     "end_time": "2021-05-31T00:59:38.158396",
     "exception": false,
     "start_time": "2021-05-31T00:59:38.112685",
     "status": "completed"
    },
    "tags": []
   },
   "outputs": [],
   "source": [
    "#hide\n",
    "#delete problematic countries from table\n",
    "df_table = df_table[~df_table['Country/Region'].isin(['Cape Verde', 'Cruise Ship', 'Kosovo'])]"
   ]
  },
  {
   "cell_type": "code",
   "execution_count": 15,
   "id": "fantastic-effect",
   "metadata": {
    "execution": {
     "iopub.execute_input": "2021-05-31T00:59:38.237154Z",
     "iopub.status.busy": "2021-05-31T00:59:38.236515Z",
     "iopub.status.idle": "2021-05-31T00:59:38.258828Z",
     "shell.execute_reply": "2021-05-31T00:59:38.258196Z"
    },
    "papermill": {
     "duration": 0.06509,
     "end_time": "2021-05-31T00:59:38.258993",
     "exception": false,
     "start_time": "2021-05-31T00:59:38.193903",
     "status": "completed"
    },
    "tags": []
   },
   "outputs": [
    {
     "data": {
      "text/html": [
       "<div>\n",
       "<style scoped>\n",
       "    .dataframe tbody tr th:only-of-type {\n",
       "        vertical-align: middle;\n",
       "    }\n",
       "\n",
       "    .dataframe tbody tr th {\n",
       "        vertical-align: top;\n",
       "    }\n",
       "\n",
       "    .dataframe thead th {\n",
       "        text-align: right;\n",
       "    }\n",
       "</style>\n",
       "<table border=\"1\" class=\"dataframe\">\n",
       "  <thead>\n",
       "    <tr style=\"text-align: right;\">\n",
       "      <th></th>\n",
       "      <th>Country/Region</th>\n",
       "      <th>Cases</th>\n",
       "      <th>Deaths</th>\n",
       "      <th>PCases</th>\n",
       "      <th>PDeaths</th>\n",
       "      <th>Cases (+)</th>\n",
       "      <th>Deaths (+)</th>\n",
       "      <th>Fatality Rate</th>\n",
       "      <th>Continent</th>\n",
       "    </tr>\n",
       "  </thead>\n",
       "  <tbody>\n",
       "    <tr>\n",
       "      <th>0</th>\n",
       "      <td>US</td>\n",
       "      <td>33251939</td>\n",
       "      <td>594306</td>\n",
       "      <td>33239963</td>\n",
       "      <td>593963</td>\n",
       "      <td>11976</td>\n",
       "      <td>343</td>\n",
       "      <td>1.8</td>\n",
       "      <td>North America</td>\n",
       "    </tr>\n",
       "    <tr>\n",
       "      <th>1</th>\n",
       "      <td>India</td>\n",
       "      <td>27894800</td>\n",
       "      <td>325972</td>\n",
       "      <td>27729247</td>\n",
       "      <td>322512</td>\n",
       "      <td>165553</td>\n",
       "      <td>3460</td>\n",
       "      <td>1.2</td>\n",
       "      <td>Asia</td>\n",
       "    </tr>\n",
       "    <tr>\n",
       "      <th>2</th>\n",
       "      <td>Brazil</td>\n",
       "      <td>16471600</td>\n",
       "      <td>461057</td>\n",
       "      <td>16391930</td>\n",
       "      <td>459045</td>\n",
       "      <td>79670</td>\n",
       "      <td>2012</td>\n",
       "      <td>2.8</td>\n",
       "      <td>South America</td>\n",
       "    </tr>\n",
       "    <tr>\n",
       "      <th>3</th>\n",
       "      <td>France</td>\n",
       "      <td>5719877</td>\n",
       "      <td>109518</td>\n",
       "      <td>5708350</td>\n",
       "      <td>109452</td>\n",
       "      <td>11527</td>\n",
       "      <td>66</td>\n",
       "      <td>1.9</td>\n",
       "      <td>Europe</td>\n",
       "    </tr>\n",
       "    <tr>\n",
       "      <th>4</th>\n",
       "      <td>Turkey</td>\n",
       "      <td>5235978</td>\n",
       "      <td>47271</td>\n",
       "      <td>5228322</td>\n",
       "      <td>47134</td>\n",
       "      <td>7656</td>\n",
       "      <td>137</td>\n",
       "      <td>0.9</td>\n",
       "      <td>Asia</td>\n",
       "    </tr>\n",
       "  </tbody>\n",
       "</table>\n",
       "</div>"
      ],
      "text/plain": [
       "  Country/Region     Cases  Deaths    PCases  PDeaths  Cases (+)  Deaths (+)  \\\n",
       "0             US  33251939  594306  33239963   593963      11976         343   \n",
       "1          India  27894800  325972  27729247   322512     165553        3460   \n",
       "2         Brazil  16471600  461057  16391930   459045      79670        2012   \n",
       "3         France   5719877  109518   5708350   109452      11527          66   \n",
       "4         Turkey   5235978   47271   5228322    47134       7656         137   \n",
       "\n",
       "   Fatality Rate      Continent  \n",
       "0            1.8  North America  \n",
       "1            1.2           Asia  \n",
       "2            2.8  South America  \n",
       "3            1.9         Europe  \n",
       "4            0.9           Asia  "
      ]
     },
     "execution_count": 15,
     "metadata": {},
     "output_type": "execute_result"
    }
   ],
   "source": [
    "#hide\n",
    "df_table = (pd.DataFrame(dict(Cases=dfc_cases, Deaths=dfc_deaths, PCases=dfp_cases, PDeaths=dfp_deaths))\n",
    "             .sort_values(by=['Cases', 'Deaths'], ascending=[False, False])\n",
    "             .reset_index())\n",
    "df_table.rename(columns={'index': 'Country/Region'}, inplace=True)\n",
    "for c in 'Cases, Deaths'.split(', '):\n",
    "    df_table[f'{c} (+)'] = (df_table[c] - df_table[f'P{c}']).clip(0)  # DATA BUG\n",
    "df_table['Fatality Rate'] = (100 * df_table['Deaths'] / df_table['Cases']).round(1)\n",
    "df_table['Continent'] = df_table['Country/Region'].map(mapping['map.continent'])\n",
    "df_table.head(5)"
   ]
  },
  {
   "cell_type": "code",
   "execution_count": 16,
   "id": "fewer-occasion",
   "metadata": {
    "execution": {
     "iopub.execute_input": "2021-05-31T00:59:38.335713Z",
     "iopub.status.busy": "2021-05-31T00:59:38.335116Z",
     "iopub.status.idle": "2021-05-31T00:59:38.337747Z",
     "shell.execute_reply": "2021-05-31T00:59:38.337291Z"
    },
    "papermill": {
     "duration": 0.042725,
     "end_time": "2021-05-31T00:59:38.337873",
     "exception": false,
     "start_time": "2021-05-31T00:59:38.295148",
     "status": "completed"
    },
    "tags": []
   },
   "outputs": [],
   "source": [
    "#hide\n",
    "#delete problematic countries from table\n",
    "df_table = df_table[~df_table['Country/Region'].isin(['Cape Verde', 'Cruise Ship', 'Kosovo'])]"
   ]
  },
  {
   "cell_type": "code",
   "execution_count": 17,
   "id": "related-center",
   "metadata": {
    "execution": {
     "iopub.execute_input": "2021-05-31T00:59:38.419450Z",
     "iopub.status.busy": "2021-05-31T00:59:38.418831Z",
     "iopub.status.idle": "2021-05-31T00:59:38.433132Z",
     "shell.execute_reply": "2021-05-31T00:59:38.432609Z"
    },
    "papermill": {
     "duration": 0.058152,
     "end_time": "2021-05-31T00:59:38.433259",
     "exception": false,
     "start_time": "2021-05-31T00:59:38.375107",
     "status": "completed"
    },
    "tags": []
   },
   "outputs": [],
   "source": [
    "#hide\n",
    "metrics = [df_table.columns[index] for index in [1,2,5,6]]\n",
    "# s_china = df_table[df_table['Country/Region'].eq('China')][metrics].sum().add_prefix('China ')\n",
    "s_us = df_table[df_table['Country/Region'].eq('US')][metrics].sum().add_prefix('US ')\n",
    "s_eu = df_table[df_table['Continent'].eq('Europe')][metrics].sum().add_prefix('EU ')\n",
    "s_ind = df_table[df_table['Country/Region'].eq('India')][metrics].sum().add_prefix('India ')\n",
    "summary = {'updated': pd.to_datetime(dt_today), 'since': pd.to_datetime(dt_yday)}\n",
    "summary = {'updated': pd.to_datetime(dt_today), 'since': pd.to_datetime(dt_yday)}\n",
    "summary = {**summary, **df_table[metrics].sum(), **s_ind, **s_us, **s_eu}"
   ]
  },
  {
   "cell_type": "code",
   "execution_count": 18,
   "id": "engaging-syndrome",
   "metadata": {
    "execution": {
     "iopub.execute_input": "2021-05-31T00:59:38.512884Z",
     "iopub.status.busy": "2021-05-31T00:59:38.512164Z",
     "iopub.status.idle": "2021-05-31T00:59:38.526023Z",
     "shell.execute_reply": "2021-05-31T00:59:38.525329Z"
    },
    "papermill": {
     "duration": 0.055589,
     "end_time": "2021-05-31T00:59:38.526167",
     "exception": false,
     "start_time": "2021-05-31T00:59:38.470578",
     "status": "completed"
    },
    "tags": []
   },
   "outputs": [],
   "source": [
    "#hide\n",
    "dft_ct_new_cases = dft_cases.groupby(COL_REGION)[dt_cols].sum().diff(axis=1).fillna(0).astype(int)"
   ]
  },
  {
   "cell_type": "code",
   "execution_count": 19,
   "id": "neutral-assignment",
   "metadata": {
    "execution": {
     "iopub.execute_input": "2021-05-31T00:59:38.601892Z",
     "iopub.status.busy": "2021-05-31T00:59:38.601275Z",
     "iopub.status.idle": "2021-05-31T00:59:38.606084Z",
     "shell.execute_reply": "2021-05-31T00:59:38.606595Z"
    },
    "papermill": {
     "duration": 0.044989,
     "end_time": "2021-05-31T00:59:38.606739",
     "exception": false,
     "start_time": "2021-05-31T00:59:38.561750",
     "status": "completed"
    },
    "tags": []
   },
   "outputs": [],
   "source": [
    "#hide\n",
    "everydaycases = dft_ct_new_cases.cumsum(axis=1)"
   ]
  },
  {
   "cell_type": "code",
   "execution_count": 20,
   "id": "parliamentary-calgary",
   "metadata": {
    "execution": {
     "iopub.execute_input": "2021-05-31T00:59:38.684562Z",
     "iopub.status.busy": "2021-05-31T00:59:38.683563Z",
     "iopub.status.idle": "2021-05-31T00:59:39.302344Z",
     "shell.execute_reply": "2021-05-31T00:59:39.301762Z"
    },
    "papermill": {
     "duration": 0.659171,
     "end_time": "2021-05-31T00:59:39.302541",
     "exception": false,
     "start_time": "2021-05-31T00:59:38.643370",
     "status": "completed"
    },
    "tags": []
   },
   "outputs": [],
   "source": [
    "#hide\n",
    "import pandas as pd\n",
    "import matplotlib.pyplot as plt\n",
    "import matplotlib.ticker as ticker\n",
    "import matplotlib.animation as animation\n",
    "from IPython.display import HTML"
   ]
  },
  {
   "cell_type": "code",
   "execution_count": 21,
   "id": "lasting-extraction",
   "metadata": {
    "execution": {
     "iopub.execute_input": "2021-05-31T00:59:39.382598Z",
     "iopub.status.busy": "2021-05-31T00:59:39.381882Z",
     "iopub.status.idle": "2021-05-31T00:59:39.387564Z",
     "shell.execute_reply": "2021-05-31T00:59:39.387038Z"
    },
    "papermill": {
     "duration": 0.048759,
     "end_time": "2021-05-31T00:59:39.387677",
     "exception": false,
     "start_time": "2021-05-31T00:59:39.338918",
     "status": "completed"
    },
    "tags": []
   },
   "outputs": [],
   "source": [
    "#hide\n",
    "t = everydaycases.stack()"
   ]
  },
  {
   "cell_type": "code",
   "execution_count": 22,
   "id": "premier-sleeve",
   "metadata": {
    "execution": {
     "iopub.execute_input": "2021-05-31T00:59:39.470099Z",
     "iopub.status.busy": "2021-05-31T00:59:39.469458Z",
     "iopub.status.idle": "2021-05-31T00:59:39.478533Z",
     "shell.execute_reply": "2021-05-31T00:59:39.479126Z"
    },
    "papermill": {
     "duration": 0.051599,
     "end_time": "2021-05-31T00:59:39.479262",
     "exception": false,
     "start_time": "2021-05-31T00:59:39.427663",
     "status": "completed"
    },
    "tags": []
   },
   "outputs": [],
   "source": [
    "#hide\n",
    "g = t.reset_index(['Country/Region'])"
   ]
  },
  {
   "cell_type": "code",
   "execution_count": 23,
   "id": "distributed-pittsburgh",
   "metadata": {
    "execution": {
     "iopub.execute_input": "2021-05-31T00:59:39.559859Z",
     "iopub.status.busy": "2021-05-31T00:59:39.559182Z",
     "iopub.status.idle": "2021-05-31T00:59:39.561621Z",
     "shell.execute_reply": "2021-05-31T00:59:39.561132Z"
    },
    "papermill": {
     "duration": 0.044248,
     "end_time": "2021-05-31T00:59:39.561733",
     "exception": false,
     "start_time": "2021-05-31T00:59:39.517485",
     "status": "completed"
    },
    "tags": []
   },
   "outputs": [],
   "source": [
    "#hide\n",
    "g.index.name = 'date'"
   ]
  },
  {
   "cell_type": "code",
   "execution_count": 24,
   "id": "naked-donor",
   "metadata": {
    "execution": {
     "iopub.execute_input": "2021-05-31T00:59:39.640072Z",
     "iopub.status.busy": "2021-05-31T00:59:39.639486Z",
     "iopub.status.idle": "2021-05-31T00:59:39.642024Z",
     "shell.execute_reply": "2021-05-31T00:59:39.641506Z"
    },
    "papermill": {
     "duration": 0.042736,
     "end_time": "2021-05-31T00:59:39.642136",
     "exception": false,
     "start_time": "2021-05-31T00:59:39.599400",
     "status": "completed"
    },
    "tags": []
   },
   "outputs": [],
   "source": [
    "# #hide\n",
    "# g = g.reset_index(['date'])"
   ]
  },
  {
   "cell_type": "code",
   "execution_count": 25,
   "id": "incomplete-mustang",
   "metadata": {
    "execution": {
     "iopub.execute_input": "2021-05-31T00:59:39.719745Z",
     "iopub.status.busy": "2021-05-31T00:59:39.719143Z",
     "iopub.status.idle": "2021-05-31T00:59:39.720965Z",
     "shell.execute_reply": "2021-05-31T00:59:39.721405Z"
    },
    "papermill": {
     "duration": 0.042515,
     "end_time": "2021-05-31T00:59:39.721608",
     "exception": false,
     "start_time": "2021-05-31T00:59:39.679093",
     "status": "completed"
    },
    "tags": []
   },
   "outputs": [],
   "source": [
    "#hide\n",
    "# g.head()"
   ]
  },
  {
   "cell_type": "code",
   "execution_count": 26,
   "id": "specific-kruger",
   "metadata": {
    "execution": {
     "iopub.execute_input": "2021-05-31T00:59:39.796096Z",
     "iopub.status.busy": "2021-05-31T00:59:39.795454Z",
     "iopub.status.idle": "2021-05-31T00:59:39.798150Z",
     "shell.execute_reply": "2021-05-31T00:59:39.798720Z"
    },
    "papermill": {
     "duration": 0.04144,
     "end_time": "2021-05-31T00:59:39.798858",
     "exception": false,
     "start_time": "2021-05-31T00:59:39.757418",
     "status": "completed"
    },
    "tags": []
   },
   "outputs": [],
   "source": [
    "#hide\n",
    "# g.columns = ['date','country','cases']"
   ]
  },
  {
   "cell_type": "code",
   "execution_count": 27,
   "id": "tender-conversion",
   "metadata": {
    "execution": {
     "iopub.execute_input": "2021-05-31T00:59:39.870546Z",
     "iopub.status.busy": "2021-05-31T00:59:39.869917Z",
     "iopub.status.idle": "2021-05-31T00:59:39.872628Z",
     "shell.execute_reply": "2021-05-31T00:59:39.872062Z"
    },
    "papermill": {
     "duration": 0.039326,
     "end_time": "2021-05-31T00:59:39.872723",
     "exception": false,
     "start_time": "2021-05-31T00:59:39.833397",
     "status": "completed"
    },
    "tags": []
   },
   "outputs": [],
   "source": [
    "#hide\n",
    "# g['continent'] = g.country"
   ]
  },
  {
   "cell_type": "code",
   "execution_count": 28,
   "id": "substantial-wilderness",
   "metadata": {
    "execution": {
     "iopub.execute_input": "2021-05-31T00:59:39.949462Z",
     "iopub.status.busy": "2021-05-31T00:59:39.948695Z",
     "iopub.status.idle": "2021-05-31T00:59:39.952175Z",
     "shell.execute_reply": "2021-05-31T00:59:39.951650Z"
    },
    "papermill": {
     "duration": 0.043089,
     "end_time": "2021-05-31T00:59:39.952279",
     "exception": false,
     "start_time": "2021-05-31T00:59:39.909190",
     "status": "completed"
    },
    "tags": []
   },
   "outputs": [],
   "source": [
    "#hide\n",
    "# cols = list(g.columns.values)"
   ]
  },
  {
   "cell_type": "code",
   "execution_count": 29,
   "id": "solved-farming",
   "metadata": {
    "execution": {
     "iopub.execute_input": "2021-05-31T00:59:40.031295Z",
     "iopub.status.busy": "2021-05-31T00:59:40.030662Z",
     "iopub.status.idle": "2021-05-31T00:59:40.037563Z",
     "shell.execute_reply": "2021-05-31T00:59:40.038032Z"
    },
    "papermill": {
     "duration": 0.048055,
     "end_time": "2021-05-31T00:59:40.038177",
     "exception": false,
     "start_time": "2021-05-31T00:59:39.990122",
     "status": "completed"
    },
    "tags": []
   },
   "outputs": [],
   "source": [
    "#hide\n",
    "# cols.insert(0, cols.pop())"
   ]
  },
  {
   "cell_type": "code",
   "execution_count": 30,
   "id": "executed-adoption",
   "metadata": {
    "execution": {
     "iopub.execute_input": "2021-05-31T00:59:40.113677Z",
     "iopub.status.busy": "2021-05-31T00:59:40.113030Z",
     "iopub.status.idle": "2021-05-31T00:59:40.115492Z",
     "shell.execute_reply": "2021-05-31T00:59:40.114819Z"
    },
    "papermill": {
     "duration": 0.042116,
     "end_time": "2021-05-31T00:59:40.115620",
     "exception": false,
     "start_time": "2021-05-31T00:59:40.073504",
     "status": "completed"
    },
    "tags": []
   },
   "outputs": [],
   "source": [
    "#hide\n",
    "# g = g[cols]"
   ]
  },
  {
   "cell_type": "code",
   "execution_count": 31,
   "id": "subject-dublin",
   "metadata": {
    "execution": {
     "iopub.execute_input": "2021-05-31T00:59:40.193453Z",
     "iopub.status.busy": "2021-05-31T00:59:40.192866Z",
     "iopub.status.idle": "2021-05-31T00:59:40.195310Z",
     "shell.execute_reply": "2021-05-31T00:59:40.194804Z"
    },
    "papermill": {
     "duration": 0.042062,
     "end_time": "2021-05-31T00:59:40.195421",
     "exception": false,
     "start_time": "2021-05-31T00:59:40.153359",
     "status": "completed"
    },
    "tags": []
   },
   "outputs": [],
   "source": [
    "#hide\n",
    "# g['continent'] = g['continent'].map(mapping['map.continent'])"
   ]
  },
  {
   "cell_type": "code",
   "execution_count": 32,
   "id": "freelance-scout",
   "metadata": {
    "execution": {
     "iopub.execute_input": "2021-05-31T00:59:40.276183Z",
     "iopub.status.busy": "2021-05-31T00:59:40.275567Z",
     "iopub.status.idle": "2021-05-31T00:59:40.278043Z",
     "shell.execute_reply": "2021-05-31T00:59:40.277470Z"
    },
    "papermill": {
     "duration": 0.043379,
     "end_time": "2021-05-31T00:59:40.278153",
     "exception": false,
     "start_time": "2021-05-31T00:59:40.234774",
     "status": "completed"
    },
    "tags": []
   },
   "outputs": [],
   "source": [
    "#hide\n",
    "# g.head()"
   ]
  },
  {
   "cell_type": "code",
   "execution_count": 33,
   "id": "limited-engine",
   "metadata": {
    "execution": {
     "iopub.execute_input": "2021-05-31T00:59:40.356487Z",
     "iopub.status.busy": "2021-05-31T00:59:40.355878Z",
     "iopub.status.idle": "2021-05-31T00:59:40.359748Z",
     "shell.execute_reply": "2021-05-31T00:59:40.359295Z"
    },
    "papermill": {
     "duration": 0.045187,
     "end_time": "2021-05-31T00:59:40.359863",
     "exception": false,
     "start_time": "2021-05-31T00:59:40.314676",
     "status": "completed"
    },
    "tags": []
   },
   "outputs": [],
   "source": [
    "# hide\n",
    "# g['date'] = g['date'].astype('datetime64[ns]')"
   ]
  },
  {
   "cell_type": "code",
   "execution_count": 34,
   "id": "sophisticated-supervisor",
   "metadata": {
    "execution": {
     "iopub.execute_input": "2021-05-31T00:59:40.441053Z",
     "iopub.status.busy": "2021-05-31T00:59:40.439547Z",
     "iopub.status.idle": "2021-05-31T00:59:40.441780Z",
     "shell.execute_reply": "2021-05-31T00:59:40.442382Z"
    },
    "papermill": {
     "duration": 0.043889,
     "end_time": "2021-05-31T00:59:40.442551",
     "exception": false,
     "start_time": "2021-05-31T00:59:40.398662",
     "status": "completed"
    },
    "tags": []
   },
   "outputs": [],
   "source": [
    "#hide\n",
    "# g['date'] = g.date.dt.dayofyear"
   ]
  },
  {
   "cell_type": "code",
   "execution_count": 35,
   "id": "inside-dubai",
   "metadata": {
    "execution": {
     "iopub.execute_input": "2021-05-31T00:59:40.519331Z",
     "iopub.status.busy": "2021-05-31T00:59:40.518637Z",
     "iopub.status.idle": "2021-05-31T00:59:40.520808Z",
     "shell.execute_reply": "2021-05-31T00:59:40.521281Z"
    },
    "papermill": {
     "duration": 0.041778,
     "end_time": "2021-05-31T00:59:40.521398",
     "exception": false,
     "start_time": "2021-05-31T00:59:40.479620",
     "status": "completed"
    },
    "tags": []
   },
   "outputs": [],
   "source": [
    "#hide\n",
    "# g = g.rename(columns= {'continent':'group','country':'name','cases':'value'})"
   ]
  },
  {
   "cell_type": "code",
   "execution_count": 36,
   "id": "fleet-motorcycle",
   "metadata": {
    "execution": {
     "iopub.execute_input": "2021-05-31T00:59:40.602329Z",
     "iopub.status.busy": "2021-05-31T00:59:40.601695Z",
     "iopub.status.idle": "2021-05-31T00:59:40.604344Z",
     "shell.execute_reply": "2021-05-31T00:59:40.603838Z"
    },
    "papermill": {
     "duration": 0.04561,
     "end_time": "2021-05-31T00:59:40.604467",
     "exception": false,
     "start_time": "2021-05-31T00:59:40.558857",
     "status": "completed"
    },
    "tags": []
   },
   "outputs": [],
   "source": [
    "#hide\n",
    "# cols = ['name','group','day','value']"
   ]
  },
  {
   "cell_type": "code",
   "execution_count": 37,
   "id": "continued-sleeping",
   "metadata": {
    "execution": {
     "iopub.execute_input": "2021-05-31T00:59:40.682488Z",
     "iopub.status.busy": "2021-05-31T00:59:40.681840Z",
     "iopub.status.idle": "2021-05-31T00:59:40.684376Z",
     "shell.execute_reply": "2021-05-31T00:59:40.683656Z"
    },
    "papermill": {
     "duration": 0.043243,
     "end_time": "2021-05-31T00:59:40.684485",
     "exception": false,
     "start_time": "2021-05-31T00:59:40.641242",
     "status": "completed"
    },
    "tags": []
   },
   "outputs": [],
   "source": [
    "#hide\n",
    "# g.rename(columns= {'date':'day'},inplace = True)"
   ]
  },
  {
   "cell_type": "code",
   "execution_count": 38,
   "id": "major-fight",
   "metadata": {
    "execution": {
     "iopub.execute_input": "2021-05-31T00:59:40.759886Z",
     "iopub.status.busy": "2021-05-31T00:59:40.759277Z",
     "iopub.status.idle": "2021-05-31T00:59:40.761621Z",
     "shell.execute_reply": "2021-05-31T00:59:40.761122Z"
    },
    "papermill": {
     "duration": 0.04144,
     "end_time": "2021-05-31T00:59:40.761751",
     "exception": false,
     "start_time": "2021-05-31T00:59:40.720311",
     "status": "completed"
    },
    "tags": []
   },
   "outputs": [],
   "source": [
    "#hide\n",
    "# g = g[cols]"
   ]
  },
  {
   "cell_type": "code",
   "execution_count": 39,
   "id": "structured-mobile",
   "metadata": {
    "execution": {
     "iopub.execute_input": "2021-05-31T00:59:40.845242Z",
     "iopub.status.busy": "2021-05-31T00:59:40.844567Z",
     "iopub.status.idle": "2021-05-31T00:59:40.847862Z",
     "shell.execute_reply": "2021-05-31T00:59:40.846971Z"
    },
    "papermill": {
     "duration": 0.047134,
     "end_time": "2021-05-31T00:59:40.848009",
     "exception": false,
     "start_time": "2021-05-31T00:59:40.800875",
     "status": "completed"
    },
    "tags": []
   },
   "outputs": [],
   "source": [
    "# #hide\n",
    "# g = g[g.group.notna()]"
   ]
  },
  {
   "cell_type": "code",
   "execution_count": 40,
   "id": "determined-closing",
   "metadata": {
    "execution": {
     "iopub.execute_input": "2021-05-31T00:59:40.928319Z",
     "iopub.status.busy": "2021-05-31T00:59:40.927681Z",
     "iopub.status.idle": "2021-05-31T00:59:40.930602Z",
     "shell.execute_reply": "2021-05-31T00:59:40.930077Z"
    },
    "papermill": {
     "duration": 0.044376,
     "end_time": "2021-05-31T00:59:40.930730",
     "exception": false,
     "start_time": "2021-05-31T00:59:40.886354",
     "status": "completed"
    },
    "tags": []
   },
   "outputs": [],
   "source": [
    "# #hide\n",
    "# colors = dict(zip(\n",
    "#     [\"Oceania\", \"Europe\", \"Asia\", \"South America\", \"Middle East\", \"North America\", \"Africa\"],\n",
    "#     [\"#adb0ff\", \"#ffb3ff\", \"#90d595\", \"#e48381\", \"#aafbff\", \"#f7bb5f\", \"#eafb50\"]\n",
    "# ))\n",
    "# group_lk = g.set_index('name')['group'].to_dict()"
   ]
  },
  {
   "cell_type": "code",
   "execution_count": null,
   "id": "gross-drinking",
   "metadata": {
    "papermill": {
     "duration": 0.037747,
     "end_time": "2021-05-31T00:59:41.005085",
     "exception": false,
     "start_time": "2021-05-31T00:59:40.967338",
     "status": "completed"
    },
    "tags": []
   },
   "outputs": [],
   "source": []
  },
  {
   "cell_type": "code",
   "execution_count": 41,
   "id": "subject-macintosh",
   "metadata": {
    "execution": {
     "iopub.execute_input": "2021-05-31T00:59:41.087457Z",
     "iopub.status.busy": "2021-05-31T00:59:41.086767Z",
     "iopub.status.idle": "2021-05-31T00:59:41.088816Z",
     "shell.execute_reply": "2021-05-31T00:59:41.089307Z"
    },
    "papermill": {
     "duration": 0.046427,
     "end_time": "2021-05-31T00:59:41.089615",
     "exception": false,
     "start_time": "2021-05-31T00:59:41.043188",
     "status": "completed"
    },
    "tags": []
   },
   "outputs": [],
   "source": [
    "# #hide\n",
    "# fig, ax = plt.subplots(figsize=(15, 8))\n",
    "\n",
    "# def draw_barchart(current_day):\n",
    "#     dff = g[g['day'].eq(current_day)].sort_values(by='value', ascending=True).tail(10)\n",
    "#     ax.clear()\n",
    "#     ax.barh(dff['name'], dff['value'], color=[colors[group_lk[x]] for x in dff['name']])\n",
    "#     dx = dff['value'].max() / 200\n",
    "    \n",
    "#     for i, (value, name) in enumerate(zip(dff['value'], dff['name'])):\n",
    "#         ax.text(value-dx, i,     name,           size=14, weight=600, ha='right', va='bottom')\n",
    "#         ax.text(value-dx, i-.25, group_lk[name], size=10, color='#444444', ha='right', va='baseline')\n",
    "#         ax.text(value+dx, i,     f'{value:,.0f}',  size=14, ha='left',  va='center')\n",
    "#     ax.text(1, 0.4, current_day, transform=ax.transAxes, color='#777777', size=46, ha='right', weight=800)\n",
    "#     ax.text(0, 1.06, 'Population (thousands)', transform=ax.transAxes, size=12, color='#777777')\n",
    "#     ax.xaxis.set_major_formatter(ticker.StrMethodFormatter('{x:,.0f}'))\n",
    "#     ax.xaxis.set_ticks_position('top')\n",
    "#     ax.tick_params(axis='x', colors='#777777', labelsize=12)\n",
    "#     ax.set_yticks([])\n",
    "#     ax.margins(0, 0.01)\n",
    "#     ax.grid(which='major', axis='x', linestyle='-')\n",
    "#     ax.set_axisbelow(True)\n",
    "    \n",
    "#     ax.text(0, 1.15, 'Coronavirus',\n",
    "#             transform=ax.transAxes, size=24, weight=600, ha='left', va='top')\n",
    "# #     ax.text(1, 0, 'by @pratapvardhan; credit @jburnmurdoch', transform=ax.transAxes, color='#777777', ha='right',\n",
    "# #             bbox=dict(facecolor='white', alpha=0.8, edgecolor='white'))\n",
    "#     plt.box(False)"
   ]
  },
  {
   "cell_type": "code",
   "execution_count": 42,
   "id": "sexual-wages",
   "metadata": {
    "execution": {
     "iopub.execute_input": "2021-05-31T00:59:41.168589Z",
     "iopub.status.busy": "2021-05-31T00:59:41.167939Z",
     "iopub.status.idle": "2021-05-31T00:59:41.170339Z",
     "shell.execute_reply": "2021-05-31T00:59:41.169723Z"
    },
    "papermill": {
     "duration": 0.0437,
     "end_time": "2021-05-31T00:59:41.170460",
     "exception": false,
     "start_time": "2021-05-31T00:59:41.126760",
     "status": "completed"
    },
    "tags": []
   },
   "outputs": [],
   "source": [
    "# #hide_input\n",
    "# fig, ax = plt.subplots(figsize=(15, 8))\n",
    "# animator = animation.FuncAnimation(fig, draw_barchart, frames=range(g.day.values.min(), g.day.values.max()))\n",
    "# HTML(animator.to_jshtml())\n",
    "# # or use animator.to_html5_video() or animator.save() "
   ]
  },
  {
   "cell_type": "code",
   "execution_count": null,
   "id": "australian-container",
   "metadata": {
    "papermill": {
     "duration": 0.038263,
     "end_time": "2021-05-31T00:59:41.248725",
     "exception": false,
     "start_time": "2021-05-31T00:59:41.210462",
     "status": "completed"
    },
    "tags": []
   },
   "outputs": [],
   "source": []
  },
  {
   "cell_type": "code",
   "execution_count": null,
   "id": "mediterranean-pontiac",
   "metadata": {
    "papermill": {
     "duration": 0.037762,
     "end_time": "2021-05-31T00:59:41.323764",
     "exception": false,
     "start_time": "2021-05-31T00:59:41.286002",
     "status": "completed"
    },
    "tags": []
   },
   "outputs": [],
   "source": []
  },
  {
   "cell_type": "code",
   "execution_count": null,
   "id": "aging-legislature",
   "metadata": {
    "papermill": {
     "duration": 0.033883,
     "end_time": "2021-05-31T00:59:41.392978",
     "exception": false,
     "start_time": "2021-05-31T00:59:41.359095",
     "status": "completed"
    },
    "tags": []
   },
   "outputs": [],
   "source": []
  }
 ],
 "metadata": {
  "kernelspec": {
   "display_name": "Python 3",
   "language": "python",
   "name": "python3"
  },
  "language_info": {
   "codemirror_mode": {
    "name": "ipython",
    "version": 3
   },
   "file_extension": ".py",
   "mimetype": "text/x-python",
   "name": "python",
   "nbconvert_exporter": "python",
   "pygments_lexer": "ipython3",
   "version": "3.6.13"
  },
  "papermill": {
   "duration": 6.904303,
   "end_time": "2021-05-31T00:59:41.740295",
   "environment_variables": {},
   "exception": null,
   "input_path": "2020-03-21-covid19exp.ipynb",
   "output_path": "2020-03-21-covid19exp.ipynb",
   "parameters": {},
   "start_time": "2021-05-31T00:59:34.835992",
   "version": "2.0.0"
  }
 },
 "nbformat": 4,
 "nbformat_minor": 5
}