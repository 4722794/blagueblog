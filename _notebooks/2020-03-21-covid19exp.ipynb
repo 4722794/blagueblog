{
 "cells": [
  {
   "cell_type": "markdown",
   "metadata": {
    "papermill": {
     "duration": 0.033522,
     "end_time": "2021-01-13T12:25:52.428969",
     "exception": false,
     "start_time": "2021-01-13T12:25:52.395447",
     "status": "completed"
    },
    "tags": []
   },
   "source": [
    "# COVID-19 Case Race\n",
    "> A race chart to see rising cases around the world\n",
    "\n",
    "- author: Hargun Oberoi\n",
    "- image: images/covid-overview.png\n",
    "- hide: false\n",
    "- badges: false"
   ]
  },
  {
   "cell_type": "code",
   "execution_count": 1,
   "metadata": {
    "execution": {
     "iopub.execute_input": "2021-01-13T12:25:52.489751Z",
     "iopub.status.busy": "2021-01-13T12:25:52.489271Z",
     "iopub.status.idle": "2021-01-13T12:25:52.787644Z",
     "shell.execute_reply": "2021-01-13T12:25:52.786739Z"
    },
    "papermill": {
     "duration": 0.33218,
     "end_time": "2021-01-13T12:25:52.787892",
     "exception": false,
     "start_time": "2021-01-13T12:25:52.455712",
     "status": "completed"
    },
    "tags": []
   },
   "outputs": [],
   "source": [
    "#hide\n",
    "import numpy as np\n",
    "import pandas as pd\n",
    "from jinja2 import Template\n",
    "from IPython.display import HTML"
   ]
  },
  {
   "cell_type": "code",
   "execution_count": 2,
   "metadata": {
    "execution": {
     "iopub.execute_input": "2021-01-13T12:25:52.846663Z",
     "iopub.status.busy": "2021-01-13T12:25:52.846151Z",
     "iopub.status.idle": "2021-01-13T12:25:52.848375Z",
     "shell.execute_reply": "2021-01-13T12:25:52.848857Z"
    },
    "papermill": {
     "duration": 0.034273,
     "end_time": "2021-01-13T12:25:52.848988",
     "exception": false,
     "start_time": "2021-01-13T12:25:52.814715",
     "status": "completed"
    },
    "tags": []
   },
   "outputs": [],
   "source": [
    "#hide\n",
    "\n",
    "# FETCH\n",
    "base_url = 'https://raw.githubusercontent.com/pratapvardhan/notebooks/master/covid19/'\n",
    "paths = {\n",
    "    'mapping': base_url + 'mapping_countries.csv',\n",
    "    'overview': base_url + 'overview.tpl'\n",
    "}"
   ]
  },
  {
   "cell_type": "code",
   "execution_count": 3,
   "metadata": {
    "execution": {
     "iopub.execute_input": "2021-01-13T12:25:52.907627Z",
     "iopub.status.busy": "2021-01-13T12:25:52.907086Z",
     "iopub.status.idle": "2021-01-13T12:25:52.909960Z",
     "shell.execute_reply": "2021-01-13T12:25:52.909457Z"
    },
    "papermill": {
     "duration": 0.036956,
     "end_time": "2021-01-13T12:25:52.910071",
     "exception": false,
     "start_time": "2021-01-13T12:25:52.873115",
     "status": "completed"
    },
    "tags": []
   },
   "outputs": [
    {
     "data": {
      "text/plain": [
       "'https://raw.githubusercontent.com/pratapvardhan/notebooks/master/covid19/mapping_countries.csv'"
      ]
     },
     "execution_count": 3,
     "metadata": {},
     "output_type": "execute_result"
    }
   ],
   "source": [
    "#hide\n",
    "paths['mapping']"
   ]
  },
  {
   "cell_type": "code",
   "execution_count": 4,
   "metadata": {
    "execution": {
     "iopub.execute_input": "2021-01-13T12:25:52.968823Z",
     "iopub.status.busy": "2021-01-13T12:25:52.967928Z",
     "iopub.status.idle": "2021-01-13T12:25:52.969765Z",
     "shell.execute_reply": "2021-01-13T12:25:52.970472Z"
    },
    "papermill": {
     "duration": 0.034201,
     "end_time": "2021-01-13T12:25:52.970713",
     "exception": false,
     "start_time": "2021-01-13T12:25:52.936512",
     "status": "completed"
    },
    "tags": []
   },
   "outputs": [],
   "source": [
    "#hide\n",
    "def get_mappings(url):\n",
    "    df = pd.read_csv(url)\n",
    "    return {\n",
    "        'df': df,\n",
    "        'replace.country': dict(df.dropna(subset=['Name']).set_index('Country')['Name']),\n",
    "        'map.continent': dict(df.set_index('Name')['Continent'])\n",
    "    }"
   ]
  },
  {
   "cell_type": "code",
   "execution_count": 5,
   "metadata": {
    "execution": {
     "iopub.execute_input": "2021-01-13T12:25:53.029917Z",
     "iopub.status.busy": "2021-01-13T12:25:53.029417Z",
     "iopub.status.idle": "2021-01-13T12:25:53.057268Z",
     "shell.execute_reply": "2021-01-13T12:25:53.056781Z"
    },
    "papermill": {
     "duration": 0.060045,
     "end_time": "2021-01-13T12:25:53.057375",
     "exception": false,
     "start_time": "2021-01-13T12:25:52.997330",
     "status": "completed"
    },
    "tags": []
   },
   "outputs": [],
   "source": [
    "#hide\n",
    "mapping = get_mappings(paths['mapping'])"
   ]
  },
  {
   "cell_type": "code",
   "execution_count": 6,
   "metadata": {
    "execution": {
     "iopub.execute_input": "2021-01-13T12:25:53.114935Z",
     "iopub.status.busy": "2021-01-13T12:25:53.114417Z",
     "iopub.status.idle": "2021-01-13T12:25:53.116953Z",
     "shell.execute_reply": "2021-01-13T12:25:53.116490Z"
    },
    "papermill": {
     "duration": 0.032137,
     "end_time": "2021-01-13T12:25:53.117094",
     "exception": false,
     "start_time": "2021-01-13T12:25:53.084957",
     "status": "completed"
    },
    "tags": []
   },
   "outputs": [],
   "source": [
    "#hide\n",
    "def get_template(path):\n",
    "    from urllib.parse import urlparse\n",
    "    if bool(urlparse(path).netloc):\n",
    "        from urllib.request import urlopen\n",
    "        return urlopen(path).read().decode('utf8')\n",
    "    return open(path).read()"
   ]
  },
  {
   "cell_type": "code",
   "execution_count": 7,
   "metadata": {
    "execution": {
     "iopub.execute_input": "2021-01-13T12:25:53.178281Z",
     "iopub.status.busy": "2021-01-13T12:25:53.177730Z",
     "iopub.status.idle": "2021-01-13T12:25:53.180200Z",
     "shell.execute_reply": "2021-01-13T12:25:53.180766Z"
    },
    "papermill": {
     "duration": 0.034426,
     "end_time": "2021-01-13T12:25:53.180904",
     "exception": false,
     "start_time": "2021-01-13T12:25:53.146478",
     "status": "completed"
    },
    "tags": []
   },
   "outputs": [],
   "source": [
    "#hide\n",
    "def get_frame(name):\n",
    "    url = (\n",
    "        'https://raw.githubusercontent.com/CSSEGISandData/COVID-19/master/csse_covid_19_data/'\n",
    "        f'csse_covid_19_time_series/time_series_covid19_{name}_global.csv')\n",
    "    df = pd.read_csv(url)\n",
    "    # rename countries\n",
    "    df['Country/Region'] = df['Country/Region'].replace(mapping['replace.country'])\n",
    "    return df"
   ]
  },
  {
   "cell_type": "code",
   "execution_count": 8,
   "metadata": {
    "execution": {
     "iopub.execute_input": "2021-01-13T12:25:53.237288Z",
     "iopub.status.busy": "2021-01-13T12:25:53.236872Z",
     "iopub.status.idle": "2021-01-13T12:25:53.238417Z",
     "shell.execute_reply": "2021-01-13T12:25:53.238753Z"
    },
    "papermill": {
     "duration": 0.033375,
     "end_time": "2021-01-13T12:25:53.238879",
     "exception": false,
     "start_time": "2021-01-13T12:25:53.205504",
     "status": "completed"
    },
    "tags": []
   },
   "outputs": [],
   "source": [
    "#hide\n",
    "def get_dates(df):\n",
    "    dt_cols = df.columns[~df.columns.isin(['Province/State', 'Country/Region', 'Lat', 'Long'])]\n",
    "    LAST_DATE_I = -1\n",
    "    # sometimes last column may be empty, then go backwards\n",
    "    for i in range(-1, -len(dt_cols), -1):\n",
    "        if not df[dt_cols[i]].fillna(0).eq(0).all():\n",
    "            LAST_DATE_I = i\n",
    "            break\n",
    "    return LAST_DATE_I, dt_cols"
   ]
  },
  {
   "cell_type": "code",
   "execution_count": 9,
   "metadata": {
    "execution": {
     "iopub.execute_input": "2021-01-13T12:25:53.295421Z",
     "iopub.status.busy": "2021-01-13T12:25:53.294425Z",
     "iopub.status.idle": "2021-01-13T12:25:53.502785Z",
     "shell.execute_reply": "2021-01-13T12:25:53.501863Z"
    },
    "papermill": {
     "duration": 0.240053,
     "end_time": "2021-01-13T12:25:53.503022",
     "exception": false,
     "start_time": "2021-01-13T12:25:53.262969",
     "status": "completed"
    },
    "tags": []
   },
   "outputs": [],
   "source": [
    "#hide\n",
    "COL_REGION = 'Country/Region'\n",
    "# Confirmed, Recovered, Deaths\n",
    "df = get_frame('confirmed')\n",
    "# dft_: timeseries, dfc_: today country agg\n",
    "dft_cases = df\n",
    "dft_deaths = get_frame('deaths')\n",
    "dft_recovered = get_frame('recovered')\n",
    "LAST_DATE_I, dt_cols = get_dates(df)"
   ]
  },
  {
   "cell_type": "code",
   "execution_count": 10,
   "metadata": {
    "execution": {
     "iopub.execute_input": "2021-01-13T12:25:53.563125Z",
     "iopub.status.busy": "2021-01-13T12:25:53.562526Z",
     "iopub.status.idle": "2021-01-13T12:25:53.564075Z",
     "shell.execute_reply": "2021-01-13T12:25:53.564477Z"
    },
    "papermill": {
     "duration": 0.032248,
     "end_time": "2021-01-13T12:25:53.564590",
     "exception": false,
     "start_time": "2021-01-13T12:25:53.532342",
     "status": "completed"
    },
    "tags": []
   },
   "outputs": [],
   "source": [
    "#hide\n",
    "LAST_DATE_I, dt_cols = get_dates(df)\n",
    "dt_today =dt_cols[LAST_DATE_I]\n",
    "# dt_5day = dt_cols[LAST_DATE_I - 5]\n",
    "dt_yday = dt_cols[LAST_DATE_I - 1]"
   ]
  },
  {
   "cell_type": "code",
   "execution_count": 11,
   "metadata": {
    "execution": {
     "iopub.execute_input": "2021-01-13T12:25:53.622582Z",
     "iopub.status.busy": "2021-01-13T12:25:53.620535Z",
     "iopub.status.idle": "2021-01-13T12:25:53.629229Z",
     "shell.execute_reply": "2021-01-13T12:25:53.628843Z"
    },
    "papermill": {
     "duration": 0.039445,
     "end_time": "2021-01-13T12:25:53.629332",
     "exception": false,
     "start_time": "2021-01-13T12:25:53.589887",
     "status": "completed"
    },
    "tags": []
   },
   "outputs": [],
   "source": [
    "#hide\n",
    "dfc_cases = dft_cases.groupby(COL_REGION)[dt_today].sum()\n",
    "dfc_deaths = dft_deaths.groupby(COL_REGION)[dt_today].sum()\n",
    "# dfp_cases = dft_cases.groupby(COL_REGION)[dt_5day].sum()\n",
    "# dfp_deaths = dft_deaths.groupby(COL_REGION)[dt_5day].sum()\n",
    "dfp_cases = dft_cases.groupby(COL_REGION)[dt_yday].sum()\n",
    "dfp_deaths = dft_deaths.groupby(COL_REGION)[dt_yday].sum()"
   ]
  },
  {
   "cell_type": "code",
   "execution_count": 12,
   "metadata": {
    "execution": {
     "iopub.execute_input": "2021-01-13T12:25:53.696468Z",
     "iopub.status.busy": "2021-01-13T12:25:53.695862Z",
     "iopub.status.idle": "2021-01-13T12:25:53.699539Z",
     "shell.execute_reply": "2021-01-13T12:25:53.700005Z"
    },
    "papermill": {
     "duration": 0.039849,
     "end_time": "2021-01-13T12:25:53.700122",
     "exception": false,
     "start_time": "2021-01-13T12:25:53.660273",
     "status": "completed"
    },
    "tags": []
   },
   "outputs": [],
   "source": [
    "#hide\n",
    "df_table = (pd.DataFrame(dict(Cases = dfc_cases, Deaths = dfc_deaths, PCases = dfp_cases, PDeaths = dfp_deaths))\n",
    "            .sort_values(by = ['Cases','Deaths'], ascending = [False, False])\n",
    "            .reset_index())"
   ]
  },
  {
   "cell_type": "code",
   "execution_count": 13,
   "metadata": {
    "execution": {
     "iopub.execute_input": "2021-01-13T12:25:53.772546Z",
     "iopub.status.busy": "2021-01-13T12:25:53.772061Z",
     "iopub.status.idle": "2021-01-13T12:25:53.779773Z",
     "shell.execute_reply": "2021-01-13T12:25:53.779275Z"
    },
    "papermill": {
     "duration": 0.053757,
     "end_time": "2021-01-13T12:25:53.779894",
     "exception": false,
     "start_time": "2021-01-13T12:25:53.726137",
     "status": "completed"
    },
    "tags": []
   },
   "outputs": [
    {
     "data": {
      "text/html": [
       "<div>\n",
       "<style scoped>\n",
       "    .dataframe tbody tr th:only-of-type {\n",
       "        vertical-align: middle;\n",
       "    }\n",
       "\n",
       "    .dataframe tbody tr th {\n",
       "        vertical-align: top;\n",
       "    }\n",
       "\n",
       "    .dataframe thead th {\n",
       "        text-align: right;\n",
       "    }\n",
       "</style>\n",
       "<table border=\"1\" class=\"dataframe\">\n",
       "  <thead>\n",
       "    <tr style=\"text-align: right;\">\n",
       "      <th></th>\n",
       "      <th>Country/Region</th>\n",
       "      <th>Cases</th>\n",
       "      <th>Deaths</th>\n",
       "      <th>PCases</th>\n",
       "      <th>PDeaths</th>\n",
       "      <th>Cases (+)</th>\n",
       "      <th>Deaths (+)</th>\n",
       "      <th>Fatality Rate</th>\n",
       "      <th>Continent</th>\n",
       "    </tr>\n",
       "  </thead>\n",
       "  <tbody>\n",
       "    <tr>\n",
       "      <th>0</th>\n",
       "      <td>US</td>\n",
       "      <td>22838110</td>\n",
       "      <td>380670</td>\n",
       "      <td>22622305</td>\n",
       "      <td>376343</td>\n",
       "      <td>215805</td>\n",
       "      <td>4327</td>\n",
       "      <td>1.67</td>\n",
       "      <td>North America</td>\n",
       "    </tr>\n",
       "    <tr>\n",
       "      <th>1</th>\n",
       "      <td>India</td>\n",
       "      <td>10495147</td>\n",
       "      <td>151529</td>\n",
       "      <td>10479179</td>\n",
       "      <td>151327</td>\n",
       "      <td>15968</td>\n",
       "      <td>202</td>\n",
       "      <td>1.44</td>\n",
       "      <td>Asia</td>\n",
       "    </tr>\n",
       "    <tr>\n",
       "      <th>2</th>\n",
       "      <td>Brazil</td>\n",
       "      <td>8195637</td>\n",
       "      <td>204690</td>\n",
       "      <td>8131612</td>\n",
       "      <td>203580</td>\n",
       "      <td>64025</td>\n",
       "      <td>1110</td>\n",
       "      <td>2.50</td>\n",
       "      <td>South America</td>\n",
       "    </tr>\n",
       "    <tr>\n",
       "      <th>3</th>\n",
       "      <td>Russia</td>\n",
       "      <td>3412390</td>\n",
       "      <td>61908</td>\n",
       "      <td>3389733</td>\n",
       "      <td>61389</td>\n",
       "      <td>22657</td>\n",
       "      <td>519</td>\n",
       "      <td>1.81</td>\n",
       "      <td>Europe</td>\n",
       "    </tr>\n",
       "    <tr>\n",
       "      <th>4</th>\n",
       "      <td>United Kingdom</td>\n",
       "      <td>3173291</td>\n",
       "      <td>83342</td>\n",
       "      <td>3127643</td>\n",
       "      <td>82096</td>\n",
       "      <td>45648</td>\n",
       "      <td>1246</td>\n",
       "      <td>2.63</td>\n",
       "      <td>Europe</td>\n",
       "    </tr>\n",
       "  </tbody>\n",
       "</table>\n",
       "</div>"
      ],
      "text/plain": [
       "   Country/Region     Cases  Deaths    PCases  PDeaths  Cases (+)  Deaths (+)  \\\n",
       "0              US  22838110  380670  22622305   376343     215805        4327   \n",
       "1           India  10495147  151529  10479179   151327      15968         202   \n",
       "2          Brazil   8195637  204690   8131612   203580      64025        1110   \n",
       "3          Russia   3412390   61908   3389733    61389      22657         519   \n",
       "4  United Kingdom   3173291   83342   3127643    82096      45648        1246   \n",
       "\n",
       "   Fatality Rate      Continent  \n",
       "0           1.67  North America  \n",
       "1           1.44           Asia  \n",
       "2           2.50  South America  \n",
       "3           1.81         Europe  \n",
       "4           2.63         Europe  "
      ]
     },
     "execution_count": 13,
     "metadata": {},
     "output_type": "execute_result"
    }
   ],
   "source": [
    "#hide\n",
    "for c in 'Cases, Deaths'.split(', '):\n",
    "    df_table[f'{c} (+)'] = (df_table[c] - df_table[f'P{c}']).clip(0)\n",
    "    #Clip ça veut dire, les chiffres negatif sont interdit\n",
    "df_table['Fatality Rate'] = (100* df_table['Deaths']/ df_table['Cases']).round(2)\n",
    "df_table['Continent'] = df_table['Country/Region'].map(mapping['map.continent'])\n",
    "df_table.head(5)"
   ]
  },
  {
   "cell_type": "code",
   "execution_count": 14,
   "metadata": {
    "execution": {
     "iopub.execute_input": "2021-01-13T12:25:53.836414Z",
     "iopub.status.busy": "2021-01-13T12:25:53.835725Z",
     "iopub.status.idle": "2021-01-13T12:25:53.837919Z",
     "shell.execute_reply": "2021-01-13T12:25:53.838379Z"
    },
    "papermill": {
     "duration": 0.032669,
     "end_time": "2021-01-13T12:25:53.838494",
     "exception": false,
     "start_time": "2021-01-13T12:25:53.805825",
     "status": "completed"
    },
    "tags": []
   },
   "outputs": [],
   "source": [
    "#hide\n",
    "#delete problematic countries from table\n",
    "df_table = df_table[~df_table['Country/Region'].isin(['Cape Verde', 'Cruise Ship', 'Kosovo'])]"
   ]
  },
  {
   "cell_type": "code",
   "execution_count": 15,
   "metadata": {
    "execution": {
     "iopub.execute_input": "2021-01-13T12:25:53.897102Z",
     "iopub.status.busy": "2021-01-13T12:25:53.896624Z",
     "iopub.status.idle": "2021-01-13T12:25:53.913999Z",
     "shell.execute_reply": "2021-01-13T12:25:53.913614Z"
    },
    "papermill": {
     "duration": 0.050494,
     "end_time": "2021-01-13T12:25:53.914131",
     "exception": false,
     "start_time": "2021-01-13T12:25:53.863637",
     "status": "completed"
    },
    "tags": []
   },
   "outputs": [
    {
     "data": {
      "text/html": [
       "<div>\n",
       "<style scoped>\n",
       "    .dataframe tbody tr th:only-of-type {\n",
       "        vertical-align: middle;\n",
       "    }\n",
       "\n",
       "    .dataframe tbody tr th {\n",
       "        vertical-align: top;\n",
       "    }\n",
       "\n",
       "    .dataframe thead th {\n",
       "        text-align: right;\n",
       "    }\n",
       "</style>\n",
       "<table border=\"1\" class=\"dataframe\">\n",
       "  <thead>\n",
       "    <tr style=\"text-align: right;\">\n",
       "      <th></th>\n",
       "      <th>Country/Region</th>\n",
       "      <th>Cases</th>\n",
       "      <th>Deaths</th>\n",
       "      <th>PCases</th>\n",
       "      <th>PDeaths</th>\n",
       "      <th>Cases (+)</th>\n",
       "      <th>Deaths (+)</th>\n",
       "      <th>Fatality Rate</th>\n",
       "      <th>Continent</th>\n",
       "    </tr>\n",
       "  </thead>\n",
       "  <tbody>\n",
       "    <tr>\n",
       "      <th>0</th>\n",
       "      <td>US</td>\n",
       "      <td>22838110</td>\n",
       "      <td>380670</td>\n",
       "      <td>22622305</td>\n",
       "      <td>376343</td>\n",
       "      <td>215805</td>\n",
       "      <td>4327</td>\n",
       "      <td>1.7</td>\n",
       "      <td>North America</td>\n",
       "    </tr>\n",
       "    <tr>\n",
       "      <th>1</th>\n",
       "      <td>India</td>\n",
       "      <td>10495147</td>\n",
       "      <td>151529</td>\n",
       "      <td>10479179</td>\n",
       "      <td>151327</td>\n",
       "      <td>15968</td>\n",
       "      <td>202</td>\n",
       "      <td>1.4</td>\n",
       "      <td>Asia</td>\n",
       "    </tr>\n",
       "    <tr>\n",
       "      <th>2</th>\n",
       "      <td>Brazil</td>\n",
       "      <td>8195637</td>\n",
       "      <td>204690</td>\n",
       "      <td>8131612</td>\n",
       "      <td>203580</td>\n",
       "      <td>64025</td>\n",
       "      <td>1110</td>\n",
       "      <td>2.5</td>\n",
       "      <td>South America</td>\n",
       "    </tr>\n",
       "    <tr>\n",
       "      <th>3</th>\n",
       "      <td>Russia</td>\n",
       "      <td>3412390</td>\n",
       "      <td>61908</td>\n",
       "      <td>3389733</td>\n",
       "      <td>61389</td>\n",
       "      <td>22657</td>\n",
       "      <td>519</td>\n",
       "      <td>1.8</td>\n",
       "      <td>Europe</td>\n",
       "    </tr>\n",
       "    <tr>\n",
       "      <th>4</th>\n",
       "      <td>United Kingdom</td>\n",
       "      <td>3173291</td>\n",
       "      <td>83342</td>\n",
       "      <td>3127643</td>\n",
       "      <td>82096</td>\n",
       "      <td>45648</td>\n",
       "      <td>1246</td>\n",
       "      <td>2.6</td>\n",
       "      <td>Europe</td>\n",
       "    </tr>\n",
       "  </tbody>\n",
       "</table>\n",
       "</div>"
      ],
      "text/plain": [
       "   Country/Region     Cases  Deaths    PCases  PDeaths  Cases (+)  Deaths (+)  \\\n",
       "0              US  22838110  380670  22622305   376343     215805        4327   \n",
       "1           India  10495147  151529  10479179   151327      15968         202   \n",
       "2          Brazil   8195637  204690   8131612   203580      64025        1110   \n",
       "3          Russia   3412390   61908   3389733    61389      22657         519   \n",
       "4  United Kingdom   3173291   83342   3127643    82096      45648        1246   \n",
       "\n",
       "   Fatality Rate      Continent  \n",
       "0            1.7  North America  \n",
       "1            1.4           Asia  \n",
       "2            2.5  South America  \n",
       "3            1.8         Europe  \n",
       "4            2.6         Europe  "
      ]
     },
     "execution_count": 15,
     "metadata": {},
     "output_type": "execute_result"
    }
   ],
   "source": [
    "#hide\n",
    "df_table = (pd.DataFrame(dict(Cases=dfc_cases, Deaths=dfc_deaths, PCases=dfp_cases, PDeaths=dfp_deaths))\n",
    "             .sort_values(by=['Cases', 'Deaths'], ascending=[False, False])\n",
    "             .reset_index())\n",
    "df_table.rename(columns={'index': 'Country/Region'}, inplace=True)\n",
    "for c in 'Cases, Deaths'.split(', '):\n",
    "    df_table[f'{c} (+)'] = (df_table[c] - df_table[f'P{c}']).clip(0)  # DATA BUG\n",
    "df_table['Fatality Rate'] = (100 * df_table['Deaths'] / df_table['Cases']).round(1)\n",
    "df_table['Continent'] = df_table['Country/Region'].map(mapping['map.continent'])\n",
    "df_table.head(5)"
   ]
  },
  {
   "cell_type": "code",
   "execution_count": 16,
   "metadata": {
    "execution": {
     "iopub.execute_input": "2021-01-13T12:25:53.974772Z",
     "iopub.status.busy": "2021-01-13T12:25:53.974280Z",
     "iopub.status.idle": "2021-01-13T12:25:53.976613Z",
     "shell.execute_reply": "2021-01-13T12:25:53.977279Z"
    },
    "papermill": {
     "duration": 0.037205,
     "end_time": "2021-01-13T12:25:53.977419",
     "exception": false,
     "start_time": "2021-01-13T12:25:53.940214",
     "status": "completed"
    },
    "tags": []
   },
   "outputs": [],
   "source": [
    "#hide\n",
    "#delete problematic countries from table\n",
    "df_table = df_table[~df_table['Country/Region'].isin(['Cape Verde', 'Cruise Ship', 'Kosovo'])]"
   ]
  },
  {
   "cell_type": "code",
   "execution_count": 17,
   "metadata": {
    "execution": {
     "iopub.execute_input": "2021-01-13T12:25:54.044343Z",
     "iopub.status.busy": "2021-01-13T12:25:54.043832Z",
     "iopub.status.idle": "2021-01-13T12:25:54.046229Z",
     "shell.execute_reply": "2021-01-13T12:25:54.045783Z"
    },
    "papermill": {
     "duration": 0.043559,
     "end_time": "2021-01-13T12:25:54.046343",
     "exception": false,
     "start_time": "2021-01-13T12:25:54.002784",
     "status": "completed"
    },
    "tags": []
   },
   "outputs": [],
   "source": [
    "#hide\n",
    "metrics = [df_table.columns[index] for index in [1,2,5,6]]\n",
    "# s_china = df_table[df_table['Country/Region'].eq('China')][metrics].sum().add_prefix('China ')\n",
    "s_us = df_table[df_table['Country/Region'].eq('US')][metrics].sum().add_prefix('US ')\n",
    "s_eu = df_table[df_table['Continent'].eq('Europe')][metrics].sum().add_prefix('EU ')\n",
    "s_ind = df_table[df_table['Country/Region'].eq('India')][metrics].sum().add_prefix('India ')\n",
    "summary = {'updated': pd.to_datetime(dt_today), 'since': pd.to_datetime(dt_yday)}\n",
    "summary = {'updated': pd.to_datetime(dt_today), 'since': pd.to_datetime(dt_yday)}\n",
    "summary = {**summary, **df_table[metrics].sum(), **s_ind, **s_us, **s_eu}"
   ]
  },
  {
   "cell_type": "code",
   "execution_count": 18,
   "metadata": {
    "execution": {
     "iopub.execute_input": "2021-01-13T12:25:54.103094Z",
     "iopub.status.busy": "2021-01-13T12:25:54.102445Z",
     "iopub.status.idle": "2021-01-13T12:25:54.112134Z",
     "shell.execute_reply": "2021-01-13T12:25:54.112548Z"
    },
    "papermill": {
     "duration": 0.040006,
     "end_time": "2021-01-13T12:25:54.112666",
     "exception": false,
     "start_time": "2021-01-13T12:25:54.072660",
     "status": "completed"
    },
    "tags": []
   },
   "outputs": [],
   "source": [
    "#hide\n",
    "dft_ct_new_cases = dft_cases.groupby(COL_REGION)[dt_cols].sum().diff(axis=1).fillna(0).astype(int)"
   ]
  },
  {
   "cell_type": "code",
   "execution_count": 19,
   "metadata": {
    "execution": {
     "iopub.execute_input": "2021-01-13T12:25:54.176296Z",
     "iopub.status.busy": "2021-01-13T12:25:54.175760Z",
     "iopub.status.idle": "2021-01-13T12:25:54.178514Z",
     "shell.execute_reply": "2021-01-13T12:25:54.179004Z"
    },
    "papermill": {
     "duration": 0.036646,
     "end_time": "2021-01-13T12:25:54.179122",
     "exception": false,
     "start_time": "2021-01-13T12:25:54.142476",
     "status": "completed"
    },
    "tags": []
   },
   "outputs": [],
   "source": [
    "#hide\n",
    "everydaycases = dft_ct_new_cases.cumsum(axis=1)"
   ]
  },
  {
   "cell_type": "code",
   "execution_count": 20,
   "metadata": {
    "execution": {
     "iopub.execute_input": "2021-01-13T12:25:54.237405Z",
     "iopub.status.busy": "2021-01-13T12:25:54.236109Z",
     "iopub.status.idle": "2021-01-13T12:25:55.197157Z",
     "shell.execute_reply": "2021-01-13T12:25:55.196666Z"
    },
    "papermill": {
     "duration": 0.991246,
     "end_time": "2021-01-13T12:25:55.197279",
     "exception": false,
     "start_time": "2021-01-13T12:25:54.206033",
     "status": "completed"
    },
    "tags": []
   },
   "outputs": [],
   "source": [
    "#hide\n",
    "import pandas as pd\n",
    "import matplotlib.pyplot as plt\n",
    "import matplotlib.ticker as ticker\n",
    "import matplotlib.animation as animation\n",
    "from IPython.display import HTML"
   ]
  },
  {
   "cell_type": "code",
   "execution_count": 21,
   "metadata": {
    "execution": {
     "iopub.execute_input": "2021-01-13T12:25:55.252411Z",
     "iopub.status.busy": "2021-01-13T12:25:55.251848Z",
     "iopub.status.idle": "2021-01-13T12:25:55.259381Z",
     "shell.execute_reply": "2021-01-13T12:25:55.257893Z"
    },
    "papermill": {
     "duration": 0.036668,
     "end_time": "2021-01-13T12:25:55.259537",
     "exception": false,
     "start_time": "2021-01-13T12:25:55.222869",
     "status": "completed"
    },
    "tags": []
   },
   "outputs": [],
   "source": [
    "#hide\n",
    "t = everydaycases.stack()"
   ]
  },
  {
   "cell_type": "code",
   "execution_count": 22,
   "metadata": {
    "execution": {
     "iopub.execute_input": "2021-01-13T12:25:55.315894Z",
     "iopub.status.busy": "2021-01-13T12:25:55.315341Z",
     "iopub.status.idle": "2021-01-13T12:25:55.324177Z",
     "shell.execute_reply": "2021-01-13T12:25:55.323823Z"
    },
    "papermill": {
     "duration": 0.039628,
     "end_time": "2021-01-13T12:25:55.324266",
     "exception": false,
     "start_time": "2021-01-13T12:25:55.284638",
     "status": "completed"
    },
    "tags": []
   },
   "outputs": [],
   "source": [
    "#hide\n",
    "g = t.reset_index(['Country/Region'])"
   ]
  },
  {
   "cell_type": "code",
   "execution_count": 23,
   "metadata": {
    "execution": {
     "iopub.execute_input": "2021-01-13T12:25:55.377652Z",
     "iopub.status.busy": "2021-01-13T12:25:55.377235Z",
     "iopub.status.idle": "2021-01-13T12:25:55.379692Z",
     "shell.execute_reply": "2021-01-13T12:25:55.380133Z"
    },
    "papermill": {
     "duration": 0.031992,
     "end_time": "2021-01-13T12:25:55.380263",
     "exception": false,
     "start_time": "2021-01-13T12:25:55.348271",
     "status": "completed"
    },
    "tags": []
   },
   "outputs": [],
   "source": [
    "#hide\n",
    "g.index.name = 'date'"
   ]
  },
  {
   "cell_type": "code",
   "execution_count": 24,
   "metadata": {
    "execution": {
     "iopub.execute_input": "2021-01-13T12:25:55.438096Z",
     "iopub.status.busy": "2021-01-13T12:25:55.437452Z",
     "iopub.status.idle": "2021-01-13T12:25:55.439918Z",
     "shell.execute_reply": "2021-01-13T12:25:55.440337Z"
    },
    "papermill": {
     "duration": 0.034816,
     "end_time": "2021-01-13T12:25:55.440463",
     "exception": false,
     "start_time": "2021-01-13T12:25:55.405647",
     "status": "completed"
    },
    "tags": []
   },
   "outputs": [],
   "source": [
    "# #hide\n",
    "# g = g.reset_index(['date'])"
   ]
  },
  {
   "cell_type": "code",
   "execution_count": 25,
   "metadata": {
    "execution": {
     "iopub.execute_input": "2021-01-13T12:25:55.501441Z",
     "iopub.status.busy": "2021-01-13T12:25:55.500841Z",
     "iopub.status.idle": "2021-01-13T12:25:55.503277Z",
     "shell.execute_reply": "2021-01-13T12:25:55.503741Z"
    },
    "papermill": {
     "duration": 0.034909,
     "end_time": "2021-01-13T12:25:55.503876",
     "exception": false,
     "start_time": "2021-01-13T12:25:55.468967",
     "status": "completed"
    },
    "tags": []
   },
   "outputs": [],
   "source": [
    "#hide\n",
    "# g.head()"
   ]
  },
  {
   "cell_type": "code",
   "execution_count": 26,
   "metadata": {
    "execution": {
     "iopub.execute_input": "2021-01-13T12:25:55.563234Z",
     "iopub.status.busy": "2021-01-13T12:25:55.562699Z",
     "iopub.status.idle": "2021-01-13T12:25:55.564940Z",
     "shell.execute_reply": "2021-01-13T12:25:55.565367Z"
    },
    "papermill": {
     "duration": 0.033816,
     "end_time": "2021-01-13T12:25:55.565503",
     "exception": false,
     "start_time": "2021-01-13T12:25:55.531687",
     "status": "completed"
    },
    "tags": []
   },
   "outputs": [],
   "source": [
    "#hide\n",
    "# g.columns = ['date','country','cases']"
   ]
  },
  {
   "cell_type": "code",
   "execution_count": 27,
   "metadata": {
    "execution": {
     "iopub.execute_input": "2021-01-13T12:25:55.625645Z",
     "iopub.status.busy": "2021-01-13T12:25:55.624615Z",
     "iopub.status.idle": "2021-01-13T12:25:55.626555Z",
     "shell.execute_reply": "2021-01-13T12:25:55.626958Z"
    },
    "papermill": {
     "duration": 0.033895,
     "end_time": "2021-01-13T12:25:55.627076",
     "exception": false,
     "start_time": "2021-01-13T12:25:55.593181",
     "status": "completed"
    },
    "tags": []
   },
   "outputs": [],
   "source": [
    "#hide\n",
    "# g['continent'] = g.country"
   ]
  },
  {
   "cell_type": "code",
   "execution_count": 28,
   "metadata": {
    "execution": {
     "iopub.execute_input": "2021-01-13T12:25:55.685521Z",
     "iopub.status.busy": "2021-01-13T12:25:55.684937Z",
     "iopub.status.idle": "2021-01-13T12:25:55.687298Z",
     "shell.execute_reply": "2021-01-13T12:25:55.687808Z"
    },
    "papermill": {
     "duration": 0.033498,
     "end_time": "2021-01-13T12:25:55.687940",
     "exception": false,
     "start_time": "2021-01-13T12:25:55.654442",
     "status": "completed"
    },
    "tags": []
   },
   "outputs": [],
   "source": [
    "#hide\n",
    "# cols = list(g.columns.values)"
   ]
  },
  {
   "cell_type": "code",
   "execution_count": 29,
   "metadata": {
    "execution": {
     "iopub.execute_input": "2021-01-13T12:25:55.746362Z",
     "iopub.status.busy": "2021-01-13T12:25:55.745321Z",
     "iopub.status.idle": "2021-01-13T12:25:55.747506Z",
     "shell.execute_reply": "2021-01-13T12:25:55.748321Z"
    },
    "papermill": {
     "duration": 0.03489,
     "end_time": "2021-01-13T12:25:55.748443",
     "exception": false,
     "start_time": "2021-01-13T12:25:55.713553",
     "status": "completed"
    },
    "tags": []
   },
   "outputs": [],
   "source": [
    "#hide\n",
    "# cols.insert(0, cols.pop())"
   ]
  },
  {
   "cell_type": "code",
   "execution_count": 30,
   "metadata": {
    "execution": {
     "iopub.execute_input": "2021-01-13T12:25:55.817450Z",
     "iopub.status.busy": "2021-01-13T12:25:55.816854Z",
     "iopub.status.idle": "2021-01-13T12:25:55.819187Z",
     "shell.execute_reply": "2021-01-13T12:25:55.819718Z"
    },
    "papermill": {
     "duration": 0.038101,
     "end_time": "2021-01-13T12:25:55.819856",
     "exception": false,
     "start_time": "2021-01-13T12:25:55.781755",
     "status": "completed"
    },
    "tags": []
   },
   "outputs": [],
   "source": [
    "#hide\n",
    "# g = g[cols]"
   ]
  },
  {
   "cell_type": "code",
   "execution_count": 31,
   "metadata": {
    "execution": {
     "iopub.execute_input": "2021-01-13T12:25:55.880348Z",
     "iopub.status.busy": "2021-01-13T12:25:55.879864Z",
     "iopub.status.idle": "2021-01-13T12:25:55.882216Z",
     "shell.execute_reply": "2021-01-13T12:25:55.881770Z"
    },
    "papermill": {
     "duration": 0.033561,
     "end_time": "2021-01-13T12:25:55.882337",
     "exception": false,
     "start_time": "2021-01-13T12:25:55.848776",
     "status": "completed"
    },
    "tags": []
   },
   "outputs": [],
   "source": [
    "#hide\n",
    "# g['continent'] = g['continent'].map(mapping['map.continent'])"
   ]
  },
  {
   "cell_type": "code",
   "execution_count": 32,
   "metadata": {
    "execution": {
     "iopub.execute_input": "2021-01-13T12:25:55.938938Z",
     "iopub.status.busy": "2021-01-13T12:25:55.938477Z",
     "iopub.status.idle": "2021-01-13T12:25:55.940795Z",
     "shell.execute_reply": "2021-01-13T12:25:55.941201Z"
    },
    "papermill": {
     "duration": 0.032471,
     "end_time": "2021-01-13T12:25:55.941329",
     "exception": false,
     "start_time": "2021-01-13T12:25:55.908858",
     "status": "completed"
    },
    "tags": []
   },
   "outputs": [],
   "source": [
    "#hide\n",
    "# g.head()"
   ]
  },
  {
   "cell_type": "code",
   "execution_count": 33,
   "metadata": {
    "execution": {
     "iopub.execute_input": "2021-01-13T12:25:55.997351Z",
     "iopub.status.busy": "2021-01-13T12:25:55.996801Z",
     "iopub.status.idle": "2021-01-13T12:25:55.999161Z",
     "shell.execute_reply": "2021-01-13T12:25:55.999560Z"
    },
    "papermill": {
     "duration": 0.031521,
     "end_time": "2021-01-13T12:25:55.999661",
     "exception": false,
     "start_time": "2021-01-13T12:25:55.968140",
     "status": "completed"
    },
    "tags": []
   },
   "outputs": [],
   "source": [
    "# hide\n",
    "# g['date'] = g['date'].astype('datetime64[ns]')"
   ]
  },
  {
   "cell_type": "code",
   "execution_count": 34,
   "metadata": {
    "execution": {
     "iopub.execute_input": "2021-01-13T12:25:56.055683Z",
     "iopub.status.busy": "2021-01-13T12:25:56.055095Z",
     "iopub.status.idle": "2021-01-13T12:25:56.058027Z",
     "shell.execute_reply": "2021-01-13T12:25:56.058585Z"
    },
    "papermill": {
     "duration": 0.034382,
     "end_time": "2021-01-13T12:25:56.058757",
     "exception": false,
     "start_time": "2021-01-13T12:25:56.024375",
     "status": "completed"
    },
    "tags": []
   },
   "outputs": [],
   "source": [
    "#hide\n",
    "# g['date'] = g.date.dt.dayofyear"
   ]
  },
  {
   "cell_type": "code",
   "execution_count": 35,
   "metadata": {
    "execution": {
     "iopub.execute_input": "2021-01-13T12:25:56.111770Z",
     "iopub.status.busy": "2021-01-13T12:25:56.111293Z",
     "iopub.status.idle": "2021-01-13T12:25:56.113823Z",
     "shell.execute_reply": "2021-01-13T12:25:56.113360Z"
    },
    "papermill": {
     "duration": 0.030256,
     "end_time": "2021-01-13T12:25:56.113935",
     "exception": false,
     "start_time": "2021-01-13T12:25:56.083679",
     "status": "completed"
    },
    "tags": []
   },
   "outputs": [],
   "source": [
    "#hide\n",
    "# g = g.rename(columns= {'continent':'group','country':'name','cases':'value'})"
   ]
  },
  {
   "cell_type": "code",
   "execution_count": 36,
   "metadata": {
    "execution": {
     "iopub.execute_input": "2021-01-13T12:25:56.168574Z",
     "iopub.status.busy": "2021-01-13T12:25:56.168088Z",
     "iopub.status.idle": "2021-01-13T12:25:56.170293Z",
     "shell.execute_reply": "2021-01-13T12:25:56.169798Z"
    },
    "papermill": {
     "duration": 0.031523,
     "end_time": "2021-01-13T12:25:56.170410",
     "exception": false,
     "start_time": "2021-01-13T12:25:56.138887",
     "status": "completed"
    },
    "tags": []
   },
   "outputs": [],
   "source": [
    "#hide\n",
    "# cols = ['name','group','day','value']"
   ]
  },
  {
   "cell_type": "code",
   "execution_count": 37,
   "metadata": {
    "execution": {
     "iopub.execute_input": "2021-01-13T12:25:56.227977Z",
     "iopub.status.busy": "2021-01-13T12:25:56.227386Z",
     "iopub.status.idle": "2021-01-13T12:25:56.229544Z",
     "shell.execute_reply": "2021-01-13T12:25:56.229993Z"
    },
    "papermill": {
     "duration": 0.032255,
     "end_time": "2021-01-13T12:25:56.230091",
     "exception": false,
     "start_time": "2021-01-13T12:25:56.197836",
     "status": "completed"
    },
    "tags": []
   },
   "outputs": [],
   "source": [
    "#hide\n",
    "# g.rename(columns= {'date':'day'},inplace = True)"
   ]
  },
  {
   "cell_type": "code",
   "execution_count": 38,
   "metadata": {
    "execution": {
     "iopub.execute_input": "2021-01-13T12:25:56.295565Z",
     "iopub.status.busy": "2021-01-13T12:25:56.294991Z",
     "iopub.status.idle": "2021-01-13T12:25:56.296900Z",
     "shell.execute_reply": "2021-01-13T12:25:56.297303Z"
    },
    "papermill": {
     "duration": 0.034381,
     "end_time": "2021-01-13T12:25:56.297417",
     "exception": false,
     "start_time": "2021-01-13T12:25:56.263036",
     "status": "completed"
    },
    "tags": []
   },
   "outputs": [],
   "source": [
    "#hide\n",
    "# g = g[cols]"
   ]
  },
  {
   "cell_type": "code",
   "execution_count": 39,
   "metadata": {
    "execution": {
     "iopub.execute_input": "2021-01-13T12:25:56.355489Z",
     "iopub.status.busy": "2021-01-13T12:25:56.354943Z",
     "iopub.status.idle": "2021-01-13T12:25:56.357219Z",
     "shell.execute_reply": "2021-01-13T12:25:56.357649Z"
    },
    "papermill": {
     "duration": 0.034074,
     "end_time": "2021-01-13T12:25:56.357794",
     "exception": false,
     "start_time": "2021-01-13T12:25:56.323720",
     "status": "completed"
    },
    "tags": []
   },
   "outputs": [],
   "source": [
    "# #hide\n",
    "# g = g[g.group.notna()]"
   ]
  },
  {
   "cell_type": "code",
   "execution_count": 40,
   "metadata": {
    "execution": {
     "iopub.execute_input": "2021-01-13T12:25:56.416672Z",
     "iopub.status.busy": "2021-01-13T12:25:56.416097Z",
     "iopub.status.idle": "2021-01-13T12:25:56.418335Z",
     "shell.execute_reply": "2021-01-13T12:25:56.417864Z"
    },
    "papermill": {
     "duration": 0.032945,
     "end_time": "2021-01-13T12:25:56.418448",
     "exception": false,
     "start_time": "2021-01-13T12:25:56.385503",
     "status": "completed"
    },
    "tags": []
   },
   "outputs": [],
   "source": [
    "# #hide\n",
    "# colors = dict(zip(\n",
    "#     [\"Oceania\", \"Europe\", \"Asia\", \"South America\", \"Middle East\", \"North America\", \"Africa\"],\n",
    "#     [\"#adb0ff\", \"#ffb3ff\", \"#90d595\", \"#e48381\", \"#aafbff\", \"#f7bb5f\", \"#eafb50\"]\n",
    "# ))\n",
    "# group_lk = g.set_index('name')['group'].to_dict()"
   ]
  },
  {
   "cell_type": "code",
   "execution_count": null,
   "metadata": {
    "papermill": {
     "duration": 0.028626,
     "end_time": "2021-01-13T12:25:56.473839",
     "exception": false,
     "start_time": "2021-01-13T12:25:56.445213",
     "status": "completed"
    },
    "tags": []
   },
   "outputs": [],
   "source": []
  },
  {
   "cell_type": "code",
   "execution_count": 41,
   "metadata": {
    "execution": {
     "iopub.execute_input": "2021-01-13T12:25:56.532386Z",
     "iopub.status.busy": "2021-01-13T12:25:56.531936Z",
     "iopub.status.idle": "2021-01-13T12:25:56.534284Z",
     "shell.execute_reply": "2021-01-13T12:25:56.534628Z"
    },
    "papermill": {
     "duration": 0.033143,
     "end_time": "2021-01-13T12:25:56.534736",
     "exception": false,
     "start_time": "2021-01-13T12:25:56.501593",
     "status": "completed"
    },
    "tags": []
   },
   "outputs": [],
   "source": [
    "# #hide\n",
    "# fig, ax = plt.subplots(figsize=(15, 8))\n",
    "\n",
    "# def draw_barchart(current_day):\n",
    "#     dff = g[g['day'].eq(current_day)].sort_values(by='value', ascending=True).tail(10)\n",
    "#     ax.clear()\n",
    "#     ax.barh(dff['name'], dff['value'], color=[colors[group_lk[x]] for x in dff['name']])\n",
    "#     dx = dff['value'].max() / 200\n",
    "    \n",
    "#     for i, (value, name) in enumerate(zip(dff['value'], dff['name'])):\n",
    "#         ax.text(value-dx, i,     name,           size=14, weight=600, ha='right', va='bottom')\n",
    "#         ax.text(value-dx, i-.25, group_lk[name], size=10, color='#444444', ha='right', va='baseline')\n",
    "#         ax.text(value+dx, i,     f'{value:,.0f}',  size=14, ha='left',  va='center')\n",
    "#     ax.text(1, 0.4, current_day, transform=ax.transAxes, color='#777777', size=46, ha='right', weight=800)\n",
    "#     ax.text(0, 1.06, 'Population (thousands)', transform=ax.transAxes, size=12, color='#777777')\n",
    "#     ax.xaxis.set_major_formatter(ticker.StrMethodFormatter('{x:,.0f}'))\n",
    "#     ax.xaxis.set_ticks_position('top')\n",
    "#     ax.tick_params(axis='x', colors='#777777', labelsize=12)\n",
    "#     ax.set_yticks([])\n",
    "#     ax.margins(0, 0.01)\n",
    "#     ax.grid(which='major', axis='x', linestyle='-')\n",
    "#     ax.set_axisbelow(True)\n",
    "    \n",
    "#     ax.text(0, 1.15, 'Coronavirus',\n",
    "#             transform=ax.transAxes, size=24, weight=600, ha='left', va='top')\n",
    "# #     ax.text(1, 0, 'by @pratapvardhan; credit @jburnmurdoch', transform=ax.transAxes, color='#777777', ha='right',\n",
    "# #             bbox=dict(facecolor='white', alpha=0.8, edgecolor='white'))\n",
    "#     plt.box(False)"
   ]
  },
  {
   "cell_type": "code",
   "execution_count": 42,
   "metadata": {
    "execution": {
     "iopub.execute_input": "2021-01-13T12:25:56.591938Z",
     "iopub.status.busy": "2021-01-13T12:25:56.591375Z",
     "iopub.status.idle": "2021-01-13T12:25:56.592828Z",
     "shell.execute_reply": "2021-01-13T12:25:56.592373Z"
    },
    "papermill": {
     "duration": 0.031623,
     "end_time": "2021-01-13T12:25:56.592936",
     "exception": false,
     "start_time": "2021-01-13T12:25:56.561313",
     "status": "completed"
    },
    "tags": []
   },
   "outputs": [],
   "source": [
    "# #hide_input\n",
    "# fig, ax = plt.subplots(figsize=(15, 8))\n",
    "# animator = animation.FuncAnimation(fig, draw_barchart, frames=range(g.day.values.min(), g.day.values.max()))\n",
    "# HTML(animator.to_jshtml())\n",
    "# # or use animator.to_html5_video() or animator.save() "
   ]
  },
  {
   "cell_type": "code",
   "execution_count": null,
   "metadata": {
    "papermill": {
     "duration": 0.025692,
     "end_time": "2021-01-13T12:25:56.645091",
     "exception": false,
     "start_time": "2021-01-13T12:25:56.619399",
     "status": "completed"
    },
    "tags": []
   },
   "outputs": [],
   "source": []
  },
  {
   "cell_type": "code",
   "execution_count": null,
   "metadata": {
    "papermill": {
     "duration": 0.027508,
     "end_time": "2021-01-13T12:25:56.699775",
     "exception": false,
     "start_time": "2021-01-13T12:25:56.672267",
     "status": "completed"
    },
    "tags": []
   },
   "outputs": [],
   "source": []
  },
  {
   "cell_type": "code",
   "execution_count": null,
   "metadata": {
    "papermill": {
     "duration": 0.026926,
     "end_time": "2021-01-13T12:25:56.753042",
     "exception": false,
     "start_time": "2021-01-13T12:25:56.726116",
     "status": "completed"
    },
    "tags": []
   },
   "outputs": [],
   "source": []
  }
 ],
 "metadata": {
  "kernelspec": {
   "display_name": "Python 3",
   "language": "python",
   "name": "python3"
  },
  "language_info": {
   "codemirror_mode": {
    "name": "ipython",
    "version": 3
   },
   "file_extension": ".py",
   "mimetype": "text/x-python",
   "name": "python",
   "nbconvert_exporter": "python",
   "pygments_lexer": "ipython3",
   "version": "3.6.12"
  },
  "papermill": {
   "duration": 5.942303,
   "end_time": "2021-01-13T12:25:57.088563",
   "environment_variables": {},
   "exception": null,
   "input_path": "2020-03-21-covid19exp.ipynb",
   "output_path": "2020-03-21-covid19exp.ipynb",
   "parameters": {},
   "start_time": "2021-01-13T12:25:51.146260",
   "version": "2.0.0"
  }
 },
 "nbformat": 4,
 "nbformat_minor": 4
}