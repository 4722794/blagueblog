{
 "cells": [
  {
   "cell_type": "markdown",
   "id": "muslim-click",
   "metadata": {
    "papermill": {
     "duration": 0.034466,
     "end_time": "2021-12-01T00:26:16.214897",
     "exception": false,
     "start_time": "2021-12-01T00:26:16.180431",
     "status": "completed"
    },
    "tags": []
   },
   "source": [
    "# COVID-19 Case Race\n",
    "> A race chart to see rising cases around the world\n",
    "\n",
    "- author: Hargun Oberoi\n",
    "- image: images/covid-overview.png\n",
    "- hide: false\n",
    "- badges: false"
   ]
  },
  {
   "cell_type": "code",
   "execution_count": 1,
   "id": "proof-material",
   "metadata": {
    "execution": {
     "iopub.execute_input": "2021-12-01T00:26:16.286998Z",
     "iopub.status.busy": "2021-12-01T00:26:16.286400Z",
     "iopub.status.idle": "2021-12-01T00:26:16.611342Z",
     "shell.execute_reply": "2021-12-01T00:26:16.610838Z"
    },
    "papermill": {
     "duration": 0.365259,
     "end_time": "2021-12-01T00:26:16.611487",
     "exception": false,
     "start_time": "2021-12-01T00:26:16.246228",
     "status": "completed"
    },
    "tags": []
   },
   "outputs": [],
   "source": [
    "#hide\n",
    "import numpy as np\n",
    "import pandas as pd\n",
    "from jinja2 import Template\n",
    "from IPython.display import HTML"
   ]
  },
  {
   "cell_type": "code",
   "execution_count": 2,
   "id": "developed-terminology",
   "metadata": {
    "execution": {
     "iopub.execute_input": "2021-12-01T00:26:16.678781Z",
     "iopub.status.busy": "2021-12-01T00:26:16.678200Z",
     "iopub.status.idle": "2021-12-01T00:26:16.680466Z",
     "shell.execute_reply": "2021-12-01T00:26:16.679987Z"
    },
    "papermill": {
     "duration": 0.038099,
     "end_time": "2021-12-01T00:26:16.680579",
     "exception": false,
     "start_time": "2021-12-01T00:26:16.642480",
     "status": "completed"
    },
    "tags": []
   },
   "outputs": [],
   "source": [
    "#hide\n",
    "\n",
    "# FETCH\n",
    "base_url = 'https://raw.githubusercontent.com/pratapvardhan/notebooks/master/covid19/'\n",
    "paths = {\n",
    "    'mapping': base_url + 'mapping_countries.csv',\n",
    "    'overview': base_url + 'overview.tpl'\n",
    "}"
   ]
  },
  {
   "cell_type": "code",
   "execution_count": 3,
   "id": "dynamic-saver",
   "metadata": {
    "execution": {
     "iopub.execute_input": "2021-12-01T00:26:16.751407Z",
     "iopub.status.busy": "2021-12-01T00:26:16.749929Z",
     "iopub.status.idle": "2021-12-01T00:26:16.754435Z",
     "shell.execute_reply": "2021-12-01T00:26:16.753979Z"
    },
    "papermill": {
     "duration": 0.042814,
     "end_time": "2021-12-01T00:26:16.754538",
     "exception": false,
     "start_time": "2021-12-01T00:26:16.711724",
     "status": "completed"
    },
    "tags": []
   },
   "outputs": [
    {
     "data": {
      "text/plain": [
       "'https://raw.githubusercontent.com/pratapvardhan/notebooks/master/covid19/mapping_countries.csv'"
      ]
     },
     "execution_count": 3,
     "metadata": {},
     "output_type": "execute_result"
    }
   ],
   "source": [
    "#hide\n",
    "paths['mapping']"
   ]
  },
  {
   "cell_type": "code",
   "execution_count": 4,
   "id": "urban-software",
   "metadata": {
    "execution": {
     "iopub.execute_input": "2021-12-01T00:26:16.821959Z",
     "iopub.status.busy": "2021-12-01T00:26:16.821408Z",
     "iopub.status.idle": "2021-12-01T00:26:16.823983Z",
     "shell.execute_reply": "2021-12-01T00:26:16.823513Z"
    },
    "papermill": {
     "duration": 0.038411,
     "end_time": "2021-12-01T00:26:16.824094",
     "exception": false,
     "start_time": "2021-12-01T00:26:16.785683",
     "status": "completed"
    },
    "tags": []
   },
   "outputs": [],
   "source": [
    "#hide\n",
    "def get_mappings(url):\n",
    "    df = pd.read_csv(url)\n",
    "    return {\n",
    "        'df': df,\n",
    "        'replace.country': dict(df.dropna(subset=['Name']).set_index('Country')['Name']),\n",
    "        'map.continent': dict(df.set_index('Name')['Continent'])\n",
    "    }"
   ]
  },
  {
   "cell_type": "code",
   "execution_count": 5,
   "id": "intimate-machinery",
   "metadata": {
    "execution": {
     "iopub.execute_input": "2021-12-01T00:26:16.890399Z",
     "iopub.status.busy": "2021-12-01T00:26:16.889838Z",
     "iopub.status.idle": "2021-12-01T00:26:16.927166Z",
     "shell.execute_reply": "2021-12-01T00:26:16.927704Z"
    },
    "papermill": {
     "duration": 0.072931,
     "end_time": "2021-12-01T00:26:16.927843",
     "exception": false,
     "start_time": "2021-12-01T00:26:16.854912",
     "status": "completed"
    },
    "tags": []
   },
   "outputs": [],
   "source": [
    "#hide\n",
    "mapping = get_mappings(paths['mapping'])"
   ]
  },
  {
   "cell_type": "code",
   "execution_count": 6,
   "id": "certified-tactics",
   "metadata": {
    "execution": {
     "iopub.execute_input": "2021-12-01T00:26:16.995494Z",
     "iopub.status.busy": "2021-12-01T00:26:16.994939Z",
     "iopub.status.idle": "2021-12-01T00:26:16.997259Z",
     "shell.execute_reply": "2021-12-01T00:26:16.996821Z"
    },
    "papermill": {
     "duration": 0.038574,
     "end_time": "2021-12-01T00:26:16.997369",
     "exception": false,
     "start_time": "2021-12-01T00:26:16.958795",
     "status": "completed"
    },
    "tags": []
   },
   "outputs": [],
   "source": [
    "#hide\n",
    "def get_template(path):\n",
    "    from urllib.parse import urlparse\n",
    "    if bool(urlparse(path).netloc):\n",
    "        from urllib.request import urlopen\n",
    "        return urlopen(path).read().decode('utf8')\n",
    "    return open(path).read()"
   ]
  },
  {
   "cell_type": "code",
   "execution_count": 7,
   "id": "realistic-blast",
   "metadata": {
    "execution": {
     "iopub.execute_input": "2021-12-01T00:26:17.068248Z",
     "iopub.status.busy": "2021-12-01T00:26:17.067612Z",
     "iopub.status.idle": "2021-12-01T00:26:17.069988Z",
     "shell.execute_reply": "2021-12-01T00:26:17.069512Z"
    },
    "papermill": {
     "duration": 0.041888,
     "end_time": "2021-12-01T00:26:17.070097",
     "exception": false,
     "start_time": "2021-12-01T00:26:17.028209",
     "status": "completed"
    },
    "tags": []
   },
   "outputs": [],
   "source": [
    "#hide\n",
    "def get_frame(name):\n",
    "    url = (\n",
    "        'https://raw.githubusercontent.com/CSSEGISandData/COVID-19/master/csse_covid_19_data/'\n",
    "        f'csse_covid_19_time_series/time_series_covid19_{name}_global.csv')\n",
    "    df = pd.read_csv(url)\n",
    "    # rename countries\n",
    "    df['Country/Region'] = df['Country/Region'].replace(mapping['replace.country'])\n",
    "    return df"
   ]
  },
  {
   "cell_type": "code",
   "execution_count": 8,
   "id": "affiliated-characterization",
   "metadata": {
    "execution": {
     "iopub.execute_input": "2021-12-01T00:26:17.136068Z",
     "iopub.status.busy": "2021-12-01T00:26:17.135518Z",
     "iopub.status.idle": "2021-12-01T00:26:17.137465Z",
     "shell.execute_reply": "2021-12-01T00:26:17.137864Z"
    },
    "papermill": {
     "duration": 0.037655,
     "end_time": "2021-12-01T00:26:17.137978",
     "exception": false,
     "start_time": "2021-12-01T00:26:17.100323",
     "status": "completed"
    },
    "tags": []
   },
   "outputs": [],
   "source": [
    "#hide\n",
    "def get_dates(df):\n",
    "    dt_cols = df.columns[~df.columns.isin(['Province/State', 'Country/Region', 'Lat', 'Long'])]\n",
    "    LAST_DATE_I = -1\n",
    "    # sometimes last column may be empty, then go backwards\n",
    "    for i in range(-1, -len(dt_cols), -1):\n",
    "        if not df[dt_cols[i]].fillna(0).eq(0).all():\n",
    "            LAST_DATE_I = i\n",
    "            break\n",
    "    return LAST_DATE_I, dt_cols"
   ]
  },
  {
   "cell_type": "code",
   "execution_count": 9,
   "id": "recent-optimization",
   "metadata": {
    "execution": {
     "iopub.execute_input": "2021-12-01T00:26:17.201267Z",
     "iopub.status.busy": "2021-12-01T00:26:17.200643Z",
     "iopub.status.idle": "2021-12-01T00:26:17.581183Z",
     "shell.execute_reply": "2021-12-01T00:26:17.580696Z"
    },
    "papermill": {
     "duration": 0.413715,
     "end_time": "2021-12-01T00:26:17.581304",
     "exception": false,
     "start_time": "2021-12-01T00:26:17.167589",
     "status": "completed"
    },
    "tags": []
   },
   "outputs": [],
   "source": [
    "#hide\n",
    "COL_REGION = 'Country/Region'\n",
    "# Confirmed, Recovered, Deaths\n",
    "df = get_frame('confirmed')\n",
    "# dft_: timeseries, dfc_: today country agg\n",
    "dft_cases = df\n",
    "dft_deaths = get_frame('deaths')\n",
    "dft_recovered = get_frame('recovered')\n",
    "LAST_DATE_I, dt_cols = get_dates(df)"
   ]
  },
  {
   "cell_type": "code",
   "execution_count": 10,
   "id": "absolute-copper",
   "metadata": {
    "execution": {
     "iopub.execute_input": "2021-12-01T00:26:17.647137Z",
     "iopub.status.busy": "2021-12-01T00:26:17.646596Z",
     "iopub.status.idle": "2021-12-01T00:26:17.648835Z",
     "shell.execute_reply": "2021-12-01T00:26:17.649245Z"
    },
    "papermill": {
     "duration": 0.03778,
     "end_time": "2021-12-01T00:26:17.649363",
     "exception": false,
     "start_time": "2021-12-01T00:26:17.611583",
     "status": "completed"
    },
    "tags": []
   },
   "outputs": [],
   "source": [
    "#hide\n",
    "LAST_DATE_I, dt_cols = get_dates(df)\n",
    "dt_today =dt_cols[LAST_DATE_I]\n",
    "# dt_5day = dt_cols[LAST_DATE_I - 5]\n",
    "dt_yday = dt_cols[LAST_DATE_I - 1]"
   ]
  },
  {
   "cell_type": "code",
   "execution_count": 11,
   "id": "restricted-sheriff",
   "metadata": {
    "execution": {
     "iopub.execute_input": "2021-12-01T00:26:17.714564Z",
     "iopub.status.busy": "2021-12-01T00:26:17.714029Z",
     "iopub.status.idle": "2021-12-01T00:26:17.723144Z",
     "shell.execute_reply": "2021-12-01T00:26:17.722691Z"
    },
    "papermill": {
     "duration": 0.044229,
     "end_time": "2021-12-01T00:26:17.723247",
     "exception": false,
     "start_time": "2021-12-01T00:26:17.679018",
     "status": "completed"
    },
    "tags": []
   },
   "outputs": [],
   "source": [
    "#hide\n",
    "dfc_cases = dft_cases.groupby(COL_REGION)[dt_today].sum()\n",
    "dfc_deaths = dft_deaths.groupby(COL_REGION)[dt_today].sum()\n",
    "# dfp_cases = dft_cases.groupby(COL_REGION)[dt_5day].sum()\n",
    "# dfp_deaths = dft_deaths.groupby(COL_REGION)[dt_5day].sum()\n",
    "dfp_cases = dft_cases.groupby(COL_REGION)[dt_yday].sum()\n",
    "dfp_deaths = dft_deaths.groupby(COL_REGION)[dt_yday].sum()"
   ]
  },
  {
   "cell_type": "code",
   "execution_count": 12,
   "id": "deluxe-hepatitis",
   "metadata": {
    "execution": {
     "iopub.execute_input": "2021-12-01T00:26:17.786936Z",
     "iopub.status.busy": "2021-12-01T00:26:17.786390Z",
     "iopub.status.idle": "2021-12-01T00:26:17.792050Z",
     "shell.execute_reply": "2021-12-01T00:26:17.791557Z"
    },
    "papermill": {
     "duration": 0.039334,
     "end_time": "2021-12-01T00:26:17.792154",
     "exception": false,
     "start_time": "2021-12-01T00:26:17.752820",
     "status": "completed"
    },
    "tags": []
   },
   "outputs": [],
   "source": [
    "#hide\n",
    "df_table = (pd.DataFrame(dict(Cases = dfc_cases, Deaths = dfc_deaths, PCases = dfp_cases, PDeaths = dfp_deaths))\n",
    "            .sort_values(by = ['Cases','Deaths'], ascending = [False, False])\n",
    "            .reset_index())"
   ]
  },
  {
   "cell_type": "code",
   "execution_count": 13,
   "id": "educational-chancellor",
   "metadata": {
    "execution": {
     "iopub.execute_input": "2021-12-01T00:26:17.868054Z",
     "iopub.status.busy": "2021-12-01T00:26:17.867484Z",
     "iopub.status.idle": "2021-12-01T00:26:17.876243Z",
     "shell.execute_reply": "2021-12-01T00:26:17.875787Z"
    },
    "papermill": {
     "duration": 0.054601,
     "end_time": "2021-12-01T00:26:17.876349",
     "exception": false,
     "start_time": "2021-12-01T00:26:17.821748",
     "status": "completed"
    },
    "tags": []
   },
   "outputs": [
    {
     "data": {
      "text/html": [
       "<div>\n",
       "<style scoped>\n",
       "    .dataframe tbody tr th:only-of-type {\n",
       "        vertical-align: middle;\n",
       "    }\n",
       "\n",
       "    .dataframe tbody tr th {\n",
       "        vertical-align: top;\n",
       "    }\n",
       "\n",
       "    .dataframe thead th {\n",
       "        text-align: right;\n",
       "    }\n",
       "</style>\n",
       "<table border=\"1\" class=\"dataframe\">\n",
       "  <thead>\n",
       "    <tr style=\"text-align: right;\">\n",
       "      <th></th>\n",
       "      <th>Country/Region</th>\n",
       "      <th>Cases</th>\n",
       "      <th>Deaths</th>\n",
       "      <th>PCases</th>\n",
       "      <th>PDeaths</th>\n",
       "      <th>Cases (+)</th>\n",
       "      <th>Deaths (+)</th>\n",
       "      <th>Fatality Rate</th>\n",
       "      <th>Continent</th>\n",
       "    </tr>\n",
       "  </thead>\n",
       "  <tbody>\n",
       "    <tr>\n",
       "      <th>0</th>\n",
       "      <td>US</td>\n",
       "      <td>48438302</td>\n",
       "      <td>778601</td>\n",
       "      <td>48229210</td>\n",
       "      <td>776639</td>\n",
       "      <td>209092</td>\n",
       "      <td>1962</td>\n",
       "      <td>1.61</td>\n",
       "      <td>North America</td>\n",
       "    </tr>\n",
       "    <tr>\n",
       "      <th>1</th>\n",
       "      <td>India</td>\n",
       "      <td>34587822</td>\n",
       "      <td>468980</td>\n",
       "      <td>34580832</td>\n",
       "      <td>468790</td>\n",
       "      <td>6990</td>\n",
       "      <td>190</td>\n",
       "      <td>1.36</td>\n",
       "      <td>Asia</td>\n",
       "    </tr>\n",
       "    <tr>\n",
       "      <th>2</th>\n",
       "      <td>Brazil</td>\n",
       "      <td>22084749</td>\n",
       "      <td>614376</td>\n",
       "      <td>22080906</td>\n",
       "      <td>614278</td>\n",
       "      <td>3843</td>\n",
       "      <td>98</td>\n",
       "      <td>2.78</td>\n",
       "      <td>South America</td>\n",
       "    </tr>\n",
       "    <tr>\n",
       "      <th>3</th>\n",
       "      <td>United Kingdom</td>\n",
       "      <td>10245244</td>\n",
       "      <td>145253</td>\n",
       "      <td>10202370</td>\n",
       "      <td>145218</td>\n",
       "      <td>42874</td>\n",
       "      <td>35</td>\n",
       "      <td>1.42</td>\n",
       "      <td>Europe</td>\n",
       "    </tr>\n",
       "    <tr>\n",
       "      <th>4</th>\n",
       "      <td>Russia</td>\n",
       "      <td>9436650</td>\n",
       "      <td>268705</td>\n",
       "      <td>9403480</td>\n",
       "      <td>267527</td>\n",
       "      <td>33170</td>\n",
       "      <td>1178</td>\n",
       "      <td>2.85</td>\n",
       "      <td>Europe</td>\n",
       "    </tr>\n",
       "  </tbody>\n",
       "</table>\n",
       "</div>"
      ],
      "text/plain": [
       "   Country/Region     Cases  Deaths    PCases  PDeaths  Cases (+)  Deaths (+)  \\\n",
       "0              US  48438302  778601  48229210   776639     209092        1962   \n",
       "1           India  34587822  468980  34580832   468790       6990         190   \n",
       "2          Brazil  22084749  614376  22080906   614278       3843          98   \n",
       "3  United Kingdom  10245244  145253  10202370   145218      42874          35   \n",
       "4          Russia   9436650  268705   9403480   267527      33170        1178   \n",
       "\n",
       "   Fatality Rate      Continent  \n",
       "0           1.61  North America  \n",
       "1           1.36           Asia  \n",
       "2           2.78  South America  \n",
       "3           1.42         Europe  \n",
       "4           2.85         Europe  "
      ]
     },
     "execution_count": 13,
     "metadata": {},
     "output_type": "execute_result"
    }
   ],
   "source": [
    "#hide\n",
    "for c in 'Cases, Deaths'.split(', '):\n",
    "    df_table[f'{c} (+)'] = (df_table[c] - df_table[f'P{c}']).clip(0)\n",
    "    #Clip ça veut dire, les chiffres negatif sont interdit\n",
    "df_table['Fatality Rate'] = (100* df_table['Deaths']/ df_table['Cases']).round(2)\n",
    "df_table['Continent'] = df_table['Country/Region'].map(mapping['map.continent'])\n",
    "df_table.head(5)"
   ]
  },
  {
   "cell_type": "code",
   "execution_count": 14,
   "id": "aboriginal-bulgaria",
   "metadata": {
    "execution": {
     "iopub.execute_input": "2021-12-01T00:26:17.940997Z",
     "iopub.status.busy": "2021-12-01T00:26:17.940459Z",
     "iopub.status.idle": "2021-12-01T00:26:17.943487Z",
     "shell.execute_reply": "2021-12-01T00:26:17.943962Z"
    },
    "papermill": {
     "duration": 0.037805,
     "end_time": "2021-12-01T00:26:17.944076",
     "exception": false,
     "start_time": "2021-12-01T00:26:17.906271",
     "status": "completed"
    },
    "tags": []
   },
   "outputs": [],
   "source": [
    "#hide\n",
    "#delete problematic countries from table\n",
    "df_table = df_table[~df_table['Country/Region'].isin(['Cape Verde', 'Cruise Ship', 'Kosovo'])]"
   ]
  },
  {
   "cell_type": "code",
   "execution_count": 15,
   "id": "fantastic-effect",
   "metadata": {
    "execution": {
     "iopub.execute_input": "2021-12-01T00:26:18.010402Z",
     "iopub.status.busy": "2021-12-01T00:26:18.009656Z",
     "iopub.status.idle": "2021-12-01T00:26:18.029089Z",
     "shell.execute_reply": "2021-12-01T00:26:18.029535Z"
    },
    "papermill": {
     "duration": 0.055935,
     "end_time": "2021-12-01T00:26:18.029648",
     "exception": false,
     "start_time": "2021-12-01T00:26:17.973713",
     "status": "completed"
    },
    "tags": []
   },
   "outputs": [
    {
     "data": {
      "text/html": [
       "<div>\n",
       "<style scoped>\n",
       "    .dataframe tbody tr th:only-of-type {\n",
       "        vertical-align: middle;\n",
       "    }\n",
       "\n",
       "    .dataframe tbody tr th {\n",
       "        vertical-align: top;\n",
       "    }\n",
       "\n",
       "    .dataframe thead th {\n",
       "        text-align: right;\n",
       "    }\n",
       "</style>\n",
       "<table border=\"1\" class=\"dataframe\">\n",
       "  <thead>\n",
       "    <tr style=\"text-align: right;\">\n",
       "      <th></th>\n",
       "      <th>Country/Region</th>\n",
       "      <th>Cases</th>\n",
       "      <th>Deaths</th>\n",
       "      <th>PCases</th>\n",
       "      <th>PDeaths</th>\n",
       "      <th>Cases (+)</th>\n",
       "      <th>Deaths (+)</th>\n",
       "      <th>Fatality Rate</th>\n",
       "      <th>Continent</th>\n",
       "    </tr>\n",
       "  </thead>\n",
       "  <tbody>\n",
       "    <tr>\n",
       "      <th>0</th>\n",
       "      <td>US</td>\n",
       "      <td>48438302</td>\n",
       "      <td>778601</td>\n",
       "      <td>48229210</td>\n",
       "      <td>776639</td>\n",
       "      <td>209092</td>\n",
       "      <td>1962</td>\n",
       "      <td>1.6</td>\n",
       "      <td>North America</td>\n",
       "    </tr>\n",
       "    <tr>\n",
       "      <th>1</th>\n",
       "      <td>India</td>\n",
       "      <td>34587822</td>\n",
       "      <td>468980</td>\n",
       "      <td>34580832</td>\n",
       "      <td>468790</td>\n",
       "      <td>6990</td>\n",
       "      <td>190</td>\n",
       "      <td>1.4</td>\n",
       "      <td>Asia</td>\n",
       "    </tr>\n",
       "    <tr>\n",
       "      <th>2</th>\n",
       "      <td>Brazil</td>\n",
       "      <td>22084749</td>\n",
       "      <td>614376</td>\n",
       "      <td>22080906</td>\n",
       "      <td>614278</td>\n",
       "      <td>3843</td>\n",
       "      <td>98</td>\n",
       "      <td>2.8</td>\n",
       "      <td>South America</td>\n",
       "    </tr>\n",
       "    <tr>\n",
       "      <th>3</th>\n",
       "      <td>United Kingdom</td>\n",
       "      <td>10245244</td>\n",
       "      <td>145253</td>\n",
       "      <td>10202370</td>\n",
       "      <td>145218</td>\n",
       "      <td>42874</td>\n",
       "      <td>35</td>\n",
       "      <td>1.4</td>\n",
       "      <td>Europe</td>\n",
       "    </tr>\n",
       "    <tr>\n",
       "      <th>4</th>\n",
       "      <td>Russia</td>\n",
       "      <td>9436650</td>\n",
       "      <td>268705</td>\n",
       "      <td>9403480</td>\n",
       "      <td>267527</td>\n",
       "      <td>33170</td>\n",
       "      <td>1178</td>\n",
       "      <td>2.8</td>\n",
       "      <td>Europe</td>\n",
       "    </tr>\n",
       "  </tbody>\n",
       "</table>\n",
       "</div>"
      ],
      "text/plain": [
       "   Country/Region     Cases  Deaths    PCases  PDeaths  Cases (+)  Deaths (+)  \\\n",
       "0              US  48438302  778601  48229210   776639     209092        1962   \n",
       "1           India  34587822  468980  34580832   468790       6990         190   \n",
       "2          Brazil  22084749  614376  22080906   614278       3843          98   \n",
       "3  United Kingdom  10245244  145253  10202370   145218      42874          35   \n",
       "4          Russia   9436650  268705   9403480   267527      33170        1178   \n",
       "\n",
       "   Fatality Rate      Continent  \n",
       "0            1.6  North America  \n",
       "1            1.4           Asia  \n",
       "2            2.8  South America  \n",
       "3            1.4         Europe  \n",
       "4            2.8         Europe  "
      ]
     },
     "execution_count": 15,
     "metadata": {},
     "output_type": "execute_result"
    }
   ],
   "source": [
    "#hide\n",
    "df_table = (pd.DataFrame(dict(Cases=dfc_cases, Deaths=dfc_deaths, PCases=dfp_cases, PDeaths=dfp_deaths))\n",
    "             .sort_values(by=['Cases', 'Deaths'], ascending=[False, False])\n",
    "             .reset_index())\n",
    "df_table.rename(columns={'index': 'Country/Region'}, inplace=True)\n",
    "for c in 'Cases, Deaths'.split(', '):\n",
    "    df_table[f'{c} (+)'] = (df_table[c] - df_table[f'P{c}']).clip(0)  # DATA BUG\n",
    "df_table['Fatality Rate'] = (100 * df_table['Deaths'] / df_table['Cases']).round(1)\n",
    "df_table['Continent'] = df_table['Country/Region'].map(mapping['map.continent'])\n",
    "df_table.head(5)"
   ]
  },
  {
   "cell_type": "code",
   "execution_count": 16,
   "id": "fewer-occasion",
   "metadata": {
    "execution": {
     "iopub.execute_input": "2021-12-01T00:26:18.100289Z",
     "iopub.status.busy": "2021-12-01T00:26:18.099746Z",
     "iopub.status.idle": "2021-12-01T00:26:18.102597Z",
     "shell.execute_reply": "2021-12-01T00:26:18.103135Z"
    },
    "papermill": {
     "duration": 0.040161,
     "end_time": "2021-12-01T00:26:18.103251",
     "exception": false,
     "start_time": "2021-12-01T00:26:18.063090",
     "status": "completed"
    },
    "tags": []
   },
   "outputs": [],
   "source": [
    "#hide\n",
    "#delete problematic countries from table\n",
    "df_table = df_table[~df_table['Country/Region'].isin(['Cape Verde', 'Cruise Ship', 'Kosovo'])]"
   ]
  },
  {
   "cell_type": "code",
   "execution_count": 17,
   "id": "related-center",
   "metadata": {
    "execution": {
     "iopub.execute_input": "2021-12-01T00:26:18.184217Z",
     "iopub.status.busy": "2021-12-01T00:26:18.166705Z",
     "iopub.status.idle": "2021-12-01T00:26:18.186747Z",
     "shell.execute_reply": "2021-12-01T00:26:18.186274Z"
    },
    "papermill": {
     "duration": 0.053539,
     "end_time": "2021-12-01T00:26:18.186856",
     "exception": false,
     "start_time": "2021-12-01T00:26:18.133317",
     "status": "completed"
    },
    "tags": []
   },
   "outputs": [],
   "source": [
    "#hide\n",
    "metrics = [df_table.columns[index] for index in [1,2,5,6]]\n",
    "# s_china = df_table[df_table['Country/Region'].eq('China')][metrics].sum().add_prefix('China ')\n",
    "s_us = df_table[df_table['Country/Region'].eq('US')][metrics].sum().add_prefix('US ')\n",
    "s_eu = df_table[df_table['Continent'].eq('Europe')][metrics].sum().add_prefix('EU ')\n",
    "s_ind = df_table[df_table['Country/Region'].eq('India')][metrics].sum().add_prefix('India ')\n",
    "summary = {'updated': pd.to_datetime(dt_today), 'since': pd.to_datetime(dt_yday)}\n",
    "summary = {'updated': pd.to_datetime(dt_today), 'since': pd.to_datetime(dt_yday)}\n",
    "summary = {**summary, **df_table[metrics].sum(), **s_ind, **s_us, **s_eu}"
   ]
  },
  {
   "cell_type": "code",
   "execution_count": 18,
   "id": "engaging-syndrome",
   "metadata": {
    "execution": {
     "iopub.execute_input": "2021-12-01T00:26:18.253638Z",
     "iopub.status.busy": "2021-12-01T00:26:18.253076Z",
     "iopub.status.idle": "2021-12-01T00:26:18.267884Z",
     "shell.execute_reply": "2021-12-01T00:26:18.267409Z"
    },
    "papermill": {
     "duration": 0.049941,
     "end_time": "2021-12-01T00:26:18.267994",
     "exception": false,
     "start_time": "2021-12-01T00:26:18.218053",
     "status": "completed"
    },
    "tags": []
   },
   "outputs": [],
   "source": [
    "#hide\n",
    "dft_ct_new_cases = dft_cases.groupby(COL_REGION)[dt_cols].sum().diff(axis=1).fillna(0).astype(int)"
   ]
  },
  {
   "cell_type": "code",
   "execution_count": 19,
   "id": "neutral-assignment",
   "metadata": {
    "execution": {
     "iopub.execute_input": "2021-12-01T00:26:18.336735Z",
     "iopub.status.busy": "2021-12-01T00:26:18.336199Z",
     "iopub.status.idle": "2021-12-01T00:26:18.338304Z",
     "shell.execute_reply": "2021-12-01T00:26:18.337872Z"
    },
    "papermill": {
     "duration": 0.038315,
     "end_time": "2021-12-01T00:26:18.338409",
     "exception": false,
     "start_time": "2021-12-01T00:26:18.300094",
     "status": "completed"
    },
    "tags": []
   },
   "outputs": [],
   "source": [
    "#hide\n",
    "everydaycases = dft_ct_new_cases.cumsum(axis=1)"
   ]
  },
  {
   "cell_type": "code",
   "execution_count": 20,
   "id": "parliamentary-calgary",
   "metadata": {
    "execution": {
     "iopub.execute_input": "2021-12-01T00:26:18.406104Z",
     "iopub.status.busy": "2021-12-01T00:26:18.405534Z",
     "iopub.status.idle": "2021-12-01T00:26:18.972278Z",
     "shell.execute_reply": "2021-12-01T00:26:18.971791Z"
    },
    "papermill": {
     "duration": 0.603078,
     "end_time": "2021-12-01T00:26:18.972402",
     "exception": false,
     "start_time": "2021-12-01T00:26:18.369324",
     "status": "completed"
    },
    "tags": []
   },
   "outputs": [],
   "source": [
    "#hide\n",
    "import pandas as pd\n",
    "import matplotlib.pyplot as plt\n",
    "import matplotlib.ticker as ticker\n",
    "import matplotlib.animation as animation\n",
    "from IPython.display import HTML"
   ]
  },
  {
   "cell_type": "code",
   "execution_count": 21,
   "id": "lasting-extraction",
   "metadata": {
    "execution": {
     "iopub.execute_input": "2021-12-01T00:26:19.039547Z",
     "iopub.status.busy": "2021-12-01T00:26:19.039029Z",
     "iopub.status.idle": "2021-12-01T00:26:19.044809Z",
     "shell.execute_reply": "2021-12-01T00:26:19.044370Z"
    },
    "papermill": {
     "duration": 0.040883,
     "end_time": "2021-12-01T00:26:19.044908",
     "exception": false,
     "start_time": "2021-12-01T00:26:19.004025",
     "status": "completed"
    },
    "tags": []
   },
   "outputs": [],
   "source": [
    "#hide\n",
    "t = everydaycases.stack()"
   ]
  },
  {
   "cell_type": "code",
   "execution_count": 22,
   "id": "premier-sleeve",
   "metadata": {
    "execution": {
     "iopub.execute_input": "2021-12-01T00:26:19.112348Z",
     "iopub.status.busy": "2021-12-01T00:26:19.111280Z",
     "iopub.status.idle": "2021-12-01T00:26:19.120317Z",
     "shell.execute_reply": "2021-12-01T00:26:19.120883Z"
    },
    "papermill": {
     "duration": 0.044633,
     "end_time": "2021-12-01T00:26:19.121068",
     "exception": false,
     "start_time": "2021-12-01T00:26:19.076435",
     "status": "completed"
    },
    "tags": []
   },
   "outputs": [],
   "source": [
    "#hide\n",
    "g = t.reset_index(['Country/Region'])"
   ]
  },
  {
   "cell_type": "code",
   "execution_count": 23,
   "id": "distributed-pittsburgh",
   "metadata": {
    "execution": {
     "iopub.execute_input": "2021-12-01T00:26:19.186025Z",
     "iopub.status.busy": "2021-12-01T00:26:19.185469Z",
     "iopub.status.idle": "2021-12-01T00:26:19.188901Z",
     "shell.execute_reply": "2021-12-01T00:26:19.189316Z"
    },
    "papermill": {
     "duration": 0.037457,
     "end_time": "2021-12-01T00:26:19.189440",
     "exception": false,
     "start_time": "2021-12-01T00:26:19.151983",
     "status": "completed"
    },
    "tags": []
   },
   "outputs": [],
   "source": [
    "#hide\n",
    "g.index.name = 'date'"
   ]
  },
  {
   "cell_type": "code",
   "execution_count": 24,
   "id": "naked-donor",
   "metadata": {
    "execution": {
     "iopub.execute_input": "2021-12-01T00:26:19.254534Z",
     "iopub.status.busy": "2021-12-01T00:26:19.254010Z",
     "iopub.status.idle": "2021-12-01T00:26:19.256431Z",
     "shell.execute_reply": "2021-12-01T00:26:19.255997Z"
    },
    "papermill": {
     "duration": 0.036624,
     "end_time": "2021-12-01T00:26:19.256535",
     "exception": false,
     "start_time": "2021-12-01T00:26:19.219911",
     "status": "completed"
    },
    "tags": []
   },
   "outputs": [],
   "source": [
    "# #hide\n",
    "# g = g.reset_index(['date'])"
   ]
  },
  {
   "cell_type": "code",
   "execution_count": 25,
   "id": "incomplete-mustang",
   "metadata": {
    "execution": {
     "iopub.execute_input": "2021-12-01T00:26:19.320995Z",
     "iopub.status.busy": "2021-12-01T00:26:19.320449Z",
     "iopub.status.idle": "2021-12-01T00:26:19.323066Z",
     "shell.execute_reply": "2021-12-01T00:26:19.322332Z"
    },
    "papermill": {
     "duration": 0.035975,
     "end_time": "2021-12-01T00:26:19.323169",
     "exception": false,
     "start_time": "2021-12-01T00:26:19.287194",
     "status": "completed"
    },
    "tags": []
   },
   "outputs": [],
   "source": [
    "#hide\n",
    "# g.head()"
   ]
  },
  {
   "cell_type": "code",
   "execution_count": 26,
   "id": "specific-kruger",
   "metadata": {
    "execution": {
     "iopub.execute_input": "2021-12-01T00:26:19.389533Z",
     "iopub.status.busy": "2021-12-01T00:26:19.388932Z",
     "iopub.status.idle": "2021-12-01T00:26:19.392939Z",
     "shell.execute_reply": "2021-12-01T00:26:19.392478Z"
    },
    "papermill": {
     "duration": 0.03853,
     "end_time": "2021-12-01T00:26:19.393160",
     "exception": false,
     "start_time": "2021-12-01T00:26:19.354630",
     "status": "completed"
    },
    "tags": []
   },
   "outputs": [],
   "source": [
    "#hide\n",
    "# g.columns = ['date','country','cases']"
   ]
  },
  {
   "cell_type": "code",
   "execution_count": 27,
   "id": "tender-conversion",
   "metadata": {
    "execution": {
     "iopub.execute_input": "2021-12-01T00:26:19.460123Z",
     "iopub.status.busy": "2021-12-01T00:26:19.459489Z",
     "iopub.status.idle": "2021-12-01T00:26:19.461509Z",
     "shell.execute_reply": "2021-12-01T00:26:19.461926Z"
    },
    "papermill": {
     "duration": 0.03753,
     "end_time": "2021-12-01T00:26:19.462039",
     "exception": false,
     "start_time": "2021-12-01T00:26:19.424509",
     "status": "completed"
    },
    "tags": []
   },
   "outputs": [],
   "source": [
    "#hide\n",
    "# g['continent'] = g.country"
   ]
  },
  {
   "cell_type": "code",
   "execution_count": 28,
   "id": "substantial-wilderness",
   "metadata": {
    "execution": {
     "iopub.execute_input": "2021-12-01T00:26:19.527072Z",
     "iopub.status.busy": "2021-12-01T00:26:19.526479Z",
     "iopub.status.idle": "2021-12-01T00:26:19.528946Z",
     "shell.execute_reply": "2021-12-01T00:26:19.528506Z"
    },
    "papermill": {
     "duration": 0.035055,
     "end_time": "2021-12-01T00:26:19.529069",
     "exception": false,
     "start_time": "2021-12-01T00:26:19.494014",
     "status": "completed"
    },
    "tags": []
   },
   "outputs": [],
   "source": [
    "#hide\n",
    "# cols = list(g.columns.values)"
   ]
  },
  {
   "cell_type": "code",
   "execution_count": 29,
   "id": "solved-farming",
   "metadata": {
    "execution": {
     "iopub.execute_input": "2021-12-01T00:26:19.595724Z",
     "iopub.status.busy": "2021-12-01T00:26:19.595111Z",
     "iopub.status.idle": "2021-12-01T00:26:19.598945Z",
     "shell.execute_reply": "2021-12-01T00:26:19.599347Z"
    },
    "papermill": {
     "duration": 0.039651,
     "end_time": "2021-12-01T00:26:19.599466",
     "exception": false,
     "start_time": "2021-12-01T00:26:19.559815",
     "status": "completed"
    },
    "tags": []
   },
   "outputs": [],
   "source": [
    "#hide\n",
    "# cols.insert(0, cols.pop())"
   ]
  },
  {
   "cell_type": "code",
   "execution_count": 30,
   "id": "executed-adoption",
   "metadata": {
    "execution": {
     "iopub.execute_input": "2021-12-01T00:26:19.665360Z",
     "iopub.status.busy": "2021-12-01T00:26:19.664812Z",
     "iopub.status.idle": "2021-12-01T00:26:19.667377Z",
     "shell.execute_reply": "2021-12-01T00:26:19.666819Z"
    },
    "papermill": {
     "duration": 0.037333,
     "end_time": "2021-12-01T00:26:19.667526",
     "exception": false,
     "start_time": "2021-12-01T00:26:19.630193",
     "status": "completed"
    },
    "tags": []
   },
   "outputs": [],
   "source": [
    "#hide\n",
    "# g = g[cols]"
   ]
  },
  {
   "cell_type": "code",
   "execution_count": 31,
   "id": "subject-dublin",
   "metadata": {
    "execution": {
     "iopub.execute_input": "2021-12-01T00:26:19.732869Z",
     "iopub.status.busy": "2021-12-01T00:26:19.732312Z",
     "iopub.status.idle": "2021-12-01T00:26:19.734783Z",
     "shell.execute_reply": "2021-12-01T00:26:19.734364Z"
    },
    "papermill": {
     "duration": 0.035728,
     "end_time": "2021-12-01T00:26:19.734885",
     "exception": false,
     "start_time": "2021-12-01T00:26:19.699157",
     "status": "completed"
    },
    "tags": []
   },
   "outputs": [],
   "source": [
    "#hide\n",
    "# g['continent'] = g['continent'].map(mapping['map.continent'])"
   ]
  },
  {
   "cell_type": "code",
   "execution_count": 32,
   "id": "freelance-scout",
   "metadata": {
    "execution": {
     "iopub.execute_input": "2021-12-01T00:26:19.799509Z",
     "iopub.status.busy": "2021-12-01T00:26:19.798808Z",
     "iopub.status.idle": "2021-12-01T00:26:19.801821Z",
     "shell.execute_reply": "2021-12-01T00:26:19.801361Z"
    },
    "papermill": {
     "duration": 0.036125,
     "end_time": "2021-12-01T00:26:19.801925",
     "exception": false,
     "start_time": "2021-12-01T00:26:19.765800",
     "status": "completed"
    },
    "tags": []
   },
   "outputs": [],
   "source": [
    "#hide\n",
    "# g.head()"
   ]
  },
  {
   "cell_type": "code",
   "execution_count": 33,
   "id": "limited-engine",
   "metadata": {
    "execution": {
     "iopub.execute_input": "2021-12-01T00:26:19.866452Z",
     "iopub.status.busy": "2021-12-01T00:26:19.865936Z",
     "iopub.status.idle": "2021-12-01T00:26:19.868313Z",
     "shell.execute_reply": "2021-12-01T00:26:19.868946Z"
    },
    "papermill": {
     "duration": 0.03644,
     "end_time": "2021-12-01T00:26:19.869229",
     "exception": false,
     "start_time": "2021-12-01T00:26:19.832789",
     "status": "completed"
    },
    "tags": []
   },
   "outputs": [],
   "source": [
    "# hide\n",
    "# g['date'] = g['date'].astype('datetime64[ns]')"
   ]
  },
  {
   "cell_type": "code",
   "execution_count": 34,
   "id": "sophisticated-supervisor",
   "metadata": {
    "execution": {
     "iopub.execute_input": "2021-12-01T00:26:19.933662Z",
     "iopub.status.busy": "2021-12-01T00:26:19.933122Z",
     "iopub.status.idle": "2021-12-01T00:26:19.936454Z",
     "shell.execute_reply": "2021-12-01T00:26:19.936855Z"
    },
    "papermill": {
     "duration": 0.036872,
     "end_time": "2021-12-01T00:26:19.936970",
     "exception": false,
     "start_time": "2021-12-01T00:26:19.900098",
     "status": "completed"
    },
    "tags": []
   },
   "outputs": [],
   "source": [
    "#hide\n",
    "# g['date'] = g.date.dt.dayofyear"
   ]
  },
  {
   "cell_type": "code",
   "execution_count": 35,
   "id": "inside-dubai",
   "metadata": {
    "execution": {
     "iopub.execute_input": "2021-12-01T00:26:20.000686Z",
     "iopub.status.busy": "2021-12-01T00:26:20.000139Z",
     "iopub.status.idle": "2021-12-01T00:26:20.002179Z",
     "shell.execute_reply": "2021-12-01T00:26:20.002606Z"
    },
    "papermill": {
     "duration": 0.035619,
     "end_time": "2021-12-01T00:26:20.002716",
     "exception": false,
     "start_time": "2021-12-01T00:26:19.967097",
     "status": "completed"
    },
    "tags": []
   },
   "outputs": [],
   "source": [
    "#hide\n",
    "# g = g.rename(columns= {'continent':'group','country':'name','cases':'value'})"
   ]
  },
  {
   "cell_type": "code",
   "execution_count": 36,
   "id": "fleet-motorcycle",
   "metadata": {
    "execution": {
     "iopub.execute_input": "2021-12-01T00:26:20.066838Z",
     "iopub.status.busy": "2021-12-01T00:26:20.066300Z",
     "iopub.status.idle": "2021-12-01T00:26:20.068586Z",
     "shell.execute_reply": "2021-12-01T00:26:20.068054Z"
    },
    "papermill": {
     "duration": 0.035063,
     "end_time": "2021-12-01T00:26:20.068692",
     "exception": false,
     "start_time": "2021-12-01T00:26:20.033629",
     "status": "completed"
    },
    "tags": []
   },
   "outputs": [],
   "source": [
    "#hide\n",
    "# cols = ['name','group','day','value']"
   ]
  },
  {
   "cell_type": "code",
   "execution_count": 37,
   "id": "continued-sleeping",
   "metadata": {
    "execution": {
     "iopub.execute_input": "2021-12-01T00:26:20.135606Z",
     "iopub.status.busy": "2021-12-01T00:26:20.135086Z",
     "iopub.status.idle": "2021-12-01T00:26:20.137390Z",
     "shell.execute_reply": "2021-12-01T00:26:20.136880Z"
    },
    "papermill": {
     "duration": 0.035716,
     "end_time": "2021-12-01T00:26:20.137491",
     "exception": false,
     "start_time": "2021-12-01T00:26:20.101775",
     "status": "completed"
    },
    "tags": []
   },
   "outputs": [],
   "source": [
    "#hide\n",
    "# g.rename(columns= {'date':'day'},inplace = True)"
   ]
  },
  {
   "cell_type": "code",
   "execution_count": 38,
   "id": "major-fight",
   "metadata": {
    "execution": {
     "iopub.execute_input": "2021-12-01T00:26:20.203417Z",
     "iopub.status.busy": "2021-12-01T00:26:20.202723Z",
     "iopub.status.idle": "2021-12-01T00:26:20.205469Z",
     "shell.execute_reply": "2021-12-01T00:26:20.205878Z"
    },
    "papermill": {
     "duration": 0.037264,
     "end_time": "2021-12-01T00:26:20.205994",
     "exception": false,
     "start_time": "2021-12-01T00:26:20.168730",
     "status": "completed"
    },
    "tags": []
   },
   "outputs": [],
   "source": [
    "#hide\n",
    "# g = g[cols]"
   ]
  },
  {
   "cell_type": "code",
   "execution_count": 39,
   "id": "structured-mobile",
   "metadata": {
    "execution": {
     "iopub.execute_input": "2021-12-01T00:26:20.271429Z",
     "iopub.status.busy": "2021-12-01T00:26:20.270872Z",
     "iopub.status.idle": "2021-12-01T00:26:20.273320Z",
     "shell.execute_reply": "2021-12-01T00:26:20.273721Z"
    },
    "papermill": {
     "duration": 0.03623,
     "end_time": "2021-12-01T00:26:20.273840",
     "exception": false,
     "start_time": "2021-12-01T00:26:20.237610",
     "status": "completed"
    },
    "tags": []
   },
   "outputs": [],
   "source": [
    "# #hide\n",
    "# g = g[g.group.notna()]"
   ]
  },
  {
   "cell_type": "code",
   "execution_count": 40,
   "id": "determined-closing",
   "metadata": {
    "execution": {
     "iopub.execute_input": "2021-12-01T00:26:20.337920Z",
     "iopub.status.busy": "2021-12-01T00:26:20.337383Z",
     "iopub.status.idle": "2021-12-01T00:26:20.341318Z",
     "shell.execute_reply": "2021-12-01T00:26:20.340748Z"
    },
    "papermill": {
     "duration": 0.037008,
     "end_time": "2021-12-01T00:26:20.341424",
     "exception": false,
     "start_time": "2021-12-01T00:26:20.304416",
     "status": "completed"
    },
    "tags": []
   },
   "outputs": [],
   "source": [
    "# #hide\n",
    "# colors = dict(zip(\n",
    "#     [\"Oceania\", \"Europe\", \"Asia\", \"South America\", \"Middle East\", \"North America\", \"Africa\"],\n",
    "#     [\"#adb0ff\", \"#ffb3ff\", \"#90d595\", \"#e48381\", \"#aafbff\", \"#f7bb5f\", \"#eafb50\"]\n",
    "# ))\n",
    "# group_lk = g.set_index('name')['group'].to_dict()"
   ]
  },
  {
   "cell_type": "code",
   "execution_count": null,
   "id": "gross-drinking",
   "metadata": {
    "papermill": {
     "duration": 0.031503,
     "end_time": "2021-12-01T00:26:20.404624",
     "exception": false,
     "start_time": "2021-12-01T00:26:20.373121",
     "status": "completed"
    },
    "tags": []
   },
   "outputs": [],
   "source": []
  },
  {
   "cell_type": "code",
   "execution_count": 41,
   "id": "subject-macintosh",
   "metadata": {
    "execution": {
     "iopub.execute_input": "2021-12-01T00:26:20.469505Z",
     "iopub.status.busy": "2021-12-01T00:26:20.468895Z",
     "iopub.status.idle": "2021-12-01T00:26:20.471317Z",
     "shell.execute_reply": "2021-12-01T00:26:20.470795Z"
    },
    "papermill": {
     "duration": 0.035989,
     "end_time": "2021-12-01T00:26:20.471419",
     "exception": false,
     "start_time": "2021-12-01T00:26:20.435430",
     "status": "completed"
    },
    "tags": []
   },
   "outputs": [],
   "source": [
    "# #hide\n",
    "# fig, ax = plt.subplots(figsize=(15, 8))\n",
    "\n",
    "# def draw_barchart(current_day):\n",
    "#     dff = g[g['day'].eq(current_day)].sort_values(by='value', ascending=True).tail(10)\n",
    "#     ax.clear()\n",
    "#     ax.barh(dff['name'], dff['value'], color=[colors[group_lk[x]] for x in dff['name']])\n",
    "#     dx = dff['value'].max() / 200\n",
    "    \n",
    "#     for i, (value, name) in enumerate(zip(dff['value'], dff['name'])):\n",
    "#         ax.text(value-dx, i,     name,           size=14, weight=600, ha='right', va='bottom')\n",
    "#         ax.text(value-dx, i-.25, group_lk[name], size=10, color='#444444', ha='right', va='baseline')\n",
    "#         ax.text(value+dx, i,     f'{value:,.0f}',  size=14, ha='left',  va='center')\n",
    "#     ax.text(1, 0.4, current_day, transform=ax.transAxes, color='#777777', size=46, ha='right', weight=800)\n",
    "#     ax.text(0, 1.06, 'Population (thousands)', transform=ax.transAxes, size=12, color='#777777')\n",
    "#     ax.xaxis.set_major_formatter(ticker.StrMethodFormatter('{x:,.0f}'))\n",
    "#     ax.xaxis.set_ticks_position('top')\n",
    "#     ax.tick_params(axis='x', colors='#777777', labelsize=12)\n",
    "#     ax.set_yticks([])\n",
    "#     ax.margins(0, 0.01)\n",
    "#     ax.grid(which='major', axis='x', linestyle='-')\n",
    "#     ax.set_axisbelow(True)\n",
    "    \n",
    "#     ax.text(0, 1.15, 'Coronavirus',\n",
    "#             transform=ax.transAxes, size=24, weight=600, ha='left', va='top')\n",
    "# #     ax.text(1, 0, 'by @pratapvardhan; credit @jburnmurdoch', transform=ax.transAxes, color='#777777', ha='right',\n",
    "# #             bbox=dict(facecolor='white', alpha=0.8, edgecolor='white'))\n",
    "#     plt.box(False)"
   ]
  },
  {
   "cell_type": "code",
   "execution_count": 42,
   "id": "sexual-wages",
   "metadata": {
    "execution": {
     "iopub.execute_input": "2021-12-01T00:26:20.536211Z",
     "iopub.status.busy": "2021-12-01T00:26:20.535599Z",
     "iopub.status.idle": "2021-12-01T00:26:20.538579Z",
     "shell.execute_reply": "2021-12-01T00:26:20.539045Z"
    },
    "papermill": {
     "duration": 0.036869,
     "end_time": "2021-12-01T00:26:20.539164",
     "exception": false,
     "start_time": "2021-12-01T00:26:20.502295",
     "status": "completed"
    },
    "tags": []
   },
   "outputs": [],
   "source": [
    "# #hide_input\n",
    "# fig, ax = plt.subplots(figsize=(15, 8))\n",
    "# animator = animation.FuncAnimation(fig, draw_barchart, frames=range(g.day.values.min(), g.day.values.max()))\n",
    "# HTML(animator.to_jshtml())\n",
    "# # or use animator.to_html5_video() or animator.save() "
   ]
  },
  {
   "cell_type": "code",
   "execution_count": null,
   "id": "australian-container",
   "metadata": {
    "papermill": {
     "duration": 0.032928,
     "end_time": "2021-12-01T00:26:20.605842",
     "exception": false,
     "start_time": "2021-12-01T00:26:20.572914",
     "status": "completed"
    },
    "tags": []
   },
   "outputs": [],
   "source": []
  },
  {
   "cell_type": "code",
   "execution_count": null,
   "id": "mediterranean-pontiac",
   "metadata": {
    "papermill": {
     "duration": 0.030893,
     "end_time": "2021-12-01T00:26:20.668034",
     "exception": false,
     "start_time": "2021-12-01T00:26:20.637141",
     "status": "completed"
    },
    "tags": []
   },
   "outputs": [],
   "source": []
  },
  {
   "cell_type": "code",
   "execution_count": null,
   "id": "aging-legislature",
   "metadata": {
    "papermill": {
     "duration": 0.031484,
     "end_time": "2021-12-01T00:26:20.730542",
     "exception": false,
     "start_time": "2021-12-01T00:26:20.699058",
     "status": "completed"
    },
    "tags": []
   },
   "outputs": [],
   "source": []
  }
 ],
 "metadata": {
  "kernelspec": {
   "display_name": "Python 3",
   "language": "python",
   "name": "python3"
  },
  "language_info": {
   "codemirror_mode": {
    "name": "ipython",
    "version": 3
   },
   "file_extension": ".py",
   "mimetype": "text/x-python",
   "name": "python",
   "nbconvert_exporter": "python",
   "pygments_lexer": "ipython3",
   "version": "3.6.15"
  },
  "papermill": {
   "duration": 5.807574,
   "end_time": "2021-12-01T00:26:21.069189",
   "environment_variables": {},
   "exception": null,
   "input_path": "2020-03-21-covid19exp.ipynb",
   "output_path": "2020-03-21-covid19exp.ipynb",
   "parameters": {},
   "start_time": "2021-12-01T00:26:15.261615",
   "version": "2.0.0"
  }
 },
 "nbformat": 4,
 "nbformat_minor": 5
}