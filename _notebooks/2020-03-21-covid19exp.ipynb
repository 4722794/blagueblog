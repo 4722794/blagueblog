{
 "cells": [
  {
   "cell_type": "markdown",
   "id": "muslim-click",
   "metadata": {
    "papermill": {
     "duration": 0.037815,
     "end_time": "2021-07-08T12:10:03.092237",
     "exception": false,
     "start_time": "2021-07-08T12:10:03.054422",
     "status": "completed"
    },
    "tags": []
   },
   "source": [
    "# COVID-19 Case Race\n",
    "> A race chart to see rising cases around the world\n",
    "\n",
    "- author: Hargun Oberoi\n",
    "- image: images/covid-overview.png\n",
    "- hide: false\n",
    "- badges: false"
   ]
  },
  {
   "cell_type": "code",
   "execution_count": 1,
   "id": "proof-material",
   "metadata": {
    "execution": {
     "iopub.execute_input": "2021-07-08T12:10:03.172019Z",
     "iopub.status.busy": "2021-07-08T12:10:03.171460Z",
     "iopub.status.idle": "2021-07-08T12:10:03.521196Z",
     "shell.execute_reply": "2021-07-08T12:10:03.520304Z"
    },
    "papermill": {
     "duration": 0.396286,
     "end_time": "2021-07-08T12:10:03.521439",
     "exception": false,
     "start_time": "2021-07-08T12:10:03.125153",
     "status": "completed"
    },
    "tags": []
   },
   "outputs": [],
   "source": [
    "#hide\n",
    "import numpy as np\n",
    "import pandas as pd\n",
    "from jinja2 import Template\n",
    "from IPython.display import HTML"
   ]
  },
  {
   "cell_type": "code",
   "execution_count": 2,
   "id": "developed-terminology",
   "metadata": {
    "execution": {
     "iopub.execute_input": "2021-07-08T12:10:03.593634Z",
     "iopub.status.busy": "2021-07-08T12:10:03.592569Z",
     "iopub.status.idle": "2021-07-08T12:10:03.594424Z",
     "shell.execute_reply": "2021-07-08T12:10:03.594844Z"
    },
    "papermill": {
     "duration": 0.040207,
     "end_time": "2021-07-08T12:10:03.594970",
     "exception": false,
     "start_time": "2021-07-08T12:10:03.554763",
     "status": "completed"
    },
    "tags": []
   },
   "outputs": [],
   "source": [
    "#hide\n",
    "\n",
    "# FETCH\n",
    "base_url = 'https://raw.githubusercontent.com/pratapvardhan/notebooks/master/covid19/'\n",
    "paths = {\n",
    "    'mapping': base_url + 'mapping_countries.csv',\n",
    "    'overview': base_url + 'overview.tpl'\n",
    "}"
   ]
  },
  {
   "cell_type": "code",
   "execution_count": 3,
   "id": "dynamic-saver",
   "metadata": {
    "execution": {
     "iopub.execute_input": "2021-07-08T12:10:03.669680Z",
     "iopub.status.busy": "2021-07-08T12:10:03.669115Z",
     "iopub.status.idle": "2021-07-08T12:10:03.671238Z",
     "shell.execute_reply": "2021-07-08T12:10:03.671768Z"
    },
    "papermill": {
     "duration": 0.0455,
     "end_time": "2021-07-08T12:10:03.671897",
     "exception": false,
     "start_time": "2021-07-08T12:10:03.626397",
     "status": "completed"
    },
    "tags": []
   },
   "outputs": [
    {
     "data": {
      "text/plain": [
       "'https://raw.githubusercontent.com/pratapvardhan/notebooks/master/covid19/mapping_countries.csv'"
      ]
     },
     "execution_count": 3,
     "metadata": {},
     "output_type": "execute_result"
    }
   ],
   "source": [
    "#hide\n",
    "paths['mapping']"
   ]
  },
  {
   "cell_type": "code",
   "execution_count": 4,
   "id": "urban-software",
   "metadata": {
    "execution": {
     "iopub.execute_input": "2021-07-08T12:10:03.740756Z",
     "iopub.status.busy": "2021-07-08T12:10:03.740163Z",
     "iopub.status.idle": "2021-07-08T12:10:03.742479Z",
     "shell.execute_reply": "2021-07-08T12:10:03.742945Z"
    },
    "papermill": {
     "duration": 0.038049,
     "end_time": "2021-07-08T12:10:03.743079",
     "exception": false,
     "start_time": "2021-07-08T12:10:03.705030",
     "status": "completed"
    },
    "tags": []
   },
   "outputs": [],
   "source": [
    "#hide\n",
    "def get_mappings(url):\n",
    "    df = pd.read_csv(url)\n",
    "    return {\n",
    "        'df': df,\n",
    "        'replace.country': dict(df.dropna(subset=['Name']).set_index('Country')['Name']),\n",
    "        'map.continent': dict(df.set_index('Name')['Continent'])\n",
    "    }"
   ]
  },
  {
   "cell_type": "code",
   "execution_count": 5,
   "id": "intimate-machinery",
   "metadata": {
    "execution": {
     "iopub.execute_input": "2021-07-08T12:10:03.816933Z",
     "iopub.status.busy": "2021-07-08T12:10:03.816379Z",
     "iopub.status.idle": "2021-07-08T12:10:03.856145Z",
     "shell.execute_reply": "2021-07-08T12:10:03.855367Z"
    },
    "papermill": {
     "duration": 0.080909,
     "end_time": "2021-07-08T12:10:03.856339",
     "exception": false,
     "start_time": "2021-07-08T12:10:03.775430",
     "status": "completed"
    },
    "tags": []
   },
   "outputs": [],
   "source": [
    "#hide\n",
    "mapping = get_mappings(paths['mapping'])"
   ]
  },
  {
   "cell_type": "code",
   "execution_count": 6,
   "id": "certified-tactics",
   "metadata": {
    "execution": {
     "iopub.execute_input": "2021-07-08T12:10:03.927393Z",
     "iopub.status.busy": "2021-07-08T12:10:03.926836Z",
     "iopub.status.idle": "2021-07-08T12:10:03.928986Z",
     "shell.execute_reply": "2021-07-08T12:10:03.929567Z"
    },
    "papermill": {
     "duration": 0.041372,
     "end_time": "2021-07-08T12:10:03.929708",
     "exception": false,
     "start_time": "2021-07-08T12:10:03.888336",
     "status": "completed"
    },
    "tags": []
   },
   "outputs": [],
   "source": [
    "#hide\n",
    "def get_template(path):\n",
    "    from urllib.parse import urlparse\n",
    "    if bool(urlparse(path).netloc):\n",
    "        from urllib.request import urlopen\n",
    "        return urlopen(path).read().decode('utf8')\n",
    "    return open(path).read()"
   ]
  },
  {
   "cell_type": "code",
   "execution_count": 7,
   "id": "realistic-blast",
   "metadata": {
    "execution": {
     "iopub.execute_input": "2021-07-08T12:10:04.000884Z",
     "iopub.status.busy": "2021-07-08T12:10:04.000341Z",
     "iopub.status.idle": "2021-07-08T12:10:04.002118Z",
     "shell.execute_reply": "2021-07-08T12:10:04.002651Z"
    },
    "papermill": {
     "duration": 0.040858,
     "end_time": "2021-07-08T12:10:04.002797",
     "exception": false,
     "start_time": "2021-07-08T12:10:03.961939",
     "status": "completed"
    },
    "tags": []
   },
   "outputs": [],
   "source": [
    "#hide\n",
    "def get_frame(name):\n",
    "    url = (\n",
    "        'https://raw.githubusercontent.com/CSSEGISandData/COVID-19/master/csse_covid_19_data/'\n",
    "        f'csse_covid_19_time_series/time_series_covid19_{name}_global.csv')\n",
    "    df = pd.read_csv(url)\n",
    "    # rename countries\n",
    "    df['Country/Region'] = df['Country/Region'].replace(mapping['replace.country'])\n",
    "    return df"
   ]
  },
  {
   "cell_type": "code",
   "execution_count": 8,
   "id": "affiliated-characterization",
   "metadata": {
    "execution": {
     "iopub.execute_input": "2021-07-08T12:10:04.071459Z",
     "iopub.status.busy": "2021-07-08T12:10:04.070898Z",
     "iopub.status.idle": "2021-07-08T12:10:04.073259Z",
     "shell.execute_reply": "2021-07-08T12:10:04.073712Z"
    },
    "papermill": {
     "duration": 0.039924,
     "end_time": "2021-07-08T12:10:04.073842",
     "exception": false,
     "start_time": "2021-07-08T12:10:04.033918",
     "status": "completed"
    },
    "tags": []
   },
   "outputs": [],
   "source": [
    "#hide\n",
    "def get_dates(df):\n",
    "    dt_cols = df.columns[~df.columns.isin(['Province/State', 'Country/Region', 'Lat', 'Long'])]\n",
    "    LAST_DATE_I = -1\n",
    "    # sometimes last column may be empty, then go backwards\n",
    "    for i in range(-1, -len(dt_cols), -1):\n",
    "        if not df[dt_cols[i]].fillna(0).eq(0).all():\n",
    "            LAST_DATE_I = i\n",
    "            break\n",
    "    return LAST_DATE_I, dt_cols"
   ]
  },
  {
   "cell_type": "code",
   "execution_count": 9,
   "id": "recent-optimization",
   "metadata": {
    "execution": {
     "iopub.execute_input": "2021-07-08T12:10:04.142888Z",
     "iopub.status.busy": "2021-07-08T12:10:04.142297Z",
     "iopub.status.idle": "2021-07-08T12:10:04.496574Z",
     "shell.execute_reply": "2021-07-08T12:10:04.496109Z"
    },
    "papermill": {
     "duration": 0.390861,
     "end_time": "2021-07-08T12:10:04.496687",
     "exception": false,
     "start_time": "2021-07-08T12:10:04.105826",
     "status": "completed"
    },
    "tags": []
   },
   "outputs": [],
   "source": [
    "#hide\n",
    "COL_REGION = 'Country/Region'\n",
    "# Confirmed, Recovered, Deaths\n",
    "df = get_frame('confirmed')\n",
    "# dft_: timeseries, dfc_: today country agg\n",
    "dft_cases = df\n",
    "dft_deaths = get_frame('deaths')\n",
    "dft_recovered = get_frame('recovered')\n",
    "LAST_DATE_I, dt_cols = get_dates(df)"
   ]
  },
  {
   "cell_type": "code",
   "execution_count": 10,
   "id": "absolute-copper",
   "metadata": {
    "execution": {
     "iopub.execute_input": "2021-07-08T12:10:04.565317Z",
     "iopub.status.busy": "2021-07-08T12:10:04.564324Z",
     "iopub.status.idle": "2021-07-08T12:10:04.566354Z",
     "shell.execute_reply": "2021-07-08T12:10:04.566782Z"
    },
    "papermill": {
     "duration": 0.039994,
     "end_time": "2021-07-08T12:10:04.566913",
     "exception": false,
     "start_time": "2021-07-08T12:10:04.526919",
     "status": "completed"
    },
    "tags": []
   },
   "outputs": [],
   "source": [
    "#hide\n",
    "LAST_DATE_I, dt_cols = get_dates(df)\n",
    "dt_today =dt_cols[LAST_DATE_I]\n",
    "# dt_5day = dt_cols[LAST_DATE_I - 5]\n",
    "dt_yday = dt_cols[LAST_DATE_I - 1]"
   ]
  },
  {
   "cell_type": "code",
   "execution_count": 11,
   "id": "restricted-sheriff",
   "metadata": {
    "execution": {
     "iopub.execute_input": "2021-07-08T12:10:04.637928Z",
     "iopub.status.busy": "2021-07-08T12:10:04.636859Z",
     "iopub.status.idle": "2021-07-08T12:10:04.643889Z",
     "shell.execute_reply": "2021-07-08T12:10:04.642897Z"
    },
    "papermill": {
     "duration": 0.045775,
     "end_time": "2021-07-08T12:10:04.644010",
     "exception": false,
     "start_time": "2021-07-08T12:10:04.598235",
     "status": "completed"
    },
    "tags": []
   },
   "outputs": [],
   "source": [
    "#hide\n",
    "dfc_cases = dft_cases.groupby(COL_REGION)[dt_today].sum()\n",
    "dfc_deaths = dft_deaths.groupby(COL_REGION)[dt_today].sum()\n",
    "# dfp_cases = dft_cases.groupby(COL_REGION)[dt_5day].sum()\n",
    "# dfp_deaths = dft_deaths.groupby(COL_REGION)[dt_5day].sum()\n",
    "dfp_cases = dft_cases.groupby(COL_REGION)[dt_yday].sum()\n",
    "dfp_deaths = dft_deaths.groupby(COL_REGION)[dt_yday].sum()"
   ]
  },
  {
   "cell_type": "code",
   "execution_count": 12,
   "id": "deluxe-hepatitis",
   "metadata": {
    "execution": {
     "iopub.execute_input": "2021-07-08T12:10:04.711610Z",
     "iopub.status.busy": "2021-07-08T12:10:04.710602Z",
     "iopub.status.idle": "2021-07-08T12:10:04.716302Z",
     "shell.execute_reply": "2021-07-08T12:10:04.713875Z"
    },
    "papermill": {
     "duration": 0.041994,
     "end_time": "2021-07-08T12:10:04.716526",
     "exception": false,
     "start_time": "2021-07-08T12:10:04.674532",
     "status": "completed"
    },
    "tags": []
   },
   "outputs": [],
   "source": [
    "#hide\n",
    "df_table = (pd.DataFrame(dict(Cases = dfc_cases, Deaths = dfc_deaths, PCases = dfp_cases, PDeaths = dfp_deaths))\n",
    "            .sort_values(by = ['Cases','Deaths'], ascending = [False, False])\n",
    "            .reset_index())"
   ]
  },
  {
   "cell_type": "code",
   "execution_count": 13,
   "id": "educational-chancellor",
   "metadata": {
    "execution": {
     "iopub.execute_input": "2021-07-08T12:10:04.796811Z",
     "iopub.status.busy": "2021-07-08T12:10:04.796232Z",
     "iopub.status.idle": "2021-07-08T12:10:04.808116Z",
     "shell.execute_reply": "2021-07-08T12:10:04.807653Z"
    },
    "papermill": {
     "duration": 0.058658,
     "end_time": "2021-07-08T12:10:04.808223",
     "exception": false,
     "start_time": "2021-07-08T12:10:04.749565",
     "status": "completed"
    },
    "tags": []
   },
   "outputs": [
    {
     "data": {
      "text/html": [
       "<div>\n",
       "<style scoped>\n",
       "    .dataframe tbody tr th:only-of-type {\n",
       "        vertical-align: middle;\n",
       "    }\n",
       "\n",
       "    .dataframe tbody tr th {\n",
       "        vertical-align: top;\n",
       "    }\n",
       "\n",
       "    .dataframe thead th {\n",
       "        text-align: right;\n",
       "    }\n",
       "</style>\n",
       "<table border=\"1\" class=\"dataframe\">\n",
       "  <thead>\n",
       "    <tr style=\"text-align: right;\">\n",
       "      <th></th>\n",
       "      <th>Country/Region</th>\n",
       "      <th>Cases</th>\n",
       "      <th>Deaths</th>\n",
       "      <th>PCases</th>\n",
       "      <th>PDeaths</th>\n",
       "      <th>Cases (+)</th>\n",
       "      <th>Deaths (+)</th>\n",
       "      <th>Fatality Rate</th>\n",
       "      <th>Continent</th>\n",
       "    </tr>\n",
       "  </thead>\n",
       "  <tbody>\n",
       "    <tr>\n",
       "      <th>0</th>\n",
       "      <td>US</td>\n",
       "      <td>33770444</td>\n",
       "      <td>606218</td>\n",
       "      <td>33747513</td>\n",
       "      <td>605906</td>\n",
       "      <td>22931</td>\n",
       "      <td>312</td>\n",
       "      <td>1.80</td>\n",
       "      <td>North America</td>\n",
       "    </tr>\n",
       "    <tr>\n",
       "      <th>1</th>\n",
       "      <td>India</td>\n",
       "      <td>30709557</td>\n",
       "      <td>405028</td>\n",
       "      <td>30663665</td>\n",
       "      <td>404211</td>\n",
       "      <td>45892</td>\n",
       "      <td>817</td>\n",
       "      <td>1.32</td>\n",
       "      <td>Asia</td>\n",
       "    </tr>\n",
       "    <tr>\n",
       "      <th>2</th>\n",
       "      <td>Brazil</td>\n",
       "      <td>18909037</td>\n",
       "      <td>528540</td>\n",
       "      <td>18855015</td>\n",
       "      <td>526892</td>\n",
       "      <td>54022</td>\n",
       "      <td>1648</td>\n",
       "      <td>2.80</td>\n",
       "      <td>South America</td>\n",
       "    </tr>\n",
       "    <tr>\n",
       "      <th>3</th>\n",
       "      <td>France</td>\n",
       "      <td>5856682</td>\n",
       "      <td>111448</td>\n",
       "      <td>5852599</td>\n",
       "      <td>111420</td>\n",
       "      <td>4083</td>\n",
       "      <td>28</td>\n",
       "      <td>1.90</td>\n",
       "      <td>Europe</td>\n",
       "    </tr>\n",
       "    <tr>\n",
       "      <th>4</th>\n",
       "      <td>Russia</td>\n",
       "      <td>5614540</td>\n",
       "      <td>137718</td>\n",
       "      <td>5591030</td>\n",
       "      <td>137005</td>\n",
       "      <td>23510</td>\n",
       "      <td>713</td>\n",
       "      <td>2.45</td>\n",
       "      <td>Europe</td>\n",
       "    </tr>\n",
       "  </tbody>\n",
       "</table>\n",
       "</div>"
      ],
      "text/plain": [
       "  Country/Region     Cases  Deaths    PCases  PDeaths  Cases (+)  Deaths (+)  \\\n",
       "0             US  33770444  606218  33747513   605906      22931         312   \n",
       "1          India  30709557  405028  30663665   404211      45892         817   \n",
       "2         Brazil  18909037  528540  18855015   526892      54022        1648   \n",
       "3         France   5856682  111448   5852599   111420       4083          28   \n",
       "4         Russia   5614540  137718   5591030   137005      23510         713   \n",
       "\n",
       "   Fatality Rate      Continent  \n",
       "0           1.80  North America  \n",
       "1           1.32           Asia  \n",
       "2           2.80  South America  \n",
       "3           1.90         Europe  \n",
       "4           2.45         Europe  "
      ]
     },
     "execution_count": 13,
     "metadata": {},
     "output_type": "execute_result"
    }
   ],
   "source": [
    "#hide\n",
    "for c in 'Cases, Deaths'.split(', '):\n",
    "    df_table[f'{c} (+)'] = (df_table[c] - df_table[f'P{c}']).clip(0)\n",
    "    #Clip ça veut dire, les chiffres negatif sont interdit\n",
    "df_table['Fatality Rate'] = (100* df_table['Deaths']/ df_table['Cases']).round(2)\n",
    "df_table['Continent'] = df_table['Country/Region'].map(mapping['map.continent'])\n",
    "df_table.head(5)"
   ]
  },
  {
   "cell_type": "code",
   "execution_count": 14,
   "id": "aboriginal-bulgaria",
   "metadata": {
    "execution": {
     "iopub.execute_input": "2021-07-08T12:10:04.879223Z",
     "iopub.status.busy": "2021-07-08T12:10:04.878690Z",
     "iopub.status.idle": "2021-07-08T12:10:04.881025Z",
     "shell.execute_reply": "2021-07-08T12:10:04.881479Z"
    },
    "papermill": {
     "duration": 0.041206,
     "end_time": "2021-07-08T12:10:04.881634",
     "exception": false,
     "start_time": "2021-07-08T12:10:04.840428",
     "status": "completed"
    },
    "tags": []
   },
   "outputs": [],
   "source": [
    "#hide\n",
    "#delete problematic countries from table\n",
    "df_table = df_table[~df_table['Country/Region'].isin(['Cape Verde', 'Cruise Ship', 'Kosovo'])]"
   ]
  },
  {
   "cell_type": "code",
   "execution_count": 15,
   "id": "fantastic-effect",
   "metadata": {
    "execution": {
     "iopub.execute_input": "2021-07-08T12:10:04.953436Z",
     "iopub.status.busy": "2021-07-08T12:10:04.951269Z",
     "iopub.status.idle": "2021-07-08T12:10:04.971384Z",
     "shell.execute_reply": "2021-07-08T12:10:04.971826Z"
    },
    "papermill": {
     "duration": 0.060597,
     "end_time": "2021-07-08T12:10:04.971945",
     "exception": false,
     "start_time": "2021-07-08T12:10:04.911348",
     "status": "completed"
    },
    "tags": []
   },
   "outputs": [
    {
     "data": {
      "text/html": [
       "<div>\n",
       "<style scoped>\n",
       "    .dataframe tbody tr th:only-of-type {\n",
       "        vertical-align: middle;\n",
       "    }\n",
       "\n",
       "    .dataframe tbody tr th {\n",
       "        vertical-align: top;\n",
       "    }\n",
       "\n",
       "    .dataframe thead th {\n",
       "        text-align: right;\n",
       "    }\n",
       "</style>\n",
       "<table border=\"1\" class=\"dataframe\">\n",
       "  <thead>\n",
       "    <tr style=\"text-align: right;\">\n",
       "      <th></th>\n",
       "      <th>Country/Region</th>\n",
       "      <th>Cases</th>\n",
       "      <th>Deaths</th>\n",
       "      <th>PCases</th>\n",
       "      <th>PDeaths</th>\n",
       "      <th>Cases (+)</th>\n",
       "      <th>Deaths (+)</th>\n",
       "      <th>Fatality Rate</th>\n",
       "      <th>Continent</th>\n",
       "    </tr>\n",
       "  </thead>\n",
       "  <tbody>\n",
       "    <tr>\n",
       "      <th>0</th>\n",
       "      <td>US</td>\n",
       "      <td>33770444</td>\n",
       "      <td>606218</td>\n",
       "      <td>33747513</td>\n",
       "      <td>605906</td>\n",
       "      <td>22931</td>\n",
       "      <td>312</td>\n",
       "      <td>1.8</td>\n",
       "      <td>North America</td>\n",
       "    </tr>\n",
       "    <tr>\n",
       "      <th>1</th>\n",
       "      <td>India</td>\n",
       "      <td>30709557</td>\n",
       "      <td>405028</td>\n",
       "      <td>30663665</td>\n",
       "      <td>404211</td>\n",
       "      <td>45892</td>\n",
       "      <td>817</td>\n",
       "      <td>1.3</td>\n",
       "      <td>Asia</td>\n",
       "    </tr>\n",
       "    <tr>\n",
       "      <th>2</th>\n",
       "      <td>Brazil</td>\n",
       "      <td>18909037</td>\n",
       "      <td>528540</td>\n",
       "      <td>18855015</td>\n",
       "      <td>526892</td>\n",
       "      <td>54022</td>\n",
       "      <td>1648</td>\n",
       "      <td>2.8</td>\n",
       "      <td>South America</td>\n",
       "    </tr>\n",
       "    <tr>\n",
       "      <th>3</th>\n",
       "      <td>France</td>\n",
       "      <td>5856682</td>\n",
       "      <td>111448</td>\n",
       "      <td>5852599</td>\n",
       "      <td>111420</td>\n",
       "      <td>4083</td>\n",
       "      <td>28</td>\n",
       "      <td>1.9</td>\n",
       "      <td>Europe</td>\n",
       "    </tr>\n",
       "    <tr>\n",
       "      <th>4</th>\n",
       "      <td>Russia</td>\n",
       "      <td>5614540</td>\n",
       "      <td>137718</td>\n",
       "      <td>5591030</td>\n",
       "      <td>137005</td>\n",
       "      <td>23510</td>\n",
       "      <td>713</td>\n",
       "      <td>2.5</td>\n",
       "      <td>Europe</td>\n",
       "    </tr>\n",
       "  </tbody>\n",
       "</table>\n",
       "</div>"
      ],
      "text/plain": [
       "  Country/Region     Cases  Deaths    PCases  PDeaths  Cases (+)  Deaths (+)  \\\n",
       "0             US  33770444  606218  33747513   605906      22931         312   \n",
       "1          India  30709557  405028  30663665   404211      45892         817   \n",
       "2         Brazil  18909037  528540  18855015   526892      54022        1648   \n",
       "3         France   5856682  111448   5852599   111420       4083          28   \n",
       "4         Russia   5614540  137718   5591030   137005      23510         713   \n",
       "\n",
       "   Fatality Rate      Continent  \n",
       "0            1.8  North America  \n",
       "1            1.3           Asia  \n",
       "2            2.8  South America  \n",
       "3            1.9         Europe  \n",
       "4            2.5         Europe  "
      ]
     },
     "execution_count": 15,
     "metadata": {},
     "output_type": "execute_result"
    }
   ],
   "source": [
    "#hide\n",
    "df_table = (pd.DataFrame(dict(Cases=dfc_cases, Deaths=dfc_deaths, PCases=dfp_cases, PDeaths=dfp_deaths))\n",
    "             .sort_values(by=['Cases', 'Deaths'], ascending=[False, False])\n",
    "             .reset_index())\n",
    "df_table.rename(columns={'index': 'Country/Region'}, inplace=True)\n",
    "for c in 'Cases, Deaths'.split(', '):\n",
    "    df_table[f'{c} (+)'] = (df_table[c] - df_table[f'P{c}']).clip(0)  # DATA BUG\n",
    "df_table['Fatality Rate'] = (100 * df_table['Deaths'] / df_table['Cases']).round(1)\n",
    "df_table['Continent'] = df_table['Country/Region'].map(mapping['map.continent'])\n",
    "df_table.head(5)"
   ]
  },
  {
   "cell_type": "code",
   "execution_count": 16,
   "id": "fewer-occasion",
   "metadata": {
    "execution": {
     "iopub.execute_input": "2021-07-08T12:10:05.062525Z",
     "iopub.status.busy": "2021-07-08T12:10:05.061977Z",
     "iopub.status.idle": "2021-07-08T12:10:05.064766Z",
     "shell.execute_reply": "2021-07-08T12:10:05.064302Z"
    },
    "papermill": {
     "duration": 0.042532,
     "end_time": "2021-07-08T12:10:05.064883",
     "exception": false,
     "start_time": "2021-07-08T12:10:05.022351",
     "status": "completed"
    },
    "tags": []
   },
   "outputs": [],
   "source": [
    "#hide\n",
    "#delete problematic countries from table\n",
    "df_table = df_table[~df_table['Country/Region'].isin(['Cape Verde', 'Cruise Ship', 'Kosovo'])]"
   ]
  },
  {
   "cell_type": "code",
   "execution_count": 17,
   "id": "related-center",
   "metadata": {
    "execution": {
     "iopub.execute_input": "2021-07-08T12:10:05.148261Z",
     "iopub.status.busy": "2021-07-08T12:10:05.147673Z",
     "iopub.status.idle": "2021-07-08T12:10:05.161752Z",
     "shell.execute_reply": "2021-07-08T12:10:05.161261Z"
    },
    "papermill": {
     "duration": 0.060481,
     "end_time": "2021-07-08T12:10:05.161890",
     "exception": false,
     "start_time": "2021-07-08T12:10:05.101409",
     "status": "completed"
    },
    "tags": []
   },
   "outputs": [],
   "source": [
    "#hide\n",
    "metrics = [df_table.columns[index] for index in [1,2,5,6]]\n",
    "# s_china = df_table[df_table['Country/Region'].eq('China')][metrics].sum().add_prefix('China ')\n",
    "s_us = df_table[df_table['Country/Region'].eq('US')][metrics].sum().add_prefix('US ')\n",
    "s_eu = df_table[df_table['Continent'].eq('Europe')][metrics].sum().add_prefix('EU ')\n",
    "s_ind = df_table[df_table['Country/Region'].eq('India')][metrics].sum().add_prefix('India ')\n",
    "summary = {'updated': pd.to_datetime(dt_today), 'since': pd.to_datetime(dt_yday)}\n",
    "summary = {'updated': pd.to_datetime(dt_today), 'since': pd.to_datetime(dt_yday)}\n",
    "summary = {**summary, **df_table[metrics].sum(), **s_ind, **s_us, **s_eu}"
   ]
  },
  {
   "cell_type": "code",
   "execution_count": 18,
   "id": "engaging-syndrome",
   "metadata": {
    "execution": {
     "iopub.execute_input": "2021-07-08T12:10:05.251181Z",
     "iopub.status.busy": "2021-07-08T12:10:05.250437Z",
     "iopub.status.idle": "2021-07-08T12:10:05.264949Z",
     "shell.execute_reply": "2021-07-08T12:10:05.264502Z"
    },
    "papermill": {
     "duration": 0.068039,
     "end_time": "2021-07-08T12:10:05.265067",
     "exception": false,
     "start_time": "2021-07-08T12:10:05.197028",
     "status": "completed"
    },
    "tags": []
   },
   "outputs": [],
   "source": [
    "#hide\n",
    "dft_ct_new_cases = dft_cases.groupby(COL_REGION)[dt_cols].sum().diff(axis=1).fillna(0).astype(int)"
   ]
  },
  {
   "cell_type": "code",
   "execution_count": 19,
   "id": "neutral-assignment",
   "metadata": {
    "execution": {
     "iopub.execute_input": "2021-07-08T12:10:05.338022Z",
     "iopub.status.busy": "2021-07-08T12:10:05.337346Z",
     "iopub.status.idle": "2021-07-08T12:10:05.339732Z",
     "shell.execute_reply": "2021-07-08T12:10:05.340201Z"
    },
    "papermill": {
     "duration": 0.041059,
     "end_time": "2021-07-08T12:10:05.340335",
     "exception": false,
     "start_time": "2021-07-08T12:10:05.299276",
     "status": "completed"
    },
    "tags": []
   },
   "outputs": [],
   "source": [
    "#hide\n",
    "everydaycases = dft_ct_new_cases.cumsum(axis=1)"
   ]
  },
  {
   "cell_type": "code",
   "execution_count": 20,
   "id": "parliamentary-calgary",
   "metadata": {
    "execution": {
     "iopub.execute_input": "2021-07-08T12:10:05.413371Z",
     "iopub.status.busy": "2021-07-08T12:10:05.412827Z",
     "iopub.status.idle": "2021-07-08T12:10:06.059200Z",
     "shell.execute_reply": "2021-07-08T12:10:06.058370Z"
    },
    "papermill": {
     "duration": 0.68451,
     "end_time": "2021-07-08T12:10:06.059334",
     "exception": false,
     "start_time": "2021-07-08T12:10:05.374824",
     "status": "completed"
    },
    "tags": []
   },
   "outputs": [],
   "source": [
    "#hide\n",
    "import pandas as pd\n",
    "import matplotlib.pyplot as plt\n",
    "import matplotlib.ticker as ticker\n",
    "import matplotlib.animation as animation\n",
    "from IPython.display import HTML"
   ]
  },
  {
   "cell_type": "code",
   "execution_count": 21,
   "id": "lasting-extraction",
   "metadata": {
    "execution": {
     "iopub.execute_input": "2021-07-08T12:10:06.137730Z",
     "iopub.status.busy": "2021-07-08T12:10:06.137098Z",
     "iopub.status.idle": "2021-07-08T12:10:06.142989Z",
     "shell.execute_reply": "2021-07-08T12:10:06.142393Z"
    },
    "papermill": {
     "duration": 0.049328,
     "end_time": "2021-07-08T12:10:06.143111",
     "exception": false,
     "start_time": "2021-07-08T12:10:06.093783",
     "status": "completed"
    },
    "tags": []
   },
   "outputs": [],
   "source": [
    "#hide\n",
    "t = everydaycases.stack()"
   ]
  },
  {
   "cell_type": "code",
   "execution_count": 22,
   "id": "premier-sleeve",
   "metadata": {
    "execution": {
     "iopub.execute_input": "2021-07-08T12:10:06.218413Z",
     "iopub.status.busy": "2021-07-08T12:10:06.217863Z",
     "iopub.status.idle": "2021-07-08T12:10:06.225842Z",
     "shell.execute_reply": "2021-07-08T12:10:06.225408Z"
    },
    "papermill": {
     "duration": 0.046292,
     "end_time": "2021-07-08T12:10:06.225946",
     "exception": false,
     "start_time": "2021-07-08T12:10:06.179654",
     "status": "completed"
    },
    "tags": []
   },
   "outputs": [],
   "source": [
    "#hide\n",
    "g = t.reset_index(['Country/Region'])"
   ]
  },
  {
   "cell_type": "code",
   "execution_count": 23,
   "id": "distributed-pittsburgh",
   "metadata": {
    "execution": {
     "iopub.execute_input": "2021-07-08T12:10:06.296900Z",
     "iopub.status.busy": "2021-07-08T12:10:06.295897Z",
     "iopub.status.idle": "2021-07-08T12:10:06.297795Z",
     "shell.execute_reply": "2021-07-08T12:10:06.298249Z"
    },
    "papermill": {
     "duration": 0.039689,
     "end_time": "2021-07-08T12:10:06.298389",
     "exception": false,
     "start_time": "2021-07-08T12:10:06.258700",
     "status": "completed"
    },
    "tags": []
   },
   "outputs": [],
   "source": [
    "#hide\n",
    "g.index.name = 'date'"
   ]
  },
  {
   "cell_type": "code",
   "execution_count": 24,
   "id": "naked-donor",
   "metadata": {
    "execution": {
     "iopub.execute_input": "2021-07-08T12:10:06.373044Z",
     "iopub.status.busy": "2021-07-08T12:10:06.372506Z",
     "iopub.status.idle": "2021-07-08T12:10:06.376840Z",
     "shell.execute_reply": "2021-07-08T12:10:06.376107Z"
    },
    "papermill": {
     "duration": 0.041979,
     "end_time": "2021-07-08T12:10:06.376965",
     "exception": false,
     "start_time": "2021-07-08T12:10:06.334986",
     "status": "completed"
    },
    "tags": []
   },
   "outputs": [],
   "source": [
    "# #hide\n",
    "# g = g.reset_index(['date'])"
   ]
  },
  {
   "cell_type": "code",
   "execution_count": 25,
   "id": "incomplete-mustang",
   "metadata": {
    "execution": {
     "iopub.execute_input": "2021-07-08T12:10:06.442367Z",
     "iopub.status.busy": "2021-07-08T12:10:06.441804Z",
     "iopub.status.idle": "2021-07-08T12:10:06.444714Z",
     "shell.execute_reply": "2021-07-08T12:10:06.444273Z"
    },
    "papermill": {
     "duration": 0.036209,
     "end_time": "2021-07-08T12:10:06.444806",
     "exception": false,
     "start_time": "2021-07-08T12:10:06.408597",
     "status": "completed"
    },
    "tags": []
   },
   "outputs": [],
   "source": [
    "#hide\n",
    "# g.head()"
   ]
  },
  {
   "cell_type": "code",
   "execution_count": 26,
   "id": "specific-kruger",
   "metadata": {
    "execution": {
     "iopub.execute_input": "2021-07-08T12:10:06.517333Z",
     "iopub.status.busy": "2021-07-08T12:10:06.516774Z",
     "iopub.status.idle": "2021-07-08T12:10:06.519614Z",
     "shell.execute_reply": "2021-07-08T12:10:06.522160Z"
    },
    "papermill": {
     "duration": 0.042003,
     "end_time": "2021-07-08T12:10:06.522287",
     "exception": false,
     "start_time": "2021-07-08T12:10:06.480284",
     "status": "completed"
    },
    "tags": []
   },
   "outputs": [],
   "source": [
    "#hide\n",
    "# g.columns = ['date','country','cases']"
   ]
  },
  {
   "cell_type": "code",
   "execution_count": 27,
   "id": "tender-conversion",
   "metadata": {
    "execution": {
     "iopub.execute_input": "2021-07-08T12:10:06.601617Z",
     "iopub.status.busy": "2021-07-08T12:10:06.600550Z",
     "iopub.status.idle": "2021-07-08T12:10:06.602701Z",
     "shell.execute_reply": "2021-07-08T12:10:06.603231Z"
    },
    "papermill": {
     "duration": 0.047072,
     "end_time": "2021-07-08T12:10:06.603341",
     "exception": false,
     "start_time": "2021-07-08T12:10:06.556269",
     "status": "completed"
    },
    "tags": []
   },
   "outputs": [],
   "source": [
    "#hide\n",
    "# g['continent'] = g.country"
   ]
  },
  {
   "cell_type": "code",
   "execution_count": 28,
   "id": "substantial-wilderness",
   "metadata": {
    "execution": {
     "iopub.execute_input": "2021-07-08T12:10:06.677483Z",
     "iopub.status.busy": "2021-07-08T12:10:06.676916Z",
     "iopub.status.idle": "2021-07-08T12:10:06.679672Z",
     "shell.execute_reply": "2021-07-08T12:10:06.679183Z"
    },
    "papermill": {
     "duration": 0.041389,
     "end_time": "2021-07-08T12:10:06.679780",
     "exception": false,
     "start_time": "2021-07-08T12:10:06.638391",
     "status": "completed"
    },
    "tags": []
   },
   "outputs": [],
   "source": [
    "#hide\n",
    "# cols = list(g.columns.values)"
   ]
  },
  {
   "cell_type": "code",
   "execution_count": 29,
   "id": "solved-farming",
   "metadata": {
    "execution": {
     "iopub.execute_input": "2021-07-08T12:10:06.753032Z",
     "iopub.status.busy": "2021-07-08T12:10:06.752158Z",
     "iopub.status.idle": "2021-07-08T12:10:06.754694Z",
     "shell.execute_reply": "2021-07-08T12:10:06.754160Z"
    },
    "papermill": {
     "duration": 0.040448,
     "end_time": "2021-07-08T12:10:06.754805",
     "exception": false,
     "start_time": "2021-07-08T12:10:06.714357",
     "status": "completed"
    },
    "tags": []
   },
   "outputs": [],
   "source": [
    "#hide\n",
    "# cols.insert(0, cols.pop())"
   ]
  },
  {
   "cell_type": "code",
   "execution_count": 30,
   "id": "executed-adoption",
   "metadata": {
    "execution": {
     "iopub.execute_input": "2021-07-08T12:10:06.827627Z",
     "iopub.status.busy": "2021-07-08T12:10:06.827157Z",
     "iopub.status.idle": "2021-07-08T12:10:06.828937Z",
     "shell.execute_reply": "2021-07-08T12:10:06.829336Z"
    },
    "papermill": {
     "duration": 0.039784,
     "end_time": "2021-07-08T12:10:06.829449",
     "exception": false,
     "start_time": "2021-07-08T12:10:06.789665",
     "status": "completed"
    },
    "tags": []
   },
   "outputs": [],
   "source": [
    "#hide\n",
    "# g = g[cols]"
   ]
  },
  {
   "cell_type": "code",
   "execution_count": 31,
   "id": "subject-dublin",
   "metadata": {
    "execution": {
     "iopub.execute_input": "2021-07-08T12:10:06.900821Z",
     "iopub.status.busy": "2021-07-08T12:10:06.900281Z",
     "iopub.status.idle": "2021-07-08T12:10:06.902731Z",
     "shell.execute_reply": "2021-07-08T12:10:06.903237Z"
    },
    "papermill": {
     "duration": 0.041769,
     "end_time": "2021-07-08T12:10:06.903365",
     "exception": false,
     "start_time": "2021-07-08T12:10:06.861596",
     "status": "completed"
    },
    "tags": []
   },
   "outputs": [],
   "source": [
    "#hide\n",
    "# g['continent'] = g['continent'].map(mapping['map.continent'])"
   ]
  },
  {
   "cell_type": "code",
   "execution_count": 32,
   "id": "freelance-scout",
   "metadata": {
    "execution": {
     "iopub.execute_input": "2021-07-08T12:10:06.977988Z",
     "iopub.status.busy": "2021-07-08T12:10:06.977414Z",
     "iopub.status.idle": "2021-07-08T12:10:06.979514Z",
     "shell.execute_reply": "2021-07-08T12:10:06.979058Z"
    },
    "papermill": {
     "duration": 0.042909,
     "end_time": "2021-07-08T12:10:06.979625",
     "exception": false,
     "start_time": "2021-07-08T12:10:06.936716",
     "status": "completed"
    },
    "tags": []
   },
   "outputs": [],
   "source": [
    "#hide\n",
    "# g.head()"
   ]
  },
  {
   "cell_type": "code",
   "execution_count": 33,
   "id": "limited-engine",
   "metadata": {
    "execution": {
     "iopub.execute_input": "2021-07-08T12:10:07.052479Z",
     "iopub.status.busy": "2021-07-08T12:10:07.051938Z",
     "iopub.status.idle": "2021-07-08T12:10:07.054381Z",
     "shell.execute_reply": "2021-07-08T12:10:07.054812Z"
    },
    "papermill": {
     "duration": 0.041235,
     "end_time": "2021-07-08T12:10:07.054939",
     "exception": false,
     "start_time": "2021-07-08T12:10:07.013704",
     "status": "completed"
    },
    "tags": []
   },
   "outputs": [],
   "source": [
    "# hide\n",
    "# g['date'] = g['date'].astype('datetime64[ns]')"
   ]
  },
  {
   "cell_type": "code",
   "execution_count": 34,
   "id": "sophisticated-supervisor",
   "metadata": {
    "execution": {
     "iopub.execute_input": "2021-07-08T12:10:07.130345Z",
     "iopub.status.busy": "2021-07-08T12:10:07.129520Z",
     "iopub.status.idle": "2021-07-08T12:10:07.130919Z",
     "shell.execute_reply": "2021-07-08T12:10:07.131341Z"
    },
    "papermill": {
     "duration": 0.04151,
     "end_time": "2021-07-08T12:10:07.131468",
     "exception": false,
     "start_time": "2021-07-08T12:10:07.089958",
     "status": "completed"
    },
    "tags": []
   },
   "outputs": [],
   "source": [
    "#hide\n",
    "# g['date'] = g.date.dt.dayofyear"
   ]
  },
  {
   "cell_type": "code",
   "execution_count": 35,
   "id": "inside-dubai",
   "metadata": {
    "execution": {
     "iopub.execute_input": "2021-07-08T12:10:07.203174Z",
     "iopub.status.busy": "2021-07-08T12:10:07.202586Z",
     "iopub.status.idle": "2021-07-08T12:10:07.204353Z",
     "shell.execute_reply": "2021-07-08T12:10:07.204777Z"
    },
    "papermill": {
     "duration": 0.039697,
     "end_time": "2021-07-08T12:10:07.204919",
     "exception": false,
     "start_time": "2021-07-08T12:10:07.165222",
     "status": "completed"
    },
    "tags": []
   },
   "outputs": [],
   "source": [
    "#hide\n",
    "# g = g.rename(columns= {'continent':'group','country':'name','cases':'value'})"
   ]
  },
  {
   "cell_type": "code",
   "execution_count": 36,
   "id": "fleet-motorcycle",
   "metadata": {
    "execution": {
     "iopub.execute_input": "2021-07-08T12:10:07.277584Z",
     "iopub.status.busy": "2021-07-08T12:10:07.277014Z",
     "iopub.status.idle": "2021-07-08T12:10:07.279432Z",
     "shell.execute_reply": "2021-07-08T12:10:07.279984Z"
    },
    "papermill": {
     "duration": 0.042213,
     "end_time": "2021-07-08T12:10:07.280113",
     "exception": false,
     "start_time": "2021-07-08T12:10:07.237900",
     "status": "completed"
    },
    "tags": []
   },
   "outputs": [],
   "source": [
    "#hide\n",
    "# cols = ['name','group','day','value']"
   ]
  },
  {
   "cell_type": "code",
   "execution_count": 37,
   "id": "continued-sleeping",
   "metadata": {
    "execution": {
     "iopub.execute_input": "2021-07-08T12:10:07.349168Z",
     "iopub.status.busy": "2021-07-08T12:10:07.348591Z",
     "iopub.status.idle": "2021-07-08T12:10:07.351085Z",
     "shell.execute_reply": "2021-07-08T12:10:07.351595Z"
    },
    "papermill": {
     "duration": 0.039559,
     "end_time": "2021-07-08T12:10:07.351719",
     "exception": false,
     "start_time": "2021-07-08T12:10:07.312160",
     "status": "completed"
    },
    "tags": []
   },
   "outputs": [],
   "source": [
    "#hide\n",
    "# g.rename(columns= {'date':'day'},inplace = True)"
   ]
  },
  {
   "cell_type": "code",
   "execution_count": 38,
   "id": "major-fight",
   "metadata": {
    "execution": {
     "iopub.execute_input": "2021-07-08T12:10:07.425732Z",
     "iopub.status.busy": "2021-07-08T12:10:07.425158Z",
     "iopub.status.idle": "2021-07-08T12:10:07.427288Z",
     "shell.execute_reply": "2021-07-08T12:10:07.426829Z"
    },
    "papermill": {
     "duration": 0.041687,
     "end_time": "2021-07-08T12:10:07.427397",
     "exception": false,
     "start_time": "2021-07-08T12:10:07.385710",
     "status": "completed"
    },
    "tags": []
   },
   "outputs": [],
   "source": [
    "#hide\n",
    "# g = g[cols]"
   ]
  },
  {
   "cell_type": "code",
   "execution_count": 39,
   "id": "structured-mobile",
   "metadata": {
    "execution": {
     "iopub.execute_input": "2021-07-08T12:10:07.504823Z",
     "iopub.status.busy": "2021-07-08T12:10:07.504279Z",
     "iopub.status.idle": "2021-07-08T12:10:07.506334Z",
     "shell.execute_reply": "2021-07-08T12:10:07.506798Z"
    },
    "papermill": {
     "duration": 0.045604,
     "end_time": "2021-07-08T12:10:07.506926",
     "exception": false,
     "start_time": "2021-07-08T12:10:07.461322",
     "status": "completed"
    },
    "tags": []
   },
   "outputs": [],
   "source": [
    "# #hide\n",
    "# g = g[g.group.notna()]"
   ]
  },
  {
   "cell_type": "code",
   "execution_count": 40,
   "id": "determined-closing",
   "metadata": {
    "execution": {
     "iopub.execute_input": "2021-07-08T12:10:07.580246Z",
     "iopub.status.busy": "2021-07-08T12:10:07.579650Z",
     "iopub.status.idle": "2021-07-08T12:10:07.581981Z",
     "shell.execute_reply": "2021-07-08T12:10:07.582598Z"
    },
    "papermill": {
     "duration": 0.04276,
     "end_time": "2021-07-08T12:10:07.582748",
     "exception": false,
     "start_time": "2021-07-08T12:10:07.539988",
     "status": "completed"
    },
    "tags": []
   },
   "outputs": [],
   "source": [
    "# #hide\n",
    "# colors = dict(zip(\n",
    "#     [\"Oceania\", \"Europe\", \"Asia\", \"South America\", \"Middle East\", \"North America\", \"Africa\"],\n",
    "#     [\"#adb0ff\", \"#ffb3ff\", \"#90d595\", \"#e48381\", \"#aafbff\", \"#f7bb5f\", \"#eafb50\"]\n",
    "# ))\n",
    "# group_lk = g.set_index('name')['group'].to_dict()"
   ]
  },
  {
   "cell_type": "code",
   "execution_count": null,
   "id": "gross-drinking",
   "metadata": {
    "papermill": {
     "duration": 0.039127,
     "end_time": "2021-07-08T12:10:07.660432",
     "exception": false,
     "start_time": "2021-07-08T12:10:07.621305",
     "status": "completed"
    },
    "tags": []
   },
   "outputs": [],
   "source": []
  },
  {
   "cell_type": "code",
   "execution_count": 41,
   "id": "subject-macintosh",
   "metadata": {
    "execution": {
     "iopub.execute_input": "2021-07-08T12:10:07.732573Z",
     "iopub.status.busy": "2021-07-08T12:10:07.731501Z",
     "iopub.status.idle": "2021-07-08T12:10:07.733660Z",
     "shell.execute_reply": "2021-07-08T12:10:07.734732Z"
    },
    "papermill": {
     "duration": 0.039952,
     "end_time": "2021-07-08T12:10:07.734961",
     "exception": false,
     "start_time": "2021-07-08T12:10:07.695009",
     "status": "completed"
    },
    "tags": []
   },
   "outputs": [],
   "source": [
    "# #hide\n",
    "# fig, ax = plt.subplots(figsize=(15, 8))\n",
    "\n",
    "# def draw_barchart(current_day):\n",
    "#     dff = g[g['day'].eq(current_day)].sort_values(by='value', ascending=True).tail(10)\n",
    "#     ax.clear()\n",
    "#     ax.barh(dff['name'], dff['value'], color=[colors[group_lk[x]] for x in dff['name']])\n",
    "#     dx = dff['value'].max() / 200\n",
    "    \n",
    "#     for i, (value, name) in enumerate(zip(dff['value'], dff['name'])):\n",
    "#         ax.text(value-dx, i,     name,           size=14, weight=600, ha='right', va='bottom')\n",
    "#         ax.text(value-dx, i-.25, group_lk[name], size=10, color='#444444', ha='right', va='baseline')\n",
    "#         ax.text(value+dx, i,     f'{value:,.0f}',  size=14, ha='left',  va='center')\n",
    "#     ax.text(1, 0.4, current_day, transform=ax.transAxes, color='#777777', size=46, ha='right', weight=800)\n",
    "#     ax.text(0, 1.06, 'Population (thousands)', transform=ax.transAxes, size=12, color='#777777')\n",
    "#     ax.xaxis.set_major_formatter(ticker.StrMethodFormatter('{x:,.0f}'))\n",
    "#     ax.xaxis.set_ticks_position('top')\n",
    "#     ax.tick_params(axis='x', colors='#777777', labelsize=12)\n",
    "#     ax.set_yticks([])\n",
    "#     ax.margins(0, 0.01)\n",
    "#     ax.grid(which='major', axis='x', linestyle='-')\n",
    "#     ax.set_axisbelow(True)\n",
    "    \n",
    "#     ax.text(0, 1.15, 'Coronavirus',\n",
    "#             transform=ax.transAxes, size=24, weight=600, ha='left', va='top')\n",
    "# #     ax.text(1, 0, 'by @pratapvardhan; credit @jburnmurdoch', transform=ax.transAxes, color='#777777', ha='right',\n",
    "# #             bbox=dict(facecolor='white', alpha=0.8, edgecolor='white'))\n",
    "#     plt.box(False)"
   ]
  },
  {
   "cell_type": "code",
   "execution_count": 42,
   "id": "sexual-wages",
   "metadata": {
    "execution": {
     "iopub.execute_input": "2021-07-08T12:10:07.807633Z",
     "iopub.status.busy": "2021-07-08T12:10:07.807146Z",
     "iopub.status.idle": "2021-07-08T12:10:07.809635Z",
     "shell.execute_reply": "2021-07-08T12:10:07.809156Z"
    },
    "papermill": {
     "duration": 0.040542,
     "end_time": "2021-07-08T12:10:07.809747",
     "exception": false,
     "start_time": "2021-07-08T12:10:07.769205",
     "status": "completed"
    },
    "tags": []
   },
   "outputs": [],
   "source": [
    "# #hide_input\n",
    "# fig, ax = plt.subplots(figsize=(15, 8))\n",
    "# animator = animation.FuncAnimation(fig, draw_barchart, frames=range(g.day.values.min(), g.day.values.max()))\n",
    "# HTML(animator.to_jshtml())\n",
    "# # or use animator.to_html5_video() or animator.save() "
   ]
  },
  {
   "cell_type": "code",
   "execution_count": null,
   "id": "australian-container",
   "metadata": {
    "papermill": {
     "duration": 0.037249,
     "end_time": "2021-07-08T12:10:07.879023",
     "exception": false,
     "start_time": "2021-07-08T12:10:07.841774",
     "status": "completed"
    },
    "tags": []
   },
   "outputs": [],
   "source": []
  },
  {
   "cell_type": "code",
   "execution_count": null,
   "id": "mediterranean-pontiac",
   "metadata": {
    "papermill": {
     "duration": 0.0318,
     "end_time": "2021-07-08T12:10:07.943085",
     "exception": false,
     "start_time": "2021-07-08T12:10:07.911285",
     "status": "completed"
    },
    "tags": []
   },
   "outputs": [],
   "source": []
  },
  {
   "cell_type": "code",
   "execution_count": null,
   "id": "aging-legislature",
   "metadata": {
    "papermill": {
     "duration": 0.034128,
     "end_time": "2021-07-08T12:10:08.009303",
     "exception": false,
     "start_time": "2021-07-08T12:10:07.975175",
     "status": "completed"
    },
    "tags": []
   },
   "outputs": [],
   "source": []
  }
 ],
 "metadata": {
  "kernelspec": {
   "display_name": "Python 3",
   "language": "python",
   "name": "python3"
  },
  "language_info": {
   "codemirror_mode": {
    "name": "ipython",
    "version": 3
   },
   "file_extension": ".py",
   "mimetype": "text/x-python",
   "name": "python",
   "nbconvert_exporter": "python",
   "pygments_lexer": "ipython3",
   "version": "3.6.13"
  },
  "papermill": {
   "duration": 6.522812,
   "end_time": "2021-07-08T12:10:08.348786",
   "environment_variables": {},
   "exception": null,
   "input_path": "2020-03-21-covid19exp.ipynb",
   "output_path": "2020-03-21-covid19exp.ipynb",
   "parameters": {},
   "start_time": "2021-07-08T12:10:01.825974",
   "version": "2.0.0"
  }
 },
 "nbformat": 4,
 "nbformat_minor": 5
}