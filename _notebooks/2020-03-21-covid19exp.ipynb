{
 "cells": [
  {
   "cell_type": "markdown",
   "metadata": {
    "papermill": {
     "duration": 0.036346,
     "end_time": "2020-12-31T12:11:58.388080",
     "exception": false,
     "start_time": "2020-12-31T12:11:58.351734",
     "status": "completed"
    },
    "tags": []
   },
   "source": [
    "# COVID-19 Case Race\n",
    "> A race chart to see rising cases around the world\n",
    "\n",
    "- author: Hargun Oberoi\n",
    "- image: images/covid-overview.png\n",
    "- hide: false\n",
    "- badges: false"
   ]
  },
  {
   "cell_type": "code",
   "execution_count": 1,
   "metadata": {
    "execution": {
     "iopub.execute_input": "2020-12-31T12:11:58.466869Z",
     "iopub.status.busy": "2020-12-31T12:11:58.466187Z",
     "iopub.status.idle": "2020-12-31T12:11:58.848813Z",
     "shell.execute_reply": "2020-12-31T12:11:58.848193Z"
    },
    "papermill": {
     "duration": 0.426527,
     "end_time": "2020-12-31T12:11:58.848982",
     "exception": false,
     "start_time": "2020-12-31T12:11:58.422455",
     "status": "completed"
    },
    "tags": []
   },
   "outputs": [],
   "source": [
    "#hide\n",
    "import numpy as np\n",
    "import pandas as pd\n",
    "from jinja2 import Template\n",
    "from IPython.display import HTML"
   ]
  },
  {
   "cell_type": "code",
   "execution_count": 2,
   "metadata": {
    "execution": {
     "iopub.execute_input": "2020-12-31T12:11:58.922242Z",
     "iopub.status.busy": "2020-12-31T12:11:58.921357Z",
     "iopub.status.idle": "2020-12-31T12:11:58.925340Z",
     "shell.execute_reply": "2020-12-31T12:11:58.924214Z"
    },
    "papermill": {
     "duration": 0.042019,
     "end_time": "2020-12-31T12:11:58.925483",
     "exception": false,
     "start_time": "2020-12-31T12:11:58.883464",
     "status": "completed"
    },
    "tags": []
   },
   "outputs": [],
   "source": [
    "#hide\n",
    "\n",
    "# FETCH\n",
    "base_url = 'https://raw.githubusercontent.com/pratapvardhan/notebooks/master/covid19/'\n",
    "paths = {\n",
    "    'mapping': base_url + 'mapping_countries.csv',\n",
    "    'overview': base_url + 'overview.tpl'\n",
    "}"
   ]
  },
  {
   "cell_type": "code",
   "execution_count": 3,
   "metadata": {
    "execution": {
     "iopub.execute_input": "2020-12-31T12:11:59.011655Z",
     "iopub.status.busy": "2020-12-31T12:11:59.010818Z",
     "iopub.status.idle": "2020-12-31T12:11:59.013451Z",
     "shell.execute_reply": "2020-12-31T12:11:59.014079Z"
    },
    "papermill": {
     "duration": 0.054923,
     "end_time": "2020-12-31T12:11:59.014242",
     "exception": false,
     "start_time": "2020-12-31T12:11:58.959319",
     "status": "completed"
    },
    "tags": []
   },
   "outputs": [
    {
     "data": {
      "text/plain": [
       "'https://raw.githubusercontent.com/pratapvardhan/notebooks/master/covid19/mapping_countries.csv'"
      ]
     },
     "execution_count": 3,
     "metadata": {},
     "output_type": "execute_result"
    }
   ],
   "source": [
    "#hide\n",
    "paths['mapping']"
   ]
  },
  {
   "cell_type": "code",
   "execution_count": 4,
   "metadata": {
    "execution": {
     "iopub.execute_input": "2020-12-31T12:11:59.089651Z",
     "iopub.status.busy": "2020-12-31T12:11:59.088996Z",
     "iopub.status.idle": "2020-12-31T12:11:59.091525Z",
     "shell.execute_reply": "2020-12-31T12:11:59.090931Z"
    },
    "papermill": {
     "duration": 0.042405,
     "end_time": "2020-12-31T12:11:59.091677",
     "exception": false,
     "start_time": "2020-12-31T12:11:59.049272",
     "status": "completed"
    },
    "tags": []
   },
   "outputs": [],
   "source": [
    "#hide\n",
    "def get_mappings(url):\n",
    "    df = pd.read_csv(url)\n",
    "    return {\n",
    "        'df': df,\n",
    "        'replace.country': dict(df.dropna(subset=['Name']).set_index('Country')['Name']),\n",
    "        'map.continent': dict(df.set_index('Name')['Continent'])\n",
    "    }"
   ]
  },
  {
   "cell_type": "code",
   "execution_count": 5,
   "metadata": {
    "execution": {
     "iopub.execute_input": "2020-12-31T12:11:59.167706Z",
     "iopub.status.busy": "2020-12-31T12:11:59.167024Z",
     "iopub.status.idle": "2020-12-31T12:11:59.201724Z",
     "shell.execute_reply": "2020-12-31T12:11:59.201144Z"
    },
    "papermill": {
     "duration": 0.074333,
     "end_time": "2020-12-31T12:11:59.201877",
     "exception": false,
     "start_time": "2020-12-31T12:11:59.127544",
     "status": "completed"
    },
    "tags": []
   },
   "outputs": [],
   "source": [
    "#hide\n",
    "mapping = get_mappings(paths['mapping'])"
   ]
  },
  {
   "cell_type": "code",
   "execution_count": 6,
   "metadata": {
    "execution": {
     "iopub.execute_input": "2020-12-31T12:11:59.276565Z",
     "iopub.status.busy": "2020-12-31T12:11:59.275885Z",
     "iopub.status.idle": "2020-12-31T12:11:59.277786Z",
     "shell.execute_reply": "2020-12-31T12:11:59.278310Z"
    },
    "papermill": {
     "duration": 0.04237,
     "end_time": "2020-12-31T12:11:59.278475",
     "exception": false,
     "start_time": "2020-12-31T12:11:59.236105",
     "status": "completed"
    },
    "tags": []
   },
   "outputs": [],
   "source": [
    "#hide\n",
    "def get_template(path):\n",
    "    from urllib.parse import urlparse\n",
    "    if bool(urlparse(path).netloc):\n",
    "        from urllib.request import urlopen\n",
    "        return urlopen(path).read().decode('utf8')\n",
    "    return open(path).read()"
   ]
  },
  {
   "cell_type": "code",
   "execution_count": 7,
   "metadata": {
    "execution": {
     "iopub.execute_input": "2020-12-31T12:11:59.349993Z",
     "iopub.status.busy": "2020-12-31T12:11:59.349353Z",
     "iopub.status.idle": "2020-12-31T12:11:59.352588Z",
     "shell.execute_reply": "2020-12-31T12:11:59.352018Z"
    },
    "papermill": {
     "duration": 0.040903,
     "end_time": "2020-12-31T12:11:59.352728",
     "exception": false,
     "start_time": "2020-12-31T12:11:59.311825",
     "status": "completed"
    },
    "tags": []
   },
   "outputs": [],
   "source": [
    "#hide\n",
    "def get_frame(name):\n",
    "    url = (\n",
    "        'https://raw.githubusercontent.com/CSSEGISandData/COVID-19/master/csse_covid_19_data/'\n",
    "        f'csse_covid_19_time_series/time_series_covid19_{name}_global.csv')\n",
    "    df = pd.read_csv(url)\n",
    "    # rename countries\n",
    "    df['Country/Region'] = df['Country/Region'].replace(mapping['replace.country'])\n",
    "    return df"
   ]
  },
  {
   "cell_type": "code",
   "execution_count": 8,
   "metadata": {
    "execution": {
     "iopub.execute_input": "2020-12-31T12:11:59.426593Z",
     "iopub.status.busy": "2020-12-31T12:11:59.425942Z",
     "iopub.status.idle": "2020-12-31T12:11:59.427744Z",
     "shell.execute_reply": "2020-12-31T12:11:59.428343Z"
    },
    "papermill": {
     "duration": 0.043384,
     "end_time": "2020-12-31T12:11:59.428666",
     "exception": false,
     "start_time": "2020-12-31T12:11:59.385282",
     "status": "completed"
    },
    "tags": []
   },
   "outputs": [],
   "source": [
    "#hide\n",
    "def get_dates(df):\n",
    "    dt_cols = df.columns[~df.columns.isin(['Province/State', 'Country/Region', 'Lat', 'Long'])]\n",
    "    LAST_DATE_I = -1\n",
    "    # sometimes last column may be empty, then go backwards\n",
    "    for i in range(-1, -len(dt_cols), -1):\n",
    "        if not df[dt_cols[i]].fillna(0).eq(0).all():\n",
    "            LAST_DATE_I = i\n",
    "            break\n",
    "    return LAST_DATE_I, dt_cols"
   ]
  },
  {
   "cell_type": "code",
   "execution_count": 9,
   "metadata": {
    "execution": {
     "iopub.execute_input": "2020-12-31T12:11:59.500843Z",
     "iopub.status.busy": "2020-12-31T12:11:59.500131Z",
     "iopub.status.idle": "2020-12-31T12:11:59.740896Z",
     "shell.execute_reply": "2020-12-31T12:11:59.740274Z"
    },
    "papermill": {
     "duration": 0.279261,
     "end_time": "2020-12-31T12:11:59.741155",
     "exception": false,
     "start_time": "2020-12-31T12:11:59.461894",
     "status": "completed"
    },
    "tags": []
   },
   "outputs": [],
   "source": [
    "#hide\n",
    "COL_REGION = 'Country/Region'\n",
    "# Confirmed, Recovered, Deaths\n",
    "df = get_frame('confirmed')\n",
    "# dft_: timeseries, dfc_: today country agg\n",
    "dft_cases = df\n",
    "dft_deaths = get_frame('deaths')\n",
    "dft_recovered = get_frame('recovered')\n",
    "LAST_DATE_I, dt_cols = get_dates(df)"
   ]
  },
  {
   "cell_type": "code",
   "execution_count": 10,
   "metadata": {
    "execution": {
     "iopub.execute_input": "2020-12-31T12:11:59.816767Z",
     "iopub.status.busy": "2020-12-31T12:11:59.816092Z",
     "iopub.status.idle": "2020-12-31T12:11:59.818543Z",
     "shell.execute_reply": "2020-12-31T12:11:59.817996Z"
    },
    "papermill": {
     "duration": 0.041166,
     "end_time": "2020-12-31T12:11:59.818678",
     "exception": false,
     "start_time": "2020-12-31T12:11:59.777512",
     "status": "completed"
    },
    "tags": []
   },
   "outputs": [],
   "source": [
    "#hide\n",
    "LAST_DATE_I, dt_cols = get_dates(df)\n",
    "dt_today =dt_cols[LAST_DATE_I]\n",
    "# dt_5day = dt_cols[LAST_DATE_I - 5]\n",
    "dt_yday = dt_cols[LAST_DATE_I - 1]"
   ]
  },
  {
   "cell_type": "code",
   "execution_count": 11,
   "metadata": {
    "execution": {
     "iopub.execute_input": "2020-12-31T12:11:59.899676Z",
     "iopub.status.busy": "2020-12-31T12:11:59.899008Z",
     "iopub.status.idle": "2020-12-31T12:11:59.903501Z",
     "shell.execute_reply": "2020-12-31T12:11:59.904102Z"
    },
    "papermill": {
     "duration": 0.049747,
     "end_time": "2020-12-31T12:11:59.904265",
     "exception": false,
     "start_time": "2020-12-31T12:11:59.854518",
     "status": "completed"
    },
    "tags": []
   },
   "outputs": [],
   "source": [
    "#hide\n",
    "dfc_cases = dft_cases.groupby(COL_REGION)[dt_today].sum()\n",
    "dfc_deaths = dft_deaths.groupby(COL_REGION)[dt_today].sum()\n",
    "# dfp_cases = dft_cases.groupby(COL_REGION)[dt_5day].sum()\n",
    "# dfp_deaths = dft_deaths.groupby(COL_REGION)[dt_5day].sum()\n",
    "dfp_cases = dft_cases.groupby(COL_REGION)[dt_yday].sum()\n",
    "dfp_deaths = dft_deaths.groupby(COL_REGION)[dt_yday].sum()"
   ]
  },
  {
   "cell_type": "code",
   "execution_count": 12,
   "metadata": {
    "execution": {
     "iopub.execute_input": "2020-12-31T12:11:59.979625Z",
     "iopub.status.busy": "2020-12-31T12:11:59.978976Z",
     "iopub.status.idle": "2020-12-31T12:11:59.983187Z",
     "shell.execute_reply": "2020-12-31T12:11:59.983799Z"
    },
    "papermill": {
     "duration": 0.044687,
     "end_time": "2020-12-31T12:11:59.983954",
     "exception": false,
     "start_time": "2020-12-31T12:11:59.939267",
     "status": "completed"
    },
    "tags": []
   },
   "outputs": [],
   "source": [
    "#hide\n",
    "df_table = (pd.DataFrame(dict(Cases = dfc_cases, Deaths = dfc_deaths, PCases = dfp_cases, PDeaths = dfp_deaths))\n",
    "            .sort_values(by = ['Cases','Deaths'], ascending = [False, False])\n",
    "            .reset_index())"
   ]
  },
  {
   "cell_type": "code",
   "execution_count": 13,
   "metadata": {
    "execution": {
     "iopub.execute_input": "2020-12-31T12:12:00.063516Z",
     "iopub.status.busy": "2020-12-31T12:12:00.062845Z",
     "iopub.status.idle": "2020-12-31T12:12:00.085636Z",
     "shell.execute_reply": "2020-12-31T12:12:00.086197Z"
    },
    "papermill": {
     "duration": 0.06918,
     "end_time": "2020-12-31T12:12:00.086365",
     "exception": false,
     "start_time": "2020-12-31T12:12:00.017185",
     "status": "completed"
    },
    "tags": []
   },
   "outputs": [
    {
     "data": {
      "text/html": [
       "<div>\n",
       "<style scoped>\n",
       "    .dataframe tbody tr th:only-of-type {\n",
       "        vertical-align: middle;\n",
       "    }\n",
       "\n",
       "    .dataframe tbody tr th {\n",
       "        vertical-align: top;\n",
       "    }\n",
       "\n",
       "    .dataframe thead th {\n",
       "        text-align: right;\n",
       "    }\n",
       "</style>\n",
       "<table border=\"1\" class=\"dataframe\">\n",
       "  <thead>\n",
       "    <tr style=\"text-align: right;\">\n",
       "      <th></th>\n",
       "      <th>Country/Region</th>\n",
       "      <th>Cases</th>\n",
       "      <th>Deaths</th>\n",
       "      <th>PCases</th>\n",
       "      <th>PDeaths</th>\n",
       "      <th>Cases (+)</th>\n",
       "      <th>Deaths (+)</th>\n",
       "      <th>Fatality Rate</th>\n",
       "      <th>Continent</th>\n",
       "    </tr>\n",
       "  </thead>\n",
       "  <tbody>\n",
       "    <tr>\n",
       "      <th>0</th>\n",
       "      <td>US</td>\n",
       "      <td>19740468</td>\n",
       "      <td>342312</td>\n",
       "      <td>19511426</td>\n",
       "      <td>338568</td>\n",
       "      <td>229042</td>\n",
       "      <td>3744</td>\n",
       "      <td>1.73</td>\n",
       "      <td>North America</td>\n",
       "    </tr>\n",
       "    <tr>\n",
       "      <th>1</th>\n",
       "      <td>India</td>\n",
       "      <td>10266674</td>\n",
       "      <td>148738</td>\n",
       "      <td>10244852</td>\n",
       "      <td>148439</td>\n",
       "      <td>21822</td>\n",
       "      <td>299</td>\n",
       "      <td>1.45</td>\n",
       "      <td>Asia</td>\n",
       "    </tr>\n",
       "    <tr>\n",
       "      <th>2</th>\n",
       "      <td>Brazil</td>\n",
       "      <td>7619200</td>\n",
       "      <td>193875</td>\n",
       "      <td>7563551</td>\n",
       "      <td>192681</td>\n",
       "      <td>55649</td>\n",
       "      <td>1194</td>\n",
       "      <td>2.54</td>\n",
       "      <td>South America</td>\n",
       "    </tr>\n",
       "    <tr>\n",
       "      <th>3</th>\n",
       "      <td>Russia</td>\n",
       "      <td>3100018</td>\n",
       "      <td>55692</td>\n",
       "      <td>3073923</td>\n",
       "      <td>55107</td>\n",
       "      <td>26095</td>\n",
       "      <td>585</td>\n",
       "      <td>1.80</td>\n",
       "      <td>Europe</td>\n",
       "    </tr>\n",
       "    <tr>\n",
       "      <th>4</th>\n",
       "      <td>France</td>\n",
       "      <td>2657624</td>\n",
       "      <td>64508</td>\n",
       "      <td>2631110</td>\n",
       "      <td>64204</td>\n",
       "      <td>26514</td>\n",
       "      <td>304</td>\n",
       "      <td>2.43</td>\n",
       "      <td>Europe</td>\n",
       "    </tr>\n",
       "  </tbody>\n",
       "</table>\n",
       "</div>"
      ],
      "text/plain": [
       "  Country/Region     Cases  Deaths    PCases  PDeaths  Cases (+)  Deaths (+)  \\\n",
       "0             US  19740468  342312  19511426   338568     229042        3744   \n",
       "1          India  10266674  148738  10244852   148439      21822         299   \n",
       "2         Brazil   7619200  193875   7563551   192681      55649        1194   \n",
       "3         Russia   3100018   55692   3073923    55107      26095         585   \n",
       "4         France   2657624   64508   2631110    64204      26514         304   \n",
       "\n",
       "   Fatality Rate      Continent  \n",
       "0           1.73  North America  \n",
       "1           1.45           Asia  \n",
       "2           2.54  South America  \n",
       "3           1.80         Europe  \n",
       "4           2.43         Europe  "
      ]
     },
     "execution_count": 13,
     "metadata": {},
     "output_type": "execute_result"
    }
   ],
   "source": [
    "#hide\n",
    "for c in 'Cases, Deaths'.split(', '):\n",
    "    df_table[f'{c} (+)'] = (df_table[c] - df_table[f'P{c}']).clip(0)\n",
    "    #Clip ça veut dire, les chiffres negatif sont interdit\n",
    "df_table['Fatality Rate'] = (100* df_table['Deaths']/ df_table['Cases']).round(2)\n",
    "df_table['Continent'] = df_table['Country/Region'].map(mapping['map.continent'])\n",
    "df_table.head(5)"
   ]
  },
  {
   "cell_type": "code",
   "execution_count": 14,
   "metadata": {
    "execution": {
     "iopub.execute_input": "2020-12-31T12:12:00.163995Z",
     "iopub.status.busy": "2020-12-31T12:12:00.162860Z",
     "iopub.status.idle": "2020-12-31T12:12:00.164704Z",
     "shell.execute_reply": "2020-12-31T12:12:00.165328Z"
    },
    "papermill": {
     "duration": 0.045073,
     "end_time": "2020-12-31T12:12:00.165487",
     "exception": false,
     "start_time": "2020-12-31T12:12:00.120414",
     "status": "completed"
    },
    "tags": []
   },
   "outputs": [],
   "source": [
    "#hide\n",
    "#delete problematic countries from table\n",
    "df_table = df_table[~df_table['Country/Region'].isin(['Cape Verde', 'Cruise Ship', 'Kosovo'])]"
   ]
  },
  {
   "cell_type": "code",
   "execution_count": 15,
   "metadata": {
    "execution": {
     "iopub.execute_input": "2020-12-31T12:12:00.244436Z",
     "iopub.status.busy": "2020-12-31T12:12:00.243782Z",
     "iopub.status.idle": "2020-12-31T12:12:00.272372Z",
     "shell.execute_reply": "2020-12-31T12:12:00.271742Z"
    },
    "papermill": {
     "duration": 0.071845,
     "end_time": "2020-12-31T12:12:00.272549",
     "exception": false,
     "start_time": "2020-12-31T12:12:00.200704",
     "status": "completed"
    },
    "tags": []
   },
   "outputs": [
    {
     "data": {
      "text/html": [
       "<div>\n",
       "<style scoped>\n",
       "    .dataframe tbody tr th:only-of-type {\n",
       "        vertical-align: middle;\n",
       "    }\n",
       "\n",
       "    .dataframe tbody tr th {\n",
       "        vertical-align: top;\n",
       "    }\n",
       "\n",
       "    .dataframe thead th {\n",
       "        text-align: right;\n",
       "    }\n",
       "</style>\n",
       "<table border=\"1\" class=\"dataframe\">\n",
       "  <thead>\n",
       "    <tr style=\"text-align: right;\">\n",
       "      <th></th>\n",
       "      <th>Country/Region</th>\n",
       "      <th>Cases</th>\n",
       "      <th>Deaths</th>\n",
       "      <th>PCases</th>\n",
       "      <th>PDeaths</th>\n",
       "      <th>Cases (+)</th>\n",
       "      <th>Deaths (+)</th>\n",
       "      <th>Fatality Rate</th>\n",
       "      <th>Continent</th>\n",
       "    </tr>\n",
       "  </thead>\n",
       "  <tbody>\n",
       "    <tr>\n",
       "      <th>0</th>\n",
       "      <td>US</td>\n",
       "      <td>19740468</td>\n",
       "      <td>342312</td>\n",
       "      <td>19511426</td>\n",
       "      <td>338568</td>\n",
       "      <td>229042</td>\n",
       "      <td>3744</td>\n",
       "      <td>1.7</td>\n",
       "      <td>North America</td>\n",
       "    </tr>\n",
       "    <tr>\n",
       "      <th>1</th>\n",
       "      <td>India</td>\n",
       "      <td>10266674</td>\n",
       "      <td>148738</td>\n",
       "      <td>10244852</td>\n",
       "      <td>148439</td>\n",
       "      <td>21822</td>\n",
       "      <td>299</td>\n",
       "      <td>1.4</td>\n",
       "      <td>Asia</td>\n",
       "    </tr>\n",
       "    <tr>\n",
       "      <th>2</th>\n",
       "      <td>Brazil</td>\n",
       "      <td>7619200</td>\n",
       "      <td>193875</td>\n",
       "      <td>7563551</td>\n",
       "      <td>192681</td>\n",
       "      <td>55649</td>\n",
       "      <td>1194</td>\n",
       "      <td>2.5</td>\n",
       "      <td>South America</td>\n",
       "    </tr>\n",
       "    <tr>\n",
       "      <th>3</th>\n",
       "      <td>Russia</td>\n",
       "      <td>3100018</td>\n",
       "      <td>55692</td>\n",
       "      <td>3073923</td>\n",
       "      <td>55107</td>\n",
       "      <td>26095</td>\n",
       "      <td>585</td>\n",
       "      <td>1.8</td>\n",
       "      <td>Europe</td>\n",
       "    </tr>\n",
       "    <tr>\n",
       "      <th>4</th>\n",
       "      <td>France</td>\n",
       "      <td>2657624</td>\n",
       "      <td>64508</td>\n",
       "      <td>2631110</td>\n",
       "      <td>64204</td>\n",
       "      <td>26514</td>\n",
       "      <td>304</td>\n",
       "      <td>2.4</td>\n",
       "      <td>Europe</td>\n",
       "    </tr>\n",
       "  </tbody>\n",
       "</table>\n",
       "</div>"
      ],
      "text/plain": [
       "  Country/Region     Cases  Deaths    PCases  PDeaths  Cases (+)  Deaths (+)  \\\n",
       "0             US  19740468  342312  19511426   338568     229042        3744   \n",
       "1          India  10266674  148738  10244852   148439      21822         299   \n",
       "2         Brazil   7619200  193875   7563551   192681      55649        1194   \n",
       "3         Russia   3100018   55692   3073923    55107      26095         585   \n",
       "4         France   2657624   64508   2631110    64204      26514         304   \n",
       "\n",
       "   Fatality Rate      Continent  \n",
       "0            1.7  North America  \n",
       "1            1.4           Asia  \n",
       "2            2.5  South America  \n",
       "3            1.8         Europe  \n",
       "4            2.4         Europe  "
      ]
     },
     "execution_count": 15,
     "metadata": {},
     "output_type": "execute_result"
    }
   ],
   "source": [
    "#hide\n",
    "df_table = (pd.DataFrame(dict(Cases=dfc_cases, Deaths=dfc_deaths, PCases=dfp_cases, PDeaths=dfp_deaths))\n",
    "             .sort_values(by=['Cases', 'Deaths'], ascending=[False, False])\n",
    "             .reset_index())\n",
    "df_table.rename(columns={'index': 'Country/Region'}, inplace=True)\n",
    "for c in 'Cases, Deaths'.split(', '):\n",
    "    df_table[f'{c} (+)'] = (df_table[c] - df_table[f'P{c}']).clip(0)  # DATA BUG\n",
    "df_table['Fatality Rate'] = (100 * df_table['Deaths'] / df_table['Cases']).round(1)\n",
    "df_table['Continent'] = df_table['Country/Region'].map(mapping['map.continent'])\n",
    "df_table.head(5)"
   ]
  },
  {
   "cell_type": "code",
   "execution_count": 16,
   "metadata": {
    "execution": {
     "iopub.execute_input": "2020-12-31T12:12:00.348234Z",
     "iopub.status.busy": "2020-12-31T12:12:00.347592Z",
     "iopub.status.idle": "2020-12-31T12:12:00.349547Z",
     "shell.execute_reply": "2020-12-31T12:12:00.350044Z"
    },
    "papermill": {
     "duration": 0.042655,
     "end_time": "2020-12-31T12:12:00.350200",
     "exception": false,
     "start_time": "2020-12-31T12:12:00.307545",
     "status": "completed"
    },
    "tags": []
   },
   "outputs": [],
   "source": [
    "#hide\n",
    "#delete problematic countries from table\n",
    "df_table = df_table[~df_table['Country/Region'].isin(['Cape Verde', 'Cruise Ship', 'Kosovo'])]"
   ]
  },
  {
   "cell_type": "code",
   "execution_count": 17,
   "metadata": {
    "execution": {
     "iopub.execute_input": "2020-12-31T12:12:00.432637Z",
     "iopub.status.busy": "2020-12-31T12:12:00.431945Z",
     "iopub.status.idle": "2020-12-31T12:12:00.444956Z",
     "shell.execute_reply": "2020-12-31T12:12:00.443778Z"
    },
    "papermill": {
     "duration": 0.06088,
     "end_time": "2020-12-31T12:12:00.445108",
     "exception": false,
     "start_time": "2020-12-31T12:12:00.384228",
     "status": "completed"
    },
    "tags": []
   },
   "outputs": [],
   "source": [
    "#hide\n",
    "metrics = [df_table.columns[index] for index in [1,2,5,6]]\n",
    "# s_china = df_table[df_table['Country/Region'].eq('China')][metrics].sum().add_prefix('China ')\n",
    "s_us = df_table[df_table['Country/Region'].eq('US')][metrics].sum().add_prefix('US ')\n",
    "s_eu = df_table[df_table['Continent'].eq('Europe')][metrics].sum().add_prefix('EU ')\n",
    "s_ind = df_table[df_table['Country/Region'].eq('India')][metrics].sum().add_prefix('India ')\n",
    "summary = {'updated': pd.to_datetime(dt_today), 'since': pd.to_datetime(dt_yday)}\n",
    "summary = {'updated': pd.to_datetime(dt_today), 'since': pd.to_datetime(dt_yday)}\n",
    "summary = {**summary, **df_table[metrics].sum(), **s_ind, **s_us, **s_eu}"
   ]
  },
  {
   "cell_type": "code",
   "execution_count": 18,
   "metadata": {
    "execution": {
     "iopub.execute_input": "2020-12-31T12:12:00.521715Z",
     "iopub.status.busy": "2020-12-31T12:12:00.520631Z",
     "iopub.status.idle": "2020-12-31T12:12:00.530891Z",
     "shell.execute_reply": "2020-12-31T12:12:00.530336Z"
    },
    "papermill": {
     "duration": 0.052479,
     "end_time": "2020-12-31T12:12:00.531044",
     "exception": false,
     "start_time": "2020-12-31T12:12:00.478565",
     "status": "completed"
    },
    "tags": []
   },
   "outputs": [],
   "source": [
    "#hide\n",
    "dft_ct_new_cases = dft_cases.groupby(COL_REGION)[dt_cols].sum().diff(axis=1).fillna(0).astype(int)"
   ]
  },
  {
   "cell_type": "code",
   "execution_count": 19,
   "metadata": {
    "execution": {
     "iopub.execute_input": "2020-12-31T12:12:00.609751Z",
     "iopub.status.busy": "2020-12-31T12:12:00.609080Z",
     "iopub.status.idle": "2020-12-31T12:12:00.610988Z",
     "shell.execute_reply": "2020-12-31T12:12:00.611561Z"
    },
    "papermill": {
     "duration": 0.045814,
     "end_time": "2020-12-31T12:12:00.611731",
     "exception": false,
     "start_time": "2020-12-31T12:12:00.565917",
     "status": "completed"
    },
    "tags": []
   },
   "outputs": [],
   "source": [
    "#hide\n",
    "everydaycases = dft_ct_new_cases.cumsum(axis=1)"
   ]
  },
  {
   "cell_type": "code",
   "execution_count": 20,
   "metadata": {
    "execution": {
     "iopub.execute_input": "2020-12-31T12:12:00.692812Z",
     "iopub.status.busy": "2020-12-31T12:12:00.691830Z",
     "iopub.status.idle": "2020-12-31T12:12:03.232007Z",
     "shell.execute_reply": "2020-12-31T12:12:03.232546Z"
    },
    "papermill": {
     "duration": 2.584399,
     "end_time": "2020-12-31T12:12:03.232778",
     "exception": false,
     "start_time": "2020-12-31T12:12:00.648379",
     "status": "completed"
    },
    "tags": []
   },
   "outputs": [],
   "source": [
    "#hide\n",
    "import pandas as pd\n",
    "import matplotlib.pyplot as plt\n",
    "import matplotlib.ticker as ticker\n",
    "import matplotlib.animation as animation\n",
    "from IPython.display import HTML"
   ]
  },
  {
   "cell_type": "code",
   "execution_count": 21,
   "metadata": {
    "execution": {
     "iopub.execute_input": "2020-12-31T12:12:03.312470Z",
     "iopub.status.busy": "2020-12-31T12:12:03.311754Z",
     "iopub.status.idle": "2020-12-31T12:12:03.316804Z",
     "shell.execute_reply": "2020-12-31T12:12:03.316214Z"
    },
    "papermill": {
     "duration": 0.04513,
     "end_time": "2020-12-31T12:12:03.316945",
     "exception": false,
     "start_time": "2020-12-31T12:12:03.271815",
     "status": "completed"
    },
    "tags": []
   },
   "outputs": [],
   "source": [
    "#hide\n",
    "t = everydaycases.stack()"
   ]
  },
  {
   "cell_type": "code",
   "execution_count": 22,
   "metadata": {
    "execution": {
     "iopub.execute_input": "2020-12-31T12:12:03.390334Z",
     "iopub.status.busy": "2020-12-31T12:12:03.389691Z",
     "iopub.status.idle": "2020-12-31T12:12:03.396326Z",
     "shell.execute_reply": "2020-12-31T12:12:03.396991Z"
    },
    "papermill": {
     "duration": 0.045478,
     "end_time": "2020-12-31T12:12:03.397152",
     "exception": false,
     "start_time": "2020-12-31T12:12:03.351674",
     "status": "completed"
    },
    "tags": []
   },
   "outputs": [],
   "source": [
    "#hide\n",
    "g = t.reset_index(['Country/Region'])"
   ]
  },
  {
   "cell_type": "code",
   "execution_count": 23,
   "metadata": {
    "execution": {
     "iopub.execute_input": "2020-12-31T12:12:03.470655Z",
     "iopub.status.busy": "2020-12-31T12:12:03.470018Z",
     "iopub.status.idle": "2020-12-31T12:12:03.472492Z",
     "shell.execute_reply": "2020-12-31T12:12:03.471923Z"
    },
    "papermill": {
     "duration": 0.040977,
     "end_time": "2020-12-31T12:12:03.472629",
     "exception": false,
     "start_time": "2020-12-31T12:12:03.431652",
     "status": "completed"
    },
    "tags": []
   },
   "outputs": [],
   "source": [
    "#hide\n",
    "g.index.name = 'date'"
   ]
  },
  {
   "cell_type": "code",
   "execution_count": 24,
   "metadata": {
    "execution": {
     "iopub.execute_input": "2020-12-31T12:12:03.545461Z",
     "iopub.status.busy": "2020-12-31T12:12:03.544818Z",
     "iopub.status.idle": "2020-12-31T12:12:03.546650Z",
     "shell.execute_reply": "2020-12-31T12:12:03.547253Z"
    },
    "papermill": {
     "duration": 0.040862,
     "end_time": "2020-12-31T12:12:03.547419",
     "exception": false,
     "start_time": "2020-12-31T12:12:03.506557",
     "status": "completed"
    },
    "tags": []
   },
   "outputs": [],
   "source": [
    "# #hide\n",
    "# g = g.reset_index(['date'])"
   ]
  },
  {
   "cell_type": "code",
   "execution_count": 25,
   "metadata": {
    "execution": {
     "iopub.execute_input": "2020-12-31T12:12:03.622297Z",
     "iopub.status.busy": "2020-12-31T12:12:03.621655Z",
     "iopub.status.idle": "2020-12-31T12:12:03.623424Z",
     "shell.execute_reply": "2020-12-31T12:12:03.624022Z"
    },
    "papermill": {
     "duration": 0.041313,
     "end_time": "2020-12-31T12:12:03.624178",
     "exception": false,
     "start_time": "2020-12-31T12:12:03.582865",
     "status": "completed"
    },
    "tags": []
   },
   "outputs": [],
   "source": [
    "#hide\n",
    "# g.head()"
   ]
  },
  {
   "cell_type": "code",
   "execution_count": 26,
   "metadata": {
    "execution": {
     "iopub.execute_input": "2020-12-31T12:12:03.698144Z",
     "iopub.status.busy": "2020-12-31T12:12:03.697491Z",
     "iopub.status.idle": "2020-12-31T12:12:03.699529Z",
     "shell.execute_reply": "2020-12-31T12:12:03.700020Z"
    },
    "papermill": {
     "duration": 0.041498,
     "end_time": "2020-12-31T12:12:03.700180",
     "exception": false,
     "start_time": "2020-12-31T12:12:03.658682",
     "status": "completed"
    },
    "tags": []
   },
   "outputs": [],
   "source": [
    "#hide\n",
    "# g.columns = ['date','country','cases']"
   ]
  },
  {
   "cell_type": "code",
   "execution_count": 27,
   "metadata": {
    "execution": {
     "iopub.execute_input": "2020-12-31T12:12:03.773564Z",
     "iopub.status.busy": "2020-12-31T12:12:03.772908Z",
     "iopub.status.idle": "2020-12-31T12:12:03.775029Z",
     "shell.execute_reply": "2020-12-31T12:12:03.775626Z"
    },
    "papermill": {
     "duration": 0.041649,
     "end_time": "2020-12-31T12:12:03.775778",
     "exception": false,
     "start_time": "2020-12-31T12:12:03.734129",
     "status": "completed"
    },
    "tags": []
   },
   "outputs": [],
   "source": [
    "#hide\n",
    "# g['continent'] = g.country"
   ]
  },
  {
   "cell_type": "code",
   "execution_count": 28,
   "metadata": {
    "execution": {
     "iopub.execute_input": "2020-12-31T12:12:03.848704Z",
     "iopub.status.busy": "2020-12-31T12:12:03.848040Z",
     "iopub.status.idle": "2020-12-31T12:12:03.849952Z",
     "shell.execute_reply": "2020-12-31T12:12:03.850499Z"
    },
    "papermill": {
     "duration": 0.040744,
     "end_time": "2020-12-31T12:12:03.851363",
     "exception": false,
     "start_time": "2020-12-31T12:12:03.810619",
     "status": "completed"
    },
    "tags": []
   },
   "outputs": [],
   "source": [
    "#hide\n",
    "# cols = list(g.columns.values)"
   ]
  },
  {
   "cell_type": "code",
   "execution_count": 29,
   "metadata": {
    "execution": {
     "iopub.execute_input": "2020-12-31T12:12:03.925684Z",
     "iopub.status.busy": "2020-12-31T12:12:03.924914Z",
     "iopub.status.idle": "2020-12-31T12:12:03.926476Z",
     "shell.execute_reply": "2020-12-31T12:12:03.927228Z"
    },
    "papermill": {
     "duration": 0.04117,
     "end_time": "2020-12-31T12:12:03.927424",
     "exception": false,
     "start_time": "2020-12-31T12:12:03.886254",
     "status": "completed"
    },
    "tags": []
   },
   "outputs": [],
   "source": [
    "#hide\n",
    "# cols.insert(0, cols.pop())"
   ]
  },
  {
   "cell_type": "code",
   "execution_count": 30,
   "metadata": {
    "execution": {
     "iopub.execute_input": "2020-12-31T12:12:04.001925Z",
     "iopub.status.busy": "2020-12-31T12:12:04.001263Z",
     "iopub.status.idle": "2020-12-31T12:12:04.003903Z",
     "shell.execute_reply": "2020-12-31T12:12:04.003343Z"
    },
    "papermill": {
     "duration": 0.040296,
     "end_time": "2020-12-31T12:12:04.004049",
     "exception": false,
     "start_time": "2020-12-31T12:12:03.963753",
     "status": "completed"
    },
    "tags": []
   },
   "outputs": [],
   "source": [
    "#hide\n",
    "# g = g[cols]"
   ]
  },
  {
   "cell_type": "code",
   "execution_count": 31,
   "metadata": {
    "execution": {
     "iopub.execute_input": "2020-12-31T12:12:04.081204Z",
     "iopub.status.busy": "2020-12-31T12:12:04.080552Z",
     "iopub.status.idle": "2020-12-31T12:12:04.083639Z",
     "shell.execute_reply": "2020-12-31T12:12:04.083083Z"
    },
    "papermill": {
     "duration": 0.044896,
     "end_time": "2020-12-31T12:12:04.083783",
     "exception": false,
     "start_time": "2020-12-31T12:12:04.038887",
     "status": "completed"
    },
    "tags": []
   },
   "outputs": [],
   "source": [
    "#hide\n",
    "# g['continent'] = g['continent'].map(mapping['map.continent'])"
   ]
  },
  {
   "cell_type": "code",
   "execution_count": 32,
   "metadata": {
    "execution": {
     "iopub.execute_input": "2020-12-31T12:12:04.157818Z",
     "iopub.status.busy": "2020-12-31T12:12:04.157155Z",
     "iopub.status.idle": "2020-12-31T12:12:04.161186Z",
     "shell.execute_reply": "2020-12-31T12:12:04.160631Z"
    },
    "papermill": {
     "duration": 0.043001,
     "end_time": "2020-12-31T12:12:04.161328",
     "exception": false,
     "start_time": "2020-12-31T12:12:04.118327",
     "status": "completed"
    },
    "tags": []
   },
   "outputs": [],
   "source": [
    "#hide\n",
    "# g.head()"
   ]
  },
  {
   "cell_type": "code",
   "execution_count": 33,
   "metadata": {
    "execution": {
     "iopub.execute_input": "2020-12-31T12:12:04.235626Z",
     "iopub.status.busy": "2020-12-31T12:12:04.234971Z",
     "iopub.status.idle": "2020-12-31T12:12:04.237488Z",
     "shell.execute_reply": "2020-12-31T12:12:04.236929Z"
    },
    "papermill": {
     "duration": 0.040874,
     "end_time": "2020-12-31T12:12:04.237629",
     "exception": false,
     "start_time": "2020-12-31T12:12:04.196755",
     "status": "completed"
    },
    "tags": []
   },
   "outputs": [],
   "source": [
    "# hide\n",
    "# g['date'] = g['date'].astype('datetime64[ns]')"
   ]
  },
  {
   "cell_type": "code",
   "execution_count": 34,
   "metadata": {
    "execution": {
     "iopub.execute_input": "2020-12-31T12:12:04.322476Z",
     "iopub.status.busy": "2020-12-31T12:12:04.321682Z",
     "iopub.status.idle": "2020-12-31T12:12:04.323468Z",
     "shell.execute_reply": "2020-12-31T12:12:04.324147Z"
    },
    "papermill": {
     "duration": 0.044649,
     "end_time": "2020-12-31T12:12:04.324341",
     "exception": false,
     "start_time": "2020-12-31T12:12:04.279692",
     "status": "completed"
    },
    "tags": []
   },
   "outputs": [],
   "source": [
    "#hide\n",
    "# g['date'] = g.date.dt.dayofyear"
   ]
  },
  {
   "cell_type": "code",
   "execution_count": 35,
   "metadata": {
    "execution": {
     "iopub.execute_input": "2020-12-31T12:12:04.400013Z",
     "iopub.status.busy": "2020-12-31T12:12:04.399199Z",
     "iopub.status.idle": "2020-12-31T12:12:04.401059Z",
     "shell.execute_reply": "2020-12-31T12:12:04.401763Z"
    },
    "papermill": {
     "duration": 0.042787,
     "end_time": "2020-12-31T12:12:04.401955",
     "exception": false,
     "start_time": "2020-12-31T12:12:04.359168",
     "status": "completed"
    },
    "tags": []
   },
   "outputs": [],
   "source": [
    "#hide\n",
    "# g = g.rename(columns= {'continent':'group','country':'name','cases':'value'})"
   ]
  },
  {
   "cell_type": "code",
   "execution_count": 36,
   "metadata": {
    "execution": {
     "iopub.execute_input": "2020-12-31T12:12:04.474700Z",
     "iopub.status.busy": "2020-12-31T12:12:04.474063Z",
     "iopub.status.idle": "2020-12-31T12:12:04.476732Z",
     "shell.execute_reply": "2020-12-31T12:12:04.476156Z"
    },
    "papermill": {
     "duration": 0.041252,
     "end_time": "2020-12-31T12:12:04.476871",
     "exception": false,
     "start_time": "2020-12-31T12:12:04.435619",
     "status": "completed"
    },
    "tags": []
   },
   "outputs": [],
   "source": [
    "#hide\n",
    "# cols = ['name','group','day','value']"
   ]
  },
  {
   "cell_type": "code",
   "execution_count": 37,
   "metadata": {
    "execution": {
     "iopub.execute_input": "2020-12-31T12:12:04.555002Z",
     "iopub.status.busy": "2020-12-31T12:12:04.554247Z",
     "iopub.status.idle": "2020-12-31T12:12:04.556762Z",
     "shell.execute_reply": "2020-12-31T12:12:04.556179Z"
    },
    "papermill": {
     "duration": 0.044257,
     "end_time": "2020-12-31T12:12:04.556902",
     "exception": false,
     "start_time": "2020-12-31T12:12:04.512645",
     "status": "completed"
    },
    "tags": []
   },
   "outputs": [],
   "source": [
    "#hide\n",
    "# g.rename(columns= {'date':'day'},inplace = True)"
   ]
  },
  {
   "cell_type": "code",
   "execution_count": 38,
   "metadata": {
    "execution": {
     "iopub.execute_input": "2020-12-31T12:12:04.629009Z",
     "iopub.status.busy": "2020-12-31T12:12:04.628320Z",
     "iopub.status.idle": "2020-12-31T12:12:04.630741Z",
     "shell.execute_reply": "2020-12-31T12:12:04.630186Z"
    },
    "papermill": {
     "duration": 0.039615,
     "end_time": "2020-12-31T12:12:04.630879",
     "exception": false,
     "start_time": "2020-12-31T12:12:04.591264",
     "status": "completed"
    },
    "tags": []
   },
   "outputs": [],
   "source": [
    "#hide\n",
    "# g = g[cols]"
   ]
  },
  {
   "cell_type": "code",
   "execution_count": 39,
   "metadata": {
    "execution": {
     "iopub.execute_input": "2020-12-31T12:12:04.704648Z",
     "iopub.status.busy": "2020-12-31T12:12:04.703965Z",
     "iopub.status.idle": "2020-12-31T12:12:04.706340Z",
     "shell.execute_reply": "2020-12-31T12:12:04.705775Z"
    },
    "papermill": {
     "duration": 0.04078,
     "end_time": "2020-12-31T12:12:04.706481",
     "exception": false,
     "start_time": "2020-12-31T12:12:04.665701",
     "status": "completed"
    },
    "tags": []
   },
   "outputs": [],
   "source": [
    "# #hide\n",
    "# g = g[g.group.notna()]"
   ]
  },
  {
   "cell_type": "code",
   "execution_count": 40,
   "metadata": {
    "execution": {
     "iopub.execute_input": "2020-12-31T12:12:04.790324Z",
     "iopub.status.busy": "2020-12-31T12:12:04.789673Z",
     "iopub.status.idle": "2020-12-31T12:12:04.792294Z",
     "shell.execute_reply": "2020-12-31T12:12:04.791768Z"
    },
    "papermill": {
     "duration": 0.046221,
     "end_time": "2020-12-31T12:12:04.792436",
     "exception": false,
     "start_time": "2020-12-31T12:12:04.746215",
     "status": "completed"
    },
    "tags": []
   },
   "outputs": [],
   "source": [
    "# #hide\n",
    "# colors = dict(zip(\n",
    "#     [\"Oceania\", \"Europe\", \"Asia\", \"South America\", \"Middle East\", \"North America\", \"Africa\"],\n",
    "#     [\"#adb0ff\", \"#ffb3ff\", \"#90d595\", \"#e48381\", \"#aafbff\", \"#f7bb5f\", \"#eafb50\"]\n",
    "# ))\n",
    "# group_lk = g.set_index('name')['group'].to_dict()"
   ]
  },
  {
   "cell_type": "code",
   "execution_count": null,
   "metadata": {
    "papermill": {
     "duration": 0.036143,
     "end_time": "2020-12-31T12:12:04.866330",
     "exception": false,
     "start_time": "2020-12-31T12:12:04.830187",
     "status": "completed"
    },
    "tags": []
   },
   "outputs": [],
   "source": []
  },
  {
   "cell_type": "code",
   "execution_count": 41,
   "metadata": {
    "execution": {
     "iopub.execute_input": "2020-12-31T12:12:04.947933Z",
     "iopub.status.busy": "2020-12-31T12:12:04.947251Z",
     "iopub.status.idle": "2020-12-31T12:12:04.949250Z",
     "shell.execute_reply": "2020-12-31T12:12:04.949816Z"
    },
    "papermill": {
     "duration": 0.041543,
     "end_time": "2020-12-31T12:12:04.949983",
     "exception": false,
     "start_time": "2020-12-31T12:12:04.908440",
     "status": "completed"
    },
    "tags": []
   },
   "outputs": [],
   "source": [
    "# #hide\n",
    "# fig, ax = plt.subplots(figsize=(15, 8))\n",
    "\n",
    "# def draw_barchart(current_day):\n",
    "#     dff = g[g['day'].eq(current_day)].sort_values(by='value', ascending=True).tail(10)\n",
    "#     ax.clear()\n",
    "#     ax.barh(dff['name'], dff['value'], color=[colors[group_lk[x]] for x in dff['name']])\n",
    "#     dx = dff['value'].max() / 200\n",
    "    \n",
    "#     for i, (value, name) in enumerate(zip(dff['value'], dff['name'])):\n",
    "#         ax.text(value-dx, i,     name,           size=14, weight=600, ha='right', va='bottom')\n",
    "#         ax.text(value-dx, i-.25, group_lk[name], size=10, color='#444444', ha='right', va='baseline')\n",
    "#         ax.text(value+dx, i,     f'{value:,.0f}',  size=14, ha='left',  va='center')\n",
    "#     ax.text(1, 0.4, current_day, transform=ax.transAxes, color='#777777', size=46, ha='right', weight=800)\n",
    "#     ax.text(0, 1.06, 'Population (thousands)', transform=ax.transAxes, size=12, color='#777777')\n",
    "#     ax.xaxis.set_major_formatter(ticker.StrMethodFormatter('{x:,.0f}'))\n",
    "#     ax.xaxis.set_ticks_position('top')\n",
    "#     ax.tick_params(axis='x', colors='#777777', labelsize=12)\n",
    "#     ax.set_yticks([])\n",
    "#     ax.margins(0, 0.01)\n",
    "#     ax.grid(which='major', axis='x', linestyle='-')\n",
    "#     ax.set_axisbelow(True)\n",
    "    \n",
    "#     ax.text(0, 1.15, 'Coronavirus',\n",
    "#             transform=ax.transAxes, size=24, weight=600, ha='left', va='top')\n",
    "# #     ax.text(1, 0, 'by @pratapvardhan; credit @jburnmurdoch', transform=ax.transAxes, color='#777777', ha='right',\n",
    "# #             bbox=dict(facecolor='white', alpha=0.8, edgecolor='white'))\n",
    "#     plt.box(False)"
   ]
  },
  {
   "cell_type": "code",
   "execution_count": 42,
   "metadata": {
    "execution": {
     "iopub.execute_input": "2020-12-31T12:12:05.027194Z",
     "iopub.status.busy": "2020-12-31T12:12:05.026536Z",
     "iopub.status.idle": "2020-12-31T12:12:05.028879Z",
     "shell.execute_reply": "2020-12-31T12:12:05.028298Z"
    },
    "papermill": {
     "duration": 0.042157,
     "end_time": "2020-12-31T12:12:05.029018",
     "exception": false,
     "start_time": "2020-12-31T12:12:04.986861",
     "status": "completed"
    },
    "tags": []
   },
   "outputs": [],
   "source": [
    "# #hide_input\n",
    "# fig, ax = plt.subplots(figsize=(15, 8))\n",
    "# animator = animation.FuncAnimation(fig, draw_barchart, frames=range(g.day.values.min(), g.day.values.max()))\n",
    "# HTML(animator.to_jshtml())\n",
    "# # or use animator.to_html5_video() or animator.save() "
   ]
  },
  {
   "cell_type": "code",
   "execution_count": null,
   "metadata": {
    "papermill": {
     "duration": 0.036435,
     "end_time": "2020-12-31T12:12:05.103406",
     "exception": false,
     "start_time": "2020-12-31T12:12:05.066971",
     "status": "completed"
    },
    "tags": []
   },
   "outputs": [],
   "source": []
  },
  {
   "cell_type": "code",
   "execution_count": null,
   "metadata": {
    "papermill": {
     "duration": 0.034711,
     "end_time": "2020-12-31T12:12:05.172153",
     "exception": false,
     "start_time": "2020-12-31T12:12:05.137442",
     "status": "completed"
    },
    "tags": []
   },
   "outputs": [],
   "source": []
  },
  {
   "cell_type": "code",
   "execution_count": null,
   "metadata": {
    "papermill": {
     "duration": 0.034195,
     "end_time": "2020-12-31T12:12:05.241689",
     "exception": false,
     "start_time": "2020-12-31T12:12:05.207494",
     "status": "completed"
    },
    "tags": []
   },
   "outputs": [],
   "source": []
  }
 ],
 "metadata": {
  "kernelspec": {
   "display_name": "Python 3",
   "language": "python",
   "name": "python3"
  },
  "language_info": {
   "codemirror_mode": {
    "name": "ipython",
    "version": 3
   },
   "file_extension": ".py",
   "mimetype": "text/x-python",
   "name": "python",
   "nbconvert_exporter": "python",
   "pygments_lexer": "ipython3",
   "version": "3.6.12"
  },
  "papermill": {
   "duration": 9.379366,
   "end_time": "2020-12-31T12:12:06.592308",
   "environment_variables": {},
   "exception": null,
   "input_path": "2020-03-21-covid19exp.ipynb",
   "output_path": "2020-03-21-covid19exp.ipynb",
   "parameters": {},
   "start_time": "2020-12-31T12:11:57.212942",
   "version": "2.0.0"
  }
 },
 "nbformat": 4,
 "nbformat_minor": 4
}