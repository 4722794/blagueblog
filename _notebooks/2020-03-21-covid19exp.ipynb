{
 "cells": [
  {
   "cell_type": "markdown",
   "metadata": {
    "papermill": {
     "duration": 0.036408,
     "end_time": "2020-12-03T12:07:09.564826",
     "exception": false,
     "start_time": "2020-12-03T12:07:09.528418",
     "status": "completed"
    },
    "tags": []
   },
   "source": [
    "# COVID-19 Case Race\n",
    "> A race chart to see rising cases around the world\n",
    "\n",
    "- author: Hargun Oberoi\n",
    "- image: images/covid-overview.png\n",
    "- hide: false\n",
    "- badges: false"
   ]
  },
  {
   "cell_type": "code",
   "execution_count": 1,
   "metadata": {
    "execution": {
     "iopub.execute_input": "2020-12-03T12:07:09.632932Z",
     "iopub.status.busy": "2020-12-03T12:07:09.632259Z",
     "iopub.status.idle": "2020-12-03T12:07:09.981147Z",
     "shell.execute_reply": "2020-12-03T12:07:09.981751Z"
    },
    "papermill": {
     "duration": 0.384666,
     "end_time": "2020-12-03T12:07:09.981948",
     "exception": false,
     "start_time": "2020-12-03T12:07:09.597282",
     "status": "completed"
    },
    "tags": []
   },
   "outputs": [],
   "source": [
    "#hide\n",
    "import numpy as np\n",
    "import pandas as pd\n",
    "from jinja2 import Template\n",
    "from IPython.display import HTML"
   ]
  },
  {
   "cell_type": "code",
   "execution_count": 2,
   "metadata": {
    "execution": {
     "iopub.execute_input": "2020-12-03T12:07:10.053900Z",
     "iopub.status.busy": "2020-12-03T12:07:10.053212Z",
     "iopub.status.idle": "2020-12-03T12:07:10.055633Z",
     "shell.execute_reply": "2020-12-03T12:07:10.055012Z"
    },
    "papermill": {
     "duration": 0.040048,
     "end_time": "2020-12-03T12:07:10.055765",
     "exception": false,
     "start_time": "2020-12-03T12:07:10.015717",
     "status": "completed"
    },
    "tags": []
   },
   "outputs": [],
   "source": [
    "#hide\n",
    "\n",
    "# FETCH\n",
    "base_url = 'https://raw.githubusercontent.com/pratapvardhan/notebooks/master/covid19/'\n",
    "paths = {\n",
    "    'mapping': base_url + 'mapping_countries.csv',\n",
    "    'overview': base_url + 'overview.tpl'\n",
    "}"
   ]
  },
  {
   "cell_type": "code",
   "execution_count": 3,
   "metadata": {
    "execution": {
     "iopub.execute_input": "2020-12-03T12:07:10.131604Z",
     "iopub.status.busy": "2020-12-03T12:07:10.130928Z",
     "iopub.status.idle": "2020-12-03T12:07:10.134299Z",
     "shell.execute_reply": "2020-12-03T12:07:10.133754Z"
    },
    "papermill": {
     "duration": 0.046077,
     "end_time": "2020-12-03T12:07:10.134438",
     "exception": false,
     "start_time": "2020-12-03T12:07:10.088361",
     "status": "completed"
    },
    "tags": []
   },
   "outputs": [
    {
     "data": {
      "text/plain": [
       "'https://raw.githubusercontent.com/pratapvardhan/notebooks/master/covid19/mapping_countries.csv'"
      ]
     },
     "execution_count": 3,
     "metadata": {},
     "output_type": "execute_result"
    }
   ],
   "source": [
    "#hide\n",
    "paths['mapping']"
   ]
  },
  {
   "cell_type": "code",
   "execution_count": 4,
   "metadata": {
    "execution": {
     "iopub.execute_input": "2020-12-03T12:07:10.206970Z",
     "iopub.status.busy": "2020-12-03T12:07:10.206329Z",
     "iopub.status.idle": "2020-12-03T12:07:10.208786Z",
     "shell.execute_reply": "2020-12-03T12:07:10.208263Z"
    },
    "papermill": {
     "duration": 0.039455,
     "end_time": "2020-12-03T12:07:10.208915",
     "exception": false,
     "start_time": "2020-12-03T12:07:10.169460",
     "status": "completed"
    },
    "tags": []
   },
   "outputs": [],
   "source": [
    "#hide\n",
    "def get_mappings(url):\n",
    "    df = pd.read_csv(url)\n",
    "    return {\n",
    "        'df': df,\n",
    "        'replace.country': dict(df.dropna(subset=['Name']).set_index('Country')['Name']),\n",
    "        'map.continent': dict(df.set_index('Name')['Continent'])\n",
    "    }"
   ]
  },
  {
   "cell_type": "code",
   "execution_count": 5,
   "metadata": {
    "execution": {
     "iopub.execute_input": "2020-12-03T12:07:10.278711Z",
     "iopub.status.busy": "2020-12-03T12:07:10.278052Z",
     "iopub.status.idle": "2020-12-03T12:07:10.320393Z",
     "shell.execute_reply": "2020-12-03T12:07:10.319823Z"
    },
    "papermill": {
     "duration": 0.079959,
     "end_time": "2020-12-03T12:07:10.320539",
     "exception": false,
     "start_time": "2020-12-03T12:07:10.240580",
     "status": "completed"
    },
    "tags": []
   },
   "outputs": [],
   "source": [
    "#hide\n",
    "mapping = get_mappings(paths['mapping'])"
   ]
  },
  {
   "cell_type": "code",
   "execution_count": 6,
   "metadata": {
    "execution": {
     "iopub.execute_input": "2020-12-03T12:07:10.390677Z",
     "iopub.status.busy": "2020-12-03T12:07:10.390003Z",
     "iopub.status.idle": "2020-12-03T12:07:10.391929Z",
     "shell.execute_reply": "2020-12-03T12:07:10.392479Z"
    },
    "papermill": {
     "duration": 0.039563,
     "end_time": "2020-12-03T12:07:10.392626",
     "exception": false,
     "start_time": "2020-12-03T12:07:10.353063",
     "status": "completed"
    },
    "tags": []
   },
   "outputs": [],
   "source": [
    "#hide\n",
    "def get_template(path):\n",
    "    from urllib.parse import urlparse\n",
    "    if bool(urlparse(path).netloc):\n",
    "        from urllib.request import urlopen\n",
    "        return urlopen(path).read().decode('utf8')\n",
    "    return open(path).read()"
   ]
  },
  {
   "cell_type": "code",
   "execution_count": 7,
   "metadata": {
    "execution": {
     "iopub.execute_input": "2020-12-03T12:07:10.467446Z",
     "iopub.status.busy": "2020-12-03T12:07:10.466767Z",
     "iopub.status.idle": "2020-12-03T12:07:10.468349Z",
     "shell.execute_reply": "2020-12-03T12:07:10.468913Z"
    },
    "papermill": {
     "duration": 0.043366,
     "end_time": "2020-12-03T12:07:10.469072",
     "exception": false,
     "start_time": "2020-12-03T12:07:10.425706",
     "status": "completed"
    },
    "tags": []
   },
   "outputs": [],
   "source": [
    "#hide\n",
    "def get_frame(name):\n",
    "    url = (\n",
    "        'https://raw.githubusercontent.com/CSSEGISandData/COVID-19/master/csse_covid_19_data/'\n",
    "        f'csse_covid_19_time_series/time_series_covid19_{name}_global.csv')\n",
    "    df = pd.read_csv(url)\n",
    "    # rename countries\n",
    "    df['Country/Region'] = df['Country/Region'].replace(mapping['replace.country'])\n",
    "    return df"
   ]
  },
  {
   "cell_type": "code",
   "execution_count": 8,
   "metadata": {
    "execution": {
     "iopub.execute_input": "2020-12-03T12:07:10.565126Z",
     "iopub.status.busy": "2020-12-03T12:07:10.564467Z",
     "iopub.status.idle": "2020-12-03T12:07:10.567104Z",
     "shell.execute_reply": "2020-12-03T12:07:10.567638Z"
    },
    "papermill": {
     "duration": 0.0535,
     "end_time": "2020-12-03T12:07:10.567792",
     "exception": false,
     "start_time": "2020-12-03T12:07:10.514292",
     "status": "completed"
    },
    "tags": []
   },
   "outputs": [],
   "source": [
    "#hide\n",
    "def get_dates(df):\n",
    "    dt_cols = df.columns[~df.columns.isin(['Province/State', 'Country/Region', 'Lat', 'Long'])]\n",
    "    LAST_DATE_I = -1\n",
    "    # sometimes last column may be empty, then go backwards\n",
    "    for i in range(-1, -len(dt_cols), -1):\n",
    "        if not df[dt_cols[i]].fillna(0).eq(0).all():\n",
    "            LAST_DATE_I = i\n",
    "            break\n",
    "    return LAST_DATE_I, dt_cols"
   ]
  },
  {
   "cell_type": "code",
   "execution_count": 9,
   "metadata": {
    "execution": {
     "iopub.execute_input": "2020-12-03T12:07:10.642241Z",
     "iopub.status.busy": "2020-12-03T12:07:10.641545Z",
     "iopub.status.idle": "2020-12-03T12:07:10.956443Z",
     "shell.execute_reply": "2020-12-03T12:07:10.955850Z"
    },
    "papermill": {
     "duration": 0.352928,
     "end_time": "2020-12-03T12:07:10.956592",
     "exception": false,
     "start_time": "2020-12-03T12:07:10.603664",
     "status": "completed"
    },
    "tags": []
   },
   "outputs": [],
   "source": [
    "#hide\n",
    "COL_REGION = 'Country/Region'\n",
    "# Confirmed, Recovered, Deaths\n",
    "df = get_frame('confirmed')\n",
    "# dft_: timeseries, dfc_: today country agg\n",
    "dft_cases = df\n",
    "dft_deaths = get_frame('deaths')\n",
    "dft_recovered = get_frame('recovered')\n",
    "LAST_DATE_I, dt_cols = get_dates(df)"
   ]
  },
  {
   "cell_type": "code",
   "execution_count": 10,
   "metadata": {
    "execution": {
     "iopub.execute_input": "2020-12-03T12:07:11.029892Z",
     "iopub.status.busy": "2020-12-03T12:07:11.029217Z",
     "iopub.status.idle": "2020-12-03T12:07:11.031742Z",
     "shell.execute_reply": "2020-12-03T12:07:11.031211Z"
    },
    "papermill": {
     "duration": 0.040787,
     "end_time": "2020-12-03T12:07:11.031870",
     "exception": false,
     "start_time": "2020-12-03T12:07:10.991083",
     "status": "completed"
    },
    "tags": []
   },
   "outputs": [],
   "source": [
    "#hide\n",
    "LAST_DATE_I, dt_cols = get_dates(df)\n",
    "dt_today =dt_cols[LAST_DATE_I]\n",
    "# dt_5day = dt_cols[LAST_DATE_I - 5]\n",
    "dt_yday = dt_cols[LAST_DATE_I - 1]"
   ]
  },
  {
   "cell_type": "code",
   "execution_count": 11,
   "metadata": {
    "execution": {
     "iopub.execute_input": "2020-12-03T12:07:11.105231Z",
     "iopub.status.busy": "2020-12-03T12:07:11.104368Z",
     "iopub.status.idle": "2020-12-03T12:07:11.110727Z",
     "shell.execute_reply": "2020-12-03T12:07:11.111211Z"
    },
    "papermill": {
     "duration": 0.046337,
     "end_time": "2020-12-03T12:07:11.111354",
     "exception": false,
     "start_time": "2020-12-03T12:07:11.065017",
     "status": "completed"
    },
    "tags": []
   },
   "outputs": [],
   "source": [
    "#hide\n",
    "dfc_cases = dft_cases.groupby(COL_REGION)[dt_today].sum()\n",
    "dfc_deaths = dft_deaths.groupby(COL_REGION)[dt_today].sum()\n",
    "# dfp_cases = dft_cases.groupby(COL_REGION)[dt_5day].sum()\n",
    "# dfp_deaths = dft_deaths.groupby(COL_REGION)[dt_5day].sum()\n",
    "dfp_cases = dft_cases.groupby(COL_REGION)[dt_yday].sum()\n",
    "dfp_deaths = dft_deaths.groupby(COL_REGION)[dt_yday].sum()"
   ]
  },
  {
   "cell_type": "code",
   "execution_count": 12,
   "metadata": {
    "execution": {
     "iopub.execute_input": "2020-12-03T12:07:11.182330Z",
     "iopub.status.busy": "2020-12-03T12:07:11.181682Z",
     "iopub.status.idle": "2020-12-03T12:07:11.186292Z",
     "shell.execute_reply": "2020-12-03T12:07:11.186899Z"
    },
    "papermill": {
     "duration": 0.043161,
     "end_time": "2020-12-03T12:07:11.187059",
     "exception": false,
     "start_time": "2020-12-03T12:07:11.143898",
     "status": "completed"
    },
    "tags": []
   },
   "outputs": [],
   "source": [
    "#hide\n",
    "df_table = (pd.DataFrame(dict(Cases = dfc_cases, Deaths = dfc_deaths, PCases = dfp_cases, PDeaths = dfp_deaths))\n",
    "            .sort_values(by = ['Cases','Deaths'], ascending = [False, False])\n",
    "            .reset_index())"
   ]
  },
  {
   "cell_type": "code",
   "execution_count": 13,
   "metadata": {
    "execution": {
     "iopub.execute_input": "2020-12-03T12:07:11.268021Z",
     "iopub.status.busy": "2020-12-03T12:07:11.267399Z",
     "iopub.status.idle": "2020-12-03T12:07:11.275441Z",
     "shell.execute_reply": "2020-12-03T12:07:11.275934Z"
    },
    "papermill": {
     "duration": 0.058207,
     "end_time": "2020-12-03T12:07:11.276084",
     "exception": false,
     "start_time": "2020-12-03T12:07:11.217877",
     "status": "completed"
    },
    "tags": []
   },
   "outputs": [
    {
     "data": {
      "text/html": [
       "<div>\n",
       "<style scoped>\n",
       "    .dataframe tbody tr th:only-of-type {\n",
       "        vertical-align: middle;\n",
       "    }\n",
       "\n",
       "    .dataframe tbody tr th {\n",
       "        vertical-align: top;\n",
       "    }\n",
       "\n",
       "    .dataframe thead th {\n",
       "        text-align: right;\n",
       "    }\n",
       "</style>\n",
       "<table border=\"1\" class=\"dataframe\">\n",
       "  <thead>\n",
       "    <tr style=\"text-align: right;\">\n",
       "      <th></th>\n",
       "      <th>Country/Region</th>\n",
       "      <th>Cases</th>\n",
       "      <th>Deaths</th>\n",
       "      <th>PCases</th>\n",
       "      <th>PDeaths</th>\n",
       "      <th>Cases (+)</th>\n",
       "      <th>Deaths (+)</th>\n",
       "      <th>Fatality Rate</th>\n",
       "      <th>Continent</th>\n",
       "    </tr>\n",
       "  </thead>\n",
       "  <tbody>\n",
       "    <tr>\n",
       "      <th>0</th>\n",
       "      <td>US</td>\n",
       "      <td>13921374</td>\n",
       "      <td>273799</td>\n",
       "      <td>13721304</td>\n",
       "      <td>270642</td>\n",
       "      <td>200070</td>\n",
       "      <td>3157</td>\n",
       "      <td>1.97</td>\n",
       "      <td>North America</td>\n",
       "    </tr>\n",
       "    <tr>\n",
       "      <th>1</th>\n",
       "      <td>India</td>\n",
       "      <td>9534964</td>\n",
       "      <td>138648</td>\n",
       "      <td>9499413</td>\n",
       "      <td>138122</td>\n",
       "      <td>35551</td>\n",
       "      <td>526</td>\n",
       "      <td>1.45</td>\n",
       "      <td>Asia</td>\n",
       "    </tr>\n",
       "    <tr>\n",
       "      <th>2</th>\n",
       "      <td>Brazil</td>\n",
       "      <td>6436650</td>\n",
       "      <td>174515</td>\n",
       "      <td>6386787</td>\n",
       "      <td>173817</td>\n",
       "      <td>49863</td>\n",
       "      <td>698</td>\n",
       "      <td>2.71</td>\n",
       "      <td>South America</td>\n",
       "    </tr>\n",
       "    <tr>\n",
       "      <th>3</th>\n",
       "      <td>Russia</td>\n",
       "      <td>2327105</td>\n",
       "      <td>40630</td>\n",
       "      <td>2302062</td>\n",
       "      <td>40050</td>\n",
       "      <td>25043</td>\n",
       "      <td>580</td>\n",
       "      <td>1.75</td>\n",
       "      <td>Europe</td>\n",
       "    </tr>\n",
       "    <tr>\n",
       "      <th>4</th>\n",
       "      <td>France</td>\n",
       "      <td>2275677</td>\n",
       "      <td>52822</td>\n",
       "      <td>2275429</td>\n",
       "      <td>52821</td>\n",
       "      <td>248</td>\n",
       "      <td>1</td>\n",
       "      <td>2.32</td>\n",
       "      <td>Europe</td>\n",
       "    </tr>\n",
       "  </tbody>\n",
       "</table>\n",
       "</div>"
      ],
      "text/plain": [
       "  Country/Region     Cases  Deaths    PCases  PDeaths  Cases (+)  Deaths (+)  \\\n",
       "0             US  13921374  273799  13721304   270642     200070        3157   \n",
       "1          India   9534964  138648   9499413   138122      35551         526   \n",
       "2         Brazil   6436650  174515   6386787   173817      49863         698   \n",
       "3         Russia   2327105   40630   2302062    40050      25043         580   \n",
       "4         France   2275677   52822   2275429    52821        248           1   \n",
       "\n",
       "   Fatality Rate      Continent  \n",
       "0           1.97  North America  \n",
       "1           1.45           Asia  \n",
       "2           2.71  South America  \n",
       "3           1.75         Europe  \n",
       "4           2.32         Europe  "
      ]
     },
     "execution_count": 13,
     "metadata": {},
     "output_type": "execute_result"
    }
   ],
   "source": [
    "#hide\n",
    "for c in 'Cases, Deaths'.split(', '):\n",
    "    df_table[f'{c} (+)'] = (df_table[c] - df_table[f'P{c}']).clip(0)\n",
    "    #Clip ça veut dire, les chiffres negatif sont interdit\n",
    "df_table['Fatality Rate'] = (100* df_table['Deaths']/ df_table['Cases']).round(2)\n",
    "df_table['Continent'] = df_table['Country/Region'].map(mapping['map.continent'])\n",
    "df_table.head(5)"
   ]
  },
  {
   "cell_type": "code",
   "execution_count": 14,
   "metadata": {
    "execution": {
     "iopub.execute_input": "2020-12-03T12:07:11.345679Z",
     "iopub.status.busy": "2020-12-03T12:07:11.344972Z",
     "iopub.status.idle": "2020-12-03T12:07:11.347258Z",
     "shell.execute_reply": "2020-12-03T12:07:11.347868Z"
    },
    "papermill": {
     "duration": 0.039816,
     "end_time": "2020-12-03T12:07:11.348011",
     "exception": false,
     "start_time": "2020-12-03T12:07:11.308195",
     "status": "completed"
    },
    "tags": []
   },
   "outputs": [],
   "source": [
    "#hide\n",
    "#delete problematic countries from table\n",
    "df_table = df_table[~df_table['Country/Region'].isin(['Cape Verde', 'Cruise Ship', 'Kosovo'])]"
   ]
  },
  {
   "cell_type": "code",
   "execution_count": 15,
   "metadata": {
    "execution": {
     "iopub.execute_input": "2020-12-03T12:07:11.422262Z",
     "iopub.status.busy": "2020-12-03T12:07:11.421558Z",
     "iopub.status.idle": "2020-12-03T12:07:11.441753Z",
     "shell.execute_reply": "2020-12-03T12:07:11.442352Z"
    },
    "papermill": {
     "duration": 0.062052,
     "end_time": "2020-12-03T12:07:11.442511",
     "exception": false,
     "start_time": "2020-12-03T12:07:11.380459",
     "status": "completed"
    },
    "tags": []
   },
   "outputs": [
    {
     "data": {
      "text/html": [
       "<div>\n",
       "<style scoped>\n",
       "    .dataframe tbody tr th:only-of-type {\n",
       "        vertical-align: middle;\n",
       "    }\n",
       "\n",
       "    .dataframe tbody tr th {\n",
       "        vertical-align: top;\n",
       "    }\n",
       "\n",
       "    .dataframe thead th {\n",
       "        text-align: right;\n",
       "    }\n",
       "</style>\n",
       "<table border=\"1\" class=\"dataframe\">\n",
       "  <thead>\n",
       "    <tr style=\"text-align: right;\">\n",
       "      <th></th>\n",
       "      <th>Country/Region</th>\n",
       "      <th>Cases</th>\n",
       "      <th>Deaths</th>\n",
       "      <th>PCases</th>\n",
       "      <th>PDeaths</th>\n",
       "      <th>Cases (+)</th>\n",
       "      <th>Deaths (+)</th>\n",
       "      <th>Fatality Rate</th>\n",
       "      <th>Continent</th>\n",
       "    </tr>\n",
       "  </thead>\n",
       "  <tbody>\n",
       "    <tr>\n",
       "      <th>0</th>\n",
       "      <td>US</td>\n",
       "      <td>13921374</td>\n",
       "      <td>273799</td>\n",
       "      <td>13721304</td>\n",
       "      <td>270642</td>\n",
       "      <td>200070</td>\n",
       "      <td>3157</td>\n",
       "      <td>2.0</td>\n",
       "      <td>North America</td>\n",
       "    </tr>\n",
       "    <tr>\n",
       "      <th>1</th>\n",
       "      <td>India</td>\n",
       "      <td>9534964</td>\n",
       "      <td>138648</td>\n",
       "      <td>9499413</td>\n",
       "      <td>138122</td>\n",
       "      <td>35551</td>\n",
       "      <td>526</td>\n",
       "      <td>1.5</td>\n",
       "      <td>Asia</td>\n",
       "    </tr>\n",
       "    <tr>\n",
       "      <th>2</th>\n",
       "      <td>Brazil</td>\n",
       "      <td>6436650</td>\n",
       "      <td>174515</td>\n",
       "      <td>6386787</td>\n",
       "      <td>173817</td>\n",
       "      <td>49863</td>\n",
       "      <td>698</td>\n",
       "      <td>2.7</td>\n",
       "      <td>South America</td>\n",
       "    </tr>\n",
       "    <tr>\n",
       "      <th>3</th>\n",
       "      <td>Russia</td>\n",
       "      <td>2327105</td>\n",
       "      <td>40630</td>\n",
       "      <td>2302062</td>\n",
       "      <td>40050</td>\n",
       "      <td>25043</td>\n",
       "      <td>580</td>\n",
       "      <td>1.7</td>\n",
       "      <td>Europe</td>\n",
       "    </tr>\n",
       "    <tr>\n",
       "      <th>4</th>\n",
       "      <td>France</td>\n",
       "      <td>2275677</td>\n",
       "      <td>52822</td>\n",
       "      <td>2275429</td>\n",
       "      <td>52821</td>\n",
       "      <td>248</td>\n",
       "      <td>1</td>\n",
       "      <td>2.3</td>\n",
       "      <td>Europe</td>\n",
       "    </tr>\n",
       "  </tbody>\n",
       "</table>\n",
       "</div>"
      ],
      "text/plain": [
       "  Country/Region     Cases  Deaths    PCases  PDeaths  Cases (+)  Deaths (+)  \\\n",
       "0             US  13921374  273799  13721304   270642     200070        3157   \n",
       "1          India   9534964  138648   9499413   138122      35551         526   \n",
       "2         Brazil   6436650  174515   6386787   173817      49863         698   \n",
       "3         Russia   2327105   40630   2302062    40050      25043         580   \n",
       "4         France   2275677   52822   2275429    52821        248           1   \n",
       "\n",
       "   Fatality Rate      Continent  \n",
       "0            2.0  North America  \n",
       "1            1.5           Asia  \n",
       "2            2.7  South America  \n",
       "3            1.7         Europe  \n",
       "4            2.3         Europe  "
      ]
     },
     "execution_count": 15,
     "metadata": {},
     "output_type": "execute_result"
    }
   ],
   "source": [
    "#hide\n",
    "df_table = (pd.DataFrame(dict(Cases=dfc_cases, Deaths=dfc_deaths, PCases=dfp_cases, PDeaths=dfp_deaths))\n",
    "             .sort_values(by=['Cases', 'Deaths'], ascending=[False, False])\n",
    "             .reset_index())\n",
    "df_table.rename(columns={'index': 'Country/Region'}, inplace=True)\n",
    "for c in 'Cases, Deaths'.split(', '):\n",
    "    df_table[f'{c} (+)'] = (df_table[c] - df_table[f'P{c}']).clip(0)  # DATA BUG\n",
    "df_table['Fatality Rate'] = (100 * df_table['Deaths'] / df_table['Cases']).round(1)\n",
    "df_table['Continent'] = df_table['Country/Region'].map(mapping['map.continent'])\n",
    "df_table.head(5)"
   ]
  },
  {
   "cell_type": "code",
   "execution_count": 16,
   "metadata": {
    "execution": {
     "iopub.execute_input": "2020-12-03T12:07:11.515274Z",
     "iopub.status.busy": "2020-12-03T12:07:11.514637Z",
     "iopub.status.idle": "2020-12-03T12:07:11.517111Z",
     "shell.execute_reply": "2020-12-03T12:07:11.516557Z"
    },
    "papermill": {
     "duration": 0.041712,
     "end_time": "2020-12-03T12:07:11.517246",
     "exception": false,
     "start_time": "2020-12-03T12:07:11.475534",
     "status": "completed"
    },
    "tags": []
   },
   "outputs": [],
   "source": [
    "#hide\n",
    "#delete problematic countries from table\n",
    "df_table = df_table[~df_table['Country/Region'].isin(['Cape Verde', 'Cruise Ship', 'Kosovo'])]"
   ]
  },
  {
   "cell_type": "code",
   "execution_count": 17,
   "metadata": {
    "execution": {
     "iopub.execute_input": "2020-12-03T12:07:11.604105Z",
     "iopub.status.busy": "2020-12-03T12:07:11.603426Z",
     "iopub.status.idle": "2020-12-03T12:07:11.606011Z",
     "shell.execute_reply": "2020-12-03T12:07:11.605322Z"
    },
    "papermill": {
     "duration": 0.05576,
     "end_time": "2020-12-03T12:07:11.606149",
     "exception": false,
     "start_time": "2020-12-03T12:07:11.550389",
     "status": "completed"
    },
    "tags": []
   },
   "outputs": [],
   "source": [
    "#hide\n",
    "metrics = [df_table.columns[index] for index in [1,2,5,6]]\n",
    "# s_china = df_table[df_table['Country/Region'].eq('China')][metrics].sum().add_prefix('China ')\n",
    "s_us = df_table[df_table['Country/Region'].eq('US')][metrics].sum().add_prefix('US ')\n",
    "s_eu = df_table[df_table['Continent'].eq('Europe')][metrics].sum().add_prefix('EU ')\n",
    "s_ind = df_table[df_table['Country/Region'].eq('India')][metrics].sum().add_prefix('India ')\n",
    "summary = {'updated': pd.to_datetime(dt_today), 'since': pd.to_datetime(dt_yday)}\n",
    "summary = {'updated': pd.to_datetime(dt_today), 'since': pd.to_datetime(dt_yday)}\n",
    "summary = {**summary, **df_table[metrics].sum(), **s_ind, **s_us, **s_eu}"
   ]
  },
  {
   "cell_type": "code",
   "execution_count": 18,
   "metadata": {
    "execution": {
     "iopub.execute_input": "2020-12-03T12:07:11.678256Z",
     "iopub.status.busy": "2020-12-03T12:07:11.677600Z",
     "iopub.status.idle": "2020-12-03T12:07:11.685701Z",
     "shell.execute_reply": "2020-12-03T12:07:11.686263Z"
    },
    "papermill": {
     "duration": 0.047633,
     "end_time": "2020-12-03T12:07:11.686410",
     "exception": false,
     "start_time": "2020-12-03T12:07:11.638777",
     "status": "completed"
    },
    "tags": []
   },
   "outputs": [],
   "source": [
    "#hide\n",
    "dft_ct_new_cases = dft_cases.groupby(COL_REGION)[dt_cols].sum().diff(axis=1).fillna(0).astype(int)"
   ]
  },
  {
   "cell_type": "code",
   "execution_count": 19,
   "metadata": {
    "execution": {
     "iopub.execute_input": "2020-12-03T12:07:11.757482Z",
     "iopub.status.busy": "2020-12-03T12:07:11.756850Z",
     "iopub.status.idle": "2020-12-03T12:07:11.758863Z",
     "shell.execute_reply": "2020-12-03T12:07:11.759361Z"
    },
    "papermill": {
     "duration": 0.03985,
     "end_time": "2020-12-03T12:07:11.759514",
     "exception": false,
     "start_time": "2020-12-03T12:07:11.719664",
     "status": "completed"
    },
    "tags": []
   },
   "outputs": [],
   "source": [
    "#hide\n",
    "everydaycases = dft_ct_new_cases.cumsum(axis=1)"
   ]
  },
  {
   "cell_type": "code",
   "execution_count": 20,
   "metadata": {
    "execution": {
     "iopub.execute_input": "2020-12-03T12:07:11.829945Z",
     "iopub.status.busy": "2020-12-03T12:07:11.829244Z",
     "iopub.status.idle": "2020-12-03T12:07:13.796139Z",
     "shell.execute_reply": "2020-12-03T12:07:13.796656Z"
    },
    "papermill": {
     "duration": 2.00407,
     "end_time": "2020-12-03T12:07:13.796830",
     "exception": false,
     "start_time": "2020-12-03T12:07:11.792760",
     "status": "completed"
    },
    "tags": []
   },
   "outputs": [],
   "source": [
    "#hide\n",
    "import pandas as pd\n",
    "import matplotlib.pyplot as plt\n",
    "import matplotlib.ticker as ticker\n",
    "import matplotlib.animation as animation\n",
    "from IPython.display import HTML"
   ]
  },
  {
   "cell_type": "code",
   "execution_count": 21,
   "metadata": {
    "execution": {
     "iopub.execute_input": "2020-12-03T12:07:13.870661Z",
     "iopub.status.busy": "2020-12-03T12:07:13.869911Z",
     "iopub.status.idle": "2020-12-03T12:07:13.874452Z",
     "shell.execute_reply": "2020-12-03T12:07:13.875090Z"
    },
    "papermill": {
     "duration": 0.044562,
     "end_time": "2020-12-03T12:07:13.875246",
     "exception": false,
     "start_time": "2020-12-03T12:07:13.830684",
     "status": "completed"
    },
    "tags": []
   },
   "outputs": [],
   "source": [
    "#hide\n",
    "t = everydaycases.stack()"
   ]
  },
  {
   "cell_type": "code",
   "execution_count": 22,
   "metadata": {
    "execution": {
     "iopub.execute_input": "2020-12-03T12:07:13.945874Z",
     "iopub.status.busy": "2020-12-03T12:07:13.945216Z",
     "iopub.status.idle": "2020-12-03T12:07:13.952397Z",
     "shell.execute_reply": "2020-12-03T12:07:13.951774Z"
    },
    "papermill": {
     "duration": 0.043782,
     "end_time": "2020-12-03T12:07:13.952527",
     "exception": false,
     "start_time": "2020-12-03T12:07:13.908745",
     "status": "completed"
    },
    "tags": []
   },
   "outputs": [],
   "source": [
    "#hide\n",
    "g = t.reset_index(['Country/Region'])"
   ]
  },
  {
   "cell_type": "code",
   "execution_count": 23,
   "metadata": {
    "execution": {
     "iopub.execute_input": "2020-12-03T12:07:14.022627Z",
     "iopub.status.busy": "2020-12-03T12:07:14.021977Z",
     "iopub.status.idle": "2020-12-03T12:07:14.023922Z",
     "shell.execute_reply": "2020-12-03T12:07:14.024464Z"
    },
    "papermill": {
     "duration": 0.039265,
     "end_time": "2020-12-03T12:07:14.024607",
     "exception": false,
     "start_time": "2020-12-03T12:07:13.985342",
     "status": "completed"
    },
    "tags": []
   },
   "outputs": [],
   "source": [
    "#hide\n",
    "g.index.name = 'date'"
   ]
  },
  {
   "cell_type": "code",
   "execution_count": 24,
   "metadata": {
    "execution": {
     "iopub.execute_input": "2020-12-03T12:07:14.099161Z",
     "iopub.status.busy": "2020-12-03T12:07:14.098497Z",
     "iopub.status.idle": "2020-12-03T12:07:14.101181Z",
     "shell.execute_reply": "2020-12-03T12:07:14.100616Z"
    },
    "papermill": {
     "duration": 0.040026,
     "end_time": "2020-12-03T12:07:14.101317",
     "exception": false,
     "start_time": "2020-12-03T12:07:14.061291",
     "status": "completed"
    },
    "tags": []
   },
   "outputs": [],
   "source": [
    "# #hide\n",
    "# g = g.reset_index(['date'])"
   ]
  },
  {
   "cell_type": "code",
   "execution_count": 25,
   "metadata": {
    "execution": {
     "iopub.execute_input": "2020-12-03T12:07:14.284301Z",
     "iopub.status.busy": "2020-12-03T12:07:14.283627Z",
     "iopub.status.idle": "2020-12-03T12:07:14.286297Z",
     "shell.execute_reply": "2020-12-03T12:07:14.285767Z"
    },
    "papermill": {
     "duration": 0.150471,
     "end_time": "2020-12-03T12:07:14.286443",
     "exception": false,
     "start_time": "2020-12-03T12:07:14.135972",
     "status": "completed"
    },
    "tags": []
   },
   "outputs": [],
   "source": [
    "#hide\n",
    "# g.head()"
   ]
  },
  {
   "cell_type": "code",
   "execution_count": 26,
   "metadata": {
    "execution": {
     "iopub.execute_input": "2020-12-03T12:07:14.355070Z",
     "iopub.status.busy": "2020-12-03T12:07:14.354350Z",
     "iopub.status.idle": "2020-12-03T12:07:14.357058Z",
     "shell.execute_reply": "2020-12-03T12:07:14.356523Z"
    },
    "papermill": {
     "duration": 0.038158,
     "end_time": "2020-12-03T12:07:14.357190",
     "exception": false,
     "start_time": "2020-12-03T12:07:14.319032",
     "status": "completed"
    },
    "tags": []
   },
   "outputs": [],
   "source": [
    "#hide\n",
    "# g.columns = ['date','country','cases']"
   ]
  },
  {
   "cell_type": "code",
   "execution_count": 27,
   "metadata": {
    "execution": {
     "iopub.execute_input": "2020-12-03T12:07:14.430618Z",
     "iopub.status.busy": "2020-12-03T12:07:14.429954Z",
     "iopub.status.idle": "2020-12-03T12:07:14.431931Z",
     "shell.execute_reply": "2020-12-03T12:07:14.432523Z"
    },
    "papermill": {
     "duration": 0.042456,
     "end_time": "2020-12-03T12:07:14.432677",
     "exception": false,
     "start_time": "2020-12-03T12:07:14.390221",
     "status": "completed"
    },
    "tags": []
   },
   "outputs": [],
   "source": [
    "#hide\n",
    "# g['continent'] = g.country"
   ]
  },
  {
   "cell_type": "code",
   "execution_count": 28,
   "metadata": {
    "execution": {
     "iopub.execute_input": "2020-12-03T12:07:14.504548Z",
     "iopub.status.busy": "2020-12-03T12:07:14.503897Z",
     "iopub.status.idle": "2020-12-03T12:07:14.506531Z",
     "shell.execute_reply": "2020-12-03T12:07:14.505976Z"
    },
    "papermill": {
     "duration": 0.03976,
     "end_time": "2020-12-03T12:07:14.506662",
     "exception": false,
     "start_time": "2020-12-03T12:07:14.466902",
     "status": "completed"
    },
    "tags": []
   },
   "outputs": [],
   "source": [
    "#hide\n",
    "# cols = list(g.columns.values)"
   ]
  },
  {
   "cell_type": "code",
   "execution_count": 29,
   "metadata": {
    "execution": {
     "iopub.execute_input": "2020-12-03T12:07:14.581733Z",
     "iopub.status.busy": "2020-12-03T12:07:14.581071Z",
     "iopub.status.idle": "2020-12-03T12:07:14.582978Z",
     "shell.execute_reply": "2020-12-03T12:07:14.583586Z"
    },
    "papermill": {
     "duration": 0.04429,
     "end_time": "2020-12-03T12:07:14.583732",
     "exception": false,
     "start_time": "2020-12-03T12:07:14.539442",
     "status": "completed"
    },
    "tags": []
   },
   "outputs": [],
   "source": [
    "#hide\n",
    "# cols.insert(0, cols.pop())"
   ]
  },
  {
   "cell_type": "code",
   "execution_count": 30,
   "metadata": {
    "execution": {
     "iopub.execute_input": "2020-12-03T12:07:14.652809Z",
     "iopub.status.busy": "2020-12-03T12:07:14.652107Z",
     "iopub.status.idle": "2020-12-03T12:07:14.654054Z",
     "shell.execute_reply": "2020-12-03T12:07:14.654552Z"
    },
    "papermill": {
     "duration": 0.037961,
     "end_time": "2020-12-03T12:07:14.654693",
     "exception": false,
     "start_time": "2020-12-03T12:07:14.616732",
     "status": "completed"
    },
    "tags": []
   },
   "outputs": [],
   "source": [
    "#hide\n",
    "# g = g[cols]"
   ]
  },
  {
   "cell_type": "code",
   "execution_count": 31,
   "metadata": {
    "execution": {
     "iopub.execute_input": "2020-12-03T12:07:14.724786Z",
     "iopub.status.busy": "2020-12-03T12:07:14.724121Z",
     "iopub.status.idle": "2020-12-03T12:07:14.726706Z",
     "shell.execute_reply": "2020-12-03T12:07:14.727360Z"
    },
    "papermill": {
     "duration": 0.04018,
     "end_time": "2020-12-03T12:07:14.727512",
     "exception": false,
     "start_time": "2020-12-03T12:07:14.687332",
     "status": "completed"
    },
    "tags": []
   },
   "outputs": [],
   "source": [
    "#hide\n",
    "# g['continent'] = g['continent'].map(mapping['map.continent'])"
   ]
  },
  {
   "cell_type": "code",
   "execution_count": 32,
   "metadata": {
    "execution": {
     "iopub.execute_input": "2020-12-03T12:07:14.800308Z",
     "iopub.status.busy": "2020-12-03T12:07:14.799601Z",
     "iopub.status.idle": "2020-12-03T12:07:14.802350Z",
     "shell.execute_reply": "2020-12-03T12:07:14.801773Z"
    },
    "papermill": {
     "duration": 0.041224,
     "end_time": "2020-12-03T12:07:14.802500",
     "exception": false,
     "start_time": "2020-12-03T12:07:14.761276",
     "status": "completed"
    },
    "tags": []
   },
   "outputs": [],
   "source": [
    "#hide\n",
    "# g.head()"
   ]
  },
  {
   "cell_type": "code",
   "execution_count": 33,
   "metadata": {
    "execution": {
     "iopub.execute_input": "2020-12-03T12:07:14.872835Z",
     "iopub.status.busy": "2020-12-03T12:07:14.872199Z",
     "iopub.status.idle": "2020-12-03T12:07:14.874195Z",
     "shell.execute_reply": "2020-12-03T12:07:14.874726Z"
    },
    "papermill": {
     "duration": 0.039105,
     "end_time": "2020-12-03T12:07:14.874868",
     "exception": false,
     "start_time": "2020-12-03T12:07:14.835763",
     "status": "completed"
    },
    "tags": []
   },
   "outputs": [],
   "source": [
    "# hide\n",
    "# g['date'] = g['date'].astype('datetime64[ns]')"
   ]
  },
  {
   "cell_type": "code",
   "execution_count": 34,
   "metadata": {
    "execution": {
     "iopub.execute_input": "2020-12-03T12:07:14.945037Z",
     "iopub.status.busy": "2020-12-03T12:07:14.944405Z",
     "iopub.status.idle": "2020-12-03T12:07:14.946932Z",
     "shell.execute_reply": "2020-12-03T12:07:14.946397Z"
    },
    "papermill": {
     "duration": 0.038788,
     "end_time": "2020-12-03T12:07:14.947064",
     "exception": false,
     "start_time": "2020-12-03T12:07:14.908276",
     "status": "completed"
    },
    "tags": []
   },
   "outputs": [],
   "source": [
    "#hide\n",
    "# g['date'] = g.date.dt.dayofyear"
   ]
  },
  {
   "cell_type": "code",
   "execution_count": 35,
   "metadata": {
    "execution": {
     "iopub.execute_input": "2020-12-03T12:07:15.017493Z",
     "iopub.status.busy": "2020-12-03T12:07:15.016845Z",
     "iopub.status.idle": "2020-12-03T12:07:15.018784Z",
     "shell.execute_reply": "2020-12-03T12:07:15.019341Z"
    },
    "papermill": {
     "duration": 0.038956,
     "end_time": "2020-12-03T12:07:15.019484",
     "exception": false,
     "start_time": "2020-12-03T12:07:14.980528",
     "status": "completed"
    },
    "tags": []
   },
   "outputs": [],
   "source": [
    "#hide\n",
    "# g = g.rename(columns= {'continent':'group','country':'name','cases':'value'})"
   ]
  },
  {
   "cell_type": "code",
   "execution_count": 36,
   "metadata": {
    "execution": {
     "iopub.execute_input": "2020-12-03T12:07:15.092553Z",
     "iopub.status.busy": "2020-12-03T12:07:15.091915Z",
     "iopub.status.idle": "2020-12-03T12:07:15.094516Z",
     "shell.execute_reply": "2020-12-03T12:07:15.093999Z"
    },
    "papermill": {
     "duration": 0.042327,
     "end_time": "2020-12-03T12:07:15.094641",
     "exception": false,
     "start_time": "2020-12-03T12:07:15.052314",
     "status": "completed"
    },
    "tags": []
   },
   "outputs": [],
   "source": [
    "#hide\n",
    "# cols = ['name','group','day','value']"
   ]
  },
  {
   "cell_type": "code",
   "execution_count": 37,
   "metadata": {
    "execution": {
     "iopub.execute_input": "2020-12-03T12:07:15.163617Z",
     "iopub.status.busy": "2020-12-03T12:07:15.162955Z",
     "iopub.status.idle": "2020-12-03T12:07:15.165002Z",
     "shell.execute_reply": "2020-12-03T12:07:15.165510Z"
    },
    "papermill": {
     "duration": 0.038633,
     "end_time": "2020-12-03T12:07:15.165678",
     "exception": false,
     "start_time": "2020-12-03T12:07:15.127045",
     "status": "completed"
    },
    "tags": []
   },
   "outputs": [],
   "source": [
    "#hide\n",
    "# g.rename(columns= {'date':'day'},inplace = True)"
   ]
  },
  {
   "cell_type": "code",
   "execution_count": 38,
   "metadata": {
    "execution": {
     "iopub.execute_input": "2020-12-03T12:07:15.237359Z",
     "iopub.status.busy": "2020-12-03T12:07:15.236706Z",
     "iopub.status.idle": "2020-12-03T12:07:15.238666Z",
     "shell.execute_reply": "2020-12-03T12:07:15.239295Z"
    },
    "papermill": {
     "duration": 0.040309,
     "end_time": "2020-12-03T12:07:15.239441",
     "exception": false,
     "start_time": "2020-12-03T12:07:15.199132",
     "status": "completed"
    },
    "tags": []
   },
   "outputs": [],
   "source": [
    "#hide\n",
    "# g = g[cols]"
   ]
  },
  {
   "cell_type": "code",
   "execution_count": 39,
   "metadata": {
    "execution": {
     "iopub.execute_input": "2020-12-03T12:07:15.308101Z",
     "iopub.status.busy": "2020-12-03T12:07:15.307359Z",
     "iopub.status.idle": "2020-12-03T12:07:15.309666Z",
     "shell.execute_reply": "2020-12-03T12:07:15.310141Z"
    },
    "papermill": {
     "duration": 0.038299,
     "end_time": "2020-12-03T12:07:15.310277",
     "exception": false,
     "start_time": "2020-12-03T12:07:15.271978",
     "status": "completed"
    },
    "tags": []
   },
   "outputs": [],
   "source": [
    "# #hide\n",
    "# g = g[g.group.notna()]"
   ]
  },
  {
   "cell_type": "code",
   "execution_count": 40,
   "metadata": {
    "execution": {
     "iopub.execute_input": "2020-12-03T12:07:15.378530Z",
     "iopub.status.busy": "2020-12-03T12:07:15.377866Z",
     "iopub.status.idle": "2020-12-03T12:07:15.380251Z",
     "shell.execute_reply": "2020-12-03T12:07:15.379735Z"
    },
    "papermill": {
     "duration": 0.038013,
     "end_time": "2020-12-03T12:07:15.380379",
     "exception": false,
     "start_time": "2020-12-03T12:07:15.342366",
     "status": "completed"
    },
    "tags": []
   },
   "outputs": [],
   "source": [
    "# #hide\n",
    "# colors = dict(zip(\n",
    "#     [\"Oceania\", \"Europe\", \"Asia\", \"South America\", \"Middle East\", \"North America\", \"Africa\"],\n",
    "#     [\"#adb0ff\", \"#ffb3ff\", \"#90d595\", \"#e48381\", \"#aafbff\", \"#f7bb5f\", \"#eafb50\"]\n",
    "# ))\n",
    "# group_lk = g.set_index('name')['group'].to_dict()"
   ]
  },
  {
   "cell_type": "code",
   "execution_count": null,
   "metadata": {
    "papermill": {
     "duration": 0.033097,
     "end_time": "2020-12-03T12:07:15.446277",
     "exception": false,
     "start_time": "2020-12-03T12:07:15.413180",
     "status": "completed"
    },
    "tags": []
   },
   "outputs": [],
   "source": []
  },
  {
   "cell_type": "code",
   "execution_count": 41,
   "metadata": {
    "execution": {
     "iopub.execute_input": "2020-12-03T12:07:15.518096Z",
     "iopub.status.busy": "2020-12-03T12:07:15.517409Z",
     "iopub.status.idle": "2020-12-03T12:07:15.519296Z",
     "shell.execute_reply": "2020-12-03T12:07:15.519916Z"
    },
    "papermill": {
     "duration": 0.040132,
     "end_time": "2020-12-03T12:07:15.520066",
     "exception": false,
     "start_time": "2020-12-03T12:07:15.479934",
     "status": "completed"
    },
    "tags": []
   },
   "outputs": [],
   "source": [
    "# #hide\n",
    "# fig, ax = plt.subplots(figsize=(15, 8))\n",
    "\n",
    "# def draw_barchart(current_day):\n",
    "#     dff = g[g['day'].eq(current_day)].sort_values(by='value', ascending=True).tail(10)\n",
    "#     ax.clear()\n",
    "#     ax.barh(dff['name'], dff['value'], color=[colors[group_lk[x]] for x in dff['name']])\n",
    "#     dx = dff['value'].max() / 200\n",
    "    \n",
    "#     for i, (value, name) in enumerate(zip(dff['value'], dff['name'])):\n",
    "#         ax.text(value-dx, i,     name,           size=14, weight=600, ha='right', va='bottom')\n",
    "#         ax.text(value-dx, i-.25, group_lk[name], size=10, color='#444444', ha='right', va='baseline')\n",
    "#         ax.text(value+dx, i,     f'{value:,.0f}',  size=14, ha='left',  va='center')\n",
    "#     ax.text(1, 0.4, current_day, transform=ax.transAxes, color='#777777', size=46, ha='right', weight=800)\n",
    "#     ax.text(0, 1.06, 'Population (thousands)', transform=ax.transAxes, size=12, color='#777777')\n",
    "#     ax.xaxis.set_major_formatter(ticker.StrMethodFormatter('{x:,.0f}'))\n",
    "#     ax.xaxis.set_ticks_position('top')\n",
    "#     ax.tick_params(axis='x', colors='#777777', labelsize=12)\n",
    "#     ax.set_yticks([])\n",
    "#     ax.margins(0, 0.01)\n",
    "#     ax.grid(which='major', axis='x', linestyle='-')\n",
    "#     ax.set_axisbelow(True)\n",
    "    \n",
    "#     ax.text(0, 1.15, 'Coronavirus',\n",
    "#             transform=ax.transAxes, size=24, weight=600, ha='left', va='top')\n",
    "# #     ax.text(1, 0, 'by @pratapvardhan; credit @jburnmurdoch', transform=ax.transAxes, color='#777777', ha='right',\n",
    "# #             bbox=dict(facecolor='white', alpha=0.8, edgecolor='white'))\n",
    "#     plt.box(False)"
   ]
  },
  {
   "cell_type": "code",
   "execution_count": 42,
   "metadata": {
    "execution": {
     "iopub.execute_input": "2020-12-03T12:07:15.601705Z",
     "iopub.status.busy": "2020-12-03T12:07:15.600964Z",
     "iopub.status.idle": "2020-12-03T12:07:15.602932Z",
     "shell.execute_reply": "2020-12-03T12:07:15.603506Z"
    },
    "papermill": {
     "duration": 0.050546,
     "end_time": "2020-12-03T12:07:15.603657",
     "exception": false,
     "start_time": "2020-12-03T12:07:15.553111",
     "status": "completed"
    },
    "tags": []
   },
   "outputs": [],
   "source": [
    "# #hide_input\n",
    "# fig, ax = plt.subplots(figsize=(15, 8))\n",
    "# animator = animation.FuncAnimation(fig, draw_barchart, frames=range(g.day.values.min(), g.day.values.max()))\n",
    "# HTML(animator.to_jshtml())\n",
    "# # or use animator.to_html5_video() or animator.save() "
   ]
  },
  {
   "cell_type": "code",
   "execution_count": null,
   "metadata": {
    "papermill": {
     "duration": 0.032684,
     "end_time": "2020-12-03T12:07:15.669494",
     "exception": false,
     "start_time": "2020-12-03T12:07:15.636810",
     "status": "completed"
    },
    "tags": []
   },
   "outputs": [],
   "source": []
  },
  {
   "cell_type": "code",
   "execution_count": null,
   "metadata": {
    "papermill": {
     "duration": 0.032265,
     "end_time": "2020-12-03T12:07:15.734067",
     "exception": false,
     "start_time": "2020-12-03T12:07:15.701802",
     "status": "completed"
    },
    "tags": []
   },
   "outputs": [],
   "source": []
  },
  {
   "cell_type": "code",
   "execution_count": null,
   "metadata": {
    "papermill": {
     "duration": 0.033027,
     "end_time": "2020-12-03T12:07:15.799117",
     "exception": false,
     "start_time": "2020-12-03T12:07:15.766090",
     "status": "completed"
    },
    "tags": []
   },
   "outputs": [],
   "source": []
  }
 ],
 "metadata": {
  "kernelspec": {
   "display_name": "Python 3",
   "language": "python",
   "name": "python3"
  },
  "language_info": {
   "codemirror_mode": {
    "name": "ipython",
    "version": 3
   },
   "file_extension": ".py",
   "mimetype": "text/x-python",
   "name": "python",
   "nbconvert_exporter": "python",
   "pygments_lexer": "ipython3",
   "version": "3.6.12"
  },
  "papermill": {
   "duration": 7.726237,
   "end_time": "2020-12-03T12:07:16.138405",
   "environment_variables": {},
   "exception": null,
   "input_path": "2020-03-21-covid19exp.ipynb",
   "output_path": "2020-03-21-covid19exp.ipynb",
   "parameters": {},
   "start_time": "2020-12-03T12:07:08.412168",
   "version": "2.0.0"
  }
 },
 "nbformat": 4,
 "nbformat_minor": 4
}