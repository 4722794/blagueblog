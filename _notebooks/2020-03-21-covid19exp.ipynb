{
 "cells": [
  {
   "cell_type": "markdown",
   "id": "muslim-click",
   "metadata": {
    "papermill": {
     "duration": 0.042442,
     "end_time": "2021-08-01T00:23:33.099860",
     "exception": false,
     "start_time": "2021-08-01T00:23:33.057418",
     "status": "completed"
    },
    "tags": []
   },
   "source": [
    "# COVID-19 Case Race\n",
    "> A race chart to see rising cases around the world\n",
    "\n",
    "- author: Hargun Oberoi\n",
    "- image: images/covid-overview.png\n",
    "- hide: false\n",
    "- badges: false"
   ]
  },
  {
   "cell_type": "code",
   "execution_count": 1,
   "id": "proof-material",
   "metadata": {
    "execution": {
     "iopub.execute_input": "2021-08-01T00:23:33.182176Z",
     "iopub.status.busy": "2021-08-01T00:23:33.181456Z",
     "iopub.status.idle": "2021-08-01T00:23:33.550992Z",
     "shell.execute_reply": "2021-08-01T00:23:33.550412Z"
    },
    "papermill": {
     "duration": 0.415617,
     "end_time": "2021-08-01T00:23:33.551147",
     "exception": false,
     "start_time": "2021-08-01T00:23:33.135530",
     "status": "completed"
    },
    "tags": []
   },
   "outputs": [],
   "source": [
    "#hide\n",
    "import numpy as np\n",
    "import pandas as pd\n",
    "from jinja2 import Template\n",
    "from IPython.display import HTML"
   ]
  },
  {
   "cell_type": "code",
   "execution_count": 2,
   "id": "developed-terminology",
   "metadata": {
    "execution": {
     "iopub.execute_input": "2021-08-01T00:23:33.624518Z",
     "iopub.status.busy": "2021-08-01T00:23:33.623891Z",
     "iopub.status.idle": "2021-08-01T00:23:33.625956Z",
     "shell.execute_reply": "2021-08-01T00:23:33.626466Z"
    },
    "papermill": {
     "duration": 0.040653,
     "end_time": "2021-08-01T00:23:33.626591",
     "exception": false,
     "start_time": "2021-08-01T00:23:33.585938",
     "status": "completed"
    },
    "tags": []
   },
   "outputs": [],
   "source": [
    "#hide\n",
    "\n",
    "# FETCH\n",
    "base_url = 'https://raw.githubusercontent.com/pratapvardhan/notebooks/master/covid19/'\n",
    "paths = {\n",
    "    'mapping': base_url + 'mapping_countries.csv',\n",
    "    'overview': base_url + 'overview.tpl'\n",
    "}"
   ]
  },
  {
   "cell_type": "code",
   "execution_count": 3,
   "id": "dynamic-saver",
   "metadata": {
    "execution": {
     "iopub.execute_input": "2021-08-01T00:23:33.702679Z",
     "iopub.status.busy": "2021-08-01T00:23:33.700380Z",
     "iopub.status.idle": "2021-08-01T00:23:33.705613Z",
     "shell.execute_reply": "2021-08-01T00:23:33.706084Z"
    },
    "papermill": {
     "duration": 0.046964,
     "end_time": "2021-08-01T00:23:33.706209",
     "exception": false,
     "start_time": "2021-08-01T00:23:33.659245",
     "status": "completed"
    },
    "tags": []
   },
   "outputs": [
    {
     "data": {
      "text/plain": [
       "'https://raw.githubusercontent.com/pratapvardhan/notebooks/master/covid19/mapping_countries.csv'"
      ]
     },
     "execution_count": 3,
     "metadata": {},
     "output_type": "execute_result"
    }
   ],
   "source": [
    "#hide\n",
    "paths['mapping']"
   ]
  },
  {
   "cell_type": "code",
   "execution_count": 4,
   "id": "urban-software",
   "metadata": {
    "execution": {
     "iopub.execute_input": "2021-08-01T00:23:33.778277Z",
     "iopub.status.busy": "2021-08-01T00:23:33.777679Z",
     "iopub.status.idle": "2021-08-01T00:23:33.779912Z",
     "shell.execute_reply": "2021-08-01T00:23:33.780468Z"
    },
    "papermill": {
     "duration": 0.040294,
     "end_time": "2021-08-01T00:23:33.780591",
     "exception": false,
     "start_time": "2021-08-01T00:23:33.740297",
     "status": "completed"
    },
    "tags": []
   },
   "outputs": [],
   "source": [
    "#hide\n",
    "def get_mappings(url):\n",
    "    df = pd.read_csv(url)\n",
    "    return {\n",
    "        'df': df,\n",
    "        'replace.country': dict(df.dropna(subset=['Name']).set_index('Country')['Name']),\n",
    "        'map.continent': dict(df.set_index('Name')['Continent'])\n",
    "    }"
   ]
  },
  {
   "cell_type": "code",
   "execution_count": 5,
   "id": "intimate-machinery",
   "metadata": {
    "execution": {
     "iopub.execute_input": "2021-08-01T00:23:33.853292Z",
     "iopub.status.busy": "2021-08-01T00:23:33.852591Z",
     "iopub.status.idle": "2021-08-01T00:23:33.898678Z",
     "shell.execute_reply": "2021-08-01T00:23:33.899204Z"
    },
    "papermill": {
     "duration": 0.086003,
     "end_time": "2021-08-01T00:23:33.899357",
     "exception": false,
     "start_time": "2021-08-01T00:23:33.813354",
     "status": "completed"
    },
    "tags": []
   },
   "outputs": [],
   "source": [
    "#hide\n",
    "mapping = get_mappings(paths['mapping'])"
   ]
  },
  {
   "cell_type": "code",
   "execution_count": 6,
   "id": "certified-tactics",
   "metadata": {
    "execution": {
     "iopub.execute_input": "2021-08-01T00:23:33.972622Z",
     "iopub.status.busy": "2021-08-01T00:23:33.971985Z",
     "iopub.status.idle": "2021-08-01T00:23:33.973958Z",
     "shell.execute_reply": "2021-08-01T00:23:33.974552Z"
    },
    "papermill": {
     "duration": 0.041031,
     "end_time": "2021-08-01T00:23:33.974684",
     "exception": false,
     "start_time": "2021-08-01T00:23:33.933653",
     "status": "completed"
    },
    "tags": []
   },
   "outputs": [],
   "source": [
    "#hide\n",
    "def get_template(path):\n",
    "    from urllib.parse import urlparse\n",
    "    if bool(urlparse(path).netloc):\n",
    "        from urllib.request import urlopen\n",
    "        return urlopen(path).read().decode('utf8')\n",
    "    return open(path).read()"
   ]
  },
  {
   "cell_type": "code",
   "execution_count": 7,
   "id": "realistic-blast",
   "metadata": {
    "execution": {
     "iopub.execute_input": "2021-08-01T00:23:34.052266Z",
     "iopub.status.busy": "2021-08-01T00:23:34.051603Z",
     "iopub.status.idle": "2021-08-01T00:23:34.054391Z",
     "shell.execute_reply": "2021-08-01T00:23:34.054935Z"
    },
    "papermill": {
     "duration": 0.045092,
     "end_time": "2021-08-01T00:23:34.055074",
     "exception": false,
     "start_time": "2021-08-01T00:23:34.009982",
     "status": "completed"
    },
    "tags": []
   },
   "outputs": [],
   "source": [
    "#hide\n",
    "def get_frame(name):\n",
    "    url = (\n",
    "        'https://raw.githubusercontent.com/CSSEGISandData/COVID-19/master/csse_covid_19_data/'\n",
    "        f'csse_covid_19_time_series/time_series_covid19_{name}_global.csv')\n",
    "    df = pd.read_csv(url)\n",
    "    # rename countries\n",
    "    df['Country/Region'] = df['Country/Region'].replace(mapping['replace.country'])\n",
    "    return df"
   ]
  },
  {
   "cell_type": "code",
   "execution_count": 8,
   "id": "affiliated-characterization",
   "metadata": {
    "execution": {
     "iopub.execute_input": "2021-08-01T00:23:34.135823Z",
     "iopub.status.busy": "2021-08-01T00:23:34.135162Z",
     "iopub.status.idle": "2021-08-01T00:23:34.137307Z",
     "shell.execute_reply": "2021-08-01T00:23:34.138080Z"
    },
    "papermill": {
     "duration": 0.046951,
     "end_time": "2021-08-01T00:23:34.138237",
     "exception": false,
     "start_time": "2021-08-01T00:23:34.091286",
     "status": "completed"
    },
    "tags": []
   },
   "outputs": [],
   "source": [
    "#hide\n",
    "def get_dates(df):\n",
    "    dt_cols = df.columns[~df.columns.isin(['Province/State', 'Country/Region', 'Lat', 'Long'])]\n",
    "    LAST_DATE_I = -1\n",
    "    # sometimes last column may be empty, then go backwards\n",
    "    for i in range(-1, -len(dt_cols), -1):\n",
    "        if not df[dt_cols[i]].fillna(0).eq(0).all():\n",
    "            LAST_DATE_I = i\n",
    "            break\n",
    "    return LAST_DATE_I, dt_cols"
   ]
  },
  {
   "cell_type": "code",
   "execution_count": 9,
   "id": "recent-optimization",
   "metadata": {
    "execution": {
     "iopub.execute_input": "2021-08-01T00:23:34.213105Z",
     "iopub.status.busy": "2021-08-01T00:23:34.212436Z",
     "iopub.status.idle": "2021-08-01T00:23:34.616265Z",
     "shell.execute_reply": "2021-08-01T00:23:34.616803Z"
    },
    "papermill": {
     "duration": 0.442193,
     "end_time": "2021-08-01T00:23:34.616987",
     "exception": false,
     "start_time": "2021-08-01T00:23:34.174794",
     "status": "completed"
    },
    "tags": []
   },
   "outputs": [],
   "source": [
    "#hide\n",
    "COL_REGION = 'Country/Region'\n",
    "# Confirmed, Recovered, Deaths\n",
    "df = get_frame('confirmed')\n",
    "# dft_: timeseries, dfc_: today country agg\n",
    "dft_cases = df\n",
    "dft_deaths = get_frame('deaths')\n",
    "dft_recovered = get_frame('recovered')\n",
    "LAST_DATE_I, dt_cols = get_dates(df)"
   ]
  },
  {
   "cell_type": "code",
   "execution_count": 10,
   "id": "absolute-copper",
   "metadata": {
    "execution": {
     "iopub.execute_input": "2021-08-01T00:23:34.698797Z",
     "iopub.status.busy": "2021-08-01T00:23:34.698078Z",
     "iopub.status.idle": "2021-08-01T00:23:34.699681Z",
     "shell.execute_reply": "2021-08-01T00:23:34.700346Z"
    },
    "papermill": {
     "duration": 0.045682,
     "end_time": "2021-08-01T00:23:34.700501",
     "exception": false,
     "start_time": "2021-08-01T00:23:34.654819",
     "status": "completed"
    },
    "tags": []
   },
   "outputs": [],
   "source": [
    "#hide\n",
    "LAST_DATE_I, dt_cols = get_dates(df)\n",
    "dt_today =dt_cols[LAST_DATE_I]\n",
    "# dt_5day = dt_cols[LAST_DATE_I - 5]\n",
    "dt_yday = dt_cols[LAST_DATE_I - 1]"
   ]
  },
  {
   "cell_type": "code",
   "execution_count": 11,
   "id": "restricted-sheriff",
   "metadata": {
    "execution": {
     "iopub.execute_input": "2021-08-01T00:23:34.785404Z",
     "iopub.status.busy": "2021-08-01T00:23:34.784708Z",
     "iopub.status.idle": "2021-08-01T00:23:34.790366Z",
     "shell.execute_reply": "2021-08-01T00:23:34.790948Z"
    },
    "papermill": {
     "duration": 0.054236,
     "end_time": "2021-08-01T00:23:34.791083",
     "exception": false,
     "start_time": "2021-08-01T00:23:34.736847",
     "status": "completed"
    },
    "tags": []
   },
   "outputs": [],
   "source": [
    "#hide\n",
    "dfc_cases = dft_cases.groupby(COL_REGION)[dt_today].sum()\n",
    "dfc_deaths = dft_deaths.groupby(COL_REGION)[dt_today].sum()\n",
    "# dfp_cases = dft_cases.groupby(COL_REGION)[dt_5day].sum()\n",
    "# dfp_deaths = dft_deaths.groupby(COL_REGION)[dt_5day].sum()\n",
    "dfp_cases = dft_cases.groupby(COL_REGION)[dt_yday].sum()\n",
    "dfp_deaths = dft_deaths.groupby(COL_REGION)[dt_yday].sum()"
   ]
  },
  {
   "cell_type": "code",
   "execution_count": 12,
   "id": "deluxe-hepatitis",
   "metadata": {
    "execution": {
     "iopub.execute_input": "2021-08-01T00:23:34.866577Z",
     "iopub.status.busy": "2021-08-01T00:23:34.864449Z",
     "iopub.status.idle": "2021-08-01T00:23:34.871234Z",
     "shell.execute_reply": "2021-08-01T00:23:34.870483Z"
    },
    "papermill": {
     "duration": 0.047329,
     "end_time": "2021-08-01T00:23:34.871351",
     "exception": false,
     "start_time": "2021-08-01T00:23:34.824022",
     "status": "completed"
    },
    "tags": []
   },
   "outputs": [],
   "source": [
    "#hide\n",
    "df_table = (pd.DataFrame(dict(Cases = dfc_cases, Deaths = dfc_deaths, PCases = dfp_cases, PDeaths = dfp_deaths))\n",
    "            .sort_values(by = ['Cases','Deaths'], ascending = [False, False])\n",
    "            .reset_index())"
   ]
  },
  {
   "cell_type": "code",
   "execution_count": 13,
   "id": "educational-chancellor",
   "metadata": {
    "execution": {
     "iopub.execute_input": "2021-08-01T00:23:34.960681Z",
     "iopub.status.busy": "2021-08-01T00:23:34.960068Z",
     "iopub.status.idle": "2021-08-01T00:23:34.968083Z",
     "shell.execute_reply": "2021-08-01T00:23:34.968653Z"
    },
    "papermill": {
     "duration": 0.061487,
     "end_time": "2021-08-01T00:23:34.968785",
     "exception": false,
     "start_time": "2021-08-01T00:23:34.907298",
     "status": "completed"
    },
    "tags": []
   },
   "outputs": [
    {
     "data": {
      "text/html": [
       "<div>\n",
       "<style scoped>\n",
       "    .dataframe tbody tr th:only-of-type {\n",
       "        vertical-align: middle;\n",
       "    }\n",
       "\n",
       "    .dataframe tbody tr th {\n",
       "        vertical-align: top;\n",
       "    }\n",
       "\n",
       "    .dataframe thead th {\n",
       "        text-align: right;\n",
       "    }\n",
       "</style>\n",
       "<table border=\"1\" class=\"dataframe\">\n",
       "  <thead>\n",
       "    <tr style=\"text-align: right;\">\n",
       "      <th></th>\n",
       "      <th>Country/Region</th>\n",
       "      <th>Cases</th>\n",
       "      <th>Deaths</th>\n",
       "      <th>PCases</th>\n",
       "      <th>PDeaths</th>\n",
       "      <th>Cases (+)</th>\n",
       "      <th>Deaths (+)</th>\n",
       "      <th>Fatality Rate</th>\n",
       "      <th>Continent</th>\n",
       "    </tr>\n",
       "  </thead>\n",
       "  <tbody>\n",
       "    <tr>\n",
       "      <th>0</th>\n",
       "      <td>US</td>\n",
       "      <td>34945468</td>\n",
       "      <td>613013</td>\n",
       "      <td>34750860</td>\n",
       "      <td>612122</td>\n",
       "      <td>194608</td>\n",
       "      <td>891</td>\n",
       "      <td>1.75</td>\n",
       "      <td>North America</td>\n",
       "    </tr>\n",
       "    <tr>\n",
       "      <th>1</th>\n",
       "      <td>India</td>\n",
       "      <td>31613993</td>\n",
       "      <td>423810</td>\n",
       "      <td>31572344</td>\n",
       "      <td>423217</td>\n",
       "      <td>41649</td>\n",
       "      <td>593</td>\n",
       "      <td>1.34</td>\n",
       "      <td>Asia</td>\n",
       "    </tr>\n",
       "    <tr>\n",
       "      <th>2</th>\n",
       "      <td>Brazil</td>\n",
       "      <td>19880273</td>\n",
       "      <td>555460</td>\n",
       "      <td>19839369</td>\n",
       "      <td>554497</td>\n",
       "      <td>40904</td>\n",
       "      <td>963</td>\n",
       "      <td>2.79</td>\n",
       "      <td>South America</td>\n",
       "    </tr>\n",
       "    <tr>\n",
       "      <th>3</th>\n",
       "      <td>France</td>\n",
       "      <td>6166690</td>\n",
       "      <td>112011</td>\n",
       "      <td>6142282</td>\n",
       "      <td>111951</td>\n",
       "      <td>24408</td>\n",
       "      <td>60</td>\n",
       "      <td>1.82</td>\n",
       "      <td>Europe</td>\n",
       "    </tr>\n",
       "    <tr>\n",
       "      <th>4</th>\n",
       "      <td>Russia</td>\n",
       "      <td>6161985</td>\n",
       "      <td>155180</td>\n",
       "      <td>6138969</td>\n",
       "      <td>154404</td>\n",
       "      <td>23016</td>\n",
       "      <td>776</td>\n",
       "      <td>2.52</td>\n",
       "      <td>Europe</td>\n",
       "    </tr>\n",
       "  </tbody>\n",
       "</table>\n",
       "</div>"
      ],
      "text/plain": [
       "  Country/Region     Cases  Deaths    PCases  PDeaths  Cases (+)  Deaths (+)  \\\n",
       "0             US  34945468  613013  34750860   612122     194608         891   \n",
       "1          India  31613993  423810  31572344   423217      41649         593   \n",
       "2         Brazil  19880273  555460  19839369   554497      40904         963   \n",
       "3         France   6166690  112011   6142282   111951      24408          60   \n",
       "4         Russia   6161985  155180   6138969   154404      23016         776   \n",
       "\n",
       "   Fatality Rate      Continent  \n",
       "0           1.75  North America  \n",
       "1           1.34           Asia  \n",
       "2           2.79  South America  \n",
       "3           1.82         Europe  \n",
       "4           2.52         Europe  "
      ]
     },
     "execution_count": 13,
     "metadata": {},
     "output_type": "execute_result"
    }
   ],
   "source": [
    "#hide\n",
    "for c in 'Cases, Deaths'.split(', '):\n",
    "    df_table[f'{c} (+)'] = (df_table[c] - df_table[f'P{c}']).clip(0)\n",
    "    #Clip ça veut dire, les chiffres negatif sont interdit\n",
    "df_table['Fatality Rate'] = (100* df_table['Deaths']/ df_table['Cases']).round(2)\n",
    "df_table['Continent'] = df_table['Country/Region'].map(mapping['map.continent'])\n",
    "df_table.head(5)"
   ]
  },
  {
   "cell_type": "code",
   "execution_count": 14,
   "id": "aboriginal-bulgaria",
   "metadata": {
    "execution": {
     "iopub.execute_input": "2021-08-01T00:23:35.044345Z",
     "iopub.status.busy": "2021-08-01T00:23:35.043642Z",
     "iopub.status.idle": "2021-08-01T00:23:35.046589Z",
     "shell.execute_reply": "2021-08-01T00:23:35.046029Z"
    },
    "papermill": {
     "duration": 0.043671,
     "end_time": "2021-08-01T00:23:35.046747",
     "exception": false,
     "start_time": "2021-08-01T00:23:35.003076",
     "status": "completed"
    },
    "tags": []
   },
   "outputs": [],
   "source": [
    "#hide\n",
    "#delete problematic countries from table\n",
    "df_table = df_table[~df_table['Country/Region'].isin(['Cape Verde', 'Cruise Ship', 'Kosovo'])]"
   ]
  },
  {
   "cell_type": "code",
   "execution_count": 15,
   "id": "fantastic-effect",
   "metadata": {
    "execution": {
     "iopub.execute_input": "2021-08-01T00:23:35.129764Z",
     "iopub.status.busy": "2021-08-01T00:23:35.129089Z",
     "iopub.status.idle": "2021-08-01T00:23:35.150342Z",
     "shell.execute_reply": "2021-08-01T00:23:35.151036Z"
    },
    "papermill": {
     "duration": 0.06714,
     "end_time": "2021-08-01T00:23:35.151200",
     "exception": false,
     "start_time": "2021-08-01T00:23:35.084060",
     "status": "completed"
    },
    "tags": []
   },
   "outputs": [
    {
     "data": {
      "text/html": [
       "<div>\n",
       "<style scoped>\n",
       "    .dataframe tbody tr th:only-of-type {\n",
       "        vertical-align: middle;\n",
       "    }\n",
       "\n",
       "    .dataframe tbody tr th {\n",
       "        vertical-align: top;\n",
       "    }\n",
       "\n",
       "    .dataframe thead th {\n",
       "        text-align: right;\n",
       "    }\n",
       "</style>\n",
       "<table border=\"1\" class=\"dataframe\">\n",
       "  <thead>\n",
       "    <tr style=\"text-align: right;\">\n",
       "      <th></th>\n",
       "      <th>Country/Region</th>\n",
       "      <th>Cases</th>\n",
       "      <th>Deaths</th>\n",
       "      <th>PCases</th>\n",
       "      <th>PDeaths</th>\n",
       "      <th>Cases (+)</th>\n",
       "      <th>Deaths (+)</th>\n",
       "      <th>Fatality Rate</th>\n",
       "      <th>Continent</th>\n",
       "    </tr>\n",
       "  </thead>\n",
       "  <tbody>\n",
       "    <tr>\n",
       "      <th>0</th>\n",
       "      <td>US</td>\n",
       "      <td>34945468</td>\n",
       "      <td>613013</td>\n",
       "      <td>34750860</td>\n",
       "      <td>612122</td>\n",
       "      <td>194608</td>\n",
       "      <td>891</td>\n",
       "      <td>1.8</td>\n",
       "      <td>North America</td>\n",
       "    </tr>\n",
       "    <tr>\n",
       "      <th>1</th>\n",
       "      <td>India</td>\n",
       "      <td>31613993</td>\n",
       "      <td>423810</td>\n",
       "      <td>31572344</td>\n",
       "      <td>423217</td>\n",
       "      <td>41649</td>\n",
       "      <td>593</td>\n",
       "      <td>1.3</td>\n",
       "      <td>Asia</td>\n",
       "    </tr>\n",
       "    <tr>\n",
       "      <th>2</th>\n",
       "      <td>Brazil</td>\n",
       "      <td>19880273</td>\n",
       "      <td>555460</td>\n",
       "      <td>19839369</td>\n",
       "      <td>554497</td>\n",
       "      <td>40904</td>\n",
       "      <td>963</td>\n",
       "      <td>2.8</td>\n",
       "      <td>South America</td>\n",
       "    </tr>\n",
       "    <tr>\n",
       "      <th>3</th>\n",
       "      <td>France</td>\n",
       "      <td>6166690</td>\n",
       "      <td>112011</td>\n",
       "      <td>6142282</td>\n",
       "      <td>111951</td>\n",
       "      <td>24408</td>\n",
       "      <td>60</td>\n",
       "      <td>1.8</td>\n",
       "      <td>Europe</td>\n",
       "    </tr>\n",
       "    <tr>\n",
       "      <th>4</th>\n",
       "      <td>Russia</td>\n",
       "      <td>6161985</td>\n",
       "      <td>155180</td>\n",
       "      <td>6138969</td>\n",
       "      <td>154404</td>\n",
       "      <td>23016</td>\n",
       "      <td>776</td>\n",
       "      <td>2.5</td>\n",
       "      <td>Europe</td>\n",
       "    </tr>\n",
       "  </tbody>\n",
       "</table>\n",
       "</div>"
      ],
      "text/plain": [
       "  Country/Region     Cases  Deaths    PCases  PDeaths  Cases (+)  Deaths (+)  \\\n",
       "0             US  34945468  613013  34750860   612122     194608         891   \n",
       "1          India  31613993  423810  31572344   423217      41649         593   \n",
       "2         Brazil  19880273  555460  19839369   554497      40904         963   \n",
       "3         France   6166690  112011   6142282   111951      24408          60   \n",
       "4         Russia   6161985  155180   6138969   154404      23016         776   \n",
       "\n",
       "   Fatality Rate      Continent  \n",
       "0            1.8  North America  \n",
       "1            1.3           Asia  \n",
       "2            2.8  South America  \n",
       "3            1.8         Europe  \n",
       "4            2.5         Europe  "
      ]
     },
     "execution_count": 15,
     "metadata": {},
     "output_type": "execute_result"
    }
   ],
   "source": [
    "#hide\n",
    "df_table = (pd.DataFrame(dict(Cases=dfc_cases, Deaths=dfc_deaths, PCases=dfp_cases, PDeaths=dfp_deaths))\n",
    "             .sort_values(by=['Cases', 'Deaths'], ascending=[False, False])\n",
    "             .reset_index())\n",
    "df_table.rename(columns={'index': 'Country/Region'}, inplace=True)\n",
    "for c in 'Cases, Deaths'.split(', '):\n",
    "    df_table[f'{c} (+)'] = (df_table[c] - df_table[f'P{c}']).clip(0)  # DATA BUG\n",
    "df_table['Fatality Rate'] = (100 * df_table['Deaths'] / df_table['Cases']).round(1)\n",
    "df_table['Continent'] = df_table['Country/Region'].map(mapping['map.continent'])\n",
    "df_table.head(5)"
   ]
  },
  {
   "cell_type": "code",
   "execution_count": 16,
   "id": "fewer-occasion",
   "metadata": {
    "execution": {
     "iopub.execute_input": "2021-08-01T00:23:35.229014Z",
     "iopub.status.busy": "2021-08-01T00:23:35.228395Z",
     "iopub.status.idle": "2021-08-01T00:23:35.230889Z",
     "shell.execute_reply": "2021-08-01T00:23:35.231459Z"
    },
    "papermill": {
     "duration": 0.043767,
     "end_time": "2021-08-01T00:23:35.231588",
     "exception": false,
     "start_time": "2021-08-01T00:23:35.187821",
     "status": "completed"
    },
    "tags": []
   },
   "outputs": [],
   "source": [
    "#hide\n",
    "#delete problematic countries from table\n",
    "df_table = df_table[~df_table['Country/Region'].isin(['Cape Verde', 'Cruise Ship', 'Kosovo'])]"
   ]
  },
  {
   "cell_type": "code",
   "execution_count": 17,
   "id": "related-center",
   "metadata": {
    "execution": {
     "iopub.execute_input": "2021-08-01T00:23:35.326163Z",
     "iopub.status.busy": "2021-08-01T00:23:35.325481Z",
     "iopub.status.idle": "2021-08-01T00:23:35.328136Z",
     "shell.execute_reply": "2021-08-01T00:23:35.327579Z"
    },
    "papermill": {
     "duration": 0.059695,
     "end_time": "2021-08-01T00:23:35.328270",
     "exception": false,
     "start_time": "2021-08-01T00:23:35.268575",
     "status": "completed"
    },
    "tags": []
   },
   "outputs": [],
   "source": [
    "#hide\n",
    "metrics = [df_table.columns[index] for index in [1,2,5,6]]\n",
    "# s_china = df_table[df_table['Country/Region'].eq('China')][metrics].sum().add_prefix('China ')\n",
    "s_us = df_table[df_table['Country/Region'].eq('US')][metrics].sum().add_prefix('US ')\n",
    "s_eu = df_table[df_table['Continent'].eq('Europe')][metrics].sum().add_prefix('EU ')\n",
    "s_ind = df_table[df_table['Country/Region'].eq('India')][metrics].sum().add_prefix('India ')\n",
    "summary = {'updated': pd.to_datetime(dt_today), 'since': pd.to_datetime(dt_yday)}\n",
    "summary = {'updated': pd.to_datetime(dt_today), 'since': pd.to_datetime(dt_yday)}\n",
    "summary = {**summary, **df_table[metrics].sum(), **s_ind, **s_us, **s_eu}"
   ]
  },
  {
   "cell_type": "code",
   "execution_count": 18,
   "id": "engaging-syndrome",
   "metadata": {
    "execution": {
     "iopub.execute_input": "2021-08-01T00:23:35.409315Z",
     "iopub.status.busy": "2021-08-01T00:23:35.408691Z",
     "iopub.status.idle": "2021-08-01T00:23:35.422846Z",
     "shell.execute_reply": "2021-08-01T00:23:35.423415Z"
    },
    "papermill": {
     "duration": 0.058719,
     "end_time": "2021-08-01T00:23:35.423555",
     "exception": false,
     "start_time": "2021-08-01T00:23:35.364836",
     "status": "completed"
    },
    "tags": []
   },
   "outputs": [],
   "source": [
    "#hide\n",
    "dft_ct_new_cases = dft_cases.groupby(COL_REGION)[dt_cols].sum().diff(axis=1).fillna(0).astype(int)"
   ]
  },
  {
   "cell_type": "code",
   "execution_count": 19,
   "id": "neutral-assignment",
   "metadata": {
    "execution": {
     "iopub.execute_input": "2021-08-01T00:23:35.498422Z",
     "iopub.status.busy": "2021-08-01T00:23:35.497826Z",
     "iopub.status.idle": "2021-08-01T00:23:35.500159Z",
     "shell.execute_reply": "2021-08-01T00:23:35.500726Z"
    },
    "papermill": {
     "duration": 0.042409,
     "end_time": "2021-08-01T00:23:35.500854",
     "exception": false,
     "start_time": "2021-08-01T00:23:35.458445",
     "status": "completed"
    },
    "tags": []
   },
   "outputs": [],
   "source": [
    "#hide\n",
    "everydaycases = dft_ct_new_cases.cumsum(axis=1)"
   ]
  },
  {
   "cell_type": "code",
   "execution_count": 20,
   "id": "parliamentary-calgary",
   "metadata": {
    "execution": {
     "iopub.execute_input": "2021-08-01T00:23:35.576883Z",
     "iopub.status.busy": "2021-08-01T00:23:35.576288Z",
     "iopub.status.idle": "2021-08-01T00:23:36.244677Z",
     "shell.execute_reply": "2021-08-01T00:23:36.245190Z"
    },
    "papermill": {
     "duration": 0.708363,
     "end_time": "2021-08-01T00:23:36.245408",
     "exception": false,
     "start_time": "2021-08-01T00:23:35.537045",
     "status": "completed"
    },
    "tags": []
   },
   "outputs": [],
   "source": [
    "#hide\n",
    "import pandas as pd\n",
    "import matplotlib.pyplot as plt\n",
    "import matplotlib.ticker as ticker\n",
    "import matplotlib.animation as animation\n",
    "from IPython.display import HTML"
   ]
  },
  {
   "cell_type": "code",
   "execution_count": 21,
   "id": "lasting-extraction",
   "metadata": {
    "execution": {
     "iopub.execute_input": "2021-08-01T00:23:36.320894Z",
     "iopub.status.busy": "2021-08-01T00:23:36.320300Z",
     "iopub.status.idle": "2021-08-01T00:23:36.325911Z",
     "shell.execute_reply": "2021-08-01T00:23:36.326364Z"
    },
    "papermill": {
     "duration": 0.045096,
     "end_time": "2021-08-01T00:23:36.326500",
     "exception": false,
     "start_time": "2021-08-01T00:23:36.281404",
     "status": "completed"
    },
    "tags": []
   },
   "outputs": [],
   "source": [
    "#hide\n",
    "t = everydaycases.stack()"
   ]
  },
  {
   "cell_type": "code",
   "execution_count": 22,
   "id": "premier-sleeve",
   "metadata": {
    "execution": {
     "iopub.execute_input": "2021-08-01T00:23:36.400211Z",
     "iopub.status.busy": "2021-08-01T00:23:36.399572Z",
     "iopub.status.idle": "2021-08-01T00:23:36.407557Z",
     "shell.execute_reply": "2021-08-01T00:23:36.408130Z"
    },
    "papermill": {
     "duration": 0.047631,
     "end_time": "2021-08-01T00:23:36.408263",
     "exception": false,
     "start_time": "2021-08-01T00:23:36.360632",
     "status": "completed"
    },
    "tags": []
   },
   "outputs": [],
   "source": [
    "#hide\n",
    "g = t.reset_index(['Country/Region'])"
   ]
  },
  {
   "cell_type": "code",
   "execution_count": 23,
   "id": "distributed-pittsburgh",
   "metadata": {
    "execution": {
     "iopub.execute_input": "2021-08-01T00:23:36.481166Z",
     "iopub.status.busy": "2021-08-01T00:23:36.480532Z",
     "iopub.status.idle": "2021-08-01T00:23:36.482611Z",
     "shell.execute_reply": "2021-08-01T00:23:36.483211Z"
    },
    "papermill": {
     "duration": 0.041185,
     "end_time": "2021-08-01T00:23:36.483340",
     "exception": false,
     "start_time": "2021-08-01T00:23:36.442155",
     "status": "completed"
    },
    "tags": []
   },
   "outputs": [],
   "source": [
    "#hide\n",
    "g.index.name = 'date'"
   ]
  },
  {
   "cell_type": "code",
   "execution_count": 24,
   "id": "naked-donor",
   "metadata": {
    "execution": {
     "iopub.execute_input": "2021-08-01T00:23:36.558931Z",
     "iopub.status.busy": "2021-08-01T00:23:36.558340Z",
     "iopub.status.idle": "2021-08-01T00:23:36.560256Z",
     "shell.execute_reply": "2021-08-01T00:23:36.560820Z"
    },
    "papermill": {
     "duration": 0.043642,
     "end_time": "2021-08-01T00:23:36.560949",
     "exception": false,
     "start_time": "2021-08-01T00:23:36.517307",
     "status": "completed"
    },
    "tags": []
   },
   "outputs": [],
   "source": [
    "# #hide\n",
    "# g = g.reset_index(['date'])"
   ]
  },
  {
   "cell_type": "code",
   "execution_count": 25,
   "id": "incomplete-mustang",
   "metadata": {
    "execution": {
     "iopub.execute_input": "2021-08-01T00:23:36.634972Z",
     "iopub.status.busy": "2021-08-01T00:23:36.634339Z",
     "iopub.status.idle": "2021-08-01T00:23:36.636308Z",
     "shell.execute_reply": "2021-08-01T00:23:36.636875Z"
    },
    "papermill": {
     "duration": 0.041887,
     "end_time": "2021-08-01T00:23:36.637007",
     "exception": false,
     "start_time": "2021-08-01T00:23:36.595120",
     "status": "completed"
    },
    "tags": []
   },
   "outputs": [],
   "source": [
    "#hide\n",
    "# g.head()"
   ]
  },
  {
   "cell_type": "code",
   "execution_count": 26,
   "id": "specific-kruger",
   "metadata": {
    "execution": {
     "iopub.execute_input": "2021-08-01T00:23:36.710215Z",
     "iopub.status.busy": "2021-08-01T00:23:36.709553Z",
     "iopub.status.idle": "2021-08-01T00:23:36.712104Z",
     "shell.execute_reply": "2021-08-01T00:23:36.711558Z"
    },
    "papermill": {
     "duration": 0.040454,
     "end_time": "2021-08-01T00:23:36.712240",
     "exception": false,
     "start_time": "2021-08-01T00:23:36.671786",
     "status": "completed"
    },
    "tags": []
   },
   "outputs": [],
   "source": [
    "#hide\n",
    "# g.columns = ['date','country','cases']"
   ]
  },
  {
   "cell_type": "code",
   "execution_count": 27,
   "id": "tender-conversion",
   "metadata": {
    "execution": {
     "iopub.execute_input": "2021-08-01T00:23:36.787342Z",
     "iopub.status.busy": "2021-08-01T00:23:36.786694Z",
     "iopub.status.idle": "2021-08-01T00:23:36.788639Z",
     "shell.execute_reply": "2021-08-01T00:23:36.789385Z"
    },
    "papermill": {
     "duration": 0.041495,
     "end_time": "2021-08-01T00:23:36.789522",
     "exception": false,
     "start_time": "2021-08-01T00:23:36.748027",
     "status": "completed"
    },
    "tags": []
   },
   "outputs": [],
   "source": [
    "#hide\n",
    "# g['continent'] = g.country"
   ]
  },
  {
   "cell_type": "code",
   "execution_count": 28,
   "id": "substantial-wilderness",
   "metadata": {
    "execution": {
     "iopub.execute_input": "2021-08-01T00:23:36.866461Z",
     "iopub.status.busy": "2021-08-01T00:23:36.865802Z",
     "iopub.status.idle": "2021-08-01T00:23:36.868749Z",
     "shell.execute_reply": "2021-08-01T00:23:36.868209Z"
    },
    "papermill": {
     "duration": 0.042353,
     "end_time": "2021-08-01T00:23:36.868885",
     "exception": false,
     "start_time": "2021-08-01T00:23:36.826532",
     "status": "completed"
    },
    "tags": []
   },
   "outputs": [],
   "source": [
    "#hide\n",
    "# cols = list(g.columns.values)"
   ]
  },
  {
   "cell_type": "code",
   "execution_count": 29,
   "id": "solved-farming",
   "metadata": {
    "execution": {
     "iopub.execute_input": "2021-08-01T00:23:36.945230Z",
     "iopub.status.busy": "2021-08-01T00:23:36.944547Z",
     "iopub.status.idle": "2021-08-01T00:23:36.946618Z",
     "shell.execute_reply": "2021-08-01T00:23:36.947238Z"
    },
    "papermill": {
     "duration": 0.042931,
     "end_time": "2021-08-01T00:23:36.947381",
     "exception": false,
     "start_time": "2021-08-01T00:23:36.904450",
     "status": "completed"
    },
    "tags": []
   },
   "outputs": [],
   "source": [
    "#hide\n",
    "# cols.insert(0, cols.pop())"
   ]
  },
  {
   "cell_type": "code",
   "execution_count": 30,
   "id": "executed-adoption",
   "metadata": {
    "execution": {
     "iopub.execute_input": "2021-08-01T00:23:37.024637Z",
     "iopub.status.busy": "2021-08-01T00:23:37.023988Z",
     "iopub.status.idle": "2021-08-01T00:23:37.026733Z",
     "shell.execute_reply": "2021-08-01T00:23:37.026191Z"
    },
    "papermill": {
     "duration": 0.043318,
     "end_time": "2021-08-01T00:23:37.026862",
     "exception": false,
     "start_time": "2021-08-01T00:23:36.983544",
     "status": "completed"
    },
    "tags": []
   },
   "outputs": [],
   "source": [
    "#hide\n",
    "# g = g[cols]"
   ]
  },
  {
   "cell_type": "code",
   "execution_count": 31,
   "id": "subject-dublin",
   "metadata": {
    "execution": {
     "iopub.execute_input": "2021-08-01T00:23:37.105512Z",
     "iopub.status.busy": "2021-08-01T00:23:37.104881Z",
     "iopub.status.idle": "2021-08-01T00:23:37.106785Z",
     "shell.execute_reply": "2021-08-01T00:23:37.107350Z"
    },
    "papermill": {
     "duration": 0.041398,
     "end_time": "2021-08-01T00:23:37.107486",
     "exception": false,
     "start_time": "2021-08-01T00:23:37.066088",
     "status": "completed"
    },
    "tags": []
   },
   "outputs": [],
   "source": [
    "#hide\n",
    "# g['continent'] = g['continent'].map(mapping['map.continent'])"
   ]
  },
  {
   "cell_type": "code",
   "execution_count": 32,
   "id": "freelance-scout",
   "metadata": {
    "execution": {
     "iopub.execute_input": "2021-08-01T00:23:37.179987Z",
     "iopub.status.busy": "2021-08-01T00:23:37.179399Z",
     "iopub.status.idle": "2021-08-01T00:23:37.181523Z",
     "shell.execute_reply": "2021-08-01T00:23:37.182137Z"
    },
    "papermill": {
     "duration": 0.040635,
     "end_time": "2021-08-01T00:23:37.182424",
     "exception": false,
     "start_time": "2021-08-01T00:23:37.141789",
     "status": "completed"
    },
    "tags": []
   },
   "outputs": [],
   "source": [
    "#hide\n",
    "# g.head()"
   ]
  },
  {
   "cell_type": "code",
   "execution_count": 33,
   "id": "limited-engine",
   "metadata": {
    "execution": {
     "iopub.execute_input": "2021-08-01T00:23:37.256249Z",
     "iopub.status.busy": "2021-08-01T00:23:37.255666Z",
     "iopub.status.idle": "2021-08-01T00:23:37.257818Z",
     "shell.execute_reply": "2021-08-01T00:23:37.258268Z"
    },
    "papermill": {
     "duration": 0.040446,
     "end_time": "2021-08-01T00:23:37.258398",
     "exception": false,
     "start_time": "2021-08-01T00:23:37.217952",
     "status": "completed"
    },
    "tags": []
   },
   "outputs": [],
   "source": [
    "# hide\n",
    "# g['date'] = g['date'].astype('datetime64[ns]')"
   ]
  },
  {
   "cell_type": "code",
   "execution_count": 34,
   "id": "sophisticated-supervisor",
   "metadata": {
    "execution": {
     "iopub.execute_input": "2021-08-01T00:23:37.333350Z",
     "iopub.status.busy": "2021-08-01T00:23:37.332676Z",
     "iopub.status.idle": "2021-08-01T00:23:37.334798Z",
     "shell.execute_reply": "2021-08-01T00:23:37.335356Z"
    },
    "papermill": {
     "duration": 0.042615,
     "end_time": "2021-08-01T00:23:37.335817",
     "exception": false,
     "start_time": "2021-08-01T00:23:37.293202",
     "status": "completed"
    },
    "tags": []
   },
   "outputs": [],
   "source": [
    "#hide\n",
    "# g['date'] = g.date.dt.dayofyear"
   ]
  },
  {
   "cell_type": "code",
   "execution_count": 35,
   "id": "inside-dubai",
   "metadata": {
    "execution": {
     "iopub.execute_input": "2021-08-01T00:23:37.429563Z",
     "iopub.status.busy": "2021-08-01T00:23:37.428850Z",
     "iopub.status.idle": "2021-08-01T00:23:37.431406Z",
     "shell.execute_reply": "2021-08-01T00:23:37.431974Z"
    },
    "papermill": {
     "duration": 0.053092,
     "end_time": "2021-08-01T00:23:37.432136",
     "exception": false,
     "start_time": "2021-08-01T00:23:37.379044",
     "status": "completed"
    },
    "tags": []
   },
   "outputs": [],
   "source": [
    "#hide\n",
    "# g = g.rename(columns= {'continent':'group','country':'name','cases':'value'})"
   ]
  },
  {
   "cell_type": "code",
   "execution_count": 36,
   "id": "fleet-motorcycle",
   "metadata": {
    "execution": {
     "iopub.execute_input": "2021-08-01T00:23:37.510697Z",
     "iopub.status.busy": "2021-08-01T00:23:37.510053Z",
     "iopub.status.idle": "2021-08-01T00:23:37.512229Z",
     "shell.execute_reply": "2021-08-01T00:23:37.512863Z"
    },
    "papermill": {
     "duration": 0.043371,
     "end_time": "2021-08-01T00:23:37.513025",
     "exception": false,
     "start_time": "2021-08-01T00:23:37.469654",
     "status": "completed"
    },
    "tags": []
   },
   "outputs": [],
   "source": [
    "#hide\n",
    "# cols = ['name','group','day','value']"
   ]
  },
  {
   "cell_type": "code",
   "execution_count": 37,
   "id": "continued-sleeping",
   "metadata": {
    "execution": {
     "iopub.execute_input": "2021-08-01T00:23:37.591624Z",
     "iopub.status.busy": "2021-08-01T00:23:37.590989Z",
     "iopub.status.idle": "2021-08-01T00:23:37.592939Z",
     "shell.execute_reply": "2021-08-01T00:23:37.593559Z"
    },
    "papermill": {
     "duration": 0.043043,
     "end_time": "2021-08-01T00:23:37.593696",
     "exception": false,
     "start_time": "2021-08-01T00:23:37.550653",
     "status": "completed"
    },
    "tags": []
   },
   "outputs": [],
   "source": [
    "#hide\n",
    "# g.rename(columns= {'date':'day'},inplace = True)"
   ]
  },
  {
   "cell_type": "code",
   "execution_count": 38,
   "id": "major-fight",
   "metadata": {
    "execution": {
     "iopub.execute_input": "2021-08-01T00:23:37.666790Z",
     "iopub.status.busy": "2021-08-01T00:23:37.666196Z",
     "iopub.status.idle": "2021-08-01T00:23:37.668297Z",
     "shell.execute_reply": "2021-08-01T00:23:37.668749Z"
    },
    "papermill": {
     "duration": 0.04039,
     "end_time": "2021-08-01T00:23:37.668882",
     "exception": false,
     "start_time": "2021-08-01T00:23:37.628492",
     "status": "completed"
    },
    "tags": []
   },
   "outputs": [],
   "source": [
    "#hide\n",
    "# g = g[cols]"
   ]
  },
  {
   "cell_type": "code",
   "execution_count": 39,
   "id": "structured-mobile",
   "metadata": {
    "execution": {
     "iopub.execute_input": "2021-08-01T00:23:37.741066Z",
     "iopub.status.busy": "2021-08-01T00:23:37.740343Z",
     "iopub.status.idle": "2021-08-01T00:23:37.742350Z",
     "shell.execute_reply": "2021-08-01T00:23:37.742920Z"
    },
    "papermill": {
     "duration": 0.039716,
     "end_time": "2021-08-01T00:23:37.743049",
     "exception": false,
     "start_time": "2021-08-01T00:23:37.703333",
     "status": "completed"
    },
    "tags": []
   },
   "outputs": [],
   "source": [
    "# #hide\n",
    "# g = g[g.group.notna()]"
   ]
  },
  {
   "cell_type": "code",
   "execution_count": 40,
   "id": "determined-closing",
   "metadata": {
    "execution": {
     "iopub.execute_input": "2021-08-01T00:23:37.819611Z",
     "iopub.status.busy": "2021-08-01T00:23:37.818997Z",
     "iopub.status.idle": "2021-08-01T00:23:37.821088Z",
     "shell.execute_reply": "2021-08-01T00:23:37.821775Z"
    },
    "papermill": {
     "duration": 0.04219,
     "end_time": "2021-08-01T00:23:37.821907",
     "exception": false,
     "start_time": "2021-08-01T00:23:37.779717",
     "status": "completed"
    },
    "tags": []
   },
   "outputs": [],
   "source": [
    "# #hide\n",
    "# colors = dict(zip(\n",
    "#     [\"Oceania\", \"Europe\", \"Asia\", \"South America\", \"Middle East\", \"North America\", \"Africa\"],\n",
    "#     [\"#adb0ff\", \"#ffb3ff\", \"#90d595\", \"#e48381\", \"#aafbff\", \"#f7bb5f\", \"#eafb50\"]\n",
    "# ))\n",
    "# group_lk = g.set_index('name')['group'].to_dict()"
   ]
  },
  {
   "cell_type": "code",
   "execution_count": null,
   "id": "gross-drinking",
   "metadata": {
    "papermill": {
     "duration": 0.034042,
     "end_time": "2021-08-01T00:23:37.893837",
     "exception": false,
     "start_time": "2021-08-01T00:23:37.859795",
     "status": "completed"
    },
    "tags": []
   },
   "outputs": [],
   "source": []
  },
  {
   "cell_type": "code",
   "execution_count": 41,
   "id": "subject-macintosh",
   "metadata": {
    "execution": {
     "iopub.execute_input": "2021-08-01T00:23:37.966761Z",
     "iopub.status.busy": "2021-08-01T00:23:37.966155Z",
     "iopub.status.idle": "2021-08-01T00:23:37.968214Z",
     "shell.execute_reply": "2021-08-01T00:23:37.968726Z"
    },
    "papermill": {
     "duration": 0.04068,
     "end_time": "2021-08-01T00:23:37.968858",
     "exception": false,
     "start_time": "2021-08-01T00:23:37.928178",
     "status": "completed"
    },
    "tags": []
   },
   "outputs": [],
   "source": [
    "# #hide\n",
    "# fig, ax = plt.subplots(figsize=(15, 8))\n",
    "\n",
    "# def draw_barchart(current_day):\n",
    "#     dff = g[g['day'].eq(current_day)].sort_values(by='value', ascending=True).tail(10)\n",
    "#     ax.clear()\n",
    "#     ax.barh(dff['name'], dff['value'], color=[colors[group_lk[x]] for x in dff['name']])\n",
    "#     dx = dff['value'].max() / 200\n",
    "    \n",
    "#     for i, (value, name) in enumerate(zip(dff['value'], dff['name'])):\n",
    "#         ax.text(value-dx, i,     name,           size=14, weight=600, ha='right', va='bottom')\n",
    "#         ax.text(value-dx, i-.25, group_lk[name], size=10, color='#444444', ha='right', va='baseline')\n",
    "#         ax.text(value+dx, i,     f'{value:,.0f}',  size=14, ha='left',  va='center')\n",
    "#     ax.text(1, 0.4, current_day, transform=ax.transAxes, color='#777777', size=46, ha='right', weight=800)\n",
    "#     ax.text(0, 1.06, 'Population (thousands)', transform=ax.transAxes, size=12, color='#777777')\n",
    "#     ax.xaxis.set_major_formatter(ticker.StrMethodFormatter('{x:,.0f}'))\n",
    "#     ax.xaxis.set_ticks_position('top')\n",
    "#     ax.tick_params(axis='x', colors='#777777', labelsize=12)\n",
    "#     ax.set_yticks([])\n",
    "#     ax.margins(0, 0.01)\n",
    "#     ax.grid(which='major', axis='x', linestyle='-')\n",
    "#     ax.set_axisbelow(True)\n",
    "    \n",
    "#     ax.text(0, 1.15, 'Coronavirus',\n",
    "#             transform=ax.transAxes, size=24, weight=600, ha='left', va='top')\n",
    "# #     ax.text(1, 0, 'by @pratapvardhan; credit @jburnmurdoch', transform=ax.transAxes, color='#777777', ha='right',\n",
    "# #             bbox=dict(facecolor='white', alpha=0.8, edgecolor='white'))\n",
    "#     plt.box(False)"
   ]
  },
  {
   "cell_type": "code",
   "execution_count": 42,
   "id": "sexual-wages",
   "metadata": {
    "execution": {
     "iopub.execute_input": "2021-08-01T00:23:38.040005Z",
     "iopub.status.busy": "2021-08-01T00:23:38.039361Z",
     "iopub.status.idle": "2021-08-01T00:23:38.043370Z",
     "shell.execute_reply": "2021-08-01T00:23:38.042895Z"
    },
    "papermill": {
     "duration": 0.040688,
     "end_time": "2021-08-01T00:23:38.043486",
     "exception": false,
     "start_time": "2021-08-01T00:23:38.002798",
     "status": "completed"
    },
    "tags": []
   },
   "outputs": [],
   "source": [
    "# #hide_input\n",
    "# fig, ax = plt.subplots(figsize=(15, 8))\n",
    "# animator = animation.FuncAnimation(fig, draw_barchart, frames=range(g.day.values.min(), g.day.values.max()))\n",
    "# HTML(animator.to_jshtml())\n",
    "# # or use animator.to_html5_video() or animator.save() "
   ]
  },
  {
   "cell_type": "code",
   "execution_count": null,
   "id": "australian-container",
   "metadata": {
    "papermill": {
     "duration": 0.036975,
     "end_time": "2021-08-01T00:23:38.117017",
     "exception": false,
     "start_time": "2021-08-01T00:23:38.080042",
     "status": "completed"
    },
    "tags": []
   },
   "outputs": [],
   "source": []
  },
  {
   "cell_type": "code",
   "execution_count": null,
   "id": "mediterranean-pontiac",
   "metadata": {
    "papermill": {
     "duration": 0.034636,
     "end_time": "2021-08-01T00:23:38.186172",
     "exception": false,
     "start_time": "2021-08-01T00:23:38.151536",
     "status": "completed"
    },
    "tags": []
   },
   "outputs": [],
   "source": []
  },
  {
   "cell_type": "code",
   "execution_count": null,
   "id": "aging-legislature",
   "metadata": {
    "papermill": {
     "duration": 0.035506,
     "end_time": "2021-08-01T00:23:38.257716",
     "exception": false,
     "start_time": "2021-08-01T00:23:38.222210",
     "status": "completed"
    },
    "tags": []
   },
   "outputs": [],
   "source": []
  }
 ],
 "metadata": {
  "kernelspec": {
   "display_name": "Python 3",
   "language": "python",
   "name": "python3"
  },
  "language_info": {
   "codemirror_mode": {
    "name": "ipython",
    "version": 3
   },
   "file_extension": ".py",
   "mimetype": "text/x-python",
   "name": "python",
   "nbconvert_exporter": "python",
   "pygments_lexer": "ipython3",
   "version": "3.6.14"
  },
  "papermill": {
   "duration": 6.781818,
   "end_time": "2021-08-01T00:23:38.601298",
   "environment_variables": {},
   "exception": null,
   "input_path": "2020-03-21-covid19exp.ipynb",
   "output_path": "2020-03-21-covid19exp.ipynb",
   "parameters": {},
   "start_time": "2021-08-01T00:23:31.819480",
   "version": "2.0.0"
  }
 },
 "nbformat": 4,
 "nbformat_minor": 5
}