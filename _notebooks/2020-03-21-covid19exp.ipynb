{
 "cells": [
  {
   "cell_type": "markdown",
   "id": "muslim-click",
   "metadata": {
    "papermill": {
     "duration": 0.034432,
     "end_time": "2022-02-23T12:14:09.967797",
     "exception": false,
     "start_time": "2022-02-23T12:14:09.933365",
     "status": "completed"
    },
    "tags": []
   },
   "source": [
    "# COVID-19 Case Race\n",
    "> A race chart to see rising cases around the world\n",
    "\n",
    "- author: Hargun Oberoi\n",
    "- image: images/covid-overview.png\n",
    "- hide: false\n",
    "- badges: false"
   ]
  },
  {
   "cell_type": "code",
   "execution_count": 1,
   "id": "proof-material",
   "metadata": {
    "execution": {
     "iopub.execute_input": "2022-02-23T12:14:10.040210Z",
     "iopub.status.busy": "2022-02-23T12:14:10.038664Z",
     "iopub.status.idle": "2022-02-23T12:14:10.344140Z",
     "shell.execute_reply": "2022-02-23T12:14:10.343407Z"
    },
    "papermill": {
     "duration": 0.344031,
     "end_time": "2022-02-23T12:14:10.344266",
     "exception": false,
     "start_time": "2022-02-23T12:14:10.000235",
     "status": "completed"
    },
    "tags": []
   },
   "outputs": [],
   "source": [
    "#hide\n",
    "import numpy as np\n",
    "import pandas as pd\n",
    "from jinja2 import Template\n",
    "from IPython.display import HTML"
   ]
  },
  {
   "cell_type": "code",
   "execution_count": 2,
   "id": "developed-terminology",
   "metadata": {
    "execution": {
     "iopub.execute_input": "2022-02-23T12:14:10.410711Z",
     "iopub.status.busy": "2022-02-23T12:14:10.410199Z",
     "iopub.status.idle": "2022-02-23T12:14:10.412036Z",
     "shell.execute_reply": "2022-02-23T12:14:10.411637Z"
    },
    "papermill": {
     "duration": 0.036858,
     "end_time": "2022-02-23T12:14:10.412133",
     "exception": false,
     "start_time": "2022-02-23T12:14:10.375275",
     "status": "completed"
    },
    "tags": []
   },
   "outputs": [],
   "source": [
    "#hide\n",
    "\n",
    "# FETCH\n",
    "base_url = 'https://raw.githubusercontent.com/pratapvardhan/notebooks/master/covid19/'\n",
    "paths = {\n",
    "    'mapping': base_url + 'mapping_countries.csv',\n",
    "    'overview': base_url + 'overview.tpl'\n",
    "}"
   ]
  },
  {
   "cell_type": "code",
   "execution_count": 3,
   "id": "dynamic-saver",
   "metadata": {
    "execution": {
     "iopub.execute_input": "2022-02-23T12:14:10.482408Z",
     "iopub.status.busy": "2022-02-23T12:14:10.481311Z",
     "iopub.status.idle": "2022-02-23T12:14:10.484720Z",
     "shell.execute_reply": "2022-02-23T12:14:10.485094Z"
    },
    "papermill": {
     "duration": 0.042241,
     "end_time": "2022-02-23T12:14:10.485208",
     "exception": false,
     "start_time": "2022-02-23T12:14:10.442967",
     "status": "completed"
    },
    "tags": []
   },
   "outputs": [
    {
     "data": {
      "text/plain": [
       "'https://raw.githubusercontent.com/pratapvardhan/notebooks/master/covid19/mapping_countries.csv'"
      ]
     },
     "execution_count": 3,
     "metadata": {},
     "output_type": "execute_result"
    }
   ],
   "source": [
    "#hide\n",
    "paths['mapping']"
   ]
  },
  {
   "cell_type": "code",
   "execution_count": 4,
   "id": "urban-software",
   "metadata": {
    "execution": {
     "iopub.execute_input": "2022-02-23T12:14:10.552040Z",
     "iopub.status.busy": "2022-02-23T12:14:10.551540Z",
     "iopub.status.idle": "2022-02-23T12:14:10.553446Z",
     "shell.execute_reply": "2022-02-23T12:14:10.553046Z"
    },
    "papermill": {
     "duration": 0.037196,
     "end_time": "2022-02-23T12:14:10.553542",
     "exception": false,
     "start_time": "2022-02-23T12:14:10.516346",
     "status": "completed"
    },
    "tags": []
   },
   "outputs": [],
   "source": [
    "#hide\n",
    "def get_mappings(url):\n",
    "    df = pd.read_csv(url)\n",
    "    return {\n",
    "        'df': df,\n",
    "        'replace.country': dict(df.dropna(subset=['Name']).set_index('Country')['Name']),\n",
    "        'map.continent': dict(df.set_index('Name')['Continent'])\n",
    "    }"
   ]
  },
  {
   "cell_type": "code",
   "execution_count": 5,
   "id": "intimate-machinery",
   "metadata": {
    "execution": {
     "iopub.execute_input": "2022-02-23T12:14:10.620357Z",
     "iopub.status.busy": "2022-02-23T12:14:10.619868Z",
     "iopub.status.idle": "2022-02-23T12:14:10.679512Z",
     "shell.execute_reply": "2022-02-23T12:14:10.679901Z"
    },
    "papermill": {
     "duration": 0.095341,
     "end_time": "2022-02-23T12:14:10.680018",
     "exception": false,
     "start_time": "2022-02-23T12:14:10.584677",
     "status": "completed"
    },
    "tags": []
   },
   "outputs": [],
   "source": [
    "#hide\n",
    "mapping = get_mappings(paths['mapping'])"
   ]
  },
  {
   "cell_type": "code",
   "execution_count": 6,
   "id": "certified-tactics",
   "metadata": {
    "execution": {
     "iopub.execute_input": "2022-02-23T12:14:10.749525Z",
     "iopub.status.busy": "2022-02-23T12:14:10.749029Z",
     "iopub.status.idle": "2022-02-23T12:14:10.751029Z",
     "shell.execute_reply": "2022-02-23T12:14:10.750644Z"
    },
    "papermill": {
     "duration": 0.037154,
     "end_time": "2022-02-23T12:14:10.751129",
     "exception": false,
     "start_time": "2022-02-23T12:14:10.713975",
     "status": "completed"
    },
    "tags": []
   },
   "outputs": [],
   "source": [
    "#hide\n",
    "def get_template(path):\n",
    "    from urllib.parse import urlparse\n",
    "    if bool(urlparse(path).netloc):\n",
    "        from urllib.request import urlopen\n",
    "        return urlopen(path).read().decode('utf8')\n",
    "    return open(path).read()"
   ]
  },
  {
   "cell_type": "code",
   "execution_count": 7,
   "id": "realistic-blast",
   "metadata": {
    "execution": {
     "iopub.execute_input": "2022-02-23T12:14:10.817549Z",
     "iopub.status.busy": "2022-02-23T12:14:10.817055Z",
     "iopub.status.idle": "2022-02-23T12:14:10.818593Z",
     "shell.execute_reply": "2022-02-23T12:14:10.818975Z"
    },
    "papermill": {
     "duration": 0.03676,
     "end_time": "2022-02-23T12:14:10.819083",
     "exception": false,
     "start_time": "2022-02-23T12:14:10.782323",
     "status": "completed"
    },
    "tags": []
   },
   "outputs": [],
   "source": [
    "#hide\n",
    "def get_frame(name):\n",
    "    url = (\n",
    "        'https://raw.githubusercontent.com/CSSEGISandData/COVID-19/master/csse_covid_19_data/'\n",
    "        f'csse_covid_19_time_series/time_series_covid19_{name}_global.csv')\n",
    "    df = pd.read_csv(url)\n",
    "    # rename countries\n",
    "    df['Country/Region'] = df['Country/Region'].replace(mapping['replace.country'])\n",
    "    return df"
   ]
  },
  {
   "cell_type": "code",
   "execution_count": 8,
   "id": "affiliated-characterization",
   "metadata": {
    "execution": {
     "iopub.execute_input": "2022-02-23T12:14:10.886814Z",
     "iopub.status.busy": "2022-02-23T12:14:10.886316Z",
     "iopub.status.idle": "2022-02-23T12:14:10.887986Z",
     "shell.execute_reply": "2022-02-23T12:14:10.888352Z"
    },
    "papermill": {
     "duration": 0.038121,
     "end_time": "2022-02-23T12:14:10.888461",
     "exception": false,
     "start_time": "2022-02-23T12:14:10.850340",
     "status": "completed"
    },
    "tags": []
   },
   "outputs": [],
   "source": [
    "#hide\n",
    "def get_dates(df):\n",
    "    dt_cols = df.columns[~df.columns.isin(['Province/State', 'Country/Region', 'Lat', 'Long'])]\n",
    "    LAST_DATE_I = -1\n",
    "    # sometimes last column may be empty, then go backwards\n",
    "    for i in range(-1, -len(dt_cols), -1):\n",
    "        if not df[dt_cols[i]].fillna(0).eq(0).all():\n",
    "            LAST_DATE_I = i\n",
    "            break\n",
    "    return LAST_DATE_I, dt_cols"
   ]
  },
  {
   "cell_type": "code",
   "execution_count": 9,
   "id": "recent-optimization",
   "metadata": {
    "execution": {
     "iopub.execute_input": "2022-02-23T12:14:10.954424Z",
     "iopub.status.busy": "2022-02-23T12:14:10.953896Z",
     "iopub.status.idle": "2022-02-23T12:14:11.536334Z",
     "shell.execute_reply": "2022-02-23T12:14:11.535860Z"
    },
    "papermill": {
     "duration": 0.616935,
     "end_time": "2022-02-23T12:14:11.536446",
     "exception": false,
     "start_time": "2022-02-23T12:14:10.919511",
     "status": "completed"
    },
    "tags": []
   },
   "outputs": [],
   "source": [
    "#hide\n",
    "COL_REGION = 'Country/Region'\n",
    "# Confirmed, Recovered, Deaths\n",
    "df = get_frame('confirmed')\n",
    "# dft_: timeseries, dfc_: today country agg\n",
    "dft_cases = df\n",
    "dft_deaths = get_frame('deaths')\n",
    "dft_recovered = get_frame('recovered')\n",
    "LAST_DATE_I, dt_cols = get_dates(df)"
   ]
  },
  {
   "cell_type": "code",
   "execution_count": 10,
   "id": "absolute-copper",
   "metadata": {
    "execution": {
     "iopub.execute_input": "2022-02-23T12:14:11.604215Z",
     "iopub.status.busy": "2022-02-23T12:14:11.603703Z",
     "iopub.status.idle": "2022-02-23T12:14:11.605214Z",
     "shell.execute_reply": "2022-02-23T12:14:11.605630Z"
    },
    "papermill": {
     "duration": 0.037783,
     "end_time": "2022-02-23T12:14:11.605747",
     "exception": false,
     "start_time": "2022-02-23T12:14:11.567964",
     "status": "completed"
    },
    "tags": []
   },
   "outputs": [],
   "source": [
    "#hide\n",
    "LAST_DATE_I, dt_cols = get_dates(df)\n",
    "dt_today =dt_cols[LAST_DATE_I]\n",
    "# dt_5day = dt_cols[LAST_DATE_I - 5]\n",
    "dt_yday = dt_cols[LAST_DATE_I - 1]"
   ]
  },
  {
   "cell_type": "code",
   "execution_count": 11,
   "id": "restricted-sheriff",
   "metadata": {
    "execution": {
     "iopub.execute_input": "2022-02-23T12:14:11.672319Z",
     "iopub.status.busy": "2022-02-23T12:14:11.671834Z",
     "iopub.status.idle": "2022-02-23T12:14:11.678347Z",
     "shell.execute_reply": "2022-02-23T12:14:11.678728Z"
    },
    "papermill": {
     "duration": 0.041976,
     "end_time": "2022-02-23T12:14:11.678842",
     "exception": false,
     "start_time": "2022-02-23T12:14:11.636866",
     "status": "completed"
    },
    "tags": []
   },
   "outputs": [],
   "source": [
    "#hide\n",
    "dfc_cases = dft_cases.groupby(COL_REGION)[dt_today].sum()\n",
    "dfc_deaths = dft_deaths.groupby(COL_REGION)[dt_today].sum()\n",
    "# dfp_cases = dft_cases.groupby(COL_REGION)[dt_5day].sum()\n",
    "# dfp_deaths = dft_deaths.groupby(COL_REGION)[dt_5day].sum()\n",
    "dfp_cases = dft_cases.groupby(COL_REGION)[dt_yday].sum()\n",
    "dfp_deaths = dft_deaths.groupby(COL_REGION)[dt_yday].sum()"
   ]
  },
  {
   "cell_type": "code",
   "execution_count": 12,
   "id": "deluxe-hepatitis",
   "metadata": {
    "execution": {
     "iopub.execute_input": "2022-02-23T12:14:11.745866Z",
     "iopub.status.busy": "2022-02-23T12:14:11.745384Z",
     "iopub.status.idle": "2022-02-23T12:14:11.749077Z",
     "shell.execute_reply": "2022-02-23T12:14:11.749525Z"
    },
    "papermill": {
     "duration": 0.039747,
     "end_time": "2022-02-23T12:14:11.749633",
     "exception": false,
     "start_time": "2022-02-23T12:14:11.709886",
     "status": "completed"
    },
    "tags": []
   },
   "outputs": [],
   "source": [
    "#hide\n",
    "df_table = (pd.DataFrame(dict(Cases = dfc_cases, Deaths = dfc_deaths, PCases = dfp_cases, PDeaths = dfp_deaths))\n",
    "            .sort_values(by = ['Cases','Deaths'], ascending = [False, False])\n",
    "            .reset_index())"
   ]
  },
  {
   "cell_type": "code",
   "execution_count": 13,
   "id": "educational-chancellor",
   "metadata": {
    "execution": {
     "iopub.execute_input": "2022-02-23T12:14:11.827576Z",
     "iopub.status.busy": "2022-02-23T12:14:11.827080Z",
     "iopub.status.idle": "2022-02-23T12:14:11.834744Z",
     "shell.execute_reply": "2022-02-23T12:14:11.834348Z"
    },
    "papermill": {
     "duration": 0.054197,
     "end_time": "2022-02-23T12:14:11.834846",
     "exception": false,
     "start_time": "2022-02-23T12:14:11.780649",
     "status": "completed"
    },
    "tags": []
   },
   "outputs": [
    {
     "data": {
      "text/html": [
       "<div>\n",
       "<style scoped>\n",
       "    .dataframe tbody tr th:only-of-type {\n",
       "        vertical-align: middle;\n",
       "    }\n",
       "\n",
       "    .dataframe tbody tr th {\n",
       "        vertical-align: top;\n",
       "    }\n",
       "\n",
       "    .dataframe thead th {\n",
       "        text-align: right;\n",
       "    }\n",
       "</style>\n",
       "<table border=\"1\" class=\"dataframe\">\n",
       "  <thead>\n",
       "    <tr style=\"text-align: right;\">\n",
       "      <th></th>\n",
       "      <th>Country/Region</th>\n",
       "      <th>Cases</th>\n",
       "      <th>Deaths</th>\n",
       "      <th>PCases</th>\n",
       "      <th>PDeaths</th>\n",
       "      <th>Cases (+)</th>\n",
       "      <th>Deaths (+)</th>\n",
       "      <th>Fatality Rate</th>\n",
       "      <th>Continent</th>\n",
       "    </tr>\n",
       "  </thead>\n",
       "  <tbody>\n",
       "    <tr>\n",
       "      <th>0</th>\n",
       "      <td>US</td>\n",
       "      <td>78648651</td>\n",
       "      <td>939064</td>\n",
       "      <td>78548831</td>\n",
       "      <td>936764</td>\n",
       "      <td>99820</td>\n",
       "      <td>2300</td>\n",
       "      <td>1.19</td>\n",
       "      <td>North America</td>\n",
       "    </tr>\n",
       "    <tr>\n",
       "      <th>1</th>\n",
       "      <td>India</td>\n",
       "      <td>42867031</td>\n",
       "      <td>512622</td>\n",
       "      <td>42851929</td>\n",
       "      <td>512344</td>\n",
       "      <td>15102</td>\n",
       "      <td>278</td>\n",
       "      <td>1.20</td>\n",
       "      <td>Asia</td>\n",
       "    </tr>\n",
       "    <tr>\n",
       "      <th>2</th>\n",
       "      <td>Brazil</td>\n",
       "      <td>28361951</td>\n",
       "      <td>645735</td>\n",
       "      <td>28258458</td>\n",
       "      <td>644918</td>\n",
       "      <td>103493</td>\n",
       "      <td>817</td>\n",
       "      <td>2.28</td>\n",
       "      <td>South America</td>\n",
       "    </tr>\n",
       "    <tr>\n",
       "      <th>3</th>\n",
       "      <td>France</td>\n",
       "      <td>22563594</td>\n",
       "      <td>138277</td>\n",
       "      <td>22466076</td>\n",
       "      <td>133663</td>\n",
       "      <td>97518</td>\n",
       "      <td>4614</td>\n",
       "      <td>0.61</td>\n",
       "      <td>Europe</td>\n",
       "    </tr>\n",
       "    <tr>\n",
       "      <th>4</th>\n",
       "      <td>United Kingdom</td>\n",
       "      <td>18826968</td>\n",
       "      <td>161384</td>\n",
       "      <td>18785333</td>\n",
       "      <td>161179</td>\n",
       "      <td>41635</td>\n",
       "      <td>205</td>\n",
       "      <td>0.86</td>\n",
       "      <td>Europe</td>\n",
       "    </tr>\n",
       "  </tbody>\n",
       "</table>\n",
       "</div>"
      ],
      "text/plain": [
       "   Country/Region     Cases  Deaths    PCases  PDeaths  Cases (+)  Deaths (+)  \\\n",
       "0              US  78648651  939064  78548831   936764      99820        2300   \n",
       "1           India  42867031  512622  42851929   512344      15102         278   \n",
       "2          Brazil  28361951  645735  28258458   644918     103493         817   \n",
       "3          France  22563594  138277  22466076   133663      97518        4614   \n",
       "4  United Kingdom  18826968  161384  18785333   161179      41635         205   \n",
       "\n",
       "   Fatality Rate      Continent  \n",
       "0           1.19  North America  \n",
       "1           1.20           Asia  \n",
       "2           2.28  South America  \n",
       "3           0.61         Europe  \n",
       "4           0.86         Europe  "
      ]
     },
     "execution_count": 13,
     "metadata": {},
     "output_type": "execute_result"
    }
   ],
   "source": [
    "#hide\n",
    "for c in 'Cases, Deaths'.split(', '):\n",
    "    df_table[f'{c} (+)'] = (df_table[c] - df_table[f'P{c}']).clip(0)\n",
    "    #Clip ça veut dire, les chiffres negatif sont interdit\n",
    "df_table['Fatality Rate'] = (100* df_table['Deaths']/ df_table['Cases']).round(2)\n",
    "df_table['Continent'] = df_table['Country/Region'].map(mapping['map.continent'])\n",
    "df_table.head(5)"
   ]
  },
  {
   "cell_type": "code",
   "execution_count": 14,
   "id": "aboriginal-bulgaria",
   "metadata": {
    "execution": {
     "iopub.execute_input": "2022-02-23T12:14:11.902545Z",
     "iopub.status.busy": "2022-02-23T12:14:11.902028Z",
     "iopub.status.idle": "2022-02-23T12:14:11.904047Z",
     "shell.execute_reply": "2022-02-23T12:14:11.903655Z"
    },
    "papermill": {
     "duration": 0.037788,
     "end_time": "2022-02-23T12:14:11.904146",
     "exception": false,
     "start_time": "2022-02-23T12:14:11.866358",
     "status": "completed"
    },
    "tags": []
   },
   "outputs": [],
   "source": [
    "#hide\n",
    "#delete problematic countries from table\n",
    "df_table = df_table[~df_table['Country/Region'].isin(['Cape Verde', 'Cruise Ship', 'Kosovo'])]"
   ]
  },
  {
   "cell_type": "code",
   "execution_count": 15,
   "id": "fantastic-effect",
   "metadata": {
    "execution": {
     "iopub.execute_input": "2022-02-23T12:14:11.974647Z",
     "iopub.status.busy": "2022-02-23T12:14:11.974140Z",
     "iopub.status.idle": "2022-02-23T12:14:11.990637Z",
     "shell.execute_reply": "2022-02-23T12:14:11.991014Z"
    },
    "papermill": {
     "duration": 0.055392,
     "end_time": "2022-02-23T12:14:11.991134",
     "exception": false,
     "start_time": "2022-02-23T12:14:11.935742",
     "status": "completed"
    },
    "tags": []
   },
   "outputs": [
    {
     "data": {
      "text/html": [
       "<div>\n",
       "<style scoped>\n",
       "    .dataframe tbody tr th:only-of-type {\n",
       "        vertical-align: middle;\n",
       "    }\n",
       "\n",
       "    .dataframe tbody tr th {\n",
       "        vertical-align: top;\n",
       "    }\n",
       "\n",
       "    .dataframe thead th {\n",
       "        text-align: right;\n",
       "    }\n",
       "</style>\n",
       "<table border=\"1\" class=\"dataframe\">\n",
       "  <thead>\n",
       "    <tr style=\"text-align: right;\">\n",
       "      <th></th>\n",
       "      <th>Country/Region</th>\n",
       "      <th>Cases</th>\n",
       "      <th>Deaths</th>\n",
       "      <th>PCases</th>\n",
       "      <th>PDeaths</th>\n",
       "      <th>Cases (+)</th>\n",
       "      <th>Deaths (+)</th>\n",
       "      <th>Fatality Rate</th>\n",
       "      <th>Continent</th>\n",
       "    </tr>\n",
       "  </thead>\n",
       "  <tbody>\n",
       "    <tr>\n",
       "      <th>0</th>\n",
       "      <td>US</td>\n",
       "      <td>78648651</td>\n",
       "      <td>939064</td>\n",
       "      <td>78548831</td>\n",
       "      <td>936764</td>\n",
       "      <td>99820</td>\n",
       "      <td>2300</td>\n",
       "      <td>1.2</td>\n",
       "      <td>North America</td>\n",
       "    </tr>\n",
       "    <tr>\n",
       "      <th>1</th>\n",
       "      <td>India</td>\n",
       "      <td>42867031</td>\n",
       "      <td>512622</td>\n",
       "      <td>42851929</td>\n",
       "      <td>512344</td>\n",
       "      <td>15102</td>\n",
       "      <td>278</td>\n",
       "      <td>1.2</td>\n",
       "      <td>Asia</td>\n",
       "    </tr>\n",
       "    <tr>\n",
       "      <th>2</th>\n",
       "      <td>Brazil</td>\n",
       "      <td>28361951</td>\n",
       "      <td>645735</td>\n",
       "      <td>28258458</td>\n",
       "      <td>644918</td>\n",
       "      <td>103493</td>\n",
       "      <td>817</td>\n",
       "      <td>2.3</td>\n",
       "      <td>South America</td>\n",
       "    </tr>\n",
       "    <tr>\n",
       "      <th>3</th>\n",
       "      <td>France</td>\n",
       "      <td>22563594</td>\n",
       "      <td>138277</td>\n",
       "      <td>22466076</td>\n",
       "      <td>133663</td>\n",
       "      <td>97518</td>\n",
       "      <td>4614</td>\n",
       "      <td>0.6</td>\n",
       "      <td>Europe</td>\n",
       "    </tr>\n",
       "    <tr>\n",
       "      <th>4</th>\n",
       "      <td>United Kingdom</td>\n",
       "      <td>18826968</td>\n",
       "      <td>161384</td>\n",
       "      <td>18785333</td>\n",
       "      <td>161179</td>\n",
       "      <td>41635</td>\n",
       "      <td>205</td>\n",
       "      <td>0.9</td>\n",
       "      <td>Europe</td>\n",
       "    </tr>\n",
       "  </tbody>\n",
       "</table>\n",
       "</div>"
      ],
      "text/plain": [
       "   Country/Region     Cases  Deaths    PCases  PDeaths  Cases (+)  Deaths (+)  \\\n",
       "0              US  78648651  939064  78548831   936764      99820        2300   \n",
       "1           India  42867031  512622  42851929   512344      15102         278   \n",
       "2          Brazil  28361951  645735  28258458   644918     103493         817   \n",
       "3          France  22563594  138277  22466076   133663      97518        4614   \n",
       "4  United Kingdom  18826968  161384  18785333   161179      41635         205   \n",
       "\n",
       "   Fatality Rate      Continent  \n",
       "0            1.2  North America  \n",
       "1            1.2           Asia  \n",
       "2            2.3  South America  \n",
       "3            0.6         Europe  \n",
       "4            0.9         Europe  "
      ]
     },
     "execution_count": 15,
     "metadata": {},
     "output_type": "execute_result"
    }
   ],
   "source": [
    "#hide\n",
    "df_table = (pd.DataFrame(dict(Cases=dfc_cases, Deaths=dfc_deaths, PCases=dfp_cases, PDeaths=dfp_deaths))\n",
    "             .sort_values(by=['Cases', 'Deaths'], ascending=[False, False])\n",
    "             .reset_index())\n",
    "df_table.rename(columns={'index': 'Country/Region'}, inplace=True)\n",
    "for c in 'Cases, Deaths'.split(', '):\n",
    "    df_table[f'{c} (+)'] = (df_table[c] - df_table[f'P{c}']).clip(0)  # DATA BUG\n",
    "df_table['Fatality Rate'] = (100 * df_table['Deaths'] / df_table['Cases']).round(1)\n",
    "df_table['Continent'] = df_table['Country/Region'].map(mapping['map.continent'])\n",
    "df_table.head(5)"
   ]
  },
  {
   "cell_type": "code",
   "execution_count": 16,
   "id": "fewer-occasion",
   "metadata": {
    "execution": {
     "iopub.execute_input": "2022-02-23T12:14:12.062894Z",
     "iopub.status.busy": "2022-02-23T12:14:12.062400Z",
     "iopub.status.idle": "2022-02-23T12:14:12.064235Z",
     "shell.execute_reply": "2022-02-23T12:14:12.064635Z"
    },
    "papermill": {
     "duration": 0.038649,
     "end_time": "2022-02-23T12:14:12.064748",
     "exception": false,
     "start_time": "2022-02-23T12:14:12.026099",
     "status": "completed"
    },
    "tags": []
   },
   "outputs": [],
   "source": [
    "#hide\n",
    "#delete problematic countries from table\n",
    "df_table = df_table[~df_table['Country/Region'].isin(['Cape Verde', 'Cruise Ship', 'Kosovo'])]"
   ]
  },
  {
   "cell_type": "code",
   "execution_count": 17,
   "id": "related-center",
   "metadata": {
    "execution": {
     "iopub.execute_input": "2022-02-23T12:14:12.145398Z",
     "iopub.status.busy": "2022-02-23T12:14:12.144898Z",
     "iopub.status.idle": "2022-02-23T12:14:12.146527Z",
     "shell.execute_reply": "2022-02-23T12:14:12.146908Z"
    },
    "papermill": {
     "duration": 0.050114,
     "end_time": "2022-02-23T12:14:12.147019",
     "exception": false,
     "start_time": "2022-02-23T12:14:12.096905",
     "status": "completed"
    },
    "tags": []
   },
   "outputs": [],
   "source": [
    "#hide\n",
    "metrics = [df_table.columns[index] for index in [1,2,5,6]]\n",
    "# s_china = df_table[df_table['Country/Region'].eq('China')][metrics].sum().add_prefix('China ')\n",
    "s_us = df_table[df_table['Country/Region'].eq('US')][metrics].sum().add_prefix('US ')\n",
    "s_eu = df_table[df_table['Continent'].eq('Europe')][metrics].sum().add_prefix('EU ')\n",
    "s_ind = df_table[df_table['Country/Region'].eq('India')][metrics].sum().add_prefix('India ')\n",
    "summary = {'updated': pd.to_datetime(dt_today), 'since': pd.to_datetime(dt_yday)}\n",
    "summary = {'updated': pd.to_datetime(dt_today), 'since': pd.to_datetime(dt_yday)}\n",
    "summary = {**summary, **df_table[metrics].sum(), **s_ind, **s_us, **s_eu}"
   ]
  },
  {
   "cell_type": "code",
   "execution_count": 18,
   "id": "engaging-syndrome",
   "metadata": {
    "execution": {
     "iopub.execute_input": "2022-02-23T12:14:12.215655Z",
     "iopub.status.busy": "2022-02-23T12:14:12.215161Z",
     "iopub.status.idle": "2022-02-23T12:14:12.228830Z",
     "shell.execute_reply": "2022-02-23T12:14:12.228450Z"
    },
    "papermill": {
     "duration": 0.049778,
     "end_time": "2022-02-23T12:14:12.228930",
     "exception": false,
     "start_time": "2022-02-23T12:14:12.179152",
     "status": "completed"
    },
    "tags": []
   },
   "outputs": [],
   "source": [
    "#hide\n",
    "dft_ct_new_cases = dft_cases.groupby(COL_REGION)[dt_cols].sum().diff(axis=1).fillna(0).astype(int)"
   ]
  },
  {
   "cell_type": "code",
   "execution_count": 19,
   "id": "neutral-assignment",
   "metadata": {
    "execution": {
     "iopub.execute_input": "2022-02-23T12:14:12.298437Z",
     "iopub.status.busy": "2022-02-23T12:14:12.297914Z",
     "iopub.status.idle": "2022-02-23T12:14:12.299933Z",
     "shell.execute_reply": "2022-02-23T12:14:12.299457Z"
    },
    "papermill": {
     "duration": 0.038891,
     "end_time": "2022-02-23T12:14:12.300030",
     "exception": false,
     "start_time": "2022-02-23T12:14:12.261139",
     "status": "completed"
    },
    "tags": []
   },
   "outputs": [],
   "source": [
    "#hide\n",
    "everydaycases = dft_ct_new_cases.cumsum(axis=1)"
   ]
  },
  {
   "cell_type": "code",
   "execution_count": 20,
   "id": "parliamentary-calgary",
   "metadata": {
    "execution": {
     "iopub.execute_input": "2022-02-23T12:14:12.368145Z",
     "iopub.status.busy": "2022-02-23T12:14:12.367645Z",
     "iopub.status.idle": "2022-02-23T12:14:12.945382Z",
     "shell.execute_reply": "2022-02-23T12:14:12.944926Z"
    },
    "papermill": {
     "duration": 0.613113,
     "end_time": "2022-02-23T12:14:12.945499",
     "exception": false,
     "start_time": "2022-02-23T12:14:12.332386",
     "status": "completed"
    },
    "tags": []
   },
   "outputs": [],
   "source": [
    "#hide\n",
    "import pandas as pd\n",
    "import matplotlib.pyplot as plt\n",
    "import matplotlib.ticker as ticker\n",
    "import matplotlib.animation as animation\n",
    "from IPython.display import HTML"
   ]
  },
  {
   "cell_type": "code",
   "execution_count": 21,
   "id": "lasting-extraction",
   "metadata": {
    "execution": {
     "iopub.execute_input": "2022-02-23T12:14:13.014801Z",
     "iopub.status.busy": "2022-02-23T12:14:13.014311Z",
     "iopub.status.idle": "2022-02-23T12:14:13.019363Z",
     "shell.execute_reply": "2022-02-23T12:14:13.019766Z"
    },
    "papermill": {
     "duration": 0.042112,
     "end_time": "2022-02-23T12:14:13.019876",
     "exception": false,
     "start_time": "2022-02-23T12:14:12.977764",
     "status": "completed"
    },
    "tags": []
   },
   "outputs": [],
   "source": [
    "#hide\n",
    "t = everydaycases.stack()"
   ]
  },
  {
   "cell_type": "code",
   "execution_count": 22,
   "id": "premier-sleeve",
   "metadata": {
    "execution": {
     "iopub.execute_input": "2022-02-23T12:14:13.087564Z",
     "iopub.status.busy": "2022-02-23T12:14:13.087064Z",
     "iopub.status.idle": "2022-02-23T12:14:13.096067Z",
     "shell.execute_reply": "2022-02-23T12:14:13.096491Z"
    },
    "papermill": {
     "duration": 0.044583,
     "end_time": "2022-02-23T12:14:13.096601",
     "exception": false,
     "start_time": "2022-02-23T12:14:13.052018",
     "status": "completed"
    },
    "tags": []
   },
   "outputs": [],
   "source": [
    "#hide\n",
    "g = t.reset_index(['Country/Region'])"
   ]
  },
  {
   "cell_type": "code",
   "execution_count": 23,
   "id": "distributed-pittsburgh",
   "metadata": {
    "execution": {
     "iopub.execute_input": "2022-02-23T12:14:13.164777Z",
     "iopub.status.busy": "2022-02-23T12:14:13.164270Z",
     "iopub.status.idle": "2022-02-23T12:14:13.167669Z",
     "shell.execute_reply": "2022-02-23T12:14:13.167268Z"
    },
    "papermill": {
     "duration": 0.038172,
     "end_time": "2022-02-23T12:14:13.167770",
     "exception": false,
     "start_time": "2022-02-23T12:14:13.129598",
     "status": "completed"
    },
    "tags": []
   },
   "outputs": [],
   "source": [
    "#hide\n",
    "g.index.name = 'date'"
   ]
  },
  {
   "cell_type": "code",
   "execution_count": 24,
   "id": "naked-donor",
   "metadata": {
    "execution": {
     "iopub.execute_input": "2022-02-23T12:14:13.235282Z",
     "iopub.status.busy": "2022-02-23T12:14:13.234783Z",
     "iopub.status.idle": "2022-02-23T12:14:13.236579Z",
     "shell.execute_reply": "2022-02-23T12:14:13.236961Z"
    },
    "papermill": {
     "duration": 0.036988,
     "end_time": "2022-02-23T12:14:13.237078",
     "exception": false,
     "start_time": "2022-02-23T12:14:13.200090",
     "status": "completed"
    },
    "tags": []
   },
   "outputs": [],
   "source": [
    "# #hide\n",
    "# g = g.reset_index(['date'])"
   ]
  },
  {
   "cell_type": "code",
   "execution_count": 25,
   "id": "incomplete-mustang",
   "metadata": {
    "execution": {
     "iopub.execute_input": "2022-02-23T12:14:13.304347Z",
     "iopub.status.busy": "2022-02-23T12:14:13.303864Z",
     "iopub.status.idle": "2022-02-23T12:14:13.305896Z",
     "shell.execute_reply": "2022-02-23T12:14:13.305496Z"
    },
    "papermill": {
     "duration": 0.036553,
     "end_time": "2022-02-23T12:14:13.306005",
     "exception": false,
     "start_time": "2022-02-23T12:14:13.269452",
     "status": "completed"
    },
    "tags": []
   },
   "outputs": [],
   "source": [
    "#hide\n",
    "# g.head()"
   ]
  },
  {
   "cell_type": "code",
   "execution_count": 26,
   "id": "specific-kruger",
   "metadata": {
    "execution": {
     "iopub.execute_input": "2022-02-23T12:14:13.373155Z",
     "iopub.status.busy": "2022-02-23T12:14:13.372650Z",
     "iopub.status.idle": "2022-02-23T12:14:13.374701Z",
     "shell.execute_reply": "2022-02-23T12:14:13.374235Z"
    },
    "papermill": {
     "duration": 0.036529,
     "end_time": "2022-02-23T12:14:13.374795",
     "exception": false,
     "start_time": "2022-02-23T12:14:13.338266",
     "status": "completed"
    },
    "tags": []
   },
   "outputs": [],
   "source": [
    "#hide\n",
    "# g.columns = ['date','country','cases']"
   ]
  },
  {
   "cell_type": "code",
   "execution_count": 27,
   "id": "tender-conversion",
   "metadata": {
    "execution": {
     "iopub.execute_input": "2022-02-23T12:14:13.441838Z",
     "iopub.status.busy": "2022-02-23T12:14:13.441339Z",
     "iopub.status.idle": "2022-02-23T12:14:13.444712Z",
     "shell.execute_reply": "2022-02-23T12:14:13.444318Z"
    },
    "papermill": {
     "duration": 0.038054,
     "end_time": "2022-02-23T12:14:13.444810",
     "exception": false,
     "start_time": "2022-02-23T12:14:13.406756",
     "status": "completed"
    },
    "tags": []
   },
   "outputs": [],
   "source": [
    "#hide\n",
    "# g['continent'] = g.country"
   ]
  },
  {
   "cell_type": "code",
   "execution_count": 28,
   "id": "substantial-wilderness",
   "metadata": {
    "execution": {
     "iopub.execute_input": "2022-02-23T12:14:13.512069Z",
     "iopub.status.busy": "2022-02-23T12:14:13.511558Z",
     "iopub.status.idle": "2022-02-23T12:14:13.513386Z",
     "shell.execute_reply": "2022-02-23T12:14:13.513765Z"
    },
    "papermill": {
     "duration": 0.036837,
     "end_time": "2022-02-23T12:14:13.513880",
     "exception": false,
     "start_time": "2022-02-23T12:14:13.477043",
     "status": "completed"
    },
    "tags": []
   },
   "outputs": [],
   "source": [
    "#hide\n",
    "# cols = list(g.columns.values)"
   ]
  },
  {
   "cell_type": "code",
   "execution_count": 29,
   "id": "solved-farming",
   "metadata": {
    "execution": {
     "iopub.execute_input": "2022-02-23T12:14:13.581470Z",
     "iopub.status.busy": "2022-02-23T12:14:13.580935Z",
     "iopub.status.idle": "2022-02-23T12:14:13.583043Z",
     "shell.execute_reply": "2022-02-23T12:14:13.582622Z"
    },
    "papermill": {
     "duration": 0.036725,
     "end_time": "2022-02-23T12:14:13.583143",
     "exception": false,
     "start_time": "2022-02-23T12:14:13.546418",
     "status": "completed"
    },
    "tags": []
   },
   "outputs": [],
   "source": [
    "#hide\n",
    "# cols.insert(0, cols.pop())"
   ]
  },
  {
   "cell_type": "code",
   "execution_count": 30,
   "id": "executed-adoption",
   "metadata": {
    "execution": {
     "iopub.execute_input": "2022-02-23T12:14:13.649761Z",
     "iopub.status.busy": "2022-02-23T12:14:13.649285Z",
     "iopub.status.idle": "2022-02-23T12:14:13.651918Z",
     "shell.execute_reply": "2022-02-23T12:14:13.652289Z"
    },
    "papermill": {
     "duration": 0.036914,
     "end_time": "2022-02-23T12:14:13.652401",
     "exception": false,
     "start_time": "2022-02-23T12:14:13.615487",
     "status": "completed"
    },
    "tags": []
   },
   "outputs": [],
   "source": [
    "#hide\n",
    "# g = g[cols]"
   ]
  },
  {
   "cell_type": "code",
   "execution_count": 31,
   "id": "subject-dublin",
   "metadata": {
    "execution": {
     "iopub.execute_input": "2022-02-23T12:14:13.720310Z",
     "iopub.status.busy": "2022-02-23T12:14:13.719824Z",
     "iopub.status.idle": "2022-02-23T12:14:13.722382Z",
     "shell.execute_reply": "2022-02-23T12:14:13.722780Z"
    },
    "papermill": {
     "duration": 0.036918,
     "end_time": "2022-02-23T12:14:13.722888",
     "exception": false,
     "start_time": "2022-02-23T12:14:13.685970",
     "status": "completed"
    },
    "tags": []
   },
   "outputs": [],
   "source": [
    "#hide\n",
    "# g['continent'] = g['continent'].map(mapping['map.continent'])"
   ]
  },
  {
   "cell_type": "code",
   "execution_count": 32,
   "id": "freelance-scout",
   "metadata": {
    "execution": {
     "iopub.execute_input": "2022-02-23T12:14:13.789830Z",
     "iopub.status.busy": "2022-02-23T12:14:13.789315Z",
     "iopub.status.idle": "2022-02-23T12:14:13.792282Z",
     "shell.execute_reply": "2022-02-23T12:14:13.792666Z"
    },
    "papermill": {
     "duration": 0.037885,
     "end_time": "2022-02-23T12:14:13.792782",
     "exception": false,
     "start_time": "2022-02-23T12:14:13.754897",
     "status": "completed"
    },
    "tags": []
   },
   "outputs": [],
   "source": [
    "#hide\n",
    "# g.head()"
   ]
  },
  {
   "cell_type": "code",
   "execution_count": 33,
   "id": "limited-engine",
   "metadata": {
    "execution": {
     "iopub.execute_input": "2022-02-23T12:14:13.861263Z",
     "iopub.status.busy": "2022-02-23T12:14:13.860763Z",
     "iopub.status.idle": "2022-02-23T12:14:13.862961Z",
     "shell.execute_reply": "2022-02-23T12:14:13.862553Z"
    },
    "papermill": {
     "duration": 0.036641,
     "end_time": "2022-02-23T12:14:13.863060",
     "exception": false,
     "start_time": "2022-02-23T12:14:13.826419",
     "status": "completed"
    },
    "tags": []
   },
   "outputs": [],
   "source": [
    "# hide\n",
    "# g['date'] = g['date'].astype('datetime64[ns]')"
   ]
  },
  {
   "cell_type": "code",
   "execution_count": 34,
   "id": "sophisticated-supervisor",
   "metadata": {
    "execution": {
     "iopub.execute_input": "2022-02-23T12:14:13.930157Z",
     "iopub.status.busy": "2022-02-23T12:14:13.929621Z",
     "iopub.status.idle": "2022-02-23T12:14:13.931629Z",
     "shell.execute_reply": "2022-02-23T12:14:13.931230Z"
    },
    "papermill": {
     "duration": 0.036509,
     "end_time": "2022-02-23T12:14:13.931723",
     "exception": false,
     "start_time": "2022-02-23T12:14:13.895214",
     "status": "completed"
    },
    "tags": []
   },
   "outputs": [],
   "source": [
    "#hide\n",
    "# g['date'] = g.date.dt.dayofyear"
   ]
  },
  {
   "cell_type": "code",
   "execution_count": 35,
   "id": "inside-dubai",
   "metadata": {
    "execution": {
     "iopub.execute_input": "2022-02-23T12:14:13.998629Z",
     "iopub.status.busy": "2022-02-23T12:14:13.998120Z",
     "iopub.status.idle": "2022-02-23T12:14:14.000158Z",
     "shell.execute_reply": "2022-02-23T12:14:13.999695Z"
    },
    "papermill": {
     "duration": 0.036574,
     "end_time": "2022-02-23T12:14:14.000251",
     "exception": false,
     "start_time": "2022-02-23T12:14:13.963677",
     "status": "completed"
    },
    "tags": []
   },
   "outputs": [],
   "source": [
    "#hide\n",
    "# g = g.rename(columns= {'continent':'group','country':'name','cases':'value'})"
   ]
  },
  {
   "cell_type": "code",
   "execution_count": 36,
   "id": "fleet-motorcycle",
   "metadata": {
    "execution": {
     "iopub.execute_input": "2022-02-23T12:14:14.067313Z",
     "iopub.status.busy": "2022-02-23T12:14:14.066834Z",
     "iopub.status.idle": "2022-02-23T12:14:14.068899Z",
     "shell.execute_reply": "2022-02-23T12:14:14.068520Z"
    },
    "papermill": {
     "duration": 0.036501,
     "end_time": "2022-02-23T12:14:14.068994",
     "exception": false,
     "start_time": "2022-02-23T12:14:14.032493",
     "status": "completed"
    },
    "tags": []
   },
   "outputs": [],
   "source": [
    "#hide\n",
    "# cols = ['name','group','day','value']"
   ]
  },
  {
   "cell_type": "code",
   "execution_count": 37,
   "id": "continued-sleeping",
   "metadata": {
    "execution": {
     "iopub.execute_input": "2022-02-23T12:14:14.139104Z",
     "iopub.status.busy": "2022-02-23T12:14:14.138606Z",
     "iopub.status.idle": "2022-02-23T12:14:14.140657Z",
     "shell.execute_reply": "2022-02-23T12:14:14.140195Z"
    },
    "papermill": {
     "duration": 0.036883,
     "end_time": "2022-02-23T12:14:14.140751",
     "exception": false,
     "start_time": "2022-02-23T12:14:14.103868",
     "status": "completed"
    },
    "tags": []
   },
   "outputs": [],
   "source": [
    "#hide\n",
    "# g.rename(columns= {'date':'day'},inplace = True)"
   ]
  },
  {
   "cell_type": "code",
   "execution_count": 38,
   "id": "major-fight",
   "metadata": {
    "execution": {
     "iopub.execute_input": "2022-02-23T12:14:14.207775Z",
     "iopub.status.busy": "2022-02-23T12:14:14.207282Z",
     "iopub.status.idle": "2022-02-23T12:14:14.210167Z",
     "shell.execute_reply": "2022-02-23T12:14:14.210544Z"
    },
    "papermill": {
     "duration": 0.037789,
     "end_time": "2022-02-23T12:14:14.210657",
     "exception": false,
     "start_time": "2022-02-23T12:14:14.172868",
     "status": "completed"
    },
    "tags": []
   },
   "outputs": [],
   "source": [
    "#hide\n",
    "# g = g[cols]"
   ]
  },
  {
   "cell_type": "code",
   "execution_count": 39,
   "id": "structured-mobile",
   "metadata": {
    "execution": {
     "iopub.execute_input": "2022-02-23T12:14:14.277538Z",
     "iopub.status.busy": "2022-02-23T12:14:14.277049Z",
     "iopub.status.idle": "2022-02-23T12:14:14.278874Z",
     "shell.execute_reply": "2022-02-23T12:14:14.279252Z"
    },
    "papermill": {
     "duration": 0.036799,
     "end_time": "2022-02-23T12:14:14.279365",
     "exception": false,
     "start_time": "2022-02-23T12:14:14.242566",
     "status": "completed"
    },
    "tags": []
   },
   "outputs": [],
   "source": [
    "# #hide\n",
    "# g = g[g.group.notna()]"
   ]
  },
  {
   "cell_type": "code",
   "execution_count": 40,
   "id": "determined-closing",
   "metadata": {
    "execution": {
     "iopub.execute_input": "2022-02-23T12:14:14.346622Z",
     "iopub.status.busy": "2022-02-23T12:14:14.346114Z",
     "iopub.status.idle": "2022-02-23T12:14:14.347798Z",
     "shell.execute_reply": "2022-02-23T12:14:14.348175Z"
    },
    "papermill": {
     "duration": 0.036747,
     "end_time": "2022-02-23T12:14:14.348281",
     "exception": false,
     "start_time": "2022-02-23T12:14:14.311534",
     "status": "completed"
    },
    "tags": []
   },
   "outputs": [],
   "source": [
    "# #hide\n",
    "# colors = dict(zip(\n",
    "#     [\"Oceania\", \"Europe\", \"Asia\", \"South America\", \"Middle East\", \"North America\", \"Africa\"],\n",
    "#     [\"#adb0ff\", \"#ffb3ff\", \"#90d595\", \"#e48381\", \"#aafbff\", \"#f7bb5f\", \"#eafb50\"]\n",
    "# ))\n",
    "# group_lk = g.set_index('name')['group'].to_dict()"
   ]
  },
  {
   "cell_type": "code",
   "execution_count": null,
   "id": "gross-drinking",
   "metadata": {
    "papermill": {
     "duration": 0.031831,
     "end_time": "2022-02-23T12:14:14.412089",
     "exception": false,
     "start_time": "2022-02-23T12:14:14.380258",
     "status": "completed"
    },
    "tags": []
   },
   "outputs": [],
   "source": []
  },
  {
   "cell_type": "code",
   "execution_count": 41,
   "id": "subject-macintosh",
   "metadata": {
    "execution": {
     "iopub.execute_input": "2022-02-23T12:14:14.480002Z",
     "iopub.status.busy": "2022-02-23T12:14:14.479473Z",
     "iopub.status.idle": "2022-02-23T12:14:14.480979Z",
     "shell.execute_reply": "2022-02-23T12:14:14.481362Z"
    },
    "papermill": {
     "duration": 0.037303,
     "end_time": "2022-02-23T12:14:14.481473",
     "exception": false,
     "start_time": "2022-02-23T12:14:14.444170",
     "status": "completed"
    },
    "tags": []
   },
   "outputs": [],
   "source": [
    "# #hide\n",
    "# fig, ax = plt.subplots(figsize=(15, 8))\n",
    "\n",
    "# def draw_barchart(current_day):\n",
    "#     dff = g[g['day'].eq(current_day)].sort_values(by='value', ascending=True).tail(10)\n",
    "#     ax.clear()\n",
    "#     ax.barh(dff['name'], dff['value'], color=[colors[group_lk[x]] for x in dff['name']])\n",
    "#     dx = dff['value'].max() / 200\n",
    "    \n",
    "#     for i, (value, name) in enumerate(zip(dff['value'], dff['name'])):\n",
    "#         ax.text(value-dx, i,     name,           size=14, weight=600, ha='right', va='bottom')\n",
    "#         ax.text(value-dx, i-.25, group_lk[name], size=10, color='#444444', ha='right', va='baseline')\n",
    "#         ax.text(value+dx, i,     f'{value:,.0f}',  size=14, ha='left',  va='center')\n",
    "#     ax.text(1, 0.4, current_day, transform=ax.transAxes, color='#777777', size=46, ha='right', weight=800)\n",
    "#     ax.text(0, 1.06, 'Population (thousands)', transform=ax.transAxes, size=12, color='#777777')\n",
    "#     ax.xaxis.set_major_formatter(ticker.StrMethodFormatter('{x:,.0f}'))\n",
    "#     ax.xaxis.set_ticks_position('top')\n",
    "#     ax.tick_params(axis='x', colors='#777777', labelsize=12)\n",
    "#     ax.set_yticks([])\n",
    "#     ax.margins(0, 0.01)\n",
    "#     ax.grid(which='major', axis='x', linestyle='-')\n",
    "#     ax.set_axisbelow(True)\n",
    "    \n",
    "#     ax.text(0, 1.15, 'Coronavirus',\n",
    "#             transform=ax.transAxes, size=24, weight=600, ha='left', va='top')\n",
    "# #     ax.text(1, 0, 'by @pratapvardhan; credit @jburnmurdoch', transform=ax.transAxes, color='#777777', ha='right',\n",
    "# #             bbox=dict(facecolor='white', alpha=0.8, edgecolor='white'))\n",
    "#     plt.box(False)"
   ]
  },
  {
   "cell_type": "code",
   "execution_count": 42,
   "id": "sexual-wages",
   "metadata": {
    "execution": {
     "iopub.execute_input": "2022-02-23T12:14:14.548574Z",
     "iopub.status.busy": "2022-02-23T12:14:14.548072Z",
     "iopub.status.idle": "2022-02-23T12:14:14.551447Z",
     "shell.execute_reply": "2022-02-23T12:14:14.551042Z"
    },
    "papermill": {
     "duration": 0.03806,
     "end_time": "2022-02-23T12:14:14.551546",
     "exception": false,
     "start_time": "2022-02-23T12:14:14.513486",
     "status": "completed"
    },
    "tags": []
   },
   "outputs": [],
   "source": [
    "# #hide_input\n",
    "# fig, ax = plt.subplots(figsize=(15, 8))\n",
    "# animator = animation.FuncAnimation(fig, draw_barchart, frames=range(g.day.values.min(), g.day.values.max()))\n",
    "# HTML(animator.to_jshtml())\n",
    "# # or use animator.to_html5_video() or animator.save() "
   ]
  },
  {
   "cell_type": "code",
   "execution_count": null,
   "id": "australian-container",
   "metadata": {
    "papermill": {
     "duration": 0.032087,
     "end_time": "2022-02-23T12:14:14.615656",
     "exception": false,
     "start_time": "2022-02-23T12:14:14.583569",
     "status": "completed"
    },
    "tags": []
   },
   "outputs": [],
   "source": []
  },
  {
   "cell_type": "code",
   "execution_count": null,
   "id": "mediterranean-pontiac",
   "metadata": {
    "papermill": {
     "duration": 0.031841,
     "end_time": "2022-02-23T12:14:14.679459",
     "exception": false,
     "start_time": "2022-02-23T12:14:14.647618",
     "status": "completed"
    },
    "tags": []
   },
   "outputs": [],
   "source": []
  },
  {
   "cell_type": "code",
   "execution_count": null,
   "id": "aging-legislature",
   "metadata": {
    "papermill": {
     "duration": 0.031735,
     "end_time": "2022-02-23T12:14:14.743192",
     "exception": false,
     "start_time": "2022-02-23T12:14:14.711457",
     "status": "completed"
    },
    "tags": []
   },
   "outputs": [],
   "source": []
  }
 ],
 "metadata": {
  "kernelspec": {
   "display_name": "Python 3",
   "language": "python",
   "name": "python3"
  },
  "language_info": {
   "codemirror_mode": {
    "name": "ipython",
    "version": 3
   },
   "file_extension": ".py",
   "mimetype": "text/x-python",
   "name": "python",
   "nbconvert_exporter": "python",
   "pygments_lexer": "ipython3",
   "version": "3.6.15"
  },
  "papermill": {
   "duration": 6.272386,
   "end_time": "2022-02-23T12:14:15.092504",
   "environment_variables": {},
   "exception": null,
   "input_path": "2020-03-21-covid19exp.ipynb",
   "output_path": "2020-03-21-covid19exp.ipynb",
   "parameters": {},
   "start_time": "2022-02-23T12:14:08.820118",
   "version": "2.0.0"
  }
 },
 "nbformat": 4,
 "nbformat_minor": 5
}