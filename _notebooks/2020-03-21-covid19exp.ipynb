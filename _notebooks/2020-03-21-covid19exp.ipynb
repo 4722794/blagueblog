{
 "cells": [
  {
   "cell_type": "markdown",
   "id": "muslim-click",
   "metadata": {
    "papermill": {
     "duration": 0.04178,
     "end_time": "2022-04-08T00:42:15.028068",
     "exception": false,
     "start_time": "2022-04-08T00:42:14.986288",
     "status": "completed"
    },
    "tags": []
   },
   "source": [
    "# COVID-19 Case Race\n",
    "> A race chart to see rising cases around the world\n",
    "\n",
    "- author: Hargun Oberoi\n",
    "- image: images/covid-overview.png\n",
    "- hide: false\n",
    "- badges: false"
   ]
  },
  {
   "cell_type": "code",
   "execution_count": 1,
   "id": "proof-material",
   "metadata": {
    "execution": {
     "iopub.execute_input": "2022-04-08T00:42:15.114438Z",
     "iopub.status.busy": "2022-04-08T00:42:15.113842Z",
     "iopub.status.idle": "2022-04-08T00:42:15.481440Z",
     "shell.execute_reply": "2022-04-08T00:42:15.480889Z"
    },
    "papermill": {
     "duration": 0.412664,
     "end_time": "2022-04-08T00:42:15.481602",
     "exception": false,
     "start_time": "2022-04-08T00:42:15.068938",
     "status": "completed"
    },
    "tags": []
   },
   "outputs": [],
   "source": [
    "#hide\n",
    "import numpy as np\n",
    "import pandas as pd\n",
    "from jinja2 import Template\n",
    "from IPython.display import HTML"
   ]
  },
  {
   "cell_type": "code",
   "execution_count": 2,
   "id": "developed-terminology",
   "metadata": {
    "execution": {
     "iopub.execute_input": "2022-04-08T00:42:15.556028Z",
     "iopub.status.busy": "2022-04-08T00:42:15.555429Z",
     "iopub.status.idle": "2022-04-08T00:42:15.557582Z",
     "shell.execute_reply": "2022-04-08T00:42:15.558070Z"
    },
    "papermill": {
     "duration": 0.041607,
     "end_time": "2022-04-08T00:42:15.558205",
     "exception": false,
     "start_time": "2022-04-08T00:42:15.516598",
     "status": "completed"
    },
    "tags": []
   },
   "outputs": [],
   "source": [
    "#hide\n",
    "\n",
    "# FETCH\n",
    "base_url = 'https://raw.githubusercontent.com/pratapvardhan/notebooks/master/covid19/'\n",
    "paths = {\n",
    "    'mapping': base_url + 'mapping_countries.csv',\n",
    "    'overview': base_url + 'overview.tpl'\n",
    "}"
   ]
  },
  {
   "cell_type": "code",
   "execution_count": 3,
   "id": "dynamic-saver",
   "metadata": {
    "execution": {
     "iopub.execute_input": "2022-04-08T00:42:15.648840Z",
     "iopub.status.busy": "2022-04-08T00:42:15.648162Z",
     "iopub.status.idle": "2022-04-08T00:42:15.651260Z",
     "shell.execute_reply": "2022-04-08T00:42:15.651723Z"
    },
    "papermill": {
     "duration": 0.058101,
     "end_time": "2022-04-08T00:42:15.651867",
     "exception": false,
     "start_time": "2022-04-08T00:42:15.593766",
     "status": "completed"
    },
    "tags": []
   },
   "outputs": [
    {
     "data": {
      "text/plain": [
       "'https://raw.githubusercontent.com/pratapvardhan/notebooks/master/covid19/mapping_countries.csv'"
      ]
     },
     "execution_count": 3,
     "metadata": {},
     "output_type": "execute_result"
    }
   ],
   "source": [
    "#hide\n",
    "paths['mapping']"
   ]
  },
  {
   "cell_type": "code",
   "execution_count": 4,
   "id": "urban-software",
   "metadata": {
    "execution": {
     "iopub.execute_input": "2022-04-08T00:42:15.734285Z",
     "iopub.status.busy": "2022-04-08T00:42:15.733612Z",
     "iopub.status.idle": "2022-04-08T00:42:15.736412Z",
     "shell.execute_reply": "2022-04-08T00:42:15.735924Z"
    },
    "papermill": {
     "duration": 0.047063,
     "end_time": "2022-04-08T00:42:15.736532",
     "exception": false,
     "start_time": "2022-04-08T00:42:15.689469",
     "status": "completed"
    },
    "tags": []
   },
   "outputs": [],
   "source": [
    "#hide\n",
    "def get_mappings(url):\n",
    "    df = pd.read_csv(url)\n",
    "    return {\n",
    "        'df': df,\n",
    "        'replace.country': dict(df.dropna(subset=['Name']).set_index('Country')['Name']),\n",
    "        'map.continent': dict(df.set_index('Name')['Continent'])\n",
    "    }"
   ]
  },
  {
   "cell_type": "code",
   "execution_count": 5,
   "id": "intimate-machinery",
   "metadata": {
    "execution": {
     "iopub.execute_input": "2022-04-08T00:42:15.822459Z",
     "iopub.status.busy": "2022-04-08T00:42:15.821799Z",
     "iopub.status.idle": "2022-04-08T00:42:15.860717Z",
     "shell.execute_reply": "2022-04-08T00:42:15.861299Z"
    },
    "papermill": {
     "duration": 0.084484,
     "end_time": "2022-04-08T00:42:15.861482",
     "exception": false,
     "start_time": "2022-04-08T00:42:15.776998",
     "status": "completed"
    },
    "tags": []
   },
   "outputs": [],
   "source": [
    "#hide\n",
    "mapping = get_mappings(paths['mapping'])"
   ]
  },
  {
   "cell_type": "code",
   "execution_count": 6,
   "id": "certified-tactics",
   "metadata": {
    "execution": {
     "iopub.execute_input": "2022-04-08T00:42:15.947407Z",
     "iopub.status.busy": "2022-04-08T00:42:15.946732Z",
     "iopub.status.idle": "2022-04-08T00:42:15.951660Z",
     "shell.execute_reply": "2022-04-08T00:42:15.952316Z"
    },
    "papermill": {
     "duration": 0.050258,
     "end_time": "2022-04-08T00:42:15.952471",
     "exception": false,
     "start_time": "2022-04-08T00:42:15.902213",
     "status": "completed"
    },
    "tags": []
   },
   "outputs": [],
   "source": [
    "#hide\n",
    "def get_template(path):\n",
    "    from urllib.parse import urlparse\n",
    "    if bool(urlparse(path).netloc):\n",
    "        from urllib.request import urlopen\n",
    "        return urlopen(path).read().decode('utf8')\n",
    "    return open(path).read()"
   ]
  },
  {
   "cell_type": "code",
   "execution_count": 7,
   "id": "realistic-blast",
   "metadata": {
    "execution": {
     "iopub.execute_input": "2022-04-08T00:42:16.033044Z",
     "iopub.status.busy": "2022-04-08T00:42:16.032277Z",
     "iopub.status.idle": "2022-04-08T00:42:16.034863Z",
     "shell.execute_reply": "2022-04-08T00:42:16.034208Z"
    },
    "papermill": {
     "duration": 0.043513,
     "end_time": "2022-04-08T00:42:16.034987",
     "exception": false,
     "start_time": "2022-04-08T00:42:15.991474",
     "status": "completed"
    },
    "tags": []
   },
   "outputs": [],
   "source": [
    "#hide\n",
    "def get_frame(name):\n",
    "    url = (\n",
    "        'https://raw.githubusercontent.com/CSSEGISandData/COVID-19/master/csse_covid_19_data/'\n",
    "        f'csse_covid_19_time_series/time_series_covid19_{name}_global.csv')\n",
    "    df = pd.read_csv(url)\n",
    "    # rename countries\n",
    "    df['Country/Region'] = df['Country/Region'].replace(mapping['replace.country'])\n",
    "    return df"
   ]
  },
  {
   "cell_type": "code",
   "execution_count": 8,
   "id": "affiliated-characterization",
   "metadata": {
    "execution": {
     "iopub.execute_input": "2022-04-08T00:42:16.113127Z",
     "iopub.status.busy": "2022-04-08T00:42:16.112496Z",
     "iopub.status.idle": "2022-04-08T00:42:16.114953Z",
     "shell.execute_reply": "2022-04-08T00:42:16.114461Z"
    },
    "papermill": {
     "duration": 0.0421,
     "end_time": "2022-04-08T00:42:16.115071",
     "exception": false,
     "start_time": "2022-04-08T00:42:16.072971",
     "status": "completed"
    },
    "tags": []
   },
   "outputs": [],
   "source": [
    "#hide\n",
    "def get_dates(df):\n",
    "    dt_cols = df.columns[~df.columns.isin(['Province/State', 'Country/Region', 'Lat', 'Long'])]\n",
    "    LAST_DATE_I = -1\n",
    "    # sometimes last column may be empty, then go backwards\n",
    "    for i in range(-1, -len(dt_cols), -1):\n",
    "        if not df[dt_cols[i]].fillna(0).eq(0).all():\n",
    "            LAST_DATE_I = i\n",
    "            break\n",
    "    return LAST_DATE_I, dt_cols"
   ]
  },
  {
   "cell_type": "code",
   "execution_count": 9,
   "id": "recent-optimization",
   "metadata": {
    "execution": {
     "iopub.execute_input": "2022-04-08T00:42:16.190204Z",
     "iopub.status.busy": "2022-04-08T00:42:16.189566Z",
     "iopub.status.idle": "2022-04-08T00:42:16.605458Z",
     "shell.execute_reply": "2022-04-08T00:42:16.605964Z"
    },
    "papermill": {
     "duration": 0.457258,
     "end_time": "2022-04-08T00:42:16.606137",
     "exception": false,
     "start_time": "2022-04-08T00:42:16.148879",
     "status": "completed"
    },
    "tags": []
   },
   "outputs": [],
   "source": [
    "#hide\n",
    "COL_REGION = 'Country/Region'\n",
    "# Confirmed, Recovered, Deaths\n",
    "df = get_frame('confirmed')\n",
    "# dft_: timeseries, dfc_: today country agg\n",
    "dft_cases = df\n",
    "dft_deaths = get_frame('deaths')\n",
    "dft_recovered = get_frame('recovered')\n",
    "LAST_DATE_I, dt_cols = get_dates(df)"
   ]
  },
  {
   "cell_type": "code",
   "execution_count": 10,
   "id": "absolute-copper",
   "metadata": {
    "execution": {
     "iopub.execute_input": "2022-04-08T00:42:16.683886Z",
     "iopub.status.busy": "2022-04-08T00:42:16.683180Z",
     "iopub.status.idle": "2022-04-08T00:42:16.686389Z",
     "shell.execute_reply": "2022-04-08T00:42:16.685655Z"
    },
    "papermill": {
     "duration": 0.04498,
     "end_time": "2022-04-08T00:42:16.686506",
     "exception": false,
     "start_time": "2022-04-08T00:42:16.641526",
     "status": "completed"
    },
    "tags": []
   },
   "outputs": [],
   "source": [
    "#hide\n",
    "LAST_DATE_I, dt_cols = get_dates(df)\n",
    "dt_today =dt_cols[LAST_DATE_I]\n",
    "# dt_5day = dt_cols[LAST_DATE_I - 5]\n",
    "dt_yday = dt_cols[LAST_DATE_I - 1]"
   ]
  },
  {
   "cell_type": "code",
   "execution_count": 11,
   "id": "restricted-sheriff",
   "metadata": {
    "execution": {
     "iopub.execute_input": "2022-04-08T00:42:16.774650Z",
     "iopub.status.busy": "2022-04-08T00:42:16.771963Z",
     "iopub.status.idle": "2022-04-08T00:42:16.776805Z",
     "shell.execute_reply": "2022-04-08T00:42:16.776063Z"
    },
    "papermill": {
     "duration": 0.055972,
     "end_time": "2022-04-08T00:42:16.776948",
     "exception": false,
     "start_time": "2022-04-08T00:42:16.720976",
     "status": "completed"
    },
    "tags": []
   },
   "outputs": [],
   "source": [
    "#hide\n",
    "dfc_cases = dft_cases.groupby(COL_REGION)[dt_today].sum()\n",
    "dfc_deaths = dft_deaths.groupby(COL_REGION)[dt_today].sum()\n",
    "# dfp_cases = dft_cases.groupby(COL_REGION)[dt_5day].sum()\n",
    "# dfp_deaths = dft_deaths.groupby(COL_REGION)[dt_5day].sum()\n",
    "dfp_cases = dft_cases.groupby(COL_REGION)[dt_yday].sum()\n",
    "dfp_deaths = dft_deaths.groupby(COL_REGION)[dt_yday].sum()"
   ]
  },
  {
   "cell_type": "code",
   "execution_count": 12,
   "id": "deluxe-hepatitis",
   "metadata": {
    "execution": {
     "iopub.execute_input": "2022-04-08T00:42:16.861847Z",
     "iopub.status.busy": "2022-04-08T00:42:16.861191Z",
     "iopub.status.idle": "2022-04-08T00:42:16.865944Z",
     "shell.execute_reply": "2022-04-08T00:42:16.866530Z"
    },
    "papermill": {
     "duration": 0.050817,
     "end_time": "2022-04-08T00:42:16.866692",
     "exception": false,
     "start_time": "2022-04-08T00:42:16.815875",
     "status": "completed"
    },
    "tags": []
   },
   "outputs": [],
   "source": [
    "#hide\n",
    "df_table = (pd.DataFrame(dict(Cases = dfc_cases, Deaths = dfc_deaths, PCases = dfp_cases, PDeaths = dfp_deaths))\n",
    "            .sort_values(by = ['Cases','Deaths'], ascending = [False, False])\n",
    "            .reset_index())"
   ]
  },
  {
   "cell_type": "code",
   "execution_count": 13,
   "id": "educational-chancellor",
   "metadata": {
    "execution": {
     "iopub.execute_input": "2022-04-08T00:42:16.965108Z",
     "iopub.status.busy": "2022-04-08T00:42:16.964394Z",
     "iopub.status.idle": "2022-04-08T00:42:16.975337Z",
     "shell.execute_reply": "2022-04-08T00:42:16.974769Z"
    },
    "papermill": {
     "duration": 0.070233,
     "end_time": "2022-04-08T00:42:16.975482",
     "exception": false,
     "start_time": "2022-04-08T00:42:16.905249",
     "status": "completed"
    },
    "tags": []
   },
   "outputs": [
    {
     "data": {
      "text/html": [
       "<div>\n",
       "<style scoped>\n",
       "    .dataframe tbody tr th:only-of-type {\n",
       "        vertical-align: middle;\n",
       "    }\n",
       "\n",
       "    .dataframe tbody tr th {\n",
       "        vertical-align: top;\n",
       "    }\n",
       "\n",
       "    .dataframe thead th {\n",
       "        text-align: right;\n",
       "    }\n",
       "</style>\n",
       "<table border=\"1\" class=\"dataframe\">\n",
       "  <thead>\n",
       "    <tr style=\"text-align: right;\">\n",
       "      <th></th>\n",
       "      <th>Country/Region</th>\n",
       "      <th>Cases</th>\n",
       "      <th>Deaths</th>\n",
       "      <th>PCases</th>\n",
       "      <th>PDeaths</th>\n",
       "      <th>Cases (+)</th>\n",
       "      <th>Deaths (+)</th>\n",
       "      <th>Fatality Rate</th>\n",
       "      <th>Continent</th>\n",
       "    </tr>\n",
       "  </thead>\n",
       "  <tbody>\n",
       "    <tr>\n",
       "      <th>0</th>\n",
       "      <td>US</td>\n",
       "      <td>80248986</td>\n",
       "      <td>983817</td>\n",
       "      <td>80208810</td>\n",
       "      <td>982576</td>\n",
       "      <td>40176</td>\n",
       "      <td>1241</td>\n",
       "      <td>1.23</td>\n",
       "      <td>North America</td>\n",
       "    </tr>\n",
       "    <tr>\n",
       "      <th>1</th>\n",
       "      <td>India</td>\n",
       "      <td>43031958</td>\n",
       "      <td>521530</td>\n",
       "      <td>43030925</td>\n",
       "      <td>521487</td>\n",
       "      <td>1033</td>\n",
       "      <td>43</td>\n",
       "      <td>1.21</td>\n",
       "      <td>Asia</td>\n",
       "    </tr>\n",
       "    <tr>\n",
       "      <th>2</th>\n",
       "      <td>Brazil</td>\n",
       "      <td>30069094</td>\n",
       "      <td>660980</td>\n",
       "      <td>30042272</td>\n",
       "      <td>660786</td>\n",
       "      <td>26822</td>\n",
       "      <td>194</td>\n",
       "      <td>2.20</td>\n",
       "      <td>South America</td>\n",
       "    </tr>\n",
       "    <tr>\n",
       "      <th>3</th>\n",
       "      <td>France</td>\n",
       "      <td>26579448</td>\n",
       "      <td>143949</td>\n",
       "      <td>26428476</td>\n",
       "      <td>143832</td>\n",
       "      <td>150972</td>\n",
       "      <td>117</td>\n",
       "      <td>0.54</td>\n",
       "      <td>Europe</td>\n",
       "    </tr>\n",
       "    <tr>\n",
       "      <th>4</th>\n",
       "      <td>Germany</td>\n",
       "      <td>22303440</td>\n",
       "      <td>131036</td>\n",
       "      <td>21886726</td>\n",
       "      <td>130368</td>\n",
       "      <td>416714</td>\n",
       "      <td>668</td>\n",
       "      <td>0.59</td>\n",
       "      <td>Europe</td>\n",
       "    </tr>\n",
       "  </tbody>\n",
       "</table>\n",
       "</div>"
      ],
      "text/plain": [
       "  Country/Region     Cases  Deaths    PCases  PDeaths  Cases (+)  Deaths (+)  \\\n",
       "0             US  80248986  983817  80208810   982576      40176        1241   \n",
       "1          India  43031958  521530  43030925   521487       1033          43   \n",
       "2         Brazil  30069094  660980  30042272   660786      26822         194   \n",
       "3         France  26579448  143949  26428476   143832     150972         117   \n",
       "4        Germany  22303440  131036  21886726   130368     416714         668   \n",
       "\n",
       "   Fatality Rate      Continent  \n",
       "0           1.23  North America  \n",
       "1           1.21           Asia  \n",
       "2           2.20  South America  \n",
       "3           0.54         Europe  \n",
       "4           0.59         Europe  "
      ]
     },
     "execution_count": 13,
     "metadata": {},
     "output_type": "execute_result"
    }
   ],
   "source": [
    "#hide\n",
    "for c in 'Cases, Deaths'.split(', '):\n",
    "    df_table[f'{c} (+)'] = (df_table[c] - df_table[f'P{c}']).clip(0)\n",
    "    #Clip ça veut dire, les chiffres negatif sont interdit\n",
    "df_table['Fatality Rate'] = (100* df_table['Deaths']/ df_table['Cases']).round(2)\n",
    "df_table['Continent'] = df_table['Country/Region'].map(mapping['map.continent'])\n",
    "df_table.head(5)"
   ]
  },
  {
   "cell_type": "code",
   "execution_count": 14,
   "id": "aboriginal-bulgaria",
   "metadata": {
    "execution": {
     "iopub.execute_input": "2022-04-08T00:42:17.053849Z",
     "iopub.status.busy": "2022-04-08T00:42:17.053263Z",
     "iopub.status.idle": "2022-04-08T00:42:17.055547Z",
     "shell.execute_reply": "2022-04-08T00:42:17.056098Z"
    },
    "papermill": {
     "duration": 0.044084,
     "end_time": "2022-04-08T00:42:17.056228",
     "exception": false,
     "start_time": "2022-04-08T00:42:17.012144",
     "status": "completed"
    },
    "tags": []
   },
   "outputs": [],
   "source": [
    "#hide\n",
    "#delete problematic countries from table\n",
    "df_table = df_table[~df_table['Country/Region'].isin(['Cape Verde', 'Cruise Ship', 'Kosovo'])]"
   ]
  },
  {
   "cell_type": "code",
   "execution_count": 15,
   "id": "fantastic-effect",
   "metadata": {
    "execution": {
     "iopub.execute_input": "2022-04-08T00:42:17.143676Z",
     "iopub.status.busy": "2022-04-08T00:42:17.143016Z",
     "iopub.status.idle": "2022-04-08T00:42:17.163034Z",
     "shell.execute_reply": "2022-04-08T00:42:17.163545Z"
    },
    "papermill": {
     "duration": 0.066115,
     "end_time": "2022-04-08T00:42:17.163682",
     "exception": false,
     "start_time": "2022-04-08T00:42:17.097567",
     "status": "completed"
    },
    "tags": []
   },
   "outputs": [
    {
     "data": {
      "text/html": [
       "<div>\n",
       "<style scoped>\n",
       "    .dataframe tbody tr th:only-of-type {\n",
       "        vertical-align: middle;\n",
       "    }\n",
       "\n",
       "    .dataframe tbody tr th {\n",
       "        vertical-align: top;\n",
       "    }\n",
       "\n",
       "    .dataframe thead th {\n",
       "        text-align: right;\n",
       "    }\n",
       "</style>\n",
       "<table border=\"1\" class=\"dataframe\">\n",
       "  <thead>\n",
       "    <tr style=\"text-align: right;\">\n",
       "      <th></th>\n",
       "      <th>Country/Region</th>\n",
       "      <th>Cases</th>\n",
       "      <th>Deaths</th>\n",
       "      <th>PCases</th>\n",
       "      <th>PDeaths</th>\n",
       "      <th>Cases (+)</th>\n",
       "      <th>Deaths (+)</th>\n",
       "      <th>Fatality Rate</th>\n",
       "      <th>Continent</th>\n",
       "    </tr>\n",
       "  </thead>\n",
       "  <tbody>\n",
       "    <tr>\n",
       "      <th>0</th>\n",
       "      <td>US</td>\n",
       "      <td>80248986</td>\n",
       "      <td>983817</td>\n",
       "      <td>80208810</td>\n",
       "      <td>982576</td>\n",
       "      <td>40176</td>\n",
       "      <td>1241</td>\n",
       "      <td>1.2</td>\n",
       "      <td>North America</td>\n",
       "    </tr>\n",
       "    <tr>\n",
       "      <th>1</th>\n",
       "      <td>India</td>\n",
       "      <td>43031958</td>\n",
       "      <td>521530</td>\n",
       "      <td>43030925</td>\n",
       "      <td>521487</td>\n",
       "      <td>1033</td>\n",
       "      <td>43</td>\n",
       "      <td>1.2</td>\n",
       "      <td>Asia</td>\n",
       "    </tr>\n",
       "    <tr>\n",
       "      <th>2</th>\n",
       "      <td>Brazil</td>\n",
       "      <td>30069094</td>\n",
       "      <td>660980</td>\n",
       "      <td>30042272</td>\n",
       "      <td>660786</td>\n",
       "      <td>26822</td>\n",
       "      <td>194</td>\n",
       "      <td>2.2</td>\n",
       "      <td>South America</td>\n",
       "    </tr>\n",
       "    <tr>\n",
       "      <th>3</th>\n",
       "      <td>France</td>\n",
       "      <td>26579448</td>\n",
       "      <td>143949</td>\n",
       "      <td>26428476</td>\n",
       "      <td>143832</td>\n",
       "      <td>150972</td>\n",
       "      <td>117</td>\n",
       "      <td>0.5</td>\n",
       "      <td>Europe</td>\n",
       "    </tr>\n",
       "    <tr>\n",
       "      <th>4</th>\n",
       "      <td>Germany</td>\n",
       "      <td>22303440</td>\n",
       "      <td>131036</td>\n",
       "      <td>21886726</td>\n",
       "      <td>130368</td>\n",
       "      <td>416714</td>\n",
       "      <td>668</td>\n",
       "      <td>0.6</td>\n",
       "      <td>Europe</td>\n",
       "    </tr>\n",
       "  </tbody>\n",
       "</table>\n",
       "</div>"
      ],
      "text/plain": [
       "  Country/Region     Cases  Deaths    PCases  PDeaths  Cases (+)  Deaths (+)  \\\n",
       "0             US  80248986  983817  80208810   982576      40176        1241   \n",
       "1          India  43031958  521530  43030925   521487       1033          43   \n",
       "2         Brazil  30069094  660980  30042272   660786      26822         194   \n",
       "3         France  26579448  143949  26428476   143832     150972         117   \n",
       "4        Germany  22303440  131036  21886726   130368     416714         668   \n",
       "\n",
       "   Fatality Rate      Continent  \n",
       "0            1.2  North America  \n",
       "1            1.2           Asia  \n",
       "2            2.2  South America  \n",
       "3            0.5         Europe  \n",
       "4            0.6         Europe  "
      ]
     },
     "execution_count": 15,
     "metadata": {},
     "output_type": "execute_result"
    }
   ],
   "source": [
    "#hide\n",
    "df_table = (pd.DataFrame(dict(Cases=dfc_cases, Deaths=dfc_deaths, PCases=dfp_cases, PDeaths=dfp_deaths))\n",
    "             .sort_values(by=['Cases', 'Deaths'], ascending=[False, False])\n",
    "             .reset_index())\n",
    "df_table.rename(columns={'index': 'Country/Region'}, inplace=True)\n",
    "for c in 'Cases, Deaths'.split(', '):\n",
    "    df_table[f'{c} (+)'] = (df_table[c] - df_table[f'P{c}']).clip(0)  # DATA BUG\n",
    "df_table['Fatality Rate'] = (100 * df_table['Deaths'] / df_table['Cases']).round(1)\n",
    "df_table['Continent'] = df_table['Country/Region'].map(mapping['map.continent'])\n",
    "df_table.head(5)"
   ]
  },
  {
   "cell_type": "code",
   "execution_count": 16,
   "id": "fewer-occasion",
   "metadata": {
    "execution": {
     "iopub.execute_input": "2022-04-08T00:42:17.244291Z",
     "iopub.status.busy": "2022-04-08T00:42:17.243686Z",
     "iopub.status.idle": "2022-04-08T00:42:17.246183Z",
     "shell.execute_reply": "2022-04-08T00:42:17.245670Z"
    },
    "papermill": {
     "duration": 0.045079,
     "end_time": "2022-04-08T00:42:17.246302",
     "exception": false,
     "start_time": "2022-04-08T00:42:17.201223",
     "status": "completed"
    },
    "tags": []
   },
   "outputs": [],
   "source": [
    "#hide\n",
    "#delete problematic countries from table\n",
    "df_table = df_table[~df_table['Country/Region'].isin(['Cape Verde', 'Cruise Ship', 'Kosovo'])]"
   ]
  },
  {
   "cell_type": "code",
   "execution_count": 17,
   "id": "related-center",
   "metadata": {
    "execution": {
     "iopub.execute_input": "2022-04-08T00:42:17.339418Z",
     "iopub.status.busy": "2022-04-08T00:42:17.338830Z",
     "iopub.status.idle": "2022-04-08T00:42:17.341307Z",
     "shell.execute_reply": "2022-04-08T00:42:17.340781Z"
    },
    "papermill": {
     "duration": 0.057473,
     "end_time": "2022-04-08T00:42:17.341424",
     "exception": false,
     "start_time": "2022-04-08T00:42:17.283951",
     "status": "completed"
    },
    "tags": []
   },
   "outputs": [],
   "source": [
    "#hide\n",
    "metrics = [df_table.columns[index] for index in [1,2,5,6]]\n",
    "# s_china = df_table[df_table['Country/Region'].eq('China')][metrics].sum().add_prefix('China ')\n",
    "s_us = df_table[df_table['Country/Region'].eq('US')][metrics].sum().add_prefix('US ')\n",
    "s_eu = df_table[df_table['Continent'].eq('Europe')][metrics].sum().add_prefix('EU ')\n",
    "s_ind = df_table[df_table['Country/Region'].eq('India')][metrics].sum().add_prefix('India ')\n",
    "summary = {'updated': pd.to_datetime(dt_today), 'since': pd.to_datetime(dt_yday)}\n",
    "summary = {'updated': pd.to_datetime(dt_today), 'since': pd.to_datetime(dt_yday)}\n",
    "summary = {**summary, **df_table[metrics].sum(), **s_ind, **s_us, **s_eu}"
   ]
  },
  {
   "cell_type": "code",
   "execution_count": 18,
   "id": "engaging-syndrome",
   "metadata": {
    "execution": {
     "iopub.execute_input": "2022-04-08T00:42:17.418409Z",
     "iopub.status.busy": "2022-04-08T00:42:17.417069Z",
     "iopub.status.idle": "2022-04-08T00:42:17.436156Z",
     "shell.execute_reply": "2022-04-08T00:42:17.435656Z"
    },
    "papermill": {
     "duration": 0.058279,
     "end_time": "2022-04-08T00:42:17.436289",
     "exception": false,
     "start_time": "2022-04-08T00:42:17.378010",
     "status": "completed"
    },
    "tags": []
   },
   "outputs": [],
   "source": [
    "#hide\n",
    "dft_ct_new_cases = dft_cases.groupby(COL_REGION)[dt_cols].sum().diff(axis=1).fillna(0).astype(int)"
   ]
  },
  {
   "cell_type": "code",
   "execution_count": 19,
   "id": "neutral-assignment",
   "metadata": {
    "execution": {
     "iopub.execute_input": "2022-04-08T00:42:17.514238Z",
     "iopub.status.busy": "2022-04-08T00:42:17.513650Z",
     "iopub.status.idle": "2022-04-08T00:42:17.516265Z",
     "shell.execute_reply": "2022-04-08T00:42:17.515764Z"
    },
    "papermill": {
     "duration": 0.043365,
     "end_time": "2022-04-08T00:42:17.516381",
     "exception": false,
     "start_time": "2022-04-08T00:42:17.473016",
     "status": "completed"
    },
    "tags": []
   },
   "outputs": [],
   "source": [
    "#hide\n",
    "everydaycases = dft_ct_new_cases.cumsum(axis=1)"
   ]
  },
  {
   "cell_type": "code",
   "execution_count": 20,
   "id": "parliamentary-calgary",
   "metadata": {
    "execution": {
     "iopub.execute_input": "2022-04-08T00:42:17.593326Z",
     "iopub.status.busy": "2022-04-08T00:42:17.592663Z",
     "iopub.status.idle": "2022-04-08T00:42:18.446526Z",
     "shell.execute_reply": "2022-04-08T00:42:18.445936Z"
    },
    "papermill": {
     "duration": 0.893651,
     "end_time": "2022-04-08T00:42:18.446691",
     "exception": false,
     "start_time": "2022-04-08T00:42:17.553040",
     "status": "completed"
    },
    "tags": []
   },
   "outputs": [],
   "source": [
    "#hide\n",
    "import pandas as pd\n",
    "import matplotlib.pyplot as plt\n",
    "import matplotlib.ticker as ticker\n",
    "import matplotlib.animation as animation\n",
    "from IPython.display import HTML"
   ]
  },
  {
   "cell_type": "code",
   "execution_count": 21,
   "id": "lasting-extraction",
   "metadata": {
    "execution": {
     "iopub.execute_input": "2022-04-08T00:42:18.526368Z",
     "iopub.status.busy": "2022-04-08T00:42:18.525784Z",
     "iopub.status.idle": "2022-04-08T00:42:18.532164Z",
     "shell.execute_reply": "2022-04-08T00:42:18.532720Z"
    },
    "papermill": {
     "duration": 0.048601,
     "end_time": "2022-04-08T00:42:18.532887",
     "exception": false,
     "start_time": "2022-04-08T00:42:18.484286",
     "status": "completed"
    },
    "tags": []
   },
   "outputs": [],
   "source": [
    "#hide\n",
    "t = everydaycases.stack()"
   ]
  },
  {
   "cell_type": "code",
   "execution_count": 22,
   "id": "premier-sleeve",
   "metadata": {
    "execution": {
     "iopub.execute_input": "2022-04-08T00:42:18.608329Z",
     "iopub.status.busy": "2022-04-08T00:42:18.607644Z",
     "iopub.status.idle": "2022-04-08T00:42:18.618753Z",
     "shell.execute_reply": "2022-04-08T00:42:18.619335Z"
    },
    "papermill": {
     "duration": 0.050539,
     "end_time": "2022-04-08T00:42:18.619472",
     "exception": false,
     "start_time": "2022-04-08T00:42:18.568933",
     "status": "completed"
    },
    "tags": []
   },
   "outputs": [],
   "source": [
    "#hide\n",
    "g = t.reset_index(['Country/Region'])"
   ]
  },
  {
   "cell_type": "code",
   "execution_count": 23,
   "id": "distributed-pittsburgh",
   "metadata": {
    "execution": {
     "iopub.execute_input": "2022-04-08T00:42:18.694687Z",
     "iopub.status.busy": "2022-04-08T00:42:18.694003Z",
     "iopub.status.idle": "2022-04-08T00:42:18.696724Z",
     "shell.execute_reply": "2022-04-08T00:42:18.696186Z"
    },
    "papermill": {
     "duration": 0.042335,
     "end_time": "2022-04-08T00:42:18.696908",
     "exception": false,
     "start_time": "2022-04-08T00:42:18.654573",
     "status": "completed"
    },
    "tags": []
   },
   "outputs": [],
   "source": [
    "#hide\n",
    "g.index.name = 'date'"
   ]
  },
  {
   "cell_type": "code",
   "execution_count": 24,
   "id": "naked-donor",
   "metadata": {
    "execution": {
     "iopub.execute_input": "2022-04-08T00:42:18.782876Z",
     "iopub.status.busy": "2022-04-08T00:42:18.782022Z",
     "iopub.status.idle": "2022-04-08T00:42:18.786738Z",
     "shell.execute_reply": "2022-04-08T00:42:18.787301Z"
    },
    "papermill": {
     "duration": 0.048873,
     "end_time": "2022-04-08T00:42:18.787449",
     "exception": false,
     "start_time": "2022-04-08T00:42:18.738576",
     "status": "completed"
    },
    "tags": []
   },
   "outputs": [],
   "source": [
    "# #hide\n",
    "# g = g.reset_index(['date'])"
   ]
  },
  {
   "cell_type": "code",
   "execution_count": 25,
   "id": "incomplete-mustang",
   "metadata": {
    "execution": {
     "iopub.execute_input": "2022-04-08T00:42:18.878038Z",
     "iopub.status.busy": "2022-04-08T00:42:18.877361Z",
     "iopub.status.idle": "2022-04-08T00:42:18.880076Z",
     "shell.execute_reply": "2022-04-08T00:42:18.879493Z"
    },
    "papermill": {
     "duration": 0.0495,
     "end_time": "2022-04-08T00:42:18.880201",
     "exception": false,
     "start_time": "2022-04-08T00:42:18.830701",
     "status": "completed"
    },
    "tags": []
   },
   "outputs": [],
   "source": [
    "#hide\n",
    "# g.head()"
   ]
  },
  {
   "cell_type": "code",
   "execution_count": 26,
   "id": "specific-kruger",
   "metadata": {
    "execution": {
     "iopub.execute_input": "2022-04-08T00:42:18.963822Z",
     "iopub.status.busy": "2022-04-08T00:42:18.963148Z",
     "iopub.status.idle": "2022-04-08T00:42:18.966430Z",
     "shell.execute_reply": "2022-04-08T00:42:18.965881Z"
    },
    "papermill": {
     "duration": 0.046501,
     "end_time": "2022-04-08T00:42:18.966566",
     "exception": false,
     "start_time": "2022-04-08T00:42:18.920065",
     "status": "completed"
    },
    "tags": []
   },
   "outputs": [],
   "source": [
    "#hide\n",
    "# g.columns = ['date','country','cases']"
   ]
  },
  {
   "cell_type": "code",
   "execution_count": 27,
   "id": "tender-conversion",
   "metadata": {
    "execution": {
     "iopub.execute_input": "2022-04-08T00:42:19.046257Z",
     "iopub.status.busy": "2022-04-08T00:42:19.045489Z",
     "iopub.status.idle": "2022-04-08T00:42:19.049232Z",
     "shell.execute_reply": "2022-04-08T00:42:19.048009Z"
    },
    "papermill": {
     "duration": 0.046231,
     "end_time": "2022-04-08T00:42:19.049378",
     "exception": false,
     "start_time": "2022-04-08T00:42:19.003147",
     "status": "completed"
    },
    "tags": []
   },
   "outputs": [],
   "source": [
    "#hide\n",
    "# g['continent'] = g.country"
   ]
  },
  {
   "cell_type": "code",
   "execution_count": 28,
   "id": "substantial-wilderness",
   "metadata": {
    "execution": {
     "iopub.execute_input": "2022-04-08T00:42:19.129759Z",
     "iopub.status.busy": "2022-04-08T00:42:19.129143Z",
     "iopub.status.idle": "2022-04-08T00:42:19.132968Z",
     "shell.execute_reply": "2022-04-08T00:42:19.133437Z"
    },
    "papermill": {
     "duration": 0.043077,
     "end_time": "2022-04-08T00:42:19.133584",
     "exception": false,
     "start_time": "2022-04-08T00:42:19.090507",
     "status": "completed"
    },
    "tags": []
   },
   "outputs": [],
   "source": [
    "#hide\n",
    "# cols = list(g.columns.values)"
   ]
  },
  {
   "cell_type": "code",
   "execution_count": 29,
   "id": "solved-farming",
   "metadata": {
    "execution": {
     "iopub.execute_input": "2022-04-08T00:42:19.210648Z",
     "iopub.status.busy": "2022-04-08T00:42:19.210018Z",
     "iopub.status.idle": "2022-04-08T00:42:19.212146Z",
     "shell.execute_reply": "2022-04-08T00:42:19.212601Z"
    },
    "papermill": {
     "duration": 0.042778,
     "end_time": "2022-04-08T00:42:19.212733",
     "exception": false,
     "start_time": "2022-04-08T00:42:19.169955",
     "status": "completed"
    },
    "tags": []
   },
   "outputs": [],
   "source": [
    "#hide\n",
    "# cols.insert(0, cols.pop())"
   ]
  },
  {
   "cell_type": "code",
   "execution_count": 30,
   "id": "executed-adoption",
   "metadata": {
    "execution": {
     "iopub.execute_input": "2022-04-08T00:42:19.290647Z",
     "iopub.status.busy": "2022-04-08T00:42:19.290056Z",
     "iopub.status.idle": "2022-04-08T00:42:19.292119Z",
     "shell.execute_reply": "2022-04-08T00:42:19.292576Z"
    },
    "papermill": {
     "duration": 0.04307,
     "end_time": "2022-04-08T00:42:19.292713",
     "exception": false,
     "start_time": "2022-04-08T00:42:19.249643",
     "status": "completed"
    },
    "tags": []
   },
   "outputs": [],
   "source": [
    "#hide\n",
    "# g = g[cols]"
   ]
  },
  {
   "cell_type": "code",
   "execution_count": 31,
   "id": "subject-dublin",
   "metadata": {
    "execution": {
     "iopub.execute_input": "2022-04-08T00:42:19.372103Z",
     "iopub.status.busy": "2022-04-08T00:42:19.371338Z",
     "iopub.status.idle": "2022-04-08T00:42:19.373840Z",
     "shell.execute_reply": "2022-04-08T00:42:19.373258Z"
    },
    "papermill": {
     "duration": 0.043689,
     "end_time": "2022-04-08T00:42:19.373957",
     "exception": false,
     "start_time": "2022-04-08T00:42:19.330268",
     "status": "completed"
    },
    "tags": []
   },
   "outputs": [],
   "source": [
    "#hide\n",
    "# g['continent'] = g['continent'].map(mapping['map.continent'])"
   ]
  },
  {
   "cell_type": "code",
   "execution_count": 32,
   "id": "freelance-scout",
   "metadata": {
    "execution": {
     "iopub.execute_input": "2022-04-08T00:42:19.449831Z",
     "iopub.status.busy": "2022-04-08T00:42:19.449216Z",
     "iopub.status.idle": "2022-04-08T00:42:19.451611Z",
     "shell.execute_reply": "2022-04-08T00:42:19.452067Z"
    },
    "papermill": {
     "duration": 0.041628,
     "end_time": "2022-04-08T00:42:19.452197",
     "exception": false,
     "start_time": "2022-04-08T00:42:19.410569",
     "status": "completed"
    },
    "tags": []
   },
   "outputs": [],
   "source": [
    "#hide\n",
    "# g.head()"
   ]
  },
  {
   "cell_type": "code",
   "execution_count": 33,
   "id": "limited-engine",
   "metadata": {
    "execution": {
     "iopub.execute_input": "2022-04-08T00:42:19.527169Z",
     "iopub.status.busy": "2022-04-08T00:42:19.526586Z",
     "iopub.status.idle": "2022-04-08T00:42:19.529145Z",
     "shell.execute_reply": "2022-04-08T00:42:19.528622Z"
    },
    "papermill": {
     "duration": 0.040083,
     "end_time": "2022-04-08T00:42:19.529259",
     "exception": false,
     "start_time": "2022-04-08T00:42:19.489176",
     "status": "completed"
    },
    "tags": []
   },
   "outputs": [],
   "source": [
    "# hide\n",
    "# g['date'] = g['date'].astype('datetime64[ns]')"
   ]
  },
  {
   "cell_type": "code",
   "execution_count": 34,
   "id": "sophisticated-supervisor",
   "metadata": {
    "execution": {
     "iopub.execute_input": "2022-04-08T00:42:19.605190Z",
     "iopub.status.busy": "2022-04-08T00:42:19.604572Z",
     "iopub.status.idle": "2022-04-08T00:42:19.607057Z",
     "shell.execute_reply": "2022-04-08T00:42:19.606558Z"
    },
    "papermill": {
     "duration": 0.041522,
     "end_time": "2022-04-08T00:42:19.607172",
     "exception": false,
     "start_time": "2022-04-08T00:42:19.565650",
     "status": "completed"
    },
    "tags": []
   },
   "outputs": [],
   "source": [
    "#hide\n",
    "# g['date'] = g.date.dt.dayofyear"
   ]
  },
  {
   "cell_type": "code",
   "execution_count": 35,
   "id": "inside-dubai",
   "metadata": {
    "execution": {
     "iopub.execute_input": "2022-04-08T00:42:19.682970Z",
     "iopub.status.busy": "2022-04-08T00:42:19.682398Z",
     "iopub.status.idle": "2022-04-08T00:42:19.684464Z",
     "shell.execute_reply": "2022-04-08T00:42:19.685048Z"
    },
    "papermill": {
     "duration": 0.042249,
     "end_time": "2022-04-08T00:42:19.685173",
     "exception": false,
     "start_time": "2022-04-08T00:42:19.642924",
     "status": "completed"
    },
    "tags": []
   },
   "outputs": [],
   "source": [
    "#hide\n",
    "# g = g.rename(columns= {'continent':'group','country':'name','cases':'value'})"
   ]
  },
  {
   "cell_type": "code",
   "execution_count": 36,
   "id": "fleet-motorcycle",
   "metadata": {
    "execution": {
     "iopub.execute_input": "2022-04-08T00:42:19.763076Z",
     "iopub.status.busy": "2022-04-08T00:42:19.762350Z",
     "iopub.status.idle": "2022-04-08T00:42:19.763747Z",
     "shell.execute_reply": "2022-04-08T00:42:19.764379Z"
    },
    "papermill": {
     "duration": 0.044291,
     "end_time": "2022-04-08T00:42:19.764524",
     "exception": false,
     "start_time": "2022-04-08T00:42:19.720233",
     "status": "completed"
    },
    "tags": []
   },
   "outputs": [],
   "source": [
    "#hide\n",
    "# cols = ['name','group','day','value']"
   ]
  },
  {
   "cell_type": "code",
   "execution_count": 37,
   "id": "continued-sleeping",
   "metadata": {
    "execution": {
     "iopub.execute_input": "2022-04-08T00:42:19.850952Z",
     "iopub.status.busy": "2022-04-08T00:42:19.850259Z",
     "iopub.status.idle": "2022-04-08T00:42:19.852652Z",
     "shell.execute_reply": "2022-04-08T00:42:19.853711Z"
    },
    "papermill": {
     "duration": 0.048763,
     "end_time": "2022-04-08T00:42:19.853866",
     "exception": false,
     "start_time": "2022-04-08T00:42:19.805103",
     "status": "completed"
    },
    "tags": []
   },
   "outputs": [],
   "source": [
    "#hide\n",
    "# g.rename(columns= {'date':'day'},inplace = True)"
   ]
  },
  {
   "cell_type": "code",
   "execution_count": 38,
   "id": "major-fight",
   "metadata": {
    "execution": {
     "iopub.execute_input": "2022-04-08T00:42:19.942107Z",
     "iopub.status.busy": "2022-04-08T00:42:19.941446Z",
     "iopub.status.idle": "2022-04-08T00:42:19.944235Z",
     "shell.execute_reply": "2022-04-08T00:42:19.943651Z"
    },
    "papermill": {
     "duration": 0.048586,
     "end_time": "2022-04-08T00:42:19.944387",
     "exception": false,
     "start_time": "2022-04-08T00:42:19.895801",
     "status": "completed"
    },
    "tags": []
   },
   "outputs": [],
   "source": [
    "#hide\n",
    "# g = g[cols]"
   ]
  },
  {
   "cell_type": "code",
   "execution_count": 39,
   "id": "structured-mobile",
   "metadata": {
    "execution": {
     "iopub.execute_input": "2022-04-08T00:42:20.024628Z",
     "iopub.status.busy": "2022-04-08T00:42:20.024043Z",
     "iopub.status.idle": "2022-04-08T00:42:20.026201Z",
     "shell.execute_reply": "2022-04-08T00:42:20.026649Z"
    },
    "papermill": {
     "duration": 0.042307,
     "end_time": "2022-04-08T00:42:20.026782",
     "exception": false,
     "start_time": "2022-04-08T00:42:19.984475",
     "status": "completed"
    },
    "tags": []
   },
   "outputs": [],
   "source": [
    "# #hide\n",
    "# g = g[g.group.notna()]"
   ]
  },
  {
   "cell_type": "code",
   "execution_count": 40,
   "id": "determined-closing",
   "metadata": {
    "execution": {
     "iopub.execute_input": "2022-04-08T00:42:20.107462Z",
     "iopub.status.busy": "2022-04-08T00:42:20.106859Z",
     "iopub.status.idle": "2022-04-08T00:42:20.109143Z",
     "shell.execute_reply": "2022-04-08T00:42:20.109605Z"
    },
    "papermill": {
     "duration": 0.043465,
     "end_time": "2022-04-08T00:42:20.109745",
     "exception": false,
     "start_time": "2022-04-08T00:42:20.066280",
     "status": "completed"
    },
    "tags": []
   },
   "outputs": [],
   "source": [
    "# #hide\n",
    "# colors = dict(zip(\n",
    "#     [\"Oceania\", \"Europe\", \"Asia\", \"South America\", \"Middle East\", \"North America\", \"Africa\"],\n",
    "#     [\"#adb0ff\", \"#ffb3ff\", \"#90d595\", \"#e48381\", \"#aafbff\", \"#f7bb5f\", \"#eafb50\"]\n",
    "# ))\n",
    "# group_lk = g.set_index('name')['group'].to_dict()"
   ]
  },
  {
   "cell_type": "code",
   "execution_count": null,
   "id": "gross-drinking",
   "metadata": {
    "papermill": {
     "duration": 0.03753,
     "end_time": "2022-04-08T00:42:20.184825",
     "exception": false,
     "start_time": "2022-04-08T00:42:20.147295",
     "status": "completed"
    },
    "tags": []
   },
   "outputs": [],
   "source": []
  },
  {
   "cell_type": "code",
   "execution_count": 41,
   "id": "subject-macintosh",
   "metadata": {
    "execution": {
     "iopub.execute_input": "2022-04-08T00:42:20.259662Z",
     "iopub.status.busy": "2022-04-08T00:42:20.259058Z",
     "iopub.status.idle": "2022-04-08T00:42:20.261532Z",
     "shell.execute_reply": "2022-04-08T00:42:20.261029Z"
    },
    "papermill": {
     "duration": 0.040633,
     "end_time": "2022-04-08T00:42:20.261655",
     "exception": false,
     "start_time": "2022-04-08T00:42:20.221022",
     "status": "completed"
    },
    "tags": []
   },
   "outputs": [],
   "source": [
    "# #hide\n",
    "# fig, ax = plt.subplots(figsize=(15, 8))\n",
    "\n",
    "# def draw_barchart(current_day):\n",
    "#     dff = g[g['day'].eq(current_day)].sort_values(by='value', ascending=True).tail(10)\n",
    "#     ax.clear()\n",
    "#     ax.barh(dff['name'], dff['value'], color=[colors[group_lk[x]] for x in dff['name']])\n",
    "#     dx = dff['value'].max() / 200\n",
    "    \n",
    "#     for i, (value, name) in enumerate(zip(dff['value'], dff['name'])):\n",
    "#         ax.text(value-dx, i,     name,           size=14, weight=600, ha='right', va='bottom')\n",
    "#         ax.text(value-dx, i-.25, group_lk[name], size=10, color='#444444', ha='right', va='baseline')\n",
    "#         ax.text(value+dx, i,     f'{value:,.0f}',  size=14, ha='left',  va='center')\n",
    "#     ax.text(1, 0.4, current_day, transform=ax.transAxes, color='#777777', size=46, ha='right', weight=800)\n",
    "#     ax.text(0, 1.06, 'Population (thousands)', transform=ax.transAxes, size=12, color='#777777')\n",
    "#     ax.xaxis.set_major_formatter(ticker.StrMethodFormatter('{x:,.0f}'))\n",
    "#     ax.xaxis.set_ticks_position('top')\n",
    "#     ax.tick_params(axis='x', colors='#777777', labelsize=12)\n",
    "#     ax.set_yticks([])\n",
    "#     ax.margins(0, 0.01)\n",
    "#     ax.grid(which='major', axis='x', linestyle='-')\n",
    "#     ax.set_axisbelow(True)\n",
    "    \n",
    "#     ax.text(0, 1.15, 'Coronavirus',\n",
    "#             transform=ax.transAxes, size=24, weight=600, ha='left', va='top')\n",
    "# #     ax.text(1, 0, 'by @pratapvardhan; credit @jburnmurdoch', transform=ax.transAxes, color='#777777', ha='right',\n",
    "# #             bbox=dict(facecolor='white', alpha=0.8, edgecolor='white'))\n",
    "#     plt.box(False)"
   ]
  },
  {
   "cell_type": "code",
   "execution_count": 42,
   "id": "sexual-wages",
   "metadata": {
    "execution": {
     "iopub.execute_input": "2022-04-08T00:42:20.338188Z",
     "iopub.status.busy": "2022-04-08T00:42:20.337479Z",
     "iopub.status.idle": "2022-04-08T00:42:20.340237Z",
     "shell.execute_reply": "2022-04-08T00:42:20.339688Z"
    },
    "papermill": {
     "duration": 0.041927,
     "end_time": "2022-04-08T00:42:20.340376",
     "exception": false,
     "start_time": "2022-04-08T00:42:20.298449",
     "status": "completed"
    },
    "tags": []
   },
   "outputs": [],
   "source": [
    "# #hide_input\n",
    "# fig, ax = plt.subplots(figsize=(15, 8))\n",
    "# animator = animation.FuncAnimation(fig, draw_barchart, frames=range(g.day.values.min(), g.day.values.max()))\n",
    "# HTML(animator.to_jshtml())\n",
    "# # or use animator.to_html5_video() or animator.save() "
   ]
  },
  {
   "cell_type": "code",
   "execution_count": null,
   "id": "australian-container",
   "metadata": {
    "papermill": {
     "duration": 0.037589,
     "end_time": "2022-04-08T00:42:20.419283",
     "exception": false,
     "start_time": "2022-04-08T00:42:20.381694",
     "status": "completed"
    },
    "tags": []
   },
   "outputs": [],
   "source": []
  },
  {
   "cell_type": "code",
   "execution_count": null,
   "id": "mediterranean-pontiac",
   "metadata": {
    "papermill": {
     "duration": 0.035374,
     "end_time": "2022-04-08T00:42:20.490353",
     "exception": false,
     "start_time": "2022-04-08T00:42:20.454979",
     "status": "completed"
    },
    "tags": []
   },
   "outputs": [],
   "source": []
  },
  {
   "cell_type": "code",
   "execution_count": null,
   "id": "aging-legislature",
   "metadata": {
    "papermill": {
     "duration": 0.035418,
     "end_time": "2022-04-08T00:42:20.562108",
     "exception": false,
     "start_time": "2022-04-08T00:42:20.526690",
     "status": "completed"
    },
    "tags": []
   },
   "outputs": [],
   "source": []
  }
 ],
 "metadata": {
  "kernelspec": {
   "display_name": "Python 3",
   "language": "python",
   "name": "python3"
  },
  "language_info": {
   "codemirror_mode": {
    "name": "ipython",
    "version": 3
   },
   "file_extension": ".py",
   "mimetype": "text/x-python",
   "name": "python",
   "nbconvert_exporter": "python",
   "pygments_lexer": "ipython3",
   "version": "3.6.15"
  },
  "papermill": {
   "duration": 7.362995,
   "end_time": "2022-04-08T00:42:21.017440",
   "environment_variables": {},
   "exception": null,
   "input_path": "2020-03-21-covid19exp.ipynb",
   "output_path": "2020-03-21-covid19exp.ipynb",
   "parameters": {},
   "start_time": "2022-04-08T00:42:13.654445",
   "version": "2.0.0"
  }
 },
 "nbformat": 4,
 "nbformat_minor": 5
}