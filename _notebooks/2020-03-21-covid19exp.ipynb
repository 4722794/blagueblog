{
 "cells": [
  {
   "cell_type": "markdown",
   "id": "muslim-click",
   "metadata": {
    "papermill": {
     "duration": 0.038239,
     "end_time": "2022-02-10T12:12:37.838029",
     "exception": false,
     "start_time": "2022-02-10T12:12:37.799790",
     "status": "completed"
    },
    "tags": []
   },
   "source": [
    "# COVID-19 Case Race\n",
    "> A race chart to see rising cases around the world\n",
    "\n",
    "- author: Hargun Oberoi\n",
    "- image: images/covid-overview.png\n",
    "- hide: false\n",
    "- badges: false"
   ]
  },
  {
   "cell_type": "code",
   "execution_count": 1,
   "id": "proof-material",
   "metadata": {
    "execution": {
     "iopub.execute_input": "2022-02-10T12:12:37.925245Z",
     "iopub.status.busy": "2022-02-10T12:12:37.924615Z",
     "iopub.status.idle": "2022-02-10T12:12:38.309210Z",
     "shell.execute_reply": "2022-02-10T12:12:38.309696Z"
    },
    "papermill": {
     "duration": 0.434003,
     "end_time": "2022-02-10T12:12:38.309888",
     "exception": false,
     "start_time": "2022-02-10T12:12:37.875885",
     "status": "completed"
    },
    "tags": []
   },
   "outputs": [],
   "source": [
    "#hide\n",
    "import numpy as np\n",
    "import pandas as pd\n",
    "from jinja2 import Template\n",
    "from IPython.display import HTML"
   ]
  },
  {
   "cell_type": "code",
   "execution_count": 2,
   "id": "developed-terminology",
   "metadata": {
    "execution": {
     "iopub.execute_input": "2022-02-10T12:12:38.384519Z",
     "iopub.status.busy": "2022-02-10T12:12:38.383526Z",
     "iopub.status.idle": "2022-02-10T12:12:38.385485Z",
     "shell.execute_reply": "2022-02-10T12:12:38.386188Z"
    },
    "papermill": {
     "duration": 0.042986,
     "end_time": "2022-02-10T12:12:38.386390",
     "exception": false,
     "start_time": "2022-02-10T12:12:38.343404",
     "status": "completed"
    },
    "tags": []
   },
   "outputs": [],
   "source": [
    "#hide\n",
    "\n",
    "# FETCH\n",
    "base_url = 'https://raw.githubusercontent.com/pratapvardhan/notebooks/master/covid19/'\n",
    "paths = {\n",
    "    'mapping': base_url + 'mapping_countries.csv',\n",
    "    'overview': base_url + 'overview.tpl'\n",
    "}"
   ]
  },
  {
   "cell_type": "code",
   "execution_count": 3,
   "id": "dynamic-saver",
   "metadata": {
    "execution": {
     "iopub.execute_input": "2022-02-10T12:12:38.470373Z",
     "iopub.status.busy": "2022-02-10T12:12:38.469609Z",
     "iopub.status.idle": "2022-02-10T12:12:38.473537Z",
     "shell.execute_reply": "2022-02-10T12:12:38.473041Z"
    },
    "papermill": {
     "duration": 0.050118,
     "end_time": "2022-02-10T12:12:38.473662",
     "exception": false,
     "start_time": "2022-02-10T12:12:38.423544",
     "status": "completed"
    },
    "tags": []
   },
   "outputs": [
    {
     "data": {
      "text/plain": [
       "'https://raw.githubusercontent.com/pratapvardhan/notebooks/master/covid19/mapping_countries.csv'"
      ]
     },
     "execution_count": 3,
     "metadata": {},
     "output_type": "execute_result"
    }
   ],
   "source": [
    "#hide\n",
    "paths['mapping']"
   ]
  },
  {
   "cell_type": "code",
   "execution_count": 4,
   "id": "urban-software",
   "metadata": {
    "execution": {
     "iopub.execute_input": "2022-02-10T12:12:38.553256Z",
     "iopub.status.busy": "2022-02-10T12:12:38.552594Z",
     "iopub.status.idle": "2022-02-10T12:12:38.553967Z",
     "shell.execute_reply": "2022-02-10T12:12:38.554648Z"
    },
    "papermill": {
     "duration": 0.046462,
     "end_time": "2022-02-10T12:12:38.554805",
     "exception": false,
     "start_time": "2022-02-10T12:12:38.508343",
     "status": "completed"
    },
    "tags": []
   },
   "outputs": [],
   "source": [
    "#hide\n",
    "def get_mappings(url):\n",
    "    df = pd.read_csv(url)\n",
    "    return {\n",
    "        'df': df,\n",
    "        'replace.country': dict(df.dropna(subset=['Name']).set_index('Country')['Name']),\n",
    "        'map.continent': dict(df.set_index('Name')['Continent'])\n",
    "    }"
   ]
  },
  {
   "cell_type": "code",
   "execution_count": 5,
   "id": "intimate-machinery",
   "metadata": {
    "execution": {
     "iopub.execute_input": "2022-02-10T12:12:38.634896Z",
     "iopub.status.busy": "2022-02-10T12:12:38.634240Z",
     "iopub.status.idle": "2022-02-10T12:12:38.664655Z",
     "shell.execute_reply": "2022-02-10T12:12:38.664026Z"
    },
    "papermill": {
     "duration": 0.074755,
     "end_time": "2022-02-10T12:12:38.664814",
     "exception": false,
     "start_time": "2022-02-10T12:12:38.590059",
     "status": "completed"
    },
    "tags": []
   },
   "outputs": [],
   "source": [
    "#hide\n",
    "mapping = get_mappings(paths['mapping'])"
   ]
  },
  {
   "cell_type": "code",
   "execution_count": 6,
   "id": "certified-tactics",
   "metadata": {
    "execution": {
     "iopub.execute_input": "2022-02-10T12:12:38.741977Z",
     "iopub.status.busy": "2022-02-10T12:12:38.741387Z",
     "iopub.status.idle": "2022-02-10T12:12:38.745437Z",
     "shell.execute_reply": "2022-02-10T12:12:38.745868Z"
    },
    "papermill": {
     "duration": 0.044261,
     "end_time": "2022-02-10T12:12:38.746041",
     "exception": false,
     "start_time": "2022-02-10T12:12:38.701780",
     "status": "completed"
    },
    "tags": []
   },
   "outputs": [],
   "source": [
    "#hide\n",
    "def get_template(path):\n",
    "    from urllib.parse import urlparse\n",
    "    if bool(urlparse(path).netloc):\n",
    "        from urllib.request import urlopen\n",
    "        return urlopen(path).read().decode('utf8')\n",
    "    return open(path).read()"
   ]
  },
  {
   "cell_type": "code",
   "execution_count": 7,
   "id": "realistic-blast",
   "metadata": {
    "execution": {
     "iopub.execute_input": "2022-02-10T12:12:38.816883Z",
     "iopub.status.busy": "2022-02-10T12:12:38.816281Z",
     "iopub.status.idle": "2022-02-10T12:12:38.819260Z",
     "shell.execute_reply": "2022-02-10T12:12:38.818797Z"
    },
    "papermill": {
     "duration": 0.041547,
     "end_time": "2022-02-10T12:12:38.819399",
     "exception": false,
     "start_time": "2022-02-10T12:12:38.777852",
     "status": "completed"
    },
    "tags": []
   },
   "outputs": [],
   "source": [
    "#hide\n",
    "def get_frame(name):\n",
    "    url = (\n",
    "        'https://raw.githubusercontent.com/CSSEGISandData/COVID-19/master/csse_covid_19_data/'\n",
    "        f'csse_covid_19_time_series/time_series_covid19_{name}_global.csv')\n",
    "    df = pd.read_csv(url)\n",
    "    # rename countries\n",
    "    df['Country/Region'] = df['Country/Region'].replace(mapping['replace.country'])\n",
    "    return df"
   ]
  },
  {
   "cell_type": "code",
   "execution_count": 8,
   "id": "affiliated-characterization",
   "metadata": {
    "execution": {
     "iopub.execute_input": "2022-02-10T12:12:38.896617Z",
     "iopub.status.busy": "2022-02-10T12:12:38.895552Z",
     "iopub.status.idle": "2022-02-10T12:12:38.897501Z",
     "shell.execute_reply": "2022-02-10T12:12:38.898043Z"
    },
    "papermill": {
     "duration": 0.044999,
     "end_time": "2022-02-10T12:12:38.898181",
     "exception": false,
     "start_time": "2022-02-10T12:12:38.853182",
     "status": "completed"
    },
    "tags": []
   },
   "outputs": [],
   "source": [
    "#hide\n",
    "def get_dates(df):\n",
    "    dt_cols = df.columns[~df.columns.isin(['Province/State', 'Country/Region', 'Lat', 'Long'])]\n",
    "    LAST_DATE_I = -1\n",
    "    # sometimes last column may be empty, then go backwards\n",
    "    for i in range(-1, -len(dt_cols), -1):\n",
    "        if not df[dt_cols[i]].fillna(0).eq(0).all():\n",
    "            LAST_DATE_I = i\n",
    "            break\n",
    "    return LAST_DATE_I, dt_cols"
   ]
  },
  {
   "cell_type": "code",
   "execution_count": 9,
   "id": "recent-optimization",
   "metadata": {
    "execution": {
     "iopub.execute_input": "2022-02-10T12:12:38.979767Z",
     "iopub.status.busy": "2022-02-10T12:12:38.979133Z",
     "iopub.status.idle": "2022-02-10T12:12:39.378389Z",
     "shell.execute_reply": "2022-02-10T12:12:39.377711Z"
    },
    "papermill": {
     "duration": 0.442605,
     "end_time": "2022-02-10T12:12:39.378563",
     "exception": false,
     "start_time": "2022-02-10T12:12:38.935958",
     "status": "completed"
    },
    "tags": []
   },
   "outputs": [],
   "source": [
    "#hide\n",
    "COL_REGION = 'Country/Region'\n",
    "# Confirmed, Recovered, Deaths\n",
    "df = get_frame('confirmed')\n",
    "# dft_: timeseries, dfc_: today country agg\n",
    "dft_cases = df\n",
    "dft_deaths = get_frame('deaths')\n",
    "dft_recovered = get_frame('recovered')\n",
    "LAST_DATE_I, dt_cols = get_dates(df)"
   ]
  },
  {
   "cell_type": "code",
   "execution_count": 10,
   "id": "absolute-copper",
   "metadata": {
    "execution": {
     "iopub.execute_input": "2022-02-10T12:12:39.457243Z",
     "iopub.status.busy": "2022-02-10T12:12:39.456521Z",
     "iopub.status.idle": "2022-02-10T12:12:39.459669Z",
     "shell.execute_reply": "2022-02-10T12:12:39.459196Z"
    },
    "papermill": {
     "duration": 0.044856,
     "end_time": "2022-02-10T12:12:39.459794",
     "exception": false,
     "start_time": "2022-02-10T12:12:39.414938",
     "status": "completed"
    },
    "tags": []
   },
   "outputs": [],
   "source": [
    "#hide\n",
    "LAST_DATE_I, dt_cols = get_dates(df)\n",
    "dt_today =dt_cols[LAST_DATE_I]\n",
    "# dt_5day = dt_cols[LAST_DATE_I - 5]\n",
    "dt_yday = dt_cols[LAST_DATE_I - 1]"
   ]
  },
  {
   "cell_type": "code",
   "execution_count": 11,
   "id": "restricted-sheriff",
   "metadata": {
    "execution": {
     "iopub.execute_input": "2022-02-10T12:12:39.540372Z",
     "iopub.status.busy": "2022-02-10T12:12:39.539587Z",
     "iopub.status.idle": "2022-02-10T12:12:39.545548Z",
     "shell.execute_reply": "2022-02-10T12:12:39.546121Z"
    },
    "papermill": {
     "duration": 0.051653,
     "end_time": "2022-02-10T12:12:39.546279",
     "exception": false,
     "start_time": "2022-02-10T12:12:39.494626",
     "status": "completed"
    },
    "tags": []
   },
   "outputs": [],
   "source": [
    "#hide\n",
    "dfc_cases = dft_cases.groupby(COL_REGION)[dt_today].sum()\n",
    "dfc_deaths = dft_deaths.groupby(COL_REGION)[dt_today].sum()\n",
    "# dfp_cases = dft_cases.groupby(COL_REGION)[dt_5day].sum()\n",
    "# dfp_deaths = dft_deaths.groupby(COL_REGION)[dt_5day].sum()\n",
    "dfp_cases = dft_cases.groupby(COL_REGION)[dt_yday].sum()\n",
    "dfp_deaths = dft_deaths.groupby(COL_REGION)[dt_yday].sum()"
   ]
  },
  {
   "cell_type": "code",
   "execution_count": 12,
   "id": "deluxe-hepatitis",
   "metadata": {
    "execution": {
     "iopub.execute_input": "2022-02-10T12:12:39.621357Z",
     "iopub.status.busy": "2022-02-10T12:12:39.620759Z",
     "iopub.status.idle": "2022-02-10T12:12:39.625584Z",
     "shell.execute_reply": "2022-02-10T12:12:39.625184Z"
    },
    "papermill": {
     "duration": 0.045887,
     "end_time": "2022-02-10T12:12:39.625690",
     "exception": false,
     "start_time": "2022-02-10T12:12:39.579803",
     "status": "completed"
    },
    "tags": []
   },
   "outputs": [],
   "source": [
    "#hide\n",
    "df_table = (pd.DataFrame(dict(Cases = dfc_cases, Deaths = dfc_deaths, PCases = dfp_cases, PDeaths = dfp_deaths))\n",
    "            .sort_values(by = ['Cases','Deaths'], ascending = [False, False])\n",
    "            .reset_index())"
   ]
  },
  {
   "cell_type": "code",
   "execution_count": 13,
   "id": "educational-chancellor",
   "metadata": {
    "execution": {
     "iopub.execute_input": "2022-02-10T12:12:39.715697Z",
     "iopub.status.busy": "2022-02-10T12:12:39.709936Z",
     "iopub.status.idle": "2022-02-10T12:12:39.723346Z",
     "shell.execute_reply": "2022-02-10T12:12:39.722878Z"
    },
    "papermill": {
     "duration": 0.061775,
     "end_time": "2022-02-10T12:12:39.723470",
     "exception": false,
     "start_time": "2022-02-10T12:12:39.661695",
     "status": "completed"
    },
    "tags": []
   },
   "outputs": [
    {
     "data": {
      "text/html": [
       "<div>\n",
       "<style scoped>\n",
       "    .dataframe tbody tr th:only-of-type {\n",
       "        vertical-align: middle;\n",
       "    }\n",
       "\n",
       "    .dataframe tbody tr th {\n",
       "        vertical-align: top;\n",
       "    }\n",
       "\n",
       "    .dataframe thead th {\n",
       "        text-align: right;\n",
       "    }\n",
       "</style>\n",
       "<table border=\"1\" class=\"dataframe\">\n",
       "  <thead>\n",
       "    <tr style=\"text-align: right;\">\n",
       "      <th></th>\n",
       "      <th>Country/Region</th>\n",
       "      <th>Cases</th>\n",
       "      <th>Deaths</th>\n",
       "      <th>PCases</th>\n",
       "      <th>PDeaths</th>\n",
       "      <th>Cases (+)</th>\n",
       "      <th>Deaths (+)</th>\n",
       "      <th>Fatality Rate</th>\n",
       "      <th>Continent</th>\n",
       "    </tr>\n",
       "  </thead>\n",
       "  <tbody>\n",
       "    <tr>\n",
       "      <th>0</th>\n",
       "      <td>US</td>\n",
       "      <td>77267254</td>\n",
       "      <td>912255</td>\n",
       "      <td>77051506</td>\n",
       "      <td>908820</td>\n",
       "      <td>215748</td>\n",
       "      <td>3435</td>\n",
       "      <td>1.18</td>\n",
       "      <td>North America</td>\n",
       "    </tr>\n",
       "    <tr>\n",
       "      <th>1</th>\n",
       "      <td>India</td>\n",
       "      <td>42478060</td>\n",
       "      <td>506520</td>\n",
       "      <td>42410976</td>\n",
       "      <td>505279</td>\n",
       "      <td>67084</td>\n",
       "      <td>1241</td>\n",
       "      <td>1.19</td>\n",
       "      <td>Asia</td>\n",
       "    </tr>\n",
       "    <tr>\n",
       "      <th>2</th>\n",
       "      <td>Brazil</td>\n",
       "      <td>26972914</td>\n",
       "      <td>635421</td>\n",
       "      <td>26793497</td>\n",
       "      <td>634118</td>\n",
       "      <td>179417</td>\n",
       "      <td>1303</td>\n",
       "      <td>2.36</td>\n",
       "      <td>South America</td>\n",
       "    </tr>\n",
       "    <tr>\n",
       "      <th>3</th>\n",
       "      <td>France</td>\n",
       "      <td>21177663</td>\n",
       "      <td>134609</td>\n",
       "      <td>21174600</td>\n",
       "      <td>134609</td>\n",
       "      <td>3063</td>\n",
       "      <td>0</td>\n",
       "      <td>0.64</td>\n",
       "      <td>Europe</td>\n",
       "    </tr>\n",
       "    <tr>\n",
       "      <th>4</th>\n",
       "      <td>United Kingdom</td>\n",
       "      <td>18123192</td>\n",
       "      <td>159503</td>\n",
       "      <td>18055318</td>\n",
       "      <td>159220</td>\n",
       "      <td>67874</td>\n",
       "      <td>283</td>\n",
       "      <td>0.88</td>\n",
       "      <td>Europe</td>\n",
       "    </tr>\n",
       "  </tbody>\n",
       "</table>\n",
       "</div>"
      ],
      "text/plain": [
       "   Country/Region     Cases  Deaths    PCases  PDeaths  Cases (+)  Deaths (+)  \\\n",
       "0              US  77267254  912255  77051506   908820     215748        3435   \n",
       "1           India  42478060  506520  42410976   505279      67084        1241   \n",
       "2          Brazil  26972914  635421  26793497   634118     179417        1303   \n",
       "3          France  21177663  134609  21174600   134609       3063           0   \n",
       "4  United Kingdom  18123192  159503  18055318   159220      67874         283   \n",
       "\n",
       "   Fatality Rate      Continent  \n",
       "0           1.18  North America  \n",
       "1           1.19           Asia  \n",
       "2           2.36  South America  \n",
       "3           0.64         Europe  \n",
       "4           0.88         Europe  "
      ]
     },
     "execution_count": 13,
     "metadata": {},
     "output_type": "execute_result"
    }
   ],
   "source": [
    "#hide\n",
    "for c in 'Cases, Deaths'.split(', '):\n",
    "    df_table[f'{c} (+)'] = (df_table[c] - df_table[f'P{c}']).clip(0)\n",
    "    #Clip ça veut dire, les chiffres negatif sont interdit\n",
    "df_table['Fatality Rate'] = (100* df_table['Deaths']/ df_table['Cases']).round(2)\n",
    "df_table['Continent'] = df_table['Country/Region'].map(mapping['map.continent'])\n",
    "df_table.head(5)"
   ]
  },
  {
   "cell_type": "code",
   "execution_count": 14,
   "id": "aboriginal-bulgaria",
   "metadata": {
    "execution": {
     "iopub.execute_input": "2022-02-10T12:12:39.795275Z",
     "iopub.status.busy": "2022-02-10T12:12:39.794646Z",
     "iopub.status.idle": "2022-02-10T12:12:39.798016Z",
     "shell.execute_reply": "2022-02-10T12:12:39.797310Z"
    },
    "papermill": {
     "duration": 0.040942,
     "end_time": "2022-02-10T12:12:39.798152",
     "exception": false,
     "start_time": "2022-02-10T12:12:39.757210",
     "status": "completed"
    },
    "tags": []
   },
   "outputs": [],
   "source": [
    "#hide\n",
    "#delete problematic countries from table\n",
    "df_table = df_table[~df_table['Country/Region'].isin(['Cape Verde', 'Cruise Ship', 'Kosovo'])]"
   ]
  },
  {
   "cell_type": "code",
   "execution_count": 15,
   "id": "fantastic-effect",
   "metadata": {
    "execution": {
     "iopub.execute_input": "2022-02-10T12:12:39.873796Z",
     "iopub.status.busy": "2022-02-10T12:12:39.873244Z",
     "iopub.status.idle": "2022-02-10T12:12:39.891967Z",
     "shell.execute_reply": "2022-02-10T12:12:39.892482Z"
    },
    "papermill": {
     "duration": 0.063178,
     "end_time": "2022-02-10T12:12:39.892618",
     "exception": false,
     "start_time": "2022-02-10T12:12:39.829440",
     "status": "completed"
    },
    "tags": []
   },
   "outputs": [
    {
     "data": {
      "text/html": [
       "<div>\n",
       "<style scoped>\n",
       "    .dataframe tbody tr th:only-of-type {\n",
       "        vertical-align: middle;\n",
       "    }\n",
       "\n",
       "    .dataframe tbody tr th {\n",
       "        vertical-align: top;\n",
       "    }\n",
       "\n",
       "    .dataframe thead th {\n",
       "        text-align: right;\n",
       "    }\n",
       "</style>\n",
       "<table border=\"1\" class=\"dataframe\">\n",
       "  <thead>\n",
       "    <tr style=\"text-align: right;\">\n",
       "      <th></th>\n",
       "      <th>Country/Region</th>\n",
       "      <th>Cases</th>\n",
       "      <th>Deaths</th>\n",
       "      <th>PCases</th>\n",
       "      <th>PDeaths</th>\n",
       "      <th>Cases (+)</th>\n",
       "      <th>Deaths (+)</th>\n",
       "      <th>Fatality Rate</th>\n",
       "      <th>Continent</th>\n",
       "    </tr>\n",
       "  </thead>\n",
       "  <tbody>\n",
       "    <tr>\n",
       "      <th>0</th>\n",
       "      <td>US</td>\n",
       "      <td>77267254</td>\n",
       "      <td>912255</td>\n",
       "      <td>77051506</td>\n",
       "      <td>908820</td>\n",
       "      <td>215748</td>\n",
       "      <td>3435</td>\n",
       "      <td>1.2</td>\n",
       "      <td>North America</td>\n",
       "    </tr>\n",
       "    <tr>\n",
       "      <th>1</th>\n",
       "      <td>India</td>\n",
       "      <td>42478060</td>\n",
       "      <td>506520</td>\n",
       "      <td>42410976</td>\n",
       "      <td>505279</td>\n",
       "      <td>67084</td>\n",
       "      <td>1241</td>\n",
       "      <td>1.2</td>\n",
       "      <td>Asia</td>\n",
       "    </tr>\n",
       "    <tr>\n",
       "      <th>2</th>\n",
       "      <td>Brazil</td>\n",
       "      <td>26972914</td>\n",
       "      <td>635421</td>\n",
       "      <td>26793497</td>\n",
       "      <td>634118</td>\n",
       "      <td>179417</td>\n",
       "      <td>1303</td>\n",
       "      <td>2.4</td>\n",
       "      <td>South America</td>\n",
       "    </tr>\n",
       "    <tr>\n",
       "      <th>3</th>\n",
       "      <td>France</td>\n",
       "      <td>21177663</td>\n",
       "      <td>134609</td>\n",
       "      <td>21174600</td>\n",
       "      <td>134609</td>\n",
       "      <td>3063</td>\n",
       "      <td>0</td>\n",
       "      <td>0.6</td>\n",
       "      <td>Europe</td>\n",
       "    </tr>\n",
       "    <tr>\n",
       "      <th>4</th>\n",
       "      <td>United Kingdom</td>\n",
       "      <td>18123192</td>\n",
       "      <td>159503</td>\n",
       "      <td>18055318</td>\n",
       "      <td>159220</td>\n",
       "      <td>67874</td>\n",
       "      <td>283</td>\n",
       "      <td>0.9</td>\n",
       "      <td>Europe</td>\n",
       "    </tr>\n",
       "  </tbody>\n",
       "</table>\n",
       "</div>"
      ],
      "text/plain": [
       "   Country/Region     Cases  Deaths    PCases  PDeaths  Cases (+)  Deaths (+)  \\\n",
       "0              US  77267254  912255  77051506   908820     215748        3435   \n",
       "1           India  42478060  506520  42410976   505279      67084        1241   \n",
       "2          Brazil  26972914  635421  26793497   634118     179417        1303   \n",
       "3          France  21177663  134609  21174600   134609       3063           0   \n",
       "4  United Kingdom  18123192  159503  18055318   159220      67874         283   \n",
       "\n",
       "   Fatality Rate      Continent  \n",
       "0            1.2  North America  \n",
       "1            1.2           Asia  \n",
       "2            2.4  South America  \n",
       "3            0.6         Europe  \n",
       "4            0.9         Europe  "
      ]
     },
     "execution_count": 15,
     "metadata": {},
     "output_type": "execute_result"
    }
   ],
   "source": [
    "#hide\n",
    "df_table = (pd.DataFrame(dict(Cases=dfc_cases, Deaths=dfc_deaths, PCases=dfp_cases, PDeaths=dfp_deaths))\n",
    "             .sort_values(by=['Cases', 'Deaths'], ascending=[False, False])\n",
    "             .reset_index())\n",
    "df_table.rename(columns={'index': 'Country/Region'}, inplace=True)\n",
    "for c in 'Cases, Deaths'.split(', '):\n",
    "    df_table[f'{c} (+)'] = (df_table[c] - df_table[f'P{c}']).clip(0)  # DATA BUG\n",
    "df_table['Fatality Rate'] = (100 * df_table['Deaths'] / df_table['Cases']).round(1)\n",
    "df_table['Continent'] = df_table['Country/Region'].map(mapping['map.continent'])\n",
    "df_table.head(5)"
   ]
  },
  {
   "cell_type": "code",
   "execution_count": 16,
   "id": "fewer-occasion",
   "metadata": {
    "execution": {
     "iopub.execute_input": "2022-02-10T12:12:39.971210Z",
     "iopub.status.busy": "2022-02-10T12:12:39.970649Z",
     "iopub.status.idle": "2022-02-10T12:12:39.973840Z",
     "shell.execute_reply": "2022-02-10T12:12:39.974321Z"
    },
    "papermill": {
     "duration": 0.041547,
     "end_time": "2022-02-10T12:12:39.974436",
     "exception": false,
     "start_time": "2022-02-10T12:12:39.932889",
     "status": "completed"
    },
    "tags": []
   },
   "outputs": [],
   "source": [
    "#hide\n",
    "#delete problematic countries from table\n",
    "df_table = df_table[~df_table['Country/Region'].isin(['Cape Verde', 'Cruise Ship', 'Kosovo'])]"
   ]
  },
  {
   "cell_type": "code",
   "execution_count": 17,
   "id": "related-center",
   "metadata": {
    "execution": {
     "iopub.execute_input": "2022-02-10T12:12:40.058610Z",
     "iopub.status.busy": "2022-02-10T12:12:40.057964Z",
     "iopub.status.idle": "2022-02-10T12:12:40.072036Z",
     "shell.execute_reply": "2022-02-10T12:12:40.071608Z"
    },
    "papermill": {
     "duration": 0.06267,
     "end_time": "2022-02-10T12:12:40.072164",
     "exception": false,
     "start_time": "2022-02-10T12:12:40.009494",
     "status": "completed"
    },
    "tags": []
   },
   "outputs": [],
   "source": [
    "#hide\n",
    "metrics = [df_table.columns[index] for index in [1,2,5,6]]\n",
    "# s_china = df_table[df_table['Country/Region'].eq('China')][metrics].sum().add_prefix('China ')\n",
    "s_us = df_table[df_table['Country/Region'].eq('US')][metrics].sum().add_prefix('US ')\n",
    "s_eu = df_table[df_table['Continent'].eq('Europe')][metrics].sum().add_prefix('EU ')\n",
    "s_ind = df_table[df_table['Country/Region'].eq('India')][metrics].sum().add_prefix('India ')\n",
    "summary = {'updated': pd.to_datetime(dt_today), 'since': pd.to_datetime(dt_yday)}\n",
    "summary = {'updated': pd.to_datetime(dt_today), 'since': pd.to_datetime(dt_yday)}\n",
    "summary = {**summary, **df_table[metrics].sum(), **s_ind, **s_us, **s_eu}"
   ]
  },
  {
   "cell_type": "code",
   "execution_count": 18,
   "id": "engaging-syndrome",
   "metadata": {
    "execution": {
     "iopub.execute_input": "2022-02-10T12:12:40.146188Z",
     "iopub.status.busy": "2022-02-10T12:12:40.145637Z",
     "iopub.status.idle": "2022-02-10T12:12:40.161935Z",
     "shell.execute_reply": "2022-02-10T12:12:40.161497Z"
    },
    "papermill": {
     "duration": 0.056029,
     "end_time": "2022-02-10T12:12:40.162057",
     "exception": false,
     "start_time": "2022-02-10T12:12:40.106028",
     "status": "completed"
    },
    "tags": []
   },
   "outputs": [],
   "source": [
    "#hide\n",
    "dft_ct_new_cases = dft_cases.groupby(COL_REGION)[dt_cols].sum().diff(axis=1).fillna(0).astype(int)"
   ]
  },
  {
   "cell_type": "code",
   "execution_count": 19,
   "id": "neutral-assignment",
   "metadata": {
    "execution": {
     "iopub.execute_input": "2022-02-10T12:12:40.234664Z",
     "iopub.status.busy": "2022-02-10T12:12:40.233955Z",
     "iopub.status.idle": "2022-02-10T12:12:40.238363Z",
     "shell.execute_reply": "2022-02-10T12:12:40.237893Z"
    },
    "papermill": {
     "duration": 0.042317,
     "end_time": "2022-02-10T12:12:40.238483",
     "exception": false,
     "start_time": "2022-02-10T12:12:40.196166",
     "status": "completed"
    },
    "tags": []
   },
   "outputs": [],
   "source": [
    "#hide\n",
    "everydaycases = dft_ct_new_cases.cumsum(axis=1)"
   ]
  },
  {
   "cell_type": "code",
   "execution_count": 20,
   "id": "parliamentary-calgary",
   "metadata": {
    "execution": {
     "iopub.execute_input": "2022-02-10T12:12:40.316324Z",
     "iopub.status.busy": "2022-02-10T12:12:40.315733Z",
     "iopub.status.idle": "2022-02-10T12:12:41.053588Z",
     "shell.execute_reply": "2022-02-10T12:12:41.052367Z"
    },
    "papermill": {
     "duration": 0.778922,
     "end_time": "2022-02-10T12:12:41.053788",
     "exception": false,
     "start_time": "2022-02-10T12:12:40.274866",
     "status": "completed"
    },
    "tags": []
   },
   "outputs": [],
   "source": [
    "#hide\n",
    "import pandas as pd\n",
    "import matplotlib.pyplot as plt\n",
    "import matplotlib.ticker as ticker\n",
    "import matplotlib.animation as animation\n",
    "from IPython.display import HTML"
   ]
  },
  {
   "cell_type": "code",
   "execution_count": 21,
   "id": "lasting-extraction",
   "metadata": {
    "execution": {
     "iopub.execute_input": "2022-02-10T12:12:41.131185Z",
     "iopub.status.busy": "2022-02-10T12:12:41.130742Z",
     "iopub.status.idle": "2022-02-10T12:12:41.138662Z",
     "shell.execute_reply": "2022-02-10T12:12:41.137692Z"
    },
    "papermill": {
     "duration": 0.046819,
     "end_time": "2022-02-10T12:12:41.138786",
     "exception": false,
     "start_time": "2022-02-10T12:12:41.091967",
     "status": "completed"
    },
    "tags": []
   },
   "outputs": [],
   "source": [
    "#hide\n",
    "t = everydaycases.stack()"
   ]
  },
  {
   "cell_type": "code",
   "execution_count": 22,
   "id": "premier-sleeve",
   "metadata": {
    "execution": {
     "iopub.execute_input": "2022-02-10T12:12:41.212882Z",
     "iopub.status.busy": "2022-02-10T12:12:41.212324Z",
     "iopub.status.idle": "2022-02-10T12:12:41.223283Z",
     "shell.execute_reply": "2022-02-10T12:12:41.222848Z"
    },
    "papermill": {
     "duration": 0.050282,
     "end_time": "2022-02-10T12:12:41.223402",
     "exception": false,
     "start_time": "2022-02-10T12:12:41.173120",
     "status": "completed"
    },
    "tags": []
   },
   "outputs": [],
   "source": [
    "#hide\n",
    "g = t.reset_index(['Country/Region'])"
   ]
  },
  {
   "cell_type": "code",
   "execution_count": 23,
   "id": "distributed-pittsburgh",
   "metadata": {
    "execution": {
     "iopub.execute_input": "2022-02-10T12:12:41.296843Z",
     "iopub.status.busy": "2022-02-10T12:12:41.296227Z",
     "iopub.status.idle": "2022-02-10T12:12:41.299166Z",
     "shell.execute_reply": "2022-02-10T12:12:41.298684Z"
    },
    "papermill": {
     "duration": 0.041872,
     "end_time": "2022-02-10T12:12:41.299282",
     "exception": false,
     "start_time": "2022-02-10T12:12:41.257410",
     "status": "completed"
    },
    "tags": []
   },
   "outputs": [],
   "source": [
    "#hide\n",
    "g.index.name = 'date'"
   ]
  },
  {
   "cell_type": "code",
   "execution_count": 24,
   "id": "naked-donor",
   "metadata": {
    "execution": {
     "iopub.execute_input": "2022-02-10T12:12:41.377001Z",
     "iopub.status.busy": "2022-02-10T12:12:41.376420Z",
     "iopub.status.idle": "2022-02-10T12:12:41.378073Z",
     "shell.execute_reply": "2022-02-10T12:12:41.378453Z"
    },
    "papermill": {
     "duration": 0.045579,
     "end_time": "2022-02-10T12:12:41.378571",
     "exception": false,
     "start_time": "2022-02-10T12:12:41.332992",
     "status": "completed"
    },
    "tags": []
   },
   "outputs": [],
   "source": [
    "# #hide\n",
    "# g = g.reset_index(['date'])"
   ]
  },
  {
   "cell_type": "code",
   "execution_count": 25,
   "id": "incomplete-mustang",
   "metadata": {
    "execution": {
     "iopub.execute_input": "2022-02-10T12:12:41.450254Z",
     "iopub.status.busy": "2022-02-10T12:12:41.449708Z",
     "iopub.status.idle": "2022-02-10T12:12:41.452237Z",
     "shell.execute_reply": "2022-02-10T12:12:41.451620Z"
    },
    "papermill": {
     "duration": 0.040753,
     "end_time": "2022-02-10T12:12:41.452379",
     "exception": false,
     "start_time": "2022-02-10T12:12:41.411626",
     "status": "completed"
    },
    "tags": []
   },
   "outputs": [],
   "source": [
    "#hide\n",
    "# g.head()"
   ]
  },
  {
   "cell_type": "code",
   "execution_count": 26,
   "id": "specific-kruger",
   "metadata": {
    "execution": {
     "iopub.execute_input": "2022-02-10T12:12:41.522130Z",
     "iopub.status.busy": "2022-02-10T12:12:41.521591Z",
     "iopub.status.idle": "2022-02-10T12:12:41.523734Z",
     "shell.execute_reply": "2022-02-10T12:12:41.524252Z"
    },
    "papermill": {
     "duration": 0.038629,
     "end_time": "2022-02-10T12:12:41.524389",
     "exception": false,
     "start_time": "2022-02-10T12:12:41.485760",
     "status": "completed"
    },
    "tags": []
   },
   "outputs": [],
   "source": [
    "#hide\n",
    "# g.columns = ['date','country','cases']"
   ]
  },
  {
   "cell_type": "code",
   "execution_count": 27,
   "id": "tender-conversion",
   "metadata": {
    "execution": {
     "iopub.execute_input": "2022-02-10T12:12:41.594978Z",
     "iopub.status.busy": "2022-02-10T12:12:41.594419Z",
     "iopub.status.idle": "2022-02-10T12:12:41.596750Z",
     "shell.execute_reply": "2022-02-10T12:12:41.596246Z"
    },
    "papermill": {
     "duration": 0.038898,
     "end_time": "2022-02-10T12:12:41.596871",
     "exception": false,
     "start_time": "2022-02-10T12:12:41.557973",
     "status": "completed"
    },
    "tags": []
   },
   "outputs": [],
   "source": [
    "#hide\n",
    "# g['continent'] = g.country"
   ]
  },
  {
   "cell_type": "code",
   "execution_count": 28,
   "id": "substantial-wilderness",
   "metadata": {
    "execution": {
     "iopub.execute_input": "2022-02-10T12:12:41.671041Z",
     "iopub.status.busy": "2022-02-10T12:12:41.670427Z",
     "iopub.status.idle": "2022-02-10T12:12:41.673991Z",
     "shell.execute_reply": "2022-02-10T12:12:41.673488Z"
    },
    "papermill": {
     "duration": 0.041656,
     "end_time": "2022-02-10T12:12:41.674123",
     "exception": false,
     "start_time": "2022-02-10T12:12:41.632467",
     "status": "completed"
    },
    "tags": []
   },
   "outputs": [],
   "source": [
    "#hide\n",
    "# cols = list(g.columns.values)"
   ]
  },
  {
   "cell_type": "code",
   "execution_count": 29,
   "id": "solved-farming",
   "metadata": {
    "execution": {
     "iopub.execute_input": "2022-02-10T12:12:41.743037Z",
     "iopub.status.busy": "2022-02-10T12:12:41.742420Z",
     "iopub.status.idle": "2022-02-10T12:12:41.744500Z",
     "shell.execute_reply": "2022-02-10T12:12:41.743936Z"
    },
    "papermill": {
     "duration": 0.037938,
     "end_time": "2022-02-10T12:12:41.744613",
     "exception": false,
     "start_time": "2022-02-10T12:12:41.706675",
     "status": "completed"
    },
    "tags": []
   },
   "outputs": [],
   "source": [
    "#hide\n",
    "# cols.insert(0, cols.pop())"
   ]
  },
  {
   "cell_type": "code",
   "execution_count": 30,
   "id": "executed-adoption",
   "metadata": {
    "execution": {
     "iopub.execute_input": "2022-02-10T12:12:41.817988Z",
     "iopub.status.busy": "2022-02-10T12:12:41.817415Z",
     "iopub.status.idle": "2022-02-10T12:12:41.821665Z",
     "shell.execute_reply": "2022-02-10T12:12:41.822129Z"
    },
    "papermill": {
     "duration": 0.044502,
     "end_time": "2022-02-10T12:12:41.822247",
     "exception": false,
     "start_time": "2022-02-10T12:12:41.777745",
     "status": "completed"
    },
    "tags": []
   },
   "outputs": [],
   "source": [
    "#hide\n",
    "# g = g[cols]"
   ]
  },
  {
   "cell_type": "code",
   "execution_count": 31,
   "id": "subject-dublin",
   "metadata": {
    "execution": {
     "iopub.execute_input": "2022-02-10T12:12:41.894120Z",
     "iopub.status.busy": "2022-02-10T12:12:41.893570Z",
     "iopub.status.idle": "2022-02-10T12:12:41.896003Z",
     "shell.execute_reply": "2022-02-10T12:12:41.895536Z"
    },
    "papermill": {
     "duration": 0.040887,
     "end_time": "2022-02-10T12:12:41.896151",
     "exception": false,
     "start_time": "2022-02-10T12:12:41.855264",
     "status": "completed"
    },
    "tags": []
   },
   "outputs": [],
   "source": [
    "#hide\n",
    "# g['continent'] = g['continent'].map(mapping['map.continent'])"
   ]
  },
  {
   "cell_type": "code",
   "execution_count": 32,
   "id": "freelance-scout",
   "metadata": {
    "execution": {
     "iopub.execute_input": "2022-02-10T12:12:41.969648Z",
     "iopub.status.busy": "2022-02-10T12:12:41.969170Z",
     "iopub.status.idle": "2022-02-10T12:12:41.971334Z",
     "shell.execute_reply": "2022-02-10T12:12:41.971858Z"
    },
    "papermill": {
     "duration": 0.041607,
     "end_time": "2022-02-10T12:12:41.971991",
     "exception": false,
     "start_time": "2022-02-10T12:12:41.930384",
     "status": "completed"
    },
    "tags": []
   },
   "outputs": [],
   "source": [
    "#hide\n",
    "# g.head()"
   ]
  },
  {
   "cell_type": "code",
   "execution_count": 33,
   "id": "limited-engine",
   "metadata": {
    "execution": {
     "iopub.execute_input": "2022-02-10T12:12:42.041277Z",
     "iopub.status.busy": "2022-02-10T12:12:42.040734Z",
     "iopub.status.idle": "2022-02-10T12:12:42.043607Z",
     "shell.execute_reply": "2022-02-10T12:12:42.044159Z"
    },
    "papermill": {
     "duration": 0.040825,
     "end_time": "2022-02-10T12:12:42.044295",
     "exception": false,
     "start_time": "2022-02-10T12:12:42.003470",
     "status": "completed"
    },
    "tags": []
   },
   "outputs": [],
   "source": [
    "# hide\n",
    "# g['date'] = g['date'].astype('datetime64[ns]')"
   ]
  },
  {
   "cell_type": "code",
   "execution_count": 34,
   "id": "sophisticated-supervisor",
   "metadata": {
    "execution": {
     "iopub.execute_input": "2022-02-10T12:12:42.117536Z",
     "iopub.status.busy": "2022-02-10T12:12:42.116906Z",
     "iopub.status.idle": "2022-02-10T12:12:42.121171Z",
     "shell.execute_reply": "2022-02-10T12:12:42.120676Z"
    },
    "papermill": {
     "duration": 0.043619,
     "end_time": "2022-02-10T12:12:42.121302",
     "exception": false,
     "start_time": "2022-02-10T12:12:42.077683",
     "status": "completed"
    },
    "tags": []
   },
   "outputs": [],
   "source": [
    "#hide\n",
    "# g['date'] = g.date.dt.dayofyear"
   ]
  },
  {
   "cell_type": "code",
   "execution_count": 35,
   "id": "inside-dubai",
   "metadata": {
    "execution": {
     "iopub.execute_input": "2022-02-10T12:12:42.194336Z",
     "iopub.status.busy": "2022-02-10T12:12:42.193780Z",
     "iopub.status.idle": "2022-02-10T12:12:42.195494Z",
     "shell.execute_reply": "2022-02-10T12:12:42.195933Z"
    },
    "papermill": {
     "duration": 0.041112,
     "end_time": "2022-02-10T12:12:42.196095",
     "exception": false,
     "start_time": "2022-02-10T12:12:42.154983",
     "status": "completed"
    },
    "tags": []
   },
   "outputs": [],
   "source": [
    "#hide\n",
    "# g = g.rename(columns= {'continent':'group','country':'name','cases':'value'})"
   ]
  },
  {
   "cell_type": "code",
   "execution_count": 36,
   "id": "fleet-motorcycle",
   "metadata": {
    "execution": {
     "iopub.execute_input": "2022-02-10T12:12:42.268167Z",
     "iopub.status.busy": "2022-02-10T12:12:42.267533Z",
     "iopub.status.idle": "2022-02-10T12:12:42.271082Z",
     "shell.execute_reply": "2022-02-10T12:12:42.271441Z"
    },
    "papermill": {
     "duration": 0.041658,
     "end_time": "2022-02-10T12:12:42.271562",
     "exception": false,
     "start_time": "2022-02-10T12:12:42.229904",
     "status": "completed"
    },
    "tags": []
   },
   "outputs": [],
   "source": [
    "#hide\n",
    "# cols = ['name','group','day','value']"
   ]
  },
  {
   "cell_type": "code",
   "execution_count": 37,
   "id": "continued-sleeping",
   "metadata": {
    "execution": {
     "iopub.execute_input": "2022-02-10T12:12:42.351646Z",
     "iopub.status.busy": "2022-02-10T12:12:42.350929Z",
     "iopub.status.idle": "2022-02-10T12:12:42.352709Z",
     "shell.execute_reply": "2022-02-10T12:12:42.352210Z"
    },
    "papermill": {
     "duration": 0.046228,
     "end_time": "2022-02-10T12:12:42.352830",
     "exception": false,
     "start_time": "2022-02-10T12:12:42.306602",
     "status": "completed"
    },
    "tags": []
   },
   "outputs": [],
   "source": [
    "#hide\n",
    "# g.rename(columns= {'date':'day'},inplace = True)"
   ]
  },
  {
   "cell_type": "code",
   "execution_count": 38,
   "id": "major-fight",
   "metadata": {
    "execution": {
     "iopub.execute_input": "2022-02-10T12:12:42.427382Z",
     "iopub.status.busy": "2022-02-10T12:12:42.426758Z",
     "iopub.status.idle": "2022-02-10T12:12:42.428584Z",
     "shell.execute_reply": "2022-02-10T12:12:42.429074Z"
    },
    "papermill": {
     "duration": 0.040651,
     "end_time": "2022-02-10T12:12:42.429207",
     "exception": false,
     "start_time": "2022-02-10T12:12:42.388556",
     "status": "completed"
    },
    "tags": []
   },
   "outputs": [],
   "source": [
    "#hide\n",
    "# g = g[cols]"
   ]
  },
  {
   "cell_type": "code",
   "execution_count": 39,
   "id": "structured-mobile",
   "metadata": {
    "execution": {
     "iopub.execute_input": "2022-02-10T12:12:42.513356Z",
     "iopub.status.busy": "2022-02-10T12:12:42.512756Z",
     "iopub.status.idle": "2022-02-10T12:12:42.514560Z",
     "shell.execute_reply": "2022-02-10T12:12:42.515019Z"
    },
    "papermill": {
     "duration": 0.041346,
     "end_time": "2022-02-10T12:12:42.515159",
     "exception": false,
     "start_time": "2022-02-10T12:12:42.473813",
     "status": "completed"
    },
    "tags": []
   },
   "outputs": [],
   "source": [
    "# #hide\n",
    "# g = g[g.group.notna()]"
   ]
  },
  {
   "cell_type": "code",
   "execution_count": 40,
   "id": "determined-closing",
   "metadata": {
    "execution": {
     "iopub.execute_input": "2022-02-10T12:12:42.588859Z",
     "iopub.status.busy": "2022-02-10T12:12:42.587753Z",
     "iopub.status.idle": "2022-02-10T12:12:42.591287Z",
     "shell.execute_reply": "2022-02-10T12:12:42.592045Z"
    },
    "papermill": {
     "duration": 0.042969,
     "end_time": "2022-02-10T12:12:42.592218",
     "exception": false,
     "start_time": "2022-02-10T12:12:42.549249",
     "status": "completed"
    },
    "tags": []
   },
   "outputs": [],
   "source": [
    "# #hide\n",
    "# colors = dict(zip(\n",
    "#     [\"Oceania\", \"Europe\", \"Asia\", \"South America\", \"Middle East\", \"North America\", \"Africa\"],\n",
    "#     [\"#adb0ff\", \"#ffb3ff\", \"#90d595\", \"#e48381\", \"#aafbff\", \"#f7bb5f\", \"#eafb50\"]\n",
    "# ))\n",
    "# group_lk = g.set_index('name')['group'].to_dict()"
   ]
  },
  {
   "cell_type": "code",
   "execution_count": null,
   "id": "gross-drinking",
   "metadata": {
    "papermill": {
     "duration": 0.034365,
     "end_time": "2022-02-10T12:12:42.661100",
     "exception": false,
     "start_time": "2022-02-10T12:12:42.626735",
     "status": "completed"
    },
    "tags": []
   },
   "outputs": [],
   "source": []
  },
  {
   "cell_type": "code",
   "execution_count": 41,
   "id": "subject-macintosh",
   "metadata": {
    "execution": {
     "iopub.execute_input": "2022-02-10T12:12:42.735878Z",
     "iopub.status.busy": "2022-02-10T12:12:42.735274Z",
     "iopub.status.idle": "2022-02-10T12:12:42.736804Z",
     "shell.execute_reply": "2022-02-10T12:12:42.737302Z"
    },
    "papermill": {
     "duration": 0.039573,
     "end_time": "2022-02-10T12:12:42.737441",
     "exception": false,
     "start_time": "2022-02-10T12:12:42.697868",
     "status": "completed"
    },
    "tags": []
   },
   "outputs": [],
   "source": [
    "# #hide\n",
    "# fig, ax = plt.subplots(figsize=(15, 8))\n",
    "\n",
    "# def draw_barchart(current_day):\n",
    "#     dff = g[g['day'].eq(current_day)].sort_values(by='value', ascending=True).tail(10)\n",
    "#     ax.clear()\n",
    "#     ax.barh(dff['name'], dff['value'], color=[colors[group_lk[x]] for x in dff['name']])\n",
    "#     dx = dff['value'].max() / 200\n",
    "    \n",
    "#     for i, (value, name) in enumerate(zip(dff['value'], dff['name'])):\n",
    "#         ax.text(value-dx, i,     name,           size=14, weight=600, ha='right', va='bottom')\n",
    "#         ax.text(value-dx, i-.25, group_lk[name], size=10, color='#444444', ha='right', va='baseline')\n",
    "#         ax.text(value+dx, i,     f'{value:,.0f}',  size=14, ha='left',  va='center')\n",
    "#     ax.text(1, 0.4, current_day, transform=ax.transAxes, color='#777777', size=46, ha='right', weight=800)\n",
    "#     ax.text(0, 1.06, 'Population (thousands)', transform=ax.transAxes, size=12, color='#777777')\n",
    "#     ax.xaxis.set_major_formatter(ticker.StrMethodFormatter('{x:,.0f}'))\n",
    "#     ax.xaxis.set_ticks_position('top')\n",
    "#     ax.tick_params(axis='x', colors='#777777', labelsize=12)\n",
    "#     ax.set_yticks([])\n",
    "#     ax.margins(0, 0.01)\n",
    "#     ax.grid(which='major', axis='x', linestyle='-')\n",
    "#     ax.set_axisbelow(True)\n",
    "    \n",
    "#     ax.text(0, 1.15, 'Coronavirus',\n",
    "#             transform=ax.transAxes, size=24, weight=600, ha='left', va='top')\n",
    "# #     ax.text(1, 0, 'by @pratapvardhan; credit @jburnmurdoch', transform=ax.transAxes, color='#777777', ha='right',\n",
    "# #             bbox=dict(facecolor='white', alpha=0.8, edgecolor='white'))\n",
    "#     plt.box(False)"
   ]
  },
  {
   "cell_type": "code",
   "execution_count": 42,
   "id": "sexual-wages",
   "metadata": {
    "execution": {
     "iopub.execute_input": "2022-02-10T12:12:42.816047Z",
     "iopub.status.busy": "2022-02-10T12:12:42.815392Z",
     "iopub.status.idle": "2022-02-10T12:12:42.818656Z",
     "shell.execute_reply": "2022-02-10T12:12:42.819066Z"
    },
    "papermill": {
     "duration": 0.046436,
     "end_time": "2022-02-10T12:12:42.819200",
     "exception": false,
     "start_time": "2022-02-10T12:12:42.772764",
     "status": "completed"
    },
    "tags": []
   },
   "outputs": [],
   "source": [
    "# #hide_input\n",
    "# fig, ax = plt.subplots(figsize=(15, 8))\n",
    "# animator = animation.FuncAnimation(fig, draw_barchart, frames=range(g.day.values.min(), g.day.values.max()))\n",
    "# HTML(animator.to_jshtml())\n",
    "# # or use animator.to_html5_video() or animator.save() "
   ]
  },
  {
   "cell_type": "code",
   "execution_count": null,
   "id": "australian-container",
   "metadata": {
    "papermill": {
     "duration": 0.035828,
     "end_time": "2022-02-10T12:12:42.889953",
     "exception": false,
     "start_time": "2022-02-10T12:12:42.854125",
     "status": "completed"
    },
    "tags": []
   },
   "outputs": [],
   "source": []
  },
  {
   "cell_type": "code",
   "execution_count": null,
   "id": "mediterranean-pontiac",
   "metadata": {
    "papermill": {
     "duration": 0.035745,
     "end_time": "2022-02-10T12:12:42.962881",
     "exception": false,
     "start_time": "2022-02-10T12:12:42.927136",
     "status": "completed"
    },
    "tags": []
   },
   "outputs": [],
   "source": []
  },
  {
   "cell_type": "code",
   "execution_count": null,
   "id": "aging-legislature",
   "metadata": {
    "papermill": {
     "duration": 0.035464,
     "end_time": "2022-02-10T12:12:43.033922",
     "exception": false,
     "start_time": "2022-02-10T12:12:42.998458",
     "status": "completed"
    },
    "tags": []
   },
   "outputs": [],
   "source": []
  }
 ],
 "metadata": {
  "kernelspec": {
   "display_name": "Python 3",
   "language": "python",
   "name": "python3"
  },
  "language_info": {
   "codemirror_mode": {
    "name": "ipython",
    "version": 3
   },
   "file_extension": ".py",
   "mimetype": "text/x-python",
   "name": "python",
   "nbconvert_exporter": "python",
   "pygments_lexer": "ipython3",
   "version": "3.6.15"
  },
  "papermill": {
   "duration": 7.013144,
   "end_time": "2022-02-10T12:12:43.494415",
   "environment_variables": {},
   "exception": null,
   "input_path": "2020-03-21-covid19exp.ipynb",
   "output_path": "2020-03-21-covid19exp.ipynb",
   "parameters": {},
   "start_time": "2022-02-10T12:12:36.481271",
   "version": "2.0.0"
  }
 },
 "nbformat": 4,
 "nbformat_minor": 5
}