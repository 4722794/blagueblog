{
 "cells": [
  {
   "cell_type": "markdown",
   "id": "muslim-click",
   "metadata": {
    "papermill": {
     "duration": 0.035164,
     "end_time": "2021-07-13T12:10:41.134844",
     "exception": false,
     "start_time": "2021-07-13T12:10:41.099680",
     "status": "completed"
    },
    "tags": []
   },
   "source": [
    "# COVID-19 Case Race\n",
    "> A race chart to see rising cases around the world\n",
    "\n",
    "- author: Hargun Oberoi\n",
    "- image: images/covid-overview.png\n",
    "- hide: false\n",
    "- badges: false"
   ]
  },
  {
   "cell_type": "code",
   "execution_count": 1,
   "id": "proof-material",
   "metadata": {
    "execution": {
     "iopub.execute_input": "2021-07-13T12:10:41.204636Z",
     "iopub.status.busy": "2021-07-13T12:10:41.204132Z",
     "iopub.status.idle": "2021-07-13T12:10:41.538488Z",
     "shell.execute_reply": "2021-07-13T12:10:41.537906Z"
    },
    "papermill": {
     "duration": 0.373594,
     "end_time": "2021-07-13T12:10:41.538661",
     "exception": false,
     "start_time": "2021-07-13T12:10:41.165067",
     "status": "completed"
    },
    "tags": []
   },
   "outputs": [],
   "source": [
    "#hide\n",
    "import numpy as np\n",
    "import pandas as pd\n",
    "from jinja2 import Template\n",
    "from IPython.display import HTML"
   ]
  },
  {
   "cell_type": "code",
   "execution_count": 2,
   "id": "developed-terminology",
   "metadata": {
    "execution": {
     "iopub.execute_input": "2021-07-13T12:10:41.604726Z",
     "iopub.status.busy": "2021-07-13T12:10:41.603878Z",
     "iopub.status.idle": "2021-07-13T12:10:41.605369Z",
     "shell.execute_reply": "2021-07-13T12:10:41.605836Z"
    },
    "papermill": {
     "duration": 0.036453,
     "end_time": "2021-07-13T12:10:41.605974",
     "exception": false,
     "start_time": "2021-07-13T12:10:41.569521",
     "status": "completed"
    },
    "tags": []
   },
   "outputs": [],
   "source": [
    "#hide\n",
    "\n",
    "# FETCH\n",
    "base_url = 'https://raw.githubusercontent.com/pratapvardhan/notebooks/master/covid19/'\n",
    "paths = {\n",
    "    'mapping': base_url + 'mapping_countries.csv',\n",
    "    'overview': base_url + 'overview.tpl'\n",
    "}"
   ]
  },
  {
   "cell_type": "code",
   "execution_count": 3,
   "id": "dynamic-saver",
   "metadata": {
    "execution": {
     "iopub.execute_input": "2021-07-13T12:10:41.675356Z",
     "iopub.status.busy": "2021-07-13T12:10:41.674868Z",
     "iopub.status.idle": "2021-07-13T12:10:41.677682Z",
     "shell.execute_reply": "2021-07-13T12:10:41.677236Z"
    },
    "papermill": {
     "duration": 0.042285,
     "end_time": "2021-07-13T12:10:41.677793",
     "exception": false,
     "start_time": "2021-07-13T12:10:41.635508",
     "status": "completed"
    },
    "tags": []
   },
   "outputs": [
    {
     "data": {
      "text/plain": [
       "'https://raw.githubusercontent.com/pratapvardhan/notebooks/master/covid19/mapping_countries.csv'"
      ]
     },
     "execution_count": 3,
     "metadata": {},
     "output_type": "execute_result"
    }
   ],
   "source": [
    "#hide\n",
    "paths['mapping']"
   ]
  },
  {
   "cell_type": "code",
   "execution_count": 4,
   "id": "urban-software",
   "metadata": {
    "execution": {
     "iopub.execute_input": "2021-07-13T12:10:41.743247Z",
     "iopub.status.busy": "2021-07-13T12:10:41.742753Z",
     "iopub.status.idle": "2021-07-13T12:10:41.744521Z",
     "shell.execute_reply": "2021-07-13T12:10:41.744993Z"
    },
    "papermill": {
     "duration": 0.03676,
     "end_time": "2021-07-13T12:10:41.745119",
     "exception": false,
     "start_time": "2021-07-13T12:10:41.708359",
     "status": "completed"
    },
    "tags": []
   },
   "outputs": [],
   "source": [
    "#hide\n",
    "def get_mappings(url):\n",
    "    df = pd.read_csv(url)\n",
    "    return {\n",
    "        'df': df,\n",
    "        'replace.country': dict(df.dropna(subset=['Name']).set_index('Country')['Name']),\n",
    "        'map.continent': dict(df.set_index('Name')['Continent'])\n",
    "    }"
   ]
  },
  {
   "cell_type": "code",
   "execution_count": 5,
   "id": "intimate-machinery",
   "metadata": {
    "execution": {
     "iopub.execute_input": "2021-07-13T12:10:41.809793Z",
     "iopub.status.busy": "2021-07-13T12:10:41.809289Z",
     "iopub.status.idle": "2021-07-13T12:10:41.870778Z",
     "shell.execute_reply": "2021-07-13T12:10:41.870294Z"
    },
    "papermill": {
     "duration": 0.096214,
     "end_time": "2021-07-13T12:10:41.870913",
     "exception": false,
     "start_time": "2021-07-13T12:10:41.774699",
     "status": "completed"
    },
    "tags": []
   },
   "outputs": [],
   "source": [
    "#hide\n",
    "mapping = get_mappings(paths['mapping'])"
   ]
  },
  {
   "cell_type": "code",
   "execution_count": 6,
   "id": "certified-tactics",
   "metadata": {
    "execution": {
     "iopub.execute_input": "2021-07-13T12:10:41.940602Z",
     "iopub.status.busy": "2021-07-13T12:10:41.940100Z",
     "iopub.status.idle": "2021-07-13T12:10:41.942222Z",
     "shell.execute_reply": "2021-07-13T12:10:41.941799Z"
    },
    "papermill": {
     "duration": 0.039387,
     "end_time": "2021-07-13T12:10:41.942330",
     "exception": false,
     "start_time": "2021-07-13T12:10:41.902943",
     "status": "completed"
    },
    "tags": []
   },
   "outputs": [],
   "source": [
    "#hide\n",
    "def get_template(path):\n",
    "    from urllib.parse import urlparse\n",
    "    if bool(urlparse(path).netloc):\n",
    "        from urllib.request import urlopen\n",
    "        return urlopen(path).read().decode('utf8')\n",
    "    return open(path).read()"
   ]
  },
  {
   "cell_type": "code",
   "execution_count": 7,
   "id": "realistic-blast",
   "metadata": {
    "execution": {
     "iopub.execute_input": "2021-07-13T12:10:42.005995Z",
     "iopub.status.busy": "2021-07-13T12:10:42.005484Z",
     "iopub.status.idle": "2021-07-13T12:10:42.007920Z",
     "shell.execute_reply": "2021-07-13T12:10:42.007528Z"
    },
    "papermill": {
     "duration": 0.03607,
     "end_time": "2021-07-13T12:10:42.008023",
     "exception": false,
     "start_time": "2021-07-13T12:10:41.971953",
     "status": "completed"
    },
    "tags": []
   },
   "outputs": [],
   "source": [
    "#hide\n",
    "def get_frame(name):\n",
    "    url = (\n",
    "        'https://raw.githubusercontent.com/CSSEGISandData/COVID-19/master/csse_covid_19_data/'\n",
    "        f'csse_covid_19_time_series/time_series_covid19_{name}_global.csv')\n",
    "    df = pd.read_csv(url)\n",
    "    # rename countries\n",
    "    df['Country/Region'] = df['Country/Region'].replace(mapping['replace.country'])\n",
    "    return df"
   ]
  },
  {
   "cell_type": "code",
   "execution_count": 8,
   "id": "affiliated-characterization",
   "metadata": {
    "execution": {
     "iopub.execute_input": "2021-07-13T12:10:42.072909Z",
     "iopub.status.busy": "2021-07-13T12:10:42.072418Z",
     "iopub.status.idle": "2021-07-13T12:10:42.074507Z",
     "shell.execute_reply": "2021-07-13T12:10:42.074114Z"
    },
    "papermill": {
     "duration": 0.036998,
     "end_time": "2021-07-13T12:10:42.074611",
     "exception": false,
     "start_time": "2021-07-13T12:10:42.037613",
     "status": "completed"
    },
    "tags": []
   },
   "outputs": [],
   "source": [
    "#hide\n",
    "def get_dates(df):\n",
    "    dt_cols = df.columns[~df.columns.isin(['Province/State', 'Country/Region', 'Lat', 'Long'])]\n",
    "    LAST_DATE_I = -1\n",
    "    # sometimes last column may be empty, then go backwards\n",
    "    for i in range(-1, -len(dt_cols), -1):\n",
    "        if not df[dt_cols[i]].fillna(0).eq(0).all():\n",
    "            LAST_DATE_I = i\n",
    "            break\n",
    "    return LAST_DATE_I, dt_cols"
   ]
  },
  {
   "cell_type": "code",
   "execution_count": 9,
   "id": "recent-optimization",
   "metadata": {
    "execution": {
     "iopub.execute_input": "2021-07-13T12:10:42.138507Z",
     "iopub.status.busy": "2021-07-13T12:10:42.137560Z",
     "iopub.status.idle": "2021-07-13T12:10:42.641100Z",
     "shell.execute_reply": "2021-07-13T12:10:42.639693Z"
    },
    "papermill": {
     "duration": 0.537082,
     "end_time": "2021-07-13T12:10:42.641283",
     "exception": false,
     "start_time": "2021-07-13T12:10:42.104201",
     "status": "completed"
    },
    "tags": []
   },
   "outputs": [],
   "source": [
    "#hide\n",
    "COL_REGION = 'Country/Region'\n",
    "# Confirmed, Recovered, Deaths\n",
    "df = get_frame('confirmed')\n",
    "# dft_: timeseries, dfc_: today country agg\n",
    "dft_cases = df\n",
    "dft_deaths = get_frame('deaths')\n",
    "dft_recovered = get_frame('recovered')\n",
    "LAST_DATE_I, dt_cols = get_dates(df)"
   ]
  },
  {
   "cell_type": "code",
   "execution_count": 10,
   "id": "absolute-copper",
   "metadata": {
    "execution": {
     "iopub.execute_input": "2021-07-13T12:10:42.709807Z",
     "iopub.status.busy": "2021-07-13T12:10:42.708582Z",
     "iopub.status.idle": "2021-07-13T12:10:42.710453Z",
     "shell.execute_reply": "2021-07-13T12:10:42.710877Z"
    },
    "papermill": {
     "duration": 0.038637,
     "end_time": "2021-07-13T12:10:42.711006",
     "exception": false,
     "start_time": "2021-07-13T12:10:42.672369",
     "status": "completed"
    },
    "tags": []
   },
   "outputs": [],
   "source": [
    "#hide\n",
    "LAST_DATE_I, dt_cols = get_dates(df)\n",
    "dt_today =dt_cols[LAST_DATE_I]\n",
    "# dt_5day = dt_cols[LAST_DATE_I - 5]\n",
    "dt_yday = dt_cols[LAST_DATE_I - 1]"
   ]
  },
  {
   "cell_type": "code",
   "execution_count": 11,
   "id": "restricted-sheriff",
   "metadata": {
    "execution": {
     "iopub.execute_input": "2021-07-13T12:10:42.778032Z",
     "iopub.status.busy": "2021-07-13T12:10:42.777499Z",
     "iopub.status.idle": "2021-07-13T12:10:42.783271Z",
     "shell.execute_reply": "2021-07-13T12:10:42.782875Z"
    },
    "papermill": {
     "duration": 0.042603,
     "end_time": "2021-07-13T12:10:42.783383",
     "exception": false,
     "start_time": "2021-07-13T12:10:42.740780",
     "status": "completed"
    },
    "tags": []
   },
   "outputs": [],
   "source": [
    "#hide\n",
    "dfc_cases = dft_cases.groupby(COL_REGION)[dt_today].sum()\n",
    "dfc_deaths = dft_deaths.groupby(COL_REGION)[dt_today].sum()\n",
    "# dfp_cases = dft_cases.groupby(COL_REGION)[dt_5day].sum()\n",
    "# dfp_deaths = dft_deaths.groupby(COL_REGION)[dt_5day].sum()\n",
    "dfp_cases = dft_cases.groupby(COL_REGION)[dt_yday].sum()\n",
    "dfp_deaths = dft_deaths.groupby(COL_REGION)[dt_yday].sum()"
   ]
  },
  {
   "cell_type": "code",
   "execution_count": 12,
   "id": "deluxe-hepatitis",
   "metadata": {
    "execution": {
     "iopub.execute_input": "2021-07-13T12:10:42.848728Z",
     "iopub.status.busy": "2021-07-13T12:10:42.848244Z",
     "iopub.status.idle": "2021-07-13T12:10:42.852172Z",
     "shell.execute_reply": "2021-07-13T12:10:42.851756Z"
    },
    "papermill": {
     "duration": 0.039163,
     "end_time": "2021-07-13T12:10:42.852282",
     "exception": false,
     "start_time": "2021-07-13T12:10:42.813119",
     "status": "completed"
    },
    "tags": []
   },
   "outputs": [],
   "source": [
    "#hide\n",
    "df_table = (pd.DataFrame(dict(Cases = dfc_cases, Deaths = dfc_deaths, PCases = dfp_cases, PDeaths = dfp_deaths))\n",
    "            .sort_values(by = ['Cases','Deaths'], ascending = [False, False])\n",
    "            .reset_index())"
   ]
  },
  {
   "cell_type": "code",
   "execution_count": 13,
   "id": "educational-chancellor",
   "metadata": {
    "execution": {
     "iopub.execute_input": "2021-07-13T12:10:42.928781Z",
     "iopub.status.busy": "2021-07-13T12:10:42.928292Z",
     "iopub.status.idle": "2021-07-13T12:10:42.935154Z",
     "shell.execute_reply": "2021-07-13T12:10:42.935528Z"
    },
    "papermill": {
     "duration": 0.053855,
     "end_time": "2021-07-13T12:10:42.935648",
     "exception": false,
     "start_time": "2021-07-13T12:10:42.881793",
     "status": "completed"
    },
    "tags": []
   },
   "outputs": [
    {
     "data": {
      "text/html": [
       "<div>\n",
       "<style scoped>\n",
       "    .dataframe tbody tr th:only-of-type {\n",
       "        vertical-align: middle;\n",
       "    }\n",
       "\n",
       "    .dataframe tbody tr th {\n",
       "        vertical-align: top;\n",
       "    }\n",
       "\n",
       "    .dataframe thead th {\n",
       "        text-align: right;\n",
       "    }\n",
       "</style>\n",
       "<table border=\"1\" class=\"dataframe\">\n",
       "  <thead>\n",
       "    <tr style=\"text-align: right;\">\n",
       "      <th></th>\n",
       "      <th>Country/Region</th>\n",
       "      <th>Cases</th>\n",
       "      <th>Deaths</th>\n",
       "      <th>PCases</th>\n",
       "      <th>PDeaths</th>\n",
       "      <th>Cases (+)</th>\n",
       "      <th>Deaths (+)</th>\n",
       "      <th>Fatality Rate</th>\n",
       "      <th>Continent</th>\n",
       "    </tr>\n",
       "  </thead>\n",
       "  <tbody>\n",
       "    <tr>\n",
       "      <th>0</th>\n",
       "      <td>US</td>\n",
       "      <td>33886713</td>\n",
       "      <td>607392</td>\n",
       "      <td>33853948</td>\n",
       "      <td>607156</td>\n",
       "      <td>32765</td>\n",
       "      <td>236</td>\n",
       "      <td>1.79</td>\n",
       "      <td>North America</td>\n",
       "    </tr>\n",
       "    <tr>\n",
       "      <th>1</th>\n",
       "      <td>India</td>\n",
       "      <td>30874376</td>\n",
       "      <td>408764</td>\n",
       "      <td>30874376</td>\n",
       "      <td>408764</td>\n",
       "      <td>0</td>\n",
       "      <td>0</td>\n",
       "      <td>1.32</td>\n",
       "      <td>Asia</td>\n",
       "    </tr>\n",
       "    <tr>\n",
       "      <th>2</th>\n",
       "      <td>Brazil</td>\n",
       "      <td>19106971</td>\n",
       "      <td>534233</td>\n",
       "      <td>19089940</td>\n",
       "      <td>533488</td>\n",
       "      <td>17031</td>\n",
       "      <td>745</td>\n",
       "      <td>2.80</td>\n",
       "      <td>South America</td>\n",
       "    </tr>\n",
       "    <tr>\n",
       "      <th>3</th>\n",
       "      <td>France</td>\n",
       "      <td>5875987</td>\n",
       "      <td>111543</td>\n",
       "      <td>5874719</td>\n",
       "      <td>111515</td>\n",
       "      <td>1268</td>\n",
       "      <td>28</td>\n",
       "      <td>1.90</td>\n",
       "      <td>Europe</td>\n",
       "    </tr>\n",
       "    <tr>\n",
       "      <th>4</th>\n",
       "      <td>Russia</td>\n",
       "      <td>5738000</td>\n",
       "      <td>141335</td>\n",
       "      <td>5713351</td>\n",
       "      <td>140635</td>\n",
       "      <td>24649</td>\n",
       "      <td>700</td>\n",
       "      <td>2.46</td>\n",
       "      <td>Europe</td>\n",
       "    </tr>\n",
       "  </tbody>\n",
       "</table>\n",
       "</div>"
      ],
      "text/plain": [
       "  Country/Region     Cases  Deaths    PCases  PDeaths  Cases (+)  Deaths (+)  \\\n",
       "0             US  33886713  607392  33853948   607156      32765         236   \n",
       "1          India  30874376  408764  30874376   408764          0           0   \n",
       "2         Brazil  19106971  534233  19089940   533488      17031         745   \n",
       "3         France   5875987  111543   5874719   111515       1268          28   \n",
       "4         Russia   5738000  141335   5713351   140635      24649         700   \n",
       "\n",
       "   Fatality Rate      Continent  \n",
       "0           1.79  North America  \n",
       "1           1.32           Asia  \n",
       "2           2.80  South America  \n",
       "3           1.90         Europe  \n",
       "4           2.46         Europe  "
      ]
     },
     "execution_count": 13,
     "metadata": {},
     "output_type": "execute_result"
    }
   ],
   "source": [
    "#hide\n",
    "for c in 'Cases, Deaths'.split(', '):\n",
    "    df_table[f'{c} (+)'] = (df_table[c] - df_table[f'P{c}']).clip(0)\n",
    "    #Clip ça veut dire, les chiffres negatif sont interdit\n",
    "df_table['Fatality Rate'] = (100* df_table['Deaths']/ df_table['Cases']).round(2)\n",
    "df_table['Continent'] = df_table['Country/Region'].map(mapping['map.continent'])\n",
    "df_table.head(5)"
   ]
  },
  {
   "cell_type": "code",
   "execution_count": 14,
   "id": "aboriginal-bulgaria",
   "metadata": {
    "execution": {
     "iopub.execute_input": "2021-07-13T12:10:43.000522Z",
     "iopub.status.busy": "2021-07-13T12:10:43.000041Z",
     "iopub.status.idle": "2021-07-13T12:10:43.001962Z",
     "shell.execute_reply": "2021-07-13T12:10:43.002381Z"
    },
    "papermill": {
     "duration": 0.036712,
     "end_time": "2021-07-13T12:10:43.002492",
     "exception": false,
     "start_time": "2021-07-13T12:10:42.965780",
     "status": "completed"
    },
    "tags": []
   },
   "outputs": [],
   "source": [
    "#hide\n",
    "#delete problematic countries from table\n",
    "df_table = df_table[~df_table['Country/Region'].isin(['Cape Verde', 'Cruise Ship', 'Kosovo'])]"
   ]
  },
  {
   "cell_type": "code",
   "execution_count": 15,
   "id": "fantastic-effect",
   "metadata": {
    "execution": {
     "iopub.execute_input": "2021-07-13T12:10:43.069240Z",
     "iopub.status.busy": "2021-07-13T12:10:43.068752Z",
     "iopub.status.idle": "2021-07-13T12:10:43.086122Z",
     "shell.execute_reply": "2021-07-13T12:10:43.086493Z"
    },
    "papermill": {
     "duration": 0.054207,
     "end_time": "2021-07-13T12:10:43.086611",
     "exception": false,
     "start_time": "2021-07-13T12:10:43.032404",
     "status": "completed"
    },
    "tags": []
   },
   "outputs": [
    {
     "data": {
      "text/html": [
       "<div>\n",
       "<style scoped>\n",
       "    .dataframe tbody tr th:only-of-type {\n",
       "        vertical-align: middle;\n",
       "    }\n",
       "\n",
       "    .dataframe tbody tr th {\n",
       "        vertical-align: top;\n",
       "    }\n",
       "\n",
       "    .dataframe thead th {\n",
       "        text-align: right;\n",
       "    }\n",
       "</style>\n",
       "<table border=\"1\" class=\"dataframe\">\n",
       "  <thead>\n",
       "    <tr style=\"text-align: right;\">\n",
       "      <th></th>\n",
       "      <th>Country/Region</th>\n",
       "      <th>Cases</th>\n",
       "      <th>Deaths</th>\n",
       "      <th>PCases</th>\n",
       "      <th>PDeaths</th>\n",
       "      <th>Cases (+)</th>\n",
       "      <th>Deaths (+)</th>\n",
       "      <th>Fatality Rate</th>\n",
       "      <th>Continent</th>\n",
       "    </tr>\n",
       "  </thead>\n",
       "  <tbody>\n",
       "    <tr>\n",
       "      <th>0</th>\n",
       "      <td>US</td>\n",
       "      <td>33886713</td>\n",
       "      <td>607392</td>\n",
       "      <td>33853948</td>\n",
       "      <td>607156</td>\n",
       "      <td>32765</td>\n",
       "      <td>236</td>\n",
       "      <td>1.8</td>\n",
       "      <td>North America</td>\n",
       "    </tr>\n",
       "    <tr>\n",
       "      <th>1</th>\n",
       "      <td>India</td>\n",
       "      <td>30874376</td>\n",
       "      <td>408764</td>\n",
       "      <td>30874376</td>\n",
       "      <td>408764</td>\n",
       "      <td>0</td>\n",
       "      <td>0</td>\n",
       "      <td>1.3</td>\n",
       "      <td>Asia</td>\n",
       "    </tr>\n",
       "    <tr>\n",
       "      <th>2</th>\n",
       "      <td>Brazil</td>\n",
       "      <td>19106971</td>\n",
       "      <td>534233</td>\n",
       "      <td>19089940</td>\n",
       "      <td>533488</td>\n",
       "      <td>17031</td>\n",
       "      <td>745</td>\n",
       "      <td>2.8</td>\n",
       "      <td>South America</td>\n",
       "    </tr>\n",
       "    <tr>\n",
       "      <th>3</th>\n",
       "      <td>France</td>\n",
       "      <td>5875987</td>\n",
       "      <td>111543</td>\n",
       "      <td>5874719</td>\n",
       "      <td>111515</td>\n",
       "      <td>1268</td>\n",
       "      <td>28</td>\n",
       "      <td>1.9</td>\n",
       "      <td>Europe</td>\n",
       "    </tr>\n",
       "    <tr>\n",
       "      <th>4</th>\n",
       "      <td>Russia</td>\n",
       "      <td>5738000</td>\n",
       "      <td>141335</td>\n",
       "      <td>5713351</td>\n",
       "      <td>140635</td>\n",
       "      <td>24649</td>\n",
       "      <td>700</td>\n",
       "      <td>2.5</td>\n",
       "      <td>Europe</td>\n",
       "    </tr>\n",
       "  </tbody>\n",
       "</table>\n",
       "</div>"
      ],
      "text/plain": [
       "  Country/Region     Cases  Deaths    PCases  PDeaths  Cases (+)  Deaths (+)  \\\n",
       "0             US  33886713  607392  33853948   607156      32765         236   \n",
       "1          India  30874376  408764  30874376   408764          0           0   \n",
       "2         Brazil  19106971  534233  19089940   533488      17031         745   \n",
       "3         France   5875987  111543   5874719   111515       1268          28   \n",
       "4         Russia   5738000  141335   5713351   140635      24649         700   \n",
       "\n",
       "   Fatality Rate      Continent  \n",
       "0            1.8  North America  \n",
       "1            1.3           Asia  \n",
       "2            2.8  South America  \n",
       "3            1.9         Europe  \n",
       "4            2.5         Europe  "
      ]
     },
     "execution_count": 15,
     "metadata": {},
     "output_type": "execute_result"
    }
   ],
   "source": [
    "#hide\n",
    "df_table = (pd.DataFrame(dict(Cases=dfc_cases, Deaths=dfc_deaths, PCases=dfp_cases, PDeaths=dfp_deaths))\n",
    "             .sort_values(by=['Cases', 'Deaths'], ascending=[False, False])\n",
    "             .reset_index())\n",
    "df_table.rename(columns={'index': 'Country/Region'}, inplace=True)\n",
    "for c in 'Cases, Deaths'.split(', '):\n",
    "    df_table[f'{c} (+)'] = (df_table[c] - df_table[f'P{c}']).clip(0)  # DATA BUG\n",
    "df_table['Fatality Rate'] = (100 * df_table['Deaths'] / df_table['Cases']).round(1)\n",
    "df_table['Continent'] = df_table['Country/Region'].map(mapping['map.continent'])\n",
    "df_table.head(5)"
   ]
  },
  {
   "cell_type": "code",
   "execution_count": 16,
   "id": "fewer-occasion",
   "metadata": {
    "execution": {
     "iopub.execute_input": "2021-07-13T12:10:43.152532Z",
     "iopub.status.busy": "2021-07-13T12:10:43.152043Z",
     "iopub.status.idle": "2021-07-13T12:10:43.154207Z",
     "shell.execute_reply": "2021-07-13T12:10:43.153812Z"
    },
    "papermill": {
     "duration": 0.037136,
     "end_time": "2021-07-13T12:10:43.154311",
     "exception": false,
     "start_time": "2021-07-13T12:10:43.117175",
     "status": "completed"
    },
    "tags": []
   },
   "outputs": [],
   "source": [
    "#hide\n",
    "#delete problematic countries from table\n",
    "df_table = df_table[~df_table['Country/Region'].isin(['Cape Verde', 'Cruise Ship', 'Kosovo'])]"
   ]
  },
  {
   "cell_type": "code",
   "execution_count": 17,
   "id": "related-center",
   "metadata": {
    "execution": {
     "iopub.execute_input": "2021-07-13T12:10:43.222415Z",
     "iopub.status.busy": "2021-07-13T12:10:43.221928Z",
     "iopub.status.idle": "2021-07-13T12:10:43.234019Z",
     "shell.execute_reply": "2021-07-13T12:10:43.234389Z"
    },
    "papermill": {
     "duration": 0.049812,
     "end_time": "2021-07-13T12:10:43.234502",
     "exception": false,
     "start_time": "2021-07-13T12:10:43.184690",
     "status": "completed"
    },
    "tags": []
   },
   "outputs": [],
   "source": [
    "#hide\n",
    "metrics = [df_table.columns[index] for index in [1,2,5,6]]\n",
    "# s_china = df_table[df_table['Country/Region'].eq('China')][metrics].sum().add_prefix('China ')\n",
    "s_us = df_table[df_table['Country/Region'].eq('US')][metrics].sum().add_prefix('US ')\n",
    "s_eu = df_table[df_table['Continent'].eq('Europe')][metrics].sum().add_prefix('EU ')\n",
    "s_ind = df_table[df_table['Country/Region'].eq('India')][metrics].sum().add_prefix('India ')\n",
    "summary = {'updated': pd.to_datetime(dt_today), 'since': pd.to_datetime(dt_yday)}\n",
    "summary = {'updated': pd.to_datetime(dt_today), 'since': pd.to_datetime(dt_yday)}\n",
    "summary = {**summary, **df_table[metrics].sum(), **s_ind, **s_us, **s_eu}"
   ]
  },
  {
   "cell_type": "code",
   "execution_count": 18,
   "id": "engaging-syndrome",
   "metadata": {
    "execution": {
     "iopub.execute_input": "2021-07-13T12:10:43.299930Z",
     "iopub.status.busy": "2021-07-13T12:10:43.299441Z",
     "iopub.status.idle": "2021-07-13T12:10:43.322394Z",
     "shell.execute_reply": "2021-07-13T12:10:43.322881Z"
    },
    "papermill": {
     "duration": 0.058015,
     "end_time": "2021-07-13T12:10:43.323013",
     "exception": false,
     "start_time": "2021-07-13T12:10:43.264998",
     "status": "completed"
    },
    "tags": []
   },
   "outputs": [],
   "source": [
    "#hide\n",
    "dft_ct_new_cases = dft_cases.groupby(COL_REGION)[dt_cols].sum().diff(axis=1).fillna(0).astype(int)"
   ]
  },
  {
   "cell_type": "code",
   "execution_count": 19,
   "id": "neutral-assignment",
   "metadata": {
    "execution": {
     "iopub.execute_input": "2021-07-13T12:10:43.391156Z",
     "iopub.status.busy": "2021-07-13T12:10:43.390657Z",
     "iopub.status.idle": "2021-07-13T12:10:43.392794Z",
     "shell.execute_reply": "2021-07-13T12:10:43.392397Z"
    },
    "papermill": {
     "duration": 0.038194,
     "end_time": "2021-07-13T12:10:43.392902",
     "exception": false,
     "start_time": "2021-07-13T12:10:43.354708",
     "status": "completed"
    },
    "tags": []
   },
   "outputs": [],
   "source": [
    "#hide\n",
    "everydaycases = dft_ct_new_cases.cumsum(axis=1)"
   ]
  },
  {
   "cell_type": "code",
   "execution_count": 20,
   "id": "parliamentary-calgary",
   "metadata": {
    "execution": {
     "iopub.execute_input": "2021-07-13T12:10:43.457583Z",
     "iopub.status.busy": "2021-07-13T12:10:43.457084Z",
     "iopub.status.idle": "2021-07-13T12:10:44.105067Z",
     "shell.execute_reply": "2021-07-13T12:10:44.104516Z"
    },
    "papermill": {
     "duration": 0.681928,
     "end_time": "2021-07-13T12:10:44.105225",
     "exception": false,
     "start_time": "2021-07-13T12:10:43.423297",
     "status": "completed"
    },
    "tags": []
   },
   "outputs": [],
   "source": [
    "#hide\n",
    "import pandas as pd\n",
    "import matplotlib.pyplot as plt\n",
    "import matplotlib.ticker as ticker\n",
    "import matplotlib.animation as animation\n",
    "from IPython.display import HTML"
   ]
  },
  {
   "cell_type": "code",
   "execution_count": 21,
   "id": "lasting-extraction",
   "metadata": {
    "execution": {
     "iopub.execute_input": "2021-07-13T12:10:44.174881Z",
     "iopub.status.busy": "2021-07-13T12:10:44.174309Z",
     "iopub.status.idle": "2021-07-13T12:10:44.180039Z",
     "shell.execute_reply": "2021-07-13T12:10:44.180461Z"
    },
    "papermill": {
     "duration": 0.043353,
     "end_time": "2021-07-13T12:10:44.180618",
     "exception": false,
     "start_time": "2021-07-13T12:10:44.137265",
     "status": "completed"
    },
    "tags": []
   },
   "outputs": [],
   "source": [
    "#hide\n",
    "t = everydaycases.stack()"
   ]
  },
  {
   "cell_type": "code",
   "execution_count": 22,
   "id": "premier-sleeve",
   "metadata": {
    "execution": {
     "iopub.execute_input": "2021-07-13T12:10:44.246437Z",
     "iopub.status.busy": "2021-07-13T12:10:44.245937Z",
     "iopub.status.idle": "2021-07-13T12:10:44.254269Z",
     "shell.execute_reply": "2021-07-13T12:10:44.254733Z"
    },
    "papermill": {
     "duration": 0.043316,
     "end_time": "2021-07-13T12:10:44.254872",
     "exception": false,
     "start_time": "2021-07-13T12:10:44.211556",
     "status": "completed"
    },
    "tags": []
   },
   "outputs": [],
   "source": [
    "#hide\n",
    "g = t.reset_index(['Country/Region'])"
   ]
  },
  {
   "cell_type": "code",
   "execution_count": 23,
   "id": "distributed-pittsburgh",
   "metadata": {
    "execution": {
     "iopub.execute_input": "2021-07-13T12:10:44.319710Z",
     "iopub.status.busy": "2021-07-13T12:10:44.319215Z",
     "iopub.status.idle": "2021-07-13T12:10:44.321002Z",
     "shell.execute_reply": "2021-07-13T12:10:44.321474Z"
    },
    "papermill": {
     "duration": 0.036335,
     "end_time": "2021-07-13T12:10:44.321621",
     "exception": false,
     "start_time": "2021-07-13T12:10:44.285286",
     "status": "completed"
    },
    "tags": []
   },
   "outputs": [],
   "source": [
    "#hide\n",
    "g.index.name = 'date'"
   ]
  },
  {
   "cell_type": "code",
   "execution_count": 24,
   "id": "naked-donor",
   "metadata": {
    "execution": {
     "iopub.execute_input": "2021-07-13T12:10:44.386070Z",
     "iopub.status.busy": "2021-07-13T12:10:44.385551Z",
     "iopub.status.idle": "2021-07-13T12:10:44.387393Z",
     "shell.execute_reply": "2021-07-13T12:10:44.387791Z"
    },
    "papermill": {
     "duration": 0.035585,
     "end_time": "2021-07-13T12:10:44.387916",
     "exception": false,
     "start_time": "2021-07-13T12:10:44.352331",
     "status": "completed"
    },
    "tags": []
   },
   "outputs": [],
   "source": [
    "# #hide\n",
    "# g = g.reset_index(['date'])"
   ]
  },
  {
   "cell_type": "code",
   "execution_count": 25,
   "id": "incomplete-mustang",
   "metadata": {
    "execution": {
     "iopub.execute_input": "2021-07-13T12:10:44.452096Z",
     "iopub.status.busy": "2021-07-13T12:10:44.451608Z",
     "iopub.status.idle": "2021-07-13T12:10:44.453817Z",
     "shell.execute_reply": "2021-07-13T12:10:44.453381Z"
    },
    "papermill": {
     "duration": 0.035634,
     "end_time": "2021-07-13T12:10:44.453923",
     "exception": false,
     "start_time": "2021-07-13T12:10:44.418289",
     "status": "completed"
    },
    "tags": []
   },
   "outputs": [],
   "source": [
    "#hide\n",
    "# g.head()"
   ]
  },
  {
   "cell_type": "code",
   "execution_count": 26,
   "id": "specific-kruger",
   "metadata": {
    "execution": {
     "iopub.execute_input": "2021-07-13T12:10:44.519175Z",
     "iopub.status.busy": "2021-07-13T12:10:44.518683Z",
     "iopub.status.idle": "2021-07-13T12:10:44.520533Z",
     "shell.execute_reply": "2021-07-13T12:10:44.520930Z"
    },
    "papermill": {
     "duration": 0.036598,
     "end_time": "2021-07-13T12:10:44.521046",
     "exception": false,
     "start_time": "2021-07-13T12:10:44.484448",
     "status": "completed"
    },
    "tags": []
   },
   "outputs": [],
   "source": [
    "#hide\n",
    "# g.columns = ['date','country','cases']"
   ]
  },
  {
   "cell_type": "code",
   "execution_count": 27,
   "id": "tender-conversion",
   "metadata": {
    "execution": {
     "iopub.execute_input": "2021-07-13T12:10:44.585268Z",
     "iopub.status.busy": "2021-07-13T12:10:44.584777Z",
     "iopub.status.idle": "2021-07-13T12:10:44.587206Z",
     "shell.execute_reply": "2021-07-13T12:10:44.586807Z"
    },
    "papermill": {
     "duration": 0.035948,
     "end_time": "2021-07-13T12:10:44.587313",
     "exception": false,
     "start_time": "2021-07-13T12:10:44.551365",
     "status": "completed"
    },
    "tags": []
   },
   "outputs": [],
   "source": [
    "#hide\n",
    "# g['continent'] = g.country"
   ]
  },
  {
   "cell_type": "code",
   "execution_count": 28,
   "id": "substantial-wilderness",
   "metadata": {
    "execution": {
     "iopub.execute_input": "2021-07-13T12:10:44.652406Z",
     "iopub.status.busy": "2021-07-13T12:10:44.651908Z",
     "iopub.status.idle": "2021-07-13T12:10:44.653767Z",
     "shell.execute_reply": "2021-07-13T12:10:44.654171Z"
    },
    "papermill": {
     "duration": 0.036493,
     "end_time": "2021-07-13T12:10:44.654294",
     "exception": false,
     "start_time": "2021-07-13T12:10:44.617801",
     "status": "completed"
    },
    "tags": []
   },
   "outputs": [],
   "source": [
    "#hide\n",
    "# cols = list(g.columns.values)"
   ]
  },
  {
   "cell_type": "code",
   "execution_count": 29,
   "id": "solved-farming",
   "metadata": {
    "execution": {
     "iopub.execute_input": "2021-07-13T12:10:44.718434Z",
     "iopub.status.busy": "2021-07-13T12:10:44.717936Z",
     "iopub.status.idle": "2021-07-13T12:10:44.720124Z",
     "shell.execute_reply": "2021-07-13T12:10:44.719726Z"
    },
    "papermill": {
     "duration": 0.035677,
     "end_time": "2021-07-13T12:10:44.720230",
     "exception": false,
     "start_time": "2021-07-13T12:10:44.684553",
     "status": "completed"
    },
    "tags": []
   },
   "outputs": [],
   "source": [
    "#hide\n",
    "# cols.insert(0, cols.pop())"
   ]
  },
  {
   "cell_type": "code",
   "execution_count": 30,
   "id": "executed-adoption",
   "metadata": {
    "execution": {
     "iopub.execute_input": "2021-07-13T12:10:44.784627Z",
     "iopub.status.busy": "2021-07-13T12:10:44.784137Z",
     "iopub.status.idle": "2021-07-13T12:10:44.785975Z",
     "shell.execute_reply": "2021-07-13T12:10:44.786433Z"
    },
    "papermill": {
     "duration": 0.035861,
     "end_time": "2021-07-13T12:10:44.786551",
     "exception": false,
     "start_time": "2021-07-13T12:10:44.750690",
     "status": "completed"
    },
    "tags": []
   },
   "outputs": [],
   "source": [
    "#hide\n",
    "# g = g[cols]"
   ]
  },
  {
   "cell_type": "code",
   "execution_count": 31,
   "id": "subject-dublin",
   "metadata": {
    "execution": {
     "iopub.execute_input": "2021-07-13T12:10:44.850315Z",
     "iopub.status.busy": "2021-07-13T12:10:44.849823Z",
     "iopub.status.idle": "2021-07-13T12:10:44.851874Z",
     "shell.execute_reply": "2021-07-13T12:10:44.851484Z"
    },
    "papermill": {
     "duration": 0.03512,
     "end_time": "2021-07-13T12:10:44.851974",
     "exception": false,
     "start_time": "2021-07-13T12:10:44.816854",
     "status": "completed"
    },
    "tags": []
   },
   "outputs": [],
   "source": [
    "#hide\n",
    "# g['continent'] = g['continent'].map(mapping['map.continent'])"
   ]
  },
  {
   "cell_type": "code",
   "execution_count": 32,
   "id": "freelance-scout",
   "metadata": {
    "execution": {
     "iopub.execute_input": "2021-07-13T12:10:44.915862Z",
     "iopub.status.busy": "2021-07-13T12:10:44.915373Z",
     "iopub.status.idle": "2021-07-13T12:10:44.917210Z",
     "shell.execute_reply": "2021-07-13T12:10:44.917649Z"
    },
    "papermill": {
     "duration": 0.03539,
     "end_time": "2021-07-13T12:10:44.917765",
     "exception": false,
     "start_time": "2021-07-13T12:10:44.882375",
     "status": "completed"
    },
    "tags": []
   },
   "outputs": [],
   "source": [
    "#hide\n",
    "# g.head()"
   ]
  },
  {
   "cell_type": "code",
   "execution_count": 33,
   "id": "limited-engine",
   "metadata": {
    "execution": {
     "iopub.execute_input": "2021-07-13T12:10:44.981971Z",
     "iopub.status.busy": "2021-07-13T12:10:44.981455Z",
     "iopub.status.idle": "2021-07-13T12:10:44.983145Z",
     "shell.execute_reply": "2021-07-13T12:10:44.983566Z"
    },
    "papermill": {
     "duration": 0.035466,
     "end_time": "2021-07-13T12:10:44.983678",
     "exception": false,
     "start_time": "2021-07-13T12:10:44.948212",
     "status": "completed"
    },
    "tags": []
   },
   "outputs": [],
   "source": [
    "# hide\n",
    "# g['date'] = g['date'].astype('datetime64[ns]')"
   ]
  },
  {
   "cell_type": "code",
   "execution_count": 34,
   "id": "sophisticated-supervisor",
   "metadata": {
    "execution": {
     "iopub.execute_input": "2021-07-13T12:10:45.047495Z",
     "iopub.status.busy": "2021-07-13T12:10:45.047014Z",
     "iopub.status.idle": "2021-07-13T12:10:45.049173Z",
     "shell.execute_reply": "2021-07-13T12:10:45.048762Z"
    },
    "papermill": {
     "duration": 0.035118,
     "end_time": "2021-07-13T12:10:45.049268",
     "exception": false,
     "start_time": "2021-07-13T12:10:45.014150",
     "status": "completed"
    },
    "tags": []
   },
   "outputs": [],
   "source": [
    "#hide\n",
    "# g['date'] = g.date.dt.dayofyear"
   ]
  },
  {
   "cell_type": "code",
   "execution_count": 35,
   "id": "inside-dubai",
   "metadata": {
    "execution": {
     "iopub.execute_input": "2021-07-13T12:10:45.113381Z",
     "iopub.status.busy": "2021-07-13T12:10:45.112893Z",
     "iopub.status.idle": "2021-07-13T12:10:45.114811Z",
     "shell.execute_reply": "2021-07-13T12:10:45.115183Z"
    },
    "papermill": {
     "duration": 0.035685,
     "end_time": "2021-07-13T12:10:45.115294",
     "exception": false,
     "start_time": "2021-07-13T12:10:45.079609",
     "status": "completed"
    },
    "tags": []
   },
   "outputs": [],
   "source": [
    "#hide\n",
    "# g = g.rename(columns= {'continent':'group','country':'name','cases':'value'})"
   ]
  },
  {
   "cell_type": "code",
   "execution_count": 36,
   "id": "fleet-motorcycle",
   "metadata": {
    "execution": {
     "iopub.execute_input": "2021-07-13T12:10:45.179432Z",
     "iopub.status.busy": "2021-07-13T12:10:45.178939Z",
     "iopub.status.idle": "2021-07-13T12:10:45.180761Z",
     "shell.execute_reply": "2021-07-13T12:10:45.181181Z"
    },
    "papermill": {
     "duration": 0.0355,
     "end_time": "2021-07-13T12:10:45.181291",
     "exception": false,
     "start_time": "2021-07-13T12:10:45.145791",
     "status": "completed"
    },
    "tags": []
   },
   "outputs": [],
   "source": [
    "#hide\n",
    "# cols = ['name','group','day','value']"
   ]
  },
  {
   "cell_type": "code",
   "execution_count": 37,
   "id": "continued-sleeping",
   "metadata": {
    "execution": {
     "iopub.execute_input": "2021-07-13T12:10:45.244914Z",
     "iopub.status.busy": "2021-07-13T12:10:45.244432Z",
     "iopub.status.idle": "2021-07-13T12:10:45.246221Z",
     "shell.execute_reply": "2021-07-13T12:10:45.246594Z"
    },
    "papermill": {
     "duration": 0.035081,
     "end_time": "2021-07-13T12:10:45.246702",
     "exception": false,
     "start_time": "2021-07-13T12:10:45.211621",
     "status": "completed"
    },
    "tags": []
   },
   "outputs": [],
   "source": [
    "#hide\n",
    "# g.rename(columns= {'date':'day'},inplace = True)"
   ]
  },
  {
   "cell_type": "code",
   "execution_count": 38,
   "id": "major-fight",
   "metadata": {
    "execution": {
     "iopub.execute_input": "2021-07-13T12:10:45.310609Z",
     "iopub.status.busy": "2021-07-13T12:10:45.310118Z",
     "iopub.status.idle": "2021-07-13T12:10:45.311959Z",
     "shell.execute_reply": "2021-07-13T12:10:45.312351Z"
    },
    "papermill": {
     "duration": 0.035323,
     "end_time": "2021-07-13T12:10:45.312460",
     "exception": false,
     "start_time": "2021-07-13T12:10:45.277137",
     "status": "completed"
    },
    "tags": []
   },
   "outputs": [],
   "source": [
    "#hide\n",
    "# g = g[cols]"
   ]
  },
  {
   "cell_type": "code",
   "execution_count": 39,
   "id": "structured-mobile",
   "metadata": {
    "execution": {
     "iopub.execute_input": "2021-07-13T12:10:45.376759Z",
     "iopub.status.busy": "2021-07-13T12:10:45.376274Z",
     "iopub.status.idle": "2021-07-13T12:10:45.378460Z",
     "shell.execute_reply": "2021-07-13T12:10:45.378066Z"
    },
    "papermill": {
     "duration": 0.035804,
     "end_time": "2021-07-13T12:10:45.378560",
     "exception": false,
     "start_time": "2021-07-13T12:10:45.342756",
     "status": "completed"
    },
    "tags": []
   },
   "outputs": [],
   "source": [
    "# #hide\n",
    "# g = g[g.group.notna()]"
   ]
  },
  {
   "cell_type": "code",
   "execution_count": 40,
   "id": "determined-closing",
   "metadata": {
    "execution": {
     "iopub.execute_input": "2021-07-13T12:10:45.442616Z",
     "iopub.status.busy": "2021-07-13T12:10:45.442119Z",
     "iopub.status.idle": "2021-07-13T12:10:45.444088Z",
     "shell.execute_reply": "2021-07-13T12:10:45.444553Z"
    },
    "papermill": {
     "duration": 0.035644,
     "end_time": "2021-07-13T12:10:45.444660",
     "exception": false,
     "start_time": "2021-07-13T12:10:45.409016",
     "status": "completed"
    },
    "tags": []
   },
   "outputs": [],
   "source": [
    "# #hide\n",
    "# colors = dict(zip(\n",
    "#     [\"Oceania\", \"Europe\", \"Asia\", \"South America\", \"Middle East\", \"North America\", \"Africa\"],\n",
    "#     [\"#adb0ff\", \"#ffb3ff\", \"#90d595\", \"#e48381\", \"#aafbff\", \"#f7bb5f\", \"#eafb50\"]\n",
    "# ))\n",
    "# group_lk = g.set_index('name')['group'].to_dict()"
   ]
  },
  {
   "cell_type": "code",
   "execution_count": null,
   "id": "gross-drinking",
   "metadata": {
    "papermill": {
     "duration": 0.030372,
     "end_time": "2021-07-13T12:10:45.505223",
     "exception": false,
     "start_time": "2021-07-13T12:10:45.474851",
     "status": "completed"
    },
    "tags": []
   },
   "outputs": [],
   "source": []
  },
  {
   "cell_type": "code",
   "execution_count": 41,
   "id": "subject-macintosh",
   "metadata": {
    "execution": {
     "iopub.execute_input": "2021-07-13T12:10:45.569946Z",
     "iopub.status.busy": "2021-07-13T12:10:45.569396Z",
     "iopub.status.idle": "2021-07-13T12:10:45.571134Z",
     "shell.execute_reply": "2021-07-13T12:10:45.571554Z"
    },
    "papermill": {
     "duration": 0.035901,
     "end_time": "2021-07-13T12:10:45.571666",
     "exception": false,
     "start_time": "2021-07-13T12:10:45.535765",
     "status": "completed"
    },
    "tags": []
   },
   "outputs": [],
   "source": [
    "# #hide\n",
    "# fig, ax = plt.subplots(figsize=(15, 8))\n",
    "\n",
    "# def draw_barchart(current_day):\n",
    "#     dff = g[g['day'].eq(current_day)].sort_values(by='value', ascending=True).tail(10)\n",
    "#     ax.clear()\n",
    "#     ax.barh(dff['name'], dff['value'], color=[colors[group_lk[x]] for x in dff['name']])\n",
    "#     dx = dff['value'].max() / 200\n",
    "    \n",
    "#     for i, (value, name) in enumerate(zip(dff['value'], dff['name'])):\n",
    "#         ax.text(value-dx, i,     name,           size=14, weight=600, ha='right', va='bottom')\n",
    "#         ax.text(value-dx, i-.25, group_lk[name], size=10, color='#444444', ha='right', va='baseline')\n",
    "#         ax.text(value+dx, i,     f'{value:,.0f}',  size=14, ha='left',  va='center')\n",
    "#     ax.text(1, 0.4, current_day, transform=ax.transAxes, color='#777777', size=46, ha='right', weight=800)\n",
    "#     ax.text(0, 1.06, 'Population (thousands)', transform=ax.transAxes, size=12, color='#777777')\n",
    "#     ax.xaxis.set_major_formatter(ticker.StrMethodFormatter('{x:,.0f}'))\n",
    "#     ax.xaxis.set_ticks_position('top')\n",
    "#     ax.tick_params(axis='x', colors='#777777', labelsize=12)\n",
    "#     ax.set_yticks([])\n",
    "#     ax.margins(0, 0.01)\n",
    "#     ax.grid(which='major', axis='x', linestyle='-')\n",
    "#     ax.set_axisbelow(True)\n",
    "    \n",
    "#     ax.text(0, 1.15, 'Coronavirus',\n",
    "#             transform=ax.transAxes, size=24, weight=600, ha='left', va='top')\n",
    "# #     ax.text(1, 0, 'by @pratapvardhan; credit @jburnmurdoch', transform=ax.transAxes, color='#777777', ha='right',\n",
    "# #             bbox=dict(facecolor='white', alpha=0.8, edgecolor='white'))\n",
    "#     plt.box(False)"
   ]
  },
  {
   "cell_type": "code",
   "execution_count": 42,
   "id": "sexual-wages",
   "metadata": {
    "execution": {
     "iopub.execute_input": "2021-07-13T12:10:45.636812Z",
     "iopub.status.busy": "2021-07-13T12:10:45.636305Z",
     "iopub.status.idle": "2021-07-13T12:10:45.638644Z",
     "shell.execute_reply": "2021-07-13T12:10:45.638239Z"
    },
    "papermill": {
     "duration": 0.036701,
     "end_time": "2021-07-13T12:10:45.638757",
     "exception": false,
     "start_time": "2021-07-13T12:10:45.602056",
     "status": "completed"
    },
    "tags": []
   },
   "outputs": [],
   "source": [
    "# #hide_input\n",
    "# fig, ax = plt.subplots(figsize=(15, 8))\n",
    "# animator = animation.FuncAnimation(fig, draw_barchart, frames=range(g.day.values.min(), g.day.values.max()))\n",
    "# HTML(animator.to_jshtml())\n",
    "# # or use animator.to_html5_video() or animator.save() "
   ]
  },
  {
   "cell_type": "code",
   "execution_count": null,
   "id": "australian-container",
   "metadata": {
    "papermill": {
     "duration": 0.030446,
     "end_time": "2021-07-13T12:10:45.699834",
     "exception": false,
     "start_time": "2021-07-13T12:10:45.669388",
     "status": "completed"
    },
    "tags": []
   },
   "outputs": [],
   "source": []
  },
  {
   "cell_type": "code",
   "execution_count": null,
   "id": "mediterranean-pontiac",
   "metadata": {
    "papermill": {
     "duration": 0.030372,
     "end_time": "2021-07-13T12:10:45.760629",
     "exception": false,
     "start_time": "2021-07-13T12:10:45.730257",
     "status": "completed"
    },
    "tags": []
   },
   "outputs": [],
   "source": []
  },
  {
   "cell_type": "code",
   "execution_count": null,
   "id": "aging-legislature",
   "metadata": {
    "papermill": {
     "duration": 0.030393,
     "end_time": "2021-07-13T12:10:45.821758",
     "exception": false,
     "start_time": "2021-07-13T12:10:45.791365",
     "status": "completed"
    },
    "tags": []
   },
   "outputs": [],
   "source": []
  }
 ],
 "metadata": {
  "kernelspec": {
   "display_name": "Python 3",
   "language": "python",
   "name": "python3"
  },
  "language_info": {
   "codemirror_mode": {
    "name": "ipython",
    "version": 3
   },
   "file_extension": ".py",
   "mimetype": "text/x-python",
   "name": "python",
   "nbconvert_exporter": "python",
   "pygments_lexer": "ipython3",
   "version": "3.6.13"
  },
  "papermill": {
   "duration": 6.219267,
   "end_time": "2021-07-13T12:10:46.260387",
   "environment_variables": {},
   "exception": null,
   "input_path": "2020-03-21-covid19exp.ipynb",
   "output_path": "2020-03-21-covid19exp.ipynb",
   "parameters": {},
   "start_time": "2021-07-13T12:10:40.041120",
   "version": "2.0.0"
  }
 },
 "nbformat": 4,
 "nbformat_minor": 5
}