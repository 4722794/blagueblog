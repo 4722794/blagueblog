{
 "cells": [
  {
   "cell_type": "markdown",
   "id": "muslim-click",
   "metadata": {
    "papermill": {
     "duration": 0.03603,
     "end_time": "2021-02-11T00:10:51.021586",
     "exception": false,
     "start_time": "2021-02-11T00:10:50.985556",
     "status": "completed"
    },
    "tags": []
   },
   "source": [
    "# COVID-19 Case Race\n",
    "> A race chart to see rising cases around the world\n",
    "\n",
    "- author: Hargun Oberoi\n",
    "- image: images/covid-overview.png\n",
    "- hide: false\n",
    "- badges: false"
   ]
  },
  {
   "cell_type": "code",
   "execution_count": 1,
   "id": "proof-material",
   "metadata": {
    "execution": {
     "iopub.execute_input": "2021-02-11T00:10:51.096325Z",
     "iopub.status.busy": "2021-02-11T00:10:51.095748Z",
     "iopub.status.idle": "2021-02-11T00:10:51.422011Z",
     "shell.execute_reply": "2021-02-11T00:10:51.421120Z"
    },
    "papermill": {
     "duration": 0.368138,
     "end_time": "2021-02-11T00:10:51.422165",
     "exception": false,
     "start_time": "2021-02-11T00:10:51.054027",
     "status": "completed"
    },
    "tags": []
   },
   "outputs": [],
   "source": [
    "#hide\n",
    "import numpy as np\n",
    "import pandas as pd\n",
    "from jinja2 import Template\n",
    "from IPython.display import HTML"
   ]
  },
  {
   "cell_type": "code",
   "execution_count": 2,
   "id": "developed-terminology",
   "metadata": {
    "execution": {
     "iopub.execute_input": "2021-02-11T00:10:51.492637Z",
     "iopub.status.busy": "2021-02-11T00:10:51.492062Z",
     "iopub.status.idle": "2021-02-11T00:10:51.494510Z",
     "shell.execute_reply": "2021-02-11T00:10:51.495078Z"
    },
    "papermill": {
     "duration": 0.04013,
     "end_time": "2021-02-11T00:10:51.495223",
     "exception": false,
     "start_time": "2021-02-11T00:10:51.455093",
     "status": "completed"
    },
    "tags": []
   },
   "outputs": [],
   "source": [
    "#hide\n",
    "\n",
    "# FETCH\n",
    "base_url = 'https://raw.githubusercontent.com/pratapvardhan/notebooks/master/covid19/'\n",
    "paths = {\n",
    "    'mapping': base_url + 'mapping_countries.csv',\n",
    "    'overview': base_url + 'overview.tpl'\n",
    "}"
   ]
  },
  {
   "cell_type": "code",
   "execution_count": 3,
   "id": "dynamic-saver",
   "metadata": {
    "execution": {
     "iopub.execute_input": "2021-02-11T00:10:51.571779Z",
     "iopub.status.busy": "2021-02-11T00:10:51.571169Z",
     "iopub.status.idle": "2021-02-11T00:10:51.573427Z",
     "shell.execute_reply": "2021-02-11T00:10:51.573986Z"
    },
    "papermill": {
     "duration": 0.046302,
     "end_time": "2021-02-11T00:10:51.574129",
     "exception": false,
     "start_time": "2021-02-11T00:10:51.527827",
     "status": "completed"
    },
    "tags": []
   },
   "outputs": [
    {
     "data": {
      "text/plain": [
       "'https://raw.githubusercontent.com/pratapvardhan/notebooks/master/covid19/mapping_countries.csv'"
      ]
     },
     "execution_count": 3,
     "metadata": {},
     "output_type": "execute_result"
    }
   ],
   "source": [
    "#hide\n",
    "paths['mapping']"
   ]
  },
  {
   "cell_type": "code",
   "execution_count": 4,
   "id": "urban-software",
   "metadata": {
    "execution": {
     "iopub.execute_input": "2021-02-11T00:10:51.646135Z",
     "iopub.status.busy": "2021-02-11T00:10:51.645538Z",
     "iopub.status.idle": "2021-02-11T00:10:51.647830Z",
     "shell.execute_reply": "2021-02-11T00:10:51.647322Z"
    },
    "papermill": {
     "duration": 0.040865,
     "end_time": "2021-02-11T00:10:51.647952",
     "exception": false,
     "start_time": "2021-02-11T00:10:51.607087",
     "status": "completed"
    },
    "tags": []
   },
   "outputs": [],
   "source": [
    "#hide\n",
    "def get_mappings(url):\n",
    "    df = pd.read_csv(url)\n",
    "    return {\n",
    "        'df': df,\n",
    "        'replace.country': dict(df.dropna(subset=['Name']).set_index('Country')['Name']),\n",
    "        'map.continent': dict(df.set_index('Name')['Continent'])\n",
    "    }"
   ]
  },
  {
   "cell_type": "code",
   "execution_count": 5,
   "id": "intimate-machinery",
   "metadata": {
    "execution": {
     "iopub.execute_input": "2021-02-11T00:10:51.719958Z",
     "iopub.status.busy": "2021-02-11T00:10:51.719336Z",
     "iopub.status.idle": "2021-02-11T00:10:51.788461Z",
     "shell.execute_reply": "2021-02-11T00:10:51.787328Z"
    },
    "papermill": {
     "duration": 0.107596,
     "end_time": "2021-02-11T00:10:51.788603",
     "exception": false,
     "start_time": "2021-02-11T00:10:51.681007",
     "status": "completed"
    },
    "tags": []
   },
   "outputs": [],
   "source": [
    "#hide\n",
    "mapping = get_mappings(paths['mapping'])"
   ]
  },
  {
   "cell_type": "code",
   "execution_count": 6,
   "id": "certified-tactics",
   "metadata": {
    "execution": {
     "iopub.execute_input": "2021-02-11T00:10:51.860329Z",
     "iopub.status.busy": "2021-02-11T00:10:51.859711Z",
     "iopub.status.idle": "2021-02-11T00:10:51.861485Z",
     "shell.execute_reply": "2021-02-11T00:10:51.861933Z"
    },
    "papermill": {
     "duration": 0.040422,
     "end_time": "2021-02-11T00:10:51.862080",
     "exception": false,
     "start_time": "2021-02-11T00:10:51.821658",
     "status": "completed"
    },
    "tags": []
   },
   "outputs": [],
   "source": [
    "#hide\n",
    "def get_template(path):\n",
    "    from urllib.parse import urlparse\n",
    "    if bool(urlparse(path).netloc):\n",
    "        from urllib.request import urlopen\n",
    "        return urlopen(path).read().decode('utf8')\n",
    "    return open(path).read()"
   ]
  },
  {
   "cell_type": "code",
   "execution_count": 7,
   "id": "realistic-blast",
   "metadata": {
    "execution": {
     "iopub.execute_input": "2021-02-11T00:10:51.933875Z",
     "iopub.status.busy": "2021-02-11T00:10:51.933273Z",
     "iopub.status.idle": "2021-02-11T00:10:51.935946Z",
     "shell.execute_reply": "2021-02-11T00:10:51.935471Z"
    },
    "papermill": {
     "duration": 0.040585,
     "end_time": "2021-02-11T00:10:51.936072",
     "exception": false,
     "start_time": "2021-02-11T00:10:51.895487",
     "status": "completed"
    },
    "tags": []
   },
   "outputs": [],
   "source": [
    "#hide\n",
    "def get_frame(name):\n",
    "    url = (\n",
    "        'https://raw.githubusercontent.com/CSSEGISandData/COVID-19/master/csse_covid_19_data/'\n",
    "        f'csse_covid_19_time_series/time_series_covid19_{name}_global.csv')\n",
    "    df = pd.read_csv(url)\n",
    "    # rename countries\n",
    "    df['Country/Region'] = df['Country/Region'].replace(mapping['replace.country'])\n",
    "    return df"
   ]
  },
  {
   "cell_type": "code",
   "execution_count": 8,
   "id": "affiliated-characterization",
   "metadata": {
    "execution": {
     "iopub.execute_input": "2021-02-11T00:10:52.009317Z",
     "iopub.status.busy": "2021-02-11T00:10:52.008044Z",
     "iopub.status.idle": "2021-02-11T00:10:52.010276Z",
     "shell.execute_reply": "2021-02-11T00:10:52.010834Z"
    },
    "papermill": {
     "duration": 0.041738,
     "end_time": "2021-02-11T00:10:52.010977",
     "exception": false,
     "start_time": "2021-02-11T00:10:51.969239",
     "status": "completed"
    },
    "tags": []
   },
   "outputs": [],
   "source": [
    "#hide\n",
    "def get_dates(df):\n",
    "    dt_cols = df.columns[~df.columns.isin(['Province/State', 'Country/Region', 'Lat', 'Long'])]\n",
    "    LAST_DATE_I = -1\n",
    "    # sometimes last column may be empty, then go backwards\n",
    "    for i in range(-1, -len(dt_cols), -1):\n",
    "        if not df[dt_cols[i]].fillna(0).eq(0).all():\n",
    "            LAST_DATE_I = i\n",
    "            break\n",
    "    return LAST_DATE_I, dt_cols"
   ]
  },
  {
   "cell_type": "code",
   "execution_count": 9,
   "id": "recent-optimization",
   "metadata": {
    "execution": {
     "iopub.execute_input": "2021-02-11T00:10:52.083993Z",
     "iopub.status.busy": "2021-02-11T00:10:52.083381Z",
     "iopub.status.idle": "2021-02-11T00:10:52.563780Z",
     "shell.execute_reply": "2021-02-11T00:10:52.564607Z"
    },
    "papermill": {
     "duration": 0.52057,
     "end_time": "2021-02-11T00:10:52.564894",
     "exception": false,
     "start_time": "2021-02-11T00:10:52.044324",
     "status": "completed"
    },
    "tags": []
   },
   "outputs": [],
   "source": [
    "#hide\n",
    "COL_REGION = 'Country/Region'\n",
    "# Confirmed, Recovered, Deaths\n",
    "df = get_frame('confirmed')\n",
    "# dft_: timeseries, dfc_: today country agg\n",
    "dft_cases = df\n",
    "dft_deaths = get_frame('deaths')\n",
    "dft_recovered = get_frame('recovered')\n",
    "LAST_DATE_I, dt_cols = get_dates(df)"
   ]
  },
  {
   "cell_type": "code",
   "execution_count": 10,
   "id": "absolute-copper",
   "metadata": {
    "execution": {
     "iopub.execute_input": "2021-02-11T00:10:52.638380Z",
     "iopub.status.busy": "2021-02-11T00:10:52.637775Z",
     "iopub.status.idle": "2021-02-11T00:10:52.640118Z",
     "shell.execute_reply": "2021-02-11T00:10:52.639598Z"
    },
    "papermill": {
     "duration": 0.039956,
     "end_time": "2021-02-11T00:10:52.640242",
     "exception": false,
     "start_time": "2021-02-11T00:10:52.600286",
     "status": "completed"
    },
    "tags": []
   },
   "outputs": [],
   "source": [
    "#hide\n",
    "LAST_DATE_I, dt_cols = get_dates(df)\n",
    "dt_today =dt_cols[LAST_DATE_I]\n",
    "# dt_5day = dt_cols[LAST_DATE_I - 5]\n",
    "dt_yday = dt_cols[LAST_DATE_I - 1]"
   ]
  },
  {
   "cell_type": "code",
   "execution_count": 11,
   "id": "restricted-sheriff",
   "metadata": {
    "execution": {
     "iopub.execute_input": "2021-02-11T00:10:52.714419Z",
     "iopub.status.busy": "2021-02-11T00:10:52.713831Z",
     "iopub.status.idle": "2021-02-11T00:10:52.720974Z",
     "shell.execute_reply": "2021-02-11T00:10:52.721475Z"
    },
    "papermill": {
     "duration": 0.047345,
     "end_time": "2021-02-11T00:10:52.721623",
     "exception": false,
     "start_time": "2021-02-11T00:10:52.674278",
     "status": "completed"
    },
    "tags": []
   },
   "outputs": [],
   "source": [
    "#hide\n",
    "dfc_cases = dft_cases.groupby(COL_REGION)[dt_today].sum()\n",
    "dfc_deaths = dft_deaths.groupby(COL_REGION)[dt_today].sum()\n",
    "# dfp_cases = dft_cases.groupby(COL_REGION)[dt_5day].sum()\n",
    "# dfp_deaths = dft_deaths.groupby(COL_REGION)[dt_5day].sum()\n",
    "dfp_cases = dft_cases.groupby(COL_REGION)[dt_yday].sum()\n",
    "dfp_deaths = dft_deaths.groupby(COL_REGION)[dt_yday].sum()"
   ]
  },
  {
   "cell_type": "code",
   "execution_count": 12,
   "id": "deluxe-hepatitis",
   "metadata": {
    "execution": {
     "iopub.execute_input": "2021-02-11T00:10:52.793861Z",
     "iopub.status.busy": "2021-02-11T00:10:52.793247Z",
     "iopub.status.idle": "2021-02-11T00:10:52.797967Z",
     "shell.execute_reply": "2021-02-11T00:10:52.797486Z"
    },
    "papermill": {
     "duration": 0.04514,
     "end_time": "2021-02-11T00:10:52.798095",
     "exception": false,
     "start_time": "2021-02-11T00:10:52.752955",
     "status": "completed"
    },
    "tags": []
   },
   "outputs": [],
   "source": [
    "#hide\n",
    "df_table = (pd.DataFrame(dict(Cases = dfc_cases, Deaths = dfc_deaths, PCases = dfp_cases, PDeaths = dfp_deaths))\n",
    "            .sort_values(by = ['Cases','Deaths'], ascending = [False, False])\n",
    "            .reset_index())"
   ]
  },
  {
   "cell_type": "code",
   "execution_count": 13,
   "id": "educational-chancellor",
   "metadata": {
    "execution": {
     "iopub.execute_input": "2021-02-11T00:10:52.882530Z",
     "iopub.status.busy": "2021-02-11T00:10:52.881913Z",
     "iopub.status.idle": "2021-02-11T00:10:52.893833Z",
     "shell.execute_reply": "2021-02-11T00:10:52.894307Z"
    },
    "papermill": {
     "duration": 0.063586,
     "end_time": "2021-02-11T00:10:52.894452",
     "exception": false,
     "start_time": "2021-02-11T00:10:52.830866",
     "status": "completed"
    },
    "tags": []
   },
   "outputs": [
    {
     "data": {
      "text/html": [
       "<div>\n",
       "<style scoped>\n",
       "    .dataframe tbody tr th:only-of-type {\n",
       "        vertical-align: middle;\n",
       "    }\n",
       "\n",
       "    .dataframe tbody tr th {\n",
       "        vertical-align: top;\n",
       "    }\n",
       "\n",
       "    .dataframe thead th {\n",
       "        text-align: right;\n",
       "    }\n",
       "</style>\n",
       "<table border=\"1\" class=\"dataframe\">\n",
       "  <thead>\n",
       "    <tr style=\"text-align: right;\">\n",
       "      <th></th>\n",
       "      <th>Country/Region</th>\n",
       "      <th>Cases</th>\n",
       "      <th>Deaths</th>\n",
       "      <th>PCases</th>\n",
       "      <th>PDeaths</th>\n",
       "      <th>Cases (+)</th>\n",
       "      <th>Deaths (+)</th>\n",
       "      <th>Fatality Rate</th>\n",
       "      <th>Continent</th>\n",
       "    </tr>\n",
       "  </thead>\n",
       "  <tbody>\n",
       "    <tr>\n",
       "      <th>0</th>\n",
       "      <td>US</td>\n",
       "      <td>27192455</td>\n",
       "      <td>468203</td>\n",
       "      <td>27097095</td>\n",
       "      <td>465072</td>\n",
       "      <td>95360</td>\n",
       "      <td>3131</td>\n",
       "      <td>1.72</td>\n",
       "      <td>North America</td>\n",
       "    </tr>\n",
       "    <tr>\n",
       "      <th>1</th>\n",
       "      <td>India</td>\n",
       "      <td>10858371</td>\n",
       "      <td>155252</td>\n",
       "      <td>10847304</td>\n",
       "      <td>155158</td>\n",
       "      <td>11067</td>\n",
       "      <td>94</td>\n",
       "      <td>1.43</td>\n",
       "      <td>Asia</td>\n",
       "    </tr>\n",
       "    <tr>\n",
       "      <th>2</th>\n",
       "      <td>Brazil</td>\n",
       "      <td>9599565</td>\n",
       "      <td>233520</td>\n",
       "      <td>9524640</td>\n",
       "      <td>231534</td>\n",
       "      <td>74925</td>\n",
       "      <td>1986</td>\n",
       "      <td>2.43</td>\n",
       "      <td>South America</td>\n",
       "    </tr>\n",
       "    <tr>\n",
       "      <th>3</th>\n",
       "      <td>United Kingdom</td>\n",
       "      <td>3983756</td>\n",
       "      <td>114066</td>\n",
       "      <td>3971315</td>\n",
       "      <td>113014</td>\n",
       "      <td>12441</td>\n",
       "      <td>1052</td>\n",
       "      <td>2.86</td>\n",
       "      <td>Europe</td>\n",
       "    </tr>\n",
       "    <tr>\n",
       "      <th>4</th>\n",
       "      <td>Russia</td>\n",
       "      <td>3953970</td>\n",
       "      <td>76347</td>\n",
       "      <td>3939162</td>\n",
       "      <td>75828</td>\n",
       "      <td>14808</td>\n",
       "      <td>519</td>\n",
       "      <td>1.93</td>\n",
       "      <td>Europe</td>\n",
       "    </tr>\n",
       "  </tbody>\n",
       "</table>\n",
       "</div>"
      ],
      "text/plain": [
       "   Country/Region     Cases  Deaths    PCases  PDeaths  Cases (+)  Deaths (+)  \\\n",
       "0              US  27192455  468203  27097095   465072      95360        3131   \n",
       "1           India  10858371  155252  10847304   155158      11067          94   \n",
       "2          Brazil   9599565  233520   9524640   231534      74925        1986   \n",
       "3  United Kingdom   3983756  114066   3971315   113014      12441        1052   \n",
       "4          Russia   3953970   76347   3939162    75828      14808         519   \n",
       "\n",
       "   Fatality Rate      Continent  \n",
       "0           1.72  North America  \n",
       "1           1.43           Asia  \n",
       "2           2.43  South America  \n",
       "3           2.86         Europe  \n",
       "4           1.93         Europe  "
      ]
     },
     "execution_count": 13,
     "metadata": {},
     "output_type": "execute_result"
    }
   ],
   "source": [
    "#hide\n",
    "for c in 'Cases, Deaths'.split(', '):\n",
    "    df_table[f'{c} (+)'] = (df_table[c] - df_table[f'P{c}']).clip(0)\n",
    "    #Clip ça veut dire, les chiffres negatif sont interdit\n",
    "df_table['Fatality Rate'] = (100* df_table['Deaths']/ df_table['Cases']).round(2)\n",
    "df_table['Continent'] = df_table['Country/Region'].map(mapping['map.continent'])\n",
    "df_table.head(5)"
   ]
  },
  {
   "cell_type": "code",
   "execution_count": 14,
   "id": "aboriginal-bulgaria",
   "metadata": {
    "execution": {
     "iopub.execute_input": "2021-02-11T00:10:52.968635Z",
     "iopub.status.busy": "2021-02-11T00:10:52.968046Z",
     "iopub.status.idle": "2021-02-11T00:10:52.970352Z",
     "shell.execute_reply": "2021-02-11T00:10:52.969854Z"
    },
    "papermill": {
     "duration": 0.042942,
     "end_time": "2021-02-11T00:10:52.970471",
     "exception": false,
     "start_time": "2021-02-11T00:10:52.927529",
     "status": "completed"
    },
    "tags": []
   },
   "outputs": [],
   "source": [
    "#hide\n",
    "#delete problematic countries from table\n",
    "df_table = df_table[~df_table['Country/Region'].isin(['Cape Verde', 'Cruise Ship', 'Kosovo'])]"
   ]
  },
  {
   "cell_type": "code",
   "execution_count": 15,
   "id": "fantastic-effect",
   "metadata": {
    "execution": {
     "iopub.execute_input": "2021-02-11T00:10:53.045473Z",
     "iopub.status.busy": "2021-02-11T00:10:53.044870Z",
     "iopub.status.idle": "2021-02-11T00:10:53.064460Z",
     "shell.execute_reply": "2021-02-11T00:10:53.063869Z"
    },
    "papermill": {
     "duration": 0.060727,
     "end_time": "2021-02-11T00:10:53.064617",
     "exception": false,
     "start_time": "2021-02-11T00:10:53.003890",
     "status": "completed"
    },
    "tags": []
   },
   "outputs": [
    {
     "data": {
      "text/html": [
       "<div>\n",
       "<style scoped>\n",
       "    .dataframe tbody tr th:only-of-type {\n",
       "        vertical-align: middle;\n",
       "    }\n",
       "\n",
       "    .dataframe tbody tr th {\n",
       "        vertical-align: top;\n",
       "    }\n",
       "\n",
       "    .dataframe thead th {\n",
       "        text-align: right;\n",
       "    }\n",
       "</style>\n",
       "<table border=\"1\" class=\"dataframe\">\n",
       "  <thead>\n",
       "    <tr style=\"text-align: right;\">\n",
       "      <th></th>\n",
       "      <th>Country/Region</th>\n",
       "      <th>Cases</th>\n",
       "      <th>Deaths</th>\n",
       "      <th>PCases</th>\n",
       "      <th>PDeaths</th>\n",
       "      <th>Cases (+)</th>\n",
       "      <th>Deaths (+)</th>\n",
       "      <th>Fatality Rate</th>\n",
       "      <th>Continent</th>\n",
       "    </tr>\n",
       "  </thead>\n",
       "  <tbody>\n",
       "    <tr>\n",
       "      <th>0</th>\n",
       "      <td>US</td>\n",
       "      <td>27192455</td>\n",
       "      <td>468203</td>\n",
       "      <td>27097095</td>\n",
       "      <td>465072</td>\n",
       "      <td>95360</td>\n",
       "      <td>3131</td>\n",
       "      <td>1.7</td>\n",
       "      <td>North America</td>\n",
       "    </tr>\n",
       "    <tr>\n",
       "      <th>1</th>\n",
       "      <td>India</td>\n",
       "      <td>10858371</td>\n",
       "      <td>155252</td>\n",
       "      <td>10847304</td>\n",
       "      <td>155158</td>\n",
       "      <td>11067</td>\n",
       "      <td>94</td>\n",
       "      <td>1.4</td>\n",
       "      <td>Asia</td>\n",
       "    </tr>\n",
       "    <tr>\n",
       "      <th>2</th>\n",
       "      <td>Brazil</td>\n",
       "      <td>9599565</td>\n",
       "      <td>233520</td>\n",
       "      <td>9524640</td>\n",
       "      <td>231534</td>\n",
       "      <td>74925</td>\n",
       "      <td>1986</td>\n",
       "      <td>2.4</td>\n",
       "      <td>South America</td>\n",
       "    </tr>\n",
       "    <tr>\n",
       "      <th>3</th>\n",
       "      <td>United Kingdom</td>\n",
       "      <td>3983756</td>\n",
       "      <td>114066</td>\n",
       "      <td>3971315</td>\n",
       "      <td>113014</td>\n",
       "      <td>12441</td>\n",
       "      <td>1052</td>\n",
       "      <td>2.9</td>\n",
       "      <td>Europe</td>\n",
       "    </tr>\n",
       "    <tr>\n",
       "      <th>4</th>\n",
       "      <td>Russia</td>\n",
       "      <td>3953970</td>\n",
       "      <td>76347</td>\n",
       "      <td>3939162</td>\n",
       "      <td>75828</td>\n",
       "      <td>14808</td>\n",
       "      <td>519</td>\n",
       "      <td>1.9</td>\n",
       "      <td>Europe</td>\n",
       "    </tr>\n",
       "  </tbody>\n",
       "</table>\n",
       "</div>"
      ],
      "text/plain": [
       "   Country/Region     Cases  Deaths    PCases  PDeaths  Cases (+)  Deaths (+)  \\\n",
       "0              US  27192455  468203  27097095   465072      95360        3131   \n",
       "1           India  10858371  155252  10847304   155158      11067          94   \n",
       "2          Brazil   9599565  233520   9524640   231534      74925        1986   \n",
       "3  United Kingdom   3983756  114066   3971315   113014      12441        1052   \n",
       "4          Russia   3953970   76347   3939162    75828      14808         519   \n",
       "\n",
       "   Fatality Rate      Continent  \n",
       "0            1.7  North America  \n",
       "1            1.4           Asia  \n",
       "2            2.4  South America  \n",
       "3            2.9         Europe  \n",
       "4            1.9         Europe  "
      ]
     },
     "execution_count": 15,
     "metadata": {},
     "output_type": "execute_result"
    }
   ],
   "source": [
    "#hide\n",
    "df_table = (pd.DataFrame(dict(Cases=dfc_cases, Deaths=dfc_deaths, PCases=dfp_cases, PDeaths=dfp_deaths))\n",
    "             .sort_values(by=['Cases', 'Deaths'], ascending=[False, False])\n",
    "             .reset_index())\n",
    "df_table.rename(columns={'index': 'Country/Region'}, inplace=True)\n",
    "for c in 'Cases, Deaths'.split(', '):\n",
    "    df_table[f'{c} (+)'] = (df_table[c] - df_table[f'P{c}']).clip(0)  # DATA BUG\n",
    "df_table['Fatality Rate'] = (100 * df_table['Deaths'] / df_table['Cases']).round(1)\n",
    "df_table['Continent'] = df_table['Country/Region'].map(mapping['map.continent'])\n",
    "df_table.head(5)"
   ]
  },
  {
   "cell_type": "code",
   "execution_count": 16,
   "id": "fewer-occasion",
   "metadata": {
    "execution": {
     "iopub.execute_input": "2021-02-11T00:10:53.141155Z",
     "iopub.status.busy": "2021-02-11T00:10:53.140523Z",
     "iopub.status.idle": "2021-02-11T00:10:53.142867Z",
     "shell.execute_reply": "2021-02-11T00:10:53.142376Z"
    },
    "papermill": {
     "duration": 0.043282,
     "end_time": "2021-02-11T00:10:53.142983",
     "exception": false,
     "start_time": "2021-02-11T00:10:53.099701",
     "status": "completed"
    },
    "tags": []
   },
   "outputs": [],
   "source": [
    "#hide\n",
    "#delete problematic countries from table\n",
    "df_table = df_table[~df_table['Country/Region'].isin(['Cape Verde', 'Cruise Ship', 'Kosovo'])]"
   ]
  },
  {
   "cell_type": "code",
   "execution_count": 17,
   "id": "related-center",
   "metadata": {
    "execution": {
     "iopub.execute_input": "2021-02-11T00:10:53.229782Z",
     "iopub.status.busy": "2021-02-11T00:10:53.229163Z",
     "iopub.status.idle": "2021-02-11T00:10:53.231845Z",
     "shell.execute_reply": "2021-02-11T00:10:53.231344Z"
    },
    "papermill": {
     "duration": 0.055696,
     "end_time": "2021-02-11T00:10:53.231967",
     "exception": false,
     "start_time": "2021-02-11T00:10:53.176271",
     "status": "completed"
    },
    "tags": []
   },
   "outputs": [],
   "source": [
    "#hide\n",
    "metrics = [df_table.columns[index] for index in [1,2,5,6]]\n",
    "# s_china = df_table[df_table['Country/Region'].eq('China')][metrics].sum().add_prefix('China ')\n",
    "s_us = df_table[df_table['Country/Region'].eq('US')][metrics].sum().add_prefix('US ')\n",
    "s_eu = df_table[df_table['Continent'].eq('Europe')][metrics].sum().add_prefix('EU ')\n",
    "s_ind = df_table[df_table['Country/Region'].eq('India')][metrics].sum().add_prefix('India ')\n",
    "summary = {'updated': pd.to_datetime(dt_today), 'since': pd.to_datetime(dt_yday)}\n",
    "summary = {'updated': pd.to_datetime(dt_today), 'since': pd.to_datetime(dt_yday)}\n",
    "summary = {**summary, **df_table[metrics].sum(), **s_ind, **s_us, **s_eu}"
   ]
  },
  {
   "cell_type": "code",
   "execution_count": 18,
   "id": "engaging-syndrome",
   "metadata": {
    "execution": {
     "iopub.execute_input": "2021-02-11T00:10:53.306271Z",
     "iopub.status.busy": "2021-02-11T00:10:53.305667Z",
     "iopub.status.idle": "2021-02-11T00:10:53.317628Z",
     "shell.execute_reply": "2021-02-11T00:10:53.317126Z"
    },
    "papermill": {
     "duration": 0.052,
     "end_time": "2021-02-11T00:10:53.317762",
     "exception": false,
     "start_time": "2021-02-11T00:10:53.265762",
     "status": "completed"
    },
    "tags": []
   },
   "outputs": [],
   "source": [
    "#hide\n",
    "dft_ct_new_cases = dft_cases.groupby(COL_REGION)[dt_cols].sum().diff(axis=1).fillna(0).astype(int)"
   ]
  },
  {
   "cell_type": "code",
   "execution_count": 19,
   "id": "neutral-assignment",
   "metadata": {
    "execution": {
     "iopub.execute_input": "2021-02-11T00:10:53.393494Z",
     "iopub.status.busy": "2021-02-11T00:10:53.392891Z",
     "iopub.status.idle": "2021-02-11T00:10:53.395318Z",
     "shell.execute_reply": "2021-02-11T00:10:53.395881Z"
    },
    "papermill": {
     "duration": 0.044432,
     "end_time": "2021-02-11T00:10:53.396024",
     "exception": false,
     "start_time": "2021-02-11T00:10:53.351592",
     "status": "completed"
    },
    "tags": []
   },
   "outputs": [],
   "source": [
    "#hide\n",
    "everydaycases = dft_ct_new_cases.cumsum(axis=1)"
   ]
  },
  {
   "cell_type": "code",
   "execution_count": 20,
   "id": "parliamentary-calgary",
   "metadata": {
    "execution": {
     "iopub.execute_input": "2021-02-11T00:10:53.469057Z",
     "iopub.status.busy": "2021-02-11T00:10:53.468429Z",
     "iopub.status.idle": "2021-02-11T00:10:54.171502Z",
     "shell.execute_reply": "2021-02-11T00:10:54.170667Z"
    },
    "papermill": {
     "duration": 0.741457,
     "end_time": "2021-02-11T00:10:54.171723",
     "exception": false,
     "start_time": "2021-02-11T00:10:53.430266",
     "status": "completed"
    },
    "tags": []
   },
   "outputs": [],
   "source": [
    "#hide\n",
    "import pandas as pd\n",
    "import matplotlib.pyplot as plt\n",
    "import matplotlib.ticker as ticker\n",
    "import matplotlib.animation as animation\n",
    "from IPython.display import HTML"
   ]
  },
  {
   "cell_type": "code",
   "execution_count": 21,
   "id": "lasting-extraction",
   "metadata": {
    "execution": {
     "iopub.execute_input": "2021-02-11T00:10:54.247366Z",
     "iopub.status.busy": "2021-02-11T00:10:54.246759Z",
     "iopub.status.idle": "2021-02-11T00:10:54.252497Z",
     "shell.execute_reply": "2021-02-11T00:10:54.252014Z"
    },
    "papermill": {
     "duration": 0.045332,
     "end_time": "2021-02-11T00:10:54.252616",
     "exception": false,
     "start_time": "2021-02-11T00:10:54.207284",
     "status": "completed"
    },
    "tags": []
   },
   "outputs": [],
   "source": [
    "#hide\n",
    "t = everydaycases.stack()"
   ]
  },
  {
   "cell_type": "code",
   "execution_count": 22,
   "id": "premier-sleeve",
   "metadata": {
    "execution": {
     "iopub.execute_input": "2021-02-11T00:10:54.323263Z",
     "iopub.status.busy": "2021-02-11T00:10:54.322764Z",
     "iopub.status.idle": "2021-02-11T00:10:54.329623Z",
     "shell.execute_reply": "2021-02-11T00:10:54.329165Z"
    },
    "papermill": {
     "duration": 0.044082,
     "end_time": "2021-02-11T00:10:54.329726",
     "exception": false,
     "start_time": "2021-02-11T00:10:54.285644",
     "status": "completed"
    },
    "tags": []
   },
   "outputs": [],
   "source": [
    "#hide\n",
    "g = t.reset_index(['Country/Region'])"
   ]
  },
  {
   "cell_type": "code",
   "execution_count": 23,
   "id": "distributed-pittsburgh",
   "metadata": {
    "execution": {
     "iopub.execute_input": "2021-02-11T00:10:54.399810Z",
     "iopub.status.busy": "2021-02-11T00:10:54.399213Z",
     "iopub.status.idle": "2021-02-11T00:10:54.400972Z",
     "shell.execute_reply": "2021-02-11T00:10:54.401542Z"
    },
    "papermill": {
     "duration": 0.039568,
     "end_time": "2021-02-11T00:10:54.401687",
     "exception": false,
     "start_time": "2021-02-11T00:10:54.362119",
     "status": "completed"
    },
    "tags": []
   },
   "outputs": [],
   "source": [
    "#hide\n",
    "g.index.name = 'date'"
   ]
  },
  {
   "cell_type": "code",
   "execution_count": 24,
   "id": "naked-donor",
   "metadata": {
    "execution": {
     "iopub.execute_input": "2021-02-11T00:10:54.471117Z",
     "iopub.status.busy": "2021-02-11T00:10:54.470555Z",
     "iopub.status.idle": "2021-02-11T00:10:54.472814Z",
     "shell.execute_reply": "2021-02-11T00:10:54.473268Z"
    },
    "papermill": {
     "duration": 0.039013,
     "end_time": "2021-02-11T00:10:54.473401",
     "exception": false,
     "start_time": "2021-02-11T00:10:54.434388",
     "status": "completed"
    },
    "tags": []
   },
   "outputs": [],
   "source": [
    "# #hide\n",
    "# g = g.reset_index(['date'])"
   ]
  },
  {
   "cell_type": "code",
   "execution_count": 25,
   "id": "incomplete-mustang",
   "metadata": {
    "execution": {
     "iopub.execute_input": "2021-02-11T00:10:54.543960Z",
     "iopub.status.busy": "2021-02-11T00:10:54.543371Z",
     "iopub.status.idle": "2021-02-11T00:10:54.545154Z",
     "shell.execute_reply": "2021-02-11T00:10:54.545634Z"
    },
    "papermill": {
     "duration": 0.040094,
     "end_time": "2021-02-11T00:10:54.545774",
     "exception": false,
     "start_time": "2021-02-11T00:10:54.505680",
     "status": "completed"
    },
    "tags": []
   },
   "outputs": [],
   "source": [
    "#hide\n",
    "# g.head()"
   ]
  },
  {
   "cell_type": "code",
   "execution_count": 26,
   "id": "specific-kruger",
   "metadata": {
    "execution": {
     "iopub.execute_input": "2021-02-11T00:10:54.616591Z",
     "iopub.status.busy": "2021-02-11T00:10:54.615956Z",
     "iopub.status.idle": "2021-02-11T00:10:54.618042Z",
     "shell.execute_reply": "2021-02-11T00:10:54.618517Z"
    },
    "papermill": {
     "duration": 0.039265,
     "end_time": "2021-02-11T00:10:54.618659",
     "exception": false,
     "start_time": "2021-02-11T00:10:54.579394",
     "status": "completed"
    },
    "tags": []
   },
   "outputs": [],
   "source": [
    "#hide\n",
    "# g.columns = ['date','country','cases']"
   ]
  },
  {
   "cell_type": "code",
   "execution_count": 27,
   "id": "tender-conversion",
   "metadata": {
    "execution": {
     "iopub.execute_input": "2021-02-11T00:10:54.688850Z",
     "iopub.status.busy": "2021-02-11T00:10:54.688278Z",
     "iopub.status.idle": "2021-02-11T00:10:54.690714Z",
     "shell.execute_reply": "2021-02-11T00:10:54.691277Z"
    },
    "papermill": {
     "duration": 0.039456,
     "end_time": "2021-02-11T00:10:54.691415",
     "exception": false,
     "start_time": "2021-02-11T00:10:54.651959",
     "status": "completed"
    },
    "tags": []
   },
   "outputs": [],
   "source": [
    "#hide\n",
    "# g['continent'] = g.country"
   ]
  },
  {
   "cell_type": "code",
   "execution_count": 28,
   "id": "substantial-wilderness",
   "metadata": {
    "execution": {
     "iopub.execute_input": "2021-02-11T00:10:54.755709Z",
     "iopub.status.busy": "2021-02-11T00:10:54.755119Z",
     "iopub.status.idle": "2021-02-11T00:10:54.757884Z",
     "shell.execute_reply": "2021-02-11T00:10:54.757403Z"
    },
    "papermill": {
     "duration": 0.036982,
     "end_time": "2021-02-11T00:10:54.758001",
     "exception": false,
     "start_time": "2021-02-11T00:10:54.721019",
     "status": "completed"
    },
    "tags": []
   },
   "outputs": [],
   "source": [
    "#hide\n",
    "# cols = list(g.columns.values)"
   ]
  },
  {
   "cell_type": "code",
   "execution_count": 29,
   "id": "solved-farming",
   "metadata": {
    "execution": {
     "iopub.execute_input": "2021-02-11T00:10:54.829044Z",
     "iopub.status.busy": "2021-02-11T00:10:54.828422Z",
     "iopub.status.idle": "2021-02-11T00:10:54.830917Z",
     "shell.execute_reply": "2021-02-11T00:10:54.830412Z"
    },
    "papermill": {
     "duration": 0.039851,
     "end_time": "2021-02-11T00:10:54.831041",
     "exception": false,
     "start_time": "2021-02-11T00:10:54.791190",
     "status": "completed"
    },
    "tags": []
   },
   "outputs": [],
   "source": [
    "#hide\n",
    "# cols.insert(0, cols.pop())"
   ]
  },
  {
   "cell_type": "code",
   "execution_count": 30,
   "id": "executed-adoption",
   "metadata": {
    "execution": {
     "iopub.execute_input": "2021-02-11T00:10:54.902144Z",
     "iopub.status.busy": "2021-02-11T00:10:54.901555Z",
     "iopub.status.idle": "2021-02-11T00:10:54.904195Z",
     "shell.execute_reply": "2021-02-11T00:10:54.904803Z"
    },
    "papermill": {
     "duration": 0.039976,
     "end_time": "2021-02-11T00:10:54.904940",
     "exception": false,
     "start_time": "2021-02-11T00:10:54.864964",
     "status": "completed"
    },
    "tags": []
   },
   "outputs": [],
   "source": [
    "#hide\n",
    "# g = g[cols]"
   ]
  },
  {
   "cell_type": "code",
   "execution_count": 31,
   "id": "subject-dublin",
   "metadata": {
    "execution": {
     "iopub.execute_input": "2021-02-11T00:10:54.976788Z",
     "iopub.status.busy": "2021-02-11T00:10:54.976172Z",
     "iopub.status.idle": "2021-02-11T00:10:54.978514Z",
     "shell.execute_reply": "2021-02-11T00:10:54.979076Z"
    },
    "papermill": {
     "duration": 0.040665,
     "end_time": "2021-02-11T00:10:54.979214",
     "exception": false,
     "start_time": "2021-02-11T00:10:54.938549",
     "status": "completed"
    },
    "tags": []
   },
   "outputs": [],
   "source": [
    "#hide\n",
    "# g['continent'] = g['continent'].map(mapping['map.continent'])"
   ]
  },
  {
   "cell_type": "code",
   "execution_count": 32,
   "id": "freelance-scout",
   "metadata": {
    "execution": {
     "iopub.execute_input": "2021-02-11T00:10:55.050584Z",
     "iopub.status.busy": "2021-02-11T00:10:55.049987Z",
     "iopub.status.idle": "2021-02-11T00:10:55.053761Z",
     "shell.execute_reply": "2021-02-11T00:10:55.052931Z"
    },
    "papermill": {
     "duration": 0.041199,
     "end_time": "2021-02-11T00:10:55.053923",
     "exception": false,
     "start_time": "2021-02-11T00:10:55.012724",
     "status": "completed"
    },
    "tags": []
   },
   "outputs": [],
   "source": [
    "#hide\n",
    "# g.head()"
   ]
  },
  {
   "cell_type": "code",
   "execution_count": 33,
   "id": "limited-engine",
   "metadata": {
    "execution": {
     "iopub.execute_input": "2021-02-11T00:10:55.129783Z",
     "iopub.status.busy": "2021-02-11T00:10:55.129179Z",
     "iopub.status.idle": "2021-02-11T00:10:55.131464Z",
     "shell.execute_reply": "2021-02-11T00:10:55.130886Z"
    },
    "papermill": {
     "duration": 0.038531,
     "end_time": "2021-02-11T00:10:55.131579",
     "exception": false,
     "start_time": "2021-02-11T00:10:55.093048",
     "status": "completed"
    },
    "tags": []
   },
   "outputs": [],
   "source": [
    "# hide\n",
    "# g['date'] = g['date'].astype('datetime64[ns]')"
   ]
  },
  {
   "cell_type": "code",
   "execution_count": 34,
   "id": "sophisticated-supervisor",
   "metadata": {
    "execution": {
     "iopub.execute_input": "2021-02-11T00:10:55.204174Z",
     "iopub.status.busy": "2021-02-11T00:10:55.203575Z",
     "iopub.status.idle": "2021-02-11T00:10:55.205891Z",
     "shell.execute_reply": "2021-02-11T00:10:55.205367Z"
    },
    "papermill": {
     "duration": 0.041379,
     "end_time": "2021-02-11T00:10:55.206014",
     "exception": false,
     "start_time": "2021-02-11T00:10:55.164635",
     "status": "completed"
    },
    "tags": []
   },
   "outputs": [],
   "source": [
    "#hide\n",
    "# g['date'] = g.date.dt.dayofyear"
   ]
  },
  {
   "cell_type": "code",
   "execution_count": 35,
   "id": "inside-dubai",
   "metadata": {
    "execution": {
     "iopub.execute_input": "2021-02-11T00:10:55.277906Z",
     "iopub.status.busy": "2021-02-11T00:10:55.277117Z",
     "iopub.status.idle": "2021-02-11T00:10:55.278604Z",
     "shell.execute_reply": "2021-02-11T00:10:55.279311Z"
    },
    "papermill": {
     "duration": 0.039806,
     "end_time": "2021-02-11T00:10:55.279466",
     "exception": false,
     "start_time": "2021-02-11T00:10:55.239660",
     "status": "completed"
    },
    "tags": []
   },
   "outputs": [],
   "source": [
    "#hide\n",
    "# g = g.rename(columns= {'continent':'group','country':'name','cases':'value'})"
   ]
  },
  {
   "cell_type": "code",
   "execution_count": 36,
   "id": "fleet-motorcycle",
   "metadata": {
    "execution": {
     "iopub.execute_input": "2021-02-11T00:10:55.351305Z",
     "iopub.status.busy": "2021-02-11T00:10:55.350721Z",
     "iopub.status.idle": "2021-02-11T00:10:55.353159Z",
     "shell.execute_reply": "2021-02-11T00:10:55.353724Z"
    },
    "papermill": {
     "duration": 0.040527,
     "end_time": "2021-02-11T00:10:55.353873",
     "exception": false,
     "start_time": "2021-02-11T00:10:55.313346",
     "status": "completed"
    },
    "tags": []
   },
   "outputs": [],
   "source": [
    "#hide\n",
    "# cols = ['name','group','day','value']"
   ]
  },
  {
   "cell_type": "code",
   "execution_count": 37,
   "id": "continued-sleeping",
   "metadata": {
    "execution": {
     "iopub.execute_input": "2021-02-11T00:10:55.425951Z",
     "iopub.status.busy": "2021-02-11T00:10:55.425358Z",
     "iopub.status.idle": "2021-02-11T00:10:55.428121Z",
     "shell.execute_reply": "2021-02-11T00:10:55.428689Z"
    },
    "papermill": {
     "duration": 0.041534,
     "end_time": "2021-02-11T00:10:55.428860",
     "exception": false,
     "start_time": "2021-02-11T00:10:55.387326",
     "status": "completed"
    },
    "tags": []
   },
   "outputs": [],
   "source": [
    "#hide\n",
    "# g.rename(columns= {'date':'day'},inplace = True)"
   ]
  },
  {
   "cell_type": "code",
   "execution_count": 38,
   "id": "major-fight",
   "metadata": {
    "execution": {
     "iopub.execute_input": "2021-02-11T00:10:55.500147Z",
     "iopub.status.busy": "2021-02-11T00:10:55.499540Z",
     "iopub.status.idle": "2021-02-11T00:10:55.501822Z",
     "shell.execute_reply": "2021-02-11T00:10:55.501307Z"
    },
    "papermill": {
     "duration": 0.039556,
     "end_time": "2021-02-11T00:10:55.501924",
     "exception": false,
     "start_time": "2021-02-11T00:10:55.462368",
     "status": "completed"
    },
    "tags": []
   },
   "outputs": [],
   "source": [
    "#hide\n",
    "# g = g[cols]"
   ]
  },
  {
   "cell_type": "code",
   "execution_count": 39,
   "id": "structured-mobile",
   "metadata": {
    "execution": {
     "iopub.execute_input": "2021-02-11T00:10:55.572574Z",
     "iopub.status.busy": "2021-02-11T00:10:55.571987Z",
     "iopub.status.idle": "2021-02-11T00:10:55.574413Z",
     "shell.execute_reply": "2021-02-11T00:10:55.574977Z"
    },
    "papermill": {
     "duration": 0.040344,
     "end_time": "2021-02-11T00:10:55.575115",
     "exception": false,
     "start_time": "2021-02-11T00:10:55.534771",
     "status": "completed"
    },
    "tags": []
   },
   "outputs": [],
   "source": [
    "# #hide\n",
    "# g = g[g.group.notna()]"
   ]
  },
  {
   "cell_type": "code",
   "execution_count": 40,
   "id": "determined-closing",
   "metadata": {
    "execution": {
     "iopub.execute_input": "2021-02-11T00:10:55.644514Z",
     "iopub.status.busy": "2021-02-11T00:10:55.643904Z",
     "iopub.status.idle": "2021-02-11T00:10:55.646229Z",
     "shell.execute_reply": "2021-02-11T00:10:55.645753Z"
    },
    "papermill": {
     "duration": 0.038154,
     "end_time": "2021-02-11T00:10:55.646354",
     "exception": false,
     "start_time": "2021-02-11T00:10:55.608200",
     "status": "completed"
    },
    "tags": []
   },
   "outputs": [],
   "source": [
    "# #hide\n",
    "# colors = dict(zip(\n",
    "#     [\"Oceania\", \"Europe\", \"Asia\", \"South America\", \"Middle East\", \"North America\", \"Africa\"],\n",
    "#     [\"#adb0ff\", \"#ffb3ff\", \"#90d595\", \"#e48381\", \"#aafbff\", \"#f7bb5f\", \"#eafb50\"]\n",
    "# ))\n",
    "# group_lk = g.set_index('name')['group'].to_dict()"
   ]
  },
  {
   "cell_type": "code",
   "execution_count": null,
   "id": "gross-drinking",
   "metadata": {
    "papermill": {
     "duration": 0.032459,
     "end_time": "2021-02-11T00:10:55.710521",
     "exception": false,
     "start_time": "2021-02-11T00:10:55.678062",
     "status": "completed"
    },
    "tags": []
   },
   "outputs": [],
   "source": []
  },
  {
   "cell_type": "code",
   "execution_count": 41,
   "id": "subject-macintosh",
   "metadata": {
    "execution": {
     "iopub.execute_input": "2021-02-11T00:10:55.780636Z",
     "iopub.status.busy": "2021-02-11T00:10:55.780032Z",
     "iopub.status.idle": "2021-02-11T00:10:55.781919Z",
     "shell.execute_reply": "2021-02-11T00:10:55.782361Z"
    },
    "papermill": {
     "duration": 0.039455,
     "end_time": "2021-02-11T00:10:55.782493",
     "exception": false,
     "start_time": "2021-02-11T00:10:55.743038",
     "status": "completed"
    },
    "tags": []
   },
   "outputs": [],
   "source": [
    "# #hide\n",
    "# fig, ax = plt.subplots(figsize=(15, 8))\n",
    "\n",
    "# def draw_barchart(current_day):\n",
    "#     dff = g[g['day'].eq(current_day)].sort_values(by='value', ascending=True).tail(10)\n",
    "#     ax.clear()\n",
    "#     ax.barh(dff['name'], dff['value'], color=[colors[group_lk[x]] for x in dff['name']])\n",
    "#     dx = dff['value'].max() / 200\n",
    "    \n",
    "#     for i, (value, name) in enumerate(zip(dff['value'], dff['name'])):\n",
    "#         ax.text(value-dx, i,     name,           size=14, weight=600, ha='right', va='bottom')\n",
    "#         ax.text(value-dx, i-.25, group_lk[name], size=10, color='#444444', ha='right', va='baseline')\n",
    "#         ax.text(value+dx, i,     f'{value:,.0f}',  size=14, ha='left',  va='center')\n",
    "#     ax.text(1, 0.4, current_day, transform=ax.transAxes, color='#777777', size=46, ha='right', weight=800)\n",
    "#     ax.text(0, 1.06, 'Population (thousands)', transform=ax.transAxes, size=12, color='#777777')\n",
    "#     ax.xaxis.set_major_formatter(ticker.StrMethodFormatter('{x:,.0f}'))\n",
    "#     ax.xaxis.set_ticks_position('top')\n",
    "#     ax.tick_params(axis='x', colors='#777777', labelsize=12)\n",
    "#     ax.set_yticks([])\n",
    "#     ax.margins(0, 0.01)\n",
    "#     ax.grid(which='major', axis='x', linestyle='-')\n",
    "#     ax.set_axisbelow(True)\n",
    "    \n",
    "#     ax.text(0, 1.15, 'Coronavirus',\n",
    "#             transform=ax.transAxes, size=24, weight=600, ha='left', va='top')\n",
    "# #     ax.text(1, 0, 'by @pratapvardhan; credit @jburnmurdoch', transform=ax.transAxes, color='#777777', ha='right',\n",
    "# #             bbox=dict(facecolor='white', alpha=0.8, edgecolor='white'))\n",
    "#     plt.box(False)"
   ]
  },
  {
   "cell_type": "code",
   "execution_count": 42,
   "id": "sexual-wages",
   "metadata": {
    "execution": {
     "iopub.execute_input": "2021-02-11T00:10:55.852784Z",
     "iopub.status.busy": "2021-02-11T00:10:55.852160Z",
     "iopub.status.idle": "2021-02-11T00:10:55.854442Z",
     "shell.execute_reply": "2021-02-11T00:10:55.853940Z"
    },
    "papermill": {
     "duration": 0.03928,
     "end_time": "2021-02-11T00:10:55.854554",
     "exception": false,
     "start_time": "2021-02-11T00:10:55.815274",
     "status": "completed"
    },
    "tags": []
   },
   "outputs": [],
   "source": [
    "# #hide_input\n",
    "# fig, ax = plt.subplots(figsize=(15, 8))\n",
    "# animator = animation.FuncAnimation(fig, draw_barchart, frames=range(g.day.values.min(), g.day.values.max()))\n",
    "# HTML(animator.to_jshtml())\n",
    "# # or use animator.to_html5_video() or animator.save() "
   ]
  },
  {
   "cell_type": "code",
   "execution_count": null,
   "id": "australian-container",
   "metadata": {
    "papermill": {
     "duration": 0.031644,
     "end_time": "2021-02-11T00:10:55.919131",
     "exception": false,
     "start_time": "2021-02-11T00:10:55.887487",
     "status": "completed"
    },
    "tags": []
   },
   "outputs": [],
   "source": []
  },
  {
   "cell_type": "code",
   "execution_count": null,
   "id": "mediterranean-pontiac",
   "metadata": {
    "papermill": {
     "duration": 0.033225,
     "end_time": "2021-02-11T00:10:55.985364",
     "exception": false,
     "start_time": "2021-02-11T00:10:55.952139",
     "status": "completed"
    },
    "tags": []
   },
   "outputs": [],
   "source": []
  },
  {
   "cell_type": "code",
   "execution_count": null,
   "id": "aging-legislature",
   "metadata": {
    "papermill": {
     "duration": 0.033027,
     "end_time": "2021-02-11T00:10:56.051452",
     "exception": false,
     "start_time": "2021-02-11T00:10:56.018425",
     "status": "completed"
    },
    "tags": []
   },
   "outputs": [],
   "source": []
  }
 ],
 "metadata": {
  "kernelspec": {
   "display_name": "Python 3",
   "language": "python",
   "name": "python3"
  },
  "language_info": {
   "codemirror_mode": {
    "name": "ipython",
    "version": 3
   },
   "file_extension": ".py",
   "mimetype": "text/x-python",
   "name": "python",
   "nbconvert_exporter": "python",
   "pygments_lexer": "ipython3",
   "version": "3.6.12"
  },
  "papermill": {
   "duration": 6.704205,
   "end_time": "2021-02-11T00:10:56.392000",
   "environment_variables": {},
   "exception": null,
   "input_path": "2020-03-21-covid19exp.ipynb",
   "output_path": "2020-03-21-covid19exp.ipynb",
   "parameters": {},
   "start_time": "2021-02-11T00:10:49.687795",
   "version": "2.0.0"
  }
 },
 "nbformat": 4,
 "nbformat_minor": 5
}