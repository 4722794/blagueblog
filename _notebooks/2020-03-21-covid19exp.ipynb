{
 "cells": [
  {
   "cell_type": "markdown",
   "id": "muslim-click",
   "metadata": {
    "papermill": {
     "duration": 0.035348,
     "end_time": "2021-11-25T00:25:02.034611",
     "exception": false,
     "start_time": "2021-11-25T00:25:01.999263",
     "status": "completed"
    },
    "tags": []
   },
   "source": [
    "# COVID-19 Case Race\n",
    "> A race chart to see rising cases around the world\n",
    "\n",
    "- author: Hargun Oberoi\n",
    "- image: images/covid-overview.png\n",
    "- hide: false\n",
    "- badges: false"
   ]
  },
  {
   "cell_type": "code",
   "execution_count": 1,
   "id": "proof-material",
   "metadata": {
    "execution": {
     "iopub.execute_input": "2021-11-25T00:25:02.119958Z",
     "iopub.status.busy": "2021-11-25T00:25:02.113404Z",
     "iopub.status.idle": "2021-11-25T00:25:02.497136Z",
     "shell.execute_reply": "2021-11-25T00:25:02.497943Z"
    },
    "papermill": {
     "duration": 0.421919,
     "end_time": "2021-11-25T00:25:02.498124",
     "exception": false,
     "start_time": "2021-11-25T00:25:02.076205",
     "status": "completed"
    },
    "tags": []
   },
   "outputs": [],
   "source": [
    "#hide\n",
    "import numpy as np\n",
    "import pandas as pd\n",
    "from jinja2 import Template\n",
    "from IPython.display import HTML"
   ]
  },
  {
   "cell_type": "code",
   "execution_count": 2,
   "id": "developed-terminology",
   "metadata": {
    "execution": {
     "iopub.execute_input": "2021-11-25T00:25:02.574582Z",
     "iopub.status.busy": "2021-11-25T00:25:02.574005Z",
     "iopub.status.idle": "2021-11-25T00:25:02.576386Z",
     "shell.execute_reply": "2021-11-25T00:25:02.575918Z"
    },
    "papermill": {
     "duration": 0.040643,
     "end_time": "2021-11-25T00:25:02.576521",
     "exception": false,
     "start_time": "2021-11-25T00:25:02.535878",
     "status": "completed"
    },
    "tags": []
   },
   "outputs": [],
   "source": [
    "#hide\n",
    "\n",
    "# FETCH\n",
    "base_url = 'https://raw.githubusercontent.com/pratapvardhan/notebooks/master/covid19/'\n",
    "paths = {\n",
    "    'mapping': base_url + 'mapping_countries.csv',\n",
    "    'overview': base_url + 'overview.tpl'\n",
    "}"
   ]
  },
  {
   "cell_type": "code",
   "execution_count": 3,
   "id": "dynamic-saver",
   "metadata": {
    "execution": {
     "iopub.execute_input": "2021-11-25T00:25:02.650908Z",
     "iopub.status.busy": "2021-11-25T00:25:02.649129Z",
     "iopub.status.idle": "2021-11-25T00:25:02.654514Z",
     "shell.execute_reply": "2021-11-25T00:25:02.654036Z"
    },
    "papermill": {
     "duration": 0.046174,
     "end_time": "2021-11-25T00:25:02.654625",
     "exception": false,
     "start_time": "2021-11-25T00:25:02.608451",
     "status": "completed"
    },
    "tags": []
   },
   "outputs": [
    {
     "data": {
      "text/plain": [
       "'https://raw.githubusercontent.com/pratapvardhan/notebooks/master/covid19/mapping_countries.csv'"
      ]
     },
     "execution_count": 3,
     "metadata": {},
     "output_type": "execute_result"
    }
   ],
   "source": [
    "#hide\n",
    "paths['mapping']"
   ]
  },
  {
   "cell_type": "code",
   "execution_count": 4,
   "id": "urban-software",
   "metadata": {
    "execution": {
     "iopub.execute_input": "2021-11-25T00:25:02.731846Z",
     "iopub.status.busy": "2021-11-25T00:25:02.731299Z",
     "iopub.status.idle": "2021-11-25T00:25:02.733981Z",
     "shell.execute_reply": "2021-11-25T00:25:02.733374Z"
    },
    "papermill": {
     "duration": 0.039796,
     "end_time": "2021-11-25T00:25:02.734131",
     "exception": false,
     "start_time": "2021-11-25T00:25:02.694335",
     "status": "completed"
    },
    "tags": []
   },
   "outputs": [],
   "source": [
    "#hide\n",
    "def get_mappings(url):\n",
    "    df = pd.read_csv(url)\n",
    "    return {\n",
    "        'df': df,\n",
    "        'replace.country': dict(df.dropna(subset=['Name']).set_index('Country')['Name']),\n",
    "        'map.continent': dict(df.set_index('Name')['Continent'])\n",
    "    }"
   ]
  },
  {
   "cell_type": "code",
   "execution_count": 5,
   "id": "intimate-machinery",
   "metadata": {
    "execution": {
     "iopub.execute_input": "2021-11-25T00:25:02.811694Z",
     "iopub.status.busy": "2021-11-25T00:25:02.811167Z",
     "iopub.status.idle": "2021-11-25T00:25:02.860255Z",
     "shell.execute_reply": "2021-11-25T00:25:02.859556Z"
    },
    "papermill": {
     "duration": 0.085278,
     "end_time": "2021-11-25T00:25:02.860405",
     "exception": false,
     "start_time": "2021-11-25T00:25:02.775127",
     "status": "completed"
    },
    "tags": []
   },
   "outputs": [],
   "source": [
    "#hide\n",
    "mapping = get_mappings(paths['mapping'])"
   ]
  },
  {
   "cell_type": "code",
   "execution_count": 6,
   "id": "certified-tactics",
   "metadata": {
    "execution": {
     "iopub.execute_input": "2021-11-25T00:25:02.940263Z",
     "iopub.status.busy": "2021-11-25T00:25:02.939669Z",
     "iopub.status.idle": "2021-11-25T00:25:02.942372Z",
     "shell.execute_reply": "2021-11-25T00:25:02.942863Z"
    },
    "papermill": {
     "duration": 0.046283,
     "end_time": "2021-11-25T00:25:02.943005",
     "exception": false,
     "start_time": "2021-11-25T00:25:02.896722",
     "status": "completed"
    },
    "tags": []
   },
   "outputs": [],
   "source": [
    "#hide\n",
    "def get_template(path):\n",
    "    from urllib.parse import urlparse\n",
    "    if bool(urlparse(path).netloc):\n",
    "        from urllib.request import urlopen\n",
    "        return urlopen(path).read().decode('utf8')\n",
    "    return open(path).read()"
   ]
  },
  {
   "cell_type": "code",
   "execution_count": 7,
   "id": "realistic-blast",
   "metadata": {
    "execution": {
     "iopub.execute_input": "2021-11-25T00:25:03.019278Z",
     "iopub.status.busy": "2021-11-25T00:25:03.018616Z",
     "iopub.status.idle": "2021-11-25T00:25:03.020630Z",
     "shell.execute_reply": "2021-11-25T00:25:03.021084Z"
    },
    "papermill": {
     "duration": 0.039208,
     "end_time": "2021-11-25T00:25:03.021349",
     "exception": false,
     "start_time": "2021-11-25T00:25:02.982141",
     "status": "completed"
    },
    "tags": []
   },
   "outputs": [],
   "source": [
    "#hide\n",
    "def get_frame(name):\n",
    "    url = (\n",
    "        'https://raw.githubusercontent.com/CSSEGISandData/COVID-19/master/csse_covid_19_data/'\n",
    "        f'csse_covid_19_time_series/time_series_covid19_{name}_global.csv')\n",
    "    df = pd.read_csv(url)\n",
    "    # rename countries\n",
    "    df['Country/Region'] = df['Country/Region'].replace(mapping['replace.country'])\n",
    "    return df"
   ]
  },
  {
   "cell_type": "code",
   "execution_count": 8,
   "id": "affiliated-characterization",
   "metadata": {
    "execution": {
     "iopub.execute_input": "2021-11-25T00:25:03.105995Z",
     "iopub.status.busy": "2021-11-25T00:25:03.105373Z",
     "iopub.status.idle": "2021-11-25T00:25:03.108403Z",
     "shell.execute_reply": "2021-11-25T00:25:03.107885Z"
    },
    "papermill": {
     "duration": 0.049856,
     "end_time": "2021-11-25T00:25:03.108559",
     "exception": false,
     "start_time": "2021-11-25T00:25:03.058703",
     "status": "completed"
    },
    "tags": []
   },
   "outputs": [],
   "source": [
    "#hide\n",
    "def get_dates(df):\n",
    "    dt_cols = df.columns[~df.columns.isin(['Province/State', 'Country/Region', 'Lat', 'Long'])]\n",
    "    LAST_DATE_I = -1\n",
    "    # sometimes last column may be empty, then go backwards\n",
    "    for i in range(-1, -len(dt_cols), -1):\n",
    "        if not df[dt_cols[i]].fillna(0).eq(0).all():\n",
    "            LAST_DATE_I = i\n",
    "            break\n",
    "    return LAST_DATE_I, dt_cols"
   ]
  },
  {
   "cell_type": "code",
   "execution_count": 9,
   "id": "recent-optimization",
   "metadata": {
    "execution": {
     "iopub.execute_input": "2021-11-25T00:25:03.191754Z",
     "iopub.status.busy": "2021-11-25T00:25:03.191001Z",
     "iopub.status.idle": "2021-11-25T00:25:03.627207Z",
     "shell.execute_reply": "2021-11-25T00:25:03.625929Z"
    },
    "papermill": {
     "duration": 0.482203,
     "end_time": "2021-11-25T00:25:03.627359",
     "exception": false,
     "start_time": "2021-11-25T00:25:03.145156",
     "status": "completed"
    },
    "tags": []
   },
   "outputs": [],
   "source": [
    "#hide\n",
    "COL_REGION = 'Country/Region'\n",
    "# Confirmed, Recovered, Deaths\n",
    "df = get_frame('confirmed')\n",
    "# dft_: timeseries, dfc_: today country agg\n",
    "dft_cases = df\n",
    "dft_deaths = get_frame('deaths')\n",
    "dft_recovered = get_frame('recovered')\n",
    "LAST_DATE_I, dt_cols = get_dates(df)"
   ]
  },
  {
   "cell_type": "code",
   "execution_count": 10,
   "id": "absolute-copper",
   "metadata": {
    "execution": {
     "iopub.execute_input": "2021-11-25T00:25:03.701852Z",
     "iopub.status.busy": "2021-11-25T00:25:03.701009Z",
     "iopub.status.idle": "2021-11-25T00:25:03.704368Z",
     "shell.execute_reply": "2021-11-25T00:25:03.704791Z"
    },
    "papermill": {
     "duration": 0.041281,
     "end_time": "2021-11-25T00:25:03.704920",
     "exception": false,
     "start_time": "2021-11-25T00:25:03.663639",
     "status": "completed"
    },
    "tags": []
   },
   "outputs": [],
   "source": [
    "#hide\n",
    "LAST_DATE_I, dt_cols = get_dates(df)\n",
    "dt_today =dt_cols[LAST_DATE_I]\n",
    "# dt_5day = dt_cols[LAST_DATE_I - 5]\n",
    "dt_yday = dt_cols[LAST_DATE_I - 1]"
   ]
  },
  {
   "cell_type": "code",
   "execution_count": 11,
   "id": "restricted-sheriff",
   "metadata": {
    "execution": {
     "iopub.execute_input": "2021-11-25T00:25:03.792401Z",
     "iopub.status.busy": "2021-11-25T00:25:03.791809Z",
     "iopub.status.idle": "2021-11-25T00:25:03.797352Z",
     "shell.execute_reply": "2021-11-25T00:25:03.797915Z"
    },
    "papermill": {
     "duration": 0.059586,
     "end_time": "2021-11-25T00:25:03.798047",
     "exception": false,
     "start_time": "2021-11-25T00:25:03.738461",
     "status": "completed"
    },
    "tags": []
   },
   "outputs": [],
   "source": [
    "#hide\n",
    "dfc_cases = dft_cases.groupby(COL_REGION)[dt_today].sum()\n",
    "dfc_deaths = dft_deaths.groupby(COL_REGION)[dt_today].sum()\n",
    "# dfp_cases = dft_cases.groupby(COL_REGION)[dt_5day].sum()\n",
    "# dfp_deaths = dft_deaths.groupby(COL_REGION)[dt_5day].sum()\n",
    "dfp_cases = dft_cases.groupby(COL_REGION)[dt_yday].sum()\n",
    "dfp_deaths = dft_deaths.groupby(COL_REGION)[dt_yday].sum()"
   ]
  },
  {
   "cell_type": "code",
   "execution_count": 12,
   "id": "deluxe-hepatitis",
   "metadata": {
    "execution": {
     "iopub.execute_input": "2021-11-25T00:25:03.871034Z",
     "iopub.status.busy": "2021-11-25T00:25:03.870154Z",
     "iopub.status.idle": "2021-11-25T00:25:03.875814Z",
     "shell.execute_reply": "2021-11-25T00:25:03.876377Z"
    },
    "papermill": {
     "duration": 0.045417,
     "end_time": "2021-11-25T00:25:03.876500",
     "exception": false,
     "start_time": "2021-11-25T00:25:03.831083",
     "status": "completed"
    },
    "tags": []
   },
   "outputs": [],
   "source": [
    "#hide\n",
    "df_table = (pd.DataFrame(dict(Cases = dfc_cases, Deaths = dfc_deaths, PCases = dfp_cases, PDeaths = dfp_deaths))\n",
    "            .sort_values(by = ['Cases','Deaths'], ascending = [False, False])\n",
    "            .reset_index())"
   ]
  },
  {
   "cell_type": "code",
   "execution_count": 13,
   "id": "educational-chancellor",
   "metadata": {
    "execution": {
     "iopub.execute_input": "2021-11-25T00:25:03.958183Z",
     "iopub.status.busy": "2021-11-25T00:25:03.957641Z",
     "iopub.status.idle": "2021-11-25T00:25:03.975783Z",
     "shell.execute_reply": "2021-11-25T00:25:03.975321Z"
    },
    "papermill": {
     "duration": 0.065231,
     "end_time": "2021-11-25T00:25:03.975896",
     "exception": false,
     "start_time": "2021-11-25T00:25:03.910665",
     "status": "completed"
    },
    "tags": []
   },
   "outputs": [
    {
     "data": {
      "text/html": [
       "<div>\n",
       "<style scoped>\n",
       "    .dataframe tbody tr th:only-of-type {\n",
       "        vertical-align: middle;\n",
       "    }\n",
       "\n",
       "    .dataframe tbody tr th {\n",
       "        vertical-align: top;\n",
       "    }\n",
       "\n",
       "    .dataframe thead th {\n",
       "        text-align: right;\n",
       "    }\n",
       "</style>\n",
       "<table border=\"1\" class=\"dataframe\">\n",
       "  <thead>\n",
       "    <tr style=\"text-align: right;\">\n",
       "      <th></th>\n",
       "      <th>Country/Region</th>\n",
       "      <th>Cases</th>\n",
       "      <th>Deaths</th>\n",
       "      <th>PCases</th>\n",
       "      <th>PDeaths</th>\n",
       "      <th>Cases (+)</th>\n",
       "      <th>Deaths (+)</th>\n",
       "      <th>Fatality Rate</th>\n",
       "      <th>Continent</th>\n",
       "    </tr>\n",
       "  </thead>\n",
       "  <tbody>\n",
       "    <tr>\n",
       "      <th>0</th>\n",
       "      <td>US</td>\n",
       "      <td>47980780</td>\n",
       "      <td>773770</td>\n",
       "      <td>47888171</td>\n",
       "      <td>772344</td>\n",
       "      <td>92609</td>\n",
       "      <td>1426</td>\n",
       "      <td>1.61</td>\n",
       "      <td>North America</td>\n",
       "    </tr>\n",
       "    <tr>\n",
       "      <th>1</th>\n",
       "      <td>India</td>\n",
       "      <td>34535763</td>\n",
       "      <td>466584</td>\n",
       "      <td>34526480</td>\n",
       "      <td>466147</td>\n",
       "      <td>9283</td>\n",
       "      <td>437</td>\n",
       "      <td>1.35</td>\n",
       "      <td>Asia</td>\n",
       "    </tr>\n",
       "    <tr>\n",
       "      <th>2</th>\n",
       "      <td>Brazil</td>\n",
       "      <td>22030182</td>\n",
       "      <td>613066</td>\n",
       "      <td>22019870</td>\n",
       "      <td>612782</td>\n",
       "      <td>10312</td>\n",
       "      <td>284</td>\n",
       "      <td>2.78</td>\n",
       "      <td>South America</td>\n",
       "    </tr>\n",
       "    <tr>\n",
       "      <th>3</th>\n",
       "      <td>United Kingdom</td>\n",
       "      <td>9985879</td>\n",
       "      <td>144579</td>\n",
       "      <td>9942859</td>\n",
       "      <td>144414</td>\n",
       "      <td>43020</td>\n",
       "      <td>165</td>\n",
       "      <td>1.45</td>\n",
       "      <td>Europe</td>\n",
       "    </tr>\n",
       "    <tr>\n",
       "      <th>4</th>\n",
       "      <td>Russia</td>\n",
       "      <td>9238330</td>\n",
       "      <td>261526</td>\n",
       "      <td>9205431</td>\n",
       "      <td>260319</td>\n",
       "      <td>32899</td>\n",
       "      <td>1207</td>\n",
       "      <td>2.83</td>\n",
       "      <td>Europe</td>\n",
       "    </tr>\n",
       "  </tbody>\n",
       "</table>\n",
       "</div>"
      ],
      "text/plain": [
       "   Country/Region     Cases  Deaths    PCases  PDeaths  Cases (+)  Deaths (+)  \\\n",
       "0              US  47980780  773770  47888171   772344      92609        1426   \n",
       "1           India  34535763  466584  34526480   466147       9283         437   \n",
       "2          Brazil  22030182  613066  22019870   612782      10312         284   \n",
       "3  United Kingdom   9985879  144579   9942859   144414      43020         165   \n",
       "4          Russia   9238330  261526   9205431   260319      32899        1207   \n",
       "\n",
       "   Fatality Rate      Continent  \n",
       "0           1.61  North America  \n",
       "1           1.35           Asia  \n",
       "2           2.78  South America  \n",
       "3           1.45         Europe  \n",
       "4           2.83         Europe  "
      ]
     },
     "execution_count": 13,
     "metadata": {},
     "output_type": "execute_result"
    }
   ],
   "source": [
    "#hide\n",
    "for c in 'Cases, Deaths'.split(', '):\n",
    "    df_table[f'{c} (+)'] = (df_table[c] - df_table[f'P{c}']).clip(0)\n",
    "    #Clip ça veut dire, les chiffres negatif sont interdit\n",
    "df_table['Fatality Rate'] = (100* df_table['Deaths']/ df_table['Cases']).round(2)\n",
    "df_table['Continent'] = df_table['Country/Region'].map(mapping['map.continent'])\n",
    "df_table.head(5)"
   ]
  },
  {
   "cell_type": "code",
   "execution_count": 14,
   "id": "aboriginal-bulgaria",
   "metadata": {
    "execution": {
     "iopub.execute_input": "2021-11-25T00:25:04.054308Z",
     "iopub.status.busy": "2021-11-25T00:25:04.053609Z",
     "iopub.status.idle": "2021-11-25T00:25:04.056399Z",
     "shell.execute_reply": "2021-11-25T00:25:04.056952Z"
    },
    "papermill": {
     "duration": 0.046687,
     "end_time": "2021-11-25T00:25:04.057158",
     "exception": false,
     "start_time": "2021-11-25T00:25:04.010471",
     "status": "completed"
    },
    "tags": []
   },
   "outputs": [],
   "source": [
    "#hide\n",
    "#delete problematic countries from table\n",
    "df_table = df_table[~df_table['Country/Region'].isin(['Cape Verde', 'Cruise Ship', 'Kosovo'])]"
   ]
  },
  {
   "cell_type": "code",
   "execution_count": 15,
   "id": "fantastic-effect",
   "metadata": {
    "execution": {
     "iopub.execute_input": "2021-11-25T00:25:04.139311Z",
     "iopub.status.busy": "2021-11-25T00:25:04.138597Z",
     "iopub.status.idle": "2021-11-25T00:25:04.160632Z",
     "shell.execute_reply": "2021-11-25T00:25:04.160171Z"
    },
    "papermill": {
     "duration": 0.066279,
     "end_time": "2021-11-25T00:25:04.160745",
     "exception": false,
     "start_time": "2021-11-25T00:25:04.094466",
     "status": "completed"
    },
    "tags": []
   },
   "outputs": [
    {
     "data": {
      "text/html": [
       "<div>\n",
       "<style scoped>\n",
       "    .dataframe tbody tr th:only-of-type {\n",
       "        vertical-align: middle;\n",
       "    }\n",
       "\n",
       "    .dataframe tbody tr th {\n",
       "        vertical-align: top;\n",
       "    }\n",
       "\n",
       "    .dataframe thead th {\n",
       "        text-align: right;\n",
       "    }\n",
       "</style>\n",
       "<table border=\"1\" class=\"dataframe\">\n",
       "  <thead>\n",
       "    <tr style=\"text-align: right;\">\n",
       "      <th></th>\n",
       "      <th>Country/Region</th>\n",
       "      <th>Cases</th>\n",
       "      <th>Deaths</th>\n",
       "      <th>PCases</th>\n",
       "      <th>PDeaths</th>\n",
       "      <th>Cases (+)</th>\n",
       "      <th>Deaths (+)</th>\n",
       "      <th>Fatality Rate</th>\n",
       "      <th>Continent</th>\n",
       "    </tr>\n",
       "  </thead>\n",
       "  <tbody>\n",
       "    <tr>\n",
       "      <th>0</th>\n",
       "      <td>US</td>\n",
       "      <td>47980780</td>\n",
       "      <td>773770</td>\n",
       "      <td>47888171</td>\n",
       "      <td>772344</td>\n",
       "      <td>92609</td>\n",
       "      <td>1426</td>\n",
       "      <td>1.6</td>\n",
       "      <td>North America</td>\n",
       "    </tr>\n",
       "    <tr>\n",
       "      <th>1</th>\n",
       "      <td>India</td>\n",
       "      <td>34535763</td>\n",
       "      <td>466584</td>\n",
       "      <td>34526480</td>\n",
       "      <td>466147</td>\n",
       "      <td>9283</td>\n",
       "      <td>437</td>\n",
       "      <td>1.4</td>\n",
       "      <td>Asia</td>\n",
       "    </tr>\n",
       "    <tr>\n",
       "      <th>2</th>\n",
       "      <td>Brazil</td>\n",
       "      <td>22030182</td>\n",
       "      <td>613066</td>\n",
       "      <td>22019870</td>\n",
       "      <td>612782</td>\n",
       "      <td>10312</td>\n",
       "      <td>284</td>\n",
       "      <td>2.8</td>\n",
       "      <td>South America</td>\n",
       "    </tr>\n",
       "    <tr>\n",
       "      <th>3</th>\n",
       "      <td>United Kingdom</td>\n",
       "      <td>9985879</td>\n",
       "      <td>144579</td>\n",
       "      <td>9942859</td>\n",
       "      <td>144414</td>\n",
       "      <td>43020</td>\n",
       "      <td>165</td>\n",
       "      <td>1.4</td>\n",
       "      <td>Europe</td>\n",
       "    </tr>\n",
       "    <tr>\n",
       "      <th>4</th>\n",
       "      <td>Russia</td>\n",
       "      <td>9238330</td>\n",
       "      <td>261526</td>\n",
       "      <td>9205431</td>\n",
       "      <td>260319</td>\n",
       "      <td>32899</td>\n",
       "      <td>1207</td>\n",
       "      <td>2.8</td>\n",
       "      <td>Europe</td>\n",
       "    </tr>\n",
       "  </tbody>\n",
       "</table>\n",
       "</div>"
      ],
      "text/plain": [
       "   Country/Region     Cases  Deaths    PCases  PDeaths  Cases (+)  Deaths (+)  \\\n",
       "0              US  47980780  773770  47888171   772344      92609        1426   \n",
       "1           India  34535763  466584  34526480   466147       9283         437   \n",
       "2          Brazil  22030182  613066  22019870   612782      10312         284   \n",
       "3  United Kingdom   9985879  144579   9942859   144414      43020         165   \n",
       "4          Russia   9238330  261526   9205431   260319      32899        1207   \n",
       "\n",
       "   Fatality Rate      Continent  \n",
       "0            1.6  North America  \n",
       "1            1.4           Asia  \n",
       "2            2.8  South America  \n",
       "3            1.4         Europe  \n",
       "4            2.8         Europe  "
      ]
     },
     "execution_count": 15,
     "metadata": {},
     "output_type": "execute_result"
    }
   ],
   "source": [
    "#hide\n",
    "df_table = (pd.DataFrame(dict(Cases=dfc_cases, Deaths=dfc_deaths, PCases=dfp_cases, PDeaths=dfp_deaths))\n",
    "             .sort_values(by=['Cases', 'Deaths'], ascending=[False, False])\n",
    "             .reset_index())\n",
    "df_table.rename(columns={'index': 'Country/Region'}, inplace=True)\n",
    "for c in 'Cases, Deaths'.split(', '):\n",
    "    df_table[f'{c} (+)'] = (df_table[c] - df_table[f'P{c}']).clip(0)  # DATA BUG\n",
    "df_table['Fatality Rate'] = (100 * df_table['Deaths'] / df_table['Cases']).round(1)\n",
    "df_table['Continent'] = df_table['Country/Region'].map(mapping['map.continent'])\n",
    "df_table.head(5)"
   ]
  },
  {
   "cell_type": "code",
   "execution_count": 16,
   "id": "fewer-occasion",
   "metadata": {
    "execution": {
     "iopub.execute_input": "2021-11-25T00:25:04.236198Z",
     "iopub.status.busy": "2021-11-25T00:25:04.235615Z",
     "iopub.status.idle": "2021-11-25T00:25:04.238523Z",
     "shell.execute_reply": "2021-11-25T00:25:04.239038Z"
    },
    "papermill": {
     "duration": 0.04247,
     "end_time": "2021-11-25T00:25:04.239160",
     "exception": false,
     "start_time": "2021-11-25T00:25:04.196690",
     "status": "completed"
    },
    "tags": []
   },
   "outputs": [],
   "source": [
    "#hide\n",
    "#delete problematic countries from table\n",
    "df_table = df_table[~df_table['Country/Region'].isin(['Cape Verde', 'Cruise Ship', 'Kosovo'])]"
   ]
  },
  {
   "cell_type": "code",
   "execution_count": 17,
   "id": "related-center",
   "metadata": {
    "execution": {
     "iopub.execute_input": "2021-11-25T00:25:04.334097Z",
     "iopub.status.busy": "2021-11-25T00:25:04.333330Z",
     "iopub.status.idle": "2021-11-25T00:25:04.336285Z",
     "shell.execute_reply": "2021-11-25T00:25:04.335358Z"
    },
    "papermill": {
     "duration": 0.060542,
     "end_time": "2021-11-25T00:25:04.336450",
     "exception": false,
     "start_time": "2021-11-25T00:25:04.275908",
     "status": "completed"
    },
    "tags": []
   },
   "outputs": [],
   "source": [
    "#hide\n",
    "metrics = [df_table.columns[index] for index in [1,2,5,6]]\n",
    "# s_china = df_table[df_table['Country/Region'].eq('China')][metrics].sum().add_prefix('China ')\n",
    "s_us = df_table[df_table['Country/Region'].eq('US')][metrics].sum().add_prefix('US ')\n",
    "s_eu = df_table[df_table['Continent'].eq('Europe')][metrics].sum().add_prefix('EU ')\n",
    "s_ind = df_table[df_table['Country/Region'].eq('India')][metrics].sum().add_prefix('India ')\n",
    "summary = {'updated': pd.to_datetime(dt_today), 'since': pd.to_datetime(dt_yday)}\n",
    "summary = {'updated': pd.to_datetime(dt_today), 'since': pd.to_datetime(dt_yday)}\n",
    "summary = {**summary, **df_table[metrics].sum(), **s_ind, **s_us, **s_eu}"
   ]
  },
  {
   "cell_type": "code",
   "execution_count": 18,
   "id": "engaging-syndrome",
   "metadata": {
    "execution": {
     "iopub.execute_input": "2021-11-25T00:25:04.412682Z",
     "iopub.status.busy": "2021-11-25T00:25:04.411911Z",
     "iopub.status.idle": "2021-11-25T00:25:04.426628Z",
     "shell.execute_reply": "2021-11-25T00:25:04.427619Z"
    },
    "papermill": {
     "duration": 0.054102,
     "end_time": "2021-11-25T00:25:04.427814",
     "exception": false,
     "start_time": "2021-11-25T00:25:04.373712",
     "status": "completed"
    },
    "tags": []
   },
   "outputs": [],
   "source": [
    "#hide\n",
    "dft_ct_new_cases = dft_cases.groupby(COL_REGION)[dt_cols].sum().diff(axis=1).fillna(0).astype(int)"
   ]
  },
  {
   "cell_type": "code",
   "execution_count": 19,
   "id": "neutral-assignment",
   "metadata": {
    "execution": {
     "iopub.execute_input": "2021-11-25T00:25:04.505860Z",
     "iopub.status.busy": "2021-11-25T00:25:04.505331Z",
     "iopub.status.idle": "2021-11-25T00:25:04.507896Z",
     "shell.execute_reply": "2021-11-25T00:25:04.507451Z"
    },
    "papermill": {
     "duration": 0.044636,
     "end_time": "2021-11-25T00:25:04.508002",
     "exception": false,
     "start_time": "2021-11-25T00:25:04.463366",
     "status": "completed"
    },
    "tags": []
   },
   "outputs": [],
   "source": [
    "#hide\n",
    "everydaycases = dft_ct_new_cases.cumsum(axis=1)"
   ]
  },
  {
   "cell_type": "code",
   "execution_count": 20,
   "id": "parliamentary-calgary",
   "metadata": {
    "execution": {
     "iopub.execute_input": "2021-11-25T00:25:04.581110Z",
     "iopub.status.busy": "2021-11-25T00:25:04.580455Z",
     "iopub.status.idle": "2021-11-25T00:25:05.272618Z",
     "shell.execute_reply": "2021-11-25T00:25:05.273178Z"
    },
    "papermill": {
     "duration": 0.731248,
     "end_time": "2021-11-25T00:25:05.273435",
     "exception": false,
     "start_time": "2021-11-25T00:25:04.542187",
     "status": "completed"
    },
    "tags": []
   },
   "outputs": [],
   "source": [
    "#hide\n",
    "import pandas as pd\n",
    "import matplotlib.pyplot as plt\n",
    "import matplotlib.ticker as ticker\n",
    "import matplotlib.animation as animation\n",
    "from IPython.display import HTML"
   ]
  },
  {
   "cell_type": "code",
   "execution_count": 21,
   "id": "lasting-extraction",
   "metadata": {
    "execution": {
     "iopub.execute_input": "2021-11-25T00:25:05.357816Z",
     "iopub.status.busy": "2021-11-25T00:25:05.356940Z",
     "iopub.status.idle": "2021-11-25T00:25:05.363698Z",
     "shell.execute_reply": "2021-11-25T00:25:05.363232Z"
    },
    "papermill": {
     "duration": 0.052582,
     "end_time": "2021-11-25T00:25:05.363820",
     "exception": false,
     "start_time": "2021-11-25T00:25:05.311238",
     "status": "completed"
    },
    "tags": []
   },
   "outputs": [],
   "source": [
    "#hide\n",
    "t = everydaycases.stack()"
   ]
  },
  {
   "cell_type": "code",
   "execution_count": 22,
   "id": "premier-sleeve",
   "metadata": {
    "execution": {
     "iopub.execute_input": "2021-11-25T00:25:05.440445Z",
     "iopub.status.busy": "2021-11-25T00:25:05.439652Z",
     "iopub.status.idle": "2021-11-25T00:25:05.449707Z",
     "shell.execute_reply": "2021-11-25T00:25:05.449146Z"
    },
    "papermill": {
     "duration": 0.049672,
     "end_time": "2021-11-25T00:25:05.449827",
     "exception": false,
     "start_time": "2021-11-25T00:25:05.400155",
     "status": "completed"
    },
    "tags": []
   },
   "outputs": [],
   "source": [
    "#hide\n",
    "g = t.reset_index(['Country/Region'])"
   ]
  },
  {
   "cell_type": "code",
   "execution_count": 23,
   "id": "distributed-pittsburgh",
   "metadata": {
    "execution": {
     "iopub.execute_input": "2021-11-25T00:25:05.526199Z",
     "iopub.status.busy": "2021-11-25T00:25:05.525623Z",
     "iopub.status.idle": "2021-11-25T00:25:05.527844Z",
     "shell.execute_reply": "2021-11-25T00:25:05.529084Z"
    },
    "papermill": {
     "duration": 0.041966,
     "end_time": "2021-11-25T00:25:05.529240",
     "exception": false,
     "start_time": "2021-11-25T00:25:05.487274",
     "status": "completed"
    },
    "tags": []
   },
   "outputs": [],
   "source": [
    "#hide\n",
    "g.index.name = 'date'"
   ]
  },
  {
   "cell_type": "code",
   "execution_count": 24,
   "id": "naked-donor",
   "metadata": {
    "execution": {
     "iopub.execute_input": "2021-11-25T00:25:05.605827Z",
     "iopub.status.busy": "2021-11-25T00:25:05.605251Z",
     "iopub.status.idle": "2021-11-25T00:25:05.607441Z",
     "shell.execute_reply": "2021-11-25T00:25:05.606979Z"
    },
    "papermill": {
     "duration": 0.041509,
     "end_time": "2021-11-25T00:25:05.607560",
     "exception": false,
     "start_time": "2021-11-25T00:25:05.566051",
     "status": "completed"
    },
    "tags": []
   },
   "outputs": [],
   "source": [
    "# #hide\n",
    "# g = g.reset_index(['date'])"
   ]
  },
  {
   "cell_type": "code",
   "execution_count": 25,
   "id": "incomplete-mustang",
   "metadata": {
    "execution": {
     "iopub.execute_input": "2021-11-25T00:25:05.688146Z",
     "iopub.status.busy": "2021-11-25T00:25:05.687481Z",
     "iopub.status.idle": "2021-11-25T00:25:05.691886Z",
     "shell.execute_reply": "2021-11-25T00:25:05.691411Z"
    },
    "papermill": {
     "duration": 0.049564,
     "end_time": "2021-11-25T00:25:05.692002",
     "exception": false,
     "start_time": "2021-11-25T00:25:05.642438",
     "status": "completed"
    },
    "tags": []
   },
   "outputs": [],
   "source": [
    "#hide\n",
    "# g.head()"
   ]
  },
  {
   "cell_type": "code",
   "execution_count": 26,
   "id": "specific-kruger",
   "metadata": {
    "execution": {
     "iopub.execute_input": "2021-11-25T00:25:05.776699Z",
     "iopub.status.busy": "2021-11-25T00:25:05.775951Z",
     "iopub.status.idle": "2021-11-25T00:25:05.778887Z",
     "shell.execute_reply": "2021-11-25T00:25:05.779424Z"
    },
    "papermill": {
     "duration": 0.049837,
     "end_time": "2021-11-25T00:25:05.780080",
     "exception": false,
     "start_time": "2021-11-25T00:25:05.730243",
     "status": "completed"
    },
    "tags": []
   },
   "outputs": [],
   "source": [
    "#hide\n",
    "# g.columns = ['date','country','cases']"
   ]
  },
  {
   "cell_type": "code",
   "execution_count": 27,
   "id": "tender-conversion",
   "metadata": {
    "execution": {
     "iopub.execute_input": "2021-11-25T00:25:05.867727Z",
     "iopub.status.busy": "2021-11-25T00:25:05.867094Z",
     "iopub.status.idle": "2021-11-25T00:25:05.869758Z",
     "shell.execute_reply": "2021-11-25T00:25:05.869061Z"
    },
    "papermill": {
     "duration": 0.048373,
     "end_time": "2021-11-25T00:25:05.869887",
     "exception": false,
     "start_time": "2021-11-25T00:25:05.821514",
     "status": "completed"
    },
    "tags": []
   },
   "outputs": [],
   "source": [
    "#hide\n",
    "# g['continent'] = g.country"
   ]
  },
  {
   "cell_type": "code",
   "execution_count": 28,
   "id": "substantial-wilderness",
   "metadata": {
    "execution": {
     "iopub.execute_input": "2021-11-25T00:25:05.952691Z",
     "iopub.status.busy": "2021-11-25T00:25:05.952088Z",
     "iopub.status.idle": "2021-11-25T00:25:05.953981Z",
     "shell.execute_reply": "2021-11-25T00:25:05.954562Z"
    },
    "papermill": {
     "duration": 0.043415,
     "end_time": "2021-11-25T00:25:05.954716",
     "exception": false,
     "start_time": "2021-11-25T00:25:05.911301",
     "status": "completed"
    },
    "tags": []
   },
   "outputs": [],
   "source": [
    "#hide\n",
    "# cols = list(g.columns.values)"
   ]
  },
  {
   "cell_type": "code",
   "execution_count": 29,
   "id": "solved-farming",
   "metadata": {
    "execution": {
     "iopub.execute_input": "2021-11-25T00:25:06.033013Z",
     "iopub.status.busy": "2021-11-25T00:25:06.032352Z",
     "iopub.status.idle": "2021-11-25T00:25:06.035148Z",
     "shell.execute_reply": "2021-11-25T00:25:06.034621Z"
    },
    "papermill": {
     "duration": 0.044723,
     "end_time": "2021-11-25T00:25:06.035264",
     "exception": false,
     "start_time": "2021-11-25T00:25:05.990541",
     "status": "completed"
    },
    "tags": []
   },
   "outputs": [],
   "source": [
    "#hide\n",
    "# cols.insert(0, cols.pop())"
   ]
  },
  {
   "cell_type": "code",
   "execution_count": 30,
   "id": "executed-adoption",
   "metadata": {
    "execution": {
     "iopub.execute_input": "2021-11-25T00:25:06.116974Z",
     "iopub.status.busy": "2021-11-25T00:25:06.116394Z",
     "iopub.status.idle": "2021-11-25T00:25:06.118589Z",
     "shell.execute_reply": "2021-11-25T00:25:06.118125Z"
    },
    "papermill": {
     "duration": 0.045939,
     "end_time": "2021-11-25T00:25:06.118720",
     "exception": false,
     "start_time": "2021-11-25T00:25:06.072781",
     "status": "completed"
    },
    "tags": []
   },
   "outputs": [],
   "source": [
    "#hide\n",
    "# g = g[cols]"
   ]
  },
  {
   "cell_type": "code",
   "execution_count": 31,
   "id": "subject-dublin",
   "metadata": {
    "execution": {
     "iopub.execute_input": "2021-11-25T00:25:06.199479Z",
     "iopub.status.busy": "2021-11-25T00:25:06.198586Z",
     "iopub.status.idle": "2021-11-25T00:25:06.200384Z",
     "shell.execute_reply": "2021-11-25T00:25:06.200977Z"
    },
    "papermill": {
     "duration": 0.04158,
     "end_time": "2021-11-25T00:25:06.201164",
     "exception": false,
     "start_time": "2021-11-25T00:25:06.159584",
     "status": "completed"
    },
    "tags": []
   },
   "outputs": [],
   "source": [
    "#hide\n",
    "# g['continent'] = g['continent'].map(mapping['map.continent'])"
   ]
  },
  {
   "cell_type": "code",
   "execution_count": 32,
   "id": "freelance-scout",
   "metadata": {
    "execution": {
     "iopub.execute_input": "2021-11-25T00:25:06.284112Z",
     "iopub.status.busy": "2021-11-25T00:25:06.283347Z",
     "iopub.status.idle": "2021-11-25T00:25:06.285495Z",
     "shell.execute_reply": "2021-11-25T00:25:06.286129Z"
    },
    "papermill": {
     "duration": 0.046767,
     "end_time": "2021-11-25T00:25:06.286262",
     "exception": false,
     "start_time": "2021-11-25T00:25:06.239495",
     "status": "completed"
    },
    "tags": []
   },
   "outputs": [],
   "source": [
    "#hide\n",
    "# g.head()"
   ]
  },
  {
   "cell_type": "code",
   "execution_count": 33,
   "id": "limited-engine",
   "metadata": {
    "execution": {
     "iopub.execute_input": "2021-11-25T00:25:06.361437Z",
     "iopub.status.busy": "2021-11-25T00:25:06.360835Z",
     "iopub.status.idle": "2021-11-25T00:25:06.366076Z",
     "shell.execute_reply": "2021-11-25T00:25:06.365403Z"
    },
    "papermill": {
     "duration": 0.042956,
     "end_time": "2021-11-25T00:25:06.366234",
     "exception": false,
     "start_time": "2021-11-25T00:25:06.323278",
     "status": "completed"
    },
    "tags": []
   },
   "outputs": [],
   "source": [
    "# hide\n",
    "# g['date'] = g['date'].astype('datetime64[ns]')"
   ]
  },
  {
   "cell_type": "code",
   "execution_count": 34,
   "id": "sophisticated-supervisor",
   "metadata": {
    "execution": {
     "iopub.execute_input": "2021-11-25T00:25:06.442275Z",
     "iopub.status.busy": "2021-11-25T00:25:06.441683Z",
     "iopub.status.idle": "2021-11-25T00:25:06.443882Z",
     "shell.execute_reply": "2021-11-25T00:25:06.444326Z"
    },
    "papermill": {
     "duration": 0.037734,
     "end_time": "2021-11-25T00:25:06.444479",
     "exception": false,
     "start_time": "2021-11-25T00:25:06.406745",
     "status": "completed"
    },
    "tags": []
   },
   "outputs": [],
   "source": [
    "#hide\n",
    "# g['date'] = g.date.dt.dayofyear"
   ]
  },
  {
   "cell_type": "code",
   "execution_count": 35,
   "id": "inside-dubai",
   "metadata": {
    "execution": {
     "iopub.execute_input": "2021-11-25T00:25:06.556636Z",
     "iopub.status.busy": "2021-11-25T00:25:06.555989Z",
     "iopub.status.idle": "2021-11-25T00:25:06.560137Z",
     "shell.execute_reply": "2021-11-25T00:25:06.559334Z"
    },
    "papermill": {
     "duration": 0.080598,
     "end_time": "2021-11-25T00:25:06.560259",
     "exception": false,
     "start_time": "2021-11-25T00:25:06.479661",
     "status": "completed"
    },
    "tags": []
   },
   "outputs": [],
   "source": [
    "#hide\n",
    "# g = g.rename(columns= {'continent':'group','country':'name','cases':'value'})"
   ]
  },
  {
   "cell_type": "code",
   "execution_count": 36,
   "id": "fleet-motorcycle",
   "metadata": {
    "execution": {
     "iopub.execute_input": "2021-11-25T00:25:06.656701Z",
     "iopub.status.busy": "2021-11-25T00:25:06.655839Z",
     "iopub.status.idle": "2021-11-25T00:25:06.659287Z",
     "shell.execute_reply": "2021-11-25T00:25:06.660021Z"
    },
    "papermill": {
     "duration": 0.05702,
     "end_time": "2021-11-25T00:25:06.660278",
     "exception": false,
     "start_time": "2021-11-25T00:25:06.603258",
     "status": "completed"
    },
    "tags": []
   },
   "outputs": [],
   "source": [
    "#hide\n",
    "# cols = ['name','group','day','value']"
   ]
  },
  {
   "cell_type": "code",
   "execution_count": 37,
   "id": "continued-sleeping",
   "metadata": {
    "execution": {
     "iopub.execute_input": "2021-11-25T00:25:06.743360Z",
     "iopub.status.busy": "2021-11-25T00:25:06.742821Z",
     "iopub.status.idle": "2021-11-25T00:25:06.746781Z",
     "shell.execute_reply": "2021-11-25T00:25:06.746323Z"
    },
    "papermill": {
     "duration": 0.047699,
     "end_time": "2021-11-25T00:25:06.746896",
     "exception": false,
     "start_time": "2021-11-25T00:25:06.699197",
     "status": "completed"
    },
    "tags": []
   },
   "outputs": [],
   "source": [
    "#hide\n",
    "# g.rename(columns= {'date':'day'},inplace = True)"
   ]
  },
  {
   "cell_type": "code",
   "execution_count": 38,
   "id": "major-fight",
   "metadata": {
    "execution": {
     "iopub.execute_input": "2021-11-25T00:25:06.823566Z",
     "iopub.status.busy": "2021-11-25T00:25:06.822963Z",
     "iopub.status.idle": "2021-11-25T00:25:06.825063Z",
     "shell.execute_reply": "2021-11-25T00:25:06.824350Z"
    },
    "papermill": {
     "duration": 0.041799,
     "end_time": "2021-11-25T00:25:06.825181",
     "exception": false,
     "start_time": "2021-11-25T00:25:06.783382",
     "status": "completed"
    },
    "tags": []
   },
   "outputs": [],
   "source": [
    "#hide\n",
    "# g = g[cols]"
   ]
  },
  {
   "cell_type": "code",
   "execution_count": 39,
   "id": "structured-mobile",
   "metadata": {
    "execution": {
     "iopub.execute_input": "2021-11-25T00:25:06.899871Z",
     "iopub.status.busy": "2021-11-25T00:25:06.899326Z",
     "iopub.status.idle": "2021-11-25T00:25:06.903057Z",
     "shell.execute_reply": "2021-11-25T00:25:06.903634Z"
    },
    "papermill": {
     "duration": 0.04399,
     "end_time": "2021-11-25T00:25:06.903763",
     "exception": false,
     "start_time": "2021-11-25T00:25:06.859773",
     "status": "completed"
    },
    "tags": []
   },
   "outputs": [],
   "source": [
    "# #hide\n",
    "# g = g[g.group.notna()]"
   ]
  },
  {
   "cell_type": "code",
   "execution_count": 40,
   "id": "determined-closing",
   "metadata": {
    "execution": {
     "iopub.execute_input": "2021-11-25T00:25:06.978439Z",
     "iopub.status.busy": "2021-11-25T00:25:06.977800Z",
     "iopub.status.idle": "2021-11-25T00:25:06.980596Z",
     "shell.execute_reply": "2021-11-25T00:25:06.979911Z"
    },
    "papermill": {
     "duration": 0.0407,
     "end_time": "2021-11-25T00:25:06.980709",
     "exception": false,
     "start_time": "2021-11-25T00:25:06.940009",
     "status": "completed"
    },
    "tags": []
   },
   "outputs": [],
   "source": [
    "# #hide\n",
    "# colors = dict(zip(\n",
    "#     [\"Oceania\", \"Europe\", \"Asia\", \"South America\", \"Middle East\", \"North America\", \"Africa\"],\n",
    "#     [\"#adb0ff\", \"#ffb3ff\", \"#90d595\", \"#e48381\", \"#aafbff\", \"#f7bb5f\", \"#eafb50\"]\n",
    "# ))\n",
    "# group_lk = g.set_index('name')['group'].to_dict()"
   ]
  },
  {
   "cell_type": "code",
   "execution_count": null,
   "id": "gross-drinking",
   "metadata": {
    "papermill": {
     "duration": 0.035034,
     "end_time": "2021-11-25T00:25:07.053906",
     "exception": false,
     "start_time": "2021-11-25T00:25:07.018872",
     "status": "completed"
    },
    "tags": []
   },
   "outputs": [],
   "source": []
  },
  {
   "cell_type": "code",
   "execution_count": 41,
   "id": "subject-macintosh",
   "metadata": {
    "execution": {
     "iopub.execute_input": "2021-11-25T00:25:07.129756Z",
     "iopub.status.busy": "2021-11-25T00:25:07.129134Z",
     "iopub.status.idle": "2021-11-25T00:25:07.131489Z",
     "shell.execute_reply": "2021-11-25T00:25:07.131009Z"
    },
    "papermill": {
     "duration": 0.041786,
     "end_time": "2021-11-25T00:25:07.131603",
     "exception": false,
     "start_time": "2021-11-25T00:25:07.089817",
     "status": "completed"
    },
    "tags": []
   },
   "outputs": [],
   "source": [
    "# #hide\n",
    "# fig, ax = plt.subplots(figsize=(15, 8))\n",
    "\n",
    "# def draw_barchart(current_day):\n",
    "#     dff = g[g['day'].eq(current_day)].sort_values(by='value', ascending=True).tail(10)\n",
    "#     ax.clear()\n",
    "#     ax.barh(dff['name'], dff['value'], color=[colors[group_lk[x]] for x in dff['name']])\n",
    "#     dx = dff['value'].max() / 200\n",
    "    \n",
    "#     for i, (value, name) in enumerate(zip(dff['value'], dff['name'])):\n",
    "#         ax.text(value-dx, i,     name,           size=14, weight=600, ha='right', va='bottom')\n",
    "#         ax.text(value-dx, i-.25, group_lk[name], size=10, color='#444444', ha='right', va='baseline')\n",
    "#         ax.text(value+dx, i,     f'{value:,.0f}',  size=14, ha='left',  va='center')\n",
    "#     ax.text(1, 0.4, current_day, transform=ax.transAxes, color='#777777', size=46, ha='right', weight=800)\n",
    "#     ax.text(0, 1.06, 'Population (thousands)', transform=ax.transAxes, size=12, color='#777777')\n",
    "#     ax.xaxis.set_major_formatter(ticker.StrMethodFormatter('{x:,.0f}'))\n",
    "#     ax.xaxis.set_ticks_position('top')\n",
    "#     ax.tick_params(axis='x', colors='#777777', labelsize=12)\n",
    "#     ax.set_yticks([])\n",
    "#     ax.margins(0, 0.01)\n",
    "#     ax.grid(which='major', axis='x', linestyle='-')\n",
    "#     ax.set_axisbelow(True)\n",
    "    \n",
    "#     ax.text(0, 1.15, 'Coronavirus',\n",
    "#             transform=ax.transAxes, size=24, weight=600, ha='left', va='top')\n",
    "# #     ax.text(1, 0, 'by @pratapvardhan; credit @jburnmurdoch', transform=ax.transAxes, color='#777777', ha='right',\n",
    "# #             bbox=dict(facecolor='white', alpha=0.8, edgecolor='white'))\n",
    "#     plt.box(False)"
   ]
  },
  {
   "cell_type": "code",
   "execution_count": 42,
   "id": "sexual-wages",
   "metadata": {
    "execution": {
     "iopub.execute_input": "2021-11-25T00:25:07.205034Z",
     "iopub.status.busy": "2021-11-25T00:25:07.204480Z",
     "iopub.status.idle": "2021-11-25T00:25:07.208063Z",
     "shell.execute_reply": "2021-11-25T00:25:07.208478Z"
    },
    "papermill": {
     "duration": 0.041205,
     "end_time": "2021-11-25T00:25:07.208604",
     "exception": false,
     "start_time": "2021-11-25T00:25:07.167399",
     "status": "completed"
    },
    "tags": []
   },
   "outputs": [],
   "source": [
    "# #hide_input\n",
    "# fig, ax = plt.subplots(figsize=(15, 8))\n",
    "# animator = animation.FuncAnimation(fig, draw_barchart, frames=range(g.day.values.min(), g.day.values.max()))\n",
    "# HTML(animator.to_jshtml())\n",
    "# # or use animator.to_html5_video() or animator.save() "
   ]
  },
  {
   "cell_type": "code",
   "execution_count": null,
   "id": "australian-container",
   "metadata": {
    "papermill": {
     "duration": 0.032853,
     "end_time": "2021-11-25T00:25:07.275994",
     "exception": false,
     "start_time": "2021-11-25T00:25:07.243141",
     "status": "completed"
    },
    "tags": []
   },
   "outputs": [],
   "source": []
  },
  {
   "cell_type": "code",
   "execution_count": null,
   "id": "mediterranean-pontiac",
   "metadata": {
    "papermill": {
     "duration": 0.03521,
     "end_time": "2021-11-25T00:25:07.344290",
     "exception": false,
     "start_time": "2021-11-25T00:25:07.309080",
     "status": "completed"
    },
    "tags": []
   },
   "outputs": [],
   "source": []
  },
  {
   "cell_type": "code",
   "execution_count": null,
   "id": "aging-legislature",
   "metadata": {
    "papermill": {
     "duration": 0.038311,
     "end_time": "2021-11-25T00:25:07.424011",
     "exception": false,
     "start_time": "2021-11-25T00:25:07.385700",
     "status": "completed"
    },
    "tags": []
   },
   "outputs": [],
   "source": []
  }
 ],
 "metadata": {
  "kernelspec": {
   "display_name": "Python 3",
   "language": "python",
   "name": "python3"
  },
  "language_info": {
   "codemirror_mode": {
    "name": "ipython",
    "version": 3
   },
   "file_extension": ".py",
   "mimetype": "text/x-python",
   "name": "python",
   "nbconvert_exporter": "python",
   "pygments_lexer": "ipython3",
   "version": "3.6.15"
  },
  "papermill": {
   "duration": 7.08095,
   "end_time": "2021-11-25T00:25:07.771394",
   "environment_variables": {},
   "exception": null,
   "input_path": "2020-03-21-covid19exp.ipynb",
   "output_path": "2020-03-21-covid19exp.ipynb",
   "parameters": {},
   "start_time": "2021-11-25T00:25:00.690444",
   "version": "2.0.0"
  }
 },
 "nbformat": 4,
 "nbformat_minor": 5
}