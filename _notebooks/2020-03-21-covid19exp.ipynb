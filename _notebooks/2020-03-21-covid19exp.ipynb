{
 "cells": [
  {
   "cell_type": "markdown",
   "id": "muslim-click",
   "metadata": {
    "papermill": {
     "duration": 0.038959,
     "end_time": "2022-04-18T00:41:48.817677",
     "exception": false,
     "start_time": "2022-04-18T00:41:48.778718",
     "status": "completed"
    },
    "tags": []
   },
   "source": [
    "# COVID-19 Case Race\n",
    "> A race chart to see rising cases around the world\n",
    "\n",
    "- author: Hargun Oberoi\n",
    "- image: images/covid-overview.png\n",
    "- hide: false\n",
    "- badges: false"
   ]
  },
  {
   "cell_type": "code",
   "execution_count": 1,
   "id": "proof-material",
   "metadata": {
    "execution": {
     "iopub.execute_input": "2022-04-18T00:41:48.897954Z",
     "iopub.status.busy": "2022-04-18T00:41:48.894920Z",
     "iopub.status.idle": "2022-04-18T00:41:49.258888Z",
     "shell.execute_reply": "2022-04-18T00:41:49.258109Z"
    },
    "papermill": {
     "duration": 0.406119,
     "end_time": "2022-04-18T00:41:49.259099",
     "exception": false,
     "start_time": "2022-04-18T00:41:48.852980",
     "status": "completed"
    },
    "tags": []
   },
   "outputs": [],
   "source": [
    "#hide\n",
    "import numpy as np\n",
    "import pandas as pd\n",
    "from jinja2 import Template\n",
    "from IPython.display import HTML"
   ]
  },
  {
   "cell_type": "code",
   "execution_count": 2,
   "id": "developed-terminology",
   "metadata": {
    "execution": {
     "iopub.execute_input": "2022-04-18T00:41:49.333075Z",
     "iopub.status.busy": "2022-04-18T00:41:49.332423Z",
     "iopub.status.idle": "2022-04-18T00:41:49.334023Z",
     "shell.execute_reply": "2022-04-18T00:41:49.334525Z"
    },
    "papermill": {
     "duration": 0.040255,
     "end_time": "2022-04-18T00:41:49.334669",
     "exception": false,
     "start_time": "2022-04-18T00:41:49.294414",
     "status": "completed"
    },
    "tags": []
   },
   "outputs": [],
   "source": [
    "#hide\n",
    "\n",
    "# FETCH\n",
    "base_url = 'https://raw.githubusercontent.com/pratapvardhan/notebooks/master/covid19/'\n",
    "paths = {\n",
    "    'mapping': base_url + 'mapping_countries.csv',\n",
    "    'overview': base_url + 'overview.tpl'\n",
    "}"
   ]
  },
  {
   "cell_type": "code",
   "execution_count": 3,
   "id": "dynamic-saver",
   "metadata": {
    "execution": {
     "iopub.execute_input": "2022-04-18T00:41:49.412359Z",
     "iopub.status.busy": "2022-04-18T00:41:49.407681Z",
     "iopub.status.idle": "2022-04-18T00:41:49.415050Z",
     "shell.execute_reply": "2022-04-18T00:41:49.415505Z"
    },
    "papermill": {
     "duration": 0.048509,
     "end_time": "2022-04-18T00:41:49.415652",
     "exception": false,
     "start_time": "2022-04-18T00:41:49.367143",
     "status": "completed"
    },
    "tags": []
   },
   "outputs": [
    {
     "data": {
      "text/plain": [
       "'https://raw.githubusercontent.com/pratapvardhan/notebooks/master/covid19/mapping_countries.csv'"
      ]
     },
     "execution_count": 3,
     "metadata": {},
     "output_type": "execute_result"
    }
   ],
   "source": [
    "#hide\n",
    "paths['mapping']"
   ]
  },
  {
   "cell_type": "code",
   "execution_count": 4,
   "id": "urban-software",
   "metadata": {
    "execution": {
     "iopub.execute_input": "2022-04-18T00:41:49.489596Z",
     "iopub.status.busy": "2022-04-18T00:41:49.488958Z",
     "iopub.status.idle": "2022-04-18T00:41:49.491906Z",
     "shell.execute_reply": "2022-04-18T00:41:49.492355Z"
    },
    "papermill": {
     "duration": 0.043278,
     "end_time": "2022-04-18T00:41:49.492499",
     "exception": false,
     "start_time": "2022-04-18T00:41:49.449221",
     "status": "completed"
    },
    "tags": []
   },
   "outputs": [],
   "source": [
    "#hide\n",
    "def get_mappings(url):\n",
    "    df = pd.read_csv(url)\n",
    "    return {\n",
    "        'df': df,\n",
    "        'replace.country': dict(df.dropna(subset=['Name']).set_index('Country')['Name']),\n",
    "        'map.continent': dict(df.set_index('Name')['Continent'])\n",
    "    }"
   ]
  },
  {
   "cell_type": "code",
   "execution_count": 5,
   "id": "intimate-machinery",
   "metadata": {
    "execution": {
     "iopub.execute_input": "2022-04-18T00:41:49.565505Z",
     "iopub.status.busy": "2022-04-18T00:41:49.564863Z",
     "iopub.status.idle": "2022-04-18T00:41:49.597109Z",
     "shell.execute_reply": "2022-04-18T00:41:49.596290Z"
    },
    "papermill": {
     "duration": 0.071297,
     "end_time": "2022-04-18T00:41:49.597327",
     "exception": false,
     "start_time": "2022-04-18T00:41:49.526030",
     "status": "completed"
    },
    "tags": []
   },
   "outputs": [],
   "source": [
    "#hide\n",
    "mapping = get_mappings(paths['mapping'])"
   ]
  },
  {
   "cell_type": "code",
   "execution_count": 6,
   "id": "certified-tactics",
   "metadata": {
    "execution": {
     "iopub.execute_input": "2022-04-18T00:41:49.670992Z",
     "iopub.status.busy": "2022-04-18T00:41:49.670392Z",
     "iopub.status.idle": "2022-04-18T00:41:49.672140Z",
     "shell.execute_reply": "2022-04-18T00:41:49.672648Z"
    },
    "papermill": {
     "duration": 0.040862,
     "end_time": "2022-04-18T00:41:49.672791",
     "exception": false,
     "start_time": "2022-04-18T00:41:49.631929",
     "status": "completed"
    },
    "tags": []
   },
   "outputs": [],
   "source": [
    "#hide\n",
    "def get_template(path):\n",
    "    from urllib.parse import urlparse\n",
    "    if bool(urlparse(path).netloc):\n",
    "        from urllib.request import urlopen\n",
    "        return urlopen(path).read().decode('utf8')\n",
    "    return open(path).read()"
   ]
  },
  {
   "cell_type": "code",
   "execution_count": 7,
   "id": "realistic-blast",
   "metadata": {
    "execution": {
     "iopub.execute_input": "2022-04-18T00:41:49.745083Z",
     "iopub.status.busy": "2022-04-18T00:41:49.744518Z",
     "iopub.status.idle": "2022-04-18T00:41:49.747317Z",
     "shell.execute_reply": "2022-04-18T00:41:49.746828Z"
    },
    "papermill": {
     "duration": 0.041492,
     "end_time": "2022-04-18T00:41:49.747444",
     "exception": false,
     "start_time": "2022-04-18T00:41:49.705952",
     "status": "completed"
    },
    "tags": []
   },
   "outputs": [],
   "source": [
    "#hide\n",
    "def get_frame(name):\n",
    "    url = (\n",
    "        'https://raw.githubusercontent.com/CSSEGISandData/COVID-19/master/csse_covid_19_data/'\n",
    "        f'csse_covid_19_time_series/time_series_covid19_{name}_global.csv')\n",
    "    df = pd.read_csv(url)\n",
    "    # rename countries\n",
    "    df['Country/Region'] = df['Country/Region'].replace(mapping['replace.country'])\n",
    "    return df"
   ]
  },
  {
   "cell_type": "code",
   "execution_count": 8,
   "id": "affiliated-characterization",
   "metadata": {
    "execution": {
     "iopub.execute_input": "2022-04-18T00:41:49.820694Z",
     "iopub.status.busy": "2022-04-18T00:41:49.819874Z",
     "iopub.status.idle": "2022-04-18T00:41:49.824285Z",
     "shell.execute_reply": "2022-04-18T00:41:49.824702Z"
    },
    "papermill": {
     "duration": 0.044377,
     "end_time": "2022-04-18T00:41:49.824829",
     "exception": false,
     "start_time": "2022-04-18T00:41:49.780452",
     "status": "completed"
    },
    "tags": []
   },
   "outputs": [],
   "source": [
    "#hide\n",
    "def get_dates(df):\n",
    "    dt_cols = df.columns[~df.columns.isin(['Province/State', 'Country/Region', 'Lat', 'Long'])]\n",
    "    LAST_DATE_I = -1\n",
    "    # sometimes last column may be empty, then go backwards\n",
    "    for i in range(-1, -len(dt_cols), -1):\n",
    "        if not df[dt_cols[i]].fillna(0).eq(0).all():\n",
    "            LAST_DATE_I = i\n",
    "            break\n",
    "    return LAST_DATE_I, dt_cols"
   ]
  },
  {
   "cell_type": "code",
   "execution_count": 9,
   "id": "recent-optimization",
   "metadata": {
    "execution": {
     "iopub.execute_input": "2022-04-18T00:41:49.895840Z",
     "iopub.status.busy": "2022-04-18T00:41:49.895275Z",
     "iopub.status.idle": "2022-04-18T00:41:50.262261Z",
     "shell.execute_reply": "2022-04-18T00:41:50.261674Z"
    },
    "papermill": {
     "duration": 0.405066,
     "end_time": "2022-04-18T00:41:50.262397",
     "exception": false,
     "start_time": "2022-04-18T00:41:49.857331",
     "status": "completed"
    },
    "tags": []
   },
   "outputs": [],
   "source": [
    "#hide\n",
    "COL_REGION = 'Country/Region'\n",
    "# Confirmed, Recovered, Deaths\n",
    "df = get_frame('confirmed')\n",
    "# dft_: timeseries, dfc_: today country agg\n",
    "dft_cases = df\n",
    "dft_deaths = get_frame('deaths')\n",
    "dft_recovered = get_frame('recovered')\n",
    "LAST_DATE_I, dt_cols = get_dates(df)"
   ]
  },
  {
   "cell_type": "code",
   "execution_count": 10,
   "id": "absolute-copper",
   "metadata": {
    "execution": {
     "iopub.execute_input": "2022-04-18T00:41:50.338180Z",
     "iopub.status.busy": "2022-04-18T00:41:50.337050Z",
     "iopub.status.idle": "2022-04-18T00:41:50.339198Z",
     "shell.execute_reply": "2022-04-18T00:41:50.339664Z"
    },
    "papermill": {
     "duration": 0.043675,
     "end_time": "2022-04-18T00:41:50.339811",
     "exception": false,
     "start_time": "2022-04-18T00:41:50.296136",
     "status": "completed"
    },
    "tags": []
   },
   "outputs": [],
   "source": [
    "#hide\n",
    "LAST_DATE_I, dt_cols = get_dates(df)\n",
    "dt_today =dt_cols[LAST_DATE_I]\n",
    "# dt_5day = dt_cols[LAST_DATE_I - 5]\n",
    "dt_yday = dt_cols[LAST_DATE_I - 1]"
   ]
  },
  {
   "cell_type": "code",
   "execution_count": 11,
   "id": "restricted-sheriff",
   "metadata": {
    "execution": {
     "iopub.execute_input": "2022-04-18T00:41:50.415549Z",
     "iopub.status.busy": "2022-04-18T00:41:50.414955Z",
     "iopub.status.idle": "2022-04-18T00:41:50.422661Z",
     "shell.execute_reply": "2022-04-18T00:41:50.422181Z"
    },
    "papermill": {
     "duration": 0.049883,
     "end_time": "2022-04-18T00:41:50.422786",
     "exception": false,
     "start_time": "2022-04-18T00:41:50.372903",
     "status": "completed"
    },
    "tags": []
   },
   "outputs": [],
   "source": [
    "#hide\n",
    "dfc_cases = dft_cases.groupby(COL_REGION)[dt_today].sum()\n",
    "dfc_deaths = dft_deaths.groupby(COL_REGION)[dt_today].sum()\n",
    "# dfp_cases = dft_cases.groupby(COL_REGION)[dt_5day].sum()\n",
    "# dfp_deaths = dft_deaths.groupby(COL_REGION)[dt_5day].sum()\n",
    "dfp_cases = dft_cases.groupby(COL_REGION)[dt_yday].sum()\n",
    "dfp_deaths = dft_deaths.groupby(COL_REGION)[dt_yday].sum()"
   ]
  },
  {
   "cell_type": "code",
   "execution_count": 12,
   "id": "deluxe-hepatitis",
   "metadata": {
    "execution": {
     "iopub.execute_input": "2022-04-18T00:41:50.500724Z",
     "iopub.status.busy": "2022-04-18T00:41:50.499685Z",
     "iopub.status.idle": "2022-04-18T00:41:50.505496Z",
     "shell.execute_reply": "2022-04-18T00:41:50.506016Z"
    },
    "papermill": {
     "duration": 0.048932,
     "end_time": "2022-04-18T00:41:50.506156",
     "exception": false,
     "start_time": "2022-04-18T00:41:50.457224",
     "status": "completed"
    },
    "tags": []
   },
   "outputs": [],
   "source": [
    "#hide\n",
    "df_table = (pd.DataFrame(dict(Cases = dfc_cases, Deaths = dfc_deaths, PCases = dfp_cases, PDeaths = dfp_deaths))\n",
    "            .sort_values(by = ['Cases','Deaths'], ascending = [False, False])\n",
    "            .reset_index())"
   ]
  },
  {
   "cell_type": "code",
   "execution_count": 13,
   "id": "educational-chancellor",
   "metadata": {
    "execution": {
     "iopub.execute_input": "2022-04-18T00:41:50.591236Z",
     "iopub.status.busy": "2022-04-18T00:41:50.590637Z",
     "iopub.status.idle": "2022-04-18T00:41:50.599411Z",
     "shell.execute_reply": "2022-04-18T00:41:50.600161Z"
    },
    "papermill": {
     "duration": 0.061042,
     "end_time": "2022-04-18T00:41:50.600305",
     "exception": false,
     "start_time": "2022-04-18T00:41:50.539263",
     "status": "completed"
    },
    "tags": []
   },
   "outputs": [
    {
     "data": {
      "text/html": [
       "<div>\n",
       "<style scoped>\n",
       "    .dataframe tbody tr th:only-of-type {\n",
       "        vertical-align: middle;\n",
       "    }\n",
       "\n",
       "    .dataframe tbody tr th {\n",
       "        vertical-align: top;\n",
       "    }\n",
       "\n",
       "    .dataframe thead th {\n",
       "        text-align: right;\n",
       "    }\n",
       "</style>\n",
       "<table border=\"1\" class=\"dataframe\">\n",
       "  <thead>\n",
       "    <tr style=\"text-align: right;\">\n",
       "      <th></th>\n",
       "      <th>Country/Region</th>\n",
       "      <th>Cases</th>\n",
       "      <th>Deaths</th>\n",
       "      <th>PCases</th>\n",
       "      <th>PDeaths</th>\n",
       "      <th>Cases (+)</th>\n",
       "      <th>Deaths (+)</th>\n",
       "      <th>Fatality Rate</th>\n",
       "      <th>Continent</th>\n",
       "    </tr>\n",
       "  </thead>\n",
       "  <tbody>\n",
       "    <tr>\n",
       "      <th>0</th>\n",
       "      <td>US</td>\n",
       "      <td>80625120</td>\n",
       "      <td>988609</td>\n",
       "      <td>80612681</td>\n",
       "      <td>988558</td>\n",
       "      <td>12439</td>\n",
       "      <td>51</td>\n",
       "      <td>1.23</td>\n",
       "      <td>North America</td>\n",
       "    </tr>\n",
       "    <tr>\n",
       "      <th>1</th>\n",
       "      <td>India</td>\n",
       "      <td>43042097</td>\n",
       "      <td>521751</td>\n",
       "      <td>43040947</td>\n",
       "      <td>521747</td>\n",
       "      <td>1150</td>\n",
       "      <td>4</td>\n",
       "      <td>1.21</td>\n",
       "      <td>Asia</td>\n",
       "    </tr>\n",
       "    <tr>\n",
       "      <th>2</th>\n",
       "      <td>Brazil</td>\n",
       "      <td>30250077</td>\n",
       "      <td>662185</td>\n",
       "      <td>30247302</td>\n",
       "      <td>662154</td>\n",
       "      <td>2775</td>\n",
       "      <td>31</td>\n",
       "      <td>2.19</td>\n",
       "      <td>South America</td>\n",
       "    </tr>\n",
       "    <tr>\n",
       "      <th>3</th>\n",
       "      <td>France</td>\n",
       "      <td>27874269</td>\n",
       "      <td>145159</td>\n",
       "      <td>27762686</td>\n",
       "      <td>145098</td>\n",
       "      <td>111583</td>\n",
       "      <td>61</td>\n",
       "      <td>0.52</td>\n",
       "      <td>Europe</td>\n",
       "    </tr>\n",
       "    <tr>\n",
       "      <th>4</th>\n",
       "      <td>Germany</td>\n",
       "      <td>23416663</td>\n",
       "      <td>132942</td>\n",
       "      <td>23376879</td>\n",
       "      <td>132929</td>\n",
       "      <td>39784</td>\n",
       "      <td>13</td>\n",
       "      <td>0.57</td>\n",
       "      <td>Europe</td>\n",
       "    </tr>\n",
       "  </tbody>\n",
       "</table>\n",
       "</div>"
      ],
      "text/plain": [
       "  Country/Region     Cases  Deaths    PCases  PDeaths  Cases (+)  Deaths (+)  \\\n",
       "0             US  80625120  988609  80612681   988558      12439          51   \n",
       "1          India  43042097  521751  43040947   521747       1150           4   \n",
       "2         Brazil  30250077  662185  30247302   662154       2775          31   \n",
       "3         France  27874269  145159  27762686   145098     111583          61   \n",
       "4        Germany  23416663  132942  23376879   132929      39784          13   \n",
       "\n",
       "   Fatality Rate      Continent  \n",
       "0           1.23  North America  \n",
       "1           1.21           Asia  \n",
       "2           2.19  South America  \n",
       "3           0.52         Europe  \n",
       "4           0.57         Europe  "
      ]
     },
     "execution_count": 13,
     "metadata": {},
     "output_type": "execute_result"
    }
   ],
   "source": [
    "#hide\n",
    "for c in 'Cases, Deaths'.split(', '):\n",
    "    df_table[f'{c} (+)'] = (df_table[c] - df_table[f'P{c}']).clip(0)\n",
    "    #Clip ça veut dire, les chiffres negatif sont interdit\n",
    "df_table['Fatality Rate'] = (100* df_table['Deaths']/ df_table['Cases']).round(2)\n",
    "df_table['Continent'] = df_table['Country/Region'].map(mapping['map.continent'])\n",
    "df_table.head(5)"
   ]
  },
  {
   "cell_type": "code",
   "execution_count": 14,
   "id": "aboriginal-bulgaria",
   "metadata": {
    "execution": {
     "iopub.execute_input": "2022-04-18T00:41:50.674430Z",
     "iopub.status.busy": "2022-04-18T00:41:50.673796Z",
     "iopub.status.idle": "2022-04-18T00:41:50.676165Z",
     "shell.execute_reply": "2022-04-18T00:41:50.675726Z"
    },
    "papermill": {
     "duration": 0.043316,
     "end_time": "2022-04-18T00:41:50.676281",
     "exception": false,
     "start_time": "2022-04-18T00:41:50.632965",
     "status": "completed"
    },
    "tags": []
   },
   "outputs": [],
   "source": [
    "#hide\n",
    "#delete problematic countries from table\n",
    "df_table = df_table[~df_table['Country/Region'].isin(['Cape Verde', 'Cruise Ship', 'Kosovo'])]"
   ]
  },
  {
   "cell_type": "code",
   "execution_count": 15,
   "id": "fantastic-effect",
   "metadata": {
    "execution": {
     "iopub.execute_input": "2022-04-18T00:41:50.751828Z",
     "iopub.status.busy": "2022-04-18T00:41:50.751218Z",
     "iopub.status.idle": "2022-04-18T00:41:50.769979Z",
     "shell.execute_reply": "2022-04-18T00:41:50.769347Z"
    },
    "papermill": {
     "duration": 0.060232,
     "end_time": "2022-04-18T00:41:50.770123",
     "exception": false,
     "start_time": "2022-04-18T00:41:50.709891",
     "status": "completed"
    },
    "tags": []
   },
   "outputs": [
    {
     "data": {
      "text/html": [
       "<div>\n",
       "<style scoped>\n",
       "    .dataframe tbody tr th:only-of-type {\n",
       "        vertical-align: middle;\n",
       "    }\n",
       "\n",
       "    .dataframe tbody tr th {\n",
       "        vertical-align: top;\n",
       "    }\n",
       "\n",
       "    .dataframe thead th {\n",
       "        text-align: right;\n",
       "    }\n",
       "</style>\n",
       "<table border=\"1\" class=\"dataframe\">\n",
       "  <thead>\n",
       "    <tr style=\"text-align: right;\">\n",
       "      <th></th>\n",
       "      <th>Country/Region</th>\n",
       "      <th>Cases</th>\n",
       "      <th>Deaths</th>\n",
       "      <th>PCases</th>\n",
       "      <th>PDeaths</th>\n",
       "      <th>Cases (+)</th>\n",
       "      <th>Deaths (+)</th>\n",
       "      <th>Fatality Rate</th>\n",
       "      <th>Continent</th>\n",
       "    </tr>\n",
       "  </thead>\n",
       "  <tbody>\n",
       "    <tr>\n",
       "      <th>0</th>\n",
       "      <td>US</td>\n",
       "      <td>80625120</td>\n",
       "      <td>988609</td>\n",
       "      <td>80612681</td>\n",
       "      <td>988558</td>\n",
       "      <td>12439</td>\n",
       "      <td>51</td>\n",
       "      <td>1.2</td>\n",
       "      <td>North America</td>\n",
       "    </tr>\n",
       "    <tr>\n",
       "      <th>1</th>\n",
       "      <td>India</td>\n",
       "      <td>43042097</td>\n",
       "      <td>521751</td>\n",
       "      <td>43040947</td>\n",
       "      <td>521747</td>\n",
       "      <td>1150</td>\n",
       "      <td>4</td>\n",
       "      <td>1.2</td>\n",
       "      <td>Asia</td>\n",
       "    </tr>\n",
       "    <tr>\n",
       "      <th>2</th>\n",
       "      <td>Brazil</td>\n",
       "      <td>30250077</td>\n",
       "      <td>662185</td>\n",
       "      <td>30247302</td>\n",
       "      <td>662154</td>\n",
       "      <td>2775</td>\n",
       "      <td>31</td>\n",
       "      <td>2.2</td>\n",
       "      <td>South America</td>\n",
       "    </tr>\n",
       "    <tr>\n",
       "      <th>3</th>\n",
       "      <td>France</td>\n",
       "      <td>27874269</td>\n",
       "      <td>145159</td>\n",
       "      <td>27762686</td>\n",
       "      <td>145098</td>\n",
       "      <td>111583</td>\n",
       "      <td>61</td>\n",
       "      <td>0.5</td>\n",
       "      <td>Europe</td>\n",
       "    </tr>\n",
       "    <tr>\n",
       "      <th>4</th>\n",
       "      <td>Germany</td>\n",
       "      <td>23416663</td>\n",
       "      <td>132942</td>\n",
       "      <td>23376879</td>\n",
       "      <td>132929</td>\n",
       "      <td>39784</td>\n",
       "      <td>13</td>\n",
       "      <td>0.6</td>\n",
       "      <td>Europe</td>\n",
       "    </tr>\n",
       "  </tbody>\n",
       "</table>\n",
       "</div>"
      ],
      "text/plain": [
       "  Country/Region     Cases  Deaths    PCases  PDeaths  Cases (+)  Deaths (+)  \\\n",
       "0             US  80625120  988609  80612681   988558      12439          51   \n",
       "1          India  43042097  521751  43040947   521747       1150           4   \n",
       "2         Brazil  30250077  662185  30247302   662154       2775          31   \n",
       "3         France  27874269  145159  27762686   145098     111583          61   \n",
       "4        Germany  23416663  132942  23376879   132929      39784          13   \n",
       "\n",
       "   Fatality Rate      Continent  \n",
       "0            1.2  North America  \n",
       "1            1.2           Asia  \n",
       "2            2.2  South America  \n",
       "3            0.5         Europe  \n",
       "4            0.6         Europe  "
      ]
     },
     "execution_count": 15,
     "metadata": {},
     "output_type": "execute_result"
    }
   ],
   "source": [
    "#hide\n",
    "df_table = (pd.DataFrame(dict(Cases=dfc_cases, Deaths=dfc_deaths, PCases=dfp_cases, PDeaths=dfp_deaths))\n",
    "             .sort_values(by=['Cases', 'Deaths'], ascending=[False, False])\n",
    "             .reset_index())\n",
    "df_table.rename(columns={'index': 'Country/Region'}, inplace=True)\n",
    "for c in 'Cases, Deaths'.split(', '):\n",
    "    df_table[f'{c} (+)'] = (df_table[c] - df_table[f'P{c}']).clip(0)  # DATA BUG\n",
    "df_table['Fatality Rate'] = (100 * df_table['Deaths'] / df_table['Cases']).round(1)\n",
    "df_table['Continent'] = df_table['Country/Region'].map(mapping['map.continent'])\n",
    "df_table.head(5)"
   ]
  },
  {
   "cell_type": "code",
   "execution_count": 16,
   "id": "fewer-occasion",
   "metadata": {
    "execution": {
     "iopub.execute_input": "2022-04-18T00:41:50.849248Z",
     "iopub.status.busy": "2022-04-18T00:41:50.848631Z",
     "iopub.status.idle": "2022-04-18T00:41:50.852108Z",
     "shell.execute_reply": "2022-04-18T00:41:50.852554Z"
    },
    "papermill": {
     "duration": 0.047352,
     "end_time": "2022-04-18T00:41:50.852696",
     "exception": false,
     "start_time": "2022-04-18T00:41:50.805344",
     "status": "completed"
    },
    "tags": []
   },
   "outputs": [],
   "source": [
    "#hide\n",
    "#delete problematic countries from table\n",
    "df_table = df_table[~df_table['Country/Region'].isin(['Cape Verde', 'Cruise Ship', 'Kosovo'])]"
   ]
  },
  {
   "cell_type": "code",
   "execution_count": 17,
   "id": "related-center",
   "metadata": {
    "execution": {
     "iopub.execute_input": "2022-04-18T00:41:50.943907Z",
     "iopub.status.busy": "2022-04-18T00:41:50.942956Z",
     "iopub.status.idle": "2022-04-18T00:41:50.944717Z",
     "shell.execute_reply": "2022-04-18T00:41:50.945218Z"
    },
    "papermill": {
     "duration": 0.058097,
     "end_time": "2022-04-18T00:41:50.945379",
     "exception": false,
     "start_time": "2022-04-18T00:41:50.887282",
     "status": "completed"
    },
    "tags": []
   },
   "outputs": [],
   "source": [
    "#hide\n",
    "metrics = [df_table.columns[index] for index in [1,2,5,6]]\n",
    "# s_china = df_table[df_table['Country/Region'].eq('China')][metrics].sum().add_prefix('China ')\n",
    "s_us = df_table[df_table['Country/Region'].eq('US')][metrics].sum().add_prefix('US ')\n",
    "s_eu = df_table[df_table['Continent'].eq('Europe')][metrics].sum().add_prefix('EU ')\n",
    "s_ind = df_table[df_table['Country/Region'].eq('India')][metrics].sum().add_prefix('India ')\n",
    "summary = {'updated': pd.to_datetime(dt_today), 'since': pd.to_datetime(dt_yday)}\n",
    "summary = {'updated': pd.to_datetime(dt_today), 'since': pd.to_datetime(dt_yday)}\n",
    "summary = {**summary, **df_table[metrics].sum(), **s_ind, **s_us, **s_eu}"
   ]
  },
  {
   "cell_type": "code",
   "execution_count": 18,
   "id": "engaging-syndrome",
   "metadata": {
    "execution": {
     "iopub.execute_input": "2022-04-18T00:41:51.021265Z",
     "iopub.status.busy": "2022-04-18T00:41:51.020716Z",
     "iopub.status.idle": "2022-04-18T00:41:51.040821Z",
     "shell.execute_reply": "2022-04-18T00:41:51.040259Z"
    },
    "papermill": {
     "duration": 0.061071,
     "end_time": "2022-04-18T00:41:51.040945",
     "exception": false,
     "start_time": "2022-04-18T00:41:50.979874",
     "status": "completed"
    },
    "tags": []
   },
   "outputs": [],
   "source": [
    "#hide\n",
    "dft_ct_new_cases = dft_cases.groupby(COL_REGION)[dt_cols].sum().diff(axis=1).fillna(0).astype(int)"
   ]
  },
  {
   "cell_type": "code",
   "execution_count": 19,
   "id": "neutral-assignment",
   "metadata": {
    "execution": {
     "iopub.execute_input": "2022-04-18T00:41:51.116255Z",
     "iopub.status.busy": "2022-04-18T00:41:51.115662Z",
     "iopub.status.idle": "2022-04-18T00:41:51.118413Z",
     "shell.execute_reply": "2022-04-18T00:41:51.117915Z"
    },
    "papermill": {
     "duration": 0.042903,
     "end_time": "2022-04-18T00:41:51.118529",
     "exception": false,
     "start_time": "2022-04-18T00:41:51.075626",
     "status": "completed"
    },
    "tags": []
   },
   "outputs": [],
   "source": [
    "#hide\n",
    "everydaycases = dft_ct_new_cases.cumsum(axis=1)"
   ]
  },
  {
   "cell_type": "code",
   "execution_count": 20,
   "id": "parliamentary-calgary",
   "metadata": {
    "execution": {
     "iopub.execute_input": "2022-04-18T00:41:51.192820Z",
     "iopub.status.busy": "2022-04-18T00:41:51.192206Z",
     "iopub.status.idle": "2022-04-18T00:41:51.855691Z",
     "shell.execute_reply": "2022-04-18T00:41:51.854768Z"
    },
    "papermill": {
     "duration": 0.703886,
     "end_time": "2022-04-18T00:41:51.855905",
     "exception": false,
     "start_time": "2022-04-18T00:41:51.152019",
     "status": "completed"
    },
    "tags": []
   },
   "outputs": [],
   "source": [
    "#hide\n",
    "import pandas as pd\n",
    "import matplotlib.pyplot as plt\n",
    "import matplotlib.ticker as ticker\n",
    "import matplotlib.animation as animation\n",
    "from IPython.display import HTML"
   ]
  },
  {
   "cell_type": "code",
   "execution_count": 21,
   "id": "lasting-extraction",
   "metadata": {
    "execution": {
     "iopub.execute_input": "2022-04-18T00:41:51.937684Z",
     "iopub.status.busy": "2022-04-18T00:41:51.937055Z",
     "iopub.status.idle": "2022-04-18T00:41:51.944424Z",
     "shell.execute_reply": "2022-04-18T00:41:51.943954Z"
    },
    "papermill": {
     "duration": 0.048713,
     "end_time": "2022-04-18T00:41:51.944538",
     "exception": false,
     "start_time": "2022-04-18T00:41:51.895825",
     "status": "completed"
    },
    "tags": []
   },
   "outputs": [],
   "source": [
    "#hide\n",
    "t = everydaycases.stack()"
   ]
  },
  {
   "cell_type": "code",
   "execution_count": 22,
   "id": "premier-sleeve",
   "metadata": {
    "execution": {
     "iopub.execute_input": "2022-04-18T00:41:52.017534Z",
     "iopub.status.busy": "2022-04-18T00:41:52.016920Z",
     "iopub.status.idle": "2022-04-18T00:41:52.031437Z",
     "shell.execute_reply": "2022-04-18T00:41:52.030939Z"
    },
    "papermill": {
     "duration": 0.053415,
     "end_time": "2022-04-18T00:41:52.031562",
     "exception": false,
     "start_time": "2022-04-18T00:41:51.978147",
     "status": "completed"
    },
    "tags": []
   },
   "outputs": [],
   "source": [
    "#hide\n",
    "g = t.reset_index(['Country/Region'])"
   ]
  },
  {
   "cell_type": "code",
   "execution_count": 23,
   "id": "distributed-pittsburgh",
   "metadata": {
    "execution": {
     "iopub.execute_input": "2022-04-18T00:41:52.103009Z",
     "iopub.status.busy": "2022-04-18T00:41:52.102419Z",
     "iopub.status.idle": "2022-04-18T00:41:52.106663Z",
     "shell.execute_reply": "2022-04-18T00:41:52.106197Z"
    },
    "papermill": {
     "duration": 0.041621,
     "end_time": "2022-04-18T00:41:52.106778",
     "exception": false,
     "start_time": "2022-04-18T00:41:52.065157",
     "status": "completed"
    },
    "tags": []
   },
   "outputs": [],
   "source": [
    "#hide\n",
    "g.index.name = 'date'"
   ]
  },
  {
   "cell_type": "code",
   "execution_count": 24,
   "id": "naked-donor",
   "metadata": {
    "execution": {
     "iopub.execute_input": "2022-04-18T00:41:52.178121Z",
     "iopub.status.busy": "2022-04-18T00:41:52.177034Z",
     "iopub.status.idle": "2022-04-18T00:41:52.179219Z",
     "shell.execute_reply": "2022-04-18T00:41:52.180026Z"
    },
    "papermill": {
     "duration": 0.040165,
     "end_time": "2022-04-18T00:41:52.180241",
     "exception": false,
     "start_time": "2022-04-18T00:41:52.140076",
     "status": "completed"
    },
    "tags": []
   },
   "outputs": [],
   "source": [
    "# #hide\n",
    "# g = g.reset_index(['date'])"
   ]
  },
  {
   "cell_type": "code",
   "execution_count": 25,
   "id": "incomplete-mustang",
   "metadata": {
    "execution": {
     "iopub.execute_input": "2022-04-18T00:41:52.255859Z",
     "iopub.status.busy": "2022-04-18T00:41:52.254841Z",
     "iopub.status.idle": "2022-04-18T00:41:52.259362Z",
     "shell.execute_reply": "2022-04-18T00:41:52.258888Z"
    },
    "papermill": {
     "duration": 0.042671,
     "end_time": "2022-04-18T00:41:52.259478",
     "exception": false,
     "start_time": "2022-04-18T00:41:52.216807",
     "status": "completed"
    },
    "tags": []
   },
   "outputs": [],
   "source": [
    "#hide\n",
    "# g.head()"
   ]
  },
  {
   "cell_type": "code",
   "execution_count": 26,
   "id": "specific-kruger",
   "metadata": {
    "execution": {
     "iopub.execute_input": "2022-04-18T00:41:52.331517Z",
     "iopub.status.busy": "2022-04-18T00:41:52.330919Z",
     "iopub.status.idle": "2022-04-18T00:41:52.332846Z",
     "shell.execute_reply": "2022-04-18T00:41:52.332303Z"
    },
    "papermill": {
     "duration": 0.039629,
     "end_time": "2022-04-18T00:41:52.332954",
     "exception": false,
     "start_time": "2022-04-18T00:41:52.293325",
     "status": "completed"
    },
    "tags": []
   },
   "outputs": [],
   "source": [
    "#hide\n",
    "# g.columns = ['date','country','cases']"
   ]
  },
  {
   "cell_type": "code",
   "execution_count": 27,
   "id": "tender-conversion",
   "metadata": {
    "execution": {
     "iopub.execute_input": "2022-04-18T00:41:52.405388Z",
     "iopub.status.busy": "2022-04-18T00:41:52.404323Z",
     "iopub.status.idle": "2022-04-18T00:41:52.408130Z",
     "shell.execute_reply": "2022-04-18T00:41:52.407269Z"
    },
    "papermill": {
     "duration": 0.042093,
     "end_time": "2022-04-18T00:41:52.408328",
     "exception": false,
     "start_time": "2022-04-18T00:41:52.366235",
     "status": "completed"
    },
    "tags": []
   },
   "outputs": [],
   "source": [
    "#hide\n",
    "# g['continent'] = g.country"
   ]
  },
  {
   "cell_type": "code",
   "execution_count": 28,
   "id": "substantial-wilderness",
   "metadata": {
    "execution": {
     "iopub.execute_input": "2022-04-18T00:41:52.482239Z",
     "iopub.status.busy": "2022-04-18T00:41:52.481159Z",
     "iopub.status.idle": "2022-04-18T00:41:52.485453Z",
     "shell.execute_reply": "2022-04-18T00:41:52.484528Z"
    },
    "papermill": {
     "duration": 0.042738,
     "end_time": "2022-04-18T00:41:52.485654",
     "exception": false,
     "start_time": "2022-04-18T00:41:52.442916",
     "status": "completed"
    },
    "tags": []
   },
   "outputs": [],
   "source": [
    "#hide\n",
    "# cols = list(g.columns.values)"
   ]
  },
  {
   "cell_type": "code",
   "execution_count": 29,
   "id": "solved-farming",
   "metadata": {
    "execution": {
     "iopub.execute_input": "2022-04-18T00:41:52.562144Z",
     "iopub.status.busy": "2022-04-18T00:41:52.561420Z",
     "iopub.status.idle": "2022-04-18T00:41:52.564264Z",
     "shell.execute_reply": "2022-04-18T00:41:52.564780Z"
    },
    "papermill": {
     "duration": 0.043036,
     "end_time": "2022-04-18T00:41:52.565054",
     "exception": false,
     "start_time": "2022-04-18T00:41:52.522018",
     "status": "completed"
    },
    "tags": []
   },
   "outputs": [],
   "source": [
    "#hide\n",
    "# cols.insert(0, cols.pop())"
   ]
  },
  {
   "cell_type": "code",
   "execution_count": 30,
   "id": "executed-adoption",
   "metadata": {
    "execution": {
     "iopub.execute_input": "2022-04-18T00:41:52.642768Z",
     "iopub.status.busy": "2022-04-18T00:41:52.642161Z",
     "iopub.status.idle": "2022-04-18T00:41:52.644009Z",
     "shell.execute_reply": "2022-04-18T00:41:52.644457Z"
    },
    "papermill": {
     "duration": 0.042149,
     "end_time": "2022-04-18T00:41:52.644600",
     "exception": false,
     "start_time": "2022-04-18T00:41:52.602451",
     "status": "completed"
    },
    "tags": []
   },
   "outputs": [],
   "source": [
    "#hide\n",
    "# g = g[cols]"
   ]
  },
  {
   "cell_type": "code",
   "execution_count": 31,
   "id": "subject-dublin",
   "metadata": {
    "execution": {
     "iopub.execute_input": "2022-04-18T00:41:52.717398Z",
     "iopub.status.busy": "2022-04-18T00:41:52.716780Z",
     "iopub.status.idle": "2022-04-18T00:41:52.719653Z",
     "shell.execute_reply": "2022-04-18T00:41:52.720158Z"
    },
    "papermill": {
     "duration": 0.041628,
     "end_time": "2022-04-18T00:41:52.720289",
     "exception": false,
     "start_time": "2022-04-18T00:41:52.678661",
     "status": "completed"
    },
    "tags": []
   },
   "outputs": [],
   "source": [
    "#hide\n",
    "# g['continent'] = g['continent'].map(mapping['map.continent'])"
   ]
  },
  {
   "cell_type": "code",
   "execution_count": 32,
   "id": "freelance-scout",
   "metadata": {
    "execution": {
     "iopub.execute_input": "2022-04-18T00:41:52.792268Z",
     "iopub.status.busy": "2022-04-18T00:41:52.791667Z",
     "iopub.status.idle": "2022-04-18T00:41:52.794269Z",
     "shell.execute_reply": "2022-04-18T00:41:52.793792Z"
    },
    "papermill": {
     "duration": 0.040334,
     "end_time": "2022-04-18T00:41:52.794392",
     "exception": false,
     "start_time": "2022-04-18T00:41:52.754058",
     "status": "completed"
    },
    "tags": []
   },
   "outputs": [],
   "source": [
    "#hide\n",
    "# g.head()"
   ]
  },
  {
   "cell_type": "code",
   "execution_count": 33,
   "id": "limited-engine",
   "metadata": {
    "execution": {
     "iopub.execute_input": "2022-04-18T00:41:52.868391Z",
     "iopub.status.busy": "2022-04-18T00:41:52.867771Z",
     "iopub.status.idle": "2022-04-18T00:41:52.869642Z",
     "shell.execute_reply": "2022-04-18T00:41:52.870095Z"
    },
    "papermill": {
     "duration": 0.041079,
     "end_time": "2022-04-18T00:41:52.870244",
     "exception": false,
     "start_time": "2022-04-18T00:41:52.829165",
     "status": "completed"
    },
    "tags": []
   },
   "outputs": [],
   "source": [
    "# hide\n",
    "# g['date'] = g['date'].astype('datetime64[ns]')"
   ]
  },
  {
   "cell_type": "code",
   "execution_count": 34,
   "id": "sophisticated-supervisor",
   "metadata": {
    "execution": {
     "iopub.execute_input": "2022-04-18T00:41:52.946210Z",
     "iopub.status.busy": "2022-04-18T00:41:52.945597Z",
     "iopub.status.idle": "2022-04-18T00:41:52.947958Z",
     "shell.execute_reply": "2022-04-18T00:41:52.948452Z"
    },
    "papermill": {
     "duration": 0.043101,
     "end_time": "2022-04-18T00:41:52.948594",
     "exception": false,
     "start_time": "2022-04-18T00:41:52.905493",
     "status": "completed"
    },
    "tags": []
   },
   "outputs": [],
   "source": [
    "#hide\n",
    "# g['date'] = g.date.dt.dayofyear"
   ]
  },
  {
   "cell_type": "code",
   "execution_count": 35,
   "id": "inside-dubai",
   "metadata": {
    "execution": {
     "iopub.execute_input": "2022-04-18T00:41:53.023202Z",
     "iopub.status.busy": "2022-04-18T00:41:53.022143Z",
     "iopub.status.idle": "2022-04-18T00:41:53.027195Z",
     "shell.execute_reply": "2022-04-18T00:41:53.026711Z"
    },
    "papermill": {
     "duration": 0.044253,
     "end_time": "2022-04-18T00:41:53.027319",
     "exception": false,
     "start_time": "2022-04-18T00:41:52.983066",
     "status": "completed"
    },
    "tags": []
   },
   "outputs": [],
   "source": [
    "#hide\n",
    "# g = g.rename(columns= {'continent':'group','country':'name','cases':'value'})"
   ]
  },
  {
   "cell_type": "code",
   "execution_count": 36,
   "id": "fleet-motorcycle",
   "metadata": {
    "execution": {
     "iopub.execute_input": "2022-04-18T00:41:53.102813Z",
     "iopub.status.busy": "2022-04-18T00:41:53.101756Z",
     "iopub.status.idle": "2022-04-18T00:41:53.103901Z",
     "shell.execute_reply": "2022-04-18T00:41:53.104706Z"
    },
    "papermill": {
     "duration": 0.042214,
     "end_time": "2022-04-18T00:41:53.104929",
     "exception": false,
     "start_time": "2022-04-18T00:41:53.062715",
     "status": "completed"
    },
    "tags": []
   },
   "outputs": [],
   "source": [
    "#hide\n",
    "# cols = ['name','group','day','value']"
   ]
  },
  {
   "cell_type": "code",
   "execution_count": 37,
   "id": "continued-sleeping",
   "metadata": {
    "execution": {
     "iopub.execute_input": "2022-04-18T00:41:53.178011Z",
     "iopub.status.busy": "2022-04-18T00:41:53.177391Z",
     "iopub.status.idle": "2022-04-18T00:41:53.180360Z",
     "shell.execute_reply": "2022-04-18T00:41:53.179887Z"
    },
    "papermill": {
     "duration": 0.040669,
     "end_time": "2022-04-18T00:41:53.180481",
     "exception": false,
     "start_time": "2022-04-18T00:41:53.139812",
     "status": "completed"
    },
    "tags": []
   },
   "outputs": [],
   "source": [
    "#hide\n",
    "# g.rename(columns= {'date':'day'},inplace = True)"
   ]
  },
  {
   "cell_type": "code",
   "execution_count": 38,
   "id": "major-fight",
   "metadata": {
    "execution": {
     "iopub.execute_input": "2022-04-18T00:41:53.253778Z",
     "iopub.status.busy": "2022-04-18T00:41:53.253144Z",
     "iopub.status.idle": "2022-04-18T00:41:53.255635Z",
     "shell.execute_reply": "2022-04-18T00:41:53.256107Z"
    },
    "papermill": {
     "duration": 0.041217,
     "end_time": "2022-04-18T00:41:53.256237",
     "exception": false,
     "start_time": "2022-04-18T00:41:53.215020",
     "status": "completed"
    },
    "tags": []
   },
   "outputs": [],
   "source": [
    "#hide\n",
    "# g = g[cols]"
   ]
  },
  {
   "cell_type": "code",
   "execution_count": 39,
   "id": "structured-mobile",
   "metadata": {
    "execution": {
     "iopub.execute_input": "2022-04-18T00:41:53.330235Z",
     "iopub.status.busy": "2022-04-18T00:41:53.329626Z",
     "iopub.status.idle": "2022-04-18T00:41:53.331927Z",
     "shell.execute_reply": "2022-04-18T00:41:53.331442Z"
    },
    "papermill": {
     "duration": 0.040412,
     "end_time": "2022-04-18T00:41:53.332036",
     "exception": false,
     "start_time": "2022-04-18T00:41:53.291624",
     "status": "completed"
    },
    "tags": []
   },
   "outputs": [],
   "source": [
    "# #hide\n",
    "# g = g[g.group.notna()]"
   ]
  },
  {
   "cell_type": "code",
   "execution_count": 40,
   "id": "determined-closing",
   "metadata": {
    "execution": {
     "iopub.execute_input": "2022-04-18T00:41:53.404147Z",
     "iopub.status.busy": "2022-04-18T00:41:53.403487Z",
     "iopub.status.idle": "2022-04-18T00:41:53.407100Z",
     "shell.execute_reply": "2022-04-18T00:41:53.407583Z"
    },
    "papermill": {
     "duration": 0.04177,
     "end_time": "2022-04-18T00:41:53.407729",
     "exception": false,
     "start_time": "2022-04-18T00:41:53.365959",
     "status": "completed"
    },
    "tags": []
   },
   "outputs": [],
   "source": [
    "# #hide\n",
    "# colors = dict(zip(\n",
    "#     [\"Oceania\", \"Europe\", \"Asia\", \"South America\", \"Middle East\", \"North America\", \"Africa\"],\n",
    "#     [\"#adb0ff\", \"#ffb3ff\", \"#90d595\", \"#e48381\", \"#aafbff\", \"#f7bb5f\", \"#eafb50\"]\n",
    "# ))\n",
    "# group_lk = g.set_index('name')['group'].to_dict()"
   ]
  },
  {
   "cell_type": "code",
   "execution_count": null,
   "id": "gross-drinking",
   "metadata": {
    "papermill": {
     "duration": 0.034429,
     "end_time": "2022-04-18T00:41:53.476592",
     "exception": false,
     "start_time": "2022-04-18T00:41:53.442163",
     "status": "completed"
    },
    "tags": []
   },
   "outputs": [],
   "source": []
  },
  {
   "cell_type": "code",
   "execution_count": 41,
   "id": "subject-macintosh",
   "metadata": {
    "execution": {
     "iopub.execute_input": "2022-04-18T00:41:53.549930Z",
     "iopub.status.busy": "2022-04-18T00:41:53.549291Z",
     "iopub.status.idle": "2022-04-18T00:41:53.552159Z",
     "shell.execute_reply": "2022-04-18T00:41:53.551663Z"
    },
    "papermill": {
     "duration": 0.041303,
     "end_time": "2022-04-18T00:41:53.552275",
     "exception": false,
     "start_time": "2022-04-18T00:41:53.510972",
     "status": "completed"
    },
    "tags": []
   },
   "outputs": [],
   "source": [
    "# #hide\n",
    "# fig, ax = plt.subplots(figsize=(15, 8))\n",
    "\n",
    "# def draw_barchart(current_day):\n",
    "#     dff = g[g['day'].eq(current_day)].sort_values(by='value', ascending=True).tail(10)\n",
    "#     ax.clear()\n",
    "#     ax.barh(dff['name'], dff['value'], color=[colors[group_lk[x]] for x in dff['name']])\n",
    "#     dx = dff['value'].max() / 200\n",
    "    \n",
    "#     for i, (value, name) in enumerate(zip(dff['value'], dff['name'])):\n",
    "#         ax.text(value-dx, i,     name,           size=14, weight=600, ha='right', va='bottom')\n",
    "#         ax.text(value-dx, i-.25, group_lk[name], size=10, color='#444444', ha='right', va='baseline')\n",
    "#         ax.text(value+dx, i,     f'{value:,.0f}',  size=14, ha='left',  va='center')\n",
    "#     ax.text(1, 0.4, current_day, transform=ax.transAxes, color='#777777', size=46, ha='right', weight=800)\n",
    "#     ax.text(0, 1.06, 'Population (thousands)', transform=ax.transAxes, size=12, color='#777777')\n",
    "#     ax.xaxis.set_major_formatter(ticker.StrMethodFormatter('{x:,.0f}'))\n",
    "#     ax.xaxis.set_ticks_position('top')\n",
    "#     ax.tick_params(axis='x', colors='#777777', labelsize=12)\n",
    "#     ax.set_yticks([])\n",
    "#     ax.margins(0, 0.01)\n",
    "#     ax.grid(which='major', axis='x', linestyle='-')\n",
    "#     ax.set_axisbelow(True)\n",
    "    \n",
    "#     ax.text(0, 1.15, 'Coronavirus',\n",
    "#             transform=ax.transAxes, size=24, weight=600, ha='left', va='top')\n",
    "# #     ax.text(1, 0, 'by @pratapvardhan; credit @jburnmurdoch', transform=ax.transAxes, color='#777777', ha='right',\n",
    "# #             bbox=dict(facecolor='white', alpha=0.8, edgecolor='white'))\n",
    "#     plt.box(False)"
   ]
  },
  {
   "cell_type": "code",
   "execution_count": 42,
   "id": "sexual-wages",
   "metadata": {
    "execution": {
     "iopub.execute_input": "2022-04-18T00:41:53.623876Z",
     "iopub.status.busy": "2022-04-18T00:41:53.623132Z",
     "iopub.status.idle": "2022-04-18T00:41:53.626682Z",
     "shell.execute_reply": "2022-04-18T00:41:53.627227Z"
    },
    "papermill": {
     "duration": 0.041498,
     "end_time": "2022-04-18T00:41:53.627374",
     "exception": false,
     "start_time": "2022-04-18T00:41:53.585876",
     "status": "completed"
    },
    "tags": []
   },
   "outputs": [],
   "source": [
    "# #hide_input\n",
    "# fig, ax = plt.subplots(figsize=(15, 8))\n",
    "# animator = animation.FuncAnimation(fig, draw_barchart, frames=range(g.day.values.min(), g.day.values.max()))\n",
    "# HTML(animator.to_jshtml())\n",
    "# # or use animator.to_html5_video() or animator.save() "
   ]
  },
  {
   "cell_type": "code",
   "execution_count": null,
   "id": "australian-container",
   "metadata": {
    "papermill": {
     "duration": 0.038057,
     "end_time": "2022-04-18T00:41:53.700073",
     "exception": false,
     "start_time": "2022-04-18T00:41:53.662016",
     "status": "completed"
    },
    "tags": []
   },
   "outputs": [],
   "source": []
  },
  {
   "cell_type": "code",
   "execution_count": null,
   "id": "mediterranean-pontiac",
   "metadata": {
    "papermill": {
     "duration": 0.034051,
     "end_time": "2022-04-18T00:41:53.767493",
     "exception": false,
     "start_time": "2022-04-18T00:41:53.733442",
     "status": "completed"
    },
    "tags": []
   },
   "outputs": [],
   "source": []
  },
  {
   "cell_type": "code",
   "execution_count": null,
   "id": "aging-legislature",
   "metadata": {
    "papermill": {
     "duration": 0.034349,
     "end_time": "2022-04-18T00:41:53.836492",
     "exception": false,
     "start_time": "2022-04-18T00:41:53.802143",
     "status": "completed"
    },
    "tags": []
   },
   "outputs": [],
   "source": []
  }
 ],
 "metadata": {
  "kernelspec": {
   "display_name": "Python 3",
   "language": "python",
   "name": "python3"
  },
  "language_info": {
   "codemirror_mode": {
    "name": "ipython",
    "version": 3
   },
   "file_extension": ".py",
   "mimetype": "text/x-python",
   "name": "python",
   "nbconvert_exporter": "python",
   "pygments_lexer": "ipython3",
   "version": "3.6.15"
  },
  "papermill": {
   "duration": 6.705983,
   "end_time": "2022-04-18T00:41:54.190825",
   "environment_variables": {},
   "exception": null,
   "input_path": "2020-03-21-covid19exp.ipynb",
   "output_path": "2020-03-21-covid19exp.ipynb",
   "parameters": {},
   "start_time": "2022-04-18T00:41:47.484842",
   "version": "2.0.0"
  }
 },
 "nbformat": 4,
 "nbformat_minor": 5
}