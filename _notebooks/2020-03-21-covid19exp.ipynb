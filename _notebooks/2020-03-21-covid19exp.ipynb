{
 "cells": [
  {
   "cell_type": "markdown",
   "id": "muslim-click",
   "metadata": {
    "papermill": {
     "duration": 0.038812,
     "end_time": "2022-09-10T00:51:57.665359",
     "exception": false,
     "start_time": "2022-09-10T00:51:57.626547",
     "status": "completed"
    },
    "tags": []
   },
   "source": [
    "# COVID-19 Case Race\n",
    "> A race chart to see rising cases around the world\n",
    "\n",
    "- author: Hargun Oberoi\n",
    "- image: images/covid-overview.png\n",
    "- hide: false\n",
    "- badges: false"
   ]
  },
  {
   "cell_type": "code",
   "execution_count": 1,
   "id": "proof-material",
   "metadata": {
    "execution": {
     "iopub.execute_input": "2022-09-10T00:51:57.742400Z",
     "iopub.status.busy": "2022-09-10T00:51:57.741687Z",
     "iopub.status.idle": "2022-09-10T00:51:58.117224Z",
     "shell.execute_reply": "2022-09-10T00:51:58.116351Z"
    },
    "papermill": {
     "duration": 0.419093,
     "end_time": "2022-09-10T00:51:58.117396",
     "exception": false,
     "start_time": "2022-09-10T00:51:57.698303",
     "status": "completed"
    },
    "tags": []
   },
   "outputs": [],
   "source": [
    "#hide\n",
    "import numpy as np\n",
    "import pandas as pd\n",
    "from jinja2 import Template\n",
    "from IPython.display import HTML"
   ]
  },
  {
   "cell_type": "code",
   "execution_count": 2,
   "id": "developed-terminology",
   "metadata": {
    "execution": {
     "iopub.execute_input": "2022-09-10T00:51:58.191027Z",
     "iopub.status.busy": "2022-09-10T00:51:58.190324Z",
     "iopub.status.idle": "2022-09-10T00:51:58.193695Z",
     "shell.execute_reply": "2022-09-10T00:51:58.193145Z"
    },
    "papermill": {
     "duration": 0.042617,
     "end_time": "2022-09-10T00:51:58.193821",
     "exception": false,
     "start_time": "2022-09-10T00:51:58.151204",
     "status": "completed"
    },
    "tags": []
   },
   "outputs": [],
   "source": [
    "#hide\n",
    "\n",
    "# FETCH\n",
    "base_url = 'https://raw.githubusercontent.com/pratapvardhan/notebooks/master/covid19/'\n",
    "paths = {\n",
    "    'mapping': base_url + 'mapping_countries.csv',\n",
    "    'overview': base_url + 'overview.tpl'\n",
    "}"
   ]
  },
  {
   "cell_type": "code",
   "execution_count": 3,
   "id": "dynamic-saver",
   "metadata": {
    "execution": {
     "iopub.execute_input": "2022-09-10T00:51:58.270414Z",
     "iopub.status.busy": "2022-09-10T00:51:58.267468Z",
     "iopub.status.idle": "2022-09-10T00:51:58.273684Z",
     "shell.execute_reply": "2022-09-10T00:51:58.274212Z"
    },
    "papermill": {
     "duration": 0.047921,
     "end_time": "2022-09-10T00:51:58.274363",
     "exception": false,
     "start_time": "2022-09-10T00:51:58.226442",
     "status": "completed"
    },
    "tags": []
   },
   "outputs": [
    {
     "data": {
      "text/plain": [
       "'https://raw.githubusercontent.com/pratapvardhan/notebooks/master/covid19/mapping_countries.csv'"
      ]
     },
     "execution_count": 3,
     "metadata": {},
     "output_type": "execute_result"
    }
   ],
   "source": [
    "#hide\n",
    "paths['mapping']"
   ]
  },
  {
   "cell_type": "code",
   "execution_count": 4,
   "id": "urban-software",
   "metadata": {
    "execution": {
     "iopub.execute_input": "2022-09-10T00:51:58.346923Z",
     "iopub.status.busy": "2022-09-10T00:51:58.346213Z",
     "iopub.status.idle": "2022-09-10T00:51:58.348604Z",
     "shell.execute_reply": "2022-09-10T00:51:58.349105Z"
    },
    "papermill": {
     "duration": 0.041951,
     "end_time": "2022-09-10T00:51:58.349254",
     "exception": false,
     "start_time": "2022-09-10T00:51:58.307303",
     "status": "completed"
    },
    "tags": []
   },
   "outputs": [],
   "source": [
    "#hide\n",
    "def get_mappings(url):\n",
    "    df = pd.read_csv(url)\n",
    "    return {\n",
    "        'df': df,\n",
    "        'replace.country': dict(df.dropna(subset=['Name']).set_index('Country')['Name']),\n",
    "        'map.continent': dict(df.set_index('Name')['Continent'])\n",
    "    }"
   ]
  },
  {
   "cell_type": "code",
   "execution_count": 5,
   "id": "intimate-machinery",
   "metadata": {
    "execution": {
     "iopub.execute_input": "2022-09-10T00:51:58.422710Z",
     "iopub.status.busy": "2022-09-10T00:51:58.422025Z",
     "iopub.status.idle": "2022-09-10T00:51:58.453244Z",
     "shell.execute_reply": "2022-09-10T00:51:58.452430Z"
    },
    "papermill": {
     "duration": 0.070833,
     "end_time": "2022-09-10T00:51:58.453395",
     "exception": false,
     "start_time": "2022-09-10T00:51:58.382562",
     "status": "completed"
    },
    "tags": []
   },
   "outputs": [],
   "source": [
    "#hide\n",
    "mapping = get_mappings(paths['mapping'])"
   ]
  },
  {
   "cell_type": "code",
   "execution_count": 6,
   "id": "certified-tactics",
   "metadata": {
    "execution": {
     "iopub.execute_input": "2022-09-10T00:51:58.527863Z",
     "iopub.status.busy": "2022-09-10T00:51:58.527017Z",
     "iopub.status.idle": "2022-09-10T00:51:58.528899Z",
     "shell.execute_reply": "2022-09-10T00:51:58.529451Z"
    },
    "papermill": {
     "duration": 0.042096,
     "end_time": "2022-09-10T00:51:58.529597",
     "exception": false,
     "start_time": "2022-09-10T00:51:58.487501",
     "status": "completed"
    },
    "tags": []
   },
   "outputs": [],
   "source": [
    "#hide\n",
    "def get_template(path):\n",
    "    from urllib.parse import urlparse\n",
    "    if bool(urlparse(path).netloc):\n",
    "        from urllib.request import urlopen\n",
    "        return urlopen(path).read().decode('utf8')\n",
    "    return open(path).read()"
   ]
  },
  {
   "cell_type": "code",
   "execution_count": 7,
   "id": "realistic-blast",
   "metadata": {
    "execution": {
     "iopub.execute_input": "2022-09-10T00:51:58.603158Z",
     "iopub.status.busy": "2022-09-10T00:51:58.602470Z",
     "iopub.status.idle": "2022-09-10T00:51:58.605662Z",
     "shell.execute_reply": "2022-09-10T00:51:58.605108Z"
    },
    "papermill": {
     "duration": 0.042302,
     "end_time": "2022-09-10T00:51:58.605790",
     "exception": false,
     "start_time": "2022-09-10T00:51:58.563488",
     "status": "completed"
    },
    "tags": []
   },
   "outputs": [],
   "source": [
    "#hide\n",
    "def get_frame(name):\n",
    "    url = (\n",
    "        'https://raw.githubusercontent.com/CSSEGISandData/COVID-19/master/csse_covid_19_data/'\n",
    "        f'csse_covid_19_time_series/time_series_covid19_{name}_global.csv')\n",
    "    df = pd.read_csv(url)\n",
    "    # rename countries\n",
    "    df['Country/Region'] = df['Country/Region'].replace(mapping['replace.country'])\n",
    "    return df"
   ]
  },
  {
   "cell_type": "code",
   "execution_count": 8,
   "id": "affiliated-characterization",
   "metadata": {
    "execution": {
     "iopub.execute_input": "2022-09-10T00:51:58.679735Z",
     "iopub.status.busy": "2022-09-10T00:51:58.679009Z",
     "iopub.status.idle": "2022-09-10T00:51:58.683140Z",
     "shell.execute_reply": "2022-09-10T00:51:58.683600Z"
    },
    "papermill": {
     "duration": 0.044538,
     "end_time": "2022-09-10T00:51:58.683738",
     "exception": false,
     "start_time": "2022-09-10T00:51:58.639200",
     "status": "completed"
    },
    "tags": []
   },
   "outputs": [],
   "source": [
    "#hide\n",
    "def get_dates(df):\n",
    "    dt_cols = df.columns[~df.columns.isin(['Province/State', 'Country/Region', 'Lat', 'Long'])]\n",
    "    LAST_DATE_I = -1\n",
    "    # sometimes last column may be empty, then go backwards\n",
    "    for i in range(-1, -len(dt_cols), -1):\n",
    "        if not df[dt_cols[i]].fillna(0).eq(0).all():\n",
    "            LAST_DATE_I = i\n",
    "            break\n",
    "    return LAST_DATE_I, dt_cols"
   ]
  },
  {
   "cell_type": "code",
   "execution_count": 9,
   "id": "recent-optimization",
   "metadata": {
    "execution": {
     "iopub.execute_input": "2022-09-10T00:51:58.759333Z",
     "iopub.status.busy": "2022-09-10T00:51:58.758669Z",
     "iopub.status.idle": "2022-09-10T00:51:59.177597Z",
     "shell.execute_reply": "2022-09-10T00:51:59.177026Z"
    },
    "papermill": {
     "duration": 0.457654,
     "end_time": "2022-09-10T00:51:59.177736",
     "exception": false,
     "start_time": "2022-09-10T00:51:58.720082",
     "status": "completed"
    },
    "tags": []
   },
   "outputs": [],
   "source": [
    "#hide\n",
    "COL_REGION = 'Country/Region'\n",
    "# Confirmed, Recovered, Deaths\n",
    "df = get_frame('confirmed')\n",
    "# dft_: timeseries, dfc_: today country agg\n",
    "dft_cases = df\n",
    "dft_deaths = get_frame('deaths')\n",
    "dft_recovered = get_frame('recovered')\n",
    "LAST_DATE_I, dt_cols = get_dates(df)"
   ]
  },
  {
   "cell_type": "code",
   "execution_count": 10,
   "id": "absolute-copper",
   "metadata": {
    "execution": {
     "iopub.execute_input": "2022-09-10T00:51:59.256537Z",
     "iopub.status.busy": "2022-09-10T00:51:59.255822Z",
     "iopub.status.idle": "2022-09-10T00:51:59.258676Z",
     "shell.execute_reply": "2022-09-10T00:51:59.259167Z"
    },
    "papermill": {
     "duration": 0.044539,
     "end_time": "2022-09-10T00:51:59.259316",
     "exception": false,
     "start_time": "2022-09-10T00:51:59.214777",
     "status": "completed"
    },
    "tags": []
   },
   "outputs": [],
   "source": [
    "#hide\n",
    "LAST_DATE_I, dt_cols = get_dates(df)\n",
    "dt_today =dt_cols[LAST_DATE_I]\n",
    "# dt_5day = dt_cols[LAST_DATE_I - 5]\n",
    "dt_yday = dt_cols[LAST_DATE_I - 1]"
   ]
  },
  {
   "cell_type": "code",
   "execution_count": 11,
   "id": "restricted-sheriff",
   "metadata": {
    "execution": {
     "iopub.execute_input": "2022-09-10T00:51:59.343048Z",
     "iopub.status.busy": "2022-09-10T00:51:59.342346Z",
     "iopub.status.idle": "2022-09-10T00:51:59.351313Z",
     "shell.execute_reply": "2022-09-10T00:51:59.350638Z"
    },
    "papermill": {
     "duration": 0.052537,
     "end_time": "2022-09-10T00:51:59.351445",
     "exception": false,
     "start_time": "2022-09-10T00:51:59.298908",
     "status": "completed"
    },
    "tags": []
   },
   "outputs": [],
   "source": [
    "#hide\n",
    "dfc_cases = dft_cases.groupby(COL_REGION)[dt_today].sum()\n",
    "dfc_deaths = dft_deaths.groupby(COL_REGION)[dt_today].sum()\n",
    "# dfp_cases = dft_cases.groupby(COL_REGION)[dt_5day].sum()\n",
    "# dfp_deaths = dft_deaths.groupby(COL_REGION)[dt_5day].sum()\n",
    "dfp_cases = dft_cases.groupby(COL_REGION)[dt_yday].sum()\n",
    "dfp_deaths = dft_deaths.groupby(COL_REGION)[dt_yday].sum()"
   ]
  },
  {
   "cell_type": "code",
   "execution_count": 12,
   "id": "deluxe-hepatitis",
   "metadata": {
    "execution": {
     "iopub.execute_input": "2022-09-10T00:51:59.425805Z",
     "iopub.status.busy": "2022-09-10T00:51:59.425123Z",
     "iopub.status.idle": "2022-09-10T00:51:59.430490Z",
     "shell.execute_reply": "2022-09-10T00:51:59.429940Z"
    },
    "papermill": {
     "duration": 0.045642,
     "end_time": "2022-09-10T00:51:59.430620",
     "exception": false,
     "start_time": "2022-09-10T00:51:59.384978",
     "status": "completed"
    },
    "tags": []
   },
   "outputs": [],
   "source": [
    "#hide\n",
    "df_table = (pd.DataFrame(dict(Cases = dfc_cases, Deaths = dfc_deaths, PCases = dfp_cases, PDeaths = dfp_deaths))\n",
    "            .sort_values(by = ['Cases','Deaths'], ascending = [False, False])\n",
    "            .reset_index())"
   ]
  },
  {
   "cell_type": "code",
   "execution_count": 13,
   "id": "educational-chancellor",
   "metadata": {
    "execution": {
     "iopub.execute_input": "2022-09-10T00:51:59.506202Z",
     "iopub.status.busy": "2022-09-10T00:51:59.505498Z",
     "iopub.status.idle": "2022-09-10T00:51:59.525946Z",
     "shell.execute_reply": "2022-09-10T00:51:59.525396Z"
    },
    "papermill": {
     "duration": 0.062017,
     "end_time": "2022-09-10T00:51:59.526072",
     "exception": false,
     "start_time": "2022-09-10T00:51:59.464055",
     "status": "completed"
    },
    "tags": []
   },
   "outputs": [
    {
     "data": {
      "text/html": [
       "<div>\n",
       "<style scoped>\n",
       "    .dataframe tbody tr th:only-of-type {\n",
       "        vertical-align: middle;\n",
       "    }\n",
       "\n",
       "    .dataframe tbody tr th {\n",
       "        vertical-align: top;\n",
       "    }\n",
       "\n",
       "    .dataframe thead th {\n",
       "        text-align: right;\n",
       "    }\n",
       "</style>\n",
       "<table border=\"1\" class=\"dataframe\">\n",
       "  <thead>\n",
       "    <tr style=\"text-align: right;\">\n",
       "      <th></th>\n",
       "      <th>Country/Region</th>\n",
       "      <th>Cases</th>\n",
       "      <th>Deaths</th>\n",
       "      <th>PCases</th>\n",
       "      <th>PDeaths</th>\n",
       "      <th>Cases (+)</th>\n",
       "      <th>Deaths (+)</th>\n",
       "      <th>Fatality Rate</th>\n",
       "      <th>Continent</th>\n",
       "    </tr>\n",
       "  </thead>\n",
       "  <tbody>\n",
       "    <tr>\n",
       "      <th>0</th>\n",
       "      <td>US</td>\n",
       "      <td>95119445</td>\n",
       "      <td>1049749</td>\n",
       "      <td>94996088</td>\n",
       "      <td>1049075</td>\n",
       "      <td>123357</td>\n",
       "      <td>674</td>\n",
       "      <td>1.10</td>\n",
       "      <td>North America</td>\n",
       "    </tr>\n",
       "    <tr>\n",
       "      <th>1</th>\n",
       "      <td>India</td>\n",
       "      <td>44484729</td>\n",
       "      <td>528121</td>\n",
       "      <td>44478636</td>\n",
       "      <td>528090</td>\n",
       "      <td>6093</td>\n",
       "      <td>31</td>\n",
       "      <td>1.19</td>\n",
       "      <td>Asia</td>\n",
       "    </tr>\n",
       "    <tr>\n",
       "      <th>2</th>\n",
       "      <td>France</td>\n",
       "      <td>34879822</td>\n",
       "      <td>155477</td>\n",
       "      <td>34859956</td>\n",
       "      <td>155419</td>\n",
       "      <td>19866</td>\n",
       "      <td>58</td>\n",
       "      <td>0.45</td>\n",
       "      <td>Europe</td>\n",
       "    </tr>\n",
       "    <tr>\n",
       "      <th>3</th>\n",
       "      <td>Brazil</td>\n",
       "      <td>34477539</td>\n",
       "      <td>684425</td>\n",
       "      <td>34477539</td>\n",
       "      <td>684425</td>\n",
       "      <td>0</td>\n",
       "      <td>0</td>\n",
       "      <td>1.99</td>\n",
       "      <td>South America</td>\n",
       "    </tr>\n",
       "    <tr>\n",
       "      <th>4</th>\n",
       "      <td>Germany</td>\n",
       "      <td>32422084</td>\n",
       "      <td>148217</td>\n",
       "      <td>32386089</td>\n",
       "      <td>148098</td>\n",
       "      <td>35995</td>\n",
       "      <td>119</td>\n",
       "      <td>0.46</td>\n",
       "      <td>Europe</td>\n",
       "    </tr>\n",
       "  </tbody>\n",
       "</table>\n",
       "</div>"
      ],
      "text/plain": [
       "  Country/Region     Cases   Deaths    PCases  PDeaths  Cases (+)  Deaths (+)  \\\n",
       "0             US  95119445  1049749  94996088  1049075     123357         674   \n",
       "1          India  44484729   528121  44478636   528090       6093          31   \n",
       "2         France  34879822   155477  34859956   155419      19866          58   \n",
       "3         Brazil  34477539   684425  34477539   684425          0           0   \n",
       "4        Germany  32422084   148217  32386089   148098      35995         119   \n",
       "\n",
       "   Fatality Rate      Continent  \n",
       "0           1.10  North America  \n",
       "1           1.19           Asia  \n",
       "2           0.45         Europe  \n",
       "3           1.99  South America  \n",
       "4           0.46         Europe  "
      ]
     },
     "execution_count": 13,
     "metadata": {},
     "output_type": "execute_result"
    }
   ],
   "source": [
    "#hide\n",
    "for c in 'Cases, Deaths'.split(', '):\n",
    "    df_table[f'{c} (+)'] = (df_table[c] - df_table[f'P{c}']).clip(0)\n",
    "    #Clip ça veut dire, les chiffres negatif sont interdit\n",
    "df_table['Fatality Rate'] = (100* df_table['Deaths']/ df_table['Cases']).round(2)\n",
    "df_table['Continent'] = df_table['Country/Region'].map(mapping['map.continent'])\n",
    "df_table.head(5)"
   ]
  },
  {
   "cell_type": "code",
   "execution_count": 14,
   "id": "aboriginal-bulgaria",
   "metadata": {
    "execution": {
     "iopub.execute_input": "2022-09-10T00:51:59.599008Z",
     "iopub.status.busy": "2022-09-10T00:51:59.598255Z",
     "iopub.status.idle": "2022-09-10T00:51:59.600640Z",
     "shell.execute_reply": "2022-09-10T00:51:59.601143Z"
    },
    "papermill": {
     "duration": 0.042183,
     "end_time": "2022-09-10T00:51:59.601294",
     "exception": false,
     "start_time": "2022-09-10T00:51:59.559111",
     "status": "completed"
    },
    "tags": []
   },
   "outputs": [],
   "source": [
    "#hide\n",
    "#delete problematic countries from table\n",
    "df_table = df_table[~df_table['Country/Region'].isin(['Cape Verde', 'Cruise Ship', 'Kosovo'])]"
   ]
  },
  {
   "cell_type": "code",
   "execution_count": 15,
   "id": "fantastic-effect",
   "metadata": {
    "execution": {
     "iopub.execute_input": "2022-09-10T00:51:59.677834Z",
     "iopub.status.busy": "2022-09-10T00:51:59.677149Z",
     "iopub.status.idle": "2022-09-10T00:51:59.700975Z",
     "shell.execute_reply": "2022-09-10T00:51:59.701548Z"
    },
    "papermill": {
     "duration": 0.066544,
     "end_time": "2022-09-10T00:51:59.701705",
     "exception": false,
     "start_time": "2022-09-10T00:51:59.635161",
     "status": "completed"
    },
    "tags": []
   },
   "outputs": [
    {
     "data": {
      "text/html": [
       "<div>\n",
       "<style scoped>\n",
       "    .dataframe tbody tr th:only-of-type {\n",
       "        vertical-align: middle;\n",
       "    }\n",
       "\n",
       "    .dataframe tbody tr th {\n",
       "        vertical-align: top;\n",
       "    }\n",
       "\n",
       "    .dataframe thead th {\n",
       "        text-align: right;\n",
       "    }\n",
       "</style>\n",
       "<table border=\"1\" class=\"dataframe\">\n",
       "  <thead>\n",
       "    <tr style=\"text-align: right;\">\n",
       "      <th></th>\n",
       "      <th>Country/Region</th>\n",
       "      <th>Cases</th>\n",
       "      <th>Deaths</th>\n",
       "      <th>PCases</th>\n",
       "      <th>PDeaths</th>\n",
       "      <th>Cases (+)</th>\n",
       "      <th>Deaths (+)</th>\n",
       "      <th>Fatality Rate</th>\n",
       "      <th>Continent</th>\n",
       "    </tr>\n",
       "  </thead>\n",
       "  <tbody>\n",
       "    <tr>\n",
       "      <th>0</th>\n",
       "      <td>US</td>\n",
       "      <td>95119445</td>\n",
       "      <td>1049749</td>\n",
       "      <td>94996088</td>\n",
       "      <td>1049075</td>\n",
       "      <td>123357</td>\n",
       "      <td>674</td>\n",
       "      <td>1.1</td>\n",
       "      <td>North America</td>\n",
       "    </tr>\n",
       "    <tr>\n",
       "      <th>1</th>\n",
       "      <td>India</td>\n",
       "      <td>44484729</td>\n",
       "      <td>528121</td>\n",
       "      <td>44478636</td>\n",
       "      <td>528090</td>\n",
       "      <td>6093</td>\n",
       "      <td>31</td>\n",
       "      <td>1.2</td>\n",
       "      <td>Asia</td>\n",
       "    </tr>\n",
       "    <tr>\n",
       "      <th>2</th>\n",
       "      <td>France</td>\n",
       "      <td>34879822</td>\n",
       "      <td>155477</td>\n",
       "      <td>34859956</td>\n",
       "      <td>155419</td>\n",
       "      <td>19866</td>\n",
       "      <td>58</td>\n",
       "      <td>0.4</td>\n",
       "      <td>Europe</td>\n",
       "    </tr>\n",
       "    <tr>\n",
       "      <th>3</th>\n",
       "      <td>Brazil</td>\n",
       "      <td>34477539</td>\n",
       "      <td>684425</td>\n",
       "      <td>34477539</td>\n",
       "      <td>684425</td>\n",
       "      <td>0</td>\n",
       "      <td>0</td>\n",
       "      <td>2.0</td>\n",
       "      <td>South America</td>\n",
       "    </tr>\n",
       "    <tr>\n",
       "      <th>4</th>\n",
       "      <td>Germany</td>\n",
       "      <td>32422084</td>\n",
       "      <td>148217</td>\n",
       "      <td>32386089</td>\n",
       "      <td>148098</td>\n",
       "      <td>35995</td>\n",
       "      <td>119</td>\n",
       "      <td>0.5</td>\n",
       "      <td>Europe</td>\n",
       "    </tr>\n",
       "  </tbody>\n",
       "</table>\n",
       "</div>"
      ],
      "text/plain": [
       "  Country/Region     Cases   Deaths    PCases  PDeaths  Cases (+)  Deaths (+)  \\\n",
       "0             US  95119445  1049749  94996088  1049075     123357         674   \n",
       "1          India  44484729   528121  44478636   528090       6093          31   \n",
       "2         France  34879822   155477  34859956   155419      19866          58   \n",
       "3         Brazil  34477539   684425  34477539   684425          0           0   \n",
       "4        Germany  32422084   148217  32386089   148098      35995         119   \n",
       "\n",
       "   Fatality Rate      Continent  \n",
       "0            1.1  North America  \n",
       "1            1.2           Asia  \n",
       "2            0.4         Europe  \n",
       "3            2.0  South America  \n",
       "4            0.5         Europe  "
      ]
     },
     "execution_count": 15,
     "metadata": {},
     "output_type": "execute_result"
    }
   ],
   "source": [
    "#hide\n",
    "df_table = (pd.DataFrame(dict(Cases=dfc_cases, Deaths=dfc_deaths, PCases=dfp_cases, PDeaths=dfp_deaths))\n",
    "             .sort_values(by=['Cases', 'Deaths'], ascending=[False, False])\n",
    "             .reset_index())\n",
    "df_table.rename(columns={'index': 'Country/Region'}, inplace=True)\n",
    "for c in 'Cases, Deaths'.split(', '):\n",
    "    df_table[f'{c} (+)'] = (df_table[c] - df_table[f'P{c}']).clip(0)  # DATA BUG\n",
    "df_table['Fatality Rate'] = (100 * df_table['Deaths'] / df_table['Cases']).round(1)\n",
    "df_table['Continent'] = df_table['Country/Region'].map(mapping['map.continent'])\n",
    "df_table.head(5)"
   ]
  },
  {
   "cell_type": "code",
   "execution_count": 16,
   "id": "fewer-occasion",
   "metadata": {
    "execution": {
     "iopub.execute_input": "2022-09-10T00:51:59.778443Z",
     "iopub.status.busy": "2022-09-10T00:51:59.777761Z",
     "iopub.status.idle": "2022-09-10T00:51:59.780604Z",
     "shell.execute_reply": "2022-09-10T00:51:59.781235Z"
    },
    "papermill": {
     "duration": 0.044932,
     "end_time": "2022-09-10T00:51:59.781381",
     "exception": false,
     "start_time": "2022-09-10T00:51:59.736449",
     "status": "completed"
    },
    "tags": []
   },
   "outputs": [],
   "source": [
    "#hide\n",
    "#delete problematic countries from table\n",
    "df_table = df_table[~df_table['Country/Region'].isin(['Cape Verde', 'Cruise Ship', 'Kosovo'])]"
   ]
  },
  {
   "cell_type": "code",
   "execution_count": 17,
   "id": "related-center",
   "metadata": {
    "execution": {
     "iopub.execute_input": "2022-09-10T00:51:59.859452Z",
     "iopub.status.busy": "2022-09-10T00:51:59.858766Z",
     "iopub.status.idle": "2022-09-10T00:51:59.874313Z",
     "shell.execute_reply": "2022-09-10T00:51:59.874905Z"
    },
    "papermill": {
     "duration": 0.058204,
     "end_time": "2022-09-10T00:51:59.875081",
     "exception": false,
     "start_time": "2022-09-10T00:51:59.816877",
     "status": "completed"
    },
    "tags": []
   },
   "outputs": [],
   "source": [
    "#hide\n",
    "metrics = [df_table.columns[index] for index in [1,2,5,6]]\n",
    "# s_china = df_table[df_table['Country/Region'].eq('China')][metrics].sum().add_prefix('China ')\n",
    "s_us = df_table[df_table['Country/Region'].eq('US')][metrics].sum().add_prefix('US ')\n",
    "s_eu = df_table[df_table['Continent'].eq('Europe')][metrics].sum().add_prefix('EU ')\n",
    "s_ind = df_table[df_table['Country/Region'].eq('India')][metrics].sum().add_prefix('India ')\n",
    "summary = {'updated': pd.to_datetime(dt_today), 'since': pd.to_datetime(dt_yday)}\n",
    "summary = {'updated': pd.to_datetime(dt_today), 'since': pd.to_datetime(dt_yday)}\n",
    "summary = {**summary, **df_table[metrics].sum(), **s_ind, **s_us, **s_eu}"
   ]
  },
  {
   "cell_type": "code",
   "execution_count": 18,
   "id": "engaging-syndrome",
   "metadata": {
    "execution": {
     "iopub.execute_input": "2022-09-10T00:51:59.950174Z",
     "iopub.status.busy": "2022-09-10T00:51:59.949490Z",
     "iopub.status.idle": "2022-09-10T00:51:59.972519Z",
     "shell.execute_reply": "2022-09-10T00:51:59.971903Z"
    },
    "papermill": {
     "duration": 0.062482,
     "end_time": "2022-09-10T00:51:59.972657",
     "exception": false,
     "start_time": "2022-09-10T00:51:59.910175",
     "status": "completed"
    },
    "tags": []
   },
   "outputs": [],
   "source": [
    "#hide\n",
    "dft_ct_new_cases = dft_cases.groupby(COL_REGION)[dt_cols].sum().diff(axis=1).fillna(0).astype(int)"
   ]
  },
  {
   "cell_type": "code",
   "execution_count": 19,
   "id": "neutral-assignment",
   "metadata": {
    "execution": {
     "iopub.execute_input": "2022-09-10T00:52:00.048569Z",
     "iopub.status.busy": "2022-09-10T00:52:00.047829Z",
     "iopub.status.idle": "2022-09-10T00:52:00.051039Z",
     "shell.execute_reply": "2022-09-10T00:52:00.050487Z"
    },
    "papermill": {
     "duration": 0.045011,
     "end_time": "2022-09-10T00:52:00.051221",
     "exception": false,
     "start_time": "2022-09-10T00:52:00.006210",
     "status": "completed"
    },
    "tags": []
   },
   "outputs": [],
   "source": [
    "#hide\n",
    "everydaycases = dft_ct_new_cases.cumsum(axis=1)"
   ]
  },
  {
   "cell_type": "code",
   "execution_count": 20,
   "id": "parliamentary-calgary",
   "metadata": {
    "execution": {
     "iopub.execute_input": "2022-09-10T00:52:00.125464Z",
     "iopub.status.busy": "2022-09-10T00:52:00.124768Z",
     "iopub.status.idle": "2022-09-10T00:52:00.797512Z",
     "shell.execute_reply": "2022-09-10T00:52:00.796937Z"
    },
    "papermill": {
     "duration": 0.711946,
     "end_time": "2022-09-10T00:52:00.797652",
     "exception": false,
     "start_time": "2022-09-10T00:52:00.085706",
     "status": "completed"
    },
    "tags": []
   },
   "outputs": [],
   "source": [
    "#hide\n",
    "import pandas as pd\n",
    "import matplotlib.pyplot as plt\n",
    "import matplotlib.ticker as ticker\n",
    "import matplotlib.animation as animation\n",
    "from IPython.display import HTML"
   ]
  },
  {
   "cell_type": "code",
   "execution_count": 21,
   "id": "lasting-extraction",
   "metadata": {
    "execution": {
     "iopub.execute_input": "2022-09-10T00:52:00.874551Z",
     "iopub.status.busy": "2022-09-10T00:52:00.873849Z",
     "iopub.status.idle": "2022-09-10T00:52:00.887501Z",
     "shell.execute_reply": "2022-09-10T00:52:00.886930Z"
    },
    "papermill": {
     "duration": 0.055255,
     "end_time": "2022-09-10T00:52:00.887632",
     "exception": false,
     "start_time": "2022-09-10T00:52:00.832377",
     "status": "completed"
    },
    "tags": []
   },
   "outputs": [],
   "source": [
    "#hide\n",
    "t = everydaycases.stack()"
   ]
  },
  {
   "cell_type": "code",
   "execution_count": 22,
   "id": "premier-sleeve",
   "metadata": {
    "execution": {
     "iopub.execute_input": "2022-09-10T00:52:00.959606Z",
     "iopub.status.busy": "2022-09-10T00:52:00.958927Z",
     "iopub.status.idle": "2022-09-10T00:52:00.972960Z",
     "shell.execute_reply": "2022-09-10T00:52:00.973630Z"
    },
    "papermill": {
     "duration": 0.052545,
     "end_time": "2022-09-10T00:52:00.973781",
     "exception": false,
     "start_time": "2022-09-10T00:52:00.921236",
     "status": "completed"
    },
    "tags": []
   },
   "outputs": [],
   "source": [
    "#hide\n",
    "g = t.reset_index(['Country/Region'])"
   ]
  },
  {
   "cell_type": "code",
   "execution_count": 23,
   "id": "distributed-pittsburgh",
   "metadata": {
    "execution": {
     "iopub.execute_input": "2022-09-10T00:52:01.047732Z",
     "iopub.status.busy": "2022-09-10T00:52:01.047008Z",
     "iopub.status.idle": "2022-09-10T00:52:01.051505Z",
     "shell.execute_reply": "2022-09-10T00:52:01.050954Z"
    },
    "papermill": {
     "duration": 0.043066,
     "end_time": "2022-09-10T00:52:01.051629",
     "exception": false,
     "start_time": "2022-09-10T00:52:01.008563",
     "status": "completed"
    },
    "tags": []
   },
   "outputs": [],
   "source": [
    "#hide\n",
    "g.index.name = 'date'"
   ]
  },
  {
   "cell_type": "code",
   "execution_count": 24,
   "id": "naked-donor",
   "metadata": {
    "execution": {
     "iopub.execute_input": "2022-09-10T00:52:01.125820Z",
     "iopub.status.busy": "2022-09-10T00:52:01.124775Z",
     "iopub.status.idle": "2022-09-10T00:52:01.126581Z",
     "shell.execute_reply": "2022-09-10T00:52:01.127321Z"
    },
    "papermill": {
     "duration": 0.041096,
     "end_time": "2022-09-10T00:52:01.127537",
     "exception": false,
     "start_time": "2022-09-10T00:52:01.086441",
     "status": "completed"
    },
    "tags": []
   },
   "outputs": [],
   "source": [
    "# #hide\n",
    "# g = g.reset_index(['date'])"
   ]
  },
  {
   "cell_type": "code",
   "execution_count": 25,
   "id": "incomplete-mustang",
   "metadata": {
    "execution": {
     "iopub.execute_input": "2022-09-10T00:52:01.208148Z",
     "iopub.status.busy": "2022-09-10T00:52:01.207320Z",
     "iopub.status.idle": "2022-09-10T00:52:01.212148Z",
     "shell.execute_reply": "2022-09-10T00:52:01.211485Z"
    },
    "papermill": {
     "duration": 0.043747,
     "end_time": "2022-09-10T00:52:01.212298",
     "exception": false,
     "start_time": "2022-09-10T00:52:01.168551",
     "status": "completed"
    },
    "tags": []
   },
   "outputs": [],
   "source": [
    "#hide\n",
    "# g.head()"
   ]
  },
  {
   "cell_type": "code",
   "execution_count": 26,
   "id": "specific-kruger",
   "metadata": {
    "execution": {
     "iopub.execute_input": "2022-09-10T00:52:01.286044Z",
     "iopub.status.busy": "2022-09-10T00:52:01.285362Z",
     "iopub.status.idle": "2022-09-10T00:52:01.288658Z",
     "shell.execute_reply": "2022-09-10T00:52:01.287938Z"
    },
    "papermill": {
     "duration": 0.041935,
     "end_time": "2022-09-10T00:52:01.288840",
     "exception": false,
     "start_time": "2022-09-10T00:52:01.246905",
     "status": "completed"
    },
    "tags": []
   },
   "outputs": [],
   "source": [
    "#hide\n",
    "# g.columns = ['date','country','cases']"
   ]
  },
  {
   "cell_type": "code",
   "execution_count": 27,
   "id": "tender-conversion",
   "metadata": {
    "execution": {
     "iopub.execute_input": "2022-09-10T00:52:01.371718Z",
     "iopub.status.busy": "2022-09-10T00:52:01.370896Z",
     "iopub.status.idle": "2022-09-10T00:52:01.374177Z",
     "shell.execute_reply": "2022-09-10T00:52:01.373525Z"
    },
    "papermill": {
     "duration": 0.046743,
     "end_time": "2022-09-10T00:52:01.374319",
     "exception": false,
     "start_time": "2022-09-10T00:52:01.327576",
     "status": "completed"
    },
    "tags": []
   },
   "outputs": [],
   "source": [
    "#hide\n",
    "# g['continent'] = g.country"
   ]
  },
  {
   "cell_type": "code",
   "execution_count": 28,
   "id": "substantial-wilderness",
   "metadata": {
    "execution": {
     "iopub.execute_input": "2022-09-10T00:52:01.447478Z",
     "iopub.status.busy": "2022-09-10T00:52:01.446759Z",
     "iopub.status.idle": "2022-09-10T00:52:01.449610Z",
     "shell.execute_reply": "2022-09-10T00:52:01.448878Z"
    },
    "papermill": {
     "duration": 0.041135,
     "end_time": "2022-09-10T00:52:01.449736",
     "exception": false,
     "start_time": "2022-09-10T00:52:01.408601",
     "status": "completed"
    },
    "tags": []
   },
   "outputs": [],
   "source": [
    "#hide\n",
    "# cols = list(g.columns.values)"
   ]
  },
  {
   "cell_type": "code",
   "execution_count": 29,
   "id": "solved-farming",
   "metadata": {
    "execution": {
     "iopub.execute_input": "2022-09-10T00:52:01.531378Z",
     "iopub.status.busy": "2022-09-10T00:52:01.530534Z",
     "iopub.status.idle": "2022-09-10T00:52:01.534918Z",
     "shell.execute_reply": "2022-09-10T00:52:01.535535Z"
    },
    "papermill": {
     "duration": 0.045673,
     "end_time": "2022-09-10T00:52:01.535709",
     "exception": false,
     "start_time": "2022-09-10T00:52:01.490036",
     "status": "completed"
    },
    "tags": []
   },
   "outputs": [],
   "source": [
    "#hide\n",
    "# cols.insert(0, cols.pop())"
   ]
  },
  {
   "cell_type": "code",
   "execution_count": 30,
   "id": "executed-adoption",
   "metadata": {
    "execution": {
     "iopub.execute_input": "2022-09-10T00:52:01.609924Z",
     "iopub.status.busy": "2022-09-10T00:52:01.609232Z",
     "iopub.status.idle": "2022-09-10T00:52:01.611369Z",
     "shell.execute_reply": "2022-09-10T00:52:01.611861Z"
    },
    "papermill": {
     "duration": 0.041363,
     "end_time": "2022-09-10T00:52:01.612012",
     "exception": false,
     "start_time": "2022-09-10T00:52:01.570649",
     "status": "completed"
    },
    "tags": []
   },
   "outputs": [],
   "source": [
    "#hide\n",
    "# g = g[cols]"
   ]
  },
  {
   "cell_type": "code",
   "execution_count": 31,
   "id": "subject-dublin",
   "metadata": {
    "execution": {
     "iopub.execute_input": "2022-09-10T00:52:01.685741Z",
     "iopub.status.busy": "2022-09-10T00:52:01.684918Z",
     "iopub.status.idle": "2022-09-10T00:52:01.686922Z",
     "shell.execute_reply": "2022-09-10T00:52:01.687527Z"
    },
    "papermill": {
     "duration": 0.041343,
     "end_time": "2022-09-10T00:52:01.687690",
     "exception": false,
     "start_time": "2022-09-10T00:52:01.646347",
     "status": "completed"
    },
    "tags": []
   },
   "outputs": [],
   "source": [
    "#hide\n",
    "# g['continent'] = g['continent'].map(mapping['map.continent'])"
   ]
  },
  {
   "cell_type": "code",
   "execution_count": 32,
   "id": "freelance-scout",
   "metadata": {
    "execution": {
     "iopub.execute_input": "2022-09-10T00:52:01.761114Z",
     "iopub.status.busy": "2022-09-10T00:52:01.760441Z",
     "iopub.status.idle": "2022-09-10T00:52:01.762941Z",
     "shell.execute_reply": "2022-09-10T00:52:01.762382Z"
    },
    "papermill": {
     "duration": 0.040631,
     "end_time": "2022-09-10T00:52:01.763064",
     "exception": false,
     "start_time": "2022-09-10T00:52:01.722433",
     "status": "completed"
    },
    "tags": []
   },
   "outputs": [],
   "source": [
    "#hide\n",
    "# g.head()"
   ]
  },
  {
   "cell_type": "code",
   "execution_count": 33,
   "id": "limited-engine",
   "metadata": {
    "execution": {
     "iopub.execute_input": "2022-09-10T00:52:01.836030Z",
     "iopub.status.busy": "2022-09-10T00:52:01.835208Z",
     "iopub.status.idle": "2022-09-10T00:52:01.837208Z",
     "shell.execute_reply": "2022-09-10T00:52:01.837854Z"
    },
    "papermill": {
     "duration": 0.040867,
     "end_time": "2022-09-10T00:52:01.838019",
     "exception": false,
     "start_time": "2022-09-10T00:52:01.797152",
     "status": "completed"
    },
    "tags": []
   },
   "outputs": [],
   "source": [
    "# hide\n",
    "# g['date'] = g['date'].astype('datetime64[ns]')"
   ]
  },
  {
   "cell_type": "code",
   "execution_count": 34,
   "id": "sophisticated-supervisor",
   "metadata": {
    "execution": {
     "iopub.execute_input": "2022-09-10T00:52:01.912134Z",
     "iopub.status.busy": "2022-09-10T00:52:01.911306Z",
     "iopub.status.idle": "2022-09-10T00:52:01.913319Z",
     "shell.execute_reply": "2022-09-10T00:52:01.913844Z"
    },
    "papermill": {
     "duration": 0.040929,
     "end_time": "2022-09-10T00:52:01.913992",
     "exception": false,
     "start_time": "2022-09-10T00:52:01.873063",
     "status": "completed"
    },
    "tags": []
   },
   "outputs": [],
   "source": [
    "#hide\n",
    "# g['date'] = g.date.dt.dayofyear"
   ]
  },
  {
   "cell_type": "code",
   "execution_count": 35,
   "id": "inside-dubai",
   "metadata": {
    "execution": {
     "iopub.execute_input": "2022-09-10T00:52:01.988278Z",
     "iopub.status.busy": "2022-09-10T00:52:01.987409Z",
     "iopub.status.idle": "2022-09-10T00:52:01.989179Z",
     "shell.execute_reply": "2022-09-10T00:52:01.989784Z"
    },
    "papermill": {
     "duration": 0.041661,
     "end_time": "2022-09-10T00:52:01.989952",
     "exception": false,
     "start_time": "2022-09-10T00:52:01.948291",
     "status": "completed"
    },
    "tags": []
   },
   "outputs": [],
   "source": [
    "#hide\n",
    "# g = g.rename(columns= {'continent':'group','country':'name','cases':'value'})"
   ]
  },
  {
   "cell_type": "code",
   "execution_count": 36,
   "id": "fleet-motorcycle",
   "metadata": {
    "execution": {
     "iopub.execute_input": "2022-09-10T00:52:02.065097Z",
     "iopub.status.busy": "2022-09-10T00:52:02.064240Z",
     "iopub.status.idle": "2022-09-10T00:52:02.066129Z",
     "shell.execute_reply": "2022-09-10T00:52:02.066691Z"
    },
    "papermill": {
     "duration": 0.041392,
     "end_time": "2022-09-10T00:52:02.066843",
     "exception": false,
     "start_time": "2022-09-10T00:52:02.025451",
     "status": "completed"
    },
    "tags": []
   },
   "outputs": [],
   "source": [
    "#hide\n",
    "# cols = ['name','group','day','value']"
   ]
  },
  {
   "cell_type": "code",
   "execution_count": 37,
   "id": "continued-sleeping",
   "metadata": {
    "execution": {
     "iopub.execute_input": "2022-09-10T00:52:02.140665Z",
     "iopub.status.busy": "2022-09-10T00:52:02.139798Z",
     "iopub.status.idle": "2022-09-10T00:52:02.141775Z",
     "shell.execute_reply": "2022-09-10T00:52:02.142418Z"
    },
    "papermill": {
     "duration": 0.04126,
     "end_time": "2022-09-10T00:52:02.142583",
     "exception": false,
     "start_time": "2022-09-10T00:52:02.101323",
     "status": "completed"
    },
    "tags": []
   },
   "outputs": [],
   "source": [
    "#hide\n",
    "# g.rename(columns= {'date':'day'},inplace = True)"
   ]
  },
  {
   "cell_type": "code",
   "execution_count": 38,
   "id": "major-fight",
   "metadata": {
    "execution": {
     "iopub.execute_input": "2022-09-10T00:52:02.217173Z",
     "iopub.status.busy": "2022-09-10T00:52:02.216337Z",
     "iopub.status.idle": "2022-09-10T00:52:02.218143Z",
     "shell.execute_reply": "2022-09-10T00:52:02.218781Z"
    },
    "papermill": {
     "duration": 0.041007,
     "end_time": "2022-09-10T00:52:02.218927",
     "exception": false,
     "start_time": "2022-09-10T00:52:02.177920",
     "status": "completed"
    },
    "tags": []
   },
   "outputs": [],
   "source": [
    "#hide\n",
    "# g = g[cols]"
   ]
  },
  {
   "cell_type": "code",
   "execution_count": 39,
   "id": "structured-mobile",
   "metadata": {
    "execution": {
     "iopub.execute_input": "2022-09-10T00:52:02.292272Z",
     "iopub.status.busy": "2022-09-10T00:52:02.291524Z",
     "iopub.status.idle": "2022-09-10T00:52:02.295377Z",
     "shell.execute_reply": "2022-09-10T00:52:02.294824Z"
    },
    "papermill": {
     "duration": 0.042597,
     "end_time": "2022-09-10T00:52:02.295504",
     "exception": false,
     "start_time": "2022-09-10T00:52:02.252907",
     "status": "completed"
    },
    "tags": []
   },
   "outputs": [],
   "source": [
    "# #hide\n",
    "# g = g[g.group.notna()]"
   ]
  },
  {
   "cell_type": "code",
   "execution_count": 40,
   "id": "determined-closing",
   "metadata": {
    "execution": {
     "iopub.execute_input": "2022-09-10T00:52:02.368394Z",
     "iopub.status.busy": "2022-09-10T00:52:02.367652Z",
     "iopub.status.idle": "2022-09-10T00:52:02.370539Z",
     "shell.execute_reply": "2022-09-10T00:52:02.369984Z"
    },
    "papermill": {
     "duration": 0.040708,
     "end_time": "2022-09-10T00:52:02.370665",
     "exception": false,
     "start_time": "2022-09-10T00:52:02.329957",
     "status": "completed"
    },
    "tags": []
   },
   "outputs": [],
   "source": [
    "# #hide\n",
    "# colors = dict(zip(\n",
    "#     [\"Oceania\", \"Europe\", \"Asia\", \"South America\", \"Middle East\", \"North America\", \"Africa\"],\n",
    "#     [\"#adb0ff\", \"#ffb3ff\", \"#90d595\", \"#e48381\", \"#aafbff\", \"#f7bb5f\", \"#eafb50\"]\n",
    "# ))\n",
    "# group_lk = g.set_index('name')['group'].to_dict()"
   ]
  },
  {
   "cell_type": "code",
   "execution_count": null,
   "id": "gross-drinking",
   "metadata": {
    "papermill": {
     "duration": 0.034049,
     "end_time": "2022-09-10T00:52:02.445731",
     "exception": false,
     "start_time": "2022-09-10T00:52:02.411682",
     "status": "completed"
    },
    "tags": []
   },
   "outputs": [],
   "source": []
  },
  {
   "cell_type": "code",
   "execution_count": 41,
   "id": "subject-macintosh",
   "metadata": {
    "execution": {
     "iopub.execute_input": "2022-09-10T00:52:02.519229Z",
     "iopub.status.busy": "2022-09-10T00:52:02.518529Z",
     "iopub.status.idle": "2022-09-10T00:52:02.521188Z",
     "shell.execute_reply": "2022-09-10T00:52:02.521840Z"
    },
    "papermill": {
     "duration": 0.04243,
     "end_time": "2022-09-10T00:52:02.521985",
     "exception": false,
     "start_time": "2022-09-10T00:52:02.479555",
     "status": "completed"
    },
    "tags": []
   },
   "outputs": [],
   "source": [
    "# #hide\n",
    "# fig, ax = plt.subplots(figsize=(15, 8))\n",
    "\n",
    "# def draw_barchart(current_day):\n",
    "#     dff = g[g['day'].eq(current_day)].sort_values(by='value', ascending=True).tail(10)\n",
    "#     ax.clear()\n",
    "#     ax.barh(dff['name'], dff['value'], color=[colors[group_lk[x]] for x in dff['name']])\n",
    "#     dx = dff['value'].max() / 200\n",
    "    \n",
    "#     for i, (value, name) in enumerate(zip(dff['value'], dff['name'])):\n",
    "#         ax.text(value-dx, i,     name,           size=14, weight=600, ha='right', va='bottom')\n",
    "#         ax.text(value-dx, i-.25, group_lk[name], size=10, color='#444444', ha='right', va='baseline')\n",
    "#         ax.text(value+dx, i,     f'{value:,.0f}',  size=14, ha='left',  va='center')\n",
    "#     ax.text(1, 0.4, current_day, transform=ax.transAxes, color='#777777', size=46, ha='right', weight=800)\n",
    "#     ax.text(0, 1.06, 'Population (thousands)', transform=ax.transAxes, size=12, color='#777777')\n",
    "#     ax.xaxis.set_major_formatter(ticker.StrMethodFormatter('{x:,.0f}'))\n",
    "#     ax.xaxis.set_ticks_position('top')\n",
    "#     ax.tick_params(axis='x', colors='#777777', labelsize=12)\n",
    "#     ax.set_yticks([])\n",
    "#     ax.margins(0, 0.01)\n",
    "#     ax.grid(which='major', axis='x', linestyle='-')\n",
    "#     ax.set_axisbelow(True)\n",
    "    \n",
    "#     ax.text(0, 1.15, 'Coronavirus',\n",
    "#             transform=ax.transAxes, size=24, weight=600, ha='left', va='top')\n",
    "# #     ax.text(1, 0, 'by @pratapvardhan; credit @jburnmurdoch', transform=ax.transAxes, color='#777777', ha='right',\n",
    "# #             bbox=dict(facecolor='white', alpha=0.8, edgecolor='white'))\n",
    "#     plt.box(False)"
   ]
  },
  {
   "cell_type": "code",
   "execution_count": 42,
   "id": "sexual-wages",
   "metadata": {
    "execution": {
     "iopub.execute_input": "2022-09-10T00:52:02.596096Z",
     "iopub.status.busy": "2022-09-10T00:52:02.595380Z",
     "iopub.status.idle": "2022-09-10T00:52:02.599799Z",
     "shell.execute_reply": "2022-09-10T00:52:02.599230Z"
    },
    "papermill": {
     "duration": 0.043483,
     "end_time": "2022-09-10T00:52:02.599929",
     "exception": false,
     "start_time": "2022-09-10T00:52:02.556446",
     "status": "completed"
    },
    "tags": []
   },
   "outputs": [],
   "source": [
    "# #hide_input\n",
    "# fig, ax = plt.subplots(figsize=(15, 8))\n",
    "# animator = animation.FuncAnimation(fig, draw_barchart, frames=range(g.day.values.min(), g.day.values.max()))\n",
    "# HTML(animator.to_jshtml())\n",
    "# # or use animator.to_html5_video() or animator.save() "
   ]
  },
  {
   "cell_type": "code",
   "execution_count": null,
   "id": "australian-container",
   "metadata": {
    "papermill": {
     "duration": 0.034415,
     "end_time": "2022-09-10T00:52:02.669101",
     "exception": false,
     "start_time": "2022-09-10T00:52:02.634686",
     "status": "completed"
    },
    "tags": []
   },
   "outputs": [],
   "source": []
  },
  {
   "cell_type": "code",
   "execution_count": null,
   "id": "mediterranean-pontiac",
   "metadata": {
    "papermill": {
     "duration": 0.03453,
     "end_time": "2022-09-10T00:52:02.738912",
     "exception": false,
     "start_time": "2022-09-10T00:52:02.704382",
     "status": "completed"
    },
    "tags": []
   },
   "outputs": [],
   "source": []
  },
  {
   "cell_type": "code",
   "execution_count": null,
   "id": "aging-legislature",
   "metadata": {
    "papermill": {
     "duration": 0.034411,
     "end_time": "2022-09-10T00:52:02.808064",
     "exception": false,
     "start_time": "2022-09-10T00:52:02.773653",
     "status": "completed"
    },
    "tags": []
   },
   "outputs": [],
   "source": []
  }
 ],
 "metadata": {
  "kernelspec": {
   "display_name": "Python 3",
   "language": "python",
   "name": "python3"
  },
  "language_info": {
   "codemirror_mode": {
    "name": "ipython",
    "version": 3
   },
   "file_extension": ".py",
   "mimetype": "text/x-python",
   "name": "python",
   "nbconvert_exporter": "python",
   "pygments_lexer": "ipython3",
   "version": "3.6.15"
  },
  "papermill": {
   "duration": 6.935295,
   "end_time": "2022-09-10T00:52:03.263071",
   "environment_variables": {},
   "exception": null,
   "input_path": "2020-03-21-covid19exp.ipynb",
   "output_path": "2020-03-21-covid19exp.ipynb",
   "parameters": {},
   "start_time": "2022-09-10T00:51:56.327776",
   "version": "2.0.0"
  }
 },
 "nbformat": 4,
 "nbformat_minor": 5
}