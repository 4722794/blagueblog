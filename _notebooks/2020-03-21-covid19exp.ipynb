{
 "cells": [
  {
   "cell_type": "markdown",
   "id": "muslim-click",
   "metadata": {
    "papermill": {
     "duration": 0.042139,
     "end_time": "2021-09-15T12:11:56.030865",
     "exception": false,
     "start_time": "2021-09-15T12:11:55.988726",
     "status": "completed"
    },
    "tags": []
   },
   "source": [
    "# COVID-19 Case Race\n",
    "> A race chart to see rising cases around the world\n",
    "\n",
    "- author: Hargun Oberoi\n",
    "- image: images/covid-overview.png\n",
    "- hide: false\n",
    "- badges: false"
   ]
  },
  {
   "cell_type": "code",
   "execution_count": 1,
   "id": "proof-material",
   "metadata": {
    "execution": {
     "iopub.execute_input": "2021-09-15T12:11:56.115900Z",
     "iopub.status.busy": "2021-09-15T12:11:56.115319Z",
     "iopub.status.idle": "2021-09-15T12:11:56.443192Z",
     "shell.execute_reply": "2021-09-15T12:11:56.442675Z"
    },
    "papermill": {
     "duration": 0.379877,
     "end_time": "2021-09-15T12:11:56.443348",
     "exception": false,
     "start_time": "2021-09-15T12:11:56.063471",
     "status": "completed"
    },
    "tags": []
   },
   "outputs": [],
   "source": [
    "#hide\n",
    "import numpy as np\n",
    "import pandas as pd\n",
    "from jinja2 import Template\n",
    "from IPython.display import HTML"
   ]
  },
  {
   "cell_type": "code",
   "execution_count": 2,
   "id": "developed-terminology",
   "metadata": {
    "execution": {
     "iopub.execute_input": "2021-09-15T12:11:56.516830Z",
     "iopub.status.busy": "2021-09-15T12:11:56.516267Z",
     "iopub.status.idle": "2021-09-15T12:11:56.518296Z",
     "shell.execute_reply": "2021-09-15T12:11:56.517883Z"
    },
    "papermill": {
     "duration": 0.043567,
     "end_time": "2021-09-15T12:11:56.518412",
     "exception": false,
     "start_time": "2021-09-15T12:11:56.474845",
     "status": "completed"
    },
    "tags": []
   },
   "outputs": [],
   "source": [
    "#hide\n",
    "\n",
    "# FETCH\n",
    "base_url = 'https://raw.githubusercontent.com/pratapvardhan/notebooks/master/covid19/'\n",
    "paths = {\n",
    "    'mapping': base_url + 'mapping_countries.csv',\n",
    "    'overview': base_url + 'overview.tpl'\n",
    "}"
   ]
  },
  {
   "cell_type": "code",
   "execution_count": 3,
   "id": "dynamic-saver",
   "metadata": {
    "execution": {
     "iopub.execute_input": "2021-09-15T12:11:56.603957Z",
     "iopub.status.busy": "2021-09-15T12:11:56.603386Z",
     "iopub.status.idle": "2021-09-15T12:11:56.606275Z",
     "shell.execute_reply": "2021-09-15T12:11:56.605836Z"
    },
    "papermill": {
     "duration": 0.049415,
     "end_time": "2021-09-15T12:11:56.606389",
     "exception": false,
     "start_time": "2021-09-15T12:11:56.556974",
     "status": "completed"
    },
    "tags": []
   },
   "outputs": [
    {
     "data": {
      "text/plain": [
       "'https://raw.githubusercontent.com/pratapvardhan/notebooks/master/covid19/mapping_countries.csv'"
      ]
     },
     "execution_count": 3,
     "metadata": {},
     "output_type": "execute_result"
    }
   ],
   "source": [
    "#hide\n",
    "paths['mapping']"
   ]
  },
  {
   "cell_type": "code",
   "execution_count": 4,
   "id": "urban-software",
   "metadata": {
    "execution": {
     "iopub.execute_input": "2021-09-15T12:11:56.671129Z",
     "iopub.status.busy": "2021-09-15T12:11:56.670578Z",
     "iopub.status.idle": "2021-09-15T12:11:56.672621Z",
     "shell.execute_reply": "2021-09-15T12:11:56.672189Z"
    },
    "papermill": {
     "duration": 0.036468,
     "end_time": "2021-09-15T12:11:56.672730",
     "exception": false,
     "start_time": "2021-09-15T12:11:56.636262",
     "status": "completed"
    },
    "tags": []
   },
   "outputs": [],
   "source": [
    "#hide\n",
    "def get_mappings(url):\n",
    "    df = pd.read_csv(url)\n",
    "    return {\n",
    "        'df': df,\n",
    "        'replace.country': dict(df.dropna(subset=['Name']).set_index('Country')['Name']),\n",
    "        'map.continent': dict(df.set_index('Name')['Continent'])\n",
    "    }"
   ]
  },
  {
   "cell_type": "code",
   "execution_count": 5,
   "id": "intimate-machinery",
   "metadata": {
    "execution": {
     "iopub.execute_input": "2021-09-15T12:11:56.737116Z",
     "iopub.status.busy": "2021-09-15T12:11:56.736588Z",
     "iopub.status.idle": "2021-09-15T12:11:56.798552Z",
     "shell.execute_reply": "2021-09-15T12:11:56.799035Z"
    },
    "papermill": {
     "duration": 0.096901,
     "end_time": "2021-09-15T12:11:56.799229",
     "exception": false,
     "start_time": "2021-09-15T12:11:56.702328",
     "status": "completed"
    },
    "tags": []
   },
   "outputs": [],
   "source": [
    "#hide\n",
    "mapping = get_mappings(paths['mapping'])"
   ]
  },
  {
   "cell_type": "code",
   "execution_count": 6,
   "id": "certified-tactics",
   "metadata": {
    "execution": {
     "iopub.execute_input": "2021-09-15T12:11:56.864345Z",
     "iopub.status.busy": "2021-09-15T12:11:56.863813Z",
     "iopub.status.idle": "2021-09-15T12:11:56.865801Z",
     "shell.execute_reply": "2021-09-15T12:11:56.865368Z"
    },
    "papermill": {
     "duration": 0.036582,
     "end_time": "2021-09-15T12:11:56.865911",
     "exception": false,
     "start_time": "2021-09-15T12:11:56.829329",
     "status": "completed"
    },
    "tags": []
   },
   "outputs": [],
   "source": [
    "#hide\n",
    "def get_template(path):\n",
    "    from urllib.parse import urlparse\n",
    "    if bool(urlparse(path).netloc):\n",
    "        from urllib.request import urlopen\n",
    "        return urlopen(path).read().decode('utf8')\n",
    "    return open(path).read()"
   ]
  },
  {
   "cell_type": "code",
   "execution_count": 7,
   "id": "realistic-blast",
   "metadata": {
    "execution": {
     "iopub.execute_input": "2021-09-15T12:11:56.930254Z",
     "iopub.status.busy": "2021-09-15T12:11:56.929730Z",
     "iopub.status.idle": "2021-09-15T12:11:56.931541Z",
     "shell.execute_reply": "2021-09-15T12:11:56.931975Z"
    },
    "papermill": {
     "duration": 0.036673,
     "end_time": "2021-09-15T12:11:56.932106",
     "exception": false,
     "start_time": "2021-09-15T12:11:56.895433",
     "status": "completed"
    },
    "tags": []
   },
   "outputs": [],
   "source": [
    "#hide\n",
    "def get_frame(name):\n",
    "    url = (\n",
    "        'https://raw.githubusercontent.com/CSSEGISandData/COVID-19/master/csse_covid_19_data/'\n",
    "        f'csse_covid_19_time_series/time_series_covid19_{name}_global.csv')\n",
    "    df = pd.read_csv(url)\n",
    "    # rename countries\n",
    "    df['Country/Region'] = df['Country/Region'].replace(mapping['replace.country'])\n",
    "    return df"
   ]
  },
  {
   "cell_type": "code",
   "execution_count": 8,
   "id": "affiliated-characterization",
   "metadata": {
    "execution": {
     "iopub.execute_input": "2021-09-15T12:11:56.997214Z",
     "iopub.status.busy": "2021-09-15T12:11:56.996681Z",
     "iopub.status.idle": "2021-09-15T12:11:56.998321Z",
     "shell.execute_reply": "2021-09-15T12:11:56.998752Z"
    },
    "papermill": {
     "duration": 0.037044,
     "end_time": "2021-09-15T12:11:56.998884",
     "exception": false,
     "start_time": "2021-09-15T12:11:56.961840",
     "status": "completed"
    },
    "tags": []
   },
   "outputs": [],
   "source": [
    "#hide\n",
    "def get_dates(df):\n",
    "    dt_cols = df.columns[~df.columns.isin(['Province/State', 'Country/Region', 'Lat', 'Long'])]\n",
    "    LAST_DATE_I = -1\n",
    "    # sometimes last column may be empty, then go backwards\n",
    "    for i in range(-1, -len(dt_cols), -1):\n",
    "        if not df[dt_cols[i]].fillna(0).eq(0).all():\n",
    "            LAST_DATE_I = i\n",
    "            break\n",
    "    return LAST_DATE_I, dt_cols"
   ]
  },
  {
   "cell_type": "code",
   "execution_count": 9,
   "id": "recent-optimization",
   "metadata": {
    "execution": {
     "iopub.execute_input": "2021-09-15T12:11:57.062614Z",
     "iopub.status.busy": "2021-09-15T12:11:57.062075Z",
     "iopub.status.idle": "2021-09-15T12:11:57.586522Z",
     "shell.execute_reply": "2021-09-15T12:11:57.585434Z"
    },
    "papermill": {
     "duration": 0.558161,
     "end_time": "2021-09-15T12:11:57.586661",
     "exception": false,
     "start_time": "2021-09-15T12:11:57.028500",
     "status": "completed"
    },
    "tags": []
   },
   "outputs": [],
   "source": [
    "#hide\n",
    "COL_REGION = 'Country/Region'\n",
    "# Confirmed, Recovered, Deaths\n",
    "df = get_frame('confirmed')\n",
    "# dft_: timeseries, dfc_: today country agg\n",
    "dft_cases = df\n",
    "dft_deaths = get_frame('deaths')\n",
    "dft_recovered = get_frame('recovered')\n",
    "LAST_DATE_I, dt_cols = get_dates(df)"
   ]
  },
  {
   "cell_type": "code",
   "execution_count": 10,
   "id": "absolute-copper",
   "metadata": {
    "execution": {
     "iopub.execute_input": "2021-09-15T12:11:57.652319Z",
     "iopub.status.busy": "2021-09-15T12:11:57.651760Z",
     "iopub.status.idle": "2021-09-15T12:11:57.654085Z",
     "shell.execute_reply": "2021-09-15T12:11:57.653618Z"
    },
    "papermill": {
     "duration": 0.037303,
     "end_time": "2021-09-15T12:11:57.654209",
     "exception": false,
     "start_time": "2021-09-15T12:11:57.616906",
     "status": "completed"
    },
    "tags": []
   },
   "outputs": [],
   "source": [
    "#hide\n",
    "LAST_DATE_I, dt_cols = get_dates(df)\n",
    "dt_today =dt_cols[LAST_DATE_I]\n",
    "# dt_5day = dt_cols[LAST_DATE_I - 5]\n",
    "dt_yday = dt_cols[LAST_DATE_I - 1]"
   ]
  },
  {
   "cell_type": "code",
   "execution_count": 11,
   "id": "restricted-sheriff",
   "metadata": {
    "execution": {
     "iopub.execute_input": "2021-09-15T12:11:57.728182Z",
     "iopub.status.busy": "2021-09-15T12:11:57.727640Z",
     "iopub.status.idle": "2021-09-15T12:11:57.732662Z",
     "shell.execute_reply": "2021-09-15T12:11:57.733084Z"
    },
    "papermill": {
     "duration": 0.047744,
     "end_time": "2021-09-15T12:11:57.733222",
     "exception": false,
     "start_time": "2021-09-15T12:11:57.685478",
     "status": "completed"
    },
    "tags": []
   },
   "outputs": [],
   "source": [
    "#hide\n",
    "dfc_cases = dft_cases.groupby(COL_REGION)[dt_today].sum()\n",
    "dfc_deaths = dft_deaths.groupby(COL_REGION)[dt_today].sum()\n",
    "# dfp_cases = dft_cases.groupby(COL_REGION)[dt_5day].sum()\n",
    "# dfp_deaths = dft_deaths.groupby(COL_REGION)[dt_5day].sum()\n",
    "dfp_cases = dft_cases.groupby(COL_REGION)[dt_yday].sum()\n",
    "dfp_deaths = dft_deaths.groupby(COL_REGION)[dt_yday].sum()"
   ]
  },
  {
   "cell_type": "code",
   "execution_count": 12,
   "id": "deluxe-hepatitis",
   "metadata": {
    "execution": {
     "iopub.execute_input": "2021-09-15T12:11:57.799627Z",
     "iopub.status.busy": "2021-09-15T12:11:57.799057Z",
     "iopub.status.idle": "2021-09-15T12:11:57.802770Z",
     "shell.execute_reply": "2021-09-15T12:11:57.803194Z"
    },
    "papermill": {
     "duration": 0.04002,
     "end_time": "2021-09-15T12:11:57.803334",
     "exception": false,
     "start_time": "2021-09-15T12:11:57.763314",
     "status": "completed"
    },
    "tags": []
   },
   "outputs": [],
   "source": [
    "#hide\n",
    "df_table = (pd.DataFrame(dict(Cases = dfc_cases, Deaths = dfc_deaths, PCases = dfp_cases, PDeaths = dfp_deaths))\n",
    "            .sort_values(by = ['Cases','Deaths'], ascending = [False, False])\n",
    "            .reset_index())"
   ]
  },
  {
   "cell_type": "code",
   "execution_count": 13,
   "id": "educational-chancellor",
   "metadata": {
    "execution": {
     "iopub.execute_input": "2021-09-15T12:11:57.888649Z",
     "iopub.status.busy": "2021-09-15T12:11:57.883479Z",
     "iopub.status.idle": "2021-09-15T12:11:57.891762Z",
     "shell.execute_reply": "2021-09-15T12:11:57.891339Z"
    },
    "papermill": {
     "duration": 0.058826,
     "end_time": "2021-09-15T12:11:57.891887",
     "exception": false,
     "start_time": "2021-09-15T12:11:57.833061",
     "status": "completed"
    },
    "tags": []
   },
   "outputs": [
    {
     "data": {
      "text/html": [
       "<div>\n",
       "<style scoped>\n",
       "    .dataframe tbody tr th:only-of-type {\n",
       "        vertical-align: middle;\n",
       "    }\n",
       "\n",
       "    .dataframe tbody tr th {\n",
       "        vertical-align: top;\n",
       "    }\n",
       "\n",
       "    .dataframe thead th {\n",
       "        text-align: right;\n",
       "    }\n",
       "</style>\n",
       "<table border=\"1\" class=\"dataframe\">\n",
       "  <thead>\n",
       "    <tr style=\"text-align: right;\">\n",
       "      <th></th>\n",
       "      <th>Country/Region</th>\n",
       "      <th>Cases</th>\n",
       "      <th>Deaths</th>\n",
       "      <th>PCases</th>\n",
       "      <th>PDeaths</th>\n",
       "      <th>Cases (+)</th>\n",
       "      <th>Deaths (+)</th>\n",
       "      <th>Fatality Rate</th>\n",
       "      <th>Continent</th>\n",
       "    </tr>\n",
       "  </thead>\n",
       "  <tbody>\n",
       "    <tr>\n",
       "      <th>0</th>\n",
       "      <td>US</td>\n",
       "      <td>41365161</td>\n",
       "      <td>663929</td>\n",
       "      <td>41221266</td>\n",
       "      <td>662106</td>\n",
       "      <td>143895</td>\n",
       "      <td>1823</td>\n",
       "      <td>1.61</td>\n",
       "      <td>North America</td>\n",
       "    </tr>\n",
       "    <tr>\n",
       "      <th>1</th>\n",
       "      <td>India</td>\n",
       "      <td>33316755</td>\n",
       "      <td>443497</td>\n",
       "      <td>33289579</td>\n",
       "      <td>443213</td>\n",
       "      <td>27176</td>\n",
       "      <td>284</td>\n",
       "      <td>1.33</td>\n",
       "      <td>Asia</td>\n",
       "    </tr>\n",
       "    <tr>\n",
       "      <th>2</th>\n",
       "      <td>Brazil</td>\n",
       "      <td>21019830</td>\n",
       "      <td>587797</td>\n",
       "      <td>21006424</td>\n",
       "      <td>587066</td>\n",
       "      <td>13406</td>\n",
       "      <td>731</td>\n",
       "      <td>2.80</td>\n",
       "      <td>South America</td>\n",
       "    </tr>\n",
       "    <tr>\n",
       "      <th>3</th>\n",
       "      <td>United Kingdom</td>\n",
       "      <td>7316931</td>\n",
       "      <td>134774</td>\n",
       "      <td>7290168</td>\n",
       "      <td>134587</td>\n",
       "      <td>26763</td>\n",
       "      <td>187</td>\n",
       "      <td>1.84</td>\n",
       "      <td>Europe</td>\n",
       "    </tr>\n",
       "    <tr>\n",
       "      <th>4</th>\n",
       "      <td>Russia</td>\n",
       "      <td>7072825</td>\n",
       "      <td>190793</td>\n",
       "      <td>7055296</td>\n",
       "      <td>190031</td>\n",
       "      <td>17529</td>\n",
       "      <td>762</td>\n",
       "      <td>2.70</td>\n",
       "      <td>Europe</td>\n",
       "    </tr>\n",
       "  </tbody>\n",
       "</table>\n",
       "</div>"
      ],
      "text/plain": [
       "   Country/Region     Cases  Deaths    PCases  PDeaths  Cases (+)  Deaths (+)  \\\n",
       "0              US  41365161  663929  41221266   662106     143895        1823   \n",
       "1           India  33316755  443497  33289579   443213      27176         284   \n",
       "2          Brazil  21019830  587797  21006424   587066      13406         731   \n",
       "3  United Kingdom   7316931  134774   7290168   134587      26763         187   \n",
       "4          Russia   7072825  190793   7055296   190031      17529         762   \n",
       "\n",
       "   Fatality Rate      Continent  \n",
       "0           1.61  North America  \n",
       "1           1.33           Asia  \n",
       "2           2.80  South America  \n",
       "3           1.84         Europe  \n",
       "4           2.70         Europe  "
      ]
     },
     "execution_count": 13,
     "metadata": {},
     "output_type": "execute_result"
    }
   ],
   "source": [
    "#hide\n",
    "for c in 'Cases, Deaths'.split(', '):\n",
    "    df_table[f'{c} (+)'] = (df_table[c] - df_table[f'P{c}']).clip(0)\n",
    "    #Clip ça veut dire, les chiffres negatif sont interdit\n",
    "df_table['Fatality Rate'] = (100* df_table['Deaths']/ df_table['Cases']).round(2)\n",
    "df_table['Continent'] = df_table['Country/Region'].map(mapping['map.continent'])\n",
    "df_table.head(5)"
   ]
  },
  {
   "cell_type": "code",
   "execution_count": 14,
   "id": "aboriginal-bulgaria",
   "metadata": {
    "execution": {
     "iopub.execute_input": "2021-09-15T12:11:57.958974Z",
     "iopub.status.busy": "2021-09-15T12:11:57.958440Z",
     "iopub.status.idle": "2021-09-15T12:11:57.960078Z",
     "shell.execute_reply": "2021-09-15T12:11:57.960463Z"
    },
    "papermill": {
     "duration": 0.037598,
     "end_time": "2021-09-15T12:11:57.960599",
     "exception": false,
     "start_time": "2021-09-15T12:11:57.923001",
     "status": "completed"
    },
    "tags": []
   },
   "outputs": [],
   "source": [
    "#hide\n",
    "#delete problematic countries from table\n",
    "df_table = df_table[~df_table['Country/Region'].isin(['Cape Verde', 'Cruise Ship', 'Kosovo'])]"
   ]
  },
  {
   "cell_type": "code",
   "execution_count": 15,
   "id": "fantastic-effect",
   "metadata": {
    "execution": {
     "iopub.execute_input": "2021-09-15T12:11:58.028923Z",
     "iopub.status.busy": "2021-09-15T12:11:58.028376Z",
     "iopub.status.idle": "2021-09-15T12:11:58.045611Z",
     "shell.execute_reply": "2021-09-15T12:11:58.045191Z"
    },
    "papermill": {
     "duration": 0.055027,
     "end_time": "2021-09-15T12:11:58.045734",
     "exception": false,
     "start_time": "2021-09-15T12:11:57.990707",
     "status": "completed"
    },
    "tags": []
   },
   "outputs": [
    {
     "data": {
      "text/html": [
       "<div>\n",
       "<style scoped>\n",
       "    .dataframe tbody tr th:only-of-type {\n",
       "        vertical-align: middle;\n",
       "    }\n",
       "\n",
       "    .dataframe tbody tr th {\n",
       "        vertical-align: top;\n",
       "    }\n",
       "\n",
       "    .dataframe thead th {\n",
       "        text-align: right;\n",
       "    }\n",
       "</style>\n",
       "<table border=\"1\" class=\"dataframe\">\n",
       "  <thead>\n",
       "    <tr style=\"text-align: right;\">\n",
       "      <th></th>\n",
       "      <th>Country/Region</th>\n",
       "      <th>Cases</th>\n",
       "      <th>Deaths</th>\n",
       "      <th>PCases</th>\n",
       "      <th>PDeaths</th>\n",
       "      <th>Cases (+)</th>\n",
       "      <th>Deaths (+)</th>\n",
       "      <th>Fatality Rate</th>\n",
       "      <th>Continent</th>\n",
       "    </tr>\n",
       "  </thead>\n",
       "  <tbody>\n",
       "    <tr>\n",
       "      <th>0</th>\n",
       "      <td>US</td>\n",
       "      <td>41365161</td>\n",
       "      <td>663929</td>\n",
       "      <td>41221266</td>\n",
       "      <td>662106</td>\n",
       "      <td>143895</td>\n",
       "      <td>1823</td>\n",
       "      <td>1.6</td>\n",
       "      <td>North America</td>\n",
       "    </tr>\n",
       "    <tr>\n",
       "      <th>1</th>\n",
       "      <td>India</td>\n",
       "      <td>33316755</td>\n",
       "      <td>443497</td>\n",
       "      <td>33289579</td>\n",
       "      <td>443213</td>\n",
       "      <td>27176</td>\n",
       "      <td>284</td>\n",
       "      <td>1.3</td>\n",
       "      <td>Asia</td>\n",
       "    </tr>\n",
       "    <tr>\n",
       "      <th>2</th>\n",
       "      <td>Brazil</td>\n",
       "      <td>21019830</td>\n",
       "      <td>587797</td>\n",
       "      <td>21006424</td>\n",
       "      <td>587066</td>\n",
       "      <td>13406</td>\n",
       "      <td>731</td>\n",
       "      <td>2.8</td>\n",
       "      <td>South America</td>\n",
       "    </tr>\n",
       "    <tr>\n",
       "      <th>3</th>\n",
       "      <td>United Kingdom</td>\n",
       "      <td>7316931</td>\n",
       "      <td>134774</td>\n",
       "      <td>7290168</td>\n",
       "      <td>134587</td>\n",
       "      <td>26763</td>\n",
       "      <td>187</td>\n",
       "      <td>1.8</td>\n",
       "      <td>Europe</td>\n",
       "    </tr>\n",
       "    <tr>\n",
       "      <th>4</th>\n",
       "      <td>Russia</td>\n",
       "      <td>7072825</td>\n",
       "      <td>190793</td>\n",
       "      <td>7055296</td>\n",
       "      <td>190031</td>\n",
       "      <td>17529</td>\n",
       "      <td>762</td>\n",
       "      <td>2.7</td>\n",
       "      <td>Europe</td>\n",
       "    </tr>\n",
       "  </tbody>\n",
       "</table>\n",
       "</div>"
      ],
      "text/plain": [
       "   Country/Region     Cases  Deaths    PCases  PDeaths  Cases (+)  Deaths (+)  \\\n",
       "0              US  41365161  663929  41221266   662106     143895        1823   \n",
       "1           India  33316755  443497  33289579   443213      27176         284   \n",
       "2          Brazil  21019830  587797  21006424   587066      13406         731   \n",
       "3  United Kingdom   7316931  134774   7290168   134587      26763         187   \n",
       "4          Russia   7072825  190793   7055296   190031      17529         762   \n",
       "\n",
       "   Fatality Rate      Continent  \n",
       "0            1.6  North America  \n",
       "1            1.3           Asia  \n",
       "2            2.8  South America  \n",
       "3            1.8         Europe  \n",
       "4            2.7         Europe  "
      ]
     },
     "execution_count": 15,
     "metadata": {},
     "output_type": "execute_result"
    }
   ],
   "source": [
    "#hide\n",
    "df_table = (pd.DataFrame(dict(Cases=dfc_cases, Deaths=dfc_deaths, PCases=dfp_cases, PDeaths=dfp_deaths))\n",
    "             .sort_values(by=['Cases', 'Deaths'], ascending=[False, False])\n",
    "             .reset_index())\n",
    "df_table.rename(columns={'index': 'Country/Region'}, inplace=True)\n",
    "for c in 'Cases, Deaths'.split(', '):\n",
    "    df_table[f'{c} (+)'] = (df_table[c] - df_table[f'P{c}']).clip(0)  # DATA BUG\n",
    "df_table['Fatality Rate'] = (100 * df_table['Deaths'] / df_table['Cases']).round(1)\n",
    "df_table['Continent'] = df_table['Country/Region'].map(mapping['map.continent'])\n",
    "df_table.head(5)"
   ]
  },
  {
   "cell_type": "code",
   "execution_count": 16,
   "id": "fewer-occasion",
   "metadata": {
    "execution": {
     "iopub.execute_input": "2021-09-15T12:11:58.113008Z",
     "iopub.status.busy": "2021-09-15T12:11:58.112478Z",
     "iopub.status.idle": "2021-09-15T12:11:58.115097Z",
     "shell.execute_reply": "2021-09-15T12:11:58.114640Z"
    },
    "papermill": {
     "duration": 0.038626,
     "end_time": "2021-09-15T12:11:58.115216",
     "exception": false,
     "start_time": "2021-09-15T12:11:58.076590",
     "status": "completed"
    },
    "tags": []
   },
   "outputs": [],
   "source": [
    "#hide\n",
    "#delete problematic countries from table\n",
    "df_table = df_table[~df_table['Country/Region'].isin(['Cape Verde', 'Cruise Ship', 'Kosovo'])]"
   ]
  },
  {
   "cell_type": "code",
   "execution_count": 17,
   "id": "related-center",
   "metadata": {
    "execution": {
     "iopub.execute_input": "2021-09-15T12:11:58.187950Z",
     "iopub.status.busy": "2021-09-15T12:11:58.187389Z",
     "iopub.status.idle": "2021-09-15T12:11:58.197790Z",
     "shell.execute_reply": "2021-09-15T12:11:58.197361Z"
    },
    "papermill": {
     "duration": 0.052086,
     "end_time": "2021-09-15T12:11:58.197911",
     "exception": false,
     "start_time": "2021-09-15T12:11:58.145825",
     "status": "completed"
    },
    "tags": []
   },
   "outputs": [],
   "source": [
    "#hide\n",
    "metrics = [df_table.columns[index] for index in [1,2,5,6]]\n",
    "# s_china = df_table[df_table['Country/Region'].eq('China')][metrics].sum().add_prefix('China ')\n",
    "s_us = df_table[df_table['Country/Region'].eq('US')][metrics].sum().add_prefix('US ')\n",
    "s_eu = df_table[df_table['Continent'].eq('Europe')][metrics].sum().add_prefix('EU ')\n",
    "s_ind = df_table[df_table['Country/Region'].eq('India')][metrics].sum().add_prefix('India ')\n",
    "summary = {'updated': pd.to_datetime(dt_today), 'since': pd.to_datetime(dt_yday)}\n",
    "summary = {'updated': pd.to_datetime(dt_today), 'since': pd.to_datetime(dt_yday)}\n",
    "summary = {**summary, **df_table[metrics].sum(), **s_ind, **s_us, **s_eu}"
   ]
  },
  {
   "cell_type": "code",
   "execution_count": 18,
   "id": "engaging-syndrome",
   "metadata": {
    "execution": {
     "iopub.execute_input": "2021-09-15T12:11:58.265056Z",
     "iopub.status.busy": "2021-09-15T12:11:58.264533Z",
     "iopub.status.idle": "2021-09-15T12:11:58.277336Z",
     "shell.execute_reply": "2021-09-15T12:11:58.276916Z"
    },
    "papermill": {
     "duration": 0.048218,
     "end_time": "2021-09-15T12:11:58.277454",
     "exception": false,
     "start_time": "2021-09-15T12:11:58.229236",
     "status": "completed"
    },
    "tags": []
   },
   "outputs": [],
   "source": [
    "#hide\n",
    "dft_ct_new_cases = dft_cases.groupby(COL_REGION)[dt_cols].sum().diff(axis=1).fillna(0).astype(int)"
   ]
  },
  {
   "cell_type": "code",
   "execution_count": 19,
   "id": "neutral-assignment",
   "metadata": {
    "execution": {
     "iopub.execute_input": "2021-09-15T12:11:58.343103Z",
     "iopub.status.busy": "2021-09-15T12:11:58.342566Z",
     "iopub.status.idle": "2021-09-15T12:11:58.346949Z",
     "shell.execute_reply": "2021-09-15T12:11:58.346528Z"
    },
    "papermill": {
     "duration": 0.038822,
     "end_time": "2021-09-15T12:11:58.347066",
     "exception": false,
     "start_time": "2021-09-15T12:11:58.308244",
     "status": "completed"
    },
    "tags": []
   },
   "outputs": [],
   "source": [
    "#hide\n",
    "everydaycases = dft_ct_new_cases.cumsum(axis=1)"
   ]
  },
  {
   "cell_type": "code",
   "execution_count": 20,
   "id": "parliamentary-calgary",
   "metadata": {
    "execution": {
     "iopub.execute_input": "2021-09-15T12:11:58.412776Z",
     "iopub.status.busy": "2021-09-15T12:11:58.412244Z",
     "iopub.status.idle": "2021-09-15T12:11:58.948644Z",
     "shell.execute_reply": "2021-09-15T12:11:58.949118Z"
    },
    "papermill": {
     "duration": 0.571591,
     "end_time": "2021-09-15T12:11:58.949267",
     "exception": false,
     "start_time": "2021-09-15T12:11:58.377676",
     "status": "completed"
    },
    "tags": []
   },
   "outputs": [],
   "source": [
    "#hide\n",
    "import pandas as pd\n",
    "import matplotlib.pyplot as plt\n",
    "import matplotlib.ticker as ticker\n",
    "import matplotlib.animation as animation\n",
    "from IPython.display import HTML"
   ]
  },
  {
   "cell_type": "code",
   "execution_count": 21,
   "id": "lasting-extraction",
   "metadata": {
    "execution": {
     "iopub.execute_input": "2021-09-15T12:11:59.016925Z",
     "iopub.status.busy": "2021-09-15T12:11:59.016290Z",
     "iopub.status.idle": "2021-09-15T12:11:59.021876Z",
     "shell.execute_reply": "2021-09-15T12:11:59.021459Z"
    },
    "papermill": {
     "duration": 0.041678,
     "end_time": "2021-09-15T12:11:59.021998",
     "exception": false,
     "start_time": "2021-09-15T12:11:58.980320",
     "status": "completed"
    },
    "tags": []
   },
   "outputs": [],
   "source": [
    "#hide\n",
    "t = everydaycases.stack()"
   ]
  },
  {
   "cell_type": "code",
   "execution_count": 22,
   "id": "premier-sleeve",
   "metadata": {
    "execution": {
     "iopub.execute_input": "2021-09-15T12:11:59.088536Z",
     "iopub.status.busy": "2021-09-15T12:11:59.087996Z",
     "iopub.status.idle": "2021-09-15T12:11:59.100452Z",
     "shell.execute_reply": "2021-09-15T12:11:59.100010Z"
    },
    "papermill": {
     "duration": 0.047685,
     "end_time": "2021-09-15T12:11:59.100576",
     "exception": false,
     "start_time": "2021-09-15T12:11:59.052891",
     "status": "completed"
    },
    "tags": []
   },
   "outputs": [],
   "source": [
    "#hide\n",
    "g = t.reset_index(['Country/Region'])"
   ]
  },
  {
   "cell_type": "code",
   "execution_count": 23,
   "id": "distributed-pittsburgh",
   "metadata": {
    "execution": {
     "iopub.execute_input": "2021-09-15T12:11:59.166291Z",
     "iopub.status.busy": "2021-09-15T12:11:59.165775Z",
     "iopub.status.idle": "2021-09-15T12:11:59.168788Z",
     "shell.execute_reply": "2021-09-15T12:11:59.169275Z"
    },
    "papermill": {
     "duration": 0.038131,
     "end_time": "2021-09-15T12:11:59.169406",
     "exception": false,
     "start_time": "2021-09-15T12:11:59.131275",
     "status": "completed"
    },
    "tags": []
   },
   "outputs": [],
   "source": [
    "#hide\n",
    "g.index.name = 'date'"
   ]
  },
  {
   "cell_type": "code",
   "execution_count": 24,
   "id": "naked-donor",
   "metadata": {
    "execution": {
     "iopub.execute_input": "2021-09-15T12:11:59.238451Z",
     "iopub.status.busy": "2021-09-15T12:11:59.237886Z",
     "iopub.status.idle": "2021-09-15T12:11:59.239777Z",
     "shell.execute_reply": "2021-09-15T12:11:59.240185Z"
    },
    "papermill": {
     "duration": 0.039988,
     "end_time": "2021-09-15T12:11:59.240325",
     "exception": false,
     "start_time": "2021-09-15T12:11:59.200337",
     "status": "completed"
    },
    "tags": []
   },
   "outputs": [],
   "source": [
    "# #hide\n",
    "# g = g.reset_index(['date'])"
   ]
  },
  {
   "cell_type": "code",
   "execution_count": 25,
   "id": "incomplete-mustang",
   "metadata": {
    "execution": {
     "iopub.execute_input": "2021-09-15T12:11:59.306553Z",
     "iopub.status.busy": "2021-09-15T12:11:59.306034Z",
     "iopub.status.idle": "2021-09-15T12:11:59.308007Z",
     "shell.execute_reply": "2021-09-15T12:11:59.308435Z"
    },
    "papermill": {
     "duration": 0.036621,
     "end_time": "2021-09-15T12:11:59.308565",
     "exception": false,
     "start_time": "2021-09-15T12:11:59.271944",
     "status": "completed"
    },
    "tags": []
   },
   "outputs": [],
   "source": [
    "#hide\n",
    "# g.head()"
   ]
  },
  {
   "cell_type": "code",
   "execution_count": 26,
   "id": "specific-kruger",
   "metadata": {
    "execution": {
     "iopub.execute_input": "2021-09-15T12:11:59.374222Z",
     "iopub.status.busy": "2021-09-15T12:11:59.373693Z",
     "iopub.status.idle": "2021-09-15T12:11:59.375547Z",
     "shell.execute_reply": "2021-09-15T12:11:59.376034Z"
    },
    "papermill": {
     "duration": 0.036951,
     "end_time": "2021-09-15T12:11:59.376168",
     "exception": false,
     "start_time": "2021-09-15T12:11:59.339217",
     "status": "completed"
    },
    "tags": []
   },
   "outputs": [],
   "source": [
    "#hide\n",
    "# g.columns = ['date','country','cases']"
   ]
  },
  {
   "cell_type": "code",
   "execution_count": 27,
   "id": "tender-conversion",
   "metadata": {
    "execution": {
     "iopub.execute_input": "2021-09-15T12:11:59.441112Z",
     "iopub.status.busy": "2021-09-15T12:11:59.440579Z",
     "iopub.status.idle": "2021-09-15T12:11:59.442313Z",
     "shell.execute_reply": "2021-09-15T12:11:59.442823Z"
    },
    "papermill": {
     "duration": 0.036276,
     "end_time": "2021-09-15T12:11:59.442957",
     "exception": false,
     "start_time": "2021-09-15T12:11:59.406681",
     "status": "completed"
    },
    "tags": []
   },
   "outputs": [],
   "source": [
    "#hide\n",
    "# g['continent'] = g.country"
   ]
  },
  {
   "cell_type": "code",
   "execution_count": 28,
   "id": "substantial-wilderness",
   "metadata": {
    "execution": {
     "iopub.execute_input": "2021-09-15T12:11:59.511708Z",
     "iopub.status.busy": "2021-09-15T12:11:59.511062Z",
     "iopub.status.idle": "2021-09-15T12:11:59.512446Z",
     "shell.execute_reply": "2021-09-15T12:11:59.512920Z"
    },
    "papermill": {
     "duration": 0.039265,
     "end_time": "2021-09-15T12:11:59.513055",
     "exception": false,
     "start_time": "2021-09-15T12:11:59.473790",
     "status": "completed"
    },
    "tags": []
   },
   "outputs": [],
   "source": [
    "#hide\n",
    "# cols = list(g.columns.values)"
   ]
  },
  {
   "cell_type": "code",
   "execution_count": 29,
   "id": "solved-farming",
   "metadata": {
    "execution": {
     "iopub.execute_input": "2021-09-15T12:11:59.577844Z",
     "iopub.status.busy": "2021-09-15T12:11:59.577326Z",
     "iopub.status.idle": "2021-09-15T12:11:59.579532Z",
     "shell.execute_reply": "2021-09-15T12:11:59.579941Z"
    },
    "papermill": {
     "duration": 0.036421,
     "end_time": "2021-09-15T12:11:59.580072",
     "exception": false,
     "start_time": "2021-09-15T12:11:59.543651",
     "status": "completed"
    },
    "tags": []
   },
   "outputs": [],
   "source": [
    "#hide\n",
    "# cols.insert(0, cols.pop())"
   ]
  },
  {
   "cell_type": "code",
   "execution_count": 30,
   "id": "executed-adoption",
   "metadata": {
    "execution": {
     "iopub.execute_input": "2021-09-15T12:11:59.645088Z",
     "iopub.status.busy": "2021-09-15T12:11:59.644557Z",
     "iopub.status.idle": "2021-09-15T12:11:59.646546Z",
     "shell.execute_reply": "2021-09-15T12:11:59.646036Z"
    },
    "papermill": {
     "duration": 0.036039,
     "end_time": "2021-09-15T12:11:59.646656",
     "exception": false,
     "start_time": "2021-09-15T12:11:59.610617",
     "status": "completed"
    },
    "tags": []
   },
   "outputs": [],
   "source": [
    "#hide\n",
    "# g = g[cols]"
   ]
  },
  {
   "cell_type": "code",
   "execution_count": 31,
   "id": "subject-dublin",
   "metadata": {
    "execution": {
     "iopub.execute_input": "2021-09-15T12:11:59.711787Z",
     "iopub.status.busy": "2021-09-15T12:11:59.711266Z",
     "iopub.status.idle": "2021-09-15T12:11:59.713077Z",
     "shell.execute_reply": "2021-09-15T12:11:59.713482Z"
    },
    "papermill": {
     "duration": 0.036144,
     "end_time": "2021-09-15T12:11:59.713612",
     "exception": false,
     "start_time": "2021-09-15T12:11:59.677468",
     "status": "completed"
    },
    "tags": []
   },
   "outputs": [],
   "source": [
    "#hide\n",
    "# g['continent'] = g['continent'].map(mapping['map.continent'])"
   ]
  },
  {
   "cell_type": "code",
   "execution_count": 32,
   "id": "freelance-scout",
   "metadata": {
    "execution": {
     "iopub.execute_input": "2021-09-15T12:11:59.778954Z",
     "iopub.status.busy": "2021-09-15T12:11:59.778428Z",
     "iopub.status.idle": "2021-09-15T12:11:59.781629Z",
     "shell.execute_reply": "2021-09-15T12:11:59.782022Z"
    },
    "papermill": {
     "duration": 0.037854,
     "end_time": "2021-09-15T12:11:59.782156",
     "exception": false,
     "start_time": "2021-09-15T12:11:59.744302",
     "status": "completed"
    },
    "tags": []
   },
   "outputs": [],
   "source": [
    "#hide\n",
    "# g.head()"
   ]
  },
  {
   "cell_type": "code",
   "execution_count": 33,
   "id": "limited-engine",
   "metadata": {
    "execution": {
     "iopub.execute_input": "2021-09-15T12:11:59.847761Z",
     "iopub.status.busy": "2021-09-15T12:11:59.847228Z",
     "iopub.status.idle": "2021-09-15T12:11:59.849084Z",
     "shell.execute_reply": "2021-09-15T12:11:59.849523Z"
    },
    "papermill": {
     "duration": 0.037019,
     "end_time": "2021-09-15T12:11:59.849655",
     "exception": false,
     "start_time": "2021-09-15T12:11:59.812636",
     "status": "completed"
    },
    "tags": []
   },
   "outputs": [],
   "source": [
    "# hide\n",
    "# g['date'] = g['date'].astype('datetime64[ns]')"
   ]
  },
  {
   "cell_type": "code",
   "execution_count": 34,
   "id": "sophisticated-supervisor",
   "metadata": {
    "execution": {
     "iopub.execute_input": "2021-09-15T12:11:59.914798Z",
     "iopub.status.busy": "2021-09-15T12:11:59.914278Z",
     "iopub.status.idle": "2021-09-15T12:11:59.916494Z",
     "shell.execute_reply": "2021-09-15T12:11:59.916088Z"
    },
    "papermill": {
     "duration": 0.036228,
     "end_time": "2021-09-15T12:11:59.916613",
     "exception": false,
     "start_time": "2021-09-15T12:11:59.880385",
     "status": "completed"
    },
    "tags": []
   },
   "outputs": [],
   "source": [
    "#hide\n",
    "# g['date'] = g.date.dt.dayofyear"
   ]
  },
  {
   "cell_type": "code",
   "execution_count": 35,
   "id": "inside-dubai",
   "metadata": {
    "execution": {
     "iopub.execute_input": "2021-09-15T12:11:59.981552Z",
     "iopub.status.busy": "2021-09-15T12:11:59.981016Z",
     "iopub.status.idle": "2021-09-15T12:11:59.983629Z",
     "shell.execute_reply": "2021-09-15T12:11:59.984114Z"
    },
    "papermill": {
     "duration": 0.03702,
     "end_time": "2021-09-15T12:11:59.984246",
     "exception": false,
     "start_time": "2021-09-15T12:11:59.947226",
     "status": "completed"
    },
    "tags": []
   },
   "outputs": [],
   "source": [
    "#hide\n",
    "# g = g.rename(columns= {'continent':'group','country':'name','cases':'value'})"
   ]
  },
  {
   "cell_type": "code",
   "execution_count": 36,
   "id": "fleet-motorcycle",
   "metadata": {
    "execution": {
     "iopub.execute_input": "2021-09-15T12:12:00.049459Z",
     "iopub.status.busy": "2021-09-15T12:12:00.048931Z",
     "iopub.status.idle": "2021-09-15T12:12:00.050852Z",
     "shell.execute_reply": "2021-09-15T12:12:00.050422Z"
    },
    "papermill": {
     "duration": 0.03602,
     "end_time": "2021-09-15T12:12:00.050961",
     "exception": false,
     "start_time": "2021-09-15T12:12:00.014941",
     "status": "completed"
    },
    "tags": []
   },
   "outputs": [],
   "source": [
    "#hide\n",
    "# cols = ['name','group','day','value']"
   ]
  },
  {
   "cell_type": "code",
   "execution_count": 37,
   "id": "continued-sleeping",
   "metadata": {
    "execution": {
     "iopub.execute_input": "2021-09-15T12:12:00.116009Z",
     "iopub.status.busy": "2021-09-15T12:12:00.115474Z",
     "iopub.status.idle": "2021-09-15T12:12:00.117348Z",
     "shell.execute_reply": "2021-09-15T12:12:00.117778Z"
    },
    "papermill": {
     "duration": 0.036276,
     "end_time": "2021-09-15T12:12:00.117909",
     "exception": false,
     "start_time": "2021-09-15T12:12:00.081633",
     "status": "completed"
    },
    "tags": []
   },
   "outputs": [],
   "source": [
    "#hide\n",
    "# g.rename(columns= {'date':'day'},inplace = True)"
   ]
  },
  {
   "cell_type": "code",
   "execution_count": 38,
   "id": "major-fight",
   "metadata": {
    "execution": {
     "iopub.execute_input": "2021-09-15T12:12:00.182705Z",
     "iopub.status.busy": "2021-09-15T12:12:00.182187Z",
     "iopub.status.idle": "2021-09-15T12:12:00.184149Z",
     "shell.execute_reply": "2021-09-15T12:12:00.183648Z"
    },
    "papermill": {
     "duration": 0.035776,
     "end_time": "2021-09-15T12:12:00.184260",
     "exception": false,
     "start_time": "2021-09-15T12:12:00.148484",
     "status": "completed"
    },
    "tags": []
   },
   "outputs": [],
   "source": [
    "#hide\n",
    "# g = g[cols]"
   ]
  },
  {
   "cell_type": "code",
   "execution_count": 39,
   "id": "structured-mobile",
   "metadata": {
    "execution": {
     "iopub.execute_input": "2021-09-15T12:12:00.249902Z",
     "iopub.status.busy": "2021-09-15T12:12:00.249288Z",
     "iopub.status.idle": "2021-09-15T12:12:00.250438Z",
     "shell.execute_reply": "2021-09-15T12:12:00.250910Z"
    },
    "papermill": {
     "duration": 0.036246,
     "end_time": "2021-09-15T12:12:00.251043",
     "exception": false,
     "start_time": "2021-09-15T12:12:00.214797",
     "status": "completed"
    },
    "tags": []
   },
   "outputs": [],
   "source": [
    "# #hide\n",
    "# g = g[g.group.notna()]"
   ]
  },
  {
   "cell_type": "code",
   "execution_count": 40,
   "id": "determined-closing",
   "metadata": {
    "execution": {
     "iopub.execute_input": "2021-09-15T12:12:00.316194Z",
     "iopub.status.busy": "2021-09-15T12:12:00.315670Z",
     "iopub.status.idle": "2021-09-15T12:12:00.317384Z",
     "shell.execute_reply": "2021-09-15T12:12:00.317866Z"
    },
    "papermill": {
     "duration": 0.036257,
     "end_time": "2021-09-15T12:12:00.317994",
     "exception": false,
     "start_time": "2021-09-15T12:12:00.281737",
     "status": "completed"
    },
    "tags": []
   },
   "outputs": [],
   "source": [
    "# #hide\n",
    "# colors = dict(zip(\n",
    "#     [\"Oceania\", \"Europe\", \"Asia\", \"South America\", \"Middle East\", \"North America\", \"Africa\"],\n",
    "#     [\"#adb0ff\", \"#ffb3ff\", \"#90d595\", \"#e48381\", \"#aafbff\", \"#f7bb5f\", \"#eafb50\"]\n",
    "# ))\n",
    "# group_lk = g.set_index('name')['group'].to_dict()"
   ]
  },
  {
   "cell_type": "code",
   "execution_count": null,
   "id": "gross-drinking",
   "metadata": {
    "papermill": {
     "duration": 0.030395,
     "end_time": "2021-09-15T12:12:00.378928",
     "exception": false,
     "start_time": "2021-09-15T12:12:00.348533",
     "status": "completed"
    },
    "tags": []
   },
   "outputs": [],
   "source": []
  },
  {
   "cell_type": "code",
   "execution_count": 41,
   "id": "subject-macintosh",
   "metadata": {
    "execution": {
     "iopub.execute_input": "2021-09-15T12:12:00.444259Z",
     "iopub.status.busy": "2021-09-15T12:12:00.443726Z",
     "iopub.status.idle": "2021-09-15T12:12:00.445710Z",
     "shell.execute_reply": "2021-09-15T12:12:00.445298Z"
    },
    "papermill": {
     "duration": 0.036335,
     "end_time": "2021-09-15T12:12:00.445823",
     "exception": false,
     "start_time": "2021-09-15T12:12:00.409488",
     "status": "completed"
    },
    "tags": []
   },
   "outputs": [],
   "source": [
    "# #hide\n",
    "# fig, ax = plt.subplots(figsize=(15, 8))\n",
    "\n",
    "# def draw_barchart(current_day):\n",
    "#     dff = g[g['day'].eq(current_day)].sort_values(by='value', ascending=True).tail(10)\n",
    "#     ax.clear()\n",
    "#     ax.barh(dff['name'], dff['value'], color=[colors[group_lk[x]] for x in dff['name']])\n",
    "#     dx = dff['value'].max() / 200\n",
    "    \n",
    "#     for i, (value, name) in enumerate(zip(dff['value'], dff['name'])):\n",
    "#         ax.text(value-dx, i,     name,           size=14, weight=600, ha='right', va='bottom')\n",
    "#         ax.text(value-dx, i-.25, group_lk[name], size=10, color='#444444', ha='right', va='baseline')\n",
    "#         ax.text(value+dx, i,     f'{value:,.0f}',  size=14, ha='left',  va='center')\n",
    "#     ax.text(1, 0.4, current_day, transform=ax.transAxes, color='#777777', size=46, ha='right', weight=800)\n",
    "#     ax.text(0, 1.06, 'Population (thousands)', transform=ax.transAxes, size=12, color='#777777')\n",
    "#     ax.xaxis.set_major_formatter(ticker.StrMethodFormatter('{x:,.0f}'))\n",
    "#     ax.xaxis.set_ticks_position('top')\n",
    "#     ax.tick_params(axis='x', colors='#777777', labelsize=12)\n",
    "#     ax.set_yticks([])\n",
    "#     ax.margins(0, 0.01)\n",
    "#     ax.grid(which='major', axis='x', linestyle='-')\n",
    "#     ax.set_axisbelow(True)\n",
    "    \n",
    "#     ax.text(0, 1.15, 'Coronavirus',\n",
    "#             transform=ax.transAxes, size=24, weight=600, ha='left', va='top')\n",
    "# #     ax.text(1, 0, 'by @pratapvardhan; credit @jburnmurdoch', transform=ax.transAxes, color='#777777', ha='right',\n",
    "# #             bbox=dict(facecolor='white', alpha=0.8, edgecolor='white'))\n",
    "#     plt.box(False)"
   ]
  },
  {
   "cell_type": "code",
   "execution_count": 42,
   "id": "sexual-wages",
   "metadata": {
    "execution": {
     "iopub.execute_input": "2021-09-15T12:12:00.510708Z",
     "iopub.status.busy": "2021-09-15T12:12:00.510183Z",
     "iopub.status.idle": "2021-09-15T12:12:00.512575Z",
     "shell.execute_reply": "2021-09-15T12:12:00.512144Z"
    },
    "papermill": {
     "duration": 0.036292,
     "end_time": "2021-09-15T12:12:00.512686",
     "exception": false,
     "start_time": "2021-09-15T12:12:00.476394",
     "status": "completed"
    },
    "tags": []
   },
   "outputs": [],
   "source": [
    "# #hide_input\n",
    "# fig, ax = plt.subplots(figsize=(15, 8))\n",
    "# animator = animation.FuncAnimation(fig, draw_barchart, frames=range(g.day.values.min(), g.day.values.max()))\n",
    "# HTML(animator.to_jshtml())\n",
    "# # or use animator.to_html5_video() or animator.save() "
   ]
  },
  {
   "cell_type": "code",
   "execution_count": null,
   "id": "australian-container",
   "metadata": {
    "papermill": {
     "duration": 0.030373,
     "end_time": "2021-09-15T12:12:00.573614",
     "exception": false,
     "start_time": "2021-09-15T12:12:00.543241",
     "status": "completed"
    },
    "tags": []
   },
   "outputs": [],
   "source": []
  },
  {
   "cell_type": "code",
   "execution_count": null,
   "id": "mediterranean-pontiac",
   "metadata": {
    "papermill": {
     "duration": 0.030409,
     "end_time": "2021-09-15T12:12:00.634516",
     "exception": false,
     "start_time": "2021-09-15T12:12:00.604107",
     "status": "completed"
    },
    "tags": []
   },
   "outputs": [],
   "source": []
  },
  {
   "cell_type": "code",
   "execution_count": null,
   "id": "aging-legislature",
   "metadata": {
    "papermill": {
     "duration": 0.030625,
     "end_time": "2021-09-15T12:12:00.695816",
     "exception": false,
     "start_time": "2021-09-15T12:12:00.665191",
     "status": "completed"
    },
    "tags": []
   },
   "outputs": [],
   "source": []
  }
 ],
 "metadata": {
  "kernelspec": {
   "display_name": "Python 3",
   "language": "python",
   "name": "python3"
  },
  "language_info": {
   "codemirror_mode": {
    "name": "ipython",
    "version": 3
   },
   "file_extension": ".py",
   "mimetype": "text/x-python",
   "name": "python",
   "nbconvert_exporter": "python",
   "pygments_lexer": "ipython3",
   "version": "3.6.14"
  },
  "papermill": {
   "duration": 6.184669,
   "end_time": "2021-09-15T12:12:01.134327",
   "environment_variables": {},
   "exception": null,
   "input_path": "2020-03-21-covid19exp.ipynb",
   "output_path": "2020-03-21-covid19exp.ipynb",
   "parameters": {},
   "start_time": "2021-09-15T12:11:54.949658",
   "version": "2.0.0"
  }
 },
 "nbformat": 4,
 "nbformat_minor": 5
}