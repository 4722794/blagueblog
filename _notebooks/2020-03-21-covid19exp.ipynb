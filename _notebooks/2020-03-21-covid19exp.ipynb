{
 "cells": [
  {
   "cell_type": "markdown",
   "id": "muslim-click",
   "metadata": {
    "papermill": {
     "duration": 0.041793,
     "end_time": "2022-03-27T00:38:42.985147",
     "exception": false,
     "start_time": "2022-03-27T00:38:42.943354",
     "status": "completed"
    },
    "tags": []
   },
   "source": [
    "# COVID-19 Case Race\n",
    "> A race chart to see rising cases around the world\n",
    "\n",
    "- author: Hargun Oberoi\n",
    "- image: images/covid-overview.png\n",
    "- hide: false\n",
    "- badges: false"
   ]
  },
  {
   "cell_type": "code",
   "execution_count": 1,
   "id": "proof-material",
   "metadata": {
    "execution": {
     "iopub.execute_input": "2022-03-27T00:38:43.073595Z",
     "iopub.status.busy": "2022-03-27T00:38:43.072904Z",
     "iopub.status.idle": "2022-03-27T00:38:43.470268Z",
     "shell.execute_reply": "2022-03-27T00:38:43.469640Z"
    },
    "papermill": {
     "duration": 0.44777,
     "end_time": "2022-03-27T00:38:43.470439",
     "exception": false,
     "start_time": "2022-03-27T00:38:43.022669",
     "status": "completed"
    },
    "tags": []
   },
   "outputs": [],
   "source": [
    "#hide\n",
    "import numpy as np\n",
    "import pandas as pd\n",
    "from jinja2 import Template\n",
    "from IPython.display import HTML"
   ]
  },
  {
   "cell_type": "code",
   "execution_count": 2,
   "id": "developed-terminology",
   "metadata": {
    "execution": {
     "iopub.execute_input": "2022-03-27T00:38:43.551542Z",
     "iopub.status.busy": "2022-03-27T00:38:43.550879Z",
     "iopub.status.idle": "2022-03-27T00:38:43.553718Z",
     "shell.execute_reply": "2022-03-27T00:38:43.553139Z"
    },
    "papermill": {
     "duration": 0.045007,
     "end_time": "2022-03-27T00:38:43.553874",
     "exception": false,
     "start_time": "2022-03-27T00:38:43.508867",
     "status": "completed"
    },
    "tags": []
   },
   "outputs": [],
   "source": [
    "#hide\n",
    "\n",
    "# FETCH\n",
    "base_url = 'https://raw.githubusercontent.com/pratapvardhan/notebooks/master/covid19/'\n",
    "paths = {\n",
    "    'mapping': base_url + 'mapping_countries.csv',\n",
    "    'overview': base_url + 'overview.tpl'\n",
    "}"
   ]
  },
  {
   "cell_type": "code",
   "execution_count": 3,
   "id": "dynamic-saver",
   "metadata": {
    "execution": {
     "iopub.execute_input": "2022-03-27T00:38:43.639195Z",
     "iopub.status.busy": "2022-03-27T00:38:43.638513Z",
     "iopub.status.idle": "2022-03-27T00:38:43.641712Z",
     "shell.execute_reply": "2022-03-27T00:38:43.643232Z"
    },
    "papermill": {
     "duration": 0.052175,
     "end_time": "2022-03-27T00:38:43.643421",
     "exception": false,
     "start_time": "2022-03-27T00:38:43.591246",
     "status": "completed"
    },
    "tags": []
   },
   "outputs": [
    {
     "data": {
      "text/plain": [
       "'https://raw.githubusercontent.com/pratapvardhan/notebooks/master/covid19/mapping_countries.csv'"
      ]
     },
     "execution_count": 3,
     "metadata": {},
     "output_type": "execute_result"
    }
   ],
   "source": [
    "#hide\n",
    "paths['mapping']"
   ]
  },
  {
   "cell_type": "code",
   "execution_count": 4,
   "id": "urban-software",
   "metadata": {
    "execution": {
     "iopub.execute_input": "2022-03-27T00:38:43.726691Z",
     "iopub.status.busy": "2022-03-27T00:38:43.726021Z",
     "iopub.status.idle": "2022-03-27T00:38:43.728092Z",
     "shell.execute_reply": "2022-03-27T00:38:43.728771Z"
    },
    "papermill": {
     "duration": 0.046637,
     "end_time": "2022-03-27T00:38:43.728958",
     "exception": false,
     "start_time": "2022-03-27T00:38:43.682321",
     "status": "completed"
    },
    "tags": []
   },
   "outputs": [],
   "source": [
    "#hide\n",
    "def get_mappings(url):\n",
    "    df = pd.read_csv(url)\n",
    "    return {\n",
    "        'df': df,\n",
    "        'replace.country': dict(df.dropna(subset=['Name']).set_index('Country')['Name']),\n",
    "        'map.continent': dict(df.set_index('Name')['Continent'])\n",
    "    }"
   ]
  },
  {
   "cell_type": "code",
   "execution_count": 5,
   "id": "intimate-machinery",
   "metadata": {
    "execution": {
     "iopub.execute_input": "2022-03-27T00:38:43.821383Z",
     "iopub.status.busy": "2022-03-27T00:38:43.820728Z",
     "iopub.status.idle": "2022-03-27T00:38:43.848598Z",
     "shell.execute_reply": "2022-03-27T00:38:43.849081Z"
    },
    "papermill": {
     "duration": 0.080214,
     "end_time": "2022-03-27T00:38:43.849251",
     "exception": false,
     "start_time": "2022-03-27T00:38:43.769037",
     "status": "completed"
    },
    "tags": []
   },
   "outputs": [],
   "source": [
    "#hide\n",
    "mapping = get_mappings(paths['mapping'])"
   ]
  },
  {
   "cell_type": "code",
   "execution_count": 6,
   "id": "certified-tactics",
   "metadata": {
    "execution": {
     "iopub.execute_input": "2022-03-27T00:38:43.932286Z",
     "iopub.status.busy": "2022-03-27T00:38:43.931594Z",
     "iopub.status.idle": "2022-03-27T00:38:43.934200Z",
     "shell.execute_reply": "2022-03-27T00:38:43.933632Z"
    },
    "papermill": {
     "duration": 0.043944,
     "end_time": "2022-03-27T00:38:43.934330",
     "exception": false,
     "start_time": "2022-03-27T00:38:43.890386",
     "status": "completed"
    },
    "tags": []
   },
   "outputs": [],
   "source": [
    "#hide\n",
    "def get_template(path):\n",
    "    from urllib.parse import urlparse\n",
    "    if bool(urlparse(path).netloc):\n",
    "        from urllib.request import urlopen\n",
    "        return urlopen(path).read().decode('utf8')\n",
    "    return open(path).read()"
   ]
  },
  {
   "cell_type": "code",
   "execution_count": 7,
   "id": "realistic-blast",
   "metadata": {
    "execution": {
     "iopub.execute_input": "2022-03-27T00:38:44.019788Z",
     "iopub.status.busy": "2022-03-27T00:38:44.019086Z",
     "iopub.status.idle": "2022-03-27T00:38:44.021670Z",
     "shell.execute_reply": "2022-03-27T00:38:44.020975Z"
    },
    "papermill": {
     "duration": 0.047018,
     "end_time": "2022-03-27T00:38:44.021803",
     "exception": false,
     "start_time": "2022-03-27T00:38:43.974785",
     "status": "completed"
    },
    "tags": []
   },
   "outputs": [],
   "source": [
    "#hide\n",
    "def get_frame(name):\n",
    "    url = (\n",
    "        'https://raw.githubusercontent.com/CSSEGISandData/COVID-19/master/csse_covid_19_data/'\n",
    "        f'csse_covid_19_time_series/time_series_covid19_{name}_global.csv')\n",
    "    df = pd.read_csv(url)\n",
    "    # rename countries\n",
    "    df['Country/Region'] = df['Country/Region'].replace(mapping['replace.country'])\n",
    "    return df"
   ]
  },
  {
   "cell_type": "code",
   "execution_count": 8,
   "id": "affiliated-characterization",
   "metadata": {
    "execution": {
     "iopub.execute_input": "2022-03-27T00:38:44.104356Z",
     "iopub.status.busy": "2022-03-27T00:38:44.103712Z",
     "iopub.status.idle": "2022-03-27T00:38:44.105803Z",
     "shell.execute_reply": "2022-03-27T00:38:44.106284Z"
    },
    "papermill": {
     "duration": 0.045858,
     "end_time": "2022-03-27T00:38:44.106432",
     "exception": false,
     "start_time": "2022-03-27T00:38:44.060574",
     "status": "completed"
    },
    "tags": []
   },
   "outputs": [],
   "source": [
    "#hide\n",
    "def get_dates(df):\n",
    "    dt_cols = df.columns[~df.columns.isin(['Province/State', 'Country/Region', 'Lat', 'Long'])]\n",
    "    LAST_DATE_I = -1\n",
    "    # sometimes last column may be empty, then go backwards\n",
    "    for i in range(-1, -len(dt_cols), -1):\n",
    "        if not df[dt_cols[i]].fillna(0).eq(0).all():\n",
    "            LAST_DATE_I = i\n",
    "            break\n",
    "    return LAST_DATE_I, dt_cols"
   ]
  },
  {
   "cell_type": "code",
   "execution_count": 9,
   "id": "recent-optimization",
   "metadata": {
    "execution": {
     "iopub.execute_input": "2022-03-27T00:38:44.184906Z",
     "iopub.status.busy": "2022-03-27T00:38:44.184229Z",
     "iopub.status.idle": "2022-03-27T00:38:44.620858Z",
     "shell.execute_reply": "2022-03-27T00:38:44.620316Z"
    },
    "papermill": {
     "duration": 0.478203,
     "end_time": "2022-03-27T00:38:44.621000",
     "exception": false,
     "start_time": "2022-03-27T00:38:44.142797",
     "status": "completed"
    },
    "tags": []
   },
   "outputs": [],
   "source": [
    "#hide\n",
    "COL_REGION = 'Country/Region'\n",
    "# Confirmed, Recovered, Deaths\n",
    "df = get_frame('confirmed')\n",
    "# dft_: timeseries, dfc_: today country agg\n",
    "dft_cases = df\n",
    "dft_deaths = get_frame('deaths')\n",
    "dft_recovered = get_frame('recovered')\n",
    "LAST_DATE_I, dt_cols = get_dates(df)"
   ]
  },
  {
   "cell_type": "code",
   "execution_count": 10,
   "id": "absolute-copper",
   "metadata": {
    "execution": {
     "iopub.execute_input": "2022-03-27T00:38:44.707106Z",
     "iopub.status.busy": "2022-03-27T00:38:44.706478Z",
     "iopub.status.idle": "2022-03-27T00:38:44.710254Z",
     "shell.execute_reply": "2022-03-27T00:38:44.710746Z"
    },
    "papermill": {
     "duration": 0.051079,
     "end_time": "2022-03-27T00:38:44.710884",
     "exception": false,
     "start_time": "2022-03-27T00:38:44.659805",
     "status": "completed"
    },
    "tags": []
   },
   "outputs": [],
   "source": [
    "#hide\n",
    "LAST_DATE_I, dt_cols = get_dates(df)\n",
    "dt_today =dt_cols[LAST_DATE_I]\n",
    "# dt_5day = dt_cols[LAST_DATE_I - 5]\n",
    "dt_yday = dt_cols[LAST_DATE_I - 1]"
   ]
  },
  {
   "cell_type": "code",
   "execution_count": 11,
   "id": "restricted-sheriff",
   "metadata": {
    "execution": {
     "iopub.execute_input": "2022-03-27T00:38:44.800257Z",
     "iopub.status.busy": "2022-03-27T00:38:44.797141Z",
     "iopub.status.idle": "2022-03-27T00:38:44.802426Z",
     "shell.execute_reply": "2022-03-27T00:38:44.802901Z"
    },
    "papermill": {
     "duration": 0.05419,
     "end_time": "2022-03-27T00:38:44.803046",
     "exception": false,
     "start_time": "2022-03-27T00:38:44.748856",
     "status": "completed"
    },
    "tags": []
   },
   "outputs": [],
   "source": [
    "#hide\n",
    "dfc_cases = dft_cases.groupby(COL_REGION)[dt_today].sum()\n",
    "dfc_deaths = dft_deaths.groupby(COL_REGION)[dt_today].sum()\n",
    "# dfp_cases = dft_cases.groupby(COL_REGION)[dt_5day].sum()\n",
    "# dfp_deaths = dft_deaths.groupby(COL_REGION)[dt_5day].sum()\n",
    "dfp_cases = dft_cases.groupby(COL_REGION)[dt_yday].sum()\n",
    "dfp_deaths = dft_deaths.groupby(COL_REGION)[dt_yday].sum()"
   ]
  },
  {
   "cell_type": "code",
   "execution_count": 12,
   "id": "deluxe-hepatitis",
   "metadata": {
    "execution": {
     "iopub.execute_input": "2022-03-27T00:38:44.894668Z",
     "iopub.status.busy": "2022-03-27T00:38:44.893800Z",
     "iopub.status.idle": "2022-03-27T00:38:44.900574Z",
     "shell.execute_reply": "2022-03-27T00:38:44.899862Z"
    },
    "papermill": {
     "duration": 0.055374,
     "end_time": "2022-03-27T00:38:44.900716",
     "exception": false,
     "start_time": "2022-03-27T00:38:44.845342",
     "status": "completed"
    },
    "tags": []
   },
   "outputs": [],
   "source": [
    "#hide\n",
    "df_table = (pd.DataFrame(dict(Cases = dfc_cases, Deaths = dfc_deaths, PCases = dfp_cases, PDeaths = dfp_deaths))\n",
    "            .sort_values(by = ['Cases','Deaths'], ascending = [False, False])\n",
    "            .reset_index())"
   ]
  },
  {
   "cell_type": "code",
   "execution_count": 13,
   "id": "educational-chancellor",
   "metadata": {
    "execution": {
     "iopub.execute_input": "2022-03-27T00:38:45.000136Z",
     "iopub.status.busy": "2022-03-27T00:38:44.999393Z",
     "iopub.status.idle": "2022-03-27T00:38:45.009889Z",
     "shell.execute_reply": "2022-03-27T00:38:45.009329Z"
    },
    "papermill": {
     "duration": 0.070634,
     "end_time": "2022-03-27T00:38:45.010013",
     "exception": false,
     "start_time": "2022-03-27T00:38:44.939379",
     "status": "completed"
    },
    "tags": []
   },
   "outputs": [
    {
     "data": {
      "text/html": [
       "<div>\n",
       "<style scoped>\n",
       "    .dataframe tbody tr th:only-of-type {\n",
       "        vertical-align: middle;\n",
       "    }\n",
       "\n",
       "    .dataframe tbody tr th {\n",
       "        vertical-align: top;\n",
       "    }\n",
       "\n",
       "    .dataframe thead th {\n",
       "        text-align: right;\n",
       "    }\n",
       "</style>\n",
       "<table border=\"1\" class=\"dataframe\">\n",
       "  <thead>\n",
       "    <tr style=\"text-align: right;\">\n",
       "      <th></th>\n",
       "      <th>Country/Region</th>\n",
       "      <th>Cases</th>\n",
       "      <th>Deaths</th>\n",
       "      <th>PCases</th>\n",
       "      <th>PDeaths</th>\n",
       "      <th>Cases (+)</th>\n",
       "      <th>Deaths (+)</th>\n",
       "      <th>Fatality Rate</th>\n",
       "      <th>Continent</th>\n",
       "    </tr>\n",
       "  </thead>\n",
       "  <tbody>\n",
       "    <tr>\n",
       "      <th>0</th>\n",
       "      <td>US</td>\n",
       "      <td>79936777</td>\n",
       "      <td>976505</td>\n",
       "      <td>79888564</td>\n",
       "      <td>975863</td>\n",
       "      <td>48213</td>\n",
       "      <td>642</td>\n",
       "      <td>1.22</td>\n",
       "      <td>North America</td>\n",
       "    </tr>\n",
       "    <tr>\n",
       "      <th>1</th>\n",
       "      <td>India</td>\n",
       "      <td>43018032</td>\n",
       "      <td>520855</td>\n",
       "      <td>43016372</td>\n",
       "      <td>516755</td>\n",
       "      <td>1660</td>\n",
       "      <td>4100</td>\n",
       "      <td>1.21</td>\n",
       "      <td>Asia</td>\n",
       "    </tr>\n",
       "    <tr>\n",
       "      <th>2</th>\n",
       "      <td>Brazil</td>\n",
       "      <td>29809769</td>\n",
       "      <td>658855</td>\n",
       "      <td>29775568</td>\n",
       "      <td>658600</td>\n",
       "      <td>34201</td>\n",
       "      <td>255</td>\n",
       "      <td>2.21</td>\n",
       "      <td>South America</td>\n",
       "    </tr>\n",
       "    <tr>\n",
       "      <th>3</th>\n",
       "      <td>France</td>\n",
       "      <td>24967222</td>\n",
       "      <td>142597</td>\n",
       "      <td>24823603</td>\n",
       "      <td>142476</td>\n",
       "      <td>143619</td>\n",
       "      <td>121</td>\n",
       "      <td>0.57</td>\n",
       "      <td>Europe</td>\n",
       "    </tr>\n",
       "    <tr>\n",
       "      <th>4</th>\n",
       "      <td>United Kingdom</td>\n",
       "      <td>20848912</td>\n",
       "      <td>165046</td>\n",
       "      <td>20770686</td>\n",
       "      <td>164874</td>\n",
       "      <td>78226</td>\n",
       "      <td>172</td>\n",
       "      <td>0.79</td>\n",
       "      <td>Europe</td>\n",
       "    </tr>\n",
       "  </tbody>\n",
       "</table>\n",
       "</div>"
      ],
      "text/plain": [
       "   Country/Region     Cases  Deaths    PCases  PDeaths  Cases (+)  Deaths (+)  \\\n",
       "0              US  79936777  976505  79888564   975863      48213         642   \n",
       "1           India  43018032  520855  43016372   516755       1660        4100   \n",
       "2          Brazil  29809769  658855  29775568   658600      34201         255   \n",
       "3          France  24967222  142597  24823603   142476     143619         121   \n",
       "4  United Kingdom  20848912  165046  20770686   164874      78226         172   \n",
       "\n",
       "   Fatality Rate      Continent  \n",
       "0           1.22  North America  \n",
       "1           1.21           Asia  \n",
       "2           2.21  South America  \n",
       "3           0.57         Europe  \n",
       "4           0.79         Europe  "
      ]
     },
     "execution_count": 13,
     "metadata": {},
     "output_type": "execute_result"
    }
   ],
   "source": [
    "#hide\n",
    "for c in 'Cases, Deaths'.split(', '):\n",
    "    df_table[f'{c} (+)'] = (df_table[c] - df_table[f'P{c}']).clip(0)\n",
    "    #Clip ça veut dire, les chiffres negatif sont interdit\n",
    "df_table['Fatality Rate'] = (100* df_table['Deaths']/ df_table['Cases']).round(2)\n",
    "df_table['Continent'] = df_table['Country/Region'].map(mapping['map.continent'])\n",
    "df_table.head(5)"
   ]
  },
  {
   "cell_type": "code",
   "execution_count": 14,
   "id": "aboriginal-bulgaria",
   "metadata": {
    "execution": {
     "iopub.execute_input": "2022-03-27T00:38:45.094891Z",
     "iopub.status.busy": "2022-03-27T00:38:45.094280Z",
     "iopub.status.idle": "2022-03-27T00:38:45.096757Z",
     "shell.execute_reply": "2022-03-27T00:38:45.096161Z"
    },
    "papermill": {
     "duration": 0.049177,
     "end_time": "2022-03-27T00:38:45.097050",
     "exception": false,
     "start_time": "2022-03-27T00:38:45.047873",
     "status": "completed"
    },
    "tags": []
   },
   "outputs": [],
   "source": [
    "#hide\n",
    "#delete problematic countries from table\n",
    "df_table = df_table[~df_table['Country/Region'].isin(['Cape Verde', 'Cruise Ship', 'Kosovo'])]"
   ]
  },
  {
   "cell_type": "code",
   "execution_count": 15,
   "id": "fantastic-effect",
   "metadata": {
    "execution": {
     "iopub.execute_input": "2022-03-27T00:38:45.181828Z",
     "iopub.status.busy": "2022-03-27T00:38:45.181099Z",
     "iopub.status.idle": "2022-03-27T00:38:45.202077Z",
     "shell.execute_reply": "2022-03-27T00:38:45.203105Z"
    },
    "papermill": {
     "duration": 0.067975,
     "end_time": "2022-03-27T00:38:45.203288",
     "exception": false,
     "start_time": "2022-03-27T00:38:45.135313",
     "status": "completed"
    },
    "tags": []
   },
   "outputs": [
    {
     "data": {
      "text/html": [
       "<div>\n",
       "<style scoped>\n",
       "    .dataframe tbody tr th:only-of-type {\n",
       "        vertical-align: middle;\n",
       "    }\n",
       "\n",
       "    .dataframe tbody tr th {\n",
       "        vertical-align: top;\n",
       "    }\n",
       "\n",
       "    .dataframe thead th {\n",
       "        text-align: right;\n",
       "    }\n",
       "</style>\n",
       "<table border=\"1\" class=\"dataframe\">\n",
       "  <thead>\n",
       "    <tr style=\"text-align: right;\">\n",
       "      <th></th>\n",
       "      <th>Country/Region</th>\n",
       "      <th>Cases</th>\n",
       "      <th>Deaths</th>\n",
       "      <th>PCases</th>\n",
       "      <th>PDeaths</th>\n",
       "      <th>Cases (+)</th>\n",
       "      <th>Deaths (+)</th>\n",
       "      <th>Fatality Rate</th>\n",
       "      <th>Continent</th>\n",
       "    </tr>\n",
       "  </thead>\n",
       "  <tbody>\n",
       "    <tr>\n",
       "      <th>0</th>\n",
       "      <td>US</td>\n",
       "      <td>79936777</td>\n",
       "      <td>976505</td>\n",
       "      <td>79888564</td>\n",
       "      <td>975863</td>\n",
       "      <td>48213</td>\n",
       "      <td>642</td>\n",
       "      <td>1.2</td>\n",
       "      <td>North America</td>\n",
       "    </tr>\n",
       "    <tr>\n",
       "      <th>1</th>\n",
       "      <td>India</td>\n",
       "      <td>43018032</td>\n",
       "      <td>520855</td>\n",
       "      <td>43016372</td>\n",
       "      <td>516755</td>\n",
       "      <td>1660</td>\n",
       "      <td>4100</td>\n",
       "      <td>1.2</td>\n",
       "      <td>Asia</td>\n",
       "    </tr>\n",
       "    <tr>\n",
       "      <th>2</th>\n",
       "      <td>Brazil</td>\n",
       "      <td>29809769</td>\n",
       "      <td>658855</td>\n",
       "      <td>29775568</td>\n",
       "      <td>658600</td>\n",
       "      <td>34201</td>\n",
       "      <td>255</td>\n",
       "      <td>2.2</td>\n",
       "      <td>South America</td>\n",
       "    </tr>\n",
       "    <tr>\n",
       "      <th>3</th>\n",
       "      <td>France</td>\n",
       "      <td>24967222</td>\n",
       "      <td>142597</td>\n",
       "      <td>24823603</td>\n",
       "      <td>142476</td>\n",
       "      <td>143619</td>\n",
       "      <td>121</td>\n",
       "      <td>0.6</td>\n",
       "      <td>Europe</td>\n",
       "    </tr>\n",
       "    <tr>\n",
       "      <th>4</th>\n",
       "      <td>United Kingdom</td>\n",
       "      <td>20848912</td>\n",
       "      <td>165046</td>\n",
       "      <td>20770686</td>\n",
       "      <td>164874</td>\n",
       "      <td>78226</td>\n",
       "      <td>172</td>\n",
       "      <td>0.8</td>\n",
       "      <td>Europe</td>\n",
       "    </tr>\n",
       "  </tbody>\n",
       "</table>\n",
       "</div>"
      ],
      "text/plain": [
       "   Country/Region     Cases  Deaths    PCases  PDeaths  Cases (+)  Deaths (+)  \\\n",
       "0              US  79936777  976505  79888564   975863      48213         642   \n",
       "1           India  43018032  520855  43016372   516755       1660        4100   \n",
       "2          Brazil  29809769  658855  29775568   658600      34201         255   \n",
       "3          France  24967222  142597  24823603   142476     143619         121   \n",
       "4  United Kingdom  20848912  165046  20770686   164874      78226         172   \n",
       "\n",
       "   Fatality Rate      Continent  \n",
       "0            1.2  North America  \n",
       "1            1.2           Asia  \n",
       "2            2.2  South America  \n",
       "3            0.6         Europe  \n",
       "4            0.8         Europe  "
      ]
     },
     "execution_count": 15,
     "metadata": {},
     "output_type": "execute_result"
    }
   ],
   "source": [
    "#hide\n",
    "df_table = (pd.DataFrame(dict(Cases=dfc_cases, Deaths=dfc_deaths, PCases=dfp_cases, PDeaths=dfp_deaths))\n",
    "             .sort_values(by=['Cases', 'Deaths'], ascending=[False, False])\n",
    "             .reset_index())\n",
    "df_table.rename(columns={'index': 'Country/Region'}, inplace=True)\n",
    "for c in 'Cases, Deaths'.split(', '):\n",
    "    df_table[f'{c} (+)'] = (df_table[c] - df_table[f'P{c}']).clip(0)  # DATA BUG\n",
    "df_table['Fatality Rate'] = (100 * df_table['Deaths'] / df_table['Cases']).round(1)\n",
    "df_table['Continent'] = df_table['Country/Region'].map(mapping['map.continent'])\n",
    "df_table.head(5)"
   ]
  },
  {
   "cell_type": "code",
   "execution_count": 16,
   "id": "fewer-occasion",
   "metadata": {
    "execution": {
     "iopub.execute_input": "2022-03-27T00:38:45.285996Z",
     "iopub.status.busy": "2022-03-27T00:38:45.285287Z",
     "iopub.status.idle": "2022-03-27T00:38:45.288385Z",
     "shell.execute_reply": "2022-03-27T00:38:45.287894Z"
    },
    "papermill": {
     "duration": 0.046646,
     "end_time": "2022-03-27T00:38:45.288507",
     "exception": false,
     "start_time": "2022-03-27T00:38:45.241861",
     "status": "completed"
    },
    "tags": []
   },
   "outputs": [],
   "source": [
    "#hide\n",
    "#delete problematic countries from table\n",
    "df_table = df_table[~df_table['Country/Region'].isin(['Cape Verde', 'Cruise Ship', 'Kosovo'])]"
   ]
  },
  {
   "cell_type": "code",
   "execution_count": 17,
   "id": "related-center",
   "metadata": {
    "execution": {
     "iopub.execute_input": "2022-03-27T00:38:45.373955Z",
     "iopub.status.busy": "2022-03-27T00:38:45.373250Z",
     "iopub.status.idle": "2022-03-27T00:38:45.390601Z",
     "shell.execute_reply": "2022-03-27T00:38:45.389552Z"
    },
    "papermill": {
     "duration": 0.063808,
     "end_time": "2022-03-27T00:38:45.390741",
     "exception": false,
     "start_time": "2022-03-27T00:38:45.326933",
     "status": "completed"
    },
    "tags": []
   },
   "outputs": [],
   "source": [
    "#hide\n",
    "metrics = [df_table.columns[index] for index in [1,2,5,6]]\n",
    "# s_china = df_table[df_table['Country/Region'].eq('China')][metrics].sum().add_prefix('China ')\n",
    "s_us = df_table[df_table['Country/Region'].eq('US')][metrics].sum().add_prefix('US ')\n",
    "s_eu = df_table[df_table['Continent'].eq('Europe')][metrics].sum().add_prefix('EU ')\n",
    "s_ind = df_table[df_table['Country/Region'].eq('India')][metrics].sum().add_prefix('India ')\n",
    "summary = {'updated': pd.to_datetime(dt_today), 'since': pd.to_datetime(dt_yday)}\n",
    "summary = {'updated': pd.to_datetime(dt_today), 'since': pd.to_datetime(dt_yday)}\n",
    "summary = {**summary, **df_table[metrics].sum(), **s_ind, **s_us, **s_eu}"
   ]
  },
  {
   "cell_type": "code",
   "execution_count": 18,
   "id": "engaging-syndrome",
   "metadata": {
    "execution": {
     "iopub.execute_input": "2022-03-27T00:38:45.472520Z",
     "iopub.status.busy": "2022-03-27T00:38:45.471791Z",
     "iopub.status.idle": "2022-03-27T00:38:45.494763Z",
     "shell.execute_reply": "2022-03-27T00:38:45.494050Z"
    },
    "papermill": {
     "duration": 0.065699,
     "end_time": "2022-03-27T00:38:45.494942",
     "exception": false,
     "start_time": "2022-03-27T00:38:45.429243",
     "status": "completed"
    },
    "tags": []
   },
   "outputs": [],
   "source": [
    "#hide\n",
    "dft_ct_new_cases = dft_cases.groupby(COL_REGION)[dt_cols].sum().diff(axis=1).fillna(0).astype(int)"
   ]
  },
  {
   "cell_type": "code",
   "execution_count": 19,
   "id": "neutral-assignment",
   "metadata": {
    "execution": {
     "iopub.execute_input": "2022-03-27T00:38:45.584087Z",
     "iopub.status.busy": "2022-03-27T00:38:45.583369Z",
     "iopub.status.idle": "2022-03-27T00:38:45.586918Z",
     "shell.execute_reply": "2022-03-27T00:38:45.586347Z"
    },
    "papermill": {
     "duration": 0.050535,
     "end_time": "2022-03-27T00:38:45.587056",
     "exception": false,
     "start_time": "2022-03-27T00:38:45.536521",
     "status": "completed"
    },
    "tags": []
   },
   "outputs": [],
   "source": [
    "#hide\n",
    "everydaycases = dft_ct_new_cases.cumsum(axis=1)"
   ]
  },
  {
   "cell_type": "code",
   "execution_count": 20,
   "id": "parliamentary-calgary",
   "metadata": {
    "execution": {
     "iopub.execute_input": "2022-03-27T00:38:45.670166Z",
     "iopub.status.busy": "2022-03-27T00:38:45.669504Z",
     "iopub.status.idle": "2022-03-27T00:38:46.384636Z",
     "shell.execute_reply": "2022-03-27T00:38:46.385187Z"
    },
    "papermill": {
     "duration": 0.758074,
     "end_time": "2022-03-27T00:38:46.385366",
     "exception": false,
     "start_time": "2022-03-27T00:38:45.627292",
     "status": "completed"
    },
    "tags": []
   },
   "outputs": [],
   "source": [
    "#hide\n",
    "import pandas as pd\n",
    "import matplotlib.pyplot as plt\n",
    "import matplotlib.ticker as ticker\n",
    "import matplotlib.animation as animation\n",
    "from IPython.display import HTML"
   ]
  },
  {
   "cell_type": "code",
   "execution_count": 21,
   "id": "lasting-extraction",
   "metadata": {
    "execution": {
     "iopub.execute_input": "2022-03-27T00:38:46.472412Z",
     "iopub.status.busy": "2022-03-27T00:38:46.471574Z",
     "iopub.status.idle": "2022-03-27T00:38:46.478493Z",
     "shell.execute_reply": "2022-03-27T00:38:46.477995Z"
    },
    "papermill": {
     "duration": 0.051511,
     "end_time": "2022-03-27T00:38:46.478650",
     "exception": false,
     "start_time": "2022-03-27T00:38:46.427139",
     "status": "completed"
    },
    "tags": []
   },
   "outputs": [],
   "source": [
    "#hide\n",
    "t = everydaycases.stack()"
   ]
  },
  {
   "cell_type": "code",
   "execution_count": 22,
   "id": "premier-sleeve",
   "metadata": {
    "execution": {
     "iopub.execute_input": "2022-03-27T00:38:46.564179Z",
     "iopub.status.busy": "2022-03-27T00:38:46.562881Z",
     "iopub.status.idle": "2022-03-27T00:38:46.574974Z",
     "shell.execute_reply": "2022-03-27T00:38:46.575635Z"
    },
    "papermill": {
     "duration": 0.056409,
     "end_time": "2022-03-27T00:38:46.575790",
     "exception": false,
     "start_time": "2022-03-27T00:38:46.519381",
     "status": "completed"
    },
    "tags": []
   },
   "outputs": [],
   "source": [
    "#hide\n",
    "g = t.reset_index(['Country/Region'])"
   ]
  },
  {
   "cell_type": "code",
   "execution_count": 23,
   "id": "distributed-pittsburgh",
   "metadata": {
    "execution": {
     "iopub.execute_input": "2022-03-27T00:38:46.659224Z",
     "iopub.status.busy": "2022-03-27T00:38:46.658555Z",
     "iopub.status.idle": "2022-03-27T00:38:46.661155Z",
     "shell.execute_reply": "2022-03-27T00:38:46.660480Z"
    },
    "papermill": {
     "duration": 0.044939,
     "end_time": "2022-03-27T00:38:46.661299",
     "exception": false,
     "start_time": "2022-03-27T00:38:46.616360",
     "status": "completed"
    },
    "tags": []
   },
   "outputs": [],
   "source": [
    "#hide\n",
    "g.index.name = 'date'"
   ]
  },
  {
   "cell_type": "code",
   "execution_count": 24,
   "id": "naked-donor",
   "metadata": {
    "execution": {
     "iopub.execute_input": "2022-03-27T00:38:46.743171Z",
     "iopub.status.busy": "2022-03-27T00:38:46.742537Z",
     "iopub.status.idle": "2022-03-27T00:38:46.747069Z",
     "shell.execute_reply": "2022-03-27T00:38:46.746559Z"
    },
    "papermill": {
     "duration": 0.045425,
     "end_time": "2022-03-27T00:38:46.747199",
     "exception": false,
     "start_time": "2022-03-27T00:38:46.701774",
     "status": "completed"
    },
    "tags": []
   },
   "outputs": [],
   "source": [
    "# #hide\n",
    "# g = g.reset_index(['date'])"
   ]
  },
  {
   "cell_type": "code",
   "execution_count": 25,
   "id": "incomplete-mustang",
   "metadata": {
    "execution": {
     "iopub.execute_input": "2022-03-27T00:38:46.832477Z",
     "iopub.status.busy": "2022-03-27T00:38:46.830875Z",
     "iopub.status.idle": "2022-03-27T00:38:46.833209Z",
     "shell.execute_reply": "2022-03-27T00:38:46.833790Z"
    },
    "papermill": {
     "duration": 0.045879,
     "end_time": "2022-03-27T00:38:46.833927",
     "exception": false,
     "start_time": "2022-03-27T00:38:46.788048",
     "status": "completed"
    },
    "tags": []
   },
   "outputs": [],
   "source": [
    "#hide\n",
    "# g.head()"
   ]
  },
  {
   "cell_type": "code",
   "execution_count": 26,
   "id": "specific-kruger",
   "metadata": {
    "execution": {
     "iopub.execute_input": "2022-03-27T00:38:46.915758Z",
     "iopub.status.busy": "2022-03-27T00:38:46.915128Z",
     "iopub.status.idle": "2022-03-27T00:38:46.918779Z",
     "shell.execute_reply": "2022-03-27T00:38:46.919274Z"
    },
    "papermill": {
     "duration": 0.046793,
     "end_time": "2022-03-27T00:38:46.919432",
     "exception": false,
     "start_time": "2022-03-27T00:38:46.872639",
     "status": "completed"
    },
    "tags": []
   },
   "outputs": [],
   "source": [
    "#hide\n",
    "# g.columns = ['date','country','cases']"
   ]
  },
  {
   "cell_type": "code",
   "execution_count": 27,
   "id": "tender-conversion",
   "metadata": {
    "execution": {
     "iopub.execute_input": "2022-03-27T00:38:46.998521Z",
     "iopub.status.busy": "2022-03-27T00:38:46.997837Z",
     "iopub.status.idle": "2022-03-27T00:38:47.002361Z",
     "shell.execute_reply": "2022-03-27T00:38:47.001709Z"
    },
    "papermill": {
     "duration": 0.045206,
     "end_time": "2022-03-27T00:38:47.002511",
     "exception": false,
     "start_time": "2022-03-27T00:38:46.957305",
     "status": "completed"
    },
    "tags": []
   },
   "outputs": [],
   "source": [
    "#hide\n",
    "# g['continent'] = g.country"
   ]
  },
  {
   "cell_type": "code",
   "execution_count": 28,
   "id": "substantial-wilderness",
   "metadata": {
    "execution": {
     "iopub.execute_input": "2022-03-27T00:38:47.085890Z",
     "iopub.status.busy": "2022-03-27T00:38:47.085190Z",
     "iopub.status.idle": "2022-03-27T00:38:47.088922Z",
     "shell.execute_reply": "2022-03-27T00:38:47.089428Z"
    },
    "papermill": {
     "duration": 0.046594,
     "end_time": "2022-03-27T00:38:47.089578",
     "exception": false,
     "start_time": "2022-03-27T00:38:47.042984",
     "status": "completed"
    },
    "tags": []
   },
   "outputs": [],
   "source": [
    "#hide\n",
    "# cols = list(g.columns.values)"
   ]
  },
  {
   "cell_type": "code",
   "execution_count": 29,
   "id": "solved-farming",
   "metadata": {
    "execution": {
     "iopub.execute_input": "2022-03-27T00:38:47.172087Z",
     "iopub.status.busy": "2022-03-27T00:38:47.171355Z",
     "iopub.status.idle": "2022-03-27T00:38:47.174530Z",
     "shell.execute_reply": "2022-03-27T00:38:47.173264Z"
    },
    "papermill": {
     "duration": 0.044257,
     "end_time": "2022-03-27T00:38:47.174662",
     "exception": false,
     "start_time": "2022-03-27T00:38:47.130405",
     "status": "completed"
    },
    "tags": []
   },
   "outputs": [],
   "source": [
    "#hide\n",
    "# cols.insert(0, cols.pop())"
   ]
  },
  {
   "cell_type": "code",
   "execution_count": 30,
   "id": "executed-adoption",
   "metadata": {
    "execution": {
     "iopub.execute_input": "2022-03-27T00:38:47.257478Z",
     "iopub.status.busy": "2022-03-27T00:38:47.256832Z",
     "iopub.status.idle": "2022-03-27T00:38:47.259088Z",
     "shell.execute_reply": "2022-03-27T00:38:47.259644Z"
    },
    "papermill": {
     "duration": 0.044216,
     "end_time": "2022-03-27T00:38:47.259805",
     "exception": false,
     "start_time": "2022-03-27T00:38:47.215589",
     "status": "completed"
    },
    "tags": []
   },
   "outputs": [],
   "source": [
    "#hide\n",
    "# g = g[cols]"
   ]
  },
  {
   "cell_type": "code",
   "execution_count": 31,
   "id": "subject-dublin",
   "metadata": {
    "execution": {
     "iopub.execute_input": "2022-03-27T00:38:47.339736Z",
     "iopub.status.busy": "2022-03-27T00:38:47.339049Z",
     "iopub.status.idle": "2022-03-27T00:38:47.341728Z",
     "shell.execute_reply": "2022-03-27T00:38:47.341146Z"
    },
    "papermill": {
     "duration": 0.044657,
     "end_time": "2022-03-27T00:38:47.341857",
     "exception": false,
     "start_time": "2022-03-27T00:38:47.297200",
     "status": "completed"
    },
    "tags": []
   },
   "outputs": [],
   "source": [
    "#hide\n",
    "# g['continent'] = g['continent'].map(mapping['map.continent'])"
   ]
  },
  {
   "cell_type": "code",
   "execution_count": 32,
   "id": "freelance-scout",
   "metadata": {
    "execution": {
     "iopub.execute_input": "2022-03-27T00:38:47.424389Z",
     "iopub.status.busy": "2022-03-27T00:38:47.423118Z",
     "iopub.status.idle": "2022-03-27T00:38:47.427770Z",
     "shell.execute_reply": "2022-03-27T00:38:47.427143Z"
    },
    "papermill": {
     "duration": 0.047897,
     "end_time": "2022-03-27T00:38:47.427901",
     "exception": false,
     "start_time": "2022-03-27T00:38:47.380004",
     "status": "completed"
    },
    "tags": []
   },
   "outputs": [],
   "source": [
    "#hide\n",
    "# g.head()"
   ]
  },
  {
   "cell_type": "code",
   "execution_count": 33,
   "id": "limited-engine",
   "metadata": {
    "execution": {
     "iopub.execute_input": "2022-03-27T00:38:47.510392Z",
     "iopub.status.busy": "2022-03-27T00:38:47.509562Z",
     "iopub.status.idle": "2022-03-27T00:38:47.514140Z",
     "shell.execute_reply": "2022-03-27T00:38:47.513569Z"
    },
    "papermill": {
     "duration": 0.047809,
     "end_time": "2022-03-27T00:38:47.514283",
     "exception": false,
     "start_time": "2022-03-27T00:38:47.466474",
     "status": "completed"
    },
    "tags": []
   },
   "outputs": [],
   "source": [
    "# hide\n",
    "# g['date'] = g['date'].astype('datetime64[ns]')"
   ]
  },
  {
   "cell_type": "code",
   "execution_count": 34,
   "id": "sophisticated-supervisor",
   "metadata": {
    "execution": {
     "iopub.execute_input": "2022-03-27T00:38:47.599018Z",
     "iopub.status.busy": "2022-03-27T00:38:47.598324Z",
     "iopub.status.idle": "2022-03-27T00:38:47.602837Z",
     "shell.execute_reply": "2022-03-27T00:38:47.602196Z"
    },
    "papermill": {
     "duration": 0.047753,
     "end_time": "2022-03-27T00:38:47.602959",
     "exception": false,
     "start_time": "2022-03-27T00:38:47.555206",
     "status": "completed"
    },
    "tags": []
   },
   "outputs": [],
   "source": [
    "#hide\n",
    "# g['date'] = g.date.dt.dayofyear"
   ]
  },
  {
   "cell_type": "code",
   "execution_count": 35,
   "id": "inside-dubai",
   "metadata": {
    "execution": {
     "iopub.execute_input": "2022-03-27T00:38:47.694079Z",
     "iopub.status.busy": "2022-03-27T00:38:47.693374Z",
     "iopub.status.idle": "2022-03-27T00:38:47.697636Z",
     "shell.execute_reply": "2022-03-27T00:38:47.697041Z"
    },
    "papermill": {
     "duration": 0.052751,
     "end_time": "2022-03-27T00:38:47.697768",
     "exception": false,
     "start_time": "2022-03-27T00:38:47.645017",
     "status": "completed"
    },
    "tags": []
   },
   "outputs": [],
   "source": [
    "#hide\n",
    "# g = g.rename(columns= {'continent':'group','country':'name','cases':'value'})"
   ]
  },
  {
   "cell_type": "code",
   "execution_count": 36,
   "id": "fleet-motorcycle",
   "metadata": {
    "execution": {
     "iopub.execute_input": "2022-03-27T00:38:47.781716Z",
     "iopub.status.busy": "2022-03-27T00:38:47.780173Z",
     "iopub.status.idle": "2022-03-27T00:38:47.782448Z",
     "shell.execute_reply": "2022-03-27T00:38:47.783052Z"
    },
    "papermill": {
     "duration": 0.046134,
     "end_time": "2022-03-27T00:38:47.783225",
     "exception": false,
     "start_time": "2022-03-27T00:38:47.737091",
     "status": "completed"
    },
    "tags": []
   },
   "outputs": [],
   "source": [
    "#hide\n",
    "# cols = ['name','group','day','value']"
   ]
  },
  {
   "cell_type": "code",
   "execution_count": 37,
   "id": "continued-sleeping",
   "metadata": {
    "execution": {
     "iopub.execute_input": "2022-03-27T00:38:47.864548Z",
     "iopub.status.busy": "2022-03-27T00:38:47.863143Z",
     "iopub.status.idle": "2022-03-27T00:38:47.867738Z",
     "shell.execute_reply": "2022-03-27T00:38:47.868242Z"
    },
    "papermill": {
     "duration": 0.045595,
     "end_time": "2022-03-27T00:38:47.868437",
     "exception": false,
     "start_time": "2022-03-27T00:38:47.822842",
     "status": "completed"
    },
    "tags": []
   },
   "outputs": [],
   "source": [
    "#hide\n",
    "# g.rename(columns= {'date':'day'},inplace = True)"
   ]
  },
  {
   "cell_type": "code",
   "execution_count": 38,
   "id": "major-fight",
   "metadata": {
    "execution": {
     "iopub.execute_input": "2022-03-27T00:38:47.950841Z",
     "iopub.status.busy": "2022-03-27T00:38:47.949402Z",
     "iopub.status.idle": "2022-03-27T00:38:47.951563Z",
     "shell.execute_reply": "2022-03-27T00:38:47.952079Z"
    },
    "papermill": {
     "duration": 0.045981,
     "end_time": "2022-03-27T00:38:47.952210",
     "exception": false,
     "start_time": "2022-03-27T00:38:47.906229",
     "status": "completed"
    },
    "tags": []
   },
   "outputs": [],
   "source": [
    "#hide\n",
    "# g = g[cols]"
   ]
  },
  {
   "cell_type": "code",
   "execution_count": 39,
   "id": "structured-mobile",
   "metadata": {
    "execution": {
     "iopub.execute_input": "2022-03-27T00:38:48.047048Z",
     "iopub.status.busy": "2022-03-27T00:38:48.046338Z",
     "iopub.status.idle": "2022-03-27T00:38:48.050716Z",
     "shell.execute_reply": "2022-03-27T00:38:48.051196Z"
    },
    "papermill": {
     "duration": 0.060447,
     "end_time": "2022-03-27T00:38:48.051365",
     "exception": false,
     "start_time": "2022-03-27T00:38:47.990918",
     "status": "completed"
    },
    "tags": []
   },
   "outputs": [],
   "source": [
    "# #hide\n",
    "# g = g[g.group.notna()]"
   ]
  },
  {
   "cell_type": "code",
   "execution_count": 40,
   "id": "determined-closing",
   "metadata": {
    "execution": {
     "iopub.execute_input": "2022-03-27T00:38:48.135284Z",
     "iopub.status.busy": "2022-03-27T00:38:48.133842Z",
     "iopub.status.idle": "2022-03-27T00:38:48.136068Z",
     "shell.execute_reply": "2022-03-27T00:38:48.136625Z"
    },
    "papermill": {
     "duration": 0.045606,
     "end_time": "2022-03-27T00:38:48.136771",
     "exception": false,
     "start_time": "2022-03-27T00:38:48.091165",
     "status": "completed"
    },
    "tags": []
   },
   "outputs": [],
   "source": [
    "# #hide\n",
    "# colors = dict(zip(\n",
    "#     [\"Oceania\", \"Europe\", \"Asia\", \"South America\", \"Middle East\", \"North America\", \"Africa\"],\n",
    "#     [\"#adb0ff\", \"#ffb3ff\", \"#90d595\", \"#e48381\", \"#aafbff\", \"#f7bb5f\", \"#eafb50\"]\n",
    "# ))\n",
    "# group_lk = g.set_index('name')['group'].to_dict()"
   ]
  },
  {
   "cell_type": "code",
   "execution_count": null,
   "id": "gross-drinking",
   "metadata": {
    "papermill": {
     "duration": 0.037162,
     "end_time": "2022-03-27T00:38:48.212842",
     "exception": false,
     "start_time": "2022-03-27T00:38:48.175680",
     "status": "completed"
    },
    "tags": []
   },
   "outputs": [],
   "source": []
  },
  {
   "cell_type": "code",
   "execution_count": 41,
   "id": "subject-macintosh",
   "metadata": {
    "execution": {
     "iopub.execute_input": "2022-03-27T00:38:48.292919Z",
     "iopub.status.busy": "2022-03-27T00:38:48.292218Z",
     "iopub.status.idle": "2022-03-27T00:38:48.295846Z",
     "shell.execute_reply": "2022-03-27T00:38:48.296316Z"
    },
    "papermill": {
     "duration": 0.046636,
     "end_time": "2022-03-27T00:38:48.296477",
     "exception": false,
     "start_time": "2022-03-27T00:38:48.249841",
     "status": "completed"
    },
    "tags": []
   },
   "outputs": [],
   "source": [
    "# #hide\n",
    "# fig, ax = plt.subplots(figsize=(15, 8))\n",
    "\n",
    "# def draw_barchart(current_day):\n",
    "#     dff = g[g['day'].eq(current_day)].sort_values(by='value', ascending=True).tail(10)\n",
    "#     ax.clear()\n",
    "#     ax.barh(dff['name'], dff['value'], color=[colors[group_lk[x]] for x in dff['name']])\n",
    "#     dx = dff['value'].max() / 200\n",
    "    \n",
    "#     for i, (value, name) in enumerate(zip(dff['value'], dff['name'])):\n",
    "#         ax.text(value-dx, i,     name,           size=14, weight=600, ha='right', va='bottom')\n",
    "#         ax.text(value-dx, i-.25, group_lk[name], size=10, color='#444444', ha='right', va='baseline')\n",
    "#         ax.text(value+dx, i,     f'{value:,.0f}',  size=14, ha='left',  va='center')\n",
    "#     ax.text(1, 0.4, current_day, transform=ax.transAxes, color='#777777', size=46, ha='right', weight=800)\n",
    "#     ax.text(0, 1.06, 'Population (thousands)', transform=ax.transAxes, size=12, color='#777777')\n",
    "#     ax.xaxis.set_major_formatter(ticker.StrMethodFormatter('{x:,.0f}'))\n",
    "#     ax.xaxis.set_ticks_position('top')\n",
    "#     ax.tick_params(axis='x', colors='#777777', labelsize=12)\n",
    "#     ax.set_yticks([])\n",
    "#     ax.margins(0, 0.01)\n",
    "#     ax.grid(which='major', axis='x', linestyle='-')\n",
    "#     ax.set_axisbelow(True)\n",
    "    \n",
    "#     ax.text(0, 1.15, 'Coronavirus',\n",
    "#             transform=ax.transAxes, size=24, weight=600, ha='left', va='top')\n",
    "# #     ax.text(1, 0, 'by @pratapvardhan; credit @jburnmurdoch', transform=ax.transAxes, color='#777777', ha='right',\n",
    "# #             bbox=dict(facecolor='white', alpha=0.8, edgecolor='white'))\n",
    "#     plt.box(False)"
   ]
  },
  {
   "cell_type": "code",
   "execution_count": 42,
   "id": "sexual-wages",
   "metadata": {
    "execution": {
     "iopub.execute_input": "2022-03-27T00:38:48.376777Z",
     "iopub.status.busy": "2022-03-27T00:38:48.376090Z",
     "iopub.status.idle": "2022-03-27T00:38:48.378093Z",
     "shell.execute_reply": "2022-03-27T00:38:48.378597Z"
    },
    "papermill": {
     "duration": 0.043039,
     "end_time": "2022-03-27T00:38:48.378854",
     "exception": false,
     "start_time": "2022-03-27T00:38:48.335815",
     "status": "completed"
    },
    "tags": []
   },
   "outputs": [],
   "source": [
    "# #hide_input\n",
    "# fig, ax = plt.subplots(figsize=(15, 8))\n",
    "# animator = animation.FuncAnimation(fig, draw_barchart, frames=range(g.day.values.min(), g.day.values.max()))\n",
    "# HTML(animator.to_jshtml())\n",
    "# # or use animator.to_html5_video() or animator.save() "
   ]
  },
  {
   "cell_type": "code",
   "execution_count": null,
   "id": "australian-container",
   "metadata": {
    "papermill": {
     "duration": 0.040888,
     "end_time": "2022-03-27T00:38:48.457709",
     "exception": false,
     "start_time": "2022-03-27T00:38:48.416821",
     "status": "completed"
    },
    "tags": []
   },
   "outputs": [],
   "source": []
  },
  {
   "cell_type": "code",
   "execution_count": null,
   "id": "mediterranean-pontiac",
   "metadata": {
    "papermill": {
     "duration": 0.036789,
     "end_time": "2022-03-27T00:38:48.532085",
     "exception": false,
     "start_time": "2022-03-27T00:38:48.495296",
     "status": "completed"
    },
    "tags": []
   },
   "outputs": [],
   "source": []
  },
  {
   "cell_type": "code",
   "execution_count": null,
   "id": "aging-legislature",
   "metadata": {
    "papermill": {
     "duration": 0.037677,
     "end_time": "2022-03-27T00:38:48.606381",
     "exception": false,
     "start_time": "2022-03-27T00:38:48.568704",
     "status": "completed"
    },
    "tags": []
   },
   "outputs": [],
   "source": []
  }
 ],
 "metadata": {
  "kernelspec": {
   "display_name": "Python 3",
   "language": "python",
   "name": "python3"
  },
  "language_info": {
   "codemirror_mode": {
    "name": "ipython",
    "version": 3
   },
   "file_extension": ".py",
   "mimetype": "text/x-python",
   "name": "python",
   "nbconvert_exporter": "python",
   "pygments_lexer": "ipython3",
   "version": "3.6.15"
  },
  "papermill": {
   "duration": 7.33292,
   "end_time": "2022-03-27T00:38:48.961545",
   "environment_variables": {},
   "exception": null,
   "input_path": "2020-03-21-covid19exp.ipynb",
   "output_path": "2020-03-21-covid19exp.ipynb",
   "parameters": {},
   "start_time": "2022-03-27T00:38:41.628625",
   "version": "2.0.0"
  }
 },
 "nbformat": 4,
 "nbformat_minor": 5
}