{
 "cells": [
  {
   "cell_type": "markdown",
   "id": "muslim-click",
   "metadata": {
    "papermill": {
     "duration": 0.040862,
     "end_time": "2021-03-26T00:08:38.976657",
     "exception": false,
     "start_time": "2021-03-26T00:08:38.935795",
     "status": "completed"
    },
    "tags": []
   },
   "source": [
    "# COVID-19 Case Race\n",
    "> A race chart to see rising cases around the world\n",
    "\n",
    "- author: Hargun Oberoi\n",
    "- image: images/covid-overview.png\n",
    "- hide: false\n",
    "- badges: false"
   ]
  },
  {
   "cell_type": "code",
   "execution_count": 1,
   "id": "proof-material",
   "metadata": {
    "execution": {
     "iopub.execute_input": "2021-03-26T00:08:39.061498Z",
     "iopub.status.busy": "2021-03-26T00:08:39.060789Z",
     "iopub.status.idle": "2021-03-26T00:08:39.439357Z",
     "shell.execute_reply": "2021-03-26T00:08:39.438217Z"
    },
    "papermill": {
     "duration": 0.428386,
     "end_time": "2021-03-26T00:08:39.439517",
     "exception": false,
     "start_time": "2021-03-26T00:08:39.011131",
     "status": "completed"
    },
    "tags": []
   },
   "outputs": [],
   "source": [
    "#hide\n",
    "import numpy as np\n",
    "import pandas as pd\n",
    "from jinja2 import Template\n",
    "from IPython.display import HTML"
   ]
  },
  {
   "cell_type": "code",
   "execution_count": 2,
   "id": "developed-terminology",
   "metadata": {
    "execution": {
     "iopub.execute_input": "2021-03-26T00:08:39.510566Z",
     "iopub.status.busy": "2021-03-26T00:08:39.509921Z",
     "iopub.status.idle": "2021-03-26T00:08:39.512234Z",
     "shell.execute_reply": "2021-03-26T00:08:39.511786Z"
    },
    "papermill": {
     "duration": 0.040101,
     "end_time": "2021-03-26T00:08:39.512361",
     "exception": false,
     "start_time": "2021-03-26T00:08:39.472260",
     "status": "completed"
    },
    "tags": []
   },
   "outputs": [],
   "source": [
    "#hide\n",
    "\n",
    "# FETCH\n",
    "base_url = 'https://raw.githubusercontent.com/pratapvardhan/notebooks/master/covid19/'\n",
    "paths = {\n",
    "    'mapping': base_url + 'mapping_countries.csv',\n",
    "    'overview': base_url + 'overview.tpl'\n",
    "}"
   ]
  },
  {
   "cell_type": "code",
   "execution_count": 3,
   "id": "dynamic-saver",
   "metadata": {
    "execution": {
     "iopub.execute_input": "2021-03-26T00:08:39.588776Z",
     "iopub.status.busy": "2021-03-26T00:08:39.588205Z",
     "iopub.status.idle": "2021-03-26T00:08:39.591200Z",
     "shell.execute_reply": "2021-03-26T00:08:39.591776Z"
    },
    "papermill": {
     "duration": 0.046877,
     "end_time": "2021-03-26T00:08:39.591926",
     "exception": false,
     "start_time": "2021-03-26T00:08:39.545049",
     "status": "completed"
    },
    "tags": []
   },
   "outputs": [
    {
     "data": {
      "text/plain": [
       "'https://raw.githubusercontent.com/pratapvardhan/notebooks/master/covid19/mapping_countries.csv'"
      ]
     },
     "execution_count": 3,
     "metadata": {},
     "output_type": "execute_result"
    }
   ],
   "source": [
    "#hide\n",
    "paths['mapping']"
   ]
  },
  {
   "cell_type": "code",
   "execution_count": 4,
   "id": "urban-software",
   "metadata": {
    "execution": {
     "iopub.execute_input": "2021-03-26T00:08:39.667384Z",
     "iopub.status.busy": "2021-03-26T00:08:39.666725Z",
     "iopub.status.idle": "2021-03-26T00:08:39.668706Z",
     "shell.execute_reply": "2021-03-26T00:08:39.669250Z"
    },
    "papermill": {
     "duration": 0.044476,
     "end_time": "2021-03-26T00:08:39.669614",
     "exception": false,
     "start_time": "2021-03-26T00:08:39.625138",
     "status": "completed"
    },
    "tags": []
   },
   "outputs": [],
   "source": [
    "#hide\n",
    "def get_mappings(url):\n",
    "    df = pd.read_csv(url)\n",
    "    return {\n",
    "        'df': df,\n",
    "        'replace.country': dict(df.dropna(subset=['Name']).set_index('Country')['Name']),\n",
    "        'map.continent': dict(df.set_index('Name')['Continent'])\n",
    "    }"
   ]
  },
  {
   "cell_type": "code",
   "execution_count": 5,
   "id": "intimate-machinery",
   "metadata": {
    "execution": {
     "iopub.execute_input": "2021-03-26T00:08:39.747254Z",
     "iopub.status.busy": "2021-03-26T00:08:39.746613Z",
     "iopub.status.idle": "2021-03-26T00:08:39.814263Z",
     "shell.execute_reply": "2021-03-26T00:08:39.813453Z"
    },
    "papermill": {
     "duration": 0.108747,
     "end_time": "2021-03-26T00:08:39.814403",
     "exception": false,
     "start_time": "2021-03-26T00:08:39.705656",
     "status": "completed"
    },
    "tags": []
   },
   "outputs": [],
   "source": [
    "#hide\n",
    "mapping = get_mappings(paths['mapping'])"
   ]
  },
  {
   "cell_type": "code",
   "execution_count": 6,
   "id": "certified-tactics",
   "metadata": {
    "execution": {
     "iopub.execute_input": "2021-03-26T00:08:39.894052Z",
     "iopub.status.busy": "2021-03-26T00:08:39.893357Z",
     "iopub.status.idle": "2021-03-26T00:08:39.895970Z",
     "shell.execute_reply": "2021-03-26T00:08:39.896465Z"
    },
    "papermill": {
     "duration": 0.044035,
     "end_time": "2021-03-26T00:08:39.896622",
     "exception": false,
     "start_time": "2021-03-26T00:08:39.852587",
     "status": "completed"
    },
    "tags": []
   },
   "outputs": [],
   "source": [
    "#hide\n",
    "def get_template(path):\n",
    "    from urllib.parse import urlparse\n",
    "    if bool(urlparse(path).netloc):\n",
    "        from urllib.request import urlopen\n",
    "        return urlopen(path).read().decode('utf8')\n",
    "    return open(path).read()"
   ]
  },
  {
   "cell_type": "code",
   "execution_count": 7,
   "id": "realistic-blast",
   "metadata": {
    "execution": {
     "iopub.execute_input": "2021-03-26T00:08:39.976366Z",
     "iopub.status.busy": "2021-03-26T00:08:39.975761Z",
     "iopub.status.idle": "2021-03-26T00:08:39.977857Z",
     "shell.execute_reply": "2021-03-26T00:08:39.978361Z"
    },
    "papermill": {
     "duration": 0.045794,
     "end_time": "2021-03-26T00:08:39.978515",
     "exception": false,
     "start_time": "2021-03-26T00:08:39.932721",
     "status": "completed"
    },
    "tags": []
   },
   "outputs": [],
   "source": [
    "#hide\n",
    "def get_frame(name):\n",
    "    url = (\n",
    "        'https://raw.githubusercontent.com/CSSEGISandData/COVID-19/master/csse_covid_19_data/'\n",
    "        f'csse_covid_19_time_series/time_series_covid19_{name}_global.csv')\n",
    "    df = pd.read_csv(url)\n",
    "    # rename countries\n",
    "    df['Country/Region'] = df['Country/Region'].replace(mapping['replace.country'])\n",
    "    return df"
   ]
  },
  {
   "cell_type": "code",
   "execution_count": 8,
   "id": "affiliated-characterization",
   "metadata": {
    "execution": {
     "iopub.execute_input": "2021-03-26T00:08:40.068722Z",
     "iopub.status.busy": "2021-03-26T00:08:40.068084Z",
     "iopub.status.idle": "2021-03-26T00:08:40.071165Z",
     "shell.execute_reply": "2021-03-26T00:08:40.071710Z"
    },
    "papermill": {
     "duration": 0.047397,
     "end_time": "2021-03-26T00:08:40.071870",
     "exception": false,
     "start_time": "2021-03-26T00:08:40.024473",
     "status": "completed"
    },
    "tags": []
   },
   "outputs": [],
   "source": [
    "#hide\n",
    "def get_dates(df):\n",
    "    dt_cols = df.columns[~df.columns.isin(['Province/State', 'Country/Region', 'Lat', 'Long'])]\n",
    "    LAST_DATE_I = -1\n",
    "    # sometimes last column may be empty, then go backwards\n",
    "    for i in range(-1, -len(dt_cols), -1):\n",
    "        if not df[dt_cols[i]].fillna(0).eq(0).all():\n",
    "            LAST_DATE_I = i\n",
    "            break\n",
    "    return LAST_DATE_I, dt_cols"
   ]
  },
  {
   "cell_type": "code",
   "execution_count": 9,
   "id": "recent-optimization",
   "metadata": {
    "execution": {
     "iopub.execute_input": "2021-03-26T00:08:40.155350Z",
     "iopub.status.busy": "2021-03-26T00:08:40.154701Z",
     "iopub.status.idle": "2021-03-26T00:08:40.606062Z",
     "shell.execute_reply": "2021-03-26T00:08:40.605468Z"
    },
    "papermill": {
     "duration": 0.493724,
     "end_time": "2021-03-26T00:08:40.606199",
     "exception": false,
     "start_time": "2021-03-26T00:08:40.112475",
     "status": "completed"
    },
    "tags": []
   },
   "outputs": [],
   "source": [
    "#hide\n",
    "COL_REGION = 'Country/Region'\n",
    "# Confirmed, Recovered, Deaths\n",
    "df = get_frame('confirmed')\n",
    "# dft_: timeseries, dfc_: today country agg\n",
    "dft_cases = df\n",
    "dft_deaths = get_frame('deaths')\n",
    "dft_recovered = get_frame('recovered')\n",
    "LAST_DATE_I, dt_cols = get_dates(df)"
   ]
  },
  {
   "cell_type": "code",
   "execution_count": 10,
   "id": "absolute-copper",
   "metadata": {
    "execution": {
     "iopub.execute_input": "2021-03-26T00:08:40.680398Z",
     "iopub.status.busy": "2021-03-26T00:08:40.679733Z",
     "iopub.status.idle": "2021-03-26T00:08:40.682217Z",
     "shell.execute_reply": "2021-03-26T00:08:40.681656Z"
    },
    "papermill": {
     "duration": 0.042114,
     "end_time": "2021-03-26T00:08:40.682352",
     "exception": false,
     "start_time": "2021-03-26T00:08:40.640238",
     "status": "completed"
    },
    "tags": []
   },
   "outputs": [],
   "source": [
    "#hide\n",
    "LAST_DATE_I, dt_cols = get_dates(df)\n",
    "dt_today =dt_cols[LAST_DATE_I]\n",
    "# dt_5day = dt_cols[LAST_DATE_I - 5]\n",
    "dt_yday = dt_cols[LAST_DATE_I - 1]"
   ]
  },
  {
   "cell_type": "code",
   "execution_count": 11,
   "id": "restricted-sheriff",
   "metadata": {
    "execution": {
     "iopub.execute_input": "2021-03-26T00:08:40.757453Z",
     "iopub.status.busy": "2021-03-26T00:08:40.756807Z",
     "iopub.status.idle": "2021-03-26T00:08:40.765921Z",
     "shell.execute_reply": "2021-03-26T00:08:40.765373Z"
    },
    "papermill": {
     "duration": 0.05017,
     "end_time": "2021-03-26T00:08:40.766064",
     "exception": false,
     "start_time": "2021-03-26T00:08:40.715894",
     "status": "completed"
    },
    "tags": []
   },
   "outputs": [],
   "source": [
    "#hide\n",
    "dfc_cases = dft_cases.groupby(COL_REGION)[dt_today].sum()\n",
    "dfc_deaths = dft_deaths.groupby(COL_REGION)[dt_today].sum()\n",
    "# dfp_cases = dft_cases.groupby(COL_REGION)[dt_5day].sum()\n",
    "# dfp_deaths = dft_deaths.groupby(COL_REGION)[dt_5day].sum()\n",
    "dfp_cases = dft_cases.groupby(COL_REGION)[dt_yday].sum()\n",
    "dfp_deaths = dft_deaths.groupby(COL_REGION)[dt_yday].sum()"
   ]
  },
  {
   "cell_type": "code",
   "execution_count": 12,
   "id": "deluxe-hepatitis",
   "metadata": {
    "execution": {
     "iopub.execute_input": "2021-03-26T00:08:40.842573Z",
     "iopub.status.busy": "2021-03-26T00:08:40.841209Z",
     "iopub.status.idle": "2021-03-26T00:08:40.847261Z",
     "shell.execute_reply": "2021-03-26T00:08:40.846397Z"
    },
    "papermill": {
     "duration": 0.048331,
     "end_time": "2021-03-26T00:08:40.847404",
     "exception": false,
     "start_time": "2021-03-26T00:08:40.799073",
     "status": "completed"
    },
    "tags": []
   },
   "outputs": [],
   "source": [
    "#hide\n",
    "df_table = (pd.DataFrame(dict(Cases = dfc_cases, Deaths = dfc_deaths, PCases = dfp_cases, PDeaths = dfp_deaths))\n",
    "            .sort_values(by = ['Cases','Deaths'], ascending = [False, False])\n",
    "            .reset_index())"
   ]
  },
  {
   "cell_type": "code",
   "execution_count": 13,
   "id": "educational-chancellor",
   "metadata": {
    "execution": {
     "iopub.execute_input": "2021-03-26T00:08:40.946929Z",
     "iopub.status.busy": "2021-03-26T00:08:40.936633Z",
     "iopub.status.idle": "2021-03-26T00:08:40.950199Z",
     "shell.execute_reply": "2021-03-26T00:08:40.951013Z"
    },
    "papermill": {
     "duration": 0.069224,
     "end_time": "2021-03-26T00:08:40.951213",
     "exception": false,
     "start_time": "2021-03-26T00:08:40.881989",
     "status": "completed"
    },
    "tags": []
   },
   "outputs": [
    {
     "data": {
      "text/html": [
       "<div>\n",
       "<style scoped>\n",
       "    .dataframe tbody tr th:only-of-type {\n",
       "        vertical-align: middle;\n",
       "    }\n",
       "\n",
       "    .dataframe tbody tr th {\n",
       "        vertical-align: top;\n",
       "    }\n",
       "\n",
       "    .dataframe thead th {\n",
       "        text-align: right;\n",
       "    }\n",
       "</style>\n",
       "<table border=\"1\" class=\"dataframe\">\n",
       "  <thead>\n",
       "    <tr style=\"text-align: right;\">\n",
       "      <th></th>\n",
       "      <th>Country/Region</th>\n",
       "      <th>Cases</th>\n",
       "      <th>Deaths</th>\n",
       "      <th>PCases</th>\n",
       "      <th>PDeaths</th>\n",
       "      <th>Cases (+)</th>\n",
       "      <th>Deaths (+)</th>\n",
       "      <th>Fatality Rate</th>\n",
       "      <th>Continent</th>\n",
       "    </tr>\n",
       "  </thead>\n",
       "  <tbody>\n",
       "    <tr>\n",
       "      <th>0</th>\n",
       "      <td>US</td>\n",
       "      <td>30011839</td>\n",
       "      <td>545264</td>\n",
       "      <td>29924892</td>\n",
       "      <td>543810</td>\n",
       "      <td>86947</td>\n",
       "      <td>1454</td>\n",
       "      <td>1.82</td>\n",
       "      <td>North America</td>\n",
       "    </tr>\n",
       "    <tr>\n",
       "      <th>1</th>\n",
       "      <td>Brazil</td>\n",
       "      <td>12220011</td>\n",
       "      <td>300685</td>\n",
       "      <td>12130019</td>\n",
       "      <td>298676</td>\n",
       "      <td>89992</td>\n",
       "      <td>2009</td>\n",
       "      <td>2.46</td>\n",
       "      <td>South America</td>\n",
       "    </tr>\n",
       "    <tr>\n",
       "      <th>2</th>\n",
       "      <td>India</td>\n",
       "      <td>11787534</td>\n",
       "      <td>160692</td>\n",
       "      <td>11734058</td>\n",
       "      <td>160441</td>\n",
       "      <td>53476</td>\n",
       "      <td>251</td>\n",
       "      <td>1.36</td>\n",
       "      <td>Asia</td>\n",
       "    </tr>\n",
       "    <tr>\n",
       "      <th>3</th>\n",
       "      <td>Russia</td>\n",
       "      <td>4433364</td>\n",
       "      <td>94624</td>\n",
       "      <td>4424595</td>\n",
       "      <td>94231</td>\n",
       "      <td>8769</td>\n",
       "      <td>393</td>\n",
       "      <td>2.13</td>\n",
       "      <td>Europe</td>\n",
       "    </tr>\n",
       "    <tr>\n",
       "      <th>4</th>\n",
       "      <td>France</td>\n",
       "      <td>4374774</td>\n",
       "      <td>93083</td>\n",
       "      <td>4373607</td>\n",
       "      <td>93064</td>\n",
       "      <td>1167</td>\n",
       "      <td>19</td>\n",
       "      <td>2.13</td>\n",
       "      <td>Europe</td>\n",
       "    </tr>\n",
       "  </tbody>\n",
       "</table>\n",
       "</div>"
      ],
      "text/plain": [
       "  Country/Region     Cases  Deaths    PCases  PDeaths  Cases (+)  Deaths (+)  \\\n",
       "0             US  30011839  545264  29924892   543810      86947        1454   \n",
       "1         Brazil  12220011  300685  12130019   298676      89992        2009   \n",
       "2          India  11787534  160692  11734058   160441      53476         251   \n",
       "3         Russia   4433364   94624   4424595    94231       8769         393   \n",
       "4         France   4374774   93083   4373607    93064       1167          19   \n",
       "\n",
       "   Fatality Rate      Continent  \n",
       "0           1.82  North America  \n",
       "1           2.46  South America  \n",
       "2           1.36           Asia  \n",
       "3           2.13         Europe  \n",
       "4           2.13         Europe  "
      ]
     },
     "execution_count": 13,
     "metadata": {},
     "output_type": "execute_result"
    }
   ],
   "source": [
    "#hide\n",
    "for c in 'Cases, Deaths'.split(', '):\n",
    "    df_table[f'{c} (+)'] = (df_table[c] - df_table[f'P{c}']).clip(0)\n",
    "    #Clip ça veut dire, les chiffres negatif sont interdit\n",
    "df_table['Fatality Rate'] = (100* df_table['Deaths']/ df_table['Cases']).round(2)\n",
    "df_table['Continent'] = df_table['Country/Region'].map(mapping['map.continent'])\n",
    "df_table.head(5)"
   ]
  },
  {
   "cell_type": "code",
   "execution_count": 14,
   "id": "aboriginal-bulgaria",
   "metadata": {
    "execution": {
     "iopub.execute_input": "2021-03-26T00:08:41.030343Z",
     "iopub.status.busy": "2021-03-26T00:08:41.029695Z",
     "iopub.status.idle": "2021-03-26T00:08:41.031699Z",
     "shell.execute_reply": "2021-03-26T00:08:41.032148Z"
    },
    "papermill": {
     "duration": 0.045061,
     "end_time": "2021-03-26T00:08:41.032307",
     "exception": false,
     "start_time": "2021-03-26T00:08:40.987246",
     "status": "completed"
    },
    "tags": []
   },
   "outputs": [],
   "source": [
    "#hide\n",
    "#delete problematic countries from table\n",
    "df_table = df_table[~df_table['Country/Region'].isin(['Cape Verde', 'Cruise Ship', 'Kosovo'])]"
   ]
  },
  {
   "cell_type": "code",
   "execution_count": 15,
   "id": "fantastic-effect",
   "metadata": {
    "execution": {
     "iopub.execute_input": "2021-03-26T00:08:41.111530Z",
     "iopub.status.busy": "2021-03-26T00:08:41.110914Z",
     "iopub.status.idle": "2021-03-26T00:08:41.131892Z",
     "shell.execute_reply": "2021-03-26T00:08:41.132411Z"
    },
    "papermill": {
     "duration": 0.065562,
     "end_time": "2021-03-26T00:08:41.132574",
     "exception": false,
     "start_time": "2021-03-26T00:08:41.067012",
     "status": "completed"
    },
    "tags": []
   },
   "outputs": [
    {
     "data": {
      "text/html": [
       "<div>\n",
       "<style scoped>\n",
       "    .dataframe tbody tr th:only-of-type {\n",
       "        vertical-align: middle;\n",
       "    }\n",
       "\n",
       "    .dataframe tbody tr th {\n",
       "        vertical-align: top;\n",
       "    }\n",
       "\n",
       "    .dataframe thead th {\n",
       "        text-align: right;\n",
       "    }\n",
       "</style>\n",
       "<table border=\"1\" class=\"dataframe\">\n",
       "  <thead>\n",
       "    <tr style=\"text-align: right;\">\n",
       "      <th></th>\n",
       "      <th>Country/Region</th>\n",
       "      <th>Cases</th>\n",
       "      <th>Deaths</th>\n",
       "      <th>PCases</th>\n",
       "      <th>PDeaths</th>\n",
       "      <th>Cases (+)</th>\n",
       "      <th>Deaths (+)</th>\n",
       "      <th>Fatality Rate</th>\n",
       "      <th>Continent</th>\n",
       "    </tr>\n",
       "  </thead>\n",
       "  <tbody>\n",
       "    <tr>\n",
       "      <th>0</th>\n",
       "      <td>US</td>\n",
       "      <td>30011839</td>\n",
       "      <td>545264</td>\n",
       "      <td>29924892</td>\n",
       "      <td>543810</td>\n",
       "      <td>86947</td>\n",
       "      <td>1454</td>\n",
       "      <td>1.8</td>\n",
       "      <td>North America</td>\n",
       "    </tr>\n",
       "    <tr>\n",
       "      <th>1</th>\n",
       "      <td>Brazil</td>\n",
       "      <td>12220011</td>\n",
       "      <td>300685</td>\n",
       "      <td>12130019</td>\n",
       "      <td>298676</td>\n",
       "      <td>89992</td>\n",
       "      <td>2009</td>\n",
       "      <td>2.5</td>\n",
       "      <td>South America</td>\n",
       "    </tr>\n",
       "    <tr>\n",
       "      <th>2</th>\n",
       "      <td>India</td>\n",
       "      <td>11787534</td>\n",
       "      <td>160692</td>\n",
       "      <td>11734058</td>\n",
       "      <td>160441</td>\n",
       "      <td>53476</td>\n",
       "      <td>251</td>\n",
       "      <td>1.4</td>\n",
       "      <td>Asia</td>\n",
       "    </tr>\n",
       "    <tr>\n",
       "      <th>3</th>\n",
       "      <td>Russia</td>\n",
       "      <td>4433364</td>\n",
       "      <td>94624</td>\n",
       "      <td>4424595</td>\n",
       "      <td>94231</td>\n",
       "      <td>8769</td>\n",
       "      <td>393</td>\n",
       "      <td>2.1</td>\n",
       "      <td>Europe</td>\n",
       "    </tr>\n",
       "    <tr>\n",
       "      <th>4</th>\n",
       "      <td>France</td>\n",
       "      <td>4374774</td>\n",
       "      <td>93083</td>\n",
       "      <td>4373607</td>\n",
       "      <td>93064</td>\n",
       "      <td>1167</td>\n",
       "      <td>19</td>\n",
       "      <td>2.1</td>\n",
       "      <td>Europe</td>\n",
       "    </tr>\n",
       "  </tbody>\n",
       "</table>\n",
       "</div>"
      ],
      "text/plain": [
       "  Country/Region     Cases  Deaths    PCases  PDeaths  Cases (+)  Deaths (+)  \\\n",
       "0             US  30011839  545264  29924892   543810      86947        1454   \n",
       "1         Brazil  12220011  300685  12130019   298676      89992        2009   \n",
       "2          India  11787534  160692  11734058   160441      53476         251   \n",
       "3         Russia   4433364   94624   4424595    94231       8769         393   \n",
       "4         France   4374774   93083   4373607    93064       1167          19   \n",
       "\n",
       "   Fatality Rate      Continent  \n",
       "0            1.8  North America  \n",
       "1            2.5  South America  \n",
       "2            1.4           Asia  \n",
       "3            2.1         Europe  \n",
       "4            2.1         Europe  "
      ]
     },
     "execution_count": 15,
     "metadata": {},
     "output_type": "execute_result"
    }
   ],
   "source": [
    "#hide\n",
    "df_table = (pd.DataFrame(dict(Cases=dfc_cases, Deaths=dfc_deaths, PCases=dfp_cases, PDeaths=dfp_deaths))\n",
    "             .sort_values(by=['Cases', 'Deaths'], ascending=[False, False])\n",
    "             .reset_index())\n",
    "df_table.rename(columns={'index': 'Country/Region'}, inplace=True)\n",
    "for c in 'Cases, Deaths'.split(', '):\n",
    "    df_table[f'{c} (+)'] = (df_table[c] - df_table[f'P{c}']).clip(0)  # DATA BUG\n",
    "df_table['Fatality Rate'] = (100 * df_table['Deaths'] / df_table['Cases']).round(1)\n",
    "df_table['Continent'] = df_table['Country/Region'].map(mapping['map.continent'])\n",
    "df_table.head(5)"
   ]
  },
  {
   "cell_type": "code",
   "execution_count": 16,
   "id": "fewer-occasion",
   "metadata": {
    "execution": {
     "iopub.execute_input": "2021-03-26T00:08:41.220388Z",
     "iopub.status.busy": "2021-03-26T00:08:41.219305Z",
     "iopub.status.idle": "2021-03-26T00:08:41.223962Z",
     "shell.execute_reply": "2021-03-26T00:08:41.224426Z"
    },
    "papermill": {
     "duration": 0.056332,
     "end_time": "2021-03-26T00:08:41.224596",
     "exception": false,
     "start_time": "2021-03-26T00:08:41.168264",
     "status": "completed"
    },
    "tags": []
   },
   "outputs": [],
   "source": [
    "#hide\n",
    "#delete problematic countries from table\n",
    "df_table = df_table[~df_table['Country/Region'].isin(['Cape Verde', 'Cruise Ship', 'Kosovo'])]"
   ]
  },
  {
   "cell_type": "code",
   "execution_count": 17,
   "id": "related-center",
   "metadata": {
    "execution": {
     "iopub.execute_input": "2021-03-26T00:08:41.315057Z",
     "iopub.status.busy": "2021-03-26T00:08:41.314409Z",
     "iopub.status.idle": "2021-03-26T00:08:41.317261Z",
     "shell.execute_reply": "2021-03-26T00:08:41.316654Z"
    },
    "papermill": {
     "duration": 0.057759,
     "end_time": "2021-03-26T00:08:41.317391",
     "exception": false,
     "start_time": "2021-03-26T00:08:41.259632",
     "status": "completed"
    },
    "tags": []
   },
   "outputs": [],
   "source": [
    "#hide\n",
    "metrics = [df_table.columns[index] for index in [1,2,5,6]]\n",
    "# s_china = df_table[df_table['Country/Region'].eq('China')][metrics].sum().add_prefix('China ')\n",
    "s_us = df_table[df_table['Country/Region'].eq('US')][metrics].sum().add_prefix('US ')\n",
    "s_eu = df_table[df_table['Continent'].eq('Europe')][metrics].sum().add_prefix('EU ')\n",
    "s_ind = df_table[df_table['Country/Region'].eq('India')][metrics].sum().add_prefix('India ')\n",
    "summary = {'updated': pd.to_datetime(dt_today), 'since': pd.to_datetime(dt_yday)}\n",
    "summary = {'updated': pd.to_datetime(dt_today), 'since': pd.to_datetime(dt_yday)}\n",
    "summary = {**summary, **df_table[metrics].sum(), **s_ind, **s_us, **s_eu}"
   ]
  },
  {
   "cell_type": "code",
   "execution_count": 18,
   "id": "engaging-syndrome",
   "metadata": {
    "execution": {
     "iopub.execute_input": "2021-03-26T00:08:41.395436Z",
     "iopub.status.busy": "2021-03-26T00:08:41.394749Z",
     "iopub.status.idle": "2021-03-26T00:08:41.408865Z",
     "shell.execute_reply": "2021-03-26T00:08:41.408346Z"
    },
    "papermill": {
     "duration": 0.056777,
     "end_time": "2021-03-26T00:08:41.409002",
     "exception": false,
     "start_time": "2021-03-26T00:08:41.352225",
     "status": "completed"
    },
    "tags": []
   },
   "outputs": [],
   "source": [
    "#hide\n",
    "dft_ct_new_cases = dft_cases.groupby(COL_REGION)[dt_cols].sum().diff(axis=1).fillna(0).astype(int)"
   ]
  },
  {
   "cell_type": "code",
   "execution_count": 19,
   "id": "neutral-assignment",
   "metadata": {
    "execution": {
     "iopub.execute_input": "2021-03-26T00:08:41.488435Z",
     "iopub.status.busy": "2021-03-26T00:08:41.487802Z",
     "iopub.status.idle": "2021-03-26T00:08:41.491139Z",
     "shell.execute_reply": "2021-03-26T00:08:41.490587Z"
    },
    "papermill": {
     "duration": 0.047251,
     "end_time": "2021-03-26T00:08:41.491273",
     "exception": false,
     "start_time": "2021-03-26T00:08:41.444022",
     "status": "completed"
    },
    "tags": []
   },
   "outputs": [],
   "source": [
    "#hide\n",
    "everydaycases = dft_ct_new_cases.cumsum(axis=1)"
   ]
  },
  {
   "cell_type": "code",
   "execution_count": 20,
   "id": "parliamentary-calgary",
   "metadata": {
    "execution": {
     "iopub.execute_input": "2021-03-26T00:08:41.568453Z",
     "iopub.status.busy": "2021-03-26T00:08:41.567830Z",
     "iopub.status.idle": "2021-03-26T00:08:43.351080Z",
     "shell.execute_reply": "2021-03-26T00:08:43.350318Z"
    },
    "papermill": {
     "duration": 1.823628,
     "end_time": "2021-03-26T00:08:43.351218",
     "exception": false,
     "start_time": "2021-03-26T00:08:41.527590",
     "status": "completed"
    },
    "tags": []
   },
   "outputs": [],
   "source": [
    "#hide\n",
    "import pandas as pd\n",
    "import matplotlib.pyplot as plt\n",
    "import matplotlib.ticker as ticker\n",
    "import matplotlib.animation as animation\n",
    "from IPython.display import HTML"
   ]
  },
  {
   "cell_type": "code",
   "execution_count": 21,
   "id": "lasting-extraction",
   "metadata": {
    "execution": {
     "iopub.execute_input": "2021-03-26T00:08:43.428260Z",
     "iopub.status.busy": "2021-03-26T00:08:43.427674Z",
     "iopub.status.idle": "2021-03-26T00:08:43.435010Z",
     "shell.execute_reply": "2021-03-26T00:08:43.434433Z"
    },
    "papermill": {
     "duration": 0.048254,
     "end_time": "2021-03-26T00:08:43.435279",
     "exception": false,
     "start_time": "2021-03-26T00:08:43.387025",
     "status": "completed"
    },
    "tags": []
   },
   "outputs": [],
   "source": [
    "#hide\n",
    "t = everydaycases.stack()"
   ]
  },
  {
   "cell_type": "code",
   "execution_count": 22,
   "id": "premier-sleeve",
   "metadata": {
    "execution": {
     "iopub.execute_input": "2021-03-26T00:08:43.515738Z",
     "iopub.status.busy": "2021-03-26T00:08:43.514657Z",
     "iopub.status.idle": "2021-03-26T00:08:43.522790Z",
     "shell.execute_reply": "2021-03-26T00:08:43.522242Z"
    },
    "papermill": {
     "duration": 0.050013,
     "end_time": "2021-03-26T00:08:43.522924",
     "exception": false,
     "start_time": "2021-03-26T00:08:43.472911",
     "status": "completed"
    },
    "tags": []
   },
   "outputs": [],
   "source": [
    "#hide\n",
    "g = t.reset_index(['Country/Region'])"
   ]
  },
  {
   "cell_type": "code",
   "execution_count": 23,
   "id": "distributed-pittsburgh",
   "metadata": {
    "execution": {
     "iopub.execute_input": "2021-03-26T00:08:43.599759Z",
     "iopub.status.busy": "2021-03-26T00:08:43.598684Z",
     "iopub.status.idle": "2021-03-26T00:08:43.600866Z",
     "shell.execute_reply": "2021-03-26T00:08:43.601734Z"
    },
    "papermill": {
     "duration": 0.043853,
     "end_time": "2021-03-26T00:08:43.601987",
     "exception": false,
     "start_time": "2021-03-26T00:08:43.558134",
     "status": "completed"
    },
    "tags": []
   },
   "outputs": [],
   "source": [
    "#hide\n",
    "g.index.name = 'date'"
   ]
  },
  {
   "cell_type": "code",
   "execution_count": 24,
   "id": "naked-donor",
   "metadata": {
    "execution": {
     "iopub.execute_input": "2021-03-26T00:08:43.676361Z",
     "iopub.status.busy": "2021-03-26T00:08:43.675737Z",
     "iopub.status.idle": "2021-03-26T00:08:43.677998Z",
     "shell.execute_reply": "2021-03-26T00:08:43.677384Z"
    },
    "papermill": {
     "duration": 0.041062,
     "end_time": "2021-03-26T00:08:43.678132",
     "exception": false,
     "start_time": "2021-03-26T00:08:43.637070",
     "status": "completed"
    },
    "tags": []
   },
   "outputs": [],
   "source": [
    "# #hide\n",
    "# g = g.reset_index(['date'])"
   ]
  },
  {
   "cell_type": "code",
   "execution_count": 25,
   "id": "incomplete-mustang",
   "metadata": {
    "execution": {
     "iopub.execute_input": "2021-03-26T00:08:43.752760Z",
     "iopub.status.busy": "2021-03-26T00:08:43.752152Z",
     "iopub.status.idle": "2021-03-26T00:08:43.754745Z",
     "shell.execute_reply": "2021-03-26T00:08:43.754232Z"
    },
    "papermill": {
     "duration": 0.041676,
     "end_time": "2021-03-26T00:08:43.754888",
     "exception": false,
     "start_time": "2021-03-26T00:08:43.713212",
     "status": "completed"
    },
    "tags": []
   },
   "outputs": [],
   "source": [
    "#hide\n",
    "# g.head()"
   ]
  },
  {
   "cell_type": "code",
   "execution_count": 26,
   "id": "specific-kruger",
   "metadata": {
    "execution": {
     "iopub.execute_input": "2021-03-26T00:08:43.829951Z",
     "iopub.status.busy": "2021-03-26T00:08:43.829272Z",
     "iopub.status.idle": "2021-03-26T00:08:43.831856Z",
     "shell.execute_reply": "2021-03-26T00:08:43.832433Z"
    },
    "papermill": {
     "duration": 0.042864,
     "end_time": "2021-03-26T00:08:43.832597",
     "exception": false,
     "start_time": "2021-03-26T00:08:43.789733",
     "status": "completed"
    },
    "tags": []
   },
   "outputs": [],
   "source": [
    "#hide\n",
    "# g.columns = ['date','country','cases']"
   ]
  },
  {
   "cell_type": "code",
   "execution_count": 27,
   "id": "tender-conversion",
   "metadata": {
    "execution": {
     "iopub.execute_input": "2021-03-26T00:08:43.907731Z",
     "iopub.status.busy": "2021-03-26T00:08:43.907081Z",
     "iopub.status.idle": "2021-03-26T00:08:43.910016Z",
     "shell.execute_reply": "2021-03-26T00:08:43.909499Z"
    },
    "papermill": {
     "duration": 0.042761,
     "end_time": "2021-03-26T00:08:43.910161",
     "exception": false,
     "start_time": "2021-03-26T00:08:43.867400",
     "status": "completed"
    },
    "tags": []
   },
   "outputs": [],
   "source": [
    "#hide\n",
    "# g['continent'] = g.country"
   ]
  },
  {
   "cell_type": "code",
   "execution_count": 28,
   "id": "substantial-wilderness",
   "metadata": {
    "execution": {
     "iopub.execute_input": "2021-03-26T00:08:43.985275Z",
     "iopub.status.busy": "2021-03-26T00:08:43.984639Z",
     "iopub.status.idle": "2021-03-26T00:08:43.987133Z",
     "shell.execute_reply": "2021-03-26T00:08:43.987733Z"
    },
    "papermill": {
     "duration": 0.043132,
     "end_time": "2021-03-26T00:08:43.987898",
     "exception": false,
     "start_time": "2021-03-26T00:08:43.944766",
     "status": "completed"
    },
    "tags": []
   },
   "outputs": [],
   "source": [
    "#hide\n",
    "# cols = list(g.columns.values)"
   ]
  },
  {
   "cell_type": "code",
   "execution_count": 29,
   "id": "solved-farming",
   "metadata": {
    "execution": {
     "iopub.execute_input": "2021-03-26T00:08:44.065249Z",
     "iopub.status.busy": "2021-03-26T00:08:44.064123Z",
     "iopub.status.idle": "2021-03-26T00:08:44.066545Z",
     "shell.execute_reply": "2021-03-26T00:08:44.067418Z"
    },
    "papermill": {
     "duration": 0.044609,
     "end_time": "2021-03-26T00:08:44.067664",
     "exception": false,
     "start_time": "2021-03-26T00:08:44.023055",
     "status": "completed"
    },
    "tags": []
   },
   "outputs": [],
   "source": [
    "#hide\n",
    "# cols.insert(0, cols.pop())"
   ]
  },
  {
   "cell_type": "code",
   "execution_count": 30,
   "id": "executed-adoption",
   "metadata": {
    "execution": {
     "iopub.execute_input": "2021-03-26T00:08:44.151554Z",
     "iopub.status.busy": "2021-03-26T00:08:44.150850Z",
     "iopub.status.idle": "2021-03-26T00:08:44.153212Z",
     "shell.execute_reply": "2021-03-26T00:08:44.152605Z"
    },
    "papermill": {
     "duration": 0.041479,
     "end_time": "2021-03-26T00:08:44.153355",
     "exception": false,
     "start_time": "2021-03-26T00:08:44.111876",
     "status": "completed"
    },
    "tags": []
   },
   "outputs": [],
   "source": [
    "#hide\n",
    "# g = g[cols]"
   ]
  },
  {
   "cell_type": "code",
   "execution_count": 31,
   "id": "subject-dublin",
   "metadata": {
    "execution": {
     "iopub.execute_input": "2021-03-26T00:08:44.228771Z",
     "iopub.status.busy": "2021-03-26T00:08:44.228123Z",
     "iopub.status.idle": "2021-03-26T00:08:44.231391Z",
     "shell.execute_reply": "2021-03-26T00:08:44.230839Z"
    },
    "papermill": {
     "duration": 0.04256,
     "end_time": "2021-03-26T00:08:44.231559",
     "exception": false,
     "start_time": "2021-03-26T00:08:44.188999",
     "status": "completed"
    },
    "tags": []
   },
   "outputs": [],
   "source": [
    "#hide\n",
    "# g['continent'] = g['continent'].map(mapping['map.continent'])"
   ]
  },
  {
   "cell_type": "code",
   "execution_count": 32,
   "id": "freelance-scout",
   "metadata": {
    "execution": {
     "iopub.execute_input": "2021-03-26T00:08:44.304429Z",
     "iopub.status.busy": "2021-03-26T00:08:44.303822Z",
     "iopub.status.idle": "2021-03-26T00:08:44.306203Z",
     "shell.execute_reply": "2021-03-26T00:08:44.306794Z"
    },
    "papermill": {
     "duration": 0.041025,
     "end_time": "2021-03-26T00:08:44.306951",
     "exception": false,
     "start_time": "2021-03-26T00:08:44.265926",
     "status": "completed"
    },
    "tags": []
   },
   "outputs": [],
   "source": [
    "#hide\n",
    "# g.head()"
   ]
  },
  {
   "cell_type": "code",
   "execution_count": 33,
   "id": "limited-engine",
   "metadata": {
    "execution": {
     "iopub.execute_input": "2021-03-26T00:08:44.379815Z",
     "iopub.status.busy": "2021-03-26T00:08:44.379199Z",
     "iopub.status.idle": "2021-03-26T00:08:44.381800Z",
     "shell.execute_reply": "2021-03-26T00:08:44.382379Z"
    },
    "papermill": {
     "duration": 0.042142,
     "end_time": "2021-03-26T00:08:44.382535",
     "exception": false,
     "start_time": "2021-03-26T00:08:44.340393",
     "status": "completed"
    },
    "tags": []
   },
   "outputs": [],
   "source": [
    "# hide\n",
    "# g['date'] = g['date'].astype('datetime64[ns]')"
   ]
  },
  {
   "cell_type": "code",
   "execution_count": 34,
   "id": "sophisticated-supervisor",
   "metadata": {
    "execution": {
     "iopub.execute_input": "2021-03-26T00:08:44.522608Z",
     "iopub.status.busy": "2021-03-26T00:08:44.521551Z",
     "iopub.status.idle": "2021-03-26T00:08:44.523551Z",
     "shell.execute_reply": "2021-03-26T00:08:44.524009Z"
    },
    "papermill": {
     "duration": 0.107383,
     "end_time": "2021-03-26T00:08:44.524164",
     "exception": false,
     "start_time": "2021-03-26T00:08:44.416781",
     "status": "completed"
    },
    "tags": []
   },
   "outputs": [],
   "source": [
    "#hide\n",
    "# g['date'] = g.date.dt.dayofyear"
   ]
  },
  {
   "cell_type": "code",
   "execution_count": 35,
   "id": "inside-dubai",
   "metadata": {
    "execution": {
     "iopub.execute_input": "2021-03-26T00:08:44.613196Z",
     "iopub.status.busy": "2021-03-26T00:08:44.612516Z",
     "iopub.status.idle": "2021-03-26T00:08:44.620264Z",
     "shell.execute_reply": "2021-03-26T00:08:44.620791Z"
    },
    "papermill": {
     "duration": 0.059303,
     "end_time": "2021-03-26T00:08:44.620952",
     "exception": false,
     "start_time": "2021-03-26T00:08:44.561649",
     "status": "completed"
    },
    "tags": []
   },
   "outputs": [],
   "source": [
    "#hide\n",
    "# g = g.rename(columns= {'continent':'group','country':'name','cases':'value'})"
   ]
  },
  {
   "cell_type": "code",
   "execution_count": 36,
   "id": "fleet-motorcycle",
   "metadata": {
    "execution": {
     "iopub.execute_input": "2021-03-26T00:08:44.706545Z",
     "iopub.status.busy": "2021-03-26T00:08:44.705727Z",
     "iopub.status.idle": "2021-03-26T00:08:44.708544Z",
     "shell.execute_reply": "2021-03-26T00:08:44.709634Z"
    },
    "papermill": {
     "duration": 0.051264,
     "end_time": "2021-03-26T00:08:44.709802",
     "exception": false,
     "start_time": "2021-03-26T00:08:44.658538",
     "status": "completed"
    },
    "tags": []
   },
   "outputs": [],
   "source": [
    "#hide\n",
    "# cols = ['name','group','day','value']"
   ]
  },
  {
   "cell_type": "code",
   "execution_count": 37,
   "id": "continued-sleeping",
   "metadata": {
    "execution": {
     "iopub.execute_input": "2021-03-26T00:08:44.818952Z",
     "iopub.status.busy": "2021-03-26T00:08:44.818163Z",
     "iopub.status.idle": "2021-03-26T00:08:44.819984Z",
     "shell.execute_reply": "2021-03-26T00:08:44.819487Z"
    },
    "papermill": {
     "duration": 0.055704,
     "end_time": "2021-03-26T00:08:44.820114",
     "exception": false,
     "start_time": "2021-03-26T00:08:44.764410",
     "status": "completed"
    },
    "tags": []
   },
   "outputs": [],
   "source": [
    "#hide\n",
    "# g.rename(columns= {'date':'day'},inplace = True)"
   ]
  },
  {
   "cell_type": "code",
   "execution_count": 38,
   "id": "major-fight",
   "metadata": {
    "execution": {
     "iopub.execute_input": "2021-03-26T00:08:44.914167Z",
     "iopub.status.busy": "2021-03-26T00:08:44.913357Z",
     "iopub.status.idle": "2021-03-26T00:08:44.915193Z",
     "shell.execute_reply": "2021-03-26T00:08:44.914705Z"
    },
    "papermill": {
     "duration": 0.055389,
     "end_time": "2021-03-26T00:08:44.915322",
     "exception": false,
     "start_time": "2021-03-26T00:08:44.859933",
     "status": "completed"
    },
    "tags": []
   },
   "outputs": [],
   "source": [
    "#hide\n",
    "# g = g[cols]"
   ]
  },
  {
   "cell_type": "code",
   "execution_count": 39,
   "id": "structured-mobile",
   "metadata": {
    "execution": {
     "iopub.execute_input": "2021-03-26T00:08:45.107001Z",
     "iopub.status.busy": "2021-03-26T00:08:45.106313Z",
     "iopub.status.idle": "2021-03-26T00:08:45.109349Z",
     "shell.execute_reply": "2021-03-26T00:08:45.109878Z"
    },
    "papermill": {
     "duration": 0.046521,
     "end_time": "2021-03-26T00:08:45.110036",
     "exception": false,
     "start_time": "2021-03-26T00:08:45.063515",
     "status": "completed"
    },
    "tags": []
   },
   "outputs": [],
   "source": [
    "# #hide\n",
    "# g = g[g.group.notna()]"
   ]
  },
  {
   "cell_type": "code",
   "execution_count": 40,
   "id": "determined-closing",
   "metadata": {
    "execution": {
     "iopub.execute_input": "2021-03-26T00:08:45.194891Z",
     "iopub.status.busy": "2021-03-26T00:08:45.194235Z",
     "iopub.status.idle": "2021-03-26T00:08:45.196777Z",
     "shell.execute_reply": "2021-03-26T00:08:45.196157Z"
    },
    "papermill": {
     "duration": 0.051774,
     "end_time": "2021-03-26T00:08:45.196921",
     "exception": false,
     "start_time": "2021-03-26T00:08:45.145147",
     "status": "completed"
    },
    "tags": []
   },
   "outputs": [],
   "source": [
    "# #hide\n",
    "# colors = dict(zip(\n",
    "#     [\"Oceania\", \"Europe\", \"Asia\", \"South America\", \"Middle East\", \"North America\", \"Africa\"],\n",
    "#     [\"#adb0ff\", \"#ffb3ff\", \"#90d595\", \"#e48381\", \"#aafbff\", \"#f7bb5f\", \"#eafb50\"]\n",
    "# ))\n",
    "# group_lk = g.set_index('name')['group'].to_dict()"
   ]
  },
  {
   "cell_type": "code",
   "execution_count": null,
   "id": "gross-drinking",
   "metadata": {
    "papermill": {
     "duration": 0.037262,
     "end_time": "2021-03-26T00:08:45.270197",
     "exception": false,
     "start_time": "2021-03-26T00:08:45.232935",
     "status": "completed"
    },
    "tags": []
   },
   "outputs": [],
   "source": []
  },
  {
   "cell_type": "code",
   "execution_count": 41,
   "id": "subject-macintosh",
   "metadata": {
    "execution": {
     "iopub.execute_input": "2021-03-26T00:08:45.345310Z",
     "iopub.status.busy": "2021-03-26T00:08:45.344666Z",
     "iopub.status.idle": "2021-03-26T00:08:45.347162Z",
     "shell.execute_reply": "2021-03-26T00:08:45.346693Z"
    },
    "papermill": {
     "duration": 0.042561,
     "end_time": "2021-03-26T00:08:45.347297",
     "exception": false,
     "start_time": "2021-03-26T00:08:45.304736",
     "status": "completed"
    },
    "tags": []
   },
   "outputs": [],
   "source": [
    "# #hide\n",
    "# fig, ax = plt.subplots(figsize=(15, 8))\n",
    "\n",
    "# def draw_barchart(current_day):\n",
    "#     dff = g[g['day'].eq(current_day)].sort_values(by='value', ascending=True).tail(10)\n",
    "#     ax.clear()\n",
    "#     ax.barh(dff['name'], dff['value'], color=[colors[group_lk[x]] for x in dff['name']])\n",
    "#     dx = dff['value'].max() / 200\n",
    "    \n",
    "#     for i, (value, name) in enumerate(zip(dff['value'], dff['name'])):\n",
    "#         ax.text(value-dx, i,     name,           size=14, weight=600, ha='right', va='bottom')\n",
    "#         ax.text(value-dx, i-.25, group_lk[name], size=10, color='#444444', ha='right', va='baseline')\n",
    "#         ax.text(value+dx, i,     f'{value:,.0f}',  size=14, ha='left',  va='center')\n",
    "#     ax.text(1, 0.4, current_day, transform=ax.transAxes, color='#777777', size=46, ha='right', weight=800)\n",
    "#     ax.text(0, 1.06, 'Population (thousands)', transform=ax.transAxes, size=12, color='#777777')\n",
    "#     ax.xaxis.set_major_formatter(ticker.StrMethodFormatter('{x:,.0f}'))\n",
    "#     ax.xaxis.set_ticks_position('top')\n",
    "#     ax.tick_params(axis='x', colors='#777777', labelsize=12)\n",
    "#     ax.set_yticks([])\n",
    "#     ax.margins(0, 0.01)\n",
    "#     ax.grid(which='major', axis='x', linestyle='-')\n",
    "#     ax.set_axisbelow(True)\n",
    "    \n",
    "#     ax.text(0, 1.15, 'Coronavirus',\n",
    "#             transform=ax.transAxes, size=24, weight=600, ha='left', va='top')\n",
    "# #     ax.text(1, 0, 'by @pratapvardhan; credit @jburnmurdoch', transform=ax.transAxes, color='#777777', ha='right',\n",
    "# #             bbox=dict(facecolor='white', alpha=0.8, edgecolor='white'))\n",
    "#     plt.box(False)"
   ]
  },
  {
   "cell_type": "code",
   "execution_count": 42,
   "id": "sexual-wages",
   "metadata": {
    "execution": {
     "iopub.execute_input": "2021-03-26T00:08:45.423811Z",
     "iopub.status.busy": "2021-03-26T00:08:45.423244Z",
     "iopub.status.idle": "2021-03-26T00:08:45.425718Z",
     "shell.execute_reply": "2021-03-26T00:08:45.425228Z"
    },
    "papermill": {
     "duration": 0.044006,
     "end_time": "2021-03-26T00:08:45.425855",
     "exception": false,
     "start_time": "2021-03-26T00:08:45.381849",
     "status": "completed"
    },
    "tags": []
   },
   "outputs": [],
   "source": [
    "# #hide_input\n",
    "# fig, ax = plt.subplots(figsize=(15, 8))\n",
    "# animator = animation.FuncAnimation(fig, draw_barchart, frames=range(g.day.values.min(), g.day.values.max()))\n",
    "# HTML(animator.to_jshtml())\n",
    "# # or use animator.to_html5_video() or animator.save() "
   ]
  },
  {
   "cell_type": "code",
   "execution_count": null,
   "id": "australian-container",
   "metadata": {
    "papermill": {
     "duration": 0.034327,
     "end_time": "2021-03-26T00:08:45.494198",
     "exception": false,
     "start_time": "2021-03-26T00:08:45.459871",
     "status": "completed"
    },
    "tags": []
   },
   "outputs": [],
   "source": []
  },
  {
   "cell_type": "code",
   "execution_count": null,
   "id": "mediterranean-pontiac",
   "metadata": {
    "papermill": {
     "duration": 0.040546,
     "end_time": "2021-03-26T00:08:45.570323",
     "exception": false,
     "start_time": "2021-03-26T00:08:45.529777",
     "status": "completed"
    },
    "tags": []
   },
   "outputs": [],
   "source": []
  },
  {
   "cell_type": "code",
   "execution_count": null,
   "id": "aging-legislature",
   "metadata": {
    "papermill": {
     "duration": 0.040125,
     "end_time": "2021-03-26T00:08:45.650980",
     "exception": false,
     "start_time": "2021-03-26T00:08:45.610855",
     "status": "completed"
    },
    "tags": []
   },
   "outputs": [],
   "source": []
  }
 ],
 "metadata": {
  "kernelspec": {
   "display_name": "Python 3",
   "language": "python",
   "name": "python3"
  },
  "language_info": {
   "codemirror_mode": {
    "name": "ipython",
    "version": 3
   },
   "file_extension": ".py",
   "mimetype": "text/x-python",
   "name": "python",
   "nbconvert_exporter": "python",
   "pygments_lexer": "ipython3",
   "version": "3.6.13"
  },
  "papermill": {
   "duration": 8.324519,
   "end_time": "2021-03-26T00:08:46.097114",
   "environment_variables": {},
   "exception": null,
   "input_path": "2020-03-21-covid19exp.ipynb",
   "output_path": "2020-03-21-covid19exp.ipynb",
   "parameters": {},
   "start_time": "2021-03-26T00:08:37.772595",
   "version": "2.0.0"
  }
 },
 "nbformat": 4,
 "nbformat_minor": 5
}