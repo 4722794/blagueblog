{
 "cells": [
  {
   "cell_type": "markdown",
   "id": "muslim-click",
   "metadata": {
    "papermill": {
     "duration": 0.045422,
     "end_time": "2022-12-03T12:15:15.604354",
     "exception": false,
     "start_time": "2022-12-03T12:15:15.558932",
     "status": "completed"
    },
    "tags": []
   },
   "source": [
    "# COVID-19 Case Race\n",
    "> A race chart to see rising cases around the world\n",
    "\n",
    "- author: Hargun Oberoi\n",
    "- image: images/covid-overview.png\n",
    "- hide: false\n",
    "- badges: false"
   ]
  },
  {
   "cell_type": "code",
   "execution_count": 1,
   "id": "proof-material",
   "metadata": {
    "execution": {
     "iopub.execute_input": "2022-12-03T12:15:15.698094Z",
     "iopub.status.busy": "2022-12-03T12:15:15.697197Z",
     "iopub.status.idle": "2022-12-03T12:15:16.159813Z",
     "shell.execute_reply": "2022-12-03T12:15:16.159174Z"
    },
    "papermill": {
     "duration": 0.514273,
     "end_time": "2022-12-03T12:15:16.159983",
     "exception": false,
     "start_time": "2022-12-03T12:15:15.645710",
     "status": "completed"
    },
    "tags": []
   },
   "outputs": [],
   "source": [
    "#hide\n",
    "import numpy as np\n",
    "import pandas as pd\n",
    "from jinja2 import Template\n",
    "from IPython.display import HTML"
   ]
  },
  {
   "cell_type": "code",
   "execution_count": 2,
   "id": "developed-terminology",
   "metadata": {
    "execution": {
     "iopub.execute_input": "2022-12-03T12:15:16.256292Z",
     "iopub.status.busy": "2022-12-03T12:15:16.255321Z",
     "iopub.status.idle": "2022-12-03T12:15:16.257570Z",
     "shell.execute_reply": "2022-12-03T12:15:16.258337Z"
    },
    "papermill": {
     "duration": 0.050513,
     "end_time": "2022-12-03T12:15:16.258525",
     "exception": false,
     "start_time": "2022-12-03T12:15:16.208012",
     "status": "completed"
    },
    "tags": []
   },
   "outputs": [],
   "source": [
    "#hide\n",
    "\n",
    "# FETCH\n",
    "base_url = 'https://raw.githubusercontent.com/pratapvardhan/notebooks/master/covid19/'\n",
    "paths = {\n",
    "    'mapping': base_url + 'mapping_countries.csv',\n",
    "    'overview': base_url + 'overview.tpl'\n",
    "}"
   ]
  },
  {
   "cell_type": "code",
   "execution_count": 3,
   "id": "dynamic-saver",
   "metadata": {
    "execution": {
     "iopub.execute_input": "2022-12-03T12:15:16.364915Z",
     "iopub.status.busy": "2022-12-03T12:15:16.364142Z",
     "iopub.status.idle": "2022-12-03T12:15:16.367654Z",
     "shell.execute_reply": "2022-12-03T12:15:16.368373Z"
    },
    "papermill": {
     "duration": 0.065263,
     "end_time": "2022-12-03T12:15:16.368539",
     "exception": false,
     "start_time": "2022-12-03T12:15:16.303276",
     "status": "completed"
    },
    "tags": []
   },
   "outputs": [
    {
     "data": {
      "text/plain": [
       "'https://raw.githubusercontent.com/pratapvardhan/notebooks/master/covid19/mapping_countries.csv'"
      ]
     },
     "execution_count": 3,
     "metadata": {},
     "output_type": "execute_result"
    }
   ],
   "source": [
    "#hide\n",
    "paths['mapping']"
   ]
  },
  {
   "cell_type": "code",
   "execution_count": 4,
   "id": "urban-software",
   "metadata": {
    "execution": {
     "iopub.execute_input": "2022-12-03T12:15:16.460233Z",
     "iopub.status.busy": "2022-12-03T12:15:16.459459Z",
     "iopub.status.idle": "2022-12-03T12:15:16.465171Z",
     "shell.execute_reply": "2022-12-03T12:15:16.466256Z"
    },
    "papermill": {
     "duration": 0.05232,
     "end_time": "2022-12-03T12:15:16.466462",
     "exception": false,
     "start_time": "2022-12-03T12:15:16.414142",
     "status": "completed"
    },
    "tags": []
   },
   "outputs": [],
   "source": [
    "#hide\n",
    "def get_mappings(url):\n",
    "    df = pd.read_csv(url)\n",
    "    return {\n",
    "        'df': df,\n",
    "        'replace.country': dict(df.dropna(subset=['Name']).set_index('Country')['Name']),\n",
    "        'map.continent': dict(df.set_index('Name')['Continent'])\n",
    "    }"
   ]
  },
  {
   "cell_type": "code",
   "execution_count": 5,
   "id": "intimate-machinery",
   "metadata": {
    "execution": {
     "iopub.execute_input": "2022-12-03T12:15:16.588475Z",
     "iopub.status.busy": "2022-12-03T12:15:16.587261Z",
     "iopub.status.idle": "2022-12-03T12:15:16.631806Z",
     "shell.execute_reply": "2022-12-03T12:15:16.630739Z"
    },
    "papermill": {
     "duration": 0.111502,
     "end_time": "2022-12-03T12:15:16.631985",
     "exception": false,
     "start_time": "2022-12-03T12:15:16.520483",
     "status": "completed"
    },
    "tags": []
   },
   "outputs": [],
   "source": [
    "#hide\n",
    "mapping = get_mappings(paths['mapping'])"
   ]
  },
  {
   "cell_type": "code",
   "execution_count": 6,
   "id": "certified-tactics",
   "metadata": {
    "execution": {
     "iopub.execute_input": "2022-12-03T12:15:16.727114Z",
     "iopub.status.busy": "2022-12-03T12:15:16.726264Z",
     "iopub.status.idle": "2022-12-03T12:15:16.731748Z",
     "shell.execute_reply": "2022-12-03T12:15:16.732378Z"
    },
    "papermill": {
     "duration": 0.056996,
     "end_time": "2022-12-03T12:15:16.732556",
     "exception": false,
     "start_time": "2022-12-03T12:15:16.675560",
     "status": "completed"
    },
    "tags": []
   },
   "outputs": [],
   "source": [
    "#hide\n",
    "def get_template(path):\n",
    "    from urllib.parse import urlparse\n",
    "    if bool(urlparse(path).netloc):\n",
    "        from urllib.request import urlopen\n",
    "        return urlopen(path).read().decode('utf8')\n",
    "    return open(path).read()"
   ]
  },
  {
   "cell_type": "code",
   "execution_count": 7,
   "id": "realistic-blast",
   "metadata": {
    "execution": {
     "iopub.execute_input": "2022-12-03T12:15:16.827146Z",
     "iopub.status.busy": "2022-12-03T12:15:16.826342Z",
     "iopub.status.idle": "2022-12-03T12:15:16.829418Z",
     "shell.execute_reply": "2022-12-03T12:15:16.828673Z"
    },
    "papermill": {
     "duration": 0.054748,
     "end_time": "2022-12-03T12:15:16.829557",
     "exception": false,
     "start_time": "2022-12-03T12:15:16.774809",
     "status": "completed"
    },
    "tags": []
   },
   "outputs": [],
   "source": [
    "#hide\n",
    "def get_frame(name):\n",
    "    url = (\n",
    "        'https://raw.githubusercontent.com/CSSEGISandData/COVID-19/master/csse_covid_19_data/'\n",
    "        f'csse_covid_19_time_series/time_series_covid19_{name}_global.csv')\n",
    "    df = pd.read_csv(url)\n",
    "    # rename countries\n",
    "    df['Country/Region'] = df['Country/Region'].replace(mapping['replace.country'])\n",
    "    return df"
   ]
  },
  {
   "cell_type": "code",
   "execution_count": 8,
   "id": "affiliated-characterization",
   "metadata": {
    "execution": {
     "iopub.execute_input": "2022-12-03T12:15:16.920912Z",
     "iopub.status.busy": "2022-12-03T12:15:16.920072Z",
     "iopub.status.idle": "2022-12-03T12:15:16.925040Z",
     "shell.execute_reply": "2022-12-03T12:15:16.925755Z"
    },
    "papermill": {
     "duration": 0.054446,
     "end_time": "2022-12-03T12:15:16.925963",
     "exception": false,
     "start_time": "2022-12-03T12:15:16.871517",
     "status": "completed"
    },
    "tags": []
   },
   "outputs": [],
   "source": [
    "#hide\n",
    "def get_dates(df):\n",
    "    dt_cols = df.columns[~df.columns.isin(['Province/State', 'Country/Region', 'Lat', 'Long'])]\n",
    "    LAST_DATE_I = -1\n",
    "    # sometimes last column may be empty, then go backwards\n",
    "    for i in range(-1, -len(dt_cols), -1):\n",
    "        if not df[dt_cols[i]].fillna(0).eq(0).all():\n",
    "            LAST_DATE_I = i\n",
    "            break\n",
    "    return LAST_DATE_I, dt_cols"
   ]
  },
  {
   "cell_type": "code",
   "execution_count": 9,
   "id": "recent-optimization",
   "metadata": {
    "execution": {
     "iopub.execute_input": "2022-12-03T12:15:17.027848Z",
     "iopub.status.busy": "2022-12-03T12:15:17.026823Z",
     "iopub.status.idle": "2022-12-03T12:15:17.634423Z",
     "shell.execute_reply": "2022-12-03T12:15:17.633658Z"
    },
    "papermill": {
     "duration": 0.662759,
     "end_time": "2022-12-03T12:15:17.634585",
     "exception": false,
     "start_time": "2022-12-03T12:15:16.971826",
     "status": "completed"
    },
    "tags": []
   },
   "outputs": [],
   "source": [
    "#hide\n",
    "COL_REGION = 'Country/Region'\n",
    "# Confirmed, Recovered, Deaths\n",
    "df = get_frame('confirmed')\n",
    "# dft_: timeseries, dfc_: today country agg\n",
    "dft_cases = df\n",
    "dft_deaths = get_frame('deaths')\n",
    "dft_recovered = get_frame('recovered')\n",
    "LAST_DATE_I, dt_cols = get_dates(df)"
   ]
  },
  {
   "cell_type": "code",
   "execution_count": 10,
   "id": "absolute-copper",
   "metadata": {
    "execution": {
     "iopub.execute_input": "2022-12-03T12:15:17.726949Z",
     "iopub.status.busy": "2022-12-03T12:15:17.726154Z",
     "iopub.status.idle": "2022-12-03T12:15:17.731249Z",
     "shell.execute_reply": "2022-12-03T12:15:17.730601Z"
    },
    "papermill": {
     "duration": 0.0528,
     "end_time": "2022-12-03T12:15:17.731389",
     "exception": false,
     "start_time": "2022-12-03T12:15:17.678589",
     "status": "completed"
    },
    "tags": []
   },
   "outputs": [],
   "source": [
    "#hide\n",
    "LAST_DATE_I, dt_cols = get_dates(df)\n",
    "dt_today =dt_cols[LAST_DATE_I]\n",
    "# dt_5day = dt_cols[LAST_DATE_I - 5]\n",
    "dt_yday = dt_cols[LAST_DATE_I - 1]"
   ]
  },
  {
   "cell_type": "code",
   "execution_count": 11,
   "id": "restricted-sheriff",
   "metadata": {
    "execution": {
     "iopub.execute_input": "2022-12-03T12:15:17.840046Z",
     "iopub.status.busy": "2022-12-03T12:15:17.839031Z",
     "iopub.status.idle": "2022-12-03T12:15:17.847546Z",
     "shell.execute_reply": "2022-12-03T12:15:17.846866Z"
    },
    "papermill": {
     "duration": 0.071448,
     "end_time": "2022-12-03T12:15:17.847695",
     "exception": false,
     "start_time": "2022-12-03T12:15:17.776247",
     "status": "completed"
    },
    "tags": []
   },
   "outputs": [],
   "source": [
    "#hide\n",
    "dfc_cases = dft_cases.groupby(COL_REGION)[dt_today].sum()\n",
    "dfc_deaths = dft_deaths.groupby(COL_REGION)[dt_today].sum()\n",
    "# dfp_cases = dft_cases.groupby(COL_REGION)[dt_5day].sum()\n",
    "# dfp_deaths = dft_deaths.groupby(COL_REGION)[dt_5day].sum()\n",
    "dfp_cases = dft_cases.groupby(COL_REGION)[dt_yday].sum()\n",
    "dfp_deaths = dft_deaths.groupby(COL_REGION)[dt_yday].sum()"
   ]
  },
  {
   "cell_type": "code",
   "execution_count": 12,
   "id": "deluxe-hepatitis",
   "metadata": {
    "execution": {
     "iopub.execute_input": "2022-12-03T12:15:17.942957Z",
     "iopub.status.busy": "2022-12-03T12:15:17.941584Z",
     "iopub.status.idle": "2022-12-03T12:15:17.947910Z",
     "shell.execute_reply": "2022-12-03T12:15:17.948834Z"
    },
    "papermill": {
     "duration": 0.058405,
     "end_time": "2022-12-03T12:15:17.949110",
     "exception": false,
     "start_time": "2022-12-03T12:15:17.890705",
     "status": "completed"
    },
    "tags": []
   },
   "outputs": [],
   "source": [
    "#hide\n",
    "df_table = (pd.DataFrame(dict(Cases = dfc_cases, Deaths = dfc_deaths, PCases = dfp_cases, PDeaths = dfp_deaths))\n",
    "            .sort_values(by = ['Cases','Deaths'], ascending = [False, False])\n",
    "            .reset_index())"
   ]
  },
  {
   "cell_type": "code",
   "execution_count": 13,
   "id": "educational-chancellor",
   "metadata": {
    "execution": {
     "iopub.execute_input": "2022-12-03T12:15:18.068645Z",
     "iopub.status.busy": "2022-12-03T12:15:18.067471Z",
     "iopub.status.idle": "2022-12-03T12:15:18.082599Z",
     "shell.execute_reply": "2022-12-03T12:15:18.083400Z"
    },
    "papermill": {
     "duration": 0.091481,
     "end_time": "2022-12-03T12:15:18.083585",
     "exception": false,
     "start_time": "2022-12-03T12:15:17.992104",
     "status": "completed"
    },
    "tags": []
   },
   "outputs": [
    {
     "data": {
      "text/html": [
       "<div>\n",
       "<style scoped>\n",
       "    .dataframe tbody tr th:only-of-type {\n",
       "        vertical-align: middle;\n",
       "    }\n",
       "\n",
       "    .dataframe tbody tr th {\n",
       "        vertical-align: top;\n",
       "    }\n",
       "\n",
       "    .dataframe thead th {\n",
       "        text-align: right;\n",
       "    }\n",
       "</style>\n",
       "<table border=\"1\" class=\"dataframe\">\n",
       "  <thead>\n",
       "    <tr style=\"text-align: right;\">\n",
       "      <th></th>\n",
       "      <th>Country/Region</th>\n",
       "      <th>Cases</th>\n",
       "      <th>Deaths</th>\n",
       "      <th>PCases</th>\n",
       "      <th>PDeaths</th>\n",
       "      <th>Cases (+)</th>\n",
       "      <th>Deaths (+)</th>\n",
       "      <th>Fatality Rate</th>\n",
       "      <th>Continent</th>\n",
       "    </tr>\n",
       "  </thead>\n",
       "  <tbody>\n",
       "    <tr>\n",
       "      <th>0</th>\n",
       "      <td>US</td>\n",
       "      <td>98962019</td>\n",
       "      <td>1081412</td>\n",
       "      <td>98924207</td>\n",
       "      <td>1081147</td>\n",
       "      <td>37812</td>\n",
       "      <td>265</td>\n",
       "      <td>1.09</td>\n",
       "      <td>North America</td>\n",
       "    </tr>\n",
       "    <tr>\n",
       "      <th>1</th>\n",
       "      <td>India</td>\n",
       "      <td>44674390</td>\n",
       "      <td>530627</td>\n",
       "      <td>44674138</td>\n",
       "      <td>530624</td>\n",
       "      <td>252</td>\n",
       "      <td>3</td>\n",
       "      <td>1.19</td>\n",
       "      <td>Asia</td>\n",
       "    </tr>\n",
       "    <tr>\n",
       "      <th>2</th>\n",
       "      <td>France</td>\n",
       "      <td>38174893</td>\n",
       "      <td>160133</td>\n",
       "      <td>38115885</td>\n",
       "      <td>160066</td>\n",
       "      <td>59008</td>\n",
       "      <td>67</td>\n",
       "      <td>0.42</td>\n",
       "      <td>Europe</td>\n",
       "    </tr>\n",
       "    <tr>\n",
       "      <th>3</th>\n",
       "      <td>Germany</td>\n",
       "      <td>36557861</td>\n",
       "      <td>158198</td>\n",
       "      <td>36530020</td>\n",
       "      <td>158109</td>\n",
       "      <td>27841</td>\n",
       "      <td>89</td>\n",
       "      <td>0.43</td>\n",
       "      <td>Europe</td>\n",
       "    </tr>\n",
       "    <tr>\n",
       "      <th>4</th>\n",
       "      <td>Brazil</td>\n",
       "      <td>35337546</td>\n",
       "      <td>690074</td>\n",
       "      <td>35302137</td>\n",
       "      <td>689945</td>\n",
       "      <td>35409</td>\n",
       "      <td>129</td>\n",
       "      <td>1.95</td>\n",
       "      <td>South America</td>\n",
       "    </tr>\n",
       "  </tbody>\n",
       "</table>\n",
       "</div>"
      ],
      "text/plain": [
       "  Country/Region     Cases   Deaths    PCases  PDeaths  Cases (+)  Deaths (+)  \\\n",
       "0             US  98962019  1081412  98924207  1081147      37812         265   \n",
       "1          India  44674390   530627  44674138   530624        252           3   \n",
       "2         France  38174893   160133  38115885   160066      59008          67   \n",
       "3        Germany  36557861   158198  36530020   158109      27841          89   \n",
       "4         Brazil  35337546   690074  35302137   689945      35409         129   \n",
       "\n",
       "   Fatality Rate      Continent  \n",
       "0           1.09  North America  \n",
       "1           1.19           Asia  \n",
       "2           0.42         Europe  \n",
       "3           0.43         Europe  \n",
       "4           1.95  South America  "
      ]
     },
     "execution_count": 13,
     "metadata": {},
     "output_type": "execute_result"
    }
   ],
   "source": [
    "#hide\n",
    "for c in 'Cases, Deaths'.split(', '):\n",
    "    df_table[f'{c} (+)'] = (df_table[c] - df_table[f'P{c}']).clip(0)\n",
    "    #Clip ça veut dire, les chiffres negatif sont interdit\n",
    "df_table['Fatality Rate'] = (100* df_table['Deaths']/ df_table['Cases']).round(2)\n",
    "df_table['Continent'] = df_table['Country/Region'].map(mapping['map.continent'])\n",
    "df_table.head(5)"
   ]
  },
  {
   "cell_type": "code",
   "execution_count": 14,
   "id": "aboriginal-bulgaria",
   "metadata": {
    "execution": {
     "iopub.execute_input": "2022-12-03T12:15:18.180592Z",
     "iopub.status.busy": "2022-12-03T12:15:18.179731Z",
     "iopub.status.idle": "2022-12-03T12:15:18.182291Z",
     "shell.execute_reply": "2022-12-03T12:15:18.183025Z"
    },
    "papermill": {
     "duration": 0.05665,
     "end_time": "2022-12-03T12:15:18.183329",
     "exception": false,
     "start_time": "2022-12-03T12:15:18.126679",
     "status": "completed"
    },
    "tags": []
   },
   "outputs": [],
   "source": [
    "#hide\n",
    "#delete problematic countries from table\n",
    "df_table = df_table[~df_table['Country/Region'].isin(['Cape Verde', 'Cruise Ship', 'Kosovo'])]"
   ]
  },
  {
   "cell_type": "code",
   "execution_count": 15,
   "id": "fantastic-effect",
   "metadata": {
    "execution": {
     "iopub.execute_input": "2022-12-03T12:15:18.291984Z",
     "iopub.status.busy": "2022-12-03T12:15:18.288470Z",
     "iopub.status.idle": "2022-12-03T12:15:18.316341Z",
     "shell.execute_reply": "2022-12-03T12:15:18.317027Z"
    },
    "papermill": {
     "duration": 0.084044,
     "end_time": "2022-12-03T12:15:18.317209",
     "exception": false,
     "start_time": "2022-12-03T12:15:18.233165",
     "status": "completed"
    },
    "tags": []
   },
   "outputs": [
    {
     "data": {
      "text/html": [
       "<div>\n",
       "<style scoped>\n",
       "    .dataframe tbody tr th:only-of-type {\n",
       "        vertical-align: middle;\n",
       "    }\n",
       "\n",
       "    .dataframe tbody tr th {\n",
       "        vertical-align: top;\n",
       "    }\n",
       "\n",
       "    .dataframe thead th {\n",
       "        text-align: right;\n",
       "    }\n",
       "</style>\n",
       "<table border=\"1\" class=\"dataframe\">\n",
       "  <thead>\n",
       "    <tr style=\"text-align: right;\">\n",
       "      <th></th>\n",
       "      <th>Country/Region</th>\n",
       "      <th>Cases</th>\n",
       "      <th>Deaths</th>\n",
       "      <th>PCases</th>\n",
       "      <th>PDeaths</th>\n",
       "      <th>Cases (+)</th>\n",
       "      <th>Deaths (+)</th>\n",
       "      <th>Fatality Rate</th>\n",
       "      <th>Continent</th>\n",
       "    </tr>\n",
       "  </thead>\n",
       "  <tbody>\n",
       "    <tr>\n",
       "      <th>0</th>\n",
       "      <td>US</td>\n",
       "      <td>98962019</td>\n",
       "      <td>1081412</td>\n",
       "      <td>98924207</td>\n",
       "      <td>1081147</td>\n",
       "      <td>37812</td>\n",
       "      <td>265</td>\n",
       "      <td>1.1</td>\n",
       "      <td>North America</td>\n",
       "    </tr>\n",
       "    <tr>\n",
       "      <th>1</th>\n",
       "      <td>India</td>\n",
       "      <td>44674390</td>\n",
       "      <td>530627</td>\n",
       "      <td>44674138</td>\n",
       "      <td>530624</td>\n",
       "      <td>252</td>\n",
       "      <td>3</td>\n",
       "      <td>1.2</td>\n",
       "      <td>Asia</td>\n",
       "    </tr>\n",
       "    <tr>\n",
       "      <th>2</th>\n",
       "      <td>France</td>\n",
       "      <td>38174893</td>\n",
       "      <td>160133</td>\n",
       "      <td>38115885</td>\n",
       "      <td>160066</td>\n",
       "      <td>59008</td>\n",
       "      <td>67</td>\n",
       "      <td>0.4</td>\n",
       "      <td>Europe</td>\n",
       "    </tr>\n",
       "    <tr>\n",
       "      <th>3</th>\n",
       "      <td>Germany</td>\n",
       "      <td>36557861</td>\n",
       "      <td>158198</td>\n",
       "      <td>36530020</td>\n",
       "      <td>158109</td>\n",
       "      <td>27841</td>\n",
       "      <td>89</td>\n",
       "      <td>0.4</td>\n",
       "      <td>Europe</td>\n",
       "    </tr>\n",
       "    <tr>\n",
       "      <th>4</th>\n",
       "      <td>Brazil</td>\n",
       "      <td>35337546</td>\n",
       "      <td>690074</td>\n",
       "      <td>35302137</td>\n",
       "      <td>689945</td>\n",
       "      <td>35409</td>\n",
       "      <td>129</td>\n",
       "      <td>2.0</td>\n",
       "      <td>South America</td>\n",
       "    </tr>\n",
       "  </tbody>\n",
       "</table>\n",
       "</div>"
      ],
      "text/plain": [
       "  Country/Region     Cases   Deaths    PCases  PDeaths  Cases (+)  Deaths (+)  \\\n",
       "0             US  98962019  1081412  98924207  1081147      37812         265   \n",
       "1          India  44674390   530627  44674138   530624        252           3   \n",
       "2         France  38174893   160133  38115885   160066      59008          67   \n",
       "3        Germany  36557861   158198  36530020   158109      27841          89   \n",
       "4         Brazil  35337546   690074  35302137   689945      35409         129   \n",
       "\n",
       "   Fatality Rate      Continent  \n",
       "0            1.1  North America  \n",
       "1            1.2           Asia  \n",
       "2            0.4         Europe  \n",
       "3            0.4         Europe  \n",
       "4            2.0  South America  "
      ]
     },
     "execution_count": 15,
     "metadata": {},
     "output_type": "execute_result"
    }
   ],
   "source": [
    "#hide\n",
    "df_table = (pd.DataFrame(dict(Cases=dfc_cases, Deaths=dfc_deaths, PCases=dfp_cases, PDeaths=dfp_deaths))\n",
    "             .sort_values(by=['Cases', 'Deaths'], ascending=[False, False])\n",
    "             .reset_index())\n",
    "df_table.rename(columns={'index': 'Country/Region'}, inplace=True)\n",
    "for c in 'Cases, Deaths'.split(', '):\n",
    "    df_table[f'{c} (+)'] = (df_table[c] - df_table[f'P{c}']).clip(0)  # DATA BUG\n",
    "df_table['Fatality Rate'] = (100 * df_table['Deaths'] / df_table['Cases']).round(1)\n",
    "df_table['Continent'] = df_table['Country/Region'].map(mapping['map.continent'])\n",
    "df_table.head(5)"
   ]
  },
  {
   "cell_type": "code",
   "execution_count": 16,
   "id": "fewer-occasion",
   "metadata": {
    "execution": {
     "iopub.execute_input": "2022-12-03T12:15:18.406806Z",
     "iopub.status.busy": "2022-12-03T12:15:18.406003Z",
     "iopub.status.idle": "2022-12-03T12:15:18.413566Z",
     "shell.execute_reply": "2022-12-03T12:15:18.414315Z"
    },
    "papermill": {
     "duration": 0.055491,
     "end_time": "2022-12-03T12:15:18.414497",
     "exception": false,
     "start_time": "2022-12-03T12:15:18.359006",
     "status": "completed"
    },
    "tags": []
   },
   "outputs": [],
   "source": [
    "#hide\n",
    "#delete problematic countries from table\n",
    "df_table = df_table[~df_table['Country/Region'].isin(['Cape Verde', 'Cruise Ship', 'Kosovo'])]"
   ]
  },
  {
   "cell_type": "code",
   "execution_count": 17,
   "id": "related-center",
   "metadata": {
    "execution": {
     "iopub.execute_input": "2022-12-03T12:15:18.530996Z",
     "iopub.status.busy": "2022-12-03T12:15:18.530050Z",
     "iopub.status.idle": "2022-12-03T12:15:18.532159Z",
     "shell.execute_reply": "2022-12-03T12:15:18.532950Z"
    },
    "papermill": {
     "duration": 0.073618,
     "end_time": "2022-12-03T12:15:18.533282",
     "exception": false,
     "start_time": "2022-12-03T12:15:18.459664",
     "status": "completed"
    },
    "tags": []
   },
   "outputs": [],
   "source": [
    "#hide\n",
    "metrics = [df_table.columns[index] for index in [1,2,5,6]]\n",
    "# s_china = df_table[df_table['Country/Region'].eq('China')][metrics].sum().add_prefix('China ')\n",
    "s_us = df_table[df_table['Country/Region'].eq('US')][metrics].sum().add_prefix('US ')\n",
    "s_eu = df_table[df_table['Continent'].eq('Europe')][metrics].sum().add_prefix('EU ')\n",
    "s_ind = df_table[df_table['Country/Region'].eq('India')][metrics].sum().add_prefix('India ')\n",
    "summary = {'updated': pd.to_datetime(dt_today), 'since': pd.to_datetime(dt_yday)}\n",
    "summary = {'updated': pd.to_datetime(dt_today), 'since': pd.to_datetime(dt_yday)}\n",
    "summary = {**summary, **df_table[metrics].sum(), **s_ind, **s_us, **s_eu}"
   ]
  },
  {
   "cell_type": "code",
   "execution_count": 18,
   "id": "engaging-syndrome",
   "metadata": {
    "execution": {
     "iopub.execute_input": "2022-12-03T12:15:18.633681Z",
     "iopub.status.busy": "2022-12-03T12:15:18.632389Z",
     "iopub.status.idle": "2022-12-03T12:15:18.659317Z",
     "shell.execute_reply": "2022-12-03T12:15:18.658664Z"
    },
    "papermill": {
     "duration": 0.076251,
     "end_time": "2022-12-03T12:15:18.659468",
     "exception": false,
     "start_time": "2022-12-03T12:15:18.583217",
     "status": "completed"
    },
    "tags": []
   },
   "outputs": [],
   "source": [
    "#hide\n",
    "dft_ct_new_cases = dft_cases.groupby(COL_REGION)[dt_cols].sum().diff(axis=1).fillna(0).astype(int)"
   ]
  },
  {
   "cell_type": "code",
   "execution_count": 19,
   "id": "neutral-assignment",
   "metadata": {
    "execution": {
     "iopub.execute_input": "2022-12-03T12:15:18.762137Z",
     "iopub.status.busy": "2022-12-03T12:15:18.760122Z",
     "iopub.status.idle": "2022-12-03T12:15:18.763703Z",
     "shell.execute_reply": "2022-12-03T12:15:18.767450Z"
    },
    "papermill": {
     "duration": 0.062049,
     "end_time": "2022-12-03T12:15:18.767633",
     "exception": false,
     "start_time": "2022-12-03T12:15:18.705584",
     "status": "completed"
    },
    "tags": []
   },
   "outputs": [],
   "source": [
    "#hide\n",
    "everydaycases = dft_ct_new_cases.cumsum(axis=1)"
   ]
  },
  {
   "cell_type": "code",
   "execution_count": 20,
   "id": "parliamentary-calgary",
   "metadata": {
    "execution": {
     "iopub.execute_input": "2022-12-03T12:15:18.868821Z",
     "iopub.status.busy": "2022-12-03T12:15:18.867739Z",
     "iopub.status.idle": "2022-12-03T12:15:19.704991Z",
     "shell.execute_reply": "2022-12-03T12:15:19.705694Z"
    },
    "papermill": {
     "duration": 0.891386,
     "end_time": "2022-12-03T12:15:19.705883",
     "exception": false,
     "start_time": "2022-12-03T12:15:18.814497",
     "status": "completed"
    },
    "tags": []
   },
   "outputs": [],
   "source": [
    "#hide\n",
    "import pandas as pd\n",
    "import matplotlib.pyplot as plt\n",
    "import matplotlib.ticker as ticker\n",
    "import matplotlib.animation as animation\n",
    "from IPython.display import HTML"
   ]
  },
  {
   "cell_type": "code",
   "execution_count": 21,
   "id": "lasting-extraction",
   "metadata": {
    "execution": {
     "iopub.execute_input": "2022-12-03T12:15:19.805733Z",
     "iopub.status.busy": "2022-12-03T12:15:19.804672Z",
     "iopub.status.idle": "2022-12-03T12:15:19.816625Z",
     "shell.execute_reply": "2022-12-03T12:15:19.817289Z"
    },
    "papermill": {
     "duration": 0.068538,
     "end_time": "2022-12-03T12:15:19.817475",
     "exception": false,
     "start_time": "2022-12-03T12:15:19.748937",
     "status": "completed"
    },
    "tags": []
   },
   "outputs": [],
   "source": [
    "#hide\n",
    "t = everydaycases.stack()"
   ]
  },
  {
   "cell_type": "code",
   "execution_count": 22,
   "id": "premier-sleeve",
   "metadata": {
    "execution": {
     "iopub.execute_input": "2022-12-03T12:15:19.915376Z",
     "iopub.status.busy": "2022-12-03T12:15:19.914512Z",
     "iopub.status.idle": "2022-12-03T12:15:19.930651Z",
     "shell.execute_reply": "2022-12-03T12:15:19.931491Z"
    },
    "papermill": {
     "duration": 0.067379,
     "end_time": "2022-12-03T12:15:19.931718",
     "exception": false,
     "start_time": "2022-12-03T12:15:19.864339",
     "status": "completed"
    },
    "tags": []
   },
   "outputs": [],
   "source": [
    "#hide\n",
    "g = t.reset_index(['Country/Region'])"
   ]
  },
  {
   "cell_type": "code",
   "execution_count": 23,
   "id": "distributed-pittsburgh",
   "metadata": {
    "execution": {
     "iopub.execute_input": "2022-12-03T12:15:20.032322Z",
     "iopub.status.busy": "2022-12-03T12:15:20.031231Z",
     "iopub.status.idle": "2022-12-03T12:15:20.037632Z",
     "shell.execute_reply": "2022-12-03T12:15:20.038789Z"
    },
    "papermill": {
     "duration": 0.057503,
     "end_time": "2022-12-03T12:15:20.039051",
     "exception": false,
     "start_time": "2022-12-03T12:15:19.981548",
     "status": "completed"
    },
    "tags": []
   },
   "outputs": [],
   "source": [
    "#hide\n",
    "g.index.name = 'date'"
   ]
  },
  {
   "cell_type": "code",
   "execution_count": 24,
   "id": "naked-donor",
   "metadata": {
    "execution": {
     "iopub.execute_input": "2022-12-03T12:15:20.142457Z",
     "iopub.status.busy": "2022-12-03T12:15:20.141182Z",
     "iopub.status.idle": "2022-12-03T12:15:20.144561Z",
     "shell.execute_reply": "2022-12-03T12:15:20.143515Z"
    },
    "papermill": {
     "duration": 0.053946,
     "end_time": "2022-12-03T12:15:20.144711",
     "exception": false,
     "start_time": "2022-12-03T12:15:20.090765",
     "status": "completed"
    },
    "tags": []
   },
   "outputs": [],
   "source": [
    "# #hide\n",
    "# g = g.reset_index(['date'])"
   ]
  },
  {
   "cell_type": "code",
   "execution_count": 25,
   "id": "incomplete-mustang",
   "metadata": {
    "execution": {
     "iopub.execute_input": "2022-12-03T12:15:20.243001Z",
     "iopub.status.busy": "2022-12-03T12:15:20.240427Z",
     "iopub.status.idle": "2022-12-03T12:15:20.243999Z",
     "shell.execute_reply": "2022-12-03T12:15:20.244711Z"
    },
    "papermill": {
     "duration": 0.05354,
     "end_time": "2022-12-03T12:15:20.244897",
     "exception": false,
     "start_time": "2022-12-03T12:15:20.191357",
     "status": "completed"
    },
    "tags": []
   },
   "outputs": [],
   "source": [
    "#hide\n",
    "# g.head()"
   ]
  },
  {
   "cell_type": "code",
   "execution_count": 26,
   "id": "specific-kruger",
   "metadata": {
    "execution": {
     "iopub.execute_input": "2022-12-03T12:15:20.334751Z",
     "iopub.status.busy": "2022-12-03T12:15:20.333737Z",
     "iopub.status.idle": "2022-12-03T12:15:20.338191Z",
     "shell.execute_reply": "2022-12-03T12:15:20.336669Z"
    },
    "papermill": {
     "duration": 0.049993,
     "end_time": "2022-12-03T12:15:20.338339",
     "exception": false,
     "start_time": "2022-12-03T12:15:20.288346",
     "status": "completed"
    },
    "tags": []
   },
   "outputs": [],
   "source": [
    "#hide\n",
    "# g.columns = ['date','country','cases']"
   ]
  },
  {
   "cell_type": "code",
   "execution_count": 27,
   "id": "tender-conversion",
   "metadata": {
    "execution": {
     "iopub.execute_input": "2022-12-03T12:15:20.439680Z",
     "iopub.status.busy": "2022-12-03T12:15:20.438623Z",
     "iopub.status.idle": "2022-12-03T12:15:20.440926Z",
     "shell.execute_reply": "2022-12-03T12:15:20.441599Z"
    },
    "papermill": {
     "duration": 0.05473,
     "end_time": "2022-12-03T12:15:20.441761",
     "exception": false,
     "start_time": "2022-12-03T12:15:20.387031",
     "status": "completed"
    },
    "tags": []
   },
   "outputs": [],
   "source": [
    "#hide\n",
    "# g['continent'] = g.country"
   ]
  },
  {
   "cell_type": "code",
   "execution_count": 28,
   "id": "substantial-wilderness",
   "metadata": {
    "execution": {
     "iopub.execute_input": "2022-12-03T12:15:20.542915Z",
     "iopub.status.busy": "2022-12-03T12:15:20.542202Z",
     "iopub.status.idle": "2022-12-03T12:15:20.546094Z",
     "shell.execute_reply": "2022-12-03T12:15:20.545474Z"
    },
    "papermill": {
     "duration": 0.056937,
     "end_time": "2022-12-03T12:15:20.546221",
     "exception": false,
     "start_time": "2022-12-03T12:15:20.489284",
     "status": "completed"
    },
    "tags": []
   },
   "outputs": [],
   "source": [
    "#hide\n",
    "# cols = list(g.columns.values)"
   ]
  },
  {
   "cell_type": "code",
   "execution_count": 29,
   "id": "solved-farming",
   "metadata": {
    "execution": {
     "iopub.execute_input": "2022-12-03T12:15:20.634264Z",
     "iopub.status.busy": "2022-12-03T12:15:20.633364Z",
     "iopub.status.idle": "2022-12-03T12:15:20.637668Z",
     "shell.execute_reply": "2022-12-03T12:15:20.636457Z"
    },
    "papermill": {
     "duration": 0.050417,
     "end_time": "2022-12-03T12:15:20.637813",
     "exception": false,
     "start_time": "2022-12-03T12:15:20.587396",
     "status": "completed"
    },
    "tags": []
   },
   "outputs": [],
   "source": [
    "#hide\n",
    "# cols.insert(0, cols.pop())"
   ]
  },
  {
   "cell_type": "code",
   "execution_count": 30,
   "id": "executed-adoption",
   "metadata": {
    "execution": {
     "iopub.execute_input": "2022-12-03T12:15:20.732786Z",
     "iopub.status.busy": "2022-12-03T12:15:20.729421Z",
     "iopub.status.idle": "2022-12-03T12:15:20.733906Z",
     "shell.execute_reply": "2022-12-03T12:15:20.734673Z"
    },
    "papermill": {
     "duration": 0.054197,
     "end_time": "2022-12-03T12:15:20.734909",
     "exception": false,
     "start_time": "2022-12-03T12:15:20.680712",
     "status": "completed"
    },
    "tags": []
   },
   "outputs": [],
   "source": [
    "#hide\n",
    "# g = g[cols]"
   ]
  },
  {
   "cell_type": "code",
   "execution_count": 31,
   "id": "subject-dublin",
   "metadata": {
    "execution": {
     "iopub.execute_input": "2022-12-03T12:15:20.837363Z",
     "iopub.status.busy": "2022-12-03T12:15:20.836566Z",
     "iopub.status.idle": "2022-12-03T12:15:20.843856Z",
     "shell.execute_reply": "2022-12-03T12:15:20.844644Z"
    },
    "papermill": {
     "duration": 0.060558,
     "end_time": "2022-12-03T12:15:20.844826",
     "exception": false,
     "start_time": "2022-12-03T12:15:20.784268",
     "status": "completed"
    },
    "tags": []
   },
   "outputs": [],
   "source": [
    "#hide\n",
    "# g['continent'] = g['continent'].map(mapping['map.continent'])"
   ]
  },
  {
   "cell_type": "code",
   "execution_count": 32,
   "id": "freelance-scout",
   "metadata": {
    "execution": {
     "iopub.execute_input": "2022-12-03T12:15:20.938378Z",
     "iopub.status.busy": "2022-12-03T12:15:20.937559Z",
     "iopub.status.idle": "2022-12-03T12:15:20.940374Z",
     "shell.execute_reply": "2022-12-03T12:15:20.939514Z"
    },
    "papermill": {
     "duration": 0.049454,
     "end_time": "2022-12-03T12:15:20.940547",
     "exception": false,
     "start_time": "2022-12-03T12:15:20.891093",
     "status": "completed"
    },
    "tags": []
   },
   "outputs": [],
   "source": [
    "#hide\n",
    "# g.head()"
   ]
  },
  {
   "cell_type": "code",
   "execution_count": 33,
   "id": "limited-engine",
   "metadata": {
    "execution": {
     "iopub.execute_input": "2022-12-03T12:15:21.032627Z",
     "iopub.status.busy": "2022-12-03T12:15:21.031850Z",
     "iopub.status.idle": "2022-12-03T12:15:21.035132Z",
     "shell.execute_reply": "2022-12-03T12:15:21.034493Z"
    },
    "papermill": {
     "duration": 0.051128,
     "end_time": "2022-12-03T12:15:21.035265",
     "exception": false,
     "start_time": "2022-12-03T12:15:20.984137",
     "status": "completed"
    },
    "tags": []
   },
   "outputs": [],
   "source": [
    "# hide\n",
    "# g['date'] = g['date'].astype('datetime64[ns]')"
   ]
  },
  {
   "cell_type": "code",
   "execution_count": 34,
   "id": "sophisticated-supervisor",
   "metadata": {
    "execution": {
     "iopub.execute_input": "2022-12-03T12:15:21.132398Z",
     "iopub.status.busy": "2022-12-03T12:15:21.131268Z",
     "iopub.status.idle": "2022-12-03T12:15:21.134319Z",
     "shell.execute_reply": "2022-12-03T12:15:21.134914Z"
    },
    "papermill": {
     "duration": 0.05453,
     "end_time": "2022-12-03T12:15:21.135084",
     "exception": false,
     "start_time": "2022-12-03T12:15:21.080554",
     "status": "completed"
    },
    "tags": []
   },
   "outputs": [],
   "source": [
    "#hide\n",
    "# g['date'] = g.date.dt.dayofyear"
   ]
  },
  {
   "cell_type": "code",
   "execution_count": 35,
   "id": "inside-dubai",
   "metadata": {
    "execution": {
     "iopub.execute_input": "2022-12-03T12:15:21.224639Z",
     "iopub.status.busy": "2022-12-03T12:15:21.223827Z",
     "iopub.status.idle": "2022-12-03T12:15:21.227065Z",
     "shell.execute_reply": "2022-12-03T12:15:21.226189Z"
    },
    "papermill": {
     "duration": 0.049719,
     "end_time": "2022-12-03T12:15:21.227207",
     "exception": false,
     "start_time": "2022-12-03T12:15:21.177488",
     "status": "completed"
    },
    "tags": []
   },
   "outputs": [],
   "source": [
    "#hide\n",
    "# g = g.rename(columns= {'continent':'group','country':'name','cases':'value'})"
   ]
  },
  {
   "cell_type": "code",
   "execution_count": 36,
   "id": "fleet-motorcycle",
   "metadata": {
    "execution": {
     "iopub.execute_input": "2022-12-03T12:15:21.318276Z",
     "iopub.status.busy": "2022-12-03T12:15:21.317519Z",
     "iopub.status.idle": "2022-12-03T12:15:21.320750Z",
     "shell.execute_reply": "2022-12-03T12:15:21.321332Z"
    },
    "papermill": {
     "duration": 0.050379,
     "end_time": "2022-12-03T12:15:21.321480",
     "exception": false,
     "start_time": "2022-12-03T12:15:21.271101",
     "status": "completed"
    },
    "tags": []
   },
   "outputs": [],
   "source": [
    "#hide\n",
    "# cols = ['name','group','day','value']"
   ]
  },
  {
   "cell_type": "code",
   "execution_count": 37,
   "id": "continued-sleeping",
   "metadata": {
    "execution": {
     "iopub.execute_input": "2022-12-03T12:15:21.445532Z",
     "iopub.status.busy": "2022-12-03T12:15:21.444148Z",
     "iopub.status.idle": "2022-12-03T12:15:21.451503Z",
     "shell.execute_reply": "2022-12-03T12:15:21.450520Z"
    },
    "papermill": {
     "duration": 0.090081,
     "end_time": "2022-12-03T12:15:21.451656",
     "exception": false,
     "start_time": "2022-12-03T12:15:21.361575",
     "status": "completed"
    },
    "tags": []
   },
   "outputs": [],
   "source": [
    "#hide\n",
    "# g.rename(columns= {'date':'day'},inplace = True)"
   ]
  },
  {
   "cell_type": "code",
   "execution_count": 38,
   "id": "major-fight",
   "metadata": {
    "execution": {
     "iopub.execute_input": "2022-12-03T12:15:21.562569Z",
     "iopub.status.busy": "2022-12-03T12:15:21.560420Z",
     "iopub.status.idle": "2022-12-03T12:15:21.565823Z",
     "shell.execute_reply": "2022-12-03T12:15:21.566702Z"
    },
    "papermill": {
     "duration": 0.064564,
     "end_time": "2022-12-03T12:15:21.566877",
     "exception": false,
     "start_time": "2022-12-03T12:15:21.502313",
     "status": "completed"
    },
    "tags": []
   },
   "outputs": [],
   "source": [
    "#hide\n",
    "# g = g[cols]"
   ]
  },
  {
   "cell_type": "code",
   "execution_count": 39,
   "id": "structured-mobile",
   "metadata": {
    "execution": {
     "iopub.execute_input": "2022-12-03T12:15:21.669972Z",
     "iopub.status.busy": "2022-12-03T12:15:21.668816Z",
     "iopub.status.idle": "2022-12-03T12:15:21.671233Z",
     "shell.execute_reply": "2022-12-03T12:15:21.672185Z"
    },
    "papermill": {
     "duration": 0.054612,
     "end_time": "2022-12-03T12:15:21.672363",
     "exception": false,
     "start_time": "2022-12-03T12:15:21.617751",
     "status": "completed"
    },
    "tags": []
   },
   "outputs": [],
   "source": [
    "# #hide\n",
    "# g = g[g.group.notna()]"
   ]
  },
  {
   "cell_type": "code",
   "execution_count": 40,
   "id": "determined-closing",
   "metadata": {
    "execution": {
     "iopub.execute_input": "2022-12-03T12:15:21.765806Z",
     "iopub.status.busy": "2022-12-03T12:15:21.764618Z",
     "iopub.status.idle": "2022-12-03T12:15:21.767968Z",
     "shell.execute_reply": "2022-12-03T12:15:21.768580Z"
    },
    "papermill": {
     "duration": 0.052736,
     "end_time": "2022-12-03T12:15:21.768750",
     "exception": false,
     "start_time": "2022-12-03T12:15:21.716014",
     "status": "completed"
    },
    "tags": []
   },
   "outputs": [],
   "source": [
    "# #hide\n",
    "# colors = dict(zip(\n",
    "#     [\"Oceania\", \"Europe\", \"Asia\", \"South America\", \"Middle East\", \"North America\", \"Africa\"],\n",
    "#     [\"#adb0ff\", \"#ffb3ff\", \"#90d595\", \"#e48381\", \"#aafbff\", \"#f7bb5f\", \"#eafb50\"]\n",
    "# ))\n",
    "# group_lk = g.set_index('name')['group'].to_dict()"
   ]
  },
  {
   "cell_type": "code",
   "execution_count": null,
   "id": "gross-drinking",
   "metadata": {
    "papermill": {
     "duration": 0.045014,
     "end_time": "2022-12-03T12:15:21.864041",
     "exception": false,
     "start_time": "2022-12-03T12:15:21.819027",
     "status": "completed"
    },
    "tags": []
   },
   "outputs": [],
   "source": []
  },
  {
   "cell_type": "code",
   "execution_count": 41,
   "id": "subject-macintosh",
   "metadata": {
    "execution": {
     "iopub.execute_input": "2022-12-03T12:15:21.953498Z",
     "iopub.status.busy": "2022-12-03T12:15:21.952698Z",
     "iopub.status.idle": "2022-12-03T12:15:21.955513Z",
     "shell.execute_reply": "2022-12-03T12:15:21.956317Z"
    },
    "papermill": {
     "duration": 0.050628,
     "end_time": "2022-12-03T12:15:21.956495",
     "exception": false,
     "start_time": "2022-12-03T12:15:21.905867",
     "status": "completed"
    },
    "tags": []
   },
   "outputs": [],
   "source": [
    "# #hide\n",
    "# fig, ax = plt.subplots(figsize=(15, 8))\n",
    "\n",
    "# def draw_barchart(current_day):\n",
    "#     dff = g[g['day'].eq(current_day)].sort_values(by='value', ascending=True).tail(10)\n",
    "#     ax.clear()\n",
    "#     ax.barh(dff['name'], dff['value'], color=[colors[group_lk[x]] for x in dff['name']])\n",
    "#     dx = dff['value'].max() / 200\n",
    "    \n",
    "#     for i, (value, name) in enumerate(zip(dff['value'], dff['name'])):\n",
    "#         ax.text(value-dx, i,     name,           size=14, weight=600, ha='right', va='bottom')\n",
    "#         ax.text(value-dx, i-.25, group_lk[name], size=10, color='#444444', ha='right', va='baseline')\n",
    "#         ax.text(value+dx, i,     f'{value:,.0f}',  size=14, ha='left',  va='center')\n",
    "#     ax.text(1, 0.4, current_day, transform=ax.transAxes, color='#777777', size=46, ha='right', weight=800)\n",
    "#     ax.text(0, 1.06, 'Population (thousands)', transform=ax.transAxes, size=12, color='#777777')\n",
    "#     ax.xaxis.set_major_formatter(ticker.StrMethodFormatter('{x:,.0f}'))\n",
    "#     ax.xaxis.set_ticks_position('top')\n",
    "#     ax.tick_params(axis='x', colors='#777777', labelsize=12)\n",
    "#     ax.set_yticks([])\n",
    "#     ax.margins(0, 0.01)\n",
    "#     ax.grid(which='major', axis='x', linestyle='-')\n",
    "#     ax.set_axisbelow(True)\n",
    "    \n",
    "#     ax.text(0, 1.15, 'Coronavirus',\n",
    "#             transform=ax.transAxes, size=24, weight=600, ha='left', va='top')\n",
    "# #     ax.text(1, 0, 'by @pratapvardhan; credit @jburnmurdoch', transform=ax.transAxes, color='#777777', ha='right',\n",
    "# #             bbox=dict(facecolor='white', alpha=0.8, edgecolor='white'))\n",
    "#     plt.box(False)"
   ]
  },
  {
   "cell_type": "code",
   "execution_count": 42,
   "id": "sexual-wages",
   "metadata": {
    "execution": {
     "iopub.execute_input": "2022-12-03T12:15:22.060721Z",
     "iopub.status.busy": "2022-12-03T12:15:22.059899Z",
     "iopub.status.idle": "2022-12-03T12:15:22.065359Z",
     "shell.execute_reply": "2022-12-03T12:15:22.064653Z"
    },
    "papermill": {
     "duration": 0.06141,
     "end_time": "2022-12-03T12:15:22.065504",
     "exception": false,
     "start_time": "2022-12-03T12:15:22.004094",
     "status": "completed"
    },
    "tags": []
   },
   "outputs": [],
   "source": [
    "# #hide_input\n",
    "# fig, ax = plt.subplots(figsize=(15, 8))\n",
    "# animator = animation.FuncAnimation(fig, draw_barchart, frames=range(g.day.values.min(), g.day.values.max()))\n",
    "# HTML(animator.to_jshtml())\n",
    "# # or use animator.to_html5_video() or animator.save() "
   ]
  },
  {
   "cell_type": "code",
   "execution_count": null,
   "id": "australian-container",
   "metadata": {
    "papermill": {
     "duration": 0.042417,
     "end_time": "2022-12-03T12:15:22.151139",
     "exception": false,
     "start_time": "2022-12-03T12:15:22.108722",
     "status": "completed"
    },
    "tags": []
   },
   "outputs": [],
   "source": []
  },
  {
   "cell_type": "code",
   "execution_count": null,
   "id": "mediterranean-pontiac",
   "metadata": {
    "papermill": {
     "duration": 0.044121,
     "end_time": "2022-12-03T12:15:22.237632",
     "exception": false,
     "start_time": "2022-12-03T12:15:22.193511",
     "status": "completed"
    },
    "tags": []
   },
   "outputs": [],
   "source": []
  },
  {
   "cell_type": "code",
   "execution_count": null,
   "id": "aging-legislature",
   "metadata": {
    "papermill": {
     "duration": 0.049318,
     "end_time": "2022-12-03T12:15:22.329298",
     "exception": false,
     "start_time": "2022-12-03T12:15:22.279980",
     "status": "completed"
    },
    "tags": []
   },
   "outputs": [],
   "source": []
  }
 ],
 "metadata": {
  "kernelspec": {
   "display_name": "Python 3",
   "language": "python",
   "name": "python3"
  },
  "language_info": {
   "codemirror_mode": {
    "name": "ipython",
    "version": 3
   },
   "file_extension": ".py",
   "mimetype": "text/x-python",
   "name": "python",
   "nbconvert_exporter": "python",
   "pygments_lexer": "ipython3",
   "version": "3.6.15"
  },
  "papermill": {
   "duration": 8.509642,
   "end_time": "2022-12-03T12:15:22.801801",
   "environment_variables": {},
   "exception": null,
   "input_path": "2020-03-21-covid19exp.ipynb",
   "output_path": "2020-03-21-covid19exp.ipynb",
   "parameters": {},
   "start_time": "2022-12-03T12:15:14.292159",
   "version": "2.0.0"
  }
 },
 "nbformat": 4,
 "nbformat_minor": 5
}