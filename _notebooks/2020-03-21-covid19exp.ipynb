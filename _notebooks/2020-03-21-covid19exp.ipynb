{
 "cells": [
  {
   "cell_type": "markdown",
   "id": "muslim-click",
   "metadata": {
    "papermill": {
     "duration": 0.050125,
     "end_time": "2022-06-11T00:42:05.335411",
     "exception": false,
     "start_time": "2022-06-11T00:42:05.285286",
     "status": "completed"
    },
    "tags": []
   },
   "source": [
    "# COVID-19 Case Race\n",
    "> A race chart to see rising cases around the world\n",
    "\n",
    "- author: Hargun Oberoi\n",
    "- image: images/covid-overview.png\n",
    "- hide: false\n",
    "- badges: false"
   ]
  },
  {
   "cell_type": "code",
   "execution_count": 1,
   "id": "proof-material",
   "metadata": {
    "execution": {
     "iopub.execute_input": "2022-06-11T00:42:05.430299Z",
     "iopub.status.busy": "2022-06-11T00:42:05.429386Z",
     "iopub.status.idle": "2022-06-11T00:42:05.879027Z",
     "shell.execute_reply": "2022-06-11T00:42:05.879692Z"
    },
    "papermill": {
     "duration": 0.503017,
     "end_time": "2022-06-11T00:42:05.879907",
     "exception": false,
     "start_time": "2022-06-11T00:42:05.376890",
     "status": "completed"
    },
    "tags": []
   },
   "outputs": [],
   "source": [
    "#hide\n",
    "import numpy as np\n",
    "import pandas as pd\n",
    "from jinja2 import Template\n",
    "from IPython.display import HTML"
   ]
  },
  {
   "cell_type": "code",
   "execution_count": 2,
   "id": "developed-terminology",
   "metadata": {
    "execution": {
     "iopub.execute_input": "2022-06-11T00:42:05.976045Z",
     "iopub.status.busy": "2022-06-11T00:42:05.975205Z",
     "iopub.status.idle": "2022-06-11T00:42:05.978532Z",
     "shell.execute_reply": "2022-06-11T00:42:05.977878Z"
    },
    "papermill": {
     "duration": 0.056024,
     "end_time": "2022-06-11T00:42:05.978697",
     "exception": false,
     "start_time": "2022-06-11T00:42:05.922673",
     "status": "completed"
    },
    "tags": []
   },
   "outputs": [],
   "source": [
    "#hide\n",
    "\n",
    "# FETCH\n",
    "base_url = 'https://raw.githubusercontent.com/pratapvardhan/notebooks/master/covid19/'\n",
    "paths = {\n",
    "    'mapping': base_url + 'mapping_countries.csv',\n",
    "    'overview': base_url + 'overview.tpl'\n",
    "}"
   ]
  },
  {
   "cell_type": "code",
   "execution_count": 3,
   "id": "dynamic-saver",
   "metadata": {
    "execution": {
     "iopub.execute_input": "2022-06-11T00:42:06.080217Z",
     "iopub.status.busy": "2022-06-11T00:42:06.079381Z",
     "iopub.status.idle": "2022-06-11T00:42:06.084034Z",
     "shell.execute_reply": "2022-06-11T00:42:06.084920Z"
    },
    "papermill": {
     "duration": 0.067142,
     "end_time": "2022-06-11T00:42:06.085103",
     "exception": false,
     "start_time": "2022-06-11T00:42:06.017961",
     "status": "completed"
    },
    "tags": []
   },
   "outputs": [
    {
     "data": {
      "text/plain": [
       "'https://raw.githubusercontent.com/pratapvardhan/notebooks/master/covid19/mapping_countries.csv'"
      ]
     },
     "execution_count": 3,
     "metadata": {},
     "output_type": "execute_result"
    }
   ],
   "source": [
    "#hide\n",
    "paths['mapping']"
   ]
  },
  {
   "cell_type": "code",
   "execution_count": 4,
   "id": "urban-software",
   "metadata": {
    "execution": {
     "iopub.execute_input": "2022-06-11T00:42:06.178755Z",
     "iopub.status.busy": "2022-06-11T00:42:06.177961Z",
     "iopub.status.idle": "2022-06-11T00:42:06.181110Z",
     "shell.execute_reply": "2022-06-11T00:42:06.180467Z"
    },
    "papermill": {
     "duration": 0.053958,
     "end_time": "2022-06-11T00:42:06.181267",
     "exception": false,
     "start_time": "2022-06-11T00:42:06.127309",
     "status": "completed"
    },
    "tags": []
   },
   "outputs": [],
   "source": [
    "#hide\n",
    "def get_mappings(url):\n",
    "    df = pd.read_csv(url)\n",
    "    return {\n",
    "        'df': df,\n",
    "        'replace.country': dict(df.dropna(subset=['Name']).set_index('Country')['Name']),\n",
    "        'map.continent': dict(df.set_index('Name')['Continent'])\n",
    "    }"
   ]
  },
  {
   "cell_type": "code",
   "execution_count": 5,
   "id": "intimate-machinery",
   "metadata": {
    "execution": {
     "iopub.execute_input": "2022-06-11T00:42:06.275291Z",
     "iopub.status.busy": "2022-06-11T00:42:06.274528Z",
     "iopub.status.idle": "2022-06-11T00:42:06.319549Z",
     "shell.execute_reply": "2022-06-11T00:42:06.318864Z"
    },
    "papermill": {
     "duration": 0.093635,
     "end_time": "2022-06-11T00:42:06.319733",
     "exception": false,
     "start_time": "2022-06-11T00:42:06.226098",
     "status": "completed"
    },
    "tags": []
   },
   "outputs": [],
   "source": [
    "#hide\n",
    "mapping = get_mappings(paths['mapping'])"
   ]
  },
  {
   "cell_type": "code",
   "execution_count": 6,
   "id": "certified-tactics",
   "metadata": {
    "execution": {
     "iopub.execute_input": "2022-06-11T00:42:06.410728Z",
     "iopub.status.busy": "2022-06-11T00:42:06.409935Z",
     "iopub.status.idle": "2022-06-11T00:42:06.412465Z",
     "shell.execute_reply": "2022-06-11T00:42:06.413063Z"
    },
    "papermill": {
     "duration": 0.048924,
     "end_time": "2022-06-11T00:42:06.413229",
     "exception": false,
     "start_time": "2022-06-11T00:42:06.364305",
     "status": "completed"
    },
    "tags": []
   },
   "outputs": [],
   "source": [
    "#hide\n",
    "def get_template(path):\n",
    "    from urllib.parse import urlparse\n",
    "    if bool(urlparse(path).netloc):\n",
    "        from urllib.request import urlopen\n",
    "        return urlopen(path).read().decode('utf8')\n",
    "    return open(path).read()"
   ]
  },
  {
   "cell_type": "code",
   "execution_count": 7,
   "id": "realistic-blast",
   "metadata": {
    "execution": {
     "iopub.execute_input": "2022-06-11T00:42:06.502318Z",
     "iopub.status.busy": "2022-06-11T00:42:06.501528Z",
     "iopub.status.idle": "2022-06-11T00:42:06.506088Z",
     "shell.execute_reply": "2022-06-11T00:42:06.505442Z"
    },
    "papermill": {
     "duration": 0.053009,
     "end_time": "2022-06-11T00:42:06.506235",
     "exception": false,
     "start_time": "2022-06-11T00:42:06.453226",
     "status": "completed"
    },
    "tags": []
   },
   "outputs": [],
   "source": [
    "#hide\n",
    "def get_frame(name):\n",
    "    url = (\n",
    "        'https://raw.githubusercontent.com/CSSEGISandData/COVID-19/master/csse_covid_19_data/'\n",
    "        f'csse_covid_19_time_series/time_series_covid19_{name}_global.csv')\n",
    "    df = pd.read_csv(url)\n",
    "    # rename countries\n",
    "    df['Country/Region'] = df['Country/Region'].replace(mapping['replace.country'])\n",
    "    return df"
   ]
  },
  {
   "cell_type": "code",
   "execution_count": 8,
   "id": "affiliated-characterization",
   "metadata": {
    "execution": {
     "iopub.execute_input": "2022-06-11T00:42:06.602059Z",
     "iopub.status.busy": "2022-06-11T00:42:06.600869Z",
     "iopub.status.idle": "2022-06-11T00:42:06.603132Z",
     "shell.execute_reply": "2022-06-11T00:42:06.603942Z"
    },
    "papermill": {
     "duration": 0.057112,
     "end_time": "2022-06-11T00:42:06.604118",
     "exception": false,
     "start_time": "2022-06-11T00:42:06.547006",
     "status": "completed"
    },
    "tags": []
   },
   "outputs": [],
   "source": [
    "#hide\n",
    "def get_dates(df):\n",
    "    dt_cols = df.columns[~df.columns.isin(['Province/State', 'Country/Region', 'Lat', 'Long'])]\n",
    "    LAST_DATE_I = -1\n",
    "    # sometimes last column may be empty, then go backwards\n",
    "    for i in range(-1, -len(dt_cols), -1):\n",
    "        if not df[dt_cols[i]].fillna(0).eq(0).all():\n",
    "            LAST_DATE_I = i\n",
    "            break\n",
    "    return LAST_DATE_I, dt_cols"
   ]
  },
  {
   "cell_type": "code",
   "execution_count": 9,
   "id": "recent-optimization",
   "metadata": {
    "execution": {
     "iopub.execute_input": "2022-06-11T00:42:06.694855Z",
     "iopub.status.busy": "2022-06-11T00:42:06.694072Z",
     "iopub.status.idle": "2022-06-11T00:42:07.163603Z",
     "shell.execute_reply": "2022-06-11T00:42:07.162925Z"
    },
    "papermill": {
     "duration": 0.517845,
     "end_time": "2022-06-11T00:42:07.163799",
     "exception": false,
     "start_time": "2022-06-11T00:42:06.645954",
     "status": "completed"
    },
    "tags": []
   },
   "outputs": [],
   "source": [
    "#hide\n",
    "COL_REGION = 'Country/Region'\n",
    "# Confirmed, Recovered, Deaths\n",
    "df = get_frame('confirmed')\n",
    "# dft_: timeseries, dfc_: today country agg\n",
    "dft_cases = df\n",
    "dft_deaths = get_frame('deaths')\n",
    "dft_recovered = get_frame('recovered')\n",
    "LAST_DATE_I, dt_cols = get_dates(df)"
   ]
  },
  {
   "cell_type": "code",
   "execution_count": 10,
   "id": "absolute-copper",
   "metadata": {
    "execution": {
     "iopub.execute_input": "2022-06-11T00:42:07.253000Z",
     "iopub.status.busy": "2022-06-11T00:42:07.252214Z",
     "iopub.status.idle": "2022-06-11T00:42:07.255719Z",
     "shell.execute_reply": "2022-06-11T00:42:07.254900Z"
    },
    "papermill": {
     "duration": 0.052317,
     "end_time": "2022-06-11T00:42:07.255865",
     "exception": false,
     "start_time": "2022-06-11T00:42:07.203548",
     "status": "completed"
    },
    "tags": []
   },
   "outputs": [],
   "source": [
    "#hide\n",
    "LAST_DATE_I, dt_cols = get_dates(df)\n",
    "dt_today =dt_cols[LAST_DATE_I]\n",
    "# dt_5day = dt_cols[LAST_DATE_I - 5]\n",
    "dt_yday = dt_cols[LAST_DATE_I - 1]"
   ]
  },
  {
   "cell_type": "code",
   "execution_count": 11,
   "id": "restricted-sheriff",
   "metadata": {
    "execution": {
     "iopub.execute_input": "2022-06-11T00:42:07.344625Z",
     "iopub.status.busy": "2022-06-11T00:42:07.343828Z",
     "iopub.status.idle": "2022-06-11T00:42:07.356523Z",
     "shell.execute_reply": "2022-06-11T00:42:07.355797Z"
    },
    "papermill": {
     "duration": 0.060863,
     "end_time": "2022-06-11T00:42:07.356671",
     "exception": false,
     "start_time": "2022-06-11T00:42:07.295808",
     "status": "completed"
    },
    "tags": []
   },
   "outputs": [],
   "source": [
    "#hide\n",
    "dfc_cases = dft_cases.groupby(COL_REGION)[dt_today].sum()\n",
    "dfc_deaths = dft_deaths.groupby(COL_REGION)[dt_today].sum()\n",
    "# dfp_cases = dft_cases.groupby(COL_REGION)[dt_5day].sum()\n",
    "# dfp_deaths = dft_deaths.groupby(COL_REGION)[dt_5day].sum()\n",
    "dfp_cases = dft_cases.groupby(COL_REGION)[dt_yday].sum()\n",
    "dfp_deaths = dft_deaths.groupby(COL_REGION)[dt_yday].sum()"
   ]
  },
  {
   "cell_type": "code",
   "execution_count": 12,
   "id": "deluxe-hepatitis",
   "metadata": {
    "execution": {
     "iopub.execute_input": "2022-06-11T00:42:07.450615Z",
     "iopub.status.busy": "2022-06-11T00:42:07.449718Z",
     "iopub.status.idle": "2022-06-11T00:42:07.456074Z",
     "shell.execute_reply": "2022-06-11T00:42:07.456812Z"
    },
    "papermill": {
     "duration": 0.058905,
     "end_time": "2022-06-11T00:42:07.457001",
     "exception": false,
     "start_time": "2022-06-11T00:42:07.398096",
     "status": "completed"
    },
    "tags": []
   },
   "outputs": [],
   "source": [
    "#hide\n",
    "df_table = (pd.DataFrame(dict(Cases = dfc_cases, Deaths = dfc_deaths, PCases = dfp_cases, PDeaths = dfp_deaths))\n",
    "            .sort_values(by = ['Cases','Deaths'], ascending = [False, False])\n",
    "            .reset_index())"
   ]
  },
  {
   "cell_type": "code",
   "execution_count": 13,
   "id": "educational-chancellor",
   "metadata": {
    "execution": {
     "iopub.execute_input": "2022-06-11T00:42:07.566904Z",
     "iopub.status.busy": "2022-06-11T00:42:07.565647Z",
     "iopub.status.idle": "2022-06-11T00:42:07.577724Z",
     "shell.execute_reply": "2022-06-11T00:42:07.578376Z"
    },
    "papermill": {
     "duration": 0.079898,
     "end_time": "2022-06-11T00:42:07.578564",
     "exception": false,
     "start_time": "2022-06-11T00:42:07.498666",
     "status": "completed"
    },
    "tags": []
   },
   "outputs": [
    {
     "data": {
      "text/html": [
       "<div>\n",
       "<style scoped>\n",
       "    .dataframe tbody tr th:only-of-type {\n",
       "        vertical-align: middle;\n",
       "    }\n",
       "\n",
       "    .dataframe tbody tr th {\n",
       "        vertical-align: top;\n",
       "    }\n",
       "\n",
       "    .dataframe thead th {\n",
       "        text-align: right;\n",
       "    }\n",
       "</style>\n",
       "<table border=\"1\" class=\"dataframe\">\n",
       "  <thead>\n",
       "    <tr style=\"text-align: right;\">\n",
       "      <th></th>\n",
       "      <th>Country/Region</th>\n",
       "      <th>Cases</th>\n",
       "      <th>Deaths</th>\n",
       "      <th>PCases</th>\n",
       "      <th>PDeaths</th>\n",
       "      <th>Cases (+)</th>\n",
       "      <th>Deaths (+)</th>\n",
       "      <th>Fatality Rate</th>\n",
       "      <th>Continent</th>\n",
       "    </tr>\n",
       "  </thead>\n",
       "  <tbody>\n",
       "    <tr>\n",
       "      <th>0</th>\n",
       "      <td>US</td>\n",
       "      <td>85329656</td>\n",
       "      <td>1010805</td>\n",
       "      <td>85214036</td>\n",
       "      <td>1010520</td>\n",
       "      <td>115620</td>\n",
       "      <td>285</td>\n",
       "      <td>1.18</td>\n",
       "      <td>North America</td>\n",
       "    </tr>\n",
       "    <tr>\n",
       "      <th>1</th>\n",
       "      <td>India</td>\n",
       "      <td>43205106</td>\n",
       "      <td>524747</td>\n",
       "      <td>43197522</td>\n",
       "      <td>524723</td>\n",
       "      <td>7584</td>\n",
       "      <td>24</td>\n",
       "      <td>1.21</td>\n",
       "      <td>Asia</td>\n",
       "    </tr>\n",
       "    <tr>\n",
       "      <th>2</th>\n",
       "      <td>Brazil</td>\n",
       "      <td>31360850</td>\n",
       "      <td>667790</td>\n",
       "      <td>31315777</td>\n",
       "      <td>667647</td>\n",
       "      <td>45073</td>\n",
       "      <td>143</td>\n",
       "      <td>2.13</td>\n",
       "      <td>South America</td>\n",
       "    </tr>\n",
       "    <tr>\n",
       "      <th>3</th>\n",
       "      <td>France</td>\n",
       "      <td>29946603</td>\n",
       "      <td>149749</td>\n",
       "      <td>29906452</td>\n",
       "      <td>149707</td>\n",
       "      <td>40151</td>\n",
       "      <td>42</td>\n",
       "      <td>0.50</td>\n",
       "      <td>Europe</td>\n",
       "    </tr>\n",
       "    <tr>\n",
       "      <th>4</th>\n",
       "      <td>Germany</td>\n",
       "      <td>26738530</td>\n",
       "      <td>139729</td>\n",
       "      <td>26660652</td>\n",
       "      <td>139623</td>\n",
       "      <td>77878</td>\n",
       "      <td>106</td>\n",
       "      <td>0.52</td>\n",
       "      <td>Europe</td>\n",
       "    </tr>\n",
       "  </tbody>\n",
       "</table>\n",
       "</div>"
      ],
      "text/plain": [
       "  Country/Region     Cases   Deaths    PCases  PDeaths  Cases (+)  Deaths (+)  \\\n",
       "0             US  85329656  1010805  85214036  1010520     115620         285   \n",
       "1          India  43205106   524747  43197522   524723       7584          24   \n",
       "2         Brazil  31360850   667790  31315777   667647      45073         143   \n",
       "3         France  29946603   149749  29906452   149707      40151          42   \n",
       "4        Germany  26738530   139729  26660652   139623      77878         106   \n",
       "\n",
       "   Fatality Rate      Continent  \n",
       "0           1.18  North America  \n",
       "1           1.21           Asia  \n",
       "2           2.13  South America  \n",
       "3           0.50         Europe  \n",
       "4           0.52         Europe  "
      ]
     },
     "execution_count": 13,
     "metadata": {},
     "output_type": "execute_result"
    }
   ],
   "source": [
    "#hide\n",
    "for c in 'Cases, Deaths'.split(', '):\n",
    "    df_table[f'{c} (+)'] = (df_table[c] - df_table[f'P{c}']).clip(0)\n",
    "    #Clip ça veut dire, les chiffres negatif sont interdit\n",
    "df_table['Fatality Rate'] = (100* df_table['Deaths']/ df_table['Cases']).round(2)\n",
    "df_table['Continent'] = df_table['Country/Region'].map(mapping['map.continent'])\n",
    "df_table.head(5)"
   ]
  },
  {
   "cell_type": "code",
   "execution_count": 14,
   "id": "aboriginal-bulgaria",
   "metadata": {
    "execution": {
     "iopub.execute_input": "2022-06-11T00:42:07.669073Z",
     "iopub.status.busy": "2022-06-11T00:42:07.668212Z",
     "iopub.status.idle": "2022-06-11T00:42:07.671446Z",
     "shell.execute_reply": "2022-06-11T00:42:07.670588Z"
    },
    "papermill": {
     "duration": 0.051552,
     "end_time": "2022-06-11T00:42:07.671593",
     "exception": false,
     "start_time": "2022-06-11T00:42:07.620041",
     "status": "completed"
    },
    "tags": []
   },
   "outputs": [],
   "source": [
    "#hide\n",
    "#delete problematic countries from table\n",
    "df_table = df_table[~df_table['Country/Region'].isin(['Cape Verde', 'Cruise Ship', 'Kosovo'])]"
   ]
  },
  {
   "cell_type": "code",
   "execution_count": 15,
   "id": "fantastic-effect",
   "metadata": {
    "execution": {
     "iopub.execute_input": "2022-06-11T00:42:07.771425Z",
     "iopub.status.busy": "2022-06-11T00:42:07.770631Z",
     "iopub.status.idle": "2022-06-11T00:42:07.796213Z",
     "shell.execute_reply": "2022-06-11T00:42:07.797058Z"
    },
    "papermill": {
     "duration": 0.081491,
     "end_time": "2022-06-11T00:42:07.797253",
     "exception": false,
     "start_time": "2022-06-11T00:42:07.715762",
     "status": "completed"
    },
    "tags": []
   },
   "outputs": [
    {
     "data": {
      "text/html": [
       "<div>\n",
       "<style scoped>\n",
       "    .dataframe tbody tr th:only-of-type {\n",
       "        vertical-align: middle;\n",
       "    }\n",
       "\n",
       "    .dataframe tbody tr th {\n",
       "        vertical-align: top;\n",
       "    }\n",
       "\n",
       "    .dataframe thead th {\n",
       "        text-align: right;\n",
       "    }\n",
       "</style>\n",
       "<table border=\"1\" class=\"dataframe\">\n",
       "  <thead>\n",
       "    <tr style=\"text-align: right;\">\n",
       "      <th></th>\n",
       "      <th>Country/Region</th>\n",
       "      <th>Cases</th>\n",
       "      <th>Deaths</th>\n",
       "      <th>PCases</th>\n",
       "      <th>PDeaths</th>\n",
       "      <th>Cases (+)</th>\n",
       "      <th>Deaths (+)</th>\n",
       "      <th>Fatality Rate</th>\n",
       "      <th>Continent</th>\n",
       "    </tr>\n",
       "  </thead>\n",
       "  <tbody>\n",
       "    <tr>\n",
       "      <th>0</th>\n",
       "      <td>US</td>\n",
       "      <td>85329656</td>\n",
       "      <td>1010805</td>\n",
       "      <td>85214036</td>\n",
       "      <td>1010520</td>\n",
       "      <td>115620</td>\n",
       "      <td>285</td>\n",
       "      <td>1.2</td>\n",
       "      <td>North America</td>\n",
       "    </tr>\n",
       "    <tr>\n",
       "      <th>1</th>\n",
       "      <td>India</td>\n",
       "      <td>43205106</td>\n",
       "      <td>524747</td>\n",
       "      <td>43197522</td>\n",
       "      <td>524723</td>\n",
       "      <td>7584</td>\n",
       "      <td>24</td>\n",
       "      <td>1.2</td>\n",
       "      <td>Asia</td>\n",
       "    </tr>\n",
       "    <tr>\n",
       "      <th>2</th>\n",
       "      <td>Brazil</td>\n",
       "      <td>31360850</td>\n",
       "      <td>667790</td>\n",
       "      <td>31315777</td>\n",
       "      <td>667647</td>\n",
       "      <td>45073</td>\n",
       "      <td>143</td>\n",
       "      <td>2.1</td>\n",
       "      <td>South America</td>\n",
       "    </tr>\n",
       "    <tr>\n",
       "      <th>3</th>\n",
       "      <td>France</td>\n",
       "      <td>29946603</td>\n",
       "      <td>149749</td>\n",
       "      <td>29906452</td>\n",
       "      <td>149707</td>\n",
       "      <td>40151</td>\n",
       "      <td>42</td>\n",
       "      <td>0.5</td>\n",
       "      <td>Europe</td>\n",
       "    </tr>\n",
       "    <tr>\n",
       "      <th>4</th>\n",
       "      <td>Germany</td>\n",
       "      <td>26738530</td>\n",
       "      <td>139729</td>\n",
       "      <td>26660652</td>\n",
       "      <td>139623</td>\n",
       "      <td>77878</td>\n",
       "      <td>106</td>\n",
       "      <td>0.5</td>\n",
       "      <td>Europe</td>\n",
       "    </tr>\n",
       "  </tbody>\n",
       "</table>\n",
       "</div>"
      ],
      "text/plain": [
       "  Country/Region     Cases   Deaths    PCases  PDeaths  Cases (+)  Deaths (+)  \\\n",
       "0             US  85329656  1010805  85214036  1010520     115620         285   \n",
       "1          India  43205106   524747  43197522   524723       7584          24   \n",
       "2         Brazil  31360850   667790  31315777   667647      45073         143   \n",
       "3         France  29946603   149749  29906452   149707      40151          42   \n",
       "4        Germany  26738530   139729  26660652   139623      77878         106   \n",
       "\n",
       "   Fatality Rate      Continent  \n",
       "0            1.2  North America  \n",
       "1            1.2           Asia  \n",
       "2            2.1  South America  \n",
       "3            0.5         Europe  \n",
       "4            0.5         Europe  "
      ]
     },
     "execution_count": 15,
     "metadata": {},
     "output_type": "execute_result"
    }
   ],
   "source": [
    "#hide\n",
    "df_table = (pd.DataFrame(dict(Cases=dfc_cases, Deaths=dfc_deaths, PCases=dfp_cases, PDeaths=dfp_deaths))\n",
    "             .sort_values(by=['Cases', 'Deaths'], ascending=[False, False])\n",
    "             .reset_index())\n",
    "df_table.rename(columns={'index': 'Country/Region'}, inplace=True)\n",
    "for c in 'Cases, Deaths'.split(', '):\n",
    "    df_table[f'{c} (+)'] = (df_table[c] - df_table[f'P{c}']).clip(0)  # DATA BUG\n",
    "df_table['Fatality Rate'] = (100 * df_table['Deaths'] / df_table['Cases']).round(1)\n",
    "df_table['Continent'] = df_table['Country/Region'].map(mapping['map.continent'])\n",
    "df_table.head(5)"
   ]
  },
  {
   "cell_type": "code",
   "execution_count": 16,
   "id": "fewer-occasion",
   "metadata": {
    "execution": {
     "iopub.execute_input": "2022-06-11T00:42:07.899748Z",
     "iopub.status.busy": "2022-06-11T00:42:07.898904Z",
     "iopub.status.idle": "2022-06-11T00:42:07.903768Z",
     "shell.execute_reply": "2022-06-11T00:42:07.904367Z"
    },
    "papermill": {
     "duration": 0.058255,
     "end_time": "2022-06-11T00:42:07.904539",
     "exception": false,
     "start_time": "2022-06-11T00:42:07.846284",
     "status": "completed"
    },
    "tags": []
   },
   "outputs": [],
   "source": [
    "#hide\n",
    "#delete problematic countries from table\n",
    "df_table = df_table[~df_table['Country/Region'].isin(['Cape Verde', 'Cruise Ship', 'Kosovo'])]"
   ]
  },
  {
   "cell_type": "code",
   "execution_count": 17,
   "id": "related-center",
   "metadata": {
    "execution": {
     "iopub.execute_input": "2022-06-11T00:42:08.013028Z",
     "iopub.status.busy": "2022-06-11T00:42:08.012133Z",
     "iopub.status.idle": "2022-06-11T00:42:08.024214Z",
     "shell.execute_reply": "2022-06-11T00:42:08.023452Z"
    },
    "papermill": {
     "duration": 0.07473,
     "end_time": "2022-06-11T00:42:08.024708",
     "exception": false,
     "start_time": "2022-06-11T00:42:07.949978",
     "status": "completed"
    },
    "tags": []
   },
   "outputs": [],
   "source": [
    "#hide\n",
    "metrics = [df_table.columns[index] for index in [1,2,5,6]]\n",
    "# s_china = df_table[df_table['Country/Region'].eq('China')][metrics].sum().add_prefix('China ')\n",
    "s_us = df_table[df_table['Country/Region'].eq('US')][metrics].sum().add_prefix('US ')\n",
    "s_eu = df_table[df_table['Continent'].eq('Europe')][metrics].sum().add_prefix('EU ')\n",
    "s_ind = df_table[df_table['Country/Region'].eq('India')][metrics].sum().add_prefix('India ')\n",
    "summary = {'updated': pd.to_datetime(dt_today), 'since': pd.to_datetime(dt_yday)}\n",
    "summary = {'updated': pd.to_datetime(dt_today), 'since': pd.to_datetime(dt_yday)}\n",
    "summary = {**summary, **df_table[metrics].sum(), **s_ind, **s_us, **s_eu}"
   ]
  },
  {
   "cell_type": "code",
   "execution_count": 18,
   "id": "engaging-syndrome",
   "metadata": {
    "execution": {
     "iopub.execute_input": "2022-06-11T00:42:08.119724Z",
     "iopub.status.busy": "2022-06-11T00:42:08.118718Z",
     "iopub.status.idle": "2022-06-11T00:42:08.147623Z",
     "shell.execute_reply": "2022-06-11T00:42:08.148272Z"
    },
    "papermill": {
     "duration": 0.080309,
     "end_time": "2022-06-11T00:42:08.148472",
     "exception": false,
     "start_time": "2022-06-11T00:42:08.068163",
     "status": "completed"
    },
    "tags": []
   },
   "outputs": [],
   "source": [
    "#hide\n",
    "dft_ct_new_cases = dft_cases.groupby(COL_REGION)[dt_cols].sum().diff(axis=1).fillna(0).astype(int)"
   ]
  },
  {
   "cell_type": "code",
   "execution_count": 19,
   "id": "neutral-assignment",
   "metadata": {
    "execution": {
     "iopub.execute_input": "2022-06-11T00:42:08.252543Z",
     "iopub.status.busy": "2022-06-11T00:42:08.251530Z",
     "iopub.status.idle": "2022-06-11T00:42:08.257771Z",
     "shell.execute_reply": "2022-06-11T00:42:08.258505Z"
    },
    "papermill": {
     "duration": 0.064105,
     "end_time": "2022-06-11T00:42:08.258670",
     "exception": false,
     "start_time": "2022-06-11T00:42:08.194565",
     "status": "completed"
    },
    "tags": []
   },
   "outputs": [],
   "source": [
    "#hide\n",
    "everydaycases = dft_ct_new_cases.cumsum(axis=1)"
   ]
  },
  {
   "cell_type": "code",
   "execution_count": 20,
   "id": "parliamentary-calgary",
   "metadata": {
    "execution": {
     "iopub.execute_input": "2022-06-11T00:42:08.359924Z",
     "iopub.status.busy": "2022-06-11T00:42:08.359089Z",
     "iopub.status.idle": "2022-06-11T00:42:09.085196Z",
     "shell.execute_reply": "2022-06-11T00:42:09.084534Z"
    },
    "papermill": {
     "duration": 0.773835,
     "end_time": "2022-06-11T00:42:09.085351",
     "exception": false,
     "start_time": "2022-06-11T00:42:08.311516",
     "status": "completed"
    },
    "tags": []
   },
   "outputs": [],
   "source": [
    "#hide\n",
    "import pandas as pd\n",
    "import matplotlib.pyplot as plt\n",
    "import matplotlib.ticker as ticker\n",
    "import matplotlib.animation as animation\n",
    "from IPython.display import HTML"
   ]
  },
  {
   "cell_type": "code",
   "execution_count": 21,
   "id": "lasting-extraction",
   "metadata": {
    "execution": {
     "iopub.execute_input": "2022-06-11T00:42:09.179937Z",
     "iopub.status.busy": "2022-06-11T00:42:09.178848Z",
     "iopub.status.idle": "2022-06-11T00:42:09.187079Z",
     "shell.execute_reply": "2022-06-11T00:42:09.186459Z"
    },
    "papermill": {
     "duration": 0.060336,
     "end_time": "2022-06-11T00:42:09.187356",
     "exception": false,
     "start_time": "2022-06-11T00:42:09.127020",
     "status": "completed"
    },
    "tags": []
   },
   "outputs": [],
   "source": [
    "#hide\n",
    "t = everydaycases.stack()"
   ]
  },
  {
   "cell_type": "code",
   "execution_count": 22,
   "id": "premier-sleeve",
   "metadata": {
    "execution": {
     "iopub.execute_input": "2022-06-11T00:42:09.289409Z",
     "iopub.status.busy": "2022-06-11T00:42:09.287698Z",
     "iopub.status.idle": "2022-06-11T00:42:09.304009Z",
     "shell.execute_reply": "2022-06-11T00:42:09.303291Z"
    },
    "papermill": {
     "duration": 0.069891,
     "end_time": "2022-06-11T00:42:09.304164",
     "exception": false,
     "start_time": "2022-06-11T00:42:09.234273",
     "status": "completed"
    },
    "tags": []
   },
   "outputs": [],
   "source": [
    "#hide\n",
    "g = t.reset_index(['Country/Region'])"
   ]
  },
  {
   "cell_type": "code",
   "execution_count": 23,
   "id": "distributed-pittsburgh",
   "metadata": {
    "execution": {
     "iopub.execute_input": "2022-06-11T00:42:09.403023Z",
     "iopub.status.busy": "2022-06-11T00:42:09.402253Z",
     "iopub.status.idle": "2022-06-11T00:42:09.405626Z",
     "shell.execute_reply": "2022-06-11T00:42:09.405023Z"
    },
    "papermill": {
     "duration": 0.050911,
     "end_time": "2022-06-11T00:42:09.405771",
     "exception": false,
     "start_time": "2022-06-11T00:42:09.354860",
     "status": "completed"
    },
    "tags": []
   },
   "outputs": [],
   "source": [
    "#hide\n",
    "g.index.name = 'date'"
   ]
  },
  {
   "cell_type": "code",
   "execution_count": 24,
   "id": "naked-donor",
   "metadata": {
    "execution": {
     "iopub.execute_input": "2022-06-11T00:42:09.521201Z",
     "iopub.status.busy": "2022-06-11T00:42:09.520405Z",
     "iopub.status.idle": "2022-06-11T00:42:09.523678Z",
     "shell.execute_reply": "2022-06-11T00:42:09.522893Z"
    },
    "papermill": {
     "duration": 0.067652,
     "end_time": "2022-06-11T00:42:09.523893",
     "exception": false,
     "start_time": "2022-06-11T00:42:09.456241",
     "status": "completed"
    },
    "tags": []
   },
   "outputs": [],
   "source": [
    "# #hide\n",
    "# g = g.reset_index(['date'])"
   ]
  },
  {
   "cell_type": "code",
   "execution_count": 25,
   "id": "incomplete-mustang",
   "metadata": {
    "execution": {
     "iopub.execute_input": "2022-06-11T00:42:09.612565Z",
     "iopub.status.busy": "2022-06-11T00:42:09.611656Z",
     "iopub.status.idle": "2022-06-11T00:42:09.615481Z",
     "shell.execute_reply": "2022-06-11T00:42:09.614596Z"
    },
    "papermill": {
     "duration": 0.050306,
     "end_time": "2022-06-11T00:42:09.615655",
     "exception": false,
     "start_time": "2022-06-11T00:42:09.565349",
     "status": "completed"
    },
    "tags": []
   },
   "outputs": [],
   "source": [
    "#hide\n",
    "# g.head()"
   ]
  },
  {
   "cell_type": "code",
   "execution_count": 26,
   "id": "specific-kruger",
   "metadata": {
    "execution": {
     "iopub.execute_input": "2022-06-11T00:42:09.706652Z",
     "iopub.status.busy": "2022-06-11T00:42:09.705846Z",
     "iopub.status.idle": "2022-06-11T00:42:09.709180Z",
     "shell.execute_reply": "2022-06-11T00:42:09.708544Z"
    },
    "papermill": {
     "duration": 0.049258,
     "end_time": "2022-06-11T00:42:09.709326",
     "exception": false,
     "start_time": "2022-06-11T00:42:09.660068",
     "status": "completed"
    },
    "tags": []
   },
   "outputs": [],
   "source": [
    "#hide\n",
    "# g.columns = ['date','country','cases']"
   ]
  },
  {
   "cell_type": "code",
   "execution_count": 27,
   "id": "tender-conversion",
   "metadata": {
    "execution": {
     "iopub.execute_input": "2022-06-11T00:42:09.795665Z",
     "iopub.status.busy": "2022-06-11T00:42:09.794834Z",
     "iopub.status.idle": "2022-06-11T00:42:09.799837Z",
     "shell.execute_reply": "2022-06-11T00:42:09.799185Z"
    },
    "papermill": {
     "duration": 0.050593,
     "end_time": "2022-06-11T00:42:09.799988",
     "exception": false,
     "start_time": "2022-06-11T00:42:09.749395",
     "status": "completed"
    },
    "tags": []
   },
   "outputs": [],
   "source": [
    "#hide\n",
    "# g['continent'] = g.country"
   ]
  },
  {
   "cell_type": "code",
   "execution_count": 28,
   "id": "substantial-wilderness",
   "metadata": {
    "execution": {
     "iopub.execute_input": "2022-06-11T00:42:09.890822Z",
     "iopub.status.busy": "2022-06-11T00:42:09.890011Z",
     "iopub.status.idle": "2022-06-11T00:42:09.894811Z",
     "shell.execute_reply": "2022-06-11T00:42:09.895412Z"
    },
    "papermill": {
     "duration": 0.052526,
     "end_time": "2022-06-11T00:42:09.895588",
     "exception": false,
     "start_time": "2022-06-11T00:42:09.843062",
     "status": "completed"
    },
    "tags": []
   },
   "outputs": [],
   "source": [
    "#hide\n",
    "# cols = list(g.columns.values)"
   ]
  },
  {
   "cell_type": "code",
   "execution_count": 29,
   "id": "solved-farming",
   "metadata": {
    "execution": {
     "iopub.execute_input": "2022-06-11T00:42:09.988189Z",
     "iopub.status.busy": "2022-06-11T00:42:09.987272Z",
     "iopub.status.idle": "2022-06-11T00:42:09.989819Z",
     "shell.execute_reply": "2022-06-11T00:42:09.990433Z"
    },
    "papermill": {
     "duration": 0.053015,
     "end_time": "2022-06-11T00:42:09.990617",
     "exception": false,
     "start_time": "2022-06-11T00:42:09.937602",
     "status": "completed"
    },
    "tags": []
   },
   "outputs": [],
   "source": [
    "#hide\n",
    "# cols.insert(0, cols.pop())"
   ]
  },
  {
   "cell_type": "code",
   "execution_count": 30,
   "id": "executed-adoption",
   "metadata": {
    "execution": {
     "iopub.execute_input": "2022-06-11T00:42:10.081591Z",
     "iopub.status.busy": "2022-06-11T00:42:10.080798Z",
     "iopub.status.idle": "2022-06-11T00:42:10.083800Z",
     "shell.execute_reply": "2022-06-11T00:42:10.083133Z"
    },
    "papermill": {
     "duration": 0.048763,
     "end_time": "2022-06-11T00:42:10.083947",
     "exception": false,
     "start_time": "2022-06-11T00:42:10.035184",
     "status": "completed"
    },
    "tags": []
   },
   "outputs": [],
   "source": [
    "#hide\n",
    "# g = g[cols]"
   ]
  },
  {
   "cell_type": "code",
   "execution_count": 31,
   "id": "subject-dublin",
   "metadata": {
    "execution": {
     "iopub.execute_input": "2022-06-11T00:42:10.175097Z",
     "iopub.status.busy": "2022-06-11T00:42:10.174104Z",
     "iopub.status.idle": "2022-06-11T00:42:10.176654Z",
     "shell.execute_reply": "2022-06-11T00:42:10.177361Z"
    },
    "papermill": {
     "duration": 0.053259,
     "end_time": "2022-06-11T00:42:10.177570",
     "exception": false,
     "start_time": "2022-06-11T00:42:10.124311",
     "status": "completed"
    },
    "tags": []
   },
   "outputs": [],
   "source": [
    "#hide\n",
    "# g['continent'] = g['continent'].map(mapping['map.continent'])"
   ]
  },
  {
   "cell_type": "code",
   "execution_count": 32,
   "id": "freelance-scout",
   "metadata": {
    "execution": {
     "iopub.execute_input": "2022-06-11T00:42:10.271369Z",
     "iopub.status.busy": "2022-06-11T00:42:10.270582Z",
     "iopub.status.idle": "2022-06-11T00:42:10.276327Z",
     "shell.execute_reply": "2022-06-11T00:42:10.275713Z"
    },
    "papermill": {
     "duration": 0.05751,
     "end_time": "2022-06-11T00:42:10.276481",
     "exception": false,
     "start_time": "2022-06-11T00:42:10.218971",
     "status": "completed"
    },
    "tags": []
   },
   "outputs": [],
   "source": [
    "#hide\n",
    "# g.head()"
   ]
  },
  {
   "cell_type": "code",
   "execution_count": 33,
   "id": "limited-engine",
   "metadata": {
    "execution": {
     "iopub.execute_input": "2022-06-11T00:42:10.366004Z",
     "iopub.status.busy": "2022-06-11T00:42:10.365222Z",
     "iopub.status.idle": "2022-06-11T00:42:10.368930Z",
     "shell.execute_reply": "2022-06-11T00:42:10.368290Z"
    },
    "papermill": {
     "duration": 0.050842,
     "end_time": "2022-06-11T00:42:10.369080",
     "exception": false,
     "start_time": "2022-06-11T00:42:10.318238",
     "status": "completed"
    },
    "tags": []
   },
   "outputs": [],
   "source": [
    "# hide\n",
    "# g['date'] = g['date'].astype('datetime64[ns]')"
   ]
  },
  {
   "cell_type": "code",
   "execution_count": 34,
   "id": "sophisticated-supervisor",
   "metadata": {
    "execution": {
     "iopub.execute_input": "2022-06-11T00:42:10.459606Z",
     "iopub.status.busy": "2022-06-11T00:42:10.458828Z",
     "iopub.status.idle": "2022-06-11T00:42:10.462202Z",
     "shell.execute_reply": "2022-06-11T00:42:10.461542Z"
    },
    "papermill": {
     "duration": 0.050451,
     "end_time": "2022-06-11T00:42:10.462342",
     "exception": false,
     "start_time": "2022-06-11T00:42:10.411891",
     "status": "completed"
    },
    "tags": []
   },
   "outputs": [],
   "source": [
    "#hide\n",
    "# g['date'] = g.date.dt.dayofyear"
   ]
  },
  {
   "cell_type": "code",
   "execution_count": 35,
   "id": "inside-dubai",
   "metadata": {
    "execution": {
     "iopub.execute_input": "2022-06-11T00:42:10.562261Z",
     "iopub.status.busy": "2022-06-11T00:42:10.561467Z",
     "iopub.status.idle": "2022-06-11T00:42:10.564889Z",
     "shell.execute_reply": "2022-06-11T00:42:10.564163Z"
    },
    "papermill": {
     "duration": 0.04885,
     "end_time": "2022-06-11T00:42:10.565033",
     "exception": false,
     "start_time": "2022-06-11T00:42:10.516183",
     "status": "completed"
    },
    "tags": []
   },
   "outputs": [],
   "source": [
    "#hide\n",
    "# g = g.rename(columns= {'continent':'group','country':'name','cases':'value'})"
   ]
  },
  {
   "cell_type": "code",
   "execution_count": 36,
   "id": "fleet-motorcycle",
   "metadata": {
    "execution": {
     "iopub.execute_input": "2022-06-11T00:42:10.662582Z",
     "iopub.status.busy": "2022-06-11T00:42:10.661805Z",
     "iopub.status.idle": "2022-06-11T00:42:10.665608Z",
     "shell.execute_reply": "2022-06-11T00:42:10.664597Z"
    },
    "papermill": {
     "duration": 0.048593,
     "end_time": "2022-06-11T00:42:10.665751",
     "exception": false,
     "start_time": "2022-06-11T00:42:10.617158",
     "status": "completed"
    },
    "tags": []
   },
   "outputs": [],
   "source": [
    "#hide\n",
    "# cols = ['name','group','day','value']"
   ]
  },
  {
   "cell_type": "code",
   "execution_count": 37,
   "id": "continued-sleeping",
   "metadata": {
    "execution": {
     "iopub.execute_input": "2022-06-11T00:42:10.758687Z",
     "iopub.status.busy": "2022-06-11T00:42:10.757916Z",
     "iopub.status.idle": "2022-06-11T00:42:10.761820Z",
     "shell.execute_reply": "2022-06-11T00:42:10.761167Z"
    },
    "papermill": {
     "duration": 0.052343,
     "end_time": "2022-06-11T00:42:10.761965",
     "exception": false,
     "start_time": "2022-06-11T00:42:10.709622",
     "status": "completed"
    },
    "tags": []
   },
   "outputs": [],
   "source": [
    "#hide\n",
    "# g.rename(columns= {'date':'day'},inplace = True)"
   ]
  },
  {
   "cell_type": "code",
   "execution_count": 38,
   "id": "major-fight",
   "metadata": {
    "execution": {
     "iopub.execute_input": "2022-06-11T00:42:10.857543Z",
     "iopub.status.busy": "2022-06-11T00:42:10.856511Z",
     "iopub.status.idle": "2022-06-11T00:42:10.859614Z",
     "shell.execute_reply": "2022-06-11T00:42:10.860432Z"
    },
    "papermill": {
     "duration": 0.054617,
     "end_time": "2022-06-11T00:42:10.860600",
     "exception": false,
     "start_time": "2022-06-11T00:42:10.805983",
     "status": "completed"
    },
    "tags": []
   },
   "outputs": [],
   "source": [
    "#hide\n",
    "# g = g[cols]"
   ]
  },
  {
   "cell_type": "code",
   "execution_count": 39,
   "id": "structured-mobile",
   "metadata": {
    "execution": {
     "iopub.execute_input": "2022-06-11T00:42:10.957357Z",
     "iopub.status.busy": "2022-06-11T00:42:10.956400Z",
     "iopub.status.idle": "2022-06-11T00:42:10.959310Z",
     "shell.execute_reply": "2022-06-11T00:42:10.959966Z"
    },
    "papermill": {
     "duration": 0.056052,
     "end_time": "2022-06-11T00:42:10.960139",
     "exception": false,
     "start_time": "2022-06-11T00:42:10.904087",
     "status": "completed"
    },
    "tags": []
   },
   "outputs": [],
   "source": [
    "# #hide\n",
    "# g = g[g.group.notna()]"
   ]
  },
  {
   "cell_type": "code",
   "execution_count": 40,
   "id": "determined-closing",
   "metadata": {
    "execution": {
     "iopub.execute_input": "2022-06-11T00:42:11.052295Z",
     "iopub.status.busy": "2022-06-11T00:42:11.051312Z",
     "iopub.status.idle": "2022-06-11T00:42:11.054789Z",
     "shell.execute_reply": "2022-06-11T00:42:11.053920Z"
    },
    "papermill": {
     "duration": 0.051741,
     "end_time": "2022-06-11T00:42:11.054944",
     "exception": false,
     "start_time": "2022-06-11T00:42:11.003203",
     "status": "completed"
    },
    "tags": []
   },
   "outputs": [],
   "source": [
    "# #hide\n",
    "# colors = dict(zip(\n",
    "#     [\"Oceania\", \"Europe\", \"Asia\", \"South America\", \"Middle East\", \"North America\", \"Africa\"],\n",
    "#     [\"#adb0ff\", \"#ffb3ff\", \"#90d595\", \"#e48381\", \"#aafbff\", \"#f7bb5f\", \"#eafb50\"]\n",
    "# ))\n",
    "# group_lk = g.set_index('name')['group'].to_dict()"
   ]
  },
  {
   "cell_type": "code",
   "execution_count": null,
   "id": "gross-drinking",
   "metadata": {
    "papermill": {
     "duration": 0.043642,
     "end_time": "2022-06-11T00:42:11.142988",
     "exception": false,
     "start_time": "2022-06-11T00:42:11.099346",
     "status": "completed"
    },
    "tags": []
   },
   "outputs": [],
   "source": []
  },
  {
   "cell_type": "code",
   "execution_count": 41,
   "id": "subject-macintosh",
   "metadata": {
    "execution": {
     "iopub.execute_input": "2022-06-11T00:42:11.239229Z",
     "iopub.status.busy": "2022-06-11T00:42:11.238275Z",
     "iopub.status.idle": "2022-06-11T00:42:11.241291Z",
     "shell.execute_reply": "2022-06-11T00:42:11.242394Z"
    },
    "papermill": {
     "duration": 0.054787,
     "end_time": "2022-06-11T00:42:11.242569",
     "exception": false,
     "start_time": "2022-06-11T00:42:11.187782",
     "status": "completed"
    },
    "tags": []
   },
   "outputs": [],
   "source": [
    "# #hide\n",
    "# fig, ax = plt.subplots(figsize=(15, 8))\n",
    "\n",
    "# def draw_barchart(current_day):\n",
    "#     dff = g[g['day'].eq(current_day)].sort_values(by='value', ascending=True).tail(10)\n",
    "#     ax.clear()\n",
    "#     ax.barh(dff['name'], dff['value'], color=[colors[group_lk[x]] for x in dff['name']])\n",
    "#     dx = dff['value'].max() / 200\n",
    "    \n",
    "#     for i, (value, name) in enumerate(zip(dff['value'], dff['name'])):\n",
    "#         ax.text(value-dx, i,     name,           size=14, weight=600, ha='right', va='bottom')\n",
    "#         ax.text(value-dx, i-.25, group_lk[name], size=10, color='#444444', ha='right', va='baseline')\n",
    "#         ax.text(value+dx, i,     f'{value:,.0f}',  size=14, ha='left',  va='center')\n",
    "#     ax.text(1, 0.4, current_day, transform=ax.transAxes, color='#777777', size=46, ha='right', weight=800)\n",
    "#     ax.text(0, 1.06, 'Population (thousands)', transform=ax.transAxes, size=12, color='#777777')\n",
    "#     ax.xaxis.set_major_formatter(ticker.StrMethodFormatter('{x:,.0f}'))\n",
    "#     ax.xaxis.set_ticks_position('top')\n",
    "#     ax.tick_params(axis='x', colors='#777777', labelsize=12)\n",
    "#     ax.set_yticks([])\n",
    "#     ax.margins(0, 0.01)\n",
    "#     ax.grid(which='major', axis='x', linestyle='-')\n",
    "#     ax.set_axisbelow(True)\n",
    "    \n",
    "#     ax.text(0, 1.15, 'Coronavirus',\n",
    "#             transform=ax.transAxes, size=24, weight=600, ha='left', va='top')\n",
    "# #     ax.text(1, 0, 'by @pratapvardhan; credit @jburnmurdoch', transform=ax.transAxes, color='#777777', ha='right',\n",
    "# #             bbox=dict(facecolor='white', alpha=0.8, edgecolor='white'))\n",
    "#     plt.box(False)"
   ]
  },
  {
   "cell_type": "code",
   "execution_count": 42,
   "id": "sexual-wages",
   "metadata": {
    "execution": {
     "iopub.execute_input": "2022-06-11T00:42:11.329553Z",
     "iopub.status.busy": "2022-06-11T00:42:11.328772Z",
     "iopub.status.idle": "2022-06-11T00:42:11.333831Z",
     "shell.execute_reply": "2022-06-11T00:42:11.333233Z"
    },
    "papermill": {
     "duration": 0.050086,
     "end_time": "2022-06-11T00:42:11.333987",
     "exception": false,
     "start_time": "2022-06-11T00:42:11.283901",
     "status": "completed"
    },
    "tags": []
   },
   "outputs": [],
   "source": [
    "# #hide_input\n",
    "# fig, ax = plt.subplots(figsize=(15, 8))\n",
    "# animator = animation.FuncAnimation(fig, draw_barchart, frames=range(g.day.values.min(), g.day.values.max()))\n",
    "# HTML(animator.to_jshtml())\n",
    "# # or use animator.to_html5_video() or animator.save() "
   ]
  },
  {
   "cell_type": "code",
   "execution_count": null,
   "id": "australian-container",
   "metadata": {
    "papermill": {
     "duration": 0.044088,
     "end_time": "2022-06-11T00:42:11.418412",
     "exception": false,
     "start_time": "2022-06-11T00:42:11.374324",
     "status": "completed"
    },
    "tags": []
   },
   "outputs": [],
   "source": []
  },
  {
   "cell_type": "code",
   "execution_count": null,
   "id": "mediterranean-pontiac",
   "metadata": {
    "papermill": {
     "duration": 0.043683,
     "end_time": "2022-06-11T00:42:11.504573",
     "exception": false,
     "start_time": "2022-06-11T00:42:11.460890",
     "status": "completed"
    },
    "tags": []
   },
   "outputs": [],
   "source": []
  },
  {
   "cell_type": "code",
   "execution_count": null,
   "id": "aging-legislature",
   "metadata": {
    "papermill": {
     "duration": 0.047747,
     "end_time": "2022-06-11T00:42:11.594849",
     "exception": false,
     "start_time": "2022-06-11T00:42:11.547102",
     "status": "completed"
    },
    "tags": []
   },
   "outputs": [],
   "source": []
  }
 ],
 "metadata": {
  "kernelspec": {
   "display_name": "Python 3",
   "language": "python",
   "name": "python3"
  },
  "language_info": {
   "codemirror_mode": {
    "name": "ipython",
    "version": 3
   },
   "file_extension": ".py",
   "mimetype": "text/x-python",
   "name": "python",
   "nbconvert_exporter": "python",
   "pygments_lexer": "ipython3",
   "version": "3.6.15"
  },
  "papermill": {
   "duration": 8.063662,
   "end_time": "2022-06-11T00:42:12.069090",
   "environment_variables": {},
   "exception": null,
   "input_path": "2020-03-21-covid19exp.ipynb",
   "output_path": "2020-03-21-covid19exp.ipynb",
   "parameters": {},
   "start_time": "2022-06-11T00:42:04.005428",
   "version": "2.0.0"
  }
 },
 "nbformat": 4,
 "nbformat_minor": 5
}