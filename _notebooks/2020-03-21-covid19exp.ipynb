{
 "cells": [
  {
   "cell_type": "markdown",
   "id": "muslim-click",
   "metadata": {
    "papermill": {
     "duration": 0.039073,
     "end_time": "2021-02-28T00:11:30.896403",
     "exception": false,
     "start_time": "2021-02-28T00:11:30.857330",
     "status": "completed"
    },
    "tags": []
   },
   "source": [
    "# COVID-19 Case Race\n",
    "> A race chart to see rising cases around the world\n",
    "\n",
    "- author: Hargun Oberoi\n",
    "- image: images/covid-overview.png\n",
    "- hide: false\n",
    "- badges: false"
   ]
  },
  {
   "cell_type": "code",
   "execution_count": 1,
   "id": "proof-material",
   "metadata": {
    "execution": {
     "iopub.execute_input": "2021-02-28T00:11:30.973381Z",
     "iopub.status.busy": "2021-02-28T00:11:30.972748Z",
     "iopub.status.idle": "2021-02-28T00:11:31.299924Z",
     "shell.execute_reply": "2021-02-28T00:11:31.298503Z"
    },
    "papermill": {
     "duration": 0.371475,
     "end_time": "2021-02-28T00:11:31.300163",
     "exception": false,
     "start_time": "2021-02-28T00:11:30.928688",
     "status": "completed"
    },
    "tags": []
   },
   "outputs": [],
   "source": [
    "#hide\n",
    "import numpy as np\n",
    "import pandas as pd\n",
    "from jinja2 import Template\n",
    "from IPython.display import HTML"
   ]
  },
  {
   "cell_type": "code",
   "execution_count": 2,
   "id": "developed-terminology",
   "metadata": {
    "execution": {
     "iopub.execute_input": "2021-02-28T00:11:31.372018Z",
     "iopub.status.busy": "2021-02-28T00:11:31.370985Z",
     "iopub.status.idle": "2021-02-28T00:11:31.373083Z",
     "shell.execute_reply": "2021-02-28T00:11:31.373880Z"
    },
    "papermill": {
     "duration": 0.04088,
     "end_time": "2021-02-28T00:11:31.374106",
     "exception": false,
     "start_time": "2021-02-28T00:11:31.333226",
     "status": "completed"
    },
    "tags": []
   },
   "outputs": [],
   "source": [
    "#hide\n",
    "\n",
    "# FETCH\n",
    "base_url = 'https://raw.githubusercontent.com/pratapvardhan/notebooks/master/covid19/'\n",
    "paths = {\n",
    "    'mapping': base_url + 'mapping_countries.csv',\n",
    "    'overview': base_url + 'overview.tpl'\n",
    "}"
   ]
  },
  {
   "cell_type": "code",
   "execution_count": 3,
   "id": "dynamic-saver",
   "metadata": {
    "execution": {
     "iopub.execute_input": "2021-02-28T00:11:31.442657Z",
     "iopub.status.busy": "2021-02-28T00:11:31.442026Z",
     "iopub.status.idle": "2021-02-28T00:11:31.445324Z",
     "shell.execute_reply": "2021-02-28T00:11:31.445776Z"
    },
    "papermill": {
     "duration": 0.042395,
     "end_time": "2021-02-28T00:11:31.445889",
     "exception": false,
     "start_time": "2021-02-28T00:11:31.403494",
     "status": "completed"
    },
    "tags": []
   },
   "outputs": [
    {
     "data": {
      "text/plain": [
       "'https://raw.githubusercontent.com/pratapvardhan/notebooks/master/covid19/mapping_countries.csv'"
      ]
     },
     "execution_count": 3,
     "metadata": {},
     "output_type": "execute_result"
    }
   ],
   "source": [
    "#hide\n",
    "paths['mapping']"
   ]
  },
  {
   "cell_type": "code",
   "execution_count": 4,
   "id": "urban-software",
   "metadata": {
    "execution": {
     "iopub.execute_input": "2021-02-28T00:11:31.512981Z",
     "iopub.status.busy": "2021-02-28T00:11:31.512014Z",
     "iopub.status.idle": "2021-02-28T00:11:31.513981Z",
     "shell.execute_reply": "2021-02-28T00:11:31.514779Z"
    },
    "papermill": {
     "duration": 0.039327,
     "end_time": "2021-02-28T00:11:31.514988",
     "exception": false,
     "start_time": "2021-02-28T00:11:31.475661",
     "status": "completed"
    },
    "tags": []
   },
   "outputs": [],
   "source": [
    "#hide\n",
    "def get_mappings(url):\n",
    "    df = pd.read_csv(url)\n",
    "    return {\n",
    "        'df': df,\n",
    "        'replace.country': dict(df.dropna(subset=['Name']).set_index('Country')['Name']),\n",
    "        'map.continent': dict(df.set_index('Name')['Continent'])\n",
    "    }"
   ]
  },
  {
   "cell_type": "code",
   "execution_count": 5,
   "id": "intimate-machinery",
   "metadata": {
    "execution": {
     "iopub.execute_input": "2021-02-28T00:11:31.583008Z",
     "iopub.status.busy": "2021-02-28T00:11:31.582382Z",
     "iopub.status.idle": "2021-02-28T00:11:31.640627Z",
     "shell.execute_reply": "2021-02-28T00:11:31.639682Z"
    },
    "papermill": {
     "duration": 0.096724,
     "end_time": "2021-02-28T00:11:31.640823",
     "exception": false,
     "start_time": "2021-02-28T00:11:31.544099",
     "status": "completed"
    },
    "tags": []
   },
   "outputs": [],
   "source": [
    "#hide\n",
    "mapping = get_mappings(paths['mapping'])"
   ]
  },
  {
   "cell_type": "code",
   "execution_count": 6,
   "id": "certified-tactics",
   "metadata": {
    "execution": {
     "iopub.execute_input": "2021-02-28T00:11:31.709257Z",
     "iopub.status.busy": "2021-02-28T00:11:31.708668Z",
     "iopub.status.idle": "2021-02-28T00:11:31.711314Z",
     "shell.execute_reply": "2021-02-28T00:11:31.710846Z"
    },
    "papermill": {
     "duration": 0.036399,
     "end_time": "2021-02-28T00:11:31.711434",
     "exception": false,
     "start_time": "2021-02-28T00:11:31.675035",
     "status": "completed"
    },
    "tags": []
   },
   "outputs": [],
   "source": [
    "#hide\n",
    "def get_template(path):\n",
    "    from urllib.parse import urlparse\n",
    "    if bool(urlparse(path).netloc):\n",
    "        from urllib.request import urlopen\n",
    "        return urlopen(path).read().decode('utf8')\n",
    "    return open(path).read()"
   ]
  },
  {
   "cell_type": "code",
   "execution_count": 7,
   "id": "realistic-blast",
   "metadata": {
    "execution": {
     "iopub.execute_input": "2021-02-28T00:11:31.779552Z",
     "iopub.status.busy": "2021-02-28T00:11:31.778968Z",
     "iopub.status.idle": "2021-02-28T00:11:31.782034Z",
     "shell.execute_reply": "2021-02-28T00:11:31.781556Z"
    },
    "papermill": {
     "duration": 0.038547,
     "end_time": "2021-02-28T00:11:31.782155",
     "exception": false,
     "start_time": "2021-02-28T00:11:31.743608",
     "status": "completed"
    },
    "tags": []
   },
   "outputs": [],
   "source": [
    "#hide\n",
    "def get_frame(name):\n",
    "    url = (\n",
    "        'https://raw.githubusercontent.com/CSSEGISandData/COVID-19/master/csse_covid_19_data/'\n",
    "        f'csse_covid_19_time_series/time_series_covid19_{name}_global.csv')\n",
    "    df = pd.read_csv(url)\n",
    "    # rename countries\n",
    "    df['Country/Region'] = df['Country/Region'].replace(mapping['replace.country'])\n",
    "    return df"
   ]
  },
  {
   "cell_type": "code",
   "execution_count": 8,
   "id": "affiliated-characterization",
   "metadata": {
    "execution": {
     "iopub.execute_input": "2021-02-28T00:11:31.844897Z",
     "iopub.status.busy": "2021-02-28T00:11:31.844419Z",
     "iopub.status.idle": "2021-02-28T00:11:31.846734Z",
     "shell.execute_reply": "2021-02-28T00:11:31.847249Z"
    },
    "papermill": {
     "duration": 0.035806,
     "end_time": "2021-02-28T00:11:31.847371",
     "exception": false,
     "start_time": "2021-02-28T00:11:31.811565",
     "status": "completed"
    },
    "tags": []
   },
   "outputs": [],
   "source": [
    "#hide\n",
    "def get_dates(df):\n",
    "    dt_cols = df.columns[~df.columns.isin(['Province/State', 'Country/Region', 'Lat', 'Long'])]\n",
    "    LAST_DATE_I = -1\n",
    "    # sometimes last column may be empty, then go backwards\n",
    "    for i in range(-1, -len(dt_cols), -1):\n",
    "        if not df[dt_cols[i]].fillna(0).eq(0).all():\n",
    "            LAST_DATE_I = i\n",
    "            break\n",
    "    return LAST_DATE_I, dt_cols"
   ]
  },
  {
   "cell_type": "code",
   "execution_count": 9,
   "id": "recent-optimization",
   "metadata": {
    "execution": {
     "iopub.execute_input": "2021-02-28T00:11:31.909308Z",
     "iopub.status.busy": "2021-02-28T00:11:31.908770Z",
     "iopub.status.idle": "2021-02-28T00:11:32.385202Z",
     "shell.execute_reply": "2021-02-28T00:11:32.383790Z"
    },
    "papermill": {
     "duration": 0.508629,
     "end_time": "2021-02-28T00:11:32.385427",
     "exception": false,
     "start_time": "2021-02-28T00:11:31.876798",
     "status": "completed"
    },
    "tags": []
   },
   "outputs": [],
   "source": [
    "#hide\n",
    "COL_REGION = 'Country/Region'\n",
    "# Confirmed, Recovered, Deaths\n",
    "df = get_frame('confirmed')\n",
    "# dft_: timeseries, dfc_: today country agg\n",
    "dft_cases = df\n",
    "dft_deaths = get_frame('deaths')\n",
    "dft_recovered = get_frame('recovered')\n",
    "LAST_DATE_I, dt_cols = get_dates(df)"
   ]
  },
  {
   "cell_type": "code",
   "execution_count": 10,
   "id": "absolute-copper",
   "metadata": {
    "execution": {
     "iopub.execute_input": "2021-02-28T00:11:32.456944Z",
     "iopub.status.busy": "2021-02-28T00:11:32.455915Z",
     "iopub.status.idle": "2021-02-28T00:11:32.458017Z",
     "shell.execute_reply": "2021-02-28T00:11:32.458884Z"
    },
    "papermill": {
     "duration": 0.040238,
     "end_time": "2021-02-28T00:11:32.459115",
     "exception": false,
     "start_time": "2021-02-28T00:11:32.418877",
     "status": "completed"
    },
    "tags": []
   },
   "outputs": [],
   "source": [
    "#hide\n",
    "LAST_DATE_I, dt_cols = get_dates(df)\n",
    "dt_today =dt_cols[LAST_DATE_I]\n",
    "# dt_5day = dt_cols[LAST_DATE_I - 5]\n",
    "dt_yday = dt_cols[LAST_DATE_I - 1]"
   ]
  },
  {
   "cell_type": "code",
   "execution_count": 11,
   "id": "restricted-sheriff",
   "metadata": {
    "execution": {
     "iopub.execute_input": "2021-02-28T00:11:32.523537Z",
     "iopub.status.busy": "2021-02-28T00:11:32.520106Z",
     "iopub.status.idle": "2021-02-28T00:11:32.529671Z",
     "shell.execute_reply": "2021-02-28T00:11:32.529181Z"
    },
    "papermill": {
     "duration": 0.042788,
     "end_time": "2021-02-28T00:11:32.529781",
     "exception": false,
     "start_time": "2021-02-28T00:11:32.486993",
     "status": "completed"
    },
    "tags": []
   },
   "outputs": [],
   "source": [
    "#hide\n",
    "dfc_cases = dft_cases.groupby(COL_REGION)[dt_today].sum()\n",
    "dfc_deaths = dft_deaths.groupby(COL_REGION)[dt_today].sum()\n",
    "# dfp_cases = dft_cases.groupby(COL_REGION)[dt_5day].sum()\n",
    "# dfp_deaths = dft_deaths.groupby(COL_REGION)[dt_5day].sum()\n",
    "dfp_cases = dft_cases.groupby(COL_REGION)[dt_yday].sum()\n",
    "dfp_deaths = dft_deaths.groupby(COL_REGION)[dt_yday].sum()"
   ]
  },
  {
   "cell_type": "code",
   "execution_count": 12,
   "id": "deluxe-hepatitis",
   "metadata": {
    "execution": {
     "iopub.execute_input": "2021-02-28T00:11:32.599279Z",
     "iopub.status.busy": "2021-02-28T00:11:32.598700Z",
     "iopub.status.idle": "2021-02-28T00:11:32.604178Z",
     "shell.execute_reply": "2021-02-28T00:11:32.603716Z"
    },
    "papermill": {
     "duration": 0.043435,
     "end_time": "2021-02-28T00:11:32.604287",
     "exception": false,
     "start_time": "2021-02-28T00:11:32.560852",
     "status": "completed"
    },
    "tags": []
   },
   "outputs": [],
   "source": [
    "#hide\n",
    "df_table = (pd.DataFrame(dict(Cases = dfc_cases, Deaths = dfc_deaths, PCases = dfp_cases, PDeaths = dfp_deaths))\n",
    "            .sort_values(by = ['Cases','Deaths'], ascending = [False, False])\n",
    "            .reset_index())"
   ]
  },
  {
   "cell_type": "code",
   "execution_count": 13,
   "id": "educational-chancellor",
   "metadata": {
    "execution": {
     "iopub.execute_input": "2021-02-28T00:11:32.671464Z",
     "iopub.status.busy": "2021-02-28T00:11:32.666281Z",
     "iopub.status.idle": "2021-02-28T00:11:32.689489Z",
     "shell.execute_reply": "2021-02-28T00:11:32.689954Z"
    },
    "papermill": {
     "duration": 0.05666,
     "end_time": "2021-02-28T00:11:32.690106",
     "exception": false,
     "start_time": "2021-02-28T00:11:32.633446",
     "status": "completed"
    },
    "tags": []
   },
   "outputs": [
    {
     "data": {
      "text/html": [
       "<div>\n",
       "<style scoped>\n",
       "    .dataframe tbody tr th:only-of-type {\n",
       "        vertical-align: middle;\n",
       "    }\n",
       "\n",
       "    .dataframe tbody tr th {\n",
       "        vertical-align: top;\n",
       "    }\n",
       "\n",
       "    .dataframe thead th {\n",
       "        text-align: right;\n",
       "    }\n",
       "</style>\n",
       "<table border=\"1\" class=\"dataframe\">\n",
       "  <thead>\n",
       "    <tr style=\"text-align: right;\">\n",
       "      <th></th>\n",
       "      <th>Country/Region</th>\n",
       "      <th>Cases</th>\n",
       "      <th>Deaths</th>\n",
       "      <th>PCases</th>\n",
       "      <th>PDeaths</th>\n",
       "      <th>Cases (+)</th>\n",
       "      <th>Deaths (+)</th>\n",
       "      <th>Fatality Rate</th>\n",
       "      <th>Continent</th>\n",
       "    </tr>\n",
       "  </thead>\n",
       "  <tbody>\n",
       "    <tr>\n",
       "      <th>0</th>\n",
       "      <td>US</td>\n",
       "      <td>28486394</td>\n",
       "      <td>510458</td>\n",
       "      <td>28413388</td>\n",
       "      <td>508307</td>\n",
       "      <td>73006</td>\n",
       "      <td>2151</td>\n",
       "      <td>1.79</td>\n",
       "      <td>North America</td>\n",
       "    </tr>\n",
       "    <tr>\n",
       "      <th>1</th>\n",
       "      <td>India</td>\n",
       "      <td>11079979</td>\n",
       "      <td>156938</td>\n",
       "      <td>11063491</td>\n",
       "      <td>156825</td>\n",
       "      <td>16488</td>\n",
       "      <td>113</td>\n",
       "      <td>1.42</td>\n",
       "      <td>Asia</td>\n",
       "    </tr>\n",
       "    <tr>\n",
       "      <th>2</th>\n",
       "      <td>Brazil</td>\n",
       "      <td>10455630</td>\n",
       "      <td>252835</td>\n",
       "      <td>10390461</td>\n",
       "      <td>251498</td>\n",
       "      <td>65169</td>\n",
       "      <td>1337</td>\n",
       "      <td>2.42</td>\n",
       "      <td>South America</td>\n",
       "    </tr>\n",
       "    <tr>\n",
       "      <th>3</th>\n",
       "      <td>Russia</td>\n",
       "      <td>4175757</td>\n",
       "      <td>83900</td>\n",
       "      <td>4164802</td>\n",
       "      <td>83481</td>\n",
       "      <td>10955</td>\n",
       "      <td>419</td>\n",
       "      <td>2.01</td>\n",
       "      <td>Europe</td>\n",
       "    </tr>\n",
       "    <tr>\n",
       "      <th>4</th>\n",
       "      <td>United Kingdom</td>\n",
       "      <td>4175315</td>\n",
       "      <td>122648</td>\n",
       "      <td>4166727</td>\n",
       "      <td>122303</td>\n",
       "      <td>8588</td>\n",
       "      <td>345</td>\n",
       "      <td>2.94</td>\n",
       "      <td>Europe</td>\n",
       "    </tr>\n",
       "  </tbody>\n",
       "</table>\n",
       "</div>"
      ],
      "text/plain": [
       "   Country/Region     Cases  Deaths    PCases  PDeaths  Cases (+)  Deaths (+)  \\\n",
       "0              US  28486394  510458  28413388   508307      73006        2151   \n",
       "1           India  11079979  156938  11063491   156825      16488         113   \n",
       "2          Brazil  10455630  252835  10390461   251498      65169        1337   \n",
       "3          Russia   4175757   83900   4164802    83481      10955         419   \n",
       "4  United Kingdom   4175315  122648   4166727   122303       8588         345   \n",
       "\n",
       "   Fatality Rate      Continent  \n",
       "0           1.79  North America  \n",
       "1           1.42           Asia  \n",
       "2           2.42  South America  \n",
       "3           2.01         Europe  \n",
       "4           2.94         Europe  "
      ]
     },
     "execution_count": 13,
     "metadata": {},
     "output_type": "execute_result"
    }
   ],
   "source": [
    "#hide\n",
    "for c in 'Cases, Deaths'.split(', '):\n",
    "    df_table[f'{c} (+)'] = (df_table[c] - df_table[f'P{c}']).clip(0)\n",
    "    #Clip ça veut dire, les chiffres negatif sont interdit\n",
    "df_table['Fatality Rate'] = (100* df_table['Deaths']/ df_table['Cases']).round(2)\n",
    "df_table['Continent'] = df_table['Country/Region'].map(mapping['map.continent'])\n",
    "df_table.head(5)"
   ]
  },
  {
   "cell_type": "code",
   "execution_count": 14,
   "id": "aboriginal-bulgaria",
   "metadata": {
    "execution": {
     "iopub.execute_input": "2021-02-28T00:11:32.754738Z",
     "iopub.status.busy": "2021-02-28T00:11:32.754259Z",
     "iopub.status.idle": "2021-02-28T00:11:32.756714Z",
     "shell.execute_reply": "2021-02-28T00:11:32.757094Z"
    },
    "papermill": {
     "duration": 0.037964,
     "end_time": "2021-02-28T00:11:32.757204",
     "exception": false,
     "start_time": "2021-02-28T00:11:32.719240",
     "status": "completed"
    },
    "tags": []
   },
   "outputs": [],
   "source": [
    "#hide\n",
    "#delete problematic countries from table\n",
    "df_table = df_table[~df_table['Country/Region'].isin(['Cape Verde', 'Cruise Ship', 'Kosovo'])]"
   ]
  },
  {
   "cell_type": "code",
   "execution_count": 15,
   "id": "fantastic-effect",
   "metadata": {
    "execution": {
     "iopub.execute_input": "2021-02-28T00:11:32.829042Z",
     "iopub.status.busy": "2021-02-28T00:11:32.828566Z",
     "iopub.status.idle": "2021-02-28T00:11:32.844323Z",
     "shell.execute_reply": "2021-02-28T00:11:32.844821Z"
    },
    "papermill": {
     "duration": 0.057845,
     "end_time": "2021-02-28T00:11:32.844951",
     "exception": false,
     "start_time": "2021-02-28T00:11:32.787106",
     "status": "completed"
    },
    "tags": []
   },
   "outputs": [
    {
     "data": {
      "text/html": [
       "<div>\n",
       "<style scoped>\n",
       "    .dataframe tbody tr th:only-of-type {\n",
       "        vertical-align: middle;\n",
       "    }\n",
       "\n",
       "    .dataframe tbody tr th {\n",
       "        vertical-align: top;\n",
       "    }\n",
       "\n",
       "    .dataframe thead th {\n",
       "        text-align: right;\n",
       "    }\n",
       "</style>\n",
       "<table border=\"1\" class=\"dataframe\">\n",
       "  <thead>\n",
       "    <tr style=\"text-align: right;\">\n",
       "      <th></th>\n",
       "      <th>Country/Region</th>\n",
       "      <th>Cases</th>\n",
       "      <th>Deaths</th>\n",
       "      <th>PCases</th>\n",
       "      <th>PDeaths</th>\n",
       "      <th>Cases (+)</th>\n",
       "      <th>Deaths (+)</th>\n",
       "      <th>Fatality Rate</th>\n",
       "      <th>Continent</th>\n",
       "    </tr>\n",
       "  </thead>\n",
       "  <tbody>\n",
       "    <tr>\n",
       "      <th>0</th>\n",
       "      <td>US</td>\n",
       "      <td>28486394</td>\n",
       "      <td>510458</td>\n",
       "      <td>28413388</td>\n",
       "      <td>508307</td>\n",
       "      <td>73006</td>\n",
       "      <td>2151</td>\n",
       "      <td>1.8</td>\n",
       "      <td>North America</td>\n",
       "    </tr>\n",
       "    <tr>\n",
       "      <th>1</th>\n",
       "      <td>India</td>\n",
       "      <td>11079979</td>\n",
       "      <td>156938</td>\n",
       "      <td>11063491</td>\n",
       "      <td>156825</td>\n",
       "      <td>16488</td>\n",
       "      <td>113</td>\n",
       "      <td>1.4</td>\n",
       "      <td>Asia</td>\n",
       "    </tr>\n",
       "    <tr>\n",
       "      <th>2</th>\n",
       "      <td>Brazil</td>\n",
       "      <td>10455630</td>\n",
       "      <td>252835</td>\n",
       "      <td>10390461</td>\n",
       "      <td>251498</td>\n",
       "      <td>65169</td>\n",
       "      <td>1337</td>\n",
       "      <td>2.4</td>\n",
       "      <td>South America</td>\n",
       "    </tr>\n",
       "    <tr>\n",
       "      <th>3</th>\n",
       "      <td>Russia</td>\n",
       "      <td>4175757</td>\n",
       "      <td>83900</td>\n",
       "      <td>4164802</td>\n",
       "      <td>83481</td>\n",
       "      <td>10955</td>\n",
       "      <td>419</td>\n",
       "      <td>2.0</td>\n",
       "      <td>Europe</td>\n",
       "    </tr>\n",
       "    <tr>\n",
       "      <th>4</th>\n",
       "      <td>United Kingdom</td>\n",
       "      <td>4175315</td>\n",
       "      <td>122648</td>\n",
       "      <td>4166727</td>\n",
       "      <td>122303</td>\n",
       "      <td>8588</td>\n",
       "      <td>345</td>\n",
       "      <td>2.9</td>\n",
       "      <td>Europe</td>\n",
       "    </tr>\n",
       "  </tbody>\n",
       "</table>\n",
       "</div>"
      ],
      "text/plain": [
       "   Country/Region     Cases  Deaths    PCases  PDeaths  Cases (+)  Deaths (+)  \\\n",
       "0              US  28486394  510458  28413388   508307      73006        2151   \n",
       "1           India  11079979  156938  11063491   156825      16488         113   \n",
       "2          Brazil  10455630  252835  10390461   251498      65169        1337   \n",
       "3          Russia   4175757   83900   4164802    83481      10955         419   \n",
       "4  United Kingdom   4175315  122648   4166727   122303       8588         345   \n",
       "\n",
       "   Fatality Rate      Continent  \n",
       "0            1.8  North America  \n",
       "1            1.4           Asia  \n",
       "2            2.4  South America  \n",
       "3            2.0         Europe  \n",
       "4            2.9         Europe  "
      ]
     },
     "execution_count": 15,
     "metadata": {},
     "output_type": "execute_result"
    }
   ],
   "source": [
    "#hide\n",
    "df_table = (pd.DataFrame(dict(Cases=dfc_cases, Deaths=dfc_deaths, PCases=dfp_cases, PDeaths=dfp_deaths))\n",
    "             .sort_values(by=['Cases', 'Deaths'], ascending=[False, False])\n",
    "             .reset_index())\n",
    "df_table.rename(columns={'index': 'Country/Region'}, inplace=True)\n",
    "for c in 'Cases, Deaths'.split(', '):\n",
    "    df_table[f'{c} (+)'] = (df_table[c] - df_table[f'P{c}']).clip(0)  # DATA BUG\n",
    "df_table['Fatality Rate'] = (100 * df_table['Deaths'] / df_table['Cases']).round(1)\n",
    "df_table['Continent'] = df_table['Country/Region'].map(mapping['map.continent'])\n",
    "df_table.head(5)"
   ]
  },
  {
   "cell_type": "code",
   "execution_count": 16,
   "id": "fewer-occasion",
   "metadata": {
    "execution": {
     "iopub.execute_input": "2021-02-28T00:11:32.915995Z",
     "iopub.status.busy": "2021-02-28T00:11:32.915527Z",
     "iopub.status.idle": "2021-02-28T00:11:32.917834Z",
     "shell.execute_reply": "2021-02-28T00:11:32.918369Z"
    },
    "papermill": {
     "duration": 0.042046,
     "end_time": "2021-02-28T00:11:32.918504",
     "exception": false,
     "start_time": "2021-02-28T00:11:32.876458",
     "status": "completed"
    },
    "tags": []
   },
   "outputs": [],
   "source": [
    "#hide\n",
    "#delete problematic countries from table\n",
    "df_table = df_table[~df_table['Country/Region'].isin(['Cape Verde', 'Cruise Ship', 'Kosovo'])]"
   ]
  },
  {
   "cell_type": "code",
   "execution_count": 17,
   "id": "related-center",
   "metadata": {
    "execution": {
     "iopub.execute_input": "2021-02-28T00:11:32.997846Z",
     "iopub.status.busy": "2021-02-28T00:11:32.997203Z",
     "iopub.status.idle": "2021-02-28T00:11:32.999333Z",
     "shell.execute_reply": "2021-02-28T00:11:32.999768Z"
    },
    "papermill": {
     "duration": 0.050812,
     "end_time": "2021-02-28T00:11:32.999913",
     "exception": false,
     "start_time": "2021-02-28T00:11:32.949101",
     "status": "completed"
    },
    "tags": []
   },
   "outputs": [],
   "source": [
    "#hide\n",
    "metrics = [df_table.columns[index] for index in [1,2,5,6]]\n",
    "# s_china = df_table[df_table['Country/Region'].eq('China')][metrics].sum().add_prefix('China ')\n",
    "s_us = df_table[df_table['Country/Region'].eq('US')][metrics].sum().add_prefix('US ')\n",
    "s_eu = df_table[df_table['Continent'].eq('Europe')][metrics].sum().add_prefix('EU ')\n",
    "s_ind = df_table[df_table['Country/Region'].eq('India')][metrics].sum().add_prefix('India ')\n",
    "summary = {'updated': pd.to_datetime(dt_today), 'since': pd.to_datetime(dt_yday)}\n",
    "summary = {'updated': pd.to_datetime(dt_today), 'since': pd.to_datetime(dt_yday)}\n",
    "summary = {**summary, **df_table[metrics].sum(), **s_ind, **s_us, **s_eu}"
   ]
  },
  {
   "cell_type": "code",
   "execution_count": 18,
   "id": "engaging-syndrome",
   "metadata": {
    "execution": {
     "iopub.execute_input": "2021-02-28T00:11:33.075354Z",
     "iopub.status.busy": "2021-02-28T00:11:33.072163Z",
     "iopub.status.idle": "2021-02-28T00:11:33.085189Z",
     "shell.execute_reply": "2021-02-28T00:11:33.085683Z"
    },
    "papermill": {
     "duration": 0.052416,
     "end_time": "2021-02-28T00:11:33.085814",
     "exception": false,
     "start_time": "2021-02-28T00:11:33.033398",
     "status": "completed"
    },
    "tags": []
   },
   "outputs": [],
   "source": [
    "#hide\n",
    "dft_ct_new_cases = dft_cases.groupby(COL_REGION)[dt_cols].sum().diff(axis=1).fillna(0).astype(int)"
   ]
  },
  {
   "cell_type": "code",
   "execution_count": 19,
   "id": "neutral-assignment",
   "metadata": {
    "execution": {
     "iopub.execute_input": "2021-02-28T00:11:33.161898Z",
     "iopub.status.busy": "2021-02-28T00:11:33.161311Z",
     "iopub.status.idle": "2021-02-28T00:11:33.163570Z",
     "shell.execute_reply": "2021-02-28T00:11:33.163076Z"
    },
    "papermill": {
     "duration": 0.043489,
     "end_time": "2021-02-28T00:11:33.163687",
     "exception": false,
     "start_time": "2021-02-28T00:11:33.120198",
     "status": "completed"
    },
    "tags": []
   },
   "outputs": [],
   "source": [
    "#hide\n",
    "everydaycases = dft_ct_new_cases.cumsum(axis=1)"
   ]
  },
  {
   "cell_type": "code",
   "execution_count": 20,
   "id": "parliamentary-calgary",
   "metadata": {
    "execution": {
     "iopub.execute_input": "2021-02-28T00:11:33.235375Z",
     "iopub.status.busy": "2021-02-28T00:11:33.234819Z",
     "iopub.status.idle": "2021-02-28T00:11:33.865728Z",
     "shell.execute_reply": "2021-02-28T00:11:33.864831Z"
    },
    "papermill": {
     "duration": 0.667947,
     "end_time": "2021-02-28T00:11:33.865946",
     "exception": false,
     "start_time": "2021-02-28T00:11:33.197999",
     "status": "completed"
    },
    "tags": []
   },
   "outputs": [],
   "source": [
    "#hide\n",
    "import pandas as pd\n",
    "import matplotlib.pyplot as plt\n",
    "import matplotlib.ticker as ticker\n",
    "import matplotlib.animation as animation\n",
    "from IPython.display import HTML"
   ]
  },
  {
   "cell_type": "code",
   "execution_count": 21,
   "id": "lasting-extraction",
   "metadata": {
    "execution": {
     "iopub.execute_input": "2021-02-28T00:11:33.933699Z",
     "iopub.status.busy": "2021-02-28T00:11:33.933177Z",
     "iopub.status.idle": "2021-02-28T00:11:33.938093Z",
     "shell.execute_reply": "2021-02-28T00:11:33.937738Z"
    },
    "papermill": {
     "duration": 0.041285,
     "end_time": "2021-02-28T00:11:33.938183",
     "exception": false,
     "start_time": "2021-02-28T00:11:33.896898",
     "status": "completed"
    },
    "tags": []
   },
   "outputs": [],
   "source": [
    "#hide\n",
    "t = everydaycases.stack()"
   ]
  },
  {
   "cell_type": "code",
   "execution_count": 22,
   "id": "premier-sleeve",
   "metadata": {
    "execution": {
     "iopub.execute_input": "2021-02-28T00:11:34.003597Z",
     "iopub.status.busy": "2021-02-28T00:11:34.003079Z",
     "iopub.status.idle": "2021-02-28T00:11:34.011524Z",
     "shell.execute_reply": "2021-02-28T00:11:34.010619Z"
    },
    "papermill": {
     "duration": 0.042322,
     "end_time": "2021-02-28T00:11:34.011643",
     "exception": false,
     "start_time": "2021-02-28T00:11:33.969321",
     "status": "completed"
    },
    "tags": []
   },
   "outputs": [],
   "source": [
    "#hide\n",
    "g = t.reset_index(['Country/Region'])"
   ]
  },
  {
   "cell_type": "code",
   "execution_count": 23,
   "id": "distributed-pittsburgh",
   "metadata": {
    "execution": {
     "iopub.execute_input": "2021-02-28T00:11:34.078066Z",
     "iopub.status.busy": "2021-02-28T00:11:34.077533Z",
     "iopub.status.idle": "2021-02-28T00:11:34.079986Z",
     "shell.execute_reply": "2021-02-28T00:11:34.080456Z"
    },
    "papermill": {
     "duration": 0.03796,
     "end_time": "2021-02-28T00:11:34.080590",
     "exception": false,
     "start_time": "2021-02-28T00:11:34.042630",
     "status": "completed"
    },
    "tags": []
   },
   "outputs": [],
   "source": [
    "#hide\n",
    "g.index.name = 'date'"
   ]
  },
  {
   "cell_type": "code",
   "execution_count": 24,
   "id": "naked-donor",
   "metadata": {
    "execution": {
     "iopub.execute_input": "2021-02-28T00:11:34.142398Z",
     "iopub.status.busy": "2021-02-28T00:11:34.141788Z",
     "iopub.status.idle": "2021-02-28T00:11:34.144907Z",
     "shell.execute_reply": "2021-02-28T00:11:34.144408Z"
    },
    "papermill": {
     "duration": 0.035685,
     "end_time": "2021-02-28T00:11:34.145023",
     "exception": false,
     "start_time": "2021-02-28T00:11:34.109338",
     "status": "completed"
    },
    "tags": []
   },
   "outputs": [],
   "source": [
    "# #hide\n",
    "# g = g.reset_index(['date'])"
   ]
  },
  {
   "cell_type": "code",
   "execution_count": 25,
   "id": "incomplete-mustang",
   "metadata": {
    "execution": {
     "iopub.execute_input": "2021-02-28T00:11:34.210168Z",
     "iopub.status.busy": "2021-02-28T00:11:34.209690Z",
     "iopub.status.idle": "2021-02-28T00:11:34.211684Z",
     "shell.execute_reply": "2021-02-28T00:11:34.212197Z"
    },
    "papermill": {
     "duration": 0.035992,
     "end_time": "2021-02-28T00:11:34.212323",
     "exception": false,
     "start_time": "2021-02-28T00:11:34.176331",
     "status": "completed"
    },
    "tags": []
   },
   "outputs": [],
   "source": [
    "#hide\n",
    "# g.head()"
   ]
  },
  {
   "cell_type": "code",
   "execution_count": 26,
   "id": "specific-kruger",
   "metadata": {
    "execution": {
     "iopub.execute_input": "2021-02-28T00:11:34.271454Z",
     "iopub.status.busy": "2021-02-28T00:11:34.270918Z",
     "iopub.status.idle": "2021-02-28T00:11:34.273688Z",
     "shell.execute_reply": "2021-02-28T00:11:34.274181Z"
    },
    "papermill": {
     "duration": 0.034416,
     "end_time": "2021-02-28T00:11:34.274341",
     "exception": false,
     "start_time": "2021-02-28T00:11:34.239925",
     "status": "completed"
    },
    "tags": []
   },
   "outputs": [],
   "source": [
    "#hide\n",
    "# g.columns = ['date','country','cases']"
   ]
  },
  {
   "cell_type": "code",
   "execution_count": 27,
   "id": "tender-conversion",
   "metadata": {
    "execution": {
     "iopub.execute_input": "2021-02-28T00:11:34.338258Z",
     "iopub.status.busy": "2021-02-28T00:11:34.337752Z",
     "iopub.status.idle": "2021-02-28T00:11:34.339900Z",
     "shell.execute_reply": "2021-02-28T00:11:34.339432Z"
    },
    "papermill": {
     "duration": 0.035737,
     "end_time": "2021-02-28T00:11:34.340009",
     "exception": false,
     "start_time": "2021-02-28T00:11:34.304272",
     "status": "completed"
    },
    "tags": []
   },
   "outputs": [],
   "source": [
    "#hide\n",
    "# g['continent'] = g.country"
   ]
  },
  {
   "cell_type": "code",
   "execution_count": 28,
   "id": "substantial-wilderness",
   "metadata": {
    "execution": {
     "iopub.execute_input": "2021-02-28T00:11:34.408373Z",
     "iopub.status.busy": "2021-02-28T00:11:34.407902Z",
     "iopub.status.idle": "2021-02-28T00:11:34.410373Z",
     "shell.execute_reply": "2021-02-28T00:11:34.409981Z"
    },
    "papermill": {
     "duration": 0.039431,
     "end_time": "2021-02-28T00:11:34.410468",
     "exception": false,
     "start_time": "2021-02-28T00:11:34.371037",
     "status": "completed"
    },
    "tags": []
   },
   "outputs": [],
   "source": [
    "#hide\n",
    "# cols = list(g.columns.values)"
   ]
  },
  {
   "cell_type": "code",
   "execution_count": 29,
   "id": "solved-farming",
   "metadata": {
    "execution": {
     "iopub.execute_input": "2021-02-28T00:11:34.467792Z",
     "iopub.status.busy": "2021-02-28T00:11:34.467245Z",
     "iopub.status.idle": "2021-02-28T00:11:34.469374Z",
     "shell.execute_reply": "2021-02-28T00:11:34.468910Z"
    },
    "papermill": {
     "duration": 0.032221,
     "end_time": "2021-02-28T00:11:34.469503",
     "exception": false,
     "start_time": "2021-02-28T00:11:34.437282",
     "status": "completed"
    },
    "tags": []
   },
   "outputs": [],
   "source": [
    "#hide\n",
    "# cols.insert(0, cols.pop())"
   ]
  },
  {
   "cell_type": "code",
   "execution_count": 30,
   "id": "executed-adoption",
   "metadata": {
    "execution": {
     "iopub.execute_input": "2021-02-28T00:11:34.527343Z",
     "iopub.status.busy": "2021-02-28T00:11:34.526859Z",
     "iopub.status.idle": "2021-02-28T00:11:34.529102Z",
     "shell.execute_reply": "2021-02-28T00:11:34.528668Z"
    },
    "papermill": {
     "duration": 0.031875,
     "end_time": "2021-02-28T00:11:34.529212",
     "exception": false,
     "start_time": "2021-02-28T00:11:34.497337",
     "status": "completed"
    },
    "tags": []
   },
   "outputs": [],
   "source": [
    "#hide\n",
    "# g = g[cols]"
   ]
  },
  {
   "cell_type": "code",
   "execution_count": 31,
   "id": "subject-dublin",
   "metadata": {
    "execution": {
     "iopub.execute_input": "2021-02-28T00:11:34.590397Z",
     "iopub.status.busy": "2021-02-28T00:11:34.589794Z",
     "iopub.status.idle": "2021-02-28T00:11:34.592164Z",
     "shell.execute_reply": "2021-02-28T00:11:34.591728Z"
    },
    "papermill": {
     "duration": 0.0339,
     "end_time": "2021-02-28T00:11:34.592268",
     "exception": false,
     "start_time": "2021-02-28T00:11:34.558368",
     "status": "completed"
    },
    "tags": []
   },
   "outputs": [],
   "source": [
    "#hide\n",
    "# g['continent'] = g['continent'].map(mapping['map.continent'])"
   ]
  },
  {
   "cell_type": "code",
   "execution_count": 32,
   "id": "freelance-scout",
   "metadata": {
    "execution": {
     "iopub.execute_input": "2021-02-28T00:11:34.652419Z",
     "iopub.status.busy": "2021-02-28T00:11:34.651889Z",
     "iopub.status.idle": "2021-02-28T00:11:34.654352Z",
     "shell.execute_reply": "2021-02-28T00:11:34.654905Z"
    },
    "papermill": {
     "duration": 0.034826,
     "end_time": "2021-02-28T00:11:34.655032",
     "exception": false,
     "start_time": "2021-02-28T00:11:34.620206",
     "status": "completed"
    },
    "tags": []
   },
   "outputs": [],
   "source": [
    "#hide\n",
    "# g.head()"
   ]
  },
  {
   "cell_type": "code",
   "execution_count": 33,
   "id": "limited-engine",
   "metadata": {
    "execution": {
     "iopub.execute_input": "2021-02-28T00:11:34.716889Z",
     "iopub.status.busy": "2021-02-28T00:11:34.715863Z",
     "iopub.status.idle": "2021-02-28T00:11:34.717977Z",
     "shell.execute_reply": "2021-02-28T00:11:34.718821Z"
    },
    "papermill": {
     "duration": 0.036388,
     "end_time": "2021-02-28T00:11:34.719040",
     "exception": false,
     "start_time": "2021-02-28T00:11:34.682652",
     "status": "completed"
    },
    "tags": []
   },
   "outputs": [],
   "source": [
    "# hide\n",
    "# g['date'] = g['date'].astype('datetime64[ns]')"
   ]
  },
  {
   "cell_type": "code",
   "execution_count": 34,
   "id": "sophisticated-supervisor",
   "metadata": {
    "execution": {
     "iopub.execute_input": "2021-02-28T00:11:34.786208Z",
     "iopub.status.busy": "2021-02-28T00:11:34.785728Z",
     "iopub.status.idle": "2021-02-28T00:11:34.788064Z",
     "shell.execute_reply": "2021-02-28T00:11:34.787683Z"
    },
    "papermill": {
     "duration": 0.036051,
     "end_time": "2021-02-28T00:11:34.788161",
     "exception": false,
     "start_time": "2021-02-28T00:11:34.752110",
     "status": "completed"
    },
    "tags": []
   },
   "outputs": [],
   "source": [
    "#hide\n",
    "# g['date'] = g.date.dt.dayofyear"
   ]
  },
  {
   "cell_type": "code",
   "execution_count": 35,
   "id": "inside-dubai",
   "metadata": {
    "execution": {
     "iopub.execute_input": "2021-02-28T00:11:34.853302Z",
     "iopub.status.busy": "2021-02-28T00:11:34.852751Z",
     "iopub.status.idle": "2021-02-28T00:11:34.854775Z",
     "shell.execute_reply": "2021-02-28T00:11:34.855223Z"
    },
    "papermill": {
     "duration": 0.038244,
     "end_time": "2021-02-28T00:11:34.855342",
     "exception": false,
     "start_time": "2021-02-28T00:11:34.817098",
     "status": "completed"
    },
    "tags": []
   },
   "outputs": [],
   "source": [
    "#hide\n",
    "# g = g.rename(columns= {'continent':'group','country':'name','cases':'value'})"
   ]
  },
  {
   "cell_type": "code",
   "execution_count": 36,
   "id": "fleet-motorcycle",
   "metadata": {
    "execution": {
     "iopub.execute_input": "2021-02-28T00:11:34.922532Z",
     "iopub.status.busy": "2021-02-28T00:11:34.922029Z",
     "iopub.status.idle": "2021-02-28T00:11:34.924850Z",
     "shell.execute_reply": "2021-02-28T00:11:34.924421Z"
    },
    "papermill": {
     "duration": 0.036181,
     "end_time": "2021-02-28T00:11:34.924943",
     "exception": false,
     "start_time": "2021-02-28T00:11:34.888762",
     "status": "completed"
    },
    "tags": []
   },
   "outputs": [],
   "source": [
    "#hide\n",
    "# cols = ['name','group','day','value']"
   ]
  },
  {
   "cell_type": "code",
   "execution_count": 37,
   "id": "continued-sleeping",
   "metadata": {
    "execution": {
     "iopub.execute_input": "2021-02-28T00:11:34.988044Z",
     "iopub.status.busy": "2021-02-28T00:11:34.987572Z",
     "iopub.status.idle": "2021-02-28T00:11:34.990329Z",
     "shell.execute_reply": "2021-02-28T00:11:34.990811Z"
    },
    "papermill": {
     "duration": 0.037897,
     "end_time": "2021-02-28T00:11:34.990929",
     "exception": false,
     "start_time": "2021-02-28T00:11:34.953032",
     "status": "completed"
    },
    "tags": []
   },
   "outputs": [],
   "source": [
    "#hide\n",
    "# g.rename(columns= {'date':'day'},inplace = True)"
   ]
  },
  {
   "cell_type": "code",
   "execution_count": 38,
   "id": "major-fight",
   "metadata": {
    "execution": {
     "iopub.execute_input": "2021-02-28T00:11:35.055694Z",
     "iopub.status.busy": "2021-02-28T00:11:35.055219Z",
     "iopub.status.idle": "2021-02-28T00:11:35.057402Z",
     "shell.execute_reply": "2021-02-28T00:11:35.057003Z"
    },
    "papermill": {
     "duration": 0.037732,
     "end_time": "2021-02-28T00:11:35.057495",
     "exception": false,
     "start_time": "2021-02-28T00:11:35.019763",
     "status": "completed"
    },
    "tags": []
   },
   "outputs": [],
   "source": [
    "#hide\n",
    "# g = g[cols]"
   ]
  },
  {
   "cell_type": "code",
   "execution_count": 39,
   "id": "structured-mobile",
   "metadata": {
    "execution": {
     "iopub.execute_input": "2021-02-28T00:11:35.121138Z",
     "iopub.status.busy": "2021-02-28T00:11:35.120580Z",
     "iopub.status.idle": "2021-02-28T00:11:35.122799Z",
     "shell.execute_reply": "2021-02-28T00:11:35.123329Z"
    },
    "papermill": {
     "duration": 0.035537,
     "end_time": "2021-02-28T00:11:35.123447",
     "exception": false,
     "start_time": "2021-02-28T00:11:35.087910",
     "status": "completed"
    },
    "tags": []
   },
   "outputs": [],
   "source": [
    "# #hide\n",
    "# g = g[g.group.notna()]"
   ]
  },
  {
   "cell_type": "code",
   "execution_count": 40,
   "id": "determined-closing",
   "metadata": {
    "execution": {
     "iopub.execute_input": "2021-02-28T00:11:35.192704Z",
     "iopub.status.busy": "2021-02-28T00:11:35.191745Z",
     "iopub.status.idle": "2021-02-28T00:11:35.193715Z",
     "shell.execute_reply": "2021-02-28T00:11:35.194522Z"
    },
    "papermill": {
     "duration": 0.039841,
     "end_time": "2021-02-28T00:11:35.194732",
     "exception": false,
     "start_time": "2021-02-28T00:11:35.154891",
     "status": "completed"
    },
    "tags": []
   },
   "outputs": [],
   "source": [
    "# #hide\n",
    "# colors = dict(zip(\n",
    "#     [\"Oceania\", \"Europe\", \"Asia\", \"South America\", \"Middle East\", \"North America\", \"Africa\"],\n",
    "#     [\"#adb0ff\", \"#ffb3ff\", \"#90d595\", \"#e48381\", \"#aafbff\", \"#f7bb5f\", \"#eafb50\"]\n",
    "# ))\n",
    "# group_lk = g.set_index('name')['group'].to_dict()"
   ]
  },
  {
   "cell_type": "code",
   "execution_count": null,
   "id": "gross-drinking",
   "metadata": {
    "papermill": {
     "duration": 0.030014,
     "end_time": "2021-02-28T00:11:35.258191",
     "exception": false,
     "start_time": "2021-02-28T00:11:35.228177",
     "status": "completed"
    },
    "tags": []
   },
   "outputs": [],
   "source": []
  },
  {
   "cell_type": "code",
   "execution_count": 41,
   "id": "subject-macintosh",
   "metadata": {
    "execution": {
     "iopub.execute_input": "2021-02-28T00:11:35.324188Z",
     "iopub.status.busy": "2021-02-28T00:11:35.323609Z",
     "iopub.status.idle": "2021-02-28T00:11:35.326164Z",
     "shell.execute_reply": "2021-02-28T00:11:35.326728Z"
    },
    "papermill": {
     "duration": 0.03878,
     "end_time": "2021-02-28T00:11:35.326870",
     "exception": false,
     "start_time": "2021-02-28T00:11:35.288090",
     "status": "completed"
    },
    "tags": []
   },
   "outputs": [],
   "source": [
    "# #hide\n",
    "# fig, ax = plt.subplots(figsize=(15, 8))\n",
    "\n",
    "# def draw_barchart(current_day):\n",
    "#     dff = g[g['day'].eq(current_day)].sort_values(by='value', ascending=True).tail(10)\n",
    "#     ax.clear()\n",
    "#     ax.barh(dff['name'], dff['value'], color=[colors[group_lk[x]] for x in dff['name']])\n",
    "#     dx = dff['value'].max() / 200\n",
    "    \n",
    "#     for i, (value, name) in enumerate(zip(dff['value'], dff['name'])):\n",
    "#         ax.text(value-dx, i,     name,           size=14, weight=600, ha='right', va='bottom')\n",
    "#         ax.text(value-dx, i-.25, group_lk[name], size=10, color='#444444', ha='right', va='baseline')\n",
    "#         ax.text(value+dx, i,     f'{value:,.0f}',  size=14, ha='left',  va='center')\n",
    "#     ax.text(1, 0.4, current_day, transform=ax.transAxes, color='#777777', size=46, ha='right', weight=800)\n",
    "#     ax.text(0, 1.06, 'Population (thousands)', transform=ax.transAxes, size=12, color='#777777')\n",
    "#     ax.xaxis.set_major_formatter(ticker.StrMethodFormatter('{x:,.0f}'))\n",
    "#     ax.xaxis.set_ticks_position('top')\n",
    "#     ax.tick_params(axis='x', colors='#777777', labelsize=12)\n",
    "#     ax.set_yticks([])\n",
    "#     ax.margins(0, 0.01)\n",
    "#     ax.grid(which='major', axis='x', linestyle='-')\n",
    "#     ax.set_axisbelow(True)\n",
    "    \n",
    "#     ax.text(0, 1.15, 'Coronavirus',\n",
    "#             transform=ax.transAxes, size=24, weight=600, ha='left', va='top')\n",
    "# #     ax.text(1, 0, 'by @pratapvardhan; credit @jburnmurdoch', transform=ax.transAxes, color='#777777', ha='right',\n",
    "# #             bbox=dict(facecolor='white', alpha=0.8, edgecolor='white'))\n",
    "#     plt.box(False)"
   ]
  },
  {
   "cell_type": "code",
   "execution_count": 42,
   "id": "sexual-wages",
   "metadata": {
    "execution": {
     "iopub.execute_input": "2021-02-28T00:11:35.392312Z",
     "iopub.status.busy": "2021-02-28T00:11:35.391775Z",
     "iopub.status.idle": "2021-02-28T00:11:35.393950Z",
     "shell.execute_reply": "2021-02-28T00:11:35.394409Z"
    },
    "papermill": {
     "duration": 0.035618,
     "end_time": "2021-02-28T00:11:35.394535",
     "exception": false,
     "start_time": "2021-02-28T00:11:35.358917",
     "status": "completed"
    },
    "tags": []
   },
   "outputs": [],
   "source": [
    "# #hide_input\n",
    "# fig, ax = plt.subplots(figsize=(15, 8))\n",
    "# animator = animation.FuncAnimation(fig, draw_barchart, frames=range(g.day.values.min(), g.day.values.max()))\n",
    "# HTML(animator.to_jshtml())\n",
    "# # or use animator.to_html5_video() or animator.save() "
   ]
  },
  {
   "cell_type": "code",
   "execution_count": null,
   "id": "australian-container",
   "metadata": {
    "papermill": {
     "duration": 0.029922,
     "end_time": "2021-02-28T00:11:35.454484",
     "exception": false,
     "start_time": "2021-02-28T00:11:35.424562",
     "status": "completed"
    },
    "tags": []
   },
   "outputs": [],
   "source": []
  },
  {
   "cell_type": "code",
   "execution_count": null,
   "id": "mediterranean-pontiac",
   "metadata": {
    "papermill": {
     "duration": 0.031994,
     "end_time": "2021-02-28T00:11:35.519660",
     "exception": false,
     "start_time": "2021-02-28T00:11:35.487666",
     "status": "completed"
    },
    "tags": []
   },
   "outputs": [],
   "source": []
  },
  {
   "cell_type": "code",
   "execution_count": null,
   "id": "aging-legislature",
   "metadata": {
    "papermill": {
     "duration": 0.031928,
     "end_time": "2021-02-28T00:11:35.582785",
     "exception": false,
     "start_time": "2021-02-28T00:11:35.550857",
     "status": "completed"
    },
    "tags": []
   },
   "outputs": [],
   "source": []
  }
 ],
 "metadata": {
  "kernelspec": {
   "display_name": "Python 3",
   "language": "python",
   "name": "python3"
  },
  "language_info": {
   "codemirror_mode": {
    "name": "ipython",
    "version": 3
   },
   "file_extension": ".py",
   "mimetype": "text/x-python",
   "name": "python",
   "nbconvert_exporter": "python",
   "pygments_lexer": "ipython3",
   "version": "3.6.13"
  },
  "papermill": {
   "duration": 6.129335,
   "end_time": "2021-02-28T00:11:35.924553",
   "environment_variables": {},
   "exception": null,
   "input_path": "2020-03-21-covid19exp.ipynb",
   "output_path": "2020-03-21-covid19exp.ipynb",
   "parameters": {},
   "start_time": "2021-02-28T00:11:29.795218",
   "version": "2.0.0"
  }
 },
 "nbformat": 4,
 "nbformat_minor": 5
}