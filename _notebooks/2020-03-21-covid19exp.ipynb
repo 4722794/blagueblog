{
 "cells": [
  {
   "cell_type": "markdown",
   "id": "muslim-click",
   "metadata": {
    "papermill": {
     "duration": 0.033705,
     "end_time": "2022-07-06T12:17:15.914174",
     "exception": false,
     "start_time": "2022-07-06T12:17:15.880469",
     "status": "completed"
    },
    "tags": []
   },
   "source": [
    "# COVID-19 Case Race\n",
    "> A race chart to see rising cases around the world\n",
    "\n",
    "- author: Hargun Oberoi\n",
    "- image: images/covid-overview.png\n",
    "- hide: false\n",
    "- badges: false"
   ]
  },
  {
   "cell_type": "code",
   "execution_count": 1,
   "id": "proof-material",
   "metadata": {
    "execution": {
     "iopub.execute_input": "2022-07-06T12:17:15.984462Z",
     "iopub.status.busy": "2022-07-06T12:17:15.983900Z",
     "iopub.status.idle": "2022-07-06T12:17:16.288579Z",
     "shell.execute_reply": "2022-07-06T12:17:16.288084Z"
    },
    "papermill": {
     "duration": 0.343205,
     "end_time": "2022-07-06T12:17:16.288703",
     "exception": false,
     "start_time": "2022-07-06T12:17:15.945498",
     "status": "completed"
    },
    "tags": []
   },
   "outputs": [],
   "source": [
    "#hide\n",
    "import numpy as np\n",
    "import pandas as pd\n",
    "from jinja2 import Template\n",
    "from IPython.display import HTML"
   ]
  },
  {
   "cell_type": "code",
   "execution_count": 2,
   "id": "developed-terminology",
   "metadata": {
    "execution": {
     "iopub.execute_input": "2022-07-06T12:17:16.352966Z",
     "iopub.status.busy": "2022-07-06T12:17:16.352356Z",
     "iopub.status.idle": "2022-07-06T12:17:16.354800Z",
     "shell.execute_reply": "2022-07-06T12:17:16.354349Z"
    },
    "papermill": {
     "duration": 0.036015,
     "end_time": "2022-07-06T12:17:16.354898",
     "exception": false,
     "start_time": "2022-07-06T12:17:16.318883",
     "status": "completed"
    },
    "tags": []
   },
   "outputs": [],
   "source": [
    "#hide\n",
    "\n",
    "# FETCH\n",
    "base_url = 'https://raw.githubusercontent.com/pratapvardhan/notebooks/master/covid19/'\n",
    "paths = {\n",
    "    'mapping': base_url + 'mapping_countries.csv',\n",
    "    'overview': base_url + 'overview.tpl'\n",
    "}"
   ]
  },
  {
   "cell_type": "code",
   "execution_count": 3,
   "id": "dynamic-saver",
   "metadata": {
    "execution": {
     "iopub.execute_input": "2022-07-06T12:17:16.423040Z",
     "iopub.status.busy": "2022-07-06T12:17:16.422420Z",
     "iopub.status.idle": "2022-07-06T12:17:16.425458Z",
     "shell.execute_reply": "2022-07-06T12:17:16.425010Z"
    },
    "papermill": {
     "duration": 0.041239,
     "end_time": "2022-07-06T12:17:16.425551",
     "exception": false,
     "start_time": "2022-07-06T12:17:16.384312",
     "status": "completed"
    },
    "tags": []
   },
   "outputs": [
    {
     "data": {
      "text/plain": [
       "'https://raw.githubusercontent.com/pratapvardhan/notebooks/master/covid19/mapping_countries.csv'"
      ]
     },
     "execution_count": 3,
     "metadata": {},
     "output_type": "execute_result"
    }
   ],
   "source": [
    "#hide\n",
    "paths['mapping']"
   ]
  },
  {
   "cell_type": "code",
   "execution_count": 4,
   "id": "urban-software",
   "metadata": {
    "execution": {
     "iopub.execute_input": "2022-07-06T12:17:16.489652Z",
     "iopub.status.busy": "2022-07-06T12:17:16.489092Z",
     "iopub.status.idle": "2022-07-06T12:17:16.490960Z",
     "shell.execute_reply": "2022-07-06T12:17:16.491393Z"
    },
    "papermill": {
     "duration": 0.036178,
     "end_time": "2022-07-06T12:17:16.491497",
     "exception": false,
     "start_time": "2022-07-06T12:17:16.455319",
     "status": "completed"
    },
    "tags": []
   },
   "outputs": [],
   "source": [
    "#hide\n",
    "def get_mappings(url):\n",
    "    df = pd.read_csv(url)\n",
    "    return {\n",
    "        'df': df,\n",
    "        'replace.country': dict(df.dropna(subset=['Name']).set_index('Country')['Name']),\n",
    "        'map.continent': dict(df.set_index('Name')['Continent'])\n",
    "    }"
   ]
  },
  {
   "cell_type": "code",
   "execution_count": 5,
   "id": "intimate-machinery",
   "metadata": {
    "execution": {
     "iopub.execute_input": "2022-07-06T12:17:16.555930Z",
     "iopub.status.busy": "2022-07-06T12:17:16.555371Z",
     "iopub.status.idle": "2022-07-06T12:17:16.598939Z",
     "shell.execute_reply": "2022-07-06T12:17:16.598380Z"
    },
    "papermill": {
     "duration": 0.077947,
     "end_time": "2022-07-06T12:17:16.599038",
     "exception": false,
     "start_time": "2022-07-06T12:17:16.521091",
     "status": "completed"
    },
    "tags": []
   },
   "outputs": [],
   "source": [
    "#hide\n",
    "mapping = get_mappings(paths['mapping'])"
   ]
  },
  {
   "cell_type": "code",
   "execution_count": 6,
   "id": "certified-tactics",
   "metadata": {
    "execution": {
     "iopub.execute_input": "2022-07-06T12:17:16.663316Z",
     "iopub.status.busy": "2022-07-06T12:17:16.662766Z",
     "iopub.status.idle": "2022-07-06T12:17:16.664644Z",
     "shell.execute_reply": "2022-07-06T12:17:16.665079Z"
    },
    "papermill": {
     "duration": 0.036235,
     "end_time": "2022-07-06T12:17:16.665189",
     "exception": false,
     "start_time": "2022-07-06T12:17:16.628954",
     "status": "completed"
    },
    "tags": []
   },
   "outputs": [],
   "source": [
    "#hide\n",
    "def get_template(path):\n",
    "    from urllib.parse import urlparse\n",
    "    if bool(urlparse(path).netloc):\n",
    "        from urllib.request import urlopen\n",
    "        return urlopen(path).read().decode('utf8')\n",
    "    return open(path).read()"
   ]
  },
  {
   "cell_type": "code",
   "execution_count": 7,
   "id": "realistic-blast",
   "metadata": {
    "execution": {
     "iopub.execute_input": "2022-07-06T12:17:16.728832Z",
     "iopub.status.busy": "2022-07-06T12:17:16.728250Z",
     "iopub.status.idle": "2022-07-06T12:17:16.730719Z",
     "shell.execute_reply": "2022-07-06T12:17:16.730255Z"
    },
    "papermill": {
     "duration": 0.035996,
     "end_time": "2022-07-06T12:17:16.730813",
     "exception": false,
     "start_time": "2022-07-06T12:17:16.694817",
     "status": "completed"
    },
    "tags": []
   },
   "outputs": [],
   "source": [
    "#hide\n",
    "def get_frame(name):\n",
    "    url = (\n",
    "        'https://raw.githubusercontent.com/CSSEGISandData/COVID-19/master/csse_covid_19_data/'\n",
    "        f'csse_covid_19_time_series/time_series_covid19_{name}_global.csv')\n",
    "    df = pd.read_csv(url)\n",
    "    # rename countries\n",
    "    df['Country/Region'] = df['Country/Region'].replace(mapping['replace.country'])\n",
    "    return df"
   ]
  },
  {
   "cell_type": "code",
   "execution_count": 8,
   "id": "affiliated-characterization",
   "metadata": {
    "execution": {
     "iopub.execute_input": "2022-07-06T12:17:16.796497Z",
     "iopub.status.busy": "2022-07-06T12:17:16.795930Z",
     "iopub.status.idle": "2022-07-06T12:17:16.798193Z",
     "shell.execute_reply": "2022-07-06T12:17:16.797762Z"
    },
    "papermill": {
     "duration": 0.03756,
     "end_time": "2022-07-06T12:17:16.798287",
     "exception": false,
     "start_time": "2022-07-06T12:17:16.760727",
     "status": "completed"
    },
    "tags": []
   },
   "outputs": [],
   "source": [
    "#hide\n",
    "def get_dates(df):\n",
    "    dt_cols = df.columns[~df.columns.isin(['Province/State', 'Country/Region', 'Lat', 'Long'])]\n",
    "    LAST_DATE_I = -1\n",
    "    # sometimes last column may be empty, then go backwards\n",
    "    for i in range(-1, -len(dt_cols), -1):\n",
    "        if not df[dt_cols[i]].fillna(0).eq(0).all():\n",
    "            LAST_DATE_I = i\n",
    "            break\n",
    "    return LAST_DATE_I, dt_cols"
   ]
  },
  {
   "cell_type": "code",
   "execution_count": 9,
   "id": "recent-optimization",
   "metadata": {
    "execution": {
     "iopub.execute_input": "2022-07-06T12:17:16.861678Z",
     "iopub.status.busy": "2022-07-06T12:17:16.861110Z",
     "iopub.status.idle": "2022-07-06T12:17:17.355245Z",
     "shell.execute_reply": "2022-07-06T12:17:17.354754Z"
    },
    "papermill": {
     "duration": 0.527346,
     "end_time": "2022-07-06T12:17:17.355357",
     "exception": false,
     "start_time": "2022-07-06T12:17:16.828011",
     "status": "completed"
    },
    "tags": []
   },
   "outputs": [],
   "source": [
    "#hide\n",
    "COL_REGION = 'Country/Region'\n",
    "# Confirmed, Recovered, Deaths\n",
    "df = get_frame('confirmed')\n",
    "# dft_: timeseries, dfc_: today country agg\n",
    "dft_cases = df\n",
    "dft_deaths = get_frame('deaths')\n",
    "dft_recovered = get_frame('recovered')\n",
    "LAST_DATE_I, dt_cols = get_dates(df)"
   ]
  },
  {
   "cell_type": "code",
   "execution_count": 10,
   "id": "absolute-copper",
   "metadata": {
    "execution": {
     "iopub.execute_input": "2022-07-06T12:17:17.420248Z",
     "iopub.status.busy": "2022-07-06T12:17:17.419689Z",
     "iopub.status.idle": "2022-07-06T12:17:17.423258Z",
     "shell.execute_reply": "2022-07-06T12:17:17.423673Z"
    },
    "papermill": {
     "duration": 0.038227,
     "end_time": "2022-07-06T12:17:17.423790",
     "exception": false,
     "start_time": "2022-07-06T12:17:17.385563",
     "status": "completed"
    },
    "tags": []
   },
   "outputs": [],
   "source": [
    "#hide\n",
    "LAST_DATE_I, dt_cols = get_dates(df)\n",
    "dt_today =dt_cols[LAST_DATE_I]\n",
    "# dt_5day = dt_cols[LAST_DATE_I - 5]\n",
    "dt_yday = dt_cols[LAST_DATE_I - 1]"
   ]
  },
  {
   "cell_type": "code",
   "execution_count": 11,
   "id": "restricted-sheriff",
   "metadata": {
    "execution": {
     "iopub.execute_input": "2022-07-06T12:17:17.488113Z",
     "iopub.status.busy": "2022-07-06T12:17:17.487569Z",
     "iopub.status.idle": "2022-07-06T12:17:17.494135Z",
     "shell.execute_reply": "2022-07-06T12:17:17.494541Z"
    },
    "papermill": {
     "duration": 0.041232,
     "end_time": "2022-07-06T12:17:17.494653",
     "exception": false,
     "start_time": "2022-07-06T12:17:17.453421",
     "status": "completed"
    },
    "tags": []
   },
   "outputs": [],
   "source": [
    "#hide\n",
    "dfc_cases = dft_cases.groupby(COL_REGION)[dt_today].sum()\n",
    "dfc_deaths = dft_deaths.groupby(COL_REGION)[dt_today].sum()\n",
    "# dfp_cases = dft_cases.groupby(COL_REGION)[dt_5day].sum()\n",
    "# dfp_deaths = dft_deaths.groupby(COL_REGION)[dt_5day].sum()\n",
    "dfp_cases = dft_cases.groupby(COL_REGION)[dt_yday].sum()\n",
    "dfp_deaths = dft_deaths.groupby(COL_REGION)[dt_yday].sum()"
   ]
  },
  {
   "cell_type": "code",
   "execution_count": 12,
   "id": "deluxe-hepatitis",
   "metadata": {
    "execution": {
     "iopub.execute_input": "2022-07-06T12:17:17.558729Z",
     "iopub.status.busy": "2022-07-06T12:17:17.558186Z",
     "iopub.status.idle": "2022-07-06T12:17:17.563099Z",
     "shell.execute_reply": "2022-07-06T12:17:17.562655Z"
    },
    "papermill": {
     "duration": 0.038898,
     "end_time": "2022-07-06T12:17:17.563193",
     "exception": false,
     "start_time": "2022-07-06T12:17:17.524295",
     "status": "completed"
    },
    "tags": []
   },
   "outputs": [],
   "source": [
    "#hide\n",
    "df_table = (pd.DataFrame(dict(Cases = dfc_cases, Deaths = dfc_deaths, PCases = dfp_cases, PDeaths = dfp_deaths))\n",
    "            .sort_values(by = ['Cases','Deaths'], ascending = [False, False])\n",
    "            .reset_index())"
   ]
  },
  {
   "cell_type": "code",
   "execution_count": 13,
   "id": "educational-chancellor",
   "metadata": {
    "execution": {
     "iopub.execute_input": "2022-07-06T12:17:17.638253Z",
     "iopub.status.busy": "2022-07-06T12:17:17.637688Z",
     "iopub.status.idle": "2022-07-06T12:17:17.644880Z",
     "shell.execute_reply": "2022-07-06T12:17:17.645304Z"
    },
    "papermill": {
     "duration": 0.052562,
     "end_time": "2022-07-06T12:17:17.645414",
     "exception": false,
     "start_time": "2022-07-06T12:17:17.592852",
     "status": "completed"
    },
    "tags": []
   },
   "outputs": [
    {
     "data": {
      "text/html": [
       "<div>\n",
       "<style scoped>\n",
       "    .dataframe tbody tr th:only-of-type {\n",
       "        vertical-align: middle;\n",
       "    }\n",
       "\n",
       "    .dataframe tbody tr th {\n",
       "        vertical-align: top;\n",
       "    }\n",
       "\n",
       "    .dataframe thead th {\n",
       "        text-align: right;\n",
       "    }\n",
       "</style>\n",
       "<table border=\"1\" class=\"dataframe\">\n",
       "  <thead>\n",
       "    <tr style=\"text-align: right;\">\n",
       "      <th></th>\n",
       "      <th>Country/Region</th>\n",
       "      <th>Cases</th>\n",
       "      <th>Deaths</th>\n",
       "      <th>PCases</th>\n",
       "      <th>PDeaths</th>\n",
       "      <th>Cases (+)</th>\n",
       "      <th>Deaths (+)</th>\n",
       "      <th>Fatality Rate</th>\n",
       "      <th>Continent</th>\n",
       "    </tr>\n",
       "  </thead>\n",
       "  <tbody>\n",
       "    <tr>\n",
       "      <th>0</th>\n",
       "      <td>US</td>\n",
       "      <td>88066096</td>\n",
       "      <td>1018349</td>\n",
       "      <td>87886589</td>\n",
       "      <td>1017915</td>\n",
       "      <td>179507</td>\n",
       "      <td>434</td>\n",
       "      <td>1.16</td>\n",
       "      <td>North America</td>\n",
       "    </tr>\n",
       "    <tr>\n",
       "      <th>1</th>\n",
       "      <td>India</td>\n",
       "      <td>43547809</td>\n",
       "      <td>525270</td>\n",
       "      <td>43531650</td>\n",
       "      <td>525242</td>\n",
       "      <td>16159</td>\n",
       "      <td>28</td>\n",
       "      <td>1.21</td>\n",
       "      <td>Asia</td>\n",
       "    </tr>\n",
       "    <tr>\n",
       "      <th>2</th>\n",
       "      <td>Brazil</td>\n",
       "      <td>32610514</td>\n",
       "      <td>672429</td>\n",
       "      <td>32535923</td>\n",
       "      <td>672033</td>\n",
       "      <td>74591</td>\n",
       "      <td>396</td>\n",
       "      <td>2.06</td>\n",
       "      <td>South America</td>\n",
       "    </tr>\n",
       "    <tr>\n",
       "      <th>3</th>\n",
       "      <td>France</td>\n",
       "      <td>31861391</td>\n",
       "      <td>150840</td>\n",
       "      <td>31653749</td>\n",
       "      <td>150765</td>\n",
       "      <td>207642</td>\n",
       "      <td>75</td>\n",
       "      <td>0.47</td>\n",
       "      <td>Europe</td>\n",
       "    </tr>\n",
       "    <tr>\n",
       "      <th>4</th>\n",
       "      <td>Germany</td>\n",
       "      <td>28673212</td>\n",
       "      <td>141519</td>\n",
       "      <td>28542484</td>\n",
       "      <td>141397</td>\n",
       "      <td>130728</td>\n",
       "      <td>122</td>\n",
       "      <td>0.49</td>\n",
       "      <td>Europe</td>\n",
       "    </tr>\n",
       "  </tbody>\n",
       "</table>\n",
       "</div>"
      ],
      "text/plain": [
       "  Country/Region     Cases   Deaths    PCases  PDeaths  Cases (+)  Deaths (+)  \\\n",
       "0             US  88066096  1018349  87886589  1017915     179507         434   \n",
       "1          India  43547809   525270  43531650   525242      16159          28   \n",
       "2         Brazil  32610514   672429  32535923   672033      74591         396   \n",
       "3         France  31861391   150840  31653749   150765     207642          75   \n",
       "4        Germany  28673212   141519  28542484   141397     130728         122   \n",
       "\n",
       "   Fatality Rate      Continent  \n",
       "0           1.16  North America  \n",
       "1           1.21           Asia  \n",
       "2           2.06  South America  \n",
       "3           0.47         Europe  \n",
       "4           0.49         Europe  "
      ]
     },
     "execution_count": 13,
     "metadata": {},
     "output_type": "execute_result"
    }
   ],
   "source": [
    "#hide\n",
    "for c in 'Cases, Deaths'.split(', '):\n",
    "    df_table[f'{c} (+)'] = (df_table[c] - df_table[f'P{c}']).clip(0)\n",
    "    #Clip ça veut dire, les chiffres negatif sont interdit\n",
    "df_table['Fatality Rate'] = (100* df_table['Deaths']/ df_table['Cases']).round(2)\n",
    "df_table['Continent'] = df_table['Country/Region'].map(mapping['map.continent'])\n",
    "df_table.head(5)"
   ]
  },
  {
   "cell_type": "code",
   "execution_count": 14,
   "id": "aboriginal-bulgaria",
   "metadata": {
    "execution": {
     "iopub.execute_input": "2022-07-06T12:17:17.710803Z",
     "iopub.status.busy": "2022-07-06T12:17:17.710243Z",
     "iopub.status.idle": "2022-07-06T12:17:17.714339Z",
     "shell.execute_reply": "2022-07-06T12:17:17.714767Z"
    },
    "papermill": {
     "duration": 0.039071,
     "end_time": "2022-07-06T12:17:17.714885",
     "exception": false,
     "start_time": "2022-07-06T12:17:17.675814",
     "status": "completed"
    },
    "tags": []
   },
   "outputs": [],
   "source": [
    "#hide\n",
    "#delete problematic countries from table\n",
    "df_table = df_table[~df_table['Country/Region'].isin(['Cape Verde', 'Cruise Ship', 'Kosovo'])]"
   ]
  },
  {
   "cell_type": "code",
   "execution_count": 15,
   "id": "fantastic-effect",
   "metadata": {
    "execution": {
     "iopub.execute_input": "2022-07-06T12:17:17.790142Z",
     "iopub.status.busy": "2022-07-06T12:17:17.781990Z",
     "iopub.status.idle": "2022-07-06T12:17:17.799065Z",
     "shell.execute_reply": "2022-07-06T12:17:17.798527Z"
    },
    "papermill": {
     "duration": 0.05417,
     "end_time": "2022-07-06T12:17:17.799165",
     "exception": false,
     "start_time": "2022-07-06T12:17:17.744995",
     "status": "completed"
    },
    "tags": []
   },
   "outputs": [
    {
     "data": {
      "text/html": [
       "<div>\n",
       "<style scoped>\n",
       "    .dataframe tbody tr th:only-of-type {\n",
       "        vertical-align: middle;\n",
       "    }\n",
       "\n",
       "    .dataframe tbody tr th {\n",
       "        vertical-align: top;\n",
       "    }\n",
       "\n",
       "    .dataframe thead th {\n",
       "        text-align: right;\n",
       "    }\n",
       "</style>\n",
       "<table border=\"1\" class=\"dataframe\">\n",
       "  <thead>\n",
       "    <tr style=\"text-align: right;\">\n",
       "      <th></th>\n",
       "      <th>Country/Region</th>\n",
       "      <th>Cases</th>\n",
       "      <th>Deaths</th>\n",
       "      <th>PCases</th>\n",
       "      <th>PDeaths</th>\n",
       "      <th>Cases (+)</th>\n",
       "      <th>Deaths (+)</th>\n",
       "      <th>Fatality Rate</th>\n",
       "      <th>Continent</th>\n",
       "    </tr>\n",
       "  </thead>\n",
       "  <tbody>\n",
       "    <tr>\n",
       "      <th>0</th>\n",
       "      <td>US</td>\n",
       "      <td>88066096</td>\n",
       "      <td>1018349</td>\n",
       "      <td>87886589</td>\n",
       "      <td>1017915</td>\n",
       "      <td>179507</td>\n",
       "      <td>434</td>\n",
       "      <td>1.2</td>\n",
       "      <td>North America</td>\n",
       "    </tr>\n",
       "    <tr>\n",
       "      <th>1</th>\n",
       "      <td>India</td>\n",
       "      <td>43547809</td>\n",
       "      <td>525270</td>\n",
       "      <td>43531650</td>\n",
       "      <td>525242</td>\n",
       "      <td>16159</td>\n",
       "      <td>28</td>\n",
       "      <td>1.2</td>\n",
       "      <td>Asia</td>\n",
       "    </tr>\n",
       "    <tr>\n",
       "      <th>2</th>\n",
       "      <td>Brazil</td>\n",
       "      <td>32610514</td>\n",
       "      <td>672429</td>\n",
       "      <td>32535923</td>\n",
       "      <td>672033</td>\n",
       "      <td>74591</td>\n",
       "      <td>396</td>\n",
       "      <td>2.1</td>\n",
       "      <td>South America</td>\n",
       "    </tr>\n",
       "    <tr>\n",
       "      <th>3</th>\n",
       "      <td>France</td>\n",
       "      <td>31861391</td>\n",
       "      <td>150840</td>\n",
       "      <td>31653749</td>\n",
       "      <td>150765</td>\n",
       "      <td>207642</td>\n",
       "      <td>75</td>\n",
       "      <td>0.5</td>\n",
       "      <td>Europe</td>\n",
       "    </tr>\n",
       "    <tr>\n",
       "      <th>4</th>\n",
       "      <td>Germany</td>\n",
       "      <td>28673212</td>\n",
       "      <td>141519</td>\n",
       "      <td>28542484</td>\n",
       "      <td>141397</td>\n",
       "      <td>130728</td>\n",
       "      <td>122</td>\n",
       "      <td>0.5</td>\n",
       "      <td>Europe</td>\n",
       "    </tr>\n",
       "  </tbody>\n",
       "</table>\n",
       "</div>"
      ],
      "text/plain": [
       "  Country/Region     Cases   Deaths    PCases  PDeaths  Cases (+)  Deaths (+)  \\\n",
       "0             US  88066096  1018349  87886589  1017915     179507         434   \n",
       "1          India  43547809   525270  43531650   525242      16159          28   \n",
       "2         Brazil  32610514   672429  32535923   672033      74591         396   \n",
       "3         France  31861391   150840  31653749   150765     207642          75   \n",
       "4        Germany  28673212   141519  28542484   141397     130728         122   \n",
       "\n",
       "   Fatality Rate      Continent  \n",
       "0            1.2  North America  \n",
       "1            1.2           Asia  \n",
       "2            2.1  South America  \n",
       "3            0.5         Europe  \n",
       "4            0.5         Europe  "
      ]
     },
     "execution_count": 15,
     "metadata": {},
     "output_type": "execute_result"
    }
   ],
   "source": [
    "#hide\n",
    "df_table = (pd.DataFrame(dict(Cases=dfc_cases, Deaths=dfc_deaths, PCases=dfp_cases, PDeaths=dfp_deaths))\n",
    "             .sort_values(by=['Cases', 'Deaths'], ascending=[False, False])\n",
    "             .reset_index())\n",
    "df_table.rename(columns={'index': 'Country/Region'}, inplace=True)\n",
    "for c in 'Cases, Deaths'.split(', '):\n",
    "    df_table[f'{c} (+)'] = (df_table[c] - df_table[f'P{c}']).clip(0)  # DATA BUG\n",
    "df_table['Fatality Rate'] = (100 * df_table['Deaths'] / df_table['Cases']).round(1)\n",
    "df_table['Continent'] = df_table['Country/Region'].map(mapping['map.continent'])\n",
    "df_table.head(5)"
   ]
  },
  {
   "cell_type": "code",
   "execution_count": 16,
   "id": "fewer-occasion",
   "metadata": {
    "execution": {
     "iopub.execute_input": "2022-07-06T12:17:17.865236Z",
     "iopub.status.busy": "2022-07-06T12:17:17.864662Z",
     "iopub.status.idle": "2022-07-06T12:17:17.867277Z",
     "shell.execute_reply": "2022-07-06T12:17:17.866844Z"
    },
    "papermill": {
     "duration": 0.03738,
     "end_time": "2022-07-06T12:17:17.867371",
     "exception": false,
     "start_time": "2022-07-06T12:17:17.829991",
     "status": "completed"
    },
    "tags": []
   },
   "outputs": [],
   "source": [
    "#hide\n",
    "#delete problematic countries from table\n",
    "df_table = df_table[~df_table['Country/Region'].isin(['Cape Verde', 'Cruise Ship', 'Kosovo'])]"
   ]
  },
  {
   "cell_type": "code",
   "execution_count": 17,
   "id": "related-center",
   "metadata": {
    "execution": {
     "iopub.execute_input": "2022-07-06T12:17:17.944925Z",
     "iopub.status.busy": "2022-07-06T12:17:17.944350Z",
     "iopub.status.idle": "2022-07-06T12:17:17.946993Z",
     "shell.execute_reply": "2022-07-06T12:17:17.946540Z"
    },
    "papermill": {
     "duration": 0.049196,
     "end_time": "2022-07-06T12:17:17.947089",
     "exception": false,
     "start_time": "2022-07-06T12:17:17.897893",
     "status": "completed"
    },
    "tags": []
   },
   "outputs": [],
   "source": [
    "#hide\n",
    "metrics = [df_table.columns[index] for index in [1,2,5,6]]\n",
    "# s_china = df_table[df_table['Country/Region'].eq('China')][metrics].sum().add_prefix('China ')\n",
    "s_us = df_table[df_table['Country/Region'].eq('US')][metrics].sum().add_prefix('US ')\n",
    "s_eu = df_table[df_table['Continent'].eq('Europe')][metrics].sum().add_prefix('EU ')\n",
    "s_ind = df_table[df_table['Country/Region'].eq('India')][metrics].sum().add_prefix('India ')\n",
    "summary = {'updated': pd.to_datetime(dt_today), 'since': pd.to_datetime(dt_yday)}\n",
    "summary = {'updated': pd.to_datetime(dt_today), 'since': pd.to_datetime(dt_yday)}\n",
    "summary = {**summary, **df_table[metrics].sum(), **s_ind, **s_us, **s_eu}"
   ]
  },
  {
   "cell_type": "code",
   "execution_count": 18,
   "id": "engaging-syndrome",
   "metadata": {
    "execution": {
     "iopub.execute_input": "2022-07-06T12:17:18.012927Z",
     "iopub.status.busy": "2022-07-06T12:17:18.012361Z",
     "iopub.status.idle": "2022-07-06T12:17:18.031686Z",
     "shell.execute_reply": "2022-07-06T12:17:18.031246Z"
    },
    "papermill": {
     "duration": 0.053973,
     "end_time": "2022-07-06T12:17:18.031784",
     "exception": false,
     "start_time": "2022-07-06T12:17:17.977811",
     "status": "completed"
    },
    "tags": []
   },
   "outputs": [],
   "source": [
    "#hide\n",
    "dft_ct_new_cases = dft_cases.groupby(COL_REGION)[dt_cols].sum().diff(axis=1).fillna(0).astype(int)"
   ]
  },
  {
   "cell_type": "code",
   "execution_count": 19,
   "id": "neutral-assignment",
   "metadata": {
    "execution": {
     "iopub.execute_input": "2022-07-06T12:17:18.096788Z",
     "iopub.status.busy": "2022-07-06T12:17:18.096247Z",
     "iopub.status.idle": "2022-07-06T12:17:18.100942Z",
     "shell.execute_reply": "2022-07-06T12:17:18.101384Z"
    },
    "papermill": {
     "duration": 0.039035,
     "end_time": "2022-07-06T12:17:18.101494",
     "exception": false,
     "start_time": "2022-07-06T12:17:18.062459",
     "status": "completed"
    },
    "tags": []
   },
   "outputs": [],
   "source": [
    "#hide\n",
    "everydaycases = dft_ct_new_cases.cumsum(axis=1)"
   ]
  },
  {
   "cell_type": "code",
   "execution_count": 20,
   "id": "parliamentary-calgary",
   "metadata": {
    "execution": {
     "iopub.execute_input": "2022-07-06T12:17:18.166639Z",
     "iopub.status.busy": "2022-07-06T12:17:18.166078Z",
     "iopub.status.idle": "2022-07-06T12:17:18.702231Z",
     "shell.execute_reply": "2022-07-06T12:17:18.701316Z"
    },
    "papermill": {
     "duration": 0.570309,
     "end_time": "2022-07-06T12:17:18.702352",
     "exception": false,
     "start_time": "2022-07-06T12:17:18.132043",
     "status": "completed"
    },
    "tags": []
   },
   "outputs": [],
   "source": [
    "#hide\n",
    "import pandas as pd\n",
    "import matplotlib.pyplot as plt\n",
    "import matplotlib.ticker as ticker\n",
    "import matplotlib.animation as animation\n",
    "from IPython.display import HTML"
   ]
  },
  {
   "cell_type": "code",
   "execution_count": 21,
   "id": "lasting-extraction",
   "metadata": {
    "execution": {
     "iopub.execute_input": "2022-07-06T12:17:18.769868Z",
     "iopub.status.busy": "2022-07-06T12:17:18.769314Z",
     "iopub.status.idle": "2022-07-06T12:17:18.775831Z",
     "shell.execute_reply": "2022-07-06T12:17:18.775298Z"
    },
    "papermill": {
     "duration": 0.042779,
     "end_time": "2022-07-06T12:17:18.775933",
     "exception": false,
     "start_time": "2022-07-06T12:17:18.733154",
     "status": "completed"
    },
    "tags": []
   },
   "outputs": [],
   "source": [
    "#hide\n",
    "t = everydaycases.stack()"
   ]
  },
  {
   "cell_type": "code",
   "execution_count": 22,
   "id": "premier-sleeve",
   "metadata": {
    "execution": {
     "iopub.execute_input": "2022-07-06T12:17:18.841253Z",
     "iopub.status.busy": "2022-07-06T12:17:18.840671Z",
     "iopub.status.idle": "2022-07-06T12:17:18.852133Z",
     "shell.execute_reply": "2022-07-06T12:17:18.851593Z"
    },
    "papermill": {
     "duration": 0.04546,
     "end_time": "2022-07-06T12:17:18.852233",
     "exception": false,
     "start_time": "2022-07-06T12:17:18.806773",
     "status": "completed"
    },
    "tags": []
   },
   "outputs": [],
   "source": [
    "#hide\n",
    "g = t.reset_index(['Country/Region'])"
   ]
  },
  {
   "cell_type": "code",
   "execution_count": 23,
   "id": "distributed-pittsburgh",
   "metadata": {
    "execution": {
     "iopub.execute_input": "2022-07-06T12:17:18.916752Z",
     "iopub.status.busy": "2022-07-06T12:17:18.916192Z",
     "iopub.status.idle": "2022-07-06T12:17:18.918693Z",
     "shell.execute_reply": "2022-07-06T12:17:18.918176Z"
    },
    "papermill": {
     "duration": 0.036016,
     "end_time": "2022-07-06T12:17:18.918789",
     "exception": false,
     "start_time": "2022-07-06T12:17:18.882773",
     "status": "completed"
    },
    "tags": []
   },
   "outputs": [],
   "source": [
    "#hide\n",
    "g.index.name = 'date'"
   ]
  },
  {
   "cell_type": "code",
   "execution_count": 24,
   "id": "naked-donor",
   "metadata": {
    "execution": {
     "iopub.execute_input": "2022-07-06T12:17:18.983547Z",
     "iopub.status.busy": "2022-07-06T12:17:18.982970Z",
     "iopub.status.idle": "2022-07-06T12:17:18.985452Z",
     "shell.execute_reply": "2022-07-06T12:17:18.985019Z"
    },
    "papermill": {
     "duration": 0.036038,
     "end_time": "2022-07-06T12:17:18.985552",
     "exception": false,
     "start_time": "2022-07-06T12:17:18.949514",
     "status": "completed"
    },
    "tags": []
   },
   "outputs": [],
   "source": [
    "# #hide\n",
    "# g = g.reset_index(['date'])"
   ]
  },
  {
   "cell_type": "code",
   "execution_count": 25,
   "id": "incomplete-mustang",
   "metadata": {
    "execution": {
     "iopub.execute_input": "2022-07-06T12:17:19.049874Z",
     "iopub.status.busy": "2022-07-06T12:17:19.049310Z",
     "iopub.status.idle": "2022-07-06T12:17:19.051655Z",
     "shell.execute_reply": "2022-07-06T12:17:19.051135Z"
    },
    "papermill": {
     "duration": 0.035638,
     "end_time": "2022-07-06T12:17:19.051750",
     "exception": false,
     "start_time": "2022-07-06T12:17:19.016112",
     "status": "completed"
    },
    "tags": []
   },
   "outputs": [],
   "source": [
    "#hide\n",
    "# g.head()"
   ]
  },
  {
   "cell_type": "code",
   "execution_count": 26,
   "id": "specific-kruger",
   "metadata": {
    "execution": {
     "iopub.execute_input": "2022-07-06T12:17:19.116930Z",
     "iopub.status.busy": "2022-07-06T12:17:19.116329Z",
     "iopub.status.idle": "2022-07-06T12:17:19.118816Z",
     "shell.execute_reply": "2022-07-06T12:17:19.118397Z"
    },
    "papermill": {
     "duration": 0.036415,
     "end_time": "2022-07-06T12:17:19.118915",
     "exception": false,
     "start_time": "2022-07-06T12:17:19.082500",
     "status": "completed"
    },
    "tags": []
   },
   "outputs": [],
   "source": [
    "#hide\n",
    "# g.columns = ['date','country','cases']"
   ]
  },
  {
   "cell_type": "code",
   "execution_count": 27,
   "id": "tender-conversion",
   "metadata": {
    "execution": {
     "iopub.execute_input": "2022-07-06T12:17:19.183882Z",
     "iopub.status.busy": "2022-07-06T12:17:19.183327Z",
     "iopub.status.idle": "2022-07-06T12:17:19.187016Z",
     "shell.execute_reply": "2022-07-06T12:17:19.186561Z"
    },
    "papermill": {
     "duration": 0.037528,
     "end_time": "2022-07-06T12:17:19.187113",
     "exception": false,
     "start_time": "2022-07-06T12:17:19.149585",
     "status": "completed"
    },
    "tags": []
   },
   "outputs": [],
   "source": [
    "#hide\n",
    "# g['continent'] = g.country"
   ]
  },
  {
   "cell_type": "code",
   "execution_count": 28,
   "id": "substantial-wilderness",
   "metadata": {
    "execution": {
     "iopub.execute_input": "2022-07-06T12:17:19.252087Z",
     "iopub.status.busy": "2022-07-06T12:17:19.251524Z",
     "iopub.status.idle": "2022-07-06T12:17:19.254015Z",
     "shell.execute_reply": "2022-07-06T12:17:19.253576Z"
    },
    "papermill": {
     "duration": 0.036236,
     "end_time": "2022-07-06T12:17:19.254111",
     "exception": false,
     "start_time": "2022-07-06T12:17:19.217875",
     "status": "completed"
    },
    "tags": []
   },
   "outputs": [],
   "source": [
    "#hide\n",
    "# cols = list(g.columns.values)"
   ]
  },
  {
   "cell_type": "code",
   "execution_count": 29,
   "id": "solved-farming",
   "metadata": {
    "execution": {
     "iopub.execute_input": "2022-07-06T12:17:19.318361Z",
     "iopub.status.busy": "2022-07-06T12:17:19.317796Z",
     "iopub.status.idle": "2022-07-06T12:17:19.319790Z",
     "shell.execute_reply": "2022-07-06T12:17:19.320185Z"
    },
    "papermill": {
     "duration": 0.035596,
     "end_time": "2022-07-06T12:17:19.320297",
     "exception": false,
     "start_time": "2022-07-06T12:17:19.284701",
     "status": "completed"
    },
    "tags": []
   },
   "outputs": [],
   "source": [
    "#hide\n",
    "# cols.insert(0, cols.pop())"
   ]
  },
  {
   "cell_type": "code",
   "execution_count": 30,
   "id": "executed-adoption",
   "metadata": {
    "execution": {
     "iopub.execute_input": "2022-07-06T12:17:19.384778Z",
     "iopub.status.busy": "2022-07-06T12:17:19.384199Z",
     "iopub.status.idle": "2022-07-06T12:17:19.386533Z",
     "shell.execute_reply": "2022-07-06T12:17:19.386013Z"
    },
    "papermill": {
     "duration": 0.035775,
     "end_time": "2022-07-06T12:17:19.386630",
     "exception": false,
     "start_time": "2022-07-06T12:17:19.350855",
     "status": "completed"
    },
    "tags": []
   },
   "outputs": [],
   "source": [
    "#hide\n",
    "# g = g[cols]"
   ]
  },
  {
   "cell_type": "code",
   "execution_count": 31,
   "id": "subject-dublin",
   "metadata": {
    "execution": {
     "iopub.execute_input": "2022-07-06T12:17:19.451300Z",
     "iopub.status.busy": "2022-07-06T12:17:19.450754Z",
     "iopub.status.idle": "2022-07-06T12:17:19.454195Z",
     "shell.execute_reply": "2022-07-06T12:17:19.454602Z"
    },
    "papermill": {
     "duration": 0.037445,
     "end_time": "2022-07-06T12:17:19.454717",
     "exception": false,
     "start_time": "2022-07-06T12:17:19.417272",
     "status": "completed"
    },
    "tags": []
   },
   "outputs": [],
   "source": [
    "#hide\n",
    "# g['continent'] = g['continent'].map(mapping['map.continent'])"
   ]
  },
  {
   "cell_type": "code",
   "execution_count": 32,
   "id": "freelance-scout",
   "metadata": {
    "execution": {
     "iopub.execute_input": "2022-07-06T12:17:19.521333Z",
     "iopub.status.busy": "2022-07-06T12:17:19.520735Z",
     "iopub.status.idle": "2022-07-06T12:17:19.522946Z",
     "shell.execute_reply": "2022-07-06T12:17:19.523351Z"
    },
    "papermill": {
     "duration": 0.03625,
     "end_time": "2022-07-06T12:17:19.523467",
     "exception": false,
     "start_time": "2022-07-06T12:17:19.487217",
     "status": "completed"
    },
    "tags": []
   },
   "outputs": [],
   "source": [
    "#hide\n",
    "# g.head()"
   ]
  },
  {
   "cell_type": "code",
   "execution_count": 33,
   "id": "limited-engine",
   "metadata": {
    "execution": {
     "iopub.execute_input": "2022-07-06T12:17:19.588675Z",
     "iopub.status.busy": "2022-07-06T12:17:19.588105Z",
     "iopub.status.idle": "2022-07-06T12:17:19.590313Z",
     "shell.execute_reply": "2022-07-06T12:17:19.590726Z"
    },
    "papermill": {
     "duration": 0.036534,
     "end_time": "2022-07-06T12:17:19.590846",
     "exception": false,
     "start_time": "2022-07-06T12:17:19.554312",
     "status": "completed"
    },
    "tags": []
   },
   "outputs": [],
   "source": [
    "# hide\n",
    "# g['date'] = g['date'].astype('datetime64[ns]')"
   ]
  },
  {
   "cell_type": "code",
   "execution_count": 34,
   "id": "sophisticated-supervisor",
   "metadata": {
    "execution": {
     "iopub.execute_input": "2022-07-06T12:17:19.656200Z",
     "iopub.status.busy": "2022-07-06T12:17:19.655604Z",
     "iopub.status.idle": "2022-07-06T12:17:19.657861Z",
     "shell.execute_reply": "2022-07-06T12:17:19.658266Z"
    },
    "papermill": {
     "duration": 0.036669,
     "end_time": "2022-07-06T12:17:19.658384",
     "exception": false,
     "start_time": "2022-07-06T12:17:19.621715",
     "status": "completed"
    },
    "tags": []
   },
   "outputs": [],
   "source": [
    "#hide\n",
    "# g['date'] = g.date.dt.dayofyear"
   ]
  },
  {
   "cell_type": "code",
   "execution_count": 35,
   "id": "inside-dubai",
   "metadata": {
    "execution": {
     "iopub.execute_input": "2022-07-06T12:17:19.723269Z",
     "iopub.status.busy": "2022-07-06T12:17:19.722706Z",
     "iopub.status.idle": "2022-07-06T12:17:19.725170Z",
     "shell.execute_reply": "2022-07-06T12:17:19.724735Z"
    },
    "papermill": {
     "duration": 0.036268,
     "end_time": "2022-07-06T12:17:19.725271",
     "exception": false,
     "start_time": "2022-07-06T12:17:19.689003",
     "status": "completed"
    },
    "tags": []
   },
   "outputs": [],
   "source": [
    "#hide\n",
    "# g = g.rename(columns= {'continent':'group','country':'name','cases':'value'})"
   ]
  },
  {
   "cell_type": "code",
   "execution_count": 36,
   "id": "fleet-motorcycle",
   "metadata": {
    "execution": {
     "iopub.execute_input": "2022-07-06T12:17:19.790561Z",
     "iopub.status.busy": "2022-07-06T12:17:19.789995Z",
     "iopub.status.idle": "2022-07-06T12:17:19.792400Z",
     "shell.execute_reply": "2022-07-06T12:17:19.791874Z"
    },
    "papermill": {
     "duration": 0.036405,
     "end_time": "2022-07-06T12:17:19.792498",
     "exception": false,
     "start_time": "2022-07-06T12:17:19.756093",
     "status": "completed"
    },
    "tags": []
   },
   "outputs": [],
   "source": [
    "#hide\n",
    "# cols = ['name','group','day','value']"
   ]
  },
  {
   "cell_type": "code",
   "execution_count": 37,
   "id": "continued-sleeping",
   "metadata": {
    "execution": {
     "iopub.execute_input": "2022-07-06T12:17:19.857619Z",
     "iopub.status.busy": "2022-07-06T12:17:19.857063Z",
     "iopub.status.idle": "2022-07-06T12:17:19.860497Z",
     "shell.execute_reply": "2022-07-06T12:17:19.860934Z"
    },
    "papermill": {
     "duration": 0.037829,
     "end_time": "2022-07-06T12:17:19.861056",
     "exception": false,
     "start_time": "2022-07-06T12:17:19.823227",
     "status": "completed"
    },
    "tags": []
   },
   "outputs": [],
   "source": [
    "#hide\n",
    "# g.rename(columns= {'date':'day'},inplace = True)"
   ]
  },
  {
   "cell_type": "code",
   "execution_count": 38,
   "id": "major-fight",
   "metadata": {
    "execution": {
     "iopub.execute_input": "2022-07-06T12:17:19.925570Z",
     "iopub.status.busy": "2022-07-06T12:17:19.924999Z",
     "iopub.status.idle": "2022-07-06T12:17:19.927151Z",
     "shell.execute_reply": "2022-07-06T12:17:19.927552Z"
    },
    "papermill": {
     "duration": 0.035945,
     "end_time": "2022-07-06T12:17:19.927667",
     "exception": false,
     "start_time": "2022-07-06T12:17:19.891722",
     "status": "completed"
    },
    "tags": []
   },
   "outputs": [],
   "source": [
    "#hide\n",
    "# g = g[cols]"
   ]
  },
  {
   "cell_type": "code",
   "execution_count": 39,
   "id": "structured-mobile",
   "metadata": {
    "execution": {
     "iopub.execute_input": "2022-07-06T12:17:19.991892Z",
     "iopub.status.busy": "2022-07-06T12:17:19.991324Z",
     "iopub.status.idle": "2022-07-06T12:17:19.993229Z",
     "shell.execute_reply": "2022-07-06T12:17:19.992699Z"
    },
    "papermill": {
     "duration": 0.035197,
     "end_time": "2022-07-06T12:17:19.993321",
     "exception": false,
     "start_time": "2022-07-06T12:17:19.958124",
     "status": "completed"
    },
    "tags": []
   },
   "outputs": [],
   "source": [
    "# #hide\n",
    "# g = g[g.group.notna()]"
   ]
  },
  {
   "cell_type": "code",
   "execution_count": 40,
   "id": "determined-closing",
   "metadata": {
    "execution": {
     "iopub.execute_input": "2022-07-06T12:17:20.058204Z",
     "iopub.status.busy": "2022-07-06T12:17:20.057626Z",
     "iopub.status.idle": "2022-07-06T12:17:20.059792Z",
     "shell.execute_reply": "2022-07-06T12:17:20.060198Z"
    },
    "papermill": {
     "duration": 0.036322,
     "end_time": "2022-07-06T12:17:20.060311",
     "exception": false,
     "start_time": "2022-07-06T12:17:20.023989",
     "status": "completed"
    },
    "tags": []
   },
   "outputs": [],
   "source": [
    "# #hide\n",
    "# colors = dict(zip(\n",
    "#     [\"Oceania\", \"Europe\", \"Asia\", \"South America\", \"Middle East\", \"North America\", \"Africa\"],\n",
    "#     [\"#adb0ff\", \"#ffb3ff\", \"#90d595\", \"#e48381\", \"#aafbff\", \"#f7bb5f\", \"#eafb50\"]\n",
    "# ))\n",
    "# group_lk = g.set_index('name')['group'].to_dict()"
   ]
  },
  {
   "cell_type": "code",
   "execution_count": null,
   "id": "gross-drinking",
   "metadata": {
    "papermill": {
     "duration": 0.030739,
     "end_time": "2022-07-06T12:17:20.121827",
     "exception": false,
     "start_time": "2022-07-06T12:17:20.091088",
     "status": "completed"
    },
    "tags": []
   },
   "outputs": [],
   "source": []
  },
  {
   "cell_type": "code",
   "execution_count": 41,
   "id": "subject-macintosh",
   "metadata": {
    "execution": {
     "iopub.execute_input": "2022-07-06T12:17:20.187042Z",
     "iopub.status.busy": "2022-07-06T12:17:20.186472Z",
     "iopub.status.idle": "2022-07-06T12:17:20.188352Z",
     "shell.execute_reply": "2022-07-06T12:17:20.187841Z"
    },
    "papermill": {
     "duration": 0.035906,
     "end_time": "2022-07-06T12:17:20.188445",
     "exception": false,
     "start_time": "2022-07-06T12:17:20.152539",
     "status": "completed"
    },
    "tags": []
   },
   "outputs": [],
   "source": [
    "# #hide\n",
    "# fig, ax = plt.subplots(figsize=(15, 8))\n",
    "\n",
    "# def draw_barchart(current_day):\n",
    "#     dff = g[g['day'].eq(current_day)].sort_values(by='value', ascending=True).tail(10)\n",
    "#     ax.clear()\n",
    "#     ax.barh(dff['name'], dff['value'], color=[colors[group_lk[x]] for x in dff['name']])\n",
    "#     dx = dff['value'].max() / 200\n",
    "    \n",
    "#     for i, (value, name) in enumerate(zip(dff['value'], dff['name'])):\n",
    "#         ax.text(value-dx, i,     name,           size=14, weight=600, ha='right', va='bottom')\n",
    "#         ax.text(value-dx, i-.25, group_lk[name], size=10, color='#444444', ha='right', va='baseline')\n",
    "#         ax.text(value+dx, i,     f'{value:,.0f}',  size=14, ha='left',  va='center')\n",
    "#     ax.text(1, 0.4, current_day, transform=ax.transAxes, color='#777777', size=46, ha='right', weight=800)\n",
    "#     ax.text(0, 1.06, 'Population (thousands)', transform=ax.transAxes, size=12, color='#777777')\n",
    "#     ax.xaxis.set_major_formatter(ticker.StrMethodFormatter('{x:,.0f}'))\n",
    "#     ax.xaxis.set_ticks_position('top')\n",
    "#     ax.tick_params(axis='x', colors='#777777', labelsize=12)\n",
    "#     ax.set_yticks([])\n",
    "#     ax.margins(0, 0.01)\n",
    "#     ax.grid(which='major', axis='x', linestyle='-')\n",
    "#     ax.set_axisbelow(True)\n",
    "    \n",
    "#     ax.text(0, 1.15, 'Coronavirus',\n",
    "#             transform=ax.transAxes, size=24, weight=600, ha='left', va='top')\n",
    "# #     ax.text(1, 0, 'by @pratapvardhan; credit @jburnmurdoch', transform=ax.transAxes, color='#777777', ha='right',\n",
    "# #             bbox=dict(facecolor='white', alpha=0.8, edgecolor='white'))\n",
    "#     plt.box(False)"
   ]
  },
  {
   "cell_type": "code",
   "execution_count": 42,
   "id": "sexual-wages",
   "metadata": {
    "execution": {
     "iopub.execute_input": "2022-07-06T12:17:20.253578Z",
     "iopub.status.busy": "2022-07-06T12:17:20.253016Z",
     "iopub.status.idle": "2022-07-06T12:17:20.254937Z",
     "shell.execute_reply": "2022-07-06T12:17:20.254429Z"
    },
    "papermill": {
     "duration": 0.035849,
     "end_time": "2022-07-06T12:17:20.255029",
     "exception": false,
     "start_time": "2022-07-06T12:17:20.219180",
     "status": "completed"
    },
    "tags": []
   },
   "outputs": [],
   "source": [
    "# #hide_input\n",
    "# fig, ax = plt.subplots(figsize=(15, 8))\n",
    "# animator = animation.FuncAnimation(fig, draw_barchart, frames=range(g.day.values.min(), g.day.values.max()))\n",
    "# HTML(animator.to_jshtml())\n",
    "# # or use animator.to_html5_video() or animator.save() "
   ]
  },
  {
   "cell_type": "code",
   "execution_count": null,
   "id": "australian-container",
   "metadata": {
    "papermill": {
     "duration": 0.030424,
     "end_time": "2022-07-06T12:17:20.316068",
     "exception": false,
     "start_time": "2022-07-06T12:17:20.285644",
     "status": "completed"
    },
    "tags": []
   },
   "outputs": [],
   "source": []
  },
  {
   "cell_type": "code",
   "execution_count": null,
   "id": "mediterranean-pontiac",
   "metadata": {
    "papermill": {
     "duration": 0.030463,
     "end_time": "2022-07-06T12:17:20.376946",
     "exception": false,
     "start_time": "2022-07-06T12:17:20.346483",
     "status": "completed"
    },
    "tags": []
   },
   "outputs": [],
   "source": []
  },
  {
   "cell_type": "code",
   "execution_count": null,
   "id": "aging-legislature",
   "metadata": {
    "papermill": {
     "duration": 0.030464,
     "end_time": "2022-07-06T12:17:20.438143",
     "exception": false,
     "start_time": "2022-07-06T12:17:20.407679",
     "status": "completed"
    },
    "tags": []
   },
   "outputs": [],
   "source": []
  }
 ],
 "metadata": {
  "kernelspec": {
   "display_name": "Python 3",
   "language": "python",
   "name": "python3"
  },
  "language_info": {
   "codemirror_mode": {
    "name": "ipython",
    "version": 3
   },
   "file_extension": ".py",
   "mimetype": "text/x-python",
   "name": "python",
   "nbconvert_exporter": "python",
   "pygments_lexer": "ipython3",
   "version": "3.6.15"
  },
  "papermill": {
   "duration": 5.824892,
   "end_time": "2022-07-06T12:17:20.785550",
   "environment_variables": {},
   "exception": null,
   "input_path": "2020-03-21-covid19exp.ipynb",
   "output_path": "2020-03-21-covid19exp.ipynb",
   "parameters": {},
   "start_time": "2022-07-06T12:17:14.960658",
   "version": "2.0.0"
  }
 },
 "nbformat": 4,
 "nbformat_minor": 5
}