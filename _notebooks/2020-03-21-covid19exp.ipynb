{
 "cells": [
  {
   "cell_type": "markdown",
   "id": "muslim-click",
   "metadata": {
    "papermill": {
     "duration": 0.036581,
     "end_time": "2022-10-27T12:21:11.741825",
     "exception": false,
     "start_time": "2022-10-27T12:21:11.705244",
     "status": "completed"
    },
    "tags": []
   },
   "source": [
    "# COVID-19 Case Race\n",
    "> A race chart to see rising cases around the world\n",
    "\n",
    "- author: Hargun Oberoi\n",
    "- image: images/covid-overview.png\n",
    "- hide: false\n",
    "- badges: false"
   ]
  },
  {
   "cell_type": "code",
   "execution_count": 1,
   "id": "proof-material",
   "metadata": {
    "execution": {
     "iopub.execute_input": "2022-10-27T12:21:11.812400Z",
     "iopub.status.busy": "2022-10-27T12:21:11.811784Z",
     "iopub.status.idle": "2022-10-27T12:21:12.146119Z",
     "shell.execute_reply": "2022-10-27T12:21:12.146642Z"
    },
    "papermill": {
     "duration": 0.374559,
     "end_time": "2022-10-27T12:21:12.146833",
     "exception": false,
     "start_time": "2022-10-27T12:21:11.772274",
     "status": "completed"
    },
    "tags": []
   },
   "outputs": [],
   "source": [
    "#hide\n",
    "import numpy as np\n",
    "import pandas as pd\n",
    "from jinja2 import Template\n",
    "from IPython.display import HTML"
   ]
  },
  {
   "cell_type": "code",
   "execution_count": 2,
   "id": "developed-terminology",
   "metadata": {
    "execution": {
     "iopub.execute_input": "2022-10-27T12:21:12.212059Z",
     "iopub.status.busy": "2022-10-27T12:21:12.211446Z",
     "iopub.status.idle": "2022-10-27T12:21:12.213831Z",
     "shell.execute_reply": "2022-10-27T12:21:12.214390Z"
    },
    "papermill": {
     "duration": 0.037394,
     "end_time": "2022-10-27T12:21:12.214522",
     "exception": false,
     "start_time": "2022-10-27T12:21:12.177128",
     "status": "completed"
    },
    "tags": []
   },
   "outputs": [],
   "source": [
    "#hide\n",
    "\n",
    "# FETCH\n",
    "base_url = 'https://raw.githubusercontent.com/pratapvardhan/notebooks/master/covid19/'\n",
    "paths = {\n",
    "    'mapping': base_url + 'mapping_countries.csv',\n",
    "    'overview': base_url + 'overview.tpl'\n",
    "}"
   ]
  },
  {
   "cell_type": "code",
   "execution_count": 3,
   "id": "dynamic-saver",
   "metadata": {
    "execution": {
     "iopub.execute_input": "2022-10-27T12:21:12.284229Z",
     "iopub.status.busy": "2022-10-27T12:21:12.283632Z",
     "iopub.status.idle": "2022-10-27T12:21:12.286924Z",
     "shell.execute_reply": "2022-10-27T12:21:12.287499Z"
    },
    "papermill": {
     "duration": 0.043718,
     "end_time": "2022-10-27T12:21:12.287632",
     "exception": false,
     "start_time": "2022-10-27T12:21:12.243914",
     "status": "completed"
    },
    "tags": []
   },
   "outputs": [
    {
     "data": {
      "text/plain": [
       "'https://raw.githubusercontent.com/pratapvardhan/notebooks/master/covid19/mapping_countries.csv'"
      ]
     },
     "execution_count": 3,
     "metadata": {},
     "output_type": "execute_result"
    }
   ],
   "source": [
    "#hide\n",
    "paths['mapping']"
   ]
  },
  {
   "cell_type": "code",
   "execution_count": 4,
   "id": "urban-software",
   "metadata": {
    "execution": {
     "iopub.execute_input": "2022-10-27T12:21:12.353361Z",
     "iopub.status.busy": "2022-10-27T12:21:12.352670Z",
     "iopub.status.idle": "2022-10-27T12:21:12.354869Z",
     "shell.execute_reply": "2022-10-27T12:21:12.355393Z"
    },
    "papermill": {
     "duration": 0.038217,
     "end_time": "2022-10-27T12:21:12.355549",
     "exception": false,
     "start_time": "2022-10-27T12:21:12.317332",
     "status": "completed"
    },
    "tags": []
   },
   "outputs": [],
   "source": [
    "#hide\n",
    "def get_mappings(url):\n",
    "    df = pd.read_csv(url)\n",
    "    return {\n",
    "        'df': df,\n",
    "        'replace.country': dict(df.dropna(subset=['Name']).set_index('Country')['Name']),\n",
    "        'map.continent': dict(df.set_index('Name')['Continent'])\n",
    "    }"
   ]
  },
  {
   "cell_type": "code",
   "execution_count": 5,
   "id": "intimate-machinery",
   "metadata": {
    "execution": {
     "iopub.execute_input": "2022-10-27T12:21:12.420453Z",
     "iopub.status.busy": "2022-10-27T12:21:12.419861Z",
     "iopub.status.idle": "2022-10-27T12:21:12.460837Z",
     "shell.execute_reply": "2022-10-27T12:21:12.461329Z"
    },
    "papermill": {
     "duration": 0.076254,
     "end_time": "2022-10-27T12:21:12.461471",
     "exception": false,
     "start_time": "2022-10-27T12:21:12.385217",
     "status": "completed"
    },
    "tags": []
   },
   "outputs": [],
   "source": [
    "#hide\n",
    "mapping = get_mappings(paths['mapping'])"
   ]
  },
  {
   "cell_type": "code",
   "execution_count": 6,
   "id": "certified-tactics",
   "metadata": {
    "execution": {
     "iopub.execute_input": "2022-10-27T12:21:12.526865Z",
     "iopub.status.busy": "2022-10-27T12:21:12.526164Z",
     "iopub.status.idle": "2022-10-27T12:21:12.527929Z",
     "shell.execute_reply": "2022-10-27T12:21:12.528396Z"
    },
    "papermill": {
     "duration": 0.037222,
     "end_time": "2022-10-27T12:21:12.528527",
     "exception": false,
     "start_time": "2022-10-27T12:21:12.491305",
     "status": "completed"
    },
    "tags": []
   },
   "outputs": [],
   "source": [
    "#hide\n",
    "def get_template(path):\n",
    "    from urllib.parse import urlparse\n",
    "    if bool(urlparse(path).netloc):\n",
    "        from urllib.request import urlopen\n",
    "        return urlopen(path).read().decode('utf8')\n",
    "    return open(path).read()"
   ]
  },
  {
   "cell_type": "code",
   "execution_count": 7,
   "id": "realistic-blast",
   "metadata": {
    "execution": {
     "iopub.execute_input": "2022-10-27T12:21:12.593353Z",
     "iopub.status.busy": "2022-10-27T12:21:12.592659Z",
     "iopub.status.idle": "2022-10-27T12:21:12.595283Z",
     "shell.execute_reply": "2022-10-27T12:21:12.594710Z"
    },
    "papermill": {
     "duration": 0.037191,
     "end_time": "2022-10-27T12:21:12.595413",
     "exception": false,
     "start_time": "2022-10-27T12:21:12.558222",
     "status": "completed"
    },
    "tags": []
   },
   "outputs": [],
   "source": [
    "#hide\n",
    "def get_frame(name):\n",
    "    url = (\n",
    "        'https://raw.githubusercontent.com/CSSEGISandData/COVID-19/master/csse_covid_19_data/'\n",
    "        f'csse_covid_19_time_series/time_series_covid19_{name}_global.csv')\n",
    "    df = pd.read_csv(url)\n",
    "    # rename countries\n",
    "    df['Country/Region'] = df['Country/Region'].replace(mapping['replace.country'])\n",
    "    return df"
   ]
  },
  {
   "cell_type": "code",
   "execution_count": 8,
   "id": "affiliated-characterization",
   "metadata": {
    "execution": {
     "iopub.execute_input": "2022-10-27T12:21:12.661785Z",
     "iopub.status.busy": "2022-10-27T12:21:12.661153Z",
     "iopub.status.idle": "2022-10-27T12:21:12.663162Z",
     "shell.execute_reply": "2022-10-27T12:21:12.663624Z"
    },
    "papermill": {
     "duration": 0.0381,
     "end_time": "2022-10-27T12:21:12.663755",
     "exception": false,
     "start_time": "2022-10-27T12:21:12.625655",
     "status": "completed"
    },
    "tags": []
   },
   "outputs": [],
   "source": [
    "#hide\n",
    "def get_dates(df):\n",
    "    dt_cols = df.columns[~df.columns.isin(['Province/State', 'Country/Region', 'Lat', 'Long'])]\n",
    "    LAST_DATE_I = -1\n",
    "    # sometimes last column may be empty, then go backwards\n",
    "    for i in range(-1, -len(dt_cols), -1):\n",
    "        if not df[dt_cols[i]].fillna(0).eq(0).all():\n",
    "            LAST_DATE_I = i\n",
    "            break\n",
    "    return LAST_DATE_I, dt_cols"
   ]
  },
  {
   "cell_type": "code",
   "execution_count": 9,
   "id": "recent-optimization",
   "metadata": {
    "execution": {
     "iopub.execute_input": "2022-10-27T12:21:12.728788Z",
     "iopub.status.busy": "2022-10-27T12:21:12.728188Z",
     "iopub.status.idle": "2022-10-27T12:21:13.260759Z",
     "shell.execute_reply": "2022-10-27T12:21:13.260191Z"
    },
    "papermill": {
     "duration": 0.56742,
     "end_time": "2022-10-27T12:21:13.260898",
     "exception": false,
     "start_time": "2022-10-27T12:21:12.693478",
     "status": "completed"
    },
    "tags": []
   },
   "outputs": [],
   "source": [
    "#hide\n",
    "COL_REGION = 'Country/Region'\n",
    "# Confirmed, Recovered, Deaths\n",
    "df = get_frame('confirmed')\n",
    "# dft_: timeseries, dfc_: today country agg\n",
    "dft_cases = df\n",
    "dft_deaths = get_frame('deaths')\n",
    "dft_recovered = get_frame('recovered')\n",
    "LAST_DATE_I, dt_cols = get_dates(df)"
   ]
  },
  {
   "cell_type": "code",
   "execution_count": 10,
   "id": "absolute-copper",
   "metadata": {
    "execution": {
     "iopub.execute_input": "2022-10-27T12:21:13.326558Z",
     "iopub.status.busy": "2022-10-27T12:21:13.325974Z",
     "iopub.status.idle": "2022-10-27T12:21:13.328392Z",
     "shell.execute_reply": "2022-10-27T12:21:13.328810Z"
    },
    "papermill": {
     "duration": 0.037941,
     "end_time": "2022-10-27T12:21:13.328941",
     "exception": false,
     "start_time": "2022-10-27T12:21:13.291000",
     "status": "completed"
    },
    "tags": []
   },
   "outputs": [],
   "source": [
    "#hide\n",
    "LAST_DATE_I, dt_cols = get_dates(df)\n",
    "dt_today =dt_cols[LAST_DATE_I]\n",
    "# dt_5day = dt_cols[LAST_DATE_I - 5]\n",
    "dt_yday = dt_cols[LAST_DATE_I - 1]"
   ]
  },
  {
   "cell_type": "code",
   "execution_count": 11,
   "id": "restricted-sheriff",
   "metadata": {
    "execution": {
     "iopub.execute_input": "2022-10-27T12:21:13.396248Z",
     "iopub.status.busy": "2022-10-27T12:21:13.395659Z",
     "iopub.status.idle": "2022-10-27T12:21:13.402183Z",
     "shell.execute_reply": "2022-10-27T12:21:13.401568Z"
    },
    "papermill": {
     "duration": 0.043757,
     "end_time": "2022-10-27T12:21:13.402320",
     "exception": false,
     "start_time": "2022-10-27T12:21:13.358563",
     "status": "completed"
    },
    "tags": []
   },
   "outputs": [],
   "source": [
    "#hide\n",
    "dfc_cases = dft_cases.groupby(COL_REGION)[dt_today].sum()\n",
    "dfc_deaths = dft_deaths.groupby(COL_REGION)[dt_today].sum()\n",
    "# dfp_cases = dft_cases.groupby(COL_REGION)[dt_5day].sum()\n",
    "# dfp_deaths = dft_deaths.groupby(COL_REGION)[dt_5day].sum()\n",
    "dfp_cases = dft_cases.groupby(COL_REGION)[dt_yday].sum()\n",
    "dfp_deaths = dft_deaths.groupby(COL_REGION)[dt_yday].sum()"
   ]
  },
  {
   "cell_type": "code",
   "execution_count": 12,
   "id": "deluxe-hepatitis",
   "metadata": {
    "execution": {
     "iopub.execute_input": "2022-10-27T12:21:13.468459Z",
     "iopub.status.busy": "2022-10-27T12:21:13.467871Z",
     "iopub.status.idle": "2022-10-27T12:21:13.472259Z",
     "shell.execute_reply": "2022-10-27T12:21:13.472814Z"
    },
    "papermill": {
     "duration": 0.040672,
     "end_time": "2022-10-27T12:21:13.472944",
     "exception": false,
     "start_time": "2022-10-27T12:21:13.432272",
     "status": "completed"
    },
    "tags": []
   },
   "outputs": [],
   "source": [
    "#hide\n",
    "df_table = (pd.DataFrame(dict(Cases = dfc_cases, Deaths = dfc_deaths, PCases = dfp_cases, PDeaths = dfp_deaths))\n",
    "            .sort_values(by = ['Cases','Deaths'], ascending = [False, False])\n",
    "            .reset_index())"
   ]
  },
  {
   "cell_type": "code",
   "execution_count": 13,
   "id": "educational-chancellor",
   "metadata": {
    "execution": {
     "iopub.execute_input": "2022-10-27T12:21:13.550228Z",
     "iopub.status.busy": "2022-10-27T12:21:13.549597Z",
     "iopub.status.idle": "2022-10-27T12:21:13.558488Z",
     "shell.execute_reply": "2022-10-27T12:21:13.558004Z"
    },
    "papermill": {
     "duration": 0.056058,
     "end_time": "2022-10-27T12:21:13.558604",
     "exception": false,
     "start_time": "2022-10-27T12:21:13.502546",
     "status": "completed"
    },
    "tags": []
   },
   "outputs": [
    {
     "data": {
      "text/html": [
       "<div>\n",
       "<style scoped>\n",
       "    .dataframe tbody tr th:only-of-type {\n",
       "        vertical-align: middle;\n",
       "    }\n",
       "\n",
       "    .dataframe tbody tr th {\n",
       "        vertical-align: top;\n",
       "    }\n",
       "\n",
       "    .dataframe thead th {\n",
       "        text-align: right;\n",
       "    }\n",
       "</style>\n",
       "<table border=\"1\" class=\"dataframe\">\n",
       "  <thead>\n",
       "    <tr style=\"text-align: right;\">\n",
       "      <th></th>\n",
       "      <th>Country/Region</th>\n",
       "      <th>Cases</th>\n",
       "      <th>Deaths</th>\n",
       "      <th>PCases</th>\n",
       "      <th>PDeaths</th>\n",
       "      <th>Cases (+)</th>\n",
       "      <th>Deaths (+)</th>\n",
       "      <th>Fatality Rate</th>\n",
       "      <th>Continent</th>\n",
       "    </tr>\n",
       "  </thead>\n",
       "  <tbody>\n",
       "    <tr>\n",
       "      <th>0</th>\n",
       "      <td>US</td>\n",
       "      <td>97343426</td>\n",
       "      <td>1069449</td>\n",
       "      <td>97273529</td>\n",
       "      <td>1068354</td>\n",
       "      <td>69897</td>\n",
       "      <td>1095</td>\n",
       "      <td>1.10</td>\n",
       "      <td>North America</td>\n",
       "    </tr>\n",
       "    <tr>\n",
       "      <th>1</th>\n",
       "      <td>India</td>\n",
       "      <td>44646880</td>\n",
       "      <td>528987</td>\n",
       "      <td>44645768</td>\n",
       "      <td>528981</td>\n",
       "      <td>1112</td>\n",
       "      <td>6</td>\n",
       "      <td>1.18</td>\n",
       "      <td>Asia</td>\n",
       "    </tr>\n",
       "    <tr>\n",
       "      <th>2</th>\n",
       "      <td>France</td>\n",
       "      <td>36925046</td>\n",
       "      <td>157740</td>\n",
       "      <td>36883805</td>\n",
       "      <td>157680</td>\n",
       "      <td>41241</td>\n",
       "      <td>60</td>\n",
       "      <td>0.43</td>\n",
       "      <td>Europe</td>\n",
       "    </tr>\n",
       "    <tr>\n",
       "      <th>3</th>\n",
       "      <td>Germany</td>\n",
       "      <td>35461920</td>\n",
       "      <td>153193</td>\n",
       "      <td>35383015</td>\n",
       "      <td>152997</td>\n",
       "      <td>78905</td>\n",
       "      <td>196</td>\n",
       "      <td>0.43</td>\n",
       "      <td>Europe</td>\n",
       "    </tr>\n",
       "    <tr>\n",
       "      <th>4</th>\n",
       "      <td>Brazil</td>\n",
       "      <td>34807075</td>\n",
       "      <td>687907</td>\n",
       "      <td>34799324</td>\n",
       "      <td>687710</td>\n",
       "      <td>7751</td>\n",
       "      <td>197</td>\n",
       "      <td>1.98</td>\n",
       "      <td>South America</td>\n",
       "    </tr>\n",
       "  </tbody>\n",
       "</table>\n",
       "</div>"
      ],
      "text/plain": [
       "  Country/Region     Cases   Deaths    PCases  PDeaths  Cases (+)  Deaths (+)  \\\n",
       "0             US  97343426  1069449  97273529  1068354      69897        1095   \n",
       "1          India  44646880   528987  44645768   528981       1112           6   \n",
       "2         France  36925046   157740  36883805   157680      41241          60   \n",
       "3        Germany  35461920   153193  35383015   152997      78905         196   \n",
       "4         Brazil  34807075   687907  34799324   687710       7751         197   \n",
       "\n",
       "   Fatality Rate      Continent  \n",
       "0           1.10  North America  \n",
       "1           1.18           Asia  \n",
       "2           0.43         Europe  \n",
       "3           0.43         Europe  \n",
       "4           1.98  South America  "
      ]
     },
     "execution_count": 13,
     "metadata": {},
     "output_type": "execute_result"
    }
   ],
   "source": [
    "#hide\n",
    "for c in 'Cases, Deaths'.split(', '):\n",
    "    df_table[f'{c} (+)'] = (df_table[c] - df_table[f'P{c}']).clip(0)\n",
    "    #Clip ça veut dire, les chiffres negatif sont interdit\n",
    "df_table['Fatality Rate'] = (100* df_table['Deaths']/ df_table['Cases']).round(2)\n",
    "df_table['Continent'] = df_table['Country/Region'].map(mapping['map.continent'])\n",
    "df_table.head(5)"
   ]
  },
  {
   "cell_type": "code",
   "execution_count": 14,
   "id": "aboriginal-bulgaria",
   "metadata": {
    "execution": {
     "iopub.execute_input": "2022-10-27T12:21:13.625739Z",
     "iopub.status.busy": "2022-10-27T12:21:13.625045Z",
     "iopub.status.idle": "2022-10-27T12:21:13.628484Z",
     "shell.execute_reply": "2022-10-27T12:21:13.627906Z"
    },
    "papermill": {
     "duration": 0.039729,
     "end_time": "2022-10-27T12:21:13.628613",
     "exception": false,
     "start_time": "2022-10-27T12:21:13.588884",
     "status": "completed"
    },
    "tags": []
   },
   "outputs": [],
   "source": [
    "#hide\n",
    "#delete problematic countries from table\n",
    "df_table = df_table[~df_table['Country/Region'].isin(['Cape Verde', 'Cruise Ship', 'Kosovo'])]"
   ]
  },
  {
   "cell_type": "code",
   "execution_count": 15,
   "id": "fantastic-effect",
   "metadata": {
    "execution": {
     "iopub.execute_input": "2022-10-27T12:21:13.697375Z",
     "iopub.status.busy": "2022-10-27T12:21:13.696767Z",
     "iopub.status.idle": "2022-10-27T12:21:13.715746Z",
     "shell.execute_reply": "2022-10-27T12:21:13.715079Z"
    },
    "papermill": {
     "duration": 0.05696,
     "end_time": "2022-10-27T12:21:13.715876",
     "exception": false,
     "start_time": "2022-10-27T12:21:13.658916",
     "status": "completed"
    },
    "tags": []
   },
   "outputs": [
    {
     "data": {
      "text/html": [
       "<div>\n",
       "<style scoped>\n",
       "    .dataframe tbody tr th:only-of-type {\n",
       "        vertical-align: middle;\n",
       "    }\n",
       "\n",
       "    .dataframe tbody tr th {\n",
       "        vertical-align: top;\n",
       "    }\n",
       "\n",
       "    .dataframe thead th {\n",
       "        text-align: right;\n",
       "    }\n",
       "</style>\n",
       "<table border=\"1\" class=\"dataframe\">\n",
       "  <thead>\n",
       "    <tr style=\"text-align: right;\">\n",
       "      <th></th>\n",
       "      <th>Country/Region</th>\n",
       "      <th>Cases</th>\n",
       "      <th>Deaths</th>\n",
       "      <th>PCases</th>\n",
       "      <th>PDeaths</th>\n",
       "      <th>Cases (+)</th>\n",
       "      <th>Deaths (+)</th>\n",
       "      <th>Fatality Rate</th>\n",
       "      <th>Continent</th>\n",
       "    </tr>\n",
       "  </thead>\n",
       "  <tbody>\n",
       "    <tr>\n",
       "      <th>0</th>\n",
       "      <td>US</td>\n",
       "      <td>97343426</td>\n",
       "      <td>1069449</td>\n",
       "      <td>97273529</td>\n",
       "      <td>1068354</td>\n",
       "      <td>69897</td>\n",
       "      <td>1095</td>\n",
       "      <td>1.1</td>\n",
       "      <td>North America</td>\n",
       "    </tr>\n",
       "    <tr>\n",
       "      <th>1</th>\n",
       "      <td>India</td>\n",
       "      <td>44646880</td>\n",
       "      <td>528987</td>\n",
       "      <td>44645768</td>\n",
       "      <td>528981</td>\n",
       "      <td>1112</td>\n",
       "      <td>6</td>\n",
       "      <td>1.2</td>\n",
       "      <td>Asia</td>\n",
       "    </tr>\n",
       "    <tr>\n",
       "      <th>2</th>\n",
       "      <td>France</td>\n",
       "      <td>36925046</td>\n",
       "      <td>157740</td>\n",
       "      <td>36883805</td>\n",
       "      <td>157680</td>\n",
       "      <td>41241</td>\n",
       "      <td>60</td>\n",
       "      <td>0.4</td>\n",
       "      <td>Europe</td>\n",
       "    </tr>\n",
       "    <tr>\n",
       "      <th>3</th>\n",
       "      <td>Germany</td>\n",
       "      <td>35461920</td>\n",
       "      <td>153193</td>\n",
       "      <td>35383015</td>\n",
       "      <td>152997</td>\n",
       "      <td>78905</td>\n",
       "      <td>196</td>\n",
       "      <td>0.4</td>\n",
       "      <td>Europe</td>\n",
       "    </tr>\n",
       "    <tr>\n",
       "      <th>4</th>\n",
       "      <td>Brazil</td>\n",
       "      <td>34807075</td>\n",
       "      <td>687907</td>\n",
       "      <td>34799324</td>\n",
       "      <td>687710</td>\n",
       "      <td>7751</td>\n",
       "      <td>197</td>\n",
       "      <td>2.0</td>\n",
       "      <td>South America</td>\n",
       "    </tr>\n",
       "  </tbody>\n",
       "</table>\n",
       "</div>"
      ],
      "text/plain": [
       "  Country/Region     Cases   Deaths    PCases  PDeaths  Cases (+)  Deaths (+)  \\\n",
       "0             US  97343426  1069449  97273529  1068354      69897        1095   \n",
       "1          India  44646880   528987  44645768   528981       1112           6   \n",
       "2         France  36925046   157740  36883805   157680      41241          60   \n",
       "3        Germany  35461920   153193  35383015   152997      78905         196   \n",
       "4         Brazil  34807075   687907  34799324   687710       7751         197   \n",
       "\n",
       "   Fatality Rate      Continent  \n",
       "0            1.1  North America  \n",
       "1            1.2           Asia  \n",
       "2            0.4         Europe  \n",
       "3            0.4         Europe  \n",
       "4            2.0  South America  "
      ]
     },
     "execution_count": 15,
     "metadata": {},
     "output_type": "execute_result"
    }
   ],
   "source": [
    "#hide\n",
    "df_table = (pd.DataFrame(dict(Cases=dfc_cases, Deaths=dfc_deaths, PCases=dfp_cases, PDeaths=dfp_deaths))\n",
    "             .sort_values(by=['Cases', 'Deaths'], ascending=[False, False])\n",
    "             .reset_index())\n",
    "df_table.rename(columns={'index': 'Country/Region'}, inplace=True)\n",
    "for c in 'Cases, Deaths'.split(', '):\n",
    "    df_table[f'{c} (+)'] = (df_table[c] - df_table[f'P{c}']).clip(0)  # DATA BUG\n",
    "df_table['Fatality Rate'] = (100 * df_table['Deaths'] / df_table['Cases']).round(1)\n",
    "df_table['Continent'] = df_table['Country/Region'].map(mapping['map.continent'])\n",
    "df_table.head(5)"
   ]
  },
  {
   "cell_type": "code",
   "execution_count": 16,
   "id": "fewer-occasion",
   "metadata": {
    "execution": {
     "iopub.execute_input": "2022-10-27T12:21:13.784104Z",
     "iopub.status.busy": "2022-10-27T12:21:13.783498Z",
     "iopub.status.idle": "2022-10-27T12:21:13.786264Z",
     "shell.execute_reply": "2022-10-27T12:21:13.785790Z"
    },
    "papermill": {
     "duration": 0.038692,
     "end_time": "2022-10-27T12:21:13.786373",
     "exception": false,
     "start_time": "2022-10-27T12:21:13.747681",
     "status": "completed"
    },
    "tags": []
   },
   "outputs": [],
   "source": [
    "#hide\n",
    "#delete problematic countries from table\n",
    "df_table = df_table[~df_table['Country/Region'].isin(['Cape Verde', 'Cruise Ship', 'Kosovo'])]"
   ]
  },
  {
   "cell_type": "code",
   "execution_count": 17,
   "id": "related-center",
   "metadata": {
    "execution": {
     "iopub.execute_input": "2022-10-27T12:21:13.858791Z",
     "iopub.status.busy": "2022-10-27T12:21:13.858209Z",
     "iopub.status.idle": "2022-10-27T12:21:13.868027Z",
     "shell.execute_reply": "2022-10-27T12:21:13.867553Z"
    },
    "papermill": {
     "duration": 0.050969,
     "end_time": "2022-10-27T12:21:13.868137",
     "exception": false,
     "start_time": "2022-10-27T12:21:13.817168",
     "status": "completed"
    },
    "tags": []
   },
   "outputs": [],
   "source": [
    "#hide\n",
    "metrics = [df_table.columns[index] for index in [1,2,5,6]]\n",
    "# s_china = df_table[df_table['Country/Region'].eq('China')][metrics].sum().add_prefix('China ')\n",
    "s_us = df_table[df_table['Country/Region'].eq('US')][metrics].sum().add_prefix('US ')\n",
    "s_eu = df_table[df_table['Continent'].eq('Europe')][metrics].sum().add_prefix('EU ')\n",
    "s_ind = df_table[df_table['Country/Region'].eq('India')][metrics].sum().add_prefix('India ')\n",
    "summary = {'updated': pd.to_datetime(dt_today), 'since': pd.to_datetime(dt_yday)}\n",
    "summary = {'updated': pd.to_datetime(dt_today), 'since': pd.to_datetime(dt_yday)}\n",
    "summary = {**summary, **df_table[metrics].sum(), **s_ind, **s_us, **s_eu}"
   ]
  },
  {
   "cell_type": "code",
   "execution_count": 18,
   "id": "engaging-syndrome",
   "metadata": {
    "execution": {
     "iopub.execute_input": "2022-10-27T12:21:13.934543Z",
     "iopub.status.busy": "2022-10-27T12:21:13.933959Z",
     "iopub.status.idle": "2022-10-27T12:21:13.954665Z",
     "shell.execute_reply": "2022-10-27T12:21:13.954179Z"
    },
    "papermill": {
     "duration": 0.056065,
     "end_time": "2022-10-27T12:21:13.954780",
     "exception": false,
     "start_time": "2022-10-27T12:21:13.898715",
     "status": "completed"
    },
    "tags": []
   },
   "outputs": [],
   "source": [
    "#hide\n",
    "dft_ct_new_cases = dft_cases.groupby(COL_REGION)[dt_cols].sum().diff(axis=1).fillna(0).astype(int)"
   ]
  },
  {
   "cell_type": "code",
   "execution_count": 19,
   "id": "neutral-assignment",
   "metadata": {
    "execution": {
     "iopub.execute_input": "2022-10-27T12:21:14.022775Z",
     "iopub.status.busy": "2022-10-27T12:21:14.022190Z",
     "iopub.status.idle": "2022-10-27T12:21:14.024927Z",
     "shell.execute_reply": "2022-10-27T12:21:14.025483Z"
    },
    "papermill": {
     "duration": 0.040278,
     "end_time": "2022-10-27T12:21:14.025614",
     "exception": false,
     "start_time": "2022-10-27T12:21:13.985336",
     "status": "completed"
    },
    "tags": []
   },
   "outputs": [],
   "source": [
    "#hide\n",
    "everydaycases = dft_ct_new_cases.cumsum(axis=1)"
   ]
  },
  {
   "cell_type": "code",
   "execution_count": 20,
   "id": "parliamentary-calgary",
   "metadata": {
    "execution": {
     "iopub.execute_input": "2022-10-27T12:21:14.091725Z",
     "iopub.status.busy": "2022-10-27T12:21:14.091114Z",
     "iopub.status.idle": "2022-10-27T12:21:14.640400Z",
     "shell.execute_reply": "2022-10-27T12:21:14.639837Z"
    },
    "papermill": {
     "duration": 0.5841,
     "end_time": "2022-10-27T12:21:14.640540",
     "exception": false,
     "start_time": "2022-10-27T12:21:14.056440",
     "status": "completed"
    },
    "tags": []
   },
   "outputs": [],
   "source": [
    "#hide\n",
    "import pandas as pd\n",
    "import matplotlib.pyplot as plt\n",
    "import matplotlib.ticker as ticker\n",
    "import matplotlib.animation as animation\n",
    "from IPython.display import HTML"
   ]
  },
  {
   "cell_type": "code",
   "execution_count": 21,
   "id": "lasting-extraction",
   "metadata": {
    "execution": {
     "iopub.execute_input": "2022-10-27T12:21:14.710493Z",
     "iopub.status.busy": "2022-10-27T12:21:14.709892Z",
     "iopub.status.idle": "2022-10-27T12:21:14.717179Z",
     "shell.execute_reply": "2022-10-27T12:21:14.717663Z"
    },
    "papermill": {
     "duration": 0.045703,
     "end_time": "2022-10-27T12:21:14.717797",
     "exception": false,
     "start_time": "2022-10-27T12:21:14.672094",
     "status": "completed"
    },
    "tags": []
   },
   "outputs": [],
   "source": [
    "#hide\n",
    "t = everydaycases.stack()"
   ]
  },
  {
   "cell_type": "code",
   "execution_count": 22,
   "id": "premier-sleeve",
   "metadata": {
    "execution": {
     "iopub.execute_input": "2022-10-27T12:21:14.784362Z",
     "iopub.status.busy": "2022-10-27T12:21:14.783776Z",
     "iopub.status.idle": "2022-10-27T12:21:14.796971Z",
     "shell.execute_reply": "2022-10-27T12:21:14.796499Z"
    },
    "papermill": {
     "duration": 0.048177,
     "end_time": "2022-10-27T12:21:14.797083",
     "exception": false,
     "start_time": "2022-10-27T12:21:14.748906",
     "status": "completed"
    },
    "tags": []
   },
   "outputs": [],
   "source": [
    "#hide\n",
    "g = t.reset_index(['Country/Region'])"
   ]
  },
  {
   "cell_type": "code",
   "execution_count": 23,
   "id": "distributed-pittsburgh",
   "metadata": {
    "execution": {
     "iopub.execute_input": "2022-10-27T12:21:14.862530Z",
     "iopub.status.busy": "2022-10-27T12:21:14.861923Z",
     "iopub.status.idle": "2022-10-27T12:21:14.864610Z",
     "shell.execute_reply": "2022-10-27T12:21:14.864042Z"
    },
    "papermill": {
     "duration": 0.037231,
     "end_time": "2022-10-27T12:21:14.864723",
     "exception": false,
     "start_time": "2022-10-27T12:21:14.827492",
     "status": "completed"
    },
    "tags": []
   },
   "outputs": [],
   "source": [
    "#hide\n",
    "g.index.name = 'date'"
   ]
  },
  {
   "cell_type": "code",
   "execution_count": 24,
   "id": "naked-donor",
   "metadata": {
    "execution": {
     "iopub.execute_input": "2022-10-27T12:21:14.930460Z",
     "iopub.status.busy": "2022-10-27T12:21:14.929751Z",
     "iopub.status.idle": "2022-10-27T12:21:14.932334Z",
     "shell.execute_reply": "2022-10-27T12:21:14.931704Z"
    },
    "papermill": {
     "duration": 0.036977,
     "end_time": "2022-10-27T12:21:14.932459",
     "exception": false,
     "start_time": "2022-10-27T12:21:14.895482",
     "status": "completed"
    },
    "tags": []
   },
   "outputs": [],
   "source": [
    "# #hide\n",
    "# g = g.reset_index(['date'])"
   ]
  },
  {
   "cell_type": "code",
   "execution_count": 25,
   "id": "incomplete-mustang",
   "metadata": {
    "execution": {
     "iopub.execute_input": "2022-10-27T12:21:14.998337Z",
     "iopub.status.busy": "2022-10-27T12:21:14.997637Z",
     "iopub.status.idle": "2022-10-27T12:21:14.999504Z",
     "shell.execute_reply": "2022-10-27T12:21:15.000012Z"
    },
    "papermill": {
     "duration": 0.036896,
     "end_time": "2022-10-27T12:21:15.000157",
     "exception": false,
     "start_time": "2022-10-27T12:21:14.963261",
     "status": "completed"
    },
    "tags": []
   },
   "outputs": [],
   "source": [
    "#hide\n",
    "# g.head()"
   ]
  },
  {
   "cell_type": "code",
   "execution_count": 26,
   "id": "specific-kruger",
   "metadata": {
    "execution": {
     "iopub.execute_input": "2022-10-27T12:21:15.066259Z",
     "iopub.status.busy": "2022-10-27T12:21:15.065647Z",
     "iopub.status.idle": "2022-10-27T12:21:15.069342Z",
     "shell.execute_reply": "2022-10-27T12:21:15.069763Z"
    },
    "papermill": {
     "duration": 0.038591,
     "end_time": "2022-10-27T12:21:15.069897",
     "exception": false,
     "start_time": "2022-10-27T12:21:15.031306",
     "status": "completed"
    },
    "tags": []
   },
   "outputs": [],
   "source": [
    "#hide\n",
    "# g.columns = ['date','country','cases']"
   ]
  },
  {
   "cell_type": "code",
   "execution_count": 27,
   "id": "tender-conversion",
   "metadata": {
    "execution": {
     "iopub.execute_input": "2022-10-27T12:21:15.134844Z",
     "iopub.status.busy": "2022-10-27T12:21:15.134178Z",
     "iopub.status.idle": "2022-10-27T12:21:15.136674Z",
     "shell.execute_reply": "2022-10-27T12:21:15.136201Z"
    },
    "papermill": {
     "duration": 0.036414,
     "end_time": "2022-10-27T12:21:15.136785",
     "exception": false,
     "start_time": "2022-10-27T12:21:15.100371",
     "status": "completed"
    },
    "tags": []
   },
   "outputs": [],
   "source": [
    "#hide\n",
    "# g['continent'] = g.country"
   ]
  },
  {
   "cell_type": "code",
   "execution_count": 28,
   "id": "substantial-wilderness",
   "metadata": {
    "execution": {
     "iopub.execute_input": "2022-10-27T12:21:15.203063Z",
     "iopub.status.busy": "2022-10-27T12:21:15.202340Z",
     "iopub.status.idle": "2022-10-27T12:21:15.204968Z",
     "shell.execute_reply": "2022-10-27T12:21:15.204421Z"
    },
    "papermill": {
     "duration": 0.0373,
     "end_time": "2022-10-27T12:21:15.205092",
     "exception": false,
     "start_time": "2022-10-27T12:21:15.167792",
     "status": "completed"
    },
    "tags": []
   },
   "outputs": [],
   "source": [
    "#hide\n",
    "# cols = list(g.columns.values)"
   ]
  },
  {
   "cell_type": "code",
   "execution_count": 29,
   "id": "solved-farming",
   "metadata": {
    "execution": {
     "iopub.execute_input": "2022-10-27T12:21:15.270857Z",
     "iopub.status.busy": "2022-10-27T12:21:15.270241Z",
     "iopub.status.idle": "2022-10-27T12:21:15.273911Z",
     "shell.execute_reply": "2022-10-27T12:21:15.274334Z"
    },
    "papermill": {
     "duration": 0.0383,
     "end_time": "2022-10-27T12:21:15.274469",
     "exception": false,
     "start_time": "2022-10-27T12:21:15.236169",
     "status": "completed"
    },
    "tags": []
   },
   "outputs": [],
   "source": [
    "#hide\n",
    "# cols.insert(0, cols.pop())"
   ]
  },
  {
   "cell_type": "code",
   "execution_count": 30,
   "id": "executed-adoption",
   "metadata": {
    "execution": {
     "iopub.execute_input": "2022-10-27T12:21:15.340325Z",
     "iopub.status.busy": "2022-10-27T12:21:15.339671Z",
     "iopub.status.idle": "2022-10-27T12:21:15.343404Z",
     "shell.execute_reply": "2022-10-27T12:21:15.343828Z"
    },
    "papermill": {
     "duration": 0.03871,
     "end_time": "2022-10-27T12:21:15.343964",
     "exception": false,
     "start_time": "2022-10-27T12:21:15.305254",
     "status": "completed"
    },
    "tags": []
   },
   "outputs": [],
   "source": [
    "#hide\n",
    "# g = g[cols]"
   ]
  },
  {
   "cell_type": "code",
   "execution_count": 31,
   "id": "subject-dublin",
   "metadata": {
    "execution": {
     "iopub.execute_input": "2022-10-27T12:21:15.410000Z",
     "iopub.status.busy": "2022-10-27T12:21:15.409303Z",
     "iopub.status.idle": "2022-10-27T12:21:15.411799Z",
     "shell.execute_reply": "2022-10-27T12:21:15.411207Z"
    },
    "papermill": {
     "duration": 0.037168,
     "end_time": "2022-10-27T12:21:15.411915",
     "exception": false,
     "start_time": "2022-10-27T12:21:15.374747",
     "status": "completed"
    },
    "tags": []
   },
   "outputs": [],
   "source": [
    "#hide\n",
    "# g['continent'] = g['continent'].map(mapping['map.continent'])"
   ]
  },
  {
   "cell_type": "code",
   "execution_count": 32,
   "id": "freelance-scout",
   "metadata": {
    "execution": {
     "iopub.execute_input": "2022-10-27T12:21:15.477726Z",
     "iopub.status.busy": "2022-10-27T12:21:15.477040Z",
     "iopub.status.idle": "2022-10-27T12:21:15.481037Z",
     "shell.execute_reply": "2022-10-27T12:21:15.481517Z"
    },
    "papermill": {
     "duration": 0.038988,
     "end_time": "2022-10-27T12:21:15.481669",
     "exception": false,
     "start_time": "2022-10-27T12:21:15.442681",
     "status": "completed"
    },
    "tags": []
   },
   "outputs": [],
   "source": [
    "#hide\n",
    "# g.head()"
   ]
  },
  {
   "cell_type": "code",
   "execution_count": 33,
   "id": "limited-engine",
   "metadata": {
    "execution": {
     "iopub.execute_input": "2022-10-27T12:21:15.547817Z",
     "iopub.status.busy": "2022-10-27T12:21:15.547088Z",
     "iopub.status.idle": "2022-10-27T12:21:15.549145Z",
     "shell.execute_reply": "2022-10-27T12:21:15.548519Z"
    },
    "papermill": {
     "duration": 0.036689,
     "end_time": "2022-10-27T12:21:15.549266",
     "exception": false,
     "start_time": "2022-10-27T12:21:15.512577",
     "status": "completed"
    },
    "tags": []
   },
   "outputs": [],
   "source": [
    "# hide\n",
    "# g['date'] = g['date'].astype('datetime64[ns]')"
   ]
  },
  {
   "cell_type": "code",
   "execution_count": 34,
   "id": "sophisticated-supervisor",
   "metadata": {
    "execution": {
     "iopub.execute_input": "2022-10-27T12:21:15.615734Z",
     "iopub.status.busy": "2022-10-27T12:21:15.615113Z",
     "iopub.status.idle": "2022-10-27T12:21:15.618155Z",
     "shell.execute_reply": "2022-10-27T12:21:15.617685Z"
    },
    "papermill": {
     "duration": 0.03743,
     "end_time": "2022-10-27T12:21:15.618263",
     "exception": false,
     "start_time": "2022-10-27T12:21:15.580833",
     "status": "completed"
    },
    "tags": []
   },
   "outputs": [],
   "source": [
    "#hide\n",
    "# g['date'] = g.date.dt.dayofyear"
   ]
  },
  {
   "cell_type": "code",
   "execution_count": 35,
   "id": "inside-dubai",
   "metadata": {
    "execution": {
     "iopub.execute_input": "2022-10-27T12:21:15.683557Z",
     "iopub.status.busy": "2022-10-27T12:21:15.682835Z",
     "iopub.status.idle": "2022-10-27T12:21:15.686451Z",
     "shell.execute_reply": "2022-10-27T12:21:15.685840Z"
    },
    "papermill": {
     "duration": 0.037804,
     "end_time": "2022-10-27T12:21:15.686563",
     "exception": false,
     "start_time": "2022-10-27T12:21:15.648759",
     "status": "completed"
    },
    "tags": []
   },
   "outputs": [],
   "source": [
    "#hide\n",
    "# g = g.rename(columns= {'continent':'group','country':'name','cases':'value'})"
   ]
  },
  {
   "cell_type": "code",
   "execution_count": 36,
   "id": "fleet-motorcycle",
   "metadata": {
    "execution": {
     "iopub.execute_input": "2022-10-27T12:21:15.751957Z",
     "iopub.status.busy": "2022-10-27T12:21:15.751274Z",
     "iopub.status.idle": "2022-10-27T12:21:15.753830Z",
     "shell.execute_reply": "2022-10-27T12:21:15.753161Z"
    },
    "papermill": {
     "duration": 0.03682,
     "end_time": "2022-10-27T12:21:15.753956",
     "exception": false,
     "start_time": "2022-10-27T12:21:15.717136",
     "status": "completed"
    },
    "tags": []
   },
   "outputs": [],
   "source": [
    "#hide\n",
    "# cols = ['name','group','day','value']"
   ]
  },
  {
   "cell_type": "code",
   "execution_count": 37,
   "id": "continued-sleeping",
   "metadata": {
    "execution": {
     "iopub.execute_input": "2022-10-27T12:21:15.819824Z",
     "iopub.status.busy": "2022-10-27T12:21:15.819209Z",
     "iopub.status.idle": "2022-10-27T12:21:15.821648Z",
     "shell.execute_reply": "2022-10-27T12:21:15.821080Z"
    },
    "papermill": {
     "duration": 0.036731,
     "end_time": "2022-10-27T12:21:15.821758",
     "exception": false,
     "start_time": "2022-10-27T12:21:15.785027",
     "status": "completed"
    },
    "tags": []
   },
   "outputs": [],
   "source": [
    "#hide\n",
    "# g.rename(columns= {'date':'day'},inplace = True)"
   ]
  },
  {
   "cell_type": "code",
   "execution_count": 38,
   "id": "major-fight",
   "metadata": {
    "execution": {
     "iopub.execute_input": "2022-10-27T12:21:15.886985Z",
     "iopub.status.busy": "2022-10-27T12:21:15.886386Z",
     "iopub.status.idle": "2022-10-27T12:21:15.890102Z",
     "shell.execute_reply": "2022-10-27T12:21:15.889649Z"
    },
    "papermill": {
     "duration": 0.037472,
     "end_time": "2022-10-27T12:21:15.890219",
     "exception": false,
     "start_time": "2022-10-27T12:21:15.852747",
     "status": "completed"
    },
    "tags": []
   },
   "outputs": [],
   "source": [
    "#hide\n",
    "# g = g[cols]"
   ]
  },
  {
   "cell_type": "code",
   "execution_count": 39,
   "id": "structured-mobile",
   "metadata": {
    "execution": {
     "iopub.execute_input": "2022-10-27T12:21:15.956175Z",
     "iopub.status.busy": "2022-10-27T12:21:15.955472Z",
     "iopub.status.idle": "2022-10-27T12:21:15.957244Z",
     "shell.execute_reply": "2022-10-27T12:21:15.957786Z"
    },
    "papermill": {
     "duration": 0.036992,
     "end_time": "2022-10-27T12:21:15.957928",
     "exception": false,
     "start_time": "2022-10-27T12:21:15.920936",
     "status": "completed"
    },
    "tags": []
   },
   "outputs": [],
   "source": [
    "# #hide\n",
    "# g = g[g.group.notna()]"
   ]
  },
  {
   "cell_type": "code",
   "execution_count": 40,
   "id": "determined-closing",
   "metadata": {
    "execution": {
     "iopub.execute_input": "2022-10-27T12:21:16.024785Z",
     "iopub.status.busy": "2022-10-27T12:21:16.024071Z",
     "iopub.status.idle": "2022-10-27T12:21:16.028248Z",
     "shell.execute_reply": "2022-10-27T12:21:16.028731Z"
    },
    "papermill": {
     "duration": 0.039379,
     "end_time": "2022-10-27T12:21:16.028885",
     "exception": false,
     "start_time": "2022-10-27T12:21:15.989506",
     "status": "completed"
    },
    "tags": []
   },
   "outputs": [],
   "source": [
    "# #hide\n",
    "# colors = dict(zip(\n",
    "#     [\"Oceania\", \"Europe\", \"Asia\", \"South America\", \"Middle East\", \"North America\", \"Africa\"],\n",
    "#     [\"#adb0ff\", \"#ffb3ff\", \"#90d595\", \"#e48381\", \"#aafbff\", \"#f7bb5f\", \"#eafb50\"]\n",
    "# ))\n",
    "# group_lk = g.set_index('name')['group'].to_dict()"
   ]
  },
  {
   "cell_type": "code",
   "execution_count": null,
   "id": "gross-drinking",
   "metadata": {
    "papermill": {
     "duration": 0.032692,
     "end_time": "2022-10-27T12:21:16.092706",
     "exception": false,
     "start_time": "2022-10-27T12:21:16.060014",
     "status": "completed"
    },
    "tags": []
   },
   "outputs": [],
   "source": []
  },
  {
   "cell_type": "code",
   "execution_count": 41,
   "id": "subject-macintosh",
   "metadata": {
    "execution": {
     "iopub.execute_input": "2022-10-27T12:21:16.159259Z",
     "iopub.status.busy": "2022-10-27T12:21:16.158617Z",
     "iopub.status.idle": "2022-10-27T12:21:16.161653Z",
     "shell.execute_reply": "2022-10-27T12:21:16.161178Z"
    },
    "papermill": {
     "duration": 0.038134,
     "end_time": "2022-10-27T12:21:16.161766",
     "exception": false,
     "start_time": "2022-10-27T12:21:16.123632",
     "status": "completed"
    },
    "tags": []
   },
   "outputs": [],
   "source": [
    "# #hide\n",
    "# fig, ax = plt.subplots(figsize=(15, 8))\n",
    "\n",
    "# def draw_barchart(current_day):\n",
    "#     dff = g[g['day'].eq(current_day)].sort_values(by='value', ascending=True).tail(10)\n",
    "#     ax.clear()\n",
    "#     ax.barh(dff['name'], dff['value'], color=[colors[group_lk[x]] for x in dff['name']])\n",
    "#     dx = dff['value'].max() / 200\n",
    "    \n",
    "#     for i, (value, name) in enumerate(zip(dff['value'], dff['name'])):\n",
    "#         ax.text(value-dx, i,     name,           size=14, weight=600, ha='right', va='bottom')\n",
    "#         ax.text(value-dx, i-.25, group_lk[name], size=10, color='#444444', ha='right', va='baseline')\n",
    "#         ax.text(value+dx, i,     f'{value:,.0f}',  size=14, ha='left',  va='center')\n",
    "#     ax.text(1, 0.4, current_day, transform=ax.transAxes, color='#777777', size=46, ha='right', weight=800)\n",
    "#     ax.text(0, 1.06, 'Population (thousands)', transform=ax.transAxes, size=12, color='#777777')\n",
    "#     ax.xaxis.set_major_formatter(ticker.StrMethodFormatter('{x:,.0f}'))\n",
    "#     ax.xaxis.set_ticks_position('top')\n",
    "#     ax.tick_params(axis='x', colors='#777777', labelsize=12)\n",
    "#     ax.set_yticks([])\n",
    "#     ax.margins(0, 0.01)\n",
    "#     ax.grid(which='major', axis='x', linestyle='-')\n",
    "#     ax.set_axisbelow(True)\n",
    "    \n",
    "#     ax.text(0, 1.15, 'Coronavirus',\n",
    "#             transform=ax.transAxes, size=24, weight=600, ha='left', va='top')\n",
    "# #     ax.text(1, 0, 'by @pratapvardhan; credit @jburnmurdoch', transform=ax.transAxes, color='#777777', ha='right',\n",
    "# #             bbox=dict(facecolor='white', alpha=0.8, edgecolor='white'))\n",
    "#     plt.box(False)"
   ]
  },
  {
   "cell_type": "code",
   "execution_count": 42,
   "id": "sexual-wages",
   "metadata": {
    "execution": {
     "iopub.execute_input": "2022-10-27T12:21:16.227727Z",
     "iopub.status.busy": "2022-10-27T12:21:16.227089Z",
     "iopub.status.idle": "2022-10-27T12:21:16.229573Z",
     "shell.execute_reply": "2022-10-27T12:21:16.229101Z"
    },
    "papermill": {
     "duration": 0.036996,
     "end_time": "2022-10-27T12:21:16.229684",
     "exception": false,
     "start_time": "2022-10-27T12:21:16.192688",
     "status": "completed"
    },
    "tags": []
   },
   "outputs": [],
   "source": [
    "# #hide_input\n",
    "# fig, ax = plt.subplots(figsize=(15, 8))\n",
    "# animator = animation.FuncAnimation(fig, draw_barchart, frames=range(g.day.values.min(), g.day.values.max()))\n",
    "# HTML(animator.to_jshtml())\n",
    "# # or use animator.to_html5_video() or animator.save() "
   ]
  },
  {
   "cell_type": "code",
   "execution_count": null,
   "id": "australian-container",
   "metadata": {
    "papermill": {
     "duration": 0.030611,
     "end_time": "2022-10-27T12:21:16.291263",
     "exception": false,
     "start_time": "2022-10-27T12:21:16.260652",
     "status": "completed"
    },
    "tags": []
   },
   "outputs": [],
   "source": []
  },
  {
   "cell_type": "code",
   "execution_count": null,
   "id": "mediterranean-pontiac",
   "metadata": {
    "papermill": {
     "duration": 0.03064,
     "end_time": "2022-10-27T12:21:16.352407",
     "exception": false,
     "start_time": "2022-10-27T12:21:16.321767",
     "status": "completed"
    },
    "tags": []
   },
   "outputs": [],
   "source": []
  },
  {
   "cell_type": "code",
   "execution_count": null,
   "id": "aging-legislature",
   "metadata": {
    "papermill": {
     "duration": 0.031547,
     "end_time": "2022-10-27T12:21:16.414835",
     "exception": false,
     "start_time": "2022-10-27T12:21:16.383288",
     "status": "completed"
    },
    "tags": []
   },
   "outputs": [],
   "source": []
  }
 ],
 "metadata": {
  "kernelspec": {
   "display_name": "Python 3",
   "language": "python",
   "name": "python3"
  },
  "language_info": {
   "codemirror_mode": {
    "name": "ipython",
    "version": 3
   },
   "file_extension": ".py",
   "mimetype": "text/x-python",
   "name": "python",
   "nbconvert_exporter": "python",
   "pygments_lexer": "ipython3",
   "version": "3.6.15"
  },
  "papermill": {
   "duration": 6.421614,
   "end_time": "2022-10-27T12:21:16.864251",
   "environment_variables": {},
   "exception": null,
   "input_path": "2020-03-21-covid19exp.ipynb",
   "output_path": "2020-03-21-covid19exp.ipynb",
   "parameters": {},
   "start_time": "2022-10-27T12:21:10.442637",
   "version": "2.0.0"
  }
 },
 "nbformat": 4,
 "nbformat_minor": 5
}