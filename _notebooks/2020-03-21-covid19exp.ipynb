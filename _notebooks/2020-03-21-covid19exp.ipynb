{
 "cells": [
  {
   "cell_type": "markdown",
   "id": "muslim-click",
   "metadata": {
    "papermill": {
     "duration": 0.037387,
     "end_time": "2021-07-01T00:20:09.875525",
     "exception": false,
     "start_time": "2021-07-01T00:20:09.838138",
     "status": "completed"
    },
    "tags": []
   },
   "source": [
    "# COVID-19 Case Race\n",
    "> A race chart to see rising cases around the world\n",
    "\n",
    "- author: Hargun Oberoi\n",
    "- image: images/covid-overview.png\n",
    "- hide: false\n",
    "- badges: false"
   ]
  },
  {
   "cell_type": "code",
   "execution_count": 1,
   "id": "proof-material",
   "metadata": {
    "execution": {
     "iopub.execute_input": "2021-07-01T00:20:09.954258Z",
     "iopub.status.busy": "2021-07-01T00:20:09.953658Z",
     "iopub.status.idle": "2021-07-01T00:20:10.311763Z",
     "shell.execute_reply": "2021-07-01T00:20:10.310848Z"
    },
    "papermill": {
     "duration": 0.40306,
     "end_time": "2021-07-01T00:20:10.312002",
     "exception": false,
     "start_time": "2021-07-01T00:20:09.908942",
     "status": "completed"
    },
    "tags": []
   },
   "outputs": [],
   "source": [
    "#hide\n",
    "import numpy as np\n",
    "import pandas as pd\n",
    "from jinja2 import Template\n",
    "from IPython.display import HTML"
   ]
  },
  {
   "cell_type": "code",
   "execution_count": 2,
   "id": "developed-terminology",
   "metadata": {
    "execution": {
     "iopub.execute_input": "2021-07-01T00:20:10.384022Z",
     "iopub.status.busy": "2021-07-01T00:20:10.383427Z",
     "iopub.status.idle": "2021-07-01T00:20:10.387807Z",
     "shell.execute_reply": "2021-07-01T00:20:10.388302Z"
    },
    "papermill": {
     "duration": 0.041886,
     "end_time": "2021-07-01T00:20:10.388439",
     "exception": false,
     "start_time": "2021-07-01T00:20:10.346553",
     "status": "completed"
    },
    "tags": []
   },
   "outputs": [],
   "source": [
    "#hide\n",
    "\n",
    "# FETCH\n",
    "base_url = 'https://raw.githubusercontent.com/pratapvardhan/notebooks/master/covid19/'\n",
    "paths = {\n",
    "    'mapping': base_url + 'mapping_countries.csv',\n",
    "    'overview': base_url + 'overview.tpl'\n",
    "}"
   ]
  },
  {
   "cell_type": "code",
   "execution_count": 3,
   "id": "dynamic-saver",
   "metadata": {
    "execution": {
     "iopub.execute_input": "2021-07-01T00:20:10.469745Z",
     "iopub.status.busy": "2021-07-01T00:20:10.468533Z",
     "iopub.status.idle": "2021-07-01T00:20:10.472189Z",
     "shell.execute_reply": "2021-07-01T00:20:10.472900Z"
    },
    "papermill": {
     "duration": 0.052156,
     "end_time": "2021-07-01T00:20:10.473097",
     "exception": false,
     "start_time": "2021-07-01T00:20:10.420941",
     "status": "completed"
    },
    "tags": []
   },
   "outputs": [
    {
     "data": {
      "text/plain": [
       "'https://raw.githubusercontent.com/pratapvardhan/notebooks/master/covid19/mapping_countries.csv'"
      ]
     },
     "execution_count": 3,
     "metadata": {},
     "output_type": "execute_result"
    }
   ],
   "source": [
    "#hide\n",
    "paths['mapping']"
   ]
  },
  {
   "cell_type": "code",
   "execution_count": 4,
   "id": "urban-software",
   "metadata": {
    "execution": {
     "iopub.execute_input": "2021-07-01T00:20:10.551088Z",
     "iopub.status.busy": "2021-07-01T00:20:10.550473Z",
     "iopub.status.idle": "2021-07-01T00:20:10.552171Z",
     "shell.execute_reply": "2021-07-01T00:20:10.552603Z"
    },
    "papermill": {
     "duration": 0.042647,
     "end_time": "2021-07-01T00:20:10.552727",
     "exception": false,
     "start_time": "2021-07-01T00:20:10.510080",
     "status": "completed"
    },
    "tags": []
   },
   "outputs": [],
   "source": [
    "#hide\n",
    "def get_mappings(url):\n",
    "    df = pd.read_csv(url)\n",
    "    return {\n",
    "        'df': df,\n",
    "        'replace.country': dict(df.dropna(subset=['Name']).set_index('Country')['Name']),\n",
    "        'map.continent': dict(df.set_index('Name')['Continent'])\n",
    "    }"
   ]
  },
  {
   "cell_type": "code",
   "execution_count": 5,
   "id": "intimate-machinery",
   "metadata": {
    "execution": {
     "iopub.execute_input": "2021-07-01T00:20:10.632962Z",
     "iopub.status.busy": "2021-07-01T00:20:10.632422Z",
     "iopub.status.idle": "2021-07-01T00:20:10.663385Z",
     "shell.execute_reply": "2021-07-01T00:20:10.663890Z"
    },
    "papermill": {
     "duration": 0.071034,
     "end_time": "2021-07-01T00:20:10.664037",
     "exception": false,
     "start_time": "2021-07-01T00:20:10.593003",
     "status": "completed"
    },
    "tags": []
   },
   "outputs": [],
   "source": [
    "#hide\n",
    "mapping = get_mappings(paths['mapping'])"
   ]
  },
  {
   "cell_type": "code",
   "execution_count": 6,
   "id": "certified-tactics",
   "metadata": {
    "execution": {
     "iopub.execute_input": "2021-07-01T00:20:10.738306Z",
     "iopub.status.busy": "2021-07-01T00:20:10.737761Z",
     "iopub.status.idle": "2021-07-01T00:20:10.740237Z",
     "shell.execute_reply": "2021-07-01T00:20:10.740800Z"
    },
    "papermill": {
     "duration": 0.042139,
     "end_time": "2021-07-01T00:20:10.740938",
     "exception": false,
     "start_time": "2021-07-01T00:20:10.698799",
     "status": "completed"
    },
    "tags": []
   },
   "outputs": [],
   "source": [
    "#hide\n",
    "def get_template(path):\n",
    "    from urllib.parse import urlparse\n",
    "    if bool(urlparse(path).netloc):\n",
    "        from urllib.request import urlopen\n",
    "        return urlopen(path).read().decode('utf8')\n",
    "    return open(path).read()"
   ]
  },
  {
   "cell_type": "code",
   "execution_count": 7,
   "id": "realistic-blast",
   "metadata": {
    "execution": {
     "iopub.execute_input": "2021-07-01T00:20:10.811223Z",
     "iopub.status.busy": "2021-07-01T00:20:10.810481Z",
     "iopub.status.idle": "2021-07-01T00:20:10.814057Z",
     "shell.execute_reply": "2021-07-01T00:20:10.814545Z"
    },
    "papermill": {
     "duration": 0.041155,
     "end_time": "2021-07-01T00:20:10.814678",
     "exception": false,
     "start_time": "2021-07-01T00:20:10.773523",
     "status": "completed"
    },
    "tags": []
   },
   "outputs": [],
   "source": [
    "#hide\n",
    "def get_frame(name):\n",
    "    url = (\n",
    "        'https://raw.githubusercontent.com/CSSEGISandData/COVID-19/master/csse_covid_19_data/'\n",
    "        f'csse_covid_19_time_series/time_series_covid19_{name}_global.csv')\n",
    "    df = pd.read_csv(url)\n",
    "    # rename countries\n",
    "    df['Country/Region'] = df['Country/Region'].replace(mapping['replace.country'])\n",
    "    return df"
   ]
  },
  {
   "cell_type": "code",
   "execution_count": 8,
   "id": "affiliated-characterization",
   "metadata": {
    "execution": {
     "iopub.execute_input": "2021-07-01T00:20:10.886378Z",
     "iopub.status.busy": "2021-07-01T00:20:10.885838Z",
     "iopub.status.idle": "2021-07-01T00:20:10.888041Z",
     "shell.execute_reply": "2021-07-01T00:20:10.887611Z"
    },
    "papermill": {
     "duration": 0.042362,
     "end_time": "2021-07-01T00:20:10.888150",
     "exception": false,
     "start_time": "2021-07-01T00:20:10.845788",
     "status": "completed"
    },
    "tags": []
   },
   "outputs": [],
   "source": [
    "#hide\n",
    "def get_dates(df):\n",
    "    dt_cols = df.columns[~df.columns.isin(['Province/State', 'Country/Region', 'Lat', 'Long'])]\n",
    "    LAST_DATE_I = -1\n",
    "    # sometimes last column may be empty, then go backwards\n",
    "    for i in range(-1, -len(dt_cols), -1):\n",
    "        if not df[dt_cols[i]].fillna(0).eq(0).all():\n",
    "            LAST_DATE_I = i\n",
    "            break\n",
    "    return LAST_DATE_I, dt_cols"
   ]
  },
  {
   "cell_type": "code",
   "execution_count": 9,
   "id": "recent-optimization",
   "metadata": {
    "execution": {
     "iopub.execute_input": "2021-07-01T00:20:10.961773Z",
     "iopub.status.busy": "2021-07-01T00:20:10.960799Z",
     "iopub.status.idle": "2021-07-01T00:20:11.260548Z",
     "shell.execute_reply": "2021-07-01T00:20:11.259627Z"
    },
    "papermill": {
     "duration": 0.337352,
     "end_time": "2021-07-01T00:20:11.260752",
     "exception": false,
     "start_time": "2021-07-01T00:20:10.923400",
     "status": "completed"
    },
    "tags": []
   },
   "outputs": [],
   "source": [
    "#hide\n",
    "COL_REGION = 'Country/Region'\n",
    "# Confirmed, Recovered, Deaths\n",
    "df = get_frame('confirmed')\n",
    "# dft_: timeseries, dfc_: today country agg\n",
    "dft_cases = df\n",
    "dft_deaths = get_frame('deaths')\n",
    "dft_recovered = get_frame('recovered')\n",
    "LAST_DATE_I, dt_cols = get_dates(df)"
   ]
  },
  {
   "cell_type": "code",
   "execution_count": 10,
   "id": "absolute-copper",
   "metadata": {
    "execution": {
     "iopub.execute_input": "2021-07-01T00:20:11.335541Z",
     "iopub.status.busy": "2021-07-01T00:20:11.334439Z",
     "iopub.status.idle": "2021-07-01T00:20:11.336135Z",
     "shell.execute_reply": "2021-07-01T00:20:11.336597Z"
    },
    "papermill": {
     "duration": 0.041217,
     "end_time": "2021-07-01T00:20:11.336733",
     "exception": false,
     "start_time": "2021-07-01T00:20:11.295516",
     "status": "completed"
    },
    "tags": []
   },
   "outputs": [],
   "source": [
    "#hide\n",
    "LAST_DATE_I, dt_cols = get_dates(df)\n",
    "dt_today =dt_cols[LAST_DATE_I]\n",
    "# dt_5day = dt_cols[LAST_DATE_I - 5]\n",
    "dt_yday = dt_cols[LAST_DATE_I - 1]"
   ]
  },
  {
   "cell_type": "code",
   "execution_count": 11,
   "id": "restricted-sheriff",
   "metadata": {
    "execution": {
     "iopub.execute_input": "2021-07-01T00:20:11.410451Z",
     "iopub.status.busy": "2021-07-01T00:20:11.409880Z",
     "iopub.status.idle": "2021-07-01T00:20:11.419565Z",
     "shell.execute_reply": "2021-07-01T00:20:11.419131Z"
    },
    "papermill": {
     "duration": 0.050887,
     "end_time": "2021-07-01T00:20:11.419675",
     "exception": false,
     "start_time": "2021-07-01T00:20:11.368788",
     "status": "completed"
    },
    "tags": []
   },
   "outputs": [],
   "source": [
    "#hide\n",
    "dfc_cases = dft_cases.groupby(COL_REGION)[dt_today].sum()\n",
    "dfc_deaths = dft_deaths.groupby(COL_REGION)[dt_today].sum()\n",
    "# dfp_cases = dft_cases.groupby(COL_REGION)[dt_5day].sum()\n",
    "# dfp_deaths = dft_deaths.groupby(COL_REGION)[dt_5day].sum()\n",
    "dfp_cases = dft_cases.groupby(COL_REGION)[dt_yday].sum()\n",
    "dfp_deaths = dft_deaths.groupby(COL_REGION)[dt_yday].sum()"
   ]
  },
  {
   "cell_type": "code",
   "execution_count": 12,
   "id": "deluxe-hepatitis",
   "metadata": {
    "execution": {
     "iopub.execute_input": "2021-07-01T00:20:11.489984Z",
     "iopub.status.busy": "2021-07-01T00:20:11.489398Z",
     "iopub.status.idle": "2021-07-01T00:20:11.492988Z",
     "shell.execute_reply": "2021-07-01T00:20:11.493525Z"
    },
    "papermill": {
     "duration": 0.042601,
     "end_time": "2021-07-01T00:20:11.493655",
     "exception": false,
     "start_time": "2021-07-01T00:20:11.451054",
     "status": "completed"
    },
    "tags": []
   },
   "outputs": [],
   "source": [
    "#hide\n",
    "df_table = (pd.DataFrame(dict(Cases = dfc_cases, Deaths = dfc_deaths, PCases = dfp_cases, PDeaths = dfp_deaths))\n",
    "            .sort_values(by = ['Cases','Deaths'], ascending = [False, False])\n",
    "            .reset_index())"
   ]
  },
  {
   "cell_type": "code",
   "execution_count": 13,
   "id": "educational-chancellor",
   "metadata": {
    "execution": {
     "iopub.execute_input": "2021-07-01T00:20:11.576621Z",
     "iopub.status.busy": "2021-07-01T00:20:11.576041Z",
     "iopub.status.idle": "2021-07-01T00:20:11.585740Z",
     "shell.execute_reply": "2021-07-01T00:20:11.585248Z"
    },
    "papermill": {
     "duration": 0.059123,
     "end_time": "2021-07-01T00:20:11.585856",
     "exception": false,
     "start_time": "2021-07-01T00:20:11.526733",
     "status": "completed"
    },
    "tags": []
   },
   "outputs": [
    {
     "data": {
      "text/html": [
       "<div>\n",
       "<style scoped>\n",
       "    .dataframe tbody tr th:only-of-type {\n",
       "        vertical-align: middle;\n",
       "    }\n",
       "\n",
       "    .dataframe tbody tr th {\n",
       "        vertical-align: top;\n",
       "    }\n",
       "\n",
       "    .dataframe thead th {\n",
       "        text-align: right;\n",
       "    }\n",
       "</style>\n",
       "<table border=\"1\" class=\"dataframe\">\n",
       "  <thead>\n",
       "    <tr style=\"text-align: right;\">\n",
       "      <th></th>\n",
       "      <th>Country/Region</th>\n",
       "      <th>Cases</th>\n",
       "      <th>Deaths</th>\n",
       "      <th>PCases</th>\n",
       "      <th>PDeaths</th>\n",
       "      <th>Cases (+)</th>\n",
       "      <th>Deaths (+)</th>\n",
       "      <th>Fatality Rate</th>\n",
       "      <th>Continent</th>\n",
       "    </tr>\n",
       "  </thead>\n",
       "  <tbody>\n",
       "    <tr>\n",
       "      <th>0</th>\n",
       "      <td>US</td>\n",
       "      <td>33652098</td>\n",
       "      <td>604474</td>\n",
       "      <td>33640502</td>\n",
       "      <td>604115</td>\n",
       "      <td>11596</td>\n",
       "      <td>359</td>\n",
       "      <td>1.80</td>\n",
       "      <td>North America</td>\n",
       "    </tr>\n",
       "    <tr>\n",
       "      <th>1</th>\n",
       "      <td>India</td>\n",
       "      <td>30362848</td>\n",
       "      <td>398454</td>\n",
       "      <td>30316897</td>\n",
       "      <td>397637</td>\n",
       "      <td>45951</td>\n",
       "      <td>817</td>\n",
       "      <td>1.31</td>\n",
       "      <td>Asia</td>\n",
       "    </tr>\n",
       "    <tr>\n",
       "      <th>2</th>\n",
       "      <td>Brazil</td>\n",
       "      <td>18513305</td>\n",
       "      <td>515985</td>\n",
       "      <td>18448402</td>\n",
       "      <td>514092</td>\n",
       "      <td>64903</td>\n",
       "      <td>1893</td>\n",
       "      <td>2.79</td>\n",
       "      <td>South America</td>\n",
       "    </tr>\n",
       "    <tr>\n",
       "      <th>3</th>\n",
       "      <td>France</td>\n",
       "      <td>5835885</td>\n",
       "      <td>111230</td>\n",
       "      <td>5832490</td>\n",
       "      <td>111174</td>\n",
       "      <td>3395</td>\n",
       "      <td>56</td>\n",
       "      <td>1.91</td>\n",
       "      <td>Europe</td>\n",
       "    </tr>\n",
       "    <tr>\n",
       "      <th>4</th>\n",
       "      <td>Russia</td>\n",
       "      <td>5428961</td>\n",
       "      <td>132314</td>\n",
       "      <td>5408744</td>\n",
       "      <td>131671</td>\n",
       "      <td>20217</td>\n",
       "      <td>643</td>\n",
       "      <td>2.44</td>\n",
       "      <td>Europe</td>\n",
       "    </tr>\n",
       "  </tbody>\n",
       "</table>\n",
       "</div>"
      ],
      "text/plain": [
       "  Country/Region     Cases  Deaths    PCases  PDeaths  Cases (+)  Deaths (+)  \\\n",
       "0             US  33652098  604474  33640502   604115      11596         359   \n",
       "1          India  30362848  398454  30316897   397637      45951         817   \n",
       "2         Brazil  18513305  515985  18448402   514092      64903        1893   \n",
       "3         France   5835885  111230   5832490   111174       3395          56   \n",
       "4         Russia   5428961  132314   5408744   131671      20217         643   \n",
       "\n",
       "   Fatality Rate      Continent  \n",
       "0           1.80  North America  \n",
       "1           1.31           Asia  \n",
       "2           2.79  South America  \n",
       "3           1.91         Europe  \n",
       "4           2.44         Europe  "
      ]
     },
     "execution_count": 13,
     "metadata": {},
     "output_type": "execute_result"
    }
   ],
   "source": [
    "#hide\n",
    "for c in 'Cases, Deaths'.split(', '):\n",
    "    df_table[f'{c} (+)'] = (df_table[c] - df_table[f'P{c}']).clip(0)\n",
    "    #Clip ça veut dire, les chiffres negatif sont interdit\n",
    "df_table['Fatality Rate'] = (100* df_table['Deaths']/ df_table['Cases']).round(2)\n",
    "df_table['Continent'] = df_table['Country/Region'].map(mapping['map.continent'])\n",
    "df_table.head(5)"
   ]
  },
  {
   "cell_type": "code",
   "execution_count": 14,
   "id": "aboriginal-bulgaria",
   "metadata": {
    "execution": {
     "iopub.execute_input": "2021-07-01T00:20:11.659227Z",
     "iopub.status.busy": "2021-07-01T00:20:11.658659Z",
     "iopub.status.idle": "2021-07-01T00:20:11.660375Z",
     "shell.execute_reply": "2021-07-01T00:20:11.660873Z"
    },
    "papermill": {
     "duration": 0.041986,
     "end_time": "2021-07-01T00:20:11.660995",
     "exception": false,
     "start_time": "2021-07-01T00:20:11.619009",
     "status": "completed"
    },
    "tags": []
   },
   "outputs": [],
   "source": [
    "#hide\n",
    "#delete problematic countries from table\n",
    "df_table = df_table[~df_table['Country/Region'].isin(['Cape Verde', 'Cruise Ship', 'Kosovo'])]"
   ]
  },
  {
   "cell_type": "code",
   "execution_count": 15,
   "id": "fantastic-effect",
   "metadata": {
    "execution": {
     "iopub.execute_input": "2021-07-01T00:20:11.738882Z",
     "iopub.status.busy": "2021-07-01T00:20:11.735138Z",
     "iopub.status.idle": "2021-07-01T00:20:11.756467Z",
     "shell.execute_reply": "2021-07-01T00:20:11.756946Z"
    },
    "papermill": {
     "duration": 0.063052,
     "end_time": "2021-07-01T00:20:11.757076",
     "exception": false,
     "start_time": "2021-07-01T00:20:11.694024",
     "status": "completed"
    },
    "tags": []
   },
   "outputs": [
    {
     "data": {
      "text/html": [
       "<div>\n",
       "<style scoped>\n",
       "    .dataframe tbody tr th:only-of-type {\n",
       "        vertical-align: middle;\n",
       "    }\n",
       "\n",
       "    .dataframe tbody tr th {\n",
       "        vertical-align: top;\n",
       "    }\n",
       "\n",
       "    .dataframe thead th {\n",
       "        text-align: right;\n",
       "    }\n",
       "</style>\n",
       "<table border=\"1\" class=\"dataframe\">\n",
       "  <thead>\n",
       "    <tr style=\"text-align: right;\">\n",
       "      <th></th>\n",
       "      <th>Country/Region</th>\n",
       "      <th>Cases</th>\n",
       "      <th>Deaths</th>\n",
       "      <th>PCases</th>\n",
       "      <th>PDeaths</th>\n",
       "      <th>Cases (+)</th>\n",
       "      <th>Deaths (+)</th>\n",
       "      <th>Fatality Rate</th>\n",
       "      <th>Continent</th>\n",
       "    </tr>\n",
       "  </thead>\n",
       "  <tbody>\n",
       "    <tr>\n",
       "      <th>0</th>\n",
       "      <td>US</td>\n",
       "      <td>33652098</td>\n",
       "      <td>604474</td>\n",
       "      <td>33640502</td>\n",
       "      <td>604115</td>\n",
       "      <td>11596</td>\n",
       "      <td>359</td>\n",
       "      <td>1.8</td>\n",
       "      <td>North America</td>\n",
       "    </tr>\n",
       "    <tr>\n",
       "      <th>1</th>\n",
       "      <td>India</td>\n",
       "      <td>30362848</td>\n",
       "      <td>398454</td>\n",
       "      <td>30316897</td>\n",
       "      <td>397637</td>\n",
       "      <td>45951</td>\n",
       "      <td>817</td>\n",
       "      <td>1.3</td>\n",
       "      <td>Asia</td>\n",
       "    </tr>\n",
       "    <tr>\n",
       "      <th>2</th>\n",
       "      <td>Brazil</td>\n",
       "      <td>18513305</td>\n",
       "      <td>515985</td>\n",
       "      <td>18448402</td>\n",
       "      <td>514092</td>\n",
       "      <td>64903</td>\n",
       "      <td>1893</td>\n",
       "      <td>2.8</td>\n",
       "      <td>South America</td>\n",
       "    </tr>\n",
       "    <tr>\n",
       "      <th>3</th>\n",
       "      <td>France</td>\n",
       "      <td>5835885</td>\n",
       "      <td>111230</td>\n",
       "      <td>5832490</td>\n",
       "      <td>111174</td>\n",
       "      <td>3395</td>\n",
       "      <td>56</td>\n",
       "      <td>1.9</td>\n",
       "      <td>Europe</td>\n",
       "    </tr>\n",
       "    <tr>\n",
       "      <th>4</th>\n",
       "      <td>Russia</td>\n",
       "      <td>5428961</td>\n",
       "      <td>132314</td>\n",
       "      <td>5408744</td>\n",
       "      <td>131671</td>\n",
       "      <td>20217</td>\n",
       "      <td>643</td>\n",
       "      <td>2.4</td>\n",
       "      <td>Europe</td>\n",
       "    </tr>\n",
       "  </tbody>\n",
       "</table>\n",
       "</div>"
      ],
      "text/plain": [
       "  Country/Region     Cases  Deaths    PCases  PDeaths  Cases (+)  Deaths (+)  \\\n",
       "0             US  33652098  604474  33640502   604115      11596         359   \n",
       "1          India  30362848  398454  30316897   397637      45951         817   \n",
       "2         Brazil  18513305  515985  18448402   514092      64903        1893   \n",
       "3         France   5835885  111230   5832490   111174       3395          56   \n",
       "4         Russia   5428961  132314   5408744   131671      20217         643   \n",
       "\n",
       "   Fatality Rate      Continent  \n",
       "0            1.8  North America  \n",
       "1            1.3           Asia  \n",
       "2            2.8  South America  \n",
       "3            1.9         Europe  \n",
       "4            2.4         Europe  "
      ]
     },
     "execution_count": 15,
     "metadata": {},
     "output_type": "execute_result"
    }
   ],
   "source": [
    "#hide\n",
    "df_table = (pd.DataFrame(dict(Cases=dfc_cases, Deaths=dfc_deaths, PCases=dfp_cases, PDeaths=dfp_deaths))\n",
    "             .sort_values(by=['Cases', 'Deaths'], ascending=[False, False])\n",
    "             .reset_index())\n",
    "df_table.rename(columns={'index': 'Country/Region'}, inplace=True)\n",
    "for c in 'Cases, Deaths'.split(', '):\n",
    "    df_table[f'{c} (+)'] = (df_table[c] - df_table[f'P{c}']).clip(0)  # DATA BUG\n",
    "df_table['Fatality Rate'] = (100 * df_table['Deaths'] / df_table['Cases']).round(1)\n",
    "df_table['Continent'] = df_table['Country/Region'].map(mapping['map.continent'])\n",
    "df_table.head(5)"
   ]
  },
  {
   "cell_type": "code",
   "execution_count": 16,
   "id": "fewer-occasion",
   "metadata": {
    "execution": {
     "iopub.execute_input": "2021-07-01T00:20:11.831956Z",
     "iopub.status.busy": "2021-07-01T00:20:11.831387Z",
     "iopub.status.idle": "2021-07-01T00:20:11.833430Z",
     "shell.execute_reply": "2021-07-01T00:20:11.833910Z"
    },
    "papermill": {
     "duration": 0.0431,
     "end_time": "2021-07-01T00:20:11.834039",
     "exception": false,
     "start_time": "2021-07-01T00:20:11.790939",
     "status": "completed"
    },
    "tags": []
   },
   "outputs": [],
   "source": [
    "#hide\n",
    "#delete problematic countries from table\n",
    "df_table = df_table[~df_table['Country/Region'].isin(['Cape Verde', 'Cruise Ship', 'Kosovo'])]"
   ]
  },
  {
   "cell_type": "code",
   "execution_count": 17,
   "id": "related-center",
   "metadata": {
    "execution": {
     "iopub.execute_input": "2021-07-01T00:20:11.913696Z",
     "iopub.status.busy": "2021-07-01T00:20:11.913121Z",
     "iopub.status.idle": "2021-07-01T00:20:11.926574Z",
     "shell.execute_reply": "2021-07-01T00:20:11.926141Z"
    },
    "papermill": {
     "duration": 0.05925,
     "end_time": "2021-07-01T00:20:11.926681",
     "exception": false,
     "start_time": "2021-07-01T00:20:11.867431",
     "status": "completed"
    },
    "tags": []
   },
   "outputs": [],
   "source": [
    "#hide\n",
    "metrics = [df_table.columns[index] for index in [1,2,5,6]]\n",
    "# s_china = df_table[df_table['Country/Region'].eq('China')][metrics].sum().add_prefix('China ')\n",
    "s_us = df_table[df_table['Country/Region'].eq('US')][metrics].sum().add_prefix('US ')\n",
    "s_eu = df_table[df_table['Continent'].eq('Europe')][metrics].sum().add_prefix('EU ')\n",
    "s_ind = df_table[df_table['Country/Region'].eq('India')][metrics].sum().add_prefix('India ')\n",
    "summary = {'updated': pd.to_datetime(dt_today), 'since': pd.to_datetime(dt_yday)}\n",
    "summary = {'updated': pd.to_datetime(dt_today), 'since': pd.to_datetime(dt_yday)}\n",
    "summary = {**summary, **df_table[metrics].sum(), **s_ind, **s_us, **s_eu}"
   ]
  },
  {
   "cell_type": "code",
   "execution_count": 18,
   "id": "engaging-syndrome",
   "metadata": {
    "execution": {
     "iopub.execute_input": "2021-07-01T00:20:12.007730Z",
     "iopub.status.busy": "2021-07-01T00:20:12.007212Z",
     "iopub.status.idle": "2021-07-01T00:20:12.016554Z",
     "shell.execute_reply": "2021-07-01T00:20:12.016168Z"
    },
    "papermill": {
     "duration": 0.051213,
     "end_time": "2021-07-01T00:20:12.016654",
     "exception": false,
     "start_time": "2021-07-01T00:20:11.965441",
     "status": "completed"
    },
    "tags": []
   },
   "outputs": [],
   "source": [
    "#hide\n",
    "dft_ct_new_cases = dft_cases.groupby(COL_REGION)[dt_cols].sum().diff(axis=1).fillna(0).astype(int)"
   ]
  },
  {
   "cell_type": "code",
   "execution_count": 19,
   "id": "neutral-assignment",
   "metadata": {
    "execution": {
     "iopub.execute_input": "2021-07-01T00:20:12.087373Z",
     "iopub.status.busy": "2021-07-01T00:20:12.086791Z",
     "iopub.status.idle": "2021-07-01T00:20:12.088492Z",
     "shell.execute_reply": "2021-07-01T00:20:12.088951Z"
    },
    "papermill": {
     "duration": 0.040918,
     "end_time": "2021-07-01T00:20:12.089071",
     "exception": false,
     "start_time": "2021-07-01T00:20:12.048153",
     "status": "completed"
    },
    "tags": []
   },
   "outputs": [],
   "source": [
    "#hide\n",
    "everydaycases = dft_ct_new_cases.cumsum(axis=1)"
   ]
  },
  {
   "cell_type": "code",
   "execution_count": 20,
   "id": "parliamentary-calgary",
   "metadata": {
    "execution": {
     "iopub.execute_input": "2021-07-01T00:20:12.161389Z",
     "iopub.status.busy": "2021-07-01T00:20:12.160828Z",
     "iopub.status.idle": "2021-07-01T00:20:12.697779Z",
     "shell.execute_reply": "2021-07-01T00:20:12.696450Z"
    },
    "papermill": {
     "duration": 0.574746,
     "end_time": "2021-07-01T00:20:12.697997",
     "exception": false,
     "start_time": "2021-07-01T00:20:12.123251",
     "status": "completed"
    },
    "tags": []
   },
   "outputs": [],
   "source": [
    "#hide\n",
    "import pandas as pd\n",
    "import matplotlib.pyplot as plt\n",
    "import matplotlib.ticker as ticker\n",
    "import matplotlib.animation as animation\n",
    "from IPython.display import HTML"
   ]
  },
  {
   "cell_type": "code",
   "execution_count": 21,
   "id": "lasting-extraction",
   "metadata": {
    "execution": {
     "iopub.execute_input": "2021-07-01T00:20:12.776131Z",
     "iopub.status.busy": "2021-07-01T00:20:12.775506Z",
     "iopub.status.idle": "2021-07-01T00:20:12.781473Z",
     "shell.execute_reply": "2021-07-01T00:20:12.781000Z"
    },
    "papermill": {
     "duration": 0.046336,
     "end_time": "2021-07-01T00:20:12.781596",
     "exception": false,
     "start_time": "2021-07-01T00:20:12.735260",
     "status": "completed"
    },
    "tags": []
   },
   "outputs": [],
   "source": [
    "#hide\n",
    "t = everydaycases.stack()"
   ]
  },
  {
   "cell_type": "code",
   "execution_count": 22,
   "id": "premier-sleeve",
   "metadata": {
    "execution": {
     "iopub.execute_input": "2021-07-01T00:20:12.854598Z",
     "iopub.status.busy": "2021-07-01T00:20:12.854057Z",
     "iopub.status.idle": "2021-07-01T00:20:12.863040Z",
     "shell.execute_reply": "2021-07-01T00:20:12.862553Z"
    },
    "papermill": {
     "duration": 0.04663,
     "end_time": "2021-07-01T00:20:12.863153",
     "exception": false,
     "start_time": "2021-07-01T00:20:12.816523",
     "status": "completed"
    },
    "tags": []
   },
   "outputs": [],
   "source": [
    "#hide\n",
    "g = t.reset_index(['Country/Region'])"
   ]
  },
  {
   "cell_type": "code",
   "execution_count": 23,
   "id": "distributed-pittsburgh",
   "metadata": {
    "execution": {
     "iopub.execute_input": "2021-07-01T00:20:12.937379Z",
     "iopub.status.busy": "2021-07-01T00:20:12.936824Z",
     "iopub.status.idle": "2021-07-01T00:20:12.939099Z",
     "shell.execute_reply": "2021-07-01T00:20:12.938580Z"
    },
    "papermill": {
     "duration": 0.042592,
     "end_time": "2021-07-01T00:20:12.939218",
     "exception": false,
     "start_time": "2021-07-01T00:20:12.896626",
     "status": "completed"
    },
    "tags": []
   },
   "outputs": [],
   "source": [
    "#hide\n",
    "g.index.name = 'date'"
   ]
  },
  {
   "cell_type": "code",
   "execution_count": 24,
   "id": "naked-donor",
   "metadata": {
    "execution": {
     "iopub.execute_input": "2021-07-01T00:20:13.010784Z",
     "iopub.status.busy": "2021-07-01T00:20:13.010135Z",
     "iopub.status.idle": "2021-07-01T00:20:13.011406Z",
     "shell.execute_reply": "2021-07-01T00:20:13.011944Z"
    },
    "papermill": {
     "duration": 0.039716,
     "end_time": "2021-07-01T00:20:13.012077",
     "exception": false,
     "start_time": "2021-07-01T00:20:12.972361",
     "status": "completed"
    },
    "tags": []
   },
   "outputs": [],
   "source": [
    "# #hide\n",
    "# g = g.reset_index(['date'])"
   ]
  },
  {
   "cell_type": "code",
   "execution_count": 25,
   "id": "incomplete-mustang",
   "metadata": {
    "execution": {
     "iopub.execute_input": "2021-07-01T00:20:13.082127Z",
     "iopub.status.busy": "2021-07-01T00:20:13.081592Z",
     "iopub.status.idle": "2021-07-01T00:20:13.084509Z",
     "shell.execute_reply": "2021-07-01T00:20:13.084020Z"
    },
    "papermill": {
     "duration": 0.039581,
     "end_time": "2021-07-01T00:20:13.084613",
     "exception": false,
     "start_time": "2021-07-01T00:20:13.045032",
     "status": "completed"
    },
    "tags": []
   },
   "outputs": [],
   "source": [
    "#hide\n",
    "# g.head()"
   ]
  },
  {
   "cell_type": "code",
   "execution_count": 26,
   "id": "specific-kruger",
   "metadata": {
    "execution": {
     "iopub.execute_input": "2021-07-01T00:20:13.159006Z",
     "iopub.status.busy": "2021-07-01T00:20:13.158431Z",
     "iopub.status.idle": "2021-07-01T00:20:13.160500Z",
     "shell.execute_reply": "2021-07-01T00:20:13.160950Z"
    },
    "papermill": {
     "duration": 0.041895,
     "end_time": "2021-07-01T00:20:13.161071",
     "exception": false,
     "start_time": "2021-07-01T00:20:13.119176",
     "status": "completed"
    },
    "tags": []
   },
   "outputs": [],
   "source": [
    "#hide\n",
    "# g.columns = ['date','country','cases']"
   ]
  },
  {
   "cell_type": "code",
   "execution_count": 27,
   "id": "tender-conversion",
   "metadata": {
    "execution": {
     "iopub.execute_input": "2021-07-01T00:20:13.235110Z",
     "iopub.status.busy": "2021-07-01T00:20:13.234544Z",
     "iopub.status.idle": "2021-07-01T00:20:13.236693Z",
     "shell.execute_reply": "2021-07-01T00:20:13.237201Z"
    },
    "papermill": {
     "duration": 0.042872,
     "end_time": "2021-07-01T00:20:13.237323",
     "exception": false,
     "start_time": "2021-07-01T00:20:13.194451",
     "status": "completed"
    },
    "tags": []
   },
   "outputs": [],
   "source": [
    "#hide\n",
    "# g['continent'] = g.country"
   ]
  },
  {
   "cell_type": "code",
   "execution_count": 28,
   "id": "substantial-wilderness",
   "metadata": {
    "execution": {
     "iopub.execute_input": "2021-07-01T00:20:13.308190Z",
     "iopub.status.busy": "2021-07-01T00:20:13.307612Z",
     "iopub.status.idle": "2021-07-01T00:20:13.310052Z",
     "shell.execute_reply": "2021-07-01T00:20:13.309602Z"
    },
    "papermill": {
     "duration": 0.039696,
     "end_time": "2021-07-01T00:20:13.310160",
     "exception": false,
     "start_time": "2021-07-01T00:20:13.270464",
     "status": "completed"
    },
    "tags": []
   },
   "outputs": [],
   "source": [
    "#hide\n",
    "# cols = list(g.columns.values)"
   ]
  },
  {
   "cell_type": "code",
   "execution_count": 29,
   "id": "solved-farming",
   "metadata": {
    "execution": {
     "iopub.execute_input": "2021-07-01T00:20:13.381902Z",
     "iopub.status.busy": "2021-07-01T00:20:13.381337Z",
     "iopub.status.idle": "2021-07-01T00:20:13.383280Z",
     "shell.execute_reply": "2021-07-01T00:20:13.383771Z"
    },
    "papermill": {
     "duration": 0.039951,
     "end_time": "2021-07-01T00:20:13.383899",
     "exception": false,
     "start_time": "2021-07-01T00:20:13.343948",
     "status": "completed"
    },
    "tags": []
   },
   "outputs": [],
   "source": [
    "#hide\n",
    "# cols.insert(0, cols.pop())"
   ]
  },
  {
   "cell_type": "code",
   "execution_count": 30,
   "id": "executed-adoption",
   "metadata": {
    "execution": {
     "iopub.execute_input": "2021-07-01T00:20:13.454486Z",
     "iopub.status.busy": "2021-07-01T00:20:13.453950Z",
     "iopub.status.idle": "2021-07-01T00:20:13.456260Z",
     "shell.execute_reply": "2021-07-01T00:20:13.456904Z"
    },
    "papermill": {
     "duration": 0.039419,
     "end_time": "2021-07-01T00:20:13.457045",
     "exception": false,
     "start_time": "2021-07-01T00:20:13.417626",
     "status": "completed"
    },
    "tags": []
   },
   "outputs": [],
   "source": [
    "#hide\n",
    "# g = g[cols]"
   ]
  },
  {
   "cell_type": "code",
   "execution_count": 31,
   "id": "subject-dublin",
   "metadata": {
    "execution": {
     "iopub.execute_input": "2021-07-01T00:20:13.527335Z",
     "iopub.status.busy": "2021-07-01T00:20:13.526786Z",
     "iopub.status.idle": "2021-07-01T00:20:13.529167Z",
     "shell.execute_reply": "2021-07-01T00:20:13.529693Z"
    },
    "papermill": {
     "duration": 0.040123,
     "end_time": "2021-07-01T00:20:13.529814",
     "exception": false,
     "start_time": "2021-07-01T00:20:13.489691",
     "status": "completed"
    },
    "tags": []
   },
   "outputs": [],
   "source": [
    "#hide\n",
    "# g['continent'] = g['continent'].map(mapping['map.continent'])"
   ]
  },
  {
   "cell_type": "code",
   "execution_count": 32,
   "id": "freelance-scout",
   "metadata": {
    "execution": {
     "iopub.execute_input": "2021-07-01T00:20:13.601661Z",
     "iopub.status.busy": "2021-07-01T00:20:13.600650Z",
     "iopub.status.idle": "2021-07-01T00:20:13.603004Z",
     "shell.execute_reply": "2021-07-01T00:20:13.603857Z"
    },
    "papermill": {
     "duration": 0.041189,
     "end_time": "2021-07-01T00:20:13.603982",
     "exception": false,
     "start_time": "2021-07-01T00:20:13.562793",
     "status": "completed"
    },
    "tags": []
   },
   "outputs": [],
   "source": [
    "#hide\n",
    "# g.head()"
   ]
  },
  {
   "cell_type": "code",
   "execution_count": 33,
   "id": "limited-engine",
   "metadata": {
    "execution": {
     "iopub.execute_input": "2021-07-01T00:20:13.675755Z",
     "iopub.status.busy": "2021-07-01T00:20:13.675180Z",
     "iopub.status.idle": "2021-07-01T00:20:13.677654Z",
     "shell.execute_reply": "2021-07-01T00:20:13.677193Z"
    },
    "papermill": {
     "duration": 0.039504,
     "end_time": "2021-07-01T00:20:13.677778",
     "exception": false,
     "start_time": "2021-07-01T00:20:13.638274",
     "status": "completed"
    },
    "tags": []
   },
   "outputs": [],
   "source": [
    "# hide\n",
    "# g['date'] = g['date'].astype('datetime64[ns]')"
   ]
  },
  {
   "cell_type": "code",
   "execution_count": 34,
   "id": "sophisticated-supervisor",
   "metadata": {
    "execution": {
     "iopub.execute_input": "2021-07-01T00:20:13.757052Z",
     "iopub.status.busy": "2021-07-01T00:20:13.756476Z",
     "iopub.status.idle": "2021-07-01T00:20:13.758236Z",
     "shell.execute_reply": "2021-07-01T00:20:13.758675Z"
    },
    "papermill": {
     "duration": 0.04618,
     "end_time": "2021-07-01T00:20:13.758827",
     "exception": false,
     "start_time": "2021-07-01T00:20:13.712647",
     "status": "completed"
    },
    "tags": []
   },
   "outputs": [],
   "source": [
    "#hide\n",
    "# g['date'] = g.date.dt.dayofyear"
   ]
  },
  {
   "cell_type": "code",
   "execution_count": 35,
   "id": "inside-dubai",
   "metadata": {
    "execution": {
     "iopub.execute_input": "2021-07-01T00:20:13.833885Z",
     "iopub.status.busy": "2021-07-01T00:20:13.833294Z",
     "iopub.status.idle": "2021-07-01T00:20:13.835394Z",
     "shell.execute_reply": "2021-07-01T00:20:13.834937Z"
    },
    "papermill": {
     "duration": 0.042367,
     "end_time": "2021-07-01T00:20:13.835504",
     "exception": false,
     "start_time": "2021-07-01T00:20:13.793137",
     "status": "completed"
    },
    "tags": []
   },
   "outputs": [],
   "source": [
    "#hide\n",
    "# g = g.rename(columns= {'continent':'group','country':'name','cases':'value'})"
   ]
  },
  {
   "cell_type": "code",
   "execution_count": 36,
   "id": "fleet-motorcycle",
   "metadata": {
    "execution": {
     "iopub.execute_input": "2021-07-01T00:20:13.906847Z",
     "iopub.status.busy": "2021-07-01T00:20:13.906275Z",
     "iopub.status.idle": "2021-07-01T00:20:13.908620Z",
     "shell.execute_reply": "2021-07-01T00:20:13.909045Z"
    },
    "papermill": {
     "duration": 0.039923,
     "end_time": "2021-07-01T00:20:13.909166",
     "exception": false,
     "start_time": "2021-07-01T00:20:13.869243",
     "status": "completed"
    },
    "tags": []
   },
   "outputs": [],
   "source": [
    "#hide\n",
    "# cols = ['name','group','day','value']"
   ]
  },
  {
   "cell_type": "code",
   "execution_count": 37,
   "id": "continued-sleeping",
   "metadata": {
    "execution": {
     "iopub.execute_input": "2021-07-01T00:20:13.984106Z",
     "iopub.status.busy": "2021-07-01T00:20:13.983531Z",
     "iopub.status.idle": "2021-07-01T00:20:13.986153Z",
     "shell.execute_reply": "2021-07-01T00:20:13.986743Z"
    },
    "papermill": {
     "duration": 0.041488,
     "end_time": "2021-07-01T00:20:13.986874",
     "exception": false,
     "start_time": "2021-07-01T00:20:13.945386",
     "status": "completed"
    },
    "tags": []
   },
   "outputs": [],
   "source": [
    "#hide\n",
    "# g.rename(columns= {'date':'day'},inplace = True)"
   ]
  },
  {
   "cell_type": "code",
   "execution_count": 38,
   "id": "major-fight",
   "metadata": {
    "execution": {
     "iopub.execute_input": "2021-07-01T00:20:14.058034Z",
     "iopub.status.busy": "2021-07-01T00:20:14.057438Z",
     "iopub.status.idle": "2021-07-01T00:20:14.059541Z",
     "shell.execute_reply": "2021-07-01T00:20:14.060047Z"
    },
    "papermill": {
     "duration": 0.040491,
     "end_time": "2021-07-01T00:20:14.060168",
     "exception": false,
     "start_time": "2021-07-01T00:20:14.019677",
     "status": "completed"
    },
    "tags": []
   },
   "outputs": [],
   "source": [
    "#hide\n",
    "# g = g[cols]"
   ]
  },
  {
   "cell_type": "code",
   "execution_count": 39,
   "id": "structured-mobile",
   "metadata": {
    "execution": {
     "iopub.execute_input": "2021-07-01T00:20:14.131145Z",
     "iopub.status.busy": "2021-07-01T00:20:14.130544Z",
     "iopub.status.idle": "2021-07-01T00:20:14.132829Z",
     "shell.execute_reply": "2021-07-01T00:20:14.132401Z"
    },
    "papermill": {
     "duration": 0.039393,
     "end_time": "2021-07-01T00:20:14.132940",
     "exception": false,
     "start_time": "2021-07-01T00:20:14.093547",
     "status": "completed"
    },
    "tags": []
   },
   "outputs": [],
   "source": [
    "# #hide\n",
    "# g = g[g.group.notna()]"
   ]
  },
  {
   "cell_type": "code",
   "execution_count": 40,
   "id": "determined-closing",
   "metadata": {
    "execution": {
     "iopub.execute_input": "2021-07-01T00:20:14.206869Z",
     "iopub.status.busy": "2021-07-01T00:20:14.206295Z",
     "iopub.status.idle": "2021-07-01T00:20:14.208802Z",
     "shell.execute_reply": "2021-07-01T00:20:14.209551Z"
    },
    "papermill": {
     "duration": 0.042862,
     "end_time": "2021-07-01T00:20:14.209699",
     "exception": false,
     "start_time": "2021-07-01T00:20:14.166837",
     "status": "completed"
    },
    "tags": []
   },
   "outputs": [],
   "source": [
    "# #hide\n",
    "# colors = dict(zip(\n",
    "#     [\"Oceania\", \"Europe\", \"Asia\", \"South America\", \"Middle East\", \"North America\", \"Africa\"],\n",
    "#     [\"#adb0ff\", \"#ffb3ff\", \"#90d595\", \"#e48381\", \"#aafbff\", \"#f7bb5f\", \"#eafb50\"]\n",
    "# ))\n",
    "# group_lk = g.set_index('name')['group'].to_dict()"
   ]
  },
  {
   "cell_type": "code",
   "execution_count": null,
   "id": "gross-drinking",
   "metadata": {
    "papermill": {
     "duration": 0.03538,
     "end_time": "2021-07-01T00:20:14.282986",
     "exception": false,
     "start_time": "2021-07-01T00:20:14.247606",
     "status": "completed"
    },
    "tags": []
   },
   "outputs": [],
   "source": []
  },
  {
   "cell_type": "code",
   "execution_count": 41,
   "id": "subject-macintosh",
   "metadata": {
    "execution": {
     "iopub.execute_input": "2021-07-01T00:20:14.357195Z",
     "iopub.status.busy": "2021-07-01T00:20:14.356635Z",
     "iopub.status.idle": "2021-07-01T00:20:14.358347Z",
     "shell.execute_reply": "2021-07-01T00:20:14.358830Z"
    },
    "papermill": {
     "duration": 0.041938,
     "end_time": "2021-07-01T00:20:14.358958",
     "exception": false,
     "start_time": "2021-07-01T00:20:14.317020",
     "status": "completed"
    },
    "tags": []
   },
   "outputs": [],
   "source": [
    "# #hide\n",
    "# fig, ax = plt.subplots(figsize=(15, 8))\n",
    "\n",
    "# def draw_barchart(current_day):\n",
    "#     dff = g[g['day'].eq(current_day)].sort_values(by='value', ascending=True).tail(10)\n",
    "#     ax.clear()\n",
    "#     ax.barh(dff['name'], dff['value'], color=[colors[group_lk[x]] for x in dff['name']])\n",
    "#     dx = dff['value'].max() / 200\n",
    "    \n",
    "#     for i, (value, name) in enumerate(zip(dff['value'], dff['name'])):\n",
    "#         ax.text(value-dx, i,     name,           size=14, weight=600, ha='right', va='bottom')\n",
    "#         ax.text(value-dx, i-.25, group_lk[name], size=10, color='#444444', ha='right', va='baseline')\n",
    "#         ax.text(value+dx, i,     f'{value:,.0f}',  size=14, ha='left',  va='center')\n",
    "#     ax.text(1, 0.4, current_day, transform=ax.transAxes, color='#777777', size=46, ha='right', weight=800)\n",
    "#     ax.text(0, 1.06, 'Population (thousands)', transform=ax.transAxes, size=12, color='#777777')\n",
    "#     ax.xaxis.set_major_formatter(ticker.StrMethodFormatter('{x:,.0f}'))\n",
    "#     ax.xaxis.set_ticks_position('top')\n",
    "#     ax.tick_params(axis='x', colors='#777777', labelsize=12)\n",
    "#     ax.set_yticks([])\n",
    "#     ax.margins(0, 0.01)\n",
    "#     ax.grid(which='major', axis='x', linestyle='-')\n",
    "#     ax.set_axisbelow(True)\n",
    "    \n",
    "#     ax.text(0, 1.15, 'Coronavirus',\n",
    "#             transform=ax.transAxes, size=24, weight=600, ha='left', va='top')\n",
    "# #     ax.text(1, 0, 'by @pratapvardhan; credit @jburnmurdoch', transform=ax.transAxes, color='#777777', ha='right',\n",
    "# #             bbox=dict(facecolor='white', alpha=0.8, edgecolor='white'))\n",
    "#     plt.box(False)"
   ]
  },
  {
   "cell_type": "code",
   "execution_count": 42,
   "id": "sexual-wages",
   "metadata": {
    "execution": {
     "iopub.execute_input": "2021-07-01T00:20:14.430646Z",
     "iopub.status.busy": "2021-07-01T00:20:14.430087Z",
     "iopub.status.idle": "2021-07-01T00:20:14.432290Z",
     "shell.execute_reply": "2021-07-01T00:20:14.433023Z"
    },
    "papermill": {
     "duration": 0.040691,
     "end_time": "2021-07-01T00:20:14.433166",
     "exception": false,
     "start_time": "2021-07-01T00:20:14.392475",
     "status": "completed"
    },
    "tags": []
   },
   "outputs": [],
   "source": [
    "# #hide_input\n",
    "# fig, ax = plt.subplots(figsize=(15, 8))\n",
    "# animator = animation.FuncAnimation(fig, draw_barchart, frames=range(g.day.values.min(), g.day.values.max()))\n",
    "# HTML(animator.to_jshtml())\n",
    "# # or use animator.to_html5_video() or animator.save() "
   ]
  },
  {
   "cell_type": "code",
   "execution_count": null,
   "id": "australian-container",
   "metadata": {
    "papermill": {
     "duration": 0.032967,
     "end_time": "2021-07-01T00:20:14.500471",
     "exception": false,
     "start_time": "2021-07-01T00:20:14.467504",
     "status": "completed"
    },
    "tags": []
   },
   "outputs": [],
   "source": []
  },
  {
   "cell_type": "code",
   "execution_count": null,
   "id": "mediterranean-pontiac",
   "metadata": {
    "papermill": {
     "duration": 0.032212,
     "end_time": "2021-07-01T00:20:14.565188",
     "exception": false,
     "start_time": "2021-07-01T00:20:14.532976",
     "status": "completed"
    },
    "tags": []
   },
   "outputs": [],
   "source": []
  },
  {
   "cell_type": "code",
   "execution_count": null,
   "id": "aging-legislature",
   "metadata": {
    "papermill": {
     "duration": 0.032302,
     "end_time": "2021-07-01T00:20:14.630438",
     "exception": false,
     "start_time": "2021-07-01T00:20:14.598136",
     "status": "completed"
    },
    "tags": []
   },
   "outputs": [],
   "source": []
  }
 ],
 "metadata": {
  "kernelspec": {
   "display_name": "Python 3",
   "language": "python",
   "name": "python3"
  },
  "language_info": {
   "codemirror_mode": {
    "name": "ipython",
    "version": 3
   },
   "file_extension": ".py",
   "mimetype": "text/x-python",
   "name": "python",
   "nbconvert_exporter": "python",
   "pygments_lexer": "ipython3",
   "version": "3.6.13"
  },
  "papermill": {
   "duration": 6.359109,
   "end_time": "2021-07-01T00:20:14.972250",
   "environment_variables": {},
   "exception": null,
   "input_path": "2020-03-21-covid19exp.ipynb",
   "output_path": "2020-03-21-covid19exp.ipynb",
   "parameters": {},
   "start_time": "2021-07-01T00:20:08.613141",
   "version": "2.0.0"
  }
 },
 "nbformat": 4,
 "nbformat_minor": 5
}