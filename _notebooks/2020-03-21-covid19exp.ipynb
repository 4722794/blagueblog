{
 "cells": [
  {
   "cell_type": "markdown",
   "id": "muslim-click",
   "metadata": {
    "papermill": {
     "duration": 0.034763,
     "end_time": "2021-08-13T00:21:34.901918",
     "exception": false,
     "start_time": "2021-08-13T00:21:34.867155",
     "status": "completed"
    },
    "tags": []
   },
   "source": [
    "# COVID-19 Case Race\n",
    "> A race chart to see rising cases around the world\n",
    "\n",
    "- author: Hargun Oberoi\n",
    "- image: images/covid-overview.png\n",
    "- hide: false\n",
    "- badges: false"
   ]
  },
  {
   "cell_type": "code",
   "execution_count": 1,
   "id": "proof-material",
   "metadata": {
    "execution": {
     "iopub.execute_input": "2021-08-13T00:21:34.971797Z",
     "iopub.status.busy": "2021-08-13T00:21:34.971278Z",
     "iopub.status.idle": "2021-08-13T00:21:35.291808Z",
     "shell.execute_reply": "2021-08-13T00:21:35.291273Z"
    },
    "papermill": {
     "duration": 0.360425,
     "end_time": "2021-08-13T00:21:35.291958",
     "exception": false,
     "start_time": "2021-08-13T00:21:34.931533",
     "status": "completed"
    },
    "tags": []
   },
   "outputs": [],
   "source": [
    "#hide\n",
    "import numpy as np\n",
    "import pandas as pd\n",
    "from jinja2 import Template\n",
    "from IPython.display import HTML"
   ]
  },
  {
   "cell_type": "code",
   "execution_count": 2,
   "id": "developed-terminology",
   "metadata": {
    "execution": {
     "iopub.execute_input": "2021-08-13T00:21:35.355585Z",
     "iopub.status.busy": "2021-08-13T00:21:35.355045Z",
     "iopub.status.idle": "2021-08-13T00:21:35.356695Z",
     "shell.execute_reply": "2021-08-13T00:21:35.357089Z"
    },
    "papermill": {
     "duration": 0.035811,
     "end_time": "2021-08-13T00:21:35.357222",
     "exception": false,
     "start_time": "2021-08-13T00:21:35.321411",
     "status": "completed"
    },
    "tags": []
   },
   "outputs": [],
   "source": [
    "#hide\n",
    "\n",
    "# FETCH\n",
    "base_url = 'https://raw.githubusercontent.com/pratapvardhan/notebooks/master/covid19/'\n",
    "paths = {\n",
    "    'mapping': base_url + 'mapping_countries.csv',\n",
    "    'overview': base_url + 'overview.tpl'\n",
    "}"
   ]
  },
  {
   "cell_type": "code",
   "execution_count": 3,
   "id": "dynamic-saver",
   "metadata": {
    "execution": {
     "iopub.execute_input": "2021-08-13T00:21:35.426416Z",
     "iopub.status.busy": "2021-08-13T00:21:35.425902Z",
     "iopub.status.idle": "2021-08-13T00:21:35.428532Z",
     "shell.execute_reply": "2021-08-13T00:21:35.428040Z"
    },
    "papermill": {
     "duration": 0.042262,
     "end_time": "2021-08-13T00:21:35.428643",
     "exception": false,
     "start_time": "2021-08-13T00:21:35.386381",
     "status": "completed"
    },
    "tags": []
   },
   "outputs": [
    {
     "data": {
      "text/plain": [
       "'https://raw.githubusercontent.com/pratapvardhan/notebooks/master/covid19/mapping_countries.csv'"
      ]
     },
     "execution_count": 3,
     "metadata": {},
     "output_type": "execute_result"
    }
   ],
   "source": [
    "#hide\n",
    "paths['mapping']"
   ]
  },
  {
   "cell_type": "code",
   "execution_count": 4,
   "id": "urban-software",
   "metadata": {
    "execution": {
     "iopub.execute_input": "2021-08-13T00:21:35.493708Z",
     "iopub.status.busy": "2021-08-13T00:21:35.493197Z",
     "iopub.status.idle": "2021-08-13T00:21:35.495464Z",
     "shell.execute_reply": "2021-08-13T00:21:35.495060Z"
    },
    "papermill": {
     "duration": 0.036499,
     "end_time": "2021-08-13T00:21:35.495573",
     "exception": false,
     "start_time": "2021-08-13T00:21:35.459074",
     "status": "completed"
    },
    "tags": []
   },
   "outputs": [],
   "source": [
    "#hide\n",
    "def get_mappings(url):\n",
    "    df = pd.read_csv(url)\n",
    "    return {\n",
    "        'df': df,\n",
    "        'replace.country': dict(df.dropna(subset=['Name']).set_index('Country')['Name']),\n",
    "        'map.continent': dict(df.set_index('Name')['Continent'])\n",
    "    }"
   ]
  },
  {
   "cell_type": "code",
   "execution_count": 5,
   "id": "intimate-machinery",
   "metadata": {
    "execution": {
     "iopub.execute_input": "2021-08-13T00:21:35.559094Z",
     "iopub.status.busy": "2021-08-13T00:21:35.558594Z",
     "iopub.status.idle": "2021-08-13T00:21:35.617851Z",
     "shell.execute_reply": "2021-08-13T00:21:35.617372Z"
    },
    "papermill": {
     "duration": 0.093121,
     "end_time": "2021-08-13T00:21:35.617971",
     "exception": false,
     "start_time": "2021-08-13T00:21:35.524850",
     "status": "completed"
    },
    "tags": []
   },
   "outputs": [],
   "source": [
    "#hide\n",
    "mapping = get_mappings(paths['mapping'])"
   ]
  },
  {
   "cell_type": "code",
   "execution_count": 6,
   "id": "certified-tactics",
   "metadata": {
    "execution": {
     "iopub.execute_input": "2021-08-13T00:21:35.682828Z",
     "iopub.status.busy": "2021-08-13T00:21:35.682318Z",
     "iopub.status.idle": "2021-08-13T00:21:35.684126Z",
     "shell.execute_reply": "2021-08-13T00:21:35.684499Z"
    },
    "papermill": {
     "duration": 0.036854,
     "end_time": "2021-08-13T00:21:35.684626",
     "exception": false,
     "start_time": "2021-08-13T00:21:35.647772",
     "status": "completed"
    },
    "tags": []
   },
   "outputs": [],
   "source": [
    "#hide\n",
    "def get_template(path):\n",
    "    from urllib.parse import urlparse\n",
    "    if bool(urlparse(path).netloc):\n",
    "        from urllib.request import urlopen\n",
    "        return urlopen(path).read().decode('utf8')\n",
    "    return open(path).read()"
   ]
  },
  {
   "cell_type": "code",
   "execution_count": 7,
   "id": "realistic-blast",
   "metadata": {
    "execution": {
     "iopub.execute_input": "2021-08-13T00:21:35.748606Z",
     "iopub.status.busy": "2021-08-13T00:21:35.748098Z",
     "iopub.status.idle": "2021-08-13T00:21:35.749874Z",
     "shell.execute_reply": "2021-08-13T00:21:35.750250Z"
    },
    "papermill": {
     "duration": 0.036397,
     "end_time": "2021-08-13T00:21:35.750379",
     "exception": false,
     "start_time": "2021-08-13T00:21:35.713982",
     "status": "completed"
    },
    "tags": []
   },
   "outputs": [],
   "source": [
    "#hide\n",
    "def get_frame(name):\n",
    "    url = (\n",
    "        'https://raw.githubusercontent.com/CSSEGISandData/COVID-19/master/csse_covid_19_data/'\n",
    "        f'csse_covid_19_time_series/time_series_covid19_{name}_global.csv')\n",
    "    df = pd.read_csv(url)\n",
    "    # rename countries\n",
    "    df['Country/Region'] = df['Country/Region'].replace(mapping['replace.country'])\n",
    "    return df"
   ]
  },
  {
   "cell_type": "code",
   "execution_count": 8,
   "id": "affiliated-characterization",
   "metadata": {
    "execution": {
     "iopub.execute_input": "2021-08-13T00:21:35.815342Z",
     "iopub.status.busy": "2021-08-13T00:21:35.814833Z",
     "iopub.status.idle": "2021-08-13T00:21:35.817084Z",
     "shell.execute_reply": "2021-08-13T00:21:35.816658Z"
    },
    "papermill": {
     "duration": 0.037472,
     "end_time": "2021-08-13T00:21:35.817198",
     "exception": false,
     "start_time": "2021-08-13T00:21:35.779726",
     "status": "completed"
    },
    "tags": []
   },
   "outputs": [],
   "source": [
    "#hide\n",
    "def get_dates(df):\n",
    "    dt_cols = df.columns[~df.columns.isin(['Province/State', 'Country/Region', 'Lat', 'Long'])]\n",
    "    LAST_DATE_I = -1\n",
    "    # sometimes last column may be empty, then go backwards\n",
    "    for i in range(-1, -len(dt_cols), -1):\n",
    "        if not df[dt_cols[i]].fillna(0).eq(0).all():\n",
    "            LAST_DATE_I = i\n",
    "            break\n",
    "    return LAST_DATE_I, dt_cols"
   ]
  },
  {
   "cell_type": "code",
   "execution_count": 9,
   "id": "recent-optimization",
   "metadata": {
    "execution": {
     "iopub.execute_input": "2021-08-13T00:21:35.881001Z",
     "iopub.status.busy": "2021-08-13T00:21:35.880374Z",
     "iopub.status.idle": "2021-08-13T00:21:36.399447Z",
     "shell.execute_reply": "2021-08-13T00:21:36.398990Z"
    },
    "papermill": {
     "duration": 0.553013,
     "end_time": "2021-08-13T00:21:36.399571",
     "exception": false,
     "start_time": "2021-08-13T00:21:35.846558",
     "status": "completed"
    },
    "tags": []
   },
   "outputs": [],
   "source": [
    "#hide\n",
    "COL_REGION = 'Country/Region'\n",
    "# Confirmed, Recovered, Deaths\n",
    "df = get_frame('confirmed')\n",
    "# dft_: timeseries, dfc_: today country agg\n",
    "dft_cases = df\n",
    "dft_deaths = get_frame('deaths')\n",
    "dft_recovered = get_frame('recovered')\n",
    "LAST_DATE_I, dt_cols = get_dates(df)"
   ]
  },
  {
   "cell_type": "code",
   "execution_count": 10,
   "id": "absolute-copper",
   "metadata": {
    "execution": {
     "iopub.execute_input": "2021-08-13T00:21:36.465002Z",
     "iopub.status.busy": "2021-08-13T00:21:36.464488Z",
     "iopub.status.idle": "2021-08-13T00:21:36.466271Z",
     "shell.execute_reply": "2021-08-13T00:21:36.466671Z"
    },
    "papermill": {
     "duration": 0.037375,
     "end_time": "2021-08-13T00:21:36.466800",
     "exception": false,
     "start_time": "2021-08-13T00:21:36.429425",
     "status": "completed"
    },
    "tags": []
   },
   "outputs": [],
   "source": [
    "#hide\n",
    "LAST_DATE_I, dt_cols = get_dates(df)\n",
    "dt_today =dt_cols[LAST_DATE_I]\n",
    "# dt_5day = dt_cols[LAST_DATE_I - 5]\n",
    "dt_yday = dt_cols[LAST_DATE_I - 1]"
   ]
  },
  {
   "cell_type": "code",
   "execution_count": 11,
   "id": "restricted-sheriff",
   "metadata": {
    "execution": {
     "iopub.execute_input": "2021-08-13T00:21:36.533963Z",
     "iopub.status.busy": "2021-08-13T00:21:36.533421Z",
     "iopub.status.idle": "2021-08-13T00:21:36.538647Z",
     "shell.execute_reply": "2021-08-13T00:21:36.539030Z"
    },
    "papermill": {
     "duration": 0.042872,
     "end_time": "2021-08-13T00:21:36.539166",
     "exception": false,
     "start_time": "2021-08-13T00:21:36.496294",
     "status": "completed"
    },
    "tags": []
   },
   "outputs": [],
   "source": [
    "#hide\n",
    "dfc_cases = dft_cases.groupby(COL_REGION)[dt_today].sum()\n",
    "dfc_deaths = dft_deaths.groupby(COL_REGION)[dt_today].sum()\n",
    "# dfp_cases = dft_cases.groupby(COL_REGION)[dt_5day].sum()\n",
    "# dfp_deaths = dft_deaths.groupby(COL_REGION)[dt_5day].sum()\n",
    "dfp_cases = dft_cases.groupby(COL_REGION)[dt_yday].sum()\n",
    "dfp_deaths = dft_deaths.groupby(COL_REGION)[dt_yday].sum()"
   ]
  },
  {
   "cell_type": "code",
   "execution_count": 12,
   "id": "deluxe-hepatitis",
   "metadata": {
    "execution": {
     "iopub.execute_input": "2021-08-13T00:21:36.604971Z",
     "iopub.status.busy": "2021-08-13T00:21:36.604464Z",
     "iopub.status.idle": "2021-08-13T00:21:36.608236Z",
     "shell.execute_reply": "2021-08-13T00:21:36.607791Z"
    },
    "papermill": {
     "duration": 0.039595,
     "end_time": "2021-08-13T00:21:36.608358",
     "exception": false,
     "start_time": "2021-08-13T00:21:36.568763",
     "status": "completed"
    },
    "tags": []
   },
   "outputs": [],
   "source": [
    "#hide\n",
    "df_table = (pd.DataFrame(dict(Cases = dfc_cases, Deaths = dfc_deaths, PCases = dfp_cases, PDeaths = dfp_deaths))\n",
    "            .sort_values(by = ['Cases','Deaths'], ascending = [False, False])\n",
    "            .reset_index())"
   ]
  },
  {
   "cell_type": "code",
   "execution_count": 13,
   "id": "educational-chancellor",
   "metadata": {
    "execution": {
     "iopub.execute_input": "2021-08-13T00:21:36.685126Z",
     "iopub.status.busy": "2021-08-13T00:21:36.684577Z",
     "iopub.status.idle": "2021-08-13T00:21:36.692019Z",
     "shell.execute_reply": "2021-08-13T00:21:36.691612Z"
    },
    "papermill": {
     "duration": 0.054373,
     "end_time": "2021-08-13T00:21:36.692132",
     "exception": false,
     "start_time": "2021-08-13T00:21:36.637759",
     "status": "completed"
    },
    "tags": []
   },
   "outputs": [
    {
     "data": {
      "text/html": [
       "<div>\n",
       "<style scoped>\n",
       "    .dataframe tbody tr th:only-of-type {\n",
       "        vertical-align: middle;\n",
       "    }\n",
       "\n",
       "    .dataframe tbody tr th {\n",
       "        vertical-align: top;\n",
       "    }\n",
       "\n",
       "    .dataframe thead th {\n",
       "        text-align: right;\n",
       "    }\n",
       "</style>\n",
       "<table border=\"1\" class=\"dataframe\">\n",
       "  <thead>\n",
       "    <tr style=\"text-align: right;\">\n",
       "      <th></th>\n",
       "      <th>Country/Region</th>\n",
       "      <th>Cases</th>\n",
       "      <th>Deaths</th>\n",
       "      <th>PCases</th>\n",
       "      <th>PDeaths</th>\n",
       "      <th>Cases (+)</th>\n",
       "      <th>Deaths (+)</th>\n",
       "      <th>Fatality Rate</th>\n",
       "      <th>Continent</th>\n",
       "    </tr>\n",
       "  </thead>\n",
       "  <tbody>\n",
       "    <tr>\n",
       "      <th>0</th>\n",
       "      <td>US</td>\n",
       "      <td>36190179</td>\n",
       "      <td>618479</td>\n",
       "      <td>36055002</td>\n",
       "      <td>618137</td>\n",
       "      <td>135177</td>\n",
       "      <td>342</td>\n",
       "      <td>1.71</td>\n",
       "      <td>North America</td>\n",
       "    </tr>\n",
       "    <tr>\n",
       "      <th>1</th>\n",
       "      <td>India</td>\n",
       "      <td>32077706</td>\n",
       "      <td>429669</td>\n",
       "      <td>32036511</td>\n",
       "      <td>429179</td>\n",
       "      <td>41195</td>\n",
       "      <td>490</td>\n",
       "      <td>1.34</td>\n",
       "      <td>Asia</td>\n",
       "    </tr>\n",
       "    <tr>\n",
       "      <th>2</th>\n",
       "      <td>Brazil</td>\n",
       "      <td>20245085</td>\n",
       "      <td>565748</td>\n",
       "      <td>20212642</td>\n",
       "      <td>564773</td>\n",
       "      <td>32443</td>\n",
       "      <td>975</td>\n",
       "      <td>2.79</td>\n",
       "      <td>South America</td>\n",
       "    </tr>\n",
       "    <tr>\n",
       "      <th>3</th>\n",
       "      <td>France</td>\n",
       "      <td>6440082</td>\n",
       "      <td>112620</td>\n",
       "      <td>6407288</td>\n",
       "      <td>112575</td>\n",
       "      <td>32794</td>\n",
       "      <td>45</td>\n",
       "      <td>1.75</td>\n",
       "      <td>Europe</td>\n",
       "    </tr>\n",
       "    <tr>\n",
       "      <th>4</th>\n",
       "      <td>Russia</td>\n",
       "      <td>6425918</td>\n",
       "      <td>164413</td>\n",
       "      <td>6404960</td>\n",
       "      <td>163629</td>\n",
       "      <td>20958</td>\n",
       "      <td>784</td>\n",
       "      <td>2.56</td>\n",
       "      <td>Europe</td>\n",
       "    </tr>\n",
       "  </tbody>\n",
       "</table>\n",
       "</div>"
      ],
      "text/plain": [
       "  Country/Region     Cases  Deaths    PCases  PDeaths  Cases (+)  Deaths (+)  \\\n",
       "0             US  36190179  618479  36055002   618137     135177         342   \n",
       "1          India  32077706  429669  32036511   429179      41195         490   \n",
       "2         Brazil  20245085  565748  20212642   564773      32443         975   \n",
       "3         France   6440082  112620   6407288   112575      32794          45   \n",
       "4         Russia   6425918  164413   6404960   163629      20958         784   \n",
       "\n",
       "   Fatality Rate      Continent  \n",
       "0           1.71  North America  \n",
       "1           1.34           Asia  \n",
       "2           2.79  South America  \n",
       "3           1.75         Europe  \n",
       "4           2.56         Europe  "
      ]
     },
     "execution_count": 13,
     "metadata": {},
     "output_type": "execute_result"
    }
   ],
   "source": [
    "#hide\n",
    "for c in 'Cases, Deaths'.split(', '):\n",
    "    df_table[f'{c} (+)'] = (df_table[c] - df_table[f'P{c}']).clip(0)\n",
    "    #Clip ça veut dire, les chiffres negatif sont interdit\n",
    "df_table['Fatality Rate'] = (100* df_table['Deaths']/ df_table['Cases']).round(2)\n",
    "df_table['Continent'] = df_table['Country/Region'].map(mapping['map.continent'])\n",
    "df_table.head(5)"
   ]
  },
  {
   "cell_type": "code",
   "execution_count": 14,
   "id": "aboriginal-bulgaria",
   "metadata": {
    "execution": {
     "iopub.execute_input": "2021-08-13T00:21:36.756706Z",
     "iopub.status.busy": "2021-08-13T00:21:36.756201Z",
     "iopub.status.idle": "2021-08-13T00:21:36.759475Z",
     "shell.execute_reply": "2021-08-13T00:21:36.759067Z"
    },
    "papermill": {
     "duration": 0.037484,
     "end_time": "2021-08-13T00:21:36.759586",
     "exception": false,
     "start_time": "2021-08-13T00:21:36.722102",
     "status": "completed"
    },
    "tags": []
   },
   "outputs": [],
   "source": [
    "#hide\n",
    "#delete problematic countries from table\n",
    "df_table = df_table[~df_table['Country/Region'].isin(['Cape Verde', 'Cruise Ship', 'Kosovo'])]"
   ]
  },
  {
   "cell_type": "code",
   "execution_count": 15,
   "id": "fantastic-effect",
   "metadata": {
    "execution": {
     "iopub.execute_input": "2021-08-13T00:21:36.827504Z",
     "iopub.status.busy": "2021-08-13T00:21:36.826994Z",
     "iopub.status.idle": "2021-08-13T00:21:36.843876Z",
     "shell.execute_reply": "2021-08-13T00:21:36.843470Z"
    },
    "papermill": {
     "duration": 0.054031,
     "end_time": "2021-08-13T00:21:36.843991",
     "exception": false,
     "start_time": "2021-08-13T00:21:36.789960",
     "status": "completed"
    },
    "tags": []
   },
   "outputs": [
    {
     "data": {
      "text/html": [
       "<div>\n",
       "<style scoped>\n",
       "    .dataframe tbody tr th:only-of-type {\n",
       "        vertical-align: middle;\n",
       "    }\n",
       "\n",
       "    .dataframe tbody tr th {\n",
       "        vertical-align: top;\n",
       "    }\n",
       "\n",
       "    .dataframe thead th {\n",
       "        text-align: right;\n",
       "    }\n",
       "</style>\n",
       "<table border=\"1\" class=\"dataframe\">\n",
       "  <thead>\n",
       "    <tr style=\"text-align: right;\">\n",
       "      <th></th>\n",
       "      <th>Country/Region</th>\n",
       "      <th>Cases</th>\n",
       "      <th>Deaths</th>\n",
       "      <th>PCases</th>\n",
       "      <th>PDeaths</th>\n",
       "      <th>Cases (+)</th>\n",
       "      <th>Deaths (+)</th>\n",
       "      <th>Fatality Rate</th>\n",
       "      <th>Continent</th>\n",
       "    </tr>\n",
       "  </thead>\n",
       "  <tbody>\n",
       "    <tr>\n",
       "      <th>0</th>\n",
       "      <td>US</td>\n",
       "      <td>36190179</td>\n",
       "      <td>618479</td>\n",
       "      <td>36055002</td>\n",
       "      <td>618137</td>\n",
       "      <td>135177</td>\n",
       "      <td>342</td>\n",
       "      <td>1.7</td>\n",
       "      <td>North America</td>\n",
       "    </tr>\n",
       "    <tr>\n",
       "      <th>1</th>\n",
       "      <td>India</td>\n",
       "      <td>32077706</td>\n",
       "      <td>429669</td>\n",
       "      <td>32036511</td>\n",
       "      <td>429179</td>\n",
       "      <td>41195</td>\n",
       "      <td>490</td>\n",
       "      <td>1.3</td>\n",
       "      <td>Asia</td>\n",
       "    </tr>\n",
       "    <tr>\n",
       "      <th>2</th>\n",
       "      <td>Brazil</td>\n",
       "      <td>20245085</td>\n",
       "      <td>565748</td>\n",
       "      <td>20212642</td>\n",
       "      <td>564773</td>\n",
       "      <td>32443</td>\n",
       "      <td>975</td>\n",
       "      <td>2.8</td>\n",
       "      <td>South America</td>\n",
       "    </tr>\n",
       "    <tr>\n",
       "      <th>3</th>\n",
       "      <td>France</td>\n",
       "      <td>6440082</td>\n",
       "      <td>112620</td>\n",
       "      <td>6407288</td>\n",
       "      <td>112575</td>\n",
       "      <td>32794</td>\n",
       "      <td>45</td>\n",
       "      <td>1.7</td>\n",
       "      <td>Europe</td>\n",
       "    </tr>\n",
       "    <tr>\n",
       "      <th>4</th>\n",
       "      <td>Russia</td>\n",
       "      <td>6425918</td>\n",
       "      <td>164413</td>\n",
       "      <td>6404960</td>\n",
       "      <td>163629</td>\n",
       "      <td>20958</td>\n",
       "      <td>784</td>\n",
       "      <td>2.6</td>\n",
       "      <td>Europe</td>\n",
       "    </tr>\n",
       "  </tbody>\n",
       "</table>\n",
       "</div>"
      ],
      "text/plain": [
       "  Country/Region     Cases  Deaths    PCases  PDeaths  Cases (+)  Deaths (+)  \\\n",
       "0             US  36190179  618479  36055002   618137     135177         342   \n",
       "1          India  32077706  429669  32036511   429179      41195         490   \n",
       "2         Brazil  20245085  565748  20212642   564773      32443         975   \n",
       "3         France   6440082  112620   6407288   112575      32794          45   \n",
       "4         Russia   6425918  164413   6404960   163629      20958         784   \n",
       "\n",
       "   Fatality Rate      Continent  \n",
       "0            1.7  North America  \n",
       "1            1.3           Asia  \n",
       "2            2.8  South America  \n",
       "3            1.7         Europe  \n",
       "4            2.6         Europe  "
      ]
     },
     "execution_count": 15,
     "metadata": {},
     "output_type": "execute_result"
    }
   ],
   "source": [
    "#hide\n",
    "df_table = (pd.DataFrame(dict(Cases=dfc_cases, Deaths=dfc_deaths, PCases=dfp_cases, PDeaths=dfp_deaths))\n",
    "             .sort_values(by=['Cases', 'Deaths'], ascending=[False, False])\n",
    "             .reset_index())\n",
    "df_table.rename(columns={'index': 'Country/Region'}, inplace=True)\n",
    "for c in 'Cases, Deaths'.split(', '):\n",
    "    df_table[f'{c} (+)'] = (df_table[c] - df_table[f'P{c}']).clip(0)  # DATA BUG\n",
    "df_table['Fatality Rate'] = (100 * df_table['Deaths'] / df_table['Cases']).round(1)\n",
    "df_table['Continent'] = df_table['Country/Region'].map(mapping['map.continent'])\n",
    "df_table.head(5)"
   ]
  },
  {
   "cell_type": "code",
   "execution_count": 16,
   "id": "fewer-occasion",
   "metadata": {
    "execution": {
     "iopub.execute_input": "2021-08-13T00:21:36.910076Z",
     "iopub.status.busy": "2021-08-13T00:21:36.909582Z",
     "iopub.status.idle": "2021-08-13T00:21:36.911657Z",
     "shell.execute_reply": "2021-08-13T00:21:36.911256Z"
    },
    "papermill": {
     "duration": 0.03744,
     "end_time": "2021-08-13T00:21:36.911765",
     "exception": false,
     "start_time": "2021-08-13T00:21:36.874325",
     "status": "completed"
    },
    "tags": []
   },
   "outputs": [],
   "source": [
    "#hide\n",
    "#delete problematic countries from table\n",
    "df_table = df_table[~df_table['Country/Region'].isin(['Cape Verde', 'Cruise Ship', 'Kosovo'])]"
   ]
  },
  {
   "cell_type": "code",
   "execution_count": 17,
   "id": "related-center",
   "metadata": {
    "execution": {
     "iopub.execute_input": "2021-08-13T00:21:36.979283Z",
     "iopub.status.busy": "2021-08-13T00:21:36.978777Z",
     "iopub.status.idle": "2021-08-13T00:21:36.991765Z",
     "shell.execute_reply": "2021-08-13T00:21:36.991350Z"
    },
    "papermill": {
     "duration": 0.049936,
     "end_time": "2021-08-13T00:21:36.991884",
     "exception": false,
     "start_time": "2021-08-13T00:21:36.941948",
     "status": "completed"
    },
    "tags": []
   },
   "outputs": [],
   "source": [
    "#hide\n",
    "metrics = [df_table.columns[index] for index in [1,2,5,6]]\n",
    "# s_china = df_table[df_table['Country/Region'].eq('China')][metrics].sum().add_prefix('China ')\n",
    "s_us = df_table[df_table['Country/Region'].eq('US')][metrics].sum().add_prefix('US ')\n",
    "s_eu = df_table[df_table['Continent'].eq('Europe')][metrics].sum().add_prefix('EU ')\n",
    "s_ind = df_table[df_table['Country/Region'].eq('India')][metrics].sum().add_prefix('India ')\n",
    "summary = {'updated': pd.to_datetime(dt_today), 'since': pd.to_datetime(dt_yday)}\n",
    "summary = {'updated': pd.to_datetime(dt_today), 'since': pd.to_datetime(dt_yday)}\n",
    "summary = {**summary, **df_table[metrics].sum(), **s_ind, **s_us, **s_eu}"
   ]
  },
  {
   "cell_type": "code",
   "execution_count": 18,
   "id": "engaging-syndrome",
   "metadata": {
    "execution": {
     "iopub.execute_input": "2021-08-13T00:21:37.057256Z",
     "iopub.status.busy": "2021-08-13T00:21:37.056731Z",
     "iopub.status.idle": "2021-08-13T00:21:37.070084Z",
     "shell.execute_reply": "2021-08-13T00:21:37.069659Z"
    },
    "papermill": {
     "duration": 0.048103,
     "end_time": "2021-08-13T00:21:37.070195",
     "exception": false,
     "start_time": "2021-08-13T00:21:37.022092",
     "status": "completed"
    },
    "tags": []
   },
   "outputs": [],
   "source": [
    "#hide\n",
    "dft_ct_new_cases = dft_cases.groupby(COL_REGION)[dt_cols].sum().diff(axis=1).fillna(0).astype(int)"
   ]
  },
  {
   "cell_type": "code",
   "execution_count": 19,
   "id": "neutral-assignment",
   "metadata": {
    "execution": {
     "iopub.execute_input": "2021-08-13T00:21:37.229730Z",
     "iopub.status.busy": "2021-08-13T00:21:37.229111Z",
     "iopub.status.idle": "2021-08-13T00:21:37.231349Z",
     "shell.execute_reply": "2021-08-13T00:21:37.230927Z"
    },
    "papermill": {
     "duration": 0.130893,
     "end_time": "2021-08-13T00:21:37.231463",
     "exception": false,
     "start_time": "2021-08-13T00:21:37.100570",
     "status": "completed"
    },
    "tags": []
   },
   "outputs": [],
   "source": [
    "#hide\n",
    "everydaycases = dft_ct_new_cases.cumsum(axis=1)"
   ]
  },
  {
   "cell_type": "code",
   "execution_count": 20,
   "id": "parliamentary-calgary",
   "metadata": {
    "execution": {
     "iopub.execute_input": "2021-08-13T00:21:37.426071Z",
     "iopub.status.busy": "2021-08-13T00:21:37.425441Z",
     "iopub.status.idle": "2021-08-13T00:21:38.354252Z",
     "shell.execute_reply": "2021-08-13T00:21:38.353719Z"
    },
    "papermill": {
     "duration": 1.031199,
     "end_time": "2021-08-13T00:21:38.354391",
     "exception": false,
     "start_time": "2021-08-13T00:21:37.323192",
     "status": "completed"
    },
    "tags": []
   },
   "outputs": [],
   "source": [
    "#hide\n",
    "import pandas as pd\n",
    "import matplotlib.pyplot as plt\n",
    "import matplotlib.ticker as ticker\n",
    "import matplotlib.animation as animation\n",
    "from IPython.display import HTML"
   ]
  },
  {
   "cell_type": "code",
   "execution_count": 21,
   "id": "lasting-extraction",
   "metadata": {
    "execution": {
     "iopub.execute_input": "2021-08-13T00:21:38.420521Z",
     "iopub.status.busy": "2021-08-13T00:21:38.420014Z",
     "iopub.status.idle": "2021-08-13T00:21:38.425766Z",
     "shell.execute_reply": "2021-08-13T00:21:38.426159Z"
    },
    "papermill": {
     "duration": 0.041439,
     "end_time": "2021-08-13T00:21:38.426281",
     "exception": false,
     "start_time": "2021-08-13T00:21:38.384842",
     "status": "completed"
    },
    "tags": []
   },
   "outputs": [],
   "source": [
    "#hide\n",
    "t = everydaycases.stack()"
   ]
  },
  {
   "cell_type": "code",
   "execution_count": 22,
   "id": "premier-sleeve",
   "metadata": {
    "execution": {
     "iopub.execute_input": "2021-08-13T00:21:38.490448Z",
     "iopub.status.busy": "2021-08-13T00:21:38.489953Z",
     "iopub.status.idle": "2021-08-13T00:21:38.498531Z",
     "shell.execute_reply": "2021-08-13T00:21:38.498130Z"
    },
    "papermill": {
     "duration": 0.042405,
     "end_time": "2021-08-13T00:21:38.498643",
     "exception": false,
     "start_time": "2021-08-13T00:21:38.456238",
     "status": "completed"
    },
    "tags": []
   },
   "outputs": [],
   "source": [
    "#hide\n",
    "g = t.reset_index(['Country/Region'])"
   ]
  },
  {
   "cell_type": "code",
   "execution_count": 23,
   "id": "distributed-pittsburgh",
   "metadata": {
    "execution": {
     "iopub.execute_input": "2021-08-13T00:21:38.562403Z",
     "iopub.status.busy": "2021-08-13T00:21:38.561905Z",
     "iopub.status.idle": "2021-08-13T00:21:38.564020Z",
     "shell.execute_reply": "2021-08-13T00:21:38.563602Z"
    },
    "papermill": {
     "duration": 0.035591,
     "end_time": "2021-08-13T00:21:38.564124",
     "exception": false,
     "start_time": "2021-08-13T00:21:38.528533",
     "status": "completed"
    },
    "tags": []
   },
   "outputs": [],
   "source": [
    "#hide\n",
    "g.index.name = 'date'"
   ]
  },
  {
   "cell_type": "code",
   "execution_count": 24,
   "id": "naked-donor",
   "metadata": {
    "execution": {
     "iopub.execute_input": "2021-08-13T00:21:38.627485Z",
     "iopub.status.busy": "2021-08-13T00:21:38.626995Z",
     "iopub.status.idle": "2021-08-13T00:21:38.629228Z",
     "shell.execute_reply": "2021-08-13T00:21:38.628811Z"
    },
    "papermill": {
     "duration": 0.035258,
     "end_time": "2021-08-13T00:21:38.629335",
     "exception": false,
     "start_time": "2021-08-13T00:21:38.594077",
     "status": "completed"
    },
    "tags": []
   },
   "outputs": [],
   "source": [
    "# #hide\n",
    "# g = g.reset_index(['date'])"
   ]
  },
  {
   "cell_type": "code",
   "execution_count": 25,
   "id": "incomplete-mustang",
   "metadata": {
    "execution": {
     "iopub.execute_input": "2021-08-13T00:21:38.692325Z",
     "iopub.status.busy": "2021-08-13T00:21:38.691839Z",
     "iopub.status.idle": "2021-08-13T00:21:38.693586Z",
     "shell.execute_reply": "2021-08-13T00:21:38.694038Z"
    },
    "papermill": {
     "duration": 0.035009,
     "end_time": "2021-08-13T00:21:38.694153",
     "exception": false,
     "start_time": "2021-08-13T00:21:38.659144",
     "status": "completed"
    },
    "tags": []
   },
   "outputs": [],
   "source": [
    "#hide\n",
    "# g.head()"
   ]
  },
  {
   "cell_type": "code",
   "execution_count": 26,
   "id": "specific-kruger",
   "metadata": {
    "execution": {
     "iopub.execute_input": "2021-08-13T00:21:38.759461Z",
     "iopub.status.busy": "2021-08-13T00:21:38.758956Z",
     "iopub.status.idle": "2021-08-13T00:21:38.761167Z",
     "shell.execute_reply": "2021-08-13T00:21:38.760746Z"
    },
    "papermill": {
     "duration": 0.037242,
     "end_time": "2021-08-13T00:21:38.761279",
     "exception": false,
     "start_time": "2021-08-13T00:21:38.724037",
     "status": "completed"
    },
    "tags": []
   },
   "outputs": [],
   "source": [
    "#hide\n",
    "# g.columns = ['date','country','cases']"
   ]
  },
  {
   "cell_type": "code",
   "execution_count": 27,
   "id": "tender-conversion",
   "metadata": {
    "execution": {
     "iopub.execute_input": "2021-08-13T00:21:38.824367Z",
     "iopub.status.busy": "2021-08-13T00:21:38.823870Z",
     "iopub.status.idle": "2021-08-13T00:21:38.825983Z",
     "shell.execute_reply": "2021-08-13T00:21:38.825561Z"
    },
    "papermill": {
     "duration": 0.03503,
     "end_time": "2021-08-13T00:21:38.826089",
     "exception": false,
     "start_time": "2021-08-13T00:21:38.791059",
     "status": "completed"
    },
    "tags": []
   },
   "outputs": [],
   "source": [
    "#hide\n",
    "# g['continent'] = g.country"
   ]
  },
  {
   "cell_type": "code",
   "execution_count": 28,
   "id": "substantial-wilderness",
   "metadata": {
    "execution": {
     "iopub.execute_input": "2021-08-13T00:21:38.890007Z",
     "iopub.status.busy": "2021-08-13T00:21:38.889509Z",
     "iopub.status.idle": "2021-08-13T00:21:38.891335Z",
     "shell.execute_reply": "2021-08-13T00:21:38.891755Z"
    },
    "papermill": {
     "duration": 0.035762,
     "end_time": "2021-08-13T00:21:38.891877",
     "exception": false,
     "start_time": "2021-08-13T00:21:38.856115",
     "status": "completed"
    },
    "tags": []
   },
   "outputs": [],
   "source": [
    "#hide\n",
    "# cols = list(g.columns.values)"
   ]
  },
  {
   "cell_type": "code",
   "execution_count": 29,
   "id": "solved-farming",
   "metadata": {
    "execution": {
     "iopub.execute_input": "2021-08-13T00:21:38.955090Z",
     "iopub.status.busy": "2021-08-13T00:21:38.954589Z",
     "iopub.status.idle": "2021-08-13T00:21:38.956713Z",
     "shell.execute_reply": "2021-08-13T00:21:38.956298Z"
    },
    "papermill": {
     "duration": 0.035081,
     "end_time": "2021-08-13T00:21:38.956816",
     "exception": false,
     "start_time": "2021-08-13T00:21:38.921735",
     "status": "completed"
    },
    "tags": []
   },
   "outputs": [],
   "source": [
    "#hide\n",
    "# cols.insert(0, cols.pop())"
   ]
  },
  {
   "cell_type": "code",
   "execution_count": 30,
   "id": "executed-adoption",
   "metadata": {
    "execution": {
     "iopub.execute_input": "2021-08-13T00:21:39.020063Z",
     "iopub.status.busy": "2021-08-13T00:21:39.019570Z",
     "iopub.status.idle": "2021-08-13T00:21:39.021407Z",
     "shell.execute_reply": "2021-08-13T00:21:39.021827Z"
    },
    "papermill": {
     "duration": 0.035101,
     "end_time": "2021-08-13T00:21:39.021944",
     "exception": false,
     "start_time": "2021-08-13T00:21:38.986843",
     "status": "completed"
    },
    "tags": []
   },
   "outputs": [],
   "source": [
    "#hide\n",
    "# g = g[cols]"
   ]
  },
  {
   "cell_type": "code",
   "execution_count": 31,
   "id": "subject-dublin",
   "metadata": {
    "execution": {
     "iopub.execute_input": "2021-08-13T00:21:39.085417Z",
     "iopub.status.busy": "2021-08-13T00:21:39.084882Z",
     "iopub.status.idle": "2021-08-13T00:21:39.086658Z",
     "shell.execute_reply": "2021-08-13T00:21:39.087050Z"
    },
    "papermill": {
     "duration": 0.035423,
     "end_time": "2021-08-13T00:21:39.087167",
     "exception": false,
     "start_time": "2021-08-13T00:21:39.051744",
     "status": "completed"
    },
    "tags": []
   },
   "outputs": [],
   "source": [
    "#hide\n",
    "# g['continent'] = g['continent'].map(mapping['map.continent'])"
   ]
  },
  {
   "cell_type": "code",
   "execution_count": 32,
   "id": "freelance-scout",
   "metadata": {
    "execution": {
     "iopub.execute_input": "2021-08-13T00:21:39.150853Z",
     "iopub.status.busy": "2021-08-13T00:21:39.150352Z",
     "iopub.status.idle": "2021-08-13T00:21:39.152182Z",
     "shell.execute_reply": "2021-08-13T00:21:39.152602Z"
    },
    "papermill": {
     "duration": 0.035569,
     "end_time": "2021-08-13T00:21:39.152725",
     "exception": false,
     "start_time": "2021-08-13T00:21:39.117156",
     "status": "completed"
    },
    "tags": []
   },
   "outputs": [],
   "source": [
    "#hide\n",
    "# g.head()"
   ]
  },
  {
   "cell_type": "code",
   "execution_count": 33,
   "id": "limited-engine",
   "metadata": {
    "execution": {
     "iopub.execute_input": "2021-08-13T00:21:39.216226Z",
     "iopub.status.busy": "2021-08-13T00:21:39.215729Z",
     "iopub.status.idle": "2021-08-13T00:21:39.217995Z",
     "shell.execute_reply": "2021-08-13T00:21:39.217596Z"
    },
    "papermill": {
     "duration": 0.035419,
     "end_time": "2021-08-13T00:21:39.218101",
     "exception": false,
     "start_time": "2021-08-13T00:21:39.182682",
     "status": "completed"
    },
    "tags": []
   },
   "outputs": [],
   "source": [
    "# hide\n",
    "# g['date'] = g['date'].astype('datetime64[ns]')"
   ]
  },
  {
   "cell_type": "code",
   "execution_count": 34,
   "id": "sophisticated-supervisor",
   "metadata": {
    "execution": {
     "iopub.execute_input": "2021-08-13T00:21:39.281557Z",
     "iopub.status.busy": "2021-08-13T00:21:39.281058Z",
     "iopub.status.idle": "2021-08-13T00:21:39.282867Z",
     "shell.execute_reply": "2021-08-13T00:21:39.283283Z"
    },
    "papermill": {
     "duration": 0.035316,
     "end_time": "2021-08-13T00:21:39.283401",
     "exception": false,
     "start_time": "2021-08-13T00:21:39.248085",
     "status": "completed"
    },
    "tags": []
   },
   "outputs": [],
   "source": [
    "#hide\n",
    "# g['date'] = g.date.dt.dayofyear"
   ]
  },
  {
   "cell_type": "code",
   "execution_count": 35,
   "id": "inside-dubai",
   "metadata": {
    "execution": {
     "iopub.execute_input": "2021-08-13T00:21:39.346656Z",
     "iopub.status.busy": "2021-08-13T00:21:39.346151Z",
     "iopub.status.idle": "2021-08-13T00:21:39.348050Z",
     "shell.execute_reply": "2021-08-13T00:21:39.348471Z"
    },
    "papermill": {
     "duration": 0.035423,
     "end_time": "2021-08-13T00:21:39.348591",
     "exception": false,
     "start_time": "2021-08-13T00:21:39.313168",
     "status": "completed"
    },
    "tags": []
   },
   "outputs": [],
   "source": [
    "#hide\n",
    "# g = g.rename(columns= {'continent':'group','country':'name','cases':'value'})"
   ]
  },
  {
   "cell_type": "code",
   "execution_count": 36,
   "id": "fleet-motorcycle",
   "metadata": {
    "execution": {
     "iopub.execute_input": "2021-08-13T00:21:39.412696Z",
     "iopub.status.busy": "2021-08-13T00:21:39.412183Z",
     "iopub.status.idle": "2021-08-13T00:21:39.414265Z",
     "shell.execute_reply": "2021-08-13T00:21:39.413844Z"
    },
    "papermill": {
     "duration": 0.035605,
     "end_time": "2021-08-13T00:21:39.414374",
     "exception": false,
     "start_time": "2021-08-13T00:21:39.378769",
     "status": "completed"
    },
    "tags": []
   },
   "outputs": [],
   "source": [
    "#hide\n",
    "# cols = ['name','group','day','value']"
   ]
  },
  {
   "cell_type": "code",
   "execution_count": 37,
   "id": "continued-sleeping",
   "metadata": {
    "execution": {
     "iopub.execute_input": "2021-08-13T00:21:39.478464Z",
     "iopub.status.busy": "2021-08-13T00:21:39.477962Z",
     "iopub.status.idle": "2021-08-13T00:21:39.479730Z",
     "shell.execute_reply": "2021-08-13T00:21:39.480148Z"
    },
    "papermill": {
     "duration": 0.035882,
     "end_time": "2021-08-13T00:21:39.480270",
     "exception": false,
     "start_time": "2021-08-13T00:21:39.444388",
     "status": "completed"
    },
    "tags": []
   },
   "outputs": [],
   "source": [
    "#hide\n",
    "# g.rename(columns= {'date':'day'},inplace = True)"
   ]
  },
  {
   "cell_type": "code",
   "execution_count": 38,
   "id": "major-fight",
   "metadata": {
    "execution": {
     "iopub.execute_input": "2021-08-13T00:21:39.544231Z",
     "iopub.status.busy": "2021-08-13T00:21:39.543724Z",
     "iopub.status.idle": "2021-08-13T00:21:39.545857Z",
     "shell.execute_reply": "2021-08-13T00:21:39.545430Z"
    },
    "papermill": {
     "duration": 0.035553,
     "end_time": "2021-08-13T00:21:39.545962",
     "exception": false,
     "start_time": "2021-08-13T00:21:39.510409",
     "status": "completed"
    },
    "tags": []
   },
   "outputs": [],
   "source": [
    "#hide\n",
    "# g = g[cols]"
   ]
  },
  {
   "cell_type": "code",
   "execution_count": 39,
   "id": "structured-mobile",
   "metadata": {
    "execution": {
     "iopub.execute_input": "2021-08-13T00:21:39.609704Z",
     "iopub.status.busy": "2021-08-13T00:21:39.609208Z",
     "iopub.status.idle": "2021-08-13T00:21:39.610987Z",
     "shell.execute_reply": "2021-08-13T00:21:39.611405Z"
    },
    "papermill": {
     "duration": 0.035467,
     "end_time": "2021-08-13T00:21:39.611523",
     "exception": false,
     "start_time": "2021-08-13T00:21:39.576056",
     "status": "completed"
    },
    "tags": []
   },
   "outputs": [],
   "source": [
    "# #hide\n",
    "# g = g[g.group.notna()]"
   ]
  },
  {
   "cell_type": "code",
   "execution_count": 40,
   "id": "determined-closing",
   "metadata": {
    "execution": {
     "iopub.execute_input": "2021-08-13T00:21:39.675413Z",
     "iopub.status.busy": "2021-08-13T00:21:39.674908Z",
     "iopub.status.idle": "2021-08-13T00:21:39.676628Z",
     "shell.execute_reply": "2021-08-13T00:21:39.677000Z"
    },
    "papermill": {
     "duration": 0.035574,
     "end_time": "2021-08-13T00:21:39.677147",
     "exception": false,
     "start_time": "2021-08-13T00:21:39.641573",
     "status": "completed"
    },
    "tags": []
   },
   "outputs": [],
   "source": [
    "# #hide\n",
    "# colors = dict(zip(\n",
    "#     [\"Oceania\", \"Europe\", \"Asia\", \"South America\", \"Middle East\", \"North America\", \"Africa\"],\n",
    "#     [\"#adb0ff\", \"#ffb3ff\", \"#90d595\", \"#e48381\", \"#aafbff\", \"#f7bb5f\", \"#eafb50\"]\n",
    "# ))\n",
    "# group_lk = g.set_index('name')['group'].to_dict()"
   ]
  },
  {
   "cell_type": "code",
   "execution_count": null,
   "id": "gross-drinking",
   "metadata": {
    "papermill": {
     "duration": 0.029967,
     "end_time": "2021-08-13T00:21:39.737016",
     "exception": false,
     "start_time": "2021-08-13T00:21:39.707049",
     "status": "completed"
    },
    "tags": []
   },
   "outputs": [],
   "source": []
  },
  {
   "cell_type": "code",
   "execution_count": 41,
   "id": "subject-macintosh",
   "metadata": {
    "execution": {
     "iopub.execute_input": "2021-08-13T00:21:39.802829Z",
     "iopub.status.busy": "2021-08-13T00:21:39.802310Z",
     "iopub.status.idle": "2021-08-13T00:21:39.804505Z",
     "shell.execute_reply": "2021-08-13T00:21:39.804101Z"
    },
    "papermill": {
     "duration": 0.037426,
     "end_time": "2021-08-13T00:21:39.804614",
     "exception": false,
     "start_time": "2021-08-13T00:21:39.767188",
     "status": "completed"
    },
    "tags": []
   },
   "outputs": [],
   "source": [
    "# #hide\n",
    "# fig, ax = plt.subplots(figsize=(15, 8))\n",
    "\n",
    "# def draw_barchart(current_day):\n",
    "#     dff = g[g['day'].eq(current_day)].sort_values(by='value', ascending=True).tail(10)\n",
    "#     ax.clear()\n",
    "#     ax.barh(dff['name'], dff['value'], color=[colors[group_lk[x]] for x in dff['name']])\n",
    "#     dx = dff['value'].max() / 200\n",
    "    \n",
    "#     for i, (value, name) in enumerate(zip(dff['value'], dff['name'])):\n",
    "#         ax.text(value-dx, i,     name,           size=14, weight=600, ha='right', va='bottom')\n",
    "#         ax.text(value-dx, i-.25, group_lk[name], size=10, color='#444444', ha='right', va='baseline')\n",
    "#         ax.text(value+dx, i,     f'{value:,.0f}',  size=14, ha='left',  va='center')\n",
    "#     ax.text(1, 0.4, current_day, transform=ax.transAxes, color='#777777', size=46, ha='right', weight=800)\n",
    "#     ax.text(0, 1.06, 'Population (thousands)', transform=ax.transAxes, size=12, color='#777777')\n",
    "#     ax.xaxis.set_major_formatter(ticker.StrMethodFormatter('{x:,.0f}'))\n",
    "#     ax.xaxis.set_ticks_position('top')\n",
    "#     ax.tick_params(axis='x', colors='#777777', labelsize=12)\n",
    "#     ax.set_yticks([])\n",
    "#     ax.margins(0, 0.01)\n",
    "#     ax.grid(which='major', axis='x', linestyle='-')\n",
    "#     ax.set_axisbelow(True)\n",
    "    \n",
    "#     ax.text(0, 1.15, 'Coronavirus',\n",
    "#             transform=ax.transAxes, size=24, weight=600, ha='left', va='top')\n",
    "# #     ax.text(1, 0, 'by @pratapvardhan; credit @jburnmurdoch', transform=ax.transAxes, color='#777777', ha='right',\n",
    "# #             bbox=dict(facecolor='white', alpha=0.8, edgecolor='white'))\n",
    "#     plt.box(False)"
   ]
  },
  {
   "cell_type": "code",
   "execution_count": 42,
   "id": "sexual-wages",
   "metadata": {
    "execution": {
     "iopub.execute_input": "2021-08-13T00:21:39.868067Z",
     "iopub.status.busy": "2021-08-13T00:21:39.867567Z",
     "iopub.status.idle": "2021-08-13T00:21:39.869884Z",
     "shell.execute_reply": "2021-08-13T00:21:39.869481Z"
    },
    "papermill": {
     "duration": 0.035439,
     "end_time": "2021-08-13T00:21:39.869992",
     "exception": false,
     "start_time": "2021-08-13T00:21:39.834553",
     "status": "completed"
    },
    "tags": []
   },
   "outputs": [],
   "source": [
    "# #hide_input\n",
    "# fig, ax = plt.subplots(figsize=(15, 8))\n",
    "# animator = animation.FuncAnimation(fig, draw_barchart, frames=range(g.day.values.min(), g.day.values.max()))\n",
    "# HTML(animator.to_jshtml())\n",
    "# # or use animator.to_html5_video() or animator.save() "
   ]
  },
  {
   "cell_type": "code",
   "execution_count": null,
   "id": "australian-container",
   "metadata": {
    "papermill": {
     "duration": 0.02991,
     "end_time": "2021-08-13T00:21:39.929926",
     "exception": false,
     "start_time": "2021-08-13T00:21:39.900016",
     "status": "completed"
    },
    "tags": []
   },
   "outputs": [],
   "source": []
  },
  {
   "cell_type": "code",
   "execution_count": null,
   "id": "mediterranean-pontiac",
   "metadata": {
    "papermill": {
     "duration": 0.029804,
     "end_time": "2021-08-13T00:21:39.989622",
     "exception": false,
     "start_time": "2021-08-13T00:21:39.959818",
     "status": "completed"
    },
    "tags": []
   },
   "outputs": [],
   "source": []
  },
  {
   "cell_type": "code",
   "execution_count": null,
   "id": "aging-legislature",
   "metadata": {
    "papermill": {
     "duration": 0.029862,
     "end_time": "2021-08-13T00:21:40.049450",
     "exception": false,
     "start_time": "2021-08-13T00:21:40.019588",
     "status": "completed"
    },
    "tags": []
   },
   "outputs": [],
   "source": []
  }
 ],
 "metadata": {
  "kernelspec": {
   "display_name": "Python 3",
   "language": "python",
   "name": "python3"
  },
  "language_info": {
   "codemirror_mode": {
    "name": "ipython",
    "version": 3
   },
   "file_extension": ".py",
   "mimetype": "text/x-python",
   "name": "python",
   "nbconvert_exporter": "python",
   "pygments_lexer": "ipython3",
   "version": "3.6.14"
  },
  "papermill": {
   "duration": 6.573552,
   "end_time": "2021-08-13T00:21:40.386024",
   "environment_variables": {},
   "exception": null,
   "input_path": "2020-03-21-covid19exp.ipynb",
   "output_path": "2020-03-21-covid19exp.ipynb",
   "parameters": {},
   "start_time": "2021-08-13T00:21:33.812472",
   "version": "2.0.0"
  }
 },
 "nbformat": 4,
 "nbformat_minor": 5
}