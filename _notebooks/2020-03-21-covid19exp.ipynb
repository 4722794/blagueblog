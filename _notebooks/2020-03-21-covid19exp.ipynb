{
 "cells": [
  {
   "cell_type": "markdown",
   "id": "muslim-click",
   "metadata": {
    "papermill": {
     "duration": 0.038038,
     "end_time": "2021-05-23T00:27:36.258126",
     "exception": false,
     "start_time": "2021-05-23T00:27:36.220088",
     "status": "completed"
    },
    "tags": []
   },
   "source": [
    "# COVID-19 Case Race\n",
    "> A race chart to see rising cases around the world\n",
    "\n",
    "- author: Hargun Oberoi\n",
    "- image: images/covid-overview.png\n",
    "- hide: false\n",
    "- badges: false"
   ]
  },
  {
   "cell_type": "code",
   "execution_count": 1,
   "id": "proof-material",
   "metadata": {
    "execution": {
     "iopub.execute_input": "2021-05-23T00:27:36.336753Z",
     "iopub.status.busy": "2021-05-23T00:27:36.336145Z",
     "iopub.status.idle": "2021-05-23T00:27:36.760216Z",
     "shell.execute_reply": "2021-05-23T00:27:36.761003Z"
    },
    "papermill": {
     "duration": 0.468918,
     "end_time": "2021-05-23T00:27:36.761181",
     "exception": false,
     "start_time": "2021-05-23T00:27:36.292263",
     "status": "completed"
    },
    "tags": []
   },
   "outputs": [],
   "source": [
    "#hide\n",
    "import numpy as np\n",
    "import pandas as pd\n",
    "from jinja2 import Template\n",
    "from IPython.display import HTML"
   ]
  },
  {
   "cell_type": "code",
   "execution_count": 2,
   "id": "developed-terminology",
   "metadata": {
    "execution": {
     "iopub.execute_input": "2021-05-23T00:27:36.835173Z",
     "iopub.status.busy": "2021-05-23T00:27:36.833734Z",
     "iopub.status.idle": "2021-05-23T00:27:36.836081Z",
     "shell.execute_reply": "2021-05-23T00:27:36.836581Z"
    },
    "papermill": {
     "duration": 0.041432,
     "end_time": "2021-05-23T00:27:36.836786",
     "exception": false,
     "start_time": "2021-05-23T00:27:36.795354",
     "status": "completed"
    },
    "tags": []
   },
   "outputs": [],
   "source": [
    "#hide\n",
    "\n",
    "# FETCH\n",
    "base_url = 'https://raw.githubusercontent.com/pratapvardhan/notebooks/master/covid19/'\n",
    "paths = {\n",
    "    'mapping': base_url + 'mapping_countries.csv',\n",
    "    'overview': base_url + 'overview.tpl'\n",
    "}"
   ]
  },
  {
   "cell_type": "code",
   "execution_count": 3,
   "id": "dynamic-saver",
   "metadata": {
    "execution": {
     "iopub.execute_input": "2021-05-23T00:27:36.921824Z",
     "iopub.status.busy": "2021-05-23T00:27:36.920941Z",
     "iopub.status.idle": "2021-05-23T00:27:36.924168Z",
     "shell.execute_reply": "2021-05-23T00:27:36.925264Z"
    },
    "papermill": {
     "duration": 0.053318,
     "end_time": "2021-05-23T00:27:36.925600",
     "exception": false,
     "start_time": "2021-05-23T00:27:36.872282",
     "status": "completed"
    },
    "tags": []
   },
   "outputs": [
    {
     "data": {
      "text/plain": [
       "'https://raw.githubusercontent.com/pratapvardhan/notebooks/master/covid19/mapping_countries.csv'"
      ]
     },
     "execution_count": 3,
     "metadata": {},
     "output_type": "execute_result"
    }
   ],
   "source": [
    "#hide\n",
    "paths['mapping']"
   ]
  },
  {
   "cell_type": "code",
   "execution_count": 4,
   "id": "urban-software",
   "metadata": {
    "execution": {
     "iopub.execute_input": "2021-05-23T00:27:37.005049Z",
     "iopub.status.busy": "2021-05-23T00:27:37.004425Z",
     "iopub.status.idle": "2021-05-23T00:27:37.006607Z",
     "shell.execute_reply": "2021-05-23T00:27:37.006014Z"
    },
    "papermill": {
     "duration": 0.042458,
     "end_time": "2021-05-23T00:27:37.006740",
     "exception": false,
     "start_time": "2021-05-23T00:27:36.964282",
     "status": "completed"
    },
    "tags": []
   },
   "outputs": [],
   "source": [
    "#hide\n",
    "def get_mappings(url):\n",
    "    df = pd.read_csv(url)\n",
    "    return {\n",
    "        'df': df,\n",
    "        'replace.country': dict(df.dropna(subset=['Name']).set_index('Country')['Name']),\n",
    "        'map.continent': dict(df.set_index('Name')['Continent'])\n",
    "    }"
   ]
  },
  {
   "cell_type": "code",
   "execution_count": 5,
   "id": "intimate-machinery",
   "metadata": {
    "execution": {
     "iopub.execute_input": "2021-05-23T00:27:37.080874Z",
     "iopub.status.busy": "2021-05-23T00:27:37.080173Z",
     "iopub.status.idle": "2021-05-23T00:27:37.117800Z",
     "shell.execute_reply": "2021-05-23T00:27:37.118312Z"
    },
    "papermill": {
     "duration": 0.077476,
     "end_time": "2021-05-23T00:27:37.118460",
     "exception": false,
     "start_time": "2021-05-23T00:27:37.040984",
     "status": "completed"
    },
    "tags": []
   },
   "outputs": [],
   "source": [
    "#hide\n",
    "mapping = get_mappings(paths['mapping'])"
   ]
  },
  {
   "cell_type": "code",
   "execution_count": 6,
   "id": "certified-tactics",
   "metadata": {
    "execution": {
     "iopub.execute_input": "2021-05-23T00:27:37.194033Z",
     "iopub.status.busy": "2021-05-23T00:27:37.193404Z",
     "iopub.status.idle": "2021-05-23T00:27:37.195425Z",
     "shell.execute_reply": "2021-05-23T00:27:37.195892Z"
    },
    "papermill": {
     "duration": 0.042553,
     "end_time": "2021-05-23T00:27:37.196029",
     "exception": false,
     "start_time": "2021-05-23T00:27:37.153476",
     "status": "completed"
    },
    "tags": []
   },
   "outputs": [],
   "source": [
    "#hide\n",
    "def get_template(path):\n",
    "    from urllib.parse import urlparse\n",
    "    if bool(urlparse(path).netloc):\n",
    "        from urllib.request import urlopen\n",
    "        return urlopen(path).read().decode('utf8')\n",
    "    return open(path).read()"
   ]
  },
  {
   "cell_type": "code",
   "execution_count": 7,
   "id": "realistic-blast",
   "metadata": {
    "execution": {
     "iopub.execute_input": "2021-05-23T00:27:37.270662Z",
     "iopub.status.busy": "2021-05-23T00:27:37.270053Z",
     "iopub.status.idle": "2021-05-23T00:27:37.273394Z",
     "shell.execute_reply": "2021-05-23T00:27:37.272238Z"
    },
    "papermill": {
     "duration": 0.04464,
     "end_time": "2021-05-23T00:27:37.275166",
     "exception": false,
     "start_time": "2021-05-23T00:27:37.230526",
     "status": "completed"
    },
    "tags": []
   },
   "outputs": [],
   "source": [
    "#hide\n",
    "def get_frame(name):\n",
    "    url = (\n",
    "        'https://raw.githubusercontent.com/CSSEGISandData/COVID-19/master/csse_covid_19_data/'\n",
    "        f'csse_covid_19_time_series/time_series_covid19_{name}_global.csv')\n",
    "    df = pd.read_csv(url)\n",
    "    # rename countries\n",
    "    df['Country/Region'] = df['Country/Region'].replace(mapping['replace.country'])\n",
    "    return df"
   ]
  },
  {
   "cell_type": "code",
   "execution_count": 8,
   "id": "affiliated-characterization",
   "metadata": {
    "execution": {
     "iopub.execute_input": "2021-05-23T00:27:37.356252Z",
     "iopub.status.busy": "2021-05-23T00:27:37.355656Z",
     "iopub.status.idle": "2021-05-23T00:27:37.357933Z",
     "shell.execute_reply": "2021-05-23T00:27:37.357404Z"
    },
    "papermill": {
     "duration": 0.043851,
     "end_time": "2021-05-23T00:27:37.358060",
     "exception": false,
     "start_time": "2021-05-23T00:27:37.314209",
     "status": "completed"
    },
    "tags": []
   },
   "outputs": [],
   "source": [
    "#hide\n",
    "def get_dates(df):\n",
    "    dt_cols = df.columns[~df.columns.isin(['Province/State', 'Country/Region', 'Lat', 'Long'])]\n",
    "    LAST_DATE_I = -1\n",
    "    # sometimes last column may be empty, then go backwards\n",
    "    for i in range(-1, -len(dt_cols), -1):\n",
    "        if not df[dt_cols[i]].fillna(0).eq(0).all():\n",
    "            LAST_DATE_I = i\n",
    "            break\n",
    "    return LAST_DATE_I, dt_cols"
   ]
  },
  {
   "cell_type": "code",
   "execution_count": 9,
   "id": "recent-optimization",
   "metadata": {
    "execution": {
     "iopub.execute_input": "2021-05-23T00:27:37.431160Z",
     "iopub.status.busy": "2021-05-23T00:27:37.430474Z",
     "iopub.status.idle": "2021-05-23T00:27:37.778219Z",
     "shell.execute_reply": "2021-05-23T00:27:37.778733Z"
    },
    "papermill": {
     "duration": 0.38717,
     "end_time": "2021-05-23T00:27:37.778888",
     "exception": false,
     "start_time": "2021-05-23T00:27:37.391718",
     "status": "completed"
    },
    "tags": []
   },
   "outputs": [],
   "source": [
    "#hide\n",
    "COL_REGION = 'Country/Region'\n",
    "# Confirmed, Recovered, Deaths\n",
    "df = get_frame('confirmed')\n",
    "# dft_: timeseries, dfc_: today country agg\n",
    "dft_cases = df\n",
    "dft_deaths = get_frame('deaths')\n",
    "dft_recovered = get_frame('recovered')\n",
    "LAST_DATE_I, dt_cols = get_dates(df)"
   ]
  },
  {
   "cell_type": "code",
   "execution_count": 10,
   "id": "absolute-copper",
   "metadata": {
    "execution": {
     "iopub.execute_input": "2021-05-23T00:27:37.853396Z",
     "iopub.status.busy": "2021-05-23T00:27:37.852804Z",
     "iopub.status.idle": "2021-05-23T00:27:37.854536Z",
     "shell.execute_reply": "2021-05-23T00:27:37.855034Z"
    },
    "papermill": {
     "duration": 0.042331,
     "end_time": "2021-05-23T00:27:37.855177",
     "exception": false,
     "start_time": "2021-05-23T00:27:37.812846",
     "status": "completed"
    },
    "tags": []
   },
   "outputs": [],
   "source": [
    "#hide\n",
    "LAST_DATE_I, dt_cols = get_dates(df)\n",
    "dt_today =dt_cols[LAST_DATE_I]\n",
    "# dt_5day = dt_cols[LAST_DATE_I - 5]\n",
    "dt_yday = dt_cols[LAST_DATE_I - 1]"
   ]
  },
  {
   "cell_type": "code",
   "execution_count": 11,
   "id": "restricted-sheriff",
   "metadata": {
    "execution": {
     "iopub.execute_input": "2021-05-23T00:27:37.933618Z",
     "iopub.status.busy": "2021-05-23T00:27:37.931361Z",
     "iopub.status.idle": "2021-05-23T00:27:37.938344Z",
     "shell.execute_reply": "2021-05-23T00:27:37.937829Z"
    },
    "papermill": {
     "duration": 0.049507,
     "end_time": "2021-05-23T00:27:37.938469",
     "exception": false,
     "start_time": "2021-05-23T00:27:37.888962",
     "status": "completed"
    },
    "tags": []
   },
   "outputs": [],
   "source": [
    "#hide\n",
    "dfc_cases = dft_cases.groupby(COL_REGION)[dt_today].sum()\n",
    "dfc_deaths = dft_deaths.groupby(COL_REGION)[dt_today].sum()\n",
    "# dfp_cases = dft_cases.groupby(COL_REGION)[dt_5day].sum()\n",
    "# dfp_deaths = dft_deaths.groupby(COL_REGION)[dt_5day].sum()\n",
    "dfp_cases = dft_cases.groupby(COL_REGION)[dt_yday].sum()\n",
    "dfp_deaths = dft_deaths.groupby(COL_REGION)[dt_yday].sum()"
   ]
  },
  {
   "cell_type": "code",
   "execution_count": 12,
   "id": "deluxe-hepatitis",
   "metadata": {
    "execution": {
     "iopub.execute_input": "2021-05-23T00:27:38.013565Z",
     "iopub.status.busy": "2021-05-23T00:27:38.012979Z",
     "iopub.status.idle": "2021-05-23T00:27:38.018349Z",
     "shell.execute_reply": "2021-05-23T00:27:38.017835Z"
    },
    "papermill": {
     "duration": 0.046065,
     "end_time": "2021-05-23T00:27:38.018464",
     "exception": false,
     "start_time": "2021-05-23T00:27:37.972399",
     "status": "completed"
    },
    "tags": []
   },
   "outputs": [],
   "source": [
    "#hide\n",
    "df_table = (pd.DataFrame(dict(Cases = dfc_cases, Deaths = dfc_deaths, PCases = dfp_cases, PDeaths = dfp_deaths))\n",
    "            .sort_values(by = ['Cases','Deaths'], ascending = [False, False])\n",
    "            .reset_index())"
   ]
  },
  {
   "cell_type": "code",
   "execution_count": 13,
   "id": "educational-chancellor",
   "metadata": {
    "execution": {
     "iopub.execute_input": "2021-05-23T00:27:38.105974Z",
     "iopub.status.busy": "2021-05-23T00:27:38.105323Z",
     "iopub.status.idle": "2021-05-23T00:27:38.113529Z",
     "shell.execute_reply": "2021-05-23T00:27:38.113050Z"
    },
    "papermill": {
     "duration": 0.061433,
     "end_time": "2021-05-23T00:27:38.113658",
     "exception": false,
     "start_time": "2021-05-23T00:27:38.052225",
     "status": "completed"
    },
    "tags": []
   },
   "outputs": [
    {
     "data": {
      "text/html": [
       "<div>\n",
       "<style scoped>\n",
       "    .dataframe tbody tr th:only-of-type {\n",
       "        vertical-align: middle;\n",
       "    }\n",
       "\n",
       "    .dataframe tbody tr th {\n",
       "        vertical-align: top;\n",
       "    }\n",
       "\n",
       "    .dataframe thead th {\n",
       "        text-align: right;\n",
       "    }\n",
       "</style>\n",
       "<table border=\"1\" class=\"dataframe\">\n",
       "  <thead>\n",
       "    <tr style=\"text-align: right;\">\n",
       "      <th></th>\n",
       "      <th>Country/Region</th>\n",
       "      <th>Cases</th>\n",
       "      <th>Deaths</th>\n",
       "      <th>PCases</th>\n",
       "      <th>PDeaths</th>\n",
       "      <th>Cases (+)</th>\n",
       "      <th>Deaths (+)</th>\n",
       "      <th>Fatality Rate</th>\n",
       "      <th>Continent</th>\n",
       "    </tr>\n",
       "  </thead>\n",
       "  <tbody>\n",
       "    <tr>\n",
       "      <th>0</th>\n",
       "      <td>US</td>\n",
       "      <td>33085106</td>\n",
       "      <td>589223</td>\n",
       "      <td>33056765</td>\n",
       "      <td>588539</td>\n",
       "      <td>28341</td>\n",
       "      <td>684</td>\n",
       "      <td>1.78</td>\n",
       "      <td>North America</td>\n",
       "    </tr>\n",
       "    <tr>\n",
       "      <th>1</th>\n",
       "      <td>India</td>\n",
       "      <td>26289290</td>\n",
       "      <td>295525</td>\n",
       "      <td>26031991</td>\n",
       "      <td>291331</td>\n",
       "      <td>257299</td>\n",
       "      <td>4194</td>\n",
       "      <td>1.12</td>\n",
       "      <td>Asia</td>\n",
       "    </tr>\n",
       "    <tr>\n",
       "      <th>2</th>\n",
       "      <td>Brazil</td>\n",
       "      <td>15970949</td>\n",
       "      <td>446309</td>\n",
       "      <td>15894094</td>\n",
       "      <td>444094</td>\n",
       "      <td>76855</td>\n",
       "      <td>2215</td>\n",
       "      <td>2.79</td>\n",
       "      <td>South America</td>\n",
       "    </tr>\n",
       "    <tr>\n",
       "      <th>3</th>\n",
       "      <td>France</td>\n",
       "      <td>5979369</td>\n",
       "      <td>108343</td>\n",
       "      <td>5979099</td>\n",
       "      <td>108343</td>\n",
       "      <td>270</td>\n",
       "      <td>0</td>\n",
       "      <td>1.81</td>\n",
       "      <td>Europe</td>\n",
       "    </tr>\n",
       "    <tr>\n",
       "      <th>4</th>\n",
       "      <td>Turkey</td>\n",
       "      <td>5169951</td>\n",
       "      <td>45840</td>\n",
       "      <td>5160423</td>\n",
       "      <td>45626</td>\n",
       "      <td>9528</td>\n",
       "      <td>214</td>\n",
       "      <td>0.89</td>\n",
       "      <td>Asia</td>\n",
       "    </tr>\n",
       "  </tbody>\n",
       "</table>\n",
       "</div>"
      ],
      "text/plain": [
       "  Country/Region     Cases  Deaths    PCases  PDeaths  Cases (+)  Deaths (+)  \\\n",
       "0             US  33085106  589223  33056765   588539      28341         684   \n",
       "1          India  26289290  295525  26031991   291331     257299        4194   \n",
       "2         Brazil  15970949  446309  15894094   444094      76855        2215   \n",
       "3         France   5979369  108343   5979099   108343        270           0   \n",
       "4         Turkey   5169951   45840   5160423    45626       9528         214   \n",
       "\n",
       "   Fatality Rate      Continent  \n",
       "0           1.78  North America  \n",
       "1           1.12           Asia  \n",
       "2           2.79  South America  \n",
       "3           1.81         Europe  \n",
       "4           0.89           Asia  "
      ]
     },
     "execution_count": 13,
     "metadata": {},
     "output_type": "execute_result"
    }
   ],
   "source": [
    "#hide\n",
    "for c in 'Cases, Deaths'.split(', '):\n",
    "    df_table[f'{c} (+)'] = (df_table[c] - df_table[f'P{c}']).clip(0)\n",
    "    #Clip ça veut dire, les chiffres negatif sont interdit\n",
    "df_table['Fatality Rate'] = (100* df_table['Deaths']/ df_table['Cases']).round(2)\n",
    "df_table['Continent'] = df_table['Country/Region'].map(mapping['map.continent'])\n",
    "df_table.head(5)"
   ]
  },
  {
   "cell_type": "code",
   "execution_count": 14,
   "id": "aboriginal-bulgaria",
   "metadata": {
    "execution": {
     "iopub.execute_input": "2021-05-23T00:27:38.191087Z",
     "iopub.status.busy": "2021-05-23T00:27:38.190497Z",
     "iopub.status.idle": "2021-05-23T00:27:38.192707Z",
     "shell.execute_reply": "2021-05-23T00:27:38.192234Z"
    },
    "papermill": {
     "duration": 0.044442,
     "end_time": "2021-05-23T00:27:38.192830",
     "exception": false,
     "start_time": "2021-05-23T00:27:38.148388",
     "status": "completed"
    },
    "tags": []
   },
   "outputs": [],
   "source": [
    "#hide\n",
    "#delete problematic countries from table\n",
    "df_table = df_table[~df_table['Country/Region'].isin(['Cape Verde', 'Cruise Ship', 'Kosovo'])]"
   ]
  },
  {
   "cell_type": "code",
   "execution_count": 15,
   "id": "fantastic-effect",
   "metadata": {
    "execution": {
     "iopub.execute_input": "2021-05-23T00:27:38.271562Z",
     "iopub.status.busy": "2021-05-23T00:27:38.270968Z",
     "iopub.status.idle": "2021-05-23T00:27:38.290707Z",
     "shell.execute_reply": "2021-05-23T00:27:38.290222Z"
    },
    "papermill": {
     "duration": 0.063744,
     "end_time": "2021-05-23T00:27:38.290836",
     "exception": false,
     "start_time": "2021-05-23T00:27:38.227092",
     "status": "completed"
    },
    "tags": []
   },
   "outputs": [
    {
     "data": {
      "text/html": [
       "<div>\n",
       "<style scoped>\n",
       "    .dataframe tbody tr th:only-of-type {\n",
       "        vertical-align: middle;\n",
       "    }\n",
       "\n",
       "    .dataframe tbody tr th {\n",
       "        vertical-align: top;\n",
       "    }\n",
       "\n",
       "    .dataframe thead th {\n",
       "        text-align: right;\n",
       "    }\n",
       "</style>\n",
       "<table border=\"1\" class=\"dataframe\">\n",
       "  <thead>\n",
       "    <tr style=\"text-align: right;\">\n",
       "      <th></th>\n",
       "      <th>Country/Region</th>\n",
       "      <th>Cases</th>\n",
       "      <th>Deaths</th>\n",
       "      <th>PCases</th>\n",
       "      <th>PDeaths</th>\n",
       "      <th>Cases (+)</th>\n",
       "      <th>Deaths (+)</th>\n",
       "      <th>Fatality Rate</th>\n",
       "      <th>Continent</th>\n",
       "    </tr>\n",
       "  </thead>\n",
       "  <tbody>\n",
       "    <tr>\n",
       "      <th>0</th>\n",
       "      <td>US</td>\n",
       "      <td>33085106</td>\n",
       "      <td>589223</td>\n",
       "      <td>33056765</td>\n",
       "      <td>588539</td>\n",
       "      <td>28341</td>\n",
       "      <td>684</td>\n",
       "      <td>1.8</td>\n",
       "      <td>North America</td>\n",
       "    </tr>\n",
       "    <tr>\n",
       "      <th>1</th>\n",
       "      <td>India</td>\n",
       "      <td>26289290</td>\n",
       "      <td>295525</td>\n",
       "      <td>26031991</td>\n",
       "      <td>291331</td>\n",
       "      <td>257299</td>\n",
       "      <td>4194</td>\n",
       "      <td>1.1</td>\n",
       "      <td>Asia</td>\n",
       "    </tr>\n",
       "    <tr>\n",
       "      <th>2</th>\n",
       "      <td>Brazil</td>\n",
       "      <td>15970949</td>\n",
       "      <td>446309</td>\n",
       "      <td>15894094</td>\n",
       "      <td>444094</td>\n",
       "      <td>76855</td>\n",
       "      <td>2215</td>\n",
       "      <td>2.8</td>\n",
       "      <td>South America</td>\n",
       "    </tr>\n",
       "    <tr>\n",
       "      <th>3</th>\n",
       "      <td>France</td>\n",
       "      <td>5979369</td>\n",
       "      <td>108343</td>\n",
       "      <td>5979099</td>\n",
       "      <td>108343</td>\n",
       "      <td>270</td>\n",
       "      <td>0</td>\n",
       "      <td>1.8</td>\n",
       "      <td>Europe</td>\n",
       "    </tr>\n",
       "    <tr>\n",
       "      <th>4</th>\n",
       "      <td>Turkey</td>\n",
       "      <td>5169951</td>\n",
       "      <td>45840</td>\n",
       "      <td>5160423</td>\n",
       "      <td>45626</td>\n",
       "      <td>9528</td>\n",
       "      <td>214</td>\n",
       "      <td>0.9</td>\n",
       "      <td>Asia</td>\n",
       "    </tr>\n",
       "  </tbody>\n",
       "</table>\n",
       "</div>"
      ],
      "text/plain": [
       "  Country/Region     Cases  Deaths    PCases  PDeaths  Cases (+)  Deaths (+)  \\\n",
       "0             US  33085106  589223  33056765   588539      28341         684   \n",
       "1          India  26289290  295525  26031991   291331     257299        4194   \n",
       "2         Brazil  15970949  446309  15894094   444094      76855        2215   \n",
       "3         France   5979369  108343   5979099   108343        270           0   \n",
       "4         Turkey   5169951   45840   5160423    45626       9528         214   \n",
       "\n",
       "   Fatality Rate      Continent  \n",
       "0            1.8  North America  \n",
       "1            1.1           Asia  \n",
       "2            2.8  South America  \n",
       "3            1.8         Europe  \n",
       "4            0.9           Asia  "
      ]
     },
     "execution_count": 15,
     "metadata": {},
     "output_type": "execute_result"
    }
   ],
   "source": [
    "#hide\n",
    "df_table = (pd.DataFrame(dict(Cases=dfc_cases, Deaths=dfc_deaths, PCases=dfp_cases, PDeaths=dfp_deaths))\n",
    "             .sort_values(by=['Cases', 'Deaths'], ascending=[False, False])\n",
    "             .reset_index())\n",
    "df_table.rename(columns={'index': 'Country/Region'}, inplace=True)\n",
    "for c in 'Cases, Deaths'.split(', '):\n",
    "    df_table[f'{c} (+)'] = (df_table[c] - df_table[f'P{c}']).clip(0)  # DATA BUG\n",
    "df_table['Fatality Rate'] = (100 * df_table['Deaths'] / df_table['Cases']).round(1)\n",
    "df_table['Continent'] = df_table['Country/Region'].map(mapping['map.continent'])\n",
    "df_table.head(5)"
   ]
  },
  {
   "cell_type": "code",
   "execution_count": 16,
   "id": "fewer-occasion",
   "metadata": {
    "execution": {
     "iopub.execute_input": "2021-05-23T00:27:38.369363Z",
     "iopub.status.busy": "2021-05-23T00:27:38.368771Z",
     "iopub.status.idle": "2021-05-23T00:27:38.372504Z",
     "shell.execute_reply": "2021-05-23T00:27:38.372022Z"
    },
    "papermill": {
     "duration": 0.046763,
     "end_time": "2021-05-23T00:27:38.372630",
     "exception": false,
     "start_time": "2021-05-23T00:27:38.325867",
     "status": "completed"
    },
    "tags": []
   },
   "outputs": [],
   "source": [
    "#hide\n",
    "#delete problematic countries from table\n",
    "df_table = df_table[~df_table['Country/Region'].isin(['Cape Verde', 'Cruise Ship', 'Kosovo'])]"
   ]
  },
  {
   "cell_type": "code",
   "execution_count": 17,
   "id": "related-center",
   "metadata": {
    "execution": {
     "iopub.execute_input": "2021-05-23T00:27:38.464934Z",
     "iopub.status.busy": "2021-05-23T00:27:38.462688Z",
     "iopub.status.idle": "2021-05-23T00:27:38.467579Z",
     "shell.execute_reply": "2021-05-23T00:27:38.467067Z"
    },
    "papermill": {
     "duration": 0.060578,
     "end_time": "2021-05-23T00:27:38.467705",
     "exception": false,
     "start_time": "2021-05-23T00:27:38.407127",
     "status": "completed"
    },
    "tags": []
   },
   "outputs": [],
   "source": [
    "#hide\n",
    "metrics = [df_table.columns[index] for index in [1,2,5,6]]\n",
    "# s_china = df_table[df_table['Country/Region'].eq('China')][metrics].sum().add_prefix('China ')\n",
    "s_us = df_table[df_table['Country/Region'].eq('US')][metrics].sum().add_prefix('US ')\n",
    "s_eu = df_table[df_table['Continent'].eq('Europe')][metrics].sum().add_prefix('EU ')\n",
    "s_ind = df_table[df_table['Country/Region'].eq('India')][metrics].sum().add_prefix('India ')\n",
    "summary = {'updated': pd.to_datetime(dt_today), 'since': pd.to_datetime(dt_yday)}\n",
    "summary = {'updated': pd.to_datetime(dt_today), 'since': pd.to_datetime(dt_yday)}\n",
    "summary = {**summary, **df_table[metrics].sum(), **s_ind, **s_us, **s_eu}"
   ]
  },
  {
   "cell_type": "code",
   "execution_count": 18,
   "id": "engaging-syndrome",
   "metadata": {
    "execution": {
     "iopub.execute_input": "2021-05-23T00:27:38.543091Z",
     "iopub.status.busy": "2021-05-23T00:27:38.542494Z",
     "iopub.status.idle": "2021-05-23T00:27:38.556030Z",
     "shell.execute_reply": "2021-05-23T00:27:38.555541Z"
    },
    "papermill": {
     "duration": 0.053546,
     "end_time": "2021-05-23T00:27:38.556163",
     "exception": false,
     "start_time": "2021-05-23T00:27:38.502617",
     "status": "completed"
    },
    "tags": []
   },
   "outputs": [],
   "source": [
    "#hide\n",
    "dft_ct_new_cases = dft_cases.groupby(COL_REGION)[dt_cols].sum().diff(axis=1).fillna(0).astype(int)"
   ]
  },
  {
   "cell_type": "code",
   "execution_count": 19,
   "id": "neutral-assignment",
   "metadata": {
    "execution": {
     "iopub.execute_input": "2021-05-23T00:27:38.632266Z",
     "iopub.status.busy": "2021-05-23T00:27:38.631688Z",
     "iopub.status.idle": "2021-05-23T00:27:38.633657Z",
     "shell.execute_reply": "2021-05-23T00:27:38.634122Z"
    },
    "papermill": {
     "duration": 0.043169,
     "end_time": "2021-05-23T00:27:38.634269",
     "exception": false,
     "start_time": "2021-05-23T00:27:38.591100",
     "status": "completed"
    },
    "tags": []
   },
   "outputs": [],
   "source": [
    "#hide\n",
    "everydaycases = dft_ct_new_cases.cumsum(axis=1)"
   ]
  },
  {
   "cell_type": "code",
   "execution_count": 20,
   "id": "parliamentary-calgary",
   "metadata": {
    "execution": {
     "iopub.execute_input": "2021-05-23T00:27:38.726341Z",
     "iopub.status.busy": "2021-05-23T00:27:38.712532Z",
     "iopub.status.idle": "2021-05-23T00:27:39.321017Z",
     "shell.execute_reply": "2021-05-23T00:27:39.320124Z"
    },
    "papermill": {
     "duration": 0.652044,
     "end_time": "2021-05-23T00:27:39.321154",
     "exception": false,
     "start_time": "2021-05-23T00:27:38.669110",
     "status": "completed"
    },
    "tags": []
   },
   "outputs": [],
   "source": [
    "#hide\n",
    "import pandas as pd\n",
    "import matplotlib.pyplot as plt\n",
    "import matplotlib.ticker as ticker\n",
    "import matplotlib.animation as animation\n",
    "from IPython.display import HTML"
   ]
  },
  {
   "cell_type": "code",
   "execution_count": 21,
   "id": "lasting-extraction",
   "metadata": {
    "execution": {
     "iopub.execute_input": "2021-05-23T00:27:39.410552Z",
     "iopub.status.busy": "2021-05-23T00:27:39.409948Z",
     "iopub.status.idle": "2021-05-23T00:27:39.415032Z",
     "shell.execute_reply": "2021-05-23T00:27:39.415587Z"
    },
    "papermill": {
     "duration": 0.052922,
     "end_time": "2021-05-23T00:27:39.415731",
     "exception": false,
     "start_time": "2021-05-23T00:27:39.362809",
     "status": "completed"
    },
    "tags": []
   },
   "outputs": [],
   "source": [
    "#hide\n",
    "t = everydaycases.stack()"
   ]
  },
  {
   "cell_type": "code",
   "execution_count": 22,
   "id": "premier-sleeve",
   "metadata": {
    "execution": {
     "iopub.execute_input": "2021-05-23T00:27:39.492390Z",
     "iopub.status.busy": "2021-05-23T00:27:39.491797Z",
     "iopub.status.idle": "2021-05-23T00:27:39.504218Z",
     "shell.execute_reply": "2021-05-23T00:27:39.503734Z"
    },
    "papermill": {
     "duration": 0.053543,
     "end_time": "2021-05-23T00:27:39.504347",
     "exception": false,
     "start_time": "2021-05-23T00:27:39.450804",
     "status": "completed"
    },
    "tags": []
   },
   "outputs": [],
   "source": [
    "#hide\n",
    "g = t.reset_index(['Country/Region'])"
   ]
  },
  {
   "cell_type": "code",
   "execution_count": 23,
   "id": "distributed-pittsburgh",
   "metadata": {
    "execution": {
     "iopub.execute_input": "2021-05-23T00:27:39.578063Z",
     "iopub.status.busy": "2021-05-23T00:27:39.577400Z",
     "iopub.status.idle": "2021-05-23T00:27:39.579787Z",
     "shell.execute_reply": "2021-05-23T00:27:39.579314Z"
    },
    "papermill": {
     "duration": 0.040835,
     "end_time": "2021-05-23T00:27:39.579911",
     "exception": false,
     "start_time": "2021-05-23T00:27:39.539076",
     "status": "completed"
    },
    "tags": []
   },
   "outputs": [],
   "source": [
    "#hide\n",
    "g.index.name = 'date'"
   ]
  },
  {
   "cell_type": "code",
   "execution_count": 24,
   "id": "naked-donor",
   "metadata": {
    "execution": {
     "iopub.execute_input": "2021-05-23T00:27:39.653797Z",
     "iopub.status.busy": "2021-05-23T00:27:39.653162Z",
     "iopub.status.idle": "2021-05-23T00:27:39.655454Z",
     "shell.execute_reply": "2021-05-23T00:27:39.654979Z"
    },
    "papermill": {
     "duration": 0.040861,
     "end_time": "2021-05-23T00:27:39.655578",
     "exception": false,
     "start_time": "2021-05-23T00:27:39.614717",
     "status": "completed"
    },
    "tags": []
   },
   "outputs": [],
   "source": [
    "# #hide\n",
    "# g = g.reset_index(['date'])"
   ]
  },
  {
   "cell_type": "code",
   "execution_count": 25,
   "id": "incomplete-mustang",
   "metadata": {
    "execution": {
     "iopub.execute_input": "2021-05-23T00:27:39.728954Z",
     "iopub.status.busy": "2021-05-23T00:27:39.728372Z",
     "iopub.status.idle": "2021-05-23T00:27:39.730355Z",
     "shell.execute_reply": "2021-05-23T00:27:39.730849Z"
    },
    "papermill": {
     "duration": 0.040628,
     "end_time": "2021-05-23T00:27:39.730992",
     "exception": false,
     "start_time": "2021-05-23T00:27:39.690364",
     "status": "completed"
    },
    "tags": []
   },
   "outputs": [],
   "source": [
    "#hide\n",
    "# g.head()"
   ]
  },
  {
   "cell_type": "code",
   "execution_count": 26,
   "id": "specific-kruger",
   "metadata": {
    "execution": {
     "iopub.execute_input": "2021-05-23T00:27:39.804510Z",
     "iopub.status.busy": "2021-05-23T00:27:39.803926Z",
     "iopub.status.idle": "2021-05-23T00:27:39.806501Z",
     "shell.execute_reply": "2021-05-23T00:27:39.806018Z"
    },
    "papermill": {
     "duration": 0.040757,
     "end_time": "2021-05-23T00:27:39.806628",
     "exception": false,
     "start_time": "2021-05-23T00:27:39.765871",
     "status": "completed"
    },
    "tags": []
   },
   "outputs": [],
   "source": [
    "#hide\n",
    "# g.columns = ['date','country','cases']"
   ]
  },
  {
   "cell_type": "code",
   "execution_count": 27,
   "id": "tender-conversion",
   "metadata": {
    "execution": {
     "iopub.execute_input": "2021-05-23T00:27:39.880199Z",
     "iopub.status.busy": "2021-05-23T00:27:39.879599Z",
     "iopub.status.idle": "2021-05-23T00:27:39.881808Z",
     "shell.execute_reply": "2021-05-23T00:27:39.881285Z"
    },
    "papermill": {
     "duration": 0.040615,
     "end_time": "2021-05-23T00:27:39.881930",
     "exception": false,
     "start_time": "2021-05-23T00:27:39.841315",
     "status": "completed"
    },
    "tags": []
   },
   "outputs": [],
   "source": [
    "#hide\n",
    "# g['continent'] = g.country"
   ]
  },
  {
   "cell_type": "code",
   "execution_count": 28,
   "id": "substantial-wilderness",
   "metadata": {
    "execution": {
     "iopub.execute_input": "2021-05-23T00:27:39.955724Z",
     "iopub.status.busy": "2021-05-23T00:27:39.955101Z",
     "iopub.status.idle": "2021-05-23T00:27:39.956660Z",
     "shell.execute_reply": "2021-05-23T00:27:39.957165Z"
    },
    "papermill": {
     "duration": 0.040333,
     "end_time": "2021-05-23T00:27:39.957306",
     "exception": false,
     "start_time": "2021-05-23T00:27:39.916973",
     "status": "completed"
    },
    "tags": []
   },
   "outputs": [],
   "source": [
    "#hide\n",
    "# cols = list(g.columns.values)"
   ]
  },
  {
   "cell_type": "code",
   "execution_count": 29,
   "id": "solved-farming",
   "metadata": {
    "execution": {
     "iopub.execute_input": "2021-05-23T00:27:40.040180Z",
     "iopub.status.busy": "2021-05-23T00:27:40.039572Z",
     "iopub.status.idle": "2021-05-23T00:27:40.041849Z",
     "shell.execute_reply": "2021-05-23T00:27:40.041354Z"
    },
    "papermill": {
     "duration": 0.044483,
     "end_time": "2021-05-23T00:27:40.041977",
     "exception": false,
     "start_time": "2021-05-23T00:27:39.997494",
     "status": "completed"
    },
    "tags": []
   },
   "outputs": [],
   "source": [
    "#hide\n",
    "# cols.insert(0, cols.pop())"
   ]
  },
  {
   "cell_type": "code",
   "execution_count": 30,
   "id": "executed-adoption",
   "metadata": {
    "execution": {
     "iopub.execute_input": "2021-05-23T00:27:40.119726Z",
     "iopub.status.busy": "2021-05-23T00:27:40.119141Z",
     "iopub.status.idle": "2021-05-23T00:27:40.120914Z",
     "shell.execute_reply": "2021-05-23T00:27:40.121468Z"
    },
    "papermill": {
     "duration": 0.040849,
     "end_time": "2021-05-23T00:27:40.121608",
     "exception": false,
     "start_time": "2021-05-23T00:27:40.080759",
     "status": "completed"
    },
    "tags": []
   },
   "outputs": [],
   "source": [
    "#hide\n",
    "# g = g[cols]"
   ]
  },
  {
   "cell_type": "code",
   "execution_count": 31,
   "id": "subject-dublin",
   "metadata": {
    "execution": {
     "iopub.execute_input": "2021-05-23T00:27:40.195024Z",
     "iopub.status.busy": "2021-05-23T00:27:40.194433Z",
     "iopub.status.idle": "2021-05-23T00:27:40.196911Z",
     "shell.execute_reply": "2021-05-23T00:27:40.196442Z"
    },
    "papermill": {
     "duration": 0.040789,
     "end_time": "2021-05-23T00:27:40.197035",
     "exception": false,
     "start_time": "2021-05-23T00:27:40.156246",
     "status": "completed"
    },
    "tags": []
   },
   "outputs": [],
   "source": [
    "#hide\n",
    "# g['continent'] = g['continent'].map(mapping['map.continent'])"
   ]
  },
  {
   "cell_type": "code",
   "execution_count": 32,
   "id": "freelance-scout",
   "metadata": {
    "execution": {
     "iopub.execute_input": "2021-05-23T00:27:40.275329Z",
     "iopub.status.busy": "2021-05-23T00:27:40.274739Z",
     "iopub.status.idle": "2021-05-23T00:27:40.277840Z",
     "shell.execute_reply": "2021-05-23T00:27:40.278347Z"
    },
    "papermill": {
     "duration": 0.046618,
     "end_time": "2021-05-23T00:27:40.278492",
     "exception": false,
     "start_time": "2021-05-23T00:27:40.231874",
     "status": "completed"
    },
    "tags": []
   },
   "outputs": [],
   "source": [
    "#hide\n",
    "# g.head()"
   ]
  },
  {
   "cell_type": "code",
   "execution_count": 33,
   "id": "limited-engine",
   "metadata": {
    "execution": {
     "iopub.execute_input": "2021-05-23T00:27:40.351719Z",
     "iopub.status.busy": "2021-05-23T00:27:40.351119Z",
     "iopub.status.idle": "2021-05-23T00:27:40.352975Z",
     "shell.execute_reply": "2021-05-23T00:27:40.353433Z"
    },
    "papermill": {
     "duration": 0.040492,
     "end_time": "2021-05-23T00:27:40.353578",
     "exception": false,
     "start_time": "2021-05-23T00:27:40.313086",
     "status": "completed"
    },
    "tags": []
   },
   "outputs": [],
   "source": [
    "# hide\n",
    "# g['date'] = g['date'].astype('datetime64[ns]')"
   ]
  },
  {
   "cell_type": "code",
   "execution_count": 34,
   "id": "sophisticated-supervisor",
   "metadata": {
    "execution": {
     "iopub.execute_input": "2021-05-23T00:27:40.427888Z",
     "iopub.status.busy": "2021-05-23T00:27:40.427306Z",
     "iopub.status.idle": "2021-05-23T00:27:40.429699Z",
     "shell.execute_reply": "2021-05-23T00:27:40.429201Z"
    },
    "papermill": {
     "duration": 0.041125,
     "end_time": "2021-05-23T00:27:40.429842",
     "exception": false,
     "start_time": "2021-05-23T00:27:40.388717",
     "status": "completed"
    },
    "tags": []
   },
   "outputs": [],
   "source": [
    "#hide\n",
    "# g['date'] = g.date.dt.dayofyear"
   ]
  },
  {
   "cell_type": "code",
   "execution_count": 35,
   "id": "inside-dubai",
   "metadata": {
    "execution": {
     "iopub.execute_input": "2021-05-23T00:27:40.504108Z",
     "iopub.status.busy": "2021-05-23T00:27:40.503525Z",
     "iopub.status.idle": "2021-05-23T00:27:40.505725Z",
     "shell.execute_reply": "2021-05-23T00:27:40.505227Z"
    },
    "papermill": {
     "duration": 0.041247,
     "end_time": "2021-05-23T00:27:40.505870",
     "exception": false,
     "start_time": "2021-05-23T00:27:40.464623",
     "status": "completed"
    },
    "tags": []
   },
   "outputs": [],
   "source": [
    "#hide\n",
    "# g = g.rename(columns= {'continent':'group','country':'name','cases':'value'})"
   ]
  },
  {
   "cell_type": "code",
   "execution_count": 36,
   "id": "fleet-motorcycle",
   "metadata": {
    "execution": {
     "iopub.execute_input": "2021-05-23T00:27:40.579347Z",
     "iopub.status.busy": "2021-05-23T00:27:40.578732Z",
     "iopub.status.idle": "2021-05-23T00:27:40.581013Z",
     "shell.execute_reply": "2021-05-23T00:27:40.580438Z"
    },
    "papermill": {
     "duration": 0.04054,
     "end_time": "2021-05-23T00:27:40.581127",
     "exception": false,
     "start_time": "2021-05-23T00:27:40.540587",
     "status": "completed"
    },
    "tags": []
   },
   "outputs": [],
   "source": [
    "#hide\n",
    "# cols = ['name','group','day','value']"
   ]
  },
  {
   "cell_type": "code",
   "execution_count": 37,
   "id": "continued-sleeping",
   "metadata": {
    "execution": {
     "iopub.execute_input": "2021-05-23T00:27:40.663760Z",
     "iopub.status.busy": "2021-05-23T00:27:40.663176Z",
     "iopub.status.idle": "2021-05-23T00:27:40.664907Z",
     "shell.execute_reply": "2021-05-23T00:27:40.665399Z"
    },
    "papermill": {
     "duration": 0.043664,
     "end_time": "2021-05-23T00:27:40.665548",
     "exception": false,
     "start_time": "2021-05-23T00:27:40.621884",
     "status": "completed"
    },
    "tags": []
   },
   "outputs": [],
   "source": [
    "#hide\n",
    "# g.rename(columns= {'date':'day'},inplace = True)"
   ]
  },
  {
   "cell_type": "code",
   "execution_count": 38,
   "id": "major-fight",
   "metadata": {
    "execution": {
     "iopub.execute_input": "2021-05-23T00:27:40.738791Z",
     "iopub.status.busy": "2021-05-23T00:27:40.738203Z",
     "iopub.status.idle": "2021-05-23T00:27:40.740471Z",
     "shell.execute_reply": "2021-05-23T00:27:40.741020Z"
    },
    "papermill": {
     "duration": 0.041303,
     "end_time": "2021-05-23T00:27:40.741153",
     "exception": false,
     "start_time": "2021-05-23T00:27:40.699850",
     "status": "completed"
    },
    "tags": []
   },
   "outputs": [],
   "source": [
    "#hide\n",
    "# g = g[cols]"
   ]
  },
  {
   "cell_type": "code",
   "execution_count": 39,
   "id": "structured-mobile",
   "metadata": {
    "execution": {
     "iopub.execute_input": "2021-05-23T00:27:40.815601Z",
     "iopub.status.busy": "2021-05-23T00:27:40.815025Z",
     "iopub.status.idle": "2021-05-23T00:27:40.816752Z",
     "shell.execute_reply": "2021-05-23T00:27:40.817248Z"
    },
    "papermill": {
     "duration": 0.041625,
     "end_time": "2021-05-23T00:27:40.817382",
     "exception": false,
     "start_time": "2021-05-23T00:27:40.775757",
     "status": "completed"
    },
    "tags": []
   },
   "outputs": [],
   "source": [
    "# #hide\n",
    "# g = g[g.group.notna()]"
   ]
  },
  {
   "cell_type": "code",
   "execution_count": 40,
   "id": "determined-closing",
   "metadata": {
    "execution": {
     "iopub.execute_input": "2021-05-23T00:27:40.890218Z",
     "iopub.status.busy": "2021-05-23T00:27:40.889595Z",
     "iopub.status.idle": "2021-05-23T00:27:40.892027Z",
     "shell.execute_reply": "2021-05-23T00:27:40.892571Z"
    },
    "papermill": {
     "duration": 0.040766,
     "end_time": "2021-05-23T00:27:40.892707",
     "exception": false,
     "start_time": "2021-05-23T00:27:40.851941",
     "status": "completed"
    },
    "tags": []
   },
   "outputs": [],
   "source": [
    "# #hide\n",
    "# colors = dict(zip(\n",
    "#     [\"Oceania\", \"Europe\", \"Asia\", \"South America\", \"Middle East\", \"North America\", \"Africa\"],\n",
    "#     [\"#adb0ff\", \"#ffb3ff\", \"#90d595\", \"#e48381\", \"#aafbff\", \"#f7bb5f\", \"#eafb50\"]\n",
    "# ))\n",
    "# group_lk = g.set_index('name')['group'].to_dict()"
   ]
  },
  {
   "cell_type": "code",
   "execution_count": null,
   "id": "gross-drinking",
   "metadata": {
    "papermill": {
     "duration": 0.034438,
     "end_time": "2021-05-23T00:27:40.961573",
     "exception": false,
     "start_time": "2021-05-23T00:27:40.927135",
     "status": "completed"
    },
    "tags": []
   },
   "outputs": [],
   "source": []
  },
  {
   "cell_type": "code",
   "execution_count": 41,
   "id": "subject-macintosh",
   "metadata": {
    "execution": {
     "iopub.execute_input": "2021-05-23T00:27:41.036496Z",
     "iopub.status.busy": "2021-05-23T00:27:41.035878Z",
     "iopub.status.idle": "2021-05-23T00:27:41.038088Z",
     "shell.execute_reply": "2021-05-23T00:27:41.038558Z"
    },
    "papermill": {
     "duration": 0.042339,
     "end_time": "2021-05-23T00:27:41.038699",
     "exception": false,
     "start_time": "2021-05-23T00:27:40.996360",
     "status": "completed"
    },
    "tags": []
   },
   "outputs": [],
   "source": [
    "# #hide\n",
    "# fig, ax = plt.subplots(figsize=(15, 8))\n",
    "\n",
    "# def draw_barchart(current_day):\n",
    "#     dff = g[g['day'].eq(current_day)].sort_values(by='value', ascending=True).tail(10)\n",
    "#     ax.clear()\n",
    "#     ax.barh(dff['name'], dff['value'], color=[colors[group_lk[x]] for x in dff['name']])\n",
    "#     dx = dff['value'].max() / 200\n",
    "    \n",
    "#     for i, (value, name) in enumerate(zip(dff['value'], dff['name'])):\n",
    "#         ax.text(value-dx, i,     name,           size=14, weight=600, ha='right', va='bottom')\n",
    "#         ax.text(value-dx, i-.25, group_lk[name], size=10, color='#444444', ha='right', va='baseline')\n",
    "#         ax.text(value+dx, i,     f'{value:,.0f}',  size=14, ha='left',  va='center')\n",
    "#     ax.text(1, 0.4, current_day, transform=ax.transAxes, color='#777777', size=46, ha='right', weight=800)\n",
    "#     ax.text(0, 1.06, 'Population (thousands)', transform=ax.transAxes, size=12, color='#777777')\n",
    "#     ax.xaxis.set_major_formatter(ticker.StrMethodFormatter('{x:,.0f}'))\n",
    "#     ax.xaxis.set_ticks_position('top')\n",
    "#     ax.tick_params(axis='x', colors='#777777', labelsize=12)\n",
    "#     ax.set_yticks([])\n",
    "#     ax.margins(0, 0.01)\n",
    "#     ax.grid(which='major', axis='x', linestyle='-')\n",
    "#     ax.set_axisbelow(True)\n",
    "    \n",
    "#     ax.text(0, 1.15, 'Coronavirus',\n",
    "#             transform=ax.transAxes, size=24, weight=600, ha='left', va='top')\n",
    "# #     ax.text(1, 0, 'by @pratapvardhan; credit @jburnmurdoch', transform=ax.transAxes, color='#777777', ha='right',\n",
    "# #             bbox=dict(facecolor='white', alpha=0.8, edgecolor='white'))\n",
    "#     plt.box(False)"
   ]
  },
  {
   "cell_type": "code",
   "execution_count": 42,
   "id": "sexual-wages",
   "metadata": {
    "execution": {
     "iopub.execute_input": "2021-05-23T00:27:41.113384Z",
     "iopub.status.busy": "2021-05-23T00:27:41.112792Z",
     "iopub.status.idle": "2021-05-23T00:27:41.115277Z",
     "shell.execute_reply": "2021-05-23T00:27:41.115748Z"
    },
    "papermill": {
     "duration": 0.042481,
     "end_time": "2021-05-23T00:27:41.115889",
     "exception": false,
     "start_time": "2021-05-23T00:27:41.073408",
     "status": "completed"
    },
    "tags": []
   },
   "outputs": [],
   "source": [
    "# #hide_input\n",
    "# fig, ax = plt.subplots(figsize=(15, 8))\n",
    "# animator = animation.FuncAnimation(fig, draw_barchart, frames=range(g.day.values.min(), g.day.values.max()))\n",
    "# HTML(animator.to_jshtml())\n",
    "# # or use animator.to_html5_video() or animator.save() "
   ]
  },
  {
   "cell_type": "code",
   "execution_count": null,
   "id": "australian-container",
   "metadata": {
    "papermill": {
     "duration": 0.034758,
     "end_time": "2021-05-23T00:27:41.185556",
     "exception": false,
     "start_time": "2021-05-23T00:27:41.150798",
     "status": "completed"
    },
    "tags": []
   },
   "outputs": [],
   "source": []
  },
  {
   "cell_type": "code",
   "execution_count": null,
   "id": "mediterranean-pontiac",
   "metadata": {
    "papermill": {
     "duration": 0.034728,
     "end_time": "2021-05-23T00:27:41.255008",
     "exception": false,
     "start_time": "2021-05-23T00:27:41.220280",
     "status": "completed"
    },
    "tags": []
   },
   "outputs": [],
   "source": []
  },
  {
   "cell_type": "code",
   "execution_count": null,
   "id": "aging-legislature",
   "metadata": {
    "papermill": {
     "duration": 0.034606,
     "end_time": "2021-05-23T00:27:41.324567",
     "exception": false,
     "start_time": "2021-05-23T00:27:41.289961",
     "status": "completed"
    },
    "tags": []
   },
   "outputs": [],
   "source": []
  }
 ],
 "metadata": {
  "kernelspec": {
   "display_name": "Python 3",
   "language": "python",
   "name": "python3"
  },
  "language_info": {
   "codemirror_mode": {
    "name": "ipython",
    "version": 3
   },
   "file_extension": ".py",
   "mimetype": "text/x-python",
   "name": "python",
   "nbconvert_exporter": "python",
   "pygments_lexer": "ipython3",
   "version": "3.6.13"
  },
  "papermill": {
   "duration": 6.560753,
   "end_time": "2021-05-23T00:27:41.667457",
   "environment_variables": {},
   "exception": null,
   "input_path": "2020-03-21-covid19exp.ipynb",
   "output_path": "2020-03-21-covid19exp.ipynb",
   "parameters": {},
   "start_time": "2021-05-23T00:27:35.106704",
   "version": "2.0.0"
  }
 },
 "nbformat": 4,
 "nbformat_minor": 5
}