{
 "cells": [
  {
   "cell_type": "markdown",
   "metadata": {
    "papermill": {
     "duration": 0.029228,
     "end_time": "2021-01-15T00:39:47.014466",
     "exception": false,
     "start_time": "2021-01-15T00:39:46.985238",
     "status": "completed"
    },
    "tags": []
   },
   "source": [
    "# COVID-19 Case Race\n",
    "> A race chart to see rising cases around the world\n",
    "\n",
    "- author: Hargun Oberoi\n",
    "- image: images/covid-overview.png\n",
    "- hide: false\n",
    "- badges: false"
   ]
  },
  {
   "cell_type": "code",
   "execution_count": 1,
   "metadata": {
    "execution": {
     "iopub.execute_input": "2021-01-15T00:39:47.079648Z",
     "iopub.status.busy": "2021-01-15T00:39:47.076887Z",
     "iopub.status.idle": "2021-01-15T00:39:47.370378Z",
     "shell.execute_reply": "2021-01-15T00:39:47.371054Z"
    },
    "papermill": {
     "duration": 0.330116,
     "end_time": "2021-01-15T00:39:47.371333",
     "exception": false,
     "start_time": "2021-01-15T00:39:47.041217",
     "status": "completed"
    },
    "tags": []
   },
   "outputs": [],
   "source": [
    "#hide\n",
    "import numpy as np\n",
    "import pandas as pd\n",
    "from jinja2 import Template\n",
    "from IPython.display import HTML"
   ]
  },
  {
   "cell_type": "code",
   "execution_count": 2,
   "metadata": {
    "execution": {
     "iopub.execute_input": "2021-01-15T00:39:47.431002Z",
     "iopub.status.busy": "2021-01-15T00:39:47.430457Z",
     "iopub.status.idle": "2021-01-15T00:39:47.433795Z",
     "shell.execute_reply": "2021-01-15T00:39:47.433048Z"
    },
    "papermill": {
     "duration": 0.034834,
     "end_time": "2021-01-15T00:39:47.433906",
     "exception": false,
     "start_time": "2021-01-15T00:39:47.399072",
     "status": "completed"
    },
    "tags": []
   },
   "outputs": [],
   "source": [
    "#hide\n",
    "\n",
    "# FETCH\n",
    "base_url = 'https://raw.githubusercontent.com/pratapvardhan/notebooks/master/covid19/'\n",
    "paths = {\n",
    "    'mapping': base_url + 'mapping_countries.csv',\n",
    "    'overview': base_url + 'overview.tpl'\n",
    "}"
   ]
  },
  {
   "cell_type": "code",
   "execution_count": 3,
   "metadata": {
    "execution": {
     "iopub.execute_input": "2021-01-15T00:39:47.494046Z",
     "iopub.status.busy": "2021-01-15T00:39:47.493511Z",
     "iopub.status.idle": "2021-01-15T00:39:47.499027Z",
     "shell.execute_reply": "2021-01-15T00:39:47.499466Z"
    },
    "papermill": {
     "duration": 0.03965,
     "end_time": "2021-01-15T00:39:47.499607",
     "exception": false,
     "start_time": "2021-01-15T00:39:47.459957",
     "status": "completed"
    },
    "tags": []
   },
   "outputs": [
    {
     "data": {
      "text/plain": [
       "'https://raw.githubusercontent.com/pratapvardhan/notebooks/master/covid19/mapping_countries.csv'"
      ]
     },
     "execution_count": 3,
     "metadata": {},
     "output_type": "execute_result"
    }
   ],
   "source": [
    "#hide\n",
    "paths['mapping']"
   ]
  },
  {
   "cell_type": "code",
   "execution_count": 4,
   "metadata": {
    "execution": {
     "iopub.execute_input": "2021-01-15T00:39:47.556779Z",
     "iopub.status.busy": "2021-01-15T00:39:47.553882Z",
     "iopub.status.idle": "2021-01-15T00:39:47.558713Z",
     "shell.execute_reply": "2021-01-15T00:39:47.559136Z"
    },
    "papermill": {
     "duration": 0.033958,
     "end_time": "2021-01-15T00:39:47.559334",
     "exception": false,
     "start_time": "2021-01-15T00:39:47.525376",
     "status": "completed"
    },
    "tags": []
   },
   "outputs": [],
   "source": [
    "#hide\n",
    "def get_mappings(url):\n",
    "    df = pd.read_csv(url)\n",
    "    return {\n",
    "        'df': df,\n",
    "        'replace.country': dict(df.dropna(subset=['Name']).set_index('Country')['Name']),\n",
    "        'map.continent': dict(df.set_index('Name')['Continent'])\n",
    "    }"
   ]
  },
  {
   "cell_type": "code",
   "execution_count": 5,
   "metadata": {
    "execution": {
     "iopub.execute_input": "2021-01-15T00:39:47.615949Z",
     "iopub.status.busy": "2021-01-15T00:39:47.615439Z",
     "iopub.status.idle": "2021-01-15T00:39:47.655900Z",
     "shell.execute_reply": "2021-01-15T00:39:47.656573Z"
    },
    "papermill": {
     "duration": 0.071342,
     "end_time": "2021-01-15T00:39:47.656706",
     "exception": false,
     "start_time": "2021-01-15T00:39:47.585364",
     "status": "completed"
    },
    "tags": []
   },
   "outputs": [],
   "source": [
    "#hide\n",
    "mapping = get_mappings(paths['mapping'])"
   ]
  },
  {
   "cell_type": "code",
   "execution_count": 6,
   "metadata": {
    "execution": {
     "iopub.execute_input": "2021-01-15T00:39:47.715471Z",
     "iopub.status.busy": "2021-01-15T00:39:47.714805Z",
     "iopub.status.idle": "2021-01-15T00:39:47.716555Z",
     "shell.execute_reply": "2021-01-15T00:39:47.717019Z"
    },
    "papermill": {
     "duration": 0.032308,
     "end_time": "2021-01-15T00:39:47.717136",
     "exception": false,
     "start_time": "2021-01-15T00:39:47.684828",
     "status": "completed"
    },
    "tags": []
   },
   "outputs": [],
   "source": [
    "#hide\n",
    "def get_template(path):\n",
    "    from urllib.parse import urlparse\n",
    "    if bool(urlparse(path).netloc):\n",
    "        from urllib.request import urlopen\n",
    "        return urlopen(path).read().decode('utf8')\n",
    "    return open(path).read()"
   ]
  },
  {
   "cell_type": "code",
   "execution_count": 7,
   "metadata": {
    "execution": {
     "iopub.execute_input": "2021-01-15T00:39:47.778239Z",
     "iopub.status.busy": "2021-01-15T00:39:47.777485Z",
     "iopub.status.idle": "2021-01-15T00:39:47.778949Z",
     "shell.execute_reply": "2021-01-15T00:39:47.779465Z"
    },
    "papermill": {
     "duration": 0.034959,
     "end_time": "2021-01-15T00:39:47.779593",
     "exception": false,
     "start_time": "2021-01-15T00:39:47.744634",
     "status": "completed"
    },
    "tags": []
   },
   "outputs": [],
   "source": [
    "#hide\n",
    "def get_frame(name):\n",
    "    url = (\n",
    "        'https://raw.githubusercontent.com/CSSEGISandData/COVID-19/master/csse_covid_19_data/'\n",
    "        f'csse_covid_19_time_series/time_series_covid19_{name}_global.csv')\n",
    "    df = pd.read_csv(url)\n",
    "    # rename countries\n",
    "    df['Country/Region'] = df['Country/Region'].replace(mapping['replace.country'])\n",
    "    return df"
   ]
  },
  {
   "cell_type": "code",
   "execution_count": 8,
   "metadata": {
    "execution": {
     "iopub.execute_input": "2021-01-15T00:39:47.838919Z",
     "iopub.status.busy": "2021-01-15T00:39:47.838274Z",
     "iopub.status.idle": "2021-01-15T00:39:47.840932Z",
     "shell.execute_reply": "2021-01-15T00:39:47.841346Z"
    },
    "papermill": {
     "duration": 0.034229,
     "end_time": "2021-01-15T00:39:47.841472",
     "exception": false,
     "start_time": "2021-01-15T00:39:47.807243",
     "status": "completed"
    },
    "tags": []
   },
   "outputs": [],
   "source": [
    "#hide\n",
    "def get_dates(df):\n",
    "    dt_cols = df.columns[~df.columns.isin(['Province/State', 'Country/Region', 'Lat', 'Long'])]\n",
    "    LAST_DATE_I = -1\n",
    "    # sometimes last column may be empty, then go backwards\n",
    "    for i in range(-1, -len(dt_cols), -1):\n",
    "        if not df[dt_cols[i]].fillna(0).eq(0).all():\n",
    "            LAST_DATE_I = i\n",
    "            break\n",
    "    return LAST_DATE_I, dt_cols"
   ]
  },
  {
   "cell_type": "code",
   "execution_count": 9,
   "metadata": {
    "execution": {
     "iopub.execute_input": "2021-01-15T00:39:47.903169Z",
     "iopub.status.busy": "2021-01-15T00:39:47.902638Z",
     "iopub.status.idle": "2021-01-15T00:39:48.255523Z",
     "shell.execute_reply": "2021-01-15T00:39:48.254859Z"
    },
    "papermill": {
     "duration": 0.384423,
     "end_time": "2021-01-15T00:39:48.255650",
     "exception": false,
     "start_time": "2021-01-15T00:39:47.871227",
     "status": "completed"
    },
    "tags": []
   },
   "outputs": [],
   "source": [
    "#hide\n",
    "COL_REGION = 'Country/Region'\n",
    "# Confirmed, Recovered, Deaths\n",
    "df = get_frame('confirmed')\n",
    "# dft_: timeseries, dfc_: today country agg\n",
    "dft_cases = df\n",
    "dft_deaths = get_frame('deaths')\n",
    "dft_recovered = get_frame('recovered')\n",
    "LAST_DATE_I, dt_cols = get_dates(df)"
   ]
  },
  {
   "cell_type": "code",
   "execution_count": 10,
   "metadata": {
    "execution": {
     "iopub.execute_input": "2021-01-15T00:39:48.315843Z",
     "iopub.status.busy": "2021-01-15T00:39:48.315264Z",
     "iopub.status.idle": "2021-01-15T00:39:48.317315Z",
     "shell.execute_reply": "2021-01-15T00:39:48.317818Z"
    },
    "papermill": {
     "duration": 0.033267,
     "end_time": "2021-01-15T00:39:48.317931",
     "exception": false,
     "start_time": "2021-01-15T00:39:48.284664",
     "status": "completed"
    },
    "tags": []
   },
   "outputs": [],
   "source": [
    "#hide\n",
    "LAST_DATE_I, dt_cols = get_dates(df)\n",
    "dt_today =dt_cols[LAST_DATE_I]\n",
    "# dt_5day = dt_cols[LAST_DATE_I - 5]\n",
    "dt_yday = dt_cols[LAST_DATE_I - 1]"
   ]
  },
  {
   "cell_type": "code",
   "execution_count": 11,
   "metadata": {
    "execution": {
     "iopub.execute_input": "2021-01-15T00:39:48.377246Z",
     "iopub.status.busy": "2021-01-15T00:39:48.376671Z",
     "iopub.status.idle": "2021-01-15T00:39:48.385692Z",
     "shell.execute_reply": "2021-01-15T00:39:48.386209Z"
    },
    "papermill": {
     "duration": 0.043111,
     "end_time": "2021-01-15T00:39:48.386442",
     "exception": false,
     "start_time": "2021-01-15T00:39:48.343331",
     "status": "completed"
    },
    "tags": []
   },
   "outputs": [],
   "source": [
    "#hide\n",
    "dfc_cases = dft_cases.groupby(COL_REGION)[dt_today].sum()\n",
    "dfc_deaths = dft_deaths.groupby(COL_REGION)[dt_today].sum()\n",
    "# dfp_cases = dft_cases.groupby(COL_REGION)[dt_5day].sum()\n",
    "# dfp_deaths = dft_deaths.groupby(COL_REGION)[dt_5day].sum()\n",
    "dfp_cases = dft_cases.groupby(COL_REGION)[dt_yday].sum()\n",
    "dfp_deaths = dft_deaths.groupby(COL_REGION)[dt_yday].sum()"
   ]
  },
  {
   "cell_type": "code",
   "execution_count": 12,
   "metadata": {
    "execution": {
     "iopub.execute_input": "2021-01-15T00:39:48.443897Z",
     "iopub.status.busy": "2021-01-15T00:39:48.443359Z",
     "iopub.status.idle": "2021-01-15T00:39:48.448259Z",
     "shell.execute_reply": "2021-01-15T00:39:48.447824Z"
    },
    "papermill": {
     "duration": 0.036264,
     "end_time": "2021-01-15T00:39:48.448360",
     "exception": false,
     "start_time": "2021-01-15T00:39:48.412096",
     "status": "completed"
    },
    "tags": []
   },
   "outputs": [],
   "source": [
    "#hide\n",
    "df_table = (pd.DataFrame(dict(Cases = dfc_cases, Deaths = dfc_deaths, PCases = dfp_cases, PDeaths = dfp_deaths))\n",
    "            .sort_values(by = ['Cases','Deaths'], ascending = [False, False])\n",
    "            .reset_index())"
   ]
  },
  {
   "cell_type": "code",
   "execution_count": 13,
   "metadata": {
    "execution": {
     "iopub.execute_input": "2021-01-15T00:39:48.526156Z",
     "iopub.status.busy": "2021-01-15T00:39:48.525645Z",
     "iopub.status.idle": "2021-01-15T00:39:48.533748Z",
     "shell.execute_reply": "2021-01-15T00:39:48.533312Z"
    },
    "papermill": {
     "duration": 0.059751,
     "end_time": "2021-01-15T00:39:48.533851",
     "exception": false,
     "start_time": "2021-01-15T00:39:48.474100",
     "status": "completed"
    },
    "tags": []
   },
   "outputs": [
    {
     "data": {
      "text/html": [
       "<div>\n",
       "<style scoped>\n",
       "    .dataframe tbody tr th:only-of-type {\n",
       "        vertical-align: middle;\n",
       "    }\n",
       "\n",
       "    .dataframe tbody tr th {\n",
       "        vertical-align: top;\n",
       "    }\n",
       "\n",
       "    .dataframe thead th {\n",
       "        text-align: right;\n",
       "    }\n",
       "</style>\n",
       "<table border=\"1\" class=\"dataframe\">\n",
       "  <thead>\n",
       "    <tr style=\"text-align: right;\">\n",
       "      <th></th>\n",
       "      <th>Country/Region</th>\n",
       "      <th>Cases</th>\n",
       "      <th>Deaths</th>\n",
       "      <th>PCases</th>\n",
       "      <th>PDeaths</th>\n",
       "      <th>Cases (+)</th>\n",
       "      <th>Deaths (+)</th>\n",
       "      <th>Fatality Rate</th>\n",
       "      <th>Continent</th>\n",
       "    </tr>\n",
       "  </thead>\n",
       "  <tbody>\n",
       "    <tr>\n",
       "      <th>0</th>\n",
       "      <td>US</td>\n",
       "      <td>23077247</td>\n",
       "      <td>384764</td>\n",
       "      <td>22847637</td>\n",
       "      <td>380805</td>\n",
       "      <td>229610</td>\n",
       "      <td>3959</td>\n",
       "      <td>1.67</td>\n",
       "      <td>North America</td>\n",
       "    </tr>\n",
       "    <tr>\n",
       "      <th>1</th>\n",
       "      <td>India</td>\n",
       "      <td>10512093</td>\n",
       "      <td>151727</td>\n",
       "      <td>10495147</td>\n",
       "      <td>151529</td>\n",
       "      <td>16946</td>\n",
       "      <td>198</td>\n",
       "      <td>1.44</td>\n",
       "      <td>Asia</td>\n",
       "    </tr>\n",
       "    <tr>\n",
       "      <th>2</th>\n",
       "      <td>Brazil</td>\n",
       "      <td>8256536</td>\n",
       "      <td>205964</td>\n",
       "      <td>8195637</td>\n",
       "      <td>204690</td>\n",
       "      <td>60899</td>\n",
       "      <td>1274</td>\n",
       "      <td>2.49</td>\n",
       "      <td>South America</td>\n",
       "    </tr>\n",
       "    <tr>\n",
       "      <th>3</th>\n",
       "      <td>Russia</td>\n",
       "      <td>3434934</td>\n",
       "      <td>62463</td>\n",
       "      <td>3412390</td>\n",
       "      <td>61908</td>\n",
       "      <td>22544</td>\n",
       "      <td>555</td>\n",
       "      <td>1.82</td>\n",
       "      <td>Europe</td>\n",
       "    </tr>\n",
       "    <tr>\n",
       "      <th>4</th>\n",
       "      <td>United Kingdom</td>\n",
       "      <td>3220953</td>\n",
       "      <td>84910</td>\n",
       "      <td>3173291</td>\n",
       "      <td>83342</td>\n",
       "      <td>47662</td>\n",
       "      <td>1568</td>\n",
       "      <td>2.64</td>\n",
       "      <td>Europe</td>\n",
       "    </tr>\n",
       "  </tbody>\n",
       "</table>\n",
       "</div>"
      ],
      "text/plain": [
       "   Country/Region     Cases  Deaths    PCases  PDeaths  Cases (+)  Deaths (+)  \\\n",
       "0              US  23077247  384764  22847637   380805     229610        3959   \n",
       "1           India  10512093  151727  10495147   151529      16946         198   \n",
       "2          Brazil   8256536  205964   8195637   204690      60899        1274   \n",
       "3          Russia   3434934   62463   3412390    61908      22544         555   \n",
       "4  United Kingdom   3220953   84910   3173291    83342      47662        1568   \n",
       "\n",
       "   Fatality Rate      Continent  \n",
       "0           1.67  North America  \n",
       "1           1.44           Asia  \n",
       "2           2.49  South America  \n",
       "3           1.82         Europe  \n",
       "4           2.64         Europe  "
      ]
     },
     "execution_count": 13,
     "metadata": {},
     "output_type": "execute_result"
    }
   ],
   "source": [
    "#hide\n",
    "for c in 'Cases, Deaths'.split(', '):\n",
    "    df_table[f'{c} (+)'] = (df_table[c] - df_table[f'P{c}']).clip(0)\n",
    "    #Clip ça veut dire, les chiffres negatif sont interdit\n",
    "df_table['Fatality Rate'] = (100* df_table['Deaths']/ df_table['Cases']).round(2)\n",
    "df_table['Continent'] = df_table['Country/Region'].map(mapping['map.continent'])\n",
    "df_table.head(5)"
   ]
  },
  {
   "cell_type": "code",
   "execution_count": 14,
   "metadata": {
    "execution": {
     "iopub.execute_input": "2021-01-15T00:39:48.595904Z",
     "iopub.status.busy": "2021-01-15T00:39:48.595339Z",
     "iopub.status.idle": "2021-01-15T00:39:48.597342Z",
     "shell.execute_reply": "2021-01-15T00:39:48.597775Z"
    },
    "papermill": {
     "duration": 0.038172,
     "end_time": "2021-01-15T00:39:48.597896",
     "exception": false,
     "start_time": "2021-01-15T00:39:48.559724",
     "status": "completed"
    },
    "tags": []
   },
   "outputs": [],
   "source": [
    "#hide\n",
    "#delete problematic countries from table\n",
    "df_table = df_table[~df_table['Country/Region'].isin(['Cape Verde', 'Cruise Ship', 'Kosovo'])]"
   ]
  },
  {
   "cell_type": "code",
   "execution_count": 15,
   "metadata": {
    "execution": {
     "iopub.execute_input": "2021-01-15T00:39:48.669337Z",
     "iopub.status.busy": "2021-01-15T00:39:48.668806Z",
     "iopub.status.idle": "2021-01-15T00:39:48.687608Z",
     "shell.execute_reply": "2021-01-15T00:39:48.687156Z"
    },
    "papermill": {
     "duration": 0.055592,
     "end_time": "2021-01-15T00:39:48.687718",
     "exception": false,
     "start_time": "2021-01-15T00:39:48.632126",
     "status": "completed"
    },
    "tags": []
   },
   "outputs": [
    {
     "data": {
      "text/html": [
       "<div>\n",
       "<style scoped>\n",
       "    .dataframe tbody tr th:only-of-type {\n",
       "        vertical-align: middle;\n",
       "    }\n",
       "\n",
       "    .dataframe tbody tr th {\n",
       "        vertical-align: top;\n",
       "    }\n",
       "\n",
       "    .dataframe thead th {\n",
       "        text-align: right;\n",
       "    }\n",
       "</style>\n",
       "<table border=\"1\" class=\"dataframe\">\n",
       "  <thead>\n",
       "    <tr style=\"text-align: right;\">\n",
       "      <th></th>\n",
       "      <th>Country/Region</th>\n",
       "      <th>Cases</th>\n",
       "      <th>Deaths</th>\n",
       "      <th>PCases</th>\n",
       "      <th>PDeaths</th>\n",
       "      <th>Cases (+)</th>\n",
       "      <th>Deaths (+)</th>\n",
       "      <th>Fatality Rate</th>\n",
       "      <th>Continent</th>\n",
       "    </tr>\n",
       "  </thead>\n",
       "  <tbody>\n",
       "    <tr>\n",
       "      <th>0</th>\n",
       "      <td>US</td>\n",
       "      <td>23077247</td>\n",
       "      <td>384764</td>\n",
       "      <td>22847637</td>\n",
       "      <td>380805</td>\n",
       "      <td>229610</td>\n",
       "      <td>3959</td>\n",
       "      <td>1.7</td>\n",
       "      <td>North America</td>\n",
       "    </tr>\n",
       "    <tr>\n",
       "      <th>1</th>\n",
       "      <td>India</td>\n",
       "      <td>10512093</td>\n",
       "      <td>151727</td>\n",
       "      <td>10495147</td>\n",
       "      <td>151529</td>\n",
       "      <td>16946</td>\n",
       "      <td>198</td>\n",
       "      <td>1.4</td>\n",
       "      <td>Asia</td>\n",
       "    </tr>\n",
       "    <tr>\n",
       "      <th>2</th>\n",
       "      <td>Brazil</td>\n",
       "      <td>8256536</td>\n",
       "      <td>205964</td>\n",
       "      <td>8195637</td>\n",
       "      <td>204690</td>\n",
       "      <td>60899</td>\n",
       "      <td>1274</td>\n",
       "      <td>2.5</td>\n",
       "      <td>South America</td>\n",
       "    </tr>\n",
       "    <tr>\n",
       "      <th>3</th>\n",
       "      <td>Russia</td>\n",
       "      <td>3434934</td>\n",
       "      <td>62463</td>\n",
       "      <td>3412390</td>\n",
       "      <td>61908</td>\n",
       "      <td>22544</td>\n",
       "      <td>555</td>\n",
       "      <td>1.8</td>\n",
       "      <td>Europe</td>\n",
       "    </tr>\n",
       "    <tr>\n",
       "      <th>4</th>\n",
       "      <td>United Kingdom</td>\n",
       "      <td>3220953</td>\n",
       "      <td>84910</td>\n",
       "      <td>3173291</td>\n",
       "      <td>83342</td>\n",
       "      <td>47662</td>\n",
       "      <td>1568</td>\n",
       "      <td>2.6</td>\n",
       "      <td>Europe</td>\n",
       "    </tr>\n",
       "  </tbody>\n",
       "</table>\n",
       "</div>"
      ],
      "text/plain": [
       "   Country/Region     Cases  Deaths    PCases  PDeaths  Cases (+)  Deaths (+)  \\\n",
       "0              US  23077247  384764  22847637   380805     229610        3959   \n",
       "1           India  10512093  151727  10495147   151529      16946         198   \n",
       "2          Brazil   8256536  205964   8195637   204690      60899        1274   \n",
       "3          Russia   3434934   62463   3412390    61908      22544         555   \n",
       "4  United Kingdom   3220953   84910   3173291    83342      47662        1568   \n",
       "\n",
       "   Fatality Rate      Continent  \n",
       "0            1.7  North America  \n",
       "1            1.4           Asia  \n",
       "2            2.5  South America  \n",
       "3            1.8         Europe  \n",
       "4            2.6         Europe  "
      ]
     },
     "execution_count": 15,
     "metadata": {},
     "output_type": "execute_result"
    }
   ],
   "source": [
    "#hide\n",
    "df_table = (pd.DataFrame(dict(Cases=dfc_cases, Deaths=dfc_deaths, PCases=dfp_cases, PDeaths=dfp_deaths))\n",
    "             .sort_values(by=['Cases', 'Deaths'], ascending=[False, False])\n",
    "             .reset_index())\n",
    "df_table.rename(columns={'index': 'Country/Region'}, inplace=True)\n",
    "for c in 'Cases, Deaths'.split(', '):\n",
    "    df_table[f'{c} (+)'] = (df_table[c] - df_table[f'P{c}']).clip(0)  # DATA BUG\n",
    "df_table['Fatality Rate'] = (100 * df_table['Deaths'] / df_table['Cases']).round(1)\n",
    "df_table['Continent'] = df_table['Country/Region'].map(mapping['map.continent'])\n",
    "df_table.head(5)"
   ]
  },
  {
   "cell_type": "code",
   "execution_count": 16,
   "metadata": {
    "execution": {
     "iopub.execute_input": "2021-01-15T00:39:48.749462Z",
     "iopub.status.busy": "2021-01-15T00:39:48.748833Z",
     "iopub.status.idle": "2021-01-15T00:39:48.752840Z",
     "shell.execute_reply": "2021-01-15T00:39:48.752362Z"
    },
    "papermill": {
     "duration": 0.038236,
     "end_time": "2021-01-15T00:39:48.752949",
     "exception": false,
     "start_time": "2021-01-15T00:39:48.714713",
     "status": "completed"
    },
    "tags": []
   },
   "outputs": [],
   "source": [
    "#hide\n",
    "#delete problematic countries from table\n",
    "df_table = df_table[~df_table['Country/Region'].isin(['Cape Verde', 'Cruise Ship', 'Kosovo'])]"
   ]
  },
  {
   "cell_type": "code",
   "execution_count": 17,
   "metadata": {
    "execution": {
     "iopub.execute_input": "2021-01-15T00:39:48.820056Z",
     "iopub.status.busy": "2021-01-15T00:39:48.819470Z",
     "iopub.status.idle": "2021-01-15T00:39:48.832622Z",
     "shell.execute_reply": "2021-01-15T00:39:48.833082Z"
    },
    "papermill": {
     "duration": 0.051301,
     "end_time": "2021-01-15T00:39:48.833209",
     "exception": false,
     "start_time": "2021-01-15T00:39:48.781908",
     "status": "completed"
    },
    "tags": []
   },
   "outputs": [],
   "source": [
    "#hide\n",
    "metrics = [df_table.columns[index] for index in [1,2,5,6]]\n",
    "# s_china = df_table[df_table['Country/Region'].eq('China')][metrics].sum().add_prefix('China ')\n",
    "s_us = df_table[df_table['Country/Region'].eq('US')][metrics].sum().add_prefix('US ')\n",
    "s_eu = df_table[df_table['Continent'].eq('Europe')][metrics].sum().add_prefix('EU ')\n",
    "s_ind = df_table[df_table['Country/Region'].eq('India')][metrics].sum().add_prefix('India ')\n",
    "summary = {'updated': pd.to_datetime(dt_today), 'since': pd.to_datetime(dt_yday)}\n",
    "summary = {'updated': pd.to_datetime(dt_today), 'since': pd.to_datetime(dt_yday)}\n",
    "summary = {**summary, **df_table[metrics].sum(), **s_ind, **s_us, **s_eu}"
   ]
  },
  {
   "cell_type": "code",
   "execution_count": 18,
   "metadata": {
    "execution": {
     "iopub.execute_input": "2021-01-15T00:39:48.893232Z",
     "iopub.status.busy": "2021-01-15T00:39:48.892693Z",
     "iopub.status.idle": "2021-01-15T00:39:48.900997Z",
     "shell.execute_reply": "2021-01-15T00:39:48.900425Z"
    },
    "papermill": {
     "duration": 0.040425,
     "end_time": "2021-01-15T00:39:48.901106",
     "exception": false,
     "start_time": "2021-01-15T00:39:48.860681",
     "status": "completed"
    },
    "tags": []
   },
   "outputs": [],
   "source": [
    "#hide\n",
    "dft_ct_new_cases = dft_cases.groupby(COL_REGION)[dt_cols].sum().diff(axis=1).fillna(0).astype(int)"
   ]
  },
  {
   "cell_type": "code",
   "execution_count": 19,
   "metadata": {
    "execution": {
     "iopub.execute_input": "2021-01-15T00:39:48.960778Z",
     "iopub.status.busy": "2021-01-15T00:39:48.960254Z",
     "iopub.status.idle": "2021-01-15T00:39:48.962251Z",
     "shell.execute_reply": "2021-01-15T00:39:48.962732Z"
    },
    "papermill": {
     "duration": 0.034072,
     "end_time": "2021-01-15T00:39:48.962853",
     "exception": false,
     "start_time": "2021-01-15T00:39:48.928781",
     "status": "completed"
    },
    "tags": []
   },
   "outputs": [],
   "source": [
    "#hide\n",
    "everydaycases = dft_ct_new_cases.cumsum(axis=1)"
   ]
  },
  {
   "cell_type": "code",
   "execution_count": 20,
   "metadata": {
    "execution": {
     "iopub.execute_input": "2021-01-15T00:39:49.019940Z",
     "iopub.status.busy": "2021-01-15T00:39:49.019401Z",
     "iopub.status.idle": "2021-01-15T00:39:50.699993Z",
     "shell.execute_reply": "2021-01-15T00:39:50.699517Z"
    },
    "papermill": {
     "duration": 1.71027,
     "end_time": "2021-01-15T00:39:50.700141",
     "exception": false,
     "start_time": "2021-01-15T00:39:48.989871",
     "status": "completed"
    },
    "tags": []
   },
   "outputs": [],
   "source": [
    "#hide\n",
    "import pandas as pd\n",
    "import matplotlib.pyplot as plt\n",
    "import matplotlib.ticker as ticker\n",
    "import matplotlib.animation as animation\n",
    "from IPython.display import HTML"
   ]
  },
  {
   "cell_type": "code",
   "execution_count": 21,
   "metadata": {
    "execution": {
     "iopub.execute_input": "2021-01-15T00:39:50.762226Z",
     "iopub.status.busy": "2021-01-15T00:39:50.761527Z",
     "iopub.status.idle": "2021-01-15T00:39:50.766185Z",
     "shell.execute_reply": "2021-01-15T00:39:50.765729Z"
    },
    "papermill": {
     "duration": 0.036788,
     "end_time": "2021-01-15T00:39:50.766289",
     "exception": false,
     "start_time": "2021-01-15T00:39:50.729501",
     "status": "completed"
    },
    "tags": []
   },
   "outputs": [],
   "source": [
    "#hide\n",
    "t = everydaycases.stack()"
   ]
  },
  {
   "cell_type": "code",
   "execution_count": 22,
   "metadata": {
    "execution": {
     "iopub.execute_input": "2021-01-15T00:39:50.822671Z",
     "iopub.status.busy": "2021-01-15T00:39:50.822115Z",
     "iopub.status.idle": "2021-01-15T00:39:50.828105Z",
     "shell.execute_reply": "2021-01-15T00:39:50.827651Z"
    },
    "papermill": {
     "duration": 0.035366,
     "end_time": "2021-01-15T00:39:50.828209",
     "exception": false,
     "start_time": "2021-01-15T00:39:50.792843",
     "status": "completed"
    },
    "tags": []
   },
   "outputs": [],
   "source": [
    "#hide\n",
    "g = t.reset_index(['Country/Region'])"
   ]
  },
  {
   "cell_type": "code",
   "execution_count": 23,
   "metadata": {
    "execution": {
     "iopub.execute_input": "2021-01-15T00:39:50.885597Z",
     "iopub.status.busy": "2021-01-15T00:39:50.885009Z",
     "iopub.status.idle": "2021-01-15T00:39:50.887852Z",
     "shell.execute_reply": "2021-01-15T00:39:50.887401Z"
    },
    "papermill": {
     "duration": 0.033812,
     "end_time": "2021-01-15T00:39:50.888012",
     "exception": false,
     "start_time": "2021-01-15T00:39:50.854200",
     "status": "completed"
    },
    "tags": []
   },
   "outputs": [],
   "source": [
    "#hide\n",
    "g.index.name = 'date'"
   ]
  },
  {
   "cell_type": "code",
   "execution_count": 24,
   "metadata": {
    "execution": {
     "iopub.execute_input": "2021-01-15T00:39:50.946726Z",
     "iopub.status.busy": "2021-01-15T00:39:50.946125Z",
     "iopub.status.idle": "2021-01-15T00:39:50.948208Z",
     "shell.execute_reply": "2021-01-15T00:39:50.947756Z"
    },
    "papermill": {
     "duration": 0.033412,
     "end_time": "2021-01-15T00:39:50.948313",
     "exception": false,
     "start_time": "2021-01-15T00:39:50.914901",
     "status": "completed"
    },
    "tags": []
   },
   "outputs": [],
   "source": [
    "# #hide\n",
    "# g = g.reset_index(['date'])"
   ]
  },
  {
   "cell_type": "code",
   "execution_count": 25,
   "metadata": {
    "execution": {
     "iopub.execute_input": "2021-01-15T00:39:51.005584Z",
     "iopub.status.busy": "2021-01-15T00:39:51.005054Z",
     "iopub.status.idle": "2021-01-15T00:39:51.007319Z",
     "shell.execute_reply": "2021-01-15T00:39:51.006888Z"
    },
    "papermill": {
     "duration": 0.032184,
     "end_time": "2021-01-15T00:39:51.007429",
     "exception": false,
     "start_time": "2021-01-15T00:39:50.975245",
     "status": "completed"
    },
    "tags": []
   },
   "outputs": [],
   "source": [
    "#hide\n",
    "# g.head()"
   ]
  },
  {
   "cell_type": "code",
   "execution_count": 26,
   "metadata": {
    "execution": {
     "iopub.execute_input": "2021-01-15T00:39:51.068044Z",
     "iopub.status.busy": "2021-01-15T00:39:51.067518Z",
     "iopub.status.idle": "2021-01-15T00:39:51.069683Z",
     "shell.execute_reply": "2021-01-15T00:39:51.069233Z"
    },
    "papermill": {
     "duration": 0.033372,
     "end_time": "2021-01-15T00:39:51.069789",
     "exception": false,
     "start_time": "2021-01-15T00:39:51.036417",
     "status": "completed"
    },
    "tags": []
   },
   "outputs": [],
   "source": [
    "#hide\n",
    "# g.columns = ['date','country','cases']"
   ]
  },
  {
   "cell_type": "code",
   "execution_count": 27,
   "metadata": {
    "execution": {
     "iopub.execute_input": "2021-01-15T00:39:51.128197Z",
     "iopub.status.busy": "2021-01-15T00:39:51.127565Z",
     "iopub.status.idle": "2021-01-15T00:39:51.129542Z",
     "shell.execute_reply": "2021-01-15T00:39:51.129978Z"
    },
    "papermill": {
     "duration": 0.031678,
     "end_time": "2021-01-15T00:39:51.130097",
     "exception": false,
     "start_time": "2021-01-15T00:39:51.098419",
     "status": "completed"
    },
    "tags": []
   },
   "outputs": [],
   "source": [
    "#hide\n",
    "# g['continent'] = g.country"
   ]
  },
  {
   "cell_type": "code",
   "execution_count": 28,
   "metadata": {
    "execution": {
     "iopub.execute_input": "2021-01-15T00:39:51.188731Z",
     "iopub.status.busy": "2021-01-15T00:39:51.188070Z",
     "iopub.status.idle": "2021-01-15T00:39:51.190006Z",
     "shell.execute_reply": "2021-01-15T00:39:51.190473Z"
    },
    "papermill": {
     "duration": 0.033236,
     "end_time": "2021-01-15T00:39:51.190625",
     "exception": false,
     "start_time": "2021-01-15T00:39:51.157389",
     "status": "completed"
    },
    "tags": []
   },
   "outputs": [],
   "source": [
    "#hide\n",
    "# cols = list(g.columns.values)"
   ]
  },
  {
   "cell_type": "code",
   "execution_count": 29,
   "metadata": {
    "execution": {
     "iopub.execute_input": "2021-01-15T00:39:51.249768Z",
     "iopub.status.busy": "2021-01-15T00:39:51.249190Z",
     "iopub.status.idle": "2021-01-15T00:39:51.251756Z",
     "shell.execute_reply": "2021-01-15T00:39:51.251276Z"
    },
    "papermill": {
     "duration": 0.034344,
     "end_time": "2021-01-15T00:39:51.251870",
     "exception": false,
     "start_time": "2021-01-15T00:39:51.217526",
     "status": "completed"
    },
    "tags": []
   },
   "outputs": [],
   "source": [
    "#hide\n",
    "# cols.insert(0, cols.pop())"
   ]
  },
  {
   "cell_type": "code",
   "execution_count": 30,
   "metadata": {
    "execution": {
     "iopub.execute_input": "2021-01-15T00:39:51.311637Z",
     "iopub.status.busy": "2021-01-15T00:39:51.311045Z",
     "iopub.status.idle": "2021-01-15T00:39:51.313516Z",
     "shell.execute_reply": "2021-01-15T00:39:51.313036Z"
    },
    "papermill": {
     "duration": 0.033061,
     "end_time": "2021-01-15T00:39:51.313625",
     "exception": false,
     "start_time": "2021-01-15T00:39:51.280564",
     "status": "completed"
    },
    "tags": []
   },
   "outputs": [],
   "source": [
    "#hide\n",
    "# g = g[cols]"
   ]
  },
  {
   "cell_type": "code",
   "execution_count": 31,
   "metadata": {
    "execution": {
     "iopub.execute_input": "2021-01-15T00:39:51.375838Z",
     "iopub.status.busy": "2021-01-15T00:39:51.375236Z",
     "iopub.status.idle": "2021-01-15T00:39:51.377749Z",
     "shell.execute_reply": "2021-01-15T00:39:51.377132Z"
    },
    "papermill": {
     "duration": 0.036677,
     "end_time": "2021-01-15T00:39:51.377863",
     "exception": false,
     "start_time": "2021-01-15T00:39:51.341186",
     "status": "completed"
    },
    "tags": []
   },
   "outputs": [],
   "source": [
    "#hide\n",
    "# g['continent'] = g['continent'].map(mapping['map.continent'])"
   ]
  },
  {
   "cell_type": "code",
   "execution_count": 32,
   "metadata": {
    "execution": {
     "iopub.execute_input": "2021-01-15T00:39:51.437828Z",
     "iopub.status.busy": "2021-01-15T00:39:51.437247Z",
     "iopub.status.idle": "2021-01-15T00:39:51.439642Z",
     "shell.execute_reply": "2021-01-15T00:39:51.439175Z"
    },
    "papermill": {
     "duration": 0.033954,
     "end_time": "2021-01-15T00:39:51.439746",
     "exception": false,
     "start_time": "2021-01-15T00:39:51.405792",
     "status": "completed"
    },
    "tags": []
   },
   "outputs": [],
   "source": [
    "#hide\n",
    "# g.head()"
   ]
  },
  {
   "cell_type": "code",
   "execution_count": 33,
   "metadata": {
    "execution": {
     "iopub.execute_input": "2021-01-15T00:39:51.497194Z",
     "iopub.status.busy": "2021-01-15T00:39:51.496610Z",
     "iopub.status.idle": "2021-01-15T00:39:51.498467Z",
     "shell.execute_reply": "2021-01-15T00:39:51.498950Z"
    },
    "papermill": {
     "duration": 0.032635,
     "end_time": "2021-01-15T00:39:51.499071",
     "exception": false,
     "start_time": "2021-01-15T00:39:51.466436",
     "status": "completed"
    },
    "tags": []
   },
   "outputs": [],
   "source": [
    "# hide\n",
    "# g['date'] = g['date'].astype('datetime64[ns]')"
   ]
  },
  {
   "cell_type": "code",
   "execution_count": 34,
   "metadata": {
    "execution": {
     "iopub.execute_input": "2021-01-15T00:39:51.555329Z",
     "iopub.status.busy": "2021-01-15T00:39:51.554556Z",
     "iopub.status.idle": "2021-01-15T00:39:51.556696Z",
     "shell.execute_reply": "2021-01-15T00:39:51.557287Z"
    },
    "papermill": {
     "duration": 0.031729,
     "end_time": "2021-01-15T00:39:51.557434",
     "exception": false,
     "start_time": "2021-01-15T00:39:51.525705",
     "status": "completed"
    },
    "tags": []
   },
   "outputs": [],
   "source": [
    "#hide\n",
    "# g['date'] = g.date.dt.dayofyear"
   ]
  },
  {
   "cell_type": "code",
   "execution_count": 35,
   "metadata": {
    "execution": {
     "iopub.execute_input": "2021-01-15T00:39:51.619198Z",
     "iopub.status.busy": "2021-01-15T00:39:51.618638Z",
     "iopub.status.idle": "2021-01-15T00:39:51.620446Z",
     "shell.execute_reply": "2021-01-15T00:39:51.621135Z"
    },
    "papermill": {
     "duration": 0.03491,
     "end_time": "2021-01-15T00:39:51.621277",
     "exception": false,
     "start_time": "2021-01-15T00:39:51.586367",
     "status": "completed"
    },
    "tags": []
   },
   "outputs": [],
   "source": [
    "#hide\n",
    "# g = g.rename(columns= {'continent':'group','country':'name','cases':'value'})"
   ]
  },
  {
   "cell_type": "code",
   "execution_count": 36,
   "metadata": {
    "execution": {
     "iopub.execute_input": "2021-01-15T00:39:51.679659Z",
     "iopub.status.busy": "2021-01-15T00:39:51.679076Z",
     "iopub.status.idle": "2021-01-15T00:39:51.681033Z",
     "shell.execute_reply": "2021-01-15T00:39:51.681475Z"
    },
    "papermill": {
     "duration": 0.033218,
     "end_time": "2021-01-15T00:39:51.681603",
     "exception": false,
     "start_time": "2021-01-15T00:39:51.648385",
     "status": "completed"
    },
    "tags": []
   },
   "outputs": [],
   "source": [
    "#hide\n",
    "# cols = ['name','group','day','value']"
   ]
  },
  {
   "cell_type": "code",
   "execution_count": 37,
   "metadata": {
    "execution": {
     "iopub.execute_input": "2021-01-15T00:39:51.741954Z",
     "iopub.status.busy": "2021-01-15T00:39:51.741373Z",
     "iopub.status.idle": "2021-01-15T00:39:51.744030Z",
     "shell.execute_reply": "2021-01-15T00:39:51.743481Z"
    },
    "papermill": {
     "duration": 0.032706,
     "end_time": "2021-01-15T00:39:51.744138",
     "exception": false,
     "start_time": "2021-01-15T00:39:51.711432",
     "status": "completed"
    },
    "tags": []
   },
   "outputs": [],
   "source": [
    "#hide\n",
    "# g.rename(columns= {'date':'day'},inplace = True)"
   ]
  },
  {
   "cell_type": "code",
   "execution_count": 38,
   "metadata": {
    "execution": {
     "iopub.execute_input": "2021-01-15T00:39:51.801688Z",
     "iopub.status.busy": "2021-01-15T00:39:51.801125Z",
     "iopub.status.idle": "2021-01-15T00:39:51.802992Z",
     "shell.execute_reply": "2021-01-15T00:39:51.803428Z"
    },
    "papermill": {
     "duration": 0.032053,
     "end_time": "2021-01-15T00:39:51.803548",
     "exception": false,
     "start_time": "2021-01-15T00:39:51.771495",
     "status": "completed"
    },
    "tags": []
   },
   "outputs": [],
   "source": [
    "#hide\n",
    "# g = g[cols]"
   ]
  },
  {
   "cell_type": "code",
   "execution_count": 39,
   "metadata": {
    "execution": {
     "iopub.execute_input": "2021-01-15T00:39:51.859774Z",
     "iopub.status.busy": "2021-01-15T00:39:51.859236Z",
     "iopub.status.idle": "2021-01-15T00:39:51.861501Z",
     "shell.execute_reply": "2021-01-15T00:39:51.861049Z"
    },
    "papermill": {
     "duration": 0.031716,
     "end_time": "2021-01-15T00:39:51.861608",
     "exception": false,
     "start_time": "2021-01-15T00:39:51.829892",
     "status": "completed"
    },
    "tags": []
   },
   "outputs": [],
   "source": [
    "# #hide\n",
    "# g = g[g.group.notna()]"
   ]
  },
  {
   "cell_type": "code",
   "execution_count": 40,
   "metadata": {
    "execution": {
     "iopub.execute_input": "2021-01-15T00:39:51.919437Z",
     "iopub.status.busy": "2021-01-15T00:39:51.918875Z",
     "iopub.status.idle": "2021-01-15T00:39:51.921145Z",
     "shell.execute_reply": "2021-01-15T00:39:51.920697Z"
    },
    "papermill": {
     "duration": 0.032826,
     "end_time": "2021-01-15T00:39:51.921249",
     "exception": false,
     "start_time": "2021-01-15T00:39:51.888423",
     "status": "completed"
    },
    "tags": []
   },
   "outputs": [],
   "source": [
    "# #hide\n",
    "# colors = dict(zip(\n",
    "#     [\"Oceania\", \"Europe\", \"Asia\", \"South America\", \"Middle East\", \"North America\", \"Africa\"],\n",
    "#     [\"#adb0ff\", \"#ffb3ff\", \"#90d595\", \"#e48381\", \"#aafbff\", \"#f7bb5f\", \"#eafb50\"]\n",
    "# ))\n",
    "# group_lk = g.set_index('name')['group'].to_dict()"
   ]
  },
  {
   "cell_type": "code",
   "execution_count": null,
   "metadata": {
    "papermill": {
     "duration": 0.026418,
     "end_time": "2021-01-15T00:39:51.973815",
     "exception": false,
     "start_time": "2021-01-15T00:39:51.947397",
     "status": "completed"
    },
    "tags": []
   },
   "outputs": [],
   "source": []
  },
  {
   "cell_type": "code",
   "execution_count": 41,
   "metadata": {
    "execution": {
     "iopub.execute_input": "2021-01-15T00:39:52.032204Z",
     "iopub.status.busy": "2021-01-15T00:39:52.031587Z",
     "iopub.status.idle": "2021-01-15T00:39:52.033424Z",
     "shell.execute_reply": "2021-01-15T00:39:52.033860Z"
    },
    "papermill": {
     "duration": 0.033577,
     "end_time": "2021-01-15T00:39:52.033985",
     "exception": false,
     "start_time": "2021-01-15T00:39:52.000408",
     "status": "completed"
    },
    "tags": []
   },
   "outputs": [],
   "source": [
    "# #hide\n",
    "# fig, ax = plt.subplots(figsize=(15, 8))\n",
    "\n",
    "# def draw_barchart(current_day):\n",
    "#     dff = g[g['day'].eq(current_day)].sort_values(by='value', ascending=True).tail(10)\n",
    "#     ax.clear()\n",
    "#     ax.barh(dff['name'], dff['value'], color=[colors[group_lk[x]] for x in dff['name']])\n",
    "#     dx = dff['value'].max() / 200\n",
    "    \n",
    "#     for i, (value, name) in enumerate(zip(dff['value'], dff['name'])):\n",
    "#         ax.text(value-dx, i,     name,           size=14, weight=600, ha='right', va='bottom')\n",
    "#         ax.text(value-dx, i-.25, group_lk[name], size=10, color='#444444', ha='right', va='baseline')\n",
    "#         ax.text(value+dx, i,     f'{value:,.0f}',  size=14, ha='left',  va='center')\n",
    "#     ax.text(1, 0.4, current_day, transform=ax.transAxes, color='#777777', size=46, ha='right', weight=800)\n",
    "#     ax.text(0, 1.06, 'Population (thousands)', transform=ax.transAxes, size=12, color='#777777')\n",
    "#     ax.xaxis.set_major_formatter(ticker.StrMethodFormatter('{x:,.0f}'))\n",
    "#     ax.xaxis.set_ticks_position('top')\n",
    "#     ax.tick_params(axis='x', colors='#777777', labelsize=12)\n",
    "#     ax.set_yticks([])\n",
    "#     ax.margins(0, 0.01)\n",
    "#     ax.grid(which='major', axis='x', linestyle='-')\n",
    "#     ax.set_axisbelow(True)\n",
    "    \n",
    "#     ax.text(0, 1.15, 'Coronavirus',\n",
    "#             transform=ax.transAxes, size=24, weight=600, ha='left', va='top')\n",
    "# #     ax.text(1, 0, 'by @pratapvardhan; credit @jburnmurdoch', transform=ax.transAxes, color='#777777', ha='right',\n",
    "# #             bbox=dict(facecolor='white', alpha=0.8, edgecolor='white'))\n",
    "#     plt.box(False)"
   ]
  },
  {
   "cell_type": "code",
   "execution_count": 42,
   "metadata": {
    "execution": {
     "iopub.execute_input": "2021-01-15T00:39:52.094053Z",
     "iopub.status.busy": "2021-01-15T00:39:52.093487Z",
     "iopub.status.idle": "2021-01-15T00:39:52.095512Z",
     "shell.execute_reply": "2021-01-15T00:39:52.096002Z"
    },
    "papermill": {
     "duration": 0.03289,
     "end_time": "2021-01-15T00:39:52.096122",
     "exception": false,
     "start_time": "2021-01-15T00:39:52.063232",
     "status": "completed"
    },
    "tags": []
   },
   "outputs": [],
   "source": [
    "# #hide_input\n",
    "# fig, ax = plt.subplots(figsize=(15, 8))\n",
    "# animator = animation.FuncAnimation(fig, draw_barchart, frames=range(g.day.values.min(), g.day.values.max()))\n",
    "# HTML(animator.to_jshtml())\n",
    "# # or use animator.to_html5_video() or animator.save() "
   ]
  },
  {
   "cell_type": "code",
   "execution_count": null,
   "metadata": {
    "papermill": {
     "duration": 0.029136,
     "end_time": "2021-01-15T00:39:52.151953",
     "exception": false,
     "start_time": "2021-01-15T00:39:52.122817",
     "status": "completed"
    },
    "tags": []
   },
   "outputs": [],
   "source": []
  },
  {
   "cell_type": "code",
   "execution_count": null,
   "metadata": {
    "papermill": {
     "duration": 0.027576,
     "end_time": "2021-01-15T00:39:52.205997",
     "exception": false,
     "start_time": "2021-01-15T00:39:52.178421",
     "status": "completed"
    },
    "tags": []
   },
   "outputs": [],
   "source": []
  },
  {
   "cell_type": "code",
   "execution_count": null,
   "metadata": {
    "papermill": {
     "duration": 0.02617,
     "end_time": "2021-01-15T00:39:52.260060",
     "exception": false,
     "start_time": "2021-01-15T00:39:52.233890",
     "status": "completed"
    },
    "tags": []
   },
   "outputs": [],
   "source": []
  }
 ],
 "metadata": {
  "kernelspec": {
   "display_name": "Python 3",
   "language": "python",
   "name": "python3"
  },
  "language_info": {
   "codemirror_mode": {
    "name": "ipython",
    "version": 3
   },
   "file_extension": ".py",
   "mimetype": "text/x-python",
   "name": "python",
   "nbconvert_exporter": "python",
   "pygments_lexer": "ipython3",
   "version": "3.6.12"
  },
  "papermill": {
   "duration": 6.867759,
   "end_time": "2021-01-15T00:39:52.595840",
   "environment_variables": {},
   "exception": null,
   "input_path": "2020-03-21-covid19exp.ipynb",
   "output_path": "2020-03-21-covid19exp.ipynb",
   "parameters": {},
   "start_time": "2021-01-15T00:39:45.728081",
   "version": "2.0.0"
  }
 },
 "nbformat": 4,
 "nbformat_minor": 4
}