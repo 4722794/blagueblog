{
 "cells": [
  {
   "cell_type": "markdown",
   "id": "muslim-click",
   "metadata": {
    "papermill": {
     "duration": 0.033754,
     "end_time": "2022-03-16T00:33:16.449282",
     "exception": false,
     "start_time": "2022-03-16T00:33:16.415528",
     "status": "completed"
    },
    "tags": []
   },
   "source": [
    "# COVID-19 Case Race\n",
    "> A race chart to see rising cases around the world\n",
    "\n",
    "- author: Hargun Oberoi\n",
    "- image: images/covid-overview.png\n",
    "- hide: false\n",
    "- badges: false"
   ]
  },
  {
   "cell_type": "code",
   "execution_count": 1,
   "id": "proof-material",
   "metadata": {
    "execution": {
     "iopub.execute_input": "2022-03-16T00:33:16.524645Z",
     "iopub.status.busy": "2022-03-16T00:33:16.524049Z",
     "iopub.status.idle": "2022-03-16T00:33:16.851015Z",
     "shell.execute_reply": "2022-03-16T00:33:16.850468Z"
    },
    "papermill": {
     "duration": 0.370584,
     "end_time": "2022-03-16T00:33:16.851164",
     "exception": false,
     "start_time": "2022-03-16T00:33:16.480580",
     "status": "completed"
    },
    "tags": []
   },
   "outputs": [],
   "source": [
    "#hide\n",
    "import numpy as np\n",
    "import pandas as pd\n",
    "from jinja2 import Template\n",
    "from IPython.display import HTML"
   ]
  },
  {
   "cell_type": "code",
   "execution_count": 2,
   "id": "developed-terminology",
   "metadata": {
    "execution": {
     "iopub.execute_input": "2022-03-16T00:33:16.921329Z",
     "iopub.status.busy": "2022-03-16T00:33:16.920790Z",
     "iopub.status.idle": "2022-03-16T00:33:16.922941Z",
     "shell.execute_reply": "2022-03-16T00:33:16.922502Z"
    },
    "papermill": {
     "duration": 0.041157,
     "end_time": "2022-03-16T00:33:16.923050",
     "exception": false,
     "start_time": "2022-03-16T00:33:16.881893",
     "status": "completed"
    },
    "tags": []
   },
   "outputs": [],
   "source": [
    "#hide\n",
    "\n",
    "# FETCH\n",
    "base_url = 'https://raw.githubusercontent.com/pratapvardhan/notebooks/master/covid19/'\n",
    "paths = {\n",
    "    'mapping': base_url + 'mapping_countries.csv',\n",
    "    'overview': base_url + 'overview.tpl'\n",
    "}"
   ]
  },
  {
   "cell_type": "code",
   "execution_count": 3,
   "id": "dynamic-saver",
   "metadata": {
    "execution": {
     "iopub.execute_input": "2022-03-16T00:33:16.992280Z",
     "iopub.status.busy": "2022-03-16T00:33:16.991657Z",
     "iopub.status.idle": "2022-03-16T00:33:16.994708Z",
     "shell.execute_reply": "2022-03-16T00:33:16.995431Z"
    },
    "papermill": {
     "duration": 0.043256,
     "end_time": "2022-03-16T00:33:16.995569",
     "exception": false,
     "start_time": "2022-03-16T00:33:16.952313",
     "status": "completed"
    },
    "tags": []
   },
   "outputs": [
    {
     "data": {
      "text/plain": [
       "'https://raw.githubusercontent.com/pratapvardhan/notebooks/master/covid19/mapping_countries.csv'"
      ]
     },
     "execution_count": 3,
     "metadata": {},
     "output_type": "execute_result"
    }
   ],
   "source": [
    "#hide\n",
    "paths['mapping']"
   ]
  },
  {
   "cell_type": "code",
   "execution_count": 4,
   "id": "urban-software",
   "metadata": {
    "execution": {
     "iopub.execute_input": "2022-03-16T00:33:17.061240Z",
     "iopub.status.busy": "2022-03-16T00:33:17.060604Z",
     "iopub.status.idle": "2022-03-16T00:33:17.061966Z",
     "shell.execute_reply": "2022-03-16T00:33:17.062519Z"
    },
    "papermill": {
     "duration": 0.037016,
     "end_time": "2022-03-16T00:33:17.062663",
     "exception": false,
     "start_time": "2022-03-16T00:33:17.025647",
     "status": "completed"
    },
    "tags": []
   },
   "outputs": [],
   "source": [
    "#hide\n",
    "def get_mappings(url):\n",
    "    df = pd.read_csv(url)\n",
    "    return {\n",
    "        'df': df,\n",
    "        'replace.country': dict(df.dropna(subset=['Name']).set_index('Country')['Name']),\n",
    "        'map.continent': dict(df.set_index('Name')['Continent'])\n",
    "    }"
   ]
  },
  {
   "cell_type": "code",
   "execution_count": 5,
   "id": "intimate-machinery",
   "metadata": {
    "execution": {
     "iopub.execute_input": "2022-03-16T00:33:17.127536Z",
     "iopub.status.busy": "2022-03-16T00:33:17.127006Z",
     "iopub.status.idle": "2022-03-16T00:33:17.154791Z",
     "shell.execute_reply": "2022-03-16T00:33:17.154279Z"
    },
    "papermill": {
     "duration": 0.062348,
     "end_time": "2022-03-16T00:33:17.154921",
     "exception": false,
     "start_time": "2022-03-16T00:33:17.092573",
     "status": "completed"
    },
    "tags": []
   },
   "outputs": [],
   "source": [
    "#hide\n",
    "mapping = get_mappings(paths['mapping'])"
   ]
  },
  {
   "cell_type": "code",
   "execution_count": 6,
   "id": "certified-tactics",
   "metadata": {
    "execution": {
     "iopub.execute_input": "2022-03-16T00:33:17.220642Z",
     "iopub.status.busy": "2022-03-16T00:33:17.220054Z",
     "iopub.status.idle": "2022-03-16T00:33:17.222106Z",
     "shell.execute_reply": "2022-03-16T00:33:17.221592Z"
    },
    "papermill": {
     "duration": 0.037037,
     "end_time": "2022-03-16T00:33:17.222216",
     "exception": false,
     "start_time": "2022-03-16T00:33:17.185179",
     "status": "completed"
    },
    "tags": []
   },
   "outputs": [],
   "source": [
    "#hide\n",
    "def get_template(path):\n",
    "    from urllib.parse import urlparse\n",
    "    if bool(urlparse(path).netloc):\n",
    "        from urllib.request import urlopen\n",
    "        return urlopen(path).read().decode('utf8')\n",
    "    return open(path).read()"
   ]
  },
  {
   "cell_type": "code",
   "execution_count": 7,
   "id": "realistic-blast",
   "metadata": {
    "execution": {
     "iopub.execute_input": "2022-03-16T00:33:17.286602Z",
     "iopub.status.busy": "2022-03-16T00:33:17.286068Z",
     "iopub.status.idle": "2022-03-16T00:33:17.288172Z",
     "shell.execute_reply": "2022-03-16T00:33:17.288674Z"
    },
    "papermill": {
     "duration": 0.036806,
     "end_time": "2022-03-16T00:33:17.288805",
     "exception": false,
     "start_time": "2022-03-16T00:33:17.251999",
     "status": "completed"
    },
    "tags": []
   },
   "outputs": [],
   "source": [
    "#hide\n",
    "def get_frame(name):\n",
    "    url = (\n",
    "        'https://raw.githubusercontent.com/CSSEGISandData/COVID-19/master/csse_covid_19_data/'\n",
    "        f'csse_covid_19_time_series/time_series_covid19_{name}_global.csv')\n",
    "    df = pd.read_csv(url)\n",
    "    # rename countries\n",
    "    df['Country/Region'] = df['Country/Region'].replace(mapping['replace.country'])\n",
    "    return df"
   ]
  },
  {
   "cell_type": "code",
   "execution_count": 8,
   "id": "affiliated-characterization",
   "metadata": {
    "execution": {
     "iopub.execute_input": "2022-03-16T00:33:17.359008Z",
     "iopub.status.busy": "2022-03-16T00:33:17.358484Z",
     "iopub.status.idle": "2022-03-16T00:33:17.360977Z",
     "shell.execute_reply": "2022-03-16T00:33:17.360536Z"
    },
    "papermill": {
     "duration": 0.038097,
     "end_time": "2022-03-16T00:33:17.361085",
     "exception": false,
     "start_time": "2022-03-16T00:33:17.322988",
     "status": "completed"
    },
    "tags": []
   },
   "outputs": [],
   "source": [
    "#hide\n",
    "def get_dates(df):\n",
    "    dt_cols = df.columns[~df.columns.isin(['Province/State', 'Country/Region', 'Lat', 'Long'])]\n",
    "    LAST_DATE_I = -1\n",
    "    # sometimes last column may be empty, then go backwards\n",
    "    for i in range(-1, -len(dt_cols), -1):\n",
    "        if not df[dt_cols[i]].fillna(0).eq(0).all():\n",
    "            LAST_DATE_I = i\n",
    "            break\n",
    "    return LAST_DATE_I, dt_cols"
   ]
  },
  {
   "cell_type": "code",
   "execution_count": 9,
   "id": "recent-optimization",
   "metadata": {
    "execution": {
     "iopub.execute_input": "2022-03-16T00:33:17.425381Z",
     "iopub.status.busy": "2022-03-16T00:33:17.424817Z",
     "iopub.status.idle": "2022-03-16T00:33:17.799329Z",
     "shell.execute_reply": "2022-03-16T00:33:17.799762Z"
    },
    "papermill": {
     "duration": 0.409174,
     "end_time": "2022-03-16T00:33:17.799916",
     "exception": false,
     "start_time": "2022-03-16T00:33:17.390742",
     "status": "completed"
    },
    "tags": []
   },
   "outputs": [],
   "source": [
    "#hide\n",
    "COL_REGION = 'Country/Region'\n",
    "# Confirmed, Recovered, Deaths\n",
    "df = get_frame('confirmed')\n",
    "# dft_: timeseries, dfc_: today country agg\n",
    "dft_cases = df\n",
    "dft_deaths = get_frame('deaths')\n",
    "dft_recovered = get_frame('recovered')\n",
    "LAST_DATE_I, dt_cols = get_dates(df)"
   ]
  },
  {
   "cell_type": "code",
   "execution_count": 10,
   "id": "absolute-copper",
   "metadata": {
    "execution": {
     "iopub.execute_input": "2022-03-16T00:33:17.865622Z",
     "iopub.status.busy": "2022-03-16T00:33:17.865058Z",
     "iopub.status.idle": "2022-03-16T00:33:17.868849Z",
     "shell.execute_reply": "2022-03-16T00:33:17.868415Z"
    },
    "papermill": {
     "duration": 0.038908,
     "end_time": "2022-03-16T00:33:17.868964",
     "exception": false,
     "start_time": "2022-03-16T00:33:17.830056",
     "status": "completed"
    },
    "tags": []
   },
   "outputs": [],
   "source": [
    "#hide\n",
    "LAST_DATE_I, dt_cols = get_dates(df)\n",
    "dt_today =dt_cols[LAST_DATE_I]\n",
    "# dt_5day = dt_cols[LAST_DATE_I - 5]\n",
    "dt_yday = dt_cols[LAST_DATE_I - 1]"
   ]
  },
  {
   "cell_type": "code",
   "execution_count": 11,
   "id": "restricted-sheriff",
   "metadata": {
    "execution": {
     "iopub.execute_input": "2022-03-16T00:33:17.934703Z",
     "iopub.status.busy": "2022-03-16T00:33:17.934089Z",
     "iopub.status.idle": "2022-03-16T00:33:17.941067Z",
     "shell.execute_reply": "2022-03-16T00:33:17.940630Z"
    },
    "papermill": {
     "duration": 0.042403,
     "end_time": "2022-03-16T00:33:17.941185",
     "exception": false,
     "start_time": "2022-03-16T00:33:17.898782",
     "status": "completed"
    },
    "tags": []
   },
   "outputs": [],
   "source": [
    "#hide\n",
    "dfc_cases = dft_cases.groupby(COL_REGION)[dt_today].sum()\n",
    "dfc_deaths = dft_deaths.groupby(COL_REGION)[dt_today].sum()\n",
    "# dfp_cases = dft_cases.groupby(COL_REGION)[dt_5day].sum()\n",
    "# dfp_deaths = dft_deaths.groupby(COL_REGION)[dt_5day].sum()\n",
    "dfp_cases = dft_cases.groupby(COL_REGION)[dt_yday].sum()\n",
    "dfp_deaths = dft_deaths.groupby(COL_REGION)[dt_yday].sum()"
   ]
  },
  {
   "cell_type": "code",
   "execution_count": 12,
   "id": "deluxe-hepatitis",
   "metadata": {
    "execution": {
     "iopub.execute_input": "2022-03-16T00:33:18.011817Z",
     "iopub.status.busy": "2022-03-16T00:33:18.011295Z",
     "iopub.status.idle": "2022-03-16T00:33:18.014904Z",
     "shell.execute_reply": "2022-03-16T00:33:18.015292Z"
    },
    "papermill": {
     "duration": 0.044272,
     "end_time": "2022-03-16T00:33:18.015427",
     "exception": false,
     "start_time": "2022-03-16T00:33:17.971155",
     "status": "completed"
    },
    "tags": []
   },
   "outputs": [],
   "source": [
    "#hide\n",
    "df_table = (pd.DataFrame(dict(Cases = dfc_cases, Deaths = dfc_deaths, PCases = dfp_cases, PDeaths = dfp_deaths))\n",
    "            .sort_values(by = ['Cases','Deaths'], ascending = [False, False])\n",
    "            .reset_index())"
   ]
  },
  {
   "cell_type": "code",
   "execution_count": 13,
   "id": "educational-chancellor",
   "metadata": {
    "execution": {
     "iopub.execute_input": "2022-03-16T00:33:18.095567Z",
     "iopub.status.busy": "2022-03-16T00:33:18.095008Z",
     "iopub.status.idle": "2022-03-16T00:33:18.100932Z",
     "shell.execute_reply": "2022-03-16T00:33:18.101321Z"
    },
    "papermill": {
     "duration": 0.056427,
     "end_time": "2022-03-16T00:33:18.101456",
     "exception": false,
     "start_time": "2022-03-16T00:33:18.045029",
     "status": "completed"
    },
    "tags": []
   },
   "outputs": [
    {
     "data": {
      "text/html": [
       "<div>\n",
       "<style scoped>\n",
       "    .dataframe tbody tr th:only-of-type {\n",
       "        vertical-align: middle;\n",
       "    }\n",
       "\n",
       "    .dataframe tbody tr th {\n",
       "        vertical-align: top;\n",
       "    }\n",
       "\n",
       "    .dataframe thead th {\n",
       "        text-align: right;\n",
       "    }\n",
       "</style>\n",
       "<table border=\"1\" class=\"dataframe\">\n",
       "  <thead>\n",
       "    <tr style=\"text-align: right;\">\n",
       "      <th></th>\n",
       "      <th>Country/Region</th>\n",
       "      <th>Cases</th>\n",
       "      <th>Deaths</th>\n",
       "      <th>PCases</th>\n",
       "      <th>PDeaths</th>\n",
       "      <th>Cases (+)</th>\n",
       "      <th>Deaths (+)</th>\n",
       "      <th>Fatality Rate</th>\n",
       "      <th>Continent</th>\n",
       "    </tr>\n",
       "  </thead>\n",
       "  <tbody>\n",
       "    <tr>\n",
       "      <th>0</th>\n",
       "      <td>US</td>\n",
       "      <td>79562252</td>\n",
       "      <td>965105</td>\n",
       "      <td>79523228</td>\n",
       "      <td>967720</td>\n",
       "      <td>39024</td>\n",
       "      <td>0</td>\n",
       "      <td>1.21</td>\n",
       "      <td>North America</td>\n",
       "    </tr>\n",
       "    <tr>\n",
       "      <th>1</th>\n",
       "      <td>India</td>\n",
       "      <td>42996062</td>\n",
       "      <td>515974</td>\n",
       "      <td>42993494</td>\n",
       "      <td>515877</td>\n",
       "      <td>2568</td>\n",
       "      <td>97</td>\n",
       "      <td>1.20</td>\n",
       "      <td>Asia</td>\n",
       "    </tr>\n",
       "    <tr>\n",
       "      <th>2</th>\n",
       "      <td>Brazil</td>\n",
       "      <td>29391345</td>\n",
       "      <td>655557</td>\n",
       "      <td>29374833</td>\n",
       "      <td>655359</td>\n",
       "      <td>16512</td>\n",
       "      <td>198</td>\n",
       "      <td>2.23</td>\n",
       "      <td>South America</td>\n",
       "    </tr>\n",
       "    <tr>\n",
       "      <th>3</th>\n",
       "      <td>France</td>\n",
       "      <td>23717460</td>\n",
       "      <td>141321</td>\n",
       "      <td>23694834</td>\n",
       "      <td>141132</td>\n",
       "      <td>22626</td>\n",
       "      <td>189</td>\n",
       "      <td>0.60</td>\n",
       "      <td>Europe</td>\n",
       "    </tr>\n",
       "    <tr>\n",
       "      <th>4</th>\n",
       "      <td>United Kingdom</td>\n",
       "      <td>19845016</td>\n",
       "      <td>163454</td>\n",
       "      <td>19673347</td>\n",
       "      <td>163317</td>\n",
       "      <td>171669</td>\n",
       "      <td>137</td>\n",
       "      <td>0.82</td>\n",
       "      <td>Europe</td>\n",
       "    </tr>\n",
       "  </tbody>\n",
       "</table>\n",
       "</div>"
      ],
      "text/plain": [
       "   Country/Region     Cases  Deaths    PCases  PDeaths  Cases (+)  Deaths (+)  \\\n",
       "0              US  79562252  965105  79523228   967720      39024           0   \n",
       "1           India  42996062  515974  42993494   515877       2568          97   \n",
       "2          Brazil  29391345  655557  29374833   655359      16512         198   \n",
       "3          France  23717460  141321  23694834   141132      22626         189   \n",
       "4  United Kingdom  19845016  163454  19673347   163317     171669         137   \n",
       "\n",
       "   Fatality Rate      Continent  \n",
       "0           1.21  North America  \n",
       "1           1.20           Asia  \n",
       "2           2.23  South America  \n",
       "3           0.60         Europe  \n",
       "4           0.82         Europe  "
      ]
     },
     "execution_count": 13,
     "metadata": {},
     "output_type": "execute_result"
    }
   ],
   "source": [
    "#hide\n",
    "for c in 'Cases, Deaths'.split(', '):\n",
    "    df_table[f'{c} (+)'] = (df_table[c] - df_table[f'P{c}']).clip(0)\n",
    "    #Clip ça veut dire, les chiffres negatif sont interdit\n",
    "df_table['Fatality Rate'] = (100* df_table['Deaths']/ df_table['Cases']).round(2)\n",
    "df_table['Continent'] = df_table['Country/Region'].map(mapping['map.continent'])\n",
    "df_table.head(5)"
   ]
  },
  {
   "cell_type": "code",
   "execution_count": 14,
   "id": "aboriginal-bulgaria",
   "metadata": {
    "execution": {
     "iopub.execute_input": "2022-03-16T00:33:18.168147Z",
     "iopub.status.busy": "2022-03-16T00:33:18.167616Z",
     "iopub.status.idle": "2022-03-16T00:33:18.169235Z",
     "shell.execute_reply": "2022-03-16T00:33:18.169712Z"
    },
    "papermill": {
     "duration": 0.037896,
     "end_time": "2022-03-16T00:33:18.169842",
     "exception": false,
     "start_time": "2022-03-16T00:33:18.131946",
     "status": "completed"
    },
    "tags": []
   },
   "outputs": [],
   "source": [
    "#hide\n",
    "#delete problematic countries from table\n",
    "df_table = df_table[~df_table['Country/Region'].isin(['Cape Verde', 'Cruise Ship', 'Kosovo'])]"
   ]
  },
  {
   "cell_type": "code",
   "execution_count": 15,
   "id": "fantastic-effect",
   "metadata": {
    "execution": {
     "iopub.execute_input": "2022-03-16T00:33:18.238621Z",
     "iopub.status.busy": "2022-03-16T00:33:18.238082Z",
     "iopub.status.idle": "2022-03-16T00:33:18.254503Z",
     "shell.execute_reply": "2022-03-16T00:33:18.254889Z"
    },
    "papermill": {
     "duration": 0.054977,
     "end_time": "2022-03-16T00:33:18.255023",
     "exception": false,
     "start_time": "2022-03-16T00:33:18.200046",
     "status": "completed"
    },
    "tags": []
   },
   "outputs": [
    {
     "data": {
      "text/html": [
       "<div>\n",
       "<style scoped>\n",
       "    .dataframe tbody tr th:only-of-type {\n",
       "        vertical-align: middle;\n",
       "    }\n",
       "\n",
       "    .dataframe tbody tr th {\n",
       "        vertical-align: top;\n",
       "    }\n",
       "\n",
       "    .dataframe thead th {\n",
       "        text-align: right;\n",
       "    }\n",
       "</style>\n",
       "<table border=\"1\" class=\"dataframe\">\n",
       "  <thead>\n",
       "    <tr style=\"text-align: right;\">\n",
       "      <th></th>\n",
       "      <th>Country/Region</th>\n",
       "      <th>Cases</th>\n",
       "      <th>Deaths</th>\n",
       "      <th>PCases</th>\n",
       "      <th>PDeaths</th>\n",
       "      <th>Cases (+)</th>\n",
       "      <th>Deaths (+)</th>\n",
       "      <th>Fatality Rate</th>\n",
       "      <th>Continent</th>\n",
       "    </tr>\n",
       "  </thead>\n",
       "  <tbody>\n",
       "    <tr>\n",
       "      <th>0</th>\n",
       "      <td>US</td>\n",
       "      <td>79562252</td>\n",
       "      <td>965105</td>\n",
       "      <td>79523228</td>\n",
       "      <td>967720</td>\n",
       "      <td>39024</td>\n",
       "      <td>0</td>\n",
       "      <td>1.2</td>\n",
       "      <td>North America</td>\n",
       "    </tr>\n",
       "    <tr>\n",
       "      <th>1</th>\n",
       "      <td>India</td>\n",
       "      <td>42996062</td>\n",
       "      <td>515974</td>\n",
       "      <td>42993494</td>\n",
       "      <td>515877</td>\n",
       "      <td>2568</td>\n",
       "      <td>97</td>\n",
       "      <td>1.2</td>\n",
       "      <td>Asia</td>\n",
       "    </tr>\n",
       "    <tr>\n",
       "      <th>2</th>\n",
       "      <td>Brazil</td>\n",
       "      <td>29391345</td>\n",
       "      <td>655557</td>\n",
       "      <td>29374833</td>\n",
       "      <td>655359</td>\n",
       "      <td>16512</td>\n",
       "      <td>198</td>\n",
       "      <td>2.2</td>\n",
       "      <td>South America</td>\n",
       "    </tr>\n",
       "    <tr>\n",
       "      <th>3</th>\n",
       "      <td>France</td>\n",
       "      <td>23717460</td>\n",
       "      <td>141321</td>\n",
       "      <td>23694834</td>\n",
       "      <td>141132</td>\n",
       "      <td>22626</td>\n",
       "      <td>189</td>\n",
       "      <td>0.6</td>\n",
       "      <td>Europe</td>\n",
       "    </tr>\n",
       "    <tr>\n",
       "      <th>4</th>\n",
       "      <td>United Kingdom</td>\n",
       "      <td>19845016</td>\n",
       "      <td>163454</td>\n",
       "      <td>19673347</td>\n",
       "      <td>163317</td>\n",
       "      <td>171669</td>\n",
       "      <td>137</td>\n",
       "      <td>0.8</td>\n",
       "      <td>Europe</td>\n",
       "    </tr>\n",
       "  </tbody>\n",
       "</table>\n",
       "</div>"
      ],
      "text/plain": [
       "   Country/Region     Cases  Deaths    PCases  PDeaths  Cases (+)  Deaths (+)  \\\n",
       "0              US  79562252  965105  79523228   967720      39024           0   \n",
       "1           India  42996062  515974  42993494   515877       2568          97   \n",
       "2          Brazil  29391345  655557  29374833   655359      16512         198   \n",
       "3          France  23717460  141321  23694834   141132      22626         189   \n",
       "4  United Kingdom  19845016  163454  19673347   163317     171669         137   \n",
       "\n",
       "   Fatality Rate      Continent  \n",
       "0            1.2  North America  \n",
       "1            1.2           Asia  \n",
       "2            2.2  South America  \n",
       "3            0.6         Europe  \n",
       "4            0.8         Europe  "
      ]
     },
     "execution_count": 15,
     "metadata": {},
     "output_type": "execute_result"
    }
   ],
   "source": [
    "#hide\n",
    "df_table = (pd.DataFrame(dict(Cases=dfc_cases, Deaths=dfc_deaths, PCases=dfp_cases, PDeaths=dfp_deaths))\n",
    "             .sort_values(by=['Cases', 'Deaths'], ascending=[False, False])\n",
    "             .reset_index())\n",
    "df_table.rename(columns={'index': 'Country/Region'}, inplace=True)\n",
    "for c in 'Cases, Deaths'.split(', '):\n",
    "    df_table[f'{c} (+)'] = (df_table[c] - df_table[f'P{c}']).clip(0)  # DATA BUG\n",
    "df_table['Fatality Rate'] = (100 * df_table['Deaths'] / df_table['Cases']).round(1)\n",
    "df_table['Continent'] = df_table['Country/Region'].map(mapping['map.continent'])\n",
    "df_table.head(5)"
   ]
  },
  {
   "cell_type": "code",
   "execution_count": 16,
   "id": "fewer-occasion",
   "metadata": {
    "execution": {
     "iopub.execute_input": "2022-03-16T00:33:18.322545Z",
     "iopub.status.busy": "2022-03-16T00:33:18.321913Z",
     "iopub.status.idle": "2022-03-16T00:33:18.323416Z",
     "shell.execute_reply": "2022-03-16T00:33:18.323907Z"
    },
    "papermill": {
     "duration": 0.038151,
     "end_time": "2022-03-16T00:33:18.324047",
     "exception": false,
     "start_time": "2022-03-16T00:33:18.285896",
     "status": "completed"
    },
    "tags": []
   },
   "outputs": [],
   "source": [
    "#hide\n",
    "#delete problematic countries from table\n",
    "df_table = df_table[~df_table['Country/Region'].isin(['Cape Verde', 'Cruise Ship', 'Kosovo'])]"
   ]
  },
  {
   "cell_type": "code",
   "execution_count": 17,
   "id": "related-center",
   "metadata": {
    "execution": {
     "iopub.execute_input": "2022-03-16T00:33:18.403574Z",
     "iopub.status.busy": "2022-03-16T00:33:18.403017Z",
     "iopub.status.idle": "2022-03-16T00:33:18.406223Z",
     "shell.execute_reply": "2022-03-16T00:33:18.406614Z"
    },
    "papermill": {
     "duration": 0.051201,
     "end_time": "2022-03-16T00:33:18.406747",
     "exception": false,
     "start_time": "2022-03-16T00:33:18.355546",
     "status": "completed"
    },
    "tags": []
   },
   "outputs": [],
   "source": [
    "#hide\n",
    "metrics = [df_table.columns[index] for index in [1,2,5,6]]\n",
    "# s_china = df_table[df_table['Country/Region'].eq('China')][metrics].sum().add_prefix('China ')\n",
    "s_us = df_table[df_table['Country/Region'].eq('US')][metrics].sum().add_prefix('US ')\n",
    "s_eu = df_table[df_table['Continent'].eq('Europe')][metrics].sum().add_prefix('EU ')\n",
    "s_ind = df_table[df_table['Country/Region'].eq('India')][metrics].sum().add_prefix('India ')\n",
    "summary = {'updated': pd.to_datetime(dt_today), 'since': pd.to_datetime(dt_yday)}\n",
    "summary = {'updated': pd.to_datetime(dt_today), 'since': pd.to_datetime(dt_yday)}\n",
    "summary = {**summary, **df_table[metrics].sum(), **s_ind, **s_us, **s_eu}"
   ]
  },
  {
   "cell_type": "code",
   "execution_count": 18,
   "id": "engaging-syndrome",
   "metadata": {
    "execution": {
     "iopub.execute_input": "2022-03-16T00:33:18.473573Z",
     "iopub.status.busy": "2022-03-16T00:33:18.473056Z",
     "iopub.status.idle": "2022-03-16T00:33:18.489076Z",
     "shell.execute_reply": "2022-03-16T00:33:18.488633Z"
    },
    "papermill": {
     "duration": 0.051601,
     "end_time": "2022-03-16T00:33:18.489195",
     "exception": false,
     "start_time": "2022-03-16T00:33:18.437594",
     "status": "completed"
    },
    "tags": []
   },
   "outputs": [],
   "source": [
    "#hide\n",
    "dft_ct_new_cases = dft_cases.groupby(COL_REGION)[dt_cols].sum().diff(axis=1).fillna(0).astype(int)"
   ]
  },
  {
   "cell_type": "code",
   "execution_count": 19,
   "id": "neutral-assignment",
   "metadata": {
    "execution": {
     "iopub.execute_input": "2022-03-16T00:33:18.553736Z",
     "iopub.status.busy": "2022-03-16T00:33:18.553225Z",
     "iopub.status.idle": "2022-03-16T00:33:18.559014Z",
     "shell.execute_reply": "2022-03-16T00:33:18.558574Z"
    },
    "papermill": {
     "duration": 0.039063,
     "end_time": "2022-03-16T00:33:18.559122",
     "exception": false,
     "start_time": "2022-03-16T00:33:18.520059",
     "status": "completed"
    },
    "tags": []
   },
   "outputs": [],
   "source": [
    "#hide\n",
    "everydaycases = dft_ct_new_cases.cumsum(axis=1)"
   ]
  },
  {
   "cell_type": "code",
   "execution_count": 20,
   "id": "parliamentary-calgary",
   "metadata": {
    "execution": {
     "iopub.execute_input": "2022-03-16T00:33:18.625176Z",
     "iopub.status.busy": "2022-03-16T00:33:18.624552Z",
     "iopub.status.idle": "2022-03-16T00:33:19.239960Z",
     "shell.execute_reply": "2022-03-16T00:33:19.239430Z"
    },
    "papermill": {
     "duration": 0.650288,
     "end_time": "2022-03-16T00:33:19.240094",
     "exception": false,
     "start_time": "2022-03-16T00:33:18.589806",
     "status": "completed"
    },
    "tags": []
   },
   "outputs": [],
   "source": [
    "#hide\n",
    "import pandas as pd\n",
    "import matplotlib.pyplot as plt\n",
    "import matplotlib.ticker as ticker\n",
    "import matplotlib.animation as animation\n",
    "from IPython.display import HTML"
   ]
  },
  {
   "cell_type": "code",
   "execution_count": 21,
   "id": "lasting-extraction",
   "metadata": {
    "execution": {
     "iopub.execute_input": "2022-03-16T00:33:19.312193Z",
     "iopub.status.busy": "2022-03-16T00:33:19.311646Z",
     "iopub.status.idle": "2022-03-16T00:33:19.317274Z",
     "shell.execute_reply": "2022-03-16T00:33:19.317671Z"
    },
    "papermill": {
     "duration": 0.046638,
     "end_time": "2022-03-16T00:33:19.317809",
     "exception": false,
     "start_time": "2022-03-16T00:33:19.271171",
     "status": "completed"
    },
    "tags": []
   },
   "outputs": [],
   "source": [
    "#hide\n",
    "t = everydaycases.stack()"
   ]
  },
  {
   "cell_type": "code",
   "execution_count": 22,
   "id": "premier-sleeve",
   "metadata": {
    "execution": {
     "iopub.execute_input": "2022-03-16T00:33:19.384455Z",
     "iopub.status.busy": "2022-03-16T00:33:19.383905Z",
     "iopub.status.idle": "2022-03-16T00:33:19.394716Z",
     "shell.execute_reply": "2022-03-16T00:33:19.395108Z"
    },
    "papermill": {
     "duration": 0.045901,
     "end_time": "2022-03-16T00:33:19.395244",
     "exception": false,
     "start_time": "2022-03-16T00:33:19.349343",
     "status": "completed"
    },
    "tags": []
   },
   "outputs": [],
   "source": [
    "#hide\n",
    "g = t.reset_index(['Country/Region'])"
   ]
  },
  {
   "cell_type": "code",
   "execution_count": 23,
   "id": "distributed-pittsburgh",
   "metadata": {
    "execution": {
     "iopub.execute_input": "2022-03-16T00:33:19.460278Z",
     "iopub.status.busy": "2022-03-16T00:33:19.459755Z",
     "iopub.status.idle": "2022-03-16T00:33:19.461651Z",
     "shell.execute_reply": "2022-03-16T00:33:19.462031Z"
    },
    "papermill": {
     "duration": 0.036365,
     "end_time": "2022-03-16T00:33:19.462162",
     "exception": false,
     "start_time": "2022-03-16T00:33:19.425797",
     "status": "completed"
    },
    "tags": []
   },
   "outputs": [],
   "source": [
    "#hide\n",
    "g.index.name = 'date'"
   ]
  },
  {
   "cell_type": "code",
   "execution_count": 24,
   "id": "naked-donor",
   "metadata": {
    "execution": {
     "iopub.execute_input": "2022-03-16T00:33:19.529007Z",
     "iopub.status.busy": "2022-03-16T00:33:19.528470Z",
     "iopub.status.idle": "2022-03-16T00:33:19.530591Z",
     "shell.execute_reply": "2022-03-16T00:33:19.530180Z"
    },
    "papermill": {
     "duration": 0.037647,
     "end_time": "2022-03-16T00:33:19.530700",
     "exception": false,
     "start_time": "2022-03-16T00:33:19.493053",
     "status": "completed"
    },
    "tags": []
   },
   "outputs": [],
   "source": [
    "# #hide\n",
    "# g = g.reset_index(['date'])"
   ]
  },
  {
   "cell_type": "code",
   "execution_count": 25,
   "id": "incomplete-mustang",
   "metadata": {
    "execution": {
     "iopub.execute_input": "2022-03-16T00:33:19.601897Z",
     "iopub.status.busy": "2022-03-16T00:33:19.601340Z",
     "iopub.status.idle": "2022-03-16T00:33:19.603315Z",
     "shell.execute_reply": "2022-03-16T00:33:19.602882Z"
    },
    "papermill": {
     "duration": 0.04207,
     "end_time": "2022-03-16T00:33:19.603422",
     "exception": false,
     "start_time": "2022-03-16T00:33:19.561352",
     "status": "completed"
    },
    "tags": []
   },
   "outputs": [],
   "source": [
    "#hide\n",
    "# g.head()"
   ]
  },
  {
   "cell_type": "code",
   "execution_count": 26,
   "id": "specific-kruger",
   "metadata": {
    "execution": {
     "iopub.execute_input": "2022-03-16T00:33:19.669133Z",
     "iopub.status.busy": "2022-03-16T00:33:19.668527Z",
     "iopub.status.idle": "2022-03-16T00:33:19.671316Z",
     "shell.execute_reply": "2022-03-16T00:33:19.670846Z"
    },
    "papermill": {
     "duration": 0.036942,
     "end_time": "2022-03-16T00:33:19.671439",
     "exception": false,
     "start_time": "2022-03-16T00:33:19.634497",
     "status": "completed"
    },
    "tags": []
   },
   "outputs": [],
   "source": [
    "#hide\n",
    "# g.columns = ['date','country','cases']"
   ]
  },
  {
   "cell_type": "code",
   "execution_count": 27,
   "id": "tender-conversion",
   "metadata": {
    "execution": {
     "iopub.execute_input": "2022-03-16T00:33:19.736989Z",
     "iopub.status.busy": "2022-03-16T00:33:19.736439Z",
     "iopub.status.idle": "2022-03-16T00:33:19.739867Z",
     "shell.execute_reply": "2022-03-16T00:33:19.739407Z"
    },
    "papermill": {
     "duration": 0.037546,
     "end_time": "2022-03-16T00:33:19.739973",
     "exception": false,
     "start_time": "2022-03-16T00:33:19.702427",
     "status": "completed"
    },
    "tags": []
   },
   "outputs": [],
   "source": [
    "#hide\n",
    "# g['continent'] = g.country"
   ]
  },
  {
   "cell_type": "code",
   "execution_count": 28,
   "id": "substantial-wilderness",
   "metadata": {
    "execution": {
     "iopub.execute_input": "2022-03-16T00:33:19.809873Z",
     "iopub.status.busy": "2022-03-16T00:33:19.809327Z",
     "iopub.status.idle": "2022-03-16T00:33:19.811438Z",
     "shell.execute_reply": "2022-03-16T00:33:19.811026Z"
    },
    "papermill": {
     "duration": 0.040299,
     "end_time": "2022-03-16T00:33:19.811548",
     "exception": false,
     "start_time": "2022-03-16T00:33:19.771249",
     "status": "completed"
    },
    "tags": []
   },
   "outputs": [],
   "source": [
    "#hide\n",
    "# cols = list(g.columns.values)"
   ]
  },
  {
   "cell_type": "code",
   "execution_count": 29,
   "id": "solved-farming",
   "metadata": {
    "execution": {
     "iopub.execute_input": "2022-03-16T00:33:19.877002Z",
     "iopub.status.busy": "2022-03-16T00:33:19.876369Z",
     "iopub.status.idle": "2022-03-16T00:33:19.880066Z",
     "shell.execute_reply": "2022-03-16T00:33:19.879615Z"
    },
    "papermill": {
     "duration": 0.037819,
     "end_time": "2022-03-16T00:33:19.880174",
     "exception": false,
     "start_time": "2022-03-16T00:33:19.842355",
     "status": "completed"
    },
    "tags": []
   },
   "outputs": [],
   "source": [
    "#hide\n",
    "# cols.insert(0, cols.pop())"
   ]
  },
  {
   "cell_type": "code",
   "execution_count": 30,
   "id": "executed-adoption",
   "metadata": {
    "execution": {
     "iopub.execute_input": "2022-03-16T00:33:19.948014Z",
     "iopub.status.busy": "2022-03-16T00:33:19.947379Z",
     "iopub.status.idle": "2022-03-16T00:33:19.949390Z",
     "shell.execute_reply": "2022-03-16T00:33:19.948925Z"
    },
    "papermill": {
     "duration": 0.036473,
     "end_time": "2022-03-16T00:33:19.949514",
     "exception": false,
     "start_time": "2022-03-16T00:33:19.913041",
     "status": "completed"
    },
    "tags": []
   },
   "outputs": [],
   "source": [
    "#hide\n",
    "# g = g[cols]"
   ]
  },
  {
   "cell_type": "code",
   "execution_count": 31,
   "id": "subject-dublin",
   "metadata": {
    "execution": {
     "iopub.execute_input": "2022-03-16T00:33:20.019700Z",
     "iopub.status.busy": "2022-03-16T00:33:20.019158Z",
     "iopub.status.idle": "2022-03-16T00:33:20.021299Z",
     "shell.execute_reply": "2022-03-16T00:33:20.020863Z"
    },
    "papermill": {
     "duration": 0.040953,
     "end_time": "2022-03-16T00:33:20.021406",
     "exception": false,
     "start_time": "2022-03-16T00:33:19.980453",
     "status": "completed"
    },
    "tags": []
   },
   "outputs": [],
   "source": [
    "#hide\n",
    "# g['continent'] = g['continent'].map(mapping['map.continent'])"
   ]
  },
  {
   "cell_type": "code",
   "execution_count": 32,
   "id": "freelance-scout",
   "metadata": {
    "execution": {
     "iopub.execute_input": "2022-03-16T00:33:20.086921Z",
     "iopub.status.busy": "2022-03-16T00:33:20.086402Z",
     "iopub.status.idle": "2022-03-16T00:33:20.088810Z",
     "shell.execute_reply": "2022-03-16T00:33:20.088264Z"
    },
    "papermill": {
     "duration": 0.036703,
     "end_time": "2022-03-16T00:33:20.088921",
     "exception": false,
     "start_time": "2022-03-16T00:33:20.052218",
     "status": "completed"
    },
    "tags": []
   },
   "outputs": [],
   "source": [
    "#hide\n",
    "# g.head()"
   ]
  },
  {
   "cell_type": "code",
   "execution_count": 33,
   "id": "limited-engine",
   "metadata": {
    "execution": {
     "iopub.execute_input": "2022-03-16T00:33:20.158680Z",
     "iopub.status.busy": "2022-03-16T00:33:20.158062Z",
     "iopub.status.idle": "2022-03-16T00:33:20.159997Z",
     "shell.execute_reply": "2022-03-16T00:33:20.159414Z"
    },
    "papermill": {
     "duration": 0.036327,
     "end_time": "2022-03-16T00:33:20.160118",
     "exception": false,
     "start_time": "2022-03-16T00:33:20.123791",
     "status": "completed"
    },
    "tags": []
   },
   "outputs": [],
   "source": [
    "# hide\n",
    "# g['date'] = g['date'].astype('datetime64[ns]')"
   ]
  },
  {
   "cell_type": "code",
   "execution_count": 34,
   "id": "sophisticated-supervisor",
   "metadata": {
    "execution": {
     "iopub.execute_input": "2022-03-16T00:33:20.226616Z",
     "iopub.status.busy": "2022-03-16T00:33:20.225981Z",
     "iopub.status.idle": "2022-03-16T00:33:20.229338Z",
     "shell.execute_reply": "2022-03-16T00:33:20.229719Z"
    },
    "papermill": {
     "duration": 0.038049,
     "end_time": "2022-03-16T00:33:20.229850",
     "exception": false,
     "start_time": "2022-03-16T00:33:20.191801",
     "status": "completed"
    },
    "tags": []
   },
   "outputs": [],
   "source": [
    "#hide\n",
    "# g['date'] = g.date.dt.dayofyear"
   ]
  },
  {
   "cell_type": "code",
   "execution_count": 35,
   "id": "inside-dubai",
   "metadata": {
    "execution": {
     "iopub.execute_input": "2022-03-16T00:33:20.297109Z",
     "iopub.status.busy": "2022-03-16T00:33:20.296386Z",
     "iopub.status.idle": "2022-03-16T00:33:20.298127Z",
     "shell.execute_reply": "2022-03-16T00:33:20.297641Z"
    },
    "papermill": {
     "duration": 0.03771,
     "end_time": "2022-03-16T00:33:20.298247",
     "exception": false,
     "start_time": "2022-03-16T00:33:20.260537",
     "status": "completed"
    },
    "tags": []
   },
   "outputs": [],
   "source": [
    "#hide\n",
    "# g = g.rename(columns= {'continent':'group','country':'name','cases':'value'})"
   ]
  },
  {
   "cell_type": "code",
   "execution_count": 36,
   "id": "fleet-motorcycle",
   "metadata": {
    "execution": {
     "iopub.execute_input": "2022-03-16T00:33:20.363802Z",
     "iopub.status.busy": "2022-03-16T00:33:20.363287Z",
     "iopub.status.idle": "2022-03-16T00:33:20.365641Z",
     "shell.execute_reply": "2022-03-16T00:33:20.365227Z"
    },
    "papermill": {
     "duration": 0.036494,
     "end_time": "2022-03-16T00:33:20.365754",
     "exception": false,
     "start_time": "2022-03-16T00:33:20.329260",
     "status": "completed"
    },
    "tags": []
   },
   "outputs": [],
   "source": [
    "#hide\n",
    "# cols = ['name','group','day','value']"
   ]
  },
  {
   "cell_type": "code",
   "execution_count": 37,
   "id": "continued-sleeping",
   "metadata": {
    "execution": {
     "iopub.execute_input": "2022-03-16T00:33:20.430914Z",
     "iopub.status.busy": "2022-03-16T00:33:20.430298Z",
     "iopub.status.idle": "2022-03-16T00:33:20.433631Z",
     "shell.execute_reply": "2022-03-16T00:33:20.434018Z"
    },
    "papermill": {
     "duration": 0.037739,
     "end_time": "2022-03-16T00:33:20.434149",
     "exception": false,
     "start_time": "2022-03-16T00:33:20.396410",
     "status": "completed"
    },
    "tags": []
   },
   "outputs": [],
   "source": [
    "#hide\n",
    "# g.rename(columns= {'date':'day'},inplace = True)"
   ]
  },
  {
   "cell_type": "code",
   "execution_count": 38,
   "id": "major-fight",
   "metadata": {
    "execution": {
     "iopub.execute_input": "2022-03-16T00:33:20.504210Z",
     "iopub.status.busy": "2022-03-16T00:33:20.503659Z",
     "iopub.status.idle": "2022-03-16T00:33:20.505630Z",
     "shell.execute_reply": "2022-03-16T00:33:20.505120Z"
    },
    "papermill": {
     "duration": 0.040642,
     "end_time": "2022-03-16T00:33:20.505737",
     "exception": false,
     "start_time": "2022-03-16T00:33:20.465095",
     "status": "completed"
    },
    "tags": []
   },
   "outputs": [],
   "source": [
    "#hide\n",
    "# g = g[cols]"
   ]
  },
  {
   "cell_type": "code",
   "execution_count": 39,
   "id": "structured-mobile",
   "metadata": {
    "execution": {
     "iopub.execute_input": "2022-03-16T00:33:20.570933Z",
     "iopub.status.busy": "2022-03-16T00:33:20.570316Z",
     "iopub.status.idle": "2022-03-16T00:33:20.573755Z",
     "shell.execute_reply": "2022-03-16T00:33:20.574194Z"
    },
    "papermill": {
     "duration": 0.037922,
     "end_time": "2022-03-16T00:33:20.574338",
     "exception": false,
     "start_time": "2022-03-16T00:33:20.536416",
     "status": "completed"
    },
    "tags": []
   },
   "outputs": [],
   "source": [
    "# #hide\n",
    "# g = g[g.group.notna()]"
   ]
  },
  {
   "cell_type": "code",
   "execution_count": 40,
   "id": "determined-closing",
   "metadata": {
    "execution": {
     "iopub.execute_input": "2022-03-16T00:33:20.645234Z",
     "iopub.status.busy": "2022-03-16T00:33:20.644702Z",
     "iopub.status.idle": "2022-03-16T00:33:20.646540Z",
     "shell.execute_reply": "2022-03-16T00:33:20.646946Z"
    },
    "papermill": {
     "duration": 0.036297,
     "end_time": "2022-03-16T00:33:20.647070",
     "exception": false,
     "start_time": "2022-03-16T00:33:20.610773",
     "status": "completed"
    },
    "tags": []
   },
   "outputs": [],
   "source": [
    "# #hide\n",
    "# colors = dict(zip(\n",
    "#     [\"Oceania\", \"Europe\", \"Asia\", \"South America\", \"Middle East\", \"North America\", \"Africa\"],\n",
    "#     [\"#adb0ff\", \"#ffb3ff\", \"#90d595\", \"#e48381\", \"#aafbff\", \"#f7bb5f\", \"#eafb50\"]\n",
    "# ))\n",
    "# group_lk = g.set_index('name')['group'].to_dict()"
   ]
  },
  {
   "cell_type": "code",
   "execution_count": null,
   "id": "gross-drinking",
   "metadata": {
    "papermill": {
     "duration": 0.030958,
     "end_time": "2022-03-16T00:33:20.708403",
     "exception": false,
     "start_time": "2022-03-16T00:33:20.677445",
     "status": "completed"
    },
    "tags": []
   },
   "outputs": [],
   "source": []
  },
  {
   "cell_type": "code",
   "execution_count": 41,
   "id": "subject-macintosh",
   "metadata": {
    "execution": {
     "iopub.execute_input": "2022-03-16T00:33:20.774753Z",
     "iopub.status.busy": "2022-03-16T00:33:20.773998Z",
     "iopub.status.idle": "2022-03-16T00:33:20.775388Z",
     "shell.execute_reply": "2022-03-16T00:33:20.775937Z"
    },
    "papermill": {
     "duration": 0.036812,
     "end_time": "2022-03-16T00:33:20.776078",
     "exception": false,
     "start_time": "2022-03-16T00:33:20.739266",
     "status": "completed"
    },
    "tags": []
   },
   "outputs": [],
   "source": [
    "# #hide\n",
    "# fig, ax = plt.subplots(figsize=(15, 8))\n",
    "\n",
    "# def draw_barchart(current_day):\n",
    "#     dff = g[g['day'].eq(current_day)].sort_values(by='value', ascending=True).tail(10)\n",
    "#     ax.clear()\n",
    "#     ax.barh(dff['name'], dff['value'], color=[colors[group_lk[x]] for x in dff['name']])\n",
    "#     dx = dff['value'].max() / 200\n",
    "    \n",
    "#     for i, (value, name) in enumerate(zip(dff['value'], dff['name'])):\n",
    "#         ax.text(value-dx, i,     name,           size=14, weight=600, ha='right', va='bottom')\n",
    "#         ax.text(value-dx, i-.25, group_lk[name], size=10, color='#444444', ha='right', va='baseline')\n",
    "#         ax.text(value+dx, i,     f'{value:,.0f}',  size=14, ha='left',  va='center')\n",
    "#     ax.text(1, 0.4, current_day, transform=ax.transAxes, color='#777777', size=46, ha='right', weight=800)\n",
    "#     ax.text(0, 1.06, 'Population (thousands)', transform=ax.transAxes, size=12, color='#777777')\n",
    "#     ax.xaxis.set_major_formatter(ticker.StrMethodFormatter('{x:,.0f}'))\n",
    "#     ax.xaxis.set_ticks_position('top')\n",
    "#     ax.tick_params(axis='x', colors='#777777', labelsize=12)\n",
    "#     ax.set_yticks([])\n",
    "#     ax.margins(0, 0.01)\n",
    "#     ax.grid(which='major', axis='x', linestyle='-')\n",
    "#     ax.set_axisbelow(True)\n",
    "    \n",
    "#     ax.text(0, 1.15, 'Coronavirus',\n",
    "#             transform=ax.transAxes, size=24, weight=600, ha='left', va='top')\n",
    "# #     ax.text(1, 0, 'by @pratapvardhan; credit @jburnmurdoch', transform=ax.transAxes, color='#777777', ha='right',\n",
    "# #             bbox=dict(facecolor='white', alpha=0.8, edgecolor='white'))\n",
    "#     plt.box(False)"
   ]
  },
  {
   "cell_type": "code",
   "execution_count": 42,
   "id": "sexual-wages",
   "metadata": {
    "execution": {
     "iopub.execute_input": "2022-03-16T00:33:20.846548Z",
     "iopub.status.busy": "2022-03-16T00:33:20.845926Z",
     "iopub.status.idle": "2022-03-16T00:33:20.847876Z",
     "shell.execute_reply": "2022-03-16T00:33:20.847357Z"
    },
    "papermill": {
     "duration": 0.036321,
     "end_time": "2022-03-16T00:33:20.847994",
     "exception": false,
     "start_time": "2022-03-16T00:33:20.811673",
     "status": "completed"
    },
    "tags": []
   },
   "outputs": [],
   "source": [
    "# #hide_input\n",
    "# fig, ax = plt.subplots(figsize=(15, 8))\n",
    "# animator = animation.FuncAnimation(fig, draw_barchart, frames=range(g.day.values.min(), g.day.values.max()))\n",
    "# HTML(animator.to_jshtml())\n",
    "# # or use animator.to_html5_video() or animator.save() "
   ]
  },
  {
   "cell_type": "code",
   "execution_count": null,
   "id": "australian-container",
   "metadata": {
    "papermill": {
     "duration": 0.035086,
     "end_time": "2022-03-16T00:33:20.914157",
     "exception": false,
     "start_time": "2022-03-16T00:33:20.879071",
     "status": "completed"
    },
    "tags": []
   },
   "outputs": [],
   "source": []
  },
  {
   "cell_type": "code",
   "execution_count": null,
   "id": "mediterranean-pontiac",
   "metadata": {
    "papermill": {
     "duration": 0.030589,
     "end_time": "2022-03-16T00:33:20.975365",
     "exception": false,
     "start_time": "2022-03-16T00:33:20.944776",
     "status": "completed"
    },
    "tags": []
   },
   "outputs": [],
   "source": []
  },
  {
   "cell_type": "code",
   "execution_count": null,
   "id": "aging-legislature",
   "metadata": {
    "papermill": {
     "duration": 0.030654,
     "end_time": "2022-03-16T00:33:21.042045",
     "exception": false,
     "start_time": "2022-03-16T00:33:21.011391",
     "status": "completed"
    },
    "tags": []
   },
   "outputs": [],
   "source": []
  }
 ],
 "metadata": {
  "kernelspec": {
   "display_name": "Python 3",
   "language": "python",
   "name": "python3"
  },
  "language_info": {
   "codemirror_mode": {
    "name": "ipython",
    "version": 3
   },
   "file_extension": ".py",
   "mimetype": "text/x-python",
   "name": "python",
   "nbconvert_exporter": "python",
   "pygments_lexer": "ipython3",
   "version": "3.6.15"
  },
  "papermill": {
   "duration": 5.919447,
   "end_time": "2022-03-16T00:33:21.390646",
   "environment_variables": {},
   "exception": null,
   "input_path": "2020-03-21-covid19exp.ipynb",
   "output_path": "2020-03-21-covid19exp.ipynb",
   "parameters": {},
   "start_time": "2022-03-16T00:33:15.471199",
   "version": "2.0.0"
  }
 },
 "nbformat": 4,
 "nbformat_minor": 5
}