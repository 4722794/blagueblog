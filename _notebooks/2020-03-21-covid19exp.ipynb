{
 "cells": [
  {
   "cell_type": "markdown",
   "id": "muslim-click",
   "metadata": {
    "papermill": {
     "duration": 0.040984,
     "end_time": "2021-06-06T00:37:46.634578",
     "exception": false,
     "start_time": "2021-06-06T00:37:46.593594",
     "status": "completed"
    },
    "tags": []
   },
   "source": [
    "# COVID-19 Case Race\n",
    "> A race chart to see rising cases around the world\n",
    "\n",
    "- author: Hargun Oberoi\n",
    "- image: images/covid-overview.png\n",
    "- hide: false\n",
    "- badges: false"
   ]
  },
  {
   "cell_type": "code",
   "execution_count": 1,
   "id": "proof-material",
   "metadata": {
    "execution": {
     "iopub.execute_input": "2021-06-06T00:37:46.720909Z",
     "iopub.status.busy": "2021-06-06T00:37:46.720248Z",
     "iopub.status.idle": "2021-06-06T00:37:47.113412Z",
     "shell.execute_reply": "2021-06-06T00:37:47.112759Z"
    },
    "papermill": {
     "duration": 0.442124,
     "end_time": "2021-06-06T00:37:47.113567",
     "exception": false,
     "start_time": "2021-06-06T00:37:46.671443",
     "status": "completed"
    },
    "tags": []
   },
   "outputs": [],
   "source": [
    "#hide\n",
    "import numpy as np\n",
    "import pandas as pd\n",
    "from jinja2 import Template\n",
    "from IPython.display import HTML"
   ]
  },
  {
   "cell_type": "code",
   "execution_count": 2,
   "id": "developed-terminology",
   "metadata": {
    "execution": {
     "iopub.execute_input": "2021-06-06T00:37:47.196252Z",
     "iopub.status.busy": "2021-06-06T00:37:47.195661Z",
     "iopub.status.idle": "2021-06-06T00:37:47.197969Z",
     "shell.execute_reply": "2021-06-06T00:37:47.197489Z"
    },
    "papermill": {
     "duration": 0.046997,
     "end_time": "2021-06-06T00:37:47.198081",
     "exception": false,
     "start_time": "2021-06-06T00:37:47.151084",
     "status": "completed"
    },
    "tags": []
   },
   "outputs": [],
   "source": [
    "#hide\n",
    "\n",
    "# FETCH\n",
    "base_url = 'https://raw.githubusercontent.com/pratapvardhan/notebooks/master/covid19/'\n",
    "paths = {\n",
    "    'mapping': base_url + 'mapping_countries.csv',\n",
    "    'overview': base_url + 'overview.tpl'\n",
    "}"
   ]
  },
  {
   "cell_type": "code",
   "execution_count": 3,
   "id": "dynamic-saver",
   "metadata": {
    "execution": {
     "iopub.execute_input": "2021-06-06T00:37:47.288061Z",
     "iopub.status.busy": "2021-06-06T00:37:47.287416Z",
     "iopub.status.idle": "2021-06-06T00:37:47.291157Z",
     "shell.execute_reply": "2021-06-06T00:37:47.290499Z"
    },
    "papermill": {
     "duration": 0.056166,
     "end_time": "2021-06-06T00:37:47.291282",
     "exception": false,
     "start_time": "2021-06-06T00:37:47.235116",
     "status": "completed"
    },
    "tags": []
   },
   "outputs": [
    {
     "data": {
      "text/plain": [
       "'https://raw.githubusercontent.com/pratapvardhan/notebooks/master/covid19/mapping_countries.csv'"
      ]
     },
     "execution_count": 3,
     "metadata": {},
     "output_type": "execute_result"
    }
   ],
   "source": [
    "#hide\n",
    "paths['mapping']"
   ]
  },
  {
   "cell_type": "code",
   "execution_count": 4,
   "id": "urban-software",
   "metadata": {
    "execution": {
     "iopub.execute_input": "2021-06-06T00:37:47.367328Z",
     "iopub.status.busy": "2021-06-06T00:37:47.366756Z",
     "iopub.status.idle": "2021-06-06T00:37:47.369350Z",
     "shell.execute_reply": "2021-06-06T00:37:47.368804Z"
    },
    "papermill": {
     "duration": 0.043005,
     "end_time": "2021-06-06T00:37:47.369476",
     "exception": false,
     "start_time": "2021-06-06T00:37:47.326471",
     "status": "completed"
    },
    "tags": []
   },
   "outputs": [],
   "source": [
    "#hide\n",
    "def get_mappings(url):\n",
    "    df = pd.read_csv(url)\n",
    "    return {\n",
    "        'df': df,\n",
    "        'replace.country': dict(df.dropna(subset=['Name']).set_index('Country')['Name']),\n",
    "        'map.continent': dict(df.set_index('Name')['Continent'])\n",
    "    }"
   ]
  },
  {
   "cell_type": "code",
   "execution_count": 5,
   "id": "intimate-machinery",
   "metadata": {
    "execution": {
     "iopub.execute_input": "2021-06-06T00:37:47.455144Z",
     "iopub.status.busy": "2021-06-06T00:37:47.454536Z",
     "iopub.status.idle": "2021-06-06T00:37:47.497269Z",
     "shell.execute_reply": "2021-06-06T00:37:47.497745Z"
    },
    "papermill": {
     "duration": 0.088531,
     "end_time": "2021-06-06T00:37:47.497887",
     "exception": false,
     "start_time": "2021-06-06T00:37:47.409356",
     "status": "completed"
    },
    "tags": []
   },
   "outputs": [],
   "source": [
    "#hide\n",
    "mapping = get_mappings(paths['mapping'])"
   ]
  },
  {
   "cell_type": "code",
   "execution_count": 6,
   "id": "certified-tactics",
   "metadata": {
    "execution": {
     "iopub.execute_input": "2021-06-06T00:37:47.580217Z",
     "iopub.status.busy": "2021-06-06T00:37:47.579536Z",
     "iopub.status.idle": "2021-06-06T00:37:47.582161Z",
     "shell.execute_reply": "2021-06-06T00:37:47.581613Z"
    },
    "papermill": {
     "duration": 0.04745,
     "end_time": "2021-06-06T00:37:47.582290",
     "exception": false,
     "start_time": "2021-06-06T00:37:47.534840",
     "status": "completed"
    },
    "tags": []
   },
   "outputs": [],
   "source": [
    "#hide\n",
    "def get_template(path):\n",
    "    from urllib.parse import urlparse\n",
    "    if bool(urlparse(path).netloc):\n",
    "        from urllib.request import urlopen\n",
    "        return urlopen(path).read().decode('utf8')\n",
    "    return open(path).read()"
   ]
  },
  {
   "cell_type": "code",
   "execution_count": 7,
   "id": "realistic-blast",
   "metadata": {
    "execution": {
     "iopub.execute_input": "2021-06-06T00:37:47.664763Z",
     "iopub.status.busy": "2021-06-06T00:37:47.664078Z",
     "iopub.status.idle": "2021-06-06T00:37:47.666299Z",
     "shell.execute_reply": "2021-06-06T00:37:47.665743Z"
    },
    "papermill": {
     "duration": 0.047373,
     "end_time": "2021-06-06T00:37:47.666410",
     "exception": false,
     "start_time": "2021-06-06T00:37:47.619037",
     "status": "completed"
    },
    "tags": []
   },
   "outputs": [],
   "source": [
    "#hide\n",
    "def get_frame(name):\n",
    "    url = (\n",
    "        'https://raw.githubusercontent.com/CSSEGISandData/COVID-19/master/csse_covid_19_data/'\n",
    "        f'csse_covid_19_time_series/time_series_covid19_{name}_global.csv')\n",
    "    df = pd.read_csv(url)\n",
    "    # rename countries\n",
    "    df['Country/Region'] = df['Country/Region'].replace(mapping['replace.country'])\n",
    "    return df"
   ]
  },
  {
   "cell_type": "code",
   "execution_count": 8,
   "id": "affiliated-characterization",
   "metadata": {
    "execution": {
     "iopub.execute_input": "2021-06-06T00:37:47.749304Z",
     "iopub.status.busy": "2021-06-06T00:37:47.748719Z",
     "iopub.status.idle": "2021-06-06T00:37:47.750992Z",
     "shell.execute_reply": "2021-06-06T00:37:47.750469Z"
    },
    "papermill": {
     "duration": 0.045473,
     "end_time": "2021-06-06T00:37:47.751106",
     "exception": false,
     "start_time": "2021-06-06T00:37:47.705633",
     "status": "completed"
    },
    "tags": []
   },
   "outputs": [],
   "source": [
    "#hide\n",
    "def get_dates(df):\n",
    "    dt_cols = df.columns[~df.columns.isin(['Province/State', 'Country/Region', 'Lat', 'Long'])]\n",
    "    LAST_DATE_I = -1\n",
    "    # sometimes last column may be empty, then go backwards\n",
    "    for i in range(-1, -len(dt_cols), -1):\n",
    "        if not df[dt_cols[i]].fillna(0).eq(0).all():\n",
    "            LAST_DATE_I = i\n",
    "            break\n",
    "    return LAST_DATE_I, dt_cols"
   ]
  },
  {
   "cell_type": "code",
   "execution_count": 9,
   "id": "recent-optimization",
   "metadata": {
    "execution": {
     "iopub.execute_input": "2021-06-06T00:37:47.831781Z",
     "iopub.status.busy": "2021-06-06T00:37:47.830941Z",
     "iopub.status.idle": "2021-06-06T00:37:48.237615Z",
     "shell.execute_reply": "2021-06-06T00:37:48.236490Z"
    },
    "papermill": {
     "duration": 0.448574,
     "end_time": "2021-06-06T00:37:48.237755",
     "exception": false,
     "start_time": "2021-06-06T00:37:47.789181",
     "status": "completed"
    },
    "tags": []
   },
   "outputs": [],
   "source": [
    "#hide\n",
    "COL_REGION = 'Country/Region'\n",
    "# Confirmed, Recovered, Deaths\n",
    "df = get_frame('confirmed')\n",
    "# dft_: timeseries, dfc_: today country agg\n",
    "dft_cases = df\n",
    "dft_deaths = get_frame('deaths')\n",
    "dft_recovered = get_frame('recovered')\n",
    "LAST_DATE_I, dt_cols = get_dates(df)"
   ]
  },
  {
   "cell_type": "code",
   "execution_count": 10,
   "id": "absolute-copper",
   "metadata": {
    "execution": {
     "iopub.execute_input": "2021-06-06T00:37:48.320315Z",
     "iopub.status.busy": "2021-06-06T00:37:48.319569Z",
     "iopub.status.idle": "2021-06-06T00:37:48.322802Z",
     "shell.execute_reply": "2021-06-06T00:37:48.322278Z"
    },
    "papermill": {
     "duration": 0.045357,
     "end_time": "2021-06-06T00:37:48.322994",
     "exception": false,
     "start_time": "2021-06-06T00:37:48.277637",
     "status": "completed"
    },
    "tags": []
   },
   "outputs": [],
   "source": [
    "#hide\n",
    "LAST_DATE_I, dt_cols = get_dates(df)\n",
    "dt_today =dt_cols[LAST_DATE_I]\n",
    "# dt_5day = dt_cols[LAST_DATE_I - 5]\n",
    "dt_yday = dt_cols[LAST_DATE_I - 1]"
   ]
  },
  {
   "cell_type": "code",
   "execution_count": 11,
   "id": "restricted-sheriff",
   "metadata": {
    "execution": {
     "iopub.execute_input": "2021-06-06T00:37:48.403064Z",
     "iopub.status.busy": "2021-06-06T00:37:48.402250Z",
     "iopub.status.idle": "2021-06-06T00:37:48.412015Z",
     "shell.execute_reply": "2021-06-06T00:37:48.412471Z"
    },
    "papermill": {
     "duration": 0.050987,
     "end_time": "2021-06-06T00:37:48.412628",
     "exception": false,
     "start_time": "2021-06-06T00:37:48.361641",
     "status": "completed"
    },
    "tags": []
   },
   "outputs": [],
   "source": [
    "#hide\n",
    "dfc_cases = dft_cases.groupby(COL_REGION)[dt_today].sum()\n",
    "dfc_deaths = dft_deaths.groupby(COL_REGION)[dt_today].sum()\n",
    "# dfp_cases = dft_cases.groupby(COL_REGION)[dt_5day].sum()\n",
    "# dfp_deaths = dft_deaths.groupby(COL_REGION)[dt_5day].sum()\n",
    "dfp_cases = dft_cases.groupby(COL_REGION)[dt_yday].sum()\n",
    "dfp_deaths = dft_deaths.groupby(COL_REGION)[dt_yday].sum()"
   ]
  },
  {
   "cell_type": "code",
   "execution_count": 12,
   "id": "deluxe-hepatitis",
   "metadata": {
    "execution": {
     "iopub.execute_input": "2021-06-06T00:37:48.492640Z",
     "iopub.status.busy": "2021-06-06T00:37:48.491881Z",
     "iopub.status.idle": "2021-06-06T00:37:48.497320Z",
     "shell.execute_reply": "2021-06-06T00:37:48.496853Z"
    },
    "papermill": {
     "duration": 0.048622,
     "end_time": "2021-06-06T00:37:48.497437",
     "exception": false,
     "start_time": "2021-06-06T00:37:48.448815",
     "status": "completed"
    },
    "tags": []
   },
   "outputs": [],
   "source": [
    "#hide\n",
    "df_table = (pd.DataFrame(dict(Cases = dfc_cases, Deaths = dfc_deaths, PCases = dfp_cases, PDeaths = dfp_deaths))\n",
    "            .sort_values(by = ['Cases','Deaths'], ascending = [False, False])\n",
    "            .reset_index())"
   ]
  },
  {
   "cell_type": "code",
   "execution_count": 13,
   "id": "educational-chancellor",
   "metadata": {
    "execution": {
     "iopub.execute_input": "2021-06-06T00:37:48.596497Z",
     "iopub.status.busy": "2021-06-06T00:37:48.595755Z",
     "iopub.status.idle": "2021-06-06T00:37:48.605266Z",
     "shell.execute_reply": "2021-06-06T00:37:48.605859Z"
    },
    "papermill": {
     "duration": 0.070786,
     "end_time": "2021-06-06T00:37:48.606068",
     "exception": false,
     "start_time": "2021-06-06T00:37:48.535282",
     "status": "completed"
    },
    "tags": []
   },
   "outputs": [
    {
     "data": {
      "text/html": [
       "<div>\n",
       "<style scoped>\n",
       "    .dataframe tbody tr th:only-of-type {\n",
       "        vertical-align: middle;\n",
       "    }\n",
       "\n",
       "    .dataframe tbody tr th {\n",
       "        vertical-align: top;\n",
       "    }\n",
       "\n",
       "    .dataframe thead th {\n",
       "        text-align: right;\n",
       "    }\n",
       "</style>\n",
       "<table border=\"1\" class=\"dataframe\">\n",
       "  <thead>\n",
       "    <tr style=\"text-align: right;\">\n",
       "      <th></th>\n",
       "      <th>Country/Region</th>\n",
       "      <th>Cases</th>\n",
       "      <th>Deaths</th>\n",
       "      <th>PCases</th>\n",
       "      <th>PDeaths</th>\n",
       "      <th>Cases (+)</th>\n",
       "      <th>Deaths (+)</th>\n",
       "      <th>Fatality Rate</th>\n",
       "      <th>Continent</th>\n",
       "    </tr>\n",
       "  </thead>\n",
       "  <tbody>\n",
       "    <tr>\n",
       "      <th>0</th>\n",
       "      <td>US</td>\n",
       "      <td>33343297</td>\n",
       "      <td>597001</td>\n",
       "      <td>33326437</td>\n",
       "      <td>596434</td>\n",
       "      <td>16860</td>\n",
       "      <td>567</td>\n",
       "      <td>1.79</td>\n",
       "      <td>North America</td>\n",
       "    </tr>\n",
       "    <tr>\n",
       "      <th>1</th>\n",
       "      <td>India</td>\n",
       "      <td>28694879</td>\n",
       "      <td>344082</td>\n",
       "      <td>28574350</td>\n",
       "      <td>340702</td>\n",
       "      <td>120529</td>\n",
       "      <td>3380</td>\n",
       "      <td>1.20</td>\n",
       "      <td>Asia</td>\n",
       "    </tr>\n",
       "    <tr>\n",
       "      <th>2</th>\n",
       "      <td>Brazil</td>\n",
       "      <td>16841408</td>\n",
       "      <td>470842</td>\n",
       "      <td>16803472</td>\n",
       "      <td>469388</td>\n",
       "      <td>37936</td>\n",
       "      <td>1454</td>\n",
       "      <td>2.80</td>\n",
       "      <td>South America</td>\n",
       "    </tr>\n",
       "    <tr>\n",
       "      <th>3</th>\n",
       "      <td>France</td>\n",
       "      <td>5762637</td>\n",
       "      <td>110078</td>\n",
       "      <td>5755679</td>\n",
       "      <td>109990</td>\n",
       "      <td>6958</td>\n",
       "      <td>88</td>\n",
       "      <td>1.91</td>\n",
       "      <td>Europe</td>\n",
       "    </tr>\n",
       "    <tr>\n",
       "      <th>4</th>\n",
       "      <td>Turkey</td>\n",
       "      <td>5276468</td>\n",
       "      <td>47976</td>\n",
       "      <td>5270299</td>\n",
       "      <td>47882</td>\n",
       "      <td>6169</td>\n",
       "      <td>94</td>\n",
       "      <td>0.91</td>\n",
       "      <td>Asia</td>\n",
       "    </tr>\n",
       "  </tbody>\n",
       "</table>\n",
       "</div>"
      ],
      "text/plain": [
       "  Country/Region     Cases  Deaths    PCases  PDeaths  Cases (+)  Deaths (+)  \\\n",
       "0             US  33343297  597001  33326437   596434      16860         567   \n",
       "1          India  28694879  344082  28574350   340702     120529        3380   \n",
       "2         Brazil  16841408  470842  16803472   469388      37936        1454   \n",
       "3         France   5762637  110078   5755679   109990       6958          88   \n",
       "4         Turkey   5276468   47976   5270299    47882       6169          94   \n",
       "\n",
       "   Fatality Rate      Continent  \n",
       "0           1.79  North America  \n",
       "1           1.20           Asia  \n",
       "2           2.80  South America  \n",
       "3           1.91         Europe  \n",
       "4           0.91           Asia  "
      ]
     },
     "execution_count": 13,
     "metadata": {},
     "output_type": "execute_result"
    }
   ],
   "source": [
    "#hide\n",
    "for c in 'Cases, Deaths'.split(', '):\n",
    "    df_table[f'{c} (+)'] = (df_table[c] - df_table[f'P{c}']).clip(0)\n",
    "    #Clip ça veut dire, les chiffres negatif sont interdit\n",
    "df_table['Fatality Rate'] = (100* df_table['Deaths']/ df_table['Cases']).round(2)\n",
    "df_table['Continent'] = df_table['Country/Region'].map(mapping['map.continent'])\n",
    "df_table.head(5)"
   ]
  },
  {
   "cell_type": "code",
   "execution_count": 14,
   "id": "aboriginal-bulgaria",
   "metadata": {
    "execution": {
     "iopub.execute_input": "2021-06-06T00:37:48.694040Z",
     "iopub.status.busy": "2021-06-06T00:37:48.693368Z",
     "iopub.status.idle": "2021-06-06T00:37:48.696370Z",
     "shell.execute_reply": "2021-06-06T00:37:48.697087Z"
    },
    "papermill": {
     "duration": 0.048547,
     "end_time": "2021-06-06T00:37:48.697265",
     "exception": false,
     "start_time": "2021-06-06T00:37:48.648718",
     "status": "completed"
    },
    "tags": []
   },
   "outputs": [],
   "source": [
    "#hide\n",
    "#delete problematic countries from table\n",
    "df_table = df_table[~df_table['Country/Region'].isin(['Cape Verde', 'Cruise Ship', 'Kosovo'])]"
   ]
  },
  {
   "cell_type": "code",
   "execution_count": 15,
   "id": "fantastic-effect",
   "metadata": {
    "execution": {
     "iopub.execute_input": "2021-06-06T00:37:48.784715Z",
     "iopub.status.busy": "2021-06-06T00:37:48.784030Z",
     "iopub.status.idle": "2021-06-06T00:37:48.808368Z",
     "shell.execute_reply": "2021-06-06T00:37:48.808918Z"
    },
    "papermill": {
     "duration": 0.073289,
     "end_time": "2021-06-06T00:37:48.809089",
     "exception": false,
     "start_time": "2021-06-06T00:37:48.735800",
     "status": "completed"
    },
    "tags": []
   },
   "outputs": [
    {
     "data": {
      "text/html": [
       "<div>\n",
       "<style scoped>\n",
       "    .dataframe tbody tr th:only-of-type {\n",
       "        vertical-align: middle;\n",
       "    }\n",
       "\n",
       "    .dataframe tbody tr th {\n",
       "        vertical-align: top;\n",
       "    }\n",
       "\n",
       "    .dataframe thead th {\n",
       "        text-align: right;\n",
       "    }\n",
       "</style>\n",
       "<table border=\"1\" class=\"dataframe\">\n",
       "  <thead>\n",
       "    <tr style=\"text-align: right;\">\n",
       "      <th></th>\n",
       "      <th>Country/Region</th>\n",
       "      <th>Cases</th>\n",
       "      <th>Deaths</th>\n",
       "      <th>PCases</th>\n",
       "      <th>PDeaths</th>\n",
       "      <th>Cases (+)</th>\n",
       "      <th>Deaths (+)</th>\n",
       "      <th>Fatality Rate</th>\n",
       "      <th>Continent</th>\n",
       "    </tr>\n",
       "  </thead>\n",
       "  <tbody>\n",
       "    <tr>\n",
       "      <th>0</th>\n",
       "      <td>US</td>\n",
       "      <td>33343297</td>\n",
       "      <td>597001</td>\n",
       "      <td>33326437</td>\n",
       "      <td>596434</td>\n",
       "      <td>16860</td>\n",
       "      <td>567</td>\n",
       "      <td>1.8</td>\n",
       "      <td>North America</td>\n",
       "    </tr>\n",
       "    <tr>\n",
       "      <th>1</th>\n",
       "      <td>India</td>\n",
       "      <td>28694879</td>\n",
       "      <td>344082</td>\n",
       "      <td>28574350</td>\n",
       "      <td>340702</td>\n",
       "      <td>120529</td>\n",
       "      <td>3380</td>\n",
       "      <td>1.2</td>\n",
       "      <td>Asia</td>\n",
       "    </tr>\n",
       "    <tr>\n",
       "      <th>2</th>\n",
       "      <td>Brazil</td>\n",
       "      <td>16841408</td>\n",
       "      <td>470842</td>\n",
       "      <td>16803472</td>\n",
       "      <td>469388</td>\n",
       "      <td>37936</td>\n",
       "      <td>1454</td>\n",
       "      <td>2.8</td>\n",
       "      <td>South America</td>\n",
       "    </tr>\n",
       "    <tr>\n",
       "      <th>3</th>\n",
       "      <td>France</td>\n",
       "      <td>5762637</td>\n",
       "      <td>110078</td>\n",
       "      <td>5755679</td>\n",
       "      <td>109990</td>\n",
       "      <td>6958</td>\n",
       "      <td>88</td>\n",
       "      <td>1.9</td>\n",
       "      <td>Europe</td>\n",
       "    </tr>\n",
       "    <tr>\n",
       "      <th>4</th>\n",
       "      <td>Turkey</td>\n",
       "      <td>5276468</td>\n",
       "      <td>47976</td>\n",
       "      <td>5270299</td>\n",
       "      <td>47882</td>\n",
       "      <td>6169</td>\n",
       "      <td>94</td>\n",
       "      <td>0.9</td>\n",
       "      <td>Asia</td>\n",
       "    </tr>\n",
       "  </tbody>\n",
       "</table>\n",
       "</div>"
      ],
      "text/plain": [
       "  Country/Region     Cases  Deaths    PCases  PDeaths  Cases (+)  Deaths (+)  \\\n",
       "0             US  33343297  597001  33326437   596434      16860         567   \n",
       "1          India  28694879  344082  28574350   340702     120529        3380   \n",
       "2         Brazil  16841408  470842  16803472   469388      37936        1454   \n",
       "3         France   5762637  110078   5755679   109990       6958          88   \n",
       "4         Turkey   5276468   47976   5270299    47882       6169          94   \n",
       "\n",
       "   Fatality Rate      Continent  \n",
       "0            1.8  North America  \n",
       "1            1.2           Asia  \n",
       "2            2.8  South America  \n",
       "3            1.9         Europe  \n",
       "4            0.9           Asia  "
      ]
     },
     "execution_count": 15,
     "metadata": {},
     "output_type": "execute_result"
    }
   ],
   "source": [
    "#hide\n",
    "df_table = (pd.DataFrame(dict(Cases=dfc_cases, Deaths=dfc_deaths, PCases=dfp_cases, PDeaths=dfp_deaths))\n",
    "             .sort_values(by=['Cases', 'Deaths'], ascending=[False, False])\n",
    "             .reset_index())\n",
    "df_table.rename(columns={'index': 'Country/Region'}, inplace=True)\n",
    "for c in 'Cases, Deaths'.split(', '):\n",
    "    df_table[f'{c} (+)'] = (df_table[c] - df_table[f'P{c}']).clip(0)  # DATA BUG\n",
    "df_table['Fatality Rate'] = (100 * df_table['Deaths'] / df_table['Cases']).round(1)\n",
    "df_table['Continent'] = df_table['Country/Region'].map(mapping['map.continent'])\n",
    "df_table.head(5)"
   ]
  },
  {
   "cell_type": "code",
   "execution_count": 16,
   "id": "fewer-occasion",
   "metadata": {
    "execution": {
     "iopub.execute_input": "2021-06-06T00:37:48.896551Z",
     "iopub.status.busy": "2021-06-06T00:37:48.895866Z",
     "iopub.status.idle": "2021-06-06T00:37:48.898162Z",
     "shell.execute_reply": "2021-06-06T00:37:48.897607Z"
    },
    "papermill": {
     "duration": 0.048044,
     "end_time": "2021-06-06T00:37:48.898274",
     "exception": false,
     "start_time": "2021-06-06T00:37:48.850230",
     "status": "completed"
    },
    "tags": []
   },
   "outputs": [],
   "source": [
    "#hide\n",
    "#delete problematic countries from table\n",
    "df_table = df_table[~df_table['Country/Region'].isin(['Cape Verde', 'Cruise Ship', 'Kosovo'])]"
   ]
  },
  {
   "cell_type": "code",
   "execution_count": 17,
   "id": "related-center",
   "metadata": {
    "execution": {
     "iopub.execute_input": "2021-06-06T00:37:48.991899Z",
     "iopub.status.busy": "2021-06-06T00:37:48.991214Z",
     "iopub.status.idle": "2021-06-06T00:37:49.002557Z",
     "shell.execute_reply": "2021-06-06T00:37:49.003144Z"
    },
    "papermill": {
     "duration": 0.063738,
     "end_time": "2021-06-06T00:37:49.003288",
     "exception": false,
     "start_time": "2021-06-06T00:37:48.939550",
     "status": "completed"
    },
    "tags": []
   },
   "outputs": [],
   "source": [
    "#hide\n",
    "metrics = [df_table.columns[index] for index in [1,2,5,6]]\n",
    "# s_china = df_table[df_table['Country/Region'].eq('China')][metrics].sum().add_prefix('China ')\n",
    "s_us = df_table[df_table['Country/Region'].eq('US')][metrics].sum().add_prefix('US ')\n",
    "s_eu = df_table[df_table['Continent'].eq('Europe')][metrics].sum().add_prefix('EU ')\n",
    "s_ind = df_table[df_table['Country/Region'].eq('India')][metrics].sum().add_prefix('India ')\n",
    "summary = {'updated': pd.to_datetime(dt_today), 'since': pd.to_datetime(dt_yday)}\n",
    "summary = {'updated': pd.to_datetime(dt_today), 'since': pd.to_datetime(dt_yday)}\n",
    "summary = {**summary, **df_table[metrics].sum(), **s_ind, **s_us, **s_eu}"
   ]
  },
  {
   "cell_type": "code",
   "execution_count": 18,
   "id": "engaging-syndrome",
   "metadata": {
    "execution": {
     "iopub.execute_input": "2021-06-06T00:37:49.091174Z",
     "iopub.status.busy": "2021-06-06T00:37:49.090488Z",
     "iopub.status.idle": "2021-06-06T00:37:49.105690Z",
     "shell.execute_reply": "2021-06-06T00:37:49.106278Z"
    },
    "papermill": {
     "duration": 0.063519,
     "end_time": "2021-06-06T00:37:49.106454",
     "exception": false,
     "start_time": "2021-06-06T00:37:49.042935",
     "status": "completed"
    },
    "tags": []
   },
   "outputs": [],
   "source": [
    "#hide\n",
    "dft_ct_new_cases = dft_cases.groupby(COL_REGION)[dt_cols].sum().diff(axis=1).fillna(0).astype(int)"
   ]
  },
  {
   "cell_type": "code",
   "execution_count": 19,
   "id": "neutral-assignment",
   "metadata": {
    "execution": {
     "iopub.execute_input": "2021-06-06T00:37:49.196520Z",
     "iopub.status.busy": "2021-06-06T00:37:49.195836Z",
     "iopub.status.idle": "2021-06-06T00:37:49.198856Z",
     "shell.execute_reply": "2021-06-06T00:37:49.198216Z"
    },
    "papermill": {
     "duration": 0.051651,
     "end_time": "2021-06-06T00:37:49.198975",
     "exception": false,
     "start_time": "2021-06-06T00:37:49.147324",
     "status": "completed"
    },
    "tags": []
   },
   "outputs": [],
   "source": [
    "#hide\n",
    "everydaycases = dft_ct_new_cases.cumsum(axis=1)"
   ]
  },
  {
   "cell_type": "code",
   "execution_count": 20,
   "id": "parliamentary-calgary",
   "metadata": {
    "execution": {
     "iopub.execute_input": "2021-06-06T00:37:49.285167Z",
     "iopub.status.busy": "2021-06-06T00:37:49.284516Z",
     "iopub.status.idle": "2021-06-06T00:37:49.948987Z",
     "shell.execute_reply": "2021-06-06T00:37:49.948336Z"
    },
    "papermill": {
     "duration": 0.709383,
     "end_time": "2021-06-06T00:37:49.949169",
     "exception": false,
     "start_time": "2021-06-06T00:37:49.239786",
     "status": "completed"
    },
    "tags": []
   },
   "outputs": [],
   "source": [
    "#hide\n",
    "import pandas as pd\n",
    "import matplotlib.pyplot as plt\n",
    "import matplotlib.ticker as ticker\n",
    "import matplotlib.animation as animation\n",
    "from IPython.display import HTML"
   ]
  },
  {
   "cell_type": "code",
   "execution_count": 21,
   "id": "lasting-extraction",
   "metadata": {
    "execution": {
     "iopub.execute_input": "2021-06-06T00:37:50.035168Z",
     "iopub.status.busy": "2021-06-06T00:37:50.034339Z",
     "iopub.status.idle": "2021-06-06T00:37:50.040787Z",
     "shell.execute_reply": "2021-06-06T00:37:50.040217Z"
    },
    "papermill": {
     "duration": 0.050317,
     "end_time": "2021-06-06T00:37:50.040936",
     "exception": false,
     "start_time": "2021-06-06T00:37:49.990619",
     "status": "completed"
    },
    "tags": []
   },
   "outputs": [],
   "source": [
    "#hide\n",
    "t = everydaycases.stack()"
   ]
  },
  {
   "cell_type": "code",
   "execution_count": 22,
   "id": "premier-sleeve",
   "metadata": {
    "execution": {
     "iopub.execute_input": "2021-06-06T00:37:50.122627Z",
     "iopub.status.busy": "2021-06-06T00:37:50.121951Z",
     "iopub.status.idle": "2021-06-06T00:37:50.130723Z",
     "shell.execute_reply": "2021-06-06T00:37:50.130219Z"
    },
    "papermill": {
     "duration": 0.050749,
     "end_time": "2021-06-06T00:37:50.130844",
     "exception": false,
     "start_time": "2021-06-06T00:37:50.080095",
     "status": "completed"
    },
    "tags": []
   },
   "outputs": [],
   "source": [
    "#hide\n",
    "g = t.reset_index(['Country/Region'])"
   ]
  },
  {
   "cell_type": "code",
   "execution_count": 23,
   "id": "distributed-pittsburgh",
   "metadata": {
    "execution": {
     "iopub.execute_input": "2021-06-06T00:37:50.213163Z",
     "iopub.status.busy": "2021-06-06T00:37:50.212570Z",
     "iopub.status.idle": "2021-06-06T00:37:50.214849Z",
     "shell.execute_reply": "2021-06-06T00:37:50.214377Z"
    },
    "papermill": {
     "duration": 0.04506,
     "end_time": "2021-06-06T00:37:50.214961",
     "exception": false,
     "start_time": "2021-06-06T00:37:50.169901",
     "status": "completed"
    },
    "tags": []
   },
   "outputs": [],
   "source": [
    "#hide\n",
    "g.index.name = 'date'"
   ]
  },
  {
   "cell_type": "code",
   "execution_count": 24,
   "id": "naked-donor",
   "metadata": {
    "execution": {
     "iopub.execute_input": "2021-06-06T00:37:50.294548Z",
     "iopub.status.busy": "2021-06-06T00:37:50.293902Z",
     "iopub.status.idle": "2021-06-06T00:37:50.295933Z",
     "shell.execute_reply": "2021-06-06T00:37:50.296417Z"
    },
    "papermill": {
     "duration": 0.044568,
     "end_time": "2021-06-06T00:37:50.296615",
     "exception": false,
     "start_time": "2021-06-06T00:37:50.252047",
     "status": "completed"
    },
    "tags": []
   },
   "outputs": [],
   "source": [
    "# #hide\n",
    "# g = g.reset_index(['date'])"
   ]
  },
  {
   "cell_type": "code",
   "execution_count": 25,
   "id": "incomplete-mustang",
   "metadata": {
    "execution": {
     "iopub.execute_input": "2021-06-06T00:37:50.376886Z",
     "iopub.status.busy": "2021-06-06T00:37:50.376283Z",
     "iopub.status.idle": "2021-06-06T00:37:50.378539Z",
     "shell.execute_reply": "2021-06-06T00:37:50.379051Z"
    },
    "papermill": {
     "duration": 0.045062,
     "end_time": "2021-06-06T00:37:50.379180",
     "exception": false,
     "start_time": "2021-06-06T00:37:50.334118",
     "status": "completed"
    },
    "tags": []
   },
   "outputs": [],
   "source": [
    "#hide\n",
    "# g.head()"
   ]
  },
  {
   "cell_type": "code",
   "execution_count": 26,
   "id": "specific-kruger",
   "metadata": {
    "execution": {
     "iopub.execute_input": "2021-06-06T00:37:50.458002Z",
     "iopub.status.busy": "2021-06-06T00:37:50.457419Z",
     "iopub.status.idle": "2021-06-06T00:37:50.460350Z",
     "shell.execute_reply": "2021-06-06T00:37:50.459681Z"
    },
    "papermill": {
     "duration": 0.044819,
     "end_time": "2021-06-06T00:37:50.460517",
     "exception": false,
     "start_time": "2021-06-06T00:37:50.415698",
     "status": "completed"
    },
    "tags": []
   },
   "outputs": [],
   "source": [
    "#hide\n",
    "# g.columns = ['date','country','cases']"
   ]
  },
  {
   "cell_type": "code",
   "execution_count": 27,
   "id": "tender-conversion",
   "metadata": {
    "execution": {
     "iopub.execute_input": "2021-06-06T00:37:50.546114Z",
     "iopub.status.busy": "2021-06-06T00:37:50.545379Z",
     "iopub.status.idle": "2021-06-06T00:37:50.547925Z",
     "shell.execute_reply": "2021-06-06T00:37:50.547161Z"
    },
    "papermill": {
     "duration": 0.04495,
     "end_time": "2021-06-06T00:37:50.548078",
     "exception": false,
     "start_time": "2021-06-06T00:37:50.503128",
     "status": "completed"
    },
    "tags": []
   },
   "outputs": [],
   "source": [
    "#hide\n",
    "# g['continent'] = g.country"
   ]
  },
  {
   "cell_type": "code",
   "execution_count": 28,
   "id": "substantial-wilderness",
   "metadata": {
    "execution": {
     "iopub.execute_input": "2021-06-06T00:37:50.633334Z",
     "iopub.status.busy": "2021-06-06T00:37:50.632561Z",
     "iopub.status.idle": "2021-06-06T00:37:50.634989Z",
     "shell.execute_reply": "2021-06-06T00:37:50.635607Z"
    },
    "papermill": {
     "duration": 0.048564,
     "end_time": "2021-06-06T00:37:50.635749",
     "exception": false,
     "start_time": "2021-06-06T00:37:50.587185",
     "status": "completed"
    },
    "tags": []
   },
   "outputs": [],
   "source": [
    "#hide\n",
    "# cols = list(g.columns.values)"
   ]
  },
  {
   "cell_type": "code",
   "execution_count": 29,
   "id": "solved-farming",
   "metadata": {
    "execution": {
     "iopub.execute_input": "2021-06-06T00:37:50.725041Z",
     "iopub.status.busy": "2021-06-06T00:37:50.723944Z",
     "iopub.status.idle": "2021-06-06T00:37:50.725708Z",
     "shell.execute_reply": "2021-06-06T00:37:50.726349Z"
    },
    "papermill": {
     "duration": 0.049132,
     "end_time": "2021-06-06T00:37:50.726499",
     "exception": false,
     "start_time": "2021-06-06T00:37:50.677367",
     "status": "completed"
    },
    "tags": []
   },
   "outputs": [],
   "source": [
    "#hide\n",
    "# cols.insert(0, cols.pop())"
   ]
  },
  {
   "cell_type": "code",
   "execution_count": 30,
   "id": "executed-adoption",
   "metadata": {
    "execution": {
     "iopub.execute_input": "2021-06-06T00:37:50.813331Z",
     "iopub.status.busy": "2021-06-06T00:37:50.812611Z",
     "iopub.status.idle": "2021-06-06T00:37:50.814512Z",
     "shell.execute_reply": "2021-06-06T00:37:50.815114Z"
    },
    "papermill": {
     "duration": 0.047784,
     "end_time": "2021-06-06T00:37:50.815263",
     "exception": false,
     "start_time": "2021-06-06T00:37:50.767479",
     "status": "completed"
    },
    "tags": []
   },
   "outputs": [],
   "source": [
    "#hide\n",
    "# g = g[cols]"
   ]
  },
  {
   "cell_type": "code",
   "execution_count": 31,
   "id": "subject-dublin",
   "metadata": {
    "execution": {
     "iopub.execute_input": "2021-06-06T00:37:50.901564Z",
     "iopub.status.busy": "2021-06-06T00:37:50.900885Z",
     "iopub.status.idle": "2021-06-06T00:37:50.903284Z",
     "shell.execute_reply": "2021-06-06T00:37:50.902689Z"
    },
    "papermill": {
     "duration": 0.045385,
     "end_time": "2021-06-06T00:37:50.903406",
     "exception": false,
     "start_time": "2021-06-06T00:37:50.858021",
     "status": "completed"
    },
    "tags": []
   },
   "outputs": [],
   "source": [
    "#hide\n",
    "# g['continent'] = g['continent'].map(mapping['map.continent'])"
   ]
  },
  {
   "cell_type": "code",
   "execution_count": 32,
   "id": "freelance-scout",
   "metadata": {
    "execution": {
     "iopub.execute_input": "2021-06-06T00:37:50.986606Z",
     "iopub.status.busy": "2021-06-06T00:37:50.985976Z",
     "iopub.status.idle": "2021-06-06T00:37:50.989149Z",
     "shell.execute_reply": "2021-06-06T00:37:50.988539Z"
    },
    "papermill": {
     "duration": 0.045696,
     "end_time": "2021-06-06T00:37:50.989279",
     "exception": false,
     "start_time": "2021-06-06T00:37:50.943583",
     "status": "completed"
    },
    "tags": []
   },
   "outputs": [],
   "source": [
    "#hide\n",
    "# g.head()"
   ]
  },
  {
   "cell_type": "code",
   "execution_count": 33,
   "id": "limited-engine",
   "metadata": {
    "execution": {
     "iopub.execute_input": "2021-06-06T00:37:51.076734Z",
     "iopub.status.busy": "2021-06-06T00:37:51.076027Z",
     "iopub.status.idle": "2021-06-06T00:37:51.078665Z",
     "shell.execute_reply": "2021-06-06T00:37:51.077921Z"
    },
    "papermill": {
     "duration": 0.047703,
     "end_time": "2021-06-06T00:37:51.078799",
     "exception": false,
     "start_time": "2021-06-06T00:37:51.031096",
     "status": "completed"
    },
    "tags": []
   },
   "outputs": [],
   "source": [
    "# hide\n",
    "# g['date'] = g['date'].astype('datetime64[ns]')"
   ]
  },
  {
   "cell_type": "code",
   "execution_count": 34,
   "id": "sophisticated-supervisor",
   "metadata": {
    "execution": {
     "iopub.execute_input": "2021-06-06T00:37:51.164982Z",
     "iopub.status.busy": "2021-06-06T00:37:51.164352Z",
     "iopub.status.idle": "2021-06-06T00:37:51.166319Z",
     "shell.execute_reply": "2021-06-06T00:37:51.166829Z"
    },
    "papermill": {
     "duration": 0.047343,
     "end_time": "2021-06-06T00:37:51.166963",
     "exception": false,
     "start_time": "2021-06-06T00:37:51.119620",
     "status": "completed"
    },
    "tags": []
   },
   "outputs": [],
   "source": [
    "#hide\n",
    "# g['date'] = g.date.dt.dayofyear"
   ]
  },
  {
   "cell_type": "code",
   "execution_count": 35,
   "id": "inside-dubai",
   "metadata": {
    "execution": {
     "iopub.execute_input": "2021-06-06T00:37:51.250999Z",
     "iopub.status.busy": "2021-06-06T00:37:51.250379Z",
     "iopub.status.idle": "2021-06-06T00:37:51.252784Z",
     "shell.execute_reply": "2021-06-06T00:37:51.252127Z"
    },
    "papermill": {
     "duration": 0.04568,
     "end_time": "2021-06-06T00:37:51.252931",
     "exception": false,
     "start_time": "2021-06-06T00:37:51.207251",
     "status": "completed"
    },
    "tags": []
   },
   "outputs": [],
   "source": [
    "#hide\n",
    "# g = g.rename(columns= {'continent':'group','country':'name','cases':'value'})"
   ]
  },
  {
   "cell_type": "code",
   "execution_count": 36,
   "id": "fleet-motorcycle",
   "metadata": {
    "execution": {
     "iopub.execute_input": "2021-06-06T00:37:51.339141Z",
     "iopub.status.busy": "2021-06-06T00:37:51.338475Z",
     "iopub.status.idle": "2021-06-06T00:37:51.341261Z",
     "shell.execute_reply": "2021-06-06T00:37:51.340534Z"
    },
    "papermill": {
     "duration": 0.048069,
     "end_time": "2021-06-06T00:37:51.341423",
     "exception": false,
     "start_time": "2021-06-06T00:37:51.293354",
     "status": "completed"
    },
    "tags": []
   },
   "outputs": [],
   "source": [
    "#hide\n",
    "# cols = ['name','group','day','value']"
   ]
  },
  {
   "cell_type": "code",
   "execution_count": 37,
   "id": "continued-sleeping",
   "metadata": {
    "execution": {
     "iopub.execute_input": "2021-06-06T00:37:51.429565Z",
     "iopub.status.busy": "2021-06-06T00:37:51.428744Z",
     "iopub.status.idle": "2021-06-06T00:37:51.431235Z",
     "shell.execute_reply": "2021-06-06T00:37:51.430641Z"
    },
    "papermill": {
     "duration": 0.046912,
     "end_time": "2021-06-06T00:37:51.431356",
     "exception": false,
     "start_time": "2021-06-06T00:37:51.384444",
     "status": "completed"
    },
    "tags": []
   },
   "outputs": [],
   "source": [
    "#hide\n",
    "# g.rename(columns= {'date':'day'},inplace = True)"
   ]
  },
  {
   "cell_type": "code",
   "execution_count": 38,
   "id": "major-fight",
   "metadata": {
    "execution": {
     "iopub.execute_input": "2021-06-06T00:37:51.517750Z",
     "iopub.status.busy": "2021-06-06T00:37:51.517080Z",
     "iopub.status.idle": "2021-06-06T00:37:51.519483Z",
     "shell.execute_reply": "2021-06-06T00:37:51.518814Z"
    },
    "papermill": {
     "duration": 0.048663,
     "end_time": "2021-06-06T00:37:51.519637",
     "exception": false,
     "start_time": "2021-06-06T00:37:51.470974",
     "status": "completed"
    },
    "tags": []
   },
   "outputs": [],
   "source": [
    "#hide\n",
    "# g = g[cols]"
   ]
  },
  {
   "cell_type": "code",
   "execution_count": 39,
   "id": "structured-mobile",
   "metadata": {
    "execution": {
     "iopub.execute_input": "2021-06-06T00:37:51.604105Z",
     "iopub.status.busy": "2021-06-06T00:37:51.603328Z",
     "iopub.status.idle": "2021-06-06T00:37:51.606006Z",
     "shell.execute_reply": "2021-06-06T00:37:51.605367Z"
    },
    "papermill": {
     "duration": 0.045888,
     "end_time": "2021-06-06T00:37:51.606133",
     "exception": false,
     "start_time": "2021-06-06T00:37:51.560245",
     "status": "completed"
    },
    "tags": []
   },
   "outputs": [],
   "source": [
    "# #hide\n",
    "# g = g[g.group.notna()]"
   ]
  },
  {
   "cell_type": "code",
   "execution_count": 40,
   "id": "determined-closing",
   "metadata": {
    "execution": {
     "iopub.execute_input": "2021-06-06T00:37:51.693025Z",
     "iopub.status.busy": "2021-06-06T00:37:51.692382Z",
     "iopub.status.idle": "2021-06-06T00:37:51.695367Z",
     "shell.execute_reply": "2021-06-06T00:37:51.694747Z"
    },
    "papermill": {
     "duration": 0.049022,
     "end_time": "2021-06-06T00:37:51.695517",
     "exception": false,
     "start_time": "2021-06-06T00:37:51.646495",
     "status": "completed"
    },
    "tags": []
   },
   "outputs": [],
   "source": [
    "# #hide\n",
    "# colors = dict(zip(\n",
    "#     [\"Oceania\", \"Europe\", \"Asia\", \"South America\", \"Middle East\", \"North America\", \"Africa\"],\n",
    "#     [\"#adb0ff\", \"#ffb3ff\", \"#90d595\", \"#e48381\", \"#aafbff\", \"#f7bb5f\", \"#eafb50\"]\n",
    "# ))\n",
    "# group_lk = g.set_index('name')['group'].to_dict()"
   ]
  },
  {
   "cell_type": "code",
   "execution_count": null,
   "id": "gross-drinking",
   "metadata": {
    "papermill": {
     "duration": 0.041172,
     "end_time": "2021-06-06T00:37:51.778155",
     "exception": false,
     "start_time": "2021-06-06T00:37:51.736983",
     "status": "completed"
    },
    "tags": []
   },
   "outputs": [],
   "source": []
  },
  {
   "cell_type": "code",
   "execution_count": 41,
   "id": "subject-macintosh",
   "metadata": {
    "execution": {
     "iopub.execute_input": "2021-06-06T00:37:51.865272Z",
     "iopub.status.busy": "2021-06-06T00:37:51.864566Z",
     "iopub.status.idle": "2021-06-06T00:37:51.866666Z",
     "shell.execute_reply": "2021-06-06T00:37:51.867212Z"
    },
    "papermill": {
     "duration": 0.047475,
     "end_time": "2021-06-06T00:37:51.867347",
     "exception": false,
     "start_time": "2021-06-06T00:37:51.819872",
     "status": "completed"
    },
    "tags": []
   },
   "outputs": [],
   "source": [
    "# #hide\n",
    "# fig, ax = plt.subplots(figsize=(15, 8))\n",
    "\n",
    "# def draw_barchart(current_day):\n",
    "#     dff = g[g['day'].eq(current_day)].sort_values(by='value', ascending=True).tail(10)\n",
    "#     ax.clear()\n",
    "#     ax.barh(dff['name'], dff['value'], color=[colors[group_lk[x]] for x in dff['name']])\n",
    "#     dx = dff['value'].max() / 200\n",
    "    \n",
    "#     for i, (value, name) in enumerate(zip(dff['value'], dff['name'])):\n",
    "#         ax.text(value-dx, i,     name,           size=14, weight=600, ha='right', va='bottom')\n",
    "#         ax.text(value-dx, i-.25, group_lk[name], size=10, color='#444444', ha='right', va='baseline')\n",
    "#         ax.text(value+dx, i,     f'{value:,.0f}',  size=14, ha='left',  va='center')\n",
    "#     ax.text(1, 0.4, current_day, transform=ax.transAxes, color='#777777', size=46, ha='right', weight=800)\n",
    "#     ax.text(0, 1.06, 'Population (thousands)', transform=ax.transAxes, size=12, color='#777777')\n",
    "#     ax.xaxis.set_major_formatter(ticker.StrMethodFormatter('{x:,.0f}'))\n",
    "#     ax.xaxis.set_ticks_position('top')\n",
    "#     ax.tick_params(axis='x', colors='#777777', labelsize=12)\n",
    "#     ax.set_yticks([])\n",
    "#     ax.margins(0, 0.01)\n",
    "#     ax.grid(which='major', axis='x', linestyle='-')\n",
    "#     ax.set_axisbelow(True)\n",
    "    \n",
    "#     ax.text(0, 1.15, 'Coronavirus',\n",
    "#             transform=ax.transAxes, size=24, weight=600, ha='left', va='top')\n",
    "# #     ax.text(1, 0, 'by @pratapvardhan; credit @jburnmurdoch', transform=ax.transAxes, color='#777777', ha='right',\n",
    "# #             bbox=dict(facecolor='white', alpha=0.8, edgecolor='white'))\n",
    "#     plt.box(False)"
   ]
  },
  {
   "cell_type": "code",
   "execution_count": 42,
   "id": "sexual-wages",
   "metadata": {
    "execution": {
     "iopub.execute_input": "2021-06-06T00:37:51.951879Z",
     "iopub.status.busy": "2021-06-06T00:37:51.951073Z",
     "iopub.status.idle": "2021-06-06T00:37:51.956647Z",
     "shell.execute_reply": "2021-06-06T00:37:51.956014Z"
    },
    "papermill": {
     "duration": 0.04968,
     "end_time": "2021-06-06T00:37:51.956822",
     "exception": false,
     "start_time": "2021-06-06T00:37:51.907142",
     "status": "completed"
    },
    "tags": []
   },
   "outputs": [],
   "source": [
    "# #hide_input\n",
    "# fig, ax = plt.subplots(figsize=(15, 8))\n",
    "# animator = animation.FuncAnimation(fig, draw_barchart, frames=range(g.day.values.min(), g.day.values.max()))\n",
    "# HTML(animator.to_jshtml())\n",
    "# # or use animator.to_html5_video() or animator.save() "
   ]
  },
  {
   "cell_type": "code",
   "execution_count": null,
   "id": "australian-container",
   "metadata": {
    "papermill": {
     "duration": 0.04014,
     "end_time": "2021-06-06T00:37:52.037081",
     "exception": false,
     "start_time": "2021-06-06T00:37:51.996941",
     "status": "completed"
    },
    "tags": []
   },
   "outputs": [],
   "source": []
  },
  {
   "cell_type": "code",
   "execution_count": null,
   "id": "mediterranean-pontiac",
   "metadata": {
    "papermill": {
     "duration": 0.040546,
     "end_time": "2021-06-06T00:37:52.124235",
     "exception": false,
     "start_time": "2021-06-06T00:37:52.083689",
     "status": "completed"
    },
    "tags": []
   },
   "outputs": [],
   "source": []
  },
  {
   "cell_type": "code",
   "execution_count": null,
   "id": "aging-legislature",
   "metadata": {
    "papermill": {
     "duration": 0.041,
     "end_time": "2021-06-06T00:37:52.205994",
     "exception": false,
     "start_time": "2021-06-06T00:37:52.164994",
     "status": "completed"
    },
    "tags": []
   },
   "outputs": [],
   "source": []
  }
 ],
 "metadata": {
  "kernelspec": {
   "display_name": "Python 3",
   "language": "python",
   "name": "python3"
  },
  "language_info": {
   "codemirror_mode": {
    "name": "ipython",
    "version": 3
   },
   "file_extension": ".py",
   "mimetype": "text/x-python",
   "name": "python",
   "nbconvert_exporter": "python",
   "pygments_lexer": "ipython3",
   "version": "3.6.13"
  },
  "papermill": {
   "duration": 7.079554,
   "end_time": "2021-06-06T00:37:52.554340",
   "environment_variables": {},
   "exception": null,
   "input_path": "2020-03-21-covid19exp.ipynb",
   "output_path": "2020-03-21-covid19exp.ipynb",
   "parameters": {},
   "start_time": "2021-06-06T00:37:45.474786",
   "version": "2.0.0"
  }
 },
 "nbformat": 4,
 "nbformat_minor": 5
}