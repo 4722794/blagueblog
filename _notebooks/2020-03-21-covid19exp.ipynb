{
 "cells": [
  {
   "cell_type": "markdown",
   "id": "muslim-click",
   "metadata": {
    "papermill": {
     "duration": 0.046517,
     "end_time": "2022-06-09T00:41:50.316349",
     "exception": false,
     "start_time": "2022-06-09T00:41:50.269832",
     "status": "completed"
    },
    "tags": []
   },
   "source": [
    "# COVID-19 Case Race\n",
    "> A race chart to see rising cases around the world\n",
    "\n",
    "- author: Hargun Oberoi\n",
    "- image: images/covid-overview.png\n",
    "- hide: false\n",
    "- badges: false"
   ]
  },
  {
   "cell_type": "code",
   "execution_count": 1,
   "id": "proof-material",
   "metadata": {
    "execution": {
     "iopub.execute_input": "2022-06-09T00:41:50.419304Z",
     "iopub.status.busy": "2022-06-09T00:41:50.418426Z",
     "iopub.status.idle": "2022-06-09T00:41:50.844188Z",
     "shell.execute_reply": "2022-06-09T00:41:50.843561Z"
    },
    "papermill": {
     "duration": 0.484608,
     "end_time": "2022-06-09T00:41:50.844358",
     "exception": false,
     "start_time": "2022-06-09T00:41:50.359750",
     "status": "completed"
    },
    "tags": []
   },
   "outputs": [],
   "source": [
    "#hide\n",
    "import numpy as np\n",
    "import pandas as pd\n",
    "from jinja2 import Template\n",
    "from IPython.display import HTML"
   ]
  },
  {
   "cell_type": "code",
   "execution_count": 2,
   "id": "developed-terminology",
   "metadata": {
    "execution": {
     "iopub.execute_input": "2022-06-09T00:41:50.933491Z",
     "iopub.status.busy": "2022-06-09T00:41:50.931289Z",
     "iopub.status.idle": "2022-06-09T00:41:50.935571Z",
     "shell.execute_reply": "2022-06-09T00:41:50.934912Z"
    },
    "papermill": {
     "duration": 0.052198,
     "end_time": "2022-06-09T00:41:50.935700",
     "exception": false,
     "start_time": "2022-06-09T00:41:50.883502",
     "status": "completed"
    },
    "tags": []
   },
   "outputs": [],
   "source": [
    "#hide\n",
    "\n",
    "# FETCH\n",
    "base_url = 'https://raw.githubusercontent.com/pratapvardhan/notebooks/master/covid19/'\n",
    "paths = {\n",
    "    'mapping': base_url + 'mapping_countries.csv',\n",
    "    'overview': base_url + 'overview.tpl'\n",
    "}"
   ]
  },
  {
   "cell_type": "code",
   "execution_count": 3,
   "id": "dynamic-saver",
   "metadata": {
    "execution": {
     "iopub.execute_input": "2022-06-09T00:41:51.020942Z",
     "iopub.status.busy": "2022-06-09T00:41:51.020013Z",
     "iopub.status.idle": "2022-06-09T00:41:51.024696Z",
     "shell.execute_reply": "2022-06-09T00:41:51.023665Z"
    },
    "papermill": {
     "duration": 0.053471,
     "end_time": "2022-06-09T00:41:51.024848",
     "exception": false,
     "start_time": "2022-06-09T00:41:50.971377",
     "status": "completed"
    },
    "tags": []
   },
   "outputs": [
    {
     "data": {
      "text/plain": [
       "'https://raw.githubusercontent.com/pratapvardhan/notebooks/master/covid19/mapping_countries.csv'"
      ]
     },
     "execution_count": 3,
     "metadata": {},
     "output_type": "execute_result"
    }
   ],
   "source": [
    "#hide\n",
    "paths['mapping']"
   ]
  },
  {
   "cell_type": "code",
   "execution_count": 4,
   "id": "urban-software",
   "metadata": {
    "execution": {
     "iopub.execute_input": "2022-06-09T00:41:51.109302Z",
     "iopub.status.busy": "2022-06-09T00:41:51.108480Z",
     "iopub.status.idle": "2022-06-09T00:41:51.111562Z",
     "shell.execute_reply": "2022-06-09T00:41:51.110965Z"
    },
    "papermill": {
     "duration": 0.048033,
     "end_time": "2022-06-09T00:41:51.111697",
     "exception": false,
     "start_time": "2022-06-09T00:41:51.063664",
     "status": "completed"
    },
    "tags": []
   },
   "outputs": [],
   "source": [
    "#hide\n",
    "def get_mappings(url):\n",
    "    df = pd.read_csv(url)\n",
    "    return {\n",
    "        'df': df,\n",
    "        'replace.country': dict(df.dropna(subset=['Name']).set_index('Country')['Name']),\n",
    "        'map.continent': dict(df.set_index('Name')['Continent'])\n",
    "    }"
   ]
  },
  {
   "cell_type": "code",
   "execution_count": 5,
   "id": "intimate-machinery",
   "metadata": {
    "execution": {
     "iopub.execute_input": "2022-06-09T00:41:51.194692Z",
     "iopub.status.busy": "2022-06-09T00:41:51.193846Z",
     "iopub.status.idle": "2022-06-09T00:41:51.225044Z",
     "shell.execute_reply": "2022-06-09T00:41:51.225709Z"
    },
    "papermill": {
     "duration": 0.074774,
     "end_time": "2022-06-09T00:41:51.225866",
     "exception": false,
     "start_time": "2022-06-09T00:41:51.151092",
     "status": "completed"
    },
    "tags": []
   },
   "outputs": [],
   "source": [
    "#hide\n",
    "mapping = get_mappings(paths['mapping'])"
   ]
  },
  {
   "cell_type": "code",
   "execution_count": 6,
   "id": "certified-tactics",
   "metadata": {
    "execution": {
     "iopub.execute_input": "2022-06-09T00:41:51.304908Z",
     "iopub.status.busy": "2022-06-09T00:41:51.304217Z",
     "iopub.status.idle": "2022-06-09T00:41:51.307379Z",
     "shell.execute_reply": "2022-06-09T00:41:51.306621Z"
    },
    "papermill": {
     "duration": 0.043422,
     "end_time": "2022-06-09T00:41:51.307503",
     "exception": false,
     "start_time": "2022-06-09T00:41:51.264081",
     "status": "completed"
    },
    "tags": []
   },
   "outputs": [],
   "source": [
    "#hide\n",
    "def get_template(path):\n",
    "    from urllib.parse import urlparse\n",
    "    if bool(urlparse(path).netloc):\n",
    "        from urllib.request import urlopen\n",
    "        return urlopen(path).read().decode('utf8')\n",
    "    return open(path).read()"
   ]
  },
  {
   "cell_type": "code",
   "execution_count": 7,
   "id": "realistic-blast",
   "metadata": {
    "execution": {
     "iopub.execute_input": "2022-06-09T00:41:51.389137Z",
     "iopub.status.busy": "2022-06-09T00:41:51.388385Z",
     "iopub.status.idle": "2022-06-09T00:41:51.391799Z",
     "shell.execute_reply": "2022-06-09T00:41:51.391227Z"
    },
    "papermill": {
     "duration": 0.044922,
     "end_time": "2022-06-09T00:41:51.391935",
     "exception": false,
     "start_time": "2022-06-09T00:41:51.347013",
     "status": "completed"
    },
    "tags": []
   },
   "outputs": [],
   "source": [
    "#hide\n",
    "def get_frame(name):\n",
    "    url = (\n",
    "        'https://raw.githubusercontent.com/CSSEGISandData/COVID-19/master/csse_covid_19_data/'\n",
    "        f'csse_covid_19_time_series/time_series_covid19_{name}_global.csv')\n",
    "    df = pd.read_csv(url)\n",
    "    # rename countries\n",
    "    df['Country/Region'] = df['Country/Region'].replace(mapping['replace.country'])\n",
    "    return df"
   ]
  },
  {
   "cell_type": "code",
   "execution_count": 8,
   "id": "affiliated-characterization",
   "metadata": {
    "execution": {
     "iopub.execute_input": "2022-06-09T00:41:51.478408Z",
     "iopub.status.busy": "2022-06-09T00:41:51.477449Z",
     "iopub.status.idle": "2022-06-09T00:41:51.481280Z",
     "shell.execute_reply": "2022-06-09T00:41:51.480654Z"
    },
    "papermill": {
     "duration": 0.051501,
     "end_time": "2022-06-09T00:41:51.481405",
     "exception": false,
     "start_time": "2022-06-09T00:41:51.429904",
     "status": "completed"
    },
    "tags": []
   },
   "outputs": [],
   "source": [
    "#hide\n",
    "def get_dates(df):\n",
    "    dt_cols = df.columns[~df.columns.isin(['Province/State', 'Country/Region', 'Lat', 'Long'])]\n",
    "    LAST_DATE_I = -1\n",
    "    # sometimes last column may be empty, then go backwards\n",
    "    for i in range(-1, -len(dt_cols), -1):\n",
    "        if not df[dt_cols[i]].fillna(0).eq(0).all():\n",
    "            LAST_DATE_I = i\n",
    "            break\n",
    "    return LAST_DATE_I, dt_cols"
   ]
  },
  {
   "cell_type": "code",
   "execution_count": 9,
   "id": "recent-optimization",
   "metadata": {
    "execution": {
     "iopub.execute_input": "2022-06-09T00:41:51.565910Z",
     "iopub.status.busy": "2022-06-09T00:41:51.565014Z",
     "iopub.status.idle": "2022-06-09T00:41:51.992671Z",
     "shell.execute_reply": "2022-06-09T00:41:51.992064Z"
    },
    "papermill": {
     "duration": 0.473098,
     "end_time": "2022-06-09T00:41:51.992909",
     "exception": false,
     "start_time": "2022-06-09T00:41:51.519811",
     "status": "completed"
    },
    "tags": []
   },
   "outputs": [],
   "source": [
    "#hide\n",
    "COL_REGION = 'Country/Region'\n",
    "# Confirmed, Recovered, Deaths\n",
    "df = get_frame('confirmed')\n",
    "# dft_: timeseries, dfc_: today country agg\n",
    "dft_cases = df\n",
    "dft_deaths = get_frame('deaths')\n",
    "dft_recovered = get_frame('recovered')\n",
    "LAST_DATE_I, dt_cols = get_dates(df)"
   ]
  },
  {
   "cell_type": "code",
   "execution_count": 10,
   "id": "absolute-copper",
   "metadata": {
    "execution": {
     "iopub.execute_input": "2022-06-09T00:41:52.078028Z",
     "iopub.status.busy": "2022-06-09T00:41:52.077318Z",
     "iopub.status.idle": "2022-06-09T00:41:52.082171Z",
     "shell.execute_reply": "2022-06-09T00:41:52.081524Z"
    },
    "papermill": {
     "duration": 0.052612,
     "end_time": "2022-06-09T00:41:52.082336",
     "exception": false,
     "start_time": "2022-06-09T00:41:52.029724",
     "status": "completed"
    },
    "tags": []
   },
   "outputs": [],
   "source": [
    "#hide\n",
    "LAST_DATE_I, dt_cols = get_dates(df)\n",
    "dt_today =dt_cols[LAST_DATE_I]\n",
    "# dt_5day = dt_cols[LAST_DATE_I - 5]\n",
    "dt_yday = dt_cols[LAST_DATE_I - 1]"
   ]
  },
  {
   "cell_type": "code",
   "execution_count": 11,
   "id": "restricted-sheriff",
   "metadata": {
    "execution": {
     "iopub.execute_input": "2022-06-09T00:41:52.170802Z",
     "iopub.status.busy": "2022-06-09T00:41:52.169987Z",
     "iopub.status.idle": "2022-06-09T00:41:52.176154Z",
     "shell.execute_reply": "2022-06-09T00:41:52.176904Z"
    },
    "papermill": {
     "duration": 0.057826,
     "end_time": "2022-06-09T00:41:52.177061",
     "exception": false,
     "start_time": "2022-06-09T00:41:52.119235",
     "status": "completed"
    },
    "tags": []
   },
   "outputs": [],
   "source": [
    "#hide\n",
    "dfc_cases = dft_cases.groupby(COL_REGION)[dt_today].sum()\n",
    "dfc_deaths = dft_deaths.groupby(COL_REGION)[dt_today].sum()\n",
    "# dfp_cases = dft_cases.groupby(COL_REGION)[dt_5day].sum()\n",
    "# dfp_deaths = dft_deaths.groupby(COL_REGION)[dt_5day].sum()\n",
    "dfp_cases = dft_cases.groupby(COL_REGION)[dt_yday].sum()\n",
    "dfp_deaths = dft_deaths.groupby(COL_REGION)[dt_yday].sum()"
   ]
  },
  {
   "cell_type": "code",
   "execution_count": 12,
   "id": "deluxe-hepatitis",
   "metadata": {
    "execution": {
     "iopub.execute_input": "2022-06-09T00:41:52.259727Z",
     "iopub.status.busy": "2022-06-09T00:41:52.259002Z",
     "iopub.status.idle": "2022-06-09T00:41:52.264598Z",
     "shell.execute_reply": "2022-06-09T00:41:52.265234Z"
    },
    "papermill": {
     "duration": 0.051022,
     "end_time": "2022-06-09T00:41:52.265470",
     "exception": false,
     "start_time": "2022-06-09T00:41:52.214448",
     "status": "completed"
    },
    "tags": []
   },
   "outputs": [],
   "source": [
    "#hide\n",
    "df_table = (pd.DataFrame(dict(Cases = dfc_cases, Deaths = dfc_deaths, PCases = dfp_cases, PDeaths = dfp_deaths))\n",
    "            .sort_values(by = ['Cases','Deaths'], ascending = [False, False])\n",
    "            .reset_index())"
   ]
  },
  {
   "cell_type": "code",
   "execution_count": 13,
   "id": "educational-chancellor",
   "metadata": {
    "execution": {
     "iopub.execute_input": "2022-06-09T00:41:52.358651Z",
     "iopub.status.busy": "2022-06-09T00:41:52.357859Z",
     "iopub.status.idle": "2022-06-09T00:41:52.367238Z",
     "shell.execute_reply": "2022-06-09T00:41:52.367956Z"
    },
    "papermill": {
     "duration": 0.069023,
     "end_time": "2022-06-09T00:41:52.368105",
     "exception": false,
     "start_time": "2022-06-09T00:41:52.299082",
     "status": "completed"
    },
    "tags": []
   },
   "outputs": [
    {
     "data": {
      "text/html": [
       "<div>\n",
       "<style scoped>\n",
       "    .dataframe tbody tr th:only-of-type {\n",
       "        vertical-align: middle;\n",
       "    }\n",
       "\n",
       "    .dataframe tbody tr th {\n",
       "        vertical-align: top;\n",
       "    }\n",
       "\n",
       "    .dataframe thead th {\n",
       "        text-align: right;\n",
       "    }\n",
       "</style>\n",
       "<table border=\"1\" class=\"dataframe\">\n",
       "  <thead>\n",
       "    <tr style=\"text-align: right;\">\n",
       "      <th></th>\n",
       "      <th>Country/Region</th>\n",
       "      <th>Cases</th>\n",
       "      <th>Deaths</th>\n",
       "      <th>PCases</th>\n",
       "      <th>PDeaths</th>\n",
       "      <th>Cases (+)</th>\n",
       "      <th>Deaths (+)</th>\n",
       "      <th>Fatality Rate</th>\n",
       "      <th>Continent</th>\n",
       "    </tr>\n",
       "  </thead>\n",
       "  <tbody>\n",
       "    <tr>\n",
       "      <th>0</th>\n",
       "      <td>US</td>\n",
       "      <td>85003945</td>\n",
       "      <td>1009326</td>\n",
       "      <td>84882287</td>\n",
       "      <td>1008857</td>\n",
       "      <td>121658</td>\n",
       "      <td>469</td>\n",
       "      <td>1.19</td>\n",
       "      <td>North America</td>\n",
       "    </tr>\n",
       "    <tr>\n",
       "      <th>1</th>\n",
       "      <td>India</td>\n",
       "      <td>43190282</td>\n",
       "      <td>524715</td>\n",
       "      <td>43185049</td>\n",
       "      <td>524708</td>\n",
       "      <td>5233</td>\n",
       "      <td>7</td>\n",
       "      <td>1.21</td>\n",
       "      <td>Asia</td>\n",
       "    </tr>\n",
       "    <tr>\n",
       "      <th>2</th>\n",
       "      <td>Brazil</td>\n",
       "      <td>31266163</td>\n",
       "      <td>667348</td>\n",
       "      <td>31195118</td>\n",
       "      <td>667041</td>\n",
       "      <td>71045</td>\n",
       "      <td>307</td>\n",
       "      <td>2.13</td>\n",
       "      <td>South America</td>\n",
       "    </tr>\n",
       "    <tr>\n",
       "      <th>3</th>\n",
       "      <td>France</td>\n",
       "      <td>29852463</td>\n",
       "      <td>149630</td>\n",
       "      <td>29840626</td>\n",
       "      <td>149509</td>\n",
       "      <td>11837</td>\n",
       "      <td>121</td>\n",
       "      <td>0.50</td>\n",
       "      <td>Europe</td>\n",
       "    </tr>\n",
       "    <tr>\n",
       "      <th>4</th>\n",
       "      <td>Germany</td>\n",
       "      <td>26583016</td>\n",
       "      <td>139533</td>\n",
       "      <td>26498361</td>\n",
       "      <td>139388</td>\n",
       "      <td>84655</td>\n",
       "      <td>145</td>\n",
       "      <td>0.52</td>\n",
       "      <td>Europe</td>\n",
       "    </tr>\n",
       "  </tbody>\n",
       "</table>\n",
       "</div>"
      ],
      "text/plain": [
       "  Country/Region     Cases   Deaths    PCases  PDeaths  Cases (+)  Deaths (+)  \\\n",
       "0             US  85003945  1009326  84882287  1008857     121658         469   \n",
       "1          India  43190282   524715  43185049   524708       5233           7   \n",
       "2         Brazil  31266163   667348  31195118   667041      71045         307   \n",
       "3         France  29852463   149630  29840626   149509      11837         121   \n",
       "4        Germany  26583016   139533  26498361   139388      84655         145   \n",
       "\n",
       "   Fatality Rate      Continent  \n",
       "0           1.19  North America  \n",
       "1           1.21           Asia  \n",
       "2           2.13  South America  \n",
       "3           0.50         Europe  \n",
       "4           0.52         Europe  "
      ]
     },
     "execution_count": 13,
     "metadata": {},
     "output_type": "execute_result"
    }
   ],
   "source": [
    "#hide\n",
    "for c in 'Cases, Deaths'.split(', '):\n",
    "    df_table[f'{c} (+)'] = (df_table[c] - df_table[f'P{c}']).clip(0)\n",
    "    #Clip ça veut dire, les chiffres negatif sont interdit\n",
    "df_table['Fatality Rate'] = (100* df_table['Deaths']/ df_table['Cases']).round(2)\n",
    "df_table['Continent'] = df_table['Country/Region'].map(mapping['map.continent'])\n",
    "df_table.head(5)"
   ]
  },
  {
   "cell_type": "code",
   "execution_count": 14,
   "id": "aboriginal-bulgaria",
   "metadata": {
    "execution": {
     "iopub.execute_input": "2022-06-09T00:41:52.450125Z",
     "iopub.status.busy": "2022-06-09T00:41:52.448559Z",
     "iopub.status.idle": "2022-06-09T00:41:52.453276Z",
     "shell.execute_reply": "2022-06-09T00:41:52.453922Z"
    },
    "papermill": {
     "duration": 0.048962,
     "end_time": "2022-06-09T00:41:52.454079",
     "exception": false,
     "start_time": "2022-06-09T00:41:52.405117",
     "status": "completed"
    },
    "tags": []
   },
   "outputs": [],
   "source": [
    "#hide\n",
    "#delete problematic countries from table\n",
    "df_table = df_table[~df_table['Country/Region'].isin(['Cape Verde', 'Cruise Ship', 'Kosovo'])]"
   ]
  },
  {
   "cell_type": "code",
   "execution_count": 15,
   "id": "fantastic-effect",
   "metadata": {
    "execution": {
     "iopub.execute_input": "2022-06-09T00:41:52.551812Z",
     "iopub.status.busy": "2022-06-09T00:41:52.550807Z",
     "iopub.status.idle": "2022-06-09T00:41:52.573552Z",
     "shell.execute_reply": "2022-06-09T00:41:52.574212Z"
    },
    "papermill": {
     "duration": 0.08363,
     "end_time": "2022-06-09T00:41:52.574397",
     "exception": false,
     "start_time": "2022-06-09T00:41:52.490767",
     "status": "completed"
    },
    "tags": []
   },
   "outputs": [
    {
     "data": {
      "text/html": [
       "<div>\n",
       "<style scoped>\n",
       "    .dataframe tbody tr th:only-of-type {\n",
       "        vertical-align: middle;\n",
       "    }\n",
       "\n",
       "    .dataframe tbody tr th {\n",
       "        vertical-align: top;\n",
       "    }\n",
       "\n",
       "    .dataframe thead th {\n",
       "        text-align: right;\n",
       "    }\n",
       "</style>\n",
       "<table border=\"1\" class=\"dataframe\">\n",
       "  <thead>\n",
       "    <tr style=\"text-align: right;\">\n",
       "      <th></th>\n",
       "      <th>Country/Region</th>\n",
       "      <th>Cases</th>\n",
       "      <th>Deaths</th>\n",
       "      <th>PCases</th>\n",
       "      <th>PDeaths</th>\n",
       "      <th>Cases (+)</th>\n",
       "      <th>Deaths (+)</th>\n",
       "      <th>Fatality Rate</th>\n",
       "      <th>Continent</th>\n",
       "    </tr>\n",
       "  </thead>\n",
       "  <tbody>\n",
       "    <tr>\n",
       "      <th>0</th>\n",
       "      <td>US</td>\n",
       "      <td>85003945</td>\n",
       "      <td>1009326</td>\n",
       "      <td>84882287</td>\n",
       "      <td>1008857</td>\n",
       "      <td>121658</td>\n",
       "      <td>469</td>\n",
       "      <td>1.2</td>\n",
       "      <td>North America</td>\n",
       "    </tr>\n",
       "    <tr>\n",
       "      <th>1</th>\n",
       "      <td>India</td>\n",
       "      <td>43190282</td>\n",
       "      <td>524715</td>\n",
       "      <td>43185049</td>\n",
       "      <td>524708</td>\n",
       "      <td>5233</td>\n",
       "      <td>7</td>\n",
       "      <td>1.2</td>\n",
       "      <td>Asia</td>\n",
       "    </tr>\n",
       "    <tr>\n",
       "      <th>2</th>\n",
       "      <td>Brazil</td>\n",
       "      <td>31266163</td>\n",
       "      <td>667348</td>\n",
       "      <td>31195118</td>\n",
       "      <td>667041</td>\n",
       "      <td>71045</td>\n",
       "      <td>307</td>\n",
       "      <td>2.1</td>\n",
       "      <td>South America</td>\n",
       "    </tr>\n",
       "    <tr>\n",
       "      <th>3</th>\n",
       "      <td>France</td>\n",
       "      <td>29852463</td>\n",
       "      <td>149630</td>\n",
       "      <td>29840626</td>\n",
       "      <td>149509</td>\n",
       "      <td>11837</td>\n",
       "      <td>121</td>\n",
       "      <td>0.5</td>\n",
       "      <td>Europe</td>\n",
       "    </tr>\n",
       "    <tr>\n",
       "      <th>4</th>\n",
       "      <td>Germany</td>\n",
       "      <td>26583016</td>\n",
       "      <td>139533</td>\n",
       "      <td>26498361</td>\n",
       "      <td>139388</td>\n",
       "      <td>84655</td>\n",
       "      <td>145</td>\n",
       "      <td>0.5</td>\n",
       "      <td>Europe</td>\n",
       "    </tr>\n",
       "  </tbody>\n",
       "</table>\n",
       "</div>"
      ],
      "text/plain": [
       "  Country/Region     Cases   Deaths    PCases  PDeaths  Cases (+)  Deaths (+)  \\\n",
       "0             US  85003945  1009326  84882287  1008857     121658         469   \n",
       "1          India  43190282   524715  43185049   524708       5233           7   \n",
       "2         Brazil  31266163   667348  31195118   667041      71045         307   \n",
       "3         France  29852463   149630  29840626   149509      11837         121   \n",
       "4        Germany  26583016   139533  26498361   139388      84655         145   \n",
       "\n",
       "   Fatality Rate      Continent  \n",
       "0            1.2  North America  \n",
       "1            1.2           Asia  \n",
       "2            2.1  South America  \n",
       "3            0.5         Europe  \n",
       "4            0.5         Europe  "
      ]
     },
     "execution_count": 15,
     "metadata": {},
     "output_type": "execute_result"
    }
   ],
   "source": [
    "#hide\n",
    "df_table = (pd.DataFrame(dict(Cases=dfc_cases, Deaths=dfc_deaths, PCases=dfp_cases, PDeaths=dfp_deaths))\n",
    "             .sort_values(by=['Cases', 'Deaths'], ascending=[False, False])\n",
    "             .reset_index())\n",
    "df_table.rename(columns={'index': 'Country/Region'}, inplace=True)\n",
    "for c in 'Cases, Deaths'.split(', '):\n",
    "    df_table[f'{c} (+)'] = (df_table[c] - df_table[f'P{c}']).clip(0)  # DATA BUG\n",
    "df_table['Fatality Rate'] = (100 * df_table['Deaths'] / df_table['Cases']).round(1)\n",
    "df_table['Continent'] = df_table['Country/Region'].map(mapping['map.continent'])\n",
    "df_table.head(5)"
   ]
  },
  {
   "cell_type": "code",
   "execution_count": 16,
   "id": "fewer-occasion",
   "metadata": {
    "execution": {
     "iopub.execute_input": "2022-06-09T00:41:52.655582Z",
     "iopub.status.busy": "2022-06-09T00:41:52.654844Z",
     "iopub.status.idle": "2022-06-09T00:41:52.658933Z",
     "shell.execute_reply": "2022-06-09T00:41:52.658346Z"
    },
    "papermill": {
     "duration": 0.047489,
     "end_time": "2022-06-09T00:41:52.659077",
     "exception": false,
     "start_time": "2022-06-09T00:41:52.611588",
     "status": "completed"
    },
    "tags": []
   },
   "outputs": [],
   "source": [
    "#hide\n",
    "#delete problematic countries from table\n",
    "df_table = df_table[~df_table['Country/Region'].isin(['Cape Verde', 'Cruise Ship', 'Kosovo'])]"
   ]
  },
  {
   "cell_type": "code",
   "execution_count": 17,
   "id": "related-center",
   "metadata": {
    "execution": {
     "iopub.execute_input": "2022-06-09T00:41:52.758730Z",
     "iopub.status.busy": "2022-06-09T00:41:52.758043Z",
     "iopub.status.idle": "2022-06-09T00:41:52.760598Z",
     "shell.execute_reply": "2022-06-09T00:41:52.761441Z"
    },
    "papermill": {
     "duration": 0.063288,
     "end_time": "2022-06-09T00:41:52.761587",
     "exception": false,
     "start_time": "2022-06-09T00:41:52.698299",
     "status": "completed"
    },
    "tags": []
   },
   "outputs": [],
   "source": [
    "#hide\n",
    "metrics = [df_table.columns[index] for index in [1,2,5,6]]\n",
    "# s_china = df_table[df_table['Country/Region'].eq('China')][metrics].sum().add_prefix('China ')\n",
    "s_us = df_table[df_table['Country/Region'].eq('US')][metrics].sum().add_prefix('US ')\n",
    "s_eu = df_table[df_table['Continent'].eq('Europe')][metrics].sum().add_prefix('EU ')\n",
    "s_ind = df_table[df_table['Country/Region'].eq('India')][metrics].sum().add_prefix('India ')\n",
    "summary = {'updated': pd.to_datetime(dt_today), 'since': pd.to_datetime(dt_yday)}\n",
    "summary = {'updated': pd.to_datetime(dt_today), 'since': pd.to_datetime(dt_yday)}\n",
    "summary = {**summary, **df_table[metrics].sum(), **s_ind, **s_us, **s_eu}"
   ]
  },
  {
   "cell_type": "code",
   "execution_count": 18,
   "id": "engaging-syndrome",
   "metadata": {
    "execution": {
     "iopub.execute_input": "2022-06-09T00:41:52.842706Z",
     "iopub.status.busy": "2022-06-09T00:41:52.841306Z",
     "iopub.status.idle": "2022-06-09T00:41:52.864314Z",
     "shell.execute_reply": "2022-06-09T00:41:52.863618Z"
    },
    "papermill": {
     "duration": 0.065607,
     "end_time": "2022-06-09T00:41:52.864448",
     "exception": false,
     "start_time": "2022-06-09T00:41:52.798841",
     "status": "completed"
    },
    "tags": []
   },
   "outputs": [],
   "source": [
    "#hide\n",
    "dft_ct_new_cases = dft_cases.groupby(COL_REGION)[dt_cols].sum().diff(axis=1).fillna(0).astype(int)"
   ]
  },
  {
   "cell_type": "code",
   "execution_count": 19,
   "id": "neutral-assignment",
   "metadata": {
    "execution": {
     "iopub.execute_input": "2022-06-09T00:41:52.949450Z",
     "iopub.status.busy": "2022-06-09T00:41:52.948605Z",
     "iopub.status.idle": "2022-06-09T00:41:52.951283Z",
     "shell.execute_reply": "2022-06-09T00:41:52.952063Z"
    },
    "papermill": {
     "duration": 0.049364,
     "end_time": "2022-06-09T00:41:52.952230",
     "exception": false,
     "start_time": "2022-06-09T00:41:52.902866",
     "status": "completed"
    },
    "tags": []
   },
   "outputs": [],
   "source": [
    "#hide\n",
    "everydaycases = dft_ct_new_cases.cumsum(axis=1)"
   ]
  },
  {
   "cell_type": "code",
   "execution_count": 20,
   "id": "parliamentary-calgary",
   "metadata": {
    "execution": {
     "iopub.execute_input": "2022-06-09T00:41:53.032937Z",
     "iopub.status.busy": "2022-06-09T00:41:53.032142Z",
     "iopub.status.idle": "2022-06-09T00:41:53.665988Z",
     "shell.execute_reply": "2022-06-09T00:41:53.666519Z"
    },
    "papermill": {
     "duration": 0.677358,
     "end_time": "2022-06-09T00:41:53.666685",
     "exception": false,
     "start_time": "2022-06-09T00:41:52.989327",
     "status": "completed"
    },
    "tags": []
   },
   "outputs": [],
   "source": [
    "#hide\n",
    "import pandas as pd\n",
    "import matplotlib.pyplot as plt\n",
    "import matplotlib.ticker as ticker\n",
    "import matplotlib.animation as animation\n",
    "from IPython.display import HTML"
   ]
  },
  {
   "cell_type": "code",
   "execution_count": 21,
   "id": "lasting-extraction",
   "metadata": {
    "execution": {
     "iopub.execute_input": "2022-06-09T00:41:53.750754Z",
     "iopub.status.busy": "2022-06-09T00:41:53.750062Z",
     "iopub.status.idle": "2022-06-09T00:41:53.758318Z",
     "shell.execute_reply": "2022-06-09T00:41:53.757751Z"
    },
    "papermill": {
     "duration": 0.053043,
     "end_time": "2022-06-09T00:41:53.758464",
     "exception": false,
     "start_time": "2022-06-09T00:41:53.705421",
     "status": "completed"
    },
    "tags": []
   },
   "outputs": [],
   "source": [
    "#hide\n",
    "t = everydaycases.stack()"
   ]
  },
  {
   "cell_type": "code",
   "execution_count": 22,
   "id": "premier-sleeve",
   "metadata": {
    "execution": {
     "iopub.execute_input": "2022-06-09T00:41:53.840677Z",
     "iopub.status.busy": "2022-06-09T00:41:53.839869Z",
     "iopub.status.idle": "2022-06-09T00:41:53.853109Z",
     "shell.execute_reply": "2022-06-09T00:41:53.852452Z"
    },
    "papermill": {
     "duration": 0.056112,
     "end_time": "2022-06-09T00:41:53.853253",
     "exception": false,
     "start_time": "2022-06-09T00:41:53.797141",
     "status": "completed"
    },
    "tags": []
   },
   "outputs": [],
   "source": [
    "#hide\n",
    "g = t.reset_index(['Country/Region'])"
   ]
  },
  {
   "cell_type": "code",
   "execution_count": 23,
   "id": "distributed-pittsburgh",
   "metadata": {
    "execution": {
     "iopub.execute_input": "2022-06-09T00:41:53.938881Z",
     "iopub.status.busy": "2022-06-09T00:41:53.938182Z",
     "iopub.status.idle": "2022-06-09T00:41:53.941264Z",
     "shell.execute_reply": "2022-06-09T00:41:53.940447Z"
    },
    "papermill": {
     "duration": 0.046111,
     "end_time": "2022-06-09T00:41:53.941403",
     "exception": false,
     "start_time": "2022-06-09T00:41:53.895292",
     "status": "completed"
    },
    "tags": []
   },
   "outputs": [],
   "source": [
    "#hide\n",
    "g.index.name = 'date'"
   ]
  },
  {
   "cell_type": "code",
   "execution_count": 24,
   "id": "naked-donor",
   "metadata": {
    "execution": {
     "iopub.execute_input": "2022-06-09T00:41:54.022901Z",
     "iopub.status.busy": "2022-06-09T00:41:54.022056Z",
     "iopub.status.idle": "2022-06-09T00:41:54.025183Z",
     "shell.execute_reply": "2022-06-09T00:41:54.025691Z"
    },
    "papermill": {
     "duration": 0.045496,
     "end_time": "2022-06-09T00:41:54.025860",
     "exception": false,
     "start_time": "2022-06-09T00:41:53.980364",
     "status": "completed"
    },
    "tags": []
   },
   "outputs": [],
   "source": [
    "# #hide\n",
    "# g = g.reset_index(['date'])"
   ]
  },
  {
   "cell_type": "code",
   "execution_count": 25,
   "id": "incomplete-mustang",
   "metadata": {
    "execution": {
     "iopub.execute_input": "2022-06-09T00:41:54.111296Z",
     "iopub.status.busy": "2022-06-09T00:41:54.110637Z",
     "iopub.status.idle": "2022-06-09T00:41:54.114168Z",
     "shell.execute_reply": "2022-06-09T00:41:54.113398Z"
    },
    "papermill": {
     "duration": 0.047452,
     "end_time": "2022-06-09T00:41:54.114307",
     "exception": false,
     "start_time": "2022-06-09T00:41:54.066855",
     "status": "completed"
    },
    "tags": []
   },
   "outputs": [],
   "source": [
    "#hide\n",
    "# g.head()"
   ]
  },
  {
   "cell_type": "code",
   "execution_count": 26,
   "id": "specific-kruger",
   "metadata": {
    "execution": {
     "iopub.execute_input": "2022-06-09T00:41:54.196845Z",
     "iopub.status.busy": "2022-06-09T00:41:54.196089Z",
     "iopub.status.idle": "2022-06-09T00:41:54.199595Z",
     "shell.execute_reply": "2022-06-09T00:41:54.198934Z"
    },
    "papermill": {
     "duration": 0.04702,
     "end_time": "2022-06-09T00:41:54.199713",
     "exception": false,
     "start_time": "2022-06-09T00:41:54.152693",
     "status": "completed"
    },
    "tags": []
   },
   "outputs": [],
   "source": [
    "#hide\n",
    "# g.columns = ['date','country','cases']"
   ]
  },
  {
   "cell_type": "code",
   "execution_count": 27,
   "id": "tender-conversion",
   "metadata": {
    "execution": {
     "iopub.execute_input": "2022-06-09T00:41:54.283981Z",
     "iopub.status.busy": "2022-06-09T00:41:54.283302Z",
     "iopub.status.idle": "2022-06-09T00:41:54.286579Z",
     "shell.execute_reply": "2022-06-09T00:41:54.285889Z"
    },
    "papermill": {
     "duration": 0.048661,
     "end_time": "2022-06-09T00:41:54.286703",
     "exception": false,
     "start_time": "2022-06-09T00:41:54.238042",
     "status": "completed"
    },
    "tags": []
   },
   "outputs": [],
   "source": [
    "#hide\n",
    "# g['continent'] = g.country"
   ]
  },
  {
   "cell_type": "code",
   "execution_count": 28,
   "id": "substantial-wilderness",
   "metadata": {
    "execution": {
     "iopub.execute_input": "2022-06-09T00:41:54.366229Z",
     "iopub.status.busy": "2022-06-09T00:41:54.365481Z",
     "iopub.status.idle": "2022-06-09T00:41:54.368181Z",
     "shell.execute_reply": "2022-06-09T00:41:54.368783Z"
    },
    "papermill": {
     "duration": 0.044634,
     "end_time": "2022-06-09T00:41:54.369016",
     "exception": false,
     "start_time": "2022-06-09T00:41:54.324382",
     "status": "completed"
    },
    "tags": []
   },
   "outputs": [],
   "source": [
    "#hide\n",
    "# cols = list(g.columns.values)"
   ]
  },
  {
   "cell_type": "code",
   "execution_count": 29,
   "id": "solved-farming",
   "metadata": {
    "execution": {
     "iopub.execute_input": "2022-06-09T00:41:54.449108Z",
     "iopub.status.busy": "2022-06-09T00:41:54.448324Z",
     "iopub.status.idle": "2022-06-09T00:41:54.450859Z",
     "shell.execute_reply": "2022-06-09T00:41:54.451549Z"
    },
    "papermill": {
     "duration": 0.045027,
     "end_time": "2022-06-09T00:41:54.451701",
     "exception": false,
     "start_time": "2022-06-09T00:41:54.406674",
     "status": "completed"
    },
    "tags": []
   },
   "outputs": [],
   "source": [
    "#hide\n",
    "# cols.insert(0, cols.pop())"
   ]
  },
  {
   "cell_type": "code",
   "execution_count": 30,
   "id": "executed-adoption",
   "metadata": {
    "execution": {
     "iopub.execute_input": "2022-06-09T00:41:54.532236Z",
     "iopub.status.busy": "2022-06-09T00:41:54.531485Z",
     "iopub.status.idle": "2022-06-09T00:41:54.536154Z",
     "shell.execute_reply": "2022-06-09T00:41:54.535609Z"
    },
    "papermill": {
     "duration": 0.046592,
     "end_time": "2022-06-09T00:41:54.536269",
     "exception": false,
     "start_time": "2022-06-09T00:41:54.489677",
     "status": "completed"
    },
    "tags": []
   },
   "outputs": [],
   "source": [
    "#hide\n",
    "# g = g[cols]"
   ]
  },
  {
   "cell_type": "code",
   "execution_count": 31,
   "id": "subject-dublin",
   "metadata": {
    "execution": {
     "iopub.execute_input": "2022-06-09T00:41:54.618589Z",
     "iopub.status.busy": "2022-06-09T00:41:54.617757Z",
     "iopub.status.idle": "2022-06-09T00:41:54.621060Z",
     "shell.execute_reply": "2022-06-09T00:41:54.620388Z"
    },
    "papermill": {
     "duration": 0.046039,
     "end_time": "2022-06-09T00:41:54.621187",
     "exception": false,
     "start_time": "2022-06-09T00:41:54.575148",
     "status": "completed"
    },
    "tags": []
   },
   "outputs": [],
   "source": [
    "#hide\n",
    "# g['continent'] = g['continent'].map(mapping['map.continent'])"
   ]
  },
  {
   "cell_type": "code",
   "execution_count": 32,
   "id": "freelance-scout",
   "metadata": {
    "execution": {
     "iopub.execute_input": "2022-06-09T00:41:54.700187Z",
     "iopub.status.busy": "2022-06-09T00:41:54.699491Z",
     "iopub.status.idle": "2022-06-09T00:41:54.702394Z",
     "shell.execute_reply": "2022-06-09T00:41:54.701781Z"
    },
    "papermill": {
     "duration": 0.042947,
     "end_time": "2022-06-09T00:41:54.702509",
     "exception": false,
     "start_time": "2022-06-09T00:41:54.659562",
     "status": "completed"
    },
    "tags": []
   },
   "outputs": [],
   "source": [
    "#hide\n",
    "# g.head()"
   ]
  },
  {
   "cell_type": "code",
   "execution_count": 33,
   "id": "limited-engine",
   "metadata": {
    "execution": {
     "iopub.execute_input": "2022-06-09T00:41:54.781769Z",
     "iopub.status.busy": "2022-06-09T00:41:54.780908Z",
     "iopub.status.idle": "2022-06-09T00:41:54.783811Z",
     "shell.execute_reply": "2022-06-09T00:41:54.784337Z"
    },
    "papermill": {
     "duration": 0.043858,
     "end_time": "2022-06-09T00:41:54.784463",
     "exception": false,
     "start_time": "2022-06-09T00:41:54.740605",
     "status": "completed"
    },
    "tags": []
   },
   "outputs": [],
   "source": [
    "# hide\n",
    "# g['date'] = g['date'].astype('datetime64[ns]')"
   ]
  },
  {
   "cell_type": "code",
   "execution_count": 34,
   "id": "sophisticated-supervisor",
   "metadata": {
    "execution": {
     "iopub.execute_input": "2022-06-09T00:41:54.854528Z",
     "iopub.status.busy": "2022-06-09T00:41:54.853853Z",
     "iopub.status.idle": "2022-06-09T00:41:54.856757Z",
     "shell.execute_reply": "2022-06-09T00:41:54.856095Z"
    },
    "papermill": {
     "duration": 0.038182,
     "end_time": "2022-06-09T00:41:54.856882",
     "exception": false,
     "start_time": "2022-06-09T00:41:54.818700",
     "status": "completed"
    },
    "tags": []
   },
   "outputs": [],
   "source": [
    "#hide\n",
    "# g['date'] = g.date.dt.dayofyear"
   ]
  },
  {
   "cell_type": "code",
   "execution_count": 35,
   "id": "inside-dubai",
   "metadata": {
    "execution": {
     "iopub.execute_input": "2022-06-09T00:41:54.936855Z",
     "iopub.status.busy": "2022-06-09T00:41:54.936132Z",
     "iopub.status.idle": "2022-06-09T00:41:54.939181Z",
     "shell.execute_reply": "2022-06-09T00:41:54.938583Z"
    },
    "papermill": {
     "duration": 0.045835,
     "end_time": "2022-06-09T00:41:54.939298",
     "exception": false,
     "start_time": "2022-06-09T00:41:54.893463",
     "status": "completed"
    },
    "tags": []
   },
   "outputs": [],
   "source": [
    "#hide\n",
    "# g = g.rename(columns= {'continent':'group','country':'name','cases':'value'})"
   ]
  },
  {
   "cell_type": "code",
   "execution_count": 36,
   "id": "fleet-motorcycle",
   "metadata": {
    "execution": {
     "iopub.execute_input": "2022-06-09T00:41:55.019531Z",
     "iopub.status.busy": "2022-06-09T00:41:55.018822Z",
     "iopub.status.idle": "2022-06-09T00:41:55.022050Z",
     "shell.execute_reply": "2022-06-09T00:41:55.021325Z"
    },
    "papermill": {
     "duration": 0.0444,
     "end_time": "2022-06-09T00:41:55.022173",
     "exception": false,
     "start_time": "2022-06-09T00:41:54.977773",
     "status": "completed"
    },
    "tags": []
   },
   "outputs": [],
   "source": [
    "#hide\n",
    "# cols = ['name','group','day','value']"
   ]
  },
  {
   "cell_type": "code",
   "execution_count": 37,
   "id": "continued-sleeping",
   "metadata": {
    "execution": {
     "iopub.execute_input": "2022-06-09T00:41:55.105296Z",
     "iopub.status.busy": "2022-06-09T00:41:55.104397Z",
     "iopub.status.idle": "2022-06-09T00:41:55.107572Z",
     "shell.execute_reply": "2022-06-09T00:41:55.107044Z"
    },
    "papermill": {
     "duration": 0.047428,
     "end_time": "2022-06-09T00:41:55.107686",
     "exception": false,
     "start_time": "2022-06-09T00:41:55.060258",
     "status": "completed"
    },
    "tags": []
   },
   "outputs": [],
   "source": [
    "#hide\n",
    "# g.rename(columns= {'date':'day'},inplace = True)"
   ]
  },
  {
   "cell_type": "code",
   "execution_count": 38,
   "id": "major-fight",
   "metadata": {
    "execution": {
     "iopub.execute_input": "2022-06-09T00:41:55.191348Z",
     "iopub.status.busy": "2022-06-09T00:41:55.190639Z",
     "iopub.status.idle": "2022-06-09T00:41:55.193994Z",
     "shell.execute_reply": "2022-06-09T00:41:55.193347Z"
    },
    "papermill": {
     "duration": 0.049211,
     "end_time": "2022-06-09T00:41:55.194116",
     "exception": false,
     "start_time": "2022-06-09T00:41:55.144905",
     "status": "completed"
    },
    "tags": []
   },
   "outputs": [],
   "source": [
    "#hide\n",
    "# g = g[cols]"
   ]
  },
  {
   "cell_type": "code",
   "execution_count": 39,
   "id": "structured-mobile",
   "metadata": {
    "execution": {
     "iopub.execute_input": "2022-06-09T00:41:55.274300Z",
     "iopub.status.busy": "2022-06-09T00:41:55.273516Z",
     "iopub.status.idle": "2022-06-09T00:41:55.276550Z",
     "shell.execute_reply": "2022-06-09T00:41:55.275793Z"
    },
    "papermill": {
     "duration": 0.047831,
     "end_time": "2022-06-09T00:41:55.278216",
     "exception": false,
     "start_time": "2022-06-09T00:41:55.230385",
     "status": "completed"
    },
    "tags": []
   },
   "outputs": [],
   "source": [
    "# #hide\n",
    "# g = g[g.group.notna()]"
   ]
  },
  {
   "cell_type": "code",
   "execution_count": 40,
   "id": "determined-closing",
   "metadata": {
    "execution": {
     "iopub.execute_input": "2022-06-09T00:41:55.363113Z",
     "iopub.status.busy": "2022-06-09T00:41:55.362395Z",
     "iopub.status.idle": "2022-06-09T00:41:55.365156Z",
     "shell.execute_reply": "2022-06-09T00:41:55.365755Z"
    },
    "papermill": {
     "duration": 0.046658,
     "end_time": "2022-06-09T00:41:55.365897",
     "exception": false,
     "start_time": "2022-06-09T00:41:55.319239",
     "status": "completed"
    },
    "tags": []
   },
   "outputs": [],
   "source": [
    "# #hide\n",
    "# colors = dict(zip(\n",
    "#     [\"Oceania\", \"Europe\", \"Asia\", \"South America\", \"Middle East\", \"North America\", \"Africa\"],\n",
    "#     [\"#adb0ff\", \"#ffb3ff\", \"#90d595\", \"#e48381\", \"#aafbff\", \"#f7bb5f\", \"#eafb50\"]\n",
    "# ))\n",
    "# group_lk = g.set_index('name')['group'].to_dict()"
   ]
  },
  {
   "cell_type": "code",
   "execution_count": null,
   "id": "gross-drinking",
   "metadata": {
    "papermill": {
     "duration": 0.040041,
     "end_time": "2022-06-09T00:41:55.445953",
     "exception": false,
     "start_time": "2022-06-09T00:41:55.405912",
     "status": "completed"
    },
    "tags": []
   },
   "outputs": [],
   "source": []
  },
  {
   "cell_type": "code",
   "execution_count": 41,
   "id": "subject-macintosh",
   "metadata": {
    "execution": {
     "iopub.execute_input": "2022-06-09T00:41:55.531314Z",
     "iopub.status.busy": "2022-06-09T00:41:55.530531Z",
     "iopub.status.idle": "2022-06-09T00:41:55.535643Z",
     "shell.execute_reply": "2022-06-09T00:41:55.534976Z"
    },
    "papermill": {
     "duration": 0.049339,
     "end_time": "2022-06-09T00:41:55.535775",
     "exception": false,
     "start_time": "2022-06-09T00:41:55.486436",
     "status": "completed"
    },
    "tags": []
   },
   "outputs": [],
   "source": [
    "# #hide\n",
    "# fig, ax = plt.subplots(figsize=(15, 8))\n",
    "\n",
    "# def draw_barchart(current_day):\n",
    "#     dff = g[g['day'].eq(current_day)].sort_values(by='value', ascending=True).tail(10)\n",
    "#     ax.clear()\n",
    "#     ax.barh(dff['name'], dff['value'], color=[colors[group_lk[x]] for x in dff['name']])\n",
    "#     dx = dff['value'].max() / 200\n",
    "    \n",
    "#     for i, (value, name) in enumerate(zip(dff['value'], dff['name'])):\n",
    "#         ax.text(value-dx, i,     name,           size=14, weight=600, ha='right', va='bottom')\n",
    "#         ax.text(value-dx, i-.25, group_lk[name], size=10, color='#444444', ha='right', va='baseline')\n",
    "#         ax.text(value+dx, i,     f'{value:,.0f}',  size=14, ha='left',  va='center')\n",
    "#     ax.text(1, 0.4, current_day, transform=ax.transAxes, color='#777777', size=46, ha='right', weight=800)\n",
    "#     ax.text(0, 1.06, 'Population (thousands)', transform=ax.transAxes, size=12, color='#777777')\n",
    "#     ax.xaxis.set_major_formatter(ticker.StrMethodFormatter('{x:,.0f}'))\n",
    "#     ax.xaxis.set_ticks_position('top')\n",
    "#     ax.tick_params(axis='x', colors='#777777', labelsize=12)\n",
    "#     ax.set_yticks([])\n",
    "#     ax.margins(0, 0.01)\n",
    "#     ax.grid(which='major', axis='x', linestyle='-')\n",
    "#     ax.set_axisbelow(True)\n",
    "    \n",
    "#     ax.text(0, 1.15, 'Coronavirus',\n",
    "#             transform=ax.transAxes, size=24, weight=600, ha='left', va='top')\n",
    "# #     ax.text(1, 0, 'by @pratapvardhan; credit @jburnmurdoch', transform=ax.transAxes, color='#777777', ha='right',\n",
    "# #             bbox=dict(facecolor='white', alpha=0.8, edgecolor='white'))\n",
    "#     plt.box(False)"
   ]
  },
  {
   "cell_type": "code",
   "execution_count": 42,
   "id": "sexual-wages",
   "metadata": {
    "execution": {
     "iopub.execute_input": "2022-06-09T00:41:55.625360Z",
     "iopub.status.busy": "2022-06-09T00:41:55.624535Z",
     "iopub.status.idle": "2022-06-09T00:41:55.627523Z",
     "shell.execute_reply": "2022-06-09T00:41:55.626945Z"
    },
    "papermill": {
     "duration": 0.045205,
     "end_time": "2022-06-09T00:41:55.627666",
     "exception": false,
     "start_time": "2022-06-09T00:41:55.582461",
     "status": "completed"
    },
    "tags": []
   },
   "outputs": [],
   "source": [
    "# #hide_input\n",
    "# fig, ax = plt.subplots(figsize=(15, 8))\n",
    "# animator = animation.FuncAnimation(fig, draw_barchart, frames=range(g.day.values.min(), g.day.values.max()))\n",
    "# HTML(animator.to_jshtml())\n",
    "# # or use animator.to_html5_video() or animator.save() "
   ]
  },
  {
   "cell_type": "code",
   "execution_count": null,
   "id": "australian-container",
   "metadata": {
    "papermill": {
     "duration": 0.039285,
     "end_time": "2022-06-09T00:41:55.705725",
     "exception": false,
     "start_time": "2022-06-09T00:41:55.666440",
     "status": "completed"
    },
    "tags": []
   },
   "outputs": [],
   "source": []
  },
  {
   "cell_type": "code",
   "execution_count": null,
   "id": "mediterranean-pontiac",
   "metadata": {
    "papermill": {
     "duration": 0.041084,
     "end_time": "2022-06-09T00:41:55.783602",
     "exception": false,
     "start_time": "2022-06-09T00:41:55.742518",
     "status": "completed"
    },
    "tags": []
   },
   "outputs": [],
   "source": []
  },
  {
   "cell_type": "code",
   "execution_count": null,
   "id": "aging-legislature",
   "metadata": {
    "papermill": {
     "duration": 0.039421,
     "end_time": "2022-06-09T00:41:55.861083",
     "exception": false,
     "start_time": "2022-06-09T00:41:55.821662",
     "status": "completed"
    },
    "tags": []
   },
   "outputs": [],
   "source": []
  }
 ],
 "metadata": {
  "kernelspec": {
   "display_name": "Python 3",
   "language": "python",
   "name": "python3"
  },
  "language_info": {
   "codemirror_mode": {
    "name": "ipython",
    "version": 3
   },
   "file_extension": ".py",
   "mimetype": "text/x-python",
   "name": "python",
   "nbconvert_exporter": "python",
   "pygments_lexer": "ipython3",
   "version": "3.6.15"
  },
  "papermill": {
   "duration": 7.461353,
   "end_time": "2022-06-09T00:41:56.324334",
   "environment_variables": {},
   "exception": null,
   "input_path": "2020-03-21-covid19exp.ipynb",
   "output_path": "2020-03-21-covid19exp.ipynb",
   "parameters": {},
   "start_time": "2022-06-09T00:41:48.862981",
   "version": "2.0.0"
  }
 },
 "nbformat": 4,
 "nbformat_minor": 5
}