{
 "cells": [
  {
   "cell_type": "markdown",
   "id": "muslim-click",
   "metadata": {
    "papermill": {
     "duration": 0.03404,
     "end_time": "2022-02-15T00:27:35.834469",
     "exception": false,
     "start_time": "2022-02-15T00:27:35.800429",
     "status": "completed"
    },
    "tags": []
   },
   "source": [
    "# COVID-19 Case Race\n",
    "> A race chart to see rising cases around the world\n",
    "\n",
    "- author: Hargun Oberoi\n",
    "- image: images/covid-overview.png\n",
    "- hide: false\n",
    "- badges: false"
   ]
  },
  {
   "cell_type": "code",
   "execution_count": 1,
   "id": "proof-material",
   "metadata": {
    "execution": {
     "iopub.execute_input": "2022-02-15T00:27:35.906886Z",
     "iopub.status.busy": "2022-02-15T00:27:35.906384Z",
     "iopub.status.idle": "2022-02-15T00:27:36.216375Z",
     "shell.execute_reply": "2022-02-15T00:27:36.215920Z"
    },
    "papermill": {
     "duration": 0.349669,
     "end_time": "2022-02-15T00:27:36.216501",
     "exception": false,
     "start_time": "2022-02-15T00:27:35.866832",
     "status": "completed"
    },
    "tags": []
   },
   "outputs": [],
   "source": [
    "#hide\n",
    "import numpy as np\n",
    "import pandas as pd\n",
    "from jinja2 import Template\n",
    "from IPython.display import HTML"
   ]
  },
  {
   "cell_type": "code",
   "execution_count": 2,
   "id": "developed-terminology",
   "metadata": {
    "execution": {
     "iopub.execute_input": "2022-02-15T00:27:36.282861Z",
     "iopub.status.busy": "2022-02-15T00:27:36.282329Z",
     "iopub.status.idle": "2022-02-15T00:27:36.284162Z",
     "shell.execute_reply": "2022-02-15T00:27:36.283694Z"
    },
    "papermill": {
     "duration": 0.036768,
     "end_time": "2022-02-15T00:27:36.284260",
     "exception": false,
     "start_time": "2022-02-15T00:27:36.247492",
     "status": "completed"
    },
    "tags": []
   },
   "outputs": [],
   "source": [
    "#hide\n",
    "\n",
    "# FETCH\n",
    "base_url = 'https://raw.githubusercontent.com/pratapvardhan/notebooks/master/covid19/'\n",
    "paths = {\n",
    "    'mapping': base_url + 'mapping_countries.csv',\n",
    "    'overview': base_url + 'overview.tpl'\n",
    "}"
   ]
  },
  {
   "cell_type": "code",
   "execution_count": 3,
   "id": "dynamic-saver",
   "metadata": {
    "execution": {
     "iopub.execute_input": "2022-02-15T00:27:36.353895Z",
     "iopub.status.busy": "2022-02-15T00:27:36.353384Z",
     "iopub.status.idle": "2022-02-15T00:27:36.355917Z",
     "shell.execute_reply": "2022-02-15T00:27:36.355519Z"
    },
    "papermill": {
     "duration": 0.041263,
     "end_time": "2022-02-15T00:27:36.356014",
     "exception": false,
     "start_time": "2022-02-15T00:27:36.314751",
     "status": "completed"
    },
    "tags": []
   },
   "outputs": [
    {
     "data": {
      "text/plain": [
       "'https://raw.githubusercontent.com/pratapvardhan/notebooks/master/covid19/mapping_countries.csv'"
      ]
     },
     "execution_count": 3,
     "metadata": {},
     "output_type": "execute_result"
    }
   ],
   "source": [
    "#hide\n",
    "paths['mapping']"
   ]
  },
  {
   "cell_type": "code",
   "execution_count": 4,
   "id": "urban-software",
   "metadata": {
    "execution": {
     "iopub.execute_input": "2022-02-15T00:27:36.422446Z",
     "iopub.status.busy": "2022-02-15T00:27:36.421919Z",
     "iopub.status.idle": "2022-02-15T00:27:36.424630Z",
     "shell.execute_reply": "2022-02-15T00:27:36.424216Z"
    },
    "papermill": {
     "duration": 0.037721,
     "end_time": "2022-02-15T00:27:36.424725",
     "exception": false,
     "start_time": "2022-02-15T00:27:36.387004",
     "status": "completed"
    },
    "tags": []
   },
   "outputs": [],
   "source": [
    "#hide\n",
    "def get_mappings(url):\n",
    "    df = pd.read_csv(url)\n",
    "    return {\n",
    "        'df': df,\n",
    "        'replace.country': dict(df.dropna(subset=['Name']).set_index('Country')['Name']),\n",
    "        'map.continent': dict(df.set_index('Name')['Continent'])\n",
    "    }"
   ]
  },
  {
   "cell_type": "code",
   "execution_count": 5,
   "id": "intimate-machinery",
   "metadata": {
    "execution": {
     "iopub.execute_input": "2022-02-15T00:27:36.491148Z",
     "iopub.status.busy": "2022-02-15T00:27:36.490650Z",
     "iopub.status.idle": "2022-02-15T00:27:36.514912Z",
     "shell.execute_reply": "2022-02-15T00:27:36.515328Z"
    },
    "papermill": {
     "duration": 0.059775,
     "end_time": "2022-02-15T00:27:36.515445",
     "exception": false,
     "start_time": "2022-02-15T00:27:36.455670",
     "status": "completed"
    },
    "tags": []
   },
   "outputs": [],
   "source": [
    "#hide\n",
    "mapping = get_mappings(paths['mapping'])"
   ]
  },
  {
   "cell_type": "code",
   "execution_count": 6,
   "id": "certified-tactics",
   "metadata": {
    "execution": {
     "iopub.execute_input": "2022-02-15T00:27:36.581386Z",
     "iopub.status.busy": "2022-02-15T00:27:36.580881Z",
     "iopub.status.idle": "2022-02-15T00:27:36.584290Z",
     "shell.execute_reply": "2022-02-15T00:27:36.583888Z"
    },
    "papermill": {
     "duration": 0.038172,
     "end_time": "2022-02-15T00:27:36.584392",
     "exception": false,
     "start_time": "2022-02-15T00:27:36.546220",
     "status": "completed"
    },
    "tags": []
   },
   "outputs": [],
   "source": [
    "#hide\n",
    "def get_template(path):\n",
    "    from urllib.parse import urlparse\n",
    "    if bool(urlparse(path).netloc):\n",
    "        from urllib.request import urlopen\n",
    "        return urlopen(path).read().decode('utf8')\n",
    "    return open(path).read()"
   ]
  },
  {
   "cell_type": "code",
   "execution_count": 7,
   "id": "realistic-blast",
   "metadata": {
    "execution": {
     "iopub.execute_input": "2022-02-15T00:27:36.650266Z",
     "iopub.status.busy": "2022-02-15T00:27:36.649721Z",
     "iopub.status.idle": "2022-02-15T00:27:36.651855Z",
     "shell.execute_reply": "2022-02-15T00:27:36.651381Z"
    },
    "papermill": {
     "duration": 0.036677,
     "end_time": "2022-02-15T00:27:36.651952",
     "exception": false,
     "start_time": "2022-02-15T00:27:36.615275",
     "status": "completed"
    },
    "tags": []
   },
   "outputs": [],
   "source": [
    "#hide\n",
    "def get_frame(name):\n",
    "    url = (\n",
    "        'https://raw.githubusercontent.com/CSSEGISandData/COVID-19/master/csse_covid_19_data/'\n",
    "        f'csse_covid_19_time_series/time_series_covid19_{name}_global.csv')\n",
    "    df = pd.read_csv(url)\n",
    "    # rename countries\n",
    "    df['Country/Region'] = df['Country/Region'].replace(mapping['replace.country'])\n",
    "    return df"
   ]
  },
  {
   "cell_type": "code",
   "execution_count": 8,
   "id": "affiliated-characterization",
   "metadata": {
    "execution": {
     "iopub.execute_input": "2022-02-15T00:27:36.718941Z",
     "iopub.status.busy": "2022-02-15T00:27:36.718441Z",
     "iopub.status.idle": "2022-02-15T00:27:36.721517Z",
     "shell.execute_reply": "2022-02-15T00:27:36.721904Z"
    },
    "papermill": {
     "duration": 0.03913,
     "end_time": "2022-02-15T00:27:36.722052",
     "exception": false,
     "start_time": "2022-02-15T00:27:36.682922",
     "status": "completed"
    },
    "tags": []
   },
   "outputs": [],
   "source": [
    "#hide\n",
    "def get_dates(df):\n",
    "    dt_cols = df.columns[~df.columns.isin(['Province/State', 'Country/Region', 'Lat', 'Long'])]\n",
    "    LAST_DATE_I = -1\n",
    "    # sometimes last column may be empty, then go backwards\n",
    "    for i in range(-1, -len(dt_cols), -1):\n",
    "        if not df[dt_cols[i]].fillna(0).eq(0).all():\n",
    "            LAST_DATE_I = i\n",
    "            break\n",
    "    return LAST_DATE_I, dt_cols"
   ]
  },
  {
   "cell_type": "code",
   "execution_count": 9,
   "id": "recent-optimization",
   "metadata": {
    "execution": {
     "iopub.execute_input": "2022-02-15T00:27:36.788208Z",
     "iopub.status.busy": "2022-02-15T00:27:36.787687Z",
     "iopub.status.idle": "2022-02-15T00:27:37.109847Z",
     "shell.execute_reply": "2022-02-15T00:27:37.108930Z"
    },
    "papermill": {
     "duration": 0.357085,
     "end_time": "2022-02-15T00:27:37.109969",
     "exception": false,
     "start_time": "2022-02-15T00:27:36.752884",
     "status": "completed"
    },
    "tags": []
   },
   "outputs": [],
   "source": [
    "#hide\n",
    "COL_REGION = 'Country/Region'\n",
    "# Confirmed, Recovered, Deaths\n",
    "df = get_frame('confirmed')\n",
    "# dft_: timeseries, dfc_: today country agg\n",
    "dft_cases = df\n",
    "dft_deaths = get_frame('deaths')\n",
    "dft_recovered = get_frame('recovered')\n",
    "LAST_DATE_I, dt_cols = get_dates(df)"
   ]
  },
  {
   "cell_type": "code",
   "execution_count": 10,
   "id": "absolute-copper",
   "metadata": {
    "execution": {
     "iopub.execute_input": "2022-02-15T00:27:37.176924Z",
     "iopub.status.busy": "2022-02-15T00:27:37.176424Z",
     "iopub.status.idle": "2022-02-15T00:27:37.178390Z",
     "shell.execute_reply": "2022-02-15T00:27:37.177945Z"
    },
    "papermill": {
     "duration": 0.037442,
     "end_time": "2022-02-15T00:27:37.178490",
     "exception": false,
     "start_time": "2022-02-15T00:27:37.141048",
     "status": "completed"
    },
    "tags": []
   },
   "outputs": [],
   "source": [
    "#hide\n",
    "LAST_DATE_I, dt_cols = get_dates(df)\n",
    "dt_today =dt_cols[LAST_DATE_I]\n",
    "# dt_5day = dt_cols[LAST_DATE_I - 5]\n",
    "dt_yday = dt_cols[LAST_DATE_I - 1]"
   ]
  },
  {
   "cell_type": "code",
   "execution_count": 11,
   "id": "restricted-sheriff",
   "metadata": {
    "execution": {
     "iopub.execute_input": "2022-02-15T00:27:37.245266Z",
     "iopub.status.busy": "2022-02-15T00:27:37.244775Z",
     "iopub.status.idle": "2022-02-15T00:27:37.251525Z",
     "shell.execute_reply": "2022-02-15T00:27:37.251120Z"
    },
    "papermill": {
     "duration": 0.042457,
     "end_time": "2022-02-15T00:27:37.251629",
     "exception": false,
     "start_time": "2022-02-15T00:27:37.209172",
     "status": "completed"
    },
    "tags": []
   },
   "outputs": [],
   "source": [
    "#hide\n",
    "dfc_cases = dft_cases.groupby(COL_REGION)[dt_today].sum()\n",
    "dfc_deaths = dft_deaths.groupby(COL_REGION)[dt_today].sum()\n",
    "# dfp_cases = dft_cases.groupby(COL_REGION)[dt_5day].sum()\n",
    "# dfp_deaths = dft_deaths.groupby(COL_REGION)[dt_5day].sum()\n",
    "dfp_cases = dft_cases.groupby(COL_REGION)[dt_yday].sum()\n",
    "dfp_deaths = dft_deaths.groupby(COL_REGION)[dt_yday].sum()"
   ]
  },
  {
   "cell_type": "code",
   "execution_count": 12,
   "id": "deluxe-hepatitis",
   "metadata": {
    "execution": {
     "iopub.execute_input": "2022-02-15T00:27:37.318744Z",
     "iopub.status.busy": "2022-02-15T00:27:37.318245Z",
     "iopub.status.idle": "2022-02-15T00:27:37.322045Z",
     "shell.execute_reply": "2022-02-15T00:27:37.322416Z"
    },
    "papermill": {
     "duration": 0.04,
     "end_time": "2022-02-15T00:27:37.322533",
     "exception": false,
     "start_time": "2022-02-15T00:27:37.282533",
     "status": "completed"
    },
    "tags": []
   },
   "outputs": [],
   "source": [
    "#hide\n",
    "df_table = (pd.DataFrame(dict(Cases = dfc_cases, Deaths = dfc_deaths, PCases = dfp_cases, PDeaths = dfp_deaths))\n",
    "            .sort_values(by = ['Cases','Deaths'], ascending = [False, False])\n",
    "            .reset_index())"
   ]
  },
  {
   "cell_type": "code",
   "execution_count": 13,
   "id": "educational-chancellor",
   "metadata": {
    "execution": {
     "iopub.execute_input": "2022-02-15T00:27:37.519574Z",
     "iopub.status.busy": "2022-02-15T00:27:37.519037Z",
     "iopub.status.idle": "2022-02-15T00:27:37.526182Z",
     "shell.execute_reply": "2022-02-15T00:27:37.525760Z"
    },
    "papermill": {
     "duration": 0.088038,
     "end_time": "2022-02-15T00:27:37.526290",
     "exception": false,
     "start_time": "2022-02-15T00:27:37.438252",
     "status": "completed"
    },
    "tags": []
   },
   "outputs": [
    {
     "data": {
      "text/html": [
       "<div>\n",
       "<style scoped>\n",
       "    .dataframe tbody tr th:only-of-type {\n",
       "        vertical-align: middle;\n",
       "    }\n",
       "\n",
       "    .dataframe tbody tr th {\n",
       "        vertical-align: top;\n",
       "    }\n",
       "\n",
       "    .dataframe thead th {\n",
       "        text-align: right;\n",
       "    }\n",
       "</style>\n",
       "<table border=\"1\" class=\"dataframe\">\n",
       "  <thead>\n",
       "    <tr style=\"text-align: right;\">\n",
       "      <th></th>\n",
       "      <th>Country/Region</th>\n",
       "      <th>Cases</th>\n",
       "      <th>Deaths</th>\n",
       "      <th>PCases</th>\n",
       "      <th>PDeaths</th>\n",
       "      <th>Cases (+)</th>\n",
       "      <th>Deaths (+)</th>\n",
       "      <th>Fatality Rate</th>\n",
       "      <th>Continent</th>\n",
       "    </tr>\n",
       "  </thead>\n",
       "  <tbody>\n",
       "    <tr>\n",
       "      <th>0</th>\n",
       "      <td>US</td>\n",
       "      <td>77739880</td>\n",
       "      <td>919696</td>\n",
       "      <td>77707349</td>\n",
       "      <td>919255</td>\n",
       "      <td>32531</td>\n",
       "      <td>441</td>\n",
       "      <td>1.18</td>\n",
       "      <td>North America</td>\n",
       "    </tr>\n",
       "    <tr>\n",
       "      <th>1</th>\n",
       "      <td>India</td>\n",
       "      <td>42665534</td>\n",
       "      <td>509011</td>\n",
       "      <td>42631421</td>\n",
       "      <td>508665</td>\n",
       "      <td>34113</td>\n",
       "      <td>346</td>\n",
       "      <td>1.19</td>\n",
       "      <td>Asia</td>\n",
       "    </tr>\n",
       "    <tr>\n",
       "      <th>2</th>\n",
       "      <td>Brazil</td>\n",
       "      <td>27492904</td>\n",
       "      <td>638673</td>\n",
       "      <td>27434286</td>\n",
       "      <td>638346</td>\n",
       "      <td>58618</td>\n",
       "      <td>327</td>\n",
       "      <td>2.32</td>\n",
       "      <td>South America</td>\n",
       "    </tr>\n",
       "    <tr>\n",
       "      <th>3</th>\n",
       "      <td>France</td>\n",
       "      <td>21851747</td>\n",
       "      <td>135802</td>\n",
       "      <td>21765182</td>\n",
       "      <td>135695</td>\n",
       "      <td>86565</td>\n",
       "      <td>107</td>\n",
       "      <td>0.62</td>\n",
       "      <td>Europe</td>\n",
       "    </tr>\n",
       "    <tr>\n",
       "      <th>4</th>\n",
       "      <td>United Kingdom</td>\n",
       "      <td>18433001</td>\n",
       "      <td>160128</td>\n",
       "      <td>18392137</td>\n",
       "      <td>160076</td>\n",
       "      <td>40864</td>\n",
       "      <td>52</td>\n",
       "      <td>0.87</td>\n",
       "      <td>Europe</td>\n",
       "    </tr>\n",
       "  </tbody>\n",
       "</table>\n",
       "</div>"
      ],
      "text/plain": [
       "   Country/Region     Cases  Deaths    PCases  PDeaths  Cases (+)  Deaths (+)  \\\n",
       "0              US  77739880  919696  77707349   919255      32531         441   \n",
       "1           India  42665534  509011  42631421   508665      34113         346   \n",
       "2          Brazil  27492904  638673  27434286   638346      58618         327   \n",
       "3          France  21851747  135802  21765182   135695      86565         107   \n",
       "4  United Kingdom  18433001  160128  18392137   160076      40864          52   \n",
       "\n",
       "   Fatality Rate      Continent  \n",
       "0           1.18  North America  \n",
       "1           1.19           Asia  \n",
       "2           2.32  South America  \n",
       "3           0.62         Europe  \n",
       "4           0.87         Europe  "
      ]
     },
     "execution_count": 13,
     "metadata": {},
     "output_type": "execute_result"
    }
   ],
   "source": [
    "#hide\n",
    "for c in 'Cases, Deaths'.split(', '):\n",
    "    df_table[f'{c} (+)'] = (df_table[c] - df_table[f'P{c}']).clip(0)\n",
    "    #Clip ça veut dire, les chiffres negatif sont interdit\n",
    "df_table['Fatality Rate'] = (100* df_table['Deaths']/ df_table['Cases']).round(2)\n",
    "df_table['Continent'] = df_table['Country/Region'].map(mapping['map.continent'])\n",
    "df_table.head(5)"
   ]
  },
  {
   "cell_type": "code",
   "execution_count": 14,
   "id": "aboriginal-bulgaria",
   "metadata": {
    "execution": {
     "iopub.execute_input": "2022-02-15T00:27:37.602431Z",
     "iopub.status.busy": "2022-02-15T00:27:37.601879Z",
     "iopub.status.idle": "2022-02-15T00:27:37.603849Z",
     "shell.execute_reply": "2022-02-15T00:27:37.603450Z"
    },
    "papermill": {
     "duration": 0.043421,
     "end_time": "2022-02-15T00:27:37.603952",
     "exception": false,
     "start_time": "2022-02-15T00:27:37.560531",
     "status": "completed"
    },
    "tags": []
   },
   "outputs": [],
   "source": [
    "#hide\n",
    "#delete problematic countries from table\n",
    "df_table = df_table[~df_table['Country/Region'].isin(['Cape Verde', 'Cruise Ship', 'Kosovo'])]"
   ]
  },
  {
   "cell_type": "code",
   "execution_count": 15,
   "id": "fantastic-effect",
   "metadata": {
    "execution": {
     "iopub.execute_input": "2022-02-15T00:27:37.846050Z",
     "iopub.status.busy": "2022-02-15T00:27:37.845528Z",
     "iopub.status.idle": "2022-02-15T00:27:37.861912Z",
     "shell.execute_reply": "2022-02-15T00:27:37.862313Z"
    },
    "papermill": {
     "duration": 0.072527,
     "end_time": "2022-02-15T00:27:37.862443",
     "exception": false,
     "start_time": "2022-02-15T00:27:37.789916",
     "status": "completed"
    },
    "tags": []
   },
   "outputs": [
    {
     "data": {
      "text/html": [
       "<div>\n",
       "<style scoped>\n",
       "    .dataframe tbody tr th:only-of-type {\n",
       "        vertical-align: middle;\n",
       "    }\n",
       "\n",
       "    .dataframe tbody tr th {\n",
       "        vertical-align: top;\n",
       "    }\n",
       "\n",
       "    .dataframe thead th {\n",
       "        text-align: right;\n",
       "    }\n",
       "</style>\n",
       "<table border=\"1\" class=\"dataframe\">\n",
       "  <thead>\n",
       "    <tr style=\"text-align: right;\">\n",
       "      <th></th>\n",
       "      <th>Country/Region</th>\n",
       "      <th>Cases</th>\n",
       "      <th>Deaths</th>\n",
       "      <th>PCases</th>\n",
       "      <th>PDeaths</th>\n",
       "      <th>Cases (+)</th>\n",
       "      <th>Deaths (+)</th>\n",
       "      <th>Fatality Rate</th>\n",
       "      <th>Continent</th>\n",
       "    </tr>\n",
       "  </thead>\n",
       "  <tbody>\n",
       "    <tr>\n",
       "      <th>0</th>\n",
       "      <td>US</td>\n",
       "      <td>77739880</td>\n",
       "      <td>919696</td>\n",
       "      <td>77707349</td>\n",
       "      <td>919255</td>\n",
       "      <td>32531</td>\n",
       "      <td>441</td>\n",
       "      <td>1.2</td>\n",
       "      <td>North America</td>\n",
       "    </tr>\n",
       "    <tr>\n",
       "      <th>1</th>\n",
       "      <td>India</td>\n",
       "      <td>42665534</td>\n",
       "      <td>509011</td>\n",
       "      <td>42631421</td>\n",
       "      <td>508665</td>\n",
       "      <td>34113</td>\n",
       "      <td>346</td>\n",
       "      <td>1.2</td>\n",
       "      <td>Asia</td>\n",
       "    </tr>\n",
       "    <tr>\n",
       "      <th>2</th>\n",
       "      <td>Brazil</td>\n",
       "      <td>27492904</td>\n",
       "      <td>638673</td>\n",
       "      <td>27434286</td>\n",
       "      <td>638346</td>\n",
       "      <td>58618</td>\n",
       "      <td>327</td>\n",
       "      <td>2.3</td>\n",
       "      <td>South America</td>\n",
       "    </tr>\n",
       "    <tr>\n",
       "      <th>3</th>\n",
       "      <td>France</td>\n",
       "      <td>21851747</td>\n",
       "      <td>135802</td>\n",
       "      <td>21765182</td>\n",
       "      <td>135695</td>\n",
       "      <td>86565</td>\n",
       "      <td>107</td>\n",
       "      <td>0.6</td>\n",
       "      <td>Europe</td>\n",
       "    </tr>\n",
       "    <tr>\n",
       "      <th>4</th>\n",
       "      <td>United Kingdom</td>\n",
       "      <td>18433001</td>\n",
       "      <td>160128</td>\n",
       "      <td>18392137</td>\n",
       "      <td>160076</td>\n",
       "      <td>40864</td>\n",
       "      <td>52</td>\n",
       "      <td>0.9</td>\n",
       "      <td>Europe</td>\n",
       "    </tr>\n",
       "  </tbody>\n",
       "</table>\n",
       "</div>"
      ],
      "text/plain": [
       "   Country/Region     Cases  Deaths    PCases  PDeaths  Cases (+)  Deaths (+)  \\\n",
       "0              US  77739880  919696  77707349   919255      32531         441   \n",
       "1           India  42665534  509011  42631421   508665      34113         346   \n",
       "2          Brazil  27492904  638673  27434286   638346      58618         327   \n",
       "3          France  21851747  135802  21765182   135695      86565         107   \n",
       "4  United Kingdom  18433001  160128  18392137   160076      40864          52   \n",
       "\n",
       "   Fatality Rate      Continent  \n",
       "0            1.2  North America  \n",
       "1            1.2           Asia  \n",
       "2            2.3  South America  \n",
       "3            0.6         Europe  \n",
       "4            0.9         Europe  "
      ]
     },
     "execution_count": 15,
     "metadata": {},
     "output_type": "execute_result"
    }
   ],
   "source": [
    "#hide\n",
    "df_table = (pd.DataFrame(dict(Cases=dfc_cases, Deaths=dfc_deaths, PCases=dfp_cases, PDeaths=dfp_deaths))\n",
    "             .sort_values(by=['Cases', 'Deaths'], ascending=[False, False])\n",
    "             .reset_index())\n",
    "df_table.rename(columns={'index': 'Country/Region'}, inplace=True)\n",
    "for c in 'Cases, Deaths'.split(', '):\n",
    "    df_table[f'{c} (+)'] = (df_table[c] - df_table[f'P{c}']).clip(0)  # DATA BUG\n",
    "df_table['Fatality Rate'] = (100 * df_table['Deaths'] / df_table['Cases']).round(1)\n",
    "df_table['Continent'] = df_table['Country/Region'].map(mapping['map.continent'])\n",
    "df_table.head(5)"
   ]
  },
  {
   "cell_type": "code",
   "execution_count": 16,
   "id": "fewer-occasion",
   "metadata": {
    "execution": {
     "iopub.execute_input": "2022-02-15T00:27:37.939815Z",
     "iopub.status.busy": "2022-02-15T00:27:37.939294Z",
     "iopub.status.idle": "2022-02-15T00:27:37.940940Z",
     "shell.execute_reply": "2022-02-15T00:27:37.941331Z"
    },
    "papermill": {
     "duration": 0.039031,
     "end_time": "2022-02-15T00:27:37.941448",
     "exception": false,
     "start_time": "2022-02-15T00:27:37.902417",
     "status": "completed"
    },
    "tags": []
   },
   "outputs": [],
   "source": [
    "#hide\n",
    "#delete problematic countries from table\n",
    "df_table = df_table[~df_table['Country/Region'].isin(['Cape Verde', 'Cruise Ship', 'Kosovo'])]"
   ]
  },
  {
   "cell_type": "code",
   "execution_count": 17,
   "id": "related-center",
   "metadata": {
    "execution": {
     "iopub.execute_input": "2022-02-15T00:27:38.014712Z",
     "iopub.status.busy": "2022-02-15T00:27:38.014210Z",
     "iopub.status.idle": "2022-02-15T00:27:38.023191Z",
     "shell.execute_reply": "2022-02-15T00:27:38.022806Z"
    },
    "papermill": {
     "duration": 0.049927,
     "end_time": "2022-02-15T00:27:38.023287",
     "exception": false,
     "start_time": "2022-02-15T00:27:37.973360",
     "status": "completed"
    },
    "tags": []
   },
   "outputs": [],
   "source": [
    "#hide\n",
    "metrics = [df_table.columns[index] for index in [1,2,5,6]]\n",
    "# s_china = df_table[df_table['Country/Region'].eq('China')][metrics].sum().add_prefix('China ')\n",
    "s_us = df_table[df_table['Country/Region'].eq('US')][metrics].sum().add_prefix('US ')\n",
    "s_eu = df_table[df_table['Continent'].eq('Europe')][metrics].sum().add_prefix('EU ')\n",
    "s_ind = df_table[df_table['Country/Region'].eq('India')][metrics].sum().add_prefix('India ')\n",
    "summary = {'updated': pd.to_datetime(dt_today), 'since': pd.to_datetime(dt_yday)}\n",
    "summary = {'updated': pd.to_datetime(dt_today), 'since': pd.to_datetime(dt_yday)}\n",
    "summary = {**summary, **df_table[metrics].sum(), **s_ind, **s_us, **s_eu}"
   ]
  },
  {
   "cell_type": "code",
   "execution_count": 18,
   "id": "engaging-syndrome",
   "metadata": {
    "execution": {
     "iopub.execute_input": "2022-02-15T00:27:38.091469Z",
     "iopub.status.busy": "2022-02-15T00:27:38.090968Z",
     "iopub.status.idle": "2022-02-15T00:27:38.104774Z",
     "shell.execute_reply": "2022-02-15T00:27:38.104386Z"
    },
    "papermill": {
     "duration": 0.04978,
     "end_time": "2022-02-15T00:27:38.104875",
     "exception": false,
     "start_time": "2022-02-15T00:27:38.055095",
     "status": "completed"
    },
    "tags": []
   },
   "outputs": [],
   "source": [
    "#hide\n",
    "dft_ct_new_cases = dft_cases.groupby(COL_REGION)[dt_cols].sum().diff(axis=1).fillna(0).astype(int)"
   ]
  },
  {
   "cell_type": "code",
   "execution_count": 19,
   "id": "neutral-assignment",
   "metadata": {
    "execution": {
     "iopub.execute_input": "2022-02-15T00:27:38.174193Z",
     "iopub.status.busy": "2022-02-15T00:27:38.173668Z",
     "iopub.status.idle": "2022-02-15T00:27:38.175756Z",
     "shell.execute_reply": "2022-02-15T00:27:38.175263Z"
    },
    "papermill": {
     "duration": 0.039097,
     "end_time": "2022-02-15T00:27:38.175855",
     "exception": false,
     "start_time": "2022-02-15T00:27:38.136758",
     "status": "completed"
    },
    "tags": []
   },
   "outputs": [],
   "source": [
    "#hide\n",
    "everydaycases = dft_ct_new_cases.cumsum(axis=1)"
   ]
  },
  {
   "cell_type": "code",
   "execution_count": 20,
   "id": "parliamentary-calgary",
   "metadata": {
    "execution": {
     "iopub.execute_input": "2022-02-15T00:27:38.243745Z",
     "iopub.status.busy": "2022-02-15T00:27:38.243240Z",
     "iopub.status.idle": "2022-02-15T00:27:38.864703Z",
     "shell.execute_reply": "2022-02-15T00:27:38.864247Z"
    },
    "papermill": {
     "duration": 0.656845,
     "end_time": "2022-02-15T00:27:38.864819",
     "exception": false,
     "start_time": "2022-02-15T00:27:38.207974",
     "status": "completed"
    },
    "tags": []
   },
   "outputs": [],
   "source": [
    "#hide\n",
    "import pandas as pd\n",
    "import matplotlib.pyplot as plt\n",
    "import matplotlib.ticker as ticker\n",
    "import matplotlib.animation as animation\n",
    "from IPython.display import HTML"
   ]
  },
  {
   "cell_type": "code",
   "execution_count": 21,
   "id": "lasting-extraction",
   "metadata": {
    "execution": {
     "iopub.execute_input": "2022-02-15T00:27:38.933982Z",
     "iopub.status.busy": "2022-02-15T00:27:38.933488Z",
     "iopub.status.idle": "2022-02-15T00:27:38.939732Z",
     "shell.execute_reply": "2022-02-15T00:27:38.940143Z"
    },
    "papermill": {
     "duration": 0.043485,
     "end_time": "2022-02-15T00:27:38.940259",
     "exception": false,
     "start_time": "2022-02-15T00:27:38.896774",
     "status": "completed"
    },
    "tags": []
   },
   "outputs": [],
   "source": [
    "#hide\n",
    "t = everydaycases.stack()"
   ]
  },
  {
   "cell_type": "code",
   "execution_count": 22,
   "id": "premier-sleeve",
   "metadata": {
    "execution": {
     "iopub.execute_input": "2022-02-15T00:27:39.007799Z",
     "iopub.status.busy": "2022-02-15T00:27:39.007309Z",
     "iopub.status.idle": "2022-02-15T00:27:39.016365Z",
     "shell.execute_reply": "2022-02-15T00:27:39.015971Z"
    },
    "papermill": {
     "duration": 0.044246,
     "end_time": "2022-02-15T00:27:39.016466",
     "exception": false,
     "start_time": "2022-02-15T00:27:38.972220",
     "status": "completed"
    },
    "tags": []
   },
   "outputs": [],
   "source": [
    "#hide\n",
    "g = t.reset_index(['Country/Region'])"
   ]
  },
  {
   "cell_type": "code",
   "execution_count": 23,
   "id": "distributed-pittsburgh",
   "metadata": {
    "execution": {
     "iopub.execute_input": "2022-02-15T00:27:39.084020Z",
     "iopub.status.busy": "2022-02-15T00:27:39.083517Z",
     "iopub.status.idle": "2022-02-15T00:27:39.086967Z",
     "shell.execute_reply": "2022-02-15T00:27:39.086572Z"
    },
    "papermill": {
     "duration": 0.038763,
     "end_time": "2022-02-15T00:27:39.087069",
     "exception": false,
     "start_time": "2022-02-15T00:27:39.048306",
     "status": "completed"
    },
    "tags": []
   },
   "outputs": [],
   "source": [
    "#hide\n",
    "g.index.name = 'date'"
   ]
  },
  {
   "cell_type": "code",
   "execution_count": 24,
   "id": "naked-donor",
   "metadata": {
    "execution": {
     "iopub.execute_input": "2022-02-15T00:27:39.154162Z",
     "iopub.status.busy": "2022-02-15T00:27:39.153626Z",
     "iopub.status.idle": "2022-02-15T00:27:39.155847Z",
     "shell.execute_reply": "2022-02-15T00:27:39.155416Z"
    },
    "papermill": {
     "duration": 0.037032,
     "end_time": "2022-02-15T00:27:39.155947",
     "exception": false,
     "start_time": "2022-02-15T00:27:39.118915",
     "status": "completed"
    },
    "tags": []
   },
   "outputs": [],
   "source": [
    "# #hide\n",
    "# g = g.reset_index(['date'])"
   ]
  },
  {
   "cell_type": "code",
   "execution_count": 25,
   "id": "incomplete-mustang",
   "metadata": {
    "execution": {
     "iopub.execute_input": "2022-02-15T00:27:39.223684Z",
     "iopub.status.busy": "2022-02-15T00:27:39.223191Z",
     "iopub.status.idle": "2022-02-15T00:27:39.224996Z",
     "shell.execute_reply": "2022-02-15T00:27:39.225377Z"
    },
    "papermill": {
     "duration": 0.037055,
     "end_time": "2022-02-15T00:27:39.225498",
     "exception": false,
     "start_time": "2022-02-15T00:27:39.188443",
     "status": "completed"
    },
    "tags": []
   },
   "outputs": [],
   "source": [
    "#hide\n",
    "# g.head()"
   ]
  },
  {
   "cell_type": "code",
   "execution_count": 26,
   "id": "specific-kruger",
   "metadata": {
    "execution": {
     "iopub.execute_input": "2022-02-15T00:27:39.293120Z",
     "iopub.status.busy": "2022-02-15T00:27:39.292603Z",
     "iopub.status.idle": "2022-02-15T00:27:39.294445Z",
     "shell.execute_reply": "2022-02-15T00:27:39.294818Z"
    },
    "papermill": {
     "duration": 0.03724,
     "end_time": "2022-02-15T00:27:39.294937",
     "exception": false,
     "start_time": "2022-02-15T00:27:39.257697",
     "status": "completed"
    },
    "tags": []
   },
   "outputs": [],
   "source": [
    "#hide\n",
    "# g.columns = ['date','country','cases']"
   ]
  },
  {
   "cell_type": "code",
   "execution_count": 27,
   "id": "tender-conversion",
   "metadata": {
    "execution": {
     "iopub.execute_input": "2022-02-15T00:27:39.361931Z",
     "iopub.status.busy": "2022-02-15T00:27:39.361421Z",
     "iopub.status.idle": "2022-02-15T00:27:39.363724Z",
     "shell.execute_reply": "2022-02-15T00:27:39.363319Z"
    },
    "papermill": {
     "duration": 0.037154,
     "end_time": "2022-02-15T00:27:39.363826",
     "exception": false,
     "start_time": "2022-02-15T00:27:39.326672",
     "status": "completed"
    },
    "tags": []
   },
   "outputs": [],
   "source": [
    "#hide\n",
    "# g['continent'] = g.country"
   ]
  },
  {
   "cell_type": "code",
   "execution_count": 28,
   "id": "substantial-wilderness",
   "metadata": {
    "execution": {
     "iopub.execute_input": "2022-02-15T00:27:39.431061Z",
     "iopub.status.busy": "2022-02-15T00:27:39.430550Z",
     "iopub.status.idle": "2022-02-15T00:27:39.432384Z",
     "shell.execute_reply": "2022-02-15T00:27:39.431921Z"
    },
    "papermill": {
     "duration": 0.036682,
     "end_time": "2022-02-15T00:27:39.432482",
     "exception": false,
     "start_time": "2022-02-15T00:27:39.395800",
     "status": "completed"
    },
    "tags": []
   },
   "outputs": [],
   "source": [
    "#hide\n",
    "# cols = list(g.columns.values)"
   ]
  },
  {
   "cell_type": "code",
   "execution_count": 29,
   "id": "solved-farming",
   "metadata": {
    "execution": {
     "iopub.execute_input": "2022-02-15T00:27:39.499701Z",
     "iopub.status.busy": "2022-02-15T00:27:39.499191Z",
     "iopub.status.idle": "2022-02-15T00:27:39.500752Z",
     "shell.execute_reply": "2022-02-15T00:27:39.501121Z"
    },
    "papermill": {
     "duration": 0.036776,
     "end_time": "2022-02-15T00:27:39.501235",
     "exception": false,
     "start_time": "2022-02-15T00:27:39.464459",
     "status": "completed"
    },
    "tags": []
   },
   "outputs": [],
   "source": [
    "#hide\n",
    "# cols.insert(0, cols.pop())"
   ]
  },
  {
   "cell_type": "code",
   "execution_count": 30,
   "id": "executed-adoption",
   "metadata": {
    "execution": {
     "iopub.execute_input": "2022-02-15T00:27:39.568415Z",
     "iopub.status.busy": "2022-02-15T00:27:39.567909Z",
     "iopub.status.idle": "2022-02-15T00:27:39.570042Z",
     "shell.execute_reply": "2022-02-15T00:27:39.569638Z"
    },
    "papermill": {
     "duration": 0.036897,
     "end_time": "2022-02-15T00:27:39.570143",
     "exception": false,
     "start_time": "2022-02-15T00:27:39.533246",
     "status": "completed"
    },
    "tags": []
   },
   "outputs": [],
   "source": [
    "#hide\n",
    "# g = g[cols]"
   ]
  },
  {
   "cell_type": "code",
   "execution_count": 31,
   "id": "subject-dublin",
   "metadata": {
    "execution": {
     "iopub.execute_input": "2022-02-15T00:27:39.637320Z",
     "iopub.status.busy": "2022-02-15T00:27:39.636809Z",
     "iopub.status.idle": "2022-02-15T00:27:39.638754Z",
     "shell.execute_reply": "2022-02-15T00:27:39.638367Z"
    },
    "papermill": {
     "duration": 0.036584,
     "end_time": "2022-02-15T00:27:39.638853",
     "exception": false,
     "start_time": "2022-02-15T00:27:39.602269",
     "status": "completed"
    },
    "tags": []
   },
   "outputs": [],
   "source": [
    "#hide\n",
    "# g['continent'] = g['continent'].map(mapping['map.continent'])"
   ]
  },
  {
   "cell_type": "code",
   "execution_count": 32,
   "id": "freelance-scout",
   "metadata": {
    "execution": {
     "iopub.execute_input": "2022-02-15T00:27:39.706257Z",
     "iopub.status.busy": "2022-02-15T00:27:39.705739Z",
     "iopub.status.idle": "2022-02-15T00:27:39.707768Z",
     "shell.execute_reply": "2022-02-15T00:27:39.707369Z"
    },
    "papermill": {
     "duration": 0.037081,
     "end_time": "2022-02-15T00:27:39.707864",
     "exception": false,
     "start_time": "2022-02-15T00:27:39.670783",
     "status": "completed"
    },
    "tags": []
   },
   "outputs": [],
   "source": [
    "#hide\n",
    "# g.head()"
   ]
  },
  {
   "cell_type": "code",
   "execution_count": 33,
   "id": "limited-engine",
   "metadata": {
    "execution": {
     "iopub.execute_input": "2022-02-15T00:27:39.774841Z",
     "iopub.status.busy": "2022-02-15T00:27:39.774342Z",
     "iopub.status.idle": "2022-02-15T00:27:39.775801Z",
     "shell.execute_reply": "2022-02-15T00:27:39.776209Z"
    },
    "papermill": {
     "duration": 0.036715,
     "end_time": "2022-02-15T00:27:39.776321",
     "exception": false,
     "start_time": "2022-02-15T00:27:39.739606",
     "status": "completed"
    },
    "tags": []
   },
   "outputs": [],
   "source": [
    "# hide\n",
    "# g['date'] = g['date'].astype('datetime64[ns]')"
   ]
  },
  {
   "cell_type": "code",
   "execution_count": 34,
   "id": "sophisticated-supervisor",
   "metadata": {
    "execution": {
     "iopub.execute_input": "2022-02-15T00:27:39.843477Z",
     "iopub.status.busy": "2022-02-15T00:27:39.842963Z",
     "iopub.status.idle": "2022-02-15T00:27:39.845938Z",
     "shell.execute_reply": "2022-02-15T00:27:39.846334Z"
    },
    "papermill": {
     "duration": 0.038075,
     "end_time": "2022-02-15T00:27:39.846452",
     "exception": false,
     "start_time": "2022-02-15T00:27:39.808377",
     "status": "completed"
    },
    "tags": []
   },
   "outputs": [],
   "source": [
    "#hide\n",
    "# g['date'] = g.date.dt.dayofyear"
   ]
  },
  {
   "cell_type": "code",
   "execution_count": 35,
   "id": "inside-dubai",
   "metadata": {
    "execution": {
     "iopub.execute_input": "2022-02-15T00:27:39.913406Z",
     "iopub.status.busy": "2022-02-15T00:27:39.912912Z",
     "iopub.status.idle": "2022-02-15T00:27:39.914725Z",
     "shell.execute_reply": "2022-02-15T00:27:39.915108Z"
    },
    "papermill": {
     "duration": 0.036955,
     "end_time": "2022-02-15T00:27:39.915228",
     "exception": false,
     "start_time": "2022-02-15T00:27:39.878273",
     "status": "completed"
    },
    "tags": []
   },
   "outputs": [],
   "source": [
    "#hide\n",
    "# g = g.rename(columns= {'continent':'group','country':'name','cases':'value'})"
   ]
  },
  {
   "cell_type": "code",
   "execution_count": 36,
   "id": "fleet-motorcycle",
   "metadata": {
    "execution": {
     "iopub.execute_input": "2022-02-15T00:27:39.982401Z",
     "iopub.status.busy": "2022-02-15T00:27:39.981875Z",
     "iopub.status.idle": "2022-02-15T00:27:39.983765Z",
     "shell.execute_reply": "2022-02-15T00:27:39.983366Z"
    },
    "papermill": {
     "duration": 0.03649,
     "end_time": "2022-02-15T00:27:39.983860",
     "exception": false,
     "start_time": "2022-02-15T00:27:39.947370",
     "status": "completed"
    },
    "tags": []
   },
   "outputs": [],
   "source": [
    "#hide\n",
    "# cols = ['name','group','day','value']"
   ]
  },
  {
   "cell_type": "code",
   "execution_count": 37,
   "id": "continued-sleeping",
   "metadata": {
    "execution": {
     "iopub.execute_input": "2022-02-15T00:27:40.050577Z",
     "iopub.status.busy": "2022-02-15T00:27:40.050063Z",
     "iopub.status.idle": "2022-02-15T00:27:40.051606Z",
     "shell.execute_reply": "2022-02-15T00:27:40.051973Z"
    },
    "papermill": {
     "duration": 0.036364,
     "end_time": "2022-02-15T00:27:40.052085",
     "exception": false,
     "start_time": "2022-02-15T00:27:40.015721",
     "status": "completed"
    },
    "tags": []
   },
   "outputs": [],
   "source": [
    "#hide\n",
    "# g.rename(columns= {'date':'day'},inplace = True)"
   ]
  },
  {
   "cell_type": "code",
   "execution_count": 38,
   "id": "major-fight",
   "metadata": {
    "execution": {
     "iopub.execute_input": "2022-02-15T00:27:40.119303Z",
     "iopub.status.busy": "2022-02-15T00:27:40.118783Z",
     "iopub.status.idle": "2022-02-15T00:27:40.122177Z",
     "shell.execute_reply": "2022-02-15T00:27:40.121758Z"
    },
    "papermill": {
     "duration": 0.038166,
     "end_time": "2022-02-15T00:27:40.122279",
     "exception": false,
     "start_time": "2022-02-15T00:27:40.084113",
     "status": "completed"
    },
    "tags": []
   },
   "outputs": [],
   "source": [
    "#hide\n",
    "# g = g[cols]"
   ]
  },
  {
   "cell_type": "code",
   "execution_count": 39,
   "id": "structured-mobile",
   "metadata": {
    "execution": {
     "iopub.execute_input": "2022-02-15T00:27:40.189025Z",
     "iopub.status.busy": "2022-02-15T00:27:40.188520Z",
     "iopub.status.idle": "2022-02-15T00:27:40.190298Z",
     "shell.execute_reply": "2022-02-15T00:27:40.190667Z"
    },
    "papermill": {
     "duration": 0.036814,
     "end_time": "2022-02-15T00:27:40.190782",
     "exception": false,
     "start_time": "2022-02-15T00:27:40.153968",
     "status": "completed"
    },
    "tags": []
   },
   "outputs": [],
   "source": [
    "# #hide\n",
    "# g = g[g.group.notna()]"
   ]
  },
  {
   "cell_type": "code",
   "execution_count": 40,
   "id": "determined-closing",
   "metadata": {
    "execution": {
     "iopub.execute_input": "2022-02-15T00:27:40.258079Z",
     "iopub.status.busy": "2022-02-15T00:27:40.257527Z",
     "iopub.status.idle": "2022-02-15T00:27:40.259498Z",
     "shell.execute_reply": "2022-02-15T00:27:40.259093Z"
    },
    "papermill": {
     "duration": 0.036869,
     "end_time": "2022-02-15T00:27:40.259594",
     "exception": false,
     "start_time": "2022-02-15T00:27:40.222725",
     "status": "completed"
    },
    "tags": []
   },
   "outputs": [],
   "source": [
    "# #hide\n",
    "# colors = dict(zip(\n",
    "#     [\"Oceania\", \"Europe\", \"Asia\", \"South America\", \"Middle East\", \"North America\", \"Africa\"],\n",
    "#     [\"#adb0ff\", \"#ffb3ff\", \"#90d595\", \"#e48381\", \"#aafbff\", \"#f7bb5f\", \"#eafb50\"]\n",
    "# ))\n",
    "# group_lk = g.set_index('name')['group'].to_dict()"
   ]
  },
  {
   "cell_type": "code",
   "execution_count": null,
   "id": "gross-drinking",
   "metadata": {
    "papermill": {
     "duration": 0.031826,
     "end_time": "2022-02-15T00:27:40.323207",
     "exception": false,
     "start_time": "2022-02-15T00:27:40.291381",
     "status": "completed"
    },
    "tags": []
   },
   "outputs": [],
   "source": []
  },
  {
   "cell_type": "code",
   "execution_count": 41,
   "id": "subject-macintosh",
   "metadata": {
    "execution": {
     "iopub.execute_input": "2022-02-15T00:27:40.391126Z",
     "iopub.status.busy": "2022-02-15T00:27:40.390594Z",
     "iopub.status.idle": "2022-02-15T00:27:40.393656Z",
     "shell.execute_reply": "2022-02-15T00:27:40.394068Z"
    },
    "papermill": {
     "duration": 0.03887,
     "end_time": "2022-02-15T00:27:40.394191",
     "exception": false,
     "start_time": "2022-02-15T00:27:40.355321",
     "status": "completed"
    },
    "tags": []
   },
   "outputs": [],
   "source": [
    "# #hide\n",
    "# fig, ax = plt.subplots(figsize=(15, 8))\n",
    "\n",
    "# def draw_barchart(current_day):\n",
    "#     dff = g[g['day'].eq(current_day)].sort_values(by='value', ascending=True).tail(10)\n",
    "#     ax.clear()\n",
    "#     ax.barh(dff['name'], dff['value'], color=[colors[group_lk[x]] for x in dff['name']])\n",
    "#     dx = dff['value'].max() / 200\n",
    "    \n",
    "#     for i, (value, name) in enumerate(zip(dff['value'], dff['name'])):\n",
    "#         ax.text(value-dx, i,     name,           size=14, weight=600, ha='right', va='bottom')\n",
    "#         ax.text(value-dx, i-.25, group_lk[name], size=10, color='#444444', ha='right', va='baseline')\n",
    "#         ax.text(value+dx, i,     f'{value:,.0f}',  size=14, ha='left',  va='center')\n",
    "#     ax.text(1, 0.4, current_day, transform=ax.transAxes, color='#777777', size=46, ha='right', weight=800)\n",
    "#     ax.text(0, 1.06, 'Population (thousands)', transform=ax.transAxes, size=12, color='#777777')\n",
    "#     ax.xaxis.set_major_formatter(ticker.StrMethodFormatter('{x:,.0f}'))\n",
    "#     ax.xaxis.set_ticks_position('top')\n",
    "#     ax.tick_params(axis='x', colors='#777777', labelsize=12)\n",
    "#     ax.set_yticks([])\n",
    "#     ax.margins(0, 0.01)\n",
    "#     ax.grid(which='major', axis='x', linestyle='-')\n",
    "#     ax.set_axisbelow(True)\n",
    "    \n",
    "#     ax.text(0, 1.15, 'Coronavirus',\n",
    "#             transform=ax.transAxes, size=24, weight=600, ha='left', va='top')\n",
    "# #     ax.text(1, 0, 'by @pratapvardhan; credit @jburnmurdoch', transform=ax.transAxes, color='#777777', ha='right',\n",
    "# #             bbox=dict(facecolor='white', alpha=0.8, edgecolor='white'))\n",
    "#     plt.box(False)"
   ]
  },
  {
   "cell_type": "code",
   "execution_count": 42,
   "id": "sexual-wages",
   "metadata": {
    "execution": {
     "iopub.execute_input": "2022-02-15T00:27:40.461282Z",
     "iopub.status.busy": "2022-02-15T00:27:40.460782Z",
     "iopub.status.idle": "2022-02-15T00:27:40.462293Z",
     "shell.execute_reply": "2022-02-15T00:27:40.462661Z"
    },
    "papermill": {
     "duration": 0.036653,
     "end_time": "2022-02-15T00:27:40.462778",
     "exception": false,
     "start_time": "2022-02-15T00:27:40.426125",
     "status": "completed"
    },
    "tags": []
   },
   "outputs": [],
   "source": [
    "# #hide_input\n",
    "# fig, ax = plt.subplots(figsize=(15, 8))\n",
    "# animator = animation.FuncAnimation(fig, draw_barchart, frames=range(g.day.values.min(), g.day.values.max()))\n",
    "# HTML(animator.to_jshtml())\n",
    "# # or use animator.to_html5_video() or animator.save() "
   ]
  },
  {
   "cell_type": "code",
   "execution_count": null,
   "id": "australian-container",
   "metadata": {
    "papermill": {
     "duration": 0.032072,
     "end_time": "2022-02-15T00:27:40.527303",
     "exception": false,
     "start_time": "2022-02-15T00:27:40.495231",
     "status": "completed"
    },
    "tags": []
   },
   "outputs": [],
   "source": []
  },
  {
   "cell_type": "code",
   "execution_count": null,
   "id": "mediterranean-pontiac",
   "metadata": {
    "papermill": {
     "duration": 0.031755,
     "end_time": "2022-02-15T00:27:40.590913",
     "exception": false,
     "start_time": "2022-02-15T00:27:40.559158",
     "status": "completed"
    },
    "tags": []
   },
   "outputs": [],
   "source": []
  },
  {
   "cell_type": "code",
   "execution_count": null,
   "id": "aging-legislature",
   "metadata": {
    "papermill": {
     "duration": 0.03166,
     "end_time": "2022-02-15T00:27:40.654633",
     "exception": false,
     "start_time": "2022-02-15T00:27:40.622973",
     "status": "completed"
    },
    "tags": []
   },
   "outputs": [],
   "source": []
  }
 ],
 "metadata": {
  "kernelspec": {
   "display_name": "Python 3",
   "language": "python",
   "name": "python3"
  },
  "language_info": {
   "codemirror_mode": {
    "name": "ipython",
    "version": 3
   },
   "file_extension": ".py",
   "mimetype": "text/x-python",
   "name": "python",
   "nbconvert_exporter": "python",
   "pygments_lexer": "ipython3",
   "version": "3.6.15"
  },
  "papermill": {
   "duration": 6.119456,
   "end_time": "2022-02-15T00:27:41.002699",
   "environment_variables": {},
   "exception": null,
   "input_path": "2020-03-21-covid19exp.ipynb",
   "output_path": "2020-03-21-covid19exp.ipynb",
   "parameters": {},
   "start_time": "2022-02-15T00:27:34.883243",
   "version": "2.0.0"
  }
 },
 "nbformat": 4,
 "nbformat_minor": 5
}