{
 "cells": [
  {
   "cell_type": "markdown",
   "id": "muslim-click",
   "metadata": {
    "papermill": {
     "duration": 0.034839,
     "end_time": "2022-11-02T12:20:32.311040",
     "exception": false,
     "start_time": "2022-11-02T12:20:32.276201",
     "status": "completed"
    },
    "tags": []
   },
   "source": [
    "# COVID-19 Case Race\n",
    "> A race chart to see rising cases around the world\n",
    "\n",
    "- author: Hargun Oberoi\n",
    "- image: images/covid-overview.png\n",
    "- hide: false\n",
    "- badges: false"
   ]
  },
  {
   "cell_type": "code",
   "execution_count": 1,
   "id": "proof-material",
   "metadata": {
    "execution": {
     "iopub.execute_input": "2022-11-02T12:20:32.381056Z",
     "iopub.status.busy": "2022-11-02T12:20:32.380469Z",
     "iopub.status.idle": "2022-11-02T12:20:32.687476Z",
     "shell.execute_reply": "2022-11-02T12:20:32.686995Z"
    },
    "papermill": {
     "duration": 0.3459,
     "end_time": "2022-11-02T12:20:32.687603",
     "exception": false,
     "start_time": "2022-11-02T12:20:32.341703",
     "status": "completed"
    },
    "tags": []
   },
   "outputs": [],
   "source": [
    "#hide\n",
    "import numpy as np\n",
    "import pandas as pd\n",
    "from jinja2 import Template\n",
    "from IPython.display import HTML"
   ]
  },
  {
   "cell_type": "code",
   "execution_count": 2,
   "id": "developed-terminology",
   "metadata": {
    "execution": {
     "iopub.execute_input": "2022-11-02T12:20:32.751633Z",
     "iopub.status.busy": "2022-11-02T12:20:32.751062Z",
     "iopub.status.idle": "2022-11-02T12:20:32.753381Z",
     "shell.execute_reply": "2022-11-02T12:20:32.752856Z"
    },
    "papermill": {
     "duration": 0.035907,
     "end_time": "2022-11-02T12:20:32.753479",
     "exception": false,
     "start_time": "2022-11-02T12:20:32.717572",
     "status": "completed"
    },
    "tags": []
   },
   "outputs": [],
   "source": [
    "#hide\n",
    "\n",
    "# FETCH\n",
    "base_url = 'https://raw.githubusercontent.com/pratapvardhan/notebooks/master/covid19/'\n",
    "paths = {\n",
    "    'mapping': base_url + 'mapping_countries.csv',\n",
    "    'overview': base_url + 'overview.tpl'\n",
    "}"
   ]
  },
  {
   "cell_type": "code",
   "execution_count": 3,
   "id": "dynamic-saver",
   "metadata": {
    "execution": {
     "iopub.execute_input": "2022-11-02T12:20:32.820459Z",
     "iopub.status.busy": "2022-11-02T12:20:32.819877Z",
     "iopub.status.idle": "2022-11-02T12:20:32.823650Z",
     "shell.execute_reply": "2022-11-02T12:20:32.824130Z"
    },
    "papermill": {
     "duration": 0.041173,
     "end_time": "2022-11-02T12:20:32.824243",
     "exception": false,
     "start_time": "2022-11-02T12:20:32.783070",
     "status": "completed"
    },
    "tags": []
   },
   "outputs": [
    {
     "data": {
      "text/plain": [
       "'https://raw.githubusercontent.com/pratapvardhan/notebooks/master/covid19/mapping_countries.csv'"
      ]
     },
     "execution_count": 3,
     "metadata": {},
     "output_type": "execute_result"
    }
   ],
   "source": [
    "#hide\n",
    "paths['mapping']"
   ]
  },
  {
   "cell_type": "code",
   "execution_count": 4,
   "id": "urban-software",
   "metadata": {
    "execution": {
     "iopub.execute_input": "2022-11-02T12:20:32.888824Z",
     "iopub.status.busy": "2022-11-02T12:20:32.888268Z",
     "iopub.status.idle": "2022-11-02T12:20:32.890982Z",
     "shell.execute_reply": "2022-11-02T12:20:32.890537Z"
    },
    "papermill": {
     "duration": 0.036753,
     "end_time": "2022-11-02T12:20:32.891077",
     "exception": false,
     "start_time": "2022-11-02T12:20:32.854324",
     "status": "completed"
    },
    "tags": []
   },
   "outputs": [],
   "source": [
    "#hide\n",
    "def get_mappings(url):\n",
    "    df = pd.read_csv(url)\n",
    "    return {\n",
    "        'df': df,\n",
    "        'replace.country': dict(df.dropna(subset=['Name']).set_index('Country')['Name']),\n",
    "        'map.continent': dict(df.set_index('Name')['Continent'])\n",
    "    }"
   ]
  },
  {
   "cell_type": "code",
   "execution_count": 5,
   "id": "intimate-machinery",
   "metadata": {
    "execution": {
     "iopub.execute_input": "2022-11-02T12:20:32.956253Z",
     "iopub.status.busy": "2022-11-02T12:20:32.955675Z",
     "iopub.status.idle": "2022-11-02T12:20:33.015317Z",
     "shell.execute_reply": "2022-11-02T12:20:33.014869Z"
    },
    "papermill": {
     "duration": 0.094309,
     "end_time": "2022-11-02T12:20:33.015424",
     "exception": false,
     "start_time": "2022-11-02T12:20:32.921115",
     "status": "completed"
    },
    "tags": []
   },
   "outputs": [],
   "source": [
    "#hide\n",
    "mapping = get_mappings(paths['mapping'])"
   ]
  },
  {
   "cell_type": "code",
   "execution_count": 6,
   "id": "certified-tactics",
   "metadata": {
    "execution": {
     "iopub.execute_input": "2022-11-02T12:20:33.079704Z",
     "iopub.status.busy": "2022-11-02T12:20:33.079137Z",
     "iopub.status.idle": "2022-11-02T12:20:33.081395Z",
     "shell.execute_reply": "2022-11-02T12:20:33.081809Z"
    },
    "papermill": {
     "duration": 0.036436,
     "end_time": "2022-11-02T12:20:33.081918",
     "exception": false,
     "start_time": "2022-11-02T12:20:33.045482",
     "status": "completed"
    },
    "tags": []
   },
   "outputs": [],
   "source": [
    "#hide\n",
    "def get_template(path):\n",
    "    from urllib.parse import urlparse\n",
    "    if bool(urlparse(path).netloc):\n",
    "        from urllib.request import urlopen\n",
    "        return urlopen(path).read().decode('utf8')\n",
    "    return open(path).read()"
   ]
  },
  {
   "cell_type": "code",
   "execution_count": 7,
   "id": "realistic-blast",
   "metadata": {
    "execution": {
     "iopub.execute_input": "2022-11-02T12:20:33.145986Z",
     "iopub.status.busy": "2022-11-02T12:20:33.145415Z",
     "iopub.status.idle": "2022-11-02T12:20:33.148193Z",
     "shell.execute_reply": "2022-11-02T12:20:33.147696Z"
    },
    "papermill": {
     "duration": 0.036418,
     "end_time": "2022-11-02T12:20:33.148291",
     "exception": false,
     "start_time": "2022-11-02T12:20:33.111873",
     "status": "completed"
    },
    "tags": []
   },
   "outputs": [],
   "source": [
    "#hide\n",
    "def get_frame(name):\n",
    "    url = (\n",
    "        'https://raw.githubusercontent.com/CSSEGISandData/COVID-19/master/csse_covid_19_data/'\n",
    "        f'csse_covid_19_time_series/time_series_covid19_{name}_global.csv')\n",
    "    df = pd.read_csv(url)\n",
    "    # rename countries\n",
    "    df['Country/Region'] = df['Country/Region'].replace(mapping['replace.country'])\n",
    "    return df"
   ]
  },
  {
   "cell_type": "code",
   "execution_count": 8,
   "id": "affiliated-characterization",
   "metadata": {
    "execution": {
     "iopub.execute_input": "2022-11-02T12:20:33.213293Z",
     "iopub.status.busy": "2022-11-02T12:20:33.212707Z",
     "iopub.status.idle": "2022-11-02T12:20:33.215070Z",
     "shell.execute_reply": "2022-11-02T12:20:33.214624Z"
    },
    "papermill": {
     "duration": 0.036803,
     "end_time": "2022-11-02T12:20:33.215162",
     "exception": false,
     "start_time": "2022-11-02T12:20:33.178359",
     "status": "completed"
    },
    "tags": []
   },
   "outputs": [],
   "source": [
    "#hide\n",
    "def get_dates(df):\n",
    "    dt_cols = df.columns[~df.columns.isin(['Province/State', 'Country/Region', 'Lat', 'Long'])]\n",
    "    LAST_DATE_I = -1\n",
    "    # sometimes last column may be empty, then go backwards\n",
    "    for i in range(-1, -len(dt_cols), -1):\n",
    "        if not df[dt_cols[i]].fillna(0).eq(0).all():\n",
    "            LAST_DATE_I = i\n",
    "            break\n",
    "    return LAST_DATE_I, dt_cols"
   ]
  },
  {
   "cell_type": "code",
   "execution_count": 9,
   "id": "recent-optimization",
   "metadata": {
    "execution": {
     "iopub.execute_input": "2022-11-02T12:20:33.279235Z",
     "iopub.status.busy": "2022-11-02T12:20:33.278666Z",
     "iopub.status.idle": "2022-11-02T12:20:33.929074Z",
     "shell.execute_reply": "2022-11-02T12:20:33.928488Z"
    },
    "papermill": {
     "duration": 0.684126,
     "end_time": "2022-11-02T12:20:33.929185",
     "exception": false,
     "start_time": "2022-11-02T12:20:33.245059",
     "status": "completed"
    },
    "tags": []
   },
   "outputs": [],
   "source": [
    "#hide\n",
    "COL_REGION = 'Country/Region'\n",
    "# Confirmed, Recovered, Deaths\n",
    "df = get_frame('confirmed')\n",
    "# dft_: timeseries, dfc_: today country agg\n",
    "dft_cases = df\n",
    "dft_deaths = get_frame('deaths')\n",
    "dft_recovered = get_frame('recovered')\n",
    "LAST_DATE_I, dt_cols = get_dates(df)"
   ]
  },
  {
   "cell_type": "code",
   "execution_count": 10,
   "id": "absolute-copper",
   "metadata": {
    "execution": {
     "iopub.execute_input": "2022-11-02T12:20:33.995091Z",
     "iopub.status.busy": "2022-11-02T12:20:33.994528Z",
     "iopub.status.idle": "2022-11-02T12:20:33.996718Z",
     "shell.execute_reply": "2022-11-02T12:20:33.997135Z"
    },
    "papermill": {
     "duration": 0.037737,
     "end_time": "2022-11-02T12:20:33.997255",
     "exception": false,
     "start_time": "2022-11-02T12:20:33.959518",
     "status": "completed"
    },
    "tags": []
   },
   "outputs": [],
   "source": [
    "#hide\n",
    "LAST_DATE_I, dt_cols = get_dates(df)\n",
    "dt_today =dt_cols[LAST_DATE_I]\n",
    "# dt_5day = dt_cols[LAST_DATE_I - 5]\n",
    "dt_yday = dt_cols[LAST_DATE_I - 1]"
   ]
  },
  {
   "cell_type": "code",
   "execution_count": 11,
   "id": "restricted-sheriff",
   "metadata": {
    "execution": {
     "iopub.execute_input": "2022-11-02T12:20:34.062703Z",
     "iopub.status.busy": "2022-11-02T12:20:34.062136Z",
     "iopub.status.idle": "2022-11-02T12:20:34.069246Z",
     "shell.execute_reply": "2022-11-02T12:20:34.069674Z"
    },
    "papermill": {
     "duration": 0.042497,
     "end_time": "2022-11-02T12:20:34.069791",
     "exception": false,
     "start_time": "2022-11-02T12:20:34.027294",
     "status": "completed"
    },
    "tags": []
   },
   "outputs": [],
   "source": [
    "#hide\n",
    "dfc_cases = dft_cases.groupby(COL_REGION)[dt_today].sum()\n",
    "dfc_deaths = dft_deaths.groupby(COL_REGION)[dt_today].sum()\n",
    "# dfp_cases = dft_cases.groupby(COL_REGION)[dt_5day].sum()\n",
    "# dfp_deaths = dft_deaths.groupby(COL_REGION)[dt_5day].sum()\n",
    "dfp_cases = dft_cases.groupby(COL_REGION)[dt_yday].sum()\n",
    "dfp_deaths = dft_deaths.groupby(COL_REGION)[dt_yday].sum()"
   ]
  },
  {
   "cell_type": "code",
   "execution_count": 12,
   "id": "deluxe-hepatitis",
   "metadata": {
    "execution": {
     "iopub.execute_input": "2022-11-02T12:20:34.136262Z",
     "iopub.status.busy": "2022-11-02T12:20:34.135692Z",
     "iopub.status.idle": "2022-11-02T12:20:34.140449Z",
     "shell.execute_reply": "2022-11-02T12:20:34.139965Z"
    },
    "papermill": {
     "duration": 0.040498,
     "end_time": "2022-11-02T12:20:34.140551",
     "exception": false,
     "start_time": "2022-11-02T12:20:34.100053",
     "status": "completed"
    },
    "tags": []
   },
   "outputs": [],
   "source": [
    "#hide\n",
    "df_table = (pd.DataFrame(dict(Cases = dfc_cases, Deaths = dfc_deaths, PCases = dfp_cases, PDeaths = dfp_deaths))\n",
    "            .sort_values(by = ['Cases','Deaths'], ascending = [False, False])\n",
    "            .reset_index())"
   ]
  },
  {
   "cell_type": "code",
   "execution_count": 13,
   "id": "educational-chancellor",
   "metadata": {
    "execution": {
     "iopub.execute_input": "2022-11-02T12:20:34.213229Z",
     "iopub.status.busy": "2022-11-02T12:20:34.212654Z",
     "iopub.status.idle": "2022-11-02T12:20:34.224455Z",
     "shell.execute_reply": "2022-11-02T12:20:34.223893Z"
    },
    "papermill": {
     "duration": 0.05393,
     "end_time": "2022-11-02T12:20:34.224558",
     "exception": false,
     "start_time": "2022-11-02T12:20:34.170628",
     "status": "completed"
    },
    "tags": []
   },
   "outputs": [
    {
     "data": {
      "text/html": [
       "<div>\n",
       "<style scoped>\n",
       "    .dataframe tbody tr th:only-of-type {\n",
       "        vertical-align: middle;\n",
       "    }\n",
       "\n",
       "    .dataframe tbody tr th {\n",
       "        vertical-align: top;\n",
       "    }\n",
       "\n",
       "    .dataframe thead th {\n",
       "        text-align: right;\n",
       "    }\n",
       "</style>\n",
       "<table border=\"1\" class=\"dataframe\">\n",
       "  <thead>\n",
       "    <tr style=\"text-align: right;\">\n",
       "      <th></th>\n",
       "      <th>Country/Region</th>\n",
       "      <th>Cases</th>\n",
       "      <th>Deaths</th>\n",
       "      <th>PCases</th>\n",
       "      <th>PDeaths</th>\n",
       "      <th>Cases (+)</th>\n",
       "      <th>Deaths (+)</th>\n",
       "      <th>Fatality Rate</th>\n",
       "      <th>Continent</th>\n",
       "    </tr>\n",
       "  </thead>\n",
       "  <tbody>\n",
       "    <tr>\n",
       "      <th>0</th>\n",
       "      <td>US</td>\n",
       "      <td>97531408</td>\n",
       "      <td>1070788</td>\n",
       "      <td>97495076</td>\n",
       "      <td>1070389</td>\n",
       "      <td>36332</td>\n",
       "      <td>399</td>\n",
       "      <td>1.10</td>\n",
       "      <td>North America</td>\n",
       "    </tr>\n",
       "    <tr>\n",
       "      <th>1</th>\n",
       "      <td>India</td>\n",
       "      <td>44655828</td>\n",
       "      <td>530452</td>\n",
       "      <td>44654638</td>\n",
       "      <td>529077</td>\n",
       "      <td>1190</td>\n",
       "      <td>1375</td>\n",
       "      <td>1.19</td>\n",
       "      <td>Asia</td>\n",
       "    </tr>\n",
       "    <tr>\n",
       "      <th>2</th>\n",
       "      <td>France</td>\n",
       "      <td>37033582</td>\n",
       "      <td>158034</td>\n",
       "      <td>37033519</td>\n",
       "      <td>158034</td>\n",
       "      <td>63</td>\n",
       "      <td>0</td>\n",
       "      <td>0.43</td>\n",
       "      <td>Europe</td>\n",
       "    </tr>\n",
       "    <tr>\n",
       "      <th>3</th>\n",
       "      <td>Germany</td>\n",
       "      <td>35649648</td>\n",
       "      <td>153814</td>\n",
       "      <td>35619687</td>\n",
       "      <td>153694</td>\n",
       "      <td>29961</td>\n",
       "      <td>120</td>\n",
       "      <td>0.43</td>\n",
       "      <td>Europe</td>\n",
       "    </tr>\n",
       "    <tr>\n",
       "      <th>4</th>\n",
       "      <td>Brazil</td>\n",
       "      <td>34837035</td>\n",
       "      <td>688219</td>\n",
       "      <td>34828749</td>\n",
       "      <td>688157</td>\n",
       "      <td>8286</td>\n",
       "      <td>62</td>\n",
       "      <td>1.98</td>\n",
       "      <td>South America</td>\n",
       "    </tr>\n",
       "  </tbody>\n",
       "</table>\n",
       "</div>"
      ],
      "text/plain": [
       "  Country/Region     Cases   Deaths    PCases  PDeaths  Cases (+)  Deaths (+)  \\\n",
       "0             US  97531408  1070788  97495076  1070389      36332         399   \n",
       "1          India  44655828   530452  44654638   529077       1190        1375   \n",
       "2         France  37033582   158034  37033519   158034         63           0   \n",
       "3        Germany  35649648   153814  35619687   153694      29961         120   \n",
       "4         Brazil  34837035   688219  34828749   688157       8286          62   \n",
       "\n",
       "   Fatality Rate      Continent  \n",
       "0           1.10  North America  \n",
       "1           1.19           Asia  \n",
       "2           0.43         Europe  \n",
       "3           0.43         Europe  \n",
       "4           1.98  South America  "
      ]
     },
     "execution_count": 13,
     "metadata": {},
     "output_type": "execute_result"
    }
   ],
   "source": [
    "#hide\n",
    "for c in 'Cases, Deaths'.split(', '):\n",
    "    df_table[f'{c} (+)'] = (df_table[c] - df_table[f'P{c}']).clip(0)\n",
    "    #Clip ça veut dire, les chiffres negatif sont interdit\n",
    "df_table['Fatality Rate'] = (100* df_table['Deaths']/ df_table['Cases']).round(2)\n",
    "df_table['Continent'] = df_table['Country/Region'].map(mapping['map.continent'])\n",
    "df_table.head(5)"
   ]
  },
  {
   "cell_type": "code",
   "execution_count": 14,
   "id": "aboriginal-bulgaria",
   "metadata": {
    "execution": {
     "iopub.execute_input": "2022-11-02T12:20:34.291336Z",
     "iopub.status.busy": "2022-11-02T12:20:34.290782Z",
     "iopub.status.idle": "2022-11-02T12:20:34.293053Z",
     "shell.execute_reply": "2022-11-02T12:20:34.293504Z"
    },
    "papermill": {
     "duration": 0.038149,
     "end_time": "2022-11-02T12:20:34.293618",
     "exception": false,
     "start_time": "2022-11-02T12:20:34.255469",
     "status": "completed"
    },
    "tags": []
   },
   "outputs": [],
   "source": [
    "#hide\n",
    "#delete problematic countries from table\n",
    "df_table = df_table[~df_table['Country/Region'].isin(['Cape Verde', 'Cruise Ship', 'Kosovo'])]"
   ]
  },
  {
   "cell_type": "code",
   "execution_count": 15,
   "id": "fantastic-effect",
   "metadata": {
    "execution": {
     "iopub.execute_input": "2022-11-02T12:20:34.362741Z",
     "iopub.status.busy": "2022-11-02T12:20:34.362167Z",
     "iopub.status.idle": "2022-11-02T12:20:34.379493Z",
     "shell.execute_reply": "2022-11-02T12:20:34.378937Z"
    },
    "papermill": {
     "duration": 0.055378,
     "end_time": "2022-11-02T12:20:34.379602",
     "exception": false,
     "start_time": "2022-11-02T12:20:34.324224",
     "status": "completed"
    },
    "tags": []
   },
   "outputs": [
    {
     "data": {
      "text/html": [
       "<div>\n",
       "<style scoped>\n",
       "    .dataframe tbody tr th:only-of-type {\n",
       "        vertical-align: middle;\n",
       "    }\n",
       "\n",
       "    .dataframe tbody tr th {\n",
       "        vertical-align: top;\n",
       "    }\n",
       "\n",
       "    .dataframe thead th {\n",
       "        text-align: right;\n",
       "    }\n",
       "</style>\n",
       "<table border=\"1\" class=\"dataframe\">\n",
       "  <thead>\n",
       "    <tr style=\"text-align: right;\">\n",
       "      <th></th>\n",
       "      <th>Country/Region</th>\n",
       "      <th>Cases</th>\n",
       "      <th>Deaths</th>\n",
       "      <th>PCases</th>\n",
       "      <th>PDeaths</th>\n",
       "      <th>Cases (+)</th>\n",
       "      <th>Deaths (+)</th>\n",
       "      <th>Fatality Rate</th>\n",
       "      <th>Continent</th>\n",
       "    </tr>\n",
       "  </thead>\n",
       "  <tbody>\n",
       "    <tr>\n",
       "      <th>0</th>\n",
       "      <td>US</td>\n",
       "      <td>97531408</td>\n",
       "      <td>1070788</td>\n",
       "      <td>97495076</td>\n",
       "      <td>1070389</td>\n",
       "      <td>36332</td>\n",
       "      <td>399</td>\n",
       "      <td>1.1</td>\n",
       "      <td>North America</td>\n",
       "    </tr>\n",
       "    <tr>\n",
       "      <th>1</th>\n",
       "      <td>India</td>\n",
       "      <td>44655828</td>\n",
       "      <td>530452</td>\n",
       "      <td>44654638</td>\n",
       "      <td>529077</td>\n",
       "      <td>1190</td>\n",
       "      <td>1375</td>\n",
       "      <td>1.2</td>\n",
       "      <td>Asia</td>\n",
       "    </tr>\n",
       "    <tr>\n",
       "      <th>2</th>\n",
       "      <td>France</td>\n",
       "      <td>37033582</td>\n",
       "      <td>158034</td>\n",
       "      <td>37033519</td>\n",
       "      <td>158034</td>\n",
       "      <td>63</td>\n",
       "      <td>0</td>\n",
       "      <td>0.4</td>\n",
       "      <td>Europe</td>\n",
       "    </tr>\n",
       "    <tr>\n",
       "      <th>3</th>\n",
       "      <td>Germany</td>\n",
       "      <td>35649648</td>\n",
       "      <td>153814</td>\n",
       "      <td>35619687</td>\n",
       "      <td>153694</td>\n",
       "      <td>29961</td>\n",
       "      <td>120</td>\n",
       "      <td>0.4</td>\n",
       "      <td>Europe</td>\n",
       "    </tr>\n",
       "    <tr>\n",
       "      <th>4</th>\n",
       "      <td>Brazil</td>\n",
       "      <td>34837035</td>\n",
       "      <td>688219</td>\n",
       "      <td>34828749</td>\n",
       "      <td>688157</td>\n",
       "      <td>8286</td>\n",
       "      <td>62</td>\n",
       "      <td>2.0</td>\n",
       "      <td>South America</td>\n",
       "    </tr>\n",
       "  </tbody>\n",
       "</table>\n",
       "</div>"
      ],
      "text/plain": [
       "  Country/Region     Cases   Deaths    PCases  PDeaths  Cases (+)  Deaths (+)  \\\n",
       "0             US  97531408  1070788  97495076  1070389      36332         399   \n",
       "1          India  44655828   530452  44654638   529077       1190        1375   \n",
       "2         France  37033582   158034  37033519   158034         63           0   \n",
       "3        Germany  35649648   153814  35619687   153694      29961         120   \n",
       "4         Brazil  34837035   688219  34828749   688157       8286          62   \n",
       "\n",
       "   Fatality Rate      Continent  \n",
       "0            1.1  North America  \n",
       "1            1.2           Asia  \n",
       "2            0.4         Europe  \n",
       "3            0.4         Europe  \n",
       "4            2.0  South America  "
      ]
     },
     "execution_count": 15,
     "metadata": {},
     "output_type": "execute_result"
    }
   ],
   "source": [
    "#hide\n",
    "df_table = (pd.DataFrame(dict(Cases=dfc_cases, Deaths=dfc_deaths, PCases=dfp_cases, PDeaths=dfp_deaths))\n",
    "             .sort_values(by=['Cases', 'Deaths'], ascending=[False, False])\n",
    "             .reset_index())\n",
    "df_table.rename(columns={'index': 'Country/Region'}, inplace=True)\n",
    "for c in 'Cases, Deaths'.split(', '):\n",
    "    df_table[f'{c} (+)'] = (df_table[c] - df_table[f'P{c}']).clip(0)  # DATA BUG\n",
    "df_table['Fatality Rate'] = (100 * df_table['Deaths'] / df_table['Cases']).round(1)\n",
    "df_table['Continent'] = df_table['Country/Region'].map(mapping['map.continent'])\n",
    "df_table.head(5)"
   ]
  },
  {
   "cell_type": "code",
   "execution_count": 16,
   "id": "fewer-occasion",
   "metadata": {
    "execution": {
     "iopub.execute_input": "2022-11-02T12:20:34.447148Z",
     "iopub.status.busy": "2022-11-02T12:20:34.446594Z",
     "iopub.status.idle": "2022-11-02T12:20:34.449413Z",
     "shell.execute_reply": "2022-11-02T12:20:34.449845Z"
    },
    "papermill": {
     "duration": 0.038908,
     "end_time": "2022-11-02T12:20:34.449958",
     "exception": false,
     "start_time": "2022-11-02T12:20:34.411050",
     "status": "completed"
    },
    "tags": []
   },
   "outputs": [],
   "source": [
    "#hide\n",
    "#delete problematic countries from table\n",
    "df_table = df_table[~df_table['Country/Region'].isin(['Cape Verde', 'Cruise Ship', 'Kosovo'])]"
   ]
  },
  {
   "cell_type": "code",
   "execution_count": 17,
   "id": "related-center",
   "metadata": {
    "execution": {
     "iopub.execute_input": "2022-11-02T12:20:34.522260Z",
     "iopub.status.busy": "2022-11-02T12:20:34.521701Z",
     "iopub.status.idle": "2022-11-02T12:20:34.531474Z",
     "shell.execute_reply": "2022-11-02T12:20:34.531019Z"
    },
    "papermill": {
     "duration": 0.050583,
     "end_time": "2022-11-02T12:20:34.531576",
     "exception": false,
     "start_time": "2022-11-02T12:20:34.480993",
     "status": "completed"
    },
    "tags": []
   },
   "outputs": [],
   "source": [
    "#hide\n",
    "metrics = [df_table.columns[index] for index in [1,2,5,6]]\n",
    "# s_china = df_table[df_table['Country/Region'].eq('China')][metrics].sum().add_prefix('China ')\n",
    "s_us = df_table[df_table['Country/Region'].eq('US')][metrics].sum().add_prefix('US ')\n",
    "s_eu = df_table[df_table['Continent'].eq('Europe')][metrics].sum().add_prefix('EU ')\n",
    "s_ind = df_table[df_table['Country/Region'].eq('India')][metrics].sum().add_prefix('India ')\n",
    "summary = {'updated': pd.to_datetime(dt_today), 'since': pd.to_datetime(dt_yday)}\n",
    "summary = {'updated': pd.to_datetime(dt_today), 'since': pd.to_datetime(dt_yday)}\n",
    "summary = {**summary, **df_table[metrics].sum(), **s_ind, **s_us, **s_eu}"
   ]
  },
  {
   "cell_type": "code",
   "execution_count": 18,
   "id": "engaging-syndrome",
   "metadata": {
    "execution": {
     "iopub.execute_input": "2022-11-02T12:20:34.598712Z",
     "iopub.status.busy": "2022-11-02T12:20:34.598137Z",
     "iopub.status.idle": "2022-11-02T12:20:34.617515Z",
     "shell.execute_reply": "2022-11-02T12:20:34.617053Z"
    },
    "papermill": {
     "duration": 0.054907,
     "end_time": "2022-11-02T12:20:34.617621",
     "exception": false,
     "start_time": "2022-11-02T12:20:34.562714",
     "status": "completed"
    },
    "tags": []
   },
   "outputs": [],
   "source": [
    "#hide\n",
    "dft_ct_new_cases = dft_cases.groupby(COL_REGION)[dt_cols].sum().diff(axis=1).fillna(0).astype(int)"
   ]
  },
  {
   "cell_type": "code",
   "execution_count": 19,
   "id": "neutral-assignment",
   "metadata": {
    "execution": {
     "iopub.execute_input": "2022-11-02T12:20:34.683938Z",
     "iopub.status.busy": "2022-11-02T12:20:34.683390Z",
     "iopub.status.idle": "2022-11-02T12:20:34.689199Z",
     "shell.execute_reply": "2022-11-02T12:20:34.688743Z"
    },
    "papermill": {
     "duration": 0.040304,
     "end_time": "2022-11-02T12:20:34.689300",
     "exception": false,
     "start_time": "2022-11-02T12:20:34.648996",
     "status": "completed"
    },
    "tags": []
   },
   "outputs": [],
   "source": [
    "#hide\n",
    "everydaycases = dft_ct_new_cases.cumsum(axis=1)"
   ]
  },
  {
   "cell_type": "code",
   "execution_count": 20,
   "id": "parliamentary-calgary",
   "metadata": {
    "execution": {
     "iopub.execute_input": "2022-11-02T12:20:34.756076Z",
     "iopub.status.busy": "2022-11-02T12:20:34.755492Z",
     "iopub.status.idle": "2022-11-02T12:20:35.289835Z",
     "shell.execute_reply": "2022-11-02T12:20:35.289019Z"
    },
    "papermill": {
     "duration": 0.569455,
     "end_time": "2022-11-02T12:20:35.289953",
     "exception": false,
     "start_time": "2022-11-02T12:20:34.720498",
     "status": "completed"
    },
    "tags": []
   },
   "outputs": [],
   "source": [
    "#hide\n",
    "import pandas as pd\n",
    "import matplotlib.pyplot as plt\n",
    "import matplotlib.ticker as ticker\n",
    "import matplotlib.animation as animation\n",
    "from IPython.display import HTML"
   ]
  },
  {
   "cell_type": "code",
   "execution_count": 21,
   "id": "lasting-extraction",
   "metadata": {
    "execution": {
     "iopub.execute_input": "2022-11-02T12:20:35.358653Z",
     "iopub.status.busy": "2022-11-02T12:20:35.358095Z",
     "iopub.status.idle": "2022-11-02T12:20:35.364900Z",
     "shell.execute_reply": "2022-11-02T12:20:35.365351Z"
    },
    "papermill": {
     "duration": 0.044324,
     "end_time": "2022-11-02T12:20:35.365468",
     "exception": false,
     "start_time": "2022-11-02T12:20:35.321144",
     "status": "completed"
    },
    "tags": []
   },
   "outputs": [],
   "source": [
    "#hide\n",
    "t = everydaycases.stack()"
   ]
  },
  {
   "cell_type": "code",
   "execution_count": 22,
   "id": "premier-sleeve",
   "metadata": {
    "execution": {
     "iopub.execute_input": "2022-11-02T12:20:35.431786Z",
     "iopub.status.busy": "2022-11-02T12:20:35.431233Z",
     "iopub.status.idle": "2022-11-02T12:20:35.443097Z",
     "shell.execute_reply": "2022-11-02T12:20:35.442640Z"
    },
    "papermill": {
     "duration": 0.0465,
     "end_time": "2022-11-02T12:20:35.443198",
     "exception": false,
     "start_time": "2022-11-02T12:20:35.396698",
     "status": "completed"
    },
    "tags": []
   },
   "outputs": [],
   "source": [
    "#hide\n",
    "g = t.reset_index(['Country/Region'])"
   ]
  },
  {
   "cell_type": "code",
   "execution_count": 23,
   "id": "distributed-pittsburgh",
   "metadata": {
    "execution": {
     "iopub.execute_input": "2022-11-02T12:20:35.509226Z",
     "iopub.status.busy": "2022-11-02T12:20:35.508658Z",
     "iopub.status.idle": "2022-11-02T12:20:35.511182Z",
     "shell.execute_reply": "2022-11-02T12:20:35.510628Z"
    },
    "papermill": {
     "duration": 0.036998,
     "end_time": "2022-11-02T12:20:35.511281",
     "exception": false,
     "start_time": "2022-11-02T12:20:35.474283",
     "status": "completed"
    },
    "tags": []
   },
   "outputs": [],
   "source": [
    "#hide\n",
    "g.index.name = 'date'"
   ]
  },
  {
   "cell_type": "code",
   "execution_count": 24,
   "id": "naked-donor",
   "metadata": {
    "execution": {
     "iopub.execute_input": "2022-11-02T12:20:35.577404Z",
     "iopub.status.busy": "2022-11-02T12:20:35.576829Z",
     "iopub.status.idle": "2022-11-02T12:20:35.578854Z",
     "shell.execute_reply": "2022-11-02T12:20:35.579254Z"
    },
    "papermill": {
     "duration": 0.036886,
     "end_time": "2022-11-02T12:20:35.579373",
     "exception": false,
     "start_time": "2022-11-02T12:20:35.542487",
     "status": "completed"
    },
    "tags": []
   },
   "outputs": [],
   "source": [
    "# #hide\n",
    "# g = g.reset_index(['date'])"
   ]
  },
  {
   "cell_type": "code",
   "execution_count": 25,
   "id": "incomplete-mustang",
   "metadata": {
    "execution": {
     "iopub.execute_input": "2022-11-02T12:20:35.645627Z",
     "iopub.status.busy": "2022-11-02T12:20:35.645054Z",
     "iopub.status.idle": "2022-11-02T12:20:35.647532Z",
     "shell.execute_reply": "2022-11-02T12:20:35.647002Z"
    },
    "papermill": {
     "duration": 0.036993,
     "end_time": "2022-11-02T12:20:35.647632",
     "exception": false,
     "start_time": "2022-11-02T12:20:35.610639",
     "status": "completed"
    },
    "tags": []
   },
   "outputs": [],
   "source": [
    "#hide\n",
    "# g.head()"
   ]
  },
  {
   "cell_type": "code",
   "execution_count": 26,
   "id": "specific-kruger",
   "metadata": {
    "execution": {
     "iopub.execute_input": "2022-11-02T12:20:35.713995Z",
     "iopub.status.busy": "2022-11-02T12:20:35.713412Z",
     "iopub.status.idle": "2022-11-02T12:20:35.715798Z",
     "shell.execute_reply": "2022-11-02T12:20:35.715352Z"
    },
    "papermill": {
     "duration": 0.036924,
     "end_time": "2022-11-02T12:20:35.715897",
     "exception": false,
     "start_time": "2022-11-02T12:20:35.678973",
     "status": "completed"
    },
    "tags": []
   },
   "outputs": [],
   "source": [
    "#hide\n",
    "# g.columns = ['date','country','cases']"
   ]
  },
  {
   "cell_type": "code",
   "execution_count": 27,
   "id": "tender-conversion",
   "metadata": {
    "execution": {
     "iopub.execute_input": "2022-11-02T12:20:35.782161Z",
     "iopub.status.busy": "2022-11-02T12:20:35.781519Z",
     "iopub.status.idle": "2022-11-02T12:20:35.784012Z",
     "shell.execute_reply": "2022-11-02T12:20:35.783559Z"
    },
    "papermill": {
     "duration": 0.037139,
     "end_time": "2022-11-02T12:20:35.784139",
     "exception": false,
     "start_time": "2022-11-02T12:20:35.747000",
     "status": "completed"
    },
    "tags": []
   },
   "outputs": [],
   "source": [
    "#hide\n",
    "# g['continent'] = g.country"
   ]
  },
  {
   "cell_type": "code",
   "execution_count": 28,
   "id": "substantial-wilderness",
   "metadata": {
    "execution": {
     "iopub.execute_input": "2022-11-02T12:20:35.852053Z",
     "iopub.status.busy": "2022-11-02T12:20:35.851435Z",
     "iopub.status.idle": "2022-11-02T12:20:35.853936Z",
     "shell.execute_reply": "2022-11-02T12:20:35.853380Z"
    },
    "papermill": {
     "duration": 0.038267,
     "end_time": "2022-11-02T12:20:35.854046",
     "exception": false,
     "start_time": "2022-11-02T12:20:35.815779",
     "status": "completed"
    },
    "tags": []
   },
   "outputs": [],
   "source": [
    "#hide\n",
    "# cols = list(g.columns.values)"
   ]
  },
  {
   "cell_type": "code",
   "execution_count": 29,
   "id": "solved-farming",
   "metadata": {
    "execution": {
     "iopub.execute_input": "2022-11-02T12:20:35.921637Z",
     "iopub.status.busy": "2022-11-02T12:20:35.920959Z",
     "iopub.status.idle": "2022-11-02T12:20:35.922736Z",
     "shell.execute_reply": "2022-11-02T12:20:35.923214Z"
    },
    "papermill": {
     "duration": 0.037969,
     "end_time": "2022-11-02T12:20:35.923370",
     "exception": false,
     "start_time": "2022-11-02T12:20:35.885401",
     "status": "completed"
    },
    "tags": []
   },
   "outputs": [],
   "source": [
    "#hide\n",
    "# cols.insert(0, cols.pop())"
   ]
  },
  {
   "cell_type": "code",
   "execution_count": 30,
   "id": "executed-adoption",
   "metadata": {
    "execution": {
     "iopub.execute_input": "2022-11-02T12:20:35.990250Z",
     "iopub.status.busy": "2022-11-02T12:20:35.989654Z",
     "iopub.status.idle": "2022-11-02T12:20:35.992073Z",
     "shell.execute_reply": "2022-11-02T12:20:35.991510Z"
    },
    "papermill": {
     "duration": 0.037194,
     "end_time": "2022-11-02T12:20:35.992181",
     "exception": false,
     "start_time": "2022-11-02T12:20:35.954987",
     "status": "completed"
    },
    "tags": []
   },
   "outputs": [],
   "source": [
    "#hide\n",
    "# g = g[cols]"
   ]
  },
  {
   "cell_type": "code",
   "execution_count": 31,
   "id": "subject-dublin",
   "metadata": {
    "execution": {
     "iopub.execute_input": "2022-11-02T12:20:36.058481Z",
     "iopub.status.busy": "2022-11-02T12:20:36.057908Z",
     "iopub.status.idle": "2022-11-02T12:20:36.060384Z",
     "shell.execute_reply": "2022-11-02T12:20:36.059906Z"
    },
    "papermill": {
     "duration": 0.036999,
     "end_time": "2022-11-02T12:20:36.060486",
     "exception": false,
     "start_time": "2022-11-02T12:20:36.023487",
     "status": "completed"
    },
    "tags": []
   },
   "outputs": [],
   "source": [
    "#hide\n",
    "# g['continent'] = g['continent'].map(mapping['map.continent'])"
   ]
  },
  {
   "cell_type": "code",
   "execution_count": 32,
   "id": "freelance-scout",
   "metadata": {
    "execution": {
     "iopub.execute_input": "2022-11-02T12:20:36.126581Z",
     "iopub.status.busy": "2022-11-02T12:20:36.125966Z",
     "iopub.status.idle": "2022-11-02T12:20:36.128340Z",
     "shell.execute_reply": "2022-11-02T12:20:36.127784Z"
    },
    "papermill": {
     "duration": 0.036584,
     "end_time": "2022-11-02T12:20:36.128441",
     "exception": false,
     "start_time": "2022-11-02T12:20:36.091857",
     "status": "completed"
    },
    "tags": []
   },
   "outputs": [],
   "source": [
    "#hide\n",
    "# g.head()"
   ]
  },
  {
   "cell_type": "code",
   "execution_count": 33,
   "id": "limited-engine",
   "metadata": {
    "execution": {
     "iopub.execute_input": "2022-11-02T12:20:36.195206Z",
     "iopub.status.busy": "2022-11-02T12:20:36.194545Z",
     "iopub.status.idle": "2022-11-02T12:20:36.197291Z",
     "shell.execute_reply": "2022-11-02T12:20:36.196800Z"
    },
    "papermill": {
     "duration": 0.037826,
     "end_time": "2022-11-02T12:20:36.197412",
     "exception": false,
     "start_time": "2022-11-02T12:20:36.159586",
     "status": "completed"
    },
    "tags": []
   },
   "outputs": [],
   "source": [
    "# hide\n",
    "# g['date'] = g['date'].astype('datetime64[ns]')"
   ]
  },
  {
   "cell_type": "code",
   "execution_count": 34,
   "id": "sophisticated-supervisor",
   "metadata": {
    "execution": {
     "iopub.execute_input": "2022-11-02T12:20:36.263653Z",
     "iopub.status.busy": "2022-11-02T12:20:36.263083Z",
     "iopub.status.idle": "2022-11-02T12:20:36.265474Z",
     "shell.execute_reply": "2022-11-02T12:20:36.264947Z"
    },
    "papermill": {
     "duration": 0.036619,
     "end_time": "2022-11-02T12:20:36.265572",
     "exception": false,
     "start_time": "2022-11-02T12:20:36.228953",
     "status": "completed"
    },
    "tags": []
   },
   "outputs": [],
   "source": [
    "#hide\n",
    "# g['date'] = g.date.dt.dayofyear"
   ]
  },
  {
   "cell_type": "code",
   "execution_count": 35,
   "id": "inside-dubai",
   "metadata": {
    "execution": {
     "iopub.execute_input": "2022-11-02T12:20:36.331346Z",
     "iopub.status.busy": "2022-11-02T12:20:36.330778Z",
     "iopub.status.idle": "2022-11-02T12:20:36.333503Z",
     "shell.execute_reply": "2022-11-02T12:20:36.332996Z"
    },
    "papermill": {
     "duration": 0.036908,
     "end_time": "2022-11-02T12:20:36.333603",
     "exception": false,
     "start_time": "2022-11-02T12:20:36.296695",
     "status": "completed"
    },
    "tags": []
   },
   "outputs": [],
   "source": [
    "#hide\n",
    "# g = g.rename(columns= {'continent':'group','country':'name','cases':'value'})"
   ]
  },
  {
   "cell_type": "code",
   "execution_count": 36,
   "id": "fleet-motorcycle",
   "metadata": {
    "execution": {
     "iopub.execute_input": "2022-11-02T12:20:36.399322Z",
     "iopub.status.busy": "2022-11-02T12:20:36.398748Z",
     "iopub.status.idle": "2022-11-02T12:20:36.401250Z",
     "shell.execute_reply": "2022-11-02T12:20:36.400773Z"
    },
    "papermill": {
     "duration": 0.03629,
     "end_time": "2022-11-02T12:20:36.401348",
     "exception": false,
     "start_time": "2022-11-02T12:20:36.365058",
     "status": "completed"
    },
    "tags": []
   },
   "outputs": [],
   "source": [
    "#hide\n",
    "# cols = ['name','group','day','value']"
   ]
  },
  {
   "cell_type": "code",
   "execution_count": 37,
   "id": "continued-sleeping",
   "metadata": {
    "execution": {
     "iopub.execute_input": "2022-11-02T12:20:36.466455Z",
     "iopub.status.busy": "2022-11-02T12:20:36.465888Z",
     "iopub.status.idle": "2022-11-02T12:20:36.468297Z",
     "shell.execute_reply": "2022-11-02T12:20:36.467749Z"
    },
    "papermill": {
     "duration": 0.036096,
     "end_time": "2022-11-02T12:20:36.468395",
     "exception": false,
     "start_time": "2022-11-02T12:20:36.432299",
     "status": "completed"
    },
    "tags": []
   },
   "outputs": [],
   "source": [
    "#hide\n",
    "# g.rename(columns= {'date':'day'},inplace = True)"
   ]
  },
  {
   "cell_type": "code",
   "execution_count": 38,
   "id": "major-fight",
   "metadata": {
    "execution": {
     "iopub.execute_input": "2022-11-02T12:20:36.533609Z",
     "iopub.status.busy": "2022-11-02T12:20:36.533035Z",
     "iopub.status.idle": "2022-11-02T12:20:36.535411Z",
     "shell.execute_reply": "2022-11-02T12:20:36.534884Z"
    },
    "papermill": {
     "duration": 0.036106,
     "end_time": "2022-11-02T12:20:36.535507",
     "exception": false,
     "start_time": "2022-11-02T12:20:36.499401",
     "status": "completed"
    },
    "tags": []
   },
   "outputs": [],
   "source": [
    "#hide\n",
    "# g = g[cols]"
   ]
  },
  {
   "cell_type": "code",
   "execution_count": 39,
   "id": "structured-mobile",
   "metadata": {
    "execution": {
     "iopub.execute_input": "2022-11-02T12:20:36.600579Z",
     "iopub.status.busy": "2022-11-02T12:20:36.599992Z",
     "iopub.status.idle": "2022-11-02T12:20:36.602417Z",
     "shell.execute_reply": "2022-11-02T12:20:36.601980Z"
    },
    "papermill": {
     "duration": 0.036112,
     "end_time": "2022-11-02T12:20:36.602509",
     "exception": false,
     "start_time": "2022-11-02T12:20:36.566397",
     "status": "completed"
    },
    "tags": []
   },
   "outputs": [],
   "source": [
    "# #hide\n",
    "# g = g[g.group.notna()]"
   ]
  },
  {
   "cell_type": "code",
   "execution_count": 40,
   "id": "determined-closing",
   "metadata": {
    "execution": {
     "iopub.execute_input": "2022-11-02T12:20:36.668007Z",
     "iopub.status.busy": "2022-11-02T12:20:36.667432Z",
     "iopub.status.idle": "2022-11-02T12:20:36.669822Z",
     "shell.execute_reply": "2022-11-02T12:20:36.669383Z"
    },
    "papermill": {
     "duration": 0.036299,
     "end_time": "2022-11-02T12:20:36.669916",
     "exception": false,
     "start_time": "2022-11-02T12:20:36.633617",
     "status": "completed"
    },
    "tags": []
   },
   "outputs": [],
   "source": [
    "# #hide\n",
    "# colors = dict(zip(\n",
    "#     [\"Oceania\", \"Europe\", \"Asia\", \"South America\", \"Middle East\", \"North America\", \"Africa\"],\n",
    "#     [\"#adb0ff\", \"#ffb3ff\", \"#90d595\", \"#e48381\", \"#aafbff\", \"#f7bb5f\", \"#eafb50\"]\n",
    "# ))\n",
    "# group_lk = g.set_index('name')['group'].to_dict()"
   ]
  },
  {
   "cell_type": "code",
   "execution_count": null,
   "id": "gross-drinking",
   "metadata": {
    "papermill": {
     "duration": 0.030855,
     "end_time": "2022-11-02T12:20:36.731620",
     "exception": false,
     "start_time": "2022-11-02T12:20:36.700765",
     "status": "completed"
    },
    "tags": []
   },
   "outputs": [],
   "source": []
  },
  {
   "cell_type": "code",
   "execution_count": 41,
   "id": "subject-macintosh",
   "metadata": {
    "execution": {
     "iopub.execute_input": "2022-11-02T12:20:36.797491Z",
     "iopub.status.busy": "2022-11-02T12:20:36.796907Z",
     "iopub.status.idle": "2022-11-02T12:20:36.799406Z",
     "shell.execute_reply": "2022-11-02T12:20:36.798949Z"
    },
    "papermill": {
     "duration": 0.036874,
     "end_time": "2022-11-02T12:20:36.799503",
     "exception": false,
     "start_time": "2022-11-02T12:20:36.762629",
     "status": "completed"
    },
    "tags": []
   },
   "outputs": [],
   "source": [
    "# #hide\n",
    "# fig, ax = plt.subplots(figsize=(15, 8))\n",
    "\n",
    "# def draw_barchart(current_day):\n",
    "#     dff = g[g['day'].eq(current_day)].sort_values(by='value', ascending=True).tail(10)\n",
    "#     ax.clear()\n",
    "#     ax.barh(dff['name'], dff['value'], color=[colors[group_lk[x]] for x in dff['name']])\n",
    "#     dx = dff['value'].max() / 200\n",
    "    \n",
    "#     for i, (value, name) in enumerate(zip(dff['value'], dff['name'])):\n",
    "#         ax.text(value-dx, i,     name,           size=14, weight=600, ha='right', va='bottom')\n",
    "#         ax.text(value-dx, i-.25, group_lk[name], size=10, color='#444444', ha='right', va='baseline')\n",
    "#         ax.text(value+dx, i,     f'{value:,.0f}',  size=14, ha='left',  va='center')\n",
    "#     ax.text(1, 0.4, current_day, transform=ax.transAxes, color='#777777', size=46, ha='right', weight=800)\n",
    "#     ax.text(0, 1.06, 'Population (thousands)', transform=ax.transAxes, size=12, color='#777777')\n",
    "#     ax.xaxis.set_major_formatter(ticker.StrMethodFormatter('{x:,.0f}'))\n",
    "#     ax.xaxis.set_ticks_position('top')\n",
    "#     ax.tick_params(axis='x', colors='#777777', labelsize=12)\n",
    "#     ax.set_yticks([])\n",
    "#     ax.margins(0, 0.01)\n",
    "#     ax.grid(which='major', axis='x', linestyle='-')\n",
    "#     ax.set_axisbelow(True)\n",
    "    \n",
    "#     ax.text(0, 1.15, 'Coronavirus',\n",
    "#             transform=ax.transAxes, size=24, weight=600, ha='left', va='top')\n",
    "# #     ax.text(1, 0, 'by @pratapvardhan; credit @jburnmurdoch', transform=ax.transAxes, color='#777777', ha='right',\n",
    "# #             bbox=dict(facecolor='white', alpha=0.8, edgecolor='white'))\n",
    "#     plt.box(False)"
   ]
  },
  {
   "cell_type": "code",
   "execution_count": 42,
   "id": "sexual-wages",
   "metadata": {
    "execution": {
     "iopub.execute_input": "2022-11-02T12:20:36.865110Z",
     "iopub.status.busy": "2022-11-02T12:20:36.864548Z",
     "iopub.status.idle": "2022-11-02T12:20:36.867029Z",
     "shell.execute_reply": "2022-11-02T12:20:36.866589Z"
    },
    "papermill": {
     "duration": 0.03662,
     "end_time": "2022-11-02T12:20:36.867124",
     "exception": false,
     "start_time": "2022-11-02T12:20:36.830504",
     "status": "completed"
    },
    "tags": []
   },
   "outputs": [],
   "source": [
    "# #hide_input\n",
    "# fig, ax = plt.subplots(figsize=(15, 8))\n",
    "# animator = animation.FuncAnimation(fig, draw_barchart, frames=range(g.day.values.min(), g.day.values.max()))\n",
    "# HTML(animator.to_jshtml())\n",
    "# # or use animator.to_html5_video() or animator.save() "
   ]
  },
  {
   "cell_type": "code",
   "execution_count": null,
   "id": "australian-container",
   "metadata": {
    "papermill": {
     "duration": 0.030843,
     "end_time": "2022-11-02T12:20:36.928968",
     "exception": false,
     "start_time": "2022-11-02T12:20:36.898125",
     "status": "completed"
    },
    "tags": []
   },
   "outputs": [],
   "source": []
  },
  {
   "cell_type": "code",
   "execution_count": null,
   "id": "mediterranean-pontiac",
   "metadata": {
    "papermill": {
     "duration": 0.030884,
     "end_time": "2022-11-02T12:20:36.990551",
     "exception": false,
     "start_time": "2022-11-02T12:20:36.959667",
     "status": "completed"
    },
    "tags": []
   },
   "outputs": [],
   "source": []
  },
  {
   "cell_type": "code",
   "execution_count": null,
   "id": "aging-legislature",
   "metadata": {
    "papermill": {
     "duration": 0.030763,
     "end_time": "2022-11-02T12:20:37.052301",
     "exception": false,
     "start_time": "2022-11-02T12:20:37.021538",
     "status": "completed"
    },
    "tags": []
   },
   "outputs": [],
   "source": []
  }
 ],
 "metadata": {
  "kernelspec": {
   "display_name": "Python 3",
   "language": "python",
   "name": "python3"
  },
  "language_info": {
   "codemirror_mode": {
    "name": "ipython",
    "version": 3
   },
   "file_extension": ".py",
   "mimetype": "text/x-python",
   "name": "python",
   "nbconvert_exporter": "python",
   "pygments_lexer": "ipython3",
   "version": "3.6.15"
  },
  "papermill": {
   "duration": 6.05892,
   "end_time": "2022-11-02T12:20:37.400729",
   "environment_variables": {},
   "exception": null,
   "input_path": "2020-03-21-covid19exp.ipynb",
   "output_path": "2020-03-21-covid19exp.ipynb",
   "parameters": {},
   "start_time": "2022-11-02T12:20:31.341809",
   "version": "2.0.0"
  }
 },
 "nbformat": 4,
 "nbformat_minor": 5
}