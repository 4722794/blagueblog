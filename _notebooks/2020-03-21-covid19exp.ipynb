{
 "cells": [
  {
   "cell_type": "markdown",
   "id": "muslim-click",
   "metadata": {
    "papermill": {
     "duration": 0.034014,
     "end_time": "2022-06-24T12:15:47.572468",
     "exception": false,
     "start_time": "2022-06-24T12:15:47.538454",
     "status": "completed"
    },
    "tags": []
   },
   "source": [
    "# COVID-19 Case Race\n",
    "> A race chart to see rising cases around the world\n",
    "\n",
    "- author: Hargun Oberoi\n",
    "- image: images/covid-overview.png\n",
    "- hide: false\n",
    "- badges: false"
   ]
  },
  {
   "cell_type": "code",
   "execution_count": 1,
   "id": "proof-material",
   "metadata": {
    "execution": {
     "iopub.execute_input": "2022-06-24T12:15:47.644388Z",
     "iopub.status.busy": "2022-06-24T12:15:47.642759Z",
     "iopub.status.idle": "2022-06-24T12:15:47.955801Z",
     "shell.execute_reply": "2022-06-24T12:15:47.954847Z"
    },
    "papermill": {
     "duration": 0.351206,
     "end_time": "2022-06-24T12:15:47.955932",
     "exception": false,
     "start_time": "2022-06-24T12:15:47.604726",
     "status": "completed"
    },
    "tags": []
   },
   "outputs": [],
   "source": [
    "#hide\n",
    "import numpy as np\n",
    "import pandas as pd\n",
    "from jinja2 import Template\n",
    "from IPython.display import HTML"
   ]
  },
  {
   "cell_type": "code",
   "execution_count": 2,
   "id": "developed-terminology",
   "metadata": {
    "execution": {
     "iopub.execute_input": "2022-06-24T12:15:48.021901Z",
     "iopub.status.busy": "2022-06-24T12:15:48.021334Z",
     "iopub.status.idle": "2022-06-24T12:15:48.023484Z",
     "shell.execute_reply": "2022-06-24T12:15:48.022954Z"
    },
    "papermill": {
     "duration": 0.036824,
     "end_time": "2022-06-24T12:15:48.023584",
     "exception": false,
     "start_time": "2022-06-24T12:15:47.986760",
     "status": "completed"
    },
    "tags": []
   },
   "outputs": [],
   "source": [
    "#hide\n",
    "\n",
    "# FETCH\n",
    "base_url = 'https://raw.githubusercontent.com/pratapvardhan/notebooks/master/covid19/'\n",
    "paths = {\n",
    "    'mapping': base_url + 'mapping_countries.csv',\n",
    "    'overview': base_url + 'overview.tpl'\n",
    "}"
   ]
  },
  {
   "cell_type": "code",
   "execution_count": 3,
   "id": "dynamic-saver",
   "metadata": {
    "execution": {
     "iopub.execute_input": "2022-06-24T12:15:48.093218Z",
     "iopub.status.busy": "2022-06-24T12:15:48.092481Z",
     "iopub.status.idle": "2022-06-24T12:15:48.096224Z",
     "shell.execute_reply": "2022-06-24T12:15:48.096657Z"
    },
    "papermill": {
     "duration": 0.042685,
     "end_time": "2022-06-24T12:15:48.096772",
     "exception": false,
     "start_time": "2022-06-24T12:15:48.054087",
     "status": "completed"
    },
    "tags": []
   },
   "outputs": [
    {
     "data": {
      "text/plain": [
       "'https://raw.githubusercontent.com/pratapvardhan/notebooks/master/covid19/mapping_countries.csv'"
      ]
     },
     "execution_count": 3,
     "metadata": {},
     "output_type": "execute_result"
    }
   ],
   "source": [
    "#hide\n",
    "paths['mapping']"
   ]
  },
  {
   "cell_type": "code",
   "execution_count": 4,
   "id": "urban-software",
   "metadata": {
    "execution": {
     "iopub.execute_input": "2022-06-24T12:15:48.163922Z",
     "iopub.status.busy": "2022-06-24T12:15:48.163339Z",
     "iopub.status.idle": "2022-06-24T12:15:48.165762Z",
     "shell.execute_reply": "2022-06-24T12:15:48.165332Z"
    },
    "papermill": {
     "duration": 0.038194,
     "end_time": "2022-06-24T12:15:48.165863",
     "exception": false,
     "start_time": "2022-06-24T12:15:48.127669",
     "status": "completed"
    },
    "tags": []
   },
   "outputs": [],
   "source": [
    "#hide\n",
    "def get_mappings(url):\n",
    "    df = pd.read_csv(url)\n",
    "    return {\n",
    "        'df': df,\n",
    "        'replace.country': dict(df.dropna(subset=['Name']).set_index('Country')['Name']),\n",
    "        'map.continent': dict(df.set_index('Name')['Continent'])\n",
    "    }"
   ]
  },
  {
   "cell_type": "code",
   "execution_count": 5,
   "id": "intimate-machinery",
   "metadata": {
    "execution": {
     "iopub.execute_input": "2022-06-24T12:15:48.232544Z",
     "iopub.status.busy": "2022-06-24T12:15:48.231983Z",
     "iopub.status.idle": "2022-06-24T12:15:48.269283Z",
     "shell.execute_reply": "2022-06-24T12:15:48.268809Z"
    },
    "papermill": {
     "duration": 0.072853,
     "end_time": "2022-06-24T12:15:48.269387",
     "exception": false,
     "start_time": "2022-06-24T12:15:48.196534",
     "status": "completed"
    },
    "tags": []
   },
   "outputs": [],
   "source": [
    "#hide\n",
    "mapping = get_mappings(paths['mapping'])"
   ]
  },
  {
   "cell_type": "code",
   "execution_count": 6,
   "id": "certified-tactics",
   "metadata": {
    "execution": {
     "iopub.execute_input": "2022-06-24T12:15:48.333799Z",
     "iopub.status.busy": "2022-06-24T12:15:48.333223Z",
     "iopub.status.idle": "2022-06-24T12:15:48.338009Z",
     "shell.execute_reply": "2022-06-24T12:15:48.337555Z"
    },
    "papermill": {
     "duration": 0.037896,
     "end_time": "2022-06-24T12:15:48.338106",
     "exception": false,
     "start_time": "2022-06-24T12:15:48.300210",
     "status": "completed"
    },
    "tags": []
   },
   "outputs": [],
   "source": [
    "#hide\n",
    "def get_template(path):\n",
    "    from urllib.parse import urlparse\n",
    "    if bool(urlparse(path).netloc):\n",
    "        from urllib.request import urlopen\n",
    "        return urlopen(path).read().decode('utf8')\n",
    "    return open(path).read()"
   ]
  },
  {
   "cell_type": "code",
   "execution_count": 7,
   "id": "realistic-blast",
   "metadata": {
    "execution": {
     "iopub.execute_input": "2022-06-24T12:15:48.404285Z",
     "iopub.status.busy": "2022-06-24T12:15:48.403703Z",
     "iopub.status.idle": "2022-06-24T12:15:48.406459Z",
     "shell.execute_reply": "2022-06-24T12:15:48.405954Z"
    },
    "papermill": {
     "duration": 0.037786,
     "end_time": "2022-06-24T12:15:48.406561",
     "exception": false,
     "start_time": "2022-06-24T12:15:48.368775",
     "status": "completed"
    },
    "tags": []
   },
   "outputs": [],
   "source": [
    "#hide\n",
    "def get_frame(name):\n",
    "    url = (\n",
    "        'https://raw.githubusercontent.com/CSSEGISandData/COVID-19/master/csse_covid_19_data/'\n",
    "        f'csse_covid_19_time_series/time_series_covid19_{name}_global.csv')\n",
    "    df = pd.read_csv(url)\n",
    "    # rename countries\n",
    "    df['Country/Region'] = df['Country/Region'].replace(mapping['replace.country'])\n",
    "    return df"
   ]
  },
  {
   "cell_type": "code",
   "execution_count": 8,
   "id": "affiliated-characterization",
   "metadata": {
    "execution": {
     "iopub.execute_input": "2022-06-24T12:15:48.473774Z",
     "iopub.status.busy": "2022-06-24T12:15:48.473193Z",
     "iopub.status.idle": "2022-06-24T12:15:48.475595Z",
     "shell.execute_reply": "2022-06-24T12:15:48.475043Z"
    },
    "papermill": {
     "duration": 0.038399,
     "end_time": "2022-06-24T12:15:48.475695",
     "exception": false,
     "start_time": "2022-06-24T12:15:48.437296",
     "status": "completed"
    },
    "tags": []
   },
   "outputs": [],
   "source": [
    "#hide\n",
    "def get_dates(df):\n",
    "    dt_cols = df.columns[~df.columns.isin(['Province/State', 'Country/Region', 'Lat', 'Long'])]\n",
    "    LAST_DATE_I = -1\n",
    "    # sometimes last column may be empty, then go backwards\n",
    "    for i in range(-1, -len(dt_cols), -1):\n",
    "        if not df[dt_cols[i]].fillna(0).eq(0).all():\n",
    "            LAST_DATE_I = i\n",
    "            break\n",
    "    return LAST_DATE_I, dt_cols"
   ]
  },
  {
   "cell_type": "code",
   "execution_count": 9,
   "id": "recent-optimization",
   "metadata": {
    "execution": {
     "iopub.execute_input": "2022-06-24T12:15:48.542045Z",
     "iopub.status.busy": "2022-06-24T12:15:48.541471Z",
     "iopub.status.idle": "2022-06-24T12:15:48.993219Z",
     "shell.execute_reply": "2022-06-24T12:15:48.993700Z"
    },
    "papermill": {
     "duration": 0.487401,
     "end_time": "2022-06-24T12:15:48.993833",
     "exception": false,
     "start_time": "2022-06-24T12:15:48.506432",
     "status": "completed"
    },
    "tags": []
   },
   "outputs": [],
   "source": [
    "#hide\n",
    "COL_REGION = 'Country/Region'\n",
    "# Confirmed, Recovered, Deaths\n",
    "df = get_frame('confirmed')\n",
    "# dft_: timeseries, dfc_: today country agg\n",
    "dft_cases = df\n",
    "dft_deaths = get_frame('deaths')\n",
    "dft_recovered = get_frame('recovered')\n",
    "LAST_DATE_I, dt_cols = get_dates(df)"
   ]
  },
  {
   "cell_type": "code",
   "execution_count": 10,
   "id": "absolute-copper",
   "metadata": {
    "execution": {
     "iopub.execute_input": "2022-06-24T12:15:49.061044Z",
     "iopub.status.busy": "2022-06-24T12:15:49.060446Z",
     "iopub.status.idle": "2022-06-24T12:15:49.062721Z",
     "shell.execute_reply": "2022-06-24T12:15:49.063129Z"
    },
    "papermill": {
     "duration": 0.03832,
     "end_time": "2022-06-24T12:15:49.063249",
     "exception": false,
     "start_time": "2022-06-24T12:15:49.024929",
     "status": "completed"
    },
    "tags": []
   },
   "outputs": [],
   "source": [
    "#hide\n",
    "LAST_DATE_I, dt_cols = get_dates(df)\n",
    "dt_today =dt_cols[LAST_DATE_I]\n",
    "# dt_5day = dt_cols[LAST_DATE_I - 5]\n",
    "dt_yday = dt_cols[LAST_DATE_I - 1]"
   ]
  },
  {
   "cell_type": "code",
   "execution_count": 11,
   "id": "restricted-sheriff",
   "metadata": {
    "execution": {
     "iopub.execute_input": "2022-06-24T12:15:49.127727Z",
     "iopub.status.busy": "2022-06-24T12:15:49.127163Z",
     "iopub.status.idle": "2022-06-24T12:15:49.137080Z",
     "shell.execute_reply": "2022-06-24T12:15:49.136623Z"
    },
    "papermill": {
     "duration": 0.043144,
     "end_time": "2022-06-24T12:15:49.137181",
     "exception": false,
     "start_time": "2022-06-24T12:15:49.094037",
     "status": "completed"
    },
    "tags": []
   },
   "outputs": [],
   "source": [
    "#hide\n",
    "dfc_cases = dft_cases.groupby(COL_REGION)[dt_today].sum()\n",
    "dfc_deaths = dft_deaths.groupby(COL_REGION)[dt_today].sum()\n",
    "# dfp_cases = dft_cases.groupby(COL_REGION)[dt_5day].sum()\n",
    "# dfp_deaths = dft_deaths.groupby(COL_REGION)[dt_5day].sum()\n",
    "dfp_cases = dft_cases.groupby(COL_REGION)[dt_yday].sum()\n",
    "dfp_deaths = dft_deaths.groupby(COL_REGION)[dt_yday].sum()"
   ]
  },
  {
   "cell_type": "code",
   "execution_count": 12,
   "id": "deluxe-hepatitis",
   "metadata": {
    "execution": {
     "iopub.execute_input": "2022-06-24T12:15:49.204477Z",
     "iopub.status.busy": "2022-06-24T12:15:49.203910Z",
     "iopub.status.idle": "2022-06-24T12:15:49.207985Z",
     "shell.execute_reply": "2022-06-24T12:15:49.208492Z"
    },
    "papermill": {
     "duration": 0.040665,
     "end_time": "2022-06-24T12:15:49.208611",
     "exception": false,
     "start_time": "2022-06-24T12:15:49.167946",
     "status": "completed"
    },
    "tags": []
   },
   "outputs": [],
   "source": [
    "#hide\n",
    "df_table = (pd.DataFrame(dict(Cases = dfc_cases, Deaths = dfc_deaths, PCases = dfp_cases, PDeaths = dfp_deaths))\n",
    "            .sort_values(by = ['Cases','Deaths'], ascending = [False, False])\n",
    "            .reset_index())"
   ]
  },
  {
   "cell_type": "code",
   "execution_count": 13,
   "id": "educational-chancellor",
   "metadata": {
    "execution": {
     "iopub.execute_input": "2022-06-24T12:15:49.282935Z",
     "iopub.status.busy": "2022-06-24T12:15:49.282331Z",
     "iopub.status.idle": "2022-06-24T12:15:49.294542Z",
     "shell.execute_reply": "2022-06-24T12:15:49.294068Z"
    },
    "papermill": {
     "duration": 0.055339,
     "end_time": "2022-06-24T12:15:49.294643",
     "exception": false,
     "start_time": "2022-06-24T12:15:49.239304",
     "status": "completed"
    },
    "tags": []
   },
   "outputs": [
    {
     "data": {
      "text/html": [
       "<div>\n",
       "<style scoped>\n",
       "    .dataframe tbody tr th:only-of-type {\n",
       "        vertical-align: middle;\n",
       "    }\n",
       "\n",
       "    .dataframe tbody tr th {\n",
       "        vertical-align: top;\n",
       "    }\n",
       "\n",
       "    .dataframe thead th {\n",
       "        text-align: right;\n",
       "    }\n",
       "</style>\n",
       "<table border=\"1\" class=\"dataframe\">\n",
       "  <thead>\n",
       "    <tr style=\"text-align: right;\">\n",
       "      <th></th>\n",
       "      <th>Country/Region</th>\n",
       "      <th>Cases</th>\n",
       "      <th>Deaths</th>\n",
       "      <th>PCases</th>\n",
       "      <th>PDeaths</th>\n",
       "      <th>Cases (+)</th>\n",
       "      <th>Deaths (+)</th>\n",
       "      <th>Fatality Rate</th>\n",
       "      <th>Continent</th>\n",
       "    </tr>\n",
       "  </thead>\n",
       "  <tbody>\n",
       "    <tr>\n",
       "      <th>0</th>\n",
       "      <td>US</td>\n",
       "      <td>86757621</td>\n",
       "      <td>1015342</td>\n",
       "      <td>86636306</td>\n",
       "      <td>1014835</td>\n",
       "      <td>121315</td>\n",
       "      <td>507</td>\n",
       "      <td>1.17</td>\n",
       "      <td>North America</td>\n",
       "    </tr>\n",
       "    <tr>\n",
       "      <th>1</th>\n",
       "      <td>India</td>\n",
       "      <td>43362294</td>\n",
       "      <td>524954</td>\n",
       "      <td>43344958</td>\n",
       "      <td>524941</td>\n",
       "      <td>17336</td>\n",
       "      <td>13</td>\n",
       "      <td>1.21</td>\n",
       "      <td>Asia</td>\n",
       "    </tr>\n",
       "    <tr>\n",
       "      <th>2</th>\n",
       "      <td>Brazil</td>\n",
       "      <td>31962782</td>\n",
       "      <td>669895</td>\n",
       "      <td>31890733</td>\n",
       "      <td>669530</td>\n",
       "      <td>72049</td>\n",
       "      <td>365</td>\n",
       "      <td>2.10</td>\n",
       "      <td>South America</td>\n",
       "    </tr>\n",
       "    <tr>\n",
       "      <th>3</th>\n",
       "      <td>France</td>\n",
       "      <td>30634890</td>\n",
       "      <td>150307</td>\n",
       "      <td>30555038</td>\n",
       "      <td>150267</td>\n",
       "      <td>79852</td>\n",
       "      <td>40</td>\n",
       "      <td>0.49</td>\n",
       "      <td>Europe</td>\n",
       "    </tr>\n",
       "    <tr>\n",
       "      <th>4</th>\n",
       "      <td>Germany</td>\n",
       "      <td>27681775</td>\n",
       "      <td>140650</td>\n",
       "      <td>27573585</td>\n",
       "      <td>140560</td>\n",
       "      <td>108190</td>\n",
       "      <td>90</td>\n",
       "      <td>0.51</td>\n",
       "      <td>Europe</td>\n",
       "    </tr>\n",
       "  </tbody>\n",
       "</table>\n",
       "</div>"
      ],
      "text/plain": [
       "  Country/Region     Cases   Deaths    PCases  PDeaths  Cases (+)  Deaths (+)  \\\n",
       "0             US  86757621  1015342  86636306  1014835     121315         507   \n",
       "1          India  43362294   524954  43344958   524941      17336          13   \n",
       "2         Brazil  31962782   669895  31890733   669530      72049         365   \n",
       "3         France  30634890   150307  30555038   150267      79852          40   \n",
       "4        Germany  27681775   140650  27573585   140560     108190          90   \n",
       "\n",
       "   Fatality Rate      Continent  \n",
       "0           1.17  North America  \n",
       "1           1.21           Asia  \n",
       "2           2.10  South America  \n",
       "3           0.49         Europe  \n",
       "4           0.51         Europe  "
      ]
     },
     "execution_count": 13,
     "metadata": {},
     "output_type": "execute_result"
    }
   ],
   "source": [
    "#hide\n",
    "for c in 'Cases, Deaths'.split(', '):\n",
    "    df_table[f'{c} (+)'] = (df_table[c] - df_table[f'P{c}']).clip(0)\n",
    "    #Clip ça veut dire, les chiffres negatif sont interdit\n",
    "df_table['Fatality Rate'] = (100* df_table['Deaths']/ df_table['Cases']).round(2)\n",
    "df_table['Continent'] = df_table['Country/Region'].map(mapping['map.continent'])\n",
    "df_table.head(5)"
   ]
  },
  {
   "cell_type": "code",
   "execution_count": 14,
   "id": "aboriginal-bulgaria",
   "metadata": {
    "execution": {
     "iopub.execute_input": "2022-06-24T12:15:49.362661Z",
     "iopub.status.busy": "2022-06-24T12:15:49.362052Z",
     "iopub.status.idle": "2022-06-24T12:15:49.364467Z",
     "shell.execute_reply": "2022-06-24T12:15:49.364022Z"
    },
    "papermill": {
     "duration": 0.038577,
     "end_time": "2022-06-24T12:15:49.364563",
     "exception": false,
     "start_time": "2022-06-24T12:15:49.325986",
     "status": "completed"
    },
    "tags": []
   },
   "outputs": [],
   "source": [
    "#hide\n",
    "#delete problematic countries from table\n",
    "df_table = df_table[~df_table['Country/Region'].isin(['Cape Verde', 'Cruise Ship', 'Kosovo'])]"
   ]
  },
  {
   "cell_type": "code",
   "execution_count": 15,
   "id": "fantastic-effect",
   "metadata": {
    "execution": {
     "iopub.execute_input": "2022-06-24T12:15:49.434385Z",
     "iopub.status.busy": "2022-06-24T12:15:49.433790Z",
     "iopub.status.idle": "2022-06-24T12:15:49.451050Z",
     "shell.execute_reply": "2022-06-24T12:15:49.450574Z"
    },
    "papermill": {
     "duration": 0.05543,
     "end_time": "2022-06-24T12:15:49.451154",
     "exception": false,
     "start_time": "2022-06-24T12:15:49.395724",
     "status": "completed"
    },
    "tags": []
   },
   "outputs": [
    {
     "data": {
      "text/html": [
       "<div>\n",
       "<style scoped>\n",
       "    .dataframe tbody tr th:only-of-type {\n",
       "        vertical-align: middle;\n",
       "    }\n",
       "\n",
       "    .dataframe tbody tr th {\n",
       "        vertical-align: top;\n",
       "    }\n",
       "\n",
       "    .dataframe thead th {\n",
       "        text-align: right;\n",
       "    }\n",
       "</style>\n",
       "<table border=\"1\" class=\"dataframe\">\n",
       "  <thead>\n",
       "    <tr style=\"text-align: right;\">\n",
       "      <th></th>\n",
       "      <th>Country/Region</th>\n",
       "      <th>Cases</th>\n",
       "      <th>Deaths</th>\n",
       "      <th>PCases</th>\n",
       "      <th>PDeaths</th>\n",
       "      <th>Cases (+)</th>\n",
       "      <th>Deaths (+)</th>\n",
       "      <th>Fatality Rate</th>\n",
       "      <th>Continent</th>\n",
       "    </tr>\n",
       "  </thead>\n",
       "  <tbody>\n",
       "    <tr>\n",
       "      <th>0</th>\n",
       "      <td>US</td>\n",
       "      <td>86757621</td>\n",
       "      <td>1015342</td>\n",
       "      <td>86636306</td>\n",
       "      <td>1014835</td>\n",
       "      <td>121315</td>\n",
       "      <td>507</td>\n",
       "      <td>1.2</td>\n",
       "      <td>North America</td>\n",
       "    </tr>\n",
       "    <tr>\n",
       "      <th>1</th>\n",
       "      <td>India</td>\n",
       "      <td>43362294</td>\n",
       "      <td>524954</td>\n",
       "      <td>43344958</td>\n",
       "      <td>524941</td>\n",
       "      <td>17336</td>\n",
       "      <td>13</td>\n",
       "      <td>1.2</td>\n",
       "      <td>Asia</td>\n",
       "    </tr>\n",
       "    <tr>\n",
       "      <th>2</th>\n",
       "      <td>Brazil</td>\n",
       "      <td>31962782</td>\n",
       "      <td>669895</td>\n",
       "      <td>31890733</td>\n",
       "      <td>669530</td>\n",
       "      <td>72049</td>\n",
       "      <td>365</td>\n",
       "      <td>2.1</td>\n",
       "      <td>South America</td>\n",
       "    </tr>\n",
       "    <tr>\n",
       "      <th>3</th>\n",
       "      <td>France</td>\n",
       "      <td>30634890</td>\n",
       "      <td>150307</td>\n",
       "      <td>30555038</td>\n",
       "      <td>150267</td>\n",
       "      <td>79852</td>\n",
       "      <td>40</td>\n",
       "      <td>0.5</td>\n",
       "      <td>Europe</td>\n",
       "    </tr>\n",
       "    <tr>\n",
       "      <th>4</th>\n",
       "      <td>Germany</td>\n",
       "      <td>27681775</td>\n",
       "      <td>140650</td>\n",
       "      <td>27573585</td>\n",
       "      <td>140560</td>\n",
       "      <td>108190</td>\n",
       "      <td>90</td>\n",
       "      <td>0.5</td>\n",
       "      <td>Europe</td>\n",
       "    </tr>\n",
       "  </tbody>\n",
       "</table>\n",
       "</div>"
      ],
      "text/plain": [
       "  Country/Region     Cases   Deaths    PCases  PDeaths  Cases (+)  Deaths (+)  \\\n",
       "0             US  86757621  1015342  86636306  1014835     121315         507   \n",
       "1          India  43362294   524954  43344958   524941      17336          13   \n",
       "2         Brazil  31962782   669895  31890733   669530      72049         365   \n",
       "3         France  30634890   150307  30555038   150267      79852          40   \n",
       "4        Germany  27681775   140650  27573585   140560     108190          90   \n",
       "\n",
       "   Fatality Rate      Continent  \n",
       "0            1.2  North America  \n",
       "1            1.2           Asia  \n",
       "2            2.1  South America  \n",
       "3            0.5         Europe  \n",
       "4            0.5         Europe  "
      ]
     },
     "execution_count": 15,
     "metadata": {},
     "output_type": "execute_result"
    }
   ],
   "source": [
    "#hide\n",
    "df_table = (pd.DataFrame(dict(Cases=dfc_cases, Deaths=dfc_deaths, PCases=dfp_cases, PDeaths=dfp_deaths))\n",
    "             .sort_values(by=['Cases', 'Deaths'], ascending=[False, False])\n",
    "             .reset_index())\n",
    "df_table.rename(columns={'index': 'Country/Region'}, inplace=True)\n",
    "for c in 'Cases, Deaths'.split(', '):\n",
    "    df_table[f'{c} (+)'] = (df_table[c] - df_table[f'P{c}']).clip(0)  # DATA BUG\n",
    "df_table['Fatality Rate'] = (100 * df_table['Deaths'] / df_table['Cases']).round(1)\n",
    "df_table['Continent'] = df_table['Country/Region'].map(mapping['map.continent'])\n",
    "df_table.head(5)"
   ]
  },
  {
   "cell_type": "code",
   "execution_count": 16,
   "id": "fewer-occasion",
   "metadata": {
    "execution": {
     "iopub.execute_input": "2022-06-24T12:15:49.520305Z",
     "iopub.status.busy": "2022-06-24T12:15:49.519734Z",
     "iopub.status.idle": "2022-06-24T12:15:49.521773Z",
     "shell.execute_reply": "2022-06-24T12:15:49.522176Z"
    },
    "papermill": {
     "duration": 0.039345,
     "end_time": "2022-06-24T12:15:49.522322",
     "exception": false,
     "start_time": "2022-06-24T12:15:49.482977",
     "status": "completed"
    },
    "tags": []
   },
   "outputs": [],
   "source": [
    "#hide\n",
    "#delete problematic countries from table\n",
    "df_table = df_table[~df_table['Country/Region'].isin(['Cape Verde', 'Cruise Ship', 'Kosovo'])]"
   ]
  },
  {
   "cell_type": "code",
   "execution_count": 17,
   "id": "related-center",
   "metadata": {
    "execution": {
     "iopub.execute_input": "2022-06-24T12:15:49.591911Z",
     "iopub.status.busy": "2022-06-24T12:15:49.591337Z",
     "iopub.status.idle": "2022-06-24T12:15:49.603937Z",
     "shell.execute_reply": "2022-06-24T12:15:49.604339Z"
    },
    "papermill": {
     "duration": 0.050622,
     "end_time": "2022-06-24T12:15:49.604453",
     "exception": false,
     "start_time": "2022-06-24T12:15:49.553831",
     "status": "completed"
    },
    "tags": []
   },
   "outputs": [],
   "source": [
    "#hide\n",
    "metrics = [df_table.columns[index] for index in [1,2,5,6]]\n",
    "# s_china = df_table[df_table['Country/Region'].eq('China')][metrics].sum().add_prefix('China ')\n",
    "s_us = df_table[df_table['Country/Region'].eq('US')][metrics].sum().add_prefix('US ')\n",
    "s_eu = df_table[df_table['Continent'].eq('Europe')][metrics].sum().add_prefix('EU ')\n",
    "s_ind = df_table[df_table['Country/Region'].eq('India')][metrics].sum().add_prefix('India ')\n",
    "summary = {'updated': pd.to_datetime(dt_today), 'since': pd.to_datetime(dt_yday)}\n",
    "summary = {'updated': pd.to_datetime(dt_today), 'since': pd.to_datetime(dt_yday)}\n",
    "summary = {**summary, **df_table[metrics].sum(), **s_ind, **s_us, **s_eu}"
   ]
  },
  {
   "cell_type": "code",
   "execution_count": 18,
   "id": "engaging-syndrome",
   "metadata": {
    "execution": {
     "iopub.execute_input": "2022-06-24T12:15:49.672764Z",
     "iopub.status.busy": "2022-06-24T12:15:49.672190Z",
     "iopub.status.idle": "2022-06-24T12:15:49.689932Z",
     "shell.execute_reply": "2022-06-24T12:15:49.690422Z"
    },
    "papermill": {
     "duration": 0.054357,
     "end_time": "2022-06-24T12:15:49.690549",
     "exception": false,
     "start_time": "2022-06-24T12:15:49.636192",
     "status": "completed"
    },
    "tags": []
   },
   "outputs": [],
   "source": [
    "#hide\n",
    "dft_ct_new_cases = dft_cases.groupby(COL_REGION)[dt_cols].sum().diff(axis=1).fillna(0).astype(int)"
   ]
  },
  {
   "cell_type": "code",
   "execution_count": 19,
   "id": "neutral-assignment",
   "metadata": {
    "execution": {
     "iopub.execute_input": "2022-06-24T12:15:49.759453Z",
     "iopub.status.busy": "2022-06-24T12:15:49.758901Z",
     "iopub.status.idle": "2022-06-24T12:15:49.761559Z",
     "shell.execute_reply": "2022-06-24T12:15:49.761112Z"
    },
    "papermill": {
     "duration": 0.039507,
     "end_time": "2022-06-24T12:15:49.761658",
     "exception": false,
     "start_time": "2022-06-24T12:15:49.722151",
     "status": "completed"
    },
    "tags": []
   },
   "outputs": [],
   "source": [
    "#hide\n",
    "everydaycases = dft_ct_new_cases.cumsum(axis=1)"
   ]
  },
  {
   "cell_type": "code",
   "execution_count": 20,
   "id": "parliamentary-calgary",
   "metadata": {
    "execution": {
     "iopub.execute_input": "2022-06-24T12:15:49.829544Z",
     "iopub.status.busy": "2022-06-24T12:15:49.828977Z",
     "iopub.status.idle": "2022-06-24T12:15:50.385473Z",
     "shell.execute_reply": "2022-06-24T12:15:50.385954Z"
    },
    "papermill": {
     "duration": 0.592579,
     "end_time": "2022-06-24T12:15:50.386085",
     "exception": false,
     "start_time": "2022-06-24T12:15:49.793506",
     "status": "completed"
    },
    "tags": []
   },
   "outputs": [],
   "source": [
    "#hide\n",
    "import pandas as pd\n",
    "import matplotlib.pyplot as plt\n",
    "import matplotlib.ticker as ticker\n",
    "import matplotlib.animation as animation\n",
    "from IPython.display import HTML"
   ]
  },
  {
   "cell_type": "code",
   "execution_count": 21,
   "id": "lasting-extraction",
   "metadata": {
    "execution": {
     "iopub.execute_input": "2022-06-24T12:15:50.455557Z",
     "iopub.status.busy": "2022-06-24T12:15:50.454998Z",
     "iopub.status.idle": "2022-06-24T12:15:50.462392Z",
     "shell.execute_reply": "2022-06-24T12:15:50.462851Z"
    },
    "papermill": {
     "duration": 0.045173,
     "end_time": "2022-06-24T12:15:50.462966",
     "exception": false,
     "start_time": "2022-06-24T12:15:50.417793",
     "status": "completed"
    },
    "tags": []
   },
   "outputs": [],
   "source": [
    "#hide\n",
    "t = everydaycases.stack()"
   ]
  },
  {
   "cell_type": "code",
   "execution_count": 22,
   "id": "premier-sleeve",
   "metadata": {
    "execution": {
     "iopub.execute_input": "2022-06-24T12:15:50.530514Z",
     "iopub.status.busy": "2022-06-24T12:15:50.529915Z",
     "iopub.status.idle": "2022-06-24T12:15:50.540159Z",
     "shell.execute_reply": "2022-06-24T12:15:50.539607Z"
    },
    "papermill": {
     "duration": 0.045533,
     "end_time": "2022-06-24T12:15:50.540259",
     "exception": false,
     "start_time": "2022-06-24T12:15:50.494726",
     "status": "completed"
    },
    "tags": []
   },
   "outputs": [],
   "source": [
    "#hide\n",
    "g = t.reset_index(['Country/Region'])"
   ]
  },
  {
   "cell_type": "code",
   "execution_count": 23,
   "id": "distributed-pittsburgh",
   "metadata": {
    "execution": {
     "iopub.execute_input": "2022-06-24T12:15:50.607016Z",
     "iopub.status.busy": "2022-06-24T12:15:50.606448Z",
     "iopub.status.idle": "2022-06-24T12:15:50.608888Z",
     "shell.execute_reply": "2022-06-24T12:15:50.608434Z"
    },
    "papermill": {
     "duration": 0.037115,
     "end_time": "2022-06-24T12:15:50.608984",
     "exception": false,
     "start_time": "2022-06-24T12:15:50.571869",
     "status": "completed"
    },
    "tags": []
   },
   "outputs": [],
   "source": [
    "#hide\n",
    "g.index.name = 'date'"
   ]
  },
  {
   "cell_type": "code",
   "execution_count": 24,
   "id": "naked-donor",
   "metadata": {
    "execution": {
     "iopub.execute_input": "2022-06-24T12:15:50.675288Z",
     "iopub.status.busy": "2022-06-24T12:15:50.674700Z",
     "iopub.status.idle": "2022-06-24T12:15:50.677143Z",
     "shell.execute_reply": "2022-06-24T12:15:50.676716Z"
    },
    "papermill": {
     "duration": 0.036677,
     "end_time": "2022-06-24T12:15:50.677241",
     "exception": false,
     "start_time": "2022-06-24T12:15:50.640564",
     "status": "completed"
    },
    "tags": []
   },
   "outputs": [],
   "source": [
    "# #hide\n",
    "# g = g.reset_index(['date'])"
   ]
  },
  {
   "cell_type": "code",
   "execution_count": 25,
   "id": "incomplete-mustang",
   "metadata": {
    "execution": {
     "iopub.execute_input": "2022-06-24T12:15:50.744501Z",
     "iopub.status.busy": "2022-06-24T12:15:50.743927Z",
     "iopub.status.idle": "2022-06-24T12:15:50.746694Z",
     "shell.execute_reply": "2022-06-24T12:15:50.746188Z"
    },
    "papermill": {
     "duration": 0.037868,
     "end_time": "2022-06-24T12:15:50.746795",
     "exception": false,
     "start_time": "2022-06-24T12:15:50.708927",
     "status": "completed"
    },
    "tags": []
   },
   "outputs": [],
   "source": [
    "#hide\n",
    "# g.head()"
   ]
  },
  {
   "cell_type": "code",
   "execution_count": 26,
   "id": "specific-kruger",
   "metadata": {
    "execution": {
     "iopub.execute_input": "2022-06-24T12:15:50.814050Z",
     "iopub.status.busy": "2022-06-24T12:15:50.813463Z",
     "iopub.status.idle": "2022-06-24T12:15:50.815674Z",
     "shell.execute_reply": "2022-06-24T12:15:50.816083Z"
    },
    "papermill": {
     "duration": 0.037449,
     "end_time": "2022-06-24T12:15:50.816201",
     "exception": false,
     "start_time": "2022-06-24T12:15:50.778752",
     "status": "completed"
    },
    "tags": []
   },
   "outputs": [],
   "source": [
    "#hide\n",
    "# g.columns = ['date','country','cases']"
   ]
  },
  {
   "cell_type": "code",
   "execution_count": 27,
   "id": "tender-conversion",
   "metadata": {
    "execution": {
     "iopub.execute_input": "2022-06-24T12:15:50.883322Z",
     "iopub.status.busy": "2022-06-24T12:15:50.882755Z",
     "iopub.status.idle": "2022-06-24T12:15:50.885127Z",
     "shell.execute_reply": "2022-06-24T12:15:50.884596Z"
    },
    "papermill": {
     "duration": 0.03731,
     "end_time": "2022-06-24T12:15:50.885223",
     "exception": false,
     "start_time": "2022-06-24T12:15:50.847913",
     "status": "completed"
    },
    "tags": []
   },
   "outputs": [],
   "source": [
    "#hide\n",
    "# g['continent'] = g.country"
   ]
  },
  {
   "cell_type": "code",
   "execution_count": 28,
   "id": "substantial-wilderness",
   "metadata": {
    "execution": {
     "iopub.execute_input": "2022-06-24T12:15:50.960751Z",
     "iopub.status.busy": "2022-06-24T12:15:50.960155Z",
     "iopub.status.idle": "2022-06-24T12:15:50.962004Z",
     "shell.execute_reply": "2022-06-24T12:15:50.962455Z"
    },
    "papermill": {
     "duration": 0.045167,
     "end_time": "2022-06-24T12:15:50.962570",
     "exception": false,
     "start_time": "2022-06-24T12:15:50.917403",
     "status": "completed"
    },
    "tags": []
   },
   "outputs": [],
   "source": [
    "#hide\n",
    "# cols = list(g.columns.values)"
   ]
  },
  {
   "cell_type": "code",
   "execution_count": 29,
   "id": "solved-farming",
   "metadata": {
    "execution": {
     "iopub.execute_input": "2022-06-24T12:15:51.031040Z",
     "iopub.status.busy": "2022-06-24T12:15:51.030452Z",
     "iopub.status.idle": "2022-06-24T12:15:51.032603Z",
     "shell.execute_reply": "2022-06-24T12:15:51.033013Z"
    },
    "papermill": {
     "duration": 0.037259,
     "end_time": "2022-06-24T12:15:51.033131",
     "exception": false,
     "start_time": "2022-06-24T12:15:50.995872",
     "status": "completed"
    },
    "tags": []
   },
   "outputs": [],
   "source": [
    "#hide\n",
    "# cols.insert(0, cols.pop())"
   ]
  },
  {
   "cell_type": "code",
   "execution_count": 30,
   "id": "executed-adoption",
   "metadata": {
    "execution": {
     "iopub.execute_input": "2022-06-24T12:15:51.100336Z",
     "iopub.status.busy": "2022-06-24T12:15:51.099760Z",
     "iopub.status.idle": "2022-06-24T12:15:51.102244Z",
     "shell.execute_reply": "2022-06-24T12:15:51.101776Z"
    },
    "papermill": {
     "duration": 0.037542,
     "end_time": "2022-06-24T12:15:51.102362",
     "exception": false,
     "start_time": "2022-06-24T12:15:51.064820",
     "status": "completed"
    },
    "tags": []
   },
   "outputs": [],
   "source": [
    "#hide\n",
    "# g = g[cols]"
   ]
  },
  {
   "cell_type": "code",
   "execution_count": 31,
   "id": "subject-dublin",
   "metadata": {
    "execution": {
     "iopub.execute_input": "2022-06-24T12:15:51.169304Z",
     "iopub.status.busy": "2022-06-24T12:15:51.168733Z",
     "iopub.status.idle": "2022-06-24T12:15:51.171097Z",
     "shell.execute_reply": "2022-06-24T12:15:51.170568Z"
    },
    "papermill": {
     "duration": 0.03724,
     "end_time": "2022-06-24T12:15:51.171194",
     "exception": false,
     "start_time": "2022-06-24T12:15:51.133954",
     "status": "completed"
    },
    "tags": []
   },
   "outputs": [],
   "source": [
    "#hide\n",
    "# g['continent'] = g['continent'].map(mapping['map.continent'])"
   ]
  },
  {
   "cell_type": "code",
   "execution_count": 32,
   "id": "freelance-scout",
   "metadata": {
    "execution": {
     "iopub.execute_input": "2022-06-24T12:15:51.238953Z",
     "iopub.status.busy": "2022-06-24T12:15:51.238361Z",
     "iopub.status.idle": "2022-06-24T12:15:51.241304Z",
     "shell.execute_reply": "2022-06-24T12:15:51.240843Z"
    },
    "papermill": {
     "duration": 0.03834,
     "end_time": "2022-06-24T12:15:51.241409",
     "exception": false,
     "start_time": "2022-06-24T12:15:51.203069",
     "status": "completed"
    },
    "tags": []
   },
   "outputs": [],
   "source": [
    "#hide\n",
    "# g.head()"
   ]
  },
  {
   "cell_type": "code",
   "execution_count": 33,
   "id": "limited-engine",
   "metadata": {
    "execution": {
     "iopub.execute_input": "2022-06-24T12:15:51.308784Z",
     "iopub.status.busy": "2022-06-24T12:15:51.308203Z",
     "iopub.status.idle": "2022-06-24T12:15:51.310581Z",
     "shell.execute_reply": "2022-06-24T12:15:51.310119Z"
    },
    "papermill": {
     "duration": 0.037347,
     "end_time": "2022-06-24T12:15:51.310680",
     "exception": false,
     "start_time": "2022-06-24T12:15:51.273333",
     "status": "completed"
    },
    "tags": []
   },
   "outputs": [],
   "source": [
    "# hide\n",
    "# g['date'] = g['date'].astype('datetime64[ns]')"
   ]
  },
  {
   "cell_type": "code",
   "execution_count": 34,
   "id": "sophisticated-supervisor",
   "metadata": {
    "execution": {
     "iopub.execute_input": "2022-06-24T12:15:51.378236Z",
     "iopub.status.busy": "2022-06-24T12:15:51.377666Z",
     "iopub.status.idle": "2022-06-24T12:15:51.379996Z",
     "shell.execute_reply": "2022-06-24T12:15:51.379457Z"
    },
    "papermill": {
     "duration": 0.037455,
     "end_time": "2022-06-24T12:15:51.380095",
     "exception": false,
     "start_time": "2022-06-24T12:15:51.342640",
     "status": "completed"
    },
    "tags": []
   },
   "outputs": [],
   "source": [
    "#hide\n",
    "# g['date'] = g.date.dt.dayofyear"
   ]
  },
  {
   "cell_type": "code",
   "execution_count": 35,
   "id": "inside-dubai",
   "metadata": {
    "execution": {
     "iopub.execute_input": "2022-06-24T12:15:51.447293Z",
     "iopub.status.busy": "2022-06-24T12:15:51.446714Z",
     "iopub.status.idle": "2022-06-24T12:15:51.449143Z",
     "shell.execute_reply": "2022-06-24T12:15:51.448700Z"
    },
    "papermill": {
     "duration": 0.037365,
     "end_time": "2022-06-24T12:15:51.449243",
     "exception": false,
     "start_time": "2022-06-24T12:15:51.411878",
     "status": "completed"
    },
    "tags": []
   },
   "outputs": [],
   "source": [
    "#hide\n",
    "# g = g.rename(columns= {'continent':'group','country':'name','cases':'value'})"
   ]
  },
  {
   "cell_type": "code",
   "execution_count": 36,
   "id": "fleet-motorcycle",
   "metadata": {
    "execution": {
     "iopub.execute_input": "2022-06-24T12:15:51.516817Z",
     "iopub.status.busy": "2022-06-24T12:15:51.516237Z",
     "iopub.status.idle": "2022-06-24T12:15:51.518700Z",
     "shell.execute_reply": "2022-06-24T12:15:51.518222Z"
    },
    "papermill": {
     "duration": 0.03757,
     "end_time": "2022-06-24T12:15:51.518799",
     "exception": false,
     "start_time": "2022-06-24T12:15:51.481229",
     "status": "completed"
    },
    "tags": []
   },
   "outputs": [],
   "source": [
    "#hide\n",
    "# cols = ['name','group','day','value']"
   ]
  },
  {
   "cell_type": "code",
   "execution_count": 37,
   "id": "continued-sleeping",
   "metadata": {
    "execution": {
     "iopub.execute_input": "2022-06-24T12:15:51.586060Z",
     "iopub.status.busy": "2022-06-24T12:15:51.585478Z",
     "iopub.status.idle": "2022-06-24T12:15:51.587825Z",
     "shell.execute_reply": "2022-06-24T12:15:51.587290Z"
    },
    "papermill": {
     "duration": 0.037393,
     "end_time": "2022-06-24T12:15:51.587924",
     "exception": false,
     "start_time": "2022-06-24T12:15:51.550531",
     "status": "completed"
    },
    "tags": []
   },
   "outputs": [],
   "source": [
    "#hide\n",
    "# g.rename(columns= {'date':'day'},inplace = True)"
   ]
  },
  {
   "cell_type": "code",
   "execution_count": 38,
   "id": "major-fight",
   "metadata": {
    "execution": {
     "iopub.execute_input": "2022-06-24T12:15:51.654463Z",
     "iopub.status.busy": "2022-06-24T12:15:51.653874Z",
     "iopub.status.idle": "2022-06-24T12:15:51.656993Z",
     "shell.execute_reply": "2022-06-24T12:15:51.656548Z"
    },
    "papermill": {
     "duration": 0.037226,
     "end_time": "2022-06-24T12:15:51.657090",
     "exception": false,
     "start_time": "2022-06-24T12:15:51.619864",
     "status": "completed"
    },
    "tags": []
   },
   "outputs": [],
   "source": [
    "#hide\n",
    "# g = g[cols]"
   ]
  },
  {
   "cell_type": "code",
   "execution_count": 39,
   "id": "structured-mobile",
   "metadata": {
    "execution": {
     "iopub.execute_input": "2022-06-24T12:15:51.724253Z",
     "iopub.status.busy": "2022-06-24T12:15:51.723680Z",
     "iopub.status.idle": "2022-06-24T12:15:51.725548Z",
     "shell.execute_reply": "2022-06-24T12:15:51.726058Z"
    },
    "papermill": {
     "duration": 0.037584,
     "end_time": "2022-06-24T12:15:51.726171",
     "exception": false,
     "start_time": "2022-06-24T12:15:51.688587",
     "status": "completed"
    },
    "tags": []
   },
   "outputs": [],
   "source": [
    "# #hide\n",
    "# g = g[g.group.notna()]"
   ]
  },
  {
   "cell_type": "code",
   "execution_count": 40,
   "id": "determined-closing",
   "metadata": {
    "execution": {
     "iopub.execute_input": "2022-06-24T12:15:51.793771Z",
     "iopub.status.busy": "2022-06-24T12:15:51.793182Z",
     "iopub.status.idle": "2022-06-24T12:15:51.795148Z",
     "shell.execute_reply": "2022-06-24T12:15:51.795571Z"
    },
    "papermill": {
     "duration": 0.037377,
     "end_time": "2022-06-24T12:15:51.795681",
     "exception": false,
     "start_time": "2022-06-24T12:15:51.758304",
     "status": "completed"
    },
    "tags": []
   },
   "outputs": [],
   "source": [
    "# #hide\n",
    "# colors = dict(zip(\n",
    "#     [\"Oceania\", \"Europe\", \"Asia\", \"South America\", \"Middle East\", \"North America\", \"Africa\"],\n",
    "#     [\"#adb0ff\", \"#ffb3ff\", \"#90d595\", \"#e48381\", \"#aafbff\", \"#f7bb5f\", \"#eafb50\"]\n",
    "# ))\n",
    "# group_lk = g.set_index('name')['group'].to_dict()"
   ]
  },
  {
   "cell_type": "code",
   "execution_count": null,
   "id": "gross-drinking",
   "metadata": {
    "papermill": {
     "duration": 0.031446,
     "end_time": "2022-06-24T12:15:51.858625",
     "exception": false,
     "start_time": "2022-06-24T12:15:51.827179",
     "status": "completed"
    },
    "tags": []
   },
   "outputs": [],
   "source": []
  },
  {
   "cell_type": "code",
   "execution_count": 41,
   "id": "subject-macintosh",
   "metadata": {
    "execution": {
     "iopub.execute_input": "2022-06-24T12:15:51.926821Z",
     "iopub.status.busy": "2022-06-24T12:15:51.926212Z",
     "iopub.status.idle": "2022-06-24T12:15:51.928554Z",
     "shell.execute_reply": "2022-06-24T12:15:51.928020Z"
    },
    "papermill": {
     "duration": 0.037991,
     "end_time": "2022-06-24T12:15:51.928652",
     "exception": false,
     "start_time": "2022-06-24T12:15:51.890661",
     "status": "completed"
    },
    "tags": []
   },
   "outputs": [],
   "source": [
    "# #hide\n",
    "# fig, ax = plt.subplots(figsize=(15, 8))\n",
    "\n",
    "# def draw_barchart(current_day):\n",
    "#     dff = g[g['day'].eq(current_day)].sort_values(by='value', ascending=True).tail(10)\n",
    "#     ax.clear()\n",
    "#     ax.barh(dff['name'], dff['value'], color=[colors[group_lk[x]] for x in dff['name']])\n",
    "#     dx = dff['value'].max() / 200\n",
    "    \n",
    "#     for i, (value, name) in enumerate(zip(dff['value'], dff['name'])):\n",
    "#         ax.text(value-dx, i,     name,           size=14, weight=600, ha='right', va='bottom')\n",
    "#         ax.text(value-dx, i-.25, group_lk[name], size=10, color='#444444', ha='right', va='baseline')\n",
    "#         ax.text(value+dx, i,     f'{value:,.0f}',  size=14, ha='left',  va='center')\n",
    "#     ax.text(1, 0.4, current_day, transform=ax.transAxes, color='#777777', size=46, ha='right', weight=800)\n",
    "#     ax.text(0, 1.06, 'Population (thousands)', transform=ax.transAxes, size=12, color='#777777')\n",
    "#     ax.xaxis.set_major_formatter(ticker.StrMethodFormatter('{x:,.0f}'))\n",
    "#     ax.xaxis.set_ticks_position('top')\n",
    "#     ax.tick_params(axis='x', colors='#777777', labelsize=12)\n",
    "#     ax.set_yticks([])\n",
    "#     ax.margins(0, 0.01)\n",
    "#     ax.grid(which='major', axis='x', linestyle='-')\n",
    "#     ax.set_axisbelow(True)\n",
    "    \n",
    "#     ax.text(0, 1.15, 'Coronavirus',\n",
    "#             transform=ax.transAxes, size=24, weight=600, ha='left', va='top')\n",
    "# #     ax.text(1, 0, 'by @pratapvardhan; credit @jburnmurdoch', transform=ax.transAxes, color='#777777', ha='right',\n",
    "# #             bbox=dict(facecolor='white', alpha=0.8, edgecolor='white'))\n",
    "#     plt.box(False)"
   ]
  },
  {
   "cell_type": "code",
   "execution_count": 42,
   "id": "sexual-wages",
   "metadata": {
    "execution": {
     "iopub.execute_input": "2022-06-24T12:15:51.995823Z",
     "iopub.status.busy": "2022-06-24T12:15:51.995235Z",
     "iopub.status.idle": "2022-06-24T12:15:51.997637Z",
     "shell.execute_reply": "2022-06-24T12:15:51.997197Z"
    },
    "papermill": {
     "duration": 0.037197,
     "end_time": "2022-06-24T12:15:51.997733",
     "exception": false,
     "start_time": "2022-06-24T12:15:51.960536",
     "status": "completed"
    },
    "tags": []
   },
   "outputs": [],
   "source": [
    "# #hide_input\n",
    "# fig, ax = plt.subplots(figsize=(15, 8))\n",
    "# animator = animation.FuncAnimation(fig, draw_barchart, frames=range(g.day.values.min(), g.day.values.max()))\n",
    "# HTML(animator.to_jshtml())\n",
    "# # or use animator.to_html5_video() or animator.save() "
   ]
  },
  {
   "cell_type": "code",
   "execution_count": null,
   "id": "australian-container",
   "metadata": {
    "papermill": {
     "duration": 0.031539,
     "end_time": "2022-06-24T12:15:52.060997",
     "exception": false,
     "start_time": "2022-06-24T12:15:52.029458",
     "status": "completed"
    },
    "tags": []
   },
   "outputs": [],
   "source": []
  },
  {
   "cell_type": "code",
   "execution_count": null,
   "id": "mediterranean-pontiac",
   "metadata": {
    "papermill": {
     "duration": 0.031516,
     "end_time": "2022-06-24T12:15:52.124120",
     "exception": false,
     "start_time": "2022-06-24T12:15:52.092604",
     "status": "completed"
    },
    "tags": []
   },
   "outputs": [],
   "source": []
  },
  {
   "cell_type": "code",
   "execution_count": null,
   "id": "aging-legislature",
   "metadata": {
    "papermill": {
     "duration": 0.031584,
     "end_time": "2022-06-24T12:15:52.187648",
     "exception": false,
     "start_time": "2022-06-24T12:15:52.156064",
     "status": "completed"
    },
    "tags": []
   },
   "outputs": [],
   "source": []
  }
 ],
 "metadata": {
  "kernelspec": {
   "display_name": "Python 3",
   "language": "python",
   "name": "python3"
  },
  "language_info": {
   "codemirror_mode": {
    "name": "ipython",
    "version": 3
   },
   "file_extension": ".py",
   "mimetype": "text/x-python",
   "name": "python",
   "nbconvert_exporter": "python",
   "pygments_lexer": "ipython3",
   "version": "3.6.15"
  },
  "papermill": {
   "duration": 5.931592,
   "end_time": "2022-06-24T12:15:52.536923",
   "environment_variables": {},
   "exception": null,
   "input_path": "2020-03-21-covid19exp.ipynb",
   "output_path": "2020-03-21-covid19exp.ipynb",
   "parameters": {},
   "start_time": "2022-06-24T12:15:46.605331",
   "version": "2.0.0"
  }
 },
 "nbformat": 4,
 "nbformat_minor": 5
}