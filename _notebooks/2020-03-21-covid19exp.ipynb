{
 "cells": [
  {
   "cell_type": "markdown",
   "id": "muslim-click",
   "metadata": {
    "papermill": {
     "duration": 0.03797,
     "end_time": "2022-11-14T00:43:26.575148",
     "exception": false,
     "start_time": "2022-11-14T00:43:26.537178",
     "status": "completed"
    },
    "tags": []
   },
   "source": [
    "# COVID-19 Case Race\n",
    "> A race chart to see rising cases around the world\n",
    "\n",
    "- author: Hargun Oberoi\n",
    "- image: images/covid-overview.png\n",
    "- hide: false\n",
    "- badges: false"
   ]
  },
  {
   "cell_type": "code",
   "execution_count": 1,
   "id": "proof-material",
   "metadata": {
    "execution": {
     "iopub.execute_input": "2022-11-14T00:43:26.651215Z",
     "iopub.status.busy": "2022-11-14T00:43:26.650254Z",
     "iopub.status.idle": "2022-11-14T00:43:27.002167Z",
     "shell.execute_reply": "2022-11-14T00:43:27.000729Z"
    },
    "papermill": {
     "duration": 0.395153,
     "end_time": "2022-11-14T00:43:27.002332",
     "exception": false,
     "start_time": "2022-11-14T00:43:26.607179",
     "status": "completed"
    },
    "tags": []
   },
   "outputs": [],
   "source": [
    "#hide\n",
    "import numpy as np\n",
    "import pandas as pd\n",
    "from jinja2 import Template\n",
    "from IPython.display import HTML"
   ]
  },
  {
   "cell_type": "code",
   "execution_count": 2,
   "id": "developed-terminology",
   "metadata": {
    "execution": {
     "iopub.execute_input": "2022-11-14T00:43:27.072325Z",
     "iopub.status.busy": "2022-11-14T00:43:27.071672Z",
     "iopub.status.idle": "2022-11-14T00:43:27.074188Z",
     "shell.execute_reply": "2022-11-14T00:43:27.073525Z"
    },
    "papermill": {
     "duration": 0.039963,
     "end_time": "2022-11-14T00:43:27.074306",
     "exception": false,
     "start_time": "2022-11-14T00:43:27.034343",
     "status": "completed"
    },
    "tags": []
   },
   "outputs": [],
   "source": [
    "#hide\n",
    "\n",
    "# FETCH\n",
    "base_url = 'https://raw.githubusercontent.com/pratapvardhan/notebooks/master/covid19/'\n",
    "paths = {\n",
    "    'mapping': base_url + 'mapping_countries.csv',\n",
    "    'overview': base_url + 'overview.tpl'\n",
    "}"
   ]
  },
  {
   "cell_type": "code",
   "execution_count": 3,
   "id": "dynamic-saver",
   "metadata": {
    "execution": {
     "iopub.execute_input": "2022-11-14T00:43:27.153590Z",
     "iopub.status.busy": "2022-11-14T00:43:27.153011Z",
     "iopub.status.idle": "2022-11-14T00:43:27.156448Z",
     "shell.execute_reply": "2022-11-14T00:43:27.156881Z"
    },
    "papermill": {
     "duration": 0.046878,
     "end_time": "2022-11-14T00:43:27.157001",
     "exception": false,
     "start_time": "2022-11-14T00:43:27.110123",
     "status": "completed"
    },
    "tags": []
   },
   "outputs": [
    {
     "data": {
      "text/plain": [
       "'https://raw.githubusercontent.com/pratapvardhan/notebooks/master/covid19/mapping_countries.csv'"
      ]
     },
     "execution_count": 3,
     "metadata": {},
     "output_type": "execute_result"
    }
   ],
   "source": [
    "#hide\n",
    "paths['mapping']"
   ]
  },
  {
   "cell_type": "code",
   "execution_count": 4,
   "id": "urban-software",
   "metadata": {
    "execution": {
     "iopub.execute_input": "2022-11-14T00:43:27.222206Z",
     "iopub.status.busy": "2022-11-14T00:43:27.221571Z",
     "iopub.status.idle": "2022-11-14T00:43:27.224357Z",
     "shell.execute_reply": "2022-11-14T00:43:27.223832Z"
    },
    "papermill": {
     "duration": 0.037667,
     "end_time": "2022-11-14T00:43:27.224479",
     "exception": false,
     "start_time": "2022-11-14T00:43:27.186812",
     "status": "completed"
    },
    "tags": []
   },
   "outputs": [],
   "source": [
    "#hide\n",
    "def get_mappings(url):\n",
    "    df = pd.read_csv(url)\n",
    "    return {\n",
    "        'df': df,\n",
    "        'replace.country': dict(df.dropna(subset=['Name']).set_index('Country')['Name']),\n",
    "        'map.continent': dict(df.set_index('Name')['Continent'])\n",
    "    }"
   ]
  },
  {
   "cell_type": "code",
   "execution_count": 5,
   "id": "intimate-machinery",
   "metadata": {
    "execution": {
     "iopub.execute_input": "2022-11-14T00:43:27.291576Z",
     "iopub.status.busy": "2022-11-14T00:43:27.290925Z",
     "iopub.status.idle": "2022-11-14T00:43:27.328341Z",
     "shell.execute_reply": "2022-11-14T00:43:27.328936Z"
    },
    "papermill": {
     "duration": 0.073264,
     "end_time": "2022-11-14T00:43:27.329088",
     "exception": false,
     "start_time": "2022-11-14T00:43:27.255824",
     "status": "completed"
    },
    "tags": []
   },
   "outputs": [],
   "source": [
    "#hide\n",
    "mapping = get_mappings(paths['mapping'])"
   ]
  },
  {
   "cell_type": "code",
   "execution_count": 6,
   "id": "certified-tactics",
   "metadata": {
    "execution": {
     "iopub.execute_input": "2022-11-14T00:43:27.396936Z",
     "iopub.status.busy": "2022-11-14T00:43:27.396341Z",
     "iopub.status.idle": "2022-11-14T00:43:27.399069Z",
     "shell.execute_reply": "2022-11-14T00:43:27.398594Z"
    },
    "papermill": {
     "duration": 0.037722,
     "end_time": "2022-11-14T00:43:27.399171",
     "exception": false,
     "start_time": "2022-11-14T00:43:27.361449",
     "status": "completed"
    },
    "tags": []
   },
   "outputs": [],
   "source": [
    "#hide\n",
    "def get_template(path):\n",
    "    from urllib.parse import urlparse\n",
    "    if bool(urlparse(path).netloc):\n",
    "        from urllib.request import urlopen\n",
    "        return urlopen(path).read().decode('utf8')\n",
    "    return open(path).read()"
   ]
  },
  {
   "cell_type": "code",
   "execution_count": 7,
   "id": "realistic-blast",
   "metadata": {
    "execution": {
     "iopub.execute_input": "2022-11-14T00:43:27.464422Z",
     "iopub.status.busy": "2022-11-14T00:43:27.463728Z",
     "iopub.status.idle": "2022-11-14T00:43:27.466170Z",
     "shell.execute_reply": "2022-11-14T00:43:27.466736Z"
    },
    "papermill": {
     "duration": 0.037009,
     "end_time": "2022-11-14T00:43:27.466848",
     "exception": false,
     "start_time": "2022-11-14T00:43:27.429839",
     "status": "completed"
    },
    "tags": []
   },
   "outputs": [],
   "source": [
    "#hide\n",
    "def get_frame(name):\n",
    "    url = (\n",
    "        'https://raw.githubusercontent.com/CSSEGISandData/COVID-19/master/csse_covid_19_data/'\n",
    "        f'csse_covid_19_time_series/time_series_covid19_{name}_global.csv')\n",
    "    df = pd.read_csv(url)\n",
    "    # rename countries\n",
    "    df['Country/Region'] = df['Country/Region'].replace(mapping['replace.country'])\n",
    "    return df"
   ]
  },
  {
   "cell_type": "code",
   "execution_count": 8,
   "id": "affiliated-characterization",
   "metadata": {
    "execution": {
     "iopub.execute_input": "2022-11-14T00:43:27.533802Z",
     "iopub.status.busy": "2022-11-14T00:43:27.533197Z",
     "iopub.status.idle": "2022-11-14T00:43:27.535530Z",
     "shell.execute_reply": "2022-11-14T00:43:27.536070Z"
    },
    "papermill": {
     "duration": 0.038692,
     "end_time": "2022-11-14T00:43:27.536198",
     "exception": false,
     "start_time": "2022-11-14T00:43:27.497506",
     "status": "completed"
    },
    "tags": []
   },
   "outputs": [],
   "source": [
    "#hide\n",
    "def get_dates(df):\n",
    "    dt_cols = df.columns[~df.columns.isin(['Province/State', 'Country/Region', 'Lat', 'Long'])]\n",
    "    LAST_DATE_I = -1\n",
    "    # sometimes last column may be empty, then go backwards\n",
    "    for i in range(-1, -len(dt_cols), -1):\n",
    "        if not df[dt_cols[i]].fillna(0).eq(0).all():\n",
    "            LAST_DATE_I = i\n",
    "            break\n",
    "    return LAST_DATE_I, dt_cols"
   ]
  },
  {
   "cell_type": "code",
   "execution_count": 9,
   "id": "recent-optimization",
   "metadata": {
    "execution": {
     "iopub.execute_input": "2022-11-14T00:43:27.604882Z",
     "iopub.status.busy": "2022-11-14T00:43:27.604287Z",
     "iopub.status.idle": "2022-11-14T00:43:28.092049Z",
     "shell.execute_reply": "2022-11-14T00:43:28.091401Z"
    },
    "papermill": {
     "duration": 0.523276,
     "end_time": "2022-11-14T00:43:28.092178",
     "exception": false,
     "start_time": "2022-11-14T00:43:27.568902",
     "status": "completed"
    },
    "tags": []
   },
   "outputs": [],
   "source": [
    "#hide\n",
    "COL_REGION = 'Country/Region'\n",
    "# Confirmed, Recovered, Deaths\n",
    "df = get_frame('confirmed')\n",
    "# dft_: timeseries, dfc_: today country agg\n",
    "dft_cases = df\n",
    "dft_deaths = get_frame('deaths')\n",
    "dft_recovered = get_frame('recovered')\n",
    "LAST_DATE_I, dt_cols = get_dates(df)"
   ]
  },
  {
   "cell_type": "code",
   "execution_count": 10,
   "id": "absolute-copper",
   "metadata": {
    "execution": {
     "iopub.execute_input": "2022-11-14T00:43:28.170278Z",
     "iopub.status.busy": "2022-11-14T00:43:28.169616Z",
     "iopub.status.idle": "2022-11-14T00:43:28.172627Z",
     "shell.execute_reply": "2022-11-14T00:43:28.171874Z"
    },
    "papermill": {
     "duration": 0.044123,
     "end_time": "2022-11-14T00:43:28.172741",
     "exception": false,
     "start_time": "2022-11-14T00:43:28.128618",
     "status": "completed"
    },
    "tags": []
   },
   "outputs": [],
   "source": [
    "#hide\n",
    "LAST_DATE_I, dt_cols = get_dates(df)\n",
    "dt_today =dt_cols[LAST_DATE_I]\n",
    "# dt_5day = dt_cols[LAST_DATE_I - 5]\n",
    "dt_yday = dt_cols[LAST_DATE_I - 1]"
   ]
  },
  {
   "cell_type": "code",
   "execution_count": 11,
   "id": "restricted-sheriff",
   "metadata": {
    "execution": {
     "iopub.execute_input": "2022-11-14T00:43:28.242543Z",
     "iopub.status.busy": "2022-11-14T00:43:28.241906Z",
     "iopub.status.idle": "2022-11-14T00:43:28.252221Z",
     "shell.execute_reply": "2022-11-14T00:43:28.252803Z"
    },
    "papermill": {
     "duration": 0.047853,
     "end_time": "2022-11-14T00:43:28.252928",
     "exception": false,
     "start_time": "2022-11-14T00:43:28.205075",
     "status": "completed"
    },
    "tags": []
   },
   "outputs": [],
   "source": [
    "#hide\n",
    "dfc_cases = dft_cases.groupby(COL_REGION)[dt_today].sum()\n",
    "dfc_deaths = dft_deaths.groupby(COL_REGION)[dt_today].sum()\n",
    "# dfp_cases = dft_cases.groupby(COL_REGION)[dt_5day].sum()\n",
    "# dfp_deaths = dft_deaths.groupby(COL_REGION)[dt_5day].sum()\n",
    "dfp_cases = dft_cases.groupby(COL_REGION)[dt_yday].sum()\n",
    "dfp_deaths = dft_deaths.groupby(COL_REGION)[dt_yday].sum()"
   ]
  },
  {
   "cell_type": "code",
   "execution_count": 12,
   "id": "deluxe-hepatitis",
   "metadata": {
    "execution": {
     "iopub.execute_input": "2022-11-14T00:43:28.318670Z",
     "iopub.status.busy": "2022-11-14T00:43:28.317797Z",
     "iopub.status.idle": "2022-11-14T00:43:28.323476Z",
     "shell.execute_reply": "2022-11-14T00:43:28.324022Z"
    },
    "papermill": {
     "duration": 0.040485,
     "end_time": "2022-11-14T00:43:28.324134",
     "exception": false,
     "start_time": "2022-11-14T00:43:28.283649",
     "status": "completed"
    },
    "tags": []
   },
   "outputs": [],
   "source": [
    "#hide\n",
    "df_table = (pd.DataFrame(dict(Cases = dfc_cases, Deaths = dfc_deaths, PCases = dfp_cases, PDeaths = dfp_deaths))\n",
    "            .sort_values(by = ['Cases','Deaths'], ascending = [False, False])\n",
    "            .reset_index())"
   ]
  },
  {
   "cell_type": "code",
   "execution_count": 13,
   "id": "educational-chancellor",
   "metadata": {
    "execution": {
     "iopub.execute_input": "2022-11-14T00:43:28.407274Z",
     "iopub.status.busy": "2022-11-14T00:43:28.406522Z",
     "iopub.status.idle": "2022-11-14T00:43:28.415529Z",
     "shell.execute_reply": "2022-11-14T00:43:28.416121Z"
    },
    "papermill": {
     "duration": 0.060158,
     "end_time": "2022-11-14T00:43:28.416243",
     "exception": false,
     "start_time": "2022-11-14T00:43:28.356085",
     "status": "completed"
    },
    "tags": []
   },
   "outputs": [
    {
     "data": {
      "text/html": [
       "<div>\n",
       "<style scoped>\n",
       "    .dataframe tbody tr th:only-of-type {\n",
       "        vertical-align: middle;\n",
       "    }\n",
       "\n",
       "    .dataframe tbody tr th {\n",
       "        vertical-align: top;\n",
       "    }\n",
       "\n",
       "    .dataframe thead th {\n",
       "        text-align: right;\n",
       "    }\n",
       "</style>\n",
       "<table border=\"1\" class=\"dataframe\">\n",
       "  <thead>\n",
       "    <tr style=\"text-align: right;\">\n",
       "      <th></th>\n",
       "      <th>Country/Region</th>\n",
       "      <th>Cases</th>\n",
       "      <th>Deaths</th>\n",
       "      <th>PCases</th>\n",
       "      <th>PDeaths</th>\n",
       "      <th>Cases (+)</th>\n",
       "      <th>Deaths (+)</th>\n",
       "      <th>Fatality Rate</th>\n",
       "      <th>Continent</th>\n",
       "    </tr>\n",
       "  </thead>\n",
       "  <tbody>\n",
       "    <tr>\n",
       "      <th>0</th>\n",
       "      <td>US</td>\n",
       "      <td>97995355</td>\n",
       "      <td>1074484</td>\n",
       "      <td>97990681</td>\n",
       "      <td>1074524</td>\n",
       "      <td>4674</td>\n",
       "      <td>0</td>\n",
       "      <td>1.10</td>\n",
       "      <td>North America</td>\n",
       "    </tr>\n",
       "    <tr>\n",
       "      <th>1</th>\n",
       "      <td>India</td>\n",
       "      <td>44666372</td>\n",
       "      <td>530531</td>\n",
       "      <td>44665643</td>\n",
       "      <td>530528</td>\n",
       "      <td>729</td>\n",
       "      <td>3</td>\n",
       "      <td>1.19</td>\n",
       "      <td>Asia</td>\n",
       "    </tr>\n",
       "    <tr>\n",
       "      <th>2</th>\n",
       "      <td>France</td>\n",
       "      <td>37288432</td>\n",
       "      <td>158711</td>\n",
       "      <td>37288432</td>\n",
       "      <td>158711</td>\n",
       "      <td>0</td>\n",
       "      <td>0</td>\n",
       "      <td>0.43</td>\n",
       "      <td>Europe</td>\n",
       "    </tr>\n",
       "    <tr>\n",
       "      <th>3</th>\n",
       "      <td>Germany</td>\n",
       "      <td>36033395</td>\n",
       "      <td>155588</td>\n",
       "      <td>36033394</td>\n",
       "      <td>155588</td>\n",
       "      <td>1</td>\n",
       "      <td>0</td>\n",
       "      <td>0.43</td>\n",
       "      <td>Europe</td>\n",
       "    </tr>\n",
       "    <tr>\n",
       "      <th>4</th>\n",
       "      <td>Brazil</td>\n",
       "      <td>34908198</td>\n",
       "      <td>688656</td>\n",
       "      <td>34908198</td>\n",
       "      <td>688656</td>\n",
       "      <td>0</td>\n",
       "      <td>0</td>\n",
       "      <td>1.97</td>\n",
       "      <td>South America</td>\n",
       "    </tr>\n",
       "  </tbody>\n",
       "</table>\n",
       "</div>"
      ],
      "text/plain": [
       "  Country/Region     Cases   Deaths    PCases  PDeaths  Cases (+)  Deaths (+)  \\\n",
       "0             US  97995355  1074484  97990681  1074524       4674           0   \n",
       "1          India  44666372   530531  44665643   530528        729           3   \n",
       "2         France  37288432   158711  37288432   158711          0           0   \n",
       "3        Germany  36033395   155588  36033394   155588          1           0   \n",
       "4         Brazil  34908198   688656  34908198   688656          0           0   \n",
       "\n",
       "   Fatality Rate      Continent  \n",
       "0           1.10  North America  \n",
       "1           1.19           Asia  \n",
       "2           0.43         Europe  \n",
       "3           0.43         Europe  \n",
       "4           1.97  South America  "
      ]
     },
     "execution_count": 13,
     "metadata": {},
     "output_type": "execute_result"
    }
   ],
   "source": [
    "#hide\n",
    "for c in 'Cases, Deaths'.split(', '):\n",
    "    df_table[f'{c} (+)'] = (df_table[c] - df_table[f'P{c}']).clip(0)\n",
    "    #Clip ça veut dire, les chiffres negatif sont interdit\n",
    "df_table['Fatality Rate'] = (100* df_table['Deaths']/ df_table['Cases']).round(2)\n",
    "df_table['Continent'] = df_table['Country/Region'].map(mapping['map.continent'])\n",
    "df_table.head(5)"
   ]
  },
  {
   "cell_type": "code",
   "execution_count": 14,
   "id": "aboriginal-bulgaria",
   "metadata": {
    "execution": {
     "iopub.execute_input": "2022-11-14T00:43:28.488943Z",
     "iopub.status.busy": "2022-11-14T00:43:28.488149Z",
     "iopub.status.idle": "2022-11-14T00:43:28.491920Z",
     "shell.execute_reply": "2022-11-14T00:43:28.492634Z"
    },
    "papermill": {
     "duration": 0.044982,
     "end_time": "2022-11-14T00:43:28.492767",
     "exception": false,
     "start_time": "2022-11-14T00:43:28.447785",
     "status": "completed"
    },
    "tags": []
   },
   "outputs": [],
   "source": [
    "#hide\n",
    "#delete problematic countries from table\n",
    "df_table = df_table[~df_table['Country/Region'].isin(['Cape Verde', 'Cruise Ship', 'Kosovo'])]"
   ]
  },
  {
   "cell_type": "code",
   "execution_count": 15,
   "id": "fantastic-effect",
   "metadata": {
    "execution": {
     "iopub.execute_input": "2022-11-14T00:43:28.596598Z",
     "iopub.status.busy": "2022-11-14T00:43:28.575196Z",
     "iopub.status.idle": "2022-11-14T00:43:28.599380Z",
     "shell.execute_reply": "2022-11-14T00:43:28.599918Z"
    },
    "papermill": {
     "duration": 0.072699,
     "end_time": "2022-11-14T00:43:28.600060",
     "exception": false,
     "start_time": "2022-11-14T00:43:28.527361",
     "status": "completed"
    },
    "tags": []
   },
   "outputs": [
    {
     "data": {
      "text/html": [
       "<div>\n",
       "<style scoped>\n",
       "    .dataframe tbody tr th:only-of-type {\n",
       "        vertical-align: middle;\n",
       "    }\n",
       "\n",
       "    .dataframe tbody tr th {\n",
       "        vertical-align: top;\n",
       "    }\n",
       "\n",
       "    .dataframe thead th {\n",
       "        text-align: right;\n",
       "    }\n",
       "</style>\n",
       "<table border=\"1\" class=\"dataframe\">\n",
       "  <thead>\n",
       "    <tr style=\"text-align: right;\">\n",
       "      <th></th>\n",
       "      <th>Country/Region</th>\n",
       "      <th>Cases</th>\n",
       "      <th>Deaths</th>\n",
       "      <th>PCases</th>\n",
       "      <th>PDeaths</th>\n",
       "      <th>Cases (+)</th>\n",
       "      <th>Deaths (+)</th>\n",
       "      <th>Fatality Rate</th>\n",
       "      <th>Continent</th>\n",
       "    </tr>\n",
       "  </thead>\n",
       "  <tbody>\n",
       "    <tr>\n",
       "      <th>0</th>\n",
       "      <td>US</td>\n",
       "      <td>97995355</td>\n",
       "      <td>1074484</td>\n",
       "      <td>97990681</td>\n",
       "      <td>1074524</td>\n",
       "      <td>4674</td>\n",
       "      <td>0</td>\n",
       "      <td>1.1</td>\n",
       "      <td>North America</td>\n",
       "    </tr>\n",
       "    <tr>\n",
       "      <th>1</th>\n",
       "      <td>India</td>\n",
       "      <td>44666372</td>\n",
       "      <td>530531</td>\n",
       "      <td>44665643</td>\n",
       "      <td>530528</td>\n",
       "      <td>729</td>\n",
       "      <td>3</td>\n",
       "      <td>1.2</td>\n",
       "      <td>Asia</td>\n",
       "    </tr>\n",
       "    <tr>\n",
       "      <th>2</th>\n",
       "      <td>France</td>\n",
       "      <td>37288432</td>\n",
       "      <td>158711</td>\n",
       "      <td>37288432</td>\n",
       "      <td>158711</td>\n",
       "      <td>0</td>\n",
       "      <td>0</td>\n",
       "      <td>0.4</td>\n",
       "      <td>Europe</td>\n",
       "    </tr>\n",
       "    <tr>\n",
       "      <th>3</th>\n",
       "      <td>Germany</td>\n",
       "      <td>36033395</td>\n",
       "      <td>155588</td>\n",
       "      <td>36033394</td>\n",
       "      <td>155588</td>\n",
       "      <td>1</td>\n",
       "      <td>0</td>\n",
       "      <td>0.4</td>\n",
       "      <td>Europe</td>\n",
       "    </tr>\n",
       "    <tr>\n",
       "      <th>4</th>\n",
       "      <td>Brazil</td>\n",
       "      <td>34908198</td>\n",
       "      <td>688656</td>\n",
       "      <td>34908198</td>\n",
       "      <td>688656</td>\n",
       "      <td>0</td>\n",
       "      <td>0</td>\n",
       "      <td>2.0</td>\n",
       "      <td>South America</td>\n",
       "    </tr>\n",
       "  </tbody>\n",
       "</table>\n",
       "</div>"
      ],
      "text/plain": [
       "  Country/Region     Cases   Deaths    PCases  PDeaths  Cases (+)  Deaths (+)  \\\n",
       "0             US  97995355  1074484  97990681  1074524       4674           0   \n",
       "1          India  44666372   530531  44665643   530528        729           3   \n",
       "2         France  37288432   158711  37288432   158711          0           0   \n",
       "3        Germany  36033395   155588  36033394   155588          1           0   \n",
       "4         Brazil  34908198   688656  34908198   688656          0           0   \n",
       "\n",
       "   Fatality Rate      Continent  \n",
       "0            1.1  North America  \n",
       "1            1.2           Asia  \n",
       "2            0.4         Europe  \n",
       "3            0.4         Europe  \n",
       "4            2.0  South America  "
      ]
     },
     "execution_count": 15,
     "metadata": {},
     "output_type": "execute_result"
    }
   ],
   "source": [
    "#hide\n",
    "df_table = (pd.DataFrame(dict(Cases=dfc_cases, Deaths=dfc_deaths, PCases=dfp_cases, PDeaths=dfp_deaths))\n",
    "             .sort_values(by=['Cases', 'Deaths'], ascending=[False, False])\n",
    "             .reset_index())\n",
    "df_table.rename(columns={'index': 'Country/Region'}, inplace=True)\n",
    "for c in 'Cases, Deaths'.split(', '):\n",
    "    df_table[f'{c} (+)'] = (df_table[c] - df_table[f'P{c}']).clip(0)  # DATA BUG\n",
    "df_table['Fatality Rate'] = (100 * df_table['Deaths'] / df_table['Cases']).round(1)\n",
    "df_table['Continent'] = df_table['Country/Region'].map(mapping['map.continent'])\n",
    "df_table.head(5)"
   ]
  },
  {
   "cell_type": "code",
   "execution_count": 16,
   "id": "fewer-occasion",
   "metadata": {
    "execution": {
     "iopub.execute_input": "2022-11-14T00:43:28.678097Z",
     "iopub.status.busy": "2022-11-14T00:43:28.677344Z",
     "iopub.status.idle": "2022-11-14T00:43:28.680446Z",
     "shell.execute_reply": "2022-11-14T00:43:28.679819Z"
    },
    "papermill": {
     "duration": 0.04419,
     "end_time": "2022-11-14T00:43:28.680564",
     "exception": false,
     "start_time": "2022-11-14T00:43:28.636374",
     "status": "completed"
    },
    "tags": []
   },
   "outputs": [],
   "source": [
    "#hide\n",
    "#delete problematic countries from table\n",
    "df_table = df_table[~df_table['Country/Region'].isin(['Cape Verde', 'Cruise Ship', 'Kosovo'])]"
   ]
  },
  {
   "cell_type": "code",
   "execution_count": 17,
   "id": "related-center",
   "metadata": {
    "execution": {
     "iopub.execute_input": "2022-11-14T00:43:28.770760Z",
     "iopub.status.busy": "2022-11-14T00:43:28.762362Z",
     "iopub.status.idle": "2022-11-14T00:43:28.774002Z",
     "shell.execute_reply": "2022-11-14T00:43:28.773462Z"
    },
    "papermill": {
     "duration": 0.057316,
     "end_time": "2022-11-14T00:43:28.774114",
     "exception": false,
     "start_time": "2022-11-14T00:43:28.716798",
     "status": "completed"
    },
    "tags": []
   },
   "outputs": [],
   "source": [
    "#hide\n",
    "metrics = [df_table.columns[index] for index in [1,2,5,6]]\n",
    "# s_china = df_table[df_table['Country/Region'].eq('China')][metrics].sum().add_prefix('China ')\n",
    "s_us = df_table[df_table['Country/Region'].eq('US')][metrics].sum().add_prefix('US ')\n",
    "s_eu = df_table[df_table['Continent'].eq('Europe')][metrics].sum().add_prefix('EU ')\n",
    "s_ind = df_table[df_table['Country/Region'].eq('India')][metrics].sum().add_prefix('India ')\n",
    "summary = {'updated': pd.to_datetime(dt_today), 'since': pd.to_datetime(dt_yday)}\n",
    "summary = {'updated': pd.to_datetime(dt_today), 'since': pd.to_datetime(dt_yday)}\n",
    "summary = {**summary, **df_table[metrics].sum(), **s_ind, **s_us, **s_eu}"
   ]
  },
  {
   "cell_type": "code",
   "execution_count": 18,
   "id": "engaging-syndrome",
   "metadata": {
    "execution": {
     "iopub.execute_input": "2022-11-14T00:43:28.841373Z",
     "iopub.status.busy": "2022-11-14T00:43:28.840773Z",
     "iopub.status.idle": "2022-11-14T00:43:28.861714Z",
     "shell.execute_reply": "2022-11-14T00:43:28.861232Z"
    },
    "papermill": {
     "duration": 0.056152,
     "end_time": "2022-11-14T00:43:28.861821",
     "exception": false,
     "start_time": "2022-11-14T00:43:28.805669",
     "status": "completed"
    },
    "tags": []
   },
   "outputs": [],
   "source": [
    "#hide\n",
    "dft_ct_new_cases = dft_cases.groupby(COL_REGION)[dt_cols].sum().diff(axis=1).fillna(0).astype(int)"
   ]
  },
  {
   "cell_type": "code",
   "execution_count": 19,
   "id": "neutral-assignment",
   "metadata": {
    "execution": {
     "iopub.execute_input": "2022-11-14T00:43:28.932217Z",
     "iopub.status.busy": "2022-11-14T00:43:28.931615Z",
     "iopub.status.idle": "2022-11-14T00:43:28.934669Z",
     "shell.execute_reply": "2022-11-14T00:43:28.933929Z"
    },
    "papermill": {
     "duration": 0.041413,
     "end_time": "2022-11-14T00:43:28.934778",
     "exception": false,
     "start_time": "2022-11-14T00:43:28.893365",
     "status": "completed"
    },
    "tags": []
   },
   "outputs": [],
   "source": [
    "#hide\n",
    "everydaycases = dft_ct_new_cases.cumsum(axis=1)"
   ]
  },
  {
   "cell_type": "code",
   "execution_count": 20,
   "id": "parliamentary-calgary",
   "metadata": {
    "execution": {
     "iopub.execute_input": "2022-11-14T00:43:29.004463Z",
     "iopub.status.busy": "2022-11-14T00:43:29.003856Z",
     "iopub.status.idle": "2022-11-14T00:43:29.556538Z",
     "shell.execute_reply": "2022-11-14T00:43:29.555907Z"
    },
    "papermill": {
     "duration": 0.590093,
     "end_time": "2022-11-14T00:43:29.556685",
     "exception": false,
     "start_time": "2022-11-14T00:43:28.966592",
     "status": "completed"
    },
    "tags": []
   },
   "outputs": [],
   "source": [
    "#hide\n",
    "import pandas as pd\n",
    "import matplotlib.pyplot as plt\n",
    "import matplotlib.ticker as ticker\n",
    "import matplotlib.animation as animation\n",
    "from IPython.display import HTML"
   ]
  },
  {
   "cell_type": "code",
   "execution_count": 21,
   "id": "lasting-extraction",
   "metadata": {
    "execution": {
     "iopub.execute_input": "2022-11-14T00:43:29.631873Z",
     "iopub.status.busy": "2022-11-14T00:43:29.631175Z",
     "iopub.status.idle": "2022-11-14T00:43:29.640177Z",
     "shell.execute_reply": "2022-11-14T00:43:29.641228Z"
    },
    "papermill": {
     "duration": 0.050679,
     "end_time": "2022-11-14T00:43:29.641359",
     "exception": false,
     "start_time": "2022-11-14T00:43:29.590680",
     "status": "completed"
    },
    "tags": []
   },
   "outputs": [],
   "source": [
    "#hide\n",
    "t = everydaycases.stack()"
   ]
  },
  {
   "cell_type": "code",
   "execution_count": 22,
   "id": "premier-sleeve",
   "metadata": {
    "execution": {
     "iopub.execute_input": "2022-11-14T00:43:29.710900Z",
     "iopub.status.busy": "2022-11-14T00:43:29.710318Z",
     "iopub.status.idle": "2022-11-14T00:43:29.722715Z",
     "shell.execute_reply": "2022-11-14T00:43:29.722232Z"
    },
    "papermill": {
     "duration": 0.049433,
     "end_time": "2022-11-14T00:43:29.722820",
     "exception": false,
     "start_time": "2022-11-14T00:43:29.673387",
     "status": "completed"
    },
    "tags": []
   },
   "outputs": [],
   "source": [
    "#hide\n",
    "g = t.reset_index(['Country/Region'])"
   ]
  },
  {
   "cell_type": "code",
   "execution_count": 23,
   "id": "distributed-pittsburgh",
   "metadata": {
    "execution": {
     "iopub.execute_input": "2022-11-14T00:43:29.789585Z",
     "iopub.status.busy": "2022-11-14T00:43:29.788909Z",
     "iopub.status.idle": "2022-11-14T00:43:29.793251Z",
     "shell.execute_reply": "2022-11-14T00:43:29.792772Z"
    },
    "papermill": {
     "duration": 0.038779,
     "end_time": "2022-11-14T00:43:29.793351",
     "exception": false,
     "start_time": "2022-11-14T00:43:29.754572",
     "status": "completed"
    },
    "tags": []
   },
   "outputs": [],
   "source": [
    "#hide\n",
    "g.index.name = 'date'"
   ]
  },
  {
   "cell_type": "code",
   "execution_count": 24,
   "id": "naked-donor",
   "metadata": {
    "execution": {
     "iopub.execute_input": "2022-11-14T00:43:29.858968Z",
     "iopub.status.busy": "2022-11-14T00:43:29.858363Z",
     "iopub.status.idle": "2022-11-14T00:43:29.861205Z",
     "shell.execute_reply": "2022-11-14T00:43:29.860615Z"
    },
    "papermill": {
     "duration": 0.036324,
     "end_time": "2022-11-14T00:43:29.861312",
     "exception": false,
     "start_time": "2022-11-14T00:43:29.824988",
     "status": "completed"
    },
    "tags": []
   },
   "outputs": [],
   "source": [
    "# #hide\n",
    "# g = g.reset_index(['date'])"
   ]
  },
  {
   "cell_type": "code",
   "execution_count": 25,
   "id": "incomplete-mustang",
   "metadata": {
    "execution": {
     "iopub.execute_input": "2022-11-14T00:43:29.931957Z",
     "iopub.status.busy": "2022-11-14T00:43:29.931170Z",
     "iopub.status.idle": "2022-11-14T00:43:29.934422Z",
     "shell.execute_reply": "2022-11-14T00:43:29.933764Z"
    },
    "papermill": {
     "duration": 0.041594,
     "end_time": "2022-11-14T00:43:29.934564",
     "exception": false,
     "start_time": "2022-11-14T00:43:29.892970",
     "status": "completed"
    },
    "tags": []
   },
   "outputs": [],
   "source": [
    "#hide\n",
    "# g.head()"
   ]
  },
  {
   "cell_type": "code",
   "execution_count": 26,
   "id": "specific-kruger",
   "metadata": {
    "execution": {
     "iopub.execute_input": "2022-11-14T00:43:30.005431Z",
     "iopub.status.busy": "2022-11-14T00:43:30.004778Z",
     "iopub.status.idle": "2022-11-14T00:43:30.007759Z",
     "shell.execute_reply": "2022-11-14T00:43:30.007267Z"
    },
    "papermill": {
     "duration": 0.038811,
     "end_time": "2022-11-14T00:43:30.007864",
     "exception": false,
     "start_time": "2022-11-14T00:43:29.969053",
     "status": "completed"
    },
    "tags": []
   },
   "outputs": [],
   "source": [
    "#hide\n",
    "# g.columns = ['date','country','cases']"
   ]
  },
  {
   "cell_type": "code",
   "execution_count": 27,
   "id": "tender-conversion",
   "metadata": {
    "execution": {
     "iopub.execute_input": "2022-11-14T00:43:30.076486Z",
     "iopub.status.busy": "2022-11-14T00:43:30.075813Z",
     "iopub.status.idle": "2022-11-14T00:43:30.078606Z",
     "shell.execute_reply": "2022-11-14T00:43:30.078023Z"
    },
    "papermill": {
     "duration": 0.039037,
     "end_time": "2022-11-14T00:43:30.078709",
     "exception": false,
     "start_time": "2022-11-14T00:43:30.039672",
     "status": "completed"
    },
    "tags": []
   },
   "outputs": [],
   "source": [
    "#hide\n",
    "# g['continent'] = g.country"
   ]
  },
  {
   "cell_type": "code",
   "execution_count": 28,
   "id": "substantial-wilderness",
   "metadata": {
    "execution": {
     "iopub.execute_input": "2022-11-14T00:43:30.148148Z",
     "iopub.status.busy": "2022-11-14T00:43:30.147461Z",
     "iopub.status.idle": "2022-11-14T00:43:30.150112Z",
     "shell.execute_reply": "2022-11-14T00:43:30.150737Z"
    },
    "papermill": {
     "duration": 0.040531,
     "end_time": "2022-11-14T00:43:30.150853",
     "exception": false,
     "start_time": "2022-11-14T00:43:30.110322",
     "status": "completed"
    },
    "tags": []
   },
   "outputs": [],
   "source": [
    "#hide\n",
    "# cols = list(g.columns.values)"
   ]
  },
  {
   "cell_type": "code",
   "execution_count": 29,
   "id": "solved-farming",
   "metadata": {
    "execution": {
     "iopub.execute_input": "2022-11-14T00:43:30.230244Z",
     "iopub.status.busy": "2022-11-14T00:43:30.229563Z",
     "iopub.status.idle": "2022-11-14T00:43:30.232399Z",
     "shell.execute_reply": "2022-11-14T00:43:30.231888Z"
    },
    "papermill": {
     "duration": 0.045808,
     "end_time": "2022-11-14T00:43:30.232513",
     "exception": false,
     "start_time": "2022-11-14T00:43:30.186705",
     "status": "completed"
    },
    "tags": []
   },
   "outputs": [],
   "source": [
    "#hide\n",
    "# cols.insert(0, cols.pop())"
   ]
  },
  {
   "cell_type": "code",
   "execution_count": 30,
   "id": "executed-adoption",
   "metadata": {
    "execution": {
     "iopub.execute_input": "2022-11-14T00:43:30.303955Z",
     "iopub.status.busy": "2022-11-14T00:43:30.303296Z",
     "iopub.status.idle": "2022-11-14T00:43:30.306104Z",
     "shell.execute_reply": "2022-11-14T00:43:30.305411Z"
    },
    "papermill": {
     "duration": 0.038904,
     "end_time": "2022-11-14T00:43:30.306271",
     "exception": false,
     "start_time": "2022-11-14T00:43:30.267367",
     "status": "completed"
    },
    "tags": []
   },
   "outputs": [],
   "source": [
    "#hide\n",
    "# g = g[cols]"
   ]
  },
  {
   "cell_type": "code",
   "execution_count": 31,
   "id": "subject-dublin",
   "metadata": {
    "execution": {
     "iopub.execute_input": "2022-11-14T00:43:30.377033Z",
     "iopub.status.busy": "2022-11-14T00:43:30.376172Z",
     "iopub.status.idle": "2022-11-14T00:43:30.378835Z",
     "shell.execute_reply": "2022-11-14T00:43:30.379345Z"
    },
    "papermill": {
     "duration": 0.039875,
     "end_time": "2022-11-14T00:43:30.379466",
     "exception": false,
     "start_time": "2022-11-14T00:43:30.339591",
     "status": "completed"
    },
    "tags": []
   },
   "outputs": [],
   "source": [
    "#hide\n",
    "# g['continent'] = g['continent'].map(mapping['map.continent'])"
   ]
  },
  {
   "cell_type": "code",
   "execution_count": 32,
   "id": "freelance-scout",
   "metadata": {
    "execution": {
     "iopub.execute_input": "2022-11-14T00:43:30.449434Z",
     "iopub.status.busy": "2022-11-14T00:43:30.448741Z",
     "iopub.status.idle": "2022-11-14T00:43:30.451384Z",
     "shell.execute_reply": "2022-11-14T00:43:30.450857Z"
    },
    "papermill": {
     "duration": 0.039308,
     "end_time": "2022-11-14T00:43:30.451500",
     "exception": false,
     "start_time": "2022-11-14T00:43:30.412192",
     "status": "completed"
    },
    "tags": []
   },
   "outputs": [],
   "source": [
    "#hide\n",
    "# g.head()"
   ]
  },
  {
   "cell_type": "code",
   "execution_count": 33,
   "id": "limited-engine",
   "metadata": {
    "execution": {
     "iopub.execute_input": "2022-11-14T00:43:30.522694Z",
     "iopub.status.busy": "2022-11-14T00:43:30.522057Z",
     "iopub.status.idle": "2022-11-14T00:43:30.524949Z",
     "shell.execute_reply": "2022-11-14T00:43:30.524349Z"
    },
    "papermill": {
     "duration": 0.039856,
     "end_time": "2022-11-14T00:43:30.525069",
     "exception": false,
     "start_time": "2022-11-14T00:43:30.485213",
     "status": "completed"
    },
    "tags": []
   },
   "outputs": [],
   "source": [
    "# hide\n",
    "# g['date'] = g['date'].astype('datetime64[ns]')"
   ]
  },
  {
   "cell_type": "code",
   "execution_count": 34,
   "id": "sophisticated-supervisor",
   "metadata": {
    "execution": {
     "iopub.execute_input": "2022-11-14T00:43:30.596637Z",
     "iopub.status.busy": "2022-11-14T00:43:30.596023Z",
     "iopub.status.idle": "2022-11-14T00:43:30.600269Z",
     "shell.execute_reply": "2022-11-14T00:43:30.600832Z"
    },
    "papermill": {
     "duration": 0.041682,
     "end_time": "2022-11-14T00:43:30.600960",
     "exception": false,
     "start_time": "2022-11-14T00:43:30.559278",
     "status": "completed"
    },
    "tags": []
   },
   "outputs": [],
   "source": [
    "#hide\n",
    "# g['date'] = g.date.dt.dayofyear"
   ]
  },
  {
   "cell_type": "code",
   "execution_count": 35,
   "id": "inside-dubai",
   "metadata": {
    "execution": {
     "iopub.execute_input": "2022-11-14T00:43:30.672289Z",
     "iopub.status.busy": "2022-11-14T00:43:30.671672Z",
     "iopub.status.idle": "2022-11-14T00:43:30.674509Z",
     "shell.execute_reply": "2022-11-14T00:43:30.673903Z"
    },
    "papermill": {
     "duration": 0.039182,
     "end_time": "2022-11-14T00:43:30.674617",
     "exception": false,
     "start_time": "2022-11-14T00:43:30.635435",
     "status": "completed"
    },
    "tags": []
   },
   "outputs": [],
   "source": [
    "#hide\n",
    "# g = g.rename(columns= {'continent':'group','country':'name','cases':'value'})"
   ]
  },
  {
   "cell_type": "code",
   "execution_count": 36,
   "id": "fleet-motorcycle",
   "metadata": {
    "execution": {
     "iopub.execute_input": "2022-11-14T00:43:30.744457Z",
     "iopub.status.busy": "2022-11-14T00:43:30.743767Z",
     "iopub.status.idle": "2022-11-14T00:43:30.746220Z",
     "shell.execute_reply": "2022-11-14T00:43:30.746734Z"
    },
    "papermill": {
     "duration": 0.039477,
     "end_time": "2022-11-14T00:43:30.746863",
     "exception": false,
     "start_time": "2022-11-14T00:43:30.707386",
     "status": "completed"
    },
    "tags": []
   },
   "outputs": [],
   "source": [
    "#hide\n",
    "# cols = ['name','group','day','value']"
   ]
  },
  {
   "cell_type": "code",
   "execution_count": 37,
   "id": "continued-sleeping",
   "metadata": {
    "execution": {
     "iopub.execute_input": "2022-11-14T00:43:30.815139Z",
     "iopub.status.busy": "2022-11-14T00:43:30.814553Z",
     "iopub.status.idle": "2022-11-14T00:43:30.817232Z",
     "shell.execute_reply": "2022-11-14T00:43:30.816659Z"
    },
    "papermill": {
     "duration": 0.037412,
     "end_time": "2022-11-14T00:43:30.817344",
     "exception": false,
     "start_time": "2022-11-14T00:43:30.779932",
     "status": "completed"
    },
    "tags": []
   },
   "outputs": [],
   "source": [
    "#hide\n",
    "# g.rename(columns= {'date':'day'},inplace = True)"
   ]
  },
  {
   "cell_type": "code",
   "execution_count": 38,
   "id": "major-fight",
   "metadata": {
    "execution": {
     "iopub.execute_input": "2022-11-14T00:43:30.884418Z",
     "iopub.status.busy": "2022-11-14T00:43:30.883400Z",
     "iopub.status.idle": "2022-11-14T00:43:30.886434Z",
     "shell.execute_reply": "2022-11-14T00:43:30.885829Z"
    },
    "papermill": {
     "duration": 0.037802,
     "end_time": "2022-11-14T00:43:30.886540",
     "exception": false,
     "start_time": "2022-11-14T00:43:30.848738",
     "status": "completed"
    },
    "tags": []
   },
   "outputs": [],
   "source": [
    "#hide\n",
    "# g = g[cols]"
   ]
  },
  {
   "cell_type": "code",
   "execution_count": 39,
   "id": "structured-mobile",
   "metadata": {
    "execution": {
     "iopub.execute_input": "2022-11-14T00:43:30.954907Z",
     "iopub.status.busy": "2022-11-14T00:43:30.954320Z",
     "iopub.status.idle": "2022-11-14T00:43:30.957024Z",
     "shell.execute_reply": "2022-11-14T00:43:30.956452Z"
    },
    "papermill": {
     "duration": 0.03921,
     "end_time": "2022-11-14T00:43:30.957126",
     "exception": false,
     "start_time": "2022-11-14T00:43:30.917916",
     "status": "completed"
    },
    "tags": []
   },
   "outputs": [],
   "source": [
    "# #hide\n",
    "# g = g[g.group.notna()]"
   ]
  },
  {
   "cell_type": "code",
   "execution_count": 40,
   "id": "determined-closing",
   "metadata": {
    "execution": {
     "iopub.execute_input": "2022-11-14T00:43:31.022734Z",
     "iopub.status.busy": "2022-11-14T00:43:31.022059Z",
     "iopub.status.idle": "2022-11-14T00:43:31.025392Z",
     "shell.execute_reply": "2022-11-14T00:43:31.024651Z"
    },
    "papermill": {
     "duration": 0.037552,
     "end_time": "2022-11-14T00:43:31.025503",
     "exception": false,
     "start_time": "2022-11-14T00:43:30.987951",
     "status": "completed"
    },
    "tags": []
   },
   "outputs": [],
   "source": [
    "# #hide\n",
    "# colors = dict(zip(\n",
    "#     [\"Oceania\", \"Europe\", \"Asia\", \"South America\", \"Middle East\", \"North America\", \"Africa\"],\n",
    "#     [\"#adb0ff\", \"#ffb3ff\", \"#90d595\", \"#e48381\", \"#aafbff\", \"#f7bb5f\", \"#eafb50\"]\n",
    "# ))\n",
    "# group_lk = g.set_index('name')['group'].to_dict()"
   ]
  },
  {
   "cell_type": "code",
   "execution_count": null,
   "id": "gross-drinking",
   "metadata": {
    "papermill": {
     "duration": 0.033431,
     "end_time": "2022-11-14T00:43:31.094984",
     "exception": false,
     "start_time": "2022-11-14T00:43:31.061553",
     "status": "completed"
    },
    "tags": []
   },
   "outputs": [],
   "source": []
  },
  {
   "cell_type": "code",
   "execution_count": 41,
   "id": "subject-macintosh",
   "metadata": {
    "execution": {
     "iopub.execute_input": "2022-11-14T00:43:31.163089Z",
     "iopub.status.busy": "2022-11-14T00:43:31.162379Z",
     "iopub.status.idle": "2022-11-14T00:43:31.165217Z",
     "shell.execute_reply": "2022-11-14T00:43:31.164693Z"
    },
    "papermill": {
     "duration": 0.039064,
     "end_time": "2022-11-14T00:43:31.165416",
     "exception": false,
     "start_time": "2022-11-14T00:43:31.126352",
     "status": "completed"
    },
    "tags": []
   },
   "outputs": [],
   "source": [
    "# #hide\n",
    "# fig, ax = plt.subplots(figsize=(15, 8))\n",
    "\n",
    "# def draw_barchart(current_day):\n",
    "#     dff = g[g['day'].eq(current_day)].sort_values(by='value', ascending=True).tail(10)\n",
    "#     ax.clear()\n",
    "#     ax.barh(dff['name'], dff['value'], color=[colors[group_lk[x]] for x in dff['name']])\n",
    "#     dx = dff['value'].max() / 200\n",
    "    \n",
    "#     for i, (value, name) in enumerate(zip(dff['value'], dff['name'])):\n",
    "#         ax.text(value-dx, i,     name,           size=14, weight=600, ha='right', va='bottom')\n",
    "#         ax.text(value-dx, i-.25, group_lk[name], size=10, color='#444444', ha='right', va='baseline')\n",
    "#         ax.text(value+dx, i,     f'{value:,.0f}',  size=14, ha='left',  va='center')\n",
    "#     ax.text(1, 0.4, current_day, transform=ax.transAxes, color='#777777', size=46, ha='right', weight=800)\n",
    "#     ax.text(0, 1.06, 'Population (thousands)', transform=ax.transAxes, size=12, color='#777777')\n",
    "#     ax.xaxis.set_major_formatter(ticker.StrMethodFormatter('{x:,.0f}'))\n",
    "#     ax.xaxis.set_ticks_position('top')\n",
    "#     ax.tick_params(axis='x', colors='#777777', labelsize=12)\n",
    "#     ax.set_yticks([])\n",
    "#     ax.margins(0, 0.01)\n",
    "#     ax.grid(which='major', axis='x', linestyle='-')\n",
    "#     ax.set_axisbelow(True)\n",
    "    \n",
    "#     ax.text(0, 1.15, 'Coronavirus',\n",
    "#             transform=ax.transAxes, size=24, weight=600, ha='left', va='top')\n",
    "# #     ax.text(1, 0, 'by @pratapvardhan; credit @jburnmurdoch', transform=ax.transAxes, color='#777777', ha='right',\n",
    "# #             bbox=dict(facecolor='white', alpha=0.8, edgecolor='white'))\n",
    "#     plt.box(False)"
   ]
  },
  {
   "cell_type": "code",
   "execution_count": 42,
   "id": "sexual-wages",
   "metadata": {
    "execution": {
     "iopub.execute_input": "2022-11-14T00:43:31.234028Z",
     "iopub.status.busy": "2022-11-14T00:43:31.233386Z",
     "iopub.status.idle": "2022-11-14T00:43:31.236645Z",
     "shell.execute_reply": "2022-11-14T00:43:31.235873Z"
    },
    "papermill": {
     "duration": 0.038691,
     "end_time": "2022-11-14T00:43:31.236752",
     "exception": false,
     "start_time": "2022-11-14T00:43:31.198061",
     "status": "completed"
    },
    "tags": []
   },
   "outputs": [],
   "source": [
    "# #hide_input\n",
    "# fig, ax = plt.subplots(figsize=(15, 8))\n",
    "# animator = animation.FuncAnimation(fig, draw_barchart, frames=range(g.day.values.min(), g.day.values.max()))\n",
    "# HTML(animator.to_jshtml())\n",
    "# # or use animator.to_html5_video() or animator.save() "
   ]
  },
  {
   "cell_type": "code",
   "execution_count": null,
   "id": "australian-container",
   "metadata": {
    "papermill": {
     "duration": 0.032227,
     "end_time": "2022-11-14T00:43:31.301748",
     "exception": false,
     "start_time": "2022-11-14T00:43:31.269521",
     "status": "completed"
    },
    "tags": []
   },
   "outputs": [],
   "source": []
  },
  {
   "cell_type": "code",
   "execution_count": null,
   "id": "mediterranean-pontiac",
   "metadata": {
    "papermill": {
     "duration": 0.033533,
     "end_time": "2022-11-14T00:43:31.366726",
     "exception": false,
     "start_time": "2022-11-14T00:43:31.333193",
     "status": "completed"
    },
    "tags": []
   },
   "outputs": [],
   "source": []
  },
  {
   "cell_type": "code",
   "execution_count": null,
   "id": "aging-legislature",
   "metadata": {
    "papermill": {
     "duration": 0.031112,
     "end_time": "2022-11-14T00:43:31.429208",
     "exception": false,
     "start_time": "2022-11-14T00:43:31.398096",
     "status": "completed"
    },
    "tags": []
   },
   "outputs": [],
   "source": []
  }
 ],
 "metadata": {
  "kernelspec": {
   "display_name": "Python 3",
   "language": "python",
   "name": "python3"
  },
  "language_info": {
   "codemirror_mode": {
    "name": "ipython",
    "version": 3
   },
   "file_extension": ".py",
   "mimetype": "text/x-python",
   "name": "python",
   "nbconvert_exporter": "python",
   "pygments_lexer": "ipython3",
   "version": "3.6.15"
  },
  "papermill": {
   "duration": 6.531112,
   "end_time": "2022-11-14T00:43:31.781463",
   "environment_variables": {},
   "exception": null,
   "input_path": "2020-03-21-covid19exp.ipynb",
   "output_path": "2020-03-21-covid19exp.ipynb",
   "parameters": {},
   "start_time": "2022-11-14T00:43:25.250351",
   "version": "2.0.0"
  }
 },
 "nbformat": 4,
 "nbformat_minor": 5
}