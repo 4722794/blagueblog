{
 "cells": [
  {
   "cell_type": "markdown",
   "id": "muslim-click",
   "metadata": {
    "papermill": {
     "duration": 0.038508,
     "end_time": "2021-03-02T00:09:54.108188",
     "exception": false,
     "start_time": "2021-03-02T00:09:54.069680",
     "status": "completed"
    },
    "tags": []
   },
   "source": [
    "# COVID-19 Case Race\n",
    "> A race chart to see rising cases around the world\n",
    "\n",
    "- author: Hargun Oberoi\n",
    "- image: images/covid-overview.png\n",
    "- hide: false\n",
    "- badges: false"
   ]
  },
  {
   "cell_type": "code",
   "execution_count": 1,
   "id": "proof-material",
   "metadata": {
    "execution": {
     "iopub.execute_input": "2021-03-02T00:09:54.191420Z",
     "iopub.status.busy": "2021-03-02T00:09:54.190754Z",
     "iopub.status.idle": "2021-03-02T00:09:54.525655Z",
     "shell.execute_reply": "2021-03-02T00:09:54.526486Z"
    },
    "papermill": {
     "duration": 0.380486,
     "end_time": "2021-03-02T00:09:54.526932",
     "exception": false,
     "start_time": "2021-03-02T00:09:54.146446",
     "status": "completed"
    },
    "tags": []
   },
   "outputs": [],
   "source": [
    "#hide\n",
    "import numpy as np\n",
    "import pandas as pd\n",
    "from jinja2 import Template\n",
    "from IPython.display import HTML"
   ]
  },
  {
   "cell_type": "code",
   "execution_count": 2,
   "id": "developed-terminology",
   "metadata": {
    "execution": {
     "iopub.execute_input": "2021-03-02T00:09:54.604253Z",
     "iopub.status.busy": "2021-03-02T00:09:54.603151Z",
     "iopub.status.idle": "2021-03-02T00:09:54.605362Z",
     "shell.execute_reply": "2021-03-02T00:09:54.606170Z"
    },
    "papermill": {
     "duration": 0.043836,
     "end_time": "2021-03-02T00:09:54.606394",
     "exception": false,
     "start_time": "2021-03-02T00:09:54.562558",
     "status": "completed"
    },
    "tags": []
   },
   "outputs": [],
   "source": [
    "#hide\n",
    "\n",
    "# FETCH\n",
    "base_url = 'https://raw.githubusercontent.com/pratapvardhan/notebooks/master/covid19/'\n",
    "paths = {\n",
    "    'mapping': base_url + 'mapping_countries.csv',\n",
    "    'overview': base_url + 'overview.tpl'\n",
    "}"
   ]
  },
  {
   "cell_type": "code",
   "execution_count": 3,
   "id": "dynamic-saver",
   "metadata": {
    "execution": {
     "iopub.execute_input": "2021-03-02T00:09:54.684062Z",
     "iopub.status.busy": "2021-03-02T00:09:54.683467Z",
     "iopub.status.idle": "2021-03-02T00:09:54.686658Z",
     "shell.execute_reply": "2021-03-02T00:09:54.686154Z"
    },
    "papermill": {
     "duration": 0.046161,
     "end_time": "2021-03-02T00:09:54.686799",
     "exception": false,
     "start_time": "2021-03-02T00:09:54.640638",
     "status": "completed"
    },
    "tags": []
   },
   "outputs": [
    {
     "data": {
      "text/plain": [
       "'https://raw.githubusercontent.com/pratapvardhan/notebooks/master/covid19/mapping_countries.csv'"
      ]
     },
     "execution_count": 3,
     "metadata": {},
     "output_type": "execute_result"
    }
   ],
   "source": [
    "#hide\n",
    "paths['mapping']"
   ]
  },
  {
   "cell_type": "code",
   "execution_count": 4,
   "id": "urban-software",
   "metadata": {
    "execution": {
     "iopub.execute_input": "2021-03-02T00:09:54.759071Z",
     "iopub.status.busy": "2021-03-02T00:09:54.758440Z",
     "iopub.status.idle": "2021-03-02T00:09:54.760184Z",
     "shell.execute_reply": "2021-03-02T00:09:54.760741Z"
    },
    "papermill": {
     "duration": 0.040761,
     "end_time": "2021-03-02T00:09:54.760881",
     "exception": false,
     "start_time": "2021-03-02T00:09:54.720120",
     "status": "completed"
    },
    "tags": []
   },
   "outputs": [],
   "source": [
    "#hide\n",
    "def get_mappings(url):\n",
    "    df = pd.read_csv(url)\n",
    "    return {\n",
    "        'df': df,\n",
    "        'replace.country': dict(df.dropna(subset=['Name']).set_index('Country')['Name']),\n",
    "        'map.continent': dict(df.set_index('Name')['Continent'])\n",
    "    }"
   ]
  },
  {
   "cell_type": "code",
   "execution_count": 5,
   "id": "intimate-machinery",
   "metadata": {
    "execution": {
     "iopub.execute_input": "2021-03-02T00:09:54.833625Z",
     "iopub.status.busy": "2021-03-02T00:09:54.833004Z",
     "iopub.status.idle": "2021-03-02T00:09:54.865977Z",
     "shell.execute_reply": "2021-03-02T00:09:54.864861Z"
    },
    "papermill": {
     "duration": 0.07175,
     "end_time": "2021-03-02T00:09:54.866114",
     "exception": false,
     "start_time": "2021-03-02T00:09:54.794364",
     "status": "completed"
    },
    "tags": []
   },
   "outputs": [],
   "source": [
    "#hide\n",
    "mapping = get_mappings(paths['mapping'])"
   ]
  },
  {
   "cell_type": "code",
   "execution_count": 6,
   "id": "certified-tactics",
   "metadata": {
    "execution": {
     "iopub.execute_input": "2021-03-02T00:09:54.939548Z",
     "iopub.status.busy": "2021-03-02T00:09:54.938928Z",
     "iopub.status.idle": "2021-03-02T00:09:54.940827Z",
     "shell.execute_reply": "2021-03-02T00:09:54.941296Z"
    },
    "papermill": {
     "duration": 0.041415,
     "end_time": "2021-03-02T00:09:54.941439",
     "exception": false,
     "start_time": "2021-03-02T00:09:54.900024",
     "status": "completed"
    },
    "tags": []
   },
   "outputs": [],
   "source": [
    "#hide\n",
    "def get_template(path):\n",
    "    from urllib.parse import urlparse\n",
    "    if bool(urlparse(path).netloc):\n",
    "        from urllib.request import urlopen\n",
    "        return urlopen(path).read().decode('utf8')\n",
    "    return open(path).read()"
   ]
  },
  {
   "cell_type": "code",
   "execution_count": 7,
   "id": "realistic-blast",
   "metadata": {
    "execution": {
     "iopub.execute_input": "2021-03-02T00:09:55.014556Z",
     "iopub.status.busy": "2021-03-02T00:09:55.013955Z",
     "iopub.status.idle": "2021-03-02T00:09:55.016290Z",
     "shell.execute_reply": "2021-03-02T00:09:55.015789Z"
    },
    "papermill": {
     "duration": 0.041517,
     "end_time": "2021-03-02T00:09:55.016410",
     "exception": false,
     "start_time": "2021-03-02T00:09:54.974893",
     "status": "completed"
    },
    "tags": []
   },
   "outputs": [],
   "source": [
    "#hide\n",
    "def get_frame(name):\n",
    "    url = (\n",
    "        'https://raw.githubusercontent.com/CSSEGISandData/COVID-19/master/csse_covid_19_data/'\n",
    "        f'csse_covid_19_time_series/time_series_covid19_{name}_global.csv')\n",
    "    df = pd.read_csv(url)\n",
    "    # rename countries\n",
    "    df['Country/Region'] = df['Country/Region'].replace(mapping['replace.country'])\n",
    "    return df"
   ]
  },
  {
   "cell_type": "code",
   "execution_count": 8,
   "id": "affiliated-characterization",
   "metadata": {
    "execution": {
     "iopub.execute_input": "2021-03-02T00:09:55.089742Z",
     "iopub.status.busy": "2021-03-02T00:09:55.089145Z",
     "iopub.status.idle": "2021-03-02T00:09:55.091196Z",
     "shell.execute_reply": "2021-03-02T00:09:55.091706Z"
    },
    "papermill": {
     "duration": 0.041822,
     "end_time": "2021-03-02T00:09:55.091847",
     "exception": false,
     "start_time": "2021-03-02T00:09:55.050025",
     "status": "completed"
    },
    "tags": []
   },
   "outputs": [],
   "source": [
    "#hide\n",
    "def get_dates(df):\n",
    "    dt_cols = df.columns[~df.columns.isin(['Province/State', 'Country/Region', 'Lat', 'Long'])]\n",
    "    LAST_DATE_I = -1\n",
    "    # sometimes last column may be empty, then go backwards\n",
    "    for i in range(-1, -len(dt_cols), -1):\n",
    "        if not df[dt_cols[i]].fillna(0).eq(0).all():\n",
    "            LAST_DATE_I = i\n",
    "            break\n",
    "    return LAST_DATE_I, dt_cols"
   ]
  },
  {
   "cell_type": "code",
   "execution_count": 9,
   "id": "recent-optimization",
   "metadata": {
    "execution": {
     "iopub.execute_input": "2021-03-02T00:09:55.162508Z",
     "iopub.status.busy": "2021-03-02T00:09:55.161519Z",
     "iopub.status.idle": "2021-03-02T00:09:55.429078Z",
     "shell.execute_reply": "2021-03-02T00:09:55.428464Z"
    },
    "papermill": {
     "duration": 0.304597,
     "end_time": "2021-03-02T00:09:55.429210",
     "exception": false,
     "start_time": "2021-03-02T00:09:55.124613",
     "status": "completed"
    },
    "tags": []
   },
   "outputs": [],
   "source": [
    "#hide\n",
    "COL_REGION = 'Country/Region'\n",
    "# Confirmed, Recovered, Deaths\n",
    "df = get_frame('confirmed')\n",
    "# dft_: timeseries, dfc_: today country agg\n",
    "dft_cases = df\n",
    "dft_deaths = get_frame('deaths')\n",
    "dft_recovered = get_frame('recovered')\n",
    "LAST_DATE_I, dt_cols = get_dates(df)"
   ]
  },
  {
   "cell_type": "code",
   "execution_count": 10,
   "id": "absolute-copper",
   "metadata": {
    "execution": {
     "iopub.execute_input": "2021-03-02T00:09:55.503216Z",
     "iopub.status.busy": "2021-03-02T00:09:55.502532Z",
     "iopub.status.idle": "2021-03-02T00:09:55.505088Z",
     "shell.execute_reply": "2021-03-02T00:09:55.504586Z"
    },
    "papermill": {
     "duration": 0.042794,
     "end_time": "2021-03-02T00:09:55.505210",
     "exception": false,
     "start_time": "2021-03-02T00:09:55.462416",
     "status": "completed"
    },
    "tags": []
   },
   "outputs": [],
   "source": [
    "#hide\n",
    "LAST_DATE_I, dt_cols = get_dates(df)\n",
    "dt_today =dt_cols[LAST_DATE_I]\n",
    "# dt_5day = dt_cols[LAST_DATE_I - 5]\n",
    "dt_yday = dt_cols[LAST_DATE_I - 1]"
   ]
  },
  {
   "cell_type": "code",
   "execution_count": 11,
   "id": "restricted-sheriff",
   "metadata": {
    "execution": {
     "iopub.execute_input": "2021-03-02T00:09:55.581832Z",
     "iopub.status.busy": "2021-03-02T00:09:55.581251Z",
     "iopub.status.idle": "2021-03-02T00:09:55.589558Z",
     "shell.execute_reply": "2021-03-02T00:09:55.589048Z"
    },
    "papermill": {
     "duration": 0.048249,
     "end_time": "2021-03-02T00:09:55.589690",
     "exception": false,
     "start_time": "2021-03-02T00:09:55.541441",
     "status": "completed"
    },
    "tags": []
   },
   "outputs": [],
   "source": [
    "#hide\n",
    "dfc_cases = dft_cases.groupby(COL_REGION)[dt_today].sum()\n",
    "dfc_deaths = dft_deaths.groupby(COL_REGION)[dt_today].sum()\n",
    "# dfp_cases = dft_cases.groupby(COL_REGION)[dt_5day].sum()\n",
    "# dfp_deaths = dft_deaths.groupby(COL_REGION)[dt_5day].sum()\n",
    "dfp_cases = dft_cases.groupby(COL_REGION)[dt_yday].sum()\n",
    "dfp_deaths = dft_deaths.groupby(COL_REGION)[dt_yday].sum()"
   ]
  },
  {
   "cell_type": "code",
   "execution_count": 12,
   "id": "deluxe-hepatitis",
   "metadata": {
    "execution": {
     "iopub.execute_input": "2021-03-02T00:09:55.665476Z",
     "iopub.status.busy": "2021-03-02T00:09:55.664624Z",
     "iopub.status.idle": "2021-03-02T00:09:55.669051Z",
     "shell.execute_reply": "2021-03-02T00:09:55.668582Z"
    },
    "papermill": {
     "duration": 0.046779,
     "end_time": "2021-03-02T00:09:55.669161",
     "exception": false,
     "start_time": "2021-03-02T00:09:55.622382",
     "status": "completed"
    },
    "tags": []
   },
   "outputs": [],
   "source": [
    "#hide\n",
    "df_table = (pd.DataFrame(dict(Cases = dfc_cases, Deaths = dfc_deaths, PCases = dfp_cases, PDeaths = dfp_deaths))\n",
    "            .sort_values(by = ['Cases','Deaths'], ascending = [False, False])\n",
    "            .reset_index())"
   ]
  },
  {
   "cell_type": "code",
   "execution_count": 13,
   "id": "educational-chancellor",
   "metadata": {
    "execution": {
     "iopub.execute_input": "2021-03-02T00:09:55.753042Z",
     "iopub.status.busy": "2021-03-02T00:09:55.751006Z",
     "iopub.status.idle": "2021-03-02T00:09:55.763458Z",
     "shell.execute_reply": "2021-03-02T00:09:55.762949Z"
    },
    "papermill": {
     "duration": 0.061977,
     "end_time": "2021-03-02T00:09:55.763581",
     "exception": false,
     "start_time": "2021-03-02T00:09:55.701604",
     "status": "completed"
    },
    "tags": []
   },
   "outputs": [
    {
     "data": {
      "text/html": [
       "<div>\n",
       "<style scoped>\n",
       "    .dataframe tbody tr th:only-of-type {\n",
       "        vertical-align: middle;\n",
       "    }\n",
       "\n",
       "    .dataframe tbody tr th {\n",
       "        vertical-align: top;\n",
       "    }\n",
       "\n",
       "    .dataframe thead th {\n",
       "        text-align: right;\n",
       "    }\n",
       "</style>\n",
       "<table border=\"1\" class=\"dataframe\">\n",
       "  <thead>\n",
       "    <tr style=\"text-align: right;\">\n",
       "      <th></th>\n",
       "      <th>Country/Region</th>\n",
       "      <th>Cases</th>\n",
       "      <th>Deaths</th>\n",
       "      <th>PCases</th>\n",
       "      <th>PDeaths</th>\n",
       "      <th>Cases (+)</th>\n",
       "      <th>Deaths (+)</th>\n",
       "      <th>Fatality Rate</th>\n",
       "      <th>Continent</th>\n",
       "    </tr>\n",
       "  </thead>\n",
       "  <tbody>\n",
       "    <tr>\n",
       "      <th>0</th>\n",
       "      <td>US</td>\n",
       "      <td>28605669</td>\n",
       "      <td>513091</td>\n",
       "      <td>28554465</td>\n",
       "      <td>511994</td>\n",
       "      <td>51204</td>\n",
       "      <td>1097</td>\n",
       "      <td>1.79</td>\n",
       "      <td>North America</td>\n",
       "    </tr>\n",
       "    <tr>\n",
       "      <th>1</th>\n",
       "      <td>India</td>\n",
       "      <td>11112241</td>\n",
       "      <td>157157</td>\n",
       "      <td>11096731</td>\n",
       "      <td>157051</td>\n",
       "      <td>15510</td>\n",
       "      <td>106</td>\n",
       "      <td>1.41</td>\n",
       "      <td>Asia</td>\n",
       "    </tr>\n",
       "    <tr>\n",
       "      <th>2</th>\n",
       "      <td>Brazil</td>\n",
       "      <td>10551259</td>\n",
       "      <td>254942</td>\n",
       "      <td>10517232</td>\n",
       "      <td>254221</td>\n",
       "      <td>34027</td>\n",
       "      <td>721</td>\n",
       "      <td>2.42</td>\n",
       "      <td>South America</td>\n",
       "    </tr>\n",
       "    <tr>\n",
       "      <th>3</th>\n",
       "      <td>Russia</td>\n",
       "      <td>4198400</td>\n",
       "      <td>84700</td>\n",
       "      <td>4187166</td>\n",
       "      <td>84330</td>\n",
       "      <td>11234</td>\n",
       "      <td>370</td>\n",
       "      <td>2.02</td>\n",
       "      <td>Europe</td>\n",
       "    </tr>\n",
       "    <tr>\n",
       "      <th>4</th>\n",
       "      <td>United Kingdom</td>\n",
       "      <td>4188827</td>\n",
       "      <td>123083</td>\n",
       "      <td>4182772</td>\n",
       "      <td>122939</td>\n",
       "      <td>6055</td>\n",
       "      <td>144</td>\n",
       "      <td>2.94</td>\n",
       "      <td>Europe</td>\n",
       "    </tr>\n",
       "  </tbody>\n",
       "</table>\n",
       "</div>"
      ],
      "text/plain": [
       "   Country/Region     Cases  Deaths    PCases  PDeaths  Cases (+)  Deaths (+)  \\\n",
       "0              US  28605669  513091  28554465   511994      51204        1097   \n",
       "1           India  11112241  157157  11096731   157051      15510         106   \n",
       "2          Brazil  10551259  254942  10517232   254221      34027         721   \n",
       "3          Russia   4198400   84700   4187166    84330      11234         370   \n",
       "4  United Kingdom   4188827  123083   4182772   122939       6055         144   \n",
       "\n",
       "   Fatality Rate      Continent  \n",
       "0           1.79  North America  \n",
       "1           1.41           Asia  \n",
       "2           2.42  South America  \n",
       "3           2.02         Europe  \n",
       "4           2.94         Europe  "
      ]
     },
     "execution_count": 13,
     "metadata": {},
     "output_type": "execute_result"
    }
   ],
   "source": [
    "#hide\n",
    "for c in 'Cases, Deaths'.split(', '):\n",
    "    df_table[f'{c} (+)'] = (df_table[c] - df_table[f'P{c}']).clip(0)\n",
    "    #Clip ça veut dire, les chiffres negatif sont interdit\n",
    "df_table['Fatality Rate'] = (100* df_table['Deaths']/ df_table['Cases']).round(2)\n",
    "df_table['Continent'] = df_table['Country/Region'].map(mapping['map.continent'])\n",
    "df_table.head(5)"
   ]
  },
  {
   "cell_type": "code",
   "execution_count": 14,
   "id": "aboriginal-bulgaria",
   "metadata": {
    "execution": {
     "iopub.execute_input": "2021-03-02T00:09:55.837500Z",
     "iopub.status.busy": "2021-03-02T00:09:55.836954Z",
     "iopub.status.idle": "2021-03-02T00:09:55.839408Z",
     "shell.execute_reply": "2021-03-02T00:09:55.838879Z"
    },
    "papermill": {
     "duration": 0.042001,
     "end_time": "2021-03-02T00:09:55.839524",
     "exception": false,
     "start_time": "2021-03-02T00:09:55.797523",
     "status": "completed"
    },
    "tags": []
   },
   "outputs": [],
   "source": [
    "#hide\n",
    "#delete problematic countries from table\n",
    "df_table = df_table[~df_table['Country/Region'].isin(['Cape Verde', 'Cruise Ship', 'Kosovo'])]"
   ]
  },
  {
   "cell_type": "code",
   "execution_count": 15,
   "id": "fantastic-effect",
   "metadata": {
    "execution": {
     "iopub.execute_input": "2021-03-02T00:09:55.918560Z",
     "iopub.status.busy": "2021-03-02T00:09:55.917967Z",
     "iopub.status.idle": "2021-03-02T00:09:55.936721Z",
     "shell.execute_reply": "2021-03-02T00:09:55.936256Z"
    },
    "papermill": {
     "duration": 0.063123,
     "end_time": "2021-03-02T00:09:55.936833",
     "exception": false,
     "start_time": "2021-03-02T00:09:55.873710",
     "status": "completed"
    },
    "tags": []
   },
   "outputs": [
    {
     "data": {
      "text/html": [
       "<div>\n",
       "<style scoped>\n",
       "    .dataframe tbody tr th:only-of-type {\n",
       "        vertical-align: middle;\n",
       "    }\n",
       "\n",
       "    .dataframe tbody tr th {\n",
       "        vertical-align: top;\n",
       "    }\n",
       "\n",
       "    .dataframe thead th {\n",
       "        text-align: right;\n",
       "    }\n",
       "</style>\n",
       "<table border=\"1\" class=\"dataframe\">\n",
       "  <thead>\n",
       "    <tr style=\"text-align: right;\">\n",
       "      <th></th>\n",
       "      <th>Country/Region</th>\n",
       "      <th>Cases</th>\n",
       "      <th>Deaths</th>\n",
       "      <th>PCases</th>\n",
       "      <th>PDeaths</th>\n",
       "      <th>Cases (+)</th>\n",
       "      <th>Deaths (+)</th>\n",
       "      <th>Fatality Rate</th>\n",
       "      <th>Continent</th>\n",
       "    </tr>\n",
       "  </thead>\n",
       "  <tbody>\n",
       "    <tr>\n",
       "      <th>0</th>\n",
       "      <td>US</td>\n",
       "      <td>28605669</td>\n",
       "      <td>513091</td>\n",
       "      <td>28554465</td>\n",
       "      <td>511994</td>\n",
       "      <td>51204</td>\n",
       "      <td>1097</td>\n",
       "      <td>1.8</td>\n",
       "      <td>North America</td>\n",
       "    </tr>\n",
       "    <tr>\n",
       "      <th>1</th>\n",
       "      <td>India</td>\n",
       "      <td>11112241</td>\n",
       "      <td>157157</td>\n",
       "      <td>11096731</td>\n",
       "      <td>157051</td>\n",
       "      <td>15510</td>\n",
       "      <td>106</td>\n",
       "      <td>1.4</td>\n",
       "      <td>Asia</td>\n",
       "    </tr>\n",
       "    <tr>\n",
       "      <th>2</th>\n",
       "      <td>Brazil</td>\n",
       "      <td>10551259</td>\n",
       "      <td>254942</td>\n",
       "      <td>10517232</td>\n",
       "      <td>254221</td>\n",
       "      <td>34027</td>\n",
       "      <td>721</td>\n",
       "      <td>2.4</td>\n",
       "      <td>South America</td>\n",
       "    </tr>\n",
       "    <tr>\n",
       "      <th>3</th>\n",
       "      <td>Russia</td>\n",
       "      <td>4198400</td>\n",
       "      <td>84700</td>\n",
       "      <td>4187166</td>\n",
       "      <td>84330</td>\n",
       "      <td>11234</td>\n",
       "      <td>370</td>\n",
       "      <td>2.0</td>\n",
       "      <td>Europe</td>\n",
       "    </tr>\n",
       "    <tr>\n",
       "      <th>4</th>\n",
       "      <td>United Kingdom</td>\n",
       "      <td>4188827</td>\n",
       "      <td>123083</td>\n",
       "      <td>4182772</td>\n",
       "      <td>122939</td>\n",
       "      <td>6055</td>\n",
       "      <td>144</td>\n",
       "      <td>2.9</td>\n",
       "      <td>Europe</td>\n",
       "    </tr>\n",
       "  </tbody>\n",
       "</table>\n",
       "</div>"
      ],
      "text/plain": [
       "   Country/Region     Cases  Deaths    PCases  PDeaths  Cases (+)  Deaths (+)  \\\n",
       "0              US  28605669  513091  28554465   511994      51204        1097   \n",
       "1           India  11112241  157157  11096731   157051      15510         106   \n",
       "2          Brazil  10551259  254942  10517232   254221      34027         721   \n",
       "3          Russia   4198400   84700   4187166    84330      11234         370   \n",
       "4  United Kingdom   4188827  123083   4182772   122939       6055         144   \n",
       "\n",
       "   Fatality Rate      Continent  \n",
       "0            1.8  North America  \n",
       "1            1.4           Asia  \n",
       "2            2.4  South America  \n",
       "3            2.0         Europe  \n",
       "4            2.9         Europe  "
      ]
     },
     "execution_count": 15,
     "metadata": {},
     "output_type": "execute_result"
    }
   ],
   "source": [
    "#hide\n",
    "df_table = (pd.DataFrame(dict(Cases=dfc_cases, Deaths=dfc_deaths, PCases=dfp_cases, PDeaths=dfp_deaths))\n",
    "             .sort_values(by=['Cases', 'Deaths'], ascending=[False, False])\n",
    "             .reset_index())\n",
    "df_table.rename(columns={'index': 'Country/Region'}, inplace=True)\n",
    "for c in 'Cases, Deaths'.split(', '):\n",
    "    df_table[f'{c} (+)'] = (df_table[c] - df_table[f'P{c}']).clip(0)  # DATA BUG\n",
    "df_table['Fatality Rate'] = (100 * df_table['Deaths'] / df_table['Cases']).round(1)\n",
    "df_table['Continent'] = df_table['Country/Region'].map(mapping['map.continent'])\n",
    "df_table.head(5)"
   ]
  },
  {
   "cell_type": "code",
   "execution_count": 16,
   "id": "fewer-occasion",
   "metadata": {
    "execution": {
     "iopub.execute_input": "2021-03-02T00:09:56.015671Z",
     "iopub.status.busy": "2021-03-02T00:09:56.015093Z",
     "iopub.status.idle": "2021-03-02T00:09:56.018207Z",
     "shell.execute_reply": "2021-03-02T00:09:56.017615Z"
    },
    "papermill": {
     "duration": 0.045742,
     "end_time": "2021-03-02T00:09:56.018329",
     "exception": false,
     "start_time": "2021-03-02T00:09:55.972587",
     "status": "completed"
    },
    "tags": []
   },
   "outputs": [],
   "source": [
    "#hide\n",
    "#delete problematic countries from table\n",
    "df_table = df_table[~df_table['Country/Region'].isin(['Cape Verde', 'Cruise Ship', 'Kosovo'])]"
   ]
  },
  {
   "cell_type": "code",
   "execution_count": 17,
   "id": "related-center",
   "metadata": {
    "execution": {
     "iopub.execute_input": "2021-03-02T00:09:56.105061Z",
     "iopub.status.busy": "2021-03-02T00:09:56.104334Z",
     "iopub.status.idle": "2021-03-02T00:09:56.114492Z",
     "shell.execute_reply": "2021-03-02T00:09:56.114982Z"
    },
    "papermill": {
     "duration": 0.062465,
     "end_time": "2021-03-02T00:09:56.115129",
     "exception": false,
     "start_time": "2021-03-02T00:09:56.052664",
     "status": "completed"
    },
    "tags": []
   },
   "outputs": [],
   "source": [
    "#hide\n",
    "metrics = [df_table.columns[index] for index in [1,2,5,6]]\n",
    "# s_china = df_table[df_table['Country/Region'].eq('China')][metrics].sum().add_prefix('China ')\n",
    "s_us = df_table[df_table['Country/Region'].eq('US')][metrics].sum().add_prefix('US ')\n",
    "s_eu = df_table[df_table['Continent'].eq('Europe')][metrics].sum().add_prefix('EU ')\n",
    "s_ind = df_table[df_table['Country/Region'].eq('India')][metrics].sum().add_prefix('India ')\n",
    "summary = {'updated': pd.to_datetime(dt_today), 'since': pd.to_datetime(dt_yday)}\n",
    "summary = {'updated': pd.to_datetime(dt_today), 'since': pd.to_datetime(dt_yday)}\n",
    "summary = {**summary, **df_table[metrics].sum(), **s_ind, **s_us, **s_eu}"
   ]
  },
  {
   "cell_type": "code",
   "execution_count": 18,
   "id": "engaging-syndrome",
   "metadata": {
    "execution": {
     "iopub.execute_input": "2021-03-02T00:09:56.188630Z",
     "iopub.status.busy": "2021-03-02T00:09:56.188020Z",
     "iopub.status.idle": "2021-03-02T00:09:56.200138Z",
     "shell.execute_reply": "2021-03-02T00:09:56.200590Z"
    },
    "papermill": {
     "duration": 0.051736,
     "end_time": "2021-03-02T00:09:56.200749",
     "exception": false,
     "start_time": "2021-03-02T00:09:56.149013",
     "status": "completed"
    },
    "tags": []
   },
   "outputs": [],
   "source": [
    "#hide\n",
    "dft_ct_new_cases = dft_cases.groupby(COL_REGION)[dt_cols].sum().diff(axis=1).fillna(0).astype(int)"
   ]
  },
  {
   "cell_type": "code",
   "execution_count": 19,
   "id": "neutral-assignment",
   "metadata": {
    "execution": {
     "iopub.execute_input": "2021-03-02T00:09:56.275664Z",
     "iopub.status.busy": "2021-03-02T00:09:56.275069Z",
     "iopub.status.idle": "2021-03-02T00:09:56.277292Z",
     "shell.execute_reply": "2021-03-02T00:09:56.276794Z"
    },
    "papermill": {
     "duration": 0.042339,
     "end_time": "2021-03-02T00:09:56.277411",
     "exception": false,
     "start_time": "2021-03-02T00:09:56.235072",
     "status": "completed"
    },
    "tags": []
   },
   "outputs": [],
   "source": [
    "#hide\n",
    "everydaycases = dft_ct_new_cases.cumsum(axis=1)"
   ]
  },
  {
   "cell_type": "code",
   "execution_count": 20,
   "id": "parliamentary-calgary",
   "metadata": {
    "execution": {
     "iopub.execute_input": "2021-03-02T00:09:56.350594Z",
     "iopub.status.busy": "2021-03-02T00:09:56.350010Z",
     "iopub.status.idle": "2021-03-02T00:09:58.337010Z",
     "shell.execute_reply": "2021-03-02T00:09:58.336443Z"
    },
    "papermill": {
     "duration": 2.025602,
     "end_time": "2021-03-02T00:09:58.337139",
     "exception": false,
     "start_time": "2021-03-02T00:09:56.311537",
     "status": "completed"
    },
    "tags": []
   },
   "outputs": [],
   "source": [
    "#hide\n",
    "import pandas as pd\n",
    "import matplotlib.pyplot as plt\n",
    "import matplotlib.ticker as ticker\n",
    "import matplotlib.animation as animation\n",
    "from IPython.display import HTML"
   ]
  },
  {
   "cell_type": "code",
   "execution_count": 21,
   "id": "lasting-extraction",
   "metadata": {
    "execution": {
     "iopub.execute_input": "2021-03-02T00:09:58.412768Z",
     "iopub.status.busy": "2021-03-02T00:09:58.410819Z",
     "iopub.status.idle": "2021-03-02T00:09:58.418200Z",
     "shell.execute_reply": "2021-03-02T00:09:58.418702Z"
    },
    "papermill": {
     "duration": 0.047958,
     "end_time": "2021-03-02T00:09:58.418873",
     "exception": false,
     "start_time": "2021-03-02T00:09:58.370915",
     "status": "completed"
    },
    "tags": []
   },
   "outputs": [],
   "source": [
    "#hide\n",
    "t = everydaycases.stack()"
   ]
  },
  {
   "cell_type": "code",
   "execution_count": 22,
   "id": "premier-sleeve",
   "metadata": {
    "execution": {
     "iopub.execute_input": "2021-03-02T00:09:58.489888Z",
     "iopub.status.busy": "2021-03-02T00:09:58.489276Z",
     "iopub.status.idle": "2021-03-02T00:09:58.497581Z",
     "shell.execute_reply": "2021-03-02T00:09:58.497103Z"
    },
    "papermill": {
     "duration": 0.046703,
     "end_time": "2021-03-02T00:09:58.497698",
     "exception": false,
     "start_time": "2021-03-02T00:09:58.450995",
     "status": "completed"
    },
    "tags": []
   },
   "outputs": [],
   "source": [
    "#hide\n",
    "g = t.reset_index(['Country/Region'])"
   ]
  },
  {
   "cell_type": "code",
   "execution_count": 23,
   "id": "distributed-pittsburgh",
   "metadata": {
    "execution": {
     "iopub.execute_input": "2021-03-02T00:09:58.568897Z",
     "iopub.status.busy": "2021-03-02T00:09:58.568355Z",
     "iopub.status.idle": "2021-03-02T00:09:58.571045Z",
     "shell.execute_reply": "2021-03-02T00:09:58.570516Z"
    },
    "papermill": {
     "duration": 0.039883,
     "end_time": "2021-03-02T00:09:58.571166",
     "exception": false,
     "start_time": "2021-03-02T00:09:58.531283",
     "status": "completed"
    },
    "tags": []
   },
   "outputs": [],
   "source": [
    "#hide\n",
    "g.index.name = 'date'"
   ]
  },
  {
   "cell_type": "code",
   "execution_count": 24,
   "id": "naked-donor",
   "metadata": {
    "execution": {
     "iopub.execute_input": "2021-03-02T00:09:58.642929Z",
     "iopub.status.busy": "2021-03-02T00:09:58.642299Z",
     "iopub.status.idle": "2021-03-02T00:09:58.644723Z",
     "shell.execute_reply": "2021-03-02T00:09:58.644257Z"
    },
    "papermill": {
     "duration": 0.039918,
     "end_time": "2021-03-02T00:09:58.644832",
     "exception": false,
     "start_time": "2021-03-02T00:09:58.604914",
     "status": "completed"
    },
    "tags": []
   },
   "outputs": [],
   "source": [
    "# #hide\n",
    "# g = g.reset_index(['date'])"
   ]
  },
  {
   "cell_type": "code",
   "execution_count": 25,
   "id": "incomplete-mustang",
   "metadata": {
    "execution": {
     "iopub.execute_input": "2021-03-02T00:09:58.715440Z",
     "iopub.status.busy": "2021-03-02T00:09:58.714825Z",
     "iopub.status.idle": "2021-03-02T00:09:58.717135Z",
     "shell.execute_reply": "2021-03-02T00:09:58.716629Z"
    },
    "papermill": {
     "duration": 0.039426,
     "end_time": "2021-03-02T00:09:58.717259",
     "exception": false,
     "start_time": "2021-03-02T00:09:58.677833",
     "status": "completed"
    },
    "tags": []
   },
   "outputs": [],
   "source": [
    "#hide\n",
    "# g.head()"
   ]
  },
  {
   "cell_type": "code",
   "execution_count": 26,
   "id": "specific-kruger",
   "metadata": {
    "execution": {
     "iopub.execute_input": "2021-03-02T00:09:58.789202Z",
     "iopub.status.busy": "2021-03-02T00:09:58.788662Z",
     "iopub.status.idle": "2021-03-02T00:09:58.790972Z",
     "shell.execute_reply": "2021-03-02T00:09:58.791495Z"
    },
    "papermill": {
     "duration": 0.040444,
     "end_time": "2021-03-02T00:09:58.791619",
     "exception": false,
     "start_time": "2021-03-02T00:09:58.751175",
     "status": "completed"
    },
    "tags": []
   },
   "outputs": [],
   "source": [
    "#hide\n",
    "# g.columns = ['date','country','cases']"
   ]
  },
  {
   "cell_type": "code",
   "execution_count": 27,
   "id": "tender-conversion",
   "metadata": {
    "execution": {
     "iopub.execute_input": "2021-03-02T00:09:58.861819Z",
     "iopub.status.busy": "2021-03-02T00:09:58.861220Z",
     "iopub.status.idle": "2021-03-02T00:09:58.863408Z",
     "shell.execute_reply": "2021-03-02T00:09:58.862864Z"
    },
    "papermill": {
     "duration": 0.039206,
     "end_time": "2021-03-02T00:09:58.863524",
     "exception": false,
     "start_time": "2021-03-02T00:09:58.824318",
     "status": "completed"
    },
    "tags": []
   },
   "outputs": [],
   "source": [
    "#hide\n",
    "# g['continent'] = g.country"
   ]
  },
  {
   "cell_type": "code",
   "execution_count": 28,
   "id": "substantial-wilderness",
   "metadata": {
    "execution": {
     "iopub.execute_input": "2021-03-02T00:09:59.079182Z",
     "iopub.status.busy": "2021-03-02T00:09:59.078487Z",
     "iopub.status.idle": "2021-03-02T00:09:59.080857Z",
     "shell.execute_reply": "2021-03-02T00:09:59.080360Z"
    },
    "papermill": {
     "duration": 0.046321,
     "end_time": "2021-03-02T00:09:59.080977",
     "exception": false,
     "start_time": "2021-03-02T00:09:59.034656",
     "status": "completed"
    },
    "tags": []
   },
   "outputs": [],
   "source": [
    "#hide\n",
    "# cols = list(g.columns.values)"
   ]
  },
  {
   "cell_type": "code",
   "execution_count": 29,
   "id": "solved-farming",
   "metadata": {
    "execution": {
     "iopub.execute_input": "2021-03-02T00:09:59.160282Z",
     "iopub.status.busy": "2021-03-02T00:09:59.159665Z",
     "iopub.status.idle": "2021-03-02T00:09:59.161013Z",
     "shell.execute_reply": "2021-03-02T00:09:59.161566Z"
    },
    "papermill": {
     "duration": 0.044542,
     "end_time": "2021-03-02T00:09:59.161706",
     "exception": false,
     "start_time": "2021-03-02T00:09:59.117164",
     "status": "completed"
    },
    "tags": []
   },
   "outputs": [],
   "source": [
    "#hide\n",
    "# cols.insert(0, cols.pop())"
   ]
  },
  {
   "cell_type": "code",
   "execution_count": 30,
   "id": "executed-adoption",
   "metadata": {
    "execution": {
     "iopub.execute_input": "2021-03-02T00:09:59.236212Z",
     "iopub.status.busy": "2021-03-02T00:09:59.235096Z",
     "iopub.status.idle": "2021-03-02T00:09:59.237342Z",
     "shell.execute_reply": "2021-03-02T00:09:59.238164Z"
    },
    "papermill": {
     "duration": 0.04246,
     "end_time": "2021-03-02T00:09:59.238387",
     "exception": false,
     "start_time": "2021-03-02T00:09:59.195927",
     "status": "completed"
    },
    "tags": []
   },
   "outputs": [],
   "source": [
    "#hide\n",
    "# g = g[cols]"
   ]
  },
  {
   "cell_type": "code",
   "execution_count": 31,
   "id": "subject-dublin",
   "metadata": {
    "execution": {
     "iopub.execute_input": "2021-03-02T00:09:59.310003Z",
     "iopub.status.busy": "2021-03-02T00:09:59.309171Z",
     "iopub.status.idle": "2021-03-02T00:09:59.310881Z",
     "shell.execute_reply": "2021-03-02T00:09:59.311460Z"
    },
    "papermill": {
     "duration": 0.039216,
     "end_time": "2021-03-02T00:09:59.311606",
     "exception": false,
     "start_time": "2021-03-02T00:09:59.272390",
     "status": "completed"
    },
    "tags": []
   },
   "outputs": [],
   "source": [
    "#hide\n",
    "# g['continent'] = g['continent'].map(mapping['map.continent'])"
   ]
  },
  {
   "cell_type": "code",
   "execution_count": 32,
   "id": "freelance-scout",
   "metadata": {
    "execution": {
     "iopub.execute_input": "2021-03-02T00:09:59.387768Z",
     "iopub.status.busy": "2021-03-02T00:09:59.387150Z",
     "iopub.status.idle": "2021-03-02T00:09:59.389393Z",
     "shell.execute_reply": "2021-03-02T00:09:59.388816Z"
    },
    "papermill": {
     "duration": 0.04264,
     "end_time": "2021-03-02T00:09:59.389504",
     "exception": false,
     "start_time": "2021-03-02T00:09:59.346864",
     "status": "completed"
    },
    "tags": []
   },
   "outputs": [],
   "source": [
    "#hide\n",
    "# g.head()"
   ]
  },
  {
   "cell_type": "code",
   "execution_count": 33,
   "id": "limited-engine",
   "metadata": {
    "execution": {
     "iopub.execute_input": "2021-03-02T00:09:59.461977Z",
     "iopub.status.busy": "2021-03-02T00:09:59.461383Z",
     "iopub.status.idle": "2021-03-02T00:09:59.464088Z",
     "shell.execute_reply": "2021-03-02T00:09:59.463613Z"
    },
    "papermill": {
     "duration": 0.040957,
     "end_time": "2021-03-02T00:09:59.464207",
     "exception": false,
     "start_time": "2021-03-02T00:09:59.423250",
     "status": "completed"
    },
    "tags": []
   },
   "outputs": [],
   "source": [
    "# hide\n",
    "# g['date'] = g['date'].astype('datetime64[ns]')"
   ]
  },
  {
   "cell_type": "code",
   "execution_count": 34,
   "id": "sophisticated-supervisor",
   "metadata": {
    "execution": {
     "iopub.execute_input": "2021-03-02T00:09:59.547344Z",
     "iopub.status.busy": "2021-03-02T00:09:59.546753Z",
     "iopub.status.idle": "2021-03-02T00:09:59.549206Z",
     "shell.execute_reply": "2021-03-02T00:09:59.549721Z"
    },
    "papermill": {
     "duration": 0.042207,
     "end_time": "2021-03-02T00:09:59.549857",
     "exception": false,
     "start_time": "2021-03-02T00:09:59.507650",
     "status": "completed"
    },
    "tags": []
   },
   "outputs": [],
   "source": [
    "#hide\n",
    "# g['date'] = g.date.dt.dayofyear"
   ]
  },
  {
   "cell_type": "code",
   "execution_count": 35,
   "id": "inside-dubai",
   "metadata": {
    "execution": {
     "iopub.execute_input": "2021-03-02T00:09:59.625219Z",
     "iopub.status.busy": "2021-03-02T00:09:59.624596Z",
     "iopub.status.idle": "2021-03-02T00:09:59.628192Z",
     "shell.execute_reply": "2021-03-02T00:09:59.628641Z"
    },
    "papermill": {
     "duration": 0.044993,
     "end_time": "2021-03-02T00:09:59.628783",
     "exception": false,
     "start_time": "2021-03-02T00:09:59.583790",
     "status": "completed"
    },
    "tags": []
   },
   "outputs": [],
   "source": [
    "#hide\n",
    "# g = g.rename(columns= {'continent':'group','country':'name','cases':'value'})"
   ]
  },
  {
   "cell_type": "code",
   "execution_count": 36,
   "id": "fleet-motorcycle",
   "metadata": {
    "execution": {
     "iopub.execute_input": "2021-03-02T00:09:59.700507Z",
     "iopub.status.busy": "2021-03-02T00:09:59.699924Z",
     "iopub.status.idle": "2021-03-02T00:09:59.702247Z",
     "shell.execute_reply": "2021-03-02T00:09:59.702825Z"
    },
    "papermill": {
     "duration": 0.040239,
     "end_time": "2021-03-02T00:09:59.702964",
     "exception": false,
     "start_time": "2021-03-02T00:09:59.662725",
     "status": "completed"
    },
    "tags": []
   },
   "outputs": [],
   "source": [
    "#hide\n",
    "# cols = ['name','group','day','value']"
   ]
  },
  {
   "cell_type": "code",
   "execution_count": 37,
   "id": "continued-sleeping",
   "metadata": {
    "execution": {
     "iopub.execute_input": "2021-03-02T00:09:59.774682Z",
     "iopub.status.busy": "2021-03-02T00:09:59.774084Z",
     "iopub.status.idle": "2021-03-02T00:09:59.776508Z",
     "shell.execute_reply": "2021-03-02T00:09:59.777067Z"
    },
    "papermill": {
     "duration": 0.040602,
     "end_time": "2021-03-02T00:09:59.777200",
     "exception": false,
     "start_time": "2021-03-02T00:09:59.736598",
     "status": "completed"
    },
    "tags": []
   },
   "outputs": [],
   "source": [
    "#hide\n",
    "# g.rename(columns= {'date':'day'},inplace = True)"
   ]
  },
  {
   "cell_type": "code",
   "execution_count": 38,
   "id": "major-fight",
   "metadata": {
    "execution": {
     "iopub.execute_input": "2021-03-02T00:09:59.849087Z",
     "iopub.status.busy": "2021-03-02T00:09:59.848491Z",
     "iopub.status.idle": "2021-03-02T00:09:59.850715Z",
     "shell.execute_reply": "2021-03-02T00:09:59.850221Z"
    },
    "papermill": {
     "duration": 0.040074,
     "end_time": "2021-03-02T00:09:59.850853",
     "exception": false,
     "start_time": "2021-03-02T00:09:59.810779",
     "status": "completed"
    },
    "tags": []
   },
   "outputs": [],
   "source": [
    "#hide\n",
    "# g = g[cols]"
   ]
  },
  {
   "cell_type": "code",
   "execution_count": 39,
   "id": "structured-mobile",
   "metadata": {
    "execution": {
     "iopub.execute_input": "2021-03-02T00:09:59.923134Z",
     "iopub.status.busy": "2021-03-02T00:09:59.922500Z",
     "iopub.status.idle": "2021-03-02T00:09:59.924860Z",
     "shell.execute_reply": "2021-03-02T00:09:59.925418Z"
    },
    "papermill": {
     "duration": 0.041132,
     "end_time": "2021-03-02T00:09:59.925560",
     "exception": false,
     "start_time": "2021-03-02T00:09:59.884428",
     "status": "completed"
    },
    "tags": []
   },
   "outputs": [],
   "source": [
    "# #hide\n",
    "# g = g[g.group.notna()]"
   ]
  },
  {
   "cell_type": "code",
   "execution_count": 40,
   "id": "determined-closing",
   "metadata": {
    "execution": {
     "iopub.execute_input": "2021-03-02T00:09:59.997102Z",
     "iopub.status.busy": "2021-03-02T00:09:59.996460Z",
     "iopub.status.idle": "2021-03-02T00:09:59.998884Z",
     "shell.execute_reply": "2021-03-02T00:09:59.999452Z"
    },
    "papermill": {
     "duration": 0.040816,
     "end_time": "2021-03-02T00:09:59.999594",
     "exception": false,
     "start_time": "2021-03-02T00:09:59.958778",
     "status": "completed"
    },
    "tags": []
   },
   "outputs": [],
   "source": [
    "# #hide\n",
    "# colors = dict(zip(\n",
    "#     [\"Oceania\", \"Europe\", \"Asia\", \"South America\", \"Middle East\", \"North America\", \"Africa\"],\n",
    "#     [\"#adb0ff\", \"#ffb3ff\", \"#90d595\", \"#e48381\", \"#aafbff\", \"#f7bb5f\", \"#eafb50\"]\n",
    "# ))\n",
    "# group_lk = g.set_index('name')['group'].to_dict()"
   ]
  },
  {
   "cell_type": "code",
   "execution_count": null,
   "id": "gross-drinking",
   "metadata": {
    "papermill": {
     "duration": 0.033959,
     "end_time": "2021-03-02T00:10:00.067823",
     "exception": false,
     "start_time": "2021-03-02T00:10:00.033864",
     "status": "completed"
    },
    "tags": []
   },
   "outputs": [],
   "source": []
  },
  {
   "cell_type": "code",
   "execution_count": 41,
   "id": "subject-macintosh",
   "metadata": {
    "execution": {
     "iopub.execute_input": "2021-03-02T00:10:00.141148Z",
     "iopub.status.busy": "2021-03-02T00:10:00.140570Z",
     "iopub.status.idle": "2021-03-02T00:10:00.142371Z",
     "shell.execute_reply": "2021-03-02T00:10:00.142869Z"
    },
    "papermill": {
     "duration": 0.040882,
     "end_time": "2021-03-02T00:10:00.143018",
     "exception": false,
     "start_time": "2021-03-02T00:10:00.102136",
     "status": "completed"
    },
    "tags": []
   },
   "outputs": [],
   "source": [
    "# #hide\n",
    "# fig, ax = plt.subplots(figsize=(15, 8))\n",
    "\n",
    "# def draw_barchart(current_day):\n",
    "#     dff = g[g['day'].eq(current_day)].sort_values(by='value', ascending=True).tail(10)\n",
    "#     ax.clear()\n",
    "#     ax.barh(dff['name'], dff['value'], color=[colors[group_lk[x]] for x in dff['name']])\n",
    "#     dx = dff['value'].max() / 200\n",
    "    \n",
    "#     for i, (value, name) in enumerate(zip(dff['value'], dff['name'])):\n",
    "#         ax.text(value-dx, i,     name,           size=14, weight=600, ha='right', va='bottom')\n",
    "#         ax.text(value-dx, i-.25, group_lk[name], size=10, color='#444444', ha='right', va='baseline')\n",
    "#         ax.text(value+dx, i,     f'{value:,.0f}',  size=14, ha='left',  va='center')\n",
    "#     ax.text(1, 0.4, current_day, transform=ax.transAxes, color='#777777', size=46, ha='right', weight=800)\n",
    "#     ax.text(0, 1.06, 'Population (thousands)', transform=ax.transAxes, size=12, color='#777777')\n",
    "#     ax.xaxis.set_major_formatter(ticker.StrMethodFormatter('{x:,.0f}'))\n",
    "#     ax.xaxis.set_ticks_position('top')\n",
    "#     ax.tick_params(axis='x', colors='#777777', labelsize=12)\n",
    "#     ax.set_yticks([])\n",
    "#     ax.margins(0, 0.01)\n",
    "#     ax.grid(which='major', axis='x', linestyle='-')\n",
    "#     ax.set_axisbelow(True)\n",
    "    \n",
    "#     ax.text(0, 1.15, 'Coronavirus',\n",
    "#             transform=ax.transAxes, size=24, weight=600, ha='left', va='top')\n",
    "# #     ax.text(1, 0, 'by @pratapvardhan; credit @jburnmurdoch', transform=ax.transAxes, color='#777777', ha='right',\n",
    "# #             bbox=dict(facecolor='white', alpha=0.8, edgecolor='white'))\n",
    "#     plt.box(False)"
   ]
  },
  {
   "cell_type": "code",
   "execution_count": 42,
   "id": "sexual-wages",
   "metadata": {
    "execution": {
     "iopub.execute_input": "2021-03-02T00:10:00.215280Z",
     "iopub.status.busy": "2021-03-02T00:10:00.214638Z",
     "iopub.status.idle": "2021-03-02T00:10:00.216887Z",
     "shell.execute_reply": "2021-03-02T00:10:00.216386Z"
    },
    "papermill": {
     "duration": 0.040506,
     "end_time": "2021-03-02T00:10:00.217005",
     "exception": false,
     "start_time": "2021-03-02T00:10:00.176499",
     "status": "completed"
    },
    "tags": []
   },
   "outputs": [],
   "source": [
    "# #hide_input\n",
    "# fig, ax = plt.subplots(figsize=(15, 8))\n",
    "# animator = animation.FuncAnimation(fig, draw_barchart, frames=range(g.day.values.min(), g.day.values.max()))\n",
    "# HTML(animator.to_jshtml())\n",
    "# # or use animator.to_html5_video() or animator.save() "
   ]
  },
  {
   "cell_type": "code",
   "execution_count": null,
   "id": "australian-container",
   "metadata": {
    "papermill": {
     "duration": 0.033597,
     "end_time": "2021-03-02T00:10:00.284291",
     "exception": false,
     "start_time": "2021-03-02T00:10:00.250694",
     "status": "completed"
    },
    "tags": []
   },
   "outputs": [],
   "source": []
  },
  {
   "cell_type": "code",
   "execution_count": null,
   "id": "mediterranean-pontiac",
   "metadata": {
    "papermill": {
     "duration": 0.034593,
     "end_time": "2021-03-02T00:10:00.352946",
     "exception": false,
     "start_time": "2021-03-02T00:10:00.318353",
     "status": "completed"
    },
    "tags": []
   },
   "outputs": [],
   "source": []
  },
  {
   "cell_type": "code",
   "execution_count": null,
   "id": "aging-legislature",
   "metadata": {
    "papermill": {
     "duration": 0.033772,
     "end_time": "2021-03-02T00:10:00.420157",
     "exception": false,
     "start_time": "2021-03-02T00:10:00.386385",
     "status": "completed"
    },
    "tags": []
   },
   "outputs": [],
   "source": []
  }
 ],
 "metadata": {
  "kernelspec": {
   "display_name": "Python 3",
   "language": "python",
   "name": "python3"
  },
  "language_info": {
   "codemirror_mode": {
    "name": "ipython",
    "version": 3
   },
   "file_extension": ".py",
   "mimetype": "text/x-python",
   "name": "python",
   "nbconvert_exporter": "python",
   "pygments_lexer": "ipython3",
   "version": "3.6.13"
  },
  "papermill": {
   "duration": 7.797991,
   "end_time": "2021-03-02T00:10:00.762255",
   "environment_variables": {},
   "exception": null,
   "input_path": "2020-03-21-covid19exp.ipynb",
   "output_path": "2020-03-21-covid19exp.ipynb",
   "parameters": {},
   "start_time": "2021-03-02T00:09:52.964264",
   "version": "2.0.0"
  }
 },
 "nbformat": 4,
 "nbformat_minor": 5
}