{
 "cells": [
  {
   "cell_type": "markdown",
   "id": "muslim-click",
   "metadata": {
    "papermill": {
     "duration": 0.04137,
     "end_time": "2021-06-18T12:10:10.086437",
     "exception": false,
     "start_time": "2021-06-18T12:10:10.045067",
     "status": "completed"
    },
    "tags": []
   },
   "source": [
    "# COVID-19 Case Race\n",
    "> A race chart to see rising cases around the world\n",
    "\n",
    "- author: Hargun Oberoi\n",
    "- image: images/covid-overview.png\n",
    "- hide: false\n",
    "- badges: false"
   ]
  },
  {
   "cell_type": "code",
   "execution_count": 1,
   "id": "proof-material",
   "metadata": {
    "execution": {
     "iopub.execute_input": "2021-06-18T12:10:10.170072Z",
     "iopub.status.busy": "2021-06-18T12:10:10.169458Z",
     "iopub.status.idle": "2021-06-18T12:10:10.561342Z",
     "shell.execute_reply": "2021-06-18T12:10:10.560492Z"
    },
    "papermill": {
     "duration": 0.439,
     "end_time": "2021-06-18T12:10:10.561491",
     "exception": false,
     "start_time": "2021-06-18T12:10:10.122491",
     "status": "completed"
    },
    "tags": []
   },
   "outputs": [],
   "source": [
    "#hide\n",
    "import numpy as np\n",
    "import pandas as pd\n",
    "from jinja2 import Template\n",
    "from IPython.display import HTML"
   ]
  },
  {
   "cell_type": "code",
   "execution_count": 2,
   "id": "developed-terminology",
   "metadata": {
    "execution": {
     "iopub.execute_input": "2021-06-18T12:10:10.637975Z",
     "iopub.status.busy": "2021-06-18T12:10:10.637372Z",
     "iopub.status.idle": "2021-06-18T12:10:10.639083Z",
     "shell.execute_reply": "2021-06-18T12:10:10.639626Z"
    },
    "papermill": {
     "duration": 0.043547,
     "end_time": "2021-06-18T12:10:10.639768",
     "exception": false,
     "start_time": "2021-06-18T12:10:10.596221",
     "status": "completed"
    },
    "tags": []
   },
   "outputs": [],
   "source": [
    "#hide\n",
    "\n",
    "# FETCH\n",
    "base_url = 'https://raw.githubusercontent.com/pratapvardhan/notebooks/master/covid19/'\n",
    "paths = {\n",
    "    'mapping': base_url + 'mapping_countries.csv',\n",
    "    'overview': base_url + 'overview.tpl'\n",
    "}"
   ]
  },
  {
   "cell_type": "code",
   "execution_count": 3,
   "id": "dynamic-saver",
   "metadata": {
    "execution": {
     "iopub.execute_input": "2021-06-18T12:10:10.725070Z",
     "iopub.status.busy": "2021-06-18T12:10:10.723991Z",
     "iopub.status.idle": "2021-06-18T12:10:10.727647Z",
     "shell.execute_reply": "2021-06-18T12:10:10.728190Z"
    },
    "papermill": {
     "duration": 0.053402,
     "end_time": "2021-06-18T12:10:10.728332",
     "exception": false,
     "start_time": "2021-06-18T12:10:10.674930",
     "status": "completed"
    },
    "tags": []
   },
   "outputs": [
    {
     "data": {
      "text/plain": [
       "'https://raw.githubusercontent.com/pratapvardhan/notebooks/master/covid19/mapping_countries.csv'"
      ]
     },
     "execution_count": 3,
     "metadata": {},
     "output_type": "execute_result"
    }
   ],
   "source": [
    "#hide\n",
    "paths['mapping']"
   ]
  },
  {
   "cell_type": "code",
   "execution_count": 4,
   "id": "urban-software",
   "metadata": {
    "execution": {
     "iopub.execute_input": "2021-06-18T12:10:10.804567Z",
     "iopub.status.busy": "2021-06-18T12:10:10.803962Z",
     "iopub.status.idle": "2021-06-18T12:10:10.806186Z",
     "shell.execute_reply": "2021-06-18T12:10:10.805611Z"
    },
    "papermill": {
     "duration": 0.042882,
     "end_time": "2021-06-18T12:10:10.806302",
     "exception": false,
     "start_time": "2021-06-18T12:10:10.763420",
     "status": "completed"
    },
    "tags": []
   },
   "outputs": [],
   "source": [
    "#hide\n",
    "def get_mappings(url):\n",
    "    df = pd.read_csv(url)\n",
    "    return {\n",
    "        'df': df,\n",
    "        'replace.country': dict(df.dropna(subset=['Name']).set_index('Country')['Name']),\n",
    "        'map.continent': dict(df.set_index('Name')['Continent'])\n",
    "    }"
   ]
  },
  {
   "cell_type": "code",
   "execution_count": 5,
   "id": "intimate-machinery",
   "metadata": {
    "execution": {
     "iopub.execute_input": "2021-06-18T12:10:10.883772Z",
     "iopub.status.busy": "2021-06-18T12:10:10.883180Z",
     "iopub.status.idle": "2021-06-18T12:10:10.921950Z",
     "shell.execute_reply": "2021-06-18T12:10:10.921421Z"
    },
    "papermill": {
     "duration": 0.080553,
     "end_time": "2021-06-18T12:10:10.922089",
     "exception": false,
     "start_time": "2021-06-18T12:10:10.841536",
     "status": "completed"
    },
    "tags": []
   },
   "outputs": [],
   "source": [
    "#hide\n",
    "mapping = get_mappings(paths['mapping'])"
   ]
  },
  {
   "cell_type": "code",
   "execution_count": 6,
   "id": "certified-tactics",
   "metadata": {
    "execution": {
     "iopub.execute_input": "2021-06-18T12:10:11.000467Z",
     "iopub.status.busy": "2021-06-18T12:10:10.999870Z",
     "iopub.status.idle": "2021-06-18T12:10:11.002189Z",
     "shell.execute_reply": "2021-06-18T12:10:11.002742Z"
    },
    "papermill": {
     "duration": 0.045317,
     "end_time": "2021-06-18T12:10:11.002883",
     "exception": false,
     "start_time": "2021-06-18T12:10:10.957566",
     "status": "completed"
    },
    "tags": []
   },
   "outputs": [],
   "source": [
    "#hide\n",
    "def get_template(path):\n",
    "    from urllib.parse import urlparse\n",
    "    if bool(urlparse(path).netloc):\n",
    "        from urllib.request import urlopen\n",
    "        return urlopen(path).read().decode('utf8')\n",
    "    return open(path).read()"
   ]
  },
  {
   "cell_type": "code",
   "execution_count": 7,
   "id": "realistic-blast",
   "metadata": {
    "execution": {
     "iopub.execute_input": "2021-06-18T12:10:11.080104Z",
     "iopub.status.busy": "2021-06-18T12:10:11.079513Z",
     "iopub.status.idle": "2021-06-18T12:10:11.081256Z",
     "shell.execute_reply": "2021-06-18T12:10:11.081722Z"
    },
    "papermill": {
     "duration": 0.04395,
     "end_time": "2021-06-18T12:10:11.081865",
     "exception": false,
     "start_time": "2021-06-18T12:10:11.037915",
     "status": "completed"
    },
    "tags": []
   },
   "outputs": [],
   "source": [
    "#hide\n",
    "def get_frame(name):\n",
    "    url = (\n",
    "        'https://raw.githubusercontent.com/CSSEGISandData/COVID-19/master/csse_covid_19_data/'\n",
    "        f'csse_covid_19_time_series/time_series_covid19_{name}_global.csv')\n",
    "    df = pd.read_csv(url)\n",
    "    # rename countries\n",
    "    df['Country/Region'] = df['Country/Region'].replace(mapping['replace.country'])\n",
    "    return df"
   ]
  },
  {
   "cell_type": "code",
   "execution_count": 8,
   "id": "affiliated-characterization",
   "metadata": {
    "execution": {
     "iopub.execute_input": "2021-06-18T12:10:11.159768Z",
     "iopub.status.busy": "2021-06-18T12:10:11.159173Z",
     "iopub.status.idle": "2021-06-18T12:10:11.161456Z",
     "shell.execute_reply": "2021-06-18T12:10:11.160952Z"
    },
    "papermill": {
     "duration": 0.044413,
     "end_time": "2021-06-18T12:10:11.161580",
     "exception": false,
     "start_time": "2021-06-18T12:10:11.117167",
     "status": "completed"
    },
    "tags": []
   },
   "outputs": [],
   "source": [
    "#hide\n",
    "def get_dates(df):\n",
    "    dt_cols = df.columns[~df.columns.isin(['Province/State', 'Country/Region', 'Lat', 'Long'])]\n",
    "    LAST_DATE_I = -1\n",
    "    # sometimes last column may be empty, then go backwards\n",
    "    for i in range(-1, -len(dt_cols), -1):\n",
    "        if not df[dt_cols[i]].fillna(0).eq(0).all():\n",
    "            LAST_DATE_I = i\n",
    "            break\n",
    "    return LAST_DATE_I, dt_cols"
   ]
  },
  {
   "cell_type": "code",
   "execution_count": 9,
   "id": "recent-optimization",
   "metadata": {
    "execution": {
     "iopub.execute_input": "2021-06-18T12:10:11.239124Z",
     "iopub.status.busy": "2021-06-18T12:10:11.238510Z",
     "iopub.status.idle": "2021-06-18T12:10:11.587338Z",
     "shell.execute_reply": "2021-06-18T12:10:11.586779Z"
    },
    "papermill": {
     "duration": 0.388867,
     "end_time": "2021-06-18T12:10:11.587469",
     "exception": false,
     "start_time": "2021-06-18T12:10:11.198602",
     "status": "completed"
    },
    "tags": []
   },
   "outputs": [],
   "source": [
    "#hide\n",
    "COL_REGION = 'Country/Region'\n",
    "# Confirmed, Recovered, Deaths\n",
    "df = get_frame('confirmed')\n",
    "# dft_: timeseries, dfc_: today country agg\n",
    "dft_cases = df\n",
    "dft_deaths = get_frame('deaths')\n",
    "dft_recovered = get_frame('recovered')\n",
    "LAST_DATE_I, dt_cols = get_dates(df)"
   ]
  },
  {
   "cell_type": "code",
   "execution_count": 10,
   "id": "absolute-copper",
   "metadata": {
    "execution": {
     "iopub.execute_input": "2021-06-18T12:10:11.665799Z",
     "iopub.status.busy": "2021-06-18T12:10:11.665079Z",
     "iopub.status.idle": "2021-06-18T12:10:11.666558Z",
     "shell.execute_reply": "2021-06-18T12:10:11.667047Z"
    },
    "papermill": {
     "duration": 0.044414,
     "end_time": "2021-06-18T12:10:11.667184",
     "exception": false,
     "start_time": "2021-06-18T12:10:11.622770",
     "status": "completed"
    },
    "tags": []
   },
   "outputs": [],
   "source": [
    "#hide\n",
    "LAST_DATE_I, dt_cols = get_dates(df)\n",
    "dt_today =dt_cols[LAST_DATE_I]\n",
    "# dt_5day = dt_cols[LAST_DATE_I - 5]\n",
    "dt_yday = dt_cols[LAST_DATE_I - 1]"
   ]
  },
  {
   "cell_type": "code",
   "execution_count": 11,
   "id": "restricted-sheriff",
   "metadata": {
    "execution": {
     "iopub.execute_input": "2021-06-18T12:10:11.746106Z",
     "iopub.status.busy": "2021-06-18T12:10:11.745300Z",
     "iopub.status.idle": "2021-06-18T12:10:11.753999Z",
     "shell.execute_reply": "2021-06-18T12:10:11.754544Z"
    },
    "papermill": {
     "duration": 0.052634,
     "end_time": "2021-06-18T12:10:11.754689",
     "exception": false,
     "start_time": "2021-06-18T12:10:11.702055",
     "status": "completed"
    },
    "tags": []
   },
   "outputs": [],
   "source": [
    "#hide\n",
    "dfc_cases = dft_cases.groupby(COL_REGION)[dt_today].sum()\n",
    "dfc_deaths = dft_deaths.groupby(COL_REGION)[dt_today].sum()\n",
    "# dfp_cases = dft_cases.groupby(COL_REGION)[dt_5day].sum()\n",
    "# dfp_deaths = dft_deaths.groupby(COL_REGION)[dt_5day].sum()\n",
    "dfp_cases = dft_cases.groupby(COL_REGION)[dt_yday].sum()\n",
    "dfp_deaths = dft_deaths.groupby(COL_REGION)[dt_yday].sum()"
   ]
  },
  {
   "cell_type": "code",
   "execution_count": 12,
   "id": "deluxe-hepatitis",
   "metadata": {
    "execution": {
     "iopub.execute_input": "2021-06-18T12:10:11.833526Z",
     "iopub.status.busy": "2021-06-18T12:10:11.832934Z",
     "iopub.status.idle": "2021-06-18T12:10:11.837939Z",
     "shell.execute_reply": "2021-06-18T12:10:11.837437Z"
    },
    "papermill": {
     "duration": 0.047777,
     "end_time": "2021-06-18T12:10:11.838062",
     "exception": false,
     "start_time": "2021-06-18T12:10:11.790285",
     "status": "completed"
    },
    "tags": []
   },
   "outputs": [],
   "source": [
    "#hide\n",
    "df_table = (pd.DataFrame(dict(Cases = dfc_cases, Deaths = dfc_deaths, PCases = dfp_cases, PDeaths = dfp_deaths))\n",
    "            .sort_values(by = ['Cases','Deaths'], ascending = [False, False])\n",
    "            .reset_index())"
   ]
  },
  {
   "cell_type": "code",
   "execution_count": 13,
   "id": "educational-chancellor",
   "metadata": {
    "execution": {
     "iopub.execute_input": "2021-06-18T12:10:11.929166Z",
     "iopub.status.busy": "2021-06-18T12:10:11.928510Z",
     "iopub.status.idle": "2021-06-18T12:10:11.940090Z",
     "shell.execute_reply": "2021-06-18T12:10:11.939586Z"
    },
    "papermill": {
     "duration": 0.067115,
     "end_time": "2021-06-18T12:10:11.940214",
     "exception": false,
     "start_time": "2021-06-18T12:10:11.873099",
     "status": "completed"
    },
    "tags": []
   },
   "outputs": [
    {
     "data": {
      "text/html": [
       "<div>\n",
       "<style scoped>\n",
       "    .dataframe tbody tr th:only-of-type {\n",
       "        vertical-align: middle;\n",
       "    }\n",
       "\n",
       "    .dataframe tbody tr th {\n",
       "        vertical-align: top;\n",
       "    }\n",
       "\n",
       "    .dataframe thead th {\n",
       "        text-align: right;\n",
       "    }\n",
       "</style>\n",
       "<table border=\"1\" class=\"dataframe\">\n",
       "  <thead>\n",
       "    <tr style=\"text-align: right;\">\n",
       "      <th></th>\n",
       "      <th>Country/Region</th>\n",
       "      <th>Cases</th>\n",
       "      <th>Deaths</th>\n",
       "      <th>PCases</th>\n",
       "      <th>PDeaths</th>\n",
       "      <th>Cases (+)</th>\n",
       "      <th>Deaths (+)</th>\n",
       "      <th>Fatality Rate</th>\n",
       "      <th>Continent</th>\n",
       "    </tr>\n",
       "  </thead>\n",
       "  <tbody>\n",
       "    <tr>\n",
       "      <th>0</th>\n",
       "      <td>US</td>\n",
       "      <td>33508867</td>\n",
       "      <td>600934</td>\n",
       "      <td>33498468</td>\n",
       "      <td>600653</td>\n",
       "      <td>10399</td>\n",
       "      <td>281</td>\n",
       "      <td>1.79</td>\n",
       "      <td>North America</td>\n",
       "    </tr>\n",
       "    <tr>\n",
       "      <th>1</th>\n",
       "      <td>India</td>\n",
       "      <td>29762793</td>\n",
       "      <td>383490</td>\n",
       "      <td>29700313</td>\n",
       "      <td>381903</td>\n",
       "      <td>62480</td>\n",
       "      <td>1587</td>\n",
       "      <td>1.29</td>\n",
       "      <td>Asia</td>\n",
       "    </tr>\n",
       "    <tr>\n",
       "      <th>2</th>\n",
       "      <td>Brazil</td>\n",
       "      <td>17702630</td>\n",
       "      <td>496004</td>\n",
       "      <td>17628588</td>\n",
       "      <td>493693</td>\n",
       "      <td>74042</td>\n",
       "      <td>2311</td>\n",
       "      <td>2.80</td>\n",
       "      <td>South America</td>\n",
       "    </tr>\n",
       "    <tr>\n",
       "      <th>3</th>\n",
       "      <td>France</td>\n",
       "      <td>5811461</td>\n",
       "      <td>110796</td>\n",
       "      <td>5809319</td>\n",
       "      <td>110740</td>\n",
       "      <td>2142</td>\n",
       "      <td>56</td>\n",
       "      <td>1.91</td>\n",
       "      <td>Europe</td>\n",
       "    </tr>\n",
       "    <tr>\n",
       "      <th>4</th>\n",
       "      <td>Turkey</td>\n",
       "      <td>5354153</td>\n",
       "      <td>49012</td>\n",
       "      <td>5348249</td>\n",
       "      <td>48950</td>\n",
       "      <td>5904</td>\n",
       "      <td>62</td>\n",
       "      <td>0.92</td>\n",
       "      <td>Asia</td>\n",
       "    </tr>\n",
       "  </tbody>\n",
       "</table>\n",
       "</div>"
      ],
      "text/plain": [
       "  Country/Region     Cases  Deaths    PCases  PDeaths  Cases (+)  Deaths (+)  \\\n",
       "0             US  33508867  600934  33498468   600653      10399         281   \n",
       "1          India  29762793  383490  29700313   381903      62480        1587   \n",
       "2         Brazil  17702630  496004  17628588   493693      74042        2311   \n",
       "3         France   5811461  110796   5809319   110740       2142          56   \n",
       "4         Turkey   5354153   49012   5348249    48950       5904          62   \n",
       "\n",
       "   Fatality Rate      Continent  \n",
       "0           1.79  North America  \n",
       "1           1.29           Asia  \n",
       "2           2.80  South America  \n",
       "3           1.91         Europe  \n",
       "4           0.92           Asia  "
      ]
     },
     "execution_count": 13,
     "metadata": {},
     "output_type": "execute_result"
    }
   ],
   "source": [
    "#hide\n",
    "for c in 'Cases, Deaths'.split(', '):\n",
    "    df_table[f'{c} (+)'] = (df_table[c] - df_table[f'P{c}']).clip(0)\n",
    "    #Clip ça veut dire, les chiffres negatif sont interdit\n",
    "df_table['Fatality Rate'] = (100* df_table['Deaths']/ df_table['Cases']).round(2)\n",
    "df_table['Continent'] = df_table['Country/Region'].map(mapping['map.continent'])\n",
    "df_table.head(5)"
   ]
  },
  {
   "cell_type": "code",
   "execution_count": 14,
   "id": "aboriginal-bulgaria",
   "metadata": {
    "execution": {
     "iopub.execute_input": "2021-06-18T12:10:12.018724Z",
     "iopub.status.busy": "2021-06-18T12:10:12.018054Z",
     "iopub.status.idle": "2021-06-18T12:10:12.022302Z",
     "shell.execute_reply": "2021-06-18T12:10:12.021723Z"
    },
    "papermill": {
     "duration": 0.0464,
     "end_time": "2021-06-18T12:10:12.022425",
     "exception": false,
     "start_time": "2021-06-18T12:10:11.976025",
     "status": "completed"
    },
    "tags": []
   },
   "outputs": [],
   "source": [
    "#hide\n",
    "#delete problematic countries from table\n",
    "df_table = df_table[~df_table['Country/Region'].isin(['Cape Verde', 'Cruise Ship', 'Kosovo'])]"
   ]
  },
  {
   "cell_type": "code",
   "execution_count": 15,
   "id": "fantastic-effect",
   "metadata": {
    "execution": {
     "iopub.execute_input": "2021-06-18T12:10:12.104152Z",
     "iopub.status.busy": "2021-06-18T12:10:12.103296Z",
     "iopub.status.idle": "2021-06-18T12:10:12.124107Z",
     "shell.execute_reply": "2021-06-18T12:10:12.124781Z"
    },
    "papermill": {
     "duration": 0.067254,
     "end_time": "2021-06-18T12:10:12.124971",
     "exception": false,
     "start_time": "2021-06-18T12:10:12.057717",
     "status": "completed"
    },
    "tags": []
   },
   "outputs": [
    {
     "data": {
      "text/html": [
       "<div>\n",
       "<style scoped>\n",
       "    .dataframe tbody tr th:only-of-type {\n",
       "        vertical-align: middle;\n",
       "    }\n",
       "\n",
       "    .dataframe tbody tr th {\n",
       "        vertical-align: top;\n",
       "    }\n",
       "\n",
       "    .dataframe thead th {\n",
       "        text-align: right;\n",
       "    }\n",
       "</style>\n",
       "<table border=\"1\" class=\"dataframe\">\n",
       "  <thead>\n",
       "    <tr style=\"text-align: right;\">\n",
       "      <th></th>\n",
       "      <th>Country/Region</th>\n",
       "      <th>Cases</th>\n",
       "      <th>Deaths</th>\n",
       "      <th>PCases</th>\n",
       "      <th>PDeaths</th>\n",
       "      <th>Cases (+)</th>\n",
       "      <th>Deaths (+)</th>\n",
       "      <th>Fatality Rate</th>\n",
       "      <th>Continent</th>\n",
       "    </tr>\n",
       "  </thead>\n",
       "  <tbody>\n",
       "    <tr>\n",
       "      <th>0</th>\n",
       "      <td>US</td>\n",
       "      <td>33508867</td>\n",
       "      <td>600934</td>\n",
       "      <td>33498468</td>\n",
       "      <td>600653</td>\n",
       "      <td>10399</td>\n",
       "      <td>281</td>\n",
       "      <td>1.8</td>\n",
       "      <td>North America</td>\n",
       "    </tr>\n",
       "    <tr>\n",
       "      <th>1</th>\n",
       "      <td>India</td>\n",
       "      <td>29762793</td>\n",
       "      <td>383490</td>\n",
       "      <td>29700313</td>\n",
       "      <td>381903</td>\n",
       "      <td>62480</td>\n",
       "      <td>1587</td>\n",
       "      <td>1.3</td>\n",
       "      <td>Asia</td>\n",
       "    </tr>\n",
       "    <tr>\n",
       "      <th>2</th>\n",
       "      <td>Brazil</td>\n",
       "      <td>17702630</td>\n",
       "      <td>496004</td>\n",
       "      <td>17628588</td>\n",
       "      <td>493693</td>\n",
       "      <td>74042</td>\n",
       "      <td>2311</td>\n",
       "      <td>2.8</td>\n",
       "      <td>South America</td>\n",
       "    </tr>\n",
       "    <tr>\n",
       "      <th>3</th>\n",
       "      <td>France</td>\n",
       "      <td>5811461</td>\n",
       "      <td>110796</td>\n",
       "      <td>5809319</td>\n",
       "      <td>110740</td>\n",
       "      <td>2142</td>\n",
       "      <td>56</td>\n",
       "      <td>1.9</td>\n",
       "      <td>Europe</td>\n",
       "    </tr>\n",
       "    <tr>\n",
       "      <th>4</th>\n",
       "      <td>Turkey</td>\n",
       "      <td>5354153</td>\n",
       "      <td>49012</td>\n",
       "      <td>5348249</td>\n",
       "      <td>48950</td>\n",
       "      <td>5904</td>\n",
       "      <td>62</td>\n",
       "      <td>0.9</td>\n",
       "      <td>Asia</td>\n",
       "    </tr>\n",
       "  </tbody>\n",
       "</table>\n",
       "</div>"
      ],
      "text/plain": [
       "  Country/Region     Cases  Deaths    PCases  PDeaths  Cases (+)  Deaths (+)  \\\n",
       "0             US  33508867  600934  33498468   600653      10399         281   \n",
       "1          India  29762793  383490  29700313   381903      62480        1587   \n",
       "2         Brazil  17702630  496004  17628588   493693      74042        2311   \n",
       "3         France   5811461  110796   5809319   110740       2142          56   \n",
       "4         Turkey   5354153   49012   5348249    48950       5904          62   \n",
       "\n",
       "   Fatality Rate      Continent  \n",
       "0            1.8  North America  \n",
       "1            1.3           Asia  \n",
       "2            2.8  South America  \n",
       "3            1.9         Europe  \n",
       "4            0.9           Asia  "
      ]
     },
     "execution_count": 15,
     "metadata": {},
     "output_type": "execute_result"
    }
   ],
   "source": [
    "#hide\n",
    "df_table = (pd.DataFrame(dict(Cases=dfc_cases, Deaths=dfc_deaths, PCases=dfp_cases, PDeaths=dfp_deaths))\n",
    "             .sort_values(by=['Cases', 'Deaths'], ascending=[False, False])\n",
    "             .reset_index())\n",
    "df_table.rename(columns={'index': 'Country/Region'}, inplace=True)\n",
    "for c in 'Cases, Deaths'.split(', '):\n",
    "    df_table[f'{c} (+)'] = (df_table[c] - df_table[f'P{c}']).clip(0)  # DATA BUG\n",
    "df_table['Fatality Rate'] = (100 * df_table['Deaths'] / df_table['Cases']).round(1)\n",
    "df_table['Continent'] = df_table['Country/Region'].map(mapping['map.continent'])\n",
    "df_table.head(5)"
   ]
  },
  {
   "cell_type": "code",
   "execution_count": 16,
   "id": "fewer-occasion",
   "metadata": {
    "execution": {
     "iopub.execute_input": "2021-06-18T12:10:12.206570Z",
     "iopub.status.busy": "2021-06-18T12:10:12.205808Z",
     "iopub.status.idle": "2021-06-18T12:10:12.208617Z",
     "shell.execute_reply": "2021-06-18T12:10:12.208119Z"
    },
    "papermill": {
     "duration": 0.045867,
     "end_time": "2021-06-18T12:10:12.208748",
     "exception": false,
     "start_time": "2021-06-18T12:10:12.162881",
     "status": "completed"
    },
    "tags": []
   },
   "outputs": [],
   "source": [
    "#hide\n",
    "#delete problematic countries from table\n",
    "df_table = df_table[~df_table['Country/Region'].isin(['Cape Verde', 'Cruise Ship', 'Kosovo'])]"
   ]
  },
  {
   "cell_type": "code",
   "execution_count": 17,
   "id": "related-center",
   "metadata": {
    "execution": {
     "iopub.execute_input": "2021-06-18T12:10:12.298124Z",
     "iopub.status.busy": "2021-06-18T12:10:12.297523Z",
     "iopub.status.idle": "2021-06-18T12:10:12.317103Z",
     "shell.execute_reply": "2021-06-18T12:10:12.317762Z"
    },
    "papermill": {
     "duration": 0.071255,
     "end_time": "2021-06-18T12:10:12.317953",
     "exception": false,
     "start_time": "2021-06-18T12:10:12.246698",
     "status": "completed"
    },
    "tags": []
   },
   "outputs": [],
   "source": [
    "#hide\n",
    "metrics = [df_table.columns[index] for index in [1,2,5,6]]\n",
    "# s_china = df_table[df_table['Country/Region'].eq('China')][metrics].sum().add_prefix('China ')\n",
    "s_us = df_table[df_table['Country/Region'].eq('US')][metrics].sum().add_prefix('US ')\n",
    "s_eu = df_table[df_table['Continent'].eq('Europe')][metrics].sum().add_prefix('EU ')\n",
    "s_ind = df_table[df_table['Country/Region'].eq('India')][metrics].sum().add_prefix('India ')\n",
    "summary = {'updated': pd.to_datetime(dt_today), 'since': pd.to_datetime(dt_yday)}\n",
    "summary = {'updated': pd.to_datetime(dt_today), 'since': pd.to_datetime(dt_yday)}\n",
    "summary = {**summary, **df_table[metrics].sum(), **s_ind, **s_us, **s_eu}"
   ]
  },
  {
   "cell_type": "code",
   "execution_count": 18,
   "id": "engaging-syndrome",
   "metadata": {
    "execution": {
     "iopub.execute_input": "2021-06-18T12:10:12.399942Z",
     "iopub.status.busy": "2021-06-18T12:10:12.399351Z",
     "iopub.status.idle": "2021-06-18T12:10:12.418779Z",
     "shell.execute_reply": "2021-06-18T12:10:12.418274Z"
    },
    "papermill": {
     "duration": 0.061281,
     "end_time": "2021-06-18T12:10:12.418912",
     "exception": false,
     "start_time": "2021-06-18T12:10:12.357631",
     "status": "completed"
    },
    "tags": []
   },
   "outputs": [],
   "source": [
    "#hide\n",
    "dft_ct_new_cases = dft_cases.groupby(COL_REGION)[dt_cols].sum().diff(axis=1).fillna(0).astype(int)"
   ]
  },
  {
   "cell_type": "code",
   "execution_count": 19,
   "id": "neutral-assignment",
   "metadata": {
    "execution": {
     "iopub.execute_input": "2021-06-18T12:10:12.496265Z",
     "iopub.status.busy": "2021-06-18T12:10:12.495683Z",
     "iopub.status.idle": "2021-06-18T12:10:12.498331Z",
     "shell.execute_reply": "2021-06-18T12:10:12.497864Z"
    },
    "papermill": {
     "duration": 0.043576,
     "end_time": "2021-06-18T12:10:12.498454",
     "exception": false,
     "start_time": "2021-06-18T12:10:12.454878",
     "status": "completed"
    },
    "tags": []
   },
   "outputs": [],
   "source": [
    "#hide\n",
    "everydaycases = dft_ct_new_cases.cumsum(axis=1)"
   ]
  },
  {
   "cell_type": "code",
   "execution_count": 20,
   "id": "parliamentary-calgary",
   "metadata": {
    "execution": {
     "iopub.execute_input": "2021-06-18T12:10:12.574015Z",
     "iopub.status.busy": "2021-06-18T12:10:12.573431Z",
     "iopub.status.idle": "2021-06-18T12:10:13.201194Z",
     "shell.execute_reply": "2021-06-18T12:10:13.200589Z"
    },
    "papermill": {
     "duration": 0.668147,
     "end_time": "2021-06-18T12:10:13.201341",
     "exception": false,
     "start_time": "2021-06-18T12:10:12.533194",
     "status": "completed"
    },
    "tags": []
   },
   "outputs": [],
   "source": [
    "#hide\n",
    "import pandas as pd\n",
    "import matplotlib.pyplot as plt\n",
    "import matplotlib.ticker as ticker\n",
    "import matplotlib.animation as animation\n",
    "from IPython.display import HTML"
   ]
  },
  {
   "cell_type": "code",
   "execution_count": 21,
   "id": "lasting-extraction",
   "metadata": {
    "execution": {
     "iopub.execute_input": "2021-06-18T12:10:13.281524Z",
     "iopub.status.busy": "2021-06-18T12:10:13.280935Z",
     "iopub.status.idle": "2021-06-18T12:10:13.287264Z",
     "shell.execute_reply": "2021-06-18T12:10:13.287734Z"
    },
    "papermill": {
     "duration": 0.049986,
     "end_time": "2021-06-18T12:10:13.287876",
     "exception": false,
     "start_time": "2021-06-18T12:10:13.237890",
     "status": "completed"
    },
    "tags": []
   },
   "outputs": [],
   "source": [
    "#hide\n",
    "t = everydaycases.stack()"
   ]
  },
  {
   "cell_type": "code",
   "execution_count": 22,
   "id": "premier-sleeve",
   "metadata": {
    "execution": {
     "iopub.execute_input": "2021-06-18T12:10:13.365449Z",
     "iopub.status.busy": "2021-06-18T12:10:13.364668Z",
     "iopub.status.idle": "2021-06-18T12:10:13.376164Z",
     "shell.execute_reply": "2021-06-18T12:10:13.375678Z"
    },
    "papermill": {
     "duration": 0.052144,
     "end_time": "2021-06-18T12:10:13.376290",
     "exception": false,
     "start_time": "2021-06-18T12:10:13.324146",
     "status": "completed"
    },
    "tags": []
   },
   "outputs": [],
   "source": [
    "#hide\n",
    "g = t.reset_index(['Country/Region'])"
   ]
  },
  {
   "cell_type": "code",
   "execution_count": 23,
   "id": "distributed-pittsburgh",
   "metadata": {
    "execution": {
     "iopub.execute_input": "2021-06-18T12:10:13.453419Z",
     "iopub.status.busy": "2021-06-18T12:10:13.452804Z",
     "iopub.status.idle": "2021-06-18T12:10:13.455416Z",
     "shell.execute_reply": "2021-06-18T12:10:13.454944Z"
    },
    "papermill": {
     "duration": 0.043402,
     "end_time": "2021-06-18T12:10:13.455542",
     "exception": false,
     "start_time": "2021-06-18T12:10:13.412140",
     "status": "completed"
    },
    "tags": []
   },
   "outputs": [],
   "source": [
    "#hide\n",
    "g.index.name = 'date'"
   ]
  },
  {
   "cell_type": "code",
   "execution_count": 24,
   "id": "naked-donor",
   "metadata": {
    "execution": {
     "iopub.execute_input": "2021-06-18T12:10:13.533655Z",
     "iopub.status.busy": "2021-06-18T12:10:13.533131Z",
     "iopub.status.idle": "2021-06-18T12:10:13.535492Z",
     "shell.execute_reply": "2021-06-18T12:10:13.535026Z"
    },
    "papermill": {
     "duration": 0.043944,
     "end_time": "2021-06-18T12:10:13.535612",
     "exception": false,
     "start_time": "2021-06-18T12:10:13.491668",
     "status": "completed"
    },
    "tags": []
   },
   "outputs": [],
   "source": [
    "# #hide\n",
    "# g = g.reset_index(['date'])"
   ]
  },
  {
   "cell_type": "code",
   "execution_count": 25,
   "id": "incomplete-mustang",
   "metadata": {
    "execution": {
     "iopub.execute_input": "2021-06-18T12:10:13.609593Z",
     "iopub.status.busy": "2021-06-18T12:10:13.609008Z",
     "iopub.status.idle": "2021-06-18T12:10:13.611412Z",
     "shell.execute_reply": "2021-06-18T12:10:13.611962Z"
    },
    "papermill": {
     "duration": 0.043367,
     "end_time": "2021-06-18T12:10:13.612098",
     "exception": false,
     "start_time": "2021-06-18T12:10:13.568731",
     "status": "completed"
    },
    "tags": []
   },
   "outputs": [],
   "source": [
    "#hide\n",
    "# g.head()"
   ]
  },
  {
   "cell_type": "code",
   "execution_count": 26,
   "id": "specific-kruger",
   "metadata": {
    "execution": {
     "iopub.execute_input": "2021-06-18T12:10:13.686900Z",
     "iopub.status.busy": "2021-06-18T12:10:13.686319Z",
     "iopub.status.idle": "2021-06-18T12:10:13.688823Z",
     "shell.execute_reply": "2021-06-18T12:10:13.688327Z"
    },
    "papermill": {
     "duration": 0.042966,
     "end_time": "2021-06-18T12:10:13.689117",
     "exception": false,
     "start_time": "2021-06-18T12:10:13.646151",
     "status": "completed"
    },
    "tags": []
   },
   "outputs": [],
   "source": [
    "#hide\n",
    "# g.columns = ['date','country','cases']"
   ]
  },
  {
   "cell_type": "code",
   "execution_count": 27,
   "id": "tender-conversion",
   "metadata": {
    "execution": {
     "iopub.execute_input": "2021-06-18T12:10:13.765767Z",
     "iopub.status.busy": "2021-06-18T12:10:13.765186Z",
     "iopub.status.idle": "2021-06-18T12:10:13.768097Z",
     "shell.execute_reply": "2021-06-18T12:10:13.767625Z"
    },
    "papermill": {
     "duration": 0.043111,
     "end_time": "2021-06-18T12:10:13.768219",
     "exception": false,
     "start_time": "2021-06-18T12:10:13.725108",
     "status": "completed"
    },
    "tags": []
   },
   "outputs": [],
   "source": [
    "#hide\n",
    "# g['continent'] = g.country"
   ]
  },
  {
   "cell_type": "code",
   "execution_count": 28,
   "id": "substantial-wilderness",
   "metadata": {
    "execution": {
     "iopub.execute_input": "2021-06-18T12:10:13.844180Z",
     "iopub.status.busy": "2021-06-18T12:10:13.843595Z",
     "iopub.status.idle": "2021-06-18T12:10:13.846357Z",
     "shell.execute_reply": "2021-06-18T12:10:13.845822Z"
    },
    "papermill": {
     "duration": 0.041682,
     "end_time": "2021-06-18T12:10:13.846475",
     "exception": false,
     "start_time": "2021-06-18T12:10:13.804793",
     "status": "completed"
    },
    "tags": []
   },
   "outputs": [],
   "source": [
    "#hide\n",
    "# cols = list(g.columns.values)"
   ]
  },
  {
   "cell_type": "code",
   "execution_count": 29,
   "id": "solved-farming",
   "metadata": {
    "execution": {
     "iopub.execute_input": "2021-06-18T12:10:13.922505Z",
     "iopub.status.busy": "2021-06-18T12:10:13.921813Z",
     "iopub.status.idle": "2021-06-18T12:10:13.924284Z",
     "shell.execute_reply": "2021-06-18T12:10:13.923827Z"
    },
    "papermill": {
     "duration": 0.042585,
     "end_time": "2021-06-18T12:10:13.924423",
     "exception": false,
     "start_time": "2021-06-18T12:10:13.881838",
     "status": "completed"
    },
    "tags": []
   },
   "outputs": [],
   "source": [
    "#hide\n",
    "# cols.insert(0, cols.pop())"
   ]
  },
  {
   "cell_type": "code",
   "execution_count": 30,
   "id": "executed-adoption",
   "metadata": {
    "execution": {
     "iopub.execute_input": "2021-06-18T12:10:14.006976Z",
     "iopub.status.busy": "2021-06-18T12:10:14.006379Z",
     "iopub.status.idle": "2021-06-18T12:10:14.008704Z",
     "shell.execute_reply": "2021-06-18T12:10:14.009265Z"
    },
    "papermill": {
     "duration": 0.042992,
     "end_time": "2021-06-18T12:10:14.009406",
     "exception": false,
     "start_time": "2021-06-18T12:10:13.966414",
     "status": "completed"
    },
    "tags": []
   },
   "outputs": [],
   "source": [
    "#hide\n",
    "# g = g[cols]"
   ]
  },
  {
   "cell_type": "code",
   "execution_count": 31,
   "id": "subject-dublin",
   "metadata": {
    "execution": {
     "iopub.execute_input": "2021-06-18T12:10:14.083962Z",
     "iopub.status.busy": "2021-06-18T12:10:14.083377Z",
     "iopub.status.idle": "2021-06-18T12:10:14.085150Z",
     "shell.execute_reply": "2021-06-18T12:10:14.085686Z"
    },
    "papermill": {
     "duration": 0.041028,
     "end_time": "2021-06-18T12:10:14.085832",
     "exception": false,
     "start_time": "2021-06-18T12:10:14.044804",
     "status": "completed"
    },
    "tags": []
   },
   "outputs": [],
   "source": [
    "#hide\n",
    "# g['continent'] = g['continent'].map(mapping['map.continent'])"
   ]
  },
  {
   "cell_type": "code",
   "execution_count": 32,
   "id": "freelance-scout",
   "metadata": {
    "execution": {
     "iopub.execute_input": "2021-06-18T12:10:14.159358Z",
     "iopub.status.busy": "2021-06-18T12:10:14.158770Z",
     "iopub.status.idle": "2021-06-18T12:10:14.161037Z",
     "shell.execute_reply": "2021-06-18T12:10:14.160513Z"
    },
    "papermill": {
     "duration": 0.040949,
     "end_time": "2021-06-18T12:10:14.161158",
     "exception": false,
     "start_time": "2021-06-18T12:10:14.120209",
     "status": "completed"
    },
    "tags": []
   },
   "outputs": [],
   "source": [
    "#hide\n",
    "# g.head()"
   ]
  },
  {
   "cell_type": "code",
   "execution_count": 33,
   "id": "limited-engine",
   "metadata": {
    "execution": {
     "iopub.execute_input": "2021-06-18T12:10:14.235720Z",
     "iopub.status.busy": "2021-06-18T12:10:14.235137Z",
     "iopub.status.idle": "2021-06-18T12:10:14.237451Z",
     "shell.execute_reply": "2021-06-18T12:10:14.238033Z"
    },
    "papermill": {
     "duration": 0.0417,
     "end_time": "2021-06-18T12:10:14.238173",
     "exception": false,
     "start_time": "2021-06-18T12:10:14.196473",
     "status": "completed"
    },
    "tags": []
   },
   "outputs": [],
   "source": [
    "# hide\n",
    "# g['date'] = g['date'].astype('datetime64[ns]')"
   ]
  },
  {
   "cell_type": "code",
   "execution_count": 34,
   "id": "sophisticated-supervisor",
   "metadata": {
    "execution": {
     "iopub.execute_input": "2021-06-18T12:10:14.313367Z",
     "iopub.status.busy": "2021-06-18T12:10:14.312757Z",
     "iopub.status.idle": "2021-06-18T12:10:14.315158Z",
     "shell.execute_reply": "2021-06-18T12:10:14.315710Z"
    },
    "papermill": {
     "duration": 0.042626,
     "end_time": "2021-06-18T12:10:14.315845",
     "exception": false,
     "start_time": "2021-06-18T12:10:14.273219",
     "status": "completed"
    },
    "tags": []
   },
   "outputs": [],
   "source": [
    "#hide\n",
    "# g['date'] = g.date.dt.dayofyear"
   ]
  },
  {
   "cell_type": "code",
   "execution_count": 35,
   "id": "inside-dubai",
   "metadata": {
    "execution": {
     "iopub.execute_input": "2021-06-18T12:10:14.390253Z",
     "iopub.status.busy": "2021-06-18T12:10:14.389675Z",
     "iopub.status.idle": "2021-06-18T12:10:14.392245Z",
     "shell.execute_reply": "2021-06-18T12:10:14.391769Z"
    },
    "papermill": {
     "duration": 0.041705,
     "end_time": "2021-06-18T12:10:14.392370",
     "exception": false,
     "start_time": "2021-06-18T12:10:14.350665",
     "status": "completed"
    },
    "tags": []
   },
   "outputs": [],
   "source": [
    "#hide\n",
    "# g = g.rename(columns= {'continent':'group','country':'name','cases':'value'})"
   ]
  },
  {
   "cell_type": "code",
   "execution_count": 36,
   "id": "fleet-motorcycle",
   "metadata": {
    "execution": {
     "iopub.execute_input": "2021-06-18T12:10:14.468179Z",
     "iopub.status.busy": "2021-06-18T12:10:14.467585Z",
     "iopub.status.idle": "2021-06-18T12:10:14.469707Z",
     "shell.execute_reply": "2021-06-18T12:10:14.470172Z"
    },
    "papermill": {
     "duration": 0.042353,
     "end_time": "2021-06-18T12:10:14.470316",
     "exception": false,
     "start_time": "2021-06-18T12:10:14.427963",
     "status": "completed"
    },
    "tags": []
   },
   "outputs": [],
   "source": [
    "#hide\n",
    "# cols = ['name','group','day','value']"
   ]
  },
  {
   "cell_type": "code",
   "execution_count": 37,
   "id": "continued-sleeping",
   "metadata": {
    "execution": {
     "iopub.execute_input": "2021-06-18T12:10:14.544018Z",
     "iopub.status.busy": "2021-06-18T12:10:14.543431Z",
     "iopub.status.idle": "2021-06-18T12:10:14.545618Z",
     "shell.execute_reply": "2021-06-18T12:10:14.546171Z"
    },
    "papermill": {
     "duration": 0.041986,
     "end_time": "2021-06-18T12:10:14.546309",
     "exception": false,
     "start_time": "2021-06-18T12:10:14.504323",
     "status": "completed"
    },
    "tags": []
   },
   "outputs": [],
   "source": [
    "#hide\n",
    "# g.rename(columns= {'date':'day'},inplace = True)"
   ]
  },
  {
   "cell_type": "code",
   "execution_count": 38,
   "id": "major-fight",
   "metadata": {
    "execution": {
     "iopub.execute_input": "2021-06-18T12:10:14.622351Z",
     "iopub.status.busy": "2021-06-18T12:10:14.619322Z",
     "iopub.status.idle": "2021-06-18T12:10:14.624991Z",
     "shell.execute_reply": "2021-06-18T12:10:14.624456Z"
    },
    "papermill": {
     "duration": 0.043485,
     "end_time": "2021-06-18T12:10:14.625122",
     "exception": false,
     "start_time": "2021-06-18T12:10:14.581637",
     "status": "completed"
    },
    "tags": []
   },
   "outputs": [],
   "source": [
    "#hide\n",
    "# g = g[cols]"
   ]
  },
  {
   "cell_type": "code",
   "execution_count": 39,
   "id": "structured-mobile",
   "metadata": {
    "execution": {
     "iopub.execute_input": "2021-06-18T12:10:14.700590Z",
     "iopub.status.busy": "2021-06-18T12:10:14.699956Z",
     "iopub.status.idle": "2021-06-18T12:10:14.703006Z",
     "shell.execute_reply": "2021-06-18T12:10:14.703558Z"
    },
    "papermill": {
     "duration": 0.043328,
     "end_time": "2021-06-18T12:10:14.703695",
     "exception": false,
     "start_time": "2021-06-18T12:10:14.660367",
     "status": "completed"
    },
    "tags": []
   },
   "outputs": [],
   "source": [
    "# #hide\n",
    "# g = g[g.group.notna()]"
   ]
  },
  {
   "cell_type": "code",
   "execution_count": 40,
   "id": "determined-closing",
   "metadata": {
    "execution": {
     "iopub.execute_input": "2021-06-18T12:10:14.779085Z",
     "iopub.status.busy": "2021-06-18T12:10:14.778484Z",
     "iopub.status.idle": "2021-06-18T12:10:14.781967Z",
     "shell.execute_reply": "2021-06-18T12:10:14.781495Z"
    },
    "papermill": {
     "duration": 0.043427,
     "end_time": "2021-06-18T12:10:14.782091",
     "exception": false,
     "start_time": "2021-06-18T12:10:14.738664",
     "status": "completed"
    },
    "tags": []
   },
   "outputs": [],
   "source": [
    "# #hide\n",
    "# colors = dict(zip(\n",
    "#     [\"Oceania\", \"Europe\", \"Asia\", \"South America\", \"Middle East\", \"North America\", \"Africa\"],\n",
    "#     [\"#adb0ff\", \"#ffb3ff\", \"#90d595\", \"#e48381\", \"#aafbff\", \"#f7bb5f\", \"#eafb50\"]\n",
    "# ))\n",
    "# group_lk = g.set_index('name')['group'].to_dict()"
   ]
  },
  {
   "cell_type": "code",
   "execution_count": null,
   "id": "gross-drinking",
   "metadata": {
    "papermill": {
     "duration": 0.035253,
     "end_time": "2021-06-18T12:10:14.852823",
     "exception": false,
     "start_time": "2021-06-18T12:10:14.817570",
     "status": "completed"
    },
    "tags": []
   },
   "outputs": [],
   "source": []
  },
  {
   "cell_type": "code",
   "execution_count": 41,
   "id": "subject-macintosh",
   "metadata": {
    "execution": {
     "iopub.execute_input": "2021-06-18T12:10:14.928606Z",
     "iopub.status.busy": "2021-06-18T12:10:14.928017Z",
     "iopub.status.idle": "2021-06-18T12:10:14.930669Z",
     "shell.execute_reply": "2021-06-18T12:10:14.930172Z"
    },
    "papermill": {
     "duration": 0.042481,
     "end_time": "2021-06-18T12:10:14.930789",
     "exception": false,
     "start_time": "2021-06-18T12:10:14.888308",
     "status": "completed"
    },
    "tags": []
   },
   "outputs": [],
   "source": [
    "# #hide\n",
    "# fig, ax = plt.subplots(figsize=(15, 8))\n",
    "\n",
    "# def draw_barchart(current_day):\n",
    "#     dff = g[g['day'].eq(current_day)].sort_values(by='value', ascending=True).tail(10)\n",
    "#     ax.clear()\n",
    "#     ax.barh(dff['name'], dff['value'], color=[colors[group_lk[x]] for x in dff['name']])\n",
    "#     dx = dff['value'].max() / 200\n",
    "    \n",
    "#     for i, (value, name) in enumerate(zip(dff['value'], dff['name'])):\n",
    "#         ax.text(value-dx, i,     name,           size=14, weight=600, ha='right', va='bottom')\n",
    "#         ax.text(value-dx, i-.25, group_lk[name], size=10, color='#444444', ha='right', va='baseline')\n",
    "#         ax.text(value+dx, i,     f'{value:,.0f}',  size=14, ha='left',  va='center')\n",
    "#     ax.text(1, 0.4, current_day, transform=ax.transAxes, color='#777777', size=46, ha='right', weight=800)\n",
    "#     ax.text(0, 1.06, 'Population (thousands)', transform=ax.transAxes, size=12, color='#777777')\n",
    "#     ax.xaxis.set_major_formatter(ticker.StrMethodFormatter('{x:,.0f}'))\n",
    "#     ax.xaxis.set_ticks_position('top')\n",
    "#     ax.tick_params(axis='x', colors='#777777', labelsize=12)\n",
    "#     ax.set_yticks([])\n",
    "#     ax.margins(0, 0.01)\n",
    "#     ax.grid(which='major', axis='x', linestyle='-')\n",
    "#     ax.set_axisbelow(True)\n",
    "    \n",
    "#     ax.text(0, 1.15, 'Coronavirus',\n",
    "#             transform=ax.transAxes, size=24, weight=600, ha='left', va='top')\n",
    "# #     ax.text(1, 0, 'by @pratapvardhan; credit @jburnmurdoch', transform=ax.transAxes, color='#777777', ha='right',\n",
    "# #             bbox=dict(facecolor='white', alpha=0.8, edgecolor='white'))\n",
    "#     plt.box(False)"
   ]
  },
  {
   "cell_type": "code",
   "execution_count": 42,
   "id": "sexual-wages",
   "metadata": {
    "execution": {
     "iopub.execute_input": "2021-06-18T12:10:15.007741Z",
     "iopub.status.busy": "2021-06-18T12:10:15.007160Z",
     "iopub.status.idle": "2021-06-18T12:10:15.010301Z",
     "shell.execute_reply": "2021-06-18T12:10:15.010749Z"
    },
    "papermill": {
     "duration": 0.044649,
     "end_time": "2021-06-18T12:10:15.010895",
     "exception": false,
     "start_time": "2021-06-18T12:10:14.966246",
     "status": "completed"
    },
    "tags": []
   },
   "outputs": [],
   "source": [
    "# #hide_input\n",
    "# fig, ax = plt.subplots(figsize=(15, 8))\n",
    "# animator = animation.FuncAnimation(fig, draw_barchart, frames=range(g.day.values.min(), g.day.values.max()))\n",
    "# HTML(animator.to_jshtml())\n",
    "# # or use animator.to_html5_video() or animator.save() "
   ]
  },
  {
   "cell_type": "code",
   "execution_count": null,
   "id": "australian-container",
   "metadata": {
    "papermill": {
     "duration": 0.03574,
     "end_time": "2021-06-18T12:10:15.082488",
     "exception": false,
     "start_time": "2021-06-18T12:10:15.046748",
     "status": "completed"
    },
    "tags": []
   },
   "outputs": [],
   "source": []
  },
  {
   "cell_type": "code",
   "execution_count": null,
   "id": "mediterranean-pontiac",
   "metadata": {
    "papermill": {
     "duration": 0.035145,
     "end_time": "2021-06-18T12:10:15.153047",
     "exception": false,
     "start_time": "2021-06-18T12:10:15.117902",
     "status": "completed"
    },
    "tags": []
   },
   "outputs": [],
   "source": []
  },
  {
   "cell_type": "code",
   "execution_count": null,
   "id": "aging-legislature",
   "metadata": {
    "papermill": {
     "duration": 0.035137,
     "end_time": "2021-06-18T12:10:15.223639",
     "exception": false,
     "start_time": "2021-06-18T12:10:15.188502",
     "status": "completed"
    },
    "tags": []
   },
   "outputs": [],
   "source": []
  }
 ],
 "metadata": {
  "kernelspec": {
   "display_name": "Python 3",
   "language": "python",
   "name": "python3"
  },
  "language_info": {
   "codemirror_mode": {
    "name": "ipython",
    "version": 3
   },
   "file_extension": ".py",
   "mimetype": "text/x-python",
   "name": "python",
   "nbconvert_exporter": "python",
   "pygments_lexer": "ipython3",
   "version": "3.6.13"
  },
  "papermill": {
   "duration": 6.728091,
   "end_time": "2021-06-18T12:10:15.667811",
   "environment_variables": {},
   "exception": null,
   "input_path": "2020-03-21-covid19exp.ipynb",
   "output_path": "2020-03-21-covid19exp.ipynb",
   "parameters": {},
   "start_time": "2021-06-18T12:10:08.939720",
   "version": "2.0.0"
  }
 },
 "nbformat": 4,
 "nbformat_minor": 5
}