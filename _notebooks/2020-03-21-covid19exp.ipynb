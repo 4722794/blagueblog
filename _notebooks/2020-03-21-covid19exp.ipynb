{
 "cells": [
  {
   "cell_type": "markdown",
   "id": "muslim-click",
   "metadata": {
    "papermill": {
     "duration": 0.041995,
     "end_time": "2022-04-02T12:13:52.890277",
     "exception": false,
     "start_time": "2022-04-02T12:13:52.848282",
     "status": "completed"
    },
    "tags": []
   },
   "source": [
    "# COVID-19 Case Race\n",
    "> A race chart to see rising cases around the world\n",
    "\n",
    "- author: Hargun Oberoi\n",
    "- image: images/covid-overview.png\n",
    "- hide: false\n",
    "- badges: false"
   ]
  },
  {
   "cell_type": "code",
   "execution_count": 1,
   "id": "proof-material",
   "metadata": {
    "execution": {
     "iopub.execute_input": "2022-04-02T12:13:52.979431Z",
     "iopub.status.busy": "2022-04-02T12:13:52.978685Z",
     "iopub.status.idle": "2022-04-02T12:13:53.386067Z",
     "shell.execute_reply": "2022-04-02T12:13:53.385465Z"
    },
    "papermill": {
     "duration": 0.455649,
     "end_time": "2022-04-02T12:13:53.386234",
     "exception": false,
     "start_time": "2022-04-02T12:13:52.930585",
     "status": "completed"
    },
    "tags": []
   },
   "outputs": [],
   "source": [
    "#hide\n",
    "import numpy as np\n",
    "import pandas as pd\n",
    "from jinja2 import Template\n",
    "from IPython.display import HTML"
   ]
  },
  {
   "cell_type": "code",
   "execution_count": 2,
   "id": "developed-terminology",
   "metadata": {
    "execution": {
     "iopub.execute_input": "2022-04-02T12:13:53.467559Z",
     "iopub.status.busy": "2022-04-02T12:13:53.466890Z",
     "iopub.status.idle": "2022-04-02T12:13:53.468849Z",
     "shell.execute_reply": "2022-04-02T12:13:53.469448Z"
    },
    "papermill": {
     "duration": 0.045636,
     "end_time": "2022-04-02T12:13:53.469586",
     "exception": false,
     "start_time": "2022-04-02T12:13:53.423950",
     "status": "completed"
    },
    "tags": []
   },
   "outputs": [],
   "source": [
    "#hide\n",
    "\n",
    "# FETCH\n",
    "base_url = 'https://raw.githubusercontent.com/pratapvardhan/notebooks/master/covid19/'\n",
    "paths = {\n",
    "    'mapping': base_url + 'mapping_countries.csv',\n",
    "    'overview': base_url + 'overview.tpl'\n",
    "}"
   ]
  },
  {
   "cell_type": "code",
   "execution_count": 3,
   "id": "dynamic-saver",
   "metadata": {
    "execution": {
     "iopub.execute_input": "2022-04-02T12:13:53.564673Z",
     "iopub.status.busy": "2022-04-02T12:13:53.563904Z",
     "iopub.status.idle": "2022-04-02T12:13:53.567498Z",
     "shell.execute_reply": "2022-04-02T12:13:53.566785Z"
    },
    "papermill": {
     "duration": 0.052502,
     "end_time": "2022-04-02T12:13:53.567629",
     "exception": false,
     "start_time": "2022-04-02T12:13:53.515127",
     "status": "completed"
    },
    "tags": []
   },
   "outputs": [
    {
     "data": {
      "text/plain": [
       "'https://raw.githubusercontent.com/pratapvardhan/notebooks/master/covid19/mapping_countries.csv'"
      ]
     },
     "execution_count": 3,
     "metadata": {},
     "output_type": "execute_result"
    }
   ],
   "source": [
    "#hide\n",
    "paths['mapping']"
   ]
  },
  {
   "cell_type": "code",
   "execution_count": 4,
   "id": "urban-software",
   "metadata": {
    "execution": {
     "iopub.execute_input": "2022-04-02T12:13:53.656544Z",
     "iopub.status.busy": "2022-04-02T12:13:53.655815Z",
     "iopub.status.idle": "2022-04-02T12:13:53.658539Z",
     "shell.execute_reply": "2022-04-02T12:13:53.657910Z"
    },
    "papermill": {
     "duration": 0.046935,
     "end_time": "2022-04-02T12:13:53.658678",
     "exception": false,
     "start_time": "2022-04-02T12:13:53.611743",
     "status": "completed"
    },
    "tags": []
   },
   "outputs": [],
   "source": [
    "#hide\n",
    "def get_mappings(url):\n",
    "    df = pd.read_csv(url)\n",
    "    return {\n",
    "        'df': df,\n",
    "        'replace.country': dict(df.dropna(subset=['Name']).set_index('Country')['Name']),\n",
    "        'map.continent': dict(df.set_index('Name')['Continent'])\n",
    "    }"
   ]
  },
  {
   "cell_type": "code",
   "execution_count": 5,
   "id": "intimate-machinery",
   "metadata": {
    "execution": {
     "iopub.execute_input": "2022-04-02T12:13:53.741337Z",
     "iopub.status.busy": "2022-04-02T12:13:53.740156Z",
     "iopub.status.idle": "2022-04-02T12:13:53.769209Z",
     "shell.execute_reply": "2022-04-02T12:13:53.769883Z"
    },
    "papermill": {
     "duration": 0.073382,
     "end_time": "2022-04-02T12:13:53.770065",
     "exception": false,
     "start_time": "2022-04-02T12:13:53.696683",
     "status": "completed"
    },
    "tags": []
   },
   "outputs": [],
   "source": [
    "#hide\n",
    "mapping = get_mappings(paths['mapping'])"
   ]
  },
  {
   "cell_type": "code",
   "execution_count": 6,
   "id": "certified-tactics",
   "metadata": {
    "execution": {
     "iopub.execute_input": "2022-04-02T12:13:53.851788Z",
     "iopub.status.busy": "2022-04-02T12:13:53.851121Z",
     "iopub.status.idle": "2022-04-02T12:13:53.853910Z",
     "shell.execute_reply": "2022-04-02T12:13:53.853264Z"
    },
    "papermill": {
     "duration": 0.04604,
     "end_time": "2022-04-02T12:13:53.854041",
     "exception": false,
     "start_time": "2022-04-02T12:13:53.808001",
     "status": "completed"
    },
    "tags": []
   },
   "outputs": [],
   "source": [
    "#hide\n",
    "def get_template(path):\n",
    "    from urllib.parse import urlparse\n",
    "    if bool(urlparse(path).netloc):\n",
    "        from urllib.request import urlopen\n",
    "        return urlopen(path).read().decode('utf8')\n",
    "    return open(path).read()"
   ]
  },
  {
   "cell_type": "code",
   "execution_count": 7,
   "id": "realistic-blast",
   "metadata": {
    "execution": {
     "iopub.execute_input": "2022-04-02T12:13:53.935681Z",
     "iopub.status.busy": "2022-04-02T12:13:53.935017Z",
     "iopub.status.idle": "2022-04-02T12:13:53.937772Z",
     "shell.execute_reply": "2022-04-02T12:13:53.937038Z"
    },
    "papermill": {
     "duration": 0.04616,
     "end_time": "2022-04-02T12:13:53.937922",
     "exception": false,
     "start_time": "2022-04-02T12:13:53.891762",
     "status": "completed"
    },
    "tags": []
   },
   "outputs": [],
   "source": [
    "#hide\n",
    "def get_frame(name):\n",
    "    url = (\n",
    "        'https://raw.githubusercontent.com/CSSEGISandData/COVID-19/master/csse_covid_19_data/'\n",
    "        f'csse_covid_19_time_series/time_series_covid19_{name}_global.csv')\n",
    "    df = pd.read_csv(url)\n",
    "    # rename countries\n",
    "    df['Country/Region'] = df['Country/Region'].replace(mapping['replace.country'])\n",
    "    return df"
   ]
  },
  {
   "cell_type": "code",
   "execution_count": 8,
   "id": "affiliated-characterization",
   "metadata": {
    "execution": {
     "iopub.execute_input": "2022-04-02T12:13:54.020912Z",
     "iopub.status.busy": "2022-04-02T12:13:54.020218Z",
     "iopub.status.idle": "2022-04-02T12:13:54.022973Z",
     "shell.execute_reply": "2022-04-02T12:13:54.022404Z"
    },
    "papermill": {
     "duration": 0.04731,
     "end_time": "2022-04-02T12:13:54.023105",
     "exception": false,
     "start_time": "2022-04-02T12:13:53.975795",
     "status": "completed"
    },
    "tags": []
   },
   "outputs": [],
   "source": [
    "#hide\n",
    "def get_dates(df):\n",
    "    dt_cols = df.columns[~df.columns.isin(['Province/State', 'Country/Region', 'Lat', 'Long'])]\n",
    "    LAST_DATE_I = -1\n",
    "    # sometimes last column may be empty, then go backwards\n",
    "    for i in range(-1, -len(dt_cols), -1):\n",
    "        if not df[dt_cols[i]].fillna(0).eq(0).all():\n",
    "            LAST_DATE_I = i\n",
    "            break\n",
    "    return LAST_DATE_I, dt_cols"
   ]
  },
  {
   "cell_type": "code",
   "execution_count": 9,
   "id": "recent-optimization",
   "metadata": {
    "execution": {
     "iopub.execute_input": "2022-04-02T12:13:54.110177Z",
     "iopub.status.busy": "2022-04-02T12:13:54.109477Z",
     "iopub.status.idle": "2022-04-02T12:13:54.735679Z",
     "shell.execute_reply": "2022-04-02T12:13:54.735077Z"
    },
    "papermill": {
     "duration": 0.673992,
     "end_time": "2022-04-02T12:13:54.735823",
     "exception": false,
     "start_time": "2022-04-02T12:13:54.061831",
     "status": "completed"
    },
    "tags": []
   },
   "outputs": [],
   "source": [
    "#hide\n",
    "COL_REGION = 'Country/Region'\n",
    "# Confirmed, Recovered, Deaths\n",
    "df = get_frame('confirmed')\n",
    "# dft_: timeseries, dfc_: today country agg\n",
    "dft_cases = df\n",
    "dft_deaths = get_frame('deaths')\n",
    "dft_recovered = get_frame('recovered')\n",
    "LAST_DATE_I, dt_cols = get_dates(df)"
   ]
  },
  {
   "cell_type": "code",
   "execution_count": 10,
   "id": "absolute-copper",
   "metadata": {
    "execution": {
     "iopub.execute_input": "2022-04-02T12:13:54.823323Z",
     "iopub.status.busy": "2022-04-02T12:13:54.822639Z",
     "iopub.status.idle": "2022-04-02T12:13:54.825207Z",
     "shell.execute_reply": "2022-04-02T12:13:54.824556Z"
    },
    "papermill": {
     "duration": 0.050006,
     "end_time": "2022-04-02T12:13:54.825340",
     "exception": false,
     "start_time": "2022-04-02T12:13:54.775334",
     "status": "completed"
    },
    "tags": []
   },
   "outputs": [],
   "source": [
    "#hide\n",
    "LAST_DATE_I, dt_cols = get_dates(df)\n",
    "dt_today =dt_cols[LAST_DATE_I]\n",
    "# dt_5day = dt_cols[LAST_DATE_I - 5]\n",
    "dt_yday = dt_cols[LAST_DATE_I - 1]"
   ]
  },
  {
   "cell_type": "code",
   "execution_count": 11,
   "id": "restricted-sheriff",
   "metadata": {
    "execution": {
     "iopub.execute_input": "2022-04-02T12:13:54.906914Z",
     "iopub.status.busy": "2022-04-02T12:13:54.906250Z",
     "iopub.status.idle": "2022-04-02T12:13:54.915647Z",
     "shell.execute_reply": "2022-04-02T12:13:54.915114Z"
    },
    "papermill": {
     "duration": 0.052212,
     "end_time": "2022-04-02T12:13:54.915809",
     "exception": false,
     "start_time": "2022-04-02T12:13:54.863597",
     "status": "completed"
    },
    "tags": []
   },
   "outputs": [],
   "source": [
    "#hide\n",
    "dfc_cases = dft_cases.groupby(COL_REGION)[dt_today].sum()\n",
    "dfc_deaths = dft_deaths.groupby(COL_REGION)[dt_today].sum()\n",
    "# dfp_cases = dft_cases.groupby(COL_REGION)[dt_5day].sum()\n",
    "# dfp_deaths = dft_deaths.groupby(COL_REGION)[dt_5day].sum()\n",
    "dfp_cases = dft_cases.groupby(COL_REGION)[dt_yday].sum()\n",
    "dfp_deaths = dft_deaths.groupby(COL_REGION)[dt_yday].sum()"
   ]
  },
  {
   "cell_type": "code",
   "execution_count": 12,
   "id": "deluxe-hepatitis",
   "metadata": {
    "execution": {
     "iopub.execute_input": "2022-04-02T12:13:54.999109Z",
     "iopub.status.busy": "2022-04-02T12:13:54.998436Z",
     "iopub.status.idle": "2022-04-02T12:13:55.003453Z",
     "shell.execute_reply": "2022-04-02T12:13:55.004075Z"
    },
    "papermill": {
     "duration": 0.049555,
     "end_time": "2022-04-02T12:13:55.004219",
     "exception": false,
     "start_time": "2022-04-02T12:13:54.954664",
     "status": "completed"
    },
    "tags": []
   },
   "outputs": [],
   "source": [
    "#hide\n",
    "df_table = (pd.DataFrame(dict(Cases = dfc_cases, Deaths = dfc_deaths, PCases = dfp_cases, PDeaths = dfp_deaths))\n",
    "            .sort_values(by = ['Cases','Deaths'], ascending = [False, False])\n",
    "            .reset_index())"
   ]
  },
  {
   "cell_type": "code",
   "execution_count": 13,
   "id": "educational-chancellor",
   "metadata": {
    "execution": {
     "iopub.execute_input": "2022-04-02T12:13:55.116562Z",
     "iopub.status.busy": "2022-04-02T12:13:55.115849Z",
     "iopub.status.idle": "2022-04-02T12:13:55.125257Z",
     "shell.execute_reply": "2022-04-02T12:13:55.124661Z"
    },
    "papermill": {
     "duration": 0.074308,
     "end_time": "2022-04-02T12:13:55.125411",
     "exception": false,
     "start_time": "2022-04-02T12:13:55.051103",
     "status": "completed"
    },
    "tags": []
   },
   "outputs": [
    {
     "data": {
      "text/html": [
       "<div>\n",
       "<style scoped>\n",
       "    .dataframe tbody tr th:only-of-type {\n",
       "        vertical-align: middle;\n",
       "    }\n",
       "\n",
       "    .dataframe tbody tr th {\n",
       "        vertical-align: top;\n",
       "    }\n",
       "\n",
       "    .dataframe thead th {\n",
       "        text-align: right;\n",
       "    }\n",
       "</style>\n",
       "<table border=\"1\" class=\"dataframe\">\n",
       "  <thead>\n",
       "    <tr style=\"text-align: right;\">\n",
       "      <th></th>\n",
       "      <th>Country/Region</th>\n",
       "      <th>Cases</th>\n",
       "      <th>Deaths</th>\n",
       "      <th>PCases</th>\n",
       "      <th>PDeaths</th>\n",
       "      <th>Cases (+)</th>\n",
       "      <th>Deaths (+)</th>\n",
       "      <th>Fatality Rate</th>\n",
       "      <th>Continent</th>\n",
       "    </tr>\n",
       "  </thead>\n",
       "  <tbody>\n",
       "    <tr>\n",
       "      <th>0</th>\n",
       "      <td>US</td>\n",
       "      <td>80140309</td>\n",
       "      <td>982371</td>\n",
       "      <td>80102065</td>\n",
       "      <td>980638</td>\n",
       "      <td>38244</td>\n",
       "      <td>1733</td>\n",
       "      <td>1.23</td>\n",
       "      <td>North America</td>\n",
       "    </tr>\n",
       "    <tr>\n",
       "      <th>1</th>\n",
       "      <td>India</td>\n",
       "      <td>43027035</td>\n",
       "      <td>521264</td>\n",
       "      <td>43025775</td>\n",
       "      <td>521181</td>\n",
       "      <td>1260</td>\n",
       "      <td>83</td>\n",
       "      <td>1.21</td>\n",
       "      <td>Asia</td>\n",
       "    </tr>\n",
       "    <tr>\n",
       "      <th>2</th>\n",
       "      <td>Brazil</td>\n",
       "      <td>29978513</td>\n",
       "      <td>660265</td>\n",
       "      <td>29951670</td>\n",
       "      <td>660022</td>\n",
       "      <td>26843</td>\n",
       "      <td>243</td>\n",
       "      <td>2.20</td>\n",
       "      <td>South America</td>\n",
       "    </tr>\n",
       "    <tr>\n",
       "      <th>3</th>\n",
       "      <td>France</td>\n",
       "      <td>25952226</td>\n",
       "      <td>143441</td>\n",
       "      <td>25803173</td>\n",
       "      <td>143307</td>\n",
       "      <td>149053</td>\n",
       "      <td>134</td>\n",
       "      <td>0.55</td>\n",
       "      <td>Europe</td>\n",
       "    </tr>\n",
       "    <tr>\n",
       "      <th>4</th>\n",
       "      <td>Germany</td>\n",
       "      <td>21394691</td>\n",
       "      <td>129695</td>\n",
       "      <td>21394747</td>\n",
       "      <td>129708</td>\n",
       "      <td>0</td>\n",
       "      <td>0</td>\n",
       "      <td>0.61</td>\n",
       "      <td>Europe</td>\n",
       "    </tr>\n",
       "  </tbody>\n",
       "</table>\n",
       "</div>"
      ],
      "text/plain": [
       "  Country/Region     Cases  Deaths    PCases  PDeaths  Cases (+)  Deaths (+)  \\\n",
       "0             US  80140309  982371  80102065   980638      38244        1733   \n",
       "1          India  43027035  521264  43025775   521181       1260          83   \n",
       "2         Brazil  29978513  660265  29951670   660022      26843         243   \n",
       "3         France  25952226  143441  25803173   143307     149053         134   \n",
       "4        Germany  21394691  129695  21394747   129708          0           0   \n",
       "\n",
       "   Fatality Rate      Continent  \n",
       "0           1.23  North America  \n",
       "1           1.21           Asia  \n",
       "2           2.20  South America  \n",
       "3           0.55         Europe  \n",
       "4           0.61         Europe  "
      ]
     },
     "execution_count": 13,
     "metadata": {},
     "output_type": "execute_result"
    }
   ],
   "source": [
    "#hide\n",
    "for c in 'Cases, Deaths'.split(', '):\n",
    "    df_table[f'{c} (+)'] = (df_table[c] - df_table[f'P{c}']).clip(0)\n",
    "    #Clip ça veut dire, les chiffres negatif sont interdit\n",
    "df_table['Fatality Rate'] = (100* df_table['Deaths']/ df_table['Cases']).round(2)\n",
    "df_table['Continent'] = df_table['Country/Region'].map(mapping['map.continent'])\n",
    "df_table.head(5)"
   ]
  },
  {
   "cell_type": "code",
   "execution_count": 14,
   "id": "aboriginal-bulgaria",
   "metadata": {
    "execution": {
     "iopub.execute_input": "2022-04-02T12:13:55.213256Z",
     "iopub.status.busy": "2022-04-02T12:13:55.212605Z",
     "iopub.status.idle": "2022-04-02T12:13:55.216670Z",
     "shell.execute_reply": "2022-04-02T12:13:55.217174Z"
    },
    "papermill": {
     "duration": 0.051284,
     "end_time": "2022-04-02T12:13:55.217324",
     "exception": false,
     "start_time": "2022-04-02T12:13:55.166040",
     "status": "completed"
    },
    "tags": []
   },
   "outputs": [],
   "source": [
    "#hide\n",
    "#delete problematic countries from table\n",
    "df_table = df_table[~df_table['Country/Region'].isin(['Cape Verde', 'Cruise Ship', 'Kosovo'])]"
   ]
  },
  {
   "cell_type": "code",
   "execution_count": 15,
   "id": "fantastic-effect",
   "metadata": {
    "execution": {
     "iopub.execute_input": "2022-04-02T12:13:55.307539Z",
     "iopub.status.busy": "2022-04-02T12:13:55.306825Z",
     "iopub.status.idle": "2022-04-02T12:13:55.329205Z",
     "shell.execute_reply": "2022-04-02T12:13:55.329744Z"
    },
    "papermill": {
     "duration": 0.073959,
     "end_time": "2022-04-02T12:13:55.329895",
     "exception": false,
     "start_time": "2022-04-02T12:13:55.255936",
     "status": "completed"
    },
    "tags": []
   },
   "outputs": [
    {
     "data": {
      "text/html": [
       "<div>\n",
       "<style scoped>\n",
       "    .dataframe tbody tr th:only-of-type {\n",
       "        vertical-align: middle;\n",
       "    }\n",
       "\n",
       "    .dataframe tbody tr th {\n",
       "        vertical-align: top;\n",
       "    }\n",
       "\n",
       "    .dataframe thead th {\n",
       "        text-align: right;\n",
       "    }\n",
       "</style>\n",
       "<table border=\"1\" class=\"dataframe\">\n",
       "  <thead>\n",
       "    <tr style=\"text-align: right;\">\n",
       "      <th></th>\n",
       "      <th>Country/Region</th>\n",
       "      <th>Cases</th>\n",
       "      <th>Deaths</th>\n",
       "      <th>PCases</th>\n",
       "      <th>PDeaths</th>\n",
       "      <th>Cases (+)</th>\n",
       "      <th>Deaths (+)</th>\n",
       "      <th>Fatality Rate</th>\n",
       "      <th>Continent</th>\n",
       "    </tr>\n",
       "  </thead>\n",
       "  <tbody>\n",
       "    <tr>\n",
       "      <th>0</th>\n",
       "      <td>US</td>\n",
       "      <td>80140309</td>\n",
       "      <td>982371</td>\n",
       "      <td>80102065</td>\n",
       "      <td>980638</td>\n",
       "      <td>38244</td>\n",
       "      <td>1733</td>\n",
       "      <td>1.2</td>\n",
       "      <td>North America</td>\n",
       "    </tr>\n",
       "    <tr>\n",
       "      <th>1</th>\n",
       "      <td>India</td>\n",
       "      <td>43027035</td>\n",
       "      <td>521264</td>\n",
       "      <td>43025775</td>\n",
       "      <td>521181</td>\n",
       "      <td>1260</td>\n",
       "      <td>83</td>\n",
       "      <td>1.2</td>\n",
       "      <td>Asia</td>\n",
       "    </tr>\n",
       "    <tr>\n",
       "      <th>2</th>\n",
       "      <td>Brazil</td>\n",
       "      <td>29978513</td>\n",
       "      <td>660265</td>\n",
       "      <td>29951670</td>\n",
       "      <td>660022</td>\n",
       "      <td>26843</td>\n",
       "      <td>243</td>\n",
       "      <td>2.2</td>\n",
       "      <td>South America</td>\n",
       "    </tr>\n",
       "    <tr>\n",
       "      <th>3</th>\n",
       "      <td>France</td>\n",
       "      <td>25952226</td>\n",
       "      <td>143441</td>\n",
       "      <td>25803173</td>\n",
       "      <td>143307</td>\n",
       "      <td>149053</td>\n",
       "      <td>134</td>\n",
       "      <td>0.6</td>\n",
       "      <td>Europe</td>\n",
       "    </tr>\n",
       "    <tr>\n",
       "      <th>4</th>\n",
       "      <td>Germany</td>\n",
       "      <td>21394691</td>\n",
       "      <td>129695</td>\n",
       "      <td>21394747</td>\n",
       "      <td>129708</td>\n",
       "      <td>0</td>\n",
       "      <td>0</td>\n",
       "      <td>0.6</td>\n",
       "      <td>Europe</td>\n",
       "    </tr>\n",
       "  </tbody>\n",
       "</table>\n",
       "</div>"
      ],
      "text/plain": [
       "  Country/Region     Cases  Deaths    PCases  PDeaths  Cases (+)  Deaths (+)  \\\n",
       "0             US  80140309  982371  80102065   980638      38244        1733   \n",
       "1          India  43027035  521264  43025775   521181       1260          83   \n",
       "2         Brazil  29978513  660265  29951670   660022      26843         243   \n",
       "3         France  25952226  143441  25803173   143307     149053         134   \n",
       "4        Germany  21394691  129695  21394747   129708          0           0   \n",
       "\n",
       "   Fatality Rate      Continent  \n",
       "0            1.2  North America  \n",
       "1            1.2           Asia  \n",
       "2            2.2  South America  \n",
       "3            0.6         Europe  \n",
       "4            0.6         Europe  "
      ]
     },
     "execution_count": 15,
     "metadata": {},
     "output_type": "execute_result"
    }
   ],
   "source": [
    "#hide\n",
    "df_table = (pd.DataFrame(dict(Cases=dfc_cases, Deaths=dfc_deaths, PCases=dfp_cases, PDeaths=dfp_deaths))\n",
    "             .sort_values(by=['Cases', 'Deaths'], ascending=[False, False])\n",
    "             .reset_index())\n",
    "df_table.rename(columns={'index': 'Country/Region'}, inplace=True)\n",
    "for c in 'Cases, Deaths'.split(', '):\n",
    "    df_table[f'{c} (+)'] = (df_table[c] - df_table[f'P{c}']).clip(0)  # DATA BUG\n",
    "df_table['Fatality Rate'] = (100 * df_table['Deaths'] / df_table['Cases']).round(1)\n",
    "df_table['Continent'] = df_table['Country/Region'].map(mapping['map.continent'])\n",
    "df_table.head(5)"
   ]
  },
  {
   "cell_type": "code",
   "execution_count": 16,
   "id": "fewer-occasion",
   "metadata": {
    "execution": {
     "iopub.execute_input": "2022-04-02T12:13:55.428945Z",
     "iopub.status.busy": "2022-04-02T12:13:55.428223Z",
     "iopub.status.idle": "2022-04-02T12:13:55.432172Z",
     "shell.execute_reply": "2022-04-02T12:13:55.432726Z"
    },
    "papermill": {
     "duration": 0.063068,
     "end_time": "2022-04-02T12:13:55.432886",
     "exception": false,
     "start_time": "2022-04-02T12:13:55.369818",
     "status": "completed"
    },
    "tags": []
   },
   "outputs": [],
   "source": [
    "#hide\n",
    "#delete problematic countries from table\n",
    "df_table = df_table[~df_table['Country/Region'].isin(['Cape Verde', 'Cruise Ship', 'Kosovo'])]"
   ]
  },
  {
   "cell_type": "code",
   "execution_count": 17,
   "id": "related-center",
   "metadata": {
    "execution": {
     "iopub.execute_input": "2022-04-02T12:13:55.527875Z",
     "iopub.status.busy": "2022-04-02T12:13:55.527029Z",
     "iopub.status.idle": "2022-04-02T12:13:55.542474Z",
     "shell.execute_reply": "2022-04-02T12:13:55.541926Z"
    },
    "papermill": {
     "duration": 0.070509,
     "end_time": "2022-04-02T12:13:55.542615",
     "exception": false,
     "start_time": "2022-04-02T12:13:55.472106",
     "status": "completed"
    },
    "tags": []
   },
   "outputs": [],
   "source": [
    "#hide\n",
    "metrics = [df_table.columns[index] for index in [1,2,5,6]]\n",
    "# s_china = df_table[df_table['Country/Region'].eq('China')][metrics].sum().add_prefix('China ')\n",
    "s_us = df_table[df_table['Country/Region'].eq('US')][metrics].sum().add_prefix('US ')\n",
    "s_eu = df_table[df_table['Continent'].eq('Europe')][metrics].sum().add_prefix('EU ')\n",
    "s_ind = df_table[df_table['Country/Region'].eq('India')][metrics].sum().add_prefix('India ')\n",
    "summary = {'updated': pd.to_datetime(dt_today), 'since': pd.to_datetime(dt_yday)}\n",
    "summary = {'updated': pd.to_datetime(dt_today), 'since': pd.to_datetime(dt_yday)}\n",
    "summary = {**summary, **df_table[metrics].sum(), **s_ind, **s_us, **s_eu}"
   ]
  },
  {
   "cell_type": "code",
   "execution_count": 18,
   "id": "engaging-syndrome",
   "metadata": {
    "execution": {
     "iopub.execute_input": "2022-04-02T12:13:55.632090Z",
     "iopub.status.busy": "2022-04-02T12:13:55.631437Z",
     "iopub.status.idle": "2022-04-02T12:13:55.651693Z",
     "shell.execute_reply": "2022-04-02T12:13:55.650993Z"
    },
    "papermill": {
     "duration": 0.065207,
     "end_time": "2022-04-02T12:13:55.651837",
     "exception": false,
     "start_time": "2022-04-02T12:13:55.586630",
     "status": "completed"
    },
    "tags": []
   },
   "outputs": [],
   "source": [
    "#hide\n",
    "dft_ct_new_cases = dft_cases.groupby(COL_REGION)[dt_cols].sum().diff(axis=1).fillna(0).astype(int)"
   ]
  },
  {
   "cell_type": "code",
   "execution_count": 19,
   "id": "neutral-assignment",
   "metadata": {
    "execution": {
     "iopub.execute_input": "2022-04-02T12:13:55.744832Z",
     "iopub.status.busy": "2022-04-02T12:13:55.743671Z",
     "iopub.status.idle": "2022-04-02T12:13:55.746998Z",
     "shell.execute_reply": "2022-04-02T12:13:55.747833Z"
    },
    "papermill": {
     "duration": 0.052676,
     "end_time": "2022-04-02T12:13:55.747991",
     "exception": false,
     "start_time": "2022-04-02T12:13:55.695315",
     "status": "completed"
    },
    "tags": []
   },
   "outputs": [],
   "source": [
    "#hide\n",
    "everydaycases = dft_ct_new_cases.cumsum(axis=1)"
   ]
  },
  {
   "cell_type": "code",
   "execution_count": 20,
   "id": "parliamentary-calgary",
   "metadata": {
    "execution": {
     "iopub.execute_input": "2022-04-02T12:13:55.832214Z",
     "iopub.status.busy": "2022-04-02T12:13:55.831537Z",
     "iopub.status.idle": "2022-04-02T12:13:56.558261Z",
     "shell.execute_reply": "2022-04-02T12:13:56.557062Z"
    },
    "papermill": {
     "duration": 0.771407,
     "end_time": "2022-04-02T12:13:56.558428",
     "exception": false,
     "start_time": "2022-04-02T12:13:55.787021",
     "status": "completed"
    },
    "tags": []
   },
   "outputs": [],
   "source": [
    "#hide\n",
    "import pandas as pd\n",
    "import matplotlib.pyplot as plt\n",
    "import matplotlib.ticker as ticker\n",
    "import matplotlib.animation as animation\n",
    "from IPython.display import HTML"
   ]
  },
  {
   "cell_type": "code",
   "execution_count": 21,
   "id": "lasting-extraction",
   "metadata": {
    "execution": {
     "iopub.execute_input": "2022-04-02T12:13:56.643439Z",
     "iopub.status.busy": "2022-04-02T12:13:56.642770Z",
     "iopub.status.idle": "2022-04-02T12:13:56.649447Z",
     "shell.execute_reply": "2022-04-02T12:13:56.648885Z"
    },
    "papermill": {
     "duration": 0.051311,
     "end_time": "2022-04-02T12:13:56.649579",
     "exception": false,
     "start_time": "2022-04-02T12:13:56.598268",
     "status": "completed"
    },
    "tags": []
   },
   "outputs": [],
   "source": [
    "#hide\n",
    "t = everydaycases.stack()"
   ]
  },
  {
   "cell_type": "code",
   "execution_count": 22,
   "id": "premier-sleeve",
   "metadata": {
    "execution": {
     "iopub.execute_input": "2022-04-02T12:13:56.732770Z",
     "iopub.status.busy": "2022-04-02T12:13:56.732078Z",
     "iopub.status.idle": "2022-04-02T12:13:56.743934Z",
     "shell.execute_reply": "2022-04-02T12:13:56.744485Z"
    },
    "papermill": {
     "duration": 0.055387,
     "end_time": "2022-04-02T12:13:56.744647",
     "exception": false,
     "start_time": "2022-04-02T12:13:56.689260",
     "status": "completed"
    },
    "tags": []
   },
   "outputs": [],
   "source": [
    "#hide\n",
    "g = t.reset_index(['Country/Region'])"
   ]
  },
  {
   "cell_type": "code",
   "execution_count": 23,
   "id": "distributed-pittsburgh",
   "metadata": {
    "execution": {
     "iopub.execute_input": "2022-04-02T12:13:56.832946Z",
     "iopub.status.busy": "2022-04-02T12:13:56.831432Z",
     "iopub.status.idle": "2022-04-02T12:13:56.833683Z",
     "shell.execute_reply": "2022-04-02T12:13:56.834215Z"
    },
    "papermill": {
     "duration": 0.046152,
     "end_time": "2022-04-02T12:13:56.834360",
     "exception": false,
     "start_time": "2022-04-02T12:13:56.788208",
     "status": "completed"
    },
    "tags": []
   },
   "outputs": [],
   "source": [
    "#hide\n",
    "g.index.name = 'date'"
   ]
  },
  {
   "cell_type": "code",
   "execution_count": 24,
   "id": "naked-donor",
   "metadata": {
    "execution": {
     "iopub.execute_input": "2022-04-02T12:13:56.919858Z",
     "iopub.status.busy": "2022-04-02T12:13:56.919166Z",
     "iopub.status.idle": "2022-04-02T12:13:56.922097Z",
     "shell.execute_reply": "2022-04-02T12:13:56.921351Z"
    },
    "papermill": {
     "duration": 0.047888,
     "end_time": "2022-04-02T12:13:56.922227",
     "exception": false,
     "start_time": "2022-04-02T12:13:56.874339",
     "status": "completed"
    },
    "tags": []
   },
   "outputs": [],
   "source": [
    "# #hide\n",
    "# g = g.reset_index(['date'])"
   ]
  },
  {
   "cell_type": "code",
   "execution_count": 25,
   "id": "incomplete-mustang",
   "metadata": {
    "execution": {
     "iopub.execute_input": "2022-04-02T12:13:57.009593Z",
     "iopub.status.busy": "2022-04-02T12:13:57.008915Z",
     "iopub.status.idle": "2022-04-02T12:13:57.011791Z",
     "shell.execute_reply": "2022-04-02T12:13:57.011072Z"
    },
    "papermill": {
     "duration": 0.05014,
     "end_time": "2022-04-02T12:13:57.011932",
     "exception": false,
     "start_time": "2022-04-02T12:13:56.961792",
     "status": "completed"
    },
    "tags": []
   },
   "outputs": [],
   "source": [
    "#hide\n",
    "# g.head()"
   ]
  },
  {
   "cell_type": "code",
   "execution_count": 26,
   "id": "specific-kruger",
   "metadata": {
    "execution": {
     "iopub.execute_input": "2022-04-02T12:13:57.095756Z",
     "iopub.status.busy": "2022-04-02T12:13:57.094952Z",
     "iopub.status.idle": "2022-04-02T12:13:57.101423Z",
     "shell.execute_reply": "2022-04-02T12:13:57.101962Z"
    },
    "papermill": {
     "duration": 0.050442,
     "end_time": "2022-04-02T12:13:57.102113",
     "exception": false,
     "start_time": "2022-04-02T12:13:57.051671",
     "status": "completed"
    },
    "tags": []
   },
   "outputs": [],
   "source": [
    "#hide\n",
    "# g.columns = ['date','country','cases']"
   ]
  },
  {
   "cell_type": "code",
   "execution_count": 27,
   "id": "tender-conversion",
   "metadata": {
    "execution": {
     "iopub.execute_input": "2022-04-02T12:13:57.201570Z",
     "iopub.status.busy": "2022-04-02T12:13:57.200723Z",
     "iopub.status.idle": "2022-04-02T12:13:57.202966Z",
     "shell.execute_reply": "2022-04-02T12:13:57.202313Z"
    },
    "papermill": {
     "duration": 0.05412,
     "end_time": "2022-04-02T12:13:57.203095",
     "exception": false,
     "start_time": "2022-04-02T12:13:57.148975",
     "status": "completed"
    },
    "tags": []
   },
   "outputs": [],
   "source": [
    "#hide\n",
    "# g['continent'] = g.country"
   ]
  },
  {
   "cell_type": "code",
   "execution_count": 28,
   "id": "substantial-wilderness",
   "metadata": {
    "execution": {
     "iopub.execute_input": "2022-04-02T12:13:57.284788Z",
     "iopub.status.busy": "2022-04-02T12:13:57.284115Z",
     "iopub.status.idle": "2022-04-02T12:13:57.286928Z",
     "shell.execute_reply": "2022-04-02T12:13:57.286368Z"
    },
    "papermill": {
     "duration": 0.044975,
     "end_time": "2022-04-02T12:13:57.287060",
     "exception": false,
     "start_time": "2022-04-02T12:13:57.242085",
     "status": "completed"
    },
    "tags": []
   },
   "outputs": [],
   "source": [
    "#hide\n",
    "# cols = list(g.columns.values)"
   ]
  },
  {
   "cell_type": "code",
   "execution_count": 29,
   "id": "solved-farming",
   "metadata": {
    "execution": {
     "iopub.execute_input": "2022-04-02T12:13:57.369985Z",
     "iopub.status.busy": "2022-04-02T12:13:57.368497Z",
     "iopub.status.idle": "2022-04-02T12:13:57.371665Z",
     "shell.execute_reply": "2022-04-02T12:13:57.372370Z"
    },
    "papermill": {
     "duration": 0.046506,
     "end_time": "2022-04-02T12:13:57.372598",
     "exception": false,
     "start_time": "2022-04-02T12:13:57.326092",
     "status": "completed"
    },
    "tags": []
   },
   "outputs": [],
   "source": [
    "#hide\n",
    "# cols.insert(0, cols.pop())"
   ]
  },
  {
   "cell_type": "code",
   "execution_count": 30,
   "id": "executed-adoption",
   "metadata": {
    "execution": {
     "iopub.execute_input": "2022-04-02T12:13:57.461660Z",
     "iopub.status.busy": "2022-04-02T12:13:57.460992Z",
     "iopub.status.idle": "2022-04-02T12:13:57.466737Z",
     "shell.execute_reply": "2022-04-02T12:13:57.464304Z"
    },
    "papermill": {
     "duration": 0.051285,
     "end_time": "2022-04-02T12:13:57.466879",
     "exception": false,
     "start_time": "2022-04-02T12:13:57.415594",
     "status": "completed"
    },
    "tags": []
   },
   "outputs": [],
   "source": [
    "#hide\n",
    "# g = g[cols]"
   ]
  },
  {
   "cell_type": "code",
   "execution_count": 31,
   "id": "subject-dublin",
   "metadata": {
    "execution": {
     "iopub.execute_input": "2022-04-02T12:13:57.555461Z",
     "iopub.status.busy": "2022-04-02T12:13:57.554816Z",
     "iopub.status.idle": "2022-04-02T12:13:57.558670Z",
     "shell.execute_reply": "2022-04-02T12:13:57.558122Z"
    },
    "papermill": {
     "duration": 0.046852,
     "end_time": "2022-04-02T12:13:57.558798",
     "exception": false,
     "start_time": "2022-04-02T12:13:57.511946",
     "status": "completed"
    },
    "tags": []
   },
   "outputs": [],
   "source": [
    "#hide\n",
    "# g['continent'] = g['continent'].map(mapping['map.continent'])"
   ]
  },
  {
   "cell_type": "code",
   "execution_count": 32,
   "id": "freelance-scout",
   "metadata": {
    "execution": {
     "iopub.execute_input": "2022-04-02T12:13:57.654234Z",
     "iopub.status.busy": "2022-04-02T12:13:57.653554Z",
     "iopub.status.idle": "2022-04-02T12:13:57.657621Z",
     "shell.execute_reply": "2022-04-02T12:13:57.656954Z"
    },
    "papermill": {
     "duration": 0.05557,
     "end_time": "2022-04-02T12:13:57.657761",
     "exception": false,
     "start_time": "2022-04-02T12:13:57.602191",
     "status": "completed"
    },
    "tags": []
   },
   "outputs": [],
   "source": [
    "#hide\n",
    "# g.head()"
   ]
  },
  {
   "cell_type": "code",
   "execution_count": 33,
   "id": "limited-engine",
   "metadata": {
    "execution": {
     "iopub.execute_input": "2022-04-02T12:13:57.749387Z",
     "iopub.status.busy": "2022-04-02T12:13:57.748639Z",
     "iopub.status.idle": "2022-04-02T12:13:57.751333Z",
     "shell.execute_reply": "2022-04-02T12:13:57.750794Z"
    },
    "papermill": {
     "duration": 0.045818,
     "end_time": "2022-04-02T12:13:57.751468",
     "exception": false,
     "start_time": "2022-04-02T12:13:57.705650",
     "status": "completed"
    },
    "tags": []
   },
   "outputs": [],
   "source": [
    "# hide\n",
    "# g['date'] = g['date'].astype('datetime64[ns]')"
   ]
  },
  {
   "cell_type": "code",
   "execution_count": 34,
   "id": "sophisticated-supervisor",
   "metadata": {
    "execution": {
     "iopub.execute_input": "2022-04-02T12:13:57.833817Z",
     "iopub.status.busy": "2022-04-02T12:13:57.833126Z",
     "iopub.status.idle": "2022-04-02T12:13:57.836018Z",
     "shell.execute_reply": "2022-04-02T12:13:57.835485Z"
    },
    "papermill": {
     "duration": 0.045487,
     "end_time": "2022-04-02T12:13:57.836151",
     "exception": false,
     "start_time": "2022-04-02T12:13:57.790664",
     "status": "completed"
    },
    "tags": []
   },
   "outputs": [],
   "source": [
    "#hide\n",
    "# g['date'] = g.date.dt.dayofyear"
   ]
  },
  {
   "cell_type": "code",
   "execution_count": 35,
   "id": "inside-dubai",
   "metadata": {
    "execution": {
     "iopub.execute_input": "2022-04-02T12:13:57.921797Z",
     "iopub.status.busy": "2022-04-02T12:13:57.920985Z",
     "iopub.status.idle": "2022-04-02T12:13:57.923426Z",
     "shell.execute_reply": "2022-04-02T12:13:57.922705Z"
    },
    "papermill": {
     "duration": 0.048431,
     "end_time": "2022-04-02T12:13:57.923561",
     "exception": false,
     "start_time": "2022-04-02T12:13:57.875130",
     "status": "completed"
    },
    "tags": []
   },
   "outputs": [],
   "source": [
    "#hide\n",
    "# g = g.rename(columns= {'continent':'group','country':'name','cases':'value'})"
   ]
  },
  {
   "cell_type": "code",
   "execution_count": 36,
   "id": "fleet-motorcycle",
   "metadata": {
    "execution": {
     "iopub.execute_input": "2022-04-02T12:13:58.005131Z",
     "iopub.status.busy": "2022-04-02T12:13:58.004421Z",
     "iopub.status.idle": "2022-04-02T12:13:58.007293Z",
     "shell.execute_reply": "2022-04-02T12:13:58.006795Z"
    },
    "papermill": {
     "duration": 0.044483,
     "end_time": "2022-04-02T12:13:58.007406",
     "exception": false,
     "start_time": "2022-04-02T12:13:57.962923",
     "status": "completed"
    },
    "tags": []
   },
   "outputs": [],
   "source": [
    "#hide\n",
    "# cols = ['name','group','day','value']"
   ]
  },
  {
   "cell_type": "code",
   "execution_count": 37,
   "id": "continued-sleeping",
   "metadata": {
    "execution": {
     "iopub.execute_input": "2022-04-02T12:13:58.089879Z",
     "iopub.status.busy": "2022-04-02T12:13:58.089203Z",
     "iopub.status.idle": "2022-04-02T12:13:58.091477Z",
     "shell.execute_reply": "2022-04-02T12:13:58.091994Z"
    },
    "papermill": {
     "duration": 0.044884,
     "end_time": "2022-04-02T12:13:58.092145",
     "exception": false,
     "start_time": "2022-04-02T12:13:58.047261",
     "status": "completed"
    },
    "tags": []
   },
   "outputs": [],
   "source": [
    "#hide\n",
    "# g.rename(columns= {'date':'day'},inplace = True)"
   ]
  },
  {
   "cell_type": "code",
   "execution_count": 38,
   "id": "major-fight",
   "metadata": {
    "execution": {
     "iopub.execute_input": "2022-04-02T12:13:58.174571Z",
     "iopub.status.busy": "2022-04-02T12:13:58.173856Z",
     "iopub.status.idle": "2022-04-02T12:13:58.176630Z",
     "shell.execute_reply": "2022-04-02T12:13:58.175996Z"
    },
    "papermill": {
     "duration": 0.045591,
     "end_time": "2022-04-02T12:13:58.176764",
     "exception": false,
     "start_time": "2022-04-02T12:13:58.131173",
     "status": "completed"
    },
    "tags": []
   },
   "outputs": [],
   "source": [
    "#hide\n",
    "# g = g[cols]"
   ]
  },
  {
   "cell_type": "code",
   "execution_count": 39,
   "id": "structured-mobile",
   "metadata": {
    "execution": {
     "iopub.execute_input": "2022-04-02T12:13:58.260467Z",
     "iopub.status.busy": "2022-04-02T12:13:58.259747Z",
     "iopub.status.idle": "2022-04-02T12:13:58.261676Z",
     "shell.execute_reply": "2022-04-02T12:13:58.262333Z"
    },
    "papermill": {
     "duration": 0.04683,
     "end_time": "2022-04-02T12:13:58.262488",
     "exception": false,
     "start_time": "2022-04-02T12:13:58.215658",
     "status": "completed"
    },
    "tags": []
   },
   "outputs": [],
   "source": [
    "# #hide\n",
    "# g = g[g.group.notna()]"
   ]
  },
  {
   "cell_type": "code",
   "execution_count": 40,
   "id": "determined-closing",
   "metadata": {
    "execution": {
     "iopub.execute_input": "2022-04-02T12:13:58.349483Z",
     "iopub.status.busy": "2022-04-02T12:13:58.348783Z",
     "iopub.status.idle": "2022-04-02T12:13:58.351174Z",
     "shell.execute_reply": "2022-04-02T12:13:58.351708Z"
    },
    "papermill": {
     "duration": 0.045925,
     "end_time": "2022-04-02T12:13:58.351857",
     "exception": false,
     "start_time": "2022-04-02T12:13:58.305932",
     "status": "completed"
    },
    "tags": []
   },
   "outputs": [],
   "source": [
    "# #hide\n",
    "# colors = dict(zip(\n",
    "#     [\"Oceania\", \"Europe\", \"Asia\", \"South America\", \"Middle East\", \"North America\", \"Africa\"],\n",
    "#     [\"#adb0ff\", \"#ffb3ff\", \"#90d595\", \"#e48381\", \"#aafbff\", \"#f7bb5f\", \"#eafb50\"]\n",
    "# ))\n",
    "# group_lk = g.set_index('name')['group'].to_dict()"
   ]
  },
  {
   "cell_type": "code",
   "execution_count": null,
   "id": "gross-drinking",
   "metadata": {
    "papermill": {
     "duration": 0.03809,
     "end_time": "2022-04-02T12:13:58.433029",
     "exception": false,
     "start_time": "2022-04-02T12:13:58.394939",
     "status": "completed"
    },
    "tags": []
   },
   "outputs": [],
   "source": []
  },
  {
   "cell_type": "code",
   "execution_count": 41,
   "id": "subject-macintosh",
   "metadata": {
    "execution": {
     "iopub.execute_input": "2022-04-02T12:13:58.517003Z",
     "iopub.status.busy": "2022-04-02T12:13:58.516242Z",
     "iopub.status.idle": "2022-04-02T12:13:58.518856Z",
     "shell.execute_reply": "2022-04-02T12:13:58.518296Z"
    },
    "papermill": {
     "duration": 0.046649,
     "end_time": "2022-04-02T12:13:58.518986",
     "exception": false,
     "start_time": "2022-04-02T12:13:58.472337",
     "status": "completed"
    },
    "tags": []
   },
   "outputs": [],
   "source": [
    "# #hide\n",
    "# fig, ax = plt.subplots(figsize=(15, 8))\n",
    "\n",
    "# def draw_barchart(current_day):\n",
    "#     dff = g[g['day'].eq(current_day)].sort_values(by='value', ascending=True).tail(10)\n",
    "#     ax.clear()\n",
    "#     ax.barh(dff['name'], dff['value'], color=[colors[group_lk[x]] for x in dff['name']])\n",
    "#     dx = dff['value'].max() / 200\n",
    "    \n",
    "#     for i, (value, name) in enumerate(zip(dff['value'], dff['name'])):\n",
    "#         ax.text(value-dx, i,     name,           size=14, weight=600, ha='right', va='bottom')\n",
    "#         ax.text(value-dx, i-.25, group_lk[name], size=10, color='#444444', ha='right', va='baseline')\n",
    "#         ax.text(value+dx, i,     f'{value:,.0f}',  size=14, ha='left',  va='center')\n",
    "#     ax.text(1, 0.4, current_day, transform=ax.transAxes, color='#777777', size=46, ha='right', weight=800)\n",
    "#     ax.text(0, 1.06, 'Population (thousands)', transform=ax.transAxes, size=12, color='#777777')\n",
    "#     ax.xaxis.set_major_formatter(ticker.StrMethodFormatter('{x:,.0f}'))\n",
    "#     ax.xaxis.set_ticks_position('top')\n",
    "#     ax.tick_params(axis='x', colors='#777777', labelsize=12)\n",
    "#     ax.set_yticks([])\n",
    "#     ax.margins(0, 0.01)\n",
    "#     ax.grid(which='major', axis='x', linestyle='-')\n",
    "#     ax.set_axisbelow(True)\n",
    "    \n",
    "#     ax.text(0, 1.15, 'Coronavirus',\n",
    "#             transform=ax.transAxes, size=24, weight=600, ha='left', va='top')\n",
    "# #     ax.text(1, 0, 'by @pratapvardhan; credit @jburnmurdoch', transform=ax.transAxes, color='#777777', ha='right',\n",
    "# #             bbox=dict(facecolor='white', alpha=0.8, edgecolor='white'))\n",
    "#     plt.box(False)"
   ]
  },
  {
   "cell_type": "code",
   "execution_count": 42,
   "id": "sexual-wages",
   "metadata": {
    "execution": {
     "iopub.execute_input": "2022-04-02T12:13:58.605795Z",
     "iopub.status.busy": "2022-04-02T12:13:58.605064Z",
     "iopub.status.idle": "2022-04-02T12:13:58.607326Z",
     "shell.execute_reply": "2022-04-02T12:13:58.607853Z"
    },
    "papermill": {
     "duration": 0.049804,
     "end_time": "2022-04-02T12:13:58.607985",
     "exception": false,
     "start_time": "2022-04-02T12:13:58.558181",
     "status": "completed"
    },
    "tags": []
   },
   "outputs": [],
   "source": [
    "# #hide_input\n",
    "# fig, ax = plt.subplots(figsize=(15, 8))\n",
    "# animator = animation.FuncAnimation(fig, draw_barchart, frames=range(g.day.values.min(), g.day.values.max()))\n",
    "# HTML(animator.to_jshtml())\n",
    "# # or use animator.to_html5_video() or animator.save() "
   ]
  },
  {
   "cell_type": "code",
   "execution_count": null,
   "id": "australian-container",
   "metadata": {
    "papermill": {
     "duration": 0.043399,
     "end_time": "2022-04-02T12:13:58.690453",
     "exception": false,
     "start_time": "2022-04-02T12:13:58.647054",
     "status": "completed"
    },
    "tags": []
   },
   "outputs": [],
   "source": []
  },
  {
   "cell_type": "code",
   "execution_count": null,
   "id": "mediterranean-pontiac",
   "metadata": {
    "papermill": {
     "duration": 0.039564,
     "end_time": "2022-04-02T12:13:58.768920",
     "exception": false,
     "start_time": "2022-04-02T12:13:58.729356",
     "status": "completed"
    },
    "tags": []
   },
   "outputs": [],
   "source": []
  },
  {
   "cell_type": "code",
   "execution_count": null,
   "id": "aging-legislature",
   "metadata": {
    "papermill": {
     "duration": 0.038818,
     "end_time": "2022-04-02T12:13:58.850766",
     "exception": false,
     "start_time": "2022-04-02T12:13:58.811948",
     "status": "completed"
    },
    "tags": []
   },
   "outputs": [],
   "source": []
  }
 ],
 "metadata": {
  "kernelspec": {
   "display_name": "Python 3",
   "language": "python",
   "name": "python3"
  },
  "language_info": {
   "codemirror_mode": {
    "name": "ipython",
    "version": 3
   },
   "file_extension": ".py",
   "mimetype": "text/x-python",
   "name": "python",
   "nbconvert_exporter": "python",
   "pygments_lexer": "ipython3",
   "version": "3.6.15"
  },
  "papermill": {
   "duration": 7.781452,
   "end_time": "2022-04-02T12:13:59.313235",
   "environment_variables": {},
   "exception": null,
   "input_path": "2020-03-21-covid19exp.ipynb",
   "output_path": "2020-03-21-covid19exp.ipynb",
   "parameters": {},
   "start_time": "2022-04-02T12:13:51.531783",
   "version": "2.0.0"
  }
 },
 "nbformat": 4,
 "nbformat_minor": 5
}