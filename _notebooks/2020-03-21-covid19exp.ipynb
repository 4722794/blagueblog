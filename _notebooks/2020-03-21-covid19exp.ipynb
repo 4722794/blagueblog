{
 "cells": [
  {
   "cell_type": "markdown",
   "id": "muslim-click",
   "metadata": {
    "papermill": {
     "duration": 0.041181,
     "end_time": "2021-03-24T00:11:29.927275",
     "exception": false,
     "start_time": "2021-03-24T00:11:29.886094",
     "status": "completed"
    },
    "tags": []
   },
   "source": [
    "# COVID-19 Case Race\n",
    "> A race chart to see rising cases around the world\n",
    "\n",
    "- author: Hargun Oberoi\n",
    "- image: images/covid-overview.png\n",
    "- hide: false\n",
    "- badges: false"
   ]
  },
  {
   "cell_type": "code",
   "execution_count": 1,
   "id": "proof-material",
   "metadata": {
    "execution": {
     "iopub.execute_input": "2021-03-24T00:11:30.008378Z",
     "iopub.status.busy": "2021-03-24T00:11:30.007806Z",
     "iopub.status.idle": "2021-03-24T00:11:30.351293Z",
     "shell.execute_reply": "2021-03-24T00:11:30.350762Z"
    },
    "papermill": {
     "duration": 0.388477,
     "end_time": "2021-03-24T00:11:30.351433",
     "exception": false,
     "start_time": "2021-03-24T00:11:29.962956",
     "status": "completed"
    },
    "tags": []
   },
   "outputs": [],
   "source": [
    "#hide\n",
    "import numpy as np\n",
    "import pandas as pd\n",
    "from jinja2 import Template\n",
    "from IPython.display import HTML"
   ]
  },
  {
   "cell_type": "code",
   "execution_count": 2,
   "id": "developed-terminology",
   "metadata": {
    "execution": {
     "iopub.execute_input": "2021-03-24T00:11:30.425393Z",
     "iopub.status.busy": "2021-03-24T00:11:30.424736Z",
     "iopub.status.idle": "2021-03-24T00:11:30.427221Z",
     "shell.execute_reply": "2021-03-24T00:11:30.426676Z"
    },
    "papermill": {
     "duration": 0.0412,
     "end_time": "2021-03-24T00:11:30.427344",
     "exception": false,
     "start_time": "2021-03-24T00:11:30.386144",
     "status": "completed"
    },
    "tags": []
   },
   "outputs": [],
   "source": [
    "#hide\n",
    "\n",
    "# FETCH\n",
    "base_url = 'https://raw.githubusercontent.com/pratapvardhan/notebooks/master/covid19/'\n",
    "paths = {\n",
    "    'mapping': base_url + 'mapping_countries.csv',\n",
    "    'overview': base_url + 'overview.tpl'\n",
    "}"
   ]
  },
  {
   "cell_type": "code",
   "execution_count": 3,
   "id": "dynamic-saver",
   "metadata": {
    "execution": {
     "iopub.execute_input": "2021-03-24T00:11:30.514304Z",
     "iopub.status.busy": "2021-03-24T00:11:30.513597Z",
     "iopub.status.idle": "2021-03-24T00:11:30.517201Z",
     "shell.execute_reply": "2021-03-24T00:11:30.516401Z"
    },
    "papermill": {
     "duration": 0.051786,
     "end_time": "2021-03-24T00:11:30.517328",
     "exception": false,
     "start_time": "2021-03-24T00:11:30.465542",
     "status": "completed"
    },
    "tags": []
   },
   "outputs": [
    {
     "data": {
      "text/plain": [
       "'https://raw.githubusercontent.com/pratapvardhan/notebooks/master/covid19/mapping_countries.csv'"
      ]
     },
     "execution_count": 3,
     "metadata": {},
     "output_type": "execute_result"
    }
   ],
   "source": [
    "#hide\n",
    "paths['mapping']"
   ]
  },
  {
   "cell_type": "code",
   "execution_count": 4,
   "id": "urban-software",
   "metadata": {
    "execution": {
     "iopub.execute_input": "2021-03-24T00:11:30.599612Z",
     "iopub.status.busy": "2021-03-24T00:11:30.598994Z",
     "iopub.status.idle": "2021-03-24T00:11:30.603386Z",
     "shell.execute_reply": "2021-03-24T00:11:30.603861Z"
    },
    "papermill": {
     "duration": 0.050286,
     "end_time": "2021-03-24T00:11:30.604128",
     "exception": false,
     "start_time": "2021-03-24T00:11:30.553842",
     "status": "completed"
    },
    "tags": []
   },
   "outputs": [],
   "source": [
    "#hide\n",
    "def get_mappings(url):\n",
    "    df = pd.read_csv(url)\n",
    "    return {\n",
    "        'df': df,\n",
    "        'replace.country': dict(df.dropna(subset=['Name']).set_index('Country')['Name']),\n",
    "        'map.continent': dict(df.set_index('Name')['Continent'])\n",
    "    }"
   ]
  },
  {
   "cell_type": "code",
   "execution_count": 5,
   "id": "intimate-machinery",
   "metadata": {
    "execution": {
     "iopub.execute_input": "2021-03-24T00:11:30.684181Z",
     "iopub.status.busy": "2021-03-24T00:11:30.683568Z",
     "iopub.status.idle": "2021-03-24T00:11:30.710742Z",
     "shell.execute_reply": "2021-03-24T00:11:30.711265Z"
    },
    "papermill": {
     "duration": 0.070171,
     "end_time": "2021-03-24T00:11:30.711400",
     "exception": false,
     "start_time": "2021-03-24T00:11:30.641229",
     "status": "completed"
    },
    "tags": []
   },
   "outputs": [],
   "source": [
    "#hide\n",
    "mapping = get_mappings(paths['mapping'])"
   ]
  },
  {
   "cell_type": "code",
   "execution_count": 6,
   "id": "certified-tactics",
   "metadata": {
    "execution": {
     "iopub.execute_input": "2021-03-24T00:11:30.787748Z",
     "iopub.status.busy": "2021-03-24T00:11:30.787124Z",
     "iopub.status.idle": "2021-03-24T00:11:30.789633Z",
     "shell.execute_reply": "2021-03-24T00:11:30.789103Z"
    },
    "papermill": {
     "duration": 0.043451,
     "end_time": "2021-03-24T00:11:30.789770",
     "exception": false,
     "start_time": "2021-03-24T00:11:30.746319",
     "status": "completed"
    },
    "tags": []
   },
   "outputs": [],
   "source": [
    "#hide\n",
    "def get_template(path):\n",
    "    from urllib.parse import urlparse\n",
    "    if bool(urlparse(path).netloc):\n",
    "        from urllib.request import urlopen\n",
    "        return urlopen(path).read().decode('utf8')\n",
    "    return open(path).read()"
   ]
  },
  {
   "cell_type": "code",
   "execution_count": 7,
   "id": "realistic-blast",
   "metadata": {
    "execution": {
     "iopub.execute_input": "2021-03-24T00:11:30.862832Z",
     "iopub.status.busy": "2021-03-24T00:11:30.862176Z",
     "iopub.status.idle": "2021-03-24T00:11:30.864489Z",
     "shell.execute_reply": "2021-03-24T00:11:30.864015Z"
    },
    "papermill": {
     "duration": 0.040336,
     "end_time": "2021-03-24T00:11:30.864596",
     "exception": false,
     "start_time": "2021-03-24T00:11:30.824260",
     "status": "completed"
    },
    "tags": []
   },
   "outputs": [],
   "source": [
    "#hide\n",
    "def get_frame(name):\n",
    "    url = (\n",
    "        'https://raw.githubusercontent.com/CSSEGISandData/COVID-19/master/csse_covid_19_data/'\n",
    "        f'csse_covid_19_time_series/time_series_covid19_{name}_global.csv')\n",
    "    df = pd.read_csv(url)\n",
    "    # rename countries\n",
    "    df['Country/Region'] = df['Country/Region'].replace(mapping['replace.country'])\n",
    "    return df"
   ]
  },
  {
   "cell_type": "code",
   "execution_count": 8,
   "id": "affiliated-characterization",
   "metadata": {
    "execution": {
     "iopub.execute_input": "2021-03-24T00:11:30.943767Z",
     "iopub.status.busy": "2021-03-24T00:11:30.943099Z",
     "iopub.status.idle": "2021-03-24T00:11:30.945131Z",
     "shell.execute_reply": "2021-03-24T00:11:30.945613Z"
    },
    "papermill": {
     "duration": 0.046083,
     "end_time": "2021-03-24T00:11:30.945737",
     "exception": false,
     "start_time": "2021-03-24T00:11:30.899654",
     "status": "completed"
    },
    "tags": []
   },
   "outputs": [],
   "source": [
    "#hide\n",
    "def get_dates(df):\n",
    "    dt_cols = df.columns[~df.columns.isin(['Province/State', 'Country/Region', 'Lat', 'Long'])]\n",
    "    LAST_DATE_I = -1\n",
    "    # sometimes last column may be empty, then go backwards\n",
    "    for i in range(-1, -len(dt_cols), -1):\n",
    "        if not df[dt_cols[i]].fillna(0).eq(0).all():\n",
    "            LAST_DATE_I = i\n",
    "            break\n",
    "    return LAST_DATE_I, dt_cols"
   ]
  },
  {
   "cell_type": "code",
   "execution_count": 9,
   "id": "recent-optimization",
   "metadata": {
    "execution": {
     "iopub.execute_input": "2021-03-24T00:11:31.019535Z",
     "iopub.status.busy": "2021-03-24T00:11:31.018919Z",
     "iopub.status.idle": "2021-03-24T00:11:31.294108Z",
     "shell.execute_reply": "2021-03-24T00:11:31.293570Z"
    },
    "papermill": {
     "duration": 0.314271,
     "end_time": "2021-03-24T00:11:31.294288",
     "exception": false,
     "start_time": "2021-03-24T00:11:30.980017",
     "status": "completed"
    },
    "tags": []
   },
   "outputs": [],
   "source": [
    "#hide\n",
    "COL_REGION = 'Country/Region'\n",
    "# Confirmed, Recovered, Deaths\n",
    "df = get_frame('confirmed')\n",
    "# dft_: timeseries, dfc_: today country agg\n",
    "dft_cases = df\n",
    "dft_deaths = get_frame('deaths')\n",
    "dft_recovered = get_frame('recovered')\n",
    "LAST_DATE_I, dt_cols = get_dates(df)"
   ]
  },
  {
   "cell_type": "code",
   "execution_count": 10,
   "id": "absolute-copper",
   "metadata": {
    "execution": {
     "iopub.execute_input": "2021-03-24T00:11:31.379156Z",
     "iopub.status.busy": "2021-03-24T00:11:31.378480Z",
     "iopub.status.idle": "2021-03-24T00:11:31.380291Z",
     "shell.execute_reply": "2021-03-24T00:11:31.380847Z"
    },
    "papermill": {
     "duration": 0.047352,
     "end_time": "2021-03-24T00:11:31.380974",
     "exception": false,
     "start_time": "2021-03-24T00:11:31.333622",
     "status": "completed"
    },
    "tags": []
   },
   "outputs": [],
   "source": [
    "#hide\n",
    "LAST_DATE_I, dt_cols = get_dates(df)\n",
    "dt_today =dt_cols[LAST_DATE_I]\n",
    "# dt_5day = dt_cols[LAST_DATE_I - 5]\n",
    "dt_yday = dt_cols[LAST_DATE_I - 1]"
   ]
  },
  {
   "cell_type": "code",
   "execution_count": 11,
   "id": "restricted-sheriff",
   "metadata": {
    "execution": {
     "iopub.execute_input": "2021-03-24T00:11:31.462882Z",
     "iopub.status.busy": "2021-03-24T00:11:31.462207Z",
     "iopub.status.idle": "2021-03-24T00:11:31.466801Z",
     "shell.execute_reply": "2021-03-24T00:11:31.467498Z"
    },
    "papermill": {
     "duration": 0.051447,
     "end_time": "2021-03-24T00:11:31.467653",
     "exception": false,
     "start_time": "2021-03-24T00:11:31.416206",
     "status": "completed"
    },
    "tags": []
   },
   "outputs": [],
   "source": [
    "#hide\n",
    "dfc_cases = dft_cases.groupby(COL_REGION)[dt_today].sum()\n",
    "dfc_deaths = dft_deaths.groupby(COL_REGION)[dt_today].sum()\n",
    "# dfp_cases = dft_cases.groupby(COL_REGION)[dt_5day].sum()\n",
    "# dfp_deaths = dft_deaths.groupby(COL_REGION)[dt_5day].sum()\n",
    "dfp_cases = dft_cases.groupby(COL_REGION)[dt_yday].sum()\n",
    "dfp_deaths = dft_deaths.groupby(COL_REGION)[dt_yday].sum()"
   ]
  },
  {
   "cell_type": "code",
   "execution_count": 12,
   "id": "deluxe-hepatitis",
   "metadata": {
    "execution": {
     "iopub.execute_input": "2021-03-24T00:11:31.545578Z",
     "iopub.status.busy": "2021-03-24T00:11:31.544851Z",
     "iopub.status.idle": "2021-03-24T00:11:31.550790Z",
     "shell.execute_reply": "2021-03-24T00:11:31.550275Z"
    },
    "papermill": {
     "duration": 0.04544,
     "end_time": "2021-03-24T00:11:31.550909",
     "exception": false,
     "start_time": "2021-03-24T00:11:31.505469",
     "status": "completed"
    },
    "tags": []
   },
   "outputs": [],
   "source": [
    "#hide\n",
    "df_table = (pd.DataFrame(dict(Cases = dfc_cases, Deaths = dfc_deaths, PCases = dfp_cases, PDeaths = dfp_deaths))\n",
    "            .sort_values(by = ['Cases','Deaths'], ascending = [False, False])\n",
    "            .reset_index())"
   ]
  },
  {
   "cell_type": "code",
   "execution_count": 13,
   "id": "educational-chancellor",
   "metadata": {
    "execution": {
     "iopub.execute_input": "2021-03-24T00:11:31.622618Z",
     "iopub.status.busy": "2021-03-24T00:11:31.621951Z",
     "iopub.status.idle": "2021-03-24T00:11:31.647205Z",
     "shell.execute_reply": "2021-03-24T00:11:31.647738Z"
    },
    "papermill": {
     "duration": 0.06318,
     "end_time": "2021-03-24T00:11:31.647901",
     "exception": false,
     "start_time": "2021-03-24T00:11:31.584721",
     "status": "completed"
    },
    "tags": []
   },
   "outputs": [
    {
     "data": {
      "text/html": [
       "<div>\n",
       "<style scoped>\n",
       "    .dataframe tbody tr th:only-of-type {\n",
       "        vertical-align: middle;\n",
       "    }\n",
       "\n",
       "    .dataframe tbody tr th {\n",
       "        vertical-align: top;\n",
       "    }\n",
       "\n",
       "    .dataframe thead th {\n",
       "        text-align: right;\n",
       "    }\n",
       "</style>\n",
       "<table border=\"1\" class=\"dataframe\">\n",
       "  <thead>\n",
       "    <tr style=\"text-align: right;\">\n",
       "      <th></th>\n",
       "      <th>Country/Region</th>\n",
       "      <th>Cases</th>\n",
       "      <th>Deaths</th>\n",
       "      <th>PCases</th>\n",
       "      <th>PDeaths</th>\n",
       "      <th>Cases (+)</th>\n",
       "      <th>Deaths (+)</th>\n",
       "      <th>Fatality Rate</th>\n",
       "      <th>Continent</th>\n",
       "    </tr>\n",
       "  </thead>\n",
       "  <tbody>\n",
       "    <tr>\n",
       "      <th>0</th>\n",
       "      <td>US</td>\n",
       "      <td>29869514</td>\n",
       "      <td>542949</td>\n",
       "      <td>29818930</td>\n",
       "      <td>542359</td>\n",
       "      <td>50584</td>\n",
       "      <td>590</td>\n",
       "      <td>1.82</td>\n",
       "      <td>North America</td>\n",
       "    </tr>\n",
       "    <tr>\n",
       "      <th>1</th>\n",
       "      <td>Brazil</td>\n",
       "      <td>12047526</td>\n",
       "      <td>295425</td>\n",
       "      <td>11998233</td>\n",
       "      <td>294042</td>\n",
       "      <td>49293</td>\n",
       "      <td>1383</td>\n",
       "      <td>2.45</td>\n",
       "      <td>South America</td>\n",
       "    </tr>\n",
       "    <tr>\n",
       "      <th>2</th>\n",
       "      <td>India</td>\n",
       "      <td>11686796</td>\n",
       "      <td>160166</td>\n",
       "      <td>11646081</td>\n",
       "      <td>159967</td>\n",
       "      <td>40715</td>\n",
       "      <td>199</td>\n",
       "      <td>1.37</td>\n",
       "      <td>Asia</td>\n",
       "    </tr>\n",
       "    <tr>\n",
       "      <th>3</th>\n",
       "      <td>Russia</td>\n",
       "      <td>4416226</td>\n",
       "      <td>93812</td>\n",
       "      <td>4407031</td>\n",
       "      <td>93457</td>\n",
       "      <td>9195</td>\n",
       "      <td>355</td>\n",
       "      <td>2.12</td>\n",
       "      <td>Europe</td>\n",
       "    </tr>\n",
       "    <tr>\n",
       "      <th>4</th>\n",
       "      <td>France</td>\n",
       "      <td>4358910</td>\n",
       "      <td>92776</td>\n",
       "      <td>4277786</td>\n",
       "      <td>92119</td>\n",
       "      <td>81124</td>\n",
       "      <td>657</td>\n",
       "      <td>2.13</td>\n",
       "      <td>Europe</td>\n",
       "    </tr>\n",
       "  </tbody>\n",
       "</table>\n",
       "</div>"
      ],
      "text/plain": [
       "  Country/Region     Cases  Deaths    PCases  PDeaths  Cases (+)  Deaths (+)  \\\n",
       "0             US  29869514  542949  29818930   542359      50584         590   \n",
       "1         Brazil  12047526  295425  11998233   294042      49293        1383   \n",
       "2          India  11686796  160166  11646081   159967      40715         199   \n",
       "3         Russia   4416226   93812   4407031    93457       9195         355   \n",
       "4         France   4358910   92776   4277786    92119      81124         657   \n",
       "\n",
       "   Fatality Rate      Continent  \n",
       "0           1.82  North America  \n",
       "1           2.45  South America  \n",
       "2           1.37           Asia  \n",
       "3           2.12         Europe  \n",
       "4           2.13         Europe  "
      ]
     },
     "execution_count": 13,
     "metadata": {},
     "output_type": "execute_result"
    }
   ],
   "source": [
    "#hide\n",
    "for c in 'Cases, Deaths'.split(', '):\n",
    "    df_table[f'{c} (+)'] = (df_table[c] - df_table[f'P{c}']).clip(0)\n",
    "    #Clip ça veut dire, les chiffres negatif sont interdit\n",
    "df_table['Fatality Rate'] = (100* df_table['Deaths']/ df_table['Cases']).round(2)\n",
    "df_table['Continent'] = df_table['Country/Region'].map(mapping['map.continent'])\n",
    "df_table.head(5)"
   ]
  },
  {
   "cell_type": "code",
   "execution_count": 14,
   "id": "aboriginal-bulgaria",
   "metadata": {
    "execution": {
     "iopub.execute_input": "2021-03-24T00:11:31.735256Z",
     "iopub.status.busy": "2021-03-24T00:11:31.734521Z",
     "iopub.status.idle": "2021-03-24T00:11:31.739206Z",
     "shell.execute_reply": "2021-03-24T00:11:31.739802Z"
    },
    "papermill": {
     "duration": 0.05205,
     "end_time": "2021-03-24T00:11:31.739948",
     "exception": false,
     "start_time": "2021-03-24T00:11:31.687898",
     "status": "completed"
    },
    "tags": []
   },
   "outputs": [],
   "source": [
    "#hide\n",
    "#delete problematic countries from table\n",
    "df_table = df_table[~df_table['Country/Region'].isin(['Cape Verde', 'Cruise Ship', 'Kosovo'])]"
   ]
  },
  {
   "cell_type": "code",
   "execution_count": 15,
   "id": "fantastic-effect",
   "metadata": {
    "execution": {
     "iopub.execute_input": "2021-03-24T00:11:31.827658Z",
     "iopub.status.busy": "2021-03-24T00:11:31.826907Z",
     "iopub.status.idle": "2021-03-24T00:11:31.848409Z",
     "shell.execute_reply": "2021-03-24T00:11:31.847891Z"
    },
    "papermill": {
     "duration": 0.068672,
     "end_time": "2021-03-24T00:11:31.848541",
     "exception": false,
     "start_time": "2021-03-24T00:11:31.779869",
     "status": "completed"
    },
    "tags": []
   },
   "outputs": [
    {
     "data": {
      "text/html": [
       "<div>\n",
       "<style scoped>\n",
       "    .dataframe tbody tr th:only-of-type {\n",
       "        vertical-align: middle;\n",
       "    }\n",
       "\n",
       "    .dataframe tbody tr th {\n",
       "        vertical-align: top;\n",
       "    }\n",
       "\n",
       "    .dataframe thead th {\n",
       "        text-align: right;\n",
       "    }\n",
       "</style>\n",
       "<table border=\"1\" class=\"dataframe\">\n",
       "  <thead>\n",
       "    <tr style=\"text-align: right;\">\n",
       "      <th></th>\n",
       "      <th>Country/Region</th>\n",
       "      <th>Cases</th>\n",
       "      <th>Deaths</th>\n",
       "      <th>PCases</th>\n",
       "      <th>PDeaths</th>\n",
       "      <th>Cases (+)</th>\n",
       "      <th>Deaths (+)</th>\n",
       "      <th>Fatality Rate</th>\n",
       "      <th>Continent</th>\n",
       "    </tr>\n",
       "  </thead>\n",
       "  <tbody>\n",
       "    <tr>\n",
       "      <th>0</th>\n",
       "      <td>US</td>\n",
       "      <td>29869514</td>\n",
       "      <td>542949</td>\n",
       "      <td>29818930</td>\n",
       "      <td>542359</td>\n",
       "      <td>50584</td>\n",
       "      <td>590</td>\n",
       "      <td>1.8</td>\n",
       "      <td>North America</td>\n",
       "    </tr>\n",
       "    <tr>\n",
       "      <th>1</th>\n",
       "      <td>Brazil</td>\n",
       "      <td>12047526</td>\n",
       "      <td>295425</td>\n",
       "      <td>11998233</td>\n",
       "      <td>294042</td>\n",
       "      <td>49293</td>\n",
       "      <td>1383</td>\n",
       "      <td>2.5</td>\n",
       "      <td>South America</td>\n",
       "    </tr>\n",
       "    <tr>\n",
       "      <th>2</th>\n",
       "      <td>India</td>\n",
       "      <td>11686796</td>\n",
       "      <td>160166</td>\n",
       "      <td>11646081</td>\n",
       "      <td>159967</td>\n",
       "      <td>40715</td>\n",
       "      <td>199</td>\n",
       "      <td>1.4</td>\n",
       "      <td>Asia</td>\n",
       "    </tr>\n",
       "    <tr>\n",
       "      <th>3</th>\n",
       "      <td>Russia</td>\n",
       "      <td>4416226</td>\n",
       "      <td>93812</td>\n",
       "      <td>4407031</td>\n",
       "      <td>93457</td>\n",
       "      <td>9195</td>\n",
       "      <td>355</td>\n",
       "      <td>2.1</td>\n",
       "      <td>Europe</td>\n",
       "    </tr>\n",
       "    <tr>\n",
       "      <th>4</th>\n",
       "      <td>France</td>\n",
       "      <td>4358910</td>\n",
       "      <td>92776</td>\n",
       "      <td>4277786</td>\n",
       "      <td>92119</td>\n",
       "      <td>81124</td>\n",
       "      <td>657</td>\n",
       "      <td>2.1</td>\n",
       "      <td>Europe</td>\n",
       "    </tr>\n",
       "  </tbody>\n",
       "</table>\n",
       "</div>"
      ],
      "text/plain": [
       "  Country/Region     Cases  Deaths    PCases  PDeaths  Cases (+)  Deaths (+)  \\\n",
       "0             US  29869514  542949  29818930   542359      50584         590   \n",
       "1         Brazil  12047526  295425  11998233   294042      49293        1383   \n",
       "2          India  11686796  160166  11646081   159967      40715         199   \n",
       "3         Russia   4416226   93812   4407031    93457       9195         355   \n",
       "4         France   4358910   92776   4277786    92119      81124         657   \n",
       "\n",
       "   Fatality Rate      Continent  \n",
       "0            1.8  North America  \n",
       "1            2.5  South America  \n",
       "2            1.4           Asia  \n",
       "3            2.1         Europe  \n",
       "4            2.1         Europe  "
      ]
     },
     "execution_count": 15,
     "metadata": {},
     "output_type": "execute_result"
    }
   ],
   "source": [
    "#hide\n",
    "df_table = (pd.DataFrame(dict(Cases=dfc_cases, Deaths=dfc_deaths, PCases=dfp_cases, PDeaths=dfp_deaths))\n",
    "             .sort_values(by=['Cases', 'Deaths'], ascending=[False, False])\n",
    "             .reset_index())\n",
    "df_table.rename(columns={'index': 'Country/Region'}, inplace=True)\n",
    "for c in 'Cases, Deaths'.split(', '):\n",
    "    df_table[f'{c} (+)'] = (df_table[c] - df_table[f'P{c}']).clip(0)  # DATA BUG\n",
    "df_table['Fatality Rate'] = (100 * df_table['Deaths'] / df_table['Cases']).round(1)\n",
    "df_table['Continent'] = df_table['Country/Region'].map(mapping['map.continent'])\n",
    "df_table.head(5)"
   ]
  },
  {
   "cell_type": "code",
   "execution_count": 16,
   "id": "fewer-occasion",
   "metadata": {
    "execution": {
     "iopub.execute_input": "2021-03-24T00:11:31.936269Z",
     "iopub.status.busy": "2021-03-24T00:11:31.935627Z",
     "iopub.status.idle": "2021-03-24T00:11:31.937936Z",
     "shell.execute_reply": "2021-03-24T00:11:31.938456Z"
    },
    "papermill": {
     "duration": 0.04837,
     "end_time": "2021-03-24T00:11:31.938587",
     "exception": false,
     "start_time": "2021-03-24T00:11:31.890217",
     "status": "completed"
    },
    "tags": []
   },
   "outputs": [],
   "source": [
    "#hide\n",
    "#delete problematic countries from table\n",
    "df_table = df_table[~df_table['Country/Region'].isin(['Cape Verde', 'Cruise Ship', 'Kosovo'])]"
   ]
  },
  {
   "cell_type": "code",
   "execution_count": 17,
   "id": "related-center",
   "metadata": {
    "execution": {
     "iopub.execute_input": "2021-03-24T00:11:32.020040Z",
     "iopub.status.busy": "2021-03-24T00:11:32.019382Z",
     "iopub.status.idle": "2021-03-24T00:11:32.032672Z",
     "shell.execute_reply": "2021-03-24T00:11:32.033367Z"
    },
    "papermill": {
     "duration": 0.057386,
     "end_time": "2021-03-24T00:11:32.033512",
     "exception": false,
     "start_time": "2021-03-24T00:11:31.976126",
     "status": "completed"
    },
    "tags": []
   },
   "outputs": [],
   "source": [
    "#hide\n",
    "metrics = [df_table.columns[index] for index in [1,2,5,6]]\n",
    "# s_china = df_table[df_table['Country/Region'].eq('China')][metrics].sum().add_prefix('China ')\n",
    "s_us = df_table[df_table['Country/Region'].eq('US')][metrics].sum().add_prefix('US ')\n",
    "s_eu = df_table[df_table['Continent'].eq('Europe')][metrics].sum().add_prefix('EU ')\n",
    "s_ind = df_table[df_table['Country/Region'].eq('India')][metrics].sum().add_prefix('India ')\n",
    "summary = {'updated': pd.to_datetime(dt_today), 'since': pd.to_datetime(dt_yday)}\n",
    "summary = {'updated': pd.to_datetime(dt_today), 'since': pd.to_datetime(dt_yday)}\n",
    "summary = {**summary, **df_table[metrics].sum(), **s_ind, **s_us, **s_eu}"
   ]
  },
  {
   "cell_type": "code",
   "execution_count": 18,
   "id": "engaging-syndrome",
   "metadata": {
    "execution": {
     "iopub.execute_input": "2021-03-24T00:11:32.116483Z",
     "iopub.status.busy": "2021-03-24T00:11:32.115836Z",
     "iopub.status.idle": "2021-03-24T00:11:32.128404Z",
     "shell.execute_reply": "2021-03-24T00:11:32.127774Z"
    },
    "papermill": {
     "duration": 0.055692,
     "end_time": "2021-03-24T00:11:32.128546",
     "exception": false,
     "start_time": "2021-03-24T00:11:32.072854",
     "status": "completed"
    },
    "tags": []
   },
   "outputs": [],
   "source": [
    "#hide\n",
    "dft_ct_new_cases = dft_cases.groupby(COL_REGION)[dt_cols].sum().diff(axis=1).fillna(0).astype(int)"
   ]
  },
  {
   "cell_type": "code",
   "execution_count": 19,
   "id": "neutral-assignment",
   "metadata": {
    "execution": {
     "iopub.execute_input": "2021-03-24T00:11:32.214836Z",
     "iopub.status.busy": "2021-03-24T00:11:32.214186Z",
     "iopub.status.idle": "2021-03-24T00:11:32.216028Z",
     "shell.execute_reply": "2021-03-24T00:11:32.216542Z"
    },
    "papermill": {
     "duration": 0.050633,
     "end_time": "2021-03-24T00:11:32.216674",
     "exception": false,
     "start_time": "2021-03-24T00:11:32.166041",
     "status": "completed"
    },
    "tags": []
   },
   "outputs": [],
   "source": [
    "#hide\n",
    "everydaycases = dft_ct_new_cases.cumsum(axis=1)"
   ]
  },
  {
   "cell_type": "code",
   "execution_count": 20,
   "id": "parliamentary-calgary",
   "metadata": {
    "execution": {
     "iopub.execute_input": "2021-03-24T00:11:32.298362Z",
     "iopub.status.busy": "2021-03-24T00:11:32.297584Z",
     "iopub.status.idle": "2021-03-24T00:11:33.007195Z",
     "shell.execute_reply": "2021-03-24T00:11:33.006520Z"
    },
    "papermill": {
     "duration": 0.752632,
     "end_time": "2021-03-24T00:11:33.007342",
     "exception": false,
     "start_time": "2021-03-24T00:11:32.254710",
     "status": "completed"
    },
    "tags": []
   },
   "outputs": [],
   "source": [
    "#hide\n",
    "import pandas as pd\n",
    "import matplotlib.pyplot as plt\n",
    "import matplotlib.ticker as ticker\n",
    "import matplotlib.animation as animation\n",
    "from IPython.display import HTML"
   ]
  },
  {
   "cell_type": "code",
   "execution_count": 21,
   "id": "lasting-extraction",
   "metadata": {
    "execution": {
     "iopub.execute_input": "2021-03-24T00:11:33.090498Z",
     "iopub.status.busy": "2021-03-24T00:11:33.089835Z",
     "iopub.status.idle": "2021-03-24T00:11:33.094766Z",
     "shell.execute_reply": "2021-03-24T00:11:33.095646Z"
    },
    "papermill": {
     "duration": 0.050591,
     "end_time": "2021-03-24T00:11:33.095810",
     "exception": false,
     "start_time": "2021-03-24T00:11:33.045219",
     "status": "completed"
    },
    "tags": []
   },
   "outputs": [],
   "source": [
    "#hide\n",
    "t = everydaycases.stack()"
   ]
  },
  {
   "cell_type": "code",
   "execution_count": 22,
   "id": "premier-sleeve",
   "metadata": {
    "execution": {
     "iopub.execute_input": "2021-03-24T00:11:33.179053Z",
     "iopub.status.busy": "2021-03-24T00:11:33.178441Z",
     "iopub.status.idle": "2021-03-24T00:11:33.185066Z",
     "shell.execute_reply": "2021-03-24T00:11:33.185623Z"
    },
    "papermill": {
     "duration": 0.049537,
     "end_time": "2021-03-24T00:11:33.185753",
     "exception": false,
     "start_time": "2021-03-24T00:11:33.136216",
     "status": "completed"
    },
    "tags": []
   },
   "outputs": [],
   "source": [
    "#hide\n",
    "g = t.reset_index(['Country/Region'])"
   ]
  },
  {
   "cell_type": "code",
   "execution_count": 23,
   "id": "distributed-pittsburgh",
   "metadata": {
    "execution": {
     "iopub.execute_input": "2021-03-24T00:11:33.262631Z",
     "iopub.status.busy": "2021-03-24T00:11:33.261942Z",
     "iopub.status.idle": "2021-03-24T00:11:33.265437Z",
     "shell.execute_reply": "2021-03-24T00:11:33.264813Z"
    },
    "papermill": {
     "duration": 0.042129,
     "end_time": "2021-03-24T00:11:33.265554",
     "exception": false,
     "start_time": "2021-03-24T00:11:33.223425",
     "status": "completed"
    },
    "tags": []
   },
   "outputs": [],
   "source": [
    "#hide\n",
    "g.index.name = 'date'"
   ]
  },
  {
   "cell_type": "code",
   "execution_count": 24,
   "id": "naked-donor",
   "metadata": {
    "execution": {
     "iopub.execute_input": "2021-03-24T00:11:33.350979Z",
     "iopub.status.busy": "2021-03-24T00:11:33.350316Z",
     "iopub.status.idle": "2021-03-24T00:11:33.353065Z",
     "shell.execute_reply": "2021-03-24T00:11:33.353641Z"
    },
    "papermill": {
     "duration": 0.049194,
     "end_time": "2021-03-24T00:11:33.353800",
     "exception": false,
     "start_time": "2021-03-24T00:11:33.304606",
     "status": "completed"
    },
    "tags": []
   },
   "outputs": [],
   "source": [
    "# #hide\n",
    "# g = g.reset_index(['date'])"
   ]
  },
  {
   "cell_type": "code",
   "execution_count": 25,
   "id": "incomplete-mustang",
   "metadata": {
    "execution": {
     "iopub.execute_input": "2021-03-24T00:11:33.434877Z",
     "iopub.status.busy": "2021-03-24T00:11:33.434197Z",
     "iopub.status.idle": "2021-03-24T00:11:33.437796Z",
     "shell.execute_reply": "2021-03-24T00:11:33.437108Z"
    },
    "papermill": {
     "duration": 0.044735,
     "end_time": "2021-03-24T00:11:33.437920",
     "exception": false,
     "start_time": "2021-03-24T00:11:33.393185",
     "status": "completed"
    },
    "tags": []
   },
   "outputs": [],
   "source": [
    "#hide\n",
    "# g.head()"
   ]
  },
  {
   "cell_type": "code",
   "execution_count": 26,
   "id": "specific-kruger",
   "metadata": {
    "execution": {
     "iopub.execute_input": "2021-03-24T00:11:33.519765Z",
     "iopub.status.busy": "2021-03-24T00:11:33.518968Z",
     "iopub.status.idle": "2021-03-24T00:11:33.521783Z",
     "shell.execute_reply": "2021-03-24T00:11:33.521245Z"
    },
    "papermill": {
     "duration": 0.04383,
     "end_time": "2021-03-24T00:11:33.521908",
     "exception": false,
     "start_time": "2021-03-24T00:11:33.478078",
     "status": "completed"
    },
    "tags": []
   },
   "outputs": [],
   "source": [
    "#hide\n",
    "# g.columns = ['date','country','cases']"
   ]
  },
  {
   "cell_type": "code",
   "execution_count": 27,
   "id": "tender-conversion",
   "metadata": {
    "execution": {
     "iopub.execute_input": "2021-03-24T00:11:33.597681Z",
     "iopub.status.busy": "2021-03-24T00:11:33.597080Z",
     "iopub.status.idle": "2021-03-24T00:11:33.599465Z",
     "shell.execute_reply": "2021-03-24T00:11:33.599002Z"
    },
    "papermill": {
     "duration": 0.040773,
     "end_time": "2021-03-24T00:11:33.599578",
     "exception": false,
     "start_time": "2021-03-24T00:11:33.558805",
     "status": "completed"
    },
    "tags": []
   },
   "outputs": [],
   "source": [
    "#hide\n",
    "# g['continent'] = g.country"
   ]
  },
  {
   "cell_type": "code",
   "execution_count": 28,
   "id": "substantial-wilderness",
   "metadata": {
    "execution": {
     "iopub.execute_input": "2021-03-24T00:11:33.678662Z",
     "iopub.status.busy": "2021-03-24T00:11:33.677984Z",
     "iopub.status.idle": "2021-03-24T00:11:33.680209Z",
     "shell.execute_reply": "2021-03-24T00:11:33.680699Z"
    },
    "papermill": {
     "duration": 0.043993,
     "end_time": "2021-03-24T00:11:33.680855",
     "exception": false,
     "start_time": "2021-03-24T00:11:33.636862",
     "status": "completed"
    },
    "tags": []
   },
   "outputs": [],
   "source": [
    "#hide\n",
    "# cols = list(g.columns.values)"
   ]
  },
  {
   "cell_type": "code",
   "execution_count": 29,
   "id": "solved-farming",
   "metadata": {
    "execution": {
     "iopub.execute_input": "2021-03-24T00:11:33.758797Z",
     "iopub.status.busy": "2021-03-24T00:11:33.758167Z",
     "iopub.status.idle": "2021-03-24T00:11:33.760636Z",
     "shell.execute_reply": "2021-03-24T00:11:33.760109Z"
    },
    "papermill": {
     "duration": 0.043603,
     "end_time": "2021-03-24T00:11:33.760758",
     "exception": false,
     "start_time": "2021-03-24T00:11:33.717155",
     "status": "completed"
    },
    "tags": []
   },
   "outputs": [],
   "source": [
    "#hide\n",
    "# cols.insert(0, cols.pop())"
   ]
  },
  {
   "cell_type": "code",
   "execution_count": 30,
   "id": "executed-adoption",
   "metadata": {
    "execution": {
     "iopub.execute_input": "2021-03-24T00:11:33.842783Z",
     "iopub.status.busy": "2021-03-24T00:11:33.842079Z",
     "iopub.status.idle": "2021-03-24T00:11:33.844134Z",
     "shell.execute_reply": "2021-03-24T00:11:33.844705Z"
    },
    "papermill": {
     "duration": 0.046065,
     "end_time": "2021-03-24T00:11:33.844870",
     "exception": false,
     "start_time": "2021-03-24T00:11:33.798805",
     "status": "completed"
    },
    "tags": []
   },
   "outputs": [],
   "source": [
    "#hide\n",
    "# g = g[cols]"
   ]
  },
  {
   "cell_type": "code",
   "execution_count": 31,
   "id": "subject-dublin",
   "metadata": {
    "execution": {
     "iopub.execute_input": "2021-03-24T00:11:33.928555Z",
     "iopub.status.busy": "2021-03-24T00:11:33.927892Z",
     "iopub.status.idle": "2021-03-24T00:11:33.930474Z",
     "shell.execute_reply": "2021-03-24T00:11:33.929789Z"
    },
    "papermill": {
     "duration": 0.045144,
     "end_time": "2021-03-24T00:11:33.930615",
     "exception": false,
     "start_time": "2021-03-24T00:11:33.885471",
     "status": "completed"
    },
    "tags": []
   },
   "outputs": [],
   "source": [
    "#hide\n",
    "# g['continent'] = g['continent'].map(mapping['map.continent'])"
   ]
  },
  {
   "cell_type": "code",
   "execution_count": 32,
   "id": "freelance-scout",
   "metadata": {
    "execution": {
     "iopub.execute_input": "2021-03-24T00:11:34.012220Z",
     "iopub.status.busy": "2021-03-24T00:11:34.011593Z",
     "iopub.status.idle": "2021-03-24T00:11:34.015290Z",
     "shell.execute_reply": "2021-03-24T00:11:34.015791Z"
    },
    "papermill": {
     "duration": 0.045319,
     "end_time": "2021-03-24T00:11:34.015950",
     "exception": false,
     "start_time": "2021-03-24T00:11:33.970631",
     "status": "completed"
    },
    "tags": []
   },
   "outputs": [],
   "source": [
    "#hide\n",
    "# g.head()"
   ]
  },
  {
   "cell_type": "code",
   "execution_count": 33,
   "id": "limited-engine",
   "metadata": {
    "execution": {
     "iopub.execute_input": "2021-03-24T00:11:34.093882Z",
     "iopub.status.busy": "2021-03-24T00:11:34.092677Z",
     "iopub.status.idle": "2021-03-24T00:11:34.094519Z",
     "shell.execute_reply": "2021-03-24T00:11:34.095068Z"
    },
    "papermill": {
     "duration": 0.042515,
     "end_time": "2021-03-24T00:11:34.095254",
     "exception": false,
     "start_time": "2021-03-24T00:11:34.052739",
     "status": "completed"
    },
    "tags": []
   },
   "outputs": [],
   "source": [
    "# hide\n",
    "# g['date'] = g['date'].astype('datetime64[ns]')"
   ]
  },
  {
   "cell_type": "code",
   "execution_count": 34,
   "id": "sophisticated-supervisor",
   "metadata": {
    "execution": {
     "iopub.execute_input": "2021-03-24T00:11:34.174063Z",
     "iopub.status.busy": "2021-03-24T00:11:34.172971Z",
     "iopub.status.idle": "2021-03-24T00:11:34.177626Z",
     "shell.execute_reply": "2021-03-24T00:11:34.177053Z"
    },
    "papermill": {
     "duration": 0.045251,
     "end_time": "2021-03-24T00:11:34.177764",
     "exception": false,
     "start_time": "2021-03-24T00:11:34.132513",
     "status": "completed"
    },
    "tags": []
   },
   "outputs": [],
   "source": [
    "#hide\n",
    "# g['date'] = g.date.dt.dayofyear"
   ]
  },
  {
   "cell_type": "code",
   "execution_count": 35,
   "id": "inside-dubai",
   "metadata": {
    "execution": {
     "iopub.execute_input": "2021-03-24T00:11:34.258067Z",
     "iopub.status.busy": "2021-03-24T00:11:34.257423Z",
     "iopub.status.idle": "2021-03-24T00:11:34.261364Z",
     "shell.execute_reply": "2021-03-24T00:11:34.260813Z"
    },
    "papermill": {
     "duration": 0.045183,
     "end_time": "2021-03-24T00:11:34.261484",
     "exception": false,
     "start_time": "2021-03-24T00:11:34.216301",
     "status": "completed"
    },
    "tags": []
   },
   "outputs": [],
   "source": [
    "#hide\n",
    "# g = g.rename(columns= {'continent':'group','country':'name','cases':'value'})"
   ]
  },
  {
   "cell_type": "code",
   "execution_count": 36,
   "id": "fleet-motorcycle",
   "metadata": {
    "execution": {
     "iopub.execute_input": "2021-03-24T00:11:34.339994Z",
     "iopub.status.busy": "2021-03-24T00:11:34.339388Z",
     "iopub.status.idle": "2021-03-24T00:11:34.342892Z",
     "shell.execute_reply": "2021-03-24T00:11:34.343360Z"
    },
    "papermill": {
     "duration": 0.045071,
     "end_time": "2021-03-24T00:11:34.343493",
     "exception": false,
     "start_time": "2021-03-24T00:11:34.298422",
     "status": "completed"
    },
    "tags": []
   },
   "outputs": [],
   "source": [
    "#hide\n",
    "# cols = ['name','group','day','value']"
   ]
  },
  {
   "cell_type": "code",
   "execution_count": 37,
   "id": "continued-sleeping",
   "metadata": {
    "execution": {
     "iopub.execute_input": "2021-03-24T00:11:34.417584Z",
     "iopub.status.busy": "2021-03-24T00:11:34.416933Z",
     "iopub.status.idle": "2021-03-24T00:11:34.420353Z",
     "shell.execute_reply": "2021-03-24T00:11:34.420796Z"
    },
    "papermill": {
     "duration": 0.043008,
     "end_time": "2021-03-24T00:11:34.420944",
     "exception": false,
     "start_time": "2021-03-24T00:11:34.377936",
     "status": "completed"
    },
    "tags": []
   },
   "outputs": [],
   "source": [
    "#hide\n",
    "# g.rename(columns= {'date':'day'},inplace = True)"
   ]
  },
  {
   "cell_type": "code",
   "execution_count": 38,
   "id": "major-fight",
   "metadata": {
    "execution": {
     "iopub.execute_input": "2021-03-24T00:11:34.499685Z",
     "iopub.status.busy": "2021-03-24T00:11:34.498329Z",
     "iopub.status.idle": "2021-03-24T00:11:34.500412Z",
     "shell.execute_reply": "2021-03-24T00:11:34.500944Z"
    },
    "papermill": {
     "duration": 0.043911,
     "end_time": "2021-03-24T00:11:34.501095",
     "exception": false,
     "start_time": "2021-03-24T00:11:34.457184",
     "status": "completed"
    },
    "tags": []
   },
   "outputs": [],
   "source": [
    "#hide\n",
    "# g = g[cols]"
   ]
  },
  {
   "cell_type": "code",
   "execution_count": 39,
   "id": "structured-mobile",
   "metadata": {
    "execution": {
     "iopub.execute_input": "2021-03-24T00:11:34.580448Z",
     "iopub.status.busy": "2021-03-24T00:11:34.579787Z",
     "iopub.status.idle": "2021-03-24T00:11:34.582621Z",
     "shell.execute_reply": "2021-03-24T00:11:34.582044Z"
    },
    "papermill": {
     "duration": 0.044193,
     "end_time": "2021-03-24T00:11:34.582741",
     "exception": false,
     "start_time": "2021-03-24T00:11:34.538548",
     "status": "completed"
    },
    "tags": []
   },
   "outputs": [],
   "source": [
    "# #hide\n",
    "# g = g[g.group.notna()]"
   ]
  },
  {
   "cell_type": "code",
   "execution_count": 40,
   "id": "determined-closing",
   "metadata": {
    "execution": {
     "iopub.execute_input": "2021-03-24T00:11:34.662785Z",
     "iopub.status.busy": "2021-03-24T00:11:34.662160Z",
     "iopub.status.idle": "2021-03-24T00:11:34.664615Z",
     "shell.execute_reply": "2021-03-24T00:11:34.664040Z"
    },
    "papermill": {
     "duration": 0.040743,
     "end_time": "2021-03-24T00:11:34.664728",
     "exception": false,
     "start_time": "2021-03-24T00:11:34.623985",
     "status": "completed"
    },
    "tags": []
   },
   "outputs": [],
   "source": [
    "# #hide\n",
    "# colors = dict(zip(\n",
    "#     [\"Oceania\", \"Europe\", \"Asia\", \"South America\", \"Middle East\", \"North America\", \"Africa\"],\n",
    "#     [\"#adb0ff\", \"#ffb3ff\", \"#90d595\", \"#e48381\", \"#aafbff\", \"#f7bb5f\", \"#eafb50\"]\n",
    "# ))\n",
    "# group_lk = g.set_index('name')['group'].to_dict()"
   ]
  },
  {
   "cell_type": "code",
   "execution_count": null,
   "id": "gross-drinking",
   "metadata": {
    "papermill": {
     "duration": 0.037943,
     "end_time": "2021-03-24T00:11:34.740143",
     "exception": false,
     "start_time": "2021-03-24T00:11:34.702200",
     "status": "completed"
    },
    "tags": []
   },
   "outputs": [],
   "source": []
  },
  {
   "cell_type": "code",
   "execution_count": 41,
   "id": "subject-macintosh",
   "metadata": {
    "execution": {
     "iopub.execute_input": "2021-03-24T00:11:34.818382Z",
     "iopub.status.busy": "2021-03-24T00:11:34.817771Z",
     "iopub.status.idle": "2021-03-24T00:11:34.819645Z",
     "shell.execute_reply": "2021-03-24T00:11:34.820112Z"
    },
    "papermill": {
     "duration": 0.043147,
     "end_time": "2021-03-24T00:11:34.820240",
     "exception": false,
     "start_time": "2021-03-24T00:11:34.777093",
     "status": "completed"
    },
    "tags": []
   },
   "outputs": [],
   "source": [
    "# #hide\n",
    "# fig, ax = plt.subplots(figsize=(15, 8))\n",
    "\n",
    "# def draw_barchart(current_day):\n",
    "#     dff = g[g['day'].eq(current_day)].sort_values(by='value', ascending=True).tail(10)\n",
    "#     ax.clear()\n",
    "#     ax.barh(dff['name'], dff['value'], color=[colors[group_lk[x]] for x in dff['name']])\n",
    "#     dx = dff['value'].max() / 200\n",
    "    \n",
    "#     for i, (value, name) in enumerate(zip(dff['value'], dff['name'])):\n",
    "#         ax.text(value-dx, i,     name,           size=14, weight=600, ha='right', va='bottom')\n",
    "#         ax.text(value-dx, i-.25, group_lk[name], size=10, color='#444444', ha='right', va='baseline')\n",
    "#         ax.text(value+dx, i,     f'{value:,.0f}',  size=14, ha='left',  va='center')\n",
    "#     ax.text(1, 0.4, current_day, transform=ax.transAxes, color='#777777', size=46, ha='right', weight=800)\n",
    "#     ax.text(0, 1.06, 'Population (thousands)', transform=ax.transAxes, size=12, color='#777777')\n",
    "#     ax.xaxis.set_major_formatter(ticker.StrMethodFormatter('{x:,.0f}'))\n",
    "#     ax.xaxis.set_ticks_position('top')\n",
    "#     ax.tick_params(axis='x', colors='#777777', labelsize=12)\n",
    "#     ax.set_yticks([])\n",
    "#     ax.margins(0, 0.01)\n",
    "#     ax.grid(which='major', axis='x', linestyle='-')\n",
    "#     ax.set_axisbelow(True)\n",
    "    \n",
    "#     ax.text(0, 1.15, 'Coronavirus',\n",
    "#             transform=ax.transAxes, size=24, weight=600, ha='left', va='top')\n",
    "# #     ax.text(1, 0, 'by @pratapvardhan; credit @jburnmurdoch', transform=ax.transAxes, color='#777777', ha='right',\n",
    "# #             bbox=dict(facecolor='white', alpha=0.8, edgecolor='white'))\n",
    "#     plt.box(False)"
   ]
  },
  {
   "cell_type": "code",
   "execution_count": 42,
   "id": "sexual-wages",
   "metadata": {
    "execution": {
     "iopub.execute_input": "2021-03-24T00:11:34.895466Z",
     "iopub.status.busy": "2021-03-24T00:11:34.894870Z",
     "iopub.status.idle": "2021-03-24T00:11:34.897220Z",
     "shell.execute_reply": "2021-03-24T00:11:34.896638Z"
    },
    "papermill": {
     "duration": 0.040666,
     "end_time": "2021-03-24T00:11:34.897335",
     "exception": false,
     "start_time": "2021-03-24T00:11:34.856669",
     "status": "completed"
    },
    "tags": []
   },
   "outputs": [],
   "source": [
    "# #hide_input\n",
    "# fig, ax = plt.subplots(figsize=(15, 8))\n",
    "# animator = animation.FuncAnimation(fig, draw_barchart, frames=range(g.day.values.min(), g.day.values.max()))\n",
    "# HTML(animator.to_jshtml())\n",
    "# # or use animator.to_html5_video() or animator.save() "
   ]
  },
  {
   "cell_type": "code",
   "execution_count": null,
   "id": "australian-container",
   "metadata": {
    "papermill": {
     "duration": 0.036431,
     "end_time": "2021-03-24T00:11:34.969155",
     "exception": false,
     "start_time": "2021-03-24T00:11:34.932724",
     "status": "completed"
    },
    "tags": []
   },
   "outputs": [],
   "source": []
  },
  {
   "cell_type": "code",
   "execution_count": null,
   "id": "mediterranean-pontiac",
   "metadata": {
    "papermill": {
     "duration": 0.035607,
     "end_time": "2021-03-24T00:11:35.039679",
     "exception": false,
     "start_time": "2021-03-24T00:11:35.004072",
     "status": "completed"
    },
    "tags": []
   },
   "outputs": [],
   "source": []
  },
  {
   "cell_type": "code",
   "execution_count": null,
   "id": "aging-legislature",
   "metadata": {
    "papermill": {
     "duration": 0.036718,
     "end_time": "2021-03-24T00:11:35.117348",
     "exception": false,
     "start_time": "2021-03-24T00:11:35.080630",
     "status": "completed"
    },
    "tags": []
   },
   "outputs": [],
   "source": []
  }
 ],
 "metadata": {
  "kernelspec": {
   "display_name": "Python 3",
   "language": "python",
   "name": "python3"
  },
  "language_info": {
   "codemirror_mode": {
    "name": "ipython",
    "version": 3
   },
   "file_extension": ".py",
   "mimetype": "text/x-python",
   "name": "python",
   "nbconvert_exporter": "python",
   "pygments_lexer": "ipython3",
   "version": "3.6.13"
  },
  "papermill": {
   "duration": 6.681335,
   "end_time": "2021-03-24T00:11:35.462588",
   "environment_variables": {},
   "exception": null,
   "input_path": "2020-03-21-covid19exp.ipynb",
   "output_path": "2020-03-21-covid19exp.ipynb",
   "parameters": {},
   "start_time": "2021-03-24T00:11:28.781253",
   "version": "2.0.0"
  }
 },
 "nbformat": 4,
 "nbformat_minor": 5
}