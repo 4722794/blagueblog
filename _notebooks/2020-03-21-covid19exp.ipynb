{
 "cells": [
  {
   "cell_type": "markdown",
   "id": "muslim-click",
   "metadata": {
    "papermill": {
     "duration": 0.034732,
     "end_time": "2022-10-28T00:54:16.957946",
     "exception": false,
     "start_time": "2022-10-28T00:54:16.923214",
     "status": "completed"
    },
    "tags": []
   },
   "source": [
    "# COVID-19 Case Race\n",
    "> A race chart to see rising cases around the world\n",
    "\n",
    "- author: Hargun Oberoi\n",
    "- image: images/covid-overview.png\n",
    "- hide: false\n",
    "- badges: false"
   ]
  },
  {
   "cell_type": "code",
   "execution_count": 1,
   "id": "proof-material",
   "metadata": {
    "execution": {
     "iopub.execute_input": "2022-10-28T00:54:17.027753Z",
     "iopub.status.busy": "2022-10-28T00:54:17.027182Z",
     "iopub.status.idle": "2022-10-28T00:54:17.336420Z",
     "shell.execute_reply": "2022-10-28T00:54:17.335942Z"
    },
    "papermill": {
     "duration": 0.348084,
     "end_time": "2022-10-28T00:54:17.336547",
     "exception": false,
     "start_time": "2022-10-28T00:54:16.988463",
     "status": "completed"
    },
    "tags": []
   },
   "outputs": [],
   "source": [
    "#hide\n",
    "import numpy as np\n",
    "import pandas as pd\n",
    "from jinja2 import Template\n",
    "from IPython.display import HTML"
   ]
  },
  {
   "cell_type": "code",
   "execution_count": 2,
   "id": "developed-terminology",
   "metadata": {
    "execution": {
     "iopub.execute_input": "2022-10-28T00:54:17.401038Z",
     "iopub.status.busy": "2022-10-28T00:54:17.400427Z",
     "iopub.status.idle": "2022-10-28T00:54:17.402765Z",
     "shell.execute_reply": "2022-10-28T00:54:17.402244Z"
    },
    "papermill": {
     "duration": 0.036009,
     "end_time": "2022-10-28T00:54:17.402861",
     "exception": false,
     "start_time": "2022-10-28T00:54:17.366852",
     "status": "completed"
    },
    "tags": []
   },
   "outputs": [],
   "source": [
    "#hide\n",
    "\n",
    "# FETCH\n",
    "base_url = 'https://raw.githubusercontent.com/pratapvardhan/notebooks/master/covid19/'\n",
    "paths = {\n",
    "    'mapping': base_url + 'mapping_countries.csv',\n",
    "    'overview': base_url + 'overview.tpl'\n",
    "}"
   ]
  },
  {
   "cell_type": "code",
   "execution_count": 3,
   "id": "dynamic-saver",
   "metadata": {
    "execution": {
     "iopub.execute_input": "2022-10-28T00:54:17.470622Z",
     "iopub.status.busy": "2022-10-28T00:54:17.470062Z",
     "iopub.status.idle": "2022-10-28T00:54:17.473068Z",
     "shell.execute_reply": "2022-10-28T00:54:17.473520Z"
    },
    "papermill": {
     "duration": 0.04115,
     "end_time": "2022-10-28T00:54:17.473633",
     "exception": false,
     "start_time": "2022-10-28T00:54:17.432483",
     "status": "completed"
    },
    "tags": []
   },
   "outputs": [
    {
     "data": {
      "text/plain": [
       "'https://raw.githubusercontent.com/pratapvardhan/notebooks/master/covid19/mapping_countries.csv'"
      ]
     },
     "execution_count": 3,
     "metadata": {},
     "output_type": "execute_result"
    }
   ],
   "source": [
    "#hide\n",
    "paths['mapping']"
   ]
  },
  {
   "cell_type": "code",
   "execution_count": 4,
   "id": "urban-software",
   "metadata": {
    "execution": {
     "iopub.execute_input": "2022-10-28T00:54:17.539124Z",
     "iopub.status.busy": "2022-10-28T00:54:17.538561Z",
     "iopub.status.idle": "2022-10-28T00:54:17.540284Z",
     "shell.execute_reply": "2022-10-28T00:54:17.540679Z"
    },
    "papermill": {
     "duration": 0.036984,
     "end_time": "2022-10-28T00:54:17.540813",
     "exception": false,
     "start_time": "2022-10-28T00:54:17.503829",
     "status": "completed"
    },
    "tags": []
   },
   "outputs": [],
   "source": [
    "#hide\n",
    "def get_mappings(url):\n",
    "    df = pd.read_csv(url)\n",
    "    return {\n",
    "        'df': df,\n",
    "        'replace.country': dict(df.dropna(subset=['Name']).set_index('Country')['Name']),\n",
    "        'map.continent': dict(df.set_index('Name')['Continent'])\n",
    "    }"
   ]
  },
  {
   "cell_type": "code",
   "execution_count": 5,
   "id": "intimate-machinery",
   "metadata": {
    "execution": {
     "iopub.execute_input": "2022-10-28T00:54:17.605556Z",
     "iopub.status.busy": "2022-10-28T00:54:17.604995Z",
     "iopub.status.idle": "2022-10-28T00:54:17.641871Z",
     "shell.execute_reply": "2022-10-28T00:54:17.641416Z"
    },
    "papermill": {
     "duration": 0.071213,
     "end_time": "2022-10-28T00:54:17.641969",
     "exception": false,
     "start_time": "2022-10-28T00:54:17.570756",
     "status": "completed"
    },
    "tags": []
   },
   "outputs": [],
   "source": [
    "#hide\n",
    "mapping = get_mappings(paths['mapping'])"
   ]
  },
  {
   "cell_type": "code",
   "execution_count": 6,
   "id": "certified-tactics",
   "metadata": {
    "execution": {
     "iopub.execute_input": "2022-10-28T00:54:17.706623Z",
     "iopub.status.busy": "2022-10-28T00:54:17.706051Z",
     "iopub.status.idle": "2022-10-28T00:54:17.708470Z",
     "shell.execute_reply": "2022-10-28T00:54:17.708020Z"
    },
    "papermill": {
     "duration": 0.036554,
     "end_time": "2022-10-28T00:54:17.708568",
     "exception": false,
     "start_time": "2022-10-28T00:54:17.672014",
     "status": "completed"
    },
    "tags": []
   },
   "outputs": [],
   "source": [
    "#hide\n",
    "def get_template(path):\n",
    "    from urllib.parse import urlparse\n",
    "    if bool(urlparse(path).netloc):\n",
    "        from urllib.request import urlopen\n",
    "        return urlopen(path).read().decode('utf8')\n",
    "    return open(path).read()"
   ]
  },
  {
   "cell_type": "code",
   "execution_count": 7,
   "id": "realistic-blast",
   "metadata": {
    "execution": {
     "iopub.execute_input": "2022-10-28T00:54:17.774050Z",
     "iopub.status.busy": "2022-10-28T00:54:17.773493Z",
     "iopub.status.idle": "2022-10-28T00:54:17.775391Z",
     "shell.execute_reply": "2022-10-28T00:54:17.775801Z"
    },
    "papermill": {
     "duration": 0.03702,
     "end_time": "2022-10-28T00:54:17.775911",
     "exception": false,
     "start_time": "2022-10-28T00:54:17.738891",
     "status": "completed"
    },
    "tags": []
   },
   "outputs": [],
   "source": [
    "#hide\n",
    "def get_frame(name):\n",
    "    url = (\n",
    "        'https://raw.githubusercontent.com/CSSEGISandData/COVID-19/master/csse_covid_19_data/'\n",
    "        f'csse_covid_19_time_series/time_series_covid19_{name}_global.csv')\n",
    "    df = pd.read_csv(url)\n",
    "    # rename countries\n",
    "    df['Country/Region'] = df['Country/Region'].replace(mapping['replace.country'])\n",
    "    return df"
   ]
  },
  {
   "cell_type": "code",
   "execution_count": 8,
   "id": "affiliated-characterization",
   "metadata": {
    "execution": {
     "iopub.execute_input": "2022-10-28T00:54:17.842084Z",
     "iopub.status.busy": "2022-10-28T00:54:17.841509Z",
     "iopub.status.idle": "2022-10-28T00:54:17.844688Z",
     "shell.execute_reply": "2022-10-28T00:54:17.845157Z"
    },
    "papermill": {
     "duration": 0.039222,
     "end_time": "2022-10-28T00:54:17.845274",
     "exception": false,
     "start_time": "2022-10-28T00:54:17.806052",
     "status": "completed"
    },
    "tags": []
   },
   "outputs": [],
   "source": [
    "#hide\n",
    "def get_dates(df):\n",
    "    dt_cols = df.columns[~df.columns.isin(['Province/State', 'Country/Region', 'Lat', 'Long'])]\n",
    "    LAST_DATE_I = -1\n",
    "    # sometimes last column may be empty, then go backwards\n",
    "    for i in range(-1, -len(dt_cols), -1):\n",
    "        if not df[dt_cols[i]].fillna(0).eq(0).all():\n",
    "            LAST_DATE_I = i\n",
    "            break\n",
    "    return LAST_DATE_I, dt_cols"
   ]
  },
  {
   "cell_type": "code",
   "execution_count": 9,
   "id": "recent-optimization",
   "metadata": {
    "execution": {
     "iopub.execute_input": "2022-10-28T00:54:17.909881Z",
     "iopub.status.busy": "2022-10-28T00:54:17.909243Z",
     "iopub.status.idle": "2022-10-28T00:54:18.388197Z",
     "shell.execute_reply": "2022-10-28T00:54:18.387696Z"
    },
    "papermill": {
     "duration": 0.513107,
     "end_time": "2022-10-28T00:54:18.388308",
     "exception": false,
     "start_time": "2022-10-28T00:54:17.875201",
     "status": "completed"
    },
    "tags": []
   },
   "outputs": [],
   "source": [
    "#hide\n",
    "COL_REGION = 'Country/Region'\n",
    "# Confirmed, Recovered, Deaths\n",
    "df = get_frame('confirmed')\n",
    "# dft_: timeseries, dfc_: today country agg\n",
    "dft_cases = df\n",
    "dft_deaths = get_frame('deaths')\n",
    "dft_recovered = get_frame('recovered')\n",
    "LAST_DATE_I, dt_cols = get_dates(df)"
   ]
  },
  {
   "cell_type": "code",
   "execution_count": 10,
   "id": "absolute-copper",
   "metadata": {
    "execution": {
     "iopub.execute_input": "2022-10-28T00:54:18.453784Z",
     "iopub.status.busy": "2022-10-28T00:54:18.453227Z",
     "iopub.status.idle": "2022-10-28T00:54:18.455891Z",
     "shell.execute_reply": "2022-10-28T00:54:18.455455Z"
    },
    "papermill": {
     "duration": 0.037089,
     "end_time": "2022-10-28T00:54:18.455988",
     "exception": false,
     "start_time": "2022-10-28T00:54:18.418899",
     "status": "completed"
    },
    "tags": []
   },
   "outputs": [],
   "source": [
    "#hide\n",
    "LAST_DATE_I, dt_cols = get_dates(df)\n",
    "dt_today =dt_cols[LAST_DATE_I]\n",
    "# dt_5day = dt_cols[LAST_DATE_I - 5]\n",
    "dt_yday = dt_cols[LAST_DATE_I - 1]"
   ]
  },
  {
   "cell_type": "code",
   "execution_count": 11,
   "id": "restricted-sheriff",
   "metadata": {
    "execution": {
     "iopub.execute_input": "2022-10-28T00:54:18.524768Z",
     "iopub.status.busy": "2022-10-28T00:54:18.522216Z",
     "iopub.status.idle": "2022-10-28T00:54:18.530611Z",
     "shell.execute_reply": "2022-10-28T00:54:18.529591Z"
    },
    "papermill": {
     "duration": 0.044793,
     "end_time": "2022-10-28T00:54:18.530718",
     "exception": false,
     "start_time": "2022-10-28T00:54:18.485925",
     "status": "completed"
    },
    "tags": []
   },
   "outputs": [],
   "source": [
    "#hide\n",
    "dfc_cases = dft_cases.groupby(COL_REGION)[dt_today].sum()\n",
    "dfc_deaths = dft_deaths.groupby(COL_REGION)[dt_today].sum()\n",
    "# dfp_cases = dft_cases.groupby(COL_REGION)[dt_5day].sum()\n",
    "# dfp_deaths = dft_deaths.groupby(COL_REGION)[dt_5day].sum()\n",
    "dfp_cases = dft_cases.groupby(COL_REGION)[dt_yday].sum()\n",
    "dfp_deaths = dft_deaths.groupby(COL_REGION)[dt_yday].sum()"
   ]
  },
  {
   "cell_type": "code",
   "execution_count": 12,
   "id": "deluxe-hepatitis",
   "metadata": {
    "execution": {
     "iopub.execute_input": "2022-10-28T00:54:18.598313Z",
     "iopub.status.busy": "2022-10-28T00:54:18.596197Z",
     "iopub.status.idle": "2022-10-28T00:54:18.600825Z",
     "shell.execute_reply": "2022-10-28T00:54:18.600360Z"
    },
    "papermill": {
     "duration": 0.039943,
     "end_time": "2022-10-28T00:54:18.600925",
     "exception": false,
     "start_time": "2022-10-28T00:54:18.560982",
     "status": "completed"
    },
    "tags": []
   },
   "outputs": [],
   "source": [
    "#hide\n",
    "df_table = (pd.DataFrame(dict(Cases = dfc_cases, Deaths = dfc_deaths, PCases = dfp_cases, PDeaths = dfp_deaths))\n",
    "            .sort_values(by = ['Cases','Deaths'], ascending = [False, False])\n",
    "            .reset_index())"
   ]
  },
  {
   "cell_type": "code",
   "execution_count": 13,
   "id": "educational-chancellor",
   "metadata": {
    "execution": {
     "iopub.execute_input": "2022-10-28T00:54:18.673284Z",
     "iopub.status.busy": "2022-10-28T00:54:18.672694Z",
     "iopub.status.idle": "2022-10-28T00:54:18.684114Z",
     "shell.execute_reply": "2022-10-28T00:54:18.684562Z"
    },
    "papermill": {
     "duration": 0.053697,
     "end_time": "2022-10-28T00:54:18.684676",
     "exception": false,
     "start_time": "2022-10-28T00:54:18.630979",
     "status": "completed"
    },
    "tags": []
   },
   "outputs": [
    {
     "data": {
      "text/html": [
       "<div>\n",
       "<style scoped>\n",
       "    .dataframe tbody tr th:only-of-type {\n",
       "        vertical-align: middle;\n",
       "    }\n",
       "\n",
       "    .dataframe tbody tr th {\n",
       "        vertical-align: top;\n",
       "    }\n",
       "\n",
       "    .dataframe thead th {\n",
       "        text-align: right;\n",
       "    }\n",
       "</style>\n",
       "<table border=\"1\" class=\"dataframe\">\n",
       "  <thead>\n",
       "    <tr style=\"text-align: right;\">\n",
       "      <th></th>\n",
       "      <th>Country/Region</th>\n",
       "      <th>Cases</th>\n",
       "      <th>Deaths</th>\n",
       "      <th>PCases</th>\n",
       "      <th>PDeaths</th>\n",
       "      <th>Cases (+)</th>\n",
       "      <th>Deaths (+)</th>\n",
       "      <th>Fatality Rate</th>\n",
       "      <th>Continent</th>\n",
       "    </tr>\n",
       "  </thead>\n",
       "  <tbody>\n",
       "    <tr>\n",
       "      <th>0</th>\n",
       "      <td>US</td>\n",
       "      <td>97343426</td>\n",
       "      <td>1069449</td>\n",
       "      <td>97273529</td>\n",
       "      <td>1068354</td>\n",
       "      <td>69897</td>\n",
       "      <td>1095</td>\n",
       "      <td>1.10</td>\n",
       "      <td>North America</td>\n",
       "    </tr>\n",
       "    <tr>\n",
       "      <th>1</th>\n",
       "      <td>India</td>\n",
       "      <td>44646880</td>\n",
       "      <td>528987</td>\n",
       "      <td>44645768</td>\n",
       "      <td>528981</td>\n",
       "      <td>1112</td>\n",
       "      <td>6</td>\n",
       "      <td>1.18</td>\n",
       "      <td>Asia</td>\n",
       "    </tr>\n",
       "    <tr>\n",
       "      <th>2</th>\n",
       "      <td>France</td>\n",
       "      <td>36925046</td>\n",
       "      <td>157740</td>\n",
       "      <td>36883805</td>\n",
       "      <td>157680</td>\n",
       "      <td>41241</td>\n",
       "      <td>60</td>\n",
       "      <td>0.43</td>\n",
       "      <td>Europe</td>\n",
       "    </tr>\n",
       "    <tr>\n",
       "      <th>3</th>\n",
       "      <td>Germany</td>\n",
       "      <td>35461920</td>\n",
       "      <td>153193</td>\n",
       "      <td>35383015</td>\n",
       "      <td>152997</td>\n",
       "      <td>78905</td>\n",
       "      <td>196</td>\n",
       "      <td>0.43</td>\n",
       "      <td>Europe</td>\n",
       "    </tr>\n",
       "    <tr>\n",
       "      <th>4</th>\n",
       "      <td>Brazil</td>\n",
       "      <td>34807075</td>\n",
       "      <td>687907</td>\n",
       "      <td>34799324</td>\n",
       "      <td>687710</td>\n",
       "      <td>7751</td>\n",
       "      <td>197</td>\n",
       "      <td>1.98</td>\n",
       "      <td>South America</td>\n",
       "    </tr>\n",
       "  </tbody>\n",
       "</table>\n",
       "</div>"
      ],
      "text/plain": [
       "  Country/Region     Cases   Deaths    PCases  PDeaths  Cases (+)  Deaths (+)  \\\n",
       "0             US  97343426  1069449  97273529  1068354      69897        1095   \n",
       "1          India  44646880   528987  44645768   528981       1112           6   \n",
       "2         France  36925046   157740  36883805   157680      41241          60   \n",
       "3        Germany  35461920   153193  35383015   152997      78905         196   \n",
       "4         Brazil  34807075   687907  34799324   687710       7751         197   \n",
       "\n",
       "   Fatality Rate      Continent  \n",
       "0           1.10  North America  \n",
       "1           1.18           Asia  \n",
       "2           0.43         Europe  \n",
       "3           0.43         Europe  \n",
       "4           1.98  South America  "
      ]
     },
     "execution_count": 13,
     "metadata": {},
     "output_type": "execute_result"
    }
   ],
   "source": [
    "#hide\n",
    "for c in 'Cases, Deaths'.split(', '):\n",
    "    df_table[f'{c} (+)'] = (df_table[c] - df_table[f'P{c}']).clip(0)\n",
    "    #Clip ça veut dire, les chiffres negatif sont interdit\n",
    "df_table['Fatality Rate'] = (100* df_table['Deaths']/ df_table['Cases']).round(2)\n",
    "df_table['Continent'] = df_table['Country/Region'].map(mapping['map.continent'])\n",
    "df_table.head(5)"
   ]
  },
  {
   "cell_type": "code",
   "execution_count": 14,
   "id": "aboriginal-bulgaria",
   "metadata": {
    "execution": {
     "iopub.execute_input": "2022-10-28T00:54:18.751410Z",
     "iopub.status.busy": "2022-10-28T00:54:18.750856Z",
     "iopub.status.idle": "2022-10-28T00:54:18.753639Z",
     "shell.execute_reply": "2022-10-28T00:54:18.754052Z"
    },
    "papermill": {
     "duration": 0.038649,
     "end_time": "2022-10-28T00:54:18.754164",
     "exception": false,
     "start_time": "2022-10-28T00:54:18.715515",
     "status": "completed"
    },
    "tags": []
   },
   "outputs": [],
   "source": [
    "#hide\n",
    "#delete problematic countries from table\n",
    "df_table = df_table[~df_table['Country/Region'].isin(['Cape Verde', 'Cruise Ship', 'Kosovo'])]"
   ]
  },
  {
   "cell_type": "code",
   "execution_count": 15,
   "id": "fantastic-effect",
   "metadata": {
    "execution": {
     "iopub.execute_input": "2022-10-28T00:54:18.822449Z",
     "iopub.status.busy": "2022-10-28T00:54:18.821905Z",
     "iopub.status.idle": "2022-10-28T00:54:18.838754Z",
     "shell.execute_reply": "2022-10-28T00:54:18.839173Z"
    },
    "papermill": {
     "duration": 0.054628,
     "end_time": "2022-10-28T00:54:18.839291",
     "exception": false,
     "start_time": "2022-10-28T00:54:18.784663",
     "status": "completed"
    },
    "tags": []
   },
   "outputs": [
    {
     "data": {
      "text/html": [
       "<div>\n",
       "<style scoped>\n",
       "    .dataframe tbody tr th:only-of-type {\n",
       "        vertical-align: middle;\n",
       "    }\n",
       "\n",
       "    .dataframe tbody tr th {\n",
       "        vertical-align: top;\n",
       "    }\n",
       "\n",
       "    .dataframe thead th {\n",
       "        text-align: right;\n",
       "    }\n",
       "</style>\n",
       "<table border=\"1\" class=\"dataframe\">\n",
       "  <thead>\n",
       "    <tr style=\"text-align: right;\">\n",
       "      <th></th>\n",
       "      <th>Country/Region</th>\n",
       "      <th>Cases</th>\n",
       "      <th>Deaths</th>\n",
       "      <th>PCases</th>\n",
       "      <th>PDeaths</th>\n",
       "      <th>Cases (+)</th>\n",
       "      <th>Deaths (+)</th>\n",
       "      <th>Fatality Rate</th>\n",
       "      <th>Continent</th>\n",
       "    </tr>\n",
       "  </thead>\n",
       "  <tbody>\n",
       "    <tr>\n",
       "      <th>0</th>\n",
       "      <td>US</td>\n",
       "      <td>97343426</td>\n",
       "      <td>1069449</td>\n",
       "      <td>97273529</td>\n",
       "      <td>1068354</td>\n",
       "      <td>69897</td>\n",
       "      <td>1095</td>\n",
       "      <td>1.1</td>\n",
       "      <td>North America</td>\n",
       "    </tr>\n",
       "    <tr>\n",
       "      <th>1</th>\n",
       "      <td>India</td>\n",
       "      <td>44646880</td>\n",
       "      <td>528987</td>\n",
       "      <td>44645768</td>\n",
       "      <td>528981</td>\n",
       "      <td>1112</td>\n",
       "      <td>6</td>\n",
       "      <td>1.2</td>\n",
       "      <td>Asia</td>\n",
       "    </tr>\n",
       "    <tr>\n",
       "      <th>2</th>\n",
       "      <td>France</td>\n",
       "      <td>36925046</td>\n",
       "      <td>157740</td>\n",
       "      <td>36883805</td>\n",
       "      <td>157680</td>\n",
       "      <td>41241</td>\n",
       "      <td>60</td>\n",
       "      <td>0.4</td>\n",
       "      <td>Europe</td>\n",
       "    </tr>\n",
       "    <tr>\n",
       "      <th>3</th>\n",
       "      <td>Germany</td>\n",
       "      <td>35461920</td>\n",
       "      <td>153193</td>\n",
       "      <td>35383015</td>\n",
       "      <td>152997</td>\n",
       "      <td>78905</td>\n",
       "      <td>196</td>\n",
       "      <td>0.4</td>\n",
       "      <td>Europe</td>\n",
       "    </tr>\n",
       "    <tr>\n",
       "      <th>4</th>\n",
       "      <td>Brazil</td>\n",
       "      <td>34807075</td>\n",
       "      <td>687907</td>\n",
       "      <td>34799324</td>\n",
       "      <td>687710</td>\n",
       "      <td>7751</td>\n",
       "      <td>197</td>\n",
       "      <td>2.0</td>\n",
       "      <td>South America</td>\n",
       "    </tr>\n",
       "  </tbody>\n",
       "</table>\n",
       "</div>"
      ],
      "text/plain": [
       "  Country/Region     Cases   Deaths    PCases  PDeaths  Cases (+)  Deaths (+)  \\\n",
       "0             US  97343426  1069449  97273529  1068354      69897        1095   \n",
       "1          India  44646880   528987  44645768   528981       1112           6   \n",
       "2         France  36925046   157740  36883805   157680      41241          60   \n",
       "3        Germany  35461920   153193  35383015   152997      78905         196   \n",
       "4         Brazil  34807075   687907  34799324   687710       7751         197   \n",
       "\n",
       "   Fatality Rate      Continent  \n",
       "0            1.1  North America  \n",
       "1            1.2           Asia  \n",
       "2            0.4         Europe  \n",
       "3            0.4         Europe  \n",
       "4            2.0  South America  "
      ]
     },
     "execution_count": 15,
     "metadata": {},
     "output_type": "execute_result"
    }
   ],
   "source": [
    "#hide\n",
    "df_table = (pd.DataFrame(dict(Cases=dfc_cases, Deaths=dfc_deaths, PCases=dfp_cases, PDeaths=dfp_deaths))\n",
    "             .sort_values(by=['Cases', 'Deaths'], ascending=[False, False])\n",
    "             .reset_index())\n",
    "df_table.rename(columns={'index': 'Country/Region'}, inplace=True)\n",
    "for c in 'Cases, Deaths'.split(', '):\n",
    "    df_table[f'{c} (+)'] = (df_table[c] - df_table[f'P{c}']).clip(0)  # DATA BUG\n",
    "df_table['Fatality Rate'] = (100 * df_table['Deaths'] / df_table['Cases']).round(1)\n",
    "df_table['Continent'] = df_table['Country/Region'].map(mapping['map.continent'])\n",
    "df_table.head(5)"
   ]
  },
  {
   "cell_type": "code",
   "execution_count": 16,
   "id": "fewer-occasion",
   "metadata": {
    "execution": {
     "iopub.execute_input": "2022-10-28T00:54:18.907115Z",
     "iopub.status.busy": "2022-10-28T00:54:18.906570Z",
     "iopub.status.idle": "2022-10-28T00:54:18.909230Z",
     "shell.execute_reply": "2022-10-28T00:54:18.908762Z"
    },
    "papermill": {
     "duration": 0.038824,
     "end_time": "2022-10-28T00:54:18.909326",
     "exception": false,
     "start_time": "2022-10-28T00:54:18.870502",
     "status": "completed"
    },
    "tags": []
   },
   "outputs": [],
   "source": [
    "#hide\n",
    "#delete problematic countries from table\n",
    "df_table = df_table[~df_table['Country/Region'].isin(['Cape Verde', 'Cruise Ship', 'Kosovo'])]"
   ]
  },
  {
   "cell_type": "code",
   "execution_count": 17,
   "id": "related-center",
   "metadata": {
    "execution": {
     "iopub.execute_input": "2022-10-28T00:54:18.988523Z",
     "iopub.status.busy": "2022-10-28T00:54:18.987963Z",
     "iopub.status.idle": "2022-10-28T00:54:18.990745Z",
     "shell.execute_reply": "2022-10-28T00:54:18.990308Z"
    },
    "papermill": {
     "duration": 0.050214,
     "end_time": "2022-10-28T00:54:18.990841",
     "exception": false,
     "start_time": "2022-10-28T00:54:18.940627",
     "status": "completed"
    },
    "tags": []
   },
   "outputs": [],
   "source": [
    "#hide\n",
    "metrics = [df_table.columns[index] for index in [1,2,5,6]]\n",
    "# s_china = df_table[df_table['Country/Region'].eq('China')][metrics].sum().add_prefix('China ')\n",
    "s_us = df_table[df_table['Country/Region'].eq('US')][metrics].sum().add_prefix('US ')\n",
    "s_eu = df_table[df_table['Continent'].eq('Europe')][metrics].sum().add_prefix('EU ')\n",
    "s_ind = df_table[df_table['Country/Region'].eq('India')][metrics].sum().add_prefix('India ')\n",
    "summary = {'updated': pd.to_datetime(dt_today), 'since': pd.to_datetime(dt_yday)}\n",
    "summary = {'updated': pd.to_datetime(dt_today), 'since': pd.to_datetime(dt_yday)}\n",
    "summary = {**summary, **df_table[metrics].sum(), **s_ind, **s_us, **s_eu}"
   ]
  },
  {
   "cell_type": "code",
   "execution_count": 18,
   "id": "engaging-syndrome",
   "metadata": {
    "execution": {
     "iopub.execute_input": "2022-10-28T00:54:19.057798Z",
     "iopub.status.busy": "2022-10-28T00:54:19.057253Z",
     "iopub.status.idle": "2022-10-28T00:54:19.076273Z",
     "shell.execute_reply": "2022-10-28T00:54:19.076670Z"
    },
    "papermill": {
     "duration": 0.054905,
     "end_time": "2022-10-28T00:54:19.076804",
     "exception": false,
     "start_time": "2022-10-28T00:54:19.021899",
     "status": "completed"
    },
    "tags": []
   },
   "outputs": [],
   "source": [
    "#hide\n",
    "dft_ct_new_cases = dft_cases.groupby(COL_REGION)[dt_cols].sum().diff(axis=1).fillna(0).astype(int)"
   ]
  },
  {
   "cell_type": "code",
   "execution_count": 19,
   "id": "neutral-assignment",
   "metadata": {
    "execution": {
     "iopub.execute_input": "2022-10-28T00:54:19.144936Z",
     "iopub.status.busy": "2022-10-28T00:54:19.144321Z",
     "iopub.status.idle": "2022-10-28T00:54:19.146767Z",
     "shell.execute_reply": "2022-10-28T00:54:19.146330Z"
    },
    "papermill": {
     "duration": 0.039052,
     "end_time": "2022-10-28T00:54:19.146865",
     "exception": false,
     "start_time": "2022-10-28T00:54:19.107813",
     "status": "completed"
    },
    "tags": []
   },
   "outputs": [],
   "source": [
    "#hide\n",
    "everydaycases = dft_ct_new_cases.cumsum(axis=1)"
   ]
  },
  {
   "cell_type": "code",
   "execution_count": 20,
   "id": "parliamentary-calgary",
   "metadata": {
    "execution": {
     "iopub.execute_input": "2022-10-28T00:54:19.213719Z",
     "iopub.status.busy": "2022-10-28T00:54:19.213149Z",
     "iopub.status.idle": "2022-10-28T00:54:19.754268Z",
     "shell.execute_reply": "2022-10-28T00:54:19.753797Z"
    },
    "papermill": {
     "duration": 0.576238,
     "end_time": "2022-10-28T00:54:19.754379",
     "exception": false,
     "start_time": "2022-10-28T00:54:19.178141",
     "status": "completed"
    },
    "tags": []
   },
   "outputs": [],
   "source": [
    "#hide\n",
    "import pandas as pd\n",
    "import matplotlib.pyplot as plt\n",
    "import matplotlib.ticker as ticker\n",
    "import matplotlib.animation as animation\n",
    "from IPython.display import HTML"
   ]
  },
  {
   "cell_type": "code",
   "execution_count": 21,
   "id": "lasting-extraction",
   "metadata": {
    "execution": {
     "iopub.execute_input": "2022-10-28T00:54:19.822584Z",
     "iopub.status.busy": "2022-10-28T00:54:19.822030Z",
     "iopub.status.idle": "2022-10-28T00:54:19.829194Z",
     "shell.execute_reply": "2022-10-28T00:54:19.828720Z"
    },
    "papermill": {
     "duration": 0.043794,
     "end_time": "2022-10-28T00:54:19.829296",
     "exception": false,
     "start_time": "2022-10-28T00:54:19.785502",
     "status": "completed"
    },
    "tags": []
   },
   "outputs": [],
   "source": [
    "#hide\n",
    "t = everydaycases.stack()"
   ]
  },
  {
   "cell_type": "code",
   "execution_count": 22,
   "id": "premier-sleeve",
   "metadata": {
    "execution": {
     "iopub.execute_input": "2022-10-28T00:54:19.895554Z",
     "iopub.status.busy": "2022-10-28T00:54:19.894999Z",
     "iopub.status.idle": "2022-10-28T00:54:19.906877Z",
     "shell.execute_reply": "2022-10-28T00:54:19.906346Z"
    },
    "papermill": {
     "duration": 0.04656,
     "end_time": "2022-10-28T00:54:19.906978",
     "exception": false,
     "start_time": "2022-10-28T00:54:19.860418",
     "status": "completed"
    },
    "tags": []
   },
   "outputs": [],
   "source": [
    "#hide\n",
    "g = t.reset_index(['Country/Region'])"
   ]
  },
  {
   "cell_type": "code",
   "execution_count": 23,
   "id": "distributed-pittsburgh",
   "metadata": {
    "execution": {
     "iopub.execute_input": "2022-10-28T00:54:19.973353Z",
     "iopub.status.busy": "2022-10-28T00:54:19.972773Z",
     "iopub.status.idle": "2022-10-28T00:54:19.975216Z",
     "shell.execute_reply": "2022-10-28T00:54:19.974703Z"
    },
    "papermill": {
     "duration": 0.036813,
     "end_time": "2022-10-28T00:54:19.975313",
     "exception": false,
     "start_time": "2022-10-28T00:54:19.938500",
     "status": "completed"
    },
    "tags": []
   },
   "outputs": [],
   "source": [
    "#hide\n",
    "g.index.name = 'date'"
   ]
  },
  {
   "cell_type": "code",
   "execution_count": 24,
   "id": "naked-donor",
   "metadata": {
    "execution": {
     "iopub.execute_input": "2022-10-28T00:54:20.041290Z",
     "iopub.status.busy": "2022-10-28T00:54:20.040710Z",
     "iopub.status.idle": "2022-10-28T00:54:20.043806Z",
     "shell.execute_reply": "2022-10-28T00:54:20.043280Z"
    },
    "papermill": {
     "duration": 0.037472,
     "end_time": "2022-10-28T00:54:20.043904",
     "exception": false,
     "start_time": "2022-10-28T00:54:20.006432",
     "status": "completed"
    },
    "tags": []
   },
   "outputs": [],
   "source": [
    "# #hide\n",
    "# g = g.reset_index(['date'])"
   ]
  },
  {
   "cell_type": "code",
   "execution_count": 25,
   "id": "incomplete-mustang",
   "metadata": {
    "execution": {
     "iopub.execute_input": "2022-10-28T00:54:20.109788Z",
     "iopub.status.busy": "2022-10-28T00:54:20.108913Z",
     "iopub.status.idle": "2022-10-28T00:54:20.110484Z",
     "shell.execute_reply": "2022-10-28T00:54:20.110989Z"
    },
    "papermill": {
     "duration": 0.036226,
     "end_time": "2022-10-28T00:54:20.111098",
     "exception": false,
     "start_time": "2022-10-28T00:54:20.074872",
     "status": "completed"
    },
    "tags": []
   },
   "outputs": [],
   "source": [
    "#hide\n",
    "# g.head()"
   ]
  },
  {
   "cell_type": "code",
   "execution_count": 26,
   "id": "specific-kruger",
   "metadata": {
    "execution": {
     "iopub.execute_input": "2022-10-28T00:54:20.177175Z",
     "iopub.status.busy": "2022-10-28T00:54:20.176590Z",
     "iopub.status.idle": "2022-10-28T00:54:20.179075Z",
     "shell.execute_reply": "2022-10-28T00:54:20.178556Z"
    },
    "papermill": {
     "duration": 0.036993,
     "end_time": "2022-10-28T00:54:20.179172",
     "exception": false,
     "start_time": "2022-10-28T00:54:20.142179",
     "status": "completed"
    },
    "tags": []
   },
   "outputs": [],
   "source": [
    "#hide\n",
    "# g.columns = ['date','country','cases']"
   ]
  },
  {
   "cell_type": "code",
   "execution_count": 27,
   "id": "tender-conversion",
   "metadata": {
    "execution": {
     "iopub.execute_input": "2022-10-28T00:54:20.244832Z",
     "iopub.status.busy": "2022-10-28T00:54:20.244249Z",
     "iopub.status.idle": "2022-10-28T00:54:20.246701Z",
     "shell.execute_reply": "2022-10-28T00:54:20.246179Z"
    },
    "papermill": {
     "duration": 0.036541,
     "end_time": "2022-10-28T00:54:20.246799",
     "exception": false,
     "start_time": "2022-10-28T00:54:20.210258",
     "status": "completed"
    },
    "tags": []
   },
   "outputs": [],
   "source": [
    "#hide\n",
    "# g['continent'] = g.country"
   ]
  },
  {
   "cell_type": "code",
   "execution_count": 28,
   "id": "substantial-wilderness",
   "metadata": {
    "execution": {
     "iopub.execute_input": "2022-10-28T00:54:20.312806Z",
     "iopub.status.busy": "2022-10-28T00:54:20.312226Z",
     "iopub.status.idle": "2022-10-28T00:54:20.314606Z",
     "shell.execute_reply": "2022-10-28T00:54:20.314085Z"
    },
    "papermill": {
     "duration": 0.036337,
     "end_time": "2022-10-28T00:54:20.314702",
     "exception": false,
     "start_time": "2022-10-28T00:54:20.278365",
     "status": "completed"
    },
    "tags": []
   },
   "outputs": [],
   "source": [
    "#hide\n",
    "# cols = list(g.columns.values)"
   ]
  },
  {
   "cell_type": "code",
   "execution_count": 29,
   "id": "solved-farming",
   "metadata": {
    "execution": {
     "iopub.execute_input": "2022-10-28T00:54:20.379436Z",
     "iopub.status.busy": "2022-10-28T00:54:20.378862Z",
     "iopub.status.idle": "2022-10-28T00:54:20.381307Z",
     "shell.execute_reply": "2022-10-28T00:54:20.380746Z"
    },
    "papermill": {
     "duration": 0.035924,
     "end_time": "2022-10-28T00:54:20.381405",
     "exception": false,
     "start_time": "2022-10-28T00:54:20.345481",
     "status": "completed"
    },
    "tags": []
   },
   "outputs": [],
   "source": [
    "#hide\n",
    "# cols.insert(0, cols.pop())"
   ]
  },
  {
   "cell_type": "code",
   "execution_count": 30,
   "id": "executed-adoption",
   "metadata": {
    "execution": {
     "iopub.execute_input": "2022-10-28T00:54:20.447030Z",
     "iopub.status.busy": "2022-10-28T00:54:20.446480Z",
     "iopub.status.idle": "2022-10-28T00:54:20.448700Z",
     "shell.execute_reply": "2022-10-28T00:54:20.448140Z"
    },
    "papermill": {
     "duration": 0.036412,
     "end_time": "2022-10-28T00:54:20.448816",
     "exception": false,
     "start_time": "2022-10-28T00:54:20.412404",
     "status": "completed"
    },
    "tags": []
   },
   "outputs": [],
   "source": [
    "#hide\n",
    "# g = g[cols]"
   ]
  },
  {
   "cell_type": "code",
   "execution_count": 31,
   "id": "subject-dublin",
   "metadata": {
    "execution": {
     "iopub.execute_input": "2022-10-28T00:54:20.513944Z",
     "iopub.status.busy": "2022-10-28T00:54:20.513394Z",
     "iopub.status.idle": "2022-10-28T00:54:20.515847Z",
     "shell.execute_reply": "2022-10-28T00:54:20.515413Z"
    },
    "papermill": {
     "duration": 0.036295,
     "end_time": "2022-10-28T00:54:20.515941",
     "exception": false,
     "start_time": "2022-10-28T00:54:20.479646",
     "status": "completed"
    },
    "tags": []
   },
   "outputs": [],
   "source": [
    "#hide\n",
    "# g['continent'] = g['continent'].map(mapping['map.continent'])"
   ]
  },
  {
   "cell_type": "code",
   "execution_count": 32,
   "id": "freelance-scout",
   "metadata": {
    "execution": {
     "iopub.execute_input": "2022-10-28T00:54:20.581941Z",
     "iopub.status.busy": "2022-10-28T00:54:20.581372Z",
     "iopub.status.idle": "2022-10-28T00:54:20.583696Z",
     "shell.execute_reply": "2022-10-28T00:54:20.583168Z"
    },
    "papermill": {
     "duration": 0.036805,
     "end_time": "2022-10-28T00:54:20.583795",
     "exception": false,
     "start_time": "2022-10-28T00:54:20.546990",
     "status": "completed"
    },
    "tags": []
   },
   "outputs": [],
   "source": [
    "#hide\n",
    "# g.head()"
   ]
  },
  {
   "cell_type": "code",
   "execution_count": 33,
   "id": "limited-engine",
   "metadata": {
    "execution": {
     "iopub.execute_input": "2022-10-28T00:54:20.649648Z",
     "iopub.status.busy": "2022-10-28T00:54:20.649081Z",
     "iopub.status.idle": "2022-10-28T00:54:20.651427Z",
     "shell.execute_reply": "2022-10-28T00:54:20.650901Z"
    },
    "papermill": {
     "duration": 0.036709,
     "end_time": "2022-10-28T00:54:20.651526",
     "exception": false,
     "start_time": "2022-10-28T00:54:20.614817",
     "status": "completed"
    },
    "tags": []
   },
   "outputs": [],
   "source": [
    "# hide\n",
    "# g['date'] = g['date'].astype('datetime64[ns]')"
   ]
  },
  {
   "cell_type": "code",
   "execution_count": 34,
   "id": "sophisticated-supervisor",
   "metadata": {
    "execution": {
     "iopub.execute_input": "2022-10-28T00:54:20.717892Z",
     "iopub.status.busy": "2022-10-28T00:54:20.717327Z",
     "iopub.status.idle": "2022-10-28T00:54:20.720700Z",
     "shell.execute_reply": "2022-10-28T00:54:20.721137Z"
    },
    "papermill": {
     "duration": 0.038463,
     "end_time": "2022-10-28T00:54:20.721263",
     "exception": false,
     "start_time": "2022-10-28T00:54:20.682800",
     "status": "completed"
    },
    "tags": []
   },
   "outputs": [],
   "source": [
    "#hide\n",
    "# g['date'] = g.date.dt.dayofyear"
   ]
  },
  {
   "cell_type": "code",
   "execution_count": 35,
   "id": "inside-dubai",
   "metadata": {
    "execution": {
     "iopub.execute_input": "2022-10-28T00:54:20.786905Z",
     "iopub.status.busy": "2022-10-28T00:54:20.786341Z",
     "iopub.status.idle": "2022-10-28T00:54:20.788679Z",
     "shell.execute_reply": "2022-10-28T00:54:20.788145Z"
    },
    "papermill": {
     "duration": 0.03651,
     "end_time": "2022-10-28T00:54:20.788776",
     "exception": false,
     "start_time": "2022-10-28T00:54:20.752266",
     "status": "completed"
    },
    "tags": []
   },
   "outputs": [],
   "source": [
    "#hide\n",
    "# g = g.rename(columns= {'continent':'group','country':'name','cases':'value'})"
   ]
  },
  {
   "cell_type": "code",
   "execution_count": 36,
   "id": "fleet-motorcycle",
   "metadata": {
    "execution": {
     "iopub.execute_input": "2022-10-28T00:54:20.854791Z",
     "iopub.status.busy": "2022-10-28T00:54:20.854223Z",
     "iopub.status.idle": "2022-10-28T00:54:20.856674Z",
     "shell.execute_reply": "2022-10-28T00:54:20.856232Z"
    },
    "papermill": {
     "duration": 0.036857,
     "end_time": "2022-10-28T00:54:20.856774",
     "exception": false,
     "start_time": "2022-10-28T00:54:20.819917",
     "status": "completed"
    },
    "tags": []
   },
   "outputs": [],
   "source": [
    "#hide\n",
    "# cols = ['name','group','day','value']"
   ]
  },
  {
   "cell_type": "code",
   "execution_count": 37,
   "id": "continued-sleeping",
   "metadata": {
    "execution": {
     "iopub.execute_input": "2022-10-28T00:54:20.923005Z",
     "iopub.status.busy": "2022-10-28T00:54:20.922450Z",
     "iopub.status.idle": "2022-10-28T00:54:20.924842Z",
     "shell.execute_reply": "2022-10-28T00:54:20.924366Z"
    },
    "papermill": {
     "duration": 0.037013,
     "end_time": "2022-10-28T00:54:20.924940",
     "exception": false,
     "start_time": "2022-10-28T00:54:20.887927",
     "status": "completed"
    },
    "tags": []
   },
   "outputs": [],
   "source": [
    "#hide\n",
    "# g.rename(columns= {'date':'day'},inplace = True)"
   ]
  },
  {
   "cell_type": "code",
   "execution_count": 38,
   "id": "major-fight",
   "metadata": {
    "execution": {
     "iopub.execute_input": "2022-10-28T00:54:20.990977Z",
     "iopub.status.busy": "2022-10-28T00:54:20.990400Z",
     "iopub.status.idle": "2022-10-28T00:54:20.992858Z",
     "shell.execute_reply": "2022-10-28T00:54:20.992397Z"
    },
    "papermill": {
     "duration": 0.036671,
     "end_time": "2022-10-28T00:54:20.992956",
     "exception": false,
     "start_time": "2022-10-28T00:54:20.956285",
     "status": "completed"
    },
    "tags": []
   },
   "outputs": [],
   "source": [
    "#hide\n",
    "# g = g[cols]"
   ]
  },
  {
   "cell_type": "code",
   "execution_count": 39,
   "id": "structured-mobile",
   "metadata": {
    "execution": {
     "iopub.execute_input": "2022-10-28T00:54:21.058440Z",
     "iopub.status.busy": "2022-10-28T00:54:21.057881Z",
     "iopub.status.idle": "2022-10-28T00:54:21.060321Z",
     "shell.execute_reply": "2022-10-28T00:54:21.059889Z"
    },
    "papermill": {
     "duration": 0.036472,
     "end_time": "2022-10-28T00:54:21.060417",
     "exception": false,
     "start_time": "2022-10-28T00:54:21.023945",
     "status": "completed"
    },
    "tags": []
   },
   "outputs": [],
   "source": [
    "# #hide\n",
    "# g = g[g.group.notna()]"
   ]
  },
  {
   "cell_type": "code",
   "execution_count": 40,
   "id": "determined-closing",
   "metadata": {
    "execution": {
     "iopub.execute_input": "2022-10-28T00:54:21.126761Z",
     "iopub.status.busy": "2022-10-28T00:54:21.126178Z",
     "iopub.status.idle": "2022-10-28T00:54:21.128665Z",
     "shell.execute_reply": "2022-10-28T00:54:21.128211Z"
    },
    "papermill": {
     "duration": 0.037034,
     "end_time": "2022-10-28T00:54:21.128769",
     "exception": false,
     "start_time": "2022-10-28T00:54:21.091735",
     "status": "completed"
    },
    "tags": []
   },
   "outputs": [],
   "source": [
    "# #hide\n",
    "# colors = dict(zip(\n",
    "#     [\"Oceania\", \"Europe\", \"Asia\", \"South America\", \"Middle East\", \"North America\", \"Africa\"],\n",
    "#     [\"#adb0ff\", \"#ffb3ff\", \"#90d595\", \"#e48381\", \"#aafbff\", \"#f7bb5f\", \"#eafb50\"]\n",
    "# ))\n",
    "# group_lk = g.set_index('name')['group'].to_dict()"
   ]
  },
  {
   "cell_type": "code",
   "execution_count": null,
   "id": "gross-drinking",
   "metadata": {
    "papermill": {
     "duration": 0.031085,
     "end_time": "2022-10-28T00:54:21.190988",
     "exception": false,
     "start_time": "2022-10-28T00:54:21.159903",
     "status": "completed"
    },
    "tags": []
   },
   "outputs": [],
   "source": []
  },
  {
   "cell_type": "code",
   "execution_count": 41,
   "id": "subject-macintosh",
   "metadata": {
    "execution": {
     "iopub.execute_input": "2022-10-28T00:54:21.258194Z",
     "iopub.status.busy": "2022-10-28T00:54:21.257579Z",
     "iopub.status.idle": "2022-10-28T00:54:21.260088Z",
     "shell.execute_reply": "2022-10-28T00:54:21.259638Z"
    },
    "papermill": {
     "duration": 0.037919,
     "end_time": "2022-10-28T00:54:21.260190",
     "exception": false,
     "start_time": "2022-10-28T00:54:21.222271",
     "status": "completed"
    },
    "tags": []
   },
   "outputs": [],
   "source": [
    "# #hide\n",
    "# fig, ax = plt.subplots(figsize=(15, 8))\n",
    "\n",
    "# def draw_barchart(current_day):\n",
    "#     dff = g[g['day'].eq(current_day)].sort_values(by='value', ascending=True).tail(10)\n",
    "#     ax.clear()\n",
    "#     ax.barh(dff['name'], dff['value'], color=[colors[group_lk[x]] for x in dff['name']])\n",
    "#     dx = dff['value'].max() / 200\n",
    "    \n",
    "#     for i, (value, name) in enumerate(zip(dff['value'], dff['name'])):\n",
    "#         ax.text(value-dx, i,     name,           size=14, weight=600, ha='right', va='bottom')\n",
    "#         ax.text(value-dx, i-.25, group_lk[name], size=10, color='#444444', ha='right', va='baseline')\n",
    "#         ax.text(value+dx, i,     f'{value:,.0f}',  size=14, ha='left',  va='center')\n",
    "#     ax.text(1, 0.4, current_day, transform=ax.transAxes, color='#777777', size=46, ha='right', weight=800)\n",
    "#     ax.text(0, 1.06, 'Population (thousands)', transform=ax.transAxes, size=12, color='#777777')\n",
    "#     ax.xaxis.set_major_formatter(ticker.StrMethodFormatter('{x:,.0f}'))\n",
    "#     ax.xaxis.set_ticks_position('top')\n",
    "#     ax.tick_params(axis='x', colors='#777777', labelsize=12)\n",
    "#     ax.set_yticks([])\n",
    "#     ax.margins(0, 0.01)\n",
    "#     ax.grid(which='major', axis='x', linestyle='-')\n",
    "#     ax.set_axisbelow(True)\n",
    "    \n",
    "#     ax.text(0, 1.15, 'Coronavirus',\n",
    "#             transform=ax.transAxes, size=24, weight=600, ha='left', va='top')\n",
    "# #     ax.text(1, 0, 'by @pratapvardhan; credit @jburnmurdoch', transform=ax.transAxes, color='#777777', ha='right',\n",
    "# #             bbox=dict(facecolor='white', alpha=0.8, edgecolor='white'))\n",
    "#     plt.box(False)"
   ]
  },
  {
   "cell_type": "code",
   "execution_count": 42,
   "id": "sexual-wages",
   "metadata": {
    "execution": {
     "iopub.execute_input": "2022-10-28T00:54:21.326859Z",
     "iopub.status.busy": "2022-10-28T00:54:21.326305Z",
     "iopub.status.idle": "2022-10-28T00:54:21.328429Z",
     "shell.execute_reply": "2022-10-28T00:54:21.327909Z"
    },
    "papermill": {
     "duration": 0.036572,
     "end_time": "2022-10-28T00:54:21.328526",
     "exception": false,
     "start_time": "2022-10-28T00:54:21.291954",
     "status": "completed"
    },
    "tags": []
   },
   "outputs": [],
   "source": [
    "# #hide_input\n",
    "# fig, ax = plt.subplots(figsize=(15, 8))\n",
    "# animator = animation.FuncAnimation(fig, draw_barchart, frames=range(g.day.values.min(), g.day.values.max()))\n",
    "# HTML(animator.to_jshtml())\n",
    "# # or use animator.to_html5_video() or animator.save() "
   ]
  },
  {
   "cell_type": "code",
   "execution_count": null,
   "id": "australian-container",
   "metadata": {
    "papermill": {
     "duration": 0.031282,
     "end_time": "2022-10-28T00:54:21.391113",
     "exception": false,
     "start_time": "2022-10-28T00:54:21.359831",
     "status": "completed"
    },
    "tags": []
   },
   "outputs": [],
   "source": []
  },
  {
   "cell_type": "code",
   "execution_count": null,
   "id": "mediterranean-pontiac",
   "metadata": {
    "papermill": {
     "duration": 0.030897,
     "end_time": "2022-10-28T00:54:21.453346",
     "exception": false,
     "start_time": "2022-10-28T00:54:21.422449",
     "status": "completed"
    },
    "tags": []
   },
   "outputs": [],
   "source": []
  },
  {
   "cell_type": "code",
   "execution_count": null,
   "id": "aging-legislature",
   "metadata": {
    "papermill": {
     "duration": 0.030924,
     "end_time": "2022-10-28T00:54:21.515368",
     "exception": false,
     "start_time": "2022-10-28T00:54:21.484444",
     "status": "completed"
    },
    "tags": []
   },
   "outputs": [],
   "source": []
  }
 ],
 "metadata": {
  "kernelspec": {
   "display_name": "Python 3",
   "language": "python",
   "name": "python3"
  },
  "language_info": {
   "codemirror_mode": {
    "name": "ipython",
    "version": 3
   },
   "file_extension": ".py",
   "mimetype": "text/x-python",
   "name": "python",
   "nbconvert_exporter": "python",
   "pygments_lexer": "ipython3",
   "version": "3.6.15"
  },
  "papermill": {
   "duration": 5.868708,
   "end_time": "2022-10-28T00:54:21.863912",
   "environment_variables": {},
   "exception": null,
   "input_path": "2020-03-21-covid19exp.ipynb",
   "output_path": "2020-03-21-covid19exp.ipynb",
   "parameters": {},
   "start_time": "2022-10-28T00:54:15.995204",
   "version": "2.0.0"
  }
 },
 "nbformat": 4,
 "nbformat_minor": 5
}