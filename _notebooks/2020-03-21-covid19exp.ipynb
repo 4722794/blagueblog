{
 "cells": [
  {
   "cell_type": "markdown",
   "id": "muslim-click",
   "metadata": {
    "papermill": {
     "duration": 0.046542,
     "end_time": "2021-08-15T12:10:41.493439",
     "exception": false,
     "start_time": "2021-08-15T12:10:41.446897",
     "status": "completed"
    },
    "tags": []
   },
   "source": [
    "# COVID-19 Case Race\n",
    "> A race chart to see rising cases around the world\n",
    "\n",
    "- author: Hargun Oberoi\n",
    "- image: images/covid-overview.png\n",
    "- hide: false\n",
    "- badges: false"
   ]
  },
  {
   "cell_type": "code",
   "execution_count": 1,
   "id": "proof-material",
   "metadata": {
    "execution": {
     "iopub.execute_input": "2021-08-15T12:10:41.586705Z",
     "iopub.status.busy": "2021-08-15T12:10:41.585951Z",
     "iopub.status.idle": "2021-08-15T12:10:42.000214Z",
     "shell.execute_reply": "2021-08-15T12:10:41.999030Z"
    },
    "papermill": {
     "duration": 0.466441,
     "end_time": "2021-08-15T12:10:42.000398",
     "exception": false,
     "start_time": "2021-08-15T12:10:41.533957",
     "status": "completed"
    },
    "tags": []
   },
   "outputs": [],
   "source": [
    "#hide\n",
    "import numpy as np\n",
    "import pandas as pd\n",
    "from jinja2 import Template\n",
    "from IPython.display import HTML"
   ]
  },
  {
   "cell_type": "code",
   "execution_count": 2,
   "id": "developed-terminology",
   "metadata": {
    "execution": {
     "iopub.execute_input": "2021-08-15T12:10:42.085513Z",
     "iopub.status.busy": "2021-08-15T12:10:42.084881Z",
     "iopub.status.idle": "2021-08-15T12:10:42.087482Z",
     "shell.execute_reply": "2021-08-15T12:10:42.086970Z"
    },
    "papermill": {
     "duration": 0.04722,
     "end_time": "2021-08-15T12:10:42.087604",
     "exception": false,
     "start_time": "2021-08-15T12:10:42.040384",
     "status": "completed"
    },
    "tags": []
   },
   "outputs": [],
   "source": [
    "#hide\n",
    "\n",
    "# FETCH\n",
    "base_url = 'https://raw.githubusercontent.com/pratapvardhan/notebooks/master/covid19/'\n",
    "paths = {\n",
    "    'mapping': base_url + 'mapping_countries.csv',\n",
    "    'overview': base_url + 'overview.tpl'\n",
    "}"
   ]
  },
  {
   "cell_type": "code",
   "execution_count": 3,
   "id": "dynamic-saver",
   "metadata": {
    "execution": {
     "iopub.execute_input": "2021-08-15T12:10:42.175759Z",
     "iopub.status.busy": "2021-08-15T12:10:42.175080Z",
     "iopub.status.idle": "2021-08-15T12:10:42.178461Z",
     "shell.execute_reply": "2021-08-15T12:10:42.179053Z"
    },
    "papermill": {
     "duration": 0.053827,
     "end_time": "2021-08-15T12:10:42.179226",
     "exception": false,
     "start_time": "2021-08-15T12:10:42.125399",
     "status": "completed"
    },
    "tags": []
   },
   "outputs": [
    {
     "data": {
      "text/plain": [
       "'https://raw.githubusercontent.com/pratapvardhan/notebooks/master/covid19/mapping_countries.csv'"
      ]
     },
     "execution_count": 3,
     "metadata": {},
     "output_type": "execute_result"
    }
   ],
   "source": [
    "#hide\n",
    "paths['mapping']"
   ]
  },
  {
   "cell_type": "code",
   "execution_count": 4,
   "id": "urban-software",
   "metadata": {
    "execution": {
     "iopub.execute_input": "2021-08-15T12:10:42.266734Z",
     "iopub.status.busy": "2021-08-15T12:10:42.265972Z",
     "iopub.status.idle": "2021-08-15T12:10:42.267663Z",
     "shell.execute_reply": "2021-08-15T12:10:42.268349Z"
    },
    "papermill": {
     "duration": 0.047863,
     "end_time": "2021-08-15T12:10:42.268514",
     "exception": false,
     "start_time": "2021-08-15T12:10:42.220651",
     "status": "completed"
    },
    "tags": []
   },
   "outputs": [],
   "source": [
    "#hide\n",
    "def get_mappings(url):\n",
    "    df = pd.read_csv(url)\n",
    "    return {\n",
    "        'df': df,\n",
    "        'replace.country': dict(df.dropna(subset=['Name']).set_index('Country')['Name']),\n",
    "        'map.continent': dict(df.set_index('Name')['Continent'])\n",
    "    }"
   ]
  },
  {
   "cell_type": "code",
   "execution_count": 5,
   "id": "intimate-machinery",
   "metadata": {
    "execution": {
     "iopub.execute_input": "2021-08-15T12:10:42.363235Z",
     "iopub.status.busy": "2021-08-15T12:10:42.362559Z",
     "iopub.status.idle": "2021-08-15T12:10:42.398869Z",
     "shell.execute_reply": "2021-08-15T12:10:42.398338Z"
    },
    "papermill": {
     "duration": 0.085227,
     "end_time": "2021-08-15T12:10:42.399008",
     "exception": false,
     "start_time": "2021-08-15T12:10:42.313781",
     "status": "completed"
    },
    "tags": []
   },
   "outputs": [],
   "source": [
    "#hide\n",
    "mapping = get_mappings(paths['mapping'])"
   ]
  },
  {
   "cell_type": "code",
   "execution_count": 6,
   "id": "certified-tactics",
   "metadata": {
    "execution": {
     "iopub.execute_input": "2021-08-15T12:10:42.488662Z",
     "iopub.status.busy": "2021-08-15T12:10:42.487704Z",
     "iopub.status.idle": "2021-08-15T12:10:42.490605Z",
     "shell.execute_reply": "2021-08-15T12:10:42.489863Z"
    },
    "papermill": {
     "duration": 0.049209,
     "end_time": "2021-08-15T12:10:42.490740",
     "exception": false,
     "start_time": "2021-08-15T12:10:42.441531",
     "status": "completed"
    },
    "tags": []
   },
   "outputs": [],
   "source": [
    "#hide\n",
    "def get_template(path):\n",
    "    from urllib.parse import urlparse\n",
    "    if bool(urlparse(path).netloc):\n",
    "        from urllib.request import urlopen\n",
    "        return urlopen(path).read().decode('utf8')\n",
    "    return open(path).read()"
   ]
  },
  {
   "cell_type": "code",
   "execution_count": 7,
   "id": "realistic-blast",
   "metadata": {
    "execution": {
     "iopub.execute_input": "2021-08-15T12:10:42.578121Z",
     "iopub.status.busy": "2021-08-15T12:10:42.577467Z",
     "iopub.status.idle": "2021-08-15T12:10:42.580437Z",
     "shell.execute_reply": "2021-08-15T12:10:42.579275Z"
    },
    "papermill": {
     "duration": 0.048394,
     "end_time": "2021-08-15T12:10:42.580585",
     "exception": false,
     "start_time": "2021-08-15T12:10:42.532191",
     "status": "completed"
    },
    "tags": []
   },
   "outputs": [],
   "source": [
    "#hide\n",
    "def get_frame(name):\n",
    "    url = (\n",
    "        'https://raw.githubusercontent.com/CSSEGISandData/COVID-19/master/csse_covid_19_data/'\n",
    "        f'csse_covid_19_time_series/time_series_covid19_{name}_global.csv')\n",
    "    df = pd.read_csv(url)\n",
    "    # rename countries\n",
    "    df['Country/Region'] = df['Country/Region'].replace(mapping['replace.country'])\n",
    "    return df"
   ]
  },
  {
   "cell_type": "code",
   "execution_count": 8,
   "id": "affiliated-characterization",
   "metadata": {
    "execution": {
     "iopub.execute_input": "2021-08-15T12:10:42.664951Z",
     "iopub.status.busy": "2021-08-15T12:10:42.664178Z",
     "iopub.status.idle": "2021-08-15T12:10:42.666651Z",
     "shell.execute_reply": "2021-08-15T12:10:42.666020Z"
    },
    "papermill": {
     "duration": 0.048038,
     "end_time": "2021-08-15T12:10:42.666780",
     "exception": false,
     "start_time": "2021-08-15T12:10:42.618742",
     "status": "completed"
    },
    "tags": []
   },
   "outputs": [],
   "source": [
    "#hide\n",
    "def get_dates(df):\n",
    "    dt_cols = df.columns[~df.columns.isin(['Province/State', 'Country/Region', 'Lat', 'Long'])]\n",
    "    LAST_DATE_I = -1\n",
    "    # sometimes last column may be empty, then go backwards\n",
    "    for i in range(-1, -len(dt_cols), -1):\n",
    "        if not df[dt_cols[i]].fillna(0).eq(0).all():\n",
    "            LAST_DATE_I = i\n",
    "            break\n",
    "    return LAST_DATE_I, dt_cols"
   ]
  },
  {
   "cell_type": "code",
   "execution_count": 9,
   "id": "recent-optimization",
   "metadata": {
    "execution": {
     "iopub.execute_input": "2021-08-15T12:10:42.768416Z",
     "iopub.status.busy": "2021-08-15T12:10:42.767644Z",
     "iopub.status.idle": "2021-08-15T12:10:43.124752Z",
     "shell.execute_reply": "2021-08-15T12:10:43.124142Z"
    },
    "papermill": {
     "duration": 0.418524,
     "end_time": "2021-08-15T12:10:43.124959",
     "exception": false,
     "start_time": "2021-08-15T12:10:42.706435",
     "status": "completed"
    },
    "tags": []
   },
   "outputs": [],
   "source": [
    "#hide\n",
    "COL_REGION = 'Country/Region'\n",
    "# Confirmed, Recovered, Deaths\n",
    "df = get_frame('confirmed')\n",
    "# dft_: timeseries, dfc_: today country agg\n",
    "dft_cases = df\n",
    "dft_deaths = get_frame('deaths')\n",
    "dft_recovered = get_frame('recovered')\n",
    "LAST_DATE_I, dt_cols = get_dates(df)"
   ]
  },
  {
   "cell_type": "code",
   "execution_count": 10,
   "id": "absolute-copper",
   "metadata": {
    "execution": {
     "iopub.execute_input": "2021-08-15T12:10:43.217250Z",
     "iopub.status.busy": "2021-08-15T12:10:43.216548Z",
     "iopub.status.idle": "2021-08-15T12:10:43.218263Z",
     "shell.execute_reply": "2021-08-15T12:10:43.218831Z"
    },
    "papermill": {
     "duration": 0.053791,
     "end_time": "2021-08-15T12:10:43.218977",
     "exception": false,
     "start_time": "2021-08-15T12:10:43.165186",
     "status": "completed"
    },
    "tags": []
   },
   "outputs": [],
   "source": [
    "#hide\n",
    "LAST_DATE_I, dt_cols = get_dates(df)\n",
    "dt_today =dt_cols[LAST_DATE_I]\n",
    "# dt_5day = dt_cols[LAST_DATE_I - 5]\n",
    "dt_yday = dt_cols[LAST_DATE_I - 1]"
   ]
  },
  {
   "cell_type": "code",
   "execution_count": 11,
   "id": "restricted-sheriff",
   "metadata": {
    "execution": {
     "iopub.execute_input": "2021-08-15T12:10:43.303897Z",
     "iopub.status.busy": "2021-08-15T12:10:43.303195Z",
     "iopub.status.idle": "2021-08-15T12:10:43.312541Z",
     "shell.execute_reply": "2021-08-15T12:10:43.311900Z"
    },
    "papermill": {
     "duration": 0.054684,
     "end_time": "2021-08-15T12:10:43.312676",
     "exception": false,
     "start_time": "2021-08-15T12:10:43.257992",
     "status": "completed"
    },
    "tags": []
   },
   "outputs": [],
   "source": [
    "#hide\n",
    "dfc_cases = dft_cases.groupby(COL_REGION)[dt_today].sum()\n",
    "dfc_deaths = dft_deaths.groupby(COL_REGION)[dt_today].sum()\n",
    "# dfp_cases = dft_cases.groupby(COL_REGION)[dt_5day].sum()\n",
    "# dfp_deaths = dft_deaths.groupby(COL_REGION)[dt_5day].sum()\n",
    "dfp_cases = dft_cases.groupby(COL_REGION)[dt_yday].sum()\n",
    "dfp_deaths = dft_deaths.groupby(COL_REGION)[dt_yday].sum()"
   ]
  },
  {
   "cell_type": "code",
   "execution_count": 12,
   "id": "deluxe-hepatitis",
   "metadata": {
    "execution": {
     "iopub.execute_input": "2021-08-15T12:10:43.399114Z",
     "iopub.status.busy": "2021-08-15T12:10:43.398393Z",
     "iopub.status.idle": "2021-08-15T12:10:43.404147Z",
     "shell.execute_reply": "2021-08-15T12:10:43.403512Z"
    },
    "papermill": {
     "duration": 0.051135,
     "end_time": "2021-08-15T12:10:43.404280",
     "exception": false,
     "start_time": "2021-08-15T12:10:43.353145",
     "status": "completed"
    },
    "tags": []
   },
   "outputs": [],
   "source": [
    "#hide\n",
    "df_table = (pd.DataFrame(dict(Cases = dfc_cases, Deaths = dfc_deaths, PCases = dfp_cases, PDeaths = dfp_deaths))\n",
    "            .sort_values(by = ['Cases','Deaths'], ascending = [False, False])\n",
    "            .reset_index())"
   ]
  },
  {
   "cell_type": "code",
   "execution_count": 13,
   "id": "educational-chancellor",
   "metadata": {
    "execution": {
     "iopub.execute_input": "2021-08-15T12:10:43.513039Z",
     "iopub.status.busy": "2021-08-15T12:10:43.501243Z",
     "iopub.status.idle": "2021-08-15T12:10:43.516452Z",
     "shell.execute_reply": "2021-08-15T12:10:43.517003Z"
    },
    "papermill": {
     "duration": 0.073777,
     "end_time": "2021-08-15T12:10:43.517178",
     "exception": false,
     "start_time": "2021-08-15T12:10:43.443401",
     "status": "completed"
    },
    "tags": []
   },
   "outputs": [
    {
     "data": {
      "text/html": [
       "<div>\n",
       "<style scoped>\n",
       "    .dataframe tbody tr th:only-of-type {\n",
       "        vertical-align: middle;\n",
       "    }\n",
       "\n",
       "    .dataframe tbody tr th {\n",
       "        vertical-align: top;\n",
       "    }\n",
       "\n",
       "    .dataframe thead th {\n",
       "        text-align: right;\n",
       "    }\n",
       "</style>\n",
       "<table border=\"1\" class=\"dataframe\">\n",
       "  <thead>\n",
       "    <tr style=\"text-align: right;\">\n",
       "      <th></th>\n",
       "      <th>Country/Region</th>\n",
       "      <th>Cases</th>\n",
       "      <th>Deaths</th>\n",
       "      <th>PCases</th>\n",
       "      <th>PDeaths</th>\n",
       "      <th>Cases (+)</th>\n",
       "      <th>Deaths (+)</th>\n",
       "      <th>Fatality Rate</th>\n",
       "      <th>Continent</th>\n",
       "    </tr>\n",
       "  </thead>\n",
       "  <tbody>\n",
       "    <tr>\n",
       "      <th>0</th>\n",
       "      <td>US</td>\n",
       "      <td>36636853</td>\n",
       "      <td>621226</td>\n",
       "      <td>36597564</td>\n",
       "      <td>621016</td>\n",
       "      <td>39289</td>\n",
       "      <td>210</td>\n",
       "      <td>1.70</td>\n",
       "      <td>North America</td>\n",
       "    </tr>\n",
       "    <tr>\n",
       "      <th>1</th>\n",
       "      <td>India</td>\n",
       "      <td>32192576</td>\n",
       "      <td>431225</td>\n",
       "      <td>32156493</td>\n",
       "      <td>430732</td>\n",
       "      <td>36083</td>\n",
       "      <td>493</td>\n",
       "      <td>1.34</td>\n",
       "      <td>Asia</td>\n",
       "    </tr>\n",
       "    <tr>\n",
       "      <th>2</th>\n",
       "      <td>Brazil</td>\n",
       "      <td>20350142</td>\n",
       "      <td>568788</td>\n",
       "      <td>20319000</td>\n",
       "      <td>567862</td>\n",
       "      <td>31142</td>\n",
       "      <td>926</td>\n",
       "      <td>2.80</td>\n",
       "      <td>South America</td>\n",
       "    </tr>\n",
       "    <tr>\n",
       "      <th>3</th>\n",
       "      <td>Russia</td>\n",
       "      <td>6490421</td>\n",
       "      <td>166795</td>\n",
       "      <td>6468890</td>\n",
       "      <td>165996</td>\n",
       "      <td>21531</td>\n",
       "      <td>799</td>\n",
       "      <td>2.57</td>\n",
       "      <td>Europe</td>\n",
       "    </tr>\n",
       "    <tr>\n",
       "      <th>4</th>\n",
       "      <td>France</td>\n",
       "      <td>6471262</td>\n",
       "      <td>112705</td>\n",
       "      <td>6471262</td>\n",
       "      <td>112705</td>\n",
       "      <td>0</td>\n",
       "      <td>0</td>\n",
       "      <td>1.74</td>\n",
       "      <td>Europe</td>\n",
       "    </tr>\n",
       "  </tbody>\n",
       "</table>\n",
       "</div>"
      ],
      "text/plain": [
       "  Country/Region     Cases  Deaths    PCases  PDeaths  Cases (+)  Deaths (+)  \\\n",
       "0             US  36636853  621226  36597564   621016      39289         210   \n",
       "1          India  32192576  431225  32156493   430732      36083         493   \n",
       "2         Brazil  20350142  568788  20319000   567862      31142         926   \n",
       "3         Russia   6490421  166795   6468890   165996      21531         799   \n",
       "4         France   6471262  112705   6471262   112705          0           0   \n",
       "\n",
       "   Fatality Rate      Continent  \n",
       "0           1.70  North America  \n",
       "1           1.34           Asia  \n",
       "2           2.80  South America  \n",
       "3           2.57         Europe  \n",
       "4           1.74         Europe  "
      ]
     },
     "execution_count": 13,
     "metadata": {},
     "output_type": "execute_result"
    }
   ],
   "source": [
    "#hide\n",
    "for c in 'Cases, Deaths'.split(', '):\n",
    "    df_table[f'{c} (+)'] = (df_table[c] - df_table[f'P{c}']).clip(0)\n",
    "    #Clip ça veut dire, les chiffres negatif sont interdit\n",
    "df_table['Fatality Rate'] = (100* df_table['Deaths']/ df_table['Cases']).round(2)\n",
    "df_table['Continent'] = df_table['Country/Region'].map(mapping['map.continent'])\n",
    "df_table.head(5)"
   ]
  },
  {
   "cell_type": "code",
   "execution_count": 14,
   "id": "aboriginal-bulgaria",
   "metadata": {
    "execution": {
     "iopub.execute_input": "2021-08-15T12:10:43.606805Z",
     "iopub.status.busy": "2021-08-15T12:10:43.606151Z",
     "iopub.status.idle": "2021-08-15T12:10:43.608600Z",
     "shell.execute_reply": "2021-08-15T12:10:43.609189Z"
    },
    "papermill": {
     "duration": 0.051193,
     "end_time": "2021-08-15T12:10:43.609369",
     "exception": false,
     "start_time": "2021-08-15T12:10:43.558176",
     "status": "completed"
    },
    "tags": []
   },
   "outputs": [],
   "source": [
    "#hide\n",
    "#delete problematic countries from table\n",
    "df_table = df_table[~df_table['Country/Region'].isin(['Cape Verde', 'Cruise Ship', 'Kosovo'])]"
   ]
  },
  {
   "cell_type": "code",
   "execution_count": 15,
   "id": "fantastic-effect",
   "metadata": {
    "execution": {
     "iopub.execute_input": "2021-08-15T12:10:43.701728Z",
     "iopub.status.busy": "2021-08-15T12:10:43.700954Z",
     "iopub.status.idle": "2021-08-15T12:10:43.723491Z",
     "shell.execute_reply": "2021-08-15T12:10:43.722822Z"
    },
    "papermill": {
     "duration": 0.074058,
     "end_time": "2021-08-15T12:10:43.723669",
     "exception": false,
     "start_time": "2021-08-15T12:10:43.649611",
     "status": "completed"
    },
    "tags": []
   },
   "outputs": [
    {
     "data": {
      "text/html": [
       "<div>\n",
       "<style scoped>\n",
       "    .dataframe tbody tr th:only-of-type {\n",
       "        vertical-align: middle;\n",
       "    }\n",
       "\n",
       "    .dataframe tbody tr th {\n",
       "        vertical-align: top;\n",
       "    }\n",
       "\n",
       "    .dataframe thead th {\n",
       "        text-align: right;\n",
       "    }\n",
       "</style>\n",
       "<table border=\"1\" class=\"dataframe\">\n",
       "  <thead>\n",
       "    <tr style=\"text-align: right;\">\n",
       "      <th></th>\n",
       "      <th>Country/Region</th>\n",
       "      <th>Cases</th>\n",
       "      <th>Deaths</th>\n",
       "      <th>PCases</th>\n",
       "      <th>PDeaths</th>\n",
       "      <th>Cases (+)</th>\n",
       "      <th>Deaths (+)</th>\n",
       "      <th>Fatality Rate</th>\n",
       "      <th>Continent</th>\n",
       "    </tr>\n",
       "  </thead>\n",
       "  <tbody>\n",
       "    <tr>\n",
       "      <th>0</th>\n",
       "      <td>US</td>\n",
       "      <td>36636853</td>\n",
       "      <td>621226</td>\n",
       "      <td>36597564</td>\n",
       "      <td>621016</td>\n",
       "      <td>39289</td>\n",
       "      <td>210</td>\n",
       "      <td>1.7</td>\n",
       "      <td>North America</td>\n",
       "    </tr>\n",
       "    <tr>\n",
       "      <th>1</th>\n",
       "      <td>India</td>\n",
       "      <td>32192576</td>\n",
       "      <td>431225</td>\n",
       "      <td>32156493</td>\n",
       "      <td>430732</td>\n",
       "      <td>36083</td>\n",
       "      <td>493</td>\n",
       "      <td>1.3</td>\n",
       "      <td>Asia</td>\n",
       "    </tr>\n",
       "    <tr>\n",
       "      <th>2</th>\n",
       "      <td>Brazil</td>\n",
       "      <td>20350142</td>\n",
       "      <td>568788</td>\n",
       "      <td>20319000</td>\n",
       "      <td>567862</td>\n",
       "      <td>31142</td>\n",
       "      <td>926</td>\n",
       "      <td>2.8</td>\n",
       "      <td>South America</td>\n",
       "    </tr>\n",
       "    <tr>\n",
       "      <th>3</th>\n",
       "      <td>Russia</td>\n",
       "      <td>6490421</td>\n",
       "      <td>166795</td>\n",
       "      <td>6468890</td>\n",
       "      <td>165996</td>\n",
       "      <td>21531</td>\n",
       "      <td>799</td>\n",
       "      <td>2.6</td>\n",
       "      <td>Europe</td>\n",
       "    </tr>\n",
       "    <tr>\n",
       "      <th>4</th>\n",
       "      <td>France</td>\n",
       "      <td>6471262</td>\n",
       "      <td>112705</td>\n",
       "      <td>6471262</td>\n",
       "      <td>112705</td>\n",
       "      <td>0</td>\n",
       "      <td>0</td>\n",
       "      <td>1.7</td>\n",
       "      <td>Europe</td>\n",
       "    </tr>\n",
       "  </tbody>\n",
       "</table>\n",
       "</div>"
      ],
      "text/plain": [
       "  Country/Region     Cases  Deaths    PCases  PDeaths  Cases (+)  Deaths (+)  \\\n",
       "0             US  36636853  621226  36597564   621016      39289         210   \n",
       "1          India  32192576  431225  32156493   430732      36083         493   \n",
       "2         Brazil  20350142  568788  20319000   567862      31142         926   \n",
       "3         Russia   6490421  166795   6468890   165996      21531         799   \n",
       "4         France   6471262  112705   6471262   112705          0           0   \n",
       "\n",
       "   Fatality Rate      Continent  \n",
       "0            1.7  North America  \n",
       "1            1.3           Asia  \n",
       "2            2.8  South America  \n",
       "3            2.6         Europe  \n",
       "4            1.7         Europe  "
      ]
     },
     "execution_count": 15,
     "metadata": {},
     "output_type": "execute_result"
    }
   ],
   "source": [
    "#hide\n",
    "df_table = (pd.DataFrame(dict(Cases=dfc_cases, Deaths=dfc_deaths, PCases=dfp_cases, PDeaths=dfp_deaths))\n",
    "             .sort_values(by=['Cases', 'Deaths'], ascending=[False, False])\n",
    "             .reset_index())\n",
    "df_table.rename(columns={'index': 'Country/Region'}, inplace=True)\n",
    "for c in 'Cases, Deaths'.split(', '):\n",
    "    df_table[f'{c} (+)'] = (df_table[c] - df_table[f'P{c}']).clip(0)  # DATA BUG\n",
    "df_table['Fatality Rate'] = (100 * df_table['Deaths'] / df_table['Cases']).round(1)\n",
    "df_table['Continent'] = df_table['Country/Region'].map(mapping['map.continent'])\n",
    "df_table.head(5)"
   ]
  },
  {
   "cell_type": "code",
   "execution_count": 16,
   "id": "fewer-occasion",
   "metadata": {
    "execution": {
     "iopub.execute_input": "2021-08-15T12:10:43.813859Z",
     "iopub.status.busy": "2021-08-15T12:10:43.813178Z",
     "iopub.status.idle": "2021-08-15T12:10:43.816680Z",
     "shell.execute_reply": "2021-08-15T12:10:43.817236Z"
    },
    "papermill": {
     "duration": 0.050778,
     "end_time": "2021-08-15T12:10:43.817376",
     "exception": false,
     "start_time": "2021-08-15T12:10:43.766598",
     "status": "completed"
    },
    "tags": []
   },
   "outputs": [],
   "source": [
    "#hide\n",
    "#delete problematic countries from table\n",
    "df_table = df_table[~df_table['Country/Region'].isin(['Cape Verde', 'Cruise Ship', 'Kosovo'])]"
   ]
  },
  {
   "cell_type": "code",
   "execution_count": 17,
   "id": "related-center",
   "metadata": {
    "execution": {
     "iopub.execute_input": "2021-08-15T12:10:43.921602Z",
     "iopub.status.busy": "2021-08-15T12:10:43.920971Z",
     "iopub.status.idle": "2021-08-15T12:10:43.923296Z",
     "shell.execute_reply": "2021-08-15T12:10:43.922627Z"
    },
    "papermill": {
     "duration": 0.065019,
     "end_time": "2021-08-15T12:10:43.923529",
     "exception": false,
     "start_time": "2021-08-15T12:10:43.858510",
     "status": "completed"
    },
    "tags": []
   },
   "outputs": [],
   "source": [
    "#hide\n",
    "metrics = [df_table.columns[index] for index in [1,2,5,6]]\n",
    "# s_china = df_table[df_table['Country/Region'].eq('China')][metrics].sum().add_prefix('China ')\n",
    "s_us = df_table[df_table['Country/Region'].eq('US')][metrics].sum().add_prefix('US ')\n",
    "s_eu = df_table[df_table['Continent'].eq('Europe')][metrics].sum().add_prefix('EU ')\n",
    "s_ind = df_table[df_table['Country/Region'].eq('India')][metrics].sum().add_prefix('India ')\n",
    "summary = {'updated': pd.to_datetime(dt_today), 'since': pd.to_datetime(dt_yday)}\n",
    "summary = {'updated': pd.to_datetime(dt_today), 'since': pd.to_datetime(dt_yday)}\n",
    "summary = {**summary, **df_table[metrics].sum(), **s_ind, **s_us, **s_eu}"
   ]
  },
  {
   "cell_type": "code",
   "execution_count": 18,
   "id": "engaging-syndrome",
   "metadata": {
    "execution": {
     "iopub.execute_input": "2021-08-15T12:10:44.009555Z",
     "iopub.status.busy": "2021-08-15T12:10:44.008908Z",
     "iopub.status.idle": "2021-08-15T12:10:44.024119Z",
     "shell.execute_reply": "2021-08-15T12:10:44.024772Z"
    },
    "papermill": {
     "duration": 0.061553,
     "end_time": "2021-08-15T12:10:44.024970",
     "exception": false,
     "start_time": "2021-08-15T12:10:43.963417",
     "status": "completed"
    },
    "tags": []
   },
   "outputs": [],
   "source": [
    "#hide\n",
    "dft_ct_new_cases = dft_cases.groupby(COL_REGION)[dt_cols].sum().diff(axis=1).fillna(0).astype(int)"
   ]
  },
  {
   "cell_type": "code",
   "execution_count": 19,
   "id": "neutral-assignment",
   "metadata": {
    "execution": {
     "iopub.execute_input": "2021-08-15T12:10:44.122118Z",
     "iopub.status.busy": "2021-08-15T12:10:44.120870Z",
     "iopub.status.idle": "2021-08-15T12:10:44.122986Z",
     "shell.execute_reply": "2021-08-15T12:10:44.123620Z"
    },
    "papermill": {
     "duration": 0.057179,
     "end_time": "2021-08-15T12:10:44.123763",
     "exception": false,
     "start_time": "2021-08-15T12:10:44.066584",
     "status": "completed"
    },
    "tags": []
   },
   "outputs": [],
   "source": [
    "#hide\n",
    "everydaycases = dft_ct_new_cases.cumsum(axis=1)"
   ]
  },
  {
   "cell_type": "code",
   "execution_count": 20,
   "id": "parliamentary-calgary",
   "metadata": {
    "execution": {
     "iopub.execute_input": "2021-08-15T12:10:44.211257Z",
     "iopub.status.busy": "2021-08-15T12:10:44.210540Z",
     "iopub.status.idle": "2021-08-15T12:10:44.930293Z",
     "shell.execute_reply": "2021-08-15T12:10:44.930829Z"
    },
    "papermill": {
     "duration": 0.76676,
     "end_time": "2021-08-15T12:10:44.930993",
     "exception": false,
     "start_time": "2021-08-15T12:10:44.164233",
     "status": "completed"
    },
    "tags": []
   },
   "outputs": [],
   "source": [
    "#hide\n",
    "import pandas as pd\n",
    "import matplotlib.pyplot as plt\n",
    "import matplotlib.ticker as ticker\n",
    "import matplotlib.animation as animation\n",
    "from IPython.display import HTML"
   ]
  },
  {
   "cell_type": "code",
   "execution_count": 21,
   "id": "lasting-extraction",
   "metadata": {
    "execution": {
     "iopub.execute_input": "2021-08-15T12:10:45.017981Z",
     "iopub.status.busy": "2021-08-15T12:10:45.017293Z",
     "iopub.status.idle": "2021-08-15T12:10:45.022872Z",
     "shell.execute_reply": "2021-08-15T12:10:45.023415Z"
    },
    "papermill": {
     "duration": 0.053255,
     "end_time": "2021-08-15T12:10:45.023575",
     "exception": false,
     "start_time": "2021-08-15T12:10:44.970320",
     "status": "completed"
    },
    "tags": []
   },
   "outputs": [],
   "source": [
    "#hide\n",
    "t = everydaycases.stack()"
   ]
  },
  {
   "cell_type": "code",
   "execution_count": 22,
   "id": "premier-sleeve",
   "metadata": {
    "execution": {
     "iopub.execute_input": "2021-08-15T12:10:45.111880Z",
     "iopub.status.busy": "2021-08-15T12:10:45.111197Z",
     "iopub.status.idle": "2021-08-15T12:10:45.121170Z",
     "shell.execute_reply": "2021-08-15T12:10:45.121678Z"
    },
    "papermill": {
     "duration": 0.057108,
     "end_time": "2021-08-15T12:10:45.121872",
     "exception": false,
     "start_time": "2021-08-15T12:10:45.064764",
     "status": "completed"
    },
    "tags": []
   },
   "outputs": [],
   "source": [
    "#hide\n",
    "g = t.reset_index(['Country/Region'])"
   ]
  },
  {
   "cell_type": "code",
   "execution_count": 23,
   "id": "distributed-pittsburgh",
   "metadata": {
    "execution": {
     "iopub.execute_input": "2021-08-15T12:10:45.212267Z",
     "iopub.status.busy": "2021-08-15T12:10:45.211663Z",
     "iopub.status.idle": "2021-08-15T12:10:45.213912Z",
     "shell.execute_reply": "2021-08-15T12:10:45.213316Z"
    },
    "papermill": {
     "duration": 0.050479,
     "end_time": "2021-08-15T12:10:45.214032",
     "exception": false,
     "start_time": "2021-08-15T12:10:45.163553",
     "status": "completed"
    },
    "tags": []
   },
   "outputs": [],
   "source": [
    "#hide\n",
    "g.index.name = 'date'"
   ]
  },
  {
   "cell_type": "code",
   "execution_count": 24,
   "id": "naked-donor",
   "metadata": {
    "execution": {
     "iopub.execute_input": "2021-08-15T12:10:45.302029Z",
     "iopub.status.busy": "2021-08-15T12:10:45.301333Z",
     "iopub.status.idle": "2021-08-15T12:10:45.304074Z",
     "shell.execute_reply": "2021-08-15T12:10:45.303497Z"
    },
    "papermill": {
     "duration": 0.049473,
     "end_time": "2021-08-15T12:10:45.304225",
     "exception": false,
     "start_time": "2021-08-15T12:10:45.254752",
     "status": "completed"
    },
    "tags": []
   },
   "outputs": [],
   "source": [
    "# #hide\n",
    "# g = g.reset_index(['date'])"
   ]
  },
  {
   "cell_type": "code",
   "execution_count": 25,
   "id": "incomplete-mustang",
   "metadata": {
    "execution": {
     "iopub.execute_input": "2021-08-15T12:10:45.392646Z",
     "iopub.status.busy": "2021-08-15T12:10:45.391931Z",
     "iopub.status.idle": "2021-08-15T12:10:45.394567Z",
     "shell.execute_reply": "2021-08-15T12:10:45.393934Z"
    },
    "papermill": {
     "duration": 0.04782,
     "end_time": "2021-08-15T12:10:45.394709",
     "exception": false,
     "start_time": "2021-08-15T12:10:45.346889",
     "status": "completed"
    },
    "tags": []
   },
   "outputs": [],
   "source": [
    "#hide\n",
    "# g.head()"
   ]
  },
  {
   "cell_type": "code",
   "execution_count": 26,
   "id": "specific-kruger",
   "metadata": {
    "execution": {
     "iopub.execute_input": "2021-08-15T12:10:45.483098Z",
     "iopub.status.busy": "2021-08-15T12:10:45.482394Z",
     "iopub.status.idle": "2021-08-15T12:10:45.484402Z",
     "shell.execute_reply": "2021-08-15T12:10:45.485063Z"
    },
    "papermill": {
     "duration": 0.048624,
     "end_time": "2021-08-15T12:10:45.485205",
     "exception": false,
     "start_time": "2021-08-15T12:10:45.436581",
     "status": "completed"
    },
    "tags": []
   },
   "outputs": [],
   "source": [
    "#hide\n",
    "# g.columns = ['date','country','cases']"
   ]
  },
  {
   "cell_type": "code",
   "execution_count": 27,
   "id": "tender-conversion",
   "metadata": {
    "execution": {
     "iopub.execute_input": "2021-08-15T12:10:45.573479Z",
     "iopub.status.busy": "2021-08-15T12:10:45.572776Z",
     "iopub.status.idle": "2021-08-15T12:10:45.574730Z",
     "shell.execute_reply": "2021-08-15T12:10:45.575298Z"
    },
    "papermill": {
     "duration": 0.048595,
     "end_time": "2021-08-15T12:10:45.575445",
     "exception": false,
     "start_time": "2021-08-15T12:10:45.526850",
     "status": "completed"
    },
    "tags": []
   },
   "outputs": [],
   "source": [
    "#hide\n",
    "# g['continent'] = g.country"
   ]
  },
  {
   "cell_type": "code",
   "execution_count": 28,
   "id": "substantial-wilderness",
   "metadata": {
    "execution": {
     "iopub.execute_input": "2021-08-15T12:10:45.667957Z",
     "iopub.status.busy": "2021-08-15T12:10:45.666942Z",
     "iopub.status.idle": "2021-08-15T12:10:45.670654Z",
     "shell.execute_reply": "2021-08-15T12:10:45.671309Z"
    },
    "papermill": {
     "duration": 0.049109,
     "end_time": "2021-08-15T12:10:45.671478",
     "exception": false,
     "start_time": "2021-08-15T12:10:45.622369",
     "status": "completed"
    },
    "tags": []
   },
   "outputs": [],
   "source": [
    "#hide\n",
    "# cols = list(g.columns.values)"
   ]
  },
  {
   "cell_type": "code",
   "execution_count": 29,
   "id": "solved-farming",
   "metadata": {
    "execution": {
     "iopub.execute_input": "2021-08-15T12:10:45.772493Z",
     "iopub.status.busy": "2021-08-15T12:10:45.771772Z",
     "iopub.status.idle": "2021-08-15T12:10:45.773868Z",
     "shell.execute_reply": "2021-08-15T12:10:45.774618Z"
    },
    "papermill": {
     "duration": 0.059046,
     "end_time": "2021-08-15T12:10:45.774784",
     "exception": false,
     "start_time": "2021-08-15T12:10:45.715738",
     "status": "completed"
    },
    "tags": []
   },
   "outputs": [],
   "source": [
    "#hide\n",
    "# cols.insert(0, cols.pop())"
   ]
  },
  {
   "cell_type": "code",
   "execution_count": 30,
   "id": "executed-adoption",
   "metadata": {
    "execution": {
     "iopub.execute_input": "2021-08-15T12:10:45.863137Z",
     "iopub.status.busy": "2021-08-15T12:10:45.862474Z",
     "iopub.status.idle": "2021-08-15T12:10:45.865002Z",
     "shell.execute_reply": "2021-08-15T12:10:45.864277Z"
    },
    "papermill": {
     "duration": 0.050697,
     "end_time": "2021-08-15T12:10:45.865135",
     "exception": false,
     "start_time": "2021-08-15T12:10:45.814438",
     "status": "completed"
    },
    "tags": []
   },
   "outputs": [],
   "source": [
    "#hide\n",
    "# g = g[cols]"
   ]
  },
  {
   "cell_type": "code",
   "execution_count": 31,
   "id": "subject-dublin",
   "metadata": {
    "execution": {
     "iopub.execute_input": "2021-08-15T12:10:45.953511Z",
     "iopub.status.busy": "2021-08-15T12:10:45.952640Z",
     "iopub.status.idle": "2021-08-15T12:10:45.955209Z",
     "shell.execute_reply": "2021-08-15T12:10:45.954570Z"
    },
    "papermill": {
     "duration": 0.047876,
     "end_time": "2021-08-15T12:10:45.955340",
     "exception": false,
     "start_time": "2021-08-15T12:10:45.907464",
     "status": "completed"
    },
    "tags": []
   },
   "outputs": [],
   "source": [
    "#hide\n",
    "# g['continent'] = g['continent'].map(mapping['map.continent'])"
   ]
  },
  {
   "cell_type": "code",
   "execution_count": 32,
   "id": "freelance-scout",
   "metadata": {
    "execution": {
     "iopub.execute_input": "2021-08-15T12:10:46.041303Z",
     "iopub.status.busy": "2021-08-15T12:10:46.040698Z",
     "iopub.status.idle": "2021-08-15T12:10:46.043291Z",
     "shell.execute_reply": "2021-08-15T12:10:46.042589Z"
    },
    "papermill": {
     "duration": 0.048838,
     "end_time": "2021-08-15T12:10:46.043425",
     "exception": false,
     "start_time": "2021-08-15T12:10:45.994587",
     "status": "completed"
    },
    "tags": []
   },
   "outputs": [],
   "source": [
    "#hide\n",
    "# g.head()"
   ]
  },
  {
   "cell_type": "code",
   "execution_count": 33,
   "id": "limited-engine",
   "metadata": {
    "execution": {
     "iopub.execute_input": "2021-08-15T12:10:46.129392Z",
     "iopub.status.busy": "2021-08-15T12:10:46.128680Z",
     "iopub.status.idle": "2021-08-15T12:10:46.130518Z",
     "shell.execute_reply": "2021-08-15T12:10:46.131073Z"
    },
    "papermill": {
     "duration": 0.046604,
     "end_time": "2021-08-15T12:10:46.131216",
     "exception": false,
     "start_time": "2021-08-15T12:10:46.084612",
     "status": "completed"
    },
    "tags": []
   },
   "outputs": [],
   "source": [
    "# hide\n",
    "# g['date'] = g['date'].astype('datetime64[ns]')"
   ]
  },
  {
   "cell_type": "code",
   "execution_count": 34,
   "id": "sophisticated-supervisor",
   "metadata": {
    "execution": {
     "iopub.execute_input": "2021-08-15T12:10:46.214703Z",
     "iopub.status.busy": "2021-08-15T12:10:46.214101Z",
     "iopub.status.idle": "2021-08-15T12:10:46.216469Z",
     "shell.execute_reply": "2021-08-15T12:10:46.215939Z"
    },
    "papermill": {
     "duration": 0.045582,
     "end_time": "2021-08-15T12:10:46.216591",
     "exception": false,
     "start_time": "2021-08-15T12:10:46.171009",
     "status": "completed"
    },
    "tags": []
   },
   "outputs": [],
   "source": [
    "#hide\n",
    "# g['date'] = g.date.dt.dayofyear"
   ]
  },
  {
   "cell_type": "code",
   "execution_count": 35,
   "id": "inside-dubai",
   "metadata": {
    "execution": {
     "iopub.execute_input": "2021-08-15T12:10:46.308294Z",
     "iopub.status.busy": "2021-08-15T12:10:46.307602Z",
     "iopub.status.idle": "2021-08-15T12:10:46.310298Z",
     "shell.execute_reply": "2021-08-15T12:10:46.309641Z"
    },
    "papermill": {
     "duration": 0.052427,
     "end_time": "2021-08-15T12:10:46.310444",
     "exception": false,
     "start_time": "2021-08-15T12:10:46.258017",
     "status": "completed"
    },
    "tags": []
   },
   "outputs": [],
   "source": [
    "#hide\n",
    "# g = g.rename(columns= {'continent':'group','country':'name','cases':'value'})"
   ]
  },
  {
   "cell_type": "code",
   "execution_count": 36,
   "id": "fleet-motorcycle",
   "metadata": {
    "execution": {
     "iopub.execute_input": "2021-08-15T12:10:46.393161Z",
     "iopub.status.busy": "2021-08-15T12:10:46.392326Z",
     "iopub.status.idle": "2021-08-15T12:10:46.394462Z",
     "shell.execute_reply": "2021-08-15T12:10:46.394973Z"
    },
    "papermill": {
     "duration": 0.045213,
     "end_time": "2021-08-15T12:10:46.395130",
     "exception": false,
     "start_time": "2021-08-15T12:10:46.349917",
     "status": "completed"
    },
    "tags": []
   },
   "outputs": [],
   "source": [
    "#hide\n",
    "# cols = ['name','group','day','value']"
   ]
  },
  {
   "cell_type": "code",
   "execution_count": 37,
   "id": "continued-sleeping",
   "metadata": {
    "execution": {
     "iopub.execute_input": "2021-08-15T12:10:46.481019Z",
     "iopub.status.busy": "2021-08-15T12:10:46.480038Z",
     "iopub.status.idle": "2021-08-15T12:10:46.481729Z",
     "shell.execute_reply": "2021-08-15T12:10:46.482391Z"
    },
    "papermill": {
     "duration": 0.047565,
     "end_time": "2021-08-15T12:10:46.482573",
     "exception": false,
     "start_time": "2021-08-15T12:10:46.435008",
     "status": "completed"
    },
    "tags": []
   },
   "outputs": [],
   "source": [
    "#hide\n",
    "# g.rename(columns= {'date':'day'},inplace = True)"
   ]
  },
  {
   "cell_type": "code",
   "execution_count": 38,
   "id": "major-fight",
   "metadata": {
    "execution": {
     "iopub.execute_input": "2021-08-15T12:10:46.570433Z",
     "iopub.status.busy": "2021-08-15T12:10:46.569768Z",
     "iopub.status.idle": "2021-08-15T12:10:46.571478Z",
     "shell.execute_reply": "2021-08-15T12:10:46.572077Z"
    },
    "papermill": {
     "duration": 0.046538,
     "end_time": "2021-08-15T12:10:46.572222",
     "exception": false,
     "start_time": "2021-08-15T12:10:46.525684",
     "status": "completed"
    },
    "tags": []
   },
   "outputs": [],
   "source": [
    "#hide\n",
    "# g = g[cols]"
   ]
  },
  {
   "cell_type": "code",
   "execution_count": 39,
   "id": "structured-mobile",
   "metadata": {
    "execution": {
     "iopub.execute_input": "2021-08-15T12:10:46.660602Z",
     "iopub.status.busy": "2021-08-15T12:10:46.659893Z",
     "iopub.status.idle": "2021-08-15T12:10:46.662006Z",
     "shell.execute_reply": "2021-08-15T12:10:46.662550Z"
    },
    "papermill": {
     "duration": 0.050863,
     "end_time": "2021-08-15T12:10:46.662693",
     "exception": false,
     "start_time": "2021-08-15T12:10:46.611830",
     "status": "completed"
    },
    "tags": []
   },
   "outputs": [],
   "source": [
    "# #hide\n",
    "# g = g[g.group.notna()]"
   ]
  },
  {
   "cell_type": "code",
   "execution_count": 40,
   "id": "determined-closing",
   "metadata": {
    "execution": {
     "iopub.execute_input": "2021-08-15T12:10:46.748692Z",
     "iopub.status.busy": "2021-08-15T12:10:46.748005Z",
     "iopub.status.idle": "2021-08-15T12:10:46.749975Z",
     "shell.execute_reply": "2021-08-15T12:10:46.750511Z"
    },
    "papermill": {
     "duration": 0.047942,
     "end_time": "2021-08-15T12:10:46.750652",
     "exception": false,
     "start_time": "2021-08-15T12:10:46.702710",
     "status": "completed"
    },
    "tags": []
   },
   "outputs": [],
   "source": [
    "# #hide\n",
    "# colors = dict(zip(\n",
    "#     [\"Oceania\", \"Europe\", \"Asia\", \"South America\", \"Middle East\", \"North America\", \"Africa\"],\n",
    "#     [\"#adb0ff\", \"#ffb3ff\", \"#90d595\", \"#e48381\", \"#aafbff\", \"#f7bb5f\", \"#eafb50\"]\n",
    "# ))\n",
    "# group_lk = g.set_index('name')['group'].to_dict()"
   ]
  },
  {
   "cell_type": "code",
   "execution_count": null,
   "id": "gross-drinking",
   "metadata": {
    "papermill": {
     "duration": 0.04013,
     "end_time": "2021-08-15T12:10:46.831984",
     "exception": false,
     "start_time": "2021-08-15T12:10:46.791854",
     "status": "completed"
    },
    "tags": []
   },
   "outputs": [],
   "source": []
  },
  {
   "cell_type": "code",
   "execution_count": 41,
   "id": "subject-macintosh",
   "metadata": {
    "execution": {
     "iopub.execute_input": "2021-08-15T12:10:46.914896Z",
     "iopub.status.busy": "2021-08-15T12:10:46.914337Z",
     "iopub.status.idle": "2021-08-15T12:10:46.916701Z",
     "shell.execute_reply": "2021-08-15T12:10:46.916129Z"
    },
    "papermill": {
     "duration": 0.044569,
     "end_time": "2021-08-15T12:10:46.916902",
     "exception": false,
     "start_time": "2021-08-15T12:10:46.872333",
     "status": "completed"
    },
    "tags": []
   },
   "outputs": [],
   "source": [
    "# #hide\n",
    "# fig, ax = plt.subplots(figsize=(15, 8))\n",
    "\n",
    "# def draw_barchart(current_day):\n",
    "#     dff = g[g['day'].eq(current_day)].sort_values(by='value', ascending=True).tail(10)\n",
    "#     ax.clear()\n",
    "#     ax.barh(dff['name'], dff['value'], color=[colors[group_lk[x]] for x in dff['name']])\n",
    "#     dx = dff['value'].max() / 200\n",
    "    \n",
    "#     for i, (value, name) in enumerate(zip(dff['value'], dff['name'])):\n",
    "#         ax.text(value-dx, i,     name,           size=14, weight=600, ha='right', va='bottom')\n",
    "#         ax.text(value-dx, i-.25, group_lk[name], size=10, color='#444444', ha='right', va='baseline')\n",
    "#         ax.text(value+dx, i,     f'{value:,.0f}',  size=14, ha='left',  va='center')\n",
    "#     ax.text(1, 0.4, current_day, transform=ax.transAxes, color='#777777', size=46, ha='right', weight=800)\n",
    "#     ax.text(0, 1.06, 'Population (thousands)', transform=ax.transAxes, size=12, color='#777777')\n",
    "#     ax.xaxis.set_major_formatter(ticker.StrMethodFormatter('{x:,.0f}'))\n",
    "#     ax.xaxis.set_ticks_position('top')\n",
    "#     ax.tick_params(axis='x', colors='#777777', labelsize=12)\n",
    "#     ax.set_yticks([])\n",
    "#     ax.margins(0, 0.01)\n",
    "#     ax.grid(which='major', axis='x', linestyle='-')\n",
    "#     ax.set_axisbelow(True)\n",
    "    \n",
    "#     ax.text(0, 1.15, 'Coronavirus',\n",
    "#             transform=ax.transAxes, size=24, weight=600, ha='left', va='top')\n",
    "# #     ax.text(1, 0, 'by @pratapvardhan; credit @jburnmurdoch', transform=ax.transAxes, color='#777777', ha='right',\n",
    "# #             bbox=dict(facecolor='white', alpha=0.8, edgecolor='white'))\n",
    "#     plt.box(False)"
   ]
  },
  {
   "cell_type": "code",
   "execution_count": 42,
   "id": "sexual-wages",
   "metadata": {
    "execution": {
     "iopub.execute_input": "2021-08-15T12:10:47.014942Z",
     "iopub.status.busy": "2021-08-15T12:10:47.014274Z",
     "iopub.status.idle": "2021-08-15T12:10:47.016792Z",
     "shell.execute_reply": "2021-08-15T12:10:47.016027Z"
    },
    "papermill": {
     "duration": 0.056464,
     "end_time": "2021-08-15T12:10:47.016932",
     "exception": false,
     "start_time": "2021-08-15T12:10:46.960468",
     "status": "completed"
    },
    "tags": []
   },
   "outputs": [],
   "source": [
    "# #hide_input\n",
    "# fig, ax = plt.subplots(figsize=(15, 8))\n",
    "# animator = animation.FuncAnimation(fig, draw_barchart, frames=range(g.day.values.min(), g.day.values.max()))\n",
    "# HTML(animator.to_jshtml())\n",
    "# # or use animator.to_html5_video() or animator.save() "
   ]
  },
  {
   "cell_type": "code",
   "execution_count": null,
   "id": "australian-container",
   "metadata": {
    "papermill": {
     "duration": 0.041836,
     "end_time": "2021-08-15T12:10:47.101186",
     "exception": false,
     "start_time": "2021-08-15T12:10:47.059350",
     "status": "completed"
    },
    "tags": []
   },
   "outputs": [],
   "source": []
  },
  {
   "cell_type": "code",
   "execution_count": null,
   "id": "mediterranean-pontiac",
   "metadata": {
    "papermill": {
     "duration": 0.040344,
     "end_time": "2021-08-15T12:10:47.181189",
     "exception": false,
     "start_time": "2021-08-15T12:10:47.140845",
     "status": "completed"
    },
    "tags": []
   },
   "outputs": [],
   "source": []
  },
  {
   "cell_type": "code",
   "execution_count": null,
   "id": "aging-legislature",
   "metadata": {
    "papermill": {
     "duration": 0.038685,
     "end_time": "2021-08-15T12:10:47.259622",
     "exception": false,
     "start_time": "2021-08-15T12:10:47.220937",
     "status": "completed"
    },
    "tags": []
   },
   "outputs": [],
   "source": []
  }
 ],
 "metadata": {
  "kernelspec": {
   "display_name": "Python 3",
   "language": "python",
   "name": "python3"
  },
  "language_info": {
   "codemirror_mode": {
    "name": "ipython",
    "version": 3
   },
   "file_extension": ".py",
   "mimetype": "text/x-python",
   "name": "python",
   "nbconvert_exporter": "python",
   "pygments_lexer": "ipython3",
   "version": "3.6.14"
  },
  "papermill": {
   "duration": 7.299327,
   "end_time": "2021-08-15T12:10:47.605432",
   "environment_variables": {},
   "exception": null,
   "input_path": "2020-03-21-covid19exp.ipynb",
   "output_path": "2020-03-21-covid19exp.ipynb",
   "parameters": {},
   "start_time": "2021-08-15T12:10:40.306105",
   "version": "2.0.0"
  }
 },
 "nbformat": 4,
 "nbformat_minor": 5
}