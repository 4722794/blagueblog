{
 "cells": [
  {
   "cell_type": "markdown",
   "id": "muslim-click",
   "metadata": {
    "papermill": {
     "duration": 0.043001,
     "end_time": "2021-05-11T12:08:07.850363",
     "exception": false,
     "start_time": "2021-05-11T12:08:07.807362",
     "status": "completed"
    },
    "tags": []
   },
   "source": [
    "# COVID-19 Case Race\n",
    "> A race chart to see rising cases around the world\n",
    "\n",
    "- author: Hargun Oberoi\n",
    "- image: images/covid-overview.png\n",
    "- hide: false\n",
    "- badges: false"
   ]
  },
  {
   "cell_type": "code",
   "execution_count": 1,
   "id": "proof-material",
   "metadata": {
    "execution": {
     "iopub.execute_input": "2021-05-11T12:08:07.928959Z",
     "iopub.status.busy": "2021-05-11T12:08:07.928374Z",
     "iopub.status.idle": "2021-05-11T12:08:08.264555Z",
     "shell.execute_reply": "2021-05-11T12:08:08.263602Z"
    },
    "papermill": {
     "duration": 0.380383,
     "end_time": "2021-05-11T12:08:08.264786",
     "exception": false,
     "start_time": "2021-05-11T12:08:07.884403",
     "status": "completed"
    },
    "tags": []
   },
   "outputs": [],
   "source": [
    "#hide\n",
    "import numpy as np\n",
    "import pandas as pd\n",
    "from jinja2 import Template\n",
    "from IPython.display import HTML"
   ]
  },
  {
   "cell_type": "code",
   "execution_count": 2,
   "id": "developed-terminology",
   "metadata": {
    "execution": {
     "iopub.execute_input": "2021-05-11T12:08:08.349868Z",
     "iopub.status.busy": "2021-05-11T12:08:08.349273Z",
     "iopub.status.idle": "2021-05-11T12:08:08.351554Z",
     "shell.execute_reply": "2021-05-11T12:08:08.351068Z"
    },
    "papermill": {
     "duration": 0.042116,
     "end_time": "2021-05-11T12:08:08.351673",
     "exception": false,
     "start_time": "2021-05-11T12:08:08.309557",
     "status": "completed"
    },
    "tags": []
   },
   "outputs": [],
   "source": [
    "#hide\n",
    "\n",
    "# FETCH\n",
    "base_url = 'https://raw.githubusercontent.com/pratapvardhan/notebooks/master/covid19/'\n",
    "paths = {\n",
    "    'mapping': base_url + 'mapping_countries.csv',\n",
    "    'overview': base_url + 'overview.tpl'\n",
    "}"
   ]
  },
  {
   "cell_type": "code",
   "execution_count": 3,
   "id": "dynamic-saver",
   "metadata": {
    "execution": {
     "iopub.execute_input": "2021-05-11T12:08:08.434883Z",
     "iopub.status.busy": "2021-05-11T12:08:08.434278Z",
     "iopub.status.idle": "2021-05-11T12:08:08.436619Z",
     "shell.execute_reply": "2021-05-11T12:08:08.437168Z"
    },
    "papermill": {
     "duration": 0.050732,
     "end_time": "2021-05-11T12:08:08.437314",
     "exception": false,
     "start_time": "2021-05-11T12:08:08.386582",
     "status": "completed"
    },
    "tags": []
   },
   "outputs": [
    {
     "data": {
      "text/plain": [
       "'https://raw.githubusercontent.com/pratapvardhan/notebooks/master/covid19/mapping_countries.csv'"
      ]
     },
     "execution_count": 3,
     "metadata": {},
     "output_type": "execute_result"
    }
   ],
   "source": [
    "#hide\n",
    "paths['mapping']"
   ]
  },
  {
   "cell_type": "code",
   "execution_count": 4,
   "id": "urban-software",
   "metadata": {
    "execution": {
     "iopub.execute_input": "2021-05-11T12:08:08.512073Z",
     "iopub.status.busy": "2021-05-11T12:08:08.511493Z",
     "iopub.status.idle": "2021-05-11T12:08:08.513759Z",
     "shell.execute_reply": "2021-05-11T12:08:08.513266Z"
    },
    "papermill": {
     "duration": 0.042571,
     "end_time": "2021-05-11T12:08:08.513880",
     "exception": false,
     "start_time": "2021-05-11T12:08:08.471309",
     "status": "completed"
    },
    "tags": []
   },
   "outputs": [],
   "source": [
    "#hide\n",
    "def get_mappings(url):\n",
    "    df = pd.read_csv(url)\n",
    "    return {\n",
    "        'df': df,\n",
    "        'replace.country': dict(df.dropna(subset=['Name']).set_index('Country')['Name']),\n",
    "        'map.continent': dict(df.set_index('Name')['Continent'])\n",
    "    }"
   ]
  },
  {
   "cell_type": "code",
   "execution_count": 5,
   "id": "intimate-machinery",
   "metadata": {
    "execution": {
     "iopub.execute_input": "2021-05-11T12:08:08.586784Z",
     "iopub.status.busy": "2021-05-11T12:08:08.586201Z",
     "iopub.status.idle": "2021-05-11T12:08:08.646575Z",
     "shell.execute_reply": "2021-05-11T12:08:08.645508Z"
    },
    "papermill": {
     "duration": 0.09919,
     "end_time": "2021-05-11T12:08:08.646706",
     "exception": false,
     "start_time": "2021-05-11T12:08:08.547516",
     "status": "completed"
    },
    "tags": []
   },
   "outputs": [],
   "source": [
    "#hide\n",
    "mapping = get_mappings(paths['mapping'])"
   ]
  },
  {
   "cell_type": "code",
   "execution_count": 6,
   "id": "certified-tactics",
   "metadata": {
    "execution": {
     "iopub.execute_input": "2021-05-11T12:08:08.719945Z",
     "iopub.status.busy": "2021-05-11T12:08:08.719369Z",
     "iopub.status.idle": "2021-05-11T12:08:08.721852Z",
     "shell.execute_reply": "2021-05-11T12:08:08.721393Z"
    },
    "papermill": {
     "duration": 0.041184,
     "end_time": "2021-05-11T12:08:08.721993",
     "exception": false,
     "start_time": "2021-05-11T12:08:08.680809",
     "status": "completed"
    },
    "tags": []
   },
   "outputs": [],
   "source": [
    "#hide\n",
    "def get_template(path):\n",
    "    from urllib.parse import urlparse\n",
    "    if bool(urlparse(path).netloc):\n",
    "        from urllib.request import urlopen\n",
    "        return urlopen(path).read().decode('utf8')\n",
    "    return open(path).read()"
   ]
  },
  {
   "cell_type": "code",
   "execution_count": 7,
   "id": "realistic-blast",
   "metadata": {
    "execution": {
     "iopub.execute_input": "2021-05-11T12:08:08.793257Z",
     "iopub.status.busy": "2021-05-11T12:08:08.792565Z",
     "iopub.status.idle": "2021-05-11T12:08:08.794714Z",
     "shell.execute_reply": "2021-05-11T12:08:08.794228Z"
    },
    "papermill": {
     "duration": 0.040126,
     "end_time": "2021-05-11T12:08:08.794834",
     "exception": false,
     "start_time": "2021-05-11T12:08:08.754708",
     "status": "completed"
    },
    "tags": []
   },
   "outputs": [],
   "source": [
    "#hide\n",
    "def get_frame(name):\n",
    "    url = (\n",
    "        'https://raw.githubusercontent.com/CSSEGISandData/COVID-19/master/csse_covid_19_data/'\n",
    "        f'csse_covid_19_time_series/time_series_covid19_{name}_global.csv')\n",
    "    df = pd.read_csv(url)\n",
    "    # rename countries\n",
    "    df['Country/Region'] = df['Country/Region'].replace(mapping['replace.country'])\n",
    "    return df"
   ]
  },
  {
   "cell_type": "code",
   "execution_count": 8,
   "id": "affiliated-characterization",
   "metadata": {
    "execution": {
     "iopub.execute_input": "2021-05-11T12:08:08.867612Z",
     "iopub.status.busy": "2021-05-11T12:08:08.867022Z",
     "iopub.status.idle": "2021-05-11T12:08:08.871254Z",
     "shell.execute_reply": "2021-05-11T12:08:08.870737Z"
    },
    "papermill": {
     "duration": 0.043683,
     "end_time": "2021-05-11T12:08:08.871373",
     "exception": false,
     "start_time": "2021-05-11T12:08:08.827690",
     "status": "completed"
    },
    "tags": []
   },
   "outputs": [],
   "source": [
    "#hide\n",
    "def get_dates(df):\n",
    "    dt_cols = df.columns[~df.columns.isin(['Province/State', 'Country/Region', 'Lat', 'Long'])]\n",
    "    LAST_DATE_I = -1\n",
    "    # sometimes last column may be empty, then go backwards\n",
    "    for i in range(-1, -len(dt_cols), -1):\n",
    "        if not df[dt_cols[i]].fillna(0).eq(0).all():\n",
    "            LAST_DATE_I = i\n",
    "            break\n",
    "    return LAST_DATE_I, dt_cols"
   ]
  },
  {
   "cell_type": "code",
   "execution_count": 9,
   "id": "recent-optimization",
   "metadata": {
    "execution": {
     "iopub.execute_input": "2021-05-11T12:08:08.942673Z",
     "iopub.status.busy": "2021-05-11T12:08:08.942082Z",
     "iopub.status.idle": "2021-05-11T12:08:09.378358Z",
     "shell.execute_reply": "2021-05-11T12:08:09.377720Z"
    },
    "papermill": {
     "duration": 0.473819,
     "end_time": "2021-05-11T12:08:09.378487",
     "exception": false,
     "start_time": "2021-05-11T12:08:08.904668",
     "status": "completed"
    },
    "tags": []
   },
   "outputs": [],
   "source": [
    "#hide\n",
    "COL_REGION = 'Country/Region'\n",
    "# Confirmed, Recovered, Deaths\n",
    "df = get_frame('confirmed')\n",
    "# dft_: timeseries, dfc_: today country agg\n",
    "dft_cases = df\n",
    "dft_deaths = get_frame('deaths')\n",
    "dft_recovered = get_frame('recovered')\n",
    "LAST_DATE_I, dt_cols = get_dates(df)"
   ]
  },
  {
   "cell_type": "code",
   "execution_count": 10,
   "id": "absolute-copper",
   "metadata": {
    "execution": {
     "iopub.execute_input": "2021-05-11T12:08:09.456821Z",
     "iopub.status.busy": "2021-05-11T12:08:09.456190Z",
     "iopub.status.idle": "2021-05-11T12:08:09.458477Z",
     "shell.execute_reply": "2021-05-11T12:08:09.457989Z"
    },
    "papermill": {
     "duration": 0.045843,
     "end_time": "2021-05-11T12:08:09.458599",
     "exception": false,
     "start_time": "2021-05-11T12:08:09.412756",
     "status": "completed"
    },
    "tags": []
   },
   "outputs": [],
   "source": [
    "#hide\n",
    "LAST_DATE_I, dt_cols = get_dates(df)\n",
    "dt_today =dt_cols[LAST_DATE_I]\n",
    "# dt_5day = dt_cols[LAST_DATE_I - 5]\n",
    "dt_yday = dt_cols[LAST_DATE_I - 1]"
   ]
  },
  {
   "cell_type": "code",
   "execution_count": 11,
   "id": "restricted-sheriff",
   "metadata": {
    "execution": {
     "iopub.execute_input": "2021-05-11T12:08:09.534899Z",
     "iopub.status.busy": "2021-05-11T12:08:09.534016Z",
     "iopub.status.idle": "2021-05-11T12:08:09.543159Z",
     "shell.execute_reply": "2021-05-11T12:08:09.542688Z"
    },
    "papermill": {
     "duration": 0.051222,
     "end_time": "2021-05-11T12:08:09.543285",
     "exception": false,
     "start_time": "2021-05-11T12:08:09.492063",
     "status": "completed"
    },
    "tags": []
   },
   "outputs": [],
   "source": [
    "#hide\n",
    "dfc_cases = dft_cases.groupby(COL_REGION)[dt_today].sum()\n",
    "dfc_deaths = dft_deaths.groupby(COL_REGION)[dt_today].sum()\n",
    "# dfp_cases = dft_cases.groupby(COL_REGION)[dt_5day].sum()\n",
    "# dfp_deaths = dft_deaths.groupby(COL_REGION)[dt_5day].sum()\n",
    "dfp_cases = dft_cases.groupby(COL_REGION)[dt_yday].sum()\n",
    "dfp_deaths = dft_deaths.groupby(COL_REGION)[dt_yday].sum()"
   ]
  },
  {
   "cell_type": "code",
   "execution_count": 12,
   "id": "deluxe-hepatitis",
   "metadata": {
    "execution": {
     "iopub.execute_input": "2021-05-11T12:08:09.622505Z",
     "iopub.status.busy": "2021-05-11T12:08:09.621921Z",
     "iopub.status.idle": "2021-05-11T12:08:09.630047Z",
     "shell.execute_reply": "2021-05-11T12:08:09.628867Z"
    },
    "papermill": {
     "duration": 0.05115,
     "end_time": "2021-05-11T12:08:09.630188",
     "exception": false,
     "start_time": "2021-05-11T12:08:09.579038",
     "status": "completed"
    },
    "tags": []
   },
   "outputs": [],
   "source": [
    "#hide\n",
    "df_table = (pd.DataFrame(dict(Cases = dfc_cases, Deaths = dfc_deaths, PCases = dfp_cases, PDeaths = dfp_deaths))\n",
    "            .sort_values(by = ['Cases','Deaths'], ascending = [False, False])\n",
    "            .reset_index())"
   ]
  },
  {
   "cell_type": "code",
   "execution_count": 13,
   "id": "educational-chancellor",
   "metadata": {
    "execution": {
     "iopub.execute_input": "2021-05-11T12:08:09.715933Z",
     "iopub.status.busy": "2021-05-11T12:08:09.707692Z",
     "iopub.status.idle": "2021-05-11T12:08:09.730079Z",
     "shell.execute_reply": "2021-05-11T12:08:09.730562Z"
    },
    "papermill": {
     "duration": 0.064539,
     "end_time": "2021-05-11T12:08:09.730713",
     "exception": false,
     "start_time": "2021-05-11T12:08:09.666174",
     "status": "completed"
    },
    "tags": []
   },
   "outputs": [
    {
     "data": {
      "text/html": [
       "<div>\n",
       "<style scoped>\n",
       "    .dataframe tbody tr th:only-of-type {\n",
       "        vertical-align: middle;\n",
       "    }\n",
       "\n",
       "    .dataframe tbody tr th {\n",
       "        vertical-align: top;\n",
       "    }\n",
       "\n",
       "    .dataframe thead th {\n",
       "        text-align: right;\n",
       "    }\n",
       "</style>\n",
       "<table border=\"1\" class=\"dataframe\">\n",
       "  <thead>\n",
       "    <tr style=\"text-align: right;\">\n",
       "      <th></th>\n",
       "      <th>Country/Region</th>\n",
       "      <th>Cases</th>\n",
       "      <th>Deaths</th>\n",
       "      <th>PCases</th>\n",
       "      <th>PDeaths</th>\n",
       "      <th>Cases (+)</th>\n",
       "      <th>Deaths (+)</th>\n",
       "      <th>Fatality Rate</th>\n",
       "      <th>Continent</th>\n",
       "    </tr>\n",
       "  </thead>\n",
       "  <tbody>\n",
       "    <tr>\n",
       "      <th>0</th>\n",
       "      <td>US</td>\n",
       "      <td>32743981</td>\n",
       "      <td>582153</td>\n",
       "      <td>32707750</td>\n",
       "      <td>581754</td>\n",
       "      <td>36231</td>\n",
       "      <td>399</td>\n",
       "      <td>1.78</td>\n",
       "      <td>North America</td>\n",
       "    </tr>\n",
       "    <tr>\n",
       "      <th>1</th>\n",
       "      <td>India</td>\n",
       "      <td>22992517</td>\n",
       "      <td>249992</td>\n",
       "      <td>22662575</td>\n",
       "      <td>246116</td>\n",
       "      <td>329942</td>\n",
       "      <td>3876</td>\n",
       "      <td>1.09</td>\n",
       "      <td>Asia</td>\n",
       "    </tr>\n",
       "    <tr>\n",
       "      <th>2</th>\n",
       "      <td>Brazil</td>\n",
       "      <td>15209990</td>\n",
       "      <td>423229</td>\n",
       "      <td>15184790</td>\n",
       "      <td>422340</td>\n",
       "      <td>25200</td>\n",
       "      <td>889</td>\n",
       "      <td>2.78</td>\n",
       "      <td>South America</td>\n",
       "    </tr>\n",
       "    <tr>\n",
       "      <th>3</th>\n",
       "      <td>France</td>\n",
       "      <td>5841593</td>\n",
       "      <td>106845</td>\n",
       "      <td>5838294</td>\n",
       "      <td>106553</td>\n",
       "      <td>3299</td>\n",
       "      <td>292</td>\n",
       "      <td>1.83</td>\n",
       "      <td>Europe</td>\n",
       "    </tr>\n",
       "    <tr>\n",
       "      <th>4</th>\n",
       "      <td>Turkey</td>\n",
       "      <td>5044936</td>\n",
       "      <td>43311</td>\n",
       "      <td>5031332</td>\n",
       "      <td>43029</td>\n",
       "      <td>13604</td>\n",
       "      <td>282</td>\n",
       "      <td>0.86</td>\n",
       "      <td>Asia</td>\n",
       "    </tr>\n",
       "  </tbody>\n",
       "</table>\n",
       "</div>"
      ],
      "text/plain": [
       "  Country/Region     Cases  Deaths    PCases  PDeaths  Cases (+)  Deaths (+)  \\\n",
       "0             US  32743981  582153  32707750   581754      36231         399   \n",
       "1          India  22992517  249992  22662575   246116     329942        3876   \n",
       "2         Brazil  15209990  423229  15184790   422340      25200         889   \n",
       "3         France   5841593  106845   5838294   106553       3299         292   \n",
       "4         Turkey   5044936   43311   5031332    43029      13604         282   \n",
       "\n",
       "   Fatality Rate      Continent  \n",
       "0           1.78  North America  \n",
       "1           1.09           Asia  \n",
       "2           2.78  South America  \n",
       "3           1.83         Europe  \n",
       "4           0.86           Asia  "
      ]
     },
     "execution_count": 13,
     "metadata": {},
     "output_type": "execute_result"
    }
   ],
   "source": [
    "#hide\n",
    "for c in 'Cases, Deaths'.split(', '):\n",
    "    df_table[f'{c} (+)'] = (df_table[c] - df_table[f'P{c}']).clip(0)\n",
    "    #Clip ça veut dire, les chiffres negatif sont interdit\n",
    "df_table['Fatality Rate'] = (100* df_table['Deaths']/ df_table['Cases']).round(2)\n",
    "df_table['Continent'] = df_table['Country/Region'].map(mapping['map.continent'])\n",
    "df_table.head(5)"
   ]
  },
  {
   "cell_type": "code",
   "execution_count": 14,
   "id": "aboriginal-bulgaria",
   "metadata": {
    "execution": {
     "iopub.execute_input": "2021-05-11T12:08:09.805924Z",
     "iopub.status.busy": "2021-05-11T12:08:09.805337Z",
     "iopub.status.idle": "2021-05-11T12:08:09.807046Z",
     "shell.execute_reply": "2021-05-11T12:08:09.807546Z"
    },
    "papermill": {
     "duration": 0.042438,
     "end_time": "2021-05-11T12:08:09.807677",
     "exception": false,
     "start_time": "2021-05-11T12:08:09.765239",
     "status": "completed"
    },
    "tags": []
   },
   "outputs": [],
   "source": [
    "#hide\n",
    "#delete problematic countries from table\n",
    "df_table = df_table[~df_table['Country/Region'].isin(['Cape Verde', 'Cruise Ship', 'Kosovo'])]"
   ]
  },
  {
   "cell_type": "code",
   "execution_count": 15,
   "id": "fantastic-effect",
   "metadata": {
    "execution": {
     "iopub.execute_input": "2021-05-11T12:08:09.885305Z",
     "iopub.status.busy": "2021-05-11T12:08:09.884691Z",
     "iopub.status.idle": "2021-05-11T12:08:09.904539Z",
     "shell.execute_reply": "2021-05-11T12:08:09.904075Z"
    },
    "papermill": {
     "duration": 0.063757,
     "end_time": "2021-05-11T12:08:09.904658",
     "exception": false,
     "start_time": "2021-05-11T12:08:09.840901",
     "status": "completed"
    },
    "tags": []
   },
   "outputs": [
    {
     "data": {
      "text/html": [
       "<div>\n",
       "<style scoped>\n",
       "    .dataframe tbody tr th:only-of-type {\n",
       "        vertical-align: middle;\n",
       "    }\n",
       "\n",
       "    .dataframe tbody tr th {\n",
       "        vertical-align: top;\n",
       "    }\n",
       "\n",
       "    .dataframe thead th {\n",
       "        text-align: right;\n",
       "    }\n",
       "</style>\n",
       "<table border=\"1\" class=\"dataframe\">\n",
       "  <thead>\n",
       "    <tr style=\"text-align: right;\">\n",
       "      <th></th>\n",
       "      <th>Country/Region</th>\n",
       "      <th>Cases</th>\n",
       "      <th>Deaths</th>\n",
       "      <th>PCases</th>\n",
       "      <th>PDeaths</th>\n",
       "      <th>Cases (+)</th>\n",
       "      <th>Deaths (+)</th>\n",
       "      <th>Fatality Rate</th>\n",
       "      <th>Continent</th>\n",
       "    </tr>\n",
       "  </thead>\n",
       "  <tbody>\n",
       "    <tr>\n",
       "      <th>0</th>\n",
       "      <td>US</td>\n",
       "      <td>32743981</td>\n",
       "      <td>582153</td>\n",
       "      <td>32707750</td>\n",
       "      <td>581754</td>\n",
       "      <td>36231</td>\n",
       "      <td>399</td>\n",
       "      <td>1.8</td>\n",
       "      <td>North America</td>\n",
       "    </tr>\n",
       "    <tr>\n",
       "      <th>1</th>\n",
       "      <td>India</td>\n",
       "      <td>22992517</td>\n",
       "      <td>249992</td>\n",
       "      <td>22662575</td>\n",
       "      <td>246116</td>\n",
       "      <td>329942</td>\n",
       "      <td>3876</td>\n",
       "      <td>1.1</td>\n",
       "      <td>Asia</td>\n",
       "    </tr>\n",
       "    <tr>\n",
       "      <th>2</th>\n",
       "      <td>Brazil</td>\n",
       "      <td>15209990</td>\n",
       "      <td>423229</td>\n",
       "      <td>15184790</td>\n",
       "      <td>422340</td>\n",
       "      <td>25200</td>\n",
       "      <td>889</td>\n",
       "      <td>2.8</td>\n",
       "      <td>South America</td>\n",
       "    </tr>\n",
       "    <tr>\n",
       "      <th>3</th>\n",
       "      <td>France</td>\n",
       "      <td>5841593</td>\n",
       "      <td>106845</td>\n",
       "      <td>5838294</td>\n",
       "      <td>106553</td>\n",
       "      <td>3299</td>\n",
       "      <td>292</td>\n",
       "      <td>1.8</td>\n",
       "      <td>Europe</td>\n",
       "    </tr>\n",
       "    <tr>\n",
       "      <th>4</th>\n",
       "      <td>Turkey</td>\n",
       "      <td>5044936</td>\n",
       "      <td>43311</td>\n",
       "      <td>5031332</td>\n",
       "      <td>43029</td>\n",
       "      <td>13604</td>\n",
       "      <td>282</td>\n",
       "      <td>0.9</td>\n",
       "      <td>Asia</td>\n",
       "    </tr>\n",
       "  </tbody>\n",
       "</table>\n",
       "</div>"
      ],
      "text/plain": [
       "  Country/Region     Cases  Deaths    PCases  PDeaths  Cases (+)  Deaths (+)  \\\n",
       "0             US  32743981  582153  32707750   581754      36231         399   \n",
       "1          India  22992517  249992  22662575   246116     329942        3876   \n",
       "2         Brazil  15209990  423229  15184790   422340      25200         889   \n",
       "3         France   5841593  106845   5838294   106553       3299         292   \n",
       "4         Turkey   5044936   43311   5031332    43029      13604         282   \n",
       "\n",
       "   Fatality Rate      Continent  \n",
       "0            1.8  North America  \n",
       "1            1.1           Asia  \n",
       "2            2.8  South America  \n",
       "3            1.8         Europe  \n",
       "4            0.9           Asia  "
      ]
     },
     "execution_count": 15,
     "metadata": {},
     "output_type": "execute_result"
    }
   ],
   "source": [
    "#hide\n",
    "df_table = (pd.DataFrame(dict(Cases=dfc_cases, Deaths=dfc_deaths, PCases=dfp_cases, PDeaths=dfp_deaths))\n",
    "             .sort_values(by=['Cases', 'Deaths'], ascending=[False, False])\n",
    "             .reset_index())\n",
    "df_table.rename(columns={'index': 'Country/Region'}, inplace=True)\n",
    "for c in 'Cases, Deaths'.split(', '):\n",
    "    df_table[f'{c} (+)'] = (df_table[c] - df_table[f'P{c}']).clip(0)  # DATA BUG\n",
    "df_table['Fatality Rate'] = (100 * df_table['Deaths'] / df_table['Cases']).round(1)\n",
    "df_table['Continent'] = df_table['Country/Region'].map(mapping['map.continent'])\n",
    "df_table.head(5)"
   ]
  },
  {
   "cell_type": "code",
   "execution_count": 16,
   "id": "fewer-occasion",
   "metadata": {
    "execution": {
     "iopub.execute_input": "2021-05-11T12:08:09.981099Z",
     "iopub.status.busy": "2021-05-11T12:08:09.980494Z",
     "iopub.status.idle": "2021-05-11T12:08:09.983230Z",
     "shell.execute_reply": "2021-05-11T12:08:09.983763Z"
    },
    "papermill": {
     "duration": 0.044019,
     "end_time": "2021-05-11T12:08:09.983902",
     "exception": false,
     "start_time": "2021-05-11T12:08:09.939883",
     "status": "completed"
    },
    "tags": []
   },
   "outputs": [],
   "source": [
    "#hide\n",
    "#delete problematic countries from table\n",
    "df_table = df_table[~df_table['Country/Region'].isin(['Cape Verde', 'Cruise Ship', 'Kosovo'])]"
   ]
  },
  {
   "cell_type": "code",
   "execution_count": 17,
   "id": "related-center",
   "metadata": {
    "execution": {
     "iopub.execute_input": "2021-05-11T12:08:10.073659Z",
     "iopub.status.busy": "2021-05-11T12:08:10.072985Z",
     "iopub.status.idle": "2021-05-11T12:08:10.082116Z",
     "shell.execute_reply": "2021-05-11T12:08:10.081640Z"
    },
    "papermill": {
     "duration": 0.063458,
     "end_time": "2021-05-11T12:08:10.082245",
     "exception": false,
     "start_time": "2021-05-11T12:08:10.018787",
     "status": "completed"
    },
    "tags": []
   },
   "outputs": [],
   "source": [
    "#hide\n",
    "metrics = [df_table.columns[index] for index in [1,2,5,6]]\n",
    "# s_china = df_table[df_table['Country/Region'].eq('China')][metrics].sum().add_prefix('China ')\n",
    "s_us = df_table[df_table['Country/Region'].eq('US')][metrics].sum().add_prefix('US ')\n",
    "s_eu = df_table[df_table['Continent'].eq('Europe')][metrics].sum().add_prefix('EU ')\n",
    "s_ind = df_table[df_table['Country/Region'].eq('India')][metrics].sum().add_prefix('India ')\n",
    "summary = {'updated': pd.to_datetime(dt_today), 'since': pd.to_datetime(dt_yday)}\n",
    "summary = {'updated': pd.to_datetime(dt_today), 'since': pd.to_datetime(dt_yday)}\n",
    "summary = {**summary, **df_table[metrics].sum(), **s_ind, **s_us, **s_eu}"
   ]
  },
  {
   "cell_type": "code",
   "execution_count": 18,
   "id": "engaging-syndrome",
   "metadata": {
    "execution": {
     "iopub.execute_input": "2021-05-11T12:08:10.159282Z",
     "iopub.status.busy": "2021-05-11T12:08:10.158686Z",
     "iopub.status.idle": "2021-05-11T12:08:10.170585Z",
     "shell.execute_reply": "2021-05-11T12:08:10.171055Z"
    },
    "papermill": {
     "duration": 0.053785,
     "end_time": "2021-05-11T12:08:10.171208",
     "exception": false,
     "start_time": "2021-05-11T12:08:10.117423",
     "status": "completed"
    },
    "tags": []
   },
   "outputs": [],
   "source": [
    "#hide\n",
    "dft_ct_new_cases = dft_cases.groupby(COL_REGION)[dt_cols].sum().diff(axis=1).fillna(0).astype(int)"
   ]
  },
  {
   "cell_type": "code",
   "execution_count": 19,
   "id": "neutral-assignment",
   "metadata": {
    "execution": {
     "iopub.execute_input": "2021-05-11T12:08:10.249390Z",
     "iopub.status.busy": "2021-05-11T12:08:10.248763Z",
     "iopub.status.idle": "2021-05-11T12:08:10.250622Z",
     "shell.execute_reply": "2021-05-11T12:08:10.251055Z"
    },
    "papermill": {
     "duration": 0.044889,
     "end_time": "2021-05-11T12:08:10.251197",
     "exception": false,
     "start_time": "2021-05-11T12:08:10.206308",
     "status": "completed"
    },
    "tags": []
   },
   "outputs": [],
   "source": [
    "#hide\n",
    "everydaycases = dft_ct_new_cases.cumsum(axis=1)"
   ]
  },
  {
   "cell_type": "code",
   "execution_count": 20,
   "id": "parliamentary-calgary",
   "metadata": {
    "execution": {
     "iopub.execute_input": "2021-05-11T12:08:10.326810Z",
     "iopub.status.busy": "2021-05-11T12:08:10.326225Z",
     "iopub.status.idle": "2021-05-11T12:08:10.942038Z",
     "shell.execute_reply": "2021-05-11T12:08:10.941444Z"
    },
    "papermill": {
     "duration": 0.65584,
     "end_time": "2021-05-11T12:08:10.942193",
     "exception": false,
     "start_time": "2021-05-11T12:08:10.286353",
     "status": "completed"
    },
    "tags": []
   },
   "outputs": [],
   "source": [
    "#hide\n",
    "import pandas as pd\n",
    "import matplotlib.pyplot as plt\n",
    "import matplotlib.ticker as ticker\n",
    "import matplotlib.animation as animation\n",
    "from IPython.display import HTML"
   ]
  },
  {
   "cell_type": "code",
   "execution_count": 21,
   "id": "lasting-extraction",
   "metadata": {
    "execution": {
     "iopub.execute_input": "2021-05-11T12:08:11.027012Z",
     "iopub.status.busy": "2021-05-11T12:08:11.026283Z",
     "iopub.status.idle": "2021-05-11T12:08:11.034492Z",
     "shell.execute_reply": "2021-05-11T12:08:11.033364Z"
    },
    "papermill": {
     "duration": 0.052332,
     "end_time": "2021-05-11T12:08:11.034648",
     "exception": false,
     "start_time": "2021-05-11T12:08:10.982316",
     "status": "completed"
    },
    "tags": []
   },
   "outputs": [],
   "source": [
    "#hide\n",
    "t = everydaycases.stack()"
   ]
  },
  {
   "cell_type": "code",
   "execution_count": 22,
   "id": "premier-sleeve",
   "metadata": {
    "execution": {
     "iopub.execute_input": "2021-05-11T12:08:11.115996Z",
     "iopub.status.busy": "2021-05-11T12:08:11.115415Z",
     "iopub.status.idle": "2021-05-11T12:08:11.123574Z",
     "shell.execute_reply": "2021-05-11T12:08:11.123098Z"
    },
    "papermill": {
     "duration": 0.053372,
     "end_time": "2021-05-11T12:08:11.123702",
     "exception": false,
     "start_time": "2021-05-11T12:08:11.070330",
     "status": "completed"
    },
    "tags": []
   },
   "outputs": [],
   "source": [
    "#hide\n",
    "g = t.reset_index(['Country/Region'])"
   ]
  },
  {
   "cell_type": "code",
   "execution_count": 23,
   "id": "distributed-pittsburgh",
   "metadata": {
    "execution": {
     "iopub.execute_input": "2021-05-11T12:08:11.197081Z",
     "iopub.status.busy": "2021-05-11T12:08:11.196472Z",
     "iopub.status.idle": "2021-05-11T12:08:11.198812Z",
     "shell.execute_reply": "2021-05-11T12:08:11.198312Z"
    },
    "papermill": {
     "duration": 0.040457,
     "end_time": "2021-05-11T12:08:11.198931",
     "exception": false,
     "start_time": "2021-05-11T12:08:11.158474",
     "status": "completed"
    },
    "tags": []
   },
   "outputs": [],
   "source": [
    "#hide\n",
    "g.index.name = 'date'"
   ]
  },
  {
   "cell_type": "code",
   "execution_count": 24,
   "id": "naked-donor",
   "metadata": {
    "execution": {
     "iopub.execute_input": "2021-05-11T12:08:11.273597Z",
     "iopub.status.busy": "2021-05-11T12:08:11.272973Z",
     "iopub.status.idle": "2021-05-11T12:08:11.275127Z",
     "shell.execute_reply": "2021-05-11T12:08:11.275592Z"
    },
    "papermill": {
     "duration": 0.042214,
     "end_time": "2021-05-11T12:08:11.275730",
     "exception": false,
     "start_time": "2021-05-11T12:08:11.233516",
     "status": "completed"
    },
    "tags": []
   },
   "outputs": [],
   "source": [
    "# #hide\n",
    "# g = g.reset_index(['date'])"
   ]
  },
  {
   "cell_type": "code",
   "execution_count": 25,
   "id": "incomplete-mustang",
   "metadata": {
    "execution": {
     "iopub.execute_input": "2021-05-11T12:08:11.349356Z",
     "iopub.status.busy": "2021-05-11T12:08:11.348747Z",
     "iopub.status.idle": "2021-05-11T12:08:11.350464Z",
     "shell.execute_reply": "2021-05-11T12:08:11.350990Z"
    },
    "papermill": {
     "duration": 0.04086,
     "end_time": "2021-05-11T12:08:11.351122",
     "exception": false,
     "start_time": "2021-05-11T12:08:11.310262",
     "status": "completed"
    },
    "tags": []
   },
   "outputs": [],
   "source": [
    "#hide\n",
    "# g.head()"
   ]
  },
  {
   "cell_type": "code",
   "execution_count": 26,
   "id": "specific-kruger",
   "metadata": {
    "execution": {
     "iopub.execute_input": "2021-05-11T12:08:11.425444Z",
     "iopub.status.busy": "2021-05-11T12:08:11.424825Z",
     "iopub.status.idle": "2021-05-11T12:08:11.426792Z",
     "shell.execute_reply": "2021-05-11T12:08:11.427338Z"
    },
    "papermill": {
     "duration": 0.041268,
     "end_time": "2021-05-11T12:08:11.427484",
     "exception": false,
     "start_time": "2021-05-11T12:08:11.386216",
     "status": "completed"
    },
    "tags": []
   },
   "outputs": [],
   "source": [
    "#hide\n",
    "# g.columns = ['date','country','cases']"
   ]
  },
  {
   "cell_type": "code",
   "execution_count": 27,
   "id": "tender-conversion",
   "metadata": {
    "execution": {
     "iopub.execute_input": "2021-05-11T12:08:11.501359Z",
     "iopub.status.busy": "2021-05-11T12:08:11.500749Z",
     "iopub.status.idle": "2021-05-11T12:08:11.503450Z",
     "shell.execute_reply": "2021-05-11T12:08:11.502985Z"
    },
    "papermill": {
     "duration": 0.041043,
     "end_time": "2021-05-11T12:08:11.503573",
     "exception": false,
     "start_time": "2021-05-11T12:08:11.462530",
     "status": "completed"
    },
    "tags": []
   },
   "outputs": [],
   "source": [
    "#hide\n",
    "# g['continent'] = g.country"
   ]
  },
  {
   "cell_type": "code",
   "execution_count": 28,
   "id": "substantial-wilderness",
   "metadata": {
    "execution": {
     "iopub.execute_input": "2021-05-11T12:08:11.578269Z",
     "iopub.status.busy": "2021-05-11T12:08:11.577694Z",
     "iopub.status.idle": "2021-05-11T12:08:11.580967Z",
     "shell.execute_reply": "2021-05-11T12:08:11.580478Z"
    },
    "papermill": {
     "duration": 0.042354,
     "end_time": "2021-05-11T12:08:11.581113",
     "exception": false,
     "start_time": "2021-05-11T12:08:11.538759",
     "status": "completed"
    },
    "tags": []
   },
   "outputs": [],
   "source": [
    "#hide\n",
    "# cols = list(g.columns.values)"
   ]
  },
  {
   "cell_type": "code",
   "execution_count": 29,
   "id": "solved-farming",
   "metadata": {
    "execution": {
     "iopub.execute_input": "2021-05-11T12:08:11.656125Z",
     "iopub.status.busy": "2021-05-11T12:08:11.655538Z",
     "iopub.status.idle": "2021-05-11T12:08:11.657905Z",
     "shell.execute_reply": "2021-05-11T12:08:11.658458Z"
    },
    "papermill": {
     "duration": 0.042668,
     "end_time": "2021-05-11T12:08:11.658600",
     "exception": false,
     "start_time": "2021-05-11T12:08:11.615932",
     "status": "completed"
    },
    "tags": []
   },
   "outputs": [],
   "source": [
    "#hide\n",
    "# cols.insert(0, cols.pop())"
   ]
  },
  {
   "cell_type": "code",
   "execution_count": 30,
   "id": "executed-adoption",
   "metadata": {
    "execution": {
     "iopub.execute_input": "2021-05-11T12:08:11.733640Z",
     "iopub.status.busy": "2021-05-11T12:08:11.733043Z",
     "iopub.status.idle": "2021-05-11T12:08:11.735515Z",
     "shell.execute_reply": "2021-05-11T12:08:11.736089Z"
    },
    "papermill": {
     "duration": 0.042358,
     "end_time": "2021-05-11T12:08:11.736227",
     "exception": false,
     "start_time": "2021-05-11T12:08:11.693869",
     "status": "completed"
    },
    "tags": []
   },
   "outputs": [],
   "source": [
    "#hide\n",
    "# g = g[cols]"
   ]
  },
  {
   "cell_type": "code",
   "execution_count": 31,
   "id": "subject-dublin",
   "metadata": {
    "execution": {
     "iopub.execute_input": "2021-05-11T12:08:11.810358Z",
     "iopub.status.busy": "2021-05-11T12:08:11.809758Z",
     "iopub.status.idle": "2021-05-11T12:08:11.811985Z",
     "shell.execute_reply": "2021-05-11T12:08:11.811508Z"
    },
    "papermill": {
     "duration": 0.040763,
     "end_time": "2021-05-11T12:08:11.812104",
     "exception": false,
     "start_time": "2021-05-11T12:08:11.771341",
     "status": "completed"
    },
    "tags": []
   },
   "outputs": [],
   "source": [
    "#hide\n",
    "# g['continent'] = g['continent'].map(mapping['map.continent'])"
   ]
  },
  {
   "cell_type": "code",
   "execution_count": 32,
   "id": "freelance-scout",
   "metadata": {
    "execution": {
     "iopub.execute_input": "2021-05-11T12:08:11.887476Z",
     "iopub.status.busy": "2021-05-11T12:08:11.886458Z",
     "iopub.status.idle": "2021-05-11T12:08:11.888533Z",
     "shell.execute_reply": "2021-05-11T12:08:11.889372Z"
    },
    "papermill": {
     "duration": 0.042458,
     "end_time": "2021-05-11T12:08:11.889603",
     "exception": false,
     "start_time": "2021-05-11T12:08:11.847145",
     "status": "completed"
    },
    "tags": []
   },
   "outputs": [],
   "source": [
    "#hide\n",
    "# g.head()"
   ]
  },
  {
   "cell_type": "code",
   "execution_count": 33,
   "id": "limited-engine",
   "metadata": {
    "execution": {
     "iopub.execute_input": "2021-05-11T12:08:11.964883Z",
     "iopub.status.busy": "2021-05-11T12:08:11.964296Z",
     "iopub.status.idle": "2021-05-11T12:08:11.966099Z",
     "shell.execute_reply": "2021-05-11T12:08:11.966540Z"
    },
    "papermill": {
     "duration": 0.041032,
     "end_time": "2021-05-11T12:08:11.966691",
     "exception": false,
     "start_time": "2021-05-11T12:08:11.925659",
     "status": "completed"
    },
    "tags": []
   },
   "outputs": [],
   "source": [
    "# hide\n",
    "# g['date'] = g['date'].astype('datetime64[ns]')"
   ]
  },
  {
   "cell_type": "code",
   "execution_count": 34,
   "id": "sophisticated-supervisor",
   "metadata": {
    "execution": {
     "iopub.execute_input": "2021-05-11T12:08:12.043234Z",
     "iopub.status.busy": "2021-05-11T12:08:12.042226Z",
     "iopub.status.idle": "2021-05-11T12:08:12.044279Z",
     "shell.execute_reply": "2021-05-11T12:08:12.044900Z"
    },
    "papermill": {
     "duration": 0.042744,
     "end_time": "2021-05-11T12:08:12.045059",
     "exception": false,
     "start_time": "2021-05-11T12:08:12.002315",
     "status": "completed"
    },
    "tags": []
   },
   "outputs": [],
   "source": [
    "#hide\n",
    "# g['date'] = g.date.dt.dayofyear"
   ]
  },
  {
   "cell_type": "code",
   "execution_count": 35,
   "id": "inside-dubai",
   "metadata": {
    "execution": {
     "iopub.execute_input": "2021-05-11T12:08:12.118368Z",
     "iopub.status.busy": "2021-05-11T12:08:12.117752Z",
     "iopub.status.idle": "2021-05-11T12:08:12.119876Z",
     "shell.execute_reply": "2021-05-11T12:08:12.119299Z"
    },
    "papermill": {
     "duration": 0.040277,
     "end_time": "2021-05-11T12:08:12.120000",
     "exception": false,
     "start_time": "2021-05-11T12:08:12.079723",
     "status": "completed"
    },
    "tags": []
   },
   "outputs": [],
   "source": [
    "#hide\n",
    "# g = g.rename(columns= {'continent':'group','country':'name','cases':'value'})"
   ]
  },
  {
   "cell_type": "code",
   "execution_count": 36,
   "id": "fleet-motorcycle",
   "metadata": {
    "execution": {
     "iopub.execute_input": "2021-05-11T12:08:12.194885Z",
     "iopub.status.busy": "2021-05-11T12:08:12.194291Z",
     "iopub.status.idle": "2021-05-11T12:08:12.196682Z",
     "shell.execute_reply": "2021-05-11T12:08:12.197142Z"
    },
    "papermill": {
     "duration": 0.042193,
     "end_time": "2021-05-11T12:08:12.197281",
     "exception": false,
     "start_time": "2021-05-11T12:08:12.155088",
     "status": "completed"
    },
    "tags": []
   },
   "outputs": [],
   "source": [
    "#hide\n",
    "# cols = ['name','group','day','value']"
   ]
  },
  {
   "cell_type": "code",
   "execution_count": 37,
   "id": "continued-sleeping",
   "metadata": {
    "execution": {
     "iopub.execute_input": "2021-05-11T12:08:12.271809Z",
     "iopub.status.busy": "2021-05-11T12:08:12.271230Z",
     "iopub.status.idle": "2021-05-11T12:08:12.273662Z",
     "shell.execute_reply": "2021-05-11T12:08:12.274211Z"
    },
    "papermill": {
     "duration": 0.042282,
     "end_time": "2021-05-11T12:08:12.274351",
     "exception": false,
     "start_time": "2021-05-11T12:08:12.232069",
     "status": "completed"
    },
    "tags": []
   },
   "outputs": [],
   "source": [
    "#hide\n",
    "# g.rename(columns= {'date':'day'},inplace = True)"
   ]
  },
  {
   "cell_type": "code",
   "execution_count": 38,
   "id": "major-fight",
   "metadata": {
    "execution": {
     "iopub.execute_input": "2021-05-11T12:08:12.348514Z",
     "iopub.status.busy": "2021-05-11T12:08:12.347926Z",
     "iopub.status.idle": "2021-05-11T12:08:12.350122Z",
     "shell.execute_reply": "2021-05-11T12:08:12.350592Z"
    },
    "papermill": {
     "duration": 0.041709,
     "end_time": "2021-05-11T12:08:12.350734",
     "exception": false,
     "start_time": "2021-05-11T12:08:12.309025",
     "status": "completed"
    },
    "tags": []
   },
   "outputs": [],
   "source": [
    "#hide\n",
    "# g = g[cols]"
   ]
  },
  {
   "cell_type": "code",
   "execution_count": 39,
   "id": "structured-mobile",
   "metadata": {
    "execution": {
     "iopub.execute_input": "2021-05-11T12:08:12.424433Z",
     "iopub.status.busy": "2021-05-11T12:08:12.423849Z",
     "iopub.status.idle": "2021-05-11T12:08:12.426365Z",
     "shell.execute_reply": "2021-05-11T12:08:12.426833Z"
    },
    "papermill": {
     "duration": 0.042065,
     "end_time": "2021-05-11T12:08:12.426980",
     "exception": false,
     "start_time": "2021-05-11T12:08:12.384915",
     "status": "completed"
    },
    "tags": []
   },
   "outputs": [],
   "source": [
    "# #hide\n",
    "# g = g[g.group.notna()]"
   ]
  },
  {
   "cell_type": "code",
   "execution_count": 40,
   "id": "determined-closing",
   "metadata": {
    "execution": {
     "iopub.execute_input": "2021-05-11T12:08:12.500695Z",
     "iopub.status.busy": "2021-05-11T12:08:12.500099Z",
     "iopub.status.idle": "2021-05-11T12:08:12.501907Z",
     "shell.execute_reply": "2021-05-11T12:08:12.502376Z"
    },
    "papermill": {
     "duration": 0.041043,
     "end_time": "2021-05-11T12:08:12.502519",
     "exception": false,
     "start_time": "2021-05-11T12:08:12.461476",
     "status": "completed"
    },
    "tags": []
   },
   "outputs": [],
   "source": [
    "# #hide\n",
    "# colors = dict(zip(\n",
    "#     [\"Oceania\", \"Europe\", \"Asia\", \"South America\", \"Middle East\", \"North America\", \"Africa\"],\n",
    "#     [\"#adb0ff\", \"#ffb3ff\", \"#90d595\", \"#e48381\", \"#aafbff\", \"#f7bb5f\", \"#eafb50\"]\n",
    "# ))\n",
    "# group_lk = g.set_index('name')['group'].to_dict()"
   ]
  },
  {
   "cell_type": "code",
   "execution_count": null,
   "id": "gross-drinking",
   "metadata": {
    "papermill": {
     "duration": 0.034806,
     "end_time": "2021-05-11T12:08:12.572145",
     "exception": false,
     "start_time": "2021-05-11T12:08:12.537339",
     "status": "completed"
    },
    "tags": []
   },
   "outputs": [],
   "source": []
  },
  {
   "cell_type": "code",
   "execution_count": 41,
   "id": "subject-macintosh",
   "metadata": {
    "execution": {
     "iopub.execute_input": "2021-05-11T12:08:12.646729Z",
     "iopub.status.busy": "2021-05-11T12:08:12.646119Z",
     "iopub.status.idle": "2021-05-11T12:08:12.648609Z",
     "shell.execute_reply": "2021-05-11T12:08:12.649186Z"
    },
    "papermill": {
     "duration": 0.042464,
     "end_time": "2021-05-11T12:08:12.649333",
     "exception": false,
     "start_time": "2021-05-11T12:08:12.606869",
     "status": "completed"
    },
    "tags": []
   },
   "outputs": [],
   "source": [
    "# #hide\n",
    "# fig, ax = plt.subplots(figsize=(15, 8))\n",
    "\n",
    "# def draw_barchart(current_day):\n",
    "#     dff = g[g['day'].eq(current_day)].sort_values(by='value', ascending=True).tail(10)\n",
    "#     ax.clear()\n",
    "#     ax.barh(dff['name'], dff['value'], color=[colors[group_lk[x]] for x in dff['name']])\n",
    "#     dx = dff['value'].max() / 200\n",
    "    \n",
    "#     for i, (value, name) in enumerate(zip(dff['value'], dff['name'])):\n",
    "#         ax.text(value-dx, i,     name,           size=14, weight=600, ha='right', va='bottom')\n",
    "#         ax.text(value-dx, i-.25, group_lk[name], size=10, color='#444444', ha='right', va='baseline')\n",
    "#         ax.text(value+dx, i,     f'{value:,.0f}',  size=14, ha='left',  va='center')\n",
    "#     ax.text(1, 0.4, current_day, transform=ax.transAxes, color='#777777', size=46, ha='right', weight=800)\n",
    "#     ax.text(0, 1.06, 'Population (thousands)', transform=ax.transAxes, size=12, color='#777777')\n",
    "#     ax.xaxis.set_major_formatter(ticker.StrMethodFormatter('{x:,.0f}'))\n",
    "#     ax.xaxis.set_ticks_position('top')\n",
    "#     ax.tick_params(axis='x', colors='#777777', labelsize=12)\n",
    "#     ax.set_yticks([])\n",
    "#     ax.margins(0, 0.01)\n",
    "#     ax.grid(which='major', axis='x', linestyle='-')\n",
    "#     ax.set_axisbelow(True)\n",
    "    \n",
    "#     ax.text(0, 1.15, 'Coronavirus',\n",
    "#             transform=ax.transAxes, size=24, weight=600, ha='left', va='top')\n",
    "# #     ax.text(1, 0, 'by @pratapvardhan; credit @jburnmurdoch', transform=ax.transAxes, color='#777777', ha='right',\n",
    "# #             bbox=dict(facecolor='white', alpha=0.8, edgecolor='white'))\n",
    "#     plt.box(False)"
   ]
  },
  {
   "cell_type": "code",
   "execution_count": 42,
   "id": "sexual-wages",
   "metadata": {
    "execution": {
     "iopub.execute_input": "2021-05-11T12:08:12.723157Z",
     "iopub.status.busy": "2021-05-11T12:08:12.722564Z",
     "iopub.status.idle": "2021-05-11T12:08:12.725030Z",
     "shell.execute_reply": "2021-05-11T12:08:12.725533Z"
    },
    "papermill": {
     "duration": 0.041478,
     "end_time": "2021-05-11T12:08:12.725676",
     "exception": false,
     "start_time": "2021-05-11T12:08:12.684198",
     "status": "completed"
    },
    "tags": []
   },
   "outputs": [],
   "source": [
    "# #hide_input\n",
    "# fig, ax = plt.subplots(figsize=(15, 8))\n",
    "# animator = animation.FuncAnimation(fig, draw_barchart, frames=range(g.day.values.min(), g.day.values.max()))\n",
    "# HTML(animator.to_jshtml())\n",
    "# # or use animator.to_html5_video() or animator.save() "
   ]
  },
  {
   "cell_type": "code",
   "execution_count": null,
   "id": "australian-container",
   "metadata": {
    "papermill": {
     "duration": 0.034569,
     "end_time": "2021-05-11T12:08:12.794821",
     "exception": false,
     "start_time": "2021-05-11T12:08:12.760252",
     "status": "completed"
    },
    "tags": []
   },
   "outputs": [],
   "source": []
  },
  {
   "cell_type": "code",
   "execution_count": null,
   "id": "mediterranean-pontiac",
   "metadata": {
    "papermill": {
     "duration": 0.034607,
     "end_time": "2021-05-11T12:08:12.863878",
     "exception": false,
     "start_time": "2021-05-11T12:08:12.829271",
     "status": "completed"
    },
    "tags": []
   },
   "outputs": [],
   "source": []
  },
  {
   "cell_type": "code",
   "execution_count": null,
   "id": "aging-legislature",
   "metadata": {
    "papermill": {
     "duration": 0.034749,
     "end_time": "2021-05-11T12:08:12.933827",
     "exception": false,
     "start_time": "2021-05-11T12:08:12.899078",
     "status": "completed"
    },
    "tags": []
   },
   "outputs": [],
   "source": []
  }
 ],
 "metadata": {
  "kernelspec": {
   "display_name": "Python 3",
   "language": "python",
   "name": "python3"
  },
  "language_info": {
   "codemirror_mode": {
    "name": "ipython",
    "version": 3
   },
   "file_extension": ".py",
   "mimetype": "text/x-python",
   "name": "python",
   "nbconvert_exporter": "python",
   "pygments_lexer": "ipython3",
   "version": "3.6.13"
  },
  "papermill": {
   "duration": 6.654057,
   "end_time": "2021-05-11T12:08:13.276491",
   "environment_variables": {},
   "exception": null,
   "input_path": "2020-03-21-covid19exp.ipynb",
   "output_path": "2020-03-21-covid19exp.ipynb",
   "parameters": {},
   "start_time": "2021-05-11T12:08:06.622434",
   "version": "2.0.0"
  }
 },
 "nbformat": 4,
 "nbformat_minor": 5
}