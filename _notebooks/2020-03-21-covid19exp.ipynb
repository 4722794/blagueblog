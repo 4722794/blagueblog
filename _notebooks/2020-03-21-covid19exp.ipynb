{
 "cells": [
  {
   "cell_type": "markdown",
   "id": "muslim-click",
   "metadata": {
    "papermill": {
     "duration": 0.033952,
     "end_time": "2021-02-04T00:11:01.822838",
     "exception": false,
     "start_time": "2021-02-04T00:11:01.788886",
     "status": "completed"
    },
    "tags": []
   },
   "source": [
    "# COVID-19 Case Race\n",
    "> A race chart to see rising cases around the world\n",
    "\n",
    "- author: Hargun Oberoi\n",
    "- image: images/covid-overview.png\n",
    "- hide: false\n",
    "- badges: false"
   ]
  },
  {
   "cell_type": "code",
   "execution_count": 1,
   "id": "proof-material",
   "metadata": {
    "execution": {
     "iopub.execute_input": "2021-02-04T00:11:01.896792Z",
     "iopub.status.busy": "2021-02-04T00:11:01.896122Z",
     "iopub.status.idle": "2021-02-04T00:11:02.221050Z",
     "shell.execute_reply": "2021-02-04T00:11:02.220343Z"
    },
    "papermill": {
     "duration": 0.366671,
     "end_time": "2021-02-04T00:11:02.221279",
     "exception": false,
     "start_time": "2021-02-04T00:11:01.854608",
     "status": "completed"
    },
    "tags": []
   },
   "outputs": [],
   "source": [
    "#hide\n",
    "import numpy as np\n",
    "import pandas as pd\n",
    "from jinja2 import Template\n",
    "from IPython.display import HTML"
   ]
  },
  {
   "cell_type": "code",
   "execution_count": 2,
   "id": "developed-terminology",
   "metadata": {
    "execution": {
     "iopub.execute_input": "2021-02-04T00:11:02.295280Z",
     "iopub.status.busy": "2021-02-04T00:11:02.294700Z",
     "iopub.status.idle": "2021-02-04T00:11:02.297066Z",
     "shell.execute_reply": "2021-02-04T00:11:02.296606Z"
    },
    "papermill": {
     "duration": 0.038682,
     "end_time": "2021-02-04T00:11:02.297175",
     "exception": false,
     "start_time": "2021-02-04T00:11:02.258493",
     "status": "completed"
    },
    "tags": []
   },
   "outputs": [],
   "source": [
    "#hide\n",
    "\n",
    "# FETCH\n",
    "base_url = 'https://raw.githubusercontent.com/pratapvardhan/notebooks/master/covid19/'\n",
    "paths = {\n",
    "    'mapping': base_url + 'mapping_countries.csv',\n",
    "    'overview': base_url + 'overview.tpl'\n",
    "}"
   ]
  },
  {
   "cell_type": "code",
   "execution_count": 3,
   "id": "dynamic-saver",
   "metadata": {
    "execution": {
     "iopub.execute_input": "2021-02-04T00:11:02.367668Z",
     "iopub.status.busy": "2021-02-04T00:11:02.367076Z",
     "iopub.status.idle": "2021-02-04T00:11:02.370278Z",
     "shell.execute_reply": "2021-02-04T00:11:02.369789Z"
    },
    "papermill": {
     "duration": 0.042233,
     "end_time": "2021-02-04T00:11:02.370382",
     "exception": false,
     "start_time": "2021-02-04T00:11:02.328149",
     "status": "completed"
    },
    "tags": []
   },
   "outputs": [
    {
     "data": {
      "text/plain": [
       "'https://raw.githubusercontent.com/pratapvardhan/notebooks/master/covid19/mapping_countries.csv'"
      ]
     },
     "execution_count": 3,
     "metadata": {},
     "output_type": "execute_result"
    }
   ],
   "source": [
    "#hide\n",
    "paths['mapping']"
   ]
  },
  {
   "cell_type": "code",
   "execution_count": 4,
   "id": "urban-software",
   "metadata": {
    "execution": {
     "iopub.execute_input": "2021-02-04T00:11:02.434676Z",
     "iopub.status.busy": "2021-02-04T00:11:02.434087Z",
     "iopub.status.idle": "2021-02-04T00:11:02.436254Z",
     "shell.execute_reply": "2021-02-04T00:11:02.436766Z"
    },
    "papermill": {
     "duration": 0.037279,
     "end_time": "2021-02-04T00:11:02.436987",
     "exception": false,
     "start_time": "2021-02-04T00:11:02.399708",
     "status": "completed"
    },
    "tags": []
   },
   "outputs": [],
   "source": [
    "#hide\n",
    "def get_mappings(url):\n",
    "    df = pd.read_csv(url)\n",
    "    return {\n",
    "        'df': df,\n",
    "        'replace.country': dict(df.dropna(subset=['Name']).set_index('Country')['Name']),\n",
    "        'map.continent': dict(df.set_index('Name')['Continent'])\n",
    "    }"
   ]
  },
  {
   "cell_type": "code",
   "execution_count": 5,
   "id": "intimate-machinery",
   "metadata": {
    "execution": {
     "iopub.execute_input": "2021-02-04T00:11:02.504292Z",
     "iopub.status.busy": "2021-02-04T00:11:02.503640Z",
     "iopub.status.idle": "2021-02-04T00:11:02.548036Z",
     "shell.execute_reply": "2021-02-04T00:11:02.548640Z"
    },
    "papermill": {
     "duration": 0.082216,
     "end_time": "2021-02-04T00:11:02.548815",
     "exception": false,
     "start_time": "2021-02-04T00:11:02.466599",
     "status": "completed"
    },
    "tags": []
   },
   "outputs": [],
   "source": [
    "#hide\n",
    "mapping = get_mappings(paths['mapping'])"
   ]
  },
  {
   "cell_type": "code",
   "execution_count": 6,
   "id": "certified-tactics",
   "metadata": {
    "execution": {
     "iopub.execute_input": "2021-02-04T00:11:02.621953Z",
     "iopub.status.busy": "2021-02-04T00:11:02.621249Z",
     "iopub.status.idle": "2021-02-04T00:11:02.623514Z",
     "shell.execute_reply": "2021-02-04T00:11:02.622973Z"
    },
    "papermill": {
     "duration": 0.039751,
     "end_time": "2021-02-04T00:11:02.623623",
     "exception": false,
     "start_time": "2021-02-04T00:11:02.583872",
     "status": "completed"
    },
    "tags": []
   },
   "outputs": [],
   "source": [
    "#hide\n",
    "def get_template(path):\n",
    "    from urllib.parse import urlparse\n",
    "    if bool(urlparse(path).netloc):\n",
    "        from urllib.request import urlopen\n",
    "        return urlopen(path).read().decode('utf8')\n",
    "    return open(path).read()"
   ]
  },
  {
   "cell_type": "code",
   "execution_count": 7,
   "id": "realistic-blast",
   "metadata": {
    "execution": {
     "iopub.execute_input": "2021-02-04T00:11:02.694696Z",
     "iopub.status.busy": "2021-02-04T00:11:02.694058Z",
     "iopub.status.idle": "2021-02-04T00:11:02.696237Z",
     "shell.execute_reply": "2021-02-04T00:11:02.696790Z"
    },
    "papermill": {
     "duration": 0.041504,
     "end_time": "2021-02-04T00:11:02.696928",
     "exception": false,
     "start_time": "2021-02-04T00:11:02.655424",
     "status": "completed"
    },
    "tags": []
   },
   "outputs": [],
   "source": [
    "#hide\n",
    "def get_frame(name):\n",
    "    url = (\n",
    "        'https://raw.githubusercontent.com/CSSEGISandData/COVID-19/master/csse_covid_19_data/'\n",
    "        f'csse_covid_19_time_series/time_series_covid19_{name}_global.csv')\n",
    "    df = pd.read_csv(url)\n",
    "    # rename countries\n",
    "    df['Country/Region'] = df['Country/Region'].replace(mapping['replace.country'])\n",
    "    return df"
   ]
  },
  {
   "cell_type": "code",
   "execution_count": 8,
   "id": "affiliated-characterization",
   "metadata": {
    "execution": {
     "iopub.execute_input": "2021-02-04T00:11:02.770813Z",
     "iopub.status.busy": "2021-02-04T00:11:02.769966Z",
     "iopub.status.idle": "2021-02-04T00:11:02.772110Z",
     "shell.execute_reply": "2021-02-04T00:11:02.772577Z"
    },
    "papermill": {
     "duration": 0.041456,
     "end_time": "2021-02-04T00:11:02.772695",
     "exception": false,
     "start_time": "2021-02-04T00:11:02.731239",
     "status": "completed"
    },
    "tags": []
   },
   "outputs": [],
   "source": [
    "#hide\n",
    "def get_dates(df):\n",
    "    dt_cols = df.columns[~df.columns.isin(['Province/State', 'Country/Region', 'Lat', 'Long'])]\n",
    "    LAST_DATE_I = -1\n",
    "    # sometimes last column may be empty, then go backwards\n",
    "    for i in range(-1, -len(dt_cols), -1):\n",
    "        if not df[dt_cols[i]].fillna(0).eq(0).all():\n",
    "            LAST_DATE_I = i\n",
    "            break\n",
    "    return LAST_DATE_I, dt_cols"
   ]
  },
  {
   "cell_type": "code",
   "execution_count": 9,
   "id": "recent-optimization",
   "metadata": {
    "execution": {
     "iopub.execute_input": "2021-02-04T00:11:02.838304Z",
     "iopub.status.busy": "2021-02-04T00:11:02.837354Z",
     "iopub.status.idle": "2021-02-04T00:11:03.142738Z",
     "shell.execute_reply": "2021-02-04T00:11:03.143269Z"
    },
    "papermill": {
     "duration": 0.340567,
     "end_time": "2021-02-04T00:11:03.143448",
     "exception": false,
     "start_time": "2021-02-04T00:11:02.802881",
     "status": "completed"
    },
    "tags": []
   },
   "outputs": [],
   "source": [
    "#hide\n",
    "COL_REGION = 'Country/Region'\n",
    "# Confirmed, Recovered, Deaths\n",
    "df = get_frame('confirmed')\n",
    "# dft_: timeseries, dfc_: today country agg\n",
    "dft_cases = df\n",
    "dft_deaths = get_frame('deaths')\n",
    "dft_recovered = get_frame('recovered')\n",
    "LAST_DATE_I, dt_cols = get_dates(df)"
   ]
  },
  {
   "cell_type": "code",
   "execution_count": 10,
   "id": "absolute-copper",
   "metadata": {
    "execution": {
     "iopub.execute_input": "2021-02-04T00:11:03.215238Z",
     "iopub.status.busy": "2021-02-04T00:11:03.214693Z",
     "iopub.status.idle": "2021-02-04T00:11:03.216657Z",
     "shell.execute_reply": "2021-02-04T00:11:03.217150Z"
    },
    "papermill": {
     "duration": 0.039408,
     "end_time": "2021-02-04T00:11:03.217313",
     "exception": false,
     "start_time": "2021-02-04T00:11:03.177905",
     "status": "completed"
    },
    "tags": []
   },
   "outputs": [],
   "source": [
    "#hide\n",
    "LAST_DATE_I, dt_cols = get_dates(df)\n",
    "dt_today =dt_cols[LAST_DATE_I]\n",
    "# dt_5day = dt_cols[LAST_DATE_I - 5]\n",
    "dt_yday = dt_cols[LAST_DATE_I - 1]"
   ]
  },
  {
   "cell_type": "code",
   "execution_count": 11,
   "id": "restricted-sheriff",
   "metadata": {
    "execution": {
     "iopub.execute_input": "2021-02-04T00:11:03.282559Z",
     "iopub.status.busy": "2021-02-04T00:11:03.281920Z",
     "iopub.status.idle": "2021-02-04T00:11:03.289998Z",
     "shell.execute_reply": "2021-02-04T00:11:03.290511Z"
    },
    "papermill": {
     "duration": 0.043718,
     "end_time": "2021-02-04T00:11:03.290652",
     "exception": false,
     "start_time": "2021-02-04T00:11:03.246934",
     "status": "completed"
    },
    "tags": []
   },
   "outputs": [],
   "source": [
    "#hide\n",
    "dfc_cases = dft_cases.groupby(COL_REGION)[dt_today].sum()\n",
    "dfc_deaths = dft_deaths.groupby(COL_REGION)[dt_today].sum()\n",
    "# dfp_cases = dft_cases.groupby(COL_REGION)[dt_5day].sum()\n",
    "# dfp_deaths = dft_deaths.groupby(COL_REGION)[dt_5day].sum()\n",
    "dfp_cases = dft_cases.groupby(COL_REGION)[dt_yday].sum()\n",
    "dfp_deaths = dft_deaths.groupby(COL_REGION)[dt_yday].sum()"
   ]
  },
  {
   "cell_type": "code",
   "execution_count": 12,
   "id": "deluxe-hepatitis",
   "metadata": {
    "execution": {
     "iopub.execute_input": "2021-02-04T00:11:03.360624Z",
     "iopub.status.busy": "2021-02-04T00:11:03.360065Z",
     "iopub.status.idle": "2021-02-04T00:11:03.364363Z",
     "shell.execute_reply": "2021-02-04T00:11:03.364861Z"
    },
    "papermill": {
     "duration": 0.041691,
     "end_time": "2021-02-04T00:11:03.364974",
     "exception": false,
     "start_time": "2021-02-04T00:11:03.323283",
     "status": "completed"
    },
    "tags": []
   },
   "outputs": [],
   "source": [
    "#hide\n",
    "df_table = (pd.DataFrame(dict(Cases = dfc_cases, Deaths = dfc_deaths, PCases = dfp_cases, PDeaths = dfp_deaths))\n",
    "            .sort_values(by = ['Cases','Deaths'], ascending = [False, False])\n",
    "            .reset_index())"
   ]
  },
  {
   "cell_type": "code",
   "execution_count": 13,
   "id": "educational-chancellor",
   "metadata": {
    "execution": {
     "iopub.execute_input": "2021-02-04T00:11:03.444583Z",
     "iopub.status.busy": "2021-02-04T00:11:03.444036Z",
     "iopub.status.idle": "2021-02-04T00:11:03.456595Z",
     "shell.execute_reply": "2021-02-04T00:11:03.457105Z"
    },
    "papermill": {
     "duration": 0.057711,
     "end_time": "2021-02-04T00:11:03.457221",
     "exception": false,
     "start_time": "2021-02-04T00:11:03.399510",
     "status": "completed"
    },
    "tags": []
   },
   "outputs": [
    {
     "data": {
      "text/html": [
       "<div>\n",
       "<style scoped>\n",
       "    .dataframe tbody tr th:only-of-type {\n",
       "        vertical-align: middle;\n",
       "    }\n",
       "\n",
       "    .dataframe tbody tr th {\n",
       "        vertical-align: top;\n",
       "    }\n",
       "\n",
       "    .dataframe thead th {\n",
       "        text-align: right;\n",
       "    }\n",
       "</style>\n",
       "<table border=\"1\" class=\"dataframe\">\n",
       "  <thead>\n",
       "    <tr style=\"text-align: right;\">\n",
       "      <th></th>\n",
       "      <th>Country/Region</th>\n",
       "      <th>Cases</th>\n",
       "      <th>Deaths</th>\n",
       "      <th>PCases</th>\n",
       "      <th>PDeaths</th>\n",
       "      <th>Cases (+)</th>\n",
       "      <th>Deaths (+)</th>\n",
       "      <th>Fatality Rate</th>\n",
       "      <th>Continent</th>\n",
       "    </tr>\n",
       "  </thead>\n",
       "  <tbody>\n",
       "    <tr>\n",
       "      <th>0</th>\n",
       "      <td>US</td>\n",
       "      <td>26435557</td>\n",
       "      <td>446885</td>\n",
       "      <td>26321120</td>\n",
       "      <td>443355</td>\n",
       "      <td>114437</td>\n",
       "      <td>3530</td>\n",
       "      <td>1.69</td>\n",
       "      <td>North America</td>\n",
       "    </tr>\n",
       "    <tr>\n",
       "      <th>1</th>\n",
       "      <td>India</td>\n",
       "      <td>10777284</td>\n",
       "      <td>154596</td>\n",
       "      <td>10766245</td>\n",
       "      <td>154486</td>\n",
       "      <td>11039</td>\n",
       "      <td>110</td>\n",
       "      <td>1.43</td>\n",
       "      <td>Asia</td>\n",
       "    </tr>\n",
       "    <tr>\n",
       "      <th>2</th>\n",
       "      <td>Brazil</td>\n",
       "      <td>9283418</td>\n",
       "      <td>226309</td>\n",
       "      <td>9229322</td>\n",
       "      <td>225099</td>\n",
       "      <td>54096</td>\n",
       "      <td>1210</td>\n",
       "      <td>2.44</td>\n",
       "      <td>South America</td>\n",
       "    </tr>\n",
       "    <tr>\n",
       "      <th>3</th>\n",
       "      <td>United Kingdom</td>\n",
       "      <td>3863757</td>\n",
       "      <td>108225</td>\n",
       "      <td>3846851</td>\n",
       "      <td>106774</td>\n",
       "      <td>16906</td>\n",
       "      <td>1451</td>\n",
       "      <td>2.80</td>\n",
       "      <td>Europe</td>\n",
       "    </tr>\n",
       "    <tr>\n",
       "      <th>4</th>\n",
       "      <td>Russia</td>\n",
       "      <td>3842145</td>\n",
       "      <td>72982</td>\n",
       "      <td>3825739</td>\n",
       "      <td>72456</td>\n",
       "      <td>16406</td>\n",
       "      <td>526</td>\n",
       "      <td>1.90</td>\n",
       "      <td>Europe</td>\n",
       "    </tr>\n",
       "  </tbody>\n",
       "</table>\n",
       "</div>"
      ],
      "text/plain": [
       "   Country/Region     Cases  Deaths    PCases  PDeaths  Cases (+)  Deaths (+)  \\\n",
       "0              US  26435557  446885  26321120   443355     114437        3530   \n",
       "1           India  10777284  154596  10766245   154486      11039         110   \n",
       "2          Brazil   9283418  226309   9229322   225099      54096        1210   \n",
       "3  United Kingdom   3863757  108225   3846851   106774      16906        1451   \n",
       "4          Russia   3842145   72982   3825739    72456      16406         526   \n",
       "\n",
       "   Fatality Rate      Continent  \n",
       "0           1.69  North America  \n",
       "1           1.43           Asia  \n",
       "2           2.44  South America  \n",
       "3           2.80         Europe  \n",
       "4           1.90         Europe  "
      ]
     },
     "execution_count": 13,
     "metadata": {},
     "output_type": "execute_result"
    }
   ],
   "source": [
    "#hide\n",
    "for c in 'Cases, Deaths'.split(', '):\n",
    "    df_table[f'{c} (+)'] = (df_table[c] - df_table[f'P{c}']).clip(0)\n",
    "    #Clip ça veut dire, les chiffres negatif sont interdit\n",
    "df_table['Fatality Rate'] = (100* df_table['Deaths']/ df_table['Cases']).round(2)\n",
    "df_table['Continent'] = df_table['Country/Region'].map(mapping['map.continent'])\n",
    "df_table.head(5)"
   ]
  },
  {
   "cell_type": "code",
   "execution_count": 14,
   "id": "aboriginal-bulgaria",
   "metadata": {
    "execution": {
     "iopub.execute_input": "2021-02-04T00:11:03.526411Z",
     "iopub.status.busy": "2021-02-04T00:11:03.525799Z",
     "iopub.status.idle": "2021-02-04T00:11:03.527959Z",
     "shell.execute_reply": "2021-02-04T00:11:03.528922Z"
    },
    "papermill": {
     "duration": 0.040589,
     "end_time": "2021-02-04T00:11:03.529084",
     "exception": false,
     "start_time": "2021-02-04T00:11:03.488495",
     "status": "completed"
    },
    "tags": []
   },
   "outputs": [],
   "source": [
    "#hide\n",
    "#delete problematic countries from table\n",
    "df_table = df_table[~df_table['Country/Region'].isin(['Cape Verde', 'Cruise Ship', 'Kosovo'])]"
   ]
  },
  {
   "cell_type": "code",
   "execution_count": 15,
   "id": "fantastic-effect",
   "metadata": {
    "execution": {
     "iopub.execute_input": "2021-02-04T00:11:03.601198Z",
     "iopub.status.busy": "2021-02-04T00:11:03.600490Z",
     "iopub.status.idle": "2021-02-04T00:11:03.621916Z",
     "shell.execute_reply": "2021-02-04T00:11:03.622385Z"
    },
    "papermill": {
     "duration": 0.06145,
     "end_time": "2021-02-04T00:11:03.622527",
     "exception": false,
     "start_time": "2021-02-04T00:11:03.561077",
     "status": "completed"
    },
    "tags": []
   },
   "outputs": [
    {
     "data": {
      "text/html": [
       "<div>\n",
       "<style scoped>\n",
       "    .dataframe tbody tr th:only-of-type {\n",
       "        vertical-align: middle;\n",
       "    }\n",
       "\n",
       "    .dataframe tbody tr th {\n",
       "        vertical-align: top;\n",
       "    }\n",
       "\n",
       "    .dataframe thead th {\n",
       "        text-align: right;\n",
       "    }\n",
       "</style>\n",
       "<table border=\"1\" class=\"dataframe\">\n",
       "  <thead>\n",
       "    <tr style=\"text-align: right;\">\n",
       "      <th></th>\n",
       "      <th>Country/Region</th>\n",
       "      <th>Cases</th>\n",
       "      <th>Deaths</th>\n",
       "      <th>PCases</th>\n",
       "      <th>PDeaths</th>\n",
       "      <th>Cases (+)</th>\n",
       "      <th>Deaths (+)</th>\n",
       "      <th>Fatality Rate</th>\n",
       "      <th>Continent</th>\n",
       "    </tr>\n",
       "  </thead>\n",
       "  <tbody>\n",
       "    <tr>\n",
       "      <th>0</th>\n",
       "      <td>US</td>\n",
       "      <td>26435557</td>\n",
       "      <td>446885</td>\n",
       "      <td>26321120</td>\n",
       "      <td>443355</td>\n",
       "      <td>114437</td>\n",
       "      <td>3530</td>\n",
       "      <td>1.7</td>\n",
       "      <td>North America</td>\n",
       "    </tr>\n",
       "    <tr>\n",
       "      <th>1</th>\n",
       "      <td>India</td>\n",
       "      <td>10777284</td>\n",
       "      <td>154596</td>\n",
       "      <td>10766245</td>\n",
       "      <td>154486</td>\n",
       "      <td>11039</td>\n",
       "      <td>110</td>\n",
       "      <td>1.4</td>\n",
       "      <td>Asia</td>\n",
       "    </tr>\n",
       "    <tr>\n",
       "      <th>2</th>\n",
       "      <td>Brazil</td>\n",
       "      <td>9283418</td>\n",
       "      <td>226309</td>\n",
       "      <td>9229322</td>\n",
       "      <td>225099</td>\n",
       "      <td>54096</td>\n",
       "      <td>1210</td>\n",
       "      <td>2.4</td>\n",
       "      <td>South America</td>\n",
       "    </tr>\n",
       "    <tr>\n",
       "      <th>3</th>\n",
       "      <td>United Kingdom</td>\n",
       "      <td>3863757</td>\n",
       "      <td>108225</td>\n",
       "      <td>3846851</td>\n",
       "      <td>106774</td>\n",
       "      <td>16906</td>\n",
       "      <td>1451</td>\n",
       "      <td>2.8</td>\n",
       "      <td>Europe</td>\n",
       "    </tr>\n",
       "    <tr>\n",
       "      <th>4</th>\n",
       "      <td>Russia</td>\n",
       "      <td>3842145</td>\n",
       "      <td>72982</td>\n",
       "      <td>3825739</td>\n",
       "      <td>72456</td>\n",
       "      <td>16406</td>\n",
       "      <td>526</td>\n",
       "      <td>1.9</td>\n",
       "      <td>Europe</td>\n",
       "    </tr>\n",
       "  </tbody>\n",
       "</table>\n",
       "</div>"
      ],
      "text/plain": [
       "   Country/Region     Cases  Deaths    PCases  PDeaths  Cases (+)  Deaths (+)  \\\n",
       "0              US  26435557  446885  26321120   443355     114437        3530   \n",
       "1           India  10777284  154596  10766245   154486      11039         110   \n",
       "2          Brazil   9283418  226309   9229322   225099      54096        1210   \n",
       "3  United Kingdom   3863757  108225   3846851   106774      16906        1451   \n",
       "4          Russia   3842145   72982   3825739    72456      16406         526   \n",
       "\n",
       "   Fatality Rate      Continent  \n",
       "0            1.7  North America  \n",
       "1            1.4           Asia  \n",
       "2            2.4  South America  \n",
       "3            2.8         Europe  \n",
       "4            1.9         Europe  "
      ]
     },
     "execution_count": 15,
     "metadata": {},
     "output_type": "execute_result"
    }
   ],
   "source": [
    "#hide\n",
    "df_table = (pd.DataFrame(dict(Cases=dfc_cases, Deaths=dfc_deaths, PCases=dfp_cases, PDeaths=dfp_deaths))\n",
    "             .sort_values(by=['Cases', 'Deaths'], ascending=[False, False])\n",
    "             .reset_index())\n",
    "df_table.rename(columns={'index': 'Country/Region'}, inplace=True)\n",
    "for c in 'Cases, Deaths'.split(', '):\n",
    "    df_table[f'{c} (+)'] = (df_table[c] - df_table[f'P{c}']).clip(0)  # DATA BUG\n",
    "df_table['Fatality Rate'] = (100 * df_table['Deaths'] / df_table['Cases']).round(1)\n",
    "df_table['Continent'] = df_table['Country/Region'].map(mapping['map.continent'])\n",
    "df_table.head(5)"
   ]
  },
  {
   "cell_type": "code",
   "execution_count": 16,
   "id": "fewer-occasion",
   "metadata": {
    "execution": {
     "iopub.execute_input": "2021-02-04T00:11:03.700860Z",
     "iopub.status.busy": "2021-02-04T00:11:03.700209Z",
     "iopub.status.idle": "2021-02-04T00:11:03.702447Z",
     "shell.execute_reply": "2021-02-04T00:11:03.703024Z"
    },
    "papermill": {
     "duration": 0.046162,
     "end_time": "2021-02-04T00:11:03.703191",
     "exception": false,
     "start_time": "2021-02-04T00:11:03.657029",
     "status": "completed"
    },
    "tags": []
   },
   "outputs": [],
   "source": [
    "#hide\n",
    "#delete problematic countries from table\n",
    "df_table = df_table[~df_table['Country/Region'].isin(['Cape Verde', 'Cruise Ship', 'Kosovo'])]"
   ]
  },
  {
   "cell_type": "code",
   "execution_count": 17,
   "id": "related-center",
   "metadata": {
    "execution": {
     "iopub.execute_input": "2021-02-04T00:11:03.779126Z",
     "iopub.status.busy": "2021-02-04T00:11:03.778507Z",
     "iopub.status.idle": "2021-02-04T00:11:03.793525Z",
     "shell.execute_reply": "2021-02-04T00:11:03.794238Z"
    },
    "papermill": {
     "duration": 0.057223,
     "end_time": "2021-02-04T00:11:03.794387",
     "exception": false,
     "start_time": "2021-02-04T00:11:03.737164",
     "status": "completed"
    },
    "tags": []
   },
   "outputs": [],
   "source": [
    "#hide\n",
    "metrics = [df_table.columns[index] for index in [1,2,5,6]]\n",
    "# s_china = df_table[df_table['Country/Region'].eq('China')][metrics].sum().add_prefix('China ')\n",
    "s_us = df_table[df_table['Country/Region'].eq('US')][metrics].sum().add_prefix('US ')\n",
    "s_eu = df_table[df_table['Continent'].eq('Europe')][metrics].sum().add_prefix('EU ')\n",
    "s_ind = df_table[df_table['Country/Region'].eq('India')][metrics].sum().add_prefix('India ')\n",
    "summary = {'updated': pd.to_datetime(dt_today), 'since': pd.to_datetime(dt_yday)}\n",
    "summary = {'updated': pd.to_datetime(dt_today), 'since': pd.to_datetime(dt_yday)}\n",
    "summary = {**summary, **df_table[metrics].sum(), **s_ind, **s_us, **s_eu}"
   ]
  },
  {
   "cell_type": "code",
   "execution_count": 18,
   "id": "engaging-syndrome",
   "metadata": {
    "execution": {
     "iopub.execute_input": "2021-02-04T00:11:03.875068Z",
     "iopub.status.busy": "2021-02-04T00:11:03.874461Z",
     "iopub.status.idle": "2021-02-04T00:11:03.883614Z",
     "shell.execute_reply": "2021-02-04T00:11:03.884079Z"
    },
    "papermill": {
     "duration": 0.05266,
     "end_time": "2021-02-04T00:11:03.884201",
     "exception": false,
     "start_time": "2021-02-04T00:11:03.831541",
     "status": "completed"
    },
    "tags": []
   },
   "outputs": [],
   "source": [
    "#hide\n",
    "dft_ct_new_cases = dft_cases.groupby(COL_REGION)[dt_cols].sum().diff(axis=1).fillna(0).astype(int)"
   ]
  },
  {
   "cell_type": "code",
   "execution_count": 19,
   "id": "neutral-assignment",
   "metadata": {
    "execution": {
     "iopub.execute_input": "2021-02-04T00:11:03.959684Z",
     "iopub.status.busy": "2021-02-04T00:11:03.959067Z",
     "iopub.status.idle": "2021-02-04T00:11:03.961904Z",
     "shell.execute_reply": "2021-02-04T00:11:03.961330Z"
    },
    "papermill": {
     "duration": 0.044303,
     "end_time": "2021-02-04T00:11:03.962019",
     "exception": false,
     "start_time": "2021-02-04T00:11:03.917716",
     "status": "completed"
    },
    "tags": []
   },
   "outputs": [],
   "source": [
    "#hide\n",
    "everydaycases = dft_ct_new_cases.cumsum(axis=1)"
   ]
  },
  {
   "cell_type": "code",
   "execution_count": 20,
   "id": "parliamentary-calgary",
   "metadata": {
    "execution": {
     "iopub.execute_input": "2021-02-04T00:11:04.034801Z",
     "iopub.status.busy": "2021-02-04T00:11:04.033943Z",
     "iopub.status.idle": "2021-02-04T00:11:04.712481Z",
     "shell.execute_reply": "2021-02-04T00:11:04.712907Z"
    },
    "papermill": {
     "duration": 0.717808,
     "end_time": "2021-02-04T00:11:04.713061",
     "exception": false,
     "start_time": "2021-02-04T00:11:03.995253",
     "status": "completed"
    },
    "tags": []
   },
   "outputs": [],
   "source": [
    "#hide\n",
    "import pandas as pd\n",
    "import matplotlib.pyplot as plt\n",
    "import matplotlib.ticker as ticker\n",
    "import matplotlib.animation as animation\n",
    "from IPython.display import HTML"
   ]
  },
  {
   "cell_type": "code",
   "execution_count": 21,
   "id": "lasting-extraction",
   "metadata": {
    "execution": {
     "iopub.execute_input": "2021-02-04T00:11:04.780342Z",
     "iopub.status.busy": "2021-02-04T00:11:04.779698Z",
     "iopub.status.idle": "2021-02-04T00:11:04.784897Z",
     "shell.execute_reply": "2021-02-04T00:11:04.785372Z"
    },
    "papermill": {
     "duration": 0.04175,
     "end_time": "2021-02-04T00:11:04.785515",
     "exception": false,
     "start_time": "2021-02-04T00:11:04.743765",
     "status": "completed"
    },
    "tags": []
   },
   "outputs": [],
   "source": [
    "#hide\n",
    "t = everydaycases.stack()"
   ]
  },
  {
   "cell_type": "code",
   "execution_count": 22,
   "id": "premier-sleeve",
   "metadata": {
    "execution": {
     "iopub.execute_input": "2021-02-04T00:11:04.856161Z",
     "iopub.status.busy": "2021-02-04T00:11:04.854476Z",
     "iopub.status.idle": "2021-02-04T00:11:04.861897Z",
     "shell.execute_reply": "2021-02-04T00:11:04.861101Z"
    },
    "papermill": {
     "duration": 0.042299,
     "end_time": "2021-02-04T00:11:04.862033",
     "exception": false,
     "start_time": "2021-02-04T00:11:04.819734",
     "status": "completed"
    },
    "tags": []
   },
   "outputs": [],
   "source": [
    "#hide\n",
    "g = t.reset_index(['Country/Region'])"
   ]
  },
  {
   "cell_type": "code",
   "execution_count": 23,
   "id": "distributed-pittsburgh",
   "metadata": {
    "execution": {
     "iopub.execute_input": "2021-02-04T00:11:04.938830Z",
     "iopub.status.busy": "2021-02-04T00:11:04.938132Z",
     "iopub.status.idle": "2021-02-04T00:11:04.940952Z",
     "shell.execute_reply": "2021-02-04T00:11:04.940263Z"
    },
    "papermill": {
     "duration": 0.043971,
     "end_time": "2021-02-04T00:11:04.941134",
     "exception": false,
     "start_time": "2021-02-04T00:11:04.897163",
     "status": "completed"
    },
    "tags": []
   },
   "outputs": [],
   "source": [
    "#hide\n",
    "g.index.name = 'date'"
   ]
  },
  {
   "cell_type": "code",
   "execution_count": 24,
   "id": "naked-donor",
   "metadata": {
    "execution": {
     "iopub.execute_input": "2021-02-04T00:11:05.013358Z",
     "iopub.status.busy": "2021-02-04T00:11:05.012702Z",
     "iopub.status.idle": "2021-02-04T00:11:05.014383Z",
     "shell.execute_reply": "2021-02-04T00:11:05.014912Z"
    },
    "papermill": {
     "duration": 0.037423,
     "end_time": "2021-02-04T00:11:05.015033",
     "exception": false,
     "start_time": "2021-02-04T00:11:04.977610",
     "status": "completed"
    },
    "tags": []
   },
   "outputs": [],
   "source": [
    "# #hide\n",
    "# g = g.reset_index(['date'])"
   ]
  },
  {
   "cell_type": "code",
   "execution_count": 25,
   "id": "incomplete-mustang",
   "metadata": {
    "execution": {
     "iopub.execute_input": "2021-02-04T00:11:05.089175Z",
     "iopub.status.busy": "2021-02-04T00:11:05.088501Z",
     "iopub.status.idle": "2021-02-04T00:11:05.090772Z",
     "shell.execute_reply": "2021-02-04T00:11:05.091851Z"
    },
    "papermill": {
     "duration": 0.046389,
     "end_time": "2021-02-04T00:11:05.092001",
     "exception": false,
     "start_time": "2021-02-04T00:11:05.045612",
     "status": "completed"
    },
    "tags": []
   },
   "outputs": [],
   "source": [
    "#hide\n",
    "# g.head()"
   ]
  },
  {
   "cell_type": "code",
   "execution_count": 26,
   "id": "specific-kruger",
   "metadata": {
    "execution": {
     "iopub.execute_input": "2021-02-04T00:11:05.171481Z",
     "iopub.status.busy": "2021-02-04T00:11:05.170861Z",
     "iopub.status.idle": "2021-02-04T00:11:05.172993Z",
     "shell.execute_reply": "2021-02-04T00:11:05.172496Z"
    },
    "papermill": {
     "duration": 0.041464,
     "end_time": "2021-02-04T00:11:05.173113",
     "exception": false,
     "start_time": "2021-02-04T00:11:05.131649",
     "status": "completed"
    },
    "tags": []
   },
   "outputs": [],
   "source": [
    "#hide\n",
    "# g.columns = ['date','country','cases']"
   ]
  },
  {
   "cell_type": "code",
   "execution_count": 27,
   "id": "tender-conversion",
   "metadata": {
    "execution": {
     "iopub.execute_input": "2021-02-04T00:11:05.251268Z",
     "iopub.status.busy": "2021-02-04T00:11:05.250606Z",
     "iopub.status.idle": "2021-02-04T00:11:05.253113Z",
     "shell.execute_reply": "2021-02-04T00:11:05.252524Z"
    },
    "papermill": {
     "duration": 0.040325,
     "end_time": "2021-02-04T00:11:05.253250",
     "exception": false,
     "start_time": "2021-02-04T00:11:05.212925",
     "status": "completed"
    },
    "tags": []
   },
   "outputs": [],
   "source": [
    "#hide\n",
    "# g['continent'] = g.country"
   ]
  },
  {
   "cell_type": "code",
   "execution_count": 28,
   "id": "substantial-wilderness",
   "metadata": {
    "execution": {
     "iopub.execute_input": "2021-02-04T00:11:05.323633Z",
     "iopub.status.busy": "2021-02-04T00:11:05.323103Z",
     "iopub.status.idle": "2021-02-04T00:11:05.325646Z",
     "shell.execute_reply": "2021-02-04T00:11:05.325040Z"
    },
    "papermill": {
     "duration": 0.039663,
     "end_time": "2021-02-04T00:11:05.325820",
     "exception": false,
     "start_time": "2021-02-04T00:11:05.286157",
     "status": "completed"
    },
    "tags": []
   },
   "outputs": [],
   "source": [
    "#hide\n",
    "# cols = list(g.columns.values)"
   ]
  },
  {
   "cell_type": "code",
   "execution_count": 29,
   "id": "solved-farming",
   "metadata": {
    "execution": {
     "iopub.execute_input": "2021-02-04T00:11:05.397561Z",
     "iopub.status.busy": "2021-02-04T00:11:05.397010Z",
     "iopub.status.idle": "2021-02-04T00:11:05.399585Z",
     "shell.execute_reply": "2021-02-04T00:11:05.399166Z"
    },
    "papermill": {
     "duration": 0.038821,
     "end_time": "2021-02-04T00:11:05.399692",
     "exception": false,
     "start_time": "2021-02-04T00:11:05.360871",
     "status": "completed"
    },
    "tags": []
   },
   "outputs": [],
   "source": [
    "#hide\n",
    "# cols.insert(0, cols.pop())"
   ]
  },
  {
   "cell_type": "code",
   "execution_count": 30,
   "id": "executed-adoption",
   "metadata": {
    "execution": {
     "iopub.execute_input": "2021-02-04T00:11:05.470186Z",
     "iopub.status.busy": "2021-02-04T00:11:05.469502Z",
     "iopub.status.idle": "2021-02-04T00:11:05.471492Z",
     "shell.execute_reply": "2021-02-04T00:11:05.471978Z"
    },
    "papermill": {
     "duration": 0.042599,
     "end_time": "2021-02-04T00:11:05.472113",
     "exception": false,
     "start_time": "2021-02-04T00:11:05.429514",
     "status": "completed"
    },
    "tags": []
   },
   "outputs": [],
   "source": [
    "#hide\n",
    "# g = g[cols]"
   ]
  },
  {
   "cell_type": "code",
   "execution_count": 31,
   "id": "subject-dublin",
   "metadata": {
    "execution": {
     "iopub.execute_input": "2021-02-04T00:11:05.545352Z",
     "iopub.status.busy": "2021-02-04T00:11:05.544789Z",
     "iopub.status.idle": "2021-02-04T00:11:05.546856Z",
     "shell.execute_reply": "2021-02-04T00:11:05.547330Z"
    },
    "papermill": {
     "duration": 0.039376,
     "end_time": "2021-02-04T00:11:05.547447",
     "exception": false,
     "start_time": "2021-02-04T00:11:05.508071",
     "status": "completed"
    },
    "tags": []
   },
   "outputs": [],
   "source": [
    "#hide\n",
    "# g['continent'] = g['continent'].map(mapping['map.continent'])"
   ]
  },
  {
   "cell_type": "code",
   "execution_count": 32,
   "id": "freelance-scout",
   "metadata": {
    "execution": {
     "iopub.execute_input": "2021-02-04T00:11:05.613508Z",
     "iopub.status.busy": "2021-02-04T00:11:05.612942Z",
     "iopub.status.idle": "2021-02-04T00:11:05.615237Z",
     "shell.execute_reply": "2021-02-04T00:11:05.614736Z"
    },
    "papermill": {
     "duration": 0.036458,
     "end_time": "2021-02-04T00:11:05.615345",
     "exception": false,
     "start_time": "2021-02-04T00:11:05.578887",
     "status": "completed"
    },
    "tags": []
   },
   "outputs": [],
   "source": [
    "#hide\n",
    "# g.head()"
   ]
  },
  {
   "cell_type": "code",
   "execution_count": 33,
   "id": "limited-engine",
   "metadata": {
    "execution": {
     "iopub.execute_input": "2021-02-04T00:11:05.691305Z",
     "iopub.status.busy": "2021-02-04T00:11:05.690637Z",
     "iopub.status.idle": "2021-02-04T00:11:05.693029Z",
     "shell.execute_reply": "2021-02-04T00:11:05.692538Z"
    },
    "papermill": {
     "duration": 0.042016,
     "end_time": "2021-02-04T00:11:05.693145",
     "exception": false,
     "start_time": "2021-02-04T00:11:05.651129",
     "status": "completed"
    },
    "tags": []
   },
   "outputs": [],
   "source": [
    "# hide\n",
    "# g['date'] = g['date'].astype('datetime64[ns]')"
   ]
  },
  {
   "cell_type": "code",
   "execution_count": 34,
   "id": "sophisticated-supervisor",
   "metadata": {
    "execution": {
     "iopub.execute_input": "2021-02-04T00:11:05.765955Z",
     "iopub.status.busy": "2021-02-04T00:11:05.765298Z",
     "iopub.status.idle": "2021-02-04T00:11:05.767781Z",
     "shell.execute_reply": "2021-02-04T00:11:05.767172Z"
    },
    "papermill": {
     "duration": 0.0389,
     "end_time": "2021-02-04T00:11:05.767913",
     "exception": false,
     "start_time": "2021-02-04T00:11:05.729013",
     "status": "completed"
    },
    "tags": []
   },
   "outputs": [],
   "source": [
    "#hide\n",
    "# g['date'] = g.date.dt.dayofyear"
   ]
  },
  {
   "cell_type": "code",
   "execution_count": 35,
   "id": "inside-dubai",
   "metadata": {
    "execution": {
     "iopub.execute_input": "2021-02-04T00:11:05.846893Z",
     "iopub.status.busy": "2021-02-04T00:11:05.846208Z",
     "iopub.status.idle": "2021-02-04T00:11:05.849120Z",
     "shell.execute_reply": "2021-02-04T00:11:05.848003Z"
    },
    "papermill": {
     "duration": 0.043754,
     "end_time": "2021-02-04T00:11:05.849264",
     "exception": false,
     "start_time": "2021-02-04T00:11:05.805510",
     "status": "completed"
    },
    "tags": []
   },
   "outputs": [],
   "source": [
    "#hide\n",
    "# g = g.rename(columns= {'continent':'group','country':'name','cases':'value'})"
   ]
  },
  {
   "cell_type": "code",
   "execution_count": 36,
   "id": "fleet-motorcycle",
   "metadata": {
    "execution": {
     "iopub.execute_input": "2021-02-04T00:11:05.934416Z",
     "iopub.status.busy": "2021-02-04T00:11:05.933795Z",
     "iopub.status.idle": "2021-02-04T00:11:05.936133Z",
     "shell.execute_reply": "2021-02-04T00:11:05.935649Z"
    },
    "papermill": {
     "duration": 0.044573,
     "end_time": "2021-02-04T00:11:05.936241",
     "exception": false,
     "start_time": "2021-02-04T00:11:05.891668",
     "status": "completed"
    },
    "tags": []
   },
   "outputs": [],
   "source": [
    "#hide\n",
    "# cols = ['name','group','day','value']"
   ]
  },
  {
   "cell_type": "code",
   "execution_count": 37,
   "id": "continued-sleeping",
   "metadata": {
    "execution": {
     "iopub.execute_input": "2021-02-04T00:11:06.002208Z",
     "iopub.status.busy": "2021-02-04T00:11:06.001647Z",
     "iopub.status.idle": "2021-02-04T00:11:06.003364Z",
     "shell.execute_reply": "2021-02-04T00:11:06.003973Z"
    },
    "papermill": {
     "duration": 0.036366,
     "end_time": "2021-02-04T00:11:06.004092",
     "exception": false,
     "start_time": "2021-02-04T00:11:05.967726",
     "status": "completed"
    },
    "tags": []
   },
   "outputs": [],
   "source": [
    "#hide\n",
    "# g.rename(columns= {'date':'day'},inplace = True)"
   ]
  },
  {
   "cell_type": "code",
   "execution_count": 38,
   "id": "major-fight",
   "metadata": {
    "execution": {
     "iopub.execute_input": "2021-02-04T00:11:06.069541Z",
     "iopub.status.busy": "2021-02-04T00:11:06.068983Z",
     "iopub.status.idle": "2021-02-04T00:11:06.071139Z",
     "shell.execute_reply": "2021-02-04T00:11:06.071560Z"
    },
    "papermill": {
     "duration": 0.03645,
     "end_time": "2021-02-04T00:11:06.071681",
     "exception": false,
     "start_time": "2021-02-04T00:11:06.035231",
     "status": "completed"
    },
    "tags": []
   },
   "outputs": [],
   "source": [
    "#hide\n",
    "# g = g[cols]"
   ]
  },
  {
   "cell_type": "code",
   "execution_count": 39,
   "id": "structured-mobile",
   "metadata": {
    "execution": {
     "iopub.execute_input": "2021-02-04T00:11:06.142252Z",
     "iopub.status.busy": "2021-02-04T00:11:06.141649Z",
     "iopub.status.idle": "2021-02-04T00:11:06.143737Z",
     "shell.execute_reply": "2021-02-04T00:11:06.144186Z"
    },
    "papermill": {
     "duration": 0.038108,
     "end_time": "2021-02-04T00:11:06.144386",
     "exception": false,
     "start_time": "2021-02-04T00:11:06.106278",
     "status": "completed"
    },
    "tags": []
   },
   "outputs": [],
   "source": [
    "# #hide\n",
    "# g = g[g.group.notna()]"
   ]
  },
  {
   "cell_type": "code",
   "execution_count": 40,
   "id": "determined-closing",
   "metadata": {
    "execution": {
     "iopub.execute_input": "2021-02-04T00:11:06.216594Z",
     "iopub.status.busy": "2021-02-04T00:11:06.215870Z",
     "iopub.status.idle": "2021-02-04T00:11:06.217683Z",
     "shell.execute_reply": "2021-02-04T00:11:06.218285Z"
    },
    "papermill": {
     "duration": 0.041018,
     "end_time": "2021-02-04T00:11:06.218528",
     "exception": false,
     "start_time": "2021-02-04T00:11:06.177510",
     "status": "completed"
    },
    "tags": []
   },
   "outputs": [],
   "source": [
    "# #hide\n",
    "# colors = dict(zip(\n",
    "#     [\"Oceania\", \"Europe\", \"Asia\", \"South America\", \"Middle East\", \"North America\", \"Africa\"],\n",
    "#     [\"#adb0ff\", \"#ffb3ff\", \"#90d595\", \"#e48381\", \"#aafbff\", \"#f7bb5f\", \"#eafb50\"]\n",
    "# ))\n",
    "# group_lk = g.set_index('name')['group'].to_dict()"
   ]
  },
  {
   "cell_type": "code",
   "execution_count": null,
   "id": "gross-drinking",
   "metadata": {
    "papermill": {
     "duration": 0.036765,
     "end_time": "2021-02-04T00:11:06.295251",
     "exception": false,
     "start_time": "2021-02-04T00:11:06.258486",
     "status": "completed"
    },
    "tags": []
   },
   "outputs": [],
   "source": []
  },
  {
   "cell_type": "code",
   "execution_count": 41,
   "id": "subject-macintosh",
   "metadata": {
    "execution": {
     "iopub.execute_input": "2021-02-04T00:11:06.381066Z",
     "iopub.status.busy": "2021-02-04T00:11:06.380380Z",
     "iopub.status.idle": "2021-02-04T00:11:06.383046Z",
     "shell.execute_reply": "2021-02-04T00:11:06.382288Z"
    },
    "papermill": {
     "duration": 0.05027,
     "end_time": "2021-02-04T00:11:06.383187",
     "exception": false,
     "start_time": "2021-02-04T00:11:06.332917",
     "status": "completed"
    },
    "tags": []
   },
   "outputs": [],
   "source": [
    "# #hide\n",
    "# fig, ax = plt.subplots(figsize=(15, 8))\n",
    "\n",
    "# def draw_barchart(current_day):\n",
    "#     dff = g[g['day'].eq(current_day)].sort_values(by='value', ascending=True).tail(10)\n",
    "#     ax.clear()\n",
    "#     ax.barh(dff['name'], dff['value'], color=[colors[group_lk[x]] for x in dff['name']])\n",
    "#     dx = dff['value'].max() / 200\n",
    "    \n",
    "#     for i, (value, name) in enumerate(zip(dff['value'], dff['name'])):\n",
    "#         ax.text(value-dx, i,     name,           size=14, weight=600, ha='right', va='bottom')\n",
    "#         ax.text(value-dx, i-.25, group_lk[name], size=10, color='#444444', ha='right', va='baseline')\n",
    "#         ax.text(value+dx, i,     f'{value:,.0f}',  size=14, ha='left',  va='center')\n",
    "#     ax.text(1, 0.4, current_day, transform=ax.transAxes, color='#777777', size=46, ha='right', weight=800)\n",
    "#     ax.text(0, 1.06, 'Population (thousands)', transform=ax.transAxes, size=12, color='#777777')\n",
    "#     ax.xaxis.set_major_formatter(ticker.StrMethodFormatter('{x:,.0f}'))\n",
    "#     ax.xaxis.set_ticks_position('top')\n",
    "#     ax.tick_params(axis='x', colors='#777777', labelsize=12)\n",
    "#     ax.set_yticks([])\n",
    "#     ax.margins(0, 0.01)\n",
    "#     ax.grid(which='major', axis='x', linestyle='-')\n",
    "#     ax.set_axisbelow(True)\n",
    "    \n",
    "#     ax.text(0, 1.15, 'Coronavirus',\n",
    "#             transform=ax.transAxes, size=24, weight=600, ha='left', va='top')\n",
    "# #     ax.text(1, 0, 'by @pratapvardhan; credit @jburnmurdoch', transform=ax.transAxes, color='#777777', ha='right',\n",
    "# #             bbox=dict(facecolor='white', alpha=0.8, edgecolor='white'))\n",
    "#     plt.box(False)"
   ]
  },
  {
   "cell_type": "code",
   "execution_count": 42,
   "id": "sexual-wages",
   "metadata": {
    "execution": {
     "iopub.execute_input": "2021-02-04T00:11:06.458560Z",
     "iopub.status.busy": "2021-02-04T00:11:06.457964Z",
     "iopub.status.idle": "2021-02-04T00:11:06.459469Z",
     "shell.execute_reply": "2021-02-04T00:11:06.460054Z"
    },
    "papermill": {
     "duration": 0.04271,
     "end_time": "2021-02-04T00:11:06.460179",
     "exception": false,
     "start_time": "2021-02-04T00:11:06.417469",
     "status": "completed"
    },
    "tags": []
   },
   "outputs": [],
   "source": [
    "# #hide_input\n",
    "# fig, ax = plt.subplots(figsize=(15, 8))\n",
    "# animator = animation.FuncAnimation(fig, draw_barchart, frames=range(g.day.values.min(), g.day.values.max()))\n",
    "# HTML(animator.to_jshtml())\n",
    "# # or use animator.to_html5_video() or animator.save() "
   ]
  },
  {
   "cell_type": "code",
   "execution_count": null,
   "id": "australian-container",
   "metadata": {
    "papermill": {
     "duration": 0.033015,
     "end_time": "2021-02-04T00:11:06.528344",
     "exception": false,
     "start_time": "2021-02-04T00:11:06.495329",
     "status": "completed"
    },
    "tags": []
   },
   "outputs": [],
   "source": []
  },
  {
   "cell_type": "code",
   "execution_count": null,
   "id": "mediterranean-pontiac",
   "metadata": {
    "papermill": {
     "duration": 0.035128,
     "end_time": "2021-02-04T00:11:06.600728",
     "exception": false,
     "start_time": "2021-02-04T00:11:06.565600",
     "status": "completed"
    },
    "tags": []
   },
   "outputs": [],
   "source": []
  },
  {
   "cell_type": "code",
   "execution_count": null,
   "id": "aging-legislature",
   "metadata": {
    "papermill": {
     "duration": 0.030343,
     "end_time": "2021-02-04T00:11:06.662507",
     "exception": false,
     "start_time": "2021-02-04T00:11:06.632164",
     "status": "completed"
    },
    "tags": []
   },
   "outputs": [],
   "source": []
  }
 ],
 "metadata": {
  "kernelspec": {
   "display_name": "Python 3",
   "language": "python",
   "name": "python3"
  },
  "language_info": {
   "codemirror_mode": {
    "name": "ipython",
    "version": 3
   },
   "file_extension": ".py",
   "mimetype": "text/x-python",
   "name": "python",
   "nbconvert_exporter": "python",
   "pygments_lexer": "ipython3",
   "version": "3.6.12"
  },
  "papermill": {
   "duration": 7.344732,
   "end_time": "2021-02-04T00:11:07.863116",
   "environment_variables": {},
   "exception": null,
   "input_path": "2020-03-21-covid19exp.ipynb",
   "output_path": "2020-03-21-covid19exp.ipynb",
   "parameters": {},
   "start_time": "2021-02-04T00:11:00.518384",
   "version": "2.0.0"
  }
 },
 "nbformat": 4,
 "nbformat_minor": 5
}