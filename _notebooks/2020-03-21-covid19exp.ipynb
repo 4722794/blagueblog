{
 "cells": [
  {
   "cell_type": "markdown",
   "id": "muslim-click",
   "metadata": {
    "papermill": {
     "duration": 0.034847,
     "end_time": "2021-04-09T12:04:10.927902",
     "exception": false,
     "start_time": "2021-04-09T12:04:10.893055",
     "status": "completed"
    },
    "tags": []
   },
   "source": [
    "# COVID-19 Case Race\n",
    "> A race chart to see rising cases around the world\n",
    "\n",
    "- author: Hargun Oberoi\n",
    "- image: images/covid-overview.png\n",
    "- hide: false\n",
    "- badges: false"
   ]
  },
  {
   "cell_type": "code",
   "execution_count": 1,
   "id": "proof-material",
   "metadata": {
    "execution": {
     "iopub.execute_input": "2021-04-09T12:04:10.996866Z",
     "iopub.status.busy": "2021-04-09T12:04:10.996373Z",
     "iopub.status.idle": "2021-04-09T12:04:11.280813Z",
     "shell.execute_reply": "2021-04-09T12:04:11.280271Z"
    },
    "papermill": {
     "duration": 0.323209,
     "end_time": "2021-04-09T12:04:11.280965",
     "exception": false,
     "start_time": "2021-04-09T12:04:10.957756",
     "status": "completed"
    },
    "tags": []
   },
   "outputs": [],
   "source": [
    "#hide\n",
    "import numpy as np\n",
    "import pandas as pd\n",
    "from jinja2 import Template\n",
    "from IPython.display import HTML"
   ]
  },
  {
   "cell_type": "code",
   "execution_count": 2,
   "id": "developed-terminology",
   "metadata": {
    "execution": {
     "iopub.execute_input": "2021-04-09T12:04:11.346257Z",
     "iopub.status.busy": "2021-04-09T12:04:11.345667Z",
     "iopub.status.idle": "2021-04-09T12:04:11.347769Z",
     "shell.execute_reply": "2021-04-09T12:04:11.347287Z"
    },
    "papermill": {
     "duration": 0.035422,
     "end_time": "2021-04-09T12:04:11.347899",
     "exception": false,
     "start_time": "2021-04-09T12:04:11.312477",
     "status": "completed"
    },
    "tags": []
   },
   "outputs": [],
   "source": [
    "#hide\n",
    "\n",
    "# FETCH\n",
    "base_url = 'https://raw.githubusercontent.com/pratapvardhan/notebooks/master/covid19/'\n",
    "paths = {\n",
    "    'mapping': base_url + 'mapping_countries.csv',\n",
    "    'overview': base_url + 'overview.tpl'\n",
    "}"
   ]
  },
  {
   "cell_type": "code",
   "execution_count": 3,
   "id": "dynamic-saver",
   "metadata": {
    "execution": {
     "iopub.execute_input": "2021-04-09T12:04:11.414921Z",
     "iopub.status.busy": "2021-04-09T12:04:11.414436Z",
     "iopub.status.idle": "2021-04-09T12:04:11.416968Z",
     "shell.execute_reply": "2021-04-09T12:04:11.417340Z"
    },
    "papermill": {
     "duration": 0.040184,
     "end_time": "2021-04-09T12:04:11.417451",
     "exception": false,
     "start_time": "2021-04-09T12:04:11.377267",
     "status": "completed"
    },
    "tags": []
   },
   "outputs": [
    {
     "data": {
      "text/plain": [
       "'https://raw.githubusercontent.com/pratapvardhan/notebooks/master/covid19/mapping_countries.csv'"
      ]
     },
     "execution_count": 3,
     "metadata": {},
     "output_type": "execute_result"
    }
   ],
   "source": [
    "#hide\n",
    "paths['mapping']"
   ]
  },
  {
   "cell_type": "code",
   "execution_count": 4,
   "id": "urban-software",
   "metadata": {
    "execution": {
     "iopub.execute_input": "2021-04-09T12:04:11.481152Z",
     "iopub.status.busy": "2021-04-09T12:04:11.480604Z",
     "iopub.status.idle": "2021-04-09T12:04:11.482541Z",
     "shell.execute_reply": "2021-04-09T12:04:11.482130Z"
    },
    "papermill": {
     "duration": 0.035717,
     "end_time": "2021-04-09T12:04:11.482635",
     "exception": false,
     "start_time": "2021-04-09T12:04:11.446918",
     "status": "completed"
    },
    "tags": []
   },
   "outputs": [],
   "source": [
    "#hide\n",
    "def get_mappings(url):\n",
    "    df = pd.read_csv(url)\n",
    "    return {\n",
    "        'df': df,\n",
    "        'replace.country': dict(df.dropna(subset=['Name']).set_index('Country')['Name']),\n",
    "        'map.continent': dict(df.set_index('Name')['Continent'])\n",
    "    }"
   ]
  },
  {
   "cell_type": "code",
   "execution_count": 5,
   "id": "intimate-machinery",
   "metadata": {
    "execution": {
     "iopub.execute_input": "2021-04-09T12:04:11.545578Z",
     "iopub.status.busy": "2021-04-09T12:04:11.545096Z",
     "iopub.status.idle": "2021-04-09T12:04:11.572253Z",
     "shell.execute_reply": "2021-04-09T12:04:11.571853Z"
    },
    "papermill": {
     "duration": 0.060412,
     "end_time": "2021-04-09T12:04:11.572349",
     "exception": false,
     "start_time": "2021-04-09T12:04:11.511937",
     "status": "completed"
    },
    "tags": []
   },
   "outputs": [],
   "source": [
    "#hide\n",
    "mapping = get_mappings(paths['mapping'])"
   ]
  },
  {
   "cell_type": "code",
   "execution_count": 6,
   "id": "certified-tactics",
   "metadata": {
    "execution": {
     "iopub.execute_input": "2021-04-09T12:04:11.635313Z",
     "iopub.status.busy": "2021-04-09T12:04:11.634825Z",
     "iopub.status.idle": "2021-04-09T12:04:11.636870Z",
     "shell.execute_reply": "2021-04-09T12:04:11.636483Z"
    },
    "papermill": {
     "duration": 0.035144,
     "end_time": "2021-04-09T12:04:11.636966",
     "exception": false,
     "start_time": "2021-04-09T12:04:11.601822",
     "status": "completed"
    },
    "tags": []
   },
   "outputs": [],
   "source": [
    "#hide\n",
    "def get_template(path):\n",
    "    from urllib.parse import urlparse\n",
    "    if bool(urlparse(path).netloc):\n",
    "        from urllib.request import urlopen\n",
    "        return urlopen(path).read().decode('utf8')\n",
    "    return open(path).read()"
   ]
  },
  {
   "cell_type": "code",
   "execution_count": 7,
   "id": "realistic-blast",
   "metadata": {
    "execution": {
     "iopub.execute_input": "2021-04-09T12:04:11.699529Z",
     "iopub.status.busy": "2021-04-09T12:04:11.699043Z",
     "iopub.status.idle": "2021-04-09T12:04:11.700744Z",
     "shell.execute_reply": "2021-04-09T12:04:11.701207Z"
    },
    "papermill": {
     "duration": 0.035151,
     "end_time": "2021-04-09T12:04:11.701313",
     "exception": false,
     "start_time": "2021-04-09T12:04:11.666162",
     "status": "completed"
    },
    "tags": []
   },
   "outputs": [],
   "source": [
    "#hide\n",
    "def get_frame(name):\n",
    "    url = (\n",
    "        'https://raw.githubusercontent.com/CSSEGISandData/COVID-19/master/csse_covid_19_data/'\n",
    "        f'csse_covid_19_time_series/time_series_covid19_{name}_global.csv')\n",
    "    df = pd.read_csv(url)\n",
    "    # rename countries\n",
    "    df['Country/Region'] = df['Country/Region'].replace(mapping['replace.country'])\n",
    "    return df"
   ]
  },
  {
   "cell_type": "code",
   "execution_count": 8,
   "id": "affiliated-characterization",
   "metadata": {
    "execution": {
     "iopub.execute_input": "2021-04-09T12:04:11.765087Z",
     "iopub.status.busy": "2021-04-09T12:04:11.764603Z",
     "iopub.status.idle": "2021-04-09T12:04:11.766710Z",
     "shell.execute_reply": "2021-04-09T12:04:11.766299Z"
    },
    "papermill": {
     "duration": 0.036206,
     "end_time": "2021-04-09T12:04:11.766803",
     "exception": false,
     "start_time": "2021-04-09T12:04:11.730597",
     "status": "completed"
    },
    "tags": []
   },
   "outputs": [],
   "source": [
    "#hide\n",
    "def get_dates(df):\n",
    "    dt_cols = df.columns[~df.columns.isin(['Province/State', 'Country/Region', 'Lat', 'Long'])]\n",
    "    LAST_DATE_I = -1\n",
    "    # sometimes last column may be empty, then go backwards\n",
    "    for i in range(-1, -len(dt_cols), -1):\n",
    "        if not df[dt_cols[i]].fillna(0).eq(0).all():\n",
    "            LAST_DATE_I = i\n",
    "            break\n",
    "    return LAST_DATE_I, dt_cols"
   ]
  },
  {
   "cell_type": "code",
   "execution_count": 9,
   "id": "recent-optimization",
   "metadata": {
    "execution": {
     "iopub.execute_input": "2021-04-09T12:04:11.829181Z",
     "iopub.status.busy": "2021-04-09T12:04:11.828698Z",
     "iopub.status.idle": "2021-04-09T12:04:12.057842Z",
     "shell.execute_reply": "2021-04-09T12:04:12.058267Z"
    },
    "papermill": {
     "duration": 0.262411,
     "end_time": "2021-04-09T12:04:12.058396",
     "exception": false,
     "start_time": "2021-04-09T12:04:11.795985",
     "status": "completed"
    },
    "tags": []
   },
   "outputs": [],
   "source": [
    "#hide\n",
    "COL_REGION = 'Country/Region'\n",
    "# Confirmed, Recovered, Deaths\n",
    "df = get_frame('confirmed')\n",
    "# dft_: timeseries, dfc_: today country agg\n",
    "dft_cases = df\n",
    "dft_deaths = get_frame('deaths')\n",
    "dft_recovered = get_frame('recovered')\n",
    "LAST_DATE_I, dt_cols = get_dates(df)"
   ]
  },
  {
   "cell_type": "code",
   "execution_count": 10,
   "id": "absolute-copper",
   "metadata": {
    "execution": {
     "iopub.execute_input": "2021-04-09T12:04:12.121944Z",
     "iopub.status.busy": "2021-04-09T12:04:12.121372Z",
     "iopub.status.idle": "2021-04-09T12:04:12.125299Z",
     "shell.execute_reply": "2021-04-09T12:04:12.125729Z"
    },
    "papermill": {
     "duration": 0.037817,
     "end_time": "2021-04-09T12:04:12.125859",
     "exception": false,
     "start_time": "2021-04-09T12:04:12.088042",
     "status": "completed"
    },
    "tags": []
   },
   "outputs": [],
   "source": [
    "#hide\n",
    "LAST_DATE_I, dt_cols = get_dates(df)\n",
    "dt_today =dt_cols[LAST_DATE_I]\n",
    "# dt_5day = dt_cols[LAST_DATE_I - 5]\n",
    "dt_yday = dt_cols[LAST_DATE_I - 1]"
   ]
  },
  {
   "cell_type": "code",
   "execution_count": 11,
   "id": "restricted-sheriff",
   "metadata": {
    "execution": {
     "iopub.execute_input": "2021-04-09T12:04:12.193866Z",
     "iopub.status.busy": "2021-04-09T12:04:12.189569Z",
     "iopub.status.idle": "2021-04-09T12:04:12.196044Z",
     "shell.execute_reply": "2021-04-09T12:04:12.195604Z"
    },
    "papermill": {
     "duration": 0.04046,
     "end_time": "2021-04-09T12:04:12.196142",
     "exception": false,
     "start_time": "2021-04-09T12:04:12.155682",
     "status": "completed"
    },
    "tags": []
   },
   "outputs": [],
   "source": [
    "#hide\n",
    "dfc_cases = dft_cases.groupby(COL_REGION)[dt_today].sum()\n",
    "dfc_deaths = dft_deaths.groupby(COL_REGION)[dt_today].sum()\n",
    "# dfp_cases = dft_cases.groupby(COL_REGION)[dt_5day].sum()\n",
    "# dfp_deaths = dft_deaths.groupby(COL_REGION)[dt_5day].sum()\n",
    "dfp_cases = dft_cases.groupby(COL_REGION)[dt_yday].sum()\n",
    "dfp_deaths = dft_deaths.groupby(COL_REGION)[dt_yday].sum()"
   ]
  },
  {
   "cell_type": "code",
   "execution_count": 12,
   "id": "deluxe-hepatitis",
   "metadata": {
    "execution": {
     "iopub.execute_input": "2021-04-09T12:04:12.259987Z",
     "iopub.status.busy": "2021-04-09T12:04:12.259483Z",
     "iopub.status.idle": "2021-04-09T12:04:12.263972Z",
     "shell.execute_reply": "2021-04-09T12:04:12.263555Z"
    },
    "papermill": {
     "duration": 0.038546,
     "end_time": "2021-04-09T12:04:12.264073",
     "exception": false,
     "start_time": "2021-04-09T12:04:12.225527",
     "status": "completed"
    },
    "tags": []
   },
   "outputs": [],
   "source": [
    "#hide\n",
    "df_table = (pd.DataFrame(dict(Cases = dfc_cases, Deaths = dfc_deaths, PCases = dfp_cases, PDeaths = dfp_deaths))\n",
    "            .sort_values(by = ['Cases','Deaths'], ascending = [False, False])\n",
    "            .reset_index())"
   ]
  },
  {
   "cell_type": "code",
   "execution_count": 13,
   "id": "educational-chancellor",
   "metadata": {
    "execution": {
     "iopub.execute_input": "2021-04-09T12:04:12.338707Z",
     "iopub.status.busy": "2021-04-09T12:04:12.338213Z",
     "iopub.status.idle": "2021-04-09T12:04:12.345168Z",
     "shell.execute_reply": "2021-04-09T12:04:12.345624Z"
    },
    "papermill": {
     "duration": 0.052445,
     "end_time": "2021-04-09T12:04:12.345735",
     "exception": false,
     "start_time": "2021-04-09T12:04:12.293290",
     "status": "completed"
    },
    "tags": []
   },
   "outputs": [
    {
     "data": {
      "text/html": [
       "<div>\n",
       "<style scoped>\n",
       "    .dataframe tbody tr th:only-of-type {\n",
       "        vertical-align: middle;\n",
       "    }\n",
       "\n",
       "    .dataframe tbody tr th {\n",
       "        vertical-align: top;\n",
       "    }\n",
       "\n",
       "    .dataframe thead th {\n",
       "        text-align: right;\n",
       "    }\n",
       "</style>\n",
       "<table border=\"1\" class=\"dataframe\">\n",
       "  <thead>\n",
       "    <tr style=\"text-align: right;\">\n",
       "      <th></th>\n",
       "      <th>Country/Region</th>\n",
       "      <th>Cases</th>\n",
       "      <th>Deaths</th>\n",
       "      <th>PCases</th>\n",
       "      <th>PDeaths</th>\n",
       "      <th>Cases (+)</th>\n",
       "      <th>Deaths (+)</th>\n",
       "      <th>Fatality Rate</th>\n",
       "      <th>Continent</th>\n",
       "    </tr>\n",
       "  </thead>\n",
       "  <tbody>\n",
       "    <tr>\n",
       "      <th>0</th>\n",
       "      <td>US</td>\n",
       "      <td>31002264</td>\n",
       "      <td>560116</td>\n",
       "      <td>30922386</td>\n",
       "      <td>559116</td>\n",
       "      <td>79878</td>\n",
       "      <td>1000</td>\n",
       "      <td>1.81</td>\n",
       "      <td>North America</td>\n",
       "    </tr>\n",
       "    <tr>\n",
       "      <th>1</th>\n",
       "      <td>Brazil</td>\n",
       "      <td>13279857</td>\n",
       "      <td>345025</td>\n",
       "      <td>13193205</td>\n",
       "      <td>340776</td>\n",
       "      <td>86652</td>\n",
       "      <td>4249</td>\n",
       "      <td>2.60</td>\n",
       "      <td>South America</td>\n",
       "    </tr>\n",
       "    <tr>\n",
       "      <th>2</th>\n",
       "      <td>India</td>\n",
       "      <td>13060542</td>\n",
       "      <td>167642</td>\n",
       "      <td>12928574</td>\n",
       "      <td>166862</td>\n",
       "      <td>131968</td>\n",
       "      <td>780</td>\n",
       "      <td>1.28</td>\n",
       "      <td>Asia</td>\n",
       "    </tr>\n",
       "    <tr>\n",
       "      <th>3</th>\n",
       "      <td>France</td>\n",
       "      <td>5000155</td>\n",
       "      <td>98196</td>\n",
       "      <td>4902985</td>\n",
       "      <td>97444</td>\n",
       "      <td>97170</td>\n",
       "      <td>752</td>\n",
       "      <td>1.96</td>\n",
       "      <td>Europe</td>\n",
       "    </tr>\n",
       "    <tr>\n",
       "      <th>4</th>\n",
       "      <td>Russia</td>\n",
       "      <td>4563026</td>\n",
       "      <td>100158</td>\n",
       "      <td>4554481</td>\n",
       "      <td>99800</td>\n",
       "      <td>8545</td>\n",
       "      <td>358</td>\n",
       "      <td>2.19</td>\n",
       "      <td>Europe</td>\n",
       "    </tr>\n",
       "  </tbody>\n",
       "</table>\n",
       "</div>"
      ],
      "text/plain": [
       "  Country/Region     Cases  Deaths    PCases  PDeaths  Cases (+)  Deaths (+)  \\\n",
       "0             US  31002264  560116  30922386   559116      79878        1000   \n",
       "1         Brazil  13279857  345025  13193205   340776      86652        4249   \n",
       "2          India  13060542  167642  12928574   166862     131968         780   \n",
       "3         France   5000155   98196   4902985    97444      97170         752   \n",
       "4         Russia   4563026  100158   4554481    99800       8545         358   \n",
       "\n",
       "   Fatality Rate      Continent  \n",
       "0           1.81  North America  \n",
       "1           2.60  South America  \n",
       "2           1.28           Asia  \n",
       "3           1.96         Europe  \n",
       "4           2.19         Europe  "
      ]
     },
     "execution_count": 13,
     "metadata": {},
     "output_type": "execute_result"
    }
   ],
   "source": [
    "#hide\n",
    "for c in 'Cases, Deaths'.split(', '):\n",
    "    df_table[f'{c} (+)'] = (df_table[c] - df_table[f'P{c}']).clip(0)\n",
    "    #Clip ça veut dire, les chiffres negatif sont interdit\n",
    "df_table['Fatality Rate'] = (100* df_table['Deaths']/ df_table['Cases']).round(2)\n",
    "df_table['Continent'] = df_table['Country/Region'].map(mapping['map.continent'])\n",
    "df_table.head(5)"
   ]
  },
  {
   "cell_type": "code",
   "execution_count": 14,
   "id": "aboriginal-bulgaria",
   "metadata": {
    "execution": {
     "iopub.execute_input": "2021-04-09T12:04:12.409252Z",
     "iopub.status.busy": "2021-04-09T12:04:12.408768Z",
     "iopub.status.idle": "2021-04-09T12:04:12.411501Z",
     "shell.execute_reply": "2021-04-09T12:04:12.411984Z"
    },
    "papermill": {
     "duration": 0.036527,
     "end_time": "2021-04-09T12:04:12.412091",
     "exception": false,
     "start_time": "2021-04-09T12:04:12.375564",
     "status": "completed"
    },
    "tags": []
   },
   "outputs": [],
   "source": [
    "#hide\n",
    "#delete problematic countries from table\n",
    "df_table = df_table[~df_table['Country/Region'].isin(['Cape Verde', 'Cruise Ship', 'Kosovo'])]"
   ]
  },
  {
   "cell_type": "code",
   "execution_count": 15,
   "id": "fantastic-effect",
   "metadata": {
    "execution": {
     "iopub.execute_input": "2021-04-09T12:04:12.478756Z",
     "iopub.status.busy": "2021-04-09T12:04:12.478271Z",
     "iopub.status.idle": "2021-04-09T12:04:12.494112Z",
     "shell.execute_reply": "2021-04-09T12:04:12.494486Z"
    },
    "papermill": {
     "duration": 0.052765,
     "end_time": "2021-04-09T12:04:12.494593",
     "exception": false,
     "start_time": "2021-04-09T12:04:12.441828",
     "status": "completed"
    },
    "tags": []
   },
   "outputs": [
    {
     "data": {
      "text/html": [
       "<div>\n",
       "<style scoped>\n",
       "    .dataframe tbody tr th:only-of-type {\n",
       "        vertical-align: middle;\n",
       "    }\n",
       "\n",
       "    .dataframe tbody tr th {\n",
       "        vertical-align: top;\n",
       "    }\n",
       "\n",
       "    .dataframe thead th {\n",
       "        text-align: right;\n",
       "    }\n",
       "</style>\n",
       "<table border=\"1\" class=\"dataframe\">\n",
       "  <thead>\n",
       "    <tr style=\"text-align: right;\">\n",
       "      <th></th>\n",
       "      <th>Country/Region</th>\n",
       "      <th>Cases</th>\n",
       "      <th>Deaths</th>\n",
       "      <th>PCases</th>\n",
       "      <th>PDeaths</th>\n",
       "      <th>Cases (+)</th>\n",
       "      <th>Deaths (+)</th>\n",
       "      <th>Fatality Rate</th>\n",
       "      <th>Continent</th>\n",
       "    </tr>\n",
       "  </thead>\n",
       "  <tbody>\n",
       "    <tr>\n",
       "      <th>0</th>\n",
       "      <td>US</td>\n",
       "      <td>31002264</td>\n",
       "      <td>560116</td>\n",
       "      <td>30922386</td>\n",
       "      <td>559116</td>\n",
       "      <td>79878</td>\n",
       "      <td>1000</td>\n",
       "      <td>1.8</td>\n",
       "      <td>North America</td>\n",
       "    </tr>\n",
       "    <tr>\n",
       "      <th>1</th>\n",
       "      <td>Brazil</td>\n",
       "      <td>13279857</td>\n",
       "      <td>345025</td>\n",
       "      <td>13193205</td>\n",
       "      <td>340776</td>\n",
       "      <td>86652</td>\n",
       "      <td>4249</td>\n",
       "      <td>2.6</td>\n",
       "      <td>South America</td>\n",
       "    </tr>\n",
       "    <tr>\n",
       "      <th>2</th>\n",
       "      <td>India</td>\n",
       "      <td>13060542</td>\n",
       "      <td>167642</td>\n",
       "      <td>12928574</td>\n",
       "      <td>166862</td>\n",
       "      <td>131968</td>\n",
       "      <td>780</td>\n",
       "      <td>1.3</td>\n",
       "      <td>Asia</td>\n",
       "    </tr>\n",
       "    <tr>\n",
       "      <th>3</th>\n",
       "      <td>France</td>\n",
       "      <td>5000155</td>\n",
       "      <td>98196</td>\n",
       "      <td>4902985</td>\n",
       "      <td>97444</td>\n",
       "      <td>97170</td>\n",
       "      <td>752</td>\n",
       "      <td>2.0</td>\n",
       "      <td>Europe</td>\n",
       "    </tr>\n",
       "    <tr>\n",
       "      <th>4</th>\n",
       "      <td>Russia</td>\n",
       "      <td>4563026</td>\n",
       "      <td>100158</td>\n",
       "      <td>4554481</td>\n",
       "      <td>99800</td>\n",
       "      <td>8545</td>\n",
       "      <td>358</td>\n",
       "      <td>2.2</td>\n",
       "      <td>Europe</td>\n",
       "    </tr>\n",
       "  </tbody>\n",
       "</table>\n",
       "</div>"
      ],
      "text/plain": [
       "  Country/Region     Cases  Deaths    PCases  PDeaths  Cases (+)  Deaths (+)  \\\n",
       "0             US  31002264  560116  30922386   559116      79878        1000   \n",
       "1         Brazil  13279857  345025  13193205   340776      86652        4249   \n",
       "2          India  13060542  167642  12928574   166862     131968         780   \n",
       "3         France   5000155   98196   4902985    97444      97170         752   \n",
       "4         Russia   4563026  100158   4554481    99800       8545         358   \n",
       "\n",
       "   Fatality Rate      Continent  \n",
       "0            1.8  North America  \n",
       "1            2.6  South America  \n",
       "2            1.3           Asia  \n",
       "3            2.0         Europe  \n",
       "4            2.2         Europe  "
      ]
     },
     "execution_count": 15,
     "metadata": {},
     "output_type": "execute_result"
    }
   ],
   "source": [
    "#hide\n",
    "df_table = (pd.DataFrame(dict(Cases=dfc_cases, Deaths=dfc_deaths, PCases=dfp_cases, PDeaths=dfp_deaths))\n",
    "             .sort_values(by=['Cases', 'Deaths'], ascending=[False, False])\n",
    "             .reset_index())\n",
    "df_table.rename(columns={'index': 'Country/Region'}, inplace=True)\n",
    "for c in 'Cases, Deaths'.split(', '):\n",
    "    df_table[f'{c} (+)'] = (df_table[c] - df_table[f'P{c}']).clip(0)  # DATA BUG\n",
    "df_table['Fatality Rate'] = (100 * df_table['Deaths'] / df_table['Cases']).round(1)\n",
    "df_table['Continent'] = df_table['Country/Region'].map(mapping['map.continent'])\n",
    "df_table.head(5)"
   ]
  },
  {
   "cell_type": "code",
   "execution_count": 16,
   "id": "fewer-occasion",
   "metadata": {
    "execution": {
     "iopub.execute_input": "2021-04-09T12:04:12.558754Z",
     "iopub.status.busy": "2021-04-09T12:04:12.558265Z",
     "iopub.status.idle": "2021-04-09T12:04:12.561073Z",
     "shell.execute_reply": "2021-04-09T12:04:12.561498Z"
    },
    "papermill": {
     "duration": 0.036809,
     "end_time": "2021-04-09T12:04:12.561602",
     "exception": false,
     "start_time": "2021-04-09T12:04:12.524793",
     "status": "completed"
    },
    "tags": []
   },
   "outputs": [],
   "source": [
    "#hide\n",
    "#delete problematic countries from table\n",
    "df_table = df_table[~df_table['Country/Region'].isin(['Cape Verde', 'Cruise Ship', 'Kosovo'])]"
   ]
  },
  {
   "cell_type": "code",
   "execution_count": 17,
   "id": "related-center",
   "metadata": {
    "execution": {
     "iopub.execute_input": "2021-04-09T12:04:12.637215Z",
     "iopub.status.busy": "2021-04-09T12:04:12.636716Z",
     "iopub.status.idle": "2021-04-09T12:04:12.638791Z",
     "shell.execute_reply": "2021-04-09T12:04:12.638325Z"
    },
    "papermill": {
     "duration": 0.047219,
     "end_time": "2021-04-09T12:04:12.638884",
     "exception": false,
     "start_time": "2021-04-09T12:04:12.591665",
     "status": "completed"
    },
    "tags": []
   },
   "outputs": [],
   "source": [
    "#hide\n",
    "metrics = [df_table.columns[index] for index in [1,2,5,6]]\n",
    "# s_china = df_table[df_table['Country/Region'].eq('China')][metrics].sum().add_prefix('China ')\n",
    "s_us = df_table[df_table['Country/Region'].eq('US')][metrics].sum().add_prefix('US ')\n",
    "s_eu = df_table[df_table['Continent'].eq('Europe')][metrics].sum().add_prefix('EU ')\n",
    "s_ind = df_table[df_table['Country/Region'].eq('India')][metrics].sum().add_prefix('India ')\n",
    "summary = {'updated': pd.to_datetime(dt_today), 'since': pd.to_datetime(dt_yday)}\n",
    "summary = {'updated': pd.to_datetime(dt_today), 'since': pd.to_datetime(dt_yday)}\n",
    "summary = {**summary, **df_table[metrics].sum(), **s_ind, **s_us, **s_eu}"
   ]
  },
  {
   "cell_type": "code",
   "execution_count": 18,
   "id": "engaging-syndrome",
   "metadata": {
    "execution": {
     "iopub.execute_input": "2021-04-09T12:04:12.703414Z",
     "iopub.status.busy": "2021-04-09T12:04:12.702928Z",
     "iopub.status.idle": "2021-04-09T12:04:12.713308Z",
     "shell.execute_reply": "2021-04-09T12:04:12.713680Z"
    },
    "papermill": {
     "duration": 0.044609,
     "end_time": "2021-04-09T12:04:12.713788",
     "exception": false,
     "start_time": "2021-04-09T12:04:12.669179",
     "status": "completed"
    },
    "tags": []
   },
   "outputs": [],
   "source": [
    "#hide\n",
    "dft_ct_new_cases = dft_cases.groupby(COL_REGION)[dt_cols].sum().diff(axis=1).fillna(0).astype(int)"
   ]
  },
  {
   "cell_type": "code",
   "execution_count": 19,
   "id": "neutral-assignment",
   "metadata": {
    "execution": {
     "iopub.execute_input": "2021-04-09T12:04:12.778301Z",
     "iopub.status.busy": "2021-04-09T12:04:12.777814Z",
     "iopub.status.idle": "2021-04-09T12:04:12.779478Z",
     "shell.execute_reply": "2021-04-09T12:04:12.779865Z"
    },
    "papermill": {
     "duration": 0.036058,
     "end_time": "2021-04-09T12:04:12.779975",
     "exception": false,
     "start_time": "2021-04-09T12:04:12.743917",
     "status": "completed"
    },
    "tags": []
   },
   "outputs": [],
   "source": [
    "#hide\n",
    "everydaycases = dft_ct_new_cases.cumsum(axis=1)"
   ]
  },
  {
   "cell_type": "code",
   "execution_count": 20,
   "id": "parliamentary-calgary",
   "metadata": {
    "execution": {
     "iopub.execute_input": "2021-04-09T12:04:12.844178Z",
     "iopub.status.busy": "2021-04-09T12:04:12.843661Z",
     "iopub.status.idle": "2021-04-09T12:04:13.302280Z",
     "shell.execute_reply": "2021-04-09T12:04:13.301772Z"
    },
    "papermill": {
     "duration": 0.492253,
     "end_time": "2021-04-09T12:04:13.302415",
     "exception": false,
     "start_time": "2021-04-09T12:04:12.810162",
     "status": "completed"
    },
    "tags": []
   },
   "outputs": [],
   "source": [
    "#hide\n",
    "import pandas as pd\n",
    "import matplotlib.pyplot as plt\n",
    "import matplotlib.ticker as ticker\n",
    "import matplotlib.animation as animation\n",
    "from IPython.display import HTML"
   ]
  },
  {
   "cell_type": "code",
   "execution_count": 21,
   "id": "lasting-extraction",
   "metadata": {
    "execution": {
     "iopub.execute_input": "2021-04-09T12:04:13.367943Z",
     "iopub.status.busy": "2021-04-09T12:04:13.367434Z",
     "iopub.status.idle": "2021-04-09T12:04:13.373008Z",
     "shell.execute_reply": "2021-04-09T12:04:13.373387Z"
    },
    "papermill": {
     "duration": 0.040571,
     "end_time": "2021-04-09T12:04:13.373510",
     "exception": false,
     "start_time": "2021-04-09T12:04:13.332939",
     "status": "completed"
    },
    "tags": []
   },
   "outputs": [],
   "source": [
    "#hide\n",
    "t = everydaycases.stack()"
   ]
  },
  {
   "cell_type": "code",
   "execution_count": 22,
   "id": "premier-sleeve",
   "metadata": {
    "execution": {
     "iopub.execute_input": "2021-04-09T12:04:13.437431Z",
     "iopub.status.busy": "2021-04-09T12:04:13.436943Z",
     "iopub.status.idle": "2021-04-09T12:04:13.444212Z",
     "shell.execute_reply": "2021-04-09T12:04:13.444681Z"
    },
    "papermill": {
     "duration": 0.041047,
     "end_time": "2021-04-09T12:04:13.444789",
     "exception": false,
     "start_time": "2021-04-09T12:04:13.403742",
     "status": "completed"
    },
    "tags": []
   },
   "outputs": [],
   "source": [
    "#hide\n",
    "g = t.reset_index(['Country/Region'])"
   ]
  },
  {
   "cell_type": "code",
   "execution_count": 23,
   "id": "distributed-pittsburgh",
   "metadata": {
    "execution": {
     "iopub.execute_input": "2021-04-09T12:04:13.507810Z",
     "iopub.status.busy": "2021-04-09T12:04:13.507327Z",
     "iopub.status.idle": "2021-04-09T12:04:13.509154Z",
     "shell.execute_reply": "2021-04-09T12:04:13.509617Z"
    },
    "papermill": {
     "duration": 0.034929,
     "end_time": "2021-04-09T12:04:13.509723",
     "exception": false,
     "start_time": "2021-04-09T12:04:13.474794",
     "status": "completed"
    },
    "tags": []
   },
   "outputs": [],
   "source": [
    "#hide\n",
    "g.index.name = 'date'"
   ]
  },
  {
   "cell_type": "code",
   "execution_count": 24,
   "id": "naked-donor",
   "metadata": {
    "execution": {
     "iopub.execute_input": "2021-04-09T12:04:13.572614Z",
     "iopub.status.busy": "2021-04-09T12:04:13.572125Z",
     "iopub.status.idle": "2021-04-09T12:04:13.574246Z",
     "shell.execute_reply": "2021-04-09T12:04:13.573836Z"
    },
    "papermill": {
     "duration": 0.034535,
     "end_time": "2021-04-09T12:04:13.574337",
     "exception": false,
     "start_time": "2021-04-09T12:04:13.539802",
     "status": "completed"
    },
    "tags": []
   },
   "outputs": [],
   "source": [
    "# #hide\n",
    "# g = g.reset_index(['date'])"
   ]
  },
  {
   "cell_type": "code",
   "execution_count": 25,
   "id": "incomplete-mustang",
   "metadata": {
    "execution": {
     "iopub.execute_input": "2021-04-09T12:04:13.637425Z",
     "iopub.status.busy": "2021-04-09T12:04:13.636938Z",
     "iopub.status.idle": "2021-04-09T12:04:13.639005Z",
     "shell.execute_reply": "2021-04-09T12:04:13.638596Z"
    },
    "papermill": {
     "duration": 0.034656,
     "end_time": "2021-04-09T12:04:13.639097",
     "exception": false,
     "start_time": "2021-04-09T12:04:13.604441",
     "status": "completed"
    },
    "tags": []
   },
   "outputs": [],
   "source": [
    "#hide\n",
    "# g.head()"
   ]
  },
  {
   "cell_type": "code",
   "execution_count": 26,
   "id": "specific-kruger",
   "metadata": {
    "execution": {
     "iopub.execute_input": "2021-04-09T12:04:13.702257Z",
     "iopub.status.busy": "2021-04-09T12:04:13.701698Z",
     "iopub.status.idle": "2021-04-09T12:04:13.703757Z",
     "shell.execute_reply": "2021-04-09T12:04:13.703311Z"
    },
    "papermill": {
     "duration": 0.034607,
     "end_time": "2021-04-09T12:04:13.703885",
     "exception": false,
     "start_time": "2021-04-09T12:04:13.669278",
     "status": "completed"
    },
    "tags": []
   },
   "outputs": [],
   "source": [
    "#hide\n",
    "# g.columns = ['date','country','cases']"
   ]
  },
  {
   "cell_type": "code",
   "execution_count": 27,
   "id": "tender-conversion",
   "metadata": {
    "execution": {
     "iopub.execute_input": "2021-04-09T12:04:13.767257Z",
     "iopub.status.busy": "2021-04-09T12:04:13.766774Z",
     "iopub.status.idle": "2021-04-09T12:04:13.768543Z",
     "shell.execute_reply": "2021-04-09T12:04:13.768997Z"
    },
    "papermill": {
     "duration": 0.034671,
     "end_time": "2021-04-09T12:04:13.769101",
     "exception": false,
     "start_time": "2021-04-09T12:04:13.734430",
     "status": "completed"
    },
    "tags": []
   },
   "outputs": [],
   "source": [
    "#hide\n",
    "# g['continent'] = g.country"
   ]
  },
  {
   "cell_type": "code",
   "execution_count": 28,
   "id": "substantial-wilderness",
   "metadata": {
    "execution": {
     "iopub.execute_input": "2021-04-09T12:04:13.832108Z",
     "iopub.status.busy": "2021-04-09T12:04:13.831597Z",
     "iopub.status.idle": "2021-04-09T12:04:13.833412Z",
     "shell.execute_reply": "2021-04-09T12:04:13.833784Z"
    },
    "papermill": {
     "duration": 0.034636,
     "end_time": "2021-04-09T12:04:13.833889",
     "exception": false,
     "start_time": "2021-04-09T12:04:13.799253",
     "status": "completed"
    },
    "tags": []
   },
   "outputs": [],
   "source": [
    "#hide\n",
    "# cols = list(g.columns.values)"
   ]
  },
  {
   "cell_type": "code",
   "execution_count": 29,
   "id": "solved-farming",
   "metadata": {
    "execution": {
     "iopub.execute_input": "2021-04-09T12:04:13.896760Z",
     "iopub.status.busy": "2021-04-09T12:04:13.896277Z",
     "iopub.status.idle": "2021-04-09T12:04:13.897946Z",
     "shell.execute_reply": "2021-04-09T12:04:13.898317Z"
    },
    "papermill": {
     "duration": 0.03451,
     "end_time": "2021-04-09T12:04:13.898423",
     "exception": false,
     "start_time": "2021-04-09T12:04:13.863913",
     "status": "completed"
    },
    "tags": []
   },
   "outputs": [],
   "source": [
    "#hide\n",
    "# cols.insert(0, cols.pop())"
   ]
  },
  {
   "cell_type": "code",
   "execution_count": 30,
   "id": "executed-adoption",
   "metadata": {
    "execution": {
     "iopub.execute_input": "2021-04-09T12:04:13.961567Z",
     "iopub.status.busy": "2021-04-09T12:04:13.961085Z",
     "iopub.status.idle": "2021-04-09T12:04:13.962753Z",
     "shell.execute_reply": "2021-04-09T12:04:13.963124Z"
    },
    "papermill": {
     "duration": 0.034581,
     "end_time": "2021-04-09T12:04:13.963230",
     "exception": false,
     "start_time": "2021-04-09T12:04:13.928649",
     "status": "completed"
    },
    "tags": []
   },
   "outputs": [],
   "source": [
    "#hide\n",
    "# g = g[cols]"
   ]
  },
  {
   "cell_type": "code",
   "execution_count": 31,
   "id": "subject-dublin",
   "metadata": {
    "execution": {
     "iopub.execute_input": "2021-04-09T12:04:14.026123Z",
     "iopub.status.busy": "2021-04-09T12:04:14.025638Z",
     "iopub.status.idle": "2021-04-09T12:04:14.027398Z",
     "shell.execute_reply": "2021-04-09T12:04:14.027814Z"
    },
    "papermill": {
     "duration": 0.034688,
     "end_time": "2021-04-09T12:04:14.027934",
     "exception": false,
     "start_time": "2021-04-09T12:04:13.993246",
     "status": "completed"
    },
    "tags": []
   },
   "outputs": [],
   "source": [
    "#hide\n",
    "# g['continent'] = g['continent'].map(mapping['map.continent'])"
   ]
  },
  {
   "cell_type": "code",
   "execution_count": 32,
   "id": "freelance-scout",
   "metadata": {
    "execution": {
     "iopub.execute_input": "2021-04-09T12:04:14.091018Z",
     "iopub.status.busy": "2021-04-09T12:04:14.090465Z",
     "iopub.status.idle": "2021-04-09T12:04:14.092032Z",
     "shell.execute_reply": "2021-04-09T12:04:14.092486Z"
    },
    "papermill": {
     "duration": 0.034491,
     "end_time": "2021-04-09T12:04:14.092590",
     "exception": false,
     "start_time": "2021-04-09T12:04:14.058099",
     "status": "completed"
    },
    "tags": []
   },
   "outputs": [],
   "source": [
    "#hide\n",
    "# g.head()"
   ]
  },
  {
   "cell_type": "code",
   "execution_count": 33,
   "id": "limited-engine",
   "metadata": {
    "execution": {
     "iopub.execute_input": "2021-04-09T12:04:14.155585Z",
     "iopub.status.busy": "2021-04-09T12:04:14.155105Z",
     "iopub.status.idle": "2021-04-09T12:04:14.156872Z",
     "shell.execute_reply": "2021-04-09T12:04:14.157325Z"
    },
    "papermill": {
     "duration": 0.034813,
     "end_time": "2021-04-09T12:04:14.157430",
     "exception": false,
     "start_time": "2021-04-09T12:04:14.122617",
     "status": "completed"
    },
    "tags": []
   },
   "outputs": [],
   "source": [
    "# hide\n",
    "# g['date'] = g['date'].astype('datetime64[ns]')"
   ]
  },
  {
   "cell_type": "code",
   "execution_count": 34,
   "id": "sophisticated-supervisor",
   "metadata": {
    "execution": {
     "iopub.execute_input": "2021-04-09T12:04:14.220415Z",
     "iopub.status.busy": "2021-04-09T12:04:14.219926Z",
     "iopub.status.idle": "2021-04-09T12:04:14.222020Z",
     "shell.execute_reply": "2021-04-09T12:04:14.221612Z"
    },
    "papermill": {
     "duration": 0.034523,
     "end_time": "2021-04-09T12:04:14.222110",
     "exception": false,
     "start_time": "2021-04-09T12:04:14.187587",
     "status": "completed"
    },
    "tags": []
   },
   "outputs": [],
   "source": [
    "#hide\n",
    "# g['date'] = g.date.dt.dayofyear"
   ]
  },
  {
   "cell_type": "code",
   "execution_count": 35,
   "id": "inside-dubai",
   "metadata": {
    "execution": {
     "iopub.execute_input": "2021-04-09T12:04:14.285095Z",
     "iopub.status.busy": "2021-04-09T12:04:14.284539Z",
     "iopub.status.idle": "2021-04-09T12:04:14.286461Z",
     "shell.execute_reply": "2021-04-09T12:04:14.286055Z"
    },
    "papermill": {
     "duration": 0.034379,
     "end_time": "2021-04-09T12:04:14.286552",
     "exception": false,
     "start_time": "2021-04-09T12:04:14.252173",
     "status": "completed"
    },
    "tags": []
   },
   "outputs": [],
   "source": [
    "#hide\n",
    "# g = g.rename(columns= {'continent':'group','country':'name','cases':'value'})"
   ]
  },
  {
   "cell_type": "code",
   "execution_count": 36,
   "id": "fleet-motorcycle",
   "metadata": {
    "execution": {
     "iopub.execute_input": "2021-04-09T12:04:14.349576Z",
     "iopub.status.busy": "2021-04-09T12:04:14.349089Z",
     "iopub.status.idle": "2021-04-09T12:04:14.350862Z",
     "shell.execute_reply": "2021-04-09T12:04:14.351284Z"
    },
    "papermill": {
     "duration": 0.034631,
     "end_time": "2021-04-09T12:04:14.351390",
     "exception": false,
     "start_time": "2021-04-09T12:04:14.316759",
     "status": "completed"
    },
    "tags": []
   },
   "outputs": [],
   "source": [
    "#hide\n",
    "# cols = ['name','group','day','value']"
   ]
  },
  {
   "cell_type": "code",
   "execution_count": 37,
   "id": "continued-sleeping",
   "metadata": {
    "execution": {
     "iopub.execute_input": "2021-04-09T12:04:14.414263Z",
     "iopub.status.busy": "2021-04-09T12:04:14.413782Z",
     "iopub.status.idle": "2021-04-09T12:04:14.415996Z",
     "shell.execute_reply": "2021-04-09T12:04:14.415588Z"
    },
    "papermill": {
     "duration": 0.034688,
     "end_time": "2021-04-09T12:04:14.416091",
     "exception": false,
     "start_time": "2021-04-09T12:04:14.381403",
     "status": "completed"
    },
    "tags": []
   },
   "outputs": [],
   "source": [
    "#hide\n",
    "# g.rename(columns= {'date':'day'},inplace = True)"
   ]
  },
  {
   "cell_type": "code",
   "execution_count": 38,
   "id": "major-fight",
   "metadata": {
    "execution": {
     "iopub.execute_input": "2021-04-09T12:04:14.479140Z",
     "iopub.status.busy": "2021-04-09T12:04:14.478659Z",
     "iopub.status.idle": "2021-04-09T12:04:14.480337Z",
     "shell.execute_reply": "2021-04-09T12:04:14.480728Z"
    },
    "papermill": {
     "duration": 0.034579,
     "end_time": "2021-04-09T12:04:14.480830",
     "exception": false,
     "start_time": "2021-04-09T12:04:14.446251",
     "status": "completed"
    },
    "tags": []
   },
   "outputs": [],
   "source": [
    "#hide\n",
    "# g = g[cols]"
   ]
  },
  {
   "cell_type": "code",
   "execution_count": 39,
   "id": "structured-mobile",
   "metadata": {
    "execution": {
     "iopub.execute_input": "2021-04-09T12:04:14.543651Z",
     "iopub.status.busy": "2021-04-09T12:04:14.543166Z",
     "iopub.status.idle": "2021-04-09T12:04:14.545374Z",
     "shell.execute_reply": "2021-04-09T12:04:14.544984Z"
    },
    "papermill": {
     "duration": 0.034623,
     "end_time": "2021-04-09T12:04:14.545469",
     "exception": false,
     "start_time": "2021-04-09T12:04:14.510846",
     "status": "completed"
    },
    "tags": []
   },
   "outputs": [],
   "source": [
    "# #hide\n",
    "# g = g[g.group.notna()]"
   ]
  },
  {
   "cell_type": "code",
   "execution_count": 40,
   "id": "determined-closing",
   "metadata": {
    "execution": {
     "iopub.execute_input": "2021-04-09T12:04:14.608591Z",
     "iopub.status.busy": "2021-04-09T12:04:14.608098Z",
     "iopub.status.idle": "2021-04-09T12:04:14.610254Z",
     "shell.execute_reply": "2021-04-09T12:04:14.609866Z"
    },
    "papermill": {
     "duration": 0.034789,
     "end_time": "2021-04-09T12:04:14.610347",
     "exception": false,
     "start_time": "2021-04-09T12:04:14.575558",
     "status": "completed"
    },
    "tags": []
   },
   "outputs": [],
   "source": [
    "# #hide\n",
    "# colors = dict(zip(\n",
    "#     [\"Oceania\", \"Europe\", \"Asia\", \"South America\", \"Middle East\", \"North America\", \"Africa\"],\n",
    "#     [\"#adb0ff\", \"#ffb3ff\", \"#90d595\", \"#e48381\", \"#aafbff\", \"#f7bb5f\", \"#eafb50\"]\n",
    "# ))\n",
    "# group_lk = g.set_index('name')['group'].to_dict()"
   ]
  },
  {
   "cell_type": "code",
   "execution_count": null,
   "id": "gross-drinking",
   "metadata": {
    "papermill": {
     "duration": 0.029932,
     "end_time": "2021-04-09T12:04:14.670234",
     "exception": false,
     "start_time": "2021-04-09T12:04:14.640302",
     "status": "completed"
    },
    "tags": []
   },
   "outputs": [],
   "source": []
  },
  {
   "cell_type": "code",
   "execution_count": 41,
   "id": "subject-macintosh",
   "metadata": {
    "execution": {
     "iopub.execute_input": "2021-04-09T12:04:14.733877Z",
     "iopub.status.busy": "2021-04-09T12:04:14.733378Z",
     "iopub.status.idle": "2021-04-09T12:04:14.735553Z",
     "shell.execute_reply": "2021-04-09T12:04:14.735164Z"
    },
    "papermill": {
     "duration": 0.035233,
     "end_time": "2021-04-09T12:04:14.735647",
     "exception": false,
     "start_time": "2021-04-09T12:04:14.700414",
     "status": "completed"
    },
    "tags": []
   },
   "outputs": [],
   "source": [
    "# #hide\n",
    "# fig, ax = plt.subplots(figsize=(15, 8))\n",
    "\n",
    "# def draw_barchart(current_day):\n",
    "#     dff = g[g['day'].eq(current_day)].sort_values(by='value', ascending=True).tail(10)\n",
    "#     ax.clear()\n",
    "#     ax.barh(dff['name'], dff['value'], color=[colors[group_lk[x]] for x in dff['name']])\n",
    "#     dx = dff['value'].max() / 200\n",
    "    \n",
    "#     for i, (value, name) in enumerate(zip(dff['value'], dff['name'])):\n",
    "#         ax.text(value-dx, i,     name,           size=14, weight=600, ha='right', va='bottom')\n",
    "#         ax.text(value-dx, i-.25, group_lk[name], size=10, color='#444444', ha='right', va='baseline')\n",
    "#         ax.text(value+dx, i,     f'{value:,.0f}',  size=14, ha='left',  va='center')\n",
    "#     ax.text(1, 0.4, current_day, transform=ax.transAxes, color='#777777', size=46, ha='right', weight=800)\n",
    "#     ax.text(0, 1.06, 'Population (thousands)', transform=ax.transAxes, size=12, color='#777777')\n",
    "#     ax.xaxis.set_major_formatter(ticker.StrMethodFormatter('{x:,.0f}'))\n",
    "#     ax.xaxis.set_ticks_position('top')\n",
    "#     ax.tick_params(axis='x', colors='#777777', labelsize=12)\n",
    "#     ax.set_yticks([])\n",
    "#     ax.margins(0, 0.01)\n",
    "#     ax.grid(which='major', axis='x', linestyle='-')\n",
    "#     ax.set_axisbelow(True)\n",
    "    \n",
    "#     ax.text(0, 1.15, 'Coronavirus',\n",
    "#             transform=ax.transAxes, size=24, weight=600, ha='left', va='top')\n",
    "# #     ax.text(1, 0, 'by @pratapvardhan; credit @jburnmurdoch', transform=ax.transAxes, color='#777777', ha='right',\n",
    "# #             bbox=dict(facecolor='white', alpha=0.8, edgecolor='white'))\n",
    "#     plt.box(False)"
   ]
  },
  {
   "cell_type": "code",
   "execution_count": 42,
   "id": "sexual-wages",
   "metadata": {
    "execution": {
     "iopub.execute_input": "2021-04-09T12:04:14.798624Z",
     "iopub.status.busy": "2021-04-09T12:04:14.798140Z",
     "iopub.status.idle": "2021-04-09T12:04:14.800366Z",
     "shell.execute_reply": "2021-04-09T12:04:14.799951Z"
    },
    "papermill": {
     "duration": 0.034761,
     "end_time": "2021-04-09T12:04:14.800457",
     "exception": false,
     "start_time": "2021-04-09T12:04:14.765696",
     "status": "completed"
    },
    "tags": []
   },
   "outputs": [],
   "source": [
    "# #hide_input\n",
    "# fig, ax = plt.subplots(figsize=(15, 8))\n",
    "# animator = animation.FuncAnimation(fig, draw_barchart, frames=range(g.day.values.min(), g.day.values.max()))\n",
    "# HTML(animator.to_jshtml())\n",
    "# # or use animator.to_html5_video() or animator.save() "
   ]
  },
  {
   "cell_type": "code",
   "execution_count": null,
   "id": "australian-container",
   "metadata": {
    "papermill": {
     "duration": 0.030159,
     "end_time": "2021-04-09T12:04:14.860698",
     "exception": false,
     "start_time": "2021-04-09T12:04:14.830539",
     "status": "completed"
    },
    "tags": []
   },
   "outputs": [],
   "source": []
  },
  {
   "cell_type": "code",
   "execution_count": null,
   "id": "mediterranean-pontiac",
   "metadata": {
    "papermill": {
     "duration": 0.029998,
     "end_time": "2021-04-09T12:04:14.920988",
     "exception": false,
     "start_time": "2021-04-09T12:04:14.890990",
     "status": "completed"
    },
    "tags": []
   },
   "outputs": [],
   "source": []
  },
  {
   "cell_type": "code",
   "execution_count": null,
   "id": "aging-legislature",
   "metadata": {
    "papermill": {
     "duration": 0.030013,
     "end_time": "2021-04-09T12:04:14.981230",
     "exception": false,
     "start_time": "2021-04-09T12:04:14.951217",
     "status": "completed"
    },
    "tags": []
   },
   "outputs": [],
   "source": []
  }
 ],
 "metadata": {
  "kernelspec": {
   "display_name": "Python 3",
   "language": "python",
   "name": "python3"
  },
  "language_info": {
   "codemirror_mode": {
    "name": "ipython",
    "version": 3
   },
   "file_extension": ".py",
   "mimetype": "text/x-python",
   "name": "python",
   "nbconvert_exporter": "python",
   "pygments_lexer": "ipython3",
   "version": "3.6.13"
  },
  "papermill": {
   "duration": 5.461619,
   "end_time": "2021-04-09T12:04:15.317614",
   "environment_variables": {},
   "exception": null,
   "input_path": "2020-03-21-covid19exp.ipynb",
   "output_path": "2020-03-21-covid19exp.ipynb",
   "parameters": {},
   "start_time": "2021-04-09T12:04:09.855995",
   "version": "2.0.0"
  }
 },
 "nbformat": 4,
 "nbformat_minor": 5
}