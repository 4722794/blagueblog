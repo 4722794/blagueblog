{
 "cells": [
  {
   "cell_type": "markdown",
   "metadata": {
    "papermill": {
     "duration": 0.039251,
     "end_time": "2021-01-10T00:27:52.395462",
     "exception": false,
     "start_time": "2021-01-10T00:27:52.356211",
     "status": "completed"
    },
    "tags": []
   },
   "source": [
    "# COVID-19 Case Race\n",
    "> A race chart to see rising cases around the world\n",
    "\n",
    "- author: Hargun Oberoi\n",
    "- image: images/covid-overview.png\n",
    "- hide: false\n",
    "- badges: false"
   ]
  },
  {
   "cell_type": "code",
   "execution_count": 1,
   "metadata": {
    "execution": {
     "iopub.execute_input": "2021-01-10T00:27:52.474575Z",
     "iopub.status.busy": "2021-01-10T00:27:52.473906Z",
     "iopub.status.idle": "2021-01-10T00:27:52.825650Z",
     "shell.execute_reply": "2021-01-10T00:27:52.824980Z"
    },
    "papermill": {
     "duration": 0.396283,
     "end_time": "2021-01-10T00:27:52.825864",
     "exception": false,
     "start_time": "2021-01-10T00:27:52.429581",
     "status": "completed"
    },
    "tags": []
   },
   "outputs": [],
   "source": [
    "#hide\n",
    "import numpy as np\n",
    "import pandas as pd\n",
    "from jinja2 import Template\n",
    "from IPython.display import HTML"
   ]
  },
  {
   "cell_type": "code",
   "execution_count": 2,
   "metadata": {
    "execution": {
     "iopub.execute_input": "2021-01-10T00:27:52.897804Z",
     "iopub.status.busy": "2021-01-10T00:27:52.897094Z",
     "iopub.status.idle": "2021-01-10T00:27:52.899146Z",
     "shell.execute_reply": "2021-01-10T00:27:52.899671Z"
    },
    "papermill": {
     "duration": 0.040193,
     "end_time": "2021-01-10T00:27:52.899827",
     "exception": false,
     "start_time": "2021-01-10T00:27:52.859634",
     "status": "completed"
    },
    "tags": []
   },
   "outputs": [],
   "source": [
    "#hide\n",
    "\n",
    "# FETCH\n",
    "base_url = 'https://raw.githubusercontent.com/pratapvardhan/notebooks/master/covid19/'\n",
    "paths = {\n",
    "    'mapping': base_url + 'mapping_countries.csv',\n",
    "    'overview': base_url + 'overview.tpl'\n",
    "}"
   ]
  },
  {
   "cell_type": "code",
   "execution_count": 3,
   "metadata": {
    "execution": {
     "iopub.execute_input": "2021-01-10T00:27:52.977162Z",
     "iopub.status.busy": "2021-01-10T00:27:52.976504Z",
     "iopub.status.idle": "2021-01-10T00:27:52.979269Z",
     "shell.execute_reply": "2021-01-10T00:27:52.979890Z"
    },
    "papermill": {
     "duration": 0.047375,
     "end_time": "2021-01-10T00:27:52.980040",
     "exception": false,
     "start_time": "2021-01-10T00:27:52.932665",
     "status": "completed"
    },
    "tags": []
   },
   "outputs": [
    {
     "data": {
      "text/plain": [
       "'https://raw.githubusercontent.com/pratapvardhan/notebooks/master/covid19/mapping_countries.csv'"
      ]
     },
     "execution_count": 3,
     "metadata": {},
     "output_type": "execute_result"
    }
   ],
   "source": [
    "#hide\n",
    "paths['mapping']"
   ]
  },
  {
   "cell_type": "code",
   "execution_count": 4,
   "metadata": {
    "execution": {
     "iopub.execute_input": "2021-01-10T00:27:53.051476Z",
     "iopub.status.busy": "2021-01-10T00:27:53.050791Z",
     "iopub.status.idle": "2021-01-10T00:27:53.054903Z",
     "shell.execute_reply": "2021-01-10T00:27:53.055588Z"
    },
    "papermill": {
     "duration": 0.042855,
     "end_time": "2021-01-10T00:27:53.055757",
     "exception": false,
     "start_time": "2021-01-10T00:27:53.012902",
     "status": "completed"
    },
    "tags": []
   },
   "outputs": [],
   "source": [
    "#hide\n",
    "def get_mappings(url):\n",
    "    df = pd.read_csv(url)\n",
    "    return {\n",
    "        'df': df,\n",
    "        'replace.country': dict(df.dropna(subset=['Name']).set_index('Country')['Name']),\n",
    "        'map.continent': dict(df.set_index('Name')['Continent'])\n",
    "    }"
   ]
  },
  {
   "cell_type": "code",
   "execution_count": 5,
   "metadata": {
    "execution": {
     "iopub.execute_input": "2021-01-10T00:27:53.129106Z",
     "iopub.status.busy": "2021-01-10T00:27:53.128448Z",
     "iopub.status.idle": "2021-01-10T00:27:53.159048Z",
     "shell.execute_reply": "2021-01-10T00:27:53.157772Z"
    },
    "papermill": {
     "duration": 0.06869,
     "end_time": "2021-01-10T00:27:53.159214",
     "exception": false,
     "start_time": "2021-01-10T00:27:53.090524",
     "status": "completed"
    },
    "tags": []
   },
   "outputs": [],
   "source": [
    "#hide\n",
    "mapping = get_mappings(paths['mapping'])"
   ]
  },
  {
   "cell_type": "code",
   "execution_count": 6,
   "metadata": {
    "execution": {
     "iopub.execute_input": "2021-01-10T00:27:53.231507Z",
     "iopub.status.busy": "2021-01-10T00:27:53.230848Z",
     "iopub.status.idle": "2021-01-10T00:27:53.232747Z",
     "shell.execute_reply": "2021-01-10T00:27:53.233320Z"
    },
    "papermill": {
     "duration": 0.040761,
     "end_time": "2021-01-10T00:27:53.233467",
     "exception": false,
     "start_time": "2021-01-10T00:27:53.192706",
     "status": "completed"
    },
    "tags": []
   },
   "outputs": [],
   "source": [
    "#hide\n",
    "def get_template(path):\n",
    "    from urllib.parse import urlparse\n",
    "    if bool(urlparse(path).netloc):\n",
    "        from urllib.request import urlopen\n",
    "        return urlopen(path).read().decode('utf8')\n",
    "    return open(path).read()"
   ]
  },
  {
   "cell_type": "code",
   "execution_count": 7,
   "metadata": {
    "execution": {
     "iopub.execute_input": "2021-01-10T00:27:53.304681Z",
     "iopub.status.busy": "2021-01-10T00:27:53.304020Z",
     "iopub.status.idle": "2021-01-10T00:27:53.306517Z",
     "shell.execute_reply": "2021-01-10T00:27:53.305947Z"
    },
    "papermill": {
     "duration": 0.040503,
     "end_time": "2021-01-10T00:27:53.306649",
     "exception": false,
     "start_time": "2021-01-10T00:27:53.266146",
     "status": "completed"
    },
    "tags": []
   },
   "outputs": [],
   "source": [
    "#hide\n",
    "def get_frame(name):\n",
    "    url = (\n",
    "        'https://raw.githubusercontent.com/CSSEGISandData/COVID-19/master/csse_covid_19_data/'\n",
    "        f'csse_covid_19_time_series/time_series_covid19_{name}_global.csv')\n",
    "    df = pd.read_csv(url)\n",
    "    # rename countries\n",
    "    df['Country/Region'] = df['Country/Region'].replace(mapping['replace.country'])\n",
    "    return df"
   ]
  },
  {
   "cell_type": "code",
   "execution_count": 8,
   "metadata": {
    "execution": {
     "iopub.execute_input": "2021-01-10T00:27:53.382377Z",
     "iopub.status.busy": "2021-01-10T00:27:53.381703Z",
     "iopub.status.idle": "2021-01-10T00:27:53.384120Z",
     "shell.execute_reply": "2021-01-10T00:27:53.383537Z"
    },
    "papermill": {
     "duration": 0.043727,
     "end_time": "2021-01-10T00:27:53.384259",
     "exception": false,
     "start_time": "2021-01-10T00:27:53.340532",
     "status": "completed"
    },
    "tags": []
   },
   "outputs": [],
   "source": [
    "#hide\n",
    "def get_dates(df):\n",
    "    dt_cols = df.columns[~df.columns.isin(['Province/State', 'Country/Region', 'Lat', 'Long'])]\n",
    "    LAST_DATE_I = -1\n",
    "    # sometimes last column may be empty, then go backwards\n",
    "    for i in range(-1, -len(dt_cols), -1):\n",
    "        if not df[dt_cols[i]].fillna(0).eq(0).all():\n",
    "            LAST_DATE_I = i\n",
    "            break\n",
    "    return LAST_DATE_I, dt_cols"
   ]
  },
  {
   "cell_type": "code",
   "execution_count": 9,
   "metadata": {
    "execution": {
     "iopub.execute_input": "2021-01-10T00:27:53.456149Z",
     "iopub.status.busy": "2021-01-10T00:27:53.454394Z",
     "iopub.status.idle": "2021-01-10T00:27:53.692790Z",
     "shell.execute_reply": "2021-01-10T00:27:53.693330Z"
    },
    "papermill": {
     "duration": 0.276651,
     "end_time": "2021-01-10T00:27:53.693509",
     "exception": false,
     "start_time": "2021-01-10T00:27:53.416858",
     "status": "completed"
    },
    "tags": []
   },
   "outputs": [],
   "source": [
    "#hide\n",
    "COL_REGION = 'Country/Region'\n",
    "# Confirmed, Recovered, Deaths\n",
    "df = get_frame('confirmed')\n",
    "# dft_: timeseries, dfc_: today country agg\n",
    "dft_cases = df\n",
    "dft_deaths = get_frame('deaths')\n",
    "dft_recovered = get_frame('recovered')\n",
    "LAST_DATE_I, dt_cols = get_dates(df)"
   ]
  },
  {
   "cell_type": "code",
   "execution_count": 10,
   "metadata": {
    "execution": {
     "iopub.execute_input": "2021-01-10T00:27:53.767059Z",
     "iopub.status.busy": "2021-01-10T00:27:53.766394Z",
     "iopub.status.idle": "2021-01-10T00:27:53.768864Z",
     "shell.execute_reply": "2021-01-10T00:27:53.768301Z"
    },
    "papermill": {
     "duration": 0.041246,
     "end_time": "2021-01-10T00:27:53.768995",
     "exception": false,
     "start_time": "2021-01-10T00:27:53.727749",
     "status": "completed"
    },
    "tags": []
   },
   "outputs": [],
   "source": [
    "#hide\n",
    "LAST_DATE_I, dt_cols = get_dates(df)\n",
    "dt_today =dt_cols[LAST_DATE_I]\n",
    "# dt_5day = dt_cols[LAST_DATE_I - 5]\n",
    "dt_yday = dt_cols[LAST_DATE_I - 1]"
   ]
  },
  {
   "cell_type": "code",
   "execution_count": 11,
   "metadata": {
    "execution": {
     "iopub.execute_input": "2021-01-10T00:27:53.841961Z",
     "iopub.status.busy": "2021-01-10T00:27:53.841269Z",
     "iopub.status.idle": "2021-01-10T00:27:53.850145Z",
     "shell.execute_reply": "2021-01-10T00:27:53.850701Z"
    },
    "papermill": {
     "duration": 0.048935,
     "end_time": "2021-01-10T00:27:53.850863",
     "exception": false,
     "start_time": "2021-01-10T00:27:53.801928",
     "status": "completed"
    },
    "tags": []
   },
   "outputs": [],
   "source": [
    "#hide\n",
    "dfc_cases = dft_cases.groupby(COL_REGION)[dt_today].sum()\n",
    "dfc_deaths = dft_deaths.groupby(COL_REGION)[dt_today].sum()\n",
    "# dfp_cases = dft_cases.groupby(COL_REGION)[dt_5day].sum()\n",
    "# dfp_deaths = dft_deaths.groupby(COL_REGION)[dt_5day].sum()\n",
    "dfp_cases = dft_cases.groupby(COL_REGION)[dt_yday].sum()\n",
    "dfp_deaths = dft_deaths.groupby(COL_REGION)[dt_yday].sum()"
   ]
  },
  {
   "cell_type": "code",
   "execution_count": 12,
   "metadata": {
    "execution": {
     "iopub.execute_input": "2021-01-10T00:27:53.924841Z",
     "iopub.status.busy": "2021-01-10T00:27:53.924159Z",
     "iopub.status.idle": "2021-01-10T00:27:53.930155Z",
     "shell.execute_reply": "2021-01-10T00:27:53.930676Z"
    },
    "papermill": {
     "duration": 0.04611,
     "end_time": "2021-01-10T00:27:53.930842",
     "exception": false,
     "start_time": "2021-01-10T00:27:53.884732",
     "status": "completed"
    },
    "tags": []
   },
   "outputs": [],
   "source": [
    "#hide\n",
    "df_table = (pd.DataFrame(dict(Cases = dfc_cases, Deaths = dfc_deaths, PCases = dfp_cases, PDeaths = dfp_deaths))\n",
    "            .sort_values(by = ['Cases','Deaths'], ascending = [False, False])\n",
    "            .reset_index())"
   ]
  },
  {
   "cell_type": "code",
   "execution_count": 13,
   "metadata": {
    "execution": {
     "iopub.execute_input": "2021-01-10T00:27:54.004479Z",
     "iopub.status.busy": "2021-01-10T00:27:54.003652Z",
     "iopub.status.idle": "2021-01-10T00:27:54.023390Z",
     "shell.execute_reply": "2021-01-10T00:27:54.023938Z"
    },
    "papermill": {
     "duration": 0.059849,
     "end_time": "2021-01-10T00:27:54.024090",
     "exception": false,
     "start_time": "2021-01-10T00:27:53.964241",
     "status": "completed"
    },
    "tags": []
   },
   "outputs": [
    {
     "data": {
      "text/html": [
       "<div>\n",
       "<style scoped>\n",
       "    .dataframe tbody tr th:only-of-type {\n",
       "        vertical-align: middle;\n",
       "    }\n",
       "\n",
       "    .dataframe tbody tr th {\n",
       "        vertical-align: top;\n",
       "    }\n",
       "\n",
       "    .dataframe thead th {\n",
       "        text-align: right;\n",
       "    }\n",
       "</style>\n",
       "<table border=\"1\" class=\"dataframe\">\n",
       "  <thead>\n",
       "    <tr style=\"text-align: right;\">\n",
       "      <th></th>\n",
       "      <th>Country/Region</th>\n",
       "      <th>Cases</th>\n",
       "      <th>Deaths</th>\n",
       "      <th>PCases</th>\n",
       "      <th>PDeaths</th>\n",
       "      <th>Cases (+)</th>\n",
       "      <th>Deaths (+)</th>\n",
       "      <th>Fatality Rate</th>\n",
       "      <th>Continent</th>\n",
       "    </tr>\n",
       "  </thead>\n",
       "  <tbody>\n",
       "    <tr>\n",
       "      <th>0</th>\n",
       "      <td>US</td>\n",
       "      <td>21862773</td>\n",
       "      <td>368773</td>\n",
       "      <td>21579569</td>\n",
       "      <td>365317</td>\n",
       "      <td>283204</td>\n",
       "      <td>3456</td>\n",
       "      <td>1.69</td>\n",
       "      <td>North America</td>\n",
       "    </tr>\n",
       "    <tr>\n",
       "      <th>1</th>\n",
       "      <td>India</td>\n",
       "      <td>10413417</td>\n",
       "      <td>150570</td>\n",
       "      <td>10413417</td>\n",
       "      <td>150570</td>\n",
       "      <td>0</td>\n",
       "      <td>0</td>\n",
       "      <td>1.45</td>\n",
       "      <td>Asia</td>\n",
       "    </tr>\n",
       "    <tr>\n",
       "      <th>2</th>\n",
       "      <td>Brazil</td>\n",
       "      <td>8013708</td>\n",
       "      <td>201460</td>\n",
       "      <td>7961673</td>\n",
       "      <td>200498</td>\n",
       "      <td>52035</td>\n",
       "      <td>962</td>\n",
       "      <td>2.51</td>\n",
       "      <td>South America</td>\n",
       "    </tr>\n",
       "    <tr>\n",
       "      <th>3</th>\n",
       "      <td>Russia</td>\n",
       "      <td>3321163</td>\n",
       "      <td>60067</td>\n",
       "      <td>3297833</td>\n",
       "      <td>59628</td>\n",
       "      <td>23330</td>\n",
       "      <td>439</td>\n",
       "      <td>1.81</td>\n",
       "      <td>Europe</td>\n",
       "    </tr>\n",
       "    <tr>\n",
       "      <th>4</th>\n",
       "      <td>United Kingdom</td>\n",
       "      <td>2966244</td>\n",
       "      <td>79965</td>\n",
       "      <td>2898052</td>\n",
       "      <td>78632</td>\n",
       "      <td>68192</td>\n",
       "      <td>1333</td>\n",
       "      <td>2.70</td>\n",
       "      <td>Europe</td>\n",
       "    </tr>\n",
       "  </tbody>\n",
       "</table>\n",
       "</div>"
      ],
      "text/plain": [
       "   Country/Region     Cases  Deaths    PCases  PDeaths  Cases (+)  Deaths (+)  \\\n",
       "0              US  21862773  368773  21579569   365317     283204        3456   \n",
       "1           India  10413417  150570  10413417   150570          0           0   \n",
       "2          Brazil   8013708  201460   7961673   200498      52035         962   \n",
       "3          Russia   3321163   60067   3297833    59628      23330         439   \n",
       "4  United Kingdom   2966244   79965   2898052    78632      68192        1333   \n",
       "\n",
       "   Fatality Rate      Continent  \n",
       "0           1.69  North America  \n",
       "1           1.45           Asia  \n",
       "2           2.51  South America  \n",
       "3           1.81         Europe  \n",
       "4           2.70         Europe  "
      ]
     },
     "execution_count": 13,
     "metadata": {},
     "output_type": "execute_result"
    }
   ],
   "source": [
    "#hide\n",
    "for c in 'Cases, Deaths'.split(', '):\n",
    "    df_table[f'{c} (+)'] = (df_table[c] - df_table[f'P{c}']).clip(0)\n",
    "    #Clip ça veut dire, les chiffres negatif sont interdit\n",
    "df_table['Fatality Rate'] = (100* df_table['Deaths']/ df_table['Cases']).round(2)\n",
    "df_table['Continent'] = df_table['Country/Region'].map(mapping['map.continent'])\n",
    "df_table.head(5)"
   ]
  },
  {
   "cell_type": "code",
   "execution_count": 14,
   "metadata": {
    "execution": {
     "iopub.execute_input": "2021-01-10T00:27:54.100879Z",
     "iopub.status.busy": "2021-01-10T00:27:54.100211Z",
     "iopub.status.idle": "2021-01-10T00:27:54.103004Z",
     "shell.execute_reply": "2021-01-10T00:27:54.103642Z"
    },
    "papermill": {
     "duration": 0.04339,
     "end_time": "2021-01-10T00:27:54.103794",
     "exception": false,
     "start_time": "2021-01-10T00:27:54.060404",
     "status": "completed"
    },
    "tags": []
   },
   "outputs": [],
   "source": [
    "#hide\n",
    "#delete problematic countries from table\n",
    "df_table = df_table[~df_table['Country/Region'].isin(['Cape Verde', 'Cruise Ship', 'Kosovo'])]"
   ]
  },
  {
   "cell_type": "code",
   "execution_count": 15,
   "metadata": {
    "execution": {
     "iopub.execute_input": "2021-01-10T00:27:54.182276Z",
     "iopub.status.busy": "2021-01-10T00:27:54.181562Z",
     "iopub.status.idle": "2021-01-10T00:27:54.201864Z",
     "shell.execute_reply": "2021-01-10T00:27:54.201254Z"
    },
    "papermill": {
     "duration": 0.064707,
     "end_time": "2021-01-10T00:27:54.202003",
     "exception": false,
     "start_time": "2021-01-10T00:27:54.137296",
     "status": "completed"
    },
    "tags": []
   },
   "outputs": [
    {
     "data": {
      "text/html": [
       "<div>\n",
       "<style scoped>\n",
       "    .dataframe tbody tr th:only-of-type {\n",
       "        vertical-align: middle;\n",
       "    }\n",
       "\n",
       "    .dataframe tbody tr th {\n",
       "        vertical-align: top;\n",
       "    }\n",
       "\n",
       "    .dataframe thead th {\n",
       "        text-align: right;\n",
       "    }\n",
       "</style>\n",
       "<table border=\"1\" class=\"dataframe\">\n",
       "  <thead>\n",
       "    <tr style=\"text-align: right;\">\n",
       "      <th></th>\n",
       "      <th>Country/Region</th>\n",
       "      <th>Cases</th>\n",
       "      <th>Deaths</th>\n",
       "      <th>PCases</th>\n",
       "      <th>PDeaths</th>\n",
       "      <th>Cases (+)</th>\n",
       "      <th>Deaths (+)</th>\n",
       "      <th>Fatality Rate</th>\n",
       "      <th>Continent</th>\n",
       "    </tr>\n",
       "  </thead>\n",
       "  <tbody>\n",
       "    <tr>\n",
       "      <th>0</th>\n",
       "      <td>US</td>\n",
       "      <td>21862773</td>\n",
       "      <td>368773</td>\n",
       "      <td>21579569</td>\n",
       "      <td>365317</td>\n",
       "      <td>283204</td>\n",
       "      <td>3456</td>\n",
       "      <td>1.7</td>\n",
       "      <td>North America</td>\n",
       "    </tr>\n",
       "    <tr>\n",
       "      <th>1</th>\n",
       "      <td>India</td>\n",
       "      <td>10413417</td>\n",
       "      <td>150570</td>\n",
       "      <td>10413417</td>\n",
       "      <td>150570</td>\n",
       "      <td>0</td>\n",
       "      <td>0</td>\n",
       "      <td>1.4</td>\n",
       "      <td>Asia</td>\n",
       "    </tr>\n",
       "    <tr>\n",
       "      <th>2</th>\n",
       "      <td>Brazil</td>\n",
       "      <td>8013708</td>\n",
       "      <td>201460</td>\n",
       "      <td>7961673</td>\n",
       "      <td>200498</td>\n",
       "      <td>52035</td>\n",
       "      <td>962</td>\n",
       "      <td>2.5</td>\n",
       "      <td>South America</td>\n",
       "    </tr>\n",
       "    <tr>\n",
       "      <th>3</th>\n",
       "      <td>Russia</td>\n",
       "      <td>3321163</td>\n",
       "      <td>60067</td>\n",
       "      <td>3297833</td>\n",
       "      <td>59628</td>\n",
       "      <td>23330</td>\n",
       "      <td>439</td>\n",
       "      <td>1.8</td>\n",
       "      <td>Europe</td>\n",
       "    </tr>\n",
       "    <tr>\n",
       "      <th>4</th>\n",
       "      <td>United Kingdom</td>\n",
       "      <td>2966244</td>\n",
       "      <td>79965</td>\n",
       "      <td>2898052</td>\n",
       "      <td>78632</td>\n",
       "      <td>68192</td>\n",
       "      <td>1333</td>\n",
       "      <td>2.7</td>\n",
       "      <td>Europe</td>\n",
       "    </tr>\n",
       "  </tbody>\n",
       "</table>\n",
       "</div>"
      ],
      "text/plain": [
       "   Country/Region     Cases  Deaths    PCases  PDeaths  Cases (+)  Deaths (+)  \\\n",
       "0              US  21862773  368773  21579569   365317     283204        3456   \n",
       "1           India  10413417  150570  10413417   150570          0           0   \n",
       "2          Brazil   8013708  201460   7961673   200498      52035         962   \n",
       "3          Russia   3321163   60067   3297833    59628      23330         439   \n",
       "4  United Kingdom   2966244   79965   2898052    78632      68192        1333   \n",
       "\n",
       "   Fatality Rate      Continent  \n",
       "0            1.7  North America  \n",
       "1            1.4           Asia  \n",
       "2            2.5  South America  \n",
       "3            1.8         Europe  \n",
       "4            2.7         Europe  "
      ]
     },
     "execution_count": 15,
     "metadata": {},
     "output_type": "execute_result"
    }
   ],
   "source": [
    "#hide\n",
    "df_table = (pd.DataFrame(dict(Cases=dfc_cases, Deaths=dfc_deaths, PCases=dfp_cases, PDeaths=dfp_deaths))\n",
    "             .sort_values(by=['Cases', 'Deaths'], ascending=[False, False])\n",
    "             .reset_index())\n",
    "df_table.rename(columns={'index': 'Country/Region'}, inplace=True)\n",
    "for c in 'Cases, Deaths'.split(', '):\n",
    "    df_table[f'{c} (+)'] = (df_table[c] - df_table[f'P{c}']).clip(0)  # DATA BUG\n",
    "df_table['Fatality Rate'] = (100 * df_table['Deaths'] / df_table['Cases']).round(1)\n",
    "df_table['Continent'] = df_table['Country/Region'].map(mapping['map.continent'])\n",
    "df_table.head(5)"
   ]
  },
  {
   "cell_type": "code",
   "execution_count": 16,
   "metadata": {
    "execution": {
     "iopub.execute_input": "2021-01-10T00:27:54.280046Z",
     "iopub.status.busy": "2021-01-10T00:27:54.279379Z",
     "iopub.status.idle": "2021-01-10T00:27:54.281875Z",
     "shell.execute_reply": "2021-01-10T00:27:54.281197Z"
    },
    "papermill": {
     "duration": 0.042587,
     "end_time": "2021-01-10T00:27:54.282013",
     "exception": false,
     "start_time": "2021-01-10T00:27:54.239426",
     "status": "completed"
    },
    "tags": []
   },
   "outputs": [],
   "source": [
    "#hide\n",
    "#delete problematic countries from table\n",
    "df_table = df_table[~df_table['Country/Region'].isin(['Cape Verde', 'Cruise Ship', 'Kosovo'])]"
   ]
  },
  {
   "cell_type": "code",
   "execution_count": 17,
   "metadata": {
    "execution": {
     "iopub.execute_input": "2021-01-10T00:27:54.373410Z",
     "iopub.status.busy": "2021-01-10T00:27:54.372712Z",
     "iopub.status.idle": "2021-01-10T00:27:54.374664Z",
     "shell.execute_reply": "2021-01-10T00:27:54.375186Z"
    },
    "papermill": {
     "duration": 0.059785,
     "end_time": "2021-01-10T00:27:54.375359",
     "exception": false,
     "start_time": "2021-01-10T00:27:54.315574",
     "status": "completed"
    },
    "tags": []
   },
   "outputs": [],
   "source": [
    "#hide\n",
    "metrics = [df_table.columns[index] for index in [1,2,5,6]]\n",
    "# s_china = df_table[df_table['Country/Region'].eq('China')][metrics].sum().add_prefix('China ')\n",
    "s_us = df_table[df_table['Country/Region'].eq('US')][metrics].sum().add_prefix('US ')\n",
    "s_eu = df_table[df_table['Continent'].eq('Europe')][metrics].sum().add_prefix('EU ')\n",
    "s_ind = df_table[df_table['Country/Region'].eq('India')][metrics].sum().add_prefix('India ')\n",
    "summary = {'updated': pd.to_datetime(dt_today), 'since': pd.to_datetime(dt_yday)}\n",
    "summary = {'updated': pd.to_datetime(dt_today), 'since': pd.to_datetime(dt_yday)}\n",
    "summary = {**summary, **df_table[metrics].sum(), **s_ind, **s_us, **s_eu}"
   ]
  },
  {
   "cell_type": "code",
   "execution_count": 18,
   "metadata": {
    "execution": {
     "iopub.execute_input": "2021-01-10T00:27:54.450236Z",
     "iopub.status.busy": "2021-01-10T00:27:54.449546Z",
     "iopub.status.idle": "2021-01-10T00:27:54.461963Z",
     "shell.execute_reply": "2021-01-10T00:27:54.461284Z"
    },
    "papermill": {
     "duration": 0.052733,
     "end_time": "2021-01-10T00:27:54.462110",
     "exception": false,
     "start_time": "2021-01-10T00:27:54.409377",
     "status": "completed"
    },
    "tags": []
   },
   "outputs": [],
   "source": [
    "#hide\n",
    "dft_ct_new_cases = dft_cases.groupby(COL_REGION)[dt_cols].sum().diff(axis=1).fillna(0).astype(int)"
   ]
  },
  {
   "cell_type": "code",
   "execution_count": 19,
   "metadata": {
    "execution": {
     "iopub.execute_input": "2021-01-10T00:27:54.536381Z",
     "iopub.status.busy": "2021-01-10T00:27:54.535722Z",
     "iopub.status.idle": "2021-01-10T00:27:54.537617Z",
     "shell.execute_reply": "2021-01-10T00:27:54.538157Z"
    },
    "papermill": {
     "duration": 0.042484,
     "end_time": "2021-01-10T00:27:54.538311",
     "exception": false,
     "start_time": "2021-01-10T00:27:54.495827",
     "status": "completed"
    },
    "tags": []
   },
   "outputs": [],
   "source": [
    "#hide\n",
    "everydaycases = dft_ct_new_cases.cumsum(axis=1)"
   ]
  },
  {
   "cell_type": "code",
   "execution_count": 20,
   "metadata": {
    "execution": {
     "iopub.execute_input": "2021-01-10T00:27:54.612091Z",
     "iopub.status.busy": "2021-01-10T00:27:54.610745Z",
     "iopub.status.idle": "2021-01-10T00:27:55.659583Z",
     "shell.execute_reply": "2021-01-10T00:27:55.658147Z"
    },
    "papermill": {
     "duration": 1.087946,
     "end_time": "2021-01-10T00:27:55.659738",
     "exception": false,
     "start_time": "2021-01-10T00:27:54.571792",
     "status": "completed"
    },
    "tags": []
   },
   "outputs": [],
   "source": [
    "#hide\n",
    "import pandas as pd\n",
    "import matplotlib.pyplot as plt\n",
    "import matplotlib.ticker as ticker\n",
    "import matplotlib.animation as animation\n",
    "from IPython.display import HTML"
   ]
  },
  {
   "cell_type": "code",
   "execution_count": 21,
   "metadata": {
    "execution": {
     "iopub.execute_input": "2021-01-10T00:27:55.737064Z",
     "iopub.status.busy": "2021-01-10T00:27:55.736276Z",
     "iopub.status.idle": "2021-01-10T00:27:55.740895Z",
     "shell.execute_reply": "2021-01-10T00:27:55.741417Z"
    },
    "papermill": {
     "duration": 0.046187,
     "end_time": "2021-01-10T00:27:55.741579",
     "exception": false,
     "start_time": "2021-01-10T00:27:55.695392",
     "status": "completed"
    },
    "tags": []
   },
   "outputs": [],
   "source": [
    "#hide\n",
    "t = everydaycases.stack()"
   ]
  },
  {
   "cell_type": "code",
   "execution_count": 22,
   "metadata": {
    "execution": {
     "iopub.execute_input": "2021-01-10T00:27:55.817437Z",
     "iopub.status.busy": "2021-01-10T00:27:55.816757Z",
     "iopub.status.idle": "2021-01-10T00:27:55.823021Z",
     "shell.execute_reply": "2021-01-10T00:27:55.823654Z"
    },
    "papermill": {
     "duration": 0.048179,
     "end_time": "2021-01-10T00:27:55.823825",
     "exception": false,
     "start_time": "2021-01-10T00:27:55.775646",
     "status": "completed"
    },
    "tags": []
   },
   "outputs": [],
   "source": [
    "#hide\n",
    "g = t.reset_index(['Country/Region'])"
   ]
  },
  {
   "cell_type": "code",
   "execution_count": 23,
   "metadata": {
    "execution": {
     "iopub.execute_input": "2021-01-10T00:27:55.896133Z",
     "iopub.status.busy": "2021-01-10T00:27:55.895459Z",
     "iopub.status.idle": "2021-01-10T00:27:55.897204Z",
     "shell.execute_reply": "2021-01-10T00:27:55.897877Z"
    },
    "papermill": {
     "duration": 0.039963,
     "end_time": "2021-01-10T00:27:55.898045",
     "exception": false,
     "start_time": "2021-01-10T00:27:55.858082",
     "status": "completed"
    },
    "tags": []
   },
   "outputs": [],
   "source": [
    "#hide\n",
    "g.index.name = 'date'"
   ]
  },
  {
   "cell_type": "code",
   "execution_count": 24,
   "metadata": {
    "execution": {
     "iopub.execute_input": "2021-01-10T00:27:55.969888Z",
     "iopub.status.busy": "2021-01-10T00:27:55.969192Z",
     "iopub.status.idle": "2021-01-10T00:27:55.971331Z",
     "shell.execute_reply": "2021-01-10T00:27:55.971912Z"
    },
    "papermill": {
     "duration": 0.039886,
     "end_time": "2021-01-10T00:27:55.972057",
     "exception": false,
     "start_time": "2021-01-10T00:27:55.932171",
     "status": "completed"
    },
    "tags": []
   },
   "outputs": [],
   "source": [
    "# #hide\n",
    "# g = g.reset_index(['date'])"
   ]
  },
  {
   "cell_type": "code",
   "execution_count": 25,
   "metadata": {
    "execution": {
     "iopub.execute_input": "2021-01-10T00:27:56.043020Z",
     "iopub.status.busy": "2021-01-10T00:27:56.042359Z",
     "iopub.status.idle": "2021-01-10T00:27:56.044201Z",
     "shell.execute_reply": "2021-01-10T00:27:56.044821Z"
    },
    "papermill": {
     "duration": 0.038814,
     "end_time": "2021-01-10T00:27:56.044969",
     "exception": false,
     "start_time": "2021-01-10T00:27:56.006155",
     "status": "completed"
    },
    "tags": []
   },
   "outputs": [],
   "source": [
    "#hide\n",
    "# g.head()"
   ]
  },
  {
   "cell_type": "code",
   "execution_count": 26,
   "metadata": {
    "execution": {
     "iopub.execute_input": "2021-01-10T00:27:56.120764Z",
     "iopub.status.busy": "2021-01-10T00:27:56.120095Z",
     "iopub.status.idle": "2021-01-10T00:27:56.122561Z",
     "shell.execute_reply": "2021-01-10T00:27:56.121992Z"
    },
    "papermill": {
     "duration": 0.043473,
     "end_time": "2021-01-10T00:27:56.122697",
     "exception": false,
     "start_time": "2021-01-10T00:27:56.079224",
     "status": "completed"
    },
    "tags": []
   },
   "outputs": [],
   "source": [
    "#hide\n",
    "# g.columns = ['date','country','cases']"
   ]
  },
  {
   "cell_type": "code",
   "execution_count": 27,
   "metadata": {
    "execution": {
     "iopub.execute_input": "2021-01-10T00:27:56.193113Z",
     "iopub.status.busy": "2021-01-10T00:27:56.192452Z",
     "iopub.status.idle": "2021-01-10T00:27:56.195115Z",
     "shell.execute_reply": "2021-01-10T00:27:56.194444Z"
    },
    "papermill": {
     "duration": 0.039667,
     "end_time": "2021-01-10T00:27:56.195259",
     "exception": false,
     "start_time": "2021-01-10T00:27:56.155592",
     "status": "completed"
    },
    "tags": []
   },
   "outputs": [],
   "source": [
    "#hide\n",
    "# g['continent'] = g.country"
   ]
  },
  {
   "cell_type": "code",
   "execution_count": 28,
   "metadata": {
    "execution": {
     "iopub.execute_input": "2021-01-10T00:27:56.269284Z",
     "iopub.status.busy": "2021-01-10T00:27:56.268626Z",
     "iopub.status.idle": "2021-01-10T00:27:56.270452Z",
     "shell.execute_reply": "2021-01-10T00:27:56.271086Z"
    },
    "papermill": {
     "duration": 0.040394,
     "end_time": "2021-01-10T00:27:56.271234",
     "exception": false,
     "start_time": "2021-01-10T00:27:56.230840",
     "status": "completed"
    },
    "tags": []
   },
   "outputs": [],
   "source": [
    "#hide\n",
    "# cols = list(g.columns.values)"
   ]
  },
  {
   "cell_type": "code",
   "execution_count": 29,
   "metadata": {
    "execution": {
     "iopub.execute_input": "2021-01-10T00:27:56.343280Z",
     "iopub.status.busy": "2021-01-10T00:27:56.342611Z",
     "iopub.status.idle": "2021-01-10T00:27:56.345120Z",
     "shell.execute_reply": "2021-01-10T00:27:56.344555Z"
    },
    "papermill": {
     "duration": 0.041419,
     "end_time": "2021-01-10T00:27:56.345262",
     "exception": false,
     "start_time": "2021-01-10T00:27:56.303843",
     "status": "completed"
    },
    "tags": []
   },
   "outputs": [],
   "source": [
    "#hide\n",
    "# cols.insert(0, cols.pop())"
   ]
  },
  {
   "cell_type": "code",
   "execution_count": 30,
   "metadata": {
    "execution": {
     "iopub.execute_input": "2021-01-10T00:27:56.416964Z",
     "iopub.status.busy": "2021-01-10T00:27:56.416308Z",
     "iopub.status.idle": "2021-01-10T00:27:56.418250Z",
     "shell.execute_reply": "2021-01-10T00:27:56.418790Z"
    },
    "papermill": {
     "duration": 0.039486,
     "end_time": "2021-01-10T00:27:56.418934",
     "exception": false,
     "start_time": "2021-01-10T00:27:56.379448",
     "status": "completed"
    },
    "tags": []
   },
   "outputs": [],
   "source": [
    "#hide\n",
    "# g = g[cols]"
   ]
  },
  {
   "cell_type": "code",
   "execution_count": 31,
   "metadata": {
    "execution": {
     "iopub.execute_input": "2021-01-10T00:27:56.493054Z",
     "iopub.status.busy": "2021-01-10T00:27:56.492397Z",
     "iopub.status.idle": "2021-01-10T00:27:56.494189Z",
     "shell.execute_reply": "2021-01-10T00:27:56.494806Z"
    },
    "papermill": {
     "duration": 0.040425,
     "end_time": "2021-01-10T00:27:56.494957",
     "exception": false,
     "start_time": "2021-01-10T00:27:56.454532",
     "status": "completed"
    },
    "tags": []
   },
   "outputs": [],
   "source": [
    "#hide\n",
    "# g['continent'] = g['continent'].map(mapping['map.continent'])"
   ]
  },
  {
   "cell_type": "code",
   "execution_count": 32,
   "metadata": {
    "execution": {
     "iopub.execute_input": "2021-01-10T00:27:56.568171Z",
     "iopub.status.busy": "2021-01-10T00:27:56.567508Z",
     "iopub.status.idle": "2021-01-10T00:27:56.569999Z",
     "shell.execute_reply": "2021-01-10T00:27:56.569321Z"
    },
    "papermill": {
     "duration": 0.041507,
     "end_time": "2021-01-10T00:27:56.570136",
     "exception": false,
     "start_time": "2021-01-10T00:27:56.528629",
     "status": "completed"
    },
    "tags": []
   },
   "outputs": [],
   "source": [
    "#hide\n",
    "# g.head()"
   ]
  },
  {
   "cell_type": "code",
   "execution_count": 33,
   "metadata": {
    "execution": {
     "iopub.execute_input": "2021-01-10T00:27:56.641447Z",
     "iopub.status.busy": "2021-01-10T00:27:56.640795Z",
     "iopub.status.idle": "2021-01-10T00:27:56.643448Z",
     "shell.execute_reply": "2021-01-10T00:27:56.642870Z"
    },
    "papermill": {
     "duration": 0.039355,
     "end_time": "2021-01-10T00:27:56.643578",
     "exception": false,
     "start_time": "2021-01-10T00:27:56.604223",
     "status": "completed"
    },
    "tags": []
   },
   "outputs": [],
   "source": [
    "# hide\n",
    "# g['date'] = g['date'].astype('datetime64[ns]')"
   ]
  },
  {
   "cell_type": "code",
   "execution_count": 34,
   "metadata": {
    "execution": {
     "iopub.execute_input": "2021-01-10T00:27:56.720177Z",
     "iopub.status.busy": "2021-01-10T00:27:56.719510Z",
     "iopub.status.idle": "2021-01-10T00:27:56.722143Z",
     "shell.execute_reply": "2021-01-10T00:27:56.721551Z"
    },
    "papermill": {
     "duration": 0.042003,
     "end_time": "2021-01-10T00:27:56.722276",
     "exception": false,
     "start_time": "2021-01-10T00:27:56.680273",
     "status": "completed"
    },
    "tags": []
   },
   "outputs": [],
   "source": [
    "#hide\n",
    "# g['date'] = g.date.dt.dayofyear"
   ]
  },
  {
   "cell_type": "code",
   "execution_count": 35,
   "metadata": {
    "execution": {
     "iopub.execute_input": "2021-01-10T00:27:56.797563Z",
     "iopub.status.busy": "2021-01-10T00:27:56.796906Z",
     "iopub.status.idle": "2021-01-10T00:27:56.799508Z",
     "shell.execute_reply": "2021-01-10T00:27:56.798843Z"
    },
    "papermill": {
     "duration": 0.040409,
     "end_time": "2021-01-10T00:27:56.799644",
     "exception": false,
     "start_time": "2021-01-10T00:27:56.759235",
     "status": "completed"
    },
    "tags": []
   },
   "outputs": [],
   "source": [
    "#hide\n",
    "# g = g.rename(columns= {'continent':'group','country':'name','cases':'value'})"
   ]
  },
  {
   "cell_type": "code",
   "execution_count": 36,
   "metadata": {
    "execution": {
     "iopub.execute_input": "2021-01-10T00:27:56.871662Z",
     "iopub.status.busy": "2021-01-10T00:27:56.871007Z",
     "iopub.status.idle": "2021-01-10T00:27:56.873490Z",
     "shell.execute_reply": "2021-01-10T00:27:56.872926Z"
    },
    "papermill": {
     "duration": 0.039335,
     "end_time": "2021-01-10T00:27:56.873616",
     "exception": false,
     "start_time": "2021-01-10T00:27:56.834281",
     "status": "completed"
    },
    "tags": []
   },
   "outputs": [],
   "source": [
    "#hide\n",
    "# cols = ['name','group','day','value']"
   ]
  },
  {
   "cell_type": "code",
   "execution_count": 37,
   "metadata": {
    "execution": {
     "iopub.execute_input": "2021-01-10T00:27:56.946961Z",
     "iopub.status.busy": "2021-01-10T00:27:56.946307Z",
     "iopub.status.idle": "2021-01-10T00:27:56.948797Z",
     "shell.execute_reply": "2021-01-10T00:27:56.948233Z"
    },
    "papermill": {
     "duration": 0.041863,
     "end_time": "2021-01-10T00:27:56.948928",
     "exception": false,
     "start_time": "2021-01-10T00:27:56.907065",
     "status": "completed"
    },
    "tags": []
   },
   "outputs": [],
   "source": [
    "#hide\n",
    "# g.rename(columns= {'date':'day'},inplace = True)"
   ]
  },
  {
   "cell_type": "code",
   "execution_count": 38,
   "metadata": {
    "execution": {
     "iopub.execute_input": "2021-01-10T00:27:57.021907Z",
     "iopub.status.busy": "2021-01-10T00:27:57.021218Z",
     "iopub.status.idle": "2021-01-10T00:27:57.023761Z",
     "shell.execute_reply": "2021-01-10T00:27:57.023191Z"
    },
    "papermill": {
     "duration": 0.040857,
     "end_time": "2021-01-10T00:27:57.023898",
     "exception": false,
     "start_time": "2021-01-10T00:27:56.983041",
     "status": "completed"
    },
    "tags": []
   },
   "outputs": [],
   "source": [
    "#hide\n",
    "# g = g[cols]"
   ]
  },
  {
   "cell_type": "code",
   "execution_count": 39,
   "metadata": {
    "execution": {
     "iopub.execute_input": "2021-01-10T00:27:57.106895Z",
     "iopub.status.busy": "2021-01-10T00:27:57.106238Z",
     "iopub.status.idle": "2021-01-10T00:27:57.108674Z",
     "shell.execute_reply": "2021-01-10T00:27:57.108109Z"
    },
    "papermill": {
     "duration": 0.047767,
     "end_time": "2021-01-10T00:27:57.108810",
     "exception": false,
     "start_time": "2021-01-10T00:27:57.061043",
     "status": "completed"
    },
    "tags": []
   },
   "outputs": [],
   "source": [
    "# #hide\n",
    "# g = g[g.group.notna()]"
   ]
  },
  {
   "cell_type": "code",
   "execution_count": 40,
   "metadata": {
    "execution": {
     "iopub.execute_input": "2021-01-10T00:27:57.182563Z",
     "iopub.status.busy": "2021-01-10T00:27:57.181893Z",
     "iopub.status.idle": "2021-01-10T00:27:57.183744Z",
     "shell.execute_reply": "2021-01-10T00:27:57.184284Z"
    },
    "papermill": {
     "duration": 0.041085,
     "end_time": "2021-01-10T00:27:57.184434",
     "exception": false,
     "start_time": "2021-01-10T00:27:57.143349",
     "status": "completed"
    },
    "tags": []
   },
   "outputs": [],
   "source": [
    "# #hide\n",
    "# colors = dict(zip(\n",
    "#     [\"Oceania\", \"Europe\", \"Asia\", \"South America\", \"Middle East\", \"North America\", \"Africa\"],\n",
    "#     [\"#adb0ff\", \"#ffb3ff\", \"#90d595\", \"#e48381\", \"#aafbff\", \"#f7bb5f\", \"#eafb50\"]\n",
    "# ))\n",
    "# group_lk = g.set_index('name')['group'].to_dict()"
   ]
  },
  {
   "cell_type": "code",
   "execution_count": null,
   "metadata": {
    "papermill": {
     "duration": 0.039126,
     "end_time": "2021-01-10T00:27:57.259375",
     "exception": false,
     "start_time": "2021-01-10T00:27:57.220249",
     "status": "completed"
    },
    "tags": []
   },
   "outputs": [],
   "source": []
  },
  {
   "cell_type": "code",
   "execution_count": 41,
   "metadata": {
    "execution": {
     "iopub.execute_input": "2021-01-10T00:27:57.332290Z",
     "iopub.status.busy": "2021-01-10T00:27:57.331612Z",
     "iopub.status.idle": "2021-01-10T00:27:57.334078Z",
     "shell.execute_reply": "2021-01-10T00:27:57.333476Z"
    },
    "papermill": {
     "duration": 0.041537,
     "end_time": "2021-01-10T00:27:57.334215",
     "exception": false,
     "start_time": "2021-01-10T00:27:57.292678",
     "status": "completed"
    },
    "tags": []
   },
   "outputs": [],
   "source": [
    "# #hide\n",
    "# fig, ax = plt.subplots(figsize=(15, 8))\n",
    "\n",
    "# def draw_barchart(current_day):\n",
    "#     dff = g[g['day'].eq(current_day)].sort_values(by='value', ascending=True).tail(10)\n",
    "#     ax.clear()\n",
    "#     ax.barh(dff['name'], dff['value'], color=[colors[group_lk[x]] for x in dff['name']])\n",
    "#     dx = dff['value'].max() / 200\n",
    "    \n",
    "#     for i, (value, name) in enumerate(zip(dff['value'], dff['name'])):\n",
    "#         ax.text(value-dx, i,     name,           size=14, weight=600, ha='right', va='bottom')\n",
    "#         ax.text(value-dx, i-.25, group_lk[name], size=10, color='#444444', ha='right', va='baseline')\n",
    "#         ax.text(value+dx, i,     f'{value:,.0f}',  size=14, ha='left',  va='center')\n",
    "#     ax.text(1, 0.4, current_day, transform=ax.transAxes, color='#777777', size=46, ha='right', weight=800)\n",
    "#     ax.text(0, 1.06, 'Population (thousands)', transform=ax.transAxes, size=12, color='#777777')\n",
    "#     ax.xaxis.set_major_formatter(ticker.StrMethodFormatter('{x:,.0f}'))\n",
    "#     ax.xaxis.set_ticks_position('top')\n",
    "#     ax.tick_params(axis='x', colors='#777777', labelsize=12)\n",
    "#     ax.set_yticks([])\n",
    "#     ax.margins(0, 0.01)\n",
    "#     ax.grid(which='major', axis='x', linestyle='-')\n",
    "#     ax.set_axisbelow(True)\n",
    "    \n",
    "#     ax.text(0, 1.15, 'Coronavirus',\n",
    "#             transform=ax.transAxes, size=24, weight=600, ha='left', va='top')\n",
    "# #     ax.text(1, 0, 'by @pratapvardhan; credit @jburnmurdoch', transform=ax.transAxes, color='#777777', ha='right',\n",
    "# #             bbox=dict(facecolor='white', alpha=0.8, edgecolor='white'))\n",
    "#     plt.box(False)"
   ]
  },
  {
   "cell_type": "code",
   "execution_count": 42,
   "metadata": {
    "execution": {
     "iopub.execute_input": "2021-01-10T00:27:57.404707Z",
     "iopub.status.busy": "2021-01-10T00:27:57.404050Z",
     "iopub.status.idle": "2021-01-10T00:27:57.406566Z",
     "shell.execute_reply": "2021-01-10T00:27:57.405999Z"
    },
    "papermill": {
     "duration": 0.038545,
     "end_time": "2021-01-10T00:27:57.406696",
     "exception": false,
     "start_time": "2021-01-10T00:27:57.368151",
     "status": "completed"
    },
    "tags": []
   },
   "outputs": [],
   "source": [
    "# #hide_input\n",
    "# fig, ax = plt.subplots(figsize=(15, 8))\n",
    "# animator = animation.FuncAnimation(fig, draw_barchart, frames=range(g.day.values.min(), g.day.values.max()))\n",
    "# HTML(animator.to_jshtml())\n",
    "# # or use animator.to_html5_video() or animator.save() "
   ]
  },
  {
   "cell_type": "code",
   "execution_count": null,
   "metadata": {
    "papermill": {
     "duration": 0.033989,
     "end_time": "2021-01-10T00:27:57.477323",
     "exception": false,
     "start_time": "2021-01-10T00:27:57.443334",
     "status": "completed"
    },
    "tags": []
   },
   "outputs": [],
   "source": []
  },
  {
   "cell_type": "code",
   "execution_count": null,
   "metadata": {
    "papermill": {
     "duration": 0.03393,
     "end_time": "2021-01-10T00:27:57.547248",
     "exception": false,
     "start_time": "2021-01-10T00:27:57.513318",
     "status": "completed"
    },
    "tags": []
   },
   "outputs": [],
   "source": []
  },
  {
   "cell_type": "code",
   "execution_count": null,
   "metadata": {
    "papermill": {
     "duration": 0.034149,
     "end_time": "2021-01-10T00:27:57.616206",
     "exception": false,
     "start_time": "2021-01-10T00:27:57.582057",
     "status": "completed"
    },
    "tags": []
   },
   "outputs": [],
   "source": []
  }
 ],
 "metadata": {
  "kernelspec": {
   "display_name": "Python 3",
   "language": "python",
   "name": "python3"
  },
  "language_info": {
   "codemirror_mode": {
    "name": "ipython",
    "version": 3
   },
   "file_extension": ".py",
   "mimetype": "text/x-python",
   "name": "python",
   "nbconvert_exporter": "python",
   "pygments_lexer": "ipython3",
   "version": "3.6.12"
  },
  "papermill": {
   "duration": 6.722639,
   "end_time": "2021-01-10T00:27:57.959587",
   "environment_variables": {},
   "exception": null,
   "input_path": "2020-03-21-covid19exp.ipynb",
   "output_path": "2020-03-21-covid19exp.ipynb",
   "parameters": {},
   "start_time": "2021-01-10T00:27:51.236948",
   "version": "2.0.0"
  }
 },
 "nbformat": 4,
 "nbformat_minor": 4
}