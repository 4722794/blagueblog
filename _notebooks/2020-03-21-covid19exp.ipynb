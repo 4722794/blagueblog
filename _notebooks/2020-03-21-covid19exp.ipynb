{
 "cells": [
  {
   "cell_type": "markdown",
   "id": "muslim-click",
   "metadata": {
    "papermill": {
     "duration": 0.034304,
     "end_time": "2022-04-01T12:16:35.657745",
     "exception": false,
     "start_time": "2022-04-01T12:16:35.623441",
     "status": "completed"
    },
    "tags": []
   },
   "source": [
    "# COVID-19 Case Race\n",
    "> A race chart to see rising cases around the world\n",
    "\n",
    "- author: Hargun Oberoi\n",
    "- image: images/covid-overview.png\n",
    "- hide: false\n",
    "- badges: false"
   ]
  },
  {
   "cell_type": "code",
   "execution_count": 1,
   "id": "proof-material",
   "metadata": {
    "execution": {
     "iopub.execute_input": "2022-04-01T12:16:35.729498Z",
     "iopub.status.busy": "2022-04-01T12:16:35.727857Z",
     "iopub.status.idle": "2022-04-01T12:16:36.034475Z",
     "shell.execute_reply": "2022-04-01T12:16:36.034888Z"
    },
    "papermill": {
     "duration": 0.345097,
     "end_time": "2022-04-01T12:16:36.035042",
     "exception": false,
     "start_time": "2022-04-01T12:16:35.689945",
     "status": "completed"
    },
    "tags": []
   },
   "outputs": [],
   "source": [
    "#hide\n",
    "import numpy as np\n",
    "import pandas as pd\n",
    "from jinja2 import Template\n",
    "from IPython.display import HTML"
   ]
  },
  {
   "cell_type": "code",
   "execution_count": 2,
   "id": "developed-terminology",
   "metadata": {
    "execution": {
     "iopub.execute_input": "2022-04-01T12:16:36.101331Z",
     "iopub.status.busy": "2022-04-01T12:16:36.100794Z",
     "iopub.status.idle": "2022-04-01T12:16:36.102385Z",
     "shell.execute_reply": "2022-04-01T12:16:36.102756Z"
    },
    "papermill": {
     "duration": 0.036961,
     "end_time": "2022-04-01T12:16:36.102871",
     "exception": false,
     "start_time": "2022-04-01T12:16:36.065910",
     "status": "completed"
    },
    "tags": []
   },
   "outputs": [],
   "source": [
    "#hide\n",
    "\n",
    "# FETCH\n",
    "base_url = 'https://raw.githubusercontent.com/pratapvardhan/notebooks/master/covid19/'\n",
    "paths = {\n",
    "    'mapping': base_url + 'mapping_countries.csv',\n",
    "    'overview': base_url + 'overview.tpl'\n",
    "}"
   ]
  },
  {
   "cell_type": "code",
   "execution_count": 3,
   "id": "dynamic-saver",
   "metadata": {
    "execution": {
     "iopub.execute_input": "2022-04-01T12:16:36.172652Z",
     "iopub.status.busy": "2022-04-01T12:16:36.172154Z",
     "iopub.status.idle": "2022-04-01T12:16:36.174805Z",
     "shell.execute_reply": "2022-04-01T12:16:36.174409Z"
    },
    "papermill": {
     "duration": 0.041232,
     "end_time": "2022-04-01T12:16:36.174903",
     "exception": false,
     "start_time": "2022-04-01T12:16:36.133671",
     "status": "completed"
    },
    "tags": []
   },
   "outputs": [
    {
     "data": {
      "text/plain": [
       "'https://raw.githubusercontent.com/pratapvardhan/notebooks/master/covid19/mapping_countries.csv'"
      ]
     },
     "execution_count": 3,
     "metadata": {},
     "output_type": "execute_result"
    }
   ],
   "source": [
    "#hide\n",
    "paths['mapping']"
   ]
  },
  {
   "cell_type": "code",
   "execution_count": 4,
   "id": "urban-software",
   "metadata": {
    "execution": {
     "iopub.execute_input": "2022-04-01T12:16:36.241791Z",
     "iopub.status.busy": "2022-04-01T12:16:36.241281Z",
     "iopub.status.idle": "2022-04-01T12:16:36.242841Z",
     "shell.execute_reply": "2022-04-01T12:16:36.243223Z"
    },
    "papermill": {
     "duration": 0.037296,
     "end_time": "2022-04-01T12:16:36.243346",
     "exception": false,
     "start_time": "2022-04-01T12:16:36.206050",
     "status": "completed"
    },
    "tags": []
   },
   "outputs": [],
   "source": [
    "#hide\n",
    "def get_mappings(url):\n",
    "    df = pd.read_csv(url)\n",
    "    return {\n",
    "        'df': df,\n",
    "        'replace.country': dict(df.dropna(subset=['Name']).set_index('Country')['Name']),\n",
    "        'map.continent': dict(df.set_index('Name')['Continent'])\n",
    "    }"
   ]
  },
  {
   "cell_type": "code",
   "execution_count": 5,
   "id": "intimate-machinery",
   "metadata": {
    "execution": {
     "iopub.execute_input": "2022-04-01T12:16:36.310380Z",
     "iopub.status.busy": "2022-04-01T12:16:36.309884Z",
     "iopub.status.idle": "2022-04-01T12:16:36.369129Z",
     "shell.execute_reply": "2022-04-01T12:16:36.368715Z"
    },
    "papermill": {
     "duration": 0.094827,
     "end_time": "2022-04-01T12:16:36.369254",
     "exception": false,
     "start_time": "2022-04-01T12:16:36.274427",
     "status": "completed"
    },
    "tags": []
   },
   "outputs": [],
   "source": [
    "#hide\n",
    "mapping = get_mappings(paths['mapping'])"
   ]
  },
  {
   "cell_type": "code",
   "execution_count": 6,
   "id": "certified-tactics",
   "metadata": {
    "execution": {
     "iopub.execute_input": "2022-04-01T12:16:36.436169Z",
     "iopub.status.busy": "2022-04-01T12:16:36.435662Z",
     "iopub.status.idle": "2022-04-01T12:16:36.437762Z",
     "shell.execute_reply": "2022-04-01T12:16:36.437292Z"
    },
    "papermill": {
     "duration": 0.037423,
     "end_time": "2022-04-01T12:16:36.437861",
     "exception": false,
     "start_time": "2022-04-01T12:16:36.400438",
     "status": "completed"
    },
    "tags": []
   },
   "outputs": [],
   "source": [
    "#hide\n",
    "def get_template(path):\n",
    "    from urllib.parse import urlparse\n",
    "    if bool(urlparse(path).netloc):\n",
    "        from urllib.request import urlopen\n",
    "        return urlopen(path).read().decode('utf8')\n",
    "    return open(path).read()"
   ]
  },
  {
   "cell_type": "code",
   "execution_count": 7,
   "id": "realistic-blast",
   "metadata": {
    "execution": {
     "iopub.execute_input": "2022-04-01T12:16:36.504809Z",
     "iopub.status.busy": "2022-04-01T12:16:36.504308Z",
     "iopub.status.idle": "2022-04-01T12:16:36.505821Z",
     "shell.execute_reply": "2022-04-01T12:16:36.506205Z"
    },
    "papermill": {
     "duration": 0.037299,
     "end_time": "2022-04-01T12:16:36.506318",
     "exception": false,
     "start_time": "2022-04-01T12:16:36.469019",
     "status": "completed"
    },
    "tags": []
   },
   "outputs": [],
   "source": [
    "#hide\n",
    "def get_frame(name):\n",
    "    url = (\n",
    "        'https://raw.githubusercontent.com/CSSEGISandData/COVID-19/master/csse_covid_19_data/'\n",
    "        f'csse_covid_19_time_series/time_series_covid19_{name}_global.csv')\n",
    "    df = pd.read_csv(url)\n",
    "    # rename countries\n",
    "    df['Country/Region'] = df['Country/Region'].replace(mapping['replace.country'])\n",
    "    return df"
   ]
  },
  {
   "cell_type": "code",
   "execution_count": 8,
   "id": "affiliated-characterization",
   "metadata": {
    "execution": {
     "iopub.execute_input": "2022-04-01T12:16:36.573874Z",
     "iopub.status.busy": "2022-04-01T12:16:36.573366Z",
     "iopub.status.idle": "2022-04-01T12:16:36.574846Z",
     "shell.execute_reply": "2022-04-01T12:16:36.575226Z"
    },
    "papermill": {
     "duration": 0.037881,
     "end_time": "2022-04-01T12:16:36.575337",
     "exception": false,
     "start_time": "2022-04-01T12:16:36.537456",
     "status": "completed"
    },
    "tags": []
   },
   "outputs": [],
   "source": [
    "#hide\n",
    "def get_dates(df):\n",
    "    dt_cols = df.columns[~df.columns.isin(['Province/State', 'Country/Region', 'Lat', 'Long'])]\n",
    "    LAST_DATE_I = -1\n",
    "    # sometimes last column may be empty, then go backwards\n",
    "    for i in range(-1, -len(dt_cols), -1):\n",
    "        if not df[dt_cols[i]].fillna(0).eq(0).all():\n",
    "            LAST_DATE_I = i\n",
    "            break\n",
    "    return LAST_DATE_I, dt_cols"
   ]
  },
  {
   "cell_type": "code",
   "execution_count": 9,
   "id": "recent-optimization",
   "metadata": {
    "execution": {
     "iopub.execute_input": "2022-04-01T12:16:36.641746Z",
     "iopub.status.busy": "2022-04-01T12:16:36.641230Z",
     "iopub.status.idle": "2022-04-01T12:16:37.256492Z",
     "shell.execute_reply": "2022-04-01T12:16:37.256052Z"
    },
    "papermill": {
     "duration": 0.650162,
     "end_time": "2022-04-01T12:16:37.256608",
     "exception": false,
     "start_time": "2022-04-01T12:16:36.606446",
     "status": "completed"
    },
    "tags": []
   },
   "outputs": [],
   "source": [
    "#hide\n",
    "COL_REGION = 'Country/Region'\n",
    "# Confirmed, Recovered, Deaths\n",
    "df = get_frame('confirmed')\n",
    "# dft_: timeseries, dfc_: today country agg\n",
    "dft_cases = df\n",
    "dft_deaths = get_frame('deaths')\n",
    "dft_recovered = get_frame('recovered')\n",
    "LAST_DATE_I, dt_cols = get_dates(df)"
   ]
  },
  {
   "cell_type": "code",
   "execution_count": 10,
   "id": "absolute-copper",
   "metadata": {
    "execution": {
     "iopub.execute_input": "2022-04-01T12:16:37.324371Z",
     "iopub.status.busy": "2022-04-01T12:16:37.323881Z",
     "iopub.status.idle": "2022-04-01T12:16:37.325782Z",
     "shell.execute_reply": "2022-04-01T12:16:37.326180Z"
    },
    "papermill": {
     "duration": 0.038119,
     "end_time": "2022-04-01T12:16:37.326294",
     "exception": false,
     "start_time": "2022-04-01T12:16:37.288175",
     "status": "completed"
    },
    "tags": []
   },
   "outputs": [],
   "source": [
    "#hide\n",
    "LAST_DATE_I, dt_cols = get_dates(df)\n",
    "dt_today =dt_cols[LAST_DATE_I]\n",
    "# dt_5day = dt_cols[LAST_DATE_I - 5]\n",
    "dt_yday = dt_cols[LAST_DATE_I - 1]"
   ]
  },
  {
   "cell_type": "code",
   "execution_count": 11,
   "id": "restricted-sheriff",
   "metadata": {
    "execution": {
     "iopub.execute_input": "2022-04-01T12:16:37.394792Z",
     "iopub.status.busy": "2022-04-01T12:16:37.394303Z",
     "iopub.status.idle": "2022-04-01T12:16:37.399992Z",
     "shell.execute_reply": "2022-04-01T12:16:37.399594Z"
    },
    "papermill": {
     "duration": 0.042653,
     "end_time": "2022-04-01T12:16:37.400095",
     "exception": false,
     "start_time": "2022-04-01T12:16:37.357442",
     "status": "completed"
    },
    "tags": []
   },
   "outputs": [],
   "source": [
    "#hide\n",
    "dfc_cases = dft_cases.groupby(COL_REGION)[dt_today].sum()\n",
    "dfc_deaths = dft_deaths.groupby(COL_REGION)[dt_today].sum()\n",
    "# dfp_cases = dft_cases.groupby(COL_REGION)[dt_5day].sum()\n",
    "# dfp_deaths = dft_deaths.groupby(COL_REGION)[dt_5day].sum()\n",
    "dfp_cases = dft_cases.groupby(COL_REGION)[dt_yday].sum()\n",
    "dfp_deaths = dft_deaths.groupby(COL_REGION)[dt_yday].sum()"
   ]
  },
  {
   "cell_type": "code",
   "execution_count": 12,
   "id": "deluxe-hepatitis",
   "metadata": {
    "execution": {
     "iopub.execute_input": "2022-04-01T12:16:37.467854Z",
     "iopub.status.busy": "2022-04-01T12:16:37.467368Z",
     "iopub.status.idle": "2022-04-01T12:16:37.471065Z",
     "shell.execute_reply": "2022-04-01T12:16:37.471464Z"
    },
    "papermill": {
     "duration": 0.040193,
     "end_time": "2022-04-01T12:16:37.471575",
     "exception": false,
     "start_time": "2022-04-01T12:16:37.431382",
     "status": "completed"
    },
    "tags": []
   },
   "outputs": [],
   "source": [
    "#hide\n",
    "df_table = (pd.DataFrame(dict(Cases = dfc_cases, Deaths = dfc_deaths, PCases = dfp_cases, PDeaths = dfp_deaths))\n",
    "            .sort_values(by = ['Cases','Deaths'], ascending = [False, False])\n",
    "            .reset_index())"
   ]
  },
  {
   "cell_type": "code",
   "execution_count": 13,
   "id": "educational-chancellor",
   "metadata": {
    "execution": {
     "iopub.execute_input": "2022-04-01T12:16:37.546132Z",
     "iopub.status.busy": "2022-04-01T12:16:37.545628Z",
     "iopub.status.idle": "2022-04-01T12:16:37.556507Z",
     "shell.execute_reply": "2022-04-01T12:16:37.556901Z"
    },
    "papermill": {
     "duration": 0.054148,
     "end_time": "2022-04-01T12:16:37.557015",
     "exception": false,
     "start_time": "2022-04-01T12:16:37.502867",
     "status": "completed"
    },
    "tags": []
   },
   "outputs": [
    {
     "data": {
      "text/html": [
       "<div>\n",
       "<style scoped>\n",
       "    .dataframe tbody tr th:only-of-type {\n",
       "        vertical-align: middle;\n",
       "    }\n",
       "\n",
       "    .dataframe tbody tr th {\n",
       "        vertical-align: top;\n",
       "    }\n",
       "\n",
       "    .dataframe thead th {\n",
       "        text-align: right;\n",
       "    }\n",
       "</style>\n",
       "<table border=\"1\" class=\"dataframe\">\n",
       "  <thead>\n",
       "    <tr style=\"text-align: right;\">\n",
       "      <th></th>\n",
       "      <th>Country/Region</th>\n",
       "      <th>Cases</th>\n",
       "      <th>Deaths</th>\n",
       "      <th>PCases</th>\n",
       "      <th>PDeaths</th>\n",
       "      <th>Cases (+)</th>\n",
       "      <th>Deaths (+)</th>\n",
       "      <th>Fatality Rate</th>\n",
       "      <th>Continent</th>\n",
       "    </tr>\n",
       "  </thead>\n",
       "  <tbody>\n",
       "    <tr>\n",
       "      <th>0</th>\n",
       "      <td>US</td>\n",
       "      <td>80103661</td>\n",
       "      <td>980624</td>\n",
       "      <td>80057236</td>\n",
       "      <td>979869</td>\n",
       "      <td>46425</td>\n",
       "      <td>755</td>\n",
       "      <td>1.22</td>\n",
       "      <td>North America</td>\n",
       "    </tr>\n",
       "    <tr>\n",
       "      <th>1</th>\n",
       "      <td>India</td>\n",
       "      <td>43025775</td>\n",
       "      <td>521181</td>\n",
       "      <td>43024440</td>\n",
       "      <td>521129</td>\n",
       "      <td>1335</td>\n",
       "      <td>52</td>\n",
       "      <td>1.21</td>\n",
       "      <td>Asia</td>\n",
       "    </tr>\n",
       "    <tr>\n",
       "      <th>2</th>\n",
       "      <td>Brazil</td>\n",
       "      <td>29951670</td>\n",
       "      <td>660022</td>\n",
       "      <td>29920604</td>\n",
       "      <td>659769</td>\n",
       "      <td>31066</td>\n",
       "      <td>253</td>\n",
       "      <td>2.20</td>\n",
       "      <td>South America</td>\n",
       "    </tr>\n",
       "    <tr>\n",
       "      <th>3</th>\n",
       "      <td>France</td>\n",
       "      <td>25803173</td>\n",
       "      <td>143307</td>\n",
       "      <td>25633476</td>\n",
       "      <td>143168</td>\n",
       "      <td>169697</td>\n",
       "      <td>139</td>\n",
       "      <td>0.56</td>\n",
       "      <td>Europe</td>\n",
       "    </tr>\n",
       "    <tr>\n",
       "      <th>4</th>\n",
       "      <td>Germany</td>\n",
       "      <td>21394747</td>\n",
       "      <td>129708</td>\n",
       "      <td>20829608</td>\n",
       "      <td>129112</td>\n",
       "      <td>565139</td>\n",
       "      <td>596</td>\n",
       "      <td>0.61</td>\n",
       "      <td>Europe</td>\n",
       "    </tr>\n",
       "  </tbody>\n",
       "</table>\n",
       "</div>"
      ],
      "text/plain": [
       "  Country/Region     Cases  Deaths    PCases  PDeaths  Cases (+)  Deaths (+)  \\\n",
       "0             US  80103661  980624  80057236   979869      46425         755   \n",
       "1          India  43025775  521181  43024440   521129       1335          52   \n",
       "2         Brazil  29951670  660022  29920604   659769      31066         253   \n",
       "3         France  25803173  143307  25633476   143168     169697         139   \n",
       "4        Germany  21394747  129708  20829608   129112     565139         596   \n",
       "\n",
       "   Fatality Rate      Continent  \n",
       "0           1.22  North America  \n",
       "1           1.21           Asia  \n",
       "2           2.20  South America  \n",
       "3           0.56         Europe  \n",
       "4           0.61         Europe  "
      ]
     },
     "execution_count": 13,
     "metadata": {},
     "output_type": "execute_result"
    }
   ],
   "source": [
    "#hide\n",
    "for c in 'Cases, Deaths'.split(', '):\n",
    "    df_table[f'{c} (+)'] = (df_table[c] - df_table[f'P{c}']).clip(0)\n",
    "    #Clip ça veut dire, les chiffres negatif sont interdit\n",
    "df_table['Fatality Rate'] = (100* df_table['Deaths']/ df_table['Cases']).round(2)\n",
    "df_table['Continent'] = df_table['Country/Region'].map(mapping['map.continent'])\n",
    "df_table.head(5)"
   ]
  },
  {
   "cell_type": "code",
   "execution_count": 14,
   "id": "aboriginal-bulgaria",
   "metadata": {
    "execution": {
     "iopub.execute_input": "2022-04-01T12:16:37.625861Z",
     "iopub.status.busy": "2022-04-01T12:16:37.625346Z",
     "iopub.status.idle": "2022-04-01T12:16:37.628502Z",
     "shell.execute_reply": "2022-04-01T12:16:37.628104Z"
    },
    "papermill": {
     "duration": 0.039817,
     "end_time": "2022-04-01T12:16:37.628604",
     "exception": false,
     "start_time": "2022-04-01T12:16:37.588787",
     "status": "completed"
    },
    "tags": []
   },
   "outputs": [],
   "source": [
    "#hide\n",
    "#delete problematic countries from table\n",
    "df_table = df_table[~df_table['Country/Region'].isin(['Cape Verde', 'Cruise Ship', 'Kosovo'])]"
   ]
  },
  {
   "cell_type": "code",
   "execution_count": 15,
   "id": "fantastic-effect",
   "metadata": {
    "execution": {
     "iopub.execute_input": "2022-04-01T12:16:37.699079Z",
     "iopub.status.busy": "2022-04-01T12:16:37.698579Z",
     "iopub.status.idle": "2022-04-01T12:16:37.715572Z",
     "shell.execute_reply": "2022-04-01T12:16:37.715946Z"
    },
    "papermill": {
     "duration": 0.055881,
     "end_time": "2022-04-01T12:16:37.716063",
     "exception": false,
     "start_time": "2022-04-01T12:16:37.660182",
     "status": "completed"
    },
    "tags": []
   },
   "outputs": [
    {
     "data": {
      "text/html": [
       "<div>\n",
       "<style scoped>\n",
       "    .dataframe tbody tr th:only-of-type {\n",
       "        vertical-align: middle;\n",
       "    }\n",
       "\n",
       "    .dataframe tbody tr th {\n",
       "        vertical-align: top;\n",
       "    }\n",
       "\n",
       "    .dataframe thead th {\n",
       "        text-align: right;\n",
       "    }\n",
       "</style>\n",
       "<table border=\"1\" class=\"dataframe\">\n",
       "  <thead>\n",
       "    <tr style=\"text-align: right;\">\n",
       "      <th></th>\n",
       "      <th>Country/Region</th>\n",
       "      <th>Cases</th>\n",
       "      <th>Deaths</th>\n",
       "      <th>PCases</th>\n",
       "      <th>PDeaths</th>\n",
       "      <th>Cases (+)</th>\n",
       "      <th>Deaths (+)</th>\n",
       "      <th>Fatality Rate</th>\n",
       "      <th>Continent</th>\n",
       "    </tr>\n",
       "  </thead>\n",
       "  <tbody>\n",
       "    <tr>\n",
       "      <th>0</th>\n",
       "      <td>US</td>\n",
       "      <td>80103661</td>\n",
       "      <td>980624</td>\n",
       "      <td>80057236</td>\n",
       "      <td>979869</td>\n",
       "      <td>46425</td>\n",
       "      <td>755</td>\n",
       "      <td>1.2</td>\n",
       "      <td>North America</td>\n",
       "    </tr>\n",
       "    <tr>\n",
       "      <th>1</th>\n",
       "      <td>India</td>\n",
       "      <td>43025775</td>\n",
       "      <td>521181</td>\n",
       "      <td>43024440</td>\n",
       "      <td>521129</td>\n",
       "      <td>1335</td>\n",
       "      <td>52</td>\n",
       "      <td>1.2</td>\n",
       "      <td>Asia</td>\n",
       "    </tr>\n",
       "    <tr>\n",
       "      <th>2</th>\n",
       "      <td>Brazil</td>\n",
       "      <td>29951670</td>\n",
       "      <td>660022</td>\n",
       "      <td>29920604</td>\n",
       "      <td>659769</td>\n",
       "      <td>31066</td>\n",
       "      <td>253</td>\n",
       "      <td>2.2</td>\n",
       "      <td>South America</td>\n",
       "    </tr>\n",
       "    <tr>\n",
       "      <th>3</th>\n",
       "      <td>France</td>\n",
       "      <td>25803173</td>\n",
       "      <td>143307</td>\n",
       "      <td>25633476</td>\n",
       "      <td>143168</td>\n",
       "      <td>169697</td>\n",
       "      <td>139</td>\n",
       "      <td>0.6</td>\n",
       "      <td>Europe</td>\n",
       "    </tr>\n",
       "    <tr>\n",
       "      <th>4</th>\n",
       "      <td>Germany</td>\n",
       "      <td>21394747</td>\n",
       "      <td>129708</td>\n",
       "      <td>20829608</td>\n",
       "      <td>129112</td>\n",
       "      <td>565139</td>\n",
       "      <td>596</td>\n",
       "      <td>0.6</td>\n",
       "      <td>Europe</td>\n",
       "    </tr>\n",
       "  </tbody>\n",
       "</table>\n",
       "</div>"
      ],
      "text/plain": [
       "  Country/Region     Cases  Deaths    PCases  PDeaths  Cases (+)  Deaths (+)  \\\n",
       "0             US  80103661  980624  80057236   979869      46425         755   \n",
       "1          India  43025775  521181  43024440   521129       1335          52   \n",
       "2         Brazil  29951670  660022  29920604   659769      31066         253   \n",
       "3         France  25803173  143307  25633476   143168     169697         139   \n",
       "4        Germany  21394747  129708  20829608   129112     565139         596   \n",
       "\n",
       "   Fatality Rate      Continent  \n",
       "0            1.2  North America  \n",
       "1            1.2           Asia  \n",
       "2            2.2  South America  \n",
       "3            0.6         Europe  \n",
       "4            0.6         Europe  "
      ]
     },
     "execution_count": 15,
     "metadata": {},
     "output_type": "execute_result"
    }
   ],
   "source": [
    "#hide\n",
    "df_table = (pd.DataFrame(dict(Cases=dfc_cases, Deaths=dfc_deaths, PCases=dfp_cases, PDeaths=dfp_deaths))\n",
    "             .sort_values(by=['Cases', 'Deaths'], ascending=[False, False])\n",
    "             .reset_index())\n",
    "df_table.rename(columns={'index': 'Country/Region'}, inplace=True)\n",
    "for c in 'Cases, Deaths'.split(', '):\n",
    "    df_table[f'{c} (+)'] = (df_table[c] - df_table[f'P{c}']).clip(0)  # DATA BUG\n",
    "df_table['Fatality Rate'] = (100 * df_table['Deaths'] / df_table['Cases']).round(1)\n",
    "df_table['Continent'] = df_table['Country/Region'].map(mapping['map.continent'])\n",
    "df_table.head(5)"
   ]
  },
  {
   "cell_type": "code",
   "execution_count": 16,
   "id": "fewer-occasion",
   "metadata": {
    "execution": {
     "iopub.execute_input": "2022-04-01T12:16:37.786153Z",
     "iopub.status.busy": "2022-04-01T12:16:37.785635Z",
     "iopub.status.idle": "2022-04-01T12:16:37.787595Z",
     "shell.execute_reply": "2022-04-01T12:16:37.787208Z"
    },
    "papermill": {
     "duration": 0.038878,
     "end_time": "2022-04-01T12:16:37.787695",
     "exception": false,
     "start_time": "2022-04-01T12:16:37.748817",
     "status": "completed"
    },
    "tags": []
   },
   "outputs": [],
   "source": [
    "#hide\n",
    "#delete problematic countries from table\n",
    "df_table = df_table[~df_table['Country/Region'].isin(['Cape Verde', 'Cruise Ship', 'Kosovo'])]"
   ]
  },
  {
   "cell_type": "code",
   "execution_count": 17,
   "id": "related-center",
   "metadata": {
    "execution": {
     "iopub.execute_input": "2022-04-01T12:16:37.864865Z",
     "iopub.status.busy": "2022-04-01T12:16:37.864314Z",
     "iopub.status.idle": "2022-04-01T12:16:37.875749Z",
     "shell.execute_reply": "2022-04-01T12:16:37.876148Z"
    },
    "papermill": {
     "duration": 0.05023,
     "end_time": "2022-04-01T12:16:37.876263",
     "exception": false,
     "start_time": "2022-04-01T12:16:37.826033",
     "status": "completed"
    },
    "tags": []
   },
   "outputs": [],
   "source": [
    "#hide\n",
    "metrics = [df_table.columns[index] for index in [1,2,5,6]]\n",
    "# s_china = df_table[df_table['Country/Region'].eq('China')][metrics].sum().add_prefix('China ')\n",
    "s_us = df_table[df_table['Country/Region'].eq('US')][metrics].sum().add_prefix('US ')\n",
    "s_eu = df_table[df_table['Continent'].eq('Europe')][metrics].sum().add_prefix('EU ')\n",
    "s_ind = df_table[df_table['Country/Region'].eq('India')][metrics].sum().add_prefix('India ')\n",
    "summary = {'updated': pd.to_datetime(dt_today), 'since': pd.to_datetime(dt_yday)}\n",
    "summary = {'updated': pd.to_datetime(dt_today), 'since': pd.to_datetime(dt_yday)}\n",
    "summary = {**summary, **df_table[metrics].sum(), **s_ind, **s_us, **s_eu}"
   ]
  },
  {
   "cell_type": "code",
   "execution_count": 18,
   "id": "engaging-syndrome",
   "metadata": {
    "execution": {
     "iopub.execute_input": "2022-04-01T12:16:37.949107Z",
     "iopub.status.busy": "2022-04-01T12:16:37.948617Z",
     "iopub.status.idle": "2022-04-01T12:16:37.962847Z",
     "shell.execute_reply": "2022-04-01T12:16:37.963210Z"
    },
    "papermill": {
     "duration": 0.050527,
     "end_time": "2022-04-01T12:16:37.963324",
     "exception": false,
     "start_time": "2022-04-01T12:16:37.912797",
     "status": "completed"
    },
    "tags": []
   },
   "outputs": [],
   "source": [
    "#hide\n",
    "dft_ct_new_cases = dft_cases.groupby(COL_REGION)[dt_cols].sum().diff(axis=1).fillna(0).astype(int)"
   ]
  },
  {
   "cell_type": "code",
   "execution_count": 19,
   "id": "neutral-assignment",
   "metadata": {
    "execution": {
     "iopub.execute_input": "2022-04-01T12:16:38.033699Z",
     "iopub.status.busy": "2022-04-01T12:16:38.033193Z",
     "iopub.status.idle": "2022-04-01T12:16:38.035444Z",
     "shell.execute_reply": "2022-04-01T12:16:38.035061Z"
    },
    "papermill": {
     "duration": 0.039803,
     "end_time": "2022-04-01T12:16:38.035541",
     "exception": false,
     "start_time": "2022-04-01T12:16:37.995738",
     "status": "completed"
    },
    "tags": []
   },
   "outputs": [],
   "source": [
    "#hide\n",
    "everydaycases = dft_ct_new_cases.cumsum(axis=1)"
   ]
  },
  {
   "cell_type": "code",
   "execution_count": 20,
   "id": "parliamentary-calgary",
   "metadata": {
    "execution": {
     "iopub.execute_input": "2022-04-01T12:16:38.103537Z",
     "iopub.status.busy": "2022-04-01T12:16:38.103035Z",
     "iopub.status.idle": "2022-04-01T12:16:38.687605Z",
     "shell.execute_reply": "2022-04-01T12:16:38.687149Z"
    },
    "papermill": {
     "duration": 0.620087,
     "end_time": "2022-04-01T12:16:38.687713",
     "exception": false,
     "start_time": "2022-04-01T12:16:38.067626",
     "status": "completed"
    },
    "tags": []
   },
   "outputs": [],
   "source": [
    "#hide\n",
    "import pandas as pd\n",
    "import matplotlib.pyplot as plt\n",
    "import matplotlib.ticker as ticker\n",
    "import matplotlib.animation as animation\n",
    "from IPython.display import HTML"
   ]
  },
  {
   "cell_type": "code",
   "execution_count": 21,
   "id": "lasting-extraction",
   "metadata": {
    "execution": {
     "iopub.execute_input": "2022-04-01T12:16:38.757489Z",
     "iopub.status.busy": "2022-04-01T12:16:38.756982Z",
     "iopub.status.idle": "2022-04-01T12:16:38.762556Z",
     "shell.execute_reply": "2022-04-01T12:16:38.762146Z"
    },
    "papermill": {
     "duration": 0.042695,
     "end_time": "2022-04-01T12:16:38.762653",
     "exception": false,
     "start_time": "2022-04-01T12:16:38.719958",
     "status": "completed"
    },
    "tags": []
   },
   "outputs": [],
   "source": [
    "#hide\n",
    "t = everydaycases.stack()"
   ]
  },
  {
   "cell_type": "code",
   "execution_count": 22,
   "id": "premier-sleeve",
   "metadata": {
    "execution": {
     "iopub.execute_input": "2022-04-01T12:16:38.833780Z",
     "iopub.status.busy": "2022-04-01T12:16:38.830281Z",
     "iopub.status.idle": "2022-04-01T12:16:38.840466Z",
     "shell.execute_reply": "2022-04-01T12:16:38.839980Z"
    },
    "papermill": {
     "duration": 0.045678,
     "end_time": "2022-04-01T12:16:38.840566",
     "exception": false,
     "start_time": "2022-04-01T12:16:38.794888",
     "status": "completed"
    },
    "tags": []
   },
   "outputs": [],
   "source": [
    "#hide\n",
    "g = t.reset_index(['Country/Region'])"
   ]
  },
  {
   "cell_type": "code",
   "execution_count": 23,
   "id": "distributed-pittsburgh",
   "metadata": {
    "execution": {
     "iopub.execute_input": "2022-04-01T12:16:38.913846Z",
     "iopub.status.busy": "2022-04-01T12:16:38.913343Z",
     "iopub.status.idle": "2022-04-01T12:16:38.914983Z",
     "shell.execute_reply": "2022-04-01T12:16:38.915347Z"
    },
    "papermill": {
     "duration": 0.041618,
     "end_time": "2022-04-01T12:16:38.915463",
     "exception": false,
     "start_time": "2022-04-01T12:16:38.873845",
     "status": "completed"
    },
    "tags": []
   },
   "outputs": [],
   "source": [
    "#hide\n",
    "g.index.name = 'date'"
   ]
  },
  {
   "cell_type": "code",
   "execution_count": 24,
   "id": "naked-donor",
   "metadata": {
    "execution": {
     "iopub.execute_input": "2022-04-01T12:16:38.982621Z",
     "iopub.status.busy": "2022-04-01T12:16:38.982142Z",
     "iopub.status.idle": "2022-04-01T12:16:38.984230Z",
     "shell.execute_reply": "2022-04-01T12:16:38.983838Z"
    },
    "papermill": {
     "duration": 0.0367,
     "end_time": "2022-04-01T12:16:38.984327",
     "exception": false,
     "start_time": "2022-04-01T12:16:38.947627",
     "status": "completed"
    },
    "tags": []
   },
   "outputs": [],
   "source": [
    "# #hide\n",
    "# g = g.reset_index(['date'])"
   ]
  },
  {
   "cell_type": "code",
   "execution_count": 25,
   "id": "incomplete-mustang",
   "metadata": {
    "execution": {
     "iopub.execute_input": "2022-04-01T12:16:39.052231Z",
     "iopub.status.busy": "2022-04-01T12:16:39.051717Z",
     "iopub.status.idle": "2022-04-01T12:16:39.053689Z",
     "shell.execute_reply": "2022-04-01T12:16:39.053232Z"
    },
    "papermill": {
     "duration": 0.036884,
     "end_time": "2022-04-01T12:16:39.053786",
     "exception": false,
     "start_time": "2022-04-01T12:16:39.016902",
     "status": "completed"
    },
    "tags": []
   },
   "outputs": [],
   "source": [
    "#hide\n",
    "# g.head()"
   ]
  },
  {
   "cell_type": "code",
   "execution_count": 26,
   "id": "specific-kruger",
   "metadata": {
    "execution": {
     "iopub.execute_input": "2022-04-01T12:16:39.123359Z",
     "iopub.status.busy": "2022-04-01T12:16:39.122841Z",
     "iopub.status.idle": "2022-04-01T12:16:39.124864Z",
     "shell.execute_reply": "2022-04-01T12:16:39.124477Z"
    },
    "papermill": {
     "duration": 0.036785,
     "end_time": "2022-04-01T12:16:39.124961",
     "exception": false,
     "start_time": "2022-04-01T12:16:39.088176",
     "status": "completed"
    },
    "tags": []
   },
   "outputs": [],
   "source": [
    "#hide\n",
    "# g.columns = ['date','country','cases']"
   ]
  },
  {
   "cell_type": "code",
   "execution_count": 27,
   "id": "tender-conversion",
   "metadata": {
    "execution": {
     "iopub.execute_input": "2022-04-01T12:16:39.192238Z",
     "iopub.status.busy": "2022-04-01T12:16:39.191749Z",
     "iopub.status.idle": "2022-04-01T12:16:39.193800Z",
     "shell.execute_reply": "2022-04-01T12:16:39.193417Z"
    },
    "papermill": {
     "duration": 0.036965,
     "end_time": "2022-04-01T12:16:39.193897",
     "exception": false,
     "start_time": "2022-04-01T12:16:39.156932",
     "status": "completed"
    },
    "tags": []
   },
   "outputs": [],
   "source": [
    "#hide\n",
    "# g['continent'] = g.country"
   ]
  },
  {
   "cell_type": "code",
   "execution_count": 28,
   "id": "substantial-wilderness",
   "metadata": {
    "execution": {
     "iopub.execute_input": "2022-04-01T12:16:39.265359Z",
     "iopub.status.busy": "2022-04-01T12:16:39.264822Z",
     "iopub.status.idle": "2022-04-01T12:16:39.266468Z",
     "shell.execute_reply": "2022-04-01T12:16:39.266834Z"
    },
    "papermill": {
     "duration": 0.036711,
     "end_time": "2022-04-01T12:16:39.266943",
     "exception": false,
     "start_time": "2022-04-01T12:16:39.230232",
     "status": "completed"
    },
    "tags": []
   },
   "outputs": [],
   "source": [
    "#hide\n",
    "# cols = list(g.columns.values)"
   ]
  },
  {
   "cell_type": "code",
   "execution_count": 29,
   "id": "solved-farming",
   "metadata": {
    "execution": {
     "iopub.execute_input": "2022-04-01T12:16:39.337438Z",
     "iopub.status.busy": "2022-04-01T12:16:39.336914Z",
     "iopub.status.idle": "2022-04-01T12:16:39.338991Z",
     "shell.execute_reply": "2022-04-01T12:16:39.338608Z"
    },
    "papermill": {
     "duration": 0.036594,
     "end_time": "2022-04-01T12:16:39.339087",
     "exception": false,
     "start_time": "2022-04-01T12:16:39.302493",
     "status": "completed"
    },
    "tags": []
   },
   "outputs": [],
   "source": [
    "#hide\n",
    "# cols.insert(0, cols.pop())"
   ]
  },
  {
   "cell_type": "code",
   "execution_count": 30,
   "id": "executed-adoption",
   "metadata": {
    "execution": {
     "iopub.execute_input": "2022-04-01T12:16:39.410487Z",
     "iopub.status.busy": "2022-04-01T12:16:39.409988Z",
     "iopub.status.idle": "2022-04-01T12:16:39.412191Z",
     "shell.execute_reply": "2022-04-01T12:16:39.411799Z"
    },
    "papermill": {
     "duration": 0.04108,
     "end_time": "2022-04-01T12:16:39.412293",
     "exception": false,
     "start_time": "2022-04-01T12:16:39.371213",
     "status": "completed"
    },
    "tags": []
   },
   "outputs": [],
   "source": [
    "#hide\n",
    "# g = g[cols]"
   ]
  },
  {
   "cell_type": "code",
   "execution_count": 31,
   "id": "subject-dublin",
   "metadata": {
    "execution": {
     "iopub.execute_input": "2022-04-01T12:16:39.479402Z",
     "iopub.status.busy": "2022-04-01T12:16:39.478889Z",
     "iopub.status.idle": "2022-04-01T12:16:39.480714Z",
     "shell.execute_reply": "2022-04-01T12:16:39.481078Z"
    },
    "papermill": {
     "duration": 0.036852,
     "end_time": "2022-04-01T12:16:39.481217",
     "exception": false,
     "start_time": "2022-04-01T12:16:39.444365",
     "status": "completed"
    },
    "tags": []
   },
   "outputs": [],
   "source": [
    "#hide\n",
    "# g['continent'] = g['continent'].map(mapping['map.continent'])"
   ]
  },
  {
   "cell_type": "code",
   "execution_count": 32,
   "id": "freelance-scout",
   "metadata": {
    "execution": {
     "iopub.execute_input": "2022-04-01T12:16:39.552583Z",
     "iopub.status.busy": "2022-04-01T12:16:39.552072Z",
     "iopub.status.idle": "2022-04-01T12:16:39.553766Z",
     "shell.execute_reply": "2022-04-01T12:16:39.554134Z"
    },
    "papermill": {
     "duration": 0.03672,
     "end_time": "2022-04-01T12:16:39.554243",
     "exception": false,
     "start_time": "2022-04-01T12:16:39.517523",
     "status": "completed"
    },
    "tags": []
   },
   "outputs": [],
   "source": [
    "#hide\n",
    "# g.head()"
   ]
  },
  {
   "cell_type": "code",
   "execution_count": 33,
   "id": "limited-engine",
   "metadata": {
    "execution": {
     "iopub.execute_input": "2022-04-01T12:16:39.621622Z",
     "iopub.status.busy": "2022-04-01T12:16:39.621089Z",
     "iopub.status.idle": "2022-04-01T12:16:39.623159Z",
     "shell.execute_reply": "2022-04-01T12:16:39.622764Z"
    },
    "papermill": {
     "duration": 0.03709,
     "end_time": "2022-04-01T12:16:39.623257",
     "exception": false,
     "start_time": "2022-04-01T12:16:39.586167",
     "status": "completed"
    },
    "tags": []
   },
   "outputs": [],
   "source": [
    "# hide\n",
    "# g['date'] = g['date'].astype('datetime64[ns]')"
   ]
  },
  {
   "cell_type": "code",
   "execution_count": 34,
   "id": "sophisticated-supervisor",
   "metadata": {
    "execution": {
     "iopub.execute_input": "2022-04-01T12:16:39.690804Z",
     "iopub.status.busy": "2022-04-01T12:16:39.690299Z",
     "iopub.status.idle": "2022-04-01T12:16:39.692295Z",
     "shell.execute_reply": "2022-04-01T12:16:39.691911Z"
    },
    "papermill": {
     "duration": 0.036853,
     "end_time": "2022-04-01T12:16:39.692391",
     "exception": false,
     "start_time": "2022-04-01T12:16:39.655538",
     "status": "completed"
    },
    "tags": []
   },
   "outputs": [],
   "source": [
    "#hide\n",
    "# g['date'] = g.date.dt.dayofyear"
   ]
  },
  {
   "cell_type": "code",
   "execution_count": 35,
   "id": "inside-dubai",
   "metadata": {
    "execution": {
     "iopub.execute_input": "2022-04-01T12:16:39.759243Z",
     "iopub.status.busy": "2022-04-01T12:16:39.758758Z",
     "iopub.status.idle": "2022-04-01T12:16:39.760411Z",
     "shell.execute_reply": "2022-04-01T12:16:39.760791Z"
    },
    "papermill": {
     "duration": 0.03658,
     "end_time": "2022-04-01T12:16:39.760898",
     "exception": false,
     "start_time": "2022-04-01T12:16:39.724318",
     "status": "completed"
    },
    "tags": []
   },
   "outputs": [],
   "source": [
    "#hide\n",
    "# g = g.rename(columns= {'continent':'group','country':'name','cases':'value'})"
   ]
  },
  {
   "cell_type": "code",
   "execution_count": 36,
   "id": "fleet-motorcycle",
   "metadata": {
    "execution": {
     "iopub.execute_input": "2022-04-01T12:16:39.828015Z",
     "iopub.status.busy": "2022-04-01T12:16:39.827530Z",
     "iopub.status.idle": "2022-04-01T12:16:39.829299Z",
     "shell.execute_reply": "2022-04-01T12:16:39.829664Z"
    },
    "papermill": {
     "duration": 0.036877,
     "end_time": "2022-04-01T12:16:39.829774",
     "exception": false,
     "start_time": "2022-04-01T12:16:39.792897",
     "status": "completed"
    },
    "tags": []
   },
   "outputs": [],
   "source": [
    "#hide\n",
    "# cols = ['name','group','day','value']"
   ]
  },
  {
   "cell_type": "code",
   "execution_count": 37,
   "id": "continued-sleeping",
   "metadata": {
    "execution": {
     "iopub.execute_input": "2022-04-01T12:16:39.902377Z",
     "iopub.status.busy": "2022-04-01T12:16:39.901871Z",
     "iopub.status.idle": "2022-04-01T12:16:39.903376Z",
     "shell.execute_reply": "2022-04-01T12:16:39.903769Z"
    },
    "papermill": {
     "duration": 0.042061,
     "end_time": "2022-04-01T12:16:39.903879",
     "exception": false,
     "start_time": "2022-04-01T12:16:39.861818",
     "status": "completed"
    },
    "tags": []
   },
   "outputs": [],
   "source": [
    "#hide\n",
    "# g.rename(columns= {'date':'day'},inplace = True)"
   ]
  },
  {
   "cell_type": "code",
   "execution_count": 38,
   "id": "major-fight",
   "metadata": {
    "execution": {
     "iopub.execute_input": "2022-04-01T12:16:39.971926Z",
     "iopub.status.busy": "2022-04-01T12:16:39.971398Z",
     "iopub.status.idle": "2022-04-01T12:16:39.972886Z",
     "shell.execute_reply": "2022-04-01T12:16:39.973296Z"
    },
    "papermill": {
     "duration": 0.03731,
     "end_time": "2022-04-01T12:16:39.973414",
     "exception": false,
     "start_time": "2022-04-01T12:16:39.936104",
     "status": "completed"
    },
    "tags": []
   },
   "outputs": [],
   "source": [
    "#hide\n",
    "# g = g[cols]"
   ]
  },
  {
   "cell_type": "code",
   "execution_count": 39,
   "id": "structured-mobile",
   "metadata": {
    "execution": {
     "iopub.execute_input": "2022-04-01T12:16:40.045682Z",
     "iopub.status.busy": "2022-04-01T12:16:40.045152Z",
     "iopub.status.idle": "2022-04-01T12:16:40.047305Z",
     "shell.execute_reply": "2022-04-01T12:16:40.046913Z"
    },
    "papermill": {
     "duration": 0.037359,
     "end_time": "2022-04-01T12:16:40.047405",
     "exception": false,
     "start_time": "2022-04-01T12:16:40.010046",
     "status": "completed"
    },
    "tags": []
   },
   "outputs": [],
   "source": [
    "# #hide\n",
    "# g = g[g.group.notna()]"
   ]
  },
  {
   "cell_type": "code",
   "execution_count": 40,
   "id": "determined-closing",
   "metadata": {
    "execution": {
     "iopub.execute_input": "2022-04-01T12:16:40.115595Z",
     "iopub.status.busy": "2022-04-01T12:16:40.115073Z",
     "iopub.status.idle": "2022-04-01T12:16:40.118463Z",
     "shell.execute_reply": "2022-04-01T12:16:40.118064Z"
    },
    "papermill": {
     "duration": 0.038835,
     "end_time": "2022-04-01T12:16:40.118563",
     "exception": false,
     "start_time": "2022-04-01T12:16:40.079728",
     "status": "completed"
    },
    "tags": []
   },
   "outputs": [],
   "source": [
    "# #hide\n",
    "# colors = dict(zip(\n",
    "#     [\"Oceania\", \"Europe\", \"Asia\", \"South America\", \"Middle East\", \"North America\", \"Africa\"],\n",
    "#     [\"#adb0ff\", \"#ffb3ff\", \"#90d595\", \"#e48381\", \"#aafbff\", \"#f7bb5f\", \"#eafb50\"]\n",
    "# ))\n",
    "# group_lk = g.set_index('name')['group'].to_dict()"
   ]
  },
  {
   "cell_type": "code",
   "execution_count": null,
   "id": "gross-drinking",
   "metadata": {
    "papermill": {
     "duration": 0.03196,
     "end_time": "2022-04-01T12:16:40.182439",
     "exception": false,
     "start_time": "2022-04-01T12:16:40.150479",
     "status": "completed"
    },
    "tags": []
   },
   "outputs": [],
   "source": []
  },
  {
   "cell_type": "code",
   "execution_count": 41,
   "id": "subject-macintosh",
   "metadata": {
    "execution": {
     "iopub.execute_input": "2022-04-01T12:16:40.250105Z",
     "iopub.status.busy": "2022-04-01T12:16:40.249608Z",
     "iopub.status.idle": "2022-04-01T12:16:40.251882Z",
     "shell.execute_reply": "2022-04-01T12:16:40.251491Z"
    },
    "papermill": {
     "duration": 0.037363,
     "end_time": "2022-04-01T12:16:40.251982",
     "exception": false,
     "start_time": "2022-04-01T12:16:40.214619",
     "status": "completed"
    },
    "tags": []
   },
   "outputs": [],
   "source": [
    "# #hide\n",
    "# fig, ax = plt.subplots(figsize=(15, 8))\n",
    "\n",
    "# def draw_barchart(current_day):\n",
    "#     dff = g[g['day'].eq(current_day)].sort_values(by='value', ascending=True).tail(10)\n",
    "#     ax.clear()\n",
    "#     ax.barh(dff['name'], dff['value'], color=[colors[group_lk[x]] for x in dff['name']])\n",
    "#     dx = dff['value'].max() / 200\n",
    "    \n",
    "#     for i, (value, name) in enumerate(zip(dff['value'], dff['name'])):\n",
    "#         ax.text(value-dx, i,     name,           size=14, weight=600, ha='right', va='bottom')\n",
    "#         ax.text(value-dx, i-.25, group_lk[name], size=10, color='#444444', ha='right', va='baseline')\n",
    "#         ax.text(value+dx, i,     f'{value:,.0f}',  size=14, ha='left',  va='center')\n",
    "#     ax.text(1, 0.4, current_day, transform=ax.transAxes, color='#777777', size=46, ha='right', weight=800)\n",
    "#     ax.text(0, 1.06, 'Population (thousands)', transform=ax.transAxes, size=12, color='#777777')\n",
    "#     ax.xaxis.set_major_formatter(ticker.StrMethodFormatter('{x:,.0f}'))\n",
    "#     ax.xaxis.set_ticks_position('top')\n",
    "#     ax.tick_params(axis='x', colors='#777777', labelsize=12)\n",
    "#     ax.set_yticks([])\n",
    "#     ax.margins(0, 0.01)\n",
    "#     ax.grid(which='major', axis='x', linestyle='-')\n",
    "#     ax.set_axisbelow(True)\n",
    "    \n",
    "#     ax.text(0, 1.15, 'Coronavirus',\n",
    "#             transform=ax.transAxes, size=24, weight=600, ha='left', va='top')\n",
    "# #     ax.text(1, 0, 'by @pratapvardhan; credit @jburnmurdoch', transform=ax.transAxes, color='#777777', ha='right',\n",
    "# #             bbox=dict(facecolor='white', alpha=0.8, edgecolor='white'))\n",
    "#     plt.box(False)"
   ]
  },
  {
   "cell_type": "code",
   "execution_count": 42,
   "id": "sexual-wages",
   "metadata": {
    "execution": {
     "iopub.execute_input": "2022-04-01T12:16:40.318921Z",
     "iopub.status.busy": "2022-04-01T12:16:40.318404Z",
     "iopub.status.idle": "2022-04-01T12:16:40.320172Z",
     "shell.execute_reply": "2022-04-01T12:16:40.320540Z"
    },
    "papermill": {
     "duration": 0.036819,
     "end_time": "2022-04-01T12:16:40.320651",
     "exception": false,
     "start_time": "2022-04-01T12:16:40.283832",
     "status": "completed"
    },
    "tags": []
   },
   "outputs": [],
   "source": [
    "# #hide_input\n",
    "# fig, ax = plt.subplots(figsize=(15, 8))\n",
    "# animator = animation.FuncAnimation(fig, draw_barchart, frames=range(g.day.values.min(), g.day.values.max()))\n",
    "# HTML(animator.to_jshtml())\n",
    "# # or use animator.to_html5_video() or animator.save() "
   ]
  },
  {
   "cell_type": "code",
   "execution_count": null,
   "id": "australian-container",
   "metadata": {
    "papermill": {
     "duration": 0.031925,
     "end_time": "2022-04-01T12:16:40.384705",
     "exception": false,
     "start_time": "2022-04-01T12:16:40.352780",
     "status": "completed"
    },
    "tags": []
   },
   "outputs": [],
   "source": []
  },
  {
   "cell_type": "code",
   "execution_count": null,
   "id": "mediterranean-pontiac",
   "metadata": {
    "papermill": {
     "duration": 0.031764,
     "end_time": "2022-04-01T12:16:40.452622",
     "exception": false,
     "start_time": "2022-04-01T12:16:40.420858",
     "status": "completed"
    },
    "tags": []
   },
   "outputs": [],
   "source": []
  },
  {
   "cell_type": "code",
   "execution_count": null,
   "id": "aging-legislature",
   "metadata": {
    "papermill": {
     "duration": 0.031776,
     "end_time": "2022-04-01T12:16:40.516712",
     "exception": false,
     "start_time": "2022-04-01T12:16:40.484936",
     "status": "completed"
    },
    "tags": []
   },
   "outputs": [],
   "source": []
  }
 ],
 "metadata": {
  "kernelspec": {
   "display_name": "Python 3",
   "language": "python",
   "name": "python3"
  },
  "language_info": {
   "codemirror_mode": {
    "name": "ipython",
    "version": 3
   },
   "file_extension": ".py",
   "mimetype": "text/x-python",
   "name": "python",
   "nbconvert_exporter": "python",
   "pygments_lexer": "ipython3",
   "version": "3.6.15"
  },
  "papermill": {
   "duration": 6.152793,
   "end_time": "2022-04-01T12:16:40.865710",
   "environment_variables": {},
   "exception": null,
   "input_path": "2020-03-21-covid19exp.ipynb",
   "output_path": "2020-03-21-covid19exp.ipynb",
   "parameters": {},
   "start_time": "2022-04-01T12:16:34.712917",
   "version": "2.0.0"
  }
 },
 "nbformat": 4,
 "nbformat_minor": 5
}