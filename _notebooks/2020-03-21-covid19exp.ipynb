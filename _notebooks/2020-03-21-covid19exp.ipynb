{
 "cells": [
  {
   "cell_type": "markdown",
   "id": "muslim-click",
   "metadata": {
    "papermill": {
     "duration": 0.035219,
     "end_time": "2022-08-21T12:14:45.371957",
     "exception": false,
     "start_time": "2022-08-21T12:14:45.336738",
     "status": "completed"
    },
    "tags": []
   },
   "source": [
    "# COVID-19 Case Race\n",
    "> A race chart to see rising cases around the world\n",
    "\n",
    "- author: Hargun Oberoi\n",
    "- image: images/covid-overview.png\n",
    "- hide: false\n",
    "- badges: false"
   ]
  },
  {
   "cell_type": "code",
   "execution_count": 1,
   "id": "proof-material",
   "metadata": {
    "execution": {
     "iopub.execute_input": "2022-08-21T12:14:45.441010Z",
     "iopub.status.busy": "2022-08-21T12:14:45.440407Z",
     "iopub.status.idle": "2022-08-21T12:14:45.761560Z",
     "shell.execute_reply": "2022-08-21T12:14:45.760981Z"
    },
    "papermill": {
     "duration": 0.360101,
     "end_time": "2022-08-21T12:14:45.761713",
     "exception": false,
     "start_time": "2022-08-21T12:14:45.401612",
     "status": "completed"
    },
    "tags": []
   },
   "outputs": [],
   "source": [
    "#hide\n",
    "import numpy as np\n",
    "import pandas as pd\n",
    "from jinja2 import Template\n",
    "from IPython.display import HTML"
   ]
  },
  {
   "cell_type": "code",
   "execution_count": 2,
   "id": "developed-terminology",
   "metadata": {
    "execution": {
     "iopub.execute_input": "2022-08-21T12:14:45.825825Z",
     "iopub.status.busy": "2022-08-21T12:14:45.825202Z",
     "iopub.status.idle": "2022-08-21T12:14:45.827571Z",
     "shell.execute_reply": "2022-08-21T12:14:45.826991Z"
    },
    "papermill": {
     "duration": 0.036236,
     "end_time": "2022-08-21T12:14:45.827681",
     "exception": false,
     "start_time": "2022-08-21T12:14:45.791445",
     "status": "completed"
    },
    "tags": []
   },
   "outputs": [],
   "source": [
    "#hide\n",
    "\n",
    "# FETCH\n",
    "base_url = 'https://raw.githubusercontent.com/pratapvardhan/notebooks/master/covid19/'\n",
    "paths = {\n",
    "    'mapping': base_url + 'mapping_countries.csv',\n",
    "    'overview': base_url + 'overview.tpl'\n",
    "}"
   ]
  },
  {
   "cell_type": "code",
   "execution_count": 3,
   "id": "dynamic-saver",
   "metadata": {
    "execution": {
     "iopub.execute_input": "2022-08-21T12:14:45.895650Z",
     "iopub.status.busy": "2022-08-21T12:14:45.895063Z",
     "iopub.status.idle": "2022-08-21T12:14:45.898222Z",
     "shell.execute_reply": "2022-08-21T12:14:45.898796Z"
    },
    "papermill": {
     "duration": 0.042342,
     "end_time": "2022-08-21T12:14:45.898925",
     "exception": false,
     "start_time": "2022-08-21T12:14:45.856583",
     "status": "completed"
    },
    "tags": []
   },
   "outputs": [
    {
     "data": {
      "text/plain": [
       "'https://raw.githubusercontent.com/pratapvardhan/notebooks/master/covid19/mapping_countries.csv'"
      ]
     },
     "execution_count": 3,
     "metadata": {},
     "output_type": "execute_result"
    }
   ],
   "source": [
    "#hide\n",
    "paths['mapping']"
   ]
  },
  {
   "cell_type": "code",
   "execution_count": 4,
   "id": "urban-software",
   "metadata": {
    "execution": {
     "iopub.execute_input": "2022-08-21T12:14:45.962418Z",
     "iopub.status.busy": "2022-08-21T12:14:45.961758Z",
     "iopub.status.idle": "2022-08-21T12:14:45.964339Z",
     "shell.execute_reply": "2022-08-21T12:14:45.963808Z"
    },
    "papermill": {
     "duration": 0.036241,
     "end_time": "2022-08-21T12:14:45.964452",
     "exception": false,
     "start_time": "2022-08-21T12:14:45.928211",
     "status": "completed"
    },
    "tags": []
   },
   "outputs": [],
   "source": [
    "#hide\n",
    "def get_mappings(url):\n",
    "    df = pd.read_csv(url)\n",
    "    return {\n",
    "        'df': df,\n",
    "        'replace.country': dict(df.dropna(subset=['Name']).set_index('Country')['Name']),\n",
    "        'map.continent': dict(df.set_index('Name')['Continent'])\n",
    "    }"
   ]
  },
  {
   "cell_type": "code",
   "execution_count": 5,
   "id": "intimate-machinery",
   "metadata": {
    "execution": {
     "iopub.execute_input": "2022-08-21T12:14:46.028773Z",
     "iopub.status.busy": "2022-08-21T12:14:46.028184Z",
     "iopub.status.idle": "2022-08-21T12:14:46.055367Z",
     "shell.execute_reply": "2022-08-21T12:14:46.054666Z"
    },
    "papermill": {
     "duration": 0.06156,
     "end_time": "2022-08-21T12:14:46.055491",
     "exception": false,
     "start_time": "2022-08-21T12:14:45.993931",
     "status": "completed"
    },
    "tags": []
   },
   "outputs": [],
   "source": [
    "#hide\n",
    "mapping = get_mappings(paths['mapping'])"
   ]
  },
  {
   "cell_type": "code",
   "execution_count": 6,
   "id": "certified-tactics",
   "metadata": {
    "execution": {
     "iopub.execute_input": "2022-08-21T12:14:46.120696Z",
     "iopub.status.busy": "2022-08-21T12:14:46.120102Z",
     "iopub.status.idle": "2022-08-21T12:14:46.122415Z",
     "shell.execute_reply": "2022-08-21T12:14:46.123001Z"
    },
    "papermill": {
     "duration": 0.037555,
     "end_time": "2022-08-21T12:14:46.123130",
     "exception": false,
     "start_time": "2022-08-21T12:14:46.085575",
     "status": "completed"
    },
    "tags": []
   },
   "outputs": [],
   "source": [
    "#hide\n",
    "def get_template(path):\n",
    "    from urllib.parse import urlparse\n",
    "    if bool(urlparse(path).netloc):\n",
    "        from urllib.request import urlopen\n",
    "        return urlopen(path).read().decode('utf8')\n",
    "    return open(path).read()"
   ]
  },
  {
   "cell_type": "code",
   "execution_count": 7,
   "id": "realistic-blast",
   "metadata": {
    "execution": {
     "iopub.execute_input": "2022-08-21T12:14:46.186480Z",
     "iopub.status.busy": "2022-08-21T12:14:46.185889Z",
     "iopub.status.idle": "2022-08-21T12:14:46.188739Z",
     "shell.execute_reply": "2022-08-21T12:14:46.188292Z"
    },
    "papermill": {
     "duration": 0.03664,
     "end_time": "2022-08-21T12:14:46.188848",
     "exception": false,
     "start_time": "2022-08-21T12:14:46.152208",
     "status": "completed"
    },
    "tags": []
   },
   "outputs": [],
   "source": [
    "#hide\n",
    "def get_frame(name):\n",
    "    url = (\n",
    "        'https://raw.githubusercontent.com/CSSEGISandData/COVID-19/master/csse_covid_19_data/'\n",
    "        f'csse_covid_19_time_series/time_series_covid19_{name}_global.csv')\n",
    "    df = pd.read_csv(url)\n",
    "    # rename countries\n",
    "    df['Country/Region'] = df['Country/Region'].replace(mapping['replace.country'])\n",
    "    return df"
   ]
  },
  {
   "cell_type": "code",
   "execution_count": 8,
   "id": "affiliated-characterization",
   "metadata": {
    "execution": {
     "iopub.execute_input": "2022-08-21T12:14:46.252935Z",
     "iopub.status.busy": "2022-08-21T12:14:46.252352Z",
     "iopub.status.idle": "2022-08-21T12:14:46.254765Z",
     "shell.execute_reply": "2022-08-21T12:14:46.255327Z"
    },
    "papermill": {
     "duration": 0.03725,
     "end_time": "2022-08-21T12:14:46.255445",
     "exception": false,
     "start_time": "2022-08-21T12:14:46.218195",
     "status": "completed"
    },
    "tags": []
   },
   "outputs": [],
   "source": [
    "#hide\n",
    "def get_dates(df):\n",
    "    dt_cols = df.columns[~df.columns.isin(['Province/State', 'Country/Region', 'Lat', 'Long'])]\n",
    "    LAST_DATE_I = -1\n",
    "    # sometimes last column may be empty, then go backwards\n",
    "    for i in range(-1, -len(dt_cols), -1):\n",
    "        if not df[dt_cols[i]].fillna(0).eq(0).all():\n",
    "            LAST_DATE_I = i\n",
    "            break\n",
    "    return LAST_DATE_I, dt_cols"
   ]
  },
  {
   "cell_type": "code",
   "execution_count": 9,
   "id": "recent-optimization",
   "metadata": {
    "execution": {
     "iopub.execute_input": "2022-08-21T12:14:46.318502Z",
     "iopub.status.busy": "2022-08-21T12:14:46.317908Z",
     "iopub.status.idle": "2022-08-21T12:14:46.679902Z",
     "shell.execute_reply": "2022-08-21T12:14:46.679186Z"
    },
    "papermill": {
     "duration": 0.395528,
     "end_time": "2022-08-21T12:14:46.680032",
     "exception": false,
     "start_time": "2022-08-21T12:14:46.284504",
     "status": "completed"
    },
    "tags": []
   },
   "outputs": [],
   "source": [
    "#hide\n",
    "COL_REGION = 'Country/Region'\n",
    "# Confirmed, Recovered, Deaths\n",
    "df = get_frame('confirmed')\n",
    "# dft_: timeseries, dfc_: today country agg\n",
    "dft_cases = df\n",
    "dft_deaths = get_frame('deaths')\n",
    "dft_recovered = get_frame('recovered')\n",
    "LAST_DATE_I, dt_cols = get_dates(df)"
   ]
  },
  {
   "cell_type": "code",
   "execution_count": 10,
   "id": "absolute-copper",
   "metadata": {
    "execution": {
     "iopub.execute_input": "2022-08-21T12:14:46.745646Z",
     "iopub.status.busy": "2022-08-21T12:14:46.745046Z",
     "iopub.status.idle": "2022-08-21T12:14:46.747620Z",
     "shell.execute_reply": "2022-08-21T12:14:46.747141Z"
    },
    "papermill": {
     "duration": 0.036767,
     "end_time": "2022-08-21T12:14:46.747727",
     "exception": false,
     "start_time": "2022-08-21T12:14:46.710960",
     "status": "completed"
    },
    "tags": []
   },
   "outputs": [],
   "source": [
    "#hide\n",
    "LAST_DATE_I, dt_cols = get_dates(df)\n",
    "dt_today =dt_cols[LAST_DATE_I]\n",
    "# dt_5day = dt_cols[LAST_DATE_I - 5]\n",
    "dt_yday = dt_cols[LAST_DATE_I - 1]"
   ]
  },
  {
   "cell_type": "code",
   "execution_count": 11,
   "id": "restricted-sheriff",
   "metadata": {
    "execution": {
     "iopub.execute_input": "2022-08-21T12:14:46.814790Z",
     "iopub.status.busy": "2022-08-21T12:14:46.814180Z",
     "iopub.status.idle": "2022-08-21T12:14:46.818942Z",
     "shell.execute_reply": "2022-08-21T12:14:46.819421Z"
    },
    "papermill": {
     "duration": 0.042429,
     "end_time": "2022-08-21T12:14:46.819541",
     "exception": false,
     "start_time": "2022-08-21T12:14:46.777112",
     "status": "completed"
    },
    "tags": []
   },
   "outputs": [],
   "source": [
    "#hide\n",
    "dfc_cases = dft_cases.groupby(COL_REGION)[dt_today].sum()\n",
    "dfc_deaths = dft_deaths.groupby(COL_REGION)[dt_today].sum()\n",
    "# dfp_cases = dft_cases.groupby(COL_REGION)[dt_5day].sum()\n",
    "# dfp_deaths = dft_deaths.groupby(COL_REGION)[dt_5day].sum()\n",
    "dfp_cases = dft_cases.groupby(COL_REGION)[dt_yday].sum()\n",
    "dfp_deaths = dft_deaths.groupby(COL_REGION)[dt_yday].sum()"
   ]
  },
  {
   "cell_type": "code",
   "execution_count": 12,
   "id": "deluxe-hepatitis",
   "metadata": {
    "execution": {
     "iopub.execute_input": "2022-08-21T12:14:46.883399Z",
     "iopub.status.busy": "2022-08-21T12:14:46.882820Z",
     "iopub.status.idle": "2022-08-21T12:14:46.888133Z",
     "shell.execute_reply": "2022-08-21T12:14:46.887662Z"
    },
    "papermill": {
     "duration": 0.039626,
     "end_time": "2022-08-21T12:14:46.888237",
     "exception": false,
     "start_time": "2022-08-21T12:14:46.848611",
     "status": "completed"
    },
    "tags": []
   },
   "outputs": [],
   "source": [
    "#hide\n",
    "df_table = (pd.DataFrame(dict(Cases = dfc_cases, Deaths = dfc_deaths, PCases = dfp_cases, PDeaths = dfp_deaths))\n",
    "            .sort_values(by = ['Cases','Deaths'], ascending = [False, False])\n",
    "            .reset_index())"
   ]
  },
  {
   "cell_type": "code",
   "execution_count": 13,
   "id": "educational-chancellor",
   "metadata": {
    "execution": {
     "iopub.execute_input": "2022-08-21T12:14:46.964972Z",
     "iopub.status.busy": "2022-08-21T12:14:46.964362Z",
     "iopub.status.idle": "2022-08-21T12:14:46.972192Z",
     "shell.execute_reply": "2022-08-21T12:14:46.971722Z"
    },
    "papermill": {
     "duration": 0.055066,
     "end_time": "2022-08-21T12:14:46.972307",
     "exception": false,
     "start_time": "2022-08-21T12:14:46.917241",
     "status": "completed"
    },
    "tags": []
   },
   "outputs": [
    {
     "data": {
      "text/html": [
       "<div>\n",
       "<style scoped>\n",
       "    .dataframe tbody tr th:only-of-type {\n",
       "        vertical-align: middle;\n",
       "    }\n",
       "\n",
       "    .dataframe tbody tr th {\n",
       "        vertical-align: top;\n",
       "    }\n",
       "\n",
       "    .dataframe thead th {\n",
       "        text-align: right;\n",
       "    }\n",
       "</style>\n",
       "<table border=\"1\" class=\"dataframe\">\n",
       "  <thead>\n",
       "    <tr style=\"text-align: right;\">\n",
       "      <th></th>\n",
       "      <th>Country/Region</th>\n",
       "      <th>Cases</th>\n",
       "      <th>Deaths</th>\n",
       "      <th>PCases</th>\n",
       "      <th>PDeaths</th>\n",
       "      <th>Cases (+)</th>\n",
       "      <th>Deaths (+)</th>\n",
       "      <th>Fatality Rate</th>\n",
       "      <th>Continent</th>\n",
       "    </tr>\n",
       "  </thead>\n",
       "  <tbody>\n",
       "    <tr>\n",
       "      <th>0</th>\n",
       "      <td>US</td>\n",
       "      <td>93634408</td>\n",
       "      <td>1041141</td>\n",
       "      <td>93500945</td>\n",
       "      <td>1040355</td>\n",
       "      <td>133463</td>\n",
       "      <td>786</td>\n",
       "      <td>1.11</td>\n",
       "      <td>North America</td>\n",
       "    </tr>\n",
       "    <tr>\n",
       "      <th>1</th>\n",
       "      <td>India</td>\n",
       "      <td>44339429</td>\n",
       "      <td>527332</td>\n",
       "      <td>44327890</td>\n",
       "      <td>527289</td>\n",
       "      <td>11539</td>\n",
       "      <td>43</td>\n",
       "      <td>1.19</td>\n",
       "      <td>Asia</td>\n",
       "    </tr>\n",
       "    <tr>\n",
       "      <th>2</th>\n",
       "      <td>France</td>\n",
       "      <td>34535255</td>\n",
       "      <td>154541</td>\n",
       "      <td>34535255</td>\n",
       "      <td>154541</td>\n",
       "      <td>0</td>\n",
       "      <td>0</td>\n",
       "      <td>0.45</td>\n",
       "      <td>Europe</td>\n",
       "    </tr>\n",
       "    <tr>\n",
       "      <th>3</th>\n",
       "      <td>Brazil</td>\n",
       "      <td>34264237</td>\n",
       "      <td>682358</td>\n",
       "      <td>34264237</td>\n",
       "      <td>682358</td>\n",
       "      <td>0</td>\n",
       "      <td>0</td>\n",
       "      <td>1.99</td>\n",
       "      <td>South America</td>\n",
       "    </tr>\n",
       "    <tr>\n",
       "      <th>4</th>\n",
       "      <td>Germany</td>\n",
       "      <td>31808179</td>\n",
       "      <td>146504</td>\n",
       "      <td>31808179</td>\n",
       "      <td>146504</td>\n",
       "      <td>0</td>\n",
       "      <td>0</td>\n",
       "      <td>0.46</td>\n",
       "      <td>Europe</td>\n",
       "    </tr>\n",
       "  </tbody>\n",
       "</table>\n",
       "</div>"
      ],
      "text/plain": [
       "  Country/Region     Cases   Deaths    PCases  PDeaths  Cases (+)  Deaths (+)  \\\n",
       "0             US  93634408  1041141  93500945  1040355     133463         786   \n",
       "1          India  44339429   527332  44327890   527289      11539          43   \n",
       "2         France  34535255   154541  34535255   154541          0           0   \n",
       "3         Brazil  34264237   682358  34264237   682358          0           0   \n",
       "4        Germany  31808179   146504  31808179   146504          0           0   \n",
       "\n",
       "   Fatality Rate      Continent  \n",
       "0           1.11  North America  \n",
       "1           1.19           Asia  \n",
       "2           0.45         Europe  \n",
       "3           1.99  South America  \n",
       "4           0.46         Europe  "
      ]
     },
     "execution_count": 13,
     "metadata": {},
     "output_type": "execute_result"
    }
   ],
   "source": [
    "#hide\n",
    "for c in 'Cases, Deaths'.split(', '):\n",
    "    df_table[f'{c} (+)'] = (df_table[c] - df_table[f'P{c}']).clip(0)\n",
    "    #Clip ça veut dire, les chiffres negatif sont interdit\n",
    "df_table['Fatality Rate'] = (100* df_table['Deaths']/ df_table['Cases']).round(2)\n",
    "df_table['Continent'] = df_table['Country/Region'].map(mapping['map.continent'])\n",
    "df_table.head(5)"
   ]
  },
  {
   "cell_type": "code",
   "execution_count": 14,
   "id": "aboriginal-bulgaria",
   "metadata": {
    "execution": {
     "iopub.execute_input": "2022-08-21T12:14:47.037280Z",
     "iopub.status.busy": "2022-08-21T12:14:47.036706Z",
     "iopub.status.idle": "2022-08-21T12:14:47.040940Z",
     "shell.execute_reply": "2022-08-21T12:14:47.040469Z"
    },
    "papermill": {
     "duration": 0.038835,
     "end_time": "2022-08-21T12:14:47.041047",
     "exception": false,
     "start_time": "2022-08-21T12:14:47.002212",
     "status": "completed"
    },
    "tags": []
   },
   "outputs": [],
   "source": [
    "#hide\n",
    "#delete problematic countries from table\n",
    "df_table = df_table[~df_table['Country/Region'].isin(['Cape Verde', 'Cruise Ship', 'Kosovo'])]"
   ]
  },
  {
   "cell_type": "code",
   "execution_count": 15,
   "id": "fantastic-effect",
   "metadata": {
    "execution": {
     "iopub.execute_input": "2022-08-21T12:14:47.108160Z",
     "iopub.status.busy": "2022-08-21T12:14:47.107585Z",
     "iopub.status.idle": "2022-08-21T12:14:47.124981Z",
     "shell.execute_reply": "2022-08-21T12:14:47.125487Z"
    },
    "papermill": {
     "duration": 0.055071,
     "end_time": "2022-08-21T12:14:47.125624",
     "exception": false,
     "start_time": "2022-08-21T12:14:47.070553",
     "status": "completed"
    },
    "tags": []
   },
   "outputs": [
    {
     "data": {
      "text/html": [
       "<div>\n",
       "<style scoped>\n",
       "    .dataframe tbody tr th:only-of-type {\n",
       "        vertical-align: middle;\n",
       "    }\n",
       "\n",
       "    .dataframe tbody tr th {\n",
       "        vertical-align: top;\n",
       "    }\n",
       "\n",
       "    .dataframe thead th {\n",
       "        text-align: right;\n",
       "    }\n",
       "</style>\n",
       "<table border=\"1\" class=\"dataframe\">\n",
       "  <thead>\n",
       "    <tr style=\"text-align: right;\">\n",
       "      <th></th>\n",
       "      <th>Country/Region</th>\n",
       "      <th>Cases</th>\n",
       "      <th>Deaths</th>\n",
       "      <th>PCases</th>\n",
       "      <th>PDeaths</th>\n",
       "      <th>Cases (+)</th>\n",
       "      <th>Deaths (+)</th>\n",
       "      <th>Fatality Rate</th>\n",
       "      <th>Continent</th>\n",
       "    </tr>\n",
       "  </thead>\n",
       "  <tbody>\n",
       "    <tr>\n",
       "      <th>0</th>\n",
       "      <td>US</td>\n",
       "      <td>93634408</td>\n",
       "      <td>1041141</td>\n",
       "      <td>93500945</td>\n",
       "      <td>1040355</td>\n",
       "      <td>133463</td>\n",
       "      <td>786</td>\n",
       "      <td>1.1</td>\n",
       "      <td>North America</td>\n",
       "    </tr>\n",
       "    <tr>\n",
       "      <th>1</th>\n",
       "      <td>India</td>\n",
       "      <td>44339429</td>\n",
       "      <td>527332</td>\n",
       "      <td>44327890</td>\n",
       "      <td>527289</td>\n",
       "      <td>11539</td>\n",
       "      <td>43</td>\n",
       "      <td>1.2</td>\n",
       "      <td>Asia</td>\n",
       "    </tr>\n",
       "    <tr>\n",
       "      <th>2</th>\n",
       "      <td>France</td>\n",
       "      <td>34535255</td>\n",
       "      <td>154541</td>\n",
       "      <td>34535255</td>\n",
       "      <td>154541</td>\n",
       "      <td>0</td>\n",
       "      <td>0</td>\n",
       "      <td>0.4</td>\n",
       "      <td>Europe</td>\n",
       "    </tr>\n",
       "    <tr>\n",
       "      <th>3</th>\n",
       "      <td>Brazil</td>\n",
       "      <td>34264237</td>\n",
       "      <td>682358</td>\n",
       "      <td>34264237</td>\n",
       "      <td>682358</td>\n",
       "      <td>0</td>\n",
       "      <td>0</td>\n",
       "      <td>2.0</td>\n",
       "      <td>South America</td>\n",
       "    </tr>\n",
       "    <tr>\n",
       "      <th>4</th>\n",
       "      <td>Germany</td>\n",
       "      <td>31808179</td>\n",
       "      <td>146504</td>\n",
       "      <td>31808179</td>\n",
       "      <td>146504</td>\n",
       "      <td>0</td>\n",
       "      <td>0</td>\n",
       "      <td>0.5</td>\n",
       "      <td>Europe</td>\n",
       "    </tr>\n",
       "  </tbody>\n",
       "</table>\n",
       "</div>"
      ],
      "text/plain": [
       "  Country/Region     Cases   Deaths    PCases  PDeaths  Cases (+)  Deaths (+)  \\\n",
       "0             US  93634408  1041141  93500945  1040355     133463         786   \n",
       "1          India  44339429   527332  44327890   527289      11539          43   \n",
       "2         France  34535255   154541  34535255   154541          0           0   \n",
       "3         Brazil  34264237   682358  34264237   682358          0           0   \n",
       "4        Germany  31808179   146504  31808179   146504          0           0   \n",
       "\n",
       "   Fatality Rate      Continent  \n",
       "0            1.1  North America  \n",
       "1            1.2           Asia  \n",
       "2            0.4         Europe  \n",
       "3            2.0  South America  \n",
       "4            0.5         Europe  "
      ]
     },
     "execution_count": 15,
     "metadata": {},
     "output_type": "execute_result"
    }
   ],
   "source": [
    "#hide\n",
    "df_table = (pd.DataFrame(dict(Cases=dfc_cases, Deaths=dfc_deaths, PCases=dfp_cases, PDeaths=dfp_deaths))\n",
    "             .sort_values(by=['Cases', 'Deaths'], ascending=[False, False])\n",
    "             .reset_index())\n",
    "df_table.rename(columns={'index': 'Country/Region'}, inplace=True)\n",
    "for c in 'Cases, Deaths'.split(', '):\n",
    "    df_table[f'{c} (+)'] = (df_table[c] - df_table[f'P{c}']).clip(0)  # DATA BUG\n",
    "df_table['Fatality Rate'] = (100 * df_table['Deaths'] / df_table['Cases']).round(1)\n",
    "df_table['Continent'] = df_table['Country/Region'].map(mapping['map.continent'])\n",
    "df_table.head(5)"
   ]
  },
  {
   "cell_type": "code",
   "execution_count": 16,
   "id": "fewer-occasion",
   "metadata": {
    "execution": {
     "iopub.execute_input": "2022-08-21T12:14:47.191958Z",
     "iopub.status.busy": "2022-08-21T12:14:47.191377Z",
     "iopub.status.idle": "2022-08-21T12:14:47.194142Z",
     "shell.execute_reply": "2022-08-21T12:14:47.193673Z"
    },
    "papermill": {
     "duration": 0.038026,
     "end_time": "2022-08-21T12:14:47.194249",
     "exception": false,
     "start_time": "2022-08-21T12:14:47.156223",
     "status": "completed"
    },
    "tags": []
   },
   "outputs": [],
   "source": [
    "#hide\n",
    "#delete problematic countries from table\n",
    "df_table = df_table[~df_table['Country/Region'].isin(['Cape Verde', 'Cruise Ship', 'Kosovo'])]"
   ]
  },
  {
   "cell_type": "code",
   "execution_count": 17,
   "id": "related-center",
   "metadata": {
    "execution": {
     "iopub.execute_input": "2022-08-21T12:14:47.281428Z",
     "iopub.status.busy": "2022-08-21T12:14:47.280502Z",
     "iopub.status.idle": "2022-08-21T12:14:47.297307Z",
     "shell.execute_reply": "2022-08-21T12:14:47.296206Z"
    },
    "papermill": {
     "duration": 0.073158,
     "end_time": "2022-08-21T12:14:47.297428",
     "exception": false,
     "start_time": "2022-08-21T12:14:47.224270",
     "status": "completed"
    },
    "tags": []
   },
   "outputs": [],
   "source": [
    "#hide\n",
    "metrics = [df_table.columns[index] for index in [1,2,5,6]]\n",
    "# s_china = df_table[df_table['Country/Region'].eq('China')][metrics].sum().add_prefix('China ')\n",
    "s_us = df_table[df_table['Country/Region'].eq('US')][metrics].sum().add_prefix('US ')\n",
    "s_eu = df_table[df_table['Continent'].eq('Europe')][metrics].sum().add_prefix('EU ')\n",
    "s_ind = df_table[df_table['Country/Region'].eq('India')][metrics].sum().add_prefix('India ')\n",
    "summary = {'updated': pd.to_datetime(dt_today), 'since': pd.to_datetime(dt_yday)}\n",
    "summary = {'updated': pd.to_datetime(dt_today), 'since': pd.to_datetime(dt_yday)}\n",
    "summary = {**summary, **df_table[metrics].sum(), **s_ind, **s_us, **s_eu}"
   ]
  },
  {
   "cell_type": "code",
   "execution_count": 18,
   "id": "engaging-syndrome",
   "metadata": {
    "execution": {
     "iopub.execute_input": "2022-08-21T12:14:47.414032Z",
     "iopub.status.busy": "2022-08-21T12:14:47.413442Z",
     "iopub.status.idle": "2022-08-21T12:14:47.434396Z",
     "shell.execute_reply": "2022-08-21T12:14:47.433907Z"
    },
    "papermill": {
     "duration": 0.061431,
     "end_time": "2022-08-21T12:14:47.434510",
     "exception": false,
     "start_time": "2022-08-21T12:14:47.373079",
     "status": "completed"
    },
    "tags": []
   },
   "outputs": [],
   "source": [
    "#hide\n",
    "dft_ct_new_cases = dft_cases.groupby(COL_REGION)[dt_cols].sum().diff(axis=1).fillna(0).astype(int)"
   ]
  },
  {
   "cell_type": "code",
   "execution_count": 19,
   "id": "neutral-assignment",
   "metadata": {
    "execution": {
     "iopub.execute_input": "2022-08-21T12:14:47.525369Z",
     "iopub.status.busy": "2022-08-21T12:14:47.524760Z",
     "iopub.status.idle": "2022-08-21T12:14:47.527225Z",
     "shell.execute_reply": "2022-08-21T12:14:47.526733Z"
    },
    "papermill": {
     "duration": 0.053438,
     "end_time": "2022-08-21T12:14:47.527337",
     "exception": false,
     "start_time": "2022-08-21T12:14:47.473899",
     "status": "completed"
    },
    "tags": []
   },
   "outputs": [],
   "source": [
    "#hide\n",
    "everydaycases = dft_ct_new_cases.cumsum(axis=1)"
   ]
  },
  {
   "cell_type": "code",
   "execution_count": 20,
   "id": "parliamentary-calgary",
   "metadata": {
    "execution": {
     "iopub.execute_input": "2022-08-21T12:14:47.625455Z",
     "iopub.status.busy": "2022-08-21T12:14:47.619567Z",
     "iopub.status.idle": "2022-08-21T12:14:48.179291Z",
     "shell.execute_reply": "2022-08-21T12:14:48.178313Z"
    },
    "papermill": {
     "duration": 0.604087,
     "end_time": "2022-08-21T12:14:48.179421",
     "exception": false,
     "start_time": "2022-08-21T12:14:47.575334",
     "status": "completed"
    },
    "tags": []
   },
   "outputs": [],
   "source": [
    "#hide\n",
    "import pandas as pd\n",
    "import matplotlib.pyplot as plt\n",
    "import matplotlib.ticker as ticker\n",
    "import matplotlib.animation as animation\n",
    "from IPython.display import HTML"
   ]
  },
  {
   "cell_type": "code",
   "execution_count": 21,
   "id": "lasting-extraction",
   "metadata": {
    "execution": {
     "iopub.execute_input": "2022-08-21T12:14:48.247101Z",
     "iopub.status.busy": "2022-08-21T12:14:48.246478Z",
     "iopub.status.idle": "2022-08-21T12:14:48.254393Z",
     "shell.execute_reply": "2022-08-21T12:14:48.254865Z"
    },
    "papermill": {
     "duration": 0.045074,
     "end_time": "2022-08-21T12:14:48.254995",
     "exception": false,
     "start_time": "2022-08-21T12:14:48.209921",
     "status": "completed"
    },
    "tags": []
   },
   "outputs": [],
   "source": [
    "#hide\n",
    "t = everydaycases.stack()"
   ]
  },
  {
   "cell_type": "code",
   "execution_count": 22,
   "id": "premier-sleeve",
   "metadata": {
    "execution": {
     "iopub.execute_input": "2022-08-21T12:14:48.321338Z",
     "iopub.status.busy": "2022-08-21T12:14:48.320759Z",
     "iopub.status.idle": "2022-08-21T12:14:48.332786Z",
     "shell.execute_reply": "2022-08-21T12:14:48.333296Z"
    },
    "papermill": {
     "duration": 0.048089,
     "end_time": "2022-08-21T12:14:48.333437",
     "exception": false,
     "start_time": "2022-08-21T12:14:48.285348",
     "status": "completed"
    },
    "tags": []
   },
   "outputs": [],
   "source": [
    "#hide\n",
    "g = t.reset_index(['Country/Region'])"
   ]
  },
  {
   "cell_type": "code",
   "execution_count": 23,
   "id": "distributed-pittsburgh",
   "metadata": {
    "execution": {
     "iopub.execute_input": "2022-08-21T12:14:48.398649Z",
     "iopub.status.busy": "2022-08-21T12:14:48.397985Z",
     "iopub.status.idle": "2022-08-21T12:14:48.402833Z",
     "shell.execute_reply": "2022-08-21T12:14:48.402156Z"
    },
    "papermill": {
     "duration": 0.038496,
     "end_time": "2022-08-21T12:14:48.402953",
     "exception": false,
     "start_time": "2022-08-21T12:14:48.364457",
     "status": "completed"
    },
    "tags": []
   },
   "outputs": [],
   "source": [
    "#hide\n",
    "g.index.name = 'date'"
   ]
  },
  {
   "cell_type": "code",
   "execution_count": 24,
   "id": "naked-donor",
   "metadata": {
    "execution": {
     "iopub.execute_input": "2022-08-21T12:14:48.467133Z",
     "iopub.status.busy": "2022-08-21T12:14:48.466441Z",
     "iopub.status.idle": "2022-08-21T12:14:48.470120Z",
     "shell.execute_reply": "2022-08-21T12:14:48.469613Z"
    },
    "papermill": {
     "duration": 0.037157,
     "end_time": "2022-08-21T12:14:48.470238",
     "exception": false,
     "start_time": "2022-08-21T12:14:48.433081",
     "status": "completed"
    },
    "tags": []
   },
   "outputs": [],
   "source": [
    "# #hide\n",
    "# g = g.reset_index(['date'])"
   ]
  },
  {
   "cell_type": "code",
   "execution_count": 25,
   "id": "incomplete-mustang",
   "metadata": {
    "execution": {
     "iopub.execute_input": "2022-08-21T12:14:48.534559Z",
     "iopub.status.busy": "2022-08-21T12:14:48.533906Z",
     "iopub.status.idle": "2022-08-21T12:14:48.538320Z",
     "shell.execute_reply": "2022-08-21T12:14:48.537828Z"
    },
    "papermill": {
     "duration": 0.03752,
     "end_time": "2022-08-21T12:14:48.538426",
     "exception": false,
     "start_time": "2022-08-21T12:14:48.500906",
     "status": "completed"
    },
    "tags": []
   },
   "outputs": [],
   "source": [
    "#hide\n",
    "# g.head()"
   ]
  },
  {
   "cell_type": "code",
   "execution_count": 26,
   "id": "specific-kruger",
   "metadata": {
    "execution": {
     "iopub.execute_input": "2022-08-21T12:14:48.602246Z",
     "iopub.status.busy": "2022-08-21T12:14:48.601593Z",
     "iopub.status.idle": "2022-08-21T12:14:48.605763Z",
     "shell.execute_reply": "2022-08-21T12:14:48.605291Z"
    },
    "papermill": {
     "duration": 0.037466,
     "end_time": "2022-08-21T12:14:48.605868",
     "exception": false,
     "start_time": "2022-08-21T12:14:48.568402",
     "status": "completed"
    },
    "tags": []
   },
   "outputs": [],
   "source": [
    "#hide\n",
    "# g.columns = ['date','country','cases']"
   ]
  },
  {
   "cell_type": "code",
   "execution_count": 27,
   "id": "tender-conversion",
   "metadata": {
    "execution": {
     "iopub.execute_input": "2022-08-21T12:14:48.669625Z",
     "iopub.status.busy": "2022-08-21T12:14:48.669011Z",
     "iopub.status.idle": "2022-08-21T12:14:48.673041Z",
     "shell.execute_reply": "2022-08-21T12:14:48.672570Z"
    },
    "papermill": {
     "duration": 0.037393,
     "end_time": "2022-08-21T12:14:48.673143",
     "exception": false,
     "start_time": "2022-08-21T12:14:48.635750",
     "status": "completed"
    },
    "tags": []
   },
   "outputs": [],
   "source": [
    "#hide\n",
    "# g['continent'] = g.country"
   ]
  },
  {
   "cell_type": "code",
   "execution_count": 28,
   "id": "substantial-wilderness",
   "metadata": {
    "execution": {
     "iopub.execute_input": "2022-08-21T12:14:48.739595Z",
     "iopub.status.busy": "2022-08-21T12:14:48.738910Z",
     "iopub.status.idle": "2022-08-21T12:14:48.742151Z",
     "shell.execute_reply": "2022-08-21T12:14:48.741574Z"
    },
    "papermill": {
     "duration": 0.03802,
     "end_time": "2022-08-21T12:14:48.742260",
     "exception": false,
     "start_time": "2022-08-21T12:14:48.704240",
     "status": "completed"
    },
    "tags": []
   },
   "outputs": [],
   "source": [
    "#hide\n",
    "# cols = list(g.columns.values)"
   ]
  },
  {
   "cell_type": "code",
   "execution_count": 29,
   "id": "solved-farming",
   "metadata": {
    "execution": {
     "iopub.execute_input": "2022-08-21T12:14:48.806265Z",
     "iopub.status.busy": "2022-08-21T12:14:48.805594Z",
     "iopub.status.idle": "2022-08-21T12:14:48.809210Z",
     "shell.execute_reply": "2022-08-21T12:14:48.809726Z"
    },
    "papermill": {
     "duration": 0.037554,
     "end_time": "2022-08-21T12:14:48.809867",
     "exception": false,
     "start_time": "2022-08-21T12:14:48.772313",
     "status": "completed"
    },
    "tags": []
   },
   "outputs": [],
   "source": [
    "#hide\n",
    "# cols.insert(0, cols.pop())"
   ]
  },
  {
   "cell_type": "code",
   "execution_count": 30,
   "id": "executed-adoption",
   "metadata": {
    "execution": {
     "iopub.execute_input": "2022-08-21T12:14:48.874234Z",
     "iopub.status.busy": "2022-08-21T12:14:48.873629Z",
     "iopub.status.idle": "2022-08-21T12:14:48.877977Z",
     "shell.execute_reply": "2022-08-21T12:14:48.878394Z"
    },
    "papermill": {
     "duration": 0.038218,
     "end_time": "2022-08-21T12:14:48.878520",
     "exception": false,
     "start_time": "2022-08-21T12:14:48.840302",
     "status": "completed"
    },
    "tags": []
   },
   "outputs": [],
   "source": [
    "#hide\n",
    "# g = g[cols]"
   ]
  },
  {
   "cell_type": "code",
   "execution_count": 31,
   "id": "subject-dublin",
   "metadata": {
    "execution": {
     "iopub.execute_input": "2022-08-21T12:14:48.944180Z",
     "iopub.status.busy": "2022-08-21T12:14:48.942552Z",
     "iopub.status.idle": "2022-08-21T12:14:48.944939Z",
     "shell.execute_reply": "2022-08-21T12:14:48.945436Z"
    },
    "papermill": {
     "duration": 0.036985,
     "end_time": "2022-08-21T12:14:48.945574",
     "exception": false,
     "start_time": "2022-08-21T12:14:48.908589",
     "status": "completed"
    },
    "tags": []
   },
   "outputs": [],
   "source": [
    "#hide\n",
    "# g['continent'] = g['continent'].map(mapping['map.continent'])"
   ]
  },
  {
   "cell_type": "code",
   "execution_count": 32,
   "id": "freelance-scout",
   "metadata": {
    "execution": {
     "iopub.execute_input": "2022-08-21T12:14:49.009739Z",
     "iopub.status.busy": "2022-08-21T12:14:49.009077Z",
     "iopub.status.idle": "2022-08-21T12:14:49.012932Z",
     "shell.execute_reply": "2022-08-21T12:14:49.013408Z"
    },
    "papermill": {
     "duration": 0.037893,
     "end_time": "2022-08-21T12:14:49.013551",
     "exception": false,
     "start_time": "2022-08-21T12:14:48.975658",
     "status": "completed"
    },
    "tags": []
   },
   "outputs": [],
   "source": [
    "#hide\n",
    "# g.head()"
   ]
  },
  {
   "cell_type": "code",
   "execution_count": 33,
   "id": "limited-engine",
   "metadata": {
    "execution": {
     "iopub.execute_input": "2022-08-21T12:14:49.078998Z",
     "iopub.status.busy": "2022-08-21T12:14:49.078357Z",
     "iopub.status.idle": "2022-08-21T12:14:49.080812Z",
     "shell.execute_reply": "2022-08-21T12:14:49.080341Z"
    },
    "papermill": {
     "duration": 0.036313,
     "end_time": "2022-08-21T12:14:49.080923",
     "exception": false,
     "start_time": "2022-08-21T12:14:49.044610",
     "status": "completed"
    },
    "tags": []
   },
   "outputs": [],
   "source": [
    "# hide\n",
    "# g['date'] = g['date'].astype('datetime64[ns]')"
   ]
  },
  {
   "cell_type": "code",
   "execution_count": 34,
   "id": "sophisticated-supervisor",
   "metadata": {
    "execution": {
     "iopub.execute_input": "2022-08-21T12:14:49.145576Z",
     "iopub.status.busy": "2022-08-21T12:14:49.144909Z",
     "iopub.status.idle": "2022-08-21T12:14:49.148503Z",
     "shell.execute_reply": "2022-08-21T12:14:49.149011Z"
    },
    "papermill": {
     "duration": 0.037989,
     "end_time": "2022-08-21T12:14:49.149159",
     "exception": false,
     "start_time": "2022-08-21T12:14:49.111170",
     "status": "completed"
    },
    "tags": []
   },
   "outputs": [],
   "source": [
    "#hide\n",
    "# g['date'] = g.date.dt.dayofyear"
   ]
  },
  {
   "cell_type": "code",
   "execution_count": 35,
   "id": "inside-dubai",
   "metadata": {
    "execution": {
     "iopub.execute_input": "2022-08-21T12:14:49.212664Z",
     "iopub.status.busy": "2022-08-21T12:14:49.212064Z",
     "iopub.status.idle": "2022-08-21T12:14:49.214292Z",
     "shell.execute_reply": "2022-08-21T12:14:49.214873Z"
    },
    "papermill": {
     "duration": 0.035909,
     "end_time": "2022-08-21T12:14:49.215000",
     "exception": false,
     "start_time": "2022-08-21T12:14:49.179091",
     "status": "completed"
    },
    "tags": []
   },
   "outputs": [],
   "source": [
    "#hide\n",
    "# g = g.rename(columns= {'continent':'group','country':'name','cases':'value'})"
   ]
  },
  {
   "cell_type": "code",
   "execution_count": 36,
   "id": "fleet-motorcycle",
   "metadata": {
    "execution": {
     "iopub.execute_input": "2022-08-21T12:14:49.279509Z",
     "iopub.status.busy": "2022-08-21T12:14:49.278831Z",
     "iopub.status.idle": "2022-08-21T12:14:49.281343Z",
     "shell.execute_reply": "2022-08-21T12:14:49.280811Z"
    },
    "papermill": {
     "duration": 0.036359,
     "end_time": "2022-08-21T12:14:49.281449",
     "exception": false,
     "start_time": "2022-08-21T12:14:49.245090",
     "status": "completed"
    },
    "tags": []
   },
   "outputs": [],
   "source": [
    "#hide\n",
    "# cols = ['name','group','day','value']"
   ]
  },
  {
   "cell_type": "code",
   "execution_count": 37,
   "id": "continued-sleeping",
   "metadata": {
    "execution": {
     "iopub.execute_input": "2022-08-21T12:14:49.345777Z",
     "iopub.status.busy": "2022-08-21T12:14:49.345100Z",
     "iopub.status.idle": "2022-08-21T12:14:49.347703Z",
     "shell.execute_reply": "2022-08-21T12:14:49.347193Z"
    },
    "papermill": {
     "duration": 0.036273,
     "end_time": "2022-08-21T12:14:49.347829",
     "exception": false,
     "start_time": "2022-08-21T12:14:49.311556",
     "status": "completed"
    },
    "tags": []
   },
   "outputs": [],
   "source": [
    "#hide\n",
    "# g.rename(columns= {'date':'day'},inplace = True)"
   ]
  },
  {
   "cell_type": "code",
   "execution_count": 38,
   "id": "major-fight",
   "metadata": {
    "execution": {
     "iopub.execute_input": "2022-08-21T12:14:49.412150Z",
     "iopub.status.busy": "2022-08-21T12:14:49.411490Z",
     "iopub.status.idle": "2022-08-21T12:14:49.413868Z",
     "shell.execute_reply": "2022-08-21T12:14:49.413257Z"
    },
    "papermill": {
     "duration": 0.035585,
     "end_time": "2022-08-21T12:14:49.413976",
     "exception": false,
     "start_time": "2022-08-21T12:14:49.378391",
     "status": "completed"
    },
    "tags": []
   },
   "outputs": [],
   "source": [
    "#hide\n",
    "# g = g[cols]"
   ]
  },
  {
   "cell_type": "code",
   "execution_count": 39,
   "id": "structured-mobile",
   "metadata": {
    "execution": {
     "iopub.execute_input": "2022-08-21T12:14:49.477561Z",
     "iopub.status.busy": "2022-08-21T12:14:49.476980Z",
     "iopub.status.idle": "2022-08-21T12:14:49.479186Z",
     "shell.execute_reply": "2022-08-21T12:14:49.479737Z"
    },
    "papermill": {
     "duration": 0.03599,
     "end_time": "2022-08-21T12:14:49.479858",
     "exception": false,
     "start_time": "2022-08-21T12:14:49.443868",
     "status": "completed"
    },
    "tags": []
   },
   "outputs": [],
   "source": [
    "# #hide\n",
    "# g = g[g.group.notna()]"
   ]
  },
  {
   "cell_type": "code",
   "execution_count": 40,
   "id": "determined-closing",
   "metadata": {
    "execution": {
     "iopub.execute_input": "2022-08-21T12:14:49.544572Z",
     "iopub.status.busy": "2022-08-21T12:14:49.543908Z",
     "iopub.status.idle": "2022-08-21T12:14:49.547911Z",
     "shell.execute_reply": "2022-08-21T12:14:49.548330Z"
    },
    "papermill": {
     "duration": 0.038139,
     "end_time": "2022-08-21T12:14:49.548453",
     "exception": false,
     "start_time": "2022-08-21T12:14:49.510314",
     "status": "completed"
    },
    "tags": []
   },
   "outputs": [],
   "source": [
    "# #hide\n",
    "# colors = dict(zip(\n",
    "#     [\"Oceania\", \"Europe\", \"Asia\", \"South America\", \"Middle East\", \"North America\", \"Africa\"],\n",
    "#     [\"#adb0ff\", \"#ffb3ff\", \"#90d595\", \"#e48381\", \"#aafbff\", \"#f7bb5f\", \"#eafb50\"]\n",
    "# ))\n",
    "# group_lk = g.set_index('name')['group'].to_dict()"
   ]
  },
  {
   "cell_type": "code",
   "execution_count": null,
   "id": "gross-drinking",
   "metadata": {
    "papermill": {
     "duration": 0.029871,
     "end_time": "2022-08-21T12:14:49.609250",
     "exception": false,
     "start_time": "2022-08-21T12:14:49.579379",
     "status": "completed"
    },
    "tags": []
   },
   "outputs": [],
   "source": []
  },
  {
   "cell_type": "code",
   "execution_count": 41,
   "id": "subject-macintosh",
   "metadata": {
    "execution": {
     "iopub.execute_input": "2022-08-21T12:14:49.674875Z",
     "iopub.status.busy": "2022-08-21T12:14:49.674118Z",
     "iopub.status.idle": "2022-08-21T12:14:49.676497Z",
     "shell.execute_reply": "2022-08-21T12:14:49.675855Z"
    },
    "papermill": {
     "duration": 0.037018,
     "end_time": "2022-08-21T12:14:49.676615",
     "exception": false,
     "start_time": "2022-08-21T12:14:49.639597",
     "status": "completed"
    },
    "tags": []
   },
   "outputs": [],
   "source": [
    "# #hide\n",
    "# fig, ax = plt.subplots(figsize=(15, 8))\n",
    "\n",
    "# def draw_barchart(current_day):\n",
    "#     dff = g[g['day'].eq(current_day)].sort_values(by='value', ascending=True).tail(10)\n",
    "#     ax.clear()\n",
    "#     ax.barh(dff['name'], dff['value'], color=[colors[group_lk[x]] for x in dff['name']])\n",
    "#     dx = dff['value'].max() / 200\n",
    "    \n",
    "#     for i, (value, name) in enumerate(zip(dff['value'], dff['name'])):\n",
    "#         ax.text(value-dx, i,     name,           size=14, weight=600, ha='right', va='bottom')\n",
    "#         ax.text(value-dx, i-.25, group_lk[name], size=10, color='#444444', ha='right', va='baseline')\n",
    "#         ax.text(value+dx, i,     f'{value:,.0f}',  size=14, ha='left',  va='center')\n",
    "#     ax.text(1, 0.4, current_day, transform=ax.transAxes, color='#777777', size=46, ha='right', weight=800)\n",
    "#     ax.text(0, 1.06, 'Population (thousands)', transform=ax.transAxes, size=12, color='#777777')\n",
    "#     ax.xaxis.set_major_formatter(ticker.StrMethodFormatter('{x:,.0f}'))\n",
    "#     ax.xaxis.set_ticks_position('top')\n",
    "#     ax.tick_params(axis='x', colors='#777777', labelsize=12)\n",
    "#     ax.set_yticks([])\n",
    "#     ax.margins(0, 0.01)\n",
    "#     ax.grid(which='major', axis='x', linestyle='-')\n",
    "#     ax.set_axisbelow(True)\n",
    "    \n",
    "#     ax.text(0, 1.15, 'Coronavirus',\n",
    "#             transform=ax.transAxes, size=24, weight=600, ha='left', va='top')\n",
    "# #     ax.text(1, 0, 'by @pratapvardhan; credit @jburnmurdoch', transform=ax.transAxes, color='#777777', ha='right',\n",
    "# #             bbox=dict(facecolor='white', alpha=0.8, edgecolor='white'))\n",
    "#     plt.box(False)"
   ]
  },
  {
   "cell_type": "code",
   "execution_count": 42,
   "id": "sexual-wages",
   "metadata": {
    "execution": {
     "iopub.execute_input": "2022-08-21T12:14:49.743651Z",
     "iopub.status.busy": "2022-08-21T12:14:49.743071Z",
     "iopub.status.idle": "2022-08-21T12:14:49.745616Z",
     "shell.execute_reply": "2022-08-21T12:14:49.746037Z"
    },
    "papermill": {
     "duration": 0.038392,
     "end_time": "2022-08-21T12:14:49.746161",
     "exception": false,
     "start_time": "2022-08-21T12:14:49.707769",
     "status": "completed"
    },
    "tags": []
   },
   "outputs": [],
   "source": [
    "# #hide_input\n",
    "# fig, ax = plt.subplots(figsize=(15, 8))\n",
    "# animator = animation.FuncAnimation(fig, draw_barchart, frames=range(g.day.values.min(), g.day.values.max()))\n",
    "# HTML(animator.to_jshtml())\n",
    "# # or use animator.to_html5_video() or animator.save() "
   ]
  },
  {
   "cell_type": "code",
   "execution_count": null,
   "id": "australian-container",
   "metadata": {
    "papermill": {
     "duration": 0.029979,
     "end_time": "2022-08-21T12:14:49.806196",
     "exception": false,
     "start_time": "2022-08-21T12:14:49.776217",
     "status": "completed"
    },
    "tags": []
   },
   "outputs": [],
   "source": []
  },
  {
   "cell_type": "code",
   "execution_count": null,
   "id": "mediterranean-pontiac",
   "metadata": {
    "papermill": {
     "duration": 0.030058,
     "end_time": "2022-08-21T12:14:49.866367",
     "exception": false,
     "start_time": "2022-08-21T12:14:49.836309",
     "status": "completed"
    },
    "tags": []
   },
   "outputs": [],
   "source": []
  },
  {
   "cell_type": "code",
   "execution_count": null,
   "id": "aging-legislature",
   "metadata": {
    "papermill": {
     "duration": 0.030038,
     "end_time": "2022-08-21T12:14:49.926597",
     "exception": false,
     "start_time": "2022-08-21T12:14:49.896559",
     "status": "completed"
    },
    "tags": []
   },
   "outputs": [],
   "source": []
  }
 ],
 "metadata": {
  "kernelspec": {
   "display_name": "Python 3",
   "language": "python",
   "name": "python3"
  },
  "language_info": {
   "codemirror_mode": {
    "name": "ipython",
    "version": 3
   },
   "file_extension": ".py",
   "mimetype": "text/x-python",
   "name": "python",
   "nbconvert_exporter": "python",
   "pygments_lexer": "ipython3",
   "version": "3.6.15"
  },
  "papermill": {
   "duration": 5.883886,
   "end_time": "2022-08-21T12:14:50.276735",
   "environment_variables": {},
   "exception": null,
   "input_path": "2020-03-21-covid19exp.ipynb",
   "output_path": "2020-03-21-covid19exp.ipynb",
   "parameters": {},
   "start_time": "2022-08-21T12:14:44.392849",
   "version": "2.0.0"
  }
 },
 "nbformat": 4,
 "nbformat_minor": 5
}