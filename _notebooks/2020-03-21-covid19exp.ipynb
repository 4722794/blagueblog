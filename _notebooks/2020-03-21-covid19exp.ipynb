{
 "cells": [
  {
   "cell_type": "markdown",
   "id": "muslim-click",
   "metadata": {
    "papermill": {
     "duration": 0.033749,
     "end_time": "2022-03-24T12:14:48.687607",
     "exception": false,
     "start_time": "2022-03-24T12:14:48.653858",
     "status": "completed"
    },
    "tags": []
   },
   "source": [
    "# COVID-19 Case Race\n",
    "> A race chart to see rising cases around the world\n",
    "\n",
    "- author: Hargun Oberoi\n",
    "- image: images/covid-overview.png\n",
    "- hide: false\n",
    "- badges: false"
   ]
  },
  {
   "cell_type": "code",
   "execution_count": 1,
   "id": "proof-material",
   "metadata": {
    "execution": {
     "iopub.execute_input": "2022-03-24T12:14:48.757299Z",
     "iopub.status.busy": "2022-03-24T12:14:48.756734Z",
     "iopub.status.idle": "2022-03-24T12:14:49.073130Z",
     "shell.execute_reply": "2022-03-24T12:14:49.072550Z"
    },
    "papermill": {
     "duration": 0.354536,
     "end_time": "2022-03-24T12:14:49.073293",
     "exception": false,
     "start_time": "2022-03-24T12:14:48.718757",
     "status": "completed"
    },
    "tags": []
   },
   "outputs": [],
   "source": [
    "#hide\n",
    "import numpy as np\n",
    "import pandas as pd\n",
    "from jinja2 import Template\n",
    "from IPython.display import HTML"
   ]
  },
  {
   "cell_type": "code",
   "execution_count": 2,
   "id": "developed-terminology",
   "metadata": {
    "execution": {
     "iopub.execute_input": "2022-03-24T12:14:49.138662Z",
     "iopub.status.busy": "2022-03-24T12:14:49.137450Z",
     "iopub.status.idle": "2022-03-24T12:14:49.139253Z",
     "shell.execute_reply": "2022-03-24T12:14:49.139654Z"
    },
    "papermill": {
     "duration": 0.036421,
     "end_time": "2022-03-24T12:14:49.139772",
     "exception": false,
     "start_time": "2022-03-24T12:14:49.103351",
     "status": "completed"
    },
    "tags": []
   },
   "outputs": [],
   "source": [
    "#hide\n",
    "\n",
    "# FETCH\n",
    "base_url = 'https://raw.githubusercontent.com/pratapvardhan/notebooks/master/covid19/'\n",
    "paths = {\n",
    "    'mapping': base_url + 'mapping_countries.csv',\n",
    "    'overview': base_url + 'overview.tpl'\n",
    "}"
   ]
  },
  {
   "cell_type": "code",
   "execution_count": 3,
   "id": "dynamic-saver",
   "metadata": {
    "execution": {
     "iopub.execute_input": "2022-03-24T12:14:49.208807Z",
     "iopub.status.busy": "2022-03-24T12:14:49.208294Z",
     "iopub.status.idle": "2022-03-24T12:14:49.211501Z",
     "shell.execute_reply": "2022-03-24T12:14:49.211072Z"
    },
    "papermill": {
     "duration": 0.042375,
     "end_time": "2022-03-24T12:14:49.211606",
     "exception": false,
     "start_time": "2022-03-24T12:14:49.169231",
     "status": "completed"
    },
    "tags": []
   },
   "outputs": [
    {
     "data": {
      "text/plain": [
       "'https://raw.githubusercontent.com/pratapvardhan/notebooks/master/covid19/mapping_countries.csv'"
      ]
     },
     "execution_count": 3,
     "metadata": {},
     "output_type": "execute_result"
    }
   ],
   "source": [
    "#hide\n",
    "paths['mapping']"
   ]
  },
  {
   "cell_type": "code",
   "execution_count": 4,
   "id": "urban-software",
   "metadata": {
    "execution": {
     "iopub.execute_input": "2022-03-24T12:14:49.276515Z",
     "iopub.status.busy": "2022-03-24T12:14:49.275921Z",
     "iopub.status.idle": "2022-03-24T12:14:49.278077Z",
     "shell.execute_reply": "2022-03-24T12:14:49.277590Z"
    },
    "papermill": {
     "duration": 0.036759,
     "end_time": "2022-03-24T12:14:49.278194",
     "exception": false,
     "start_time": "2022-03-24T12:14:49.241435",
     "status": "completed"
    },
    "tags": []
   },
   "outputs": [],
   "source": [
    "#hide\n",
    "def get_mappings(url):\n",
    "    df = pd.read_csv(url)\n",
    "    return {\n",
    "        'df': df,\n",
    "        'replace.country': dict(df.dropna(subset=['Name']).set_index('Country')['Name']),\n",
    "        'map.continent': dict(df.set_index('Name')['Continent'])\n",
    "    }"
   ]
  },
  {
   "cell_type": "code",
   "execution_count": 5,
   "id": "intimate-machinery",
   "metadata": {
    "execution": {
     "iopub.execute_input": "2022-03-24T12:14:49.342770Z",
     "iopub.status.busy": "2022-03-24T12:14:49.342253Z",
     "iopub.status.idle": "2022-03-24T12:14:49.402334Z",
     "shell.execute_reply": "2022-03-24T12:14:49.401866Z"
    },
    "papermill": {
     "duration": 0.094267,
     "end_time": "2022-03-24T12:14:49.402455",
     "exception": false,
     "start_time": "2022-03-24T12:14:49.308188",
     "status": "completed"
    },
    "tags": []
   },
   "outputs": [],
   "source": [
    "#hide\n",
    "mapping = get_mappings(paths['mapping'])"
   ]
  },
  {
   "cell_type": "code",
   "execution_count": 6,
   "id": "certified-tactics",
   "metadata": {
    "execution": {
     "iopub.execute_input": "2022-03-24T12:14:49.466649Z",
     "iopub.status.busy": "2022-03-24T12:14:49.466145Z",
     "iopub.status.idle": "2022-03-24T12:14:49.468101Z",
     "shell.execute_reply": "2022-03-24T12:14:49.468479Z"
    },
    "papermill": {
     "duration": 0.036302,
     "end_time": "2022-03-24T12:14:49.468596",
     "exception": false,
     "start_time": "2022-03-24T12:14:49.432294",
     "status": "completed"
    },
    "tags": []
   },
   "outputs": [],
   "source": [
    "#hide\n",
    "def get_template(path):\n",
    "    from urllib.parse import urlparse\n",
    "    if bool(urlparse(path).netloc):\n",
    "        from urllib.request import urlopen\n",
    "        return urlopen(path).read().decode('utf8')\n",
    "    return open(path).read()"
   ]
  },
  {
   "cell_type": "code",
   "execution_count": 7,
   "id": "realistic-blast",
   "metadata": {
    "execution": {
     "iopub.execute_input": "2022-03-24T12:14:49.534289Z",
     "iopub.status.busy": "2022-03-24T12:14:49.533706Z",
     "iopub.status.idle": "2022-03-24T12:14:49.535911Z",
     "shell.execute_reply": "2022-03-24T12:14:49.535483Z"
    },
    "papermill": {
     "duration": 0.03577,
     "end_time": "2022-03-24T12:14:49.536010",
     "exception": false,
     "start_time": "2022-03-24T12:14:49.500240",
     "status": "completed"
    },
    "tags": []
   },
   "outputs": [],
   "source": [
    "#hide\n",
    "def get_frame(name):\n",
    "    url = (\n",
    "        'https://raw.githubusercontent.com/CSSEGISandData/COVID-19/master/csse_covid_19_data/'\n",
    "        f'csse_covid_19_time_series/time_series_covid19_{name}_global.csv')\n",
    "    df = pd.read_csv(url)\n",
    "    # rename countries\n",
    "    df['Country/Region'] = df['Country/Region'].replace(mapping['replace.country'])\n",
    "    return df"
   ]
  },
  {
   "cell_type": "code",
   "execution_count": 8,
   "id": "affiliated-characterization",
   "metadata": {
    "execution": {
     "iopub.execute_input": "2022-03-24T12:14:49.600941Z",
     "iopub.status.busy": "2022-03-24T12:14:49.600334Z",
     "iopub.status.idle": "2022-03-24T12:14:49.602480Z",
     "shell.execute_reply": "2022-03-24T12:14:49.601997Z"
    },
    "papermill": {
     "duration": 0.036775,
     "end_time": "2022-03-24T12:14:49.602591",
     "exception": false,
     "start_time": "2022-03-24T12:14:49.565816",
     "status": "completed"
    },
    "tags": []
   },
   "outputs": [],
   "source": [
    "#hide\n",
    "def get_dates(df):\n",
    "    dt_cols = df.columns[~df.columns.isin(['Province/State', 'Country/Region', 'Lat', 'Long'])]\n",
    "    LAST_DATE_I = -1\n",
    "    # sometimes last column may be empty, then go backwards\n",
    "    for i in range(-1, -len(dt_cols), -1):\n",
    "        if not df[dt_cols[i]].fillna(0).eq(0).all():\n",
    "            LAST_DATE_I = i\n",
    "            break\n",
    "    return LAST_DATE_I, dt_cols"
   ]
  },
  {
   "cell_type": "code",
   "execution_count": 9,
   "id": "recent-optimization",
   "metadata": {
    "execution": {
     "iopub.execute_input": "2022-03-24T12:14:49.667460Z",
     "iopub.status.busy": "2022-03-24T12:14:49.666927Z",
     "iopub.status.idle": "2022-03-24T12:14:50.257264Z",
     "shell.execute_reply": "2022-03-24T12:14:50.256719Z"
    },
    "papermill": {
     "duration": 0.624693,
     "end_time": "2022-03-24T12:14:50.257404",
     "exception": false,
     "start_time": "2022-03-24T12:14:49.632711",
     "status": "completed"
    },
    "tags": []
   },
   "outputs": [],
   "source": [
    "#hide\n",
    "COL_REGION = 'Country/Region'\n",
    "# Confirmed, Recovered, Deaths\n",
    "df = get_frame('confirmed')\n",
    "# dft_: timeseries, dfc_: today country agg\n",
    "dft_cases = df\n",
    "dft_deaths = get_frame('deaths')\n",
    "dft_recovered = get_frame('recovered')\n",
    "LAST_DATE_I, dt_cols = get_dates(df)"
   ]
  },
  {
   "cell_type": "code",
   "execution_count": 10,
   "id": "absolute-copper",
   "metadata": {
    "execution": {
     "iopub.execute_input": "2022-03-24T12:14:50.322783Z",
     "iopub.status.busy": "2022-03-24T12:14:50.322257Z",
     "iopub.status.idle": "2022-03-24T12:14:50.325808Z",
     "shell.execute_reply": "2022-03-24T12:14:50.326192Z"
    },
    "papermill": {
     "duration": 0.03847,
     "end_time": "2022-03-24T12:14:50.326314",
     "exception": false,
     "start_time": "2022-03-24T12:14:50.287844",
     "status": "completed"
    },
    "tags": []
   },
   "outputs": [],
   "source": [
    "#hide\n",
    "LAST_DATE_I, dt_cols = get_dates(df)\n",
    "dt_today =dt_cols[LAST_DATE_I]\n",
    "# dt_5day = dt_cols[LAST_DATE_I - 5]\n",
    "dt_yday = dt_cols[LAST_DATE_I - 1]"
   ]
  },
  {
   "cell_type": "code",
   "execution_count": 11,
   "id": "restricted-sheriff",
   "metadata": {
    "execution": {
     "iopub.execute_input": "2022-03-24T12:14:50.391097Z",
     "iopub.status.busy": "2022-03-24T12:14:50.390589Z",
     "iopub.status.idle": "2022-03-24T12:14:50.397229Z",
     "shell.execute_reply": "2022-03-24T12:14:50.397665Z"
    },
    "papermill": {
     "duration": 0.04192,
     "end_time": "2022-03-24T12:14:50.397779",
     "exception": false,
     "start_time": "2022-03-24T12:14:50.355859",
     "status": "completed"
    },
    "tags": []
   },
   "outputs": [],
   "source": [
    "#hide\n",
    "dfc_cases = dft_cases.groupby(COL_REGION)[dt_today].sum()\n",
    "dfc_deaths = dft_deaths.groupby(COL_REGION)[dt_today].sum()\n",
    "# dfp_cases = dft_cases.groupby(COL_REGION)[dt_5day].sum()\n",
    "# dfp_deaths = dft_deaths.groupby(COL_REGION)[dt_5day].sum()\n",
    "dfp_cases = dft_cases.groupby(COL_REGION)[dt_yday].sum()\n",
    "dfp_deaths = dft_deaths.groupby(COL_REGION)[dt_yday].sum()"
   ]
  },
  {
   "cell_type": "code",
   "execution_count": 12,
   "id": "deluxe-hepatitis",
   "metadata": {
    "execution": {
     "iopub.execute_input": "2022-03-24T12:14:50.462254Z",
     "iopub.status.busy": "2022-03-24T12:14:50.461748Z",
     "iopub.status.idle": "2022-03-24T12:14:50.466368Z",
     "shell.execute_reply": "2022-03-24T12:14:50.465968Z"
    },
    "papermill": {
     "duration": 0.039083,
     "end_time": "2022-03-24T12:14:50.466470",
     "exception": false,
     "start_time": "2022-03-24T12:14:50.427387",
     "status": "completed"
    },
    "tags": []
   },
   "outputs": [],
   "source": [
    "#hide\n",
    "df_table = (pd.DataFrame(dict(Cases = dfc_cases, Deaths = dfc_deaths, PCases = dfp_cases, PDeaths = dfp_deaths))\n",
    "            .sort_values(by = ['Cases','Deaths'], ascending = [False, False])\n",
    "            .reset_index())"
   ]
  },
  {
   "cell_type": "code",
   "execution_count": 13,
   "id": "educational-chancellor",
   "metadata": {
    "execution": {
     "iopub.execute_input": "2022-03-24T12:14:50.542907Z",
     "iopub.status.busy": "2022-03-24T12:14:50.542399Z",
     "iopub.status.idle": "2022-03-24T12:14:50.549696Z",
     "shell.execute_reply": "2022-03-24T12:14:50.549295Z"
    },
    "papermill": {
     "duration": 0.053841,
     "end_time": "2022-03-24T12:14:50.549800",
     "exception": false,
     "start_time": "2022-03-24T12:14:50.495959",
     "status": "completed"
    },
    "tags": []
   },
   "outputs": [
    {
     "data": {
      "text/html": [
       "<div>\n",
       "<style scoped>\n",
       "    .dataframe tbody tr th:only-of-type {\n",
       "        vertical-align: middle;\n",
       "    }\n",
       "\n",
       "    .dataframe tbody tr th {\n",
       "        vertical-align: top;\n",
       "    }\n",
       "\n",
       "    .dataframe thead th {\n",
       "        text-align: right;\n",
       "    }\n",
       "</style>\n",
       "<table border=\"1\" class=\"dataframe\">\n",
       "  <thead>\n",
       "    <tr style=\"text-align: right;\">\n",
       "      <th></th>\n",
       "      <th>Country/Region</th>\n",
       "      <th>Cases</th>\n",
       "      <th>Deaths</th>\n",
       "      <th>PCases</th>\n",
       "      <th>PDeaths</th>\n",
       "      <th>Cases (+)</th>\n",
       "      <th>Deaths (+)</th>\n",
       "      <th>Fatality Rate</th>\n",
       "      <th>Continent</th>\n",
       "    </tr>\n",
       "  </thead>\n",
       "  <tbody>\n",
       "    <tr>\n",
       "      <th>0</th>\n",
       "      <td>US</td>\n",
       "      <td>79844430</td>\n",
       "      <td>974830</td>\n",
       "      <td>79803443</td>\n",
       "      <td>973213</td>\n",
       "      <td>40987</td>\n",
       "      <td>1617</td>\n",
       "      <td>1.22</td>\n",
       "      <td>North America</td>\n",
       "    </tr>\n",
       "    <tr>\n",
       "      <th>1</th>\n",
       "      <td>India</td>\n",
       "      <td>43014687</td>\n",
       "      <td>516672</td>\n",
       "      <td>43012749</td>\n",
       "      <td>516605</td>\n",
       "      <td>1938</td>\n",
       "      <td>67</td>\n",
       "      <td>1.20</td>\n",
       "      <td>Asia</td>\n",
       "    </tr>\n",
       "    <tr>\n",
       "      <th>2</th>\n",
       "      <td>Brazil</td>\n",
       "      <td>29738362</td>\n",
       "      <td>658286</td>\n",
       "      <td>29691641</td>\n",
       "      <td>658005</td>\n",
       "      <td>46721</td>\n",
       "      <td>281</td>\n",
       "      <td>2.21</td>\n",
       "      <td>South America</td>\n",
       "    </tr>\n",
       "    <tr>\n",
       "      <th>3</th>\n",
       "      <td>France</td>\n",
       "      <td>24683075</td>\n",
       "      <td>142362</td>\n",
       "      <td>24528957</td>\n",
       "      <td>142248</td>\n",
       "      <td>154118</td>\n",
       "      <td>114</td>\n",
       "      <td>0.58</td>\n",
       "      <td>Europe</td>\n",
       "    </tr>\n",
       "    <tr>\n",
       "      <th>4</th>\n",
       "      <td>United Kingdom</td>\n",
       "      <td>20669099</td>\n",
       "      <td>164712</td>\n",
       "      <td>20566021</td>\n",
       "      <td>164516</td>\n",
       "      <td>103078</td>\n",
       "      <td>196</td>\n",
       "      <td>0.80</td>\n",
       "      <td>Europe</td>\n",
       "    </tr>\n",
       "  </tbody>\n",
       "</table>\n",
       "</div>"
      ],
      "text/plain": [
       "   Country/Region     Cases  Deaths    PCases  PDeaths  Cases (+)  Deaths (+)  \\\n",
       "0              US  79844430  974830  79803443   973213      40987        1617   \n",
       "1           India  43014687  516672  43012749   516605       1938          67   \n",
       "2          Brazil  29738362  658286  29691641   658005      46721         281   \n",
       "3          France  24683075  142362  24528957   142248     154118         114   \n",
       "4  United Kingdom  20669099  164712  20566021   164516     103078         196   \n",
       "\n",
       "   Fatality Rate      Continent  \n",
       "0           1.22  North America  \n",
       "1           1.20           Asia  \n",
       "2           2.21  South America  \n",
       "3           0.58         Europe  \n",
       "4           0.80         Europe  "
      ]
     },
     "execution_count": 13,
     "metadata": {},
     "output_type": "execute_result"
    }
   ],
   "source": [
    "#hide\n",
    "for c in 'Cases, Deaths'.split(', '):\n",
    "    df_table[f'{c} (+)'] = (df_table[c] - df_table[f'P{c}']).clip(0)\n",
    "    #Clip ça veut dire, les chiffres negatif sont interdit\n",
    "df_table['Fatality Rate'] = (100* df_table['Deaths']/ df_table['Cases']).round(2)\n",
    "df_table['Continent'] = df_table['Country/Region'].map(mapping['map.continent'])\n",
    "df_table.head(5)"
   ]
  },
  {
   "cell_type": "code",
   "execution_count": 14,
   "id": "aboriginal-bulgaria",
   "metadata": {
    "execution": {
     "iopub.execute_input": "2022-03-24T12:14:50.614858Z",
     "iopub.status.busy": "2022-03-24T12:14:50.614356Z",
     "iopub.status.idle": "2022-03-24T12:14:50.616824Z",
     "shell.execute_reply": "2022-03-24T12:14:50.616425Z"
    },
    "papermill": {
     "duration": 0.036981,
     "end_time": "2022-03-24T12:14:50.616945",
     "exception": false,
     "start_time": "2022-03-24T12:14:50.579964",
     "status": "completed"
    },
    "tags": []
   },
   "outputs": [],
   "source": [
    "#hide\n",
    "#delete problematic countries from table\n",
    "df_table = df_table[~df_table['Country/Region'].isin(['Cape Verde', 'Cruise Ship', 'Kosovo'])]"
   ]
  },
  {
   "cell_type": "code",
   "execution_count": 15,
   "id": "fantastic-effect",
   "metadata": {
    "execution": {
     "iopub.execute_input": "2022-03-24T12:14:50.683637Z",
     "iopub.status.busy": "2022-03-24T12:14:50.683130Z",
     "iopub.status.idle": "2022-03-24T12:14:50.699502Z",
     "shell.execute_reply": "2022-03-24T12:14:50.699081Z"
    },
    "papermill": {
     "duration": 0.052671,
     "end_time": "2022-03-24T12:14:50.699600",
     "exception": false,
     "start_time": "2022-03-24T12:14:50.646929",
     "status": "completed"
    },
    "tags": []
   },
   "outputs": [
    {
     "data": {
      "text/html": [
       "<div>\n",
       "<style scoped>\n",
       "    .dataframe tbody tr th:only-of-type {\n",
       "        vertical-align: middle;\n",
       "    }\n",
       "\n",
       "    .dataframe tbody tr th {\n",
       "        vertical-align: top;\n",
       "    }\n",
       "\n",
       "    .dataframe thead th {\n",
       "        text-align: right;\n",
       "    }\n",
       "</style>\n",
       "<table border=\"1\" class=\"dataframe\">\n",
       "  <thead>\n",
       "    <tr style=\"text-align: right;\">\n",
       "      <th></th>\n",
       "      <th>Country/Region</th>\n",
       "      <th>Cases</th>\n",
       "      <th>Deaths</th>\n",
       "      <th>PCases</th>\n",
       "      <th>PDeaths</th>\n",
       "      <th>Cases (+)</th>\n",
       "      <th>Deaths (+)</th>\n",
       "      <th>Fatality Rate</th>\n",
       "      <th>Continent</th>\n",
       "    </tr>\n",
       "  </thead>\n",
       "  <tbody>\n",
       "    <tr>\n",
       "      <th>0</th>\n",
       "      <td>US</td>\n",
       "      <td>79844430</td>\n",
       "      <td>974830</td>\n",
       "      <td>79803443</td>\n",
       "      <td>973213</td>\n",
       "      <td>40987</td>\n",
       "      <td>1617</td>\n",
       "      <td>1.2</td>\n",
       "      <td>North America</td>\n",
       "    </tr>\n",
       "    <tr>\n",
       "      <th>1</th>\n",
       "      <td>India</td>\n",
       "      <td>43014687</td>\n",
       "      <td>516672</td>\n",
       "      <td>43012749</td>\n",
       "      <td>516605</td>\n",
       "      <td>1938</td>\n",
       "      <td>67</td>\n",
       "      <td>1.2</td>\n",
       "      <td>Asia</td>\n",
       "    </tr>\n",
       "    <tr>\n",
       "      <th>2</th>\n",
       "      <td>Brazil</td>\n",
       "      <td>29738362</td>\n",
       "      <td>658286</td>\n",
       "      <td>29691641</td>\n",
       "      <td>658005</td>\n",
       "      <td>46721</td>\n",
       "      <td>281</td>\n",
       "      <td>2.2</td>\n",
       "      <td>South America</td>\n",
       "    </tr>\n",
       "    <tr>\n",
       "      <th>3</th>\n",
       "      <td>France</td>\n",
       "      <td>24683075</td>\n",
       "      <td>142362</td>\n",
       "      <td>24528957</td>\n",
       "      <td>142248</td>\n",
       "      <td>154118</td>\n",
       "      <td>114</td>\n",
       "      <td>0.6</td>\n",
       "      <td>Europe</td>\n",
       "    </tr>\n",
       "    <tr>\n",
       "      <th>4</th>\n",
       "      <td>United Kingdom</td>\n",
       "      <td>20669099</td>\n",
       "      <td>164712</td>\n",
       "      <td>20566021</td>\n",
       "      <td>164516</td>\n",
       "      <td>103078</td>\n",
       "      <td>196</td>\n",
       "      <td>0.8</td>\n",
       "      <td>Europe</td>\n",
       "    </tr>\n",
       "  </tbody>\n",
       "</table>\n",
       "</div>"
      ],
      "text/plain": [
       "   Country/Region     Cases  Deaths    PCases  PDeaths  Cases (+)  Deaths (+)  \\\n",
       "0              US  79844430  974830  79803443   973213      40987        1617   \n",
       "1           India  43014687  516672  43012749   516605       1938          67   \n",
       "2          Brazil  29738362  658286  29691641   658005      46721         281   \n",
       "3          France  24683075  142362  24528957   142248     154118         114   \n",
       "4  United Kingdom  20669099  164712  20566021   164516     103078         196   \n",
       "\n",
       "   Fatality Rate      Continent  \n",
       "0            1.2  North America  \n",
       "1            1.2           Asia  \n",
       "2            2.2  South America  \n",
       "3            0.6         Europe  \n",
       "4            0.8         Europe  "
      ]
     },
     "execution_count": 15,
     "metadata": {},
     "output_type": "execute_result"
    }
   ],
   "source": [
    "#hide\n",
    "df_table = (pd.DataFrame(dict(Cases=dfc_cases, Deaths=dfc_deaths, PCases=dfp_cases, PDeaths=dfp_deaths))\n",
    "             .sort_values(by=['Cases', 'Deaths'], ascending=[False, False])\n",
    "             .reset_index())\n",
    "df_table.rename(columns={'index': 'Country/Region'}, inplace=True)\n",
    "for c in 'Cases, Deaths'.split(', '):\n",
    "    df_table[f'{c} (+)'] = (df_table[c] - df_table[f'P{c}']).clip(0)  # DATA BUG\n",
    "df_table['Fatality Rate'] = (100 * df_table['Deaths'] / df_table['Cases']).round(1)\n",
    "df_table['Continent'] = df_table['Country/Region'].map(mapping['map.continent'])\n",
    "df_table.head(5)"
   ]
  },
  {
   "cell_type": "code",
   "execution_count": 16,
   "id": "fewer-occasion",
   "metadata": {
    "execution": {
     "iopub.execute_input": "2022-03-24T12:14:50.765547Z",
     "iopub.status.busy": "2022-03-24T12:14:50.765034Z",
     "iopub.status.idle": "2022-03-24T12:14:50.767537Z",
     "shell.execute_reply": "2022-03-24T12:14:50.767128Z"
    },
    "papermill": {
     "duration": 0.037399,
     "end_time": "2022-03-24T12:14:50.767636",
     "exception": false,
     "start_time": "2022-03-24T12:14:50.730237",
     "status": "completed"
    },
    "tags": []
   },
   "outputs": [],
   "source": [
    "#hide\n",
    "#delete problematic countries from table\n",
    "df_table = df_table[~df_table['Country/Region'].isin(['Cape Verde', 'Cruise Ship', 'Kosovo'])]"
   ]
  },
  {
   "cell_type": "code",
   "execution_count": 17,
   "id": "related-center",
   "metadata": {
    "execution": {
     "iopub.execute_input": "2022-03-24T12:14:50.845147Z",
     "iopub.status.busy": "2022-03-24T12:14:50.844617Z",
     "iopub.status.idle": "2022-03-24T12:14:50.846718Z",
     "shell.execute_reply": "2022-03-24T12:14:50.846300Z"
    },
    "papermill": {
     "duration": 0.048736,
     "end_time": "2022-03-24T12:14:50.846812",
     "exception": false,
     "start_time": "2022-03-24T12:14:50.798076",
     "status": "completed"
    },
    "tags": []
   },
   "outputs": [],
   "source": [
    "#hide\n",
    "metrics = [df_table.columns[index] for index in [1,2,5,6]]\n",
    "# s_china = df_table[df_table['Country/Region'].eq('China')][metrics].sum().add_prefix('China ')\n",
    "s_us = df_table[df_table['Country/Region'].eq('US')][metrics].sum().add_prefix('US ')\n",
    "s_eu = df_table[df_table['Continent'].eq('Europe')][metrics].sum().add_prefix('EU ')\n",
    "s_ind = df_table[df_table['Country/Region'].eq('India')][metrics].sum().add_prefix('India ')\n",
    "summary = {'updated': pd.to_datetime(dt_today), 'since': pd.to_datetime(dt_yday)}\n",
    "summary = {'updated': pd.to_datetime(dt_today), 'since': pd.to_datetime(dt_yday)}\n",
    "summary = {**summary, **df_table[metrics].sum(), **s_ind, **s_us, **s_eu}"
   ]
  },
  {
   "cell_type": "code",
   "execution_count": 18,
   "id": "engaging-syndrome",
   "metadata": {
    "execution": {
     "iopub.execute_input": "2022-03-24T12:14:50.913220Z",
     "iopub.status.busy": "2022-03-24T12:14:50.912681Z",
     "iopub.status.idle": "2022-03-24T12:14:50.929213Z",
     "shell.execute_reply": "2022-03-24T12:14:50.928768Z"
    },
    "papermill": {
     "duration": 0.051848,
     "end_time": "2022-03-24T12:14:50.929328",
     "exception": false,
     "start_time": "2022-03-24T12:14:50.877480",
     "status": "completed"
    },
    "tags": []
   },
   "outputs": [],
   "source": [
    "#hide\n",
    "dft_ct_new_cases = dft_cases.groupby(COL_REGION)[dt_cols].sum().diff(axis=1).fillna(0).astype(int)"
   ]
  },
  {
   "cell_type": "code",
   "execution_count": 19,
   "id": "neutral-assignment",
   "metadata": {
    "execution": {
     "iopub.execute_input": "2022-03-24T12:14:50.997219Z",
     "iopub.status.busy": "2022-03-24T12:14:50.996631Z",
     "iopub.status.idle": "2022-03-24T12:14:50.998644Z",
     "shell.execute_reply": "2022-03-24T12:14:50.998235Z"
    },
    "papermill": {
     "duration": 0.038767,
     "end_time": "2022-03-24T12:14:50.998754",
     "exception": false,
     "start_time": "2022-03-24T12:14:50.959987",
     "status": "completed"
    },
    "tags": []
   },
   "outputs": [],
   "source": [
    "#hide\n",
    "everydaycases = dft_ct_new_cases.cumsum(axis=1)"
   ]
  },
  {
   "cell_type": "code",
   "execution_count": 20,
   "id": "parliamentary-calgary",
   "metadata": {
    "execution": {
     "iopub.execute_input": "2022-03-24T12:14:51.065265Z",
     "iopub.status.busy": "2022-03-24T12:14:51.064616Z",
     "iopub.status.idle": "2022-03-24T12:14:51.638338Z",
     "shell.execute_reply": "2022-03-24T12:14:51.637387Z"
    },
    "papermill": {
     "duration": 0.608557,
     "end_time": "2022-03-24T12:14:51.638476",
     "exception": false,
     "start_time": "2022-03-24T12:14:51.029919",
     "status": "completed"
    },
    "tags": []
   },
   "outputs": [],
   "source": [
    "#hide\n",
    "import pandas as pd\n",
    "import matplotlib.pyplot as plt\n",
    "import matplotlib.ticker as ticker\n",
    "import matplotlib.animation as animation\n",
    "from IPython.display import HTML"
   ]
  },
  {
   "cell_type": "code",
   "execution_count": 21,
   "id": "lasting-extraction",
   "metadata": {
    "execution": {
     "iopub.execute_input": "2022-03-24T12:14:51.705911Z",
     "iopub.status.busy": "2022-03-24T12:14:51.705308Z",
     "iopub.status.idle": "2022-03-24T12:14:51.711239Z",
     "shell.execute_reply": "2022-03-24T12:14:51.710828Z"
    },
    "papermill": {
     "duration": 0.042132,
     "end_time": "2022-03-24T12:14:51.711349",
     "exception": false,
     "start_time": "2022-03-24T12:14:51.669217",
     "status": "completed"
    },
    "tags": []
   },
   "outputs": [],
   "source": [
    "#hide\n",
    "t = everydaycases.stack()"
   ]
  },
  {
   "cell_type": "code",
   "execution_count": 22,
   "id": "premier-sleeve",
   "metadata": {
    "execution": {
     "iopub.execute_input": "2022-03-24T12:14:51.776760Z",
     "iopub.status.busy": "2022-03-24T12:14:51.776246Z",
     "iopub.status.idle": "2022-03-24T12:14:51.786846Z",
     "shell.execute_reply": "2022-03-24T12:14:51.786417Z"
    },
    "papermill": {
     "duration": 0.044708,
     "end_time": "2022-03-24T12:14:51.786949",
     "exception": false,
     "start_time": "2022-03-24T12:14:51.742241",
     "status": "completed"
    },
    "tags": []
   },
   "outputs": [],
   "source": [
    "#hide\n",
    "g = t.reset_index(['Country/Region'])"
   ]
  },
  {
   "cell_type": "code",
   "execution_count": 23,
   "id": "distributed-pittsburgh",
   "metadata": {
    "execution": {
     "iopub.execute_input": "2022-03-24T12:14:51.851590Z",
     "iopub.status.busy": "2022-03-24T12:14:51.850999Z",
     "iopub.status.idle": "2022-03-24T12:14:51.853006Z",
     "shell.execute_reply": "2022-03-24T12:14:51.852582Z"
    },
    "papermill": {
     "duration": 0.035771,
     "end_time": "2022-03-24T12:14:51.853114",
     "exception": false,
     "start_time": "2022-03-24T12:14:51.817343",
     "status": "completed"
    },
    "tags": []
   },
   "outputs": [],
   "source": [
    "#hide\n",
    "g.index.name = 'date'"
   ]
  },
  {
   "cell_type": "code",
   "execution_count": 24,
   "id": "naked-donor",
   "metadata": {
    "execution": {
     "iopub.execute_input": "2022-03-24T12:14:51.917427Z",
     "iopub.status.busy": "2022-03-24T12:14:51.916815Z",
     "iopub.status.idle": "2022-03-24T12:14:51.919772Z",
     "shell.execute_reply": "2022-03-24T12:14:51.919222Z"
    },
    "papermill": {
     "duration": 0.036184,
     "end_time": "2022-03-24T12:14:51.919885",
     "exception": false,
     "start_time": "2022-03-24T12:14:51.883701",
     "status": "completed"
    },
    "tags": []
   },
   "outputs": [],
   "source": [
    "# #hide\n",
    "# g = g.reset_index(['date'])"
   ]
  },
  {
   "cell_type": "code",
   "execution_count": 25,
   "id": "incomplete-mustang",
   "metadata": {
    "execution": {
     "iopub.execute_input": "2022-03-24T12:14:51.984647Z",
     "iopub.status.busy": "2022-03-24T12:14:51.984136Z",
     "iopub.status.idle": "2022-03-24T12:14:51.985872Z",
     "shell.execute_reply": "2022-03-24T12:14:51.986252Z"
    },
    "papermill": {
     "duration": 0.035569,
     "end_time": "2022-03-24T12:14:51.986369",
     "exception": false,
     "start_time": "2022-03-24T12:14:51.950800",
     "status": "completed"
    },
    "tags": []
   },
   "outputs": [],
   "source": [
    "#hide\n",
    "# g.head()"
   ]
  },
  {
   "cell_type": "code",
   "execution_count": 26,
   "id": "specific-kruger",
   "metadata": {
    "execution": {
     "iopub.execute_input": "2022-03-24T12:14:52.051306Z",
     "iopub.status.busy": "2022-03-24T12:14:52.050689Z",
     "iopub.status.idle": "2022-03-24T12:14:52.052300Z",
     "shell.execute_reply": "2022-03-24T12:14:52.052849Z"
    },
    "papermill": {
     "duration": 0.036072,
     "end_time": "2022-03-24T12:14:52.053001",
     "exception": false,
     "start_time": "2022-03-24T12:14:52.016929",
     "status": "completed"
    },
    "tags": []
   },
   "outputs": [],
   "source": [
    "#hide\n",
    "# g.columns = ['date','country','cases']"
   ]
  },
  {
   "cell_type": "code",
   "execution_count": 27,
   "id": "tender-conversion",
   "metadata": {
    "execution": {
     "iopub.execute_input": "2022-03-24T12:14:52.117852Z",
     "iopub.status.busy": "2022-03-24T12:14:52.117257Z",
     "iopub.status.idle": "2022-03-24T12:14:52.120922Z",
     "shell.execute_reply": "2022-03-24T12:14:52.120499Z"
    },
    "papermill": {
     "duration": 0.037163,
     "end_time": "2022-03-24T12:14:52.121030",
     "exception": false,
     "start_time": "2022-03-24T12:14:52.083867",
     "status": "completed"
    },
    "tags": []
   },
   "outputs": [],
   "source": [
    "#hide\n",
    "# g['continent'] = g.country"
   ]
  },
  {
   "cell_type": "code",
   "execution_count": 28,
   "id": "substantial-wilderness",
   "metadata": {
    "execution": {
     "iopub.execute_input": "2022-03-24T12:14:52.185507Z",
     "iopub.status.busy": "2022-03-24T12:14:52.184924Z",
     "iopub.status.idle": "2022-03-24T12:14:52.186854Z",
     "shell.execute_reply": "2022-03-24T12:14:52.186288Z"
    },
    "papermill": {
     "duration": 0.035224,
     "end_time": "2022-03-24T12:14:52.186964",
     "exception": false,
     "start_time": "2022-03-24T12:14:52.151740",
     "status": "completed"
    },
    "tags": []
   },
   "outputs": [],
   "source": [
    "#hide\n",
    "# cols = list(g.columns.values)"
   ]
  },
  {
   "cell_type": "code",
   "execution_count": 29,
   "id": "solved-farming",
   "metadata": {
    "execution": {
     "iopub.execute_input": "2022-03-24T12:14:52.251593Z",
     "iopub.status.busy": "2022-03-24T12:14:52.251034Z",
     "iopub.status.idle": "2022-03-24T12:14:52.252951Z",
     "shell.execute_reply": "2022-03-24T12:14:52.252432Z"
    },
    "papermill": {
     "duration": 0.035181,
     "end_time": "2022-03-24T12:14:52.253053",
     "exception": false,
     "start_time": "2022-03-24T12:14:52.217872",
     "status": "completed"
    },
    "tags": []
   },
   "outputs": [],
   "source": [
    "#hide\n",
    "# cols.insert(0, cols.pop())"
   ]
  },
  {
   "cell_type": "code",
   "execution_count": 30,
   "id": "executed-adoption",
   "metadata": {
    "execution": {
     "iopub.execute_input": "2022-03-24T12:14:52.317369Z",
     "iopub.status.busy": "2022-03-24T12:14:52.316750Z",
     "iopub.status.idle": "2022-03-24T12:14:52.320195Z",
     "shell.execute_reply": "2022-03-24T12:14:52.320636Z"
    },
    "papermill": {
     "duration": 0.037121,
     "end_time": "2022-03-24T12:14:52.320815",
     "exception": false,
     "start_time": "2022-03-24T12:14:52.283694",
     "status": "completed"
    },
    "tags": []
   },
   "outputs": [],
   "source": [
    "#hide\n",
    "# g = g[cols]"
   ]
  },
  {
   "cell_type": "code",
   "execution_count": 31,
   "id": "subject-dublin",
   "metadata": {
    "execution": {
     "iopub.execute_input": "2022-03-24T12:14:52.385264Z",
     "iopub.status.busy": "2022-03-24T12:14:52.384654Z",
     "iopub.status.idle": "2022-03-24T12:14:52.386501Z",
     "shell.execute_reply": "2022-03-24T12:14:52.385940Z"
    },
    "papermill": {
     "duration": 0.035069,
     "end_time": "2022-03-24T12:14:52.386610",
     "exception": false,
     "start_time": "2022-03-24T12:14:52.351541",
     "status": "completed"
    },
    "tags": []
   },
   "outputs": [],
   "source": [
    "#hide\n",
    "# g['continent'] = g['continent'].map(mapping['map.continent'])"
   ]
  },
  {
   "cell_type": "code",
   "execution_count": 32,
   "id": "freelance-scout",
   "metadata": {
    "execution": {
     "iopub.execute_input": "2022-03-24T12:14:52.451921Z",
     "iopub.status.busy": "2022-03-24T12:14:52.451344Z",
     "iopub.status.idle": "2022-03-24T12:14:52.453438Z",
     "shell.execute_reply": "2022-03-24T12:14:52.452813Z"
    },
    "papermill": {
     "duration": 0.035289,
     "end_time": "2022-03-24T12:14:52.453550",
     "exception": false,
     "start_time": "2022-03-24T12:14:52.418261",
     "status": "completed"
    },
    "tags": []
   },
   "outputs": [],
   "source": [
    "#hide\n",
    "# g.head()"
   ]
  },
  {
   "cell_type": "code",
   "execution_count": 33,
   "id": "limited-engine",
   "metadata": {
    "execution": {
     "iopub.execute_input": "2022-03-24T12:14:52.517705Z",
     "iopub.status.busy": "2022-03-24T12:14:52.517124Z",
     "iopub.status.idle": "2022-03-24T12:14:52.521009Z",
     "shell.execute_reply": "2022-03-24T12:14:52.520525Z"
    },
    "papermill": {
     "duration": 0.037139,
     "end_time": "2022-03-24T12:14:52.521127",
     "exception": false,
     "start_time": "2022-03-24T12:14:52.483988",
     "status": "completed"
    },
    "tags": []
   },
   "outputs": [],
   "source": [
    "# hide\n",
    "# g['date'] = g['date'].astype('datetime64[ns]')"
   ]
  },
  {
   "cell_type": "code",
   "execution_count": 34,
   "id": "sophisticated-supervisor",
   "metadata": {
    "execution": {
     "iopub.execute_input": "2022-03-24T12:14:52.586160Z",
     "iopub.status.busy": "2022-03-24T12:14:52.585585Z",
     "iopub.status.idle": "2022-03-24T12:14:52.587341Z",
     "shell.execute_reply": "2022-03-24T12:14:52.586845Z"
    },
    "papermill": {
     "duration": 0.035135,
     "end_time": "2022-03-24T12:14:52.587437",
     "exception": false,
     "start_time": "2022-03-24T12:14:52.552302",
     "status": "completed"
    },
    "tags": []
   },
   "outputs": [],
   "source": [
    "#hide\n",
    "# g['date'] = g.date.dt.dayofyear"
   ]
  },
  {
   "cell_type": "code",
   "execution_count": 35,
   "id": "inside-dubai",
   "metadata": {
    "execution": {
     "iopub.execute_input": "2022-03-24T12:14:52.651259Z",
     "iopub.status.busy": "2022-03-24T12:14:52.650684Z",
     "iopub.status.idle": "2022-03-24T12:14:52.652487Z",
     "shell.execute_reply": "2022-03-24T12:14:52.651923Z"
    },
    "papermill": {
     "duration": 0.034832,
     "end_time": "2022-03-24T12:14:52.652597",
     "exception": false,
     "start_time": "2022-03-24T12:14:52.617765",
     "status": "completed"
    },
    "tags": []
   },
   "outputs": [],
   "source": [
    "#hide\n",
    "# g = g.rename(columns= {'continent':'group','country':'name','cases':'value'})"
   ]
  },
  {
   "cell_type": "code",
   "execution_count": 36,
   "id": "fleet-motorcycle",
   "metadata": {
    "execution": {
     "iopub.execute_input": "2022-03-24T12:14:52.717435Z",
     "iopub.status.busy": "2022-03-24T12:14:52.716829Z",
     "iopub.status.idle": "2022-03-24T12:14:52.719641Z",
     "shell.execute_reply": "2022-03-24T12:14:52.719168Z"
    },
    "papermill": {
     "duration": 0.035902,
     "end_time": "2022-03-24T12:14:52.719739",
     "exception": false,
     "start_time": "2022-03-24T12:14:52.683837",
     "status": "completed"
    },
    "tags": []
   },
   "outputs": [],
   "source": [
    "#hide\n",
    "# cols = ['name','group','day','value']"
   ]
  },
  {
   "cell_type": "code",
   "execution_count": 37,
   "id": "continued-sleeping",
   "metadata": {
    "execution": {
     "iopub.execute_input": "2022-03-24T12:14:52.783757Z",
     "iopub.status.busy": "2022-03-24T12:14:52.783178Z",
     "iopub.status.idle": "2022-03-24T12:14:52.786443Z",
     "shell.execute_reply": "2022-03-24T12:14:52.786879Z"
    },
    "papermill": {
     "duration": 0.036669,
     "end_time": "2022-03-24T12:14:52.787005",
     "exception": false,
     "start_time": "2022-03-24T12:14:52.750336",
     "status": "completed"
    },
    "tags": []
   },
   "outputs": [],
   "source": [
    "#hide\n",
    "# g.rename(columns= {'date':'day'},inplace = True)"
   ]
  },
  {
   "cell_type": "code",
   "execution_count": 38,
   "id": "major-fight",
   "metadata": {
    "execution": {
     "iopub.execute_input": "2022-03-24T12:14:52.851663Z",
     "iopub.status.busy": "2022-03-24T12:14:52.851072Z",
     "iopub.status.idle": "2022-03-24T12:14:52.852828Z",
     "shell.execute_reply": "2022-03-24T12:14:52.852334Z"
    },
    "papermill": {
     "duration": 0.034917,
     "end_time": "2022-03-24T12:14:52.852944",
     "exception": false,
     "start_time": "2022-03-24T12:14:52.818027",
     "status": "completed"
    },
    "tags": []
   },
   "outputs": [],
   "source": [
    "#hide\n",
    "# g = g[cols]"
   ]
  },
  {
   "cell_type": "code",
   "execution_count": 39,
   "id": "structured-mobile",
   "metadata": {
    "execution": {
     "iopub.execute_input": "2022-03-24T12:14:52.918796Z",
     "iopub.status.busy": "2022-03-24T12:14:52.918062Z",
     "iopub.status.idle": "2022-03-24T12:14:52.920131Z",
     "shell.execute_reply": "2022-03-24T12:14:52.919593Z"
    },
    "papermill": {
     "duration": 0.035616,
     "end_time": "2022-03-24T12:14:52.920247",
     "exception": false,
     "start_time": "2022-03-24T12:14:52.884631",
     "status": "completed"
    },
    "tags": []
   },
   "outputs": [],
   "source": [
    "# #hide\n",
    "# g = g[g.group.notna()]"
   ]
  },
  {
   "cell_type": "code",
   "execution_count": 40,
   "id": "determined-closing",
   "metadata": {
    "execution": {
     "iopub.execute_input": "2022-03-24T12:14:53.109176Z",
     "iopub.status.busy": "2022-03-24T12:14:53.108592Z",
     "iopub.status.idle": "2022-03-24T12:14:53.112258Z",
     "shell.execute_reply": "2022-03-24T12:14:53.111805Z"
    },
    "papermill": {
     "duration": 0.10015,
     "end_time": "2022-03-24T12:14:53.112363",
     "exception": false,
     "start_time": "2022-03-24T12:14:53.012213",
     "status": "completed"
    },
    "tags": []
   },
   "outputs": [],
   "source": [
    "# #hide\n",
    "# colors = dict(zip(\n",
    "#     [\"Oceania\", \"Europe\", \"Asia\", \"South America\", \"Middle East\", \"North America\", \"Africa\"],\n",
    "#     [\"#adb0ff\", \"#ffb3ff\", \"#90d595\", \"#e48381\", \"#aafbff\", \"#f7bb5f\", \"#eafb50\"]\n",
    "# ))\n",
    "# group_lk = g.set_index('name')['group'].to_dict()"
   ]
  },
  {
   "cell_type": "code",
   "execution_count": null,
   "id": "gross-drinking",
   "metadata": {
    "papermill": {
     "duration": 0.030259,
     "end_time": "2022-03-24T12:14:53.172983",
     "exception": false,
     "start_time": "2022-03-24T12:14:53.142724",
     "status": "completed"
    },
    "tags": []
   },
   "outputs": [],
   "source": []
  },
  {
   "cell_type": "code",
   "execution_count": 41,
   "id": "subject-macintosh",
   "metadata": {
    "execution": {
     "iopub.execute_input": "2022-03-24T12:14:53.240455Z",
     "iopub.status.busy": "2022-03-24T12:14:53.239937Z",
     "iopub.status.idle": "2022-03-24T12:14:53.243397Z",
     "shell.execute_reply": "2022-03-24T12:14:53.243884Z"
    },
    "papermill": {
     "duration": 0.04066,
     "end_time": "2022-03-24T12:14:53.244001",
     "exception": false,
     "start_time": "2022-03-24T12:14:53.203341",
     "status": "completed"
    },
    "tags": []
   },
   "outputs": [],
   "source": [
    "# #hide\n",
    "# fig, ax = plt.subplots(figsize=(15, 8))\n",
    "\n",
    "# def draw_barchart(current_day):\n",
    "#     dff = g[g['day'].eq(current_day)].sort_values(by='value', ascending=True).tail(10)\n",
    "#     ax.clear()\n",
    "#     ax.barh(dff['name'], dff['value'], color=[colors[group_lk[x]] for x in dff['name']])\n",
    "#     dx = dff['value'].max() / 200\n",
    "    \n",
    "#     for i, (value, name) in enumerate(zip(dff['value'], dff['name'])):\n",
    "#         ax.text(value-dx, i,     name,           size=14, weight=600, ha='right', va='bottom')\n",
    "#         ax.text(value-dx, i-.25, group_lk[name], size=10, color='#444444', ha='right', va='baseline')\n",
    "#         ax.text(value+dx, i,     f'{value:,.0f}',  size=14, ha='left',  va='center')\n",
    "#     ax.text(1, 0.4, current_day, transform=ax.transAxes, color='#777777', size=46, ha='right', weight=800)\n",
    "#     ax.text(0, 1.06, 'Population (thousands)', transform=ax.transAxes, size=12, color='#777777')\n",
    "#     ax.xaxis.set_major_formatter(ticker.StrMethodFormatter('{x:,.0f}'))\n",
    "#     ax.xaxis.set_ticks_position('top')\n",
    "#     ax.tick_params(axis='x', colors='#777777', labelsize=12)\n",
    "#     ax.set_yticks([])\n",
    "#     ax.margins(0, 0.01)\n",
    "#     ax.grid(which='major', axis='x', linestyle='-')\n",
    "#     ax.set_axisbelow(True)\n",
    "    \n",
    "#     ax.text(0, 1.15, 'Coronavirus',\n",
    "#             transform=ax.transAxes, size=24, weight=600, ha='left', va='top')\n",
    "# #     ax.text(1, 0, 'by @pratapvardhan; credit @jburnmurdoch', transform=ax.transAxes, color='#777777', ha='right',\n",
    "# #             bbox=dict(facecolor='white', alpha=0.8, edgecolor='white'))\n",
    "#     plt.box(False)"
   ]
  },
  {
   "cell_type": "code",
   "execution_count": 42,
   "id": "sexual-wages",
   "metadata": {
    "execution": {
     "iopub.execute_input": "2022-03-24T12:14:53.310256Z",
     "iopub.status.busy": "2022-03-24T12:14:53.309746Z",
     "iopub.status.idle": "2022-03-24T12:14:53.313229Z",
     "shell.execute_reply": "2022-03-24T12:14:53.312746Z"
    },
    "papermill": {
     "duration": 0.03898,
     "end_time": "2022-03-24T12:14:53.313330",
     "exception": false,
     "start_time": "2022-03-24T12:14:53.274350",
     "status": "completed"
    },
    "tags": []
   },
   "outputs": [],
   "source": [
    "# #hide_input\n",
    "# fig, ax = plt.subplots(figsize=(15, 8))\n",
    "# animator = animation.FuncAnimation(fig, draw_barchart, frames=range(g.day.values.min(), g.day.values.max()))\n",
    "# HTML(animator.to_jshtml())\n",
    "# # or use animator.to_html5_video() or animator.save() "
   ]
  },
  {
   "cell_type": "code",
   "execution_count": null,
   "id": "australian-container",
   "metadata": {
    "papermill": {
     "duration": 0.03028,
     "end_time": "2022-03-24T12:14:53.373927",
     "exception": false,
     "start_time": "2022-03-24T12:14:53.343647",
     "status": "completed"
    },
    "tags": []
   },
   "outputs": [],
   "source": []
  },
  {
   "cell_type": "code",
   "execution_count": null,
   "id": "mediterranean-pontiac",
   "metadata": {
    "papermill": {
     "duration": 0.030169,
     "end_time": "2022-03-24T12:14:53.434452",
     "exception": false,
     "start_time": "2022-03-24T12:14:53.404283",
     "status": "completed"
    },
    "tags": []
   },
   "outputs": [],
   "source": []
  },
  {
   "cell_type": "code",
   "execution_count": null,
   "id": "aging-legislature",
   "metadata": {
    "papermill": {
     "duration": 0.03011,
     "end_time": "2022-03-24T12:14:53.495034",
     "exception": false,
     "start_time": "2022-03-24T12:14:53.464924",
     "status": "completed"
    },
    "tags": []
   },
   "outputs": [],
   "source": []
  }
 ],
 "metadata": {
  "kernelspec": {
   "display_name": "Python 3",
   "language": "python",
   "name": "python3"
  },
  "language_info": {
   "codemirror_mode": {
    "name": "ipython",
    "version": 3
   },
   "file_extension": ".py",
   "mimetype": "text/x-python",
   "name": "python",
   "nbconvert_exporter": "python",
   "pygments_lexer": "ipython3",
   "version": "3.6.15"
  },
  "papermill": {
   "duration": 6.114336,
   "end_time": "2022-03-24T12:14:53.845855",
   "environment_variables": {},
   "exception": null,
   "input_path": "2020-03-21-covid19exp.ipynb",
   "output_path": "2020-03-21-covid19exp.ipynb",
   "parameters": {},
   "start_time": "2022-03-24T12:14:47.731519",
   "version": "2.0.0"
  }
 },
 "nbformat": 4,
 "nbformat_minor": 5
}