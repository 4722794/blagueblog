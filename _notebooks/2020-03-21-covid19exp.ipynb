{
 "cells": [
  {
   "cell_type": "markdown",
   "id": "muslim-click",
   "metadata": {
    "papermill": {
     "duration": 0.043086,
     "end_time": "2021-11-07T12:12:04.330493",
     "exception": false,
     "start_time": "2021-11-07T12:12:04.287407",
     "status": "completed"
    },
    "tags": []
   },
   "source": [
    "# COVID-19 Case Race\n",
    "> A race chart to see rising cases around the world\n",
    "\n",
    "- author: Hargun Oberoi\n",
    "- image: images/covid-overview.png\n",
    "- hide: false\n",
    "- badges: false"
   ]
  },
  {
   "cell_type": "code",
   "execution_count": 1,
   "id": "proof-material",
   "metadata": {
    "execution": {
     "iopub.execute_input": "2021-11-07T12:12:04.417706Z",
     "iopub.status.busy": "2021-11-07T12:12:04.414165Z",
     "iopub.status.idle": "2021-11-07T12:12:04.801689Z",
     "shell.execute_reply": "2021-11-07T12:12:04.802345Z"
    },
    "papermill": {
     "duration": 0.434582,
     "end_time": "2021-11-07T12:12:04.802563",
     "exception": false,
     "start_time": "2021-11-07T12:12:04.367981",
     "status": "completed"
    },
    "tags": []
   },
   "outputs": [],
   "source": [
    "#hide\n",
    "import numpy as np\n",
    "import pandas as pd\n",
    "from jinja2 import Template\n",
    "from IPython.display import HTML"
   ]
  },
  {
   "cell_type": "code",
   "execution_count": 2,
   "id": "developed-terminology",
   "metadata": {
    "execution": {
     "iopub.execute_input": "2021-11-07T12:12:04.885440Z",
     "iopub.status.busy": "2021-11-07T12:12:04.884696Z",
     "iopub.status.idle": "2021-11-07T12:12:04.887671Z",
     "shell.execute_reply": "2021-11-07T12:12:04.887082Z"
    },
    "papermill": {
     "duration": 0.046002,
     "end_time": "2021-11-07T12:12:04.887827",
     "exception": false,
     "start_time": "2021-11-07T12:12:04.841825",
     "status": "completed"
    },
    "tags": []
   },
   "outputs": [],
   "source": [
    "#hide\n",
    "\n",
    "# FETCH\n",
    "base_url = 'https://raw.githubusercontent.com/pratapvardhan/notebooks/master/covid19/'\n",
    "paths = {\n",
    "    'mapping': base_url + 'mapping_countries.csv',\n",
    "    'overview': base_url + 'overview.tpl'\n",
    "}"
   ]
  },
  {
   "cell_type": "code",
   "execution_count": 3,
   "id": "dynamic-saver",
   "metadata": {
    "execution": {
     "iopub.execute_input": "2021-11-07T12:12:04.976062Z",
     "iopub.status.busy": "2021-11-07T12:12:04.975358Z",
     "iopub.status.idle": "2021-11-07T12:12:04.979346Z",
     "shell.execute_reply": "2021-11-07T12:12:04.978774Z"
    },
    "papermill": {
     "duration": 0.052492,
     "end_time": "2021-11-07T12:12:04.979479",
     "exception": false,
     "start_time": "2021-11-07T12:12:04.926987",
     "status": "completed"
    },
    "tags": []
   },
   "outputs": [
    {
     "data": {
      "text/plain": [
       "'https://raw.githubusercontent.com/pratapvardhan/notebooks/master/covid19/mapping_countries.csv'"
      ]
     },
     "execution_count": 3,
     "metadata": {},
     "output_type": "execute_result"
    }
   ],
   "source": [
    "#hide\n",
    "paths['mapping']"
   ]
  },
  {
   "cell_type": "code",
   "execution_count": 4,
   "id": "urban-software",
   "metadata": {
    "execution": {
     "iopub.execute_input": "2021-11-07T12:12:05.064853Z",
     "iopub.status.busy": "2021-11-07T12:12:05.064193Z",
     "iopub.status.idle": "2021-11-07T12:12:05.086385Z",
     "shell.execute_reply": "2021-11-07T12:12:05.091190Z"
    },
    "papermill": {
     "duration": 0.073651,
     "end_time": "2021-11-07T12:12:05.091337",
     "exception": false,
     "start_time": "2021-11-07T12:12:05.017686",
     "status": "completed"
    },
    "tags": []
   },
   "outputs": [],
   "source": [
    "#hide\n",
    "def get_mappings(url):\n",
    "    df = pd.read_csv(url)\n",
    "    return {\n",
    "        'df': df,\n",
    "        'replace.country': dict(df.dropna(subset=['Name']).set_index('Country')['Name']),\n",
    "        'map.continent': dict(df.set_index('Name')['Continent'])\n",
    "    }"
   ]
  },
  {
   "cell_type": "code",
   "execution_count": 5,
   "id": "intimate-machinery",
   "metadata": {
    "execution": {
     "iopub.execute_input": "2021-11-07T12:12:05.177688Z",
     "iopub.status.busy": "2021-11-07T12:12:05.176924Z",
     "iopub.status.idle": "2021-11-07T12:12:05.220027Z",
     "shell.execute_reply": "2021-11-07T12:12:05.219278Z"
    },
    "papermill": {
     "duration": 0.092965,
     "end_time": "2021-11-07T12:12:05.220368",
     "exception": false,
     "start_time": "2021-11-07T12:12:05.127403",
     "status": "completed"
    },
    "tags": []
   },
   "outputs": [],
   "source": [
    "#hide\n",
    "mapping = get_mappings(paths['mapping'])"
   ]
  },
  {
   "cell_type": "code",
   "execution_count": 6,
   "id": "certified-tactics",
   "metadata": {
    "execution": {
     "iopub.execute_input": "2021-11-07T12:12:05.304429Z",
     "iopub.status.busy": "2021-11-07T12:12:05.303730Z",
     "iopub.status.idle": "2021-11-07T12:12:05.306647Z",
     "shell.execute_reply": "2021-11-07T12:12:05.306173Z"
    },
    "papermill": {
     "duration": 0.046979,
     "end_time": "2021-11-07T12:12:05.306771",
     "exception": false,
     "start_time": "2021-11-07T12:12:05.259792",
     "status": "completed"
    },
    "tags": []
   },
   "outputs": [],
   "source": [
    "#hide\n",
    "def get_template(path):\n",
    "    from urllib.parse import urlparse\n",
    "    if bool(urlparse(path).netloc):\n",
    "        from urllib.request import urlopen\n",
    "        return urlopen(path).read().decode('utf8')\n",
    "    return open(path).read()"
   ]
  },
  {
   "cell_type": "code",
   "execution_count": 7,
   "id": "realistic-blast",
   "metadata": {
    "execution": {
     "iopub.execute_input": "2021-11-07T12:12:05.383114Z",
     "iopub.status.busy": "2021-11-07T12:12:05.382319Z",
     "iopub.status.idle": "2021-11-07T12:12:05.385152Z",
     "shell.execute_reply": "2021-11-07T12:12:05.385816Z"
    },
    "papermill": {
     "duration": 0.042522,
     "end_time": "2021-11-07T12:12:05.385948",
     "exception": false,
     "start_time": "2021-11-07T12:12:05.343426",
     "status": "completed"
    },
    "tags": []
   },
   "outputs": [],
   "source": [
    "#hide\n",
    "def get_frame(name):\n",
    "    url = (\n",
    "        'https://raw.githubusercontent.com/CSSEGISandData/COVID-19/master/csse_covid_19_data/'\n",
    "        f'csse_covid_19_time_series/time_series_covid19_{name}_global.csv')\n",
    "    df = pd.read_csv(url)\n",
    "    # rename countries\n",
    "    df['Country/Region'] = df['Country/Region'].replace(mapping['replace.country'])\n",
    "    return df"
   ]
  },
  {
   "cell_type": "code",
   "execution_count": 8,
   "id": "affiliated-characterization",
   "metadata": {
    "execution": {
     "iopub.execute_input": "2021-11-07T12:12:05.468537Z",
     "iopub.status.busy": "2021-11-07T12:12:05.467717Z",
     "iopub.status.idle": "2021-11-07T12:12:05.471704Z",
     "shell.execute_reply": "2021-11-07T12:12:05.472329Z"
    },
    "papermill": {
     "duration": 0.048642,
     "end_time": "2021-11-07T12:12:05.472492",
     "exception": false,
     "start_time": "2021-11-07T12:12:05.423850",
     "status": "completed"
    },
    "tags": []
   },
   "outputs": [],
   "source": [
    "#hide\n",
    "def get_dates(df):\n",
    "    dt_cols = df.columns[~df.columns.isin(['Province/State', 'Country/Region', 'Lat', 'Long'])]\n",
    "    LAST_DATE_I = -1\n",
    "    # sometimes last column may be empty, then go backwards\n",
    "    for i in range(-1, -len(dt_cols), -1):\n",
    "        if not df[dt_cols[i]].fillna(0).eq(0).all():\n",
    "            LAST_DATE_I = i\n",
    "            break\n",
    "    return LAST_DATE_I, dt_cols"
   ]
  },
  {
   "cell_type": "code",
   "execution_count": 9,
   "id": "recent-optimization",
   "metadata": {
    "execution": {
     "iopub.execute_input": "2021-11-07T12:12:05.556748Z",
     "iopub.status.busy": "2021-11-07T12:12:05.556019Z",
     "iopub.status.idle": "2021-11-07T12:12:06.125185Z",
     "shell.execute_reply": "2021-11-07T12:12:06.123941Z"
    },
    "papermill": {
     "duration": 0.613116,
     "end_time": "2021-11-07T12:12:06.125419",
     "exception": false,
     "start_time": "2021-11-07T12:12:05.512303",
     "status": "completed"
    },
    "tags": []
   },
   "outputs": [],
   "source": [
    "#hide\n",
    "COL_REGION = 'Country/Region'\n",
    "# Confirmed, Recovered, Deaths\n",
    "df = get_frame('confirmed')\n",
    "# dft_: timeseries, dfc_: today country agg\n",
    "dft_cases = df\n",
    "dft_deaths = get_frame('deaths')\n",
    "dft_recovered = get_frame('recovered')\n",
    "LAST_DATE_I, dt_cols = get_dates(df)"
   ]
  },
  {
   "cell_type": "code",
   "execution_count": 10,
   "id": "absolute-copper",
   "metadata": {
    "execution": {
     "iopub.execute_input": "2021-11-07T12:12:06.208056Z",
     "iopub.status.busy": "2021-11-07T12:12:06.207148Z",
     "iopub.status.idle": "2021-11-07T12:12:06.209809Z",
     "shell.execute_reply": "2021-11-07T12:12:06.209083Z"
    },
    "papermill": {
     "duration": 0.046713,
     "end_time": "2021-11-07T12:12:06.209981",
     "exception": false,
     "start_time": "2021-11-07T12:12:06.163268",
     "status": "completed"
    },
    "tags": []
   },
   "outputs": [],
   "source": [
    "#hide\n",
    "LAST_DATE_I, dt_cols = get_dates(df)\n",
    "dt_today =dt_cols[LAST_DATE_I]\n",
    "# dt_5day = dt_cols[LAST_DATE_I - 5]\n",
    "dt_yday = dt_cols[LAST_DATE_I - 1]"
   ]
  },
  {
   "cell_type": "code",
   "execution_count": 11,
   "id": "restricted-sheriff",
   "metadata": {
    "execution": {
     "iopub.execute_input": "2021-11-07T12:12:06.300251Z",
     "iopub.status.busy": "2021-11-07T12:12:06.299487Z",
     "iopub.status.idle": "2021-11-07T12:12:06.303361Z",
     "shell.execute_reply": "2021-11-07T12:12:06.302678Z"
    },
    "papermill": {
     "duration": 0.055786,
     "end_time": "2021-11-07T12:12:06.303507",
     "exception": false,
     "start_time": "2021-11-07T12:12:06.247721",
     "status": "completed"
    },
    "tags": []
   },
   "outputs": [],
   "source": [
    "#hide\n",
    "dfc_cases = dft_cases.groupby(COL_REGION)[dt_today].sum()\n",
    "dfc_deaths = dft_deaths.groupby(COL_REGION)[dt_today].sum()\n",
    "# dfp_cases = dft_cases.groupby(COL_REGION)[dt_5day].sum()\n",
    "# dfp_deaths = dft_deaths.groupby(COL_REGION)[dt_5day].sum()\n",
    "dfp_cases = dft_cases.groupby(COL_REGION)[dt_yday].sum()\n",
    "dfp_deaths = dft_deaths.groupby(COL_REGION)[dt_yday].sum()"
   ]
  },
  {
   "cell_type": "code",
   "execution_count": 12,
   "id": "deluxe-hepatitis",
   "metadata": {
    "execution": {
     "iopub.execute_input": "2021-11-07T12:12:06.390639Z",
     "iopub.status.busy": "2021-11-07T12:12:06.387598Z",
     "iopub.status.idle": "2021-11-07T12:12:06.393433Z",
     "shell.execute_reply": "2021-11-07T12:12:06.392870Z"
    },
    "papermill": {
     "duration": 0.05001,
     "end_time": "2021-11-07T12:12:06.393581",
     "exception": false,
     "start_time": "2021-11-07T12:12:06.343571",
     "status": "completed"
    },
    "tags": []
   },
   "outputs": [],
   "source": [
    "#hide\n",
    "df_table = (pd.DataFrame(dict(Cases = dfc_cases, Deaths = dfc_deaths, PCases = dfp_cases, PDeaths = dfp_deaths))\n",
    "            .sort_values(by = ['Cases','Deaths'], ascending = [False, False])\n",
    "            .reset_index())"
   ]
  },
  {
   "cell_type": "code",
   "execution_count": 13,
   "id": "educational-chancellor",
   "metadata": {
    "execution": {
     "iopub.execute_input": "2021-11-07T12:12:06.500930Z",
     "iopub.status.busy": "2021-11-07T12:12:06.495153Z",
     "iopub.status.idle": "2021-11-07T12:12:06.504191Z",
     "shell.execute_reply": "2021-11-07T12:12:06.504732Z"
    },
    "papermill": {
     "duration": 0.073582,
     "end_time": "2021-11-07T12:12:06.504927",
     "exception": false,
     "start_time": "2021-11-07T12:12:06.431345",
     "status": "completed"
    },
    "tags": []
   },
   "outputs": [
    {
     "data": {
      "text/html": [
       "<div>\n",
       "<style scoped>\n",
       "    .dataframe tbody tr th:only-of-type {\n",
       "        vertical-align: middle;\n",
       "    }\n",
       "\n",
       "    .dataframe tbody tr th {\n",
       "        vertical-align: top;\n",
       "    }\n",
       "\n",
       "    .dataframe thead th {\n",
       "        text-align: right;\n",
       "    }\n",
       "</style>\n",
       "<table border=\"1\" class=\"dataframe\">\n",
       "  <thead>\n",
       "    <tr style=\"text-align: right;\">\n",
       "      <th></th>\n",
       "      <th>Country/Region</th>\n",
       "      <th>Cases</th>\n",
       "      <th>Deaths</th>\n",
       "      <th>PCases</th>\n",
       "      <th>PDeaths</th>\n",
       "      <th>Cases (+)</th>\n",
       "      <th>Deaths (+)</th>\n",
       "      <th>Fatality Rate</th>\n",
       "      <th>Continent</th>\n",
       "    </tr>\n",
       "  </thead>\n",
       "  <tbody>\n",
       "    <tr>\n",
       "      <th>0</th>\n",
       "      <td>US</td>\n",
       "      <td>46461714</td>\n",
       "      <td>754278</td>\n",
       "      <td>46435967</td>\n",
       "      <td>753926</td>\n",
       "      <td>25747</td>\n",
       "      <td>352</td>\n",
       "      <td>1.62</td>\n",
       "      <td>North America</td>\n",
       "    </tr>\n",
       "    <tr>\n",
       "      <th>1</th>\n",
       "      <td>India</td>\n",
       "      <td>34355509</td>\n",
       "      <td>460791</td>\n",
       "      <td>34344683</td>\n",
       "      <td>460265</td>\n",
       "      <td>10826</td>\n",
       "      <td>526</td>\n",
       "      <td>1.34</td>\n",
       "      <td>Asia</td>\n",
       "    </tr>\n",
       "    <tr>\n",
       "      <th>2</th>\n",
       "      <td>Brazil</td>\n",
       "      <td>21874324</td>\n",
       "      <td>609388</td>\n",
       "      <td>21862458</td>\n",
       "      <td>609060</td>\n",
       "      <td>11866</td>\n",
       "      <td>328</td>\n",
       "      <td>2.79</td>\n",
       "      <td>South America</td>\n",
       "    </tr>\n",
       "    <tr>\n",
       "      <th>3</th>\n",
       "      <td>United Kingdom</td>\n",
       "      <td>9317072</td>\n",
       "      <td>142174</td>\n",
       "      <td>9286618</td>\n",
       "      <td>142019</td>\n",
       "      <td>30454</td>\n",
       "      <td>155</td>\n",
       "      <td>1.53</td>\n",
       "      <td>Europe</td>\n",
       "    </tr>\n",
       "    <tr>\n",
       "      <th>4</th>\n",
       "      <td>Russia</td>\n",
       "      <td>8613533</td>\n",
       "      <td>241095</td>\n",
       "      <td>8573323</td>\n",
       "      <td>239943</td>\n",
       "      <td>40210</td>\n",
       "      <td>1152</td>\n",
       "      <td>2.80</td>\n",
       "      <td>Europe</td>\n",
       "    </tr>\n",
       "  </tbody>\n",
       "</table>\n",
       "</div>"
      ],
      "text/plain": [
       "   Country/Region     Cases  Deaths    PCases  PDeaths  Cases (+)  Deaths (+)  \\\n",
       "0              US  46461714  754278  46435967   753926      25747         352   \n",
       "1           India  34355509  460791  34344683   460265      10826         526   \n",
       "2          Brazil  21874324  609388  21862458   609060      11866         328   \n",
       "3  United Kingdom   9317072  142174   9286618   142019      30454         155   \n",
       "4          Russia   8613533  241095   8573323   239943      40210        1152   \n",
       "\n",
       "   Fatality Rate      Continent  \n",
       "0           1.62  North America  \n",
       "1           1.34           Asia  \n",
       "2           2.79  South America  \n",
       "3           1.53         Europe  \n",
       "4           2.80         Europe  "
      ]
     },
     "execution_count": 13,
     "metadata": {},
     "output_type": "execute_result"
    }
   ],
   "source": [
    "#hide\n",
    "for c in 'Cases, Deaths'.split(', '):\n",
    "    df_table[f'{c} (+)'] = (df_table[c] - df_table[f'P{c}']).clip(0)\n",
    "    #Clip ça veut dire, les chiffres negatif sont interdit\n",
    "df_table['Fatality Rate'] = (100* df_table['Deaths']/ df_table['Cases']).round(2)\n",
    "df_table['Continent'] = df_table['Country/Region'].map(mapping['map.continent'])\n",
    "df_table.head(5)"
   ]
  },
  {
   "cell_type": "code",
   "execution_count": 14,
   "id": "aboriginal-bulgaria",
   "metadata": {
    "execution": {
     "iopub.execute_input": "2021-11-07T12:12:06.591158Z",
     "iopub.status.busy": "2021-11-07T12:12:06.590460Z",
     "iopub.status.idle": "2021-11-07T12:12:06.592799Z",
     "shell.execute_reply": "2021-11-07T12:12:06.593287Z"
    },
    "papermill": {
     "duration": 0.047267,
     "end_time": "2021-11-07T12:12:06.593495",
     "exception": false,
     "start_time": "2021-11-07T12:12:06.546228",
     "status": "completed"
    },
    "tags": []
   },
   "outputs": [],
   "source": [
    "#hide\n",
    "#delete problematic countries from table\n",
    "df_table = df_table[~df_table['Country/Region'].isin(['Cape Verde', 'Cruise Ship', 'Kosovo'])]"
   ]
  },
  {
   "cell_type": "code",
   "execution_count": 15,
   "id": "fantastic-effect",
   "metadata": {
    "execution": {
     "iopub.execute_input": "2021-11-07T12:12:06.676424Z",
     "iopub.status.busy": "2021-11-07T12:12:06.675744Z",
     "iopub.status.idle": "2021-11-07T12:12:06.700254Z",
     "shell.execute_reply": "2021-11-07T12:12:06.701012Z"
    },
    "papermill": {
     "duration": 0.071297,
     "end_time": "2021-11-07T12:12:06.701210",
     "exception": false,
     "start_time": "2021-11-07T12:12:06.629913",
     "status": "completed"
    },
    "tags": []
   },
   "outputs": [
    {
     "data": {
      "text/html": [
       "<div>\n",
       "<style scoped>\n",
       "    .dataframe tbody tr th:only-of-type {\n",
       "        vertical-align: middle;\n",
       "    }\n",
       "\n",
       "    .dataframe tbody tr th {\n",
       "        vertical-align: top;\n",
       "    }\n",
       "\n",
       "    .dataframe thead th {\n",
       "        text-align: right;\n",
       "    }\n",
       "</style>\n",
       "<table border=\"1\" class=\"dataframe\">\n",
       "  <thead>\n",
       "    <tr style=\"text-align: right;\">\n",
       "      <th></th>\n",
       "      <th>Country/Region</th>\n",
       "      <th>Cases</th>\n",
       "      <th>Deaths</th>\n",
       "      <th>PCases</th>\n",
       "      <th>PDeaths</th>\n",
       "      <th>Cases (+)</th>\n",
       "      <th>Deaths (+)</th>\n",
       "      <th>Fatality Rate</th>\n",
       "      <th>Continent</th>\n",
       "    </tr>\n",
       "  </thead>\n",
       "  <tbody>\n",
       "    <tr>\n",
       "      <th>0</th>\n",
       "      <td>US</td>\n",
       "      <td>46461714</td>\n",
       "      <td>754278</td>\n",
       "      <td>46435967</td>\n",
       "      <td>753926</td>\n",
       "      <td>25747</td>\n",
       "      <td>352</td>\n",
       "      <td>1.6</td>\n",
       "      <td>North America</td>\n",
       "    </tr>\n",
       "    <tr>\n",
       "      <th>1</th>\n",
       "      <td>India</td>\n",
       "      <td>34355509</td>\n",
       "      <td>460791</td>\n",
       "      <td>34344683</td>\n",
       "      <td>460265</td>\n",
       "      <td>10826</td>\n",
       "      <td>526</td>\n",
       "      <td>1.3</td>\n",
       "      <td>Asia</td>\n",
       "    </tr>\n",
       "    <tr>\n",
       "      <th>2</th>\n",
       "      <td>Brazil</td>\n",
       "      <td>21874324</td>\n",
       "      <td>609388</td>\n",
       "      <td>21862458</td>\n",
       "      <td>609060</td>\n",
       "      <td>11866</td>\n",
       "      <td>328</td>\n",
       "      <td>2.8</td>\n",
       "      <td>South America</td>\n",
       "    </tr>\n",
       "    <tr>\n",
       "      <th>3</th>\n",
       "      <td>United Kingdom</td>\n",
       "      <td>9317072</td>\n",
       "      <td>142174</td>\n",
       "      <td>9286618</td>\n",
       "      <td>142019</td>\n",
       "      <td>30454</td>\n",
       "      <td>155</td>\n",
       "      <td>1.5</td>\n",
       "      <td>Europe</td>\n",
       "    </tr>\n",
       "    <tr>\n",
       "      <th>4</th>\n",
       "      <td>Russia</td>\n",
       "      <td>8613533</td>\n",
       "      <td>241095</td>\n",
       "      <td>8573323</td>\n",
       "      <td>239943</td>\n",
       "      <td>40210</td>\n",
       "      <td>1152</td>\n",
       "      <td>2.8</td>\n",
       "      <td>Europe</td>\n",
       "    </tr>\n",
       "  </tbody>\n",
       "</table>\n",
       "</div>"
      ],
      "text/plain": [
       "   Country/Region     Cases  Deaths    PCases  PDeaths  Cases (+)  Deaths (+)  \\\n",
       "0              US  46461714  754278  46435967   753926      25747         352   \n",
       "1           India  34355509  460791  34344683   460265      10826         526   \n",
       "2          Brazil  21874324  609388  21862458   609060      11866         328   \n",
       "3  United Kingdom   9317072  142174   9286618   142019      30454         155   \n",
       "4          Russia   8613533  241095   8573323   239943      40210        1152   \n",
       "\n",
       "   Fatality Rate      Continent  \n",
       "0            1.6  North America  \n",
       "1            1.3           Asia  \n",
       "2            2.8  South America  \n",
       "3            1.5         Europe  \n",
       "4            2.8         Europe  "
      ]
     },
     "execution_count": 15,
     "metadata": {},
     "output_type": "execute_result"
    }
   ],
   "source": [
    "#hide\n",
    "df_table = (pd.DataFrame(dict(Cases=dfc_cases, Deaths=dfc_deaths, PCases=dfp_cases, PDeaths=dfp_deaths))\n",
    "             .sort_values(by=['Cases', 'Deaths'], ascending=[False, False])\n",
    "             .reset_index())\n",
    "df_table.rename(columns={'index': 'Country/Region'}, inplace=True)\n",
    "for c in 'Cases, Deaths'.split(', '):\n",
    "    df_table[f'{c} (+)'] = (df_table[c] - df_table[f'P{c}']).clip(0)  # DATA BUG\n",
    "df_table['Fatality Rate'] = (100 * df_table['Deaths'] / df_table['Cases']).round(1)\n",
    "df_table['Continent'] = df_table['Country/Region'].map(mapping['map.continent'])\n",
    "df_table.head(5)"
   ]
  },
  {
   "cell_type": "code",
   "execution_count": 16,
   "id": "fewer-occasion",
   "metadata": {
    "execution": {
     "iopub.execute_input": "2021-11-07T12:12:06.787884Z",
     "iopub.status.busy": "2021-11-07T12:12:06.787202Z",
     "iopub.status.idle": "2021-11-07T12:12:06.789954Z",
     "shell.execute_reply": "2021-11-07T12:12:06.790519Z"
    },
    "papermill": {
     "duration": 0.048516,
     "end_time": "2021-11-07T12:12:06.790727",
     "exception": false,
     "start_time": "2021-11-07T12:12:06.742211",
     "status": "completed"
    },
    "tags": []
   },
   "outputs": [],
   "source": [
    "#hide\n",
    "#delete problematic countries from table\n",
    "df_table = df_table[~df_table['Country/Region'].isin(['Cape Verde', 'Cruise Ship', 'Kosovo'])]"
   ]
  },
  {
   "cell_type": "code",
   "execution_count": 17,
   "id": "related-center",
   "metadata": {
    "execution": {
     "iopub.execute_input": "2021-11-07T12:12:06.880331Z",
     "iopub.status.busy": "2021-11-07T12:12:06.879599Z",
     "iopub.status.idle": "2021-11-07T12:12:06.888866Z",
     "shell.execute_reply": "2021-11-07T12:12:06.889524Z"
    },
    "papermill": {
     "duration": 0.062738,
     "end_time": "2021-11-07T12:12:06.889676",
     "exception": false,
     "start_time": "2021-11-07T12:12:06.826938",
     "status": "completed"
    },
    "tags": []
   },
   "outputs": [],
   "source": [
    "#hide\n",
    "metrics = [df_table.columns[index] for index in [1,2,5,6]]\n",
    "# s_china = df_table[df_table['Country/Region'].eq('China')][metrics].sum().add_prefix('China ')\n",
    "s_us = df_table[df_table['Country/Region'].eq('US')][metrics].sum().add_prefix('US ')\n",
    "s_eu = df_table[df_table['Continent'].eq('Europe')][metrics].sum().add_prefix('EU ')\n",
    "s_ind = df_table[df_table['Country/Region'].eq('India')][metrics].sum().add_prefix('India ')\n",
    "summary = {'updated': pd.to_datetime(dt_today), 'since': pd.to_datetime(dt_yday)}\n",
    "summary = {'updated': pd.to_datetime(dt_today), 'since': pd.to_datetime(dt_yday)}\n",
    "summary = {**summary, **df_table[metrics].sum(), **s_ind, **s_us, **s_eu}"
   ]
  },
  {
   "cell_type": "code",
   "execution_count": 18,
   "id": "engaging-syndrome",
   "metadata": {
    "execution": {
     "iopub.execute_input": "2021-11-07T12:12:06.972442Z",
     "iopub.status.busy": "2021-11-07T12:12:06.971747Z",
     "iopub.status.idle": "2021-11-07T12:12:06.988854Z",
     "shell.execute_reply": "2021-11-07T12:12:06.989465Z"
    },
    "papermill": {
     "duration": 0.06143,
     "end_time": "2021-11-07T12:12:06.989643",
     "exception": false,
     "start_time": "2021-11-07T12:12:06.928213",
     "status": "completed"
    },
    "tags": []
   },
   "outputs": [],
   "source": [
    "#hide\n",
    "dft_ct_new_cases = dft_cases.groupby(COL_REGION)[dt_cols].sum().diff(axis=1).fillna(0).astype(int)"
   ]
  },
  {
   "cell_type": "code",
   "execution_count": 19,
   "id": "neutral-assignment",
   "metadata": {
    "execution": {
     "iopub.execute_input": "2021-11-07T12:12:07.080737Z",
     "iopub.status.busy": "2021-11-07T12:12:07.080019Z",
     "iopub.status.idle": "2021-11-07T12:12:07.081791Z",
     "shell.execute_reply": "2021-11-07T12:12:07.082397Z"
    },
    "papermill": {
     "duration": 0.05343,
     "end_time": "2021-11-07T12:12:07.082591",
     "exception": false,
     "start_time": "2021-11-07T12:12:07.029161",
     "status": "completed"
    },
    "tags": []
   },
   "outputs": [],
   "source": [
    "#hide\n",
    "everydaycases = dft_ct_new_cases.cumsum(axis=1)"
   ]
  },
  {
   "cell_type": "code",
   "execution_count": 20,
   "id": "parliamentary-calgary",
   "metadata": {
    "execution": {
     "iopub.execute_input": "2021-11-07T12:12:07.163526Z",
     "iopub.status.busy": "2021-11-07T12:12:07.162806Z",
     "iopub.status.idle": "2021-11-07T12:12:07.882414Z",
     "shell.execute_reply": "2021-11-07T12:12:07.883055Z"
    },
    "papermill": {
     "duration": 0.76148,
     "end_time": "2021-11-07T12:12:07.883237",
     "exception": false,
     "start_time": "2021-11-07T12:12:07.121757",
     "status": "completed"
    },
    "tags": []
   },
   "outputs": [],
   "source": [
    "#hide\n",
    "import pandas as pd\n",
    "import matplotlib.pyplot as plt\n",
    "import matplotlib.ticker as ticker\n",
    "import matplotlib.animation as animation\n",
    "from IPython.display import HTML"
   ]
  },
  {
   "cell_type": "code",
   "execution_count": 21,
   "id": "lasting-extraction",
   "metadata": {
    "execution": {
     "iopub.execute_input": "2021-11-07T12:12:07.973833Z",
     "iopub.status.busy": "2021-11-07T12:12:07.973042Z",
     "iopub.status.idle": "2021-11-07T12:12:07.979715Z",
     "shell.execute_reply": "2021-11-07T12:12:07.979124Z"
    },
    "papermill": {
     "duration": 0.054308,
     "end_time": "2021-11-07T12:12:07.979857",
     "exception": false,
     "start_time": "2021-11-07T12:12:07.925549",
     "status": "completed"
    },
    "tags": []
   },
   "outputs": [],
   "source": [
    "#hide\n",
    "t = everydaycases.stack()"
   ]
  },
  {
   "cell_type": "code",
   "execution_count": 22,
   "id": "premier-sleeve",
   "metadata": {
    "execution": {
     "iopub.execute_input": "2021-11-07T12:12:08.064675Z",
     "iopub.status.busy": "2021-11-07T12:12:08.063991Z",
     "iopub.status.idle": "2021-11-07T12:12:08.074985Z",
     "shell.execute_reply": "2021-11-07T12:12:08.074459Z"
    },
    "papermill": {
     "duration": 0.053699,
     "end_time": "2021-11-07T12:12:08.075121",
     "exception": false,
     "start_time": "2021-11-07T12:12:08.021422",
     "status": "completed"
    },
    "tags": []
   },
   "outputs": [],
   "source": [
    "#hide\n",
    "g = t.reset_index(['Country/Region'])"
   ]
  },
  {
   "cell_type": "code",
   "execution_count": 23,
   "id": "distributed-pittsburgh",
   "metadata": {
    "execution": {
     "iopub.execute_input": "2021-11-07T12:12:08.157637Z",
     "iopub.status.busy": "2021-11-07T12:12:08.156918Z",
     "iopub.status.idle": "2021-11-07T12:12:08.160256Z",
     "shell.execute_reply": "2021-11-07T12:12:08.160836Z"
    },
    "papermill": {
     "duration": 0.046641,
     "end_time": "2021-11-07T12:12:08.160981",
     "exception": false,
     "start_time": "2021-11-07T12:12:08.114340",
     "status": "completed"
    },
    "tags": []
   },
   "outputs": [],
   "source": [
    "#hide\n",
    "g.index.name = 'date'"
   ]
  },
  {
   "cell_type": "code",
   "execution_count": 24,
   "id": "naked-donor",
   "metadata": {
    "execution": {
     "iopub.execute_input": "2021-11-07T12:12:08.239691Z",
     "iopub.status.busy": "2021-11-07T12:12:08.239011Z",
     "iopub.status.idle": "2021-11-07T12:12:08.241700Z",
     "shell.execute_reply": "2021-11-07T12:12:08.241017Z"
    },
    "papermill": {
     "duration": 0.04406,
     "end_time": "2021-11-07T12:12:08.241819",
     "exception": false,
     "start_time": "2021-11-07T12:12:08.197759",
     "status": "completed"
    },
    "tags": []
   },
   "outputs": [],
   "source": [
    "# #hide\n",
    "# g = g.reset_index(['date'])"
   ]
  },
  {
   "cell_type": "code",
   "execution_count": 25,
   "id": "incomplete-mustang",
   "metadata": {
    "execution": {
     "iopub.execute_input": "2021-11-07T12:12:08.325085Z",
     "iopub.status.busy": "2021-11-07T12:12:08.324355Z",
     "iopub.status.idle": "2021-11-07T12:12:08.328290Z",
     "shell.execute_reply": "2021-11-07T12:12:08.328766Z"
    },
    "papermill": {
     "duration": 0.048043,
     "end_time": "2021-11-07T12:12:08.328909",
     "exception": false,
     "start_time": "2021-11-07T12:12:08.280866",
     "status": "completed"
    },
    "tags": []
   },
   "outputs": [],
   "source": [
    "#hide\n",
    "# g.head()"
   ]
  },
  {
   "cell_type": "code",
   "execution_count": 26,
   "id": "specific-kruger",
   "metadata": {
    "execution": {
     "iopub.execute_input": "2021-11-07T12:12:08.408366Z",
     "iopub.status.busy": "2021-11-07T12:12:08.407698Z",
     "iopub.status.idle": "2021-11-07T12:12:08.409670Z",
     "shell.execute_reply": "2021-11-07T12:12:08.410157Z"
    },
    "papermill": {
     "duration": 0.042704,
     "end_time": "2021-11-07T12:12:08.410345",
     "exception": false,
     "start_time": "2021-11-07T12:12:08.367641",
     "status": "completed"
    },
    "tags": []
   },
   "outputs": [],
   "source": [
    "#hide\n",
    "# g.columns = ['date','country','cases']"
   ]
  },
  {
   "cell_type": "code",
   "execution_count": 27,
   "id": "tender-conversion",
   "metadata": {
    "execution": {
     "iopub.execute_input": "2021-11-07T12:12:08.490548Z",
     "iopub.status.busy": "2021-11-07T12:12:08.489901Z",
     "iopub.status.idle": "2021-11-07T12:12:08.493773Z",
     "shell.execute_reply": "2021-11-07T12:12:08.494314Z"
    },
    "papermill": {
     "duration": 0.046121,
     "end_time": "2021-11-07T12:12:08.494457",
     "exception": false,
     "start_time": "2021-11-07T12:12:08.448336",
     "status": "completed"
    },
    "tags": []
   },
   "outputs": [],
   "source": [
    "#hide\n",
    "# g['continent'] = g.country"
   ]
  },
  {
   "cell_type": "code",
   "execution_count": 28,
   "id": "substantial-wilderness",
   "metadata": {
    "execution": {
     "iopub.execute_input": "2021-11-07T12:12:08.580080Z",
     "iopub.status.busy": "2021-11-07T12:12:08.579393Z",
     "iopub.status.idle": "2021-11-07T12:12:08.584127Z",
     "shell.execute_reply": "2021-11-07T12:12:08.583549Z"
    },
    "papermill": {
     "duration": 0.05039,
     "end_time": "2021-11-07T12:12:08.584340",
     "exception": false,
     "start_time": "2021-11-07T12:12:08.533950",
     "status": "completed"
    },
    "tags": []
   },
   "outputs": [],
   "source": [
    "#hide\n",
    "# cols = list(g.columns.values)"
   ]
  },
  {
   "cell_type": "code",
   "execution_count": 29,
   "id": "solved-farming",
   "metadata": {
    "execution": {
     "iopub.execute_input": "2021-11-07T12:12:08.668581Z",
     "iopub.status.busy": "2021-11-07T12:12:08.667892Z",
     "iopub.status.idle": "2021-11-07T12:12:08.670551Z",
     "shell.execute_reply": "2021-11-07T12:12:08.669849Z"
    },
    "papermill": {
     "duration": 0.046373,
     "end_time": "2021-11-07T12:12:08.670687",
     "exception": false,
     "start_time": "2021-11-07T12:12:08.624314",
     "status": "completed"
    },
    "tags": []
   },
   "outputs": [],
   "source": [
    "#hide\n",
    "# cols.insert(0, cols.pop())"
   ]
  },
  {
   "cell_type": "code",
   "execution_count": 30,
   "id": "executed-adoption",
   "metadata": {
    "execution": {
     "iopub.execute_input": "2021-11-07T12:12:08.753089Z",
     "iopub.status.busy": "2021-11-07T12:12:08.752379Z",
     "iopub.status.idle": "2021-11-07T12:12:08.754941Z",
     "shell.execute_reply": "2021-11-07T12:12:08.754226Z"
    },
    "papermill": {
     "duration": 0.045398,
     "end_time": "2021-11-07T12:12:08.755075",
     "exception": false,
     "start_time": "2021-11-07T12:12:08.709677",
     "status": "completed"
    },
    "tags": []
   },
   "outputs": [],
   "source": [
    "#hide\n",
    "# g = g[cols]"
   ]
  },
  {
   "cell_type": "code",
   "execution_count": 31,
   "id": "subject-dublin",
   "metadata": {
    "execution": {
     "iopub.execute_input": "2021-11-07T12:12:08.837130Z",
     "iopub.status.busy": "2021-11-07T12:12:08.836411Z",
     "iopub.status.idle": "2021-11-07T12:12:08.840399Z",
     "shell.execute_reply": "2021-11-07T12:12:08.840888Z"
    },
    "papermill": {
     "duration": 0.046762,
     "end_time": "2021-11-07T12:12:08.841041",
     "exception": false,
     "start_time": "2021-11-07T12:12:08.794279",
     "status": "completed"
    },
    "tags": []
   },
   "outputs": [],
   "source": [
    "#hide\n",
    "# g['continent'] = g['continent'].map(mapping['map.continent'])"
   ]
  },
  {
   "cell_type": "code",
   "execution_count": 32,
   "id": "freelance-scout",
   "metadata": {
    "execution": {
     "iopub.execute_input": "2021-11-07T12:12:08.923821Z",
     "iopub.status.busy": "2021-11-07T12:12:08.923139Z",
     "iopub.status.idle": "2021-11-07T12:12:08.927177Z",
     "shell.execute_reply": "2021-11-07T12:12:08.927708Z"
    },
    "papermill": {
     "duration": 0.047651,
     "end_time": "2021-11-07T12:12:08.927872",
     "exception": false,
     "start_time": "2021-11-07T12:12:08.880221",
     "status": "completed"
    },
    "tags": []
   },
   "outputs": [],
   "source": [
    "#hide\n",
    "# g.head()"
   ]
  },
  {
   "cell_type": "code",
   "execution_count": 33,
   "id": "limited-engine",
   "metadata": {
    "execution": {
     "iopub.execute_input": "2021-11-07T12:12:09.012693Z",
     "iopub.status.busy": "2021-11-07T12:12:09.010135Z",
     "iopub.status.idle": "2021-11-07T12:12:09.026435Z",
     "shell.execute_reply": "2021-11-07T12:12:09.025869Z"
    },
    "papermill": {
     "duration": 0.059275,
     "end_time": "2021-11-07T12:12:09.026582",
     "exception": false,
     "start_time": "2021-11-07T12:12:08.967307",
     "status": "completed"
    },
    "tags": []
   },
   "outputs": [],
   "source": [
    "# hide\n",
    "# g['date'] = g['date'].astype('datetime64[ns]')"
   ]
  },
  {
   "cell_type": "code",
   "execution_count": 34,
   "id": "sophisticated-supervisor",
   "metadata": {
    "execution": {
     "iopub.execute_input": "2021-11-07T12:12:09.120070Z",
     "iopub.status.busy": "2021-11-07T12:12:09.119302Z",
     "iopub.status.idle": "2021-11-07T12:12:09.121995Z",
     "shell.execute_reply": "2021-11-07T12:12:09.121276Z"
    },
    "papermill": {
     "duration": 0.046472,
     "end_time": "2021-11-07T12:12:09.122143",
     "exception": false,
     "start_time": "2021-11-07T12:12:09.075671",
     "status": "completed"
    },
    "tags": []
   },
   "outputs": [],
   "source": [
    "#hide\n",
    "# g['date'] = g.date.dt.dayofyear"
   ]
  },
  {
   "cell_type": "code",
   "execution_count": 35,
   "id": "inside-dubai",
   "metadata": {
    "execution": {
     "iopub.execute_input": "2021-11-07T12:12:09.205470Z",
     "iopub.status.busy": "2021-11-07T12:12:09.204713Z",
     "iopub.status.idle": "2021-11-07T12:12:09.207351Z",
     "shell.execute_reply": "2021-11-07T12:12:09.206672Z"
    },
    "papermill": {
     "duration": 0.045912,
     "end_time": "2021-11-07T12:12:09.207487",
     "exception": false,
     "start_time": "2021-11-07T12:12:09.161575",
     "status": "completed"
    },
    "tags": []
   },
   "outputs": [],
   "source": [
    "#hide\n",
    "# g = g.rename(columns= {'continent':'group','country':'name','cases':'value'})"
   ]
  },
  {
   "cell_type": "code",
   "execution_count": 36,
   "id": "fleet-motorcycle",
   "metadata": {
    "execution": {
     "iopub.execute_input": "2021-11-07T12:12:09.291969Z",
     "iopub.status.busy": "2021-11-07T12:12:09.291285Z",
     "iopub.status.idle": "2021-11-07T12:12:09.295380Z",
     "shell.execute_reply": "2021-11-07T12:12:09.295918Z"
    },
    "papermill": {
     "duration": 0.047882,
     "end_time": "2021-11-07T12:12:09.296091",
     "exception": false,
     "start_time": "2021-11-07T12:12:09.248209",
     "status": "completed"
    },
    "tags": []
   },
   "outputs": [],
   "source": [
    "#hide\n",
    "# cols = ['name','group','day','value']"
   ]
  },
  {
   "cell_type": "code",
   "execution_count": 37,
   "id": "continued-sleeping",
   "metadata": {
    "execution": {
     "iopub.execute_input": "2021-11-07T12:12:09.378222Z",
     "iopub.status.busy": "2021-11-07T12:12:09.377550Z",
     "iopub.status.idle": "2021-11-07T12:12:09.379472Z",
     "shell.execute_reply": "2021-11-07T12:12:09.380027Z"
    },
    "papermill": {
     "duration": 0.045812,
     "end_time": "2021-11-07T12:12:09.380182",
     "exception": false,
     "start_time": "2021-11-07T12:12:09.334370",
     "status": "completed"
    },
    "tags": []
   },
   "outputs": [],
   "source": [
    "#hide\n",
    "# g.rename(columns= {'date':'day'},inplace = True)"
   ]
  },
  {
   "cell_type": "code",
   "execution_count": 38,
   "id": "major-fight",
   "metadata": {
    "execution": {
     "iopub.execute_input": "2021-11-07T12:12:09.464422Z",
     "iopub.status.busy": "2021-11-07T12:12:09.463612Z",
     "iopub.status.idle": "2021-11-07T12:12:09.467847Z",
     "shell.execute_reply": "2021-11-07T12:12:09.468372Z"
    },
    "papermill": {
     "duration": 0.047184,
     "end_time": "2021-11-07T12:12:09.468559",
     "exception": false,
     "start_time": "2021-11-07T12:12:09.421375",
     "status": "completed"
    },
    "tags": []
   },
   "outputs": [],
   "source": [
    "#hide\n",
    "# g = g[cols]"
   ]
  },
  {
   "cell_type": "code",
   "execution_count": 39,
   "id": "structured-mobile",
   "metadata": {
    "execution": {
     "iopub.execute_input": "2021-11-07T12:12:09.546967Z",
     "iopub.status.busy": "2021-11-07T12:12:09.546314Z",
     "iopub.status.idle": "2021-11-07T12:12:09.548502Z",
     "shell.execute_reply": "2021-11-07T12:12:09.547914Z"
    },
    "papermill": {
     "duration": 0.040892,
     "end_time": "2021-11-07T12:12:09.548623",
     "exception": false,
     "start_time": "2021-11-07T12:12:09.507731",
     "status": "completed"
    },
    "tags": []
   },
   "outputs": [],
   "source": [
    "# #hide\n",
    "# g = g[g.group.notna()]"
   ]
  },
  {
   "cell_type": "code",
   "execution_count": 40,
   "id": "determined-closing",
   "metadata": {
    "execution": {
     "iopub.execute_input": "2021-11-07T12:12:09.628481Z",
     "iopub.status.busy": "2021-11-07T12:12:09.627794Z",
     "iopub.status.idle": "2021-11-07T12:12:09.631841Z",
     "shell.execute_reply": "2021-11-07T12:12:09.632354Z"
    },
    "papermill": {
     "duration": 0.046365,
     "end_time": "2021-11-07T12:12:09.632526",
     "exception": false,
     "start_time": "2021-11-07T12:12:09.586161",
     "status": "completed"
    },
    "tags": []
   },
   "outputs": [],
   "source": [
    "# #hide\n",
    "# colors = dict(zip(\n",
    "#     [\"Oceania\", \"Europe\", \"Asia\", \"South America\", \"Middle East\", \"North America\", \"Africa\"],\n",
    "#     [\"#adb0ff\", \"#ffb3ff\", \"#90d595\", \"#e48381\", \"#aafbff\", \"#f7bb5f\", \"#eafb50\"]\n",
    "# ))\n",
    "# group_lk = g.set_index('name')['group'].to_dict()"
   ]
  },
  {
   "cell_type": "code",
   "execution_count": null,
   "id": "gross-drinking",
   "metadata": {
    "papermill": {
     "duration": 0.037307,
     "end_time": "2021-11-07T12:12:09.707677",
     "exception": false,
     "start_time": "2021-11-07T12:12:09.670370",
     "status": "completed"
    },
    "tags": []
   },
   "outputs": [],
   "source": []
  },
  {
   "cell_type": "code",
   "execution_count": 41,
   "id": "subject-macintosh",
   "metadata": {
    "execution": {
     "iopub.execute_input": "2021-11-07T12:12:09.789923Z",
     "iopub.status.busy": "2021-11-07T12:12:09.789062Z",
     "iopub.status.idle": "2021-11-07T12:12:09.792572Z",
     "shell.execute_reply": "2021-11-07T12:12:09.793226Z"
    },
    "papermill": {
     "duration": 0.047862,
     "end_time": "2021-11-07T12:12:09.793451",
     "exception": false,
     "start_time": "2021-11-07T12:12:09.745589",
     "status": "completed"
    },
    "tags": []
   },
   "outputs": [],
   "source": [
    "# #hide\n",
    "# fig, ax = plt.subplots(figsize=(15, 8))\n",
    "\n",
    "# def draw_barchart(current_day):\n",
    "#     dff = g[g['day'].eq(current_day)].sort_values(by='value', ascending=True).tail(10)\n",
    "#     ax.clear()\n",
    "#     ax.barh(dff['name'], dff['value'], color=[colors[group_lk[x]] for x in dff['name']])\n",
    "#     dx = dff['value'].max() / 200\n",
    "    \n",
    "#     for i, (value, name) in enumerate(zip(dff['value'], dff['name'])):\n",
    "#         ax.text(value-dx, i,     name,           size=14, weight=600, ha='right', va='bottom')\n",
    "#         ax.text(value-dx, i-.25, group_lk[name], size=10, color='#444444', ha='right', va='baseline')\n",
    "#         ax.text(value+dx, i,     f'{value:,.0f}',  size=14, ha='left',  va='center')\n",
    "#     ax.text(1, 0.4, current_day, transform=ax.transAxes, color='#777777', size=46, ha='right', weight=800)\n",
    "#     ax.text(0, 1.06, 'Population (thousands)', transform=ax.transAxes, size=12, color='#777777')\n",
    "#     ax.xaxis.set_major_formatter(ticker.StrMethodFormatter('{x:,.0f}'))\n",
    "#     ax.xaxis.set_ticks_position('top')\n",
    "#     ax.tick_params(axis='x', colors='#777777', labelsize=12)\n",
    "#     ax.set_yticks([])\n",
    "#     ax.margins(0, 0.01)\n",
    "#     ax.grid(which='major', axis='x', linestyle='-')\n",
    "#     ax.set_axisbelow(True)\n",
    "    \n",
    "#     ax.text(0, 1.15, 'Coronavirus',\n",
    "#             transform=ax.transAxes, size=24, weight=600, ha='left', va='top')\n",
    "# #     ax.text(1, 0, 'by @pratapvardhan; credit @jburnmurdoch', transform=ax.transAxes, color='#777777', ha='right',\n",
    "# #             bbox=dict(facecolor='white', alpha=0.8, edgecolor='white'))\n",
    "#     plt.box(False)"
   ]
  },
  {
   "cell_type": "code",
   "execution_count": 42,
   "id": "sexual-wages",
   "metadata": {
    "execution": {
     "iopub.execute_input": "2021-11-07T12:12:09.879039Z",
     "iopub.status.busy": "2021-11-07T12:12:09.878346Z",
     "iopub.status.idle": "2021-11-07T12:12:09.880916Z",
     "shell.execute_reply": "2021-11-07T12:12:09.880245Z"
    },
    "papermill": {
     "duration": 0.046446,
     "end_time": "2021-11-07T12:12:09.881063",
     "exception": false,
     "start_time": "2021-11-07T12:12:09.834617",
     "status": "completed"
    },
    "tags": []
   },
   "outputs": [],
   "source": [
    "# #hide_input\n",
    "# fig, ax = plt.subplots(figsize=(15, 8))\n",
    "# animator = animation.FuncAnimation(fig, draw_barchart, frames=range(g.day.values.min(), g.day.values.max()))\n",
    "# HTML(animator.to_jshtml())\n",
    "# # or use animator.to_html5_video() or animator.save() "
   ]
  },
  {
   "cell_type": "code",
   "execution_count": null,
   "id": "australian-container",
   "metadata": {
    "papermill": {
     "duration": 0.040404,
     "end_time": "2021-11-07T12:12:09.961544",
     "exception": false,
     "start_time": "2021-11-07T12:12:09.921140",
     "status": "completed"
    },
    "tags": []
   },
   "outputs": [],
   "source": []
  },
  {
   "cell_type": "code",
   "execution_count": null,
   "id": "mediterranean-pontiac",
   "metadata": {
    "papermill": {
     "duration": 0.040859,
     "end_time": "2021-11-07T12:12:10.044255",
     "exception": false,
     "start_time": "2021-11-07T12:12:10.003396",
     "status": "completed"
    },
    "tags": []
   },
   "outputs": [],
   "source": []
  },
  {
   "cell_type": "code",
   "execution_count": null,
   "id": "aging-legislature",
   "metadata": {
    "papermill": {
     "duration": 0.036638,
     "end_time": "2021-11-07T12:12:10.119953",
     "exception": false,
     "start_time": "2021-11-07T12:12:10.083315",
     "status": "completed"
    },
    "tags": []
   },
   "outputs": [],
   "source": []
  }
 ],
 "metadata": {
  "kernelspec": {
   "display_name": "Python 3",
   "language": "python",
   "name": "python3"
  },
  "language_info": {
   "codemirror_mode": {
    "name": "ipython",
    "version": 3
   },
   "file_extension": ".py",
   "mimetype": "text/x-python",
   "name": "python",
   "nbconvert_exporter": "python",
   "pygments_lexer": "ipython3",
   "version": "3.6.15"
  },
  "papermill": {
   "duration": 7.33643,
   "end_time": "2021-11-07T12:12:10.465178",
   "environment_variables": {},
   "exception": null,
   "input_path": "2020-03-21-covid19exp.ipynb",
   "output_path": "2020-03-21-covid19exp.ipynb",
   "parameters": {},
   "start_time": "2021-11-07T12:12:03.128748",
   "version": "2.0.0"
  }
 },
 "nbformat": 4,
 "nbformat_minor": 5
}