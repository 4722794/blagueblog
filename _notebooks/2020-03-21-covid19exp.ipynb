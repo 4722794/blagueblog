{
 "cells": [
  {
   "cell_type": "markdown",
   "id": "muslim-click",
   "metadata": {
    "papermill": {
     "duration": 0.036233,
     "end_time": "2022-05-29T12:15:28.713804",
     "exception": false,
     "start_time": "2022-05-29T12:15:28.677571",
     "status": "completed"
    },
    "tags": []
   },
   "source": [
    "# COVID-19 Case Race\n",
    "> A race chart to see rising cases around the world\n",
    "\n",
    "- author: Hargun Oberoi\n",
    "- image: images/covid-overview.png\n",
    "- hide: false\n",
    "- badges: false"
   ]
  },
  {
   "cell_type": "code",
   "execution_count": 1,
   "id": "proof-material",
   "metadata": {
    "execution": {
     "iopub.execute_input": "2022-05-29T12:15:28.801362Z",
     "iopub.status.busy": "2022-05-29T12:15:28.800479Z",
     "iopub.status.idle": "2022-05-29T12:15:29.185727Z",
     "shell.execute_reply": "2022-05-29T12:15:29.184576Z"
    },
    "papermill": {
     "duration": 0.433307,
     "end_time": "2022-05-29T12:15:29.185884",
     "exception": false,
     "start_time": "2022-05-29T12:15:28.752577",
     "status": "completed"
    },
    "tags": []
   },
   "outputs": [],
   "source": [
    "#hide\n",
    "import numpy as np\n",
    "import pandas as pd\n",
    "from jinja2 import Template\n",
    "from IPython.display import HTML"
   ]
  },
  {
   "cell_type": "code",
   "execution_count": 2,
   "id": "developed-terminology",
   "metadata": {
    "execution": {
     "iopub.execute_input": "2022-05-29T12:15:29.268040Z",
     "iopub.status.busy": "2022-05-29T12:15:29.267253Z",
     "iopub.status.idle": "2022-05-29T12:15:29.270428Z",
     "shell.execute_reply": "2022-05-29T12:15:29.269830Z"
    },
    "papermill": {
     "duration": 0.045937,
     "end_time": "2022-05-29T12:15:29.270557",
     "exception": false,
     "start_time": "2022-05-29T12:15:29.224620",
     "status": "completed"
    },
    "tags": []
   },
   "outputs": [],
   "source": [
    "#hide\n",
    "\n",
    "# FETCH\n",
    "base_url = 'https://raw.githubusercontent.com/pratapvardhan/notebooks/master/covid19/'\n",
    "paths = {\n",
    "    'mapping': base_url + 'mapping_countries.csv',\n",
    "    'overview': base_url + 'overview.tpl'\n",
    "}"
   ]
  },
  {
   "cell_type": "code",
   "execution_count": 3,
   "id": "dynamic-saver",
   "metadata": {
    "execution": {
     "iopub.execute_input": "2022-05-29T12:15:29.363070Z",
     "iopub.status.busy": "2022-05-29T12:15:29.362096Z",
     "iopub.status.idle": "2022-05-29T12:15:29.366703Z",
     "shell.execute_reply": "2022-05-29T12:15:29.366154Z"
    },
    "papermill": {
     "duration": 0.057858,
     "end_time": "2022-05-29T12:15:29.366835",
     "exception": false,
     "start_time": "2022-05-29T12:15:29.308977",
     "status": "completed"
    },
    "tags": []
   },
   "outputs": [
    {
     "data": {
      "text/plain": [
       "'https://raw.githubusercontent.com/pratapvardhan/notebooks/master/covid19/mapping_countries.csv'"
      ]
     },
     "execution_count": 3,
     "metadata": {},
     "output_type": "execute_result"
    }
   ],
   "source": [
    "#hide\n",
    "paths['mapping']"
   ]
  },
  {
   "cell_type": "code",
   "execution_count": 4,
   "id": "urban-software",
   "metadata": {
    "execution": {
     "iopub.execute_input": "2022-05-29T12:15:29.448213Z",
     "iopub.status.busy": "2022-05-29T12:15:29.447506Z",
     "iopub.status.idle": "2022-05-29T12:15:29.450109Z",
     "shell.execute_reply": "2022-05-29T12:15:29.450764Z"
    },
    "papermill": {
     "duration": 0.046164,
     "end_time": "2022-05-29T12:15:29.451004",
     "exception": false,
     "start_time": "2022-05-29T12:15:29.404840",
     "status": "completed"
    },
    "tags": []
   },
   "outputs": [],
   "source": [
    "#hide\n",
    "def get_mappings(url):\n",
    "    df = pd.read_csv(url)\n",
    "    return {\n",
    "        'df': df,\n",
    "        'replace.country': dict(df.dropna(subset=['Name']).set_index('Country')['Name']),\n",
    "        'map.continent': dict(df.set_index('Name')['Continent'])\n",
    "    }"
   ]
  },
  {
   "cell_type": "code",
   "execution_count": 5,
   "id": "intimate-machinery",
   "metadata": {
    "execution": {
     "iopub.execute_input": "2022-05-29T12:15:29.533379Z",
     "iopub.status.busy": "2022-05-29T12:15:29.532509Z",
     "iopub.status.idle": "2022-05-29T12:15:29.580907Z",
     "shell.execute_reply": "2022-05-29T12:15:29.579503Z"
    },
    "papermill": {
     "duration": 0.093813,
     "end_time": "2022-05-29T12:15:29.581088",
     "exception": false,
     "start_time": "2022-05-29T12:15:29.487275",
     "status": "completed"
    },
    "tags": []
   },
   "outputs": [],
   "source": [
    "#hide\n",
    "mapping = get_mappings(paths['mapping'])"
   ]
  },
  {
   "cell_type": "code",
   "execution_count": 6,
   "id": "certified-tactics",
   "metadata": {
    "execution": {
     "iopub.execute_input": "2022-05-29T12:15:29.661133Z",
     "iopub.status.busy": "2022-05-29T12:15:29.660288Z",
     "iopub.status.idle": "2022-05-29T12:15:29.664734Z",
     "shell.execute_reply": "2022-05-29T12:15:29.663858Z"
    },
    "papermill": {
     "duration": 0.046126,
     "end_time": "2022-05-29T12:15:29.664875",
     "exception": false,
     "start_time": "2022-05-29T12:15:29.618749",
     "status": "completed"
    },
    "tags": []
   },
   "outputs": [],
   "source": [
    "#hide\n",
    "def get_template(path):\n",
    "    from urllib.parse import urlparse\n",
    "    if bool(urlparse(path).netloc):\n",
    "        from urllib.request import urlopen\n",
    "        return urlopen(path).read().decode('utf8')\n",
    "    return open(path).read()"
   ]
  },
  {
   "cell_type": "code",
   "execution_count": 7,
   "id": "realistic-blast",
   "metadata": {
    "execution": {
     "iopub.execute_input": "2022-05-29T12:15:29.744227Z",
     "iopub.status.busy": "2022-05-29T12:15:29.743465Z",
     "iopub.status.idle": "2022-05-29T12:15:29.746324Z",
     "shell.execute_reply": "2022-05-29T12:15:29.745681Z"
    },
    "papermill": {
     "duration": 0.044041,
     "end_time": "2022-05-29T12:15:29.746432",
     "exception": false,
     "start_time": "2022-05-29T12:15:29.702391",
     "status": "completed"
    },
    "tags": []
   },
   "outputs": [],
   "source": [
    "#hide\n",
    "def get_frame(name):\n",
    "    url = (\n",
    "        'https://raw.githubusercontent.com/CSSEGISandData/COVID-19/master/csse_covid_19_data/'\n",
    "        f'csse_covid_19_time_series/time_series_covid19_{name}_global.csv')\n",
    "    df = pd.read_csv(url)\n",
    "    # rename countries\n",
    "    df['Country/Region'] = df['Country/Region'].replace(mapping['replace.country'])\n",
    "    return df"
   ]
  },
  {
   "cell_type": "code",
   "execution_count": 8,
   "id": "affiliated-characterization",
   "metadata": {
    "execution": {
     "iopub.execute_input": "2022-05-29T12:15:29.823380Z",
     "iopub.status.busy": "2022-05-29T12:15:29.822499Z",
     "iopub.status.idle": "2022-05-29T12:15:29.826580Z",
     "shell.execute_reply": "2022-05-29T12:15:29.825589Z"
    },
    "papermill": {
     "duration": 0.045951,
     "end_time": "2022-05-29T12:15:29.826739",
     "exception": false,
     "start_time": "2022-05-29T12:15:29.780788",
     "status": "completed"
    },
    "tags": []
   },
   "outputs": [],
   "source": [
    "#hide\n",
    "def get_dates(df):\n",
    "    dt_cols = df.columns[~df.columns.isin(['Province/State', 'Country/Region', 'Lat', 'Long'])]\n",
    "    LAST_DATE_I = -1\n",
    "    # sometimes last column may be empty, then go backwards\n",
    "    for i in range(-1, -len(dt_cols), -1):\n",
    "        if not df[dt_cols[i]].fillna(0).eq(0).all():\n",
    "            LAST_DATE_I = i\n",
    "            break\n",
    "    return LAST_DATE_I, dt_cols"
   ]
  },
  {
   "cell_type": "code",
   "execution_count": 9,
   "id": "recent-optimization",
   "metadata": {
    "execution": {
     "iopub.execute_input": "2022-05-29T12:15:29.905507Z",
     "iopub.status.busy": "2022-05-29T12:15:29.904586Z",
     "iopub.status.idle": "2022-05-29T12:15:30.308359Z",
     "shell.execute_reply": "2022-05-29T12:15:30.307800Z"
    },
    "papermill": {
     "duration": 0.445817,
     "end_time": "2022-05-29T12:15:30.308491",
     "exception": false,
     "start_time": "2022-05-29T12:15:29.862674",
     "status": "completed"
    },
    "tags": []
   },
   "outputs": [],
   "source": [
    "#hide\n",
    "COL_REGION = 'Country/Region'\n",
    "# Confirmed, Recovered, Deaths\n",
    "df = get_frame('confirmed')\n",
    "# dft_: timeseries, dfc_: today country agg\n",
    "dft_cases = df\n",
    "dft_deaths = get_frame('deaths')\n",
    "dft_recovered = get_frame('recovered')\n",
    "LAST_DATE_I, dt_cols = get_dates(df)"
   ]
  },
  {
   "cell_type": "code",
   "execution_count": 10,
   "id": "absolute-copper",
   "metadata": {
    "execution": {
     "iopub.execute_input": "2022-05-29T12:15:30.392242Z",
     "iopub.status.busy": "2022-05-29T12:15:30.391546Z",
     "iopub.status.idle": "2022-05-29T12:15:30.394579Z",
     "shell.execute_reply": "2022-05-29T12:15:30.393969Z"
    },
    "papermill": {
     "duration": 0.043867,
     "end_time": "2022-05-29T12:15:30.394728",
     "exception": false,
     "start_time": "2022-05-29T12:15:30.350861",
     "status": "completed"
    },
    "tags": []
   },
   "outputs": [],
   "source": [
    "#hide\n",
    "LAST_DATE_I, dt_cols = get_dates(df)\n",
    "dt_today =dt_cols[LAST_DATE_I]\n",
    "# dt_5day = dt_cols[LAST_DATE_I - 5]\n",
    "dt_yday = dt_cols[LAST_DATE_I - 1]"
   ]
  },
  {
   "cell_type": "code",
   "execution_count": 11,
   "id": "restricted-sheriff",
   "metadata": {
    "execution": {
     "iopub.execute_input": "2022-05-29T12:15:30.471561Z",
     "iopub.status.busy": "2022-05-29T12:15:30.470670Z",
     "iopub.status.idle": "2022-05-29T12:15:30.478585Z",
     "shell.execute_reply": "2022-05-29T12:15:30.479218Z"
    },
    "papermill": {
     "duration": 0.049564,
     "end_time": "2022-05-29T12:15:30.479336",
     "exception": false,
     "start_time": "2022-05-29T12:15:30.429772",
     "status": "completed"
    },
    "tags": []
   },
   "outputs": [],
   "source": [
    "#hide\n",
    "dfc_cases = dft_cases.groupby(COL_REGION)[dt_today].sum()\n",
    "dfc_deaths = dft_deaths.groupby(COL_REGION)[dt_today].sum()\n",
    "# dfp_cases = dft_cases.groupby(COL_REGION)[dt_5day].sum()\n",
    "# dfp_deaths = dft_deaths.groupby(COL_REGION)[dt_5day].sum()\n",
    "dfp_cases = dft_cases.groupby(COL_REGION)[dt_yday].sum()\n",
    "dfp_deaths = dft_deaths.groupby(COL_REGION)[dt_yday].sum()"
   ]
  },
  {
   "cell_type": "code",
   "execution_count": 12,
   "id": "deluxe-hepatitis",
   "metadata": {
    "execution": {
     "iopub.execute_input": "2022-05-29T12:15:30.557152Z",
     "iopub.status.busy": "2022-05-29T12:15:30.556287Z",
     "iopub.status.idle": "2022-05-29T12:15:30.564478Z",
     "shell.execute_reply": "2022-05-29T12:15:30.563745Z"
    },
    "papermill": {
     "duration": 0.050358,
     "end_time": "2022-05-29T12:15:30.564615",
     "exception": false,
     "start_time": "2022-05-29T12:15:30.514257",
     "status": "completed"
    },
    "tags": []
   },
   "outputs": [],
   "source": [
    "#hide\n",
    "df_table = (pd.DataFrame(dict(Cases = dfc_cases, Deaths = dfc_deaths, PCases = dfp_cases, PDeaths = dfp_deaths))\n",
    "            .sort_values(by = ['Cases','Deaths'], ascending = [False, False])\n",
    "            .reset_index())"
   ]
  },
  {
   "cell_type": "code",
   "execution_count": 13,
   "id": "educational-chancellor",
   "metadata": {
    "execution": {
     "iopub.execute_input": "2022-05-29T12:15:30.655219Z",
     "iopub.status.busy": "2022-05-29T12:15:30.654497Z",
     "iopub.status.idle": "2022-05-29T12:15:30.675133Z",
     "shell.execute_reply": "2022-05-29T12:15:30.674537Z"
    },
    "papermill": {
     "duration": 0.071815,
     "end_time": "2022-05-29T12:15:30.675255",
     "exception": false,
     "start_time": "2022-05-29T12:15:30.603440",
     "status": "completed"
    },
    "tags": []
   },
   "outputs": [
    {
     "data": {
      "text/html": [
       "<div>\n",
       "<style scoped>\n",
       "    .dataframe tbody tr th:only-of-type {\n",
       "        vertical-align: middle;\n",
       "    }\n",
       "\n",
       "    .dataframe tbody tr th {\n",
       "        vertical-align: top;\n",
       "    }\n",
       "\n",
       "    .dataframe thead th {\n",
       "        text-align: right;\n",
       "    }\n",
       "</style>\n",
       "<table border=\"1\" class=\"dataframe\">\n",
       "  <thead>\n",
       "    <tr style=\"text-align: right;\">\n",
       "      <th></th>\n",
       "      <th>Country/Region</th>\n",
       "      <th>Cases</th>\n",
       "      <th>Deaths</th>\n",
       "      <th>PCases</th>\n",
       "      <th>PDeaths</th>\n",
       "      <th>Cases (+)</th>\n",
       "      <th>Deaths (+)</th>\n",
       "      <th>Fatality Rate</th>\n",
       "      <th>Continent</th>\n",
       "    </tr>\n",
       "  </thead>\n",
       "  <tbody>\n",
       "    <tr>\n",
       "      <th>0</th>\n",
       "      <td>US</td>\n",
       "      <td>83980356</td>\n",
       "      <td>1004726</td>\n",
       "      <td>83969313</td>\n",
       "      <td>1004693</td>\n",
       "      <td>11043</td>\n",
       "      <td>33</td>\n",
       "      <td>1.20</td>\n",
       "      <td>North America</td>\n",
       "    </tr>\n",
       "    <tr>\n",
       "      <th>1</th>\n",
       "      <td>India</td>\n",
       "      <td>43153043</td>\n",
       "      <td>524586</td>\n",
       "      <td>43150215</td>\n",
       "      <td>524572</td>\n",
       "      <td>2828</td>\n",
       "      <td>14</td>\n",
       "      <td>1.22</td>\n",
       "      <td>Asia</td>\n",
       "    </tr>\n",
       "    <tr>\n",
       "      <th>2</th>\n",
       "      <td>Brazil</td>\n",
       "      <td>30945384</td>\n",
       "      <td>666391</td>\n",
       "      <td>30921145</td>\n",
       "      <td>666319</td>\n",
       "      <td>24239</td>\n",
       "      <td>72</td>\n",
       "      <td>2.15</td>\n",
       "      <td>South America</td>\n",
       "    </tr>\n",
       "    <tr>\n",
       "      <th>3</th>\n",
       "      <td>France</td>\n",
       "      <td>29655398</td>\n",
       "      <td>149168</td>\n",
       "      <td>29631816</td>\n",
       "      <td>149168</td>\n",
       "      <td>23582</td>\n",
       "      <td>0</td>\n",
       "      <td>0.50</td>\n",
       "      <td>Europe</td>\n",
       "    </tr>\n",
       "    <tr>\n",
       "      <th>4</th>\n",
       "      <td>Germany</td>\n",
       "      <td>26243352</td>\n",
       "      <td>138862</td>\n",
       "      <td>26240639</td>\n",
       "      <td>138854</td>\n",
       "      <td>2713</td>\n",
       "      <td>8</td>\n",
       "      <td>0.53</td>\n",
       "      <td>Europe</td>\n",
       "    </tr>\n",
       "  </tbody>\n",
       "</table>\n",
       "</div>"
      ],
      "text/plain": [
       "  Country/Region     Cases   Deaths    PCases  PDeaths  Cases (+)  Deaths (+)  \\\n",
       "0             US  83980356  1004726  83969313  1004693      11043          33   \n",
       "1          India  43153043   524586  43150215   524572       2828          14   \n",
       "2         Brazil  30945384   666391  30921145   666319      24239          72   \n",
       "3         France  29655398   149168  29631816   149168      23582           0   \n",
       "4        Germany  26243352   138862  26240639   138854       2713           8   \n",
       "\n",
       "   Fatality Rate      Continent  \n",
       "0           1.20  North America  \n",
       "1           1.22           Asia  \n",
       "2           2.15  South America  \n",
       "3           0.50         Europe  \n",
       "4           0.53         Europe  "
      ]
     },
     "execution_count": 13,
     "metadata": {},
     "output_type": "execute_result"
    }
   ],
   "source": [
    "#hide\n",
    "for c in 'Cases, Deaths'.split(', '):\n",
    "    df_table[f'{c} (+)'] = (df_table[c] - df_table[f'P{c}']).clip(0)\n",
    "    #Clip ça veut dire, les chiffres negatif sont interdit\n",
    "df_table['Fatality Rate'] = (100* df_table['Deaths']/ df_table['Cases']).round(2)\n",
    "df_table['Continent'] = df_table['Country/Region'].map(mapping['map.continent'])\n",
    "df_table.head(5)"
   ]
  },
  {
   "cell_type": "code",
   "execution_count": 14,
   "id": "aboriginal-bulgaria",
   "metadata": {
    "execution": {
     "iopub.execute_input": "2022-05-29T12:15:30.753360Z",
     "iopub.status.busy": "2022-05-29T12:15:30.752657Z",
     "iopub.status.idle": "2022-05-29T12:15:30.756575Z",
     "shell.execute_reply": "2022-05-29T12:15:30.757157Z"
    },
    "papermill": {
     "duration": 0.045562,
     "end_time": "2022-05-29T12:15:30.757310",
     "exception": false,
     "start_time": "2022-05-29T12:15:30.711748",
     "status": "completed"
    },
    "tags": []
   },
   "outputs": [],
   "source": [
    "#hide\n",
    "#delete problematic countries from table\n",
    "df_table = df_table[~df_table['Country/Region'].isin(['Cape Verde', 'Cruise Ship', 'Kosovo'])]"
   ]
  },
  {
   "cell_type": "code",
   "execution_count": 15,
   "id": "fantastic-effect",
   "metadata": {
    "execution": {
     "iopub.execute_input": "2022-05-29T12:15:30.847326Z",
     "iopub.status.busy": "2022-05-29T12:15:30.846658Z",
     "iopub.status.idle": "2022-05-29T12:15:30.871827Z",
     "shell.execute_reply": "2022-05-29T12:15:30.871270Z"
    },
    "papermill": {
     "duration": 0.072564,
     "end_time": "2022-05-29T12:15:30.871950",
     "exception": false,
     "start_time": "2022-05-29T12:15:30.799386",
     "status": "completed"
    },
    "tags": []
   },
   "outputs": [
    {
     "data": {
      "text/html": [
       "<div>\n",
       "<style scoped>\n",
       "    .dataframe tbody tr th:only-of-type {\n",
       "        vertical-align: middle;\n",
       "    }\n",
       "\n",
       "    .dataframe tbody tr th {\n",
       "        vertical-align: top;\n",
       "    }\n",
       "\n",
       "    .dataframe thead th {\n",
       "        text-align: right;\n",
       "    }\n",
       "</style>\n",
       "<table border=\"1\" class=\"dataframe\">\n",
       "  <thead>\n",
       "    <tr style=\"text-align: right;\">\n",
       "      <th></th>\n",
       "      <th>Country/Region</th>\n",
       "      <th>Cases</th>\n",
       "      <th>Deaths</th>\n",
       "      <th>PCases</th>\n",
       "      <th>PDeaths</th>\n",
       "      <th>Cases (+)</th>\n",
       "      <th>Deaths (+)</th>\n",
       "      <th>Fatality Rate</th>\n",
       "      <th>Continent</th>\n",
       "    </tr>\n",
       "  </thead>\n",
       "  <tbody>\n",
       "    <tr>\n",
       "      <th>0</th>\n",
       "      <td>US</td>\n",
       "      <td>83980356</td>\n",
       "      <td>1004726</td>\n",
       "      <td>83969313</td>\n",
       "      <td>1004693</td>\n",
       "      <td>11043</td>\n",
       "      <td>33</td>\n",
       "      <td>1.2</td>\n",
       "      <td>North America</td>\n",
       "    </tr>\n",
       "    <tr>\n",
       "      <th>1</th>\n",
       "      <td>India</td>\n",
       "      <td>43153043</td>\n",
       "      <td>524586</td>\n",
       "      <td>43150215</td>\n",
       "      <td>524572</td>\n",
       "      <td>2828</td>\n",
       "      <td>14</td>\n",
       "      <td>1.2</td>\n",
       "      <td>Asia</td>\n",
       "    </tr>\n",
       "    <tr>\n",
       "      <th>2</th>\n",
       "      <td>Brazil</td>\n",
       "      <td>30945384</td>\n",
       "      <td>666391</td>\n",
       "      <td>30921145</td>\n",
       "      <td>666319</td>\n",
       "      <td>24239</td>\n",
       "      <td>72</td>\n",
       "      <td>2.2</td>\n",
       "      <td>South America</td>\n",
       "    </tr>\n",
       "    <tr>\n",
       "      <th>3</th>\n",
       "      <td>France</td>\n",
       "      <td>29655398</td>\n",
       "      <td>149168</td>\n",
       "      <td>29631816</td>\n",
       "      <td>149168</td>\n",
       "      <td>23582</td>\n",
       "      <td>0</td>\n",
       "      <td>0.5</td>\n",
       "      <td>Europe</td>\n",
       "    </tr>\n",
       "    <tr>\n",
       "      <th>4</th>\n",
       "      <td>Germany</td>\n",
       "      <td>26243352</td>\n",
       "      <td>138862</td>\n",
       "      <td>26240639</td>\n",
       "      <td>138854</td>\n",
       "      <td>2713</td>\n",
       "      <td>8</td>\n",
       "      <td>0.5</td>\n",
       "      <td>Europe</td>\n",
       "    </tr>\n",
       "  </tbody>\n",
       "</table>\n",
       "</div>"
      ],
      "text/plain": [
       "  Country/Region     Cases   Deaths    PCases  PDeaths  Cases (+)  Deaths (+)  \\\n",
       "0             US  83980356  1004726  83969313  1004693      11043          33   \n",
       "1          India  43153043   524586  43150215   524572       2828          14   \n",
       "2         Brazil  30945384   666391  30921145   666319      24239          72   \n",
       "3         France  29655398   149168  29631816   149168      23582           0   \n",
       "4        Germany  26243352   138862  26240639   138854       2713           8   \n",
       "\n",
       "   Fatality Rate      Continent  \n",
       "0            1.2  North America  \n",
       "1            1.2           Asia  \n",
       "2            2.2  South America  \n",
       "3            0.5         Europe  \n",
       "4            0.5         Europe  "
      ]
     },
     "execution_count": 15,
     "metadata": {},
     "output_type": "execute_result"
    }
   ],
   "source": [
    "#hide\n",
    "df_table = (pd.DataFrame(dict(Cases=dfc_cases, Deaths=dfc_deaths, PCases=dfp_cases, PDeaths=dfp_deaths))\n",
    "             .sort_values(by=['Cases', 'Deaths'], ascending=[False, False])\n",
    "             .reset_index())\n",
    "df_table.rename(columns={'index': 'Country/Region'}, inplace=True)\n",
    "for c in 'Cases, Deaths'.split(', '):\n",
    "    df_table[f'{c} (+)'] = (df_table[c] - df_table[f'P{c}']).clip(0)  # DATA BUG\n",
    "df_table['Fatality Rate'] = (100 * df_table['Deaths'] / df_table['Cases']).round(1)\n",
    "df_table['Continent'] = df_table['Country/Region'].map(mapping['map.continent'])\n",
    "df_table.head(5)"
   ]
  },
  {
   "cell_type": "code",
   "execution_count": 16,
   "id": "fewer-occasion",
   "metadata": {
    "execution": {
     "iopub.execute_input": "2022-05-29T12:15:30.954913Z",
     "iopub.status.busy": "2022-05-29T12:15:30.954113Z",
     "iopub.status.idle": "2022-05-29T12:15:30.958183Z",
     "shell.execute_reply": "2022-05-29T12:15:30.958764Z"
    },
    "papermill": {
     "duration": 0.046691,
     "end_time": "2022-05-29T12:15:30.958935",
     "exception": false,
     "start_time": "2022-05-29T12:15:30.912244",
     "status": "completed"
    },
    "tags": []
   },
   "outputs": [],
   "source": [
    "#hide\n",
    "#delete problematic countries from table\n",
    "df_table = df_table[~df_table['Country/Region'].isin(['Cape Verde', 'Cruise Ship', 'Kosovo'])]"
   ]
  },
  {
   "cell_type": "code",
   "execution_count": 17,
   "id": "related-center",
   "metadata": {
    "execution": {
     "iopub.execute_input": "2022-05-29T12:15:31.053574Z",
     "iopub.status.busy": "2022-05-29T12:15:31.052910Z",
     "iopub.status.idle": "2022-05-29T12:15:31.055687Z",
     "shell.execute_reply": "2022-05-29T12:15:31.055087Z"
    },
    "papermill": {
     "duration": 0.05837,
     "end_time": "2022-05-29T12:15:31.055800",
     "exception": false,
     "start_time": "2022-05-29T12:15:30.997430",
     "status": "completed"
    },
    "tags": []
   },
   "outputs": [],
   "source": [
    "#hide\n",
    "metrics = [df_table.columns[index] for index in [1,2,5,6]]\n",
    "# s_china = df_table[df_table['Country/Region'].eq('China')][metrics].sum().add_prefix('China ')\n",
    "s_us = df_table[df_table['Country/Region'].eq('US')][metrics].sum().add_prefix('US ')\n",
    "s_eu = df_table[df_table['Continent'].eq('Europe')][metrics].sum().add_prefix('EU ')\n",
    "s_ind = df_table[df_table['Country/Region'].eq('India')][metrics].sum().add_prefix('India ')\n",
    "summary = {'updated': pd.to_datetime(dt_today), 'since': pd.to_datetime(dt_yday)}\n",
    "summary = {'updated': pd.to_datetime(dt_today), 'since': pd.to_datetime(dt_yday)}\n",
    "summary = {**summary, **df_table[metrics].sum(), **s_ind, **s_us, **s_eu}"
   ]
  },
  {
   "cell_type": "code",
   "execution_count": 18,
   "id": "engaging-syndrome",
   "metadata": {
    "execution": {
     "iopub.execute_input": "2022-05-29T12:15:31.138769Z",
     "iopub.status.busy": "2022-05-29T12:15:31.137827Z",
     "iopub.status.idle": "2022-05-29T12:15:31.158065Z",
     "shell.execute_reply": "2022-05-29T12:15:31.157325Z"
    },
    "papermill": {
     "duration": 0.064044,
     "end_time": "2022-05-29T12:15:31.158189",
     "exception": false,
     "start_time": "2022-05-29T12:15:31.094145",
     "status": "completed"
    },
    "tags": []
   },
   "outputs": [],
   "source": [
    "#hide\n",
    "dft_ct_new_cases = dft_cases.groupby(COL_REGION)[dt_cols].sum().diff(axis=1).fillna(0).astype(int)"
   ]
  },
  {
   "cell_type": "code",
   "execution_count": 19,
   "id": "neutral-assignment",
   "metadata": {
    "execution": {
     "iopub.execute_input": "2022-05-29T12:15:31.236553Z",
     "iopub.status.busy": "2022-05-29T12:15:31.235901Z",
     "iopub.status.idle": "2022-05-29T12:15:31.238773Z",
     "shell.execute_reply": "2022-05-29T12:15:31.238247Z"
    },
    "papermill": {
     "duration": 0.043599,
     "end_time": "2022-05-29T12:15:31.238893",
     "exception": false,
     "start_time": "2022-05-29T12:15:31.195294",
     "status": "completed"
    },
    "tags": []
   },
   "outputs": [],
   "source": [
    "#hide\n",
    "everydaycases = dft_ct_new_cases.cumsum(axis=1)"
   ]
  },
  {
   "cell_type": "code",
   "execution_count": 20,
   "id": "parliamentary-calgary",
   "metadata": {
    "execution": {
     "iopub.execute_input": "2022-05-29T12:15:31.314450Z",
     "iopub.status.busy": "2022-05-29T12:15:31.313751Z",
     "iopub.status.idle": "2022-05-29T12:15:31.913928Z",
     "shell.execute_reply": "2022-05-29T12:15:31.912666Z"
    },
    "papermill": {
     "duration": 0.639414,
     "end_time": "2022-05-29T12:15:31.914126",
     "exception": false,
     "start_time": "2022-05-29T12:15:31.274712",
     "status": "completed"
    },
    "tags": []
   },
   "outputs": [],
   "source": [
    "#hide\n",
    "import pandas as pd\n",
    "import matplotlib.pyplot as plt\n",
    "import matplotlib.ticker as ticker\n",
    "import matplotlib.animation as animation\n",
    "from IPython.display import HTML"
   ]
  },
  {
   "cell_type": "code",
   "execution_count": 21,
   "id": "lasting-extraction",
   "metadata": {
    "execution": {
     "iopub.execute_input": "2022-05-29T12:15:31.995461Z",
     "iopub.status.busy": "2022-05-29T12:15:31.994484Z",
     "iopub.status.idle": "2022-05-29T12:15:32.002342Z",
     "shell.execute_reply": "2022-05-29T12:15:32.001800Z"
    },
    "papermill": {
     "duration": 0.052631,
     "end_time": "2022-05-29T12:15:32.002450",
     "exception": false,
     "start_time": "2022-05-29T12:15:31.949819",
     "status": "completed"
    },
    "tags": []
   },
   "outputs": [],
   "source": [
    "#hide\n",
    "t = everydaycases.stack()"
   ]
  },
  {
   "cell_type": "code",
   "execution_count": 22,
   "id": "premier-sleeve",
   "metadata": {
    "execution": {
     "iopub.execute_input": "2022-05-29T12:15:32.086103Z",
     "iopub.status.busy": "2022-05-29T12:15:32.085163Z",
     "iopub.status.idle": "2022-05-29T12:15:32.098219Z",
     "shell.execute_reply": "2022-05-29T12:15:32.097693Z"
    },
    "papermill": {
     "duration": 0.058896,
     "end_time": "2022-05-29T12:15:32.098338",
     "exception": false,
     "start_time": "2022-05-29T12:15:32.039442",
     "status": "completed"
    },
    "tags": []
   },
   "outputs": [],
   "source": [
    "#hide\n",
    "g = t.reset_index(['Country/Region'])"
   ]
  },
  {
   "cell_type": "code",
   "execution_count": 23,
   "id": "distributed-pittsburgh",
   "metadata": {
    "execution": {
     "iopub.execute_input": "2022-05-29T12:15:32.179078Z",
     "iopub.status.busy": "2022-05-29T12:15:32.178259Z",
     "iopub.status.idle": "2022-05-29T12:15:32.181816Z",
     "shell.execute_reply": "2022-05-29T12:15:32.181029Z"
    },
    "papermill": {
     "duration": 0.047464,
     "end_time": "2022-05-29T12:15:32.181936",
     "exception": false,
     "start_time": "2022-05-29T12:15:32.134472",
     "status": "completed"
    },
    "tags": []
   },
   "outputs": [],
   "source": [
    "#hide\n",
    "g.index.name = 'date'"
   ]
  },
  {
   "cell_type": "code",
   "execution_count": 24,
   "id": "naked-donor",
   "metadata": {
    "execution": {
     "iopub.execute_input": "2022-05-29T12:15:32.260687Z",
     "iopub.status.busy": "2022-05-29T12:15:32.260051Z",
     "iopub.status.idle": "2022-05-29T12:15:32.263363Z",
     "shell.execute_reply": "2022-05-29T12:15:32.262831Z"
    },
    "papermill": {
     "duration": 0.043527,
     "end_time": "2022-05-29T12:15:32.263475",
     "exception": false,
     "start_time": "2022-05-29T12:15:32.219948",
     "status": "completed"
    },
    "tags": []
   },
   "outputs": [],
   "source": [
    "# #hide\n",
    "# g = g.reset_index(['date'])"
   ]
  },
  {
   "cell_type": "code",
   "execution_count": 25,
   "id": "incomplete-mustang",
   "metadata": {
    "execution": {
     "iopub.execute_input": "2022-05-29T12:15:32.343350Z",
     "iopub.status.busy": "2022-05-29T12:15:32.342637Z",
     "iopub.status.idle": "2022-05-29T12:15:32.345750Z",
     "shell.execute_reply": "2022-05-29T12:15:32.345119Z"
    },
    "papermill": {
     "duration": 0.045396,
     "end_time": "2022-05-29T12:15:32.345892",
     "exception": false,
     "start_time": "2022-05-29T12:15:32.300496",
     "status": "completed"
    },
    "tags": []
   },
   "outputs": [],
   "source": [
    "#hide\n",
    "# g.head()"
   ]
  },
  {
   "cell_type": "code",
   "execution_count": 26,
   "id": "specific-kruger",
   "metadata": {
    "execution": {
     "iopub.execute_input": "2022-05-29T12:15:32.423560Z",
     "iopub.status.busy": "2022-05-29T12:15:32.422540Z",
     "iopub.status.idle": "2022-05-29T12:15:32.427894Z",
     "shell.execute_reply": "2022-05-29T12:15:32.427388Z"
    },
    "papermill": {
     "duration": 0.043974,
     "end_time": "2022-05-29T12:15:32.428016",
     "exception": false,
     "start_time": "2022-05-29T12:15:32.384042",
     "status": "completed"
    },
    "tags": []
   },
   "outputs": [],
   "source": [
    "#hide\n",
    "# g.columns = ['date','country','cases']"
   ]
  },
  {
   "cell_type": "code",
   "execution_count": 27,
   "id": "tender-conversion",
   "metadata": {
    "execution": {
     "iopub.execute_input": "2022-05-29T12:15:32.506313Z",
     "iopub.status.busy": "2022-05-29T12:15:32.505549Z",
     "iopub.status.idle": "2022-05-29T12:15:32.508524Z",
     "shell.execute_reply": "2022-05-29T12:15:32.507888Z"
    },
    "papermill": {
     "duration": 0.045109,
     "end_time": "2022-05-29T12:15:32.508633",
     "exception": false,
     "start_time": "2022-05-29T12:15:32.463524",
     "status": "completed"
    },
    "tags": []
   },
   "outputs": [],
   "source": [
    "#hide\n",
    "# g['continent'] = g.country"
   ]
  },
  {
   "cell_type": "code",
   "execution_count": 28,
   "id": "substantial-wilderness",
   "metadata": {
    "execution": {
     "iopub.execute_input": "2022-05-29T12:15:32.589231Z",
     "iopub.status.busy": "2022-05-29T12:15:32.588349Z",
     "iopub.status.idle": "2022-05-29T12:15:32.590895Z",
     "shell.execute_reply": "2022-05-29T12:15:32.591440Z"
    },
    "papermill": {
     "duration": 0.044683,
     "end_time": "2022-05-29T12:15:32.591570",
     "exception": false,
     "start_time": "2022-05-29T12:15:32.546887",
     "status": "completed"
    },
    "tags": []
   },
   "outputs": [],
   "source": [
    "#hide\n",
    "# cols = list(g.columns.values)"
   ]
  },
  {
   "cell_type": "code",
   "execution_count": 29,
   "id": "solved-farming",
   "metadata": {
    "execution": {
     "iopub.execute_input": "2022-05-29T12:15:32.672064Z",
     "iopub.status.busy": "2022-05-29T12:15:32.671240Z",
     "iopub.status.idle": "2022-05-29T12:15:32.674400Z",
     "shell.execute_reply": "2022-05-29T12:15:32.673720Z"
    },
    "papermill": {
     "duration": 0.044298,
     "end_time": "2022-05-29T12:15:32.674512",
     "exception": false,
     "start_time": "2022-05-29T12:15:32.630214",
     "status": "completed"
    },
    "tags": []
   },
   "outputs": [],
   "source": [
    "#hide\n",
    "# cols.insert(0, cols.pop())"
   ]
  },
  {
   "cell_type": "code",
   "execution_count": 30,
   "id": "executed-adoption",
   "metadata": {
    "execution": {
     "iopub.execute_input": "2022-05-29T12:15:32.759578Z",
     "iopub.status.busy": "2022-05-29T12:15:32.758926Z",
     "iopub.status.idle": "2022-05-29T12:15:32.761771Z",
     "shell.execute_reply": "2022-05-29T12:15:32.761144Z"
    },
    "papermill": {
     "duration": 0.046592,
     "end_time": "2022-05-29T12:15:32.761887",
     "exception": false,
     "start_time": "2022-05-29T12:15:32.715295",
     "status": "completed"
    },
    "tags": []
   },
   "outputs": [],
   "source": [
    "#hide\n",
    "# g = g[cols]"
   ]
  },
  {
   "cell_type": "code",
   "execution_count": 31,
   "id": "subject-dublin",
   "metadata": {
    "execution": {
     "iopub.execute_input": "2022-05-29T12:15:32.841972Z",
     "iopub.status.busy": "2022-05-29T12:15:32.841281Z",
     "iopub.status.idle": "2022-05-29T12:15:32.844516Z",
     "shell.execute_reply": "2022-05-29T12:15:32.843713Z"
    },
    "papermill": {
     "duration": 0.045792,
     "end_time": "2022-05-29T12:15:32.844643",
     "exception": false,
     "start_time": "2022-05-29T12:15:32.798851",
     "status": "completed"
    },
    "tags": []
   },
   "outputs": [],
   "source": [
    "#hide\n",
    "# g['continent'] = g['continent'].map(mapping['map.continent'])"
   ]
  },
  {
   "cell_type": "code",
   "execution_count": 32,
   "id": "freelance-scout",
   "metadata": {
    "execution": {
     "iopub.execute_input": "2022-05-29T12:15:32.925906Z",
     "iopub.status.busy": "2022-05-29T12:15:32.925236Z",
     "iopub.status.idle": "2022-05-29T12:15:32.929001Z",
     "shell.execute_reply": "2022-05-29T12:15:32.927757Z"
    },
    "papermill": {
     "duration": 0.0465,
     "end_time": "2022-05-29T12:15:32.929138",
     "exception": false,
     "start_time": "2022-05-29T12:15:32.882638",
     "status": "completed"
    },
    "tags": []
   },
   "outputs": [],
   "source": [
    "#hide\n",
    "# g.head()"
   ]
  },
  {
   "cell_type": "code",
   "execution_count": 33,
   "id": "limited-engine",
   "metadata": {
    "execution": {
     "iopub.execute_input": "2022-05-29T12:15:33.005385Z",
     "iopub.status.busy": "2022-05-29T12:15:33.004561Z",
     "iopub.status.idle": "2022-05-29T12:15:33.007170Z",
     "shell.execute_reply": "2022-05-29T12:15:33.007672Z"
    },
    "papermill": {
     "duration": 0.04325,
     "end_time": "2022-05-29T12:15:33.007804",
     "exception": false,
     "start_time": "2022-05-29T12:15:32.964554",
     "status": "completed"
    },
    "tags": []
   },
   "outputs": [],
   "source": [
    "# hide\n",
    "# g['date'] = g['date'].astype('datetime64[ns]')"
   ]
  },
  {
   "cell_type": "code",
   "execution_count": 34,
   "id": "sophisticated-supervisor",
   "metadata": {
    "execution": {
     "iopub.execute_input": "2022-05-29T12:15:33.089358Z",
     "iopub.status.busy": "2022-05-29T12:15:33.088423Z",
     "iopub.status.idle": "2022-05-29T12:15:33.092492Z",
     "shell.execute_reply": "2022-05-29T12:15:33.091817Z"
    },
    "papermill": {
     "duration": 0.047843,
     "end_time": "2022-05-29T12:15:33.092610",
     "exception": false,
     "start_time": "2022-05-29T12:15:33.044767",
     "status": "completed"
    },
    "tags": []
   },
   "outputs": [],
   "source": [
    "#hide\n",
    "# g['date'] = g.date.dt.dayofyear"
   ]
  },
  {
   "cell_type": "code",
   "execution_count": 35,
   "id": "inside-dubai",
   "metadata": {
    "execution": {
     "iopub.execute_input": "2022-05-29T12:15:33.171612Z",
     "iopub.status.busy": "2022-05-29T12:15:33.170725Z",
     "iopub.status.idle": "2022-05-29T12:15:33.173943Z",
     "shell.execute_reply": "2022-05-29T12:15:33.173365Z"
    },
    "papermill": {
     "duration": 0.04384,
     "end_time": "2022-05-29T12:15:33.174090",
     "exception": false,
     "start_time": "2022-05-29T12:15:33.130250",
     "status": "completed"
    },
    "tags": []
   },
   "outputs": [],
   "source": [
    "#hide\n",
    "# g = g.rename(columns= {'continent':'group','country':'name','cases':'value'})"
   ]
  },
  {
   "cell_type": "code",
   "execution_count": 36,
   "id": "fleet-motorcycle",
   "metadata": {
    "execution": {
     "iopub.execute_input": "2022-05-29T12:15:33.258723Z",
     "iopub.status.busy": "2022-05-29T12:15:33.257951Z",
     "iopub.status.idle": "2022-05-29T12:15:33.261375Z",
     "shell.execute_reply": "2022-05-29T12:15:33.260537Z"
    },
    "papermill": {
     "duration": 0.047716,
     "end_time": "2022-05-29T12:15:33.261528",
     "exception": false,
     "start_time": "2022-05-29T12:15:33.213812",
     "status": "completed"
    },
    "tags": []
   },
   "outputs": [],
   "source": [
    "#hide\n",
    "# cols = ['name','group','day','value']"
   ]
  },
  {
   "cell_type": "code",
   "execution_count": 37,
   "id": "continued-sleeping",
   "metadata": {
    "execution": {
     "iopub.execute_input": "2022-05-29T12:15:33.340553Z",
     "iopub.status.busy": "2022-05-29T12:15:33.339764Z",
     "iopub.status.idle": "2022-05-29T12:15:33.343227Z",
     "shell.execute_reply": "2022-05-29T12:15:33.342449Z"
    },
    "papermill": {
     "duration": 0.04501,
     "end_time": "2022-05-29T12:15:33.343378",
     "exception": false,
     "start_time": "2022-05-29T12:15:33.298368",
     "status": "completed"
    },
    "tags": []
   },
   "outputs": [],
   "source": [
    "#hide\n",
    "# g.rename(columns= {'date':'day'},inplace = True)"
   ]
  },
  {
   "cell_type": "code",
   "execution_count": 38,
   "id": "major-fight",
   "metadata": {
    "execution": {
     "iopub.execute_input": "2022-05-29T12:15:33.419026Z",
     "iopub.status.busy": "2022-05-29T12:15:33.418340Z",
     "iopub.status.idle": "2022-05-29T12:15:33.421222Z",
     "shell.execute_reply": "2022-05-29T12:15:33.420553Z"
    },
    "papermill": {
     "duration": 0.041933,
     "end_time": "2022-05-29T12:15:33.421327",
     "exception": false,
     "start_time": "2022-05-29T12:15:33.379394",
     "status": "completed"
    },
    "tags": []
   },
   "outputs": [],
   "source": [
    "#hide\n",
    "# g = g[cols]"
   ]
  },
  {
   "cell_type": "code",
   "execution_count": 39,
   "id": "structured-mobile",
   "metadata": {
    "execution": {
     "iopub.execute_input": "2022-05-29T12:15:33.497572Z",
     "iopub.status.busy": "2022-05-29T12:15:33.496830Z",
     "iopub.status.idle": "2022-05-29T12:15:33.500420Z",
     "shell.execute_reply": "2022-05-29T12:15:33.499781Z"
    },
    "papermill": {
     "duration": 0.043922,
     "end_time": "2022-05-29T12:15:33.500529",
     "exception": false,
     "start_time": "2022-05-29T12:15:33.456607",
     "status": "completed"
    },
    "tags": []
   },
   "outputs": [],
   "source": [
    "# #hide\n",
    "# g = g[g.group.notna()]"
   ]
  },
  {
   "cell_type": "code",
   "execution_count": 40,
   "id": "determined-closing",
   "metadata": {
    "execution": {
     "iopub.execute_input": "2022-05-29T12:15:33.575874Z",
     "iopub.status.busy": "2022-05-29T12:15:33.574995Z",
     "iopub.status.idle": "2022-05-29T12:15:33.578033Z",
     "shell.execute_reply": "2022-05-29T12:15:33.578481Z"
    },
    "papermill": {
     "duration": 0.04239,
     "end_time": "2022-05-29T12:15:33.578599",
     "exception": false,
     "start_time": "2022-05-29T12:15:33.536209",
     "status": "completed"
    },
    "tags": []
   },
   "outputs": [],
   "source": [
    "# #hide\n",
    "# colors = dict(zip(\n",
    "#     [\"Oceania\", \"Europe\", \"Asia\", \"South America\", \"Middle East\", \"North America\", \"Africa\"],\n",
    "#     [\"#adb0ff\", \"#ffb3ff\", \"#90d595\", \"#e48381\", \"#aafbff\", \"#f7bb5f\", \"#eafb50\"]\n",
    "# ))\n",
    "# group_lk = g.set_index('name')['group'].to_dict()"
   ]
  },
  {
   "cell_type": "code",
   "execution_count": null,
   "id": "gross-drinking",
   "metadata": {
    "papermill": {
     "duration": 0.039062,
     "end_time": "2022-05-29T12:15:33.656330",
     "exception": false,
     "start_time": "2022-05-29T12:15:33.617268",
     "status": "completed"
    },
    "tags": []
   },
   "outputs": [],
   "source": []
  },
  {
   "cell_type": "code",
   "execution_count": 41,
   "id": "subject-macintosh",
   "metadata": {
    "execution": {
     "iopub.execute_input": "2022-05-29T12:15:33.736481Z",
     "iopub.status.busy": "2022-05-29T12:15:33.735704Z",
     "iopub.status.idle": "2022-05-29T12:15:33.740393Z",
     "shell.execute_reply": "2022-05-29T12:15:33.740908Z"
    },
    "papermill": {
     "duration": 0.046236,
     "end_time": "2022-05-29T12:15:33.741102",
     "exception": false,
     "start_time": "2022-05-29T12:15:33.694866",
     "status": "completed"
    },
    "tags": []
   },
   "outputs": [],
   "source": [
    "# #hide\n",
    "# fig, ax = plt.subplots(figsize=(15, 8))\n",
    "\n",
    "# def draw_barchart(current_day):\n",
    "#     dff = g[g['day'].eq(current_day)].sort_values(by='value', ascending=True).tail(10)\n",
    "#     ax.clear()\n",
    "#     ax.barh(dff['name'], dff['value'], color=[colors[group_lk[x]] for x in dff['name']])\n",
    "#     dx = dff['value'].max() / 200\n",
    "    \n",
    "#     for i, (value, name) in enumerate(zip(dff['value'], dff['name'])):\n",
    "#         ax.text(value-dx, i,     name,           size=14, weight=600, ha='right', va='bottom')\n",
    "#         ax.text(value-dx, i-.25, group_lk[name], size=10, color='#444444', ha='right', va='baseline')\n",
    "#         ax.text(value+dx, i,     f'{value:,.0f}',  size=14, ha='left',  va='center')\n",
    "#     ax.text(1, 0.4, current_day, transform=ax.transAxes, color='#777777', size=46, ha='right', weight=800)\n",
    "#     ax.text(0, 1.06, 'Population (thousands)', transform=ax.transAxes, size=12, color='#777777')\n",
    "#     ax.xaxis.set_major_formatter(ticker.StrMethodFormatter('{x:,.0f}'))\n",
    "#     ax.xaxis.set_ticks_position('top')\n",
    "#     ax.tick_params(axis='x', colors='#777777', labelsize=12)\n",
    "#     ax.set_yticks([])\n",
    "#     ax.margins(0, 0.01)\n",
    "#     ax.grid(which='major', axis='x', linestyle='-')\n",
    "#     ax.set_axisbelow(True)\n",
    "    \n",
    "#     ax.text(0, 1.15, 'Coronavirus',\n",
    "#             transform=ax.transAxes, size=24, weight=600, ha='left', va='top')\n",
    "# #     ax.text(1, 0, 'by @pratapvardhan; credit @jburnmurdoch', transform=ax.transAxes, color='#777777', ha='right',\n",
    "# #             bbox=dict(facecolor='white', alpha=0.8, edgecolor='white'))\n",
    "#     plt.box(False)"
   ]
  },
  {
   "cell_type": "code",
   "execution_count": 42,
   "id": "sexual-wages",
   "metadata": {
    "execution": {
     "iopub.execute_input": "2022-05-29T12:15:33.820734Z",
     "iopub.status.busy": "2022-05-29T12:15:33.819918Z",
     "iopub.status.idle": "2022-05-29T12:15:33.823616Z",
     "shell.execute_reply": "2022-05-29T12:15:33.824185Z"
    },
    "papermill": {
     "duration": 0.046254,
     "end_time": "2022-05-29T12:15:33.824315",
     "exception": false,
     "start_time": "2022-05-29T12:15:33.778061",
     "status": "completed"
    },
    "tags": []
   },
   "outputs": [],
   "source": [
    "# #hide_input\n",
    "# fig, ax = plt.subplots(figsize=(15, 8))\n",
    "# animator = animation.FuncAnimation(fig, draw_barchart, frames=range(g.day.values.min(), g.day.values.max()))\n",
    "# HTML(animator.to_jshtml())\n",
    "# # or use animator.to_html5_video() or animator.save() "
   ]
  },
  {
   "cell_type": "code",
   "execution_count": null,
   "id": "australian-container",
   "metadata": {
    "papermill": {
     "duration": 0.035694,
     "end_time": "2022-05-29T12:15:33.897344",
     "exception": false,
     "start_time": "2022-05-29T12:15:33.861650",
     "status": "completed"
    },
    "tags": []
   },
   "outputs": [],
   "source": []
  },
  {
   "cell_type": "code",
   "execution_count": null,
   "id": "mediterranean-pontiac",
   "metadata": {
    "papermill": {
     "duration": 0.034655,
     "end_time": "2022-05-29T12:15:33.967025",
     "exception": false,
     "start_time": "2022-05-29T12:15:33.932370",
     "status": "completed"
    },
    "tags": []
   },
   "outputs": [],
   "source": []
  },
  {
   "cell_type": "code",
   "execution_count": null,
   "id": "aging-legislature",
   "metadata": {
    "papermill": {
     "duration": 0.03807,
     "end_time": "2022-05-29T12:15:34.041986",
     "exception": false,
     "start_time": "2022-05-29T12:15:34.003916",
     "status": "completed"
    },
    "tags": []
   },
   "outputs": [],
   "source": []
  }
 ],
 "metadata": {
  "kernelspec": {
   "display_name": "Python 3",
   "language": "python",
   "name": "python3"
  },
  "language_info": {
   "codemirror_mode": {
    "name": "ipython",
    "version": 3
   },
   "file_extension": ".py",
   "mimetype": "text/x-python",
   "name": "python",
   "nbconvert_exporter": "python",
   "pygments_lexer": "ipython3",
   "version": "3.6.15"
  },
  "papermill": {
   "duration": 6.903355,
   "end_time": "2022-05-29T12:15:34.398164",
   "environment_variables": {},
   "exception": null,
   "input_path": "2020-03-21-covid19exp.ipynb",
   "output_path": "2020-03-21-covid19exp.ipynb",
   "parameters": {},
   "start_time": "2022-05-29T12:15:27.494809",
   "version": "2.0.0"
  }
 },
 "nbformat": 4,
 "nbformat_minor": 5
}