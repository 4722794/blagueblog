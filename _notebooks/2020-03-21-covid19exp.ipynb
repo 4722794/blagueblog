{
 "cells": [
  {
   "cell_type": "markdown",
   "id": "muslim-click",
   "metadata": {
    "papermill": {
     "duration": 0.056334,
     "end_time": "2022-07-31T12:16:55.557510",
     "exception": false,
     "start_time": "2022-07-31T12:16:55.501176",
     "status": "completed"
    },
    "tags": []
   },
   "source": [
    "# COVID-19 Case Race\n",
    "> A race chart to see rising cases around the world\n",
    "\n",
    "- author: Hargun Oberoi\n",
    "- image: images/covid-overview.png\n",
    "- hide: false\n",
    "- badges: false"
   ]
  },
  {
   "cell_type": "code",
   "execution_count": 1,
   "id": "proof-material",
   "metadata": {
    "execution": {
     "iopub.execute_input": "2022-07-31T12:16:55.647712Z",
     "iopub.status.busy": "2022-07-31T12:16:55.646925Z",
     "iopub.status.idle": "2022-07-31T12:16:56.035592Z",
     "shell.execute_reply": "2022-07-31T12:16:56.034041Z"
    },
    "papermill": {
     "duration": 0.440816,
     "end_time": "2022-07-31T12:16:56.035765",
     "exception": false,
     "start_time": "2022-07-31T12:16:55.594949",
     "status": "completed"
    },
    "tags": []
   },
   "outputs": [],
   "source": [
    "#hide\n",
    "import numpy as np\n",
    "import pandas as pd\n",
    "from jinja2 import Template\n",
    "from IPython.display import HTML"
   ]
  },
  {
   "cell_type": "code",
   "execution_count": 2,
   "id": "developed-terminology",
   "metadata": {
    "execution": {
     "iopub.execute_input": "2022-07-31T12:16:56.121576Z",
     "iopub.status.busy": "2022-07-31T12:16:56.120776Z",
     "iopub.status.idle": "2022-07-31T12:16:56.122336Z",
     "shell.execute_reply": "2022-07-31T12:16:56.122860Z"
    },
    "papermill": {
     "duration": 0.044634,
     "end_time": "2022-07-31T12:16:56.123003",
     "exception": false,
     "start_time": "2022-07-31T12:16:56.078369",
     "status": "completed"
    },
    "tags": []
   },
   "outputs": [],
   "source": [
    "#hide\n",
    "\n",
    "# FETCH\n",
    "base_url = 'https://raw.githubusercontent.com/pratapvardhan/notebooks/master/covid19/'\n",
    "paths = {\n",
    "    'mapping': base_url + 'mapping_countries.csv',\n",
    "    'overview': base_url + 'overview.tpl'\n",
    "}"
   ]
  },
  {
   "cell_type": "code",
   "execution_count": 3,
   "id": "dynamic-saver",
   "metadata": {
    "execution": {
     "iopub.execute_input": "2022-07-31T12:16:56.201344Z",
     "iopub.status.busy": "2022-07-31T12:16:56.200428Z",
     "iopub.status.idle": "2022-07-31T12:16:56.208290Z",
     "shell.execute_reply": "2022-07-31T12:16:56.207575Z"
    },
    "papermill": {
     "duration": 0.05127,
     "end_time": "2022-07-31T12:16:56.208423",
     "exception": false,
     "start_time": "2022-07-31T12:16:56.157153",
     "status": "completed"
    },
    "tags": []
   },
   "outputs": [
    {
     "data": {
      "text/plain": [
       "'https://raw.githubusercontent.com/pratapvardhan/notebooks/master/covid19/mapping_countries.csv'"
      ]
     },
     "execution_count": 3,
     "metadata": {},
     "output_type": "execute_result"
    }
   ],
   "source": [
    "#hide\n",
    "paths['mapping']"
   ]
  },
  {
   "cell_type": "code",
   "execution_count": 4,
   "id": "urban-software",
   "metadata": {
    "execution": {
     "iopub.execute_input": "2022-07-31T12:16:56.313069Z",
     "iopub.status.busy": "2022-07-31T12:16:56.311815Z",
     "iopub.status.idle": "2022-07-31T12:16:56.314372Z",
     "shell.execute_reply": "2022-07-31T12:16:56.315270Z"
    },
    "papermill": {
     "duration": 0.059831,
     "end_time": "2022-07-31T12:16:56.315505",
     "exception": false,
     "start_time": "2022-07-31T12:16:56.255674",
     "status": "completed"
    },
    "tags": []
   },
   "outputs": [],
   "source": [
    "#hide\n",
    "def get_mappings(url):\n",
    "    df = pd.read_csv(url)\n",
    "    return {\n",
    "        'df': df,\n",
    "        'replace.country': dict(df.dropna(subset=['Name']).set_index('Country')['Name']),\n",
    "        'map.continent': dict(df.set_index('Name')['Continent'])\n",
    "    }"
   ]
  },
  {
   "cell_type": "code",
   "execution_count": 5,
   "id": "intimate-machinery",
   "metadata": {
    "execution": {
     "iopub.execute_input": "2022-07-31T12:16:56.391777Z",
     "iopub.status.busy": "2022-07-31T12:16:56.391055Z",
     "iopub.status.idle": "2022-07-31T12:16:56.442942Z",
     "shell.execute_reply": "2022-07-31T12:16:56.441651Z"
    },
    "papermill": {
     "duration": 0.092839,
     "end_time": "2022-07-31T12:16:56.443084",
     "exception": false,
     "start_time": "2022-07-31T12:16:56.350245",
     "status": "completed"
    },
    "tags": []
   },
   "outputs": [],
   "source": [
    "#hide\n",
    "mapping = get_mappings(paths['mapping'])"
   ]
  },
  {
   "cell_type": "code",
   "execution_count": 6,
   "id": "certified-tactics",
   "metadata": {
    "execution": {
     "iopub.execute_input": "2022-07-31T12:16:56.520780Z",
     "iopub.status.busy": "2022-07-31T12:16:56.520026Z",
     "iopub.status.idle": "2022-07-31T12:16:56.522933Z",
     "shell.execute_reply": "2022-07-31T12:16:56.523584Z"
    },
    "papermill": {
     "duration": 0.045648,
     "end_time": "2022-07-31T12:16:56.523735",
     "exception": false,
     "start_time": "2022-07-31T12:16:56.478087",
     "status": "completed"
    },
    "tags": []
   },
   "outputs": [],
   "source": [
    "#hide\n",
    "def get_template(path):\n",
    "    from urllib.parse import urlparse\n",
    "    if bool(urlparse(path).netloc):\n",
    "        from urllib.request import urlopen\n",
    "        return urlopen(path).read().decode('utf8')\n",
    "    return open(path).read()"
   ]
  },
  {
   "cell_type": "code",
   "execution_count": 7,
   "id": "realistic-blast",
   "metadata": {
    "execution": {
     "iopub.execute_input": "2022-07-31T12:16:56.599647Z",
     "iopub.status.busy": "2022-07-31T12:16:56.598939Z",
     "iopub.status.idle": "2022-07-31T12:16:56.602661Z",
     "shell.execute_reply": "2022-07-31T12:16:56.603206Z"
    },
    "papermill": {
     "duration": 0.044687,
     "end_time": "2022-07-31T12:16:56.603352",
     "exception": false,
     "start_time": "2022-07-31T12:16:56.558665",
     "status": "completed"
    },
    "tags": []
   },
   "outputs": [],
   "source": [
    "#hide\n",
    "def get_frame(name):\n",
    "    url = (\n",
    "        'https://raw.githubusercontent.com/CSSEGISandData/COVID-19/master/csse_covid_19_data/'\n",
    "        f'csse_covid_19_time_series/time_series_covid19_{name}_global.csv')\n",
    "    df = pd.read_csv(url)\n",
    "    # rename countries\n",
    "    df['Country/Region'] = df['Country/Region'].replace(mapping['replace.country'])\n",
    "    return df"
   ]
  },
  {
   "cell_type": "code",
   "execution_count": 8,
   "id": "affiliated-characterization",
   "metadata": {
    "execution": {
     "iopub.execute_input": "2022-07-31T12:16:56.679417Z",
     "iopub.status.busy": "2022-07-31T12:16:56.678710Z",
     "iopub.status.idle": "2022-07-31T12:16:56.682211Z",
     "shell.execute_reply": "2022-07-31T12:16:56.681494Z"
    },
    "papermill": {
     "duration": 0.044329,
     "end_time": "2022-07-31T12:16:56.682346",
     "exception": false,
     "start_time": "2022-07-31T12:16:56.638017",
     "status": "completed"
    },
    "tags": []
   },
   "outputs": [],
   "source": [
    "#hide\n",
    "def get_dates(df):\n",
    "    dt_cols = df.columns[~df.columns.isin(['Province/State', 'Country/Region', 'Lat', 'Long'])]\n",
    "    LAST_DATE_I = -1\n",
    "    # sometimes last column may be empty, then go backwards\n",
    "    for i in range(-1, -len(dt_cols), -1):\n",
    "        if not df[dt_cols[i]].fillna(0).eq(0).all():\n",
    "            LAST_DATE_I = i\n",
    "            break\n",
    "    return LAST_DATE_I, dt_cols"
   ]
  },
  {
   "cell_type": "code",
   "execution_count": 9,
   "id": "recent-optimization",
   "metadata": {
    "execution": {
     "iopub.execute_input": "2022-07-31T12:16:56.764089Z",
     "iopub.status.busy": "2022-07-31T12:16:56.763382Z",
     "iopub.status.idle": "2022-07-31T12:16:57.346358Z",
     "shell.execute_reply": "2022-07-31T12:16:57.345547Z"
    },
    "papermill": {
     "duration": 0.626683,
     "end_time": "2022-07-31T12:16:57.346552",
     "exception": false,
     "start_time": "2022-07-31T12:16:56.719869",
     "status": "completed"
    },
    "tags": []
   },
   "outputs": [],
   "source": [
    "#hide\n",
    "COL_REGION = 'Country/Region'\n",
    "# Confirmed, Recovered, Deaths\n",
    "df = get_frame('confirmed')\n",
    "# dft_: timeseries, dfc_: today country agg\n",
    "dft_cases = df\n",
    "dft_deaths = get_frame('deaths')\n",
    "dft_recovered = get_frame('recovered')\n",
    "LAST_DATE_I, dt_cols = get_dates(df)"
   ]
  },
  {
   "cell_type": "code",
   "execution_count": 10,
   "id": "absolute-copper",
   "metadata": {
    "execution": {
     "iopub.execute_input": "2022-07-31T12:16:57.433326Z",
     "iopub.status.busy": "2022-07-31T12:16:57.432520Z",
     "iopub.status.idle": "2022-07-31T12:16:57.435651Z",
     "shell.execute_reply": "2022-07-31T12:16:57.436319Z"
    },
    "papermill": {
     "duration": 0.050792,
     "end_time": "2022-07-31T12:16:57.436487",
     "exception": false,
     "start_time": "2022-07-31T12:16:57.385695",
     "status": "completed"
    },
    "tags": []
   },
   "outputs": [],
   "source": [
    "#hide\n",
    "LAST_DATE_I, dt_cols = get_dates(df)\n",
    "dt_today =dt_cols[LAST_DATE_I]\n",
    "# dt_5day = dt_cols[LAST_DATE_I - 5]\n",
    "dt_yday = dt_cols[LAST_DATE_I - 1]"
   ]
  },
  {
   "cell_type": "code",
   "execution_count": 11,
   "id": "restricted-sheriff",
   "metadata": {
    "execution": {
     "iopub.execute_input": "2022-07-31T12:16:57.531387Z",
     "iopub.status.busy": "2022-07-31T12:16:57.529464Z",
     "iopub.status.idle": "2022-07-31T12:16:57.538958Z",
     "shell.execute_reply": "2022-07-31T12:16:57.538343Z"
    },
    "papermill": {
     "duration": 0.062086,
     "end_time": "2022-07-31T12:16:57.539093",
     "exception": false,
     "start_time": "2022-07-31T12:16:57.477007",
     "status": "completed"
    },
    "tags": []
   },
   "outputs": [],
   "source": [
    "#hide\n",
    "dfc_cases = dft_cases.groupby(COL_REGION)[dt_today].sum()\n",
    "dfc_deaths = dft_deaths.groupby(COL_REGION)[dt_today].sum()\n",
    "# dfp_cases = dft_cases.groupby(COL_REGION)[dt_5day].sum()\n",
    "# dfp_deaths = dft_deaths.groupby(COL_REGION)[dt_5day].sum()\n",
    "dfp_cases = dft_cases.groupby(COL_REGION)[dt_yday].sum()\n",
    "dfp_deaths = dft_deaths.groupby(COL_REGION)[dt_yday].sum()"
   ]
  },
  {
   "cell_type": "code",
   "execution_count": 12,
   "id": "deluxe-hepatitis",
   "metadata": {
    "execution": {
     "iopub.execute_input": "2022-07-31T12:16:57.625329Z",
     "iopub.status.busy": "2022-07-31T12:16:57.624021Z",
     "iopub.status.idle": "2022-07-31T12:16:57.631589Z",
     "shell.execute_reply": "2022-07-31T12:16:57.630844Z"
    },
    "papermill": {
     "duration": 0.054246,
     "end_time": "2022-07-31T12:16:57.631726",
     "exception": false,
     "start_time": "2022-07-31T12:16:57.577480",
     "status": "completed"
    },
    "tags": []
   },
   "outputs": [],
   "source": [
    "#hide\n",
    "df_table = (pd.DataFrame(dict(Cases = dfc_cases, Deaths = dfc_deaths, PCases = dfp_cases, PDeaths = dfp_deaths))\n",
    "            .sort_values(by = ['Cases','Deaths'], ascending = [False, False])\n",
    "            .reset_index())"
   ]
  },
  {
   "cell_type": "code",
   "execution_count": 13,
   "id": "educational-chancellor",
   "metadata": {
    "execution": {
     "iopub.execute_input": "2022-07-31T12:16:57.730456Z",
     "iopub.status.busy": "2022-07-31T12:16:57.716361Z",
     "iopub.status.idle": "2022-07-31T12:16:57.740498Z",
     "shell.execute_reply": "2022-07-31T12:16:57.739770Z"
    },
    "papermill": {
     "duration": 0.071289,
     "end_time": "2022-07-31T12:16:57.740642",
     "exception": false,
     "start_time": "2022-07-31T12:16:57.669353",
     "status": "completed"
    },
    "tags": []
   },
   "outputs": [
    {
     "data": {
      "text/html": [
       "<div>\n",
       "<style scoped>\n",
       "    .dataframe tbody tr th:only-of-type {\n",
       "        vertical-align: middle;\n",
       "    }\n",
       "\n",
       "    .dataframe tbody tr th {\n",
       "        vertical-align: top;\n",
       "    }\n",
       "\n",
       "    .dataframe thead th {\n",
       "        text-align: right;\n",
       "    }\n",
       "</style>\n",
       "<table border=\"1\" class=\"dataframe\">\n",
       "  <thead>\n",
       "    <tr style=\"text-align: right;\">\n",
       "      <th></th>\n",
       "      <th>Country/Region</th>\n",
       "      <th>Cases</th>\n",
       "      <th>Deaths</th>\n",
       "      <th>PCases</th>\n",
       "      <th>PDeaths</th>\n",
       "      <th>Cases (+)</th>\n",
       "      <th>Deaths (+)</th>\n",
       "      <th>Fatality Rate</th>\n",
       "      <th>Continent</th>\n",
       "    </tr>\n",
       "  </thead>\n",
       "  <tbody>\n",
       "    <tr>\n",
       "      <th>0</th>\n",
       "      <td>US</td>\n",
       "      <td>91309159</td>\n",
       "      <td>1029925</td>\n",
       "      <td>91300271</td>\n",
       "      <td>1029903</td>\n",
       "      <td>8888</td>\n",
       "      <td>22</td>\n",
       "      <td>1.13</td>\n",
       "      <td>North America</td>\n",
       "    </tr>\n",
       "    <tr>\n",
       "      <th>1</th>\n",
       "      <td>India</td>\n",
       "      <td>44019811</td>\n",
       "      <td>526357</td>\n",
       "      <td>44000138</td>\n",
       "      <td>526312</td>\n",
       "      <td>19673</td>\n",
       "      <td>45</td>\n",
       "      <td>1.20</td>\n",
       "      <td>Asia</td>\n",
       "    </tr>\n",
       "    <tr>\n",
       "      <th>2</th>\n",
       "      <td>France</td>\n",
       "      <td>33997224</td>\n",
       "      <td>153023</td>\n",
       "      <td>33997224</td>\n",
       "      <td>153023</td>\n",
       "      <td>0</td>\n",
       "      <td>0</td>\n",
       "      <td>0.45</td>\n",
       "      <td>Europe</td>\n",
       "    </tr>\n",
       "    <tr>\n",
       "      <th>3</th>\n",
       "      <td>Brazil</td>\n",
       "      <td>33813587</td>\n",
       "      <td>678486</td>\n",
       "      <td>33790698</td>\n",
       "      <td>678313</td>\n",
       "      <td>22889</td>\n",
       "      <td>173</td>\n",
       "      <td>2.01</td>\n",
       "      <td>South America</td>\n",
       "    </tr>\n",
       "    <tr>\n",
       "      <th>4</th>\n",
       "      <td>Germany</td>\n",
       "      <td>30853314</td>\n",
       "      <td>143972</td>\n",
       "      <td>30853312</td>\n",
       "      <td>143972</td>\n",
       "      <td>2</td>\n",
       "      <td>0</td>\n",
       "      <td>0.47</td>\n",
       "      <td>Europe</td>\n",
       "    </tr>\n",
       "  </tbody>\n",
       "</table>\n",
       "</div>"
      ],
      "text/plain": [
       "  Country/Region     Cases   Deaths    PCases  PDeaths  Cases (+)  Deaths (+)  \\\n",
       "0             US  91309159  1029925  91300271  1029903       8888          22   \n",
       "1          India  44019811   526357  44000138   526312      19673          45   \n",
       "2         France  33997224   153023  33997224   153023          0           0   \n",
       "3         Brazil  33813587   678486  33790698   678313      22889         173   \n",
       "4        Germany  30853314   143972  30853312   143972          2           0   \n",
       "\n",
       "   Fatality Rate      Continent  \n",
       "0           1.13  North America  \n",
       "1           1.20           Asia  \n",
       "2           0.45         Europe  \n",
       "3           2.01  South America  \n",
       "4           0.47         Europe  "
      ]
     },
     "execution_count": 13,
     "metadata": {},
     "output_type": "execute_result"
    }
   ],
   "source": [
    "#hide\n",
    "for c in 'Cases, Deaths'.split(', '):\n",
    "    df_table[f'{c} (+)'] = (df_table[c] - df_table[f'P{c}']).clip(0)\n",
    "    #Clip ça veut dire, les chiffres negatif sont interdit\n",
    "df_table['Fatality Rate'] = (100* df_table['Deaths']/ df_table['Cases']).round(2)\n",
    "df_table['Continent'] = df_table['Country/Region'].map(mapping['map.continent'])\n",
    "df_table.head(5)"
   ]
  },
  {
   "cell_type": "code",
   "execution_count": 14,
   "id": "aboriginal-bulgaria",
   "metadata": {
    "execution": {
     "iopub.execute_input": "2022-07-31T12:16:57.832832Z",
     "iopub.status.busy": "2022-07-31T12:16:57.832044Z",
     "iopub.status.idle": "2022-07-31T12:16:57.834792Z",
     "shell.execute_reply": "2022-07-31T12:16:57.834226Z"
    },
    "papermill": {
     "duration": 0.054397,
     "end_time": "2022-07-31T12:16:57.834920",
     "exception": false,
     "start_time": "2022-07-31T12:16:57.780523",
     "status": "completed"
    },
    "tags": []
   },
   "outputs": [],
   "source": [
    "#hide\n",
    "#delete problematic countries from table\n",
    "df_table = df_table[~df_table['Country/Region'].isin(['Cape Verde', 'Cruise Ship', 'Kosovo'])]"
   ]
  },
  {
   "cell_type": "code",
   "execution_count": 15,
   "id": "fantastic-effect",
   "metadata": {
    "execution": {
     "iopub.execute_input": "2022-07-31T12:16:57.914743Z",
     "iopub.status.busy": "2022-07-31T12:16:57.914036Z",
     "iopub.status.idle": "2022-07-31T12:16:57.940779Z",
     "shell.execute_reply": "2022-07-31T12:16:57.939978Z"
    },
    "papermill": {
     "duration": 0.070843,
     "end_time": "2022-07-31T12:16:57.940947",
     "exception": false,
     "start_time": "2022-07-31T12:16:57.870104",
     "status": "completed"
    },
    "tags": []
   },
   "outputs": [
    {
     "data": {
      "text/html": [
       "<div>\n",
       "<style scoped>\n",
       "    .dataframe tbody tr th:only-of-type {\n",
       "        vertical-align: middle;\n",
       "    }\n",
       "\n",
       "    .dataframe tbody tr th {\n",
       "        vertical-align: top;\n",
       "    }\n",
       "\n",
       "    .dataframe thead th {\n",
       "        text-align: right;\n",
       "    }\n",
       "</style>\n",
       "<table border=\"1\" class=\"dataframe\">\n",
       "  <thead>\n",
       "    <tr style=\"text-align: right;\">\n",
       "      <th></th>\n",
       "      <th>Country/Region</th>\n",
       "      <th>Cases</th>\n",
       "      <th>Deaths</th>\n",
       "      <th>PCases</th>\n",
       "      <th>PDeaths</th>\n",
       "      <th>Cases (+)</th>\n",
       "      <th>Deaths (+)</th>\n",
       "      <th>Fatality Rate</th>\n",
       "      <th>Continent</th>\n",
       "    </tr>\n",
       "  </thead>\n",
       "  <tbody>\n",
       "    <tr>\n",
       "      <th>0</th>\n",
       "      <td>US</td>\n",
       "      <td>91309159</td>\n",
       "      <td>1029925</td>\n",
       "      <td>91300271</td>\n",
       "      <td>1029903</td>\n",
       "      <td>8888</td>\n",
       "      <td>22</td>\n",
       "      <td>1.1</td>\n",
       "      <td>North America</td>\n",
       "    </tr>\n",
       "    <tr>\n",
       "      <th>1</th>\n",
       "      <td>India</td>\n",
       "      <td>44019811</td>\n",
       "      <td>526357</td>\n",
       "      <td>44000138</td>\n",
       "      <td>526312</td>\n",
       "      <td>19673</td>\n",
       "      <td>45</td>\n",
       "      <td>1.2</td>\n",
       "      <td>Asia</td>\n",
       "    </tr>\n",
       "    <tr>\n",
       "      <th>2</th>\n",
       "      <td>France</td>\n",
       "      <td>33997224</td>\n",
       "      <td>153023</td>\n",
       "      <td>33997224</td>\n",
       "      <td>153023</td>\n",
       "      <td>0</td>\n",
       "      <td>0</td>\n",
       "      <td>0.5</td>\n",
       "      <td>Europe</td>\n",
       "    </tr>\n",
       "    <tr>\n",
       "      <th>3</th>\n",
       "      <td>Brazil</td>\n",
       "      <td>33813587</td>\n",
       "      <td>678486</td>\n",
       "      <td>33790698</td>\n",
       "      <td>678313</td>\n",
       "      <td>22889</td>\n",
       "      <td>173</td>\n",
       "      <td>2.0</td>\n",
       "      <td>South America</td>\n",
       "    </tr>\n",
       "    <tr>\n",
       "      <th>4</th>\n",
       "      <td>Germany</td>\n",
       "      <td>30853314</td>\n",
       "      <td>143972</td>\n",
       "      <td>30853312</td>\n",
       "      <td>143972</td>\n",
       "      <td>2</td>\n",
       "      <td>0</td>\n",
       "      <td>0.5</td>\n",
       "      <td>Europe</td>\n",
       "    </tr>\n",
       "  </tbody>\n",
       "</table>\n",
       "</div>"
      ],
      "text/plain": [
       "  Country/Region     Cases   Deaths    PCases  PDeaths  Cases (+)  Deaths (+)  \\\n",
       "0             US  91309159  1029925  91300271  1029903       8888          22   \n",
       "1          India  44019811   526357  44000138   526312      19673          45   \n",
       "2         France  33997224   153023  33997224   153023          0           0   \n",
       "3         Brazil  33813587   678486  33790698   678313      22889         173   \n",
       "4        Germany  30853314   143972  30853312   143972          2           0   \n",
       "\n",
       "   Fatality Rate      Continent  \n",
       "0            1.1  North America  \n",
       "1            1.2           Asia  \n",
       "2            0.5         Europe  \n",
       "3            2.0  South America  \n",
       "4            0.5         Europe  "
      ]
     },
     "execution_count": 15,
     "metadata": {},
     "output_type": "execute_result"
    }
   ],
   "source": [
    "#hide\n",
    "df_table = (pd.DataFrame(dict(Cases=dfc_cases, Deaths=dfc_deaths, PCases=dfp_cases, PDeaths=dfp_deaths))\n",
    "             .sort_values(by=['Cases', 'Deaths'], ascending=[False, False])\n",
    "             .reset_index())\n",
    "df_table.rename(columns={'index': 'Country/Region'}, inplace=True)\n",
    "for c in 'Cases, Deaths'.split(', '):\n",
    "    df_table[f'{c} (+)'] = (df_table[c] - df_table[f'P{c}']).clip(0)  # DATA BUG\n",
    "df_table['Fatality Rate'] = (100 * df_table['Deaths'] / df_table['Cases']).round(1)\n",
    "df_table['Continent'] = df_table['Country/Region'].map(mapping['map.continent'])\n",
    "df_table.head(5)"
   ]
  },
  {
   "cell_type": "code",
   "execution_count": 16,
   "id": "fewer-occasion",
   "metadata": {
    "execution": {
     "iopub.execute_input": "2022-07-31T12:16:58.020786Z",
     "iopub.status.busy": "2022-07-31T12:16:58.019440Z",
     "iopub.status.idle": "2022-07-31T12:16:58.023787Z",
     "shell.execute_reply": "2022-07-31T12:16:58.024345Z"
    },
    "papermill": {
     "duration": 0.047331,
     "end_time": "2022-07-31T12:16:58.024498",
     "exception": false,
     "start_time": "2022-07-31T12:16:57.977167",
     "status": "completed"
    },
    "tags": []
   },
   "outputs": [],
   "source": [
    "#hide\n",
    "#delete problematic countries from table\n",
    "df_table = df_table[~df_table['Country/Region'].isin(['Cape Verde', 'Cruise Ship', 'Kosovo'])]"
   ]
  },
  {
   "cell_type": "code",
   "execution_count": 17,
   "id": "related-center",
   "metadata": {
    "execution": {
     "iopub.execute_input": "2022-07-31T12:16:58.120087Z",
     "iopub.status.busy": "2022-07-31T12:16:58.119212Z",
     "iopub.status.idle": "2022-07-31T12:16:58.134036Z",
     "shell.execute_reply": "2022-07-31T12:16:58.134585Z"
    },
    "papermill": {
     "duration": 0.074563,
     "end_time": "2022-07-31T12:16:58.134736",
     "exception": false,
     "start_time": "2022-07-31T12:16:58.060173",
     "status": "completed"
    },
    "tags": []
   },
   "outputs": [],
   "source": [
    "#hide\n",
    "metrics = [df_table.columns[index] for index in [1,2,5,6]]\n",
    "# s_china = df_table[df_table['Country/Region'].eq('China')][metrics].sum().add_prefix('China ')\n",
    "s_us = df_table[df_table['Country/Region'].eq('US')][metrics].sum().add_prefix('US ')\n",
    "s_eu = df_table[df_table['Continent'].eq('Europe')][metrics].sum().add_prefix('EU ')\n",
    "s_ind = df_table[df_table['Country/Region'].eq('India')][metrics].sum().add_prefix('India ')\n",
    "summary = {'updated': pd.to_datetime(dt_today), 'since': pd.to_datetime(dt_yday)}\n",
    "summary = {'updated': pd.to_datetime(dt_today), 'since': pd.to_datetime(dt_yday)}\n",
    "summary = {**summary, **df_table[metrics].sum(), **s_ind, **s_us, **s_eu}"
   ]
  },
  {
   "cell_type": "code",
   "execution_count": 18,
   "id": "engaging-syndrome",
   "metadata": {
    "execution": {
     "iopub.execute_input": "2022-07-31T12:16:58.213181Z",
     "iopub.status.busy": "2022-07-31T12:16:58.212477Z",
     "iopub.status.idle": "2022-07-31T12:16:58.238918Z",
     "shell.execute_reply": "2022-07-31T12:16:58.238271Z"
    },
    "papermill": {
     "duration": 0.068263,
     "end_time": "2022-07-31T12:16:58.239062",
     "exception": false,
     "start_time": "2022-07-31T12:16:58.170799",
     "status": "completed"
    },
    "tags": []
   },
   "outputs": [],
   "source": [
    "#hide\n",
    "dft_ct_new_cases = dft_cases.groupby(COL_REGION)[dt_cols].sum().diff(axis=1).fillna(0).astype(int)"
   ]
  },
  {
   "cell_type": "code",
   "execution_count": 19,
   "id": "neutral-assignment",
   "metadata": {
    "execution": {
     "iopub.execute_input": "2022-07-31T12:16:58.319885Z",
     "iopub.status.busy": "2022-07-31T12:16:58.319017Z",
     "iopub.status.idle": "2022-07-31T12:16:58.321183Z",
     "shell.execute_reply": "2022-07-31T12:16:58.321905Z"
    },
    "papermill": {
     "duration": 0.04617,
     "end_time": "2022-07-31T12:16:58.322070",
     "exception": false,
     "start_time": "2022-07-31T12:16:58.275900",
     "status": "completed"
    },
    "tags": []
   },
   "outputs": [],
   "source": [
    "#hide\n",
    "everydaycases = dft_ct_new_cases.cumsum(axis=1)"
   ]
  },
  {
   "cell_type": "code",
   "execution_count": 20,
   "id": "parliamentary-calgary",
   "metadata": {
    "execution": {
     "iopub.execute_input": "2022-07-31T12:16:58.412224Z",
     "iopub.status.busy": "2022-07-31T12:16:58.411407Z",
     "iopub.status.idle": "2022-07-31T12:16:59.113474Z",
     "shell.execute_reply": "2022-07-31T12:16:59.112760Z"
    },
    "papermill": {
     "duration": 0.746765,
     "end_time": "2022-07-31T12:16:59.113630",
     "exception": false,
     "start_time": "2022-07-31T12:16:58.366865",
     "status": "completed"
    },
    "tags": []
   },
   "outputs": [],
   "source": [
    "#hide\n",
    "import pandas as pd\n",
    "import matplotlib.pyplot as plt\n",
    "import matplotlib.ticker as ticker\n",
    "import matplotlib.animation as animation\n",
    "from IPython.display import HTML"
   ]
  },
  {
   "cell_type": "code",
   "execution_count": 21,
   "id": "lasting-extraction",
   "metadata": {
    "execution": {
     "iopub.execute_input": "2022-07-31T12:16:59.202556Z",
     "iopub.status.busy": "2022-07-31T12:16:59.201667Z",
     "iopub.status.idle": "2022-07-31T12:16:59.210783Z",
     "shell.execute_reply": "2022-07-31T12:16:59.209968Z"
    },
    "papermill": {
     "duration": 0.057007,
     "end_time": "2022-07-31T12:16:59.210924",
     "exception": false,
     "start_time": "2022-07-31T12:16:59.153917",
     "status": "completed"
    },
    "tags": []
   },
   "outputs": [],
   "source": [
    "#hide\n",
    "t = everydaycases.stack()"
   ]
  },
  {
   "cell_type": "code",
   "execution_count": 22,
   "id": "premier-sleeve",
   "metadata": {
    "execution": {
     "iopub.execute_input": "2022-07-31T12:16:59.297847Z",
     "iopub.status.busy": "2022-07-31T12:16:59.297140Z",
     "iopub.status.idle": "2022-07-31T12:16:59.311834Z",
     "shell.execute_reply": "2022-07-31T12:16:59.311247Z"
    },
    "papermill": {
     "duration": 0.06001,
     "end_time": "2022-07-31T12:16:59.311967",
     "exception": false,
     "start_time": "2022-07-31T12:16:59.251957",
     "status": "completed"
    },
    "tags": []
   },
   "outputs": [],
   "source": [
    "#hide\n",
    "g = t.reset_index(['Country/Region'])"
   ]
  },
  {
   "cell_type": "code",
   "execution_count": 23,
   "id": "distributed-pittsburgh",
   "metadata": {
    "execution": {
     "iopub.execute_input": "2022-07-31T12:16:59.398256Z",
     "iopub.status.busy": "2022-07-31T12:16:59.397534Z",
     "iopub.status.idle": "2022-07-31T12:16:59.400655Z",
     "shell.execute_reply": "2022-07-31T12:16:59.400042Z"
    },
    "papermill": {
     "duration": 0.047675,
     "end_time": "2022-07-31T12:16:59.400786",
     "exception": false,
     "start_time": "2022-07-31T12:16:59.353111",
     "status": "completed"
    },
    "tags": []
   },
   "outputs": [],
   "source": [
    "#hide\n",
    "g.index.name = 'date'"
   ]
  },
  {
   "cell_type": "code",
   "execution_count": 24,
   "id": "naked-donor",
   "metadata": {
    "execution": {
     "iopub.execute_input": "2022-07-31T12:16:59.476541Z",
     "iopub.status.busy": "2022-07-31T12:16:59.475778Z",
     "iopub.status.idle": "2022-07-31T12:16:59.480181Z",
     "shell.execute_reply": "2022-07-31T12:16:59.479569Z"
    },
    "papermill": {
     "duration": 0.043887,
     "end_time": "2022-07-31T12:16:59.480316",
     "exception": false,
     "start_time": "2022-07-31T12:16:59.436429",
     "status": "completed"
    },
    "tags": []
   },
   "outputs": [],
   "source": [
    "# #hide\n",
    "# g = g.reset_index(['date'])"
   ]
  },
  {
   "cell_type": "code",
   "execution_count": 25,
   "id": "incomplete-mustang",
   "metadata": {
    "execution": {
     "iopub.execute_input": "2022-07-31T12:16:59.563775Z",
     "iopub.status.busy": "2022-07-31T12:16:59.562600Z",
     "iopub.status.idle": "2022-07-31T12:16:59.568432Z",
     "shell.execute_reply": "2022-07-31T12:16:59.569188Z"
    },
    "papermill": {
     "duration": 0.049651,
     "end_time": "2022-07-31T12:16:59.569336",
     "exception": false,
     "start_time": "2022-07-31T12:16:59.519685",
     "status": "completed"
    },
    "tags": []
   },
   "outputs": [],
   "source": [
    "#hide\n",
    "# g.head()"
   ]
  },
  {
   "cell_type": "code",
   "execution_count": 26,
   "id": "specific-kruger",
   "metadata": {
    "execution": {
     "iopub.execute_input": "2022-07-31T12:16:59.646658Z",
     "iopub.status.busy": "2022-07-31T12:16:59.645110Z",
     "iopub.status.idle": "2022-07-31T12:16:59.647451Z",
     "shell.execute_reply": "2022-07-31T12:16:59.647978Z"
    },
    "papermill": {
     "duration": 0.043133,
     "end_time": "2022-07-31T12:16:59.648150",
     "exception": false,
     "start_time": "2022-07-31T12:16:59.605017",
     "status": "completed"
    },
    "tags": []
   },
   "outputs": [],
   "source": [
    "#hide\n",
    "# g.columns = ['date','country','cases']"
   ]
  },
  {
   "cell_type": "code",
   "execution_count": 27,
   "id": "tender-conversion",
   "metadata": {
    "execution": {
     "iopub.execute_input": "2022-07-31T12:16:59.729726Z",
     "iopub.status.busy": "2022-07-31T12:16:59.724971Z",
     "iopub.status.idle": "2022-07-31T12:16:59.730720Z",
     "shell.execute_reply": "2022-07-31T12:16:59.731354Z"
    },
    "papermill": {
     "duration": 0.047407,
     "end_time": "2022-07-31T12:16:59.731528",
     "exception": false,
     "start_time": "2022-07-31T12:16:59.684121",
     "status": "completed"
    },
    "tags": []
   },
   "outputs": [],
   "source": [
    "#hide\n",
    "# g['continent'] = g.country"
   ]
  },
  {
   "cell_type": "code",
   "execution_count": 28,
   "id": "substantial-wilderness",
   "metadata": {
    "execution": {
     "iopub.execute_input": "2022-07-31T12:16:59.820593Z",
     "iopub.status.busy": "2022-07-31T12:16:59.819363Z",
     "iopub.status.idle": "2022-07-31T12:16:59.821880Z",
     "shell.execute_reply": "2022-07-31T12:16:59.822771Z"
    },
    "papermill": {
     "duration": 0.048192,
     "end_time": "2022-07-31T12:16:59.823001",
     "exception": false,
     "start_time": "2022-07-31T12:16:59.774809",
     "status": "completed"
    },
    "tags": []
   },
   "outputs": [],
   "source": [
    "#hide\n",
    "# cols = list(g.columns.values)"
   ]
  },
  {
   "cell_type": "code",
   "execution_count": 29,
   "id": "solved-farming",
   "metadata": {
    "execution": {
     "iopub.execute_input": "2022-07-31T12:16:59.899632Z",
     "iopub.status.busy": "2022-07-31T12:16:59.898931Z",
     "iopub.status.idle": "2022-07-31T12:16:59.902133Z",
     "shell.execute_reply": "2022-07-31T12:16:59.901559Z"
    },
    "papermill": {
     "duration": 0.043085,
     "end_time": "2022-07-31T12:16:59.902262",
     "exception": false,
     "start_time": "2022-07-31T12:16:59.859177",
     "status": "completed"
    },
    "tags": []
   },
   "outputs": [],
   "source": [
    "#hide\n",
    "# cols.insert(0, cols.pop())"
   ]
  },
  {
   "cell_type": "code",
   "execution_count": 30,
   "id": "executed-adoption",
   "metadata": {
    "execution": {
     "iopub.execute_input": "2022-07-31T12:16:59.978726Z",
     "iopub.status.busy": "2022-07-31T12:16:59.978029Z",
     "iopub.status.idle": "2022-07-31T12:16:59.982433Z",
     "shell.execute_reply": "2022-07-31T12:16:59.980588Z"
    },
    "papermill": {
     "duration": 0.044626,
     "end_time": "2022-07-31T12:16:59.982576",
     "exception": false,
     "start_time": "2022-07-31T12:16:59.937950",
     "status": "completed"
    },
    "tags": []
   },
   "outputs": [],
   "source": [
    "#hide\n",
    "# g = g[cols]"
   ]
  },
  {
   "cell_type": "code",
   "execution_count": 31,
   "id": "subject-dublin",
   "metadata": {
    "execution": {
     "iopub.execute_input": "2022-07-31T12:17:00.060391Z",
     "iopub.status.busy": "2022-07-31T12:17:00.059608Z",
     "iopub.status.idle": "2022-07-31T12:17:00.062499Z",
     "shell.execute_reply": "2022-07-31T12:17:00.061913Z"
    },
    "papermill": {
     "duration": 0.043286,
     "end_time": "2022-07-31T12:17:00.062630",
     "exception": false,
     "start_time": "2022-07-31T12:17:00.019344",
     "status": "completed"
    },
    "tags": []
   },
   "outputs": [],
   "source": [
    "#hide\n",
    "# g['continent'] = g['continent'].map(mapping['map.continent'])"
   ]
  },
  {
   "cell_type": "code",
   "execution_count": 32,
   "id": "freelance-scout",
   "metadata": {
    "execution": {
     "iopub.execute_input": "2022-07-31T12:17:00.138857Z",
     "iopub.status.busy": "2022-07-31T12:17:00.138145Z",
     "iopub.status.idle": "2022-07-31T12:17:00.140679Z",
     "shell.execute_reply": "2022-07-31T12:17:00.141225Z"
    },
    "papermill": {
     "duration": 0.042905,
     "end_time": "2022-07-31T12:17:00.141375",
     "exception": false,
     "start_time": "2022-07-31T12:17:00.098470",
     "status": "completed"
    },
    "tags": []
   },
   "outputs": [],
   "source": [
    "#hide\n",
    "# g.head()"
   ]
  },
  {
   "cell_type": "code",
   "execution_count": 33,
   "id": "limited-engine",
   "metadata": {
    "execution": {
     "iopub.execute_input": "2022-07-31T12:17:00.217587Z",
     "iopub.status.busy": "2022-07-31T12:17:00.216723Z",
     "iopub.status.idle": "2022-07-31T12:17:00.221460Z",
     "shell.execute_reply": "2022-07-31T12:17:00.220884Z"
    },
    "papermill": {
     "duration": 0.044412,
     "end_time": "2022-07-31T12:17:00.221657",
     "exception": false,
     "start_time": "2022-07-31T12:17:00.177245",
     "status": "completed"
    },
    "tags": []
   },
   "outputs": [],
   "source": [
    "# hide\n",
    "# g['date'] = g['date'].astype('datetime64[ns]')"
   ]
  },
  {
   "cell_type": "code",
   "execution_count": 34,
   "id": "sophisticated-supervisor",
   "metadata": {
    "execution": {
     "iopub.execute_input": "2022-07-31T12:17:00.319552Z",
     "iopub.status.busy": "2022-07-31T12:17:00.318350Z",
     "iopub.status.idle": "2022-07-31T12:17:00.320867Z",
     "shell.execute_reply": "2022-07-31T12:17:00.321812Z"
    },
    "papermill": {
     "duration": 0.049236,
     "end_time": "2022-07-31T12:17:00.322048",
     "exception": false,
     "start_time": "2022-07-31T12:17:00.272812",
     "status": "completed"
    },
    "tags": []
   },
   "outputs": [],
   "source": [
    "#hide\n",
    "# g['date'] = g.date.dt.dayofyear"
   ]
  },
  {
   "cell_type": "code",
   "execution_count": 35,
   "id": "inside-dubai",
   "metadata": {
    "execution": {
     "iopub.execute_input": "2022-07-31T12:17:00.399819Z",
     "iopub.status.busy": "2022-07-31T12:17:00.399084Z",
     "iopub.status.idle": "2022-07-31T12:17:00.402240Z",
     "shell.execute_reply": "2022-07-31T12:17:00.401232Z"
    },
    "papermill": {
     "duration": 0.044248,
     "end_time": "2022-07-31T12:17:00.402391",
     "exception": false,
     "start_time": "2022-07-31T12:17:00.358143",
     "status": "completed"
    },
    "tags": []
   },
   "outputs": [],
   "source": [
    "#hide\n",
    "# g = g.rename(columns= {'continent':'group','country':'name','cases':'value'})"
   ]
  },
  {
   "cell_type": "code",
   "execution_count": 36,
   "id": "fleet-motorcycle",
   "metadata": {
    "execution": {
     "iopub.execute_input": "2022-07-31T12:17:00.494217Z",
     "iopub.status.busy": "2022-07-31T12:17:00.493017Z",
     "iopub.status.idle": "2022-07-31T12:17:00.497996Z",
     "shell.execute_reply": "2022-07-31T12:17:00.498511Z"
    },
    "papermill": {
     "duration": 0.051635,
     "end_time": "2022-07-31T12:17:00.498666",
     "exception": false,
     "start_time": "2022-07-31T12:17:00.447031",
     "status": "completed"
    },
    "tags": []
   },
   "outputs": [],
   "source": [
    "#hide\n",
    "# cols = ['name','group','day','value']"
   ]
  },
  {
   "cell_type": "code",
   "execution_count": 37,
   "id": "continued-sleeping",
   "metadata": {
    "execution": {
     "iopub.execute_input": "2022-07-31T12:17:00.575192Z",
     "iopub.status.busy": "2022-07-31T12:17:00.574489Z",
     "iopub.status.idle": "2022-07-31T12:17:00.578386Z",
     "shell.execute_reply": "2022-07-31T12:17:00.577812Z"
    },
    "papermill": {
     "duration": 0.043975,
     "end_time": "2022-07-31T12:17:00.578514",
     "exception": false,
     "start_time": "2022-07-31T12:17:00.534539",
     "status": "completed"
    },
    "tags": []
   },
   "outputs": [],
   "source": [
    "#hide\n",
    "# g.rename(columns= {'date':'day'},inplace = True)"
   ]
  },
  {
   "cell_type": "code",
   "execution_count": 38,
   "id": "major-fight",
   "metadata": {
    "execution": {
     "iopub.execute_input": "2022-07-31T12:17:00.654208Z",
     "iopub.status.busy": "2022-07-31T12:17:00.653476Z",
     "iopub.status.idle": "2022-07-31T12:17:00.657527Z",
     "shell.execute_reply": "2022-07-31T12:17:00.658045Z"
    },
    "papermill": {
     "duration": 0.044089,
     "end_time": "2022-07-31T12:17:00.658196",
     "exception": false,
     "start_time": "2022-07-31T12:17:00.614107",
     "status": "completed"
    },
    "tags": []
   },
   "outputs": [],
   "source": [
    "#hide\n",
    "# g = g[cols]"
   ]
  },
  {
   "cell_type": "code",
   "execution_count": 39,
   "id": "structured-mobile",
   "metadata": {
    "execution": {
     "iopub.execute_input": "2022-07-31T12:17:00.756304Z",
     "iopub.status.busy": "2022-07-31T12:17:00.755067Z",
     "iopub.status.idle": "2022-07-31T12:17:00.769150Z",
     "shell.execute_reply": "2022-07-31T12:17:00.768443Z"
    },
    "papermill": {
     "duration": 0.062667,
     "end_time": "2022-07-31T12:17:00.769283",
     "exception": false,
     "start_time": "2022-07-31T12:17:00.706616",
     "status": "completed"
    },
    "tags": []
   },
   "outputs": [],
   "source": [
    "# #hide\n",
    "# g = g[g.group.notna()]"
   ]
  },
  {
   "cell_type": "code",
   "execution_count": 40,
   "id": "determined-closing",
   "metadata": {
    "execution": {
     "iopub.execute_input": "2022-07-31T12:17:00.845878Z",
     "iopub.status.busy": "2022-07-31T12:17:00.845107Z",
     "iopub.status.idle": "2022-07-31T12:17:00.848585Z",
     "shell.execute_reply": "2022-07-31T12:17:00.847749Z"
    },
    "papermill": {
     "duration": 0.0436,
     "end_time": "2022-07-31T12:17:00.848739",
     "exception": false,
     "start_time": "2022-07-31T12:17:00.805139",
     "status": "completed"
    },
    "tags": []
   },
   "outputs": [],
   "source": [
    "# #hide\n",
    "# colors = dict(zip(\n",
    "#     [\"Oceania\", \"Europe\", \"Asia\", \"South America\", \"Middle East\", \"North America\", \"Africa\"],\n",
    "#     [\"#adb0ff\", \"#ffb3ff\", \"#90d595\", \"#e48381\", \"#aafbff\", \"#f7bb5f\", \"#eafb50\"]\n",
    "# ))\n",
    "# group_lk = g.set_index('name')['group'].to_dict()"
   ]
  },
  {
   "cell_type": "code",
   "execution_count": null,
   "id": "gross-drinking",
   "metadata": {
    "papermill": {
     "duration": 0.039219,
     "end_time": "2022-07-31T12:17:00.926594",
     "exception": false,
     "start_time": "2022-07-31T12:17:00.887375",
     "status": "completed"
    },
    "tags": []
   },
   "outputs": [],
   "source": []
  },
  {
   "cell_type": "code",
   "execution_count": 41,
   "id": "subject-macintosh",
   "metadata": {
    "execution": {
     "iopub.execute_input": "2022-07-31T12:17:01.010700Z",
     "iopub.status.busy": "2022-07-31T12:17:01.009462Z",
     "iopub.status.idle": "2022-07-31T12:17:01.011976Z",
     "shell.execute_reply": "2022-07-31T12:17:01.012938Z"
    },
    "papermill": {
     "duration": 0.048323,
     "end_time": "2022-07-31T12:17:01.013175",
     "exception": false,
     "start_time": "2022-07-31T12:17:00.964852",
     "status": "completed"
    },
    "tags": []
   },
   "outputs": [],
   "source": [
    "# #hide\n",
    "# fig, ax = plt.subplots(figsize=(15, 8))\n",
    "\n",
    "# def draw_barchart(current_day):\n",
    "#     dff = g[g['day'].eq(current_day)].sort_values(by='value', ascending=True).tail(10)\n",
    "#     ax.clear()\n",
    "#     ax.barh(dff['name'], dff['value'], color=[colors[group_lk[x]] for x in dff['name']])\n",
    "#     dx = dff['value'].max() / 200\n",
    "    \n",
    "#     for i, (value, name) in enumerate(zip(dff['value'], dff['name'])):\n",
    "#         ax.text(value-dx, i,     name,           size=14, weight=600, ha='right', va='bottom')\n",
    "#         ax.text(value-dx, i-.25, group_lk[name], size=10, color='#444444', ha='right', va='baseline')\n",
    "#         ax.text(value+dx, i,     f'{value:,.0f}',  size=14, ha='left',  va='center')\n",
    "#     ax.text(1, 0.4, current_day, transform=ax.transAxes, color='#777777', size=46, ha='right', weight=800)\n",
    "#     ax.text(0, 1.06, 'Population (thousands)', transform=ax.transAxes, size=12, color='#777777')\n",
    "#     ax.xaxis.set_major_formatter(ticker.StrMethodFormatter('{x:,.0f}'))\n",
    "#     ax.xaxis.set_ticks_position('top')\n",
    "#     ax.tick_params(axis='x', colors='#777777', labelsize=12)\n",
    "#     ax.set_yticks([])\n",
    "#     ax.margins(0, 0.01)\n",
    "#     ax.grid(which='major', axis='x', linestyle='-')\n",
    "#     ax.set_axisbelow(True)\n",
    "    \n",
    "#     ax.text(0, 1.15, 'Coronavirus',\n",
    "#             transform=ax.transAxes, size=24, weight=600, ha='left', va='top')\n",
    "# #     ax.text(1, 0, 'by @pratapvardhan; credit @jburnmurdoch', transform=ax.transAxes, color='#777777', ha='right',\n",
    "# #             bbox=dict(facecolor='white', alpha=0.8, edgecolor='white'))\n",
    "#     plt.box(False)"
   ]
  },
  {
   "cell_type": "code",
   "execution_count": 42,
   "id": "sexual-wages",
   "metadata": {
    "execution": {
     "iopub.execute_input": "2022-07-31T12:17:01.091135Z",
     "iopub.status.busy": "2022-07-31T12:17:01.090123Z",
     "iopub.status.idle": "2022-07-31T12:17:01.095178Z",
     "shell.execute_reply": "2022-07-31T12:17:01.094600Z"
    },
    "papermill": {
     "duration": 0.046011,
     "end_time": "2022-07-31T12:17:01.095308",
     "exception": false,
     "start_time": "2022-07-31T12:17:01.049297",
     "status": "completed"
    },
    "tags": []
   },
   "outputs": [],
   "source": [
    "# #hide_input\n",
    "# fig, ax = plt.subplots(figsize=(15, 8))\n",
    "# animator = animation.FuncAnimation(fig, draw_barchart, frames=range(g.day.values.min(), g.day.values.max()))\n",
    "# HTML(animator.to_jshtml())\n",
    "# # or use animator.to_html5_video() or animator.save() "
   ]
  },
  {
   "cell_type": "code",
   "execution_count": null,
   "id": "australian-container",
   "metadata": {
    "papermill": {
     "duration": 0.035711,
     "end_time": "2022-07-31T12:17:01.166869",
     "exception": false,
     "start_time": "2022-07-31T12:17:01.131158",
     "status": "completed"
    },
    "tags": []
   },
   "outputs": [],
   "source": []
  },
  {
   "cell_type": "code",
   "execution_count": null,
   "id": "mediterranean-pontiac",
   "metadata": {
    "papermill": {
     "duration": 0.035667,
     "end_time": "2022-07-31T12:17:01.238295",
     "exception": false,
     "start_time": "2022-07-31T12:17:01.202628",
     "status": "completed"
    },
    "tags": []
   },
   "outputs": [],
   "source": []
  },
  {
   "cell_type": "code",
   "execution_count": null,
   "id": "aging-legislature",
   "metadata": {
    "papermill": {
     "duration": 0.035487,
     "end_time": "2022-07-31T12:17:01.309475",
     "exception": false,
     "start_time": "2022-07-31T12:17:01.273988",
     "status": "completed"
    },
    "tags": []
   },
   "outputs": [],
   "source": []
  }
 ],
 "metadata": {
  "kernelspec": {
   "display_name": "Python 3",
   "language": "python",
   "name": "python3"
  },
  "language_info": {
   "codemirror_mode": {
    "name": "ipython",
    "version": 3
   },
   "file_extension": ".py",
   "mimetype": "text/x-python",
   "name": "python",
   "nbconvert_exporter": "python",
   "pygments_lexer": "ipython3",
   "version": "3.6.15"
  },
  "papermill": {
   "duration": 7.582126,
   "end_time": "2022-07-31T12:17:01.768162",
   "environment_variables": {},
   "exception": null,
   "input_path": "2020-03-21-covid19exp.ipynb",
   "output_path": "2020-03-21-covid19exp.ipynb",
   "parameters": {},
   "start_time": "2022-07-31T12:16:54.186036",
   "version": "2.0.0"
  }
 },
 "nbformat": 4,
 "nbformat_minor": 5
}