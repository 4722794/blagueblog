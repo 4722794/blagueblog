{
 "cells": [
  {
   "cell_type": "markdown",
   "id": "muslim-click",
   "metadata": {
    "papermill": {
     "duration": 0.039334,
     "end_time": "2021-09-24T12:11:38.113854",
     "exception": false,
     "start_time": "2021-09-24T12:11:38.074520",
     "status": "completed"
    },
    "tags": []
   },
   "source": [
    "# COVID-19 Case Race\n",
    "> A race chart to see rising cases around the world\n",
    "\n",
    "- author: Hargun Oberoi\n",
    "- image: images/covid-overview.png\n",
    "- hide: false\n",
    "- badges: false"
   ]
  },
  {
   "cell_type": "code",
   "execution_count": 1,
   "id": "proof-material",
   "metadata": {
    "execution": {
     "iopub.execute_input": "2021-09-24T12:11:38.196715Z",
     "iopub.status.busy": "2021-09-24T12:11:38.196106Z",
     "iopub.status.idle": "2021-09-24T12:11:38.568609Z",
     "shell.execute_reply": "2021-09-24T12:11:38.568119Z"
    },
    "papermill": {
     "duration": 0.419016,
     "end_time": "2021-09-24T12:11:38.568790",
     "exception": false,
     "start_time": "2021-09-24T12:11:38.149774",
     "status": "completed"
    },
    "tags": []
   },
   "outputs": [],
   "source": [
    "#hide\n",
    "import numpy as np\n",
    "import pandas as pd\n",
    "from jinja2 import Template\n",
    "from IPython.display import HTML"
   ]
  },
  {
   "cell_type": "code",
   "execution_count": 2,
   "id": "developed-terminology",
   "metadata": {
    "execution": {
     "iopub.execute_input": "2021-09-24T12:11:38.646200Z",
     "iopub.status.busy": "2021-09-24T12:11:38.645556Z",
     "iopub.status.idle": "2021-09-24T12:11:38.647456Z",
     "shell.execute_reply": "2021-09-24T12:11:38.648073Z"
    },
    "papermill": {
     "duration": 0.043711,
     "end_time": "2021-09-24T12:11:38.648224",
     "exception": false,
     "start_time": "2021-09-24T12:11:38.604513",
     "status": "completed"
    },
    "tags": []
   },
   "outputs": [],
   "source": [
    "#hide\n",
    "\n",
    "# FETCH\n",
    "base_url = 'https://raw.githubusercontent.com/pratapvardhan/notebooks/master/covid19/'\n",
    "paths = {\n",
    "    'mapping': base_url + 'mapping_countries.csv',\n",
    "    'overview': base_url + 'overview.tpl'\n",
    "}"
   ]
  },
  {
   "cell_type": "code",
   "execution_count": 3,
   "id": "dynamic-saver",
   "metadata": {
    "execution": {
     "iopub.execute_input": "2021-09-24T12:11:38.730091Z",
     "iopub.status.busy": "2021-09-24T12:11:38.727615Z",
     "iopub.status.idle": "2021-09-24T12:11:38.733002Z",
     "shell.execute_reply": "2021-09-24T12:11:38.733600Z"
    },
    "papermill": {
     "duration": 0.052066,
     "end_time": "2021-09-24T12:11:38.733753",
     "exception": false,
     "start_time": "2021-09-24T12:11:38.681687",
     "status": "completed"
    },
    "tags": []
   },
   "outputs": [
    {
     "data": {
      "text/plain": [
       "'https://raw.githubusercontent.com/pratapvardhan/notebooks/master/covid19/mapping_countries.csv'"
      ]
     },
     "execution_count": 3,
     "metadata": {},
     "output_type": "execute_result"
    }
   ],
   "source": [
    "#hide\n",
    "paths['mapping']"
   ]
  },
  {
   "cell_type": "code",
   "execution_count": 4,
   "id": "urban-software",
   "metadata": {
    "execution": {
     "iopub.execute_input": "2021-09-24T12:11:38.812796Z",
     "iopub.status.busy": "2021-09-24T12:11:38.812229Z",
     "iopub.status.idle": "2021-09-24T12:11:38.814741Z",
     "shell.execute_reply": "2021-09-24T12:11:38.814241Z"
    },
    "papermill": {
     "duration": 0.045174,
     "end_time": "2021-09-24T12:11:38.814851",
     "exception": false,
     "start_time": "2021-09-24T12:11:38.769677",
     "status": "completed"
    },
    "tags": []
   },
   "outputs": [],
   "source": [
    "#hide\n",
    "def get_mappings(url):\n",
    "    df = pd.read_csv(url)\n",
    "    return {\n",
    "        'df': df,\n",
    "        'replace.country': dict(df.dropna(subset=['Name']).set_index('Country')['Name']),\n",
    "        'map.continent': dict(df.set_index('Name')['Continent'])\n",
    "    }"
   ]
  },
  {
   "cell_type": "code",
   "execution_count": 5,
   "id": "intimate-machinery",
   "metadata": {
    "execution": {
     "iopub.execute_input": "2021-09-24T12:11:38.890250Z",
     "iopub.status.busy": "2021-09-24T12:11:38.889586Z",
     "iopub.status.idle": "2021-09-24T12:11:38.929154Z",
     "shell.execute_reply": "2021-09-24T12:11:38.929665Z"
    },
    "papermill": {
     "duration": 0.078961,
     "end_time": "2021-09-24T12:11:38.929805",
     "exception": false,
     "start_time": "2021-09-24T12:11:38.850844",
     "status": "completed"
    },
    "tags": []
   },
   "outputs": [],
   "source": [
    "#hide\n",
    "mapping = get_mappings(paths['mapping'])"
   ]
  },
  {
   "cell_type": "code",
   "execution_count": 6,
   "id": "certified-tactics",
   "metadata": {
    "execution": {
     "iopub.execute_input": "2021-09-24T12:11:39.004173Z",
     "iopub.status.busy": "2021-09-24T12:11:39.003543Z",
     "iopub.status.idle": "2021-09-24T12:11:39.005485Z",
     "shell.execute_reply": "2021-09-24T12:11:39.006014Z"
    },
    "papermill": {
     "duration": 0.041859,
     "end_time": "2021-09-24T12:11:39.006147",
     "exception": false,
     "start_time": "2021-09-24T12:11:38.964288",
     "status": "completed"
    },
    "tags": []
   },
   "outputs": [],
   "source": [
    "#hide\n",
    "def get_template(path):\n",
    "    from urllib.parse import urlparse\n",
    "    if bool(urlparse(path).netloc):\n",
    "        from urllib.request import urlopen\n",
    "        return urlopen(path).read().decode('utf8')\n",
    "    return open(path).read()"
   ]
  },
  {
   "cell_type": "code",
   "execution_count": 7,
   "id": "realistic-blast",
   "metadata": {
    "execution": {
     "iopub.execute_input": "2021-09-24T12:11:39.089916Z",
     "iopub.status.busy": "2021-09-24T12:11:39.089313Z",
     "iopub.status.idle": "2021-09-24T12:11:39.091608Z",
     "shell.execute_reply": "2021-09-24T12:11:39.091114Z"
    },
    "papermill": {
     "duration": 0.046657,
     "end_time": "2021-09-24T12:11:39.091725",
     "exception": false,
     "start_time": "2021-09-24T12:11:39.045068",
     "status": "completed"
    },
    "tags": []
   },
   "outputs": [],
   "source": [
    "#hide\n",
    "def get_frame(name):\n",
    "    url = (\n",
    "        'https://raw.githubusercontent.com/CSSEGISandData/COVID-19/master/csse_covid_19_data/'\n",
    "        f'csse_covid_19_time_series/time_series_covid19_{name}_global.csv')\n",
    "    df = pd.read_csv(url)\n",
    "    # rename countries\n",
    "    df['Country/Region'] = df['Country/Region'].replace(mapping['replace.country'])\n",
    "    return df"
   ]
  },
  {
   "cell_type": "code",
   "execution_count": 8,
   "id": "affiliated-characterization",
   "metadata": {
    "execution": {
     "iopub.execute_input": "2021-09-24T12:11:39.174343Z",
     "iopub.status.busy": "2021-09-24T12:11:39.173712Z",
     "iopub.status.idle": "2021-09-24T12:11:39.176282Z",
     "shell.execute_reply": "2021-09-24T12:11:39.175716Z"
    },
    "papermill": {
     "duration": 0.048843,
     "end_time": "2021-09-24T12:11:39.176405",
     "exception": false,
     "start_time": "2021-09-24T12:11:39.127562",
     "status": "completed"
    },
    "tags": []
   },
   "outputs": [],
   "source": [
    "#hide\n",
    "def get_dates(df):\n",
    "    dt_cols = df.columns[~df.columns.isin(['Province/State', 'Country/Region', 'Lat', 'Long'])]\n",
    "    LAST_DATE_I = -1\n",
    "    # sometimes last column may be empty, then go backwards\n",
    "    for i in range(-1, -len(dt_cols), -1):\n",
    "        if not df[dt_cols[i]].fillna(0).eq(0).all():\n",
    "            LAST_DATE_I = i\n",
    "            break\n",
    "    return LAST_DATE_I, dt_cols"
   ]
  },
  {
   "cell_type": "code",
   "execution_count": 9,
   "id": "recent-optimization",
   "metadata": {
    "execution": {
     "iopub.execute_input": "2021-09-24T12:11:39.263655Z",
     "iopub.status.busy": "2021-09-24T12:11:39.262891Z",
     "iopub.status.idle": "2021-09-24T12:11:39.672969Z",
     "shell.execute_reply": "2021-09-24T12:11:39.671742Z"
    },
    "papermill": {
     "duration": 0.453795,
     "end_time": "2021-09-24T12:11:39.673108",
     "exception": false,
     "start_time": "2021-09-24T12:11:39.219313",
     "status": "completed"
    },
    "tags": []
   },
   "outputs": [],
   "source": [
    "#hide\n",
    "COL_REGION = 'Country/Region'\n",
    "# Confirmed, Recovered, Deaths\n",
    "df = get_frame('confirmed')\n",
    "# dft_: timeseries, dfc_: today country agg\n",
    "dft_cases = df\n",
    "dft_deaths = get_frame('deaths')\n",
    "dft_recovered = get_frame('recovered')\n",
    "LAST_DATE_I, dt_cols = get_dates(df)"
   ]
  },
  {
   "cell_type": "code",
   "execution_count": 10,
   "id": "absolute-copper",
   "metadata": {
    "execution": {
     "iopub.execute_input": "2021-09-24T12:11:39.752794Z",
     "iopub.status.busy": "2021-09-24T12:11:39.752142Z",
     "iopub.status.idle": "2021-09-24T12:11:39.754054Z",
     "shell.execute_reply": "2021-09-24T12:11:39.754572Z"
    },
    "papermill": {
     "duration": 0.044363,
     "end_time": "2021-09-24T12:11:39.754729",
     "exception": false,
     "start_time": "2021-09-24T12:11:39.710366",
     "status": "completed"
    },
    "tags": []
   },
   "outputs": [],
   "source": [
    "#hide\n",
    "LAST_DATE_I, dt_cols = get_dates(df)\n",
    "dt_today =dt_cols[LAST_DATE_I]\n",
    "# dt_5day = dt_cols[LAST_DATE_I - 5]\n",
    "dt_yday = dt_cols[LAST_DATE_I - 1]"
   ]
  },
  {
   "cell_type": "code",
   "execution_count": 11,
   "id": "restricted-sheriff",
   "metadata": {
    "execution": {
     "iopub.execute_input": "2021-09-24T12:11:39.831102Z",
     "iopub.status.busy": "2021-09-24T12:11:39.830461Z",
     "iopub.status.idle": "2021-09-24T12:11:39.839191Z",
     "shell.execute_reply": "2021-09-24T12:11:39.839794Z"
    },
    "papermill": {
     "duration": 0.050276,
     "end_time": "2021-09-24T12:11:39.839930",
     "exception": false,
     "start_time": "2021-09-24T12:11:39.789654",
     "status": "completed"
    },
    "tags": []
   },
   "outputs": [],
   "source": [
    "#hide\n",
    "dfc_cases = dft_cases.groupby(COL_REGION)[dt_today].sum()\n",
    "dfc_deaths = dft_deaths.groupby(COL_REGION)[dt_today].sum()\n",
    "# dfp_cases = dft_cases.groupby(COL_REGION)[dt_5day].sum()\n",
    "# dfp_deaths = dft_deaths.groupby(COL_REGION)[dt_5day].sum()\n",
    "dfp_cases = dft_cases.groupby(COL_REGION)[dt_yday].sum()\n",
    "dfp_deaths = dft_deaths.groupby(COL_REGION)[dt_yday].sum()"
   ]
  },
  {
   "cell_type": "code",
   "execution_count": 12,
   "id": "deluxe-hepatitis",
   "metadata": {
    "execution": {
     "iopub.execute_input": "2021-09-24T12:11:39.925020Z",
     "iopub.status.busy": "2021-09-24T12:11:39.924335Z",
     "iopub.status.idle": "2021-09-24T12:11:39.929432Z",
     "shell.execute_reply": "2021-09-24T12:11:39.929954Z"
    },
    "papermill": {
     "duration": 0.053436,
     "end_time": "2021-09-24T12:11:39.930103",
     "exception": false,
     "start_time": "2021-09-24T12:11:39.876667",
     "status": "completed"
    },
    "tags": []
   },
   "outputs": [],
   "source": [
    "#hide\n",
    "df_table = (pd.DataFrame(dict(Cases = dfc_cases, Deaths = dfc_deaths, PCases = dfp_cases, PDeaths = dfp_deaths))\n",
    "            .sort_values(by = ['Cases','Deaths'], ascending = [False, False])\n",
    "            .reset_index())"
   ]
  },
  {
   "cell_type": "code",
   "execution_count": 13,
   "id": "educational-chancellor",
   "metadata": {
    "execution": {
     "iopub.execute_input": "2021-09-24T12:11:40.023438Z",
     "iopub.status.busy": "2021-09-24T12:11:40.022855Z",
     "iopub.status.idle": "2021-09-24T12:11:40.031158Z",
     "shell.execute_reply": "2021-09-24T12:11:40.031831Z"
    },
    "papermill": {
     "duration": 0.066536,
     "end_time": "2021-09-24T12:11:40.032019",
     "exception": false,
     "start_time": "2021-09-24T12:11:39.965483",
     "status": "completed"
    },
    "tags": []
   },
   "outputs": [
    {
     "data": {
      "text/html": [
       "<div>\n",
       "<style scoped>\n",
       "    .dataframe tbody tr th:only-of-type {\n",
       "        vertical-align: middle;\n",
       "    }\n",
       "\n",
       "    .dataframe tbody tr th {\n",
       "        vertical-align: top;\n",
       "    }\n",
       "\n",
       "    .dataframe thead th {\n",
       "        text-align: right;\n",
       "    }\n",
       "</style>\n",
       "<table border=\"1\" class=\"dataframe\">\n",
       "  <thead>\n",
       "    <tr style=\"text-align: right;\">\n",
       "      <th></th>\n",
       "      <th>Country/Region</th>\n",
       "      <th>Cases</th>\n",
       "      <th>Deaths</th>\n",
       "      <th>PCases</th>\n",
       "      <th>PDeaths</th>\n",
       "      <th>Cases (+)</th>\n",
       "      <th>Deaths (+)</th>\n",
       "      <th>Fatality Rate</th>\n",
       "      <th>Continent</th>\n",
       "    </tr>\n",
       "  </thead>\n",
       "  <tbody>\n",
       "    <tr>\n",
       "      <th>0</th>\n",
       "      <td>US</td>\n",
       "      <td>42672241</td>\n",
       "      <td>684349</td>\n",
       "      <td>42543510</td>\n",
       "      <td>681192</td>\n",
       "      <td>128731</td>\n",
       "      <td>3157</td>\n",
       "      <td>1.60</td>\n",
       "      <td>North America</td>\n",
       "    </tr>\n",
       "    <tr>\n",
       "      <th>1</th>\n",
       "      <td>India</td>\n",
       "      <td>33594803</td>\n",
       "      <td>446368</td>\n",
       "      <td>33563421</td>\n",
       "      <td>446050</td>\n",
       "      <td>31382</td>\n",
       "      <td>318</td>\n",
       "      <td>1.33</td>\n",
       "      <td>Asia</td>\n",
       "    </tr>\n",
       "    <tr>\n",
       "      <th>2</th>\n",
       "      <td>Brazil</td>\n",
       "      <td>21308178</td>\n",
       "      <td>592964</td>\n",
       "      <td>21283567</td>\n",
       "      <td>592316</td>\n",
       "      <td>24611</td>\n",
       "      <td>648</td>\n",
       "      <td>2.78</td>\n",
       "      <td>South America</td>\n",
       "    </tr>\n",
       "    <tr>\n",
       "      <th>3</th>\n",
       "      <td>United Kingdom</td>\n",
       "      <td>7601598</td>\n",
       "      <td>136156</td>\n",
       "      <td>7565751</td>\n",
       "      <td>135961</td>\n",
       "      <td>35847</td>\n",
       "      <td>195</td>\n",
       "      <td>1.79</td>\n",
       "      <td>Europe</td>\n",
       "    </tr>\n",
       "    <tr>\n",
       "      <th>4</th>\n",
       "      <td>Russia</td>\n",
       "      <td>7248572</td>\n",
       "      <td>197834</td>\n",
       "      <td>7227549</td>\n",
       "      <td>197032</td>\n",
       "      <td>21023</td>\n",
       "      <td>802</td>\n",
       "      <td>2.73</td>\n",
       "      <td>Europe</td>\n",
       "    </tr>\n",
       "  </tbody>\n",
       "</table>\n",
       "</div>"
      ],
      "text/plain": [
       "   Country/Region     Cases  Deaths    PCases  PDeaths  Cases (+)  Deaths (+)  \\\n",
       "0              US  42672241  684349  42543510   681192     128731        3157   \n",
       "1           India  33594803  446368  33563421   446050      31382         318   \n",
       "2          Brazil  21308178  592964  21283567   592316      24611         648   \n",
       "3  United Kingdom   7601598  136156   7565751   135961      35847         195   \n",
       "4          Russia   7248572  197834   7227549   197032      21023         802   \n",
       "\n",
       "   Fatality Rate      Continent  \n",
       "0           1.60  North America  \n",
       "1           1.33           Asia  \n",
       "2           2.78  South America  \n",
       "3           1.79         Europe  \n",
       "4           2.73         Europe  "
      ]
     },
     "execution_count": 13,
     "metadata": {},
     "output_type": "execute_result"
    }
   ],
   "source": [
    "#hide\n",
    "for c in 'Cases, Deaths'.split(', '):\n",
    "    df_table[f'{c} (+)'] = (df_table[c] - df_table[f'P{c}']).clip(0)\n",
    "    #Clip ça veut dire, les chiffres negatif sont interdit\n",
    "df_table['Fatality Rate'] = (100* df_table['Deaths']/ df_table['Cases']).round(2)\n",
    "df_table['Continent'] = df_table['Country/Region'].map(mapping['map.continent'])\n",
    "df_table.head(5)"
   ]
  },
  {
   "cell_type": "code",
   "execution_count": 14,
   "id": "aboriginal-bulgaria",
   "metadata": {
    "execution": {
     "iopub.execute_input": "2021-09-24T12:11:40.113324Z",
     "iopub.status.busy": "2021-09-24T12:11:40.112645Z",
     "iopub.status.idle": "2021-09-24T12:11:40.114160Z",
     "shell.execute_reply": "2021-09-24T12:11:40.114849Z"
    },
    "papermill": {
     "duration": 0.045646,
     "end_time": "2021-09-24T12:11:40.115008",
     "exception": false,
     "start_time": "2021-09-24T12:11:40.069362",
     "status": "completed"
    },
    "tags": []
   },
   "outputs": [],
   "source": [
    "#hide\n",
    "#delete problematic countries from table\n",
    "df_table = df_table[~df_table['Country/Region'].isin(['Cape Verde', 'Cruise Ship', 'Kosovo'])]"
   ]
  },
  {
   "cell_type": "code",
   "execution_count": 15,
   "id": "fantastic-effect",
   "metadata": {
    "execution": {
     "iopub.execute_input": "2021-09-24T12:11:40.203323Z",
     "iopub.status.busy": "2021-09-24T12:11:40.202604Z",
     "iopub.status.idle": "2021-09-24T12:11:40.224485Z",
     "shell.execute_reply": "2021-09-24T12:11:40.225126Z"
    },
    "papermill": {
     "duration": 0.06906,
     "end_time": "2021-09-24T12:11:40.225266",
     "exception": false,
     "start_time": "2021-09-24T12:11:40.156206",
     "status": "completed"
    },
    "tags": []
   },
   "outputs": [
    {
     "data": {
      "text/html": [
       "<div>\n",
       "<style scoped>\n",
       "    .dataframe tbody tr th:only-of-type {\n",
       "        vertical-align: middle;\n",
       "    }\n",
       "\n",
       "    .dataframe tbody tr th {\n",
       "        vertical-align: top;\n",
       "    }\n",
       "\n",
       "    .dataframe thead th {\n",
       "        text-align: right;\n",
       "    }\n",
       "</style>\n",
       "<table border=\"1\" class=\"dataframe\">\n",
       "  <thead>\n",
       "    <tr style=\"text-align: right;\">\n",
       "      <th></th>\n",
       "      <th>Country/Region</th>\n",
       "      <th>Cases</th>\n",
       "      <th>Deaths</th>\n",
       "      <th>PCases</th>\n",
       "      <th>PDeaths</th>\n",
       "      <th>Cases (+)</th>\n",
       "      <th>Deaths (+)</th>\n",
       "      <th>Fatality Rate</th>\n",
       "      <th>Continent</th>\n",
       "    </tr>\n",
       "  </thead>\n",
       "  <tbody>\n",
       "    <tr>\n",
       "      <th>0</th>\n",
       "      <td>US</td>\n",
       "      <td>42672241</td>\n",
       "      <td>684349</td>\n",
       "      <td>42543510</td>\n",
       "      <td>681192</td>\n",
       "      <td>128731</td>\n",
       "      <td>3157</td>\n",
       "      <td>1.6</td>\n",
       "      <td>North America</td>\n",
       "    </tr>\n",
       "    <tr>\n",
       "      <th>1</th>\n",
       "      <td>India</td>\n",
       "      <td>33594803</td>\n",
       "      <td>446368</td>\n",
       "      <td>33563421</td>\n",
       "      <td>446050</td>\n",
       "      <td>31382</td>\n",
       "      <td>318</td>\n",
       "      <td>1.3</td>\n",
       "      <td>Asia</td>\n",
       "    </tr>\n",
       "    <tr>\n",
       "      <th>2</th>\n",
       "      <td>Brazil</td>\n",
       "      <td>21308178</td>\n",
       "      <td>592964</td>\n",
       "      <td>21283567</td>\n",
       "      <td>592316</td>\n",
       "      <td>24611</td>\n",
       "      <td>648</td>\n",
       "      <td>2.8</td>\n",
       "      <td>South America</td>\n",
       "    </tr>\n",
       "    <tr>\n",
       "      <th>3</th>\n",
       "      <td>United Kingdom</td>\n",
       "      <td>7601598</td>\n",
       "      <td>136156</td>\n",
       "      <td>7565751</td>\n",
       "      <td>135961</td>\n",
       "      <td>35847</td>\n",
       "      <td>195</td>\n",
       "      <td>1.8</td>\n",
       "      <td>Europe</td>\n",
       "    </tr>\n",
       "    <tr>\n",
       "      <th>4</th>\n",
       "      <td>Russia</td>\n",
       "      <td>7248572</td>\n",
       "      <td>197834</td>\n",
       "      <td>7227549</td>\n",
       "      <td>197032</td>\n",
       "      <td>21023</td>\n",
       "      <td>802</td>\n",
       "      <td>2.7</td>\n",
       "      <td>Europe</td>\n",
       "    </tr>\n",
       "  </tbody>\n",
       "</table>\n",
       "</div>"
      ],
      "text/plain": [
       "   Country/Region     Cases  Deaths    PCases  PDeaths  Cases (+)  Deaths (+)  \\\n",
       "0              US  42672241  684349  42543510   681192     128731        3157   \n",
       "1           India  33594803  446368  33563421   446050      31382         318   \n",
       "2          Brazil  21308178  592964  21283567   592316      24611         648   \n",
       "3  United Kingdom   7601598  136156   7565751   135961      35847         195   \n",
       "4          Russia   7248572  197834   7227549   197032      21023         802   \n",
       "\n",
       "   Fatality Rate      Continent  \n",
       "0            1.6  North America  \n",
       "1            1.3           Asia  \n",
       "2            2.8  South America  \n",
       "3            1.8         Europe  \n",
       "4            2.7         Europe  "
      ]
     },
     "execution_count": 15,
     "metadata": {},
     "output_type": "execute_result"
    }
   ],
   "source": [
    "#hide\n",
    "df_table = (pd.DataFrame(dict(Cases=dfc_cases, Deaths=dfc_deaths, PCases=dfp_cases, PDeaths=dfp_deaths))\n",
    "             .sort_values(by=['Cases', 'Deaths'], ascending=[False, False])\n",
    "             .reset_index())\n",
    "df_table.rename(columns={'index': 'Country/Region'}, inplace=True)\n",
    "for c in 'Cases, Deaths'.split(', '):\n",
    "    df_table[f'{c} (+)'] = (df_table[c] - df_table[f'P{c}']).clip(0)  # DATA BUG\n",
    "df_table['Fatality Rate'] = (100 * df_table['Deaths'] / df_table['Cases']).round(1)\n",
    "df_table['Continent'] = df_table['Country/Region'].map(mapping['map.continent'])\n",
    "df_table.head(5)"
   ]
  },
  {
   "cell_type": "code",
   "execution_count": 16,
   "id": "fewer-occasion",
   "metadata": {
    "execution": {
     "iopub.execute_input": "2021-09-24T12:11:40.306814Z",
     "iopub.status.busy": "2021-09-24T12:11:40.306156Z",
     "iopub.status.idle": "2021-09-24T12:11:40.309113Z",
     "shell.execute_reply": "2021-09-24T12:11:40.308536Z"
    },
    "papermill": {
     "duration": 0.046141,
     "end_time": "2021-09-24T12:11:40.309305",
     "exception": false,
     "start_time": "2021-09-24T12:11:40.263164",
     "status": "completed"
    },
    "tags": []
   },
   "outputs": [],
   "source": [
    "#hide\n",
    "#delete problematic countries from table\n",
    "df_table = df_table[~df_table['Country/Region'].isin(['Cape Verde', 'Cruise Ship', 'Kosovo'])]"
   ]
  },
  {
   "cell_type": "code",
   "execution_count": 17,
   "id": "related-center",
   "metadata": {
    "execution": {
     "iopub.execute_input": "2021-09-24T12:11:40.403660Z",
     "iopub.status.busy": "2021-09-24T12:11:40.402911Z",
     "iopub.status.idle": "2021-09-24T12:11:40.404884Z",
     "shell.execute_reply": "2021-09-24T12:11:40.405430Z"
    },
    "papermill": {
     "duration": 0.059897,
     "end_time": "2021-09-24T12:11:40.405579",
     "exception": false,
     "start_time": "2021-09-24T12:11:40.345682",
     "status": "completed"
    },
    "tags": []
   },
   "outputs": [],
   "source": [
    "#hide\n",
    "metrics = [df_table.columns[index] for index in [1,2,5,6]]\n",
    "# s_china = df_table[df_table['Country/Region'].eq('China')][metrics].sum().add_prefix('China ')\n",
    "s_us = df_table[df_table['Country/Region'].eq('US')][metrics].sum().add_prefix('US ')\n",
    "s_eu = df_table[df_table['Continent'].eq('Europe')][metrics].sum().add_prefix('EU ')\n",
    "s_ind = df_table[df_table['Country/Region'].eq('India')][metrics].sum().add_prefix('India ')\n",
    "summary = {'updated': pd.to_datetime(dt_today), 'since': pd.to_datetime(dt_yday)}\n",
    "summary = {'updated': pd.to_datetime(dt_today), 'since': pd.to_datetime(dt_yday)}\n",
    "summary = {**summary, **df_table[metrics].sum(), **s_ind, **s_us, **s_eu}"
   ]
  },
  {
   "cell_type": "code",
   "execution_count": 18,
   "id": "engaging-syndrome",
   "metadata": {
    "execution": {
     "iopub.execute_input": "2021-09-24T12:11:40.482845Z",
     "iopub.status.busy": "2021-09-24T12:11:40.482113Z",
     "iopub.status.idle": "2021-09-24T12:11:40.498956Z",
     "shell.execute_reply": "2021-09-24T12:11:40.498242Z"
    },
    "papermill": {
     "duration": 0.05767,
     "end_time": "2021-09-24T12:11:40.499101",
     "exception": false,
     "start_time": "2021-09-24T12:11:40.441431",
     "status": "completed"
    },
    "tags": []
   },
   "outputs": [],
   "source": [
    "#hide\n",
    "dft_ct_new_cases = dft_cases.groupby(COL_REGION)[dt_cols].sum().diff(axis=1).fillna(0).astype(int)"
   ]
  },
  {
   "cell_type": "code",
   "execution_count": 19,
   "id": "neutral-assignment",
   "metadata": {
    "execution": {
     "iopub.execute_input": "2021-09-24T12:11:40.575535Z",
     "iopub.status.busy": "2021-09-24T12:11:40.574869Z",
     "iopub.status.idle": "2021-09-24T12:11:40.579563Z",
     "shell.execute_reply": "2021-09-24T12:11:40.580343Z"
    },
    "papermill": {
     "duration": 0.045321,
     "end_time": "2021-09-24T12:11:40.580539",
     "exception": false,
     "start_time": "2021-09-24T12:11:40.535218",
     "status": "completed"
    },
    "tags": []
   },
   "outputs": [],
   "source": [
    "#hide\n",
    "everydaycases = dft_ct_new_cases.cumsum(axis=1)"
   ]
  },
  {
   "cell_type": "code",
   "execution_count": 20,
   "id": "parliamentary-calgary",
   "metadata": {
    "execution": {
     "iopub.execute_input": "2021-09-24T12:11:40.657350Z",
     "iopub.status.busy": "2021-09-24T12:11:40.656674Z",
     "iopub.status.idle": "2021-09-24T12:11:41.230831Z",
     "shell.execute_reply": "2021-09-24T12:11:41.231360Z"
    },
    "papermill": {
     "duration": 0.614614,
     "end_time": "2021-09-24T12:11:41.231534",
     "exception": false,
     "start_time": "2021-09-24T12:11:40.616920",
     "status": "completed"
    },
    "tags": []
   },
   "outputs": [],
   "source": [
    "#hide\n",
    "import pandas as pd\n",
    "import matplotlib.pyplot as plt\n",
    "import matplotlib.ticker as ticker\n",
    "import matplotlib.animation as animation\n",
    "from IPython.display import HTML"
   ]
  },
  {
   "cell_type": "code",
   "execution_count": 21,
   "id": "lasting-extraction",
   "metadata": {
    "execution": {
     "iopub.execute_input": "2021-09-24T12:11:41.315784Z",
     "iopub.status.busy": "2021-09-24T12:11:41.315081Z",
     "iopub.status.idle": "2021-09-24T12:11:41.320935Z",
     "shell.execute_reply": "2021-09-24T12:11:41.321441Z"
    },
    "papermill": {
     "duration": 0.050692,
     "end_time": "2021-09-24T12:11:41.321583",
     "exception": false,
     "start_time": "2021-09-24T12:11:41.270891",
     "status": "completed"
    },
    "tags": []
   },
   "outputs": [],
   "source": [
    "#hide\n",
    "t = everydaycases.stack()"
   ]
  },
  {
   "cell_type": "code",
   "execution_count": 22,
   "id": "premier-sleeve",
   "metadata": {
    "execution": {
     "iopub.execute_input": "2021-09-24T12:11:41.397805Z",
     "iopub.status.busy": "2021-09-24T12:11:41.397071Z",
     "iopub.status.idle": "2021-09-24T12:11:41.406829Z",
     "shell.execute_reply": "2021-09-24T12:11:41.407350Z"
    },
    "papermill": {
     "duration": 0.0491,
     "end_time": "2021-09-24T12:11:41.407478",
     "exception": false,
     "start_time": "2021-09-24T12:11:41.358378",
     "status": "completed"
    },
    "tags": []
   },
   "outputs": [],
   "source": [
    "#hide\n",
    "g = t.reset_index(['Country/Region'])"
   ]
  },
  {
   "cell_type": "code",
   "execution_count": 23,
   "id": "distributed-pittsburgh",
   "metadata": {
    "execution": {
     "iopub.execute_input": "2021-09-24T12:11:41.482491Z",
     "iopub.status.busy": "2021-09-24T12:11:41.481753Z",
     "iopub.status.idle": "2021-09-24T12:11:41.484482Z",
     "shell.execute_reply": "2021-09-24T12:11:41.485005Z"
    },
    "papermill": {
     "duration": 0.042955,
     "end_time": "2021-09-24T12:11:41.485155",
     "exception": false,
     "start_time": "2021-09-24T12:11:41.442200",
     "status": "completed"
    },
    "tags": []
   },
   "outputs": [],
   "source": [
    "#hide\n",
    "g.index.name = 'date'"
   ]
  },
  {
   "cell_type": "code",
   "execution_count": 24,
   "id": "naked-donor",
   "metadata": {
    "execution": {
     "iopub.execute_input": "2021-09-24T12:11:41.561139Z",
     "iopub.status.busy": "2021-09-24T12:11:41.560345Z",
     "iopub.status.idle": "2021-09-24T12:11:41.562215Z",
     "shell.execute_reply": "2021-09-24T12:11:41.562813Z"
    },
    "papermill": {
     "duration": 0.041302,
     "end_time": "2021-09-24T12:11:41.562972",
     "exception": false,
     "start_time": "2021-09-24T12:11:41.521670",
     "status": "completed"
    },
    "tags": []
   },
   "outputs": [],
   "source": [
    "# #hide\n",
    "# g = g.reset_index(['date'])"
   ]
  },
  {
   "cell_type": "code",
   "execution_count": 25,
   "id": "incomplete-mustang",
   "metadata": {
    "execution": {
     "iopub.execute_input": "2021-09-24T12:11:41.638151Z",
     "iopub.status.busy": "2021-09-24T12:11:41.637493Z",
     "iopub.status.idle": "2021-09-24T12:11:41.640158Z",
     "shell.execute_reply": "2021-09-24T12:11:41.639632Z"
    },
    "papermill": {
     "duration": 0.041692,
     "end_time": "2021-09-24T12:11:41.640307",
     "exception": false,
     "start_time": "2021-09-24T12:11:41.598615",
     "status": "completed"
    },
    "tags": []
   },
   "outputs": [],
   "source": [
    "#hide\n",
    "# g.head()"
   ]
  },
  {
   "cell_type": "code",
   "execution_count": 26,
   "id": "specific-kruger",
   "metadata": {
    "execution": {
     "iopub.execute_input": "2021-09-24T12:11:41.715193Z",
     "iopub.status.busy": "2021-09-24T12:11:41.714521Z",
     "iopub.status.idle": "2021-09-24T12:11:41.716398Z",
     "shell.execute_reply": "2021-09-24T12:11:41.716995Z"
    },
    "papermill": {
     "duration": 0.04195,
     "end_time": "2021-09-24T12:11:41.717117",
     "exception": false,
     "start_time": "2021-09-24T12:11:41.675167",
     "status": "completed"
    },
    "tags": []
   },
   "outputs": [],
   "source": [
    "#hide\n",
    "# g.columns = ['date','country','cases']"
   ]
  },
  {
   "cell_type": "code",
   "execution_count": 27,
   "id": "tender-conversion",
   "metadata": {
    "execution": {
     "iopub.execute_input": "2021-09-24T12:11:41.789078Z",
     "iopub.status.busy": "2021-09-24T12:11:41.788425Z",
     "iopub.status.idle": "2021-09-24T12:11:41.790353Z",
     "shell.execute_reply": "2021-09-24T12:11:41.790988Z"
    },
    "papermill": {
     "duration": 0.040108,
     "end_time": "2021-09-24T12:11:41.791104",
     "exception": false,
     "start_time": "2021-09-24T12:11:41.750996",
     "status": "completed"
    },
    "tags": []
   },
   "outputs": [],
   "source": [
    "#hide\n",
    "# g['continent'] = g.country"
   ]
  },
  {
   "cell_type": "code",
   "execution_count": 28,
   "id": "substantial-wilderness",
   "metadata": {
    "execution": {
     "iopub.execute_input": "2021-09-24T12:11:41.868198Z",
     "iopub.status.busy": "2021-09-24T12:11:41.867535Z",
     "iopub.status.idle": "2021-09-24T12:11:41.870041Z",
     "shell.execute_reply": "2021-09-24T12:11:41.869554Z"
    },
    "papermill": {
     "duration": 0.04183,
     "end_time": "2021-09-24T12:11:41.870169",
     "exception": false,
     "start_time": "2021-09-24T12:11:41.828339",
     "status": "completed"
    },
    "tags": []
   },
   "outputs": [],
   "source": [
    "#hide\n",
    "# cols = list(g.columns.values)"
   ]
  },
  {
   "cell_type": "code",
   "execution_count": 29,
   "id": "solved-farming",
   "metadata": {
    "execution": {
     "iopub.execute_input": "2021-09-24T12:11:41.945356Z",
     "iopub.status.busy": "2021-09-24T12:11:41.944622Z",
     "iopub.status.idle": "2021-09-24T12:11:41.947030Z",
     "shell.execute_reply": "2021-09-24T12:11:41.946370Z"
    },
    "papermill": {
     "duration": 0.039823,
     "end_time": "2021-09-24T12:11:41.947160",
     "exception": false,
     "start_time": "2021-09-24T12:11:41.907337",
     "status": "completed"
    },
    "tags": []
   },
   "outputs": [],
   "source": [
    "#hide\n",
    "# cols.insert(0, cols.pop())"
   ]
  },
  {
   "cell_type": "code",
   "execution_count": 30,
   "id": "executed-adoption",
   "metadata": {
    "execution": {
     "iopub.execute_input": "2021-09-24T12:11:42.025290Z",
     "iopub.status.busy": "2021-09-24T12:11:42.024433Z",
     "iopub.status.idle": "2021-09-24T12:11:42.026698Z",
     "shell.execute_reply": "2021-09-24T12:11:42.027221Z"
    },
    "papermill": {
     "duration": 0.044064,
     "end_time": "2021-09-24T12:11:42.027349",
     "exception": false,
     "start_time": "2021-09-24T12:11:41.983285",
     "status": "completed"
    },
    "tags": []
   },
   "outputs": [],
   "source": [
    "#hide\n",
    "# g = g[cols]"
   ]
  },
  {
   "cell_type": "code",
   "execution_count": 31,
   "id": "subject-dublin",
   "metadata": {
    "execution": {
     "iopub.execute_input": "2021-09-24T12:11:42.105895Z",
     "iopub.status.busy": "2021-09-24T12:11:42.105261Z",
     "iopub.status.idle": "2021-09-24T12:11:42.109208Z",
     "shell.execute_reply": "2021-09-24T12:11:42.108657Z"
    },
    "papermill": {
     "duration": 0.044641,
     "end_time": "2021-09-24T12:11:42.109329",
     "exception": false,
     "start_time": "2021-09-24T12:11:42.064688",
     "status": "completed"
    },
    "tags": []
   },
   "outputs": [],
   "source": [
    "#hide\n",
    "# g['continent'] = g['continent'].map(mapping['map.continent'])"
   ]
  },
  {
   "cell_type": "code",
   "execution_count": 32,
   "id": "freelance-scout",
   "metadata": {
    "execution": {
     "iopub.execute_input": "2021-09-24T12:11:42.183101Z",
     "iopub.status.busy": "2021-09-24T12:11:42.182394Z",
     "iopub.status.idle": "2021-09-24T12:11:42.184593Z",
     "shell.execute_reply": "2021-09-24T12:11:42.185041Z"
    },
    "papermill": {
     "duration": 0.041312,
     "end_time": "2021-09-24T12:11:42.185166",
     "exception": false,
     "start_time": "2021-09-24T12:11:42.143854",
     "status": "completed"
    },
    "tags": []
   },
   "outputs": [],
   "source": [
    "#hide\n",
    "# g.head()"
   ]
  },
  {
   "cell_type": "code",
   "execution_count": 33,
   "id": "limited-engine",
   "metadata": {
    "execution": {
     "iopub.execute_input": "2021-09-24T12:11:42.257869Z",
     "iopub.status.busy": "2021-09-24T12:11:42.257079Z",
     "iopub.status.idle": "2021-09-24T12:11:42.259427Z",
     "shell.execute_reply": "2021-09-24T12:11:42.259997Z"
    },
    "papermill": {
     "duration": 0.040238,
     "end_time": "2021-09-24T12:11:42.260158",
     "exception": false,
     "start_time": "2021-09-24T12:11:42.219920",
     "status": "completed"
    },
    "tags": []
   },
   "outputs": [],
   "source": [
    "# hide\n",
    "# g['date'] = g['date'].astype('datetime64[ns]')"
   ]
  },
  {
   "cell_type": "code",
   "execution_count": 34,
   "id": "sophisticated-supervisor",
   "metadata": {
    "execution": {
     "iopub.execute_input": "2021-09-24T12:11:42.339693Z",
     "iopub.status.busy": "2021-09-24T12:11:42.338901Z",
     "iopub.status.idle": "2021-09-24T12:11:42.340770Z",
     "shell.execute_reply": "2021-09-24T12:11:42.341405Z"
    },
    "papermill": {
     "duration": 0.044017,
     "end_time": "2021-09-24T12:11:42.341672",
     "exception": false,
     "start_time": "2021-09-24T12:11:42.297655",
     "status": "completed"
    },
    "tags": []
   },
   "outputs": [],
   "source": [
    "#hide\n",
    "# g['date'] = g.date.dt.dayofyear"
   ]
  },
  {
   "cell_type": "code",
   "execution_count": 35,
   "id": "inside-dubai",
   "metadata": {
    "execution": {
     "iopub.execute_input": "2021-09-24T12:11:42.420070Z",
     "iopub.status.busy": "2021-09-24T12:11:42.419419Z",
     "iopub.status.idle": "2021-09-24T12:11:42.421936Z",
     "shell.execute_reply": "2021-09-24T12:11:42.421411Z"
    },
    "papermill": {
     "duration": 0.042905,
     "end_time": "2021-09-24T12:11:42.422044",
     "exception": false,
     "start_time": "2021-09-24T12:11:42.379139",
     "status": "completed"
    },
    "tags": []
   },
   "outputs": [],
   "source": [
    "#hide\n",
    "# g = g.rename(columns= {'continent':'group','country':'name','cases':'value'})"
   ]
  },
  {
   "cell_type": "code",
   "execution_count": 36,
   "id": "fleet-motorcycle",
   "metadata": {
    "execution": {
     "iopub.execute_input": "2021-09-24T12:11:42.497128Z",
     "iopub.status.busy": "2021-09-24T12:11:42.496469Z",
     "iopub.status.idle": "2021-09-24T12:11:42.498622Z",
     "shell.execute_reply": "2021-09-24T12:11:42.499102Z"
    },
    "papermill": {
     "duration": 0.042161,
     "end_time": "2021-09-24T12:11:42.499226",
     "exception": false,
     "start_time": "2021-09-24T12:11:42.457065",
     "status": "completed"
    },
    "tags": []
   },
   "outputs": [],
   "source": [
    "#hide\n",
    "# cols = ['name','group','day','value']"
   ]
  },
  {
   "cell_type": "code",
   "execution_count": 37,
   "id": "continued-sleeping",
   "metadata": {
    "execution": {
     "iopub.execute_input": "2021-09-24T12:11:42.574114Z",
     "iopub.status.busy": "2021-09-24T12:11:42.573474Z",
     "iopub.status.idle": "2021-09-24T12:11:42.575431Z",
     "shell.execute_reply": "2021-09-24T12:11:42.575935Z"
    },
    "papermill": {
     "duration": 0.040319,
     "end_time": "2021-09-24T12:11:42.576090",
     "exception": false,
     "start_time": "2021-09-24T12:11:42.535771",
     "status": "completed"
    },
    "tags": []
   },
   "outputs": [],
   "source": [
    "#hide\n",
    "# g.rename(columns= {'date':'day'},inplace = True)"
   ]
  },
  {
   "cell_type": "code",
   "execution_count": 38,
   "id": "major-fight",
   "metadata": {
    "execution": {
     "iopub.execute_input": "2021-09-24T12:11:42.651489Z",
     "iopub.status.busy": "2021-09-24T12:11:42.650780Z",
     "iopub.status.idle": "2021-09-24T12:11:42.653816Z",
     "shell.execute_reply": "2021-09-24T12:11:42.653211Z"
    },
    "papermill": {
     "duration": 0.040789,
     "end_time": "2021-09-24T12:11:42.653993",
     "exception": false,
     "start_time": "2021-09-24T12:11:42.613204",
     "status": "completed"
    },
    "tags": []
   },
   "outputs": [],
   "source": [
    "#hide\n",
    "# g = g[cols]"
   ]
  },
  {
   "cell_type": "code",
   "execution_count": 39,
   "id": "structured-mobile",
   "metadata": {
    "execution": {
     "iopub.execute_input": "2021-09-24T12:11:42.729508Z",
     "iopub.status.busy": "2021-09-24T12:11:42.728811Z",
     "iopub.status.idle": "2021-09-24T12:11:42.730889Z",
     "shell.execute_reply": "2021-09-24T12:11:42.731439Z"
    },
    "papermill": {
     "duration": 0.043031,
     "end_time": "2021-09-24T12:11:42.731621",
     "exception": false,
     "start_time": "2021-09-24T12:11:42.688590",
     "status": "completed"
    },
    "tags": []
   },
   "outputs": [],
   "source": [
    "# #hide\n",
    "# g = g[g.group.notna()]"
   ]
  },
  {
   "cell_type": "code",
   "execution_count": 40,
   "id": "determined-closing",
   "metadata": {
    "execution": {
     "iopub.execute_input": "2021-09-24T12:11:42.806493Z",
     "iopub.status.busy": "2021-09-24T12:11:42.805852Z",
     "iopub.status.idle": "2021-09-24T12:11:42.807908Z",
     "shell.execute_reply": "2021-09-24T12:11:42.808381Z"
    },
    "papermill": {
     "duration": 0.041529,
     "end_time": "2021-09-24T12:11:42.808495",
     "exception": false,
     "start_time": "2021-09-24T12:11:42.766966",
     "status": "completed"
    },
    "tags": []
   },
   "outputs": [],
   "source": [
    "# #hide\n",
    "# colors = dict(zip(\n",
    "#     [\"Oceania\", \"Europe\", \"Asia\", \"South America\", \"Middle East\", \"North America\", \"Africa\"],\n",
    "#     [\"#adb0ff\", \"#ffb3ff\", \"#90d595\", \"#e48381\", \"#aafbff\", \"#f7bb5f\", \"#eafb50\"]\n",
    "# ))\n",
    "# group_lk = g.set_index('name')['group'].to_dict()"
   ]
  },
  {
   "cell_type": "code",
   "execution_count": null,
   "id": "gross-drinking",
   "metadata": {
    "papermill": {
     "duration": 0.036089,
     "end_time": "2021-09-24T12:11:42.880671",
     "exception": false,
     "start_time": "2021-09-24T12:11:42.844582",
     "status": "completed"
    },
    "tags": []
   },
   "outputs": [],
   "source": []
  },
  {
   "cell_type": "code",
   "execution_count": 41,
   "id": "subject-macintosh",
   "metadata": {
    "execution": {
     "iopub.execute_input": "2021-09-24T12:11:42.957765Z",
     "iopub.status.busy": "2021-09-24T12:11:42.957149Z",
     "iopub.status.idle": "2021-09-24T12:11:42.959772Z",
     "shell.execute_reply": "2021-09-24T12:11:42.959277Z"
    },
    "papermill": {
     "duration": 0.042443,
     "end_time": "2021-09-24T12:11:42.959885",
     "exception": false,
     "start_time": "2021-09-24T12:11:42.917442",
     "status": "completed"
    },
    "tags": []
   },
   "outputs": [],
   "source": [
    "# #hide\n",
    "# fig, ax = plt.subplots(figsize=(15, 8))\n",
    "\n",
    "# def draw_barchart(current_day):\n",
    "#     dff = g[g['day'].eq(current_day)].sort_values(by='value', ascending=True).tail(10)\n",
    "#     ax.clear()\n",
    "#     ax.barh(dff['name'], dff['value'], color=[colors[group_lk[x]] for x in dff['name']])\n",
    "#     dx = dff['value'].max() / 200\n",
    "    \n",
    "#     for i, (value, name) in enumerate(zip(dff['value'], dff['name'])):\n",
    "#         ax.text(value-dx, i,     name,           size=14, weight=600, ha='right', va='bottom')\n",
    "#         ax.text(value-dx, i-.25, group_lk[name], size=10, color='#444444', ha='right', va='baseline')\n",
    "#         ax.text(value+dx, i,     f'{value:,.0f}',  size=14, ha='left',  va='center')\n",
    "#     ax.text(1, 0.4, current_day, transform=ax.transAxes, color='#777777', size=46, ha='right', weight=800)\n",
    "#     ax.text(0, 1.06, 'Population (thousands)', transform=ax.transAxes, size=12, color='#777777')\n",
    "#     ax.xaxis.set_major_formatter(ticker.StrMethodFormatter('{x:,.0f}'))\n",
    "#     ax.xaxis.set_ticks_position('top')\n",
    "#     ax.tick_params(axis='x', colors='#777777', labelsize=12)\n",
    "#     ax.set_yticks([])\n",
    "#     ax.margins(0, 0.01)\n",
    "#     ax.grid(which='major', axis='x', linestyle='-')\n",
    "#     ax.set_axisbelow(True)\n",
    "    \n",
    "#     ax.text(0, 1.15, 'Coronavirus',\n",
    "#             transform=ax.transAxes, size=24, weight=600, ha='left', va='top')\n",
    "# #     ax.text(1, 0, 'by @pratapvardhan; credit @jburnmurdoch', transform=ax.transAxes, color='#777777', ha='right',\n",
    "# #             bbox=dict(facecolor='white', alpha=0.8, edgecolor='white'))\n",
    "#     plt.box(False)"
   ]
  },
  {
   "cell_type": "code",
   "execution_count": 42,
   "id": "sexual-wages",
   "metadata": {
    "execution": {
     "iopub.execute_input": "2021-09-24T12:11:43.036769Z",
     "iopub.status.busy": "2021-09-24T12:11:43.036046Z",
     "iopub.status.idle": "2021-09-24T12:11:43.038954Z",
     "shell.execute_reply": "2021-09-24T12:11:43.038371Z"
    },
    "papermill": {
     "duration": 0.042812,
     "end_time": "2021-09-24T12:11:43.039099",
     "exception": false,
     "start_time": "2021-09-24T12:11:42.996287",
     "status": "completed"
    },
    "tags": []
   },
   "outputs": [],
   "source": [
    "# #hide_input\n",
    "# fig, ax = plt.subplots(figsize=(15, 8))\n",
    "# animator = animation.FuncAnimation(fig, draw_barchart, frames=range(g.day.values.min(), g.day.values.max()))\n",
    "# HTML(animator.to_jshtml())\n",
    "# # or use animator.to_html5_video() or animator.save() "
   ]
  },
  {
   "cell_type": "code",
   "execution_count": null,
   "id": "australian-container",
   "metadata": {
    "papermill": {
     "duration": 0.036148,
     "end_time": "2021-09-24T12:11:43.112389",
     "exception": false,
     "start_time": "2021-09-24T12:11:43.076241",
     "status": "completed"
    },
    "tags": []
   },
   "outputs": [],
   "source": []
  },
  {
   "cell_type": "code",
   "execution_count": null,
   "id": "mediterranean-pontiac",
   "metadata": {
    "papermill": {
     "duration": 0.034912,
     "end_time": "2021-09-24T12:11:43.183244",
     "exception": false,
     "start_time": "2021-09-24T12:11:43.148332",
     "status": "completed"
    },
    "tags": []
   },
   "outputs": [],
   "source": []
  },
  {
   "cell_type": "code",
   "execution_count": null,
   "id": "aging-legislature",
   "metadata": {
    "papermill": {
     "duration": 0.03508,
     "end_time": "2021-09-24T12:11:43.255074",
     "exception": false,
     "start_time": "2021-09-24T12:11:43.219994",
     "status": "completed"
    },
    "tags": []
   },
   "outputs": [],
   "source": []
  }
 ],
 "metadata": {
  "kernelspec": {
   "display_name": "Python 3",
   "language": "python",
   "name": "python3"
  },
  "language_info": {
   "codemirror_mode": {
    "name": "ipython",
    "version": 3
   },
   "file_extension": ".py",
   "mimetype": "text/x-python",
   "name": "python",
   "nbconvert_exporter": "python",
   "pygments_lexer": "ipython3",
   "version": "3.6.15"
  },
  "papermill": {
   "duration": 6.622273,
   "end_time": "2021-09-24T12:11:43.601003",
   "environment_variables": {},
   "exception": null,
   "input_path": "2020-03-21-covid19exp.ipynb",
   "output_path": "2020-03-21-covid19exp.ipynb",
   "parameters": {},
   "start_time": "2021-09-24T12:11:36.978730",
   "version": "2.0.0"
  }
 },
 "nbformat": 4,
 "nbformat_minor": 5
}