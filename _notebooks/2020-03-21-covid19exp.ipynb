{
 "cells": [
  {
   "cell_type": "markdown",
   "id": "muslim-click",
   "metadata": {
    "papermill": {
     "duration": 0.040165,
     "end_time": "2021-06-04T01:06:26.818163",
     "exception": false,
     "start_time": "2021-06-04T01:06:26.777998",
     "status": "completed"
    },
    "tags": []
   },
   "source": [
    "# COVID-19 Case Race\n",
    "> A race chart to see rising cases around the world\n",
    "\n",
    "- author: Hargun Oberoi\n",
    "- image: images/covid-overview.png\n",
    "- hide: false\n",
    "- badges: false"
   ]
  },
  {
   "cell_type": "code",
   "execution_count": 1,
   "id": "proof-material",
   "metadata": {
    "execution": {
     "iopub.execute_input": "2021-06-04T01:06:26.900219Z",
     "iopub.status.busy": "2021-06-04T01:06:26.899571Z",
     "iopub.status.idle": "2021-06-04T01:06:27.284208Z",
     "shell.execute_reply": "2021-06-04T01:06:27.283280Z"
    },
    "papermill": {
     "duration": 0.430774,
     "end_time": "2021-06-04T01:06:27.284429",
     "exception": false,
     "start_time": "2021-06-04T01:06:26.853655",
     "status": "completed"
    },
    "tags": []
   },
   "outputs": [],
   "source": [
    "#hide\n",
    "import numpy as np\n",
    "import pandas as pd\n",
    "from jinja2 import Template\n",
    "from IPython.display import HTML"
   ]
  },
  {
   "cell_type": "code",
   "execution_count": 2,
   "id": "developed-terminology",
   "metadata": {
    "execution": {
     "iopub.execute_input": "2021-06-04T01:06:27.362576Z",
     "iopub.status.busy": "2021-06-04T01:06:27.361947Z",
     "iopub.status.idle": "2021-06-04T01:06:27.364700Z",
     "shell.execute_reply": "2021-06-04T01:06:27.365273Z"
    },
    "papermill": {
     "duration": 0.044486,
     "end_time": "2021-06-04T01:06:27.365411",
     "exception": false,
     "start_time": "2021-06-04T01:06:27.320925",
     "status": "completed"
    },
    "tags": []
   },
   "outputs": [],
   "source": [
    "#hide\n",
    "\n",
    "# FETCH\n",
    "base_url = 'https://raw.githubusercontent.com/pratapvardhan/notebooks/master/covid19/'\n",
    "paths = {\n",
    "    'mapping': base_url + 'mapping_countries.csv',\n",
    "    'overview': base_url + 'overview.tpl'\n",
    "}"
   ]
  },
  {
   "cell_type": "code",
   "execution_count": 3,
   "id": "dynamic-saver",
   "metadata": {
    "execution": {
     "iopub.execute_input": "2021-06-04T01:06:27.444051Z",
     "iopub.status.busy": "2021-06-04T01:06:27.443453Z",
     "iopub.status.idle": "2021-06-04T01:06:27.450767Z",
     "shell.execute_reply": "2021-06-04T01:06:27.450247Z"
    },
    "papermill": {
     "duration": 0.050342,
     "end_time": "2021-06-04T01:06:27.450884",
     "exception": false,
     "start_time": "2021-06-04T01:06:27.400542",
     "status": "completed"
    },
    "tags": []
   },
   "outputs": [
    {
     "data": {
      "text/plain": [
       "'https://raw.githubusercontent.com/pratapvardhan/notebooks/master/covid19/mapping_countries.csv'"
      ]
     },
     "execution_count": 3,
     "metadata": {},
     "output_type": "execute_result"
    }
   ],
   "source": [
    "#hide\n",
    "paths['mapping']"
   ]
  },
  {
   "cell_type": "code",
   "execution_count": 4,
   "id": "urban-software",
   "metadata": {
    "execution": {
     "iopub.execute_input": "2021-06-04T01:06:27.528230Z",
     "iopub.status.busy": "2021-06-04T01:06:27.527447Z",
     "iopub.status.idle": "2021-06-04T01:06:27.529605Z",
     "shell.execute_reply": "2021-06-04T01:06:27.530270Z"
    },
    "papermill": {
     "duration": 0.044323,
     "end_time": "2021-06-04T01:06:27.530413",
     "exception": false,
     "start_time": "2021-06-04T01:06:27.486090",
     "status": "completed"
    },
    "tags": []
   },
   "outputs": [],
   "source": [
    "#hide\n",
    "def get_mappings(url):\n",
    "    df = pd.read_csv(url)\n",
    "    return {\n",
    "        'df': df,\n",
    "        'replace.country': dict(df.dropna(subset=['Name']).set_index('Country')['Name']),\n",
    "        'map.continent': dict(df.set_index('Name')['Continent'])\n",
    "    }"
   ]
  },
  {
   "cell_type": "code",
   "execution_count": 5,
   "id": "intimate-machinery",
   "metadata": {
    "execution": {
     "iopub.execute_input": "2021-06-04T01:06:27.609231Z",
     "iopub.status.busy": "2021-06-04T01:06:27.608551Z",
     "iopub.status.idle": "2021-06-04T01:06:27.638564Z",
     "shell.execute_reply": "2021-06-04T01:06:27.639332Z"
    },
    "papermill": {
     "duration": 0.072956,
     "end_time": "2021-06-04T01:06:27.639514",
     "exception": false,
     "start_time": "2021-06-04T01:06:27.566558",
     "status": "completed"
    },
    "tags": []
   },
   "outputs": [],
   "source": [
    "#hide\n",
    "mapping = get_mappings(paths['mapping'])"
   ]
  },
  {
   "cell_type": "code",
   "execution_count": 6,
   "id": "certified-tactics",
   "metadata": {
    "execution": {
     "iopub.execute_input": "2021-06-04T01:06:27.715552Z",
     "iopub.status.busy": "2021-06-04T01:06:27.714953Z",
     "iopub.status.idle": "2021-06-04T01:06:27.717691Z",
     "shell.execute_reply": "2021-06-04T01:06:27.717212Z"
    },
    "papermill": {
     "duration": 0.04306,
     "end_time": "2021-06-04T01:06:27.717808",
     "exception": false,
     "start_time": "2021-06-04T01:06:27.674748",
     "status": "completed"
    },
    "tags": []
   },
   "outputs": [],
   "source": [
    "#hide\n",
    "def get_template(path):\n",
    "    from urllib.parse import urlparse\n",
    "    if bool(urlparse(path).netloc):\n",
    "        from urllib.request import urlopen\n",
    "        return urlopen(path).read().decode('utf8')\n",
    "    return open(path).read()"
   ]
  },
  {
   "cell_type": "code",
   "execution_count": 7,
   "id": "realistic-blast",
   "metadata": {
    "execution": {
     "iopub.execute_input": "2021-06-04T01:06:27.794555Z",
     "iopub.status.busy": "2021-06-04T01:06:27.793957Z",
     "iopub.status.idle": "2021-06-04T01:06:27.795956Z",
     "shell.execute_reply": "2021-06-04T01:06:27.796448Z"
    },
    "papermill": {
     "duration": 0.043971,
     "end_time": "2021-06-04T01:06:27.796583",
     "exception": false,
     "start_time": "2021-06-04T01:06:27.752612",
     "status": "completed"
    },
    "tags": []
   },
   "outputs": [],
   "source": [
    "#hide\n",
    "def get_frame(name):\n",
    "    url = (\n",
    "        'https://raw.githubusercontent.com/CSSEGISandData/COVID-19/master/csse_covid_19_data/'\n",
    "        f'csse_covid_19_time_series/time_series_covid19_{name}_global.csv')\n",
    "    df = pd.read_csv(url)\n",
    "    # rename countries\n",
    "    df['Country/Region'] = df['Country/Region'].replace(mapping['replace.country'])\n",
    "    return df"
   ]
  },
  {
   "cell_type": "code",
   "execution_count": 8,
   "id": "affiliated-characterization",
   "metadata": {
    "execution": {
     "iopub.execute_input": "2021-06-04T01:06:27.875231Z",
     "iopub.status.busy": "2021-06-04T01:06:27.874626Z",
     "iopub.status.idle": "2021-06-04T01:06:27.876460Z",
     "shell.execute_reply": "2021-06-04T01:06:27.876921Z"
    },
    "papermill": {
     "duration": 0.045549,
     "end_time": "2021-06-04T01:06:27.877059",
     "exception": false,
     "start_time": "2021-06-04T01:06:27.831510",
     "status": "completed"
    },
    "tags": []
   },
   "outputs": [],
   "source": [
    "#hide\n",
    "def get_dates(df):\n",
    "    dt_cols = df.columns[~df.columns.isin(['Province/State', 'Country/Region', 'Lat', 'Long'])]\n",
    "    LAST_DATE_I = -1\n",
    "    # sometimes last column may be empty, then go backwards\n",
    "    for i in range(-1, -len(dt_cols), -1):\n",
    "        if not df[dt_cols[i]].fillna(0).eq(0).all():\n",
    "            LAST_DATE_I = i\n",
    "            break\n",
    "    return LAST_DATE_I, dt_cols"
   ]
  },
  {
   "cell_type": "code",
   "execution_count": 9,
   "id": "recent-optimization",
   "metadata": {
    "execution": {
     "iopub.execute_input": "2021-06-04T01:06:27.954383Z",
     "iopub.status.busy": "2021-06-04T01:06:27.953245Z",
     "iopub.status.idle": "2021-06-04T01:06:28.252999Z",
     "shell.execute_reply": "2021-06-04T01:06:28.251788Z"
    },
    "papermill": {
     "duration": 0.341094,
     "end_time": "2021-06-04T01:06:28.253144",
     "exception": false,
     "start_time": "2021-06-04T01:06:27.912050",
     "status": "completed"
    },
    "tags": []
   },
   "outputs": [],
   "source": [
    "#hide\n",
    "COL_REGION = 'Country/Region'\n",
    "# Confirmed, Recovered, Deaths\n",
    "df = get_frame('confirmed')\n",
    "# dft_: timeseries, dfc_: today country agg\n",
    "dft_cases = df\n",
    "dft_deaths = get_frame('deaths')\n",
    "dft_recovered = get_frame('recovered')\n",
    "LAST_DATE_I, dt_cols = get_dates(df)"
   ]
  },
  {
   "cell_type": "code",
   "execution_count": 10,
   "id": "absolute-copper",
   "metadata": {
    "execution": {
     "iopub.execute_input": "2021-06-04T01:06:28.329244Z",
     "iopub.status.busy": "2021-06-04T01:06:28.328627Z",
     "iopub.status.idle": "2021-06-04T01:06:28.331418Z",
     "shell.execute_reply": "2021-06-04T01:06:28.330902Z"
    },
    "papermill": {
     "duration": 0.042914,
     "end_time": "2021-06-04T01:06:28.331539",
     "exception": false,
     "start_time": "2021-06-04T01:06:28.288625",
     "status": "completed"
    },
    "tags": []
   },
   "outputs": [],
   "source": [
    "#hide\n",
    "LAST_DATE_I, dt_cols = get_dates(df)\n",
    "dt_today =dt_cols[LAST_DATE_I]\n",
    "# dt_5day = dt_cols[LAST_DATE_I - 5]\n",
    "dt_yday = dt_cols[LAST_DATE_I - 1]"
   ]
  },
  {
   "cell_type": "code",
   "execution_count": 11,
   "id": "restricted-sheriff",
   "metadata": {
    "execution": {
     "iopub.execute_input": "2021-06-04T01:06:28.408697Z",
     "iopub.status.busy": "2021-06-04T01:06:28.408054Z",
     "iopub.status.idle": "2021-06-04T01:06:28.417637Z",
     "shell.execute_reply": "2021-06-04T01:06:28.417126Z"
    },
    "papermill": {
     "duration": 0.051436,
     "end_time": "2021-06-04T01:06:28.417753",
     "exception": false,
     "start_time": "2021-06-04T01:06:28.366317",
     "status": "completed"
    },
    "tags": []
   },
   "outputs": [],
   "source": [
    "#hide\n",
    "dfc_cases = dft_cases.groupby(COL_REGION)[dt_today].sum()\n",
    "dfc_deaths = dft_deaths.groupby(COL_REGION)[dt_today].sum()\n",
    "# dfp_cases = dft_cases.groupby(COL_REGION)[dt_5day].sum()\n",
    "# dfp_deaths = dft_deaths.groupby(COL_REGION)[dt_5day].sum()\n",
    "dfp_cases = dft_cases.groupby(COL_REGION)[dt_yday].sum()\n",
    "dfp_deaths = dft_deaths.groupby(COL_REGION)[dt_yday].sum()"
   ]
  },
  {
   "cell_type": "code",
   "execution_count": 12,
   "id": "deluxe-hepatitis",
   "metadata": {
    "execution": {
     "iopub.execute_input": "2021-06-04T01:06:28.493480Z",
     "iopub.status.busy": "2021-06-04T01:06:28.492891Z",
     "iopub.status.idle": "2021-06-04T01:06:28.498074Z",
     "shell.execute_reply": "2021-06-04T01:06:28.497563Z"
    },
    "papermill": {
     "duration": 0.045352,
     "end_time": "2021-06-04T01:06:28.498191",
     "exception": false,
     "start_time": "2021-06-04T01:06:28.452839",
     "status": "completed"
    },
    "tags": []
   },
   "outputs": [],
   "source": [
    "#hide\n",
    "df_table = (pd.DataFrame(dict(Cases = dfc_cases, Deaths = dfc_deaths, PCases = dfp_cases, PDeaths = dfp_deaths))\n",
    "            .sort_values(by = ['Cases','Deaths'], ascending = [False, False])\n",
    "            .reset_index())"
   ]
  },
  {
   "cell_type": "code",
   "execution_count": 13,
   "id": "educational-chancellor",
   "metadata": {
    "execution": {
     "iopub.execute_input": "2021-06-04T01:06:28.576763Z",
     "iopub.status.busy": "2021-06-04T01:06:28.576149Z",
     "iopub.status.idle": "2021-06-04T01:06:28.596423Z",
     "shell.execute_reply": "2021-06-04T01:06:28.595749Z"
    },
    "papermill": {
     "duration": 0.063496,
     "end_time": "2021-06-04T01:06:28.596582",
     "exception": false,
     "start_time": "2021-06-04T01:06:28.533086",
     "status": "completed"
    },
    "tags": []
   },
   "outputs": [
    {
     "data": {
      "text/html": [
       "<div>\n",
       "<style scoped>\n",
       "    .dataframe tbody tr th:only-of-type {\n",
       "        vertical-align: middle;\n",
       "    }\n",
       "\n",
       "    .dataframe tbody tr th {\n",
       "        vertical-align: top;\n",
       "    }\n",
       "\n",
       "    .dataframe thead th {\n",
       "        text-align: right;\n",
       "    }\n",
       "</style>\n",
       "<table border=\"1\" class=\"dataframe\">\n",
       "  <thead>\n",
       "    <tr style=\"text-align: right;\">\n",
       "      <th></th>\n",
       "      <th>Country/Region</th>\n",
       "      <th>Cases</th>\n",
       "      <th>Deaths</th>\n",
       "      <th>PCases</th>\n",
       "      <th>PDeaths</th>\n",
       "      <th>Cases (+)</th>\n",
       "      <th>Deaths (+)</th>\n",
       "      <th>Fatality Rate</th>\n",
       "      <th>Continent</th>\n",
       "    </tr>\n",
       "  </thead>\n",
       "  <tbody>\n",
       "    <tr>\n",
       "      <th>0</th>\n",
       "      <td>US</td>\n",
       "      <td>33307363</td>\n",
       "      <td>595833</td>\n",
       "      <td>33290450</td>\n",
       "      <td>595223</td>\n",
       "      <td>16913</td>\n",
       "      <td>610</td>\n",
       "      <td>1.79</td>\n",
       "      <td>North America</td>\n",
       "    </tr>\n",
       "    <tr>\n",
       "      <th>1</th>\n",
       "      <td>India</td>\n",
       "      <td>28441986</td>\n",
       "      <td>337989</td>\n",
       "      <td>28307832</td>\n",
       "      <td>335102</td>\n",
       "      <td>134154</td>\n",
       "      <td>2887</td>\n",
       "      <td>1.19</td>\n",
       "      <td>Asia</td>\n",
       "    </tr>\n",
       "    <tr>\n",
       "      <th>2</th>\n",
       "      <td>Brazil</td>\n",
       "      <td>16720081</td>\n",
       "      <td>467706</td>\n",
       "      <td>16624480</td>\n",
       "      <td>465199</td>\n",
       "      <td>95601</td>\n",
       "      <td>2507</td>\n",
       "      <td>2.80</td>\n",
       "      <td>South America</td>\n",
       "    </tr>\n",
       "    <tr>\n",
       "      <th>3</th>\n",
       "      <td>France</td>\n",
       "      <td>5739995</td>\n",
       "      <td>109841</td>\n",
       "      <td>5738641</td>\n",
       "      <td>109824</td>\n",
       "      <td>1354</td>\n",
       "      <td>17</td>\n",
       "      <td>1.91</td>\n",
       "      <td>Europe</td>\n",
       "    </tr>\n",
       "    <tr>\n",
       "      <th>4</th>\n",
       "      <td>Turkey</td>\n",
       "      <td>5263697</td>\n",
       "      <td>47768</td>\n",
       "      <td>5256516</td>\n",
       "      <td>47656</td>\n",
       "      <td>7181</td>\n",
       "      <td>112</td>\n",
       "      <td>0.91</td>\n",
       "      <td>Asia</td>\n",
       "    </tr>\n",
       "  </tbody>\n",
       "</table>\n",
       "</div>"
      ],
      "text/plain": [
       "  Country/Region     Cases  Deaths    PCases  PDeaths  Cases (+)  Deaths (+)  \\\n",
       "0             US  33307363  595833  33290450   595223      16913         610   \n",
       "1          India  28441986  337989  28307832   335102     134154        2887   \n",
       "2         Brazil  16720081  467706  16624480   465199      95601        2507   \n",
       "3         France   5739995  109841   5738641   109824       1354          17   \n",
       "4         Turkey   5263697   47768   5256516    47656       7181         112   \n",
       "\n",
       "   Fatality Rate      Continent  \n",
       "0           1.79  North America  \n",
       "1           1.19           Asia  \n",
       "2           2.80  South America  \n",
       "3           1.91         Europe  \n",
       "4           0.91           Asia  "
      ]
     },
     "execution_count": 13,
     "metadata": {},
     "output_type": "execute_result"
    }
   ],
   "source": [
    "#hide\n",
    "for c in 'Cases, Deaths'.split(', '):\n",
    "    df_table[f'{c} (+)'] = (df_table[c] - df_table[f'P{c}']).clip(0)\n",
    "    #Clip ça veut dire, les chiffres negatif sont interdit\n",
    "df_table['Fatality Rate'] = (100* df_table['Deaths']/ df_table['Cases']).round(2)\n",
    "df_table['Continent'] = df_table['Country/Region'].map(mapping['map.continent'])\n",
    "df_table.head(5)"
   ]
  },
  {
   "cell_type": "code",
   "execution_count": 14,
   "id": "aboriginal-bulgaria",
   "metadata": {
    "execution": {
     "iopub.execute_input": "2021-06-04T01:06:28.676107Z",
     "iopub.status.busy": "2021-06-04T01:06:28.675512Z",
     "iopub.status.idle": "2021-06-04T01:06:28.677273Z",
     "shell.execute_reply": "2021-06-04T01:06:28.677837Z"
    },
    "papermill": {
     "duration": 0.044262,
     "end_time": "2021-06-04T01:06:28.677973",
     "exception": false,
     "start_time": "2021-06-04T01:06:28.633711",
     "status": "completed"
    },
    "tags": []
   },
   "outputs": [],
   "source": [
    "#hide\n",
    "#delete problematic countries from table\n",
    "df_table = df_table[~df_table['Country/Region'].isin(['Cape Verde', 'Cruise Ship', 'Kosovo'])]"
   ]
  },
  {
   "cell_type": "code",
   "execution_count": 15,
   "id": "fantastic-effect",
   "metadata": {
    "execution": {
     "iopub.execute_input": "2021-06-04T01:06:28.759157Z",
     "iopub.status.busy": "2021-06-04T01:06:28.758557Z",
     "iopub.status.idle": "2021-06-04T01:06:28.777506Z",
     "shell.execute_reply": "2021-06-04T01:06:28.776987Z"
    },
    "papermill": {
     "duration": 0.064395,
     "end_time": "2021-06-04T01:06:28.777622",
     "exception": false,
     "start_time": "2021-06-04T01:06:28.713227",
     "status": "completed"
    },
    "tags": []
   },
   "outputs": [
    {
     "data": {
      "text/html": [
       "<div>\n",
       "<style scoped>\n",
       "    .dataframe tbody tr th:only-of-type {\n",
       "        vertical-align: middle;\n",
       "    }\n",
       "\n",
       "    .dataframe tbody tr th {\n",
       "        vertical-align: top;\n",
       "    }\n",
       "\n",
       "    .dataframe thead th {\n",
       "        text-align: right;\n",
       "    }\n",
       "</style>\n",
       "<table border=\"1\" class=\"dataframe\">\n",
       "  <thead>\n",
       "    <tr style=\"text-align: right;\">\n",
       "      <th></th>\n",
       "      <th>Country/Region</th>\n",
       "      <th>Cases</th>\n",
       "      <th>Deaths</th>\n",
       "      <th>PCases</th>\n",
       "      <th>PDeaths</th>\n",
       "      <th>Cases (+)</th>\n",
       "      <th>Deaths (+)</th>\n",
       "      <th>Fatality Rate</th>\n",
       "      <th>Continent</th>\n",
       "    </tr>\n",
       "  </thead>\n",
       "  <tbody>\n",
       "    <tr>\n",
       "      <th>0</th>\n",
       "      <td>US</td>\n",
       "      <td>33307363</td>\n",
       "      <td>595833</td>\n",
       "      <td>33290450</td>\n",
       "      <td>595223</td>\n",
       "      <td>16913</td>\n",
       "      <td>610</td>\n",
       "      <td>1.8</td>\n",
       "      <td>North America</td>\n",
       "    </tr>\n",
       "    <tr>\n",
       "      <th>1</th>\n",
       "      <td>India</td>\n",
       "      <td>28441986</td>\n",
       "      <td>337989</td>\n",
       "      <td>28307832</td>\n",
       "      <td>335102</td>\n",
       "      <td>134154</td>\n",
       "      <td>2887</td>\n",
       "      <td>1.2</td>\n",
       "      <td>Asia</td>\n",
       "    </tr>\n",
       "    <tr>\n",
       "      <th>2</th>\n",
       "      <td>Brazil</td>\n",
       "      <td>16720081</td>\n",
       "      <td>467706</td>\n",
       "      <td>16624480</td>\n",
       "      <td>465199</td>\n",
       "      <td>95601</td>\n",
       "      <td>2507</td>\n",
       "      <td>2.8</td>\n",
       "      <td>South America</td>\n",
       "    </tr>\n",
       "    <tr>\n",
       "      <th>3</th>\n",
       "      <td>France</td>\n",
       "      <td>5739995</td>\n",
       "      <td>109841</td>\n",
       "      <td>5738641</td>\n",
       "      <td>109824</td>\n",
       "      <td>1354</td>\n",
       "      <td>17</td>\n",
       "      <td>1.9</td>\n",
       "      <td>Europe</td>\n",
       "    </tr>\n",
       "    <tr>\n",
       "      <th>4</th>\n",
       "      <td>Turkey</td>\n",
       "      <td>5263697</td>\n",
       "      <td>47768</td>\n",
       "      <td>5256516</td>\n",
       "      <td>47656</td>\n",
       "      <td>7181</td>\n",
       "      <td>112</td>\n",
       "      <td>0.9</td>\n",
       "      <td>Asia</td>\n",
       "    </tr>\n",
       "  </tbody>\n",
       "</table>\n",
       "</div>"
      ],
      "text/plain": [
       "  Country/Region     Cases  Deaths    PCases  PDeaths  Cases (+)  Deaths (+)  \\\n",
       "0             US  33307363  595833  33290450   595223      16913         610   \n",
       "1          India  28441986  337989  28307832   335102     134154        2887   \n",
       "2         Brazil  16720081  467706  16624480   465199      95601        2507   \n",
       "3         France   5739995  109841   5738641   109824       1354          17   \n",
       "4         Turkey   5263697   47768   5256516    47656       7181         112   \n",
       "\n",
       "   Fatality Rate      Continent  \n",
       "0            1.8  North America  \n",
       "1            1.2           Asia  \n",
       "2            2.8  South America  \n",
       "3            1.9         Europe  \n",
       "4            0.9           Asia  "
      ]
     },
     "execution_count": 15,
     "metadata": {},
     "output_type": "execute_result"
    }
   ],
   "source": [
    "#hide\n",
    "df_table = (pd.DataFrame(dict(Cases=dfc_cases, Deaths=dfc_deaths, PCases=dfp_cases, PDeaths=dfp_deaths))\n",
    "             .sort_values(by=['Cases', 'Deaths'], ascending=[False, False])\n",
    "             .reset_index())\n",
    "df_table.rename(columns={'index': 'Country/Region'}, inplace=True)\n",
    "for c in 'Cases, Deaths'.split(', '):\n",
    "    df_table[f'{c} (+)'] = (df_table[c] - df_table[f'P{c}']).clip(0)  # DATA BUG\n",
    "df_table['Fatality Rate'] = (100 * df_table['Deaths'] / df_table['Cases']).round(1)\n",
    "df_table['Continent'] = df_table['Country/Region'].map(mapping['map.continent'])\n",
    "df_table.head(5)"
   ]
  },
  {
   "cell_type": "code",
   "execution_count": 16,
   "id": "fewer-occasion",
   "metadata": {
    "execution": {
     "iopub.execute_input": "2021-06-04T01:06:28.855279Z",
     "iopub.status.busy": "2021-06-04T01:06:28.854685Z",
     "iopub.status.idle": "2021-06-04T01:06:28.857145Z",
     "shell.execute_reply": "2021-06-04T01:06:28.856639Z"
    },
    "papermill": {
     "duration": 0.043538,
     "end_time": "2021-06-04T01:06:28.857256",
     "exception": false,
     "start_time": "2021-06-04T01:06:28.813718",
     "status": "completed"
    },
    "tags": []
   },
   "outputs": [],
   "source": [
    "#hide\n",
    "#delete problematic countries from table\n",
    "df_table = df_table[~df_table['Country/Region'].isin(['Cape Verde', 'Cruise Ship', 'Kosovo'])]"
   ]
  },
  {
   "cell_type": "code",
   "execution_count": 17,
   "id": "related-center",
   "metadata": {
    "execution": {
     "iopub.execute_input": "2021-06-04T01:06:28.948694Z",
     "iopub.status.busy": "2021-06-04T01:06:28.948054Z",
     "iopub.status.idle": "2021-06-04T01:06:28.950820Z",
     "shell.execute_reply": "2021-06-04T01:06:28.950334Z"
    },
    "papermill": {
     "duration": 0.057896,
     "end_time": "2021-06-04T01:06:28.950937",
     "exception": false,
     "start_time": "2021-06-04T01:06:28.893041",
     "status": "completed"
    },
    "tags": []
   },
   "outputs": [],
   "source": [
    "#hide\n",
    "metrics = [df_table.columns[index] for index in [1,2,5,6]]\n",
    "# s_china = df_table[df_table['Country/Region'].eq('China')][metrics].sum().add_prefix('China ')\n",
    "s_us = df_table[df_table['Country/Region'].eq('US')][metrics].sum().add_prefix('US ')\n",
    "s_eu = df_table[df_table['Continent'].eq('Europe')][metrics].sum().add_prefix('EU ')\n",
    "s_ind = df_table[df_table['Country/Region'].eq('India')][metrics].sum().add_prefix('India ')\n",
    "summary = {'updated': pd.to_datetime(dt_today), 'since': pd.to_datetime(dt_yday)}\n",
    "summary = {'updated': pd.to_datetime(dt_today), 'since': pd.to_datetime(dt_yday)}\n",
    "summary = {**summary, **df_table[metrics].sum(), **s_ind, **s_us, **s_eu}"
   ]
  },
  {
   "cell_type": "code",
   "execution_count": 18,
   "id": "engaging-syndrome",
   "metadata": {
    "execution": {
     "iopub.execute_input": "2021-06-04T01:06:29.029792Z",
     "iopub.status.busy": "2021-06-04T01:06:29.029199Z",
     "iopub.status.idle": "2021-06-04T01:06:29.042967Z",
     "shell.execute_reply": "2021-06-04T01:06:29.042483Z"
    },
    "papermill": {
     "duration": 0.056139,
     "end_time": "2021-06-04T01:06:29.043082",
     "exception": false,
     "start_time": "2021-06-04T01:06:28.986943",
     "status": "completed"
    },
    "tags": []
   },
   "outputs": [],
   "source": [
    "#hide\n",
    "dft_ct_new_cases = dft_cases.groupby(COL_REGION)[dt_cols].sum().diff(axis=1).fillna(0).astype(int)"
   ]
  },
  {
   "cell_type": "code",
   "execution_count": 19,
   "id": "neutral-assignment",
   "metadata": {
    "execution": {
     "iopub.execute_input": "2021-06-04T01:06:29.122252Z",
     "iopub.status.busy": "2021-06-04T01:06:29.121657Z",
     "iopub.status.idle": "2021-06-04T01:06:29.123453Z",
     "shell.execute_reply": "2021-06-04T01:06:29.123972Z"
    },
    "papermill": {
     "duration": 0.045195,
     "end_time": "2021-06-04T01:06:29.124108",
     "exception": false,
     "start_time": "2021-06-04T01:06:29.078913",
     "status": "completed"
    },
    "tags": []
   },
   "outputs": [],
   "source": [
    "#hide\n",
    "everydaycases = dft_ct_new_cases.cumsum(axis=1)"
   ]
  },
  {
   "cell_type": "code",
   "execution_count": 20,
   "id": "parliamentary-calgary",
   "metadata": {
    "execution": {
     "iopub.execute_input": "2021-06-04T01:06:29.201103Z",
     "iopub.status.busy": "2021-06-04T01:06:29.200499Z",
     "iopub.status.idle": "2021-06-04T01:06:29.820983Z",
     "shell.execute_reply": "2021-06-04T01:06:29.820297Z"
    },
    "papermill": {
     "duration": 0.661082,
     "end_time": "2021-06-04T01:06:29.821115",
     "exception": false,
     "start_time": "2021-06-04T01:06:29.160033",
     "status": "completed"
    },
    "tags": []
   },
   "outputs": [],
   "source": [
    "#hide\n",
    "import pandas as pd\n",
    "import matplotlib.pyplot as plt\n",
    "import matplotlib.ticker as ticker\n",
    "import matplotlib.animation as animation\n",
    "from IPython.display import HTML"
   ]
  },
  {
   "cell_type": "code",
   "execution_count": 21,
   "id": "lasting-extraction",
   "metadata": {
    "execution": {
     "iopub.execute_input": "2021-06-04T01:06:29.900881Z",
     "iopub.status.busy": "2021-06-04T01:06:29.900272Z",
     "iopub.status.idle": "2021-06-04T01:06:29.905756Z",
     "shell.execute_reply": "2021-06-04T01:06:29.906216Z"
    },
    "papermill": {
     "duration": 0.049291,
     "end_time": "2021-06-04T01:06:29.906361",
     "exception": false,
     "start_time": "2021-06-04T01:06:29.857070",
     "status": "completed"
    },
    "tags": []
   },
   "outputs": [],
   "source": [
    "#hide\n",
    "t = everydaycases.stack()"
   ]
  },
  {
   "cell_type": "code",
   "execution_count": 22,
   "id": "premier-sleeve",
   "metadata": {
    "execution": {
     "iopub.execute_input": "2021-06-04T01:06:29.983432Z",
     "iopub.status.busy": "2021-06-04T01:06:29.982830Z",
     "iopub.status.idle": "2021-06-04T01:06:29.992171Z",
     "shell.execute_reply": "2021-06-04T01:06:29.991638Z"
    },
    "papermill": {
     "duration": 0.049867,
     "end_time": "2021-06-04T01:06:29.992294",
     "exception": false,
     "start_time": "2021-06-04T01:06:29.942427",
     "status": "completed"
    },
    "tags": []
   },
   "outputs": [],
   "source": [
    "#hide\n",
    "g = t.reset_index(['Country/Region'])"
   ]
  },
  {
   "cell_type": "code",
   "execution_count": 23,
   "id": "distributed-pittsburgh",
   "metadata": {
    "execution": {
     "iopub.execute_input": "2021-06-04T01:06:30.070338Z",
     "iopub.status.busy": "2021-06-04T01:06:30.069333Z",
     "iopub.status.idle": "2021-06-04T01:06:30.071404Z",
     "shell.execute_reply": "2021-06-04T01:06:30.072240Z"
    },
    "papermill": {
     "duration": 0.044232,
     "end_time": "2021-06-04T01:06:30.072411",
     "exception": false,
     "start_time": "2021-06-04T01:06:30.028179",
     "status": "completed"
    },
    "tags": []
   },
   "outputs": [],
   "source": [
    "#hide\n",
    "g.index.name = 'date'"
   ]
  },
  {
   "cell_type": "code",
   "execution_count": 24,
   "id": "naked-donor",
   "metadata": {
    "execution": {
     "iopub.execute_input": "2021-06-04T01:06:30.148533Z",
     "iopub.status.busy": "2021-06-04T01:06:30.147907Z",
     "iopub.status.idle": "2021-06-04T01:06:30.150392Z",
     "shell.execute_reply": "2021-06-04T01:06:30.150964Z"
    },
    "papermill": {
     "duration": 0.042614,
     "end_time": "2021-06-04T01:06:30.151106",
     "exception": false,
     "start_time": "2021-06-04T01:06:30.108492",
     "status": "completed"
    },
    "tags": []
   },
   "outputs": [],
   "source": [
    "# #hide\n",
    "# g = g.reset_index(['date'])"
   ]
  },
  {
   "cell_type": "code",
   "execution_count": 25,
   "id": "incomplete-mustang",
   "metadata": {
    "execution": {
     "iopub.execute_input": "2021-06-04T01:06:30.226359Z",
     "iopub.status.busy": "2021-06-04T01:06:30.225762Z",
     "iopub.status.idle": "2021-06-04T01:06:30.228246Z",
     "shell.execute_reply": "2021-06-04T01:06:30.227737Z"
    },
    "papermill": {
     "duration": 0.041373,
     "end_time": "2021-06-04T01:06:30.228370",
     "exception": false,
     "start_time": "2021-06-04T01:06:30.186997",
     "status": "completed"
    },
    "tags": []
   },
   "outputs": [],
   "source": [
    "#hide\n",
    "# g.head()"
   ]
  },
  {
   "cell_type": "code",
   "execution_count": 26,
   "id": "specific-kruger",
   "metadata": {
    "execution": {
     "iopub.execute_input": "2021-06-04T01:06:30.304884Z",
     "iopub.status.busy": "2021-06-04T01:06:30.304282Z",
     "iopub.status.idle": "2021-06-04T01:06:30.306944Z",
     "shell.execute_reply": "2021-06-04T01:06:30.306459Z"
    },
    "papermill": {
     "duration": 0.042753,
     "end_time": "2021-06-04T01:06:30.307064",
     "exception": false,
     "start_time": "2021-06-04T01:06:30.264311",
     "status": "completed"
    },
    "tags": []
   },
   "outputs": [],
   "source": [
    "#hide\n",
    "# g.columns = ['date','country','cases']"
   ]
  },
  {
   "cell_type": "code",
   "execution_count": 27,
   "id": "tender-conversion",
   "metadata": {
    "execution": {
     "iopub.execute_input": "2021-06-04T01:06:30.381593Z",
     "iopub.status.busy": "2021-06-04T01:06:30.381004Z",
     "iopub.status.idle": "2021-06-04T01:06:30.385198Z",
     "shell.execute_reply": "2021-06-04T01:06:30.385766Z"
    },
    "papermill": {
     "duration": 0.043091,
     "end_time": "2021-06-04T01:06:30.385896",
     "exception": false,
     "start_time": "2021-06-04T01:06:30.342805",
     "status": "completed"
    },
    "tags": []
   },
   "outputs": [],
   "source": [
    "#hide\n",
    "# g['continent'] = g.country"
   ]
  },
  {
   "cell_type": "code",
   "execution_count": 28,
   "id": "substantial-wilderness",
   "metadata": {
    "execution": {
     "iopub.execute_input": "2021-06-04T01:06:30.462382Z",
     "iopub.status.busy": "2021-06-04T01:06:30.461787Z",
     "iopub.status.idle": "2021-06-04T01:06:30.464086Z",
     "shell.execute_reply": "2021-06-04T01:06:30.464685Z"
    },
    "papermill": {
     "duration": 0.042911,
     "end_time": "2021-06-04T01:06:30.464817",
     "exception": false,
     "start_time": "2021-06-04T01:06:30.421906",
     "status": "completed"
    },
    "tags": []
   },
   "outputs": [],
   "source": [
    "#hide\n",
    "# cols = list(g.columns.values)"
   ]
  },
  {
   "cell_type": "code",
   "execution_count": 29,
   "id": "solved-farming",
   "metadata": {
    "execution": {
     "iopub.execute_input": "2021-06-04T01:06:30.540545Z",
     "iopub.status.busy": "2021-06-04T01:06:30.539919Z",
     "iopub.status.idle": "2021-06-04T01:06:30.542179Z",
     "shell.execute_reply": "2021-06-04T01:06:30.541594Z"
    },
    "papermill": {
     "duration": 0.041719,
     "end_time": "2021-06-04T01:06:30.542295",
     "exception": false,
     "start_time": "2021-06-04T01:06:30.500576",
     "status": "completed"
    },
    "tags": []
   },
   "outputs": [],
   "source": [
    "#hide\n",
    "# cols.insert(0, cols.pop())"
   ]
  },
  {
   "cell_type": "code",
   "execution_count": 30,
   "id": "executed-adoption",
   "metadata": {
    "execution": {
     "iopub.execute_input": "2021-06-04T01:06:30.619011Z",
     "iopub.status.busy": "2021-06-04T01:06:30.618411Z",
     "iopub.status.idle": "2021-06-04T01:06:30.621184Z",
     "shell.execute_reply": "2021-06-04T01:06:30.620670Z"
    },
    "papermill": {
     "duration": 0.042953,
     "end_time": "2021-06-04T01:06:30.621301",
     "exception": false,
     "start_time": "2021-06-04T01:06:30.578348",
     "status": "completed"
    },
    "tags": []
   },
   "outputs": [],
   "source": [
    "#hide\n",
    "# g = g[cols]"
   ]
  },
  {
   "cell_type": "code",
   "execution_count": 31,
   "id": "subject-dublin",
   "metadata": {
    "execution": {
     "iopub.execute_input": "2021-06-04T01:06:30.697179Z",
     "iopub.status.busy": "2021-06-04T01:06:30.696580Z",
     "iopub.status.idle": "2021-06-04T01:06:30.698853Z",
     "shell.execute_reply": "2021-06-04T01:06:30.699410Z"
    },
    "papermill": {
     "duration": 0.042414,
     "end_time": "2021-06-04T01:06:30.699542",
     "exception": false,
     "start_time": "2021-06-04T01:06:30.657128",
     "status": "completed"
    },
    "tags": []
   },
   "outputs": [],
   "source": [
    "#hide\n",
    "# g['continent'] = g['continent'].map(mapping['map.continent'])"
   ]
  },
  {
   "cell_type": "code",
   "execution_count": 32,
   "id": "freelance-scout",
   "metadata": {
    "execution": {
     "iopub.execute_input": "2021-06-04T01:06:30.775708Z",
     "iopub.status.busy": "2021-06-04T01:06:30.775108Z",
     "iopub.status.idle": "2021-06-04T01:06:30.777762Z",
     "shell.execute_reply": "2021-06-04T01:06:30.778334Z"
    },
    "papermill": {
     "duration": 0.043002,
     "end_time": "2021-06-04T01:06:30.778465",
     "exception": false,
     "start_time": "2021-06-04T01:06:30.735463",
     "status": "completed"
    },
    "tags": []
   },
   "outputs": [],
   "source": [
    "#hide\n",
    "# g.head()"
   ]
  },
  {
   "cell_type": "code",
   "execution_count": 33,
   "id": "limited-engine",
   "metadata": {
    "execution": {
     "iopub.execute_input": "2021-06-04T01:06:30.854518Z",
     "iopub.status.busy": "2021-06-04T01:06:30.853924Z",
     "iopub.status.idle": "2021-06-04T01:06:30.856256Z",
     "shell.execute_reply": "2021-06-04T01:06:30.855722Z"
    },
    "papermill": {
     "duration": 0.042058,
     "end_time": "2021-06-04T01:06:30.856373",
     "exception": false,
     "start_time": "2021-06-04T01:06:30.814315",
     "status": "completed"
    },
    "tags": []
   },
   "outputs": [],
   "source": [
    "# hide\n",
    "# g['date'] = g['date'].astype('datetime64[ns]')"
   ]
  },
  {
   "cell_type": "code",
   "execution_count": 34,
   "id": "sophisticated-supervisor",
   "metadata": {
    "execution": {
     "iopub.execute_input": "2021-06-04T01:06:30.933765Z",
     "iopub.status.busy": "2021-06-04T01:06:30.933167Z",
     "iopub.status.idle": "2021-06-04T01:06:30.934339Z",
     "shell.execute_reply": "2021-06-04T01:06:30.934898Z"
    },
    "papermill": {
     "duration": 0.042637,
     "end_time": "2021-06-04T01:06:30.935028",
     "exception": false,
     "start_time": "2021-06-04T01:06:30.892391",
     "status": "completed"
    },
    "tags": []
   },
   "outputs": [],
   "source": [
    "#hide\n",
    "# g['date'] = g.date.dt.dayofyear"
   ]
  },
  {
   "cell_type": "code",
   "execution_count": 35,
   "id": "inside-dubai",
   "metadata": {
    "execution": {
     "iopub.execute_input": "2021-06-04T01:06:31.012413Z",
     "iopub.status.busy": "2021-06-04T01:06:31.011314Z",
     "iopub.status.idle": "2021-06-04T01:06:31.013501Z",
     "shell.execute_reply": "2021-06-04T01:06:31.014262Z"
    },
    "papermill": {
     "duration": 0.043657,
     "end_time": "2021-06-04T01:06:31.014398",
     "exception": false,
     "start_time": "2021-06-04T01:06:30.970741",
     "status": "completed"
    },
    "tags": []
   },
   "outputs": [],
   "source": [
    "#hide\n",
    "# g = g.rename(columns= {'continent':'group','country':'name','cases':'value'})"
   ]
  },
  {
   "cell_type": "code",
   "execution_count": 36,
   "id": "fleet-motorcycle",
   "metadata": {
    "execution": {
     "iopub.execute_input": "2021-06-04T01:06:31.091806Z",
     "iopub.status.busy": "2021-06-04T01:06:31.091194Z",
     "iopub.status.idle": "2021-06-04T01:06:31.093630Z",
     "shell.execute_reply": "2021-06-04T01:06:31.094206Z"
    },
    "papermill": {
     "duration": 0.043383,
     "end_time": "2021-06-04T01:06:31.094349",
     "exception": false,
     "start_time": "2021-06-04T01:06:31.050966",
     "status": "completed"
    },
    "tags": []
   },
   "outputs": [],
   "source": [
    "#hide\n",
    "# cols = ['name','group','day','value']"
   ]
  },
  {
   "cell_type": "code",
   "execution_count": 37,
   "id": "continued-sleeping",
   "metadata": {
    "execution": {
     "iopub.execute_input": "2021-06-04T01:06:31.170555Z",
     "iopub.status.busy": "2021-06-04T01:06:31.169956Z",
     "iopub.status.idle": "2021-06-04T01:06:31.172257Z",
     "shell.execute_reply": "2021-06-04T01:06:31.172834Z"
    },
    "papermill": {
     "duration": 0.042697,
     "end_time": "2021-06-04T01:06:31.172971",
     "exception": false,
     "start_time": "2021-06-04T01:06:31.130274",
     "status": "completed"
    },
    "tags": []
   },
   "outputs": [],
   "source": [
    "#hide\n",
    "# g.rename(columns= {'date':'day'},inplace = True)"
   ]
  },
  {
   "cell_type": "code",
   "execution_count": 38,
   "id": "major-fight",
   "metadata": {
    "execution": {
     "iopub.execute_input": "2021-06-04T01:06:31.248669Z",
     "iopub.status.busy": "2021-06-04T01:06:31.248025Z",
     "iopub.status.idle": "2021-06-04T01:06:31.250804Z",
     "shell.execute_reply": "2021-06-04T01:06:31.250292Z"
    },
    "papermill": {
     "duration": 0.041941,
     "end_time": "2021-06-04T01:06:31.250922",
     "exception": false,
     "start_time": "2021-06-04T01:06:31.208981",
     "status": "completed"
    },
    "tags": []
   },
   "outputs": [],
   "source": [
    "#hide\n",
    "# g = g[cols]"
   ]
  },
  {
   "cell_type": "code",
   "execution_count": 39,
   "id": "structured-mobile",
   "metadata": {
    "execution": {
     "iopub.execute_input": "2021-06-04T01:06:31.325660Z",
     "iopub.status.busy": "2021-06-04T01:06:31.325022Z",
     "iopub.status.idle": "2021-06-04T01:06:31.329721Z",
     "shell.execute_reply": "2021-06-04T01:06:31.329208Z"
    },
    "papermill": {
     "duration": 0.043175,
     "end_time": "2021-06-04T01:06:31.329836",
     "exception": false,
     "start_time": "2021-06-04T01:06:31.286661",
     "status": "completed"
    },
    "tags": []
   },
   "outputs": [],
   "source": [
    "# #hide\n",
    "# g = g[g.group.notna()]"
   ]
  },
  {
   "cell_type": "code",
   "execution_count": 40,
   "id": "determined-closing",
   "metadata": {
    "execution": {
     "iopub.execute_input": "2021-06-04T01:06:31.406652Z",
     "iopub.status.busy": "2021-06-04T01:06:31.406052Z",
     "iopub.status.idle": "2021-06-04T01:06:31.408421Z",
     "shell.execute_reply": "2021-06-04T01:06:31.409000Z"
    },
    "papermill": {
     "duration": 0.043331,
     "end_time": "2021-06-04T01:06:31.409132",
     "exception": false,
     "start_time": "2021-06-04T01:06:31.365801",
     "status": "completed"
    },
    "tags": []
   },
   "outputs": [],
   "source": [
    "# #hide\n",
    "# colors = dict(zip(\n",
    "#     [\"Oceania\", \"Europe\", \"Asia\", \"South America\", \"Middle East\", \"North America\", \"Africa\"],\n",
    "#     [\"#adb0ff\", \"#ffb3ff\", \"#90d595\", \"#e48381\", \"#aafbff\", \"#f7bb5f\", \"#eafb50\"]\n",
    "# ))\n",
    "# group_lk = g.set_index('name')['group'].to_dict()"
   ]
  },
  {
   "cell_type": "code",
   "execution_count": null,
   "id": "gross-drinking",
   "metadata": {
    "papermill": {
     "duration": 0.035653,
     "end_time": "2021-06-04T01:06:31.480499",
     "exception": false,
     "start_time": "2021-06-04T01:06:31.444846",
     "status": "completed"
    },
    "tags": []
   },
   "outputs": [],
   "source": []
  },
  {
   "cell_type": "code",
   "execution_count": 41,
   "id": "subject-macintosh",
   "metadata": {
    "execution": {
     "iopub.execute_input": "2021-06-04T01:06:31.556847Z",
     "iopub.status.busy": "2021-06-04T01:06:31.556213Z",
     "iopub.status.idle": "2021-06-04T01:06:31.562889Z",
     "shell.execute_reply": "2021-06-04T01:06:31.563352Z"
    },
    "papermill": {
     "duration": 0.04697,
     "end_time": "2021-06-04T01:06:31.563493",
     "exception": false,
     "start_time": "2021-06-04T01:06:31.516523",
     "status": "completed"
    },
    "tags": []
   },
   "outputs": [],
   "source": [
    "# #hide\n",
    "# fig, ax = plt.subplots(figsize=(15, 8))\n",
    "\n",
    "# def draw_barchart(current_day):\n",
    "#     dff = g[g['day'].eq(current_day)].sort_values(by='value', ascending=True).tail(10)\n",
    "#     ax.clear()\n",
    "#     ax.barh(dff['name'], dff['value'], color=[colors[group_lk[x]] for x in dff['name']])\n",
    "#     dx = dff['value'].max() / 200\n",
    "    \n",
    "#     for i, (value, name) in enumerate(zip(dff['value'], dff['name'])):\n",
    "#         ax.text(value-dx, i,     name,           size=14, weight=600, ha='right', va='bottom')\n",
    "#         ax.text(value-dx, i-.25, group_lk[name], size=10, color='#444444', ha='right', va='baseline')\n",
    "#         ax.text(value+dx, i,     f'{value:,.0f}',  size=14, ha='left',  va='center')\n",
    "#     ax.text(1, 0.4, current_day, transform=ax.transAxes, color='#777777', size=46, ha='right', weight=800)\n",
    "#     ax.text(0, 1.06, 'Population (thousands)', transform=ax.transAxes, size=12, color='#777777')\n",
    "#     ax.xaxis.set_major_formatter(ticker.StrMethodFormatter('{x:,.0f}'))\n",
    "#     ax.xaxis.set_ticks_position('top')\n",
    "#     ax.tick_params(axis='x', colors='#777777', labelsize=12)\n",
    "#     ax.set_yticks([])\n",
    "#     ax.margins(0, 0.01)\n",
    "#     ax.grid(which='major', axis='x', linestyle='-')\n",
    "#     ax.set_axisbelow(True)\n",
    "    \n",
    "#     ax.text(0, 1.15, 'Coronavirus',\n",
    "#             transform=ax.transAxes, size=24, weight=600, ha='left', va='top')\n",
    "# #     ax.text(1, 0, 'by @pratapvardhan; credit @jburnmurdoch', transform=ax.transAxes, color='#777777', ha='right',\n",
    "# #             bbox=dict(facecolor='white', alpha=0.8, edgecolor='white'))\n",
    "#     plt.box(False)"
   ]
  },
  {
   "cell_type": "code",
   "execution_count": 42,
   "id": "sexual-wages",
   "metadata": {
    "execution": {
     "iopub.execute_input": "2021-06-04T01:06:31.640812Z",
     "iopub.status.busy": "2021-06-04T01:06:31.640196Z",
     "iopub.status.idle": "2021-06-04T01:06:31.642990Z",
     "shell.execute_reply": "2021-06-04T01:06:31.642478Z"
    },
    "papermill": {
     "duration": 0.04353,
     "end_time": "2021-06-04T01:06:31.643110",
     "exception": false,
     "start_time": "2021-06-04T01:06:31.599580",
     "status": "completed"
    },
    "tags": []
   },
   "outputs": [],
   "source": [
    "# #hide_input\n",
    "# fig, ax = plt.subplots(figsize=(15, 8))\n",
    "# animator = animation.FuncAnimation(fig, draw_barchart, frames=range(g.day.values.min(), g.day.values.max()))\n",
    "# HTML(animator.to_jshtml())\n",
    "# # or use animator.to_html5_video() or animator.save() "
   ]
  },
  {
   "cell_type": "code",
   "execution_count": null,
   "id": "australian-container",
   "metadata": {
    "papermill": {
     "duration": 0.036191,
     "end_time": "2021-06-04T01:06:31.715310",
     "exception": false,
     "start_time": "2021-06-04T01:06:31.679119",
     "status": "completed"
    },
    "tags": []
   },
   "outputs": [],
   "source": []
  },
  {
   "cell_type": "code",
   "execution_count": null,
   "id": "mediterranean-pontiac",
   "metadata": {
    "papermill": {
     "duration": 0.035863,
     "end_time": "2021-06-04T01:06:31.787023",
     "exception": false,
     "start_time": "2021-06-04T01:06:31.751160",
     "status": "completed"
    },
    "tags": []
   },
   "outputs": [],
   "source": []
  },
  {
   "cell_type": "code",
   "execution_count": null,
   "id": "aging-legislature",
   "metadata": {
    "papermill": {
     "duration": 0.03607,
     "end_time": "2021-06-04T01:06:31.859243",
     "exception": false,
     "start_time": "2021-06-04T01:06:31.823173",
     "status": "completed"
    },
    "tags": []
   },
   "outputs": [],
   "source": []
  }
 ],
 "metadata": {
  "kernelspec": {
   "display_name": "Python 3",
   "language": "python",
   "name": "python3"
  },
  "language_info": {
   "codemirror_mode": {
    "name": "ipython",
    "version": 3
   },
   "file_extension": ".py",
   "mimetype": "text/x-python",
   "name": "python",
   "nbconvert_exporter": "python",
   "pygments_lexer": "ipython3",
   "version": "3.6.13"
  },
  "papermill": {
   "duration": 7.378948,
   "end_time": "2021-06-04T01:06:33.050760",
   "environment_variables": {},
   "exception": null,
   "input_path": "2020-03-21-covid19exp.ipynb",
   "output_path": "2020-03-21-covid19exp.ipynb",
   "parameters": {},
   "start_time": "2021-06-04T01:06:25.671812",
   "version": "2.0.0"
  }
 },
 "nbformat": 4,
 "nbformat_minor": 5
}