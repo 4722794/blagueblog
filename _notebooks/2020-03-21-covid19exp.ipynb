{
 "cells": [
  {
   "cell_type": "markdown",
   "id": "muslim-click",
   "metadata": {
    "papermill": {
     "duration": 0.034143,
     "end_time": "2022-08-19T00:50:50.523798",
     "exception": false,
     "start_time": "2022-08-19T00:50:50.489655",
     "status": "completed"
    },
    "tags": []
   },
   "source": [
    "# COVID-19 Case Race\n",
    "> A race chart to see rising cases around the world\n",
    "\n",
    "- author: Hargun Oberoi\n",
    "- image: images/covid-overview.png\n",
    "- hide: false\n",
    "- badges: false"
   ]
  },
  {
   "cell_type": "code",
   "execution_count": 1,
   "id": "proof-material",
   "metadata": {
    "execution": {
     "iopub.execute_input": "2022-08-19T00:50:50.592497Z",
     "iopub.status.busy": "2022-08-19T00:50:50.591173Z",
     "iopub.status.idle": "2022-08-19T00:50:50.896191Z",
     "shell.execute_reply": "2022-08-19T00:50:50.895701Z"
    },
    "papermill": {
     "duration": 0.342432,
     "end_time": "2022-08-19T00:50:50.896321",
     "exception": false,
     "start_time": "2022-08-19T00:50:50.553889",
     "status": "completed"
    },
    "tags": []
   },
   "outputs": [],
   "source": [
    "#hide\n",
    "import numpy as np\n",
    "import pandas as pd\n",
    "from jinja2 import Template\n",
    "from IPython.display import HTML"
   ]
  },
  {
   "cell_type": "code",
   "execution_count": 2,
   "id": "developed-terminology",
   "metadata": {
    "execution": {
     "iopub.execute_input": "2022-08-19T00:50:50.959329Z",
     "iopub.status.busy": "2022-08-19T00:50:50.958760Z",
     "iopub.status.idle": "2022-08-19T00:50:50.961197Z",
     "shell.execute_reply": "2022-08-19T00:50:50.960686Z"
    },
    "papermill": {
     "duration": 0.035486,
     "end_time": "2022-08-19T00:50:50.961299",
     "exception": false,
     "start_time": "2022-08-19T00:50:50.925813",
     "status": "completed"
    },
    "tags": []
   },
   "outputs": [],
   "source": [
    "#hide\n",
    "\n",
    "# FETCH\n",
    "base_url = 'https://raw.githubusercontent.com/pratapvardhan/notebooks/master/covid19/'\n",
    "paths = {\n",
    "    'mapping': base_url + 'mapping_countries.csv',\n",
    "    'overview': base_url + 'overview.tpl'\n",
    "}"
   ]
  },
  {
   "cell_type": "code",
   "execution_count": 3,
   "id": "dynamic-saver",
   "metadata": {
    "execution": {
     "iopub.execute_input": "2022-08-19T00:50:51.027756Z",
     "iopub.status.busy": "2022-08-19T00:50:51.026985Z",
     "iopub.status.idle": "2022-08-19T00:50:51.030619Z",
     "shell.execute_reply": "2022-08-19T00:50:51.031029Z"
    },
    "papermill": {
     "duration": 0.040551,
     "end_time": "2022-08-19T00:50:51.031137",
     "exception": false,
     "start_time": "2022-08-19T00:50:50.990586",
     "status": "completed"
    },
    "tags": []
   },
   "outputs": [
    {
     "data": {
      "text/plain": [
       "'https://raw.githubusercontent.com/pratapvardhan/notebooks/master/covid19/mapping_countries.csv'"
      ]
     },
     "execution_count": 3,
     "metadata": {},
     "output_type": "execute_result"
    }
   ],
   "source": [
    "#hide\n",
    "paths['mapping']"
   ]
  },
  {
   "cell_type": "code",
   "execution_count": 4,
   "id": "urban-software",
   "metadata": {
    "execution": {
     "iopub.execute_input": "2022-08-19T00:50:51.094778Z",
     "iopub.status.busy": "2022-08-19T00:50:51.094196Z",
     "iopub.status.idle": "2022-08-19T00:50:51.096683Z",
     "shell.execute_reply": "2022-08-19T00:50:51.096232Z"
    },
    "papermill": {
     "duration": 0.03582,
     "end_time": "2022-08-19T00:50:51.096775",
     "exception": false,
     "start_time": "2022-08-19T00:50:51.060955",
     "status": "completed"
    },
    "tags": []
   },
   "outputs": [],
   "source": [
    "#hide\n",
    "def get_mappings(url):\n",
    "    df = pd.read_csv(url)\n",
    "    return {\n",
    "        'df': df,\n",
    "        'replace.country': dict(df.dropna(subset=['Name']).set_index('Country')['Name']),\n",
    "        'map.continent': dict(df.set_index('Name')['Continent'])\n",
    "    }"
   ]
  },
  {
   "cell_type": "code",
   "execution_count": 5,
   "id": "intimate-machinery",
   "metadata": {
    "execution": {
     "iopub.execute_input": "2022-08-19T00:50:51.160452Z",
     "iopub.status.busy": "2022-08-19T00:50:51.159884Z",
     "iopub.status.idle": "2022-08-19T00:50:51.197691Z",
     "shell.execute_reply": "2022-08-19T00:50:51.197231Z"
    },
    "papermill": {
     "duration": 0.071255,
     "end_time": "2022-08-19T00:50:51.197786",
     "exception": false,
     "start_time": "2022-08-19T00:50:51.126531",
     "status": "completed"
    },
    "tags": []
   },
   "outputs": [],
   "source": [
    "#hide\n",
    "mapping = get_mappings(paths['mapping'])"
   ]
  },
  {
   "cell_type": "code",
   "execution_count": 6,
   "id": "certified-tactics",
   "metadata": {
    "execution": {
     "iopub.execute_input": "2022-08-19T00:50:51.261612Z",
     "iopub.status.busy": "2022-08-19T00:50:51.261012Z",
     "iopub.status.idle": "2022-08-19T00:50:51.263474Z",
     "shell.execute_reply": "2022-08-19T00:50:51.263027Z"
    },
    "papermill": {
     "duration": 0.036121,
     "end_time": "2022-08-19T00:50:51.263568",
     "exception": false,
     "start_time": "2022-08-19T00:50:51.227447",
     "status": "completed"
    },
    "tags": []
   },
   "outputs": [],
   "source": [
    "#hide\n",
    "def get_template(path):\n",
    "    from urllib.parse import urlparse\n",
    "    if bool(urlparse(path).netloc):\n",
    "        from urllib.request import urlopen\n",
    "        return urlopen(path).read().decode('utf8')\n",
    "    return open(path).read()"
   ]
  },
  {
   "cell_type": "code",
   "execution_count": 7,
   "id": "realistic-blast",
   "metadata": {
    "execution": {
     "iopub.execute_input": "2022-08-19T00:50:51.326698Z",
     "iopub.status.busy": "2022-08-19T00:50:51.326126Z",
     "iopub.status.idle": "2022-08-19T00:50:51.328875Z",
     "shell.execute_reply": "2022-08-19T00:50:51.328398Z"
    },
    "papermill": {
     "duration": 0.035965,
     "end_time": "2022-08-19T00:50:51.328971",
     "exception": false,
     "start_time": "2022-08-19T00:50:51.293006",
     "status": "completed"
    },
    "tags": []
   },
   "outputs": [],
   "source": [
    "#hide\n",
    "def get_frame(name):\n",
    "    url = (\n",
    "        'https://raw.githubusercontent.com/CSSEGISandData/COVID-19/master/csse_covid_19_data/'\n",
    "        f'csse_covid_19_time_series/time_series_covid19_{name}_global.csv')\n",
    "    df = pd.read_csv(url)\n",
    "    # rename countries\n",
    "    df['Country/Region'] = df['Country/Region'].replace(mapping['replace.country'])\n",
    "    return df"
   ]
  },
  {
   "cell_type": "code",
   "execution_count": 8,
   "id": "affiliated-characterization",
   "metadata": {
    "execution": {
     "iopub.execute_input": "2022-08-19T00:50:51.392724Z",
     "iopub.status.busy": "2022-08-19T00:50:51.392173Z",
     "iopub.status.idle": "2022-08-19T00:50:51.394420Z",
     "shell.execute_reply": "2022-08-19T00:50:51.394872Z"
    },
    "papermill": {
     "duration": 0.03645,
     "end_time": "2022-08-19T00:50:51.394978",
     "exception": false,
     "start_time": "2022-08-19T00:50:51.358528",
     "status": "completed"
    },
    "tags": []
   },
   "outputs": [],
   "source": [
    "#hide\n",
    "def get_dates(df):\n",
    "    dt_cols = df.columns[~df.columns.isin(['Province/State', 'Country/Region', 'Lat', 'Long'])]\n",
    "    LAST_DATE_I = -1\n",
    "    # sometimes last column may be empty, then go backwards\n",
    "    for i in range(-1, -len(dt_cols), -1):\n",
    "        if not df[dt_cols[i]].fillna(0).eq(0).all():\n",
    "            LAST_DATE_I = i\n",
    "            break\n",
    "    return LAST_DATE_I, dt_cols"
   ]
  },
  {
   "cell_type": "code",
   "execution_count": 9,
   "id": "recent-optimization",
   "metadata": {
    "execution": {
     "iopub.execute_input": "2022-08-19T00:50:51.457873Z",
     "iopub.status.busy": "2022-08-19T00:50:51.457305Z",
     "iopub.status.idle": "2022-08-19T00:50:51.910392Z",
     "shell.execute_reply": "2022-08-19T00:50:51.910834Z"
    },
    "papermill": {
     "duration": 0.486687,
     "end_time": "2022-08-19T00:50:51.910969",
     "exception": false,
     "start_time": "2022-08-19T00:50:51.424282",
     "status": "completed"
    },
    "tags": []
   },
   "outputs": [],
   "source": [
    "#hide\n",
    "COL_REGION = 'Country/Region'\n",
    "# Confirmed, Recovered, Deaths\n",
    "df = get_frame('confirmed')\n",
    "# dft_: timeseries, dfc_: today country agg\n",
    "dft_cases = df\n",
    "dft_deaths = get_frame('deaths')\n",
    "dft_recovered = get_frame('recovered')\n",
    "LAST_DATE_I, dt_cols = get_dates(df)"
   ]
  },
  {
   "cell_type": "code",
   "execution_count": 10,
   "id": "absolute-copper",
   "metadata": {
    "execution": {
     "iopub.execute_input": "2022-08-19T00:50:51.975259Z",
     "iopub.status.busy": "2022-08-19T00:50:51.974699Z",
     "iopub.status.idle": "2022-08-19T00:50:51.976658Z",
     "shell.execute_reply": "2022-08-19T00:50:51.977074Z"
    },
    "papermill": {
     "duration": 0.03634,
     "end_time": "2022-08-19T00:50:51.977203",
     "exception": false,
     "start_time": "2022-08-19T00:50:51.940863",
     "status": "completed"
    },
    "tags": []
   },
   "outputs": [],
   "source": [
    "#hide\n",
    "LAST_DATE_I, dt_cols = get_dates(df)\n",
    "dt_today =dt_cols[LAST_DATE_I]\n",
    "# dt_5day = dt_cols[LAST_DATE_I - 5]\n",
    "dt_yday = dt_cols[LAST_DATE_I - 1]"
   ]
  },
  {
   "cell_type": "code",
   "execution_count": 11,
   "id": "restricted-sheriff",
   "metadata": {
    "execution": {
     "iopub.execute_input": "2022-08-19T00:50:52.041228Z",
     "iopub.status.busy": "2022-08-19T00:50:52.040647Z",
     "iopub.status.idle": "2022-08-19T00:50:52.047524Z",
     "shell.execute_reply": "2022-08-19T00:50:52.047081Z"
    },
    "papermill": {
     "duration": 0.041054,
     "end_time": "2022-08-19T00:50:52.047617",
     "exception": false,
     "start_time": "2022-08-19T00:50:52.006563",
     "status": "completed"
    },
    "tags": []
   },
   "outputs": [],
   "source": [
    "#hide\n",
    "dfc_cases = dft_cases.groupby(COL_REGION)[dt_today].sum()\n",
    "dfc_deaths = dft_deaths.groupby(COL_REGION)[dt_today].sum()\n",
    "# dfp_cases = dft_cases.groupby(COL_REGION)[dt_5day].sum()\n",
    "# dfp_deaths = dft_deaths.groupby(COL_REGION)[dt_5day].sum()\n",
    "dfp_cases = dft_cases.groupby(COL_REGION)[dt_yday].sum()\n",
    "dfp_deaths = dft_deaths.groupby(COL_REGION)[dt_yday].sum()"
   ]
  },
  {
   "cell_type": "code",
   "execution_count": 12,
   "id": "deluxe-hepatitis",
   "metadata": {
    "execution": {
     "iopub.execute_input": "2022-08-19T00:50:52.112392Z",
     "iopub.status.busy": "2022-08-19T00:50:52.111830Z",
     "iopub.status.idle": "2022-08-19T00:50:52.115946Z",
     "shell.execute_reply": "2022-08-19T00:50:52.116450Z"
    },
    "papermill": {
     "duration": 0.039171,
     "end_time": "2022-08-19T00:50:52.116561",
     "exception": false,
     "start_time": "2022-08-19T00:50:52.077390",
     "status": "completed"
    },
    "tags": []
   },
   "outputs": [],
   "source": [
    "#hide\n",
    "df_table = (pd.DataFrame(dict(Cases = dfc_cases, Deaths = dfc_deaths, PCases = dfp_cases, PDeaths = dfp_deaths))\n",
    "            .sort_values(by = ['Cases','Deaths'], ascending = [False, False])\n",
    "            .reset_index())"
   ]
  },
  {
   "cell_type": "code",
   "execution_count": 13,
   "id": "educational-chancellor",
   "metadata": {
    "execution": {
     "iopub.execute_input": "2022-08-19T00:50:52.191163Z",
     "iopub.status.busy": "2022-08-19T00:50:52.190600Z",
     "iopub.status.idle": "2022-08-19T00:50:52.198842Z",
     "shell.execute_reply": "2022-08-19T00:50:52.198389Z"
    },
    "papermill": {
     "duration": 0.052863,
     "end_time": "2022-08-19T00:50:52.198943",
     "exception": false,
     "start_time": "2022-08-19T00:50:52.146080",
     "status": "completed"
    },
    "tags": []
   },
   "outputs": [
    {
     "data": {
      "text/html": [
       "<div>\n",
       "<style scoped>\n",
       "    .dataframe tbody tr th:only-of-type {\n",
       "        vertical-align: middle;\n",
       "    }\n",
       "\n",
       "    .dataframe tbody tr th {\n",
       "        vertical-align: top;\n",
       "    }\n",
       "\n",
       "    .dataframe thead th {\n",
       "        text-align: right;\n",
       "    }\n",
       "</style>\n",
       "<table border=\"1\" class=\"dataframe\">\n",
       "  <thead>\n",
       "    <tr style=\"text-align: right;\">\n",
       "      <th></th>\n",
       "      <th>Country/Region</th>\n",
       "      <th>Cases</th>\n",
       "      <th>Deaths</th>\n",
       "      <th>PCases</th>\n",
       "      <th>PDeaths</th>\n",
       "      <th>Cases (+)</th>\n",
       "      <th>Deaths (+)</th>\n",
       "      <th>Fatality Rate</th>\n",
       "      <th>Continent</th>\n",
       "    </tr>\n",
       "  </thead>\n",
       "  <tbody>\n",
       "    <tr>\n",
       "      <th>0</th>\n",
       "      <td>US</td>\n",
       "      <td>93277721</td>\n",
       "      <td>1039026</td>\n",
       "      <td>93139632</td>\n",
       "      <td>1037933</td>\n",
       "      <td>138089</td>\n",
       "      <td>1093</td>\n",
       "      <td>1.11</td>\n",
       "      <td>North America</td>\n",
       "    </tr>\n",
       "    <tr>\n",
       "      <th>1</th>\n",
       "      <td>India</td>\n",
       "      <td>44298864</td>\n",
       "      <td>527206</td>\n",
       "      <td>44286256</td>\n",
       "      <td>527134</td>\n",
       "      <td>12608</td>\n",
       "      <td>72</td>\n",
       "      <td>1.19</td>\n",
       "      <td>Asia</td>\n",
       "    </tr>\n",
       "    <tr>\n",
       "      <th>2</th>\n",
       "      <td>France</td>\n",
       "      <td>34491381</td>\n",
       "      <td>154375</td>\n",
       "      <td>34455445</td>\n",
       "      <td>154282</td>\n",
       "      <td>35936</td>\n",
       "      <td>93</td>\n",
       "      <td>0.45</td>\n",
       "      <td>Europe</td>\n",
       "    </tr>\n",
       "    <tr>\n",
       "      <th>3</th>\n",
       "      <td>Brazil</td>\n",
       "      <td>34223207</td>\n",
       "      <td>682010</td>\n",
       "      <td>34201280</td>\n",
       "      <td>681763</td>\n",
       "      <td>21927</td>\n",
       "      <td>247</td>\n",
       "      <td>1.99</td>\n",
       "      <td>South America</td>\n",
       "    </tr>\n",
       "    <tr>\n",
       "      <th>4</th>\n",
       "      <td>Germany</td>\n",
       "      <td>31725160</td>\n",
       "      <td>146214</td>\n",
       "      <td>31666475</td>\n",
       "      <td>146030</td>\n",
       "      <td>58685</td>\n",
       "      <td>184</td>\n",
       "      <td>0.46</td>\n",
       "      <td>Europe</td>\n",
       "    </tr>\n",
       "  </tbody>\n",
       "</table>\n",
       "</div>"
      ],
      "text/plain": [
       "  Country/Region     Cases   Deaths    PCases  PDeaths  Cases (+)  Deaths (+)  \\\n",
       "0             US  93277721  1039026  93139632  1037933     138089        1093   \n",
       "1          India  44298864   527206  44286256   527134      12608          72   \n",
       "2         France  34491381   154375  34455445   154282      35936          93   \n",
       "3         Brazil  34223207   682010  34201280   681763      21927         247   \n",
       "4        Germany  31725160   146214  31666475   146030      58685         184   \n",
       "\n",
       "   Fatality Rate      Continent  \n",
       "0           1.11  North America  \n",
       "1           1.19           Asia  \n",
       "2           0.45         Europe  \n",
       "3           1.99  South America  \n",
       "4           0.46         Europe  "
      ]
     },
     "execution_count": 13,
     "metadata": {},
     "output_type": "execute_result"
    }
   ],
   "source": [
    "#hide\n",
    "for c in 'Cases, Deaths'.split(', '):\n",
    "    df_table[f'{c} (+)'] = (df_table[c] - df_table[f'P{c}']).clip(0)\n",
    "    #Clip ça veut dire, les chiffres negatif sont interdit\n",
    "df_table['Fatality Rate'] = (100* df_table['Deaths']/ df_table['Cases']).round(2)\n",
    "df_table['Continent'] = df_table['Country/Region'].map(mapping['map.continent'])\n",
    "df_table.head(5)"
   ]
  },
  {
   "cell_type": "code",
   "execution_count": 14,
   "id": "aboriginal-bulgaria",
   "metadata": {
    "execution": {
     "iopub.execute_input": "2022-08-19T00:50:52.264145Z",
     "iopub.status.busy": "2022-08-19T00:50:52.263579Z",
     "iopub.status.idle": "2022-08-19T00:50:52.266044Z",
     "shell.execute_reply": "2022-08-19T00:50:52.265608Z"
    },
    "papermill": {
     "duration": 0.036804,
     "end_time": "2022-08-19T00:50:52.266138",
     "exception": false,
     "start_time": "2022-08-19T00:50:52.229334",
     "status": "completed"
    },
    "tags": []
   },
   "outputs": [],
   "source": [
    "#hide\n",
    "#delete problematic countries from table\n",
    "df_table = df_table[~df_table['Country/Region'].isin(['Cape Verde', 'Cruise Ship', 'Kosovo'])]"
   ]
  },
  {
   "cell_type": "code",
   "execution_count": 15,
   "id": "fantastic-effect",
   "metadata": {
    "execution": {
     "iopub.execute_input": "2022-08-19T00:50:52.332758Z",
     "iopub.status.busy": "2022-08-19T00:50:52.332197Z",
     "iopub.status.idle": "2022-08-19T00:50:52.348485Z",
     "shell.execute_reply": "2022-08-19T00:50:52.348936Z"
    },
    "papermill": {
     "duration": 0.053047,
     "end_time": "2022-08-19T00:50:52.349044",
     "exception": false,
     "start_time": "2022-08-19T00:50:52.295997",
     "status": "completed"
    },
    "tags": []
   },
   "outputs": [
    {
     "data": {
      "text/html": [
       "<div>\n",
       "<style scoped>\n",
       "    .dataframe tbody tr th:only-of-type {\n",
       "        vertical-align: middle;\n",
       "    }\n",
       "\n",
       "    .dataframe tbody tr th {\n",
       "        vertical-align: top;\n",
       "    }\n",
       "\n",
       "    .dataframe thead th {\n",
       "        text-align: right;\n",
       "    }\n",
       "</style>\n",
       "<table border=\"1\" class=\"dataframe\">\n",
       "  <thead>\n",
       "    <tr style=\"text-align: right;\">\n",
       "      <th></th>\n",
       "      <th>Country/Region</th>\n",
       "      <th>Cases</th>\n",
       "      <th>Deaths</th>\n",
       "      <th>PCases</th>\n",
       "      <th>PDeaths</th>\n",
       "      <th>Cases (+)</th>\n",
       "      <th>Deaths (+)</th>\n",
       "      <th>Fatality Rate</th>\n",
       "      <th>Continent</th>\n",
       "    </tr>\n",
       "  </thead>\n",
       "  <tbody>\n",
       "    <tr>\n",
       "      <th>0</th>\n",
       "      <td>US</td>\n",
       "      <td>93277721</td>\n",
       "      <td>1039026</td>\n",
       "      <td>93139632</td>\n",
       "      <td>1037933</td>\n",
       "      <td>138089</td>\n",
       "      <td>1093</td>\n",
       "      <td>1.1</td>\n",
       "      <td>North America</td>\n",
       "    </tr>\n",
       "    <tr>\n",
       "      <th>1</th>\n",
       "      <td>India</td>\n",
       "      <td>44298864</td>\n",
       "      <td>527206</td>\n",
       "      <td>44286256</td>\n",
       "      <td>527134</td>\n",
       "      <td>12608</td>\n",
       "      <td>72</td>\n",
       "      <td>1.2</td>\n",
       "      <td>Asia</td>\n",
       "    </tr>\n",
       "    <tr>\n",
       "      <th>2</th>\n",
       "      <td>France</td>\n",
       "      <td>34491381</td>\n",
       "      <td>154375</td>\n",
       "      <td>34455445</td>\n",
       "      <td>154282</td>\n",
       "      <td>35936</td>\n",
       "      <td>93</td>\n",
       "      <td>0.4</td>\n",
       "      <td>Europe</td>\n",
       "    </tr>\n",
       "    <tr>\n",
       "      <th>3</th>\n",
       "      <td>Brazil</td>\n",
       "      <td>34223207</td>\n",
       "      <td>682010</td>\n",
       "      <td>34201280</td>\n",
       "      <td>681763</td>\n",
       "      <td>21927</td>\n",
       "      <td>247</td>\n",
       "      <td>2.0</td>\n",
       "      <td>South America</td>\n",
       "    </tr>\n",
       "    <tr>\n",
       "      <th>4</th>\n",
       "      <td>Germany</td>\n",
       "      <td>31725160</td>\n",
       "      <td>146214</td>\n",
       "      <td>31666475</td>\n",
       "      <td>146030</td>\n",
       "      <td>58685</td>\n",
       "      <td>184</td>\n",
       "      <td>0.5</td>\n",
       "      <td>Europe</td>\n",
       "    </tr>\n",
       "  </tbody>\n",
       "</table>\n",
       "</div>"
      ],
      "text/plain": [
       "  Country/Region     Cases   Deaths    PCases  PDeaths  Cases (+)  Deaths (+)  \\\n",
       "0             US  93277721  1039026  93139632  1037933     138089        1093   \n",
       "1          India  44298864   527206  44286256   527134      12608          72   \n",
       "2         France  34491381   154375  34455445   154282      35936          93   \n",
       "3         Brazil  34223207   682010  34201280   681763      21927         247   \n",
       "4        Germany  31725160   146214  31666475   146030      58685         184   \n",
       "\n",
       "   Fatality Rate      Continent  \n",
       "0            1.1  North America  \n",
       "1            1.2           Asia  \n",
       "2            0.4         Europe  \n",
       "3            2.0  South America  \n",
       "4            0.5         Europe  "
      ]
     },
     "execution_count": 15,
     "metadata": {},
     "output_type": "execute_result"
    }
   ],
   "source": [
    "#hide\n",
    "df_table = (pd.DataFrame(dict(Cases=dfc_cases, Deaths=dfc_deaths, PCases=dfp_cases, PDeaths=dfp_deaths))\n",
    "             .sort_values(by=['Cases', 'Deaths'], ascending=[False, False])\n",
    "             .reset_index())\n",
    "df_table.rename(columns={'index': 'Country/Region'}, inplace=True)\n",
    "for c in 'Cases, Deaths'.split(', '):\n",
    "    df_table[f'{c} (+)'] = (df_table[c] - df_table[f'P{c}']).clip(0)  # DATA BUG\n",
    "df_table['Fatality Rate'] = (100 * df_table['Deaths'] / df_table['Cases']).round(1)\n",
    "df_table['Continent'] = df_table['Country/Region'].map(mapping['map.continent'])\n",
    "df_table.head(5)"
   ]
  },
  {
   "cell_type": "code",
   "execution_count": 16,
   "id": "fewer-occasion",
   "metadata": {
    "execution": {
     "iopub.execute_input": "2022-08-19T00:50:52.415135Z",
     "iopub.status.busy": "2022-08-19T00:50:52.414562Z",
     "iopub.status.idle": "2022-08-19T00:50:52.416929Z",
     "shell.execute_reply": "2022-08-19T00:50:52.416394Z"
    },
    "papermill": {
     "duration": 0.037553,
     "end_time": "2022-08-19T00:50:52.417024",
     "exception": false,
     "start_time": "2022-08-19T00:50:52.379471",
     "status": "completed"
    },
    "tags": []
   },
   "outputs": [],
   "source": [
    "#hide\n",
    "#delete problematic countries from table\n",
    "df_table = df_table[~df_table['Country/Region'].isin(['Cape Verde', 'Cruise Ship', 'Kosovo'])]"
   ]
  },
  {
   "cell_type": "code",
   "execution_count": 17,
   "id": "related-center",
   "metadata": {
    "execution": {
     "iopub.execute_input": "2022-08-19T00:50:52.493642Z",
     "iopub.status.busy": "2022-08-19T00:50:52.493058Z",
     "iopub.status.idle": "2022-08-19T00:50:52.495192Z",
     "shell.execute_reply": "2022-08-19T00:50:52.495614Z"
    },
    "papermill": {
     "duration": 0.048356,
     "end_time": "2022-08-19T00:50:52.495720",
     "exception": false,
     "start_time": "2022-08-19T00:50:52.447364",
     "status": "completed"
    },
    "tags": []
   },
   "outputs": [],
   "source": [
    "#hide\n",
    "metrics = [df_table.columns[index] for index in [1,2,5,6]]\n",
    "# s_china = df_table[df_table['Country/Region'].eq('China')][metrics].sum().add_prefix('China ')\n",
    "s_us = df_table[df_table['Country/Region'].eq('US')][metrics].sum().add_prefix('US ')\n",
    "s_eu = df_table[df_table['Continent'].eq('Europe')][metrics].sum().add_prefix('EU ')\n",
    "s_ind = df_table[df_table['Country/Region'].eq('India')][metrics].sum().add_prefix('India ')\n",
    "summary = {'updated': pd.to_datetime(dt_today), 'since': pd.to_datetime(dt_yday)}\n",
    "summary = {'updated': pd.to_datetime(dt_today), 'since': pd.to_datetime(dt_yday)}\n",
    "summary = {**summary, **df_table[metrics].sum(), **s_ind, **s_us, **s_eu}"
   ]
  },
  {
   "cell_type": "code",
   "execution_count": 18,
   "id": "engaging-syndrome",
   "metadata": {
    "execution": {
     "iopub.execute_input": "2022-08-19T00:50:52.561047Z",
     "iopub.status.busy": "2022-08-19T00:50:52.560497Z",
     "iopub.status.idle": "2022-08-19T00:50:52.578805Z",
     "shell.execute_reply": "2022-08-19T00:50:52.578368Z"
    },
    "papermill": {
     "duration": 0.052616,
     "end_time": "2022-08-19T00:50:52.578903",
     "exception": false,
     "start_time": "2022-08-19T00:50:52.526287",
     "status": "completed"
    },
    "tags": []
   },
   "outputs": [],
   "source": [
    "#hide\n",
    "dft_ct_new_cases = dft_cases.groupby(COL_REGION)[dt_cols].sum().diff(axis=1).fillna(0).astype(int)"
   ]
  },
  {
   "cell_type": "code",
   "execution_count": 19,
   "id": "neutral-assignment",
   "metadata": {
    "execution": {
     "iopub.execute_input": "2022-08-19T00:50:52.643285Z",
     "iopub.status.busy": "2022-08-19T00:50:52.642720Z",
     "iopub.status.idle": "2022-08-19T00:50:52.646766Z",
     "shell.execute_reply": "2022-08-19T00:50:52.646320Z"
    },
    "papermill": {
     "duration": 0.037482,
     "end_time": "2022-08-19T00:50:52.646863",
     "exception": false,
     "start_time": "2022-08-19T00:50:52.609381",
     "status": "completed"
    },
    "tags": []
   },
   "outputs": [],
   "source": [
    "#hide\n",
    "everydaycases = dft_ct_new_cases.cumsum(axis=1)"
   ]
  },
  {
   "cell_type": "code",
   "execution_count": 20,
   "id": "parliamentary-calgary",
   "metadata": {
    "execution": {
     "iopub.execute_input": "2022-08-19T00:50:52.712259Z",
     "iopub.status.busy": "2022-08-19T00:50:52.711696Z",
     "iopub.status.idle": "2022-08-19T00:50:53.244359Z",
     "shell.execute_reply": "2022-08-19T00:50:53.243880Z"
    },
    "papermill": {
     "duration": 0.567,
     "end_time": "2022-08-19T00:50:53.244471",
     "exception": false,
     "start_time": "2022-08-19T00:50:52.677471",
     "status": "completed"
    },
    "tags": []
   },
   "outputs": [],
   "source": [
    "#hide\n",
    "import pandas as pd\n",
    "import matplotlib.pyplot as plt\n",
    "import matplotlib.ticker as ticker\n",
    "import matplotlib.animation as animation\n",
    "from IPython.display import HTML"
   ]
  },
  {
   "cell_type": "code",
   "execution_count": 21,
   "id": "lasting-extraction",
   "metadata": {
    "execution": {
     "iopub.execute_input": "2022-08-19T00:50:53.311355Z",
     "iopub.status.busy": "2022-08-19T00:50:53.310794Z",
     "iopub.status.idle": "2022-08-19T00:50:53.317475Z",
     "shell.execute_reply": "2022-08-19T00:50:53.317002Z"
    },
    "papermill": {
     "duration": 0.04248,
     "end_time": "2022-08-19T00:50:53.317571",
     "exception": false,
     "start_time": "2022-08-19T00:50:53.275091",
     "status": "completed"
    },
    "tags": []
   },
   "outputs": [],
   "source": [
    "#hide\n",
    "t = everydaycases.stack()"
   ]
  },
  {
   "cell_type": "code",
   "execution_count": 22,
   "id": "premier-sleeve",
   "metadata": {
    "execution": {
     "iopub.execute_input": "2022-08-19T00:50:53.382217Z",
     "iopub.status.busy": "2022-08-19T00:50:53.381670Z",
     "iopub.status.idle": "2022-08-19T00:50:53.392075Z",
     "shell.execute_reply": "2022-08-19T00:50:53.392587Z"
    },
    "papermill": {
     "duration": 0.044586,
     "end_time": "2022-08-19T00:50:53.392694",
     "exception": false,
     "start_time": "2022-08-19T00:50:53.348108",
     "status": "completed"
    },
    "tags": []
   },
   "outputs": [],
   "source": [
    "#hide\n",
    "g = t.reset_index(['Country/Region'])"
   ]
  },
  {
   "cell_type": "code",
   "execution_count": 23,
   "id": "distributed-pittsburgh",
   "metadata": {
    "execution": {
     "iopub.execute_input": "2022-08-19T00:50:53.456667Z",
     "iopub.status.busy": "2022-08-19T00:50:53.456102Z",
     "iopub.status.idle": "2022-08-19T00:50:53.458127Z",
     "shell.execute_reply": "2022-08-19T00:50:53.458536Z"
    },
    "papermill": {
     "duration": 0.035728,
     "end_time": "2022-08-19T00:50:53.458649",
     "exception": false,
     "start_time": "2022-08-19T00:50:53.422921",
     "status": "completed"
    },
    "tags": []
   },
   "outputs": [],
   "source": [
    "#hide\n",
    "g.index.name = 'date'"
   ]
  },
  {
   "cell_type": "code",
   "execution_count": 24,
   "id": "naked-donor",
   "metadata": {
    "execution": {
     "iopub.execute_input": "2022-08-19T00:50:53.522556Z",
     "iopub.status.busy": "2022-08-19T00:50:53.521988Z",
     "iopub.status.idle": "2022-08-19T00:50:53.524369Z",
     "shell.execute_reply": "2022-08-19T00:50:53.523849Z"
    },
    "papermill": {
     "duration": 0.035353,
     "end_time": "2022-08-19T00:50:53.524461",
     "exception": false,
     "start_time": "2022-08-19T00:50:53.489108",
     "status": "completed"
    },
    "tags": []
   },
   "outputs": [],
   "source": [
    "# #hide\n",
    "# g = g.reset_index(['date'])"
   ]
  },
  {
   "cell_type": "code",
   "execution_count": 25,
   "id": "incomplete-mustang",
   "metadata": {
    "execution": {
     "iopub.execute_input": "2022-08-19T00:50:53.588630Z",
     "iopub.status.busy": "2022-08-19T00:50:53.588066Z",
     "iopub.status.idle": "2022-08-19T00:50:53.590540Z",
     "shell.execute_reply": "2022-08-19T00:50:53.590104Z"
    },
    "papermill": {
     "duration": 0.035701,
     "end_time": "2022-08-19T00:50:53.590632",
     "exception": false,
     "start_time": "2022-08-19T00:50:53.554931",
     "status": "completed"
    },
    "tags": []
   },
   "outputs": [],
   "source": [
    "#hide\n",
    "# g.head()"
   ]
  },
  {
   "cell_type": "code",
   "execution_count": 26,
   "id": "specific-kruger",
   "metadata": {
    "execution": {
     "iopub.execute_input": "2022-08-19T00:50:53.654886Z",
     "iopub.status.busy": "2022-08-19T00:50:53.654322Z",
     "iopub.status.idle": "2022-08-19T00:50:53.656772Z",
     "shell.execute_reply": "2022-08-19T00:50:53.656337Z"
    },
    "papermill": {
     "duration": 0.03554,
     "end_time": "2022-08-19T00:50:53.656864",
     "exception": false,
     "start_time": "2022-08-19T00:50:53.621324",
     "status": "completed"
    },
    "tags": []
   },
   "outputs": [],
   "source": [
    "#hide\n",
    "# g.columns = ['date','country','cases']"
   ]
  },
  {
   "cell_type": "code",
   "execution_count": 27,
   "id": "tender-conversion",
   "metadata": {
    "execution": {
     "iopub.execute_input": "2022-08-19T00:50:53.720558Z",
     "iopub.status.busy": "2022-08-19T00:50:53.719994Z",
     "iopub.status.idle": "2022-08-19T00:50:53.722009Z",
     "shell.execute_reply": "2022-08-19T00:50:53.722424Z"
    },
    "papermill": {
     "duration": 0.035485,
     "end_time": "2022-08-19T00:50:53.722530",
     "exception": false,
     "start_time": "2022-08-19T00:50:53.687045",
     "status": "completed"
    },
    "tags": []
   },
   "outputs": [],
   "source": [
    "#hide\n",
    "# g['continent'] = g.country"
   ]
  },
  {
   "cell_type": "code",
   "execution_count": 28,
   "id": "substantial-wilderness",
   "metadata": {
    "execution": {
     "iopub.execute_input": "2022-08-19T00:50:53.787299Z",
     "iopub.status.busy": "2022-08-19T00:50:53.786727Z",
     "iopub.status.idle": "2022-08-19T00:50:53.789153Z",
     "shell.execute_reply": "2022-08-19T00:50:53.788714Z"
    },
    "papermill": {
     "duration": 0.03611,
     "end_time": "2022-08-19T00:50:53.789263",
     "exception": false,
     "start_time": "2022-08-19T00:50:53.753153",
     "status": "completed"
    },
    "tags": []
   },
   "outputs": [],
   "source": [
    "#hide\n",
    "# cols = list(g.columns.values)"
   ]
  },
  {
   "cell_type": "code",
   "execution_count": 29,
   "id": "solved-farming",
   "metadata": {
    "execution": {
     "iopub.execute_input": "2022-08-19T00:50:53.853667Z",
     "iopub.status.busy": "2022-08-19T00:50:53.853086Z",
     "iopub.status.idle": "2022-08-19T00:50:53.854976Z",
     "shell.execute_reply": "2022-08-19T00:50:53.855406Z"
    },
    "papermill": {
     "duration": 0.035839,
     "end_time": "2022-08-19T00:50:53.855518",
     "exception": false,
     "start_time": "2022-08-19T00:50:53.819679",
     "status": "completed"
    },
    "tags": []
   },
   "outputs": [],
   "source": [
    "#hide\n",
    "# cols.insert(0, cols.pop())"
   ]
  },
  {
   "cell_type": "code",
   "execution_count": 30,
   "id": "executed-adoption",
   "metadata": {
    "execution": {
     "iopub.execute_input": "2022-08-19T00:50:53.920174Z",
     "iopub.status.busy": "2022-08-19T00:50:53.919610Z",
     "iopub.status.idle": "2022-08-19T00:50:53.922008Z",
     "shell.execute_reply": "2022-08-19T00:50:53.921482Z"
    },
    "papermill": {
     "duration": 0.036014,
     "end_time": "2022-08-19T00:50:53.922105",
     "exception": false,
     "start_time": "2022-08-19T00:50:53.886091",
     "status": "completed"
    },
    "tags": []
   },
   "outputs": [],
   "source": [
    "#hide\n",
    "# g = g[cols]"
   ]
  },
  {
   "cell_type": "code",
   "execution_count": 31,
   "id": "subject-dublin",
   "metadata": {
    "execution": {
     "iopub.execute_input": "2022-08-19T00:50:53.986094Z",
     "iopub.status.busy": "2022-08-19T00:50:53.985537Z",
     "iopub.status.idle": "2022-08-19T00:50:53.987861Z",
     "shell.execute_reply": "2022-08-19T00:50:53.987426Z"
    },
    "papermill": {
     "duration": 0.035494,
     "end_time": "2022-08-19T00:50:53.987953",
     "exception": false,
     "start_time": "2022-08-19T00:50:53.952459",
     "status": "completed"
    },
    "tags": []
   },
   "outputs": [],
   "source": [
    "#hide\n",
    "# g['continent'] = g['continent'].map(mapping['map.continent'])"
   ]
  },
  {
   "cell_type": "code",
   "execution_count": 32,
   "id": "freelance-scout",
   "metadata": {
    "execution": {
     "iopub.execute_input": "2022-08-19T00:50:54.052825Z",
     "iopub.status.busy": "2022-08-19T00:50:54.052263Z",
     "iopub.status.idle": "2022-08-19T00:50:54.054394Z",
     "shell.execute_reply": "2022-08-19T00:50:54.054833Z"
    },
    "papermill": {
     "duration": 0.036535,
     "end_time": "2022-08-19T00:50:54.054948",
     "exception": false,
     "start_time": "2022-08-19T00:50:54.018413",
     "status": "completed"
    },
    "tags": []
   },
   "outputs": [],
   "source": [
    "#hide\n",
    "# g.head()"
   ]
  },
  {
   "cell_type": "code",
   "execution_count": 33,
   "id": "limited-engine",
   "metadata": {
    "execution": {
     "iopub.execute_input": "2022-08-19T00:50:54.119338Z",
     "iopub.status.busy": "2022-08-19T00:50:54.118766Z",
     "iopub.status.idle": "2022-08-19T00:50:54.120753Z",
     "shell.execute_reply": "2022-08-19T00:50:54.121153Z"
    },
    "papermill": {
     "duration": 0.035896,
     "end_time": "2022-08-19T00:50:54.121291",
     "exception": false,
     "start_time": "2022-08-19T00:50:54.085395",
     "status": "completed"
    },
    "tags": []
   },
   "outputs": [],
   "source": [
    "# hide\n",
    "# g['date'] = g['date'].astype('datetime64[ns]')"
   ]
  },
  {
   "cell_type": "code",
   "execution_count": 34,
   "id": "sophisticated-supervisor",
   "metadata": {
    "execution": {
     "iopub.execute_input": "2022-08-19T00:50:54.185808Z",
     "iopub.status.busy": "2022-08-19T00:50:54.185249Z",
     "iopub.status.idle": "2022-08-19T00:50:54.188105Z",
     "shell.execute_reply": "2022-08-19T00:50:54.187582Z"
    },
    "papermill": {
     "duration": 0.036281,
     "end_time": "2022-08-19T00:50:54.188202",
     "exception": false,
     "start_time": "2022-08-19T00:50:54.151921",
     "status": "completed"
    },
    "tags": []
   },
   "outputs": [],
   "source": [
    "#hide\n",
    "# g['date'] = g.date.dt.dayofyear"
   ]
  },
  {
   "cell_type": "code",
   "execution_count": 35,
   "id": "inside-dubai",
   "metadata": {
    "execution": {
     "iopub.execute_input": "2022-08-19T00:50:54.252160Z",
     "iopub.status.busy": "2022-08-19T00:50:54.251598Z",
     "iopub.status.idle": "2022-08-19T00:50:54.254093Z",
     "shell.execute_reply": "2022-08-19T00:50:54.253674Z"
    },
    "papermill": {
     "duration": 0.035596,
     "end_time": "2022-08-19T00:50:54.254192",
     "exception": false,
     "start_time": "2022-08-19T00:50:54.218596",
     "status": "completed"
    },
    "tags": []
   },
   "outputs": [],
   "source": [
    "#hide\n",
    "# g = g.rename(columns= {'continent':'group','country':'name','cases':'value'})"
   ]
  },
  {
   "cell_type": "code",
   "execution_count": 36,
   "id": "fleet-motorcycle",
   "metadata": {
    "execution": {
     "iopub.execute_input": "2022-08-19T00:50:54.318867Z",
     "iopub.status.busy": "2022-08-19T00:50:54.318294Z",
     "iopub.status.idle": "2022-08-19T00:50:54.320375Z",
     "shell.execute_reply": "2022-08-19T00:50:54.320773Z"
    },
    "papermill": {
     "duration": 0.036129,
     "end_time": "2022-08-19T00:50:54.320889",
     "exception": false,
     "start_time": "2022-08-19T00:50:54.284760",
     "status": "completed"
    },
    "tags": []
   },
   "outputs": [],
   "source": [
    "#hide\n",
    "# cols = ['name','group','day','value']"
   ]
  },
  {
   "cell_type": "code",
   "execution_count": 37,
   "id": "continued-sleeping",
   "metadata": {
    "execution": {
     "iopub.execute_input": "2022-08-19T00:50:54.384925Z",
     "iopub.status.busy": "2022-08-19T00:50:54.384363Z",
     "iopub.status.idle": "2022-08-19T00:50:54.386818Z",
     "shell.execute_reply": "2022-08-19T00:50:54.386347Z"
    },
    "papermill": {
     "duration": 0.035498,
     "end_time": "2022-08-19T00:50:54.386915",
     "exception": false,
     "start_time": "2022-08-19T00:50:54.351417",
     "status": "completed"
    },
    "tags": []
   },
   "outputs": [],
   "source": [
    "#hide\n",
    "# g.rename(columns= {'date':'day'},inplace = True)"
   ]
  },
  {
   "cell_type": "code",
   "execution_count": 38,
   "id": "major-fight",
   "metadata": {
    "execution": {
     "iopub.execute_input": "2022-08-19T00:50:54.451177Z",
     "iopub.status.busy": "2022-08-19T00:50:54.450608Z",
     "iopub.status.idle": "2022-08-19T00:50:54.452979Z",
     "shell.execute_reply": "2022-08-19T00:50:54.452540Z"
    },
    "papermill": {
     "duration": 0.035644,
     "end_time": "2022-08-19T00:50:54.453072",
     "exception": false,
     "start_time": "2022-08-19T00:50:54.417428",
     "status": "completed"
    },
    "tags": []
   },
   "outputs": [],
   "source": [
    "#hide\n",
    "# g = g[cols]"
   ]
  },
  {
   "cell_type": "code",
   "execution_count": 39,
   "id": "structured-mobile",
   "metadata": {
    "execution": {
     "iopub.execute_input": "2022-08-19T00:50:54.516799Z",
     "iopub.status.busy": "2022-08-19T00:50:54.516242Z",
     "iopub.status.idle": "2022-08-19T00:50:54.518566Z",
     "shell.execute_reply": "2022-08-19T00:50:54.518036Z"
    },
    "papermill": {
     "duration": 0.035257,
     "end_time": "2022-08-19T00:50:54.518660",
     "exception": false,
     "start_time": "2022-08-19T00:50:54.483403",
     "status": "completed"
    },
    "tags": []
   },
   "outputs": [],
   "source": [
    "# #hide\n",
    "# g = g[g.group.notna()]"
   ]
  },
  {
   "cell_type": "code",
   "execution_count": 40,
   "id": "determined-closing",
   "metadata": {
    "execution": {
     "iopub.execute_input": "2022-08-19T00:50:54.583450Z",
     "iopub.status.busy": "2022-08-19T00:50:54.582877Z",
     "iopub.status.idle": "2022-08-19T00:50:54.585309Z",
     "shell.execute_reply": "2022-08-19T00:50:54.584753Z"
    },
    "papermill": {
     "duration": 0.03615,
     "end_time": "2022-08-19T00:50:54.585407",
     "exception": false,
     "start_time": "2022-08-19T00:50:54.549257",
     "status": "completed"
    },
    "tags": []
   },
   "outputs": [],
   "source": [
    "# #hide\n",
    "# colors = dict(zip(\n",
    "#     [\"Oceania\", \"Europe\", \"Asia\", \"South America\", \"Middle East\", \"North America\", \"Africa\"],\n",
    "#     [\"#adb0ff\", \"#ffb3ff\", \"#90d595\", \"#e48381\", \"#aafbff\", \"#f7bb5f\", \"#eafb50\"]\n",
    "# ))\n",
    "# group_lk = g.set_index('name')['group'].to_dict()"
   ]
  },
  {
   "cell_type": "code",
   "execution_count": null,
   "id": "gross-drinking",
   "metadata": {
    "papermill": {
     "duration": 0.030274,
     "end_time": "2022-08-19T00:50:54.646017",
     "exception": false,
     "start_time": "2022-08-19T00:50:54.615743",
     "status": "completed"
    },
    "tags": []
   },
   "outputs": [],
   "source": []
  },
  {
   "cell_type": "code",
   "execution_count": 41,
   "id": "subject-macintosh",
   "metadata": {
    "execution": {
     "iopub.execute_input": "2022-08-19T00:50:54.711388Z",
     "iopub.status.busy": "2022-08-19T00:50:54.710800Z",
     "iopub.status.idle": "2022-08-19T00:50:54.712719Z",
     "shell.execute_reply": "2022-08-19T00:50:54.713139Z"
    },
    "papermill": {
     "duration": 0.036656,
     "end_time": "2022-08-19T00:50:54.713270",
     "exception": false,
     "start_time": "2022-08-19T00:50:54.676614",
     "status": "completed"
    },
    "tags": []
   },
   "outputs": [],
   "source": [
    "# #hide\n",
    "# fig, ax = plt.subplots(figsize=(15, 8))\n",
    "\n",
    "# def draw_barchart(current_day):\n",
    "#     dff = g[g['day'].eq(current_day)].sort_values(by='value', ascending=True).tail(10)\n",
    "#     ax.clear()\n",
    "#     ax.barh(dff['name'], dff['value'], color=[colors[group_lk[x]] for x in dff['name']])\n",
    "#     dx = dff['value'].max() / 200\n",
    "    \n",
    "#     for i, (value, name) in enumerate(zip(dff['value'], dff['name'])):\n",
    "#         ax.text(value-dx, i,     name,           size=14, weight=600, ha='right', va='bottom')\n",
    "#         ax.text(value-dx, i-.25, group_lk[name], size=10, color='#444444', ha='right', va='baseline')\n",
    "#         ax.text(value+dx, i,     f'{value:,.0f}',  size=14, ha='left',  va='center')\n",
    "#     ax.text(1, 0.4, current_day, transform=ax.transAxes, color='#777777', size=46, ha='right', weight=800)\n",
    "#     ax.text(0, 1.06, 'Population (thousands)', transform=ax.transAxes, size=12, color='#777777')\n",
    "#     ax.xaxis.set_major_formatter(ticker.StrMethodFormatter('{x:,.0f}'))\n",
    "#     ax.xaxis.set_ticks_position('top')\n",
    "#     ax.tick_params(axis='x', colors='#777777', labelsize=12)\n",
    "#     ax.set_yticks([])\n",
    "#     ax.margins(0, 0.01)\n",
    "#     ax.grid(which='major', axis='x', linestyle='-')\n",
    "#     ax.set_axisbelow(True)\n",
    "    \n",
    "#     ax.text(0, 1.15, 'Coronavirus',\n",
    "#             transform=ax.transAxes, size=24, weight=600, ha='left', va='top')\n",
    "# #     ax.text(1, 0, 'by @pratapvardhan; credit @jburnmurdoch', transform=ax.transAxes, color='#777777', ha='right',\n",
    "# #             bbox=dict(facecolor='white', alpha=0.8, edgecolor='white'))\n",
    "#     plt.box(False)"
   ]
  },
  {
   "cell_type": "code",
   "execution_count": 42,
   "id": "sexual-wages",
   "metadata": {
    "execution": {
     "iopub.execute_input": "2022-08-19T00:50:54.781196Z",
     "iopub.status.busy": "2022-08-19T00:50:54.780593Z",
     "iopub.status.idle": "2022-08-19T00:50:54.782045Z",
     "shell.execute_reply": "2022-08-19T00:50:54.782583Z"
    },
    "papermill": {
     "duration": 0.038812,
     "end_time": "2022-08-19T00:50:54.782699",
     "exception": false,
     "start_time": "2022-08-19T00:50:54.743887",
     "status": "completed"
    },
    "tags": []
   },
   "outputs": [],
   "source": [
    "# #hide_input\n",
    "# fig, ax = plt.subplots(figsize=(15, 8))\n",
    "# animator = animation.FuncAnimation(fig, draw_barchart, frames=range(g.day.values.min(), g.day.values.max()))\n",
    "# HTML(animator.to_jshtml())\n",
    "# # or use animator.to_html5_video() or animator.save() "
   ]
  },
  {
   "cell_type": "code",
   "execution_count": null,
   "id": "australian-container",
   "metadata": {
    "papermill": {
     "duration": 0.047063,
     "end_time": "2022-08-19T00:50:54.861376",
     "exception": false,
     "start_time": "2022-08-19T00:50:54.814313",
     "status": "completed"
    },
    "tags": []
   },
   "outputs": [],
   "source": []
  },
  {
   "cell_type": "code",
   "execution_count": null,
   "id": "mediterranean-pontiac",
   "metadata": {
    "papermill": {
     "duration": 0.048154,
     "end_time": "2022-08-19T00:50:54.956735",
     "exception": false,
     "start_time": "2022-08-19T00:50:54.908581",
     "status": "completed"
    },
    "tags": []
   },
   "outputs": [],
   "source": []
  },
  {
   "cell_type": "code",
   "execution_count": null,
   "id": "aging-legislature",
   "metadata": {
    "papermill": {
     "duration": 0.030477,
     "end_time": "2022-08-19T00:50:55.051873",
     "exception": false,
     "start_time": "2022-08-19T00:50:55.021396",
     "status": "completed"
    },
    "tags": []
   },
   "outputs": [],
   "source": []
  }
 ],
 "metadata": {
  "kernelspec": {
   "display_name": "Python 3",
   "language": "python",
   "name": "python3"
  },
  "language_info": {
   "codemirror_mode": {
    "name": "ipython",
    "version": 3
   },
   "file_extension": ".py",
   "mimetype": "text/x-python",
   "name": "python",
   "nbconvert_exporter": "python",
   "pygments_lexer": "ipython3",
   "version": "3.6.15"
  },
  "papermill": {
   "duration": 5.835999,
   "end_time": "2022-08-19T00:50:55.406173",
   "environment_variables": {},
   "exception": null,
   "input_path": "2020-03-21-covid19exp.ipynb",
   "output_path": "2020-03-21-covid19exp.ipynb",
   "parameters": {},
   "start_time": "2022-08-19T00:50:49.570174",
   "version": "2.0.0"
  }
 },
 "nbformat": 4,
 "nbformat_minor": 5
}