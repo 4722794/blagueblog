{
 "cells": [
  {
   "cell_type": "markdown",
   "id": "muslim-click",
   "metadata": {
    "papermill": {
     "duration": 0.035391,
     "end_time": "2022-11-15T00:48:58.189632",
     "exception": false,
     "start_time": "2022-11-15T00:48:58.154241",
     "status": "completed"
    },
    "tags": []
   },
   "source": [
    "# COVID-19 Case Race\n",
    "> A race chart to see rising cases around the world\n",
    "\n",
    "- author: Hargun Oberoi\n",
    "- image: images/covid-overview.png\n",
    "- hide: false\n",
    "- badges: false"
   ]
  },
  {
   "cell_type": "code",
   "execution_count": 1,
   "id": "proof-material",
   "metadata": {
    "execution": {
     "iopub.execute_input": "2022-11-15T00:48:58.261010Z",
     "iopub.status.busy": "2022-11-15T00:48:58.260401Z",
     "iopub.status.idle": "2022-11-15T00:48:58.601432Z",
     "shell.execute_reply": "2022-11-15T00:48:58.600848Z"
    },
    "papermill": {
     "duration": 0.381522,
     "end_time": "2022-11-15T00:48:58.601583",
     "exception": false,
     "start_time": "2022-11-15T00:48:58.220061",
     "status": "completed"
    },
    "tags": []
   },
   "outputs": [],
   "source": [
    "#hide\n",
    "import numpy as np\n",
    "import pandas as pd\n",
    "from jinja2 import Template\n",
    "from IPython.display import HTML"
   ]
  },
  {
   "cell_type": "code",
   "execution_count": 2,
   "id": "developed-terminology",
   "metadata": {
    "execution": {
     "iopub.execute_input": "2022-11-15T00:48:58.667113Z",
     "iopub.status.busy": "2022-11-15T00:48:58.666526Z",
     "iopub.status.idle": "2022-11-15T00:48:58.668972Z",
     "shell.execute_reply": "2022-11-15T00:48:58.669389Z"
    },
    "papermill": {
     "duration": 0.037573,
     "end_time": "2022-11-15T00:48:58.669521",
     "exception": false,
     "start_time": "2022-11-15T00:48:58.631948",
     "status": "completed"
    },
    "tags": []
   },
   "outputs": [],
   "source": [
    "#hide\n",
    "\n",
    "# FETCH\n",
    "base_url = 'https://raw.githubusercontent.com/pratapvardhan/notebooks/master/covid19/'\n",
    "paths = {\n",
    "    'mapping': base_url + 'mapping_countries.csv',\n",
    "    'overview': base_url + 'overview.tpl'\n",
    "}"
   ]
  },
  {
   "cell_type": "code",
   "execution_count": 3,
   "id": "dynamic-saver",
   "metadata": {
    "execution": {
     "iopub.execute_input": "2022-11-15T00:48:58.738168Z",
     "iopub.status.busy": "2022-11-15T00:48:58.737591Z",
     "iopub.status.idle": "2022-11-15T00:48:58.741354Z",
     "shell.execute_reply": "2022-11-15T00:48:58.740880Z"
    },
    "papermill": {
     "duration": 0.042458,
     "end_time": "2022-11-15T00:48:58.741465",
     "exception": false,
     "start_time": "2022-11-15T00:48:58.699007",
     "status": "completed"
    },
    "tags": []
   },
   "outputs": [
    {
     "data": {
      "text/plain": [
       "'https://raw.githubusercontent.com/pratapvardhan/notebooks/master/covid19/mapping_countries.csv'"
      ]
     },
     "execution_count": 3,
     "metadata": {},
     "output_type": "execute_result"
    }
   ],
   "source": [
    "#hide\n",
    "paths['mapping']"
   ]
  },
  {
   "cell_type": "code",
   "execution_count": 4,
   "id": "urban-software",
   "metadata": {
    "execution": {
     "iopub.execute_input": "2022-11-15T00:48:58.806588Z",
     "iopub.status.busy": "2022-11-15T00:48:58.805995Z",
     "iopub.status.idle": "2022-11-15T00:48:58.808546Z",
     "shell.execute_reply": "2022-11-15T00:48:58.809022Z"
    },
    "papermill": {
     "duration": 0.037725,
     "end_time": "2022-11-15T00:48:58.809162",
     "exception": false,
     "start_time": "2022-11-15T00:48:58.771437",
     "status": "completed"
    },
    "tags": []
   },
   "outputs": [],
   "source": [
    "#hide\n",
    "def get_mappings(url):\n",
    "    df = pd.read_csv(url)\n",
    "    return {\n",
    "        'df': df,\n",
    "        'replace.country': dict(df.dropna(subset=['Name']).set_index('Country')['Name']),\n",
    "        'map.continent': dict(df.set_index('Name')['Continent'])\n",
    "    }"
   ]
  },
  {
   "cell_type": "code",
   "execution_count": 5,
   "id": "intimate-machinery",
   "metadata": {
    "execution": {
     "iopub.execute_input": "2022-11-15T00:48:58.878022Z",
     "iopub.status.busy": "2022-11-15T00:48:58.877449Z",
     "iopub.status.idle": "2022-11-15T00:49:01.956264Z",
     "shell.execute_reply": "2022-11-15T00:49:01.955437Z"
    },
    "papermill": {
     "duration": 3.115293,
     "end_time": "2022-11-15T00:49:01.956422",
     "exception": false,
     "start_time": "2022-11-15T00:48:58.841129",
     "status": "completed"
    },
    "tags": []
   },
   "outputs": [],
   "source": [
    "#hide\n",
    "mapping = get_mappings(paths['mapping'])"
   ]
  },
  {
   "cell_type": "code",
   "execution_count": 6,
   "id": "certified-tactics",
   "metadata": {
    "execution": {
     "iopub.execute_input": "2022-11-15T00:49:02.022540Z",
     "iopub.status.busy": "2022-11-15T00:49:02.021942Z",
     "iopub.status.idle": "2022-11-15T00:49:02.024987Z",
     "shell.execute_reply": "2022-11-15T00:49:02.024507Z"
    },
    "papermill": {
     "duration": 0.038473,
     "end_time": "2022-11-15T00:49:02.025100",
     "exception": false,
     "start_time": "2022-11-15T00:49:01.986627",
     "status": "completed"
    },
    "tags": []
   },
   "outputs": [],
   "source": [
    "#hide\n",
    "def get_template(path):\n",
    "    from urllib.parse import urlparse\n",
    "    if bool(urlparse(path).netloc):\n",
    "        from urllib.request import urlopen\n",
    "        return urlopen(path).read().decode('utf8')\n",
    "    return open(path).read()"
   ]
  },
  {
   "cell_type": "code",
   "execution_count": 7,
   "id": "realistic-blast",
   "metadata": {
    "execution": {
     "iopub.execute_input": "2022-11-15T00:49:02.090713Z",
     "iopub.status.busy": "2022-11-15T00:49:02.090088Z",
     "iopub.status.idle": "2022-11-15T00:49:02.092670Z",
     "shell.execute_reply": "2022-11-15T00:49:02.092159Z"
    },
    "papermill": {
     "duration": 0.037683,
     "end_time": "2022-11-15T00:49:02.092786",
     "exception": false,
     "start_time": "2022-11-15T00:49:02.055103",
     "status": "completed"
    },
    "tags": []
   },
   "outputs": [],
   "source": [
    "#hide\n",
    "def get_frame(name):\n",
    "    url = (\n",
    "        'https://raw.githubusercontent.com/CSSEGISandData/COVID-19/master/csse_covid_19_data/'\n",
    "        f'csse_covid_19_time_series/time_series_covid19_{name}_global.csv')\n",
    "    df = pd.read_csv(url)\n",
    "    # rename countries\n",
    "    df['Country/Region'] = df['Country/Region'].replace(mapping['replace.country'])\n",
    "    return df"
   ]
  },
  {
   "cell_type": "code",
   "execution_count": 8,
   "id": "affiliated-characterization",
   "metadata": {
    "execution": {
     "iopub.execute_input": "2022-11-15T00:49:02.159634Z",
     "iopub.status.busy": "2022-11-15T00:49:02.159038Z",
     "iopub.status.idle": "2022-11-15T00:49:02.161579Z",
     "shell.execute_reply": "2022-11-15T00:49:02.162134Z"
    },
    "papermill": {
     "duration": 0.039194,
     "end_time": "2022-11-15T00:49:02.162269",
     "exception": false,
     "start_time": "2022-11-15T00:49:02.123075",
     "status": "completed"
    },
    "tags": []
   },
   "outputs": [],
   "source": [
    "#hide\n",
    "def get_dates(df):\n",
    "    dt_cols = df.columns[~df.columns.isin(['Province/State', 'Country/Region', 'Lat', 'Long'])]\n",
    "    LAST_DATE_I = -1\n",
    "    # sometimes last column may be empty, then go backwards\n",
    "    for i in range(-1, -len(dt_cols), -1):\n",
    "        if not df[dt_cols[i]].fillna(0).eq(0).all():\n",
    "            LAST_DATE_I = i\n",
    "            break\n",
    "    return LAST_DATE_I, dt_cols"
   ]
  },
  {
   "cell_type": "code",
   "execution_count": 9,
   "id": "recent-optimization",
   "metadata": {
    "execution": {
     "iopub.execute_input": "2022-11-15T00:49:02.227279Z",
     "iopub.status.busy": "2022-11-15T00:49:02.226685Z",
     "iopub.status.idle": "2022-11-15T00:49:24.412976Z",
     "shell.execute_reply": "2022-11-15T00:49:24.412389Z"
    },
    "papermill": {
     "duration": 22.220914,
     "end_time": "2022-11-15T00:49:24.413105",
     "exception": false,
     "start_time": "2022-11-15T00:49:02.192191",
     "status": "completed"
    },
    "tags": []
   },
   "outputs": [],
   "source": [
    "#hide\n",
    "COL_REGION = 'Country/Region'\n",
    "# Confirmed, Recovered, Deaths\n",
    "df = get_frame('confirmed')\n",
    "# dft_: timeseries, dfc_: today country agg\n",
    "dft_cases = df\n",
    "dft_deaths = get_frame('deaths')\n",
    "dft_recovered = get_frame('recovered')\n",
    "LAST_DATE_I, dt_cols = get_dates(df)"
   ]
  },
  {
   "cell_type": "code",
   "execution_count": 10,
   "id": "absolute-copper",
   "metadata": {
    "execution": {
     "iopub.execute_input": "2022-11-15T00:49:24.482784Z",
     "iopub.status.busy": "2022-11-15T00:49:24.482200Z",
     "iopub.status.idle": "2022-11-15T00:49:24.485085Z",
     "shell.execute_reply": "2022-11-15T00:49:24.484608Z"
    },
    "papermill": {
     "duration": 0.038884,
     "end_time": "2022-11-15T00:49:24.485197",
     "exception": false,
     "start_time": "2022-11-15T00:49:24.446313",
     "status": "completed"
    },
    "tags": []
   },
   "outputs": [],
   "source": [
    "#hide\n",
    "LAST_DATE_I, dt_cols = get_dates(df)\n",
    "dt_today =dt_cols[LAST_DATE_I]\n",
    "# dt_5day = dt_cols[LAST_DATE_I - 5]\n",
    "dt_yday = dt_cols[LAST_DATE_I - 1]"
   ]
  },
  {
   "cell_type": "code",
   "execution_count": 11,
   "id": "restricted-sheriff",
   "metadata": {
    "execution": {
     "iopub.execute_input": "2022-11-15T00:49:24.554947Z",
     "iopub.status.busy": "2022-11-15T00:49:24.554352Z",
     "iopub.status.idle": "2022-11-15T00:49:24.563007Z",
     "shell.execute_reply": "2022-11-15T00:49:24.563562Z"
    },
    "papermill": {
     "duration": 0.046843,
     "end_time": "2022-11-15T00:49:24.563697",
     "exception": false,
     "start_time": "2022-11-15T00:49:24.516854",
     "status": "completed"
    },
    "tags": []
   },
   "outputs": [],
   "source": [
    "#hide\n",
    "dfc_cases = dft_cases.groupby(COL_REGION)[dt_today].sum()\n",
    "dfc_deaths = dft_deaths.groupby(COL_REGION)[dt_today].sum()\n",
    "# dfp_cases = dft_cases.groupby(COL_REGION)[dt_5day].sum()\n",
    "# dfp_deaths = dft_deaths.groupby(COL_REGION)[dt_5day].sum()\n",
    "dfp_cases = dft_cases.groupby(COL_REGION)[dt_yday].sum()\n",
    "dfp_deaths = dft_deaths.groupby(COL_REGION)[dt_yday].sum()"
   ]
  },
  {
   "cell_type": "code",
   "execution_count": 12,
   "id": "deluxe-hepatitis",
   "metadata": {
    "execution": {
     "iopub.execute_input": "2022-11-15T00:49:24.630312Z",
     "iopub.status.busy": "2022-11-15T00:49:24.629720Z",
     "iopub.status.idle": "2022-11-15T00:49:24.634400Z",
     "shell.execute_reply": "2022-11-15T00:49:24.634965Z"
    },
    "papermill": {
     "duration": 0.040979,
     "end_time": "2022-11-15T00:49:24.635100",
     "exception": false,
     "start_time": "2022-11-15T00:49:24.594121",
     "status": "completed"
    },
    "tags": []
   },
   "outputs": [],
   "source": [
    "#hide\n",
    "df_table = (pd.DataFrame(dict(Cases = dfc_cases, Deaths = dfc_deaths, PCases = dfp_cases, PDeaths = dfp_deaths))\n",
    "            .sort_values(by = ['Cases','Deaths'], ascending = [False, False])\n",
    "            .reset_index())"
   ]
  },
  {
   "cell_type": "code",
   "execution_count": 13,
   "id": "educational-chancellor",
   "metadata": {
    "execution": {
     "iopub.execute_input": "2022-11-15T00:49:24.712895Z",
     "iopub.status.busy": "2022-11-15T00:49:24.712285Z",
     "iopub.status.idle": "2022-11-15T00:49:24.719836Z",
     "shell.execute_reply": "2022-11-15T00:49:24.720402Z"
    },
    "papermill": {
     "duration": 0.055321,
     "end_time": "2022-11-15T00:49:24.720538",
     "exception": false,
     "start_time": "2022-11-15T00:49:24.665217",
     "status": "completed"
    },
    "tags": []
   },
   "outputs": [
    {
     "data": {
      "text/html": [
       "<div>\n",
       "<style scoped>\n",
       "    .dataframe tbody tr th:only-of-type {\n",
       "        vertical-align: middle;\n",
       "    }\n",
       "\n",
       "    .dataframe tbody tr th {\n",
       "        vertical-align: top;\n",
       "    }\n",
       "\n",
       "    .dataframe thead th {\n",
       "        text-align: right;\n",
       "    }\n",
       "</style>\n",
       "<table border=\"1\" class=\"dataframe\">\n",
       "  <thead>\n",
       "    <tr style=\"text-align: right;\">\n",
       "      <th></th>\n",
       "      <th>Country/Region</th>\n",
       "      <th>Cases</th>\n",
       "      <th>Deaths</th>\n",
       "      <th>PCases</th>\n",
       "      <th>PDeaths</th>\n",
       "      <th>Cases (+)</th>\n",
       "      <th>Deaths (+)</th>\n",
       "      <th>Fatality Rate</th>\n",
       "      <th>Continent</th>\n",
       "    </tr>\n",
       "  </thead>\n",
       "  <tbody>\n",
       "    <tr>\n",
       "      <th>0</th>\n",
       "      <td>US</td>\n",
       "      <td>97997389</td>\n",
       "      <td>1074485</td>\n",
       "      <td>97995355</td>\n",
       "      <td>1074484</td>\n",
       "      <td>2034</td>\n",
       "      <td>1</td>\n",
       "      <td>1.10</td>\n",
       "      <td>North America</td>\n",
       "    </tr>\n",
       "    <tr>\n",
       "      <th>1</th>\n",
       "      <td>India</td>\n",
       "      <td>44666924</td>\n",
       "      <td>530532</td>\n",
       "      <td>44666372</td>\n",
       "      <td>530531</td>\n",
       "      <td>552</td>\n",
       "      <td>1</td>\n",
       "      <td>1.19</td>\n",
       "      <td>Asia</td>\n",
       "    </tr>\n",
       "    <tr>\n",
       "      <th>2</th>\n",
       "      <td>France</td>\n",
       "      <td>37288432</td>\n",
       "      <td>158711</td>\n",
       "      <td>37288432</td>\n",
       "      <td>158711</td>\n",
       "      <td>0</td>\n",
       "      <td>0</td>\n",
       "      <td>0.43</td>\n",
       "      <td>Europe</td>\n",
       "    </tr>\n",
       "    <tr>\n",
       "      <th>3</th>\n",
       "      <td>Germany</td>\n",
       "      <td>36033395</td>\n",
       "      <td>155588</td>\n",
       "      <td>36033395</td>\n",
       "      <td>155588</td>\n",
       "      <td>0</td>\n",
       "      <td>0</td>\n",
       "      <td>0.43</td>\n",
       "      <td>Europe</td>\n",
       "    </tr>\n",
       "    <tr>\n",
       "      <th>4</th>\n",
       "      <td>Brazil</td>\n",
       "      <td>34908198</td>\n",
       "      <td>688656</td>\n",
       "      <td>34908198</td>\n",
       "      <td>688656</td>\n",
       "      <td>0</td>\n",
       "      <td>0</td>\n",
       "      <td>1.97</td>\n",
       "      <td>South America</td>\n",
       "    </tr>\n",
       "  </tbody>\n",
       "</table>\n",
       "</div>"
      ],
      "text/plain": [
       "  Country/Region     Cases   Deaths    PCases  PDeaths  Cases (+)  Deaths (+)  \\\n",
       "0             US  97997389  1074485  97995355  1074484       2034           1   \n",
       "1          India  44666924   530532  44666372   530531        552           1   \n",
       "2         France  37288432   158711  37288432   158711          0           0   \n",
       "3        Germany  36033395   155588  36033395   155588          0           0   \n",
       "4         Brazil  34908198   688656  34908198   688656          0           0   \n",
       "\n",
       "   Fatality Rate      Continent  \n",
       "0           1.10  North America  \n",
       "1           1.19           Asia  \n",
       "2           0.43         Europe  \n",
       "3           0.43         Europe  \n",
       "4           1.97  South America  "
      ]
     },
     "execution_count": 13,
     "metadata": {},
     "output_type": "execute_result"
    }
   ],
   "source": [
    "#hide\n",
    "for c in 'Cases, Deaths'.split(', '):\n",
    "    df_table[f'{c} (+)'] = (df_table[c] - df_table[f'P{c}']).clip(0)\n",
    "    #Clip ça veut dire, les chiffres negatif sont interdit\n",
    "df_table['Fatality Rate'] = (100* df_table['Deaths']/ df_table['Cases']).round(2)\n",
    "df_table['Continent'] = df_table['Country/Region'].map(mapping['map.continent'])\n",
    "df_table.head(5)"
   ]
  },
  {
   "cell_type": "code",
   "execution_count": 14,
   "id": "aboriginal-bulgaria",
   "metadata": {
    "execution": {
     "iopub.execute_input": "2022-11-15T00:49:24.786948Z",
     "iopub.status.busy": "2022-11-15T00:49:24.786373Z",
     "iopub.status.idle": "2022-11-15T00:49:24.790018Z",
     "shell.execute_reply": "2022-11-15T00:49:24.790489Z"
    },
    "papermill": {
     "duration": 0.03956,
     "end_time": "2022-11-15T00:49:24.790618",
     "exception": false,
     "start_time": "2022-11-15T00:49:24.751058",
     "status": "completed"
    },
    "tags": []
   },
   "outputs": [],
   "source": [
    "#hide\n",
    "#delete problematic countries from table\n",
    "df_table = df_table[~df_table['Country/Region'].isin(['Cape Verde', 'Cruise Ship', 'Kosovo'])]"
   ]
  },
  {
   "cell_type": "code",
   "execution_count": 15,
   "id": "fantastic-effect",
   "metadata": {
    "execution": {
     "iopub.execute_input": "2022-11-15T00:49:24.859769Z",
     "iopub.status.busy": "2022-11-15T00:49:24.859191Z",
     "iopub.status.idle": "2022-11-15T00:49:24.877634Z",
     "shell.execute_reply": "2022-11-15T00:49:24.877094Z"
    },
    "papermill": {
     "duration": 0.056714,
     "end_time": "2022-11-15T00:49:24.877756",
     "exception": false,
     "start_time": "2022-11-15T00:49:24.821042",
     "status": "completed"
    },
    "tags": []
   },
   "outputs": [
    {
     "data": {
      "text/html": [
       "<div>\n",
       "<style scoped>\n",
       "    .dataframe tbody tr th:only-of-type {\n",
       "        vertical-align: middle;\n",
       "    }\n",
       "\n",
       "    .dataframe tbody tr th {\n",
       "        vertical-align: top;\n",
       "    }\n",
       "\n",
       "    .dataframe thead th {\n",
       "        text-align: right;\n",
       "    }\n",
       "</style>\n",
       "<table border=\"1\" class=\"dataframe\">\n",
       "  <thead>\n",
       "    <tr style=\"text-align: right;\">\n",
       "      <th></th>\n",
       "      <th>Country/Region</th>\n",
       "      <th>Cases</th>\n",
       "      <th>Deaths</th>\n",
       "      <th>PCases</th>\n",
       "      <th>PDeaths</th>\n",
       "      <th>Cases (+)</th>\n",
       "      <th>Deaths (+)</th>\n",
       "      <th>Fatality Rate</th>\n",
       "      <th>Continent</th>\n",
       "    </tr>\n",
       "  </thead>\n",
       "  <tbody>\n",
       "    <tr>\n",
       "      <th>0</th>\n",
       "      <td>US</td>\n",
       "      <td>97997389</td>\n",
       "      <td>1074485</td>\n",
       "      <td>97995355</td>\n",
       "      <td>1074484</td>\n",
       "      <td>2034</td>\n",
       "      <td>1</td>\n",
       "      <td>1.1</td>\n",
       "      <td>North America</td>\n",
       "    </tr>\n",
       "    <tr>\n",
       "      <th>1</th>\n",
       "      <td>India</td>\n",
       "      <td>44666924</td>\n",
       "      <td>530532</td>\n",
       "      <td>44666372</td>\n",
       "      <td>530531</td>\n",
       "      <td>552</td>\n",
       "      <td>1</td>\n",
       "      <td>1.2</td>\n",
       "      <td>Asia</td>\n",
       "    </tr>\n",
       "    <tr>\n",
       "      <th>2</th>\n",
       "      <td>France</td>\n",
       "      <td>37288432</td>\n",
       "      <td>158711</td>\n",
       "      <td>37288432</td>\n",
       "      <td>158711</td>\n",
       "      <td>0</td>\n",
       "      <td>0</td>\n",
       "      <td>0.4</td>\n",
       "      <td>Europe</td>\n",
       "    </tr>\n",
       "    <tr>\n",
       "      <th>3</th>\n",
       "      <td>Germany</td>\n",
       "      <td>36033395</td>\n",
       "      <td>155588</td>\n",
       "      <td>36033395</td>\n",
       "      <td>155588</td>\n",
       "      <td>0</td>\n",
       "      <td>0</td>\n",
       "      <td>0.4</td>\n",
       "      <td>Europe</td>\n",
       "    </tr>\n",
       "    <tr>\n",
       "      <th>4</th>\n",
       "      <td>Brazil</td>\n",
       "      <td>34908198</td>\n",
       "      <td>688656</td>\n",
       "      <td>34908198</td>\n",
       "      <td>688656</td>\n",
       "      <td>0</td>\n",
       "      <td>0</td>\n",
       "      <td>2.0</td>\n",
       "      <td>South America</td>\n",
       "    </tr>\n",
       "  </tbody>\n",
       "</table>\n",
       "</div>"
      ],
      "text/plain": [
       "  Country/Region     Cases   Deaths    PCases  PDeaths  Cases (+)  Deaths (+)  \\\n",
       "0             US  97997389  1074485  97995355  1074484       2034           1   \n",
       "1          India  44666924   530532  44666372   530531        552           1   \n",
       "2         France  37288432   158711  37288432   158711          0           0   \n",
       "3        Germany  36033395   155588  36033395   155588          0           0   \n",
       "4         Brazil  34908198   688656  34908198   688656          0           0   \n",
       "\n",
       "   Fatality Rate      Continent  \n",
       "0            1.1  North America  \n",
       "1            1.2           Asia  \n",
       "2            0.4         Europe  \n",
       "3            0.4         Europe  \n",
       "4            2.0  South America  "
      ]
     },
     "execution_count": 15,
     "metadata": {},
     "output_type": "execute_result"
    }
   ],
   "source": [
    "#hide\n",
    "df_table = (pd.DataFrame(dict(Cases=dfc_cases, Deaths=dfc_deaths, PCases=dfp_cases, PDeaths=dfp_deaths))\n",
    "             .sort_values(by=['Cases', 'Deaths'], ascending=[False, False])\n",
    "             .reset_index())\n",
    "df_table.rename(columns={'index': 'Country/Region'}, inplace=True)\n",
    "for c in 'Cases, Deaths'.split(', '):\n",
    "    df_table[f'{c} (+)'] = (df_table[c] - df_table[f'P{c}']).clip(0)  # DATA BUG\n",
    "df_table['Fatality Rate'] = (100 * df_table['Deaths'] / df_table['Cases']).round(1)\n",
    "df_table['Continent'] = df_table['Country/Region'].map(mapping['map.continent'])\n",
    "df_table.head(5)"
   ]
  },
  {
   "cell_type": "code",
   "execution_count": 16,
   "id": "fewer-occasion",
   "metadata": {
    "execution": {
     "iopub.execute_input": "2022-11-15T00:49:24.946823Z",
     "iopub.status.busy": "2022-11-15T00:49:24.946242Z",
     "iopub.status.idle": "2022-11-15T00:49:24.948622Z",
     "shell.execute_reply": "2022-11-15T00:49:24.949096Z"
    },
    "papermill": {
     "duration": 0.039648,
     "end_time": "2022-11-15T00:49:24.949224",
     "exception": false,
     "start_time": "2022-11-15T00:49:24.909576",
     "status": "completed"
    },
    "tags": []
   },
   "outputs": [],
   "source": [
    "#hide\n",
    "#delete problematic countries from table\n",
    "df_table = df_table[~df_table['Country/Region'].isin(['Cape Verde', 'Cruise Ship', 'Kosovo'])]"
   ]
  },
  {
   "cell_type": "code",
   "execution_count": 17,
   "id": "related-center",
   "metadata": {
    "execution": {
     "iopub.execute_input": "2022-11-15T00:49:25.029106Z",
     "iopub.status.busy": "2022-11-15T00:49:25.023377Z",
     "iopub.status.idle": "2022-11-15T00:49:25.030980Z",
     "shell.execute_reply": "2022-11-15T00:49:25.031398Z"
    },
    "papermill": {
     "duration": 0.051364,
     "end_time": "2022-11-15T00:49:25.031529",
     "exception": false,
     "start_time": "2022-11-15T00:49:24.980165",
     "status": "completed"
    },
    "tags": []
   },
   "outputs": [],
   "source": [
    "#hide\n",
    "metrics = [df_table.columns[index] for index in [1,2,5,6]]\n",
    "# s_china = df_table[df_table['Country/Region'].eq('China')][metrics].sum().add_prefix('China ')\n",
    "s_us = df_table[df_table['Country/Region'].eq('US')][metrics].sum().add_prefix('US ')\n",
    "s_eu = df_table[df_table['Continent'].eq('Europe')][metrics].sum().add_prefix('EU ')\n",
    "s_ind = df_table[df_table['Country/Region'].eq('India')][metrics].sum().add_prefix('India ')\n",
    "summary = {'updated': pd.to_datetime(dt_today), 'since': pd.to_datetime(dt_yday)}\n",
    "summary = {'updated': pd.to_datetime(dt_today), 'since': pd.to_datetime(dt_yday)}\n",
    "summary = {**summary, **df_table[metrics].sum(), **s_ind, **s_us, **s_eu}"
   ]
  },
  {
   "cell_type": "code",
   "execution_count": 18,
   "id": "engaging-syndrome",
   "metadata": {
    "execution": {
     "iopub.execute_input": "2022-11-15T00:49:25.099533Z",
     "iopub.status.busy": "2022-11-15T00:49:25.098945Z",
     "iopub.status.idle": "2022-11-15T00:49:25.120426Z",
     "shell.execute_reply": "2022-11-15T00:49:25.119918Z"
    },
    "papermill": {
     "duration": 0.057909,
     "end_time": "2022-11-15T00:49:25.120553",
     "exception": false,
     "start_time": "2022-11-15T00:49:25.062644",
     "status": "completed"
    },
    "tags": []
   },
   "outputs": [],
   "source": [
    "#hide\n",
    "dft_ct_new_cases = dft_cases.groupby(COL_REGION)[dt_cols].sum().diff(axis=1).fillna(0).astype(int)"
   ]
  },
  {
   "cell_type": "code",
   "execution_count": 19,
   "id": "neutral-assignment",
   "metadata": {
    "execution": {
     "iopub.execute_input": "2022-11-15T00:49:25.190045Z",
     "iopub.status.busy": "2022-11-15T00:49:25.189464Z",
     "iopub.status.idle": "2022-11-15T00:49:25.191816Z",
     "shell.execute_reply": "2022-11-15T00:49:25.192407Z"
    },
    "papermill": {
     "duration": 0.040762,
     "end_time": "2022-11-15T00:49:25.192546",
     "exception": false,
     "start_time": "2022-11-15T00:49:25.151784",
     "status": "completed"
    },
    "tags": []
   },
   "outputs": [],
   "source": [
    "#hide\n",
    "everydaycases = dft_ct_new_cases.cumsum(axis=1)"
   ]
  },
  {
   "cell_type": "code",
   "execution_count": 20,
   "id": "parliamentary-calgary",
   "metadata": {
    "execution": {
     "iopub.execute_input": "2022-11-15T00:49:25.260141Z",
     "iopub.status.busy": "2022-11-15T00:49:25.259539Z",
     "iopub.status.idle": "2022-11-15T00:49:25.848555Z",
     "shell.execute_reply": "2022-11-15T00:49:25.847997Z"
    },
    "papermill": {
     "duration": 0.624692,
     "end_time": "2022-11-15T00:49:25.848687",
     "exception": false,
     "start_time": "2022-11-15T00:49:25.223995",
     "status": "completed"
    },
    "tags": []
   },
   "outputs": [],
   "source": [
    "#hide\n",
    "import pandas as pd\n",
    "import matplotlib.pyplot as plt\n",
    "import matplotlib.ticker as ticker\n",
    "import matplotlib.animation as animation\n",
    "from IPython.display import HTML"
   ]
  },
  {
   "cell_type": "code",
   "execution_count": 21,
   "id": "lasting-extraction",
   "metadata": {
    "execution": {
     "iopub.execute_input": "2022-11-15T00:49:25.922665Z",
     "iopub.status.busy": "2022-11-15T00:49:25.922071Z",
     "iopub.status.idle": "2022-11-15T00:49:25.931931Z",
     "shell.execute_reply": "2022-11-15T00:49:25.931341Z"
    },
    "papermill": {
     "duration": 0.047776,
     "end_time": "2022-11-15T00:49:25.932057",
     "exception": false,
     "start_time": "2022-11-15T00:49:25.884281",
     "status": "completed"
    },
    "tags": []
   },
   "outputs": [],
   "source": [
    "#hide\n",
    "t = everydaycases.stack()"
   ]
  },
  {
   "cell_type": "code",
   "execution_count": 22,
   "id": "premier-sleeve",
   "metadata": {
    "execution": {
     "iopub.execute_input": "2022-11-15T00:49:26.005766Z",
     "iopub.status.busy": "2022-11-15T00:49:26.005063Z",
     "iopub.status.idle": "2022-11-15T00:49:26.017899Z",
     "shell.execute_reply": "2022-11-15T00:49:26.018378Z"
    },
    "papermill": {
     "duration": 0.048822,
     "end_time": "2022-11-15T00:49:26.018520",
     "exception": false,
     "start_time": "2022-11-15T00:49:25.969698",
     "status": "completed"
    },
    "tags": []
   },
   "outputs": [],
   "source": [
    "#hide\n",
    "g = t.reset_index(['Country/Region'])"
   ]
  },
  {
   "cell_type": "code",
   "execution_count": 23,
   "id": "distributed-pittsburgh",
   "metadata": {
    "execution": {
     "iopub.execute_input": "2022-11-15T00:49:26.086058Z",
     "iopub.status.busy": "2022-11-15T00:49:26.085276Z",
     "iopub.status.idle": "2022-11-15T00:49:26.086938Z",
     "shell.execute_reply": "2022-11-15T00:49:26.087545Z"
    },
    "papermill": {
     "duration": 0.038036,
     "end_time": "2022-11-15T00:49:26.087739",
     "exception": false,
     "start_time": "2022-11-15T00:49:26.049703",
     "status": "completed"
    },
    "tags": []
   },
   "outputs": [],
   "source": [
    "#hide\n",
    "g.index.name = 'date'"
   ]
  },
  {
   "cell_type": "code",
   "execution_count": 24,
   "id": "naked-donor",
   "metadata": {
    "execution": {
     "iopub.execute_input": "2022-11-15T00:49:26.157250Z",
     "iopub.status.busy": "2022-11-15T00:49:26.156548Z",
     "iopub.status.idle": "2022-11-15T00:49:26.159174Z",
     "shell.execute_reply": "2022-11-15T00:49:26.158663Z"
    },
    "papermill": {
     "duration": 0.037809,
     "end_time": "2022-11-15T00:49:26.159304",
     "exception": false,
     "start_time": "2022-11-15T00:49:26.121495",
     "status": "completed"
    },
    "tags": []
   },
   "outputs": [],
   "source": [
    "# #hide\n",
    "# g = g.reset_index(['date'])"
   ]
  },
  {
   "cell_type": "code",
   "execution_count": 25,
   "id": "incomplete-mustang",
   "metadata": {
    "execution": {
     "iopub.execute_input": "2022-11-15T00:49:26.226056Z",
     "iopub.status.busy": "2022-11-15T00:49:26.225382Z",
     "iopub.status.idle": "2022-11-15T00:49:26.227999Z",
     "shell.execute_reply": "2022-11-15T00:49:26.227346Z"
    },
    "papermill": {
     "duration": 0.037482,
     "end_time": "2022-11-15T00:49:26.228125",
     "exception": false,
     "start_time": "2022-11-15T00:49:26.190643",
     "status": "completed"
    },
    "tags": []
   },
   "outputs": [],
   "source": [
    "#hide\n",
    "# g.head()"
   ]
  },
  {
   "cell_type": "code",
   "execution_count": 26,
   "id": "specific-kruger",
   "metadata": {
    "execution": {
     "iopub.execute_input": "2022-11-15T00:49:26.295336Z",
     "iopub.status.busy": "2022-11-15T00:49:26.294722Z",
     "iopub.status.idle": "2022-11-15T00:49:26.298449Z",
     "shell.execute_reply": "2022-11-15T00:49:26.298873Z"
    },
    "papermill": {
     "duration": 0.039188,
     "end_time": "2022-11-15T00:49:26.299011",
     "exception": false,
     "start_time": "2022-11-15T00:49:26.259823",
     "status": "completed"
    },
    "tags": []
   },
   "outputs": [],
   "source": [
    "#hide\n",
    "# g.columns = ['date','country','cases']"
   ]
  },
  {
   "cell_type": "code",
   "execution_count": 27,
   "id": "tender-conversion",
   "metadata": {
    "execution": {
     "iopub.execute_input": "2022-11-15T00:49:26.365387Z",
     "iopub.status.busy": "2022-11-15T00:49:26.364777Z",
     "iopub.status.idle": "2022-11-15T00:49:26.367062Z",
     "shell.execute_reply": "2022-11-15T00:49:26.366492Z"
    },
    "papermill": {
     "duration": 0.036997,
     "end_time": "2022-11-15T00:49:26.367172",
     "exception": false,
     "start_time": "2022-11-15T00:49:26.330175",
     "status": "completed"
    },
    "tags": []
   },
   "outputs": [],
   "source": [
    "#hide\n",
    "# g['continent'] = g.country"
   ]
  },
  {
   "cell_type": "code",
   "execution_count": 28,
   "id": "substantial-wilderness",
   "metadata": {
    "execution": {
     "iopub.execute_input": "2022-11-15T00:49:26.434085Z",
     "iopub.status.busy": "2022-11-15T00:49:26.433475Z",
     "iopub.status.idle": "2022-11-15T00:49:26.436081Z",
     "shell.execute_reply": "2022-11-15T00:49:26.435608Z"
    },
    "papermill": {
     "duration": 0.037835,
     "end_time": "2022-11-15T00:49:26.436191",
     "exception": false,
     "start_time": "2022-11-15T00:49:26.398356",
     "status": "completed"
    },
    "tags": []
   },
   "outputs": [],
   "source": [
    "#hide\n",
    "# cols = list(g.columns.values)"
   ]
  },
  {
   "cell_type": "code",
   "execution_count": 29,
   "id": "solved-farming",
   "metadata": {
    "execution": {
     "iopub.execute_input": "2022-11-15T00:49:26.502591Z",
     "iopub.status.busy": "2022-11-15T00:49:26.501918Z",
     "iopub.status.idle": "2022-11-15T00:49:26.504481Z",
     "shell.execute_reply": "2022-11-15T00:49:26.503911Z"
    },
    "papermill": {
     "duration": 0.037116,
     "end_time": "2022-11-15T00:49:26.504607",
     "exception": false,
     "start_time": "2022-11-15T00:49:26.467491",
     "status": "completed"
    },
    "tags": []
   },
   "outputs": [],
   "source": [
    "#hide\n",
    "# cols.insert(0, cols.pop())"
   ]
  },
  {
   "cell_type": "code",
   "execution_count": 30,
   "id": "executed-adoption",
   "metadata": {
    "execution": {
     "iopub.execute_input": "2022-11-15T00:49:26.571447Z",
     "iopub.status.busy": "2022-11-15T00:49:26.570860Z",
     "iopub.status.idle": "2022-11-15T00:49:26.573584Z",
     "shell.execute_reply": "2022-11-15T00:49:26.573029Z"
    },
    "papermill": {
     "duration": 0.037532,
     "end_time": "2022-11-15T00:49:26.573693",
     "exception": false,
     "start_time": "2022-11-15T00:49:26.536161",
     "status": "completed"
    },
    "tags": []
   },
   "outputs": [],
   "source": [
    "#hide\n",
    "# g = g[cols]"
   ]
  },
  {
   "cell_type": "code",
   "execution_count": 31,
   "id": "subject-dublin",
   "metadata": {
    "execution": {
     "iopub.execute_input": "2022-11-15T00:49:26.640429Z",
     "iopub.status.busy": "2022-11-15T00:49:26.639711Z",
     "iopub.status.idle": "2022-11-15T00:49:26.643436Z",
     "shell.execute_reply": "2022-11-15T00:49:26.642958Z"
    },
    "papermill": {
     "duration": 0.038742,
     "end_time": "2022-11-15T00:49:26.643545",
     "exception": false,
     "start_time": "2022-11-15T00:49:26.604803",
     "status": "completed"
    },
    "tags": []
   },
   "outputs": [],
   "source": [
    "#hide\n",
    "# g['continent'] = g['continent'].map(mapping['map.continent'])"
   ]
  },
  {
   "cell_type": "code",
   "execution_count": 32,
   "id": "freelance-scout",
   "metadata": {
    "execution": {
     "iopub.execute_input": "2022-11-15T00:49:26.710348Z",
     "iopub.status.busy": "2022-11-15T00:49:26.709657Z",
     "iopub.status.idle": "2022-11-15T00:49:26.712486Z",
     "shell.execute_reply": "2022-11-15T00:49:26.711811Z"
    },
    "papermill": {
     "duration": 0.037758,
     "end_time": "2022-11-15T00:49:26.712610",
     "exception": false,
     "start_time": "2022-11-15T00:49:26.674852",
     "status": "completed"
    },
    "tags": []
   },
   "outputs": [],
   "source": [
    "#hide\n",
    "# g.head()"
   ]
  },
  {
   "cell_type": "code",
   "execution_count": 33,
   "id": "limited-engine",
   "metadata": {
    "execution": {
     "iopub.execute_input": "2022-11-15T00:49:26.784196Z",
     "iopub.status.busy": "2022-11-15T00:49:26.783605Z",
     "iopub.status.idle": "2022-11-15T00:49:26.785880Z",
     "shell.execute_reply": "2022-11-15T00:49:26.786439Z"
    },
    "papermill": {
     "duration": 0.037357,
     "end_time": "2022-11-15T00:49:26.786591",
     "exception": false,
     "start_time": "2022-11-15T00:49:26.749234",
     "status": "completed"
    },
    "tags": []
   },
   "outputs": [],
   "source": [
    "# hide\n",
    "# g['date'] = g['date'].astype('datetime64[ns]')"
   ]
  },
  {
   "cell_type": "code",
   "execution_count": 34,
   "id": "sophisticated-supervisor",
   "metadata": {
    "execution": {
     "iopub.execute_input": "2022-11-15T00:49:26.853788Z",
     "iopub.status.busy": "2022-11-15T00:49:26.852918Z",
     "iopub.status.idle": "2022-11-15T00:49:26.857221Z",
     "shell.execute_reply": "2022-11-15T00:49:26.857801Z"
    },
    "papermill": {
     "duration": 0.040083,
     "end_time": "2022-11-15T00:49:26.857944",
     "exception": false,
     "start_time": "2022-11-15T00:49:26.817861",
     "status": "completed"
    },
    "tags": []
   },
   "outputs": [],
   "source": [
    "#hide\n",
    "# g['date'] = g.date.dt.dayofyear"
   ]
  },
  {
   "cell_type": "code",
   "execution_count": 35,
   "id": "inside-dubai",
   "metadata": {
    "execution": {
     "iopub.execute_input": "2022-11-15T00:49:26.924709Z",
     "iopub.status.busy": "2022-11-15T00:49:26.924077Z",
     "iopub.status.idle": "2022-11-15T00:49:26.926336Z",
     "shell.execute_reply": "2022-11-15T00:49:26.926805Z"
    },
    "papermill": {
     "duration": 0.037481,
     "end_time": "2022-11-15T00:49:26.926941",
     "exception": false,
     "start_time": "2022-11-15T00:49:26.889460",
     "status": "completed"
    },
    "tags": []
   },
   "outputs": [],
   "source": [
    "#hide\n",
    "# g = g.rename(columns= {'continent':'group','country':'name','cases':'value'})"
   ]
  },
  {
   "cell_type": "code",
   "execution_count": 36,
   "id": "fleet-motorcycle",
   "metadata": {
    "execution": {
     "iopub.execute_input": "2022-11-15T00:49:26.993393Z",
     "iopub.status.busy": "2022-11-15T00:49:26.992773Z",
     "iopub.status.idle": "2022-11-15T00:49:26.996378Z",
     "shell.execute_reply": "2022-11-15T00:49:26.996803Z"
    },
    "papermill": {
     "duration": 0.038704,
     "end_time": "2022-11-15T00:49:26.996938",
     "exception": false,
     "start_time": "2022-11-15T00:49:26.958234",
     "status": "completed"
    },
    "tags": []
   },
   "outputs": [],
   "source": [
    "#hide\n",
    "# cols = ['name','group','day','value']"
   ]
  },
  {
   "cell_type": "code",
   "execution_count": 37,
   "id": "continued-sleeping",
   "metadata": {
    "execution": {
     "iopub.execute_input": "2022-11-15T00:49:27.063762Z",
     "iopub.status.busy": "2022-11-15T00:49:27.063184Z",
     "iopub.status.idle": "2022-11-15T00:49:27.065546Z",
     "shell.execute_reply": "2022-11-15T00:49:27.065990Z"
    },
    "papermill": {
     "duration": 0.037314,
     "end_time": "2022-11-15T00:49:27.066123",
     "exception": false,
     "start_time": "2022-11-15T00:49:27.028809",
     "status": "completed"
    },
    "tags": []
   },
   "outputs": [],
   "source": [
    "#hide\n",
    "# g.rename(columns= {'date':'day'},inplace = True)"
   ]
  },
  {
   "cell_type": "code",
   "execution_count": 38,
   "id": "major-fight",
   "metadata": {
    "execution": {
     "iopub.execute_input": "2022-11-15T00:49:27.134886Z",
     "iopub.status.busy": "2022-11-15T00:49:27.134269Z",
     "iopub.status.idle": "2022-11-15T00:49:27.136783Z",
     "shell.execute_reply": "2022-11-15T00:49:27.136298Z"
    },
    "papermill": {
     "duration": 0.039416,
     "end_time": "2022-11-15T00:49:27.136898",
     "exception": false,
     "start_time": "2022-11-15T00:49:27.097482",
     "status": "completed"
    },
    "tags": []
   },
   "outputs": [],
   "source": [
    "#hide\n",
    "# g = g[cols]"
   ]
  },
  {
   "cell_type": "code",
   "execution_count": 39,
   "id": "structured-mobile",
   "metadata": {
    "execution": {
     "iopub.execute_input": "2022-11-15T00:49:27.203974Z",
     "iopub.status.busy": "2022-11-15T00:49:27.203260Z",
     "iopub.status.idle": "2022-11-15T00:49:27.207030Z",
     "shell.execute_reply": "2022-11-15T00:49:27.207543Z"
    },
    "papermill": {
     "duration": 0.039387,
     "end_time": "2022-11-15T00:49:27.207691",
     "exception": false,
     "start_time": "2022-11-15T00:49:27.168304",
     "status": "completed"
    },
    "tags": []
   },
   "outputs": [],
   "source": [
    "# #hide\n",
    "# g = g[g.group.notna()]"
   ]
  },
  {
   "cell_type": "code",
   "execution_count": 40,
   "id": "determined-closing",
   "metadata": {
    "execution": {
     "iopub.execute_input": "2022-11-15T00:49:27.273734Z",
     "iopub.status.busy": "2022-11-15T00:49:27.273149Z",
     "iopub.status.idle": "2022-11-15T00:49:27.276568Z",
     "shell.execute_reply": "2022-11-15T00:49:27.276989Z"
    },
    "papermill": {
     "duration": 0.03781,
     "end_time": "2022-11-15T00:49:27.277128",
     "exception": false,
     "start_time": "2022-11-15T00:49:27.239318",
     "status": "completed"
    },
    "tags": []
   },
   "outputs": [],
   "source": [
    "# #hide\n",
    "# colors = dict(zip(\n",
    "#     [\"Oceania\", \"Europe\", \"Asia\", \"South America\", \"Middle East\", \"North America\", \"Africa\"],\n",
    "#     [\"#adb0ff\", \"#ffb3ff\", \"#90d595\", \"#e48381\", \"#aafbff\", \"#f7bb5f\", \"#eafb50\"]\n",
    "# ))\n",
    "# group_lk = g.set_index('name')['group'].to_dict()"
   ]
  },
  {
   "cell_type": "code",
   "execution_count": null,
   "id": "gross-drinking",
   "metadata": {
    "papermill": {
     "duration": 0.031255,
     "end_time": "2022-11-15T00:49:27.339376",
     "exception": false,
     "start_time": "2022-11-15T00:49:27.308121",
     "status": "completed"
    },
    "tags": []
   },
   "outputs": [],
   "source": []
  },
  {
   "cell_type": "code",
   "execution_count": 41,
   "id": "subject-macintosh",
   "metadata": {
    "execution": {
     "iopub.execute_input": "2022-11-15T00:49:27.406673Z",
     "iopub.status.busy": "2022-11-15T00:49:27.406022Z",
     "iopub.status.idle": "2022-11-15T00:49:27.408486Z",
     "shell.execute_reply": "2022-11-15T00:49:27.407886Z"
    },
    "papermill": {
     "duration": 0.038027,
     "end_time": "2022-11-15T00:49:27.408602",
     "exception": false,
     "start_time": "2022-11-15T00:49:27.370575",
     "status": "completed"
    },
    "tags": []
   },
   "outputs": [],
   "source": [
    "# #hide\n",
    "# fig, ax = plt.subplots(figsize=(15, 8))\n",
    "\n",
    "# def draw_barchart(current_day):\n",
    "#     dff = g[g['day'].eq(current_day)].sort_values(by='value', ascending=True).tail(10)\n",
    "#     ax.clear()\n",
    "#     ax.barh(dff['name'], dff['value'], color=[colors[group_lk[x]] for x in dff['name']])\n",
    "#     dx = dff['value'].max() / 200\n",
    "    \n",
    "#     for i, (value, name) in enumerate(zip(dff['value'], dff['name'])):\n",
    "#         ax.text(value-dx, i,     name,           size=14, weight=600, ha='right', va='bottom')\n",
    "#         ax.text(value-dx, i-.25, group_lk[name], size=10, color='#444444', ha='right', va='baseline')\n",
    "#         ax.text(value+dx, i,     f'{value:,.0f}',  size=14, ha='left',  va='center')\n",
    "#     ax.text(1, 0.4, current_day, transform=ax.transAxes, color='#777777', size=46, ha='right', weight=800)\n",
    "#     ax.text(0, 1.06, 'Population (thousands)', transform=ax.transAxes, size=12, color='#777777')\n",
    "#     ax.xaxis.set_major_formatter(ticker.StrMethodFormatter('{x:,.0f}'))\n",
    "#     ax.xaxis.set_ticks_position('top')\n",
    "#     ax.tick_params(axis='x', colors='#777777', labelsize=12)\n",
    "#     ax.set_yticks([])\n",
    "#     ax.margins(0, 0.01)\n",
    "#     ax.grid(which='major', axis='x', linestyle='-')\n",
    "#     ax.set_axisbelow(True)\n",
    "    \n",
    "#     ax.text(0, 1.15, 'Coronavirus',\n",
    "#             transform=ax.transAxes, size=24, weight=600, ha='left', va='top')\n",
    "# #     ax.text(1, 0, 'by @pratapvardhan; credit @jburnmurdoch', transform=ax.transAxes, color='#777777', ha='right',\n",
    "# #             bbox=dict(facecolor='white', alpha=0.8, edgecolor='white'))\n",
    "#     plt.box(False)"
   ]
  },
  {
   "cell_type": "code",
   "execution_count": 42,
   "id": "sexual-wages",
   "metadata": {
    "execution": {
     "iopub.execute_input": "2022-11-15T00:49:27.476196Z",
     "iopub.status.busy": "2022-11-15T00:49:27.475522Z",
     "iopub.status.idle": "2022-11-15T00:49:27.478118Z",
     "shell.execute_reply": "2022-11-15T00:49:27.477573Z"
    },
    "papermill": {
     "duration": 0.038042,
     "end_time": "2022-11-15T00:49:27.478240",
     "exception": false,
     "start_time": "2022-11-15T00:49:27.440198",
     "status": "completed"
    },
    "tags": []
   },
   "outputs": [],
   "source": [
    "# #hide_input\n",
    "# fig, ax = plt.subplots(figsize=(15, 8))\n",
    "# animator = animation.FuncAnimation(fig, draw_barchart, frames=range(g.day.values.min(), g.day.values.max()))\n",
    "# HTML(animator.to_jshtml())\n",
    "# # or use animator.to_html5_video() or animator.save() "
   ]
  },
  {
   "cell_type": "code",
   "execution_count": null,
   "id": "australian-container",
   "metadata": {
    "papermill": {
     "duration": 0.032568,
     "end_time": "2022-11-15T00:49:27.547083",
     "exception": false,
     "start_time": "2022-11-15T00:49:27.514515",
     "status": "completed"
    },
    "tags": []
   },
   "outputs": [],
   "source": []
  },
  {
   "cell_type": "code",
   "execution_count": null,
   "id": "mediterranean-pontiac",
   "metadata": {
    "papermill": {
     "duration": 0.031078,
     "end_time": "2022-11-15T00:49:27.609089",
     "exception": false,
     "start_time": "2022-11-15T00:49:27.578011",
     "status": "completed"
    },
    "tags": []
   },
   "outputs": [],
   "source": []
  },
  {
   "cell_type": "code",
   "execution_count": null,
   "id": "aging-legislature",
   "metadata": {
    "papermill": {
     "duration": 0.030939,
     "end_time": "2022-11-15T00:49:27.671210",
     "exception": false,
     "start_time": "2022-11-15T00:49:27.640271",
     "status": "completed"
    },
    "tags": []
   },
   "outputs": [],
   "source": []
  }
 ],
 "metadata": {
  "kernelspec": {
   "display_name": "Python 3",
   "language": "python",
   "name": "python3"
  },
  "language_info": {
   "codemirror_mode": {
    "name": "ipython",
    "version": 3
   },
   "file_extension": ".py",
   "mimetype": "text/x-python",
   "name": "python",
   "nbconvert_exporter": "python",
   "pygments_lexer": "ipython3",
   "version": "3.6.15"
  },
  "papermill": {
   "duration": 30.916923,
   "end_time": "2022-11-15T00:49:28.020978",
   "environment_variables": {},
   "exception": null,
   "input_path": "2020-03-21-covid19exp.ipynb",
   "output_path": "2020-03-21-covid19exp.ipynb",
   "parameters": {},
   "start_time": "2022-11-15T00:48:57.104055",
   "version": "2.0.0"
  }
 },
 "nbformat": 4,
 "nbformat_minor": 5
}