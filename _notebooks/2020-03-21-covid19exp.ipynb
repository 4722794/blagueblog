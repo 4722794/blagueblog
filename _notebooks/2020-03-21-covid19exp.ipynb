{
 "cells": [
  {
   "cell_type": "markdown",
   "id": "muslim-click",
   "metadata": {
    "papermill": {
     "duration": 0.035432,
     "end_time": "2021-11-17T00:24:45.053785",
     "exception": false,
     "start_time": "2021-11-17T00:24:45.018353",
     "status": "completed"
    },
    "tags": []
   },
   "source": [
    "# COVID-19 Case Race\n",
    "> A race chart to see rising cases around the world\n",
    "\n",
    "- author: Hargun Oberoi\n",
    "- image: images/covid-overview.png\n",
    "- hide: false\n",
    "- badges: false"
   ]
  },
  {
   "cell_type": "code",
   "execution_count": 1,
   "id": "proof-material",
   "metadata": {
    "execution": {
     "iopub.execute_input": "2021-11-17T00:24:45.131121Z",
     "iopub.status.busy": "2021-11-17T00:24:45.130484Z",
     "iopub.status.idle": "2021-11-17T00:24:45.488119Z",
     "shell.execute_reply": "2021-11-17T00:24:45.487597Z"
    },
    "papermill": {
     "duration": 0.400538,
     "end_time": "2021-11-17T00:24:45.488264",
     "exception": false,
     "start_time": "2021-11-17T00:24:45.087726",
     "status": "completed"
    },
    "tags": []
   },
   "outputs": [],
   "source": [
    "#hide\n",
    "import numpy as np\n",
    "import pandas as pd\n",
    "from jinja2 import Template\n",
    "from IPython.display import HTML"
   ]
  },
  {
   "cell_type": "code",
   "execution_count": 2,
   "id": "developed-terminology",
   "metadata": {
    "execution": {
     "iopub.execute_input": "2021-11-17T00:24:45.559906Z",
     "iopub.status.busy": "2021-11-17T00:24:45.559266Z",
     "iopub.status.idle": "2021-11-17T00:24:45.562666Z",
     "shell.execute_reply": "2021-11-17T00:24:45.562028Z"
    },
    "papermill": {
     "duration": 0.038263,
     "end_time": "2021-11-17T00:24:45.562801",
     "exception": false,
     "start_time": "2021-11-17T00:24:45.524538",
     "status": "completed"
    },
    "tags": []
   },
   "outputs": [],
   "source": [
    "#hide\n",
    "\n",
    "# FETCH\n",
    "base_url = 'https://raw.githubusercontent.com/pratapvardhan/notebooks/master/covid19/'\n",
    "paths = {\n",
    "    'mapping': base_url + 'mapping_countries.csv',\n",
    "    'overview': base_url + 'overview.tpl'\n",
    "}"
   ]
  },
  {
   "cell_type": "code",
   "execution_count": 3,
   "id": "dynamic-saver",
   "metadata": {
    "execution": {
     "iopub.execute_input": "2021-11-17T00:24:45.638694Z",
     "iopub.status.busy": "2021-11-17T00:24:45.638103Z",
     "iopub.status.idle": "2021-11-17T00:24:45.640786Z",
     "shell.execute_reply": "2021-11-17T00:24:45.641201Z"
    },
    "papermill": {
     "duration": 0.044947,
     "end_time": "2021-11-17T00:24:45.641330",
     "exception": false,
     "start_time": "2021-11-17T00:24:45.596383",
     "status": "completed"
    },
    "tags": []
   },
   "outputs": [
    {
     "data": {
      "text/plain": [
       "'https://raw.githubusercontent.com/pratapvardhan/notebooks/master/covid19/mapping_countries.csv'"
      ]
     },
     "execution_count": 3,
     "metadata": {},
     "output_type": "execute_result"
    }
   ],
   "source": [
    "#hide\n",
    "paths['mapping']"
   ]
  },
  {
   "cell_type": "code",
   "execution_count": 4,
   "id": "urban-software",
   "metadata": {
    "execution": {
     "iopub.execute_input": "2021-11-17T00:24:45.718582Z",
     "iopub.status.busy": "2021-11-17T00:24:45.717851Z",
     "iopub.status.idle": "2021-11-17T00:24:45.719249Z",
     "shell.execute_reply": "2021-11-17T00:24:45.719767Z"
    },
    "papermill": {
     "duration": 0.044419,
     "end_time": "2021-11-17T00:24:45.719905",
     "exception": false,
     "start_time": "2021-11-17T00:24:45.675486",
     "status": "completed"
    },
    "tags": []
   },
   "outputs": [],
   "source": [
    "#hide\n",
    "def get_mappings(url):\n",
    "    df = pd.read_csv(url)\n",
    "    return {\n",
    "        'df': df,\n",
    "        'replace.country': dict(df.dropna(subset=['Name']).set_index('Country')['Name']),\n",
    "        'map.continent': dict(df.set_index('Name')['Continent'])\n",
    "    }"
   ]
  },
  {
   "cell_type": "code",
   "execution_count": 5,
   "id": "intimate-machinery",
   "metadata": {
    "execution": {
     "iopub.execute_input": "2021-11-17T00:24:45.801247Z",
     "iopub.status.busy": "2021-11-17T00:24:45.800661Z",
     "iopub.status.idle": "2021-11-17T00:24:45.844277Z",
     "shell.execute_reply": "2021-11-17T00:24:45.843780Z"
    },
    "papermill": {
     "duration": 0.086892,
     "end_time": "2021-11-17T00:24:45.844396",
     "exception": false,
     "start_time": "2021-11-17T00:24:45.757504",
     "status": "completed"
    },
    "tags": []
   },
   "outputs": [],
   "source": [
    "#hide\n",
    "mapping = get_mappings(paths['mapping'])"
   ]
  },
  {
   "cell_type": "code",
   "execution_count": 6,
   "id": "certified-tactics",
   "metadata": {
    "execution": {
     "iopub.execute_input": "2021-11-17T00:24:45.914524Z",
     "iopub.status.busy": "2021-11-17T00:24:45.913966Z",
     "iopub.status.idle": "2021-11-17T00:24:45.918560Z",
     "shell.execute_reply": "2021-11-17T00:24:45.918050Z"
    },
    "papermill": {
     "duration": 0.04026,
     "end_time": "2021-11-17T00:24:45.918684",
     "exception": false,
     "start_time": "2021-11-17T00:24:45.878424",
     "status": "completed"
    },
    "tags": []
   },
   "outputs": [],
   "source": [
    "#hide\n",
    "def get_template(path):\n",
    "    from urllib.parse import urlparse\n",
    "    if bool(urlparse(path).netloc):\n",
    "        from urllib.request import urlopen\n",
    "        return urlopen(path).read().decode('utf8')\n",
    "    return open(path).read()"
   ]
  },
  {
   "cell_type": "code",
   "execution_count": 7,
   "id": "realistic-blast",
   "metadata": {
    "execution": {
     "iopub.execute_input": "2021-11-17T00:24:45.988511Z",
     "iopub.status.busy": "2021-11-17T00:24:45.987912Z",
     "iopub.status.idle": "2021-11-17T00:24:45.990267Z",
     "shell.execute_reply": "2021-11-17T00:24:45.989823Z"
    },
    "papermill": {
     "duration": 0.040072,
     "end_time": "2021-11-17T00:24:45.990391",
     "exception": false,
     "start_time": "2021-11-17T00:24:45.950319",
     "status": "completed"
    },
    "tags": []
   },
   "outputs": [],
   "source": [
    "#hide\n",
    "def get_frame(name):\n",
    "    url = (\n",
    "        'https://raw.githubusercontent.com/CSSEGISandData/COVID-19/master/csse_covid_19_data/'\n",
    "        f'csse_covid_19_time_series/time_series_covid19_{name}_global.csv')\n",
    "    df = pd.read_csv(url)\n",
    "    # rename countries\n",
    "    df['Country/Region'] = df['Country/Region'].replace(mapping['replace.country'])\n",
    "    return df"
   ]
  },
  {
   "cell_type": "code",
   "execution_count": 8,
   "id": "affiliated-characterization",
   "metadata": {
    "execution": {
     "iopub.execute_input": "2021-11-17T00:24:46.064812Z",
     "iopub.status.busy": "2021-11-17T00:24:46.064114Z",
     "iopub.status.idle": "2021-11-17T00:24:46.066247Z",
     "shell.execute_reply": "2021-11-17T00:24:46.066736Z"
    },
    "papermill": {
     "duration": 0.042892,
     "end_time": "2021-11-17T00:24:46.066871",
     "exception": false,
     "start_time": "2021-11-17T00:24:46.023979",
     "status": "completed"
    },
    "tags": []
   },
   "outputs": [],
   "source": [
    "#hide\n",
    "def get_dates(df):\n",
    "    dt_cols = df.columns[~df.columns.isin(['Province/State', 'Country/Region', 'Lat', 'Long'])]\n",
    "    LAST_DATE_I = -1\n",
    "    # sometimes last column may be empty, then go backwards\n",
    "    for i in range(-1, -len(dt_cols), -1):\n",
    "        if not df[dt_cols[i]].fillna(0).eq(0).all():\n",
    "            LAST_DATE_I = i\n",
    "            break\n",
    "    return LAST_DATE_I, dt_cols"
   ]
  },
  {
   "cell_type": "code",
   "execution_count": 9,
   "id": "recent-optimization",
   "metadata": {
    "execution": {
     "iopub.execute_input": "2021-11-17T00:24:46.136573Z",
     "iopub.status.busy": "2021-11-17T00:24:46.135989Z",
     "iopub.status.idle": "2021-11-17T00:24:46.539286Z",
     "shell.execute_reply": "2021-11-17T00:24:46.538798Z"
    },
    "papermill": {
     "duration": 0.438747,
     "end_time": "2021-11-17T00:24:46.539410",
     "exception": false,
     "start_time": "2021-11-17T00:24:46.100663",
     "status": "completed"
    },
    "tags": []
   },
   "outputs": [],
   "source": [
    "#hide\n",
    "COL_REGION = 'Country/Region'\n",
    "# Confirmed, Recovered, Deaths\n",
    "df = get_frame('confirmed')\n",
    "# dft_: timeseries, dfc_: today country agg\n",
    "dft_cases = df\n",
    "dft_deaths = get_frame('deaths')\n",
    "dft_recovered = get_frame('recovered')\n",
    "LAST_DATE_I, dt_cols = get_dates(df)"
   ]
  },
  {
   "cell_type": "code",
   "execution_count": 10,
   "id": "absolute-copper",
   "metadata": {
    "execution": {
     "iopub.execute_input": "2021-11-17T00:24:46.607686Z",
     "iopub.status.busy": "2021-11-17T00:24:46.607024Z",
     "iopub.status.idle": "2021-11-17T00:24:46.608962Z",
     "shell.execute_reply": "2021-11-17T00:24:46.609369Z"
    },
    "papermill": {
     "duration": 0.038615,
     "end_time": "2021-11-17T00:24:46.609489",
     "exception": false,
     "start_time": "2021-11-17T00:24:46.570874",
     "status": "completed"
    },
    "tags": []
   },
   "outputs": [],
   "source": [
    "#hide\n",
    "LAST_DATE_I, dt_cols = get_dates(df)\n",
    "dt_today =dt_cols[LAST_DATE_I]\n",
    "# dt_5day = dt_cols[LAST_DATE_I - 5]\n",
    "dt_yday = dt_cols[LAST_DATE_I - 1]"
   ]
  },
  {
   "cell_type": "code",
   "execution_count": 11,
   "id": "restricted-sheriff",
   "metadata": {
    "execution": {
     "iopub.execute_input": "2021-11-17T00:24:46.682304Z",
     "iopub.status.busy": "2021-11-17T00:24:46.678062Z",
     "iopub.status.idle": "2021-11-17T00:24:46.687086Z",
     "shell.execute_reply": "2021-11-17T00:24:46.686412Z"
    },
    "papermill": {
     "duration": 0.045824,
     "end_time": "2021-11-17T00:24:46.687224",
     "exception": false,
     "start_time": "2021-11-17T00:24:46.641400",
     "status": "completed"
    },
    "tags": []
   },
   "outputs": [],
   "source": [
    "#hide\n",
    "dfc_cases = dft_cases.groupby(COL_REGION)[dt_today].sum()\n",
    "dfc_deaths = dft_deaths.groupby(COL_REGION)[dt_today].sum()\n",
    "# dfp_cases = dft_cases.groupby(COL_REGION)[dt_5day].sum()\n",
    "# dfp_deaths = dft_deaths.groupby(COL_REGION)[dt_5day].sum()\n",
    "dfp_cases = dft_cases.groupby(COL_REGION)[dt_yday].sum()\n",
    "dfp_deaths = dft_deaths.groupby(COL_REGION)[dt_yday].sum()"
   ]
  },
  {
   "cell_type": "code",
   "execution_count": 12,
   "id": "deluxe-hepatitis",
   "metadata": {
    "execution": {
     "iopub.execute_input": "2021-11-17T00:24:46.771707Z",
     "iopub.status.busy": "2021-11-17T00:24:46.768903Z",
     "iopub.status.idle": "2021-11-17T00:24:46.774680Z",
     "shell.execute_reply": "2021-11-17T00:24:46.774214Z"
    },
    "papermill": {
     "duration": 0.050543,
     "end_time": "2021-11-17T00:24:46.774798",
     "exception": false,
     "start_time": "2021-11-17T00:24:46.724255",
     "status": "completed"
    },
    "tags": []
   },
   "outputs": [],
   "source": [
    "#hide\n",
    "df_table = (pd.DataFrame(dict(Cases = dfc_cases, Deaths = dfc_deaths, PCases = dfp_cases, PDeaths = dfp_deaths))\n",
    "            .sort_values(by = ['Cases','Deaths'], ascending = [False, False])\n",
    "            .reset_index())"
   ]
  },
  {
   "cell_type": "code",
   "execution_count": 13,
   "id": "educational-chancellor",
   "metadata": {
    "execution": {
     "iopub.execute_input": "2021-11-17T00:24:46.860569Z",
     "iopub.status.busy": "2021-11-17T00:24:46.859953Z",
     "iopub.status.idle": "2021-11-17T00:24:46.870766Z",
     "shell.execute_reply": "2021-11-17T00:24:46.870258Z"
    },
    "papermill": {
     "duration": 0.063976,
     "end_time": "2021-11-17T00:24:46.870882",
     "exception": false,
     "start_time": "2021-11-17T00:24:46.806906",
     "status": "completed"
    },
    "tags": []
   },
   "outputs": [
    {
     "data": {
      "text/html": [
       "<div>\n",
       "<style scoped>\n",
       "    .dataframe tbody tr th:only-of-type {\n",
       "        vertical-align: middle;\n",
       "    }\n",
       "\n",
       "    .dataframe tbody tr th {\n",
       "        vertical-align: top;\n",
       "    }\n",
       "\n",
       "    .dataframe thead th {\n",
       "        text-align: right;\n",
       "    }\n",
       "</style>\n",
       "<table border=\"1\" class=\"dataframe\">\n",
       "  <thead>\n",
       "    <tr style=\"text-align: right;\">\n",
       "      <th></th>\n",
       "      <th>Country/Region</th>\n",
       "      <th>Cases</th>\n",
       "      <th>Deaths</th>\n",
       "      <th>PCases</th>\n",
       "      <th>PDeaths</th>\n",
       "      <th>Cases (+)</th>\n",
       "      <th>Deaths (+)</th>\n",
       "      <th>Fatality Rate</th>\n",
       "      <th>Continent</th>\n",
       "    </tr>\n",
       "  </thead>\n",
       "  <tbody>\n",
       "    <tr>\n",
       "      <th>0</th>\n",
       "      <td>US</td>\n",
       "      <td>47221527</td>\n",
       "      <td>764363</td>\n",
       "      <td>47079428</td>\n",
       "      <td>763092</td>\n",
       "      <td>142099</td>\n",
       "      <td>1271</td>\n",
       "      <td>1.62</td>\n",
       "      <td>North America</td>\n",
       "    </tr>\n",
       "    <tr>\n",
       "      <th>1</th>\n",
       "      <td>India</td>\n",
       "      <td>34456401</td>\n",
       "      <td>463852</td>\n",
       "      <td>34447536</td>\n",
       "      <td>463655</td>\n",
       "      <td>8865</td>\n",
       "      <td>197</td>\n",
       "      <td>1.35</td>\n",
       "      <td>Asia</td>\n",
       "    </tr>\n",
       "    <tr>\n",
       "      <th>2</th>\n",
       "      <td>Brazil</td>\n",
       "      <td>21960766</td>\n",
       "      <td>611346</td>\n",
       "      <td>21957967</td>\n",
       "      <td>611283</td>\n",
       "      <td>2799</td>\n",
       "      <td>63</td>\n",
       "      <td>2.78</td>\n",
       "      <td>South America</td>\n",
       "    </tr>\n",
       "    <tr>\n",
       "      <th>3</th>\n",
       "      <td>United Kingdom</td>\n",
       "      <td>9649233</td>\n",
       "      <td>143384</td>\n",
       "      <td>9608568</td>\n",
       "      <td>143337</td>\n",
       "      <td>40665</td>\n",
       "      <td>47</td>\n",
       "      <td>1.49</td>\n",
       "      <td>Europe</td>\n",
       "    </tr>\n",
       "    <tr>\n",
       "      <th>4</th>\n",
       "      <td>Russia</td>\n",
       "      <td>8956136</td>\n",
       "      <td>251796</td>\n",
       "      <td>8918926</td>\n",
       "      <td>250609</td>\n",
       "      <td>37210</td>\n",
       "      <td>1187</td>\n",
       "      <td>2.81</td>\n",
       "      <td>Europe</td>\n",
       "    </tr>\n",
       "  </tbody>\n",
       "</table>\n",
       "</div>"
      ],
      "text/plain": [
       "   Country/Region     Cases  Deaths    PCases  PDeaths  Cases (+)  Deaths (+)  \\\n",
       "0              US  47221527  764363  47079428   763092     142099        1271   \n",
       "1           India  34456401  463852  34447536   463655       8865         197   \n",
       "2          Brazil  21960766  611346  21957967   611283       2799          63   \n",
       "3  United Kingdom   9649233  143384   9608568   143337      40665          47   \n",
       "4          Russia   8956136  251796   8918926   250609      37210        1187   \n",
       "\n",
       "   Fatality Rate      Continent  \n",
       "0           1.62  North America  \n",
       "1           1.35           Asia  \n",
       "2           2.78  South America  \n",
       "3           1.49         Europe  \n",
       "4           2.81         Europe  "
      ]
     },
     "execution_count": 13,
     "metadata": {},
     "output_type": "execute_result"
    }
   ],
   "source": [
    "#hide\n",
    "for c in 'Cases, Deaths'.split(', '):\n",
    "    df_table[f'{c} (+)'] = (df_table[c] - df_table[f'P{c}']).clip(0)\n",
    "    #Clip ça veut dire, les chiffres negatif sont interdit\n",
    "df_table['Fatality Rate'] = (100* df_table['Deaths']/ df_table['Cases']).round(2)\n",
    "df_table['Continent'] = df_table['Country/Region'].map(mapping['map.continent'])\n",
    "df_table.head(5)"
   ]
  },
  {
   "cell_type": "code",
   "execution_count": 14,
   "id": "aboriginal-bulgaria",
   "metadata": {
    "execution": {
     "iopub.execute_input": "2021-11-17T00:24:46.940770Z",
     "iopub.status.busy": "2021-11-17T00:24:46.940218Z",
     "iopub.status.idle": "2021-11-17T00:24:46.942860Z",
     "shell.execute_reply": "2021-11-17T00:24:46.942406Z"
    },
    "papermill": {
     "duration": 0.039907,
     "end_time": "2021-11-17T00:24:46.942990",
     "exception": false,
     "start_time": "2021-11-17T00:24:46.903083",
     "status": "completed"
    },
    "tags": []
   },
   "outputs": [],
   "source": [
    "#hide\n",
    "#delete problematic countries from table\n",
    "df_table = df_table[~df_table['Country/Region'].isin(['Cape Verde', 'Cruise Ship', 'Kosovo'])]"
   ]
  },
  {
   "cell_type": "code",
   "execution_count": 15,
   "id": "fantastic-effect",
   "metadata": {
    "execution": {
     "iopub.execute_input": "2021-11-17T00:24:47.019670Z",
     "iopub.status.busy": "2021-11-17T00:24:47.019046Z",
     "iopub.status.idle": "2021-11-17T00:24:47.040610Z",
     "shell.execute_reply": "2021-11-17T00:24:47.041160Z"
    },
    "papermill": {
     "duration": 0.063607,
     "end_time": "2021-11-17T00:24:47.041324",
     "exception": false,
     "start_time": "2021-11-17T00:24:46.977717",
     "status": "completed"
    },
    "tags": []
   },
   "outputs": [
    {
     "data": {
      "text/html": [
       "<div>\n",
       "<style scoped>\n",
       "    .dataframe tbody tr th:only-of-type {\n",
       "        vertical-align: middle;\n",
       "    }\n",
       "\n",
       "    .dataframe tbody tr th {\n",
       "        vertical-align: top;\n",
       "    }\n",
       "\n",
       "    .dataframe thead th {\n",
       "        text-align: right;\n",
       "    }\n",
       "</style>\n",
       "<table border=\"1\" class=\"dataframe\">\n",
       "  <thead>\n",
       "    <tr style=\"text-align: right;\">\n",
       "      <th></th>\n",
       "      <th>Country/Region</th>\n",
       "      <th>Cases</th>\n",
       "      <th>Deaths</th>\n",
       "      <th>PCases</th>\n",
       "      <th>PDeaths</th>\n",
       "      <th>Cases (+)</th>\n",
       "      <th>Deaths (+)</th>\n",
       "      <th>Fatality Rate</th>\n",
       "      <th>Continent</th>\n",
       "    </tr>\n",
       "  </thead>\n",
       "  <tbody>\n",
       "    <tr>\n",
       "      <th>0</th>\n",
       "      <td>US</td>\n",
       "      <td>47221527</td>\n",
       "      <td>764363</td>\n",
       "      <td>47079428</td>\n",
       "      <td>763092</td>\n",
       "      <td>142099</td>\n",
       "      <td>1271</td>\n",
       "      <td>1.6</td>\n",
       "      <td>North America</td>\n",
       "    </tr>\n",
       "    <tr>\n",
       "      <th>1</th>\n",
       "      <td>India</td>\n",
       "      <td>34456401</td>\n",
       "      <td>463852</td>\n",
       "      <td>34447536</td>\n",
       "      <td>463655</td>\n",
       "      <td>8865</td>\n",
       "      <td>197</td>\n",
       "      <td>1.3</td>\n",
       "      <td>Asia</td>\n",
       "    </tr>\n",
       "    <tr>\n",
       "      <th>2</th>\n",
       "      <td>Brazil</td>\n",
       "      <td>21960766</td>\n",
       "      <td>611346</td>\n",
       "      <td>21957967</td>\n",
       "      <td>611283</td>\n",
       "      <td>2799</td>\n",
       "      <td>63</td>\n",
       "      <td>2.8</td>\n",
       "      <td>South America</td>\n",
       "    </tr>\n",
       "    <tr>\n",
       "      <th>3</th>\n",
       "      <td>United Kingdom</td>\n",
       "      <td>9649233</td>\n",
       "      <td>143384</td>\n",
       "      <td>9608568</td>\n",
       "      <td>143337</td>\n",
       "      <td>40665</td>\n",
       "      <td>47</td>\n",
       "      <td>1.5</td>\n",
       "      <td>Europe</td>\n",
       "    </tr>\n",
       "    <tr>\n",
       "      <th>4</th>\n",
       "      <td>Russia</td>\n",
       "      <td>8956136</td>\n",
       "      <td>251796</td>\n",
       "      <td>8918926</td>\n",
       "      <td>250609</td>\n",
       "      <td>37210</td>\n",
       "      <td>1187</td>\n",
       "      <td>2.8</td>\n",
       "      <td>Europe</td>\n",
       "    </tr>\n",
       "  </tbody>\n",
       "</table>\n",
       "</div>"
      ],
      "text/plain": [
       "   Country/Region     Cases  Deaths    PCases  PDeaths  Cases (+)  Deaths (+)  \\\n",
       "0              US  47221527  764363  47079428   763092     142099        1271   \n",
       "1           India  34456401  463852  34447536   463655       8865         197   \n",
       "2          Brazil  21960766  611346  21957967   611283       2799          63   \n",
       "3  United Kingdom   9649233  143384   9608568   143337      40665          47   \n",
       "4          Russia   8956136  251796   8918926   250609      37210        1187   \n",
       "\n",
       "   Fatality Rate      Continent  \n",
       "0            1.6  North America  \n",
       "1            1.3           Asia  \n",
       "2            2.8  South America  \n",
       "3            1.5         Europe  \n",
       "4            2.8         Europe  "
      ]
     },
     "execution_count": 15,
     "metadata": {},
     "output_type": "execute_result"
    }
   ],
   "source": [
    "#hide\n",
    "df_table = (pd.DataFrame(dict(Cases=dfc_cases, Deaths=dfc_deaths, PCases=dfp_cases, PDeaths=dfp_deaths))\n",
    "             .sort_values(by=['Cases', 'Deaths'], ascending=[False, False])\n",
    "             .reset_index())\n",
    "df_table.rename(columns={'index': 'Country/Region'}, inplace=True)\n",
    "for c in 'Cases, Deaths'.split(', '):\n",
    "    df_table[f'{c} (+)'] = (df_table[c] - df_table[f'P{c}']).clip(0)  # DATA BUG\n",
    "df_table['Fatality Rate'] = (100 * df_table['Deaths'] / df_table['Cases']).round(1)\n",
    "df_table['Continent'] = df_table['Country/Region'].map(mapping['map.continent'])\n",
    "df_table.head(5)"
   ]
  },
  {
   "cell_type": "code",
   "execution_count": 16,
   "id": "fewer-occasion",
   "metadata": {
    "execution": {
     "iopub.execute_input": "2021-11-17T00:24:47.118884Z",
     "iopub.status.busy": "2021-11-17T00:24:47.118328Z",
     "iopub.status.idle": "2021-11-17T00:24:47.120848Z",
     "shell.execute_reply": "2021-11-17T00:24:47.121378Z"
    },
    "papermill": {
     "duration": 0.043385,
     "end_time": "2021-11-17T00:24:47.121505",
     "exception": false,
     "start_time": "2021-11-17T00:24:47.078120",
     "status": "completed"
    },
    "tags": []
   },
   "outputs": [],
   "source": [
    "#hide\n",
    "#delete problematic countries from table\n",
    "df_table = df_table[~df_table['Country/Region'].isin(['Cape Verde', 'Cruise Ship', 'Kosovo'])]"
   ]
  },
  {
   "cell_type": "code",
   "execution_count": 17,
   "id": "related-center",
   "metadata": {
    "execution": {
     "iopub.execute_input": "2021-11-17T00:24:47.199196Z",
     "iopub.status.busy": "2021-11-17T00:24:47.198479Z",
     "iopub.status.idle": "2021-11-17T00:24:47.213735Z",
     "shell.execute_reply": "2021-11-17T00:24:47.213178Z"
    },
    "papermill": {
     "duration": 0.059439,
     "end_time": "2021-11-17T00:24:47.213922",
     "exception": false,
     "start_time": "2021-11-17T00:24:47.154483",
     "status": "completed"
    },
    "tags": []
   },
   "outputs": [],
   "source": [
    "#hide\n",
    "metrics = [df_table.columns[index] for index in [1,2,5,6]]\n",
    "# s_china = df_table[df_table['Country/Region'].eq('China')][metrics].sum().add_prefix('China ')\n",
    "s_us = df_table[df_table['Country/Region'].eq('US')][metrics].sum().add_prefix('US ')\n",
    "s_eu = df_table[df_table['Continent'].eq('Europe')][metrics].sum().add_prefix('EU ')\n",
    "s_ind = df_table[df_table['Country/Region'].eq('India')][metrics].sum().add_prefix('India ')\n",
    "summary = {'updated': pd.to_datetime(dt_today), 'since': pd.to_datetime(dt_yday)}\n",
    "summary = {'updated': pd.to_datetime(dt_today), 'since': pd.to_datetime(dt_yday)}\n",
    "summary = {**summary, **df_table[metrics].sum(), **s_ind, **s_us, **s_eu}"
   ]
  },
  {
   "cell_type": "code",
   "execution_count": 18,
   "id": "engaging-syndrome",
   "metadata": {
    "execution": {
     "iopub.execute_input": "2021-11-17T00:24:47.289157Z",
     "iopub.status.busy": "2021-11-17T00:24:47.288624Z",
     "iopub.status.idle": "2021-11-17T00:24:47.302074Z",
     "shell.execute_reply": "2021-11-17T00:24:47.302567Z"
    },
    "papermill": {
     "duration": 0.052742,
     "end_time": "2021-11-17T00:24:47.302694",
     "exception": false,
     "start_time": "2021-11-17T00:24:47.249952",
     "status": "completed"
    },
    "tags": []
   },
   "outputs": [],
   "source": [
    "#hide\n",
    "dft_ct_new_cases = dft_cases.groupby(COL_REGION)[dt_cols].sum().diff(axis=1).fillna(0).astype(int)"
   ]
  },
  {
   "cell_type": "code",
   "execution_count": 19,
   "id": "neutral-assignment",
   "metadata": {
    "execution": {
     "iopub.execute_input": "2021-11-17T00:24:47.376763Z",
     "iopub.status.busy": "2021-11-17T00:24:47.376146Z",
     "iopub.status.idle": "2021-11-17T00:24:47.377968Z",
     "shell.execute_reply": "2021-11-17T00:24:47.378445Z"
    },
    "papermill": {
     "duration": 0.042849,
     "end_time": "2021-11-17T00:24:47.378579",
     "exception": false,
     "start_time": "2021-11-17T00:24:47.335730",
     "status": "completed"
    },
    "tags": []
   },
   "outputs": [],
   "source": [
    "#hide\n",
    "everydaycases = dft_ct_new_cases.cumsum(axis=1)"
   ]
  },
  {
   "cell_type": "code",
   "execution_count": 20,
   "id": "parliamentary-calgary",
   "metadata": {
    "execution": {
     "iopub.execute_input": "2021-11-17T00:24:47.455767Z",
     "iopub.status.busy": "2021-11-17T00:24:47.455135Z",
     "iopub.status.idle": "2021-11-17T00:24:48.057248Z",
     "shell.execute_reply": "2021-11-17T00:24:48.056737Z"
    },
    "papermill": {
     "duration": 0.644267,
     "end_time": "2021-11-17T00:24:48.057386",
     "exception": false,
     "start_time": "2021-11-17T00:24:47.413119",
     "status": "completed"
    },
    "tags": []
   },
   "outputs": [],
   "source": [
    "#hide\n",
    "import pandas as pd\n",
    "import matplotlib.pyplot as plt\n",
    "import matplotlib.ticker as ticker\n",
    "import matplotlib.animation as animation\n",
    "from IPython.display import HTML"
   ]
  },
  {
   "cell_type": "code",
   "execution_count": 21,
   "id": "lasting-extraction",
   "metadata": {
    "execution": {
     "iopub.execute_input": "2021-11-17T00:24:48.145748Z",
     "iopub.status.busy": "2021-11-17T00:24:48.144976Z",
     "iopub.status.idle": "2021-11-17T00:24:48.151369Z",
     "shell.execute_reply": "2021-11-17T00:24:48.151857Z"
    },
    "papermill": {
     "duration": 0.055135,
     "end_time": "2021-11-17T00:24:48.152018",
     "exception": false,
     "start_time": "2021-11-17T00:24:48.096883",
     "status": "completed"
    },
    "tags": []
   },
   "outputs": [],
   "source": [
    "#hide\n",
    "t = everydaycases.stack()"
   ]
  },
  {
   "cell_type": "code",
   "execution_count": 22,
   "id": "premier-sleeve",
   "metadata": {
    "execution": {
     "iopub.execute_input": "2021-11-17T00:24:48.236562Z",
     "iopub.status.busy": "2021-11-17T00:24:48.235749Z",
     "iopub.status.idle": "2021-11-17T00:24:48.247561Z",
     "shell.execute_reply": "2021-11-17T00:24:48.246807Z"
    },
    "papermill": {
     "duration": 0.056555,
     "end_time": "2021-11-17T00:24:48.247698",
     "exception": false,
     "start_time": "2021-11-17T00:24:48.191143",
     "status": "completed"
    },
    "tags": []
   },
   "outputs": [],
   "source": [
    "#hide\n",
    "g = t.reset_index(['Country/Region'])"
   ]
  },
  {
   "cell_type": "code",
   "execution_count": 23,
   "id": "distributed-pittsburgh",
   "metadata": {
    "execution": {
     "iopub.execute_input": "2021-11-17T00:24:48.328134Z",
     "iopub.status.busy": "2021-11-17T00:24:48.327430Z",
     "iopub.status.idle": "2021-11-17T00:24:48.331658Z",
     "shell.execute_reply": "2021-11-17T00:24:48.331012Z"
    },
    "papermill": {
     "duration": 0.045127,
     "end_time": "2021-11-17T00:24:48.331778",
     "exception": false,
     "start_time": "2021-11-17T00:24:48.286651",
     "status": "completed"
    },
    "tags": []
   },
   "outputs": [],
   "source": [
    "#hide\n",
    "g.index.name = 'date'"
   ]
  },
  {
   "cell_type": "code",
   "execution_count": 24,
   "id": "naked-donor",
   "metadata": {
    "execution": {
     "iopub.execute_input": "2021-11-17T00:24:48.414095Z",
     "iopub.status.busy": "2021-11-17T00:24:48.413250Z",
     "iopub.status.idle": "2021-11-17T00:24:48.415917Z",
     "shell.execute_reply": "2021-11-17T00:24:48.415355Z"
    },
    "papermill": {
     "duration": 0.044272,
     "end_time": "2021-11-17T00:24:48.416037",
     "exception": false,
     "start_time": "2021-11-17T00:24:48.371765",
     "status": "completed"
    },
    "tags": []
   },
   "outputs": [],
   "source": [
    "# #hide\n",
    "# g = g.reset_index(['date'])"
   ]
  },
  {
   "cell_type": "code",
   "execution_count": 25,
   "id": "incomplete-mustang",
   "metadata": {
    "execution": {
     "iopub.execute_input": "2021-11-17T00:24:48.496170Z",
     "iopub.status.busy": "2021-11-17T00:24:48.495568Z",
     "iopub.status.idle": "2021-11-17T00:24:48.498037Z",
     "shell.execute_reply": "2021-11-17T00:24:48.497513Z"
    },
    "papermill": {
     "duration": 0.044574,
     "end_time": "2021-11-17T00:24:48.498185",
     "exception": false,
     "start_time": "2021-11-17T00:24:48.453611",
     "status": "completed"
    },
    "tags": []
   },
   "outputs": [],
   "source": [
    "#hide\n",
    "# g.head()"
   ]
  },
  {
   "cell_type": "code",
   "execution_count": 26,
   "id": "specific-kruger",
   "metadata": {
    "execution": {
     "iopub.execute_input": "2021-11-17T00:24:48.576963Z",
     "iopub.status.busy": "2021-11-17T00:24:48.576323Z",
     "iopub.status.idle": "2021-11-17T00:24:48.578263Z",
     "shell.execute_reply": "2021-11-17T00:24:48.578855Z"
    },
    "papermill": {
     "duration": 0.043061,
     "end_time": "2021-11-17T00:24:48.579017",
     "exception": false,
     "start_time": "2021-11-17T00:24:48.535956",
     "status": "completed"
    },
    "tags": []
   },
   "outputs": [],
   "source": [
    "#hide\n",
    "# g.columns = ['date','country','cases']"
   ]
  },
  {
   "cell_type": "code",
   "execution_count": 27,
   "id": "tender-conversion",
   "metadata": {
    "execution": {
     "iopub.execute_input": "2021-11-17T00:24:48.667256Z",
     "iopub.status.busy": "2021-11-17T00:24:48.666489Z",
     "iopub.status.idle": "2021-11-17T00:24:48.670672Z",
     "shell.execute_reply": "2021-11-17T00:24:48.671200Z"
    },
    "papermill": {
     "duration": 0.052861,
     "end_time": "2021-11-17T00:24:48.671369",
     "exception": false,
     "start_time": "2021-11-17T00:24:48.618508",
     "status": "completed"
    },
    "tags": []
   },
   "outputs": [],
   "source": [
    "#hide\n",
    "# g['continent'] = g.country"
   ]
  },
  {
   "cell_type": "code",
   "execution_count": 28,
   "id": "substantial-wilderness",
   "metadata": {
    "execution": {
     "iopub.execute_input": "2021-11-17T00:24:48.758909Z",
     "iopub.status.busy": "2021-11-17T00:24:48.758082Z",
     "iopub.status.idle": "2021-11-17T00:24:48.760821Z",
     "shell.execute_reply": "2021-11-17T00:24:48.760038Z"
    },
    "papermill": {
     "duration": 0.047052,
     "end_time": "2021-11-17T00:24:48.760990",
     "exception": false,
     "start_time": "2021-11-17T00:24:48.713938",
     "status": "completed"
    },
    "tags": []
   },
   "outputs": [],
   "source": [
    "#hide\n",
    "# cols = list(g.columns.values)"
   ]
  },
  {
   "cell_type": "code",
   "execution_count": 29,
   "id": "solved-farming",
   "metadata": {
    "execution": {
     "iopub.execute_input": "2021-11-17T00:24:48.845776Z",
     "iopub.status.busy": "2021-11-17T00:24:48.845128Z",
     "iopub.status.idle": "2021-11-17T00:24:48.853043Z",
     "shell.execute_reply": "2021-11-17T00:24:48.853505Z"
    },
    "papermill": {
     "duration": 0.051298,
     "end_time": "2021-11-17T00:24:48.853645",
     "exception": false,
     "start_time": "2021-11-17T00:24:48.802347",
     "status": "completed"
    },
    "tags": []
   },
   "outputs": [],
   "source": [
    "#hide\n",
    "# cols.insert(0, cols.pop())"
   ]
  },
  {
   "cell_type": "code",
   "execution_count": 30,
   "id": "executed-adoption",
   "metadata": {
    "execution": {
     "iopub.execute_input": "2021-11-17T00:24:48.932394Z",
     "iopub.status.busy": "2021-11-17T00:24:48.931817Z",
     "iopub.status.idle": "2021-11-17T00:24:48.933934Z",
     "shell.execute_reply": "2021-11-17T00:24:48.933321Z"
    },
    "papermill": {
     "duration": 0.041979,
     "end_time": "2021-11-17T00:24:48.934067",
     "exception": false,
     "start_time": "2021-11-17T00:24:48.892088",
     "status": "completed"
    },
    "tags": []
   },
   "outputs": [],
   "source": [
    "#hide\n",
    "# g = g[cols]"
   ]
  },
  {
   "cell_type": "code",
   "execution_count": 31,
   "id": "subject-dublin",
   "metadata": {
    "execution": {
     "iopub.execute_input": "2021-11-17T00:24:49.013579Z",
     "iopub.status.busy": "2021-11-17T00:24:49.012933Z",
     "iopub.status.idle": "2021-11-17T00:24:49.015830Z",
     "shell.execute_reply": "2021-11-17T00:24:49.014726Z"
    },
    "papermill": {
     "duration": 0.044645,
     "end_time": "2021-11-17T00:24:49.016021",
     "exception": false,
     "start_time": "2021-11-17T00:24:48.971376",
     "status": "completed"
    },
    "tags": []
   },
   "outputs": [],
   "source": [
    "#hide\n",
    "# g['continent'] = g['continent'].map(mapping['map.continent'])"
   ]
  },
  {
   "cell_type": "code",
   "execution_count": 32,
   "id": "freelance-scout",
   "metadata": {
    "execution": {
     "iopub.execute_input": "2021-11-17T00:24:49.093901Z",
     "iopub.status.busy": "2021-11-17T00:24:49.093268Z",
     "iopub.status.idle": "2021-11-17T00:24:49.095402Z",
     "shell.execute_reply": "2021-11-17T00:24:49.094826Z"
    },
    "papermill": {
     "duration": 0.041739,
     "end_time": "2021-11-17T00:24:49.095521",
     "exception": false,
     "start_time": "2021-11-17T00:24:49.053782",
     "status": "completed"
    },
    "tags": []
   },
   "outputs": [],
   "source": [
    "#hide\n",
    "# g.head()"
   ]
  },
  {
   "cell_type": "code",
   "execution_count": 33,
   "id": "limited-engine",
   "metadata": {
    "execution": {
     "iopub.execute_input": "2021-11-17T00:24:49.170744Z",
     "iopub.status.busy": "2021-11-17T00:24:49.169990Z",
     "iopub.status.idle": "2021-11-17T00:24:49.173173Z",
     "shell.execute_reply": "2021-11-17T00:24:49.172549Z"
    },
    "papermill": {
     "duration": 0.04307,
     "end_time": "2021-11-17T00:24:49.173297",
     "exception": false,
     "start_time": "2021-11-17T00:24:49.130227",
     "status": "completed"
    },
    "tags": []
   },
   "outputs": [],
   "source": [
    "# hide\n",
    "# g['date'] = g['date'].astype('datetime64[ns]')"
   ]
  },
  {
   "cell_type": "code",
   "execution_count": 34,
   "id": "sophisticated-supervisor",
   "metadata": {
    "execution": {
     "iopub.execute_input": "2021-11-17T00:24:49.256023Z",
     "iopub.status.busy": "2021-11-17T00:24:49.255445Z",
     "iopub.status.idle": "2021-11-17T00:24:49.257458Z",
     "shell.execute_reply": "2021-11-17T00:24:49.256912Z"
    },
    "papermill": {
     "duration": 0.039422,
     "end_time": "2021-11-17T00:24:49.257574",
     "exception": false,
     "start_time": "2021-11-17T00:24:49.218152",
     "status": "completed"
    },
    "tags": []
   },
   "outputs": [],
   "source": [
    "#hide\n",
    "# g['date'] = g.date.dt.dayofyear"
   ]
  },
  {
   "cell_type": "code",
   "execution_count": 35,
   "id": "inside-dubai",
   "metadata": {
    "execution": {
     "iopub.execute_input": "2021-11-17T00:24:49.338364Z",
     "iopub.status.busy": "2021-11-17T00:24:49.337772Z",
     "iopub.status.idle": "2021-11-17T00:24:49.342191Z",
     "shell.execute_reply": "2021-11-17T00:24:49.341743Z"
    },
    "papermill": {
     "duration": 0.048569,
     "end_time": "2021-11-17T00:24:49.342324",
     "exception": false,
     "start_time": "2021-11-17T00:24:49.293755",
     "status": "completed"
    },
    "tags": []
   },
   "outputs": [],
   "source": [
    "#hide\n",
    "# g = g.rename(columns= {'continent':'group','country':'name','cases':'value'})"
   ]
  },
  {
   "cell_type": "code",
   "execution_count": 36,
   "id": "fleet-motorcycle",
   "metadata": {
    "execution": {
     "iopub.execute_input": "2021-11-17T00:24:49.424951Z",
     "iopub.status.busy": "2021-11-17T00:24:49.424253Z",
     "iopub.status.idle": "2021-11-17T00:24:49.426679Z",
     "shell.execute_reply": "2021-11-17T00:24:49.426022Z"
    },
    "papermill": {
     "duration": 0.042977,
     "end_time": "2021-11-17T00:24:49.426809",
     "exception": false,
     "start_time": "2021-11-17T00:24:49.383832",
     "status": "completed"
    },
    "tags": []
   },
   "outputs": [],
   "source": [
    "#hide\n",
    "# cols = ['name','group','day','value']"
   ]
  },
  {
   "cell_type": "code",
   "execution_count": 37,
   "id": "continued-sleeping",
   "metadata": {
    "execution": {
     "iopub.execute_input": "2021-11-17T00:24:49.511322Z",
     "iopub.status.busy": "2021-11-17T00:24:49.510654Z",
     "iopub.status.idle": "2021-11-17T00:24:49.515213Z",
     "shell.execute_reply": "2021-11-17T00:24:49.514426Z"
    },
    "papermill": {
     "duration": 0.051649,
     "end_time": "2021-11-17T00:24:49.515375",
     "exception": false,
     "start_time": "2021-11-17T00:24:49.463726",
     "status": "completed"
    },
    "tags": []
   },
   "outputs": [],
   "source": [
    "#hide\n",
    "# g.rename(columns= {'date':'day'},inplace = True)"
   ]
  },
  {
   "cell_type": "code",
   "execution_count": 38,
   "id": "major-fight",
   "metadata": {
    "execution": {
     "iopub.execute_input": "2021-11-17T00:24:49.603728Z",
     "iopub.status.busy": "2021-11-17T00:24:49.603032Z",
     "iopub.status.idle": "2021-11-17T00:24:49.610284Z",
     "shell.execute_reply": "2021-11-17T00:24:49.610838Z"
    },
    "papermill": {
     "duration": 0.055482,
     "end_time": "2021-11-17T00:24:49.610975",
     "exception": false,
     "start_time": "2021-11-17T00:24:49.555493",
     "status": "completed"
    },
    "tags": []
   },
   "outputs": [],
   "source": [
    "#hide\n",
    "# g = g[cols]"
   ]
  },
  {
   "cell_type": "code",
   "execution_count": 39,
   "id": "structured-mobile",
   "metadata": {
    "execution": {
     "iopub.execute_input": "2021-11-17T00:24:49.697108Z",
     "iopub.status.busy": "2021-11-17T00:24:49.696137Z",
     "iopub.status.idle": "2021-11-17T00:24:49.699164Z",
     "shell.execute_reply": "2021-11-17T00:24:49.698424Z"
    },
    "papermill": {
     "duration": 0.048867,
     "end_time": "2021-11-17T00:24:49.699289",
     "exception": false,
     "start_time": "2021-11-17T00:24:49.650422",
     "status": "completed"
    },
    "tags": []
   },
   "outputs": [],
   "source": [
    "# #hide\n",
    "# g = g[g.group.notna()]"
   ]
  },
  {
   "cell_type": "code",
   "execution_count": 40,
   "id": "determined-closing",
   "metadata": {
    "execution": {
     "iopub.execute_input": "2021-11-17T00:24:49.780513Z",
     "iopub.status.busy": "2021-11-17T00:24:49.779604Z",
     "iopub.status.idle": "2021-11-17T00:24:49.782743Z",
     "shell.execute_reply": "2021-11-17T00:24:49.783262Z"
    },
    "papermill": {
     "duration": 0.044802,
     "end_time": "2021-11-17T00:24:49.783399",
     "exception": false,
     "start_time": "2021-11-17T00:24:49.738597",
     "status": "completed"
    },
    "tags": []
   },
   "outputs": [],
   "source": [
    "# #hide\n",
    "# colors = dict(zip(\n",
    "#     [\"Oceania\", \"Europe\", \"Asia\", \"South America\", \"Middle East\", \"North America\", \"Africa\"],\n",
    "#     [\"#adb0ff\", \"#ffb3ff\", \"#90d595\", \"#e48381\", \"#aafbff\", \"#f7bb5f\", \"#eafb50\"]\n",
    "# ))\n",
    "# group_lk = g.set_index('name')['group'].to_dict()"
   ]
  },
  {
   "cell_type": "code",
   "execution_count": null,
   "id": "gross-drinking",
   "metadata": {
    "papermill": {
     "duration": 0.034884,
     "end_time": "2021-11-17T00:24:49.855728",
     "exception": false,
     "start_time": "2021-11-17T00:24:49.820844",
     "status": "completed"
    },
    "tags": []
   },
   "outputs": [],
   "source": []
  },
  {
   "cell_type": "code",
   "execution_count": 41,
   "id": "subject-macintosh",
   "metadata": {
    "execution": {
     "iopub.execute_input": "2021-11-17T00:24:49.933547Z",
     "iopub.status.busy": "2021-11-17T00:24:49.932944Z",
     "iopub.status.idle": "2021-11-17T00:24:49.935797Z",
     "shell.execute_reply": "2021-11-17T00:24:49.935287Z"
    },
    "papermill": {
     "duration": 0.043855,
     "end_time": "2021-11-17T00:24:49.935921",
     "exception": false,
     "start_time": "2021-11-17T00:24:49.892066",
     "status": "completed"
    },
    "tags": []
   },
   "outputs": [],
   "source": [
    "# #hide\n",
    "# fig, ax = plt.subplots(figsize=(15, 8))\n",
    "\n",
    "# def draw_barchart(current_day):\n",
    "#     dff = g[g['day'].eq(current_day)].sort_values(by='value', ascending=True).tail(10)\n",
    "#     ax.clear()\n",
    "#     ax.barh(dff['name'], dff['value'], color=[colors[group_lk[x]] for x in dff['name']])\n",
    "#     dx = dff['value'].max() / 200\n",
    "    \n",
    "#     for i, (value, name) in enumerate(zip(dff['value'], dff['name'])):\n",
    "#         ax.text(value-dx, i,     name,           size=14, weight=600, ha='right', va='bottom')\n",
    "#         ax.text(value-dx, i-.25, group_lk[name], size=10, color='#444444', ha='right', va='baseline')\n",
    "#         ax.text(value+dx, i,     f'{value:,.0f}',  size=14, ha='left',  va='center')\n",
    "#     ax.text(1, 0.4, current_day, transform=ax.transAxes, color='#777777', size=46, ha='right', weight=800)\n",
    "#     ax.text(0, 1.06, 'Population (thousands)', transform=ax.transAxes, size=12, color='#777777')\n",
    "#     ax.xaxis.set_major_formatter(ticker.StrMethodFormatter('{x:,.0f}'))\n",
    "#     ax.xaxis.set_ticks_position('top')\n",
    "#     ax.tick_params(axis='x', colors='#777777', labelsize=12)\n",
    "#     ax.set_yticks([])\n",
    "#     ax.margins(0, 0.01)\n",
    "#     ax.grid(which='major', axis='x', linestyle='-')\n",
    "#     ax.set_axisbelow(True)\n",
    "    \n",
    "#     ax.text(0, 1.15, 'Coronavirus',\n",
    "#             transform=ax.transAxes, size=24, weight=600, ha='left', va='top')\n",
    "# #     ax.text(1, 0, 'by @pratapvardhan; credit @jburnmurdoch', transform=ax.transAxes, color='#777777', ha='right',\n",
    "# #             bbox=dict(facecolor='white', alpha=0.8, edgecolor='white'))\n",
    "#     plt.box(False)"
   ]
  },
  {
   "cell_type": "code",
   "execution_count": 42,
   "id": "sexual-wages",
   "metadata": {
    "execution": {
     "iopub.execute_input": "2021-11-17T00:24:50.015852Z",
     "iopub.status.busy": "2021-11-17T00:24:50.015165Z",
     "iopub.status.idle": "2021-11-17T00:24:50.019475Z",
     "shell.execute_reply": "2021-11-17T00:24:50.018981Z"
    },
    "papermill": {
     "duration": 0.042952,
     "end_time": "2021-11-17T00:24:50.019629",
     "exception": false,
     "start_time": "2021-11-17T00:24:49.976677",
     "status": "completed"
    },
    "tags": []
   },
   "outputs": [],
   "source": [
    "# #hide_input\n",
    "# fig, ax = plt.subplots(figsize=(15, 8))\n",
    "# animator = animation.FuncAnimation(fig, draw_barchart, frames=range(g.day.values.min(), g.day.values.max()))\n",
    "# HTML(animator.to_jshtml())\n",
    "# # or use animator.to_html5_video() or animator.save() "
   ]
  },
  {
   "cell_type": "code",
   "execution_count": null,
   "id": "australian-container",
   "metadata": {
    "papermill": {
     "duration": 0.037472,
     "end_time": "2021-11-17T00:24:50.092336",
     "exception": false,
     "start_time": "2021-11-17T00:24:50.054864",
     "status": "completed"
    },
    "tags": []
   },
   "outputs": [],
   "source": []
  },
  {
   "cell_type": "code",
   "execution_count": null,
   "id": "mediterranean-pontiac",
   "metadata": {
    "papermill": {
     "duration": 0.039057,
     "end_time": "2021-11-17T00:24:50.165861",
     "exception": false,
     "start_time": "2021-11-17T00:24:50.126804",
     "status": "completed"
    },
    "tags": []
   },
   "outputs": [],
   "source": []
  },
  {
   "cell_type": "code",
   "execution_count": null,
   "id": "aging-legislature",
   "metadata": {
    "papermill": {
     "duration": 0.036664,
     "end_time": "2021-11-17T00:24:50.242040",
     "exception": false,
     "start_time": "2021-11-17T00:24:50.205376",
     "status": "completed"
    },
    "tags": []
   },
   "outputs": [],
   "source": []
  }
 ],
 "metadata": {
  "kernelspec": {
   "display_name": "Python 3",
   "language": "python",
   "name": "python3"
  },
  "language_info": {
   "codemirror_mode": {
    "name": "ipython",
    "version": 3
   },
   "file_extension": ".py",
   "mimetype": "text/x-python",
   "name": "python",
   "nbconvert_exporter": "python",
   "pygments_lexer": "ipython3",
   "version": "3.6.15"
  },
  "papermill": {
   "duration": 6.857774,
   "end_time": "2021-11-17T00:24:50.591015",
   "environment_variables": {},
   "exception": null,
   "input_path": "2020-03-21-covid19exp.ipynb",
   "output_path": "2020-03-21-covid19exp.ipynb",
   "parameters": {},
   "start_time": "2021-11-17T00:24:43.733241",
   "version": "2.0.0"
  }
 },
 "nbformat": 4,
 "nbformat_minor": 5
}