{
 "cells": [
  {
   "cell_type": "markdown",
   "id": "muslim-click",
   "metadata": {
    "papermill": {
     "duration": 0.035402,
     "end_time": "2021-08-03T12:10:24.025238",
     "exception": false,
     "start_time": "2021-08-03T12:10:23.989836",
     "status": "completed"
    },
    "tags": []
   },
   "source": [
    "# COVID-19 Case Race\n",
    "> A race chart to see rising cases around the world\n",
    "\n",
    "- author: Hargun Oberoi\n",
    "- image: images/covid-overview.png\n",
    "- hide: false\n",
    "- badges: false"
   ]
  },
  {
   "cell_type": "code",
   "execution_count": 1,
   "id": "proof-material",
   "metadata": {
    "execution": {
     "iopub.execute_input": "2021-08-03T12:10:24.101983Z",
     "iopub.status.busy": "2021-08-03T12:10:24.100939Z",
     "iopub.status.idle": "2021-08-03T12:10:24.441665Z",
     "shell.execute_reply": "2021-08-03T12:10:24.441129Z"
    },
    "papermill": {
     "duration": 0.385918,
     "end_time": "2021-08-03T12:10:24.441808",
     "exception": false,
     "start_time": "2021-08-03T12:10:24.055890",
     "status": "completed"
    },
    "tags": []
   },
   "outputs": [],
   "source": [
    "#hide\n",
    "import numpy as np\n",
    "import pandas as pd\n",
    "from jinja2 import Template\n",
    "from IPython.display import HTML"
   ]
  },
  {
   "cell_type": "code",
   "execution_count": 2,
   "id": "developed-terminology",
   "metadata": {
    "execution": {
     "iopub.execute_input": "2021-08-03T12:10:24.507868Z",
     "iopub.status.busy": "2021-08-03T12:10:24.507288Z",
     "iopub.status.idle": "2021-08-03T12:10:24.510052Z",
     "shell.execute_reply": "2021-08-03T12:10:24.510577Z"
    },
    "papermill": {
     "duration": 0.038765,
     "end_time": "2021-08-03T12:10:24.510707",
     "exception": false,
     "start_time": "2021-08-03T12:10:24.471942",
     "status": "completed"
    },
    "tags": []
   },
   "outputs": [],
   "source": [
    "#hide\n",
    "\n",
    "# FETCH\n",
    "base_url = 'https://raw.githubusercontent.com/pratapvardhan/notebooks/master/covid19/'\n",
    "paths = {\n",
    "    'mapping': base_url + 'mapping_countries.csv',\n",
    "    'overview': base_url + 'overview.tpl'\n",
    "}"
   ]
  },
  {
   "cell_type": "code",
   "execution_count": 3,
   "id": "dynamic-saver",
   "metadata": {
    "execution": {
     "iopub.execute_input": "2021-08-03T12:10:24.575875Z",
     "iopub.status.busy": "2021-08-03T12:10:24.575329Z",
     "iopub.status.idle": "2021-08-03T12:10:24.578038Z",
     "shell.execute_reply": "2021-08-03T12:10:24.577655Z"
    },
    "papermill": {
     "duration": 0.039938,
     "end_time": "2021-08-03T12:10:24.578118",
     "exception": false,
     "start_time": "2021-08-03T12:10:24.538180",
     "status": "completed"
    },
    "tags": []
   },
   "outputs": [
    {
     "data": {
      "text/plain": [
       "'https://raw.githubusercontent.com/pratapvardhan/notebooks/master/covid19/mapping_countries.csv'"
      ]
     },
     "execution_count": 3,
     "metadata": {},
     "output_type": "execute_result"
    }
   ],
   "source": [
    "#hide\n",
    "paths['mapping']"
   ]
  },
  {
   "cell_type": "code",
   "execution_count": 4,
   "id": "urban-software",
   "metadata": {
    "execution": {
     "iopub.execute_input": "2021-08-03T12:10:24.639859Z",
     "iopub.status.busy": "2021-08-03T12:10:24.639377Z",
     "iopub.status.idle": "2021-08-03T12:10:24.642665Z",
     "shell.execute_reply": "2021-08-03T12:10:24.642174Z"
    },
    "papermill": {
     "duration": 0.036706,
     "end_time": "2021-08-03T12:10:24.642774",
     "exception": false,
     "start_time": "2021-08-03T12:10:24.606068",
     "status": "completed"
    },
    "tags": []
   },
   "outputs": [],
   "source": [
    "#hide\n",
    "def get_mappings(url):\n",
    "    df = pd.read_csv(url)\n",
    "    return {\n",
    "        'df': df,\n",
    "        'replace.country': dict(df.dropna(subset=['Name']).set_index('Country')['Name']),\n",
    "        'map.continent': dict(df.set_index('Name')['Continent'])\n",
    "    }"
   ]
  },
  {
   "cell_type": "code",
   "execution_count": 5,
   "id": "intimate-machinery",
   "metadata": {
    "execution": {
     "iopub.execute_input": "2021-08-03T12:10:24.708539Z",
     "iopub.status.busy": "2021-08-03T12:10:24.708076Z",
     "iopub.status.idle": "2021-08-03T12:10:24.785220Z",
     "shell.execute_reply": "2021-08-03T12:10:24.784496Z"
    },
    "papermill": {
     "duration": 0.1131,
     "end_time": "2021-08-03T12:10:24.785394",
     "exception": false,
     "start_time": "2021-08-03T12:10:24.672294",
     "status": "completed"
    },
    "tags": []
   },
   "outputs": [],
   "source": [
    "#hide\n",
    "mapping = get_mappings(paths['mapping'])"
   ]
  },
  {
   "cell_type": "code",
   "execution_count": 6,
   "id": "certified-tactics",
   "metadata": {
    "execution": {
     "iopub.execute_input": "2021-08-03T12:10:24.852270Z",
     "iopub.status.busy": "2021-08-03T12:10:24.851770Z",
     "iopub.status.idle": "2021-08-03T12:10:24.853933Z",
     "shell.execute_reply": "2021-08-03T12:10:24.854453Z"
    },
    "papermill": {
     "duration": 0.0363,
     "end_time": "2021-08-03T12:10:24.854574",
     "exception": false,
     "start_time": "2021-08-03T12:10:24.818274",
     "status": "completed"
    },
    "tags": []
   },
   "outputs": [],
   "source": [
    "#hide\n",
    "def get_template(path):\n",
    "    from urllib.parse import urlparse\n",
    "    if bool(urlparse(path).netloc):\n",
    "        from urllib.request import urlopen\n",
    "        return urlopen(path).read().decode('utf8')\n",
    "    return open(path).read()"
   ]
  },
  {
   "cell_type": "code",
   "execution_count": 7,
   "id": "realistic-blast",
   "metadata": {
    "execution": {
     "iopub.execute_input": "2021-08-03T12:10:24.917183Z",
     "iopub.status.busy": "2021-08-03T12:10:24.916602Z",
     "iopub.status.idle": "2021-08-03T12:10:24.918849Z",
     "shell.execute_reply": "2021-08-03T12:10:24.918395Z"
    },
    "papermill": {
     "duration": 0.036378,
     "end_time": "2021-08-03T12:10:24.918954",
     "exception": false,
     "start_time": "2021-08-03T12:10:24.882576",
     "status": "completed"
    },
    "tags": []
   },
   "outputs": [],
   "source": [
    "#hide\n",
    "def get_frame(name):\n",
    "    url = (\n",
    "        'https://raw.githubusercontent.com/CSSEGISandData/COVID-19/master/csse_covid_19_data/'\n",
    "        f'csse_covid_19_time_series/time_series_covid19_{name}_global.csv')\n",
    "    df = pd.read_csv(url)\n",
    "    # rename countries\n",
    "    df['Country/Region'] = df['Country/Region'].replace(mapping['replace.country'])\n",
    "    return df"
   ]
  },
  {
   "cell_type": "code",
   "execution_count": 8,
   "id": "affiliated-characterization",
   "metadata": {
    "execution": {
     "iopub.execute_input": "2021-08-03T12:10:24.986735Z",
     "iopub.status.busy": "2021-08-03T12:10:24.986233Z",
     "iopub.status.idle": "2021-08-03T12:10:24.988543Z",
     "shell.execute_reply": "2021-08-03T12:10:24.989090Z"
    },
    "papermill": {
     "duration": 0.039262,
     "end_time": "2021-08-03T12:10:24.989223",
     "exception": false,
     "start_time": "2021-08-03T12:10:24.949961",
     "status": "completed"
    },
    "tags": []
   },
   "outputs": [],
   "source": [
    "#hide\n",
    "def get_dates(df):\n",
    "    dt_cols = df.columns[~df.columns.isin(['Province/State', 'Country/Region', 'Lat', 'Long'])]\n",
    "    LAST_DATE_I = -1\n",
    "    # sometimes last column may be empty, then go backwards\n",
    "    for i in range(-1, -len(dt_cols), -1):\n",
    "        if not df[dt_cols[i]].fillna(0).eq(0).all():\n",
    "            LAST_DATE_I = i\n",
    "            break\n",
    "    return LAST_DATE_I, dt_cols"
   ]
  },
  {
   "cell_type": "code",
   "execution_count": 9,
   "id": "recent-optimization",
   "metadata": {
    "execution": {
     "iopub.execute_input": "2021-08-03T12:10:25.054419Z",
     "iopub.status.busy": "2021-08-03T12:10:25.053882Z",
     "iopub.status.idle": "2021-08-03T12:10:25.584193Z",
     "shell.execute_reply": "2021-08-03T12:10:25.583027Z"
    },
    "papermill": {
     "duration": 0.56611,
     "end_time": "2021-08-03T12:10:25.584335",
     "exception": false,
     "start_time": "2021-08-03T12:10:25.018225",
     "status": "completed"
    },
    "tags": []
   },
   "outputs": [],
   "source": [
    "#hide\n",
    "COL_REGION = 'Country/Region'\n",
    "# Confirmed, Recovered, Deaths\n",
    "df = get_frame('confirmed')\n",
    "# dft_: timeseries, dfc_: today country agg\n",
    "dft_cases = df\n",
    "dft_deaths = get_frame('deaths')\n",
    "dft_recovered = get_frame('recovered')\n",
    "LAST_DATE_I, dt_cols = get_dates(df)"
   ]
  },
  {
   "cell_type": "code",
   "execution_count": 10,
   "id": "absolute-copper",
   "metadata": {
    "execution": {
     "iopub.execute_input": "2021-08-03T12:10:25.654062Z",
     "iopub.status.busy": "2021-08-03T12:10:25.652933Z",
     "iopub.status.idle": "2021-08-03T12:10:25.654598Z",
     "shell.execute_reply": "2021-08-03T12:10:25.654972Z"
    },
    "papermill": {
     "duration": 0.038129,
     "end_time": "2021-08-03T12:10:25.655089",
     "exception": false,
     "start_time": "2021-08-03T12:10:25.616960",
     "status": "completed"
    },
    "tags": []
   },
   "outputs": [],
   "source": [
    "#hide\n",
    "LAST_DATE_I, dt_cols = get_dates(df)\n",
    "dt_today =dt_cols[LAST_DATE_I]\n",
    "# dt_5day = dt_cols[LAST_DATE_I - 5]\n",
    "dt_yday = dt_cols[LAST_DATE_I - 1]"
   ]
  },
  {
   "cell_type": "code",
   "execution_count": 11,
   "id": "restricted-sheriff",
   "metadata": {
    "execution": {
     "iopub.execute_input": "2021-08-03T12:10:25.719755Z",
     "iopub.status.busy": "2021-08-03T12:10:25.719136Z",
     "iopub.status.idle": "2021-08-03T12:10:25.729097Z",
     "shell.execute_reply": "2021-08-03T12:10:25.728515Z"
    },
    "papermill": {
     "duration": 0.044783,
     "end_time": "2021-08-03T12:10:25.729220",
     "exception": false,
     "start_time": "2021-08-03T12:10:25.684437",
     "status": "completed"
    },
    "tags": []
   },
   "outputs": [],
   "source": [
    "#hide\n",
    "dfc_cases = dft_cases.groupby(COL_REGION)[dt_today].sum()\n",
    "dfc_deaths = dft_deaths.groupby(COL_REGION)[dt_today].sum()\n",
    "# dfp_cases = dft_cases.groupby(COL_REGION)[dt_5day].sum()\n",
    "# dfp_deaths = dft_deaths.groupby(COL_REGION)[dt_5day].sum()\n",
    "dfp_cases = dft_cases.groupby(COL_REGION)[dt_yday].sum()\n",
    "dfp_deaths = dft_deaths.groupby(COL_REGION)[dt_yday].sum()"
   ]
  },
  {
   "cell_type": "code",
   "execution_count": 12,
   "id": "deluxe-hepatitis",
   "metadata": {
    "execution": {
     "iopub.execute_input": "2021-08-03T12:10:25.794280Z",
     "iopub.status.busy": "2021-08-03T12:10:25.793808Z",
     "iopub.status.idle": "2021-08-03T12:10:25.797635Z",
     "shell.execute_reply": "2021-08-03T12:10:25.798037Z"
    },
    "papermill": {
     "duration": 0.039873,
     "end_time": "2021-08-03T12:10:25.798150",
     "exception": false,
     "start_time": "2021-08-03T12:10:25.758277",
     "status": "completed"
    },
    "tags": []
   },
   "outputs": [],
   "source": [
    "#hide\n",
    "df_table = (pd.DataFrame(dict(Cases = dfc_cases, Deaths = dfc_deaths, PCases = dfp_cases, PDeaths = dfp_deaths))\n",
    "            .sort_values(by = ['Cases','Deaths'], ascending = [False, False])\n",
    "            .reset_index())"
   ]
  },
  {
   "cell_type": "code",
   "execution_count": 13,
   "id": "educational-chancellor",
   "metadata": {
    "execution": {
     "iopub.execute_input": "2021-08-03T12:10:25.873855Z",
     "iopub.status.busy": "2021-08-03T12:10:25.873311Z",
     "iopub.status.idle": "2021-08-03T12:10:25.880538Z",
     "shell.execute_reply": "2021-08-03T12:10:25.881027Z"
    },
    "papermill": {
     "duration": 0.053046,
     "end_time": "2021-08-03T12:10:25.881155",
     "exception": false,
     "start_time": "2021-08-03T12:10:25.828109",
     "status": "completed"
    },
    "tags": []
   },
   "outputs": [
    {
     "data": {
      "text/html": [
       "<div>\n",
       "<style scoped>\n",
       "    .dataframe tbody tr th:only-of-type {\n",
       "        vertical-align: middle;\n",
       "    }\n",
       "\n",
       "    .dataframe tbody tr th {\n",
       "        vertical-align: top;\n",
       "    }\n",
       "\n",
       "    .dataframe thead th {\n",
       "        text-align: right;\n",
       "    }\n",
       "</style>\n",
       "<table border=\"1\" class=\"dataframe\">\n",
       "  <thead>\n",
       "    <tr style=\"text-align: right;\">\n",
       "      <th></th>\n",
       "      <th>Country/Region</th>\n",
       "      <th>Cases</th>\n",
       "      <th>Deaths</th>\n",
       "      <th>PCases</th>\n",
       "      <th>PDeaths</th>\n",
       "      <th>Cases (+)</th>\n",
       "      <th>Deaths (+)</th>\n",
       "      <th>Fatality Rate</th>\n",
       "      <th>Continent</th>\n",
       "    </tr>\n",
       "  </thead>\n",
       "  <tbody>\n",
       "    <tr>\n",
       "      <th>0</th>\n",
       "      <td>US</td>\n",
       "      <td>35131393</td>\n",
       "      <td>613679</td>\n",
       "      <td>35003417</td>\n",
       "      <td>613228</td>\n",
       "      <td>127976</td>\n",
       "      <td>451</td>\n",
       "      <td>1.75</td>\n",
       "      <td>North America</td>\n",
       "    </tr>\n",
       "    <tr>\n",
       "      <th>1</th>\n",
       "      <td>India</td>\n",
       "      <td>31726507</td>\n",
       "      <td>425195</td>\n",
       "      <td>31695958</td>\n",
       "      <td>424773</td>\n",
       "      <td>30549</td>\n",
       "      <td>422</td>\n",
       "      <td>1.34</td>\n",
       "      <td>Asia</td>\n",
       "    </tr>\n",
       "    <tr>\n",
       "      <th>2</th>\n",
       "      <td>Brazil</td>\n",
       "      <td>19953501</td>\n",
       "      <td>557223</td>\n",
       "      <td>19938358</td>\n",
       "      <td>556834</td>\n",
       "      <td>15143</td>\n",
       "      <td>389</td>\n",
       "      <td>2.79</td>\n",
       "      <td>South America</td>\n",
       "    </tr>\n",
       "    <tr>\n",
       "      <th>3</th>\n",
       "      <td>Russia</td>\n",
       "      <td>6230482</td>\n",
       "      <td>157496</td>\n",
       "      <td>6207513</td>\n",
       "      <td>156726</td>\n",
       "      <td>22969</td>\n",
       "      <td>770</td>\n",
       "      <td>2.53</td>\n",
       "      <td>Europe</td>\n",
       "    </tr>\n",
       "    <tr>\n",
       "      <th>4</th>\n",
       "      <td>France</td>\n",
       "      <td>6218526</td>\n",
       "      <td>112107</td>\n",
       "      <td>6209934</td>\n",
       "      <td>112073</td>\n",
       "      <td>8592</td>\n",
       "      <td>34</td>\n",
       "      <td>1.80</td>\n",
       "      <td>Europe</td>\n",
       "    </tr>\n",
       "  </tbody>\n",
       "</table>\n",
       "</div>"
      ],
      "text/plain": [
       "  Country/Region     Cases  Deaths    PCases  PDeaths  Cases (+)  Deaths (+)  \\\n",
       "0             US  35131393  613679  35003417   613228     127976         451   \n",
       "1          India  31726507  425195  31695958   424773      30549         422   \n",
       "2         Brazil  19953501  557223  19938358   556834      15143         389   \n",
       "3         Russia   6230482  157496   6207513   156726      22969         770   \n",
       "4         France   6218526  112107   6209934   112073       8592          34   \n",
       "\n",
       "   Fatality Rate      Continent  \n",
       "0           1.75  North America  \n",
       "1           1.34           Asia  \n",
       "2           2.79  South America  \n",
       "3           2.53         Europe  \n",
       "4           1.80         Europe  "
      ]
     },
     "execution_count": 13,
     "metadata": {},
     "output_type": "execute_result"
    }
   ],
   "source": [
    "#hide\n",
    "for c in 'Cases, Deaths'.split(', '):\n",
    "    df_table[f'{c} (+)'] = (df_table[c] - df_table[f'P{c}']).clip(0)\n",
    "    #Clip ça veut dire, les chiffres negatif sont interdit\n",
    "df_table['Fatality Rate'] = (100* df_table['Deaths']/ df_table['Cases']).round(2)\n",
    "df_table['Continent'] = df_table['Country/Region'].map(mapping['map.continent'])\n",
    "df_table.head(5)"
   ]
  },
  {
   "cell_type": "code",
   "execution_count": 14,
   "id": "aboriginal-bulgaria",
   "metadata": {
    "execution": {
     "iopub.execute_input": "2021-08-03T12:10:25.948092Z",
     "iopub.status.busy": "2021-08-03T12:10:25.947588Z",
     "iopub.status.idle": "2021-08-03T12:10:25.950568Z",
     "shell.execute_reply": "2021-08-03T12:10:25.950167Z"
    },
    "papermill": {
     "duration": 0.036462,
     "end_time": "2021-08-03T12:10:25.950661",
     "exception": false,
     "start_time": "2021-08-03T12:10:25.914199",
     "status": "completed"
    },
    "tags": []
   },
   "outputs": [],
   "source": [
    "#hide\n",
    "#delete problematic countries from table\n",
    "df_table = df_table[~df_table['Country/Region'].isin(['Cape Verde', 'Cruise Ship', 'Kosovo'])]"
   ]
  },
  {
   "cell_type": "code",
   "execution_count": 15,
   "id": "fantastic-effect",
   "metadata": {
    "execution": {
     "iopub.execute_input": "2021-08-03T12:10:26.021139Z",
     "iopub.status.busy": "2021-08-03T12:10:26.020399Z",
     "iopub.status.idle": "2021-08-03T12:10:26.038489Z",
     "shell.execute_reply": "2021-08-03T12:10:26.038056Z"
    },
    "papermill": {
     "duration": 0.057075,
     "end_time": "2021-08-03T12:10:26.038601",
     "exception": false,
     "start_time": "2021-08-03T12:10:25.981526",
     "status": "completed"
    },
    "tags": []
   },
   "outputs": [
    {
     "data": {
      "text/html": [
       "<div>\n",
       "<style scoped>\n",
       "    .dataframe tbody tr th:only-of-type {\n",
       "        vertical-align: middle;\n",
       "    }\n",
       "\n",
       "    .dataframe tbody tr th {\n",
       "        vertical-align: top;\n",
       "    }\n",
       "\n",
       "    .dataframe thead th {\n",
       "        text-align: right;\n",
       "    }\n",
       "</style>\n",
       "<table border=\"1\" class=\"dataframe\">\n",
       "  <thead>\n",
       "    <tr style=\"text-align: right;\">\n",
       "      <th></th>\n",
       "      <th>Country/Region</th>\n",
       "      <th>Cases</th>\n",
       "      <th>Deaths</th>\n",
       "      <th>PCases</th>\n",
       "      <th>PDeaths</th>\n",
       "      <th>Cases (+)</th>\n",
       "      <th>Deaths (+)</th>\n",
       "      <th>Fatality Rate</th>\n",
       "      <th>Continent</th>\n",
       "    </tr>\n",
       "  </thead>\n",
       "  <tbody>\n",
       "    <tr>\n",
       "      <th>0</th>\n",
       "      <td>US</td>\n",
       "      <td>35131393</td>\n",
       "      <td>613679</td>\n",
       "      <td>35003417</td>\n",
       "      <td>613228</td>\n",
       "      <td>127976</td>\n",
       "      <td>451</td>\n",
       "      <td>1.7</td>\n",
       "      <td>North America</td>\n",
       "    </tr>\n",
       "    <tr>\n",
       "      <th>1</th>\n",
       "      <td>India</td>\n",
       "      <td>31726507</td>\n",
       "      <td>425195</td>\n",
       "      <td>31695958</td>\n",
       "      <td>424773</td>\n",
       "      <td>30549</td>\n",
       "      <td>422</td>\n",
       "      <td>1.3</td>\n",
       "      <td>Asia</td>\n",
       "    </tr>\n",
       "    <tr>\n",
       "      <th>2</th>\n",
       "      <td>Brazil</td>\n",
       "      <td>19953501</td>\n",
       "      <td>557223</td>\n",
       "      <td>19938358</td>\n",
       "      <td>556834</td>\n",
       "      <td>15143</td>\n",
       "      <td>389</td>\n",
       "      <td>2.8</td>\n",
       "      <td>South America</td>\n",
       "    </tr>\n",
       "    <tr>\n",
       "      <th>3</th>\n",
       "      <td>Russia</td>\n",
       "      <td>6230482</td>\n",
       "      <td>157496</td>\n",
       "      <td>6207513</td>\n",
       "      <td>156726</td>\n",
       "      <td>22969</td>\n",
       "      <td>770</td>\n",
       "      <td>2.5</td>\n",
       "      <td>Europe</td>\n",
       "    </tr>\n",
       "    <tr>\n",
       "      <th>4</th>\n",
       "      <td>France</td>\n",
       "      <td>6218526</td>\n",
       "      <td>112107</td>\n",
       "      <td>6209934</td>\n",
       "      <td>112073</td>\n",
       "      <td>8592</td>\n",
       "      <td>34</td>\n",
       "      <td>1.8</td>\n",
       "      <td>Europe</td>\n",
       "    </tr>\n",
       "  </tbody>\n",
       "</table>\n",
       "</div>"
      ],
      "text/plain": [
       "  Country/Region     Cases  Deaths    PCases  PDeaths  Cases (+)  Deaths (+)  \\\n",
       "0             US  35131393  613679  35003417   613228     127976         451   \n",
       "1          India  31726507  425195  31695958   424773      30549         422   \n",
       "2         Brazil  19953501  557223  19938358   556834      15143         389   \n",
       "3         Russia   6230482  157496   6207513   156726      22969         770   \n",
       "4         France   6218526  112107   6209934   112073       8592          34   \n",
       "\n",
       "   Fatality Rate      Continent  \n",
       "0            1.7  North America  \n",
       "1            1.3           Asia  \n",
       "2            2.8  South America  \n",
       "3            2.5         Europe  \n",
       "4            1.8         Europe  "
      ]
     },
     "execution_count": 15,
     "metadata": {},
     "output_type": "execute_result"
    }
   ],
   "source": [
    "#hide\n",
    "df_table = (pd.DataFrame(dict(Cases=dfc_cases, Deaths=dfc_deaths, PCases=dfp_cases, PDeaths=dfp_deaths))\n",
    "             .sort_values(by=['Cases', 'Deaths'], ascending=[False, False])\n",
    "             .reset_index())\n",
    "df_table.rename(columns={'index': 'Country/Region'}, inplace=True)\n",
    "for c in 'Cases, Deaths'.split(', '):\n",
    "    df_table[f'{c} (+)'] = (df_table[c] - df_table[f'P{c}']).clip(0)  # DATA BUG\n",
    "df_table['Fatality Rate'] = (100 * df_table['Deaths'] / df_table['Cases']).round(1)\n",
    "df_table['Continent'] = df_table['Country/Region'].map(mapping['map.continent'])\n",
    "df_table.head(5)"
   ]
  },
  {
   "cell_type": "code",
   "execution_count": 16,
   "id": "fewer-occasion",
   "metadata": {
    "execution": {
     "iopub.execute_input": "2021-08-03T12:10:26.111586Z",
     "iopub.status.busy": "2021-08-03T12:10:26.110997Z",
     "iopub.status.idle": "2021-08-03T12:10:26.113543Z",
     "shell.execute_reply": "2021-08-03T12:10:26.113064Z"
    },
    "papermill": {
     "duration": 0.041596,
     "end_time": "2021-08-03T12:10:26.113664",
     "exception": false,
     "start_time": "2021-08-03T12:10:26.072068",
     "status": "completed"
    },
    "tags": []
   },
   "outputs": [],
   "source": [
    "#hide\n",
    "#delete problematic countries from table\n",
    "df_table = df_table[~df_table['Country/Region'].isin(['Cape Verde', 'Cruise Ship', 'Kosovo'])]"
   ]
  },
  {
   "cell_type": "code",
   "execution_count": 17,
   "id": "related-center",
   "metadata": {
    "execution": {
     "iopub.execute_input": "2021-08-03T12:10:26.195485Z",
     "iopub.status.busy": "2021-08-03T12:10:26.194979Z",
     "iopub.status.idle": "2021-08-03T12:10:26.196980Z",
     "shell.execute_reply": "2021-08-03T12:10:26.197441Z"
    },
    "papermill": {
     "duration": 0.052568,
     "end_time": "2021-08-03T12:10:26.197573",
     "exception": false,
     "start_time": "2021-08-03T12:10:26.145005",
     "status": "completed"
    },
    "tags": []
   },
   "outputs": [],
   "source": [
    "#hide\n",
    "metrics = [df_table.columns[index] for index in [1,2,5,6]]\n",
    "# s_china = df_table[df_table['Country/Region'].eq('China')][metrics].sum().add_prefix('China ')\n",
    "s_us = df_table[df_table['Country/Region'].eq('US')][metrics].sum().add_prefix('US ')\n",
    "s_eu = df_table[df_table['Continent'].eq('Europe')][metrics].sum().add_prefix('EU ')\n",
    "s_ind = df_table[df_table['Country/Region'].eq('India')][metrics].sum().add_prefix('India ')\n",
    "summary = {'updated': pd.to_datetime(dt_today), 'since': pd.to_datetime(dt_yday)}\n",
    "summary = {'updated': pd.to_datetime(dt_today), 'since': pd.to_datetime(dt_yday)}\n",
    "summary = {**summary, **df_table[metrics].sum(), **s_ind, **s_us, **s_eu}"
   ]
  },
  {
   "cell_type": "code",
   "execution_count": 18,
   "id": "engaging-syndrome",
   "metadata": {
    "execution": {
     "iopub.execute_input": "2021-08-03T12:10:26.259967Z",
     "iopub.status.busy": "2021-08-03T12:10:26.259409Z",
     "iopub.status.idle": "2021-08-03T12:10:26.274437Z",
     "shell.execute_reply": "2021-08-03T12:10:26.273998Z"
    },
    "papermill": {
     "duration": 0.047357,
     "end_time": "2021-08-03T12:10:26.274547",
     "exception": false,
     "start_time": "2021-08-03T12:10:26.227190",
     "status": "completed"
    },
    "tags": []
   },
   "outputs": [],
   "source": [
    "#hide\n",
    "dft_ct_new_cases = dft_cases.groupby(COL_REGION)[dt_cols].sum().diff(axis=1).fillna(0).astype(int)"
   ]
  },
  {
   "cell_type": "code",
   "execution_count": 19,
   "id": "neutral-assignment",
   "metadata": {
    "execution": {
     "iopub.execute_input": "2021-08-03T12:10:26.336528Z",
     "iopub.status.busy": "2021-08-03T12:10:26.336118Z",
     "iopub.status.idle": "2021-08-03T12:10:26.338259Z",
     "shell.execute_reply": "2021-08-03T12:10:26.337931Z"
    },
    "papermill": {
     "duration": 0.034136,
     "end_time": "2021-08-03T12:10:26.338344",
     "exception": false,
     "start_time": "2021-08-03T12:10:26.304208",
     "status": "completed"
    },
    "tags": []
   },
   "outputs": [],
   "source": [
    "#hide\n",
    "everydaycases = dft_ct_new_cases.cumsum(axis=1)"
   ]
  },
  {
   "cell_type": "code",
   "execution_count": 20,
   "id": "parliamentary-calgary",
   "metadata": {
    "execution": {
     "iopub.execute_input": "2021-08-03T12:10:26.399197Z",
     "iopub.status.busy": "2021-08-03T12:10:26.398641Z",
     "iopub.status.idle": "2021-08-03T12:10:26.920127Z",
     "shell.execute_reply": "2021-08-03T12:10:26.919591Z"
    },
    "papermill": {
     "duration": 0.555137,
     "end_time": "2021-08-03T12:10:26.920255",
     "exception": false,
     "start_time": "2021-08-03T12:10:26.365118",
     "status": "completed"
    },
    "tags": []
   },
   "outputs": [],
   "source": [
    "#hide\n",
    "import pandas as pd\n",
    "import matplotlib.pyplot as plt\n",
    "import matplotlib.ticker as ticker\n",
    "import matplotlib.animation as animation\n",
    "from IPython.display import HTML"
   ]
  },
  {
   "cell_type": "code",
   "execution_count": 21,
   "id": "lasting-extraction",
   "metadata": {
    "execution": {
     "iopub.execute_input": "2021-08-03T12:10:26.981564Z",
     "iopub.status.busy": "2021-08-03T12:10:26.981122Z",
     "iopub.status.idle": "2021-08-03T12:10:26.988303Z",
     "shell.execute_reply": "2021-08-03T12:10:26.987826Z"
    },
    "papermill": {
     "duration": 0.041048,
     "end_time": "2021-08-03T12:10:26.988401",
     "exception": false,
     "start_time": "2021-08-03T12:10:26.947353",
     "status": "completed"
    },
    "tags": []
   },
   "outputs": [],
   "source": [
    "#hide\n",
    "t = everydaycases.stack()"
   ]
  },
  {
   "cell_type": "code",
   "execution_count": 22,
   "id": "premier-sleeve",
   "metadata": {
    "execution": {
     "iopub.execute_input": "2021-08-03T12:10:27.048696Z",
     "iopub.status.busy": "2021-08-03T12:10:27.048285Z",
     "iopub.status.idle": "2021-08-03T12:10:27.057568Z",
     "shell.execute_reply": "2021-08-03T12:10:27.058002Z"
    },
    "papermill": {
     "duration": 0.042922,
     "end_time": "2021-08-03T12:10:27.058136",
     "exception": false,
     "start_time": "2021-08-03T12:10:27.015214",
     "status": "completed"
    },
    "tags": []
   },
   "outputs": [],
   "source": [
    "#hide\n",
    "g = t.reset_index(['Country/Region'])"
   ]
  },
  {
   "cell_type": "code",
   "execution_count": 23,
   "id": "distributed-pittsburgh",
   "metadata": {
    "execution": {
     "iopub.execute_input": "2021-08-03T12:10:27.127575Z",
     "iopub.status.busy": "2021-08-03T12:10:27.127149Z",
     "iopub.status.idle": "2021-08-03T12:10:27.129340Z",
     "shell.execute_reply": "2021-08-03T12:10:27.129733Z"
    },
    "papermill": {
     "duration": 0.039805,
     "end_time": "2021-08-03T12:10:27.129830",
     "exception": false,
     "start_time": "2021-08-03T12:10:27.090025",
     "status": "completed"
    },
    "tags": []
   },
   "outputs": [],
   "source": [
    "#hide\n",
    "g.index.name = 'date'"
   ]
  },
  {
   "cell_type": "code",
   "execution_count": 24,
   "id": "naked-donor",
   "metadata": {
    "execution": {
     "iopub.execute_input": "2021-08-03T12:10:27.194397Z",
     "iopub.status.busy": "2021-08-03T12:10:27.193863Z",
     "iopub.status.idle": "2021-08-03T12:10:27.195638Z",
     "shell.execute_reply": "2021-08-03T12:10:27.196107Z"
    },
    "papermill": {
     "duration": 0.036922,
     "end_time": "2021-08-03T12:10:27.196229",
     "exception": false,
     "start_time": "2021-08-03T12:10:27.159307",
     "status": "completed"
    },
    "tags": []
   },
   "outputs": [],
   "source": [
    "# #hide\n",
    "# g = g.reset_index(['date'])"
   ]
  },
  {
   "cell_type": "code",
   "execution_count": 25,
   "id": "incomplete-mustang",
   "metadata": {
    "execution": {
     "iopub.execute_input": "2021-08-03T12:10:27.262034Z",
     "iopub.status.busy": "2021-08-03T12:10:27.261492Z",
     "iopub.status.idle": "2021-08-03T12:10:27.264084Z",
     "shell.execute_reply": "2021-08-03T12:10:27.264548Z"
    },
    "papermill": {
     "duration": 0.036882,
     "end_time": "2021-08-03T12:10:27.264670",
     "exception": false,
     "start_time": "2021-08-03T12:10:27.227788",
     "status": "completed"
    },
    "tags": []
   },
   "outputs": [],
   "source": [
    "#hide\n",
    "# g.head()"
   ]
  },
  {
   "cell_type": "code",
   "execution_count": 26,
   "id": "specific-kruger",
   "metadata": {
    "execution": {
     "iopub.execute_input": "2021-08-03T12:10:27.328681Z",
     "iopub.status.busy": "2021-08-03T12:10:27.328157Z",
     "iopub.status.idle": "2021-08-03T12:10:27.330590Z",
     "shell.execute_reply": "2021-08-03T12:10:27.330110Z"
    },
    "papermill": {
     "duration": 0.035221,
     "end_time": "2021-08-03T12:10:27.330695",
     "exception": false,
     "start_time": "2021-08-03T12:10:27.295474",
     "status": "completed"
    },
    "tags": []
   },
   "outputs": [],
   "source": [
    "#hide\n",
    "# g.columns = ['date','country','cases']"
   ]
  },
  {
   "cell_type": "code",
   "execution_count": 27,
   "id": "tender-conversion",
   "metadata": {
    "execution": {
     "iopub.execute_input": "2021-08-03T12:10:27.396616Z",
     "iopub.status.busy": "2021-08-03T12:10:27.396034Z",
     "iopub.status.idle": "2021-08-03T12:10:27.398508Z",
     "shell.execute_reply": "2021-08-03T12:10:27.398012Z"
    },
    "papermill": {
     "duration": 0.037903,
     "end_time": "2021-08-03T12:10:27.398624",
     "exception": false,
     "start_time": "2021-08-03T12:10:27.360721",
     "status": "completed"
    },
    "tags": []
   },
   "outputs": [],
   "source": [
    "#hide\n",
    "# g['continent'] = g.country"
   ]
  },
  {
   "cell_type": "code",
   "execution_count": 28,
   "id": "substantial-wilderness",
   "metadata": {
    "execution": {
     "iopub.execute_input": "2021-08-03T12:10:27.463171Z",
     "iopub.status.busy": "2021-08-03T12:10:27.462687Z",
     "iopub.status.idle": "2021-08-03T12:10:27.465050Z",
     "shell.execute_reply": "2021-08-03T12:10:27.465559Z"
    },
    "papermill": {
     "duration": 0.036489,
     "end_time": "2021-08-03T12:10:27.465681",
     "exception": false,
     "start_time": "2021-08-03T12:10:27.429192",
     "status": "completed"
    },
    "tags": []
   },
   "outputs": [],
   "source": [
    "#hide\n",
    "# cols = list(g.columns.values)"
   ]
  },
  {
   "cell_type": "code",
   "execution_count": 29,
   "id": "solved-farming",
   "metadata": {
    "execution": {
     "iopub.execute_input": "2021-08-03T12:10:27.527896Z",
     "iopub.status.busy": "2021-08-03T12:10:27.527300Z",
     "iopub.status.idle": "2021-08-03T12:10:27.529644Z",
     "shell.execute_reply": "2021-08-03T12:10:27.530019Z"
    },
    "papermill": {
     "duration": 0.035362,
     "end_time": "2021-08-03T12:10:27.530122",
     "exception": false,
     "start_time": "2021-08-03T12:10:27.494760",
     "status": "completed"
    },
    "tags": []
   },
   "outputs": [],
   "source": [
    "#hide\n",
    "# cols.insert(0, cols.pop())"
   ]
  },
  {
   "cell_type": "code",
   "execution_count": 30,
   "id": "executed-adoption",
   "metadata": {
    "execution": {
     "iopub.execute_input": "2021-08-03T12:10:27.590358Z",
     "iopub.status.busy": "2021-08-03T12:10:27.589827Z",
     "iopub.status.idle": "2021-08-03T12:10:27.591516Z",
     "shell.execute_reply": "2021-08-03T12:10:27.591890Z"
    },
    "papermill": {
     "duration": 0.034449,
     "end_time": "2021-08-03T12:10:27.592003",
     "exception": false,
     "start_time": "2021-08-03T12:10:27.557554",
     "status": "completed"
    },
    "tags": []
   },
   "outputs": [],
   "source": [
    "#hide\n",
    "# g = g[cols]"
   ]
  },
  {
   "cell_type": "code",
   "execution_count": 31,
   "id": "subject-dublin",
   "metadata": {
    "execution": {
     "iopub.execute_input": "2021-08-03T12:10:27.652438Z",
     "iopub.status.busy": "2021-08-03T12:10:27.651869Z",
     "iopub.status.idle": "2021-08-03T12:10:27.654120Z",
     "shell.execute_reply": "2021-08-03T12:10:27.653670Z"
    },
    "papermill": {
     "duration": 0.034921,
     "end_time": "2021-08-03T12:10:27.654222",
     "exception": false,
     "start_time": "2021-08-03T12:10:27.619301",
     "status": "completed"
    },
    "tags": []
   },
   "outputs": [],
   "source": [
    "#hide\n",
    "# g['continent'] = g['continent'].map(mapping['map.continent'])"
   ]
  },
  {
   "cell_type": "code",
   "execution_count": 32,
   "id": "freelance-scout",
   "metadata": {
    "execution": {
     "iopub.execute_input": "2021-08-03T12:10:27.716083Z",
     "iopub.status.busy": "2021-08-03T12:10:27.715539Z",
     "iopub.status.idle": "2021-08-03T12:10:27.717739Z",
     "shell.execute_reply": "2021-08-03T12:10:27.718130Z"
    },
    "papermill": {
     "duration": 0.035578,
     "end_time": "2021-08-03T12:10:27.718220",
     "exception": false,
     "start_time": "2021-08-03T12:10:27.682642",
     "status": "completed"
    },
    "tags": []
   },
   "outputs": [],
   "source": [
    "#hide\n",
    "# g.head()"
   ]
  },
  {
   "cell_type": "code",
   "execution_count": 33,
   "id": "limited-engine",
   "metadata": {
    "execution": {
     "iopub.execute_input": "2021-08-03T12:10:27.779709Z",
     "iopub.status.busy": "2021-08-03T12:10:27.779217Z",
     "iopub.status.idle": "2021-08-03T12:10:27.781645Z",
     "shell.execute_reply": "2021-08-03T12:10:27.782110Z"
    },
    "papermill": {
     "duration": 0.036506,
     "end_time": "2021-08-03T12:10:27.782225",
     "exception": false,
     "start_time": "2021-08-03T12:10:27.745719",
     "status": "completed"
    },
    "tags": []
   },
   "outputs": [],
   "source": [
    "# hide\n",
    "# g['date'] = g['date'].astype('datetime64[ns]')"
   ]
  },
  {
   "cell_type": "code",
   "execution_count": 34,
   "id": "sophisticated-supervisor",
   "metadata": {
    "execution": {
     "iopub.execute_input": "2021-08-03T12:10:27.851850Z",
     "iopub.status.busy": "2021-08-03T12:10:27.851245Z",
     "iopub.status.idle": "2021-08-03T12:10:27.853983Z",
     "shell.execute_reply": "2021-08-03T12:10:27.853525Z"
    },
    "papermill": {
     "duration": 0.04121,
     "end_time": "2021-08-03T12:10:27.854097",
     "exception": false,
     "start_time": "2021-08-03T12:10:27.812887",
     "status": "completed"
    },
    "tags": []
   },
   "outputs": [],
   "source": [
    "#hide\n",
    "# g['date'] = g.date.dt.dayofyear"
   ]
  },
  {
   "cell_type": "code",
   "execution_count": 35,
   "id": "inside-dubai",
   "metadata": {
    "execution": {
     "iopub.execute_input": "2021-08-03T12:10:27.926966Z",
     "iopub.status.busy": "2021-08-03T12:10:27.926393Z",
     "iopub.status.idle": "2021-08-03T12:10:27.929399Z",
     "shell.execute_reply": "2021-08-03T12:10:27.928940Z"
    },
    "papermill": {
     "duration": 0.041417,
     "end_time": "2021-08-03T12:10:27.929514",
     "exception": false,
     "start_time": "2021-08-03T12:10:27.888097",
     "status": "completed"
    },
    "tags": []
   },
   "outputs": [],
   "source": [
    "#hide\n",
    "# g = g.rename(columns= {'continent':'group','country':'name','cases':'value'})"
   ]
  },
  {
   "cell_type": "code",
   "execution_count": 36,
   "id": "fleet-motorcycle",
   "metadata": {
    "execution": {
     "iopub.execute_input": "2021-08-03T12:10:27.992623Z",
     "iopub.status.busy": "2021-08-03T12:10:27.992210Z",
     "iopub.status.idle": "2021-08-03T12:10:27.994808Z",
     "shell.execute_reply": "2021-08-03T12:10:27.995356Z"
    },
    "papermill": {
     "duration": 0.035698,
     "end_time": "2021-08-03T12:10:27.995480",
     "exception": false,
     "start_time": "2021-08-03T12:10:27.959782",
     "status": "completed"
    },
    "tags": []
   },
   "outputs": [],
   "source": [
    "#hide\n",
    "# cols = ['name','group','day','value']"
   ]
  },
  {
   "cell_type": "code",
   "execution_count": 37,
   "id": "continued-sleeping",
   "metadata": {
    "execution": {
     "iopub.execute_input": "2021-08-03T12:10:28.058369Z",
     "iopub.status.busy": "2021-08-03T12:10:28.057797Z",
     "iopub.status.idle": "2021-08-03T12:10:28.060055Z",
     "shell.execute_reply": "2021-08-03T12:10:28.060611Z"
    },
    "papermill": {
     "duration": 0.036023,
     "end_time": "2021-08-03T12:10:28.060739",
     "exception": false,
     "start_time": "2021-08-03T12:10:28.024716",
     "status": "completed"
    },
    "tags": []
   },
   "outputs": [],
   "source": [
    "#hide\n",
    "# g.rename(columns= {'date':'day'},inplace = True)"
   ]
  },
  {
   "cell_type": "code",
   "execution_count": 38,
   "id": "major-fight",
   "metadata": {
    "execution": {
     "iopub.execute_input": "2021-08-03T12:10:28.130978Z",
     "iopub.status.busy": "2021-08-03T12:10:28.130471Z",
     "iopub.status.idle": "2021-08-03T12:10:28.132758Z",
     "shell.execute_reply": "2021-08-03T12:10:28.133206Z"
    },
    "papermill": {
     "duration": 0.039297,
     "end_time": "2021-08-03T12:10:28.133313",
     "exception": false,
     "start_time": "2021-08-03T12:10:28.094016",
     "status": "completed"
    },
    "tags": []
   },
   "outputs": [],
   "source": [
    "#hide\n",
    "# g = g[cols]"
   ]
  },
  {
   "cell_type": "code",
   "execution_count": 39,
   "id": "structured-mobile",
   "metadata": {
    "execution": {
     "iopub.execute_input": "2021-08-03T12:10:28.197090Z",
     "iopub.status.busy": "2021-08-03T12:10:28.196519Z",
     "iopub.status.idle": "2021-08-03T12:10:28.198899Z",
     "shell.execute_reply": "2021-08-03T12:10:28.199442Z"
    },
    "papermill": {
     "duration": 0.036931,
     "end_time": "2021-08-03T12:10:28.199568",
     "exception": false,
     "start_time": "2021-08-03T12:10:28.162637",
     "status": "completed"
    },
    "tags": []
   },
   "outputs": [],
   "source": [
    "# #hide\n",
    "# g = g[g.group.notna()]"
   ]
  },
  {
   "cell_type": "code",
   "execution_count": 40,
   "id": "determined-closing",
   "metadata": {
    "execution": {
     "iopub.execute_input": "2021-08-03T12:10:28.262181Z",
     "iopub.status.busy": "2021-08-03T12:10:28.261592Z",
     "iopub.status.idle": "2021-08-03T12:10:28.264034Z",
     "shell.execute_reply": "2021-08-03T12:10:28.264466Z"
    },
    "papermill": {
     "duration": 0.035885,
     "end_time": "2021-08-03T12:10:28.264584",
     "exception": false,
     "start_time": "2021-08-03T12:10:28.228699",
     "status": "completed"
    },
    "tags": []
   },
   "outputs": [],
   "source": [
    "# #hide\n",
    "# colors = dict(zip(\n",
    "#     [\"Oceania\", \"Europe\", \"Asia\", \"South America\", \"Middle East\", \"North America\", \"Africa\"],\n",
    "#     [\"#adb0ff\", \"#ffb3ff\", \"#90d595\", \"#e48381\", \"#aafbff\", \"#f7bb5f\", \"#eafb50\"]\n",
    "# ))\n",
    "# group_lk = g.set_index('name')['group'].to_dict()"
   ]
  },
  {
   "cell_type": "code",
   "execution_count": null,
   "id": "gross-drinking",
   "metadata": {
    "papermill": {
     "duration": 0.030522,
     "end_time": "2021-08-03T12:10:28.326193",
     "exception": false,
     "start_time": "2021-08-03T12:10:28.295671",
     "status": "completed"
    },
    "tags": []
   },
   "outputs": [],
   "source": []
  },
  {
   "cell_type": "code",
   "execution_count": 41,
   "id": "subject-macintosh",
   "metadata": {
    "execution": {
     "iopub.execute_input": "2021-08-03T12:10:28.395432Z",
     "iopub.status.busy": "2021-08-03T12:10:28.394941Z",
     "iopub.status.idle": "2021-08-03T12:10:28.397019Z",
     "shell.execute_reply": "2021-08-03T12:10:28.396619Z"
    },
    "papermill": {
     "duration": 0.039777,
     "end_time": "2021-08-03T12:10:28.397138",
     "exception": false,
     "start_time": "2021-08-03T12:10:28.357361",
     "status": "completed"
    },
    "tags": []
   },
   "outputs": [],
   "source": [
    "# #hide\n",
    "# fig, ax = plt.subplots(figsize=(15, 8))\n",
    "\n",
    "# def draw_barchart(current_day):\n",
    "#     dff = g[g['day'].eq(current_day)].sort_values(by='value', ascending=True).tail(10)\n",
    "#     ax.clear()\n",
    "#     ax.barh(dff['name'], dff['value'], color=[colors[group_lk[x]] for x in dff['name']])\n",
    "#     dx = dff['value'].max() / 200\n",
    "    \n",
    "#     for i, (value, name) in enumerate(zip(dff['value'], dff['name'])):\n",
    "#         ax.text(value-dx, i,     name,           size=14, weight=600, ha='right', va='bottom')\n",
    "#         ax.text(value-dx, i-.25, group_lk[name], size=10, color='#444444', ha='right', va='baseline')\n",
    "#         ax.text(value+dx, i,     f'{value:,.0f}',  size=14, ha='left',  va='center')\n",
    "#     ax.text(1, 0.4, current_day, transform=ax.transAxes, color='#777777', size=46, ha='right', weight=800)\n",
    "#     ax.text(0, 1.06, 'Population (thousands)', transform=ax.transAxes, size=12, color='#777777')\n",
    "#     ax.xaxis.set_major_formatter(ticker.StrMethodFormatter('{x:,.0f}'))\n",
    "#     ax.xaxis.set_ticks_position('top')\n",
    "#     ax.tick_params(axis='x', colors='#777777', labelsize=12)\n",
    "#     ax.set_yticks([])\n",
    "#     ax.margins(0, 0.01)\n",
    "#     ax.grid(which='major', axis='x', linestyle='-')\n",
    "#     ax.set_axisbelow(True)\n",
    "    \n",
    "#     ax.text(0, 1.15, 'Coronavirus',\n",
    "#             transform=ax.transAxes, size=24, weight=600, ha='left', va='top')\n",
    "# #     ax.text(1, 0, 'by @pratapvardhan; credit @jburnmurdoch', transform=ax.transAxes, color='#777777', ha='right',\n",
    "# #             bbox=dict(facecolor='white', alpha=0.8, edgecolor='white'))\n",
    "#     plt.box(False)"
   ]
  },
  {
   "cell_type": "code",
   "execution_count": 42,
   "id": "sexual-wages",
   "metadata": {
    "execution": {
     "iopub.execute_input": "2021-08-03T12:10:28.461162Z",
     "iopub.status.busy": "2021-08-03T12:10:28.460603Z",
     "iopub.status.idle": "2021-08-03T12:10:28.462965Z",
     "shell.execute_reply": "2021-08-03T12:10:28.463479Z"
    },
    "papermill": {
     "duration": 0.036832,
     "end_time": "2021-08-03T12:10:28.463598",
     "exception": false,
     "start_time": "2021-08-03T12:10:28.426766",
     "status": "completed"
    },
    "tags": []
   },
   "outputs": [],
   "source": [
    "# #hide_input\n",
    "# fig, ax = plt.subplots(figsize=(15, 8))\n",
    "# animator = animation.FuncAnimation(fig, draw_barchart, frames=range(g.day.values.min(), g.day.values.max()))\n",
    "# HTML(animator.to_jshtml())\n",
    "# # or use animator.to_html5_video() or animator.save() "
   ]
  },
  {
   "cell_type": "code",
   "execution_count": null,
   "id": "australian-container",
   "metadata": {
    "papermill": {
     "duration": 0.029681,
     "end_time": "2021-08-03T12:10:28.525034",
     "exception": false,
     "start_time": "2021-08-03T12:10:28.495353",
     "status": "completed"
    },
    "tags": []
   },
   "outputs": [],
   "source": []
  },
  {
   "cell_type": "code",
   "execution_count": null,
   "id": "mediterranean-pontiac",
   "metadata": {
    "papermill": {
     "duration": 0.030638,
     "end_time": "2021-08-03T12:10:28.585720",
     "exception": false,
     "start_time": "2021-08-03T12:10:28.555082",
     "status": "completed"
    },
    "tags": []
   },
   "outputs": [],
   "source": []
  },
  {
   "cell_type": "code",
   "execution_count": null,
   "id": "aging-legislature",
   "metadata": {
    "papermill": {
     "duration": 0.029663,
     "end_time": "2021-08-03T12:10:28.647516",
     "exception": false,
     "start_time": "2021-08-03T12:10:28.617853",
     "status": "completed"
    },
    "tags": []
   },
   "outputs": [],
   "source": []
  }
 ],
 "metadata": {
  "kernelspec": {
   "display_name": "Python 3",
   "language": "python",
   "name": "python3"
  },
  "language_info": {
   "codemirror_mode": {
    "name": "ipython",
    "version": 3
   },
   "file_extension": ".py",
   "mimetype": "text/x-python",
   "name": "python",
   "nbconvert_exporter": "python",
   "pygments_lexer": "ipython3",
   "version": "3.6.14"
  },
  "papermill": {
   "duration": 6.004275,
   "end_time": "2021-08-03T12:10:28.986635",
   "environment_variables": {},
   "exception": null,
   "input_path": "2020-03-21-covid19exp.ipynb",
   "output_path": "2020-03-21-covid19exp.ipynb",
   "parameters": {},
   "start_time": "2021-08-03T12:10:22.982360",
   "version": "2.0.0"
  }
 },
 "nbformat": 4,
 "nbformat_minor": 5
}