{
 "cells": [
  {
   "cell_type": "markdown",
   "id": "muslim-click",
   "metadata": {
    "papermill": {
     "duration": 0.042488,
     "end_time": "2021-06-12T12:09:05.105679",
     "exception": false,
     "start_time": "2021-06-12T12:09:05.063191",
     "status": "completed"
    },
    "tags": []
   },
   "source": [
    "# COVID-19 Case Race\n",
    "> A race chart to see rising cases around the world\n",
    "\n",
    "- author: Hargun Oberoi\n",
    "- image: images/covid-overview.png\n",
    "- hide: false\n",
    "- badges: false"
   ]
  },
  {
   "cell_type": "code",
   "execution_count": 1,
   "id": "proof-material",
   "metadata": {
    "execution": {
     "iopub.execute_input": "2021-06-12T12:09:05.191542Z",
     "iopub.status.busy": "2021-06-12T12:09:05.190924Z",
     "iopub.status.idle": "2021-06-12T12:09:05.571960Z",
     "shell.execute_reply": "2021-06-12T12:09:05.572769Z"
    },
    "papermill": {
     "duration": 0.429027,
     "end_time": "2021-06-12T12:09:05.572948",
     "exception": false,
     "start_time": "2021-06-12T12:09:05.143921",
     "status": "completed"
    },
    "tags": []
   },
   "outputs": [],
   "source": [
    "#hide\n",
    "import numpy as np\n",
    "import pandas as pd\n",
    "from jinja2 import Template\n",
    "from IPython.display import HTML"
   ]
  },
  {
   "cell_type": "code",
   "execution_count": 2,
   "id": "developed-terminology",
   "metadata": {
    "execution": {
     "iopub.execute_input": "2021-06-12T12:09:05.653578Z",
     "iopub.status.busy": "2021-06-12T12:09:05.652959Z",
     "iopub.status.idle": "2021-06-12T12:09:05.655501Z",
     "shell.execute_reply": "2021-06-12T12:09:05.655037Z"
    },
    "papermill": {
     "duration": 0.045622,
     "end_time": "2021-06-12T12:09:05.655613",
     "exception": false,
     "start_time": "2021-06-12T12:09:05.609991",
     "status": "completed"
    },
    "tags": []
   },
   "outputs": [],
   "source": [
    "#hide\n",
    "\n",
    "# FETCH\n",
    "base_url = 'https://raw.githubusercontent.com/pratapvardhan/notebooks/master/covid19/'\n",
    "paths = {\n",
    "    'mapping': base_url + 'mapping_countries.csv',\n",
    "    'overview': base_url + 'overview.tpl'\n",
    "}"
   ]
  },
  {
   "cell_type": "code",
   "execution_count": 3,
   "id": "dynamic-saver",
   "metadata": {
    "execution": {
     "iopub.execute_input": "2021-06-12T12:09:05.744637Z",
     "iopub.status.busy": "2021-06-12T12:09:05.743966Z",
     "iopub.status.idle": "2021-06-12T12:09:05.747242Z",
     "shell.execute_reply": "2021-06-12T12:09:05.746617Z"
    },
    "papermill": {
     "duration": 0.053189,
     "end_time": "2021-06-12T12:09:05.747370",
     "exception": false,
     "start_time": "2021-06-12T12:09:05.694181",
     "status": "completed"
    },
    "tags": []
   },
   "outputs": [
    {
     "data": {
      "text/plain": [
       "'https://raw.githubusercontent.com/pratapvardhan/notebooks/master/covid19/mapping_countries.csv'"
      ]
     },
     "execution_count": 3,
     "metadata": {},
     "output_type": "execute_result"
    }
   ],
   "source": [
    "#hide\n",
    "paths['mapping']"
   ]
  },
  {
   "cell_type": "code",
   "execution_count": 4,
   "id": "urban-software",
   "metadata": {
    "execution": {
     "iopub.execute_input": "2021-06-12T12:09:05.828215Z",
     "iopub.status.busy": "2021-06-12T12:09:05.827651Z",
     "iopub.status.idle": "2021-06-12T12:09:05.829664Z",
     "shell.execute_reply": "2021-06-12T12:09:05.830205Z"
    },
    "papermill": {
     "duration": 0.044287,
     "end_time": "2021-06-12T12:09:05.830322",
     "exception": false,
     "start_time": "2021-06-12T12:09:05.786035",
     "status": "completed"
    },
    "tags": []
   },
   "outputs": [],
   "source": [
    "#hide\n",
    "def get_mappings(url):\n",
    "    df = pd.read_csv(url)\n",
    "    return {\n",
    "        'df': df,\n",
    "        'replace.country': dict(df.dropna(subset=['Name']).set_index('Country')['Name']),\n",
    "        'map.continent': dict(df.set_index('Name')['Continent'])\n",
    "    }"
   ]
  },
  {
   "cell_type": "code",
   "execution_count": 5,
   "id": "intimate-machinery",
   "metadata": {
    "execution": {
     "iopub.execute_input": "2021-06-12T12:09:05.915507Z",
     "iopub.status.busy": "2021-06-12T12:09:05.914659Z",
     "iopub.status.idle": "2021-06-12T12:09:05.956774Z",
     "shell.execute_reply": "2021-06-12T12:09:05.957265Z"
    },
    "papermill": {
     "duration": 0.086126,
     "end_time": "2021-06-12T12:09:05.957514",
     "exception": false,
     "start_time": "2021-06-12T12:09:05.871388",
     "status": "completed"
    },
    "tags": []
   },
   "outputs": [],
   "source": [
    "#hide\n",
    "mapping = get_mappings(paths['mapping'])"
   ]
  },
  {
   "cell_type": "code",
   "execution_count": 6,
   "id": "certified-tactics",
   "metadata": {
    "execution": {
     "iopub.execute_input": "2021-06-12T12:09:06.042646Z",
     "iopub.status.busy": "2021-06-12T12:09:06.042006Z",
     "iopub.status.idle": "2021-06-12T12:09:06.044722Z",
     "shell.execute_reply": "2021-06-12T12:09:06.043178Z"
    },
    "papermill": {
     "duration": 0.04983,
     "end_time": "2021-06-12T12:09:06.044912",
     "exception": false,
     "start_time": "2021-06-12T12:09:05.995082",
     "status": "completed"
    },
    "tags": []
   },
   "outputs": [],
   "source": [
    "#hide\n",
    "def get_template(path):\n",
    "    from urllib.parse import urlparse\n",
    "    if bool(urlparse(path).netloc):\n",
    "        from urllib.request import urlopen\n",
    "        return urlopen(path).read().decode('utf8')\n",
    "    return open(path).read()"
   ]
  },
  {
   "cell_type": "code",
   "execution_count": 7,
   "id": "realistic-blast",
   "metadata": {
    "execution": {
     "iopub.execute_input": "2021-06-12T12:09:06.129946Z",
     "iopub.status.busy": "2021-06-12T12:09:06.128622Z",
     "iopub.status.idle": "2021-06-12T12:09:06.134937Z",
     "shell.execute_reply": "2021-06-12T12:09:06.135799Z"
    },
    "papermill": {
     "duration": 0.051473,
     "end_time": "2021-06-12T12:09:06.135944",
     "exception": false,
     "start_time": "2021-06-12T12:09:06.084471",
     "status": "completed"
    },
    "tags": []
   },
   "outputs": [],
   "source": [
    "#hide\n",
    "def get_frame(name):\n",
    "    url = (\n",
    "        'https://raw.githubusercontent.com/CSSEGISandData/COVID-19/master/csse_covid_19_data/'\n",
    "        f'csse_covid_19_time_series/time_series_covid19_{name}_global.csv')\n",
    "    df = pd.read_csv(url)\n",
    "    # rename countries\n",
    "    df['Country/Region'] = df['Country/Region'].replace(mapping['replace.country'])\n",
    "    return df"
   ]
  },
  {
   "cell_type": "code",
   "execution_count": 8,
   "id": "affiliated-characterization",
   "metadata": {
    "execution": {
     "iopub.execute_input": "2021-06-12T12:09:06.222821Z",
     "iopub.status.busy": "2021-06-12T12:09:06.222138Z",
     "iopub.status.idle": "2021-06-12T12:09:06.223838Z",
     "shell.execute_reply": "2021-06-12T12:09:06.223350Z"
    },
    "papermill": {
     "duration": 0.047691,
     "end_time": "2021-06-12T12:09:06.223948",
     "exception": false,
     "start_time": "2021-06-12T12:09:06.176257",
     "status": "completed"
    },
    "tags": []
   },
   "outputs": [],
   "source": [
    "#hide\n",
    "def get_dates(df):\n",
    "    dt_cols = df.columns[~df.columns.isin(['Province/State', 'Country/Region', 'Lat', 'Long'])]\n",
    "    LAST_DATE_I = -1\n",
    "    # sometimes last column may be empty, then go backwards\n",
    "    for i in range(-1, -len(dt_cols), -1):\n",
    "        if not df[dt_cols[i]].fillna(0).eq(0).all():\n",
    "            LAST_DATE_I = i\n",
    "            break\n",
    "    return LAST_DATE_I, dt_cols"
   ]
  },
  {
   "cell_type": "code",
   "execution_count": 9,
   "id": "recent-optimization",
   "metadata": {
    "execution": {
     "iopub.execute_input": "2021-06-12T12:09:06.309735Z",
     "iopub.status.busy": "2021-06-12T12:09:06.308433Z",
     "iopub.status.idle": "2021-06-12T12:09:06.696380Z",
     "shell.execute_reply": "2021-06-12T12:09:06.695771Z"
    },
    "papermill": {
     "duration": 0.43226,
     "end_time": "2021-06-12T12:09:06.696561",
     "exception": false,
     "start_time": "2021-06-12T12:09:06.264301",
     "status": "completed"
    },
    "tags": []
   },
   "outputs": [],
   "source": [
    "#hide\n",
    "COL_REGION = 'Country/Region'\n",
    "# Confirmed, Recovered, Deaths\n",
    "df = get_frame('confirmed')\n",
    "# dft_: timeseries, dfc_: today country agg\n",
    "dft_cases = df\n",
    "dft_deaths = get_frame('deaths')\n",
    "dft_recovered = get_frame('recovered')\n",
    "LAST_DATE_I, dt_cols = get_dates(df)"
   ]
  },
  {
   "cell_type": "code",
   "execution_count": 10,
   "id": "absolute-copper",
   "metadata": {
    "execution": {
     "iopub.execute_input": "2021-06-12T12:09:06.784434Z",
     "iopub.status.busy": "2021-06-12T12:09:06.783186Z",
     "iopub.status.idle": "2021-06-12T12:09:06.785113Z",
     "shell.execute_reply": "2021-06-12T12:09:06.785634Z"
    },
    "papermill": {
     "duration": 0.050768,
     "end_time": "2021-06-12T12:09:06.785765",
     "exception": false,
     "start_time": "2021-06-12T12:09:06.734997",
     "status": "completed"
    },
    "tags": []
   },
   "outputs": [],
   "source": [
    "#hide\n",
    "LAST_DATE_I, dt_cols = get_dates(df)\n",
    "dt_today =dt_cols[LAST_DATE_I]\n",
    "# dt_5day = dt_cols[LAST_DATE_I - 5]\n",
    "dt_yday = dt_cols[LAST_DATE_I - 1]"
   ]
  },
  {
   "cell_type": "code",
   "execution_count": 11,
   "id": "restricted-sheriff",
   "metadata": {
    "execution": {
     "iopub.execute_input": "2021-06-12T12:09:06.875423Z",
     "iopub.status.busy": "2021-06-12T12:09:06.874806Z",
     "iopub.status.idle": "2021-06-12T12:09:06.883348Z",
     "shell.execute_reply": "2021-06-12T12:09:06.883984Z"
    },
    "papermill": {
     "duration": 0.059713,
     "end_time": "2021-06-12T12:09:06.884117",
     "exception": false,
     "start_time": "2021-06-12T12:09:06.824404",
     "status": "completed"
    },
    "tags": []
   },
   "outputs": [],
   "source": [
    "#hide\n",
    "dfc_cases = dft_cases.groupby(COL_REGION)[dt_today].sum()\n",
    "dfc_deaths = dft_deaths.groupby(COL_REGION)[dt_today].sum()\n",
    "# dfp_cases = dft_cases.groupby(COL_REGION)[dt_5day].sum()\n",
    "# dfp_deaths = dft_deaths.groupby(COL_REGION)[dt_5day].sum()\n",
    "dfp_cases = dft_cases.groupby(COL_REGION)[dt_yday].sum()\n",
    "dfp_deaths = dft_deaths.groupby(COL_REGION)[dt_yday].sum()"
   ]
  },
  {
   "cell_type": "code",
   "execution_count": 12,
   "id": "deluxe-hepatitis",
   "metadata": {
    "execution": {
     "iopub.execute_input": "2021-06-12T12:09:06.963291Z",
     "iopub.status.busy": "2021-06-12T12:09:06.962670Z",
     "iopub.status.idle": "2021-06-12T12:09:06.967820Z",
     "shell.execute_reply": "2021-06-12T12:09:06.968252Z"
    },
    "papermill": {
     "duration": 0.048041,
     "end_time": "2021-06-12T12:09:06.968377",
     "exception": false,
     "start_time": "2021-06-12T12:09:06.920336",
     "status": "completed"
    },
    "tags": []
   },
   "outputs": [],
   "source": [
    "#hide\n",
    "df_table = (pd.DataFrame(dict(Cases = dfc_cases, Deaths = dfc_deaths, PCases = dfp_cases, PDeaths = dfp_deaths))\n",
    "            .sort_values(by = ['Cases','Deaths'], ascending = [False, False])\n",
    "            .reset_index())"
   ]
  },
  {
   "cell_type": "code",
   "execution_count": 13,
   "id": "educational-chancellor",
   "metadata": {
    "execution": {
     "iopub.execute_input": "2021-06-12T12:09:07.071091Z",
     "iopub.status.busy": "2021-06-12T12:09:07.070435Z",
     "iopub.status.idle": "2021-06-12T12:09:07.073240Z",
     "shell.execute_reply": "2021-06-12T12:09:07.073761Z"
    },
    "papermill": {
     "duration": 0.06954,
     "end_time": "2021-06-12T12:09:07.073899",
     "exception": false,
     "start_time": "2021-06-12T12:09:07.004359",
     "status": "completed"
    },
    "tags": []
   },
   "outputs": [
    {
     "data": {
      "text/html": [
       "<div>\n",
       "<style scoped>\n",
       "    .dataframe tbody tr th:only-of-type {\n",
       "        vertical-align: middle;\n",
       "    }\n",
       "\n",
       "    .dataframe tbody tr th {\n",
       "        vertical-align: top;\n",
       "    }\n",
       "\n",
       "    .dataframe thead th {\n",
       "        text-align: right;\n",
       "    }\n",
       "</style>\n",
       "<table border=\"1\" class=\"dataframe\">\n",
       "  <thead>\n",
       "    <tr style=\"text-align: right;\">\n",
       "      <th></th>\n",
       "      <th>Country/Region</th>\n",
       "      <th>Cases</th>\n",
       "      <th>Deaths</th>\n",
       "      <th>PCases</th>\n",
       "      <th>PDeaths</th>\n",
       "      <th>Cases (+)</th>\n",
       "      <th>Deaths (+)</th>\n",
       "      <th>Fatality Rate</th>\n",
       "      <th>Continent</th>\n",
       "    </tr>\n",
       "  </thead>\n",
       "  <tbody>\n",
       "    <tr>\n",
       "      <th>0</th>\n",
       "      <td>US</td>\n",
       "      <td>33437746</td>\n",
       "      <td>599180</td>\n",
       "      <td>33424296</td>\n",
       "      <td>598744</td>\n",
       "      <td>13450</td>\n",
       "      <td>436</td>\n",
       "      <td>1.79</td>\n",
       "      <td>North America</td>\n",
       "    </tr>\n",
       "    <tr>\n",
       "      <th>1</th>\n",
       "      <td>India</td>\n",
       "      <td>29359155</td>\n",
       "      <td>367081</td>\n",
       "      <td>29274823</td>\n",
       "      <td>363079</td>\n",
       "      <td>84332</td>\n",
       "      <td>4002</td>\n",
       "      <td>1.25</td>\n",
       "      <td>Asia</td>\n",
       "    </tr>\n",
       "    <tr>\n",
       "      <th>2</th>\n",
       "      <td>Brazil</td>\n",
       "      <td>17296118</td>\n",
       "      <td>484235</td>\n",
       "      <td>17210969</td>\n",
       "      <td>482019</td>\n",
       "      <td>85149</td>\n",
       "      <td>2216</td>\n",
       "      <td>2.80</td>\n",
       "      <td>South America</td>\n",
       "    </tr>\n",
       "    <tr>\n",
       "      <th>3</th>\n",
       "      <td>France</td>\n",
       "      <td>5795487</td>\n",
       "      <td>110506</td>\n",
       "      <td>5791608</td>\n",
       "      <td>110432</td>\n",
       "      <td>3879</td>\n",
       "      <td>74</td>\n",
       "      <td>1.91</td>\n",
       "      <td>Europe</td>\n",
       "    </tr>\n",
       "    <tr>\n",
       "      <th>4</th>\n",
       "      <td>Turkey</td>\n",
       "      <td>5319359</td>\n",
       "      <td>48593</td>\n",
       "      <td>5313098</td>\n",
       "      <td>48524</td>\n",
       "      <td>6261</td>\n",
       "      <td>69</td>\n",
       "      <td>0.91</td>\n",
       "      <td>Asia</td>\n",
       "    </tr>\n",
       "  </tbody>\n",
       "</table>\n",
       "</div>"
      ],
      "text/plain": [
       "  Country/Region     Cases  Deaths    PCases  PDeaths  Cases (+)  Deaths (+)  \\\n",
       "0             US  33437746  599180  33424296   598744      13450         436   \n",
       "1          India  29359155  367081  29274823   363079      84332        4002   \n",
       "2         Brazil  17296118  484235  17210969   482019      85149        2216   \n",
       "3         France   5795487  110506   5791608   110432       3879          74   \n",
       "4         Turkey   5319359   48593   5313098    48524       6261          69   \n",
       "\n",
       "   Fatality Rate      Continent  \n",
       "0           1.79  North America  \n",
       "1           1.25           Asia  \n",
       "2           2.80  South America  \n",
       "3           1.91         Europe  \n",
       "4           0.91           Asia  "
      ]
     },
     "execution_count": 13,
     "metadata": {},
     "output_type": "execute_result"
    }
   ],
   "source": [
    "#hide\n",
    "for c in 'Cases, Deaths'.split(', '):\n",
    "    df_table[f'{c} (+)'] = (df_table[c] - df_table[f'P{c}']).clip(0)\n",
    "    #Clip ça veut dire, les chiffres negatif sont interdit\n",
    "df_table['Fatality Rate'] = (100* df_table['Deaths']/ df_table['Cases']).round(2)\n",
    "df_table['Continent'] = df_table['Country/Region'].map(mapping['map.continent'])\n",
    "df_table.head(5)"
   ]
  },
  {
   "cell_type": "code",
   "execution_count": 14,
   "id": "aboriginal-bulgaria",
   "metadata": {
    "execution": {
     "iopub.execute_input": "2021-06-12T12:09:07.154177Z",
     "iopub.status.busy": "2021-06-12T12:09:07.153389Z",
     "iopub.status.idle": "2021-06-12T12:09:07.157889Z",
     "shell.execute_reply": "2021-06-12T12:09:07.158600Z"
    },
    "papermill": {
     "duration": 0.046559,
     "end_time": "2021-06-12T12:09:07.158796",
     "exception": false,
     "start_time": "2021-06-12T12:09:07.112237",
     "status": "completed"
    },
    "tags": []
   },
   "outputs": [],
   "source": [
    "#hide\n",
    "#delete problematic countries from table\n",
    "df_table = df_table[~df_table['Country/Region'].isin(['Cape Verde', 'Cruise Ship', 'Kosovo'])]"
   ]
  },
  {
   "cell_type": "code",
   "execution_count": 15,
   "id": "fantastic-effect",
   "metadata": {
    "execution": {
     "iopub.execute_input": "2021-06-12T12:09:07.249804Z",
     "iopub.status.busy": "2021-06-12T12:09:07.246935Z",
     "iopub.status.idle": "2021-06-12T12:09:07.273630Z",
     "shell.execute_reply": "2021-06-12T12:09:07.273020Z"
    },
    "papermill": {
     "duration": 0.07337,
     "end_time": "2021-06-12T12:09:07.273777",
     "exception": false,
     "start_time": "2021-06-12T12:09:07.200407",
     "status": "completed"
    },
    "tags": []
   },
   "outputs": [
    {
     "data": {
      "text/html": [
       "<div>\n",
       "<style scoped>\n",
       "    .dataframe tbody tr th:only-of-type {\n",
       "        vertical-align: middle;\n",
       "    }\n",
       "\n",
       "    .dataframe tbody tr th {\n",
       "        vertical-align: top;\n",
       "    }\n",
       "\n",
       "    .dataframe thead th {\n",
       "        text-align: right;\n",
       "    }\n",
       "</style>\n",
       "<table border=\"1\" class=\"dataframe\">\n",
       "  <thead>\n",
       "    <tr style=\"text-align: right;\">\n",
       "      <th></th>\n",
       "      <th>Country/Region</th>\n",
       "      <th>Cases</th>\n",
       "      <th>Deaths</th>\n",
       "      <th>PCases</th>\n",
       "      <th>PDeaths</th>\n",
       "      <th>Cases (+)</th>\n",
       "      <th>Deaths (+)</th>\n",
       "      <th>Fatality Rate</th>\n",
       "      <th>Continent</th>\n",
       "    </tr>\n",
       "  </thead>\n",
       "  <tbody>\n",
       "    <tr>\n",
       "      <th>0</th>\n",
       "      <td>US</td>\n",
       "      <td>33437746</td>\n",
       "      <td>599180</td>\n",
       "      <td>33424296</td>\n",
       "      <td>598744</td>\n",
       "      <td>13450</td>\n",
       "      <td>436</td>\n",
       "      <td>1.8</td>\n",
       "      <td>North America</td>\n",
       "    </tr>\n",
       "    <tr>\n",
       "      <th>1</th>\n",
       "      <td>India</td>\n",
       "      <td>29359155</td>\n",
       "      <td>367081</td>\n",
       "      <td>29274823</td>\n",
       "      <td>363079</td>\n",
       "      <td>84332</td>\n",
       "      <td>4002</td>\n",
       "      <td>1.3</td>\n",
       "      <td>Asia</td>\n",
       "    </tr>\n",
       "    <tr>\n",
       "      <th>2</th>\n",
       "      <td>Brazil</td>\n",
       "      <td>17296118</td>\n",
       "      <td>484235</td>\n",
       "      <td>17210969</td>\n",
       "      <td>482019</td>\n",
       "      <td>85149</td>\n",
       "      <td>2216</td>\n",
       "      <td>2.8</td>\n",
       "      <td>South America</td>\n",
       "    </tr>\n",
       "    <tr>\n",
       "      <th>3</th>\n",
       "      <td>France</td>\n",
       "      <td>5795487</td>\n",
       "      <td>110506</td>\n",
       "      <td>5791608</td>\n",
       "      <td>110432</td>\n",
       "      <td>3879</td>\n",
       "      <td>74</td>\n",
       "      <td>1.9</td>\n",
       "      <td>Europe</td>\n",
       "    </tr>\n",
       "    <tr>\n",
       "      <th>4</th>\n",
       "      <td>Turkey</td>\n",
       "      <td>5319359</td>\n",
       "      <td>48593</td>\n",
       "      <td>5313098</td>\n",
       "      <td>48524</td>\n",
       "      <td>6261</td>\n",
       "      <td>69</td>\n",
       "      <td>0.9</td>\n",
       "      <td>Asia</td>\n",
       "    </tr>\n",
       "  </tbody>\n",
       "</table>\n",
       "</div>"
      ],
      "text/plain": [
       "  Country/Region     Cases  Deaths    PCases  PDeaths  Cases (+)  Deaths (+)  \\\n",
       "0             US  33437746  599180  33424296   598744      13450         436   \n",
       "1          India  29359155  367081  29274823   363079      84332        4002   \n",
       "2         Brazil  17296118  484235  17210969   482019      85149        2216   \n",
       "3         France   5795487  110506   5791608   110432       3879          74   \n",
       "4         Turkey   5319359   48593   5313098    48524       6261          69   \n",
       "\n",
       "   Fatality Rate      Continent  \n",
       "0            1.8  North America  \n",
       "1            1.3           Asia  \n",
       "2            2.8  South America  \n",
       "3            1.9         Europe  \n",
       "4            0.9           Asia  "
      ]
     },
     "execution_count": 15,
     "metadata": {},
     "output_type": "execute_result"
    }
   ],
   "source": [
    "#hide\n",
    "df_table = (pd.DataFrame(dict(Cases=dfc_cases, Deaths=dfc_deaths, PCases=dfp_cases, PDeaths=dfp_deaths))\n",
    "             .sort_values(by=['Cases', 'Deaths'], ascending=[False, False])\n",
    "             .reset_index())\n",
    "df_table.rename(columns={'index': 'Country/Region'}, inplace=True)\n",
    "for c in 'Cases, Deaths'.split(', '):\n",
    "    df_table[f'{c} (+)'] = (df_table[c] - df_table[f'P{c}']).clip(0)  # DATA BUG\n",
    "df_table['Fatality Rate'] = (100 * df_table['Deaths'] / df_table['Cases']).round(1)\n",
    "df_table['Continent'] = df_table['Country/Region'].map(mapping['map.continent'])\n",
    "df_table.head(5)"
   ]
  },
  {
   "cell_type": "code",
   "execution_count": 16,
   "id": "fewer-occasion",
   "metadata": {
    "execution": {
     "iopub.execute_input": "2021-06-12T12:09:07.362410Z",
     "iopub.status.busy": "2021-06-12T12:09:07.361699Z",
     "iopub.status.idle": "2021-06-12T12:09:07.363512Z",
     "shell.execute_reply": "2021-06-12T12:09:07.362983Z"
    },
    "papermill": {
     "duration": 0.050653,
     "end_time": "2021-06-12T12:09:07.363635",
     "exception": false,
     "start_time": "2021-06-12T12:09:07.312982",
     "status": "completed"
    },
    "tags": []
   },
   "outputs": [],
   "source": [
    "#hide\n",
    "#delete problematic countries from table\n",
    "df_table = df_table[~df_table['Country/Region'].isin(['Cape Verde', 'Cruise Ship', 'Kosovo'])]"
   ]
  },
  {
   "cell_type": "code",
   "execution_count": 17,
   "id": "related-center",
   "metadata": {
    "execution": {
     "iopub.execute_input": "2021-06-12T12:09:07.447092Z",
     "iopub.status.busy": "2021-06-12T12:09:07.446494Z",
     "iopub.status.idle": "2021-06-12T12:09:07.464111Z",
     "shell.execute_reply": "2021-06-12T12:09:07.463529Z"
    },
    "papermill": {
     "duration": 0.062561,
     "end_time": "2021-06-12T12:09:07.464246",
     "exception": false,
     "start_time": "2021-06-12T12:09:07.401685",
     "status": "completed"
    },
    "tags": []
   },
   "outputs": [],
   "source": [
    "#hide\n",
    "metrics = [df_table.columns[index] for index in [1,2,5,6]]\n",
    "# s_china = df_table[df_table['Country/Region'].eq('China')][metrics].sum().add_prefix('China ')\n",
    "s_us = df_table[df_table['Country/Region'].eq('US')][metrics].sum().add_prefix('US ')\n",
    "s_eu = df_table[df_table['Continent'].eq('Europe')][metrics].sum().add_prefix('EU ')\n",
    "s_ind = df_table[df_table['Country/Region'].eq('India')][metrics].sum().add_prefix('India ')\n",
    "summary = {'updated': pd.to_datetime(dt_today), 'since': pd.to_datetime(dt_yday)}\n",
    "summary = {'updated': pd.to_datetime(dt_today), 'since': pd.to_datetime(dt_yday)}\n",
    "summary = {**summary, **df_table[metrics].sum(), **s_ind, **s_us, **s_eu}"
   ]
  },
  {
   "cell_type": "code",
   "execution_count": 18,
   "id": "engaging-syndrome",
   "metadata": {
    "execution": {
     "iopub.execute_input": "2021-06-12T12:09:07.546291Z",
     "iopub.status.busy": "2021-06-12T12:09:07.545647Z",
     "iopub.status.idle": "2021-06-12T12:09:07.558494Z",
     "shell.execute_reply": "2021-06-12T12:09:07.558986Z"
    },
    "papermill": {
     "duration": 0.056063,
     "end_time": "2021-06-12T12:09:07.559110",
     "exception": false,
     "start_time": "2021-06-12T12:09:07.503047",
     "status": "completed"
    },
    "tags": []
   },
   "outputs": [],
   "source": [
    "#hide\n",
    "dft_ct_new_cases = dft_cases.groupby(COL_REGION)[dt_cols].sum().diff(axis=1).fillna(0).astype(int)"
   ]
  },
  {
   "cell_type": "code",
   "execution_count": 19,
   "id": "neutral-assignment",
   "metadata": {
    "execution": {
     "iopub.execute_input": "2021-06-12T12:09:07.641706Z",
     "iopub.status.busy": "2021-06-12T12:09:07.641021Z",
     "iopub.status.idle": "2021-06-12T12:09:07.643160Z",
     "shell.execute_reply": "2021-06-12T12:09:07.643766Z"
    },
    "papermill": {
     "duration": 0.046651,
     "end_time": "2021-06-12T12:09:07.643944",
     "exception": false,
     "start_time": "2021-06-12T12:09:07.597293",
     "status": "completed"
    },
    "tags": []
   },
   "outputs": [],
   "source": [
    "#hide\n",
    "everydaycases = dft_ct_new_cases.cumsum(axis=1)"
   ]
  },
  {
   "cell_type": "code",
   "execution_count": 20,
   "id": "parliamentary-calgary",
   "metadata": {
    "execution": {
     "iopub.execute_input": "2021-06-12T12:09:07.724188Z",
     "iopub.status.busy": "2021-06-12T12:09:07.723441Z",
     "iopub.status.idle": "2021-06-12T12:09:08.380172Z",
     "shell.execute_reply": "2021-06-12T12:09:08.379438Z"
    },
    "papermill": {
     "duration": 0.697164,
     "end_time": "2021-06-12T12:09:08.380341",
     "exception": false,
     "start_time": "2021-06-12T12:09:07.683177",
     "status": "completed"
    },
    "tags": []
   },
   "outputs": [],
   "source": [
    "#hide\n",
    "import pandas as pd\n",
    "import matplotlib.pyplot as plt\n",
    "import matplotlib.ticker as ticker\n",
    "import matplotlib.animation as animation\n",
    "from IPython.display import HTML"
   ]
  },
  {
   "cell_type": "code",
   "execution_count": 21,
   "id": "lasting-extraction",
   "metadata": {
    "execution": {
     "iopub.execute_input": "2021-06-12T12:09:08.461493Z",
     "iopub.status.busy": "2021-06-12T12:09:08.460754Z",
     "iopub.status.idle": "2021-06-12T12:09:08.466847Z",
     "shell.execute_reply": "2021-06-12T12:09:08.467451Z"
    },
    "papermill": {
     "duration": 0.048698,
     "end_time": "2021-06-12T12:09:08.467578",
     "exception": false,
     "start_time": "2021-06-12T12:09:08.418880",
     "status": "completed"
    },
    "tags": []
   },
   "outputs": [],
   "source": [
    "#hide\n",
    "t = everydaycases.stack()"
   ]
  },
  {
   "cell_type": "code",
   "execution_count": 22,
   "id": "premier-sleeve",
   "metadata": {
    "execution": {
     "iopub.execute_input": "2021-06-12T12:09:08.548652Z",
     "iopub.status.busy": "2021-06-12T12:09:08.548067Z",
     "iopub.status.idle": "2021-06-12T12:09:08.555458Z",
     "shell.execute_reply": "2021-06-12T12:09:08.556227Z"
    },
    "papermill": {
     "duration": 0.049611,
     "end_time": "2021-06-12T12:09:08.556353",
     "exception": false,
     "start_time": "2021-06-12T12:09:08.506742",
     "status": "completed"
    },
    "tags": []
   },
   "outputs": [],
   "source": [
    "#hide\n",
    "g = t.reset_index(['Country/Region'])"
   ]
  },
  {
   "cell_type": "code",
   "execution_count": 23,
   "id": "distributed-pittsburgh",
   "metadata": {
    "execution": {
     "iopub.execute_input": "2021-06-12T12:09:08.641826Z",
     "iopub.status.busy": "2021-06-12T12:09:08.641115Z",
     "iopub.status.idle": "2021-06-12T12:09:08.643073Z",
     "shell.execute_reply": "2021-06-12T12:09:08.643687Z"
    },
    "papermill": {
     "duration": 0.044931,
     "end_time": "2021-06-12T12:09:08.643819",
     "exception": false,
     "start_time": "2021-06-12T12:09:08.598888",
     "status": "completed"
    },
    "tags": []
   },
   "outputs": [],
   "source": [
    "#hide\n",
    "g.index.name = 'date'"
   ]
  },
  {
   "cell_type": "code",
   "execution_count": 24,
   "id": "naked-donor",
   "metadata": {
    "execution": {
     "iopub.execute_input": "2021-06-12T12:09:08.724746Z",
     "iopub.status.busy": "2021-06-12T12:09:08.724167Z",
     "iopub.status.idle": "2021-06-12T12:09:08.726493Z",
     "shell.execute_reply": "2021-06-12T12:09:08.727160Z"
    },
    "papermill": {
     "duration": 0.045427,
     "end_time": "2021-06-12T12:09:08.727353",
     "exception": false,
     "start_time": "2021-06-12T12:09:08.681926",
     "status": "completed"
    },
    "tags": []
   },
   "outputs": [],
   "source": [
    "# #hide\n",
    "# g = g.reset_index(['date'])"
   ]
  },
  {
   "cell_type": "code",
   "execution_count": 25,
   "id": "incomplete-mustang",
   "metadata": {
    "execution": {
     "iopub.execute_input": "2021-06-12T12:09:08.807575Z",
     "iopub.status.busy": "2021-06-12T12:09:08.807023Z",
     "iopub.status.idle": "2021-06-12T12:09:08.809232Z",
     "shell.execute_reply": "2021-06-12T12:09:08.809885Z"
    },
    "papermill": {
     "duration": 0.044173,
     "end_time": "2021-06-12T12:09:08.810053",
     "exception": false,
     "start_time": "2021-06-12T12:09:08.765880",
     "status": "completed"
    },
    "tags": []
   },
   "outputs": [],
   "source": [
    "#hide\n",
    "# g.head()"
   ]
  },
  {
   "cell_type": "code",
   "execution_count": 26,
   "id": "specific-kruger",
   "metadata": {
    "execution": {
     "iopub.execute_input": "2021-06-12T12:09:08.895946Z",
     "iopub.status.busy": "2021-06-12T12:09:08.895336Z",
     "iopub.status.idle": "2021-06-12T12:09:08.897085Z",
     "shell.execute_reply": "2021-06-12T12:09:08.897654Z"
    },
    "papermill": {
     "duration": 0.047914,
     "end_time": "2021-06-12T12:09:08.897791",
     "exception": false,
     "start_time": "2021-06-12T12:09:08.849877",
     "status": "completed"
    },
    "tags": []
   },
   "outputs": [],
   "source": [
    "#hide\n",
    "# g.columns = ['date','country','cases']"
   ]
  },
  {
   "cell_type": "code",
   "execution_count": 27,
   "id": "tender-conversion",
   "metadata": {
    "execution": {
     "iopub.execute_input": "2021-06-12T12:09:08.978317Z",
     "iopub.status.busy": "2021-06-12T12:09:08.977498Z",
     "iopub.status.idle": "2021-06-12T12:09:08.982061Z",
     "shell.execute_reply": "2021-06-12T12:09:08.981292Z"
    },
    "papermill": {
     "duration": 0.04656,
     "end_time": "2021-06-12T12:09:08.982214",
     "exception": false,
     "start_time": "2021-06-12T12:09:08.935654",
     "status": "completed"
    },
    "tags": []
   },
   "outputs": [],
   "source": [
    "#hide\n",
    "# g['continent'] = g.country"
   ]
  },
  {
   "cell_type": "code",
   "execution_count": 28,
   "id": "substantial-wilderness",
   "metadata": {
    "execution": {
     "iopub.execute_input": "2021-06-12T12:09:09.067499Z",
     "iopub.status.busy": "2021-06-12T12:09:09.066893Z",
     "iopub.status.idle": "2021-06-12T12:09:09.069327Z",
     "shell.execute_reply": "2021-06-12T12:09:09.068814Z"
    },
    "papermill": {
     "duration": 0.048179,
     "end_time": "2021-06-12T12:09:09.069482",
     "exception": false,
     "start_time": "2021-06-12T12:09:09.021303",
     "status": "completed"
    },
    "tags": []
   },
   "outputs": [],
   "source": [
    "#hide\n",
    "# cols = list(g.columns.values)"
   ]
  },
  {
   "cell_type": "code",
   "execution_count": 29,
   "id": "solved-farming",
   "metadata": {
    "execution": {
     "iopub.execute_input": "2021-06-12T12:09:09.155537Z",
     "iopub.status.busy": "2021-06-12T12:09:09.154843Z",
     "iopub.status.idle": "2021-06-12T12:09:09.157397Z",
     "shell.execute_reply": "2021-06-12T12:09:09.156810Z"
    },
    "papermill": {
     "duration": 0.045752,
     "end_time": "2021-06-12T12:09:09.157525",
     "exception": false,
     "start_time": "2021-06-12T12:09:09.111773",
     "status": "completed"
    },
    "tags": []
   },
   "outputs": [],
   "source": [
    "#hide\n",
    "# cols.insert(0, cols.pop())"
   ]
  },
  {
   "cell_type": "code",
   "execution_count": 30,
   "id": "executed-adoption",
   "metadata": {
    "execution": {
     "iopub.execute_input": "2021-06-12T12:09:09.246173Z",
     "iopub.status.busy": "2021-06-12T12:09:09.245514Z",
     "iopub.status.idle": "2021-06-12T12:09:09.247855Z",
     "shell.execute_reply": "2021-06-12T12:09:09.247159Z"
    },
    "papermill": {
     "duration": 0.046691,
     "end_time": "2021-06-12T12:09:09.247987",
     "exception": false,
     "start_time": "2021-06-12T12:09:09.201296",
     "status": "completed"
    },
    "tags": []
   },
   "outputs": [],
   "source": [
    "#hide\n",
    "# g = g[cols]"
   ]
  },
  {
   "cell_type": "code",
   "execution_count": 31,
   "id": "subject-dublin",
   "metadata": {
    "execution": {
     "iopub.execute_input": "2021-06-12T12:09:09.334488Z",
     "iopub.status.busy": "2021-06-12T12:09:09.333674Z",
     "iopub.status.idle": "2021-06-12T12:09:09.336087Z",
     "shell.execute_reply": "2021-06-12T12:09:09.335581Z"
    },
    "papermill": {
     "duration": 0.04622,
     "end_time": "2021-06-12T12:09:09.336204",
     "exception": false,
     "start_time": "2021-06-12T12:09:09.289984",
     "status": "completed"
    },
    "tags": []
   },
   "outputs": [],
   "source": [
    "#hide\n",
    "# g['continent'] = g['continent'].map(mapping['map.continent'])"
   ]
  },
  {
   "cell_type": "code",
   "execution_count": 32,
   "id": "freelance-scout",
   "metadata": {
    "execution": {
     "iopub.execute_input": "2021-06-12T12:09:09.415888Z",
     "iopub.status.busy": "2021-06-12T12:09:09.415292Z",
     "iopub.status.idle": "2021-06-12T12:09:09.417712Z",
     "shell.execute_reply": "2021-06-12T12:09:09.417195Z"
    },
    "papermill": {
     "duration": 0.043957,
     "end_time": "2021-06-12T12:09:09.417822",
     "exception": false,
     "start_time": "2021-06-12T12:09:09.373865",
     "status": "completed"
    },
    "tags": []
   },
   "outputs": [],
   "source": [
    "#hide\n",
    "# g.head()"
   ]
  },
  {
   "cell_type": "code",
   "execution_count": 33,
   "id": "limited-engine",
   "metadata": {
    "execution": {
     "iopub.execute_input": "2021-06-12T12:09:09.499924Z",
     "iopub.status.busy": "2021-06-12T12:09:09.499334Z",
     "iopub.status.idle": "2021-06-12T12:09:09.501266Z",
     "shell.execute_reply": "2021-06-12T12:09:09.501933Z"
    },
    "papermill": {
     "duration": 0.047534,
     "end_time": "2021-06-12T12:09:09.502062",
     "exception": false,
     "start_time": "2021-06-12T12:09:09.454528",
     "status": "completed"
    },
    "tags": []
   },
   "outputs": [],
   "source": [
    "# hide\n",
    "# g['date'] = g['date'].astype('datetime64[ns]')"
   ]
  },
  {
   "cell_type": "code",
   "execution_count": 34,
   "id": "sophisticated-supervisor",
   "metadata": {
    "execution": {
     "iopub.execute_input": "2021-06-12T12:09:09.581211Z",
     "iopub.status.busy": "2021-06-12T12:09:09.580624Z",
     "iopub.status.idle": "2021-06-12T12:09:09.582638Z",
     "shell.execute_reply": "2021-06-12T12:09:09.583119Z"
    },
    "papermill": {
     "duration": 0.043923,
     "end_time": "2021-06-12T12:09:09.583235",
     "exception": false,
     "start_time": "2021-06-12T12:09:09.539312",
     "status": "completed"
    },
    "tags": []
   },
   "outputs": [],
   "source": [
    "#hide\n",
    "# g['date'] = g.date.dt.dayofyear"
   ]
  },
  {
   "cell_type": "code",
   "execution_count": 35,
   "id": "inside-dubai",
   "metadata": {
    "execution": {
     "iopub.execute_input": "2021-06-12T12:09:09.665393Z",
     "iopub.status.busy": "2021-06-12T12:09:09.664768Z",
     "iopub.status.idle": "2021-06-12T12:09:09.667106Z",
     "shell.execute_reply": "2021-06-12T12:09:09.666637Z"
    },
    "papermill": {
     "duration": 0.044721,
     "end_time": "2021-06-12T12:09:09.667342",
     "exception": false,
     "start_time": "2021-06-12T12:09:09.622621",
     "status": "completed"
    },
    "tags": []
   },
   "outputs": [],
   "source": [
    "#hide\n",
    "# g = g.rename(columns= {'continent':'group','country':'name','cases':'value'})"
   ]
  },
  {
   "cell_type": "code",
   "execution_count": 36,
   "id": "fleet-motorcycle",
   "metadata": {
    "execution": {
     "iopub.execute_input": "2021-06-12T12:09:09.751815Z",
     "iopub.status.busy": "2021-06-12T12:09:09.751178Z",
     "iopub.status.idle": "2021-06-12T12:09:09.753319Z",
     "shell.execute_reply": "2021-06-12T12:09:09.754042Z"
    },
    "papermill": {
     "duration": 0.046832,
     "end_time": "2021-06-12T12:09:09.754199",
     "exception": false,
     "start_time": "2021-06-12T12:09:09.707367",
     "status": "completed"
    },
    "tags": []
   },
   "outputs": [],
   "source": [
    "#hide\n",
    "# cols = ['name','group','day','value']"
   ]
  },
  {
   "cell_type": "code",
   "execution_count": 37,
   "id": "continued-sleeping",
   "metadata": {
    "execution": {
     "iopub.execute_input": "2021-06-12T12:09:09.835253Z",
     "iopub.status.busy": "2021-06-12T12:09:09.834695Z",
     "iopub.status.idle": "2021-06-12T12:09:09.837165Z",
     "shell.execute_reply": "2021-06-12T12:09:09.836682Z"
    },
    "papermill": {
     "duration": 0.042698,
     "end_time": "2021-06-12T12:09:09.837275",
     "exception": false,
     "start_time": "2021-06-12T12:09:09.794577",
     "status": "completed"
    },
    "tags": []
   },
   "outputs": [],
   "source": [
    "#hide\n",
    "# g.rename(columns= {'date':'day'},inplace = True)"
   ]
  },
  {
   "cell_type": "code",
   "execution_count": 38,
   "id": "major-fight",
   "metadata": {
    "execution": {
     "iopub.execute_input": "2021-06-12T12:09:09.921222Z",
     "iopub.status.busy": "2021-06-12T12:09:09.920658Z",
     "iopub.status.idle": "2021-06-12T12:09:09.922492Z",
     "shell.execute_reply": "2021-06-12T12:09:09.923030Z"
    },
    "papermill": {
     "duration": 0.046038,
     "end_time": "2021-06-12T12:09:09.923218",
     "exception": false,
     "start_time": "2021-06-12T12:09:09.877180",
     "status": "completed"
    },
    "tags": []
   },
   "outputs": [],
   "source": [
    "#hide\n",
    "# g = g[cols]"
   ]
  },
  {
   "cell_type": "code",
   "execution_count": 39,
   "id": "structured-mobile",
   "metadata": {
    "execution": {
     "iopub.execute_input": "2021-06-12T12:09:10.006903Z",
     "iopub.status.busy": "2021-06-12T12:09:10.006150Z",
     "iopub.status.idle": "2021-06-12T12:09:10.008069Z",
     "shell.execute_reply": "2021-06-12T12:09:10.008593Z"
    },
    "papermill": {
     "duration": 0.045315,
     "end_time": "2021-06-12T12:09:10.008718",
     "exception": false,
     "start_time": "2021-06-12T12:09:09.963403",
     "status": "completed"
    },
    "tags": []
   },
   "outputs": [],
   "source": [
    "# #hide\n",
    "# g = g[g.group.notna()]"
   ]
  },
  {
   "cell_type": "code",
   "execution_count": 40,
   "id": "determined-closing",
   "metadata": {
    "execution": {
     "iopub.execute_input": "2021-06-12T12:09:10.090419Z",
     "iopub.status.busy": "2021-06-12T12:09:10.089783Z",
     "iopub.status.idle": "2021-06-12T12:09:10.095791Z",
     "shell.execute_reply": "2021-06-12T12:09:10.095257Z"
    },
    "papermill": {
     "duration": 0.048342,
     "end_time": "2021-06-12T12:09:10.095926",
     "exception": false,
     "start_time": "2021-06-12T12:09:10.047584",
     "status": "completed"
    },
    "tags": []
   },
   "outputs": [],
   "source": [
    "# #hide\n",
    "# colors = dict(zip(\n",
    "#     [\"Oceania\", \"Europe\", \"Asia\", \"South America\", \"Middle East\", \"North America\", \"Africa\"],\n",
    "#     [\"#adb0ff\", \"#ffb3ff\", \"#90d595\", \"#e48381\", \"#aafbff\", \"#f7bb5f\", \"#eafb50\"]\n",
    "# ))\n",
    "# group_lk = g.set_index('name')['group'].to_dict()"
   ]
  },
  {
   "cell_type": "code",
   "execution_count": null,
   "id": "gross-drinking",
   "metadata": {
    "papermill": {
     "duration": 0.03743,
     "end_time": "2021-06-12T12:09:10.171315",
     "exception": false,
     "start_time": "2021-06-12T12:09:10.133885",
     "status": "completed"
    },
    "tags": []
   },
   "outputs": [],
   "source": []
  },
  {
   "cell_type": "code",
   "execution_count": 41,
   "id": "subject-macintosh",
   "metadata": {
    "execution": {
     "iopub.execute_input": "2021-06-12T12:09:10.254333Z",
     "iopub.status.busy": "2021-06-12T12:09:10.253541Z",
     "iopub.status.idle": "2021-06-12T12:09:10.255607Z",
     "shell.execute_reply": "2021-06-12T12:09:10.256124Z"
    },
    "papermill": {
     "duration": 0.046435,
     "end_time": "2021-06-12T12:09:10.256264",
     "exception": false,
     "start_time": "2021-06-12T12:09:10.209829",
     "status": "completed"
    },
    "tags": []
   },
   "outputs": [],
   "source": [
    "# #hide\n",
    "# fig, ax = plt.subplots(figsize=(15, 8))\n",
    "\n",
    "# def draw_barchart(current_day):\n",
    "#     dff = g[g['day'].eq(current_day)].sort_values(by='value', ascending=True).tail(10)\n",
    "#     ax.clear()\n",
    "#     ax.barh(dff['name'], dff['value'], color=[colors[group_lk[x]] for x in dff['name']])\n",
    "#     dx = dff['value'].max() / 200\n",
    "    \n",
    "#     for i, (value, name) in enumerate(zip(dff['value'], dff['name'])):\n",
    "#         ax.text(value-dx, i,     name,           size=14, weight=600, ha='right', va='bottom')\n",
    "#         ax.text(value-dx, i-.25, group_lk[name], size=10, color='#444444', ha='right', va='baseline')\n",
    "#         ax.text(value+dx, i,     f'{value:,.0f}',  size=14, ha='left',  va='center')\n",
    "#     ax.text(1, 0.4, current_day, transform=ax.transAxes, color='#777777', size=46, ha='right', weight=800)\n",
    "#     ax.text(0, 1.06, 'Population (thousands)', transform=ax.transAxes, size=12, color='#777777')\n",
    "#     ax.xaxis.set_major_formatter(ticker.StrMethodFormatter('{x:,.0f}'))\n",
    "#     ax.xaxis.set_ticks_position('top')\n",
    "#     ax.tick_params(axis='x', colors='#777777', labelsize=12)\n",
    "#     ax.set_yticks([])\n",
    "#     ax.margins(0, 0.01)\n",
    "#     ax.grid(which='major', axis='x', linestyle='-')\n",
    "#     ax.set_axisbelow(True)\n",
    "    \n",
    "#     ax.text(0, 1.15, 'Coronavirus',\n",
    "#             transform=ax.transAxes, size=24, weight=600, ha='left', va='top')\n",
    "# #     ax.text(1, 0, 'by @pratapvardhan; credit @jburnmurdoch', transform=ax.transAxes, color='#777777', ha='right',\n",
    "# #             bbox=dict(facecolor='white', alpha=0.8, edgecolor='white'))\n",
    "#     plt.box(False)"
   ]
  },
  {
   "cell_type": "code",
   "execution_count": 42,
   "id": "sexual-wages",
   "metadata": {
    "execution": {
     "iopub.execute_input": "2021-06-12T12:09:10.338189Z",
     "iopub.status.busy": "2021-06-12T12:09:10.337601Z",
     "iopub.status.idle": "2021-06-12T12:09:10.339959Z",
     "shell.execute_reply": "2021-06-12T12:09:10.339466Z"
    },
    "papermill": {
     "duration": 0.043856,
     "end_time": "2021-06-12T12:09:10.340071",
     "exception": false,
     "start_time": "2021-06-12T12:09:10.296215",
     "status": "completed"
    },
    "tags": []
   },
   "outputs": [],
   "source": [
    "# #hide_input\n",
    "# fig, ax = plt.subplots(figsize=(15, 8))\n",
    "# animator = animation.FuncAnimation(fig, draw_barchart, frames=range(g.day.values.min(), g.day.values.max()))\n",
    "# HTML(animator.to_jshtml())\n",
    "# # or use animator.to_html5_video() or animator.save() "
   ]
  },
  {
   "cell_type": "code",
   "execution_count": null,
   "id": "australian-container",
   "metadata": {
    "papermill": {
     "duration": 0.039067,
     "end_time": "2021-06-12T12:09:10.418049",
     "exception": false,
     "start_time": "2021-06-12T12:09:10.378982",
     "status": "completed"
    },
    "tags": []
   },
   "outputs": [],
   "source": []
  },
  {
   "cell_type": "code",
   "execution_count": null,
   "id": "mediterranean-pontiac",
   "metadata": {
    "papermill": {
     "duration": 0.037226,
     "end_time": "2021-06-12T12:09:10.495316",
     "exception": false,
     "start_time": "2021-06-12T12:09:10.458090",
     "status": "completed"
    },
    "tags": []
   },
   "outputs": [],
   "source": []
  },
  {
   "cell_type": "code",
   "execution_count": null,
   "id": "aging-legislature",
   "metadata": {
    "papermill": {
     "duration": 0.037493,
     "end_time": "2021-06-12T12:09:10.572585",
     "exception": false,
     "start_time": "2021-06-12T12:09:10.535092",
     "status": "completed"
    },
    "tags": []
   },
   "outputs": [],
   "source": []
  }
 ],
 "metadata": {
  "kernelspec": {
   "display_name": "Python 3",
   "language": "python",
   "name": "python3"
  },
  "language_info": {
   "codemirror_mode": {
    "name": "ipython",
    "version": 3
   },
   "file_extension": ".py",
   "mimetype": "text/x-python",
   "name": "python",
   "nbconvert_exporter": "python",
   "pygments_lexer": "ipython3",
   "version": "3.6.13"
  },
  "papermill": {
   "duration": 7.06116,
   "end_time": "2021-06-12T12:09:10.923543",
   "environment_variables": {},
   "exception": null,
   "input_path": "2020-03-21-covid19exp.ipynb",
   "output_path": "2020-03-21-covid19exp.ipynb",
   "parameters": {},
   "start_time": "2021-06-12T12:09:03.862383",
   "version": "2.0.0"
  }
 },
 "nbformat": 4,
 "nbformat_minor": 5
}