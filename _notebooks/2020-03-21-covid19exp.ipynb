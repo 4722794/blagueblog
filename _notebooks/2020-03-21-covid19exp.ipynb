{
 "cells": [
  {
   "cell_type": "markdown",
   "id": "muslim-click",
   "metadata": {
    "papermill": {
     "duration": 0.035964,
     "end_time": "2021-04-10T00:06:56.882066",
     "exception": false,
     "start_time": "2021-04-10T00:06:56.846102",
     "status": "completed"
    },
    "tags": []
   },
   "source": [
    "# COVID-19 Case Race\n",
    "> A race chart to see rising cases around the world\n",
    "\n",
    "- author: Hargun Oberoi\n",
    "- image: images/covid-overview.png\n",
    "- hide: false\n",
    "- badges: false"
   ]
  },
  {
   "cell_type": "code",
   "execution_count": 1,
   "id": "proof-material",
   "metadata": {
    "execution": {
     "iopub.execute_input": "2021-04-10T00:06:56.952014Z",
     "iopub.status.busy": "2021-04-10T00:06:56.951510Z",
     "iopub.status.idle": "2021-04-10T00:06:57.248462Z",
     "shell.execute_reply": "2021-04-10T00:06:57.247931Z"
    },
    "papermill": {
     "duration": 0.335927,
     "end_time": "2021-04-10T00:06:57.248615",
     "exception": false,
     "start_time": "2021-04-10T00:06:56.912688",
     "status": "completed"
    },
    "tags": []
   },
   "outputs": [],
   "source": [
    "#hide\n",
    "import numpy as np\n",
    "import pandas as pd\n",
    "from jinja2 import Template\n",
    "from IPython.display import HTML"
   ]
  },
  {
   "cell_type": "code",
   "execution_count": 2,
   "id": "developed-terminology",
   "metadata": {
    "execution": {
     "iopub.execute_input": "2021-04-10T00:06:57.313305Z",
     "iopub.status.busy": "2021-04-10T00:06:57.312794Z",
     "iopub.status.idle": "2021-04-10T00:06:57.314292Z",
     "shell.execute_reply": "2021-04-10T00:06:57.314753Z"
    },
    "papermill": {
     "duration": 0.036037,
     "end_time": "2021-04-10T00:06:57.314878",
     "exception": false,
     "start_time": "2021-04-10T00:06:57.278841",
     "status": "completed"
    },
    "tags": []
   },
   "outputs": [],
   "source": [
    "#hide\n",
    "\n",
    "# FETCH\n",
    "base_url = 'https://raw.githubusercontent.com/pratapvardhan/notebooks/master/covid19/'\n",
    "paths = {\n",
    "    'mapping': base_url + 'mapping_countries.csv',\n",
    "    'overview': base_url + 'overview.tpl'\n",
    "}"
   ]
  },
  {
   "cell_type": "code",
   "execution_count": 3,
   "id": "dynamic-saver",
   "metadata": {
    "execution": {
     "iopub.execute_input": "2021-04-10T00:06:57.384395Z",
     "iopub.status.busy": "2021-04-10T00:06:57.383900Z",
     "iopub.status.idle": "2021-04-10T00:06:57.386830Z",
     "shell.execute_reply": "2021-04-10T00:06:57.386399Z"
    },
    "papermill": {
     "duration": 0.042372,
     "end_time": "2021-04-10T00:06:57.386939",
     "exception": false,
     "start_time": "2021-04-10T00:06:57.344567",
     "status": "completed"
    },
    "tags": []
   },
   "outputs": [
    {
     "data": {
      "text/plain": [
       "'https://raw.githubusercontent.com/pratapvardhan/notebooks/master/covid19/mapping_countries.csv'"
      ]
     },
     "execution_count": 3,
     "metadata": {},
     "output_type": "execute_result"
    }
   ],
   "source": [
    "#hide\n",
    "paths['mapping']"
   ]
  },
  {
   "cell_type": "code",
   "execution_count": 4,
   "id": "urban-software",
   "metadata": {
    "execution": {
     "iopub.execute_input": "2021-04-10T00:06:57.452260Z",
     "iopub.status.busy": "2021-04-10T00:06:57.451764Z",
     "iopub.status.idle": "2021-04-10T00:06:57.453432Z",
     "shell.execute_reply": "2021-04-10T00:06:57.453903Z"
    },
    "papermill": {
     "duration": 0.037022,
     "end_time": "2021-04-10T00:06:57.454023",
     "exception": false,
     "start_time": "2021-04-10T00:06:57.417001",
     "status": "completed"
    },
    "tags": []
   },
   "outputs": [],
   "source": [
    "#hide\n",
    "def get_mappings(url):\n",
    "    df = pd.read_csv(url)\n",
    "    return {\n",
    "        'df': df,\n",
    "        'replace.country': dict(df.dropna(subset=['Name']).set_index('Country')['Name']),\n",
    "        'map.continent': dict(df.set_index('Name')['Continent'])\n",
    "    }"
   ]
  },
  {
   "cell_type": "code",
   "execution_count": 5,
   "id": "intimate-machinery",
   "metadata": {
    "execution": {
     "iopub.execute_input": "2021-04-10T00:06:57.518507Z",
     "iopub.status.busy": "2021-04-10T00:06:57.518004Z",
     "iopub.status.idle": "2021-04-10T00:06:57.544062Z",
     "shell.execute_reply": "2021-04-10T00:06:57.543634Z"
    },
    "papermill": {
     "duration": 0.060398,
     "end_time": "2021-04-10T00:06:57.544174",
     "exception": false,
     "start_time": "2021-04-10T00:06:57.483776",
     "status": "completed"
    },
    "tags": []
   },
   "outputs": [],
   "source": [
    "#hide\n",
    "mapping = get_mappings(paths['mapping'])"
   ]
  },
  {
   "cell_type": "code",
   "execution_count": 6,
   "id": "certified-tactics",
   "metadata": {
    "execution": {
     "iopub.execute_input": "2021-04-10T00:06:57.609225Z",
     "iopub.status.busy": "2021-04-10T00:06:57.608680Z",
     "iopub.status.idle": "2021-04-10T00:06:57.610449Z",
     "shell.execute_reply": "2021-04-10T00:06:57.610824Z"
    },
    "papermill": {
     "duration": 0.036762,
     "end_time": "2021-04-10T00:06:57.610955",
     "exception": false,
     "start_time": "2021-04-10T00:06:57.574193",
     "status": "completed"
    },
    "tags": []
   },
   "outputs": [],
   "source": [
    "#hide\n",
    "def get_template(path):\n",
    "    from urllib.parse import urlparse\n",
    "    if bool(urlparse(path).netloc):\n",
    "        from urllib.request import urlopen\n",
    "        return urlopen(path).read().decode('utf8')\n",
    "    return open(path).read()"
   ]
  },
  {
   "cell_type": "code",
   "execution_count": 7,
   "id": "realistic-blast",
   "metadata": {
    "execution": {
     "iopub.execute_input": "2021-04-10T00:06:57.675676Z",
     "iopub.status.busy": "2021-04-10T00:06:57.675175Z",
     "iopub.status.idle": "2021-04-10T00:06:57.676894Z",
     "shell.execute_reply": "2021-04-10T00:06:57.677375Z"
    },
    "papermill": {
     "duration": 0.036686,
     "end_time": "2021-04-10T00:06:57.677505",
     "exception": false,
     "start_time": "2021-04-10T00:06:57.640819",
     "status": "completed"
    },
    "tags": []
   },
   "outputs": [],
   "source": [
    "#hide\n",
    "def get_frame(name):\n",
    "    url = (\n",
    "        'https://raw.githubusercontent.com/CSSEGISandData/COVID-19/master/csse_covid_19_data/'\n",
    "        f'csse_covid_19_time_series/time_series_covid19_{name}_global.csv')\n",
    "    df = pd.read_csv(url)\n",
    "    # rename countries\n",
    "    df['Country/Region'] = df['Country/Region'].replace(mapping['replace.country'])\n",
    "    return df"
   ]
  },
  {
   "cell_type": "code",
   "execution_count": 8,
   "id": "affiliated-characterization",
   "metadata": {
    "execution": {
     "iopub.execute_input": "2021-04-10T00:06:57.743422Z",
     "iopub.status.busy": "2021-04-10T00:06:57.742919Z",
     "iopub.status.idle": "2021-04-10T00:06:57.744959Z",
     "shell.execute_reply": "2021-04-10T00:06:57.744506Z"
    },
    "papermill": {
     "duration": 0.037332,
     "end_time": "2021-04-10T00:06:57.745072",
     "exception": false,
     "start_time": "2021-04-10T00:06:57.707740",
     "status": "completed"
    },
    "tags": []
   },
   "outputs": [],
   "source": [
    "#hide\n",
    "def get_dates(df):\n",
    "    dt_cols = df.columns[~df.columns.isin(['Province/State', 'Country/Region', 'Lat', 'Long'])]\n",
    "    LAST_DATE_I = -1\n",
    "    # sometimes last column may be empty, then go backwards\n",
    "    for i in range(-1, -len(dt_cols), -1):\n",
    "        if not df[dt_cols[i]].fillna(0).eq(0).all():\n",
    "            LAST_DATE_I = i\n",
    "            break\n",
    "    return LAST_DATE_I, dt_cols"
   ]
  },
  {
   "cell_type": "code",
   "execution_count": 9,
   "id": "recent-optimization",
   "metadata": {
    "execution": {
     "iopub.execute_input": "2021-04-10T00:06:57.810097Z",
     "iopub.status.busy": "2021-04-10T00:06:57.809592Z",
     "iopub.status.idle": "2021-04-10T00:06:58.034951Z",
     "shell.execute_reply": "2021-04-10T00:06:58.035372Z"
    },
    "papermill": {
     "duration": 0.260612,
     "end_time": "2021-04-10T00:06:58.035507",
     "exception": false,
     "start_time": "2021-04-10T00:06:57.774895",
     "status": "completed"
    },
    "tags": []
   },
   "outputs": [],
   "source": [
    "#hide\n",
    "COL_REGION = 'Country/Region'\n",
    "# Confirmed, Recovered, Deaths\n",
    "df = get_frame('confirmed')\n",
    "# dft_: timeseries, dfc_: today country agg\n",
    "dft_cases = df\n",
    "dft_deaths = get_frame('deaths')\n",
    "dft_recovered = get_frame('recovered')\n",
    "LAST_DATE_I, dt_cols = get_dates(df)"
   ]
  },
  {
   "cell_type": "code",
   "execution_count": 10,
   "id": "absolute-copper",
   "metadata": {
    "execution": {
     "iopub.execute_input": "2021-04-10T00:06:58.092881Z",
     "iopub.status.busy": "2021-04-10T00:06:58.092417Z",
     "iopub.status.idle": "2021-04-10T00:06:58.095409Z",
     "shell.execute_reply": "2021-04-10T00:06:58.095828Z"
    },
    "papermill": {
     "duration": 0.033759,
     "end_time": "2021-04-10T00:06:58.095944",
     "exception": false,
     "start_time": "2021-04-10T00:06:58.062185",
     "status": "completed"
    },
    "tags": []
   },
   "outputs": [],
   "source": [
    "#hide\n",
    "LAST_DATE_I, dt_cols = get_dates(df)\n",
    "dt_today =dt_cols[LAST_DATE_I]\n",
    "# dt_5day = dt_cols[LAST_DATE_I - 5]\n",
    "dt_yday = dt_cols[LAST_DATE_I - 1]"
   ]
  },
  {
   "cell_type": "code",
   "execution_count": 11,
   "id": "restricted-sheriff",
   "metadata": {
    "execution": {
     "iopub.execute_input": "2021-04-10T00:06:58.153809Z",
     "iopub.status.busy": "2021-04-10T00:06:58.153372Z",
     "iopub.status.idle": "2021-04-10T00:06:58.160480Z",
     "shell.execute_reply": "2021-04-10T00:06:58.160998Z"
    },
    "papermill": {
     "duration": 0.038972,
     "end_time": "2021-04-10T00:06:58.161134",
     "exception": false,
     "start_time": "2021-04-10T00:06:58.122162",
     "status": "completed"
    },
    "tags": []
   },
   "outputs": [],
   "source": [
    "#hide\n",
    "dfc_cases = dft_cases.groupby(COL_REGION)[dt_today].sum()\n",
    "dfc_deaths = dft_deaths.groupby(COL_REGION)[dt_today].sum()\n",
    "# dfp_cases = dft_cases.groupby(COL_REGION)[dt_5day].sum()\n",
    "# dfp_deaths = dft_deaths.groupby(COL_REGION)[dt_5day].sum()\n",
    "dfp_cases = dft_cases.groupby(COL_REGION)[dt_yday].sum()\n",
    "dfp_deaths = dft_deaths.groupby(COL_REGION)[dt_yday].sum()"
   ]
  },
  {
   "cell_type": "code",
   "execution_count": 12,
   "id": "deluxe-hepatitis",
   "metadata": {
    "execution": {
     "iopub.execute_input": "2021-04-10T00:06:58.227375Z",
     "iopub.status.busy": "2021-04-10T00:06:58.226887Z",
     "iopub.status.idle": "2021-04-10T00:06:58.230949Z",
     "shell.execute_reply": "2021-04-10T00:06:58.230531Z"
    },
    "papermill": {
     "duration": 0.039282,
     "end_time": "2021-04-10T00:06:58.231049",
     "exception": false,
     "start_time": "2021-04-10T00:06:58.191767",
     "status": "completed"
    },
    "tags": []
   },
   "outputs": [],
   "source": [
    "#hide\n",
    "df_table = (pd.DataFrame(dict(Cases = dfc_cases, Deaths = dfc_deaths, PCases = dfp_cases, PDeaths = dfp_deaths))\n",
    "            .sort_values(by = ['Cases','Deaths'], ascending = [False, False])\n",
    "            .reset_index())"
   ]
  },
  {
   "cell_type": "code",
   "execution_count": 13,
   "id": "educational-chancellor",
   "metadata": {
    "execution": {
     "iopub.execute_input": "2021-04-10T00:06:58.307564Z",
     "iopub.status.busy": "2021-04-10T00:06:58.307100Z",
     "iopub.status.idle": "2021-04-10T00:06:58.313985Z",
     "shell.execute_reply": "2021-04-10T00:06:58.313624Z"
    },
    "papermill": {
     "duration": 0.05335,
     "end_time": "2021-04-10T00:06:58.314081",
     "exception": false,
     "start_time": "2021-04-10T00:06:58.260731",
     "status": "completed"
    },
    "tags": []
   },
   "outputs": [
    {
     "data": {
      "text/html": [
       "<div>\n",
       "<style scoped>\n",
       "    .dataframe tbody tr th:only-of-type {\n",
       "        vertical-align: middle;\n",
       "    }\n",
       "\n",
       "    .dataframe tbody tr th {\n",
       "        vertical-align: top;\n",
       "    }\n",
       "\n",
       "    .dataframe thead th {\n",
       "        text-align: right;\n",
       "    }\n",
       "</style>\n",
       "<table border=\"1\" class=\"dataframe\">\n",
       "  <thead>\n",
       "    <tr style=\"text-align: right;\">\n",
       "      <th></th>\n",
       "      <th>Country/Region</th>\n",
       "      <th>Cases</th>\n",
       "      <th>Deaths</th>\n",
       "      <th>PCases</th>\n",
       "      <th>PDeaths</th>\n",
       "      <th>Cases (+)</th>\n",
       "      <th>Deaths (+)</th>\n",
       "      <th>Fatality Rate</th>\n",
       "      <th>Continent</th>\n",
       "    </tr>\n",
       "  </thead>\n",
       "  <tbody>\n",
       "    <tr>\n",
       "      <th>0</th>\n",
       "      <td>US</td>\n",
       "      <td>31002264</td>\n",
       "      <td>560116</td>\n",
       "      <td>30922386</td>\n",
       "      <td>559116</td>\n",
       "      <td>79878</td>\n",
       "      <td>1000</td>\n",
       "      <td>1.81</td>\n",
       "      <td>North America</td>\n",
       "    </tr>\n",
       "    <tr>\n",
       "      <th>1</th>\n",
       "      <td>Brazil</td>\n",
       "      <td>13279857</td>\n",
       "      <td>345025</td>\n",
       "      <td>13193205</td>\n",
       "      <td>340776</td>\n",
       "      <td>86652</td>\n",
       "      <td>4249</td>\n",
       "      <td>2.60</td>\n",
       "      <td>South America</td>\n",
       "    </tr>\n",
       "    <tr>\n",
       "      <th>2</th>\n",
       "      <td>India</td>\n",
       "      <td>13060542</td>\n",
       "      <td>167642</td>\n",
       "      <td>12928574</td>\n",
       "      <td>166862</td>\n",
       "      <td>131968</td>\n",
       "      <td>780</td>\n",
       "      <td>1.28</td>\n",
       "      <td>Asia</td>\n",
       "    </tr>\n",
       "    <tr>\n",
       "      <th>3</th>\n",
       "      <td>France</td>\n",
       "      <td>5000155</td>\n",
       "      <td>98196</td>\n",
       "      <td>4902985</td>\n",
       "      <td>97444</td>\n",
       "      <td>97170</td>\n",
       "      <td>752</td>\n",
       "      <td>1.96</td>\n",
       "      <td>Europe</td>\n",
       "    </tr>\n",
       "    <tr>\n",
       "      <th>4</th>\n",
       "      <td>Russia</td>\n",
       "      <td>4563026</td>\n",
       "      <td>100158</td>\n",
       "      <td>4554481</td>\n",
       "      <td>99800</td>\n",
       "      <td>8545</td>\n",
       "      <td>358</td>\n",
       "      <td>2.19</td>\n",
       "      <td>Europe</td>\n",
       "    </tr>\n",
       "  </tbody>\n",
       "</table>\n",
       "</div>"
      ],
      "text/plain": [
       "  Country/Region     Cases  Deaths    PCases  PDeaths  Cases (+)  Deaths (+)  \\\n",
       "0             US  31002264  560116  30922386   559116      79878        1000   \n",
       "1         Brazil  13279857  345025  13193205   340776      86652        4249   \n",
       "2          India  13060542  167642  12928574   166862     131968         780   \n",
       "3         France   5000155   98196   4902985    97444      97170         752   \n",
       "4         Russia   4563026  100158   4554481    99800       8545         358   \n",
       "\n",
       "   Fatality Rate      Continent  \n",
       "0           1.81  North America  \n",
       "1           2.60  South America  \n",
       "2           1.28           Asia  \n",
       "3           1.96         Europe  \n",
       "4           2.19         Europe  "
      ]
     },
     "execution_count": 13,
     "metadata": {},
     "output_type": "execute_result"
    }
   ],
   "source": [
    "#hide\n",
    "for c in 'Cases, Deaths'.split(', '):\n",
    "    df_table[f'{c} (+)'] = (df_table[c] - df_table[f'P{c}']).clip(0)\n",
    "    #Clip ça veut dire, les chiffres negatif sont interdit\n",
    "df_table['Fatality Rate'] = (100* df_table['Deaths']/ df_table['Cases']).round(2)\n",
    "df_table['Continent'] = df_table['Country/Region'].map(mapping['map.continent'])\n",
    "df_table.head(5)"
   ]
  },
  {
   "cell_type": "code",
   "execution_count": 14,
   "id": "aboriginal-bulgaria",
   "metadata": {
    "execution": {
     "iopub.execute_input": "2021-04-10T00:06:58.372423Z",
     "iopub.status.busy": "2021-04-10T00:06:58.371978Z",
     "iopub.status.idle": "2021-04-10T00:06:58.375175Z",
     "shell.execute_reply": "2021-04-10T00:06:58.374822Z"
    },
    "papermill": {
     "duration": 0.03417,
     "end_time": "2021-04-10T00:06:58.375272",
     "exception": false,
     "start_time": "2021-04-10T00:06:58.341102",
     "status": "completed"
    },
    "tags": []
   },
   "outputs": [],
   "source": [
    "#hide\n",
    "#delete problematic countries from table\n",
    "df_table = df_table[~df_table['Country/Region'].isin(['Cape Verde', 'Cruise Ship', 'Kosovo'])]"
   ]
  },
  {
   "cell_type": "code",
   "execution_count": 15,
   "id": "fantastic-effect",
   "metadata": {
    "execution": {
     "iopub.execute_input": "2021-04-10T00:06:58.436763Z",
     "iopub.status.busy": "2021-04-10T00:06:58.436285Z",
     "iopub.status.idle": "2021-04-10T00:06:58.453007Z",
     "shell.execute_reply": "2021-04-10T00:06:58.452616Z"
    },
    "papermill": {
     "duration": 0.051087,
     "end_time": "2021-04-10T00:06:58.453111",
     "exception": false,
     "start_time": "2021-04-10T00:06:58.402024",
     "status": "completed"
    },
    "tags": []
   },
   "outputs": [
    {
     "data": {
      "text/html": [
       "<div>\n",
       "<style scoped>\n",
       "    .dataframe tbody tr th:only-of-type {\n",
       "        vertical-align: middle;\n",
       "    }\n",
       "\n",
       "    .dataframe tbody tr th {\n",
       "        vertical-align: top;\n",
       "    }\n",
       "\n",
       "    .dataframe thead th {\n",
       "        text-align: right;\n",
       "    }\n",
       "</style>\n",
       "<table border=\"1\" class=\"dataframe\">\n",
       "  <thead>\n",
       "    <tr style=\"text-align: right;\">\n",
       "      <th></th>\n",
       "      <th>Country/Region</th>\n",
       "      <th>Cases</th>\n",
       "      <th>Deaths</th>\n",
       "      <th>PCases</th>\n",
       "      <th>PDeaths</th>\n",
       "      <th>Cases (+)</th>\n",
       "      <th>Deaths (+)</th>\n",
       "      <th>Fatality Rate</th>\n",
       "      <th>Continent</th>\n",
       "    </tr>\n",
       "  </thead>\n",
       "  <tbody>\n",
       "    <tr>\n",
       "      <th>0</th>\n",
       "      <td>US</td>\n",
       "      <td>31002264</td>\n",
       "      <td>560116</td>\n",
       "      <td>30922386</td>\n",
       "      <td>559116</td>\n",
       "      <td>79878</td>\n",
       "      <td>1000</td>\n",
       "      <td>1.8</td>\n",
       "      <td>North America</td>\n",
       "    </tr>\n",
       "    <tr>\n",
       "      <th>1</th>\n",
       "      <td>Brazil</td>\n",
       "      <td>13279857</td>\n",
       "      <td>345025</td>\n",
       "      <td>13193205</td>\n",
       "      <td>340776</td>\n",
       "      <td>86652</td>\n",
       "      <td>4249</td>\n",
       "      <td>2.6</td>\n",
       "      <td>South America</td>\n",
       "    </tr>\n",
       "    <tr>\n",
       "      <th>2</th>\n",
       "      <td>India</td>\n",
       "      <td>13060542</td>\n",
       "      <td>167642</td>\n",
       "      <td>12928574</td>\n",
       "      <td>166862</td>\n",
       "      <td>131968</td>\n",
       "      <td>780</td>\n",
       "      <td>1.3</td>\n",
       "      <td>Asia</td>\n",
       "    </tr>\n",
       "    <tr>\n",
       "      <th>3</th>\n",
       "      <td>France</td>\n",
       "      <td>5000155</td>\n",
       "      <td>98196</td>\n",
       "      <td>4902985</td>\n",
       "      <td>97444</td>\n",
       "      <td>97170</td>\n",
       "      <td>752</td>\n",
       "      <td>2.0</td>\n",
       "      <td>Europe</td>\n",
       "    </tr>\n",
       "    <tr>\n",
       "      <th>4</th>\n",
       "      <td>Russia</td>\n",
       "      <td>4563026</td>\n",
       "      <td>100158</td>\n",
       "      <td>4554481</td>\n",
       "      <td>99800</td>\n",
       "      <td>8545</td>\n",
       "      <td>358</td>\n",
       "      <td>2.2</td>\n",
       "      <td>Europe</td>\n",
       "    </tr>\n",
       "  </tbody>\n",
       "</table>\n",
       "</div>"
      ],
      "text/plain": [
       "  Country/Region     Cases  Deaths    PCases  PDeaths  Cases (+)  Deaths (+)  \\\n",
       "0             US  31002264  560116  30922386   559116      79878        1000   \n",
       "1         Brazil  13279857  345025  13193205   340776      86652        4249   \n",
       "2          India  13060542  167642  12928574   166862     131968         780   \n",
       "3         France   5000155   98196   4902985    97444      97170         752   \n",
       "4         Russia   4563026  100158   4554481    99800       8545         358   \n",
       "\n",
       "   Fatality Rate      Continent  \n",
       "0            1.8  North America  \n",
       "1            2.6  South America  \n",
       "2            1.3           Asia  \n",
       "3            2.0         Europe  \n",
       "4            2.2         Europe  "
      ]
     },
     "execution_count": 15,
     "metadata": {},
     "output_type": "execute_result"
    }
   ],
   "source": [
    "#hide\n",
    "df_table = (pd.DataFrame(dict(Cases=dfc_cases, Deaths=dfc_deaths, PCases=dfp_cases, PDeaths=dfp_deaths))\n",
    "             .sort_values(by=['Cases', 'Deaths'], ascending=[False, False])\n",
    "             .reset_index())\n",
    "df_table.rename(columns={'index': 'Country/Region'}, inplace=True)\n",
    "for c in 'Cases, Deaths'.split(', '):\n",
    "    df_table[f'{c} (+)'] = (df_table[c] - df_table[f'P{c}']).clip(0)  # DATA BUG\n",
    "df_table['Fatality Rate'] = (100 * df_table['Deaths'] / df_table['Cases']).round(1)\n",
    "df_table['Continent'] = df_table['Country/Region'].map(mapping['map.continent'])\n",
    "df_table.head(5)"
   ]
  },
  {
   "cell_type": "code",
   "execution_count": 16,
   "id": "fewer-occasion",
   "metadata": {
    "execution": {
     "iopub.execute_input": "2021-04-10T00:06:58.513238Z",
     "iopub.status.busy": "2021-04-10T00:06:58.512787Z",
     "iopub.status.idle": "2021-04-10T00:06:58.514482Z",
     "shell.execute_reply": "2021-04-10T00:06:58.514887Z"
    },
    "papermill": {
     "duration": 0.034538,
     "end_time": "2021-04-10T00:06:58.515000",
     "exception": false,
     "start_time": "2021-04-10T00:06:58.480462",
     "status": "completed"
    },
    "tags": []
   },
   "outputs": [],
   "source": [
    "#hide\n",
    "#delete problematic countries from table\n",
    "df_table = df_table[~df_table['Country/Region'].isin(['Cape Verde', 'Cruise Ship', 'Kosovo'])]"
   ]
  },
  {
   "cell_type": "code",
   "execution_count": 17,
   "id": "related-center",
   "metadata": {
    "execution": {
     "iopub.execute_input": "2021-04-10T00:06:58.581231Z",
     "iopub.status.busy": "2021-04-10T00:06:58.580781Z",
     "iopub.status.idle": "2021-04-10T00:06:58.588289Z",
     "shell.execute_reply": "2021-04-10T00:06:58.587937Z"
    },
    "papermill": {
     "duration": 0.046376,
     "end_time": "2021-04-10T00:06:58.588383",
     "exception": false,
     "start_time": "2021-04-10T00:06:58.542007",
     "status": "completed"
    },
    "tags": []
   },
   "outputs": [],
   "source": [
    "#hide\n",
    "metrics = [df_table.columns[index] for index in [1,2,5,6]]\n",
    "# s_china = df_table[df_table['Country/Region'].eq('China')][metrics].sum().add_prefix('China ')\n",
    "s_us = df_table[df_table['Country/Region'].eq('US')][metrics].sum().add_prefix('US ')\n",
    "s_eu = df_table[df_table['Continent'].eq('Europe')][metrics].sum().add_prefix('EU ')\n",
    "s_ind = df_table[df_table['Country/Region'].eq('India')][metrics].sum().add_prefix('India ')\n",
    "summary = {'updated': pd.to_datetime(dt_today), 'since': pd.to_datetime(dt_yday)}\n",
    "summary = {'updated': pd.to_datetime(dt_today), 'since': pd.to_datetime(dt_yday)}\n",
    "summary = {**summary, **df_table[metrics].sum(), **s_ind, **s_us, **s_eu}"
   ]
  },
  {
   "cell_type": "code",
   "execution_count": 18,
   "id": "engaging-syndrome",
   "metadata": {
    "execution": {
     "iopub.execute_input": "2021-04-10T00:06:58.647735Z",
     "iopub.status.busy": "2021-04-10T00:06:58.647297Z",
     "iopub.status.idle": "2021-04-10T00:06:58.657938Z",
     "shell.execute_reply": "2021-04-10T00:06:58.657584Z"
    },
    "papermill": {
     "duration": 0.042399,
     "end_time": "2021-04-10T00:06:58.658043",
     "exception": false,
     "start_time": "2021-04-10T00:06:58.615644",
     "status": "completed"
    },
    "tags": []
   },
   "outputs": [],
   "source": [
    "#hide\n",
    "dft_ct_new_cases = dft_cases.groupby(COL_REGION)[dt_cols].sum().diff(axis=1).fillna(0).astype(int)"
   ]
  },
  {
   "cell_type": "code",
   "execution_count": 19,
   "id": "neutral-assignment",
   "metadata": {
    "execution": {
     "iopub.execute_input": "2021-04-10T00:06:58.717255Z",
     "iopub.status.busy": "2021-04-10T00:06:58.716362Z",
     "iopub.status.idle": "2021-04-10T00:06:58.717832Z",
     "shell.execute_reply": "2021-04-10T00:06:58.718249Z"
    },
    "papermill": {
     "duration": 0.033273,
     "end_time": "2021-04-10T00:06:58.718358",
     "exception": false,
     "start_time": "2021-04-10T00:06:58.685085",
     "status": "completed"
    },
    "tags": []
   },
   "outputs": [],
   "source": [
    "#hide\n",
    "everydaycases = dft_ct_new_cases.cumsum(axis=1)"
   ]
  },
  {
   "cell_type": "code",
   "execution_count": 20,
   "id": "parliamentary-calgary",
   "metadata": {
    "execution": {
     "iopub.execute_input": "2021-04-10T00:06:58.776874Z",
     "iopub.status.busy": "2021-04-10T00:06:58.776413Z",
     "iopub.status.idle": "2021-04-10T00:06:59.242267Z",
     "shell.execute_reply": "2021-04-10T00:06:59.241748Z"
    },
    "papermill": {
     "duration": 0.496852,
     "end_time": "2021-04-10T00:06:59.242404",
     "exception": false,
     "start_time": "2021-04-10T00:06:58.745552",
     "status": "completed"
    },
    "tags": []
   },
   "outputs": [],
   "source": [
    "#hide\n",
    "import pandas as pd\n",
    "import matplotlib.pyplot as plt\n",
    "import matplotlib.ticker as ticker\n",
    "import matplotlib.animation as animation\n",
    "from IPython.display import HTML"
   ]
  },
  {
   "cell_type": "code",
   "execution_count": 21,
   "id": "lasting-extraction",
   "metadata": {
    "execution": {
     "iopub.execute_input": "2021-04-10T00:06:59.303711Z",
     "iopub.status.busy": "2021-04-10T00:06:59.303251Z",
     "iopub.status.idle": "2021-04-10T00:06:59.310096Z",
     "shell.execute_reply": "2021-04-10T00:06:59.309727Z"
    },
    "papermill": {
     "duration": 0.038813,
     "end_time": "2021-04-10T00:06:59.310197",
     "exception": false,
     "start_time": "2021-04-10T00:06:59.271384",
     "status": "completed"
    },
    "tags": []
   },
   "outputs": [],
   "source": [
    "#hide\n",
    "t = everydaycases.stack()"
   ]
  },
  {
   "cell_type": "code",
   "execution_count": 22,
   "id": "premier-sleeve",
   "metadata": {
    "execution": {
     "iopub.execute_input": "2021-04-10T00:06:59.368858Z",
     "iopub.status.busy": "2021-04-10T00:06:59.368380Z",
     "iopub.status.idle": "2021-04-10T00:06:59.375456Z",
     "shell.execute_reply": "2021-04-10T00:06:59.375092Z"
    },
    "papermill": {
     "duration": 0.037978,
     "end_time": "2021-04-10T00:06:59.375558",
     "exception": false,
     "start_time": "2021-04-10T00:06:59.337580",
     "status": "completed"
    },
    "tags": []
   },
   "outputs": [],
   "source": [
    "#hide\n",
    "g = t.reset_index(['Country/Region'])"
   ]
  },
  {
   "cell_type": "code",
   "execution_count": 23,
   "id": "distributed-pittsburgh",
   "metadata": {
    "execution": {
     "iopub.execute_input": "2021-04-10T00:06:59.433994Z",
     "iopub.status.busy": "2021-04-10T00:06:59.433458Z",
     "iopub.status.idle": "2021-04-10T00:06:59.435530Z",
     "shell.execute_reply": "2021-04-10T00:06:59.435042Z"
    },
    "papermill": {
     "duration": 0.032863,
     "end_time": "2021-04-10T00:06:59.435638",
     "exception": false,
     "start_time": "2021-04-10T00:06:59.402775",
     "status": "completed"
    },
    "tags": []
   },
   "outputs": [],
   "source": [
    "#hide\n",
    "g.index.name = 'date'"
   ]
  },
  {
   "cell_type": "code",
   "execution_count": 24,
   "id": "naked-donor",
   "metadata": {
    "execution": {
     "iopub.execute_input": "2021-04-10T00:06:59.501364Z",
     "iopub.status.busy": "2021-04-10T00:06:59.500845Z",
     "iopub.status.idle": "2021-04-10T00:06:59.502554Z",
     "shell.execute_reply": "2021-04-10T00:06:59.502953Z"
    },
    "papermill": {
     "duration": 0.036448,
     "end_time": "2021-04-10T00:06:59.503082",
     "exception": false,
     "start_time": "2021-04-10T00:06:59.466634",
     "status": "completed"
    },
    "tags": []
   },
   "outputs": [],
   "source": [
    "# #hide\n",
    "# g = g.reset_index(['date'])"
   ]
  },
  {
   "cell_type": "code",
   "execution_count": 25,
   "id": "incomplete-mustang",
   "metadata": {
    "execution": {
     "iopub.execute_input": "2021-04-10T00:06:59.568571Z",
     "iopub.status.busy": "2021-04-10T00:06:59.568072Z",
     "iopub.status.idle": "2021-04-10T00:06:59.570282Z",
     "shell.execute_reply": "2021-04-10T00:06:59.569880Z"
    },
    "papermill": {
     "duration": 0.036606,
     "end_time": "2021-04-10T00:06:59.570393",
     "exception": false,
     "start_time": "2021-04-10T00:06:59.533787",
     "status": "completed"
    },
    "tags": []
   },
   "outputs": [],
   "source": [
    "#hide\n",
    "# g.head()"
   ]
  },
  {
   "cell_type": "code",
   "execution_count": 26,
   "id": "specific-kruger",
   "metadata": {
    "execution": {
     "iopub.execute_input": "2021-04-10T00:06:59.639528Z",
     "iopub.status.busy": "2021-04-10T00:06:59.639021Z",
     "iopub.status.idle": "2021-04-10T00:06:59.640540Z",
     "shell.execute_reply": "2021-04-10T00:06:59.640935Z"
    },
    "papermill": {
     "duration": 0.039857,
     "end_time": "2021-04-10T00:06:59.641064",
     "exception": false,
     "start_time": "2021-04-10T00:06:59.601207",
     "status": "completed"
    },
    "tags": []
   },
   "outputs": [],
   "source": [
    "#hide\n",
    "# g.columns = ['date','country','cases']"
   ]
  },
  {
   "cell_type": "code",
   "execution_count": 27,
   "id": "tender-conversion",
   "metadata": {
    "execution": {
     "iopub.execute_input": "2021-04-10T00:06:59.706178Z",
     "iopub.status.busy": "2021-04-10T00:06:59.705558Z",
     "iopub.status.idle": "2021-04-10T00:06:59.706976Z",
     "shell.execute_reply": "2021-04-10T00:06:59.707493Z"
    },
    "papermill": {
     "duration": 0.036052,
     "end_time": "2021-04-10T00:06:59.707639",
     "exception": false,
     "start_time": "2021-04-10T00:06:59.671587",
     "status": "completed"
    },
    "tags": []
   },
   "outputs": [],
   "source": [
    "#hide\n",
    "# g['continent'] = g.country"
   ]
  },
  {
   "cell_type": "code",
   "execution_count": 28,
   "id": "substantial-wilderness",
   "metadata": {
    "execution": {
     "iopub.execute_input": "2021-04-10T00:06:59.767203Z",
     "iopub.status.busy": "2021-04-10T00:06:59.766629Z",
     "iopub.status.idle": "2021-04-10T00:06:59.767991Z",
     "shell.execute_reply": "2021-04-10T00:06:59.768443Z"
    },
    "papermill": {
     "duration": 0.031952,
     "end_time": "2021-04-10T00:06:59.768586",
     "exception": false,
     "start_time": "2021-04-10T00:06:59.736634",
     "status": "completed"
    },
    "tags": []
   },
   "outputs": [],
   "source": [
    "#hide\n",
    "# cols = list(g.columns.values)"
   ]
  },
  {
   "cell_type": "code",
   "execution_count": 29,
   "id": "solved-farming",
   "metadata": {
    "execution": {
     "iopub.execute_input": "2021-04-10T00:06:59.833386Z",
     "iopub.status.busy": "2021-04-10T00:06:59.832882Z",
     "iopub.status.idle": "2021-04-10T00:06:59.835015Z",
     "shell.execute_reply": "2021-04-10T00:06:59.834598Z"
    },
    "papermill": {
     "duration": 0.035886,
     "end_time": "2021-04-10T00:06:59.835121",
     "exception": false,
     "start_time": "2021-04-10T00:06:59.799235",
     "status": "completed"
    },
    "tags": []
   },
   "outputs": [],
   "source": [
    "#hide\n",
    "# cols.insert(0, cols.pop())"
   ]
  },
  {
   "cell_type": "code",
   "execution_count": 30,
   "id": "executed-adoption",
   "metadata": {
    "execution": {
     "iopub.execute_input": "2021-04-10T00:06:59.900251Z",
     "iopub.status.busy": "2021-04-10T00:06:59.899758Z",
     "iopub.status.idle": "2021-04-10T00:06:59.901616Z",
     "shell.execute_reply": "2021-04-10T00:06:59.902040Z"
    },
    "papermill": {
     "duration": 0.036265,
     "end_time": "2021-04-10T00:06:59.902158",
     "exception": false,
     "start_time": "2021-04-10T00:06:59.865893",
     "status": "completed"
    },
    "tags": []
   },
   "outputs": [],
   "source": [
    "#hide\n",
    "# g = g[cols]"
   ]
  },
  {
   "cell_type": "code",
   "execution_count": 31,
   "id": "subject-dublin",
   "metadata": {
    "execution": {
     "iopub.execute_input": "2021-04-10T00:06:59.966779Z",
     "iopub.status.busy": "2021-04-10T00:06:59.966280Z",
     "iopub.status.idle": "2021-04-10T00:06:59.968017Z",
     "shell.execute_reply": "2021-04-10T00:06:59.968390Z"
    },
    "papermill": {
     "duration": 0.035838,
     "end_time": "2021-04-10T00:06:59.968512",
     "exception": false,
     "start_time": "2021-04-10T00:06:59.932674",
     "status": "completed"
    },
    "tags": []
   },
   "outputs": [],
   "source": [
    "#hide\n",
    "# g['continent'] = g['continent'].map(mapping['map.continent'])"
   ]
  },
  {
   "cell_type": "code",
   "execution_count": 32,
   "id": "freelance-scout",
   "metadata": {
    "execution": {
     "iopub.execute_input": "2021-04-10T00:07:00.033761Z",
     "iopub.status.busy": "2021-04-10T00:07:00.033257Z",
     "iopub.status.idle": "2021-04-10T00:07:00.035404Z",
     "shell.execute_reply": "2021-04-10T00:07:00.035000Z"
    },
    "papermill": {
     "duration": 0.03629,
     "end_time": "2021-04-10T00:07:00.035513",
     "exception": false,
     "start_time": "2021-04-10T00:06:59.999223",
     "status": "completed"
    },
    "tags": []
   },
   "outputs": [],
   "source": [
    "#hide\n",
    "# g.head()"
   ]
  },
  {
   "cell_type": "code",
   "execution_count": 33,
   "id": "limited-engine",
   "metadata": {
    "execution": {
     "iopub.execute_input": "2021-04-10T00:07:00.100885Z",
     "iopub.status.busy": "2021-04-10T00:07:00.100359Z",
     "iopub.status.idle": "2021-04-10T00:07:00.102113Z",
     "shell.execute_reply": "2021-04-10T00:07:00.102531Z"
    },
    "papermill": {
     "duration": 0.036336,
     "end_time": "2021-04-10T00:07:00.102658",
     "exception": false,
     "start_time": "2021-04-10T00:07:00.066322",
     "status": "completed"
    },
    "tags": []
   },
   "outputs": [],
   "source": [
    "# hide\n",
    "# g['date'] = g['date'].astype('datetime64[ns]')"
   ]
  },
  {
   "cell_type": "code",
   "execution_count": 34,
   "id": "sophisticated-supervisor",
   "metadata": {
    "execution": {
     "iopub.execute_input": "2021-04-10T00:07:00.167899Z",
     "iopub.status.busy": "2021-04-10T00:07:00.167408Z",
     "iopub.status.idle": "2021-04-10T00:07:00.169473Z",
     "shell.execute_reply": "2021-04-10T00:07:00.169052Z"
    },
    "papermill": {
     "duration": 0.036046,
     "end_time": "2021-04-10T00:07:00.169576",
     "exception": false,
     "start_time": "2021-04-10T00:07:00.133530",
     "status": "completed"
    },
    "tags": []
   },
   "outputs": [],
   "source": [
    "#hide\n",
    "# g['date'] = g.date.dt.dayofyear"
   ]
  },
  {
   "cell_type": "code",
   "execution_count": 35,
   "id": "inside-dubai",
   "metadata": {
    "execution": {
     "iopub.execute_input": "2021-04-10T00:07:00.234085Z",
     "iopub.status.busy": "2021-04-10T00:07:00.233510Z",
     "iopub.status.idle": "2021-04-10T00:07:00.235561Z",
     "shell.execute_reply": "2021-04-10T00:07:00.235010Z"
    },
    "papermill": {
     "duration": 0.035526,
     "end_time": "2021-04-10T00:07:00.235674",
     "exception": false,
     "start_time": "2021-04-10T00:07:00.200148",
     "status": "completed"
    },
    "tags": []
   },
   "outputs": [],
   "source": [
    "#hide\n",
    "# g = g.rename(columns= {'continent':'group','country':'name','cases':'value'})"
   ]
  },
  {
   "cell_type": "code",
   "execution_count": 36,
   "id": "fleet-motorcycle",
   "metadata": {
    "execution": {
     "iopub.execute_input": "2021-04-10T00:07:00.300509Z",
     "iopub.status.busy": "2021-04-10T00:07:00.300018Z",
     "iopub.status.idle": "2021-04-10T00:07:00.302135Z",
     "shell.execute_reply": "2021-04-10T00:07:00.301741Z"
    },
    "papermill": {
     "duration": 0.035577,
     "end_time": "2021-04-10T00:07:00.302239",
     "exception": false,
     "start_time": "2021-04-10T00:07:00.266662",
     "status": "completed"
    },
    "tags": []
   },
   "outputs": [],
   "source": [
    "#hide\n",
    "# cols = ['name','group','day','value']"
   ]
  },
  {
   "cell_type": "code",
   "execution_count": 37,
   "id": "continued-sleeping",
   "metadata": {
    "execution": {
     "iopub.execute_input": "2021-04-10T00:07:00.366664Z",
     "iopub.status.busy": "2021-04-10T00:07:00.366177Z",
     "iopub.status.idle": "2021-04-10T00:07:00.368424Z",
     "shell.execute_reply": "2021-04-10T00:07:00.368009Z"
    },
    "papermill": {
     "duration": 0.035853,
     "end_time": "2021-04-10T00:07:00.368522",
     "exception": false,
     "start_time": "2021-04-10T00:07:00.332669",
     "status": "completed"
    },
    "tags": []
   },
   "outputs": [],
   "source": [
    "#hide\n",
    "# g.rename(columns= {'date':'day'},inplace = True)"
   ]
  },
  {
   "cell_type": "code",
   "execution_count": 38,
   "id": "major-fight",
   "metadata": {
    "execution": {
     "iopub.execute_input": "2021-04-10T00:07:00.433227Z",
     "iopub.status.busy": "2021-04-10T00:07:00.432711Z",
     "iopub.status.idle": "2021-04-10T00:07:00.434906Z",
     "shell.execute_reply": "2021-04-10T00:07:00.434511Z"
    },
    "papermill": {
     "duration": 0.035722,
     "end_time": "2021-04-10T00:07:00.435007",
     "exception": false,
     "start_time": "2021-04-10T00:07:00.399285",
     "status": "completed"
    },
    "tags": []
   },
   "outputs": [],
   "source": [
    "#hide\n",
    "# g = g[cols]"
   ]
  },
  {
   "cell_type": "code",
   "execution_count": 39,
   "id": "structured-mobile",
   "metadata": {
    "execution": {
     "iopub.execute_input": "2021-04-10T00:07:00.499044Z",
     "iopub.status.busy": "2021-04-10T00:07:00.498561Z",
     "iopub.status.idle": "2021-04-10T00:07:00.500802Z",
     "shell.execute_reply": "2021-04-10T00:07:00.500391Z"
    },
    "papermill": {
     "duration": 0.035515,
     "end_time": "2021-04-10T00:07:00.500905",
     "exception": false,
     "start_time": "2021-04-10T00:07:00.465390",
     "status": "completed"
    },
    "tags": []
   },
   "outputs": [],
   "source": [
    "# #hide\n",
    "# g = g[g.group.notna()]"
   ]
  },
  {
   "cell_type": "code",
   "execution_count": 40,
   "id": "determined-closing",
   "metadata": {
    "execution": {
     "iopub.execute_input": "2021-04-10T00:07:00.565434Z",
     "iopub.status.busy": "2021-04-10T00:07:00.564922Z",
     "iopub.status.idle": "2021-04-10T00:07:00.566976Z",
     "shell.execute_reply": "2021-04-10T00:07:00.566557Z"
    },
    "papermill": {
     "duration": 0.035628,
     "end_time": "2021-04-10T00:07:00.567074",
     "exception": false,
     "start_time": "2021-04-10T00:07:00.531446",
     "status": "completed"
    },
    "tags": []
   },
   "outputs": [],
   "source": [
    "# #hide\n",
    "# colors = dict(zip(\n",
    "#     [\"Oceania\", \"Europe\", \"Asia\", \"South America\", \"Middle East\", \"North America\", \"Africa\"],\n",
    "#     [\"#adb0ff\", \"#ffb3ff\", \"#90d595\", \"#e48381\", \"#aafbff\", \"#f7bb5f\", \"#eafb50\"]\n",
    "# ))\n",
    "# group_lk = g.set_index('name')['group'].to_dict()"
   ]
  },
  {
   "cell_type": "code",
   "execution_count": null,
   "id": "gross-drinking",
   "metadata": {
    "papermill": {
     "duration": 0.030421,
     "end_time": "2021-04-10T00:07:00.627928",
     "exception": false,
     "start_time": "2021-04-10T00:07:00.597507",
     "status": "completed"
    },
    "tags": []
   },
   "outputs": [],
   "source": []
  },
  {
   "cell_type": "code",
   "execution_count": 41,
   "id": "subject-macintosh",
   "metadata": {
    "execution": {
     "iopub.execute_input": "2021-04-10T00:07:00.693150Z",
     "iopub.status.busy": "2021-04-10T00:07:00.692622Z",
     "iopub.status.idle": "2021-04-10T00:07:00.694839Z",
     "shell.execute_reply": "2021-04-10T00:07:00.694442Z"
    },
    "papermill": {
     "duration": 0.036494,
     "end_time": "2021-04-10T00:07:00.694942",
     "exception": false,
     "start_time": "2021-04-10T00:07:00.658448",
     "status": "completed"
    },
    "tags": []
   },
   "outputs": [],
   "source": [
    "# #hide\n",
    "# fig, ax = plt.subplots(figsize=(15, 8))\n",
    "\n",
    "# def draw_barchart(current_day):\n",
    "#     dff = g[g['day'].eq(current_day)].sort_values(by='value', ascending=True).tail(10)\n",
    "#     ax.clear()\n",
    "#     ax.barh(dff['name'], dff['value'], color=[colors[group_lk[x]] for x in dff['name']])\n",
    "#     dx = dff['value'].max() / 200\n",
    "    \n",
    "#     for i, (value, name) in enumerate(zip(dff['value'], dff['name'])):\n",
    "#         ax.text(value-dx, i,     name,           size=14, weight=600, ha='right', va='bottom')\n",
    "#         ax.text(value-dx, i-.25, group_lk[name], size=10, color='#444444', ha='right', va='baseline')\n",
    "#         ax.text(value+dx, i,     f'{value:,.0f}',  size=14, ha='left',  va='center')\n",
    "#     ax.text(1, 0.4, current_day, transform=ax.transAxes, color='#777777', size=46, ha='right', weight=800)\n",
    "#     ax.text(0, 1.06, 'Population (thousands)', transform=ax.transAxes, size=12, color='#777777')\n",
    "#     ax.xaxis.set_major_formatter(ticker.StrMethodFormatter('{x:,.0f}'))\n",
    "#     ax.xaxis.set_ticks_position('top')\n",
    "#     ax.tick_params(axis='x', colors='#777777', labelsize=12)\n",
    "#     ax.set_yticks([])\n",
    "#     ax.margins(0, 0.01)\n",
    "#     ax.grid(which='major', axis='x', linestyle='-')\n",
    "#     ax.set_axisbelow(True)\n",
    "    \n",
    "#     ax.text(0, 1.15, 'Coronavirus',\n",
    "#             transform=ax.transAxes, size=24, weight=600, ha='left', va='top')\n",
    "# #     ax.text(1, 0, 'by @pratapvardhan; credit @jburnmurdoch', transform=ax.transAxes, color='#777777', ha='right',\n",
    "# #             bbox=dict(facecolor='white', alpha=0.8, edgecolor='white'))\n",
    "#     plt.box(False)"
   ]
  },
  {
   "cell_type": "code",
   "execution_count": 42,
   "id": "sexual-wages",
   "metadata": {
    "execution": {
     "iopub.execute_input": "2021-04-10T00:07:00.759468Z",
     "iopub.status.busy": "2021-04-10T00:07:00.758974Z",
     "iopub.status.idle": "2021-04-10T00:07:00.760824Z",
     "shell.execute_reply": "2021-04-10T00:07:00.761251Z"
    },
    "papermill": {
     "duration": 0.036024,
     "end_time": "2021-04-10T00:07:00.761374",
     "exception": false,
     "start_time": "2021-04-10T00:07:00.725350",
     "status": "completed"
    },
    "tags": []
   },
   "outputs": [],
   "source": [
    "# #hide_input\n",
    "# fig, ax = plt.subplots(figsize=(15, 8))\n",
    "# animator = animation.FuncAnimation(fig, draw_barchart, frames=range(g.day.values.min(), g.day.values.max()))\n",
    "# HTML(animator.to_jshtml())\n",
    "# # or use animator.to_html5_video() or animator.save() "
   ]
  },
  {
   "cell_type": "code",
   "execution_count": null,
   "id": "australian-container",
   "metadata": {
    "papermill": {
     "duration": 0.0305,
     "end_time": "2021-04-10T00:07:00.822471",
     "exception": false,
     "start_time": "2021-04-10T00:07:00.791971",
     "status": "completed"
    },
    "tags": []
   },
   "outputs": [],
   "source": []
  },
  {
   "cell_type": "code",
   "execution_count": null,
   "id": "mediterranean-pontiac",
   "metadata": {
    "papermill": {
     "duration": 0.03027,
     "end_time": "2021-04-10T00:07:00.883180",
     "exception": false,
     "start_time": "2021-04-10T00:07:00.852910",
     "status": "completed"
    },
    "tags": []
   },
   "outputs": [],
   "source": []
  },
  {
   "cell_type": "code",
   "execution_count": null,
   "id": "aging-legislature",
   "metadata": {
    "papermill": {
     "duration": 0.030477,
     "end_time": "2021-04-10T00:07:00.944700",
     "exception": false,
     "start_time": "2021-04-10T00:07:00.914223",
     "status": "completed"
    },
    "tags": []
   },
   "outputs": [],
   "source": []
  }
 ],
 "metadata": {
  "kernelspec": {
   "display_name": "Python 3",
   "language": "python",
   "name": "python3"
  },
  "language_info": {
   "codemirror_mode": {
    "name": "ipython",
    "version": 3
   },
   "file_extension": ".py",
   "mimetype": "text/x-python",
   "name": "python",
   "nbconvert_exporter": "python",
   "pygments_lexer": "ipython3",
   "version": "3.6.13"
  },
  "papermill": {
   "duration": 5.688114,
   "end_time": "2021-04-10T00:07:01.282407",
   "environment_variables": {},
   "exception": null,
   "input_path": "2020-03-21-covid19exp.ipynb",
   "output_path": "2020-03-21-covid19exp.ipynb",
   "parameters": {},
   "start_time": "2021-04-10T00:06:55.594293",
   "version": "2.0.0"
  }
 },
 "nbformat": 4,
 "nbformat_minor": 5
}