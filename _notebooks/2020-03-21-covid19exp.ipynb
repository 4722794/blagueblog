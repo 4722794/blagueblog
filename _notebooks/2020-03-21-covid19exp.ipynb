{
 "cells": [
  {
   "cell_type": "markdown",
   "id": "muslim-click",
   "metadata": {
    "papermill": {
     "duration": 0.053391,
     "end_time": "2021-12-24T12:13:48.812213",
     "exception": false,
     "start_time": "2021-12-24T12:13:48.758822",
     "status": "completed"
    },
    "tags": []
   },
   "source": [
    "# COVID-19 Case Race\n",
    "> A race chart to see rising cases around the world\n",
    "\n",
    "- author: Hargun Oberoi\n",
    "- image: images/covid-overview.png\n",
    "- hide: false\n",
    "- badges: false"
   ]
  },
  {
   "cell_type": "code",
   "execution_count": 1,
   "id": "proof-material",
   "metadata": {
    "execution": {
     "iopub.execute_input": "2021-12-24T12:13:48.924751Z",
     "iopub.status.busy": "2021-12-24T12:13:48.923838Z",
     "iopub.status.idle": "2021-12-24T12:13:49.417105Z",
     "shell.execute_reply": "2021-12-24T12:13:49.416453Z"
    },
    "papermill": {
     "duration": 0.556711,
     "end_time": "2021-12-24T12:13:49.417420",
     "exception": false,
     "start_time": "2021-12-24T12:13:48.860709",
     "status": "completed"
    },
    "tags": []
   },
   "outputs": [],
   "source": [
    "#hide\n",
    "import numpy as np\n",
    "import pandas as pd\n",
    "from jinja2 import Template\n",
    "from IPython.display import HTML"
   ]
  },
  {
   "cell_type": "code",
   "execution_count": 2,
   "id": "developed-terminology",
   "metadata": {
    "execution": {
     "iopub.execute_input": "2021-12-24T12:13:49.515709Z",
     "iopub.status.busy": "2021-12-24T12:13:49.515007Z",
     "iopub.status.idle": "2021-12-24T12:13:49.519458Z",
     "shell.execute_reply": "2021-12-24T12:13:49.519995Z"
    },
    "papermill": {
     "duration": 0.056298,
     "end_time": "2021-12-24T12:13:49.520186",
     "exception": false,
     "start_time": "2021-12-24T12:13:49.463888",
     "status": "completed"
    },
    "tags": []
   },
   "outputs": [],
   "source": [
    "#hide\n",
    "\n",
    "# FETCH\n",
    "base_url = 'https://raw.githubusercontent.com/pratapvardhan/notebooks/master/covid19/'\n",
    "paths = {\n",
    "    'mapping': base_url + 'mapping_countries.csv',\n",
    "    'overview': base_url + 'overview.tpl'\n",
    "}"
   ]
  },
  {
   "cell_type": "code",
   "execution_count": 3,
   "id": "dynamic-saver",
   "metadata": {
    "execution": {
     "iopub.execute_input": "2021-12-24T12:13:49.638280Z",
     "iopub.status.busy": "2021-12-24T12:13:49.637507Z",
     "iopub.status.idle": "2021-12-24T12:13:49.641059Z",
     "shell.execute_reply": "2021-12-24T12:13:49.641742Z"
    },
    "papermill": {
     "duration": 0.066746,
     "end_time": "2021-12-24T12:13:49.641902",
     "exception": false,
     "start_time": "2021-12-24T12:13:49.575156",
     "status": "completed"
    },
    "tags": []
   },
   "outputs": [
    {
     "data": {
      "text/plain": [
       "'https://raw.githubusercontent.com/pratapvardhan/notebooks/master/covid19/mapping_countries.csv'"
      ]
     },
     "execution_count": 3,
     "metadata": {},
     "output_type": "execute_result"
    }
   ],
   "source": [
    "#hide\n",
    "paths['mapping']"
   ]
  },
  {
   "cell_type": "code",
   "execution_count": 4,
   "id": "urban-software",
   "metadata": {
    "execution": {
     "iopub.execute_input": "2021-12-24T12:13:49.734154Z",
     "iopub.status.busy": "2021-12-24T12:13:49.733324Z",
     "iopub.status.idle": "2021-12-24T12:13:49.740371Z",
     "shell.execute_reply": "2021-12-24T12:13:49.739757Z"
    },
    "papermill": {
     "duration": 0.055736,
     "end_time": "2021-12-24T12:13:49.740510",
     "exception": false,
     "start_time": "2021-12-24T12:13:49.684774",
     "status": "completed"
    },
    "tags": []
   },
   "outputs": [],
   "source": [
    "#hide\n",
    "def get_mappings(url):\n",
    "    df = pd.read_csv(url)\n",
    "    return {\n",
    "        'df': df,\n",
    "        'replace.country': dict(df.dropna(subset=['Name']).set_index('Country')['Name']),\n",
    "        'map.continent': dict(df.set_index('Name')['Continent'])\n",
    "    }"
   ]
  },
  {
   "cell_type": "code",
   "execution_count": 5,
   "id": "intimate-machinery",
   "metadata": {
    "execution": {
     "iopub.execute_input": "2021-12-24T12:13:49.839687Z",
     "iopub.status.busy": "2021-12-24T12:13:49.838769Z",
     "iopub.status.idle": "2021-12-24T12:13:49.883637Z",
     "shell.execute_reply": "2021-12-24T12:13:49.884214Z"
    },
    "papermill": {
     "duration": 0.098702,
     "end_time": "2021-12-24T12:13:49.884393",
     "exception": false,
     "start_time": "2021-12-24T12:13:49.785691",
     "status": "completed"
    },
    "tags": []
   },
   "outputs": [],
   "source": [
    "#hide\n",
    "mapping = get_mappings(paths['mapping'])"
   ]
  },
  {
   "cell_type": "code",
   "execution_count": 6,
   "id": "certified-tactics",
   "metadata": {
    "execution": {
     "iopub.execute_input": "2021-12-24T12:13:49.992077Z",
     "iopub.status.busy": "2021-12-24T12:13:49.991320Z",
     "iopub.status.idle": "2021-12-24T12:13:49.993379Z",
     "shell.execute_reply": "2021-12-24T12:13:49.994324Z"
    },
    "papermill": {
     "duration": 0.058822,
     "end_time": "2021-12-24T12:13:49.994497",
     "exception": false,
     "start_time": "2021-12-24T12:13:49.935675",
     "status": "completed"
    },
    "tags": []
   },
   "outputs": [],
   "source": [
    "#hide\n",
    "def get_template(path):\n",
    "    from urllib.parse import urlparse\n",
    "    if bool(urlparse(path).netloc):\n",
    "        from urllib.request import urlopen\n",
    "        return urlopen(path).read().decode('utf8')\n",
    "    return open(path).read()"
   ]
  },
  {
   "cell_type": "code",
   "execution_count": 7,
   "id": "realistic-blast",
   "metadata": {
    "execution": {
     "iopub.execute_input": "2021-12-24T12:13:50.095558Z",
     "iopub.status.busy": "2021-12-24T12:13:50.094887Z",
     "iopub.status.idle": "2021-12-24T12:13:50.099825Z",
     "shell.execute_reply": "2021-12-24T12:13:50.099219Z"
    },
    "papermill": {
     "duration": 0.056907,
     "end_time": "2021-12-24T12:13:50.099980",
     "exception": false,
     "start_time": "2021-12-24T12:13:50.043073",
     "status": "completed"
    },
    "tags": []
   },
   "outputs": [],
   "source": [
    "#hide\n",
    "def get_frame(name):\n",
    "    url = (\n",
    "        'https://raw.githubusercontent.com/CSSEGISandData/COVID-19/master/csse_covid_19_data/'\n",
    "        f'csse_covid_19_time_series/time_series_covid19_{name}_global.csv')\n",
    "    df = pd.read_csv(url)\n",
    "    # rename countries\n",
    "    df['Country/Region'] = df['Country/Region'].replace(mapping['replace.country'])\n",
    "    return df"
   ]
  },
  {
   "cell_type": "code",
   "execution_count": 8,
   "id": "affiliated-characterization",
   "metadata": {
    "execution": {
     "iopub.execute_input": "2021-12-24T12:13:50.214179Z",
     "iopub.status.busy": "2021-12-24T12:13:50.213174Z",
     "iopub.status.idle": "2021-12-24T12:13:50.223997Z",
     "shell.execute_reply": "2021-12-24T12:13:50.224559Z"
    },
    "papermill": {
     "duration": 0.074449,
     "end_time": "2021-12-24T12:13:50.224740",
     "exception": false,
     "start_time": "2021-12-24T12:13:50.150291",
     "status": "completed"
    },
    "tags": []
   },
   "outputs": [],
   "source": [
    "#hide\n",
    "def get_dates(df):\n",
    "    dt_cols = df.columns[~df.columns.isin(['Province/State', 'Country/Region', 'Lat', 'Long'])]\n",
    "    LAST_DATE_I = -1\n",
    "    # sometimes last column may be empty, then go backwards\n",
    "    for i in range(-1, -len(dt_cols), -1):\n",
    "        if not df[dt_cols[i]].fillna(0).eq(0).all():\n",
    "            LAST_DATE_I = i\n",
    "            break\n",
    "    return LAST_DATE_I, dt_cols"
   ]
  },
  {
   "cell_type": "code",
   "execution_count": 9,
   "id": "recent-optimization",
   "metadata": {
    "execution": {
     "iopub.execute_input": "2021-12-24T12:13:50.318225Z",
     "iopub.status.busy": "2021-12-24T12:13:50.316766Z",
     "iopub.status.idle": "2021-12-24T12:13:50.865319Z",
     "shell.execute_reply": "2021-12-24T12:13:50.864652Z"
    },
    "papermill": {
     "duration": 0.600085,
     "end_time": "2021-12-24T12:13:50.865467",
     "exception": false,
     "start_time": "2021-12-24T12:13:50.265382",
     "status": "completed"
    },
    "tags": []
   },
   "outputs": [],
   "source": [
    "#hide\n",
    "COL_REGION = 'Country/Region'\n",
    "# Confirmed, Recovered, Deaths\n",
    "df = get_frame('confirmed')\n",
    "# dft_: timeseries, dfc_: today country agg\n",
    "dft_cases = df\n",
    "dft_deaths = get_frame('deaths')\n",
    "dft_recovered = get_frame('recovered')\n",
    "LAST_DATE_I, dt_cols = get_dates(df)"
   ]
  },
  {
   "cell_type": "code",
   "execution_count": 10,
   "id": "absolute-copper",
   "metadata": {
    "execution": {
     "iopub.execute_input": "2021-12-24T12:13:50.965525Z",
     "iopub.status.busy": "2021-12-24T12:13:50.964744Z",
     "iopub.status.idle": "2021-12-24T12:13:50.969415Z",
     "shell.execute_reply": "2021-12-24T12:13:50.970182Z"
    },
    "papermill": {
     "duration": 0.059978,
     "end_time": "2021-12-24T12:13:50.970339",
     "exception": false,
     "start_time": "2021-12-24T12:13:50.910361",
     "status": "completed"
    },
    "tags": []
   },
   "outputs": [],
   "source": [
    "#hide\n",
    "LAST_DATE_I, dt_cols = get_dates(df)\n",
    "dt_today =dt_cols[LAST_DATE_I]\n",
    "# dt_5day = dt_cols[LAST_DATE_I - 5]\n",
    "dt_yday = dt_cols[LAST_DATE_I - 1]"
   ]
  },
  {
   "cell_type": "code",
   "execution_count": 11,
   "id": "restricted-sheriff",
   "metadata": {
    "execution": {
     "iopub.execute_input": "2021-12-24T12:13:51.073491Z",
     "iopub.status.busy": "2021-12-24T12:13:51.072600Z",
     "iopub.status.idle": "2021-12-24T12:13:51.084488Z",
     "shell.execute_reply": "2021-12-24T12:13:51.085240Z"
    },
    "papermill": {
     "duration": 0.068845,
     "end_time": "2021-12-24T12:13:51.085462",
     "exception": false,
     "start_time": "2021-12-24T12:13:51.016617",
     "status": "completed"
    },
    "tags": []
   },
   "outputs": [],
   "source": [
    "#hide\n",
    "dfc_cases = dft_cases.groupby(COL_REGION)[dt_today].sum()\n",
    "dfc_deaths = dft_deaths.groupby(COL_REGION)[dt_today].sum()\n",
    "# dfp_cases = dft_cases.groupby(COL_REGION)[dt_5day].sum()\n",
    "# dfp_deaths = dft_deaths.groupby(COL_REGION)[dt_5day].sum()\n",
    "dfp_cases = dft_cases.groupby(COL_REGION)[dt_yday].sum()\n",
    "dfp_deaths = dft_deaths.groupby(COL_REGION)[dt_yday].sum()"
   ]
  },
  {
   "cell_type": "code",
   "execution_count": 12,
   "id": "deluxe-hepatitis",
   "metadata": {
    "execution": {
     "iopub.execute_input": "2021-12-24T12:13:51.188955Z",
     "iopub.status.busy": "2021-12-24T12:13:51.188126Z",
     "iopub.status.idle": "2021-12-24T12:13:51.194553Z",
     "shell.execute_reply": "2021-12-24T12:13:51.195253Z"
    },
    "papermill": {
     "duration": 0.060995,
     "end_time": "2021-12-24T12:13:51.195420",
     "exception": false,
     "start_time": "2021-12-24T12:13:51.134425",
     "status": "completed"
    },
    "tags": []
   },
   "outputs": [],
   "source": [
    "#hide\n",
    "df_table = (pd.DataFrame(dict(Cases = dfc_cases, Deaths = dfc_deaths, PCases = dfp_cases, PDeaths = dfp_deaths))\n",
    "            .sort_values(by = ['Cases','Deaths'], ascending = [False, False])\n",
    "            .reset_index())"
   ]
  },
  {
   "cell_type": "code",
   "execution_count": 13,
   "id": "educational-chancellor",
   "metadata": {
    "execution": {
     "iopub.execute_input": "2021-12-24T12:13:51.323117Z",
     "iopub.status.busy": "2021-12-24T12:13:51.322057Z",
     "iopub.status.idle": "2021-12-24T12:13:51.331256Z",
     "shell.execute_reply": "2021-12-24T12:13:51.331920Z"
    },
    "papermill": {
     "duration": 0.084708,
     "end_time": "2021-12-24T12:13:51.332086",
     "exception": false,
     "start_time": "2021-12-24T12:13:51.247378",
     "status": "completed"
    },
    "tags": []
   },
   "outputs": [
    {
     "data": {
      "text/html": [
       "<div>\n",
       "<style scoped>\n",
       "    .dataframe tbody tr th:only-of-type {\n",
       "        vertical-align: middle;\n",
       "    }\n",
       "\n",
       "    .dataframe tbody tr th {\n",
       "        vertical-align: top;\n",
       "    }\n",
       "\n",
       "    .dataframe thead th {\n",
       "        text-align: right;\n",
       "    }\n",
       "</style>\n",
       "<table border=\"1\" class=\"dataframe\">\n",
       "  <thead>\n",
       "    <tr style=\"text-align: right;\">\n",
       "      <th></th>\n",
       "      <th>Country/Region</th>\n",
       "      <th>Cases</th>\n",
       "      <th>Deaths</th>\n",
       "      <th>PCases</th>\n",
       "      <th>PDeaths</th>\n",
       "      <th>Cases (+)</th>\n",
       "      <th>Deaths (+)</th>\n",
       "      <th>Fatality Rate</th>\n",
       "      <th>Continent</th>\n",
       "    </tr>\n",
       "  </thead>\n",
       "  <tbody>\n",
       "    <tr>\n",
       "      <th>0</th>\n",
       "      <td>US</td>\n",
       "      <td>51814820</td>\n",
       "      <td>815423</td>\n",
       "      <td>51553481</td>\n",
       "      <td>812069</td>\n",
       "      <td>261339</td>\n",
       "      <td>3354</td>\n",
       "      <td>1.57</td>\n",
       "      <td>North America</td>\n",
       "    </tr>\n",
       "    <tr>\n",
       "      <th>1</th>\n",
       "      <td>India</td>\n",
       "      <td>34772626</td>\n",
       "      <td>479133</td>\n",
       "      <td>34765976</td>\n",
       "      <td>478759</td>\n",
       "      <td>6650</td>\n",
       "      <td>374</td>\n",
       "      <td>1.38</td>\n",
       "      <td>Asia</td>\n",
       "    </tr>\n",
       "    <tr>\n",
       "      <th>2</th>\n",
       "      <td>Brazil</td>\n",
       "      <td>22230943</td>\n",
       "      <td>618492</td>\n",
       "      <td>22227169</td>\n",
       "      <td>618366</td>\n",
       "      <td>3774</td>\n",
       "      <td>126</td>\n",
       "      <td>2.78</td>\n",
       "      <td>South America</td>\n",
       "    </tr>\n",
       "    <tr>\n",
       "      <th>3</th>\n",
       "      <td>United Kingdom</td>\n",
       "      <td>11836909</td>\n",
       "      <td>148187</td>\n",
       "      <td>11713654</td>\n",
       "      <td>148038</td>\n",
       "      <td>123255</td>\n",
       "      <td>149</td>\n",
       "      <td>1.25</td>\n",
       "      <td>Europe</td>\n",
       "    </tr>\n",
       "    <tr>\n",
       "      <th>4</th>\n",
       "      <td>Russia</td>\n",
       "      <td>10140429</td>\n",
       "      <td>295296</td>\n",
       "      <td>10114983</td>\n",
       "      <td>294322</td>\n",
       "      <td>25446</td>\n",
       "      <td>974</td>\n",
       "      <td>2.91</td>\n",
       "      <td>Europe</td>\n",
       "    </tr>\n",
       "  </tbody>\n",
       "</table>\n",
       "</div>"
      ],
      "text/plain": [
       "   Country/Region     Cases  Deaths    PCases  PDeaths  Cases (+)  Deaths (+)  \\\n",
       "0              US  51814820  815423  51553481   812069     261339        3354   \n",
       "1           India  34772626  479133  34765976   478759       6650         374   \n",
       "2          Brazil  22230943  618492  22227169   618366       3774         126   \n",
       "3  United Kingdom  11836909  148187  11713654   148038     123255         149   \n",
       "4          Russia  10140429  295296  10114983   294322      25446         974   \n",
       "\n",
       "   Fatality Rate      Continent  \n",
       "0           1.57  North America  \n",
       "1           1.38           Asia  \n",
       "2           2.78  South America  \n",
       "3           1.25         Europe  \n",
       "4           2.91         Europe  "
      ]
     },
     "execution_count": 13,
     "metadata": {},
     "output_type": "execute_result"
    }
   ],
   "source": [
    "#hide\n",
    "for c in 'Cases, Deaths'.split(', '):\n",
    "    df_table[f'{c} (+)'] = (df_table[c] - df_table[f'P{c}']).clip(0)\n",
    "    #Clip ça veut dire, les chiffres negatif sont interdit\n",
    "df_table['Fatality Rate'] = (100* df_table['Deaths']/ df_table['Cases']).round(2)\n",
    "df_table['Continent'] = df_table['Country/Region'].map(mapping['map.continent'])\n",
    "df_table.head(5)"
   ]
  },
  {
   "cell_type": "code",
   "execution_count": 14,
   "id": "aboriginal-bulgaria",
   "metadata": {
    "execution": {
     "iopub.execute_input": "2021-12-24T12:13:51.437827Z",
     "iopub.status.busy": "2021-12-24T12:13:51.437089Z",
     "iopub.status.idle": "2021-12-24T12:13:51.441404Z",
     "shell.execute_reply": "2021-12-24T12:13:51.442115Z"
    },
    "papermill": {
     "duration": 0.055889,
     "end_time": "2021-12-24T12:13:51.442342",
     "exception": false,
     "start_time": "2021-12-24T12:13:51.386453",
     "status": "completed"
    },
    "tags": []
   },
   "outputs": [],
   "source": [
    "#hide\n",
    "#delete problematic countries from table\n",
    "df_table = df_table[~df_table['Country/Region'].isin(['Cape Verde', 'Cruise Ship', 'Kosovo'])]"
   ]
  },
  {
   "cell_type": "code",
   "execution_count": 15,
   "id": "fantastic-effect",
   "metadata": {
    "execution": {
     "iopub.execute_input": "2021-12-24T12:13:51.551799Z",
     "iopub.status.busy": "2021-12-24T12:13:51.550814Z",
     "iopub.status.idle": "2021-12-24T12:13:51.578706Z",
     "shell.execute_reply": "2021-12-24T12:13:51.577824Z"
    },
    "papermill": {
     "duration": 0.087374,
     "end_time": "2021-12-24T12:13:51.578847",
     "exception": false,
     "start_time": "2021-12-24T12:13:51.491473",
     "status": "completed"
    },
    "tags": []
   },
   "outputs": [
    {
     "data": {
      "text/html": [
       "<div>\n",
       "<style scoped>\n",
       "    .dataframe tbody tr th:only-of-type {\n",
       "        vertical-align: middle;\n",
       "    }\n",
       "\n",
       "    .dataframe tbody tr th {\n",
       "        vertical-align: top;\n",
       "    }\n",
       "\n",
       "    .dataframe thead th {\n",
       "        text-align: right;\n",
       "    }\n",
       "</style>\n",
       "<table border=\"1\" class=\"dataframe\">\n",
       "  <thead>\n",
       "    <tr style=\"text-align: right;\">\n",
       "      <th></th>\n",
       "      <th>Country/Region</th>\n",
       "      <th>Cases</th>\n",
       "      <th>Deaths</th>\n",
       "      <th>PCases</th>\n",
       "      <th>PDeaths</th>\n",
       "      <th>Cases (+)</th>\n",
       "      <th>Deaths (+)</th>\n",
       "      <th>Fatality Rate</th>\n",
       "      <th>Continent</th>\n",
       "    </tr>\n",
       "  </thead>\n",
       "  <tbody>\n",
       "    <tr>\n",
       "      <th>0</th>\n",
       "      <td>US</td>\n",
       "      <td>51814820</td>\n",
       "      <td>815423</td>\n",
       "      <td>51553481</td>\n",
       "      <td>812069</td>\n",
       "      <td>261339</td>\n",
       "      <td>3354</td>\n",
       "      <td>1.6</td>\n",
       "      <td>North America</td>\n",
       "    </tr>\n",
       "    <tr>\n",
       "      <th>1</th>\n",
       "      <td>India</td>\n",
       "      <td>34772626</td>\n",
       "      <td>479133</td>\n",
       "      <td>34765976</td>\n",
       "      <td>478759</td>\n",
       "      <td>6650</td>\n",
       "      <td>374</td>\n",
       "      <td>1.4</td>\n",
       "      <td>Asia</td>\n",
       "    </tr>\n",
       "    <tr>\n",
       "      <th>2</th>\n",
       "      <td>Brazil</td>\n",
       "      <td>22230943</td>\n",
       "      <td>618492</td>\n",
       "      <td>22227169</td>\n",
       "      <td>618366</td>\n",
       "      <td>3774</td>\n",
       "      <td>126</td>\n",
       "      <td>2.8</td>\n",
       "      <td>South America</td>\n",
       "    </tr>\n",
       "    <tr>\n",
       "      <th>3</th>\n",
       "      <td>United Kingdom</td>\n",
       "      <td>11836909</td>\n",
       "      <td>148187</td>\n",
       "      <td>11713654</td>\n",
       "      <td>148038</td>\n",
       "      <td>123255</td>\n",
       "      <td>149</td>\n",
       "      <td>1.3</td>\n",
       "      <td>Europe</td>\n",
       "    </tr>\n",
       "    <tr>\n",
       "      <th>4</th>\n",
       "      <td>Russia</td>\n",
       "      <td>10140429</td>\n",
       "      <td>295296</td>\n",
       "      <td>10114983</td>\n",
       "      <td>294322</td>\n",
       "      <td>25446</td>\n",
       "      <td>974</td>\n",
       "      <td>2.9</td>\n",
       "      <td>Europe</td>\n",
       "    </tr>\n",
       "  </tbody>\n",
       "</table>\n",
       "</div>"
      ],
      "text/plain": [
       "   Country/Region     Cases  Deaths    PCases  PDeaths  Cases (+)  Deaths (+)  \\\n",
       "0              US  51814820  815423  51553481   812069     261339        3354   \n",
       "1           India  34772626  479133  34765976   478759       6650         374   \n",
       "2          Brazil  22230943  618492  22227169   618366       3774         126   \n",
       "3  United Kingdom  11836909  148187  11713654   148038     123255         149   \n",
       "4          Russia  10140429  295296  10114983   294322      25446         974   \n",
       "\n",
       "   Fatality Rate      Continent  \n",
       "0            1.6  North America  \n",
       "1            1.4           Asia  \n",
       "2            2.8  South America  \n",
       "3            1.3         Europe  \n",
       "4            2.9         Europe  "
      ]
     },
     "execution_count": 15,
     "metadata": {},
     "output_type": "execute_result"
    }
   ],
   "source": [
    "#hide\n",
    "df_table = (pd.DataFrame(dict(Cases=dfc_cases, Deaths=dfc_deaths, PCases=dfp_cases, PDeaths=dfp_deaths))\n",
    "             .sort_values(by=['Cases', 'Deaths'], ascending=[False, False])\n",
    "             .reset_index())\n",
    "df_table.rename(columns={'index': 'Country/Region'}, inplace=True)\n",
    "for c in 'Cases, Deaths'.split(', '):\n",
    "    df_table[f'{c} (+)'] = (df_table[c] - df_table[f'P{c}']).clip(0)  # DATA BUG\n",
    "df_table['Fatality Rate'] = (100 * df_table['Deaths'] / df_table['Cases']).round(1)\n",
    "df_table['Continent'] = df_table['Country/Region'].map(mapping['map.continent'])\n",
    "df_table.head(5)"
   ]
  },
  {
   "cell_type": "code",
   "execution_count": 16,
   "id": "fewer-occasion",
   "metadata": {
    "execution": {
     "iopub.execute_input": "2021-12-24T12:13:51.683529Z",
     "iopub.status.busy": "2021-12-24T12:13:51.682576Z",
     "iopub.status.idle": "2021-12-24T12:13:51.687476Z",
     "shell.execute_reply": "2021-12-24T12:13:51.688011Z"
    },
    "papermill": {
     "duration": 0.061072,
     "end_time": "2021-12-24T12:13:51.688262",
     "exception": false,
     "start_time": "2021-12-24T12:13:51.627190",
     "status": "completed"
    },
    "tags": []
   },
   "outputs": [],
   "source": [
    "#hide\n",
    "#delete problematic countries from table\n",
    "df_table = df_table[~df_table['Country/Region'].isin(['Cape Verde', 'Cruise Ship', 'Kosovo'])]"
   ]
  },
  {
   "cell_type": "code",
   "execution_count": 17,
   "id": "related-center",
   "metadata": {
    "execution": {
     "iopub.execute_input": "2021-12-24T12:13:51.809742Z",
     "iopub.status.busy": "2021-12-24T12:13:51.809033Z",
     "iopub.status.idle": "2021-12-24T12:13:51.813563Z",
     "shell.execute_reply": "2021-12-24T12:13:51.814308Z"
    },
    "papermill": {
     "duration": 0.075622,
     "end_time": "2021-12-24T12:13:51.814480",
     "exception": false,
     "start_time": "2021-12-24T12:13:51.738858",
     "status": "completed"
    },
    "tags": []
   },
   "outputs": [],
   "source": [
    "#hide\n",
    "metrics = [df_table.columns[index] for index in [1,2,5,6]]\n",
    "# s_china = df_table[df_table['Country/Region'].eq('China')][metrics].sum().add_prefix('China ')\n",
    "s_us = df_table[df_table['Country/Region'].eq('US')][metrics].sum().add_prefix('US ')\n",
    "s_eu = df_table[df_table['Continent'].eq('Europe')][metrics].sum().add_prefix('EU ')\n",
    "s_ind = df_table[df_table['Country/Region'].eq('India')][metrics].sum().add_prefix('India ')\n",
    "summary = {'updated': pd.to_datetime(dt_today), 'since': pd.to_datetime(dt_yday)}\n",
    "summary = {'updated': pd.to_datetime(dt_today), 'since': pd.to_datetime(dt_yday)}\n",
    "summary = {**summary, **df_table[metrics].sum(), **s_ind, **s_us, **s_eu}"
   ]
  },
  {
   "cell_type": "code",
   "execution_count": 18,
   "id": "engaging-syndrome",
   "metadata": {
    "execution": {
     "iopub.execute_input": "2021-12-24T12:13:51.907822Z",
     "iopub.status.busy": "2021-12-24T12:13:51.907117Z",
     "iopub.status.idle": "2021-12-24T12:13:51.924161Z",
     "shell.execute_reply": "2021-12-24T12:13:51.923321Z"
    },
    "papermill": {
     "duration": 0.066749,
     "end_time": "2021-12-24T12:13:51.924507",
     "exception": false,
     "start_time": "2021-12-24T12:13:51.857758",
     "status": "completed"
    },
    "tags": []
   },
   "outputs": [],
   "source": [
    "#hide\n",
    "dft_ct_new_cases = dft_cases.groupby(COL_REGION)[dt_cols].sum().diff(axis=1).fillna(0).astype(int)"
   ]
  },
  {
   "cell_type": "code",
   "execution_count": 19,
   "id": "neutral-assignment",
   "metadata": {
    "execution": {
     "iopub.execute_input": "2021-12-24T12:13:52.017753Z",
     "iopub.status.busy": "2021-12-24T12:13:52.016872Z",
     "iopub.status.idle": "2021-12-24T12:13:52.019008Z",
     "shell.execute_reply": "2021-12-24T12:13:52.019834Z"
    },
    "papermill": {
     "duration": 0.052674,
     "end_time": "2021-12-24T12:13:52.020080",
     "exception": false,
     "start_time": "2021-12-24T12:13:51.967406",
     "status": "completed"
    },
    "tags": []
   },
   "outputs": [],
   "source": [
    "#hide\n",
    "everydaycases = dft_ct_new_cases.cumsum(axis=1)"
   ]
  },
  {
   "cell_type": "code",
   "execution_count": 20,
   "id": "parliamentary-calgary",
   "metadata": {
    "execution": {
     "iopub.execute_input": "2021-12-24T12:13:52.121994Z",
     "iopub.status.busy": "2021-12-24T12:13:52.121210Z",
     "iopub.status.idle": "2021-12-24T12:13:53.024604Z",
     "shell.execute_reply": "2021-12-24T12:13:53.023889Z"
    },
    "papermill": {
     "duration": 0.95124,
     "end_time": "2021-12-24T12:13:53.024767",
     "exception": false,
     "start_time": "2021-12-24T12:13:52.073527",
     "status": "completed"
    },
    "tags": []
   },
   "outputs": [],
   "source": [
    "#hide\n",
    "import pandas as pd\n",
    "import matplotlib.pyplot as plt\n",
    "import matplotlib.ticker as ticker\n",
    "import matplotlib.animation as animation\n",
    "from IPython.display import HTML"
   ]
  },
  {
   "cell_type": "code",
   "execution_count": 21,
   "id": "lasting-extraction",
   "metadata": {
    "execution": {
     "iopub.execute_input": "2021-12-24T12:13:53.131907Z",
     "iopub.status.busy": "2021-12-24T12:13:53.131228Z",
     "iopub.status.idle": "2021-12-24T12:13:53.142007Z",
     "shell.execute_reply": "2021-12-24T12:13:53.141152Z"
    },
    "papermill": {
     "duration": 0.06483,
     "end_time": "2021-12-24T12:13:53.142183",
     "exception": false,
     "start_time": "2021-12-24T12:13:53.077353",
     "status": "completed"
    },
    "tags": []
   },
   "outputs": [],
   "source": [
    "#hide\n",
    "t = everydaycases.stack()"
   ]
  },
  {
   "cell_type": "code",
   "execution_count": 22,
   "id": "premier-sleeve",
   "metadata": {
    "execution": {
     "iopub.execute_input": "2021-12-24T12:13:53.251341Z",
     "iopub.status.busy": "2021-12-24T12:13:53.250640Z",
     "iopub.status.idle": "2021-12-24T12:13:53.263336Z",
     "shell.execute_reply": "2021-12-24T12:13:53.263893Z"
    },
    "papermill": {
     "duration": 0.069278,
     "end_time": "2021-12-24T12:13:53.264129",
     "exception": false,
     "start_time": "2021-12-24T12:13:53.194851",
     "status": "completed"
    },
    "tags": []
   },
   "outputs": [],
   "source": [
    "#hide\n",
    "g = t.reset_index(['Country/Region'])"
   ]
  },
  {
   "cell_type": "code",
   "execution_count": 23,
   "id": "distributed-pittsburgh",
   "metadata": {
    "execution": {
     "iopub.execute_input": "2021-12-24T12:13:53.367803Z",
     "iopub.status.busy": "2021-12-24T12:13:53.367028Z",
     "iopub.status.idle": "2021-12-24T12:13:53.369473Z",
     "shell.execute_reply": "2021-12-24T12:13:53.370225Z"
    },
    "papermill": {
     "duration": 0.054318,
     "end_time": "2021-12-24T12:13:53.370380",
     "exception": false,
     "start_time": "2021-12-24T12:13:53.316062",
     "status": "completed"
    },
    "tags": []
   },
   "outputs": [],
   "source": [
    "#hide\n",
    "g.index.name = 'date'"
   ]
  },
  {
   "cell_type": "code",
   "execution_count": 24,
   "id": "naked-donor",
   "metadata": {
    "execution": {
     "iopub.execute_input": "2021-12-24T12:13:53.460164Z",
     "iopub.status.busy": "2021-12-24T12:13:53.458672Z",
     "iopub.status.idle": "2021-12-24T12:13:53.471819Z",
     "shell.execute_reply": "2021-12-24T12:13:53.472433Z"
    },
    "papermill": {
     "duration": 0.059473,
     "end_time": "2021-12-24T12:13:53.472662",
     "exception": false,
     "start_time": "2021-12-24T12:13:53.413189",
     "status": "completed"
    },
    "tags": []
   },
   "outputs": [],
   "source": [
    "# #hide\n",
    "# g = g.reset_index(['date'])"
   ]
  },
  {
   "cell_type": "code",
   "execution_count": 25,
   "id": "incomplete-mustang",
   "metadata": {
    "execution": {
     "iopub.execute_input": "2021-12-24T12:13:53.583587Z",
     "iopub.status.busy": "2021-12-24T12:13:53.582909Z",
     "iopub.status.idle": "2021-12-24T12:13:53.586564Z",
     "shell.execute_reply": "2021-12-24T12:13:53.585874Z"
    },
    "papermill": {
     "duration": 0.063176,
     "end_time": "2021-12-24T12:13:53.586703",
     "exception": false,
     "start_time": "2021-12-24T12:13:53.523527",
     "status": "completed"
    },
    "tags": []
   },
   "outputs": [],
   "source": [
    "#hide\n",
    "# g.head()"
   ]
  },
  {
   "cell_type": "code",
   "execution_count": 26,
   "id": "specific-kruger",
   "metadata": {
    "execution": {
     "iopub.execute_input": "2021-12-24T12:13:53.708524Z",
     "iopub.status.busy": "2021-12-24T12:13:53.707715Z",
     "iopub.status.idle": "2021-12-24T12:13:53.709456Z",
     "shell.execute_reply": "2021-12-24T12:13:53.711049Z"
    },
    "papermill": {
     "duration": 0.059354,
     "end_time": "2021-12-24T12:13:53.711299",
     "exception": false,
     "start_time": "2021-12-24T12:13:53.651945",
     "status": "completed"
    },
    "tags": []
   },
   "outputs": [],
   "source": [
    "#hide\n",
    "# g.columns = ['date','country','cases']"
   ]
  },
  {
   "cell_type": "code",
   "execution_count": 27,
   "id": "tender-conversion",
   "metadata": {
    "execution": {
     "iopub.execute_input": "2021-12-24T12:13:53.805903Z",
     "iopub.status.busy": "2021-12-24T12:13:53.804982Z",
     "iopub.status.idle": "2021-12-24T12:13:53.810121Z",
     "shell.execute_reply": "2021-12-24T12:13:53.809392Z"
    },
    "papermill": {
     "duration": 0.051666,
     "end_time": "2021-12-24T12:13:53.810387",
     "exception": false,
     "start_time": "2021-12-24T12:13:53.758721",
     "status": "completed"
    },
    "tags": []
   },
   "outputs": [],
   "source": [
    "#hide\n",
    "# g['continent'] = g.country"
   ]
  },
  {
   "cell_type": "code",
   "execution_count": 28,
   "id": "substantial-wilderness",
   "metadata": {
    "execution": {
     "iopub.execute_input": "2021-12-24T12:13:53.915068Z",
     "iopub.status.busy": "2021-12-24T12:13:53.914383Z",
     "iopub.status.idle": "2021-12-24T12:13:53.916517Z",
     "shell.execute_reply": "2021-12-24T12:13:53.917071Z"
    },
    "papermill": {
     "duration": 0.048841,
     "end_time": "2021-12-24T12:13:53.917225",
     "exception": false,
     "start_time": "2021-12-24T12:13:53.868384",
     "status": "completed"
    },
    "tags": []
   },
   "outputs": [],
   "source": [
    "#hide\n",
    "# cols = list(g.columns.values)"
   ]
  },
  {
   "cell_type": "code",
   "execution_count": 29,
   "id": "solved-farming",
   "metadata": {
    "execution": {
     "iopub.execute_input": "2021-12-24T12:13:54.018507Z",
     "iopub.status.busy": "2021-12-24T12:13:54.017759Z",
     "iopub.status.idle": "2021-12-24T12:13:54.021237Z",
     "shell.execute_reply": "2021-12-24T12:13:54.021962Z"
    },
    "papermill": {
     "duration": 0.054556,
     "end_time": "2021-12-24T12:13:54.022141",
     "exception": false,
     "start_time": "2021-12-24T12:13:53.967585",
     "status": "completed"
    },
    "tags": []
   },
   "outputs": [],
   "source": [
    "#hide\n",
    "# cols.insert(0, cols.pop())"
   ]
  },
  {
   "cell_type": "code",
   "execution_count": 30,
   "id": "executed-adoption",
   "metadata": {
    "execution": {
     "iopub.execute_input": "2021-12-24T12:13:54.122678Z",
     "iopub.status.busy": "2021-12-24T12:13:54.121738Z",
     "iopub.status.idle": "2021-12-24T12:13:54.125604Z",
     "shell.execute_reply": "2021-12-24T12:13:54.126287Z"
    },
    "papermill": {
     "duration": 0.054711,
     "end_time": "2021-12-24T12:13:54.126450",
     "exception": false,
     "start_time": "2021-12-24T12:13:54.071739",
     "status": "completed"
    },
    "tags": []
   },
   "outputs": [],
   "source": [
    "#hide\n",
    "# g = g[cols]"
   ]
  },
  {
   "cell_type": "code",
   "execution_count": 31,
   "id": "subject-dublin",
   "metadata": {
    "execution": {
     "iopub.execute_input": "2021-12-24T12:13:54.215651Z",
     "iopub.status.busy": "2021-12-24T12:13:54.214982Z",
     "iopub.status.idle": "2021-12-24T12:13:54.217667Z",
     "shell.execute_reply": "2021-12-24T12:13:54.217090Z"
    },
    "papermill": {
     "duration": 0.048895,
     "end_time": "2021-12-24T12:13:54.217805",
     "exception": false,
     "start_time": "2021-12-24T12:13:54.168910",
     "status": "completed"
    },
    "tags": []
   },
   "outputs": [],
   "source": [
    "#hide\n",
    "# g['continent'] = g['continent'].map(mapping['map.continent'])"
   ]
  },
  {
   "cell_type": "code",
   "execution_count": 32,
   "id": "freelance-scout",
   "metadata": {
    "execution": {
     "iopub.execute_input": "2021-12-24T12:13:54.327300Z",
     "iopub.status.busy": "2021-12-24T12:13:54.326397Z",
     "iopub.status.idle": "2021-12-24T12:13:54.329554Z",
     "shell.execute_reply": "2021-12-24T12:13:54.328974Z"
    },
    "papermill": {
     "duration": 0.056363,
     "end_time": "2021-12-24T12:13:54.329728",
     "exception": false,
     "start_time": "2021-12-24T12:13:54.273365",
     "status": "completed"
    },
    "tags": []
   },
   "outputs": [],
   "source": [
    "#hide\n",
    "# g.head()"
   ]
  },
  {
   "cell_type": "code",
   "execution_count": 33,
   "id": "limited-engine",
   "metadata": {
    "execution": {
     "iopub.execute_input": "2021-12-24T12:13:54.424287Z",
     "iopub.status.busy": "2021-12-24T12:13:54.423603Z",
     "iopub.status.idle": "2021-12-24T12:13:54.426462Z",
     "shell.execute_reply": "2021-12-24T12:13:54.425610Z"
    },
    "papermill": {
     "duration": 0.049427,
     "end_time": "2021-12-24T12:13:54.426598",
     "exception": false,
     "start_time": "2021-12-24T12:13:54.377171",
     "status": "completed"
    },
    "tags": []
   },
   "outputs": [],
   "source": [
    "# hide\n",
    "# g['date'] = g['date'].astype('datetime64[ns]')"
   ]
  },
  {
   "cell_type": "code",
   "execution_count": 34,
   "id": "sophisticated-supervisor",
   "metadata": {
    "execution": {
     "iopub.execute_input": "2021-12-24T12:13:54.525565Z",
     "iopub.status.busy": "2021-12-24T12:13:54.524846Z",
     "iopub.status.idle": "2021-12-24T12:13:54.529002Z",
     "shell.execute_reply": "2021-12-24T12:13:54.528423Z"
    },
    "papermill": {
     "duration": 0.055613,
     "end_time": "2021-12-24T12:13:54.529152",
     "exception": false,
     "start_time": "2021-12-24T12:13:54.473539",
     "status": "completed"
    },
    "tags": []
   },
   "outputs": [],
   "source": [
    "#hide\n",
    "# g['date'] = g.date.dt.dayofyear"
   ]
  },
  {
   "cell_type": "code",
   "execution_count": 35,
   "id": "inside-dubai",
   "metadata": {
    "execution": {
     "iopub.execute_input": "2021-12-24T12:13:54.629957Z",
     "iopub.status.busy": "2021-12-24T12:13:54.629268Z",
     "iopub.status.idle": "2021-12-24T12:13:54.634199Z",
     "shell.execute_reply": "2021-12-24T12:13:54.634910Z"
    },
    "papermill": {
     "duration": 0.058149,
     "end_time": "2021-12-24T12:13:54.635084",
     "exception": false,
     "start_time": "2021-12-24T12:13:54.576935",
     "status": "completed"
    },
    "tags": []
   },
   "outputs": [],
   "source": [
    "#hide\n",
    "# g = g.rename(columns= {'continent':'group','country':'name','cases':'value'})"
   ]
  },
  {
   "cell_type": "code",
   "execution_count": 36,
   "id": "fleet-motorcycle",
   "metadata": {
    "execution": {
     "iopub.execute_input": "2021-12-24T12:13:54.730279Z",
     "iopub.status.busy": "2021-12-24T12:13:54.729544Z",
     "iopub.status.idle": "2021-12-24T12:13:54.733211Z",
     "shell.execute_reply": "2021-12-24T12:13:54.732650Z"
    },
    "papermill": {
     "duration": 0.050264,
     "end_time": "2021-12-24T12:13:54.733350",
     "exception": false,
     "start_time": "2021-12-24T12:13:54.683086",
     "status": "completed"
    },
    "tags": []
   },
   "outputs": [],
   "source": [
    "#hide\n",
    "# cols = ['name','group','day','value']"
   ]
  },
  {
   "cell_type": "code",
   "execution_count": 37,
   "id": "continued-sleeping",
   "metadata": {
    "execution": {
     "iopub.execute_input": "2021-12-24T12:13:54.819573Z",
     "iopub.status.busy": "2021-12-24T12:13:54.818883Z",
     "iopub.status.idle": "2021-12-24T12:13:54.821487Z",
     "shell.execute_reply": "2021-12-24T12:13:54.820782Z"
    },
    "papermill": {
     "duration": 0.04613,
     "end_time": "2021-12-24T12:13:54.821647",
     "exception": false,
     "start_time": "2021-12-24T12:13:54.775517",
     "status": "completed"
    },
    "tags": []
   },
   "outputs": [],
   "source": [
    "#hide\n",
    "# g.rename(columns= {'date':'day'},inplace = True)"
   ]
  },
  {
   "cell_type": "code",
   "execution_count": 38,
   "id": "major-fight",
   "metadata": {
    "execution": {
     "iopub.execute_input": "2021-12-24T12:13:54.907277Z",
     "iopub.status.busy": "2021-12-24T12:13:54.906585Z",
     "iopub.status.idle": "2021-12-24T12:13:54.910617Z",
     "shell.execute_reply": "2021-12-24T12:13:54.911145Z"
    },
    "papermill": {
     "duration": 0.049006,
     "end_time": "2021-12-24T12:13:54.911303",
     "exception": false,
     "start_time": "2021-12-24T12:13:54.862297",
     "status": "completed"
    },
    "tags": []
   },
   "outputs": [],
   "source": [
    "#hide\n",
    "# g = g[cols]"
   ]
  },
  {
   "cell_type": "code",
   "execution_count": 39,
   "id": "structured-mobile",
   "metadata": {
    "execution": {
     "iopub.execute_input": "2021-12-24T12:13:55.040284Z",
     "iopub.status.busy": "2021-12-24T12:13:55.039588Z",
     "iopub.status.idle": "2021-12-24T12:13:55.043232Z",
     "shell.execute_reply": "2021-12-24T12:13:55.042657Z"
    },
    "papermill": {
     "duration": 0.065303,
     "end_time": "2021-12-24T12:13:55.043366",
     "exception": false,
     "start_time": "2021-12-24T12:13:54.978063",
     "status": "completed"
    },
    "tags": []
   },
   "outputs": [],
   "source": [
    "# #hide\n",
    "# g = g[g.group.notna()]"
   ]
  },
  {
   "cell_type": "code",
   "execution_count": 40,
   "id": "determined-closing",
   "metadata": {
    "execution": {
     "iopub.execute_input": "2021-12-24T12:13:55.175126Z",
     "iopub.status.busy": "2021-12-24T12:13:55.173922Z",
     "iopub.status.idle": "2021-12-24T12:13:55.176071Z",
     "shell.execute_reply": "2021-12-24T12:13:55.176962Z"
    },
    "papermill": {
     "duration": 0.065438,
     "end_time": "2021-12-24T12:13:55.177124",
     "exception": false,
     "start_time": "2021-12-24T12:13:55.111686",
     "status": "completed"
    },
    "tags": []
   },
   "outputs": [],
   "source": [
    "# #hide\n",
    "# colors = dict(zip(\n",
    "#     [\"Oceania\", \"Europe\", \"Asia\", \"South America\", \"Middle East\", \"North America\", \"Africa\"],\n",
    "#     [\"#adb0ff\", \"#ffb3ff\", \"#90d595\", \"#e48381\", \"#aafbff\", \"#f7bb5f\", \"#eafb50\"]\n",
    "# ))\n",
    "# group_lk = g.set_index('name')['group'].to_dict()"
   ]
  },
  {
   "cell_type": "code",
   "execution_count": null,
   "id": "gross-drinking",
   "metadata": {
    "papermill": {
     "duration": 0.056017,
     "end_time": "2021-12-24T12:13:55.291458",
     "exception": false,
     "start_time": "2021-12-24T12:13:55.235441",
     "status": "completed"
    },
    "tags": []
   },
   "outputs": [],
   "source": []
  },
  {
   "cell_type": "code",
   "execution_count": 41,
   "id": "subject-macintosh",
   "metadata": {
    "execution": {
     "iopub.execute_input": "2021-12-24T12:13:55.401967Z",
     "iopub.status.busy": "2021-12-24T12:13:55.401076Z",
     "iopub.status.idle": "2021-12-24T12:13:55.404252Z",
     "shell.execute_reply": "2021-12-24T12:13:55.403698Z"
    },
    "papermill": {
     "duration": 0.056569,
     "end_time": "2021-12-24T12:13:55.404390",
     "exception": false,
     "start_time": "2021-12-24T12:13:55.347821",
     "status": "completed"
    },
    "tags": []
   },
   "outputs": [],
   "source": [
    "# #hide\n",
    "# fig, ax = plt.subplots(figsize=(15, 8))\n",
    "\n",
    "# def draw_barchart(current_day):\n",
    "#     dff = g[g['day'].eq(current_day)].sort_values(by='value', ascending=True).tail(10)\n",
    "#     ax.clear()\n",
    "#     ax.barh(dff['name'], dff['value'], color=[colors[group_lk[x]] for x in dff['name']])\n",
    "#     dx = dff['value'].max() / 200\n",
    "    \n",
    "#     for i, (value, name) in enumerate(zip(dff['value'], dff['name'])):\n",
    "#         ax.text(value-dx, i,     name,           size=14, weight=600, ha='right', va='bottom')\n",
    "#         ax.text(value-dx, i-.25, group_lk[name], size=10, color='#444444', ha='right', va='baseline')\n",
    "#         ax.text(value+dx, i,     f'{value:,.0f}',  size=14, ha='left',  va='center')\n",
    "#     ax.text(1, 0.4, current_day, transform=ax.transAxes, color='#777777', size=46, ha='right', weight=800)\n",
    "#     ax.text(0, 1.06, 'Population (thousands)', transform=ax.transAxes, size=12, color='#777777')\n",
    "#     ax.xaxis.set_major_formatter(ticker.StrMethodFormatter('{x:,.0f}'))\n",
    "#     ax.xaxis.set_ticks_position('top')\n",
    "#     ax.tick_params(axis='x', colors='#777777', labelsize=12)\n",
    "#     ax.set_yticks([])\n",
    "#     ax.margins(0, 0.01)\n",
    "#     ax.grid(which='major', axis='x', linestyle='-')\n",
    "#     ax.set_axisbelow(True)\n",
    "    \n",
    "#     ax.text(0, 1.15, 'Coronavirus',\n",
    "#             transform=ax.transAxes, size=24, weight=600, ha='left', va='top')\n",
    "# #     ax.text(1, 0, 'by @pratapvardhan; credit @jburnmurdoch', transform=ax.transAxes, color='#777777', ha='right',\n",
    "# #             bbox=dict(facecolor='white', alpha=0.8, edgecolor='white'))\n",
    "#     plt.box(False)"
   ]
  },
  {
   "cell_type": "code",
   "execution_count": 42,
   "id": "sexual-wages",
   "metadata": {
    "execution": {
     "iopub.execute_input": "2021-12-24T12:13:55.515537Z",
     "iopub.status.busy": "2021-12-24T12:13:55.514800Z",
     "iopub.status.idle": "2021-12-24T12:13:55.518641Z",
     "shell.execute_reply": "2021-12-24T12:13:55.517997Z"
    },
    "papermill": {
     "duration": 0.066743,
     "end_time": "2021-12-24T12:13:55.518797",
     "exception": false,
     "start_time": "2021-12-24T12:13:55.452054",
     "status": "completed"
    },
    "tags": []
   },
   "outputs": [],
   "source": [
    "# #hide_input\n",
    "# fig, ax = plt.subplots(figsize=(15, 8))\n",
    "# animator = animation.FuncAnimation(fig, draw_barchart, frames=range(g.day.values.min(), g.day.values.max()))\n",
    "# HTML(animator.to_jshtml())\n",
    "# # or use animator.to_html5_video() or animator.save() "
   ]
  },
  {
   "cell_type": "code",
   "execution_count": null,
   "id": "australian-container",
   "metadata": {
    "papermill": {
     "duration": 0.05319,
     "end_time": "2021-12-24T12:13:55.635119",
     "exception": false,
     "start_time": "2021-12-24T12:13:55.581929",
     "status": "completed"
    },
    "tags": []
   },
   "outputs": [],
   "source": []
  },
  {
   "cell_type": "code",
   "execution_count": null,
   "id": "mediterranean-pontiac",
   "metadata": {
    "papermill": {
     "duration": 0.053384,
     "end_time": "2021-12-24T12:13:55.752656",
     "exception": false,
     "start_time": "2021-12-24T12:13:55.699272",
     "status": "completed"
    },
    "tags": []
   },
   "outputs": [],
   "source": []
  },
  {
   "cell_type": "code",
   "execution_count": null,
   "id": "aging-legislature",
   "metadata": {
    "papermill": {
     "duration": 0.056249,
     "end_time": "2021-12-24T12:13:55.858618",
     "exception": false,
     "start_time": "2021-12-24T12:13:55.802369",
     "status": "completed"
    },
    "tags": []
   },
   "outputs": [],
   "source": []
  }
 ],
 "metadata": {
  "kernelspec": {
   "display_name": "Python 3",
   "language": "python",
   "name": "python3"
  },
  "language_info": {
   "codemirror_mode": {
    "name": "ipython",
    "version": 3
   },
   "file_extension": ".py",
   "mimetype": "text/x-python",
   "name": "python",
   "nbconvert_exporter": "python",
   "pygments_lexer": "ipython3",
   "version": "3.6.15"
  },
  "papermill": {
   "duration": 8.919717,
   "end_time": "2021-12-24T12:13:56.355195",
   "environment_variables": {},
   "exception": null,
   "input_path": "2020-03-21-covid19exp.ipynb",
   "output_path": "2020-03-21-covid19exp.ipynb",
   "parameters": {},
   "start_time": "2021-12-24T12:13:47.435478",
   "version": "2.0.0"
  }
 },
 "nbformat": 4,
 "nbformat_minor": 5
}