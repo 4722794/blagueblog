{
 "cells": [
  {
   "cell_type": "markdown",
   "id": "muslim-click",
   "metadata": {
    "papermill": {
     "duration": 0.042975,
     "end_time": "2021-10-02T00:22:38.583818",
     "exception": false,
     "start_time": "2021-10-02T00:22:38.540843",
     "status": "completed"
    },
    "tags": []
   },
   "source": [
    "# COVID-19 Case Race\n",
    "> A race chart to see rising cases around the world\n",
    "\n",
    "- author: Hargun Oberoi\n",
    "- image: images/covid-overview.png\n",
    "- hide: false\n",
    "- badges: false"
   ]
  },
  {
   "cell_type": "code",
   "execution_count": 1,
   "id": "proof-material",
   "metadata": {
    "execution": {
     "iopub.execute_input": "2021-10-02T00:22:38.670794Z",
     "iopub.status.busy": "2021-10-02T00:22:38.670170Z",
     "iopub.status.idle": "2021-10-02T00:22:39.064207Z",
     "shell.execute_reply": "2021-10-02T00:22:39.063532Z"
    },
    "papermill": {
     "duration": 0.441066,
     "end_time": "2021-10-02T00:22:39.064401",
     "exception": false,
     "start_time": "2021-10-02T00:22:38.623335",
     "status": "completed"
    },
    "tags": []
   },
   "outputs": [],
   "source": [
    "#hide\n",
    "import numpy as np\n",
    "import pandas as pd\n",
    "from jinja2 import Template\n",
    "from IPython.display import HTML"
   ]
  },
  {
   "cell_type": "code",
   "execution_count": 2,
   "id": "developed-terminology",
   "metadata": {
    "execution": {
     "iopub.execute_input": "2021-10-02T00:22:39.150243Z",
     "iopub.status.busy": "2021-10-02T00:22:39.149246Z",
     "iopub.status.idle": "2021-10-02T00:22:39.151863Z",
     "shell.execute_reply": "2021-10-02T00:22:39.152421Z"
    },
    "papermill": {
     "duration": 0.049033,
     "end_time": "2021-10-02T00:22:39.152560",
     "exception": false,
     "start_time": "2021-10-02T00:22:39.103527",
     "status": "completed"
    },
    "tags": []
   },
   "outputs": [],
   "source": [
    "#hide\n",
    "\n",
    "# FETCH\n",
    "base_url = 'https://raw.githubusercontent.com/pratapvardhan/notebooks/master/covid19/'\n",
    "paths = {\n",
    "    'mapping': base_url + 'mapping_countries.csv',\n",
    "    'overview': base_url + 'overview.tpl'\n",
    "}"
   ]
  },
  {
   "cell_type": "code",
   "execution_count": 3,
   "id": "dynamic-saver",
   "metadata": {
    "execution": {
     "iopub.execute_input": "2021-10-02T00:22:39.240850Z",
     "iopub.status.busy": "2021-10-02T00:22:39.240209Z",
     "iopub.status.idle": "2021-10-02T00:22:39.243725Z",
     "shell.execute_reply": "2021-10-02T00:22:39.243202Z"
    },
    "papermill": {
     "duration": 0.054337,
     "end_time": "2021-10-02T00:22:39.243853",
     "exception": false,
     "start_time": "2021-10-02T00:22:39.189516",
     "status": "completed"
    },
    "tags": []
   },
   "outputs": [
    {
     "data": {
      "text/plain": [
       "'https://raw.githubusercontent.com/pratapvardhan/notebooks/master/covid19/mapping_countries.csv'"
      ]
     },
     "execution_count": 3,
     "metadata": {},
     "output_type": "execute_result"
    }
   ],
   "source": [
    "#hide\n",
    "paths['mapping']"
   ]
  },
  {
   "cell_type": "code",
   "execution_count": 4,
   "id": "urban-software",
   "metadata": {
    "execution": {
     "iopub.execute_input": "2021-10-02T00:22:39.323487Z",
     "iopub.status.busy": "2021-10-02T00:22:39.322693Z",
     "iopub.status.idle": "2021-10-02T00:22:39.325433Z",
     "shell.execute_reply": "2021-10-02T00:22:39.324903Z"
    },
    "papermill": {
     "duration": 0.044034,
     "end_time": "2021-10-02T00:22:39.325551",
     "exception": false,
     "start_time": "2021-10-02T00:22:39.281517",
     "status": "completed"
    },
    "tags": []
   },
   "outputs": [],
   "source": [
    "#hide\n",
    "def get_mappings(url):\n",
    "    df = pd.read_csv(url)\n",
    "    return {\n",
    "        'df': df,\n",
    "        'replace.country': dict(df.dropna(subset=['Name']).set_index('Country')['Name']),\n",
    "        'map.continent': dict(df.set_index('Name')['Continent'])\n",
    "    }"
   ]
  },
  {
   "cell_type": "code",
   "execution_count": 5,
   "id": "intimate-machinery",
   "metadata": {
    "execution": {
     "iopub.execute_input": "2021-10-02T00:22:39.410366Z",
     "iopub.status.busy": "2021-10-02T00:22:39.409750Z",
     "iopub.status.idle": "2021-10-02T00:22:39.449515Z",
     "shell.execute_reply": "2021-10-02T00:22:39.450065Z"
    },
    "papermill": {
     "duration": 0.087052,
     "end_time": "2021-10-02T00:22:39.450194",
     "exception": false,
     "start_time": "2021-10-02T00:22:39.363142",
     "status": "completed"
    },
    "tags": []
   },
   "outputs": [],
   "source": [
    "#hide\n",
    "mapping = get_mappings(paths['mapping'])"
   ]
  },
  {
   "cell_type": "code",
   "execution_count": 6,
   "id": "certified-tactics",
   "metadata": {
    "execution": {
     "iopub.execute_input": "2021-10-02T00:22:39.533010Z",
     "iopub.status.busy": "2021-10-02T00:22:39.532377Z",
     "iopub.status.idle": "2021-10-02T00:22:39.534244Z",
     "shell.execute_reply": "2021-10-02T00:22:39.534783Z"
    },
    "papermill": {
     "duration": 0.045434,
     "end_time": "2021-10-02T00:22:39.534993",
     "exception": false,
     "start_time": "2021-10-02T00:22:39.489559",
     "status": "completed"
    },
    "tags": []
   },
   "outputs": [],
   "source": [
    "#hide\n",
    "def get_template(path):\n",
    "    from urllib.parse import urlparse\n",
    "    if bool(urlparse(path).netloc):\n",
    "        from urllib.request import urlopen\n",
    "        return urlopen(path).read().decode('utf8')\n",
    "    return open(path).read()"
   ]
  },
  {
   "cell_type": "code",
   "execution_count": 7,
   "id": "realistic-blast",
   "metadata": {
    "execution": {
     "iopub.execute_input": "2021-10-02T00:22:39.619609Z",
     "iopub.status.busy": "2021-10-02T00:22:39.619000Z",
     "iopub.status.idle": "2021-10-02T00:22:39.621611Z",
     "shell.execute_reply": "2021-10-02T00:22:39.620938Z"
    },
    "papermill": {
     "duration": 0.050697,
     "end_time": "2021-10-02T00:22:39.621771",
     "exception": false,
     "start_time": "2021-10-02T00:22:39.571074",
     "status": "completed"
    },
    "tags": []
   },
   "outputs": [],
   "source": [
    "#hide\n",
    "def get_frame(name):\n",
    "    url = (\n",
    "        'https://raw.githubusercontent.com/CSSEGISandData/COVID-19/master/csse_covid_19_data/'\n",
    "        f'csse_covid_19_time_series/time_series_covid19_{name}_global.csv')\n",
    "    df = pd.read_csv(url)\n",
    "    # rename countries\n",
    "    df['Country/Region'] = df['Country/Region'].replace(mapping['replace.country'])\n",
    "    return df"
   ]
  },
  {
   "cell_type": "code",
   "execution_count": 8,
   "id": "affiliated-characterization",
   "metadata": {
    "execution": {
     "iopub.execute_input": "2021-10-02T00:22:39.710414Z",
     "iopub.status.busy": "2021-10-02T00:22:39.709696Z",
     "iopub.status.idle": "2021-10-02T00:22:39.711069Z",
     "shell.execute_reply": "2021-10-02T00:22:39.711796Z"
    },
    "papermill": {
     "duration": 0.049409,
     "end_time": "2021-10-02T00:22:39.711929",
     "exception": false,
     "start_time": "2021-10-02T00:22:39.662520",
     "status": "completed"
    },
    "tags": []
   },
   "outputs": [],
   "source": [
    "#hide\n",
    "def get_dates(df):\n",
    "    dt_cols = df.columns[~df.columns.isin(['Province/State', 'Country/Region', 'Lat', 'Long'])]\n",
    "    LAST_DATE_I = -1\n",
    "    # sometimes last column may be empty, then go backwards\n",
    "    for i in range(-1, -len(dt_cols), -1):\n",
    "        if not df[dt_cols[i]].fillna(0).eq(0).all():\n",
    "            LAST_DATE_I = i\n",
    "            break\n",
    "    return LAST_DATE_I, dt_cols"
   ]
  },
  {
   "cell_type": "code",
   "execution_count": 9,
   "id": "recent-optimization",
   "metadata": {
    "execution": {
     "iopub.execute_input": "2021-10-02T00:22:39.802434Z",
     "iopub.status.busy": "2021-10-02T00:22:39.801537Z",
     "iopub.status.idle": "2021-10-02T00:22:40.222162Z",
     "shell.execute_reply": "2021-10-02T00:22:40.221518Z"
    },
    "papermill": {
     "duration": 0.471452,
     "end_time": "2021-10-02T00:22:40.222376",
     "exception": false,
     "start_time": "2021-10-02T00:22:39.750924",
     "status": "completed"
    },
    "tags": []
   },
   "outputs": [],
   "source": [
    "#hide\n",
    "COL_REGION = 'Country/Region'\n",
    "# Confirmed, Recovered, Deaths\n",
    "df = get_frame('confirmed')\n",
    "# dft_: timeseries, dfc_: today country agg\n",
    "dft_cases = df\n",
    "dft_deaths = get_frame('deaths')\n",
    "dft_recovered = get_frame('recovered')\n",
    "LAST_DATE_I, dt_cols = get_dates(df)"
   ]
  },
  {
   "cell_type": "code",
   "execution_count": 10,
   "id": "absolute-copper",
   "metadata": {
    "execution": {
     "iopub.execute_input": "2021-10-02T00:22:40.304984Z",
     "iopub.status.busy": "2021-10-02T00:22:40.303311Z",
     "iopub.status.idle": "2021-10-02T00:22:40.309228Z",
     "shell.execute_reply": "2021-10-02T00:22:40.309789Z"
    },
    "papermill": {
     "duration": 0.051551,
     "end_time": "2021-10-02T00:22:40.309938",
     "exception": false,
     "start_time": "2021-10-02T00:22:40.258387",
     "status": "completed"
    },
    "tags": []
   },
   "outputs": [],
   "source": [
    "#hide\n",
    "LAST_DATE_I, dt_cols = get_dates(df)\n",
    "dt_today =dt_cols[LAST_DATE_I]\n",
    "# dt_5day = dt_cols[LAST_DATE_I - 5]\n",
    "dt_yday = dt_cols[LAST_DATE_I - 1]"
   ]
  },
  {
   "cell_type": "code",
   "execution_count": 11,
   "id": "restricted-sheriff",
   "metadata": {
    "execution": {
     "iopub.execute_input": "2021-10-02T00:22:40.394896Z",
     "iopub.status.busy": "2021-10-02T00:22:40.393719Z",
     "iopub.status.idle": "2021-10-02T00:22:40.402629Z",
     "shell.execute_reply": "2021-10-02T00:22:40.401598Z"
    },
    "papermill": {
     "duration": 0.054293,
     "end_time": "2021-10-02T00:22:40.402837",
     "exception": false,
     "start_time": "2021-10-02T00:22:40.348544",
     "status": "completed"
    },
    "tags": []
   },
   "outputs": [],
   "source": [
    "#hide\n",
    "dfc_cases = dft_cases.groupby(COL_REGION)[dt_today].sum()\n",
    "dfc_deaths = dft_deaths.groupby(COL_REGION)[dt_today].sum()\n",
    "# dfp_cases = dft_cases.groupby(COL_REGION)[dt_5day].sum()\n",
    "# dfp_deaths = dft_deaths.groupby(COL_REGION)[dt_5day].sum()\n",
    "dfp_cases = dft_cases.groupby(COL_REGION)[dt_yday].sum()\n",
    "dfp_deaths = dft_deaths.groupby(COL_REGION)[dt_yday].sum()"
   ]
  },
  {
   "cell_type": "code",
   "execution_count": 12,
   "id": "deluxe-hepatitis",
   "metadata": {
    "execution": {
     "iopub.execute_input": "2021-10-02T00:22:40.485218Z",
     "iopub.status.busy": "2021-10-02T00:22:40.484553Z",
     "iopub.status.idle": "2021-10-02T00:22:40.489803Z",
     "shell.execute_reply": "2021-10-02T00:22:40.489253Z"
    },
    "papermill": {
     "duration": 0.04802,
     "end_time": "2021-10-02T00:22:40.489971",
     "exception": false,
     "start_time": "2021-10-02T00:22:40.441951",
     "status": "completed"
    },
    "tags": []
   },
   "outputs": [],
   "source": [
    "#hide\n",
    "df_table = (pd.DataFrame(dict(Cases = dfc_cases, Deaths = dfc_deaths, PCases = dfp_cases, PDeaths = dfp_deaths))\n",
    "            .sort_values(by = ['Cases','Deaths'], ascending = [False, False])\n",
    "            .reset_index())"
   ]
  },
  {
   "cell_type": "code",
   "execution_count": 13,
   "id": "educational-chancellor",
   "metadata": {
    "execution": {
     "iopub.execute_input": "2021-10-02T00:22:40.586630Z",
     "iopub.status.busy": "2021-10-02T00:22:40.586012Z",
     "iopub.status.idle": "2021-10-02T00:22:40.595435Z",
     "shell.execute_reply": "2021-10-02T00:22:40.594947Z"
    },
    "papermill": {
     "duration": 0.065802,
     "end_time": "2021-10-02T00:22:40.595552",
     "exception": false,
     "start_time": "2021-10-02T00:22:40.529750",
     "status": "completed"
    },
    "tags": []
   },
   "outputs": [
    {
     "data": {
      "text/html": [
       "<div>\n",
       "<style scoped>\n",
       "    .dataframe tbody tr th:only-of-type {\n",
       "        vertical-align: middle;\n",
       "    }\n",
       "\n",
       "    .dataframe tbody tr th {\n",
       "        vertical-align: top;\n",
       "    }\n",
       "\n",
       "    .dataframe thead th {\n",
       "        text-align: right;\n",
       "    }\n",
       "</style>\n",
       "<table border=\"1\" class=\"dataframe\">\n",
       "  <thead>\n",
       "    <tr style=\"text-align: right;\">\n",
       "      <th></th>\n",
       "      <th>Country/Region</th>\n",
       "      <th>Cases</th>\n",
       "      <th>Deaths</th>\n",
       "      <th>PCases</th>\n",
       "      <th>PDeaths</th>\n",
       "      <th>Cases (+)</th>\n",
       "      <th>Deaths (+)</th>\n",
       "      <th>Fatality Rate</th>\n",
       "      <th>Continent</th>\n",
       "    </tr>\n",
       "  </thead>\n",
       "  <tbody>\n",
       "    <tr>\n",
       "      <th>0</th>\n",
       "      <td>US</td>\n",
       "      <td>43460343</td>\n",
       "      <td>697851</td>\n",
       "      <td>43349749</td>\n",
       "      <td>695123</td>\n",
       "      <td>110594</td>\n",
       "      <td>2728</td>\n",
       "      <td>1.61</td>\n",
       "      <td>North America</td>\n",
       "    </tr>\n",
       "    <tr>\n",
       "      <th>1</th>\n",
       "      <td>India</td>\n",
       "      <td>33766707</td>\n",
       "      <td>448339</td>\n",
       "      <td>33739980</td>\n",
       "      <td>448062</td>\n",
       "      <td>26727</td>\n",
       "      <td>277</td>\n",
       "      <td>1.33</td>\n",
       "      <td>Asia</td>\n",
       "    </tr>\n",
       "    <tr>\n",
       "      <th>2</th>\n",
       "      <td>Brazil</td>\n",
       "      <td>21427073</td>\n",
       "      <td>596749</td>\n",
       "      <td>21399546</td>\n",
       "      <td>596122</td>\n",
       "      <td>27527</td>\n",
       "      <td>627</td>\n",
       "      <td>2.79</td>\n",
       "      <td>South America</td>\n",
       "    </tr>\n",
       "    <tr>\n",
       "      <th>3</th>\n",
       "      <td>United Kingdom</td>\n",
       "      <td>7843887</td>\n",
       "      <td>137043</td>\n",
       "      <td>7808054</td>\n",
       "      <td>136906</td>\n",
       "      <td>35833</td>\n",
       "      <td>137</td>\n",
       "      <td>1.75</td>\n",
       "      <td>Europe</td>\n",
       "    </tr>\n",
       "    <tr>\n",
       "      <th>4</th>\n",
       "      <td>Russia</td>\n",
       "      <td>7401104</td>\n",
       "      <td>203549</td>\n",
       "      <td>7377774</td>\n",
       "      <td>202700</td>\n",
       "      <td>23330</td>\n",
       "      <td>849</td>\n",
       "      <td>2.75</td>\n",
       "      <td>Europe</td>\n",
       "    </tr>\n",
       "  </tbody>\n",
       "</table>\n",
       "</div>"
      ],
      "text/plain": [
       "   Country/Region     Cases  Deaths    PCases  PDeaths  Cases (+)  Deaths (+)  \\\n",
       "0              US  43460343  697851  43349749   695123     110594        2728   \n",
       "1           India  33766707  448339  33739980   448062      26727         277   \n",
       "2          Brazil  21427073  596749  21399546   596122      27527         627   \n",
       "3  United Kingdom   7843887  137043   7808054   136906      35833         137   \n",
       "4          Russia   7401104  203549   7377774   202700      23330         849   \n",
       "\n",
       "   Fatality Rate      Continent  \n",
       "0           1.61  North America  \n",
       "1           1.33           Asia  \n",
       "2           2.79  South America  \n",
       "3           1.75         Europe  \n",
       "4           2.75         Europe  "
      ]
     },
     "execution_count": 13,
     "metadata": {},
     "output_type": "execute_result"
    }
   ],
   "source": [
    "#hide\n",
    "for c in 'Cases, Deaths'.split(', '):\n",
    "    df_table[f'{c} (+)'] = (df_table[c] - df_table[f'P{c}']).clip(0)\n",
    "    #Clip ça veut dire, les chiffres negatif sont interdit\n",
    "df_table['Fatality Rate'] = (100* df_table['Deaths']/ df_table['Cases']).round(2)\n",
    "df_table['Continent'] = df_table['Country/Region'].map(mapping['map.continent'])\n",
    "df_table.head(5)"
   ]
  },
  {
   "cell_type": "code",
   "execution_count": 14,
   "id": "aboriginal-bulgaria",
   "metadata": {
    "execution": {
     "iopub.execute_input": "2021-10-02T00:22:40.680838Z",
     "iopub.status.busy": "2021-10-02T00:22:40.679988Z",
     "iopub.status.idle": "2021-10-02T00:22:40.681958Z",
     "shell.execute_reply": "2021-10-02T00:22:40.682535Z"
    },
    "papermill": {
     "duration": 0.047546,
     "end_time": "2021-10-02T00:22:40.682672",
     "exception": false,
     "start_time": "2021-10-02T00:22:40.635126",
     "status": "completed"
    },
    "tags": []
   },
   "outputs": [],
   "source": [
    "#hide\n",
    "#delete problematic countries from table\n",
    "df_table = df_table[~df_table['Country/Region'].isin(['Cape Verde', 'Cruise Ship', 'Kosovo'])]"
   ]
  },
  {
   "cell_type": "code",
   "execution_count": 15,
   "id": "fantastic-effect",
   "metadata": {
    "execution": {
     "iopub.execute_input": "2021-10-02T00:22:40.765724Z",
     "iopub.status.busy": "2021-10-02T00:22:40.765043Z",
     "iopub.status.idle": "2021-10-02T00:22:40.788181Z",
     "shell.execute_reply": "2021-10-02T00:22:40.788730Z"
    },
    "papermill": {
     "duration": 0.068071,
     "end_time": "2021-10-02T00:22:40.788865",
     "exception": false,
     "start_time": "2021-10-02T00:22:40.720794",
     "status": "completed"
    },
    "tags": []
   },
   "outputs": [
    {
     "data": {
      "text/html": [
       "<div>\n",
       "<style scoped>\n",
       "    .dataframe tbody tr th:only-of-type {\n",
       "        vertical-align: middle;\n",
       "    }\n",
       "\n",
       "    .dataframe tbody tr th {\n",
       "        vertical-align: top;\n",
       "    }\n",
       "\n",
       "    .dataframe thead th {\n",
       "        text-align: right;\n",
       "    }\n",
       "</style>\n",
       "<table border=\"1\" class=\"dataframe\">\n",
       "  <thead>\n",
       "    <tr style=\"text-align: right;\">\n",
       "      <th></th>\n",
       "      <th>Country/Region</th>\n",
       "      <th>Cases</th>\n",
       "      <th>Deaths</th>\n",
       "      <th>PCases</th>\n",
       "      <th>PDeaths</th>\n",
       "      <th>Cases (+)</th>\n",
       "      <th>Deaths (+)</th>\n",
       "      <th>Fatality Rate</th>\n",
       "      <th>Continent</th>\n",
       "    </tr>\n",
       "  </thead>\n",
       "  <tbody>\n",
       "    <tr>\n",
       "      <th>0</th>\n",
       "      <td>US</td>\n",
       "      <td>43460343</td>\n",
       "      <td>697851</td>\n",
       "      <td>43349749</td>\n",
       "      <td>695123</td>\n",
       "      <td>110594</td>\n",
       "      <td>2728</td>\n",
       "      <td>1.6</td>\n",
       "      <td>North America</td>\n",
       "    </tr>\n",
       "    <tr>\n",
       "      <th>1</th>\n",
       "      <td>India</td>\n",
       "      <td>33766707</td>\n",
       "      <td>448339</td>\n",
       "      <td>33739980</td>\n",
       "      <td>448062</td>\n",
       "      <td>26727</td>\n",
       "      <td>277</td>\n",
       "      <td>1.3</td>\n",
       "      <td>Asia</td>\n",
       "    </tr>\n",
       "    <tr>\n",
       "      <th>2</th>\n",
       "      <td>Brazil</td>\n",
       "      <td>21427073</td>\n",
       "      <td>596749</td>\n",
       "      <td>21399546</td>\n",
       "      <td>596122</td>\n",
       "      <td>27527</td>\n",
       "      <td>627</td>\n",
       "      <td>2.8</td>\n",
       "      <td>South America</td>\n",
       "    </tr>\n",
       "    <tr>\n",
       "      <th>3</th>\n",
       "      <td>United Kingdom</td>\n",
       "      <td>7843887</td>\n",
       "      <td>137043</td>\n",
       "      <td>7808054</td>\n",
       "      <td>136906</td>\n",
       "      <td>35833</td>\n",
       "      <td>137</td>\n",
       "      <td>1.7</td>\n",
       "      <td>Europe</td>\n",
       "    </tr>\n",
       "    <tr>\n",
       "      <th>4</th>\n",
       "      <td>Russia</td>\n",
       "      <td>7401104</td>\n",
       "      <td>203549</td>\n",
       "      <td>7377774</td>\n",
       "      <td>202700</td>\n",
       "      <td>23330</td>\n",
       "      <td>849</td>\n",
       "      <td>2.8</td>\n",
       "      <td>Europe</td>\n",
       "    </tr>\n",
       "  </tbody>\n",
       "</table>\n",
       "</div>"
      ],
      "text/plain": [
       "   Country/Region     Cases  Deaths    PCases  PDeaths  Cases (+)  Deaths (+)  \\\n",
       "0              US  43460343  697851  43349749   695123     110594        2728   \n",
       "1           India  33766707  448339  33739980   448062      26727         277   \n",
       "2          Brazil  21427073  596749  21399546   596122      27527         627   \n",
       "3  United Kingdom   7843887  137043   7808054   136906      35833         137   \n",
       "4          Russia   7401104  203549   7377774   202700      23330         849   \n",
       "\n",
       "   Fatality Rate      Continent  \n",
       "0            1.6  North America  \n",
       "1            1.3           Asia  \n",
       "2            2.8  South America  \n",
       "3            1.7         Europe  \n",
       "4            2.8         Europe  "
      ]
     },
     "execution_count": 15,
     "metadata": {},
     "output_type": "execute_result"
    }
   ],
   "source": [
    "#hide\n",
    "df_table = (pd.DataFrame(dict(Cases=dfc_cases, Deaths=dfc_deaths, PCases=dfp_cases, PDeaths=dfp_deaths))\n",
    "             .sort_values(by=['Cases', 'Deaths'], ascending=[False, False])\n",
    "             .reset_index())\n",
    "df_table.rename(columns={'index': 'Country/Region'}, inplace=True)\n",
    "for c in 'Cases, Deaths'.split(', '):\n",
    "    df_table[f'{c} (+)'] = (df_table[c] - df_table[f'P{c}']).clip(0)  # DATA BUG\n",
    "df_table['Fatality Rate'] = (100 * df_table['Deaths'] / df_table['Cases']).round(1)\n",
    "df_table['Continent'] = df_table['Country/Region'].map(mapping['map.continent'])\n",
    "df_table.head(5)"
   ]
  },
  {
   "cell_type": "code",
   "execution_count": 16,
   "id": "fewer-occasion",
   "metadata": {
    "execution": {
     "iopub.execute_input": "2021-10-02T00:22:40.876384Z",
     "iopub.status.busy": "2021-10-02T00:22:40.874644Z",
     "iopub.status.idle": "2021-10-02T00:22:40.879440Z",
     "shell.execute_reply": "2021-10-02T00:22:40.880191Z"
    },
    "papermill": {
     "duration": 0.054883,
     "end_time": "2021-10-02T00:22:40.880357",
     "exception": false,
     "start_time": "2021-10-02T00:22:40.825474",
     "status": "completed"
    },
    "tags": []
   },
   "outputs": [],
   "source": [
    "#hide\n",
    "#delete problematic countries from table\n",
    "df_table = df_table[~df_table['Country/Region'].isin(['Cape Verde', 'Cruise Ship', 'Kosovo'])]"
   ]
  },
  {
   "cell_type": "code",
   "execution_count": 17,
   "id": "related-center",
   "metadata": {
    "execution": {
     "iopub.execute_input": "2021-10-02T00:22:40.974664Z",
     "iopub.status.busy": "2021-10-02T00:22:40.973883Z",
     "iopub.status.idle": "2021-10-02T00:22:40.980130Z",
     "shell.execute_reply": "2021-10-02T00:22:40.979631Z"
    },
    "papermill": {
     "duration": 0.063182,
     "end_time": "2021-10-02T00:22:40.980249",
     "exception": false,
     "start_time": "2021-10-02T00:22:40.917067",
     "status": "completed"
    },
    "tags": []
   },
   "outputs": [],
   "source": [
    "#hide\n",
    "metrics = [df_table.columns[index] for index in [1,2,5,6]]\n",
    "# s_china = df_table[df_table['Country/Region'].eq('China')][metrics].sum().add_prefix('China ')\n",
    "s_us = df_table[df_table['Country/Region'].eq('US')][metrics].sum().add_prefix('US ')\n",
    "s_eu = df_table[df_table['Continent'].eq('Europe')][metrics].sum().add_prefix('EU ')\n",
    "s_ind = df_table[df_table['Country/Region'].eq('India')][metrics].sum().add_prefix('India ')\n",
    "summary = {'updated': pd.to_datetime(dt_today), 'since': pd.to_datetime(dt_yday)}\n",
    "summary = {'updated': pd.to_datetime(dt_today), 'since': pd.to_datetime(dt_yday)}\n",
    "summary = {**summary, **df_table[metrics].sum(), **s_ind, **s_us, **s_eu}"
   ]
  },
  {
   "cell_type": "code",
   "execution_count": 18,
   "id": "engaging-syndrome",
   "metadata": {
    "execution": {
     "iopub.execute_input": "2021-10-02T00:22:41.063578Z",
     "iopub.status.busy": "2021-10-02T00:22:41.062893Z",
     "iopub.status.idle": "2021-10-02T00:22:41.077967Z",
     "shell.execute_reply": "2021-10-02T00:22:41.078624Z"
    },
    "papermill": {
     "duration": 0.058373,
     "end_time": "2021-10-02T00:22:41.078762",
     "exception": false,
     "start_time": "2021-10-02T00:22:41.020389",
     "status": "completed"
    },
    "tags": []
   },
   "outputs": [],
   "source": [
    "#hide\n",
    "dft_ct_new_cases = dft_cases.groupby(COL_REGION)[dt_cols].sum().diff(axis=1).fillna(0).astype(int)"
   ]
  },
  {
   "cell_type": "code",
   "execution_count": 19,
   "id": "neutral-assignment",
   "metadata": {
    "execution": {
     "iopub.execute_input": "2021-10-02T00:22:41.166924Z",
     "iopub.status.busy": "2021-10-02T00:22:41.166278Z",
     "iopub.status.idle": "2021-10-02T00:22:41.168155Z",
     "shell.execute_reply": "2021-10-02T00:22:41.168680Z"
    },
    "papermill": {
     "duration": 0.048335,
     "end_time": "2021-10-02T00:22:41.168825",
     "exception": false,
     "start_time": "2021-10-02T00:22:41.120490",
     "status": "completed"
    },
    "tags": []
   },
   "outputs": [],
   "source": [
    "#hide\n",
    "everydaycases = dft_ct_new_cases.cumsum(axis=1)"
   ]
  },
  {
   "cell_type": "code",
   "execution_count": 20,
   "id": "parliamentary-calgary",
   "metadata": {
    "execution": {
     "iopub.execute_input": "2021-10-02T00:22:41.252523Z",
     "iopub.status.busy": "2021-10-02T00:22:41.251833Z",
     "iopub.status.idle": "2021-10-02T00:22:41.938362Z",
     "shell.execute_reply": "2021-10-02T00:22:41.937711Z"
    },
    "papermill": {
     "duration": 0.73207,
     "end_time": "2021-10-02T00:22:41.938526",
     "exception": false,
     "start_time": "2021-10-02T00:22:41.206456",
     "status": "completed"
    },
    "tags": []
   },
   "outputs": [],
   "source": [
    "#hide\n",
    "import pandas as pd\n",
    "import matplotlib.pyplot as plt\n",
    "import matplotlib.ticker as ticker\n",
    "import matplotlib.animation as animation\n",
    "from IPython.display import HTML"
   ]
  },
  {
   "cell_type": "code",
   "execution_count": 21,
   "id": "lasting-extraction",
   "metadata": {
    "execution": {
     "iopub.execute_input": "2021-10-02T00:22:42.029944Z",
     "iopub.status.busy": "2021-10-02T00:22:42.029265Z",
     "iopub.status.idle": "2021-10-02T00:22:42.034759Z",
     "shell.execute_reply": "2021-10-02T00:22:42.035321Z"
    },
    "papermill": {
     "duration": 0.052087,
     "end_time": "2021-10-02T00:22:42.035466",
     "exception": false,
     "start_time": "2021-10-02T00:22:41.983379",
     "status": "completed"
    },
    "tags": []
   },
   "outputs": [],
   "source": [
    "#hide\n",
    "t = everydaycases.stack()"
   ]
  },
  {
   "cell_type": "code",
   "execution_count": 22,
   "id": "premier-sleeve",
   "metadata": {
    "execution": {
     "iopub.execute_input": "2021-10-02T00:22:42.124525Z",
     "iopub.status.busy": "2021-10-02T00:22:42.123791Z",
     "iopub.status.idle": "2021-10-02T00:22:42.135839Z",
     "shell.execute_reply": "2021-10-02T00:22:42.135099Z"
    },
    "papermill": {
     "duration": 0.058705,
     "end_time": "2021-10-02T00:22:42.136012",
     "exception": false,
     "start_time": "2021-10-02T00:22:42.077307",
     "status": "completed"
    },
    "tags": []
   },
   "outputs": [],
   "source": [
    "#hide\n",
    "g = t.reset_index(['Country/Region'])"
   ]
  },
  {
   "cell_type": "code",
   "execution_count": 23,
   "id": "distributed-pittsburgh",
   "metadata": {
    "execution": {
     "iopub.execute_input": "2021-10-02T00:22:42.224094Z",
     "iopub.status.busy": "2021-10-02T00:22:42.223445Z",
     "iopub.status.idle": "2021-10-02T00:22:42.226086Z",
     "shell.execute_reply": "2021-10-02T00:22:42.225488Z"
    },
    "papermill": {
     "duration": 0.046617,
     "end_time": "2021-10-02T00:22:42.226212",
     "exception": false,
     "start_time": "2021-10-02T00:22:42.179595",
     "status": "completed"
    },
    "tags": []
   },
   "outputs": [],
   "source": [
    "#hide\n",
    "g.index.name = 'date'"
   ]
  },
  {
   "cell_type": "code",
   "execution_count": 24,
   "id": "naked-donor",
   "metadata": {
    "execution": {
     "iopub.execute_input": "2021-10-02T00:22:42.310793Z",
     "iopub.status.busy": "2021-10-02T00:22:42.309454Z",
     "iopub.status.idle": "2021-10-02T00:22:42.311415Z",
     "shell.execute_reply": "2021-10-02T00:22:42.311884Z"
    },
    "papermill": {
     "duration": 0.043205,
     "end_time": "2021-10-02T00:22:42.312059",
     "exception": false,
     "start_time": "2021-10-02T00:22:42.268854",
     "status": "completed"
    },
    "tags": []
   },
   "outputs": [],
   "source": [
    "# #hide\n",
    "# g = g.reset_index(['date'])"
   ]
  },
  {
   "cell_type": "code",
   "execution_count": 25,
   "id": "incomplete-mustang",
   "metadata": {
    "execution": {
     "iopub.execute_input": "2021-10-02T00:22:42.395193Z",
     "iopub.status.busy": "2021-10-02T00:22:42.394605Z",
     "iopub.status.idle": "2021-10-02T00:22:42.397478Z",
     "shell.execute_reply": "2021-10-02T00:22:42.396947Z"
    },
    "papermill": {
     "duration": 0.045306,
     "end_time": "2021-10-02T00:22:42.397593",
     "exception": false,
     "start_time": "2021-10-02T00:22:42.352287",
     "status": "completed"
    },
    "tags": []
   },
   "outputs": [],
   "source": [
    "#hide\n",
    "# g.head()"
   ]
  },
  {
   "cell_type": "code",
   "execution_count": 26,
   "id": "specific-kruger",
   "metadata": {
    "execution": {
     "iopub.execute_input": "2021-10-02T00:22:42.479616Z",
     "iopub.status.busy": "2021-10-02T00:22:42.478956Z",
     "iopub.status.idle": "2021-10-02T00:22:42.481752Z",
     "shell.execute_reply": "2021-10-02T00:22:42.481194Z"
    },
    "papermill": {
     "duration": 0.047935,
     "end_time": "2021-10-02T00:22:42.481875",
     "exception": false,
     "start_time": "2021-10-02T00:22:42.433940",
     "status": "completed"
    },
    "tags": []
   },
   "outputs": [],
   "source": [
    "#hide\n",
    "# g.columns = ['date','country','cases']"
   ]
  },
  {
   "cell_type": "code",
   "execution_count": 27,
   "id": "tender-conversion",
   "metadata": {
    "execution": {
     "iopub.execute_input": "2021-10-02T00:22:42.563752Z",
     "iopub.status.busy": "2021-10-02T00:22:42.563075Z",
     "iopub.status.idle": "2021-10-02T00:22:42.565354Z",
     "shell.execute_reply": "2021-10-02T00:22:42.564818Z"
    },
    "papermill": {
     "duration": 0.045248,
     "end_time": "2021-10-02T00:22:42.565488",
     "exception": false,
     "start_time": "2021-10-02T00:22:42.520240",
     "status": "completed"
    },
    "tags": []
   },
   "outputs": [],
   "source": [
    "#hide\n",
    "# g['continent'] = g.country"
   ]
  },
  {
   "cell_type": "code",
   "execution_count": 28,
   "id": "substantial-wilderness",
   "metadata": {
    "execution": {
     "iopub.execute_input": "2021-10-02T00:22:42.651082Z",
     "iopub.status.busy": "2021-10-02T00:22:42.650284Z",
     "iopub.status.idle": "2021-10-02T00:22:42.652104Z",
     "shell.execute_reply": "2021-10-02T00:22:42.652832Z"
    },
    "papermill": {
     "duration": 0.046775,
     "end_time": "2021-10-02T00:22:42.652995",
     "exception": false,
     "start_time": "2021-10-02T00:22:42.606220",
     "status": "completed"
    },
    "tags": []
   },
   "outputs": [],
   "source": [
    "#hide\n",
    "# cols = list(g.columns.values)"
   ]
  },
  {
   "cell_type": "code",
   "execution_count": 29,
   "id": "solved-farming",
   "metadata": {
    "execution": {
     "iopub.execute_input": "2021-10-02T00:22:42.738286Z",
     "iopub.status.busy": "2021-10-02T00:22:42.737674Z",
     "iopub.status.idle": "2021-10-02T00:22:42.740083Z",
     "shell.execute_reply": "2021-10-02T00:22:42.739561Z"
    },
    "papermill": {
     "duration": 0.045013,
     "end_time": "2021-10-02T00:22:42.740195",
     "exception": false,
     "start_time": "2021-10-02T00:22:42.695182",
     "status": "completed"
    },
    "tags": []
   },
   "outputs": [],
   "source": [
    "#hide\n",
    "# cols.insert(0, cols.pop())"
   ]
  },
  {
   "cell_type": "code",
   "execution_count": 30,
   "id": "executed-adoption",
   "metadata": {
    "execution": {
     "iopub.execute_input": "2021-10-02T00:22:42.823996Z",
     "iopub.status.busy": "2021-10-02T00:22:42.823228Z",
     "iopub.status.idle": "2021-10-02T00:22:42.825572Z",
     "shell.execute_reply": "2021-10-02T00:22:42.826057Z"
    },
    "papermill": {
     "duration": 0.044542,
     "end_time": "2021-10-02T00:22:42.826186",
     "exception": false,
     "start_time": "2021-10-02T00:22:42.781644",
     "status": "completed"
    },
    "tags": []
   },
   "outputs": [],
   "source": [
    "#hide\n",
    "# g = g[cols]"
   ]
  },
  {
   "cell_type": "code",
   "execution_count": 31,
   "id": "subject-dublin",
   "metadata": {
    "execution": {
     "iopub.execute_input": "2021-10-02T00:22:42.912256Z",
     "iopub.status.busy": "2021-10-02T00:22:42.911663Z",
     "iopub.status.idle": "2021-10-02T00:22:42.913507Z",
     "shell.execute_reply": "2021-10-02T00:22:42.914200Z"
    },
    "papermill": {
     "duration": 0.044417,
     "end_time": "2021-10-02T00:22:42.914355",
     "exception": false,
     "start_time": "2021-10-02T00:22:42.869938",
     "status": "completed"
    },
    "tags": []
   },
   "outputs": [],
   "source": [
    "#hide\n",
    "# g['continent'] = g['continent'].map(mapping['map.continent'])"
   ]
  },
  {
   "cell_type": "code",
   "execution_count": 32,
   "id": "freelance-scout",
   "metadata": {
    "execution": {
     "iopub.execute_input": "2021-10-02T00:22:42.996470Z",
     "iopub.status.busy": "2021-10-02T00:22:42.995695Z",
     "iopub.status.idle": "2021-10-02T00:22:42.998282Z",
     "shell.execute_reply": "2021-10-02T00:22:42.998873Z"
    },
    "papermill": {
     "duration": 0.046457,
     "end_time": "2021-10-02T00:22:42.999006",
     "exception": false,
     "start_time": "2021-10-02T00:22:42.952549",
     "status": "completed"
    },
    "tags": []
   },
   "outputs": [],
   "source": [
    "#hide\n",
    "# g.head()"
   ]
  },
  {
   "cell_type": "code",
   "execution_count": 33,
   "id": "limited-engine",
   "metadata": {
    "execution": {
     "iopub.execute_input": "2021-10-02T00:22:43.088082Z",
     "iopub.status.busy": "2021-10-02T00:22:43.087346Z",
     "iopub.status.idle": "2021-10-02T00:22:43.089835Z",
     "shell.execute_reply": "2021-10-02T00:22:43.089259Z"
    },
    "papermill": {
     "duration": 0.050109,
     "end_time": "2021-10-02T00:22:43.089960",
     "exception": false,
     "start_time": "2021-10-02T00:22:43.039851",
     "status": "completed"
    },
    "tags": []
   },
   "outputs": [],
   "source": [
    "# hide\n",
    "# g['date'] = g['date'].astype('datetime64[ns]')"
   ]
  },
  {
   "cell_type": "code",
   "execution_count": 34,
   "id": "sophisticated-supervisor",
   "metadata": {
    "execution": {
     "iopub.execute_input": "2021-10-02T00:22:43.172808Z",
     "iopub.status.busy": "2021-10-02T00:22:43.172160Z",
     "iopub.status.idle": "2021-10-02T00:22:43.174560Z",
     "shell.execute_reply": "2021-10-02T00:22:43.173931Z"
    },
    "papermill": {
     "duration": 0.04494,
     "end_time": "2021-10-02T00:22:43.174684",
     "exception": false,
     "start_time": "2021-10-02T00:22:43.129744",
     "status": "completed"
    },
    "tags": []
   },
   "outputs": [],
   "source": [
    "#hide\n",
    "# g['date'] = g.date.dt.dayofyear"
   ]
  },
  {
   "cell_type": "code",
   "execution_count": 35,
   "id": "inside-dubai",
   "metadata": {
    "execution": {
     "iopub.execute_input": "2021-10-02T00:22:43.255201Z",
     "iopub.status.busy": "2021-10-02T00:22:43.254560Z",
     "iopub.status.idle": "2021-10-02T00:22:43.257209Z",
     "shell.execute_reply": "2021-10-02T00:22:43.256494Z"
    },
    "papermill": {
     "duration": 0.044656,
     "end_time": "2021-10-02T00:22:43.257405",
     "exception": false,
     "start_time": "2021-10-02T00:22:43.212749",
     "status": "completed"
    },
    "tags": []
   },
   "outputs": [],
   "source": [
    "#hide\n",
    "# g = g.rename(columns= {'continent':'group','country':'name','cases':'value'})"
   ]
  },
  {
   "cell_type": "code",
   "execution_count": 36,
   "id": "fleet-motorcycle",
   "metadata": {
    "execution": {
     "iopub.execute_input": "2021-10-02T00:22:43.344014Z",
     "iopub.status.busy": "2021-10-02T00:22:43.343061Z",
     "iopub.status.idle": "2021-10-02T00:22:43.345130Z",
     "shell.execute_reply": "2021-10-02T00:22:43.345649Z"
    },
    "papermill": {
     "duration": 0.044829,
     "end_time": "2021-10-02T00:22:43.345781",
     "exception": false,
     "start_time": "2021-10-02T00:22:43.300952",
     "status": "completed"
    },
    "tags": []
   },
   "outputs": [],
   "source": [
    "#hide\n",
    "# cols = ['name','group','day','value']"
   ]
  },
  {
   "cell_type": "code",
   "execution_count": 37,
   "id": "continued-sleeping",
   "metadata": {
    "execution": {
     "iopub.execute_input": "2021-10-02T00:22:43.425932Z",
     "iopub.status.busy": "2021-10-02T00:22:43.424850Z",
     "iopub.status.idle": "2021-10-02T00:22:43.427656Z",
     "shell.execute_reply": "2021-10-02T00:22:43.427152Z"
    },
    "papermill": {
     "duration": 0.045607,
     "end_time": "2021-10-02T00:22:43.427775",
     "exception": false,
     "start_time": "2021-10-02T00:22:43.382168",
     "status": "completed"
    },
    "tags": []
   },
   "outputs": [],
   "source": [
    "#hide\n",
    "# g.rename(columns= {'date':'day'},inplace = True)"
   ]
  },
  {
   "cell_type": "code",
   "execution_count": 38,
   "id": "major-fight",
   "metadata": {
    "execution": {
     "iopub.execute_input": "2021-10-02T00:22:43.509826Z",
     "iopub.status.busy": "2021-10-02T00:22:43.509187Z",
     "iopub.status.idle": "2021-10-02T00:22:43.511199Z",
     "shell.execute_reply": "2021-10-02T00:22:43.511688Z"
    },
    "papermill": {
     "duration": 0.045327,
     "end_time": "2021-10-02T00:22:43.511822",
     "exception": false,
     "start_time": "2021-10-02T00:22:43.466495",
     "status": "completed"
    },
    "tags": []
   },
   "outputs": [],
   "source": [
    "#hide\n",
    "# g = g[cols]"
   ]
  },
  {
   "cell_type": "code",
   "execution_count": 39,
   "id": "structured-mobile",
   "metadata": {
    "execution": {
     "iopub.execute_input": "2021-10-02T00:22:43.595466Z",
     "iopub.status.busy": "2021-10-02T00:22:43.594859Z",
     "iopub.status.idle": "2021-10-02T00:22:43.597507Z",
     "shell.execute_reply": "2021-10-02T00:22:43.596964Z"
    },
    "papermill": {
     "duration": 0.047456,
     "end_time": "2021-10-02T00:22:43.597630",
     "exception": false,
     "start_time": "2021-10-02T00:22:43.550174",
     "status": "completed"
    },
    "tags": []
   },
   "outputs": [],
   "source": [
    "# #hide\n",
    "# g = g[g.group.notna()]"
   ]
  },
  {
   "cell_type": "code",
   "execution_count": 40,
   "id": "determined-closing",
   "metadata": {
    "execution": {
     "iopub.execute_input": "2021-10-02T00:22:43.680847Z",
     "iopub.status.busy": "2021-10-02T00:22:43.680183Z",
     "iopub.status.idle": "2021-10-02T00:22:43.683037Z",
     "shell.execute_reply": "2021-10-02T00:22:43.681959Z"
    },
    "papermill": {
     "duration": 0.047021,
     "end_time": "2021-10-02T00:22:43.683202",
     "exception": false,
     "start_time": "2021-10-02T00:22:43.636181",
     "status": "completed"
    },
    "tags": []
   },
   "outputs": [],
   "source": [
    "# #hide\n",
    "# colors = dict(zip(\n",
    "#     [\"Oceania\", \"Europe\", \"Asia\", \"South America\", \"Middle East\", \"North America\", \"Africa\"],\n",
    "#     [\"#adb0ff\", \"#ffb3ff\", \"#90d595\", \"#e48381\", \"#aafbff\", \"#f7bb5f\", \"#eafb50\"]\n",
    "# ))\n",
    "# group_lk = g.set_index('name')['group'].to_dict()"
   ]
  },
  {
   "cell_type": "code",
   "execution_count": null,
   "id": "gross-drinking",
   "metadata": {
    "papermill": {
     "duration": 0.039068,
     "end_time": "2021-10-02T00:22:43.758990",
     "exception": false,
     "start_time": "2021-10-02T00:22:43.719922",
     "status": "completed"
    },
    "tags": []
   },
   "outputs": [],
   "source": []
  },
  {
   "cell_type": "code",
   "execution_count": 41,
   "id": "subject-macintosh",
   "metadata": {
    "execution": {
     "iopub.execute_input": "2021-10-02T00:22:43.843025Z",
     "iopub.status.busy": "2021-10-02T00:22:43.842426Z",
     "iopub.status.idle": "2021-10-02T00:22:43.843894Z",
     "shell.execute_reply": "2021-10-02T00:22:43.844701Z"
    },
    "papermill": {
     "duration": 0.046451,
     "end_time": "2021-10-02T00:22:43.844882",
     "exception": false,
     "start_time": "2021-10-02T00:22:43.798431",
     "status": "completed"
    },
    "tags": []
   },
   "outputs": [],
   "source": [
    "# #hide\n",
    "# fig, ax = plt.subplots(figsize=(15, 8))\n",
    "\n",
    "# def draw_barchart(current_day):\n",
    "#     dff = g[g['day'].eq(current_day)].sort_values(by='value', ascending=True).tail(10)\n",
    "#     ax.clear()\n",
    "#     ax.barh(dff['name'], dff['value'], color=[colors[group_lk[x]] for x in dff['name']])\n",
    "#     dx = dff['value'].max() / 200\n",
    "    \n",
    "#     for i, (value, name) in enumerate(zip(dff['value'], dff['name'])):\n",
    "#         ax.text(value-dx, i,     name,           size=14, weight=600, ha='right', va='bottom')\n",
    "#         ax.text(value-dx, i-.25, group_lk[name], size=10, color='#444444', ha='right', va='baseline')\n",
    "#         ax.text(value+dx, i,     f'{value:,.0f}',  size=14, ha='left',  va='center')\n",
    "#     ax.text(1, 0.4, current_day, transform=ax.transAxes, color='#777777', size=46, ha='right', weight=800)\n",
    "#     ax.text(0, 1.06, 'Population (thousands)', transform=ax.transAxes, size=12, color='#777777')\n",
    "#     ax.xaxis.set_major_formatter(ticker.StrMethodFormatter('{x:,.0f}'))\n",
    "#     ax.xaxis.set_ticks_position('top')\n",
    "#     ax.tick_params(axis='x', colors='#777777', labelsize=12)\n",
    "#     ax.set_yticks([])\n",
    "#     ax.margins(0, 0.01)\n",
    "#     ax.grid(which='major', axis='x', linestyle='-')\n",
    "#     ax.set_axisbelow(True)\n",
    "    \n",
    "#     ax.text(0, 1.15, 'Coronavirus',\n",
    "#             transform=ax.transAxes, size=24, weight=600, ha='left', va='top')\n",
    "# #     ax.text(1, 0, 'by @pratapvardhan; credit @jburnmurdoch', transform=ax.transAxes, color='#777777', ha='right',\n",
    "# #             bbox=dict(facecolor='white', alpha=0.8, edgecolor='white'))\n",
    "#     plt.box(False)"
   ]
  },
  {
   "cell_type": "code",
   "execution_count": 42,
   "id": "sexual-wages",
   "metadata": {
    "execution": {
     "iopub.execute_input": "2021-10-02T00:22:43.930226Z",
     "iopub.status.busy": "2021-10-02T00:22:43.929601Z",
     "iopub.status.idle": "2021-10-02T00:22:43.932251Z",
     "shell.execute_reply": "2021-10-02T00:22:43.931623Z"
    },
    "papermill": {
     "duration": 0.04714,
     "end_time": "2021-10-02T00:22:43.932376",
     "exception": false,
     "start_time": "2021-10-02T00:22:43.885236",
     "status": "completed"
    },
    "tags": []
   },
   "outputs": [],
   "source": [
    "# #hide_input\n",
    "# fig, ax = plt.subplots(figsize=(15, 8))\n",
    "# animator = animation.FuncAnimation(fig, draw_barchart, frames=range(g.day.values.min(), g.day.values.max()))\n",
    "# HTML(animator.to_jshtml())\n",
    "# # or use animator.to_html5_video() or animator.save() "
   ]
  },
  {
   "cell_type": "code",
   "execution_count": null,
   "id": "australian-container",
   "metadata": {
    "papermill": {
     "duration": 0.038969,
     "end_time": "2021-10-02T00:22:44.015651",
     "exception": false,
     "start_time": "2021-10-02T00:22:43.976682",
     "status": "completed"
    },
    "tags": []
   },
   "outputs": [],
   "source": []
  },
  {
   "cell_type": "code",
   "execution_count": null,
   "id": "mediterranean-pontiac",
   "metadata": {
    "papermill": {
     "duration": 0.040699,
     "end_time": "2021-10-02T00:22:44.096429",
     "exception": false,
     "start_time": "2021-10-02T00:22:44.055730",
     "status": "completed"
    },
    "tags": []
   },
   "outputs": [],
   "source": []
  },
  {
   "cell_type": "code",
   "execution_count": null,
   "id": "aging-legislature",
   "metadata": {
    "papermill": {
     "duration": 0.039158,
     "end_time": "2021-10-02T00:22:44.174107",
     "exception": false,
     "start_time": "2021-10-02T00:22:44.134949",
     "status": "completed"
    },
    "tags": []
   },
   "outputs": [],
   "source": []
  }
 ],
 "metadata": {
  "kernelspec": {
   "display_name": "Python 3",
   "language": "python",
   "name": "python3"
  },
  "language_info": {
   "codemirror_mode": {
    "name": "ipython",
    "version": 3
   },
   "file_extension": ".py",
   "mimetype": "text/x-python",
   "name": "python",
   "nbconvert_exporter": "python",
   "pygments_lexer": "ipython3",
   "version": "3.6.15"
  },
  "papermill": {
   "duration": 7.091287,
   "end_time": "2021-10-02T00:22:44.523424",
   "environment_variables": {},
   "exception": null,
   "input_path": "2020-03-21-covid19exp.ipynb",
   "output_path": "2020-03-21-covid19exp.ipynb",
   "parameters": {},
   "start_time": "2021-10-02T00:22:37.432137",
   "version": "2.0.0"
  }
 },
 "nbformat": 4,
 "nbformat_minor": 5
}