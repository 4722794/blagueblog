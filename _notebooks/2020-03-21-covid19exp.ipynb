{
 "cells": [
  {
   "cell_type": "markdown",
   "id": "muslim-click",
   "metadata": {
    "papermill": {
     "duration": 0.03502,
     "end_time": "2022-06-29T00:40:38.376879",
     "exception": false,
     "start_time": "2022-06-29T00:40:38.341859",
     "status": "completed"
    },
    "tags": []
   },
   "source": [
    "# COVID-19 Case Race\n",
    "> A race chart to see rising cases around the world\n",
    "\n",
    "- author: Hargun Oberoi\n",
    "- image: images/covid-overview.png\n",
    "- hide: false\n",
    "- badges: false"
   ]
  },
  {
   "cell_type": "code",
   "execution_count": 1,
   "id": "proof-material",
   "metadata": {
    "execution": {
     "iopub.execute_input": "2022-06-29T00:40:38.449991Z",
     "iopub.status.busy": "2022-06-29T00:40:38.449257Z",
     "iopub.status.idle": "2022-06-29T00:40:38.790994Z",
     "shell.execute_reply": "2022-06-29T00:40:38.791482Z"
    },
    "papermill": {
     "duration": 0.382123,
     "end_time": "2022-06-29T00:40:38.791667",
     "exception": false,
     "start_time": "2022-06-29T00:40:38.409544",
     "status": "completed"
    },
    "tags": []
   },
   "outputs": [],
   "source": [
    "#hide\n",
    "import numpy as np\n",
    "import pandas as pd\n",
    "from jinja2 import Template\n",
    "from IPython.display import HTML"
   ]
  },
  {
   "cell_type": "code",
   "execution_count": 2,
   "id": "developed-terminology",
   "metadata": {
    "execution": {
     "iopub.execute_input": "2022-06-29T00:40:38.857208Z",
     "iopub.status.busy": "2022-06-29T00:40:38.856475Z",
     "iopub.status.idle": "2022-06-29T00:40:38.858273Z",
     "shell.execute_reply": "2022-06-29T00:40:38.858812Z"
    },
    "papermill": {
     "duration": 0.037305,
     "end_time": "2022-06-29T00:40:38.858965",
     "exception": false,
     "start_time": "2022-06-29T00:40:38.821660",
     "status": "completed"
    },
    "tags": []
   },
   "outputs": [],
   "source": [
    "#hide\n",
    "\n",
    "# FETCH\n",
    "base_url = 'https://raw.githubusercontent.com/pratapvardhan/notebooks/master/covid19/'\n",
    "paths = {\n",
    "    'mapping': base_url + 'mapping_countries.csv',\n",
    "    'overview': base_url + 'overview.tpl'\n",
    "}"
   ]
  },
  {
   "cell_type": "code",
   "execution_count": 3,
   "id": "dynamic-saver",
   "metadata": {
    "execution": {
     "iopub.execute_input": "2022-06-29T00:40:38.928726Z",
     "iopub.status.busy": "2022-06-29T00:40:38.928139Z",
     "iopub.status.idle": "2022-06-29T00:40:38.930776Z",
     "shell.execute_reply": "2022-06-29T00:40:38.931326Z"
    },
    "papermill": {
     "duration": 0.042677,
     "end_time": "2022-06-29T00:40:38.931460",
     "exception": false,
     "start_time": "2022-06-29T00:40:38.888783",
     "status": "completed"
    },
    "tags": []
   },
   "outputs": [
    {
     "data": {
      "text/plain": [
       "'https://raw.githubusercontent.com/pratapvardhan/notebooks/master/covid19/mapping_countries.csv'"
      ]
     },
     "execution_count": 3,
     "metadata": {},
     "output_type": "execute_result"
    }
   ],
   "source": [
    "#hide\n",
    "paths['mapping']"
   ]
  },
  {
   "cell_type": "code",
   "execution_count": 4,
   "id": "urban-software",
   "metadata": {
    "execution": {
     "iopub.execute_input": "2022-06-29T00:40:38.997034Z",
     "iopub.status.busy": "2022-06-29T00:40:38.996438Z",
     "iopub.status.idle": "2022-06-29T00:40:38.998824Z",
     "shell.execute_reply": "2022-06-29T00:40:38.999248Z"
    },
    "papermill": {
     "duration": 0.037842,
     "end_time": "2022-06-29T00:40:38.999387",
     "exception": false,
     "start_time": "2022-06-29T00:40:38.961545",
     "status": "completed"
    },
    "tags": []
   },
   "outputs": [],
   "source": [
    "#hide\n",
    "def get_mappings(url):\n",
    "    df = pd.read_csv(url)\n",
    "    return {\n",
    "        'df': df,\n",
    "        'replace.country': dict(df.dropna(subset=['Name']).set_index('Country')['Name']),\n",
    "        'map.continent': dict(df.set_index('Name')['Continent'])\n",
    "    }"
   ]
  },
  {
   "cell_type": "code",
   "execution_count": 5,
   "id": "intimate-machinery",
   "metadata": {
    "execution": {
     "iopub.execute_input": "2022-06-29T00:40:39.066158Z",
     "iopub.status.busy": "2022-06-29T00:40:39.065542Z",
     "iopub.status.idle": "2022-06-29T00:40:39.098530Z",
     "shell.execute_reply": "2022-06-29T00:40:39.097997Z"
    },
    "papermill": {
     "duration": 0.069483,
     "end_time": "2022-06-29T00:40:39.098662",
     "exception": false,
     "start_time": "2022-06-29T00:40:39.029179",
     "status": "completed"
    },
    "tags": []
   },
   "outputs": [],
   "source": [
    "#hide\n",
    "mapping = get_mappings(paths['mapping'])"
   ]
  },
  {
   "cell_type": "code",
   "execution_count": 6,
   "id": "certified-tactics",
   "metadata": {
    "execution": {
     "iopub.execute_input": "2022-06-29T00:40:39.164200Z",
     "iopub.status.busy": "2022-06-29T00:40:39.163619Z",
     "iopub.status.idle": "2022-06-29T00:40:39.166001Z",
     "shell.execute_reply": "2022-06-29T00:40:39.166556Z"
    },
    "papermill": {
     "duration": 0.037932,
     "end_time": "2022-06-29T00:40:39.166690",
     "exception": false,
     "start_time": "2022-06-29T00:40:39.128758",
     "status": "completed"
    },
    "tags": []
   },
   "outputs": [],
   "source": [
    "#hide\n",
    "def get_template(path):\n",
    "    from urllib.parse import urlparse\n",
    "    if bool(urlparse(path).netloc):\n",
    "        from urllib.request import urlopen\n",
    "        return urlopen(path).read().decode('utf8')\n",
    "    return open(path).read()"
   ]
  },
  {
   "cell_type": "code",
   "execution_count": 7,
   "id": "realistic-blast",
   "metadata": {
    "execution": {
     "iopub.execute_input": "2022-06-29T00:40:39.231640Z",
     "iopub.status.busy": "2022-06-29T00:40:39.229281Z",
     "iopub.status.idle": "2022-06-29T00:40:39.233752Z",
     "shell.execute_reply": "2022-06-29T00:40:39.234319Z"
    },
    "papermill": {
     "duration": 0.038049,
     "end_time": "2022-06-29T00:40:39.234465",
     "exception": false,
     "start_time": "2022-06-29T00:40:39.196416",
     "status": "completed"
    },
    "tags": []
   },
   "outputs": [],
   "source": [
    "#hide\n",
    "def get_frame(name):\n",
    "    url = (\n",
    "        'https://raw.githubusercontent.com/CSSEGISandData/COVID-19/master/csse_covid_19_data/'\n",
    "        f'csse_covid_19_time_series/time_series_covid19_{name}_global.csv')\n",
    "    df = pd.read_csv(url)\n",
    "    # rename countries\n",
    "    df['Country/Region'] = df['Country/Region'].replace(mapping['replace.country'])\n",
    "    return df"
   ]
  },
  {
   "cell_type": "code",
   "execution_count": 8,
   "id": "affiliated-characterization",
   "metadata": {
    "execution": {
     "iopub.execute_input": "2022-06-29T00:40:39.300643Z",
     "iopub.status.busy": "2022-06-29T00:40:39.300063Z",
     "iopub.status.idle": "2022-06-29T00:40:39.302583Z",
     "shell.execute_reply": "2022-06-29T00:40:39.303062Z"
    },
    "papermill": {
     "duration": 0.038751,
     "end_time": "2022-06-29T00:40:39.303196",
     "exception": false,
     "start_time": "2022-06-29T00:40:39.264445",
     "status": "completed"
    },
    "tags": []
   },
   "outputs": [],
   "source": [
    "#hide\n",
    "def get_dates(df):\n",
    "    dt_cols = df.columns[~df.columns.isin(['Province/State', 'Country/Region', 'Lat', 'Long'])]\n",
    "    LAST_DATE_I = -1\n",
    "    # sometimes last column may be empty, then go backwards\n",
    "    for i in range(-1, -len(dt_cols), -1):\n",
    "        if not df[dt_cols[i]].fillna(0).eq(0).all():\n",
    "            LAST_DATE_I = i\n",
    "            break\n",
    "    return LAST_DATE_I, dt_cols"
   ]
  },
  {
   "cell_type": "code",
   "execution_count": 9,
   "id": "recent-optimization",
   "metadata": {
    "execution": {
     "iopub.execute_input": "2022-06-29T00:40:39.368631Z",
     "iopub.status.busy": "2022-06-29T00:40:39.368010Z",
     "iopub.status.idle": "2022-06-29T00:40:39.735151Z",
     "shell.execute_reply": "2022-06-29T00:40:39.734569Z"
    },
    "papermill": {
     "duration": 0.402473,
     "end_time": "2022-06-29T00:40:39.735298",
     "exception": false,
     "start_time": "2022-06-29T00:40:39.332825",
     "status": "completed"
    },
    "tags": []
   },
   "outputs": [],
   "source": [
    "#hide\n",
    "COL_REGION = 'Country/Region'\n",
    "# Confirmed, Recovered, Deaths\n",
    "df = get_frame('confirmed')\n",
    "# dft_: timeseries, dfc_: today country agg\n",
    "dft_cases = df\n",
    "dft_deaths = get_frame('deaths')\n",
    "dft_recovered = get_frame('recovered')\n",
    "LAST_DATE_I, dt_cols = get_dates(df)"
   ]
  },
  {
   "cell_type": "code",
   "execution_count": 10,
   "id": "absolute-copper",
   "metadata": {
    "execution": {
     "iopub.execute_input": "2022-06-29T00:40:39.828331Z",
     "iopub.status.busy": "2022-06-29T00:40:39.827614Z",
     "iopub.status.idle": "2022-06-29T00:40:39.831279Z",
     "shell.execute_reply": "2022-06-29T00:40:39.830821Z"
    },
    "papermill": {
     "duration": 0.056591,
     "end_time": "2022-06-29T00:40:39.831405",
     "exception": false,
     "start_time": "2022-06-29T00:40:39.774814",
     "status": "completed"
    },
    "tags": []
   },
   "outputs": [],
   "source": [
    "#hide\n",
    "LAST_DATE_I, dt_cols = get_dates(df)\n",
    "dt_today =dt_cols[LAST_DATE_I]\n",
    "# dt_5day = dt_cols[LAST_DATE_I - 5]\n",
    "dt_yday = dt_cols[LAST_DATE_I - 1]"
   ]
  },
  {
   "cell_type": "code",
   "execution_count": 11,
   "id": "restricted-sheriff",
   "metadata": {
    "execution": {
     "iopub.execute_input": "2022-06-29T00:40:40.085531Z",
     "iopub.status.busy": "2022-06-29T00:40:40.084843Z",
     "iopub.status.idle": "2022-06-29T00:40:40.091788Z",
     "shell.execute_reply": "2022-06-29T00:40:40.091296Z"
    },
    "papermill": {
     "duration": 0.166394,
     "end_time": "2022-06-29T00:40:40.091917",
     "exception": false,
     "start_time": "2022-06-29T00:40:39.925523",
     "status": "completed"
    },
    "tags": []
   },
   "outputs": [],
   "source": [
    "#hide\n",
    "dfc_cases = dft_cases.groupby(COL_REGION)[dt_today].sum()\n",
    "dfc_deaths = dft_deaths.groupby(COL_REGION)[dt_today].sum()\n",
    "# dfp_cases = dft_cases.groupby(COL_REGION)[dt_5day].sum()\n",
    "# dfp_deaths = dft_deaths.groupby(COL_REGION)[dt_5day].sum()\n",
    "dfp_cases = dft_cases.groupby(COL_REGION)[dt_yday].sum()\n",
    "dfp_deaths = dft_deaths.groupby(COL_REGION)[dt_yday].sum()"
   ]
  },
  {
   "cell_type": "code",
   "execution_count": 12,
   "id": "deluxe-hepatitis",
   "metadata": {
    "execution": {
     "iopub.execute_input": "2022-06-29T00:40:40.281897Z",
     "iopub.status.busy": "2022-06-29T00:40:40.281200Z",
     "iopub.status.idle": "2022-06-29T00:40:40.285528Z",
     "shell.execute_reply": "2022-06-29T00:40:40.285984Z"
    },
    "papermill": {
     "duration": 0.115516,
     "end_time": "2022-06-29T00:40:40.286132",
     "exception": false,
     "start_time": "2022-06-29T00:40:40.170616",
     "status": "completed"
    },
    "tags": []
   },
   "outputs": [],
   "source": [
    "#hide\n",
    "df_table = (pd.DataFrame(dict(Cases = dfc_cases, Deaths = dfc_deaths, PCases = dfp_cases, PDeaths = dfp_deaths))\n",
    "            .sort_values(by = ['Cases','Deaths'], ascending = [False, False])\n",
    "            .reset_index())"
   ]
  },
  {
   "cell_type": "code",
   "execution_count": 13,
   "id": "educational-chancellor",
   "metadata": {
    "execution": {
     "iopub.execute_input": "2022-06-29T00:40:40.368618Z",
     "iopub.status.busy": "2022-06-29T00:40:40.364017Z",
     "iopub.status.idle": "2022-06-29T00:40:40.372085Z",
     "shell.execute_reply": "2022-06-29T00:40:40.371605Z"
    },
    "papermill": {
     "duration": 0.056199,
     "end_time": "2022-06-29T00:40:40.372207",
     "exception": false,
     "start_time": "2022-06-29T00:40:40.316008",
     "status": "completed"
    },
    "tags": []
   },
   "outputs": [
    {
     "data": {
      "text/html": [
       "<div>\n",
       "<style scoped>\n",
       "    .dataframe tbody tr th:only-of-type {\n",
       "        vertical-align: middle;\n",
       "    }\n",
       "\n",
       "    .dataframe tbody tr th {\n",
       "        vertical-align: top;\n",
       "    }\n",
       "\n",
       "    .dataframe thead th {\n",
       "        text-align: right;\n",
       "    }\n",
       "</style>\n",
       "<table border=\"1\" class=\"dataframe\">\n",
       "  <thead>\n",
       "    <tr style=\"text-align: right;\">\n",
       "      <th></th>\n",
       "      <th>Country/Region</th>\n",
       "      <th>Cases</th>\n",
       "      <th>Deaths</th>\n",
       "      <th>PCases</th>\n",
       "      <th>PDeaths</th>\n",
       "      <th>Cases (+)</th>\n",
       "      <th>Deaths (+)</th>\n",
       "      <th>Fatality Rate</th>\n",
       "      <th>Continent</th>\n",
       "    </tr>\n",
       "  </thead>\n",
       "  <tbody>\n",
       "    <tr>\n",
       "      <th>0</th>\n",
       "      <td>US</td>\n",
       "      <td>87092233</td>\n",
       "      <td>1016208</td>\n",
       "      <td>86967399</td>\n",
       "      <td>1015938</td>\n",
       "      <td>124834</td>\n",
       "      <td>270</td>\n",
       "      <td>1.17</td>\n",
       "      <td>North America</td>\n",
       "    </tr>\n",
       "    <tr>\n",
       "      <th>1</th>\n",
       "      <td>India</td>\n",
       "      <td>43418839</td>\n",
       "      <td>525047</td>\n",
       "      <td>43407046</td>\n",
       "      <td>525020</td>\n",
       "      <td>11793</td>\n",
       "      <td>27</td>\n",
       "      <td>1.21</td>\n",
       "      <td>Asia</td>\n",
       "    </tr>\n",
       "    <tr>\n",
       "      <th>2</th>\n",
       "      <td>Brazil</td>\n",
       "      <td>32130316</td>\n",
       "      <td>670532</td>\n",
       "      <td>32023166</td>\n",
       "      <td>670229</td>\n",
       "      <td>107150</td>\n",
       "      <td>303</td>\n",
       "      <td>2.09</td>\n",
       "      <td>South America</td>\n",
       "    </tr>\n",
       "    <tr>\n",
       "      <th>3</th>\n",
       "      <td>France</td>\n",
       "      <td>30879062</td>\n",
       "      <td>150445</td>\n",
       "      <td>30714200</td>\n",
       "      <td>150356</td>\n",
       "      <td>164862</td>\n",
       "      <td>89</td>\n",
       "      <td>0.49</td>\n",
       "      <td>Europe</td>\n",
       "    </tr>\n",
       "    <tr>\n",
       "      <th>4</th>\n",
       "      <td>Germany</td>\n",
       "      <td>27914240</td>\n",
       "      <td>140847</td>\n",
       "      <td>27771911</td>\n",
       "      <td>140734</td>\n",
       "      <td>142329</td>\n",
       "      <td>113</td>\n",
       "      <td>0.50</td>\n",
       "      <td>Europe</td>\n",
       "    </tr>\n",
       "  </tbody>\n",
       "</table>\n",
       "</div>"
      ],
      "text/plain": [
       "  Country/Region     Cases   Deaths    PCases  PDeaths  Cases (+)  Deaths (+)  \\\n",
       "0             US  87092233  1016208  86967399  1015938     124834         270   \n",
       "1          India  43418839   525047  43407046   525020      11793          27   \n",
       "2         Brazil  32130316   670532  32023166   670229     107150         303   \n",
       "3         France  30879062   150445  30714200   150356     164862          89   \n",
       "4        Germany  27914240   140847  27771911   140734     142329         113   \n",
       "\n",
       "   Fatality Rate      Continent  \n",
       "0           1.17  North America  \n",
       "1           1.21           Asia  \n",
       "2           2.09  South America  \n",
       "3           0.49         Europe  \n",
       "4           0.50         Europe  "
      ]
     },
     "execution_count": 13,
     "metadata": {},
     "output_type": "execute_result"
    }
   ],
   "source": [
    "#hide\n",
    "for c in 'Cases, Deaths'.split(', '):\n",
    "    df_table[f'{c} (+)'] = (df_table[c] - df_table[f'P{c}']).clip(0)\n",
    "    #Clip ça veut dire, les chiffres negatif sont interdit\n",
    "df_table['Fatality Rate'] = (100* df_table['Deaths']/ df_table['Cases']).round(2)\n",
    "df_table['Continent'] = df_table['Country/Region'].map(mapping['map.continent'])\n",
    "df_table.head(5)"
   ]
  },
  {
   "cell_type": "code",
   "execution_count": 14,
   "id": "aboriginal-bulgaria",
   "metadata": {
    "execution": {
     "iopub.execute_input": "2022-06-29T00:40:40.439236Z",
     "iopub.status.busy": "2022-06-29T00:40:40.438543Z",
     "iopub.status.idle": "2022-06-29T00:40:40.440916Z",
     "shell.execute_reply": "2022-06-29T00:40:40.441501Z"
    },
    "papermill": {
     "duration": 0.039158,
     "end_time": "2022-06-29T00:40:40.441649",
     "exception": false,
     "start_time": "2022-06-29T00:40:40.402491",
     "status": "completed"
    },
    "tags": []
   },
   "outputs": [],
   "source": [
    "#hide\n",
    "#delete problematic countries from table\n",
    "df_table = df_table[~df_table['Country/Region'].isin(['Cape Verde', 'Cruise Ship', 'Kosovo'])]"
   ]
  },
  {
   "cell_type": "code",
   "execution_count": 15,
   "id": "fantastic-effect",
   "metadata": {
    "execution": {
     "iopub.execute_input": "2022-06-29T00:40:40.510842Z",
     "iopub.status.busy": "2022-06-29T00:40:40.510229Z",
     "iopub.status.idle": "2022-06-29T00:40:40.528432Z",
     "shell.execute_reply": "2022-06-29T00:40:40.528918Z"
    },
    "papermill": {
     "duration": 0.057066,
     "end_time": "2022-06-29T00:40:40.529070",
     "exception": false,
     "start_time": "2022-06-29T00:40:40.472004",
     "status": "completed"
    },
    "tags": []
   },
   "outputs": [
    {
     "data": {
      "text/html": [
       "<div>\n",
       "<style scoped>\n",
       "    .dataframe tbody tr th:only-of-type {\n",
       "        vertical-align: middle;\n",
       "    }\n",
       "\n",
       "    .dataframe tbody tr th {\n",
       "        vertical-align: top;\n",
       "    }\n",
       "\n",
       "    .dataframe thead th {\n",
       "        text-align: right;\n",
       "    }\n",
       "</style>\n",
       "<table border=\"1\" class=\"dataframe\">\n",
       "  <thead>\n",
       "    <tr style=\"text-align: right;\">\n",
       "      <th></th>\n",
       "      <th>Country/Region</th>\n",
       "      <th>Cases</th>\n",
       "      <th>Deaths</th>\n",
       "      <th>PCases</th>\n",
       "      <th>PDeaths</th>\n",
       "      <th>Cases (+)</th>\n",
       "      <th>Deaths (+)</th>\n",
       "      <th>Fatality Rate</th>\n",
       "      <th>Continent</th>\n",
       "    </tr>\n",
       "  </thead>\n",
       "  <tbody>\n",
       "    <tr>\n",
       "      <th>0</th>\n",
       "      <td>US</td>\n",
       "      <td>87092233</td>\n",
       "      <td>1016208</td>\n",
       "      <td>86967399</td>\n",
       "      <td>1015938</td>\n",
       "      <td>124834</td>\n",
       "      <td>270</td>\n",
       "      <td>1.2</td>\n",
       "      <td>North America</td>\n",
       "    </tr>\n",
       "    <tr>\n",
       "      <th>1</th>\n",
       "      <td>India</td>\n",
       "      <td>43418839</td>\n",
       "      <td>525047</td>\n",
       "      <td>43407046</td>\n",
       "      <td>525020</td>\n",
       "      <td>11793</td>\n",
       "      <td>27</td>\n",
       "      <td>1.2</td>\n",
       "      <td>Asia</td>\n",
       "    </tr>\n",
       "    <tr>\n",
       "      <th>2</th>\n",
       "      <td>Brazil</td>\n",
       "      <td>32130316</td>\n",
       "      <td>670532</td>\n",
       "      <td>32023166</td>\n",
       "      <td>670229</td>\n",
       "      <td>107150</td>\n",
       "      <td>303</td>\n",
       "      <td>2.1</td>\n",
       "      <td>South America</td>\n",
       "    </tr>\n",
       "    <tr>\n",
       "      <th>3</th>\n",
       "      <td>France</td>\n",
       "      <td>30879062</td>\n",
       "      <td>150445</td>\n",
       "      <td>30714200</td>\n",
       "      <td>150356</td>\n",
       "      <td>164862</td>\n",
       "      <td>89</td>\n",
       "      <td>0.5</td>\n",
       "      <td>Europe</td>\n",
       "    </tr>\n",
       "    <tr>\n",
       "      <th>4</th>\n",
       "      <td>Germany</td>\n",
       "      <td>27914240</td>\n",
       "      <td>140847</td>\n",
       "      <td>27771911</td>\n",
       "      <td>140734</td>\n",
       "      <td>142329</td>\n",
       "      <td>113</td>\n",
       "      <td>0.5</td>\n",
       "      <td>Europe</td>\n",
       "    </tr>\n",
       "  </tbody>\n",
       "</table>\n",
       "</div>"
      ],
      "text/plain": [
       "  Country/Region     Cases   Deaths    PCases  PDeaths  Cases (+)  Deaths (+)  \\\n",
       "0             US  87092233  1016208  86967399  1015938     124834         270   \n",
       "1          India  43418839   525047  43407046   525020      11793          27   \n",
       "2         Brazil  32130316   670532  32023166   670229     107150         303   \n",
       "3         France  30879062   150445  30714200   150356     164862          89   \n",
       "4        Germany  27914240   140847  27771911   140734     142329         113   \n",
       "\n",
       "   Fatality Rate      Continent  \n",
       "0            1.2  North America  \n",
       "1            1.2           Asia  \n",
       "2            2.1  South America  \n",
       "3            0.5         Europe  \n",
       "4            0.5         Europe  "
      ]
     },
     "execution_count": 15,
     "metadata": {},
     "output_type": "execute_result"
    }
   ],
   "source": [
    "#hide\n",
    "df_table = (pd.DataFrame(dict(Cases=dfc_cases, Deaths=dfc_deaths, PCases=dfp_cases, PDeaths=dfp_deaths))\n",
    "             .sort_values(by=['Cases', 'Deaths'], ascending=[False, False])\n",
    "             .reset_index())\n",
    "df_table.rename(columns={'index': 'Country/Region'}, inplace=True)\n",
    "for c in 'Cases, Deaths'.split(', '):\n",
    "    df_table[f'{c} (+)'] = (df_table[c] - df_table[f'P{c}']).clip(0)  # DATA BUG\n",
    "df_table['Fatality Rate'] = (100 * df_table['Deaths'] / df_table['Cases']).round(1)\n",
    "df_table['Continent'] = df_table['Country/Region'].map(mapping['map.continent'])\n",
    "df_table.head(5)"
   ]
  },
  {
   "cell_type": "code",
   "execution_count": 16,
   "id": "fewer-occasion",
   "metadata": {
    "execution": {
     "iopub.execute_input": "2022-06-29T00:40:40.598092Z",
     "iopub.status.busy": "2022-06-29T00:40:40.597433Z",
     "iopub.status.idle": "2022-06-29T00:40:40.599463Z",
     "shell.execute_reply": "2022-06-29T00:40:40.599947Z"
    },
    "papermill": {
     "duration": 0.040166,
     "end_time": "2022-06-29T00:40:40.600096",
     "exception": false,
     "start_time": "2022-06-29T00:40:40.559930",
     "status": "completed"
    },
    "tags": []
   },
   "outputs": [],
   "source": [
    "#hide\n",
    "#delete problematic countries from table\n",
    "df_table = df_table[~df_table['Country/Region'].isin(['Cape Verde', 'Cruise Ship', 'Kosovo'])]"
   ]
  },
  {
   "cell_type": "code",
   "execution_count": 17,
   "id": "related-center",
   "metadata": {
    "execution": {
     "iopub.execute_input": "2022-06-29T00:40:40.671263Z",
     "iopub.status.busy": "2022-06-29T00:40:40.670633Z",
     "iopub.status.idle": "2022-06-29T00:40:40.683554Z",
     "shell.execute_reply": "2022-06-29T00:40:40.683060Z"
    },
    "papermill": {
     "duration": 0.052622,
     "end_time": "2022-06-29T00:40:40.683679",
     "exception": false,
     "start_time": "2022-06-29T00:40:40.631057",
     "status": "completed"
    },
    "tags": []
   },
   "outputs": [],
   "source": [
    "#hide\n",
    "metrics = [df_table.columns[index] for index in [1,2,5,6]]\n",
    "# s_china = df_table[df_table['Country/Region'].eq('China')][metrics].sum().add_prefix('China ')\n",
    "s_us = df_table[df_table['Country/Region'].eq('US')][metrics].sum().add_prefix('US ')\n",
    "s_eu = df_table[df_table['Continent'].eq('Europe')][metrics].sum().add_prefix('EU ')\n",
    "s_ind = df_table[df_table['Country/Region'].eq('India')][metrics].sum().add_prefix('India ')\n",
    "summary = {'updated': pd.to_datetime(dt_today), 'since': pd.to_datetime(dt_yday)}\n",
    "summary = {'updated': pd.to_datetime(dt_today), 'since': pd.to_datetime(dt_yday)}\n",
    "summary = {**summary, **df_table[metrics].sum(), **s_ind, **s_us, **s_eu}"
   ]
  },
  {
   "cell_type": "code",
   "execution_count": 18,
   "id": "engaging-syndrome",
   "metadata": {
    "execution": {
     "iopub.execute_input": "2022-06-29T00:40:40.748782Z",
     "iopub.status.busy": "2022-06-29T00:40:40.748190Z",
     "iopub.status.idle": "2022-06-29T00:40:40.770986Z",
     "shell.execute_reply": "2022-06-29T00:40:40.771452Z"
    },
    "papermill": {
     "duration": 0.057153,
     "end_time": "2022-06-29T00:40:40.771600",
     "exception": false,
     "start_time": "2022-06-29T00:40:40.714447",
     "status": "completed"
    },
    "tags": []
   },
   "outputs": [],
   "source": [
    "#hide\n",
    "dft_ct_new_cases = dft_cases.groupby(COL_REGION)[dt_cols].sum().diff(axis=1).fillna(0).astype(int)"
   ]
  },
  {
   "cell_type": "code",
   "execution_count": 19,
   "id": "neutral-assignment",
   "metadata": {
    "execution": {
     "iopub.execute_input": "2022-06-29T00:40:40.838155Z",
     "iopub.status.busy": "2022-06-29T00:40:40.837435Z",
     "iopub.status.idle": "2022-06-29T00:40:40.843096Z",
     "shell.execute_reply": "2022-06-29T00:40:40.842498Z"
    },
    "papermill": {
     "duration": 0.040721,
     "end_time": "2022-06-29T00:40:40.843219",
     "exception": false,
     "start_time": "2022-06-29T00:40:40.802498",
     "status": "completed"
    },
    "tags": []
   },
   "outputs": [],
   "source": [
    "#hide\n",
    "everydaycases = dft_ct_new_cases.cumsum(axis=1)"
   ]
  },
  {
   "cell_type": "code",
   "execution_count": 20,
   "id": "parliamentary-calgary",
   "metadata": {
    "execution": {
     "iopub.execute_input": "2022-06-29T00:40:40.911744Z",
     "iopub.status.busy": "2022-06-29T00:40:40.911130Z",
     "iopub.status.idle": "2022-06-29T00:40:41.472292Z",
     "shell.execute_reply": "2022-06-29T00:40:41.472852Z"
    },
    "papermill": {
     "duration": 0.599054,
     "end_time": "2022-06-29T00:40:41.473021",
     "exception": false,
     "start_time": "2022-06-29T00:40:40.873967",
     "status": "completed"
    },
    "tags": []
   },
   "outputs": [],
   "source": [
    "#hide\n",
    "import pandas as pd\n",
    "import matplotlib.pyplot as plt\n",
    "import matplotlib.ticker as ticker\n",
    "import matplotlib.animation as animation\n",
    "from IPython.display import HTML"
   ]
  },
  {
   "cell_type": "code",
   "execution_count": 21,
   "id": "lasting-extraction",
   "metadata": {
    "execution": {
     "iopub.execute_input": "2022-06-29T00:40:41.542874Z",
     "iopub.status.busy": "2022-06-29T00:40:41.542269Z",
     "iopub.status.idle": "2022-06-29T00:40:41.549502Z",
     "shell.execute_reply": "2022-06-29T00:40:41.550067Z"
    },
    "papermill": {
     "duration": 0.04588,
     "end_time": "2022-06-29T00:40:41.550213",
     "exception": false,
     "start_time": "2022-06-29T00:40:41.504333",
     "status": "completed"
    },
    "tags": []
   },
   "outputs": [],
   "source": [
    "#hide\n",
    "t = everydaycases.stack()"
   ]
  },
  {
   "cell_type": "code",
   "execution_count": 22,
   "id": "premier-sleeve",
   "metadata": {
    "execution": {
     "iopub.execute_input": "2022-06-29T00:40:41.617090Z",
     "iopub.status.busy": "2022-06-29T00:40:41.616480Z",
     "iopub.status.idle": "2022-06-29T00:40:41.628161Z",
     "shell.execute_reply": "2022-06-29T00:40:41.628614Z"
    },
    "papermill": {
     "duration": 0.048079,
     "end_time": "2022-06-29T00:40:41.628761",
     "exception": false,
     "start_time": "2022-06-29T00:40:41.580682",
     "status": "completed"
    },
    "tags": []
   },
   "outputs": [],
   "source": [
    "#hide\n",
    "g = t.reset_index(['Country/Region'])"
   ]
  },
  {
   "cell_type": "code",
   "execution_count": 23,
   "id": "distributed-pittsburgh",
   "metadata": {
    "execution": {
     "iopub.execute_input": "2022-06-29T00:40:41.694411Z",
     "iopub.status.busy": "2022-06-29T00:40:41.693813Z",
     "iopub.status.idle": "2022-06-29T00:40:41.696180Z",
     "shell.execute_reply": "2022-06-29T00:40:41.696733Z"
    },
    "papermill": {
     "duration": 0.037464,
     "end_time": "2022-06-29T00:40:41.696868",
     "exception": false,
     "start_time": "2022-06-29T00:40:41.659404",
     "status": "completed"
    },
    "tags": []
   },
   "outputs": [],
   "source": [
    "#hide\n",
    "g.index.name = 'date'"
   ]
  },
  {
   "cell_type": "code",
   "execution_count": 24,
   "id": "naked-donor",
   "metadata": {
    "execution": {
     "iopub.execute_input": "2022-06-29T00:40:41.762777Z",
     "iopub.status.busy": "2022-06-29T00:40:41.762102Z",
     "iopub.status.idle": "2022-06-29T00:40:41.764575Z",
     "shell.execute_reply": "2022-06-29T00:40:41.764099Z"
    },
    "papermill": {
     "duration": 0.037242,
     "end_time": "2022-06-29T00:40:41.764696",
     "exception": false,
     "start_time": "2022-06-29T00:40:41.727454",
     "status": "completed"
    },
    "tags": []
   },
   "outputs": [],
   "source": [
    "# #hide\n",
    "# g = g.reset_index(['date'])"
   ]
  },
  {
   "cell_type": "code",
   "execution_count": 25,
   "id": "incomplete-mustang",
   "metadata": {
    "execution": {
     "iopub.execute_input": "2022-06-29T00:40:41.831145Z",
     "iopub.status.busy": "2022-06-29T00:40:41.830436Z",
     "iopub.status.idle": "2022-06-29T00:40:41.832280Z",
     "shell.execute_reply": "2022-06-29T00:40:41.832787Z"
    },
    "papermill": {
     "duration": 0.037213,
     "end_time": "2022-06-29T00:40:41.832938",
     "exception": false,
     "start_time": "2022-06-29T00:40:41.795725",
     "status": "completed"
    },
    "tags": []
   },
   "outputs": [],
   "source": [
    "#hide\n",
    "# g.head()"
   ]
  },
  {
   "cell_type": "code",
   "execution_count": 26,
   "id": "specific-kruger",
   "metadata": {
    "execution": {
     "iopub.execute_input": "2022-06-29T00:40:41.899411Z",
     "iopub.status.busy": "2022-06-29T00:40:41.898691Z",
     "iopub.status.idle": "2022-06-29T00:40:41.900550Z",
     "shell.execute_reply": "2022-06-29T00:40:41.901062Z"
    },
    "papermill": {
     "duration": 0.037571,
     "end_time": "2022-06-29T00:40:41.901214",
     "exception": false,
     "start_time": "2022-06-29T00:40:41.863643",
     "status": "completed"
    },
    "tags": []
   },
   "outputs": [],
   "source": [
    "#hide\n",
    "# g.columns = ['date','country','cases']"
   ]
  },
  {
   "cell_type": "code",
   "execution_count": 27,
   "id": "tender-conversion",
   "metadata": {
    "execution": {
     "iopub.execute_input": "2022-06-29T00:40:41.967684Z",
     "iopub.status.busy": "2022-06-29T00:40:41.967055Z",
     "iopub.status.idle": "2022-06-29T00:40:41.969612Z",
     "shell.execute_reply": "2022-06-29T00:40:41.969119Z"
    },
    "papermill": {
     "duration": 0.037088,
     "end_time": "2022-06-29T00:40:41.969735",
     "exception": false,
     "start_time": "2022-06-29T00:40:41.932647",
     "status": "completed"
    },
    "tags": []
   },
   "outputs": [],
   "source": [
    "#hide\n",
    "# g['continent'] = g.country"
   ]
  },
  {
   "cell_type": "code",
   "execution_count": 28,
   "id": "substantial-wilderness",
   "metadata": {
    "execution": {
     "iopub.execute_input": "2022-06-29T00:40:42.035490Z",
     "iopub.status.busy": "2022-06-29T00:40:42.034781Z",
     "iopub.status.idle": "2022-06-29T00:40:42.036647Z",
     "shell.execute_reply": "2022-06-29T00:40:42.037144Z"
    },
    "papermill": {
     "duration": 0.036935,
     "end_time": "2022-06-29T00:40:42.037285",
     "exception": false,
     "start_time": "2022-06-29T00:40:42.000350",
     "status": "completed"
    },
    "tags": []
   },
   "outputs": [],
   "source": [
    "#hide\n",
    "# cols = list(g.columns.values)"
   ]
  },
  {
   "cell_type": "code",
   "execution_count": 29,
   "id": "solved-farming",
   "metadata": {
    "execution": {
     "iopub.execute_input": "2022-06-29T00:40:42.103102Z",
     "iopub.status.busy": "2022-06-29T00:40:42.102509Z",
     "iopub.status.idle": "2022-06-29T00:40:42.105599Z",
     "shell.execute_reply": "2022-06-29T00:40:42.106165Z"
    },
    "papermill": {
     "duration": 0.038009,
     "end_time": "2022-06-29T00:40:42.106306",
     "exception": false,
     "start_time": "2022-06-29T00:40:42.068297",
     "status": "completed"
    },
    "tags": []
   },
   "outputs": [],
   "source": [
    "#hide\n",
    "# cols.insert(0, cols.pop())"
   ]
  },
  {
   "cell_type": "code",
   "execution_count": 30,
   "id": "executed-adoption",
   "metadata": {
    "execution": {
     "iopub.execute_input": "2022-06-29T00:40:42.172329Z",
     "iopub.status.busy": "2022-06-29T00:40:42.171556Z",
     "iopub.status.idle": "2022-06-29T00:40:42.173522Z",
     "shell.execute_reply": "2022-06-29T00:40:42.174054Z"
    },
    "papermill": {
     "duration": 0.037351,
     "end_time": "2022-06-29T00:40:42.174218",
     "exception": false,
     "start_time": "2022-06-29T00:40:42.136867",
     "status": "completed"
    },
    "tags": []
   },
   "outputs": [],
   "source": [
    "#hide\n",
    "# g = g[cols]"
   ]
  },
  {
   "cell_type": "code",
   "execution_count": 31,
   "id": "subject-dublin",
   "metadata": {
    "execution": {
     "iopub.execute_input": "2022-06-29T00:40:42.241259Z",
     "iopub.status.busy": "2022-06-29T00:40:42.240547Z",
     "iopub.status.idle": "2022-06-29T00:40:42.242260Z",
     "shell.execute_reply": "2022-06-29T00:40:42.242732Z"
    },
    "papermill": {
     "duration": 0.036966,
     "end_time": "2022-06-29T00:40:42.242872",
     "exception": false,
     "start_time": "2022-06-29T00:40:42.205906",
     "status": "completed"
    },
    "tags": []
   },
   "outputs": [],
   "source": [
    "#hide\n",
    "# g['continent'] = g['continent'].map(mapping['map.continent'])"
   ]
  },
  {
   "cell_type": "code",
   "execution_count": 32,
   "id": "freelance-scout",
   "metadata": {
    "execution": {
     "iopub.execute_input": "2022-06-29T00:40:42.309833Z",
     "iopub.status.busy": "2022-06-29T00:40:42.309104Z",
     "iopub.status.idle": "2022-06-29T00:40:42.312173Z",
     "shell.execute_reply": "2022-06-29T00:40:42.311601Z"
    },
    "papermill": {
     "duration": 0.037742,
     "end_time": "2022-06-29T00:40:42.312292",
     "exception": false,
     "start_time": "2022-06-29T00:40:42.274550",
     "status": "completed"
    },
    "tags": []
   },
   "outputs": [],
   "source": [
    "#hide\n",
    "# g.head()"
   ]
  },
  {
   "cell_type": "code",
   "execution_count": 33,
   "id": "limited-engine",
   "metadata": {
    "execution": {
     "iopub.execute_input": "2022-06-29T00:40:42.379565Z",
     "iopub.status.busy": "2022-06-29T00:40:42.378219Z",
     "iopub.status.idle": "2022-06-29T00:40:42.380314Z",
     "shell.execute_reply": "2022-06-29T00:40:42.380843Z"
    },
    "papermill": {
     "duration": 0.037771,
     "end_time": "2022-06-29T00:40:42.380998",
     "exception": false,
     "start_time": "2022-06-29T00:40:42.343227",
     "status": "completed"
    },
    "tags": []
   },
   "outputs": [],
   "source": [
    "# hide\n",
    "# g['date'] = g['date'].astype('datetime64[ns]')"
   ]
  },
  {
   "cell_type": "code",
   "execution_count": 34,
   "id": "sophisticated-supervisor",
   "metadata": {
    "execution": {
     "iopub.execute_input": "2022-06-29T00:40:42.447744Z",
     "iopub.status.busy": "2022-06-29T00:40:42.447119Z",
     "iopub.status.idle": "2022-06-29T00:40:42.449628Z",
     "shell.execute_reply": "2022-06-29T00:40:42.449019Z"
    },
    "papermill": {
     "duration": 0.037373,
     "end_time": "2022-06-29T00:40:42.449749",
     "exception": false,
     "start_time": "2022-06-29T00:40:42.412376",
     "status": "completed"
    },
    "tags": []
   },
   "outputs": [],
   "source": [
    "#hide\n",
    "# g['date'] = g.date.dt.dayofyear"
   ]
  },
  {
   "cell_type": "code",
   "execution_count": 35,
   "id": "inside-dubai",
   "metadata": {
    "execution": {
     "iopub.execute_input": "2022-06-29T00:40:42.515740Z",
     "iopub.status.busy": "2022-06-29T00:40:42.515024Z",
     "iopub.status.idle": "2022-06-29T00:40:42.517683Z",
     "shell.execute_reply": "2022-06-29T00:40:42.517184Z"
    },
    "papermill": {
     "duration": 0.037442,
     "end_time": "2022-06-29T00:40:42.517808",
     "exception": false,
     "start_time": "2022-06-29T00:40:42.480366",
     "status": "completed"
    },
    "tags": []
   },
   "outputs": [],
   "source": [
    "#hide\n",
    "# g = g.rename(columns= {'continent':'group','country':'name','cases':'value'})"
   ]
  },
  {
   "cell_type": "code",
   "execution_count": 36,
   "id": "fleet-motorcycle",
   "metadata": {
    "execution": {
     "iopub.execute_input": "2022-06-29T00:40:42.583775Z",
     "iopub.status.busy": "2022-06-29T00:40:42.583067Z",
     "iopub.status.idle": "2022-06-29T00:40:42.587266Z",
     "shell.execute_reply": "2022-06-29T00:40:42.587800Z"
    },
    "papermill": {
     "duration": 0.039405,
     "end_time": "2022-06-29T00:40:42.587961",
     "exception": false,
     "start_time": "2022-06-29T00:40:42.548556",
     "status": "completed"
    },
    "tags": []
   },
   "outputs": [],
   "source": [
    "#hide\n",
    "# cols = ['name','group','day','value']"
   ]
  },
  {
   "cell_type": "code",
   "execution_count": 37,
   "id": "continued-sleeping",
   "metadata": {
    "execution": {
     "iopub.execute_input": "2022-06-29T00:40:42.654491Z",
     "iopub.status.busy": "2022-06-29T00:40:42.653892Z",
     "iopub.status.idle": "2022-06-29T00:40:42.656941Z",
     "shell.execute_reply": "2022-06-29T00:40:42.656376Z"
    },
    "papermill": {
     "duration": 0.037661,
     "end_time": "2022-06-29T00:40:42.657058",
     "exception": false,
     "start_time": "2022-06-29T00:40:42.619397",
     "status": "completed"
    },
    "tags": []
   },
   "outputs": [],
   "source": [
    "#hide\n",
    "# g.rename(columns= {'date':'day'},inplace = True)"
   ]
  },
  {
   "cell_type": "code",
   "execution_count": 38,
   "id": "major-fight",
   "metadata": {
    "execution": {
     "iopub.execute_input": "2022-06-29T00:40:42.723040Z",
     "iopub.status.busy": "2022-06-29T00:40:42.722385Z",
     "iopub.status.idle": "2022-06-29T00:40:42.724965Z",
     "shell.execute_reply": "2022-06-29T00:40:42.725418Z"
    },
    "papermill": {
     "duration": 0.037795,
     "end_time": "2022-06-29T00:40:42.725566",
     "exception": false,
     "start_time": "2022-06-29T00:40:42.687771",
     "status": "completed"
    },
    "tags": []
   },
   "outputs": [],
   "source": [
    "#hide\n",
    "# g = g[cols]"
   ]
  },
  {
   "cell_type": "code",
   "execution_count": 39,
   "id": "structured-mobile",
   "metadata": {
    "execution": {
     "iopub.execute_input": "2022-06-29T00:40:42.791486Z",
     "iopub.status.busy": "2022-06-29T00:40:42.790782Z",
     "iopub.status.idle": "2022-06-29T00:40:42.792945Z",
     "shell.execute_reply": "2022-06-29T00:40:42.792366Z"
    },
    "papermill": {
     "duration": 0.036803,
     "end_time": "2022-06-29T00:40:42.793063",
     "exception": false,
     "start_time": "2022-06-29T00:40:42.756260",
     "status": "completed"
    },
    "tags": []
   },
   "outputs": [],
   "source": [
    "# #hide\n",
    "# g = g[g.group.notna()]"
   ]
  },
  {
   "cell_type": "code",
   "execution_count": 40,
   "id": "determined-closing",
   "metadata": {
    "execution": {
     "iopub.execute_input": "2022-06-29T00:40:42.858831Z",
     "iopub.status.busy": "2022-06-29T00:40:42.858186Z",
     "iopub.status.idle": "2022-06-29T00:40:42.861003Z",
     "shell.execute_reply": "2022-06-29T00:40:42.860524Z"
    },
    "papermill": {
     "duration": 0.037409,
     "end_time": "2022-06-29T00:40:42.861120",
     "exception": false,
     "start_time": "2022-06-29T00:40:42.823711",
     "status": "completed"
    },
    "tags": []
   },
   "outputs": [],
   "source": [
    "# #hide\n",
    "# colors = dict(zip(\n",
    "#     [\"Oceania\", \"Europe\", \"Asia\", \"South America\", \"Middle East\", \"North America\", \"Africa\"],\n",
    "#     [\"#adb0ff\", \"#ffb3ff\", \"#90d595\", \"#e48381\", \"#aafbff\", \"#f7bb5f\", \"#eafb50\"]\n",
    "# ))\n",
    "# group_lk = g.set_index('name')['group'].to_dict()"
   ]
  },
  {
   "cell_type": "code",
   "execution_count": null,
   "id": "gross-drinking",
   "metadata": {
    "papermill": {
     "duration": 0.031181,
     "end_time": "2022-06-29T00:40:42.923460",
     "exception": false,
     "start_time": "2022-06-29T00:40:42.892279",
     "status": "completed"
    },
    "tags": []
   },
   "outputs": [],
   "source": []
  },
  {
   "cell_type": "code",
   "execution_count": 41,
   "id": "subject-macintosh",
   "metadata": {
    "execution": {
     "iopub.execute_input": "2022-06-29T00:40:42.989486Z",
     "iopub.status.busy": "2022-06-29T00:40:42.988791Z",
     "iopub.status.idle": "2022-06-29T00:40:42.991390Z",
     "shell.execute_reply": "2022-06-29T00:40:42.990793Z"
    },
    "papermill": {
     "duration": 0.037514,
     "end_time": "2022-06-29T00:40:42.991511",
     "exception": false,
     "start_time": "2022-06-29T00:40:42.953997",
     "status": "completed"
    },
    "tags": []
   },
   "outputs": [],
   "source": [
    "# #hide\n",
    "# fig, ax = plt.subplots(figsize=(15, 8))\n",
    "\n",
    "# def draw_barchart(current_day):\n",
    "#     dff = g[g['day'].eq(current_day)].sort_values(by='value', ascending=True).tail(10)\n",
    "#     ax.clear()\n",
    "#     ax.barh(dff['name'], dff['value'], color=[colors[group_lk[x]] for x in dff['name']])\n",
    "#     dx = dff['value'].max() / 200\n",
    "    \n",
    "#     for i, (value, name) in enumerate(zip(dff['value'], dff['name'])):\n",
    "#         ax.text(value-dx, i,     name,           size=14, weight=600, ha='right', va='bottom')\n",
    "#         ax.text(value-dx, i-.25, group_lk[name], size=10, color='#444444', ha='right', va='baseline')\n",
    "#         ax.text(value+dx, i,     f'{value:,.0f}',  size=14, ha='left',  va='center')\n",
    "#     ax.text(1, 0.4, current_day, transform=ax.transAxes, color='#777777', size=46, ha='right', weight=800)\n",
    "#     ax.text(0, 1.06, 'Population (thousands)', transform=ax.transAxes, size=12, color='#777777')\n",
    "#     ax.xaxis.set_major_formatter(ticker.StrMethodFormatter('{x:,.0f}'))\n",
    "#     ax.xaxis.set_ticks_position('top')\n",
    "#     ax.tick_params(axis='x', colors='#777777', labelsize=12)\n",
    "#     ax.set_yticks([])\n",
    "#     ax.margins(0, 0.01)\n",
    "#     ax.grid(which='major', axis='x', linestyle='-')\n",
    "#     ax.set_axisbelow(True)\n",
    "    \n",
    "#     ax.text(0, 1.15, 'Coronavirus',\n",
    "#             transform=ax.transAxes, size=24, weight=600, ha='left', va='top')\n",
    "# #     ax.text(1, 0, 'by @pratapvardhan; credit @jburnmurdoch', transform=ax.transAxes, color='#777777', ha='right',\n",
    "# #             bbox=dict(facecolor='white', alpha=0.8, edgecolor='white'))\n",
    "#     plt.box(False)"
   ]
  },
  {
   "cell_type": "code",
   "execution_count": 42,
   "id": "sexual-wages",
   "metadata": {
    "execution": {
     "iopub.execute_input": "2022-06-29T00:40:43.057808Z",
     "iopub.status.busy": "2022-06-29T00:40:43.056751Z",
     "iopub.status.idle": "2022-06-29T00:40:43.059197Z",
     "shell.execute_reply": "2022-06-29T00:40:43.058623Z"
    },
    "papermill": {
     "duration": 0.037164,
     "end_time": "2022-06-29T00:40:43.059317",
     "exception": false,
     "start_time": "2022-06-29T00:40:43.022153",
     "status": "completed"
    },
    "tags": []
   },
   "outputs": [],
   "source": [
    "# #hide_input\n",
    "# fig, ax = plt.subplots(figsize=(15, 8))\n",
    "# animator = animation.FuncAnimation(fig, draw_barchart, frames=range(g.day.values.min(), g.day.values.max()))\n",
    "# HTML(animator.to_jshtml())\n",
    "# # or use animator.to_html5_video() or animator.save() "
   ]
  },
  {
   "cell_type": "code",
   "execution_count": null,
   "id": "australian-container",
   "metadata": {
    "papermill": {
     "duration": 0.030426,
     "end_time": "2022-06-29T00:40:43.120285",
     "exception": false,
     "start_time": "2022-06-29T00:40:43.089859",
     "status": "completed"
    },
    "tags": []
   },
   "outputs": [],
   "source": []
  },
  {
   "cell_type": "code",
   "execution_count": null,
   "id": "mediterranean-pontiac",
   "metadata": {
    "papermill": {
     "duration": 0.030849,
     "end_time": "2022-06-29T00:40:43.181725",
     "exception": false,
     "start_time": "2022-06-29T00:40:43.150876",
     "status": "completed"
    },
    "tags": []
   },
   "outputs": [],
   "source": []
  },
  {
   "cell_type": "code",
   "execution_count": null,
   "id": "aging-legislature",
   "metadata": {
    "papermill": {
     "duration": 0.030545,
     "end_time": "2022-06-29T00:40:43.242790",
     "exception": false,
     "start_time": "2022-06-29T00:40:43.212245",
     "status": "completed"
    },
    "tags": []
   },
   "outputs": [],
   "source": []
  }
 ],
 "metadata": {
  "kernelspec": {
   "display_name": "Python 3",
   "language": "python",
   "name": "python3"
  },
  "language_info": {
   "codemirror_mode": {
    "name": "ipython",
    "version": 3
   },
   "file_extension": ".py",
   "mimetype": "text/x-python",
   "name": "python",
   "nbconvert_exporter": "python",
   "pygments_lexer": "ipython3",
   "version": "3.6.15"
  },
  "papermill": {
   "duration": 6.40946,
   "end_time": "2022-06-29T00:40:43.693526",
   "environment_variables": {},
   "exception": null,
   "input_path": "2020-03-21-covid19exp.ipynb",
   "output_path": "2020-03-21-covid19exp.ipynb",
   "parameters": {},
   "start_time": "2022-06-29T00:40:37.284066",
   "version": "2.0.0"
  }
 },
 "nbformat": 4,
 "nbformat_minor": 5
}