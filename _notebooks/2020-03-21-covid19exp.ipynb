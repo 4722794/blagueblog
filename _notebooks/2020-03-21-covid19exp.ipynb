{
 "cells": [
  {
   "cell_type": "markdown",
   "id": "muslim-click",
   "metadata": {
    "papermill": {
     "duration": 0.041237,
     "end_time": "2021-08-04T00:19:27.776932",
     "exception": false,
     "start_time": "2021-08-04T00:19:27.735695",
     "status": "completed"
    },
    "tags": []
   },
   "source": [
    "# COVID-19 Case Race\n",
    "> A race chart to see rising cases around the world\n",
    "\n",
    "- author: Hargun Oberoi\n",
    "- image: images/covid-overview.png\n",
    "- hide: false\n",
    "- badges: false"
   ]
  },
  {
   "cell_type": "code",
   "execution_count": 1,
   "id": "proof-material",
   "metadata": {
    "execution": {
     "iopub.execute_input": "2021-08-04T00:19:27.849362Z",
     "iopub.status.busy": "2021-08-04T00:19:27.848760Z",
     "iopub.status.idle": "2021-08-04T00:19:28.195126Z",
     "shell.execute_reply": "2021-08-04T00:19:28.194292Z"
    },
    "papermill": {
     "duration": 0.387664,
     "end_time": "2021-08-04T00:19:28.195263",
     "exception": false,
     "start_time": "2021-08-04T00:19:27.807599",
     "status": "completed"
    },
    "tags": []
   },
   "outputs": [],
   "source": [
    "#hide\n",
    "import numpy as np\n",
    "import pandas as pd\n",
    "from jinja2 import Template\n",
    "from IPython.display import HTML"
   ]
  },
  {
   "cell_type": "code",
   "execution_count": 2,
   "id": "developed-terminology",
   "metadata": {
    "execution": {
     "iopub.execute_input": "2021-08-04T00:19:28.264341Z",
     "iopub.status.busy": "2021-08-04T00:19:28.263801Z",
     "iopub.status.idle": "2021-08-04T00:19:28.265898Z",
     "shell.execute_reply": "2021-08-04T00:19:28.266392Z"
    },
    "papermill": {
     "duration": 0.039922,
     "end_time": "2021-08-04T00:19:28.266528",
     "exception": false,
     "start_time": "2021-08-04T00:19:28.226606",
     "status": "completed"
    },
    "tags": []
   },
   "outputs": [],
   "source": [
    "#hide\n",
    "\n",
    "# FETCH\n",
    "base_url = 'https://raw.githubusercontent.com/pratapvardhan/notebooks/master/covid19/'\n",
    "paths = {\n",
    "    'mapping': base_url + 'mapping_countries.csv',\n",
    "    'overview': base_url + 'overview.tpl'\n",
    "}"
   ]
  },
  {
   "cell_type": "code",
   "execution_count": 3,
   "id": "dynamic-saver",
   "metadata": {
    "execution": {
     "iopub.execute_input": "2021-08-04T00:19:28.341435Z",
     "iopub.status.busy": "2021-08-04T00:19:28.337568Z",
     "iopub.status.idle": "2021-08-04T00:19:28.344544Z",
     "shell.execute_reply": "2021-08-04T00:19:28.344087Z"
    },
    "papermill": {
     "duration": 0.047569,
     "end_time": "2021-08-04T00:19:28.344674",
     "exception": false,
     "start_time": "2021-08-04T00:19:28.297105",
     "status": "completed"
    },
    "tags": []
   },
   "outputs": [
    {
     "data": {
      "text/plain": [
       "'https://raw.githubusercontent.com/pratapvardhan/notebooks/master/covid19/mapping_countries.csv'"
      ]
     },
     "execution_count": 3,
     "metadata": {},
     "output_type": "execute_result"
    }
   ],
   "source": [
    "#hide\n",
    "paths['mapping']"
   ]
  },
  {
   "cell_type": "code",
   "execution_count": 4,
   "id": "urban-software",
   "metadata": {
    "execution": {
     "iopub.execute_input": "2021-08-04T00:19:28.413106Z",
     "iopub.status.busy": "2021-08-04T00:19:28.412509Z",
     "iopub.status.idle": "2021-08-04T00:19:28.415057Z",
     "shell.execute_reply": "2021-08-04T00:19:28.415546Z"
    },
    "papermill": {
     "duration": 0.039234,
     "end_time": "2021-08-04T00:19:28.415670",
     "exception": false,
     "start_time": "2021-08-04T00:19:28.376436",
     "status": "completed"
    },
    "tags": []
   },
   "outputs": [],
   "source": [
    "#hide\n",
    "def get_mappings(url):\n",
    "    df = pd.read_csv(url)\n",
    "    return {\n",
    "        'df': df,\n",
    "        'replace.country': dict(df.dropna(subset=['Name']).set_index('Country')['Name']),\n",
    "        'map.continent': dict(df.set_index('Name')['Continent'])\n",
    "    }"
   ]
  },
  {
   "cell_type": "code",
   "execution_count": 5,
   "id": "intimate-machinery",
   "metadata": {
    "execution": {
     "iopub.execute_input": "2021-08-04T00:19:28.486197Z",
     "iopub.status.busy": "2021-08-04T00:19:28.485631Z",
     "iopub.status.idle": "2021-08-04T00:19:28.514935Z",
     "shell.execute_reply": "2021-08-04T00:19:28.515613Z"
    },
    "papermill": {
     "duration": 0.069048,
     "end_time": "2021-08-04T00:19:28.515792",
     "exception": false,
     "start_time": "2021-08-04T00:19:28.446744",
     "status": "completed"
    },
    "tags": []
   },
   "outputs": [],
   "source": [
    "#hide\n",
    "mapping = get_mappings(paths['mapping'])"
   ]
  },
  {
   "cell_type": "code",
   "execution_count": 6,
   "id": "certified-tactics",
   "metadata": {
    "execution": {
     "iopub.execute_input": "2021-08-04T00:19:28.586217Z",
     "iopub.status.busy": "2021-08-04T00:19:28.585630Z",
     "iopub.status.idle": "2021-08-04T00:19:28.587843Z",
     "shell.execute_reply": "2021-08-04T00:19:28.588431Z"
    },
    "papermill": {
     "duration": 0.040561,
     "end_time": "2021-08-04T00:19:28.588568",
     "exception": false,
     "start_time": "2021-08-04T00:19:28.548007",
     "status": "completed"
    },
    "tags": []
   },
   "outputs": [],
   "source": [
    "#hide\n",
    "def get_template(path):\n",
    "    from urllib.parse import urlparse\n",
    "    if bool(urlparse(path).netloc):\n",
    "        from urllib.request import urlopen\n",
    "        return urlopen(path).read().decode('utf8')\n",
    "    return open(path).read()"
   ]
  },
  {
   "cell_type": "code",
   "execution_count": 7,
   "id": "realistic-blast",
   "metadata": {
    "execution": {
     "iopub.execute_input": "2021-08-04T00:19:28.658217Z",
     "iopub.status.busy": "2021-08-04T00:19:28.657641Z",
     "iopub.status.idle": "2021-08-04T00:19:28.660015Z",
     "shell.execute_reply": "2021-08-04T00:19:28.660481Z"
    },
    "papermill": {
     "duration": 0.039613,
     "end_time": "2021-08-04T00:19:28.660617",
     "exception": false,
     "start_time": "2021-08-04T00:19:28.621004",
     "status": "completed"
    },
    "tags": []
   },
   "outputs": [],
   "source": [
    "#hide\n",
    "def get_frame(name):\n",
    "    url = (\n",
    "        'https://raw.githubusercontent.com/CSSEGISandData/COVID-19/master/csse_covid_19_data/'\n",
    "        f'csse_covid_19_time_series/time_series_covid19_{name}_global.csv')\n",
    "    df = pd.read_csv(url)\n",
    "    # rename countries\n",
    "    df['Country/Region'] = df['Country/Region'].replace(mapping['replace.country'])\n",
    "    return df"
   ]
  },
  {
   "cell_type": "code",
   "execution_count": 8,
   "id": "affiliated-characterization",
   "metadata": {
    "execution": {
     "iopub.execute_input": "2021-08-04T00:19:28.729328Z",
     "iopub.status.busy": "2021-08-04T00:19:28.728832Z",
     "iopub.status.idle": "2021-08-04T00:19:28.732135Z",
     "shell.execute_reply": "2021-08-04T00:19:28.731651Z"
    },
    "papermill": {
     "duration": 0.040314,
     "end_time": "2021-08-04T00:19:28.732246",
     "exception": false,
     "start_time": "2021-08-04T00:19:28.691932",
     "status": "completed"
    },
    "tags": []
   },
   "outputs": [],
   "source": [
    "#hide\n",
    "def get_dates(df):\n",
    "    dt_cols = df.columns[~df.columns.isin(['Province/State', 'Country/Region', 'Lat', 'Long'])]\n",
    "    LAST_DATE_I = -1\n",
    "    # sometimes last column may be empty, then go backwards\n",
    "    for i in range(-1, -len(dt_cols), -1):\n",
    "        if not df[dt_cols[i]].fillna(0).eq(0).all():\n",
    "            LAST_DATE_I = i\n",
    "            break\n",
    "    return LAST_DATE_I, dt_cols"
   ]
  },
  {
   "cell_type": "code",
   "execution_count": 9,
   "id": "recent-optimization",
   "metadata": {
    "execution": {
     "iopub.execute_input": "2021-08-04T00:19:28.799359Z",
     "iopub.status.busy": "2021-08-04T00:19:28.796398Z",
     "iopub.status.idle": "2021-08-04T00:19:29.098502Z",
     "shell.execute_reply": "2021-08-04T00:19:29.097621Z"
    },
    "papermill": {
     "duration": 0.335462,
     "end_time": "2021-08-04T00:19:29.098720",
     "exception": false,
     "start_time": "2021-08-04T00:19:28.763258",
     "status": "completed"
    },
    "tags": []
   },
   "outputs": [],
   "source": [
    "#hide\n",
    "COL_REGION = 'Country/Region'\n",
    "# Confirmed, Recovered, Deaths\n",
    "df = get_frame('confirmed')\n",
    "# dft_: timeseries, dfc_: today country agg\n",
    "dft_cases = df\n",
    "dft_deaths = get_frame('deaths')\n",
    "dft_recovered = get_frame('recovered')\n",
    "LAST_DATE_I, dt_cols = get_dates(df)"
   ]
  },
  {
   "cell_type": "code",
   "execution_count": 10,
   "id": "absolute-copper",
   "metadata": {
    "execution": {
     "iopub.execute_input": "2021-08-04T00:19:29.172544Z",
     "iopub.status.busy": "2021-08-04T00:19:29.171965Z",
     "iopub.status.idle": "2021-08-04T00:19:29.174843Z",
     "shell.execute_reply": "2021-08-04T00:19:29.175391Z"
    },
    "papermill": {
     "duration": 0.041835,
     "end_time": "2021-08-04T00:19:29.175528",
     "exception": false,
     "start_time": "2021-08-04T00:19:29.133693",
     "status": "completed"
    },
    "tags": []
   },
   "outputs": [],
   "source": [
    "#hide\n",
    "LAST_DATE_I, dt_cols = get_dates(df)\n",
    "dt_today =dt_cols[LAST_DATE_I]\n",
    "# dt_5day = dt_cols[LAST_DATE_I - 5]\n",
    "dt_yday = dt_cols[LAST_DATE_I - 1]"
   ]
  },
  {
   "cell_type": "code",
   "execution_count": 11,
   "id": "restricted-sheriff",
   "metadata": {
    "execution": {
     "iopub.execute_input": "2021-08-04T00:19:29.247619Z",
     "iopub.status.busy": "2021-08-04T00:19:29.247095Z",
     "iopub.status.idle": "2021-08-04T00:19:29.253024Z",
     "shell.execute_reply": "2021-08-04T00:19:29.252544Z"
    },
    "papermill": {
     "duration": 0.046872,
     "end_time": "2021-08-04T00:19:29.253146",
     "exception": false,
     "start_time": "2021-08-04T00:19:29.206274",
     "status": "completed"
    },
    "tags": []
   },
   "outputs": [],
   "source": [
    "#hide\n",
    "dfc_cases = dft_cases.groupby(COL_REGION)[dt_today].sum()\n",
    "dfc_deaths = dft_deaths.groupby(COL_REGION)[dt_today].sum()\n",
    "# dfp_cases = dft_cases.groupby(COL_REGION)[dt_5day].sum()\n",
    "# dfp_deaths = dft_deaths.groupby(COL_REGION)[dt_5day].sum()\n",
    "dfp_cases = dft_cases.groupby(COL_REGION)[dt_yday].sum()\n",
    "dfp_deaths = dft_deaths.groupby(COL_REGION)[dt_yday].sum()"
   ]
  },
  {
   "cell_type": "code",
   "execution_count": 12,
   "id": "deluxe-hepatitis",
   "metadata": {
    "execution": {
     "iopub.execute_input": "2021-08-04T00:19:29.321011Z",
     "iopub.status.busy": "2021-08-04T00:19:29.320439Z",
     "iopub.status.idle": "2021-08-04T00:19:29.324741Z",
     "shell.execute_reply": "2021-08-04T00:19:29.325199Z"
    },
    "papermill": {
     "duration": 0.04156,
     "end_time": "2021-08-04T00:19:29.325328",
     "exception": false,
     "start_time": "2021-08-04T00:19:29.283768",
     "status": "completed"
    },
    "tags": []
   },
   "outputs": [],
   "source": [
    "#hide\n",
    "df_table = (pd.DataFrame(dict(Cases = dfc_cases, Deaths = dfc_deaths, PCases = dfp_cases, PDeaths = dfp_deaths))\n",
    "            .sort_values(by = ['Cases','Deaths'], ascending = [False, False])\n",
    "            .reset_index())"
   ]
  },
  {
   "cell_type": "code",
   "execution_count": 13,
   "id": "educational-chancellor",
   "metadata": {
    "execution": {
     "iopub.execute_input": "2021-08-04T00:19:29.401862Z",
     "iopub.status.busy": "2021-08-04T00:19:29.400480Z",
     "iopub.status.idle": "2021-08-04T00:19:29.410350Z",
     "shell.execute_reply": "2021-08-04T00:19:29.409889Z"
    },
    "papermill": {
     "duration": 0.055437,
     "end_time": "2021-08-04T00:19:29.410465",
     "exception": false,
     "start_time": "2021-08-04T00:19:29.355028",
     "status": "completed"
    },
    "tags": []
   },
   "outputs": [
    {
     "data": {
      "text/html": [
       "<div>\n",
       "<style scoped>\n",
       "    .dataframe tbody tr th:only-of-type {\n",
       "        vertical-align: middle;\n",
       "    }\n",
       "\n",
       "    .dataframe tbody tr th {\n",
       "        vertical-align: top;\n",
       "    }\n",
       "\n",
       "    .dataframe thead th {\n",
       "        text-align: right;\n",
       "    }\n",
       "</style>\n",
       "<table border=\"1\" class=\"dataframe\">\n",
       "  <thead>\n",
       "    <tr style=\"text-align: right;\">\n",
       "      <th></th>\n",
       "      <th>Country/Region</th>\n",
       "      <th>Cases</th>\n",
       "      <th>Deaths</th>\n",
       "      <th>PCases</th>\n",
       "      <th>PDeaths</th>\n",
       "      <th>Cases (+)</th>\n",
       "      <th>Deaths (+)</th>\n",
       "      <th>Fatality Rate</th>\n",
       "      <th>Continent</th>\n",
       "    </tr>\n",
       "  </thead>\n",
       "  <tbody>\n",
       "    <tr>\n",
       "      <th>0</th>\n",
       "      <td>US</td>\n",
       "      <td>35131393</td>\n",
       "      <td>613679</td>\n",
       "      <td>35003417</td>\n",
       "      <td>613228</td>\n",
       "      <td>127976</td>\n",
       "      <td>451</td>\n",
       "      <td>1.75</td>\n",
       "      <td>North America</td>\n",
       "    </tr>\n",
       "    <tr>\n",
       "      <th>1</th>\n",
       "      <td>India</td>\n",
       "      <td>31726507</td>\n",
       "      <td>425195</td>\n",
       "      <td>31695958</td>\n",
       "      <td>424773</td>\n",
       "      <td>30549</td>\n",
       "      <td>422</td>\n",
       "      <td>1.34</td>\n",
       "      <td>Asia</td>\n",
       "    </tr>\n",
       "    <tr>\n",
       "      <th>2</th>\n",
       "      <td>Brazil</td>\n",
       "      <td>19953501</td>\n",
       "      <td>557223</td>\n",
       "      <td>19938358</td>\n",
       "      <td>556834</td>\n",
       "      <td>15143</td>\n",
       "      <td>389</td>\n",
       "      <td>2.79</td>\n",
       "      <td>South America</td>\n",
       "    </tr>\n",
       "    <tr>\n",
       "      <th>3</th>\n",
       "      <td>Russia</td>\n",
       "      <td>6230482</td>\n",
       "      <td>157496</td>\n",
       "      <td>6207513</td>\n",
       "      <td>156726</td>\n",
       "      <td>22969</td>\n",
       "      <td>770</td>\n",
       "      <td>2.53</td>\n",
       "      <td>Europe</td>\n",
       "    </tr>\n",
       "    <tr>\n",
       "      <th>4</th>\n",
       "      <td>France</td>\n",
       "      <td>6218526</td>\n",
       "      <td>112107</td>\n",
       "      <td>6209934</td>\n",
       "      <td>112073</td>\n",
       "      <td>8592</td>\n",
       "      <td>34</td>\n",
       "      <td>1.80</td>\n",
       "      <td>Europe</td>\n",
       "    </tr>\n",
       "  </tbody>\n",
       "</table>\n",
       "</div>"
      ],
      "text/plain": [
       "  Country/Region     Cases  Deaths    PCases  PDeaths  Cases (+)  Deaths (+)  \\\n",
       "0             US  35131393  613679  35003417   613228     127976         451   \n",
       "1          India  31726507  425195  31695958   424773      30549         422   \n",
       "2         Brazil  19953501  557223  19938358   556834      15143         389   \n",
       "3         Russia   6230482  157496   6207513   156726      22969         770   \n",
       "4         France   6218526  112107   6209934   112073       8592          34   \n",
       "\n",
       "   Fatality Rate      Continent  \n",
       "0           1.75  North America  \n",
       "1           1.34           Asia  \n",
       "2           2.79  South America  \n",
       "3           2.53         Europe  \n",
       "4           1.80         Europe  "
      ]
     },
     "execution_count": 13,
     "metadata": {},
     "output_type": "execute_result"
    }
   ],
   "source": [
    "#hide\n",
    "for c in 'Cases, Deaths'.split(', '):\n",
    "    df_table[f'{c} (+)'] = (df_table[c] - df_table[f'P{c}']).clip(0)\n",
    "    #Clip ça veut dire, les chiffres negatif sont interdit\n",
    "df_table['Fatality Rate'] = (100* df_table['Deaths']/ df_table['Cases']).round(2)\n",
    "df_table['Continent'] = df_table['Country/Region'].map(mapping['map.continent'])\n",
    "df_table.head(5)"
   ]
  },
  {
   "cell_type": "code",
   "execution_count": 14,
   "id": "aboriginal-bulgaria",
   "metadata": {
    "execution": {
     "iopub.execute_input": "2021-08-04T00:19:29.480232Z",
     "iopub.status.busy": "2021-08-04T00:19:29.479668Z",
     "iopub.status.idle": "2021-08-04T00:19:29.481540Z",
     "shell.execute_reply": "2021-08-04T00:19:29.482050Z"
    },
    "papermill": {
     "duration": 0.040424,
     "end_time": "2021-08-04T00:19:29.482172",
     "exception": false,
     "start_time": "2021-08-04T00:19:29.441748",
     "status": "completed"
    },
    "tags": []
   },
   "outputs": [],
   "source": [
    "#hide\n",
    "#delete problematic countries from table\n",
    "df_table = df_table[~df_table['Country/Region'].isin(['Cape Verde', 'Cruise Ship', 'Kosovo'])]"
   ]
  },
  {
   "cell_type": "code",
   "execution_count": 15,
   "id": "fantastic-effect",
   "metadata": {
    "execution": {
     "iopub.execute_input": "2021-08-04T00:19:29.553699Z",
     "iopub.status.busy": "2021-08-04T00:19:29.553162Z",
     "iopub.status.idle": "2021-08-04T00:19:29.570883Z",
     "shell.execute_reply": "2021-08-04T00:19:29.570488Z"
    },
    "papermill": {
     "duration": 0.057585,
     "end_time": "2021-08-04T00:19:29.570977",
     "exception": false,
     "start_time": "2021-08-04T00:19:29.513392",
     "status": "completed"
    },
    "tags": []
   },
   "outputs": [
    {
     "data": {
      "text/html": [
       "<div>\n",
       "<style scoped>\n",
       "    .dataframe tbody tr th:only-of-type {\n",
       "        vertical-align: middle;\n",
       "    }\n",
       "\n",
       "    .dataframe tbody tr th {\n",
       "        vertical-align: top;\n",
       "    }\n",
       "\n",
       "    .dataframe thead th {\n",
       "        text-align: right;\n",
       "    }\n",
       "</style>\n",
       "<table border=\"1\" class=\"dataframe\">\n",
       "  <thead>\n",
       "    <tr style=\"text-align: right;\">\n",
       "      <th></th>\n",
       "      <th>Country/Region</th>\n",
       "      <th>Cases</th>\n",
       "      <th>Deaths</th>\n",
       "      <th>PCases</th>\n",
       "      <th>PDeaths</th>\n",
       "      <th>Cases (+)</th>\n",
       "      <th>Deaths (+)</th>\n",
       "      <th>Fatality Rate</th>\n",
       "      <th>Continent</th>\n",
       "    </tr>\n",
       "  </thead>\n",
       "  <tbody>\n",
       "    <tr>\n",
       "      <th>0</th>\n",
       "      <td>US</td>\n",
       "      <td>35131393</td>\n",
       "      <td>613679</td>\n",
       "      <td>35003417</td>\n",
       "      <td>613228</td>\n",
       "      <td>127976</td>\n",
       "      <td>451</td>\n",
       "      <td>1.7</td>\n",
       "      <td>North America</td>\n",
       "    </tr>\n",
       "    <tr>\n",
       "      <th>1</th>\n",
       "      <td>India</td>\n",
       "      <td>31726507</td>\n",
       "      <td>425195</td>\n",
       "      <td>31695958</td>\n",
       "      <td>424773</td>\n",
       "      <td>30549</td>\n",
       "      <td>422</td>\n",
       "      <td>1.3</td>\n",
       "      <td>Asia</td>\n",
       "    </tr>\n",
       "    <tr>\n",
       "      <th>2</th>\n",
       "      <td>Brazil</td>\n",
       "      <td>19953501</td>\n",
       "      <td>557223</td>\n",
       "      <td>19938358</td>\n",
       "      <td>556834</td>\n",
       "      <td>15143</td>\n",
       "      <td>389</td>\n",
       "      <td>2.8</td>\n",
       "      <td>South America</td>\n",
       "    </tr>\n",
       "    <tr>\n",
       "      <th>3</th>\n",
       "      <td>Russia</td>\n",
       "      <td>6230482</td>\n",
       "      <td>157496</td>\n",
       "      <td>6207513</td>\n",
       "      <td>156726</td>\n",
       "      <td>22969</td>\n",
       "      <td>770</td>\n",
       "      <td>2.5</td>\n",
       "      <td>Europe</td>\n",
       "    </tr>\n",
       "    <tr>\n",
       "      <th>4</th>\n",
       "      <td>France</td>\n",
       "      <td>6218526</td>\n",
       "      <td>112107</td>\n",
       "      <td>6209934</td>\n",
       "      <td>112073</td>\n",
       "      <td>8592</td>\n",
       "      <td>34</td>\n",
       "      <td>1.8</td>\n",
       "      <td>Europe</td>\n",
       "    </tr>\n",
       "  </tbody>\n",
       "</table>\n",
       "</div>"
      ],
      "text/plain": [
       "  Country/Region     Cases  Deaths    PCases  PDeaths  Cases (+)  Deaths (+)  \\\n",
       "0             US  35131393  613679  35003417   613228     127976         451   \n",
       "1          India  31726507  425195  31695958   424773      30549         422   \n",
       "2         Brazil  19953501  557223  19938358   556834      15143         389   \n",
       "3         Russia   6230482  157496   6207513   156726      22969         770   \n",
       "4         France   6218526  112107   6209934   112073       8592          34   \n",
       "\n",
       "   Fatality Rate      Continent  \n",
       "0            1.7  North America  \n",
       "1            1.3           Asia  \n",
       "2            2.8  South America  \n",
       "3            2.5         Europe  \n",
       "4            1.8         Europe  "
      ]
     },
     "execution_count": 15,
     "metadata": {},
     "output_type": "execute_result"
    }
   ],
   "source": [
    "#hide\n",
    "df_table = (pd.DataFrame(dict(Cases=dfc_cases, Deaths=dfc_deaths, PCases=dfp_cases, PDeaths=dfp_deaths))\n",
    "             .sort_values(by=['Cases', 'Deaths'], ascending=[False, False])\n",
    "             .reset_index())\n",
    "df_table.rename(columns={'index': 'Country/Region'}, inplace=True)\n",
    "for c in 'Cases, Deaths'.split(', '):\n",
    "    df_table[f'{c} (+)'] = (df_table[c] - df_table[f'P{c}']).clip(0)  # DATA BUG\n",
    "df_table['Fatality Rate'] = (100 * df_table['Deaths'] / df_table['Cases']).round(1)\n",
    "df_table['Continent'] = df_table['Country/Region'].map(mapping['map.continent'])\n",
    "df_table.head(5)"
   ]
  },
  {
   "cell_type": "code",
   "execution_count": 16,
   "id": "fewer-occasion",
   "metadata": {
    "execution": {
     "iopub.execute_input": "2021-08-04T00:19:29.640877Z",
     "iopub.status.busy": "2021-08-04T00:19:29.640347Z",
     "iopub.status.idle": "2021-08-04T00:19:29.642693Z",
     "shell.execute_reply": "2021-08-04T00:19:29.642320Z"
    },
    "papermill": {
     "duration": 0.040554,
     "end_time": "2021-08-04T00:19:29.642789",
     "exception": false,
     "start_time": "2021-08-04T00:19:29.602235",
     "status": "completed"
    },
    "tags": []
   },
   "outputs": [],
   "source": [
    "#hide\n",
    "#delete problematic countries from table\n",
    "df_table = df_table[~df_table['Country/Region'].isin(['Cape Verde', 'Cruise Ship', 'Kosovo'])]"
   ]
  },
  {
   "cell_type": "code",
   "execution_count": 17,
   "id": "related-center",
   "metadata": {
    "execution": {
     "iopub.execute_input": "2021-08-04T00:19:29.712589Z",
     "iopub.status.busy": "2021-08-04T00:19:29.712060Z",
     "iopub.status.idle": "2021-08-04T00:19:29.727131Z",
     "shell.execute_reply": "2021-08-04T00:19:29.726648Z"
    },
    "papermill": {
     "duration": 0.054268,
     "end_time": "2021-08-04T00:19:29.727243",
     "exception": false,
     "start_time": "2021-08-04T00:19:29.672975",
     "status": "completed"
    },
    "tags": []
   },
   "outputs": [],
   "source": [
    "#hide\n",
    "metrics = [df_table.columns[index] for index in [1,2,5,6]]\n",
    "# s_china = df_table[df_table['Country/Region'].eq('China')][metrics].sum().add_prefix('China ')\n",
    "s_us = df_table[df_table['Country/Region'].eq('US')][metrics].sum().add_prefix('US ')\n",
    "s_eu = df_table[df_table['Continent'].eq('Europe')][metrics].sum().add_prefix('EU ')\n",
    "s_ind = df_table[df_table['Country/Region'].eq('India')][metrics].sum().add_prefix('India ')\n",
    "summary = {'updated': pd.to_datetime(dt_today), 'since': pd.to_datetime(dt_yday)}\n",
    "summary = {'updated': pd.to_datetime(dt_today), 'since': pd.to_datetime(dt_yday)}\n",
    "summary = {**summary, **df_table[metrics].sum(), **s_ind, **s_us, **s_eu}"
   ]
  },
  {
   "cell_type": "code",
   "execution_count": 18,
   "id": "engaging-syndrome",
   "metadata": {
    "execution": {
     "iopub.execute_input": "2021-08-04T00:19:29.796178Z",
     "iopub.status.busy": "2021-08-04T00:19:29.795625Z",
     "iopub.status.idle": "2021-08-04T00:19:29.809861Z",
     "shell.execute_reply": "2021-08-04T00:19:29.809402Z"
    },
    "papermill": {
     "duration": 0.049747,
     "end_time": "2021-08-04T00:19:29.809987",
     "exception": false,
     "start_time": "2021-08-04T00:19:29.760240",
     "status": "completed"
    },
    "tags": []
   },
   "outputs": [],
   "source": [
    "#hide\n",
    "dft_ct_new_cases = dft_cases.groupby(COL_REGION)[dt_cols].sum().diff(axis=1).fillna(0).astype(int)"
   ]
  },
  {
   "cell_type": "code",
   "execution_count": 19,
   "id": "neutral-assignment",
   "metadata": {
    "execution": {
     "iopub.execute_input": "2021-08-04T00:19:29.880504Z",
     "iopub.status.busy": "2021-08-04T00:19:29.879910Z",
     "iopub.status.idle": "2021-08-04T00:19:29.882817Z",
     "shell.execute_reply": "2021-08-04T00:19:29.883340Z"
    },
    "papermill": {
     "duration": 0.041949,
     "end_time": "2021-08-04T00:19:29.883485",
     "exception": false,
     "start_time": "2021-08-04T00:19:29.841536",
     "status": "completed"
    },
    "tags": []
   },
   "outputs": [],
   "source": [
    "#hide\n",
    "everydaycases = dft_ct_new_cases.cumsum(axis=1)"
   ]
  },
  {
   "cell_type": "code",
   "execution_count": 20,
   "id": "parliamentary-calgary",
   "metadata": {
    "execution": {
     "iopub.execute_input": "2021-08-04T00:19:29.953126Z",
     "iopub.status.busy": "2021-08-04T00:19:29.952546Z",
     "iopub.status.idle": "2021-08-04T00:19:30.551932Z",
     "shell.execute_reply": "2021-08-04T00:19:30.551073Z"
    },
    "papermill": {
     "duration": 0.635024,
     "end_time": "2021-08-04T00:19:30.552147",
     "exception": false,
     "start_time": "2021-08-04T00:19:29.917123",
     "status": "completed"
    },
    "tags": []
   },
   "outputs": [],
   "source": [
    "#hide\n",
    "import pandas as pd\n",
    "import matplotlib.pyplot as plt\n",
    "import matplotlib.ticker as ticker\n",
    "import matplotlib.animation as animation\n",
    "from IPython.display import HTML"
   ]
  },
  {
   "cell_type": "code",
   "execution_count": 21,
   "id": "lasting-extraction",
   "metadata": {
    "execution": {
     "iopub.execute_input": "2021-08-04T00:19:30.622279Z",
     "iopub.status.busy": "2021-08-04T00:19:30.621727Z",
     "iopub.status.idle": "2021-08-04T00:19:30.629341Z",
     "shell.execute_reply": "2021-08-04T00:19:30.628757Z"
    },
    "papermill": {
     "duration": 0.045096,
     "end_time": "2021-08-04T00:19:30.629465",
     "exception": false,
     "start_time": "2021-08-04T00:19:30.584369",
     "status": "completed"
    },
    "tags": []
   },
   "outputs": [],
   "source": [
    "#hide\n",
    "t = everydaycases.stack()"
   ]
  },
  {
   "cell_type": "code",
   "execution_count": 22,
   "id": "premier-sleeve",
   "metadata": {
    "execution": {
     "iopub.execute_input": "2021-08-04T00:19:30.698030Z",
     "iopub.status.busy": "2021-08-04T00:19:30.694801Z",
     "iopub.status.idle": "2021-08-04T00:19:30.705194Z",
     "shell.execute_reply": "2021-08-04T00:19:30.705632Z"
    },
    "papermill": {
     "duration": 0.045463,
     "end_time": "2021-08-04T00:19:30.705753",
     "exception": false,
     "start_time": "2021-08-04T00:19:30.660290",
     "status": "completed"
    },
    "tags": []
   },
   "outputs": [],
   "source": [
    "#hide\n",
    "g = t.reset_index(['Country/Region'])"
   ]
  },
  {
   "cell_type": "code",
   "execution_count": 23,
   "id": "distributed-pittsburgh",
   "metadata": {
    "execution": {
     "iopub.execute_input": "2021-08-04T00:19:30.770368Z",
     "iopub.status.busy": "2021-08-04T00:19:30.769852Z",
     "iopub.status.idle": "2021-08-04T00:19:30.772434Z",
     "shell.execute_reply": "2021-08-04T00:19:30.772876Z"
    },
    "papermill": {
     "duration": 0.037173,
     "end_time": "2021-08-04T00:19:30.773030",
     "exception": false,
     "start_time": "2021-08-04T00:19:30.735857",
     "status": "completed"
    },
    "tags": []
   },
   "outputs": [],
   "source": [
    "#hide\n",
    "g.index.name = 'date'"
   ]
  },
  {
   "cell_type": "code",
   "execution_count": 24,
   "id": "naked-donor",
   "metadata": {
    "execution": {
     "iopub.execute_input": "2021-08-04T00:19:30.843308Z",
     "iopub.status.busy": "2021-08-04T00:19:30.842776Z",
     "iopub.status.idle": "2021-08-04T00:19:30.845655Z",
     "shell.execute_reply": "2021-08-04T00:19:30.845191Z"
    },
    "papermill": {
     "duration": 0.040626,
     "end_time": "2021-08-04T00:19:30.845767",
     "exception": false,
     "start_time": "2021-08-04T00:19:30.805141",
     "status": "completed"
    },
    "tags": []
   },
   "outputs": [],
   "source": [
    "# #hide\n",
    "# g = g.reset_index(['date'])"
   ]
  },
  {
   "cell_type": "code",
   "execution_count": 25,
   "id": "incomplete-mustang",
   "metadata": {
    "execution": {
     "iopub.execute_input": "2021-08-04T00:19:30.916347Z",
     "iopub.status.busy": "2021-08-04T00:19:30.915769Z",
     "iopub.status.idle": "2021-08-04T00:19:30.918092Z",
     "shell.execute_reply": "2021-08-04T00:19:30.918635Z"
    },
    "papermill": {
     "duration": 0.040649,
     "end_time": "2021-08-04T00:19:30.918761",
     "exception": false,
     "start_time": "2021-08-04T00:19:30.878112",
     "status": "completed"
    },
    "tags": []
   },
   "outputs": [],
   "source": [
    "#hide\n",
    "# g.head()"
   ]
  },
  {
   "cell_type": "code",
   "execution_count": 26,
   "id": "specific-kruger",
   "metadata": {
    "execution": {
     "iopub.execute_input": "2021-08-04T00:19:30.987637Z",
     "iopub.status.busy": "2021-08-04T00:19:30.987071Z",
     "iopub.status.idle": "2021-08-04T00:19:30.989767Z",
     "shell.execute_reply": "2021-08-04T00:19:30.990259Z"
    },
    "papermill": {
     "duration": 0.038521,
     "end_time": "2021-08-04T00:19:30.990392",
     "exception": false,
     "start_time": "2021-08-04T00:19:30.951871",
     "status": "completed"
    },
    "tags": []
   },
   "outputs": [],
   "source": [
    "#hide\n",
    "# g.columns = ['date','country','cases']"
   ]
  },
  {
   "cell_type": "code",
   "execution_count": 27,
   "id": "tender-conversion",
   "metadata": {
    "execution": {
     "iopub.execute_input": "2021-08-04T00:19:31.061552Z",
     "iopub.status.busy": "2021-08-04T00:19:31.060967Z",
     "iopub.status.idle": "2021-08-04T00:19:31.063574Z",
     "shell.execute_reply": "2021-08-04T00:19:31.063082Z"
    },
    "papermill": {
     "duration": 0.039455,
     "end_time": "2021-08-04T00:19:31.063687",
     "exception": false,
     "start_time": "2021-08-04T00:19:31.024232",
     "status": "completed"
    },
    "tags": []
   },
   "outputs": [],
   "source": [
    "#hide\n",
    "# g['continent'] = g.country"
   ]
  },
  {
   "cell_type": "code",
   "execution_count": 28,
   "id": "substantial-wilderness",
   "metadata": {
    "execution": {
     "iopub.execute_input": "2021-08-04T00:19:31.132309Z",
     "iopub.status.busy": "2021-08-04T00:19:31.131844Z",
     "iopub.status.idle": "2021-08-04T00:19:31.133511Z",
     "shell.execute_reply": "2021-08-04T00:19:31.133911Z"
    },
    "papermill": {
     "duration": 0.037261,
     "end_time": "2021-08-04T00:19:31.134035",
     "exception": false,
     "start_time": "2021-08-04T00:19:31.096774",
     "status": "completed"
    },
    "tags": []
   },
   "outputs": [],
   "source": [
    "#hide\n",
    "# cols = list(g.columns.values)"
   ]
  },
  {
   "cell_type": "code",
   "execution_count": 29,
   "id": "solved-farming",
   "metadata": {
    "execution": {
     "iopub.execute_input": "2021-08-04T00:19:31.200804Z",
     "iopub.status.busy": "2021-08-04T00:19:31.200284Z",
     "iopub.status.idle": "2021-08-04T00:19:31.203335Z",
     "shell.execute_reply": "2021-08-04T00:19:31.202880Z"
    },
    "papermill": {
     "duration": 0.038101,
     "end_time": "2021-08-04T00:19:31.203450",
     "exception": false,
     "start_time": "2021-08-04T00:19:31.165349",
     "status": "completed"
    },
    "tags": []
   },
   "outputs": [],
   "source": [
    "#hide\n",
    "# cols.insert(0, cols.pop())"
   ]
  },
  {
   "cell_type": "code",
   "execution_count": 30,
   "id": "executed-adoption",
   "metadata": {
    "execution": {
     "iopub.execute_input": "2021-08-04T00:19:31.272744Z",
     "iopub.status.busy": "2021-08-04T00:19:31.272161Z",
     "iopub.status.idle": "2021-08-04T00:19:31.274831Z",
     "shell.execute_reply": "2021-08-04T00:19:31.275284Z"
    },
    "papermill": {
     "duration": 0.040093,
     "end_time": "2021-08-04T00:19:31.275427",
     "exception": false,
     "start_time": "2021-08-04T00:19:31.235334",
     "status": "completed"
    },
    "tags": []
   },
   "outputs": [],
   "source": [
    "#hide\n",
    "# g = g[cols]"
   ]
  },
  {
   "cell_type": "code",
   "execution_count": 31,
   "id": "subject-dublin",
   "metadata": {
    "execution": {
     "iopub.execute_input": "2021-08-04T00:19:31.345510Z",
     "iopub.status.busy": "2021-08-04T00:19:31.344895Z",
     "iopub.status.idle": "2021-08-04T00:19:31.346782Z",
     "shell.execute_reply": "2021-08-04T00:19:31.347271Z"
    },
    "papermill": {
     "duration": 0.038689,
     "end_time": "2021-08-04T00:19:31.347403",
     "exception": false,
     "start_time": "2021-08-04T00:19:31.308714",
     "status": "completed"
    },
    "tags": []
   },
   "outputs": [],
   "source": [
    "#hide\n",
    "# g['continent'] = g['continent'].map(mapping['map.continent'])"
   ]
  },
  {
   "cell_type": "code",
   "execution_count": 32,
   "id": "freelance-scout",
   "metadata": {
    "execution": {
     "iopub.execute_input": "2021-08-04T00:19:31.417108Z",
     "iopub.status.busy": "2021-08-04T00:19:31.416532Z",
     "iopub.status.idle": "2021-08-04T00:19:31.418597Z",
     "shell.execute_reply": "2021-08-04T00:19:31.419088Z"
    },
    "papermill": {
     "duration": 0.038997,
     "end_time": "2021-08-04T00:19:31.419221",
     "exception": false,
     "start_time": "2021-08-04T00:19:31.380224",
     "status": "completed"
    },
    "tags": []
   },
   "outputs": [],
   "source": [
    "#hide\n",
    "# g.head()"
   ]
  },
  {
   "cell_type": "code",
   "execution_count": 33,
   "id": "limited-engine",
   "metadata": {
    "execution": {
     "iopub.execute_input": "2021-08-04T00:19:31.487859Z",
     "iopub.status.busy": "2021-08-04T00:19:31.487330Z",
     "iopub.status.idle": "2021-08-04T00:19:31.490018Z",
     "shell.execute_reply": "2021-08-04T00:19:31.489591Z"
    },
    "papermill": {
     "duration": 0.037581,
     "end_time": "2021-08-04T00:19:31.490130",
     "exception": false,
     "start_time": "2021-08-04T00:19:31.452549",
     "status": "completed"
    },
    "tags": []
   },
   "outputs": [],
   "source": [
    "# hide\n",
    "# g['date'] = g['date'].astype('datetime64[ns]')"
   ]
  },
  {
   "cell_type": "code",
   "execution_count": 34,
   "id": "sophisticated-supervisor",
   "metadata": {
    "execution": {
     "iopub.execute_input": "2021-08-04T00:19:31.557494Z",
     "iopub.status.busy": "2021-08-04T00:19:31.556915Z",
     "iopub.status.idle": "2021-08-04T00:19:31.559491Z",
     "shell.execute_reply": "2021-08-04T00:19:31.559098Z"
    },
    "papermill": {
     "duration": 0.037915,
     "end_time": "2021-08-04T00:19:31.559586",
     "exception": false,
     "start_time": "2021-08-04T00:19:31.521671",
     "status": "completed"
    },
    "tags": []
   },
   "outputs": [],
   "source": [
    "#hide\n",
    "# g['date'] = g.date.dt.dayofyear"
   ]
  },
  {
   "cell_type": "code",
   "execution_count": 35,
   "id": "inside-dubai",
   "metadata": {
    "execution": {
     "iopub.execute_input": "2021-08-04T00:19:31.626322Z",
     "iopub.status.busy": "2021-08-04T00:19:31.625797Z",
     "iopub.status.idle": "2021-08-04T00:19:31.628204Z",
     "shell.execute_reply": "2021-08-04T00:19:31.628749Z"
    },
    "papermill": {
     "duration": 0.038524,
     "end_time": "2021-08-04T00:19:31.628878",
     "exception": false,
     "start_time": "2021-08-04T00:19:31.590354",
     "status": "completed"
    },
    "tags": []
   },
   "outputs": [],
   "source": [
    "#hide\n",
    "# g = g.rename(columns= {'continent':'group','country':'name','cases':'value'})"
   ]
  },
  {
   "cell_type": "code",
   "execution_count": 36,
   "id": "fleet-motorcycle",
   "metadata": {
    "execution": {
     "iopub.execute_input": "2021-08-04T00:19:31.697427Z",
     "iopub.status.busy": "2021-08-04T00:19:31.696849Z",
     "iopub.status.idle": "2021-08-04T00:19:31.699194Z",
     "shell.execute_reply": "2021-08-04T00:19:31.699740Z"
    },
    "papermill": {
     "duration": 0.039222,
     "end_time": "2021-08-04T00:19:31.699870",
     "exception": false,
     "start_time": "2021-08-04T00:19:31.660648",
     "status": "completed"
    },
    "tags": []
   },
   "outputs": [],
   "source": [
    "#hide\n",
    "# cols = ['name','group','day','value']"
   ]
  },
  {
   "cell_type": "code",
   "execution_count": 37,
   "id": "continued-sleeping",
   "metadata": {
    "execution": {
     "iopub.execute_input": "2021-08-04T00:19:31.771086Z",
     "iopub.status.busy": "2021-08-04T00:19:31.770510Z",
     "iopub.status.idle": "2021-08-04T00:19:31.772736Z",
     "shell.execute_reply": "2021-08-04T00:19:31.773302Z"
    },
    "papermill": {
     "duration": 0.040677,
     "end_time": "2021-08-04T00:19:31.773444",
     "exception": false,
     "start_time": "2021-08-04T00:19:31.732767",
     "status": "completed"
    },
    "tags": []
   },
   "outputs": [],
   "source": [
    "#hide\n",
    "# g.rename(columns= {'date':'day'},inplace = True)"
   ]
  },
  {
   "cell_type": "code",
   "execution_count": 38,
   "id": "major-fight",
   "metadata": {
    "execution": {
     "iopub.execute_input": "2021-08-04T00:19:31.842441Z",
     "iopub.status.busy": "2021-08-04T00:19:31.841683Z",
     "iopub.status.idle": "2021-08-04T00:19:31.844410Z",
     "shell.execute_reply": "2021-08-04T00:19:31.844924Z"
    },
    "papermill": {
     "duration": 0.040633,
     "end_time": "2021-08-04T00:19:31.845067",
     "exception": false,
     "start_time": "2021-08-04T00:19:31.804434",
     "status": "completed"
    },
    "tags": []
   },
   "outputs": [],
   "source": [
    "#hide\n",
    "# g = g[cols]"
   ]
  },
  {
   "cell_type": "code",
   "execution_count": 39,
   "id": "structured-mobile",
   "metadata": {
    "execution": {
     "iopub.execute_input": "2021-08-04T00:19:31.915651Z",
     "iopub.status.busy": "2021-08-04T00:19:31.915038Z",
     "iopub.status.idle": "2021-08-04T00:19:31.917304Z",
     "shell.execute_reply": "2021-08-04T00:19:31.916794Z"
    },
    "papermill": {
     "duration": 0.039729,
     "end_time": "2021-08-04T00:19:31.917436",
     "exception": false,
     "start_time": "2021-08-04T00:19:31.877707",
     "status": "completed"
    },
    "tags": []
   },
   "outputs": [],
   "source": [
    "# #hide\n",
    "# g = g[g.group.notna()]"
   ]
  },
  {
   "cell_type": "code",
   "execution_count": 40,
   "id": "determined-closing",
   "metadata": {
    "execution": {
     "iopub.execute_input": "2021-08-04T00:19:31.986378Z",
     "iopub.status.busy": "2021-08-04T00:19:31.985846Z",
     "iopub.status.idle": "2021-08-04T00:19:31.988183Z",
     "shell.execute_reply": "2021-08-04T00:19:31.987703Z"
    },
    "papermill": {
     "duration": 0.038278,
     "end_time": "2021-08-04T00:19:31.988290",
     "exception": false,
     "start_time": "2021-08-04T00:19:31.950012",
     "status": "completed"
    },
    "tags": []
   },
   "outputs": [],
   "source": [
    "# #hide\n",
    "# colors = dict(zip(\n",
    "#     [\"Oceania\", \"Europe\", \"Asia\", \"South America\", \"Middle East\", \"North America\", \"Africa\"],\n",
    "#     [\"#adb0ff\", \"#ffb3ff\", \"#90d595\", \"#e48381\", \"#aafbff\", \"#f7bb5f\", \"#eafb50\"]\n",
    "# ))\n",
    "# group_lk = g.set_index('name')['group'].to_dict()"
   ]
  },
  {
   "cell_type": "code",
   "execution_count": null,
   "id": "gross-drinking",
   "metadata": {
    "papermill": {
     "duration": 0.031858,
     "end_time": "2021-08-04T00:19:32.051597",
     "exception": false,
     "start_time": "2021-08-04T00:19:32.019739",
     "status": "completed"
    },
    "tags": []
   },
   "outputs": [],
   "source": []
  },
  {
   "cell_type": "code",
   "execution_count": 41,
   "id": "subject-macintosh",
   "metadata": {
    "execution": {
     "iopub.execute_input": "2021-08-04T00:19:32.128845Z",
     "iopub.status.busy": "2021-08-04T00:19:32.128251Z",
     "iopub.status.idle": "2021-08-04T00:19:32.129953Z",
     "shell.execute_reply": "2021-08-04T00:19:32.130406Z"
    },
    "papermill": {
     "duration": 0.04512,
     "end_time": "2021-08-04T00:19:32.130535",
     "exception": false,
     "start_time": "2021-08-04T00:19:32.085415",
     "status": "completed"
    },
    "tags": []
   },
   "outputs": [],
   "source": [
    "# #hide\n",
    "# fig, ax = plt.subplots(figsize=(15, 8))\n",
    "\n",
    "# def draw_barchart(current_day):\n",
    "#     dff = g[g['day'].eq(current_day)].sort_values(by='value', ascending=True).tail(10)\n",
    "#     ax.clear()\n",
    "#     ax.barh(dff['name'], dff['value'], color=[colors[group_lk[x]] for x in dff['name']])\n",
    "#     dx = dff['value'].max() / 200\n",
    "    \n",
    "#     for i, (value, name) in enumerate(zip(dff['value'], dff['name'])):\n",
    "#         ax.text(value-dx, i,     name,           size=14, weight=600, ha='right', va='bottom')\n",
    "#         ax.text(value-dx, i-.25, group_lk[name], size=10, color='#444444', ha='right', va='baseline')\n",
    "#         ax.text(value+dx, i,     f'{value:,.0f}',  size=14, ha='left',  va='center')\n",
    "#     ax.text(1, 0.4, current_day, transform=ax.transAxes, color='#777777', size=46, ha='right', weight=800)\n",
    "#     ax.text(0, 1.06, 'Population (thousands)', transform=ax.transAxes, size=12, color='#777777')\n",
    "#     ax.xaxis.set_major_formatter(ticker.StrMethodFormatter('{x:,.0f}'))\n",
    "#     ax.xaxis.set_ticks_position('top')\n",
    "#     ax.tick_params(axis='x', colors='#777777', labelsize=12)\n",
    "#     ax.set_yticks([])\n",
    "#     ax.margins(0, 0.01)\n",
    "#     ax.grid(which='major', axis='x', linestyle='-')\n",
    "#     ax.set_axisbelow(True)\n",
    "    \n",
    "#     ax.text(0, 1.15, 'Coronavirus',\n",
    "#             transform=ax.transAxes, size=24, weight=600, ha='left', va='top')\n",
    "# #     ax.text(1, 0, 'by @pratapvardhan; credit @jburnmurdoch', transform=ax.transAxes, color='#777777', ha='right',\n",
    "# #             bbox=dict(facecolor='white', alpha=0.8, edgecolor='white'))\n",
    "#     plt.box(False)"
   ]
  },
  {
   "cell_type": "code",
   "execution_count": 42,
   "id": "sexual-wages",
   "metadata": {
    "execution": {
     "iopub.execute_input": "2021-08-04T00:19:32.307103Z",
     "iopub.status.busy": "2021-08-04T00:19:32.306004Z",
     "iopub.status.idle": "2021-08-04T00:19:32.310435Z",
     "shell.execute_reply": "2021-08-04T00:19:32.311229Z"
    },
    "papermill": {
     "duration": 0.086089,
     "end_time": "2021-08-04T00:19:32.311383",
     "exception": false,
     "start_time": "2021-08-04T00:19:32.225294",
     "status": "completed"
    },
    "tags": []
   },
   "outputs": [],
   "source": [
    "# #hide_input\n",
    "# fig, ax = plt.subplots(figsize=(15, 8))\n",
    "# animator = animation.FuncAnimation(fig, draw_barchart, frames=range(g.day.values.min(), g.day.values.max()))\n",
    "# HTML(animator.to_jshtml())\n",
    "# # or use animator.to_html5_video() or animator.save() "
   ]
  },
  {
   "cell_type": "code",
   "execution_count": null,
   "id": "australian-container",
   "metadata": {
    "papermill": {
     "duration": 0.039692,
     "end_time": "2021-08-04T00:19:32.402405",
     "exception": false,
     "start_time": "2021-08-04T00:19:32.362713",
     "status": "completed"
    },
    "tags": []
   },
   "outputs": [],
   "source": []
  },
  {
   "cell_type": "code",
   "execution_count": null,
   "id": "mediterranean-pontiac",
   "metadata": {
    "papermill": {
     "duration": 0.05928,
     "end_time": "2021-08-04T00:19:32.563745",
     "exception": false,
     "start_time": "2021-08-04T00:19:32.504465",
     "status": "completed"
    },
    "tags": []
   },
   "outputs": [],
   "source": []
  },
  {
   "cell_type": "code",
   "execution_count": null,
   "id": "aging-legislature",
   "metadata": {
    "papermill": {
     "duration": 0.060778,
     "end_time": "2021-08-04T00:19:32.665393",
     "exception": false,
     "start_time": "2021-08-04T00:19:32.604615",
     "status": "completed"
    },
    "tags": []
   },
   "outputs": [],
   "source": []
  }
 ],
 "metadata": {
  "kernelspec": {
   "display_name": "Python 3",
   "language": "python",
   "name": "python3"
  },
  "language_info": {
   "codemirror_mode": {
    "name": "ipython",
    "version": 3
   },
   "file_extension": ".py",
   "mimetype": "text/x-python",
   "name": "python",
   "nbconvert_exporter": "python",
   "pygments_lexer": "ipython3",
   "version": "3.6.14"
  },
  "papermill": {
   "duration": 6.492458,
   "end_time": "2021-08-04T00:19:33.017852",
   "environment_variables": {},
   "exception": null,
   "input_path": "2020-03-21-covid19exp.ipynb",
   "output_path": "2020-03-21-covid19exp.ipynb",
   "parameters": {},
   "start_time": "2021-08-04T00:19:26.525394",
   "version": "2.0.0"
  }
 },
 "nbformat": 4,
 "nbformat_minor": 5
}