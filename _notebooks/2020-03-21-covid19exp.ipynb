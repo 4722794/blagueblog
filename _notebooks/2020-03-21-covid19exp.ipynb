{
 "cells": [
  {
   "cell_type": "markdown",
   "id": "muslim-click",
   "metadata": {
    "papermill": {
     "duration": 0.043736,
     "end_time": "2022-09-08T00:48:18.192550",
     "exception": false,
     "start_time": "2022-09-08T00:48:18.148814",
     "status": "completed"
    },
    "tags": []
   },
   "source": [
    "# COVID-19 Case Race\n",
    "> A race chart to see rising cases around the world\n",
    "\n",
    "- author: Hargun Oberoi\n",
    "- image: images/covid-overview.png\n",
    "- hide: false\n",
    "- badges: false"
   ]
  },
  {
   "cell_type": "code",
   "execution_count": 1,
   "id": "proof-material",
   "metadata": {
    "execution": {
     "iopub.execute_input": "2022-09-08T00:48:18.280199Z",
     "iopub.status.busy": "2022-09-08T00:48:18.279397Z",
     "iopub.status.idle": "2022-09-08T00:48:18.678118Z",
     "shell.execute_reply": "2022-09-08T00:48:18.678693Z"
    },
    "papermill": {
     "duration": 0.447162,
     "end_time": "2022-09-08T00:48:18.678968",
     "exception": false,
     "start_time": "2022-09-08T00:48:18.231806",
     "status": "completed"
    },
    "tags": []
   },
   "outputs": [],
   "source": [
    "#hide\n",
    "import numpy as np\n",
    "import pandas as pd\n",
    "from jinja2 import Template\n",
    "from IPython.display import HTML"
   ]
  },
  {
   "cell_type": "code",
   "execution_count": 2,
   "id": "developed-terminology",
   "metadata": {
    "execution": {
     "iopub.execute_input": "2022-09-08T00:48:18.760871Z",
     "iopub.status.busy": "2022-09-08T00:48:18.760126Z",
     "iopub.status.idle": "2022-09-08T00:48:18.763302Z",
     "shell.execute_reply": "2022-09-08T00:48:18.762701Z"
    },
    "papermill": {
     "duration": 0.045692,
     "end_time": "2022-09-08T00:48:18.763437",
     "exception": false,
     "start_time": "2022-09-08T00:48:18.717745",
     "status": "completed"
    },
    "tags": []
   },
   "outputs": [],
   "source": [
    "#hide\n",
    "\n",
    "# FETCH\n",
    "base_url = 'https://raw.githubusercontent.com/pratapvardhan/notebooks/master/covid19/'\n",
    "paths = {\n",
    "    'mapping': base_url + 'mapping_countries.csv',\n",
    "    'overview': base_url + 'overview.tpl'\n",
    "}"
   ]
  },
  {
   "cell_type": "code",
   "execution_count": 3,
   "id": "dynamic-saver",
   "metadata": {
    "execution": {
     "iopub.execute_input": "2022-09-08T00:48:18.858112Z",
     "iopub.status.busy": "2022-09-08T00:48:18.857289Z",
     "iopub.status.idle": "2022-09-08T00:48:18.861742Z",
     "shell.execute_reply": "2022-09-08T00:48:18.861022Z"
    },
    "papermill": {
     "duration": 0.053838,
     "end_time": "2022-09-08T00:48:18.861876",
     "exception": false,
     "start_time": "2022-09-08T00:48:18.808038",
     "status": "completed"
    },
    "tags": []
   },
   "outputs": [
    {
     "data": {
      "text/plain": [
       "'https://raw.githubusercontent.com/pratapvardhan/notebooks/master/covid19/mapping_countries.csv'"
      ]
     },
     "execution_count": 3,
     "metadata": {},
     "output_type": "execute_result"
    }
   ],
   "source": [
    "#hide\n",
    "paths['mapping']"
   ]
  },
  {
   "cell_type": "code",
   "execution_count": 4,
   "id": "urban-software",
   "metadata": {
    "execution": {
     "iopub.execute_input": "2022-09-08T00:48:18.944994Z",
     "iopub.status.busy": "2022-09-08T00:48:18.944256Z",
     "iopub.status.idle": "2022-09-08T00:48:18.947404Z",
     "shell.execute_reply": "2022-09-08T00:48:18.946682Z"
    },
    "papermill": {
     "duration": 0.048266,
     "end_time": "2022-09-08T00:48:18.947568",
     "exception": false,
     "start_time": "2022-09-08T00:48:18.899302",
     "status": "completed"
    },
    "tags": []
   },
   "outputs": [],
   "source": [
    "#hide\n",
    "def get_mappings(url):\n",
    "    df = pd.read_csv(url)\n",
    "    return {\n",
    "        'df': df,\n",
    "        'replace.country': dict(df.dropna(subset=['Name']).set_index('Country')['Name']),\n",
    "        'map.continent': dict(df.set_index('Name')['Continent'])\n",
    "    }"
   ]
  },
  {
   "cell_type": "code",
   "execution_count": 5,
   "id": "intimate-machinery",
   "metadata": {
    "execution": {
     "iopub.execute_input": "2022-09-08T00:48:19.030691Z",
     "iopub.status.busy": "2022-09-08T00:48:19.029954Z",
     "iopub.status.idle": "2022-09-08T00:48:19.061352Z",
     "shell.execute_reply": "2022-09-08T00:48:19.061909Z"
    },
    "papermill": {
     "duration": 0.076383,
     "end_time": "2022-09-08T00:48:19.062079",
     "exception": false,
     "start_time": "2022-09-08T00:48:18.985696",
     "status": "completed"
    },
    "tags": []
   },
   "outputs": [],
   "source": [
    "#hide\n",
    "mapping = get_mappings(paths['mapping'])"
   ]
  },
  {
   "cell_type": "code",
   "execution_count": 6,
   "id": "certified-tactics",
   "metadata": {
    "execution": {
     "iopub.execute_input": "2022-09-08T00:48:19.147304Z",
     "iopub.status.busy": "2022-09-08T00:48:19.146557Z",
     "iopub.status.idle": "2022-09-08T00:48:19.149813Z",
     "shell.execute_reply": "2022-09-08T00:48:19.148992Z"
    },
    "papermill": {
     "duration": 0.049351,
     "end_time": "2022-09-08T00:48:19.149949",
     "exception": false,
     "start_time": "2022-09-08T00:48:19.100598",
     "status": "completed"
    },
    "tags": []
   },
   "outputs": [],
   "source": [
    "#hide\n",
    "def get_template(path):\n",
    "    from urllib.parse import urlparse\n",
    "    if bool(urlparse(path).netloc):\n",
    "        from urllib.request import urlopen\n",
    "        return urlopen(path).read().decode('utf8')\n",
    "    return open(path).read()"
   ]
  },
  {
   "cell_type": "code",
   "execution_count": 7,
   "id": "realistic-blast",
   "metadata": {
    "execution": {
     "iopub.execute_input": "2022-09-08T00:48:19.234134Z",
     "iopub.status.busy": "2022-09-08T00:48:19.233399Z",
     "iopub.status.idle": "2022-09-08T00:48:19.236904Z",
     "shell.execute_reply": "2022-09-08T00:48:19.236298Z"
    },
    "papermill": {
     "duration": 0.048641,
     "end_time": "2022-09-08T00:48:19.237039",
     "exception": false,
     "start_time": "2022-09-08T00:48:19.188398",
     "status": "completed"
    },
    "tags": []
   },
   "outputs": [],
   "source": [
    "#hide\n",
    "def get_frame(name):\n",
    "    url = (\n",
    "        'https://raw.githubusercontent.com/CSSEGISandData/COVID-19/master/csse_covid_19_data/'\n",
    "        f'csse_covid_19_time_series/time_series_covid19_{name}_global.csv')\n",
    "    df = pd.read_csv(url)\n",
    "    # rename countries\n",
    "    df['Country/Region'] = df['Country/Region'].replace(mapping['replace.country'])\n",
    "    return df"
   ]
  },
  {
   "cell_type": "code",
   "execution_count": 8,
   "id": "affiliated-characterization",
   "metadata": {
    "execution": {
     "iopub.execute_input": "2022-09-08T00:48:19.322367Z",
     "iopub.status.busy": "2022-09-08T00:48:19.321620Z",
     "iopub.status.idle": "2022-09-08T00:48:19.326468Z",
     "shell.execute_reply": "2022-09-08T00:48:19.325869Z"
    },
    "papermill": {
     "duration": 0.051059,
     "end_time": "2022-09-08T00:48:19.326608",
     "exception": false,
     "start_time": "2022-09-08T00:48:19.275549",
     "status": "completed"
    },
    "tags": []
   },
   "outputs": [],
   "source": [
    "#hide\n",
    "def get_dates(df):\n",
    "    dt_cols = df.columns[~df.columns.isin(['Province/State', 'Country/Region', 'Lat', 'Long'])]\n",
    "    LAST_DATE_I = -1\n",
    "    # sometimes last column may be empty, then go backwards\n",
    "    for i in range(-1, -len(dt_cols), -1):\n",
    "        if not df[dt_cols[i]].fillna(0).eq(0).all():\n",
    "            LAST_DATE_I = i\n",
    "            break\n",
    "    return LAST_DATE_I, dt_cols"
   ]
  },
  {
   "cell_type": "code",
   "execution_count": 9,
   "id": "recent-optimization",
   "metadata": {
    "execution": {
     "iopub.execute_input": "2022-09-08T00:48:19.412851Z",
     "iopub.status.busy": "2022-09-08T00:48:19.412109Z",
     "iopub.status.idle": "2022-09-08T00:48:19.940898Z",
     "shell.execute_reply": "2022-09-08T00:48:19.941500Z"
    },
    "papermill": {
     "duration": 0.575993,
     "end_time": "2022-09-08T00:48:19.941674",
     "exception": false,
     "start_time": "2022-09-08T00:48:19.365681",
     "status": "completed"
    },
    "tags": []
   },
   "outputs": [],
   "source": [
    "#hide\n",
    "COL_REGION = 'Country/Region'\n",
    "# Confirmed, Recovered, Deaths\n",
    "df = get_frame('confirmed')\n",
    "# dft_: timeseries, dfc_: today country agg\n",
    "dft_cases = df\n",
    "dft_deaths = get_frame('deaths')\n",
    "dft_recovered = get_frame('recovered')\n",
    "LAST_DATE_I, dt_cols = get_dates(df)"
   ]
  },
  {
   "cell_type": "code",
   "execution_count": 10,
   "id": "absolute-copper",
   "metadata": {
    "execution": {
     "iopub.execute_input": "2022-09-08T00:48:20.024145Z",
     "iopub.status.busy": "2022-09-08T00:48:20.023382Z",
     "iopub.status.idle": "2022-09-08T00:48:20.026648Z",
     "shell.execute_reply": "2022-09-08T00:48:20.026084Z"
    },
    "papermill": {
     "duration": 0.046385,
     "end_time": "2022-09-08T00:48:20.026781",
     "exception": false,
     "start_time": "2022-09-08T00:48:19.980396",
     "status": "completed"
    },
    "tags": []
   },
   "outputs": [],
   "source": [
    "#hide\n",
    "LAST_DATE_I, dt_cols = get_dates(df)\n",
    "dt_today =dt_cols[LAST_DATE_I]\n",
    "# dt_5day = dt_cols[LAST_DATE_I - 5]\n",
    "dt_yday = dt_cols[LAST_DATE_I - 1]"
   ]
  },
  {
   "cell_type": "code",
   "execution_count": 11,
   "id": "restricted-sheriff",
   "metadata": {
    "execution": {
     "iopub.execute_input": "2022-09-08T00:48:20.112558Z",
     "iopub.status.busy": "2022-09-08T00:48:20.111831Z",
     "iopub.status.idle": "2022-09-08T00:48:20.121276Z",
     "shell.execute_reply": "2022-09-08T00:48:20.120570Z"
    },
    "papermill": {
     "duration": 0.054062,
     "end_time": "2022-09-08T00:48:20.121411",
     "exception": false,
     "start_time": "2022-09-08T00:48:20.067349",
     "status": "completed"
    },
    "tags": []
   },
   "outputs": [],
   "source": [
    "#hide\n",
    "dfc_cases = dft_cases.groupby(COL_REGION)[dt_today].sum()\n",
    "dfc_deaths = dft_deaths.groupby(COL_REGION)[dt_today].sum()\n",
    "# dfp_cases = dft_cases.groupby(COL_REGION)[dt_5day].sum()\n",
    "# dfp_deaths = dft_deaths.groupby(COL_REGION)[dt_5day].sum()\n",
    "dfp_cases = dft_cases.groupby(COL_REGION)[dt_yday].sum()\n",
    "dfp_deaths = dft_deaths.groupby(COL_REGION)[dt_yday].sum()"
   ]
  },
  {
   "cell_type": "code",
   "execution_count": 12,
   "id": "deluxe-hepatitis",
   "metadata": {
    "execution": {
     "iopub.execute_input": "2022-09-08T00:48:20.205994Z",
     "iopub.status.busy": "2022-09-08T00:48:20.205272Z",
     "iopub.status.idle": "2022-09-08T00:48:20.211208Z",
     "shell.execute_reply": "2022-09-08T00:48:20.210617Z"
    },
    "papermill": {
     "duration": 0.051098,
     "end_time": "2022-09-08T00:48:20.211338",
     "exception": false,
     "start_time": "2022-09-08T00:48:20.160240",
     "status": "completed"
    },
    "tags": []
   },
   "outputs": [],
   "source": [
    "#hide\n",
    "df_table = (pd.DataFrame(dict(Cases = dfc_cases, Deaths = dfc_deaths, PCases = dfp_cases, PDeaths = dfp_deaths))\n",
    "            .sort_values(by = ['Cases','Deaths'], ascending = [False, False])\n",
    "            .reset_index())"
   ]
  },
  {
   "cell_type": "code",
   "execution_count": 13,
   "id": "educational-chancellor",
   "metadata": {
    "execution": {
     "iopub.execute_input": "2022-09-08T00:48:20.308693Z",
     "iopub.status.busy": "2022-09-08T00:48:20.307953Z",
     "iopub.status.idle": "2022-09-08T00:48:20.318112Z",
     "shell.execute_reply": "2022-09-08T00:48:20.316745Z"
    },
    "papermill": {
     "duration": 0.06989,
     "end_time": "2022-09-08T00:48:20.318247",
     "exception": false,
     "start_time": "2022-09-08T00:48:20.248357",
     "status": "completed"
    },
    "tags": []
   },
   "outputs": [
    {
     "data": {
      "text/html": [
       "<div>\n",
       "<style scoped>\n",
       "    .dataframe tbody tr th:only-of-type {\n",
       "        vertical-align: middle;\n",
       "    }\n",
       "\n",
       "    .dataframe tbody tr th {\n",
       "        vertical-align: top;\n",
       "    }\n",
       "\n",
       "    .dataframe thead th {\n",
       "        text-align: right;\n",
       "    }\n",
       "</style>\n",
       "<table border=\"1\" class=\"dataframe\">\n",
       "  <thead>\n",
       "    <tr style=\"text-align: right;\">\n",
       "      <th></th>\n",
       "      <th>Country/Region</th>\n",
       "      <th>Cases</th>\n",
       "      <th>Deaths</th>\n",
       "      <th>PCases</th>\n",
       "      <th>PDeaths</th>\n",
       "      <th>Cases (+)</th>\n",
       "      <th>Deaths (+)</th>\n",
       "      <th>Fatality Rate</th>\n",
       "      <th>Continent</th>\n",
       "    </tr>\n",
       "  </thead>\n",
       "  <tbody>\n",
       "    <tr>\n",
       "      <th>0</th>\n",
       "      <td>US</td>\n",
       "      <td>94898863</td>\n",
       "      <td>1048201</td>\n",
       "      <td>94769820</td>\n",
       "      <td>1047576</td>\n",
       "      <td>129043</td>\n",
       "      <td>625</td>\n",
       "      <td>1.10</td>\n",
       "      <td>North America</td>\n",
       "    </tr>\n",
       "    <tr>\n",
       "      <th>1</th>\n",
       "      <td>India</td>\n",
       "      <td>44469661</td>\n",
       "      <td>528057</td>\n",
       "      <td>44466862</td>\n",
       "      <td>528030</td>\n",
       "      <td>2799</td>\n",
       "      <td>27</td>\n",
       "      <td>1.19</td>\n",
       "      <td>Asia</td>\n",
       "    </tr>\n",
       "    <tr>\n",
       "      <th>2</th>\n",
       "      <td>France</td>\n",
       "      <td>34839791</td>\n",
       "      <td>155373</td>\n",
       "      <td>34812853</td>\n",
       "      <td>155313</td>\n",
       "      <td>26938</td>\n",
       "      <td>60</td>\n",
       "      <td>0.45</td>\n",
       "      <td>Europe</td>\n",
       "    </tr>\n",
       "    <tr>\n",
       "      <th>3</th>\n",
       "      <td>Brazil</td>\n",
       "      <td>34477539</td>\n",
       "      <td>684425</td>\n",
       "      <td>34477539</td>\n",
       "      <td>684425</td>\n",
       "      <td>0</td>\n",
       "      <td>0</td>\n",
       "      <td>1.99</td>\n",
       "      <td>South America</td>\n",
       "    </tr>\n",
       "    <tr>\n",
       "      <th>4</th>\n",
       "      <td>Germany</td>\n",
       "      <td>32344032</td>\n",
       "      <td>147981</td>\n",
       "      <td>32297537</td>\n",
       "      <td>147861</td>\n",
       "      <td>46495</td>\n",
       "      <td>120</td>\n",
       "      <td>0.46</td>\n",
       "      <td>Europe</td>\n",
       "    </tr>\n",
       "  </tbody>\n",
       "</table>\n",
       "</div>"
      ],
      "text/plain": [
       "  Country/Region     Cases   Deaths    PCases  PDeaths  Cases (+)  Deaths (+)  \\\n",
       "0             US  94898863  1048201  94769820  1047576     129043         625   \n",
       "1          India  44469661   528057  44466862   528030       2799          27   \n",
       "2         France  34839791   155373  34812853   155313      26938          60   \n",
       "3         Brazil  34477539   684425  34477539   684425          0           0   \n",
       "4        Germany  32344032   147981  32297537   147861      46495         120   \n",
       "\n",
       "   Fatality Rate      Continent  \n",
       "0           1.10  North America  \n",
       "1           1.19           Asia  \n",
       "2           0.45         Europe  \n",
       "3           1.99  South America  \n",
       "4           0.46         Europe  "
      ]
     },
     "execution_count": 13,
     "metadata": {},
     "output_type": "execute_result"
    }
   ],
   "source": [
    "#hide\n",
    "for c in 'Cases, Deaths'.split(', '):\n",
    "    df_table[f'{c} (+)'] = (df_table[c] - df_table[f'P{c}']).clip(0)\n",
    "    #Clip ça veut dire, les chiffres negatif sont interdit\n",
    "df_table['Fatality Rate'] = (100* df_table['Deaths']/ df_table['Cases']).round(2)\n",
    "df_table['Continent'] = df_table['Country/Region'].map(mapping['map.continent'])\n",
    "df_table.head(5)"
   ]
  },
  {
   "cell_type": "code",
   "execution_count": 14,
   "id": "aboriginal-bulgaria",
   "metadata": {
    "execution": {
     "iopub.execute_input": "2022-09-08T00:48:20.401220Z",
     "iopub.status.busy": "2022-09-08T00:48:20.400487Z",
     "iopub.status.idle": "2022-09-08T00:48:20.403951Z",
     "shell.execute_reply": "2022-09-08T00:48:20.403316Z"
    },
    "papermill": {
     "duration": 0.046844,
     "end_time": "2022-09-08T00:48:20.404085",
     "exception": false,
     "start_time": "2022-09-08T00:48:20.357241",
     "status": "completed"
    },
    "tags": []
   },
   "outputs": [],
   "source": [
    "#hide\n",
    "#delete problematic countries from table\n",
    "df_table = df_table[~df_table['Country/Region'].isin(['Cape Verde', 'Cruise Ship', 'Kosovo'])]"
   ]
  },
  {
   "cell_type": "code",
   "execution_count": 15,
   "id": "fantastic-effect",
   "metadata": {
    "execution": {
     "iopub.execute_input": "2022-09-08T00:48:20.490193Z",
     "iopub.status.busy": "2022-09-08T00:48:20.489459Z",
     "iopub.status.idle": "2022-09-08T00:48:20.511163Z",
     "shell.execute_reply": "2022-09-08T00:48:20.510564Z"
    },
    "papermill": {
     "duration": 0.067778,
     "end_time": "2022-09-08T00:48:20.511296",
     "exception": false,
     "start_time": "2022-09-08T00:48:20.443518",
     "status": "completed"
    },
    "tags": []
   },
   "outputs": [
    {
     "data": {
      "text/html": [
       "<div>\n",
       "<style scoped>\n",
       "    .dataframe tbody tr th:only-of-type {\n",
       "        vertical-align: middle;\n",
       "    }\n",
       "\n",
       "    .dataframe tbody tr th {\n",
       "        vertical-align: top;\n",
       "    }\n",
       "\n",
       "    .dataframe thead th {\n",
       "        text-align: right;\n",
       "    }\n",
       "</style>\n",
       "<table border=\"1\" class=\"dataframe\">\n",
       "  <thead>\n",
       "    <tr style=\"text-align: right;\">\n",
       "      <th></th>\n",
       "      <th>Country/Region</th>\n",
       "      <th>Cases</th>\n",
       "      <th>Deaths</th>\n",
       "      <th>PCases</th>\n",
       "      <th>PDeaths</th>\n",
       "      <th>Cases (+)</th>\n",
       "      <th>Deaths (+)</th>\n",
       "      <th>Fatality Rate</th>\n",
       "      <th>Continent</th>\n",
       "    </tr>\n",
       "  </thead>\n",
       "  <tbody>\n",
       "    <tr>\n",
       "      <th>0</th>\n",
       "      <td>US</td>\n",
       "      <td>94898863</td>\n",
       "      <td>1048201</td>\n",
       "      <td>94769820</td>\n",
       "      <td>1047576</td>\n",
       "      <td>129043</td>\n",
       "      <td>625</td>\n",
       "      <td>1.1</td>\n",
       "      <td>North America</td>\n",
       "    </tr>\n",
       "    <tr>\n",
       "      <th>1</th>\n",
       "      <td>India</td>\n",
       "      <td>44469661</td>\n",
       "      <td>528057</td>\n",
       "      <td>44466862</td>\n",
       "      <td>528030</td>\n",
       "      <td>2799</td>\n",
       "      <td>27</td>\n",
       "      <td>1.2</td>\n",
       "      <td>Asia</td>\n",
       "    </tr>\n",
       "    <tr>\n",
       "      <th>2</th>\n",
       "      <td>France</td>\n",
       "      <td>34839791</td>\n",
       "      <td>155373</td>\n",
       "      <td>34812853</td>\n",
       "      <td>155313</td>\n",
       "      <td>26938</td>\n",
       "      <td>60</td>\n",
       "      <td>0.4</td>\n",
       "      <td>Europe</td>\n",
       "    </tr>\n",
       "    <tr>\n",
       "      <th>3</th>\n",
       "      <td>Brazil</td>\n",
       "      <td>34477539</td>\n",
       "      <td>684425</td>\n",
       "      <td>34477539</td>\n",
       "      <td>684425</td>\n",
       "      <td>0</td>\n",
       "      <td>0</td>\n",
       "      <td>2.0</td>\n",
       "      <td>South America</td>\n",
       "    </tr>\n",
       "    <tr>\n",
       "      <th>4</th>\n",
       "      <td>Germany</td>\n",
       "      <td>32344032</td>\n",
       "      <td>147981</td>\n",
       "      <td>32297537</td>\n",
       "      <td>147861</td>\n",
       "      <td>46495</td>\n",
       "      <td>120</td>\n",
       "      <td>0.5</td>\n",
       "      <td>Europe</td>\n",
       "    </tr>\n",
       "  </tbody>\n",
       "</table>\n",
       "</div>"
      ],
      "text/plain": [
       "  Country/Region     Cases   Deaths    PCases  PDeaths  Cases (+)  Deaths (+)  \\\n",
       "0             US  94898863  1048201  94769820  1047576     129043         625   \n",
       "1          India  44469661   528057  44466862   528030       2799          27   \n",
       "2         France  34839791   155373  34812853   155313      26938          60   \n",
       "3         Brazil  34477539   684425  34477539   684425          0           0   \n",
       "4        Germany  32344032   147981  32297537   147861      46495         120   \n",
       "\n",
       "   Fatality Rate      Continent  \n",
       "0            1.1  North America  \n",
       "1            1.2           Asia  \n",
       "2            0.4         Europe  \n",
       "3            2.0  South America  \n",
       "4            0.5         Europe  "
      ]
     },
     "execution_count": 15,
     "metadata": {},
     "output_type": "execute_result"
    }
   ],
   "source": [
    "#hide\n",
    "df_table = (pd.DataFrame(dict(Cases=dfc_cases, Deaths=dfc_deaths, PCases=dfp_cases, PDeaths=dfp_deaths))\n",
    "             .sort_values(by=['Cases', 'Deaths'], ascending=[False, False])\n",
    "             .reset_index())\n",
    "df_table.rename(columns={'index': 'Country/Region'}, inplace=True)\n",
    "for c in 'Cases, Deaths'.split(', '):\n",
    "    df_table[f'{c} (+)'] = (df_table[c] - df_table[f'P{c}']).clip(0)  # DATA BUG\n",
    "df_table['Fatality Rate'] = (100 * df_table['Deaths'] / df_table['Cases']).round(1)\n",
    "df_table['Continent'] = df_table['Country/Region'].map(mapping['map.continent'])\n",
    "df_table.head(5)"
   ]
  },
  {
   "cell_type": "code",
   "execution_count": 16,
   "id": "fewer-occasion",
   "metadata": {
    "execution": {
     "iopub.execute_input": "2022-09-08T00:48:20.596601Z",
     "iopub.status.busy": "2022-09-08T00:48:20.595854Z",
     "iopub.status.idle": "2022-09-08T00:48:20.599210Z",
     "shell.execute_reply": "2022-09-08T00:48:20.598601Z"
    },
    "papermill": {
     "duration": 0.048345,
     "end_time": "2022-09-08T00:48:20.599346",
     "exception": false,
     "start_time": "2022-09-08T00:48:20.551001",
     "status": "completed"
    },
    "tags": []
   },
   "outputs": [],
   "source": [
    "#hide\n",
    "#delete problematic countries from table\n",
    "df_table = df_table[~df_table['Country/Region'].isin(['Cape Verde', 'Cruise Ship', 'Kosovo'])]"
   ]
  },
  {
   "cell_type": "code",
   "execution_count": 17,
   "id": "related-center",
   "metadata": {
    "execution": {
     "iopub.execute_input": "2022-09-08T00:48:20.700147Z",
     "iopub.status.busy": "2022-09-08T00:48:20.699323Z",
     "iopub.status.idle": "2022-09-08T00:48:20.702889Z",
     "shell.execute_reply": "2022-09-08T00:48:20.702284Z"
    },
    "papermill": {
     "duration": 0.065113,
     "end_time": "2022-09-08T00:48:20.703023",
     "exception": false,
     "start_time": "2022-09-08T00:48:20.637910",
     "status": "completed"
    },
    "tags": []
   },
   "outputs": [],
   "source": [
    "#hide\n",
    "metrics = [df_table.columns[index] for index in [1,2,5,6]]\n",
    "# s_china = df_table[df_table['Country/Region'].eq('China')][metrics].sum().add_prefix('China ')\n",
    "s_us = df_table[df_table['Country/Region'].eq('US')][metrics].sum().add_prefix('US ')\n",
    "s_eu = df_table[df_table['Continent'].eq('Europe')][metrics].sum().add_prefix('EU ')\n",
    "s_ind = df_table[df_table['Country/Region'].eq('India')][metrics].sum().add_prefix('India ')\n",
    "summary = {'updated': pd.to_datetime(dt_today), 'since': pd.to_datetime(dt_yday)}\n",
    "summary = {'updated': pd.to_datetime(dt_today), 'since': pd.to_datetime(dt_yday)}\n",
    "summary = {**summary, **df_table[metrics].sum(), **s_ind, **s_us, **s_eu}"
   ]
  },
  {
   "cell_type": "code",
   "execution_count": 18,
   "id": "engaging-syndrome",
   "metadata": {
    "execution": {
     "iopub.execute_input": "2022-09-08T00:48:20.786903Z",
     "iopub.status.busy": "2022-09-08T00:48:20.786160Z",
     "iopub.status.idle": "2022-09-08T00:48:20.807613Z",
     "shell.execute_reply": "2022-09-08T00:48:20.806958Z"
    },
    "papermill": {
     "duration": 0.066241,
     "end_time": "2022-09-08T00:48:20.807759",
     "exception": false,
     "start_time": "2022-09-08T00:48:20.741518",
     "status": "completed"
    },
    "tags": []
   },
   "outputs": [],
   "source": [
    "#hide\n",
    "dft_ct_new_cases = dft_cases.groupby(COL_REGION)[dt_cols].sum().diff(axis=1).fillna(0).astype(int)"
   ]
  },
  {
   "cell_type": "code",
   "execution_count": 19,
   "id": "neutral-assignment",
   "metadata": {
    "execution": {
     "iopub.execute_input": "2022-09-08T00:48:20.895664Z",
     "iopub.status.busy": "2022-09-08T00:48:20.894880Z",
     "iopub.status.idle": "2022-09-08T00:48:20.897655Z",
     "shell.execute_reply": "2022-09-08T00:48:20.898206Z"
    },
    "papermill": {
     "duration": 0.051734,
     "end_time": "2022-09-08T00:48:20.898369",
     "exception": false,
     "start_time": "2022-09-08T00:48:20.846635",
     "status": "completed"
    },
    "tags": []
   },
   "outputs": [],
   "source": [
    "#hide\n",
    "everydaycases = dft_ct_new_cases.cumsum(axis=1)"
   ]
  },
  {
   "cell_type": "code",
   "execution_count": 20,
   "id": "parliamentary-calgary",
   "metadata": {
    "execution": {
     "iopub.execute_input": "2022-09-08T00:48:20.984256Z",
     "iopub.status.busy": "2022-09-08T00:48:20.983517Z",
     "iopub.status.idle": "2022-09-08T00:48:21.669089Z",
     "shell.execute_reply": "2022-09-08T00:48:21.668007Z"
    },
    "papermill": {
     "duration": 0.731328,
     "end_time": "2022-09-08T00:48:21.669241",
     "exception": false,
     "start_time": "2022-09-08T00:48:20.937913",
     "status": "completed"
    },
    "tags": []
   },
   "outputs": [],
   "source": [
    "#hide\n",
    "import pandas as pd\n",
    "import matplotlib.pyplot as plt\n",
    "import matplotlib.ticker as ticker\n",
    "import matplotlib.animation as animation\n",
    "from IPython.display import HTML"
   ]
  },
  {
   "cell_type": "code",
   "execution_count": 21,
   "id": "lasting-extraction",
   "metadata": {
    "execution": {
     "iopub.execute_input": "2022-09-08T00:48:21.757163Z",
     "iopub.status.busy": "2022-09-08T00:48:21.756413Z",
     "iopub.status.idle": "2022-09-08T00:48:21.765305Z",
     "shell.execute_reply": "2022-09-08T00:48:21.764689Z"
    },
    "papermill": {
     "duration": 0.056458,
     "end_time": "2022-09-08T00:48:21.765444",
     "exception": false,
     "start_time": "2022-09-08T00:48:21.708986",
     "status": "completed"
    },
    "tags": []
   },
   "outputs": [],
   "source": [
    "#hide\n",
    "t = everydaycases.stack()"
   ]
  },
  {
   "cell_type": "code",
   "execution_count": 22,
   "id": "premier-sleeve",
   "metadata": {
    "execution": {
     "iopub.execute_input": "2022-09-08T00:48:21.854512Z",
     "iopub.status.busy": "2022-09-08T00:48:21.853628Z",
     "iopub.status.idle": "2022-09-08T00:48:21.868018Z",
     "shell.execute_reply": "2022-09-08T00:48:21.868727Z"
    },
    "papermill": {
     "duration": 0.059807,
     "end_time": "2022-09-08T00:48:21.868893",
     "exception": false,
     "start_time": "2022-09-08T00:48:21.809086",
     "status": "completed"
    },
    "tags": []
   },
   "outputs": [],
   "source": [
    "#hide\n",
    "g = t.reset_index(['Country/Region'])"
   ]
  },
  {
   "cell_type": "code",
   "execution_count": 23,
   "id": "distributed-pittsburgh",
   "metadata": {
    "execution": {
     "iopub.execute_input": "2022-09-08T00:48:21.952209Z",
     "iopub.status.busy": "2022-09-08T00:48:21.950937Z",
     "iopub.status.idle": "2022-09-08T00:48:21.956153Z",
     "shell.execute_reply": "2022-09-08T00:48:21.955541Z"
    },
    "papermill": {
     "duration": 0.048471,
     "end_time": "2022-09-08T00:48:21.956289",
     "exception": false,
     "start_time": "2022-09-08T00:48:21.907818",
     "status": "completed"
    },
    "tags": []
   },
   "outputs": [],
   "source": [
    "#hide\n",
    "g.index.name = 'date'"
   ]
  },
  {
   "cell_type": "code",
   "execution_count": 24,
   "id": "naked-donor",
   "metadata": {
    "execution": {
     "iopub.execute_input": "2022-09-08T00:48:22.038366Z",
     "iopub.status.busy": "2022-09-08T00:48:22.037634Z",
     "iopub.status.idle": "2022-09-08T00:48:22.041710Z",
     "shell.execute_reply": "2022-09-08T00:48:22.042320Z"
    },
    "papermill": {
     "duration": 0.047054,
     "end_time": "2022-09-08T00:48:22.042467",
     "exception": false,
     "start_time": "2022-09-08T00:48:21.995413",
     "status": "completed"
    },
    "tags": []
   },
   "outputs": [],
   "source": [
    "# #hide\n",
    "# g = g.reset_index(['date'])"
   ]
  },
  {
   "cell_type": "code",
   "execution_count": 25,
   "id": "incomplete-mustang",
   "metadata": {
    "execution": {
     "iopub.execute_input": "2022-09-08T00:48:22.126727Z",
     "iopub.status.busy": "2022-09-08T00:48:22.125547Z",
     "iopub.status.idle": "2022-09-08T00:48:22.127785Z",
     "shell.execute_reply": "2022-09-08T00:48:22.128660Z"
    },
    "papermill": {
     "duration": 0.044901,
     "end_time": "2022-09-08T00:48:22.128818",
     "exception": false,
     "start_time": "2022-09-08T00:48:22.083917",
     "status": "completed"
    },
    "tags": []
   },
   "outputs": [],
   "source": [
    "#hide\n",
    "# g.head()"
   ]
  },
  {
   "cell_type": "code",
   "execution_count": 26,
   "id": "specific-kruger",
   "metadata": {
    "execution": {
     "iopub.execute_input": "2022-09-08T00:48:22.212896Z",
     "iopub.status.busy": "2022-09-08T00:48:22.212162Z",
     "iopub.status.idle": "2022-09-08T00:48:22.215429Z",
     "shell.execute_reply": "2022-09-08T00:48:22.216061Z"
    },
    "papermill": {
     "duration": 0.046142,
     "end_time": "2022-09-08T00:48:22.216210",
     "exception": false,
     "start_time": "2022-09-08T00:48:22.170068",
     "status": "completed"
    },
    "tags": []
   },
   "outputs": [],
   "source": [
    "#hide\n",
    "# g.columns = ['date','country','cases']"
   ]
  },
  {
   "cell_type": "code",
   "execution_count": 27,
   "id": "tender-conversion",
   "metadata": {
    "execution": {
     "iopub.execute_input": "2022-09-08T00:48:22.298047Z",
     "iopub.status.busy": "2022-09-08T00:48:22.297300Z",
     "iopub.status.idle": "2022-09-08T00:48:22.300898Z",
     "shell.execute_reply": "2022-09-08T00:48:22.300176Z"
    },
    "papermill": {
     "duration": 0.047564,
     "end_time": "2022-09-08T00:48:22.301031",
     "exception": false,
     "start_time": "2022-09-08T00:48:22.253467",
     "status": "completed"
    },
    "tags": []
   },
   "outputs": [],
   "source": [
    "#hide\n",
    "# g['continent'] = g.country"
   ]
  },
  {
   "cell_type": "code",
   "execution_count": 28,
   "id": "substantial-wilderness",
   "metadata": {
    "execution": {
     "iopub.execute_input": "2022-09-08T00:48:22.387982Z",
     "iopub.status.busy": "2022-09-08T00:48:22.387221Z",
     "iopub.status.idle": "2022-09-08T00:48:22.390339Z",
     "shell.execute_reply": "2022-09-08T00:48:22.389738Z"
    },
    "papermill": {
     "duration": 0.048785,
     "end_time": "2022-09-08T00:48:22.390473",
     "exception": false,
     "start_time": "2022-09-08T00:48:22.341688",
     "status": "completed"
    },
    "tags": []
   },
   "outputs": [],
   "source": [
    "#hide\n",
    "# cols = list(g.columns.values)"
   ]
  },
  {
   "cell_type": "code",
   "execution_count": 29,
   "id": "solved-farming",
   "metadata": {
    "execution": {
     "iopub.execute_input": "2022-09-08T00:48:22.479500Z",
     "iopub.status.busy": "2022-09-08T00:48:22.478738Z",
     "iopub.status.idle": "2022-09-08T00:48:22.481902Z",
     "shell.execute_reply": "2022-09-08T00:48:22.481298Z"
    },
    "papermill": {
     "duration": 0.050291,
     "end_time": "2022-09-08T00:48:22.482035",
     "exception": false,
     "start_time": "2022-09-08T00:48:22.431744",
     "status": "completed"
    },
    "tags": []
   },
   "outputs": [],
   "source": [
    "#hide\n",
    "# cols.insert(0, cols.pop())"
   ]
  },
  {
   "cell_type": "code",
   "execution_count": 30,
   "id": "executed-adoption",
   "metadata": {
    "execution": {
     "iopub.execute_input": "2022-09-08T00:48:22.565584Z",
     "iopub.status.busy": "2022-09-08T00:48:22.564845Z",
     "iopub.status.idle": "2022-09-08T00:48:22.568214Z",
     "shell.execute_reply": "2022-09-08T00:48:22.568763Z"
    },
    "papermill": {
     "duration": 0.04828,
     "end_time": "2022-09-08T00:48:22.568919",
     "exception": false,
     "start_time": "2022-09-08T00:48:22.520639",
     "status": "completed"
    },
    "tags": []
   },
   "outputs": [],
   "source": [
    "#hide\n",
    "# g = g[cols]"
   ]
  },
  {
   "cell_type": "code",
   "execution_count": 31,
   "id": "subject-dublin",
   "metadata": {
    "execution": {
     "iopub.execute_input": "2022-09-08T00:48:22.649997Z",
     "iopub.status.busy": "2022-09-08T00:48:22.649263Z",
     "iopub.status.idle": "2022-09-08T00:48:22.652442Z",
     "shell.execute_reply": "2022-09-08T00:48:22.651841Z"
    },
    "papermill": {
     "duration": 0.045948,
     "end_time": "2022-09-08T00:48:22.652571",
     "exception": false,
     "start_time": "2022-09-08T00:48:22.606623",
     "status": "completed"
    },
    "tags": []
   },
   "outputs": [],
   "source": [
    "#hide\n",
    "# g['continent'] = g['continent'].map(mapping['map.continent'])"
   ]
  },
  {
   "cell_type": "code",
   "execution_count": 32,
   "id": "freelance-scout",
   "metadata": {
    "execution": {
     "iopub.execute_input": "2022-09-08T00:48:22.734268Z",
     "iopub.status.busy": "2022-09-08T00:48:22.733544Z",
     "iopub.status.idle": "2022-09-08T00:48:22.736913Z",
     "shell.execute_reply": "2022-09-08T00:48:22.736166Z"
    },
    "papermill": {
     "duration": 0.045235,
     "end_time": "2022-09-08T00:48:22.737051",
     "exception": false,
     "start_time": "2022-09-08T00:48:22.691816",
     "status": "completed"
    },
    "tags": []
   },
   "outputs": [],
   "source": [
    "#hide\n",
    "# g.head()"
   ]
  },
  {
   "cell_type": "code",
   "execution_count": 33,
   "id": "limited-engine",
   "metadata": {
    "execution": {
     "iopub.execute_input": "2022-09-08T00:48:22.820338Z",
     "iopub.status.busy": "2022-09-08T00:48:22.819602Z",
     "iopub.status.idle": "2022-09-08T00:48:22.822807Z",
     "shell.execute_reply": "2022-09-08T00:48:22.822207Z"
    },
    "papermill": {
     "duration": 0.047338,
     "end_time": "2022-09-08T00:48:22.822939",
     "exception": false,
     "start_time": "2022-09-08T00:48:22.775601",
     "status": "completed"
    },
    "tags": []
   },
   "outputs": [],
   "source": [
    "# hide\n",
    "# g['date'] = g['date'].astype('datetime64[ns]')"
   ]
  },
  {
   "cell_type": "code",
   "execution_count": 34,
   "id": "sophisticated-supervisor",
   "metadata": {
    "execution": {
     "iopub.execute_input": "2022-09-08T00:48:22.907357Z",
     "iopub.status.busy": "2022-09-08T00:48:22.906627Z",
     "iopub.status.idle": "2022-09-08T00:48:22.909403Z",
     "shell.execute_reply": "2022-09-08T00:48:22.909944Z"
    },
    "papermill": {
     "duration": 0.048554,
     "end_time": "2022-09-08T00:48:22.910095",
     "exception": false,
     "start_time": "2022-09-08T00:48:22.861541",
     "status": "completed"
    },
    "tags": []
   },
   "outputs": [],
   "source": [
    "#hide\n",
    "# g['date'] = g.date.dt.dayofyear"
   ]
  },
  {
   "cell_type": "code",
   "execution_count": 35,
   "id": "inside-dubai",
   "metadata": {
    "execution": {
     "iopub.execute_input": "2022-09-08T00:48:22.994616Z",
     "iopub.status.busy": "2022-09-08T00:48:22.993883Z",
     "iopub.status.idle": "2022-09-08T00:48:22.996795Z",
     "shell.execute_reply": "2022-09-08T00:48:22.997417Z"
    },
    "papermill": {
     "duration": 0.048825,
     "end_time": "2022-09-08T00:48:22.997568",
     "exception": false,
     "start_time": "2022-09-08T00:48:22.948743",
     "status": "completed"
    },
    "tags": []
   },
   "outputs": [],
   "source": [
    "#hide\n",
    "# g = g.rename(columns= {'continent':'group','country':'name','cases':'value'})"
   ]
  },
  {
   "cell_type": "code",
   "execution_count": 36,
   "id": "fleet-motorcycle",
   "metadata": {
    "execution": {
     "iopub.execute_input": "2022-09-08T00:48:23.083731Z",
     "iopub.status.busy": "2022-09-08T00:48:23.082956Z",
     "iopub.status.idle": "2022-09-08T00:48:23.085590Z",
     "shell.execute_reply": "2022-09-08T00:48:23.086135Z"
    },
    "papermill": {
     "duration": 0.049848,
     "end_time": "2022-09-08T00:48:23.086293",
     "exception": false,
     "start_time": "2022-09-08T00:48:23.036445",
     "status": "completed"
    },
    "tags": []
   },
   "outputs": [],
   "source": [
    "#hide\n",
    "# cols = ['name','group','day','value']"
   ]
  },
  {
   "cell_type": "code",
   "execution_count": 37,
   "id": "continued-sleeping",
   "metadata": {
    "execution": {
     "iopub.execute_input": "2022-09-08T00:48:23.168406Z",
     "iopub.status.busy": "2022-09-08T00:48:23.167675Z",
     "iopub.status.idle": "2022-09-08T00:48:23.171198Z",
     "shell.execute_reply": "2022-09-08T00:48:23.170496Z"
    },
    "papermill": {
     "duration": 0.04575,
     "end_time": "2022-09-08T00:48:23.171327",
     "exception": false,
     "start_time": "2022-09-08T00:48:23.125577",
     "status": "completed"
    },
    "tags": []
   },
   "outputs": [],
   "source": [
    "#hide\n",
    "# g.rename(columns= {'date':'day'},inplace = True)"
   ]
  },
  {
   "cell_type": "code",
   "execution_count": 38,
   "id": "major-fight",
   "metadata": {
    "execution": {
     "iopub.execute_input": "2022-09-08T00:48:23.253116Z",
     "iopub.status.busy": "2022-09-08T00:48:23.252384Z",
     "iopub.status.idle": "2022-09-08T00:48:23.255823Z",
     "shell.execute_reply": "2022-09-08T00:48:23.255080Z"
    },
    "papermill": {
     "duration": 0.045821,
     "end_time": "2022-09-08T00:48:23.255953",
     "exception": false,
     "start_time": "2022-09-08T00:48:23.210132",
     "status": "completed"
    },
    "tags": []
   },
   "outputs": [],
   "source": [
    "#hide\n",
    "# g = g[cols]"
   ]
  },
  {
   "cell_type": "code",
   "execution_count": 39,
   "id": "structured-mobile",
   "metadata": {
    "execution": {
     "iopub.execute_input": "2022-09-08T00:48:23.339116Z",
     "iopub.status.busy": "2022-09-08T00:48:23.338383Z",
     "iopub.status.idle": "2022-09-08T00:48:23.341643Z",
     "shell.execute_reply": "2022-09-08T00:48:23.341046Z"
    },
    "papermill": {
     "duration": 0.046412,
     "end_time": "2022-09-08T00:48:23.341775",
     "exception": false,
     "start_time": "2022-09-08T00:48:23.295363",
     "status": "completed"
    },
    "tags": []
   },
   "outputs": [],
   "source": [
    "# #hide\n",
    "# g = g[g.group.notna()]"
   ]
  },
  {
   "cell_type": "code",
   "execution_count": 40,
   "id": "determined-closing",
   "metadata": {
    "execution": {
     "iopub.execute_input": "2022-09-08T00:48:23.425542Z",
     "iopub.status.busy": "2022-09-08T00:48:23.424779Z",
     "iopub.status.idle": "2022-09-08T00:48:23.427871Z",
     "shell.execute_reply": "2022-09-08T00:48:23.427117Z"
    },
    "papermill": {
     "duration": 0.045798,
     "end_time": "2022-09-08T00:48:23.428008",
     "exception": false,
     "start_time": "2022-09-08T00:48:23.382210",
     "status": "completed"
    },
    "tags": []
   },
   "outputs": [],
   "source": [
    "# #hide\n",
    "# colors = dict(zip(\n",
    "#     [\"Oceania\", \"Europe\", \"Asia\", \"South America\", \"Middle East\", \"North America\", \"Africa\"],\n",
    "#     [\"#adb0ff\", \"#ffb3ff\", \"#90d595\", \"#e48381\", \"#aafbff\", \"#f7bb5f\", \"#eafb50\"]\n",
    "# ))\n",
    "# group_lk = g.set_index('name')['group'].to_dict()"
   ]
  },
  {
   "cell_type": "code",
   "execution_count": null,
   "id": "gross-drinking",
   "metadata": {
    "papermill": {
     "duration": 0.038375,
     "end_time": "2022-09-08T00:48:23.507251",
     "exception": false,
     "start_time": "2022-09-08T00:48:23.468876",
     "status": "completed"
    },
    "tags": []
   },
   "outputs": [],
   "source": []
  },
  {
   "cell_type": "code",
   "execution_count": 41,
   "id": "subject-macintosh",
   "metadata": {
    "execution": {
     "iopub.execute_input": "2022-09-08T00:48:23.593909Z",
     "iopub.status.busy": "2022-09-08T00:48:23.593159Z",
     "iopub.status.idle": "2022-09-08T00:48:23.598476Z",
     "shell.execute_reply": "2022-09-08T00:48:23.599024Z"
    },
    "papermill": {
     "duration": 0.051318,
     "end_time": "2022-09-08T00:48:23.599177",
     "exception": false,
     "start_time": "2022-09-08T00:48:23.547859",
     "status": "completed"
    },
    "tags": []
   },
   "outputs": [],
   "source": [
    "# #hide\n",
    "# fig, ax = plt.subplots(figsize=(15, 8))\n",
    "\n",
    "# def draw_barchart(current_day):\n",
    "#     dff = g[g['day'].eq(current_day)].sort_values(by='value', ascending=True).tail(10)\n",
    "#     ax.clear()\n",
    "#     ax.barh(dff['name'], dff['value'], color=[colors[group_lk[x]] for x in dff['name']])\n",
    "#     dx = dff['value'].max() / 200\n",
    "    \n",
    "#     for i, (value, name) in enumerate(zip(dff['value'], dff['name'])):\n",
    "#         ax.text(value-dx, i,     name,           size=14, weight=600, ha='right', va='bottom')\n",
    "#         ax.text(value-dx, i-.25, group_lk[name], size=10, color='#444444', ha='right', va='baseline')\n",
    "#         ax.text(value+dx, i,     f'{value:,.0f}',  size=14, ha='left',  va='center')\n",
    "#     ax.text(1, 0.4, current_day, transform=ax.transAxes, color='#777777', size=46, ha='right', weight=800)\n",
    "#     ax.text(0, 1.06, 'Population (thousands)', transform=ax.transAxes, size=12, color='#777777')\n",
    "#     ax.xaxis.set_major_formatter(ticker.StrMethodFormatter('{x:,.0f}'))\n",
    "#     ax.xaxis.set_ticks_position('top')\n",
    "#     ax.tick_params(axis='x', colors='#777777', labelsize=12)\n",
    "#     ax.set_yticks([])\n",
    "#     ax.margins(0, 0.01)\n",
    "#     ax.grid(which='major', axis='x', linestyle='-')\n",
    "#     ax.set_axisbelow(True)\n",
    "    \n",
    "#     ax.text(0, 1.15, 'Coronavirus',\n",
    "#             transform=ax.transAxes, size=24, weight=600, ha='left', va='top')\n",
    "# #     ax.text(1, 0, 'by @pratapvardhan; credit @jburnmurdoch', transform=ax.transAxes, color='#777777', ha='right',\n",
    "# #             bbox=dict(facecolor='white', alpha=0.8, edgecolor='white'))\n",
    "#     plt.box(False)"
   ]
  },
  {
   "cell_type": "code",
   "execution_count": 42,
   "id": "sexual-wages",
   "metadata": {
    "execution": {
     "iopub.execute_input": "2022-09-08T00:48:23.684547Z",
     "iopub.status.busy": "2022-09-08T00:48:23.683799Z",
     "iopub.status.idle": "2022-09-08T00:48:23.686730Z",
     "shell.execute_reply": "2022-09-08T00:48:23.686130Z"
    },
    "papermill": {
     "duration": 0.04811,
     "end_time": "2022-09-08T00:48:23.686871",
     "exception": false,
     "start_time": "2022-09-08T00:48:23.638761",
     "status": "completed"
    },
    "tags": []
   },
   "outputs": [],
   "source": [
    "# #hide_input\n",
    "# fig, ax = plt.subplots(figsize=(15, 8))\n",
    "# animator = animation.FuncAnimation(fig, draw_barchart, frames=range(g.day.values.min(), g.day.values.max()))\n",
    "# HTML(animator.to_jshtml())\n",
    "# # or use animator.to_html5_video() or animator.save() "
   ]
  },
  {
   "cell_type": "code",
   "execution_count": null,
   "id": "australian-container",
   "metadata": {
    "papermill": {
     "duration": 0.041153,
     "end_time": "2022-09-08T00:48:23.767242",
     "exception": false,
     "start_time": "2022-09-08T00:48:23.726089",
     "status": "completed"
    },
    "tags": []
   },
   "outputs": [],
   "source": []
  },
  {
   "cell_type": "code",
   "execution_count": null,
   "id": "mediterranean-pontiac",
   "metadata": {
    "papermill": {
     "duration": 0.039238,
     "end_time": "2022-09-08T00:48:23.845106",
     "exception": false,
     "start_time": "2022-09-08T00:48:23.805868",
     "status": "completed"
    },
    "tags": []
   },
   "outputs": [],
   "source": []
  },
  {
   "cell_type": "code",
   "execution_count": null,
   "id": "aging-legislature",
   "metadata": {
    "papermill": {
     "duration": 0.038865,
     "end_time": "2022-09-08T00:48:23.923174",
     "exception": false,
     "start_time": "2022-09-08T00:48:23.884309",
     "status": "completed"
    },
    "tags": []
   },
   "outputs": [],
   "source": []
  }
 ],
 "metadata": {
  "kernelspec": {
   "display_name": "Python 3",
   "language": "python",
   "name": "python3"
  },
  "language_info": {
   "codemirror_mode": {
    "name": "ipython",
    "version": 3
   },
   "file_extension": ".py",
   "mimetype": "text/x-python",
   "name": "python",
   "nbconvert_exporter": "python",
   "pygments_lexer": "ipython3",
   "version": "3.6.15"
  },
  "papermill": {
   "duration": 7.473559,
   "end_time": "2022-09-08T00:48:24.282325",
   "environment_variables": {},
   "exception": null,
   "input_path": "2020-03-21-covid19exp.ipynb",
   "output_path": "2020-03-21-covid19exp.ipynb",
   "parameters": {},
   "start_time": "2022-09-08T00:48:16.808766",
   "version": "2.0.0"
  }
 },
 "nbformat": 4,
 "nbformat_minor": 5
}