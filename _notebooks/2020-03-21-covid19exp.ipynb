{
 "cells": [
  {
   "cell_type": "markdown",
   "id": "muslim-click",
   "metadata": {
    "papermill": {
     "duration": 0.044393,
     "end_time": "2021-09-19T00:24:02.357121",
     "exception": false,
     "start_time": "2021-09-19T00:24:02.312728",
     "status": "completed"
    },
    "tags": []
   },
   "source": [
    "# COVID-19 Case Race\n",
    "> A race chart to see rising cases around the world\n",
    "\n",
    "- author: Hargun Oberoi\n",
    "- image: images/covid-overview.png\n",
    "- hide: false\n",
    "- badges: false"
   ]
  },
  {
   "cell_type": "code",
   "execution_count": 1,
   "id": "proof-material",
   "metadata": {
    "execution": {
     "iopub.execute_input": "2021-09-19T00:24:02.449842Z",
     "iopub.status.busy": "2021-09-19T00:24:02.449171Z",
     "iopub.status.idle": "2021-09-19T00:24:02.838677Z",
     "shell.execute_reply": "2021-09-19T00:24:02.837654Z"
    },
    "papermill": {
     "duration": 0.441049,
     "end_time": "2021-09-19T00:24:02.838831",
     "exception": false,
     "start_time": "2021-09-19T00:24:02.397782",
     "status": "completed"
    },
    "tags": []
   },
   "outputs": [],
   "source": [
    "#hide\n",
    "import numpy as np\n",
    "import pandas as pd\n",
    "from jinja2 import Template\n",
    "from IPython.display import HTML"
   ]
  },
  {
   "cell_type": "code",
   "execution_count": 2,
   "id": "developed-terminology",
   "metadata": {
    "execution": {
     "iopub.execute_input": "2021-09-19T00:24:02.917796Z",
     "iopub.status.busy": "2021-09-19T00:24:02.917157Z",
     "iopub.status.idle": "2021-09-19T00:24:02.919642Z",
     "shell.execute_reply": "2021-09-19T00:24:02.918959Z"
    },
    "papermill": {
     "duration": 0.04602,
     "end_time": "2021-09-19T00:24:02.919757",
     "exception": false,
     "start_time": "2021-09-19T00:24:02.873737",
     "status": "completed"
    },
    "tags": []
   },
   "outputs": [],
   "source": [
    "#hide\n",
    "\n",
    "# FETCH\n",
    "base_url = 'https://raw.githubusercontent.com/pratapvardhan/notebooks/master/covid19/'\n",
    "paths = {\n",
    "    'mapping': base_url + 'mapping_countries.csv',\n",
    "    'overview': base_url + 'overview.tpl'\n",
    "}"
   ]
  },
  {
   "cell_type": "code",
   "execution_count": 3,
   "id": "dynamic-saver",
   "metadata": {
    "execution": {
     "iopub.execute_input": "2021-09-19T00:24:03.003318Z",
     "iopub.status.busy": "2021-09-19T00:24:03.002668Z",
     "iopub.status.idle": "2021-09-19T00:24:03.005555Z",
     "shell.execute_reply": "2021-09-19T00:24:03.006234Z"
    },
    "papermill": {
     "duration": 0.049757,
     "end_time": "2021-09-19T00:24:03.006379",
     "exception": false,
     "start_time": "2021-09-19T00:24:02.956622",
     "status": "completed"
    },
    "tags": []
   },
   "outputs": [
    {
     "data": {
      "text/plain": [
       "'https://raw.githubusercontent.com/pratapvardhan/notebooks/master/covid19/mapping_countries.csv'"
      ]
     },
     "execution_count": 3,
     "metadata": {},
     "output_type": "execute_result"
    }
   ],
   "source": [
    "#hide\n",
    "paths['mapping']"
   ]
  },
  {
   "cell_type": "code",
   "execution_count": 4,
   "id": "urban-software",
   "metadata": {
    "execution": {
     "iopub.execute_input": "2021-09-19T00:24:03.083172Z",
     "iopub.status.busy": "2021-09-19T00:24:03.082511Z",
     "iopub.status.idle": "2021-09-19T00:24:03.085031Z",
     "shell.execute_reply": "2021-09-19T00:24:03.084495Z"
    },
    "papermill": {
     "duration": 0.043576,
     "end_time": "2021-09-19T00:24:03.085153",
     "exception": false,
     "start_time": "2021-09-19T00:24:03.041577",
     "status": "completed"
    },
    "tags": []
   },
   "outputs": [],
   "source": [
    "#hide\n",
    "def get_mappings(url):\n",
    "    df = pd.read_csv(url)\n",
    "    return {\n",
    "        'df': df,\n",
    "        'replace.country': dict(df.dropna(subset=['Name']).set_index('Country')['Name']),\n",
    "        'map.continent': dict(df.set_index('Name')['Continent'])\n",
    "    }"
   ]
  },
  {
   "cell_type": "code",
   "execution_count": 5,
   "id": "intimate-machinery",
   "metadata": {
    "execution": {
     "iopub.execute_input": "2021-09-19T00:24:03.164384Z",
     "iopub.status.busy": "2021-09-19T00:24:03.163744Z",
     "iopub.status.idle": "2021-09-19T00:24:03.227843Z",
     "shell.execute_reply": "2021-09-19T00:24:03.227272Z"
    },
    "papermill": {
     "duration": 0.105941,
     "end_time": "2021-09-19T00:24:03.227985",
     "exception": false,
     "start_time": "2021-09-19T00:24:03.122044",
     "status": "completed"
    },
    "tags": []
   },
   "outputs": [],
   "source": [
    "#hide\n",
    "mapping = get_mappings(paths['mapping'])"
   ]
  },
  {
   "cell_type": "code",
   "execution_count": 6,
   "id": "certified-tactics",
   "metadata": {
    "execution": {
     "iopub.execute_input": "2021-09-19T00:24:03.307761Z",
     "iopub.status.busy": "2021-09-19T00:24:03.307121Z",
     "iopub.status.idle": "2021-09-19T00:24:03.308909Z",
     "shell.execute_reply": "2021-09-19T00:24:03.309479Z"
    },
    "papermill": {
     "duration": 0.043481,
     "end_time": "2021-09-19T00:24:03.309614",
     "exception": false,
     "start_time": "2021-09-19T00:24:03.266133",
     "status": "completed"
    },
    "tags": []
   },
   "outputs": [],
   "source": [
    "#hide\n",
    "def get_template(path):\n",
    "    from urllib.parse import urlparse\n",
    "    if bool(urlparse(path).netloc):\n",
    "        from urllib.request import urlopen\n",
    "        return urlopen(path).read().decode('utf8')\n",
    "    return open(path).read()"
   ]
  },
  {
   "cell_type": "code",
   "execution_count": 7,
   "id": "realistic-blast",
   "metadata": {
    "execution": {
     "iopub.execute_input": "2021-09-19T00:24:03.387476Z",
     "iopub.status.busy": "2021-09-19T00:24:03.386894Z",
     "iopub.status.idle": "2021-09-19T00:24:03.389318Z",
     "shell.execute_reply": "2021-09-19T00:24:03.388828Z"
    },
    "papermill": {
     "duration": 0.044239,
     "end_time": "2021-09-19T00:24:03.389435",
     "exception": false,
     "start_time": "2021-09-19T00:24:03.345196",
     "status": "completed"
    },
    "tags": []
   },
   "outputs": [],
   "source": [
    "#hide\n",
    "def get_frame(name):\n",
    "    url = (\n",
    "        'https://raw.githubusercontent.com/CSSEGISandData/COVID-19/master/csse_covid_19_data/'\n",
    "        f'csse_covid_19_time_series/time_series_covid19_{name}_global.csv')\n",
    "    df = pd.read_csv(url)\n",
    "    # rename countries\n",
    "    df['Country/Region'] = df['Country/Region'].replace(mapping['replace.country'])\n",
    "    return df"
   ]
  },
  {
   "cell_type": "code",
   "execution_count": 8,
   "id": "affiliated-characterization",
   "metadata": {
    "execution": {
     "iopub.execute_input": "2021-09-19T00:24:03.471673Z",
     "iopub.status.busy": "2021-09-19T00:24:03.470994Z",
     "iopub.status.idle": "2021-09-19T00:24:03.473549Z",
     "shell.execute_reply": "2021-09-19T00:24:03.472907Z"
    },
    "papermill": {
     "duration": 0.04571,
     "end_time": "2021-09-19T00:24:03.473678",
     "exception": false,
     "start_time": "2021-09-19T00:24:03.427968",
     "status": "completed"
    },
    "tags": []
   },
   "outputs": [],
   "source": [
    "#hide\n",
    "def get_dates(df):\n",
    "    dt_cols = df.columns[~df.columns.isin(['Province/State', 'Country/Region', 'Lat', 'Long'])]\n",
    "    LAST_DATE_I = -1\n",
    "    # sometimes last column may be empty, then go backwards\n",
    "    for i in range(-1, -len(dt_cols), -1):\n",
    "        if not df[dt_cols[i]].fillna(0).eq(0).all():\n",
    "            LAST_DATE_I = i\n",
    "            break\n",
    "    return LAST_DATE_I, dt_cols"
   ]
  },
  {
   "cell_type": "code",
   "execution_count": 9,
   "id": "recent-optimization",
   "metadata": {
    "execution": {
     "iopub.execute_input": "2021-09-19T00:24:03.549543Z",
     "iopub.status.busy": "2021-09-19T00:24:03.548849Z",
     "iopub.status.idle": "2021-09-19T00:24:04.099825Z",
     "shell.execute_reply": "2021-09-19T00:24:04.099317Z"
    },
    "papermill": {
     "duration": 0.590732,
     "end_time": "2021-09-19T00:24:04.099960",
     "exception": false,
     "start_time": "2021-09-19T00:24:03.509228",
     "status": "completed"
    },
    "tags": []
   },
   "outputs": [],
   "source": [
    "#hide\n",
    "COL_REGION = 'Country/Region'\n",
    "# Confirmed, Recovered, Deaths\n",
    "df = get_frame('confirmed')\n",
    "# dft_: timeseries, dfc_: today country agg\n",
    "dft_cases = df\n",
    "dft_deaths = get_frame('deaths')\n",
    "dft_recovered = get_frame('recovered')\n",
    "LAST_DATE_I, dt_cols = get_dates(df)"
   ]
  },
  {
   "cell_type": "code",
   "execution_count": 10,
   "id": "absolute-copper",
   "metadata": {
    "execution": {
     "iopub.execute_input": "2021-09-19T00:24:04.178175Z",
     "iopub.status.busy": "2021-09-19T00:24:04.177254Z",
     "iopub.status.idle": "2021-09-19T00:24:04.179865Z",
     "shell.execute_reply": "2021-09-19T00:24:04.179332Z"
    },
    "papermill": {
     "duration": 0.046272,
     "end_time": "2021-09-19T00:24:04.179988",
     "exception": false,
     "start_time": "2021-09-19T00:24:04.133716",
     "status": "completed"
    },
    "tags": []
   },
   "outputs": [],
   "source": [
    "#hide\n",
    "LAST_DATE_I, dt_cols = get_dates(df)\n",
    "dt_today =dt_cols[LAST_DATE_I]\n",
    "# dt_5day = dt_cols[LAST_DATE_I - 5]\n",
    "dt_yday = dt_cols[LAST_DATE_I - 1]"
   ]
  },
  {
   "cell_type": "code",
   "execution_count": 11,
   "id": "restricted-sheriff",
   "metadata": {
    "execution": {
     "iopub.execute_input": "2021-09-19T00:24:04.259543Z",
     "iopub.status.busy": "2021-09-19T00:24:04.258879Z",
     "iopub.status.idle": "2021-09-19T00:24:04.264518Z",
     "shell.execute_reply": "2021-09-19T00:24:04.263966Z"
    },
    "papermill": {
     "duration": 0.049424,
     "end_time": "2021-09-19T00:24:04.264657",
     "exception": false,
     "start_time": "2021-09-19T00:24:04.215233",
     "status": "completed"
    },
    "tags": []
   },
   "outputs": [],
   "source": [
    "#hide\n",
    "dfc_cases = dft_cases.groupby(COL_REGION)[dt_today].sum()\n",
    "dfc_deaths = dft_deaths.groupby(COL_REGION)[dt_today].sum()\n",
    "# dfp_cases = dft_cases.groupby(COL_REGION)[dt_5day].sum()\n",
    "# dfp_deaths = dft_deaths.groupby(COL_REGION)[dt_5day].sum()\n",
    "dfp_cases = dft_cases.groupby(COL_REGION)[dt_yday].sum()\n",
    "dfp_deaths = dft_deaths.groupby(COL_REGION)[dt_yday].sum()"
   ]
  },
  {
   "cell_type": "code",
   "execution_count": 12,
   "id": "deluxe-hepatitis",
   "metadata": {
    "execution": {
     "iopub.execute_input": "2021-09-19T00:24:04.350333Z",
     "iopub.status.busy": "2021-09-19T00:24:04.349597Z",
     "iopub.status.idle": "2021-09-19T00:24:04.353163Z",
     "shell.execute_reply": "2021-09-19T00:24:04.353780Z"
    },
    "papermill": {
     "duration": 0.053428,
     "end_time": "2021-09-19T00:24:04.354007",
     "exception": false,
     "start_time": "2021-09-19T00:24:04.300579",
     "status": "completed"
    },
    "tags": []
   },
   "outputs": [],
   "source": [
    "#hide\n",
    "df_table = (pd.DataFrame(dict(Cases = dfc_cases, Deaths = dfc_deaths, PCases = dfp_cases, PDeaths = dfp_deaths))\n",
    "            .sort_values(by = ['Cases','Deaths'], ascending = [False, False])\n",
    "            .reset_index())"
   ]
  },
  {
   "cell_type": "code",
   "execution_count": 13,
   "id": "educational-chancellor",
   "metadata": {
    "execution": {
     "iopub.execute_input": "2021-09-19T00:24:04.458540Z",
     "iopub.status.busy": "2021-09-19T00:24:04.457826Z",
     "iopub.status.idle": "2021-09-19T00:24:04.461298Z",
     "shell.execute_reply": "2021-09-19T00:24:04.461799Z"
    },
    "papermill": {
     "duration": 0.073172,
     "end_time": "2021-09-19T00:24:04.461990",
     "exception": false,
     "start_time": "2021-09-19T00:24:04.388818",
     "status": "completed"
    },
    "tags": []
   },
   "outputs": [
    {
     "data": {
      "text/html": [
       "<div>\n",
       "<style scoped>\n",
       "    .dataframe tbody tr th:only-of-type {\n",
       "        vertical-align: middle;\n",
       "    }\n",
       "\n",
       "    .dataframe tbody tr th {\n",
       "        vertical-align: top;\n",
       "    }\n",
       "\n",
       "    .dataframe thead th {\n",
       "        text-align: right;\n",
       "    }\n",
       "</style>\n",
       "<table border=\"1\" class=\"dataframe\">\n",
       "  <thead>\n",
       "    <tr style=\"text-align: right;\">\n",
       "      <th></th>\n",
       "      <th>Country/Region</th>\n",
       "      <th>Cases</th>\n",
       "      <th>Deaths</th>\n",
       "      <th>PCases</th>\n",
       "      <th>PDeaths</th>\n",
       "      <th>Cases (+)</th>\n",
       "      <th>Deaths (+)</th>\n",
       "      <th>Fatality Rate</th>\n",
       "      <th>Continent</th>\n",
       "    </tr>\n",
       "  </thead>\n",
       "  <tbody>\n",
       "    <tr>\n",
       "      <th>0</th>\n",
       "      <td>US</td>\n",
       "      <td>41993789</td>\n",
       "      <td>672635</td>\n",
       "      <td>41785903</td>\n",
       "      <td>670000</td>\n",
       "      <td>207886</td>\n",
       "      <td>2635</td>\n",
       "      <td>1.60</td>\n",
       "      <td>North America</td>\n",
       "    </tr>\n",
       "    <tr>\n",
       "      <th>1</th>\n",
       "      <td>India</td>\n",
       "      <td>33417390</td>\n",
       "      <td>444529</td>\n",
       "      <td>33381728</td>\n",
       "      <td>444248</td>\n",
       "      <td>35662</td>\n",
       "      <td>281</td>\n",
       "      <td>1.33</td>\n",
       "      <td>Asia</td>\n",
       "    </tr>\n",
       "    <tr>\n",
       "      <th>2</th>\n",
       "      <td>Brazil</td>\n",
       "      <td>21080219</td>\n",
       "      <td>589573</td>\n",
       "      <td>21069017</td>\n",
       "      <td>589246</td>\n",
       "      <td>11202</td>\n",
       "      <td>327</td>\n",
       "      <td>2.80</td>\n",
       "      <td>South America</td>\n",
       "    </tr>\n",
       "    <tr>\n",
       "      <th>3</th>\n",
       "      <td>United Kingdom</td>\n",
       "      <td>7406017</td>\n",
       "      <td>135314</td>\n",
       "      <td>7373451</td>\n",
       "      <td>135134</td>\n",
       "      <td>32566</td>\n",
       "      <td>180</td>\n",
       "      <td>1.83</td>\n",
       "      <td>Europe</td>\n",
       "    </tr>\n",
       "    <tr>\n",
       "      <th>4</th>\n",
       "      <td>Russia</td>\n",
       "      <td>7130245</td>\n",
       "      <td>193111</td>\n",
       "      <td>7110656</td>\n",
       "      <td>192340</td>\n",
       "      <td>19589</td>\n",
       "      <td>771</td>\n",
       "      <td>2.71</td>\n",
       "      <td>Europe</td>\n",
       "    </tr>\n",
       "  </tbody>\n",
       "</table>\n",
       "</div>"
      ],
      "text/plain": [
       "   Country/Region     Cases  Deaths    PCases  PDeaths  Cases (+)  Deaths (+)  \\\n",
       "0              US  41993789  672635  41785903   670000     207886        2635   \n",
       "1           India  33417390  444529  33381728   444248      35662         281   \n",
       "2          Brazil  21080219  589573  21069017   589246      11202         327   \n",
       "3  United Kingdom   7406017  135314   7373451   135134      32566         180   \n",
       "4          Russia   7130245  193111   7110656   192340      19589         771   \n",
       "\n",
       "   Fatality Rate      Continent  \n",
       "0           1.60  North America  \n",
       "1           1.33           Asia  \n",
       "2           2.80  South America  \n",
       "3           1.83         Europe  \n",
       "4           2.71         Europe  "
      ]
     },
     "execution_count": 13,
     "metadata": {},
     "output_type": "execute_result"
    }
   ],
   "source": [
    "#hide\n",
    "for c in 'Cases, Deaths'.split(', '):\n",
    "    df_table[f'{c} (+)'] = (df_table[c] - df_table[f'P{c}']).clip(0)\n",
    "    #Clip ça veut dire, les chiffres negatif sont interdit\n",
    "df_table['Fatality Rate'] = (100* df_table['Deaths']/ df_table['Cases']).round(2)\n",
    "df_table['Continent'] = df_table['Country/Region'].map(mapping['map.continent'])\n",
    "df_table.head(5)"
   ]
  },
  {
   "cell_type": "code",
   "execution_count": 14,
   "id": "aboriginal-bulgaria",
   "metadata": {
    "execution": {
     "iopub.execute_input": "2021-09-19T00:24:04.539047Z",
     "iopub.status.busy": "2021-09-19T00:24:04.538466Z",
     "iopub.status.idle": "2021-09-19T00:24:04.541805Z",
     "shell.execute_reply": "2021-09-19T00:24:04.542394Z"
    },
    "papermill": {
     "duration": 0.04296,
     "end_time": "2021-09-19T00:24:04.542521",
     "exception": false,
     "start_time": "2021-09-19T00:24:04.499561",
     "status": "completed"
    },
    "tags": []
   },
   "outputs": [],
   "source": [
    "#hide\n",
    "#delete problematic countries from table\n",
    "df_table = df_table[~df_table['Country/Region'].isin(['Cape Verde', 'Cruise Ship', 'Kosovo'])]"
   ]
  },
  {
   "cell_type": "code",
   "execution_count": 15,
   "id": "fantastic-effect",
   "metadata": {
    "execution": {
     "iopub.execute_input": "2021-09-19T00:24:04.625351Z",
     "iopub.status.busy": "2021-09-19T00:24:04.624739Z",
     "iopub.status.idle": "2021-09-19T00:24:04.645085Z",
     "shell.execute_reply": "2021-09-19T00:24:04.644590Z"
    },
    "papermill": {
     "duration": 0.065235,
     "end_time": "2021-09-19T00:24:04.645205",
     "exception": false,
     "start_time": "2021-09-19T00:24:04.579970",
     "status": "completed"
    },
    "tags": []
   },
   "outputs": [
    {
     "data": {
      "text/html": [
       "<div>\n",
       "<style scoped>\n",
       "    .dataframe tbody tr th:only-of-type {\n",
       "        vertical-align: middle;\n",
       "    }\n",
       "\n",
       "    .dataframe tbody tr th {\n",
       "        vertical-align: top;\n",
       "    }\n",
       "\n",
       "    .dataframe thead th {\n",
       "        text-align: right;\n",
       "    }\n",
       "</style>\n",
       "<table border=\"1\" class=\"dataframe\">\n",
       "  <thead>\n",
       "    <tr style=\"text-align: right;\">\n",
       "      <th></th>\n",
       "      <th>Country/Region</th>\n",
       "      <th>Cases</th>\n",
       "      <th>Deaths</th>\n",
       "      <th>PCases</th>\n",
       "      <th>PDeaths</th>\n",
       "      <th>Cases (+)</th>\n",
       "      <th>Deaths (+)</th>\n",
       "      <th>Fatality Rate</th>\n",
       "      <th>Continent</th>\n",
       "    </tr>\n",
       "  </thead>\n",
       "  <tbody>\n",
       "    <tr>\n",
       "      <th>0</th>\n",
       "      <td>US</td>\n",
       "      <td>41993789</td>\n",
       "      <td>672635</td>\n",
       "      <td>41785903</td>\n",
       "      <td>670000</td>\n",
       "      <td>207886</td>\n",
       "      <td>2635</td>\n",
       "      <td>1.6</td>\n",
       "      <td>North America</td>\n",
       "    </tr>\n",
       "    <tr>\n",
       "      <th>1</th>\n",
       "      <td>India</td>\n",
       "      <td>33417390</td>\n",
       "      <td>444529</td>\n",
       "      <td>33381728</td>\n",
       "      <td>444248</td>\n",
       "      <td>35662</td>\n",
       "      <td>281</td>\n",
       "      <td>1.3</td>\n",
       "      <td>Asia</td>\n",
       "    </tr>\n",
       "    <tr>\n",
       "      <th>2</th>\n",
       "      <td>Brazil</td>\n",
       "      <td>21080219</td>\n",
       "      <td>589573</td>\n",
       "      <td>21069017</td>\n",
       "      <td>589246</td>\n",
       "      <td>11202</td>\n",
       "      <td>327</td>\n",
       "      <td>2.8</td>\n",
       "      <td>South America</td>\n",
       "    </tr>\n",
       "    <tr>\n",
       "      <th>3</th>\n",
       "      <td>United Kingdom</td>\n",
       "      <td>7406017</td>\n",
       "      <td>135314</td>\n",
       "      <td>7373451</td>\n",
       "      <td>135134</td>\n",
       "      <td>32566</td>\n",
       "      <td>180</td>\n",
       "      <td>1.8</td>\n",
       "      <td>Europe</td>\n",
       "    </tr>\n",
       "    <tr>\n",
       "      <th>4</th>\n",
       "      <td>Russia</td>\n",
       "      <td>7130245</td>\n",
       "      <td>193111</td>\n",
       "      <td>7110656</td>\n",
       "      <td>192340</td>\n",
       "      <td>19589</td>\n",
       "      <td>771</td>\n",
       "      <td>2.7</td>\n",
       "      <td>Europe</td>\n",
       "    </tr>\n",
       "  </tbody>\n",
       "</table>\n",
       "</div>"
      ],
      "text/plain": [
       "   Country/Region     Cases  Deaths    PCases  PDeaths  Cases (+)  Deaths (+)  \\\n",
       "0              US  41993789  672635  41785903   670000     207886        2635   \n",
       "1           India  33417390  444529  33381728   444248      35662         281   \n",
       "2          Brazil  21080219  589573  21069017   589246      11202         327   \n",
       "3  United Kingdom   7406017  135314   7373451   135134      32566         180   \n",
       "4          Russia   7130245  193111   7110656   192340      19589         771   \n",
       "\n",
       "   Fatality Rate      Continent  \n",
       "0            1.6  North America  \n",
       "1            1.3           Asia  \n",
       "2            2.8  South America  \n",
       "3            1.8         Europe  \n",
       "4            2.7         Europe  "
      ]
     },
     "execution_count": 15,
     "metadata": {},
     "output_type": "execute_result"
    }
   ],
   "source": [
    "#hide\n",
    "df_table = (pd.DataFrame(dict(Cases=dfc_cases, Deaths=dfc_deaths, PCases=dfp_cases, PDeaths=dfp_deaths))\n",
    "             .sort_values(by=['Cases', 'Deaths'], ascending=[False, False])\n",
    "             .reset_index())\n",
    "df_table.rename(columns={'index': 'Country/Region'}, inplace=True)\n",
    "for c in 'Cases, Deaths'.split(', '):\n",
    "    df_table[f'{c} (+)'] = (df_table[c] - df_table[f'P{c}']).clip(0)  # DATA BUG\n",
    "df_table['Fatality Rate'] = (100 * df_table['Deaths'] / df_table['Cases']).round(1)\n",
    "df_table['Continent'] = df_table['Country/Region'].map(mapping['map.continent'])\n",
    "df_table.head(5)"
   ]
  },
  {
   "cell_type": "code",
   "execution_count": 16,
   "id": "fewer-occasion",
   "metadata": {
    "execution": {
     "iopub.execute_input": "2021-09-19T00:24:04.727247Z",
     "iopub.status.busy": "2021-09-19T00:24:04.726607Z",
     "iopub.status.idle": "2021-09-19T00:24:04.729584Z",
     "shell.execute_reply": "2021-09-19T00:24:04.730150Z"
    },
    "papermill": {
     "duration": 0.050284,
     "end_time": "2021-09-19T00:24:04.730307",
     "exception": false,
     "start_time": "2021-09-19T00:24:04.680023",
     "status": "completed"
    },
    "tags": []
   },
   "outputs": [],
   "source": [
    "#hide\n",
    "#delete problematic countries from table\n",
    "df_table = df_table[~df_table['Country/Region'].isin(['Cape Verde', 'Cruise Ship', 'Kosovo'])]"
   ]
  },
  {
   "cell_type": "code",
   "execution_count": 17,
   "id": "related-center",
   "metadata": {
    "execution": {
     "iopub.execute_input": "2021-09-19T00:24:04.826816Z",
     "iopub.status.busy": "2021-09-19T00:24:04.826243Z",
     "iopub.status.idle": "2021-09-19T00:24:04.827993Z",
     "shell.execute_reply": "2021-09-19T00:24:04.828487Z"
    },
    "papermill": {
     "duration": 0.060213,
     "end_time": "2021-09-19T00:24:04.828613",
     "exception": false,
     "start_time": "2021-09-19T00:24:04.768400",
     "status": "completed"
    },
    "tags": []
   },
   "outputs": [],
   "source": [
    "#hide\n",
    "metrics = [df_table.columns[index] for index in [1,2,5,6]]\n",
    "# s_china = df_table[df_table['Country/Region'].eq('China')][metrics].sum().add_prefix('China ')\n",
    "s_us = df_table[df_table['Country/Region'].eq('US')][metrics].sum().add_prefix('US ')\n",
    "s_eu = df_table[df_table['Continent'].eq('Europe')][metrics].sum().add_prefix('EU ')\n",
    "s_ind = df_table[df_table['Country/Region'].eq('India')][metrics].sum().add_prefix('India ')\n",
    "summary = {'updated': pd.to_datetime(dt_today), 'since': pd.to_datetime(dt_yday)}\n",
    "summary = {'updated': pd.to_datetime(dt_today), 'since': pd.to_datetime(dt_yday)}\n",
    "summary = {**summary, **df_table[metrics].sum(), **s_ind, **s_us, **s_eu}"
   ]
  },
  {
   "cell_type": "code",
   "execution_count": 18,
   "id": "engaging-syndrome",
   "metadata": {
    "execution": {
     "iopub.execute_input": "2021-09-19T00:24:04.909384Z",
     "iopub.status.busy": "2021-09-19T00:24:04.908743Z",
     "iopub.status.idle": "2021-09-19T00:24:04.922981Z",
     "shell.execute_reply": "2021-09-19T00:24:04.923499Z"
    },
    "papermill": {
     "duration": 0.05727,
     "end_time": "2021-09-19T00:24:04.923664",
     "exception": false,
     "start_time": "2021-09-19T00:24:04.866394",
     "status": "completed"
    },
    "tags": []
   },
   "outputs": [],
   "source": [
    "#hide\n",
    "dft_ct_new_cases = dft_cases.groupby(COL_REGION)[dt_cols].sum().diff(axis=1).fillna(0).astype(int)"
   ]
  },
  {
   "cell_type": "code",
   "execution_count": 19,
   "id": "neutral-assignment",
   "metadata": {
    "execution": {
     "iopub.execute_input": "2021-09-19T00:24:05.011658Z",
     "iopub.status.busy": "2021-09-19T00:24:05.011011Z",
     "iopub.status.idle": "2021-09-19T00:24:05.013417Z",
     "shell.execute_reply": "2021-09-19T00:24:05.012891Z"
    },
    "papermill": {
     "duration": 0.053404,
     "end_time": "2021-09-19T00:24:05.013541",
     "exception": false,
     "start_time": "2021-09-19T00:24:04.960137",
     "status": "completed"
    },
    "tags": []
   },
   "outputs": [],
   "source": [
    "#hide\n",
    "everydaycases = dft_ct_new_cases.cumsum(axis=1)"
   ]
  },
  {
   "cell_type": "code",
   "execution_count": 20,
   "id": "parliamentary-calgary",
   "metadata": {
    "execution": {
     "iopub.execute_input": "2021-09-19T00:24:05.090231Z",
     "iopub.status.busy": "2021-09-19T00:24:05.089627Z",
     "iopub.status.idle": "2021-09-19T00:24:05.917175Z",
     "shell.execute_reply": "2021-09-19T00:24:05.916622Z"
    },
    "papermill": {
     "duration": 0.866572,
     "end_time": "2021-09-19T00:24:05.917322",
     "exception": false,
     "start_time": "2021-09-19T00:24:05.050750",
     "status": "completed"
    },
    "tags": []
   },
   "outputs": [],
   "source": [
    "#hide\n",
    "import pandas as pd\n",
    "import matplotlib.pyplot as plt\n",
    "import matplotlib.ticker as ticker\n",
    "import matplotlib.animation as animation\n",
    "from IPython.display import HTML"
   ]
  },
  {
   "cell_type": "code",
   "execution_count": 21,
   "id": "lasting-extraction",
   "metadata": {
    "execution": {
     "iopub.execute_input": "2021-09-19T00:24:05.994312Z",
     "iopub.status.busy": "2021-09-19T00:24:05.993630Z",
     "iopub.status.idle": "2021-09-19T00:24:05.999018Z",
     "shell.execute_reply": "2021-09-19T00:24:05.999651Z"
    },
    "papermill": {
     "duration": 0.045911,
     "end_time": "2021-09-19T00:24:05.999799",
     "exception": false,
     "start_time": "2021-09-19T00:24:05.953888",
     "status": "completed"
    },
    "tags": []
   },
   "outputs": [],
   "source": [
    "#hide\n",
    "t = everydaycases.stack()"
   ]
  },
  {
   "cell_type": "code",
   "execution_count": 22,
   "id": "premier-sleeve",
   "metadata": {
    "execution": {
     "iopub.execute_input": "2021-09-19T00:24:06.085855Z",
     "iopub.status.busy": "2021-09-19T00:24:06.085237Z",
     "iopub.status.idle": "2021-09-19T00:24:06.094278Z",
     "shell.execute_reply": "2021-09-19T00:24:06.093715Z"
    },
    "papermill": {
     "duration": 0.050438,
     "end_time": "2021-09-19T00:24:06.094396",
     "exception": false,
     "start_time": "2021-09-19T00:24:06.043958",
     "status": "completed"
    },
    "tags": []
   },
   "outputs": [],
   "source": [
    "#hide\n",
    "g = t.reset_index(['Country/Region'])"
   ]
  },
  {
   "cell_type": "code",
   "execution_count": 23,
   "id": "distributed-pittsburgh",
   "metadata": {
    "execution": {
     "iopub.execute_input": "2021-09-19T00:24:06.172175Z",
     "iopub.status.busy": "2021-09-19T00:24:06.171507Z",
     "iopub.status.idle": "2021-09-19T00:24:06.173996Z",
     "shell.execute_reply": "2021-09-19T00:24:06.174588Z"
    },
    "papermill": {
     "duration": 0.043257,
     "end_time": "2021-09-19T00:24:06.174719",
     "exception": false,
     "start_time": "2021-09-19T00:24:06.131462",
     "status": "completed"
    },
    "tags": []
   },
   "outputs": [],
   "source": [
    "#hide\n",
    "g.index.name = 'date'"
   ]
  },
  {
   "cell_type": "code",
   "execution_count": 24,
   "id": "naked-donor",
   "metadata": {
    "execution": {
     "iopub.execute_input": "2021-09-19T00:24:06.249479Z",
     "iopub.status.busy": "2021-09-19T00:24:06.248860Z",
     "iopub.status.idle": "2021-09-19T00:24:06.251252Z",
     "shell.execute_reply": "2021-09-19T00:24:06.250759Z"
    },
    "papermill": {
     "duration": 0.041714,
     "end_time": "2021-09-19T00:24:06.251365",
     "exception": false,
     "start_time": "2021-09-19T00:24:06.209651",
     "status": "completed"
    },
    "tags": []
   },
   "outputs": [],
   "source": [
    "# #hide\n",
    "# g = g.reset_index(['date'])"
   ]
  },
  {
   "cell_type": "code",
   "execution_count": 25,
   "id": "incomplete-mustang",
   "metadata": {
    "execution": {
     "iopub.execute_input": "2021-09-19T00:24:06.332662Z",
     "iopub.status.busy": "2021-09-19T00:24:06.332045Z",
     "iopub.status.idle": "2021-09-19T00:24:06.334381Z",
     "shell.execute_reply": "2021-09-19T00:24:06.333868Z"
    },
    "papermill": {
     "duration": 0.044194,
     "end_time": "2021-09-19T00:24:06.334500",
     "exception": false,
     "start_time": "2021-09-19T00:24:06.290306",
     "status": "completed"
    },
    "tags": []
   },
   "outputs": [],
   "source": [
    "#hide\n",
    "# g.head()"
   ]
  },
  {
   "cell_type": "code",
   "execution_count": 26,
   "id": "specific-kruger",
   "metadata": {
    "execution": {
     "iopub.execute_input": "2021-09-19T00:24:06.407543Z",
     "iopub.status.busy": "2021-09-19T00:24:06.406872Z",
     "iopub.status.idle": "2021-09-19T00:24:06.408781Z",
     "shell.execute_reply": "2021-09-19T00:24:06.409351Z"
    },
    "papermill": {
     "duration": 0.040613,
     "end_time": "2021-09-19T00:24:06.409486",
     "exception": false,
     "start_time": "2021-09-19T00:24:06.368873",
     "status": "completed"
    },
    "tags": []
   },
   "outputs": [],
   "source": [
    "#hide\n",
    "# g.columns = ['date','country','cases']"
   ]
  },
  {
   "cell_type": "code",
   "execution_count": 27,
   "id": "tender-conversion",
   "metadata": {
    "execution": {
     "iopub.execute_input": "2021-09-19T00:24:06.489244Z",
     "iopub.status.busy": "2021-09-19T00:24:06.488668Z",
     "iopub.status.idle": "2021-09-19T00:24:06.490743Z",
     "shell.execute_reply": "2021-09-19T00:24:06.491217Z"
    },
    "papermill": {
     "duration": 0.043528,
     "end_time": "2021-09-19T00:24:06.491347",
     "exception": false,
     "start_time": "2021-09-19T00:24:06.447819",
     "status": "completed"
    },
    "tags": []
   },
   "outputs": [],
   "source": [
    "#hide\n",
    "# g['continent'] = g.country"
   ]
  },
  {
   "cell_type": "code",
   "execution_count": 28,
   "id": "substantial-wilderness",
   "metadata": {
    "execution": {
     "iopub.execute_input": "2021-09-19T00:24:06.570433Z",
     "iopub.status.busy": "2021-09-19T00:24:06.569760Z",
     "iopub.status.idle": "2021-09-19T00:24:06.572140Z",
     "shell.execute_reply": "2021-09-19T00:24:06.571525Z"
    },
    "papermill": {
     "duration": 0.044531,
     "end_time": "2021-09-19T00:24:06.572263",
     "exception": false,
     "start_time": "2021-09-19T00:24:06.527732",
     "status": "completed"
    },
    "tags": []
   },
   "outputs": [],
   "source": [
    "#hide\n",
    "# cols = list(g.columns.values)"
   ]
  },
  {
   "cell_type": "code",
   "execution_count": 29,
   "id": "solved-farming",
   "metadata": {
    "execution": {
     "iopub.execute_input": "2021-09-19T00:24:06.646410Z",
     "iopub.status.busy": "2021-09-19T00:24:06.645735Z",
     "iopub.status.idle": "2021-09-19T00:24:06.647979Z",
     "shell.execute_reply": "2021-09-19T00:24:06.648594Z"
    },
    "papermill": {
     "duration": 0.040822,
     "end_time": "2021-09-19T00:24:06.648736",
     "exception": false,
     "start_time": "2021-09-19T00:24:06.607914",
     "status": "completed"
    },
    "tags": []
   },
   "outputs": [],
   "source": [
    "#hide\n",
    "# cols.insert(0, cols.pop())"
   ]
  },
  {
   "cell_type": "code",
   "execution_count": 30,
   "id": "executed-adoption",
   "metadata": {
    "execution": {
     "iopub.execute_input": "2021-09-19T00:24:06.725383Z",
     "iopub.status.busy": "2021-09-19T00:24:06.724804Z",
     "iopub.status.idle": "2021-09-19T00:24:06.727101Z",
     "shell.execute_reply": "2021-09-19T00:24:06.726609Z"
    },
    "papermill": {
     "duration": 0.041947,
     "end_time": "2021-09-19T00:24:06.727217",
     "exception": false,
     "start_time": "2021-09-19T00:24:06.685270",
     "status": "completed"
    },
    "tags": []
   },
   "outputs": [],
   "source": [
    "#hide\n",
    "# g = g[cols]"
   ]
  },
  {
   "cell_type": "code",
   "execution_count": 31,
   "id": "subject-dublin",
   "metadata": {
    "execution": {
     "iopub.execute_input": "2021-09-19T00:24:06.800051Z",
     "iopub.status.busy": "2021-09-19T00:24:06.799272Z",
     "iopub.status.idle": "2021-09-19T00:24:06.801451Z",
     "shell.execute_reply": "2021-09-19T00:24:06.801974Z"
    },
    "papermill": {
     "duration": 0.04055,
     "end_time": "2021-09-19T00:24:06.802095",
     "exception": false,
     "start_time": "2021-09-19T00:24:06.761545",
     "status": "completed"
    },
    "tags": []
   },
   "outputs": [],
   "source": [
    "#hide\n",
    "# g['continent'] = g['continent'].map(mapping['map.continent'])"
   ]
  },
  {
   "cell_type": "code",
   "execution_count": 32,
   "id": "freelance-scout",
   "metadata": {
    "execution": {
     "iopub.execute_input": "2021-09-19T00:24:06.876875Z",
     "iopub.status.busy": "2021-09-19T00:24:06.876209Z",
     "iopub.status.idle": "2021-09-19T00:24:06.878117Z",
     "shell.execute_reply": "2021-09-19T00:24:06.878667Z"
    },
    "papermill": {
     "duration": 0.042766,
     "end_time": "2021-09-19T00:24:06.878809",
     "exception": false,
     "start_time": "2021-09-19T00:24:06.836043",
     "status": "completed"
    },
    "tags": []
   },
   "outputs": [],
   "source": [
    "#hide\n",
    "# g.head()"
   ]
  },
  {
   "cell_type": "code",
   "execution_count": 33,
   "id": "limited-engine",
   "metadata": {
    "execution": {
     "iopub.execute_input": "2021-09-19T00:24:06.965771Z",
     "iopub.status.busy": "2021-09-19T00:24:06.964936Z",
     "iopub.status.idle": "2021-09-19T00:24:06.966950Z",
     "shell.execute_reply": "2021-09-19T00:24:06.966423Z"
    },
    "papermill": {
     "duration": 0.050249,
     "end_time": "2021-09-19T00:24:06.967074",
     "exception": false,
     "start_time": "2021-09-19T00:24:06.916825",
     "status": "completed"
    },
    "tags": []
   },
   "outputs": [],
   "source": [
    "# hide\n",
    "# g['date'] = g['date'].astype('datetime64[ns]')"
   ]
  },
  {
   "cell_type": "code",
   "execution_count": 34,
   "id": "sophisticated-supervisor",
   "metadata": {
    "execution": {
     "iopub.execute_input": "2021-09-19T00:24:07.051968Z",
     "iopub.status.busy": "2021-09-19T00:24:07.051079Z",
     "iopub.status.idle": "2021-09-19T00:24:07.053382Z",
     "shell.execute_reply": "2021-09-19T00:24:07.053951Z"
    },
    "papermill": {
     "duration": 0.044006,
     "end_time": "2021-09-19T00:24:07.054096",
     "exception": false,
     "start_time": "2021-09-19T00:24:07.010090",
     "status": "completed"
    },
    "tags": []
   },
   "outputs": [],
   "source": [
    "#hide\n",
    "# g['date'] = g.date.dt.dayofyear"
   ]
  },
  {
   "cell_type": "code",
   "execution_count": 35,
   "id": "inside-dubai",
   "metadata": {
    "execution": {
     "iopub.execute_input": "2021-09-19T00:24:07.131757Z",
     "iopub.status.busy": "2021-09-19T00:24:07.131096Z",
     "iopub.status.idle": "2021-09-19T00:24:07.133972Z",
     "shell.execute_reply": "2021-09-19T00:24:07.133303Z"
    },
    "papermill": {
     "duration": 0.043583,
     "end_time": "2021-09-19T00:24:07.134103",
     "exception": false,
     "start_time": "2021-09-19T00:24:07.090520",
     "status": "completed"
    },
    "tags": []
   },
   "outputs": [],
   "source": [
    "#hide\n",
    "# g = g.rename(columns= {'continent':'group','country':'name','cases':'value'})"
   ]
  },
  {
   "cell_type": "code",
   "execution_count": 36,
   "id": "fleet-motorcycle",
   "metadata": {
    "execution": {
     "iopub.execute_input": "2021-09-19T00:24:07.209689Z",
     "iopub.status.busy": "2021-09-19T00:24:07.209110Z",
     "iopub.status.idle": "2021-09-19T00:24:07.211081Z",
     "shell.execute_reply": "2021-09-19T00:24:07.211558Z"
    },
    "papermill": {
     "duration": 0.04008,
     "end_time": "2021-09-19T00:24:07.211700",
     "exception": false,
     "start_time": "2021-09-19T00:24:07.171620",
     "status": "completed"
    },
    "tags": []
   },
   "outputs": [],
   "source": [
    "#hide\n",
    "# cols = ['name','group','day','value']"
   ]
  },
  {
   "cell_type": "code",
   "execution_count": 37,
   "id": "continued-sleeping",
   "metadata": {
    "execution": {
     "iopub.execute_input": "2021-09-19T00:24:07.289450Z",
     "iopub.status.busy": "2021-09-19T00:24:07.288870Z",
     "iopub.status.idle": "2021-09-19T00:24:07.290754Z",
     "shell.execute_reply": "2021-09-19T00:24:07.291258Z"
    },
    "papermill": {
     "duration": 0.042503,
     "end_time": "2021-09-19T00:24:07.291386",
     "exception": false,
     "start_time": "2021-09-19T00:24:07.248883",
     "status": "completed"
    },
    "tags": []
   },
   "outputs": [],
   "source": [
    "#hide\n",
    "# g.rename(columns= {'date':'day'},inplace = True)"
   ]
  },
  {
   "cell_type": "code",
   "execution_count": 38,
   "id": "major-fight",
   "metadata": {
    "execution": {
     "iopub.execute_input": "2021-09-19T00:24:07.373544Z",
     "iopub.status.busy": "2021-09-19T00:24:07.372879Z",
     "iopub.status.idle": "2021-09-19T00:24:07.375440Z",
     "shell.execute_reply": "2021-09-19T00:24:07.374891Z"
    },
    "papermill": {
     "duration": 0.047767,
     "end_time": "2021-09-19T00:24:07.375568",
     "exception": false,
     "start_time": "2021-09-19T00:24:07.327801",
     "status": "completed"
    },
    "tags": []
   },
   "outputs": [],
   "source": [
    "#hide\n",
    "# g = g[cols]"
   ]
  },
  {
   "cell_type": "code",
   "execution_count": 39,
   "id": "structured-mobile",
   "metadata": {
    "execution": {
     "iopub.execute_input": "2021-09-19T00:24:07.454294Z",
     "iopub.status.busy": "2021-09-19T00:24:07.453603Z",
     "iopub.status.idle": "2021-09-19T00:24:07.455598Z",
     "shell.execute_reply": "2021-09-19T00:24:07.456148Z"
    },
    "papermill": {
     "duration": 0.041704,
     "end_time": "2021-09-19T00:24:07.456289",
     "exception": false,
     "start_time": "2021-09-19T00:24:07.414585",
     "status": "completed"
    },
    "tags": []
   },
   "outputs": [],
   "source": [
    "# #hide\n",
    "# g = g[g.group.notna()]"
   ]
  },
  {
   "cell_type": "code",
   "execution_count": 40,
   "id": "determined-closing",
   "metadata": {
    "execution": {
     "iopub.execute_input": "2021-09-19T00:24:07.532988Z",
     "iopub.status.busy": "2021-09-19T00:24:07.532371Z",
     "iopub.status.idle": "2021-09-19T00:24:07.534239Z",
     "shell.execute_reply": "2021-09-19T00:24:07.534797Z"
    },
    "papermill": {
     "duration": 0.041117,
     "end_time": "2021-09-19T00:24:07.534923",
     "exception": false,
     "start_time": "2021-09-19T00:24:07.493806",
     "status": "completed"
    },
    "tags": []
   },
   "outputs": [],
   "source": [
    "# #hide\n",
    "# colors = dict(zip(\n",
    "#     [\"Oceania\", \"Europe\", \"Asia\", \"South America\", \"Middle East\", \"North America\", \"Africa\"],\n",
    "#     [\"#adb0ff\", \"#ffb3ff\", \"#90d595\", \"#e48381\", \"#aafbff\", \"#f7bb5f\", \"#eafb50\"]\n",
    "# ))\n",
    "# group_lk = g.set_index('name')['group'].to_dict()"
   ]
  },
  {
   "cell_type": "code",
   "execution_count": null,
   "id": "gross-drinking",
   "metadata": {
    "papermill": {
     "duration": 0.042878,
     "end_time": "2021-09-19T00:24:07.615016",
     "exception": false,
     "start_time": "2021-09-19T00:24:07.572138",
     "status": "completed"
    },
    "tags": []
   },
   "outputs": [],
   "source": []
  },
  {
   "cell_type": "code",
   "execution_count": 41,
   "id": "subject-macintosh",
   "metadata": {
    "execution": {
     "iopub.execute_input": "2021-09-19T00:24:07.703936Z",
     "iopub.status.busy": "2021-09-19T00:24:07.703283Z",
     "iopub.status.idle": "2021-09-19T00:24:07.705720Z",
     "shell.execute_reply": "2021-09-19T00:24:07.705202Z"
    },
    "papermill": {
     "duration": 0.044828,
     "end_time": "2021-09-19T00:24:07.705841",
     "exception": false,
     "start_time": "2021-09-19T00:24:07.661013",
     "status": "completed"
    },
    "tags": []
   },
   "outputs": [],
   "source": [
    "# #hide\n",
    "# fig, ax = plt.subplots(figsize=(15, 8))\n",
    "\n",
    "# def draw_barchart(current_day):\n",
    "#     dff = g[g['day'].eq(current_day)].sort_values(by='value', ascending=True).tail(10)\n",
    "#     ax.clear()\n",
    "#     ax.barh(dff['name'], dff['value'], color=[colors[group_lk[x]] for x in dff['name']])\n",
    "#     dx = dff['value'].max() / 200\n",
    "    \n",
    "#     for i, (value, name) in enumerate(zip(dff['value'], dff['name'])):\n",
    "#         ax.text(value-dx, i,     name,           size=14, weight=600, ha='right', va='bottom')\n",
    "#         ax.text(value-dx, i-.25, group_lk[name], size=10, color='#444444', ha='right', va='baseline')\n",
    "#         ax.text(value+dx, i,     f'{value:,.0f}',  size=14, ha='left',  va='center')\n",
    "#     ax.text(1, 0.4, current_day, transform=ax.transAxes, color='#777777', size=46, ha='right', weight=800)\n",
    "#     ax.text(0, 1.06, 'Population (thousands)', transform=ax.transAxes, size=12, color='#777777')\n",
    "#     ax.xaxis.set_major_formatter(ticker.StrMethodFormatter('{x:,.0f}'))\n",
    "#     ax.xaxis.set_ticks_position('top')\n",
    "#     ax.tick_params(axis='x', colors='#777777', labelsize=12)\n",
    "#     ax.set_yticks([])\n",
    "#     ax.margins(0, 0.01)\n",
    "#     ax.grid(which='major', axis='x', linestyle='-')\n",
    "#     ax.set_axisbelow(True)\n",
    "    \n",
    "#     ax.text(0, 1.15, 'Coronavirus',\n",
    "#             transform=ax.transAxes, size=24, weight=600, ha='left', va='top')\n",
    "# #     ax.text(1, 0, 'by @pratapvardhan; credit @jburnmurdoch', transform=ax.transAxes, color='#777777', ha='right',\n",
    "# #             bbox=dict(facecolor='white', alpha=0.8, edgecolor='white'))\n",
    "#     plt.box(False)"
   ]
  },
  {
   "cell_type": "code",
   "execution_count": 42,
   "id": "sexual-wages",
   "metadata": {
    "execution": {
     "iopub.execute_input": "2021-09-19T00:24:07.778878Z",
     "iopub.status.busy": "2021-09-19T00:24:07.778273Z",
     "iopub.status.idle": "2021-09-19T00:24:07.780119Z",
     "shell.execute_reply": "2021-09-19T00:24:07.780721Z"
    },
    "papermill": {
     "duration": 0.040047,
     "end_time": "2021-09-19T00:24:07.780852",
     "exception": false,
     "start_time": "2021-09-19T00:24:07.740805",
     "status": "completed"
    },
    "tags": []
   },
   "outputs": [],
   "source": [
    "# #hide_input\n",
    "# fig, ax = plt.subplots(figsize=(15, 8))\n",
    "# animator = animation.FuncAnimation(fig, draw_barchart, frames=range(g.day.values.min(), g.day.values.max()))\n",
    "# HTML(animator.to_jshtml())\n",
    "# # or use animator.to_html5_video() or animator.save() "
   ]
  },
  {
   "cell_type": "code",
   "execution_count": null,
   "id": "australian-container",
   "metadata": {
    "papermill": {
     "duration": 0.0417,
     "end_time": "2021-09-19T00:24:07.859757",
     "exception": false,
     "start_time": "2021-09-19T00:24:07.818057",
     "status": "completed"
    },
    "tags": []
   },
   "outputs": [],
   "source": []
  },
  {
   "cell_type": "code",
   "execution_count": null,
   "id": "mediterranean-pontiac",
   "metadata": {
    "papermill": {
     "duration": 0.036838,
     "end_time": "2021-09-19T00:24:07.934722",
     "exception": false,
     "start_time": "2021-09-19T00:24:07.897884",
     "status": "completed"
    },
    "tags": []
   },
   "outputs": [],
   "source": []
  },
  {
   "cell_type": "code",
   "execution_count": null,
   "id": "aging-legislature",
   "metadata": {
    "papermill": {
     "duration": 0.035358,
     "end_time": "2021-09-19T00:24:08.006785",
     "exception": false,
     "start_time": "2021-09-19T00:24:07.971427",
     "status": "completed"
    },
    "tags": []
   },
   "outputs": [],
   "source": []
  }
 ],
 "metadata": {
  "kernelspec": {
   "display_name": "Python 3",
   "language": "python",
   "name": "python3"
  },
  "language_info": {
   "codemirror_mode": {
    "name": "ipython",
    "version": 3
   },
   "file_extension": ".py",
   "mimetype": "text/x-python",
   "name": "python",
   "nbconvert_exporter": "python",
   "pygments_lexer": "ipython3",
   "version": "3.6.15"
  },
  "papermill": {
   "duration": 7.126308,
   "end_time": "2021-09-19T00:24:08.352527",
   "environment_variables": {},
   "exception": null,
   "input_path": "2020-03-21-covid19exp.ipynb",
   "output_path": "2020-03-21-covid19exp.ipynb",
   "parameters": {},
   "start_time": "2021-09-19T00:24:01.226219",
   "version": "2.0.0"
  }
 },
 "nbformat": 4,
 "nbformat_minor": 5
}