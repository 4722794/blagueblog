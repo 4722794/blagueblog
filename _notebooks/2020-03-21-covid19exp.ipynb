{
 "cells": [
  {
   "cell_type": "markdown",
   "id": "muslim-click",
   "metadata": {
    "papermill": {
     "duration": 0.035105,
     "end_time": "2022-11-23T00:39:19.612278",
     "exception": false,
     "start_time": "2022-11-23T00:39:19.577173",
     "status": "completed"
    },
    "tags": []
   },
   "source": [
    "# COVID-19 Case Race\n",
    "> A race chart to see rising cases around the world\n",
    "\n",
    "- author: Hargun Oberoi\n",
    "- image: images/covid-overview.png\n",
    "- hide: false\n",
    "- badges: false"
   ]
  },
  {
   "cell_type": "code",
   "execution_count": 1,
   "id": "proof-material",
   "metadata": {
    "execution": {
     "iopub.execute_input": "2022-11-23T00:39:19.682467Z",
     "iopub.status.busy": "2022-11-23T00:39:19.681909Z",
     "iopub.status.idle": "2022-11-23T00:39:19.988295Z",
     "shell.execute_reply": "2022-11-23T00:39:19.987812Z"
    },
    "papermill": {
     "duration": 0.345488,
     "end_time": "2022-11-23T00:39:19.988427",
     "exception": false,
     "start_time": "2022-11-23T00:39:19.642939",
     "status": "completed"
    },
    "tags": []
   },
   "outputs": [],
   "source": [
    "#hide\n",
    "import numpy as np\n",
    "import pandas as pd\n",
    "from jinja2 import Template\n",
    "from IPython.display import HTML"
   ]
  },
  {
   "cell_type": "code",
   "execution_count": 2,
   "id": "developed-terminology",
   "metadata": {
    "execution": {
     "iopub.execute_input": "2022-11-23T00:39:20.053097Z",
     "iopub.status.busy": "2022-11-23T00:39:20.052526Z",
     "iopub.status.idle": "2022-11-23T00:39:20.054597Z",
     "shell.execute_reply": "2022-11-23T00:39:20.055039Z"
    },
    "papermill": {
     "duration": 0.036605,
     "end_time": "2022-11-23T00:39:20.055154",
     "exception": false,
     "start_time": "2022-11-23T00:39:20.018549",
     "status": "completed"
    },
    "tags": []
   },
   "outputs": [],
   "source": [
    "#hide\n",
    "\n",
    "# FETCH\n",
    "base_url = 'https://raw.githubusercontent.com/pratapvardhan/notebooks/master/covid19/'\n",
    "paths = {\n",
    "    'mapping': base_url + 'mapping_countries.csv',\n",
    "    'overview': base_url + 'overview.tpl'\n",
    "}"
   ]
  },
  {
   "cell_type": "code",
   "execution_count": 3,
   "id": "dynamic-saver",
   "metadata": {
    "execution": {
     "iopub.execute_input": "2022-11-23T00:39:20.123696Z",
     "iopub.status.busy": "2022-11-23T00:39:20.123111Z",
     "iopub.status.idle": "2022-11-23T00:39:20.126513Z",
     "shell.execute_reply": "2022-11-23T00:39:20.125980Z"
    },
    "papermill": {
     "duration": 0.041681,
     "end_time": "2022-11-23T00:39:20.126613",
     "exception": false,
     "start_time": "2022-11-23T00:39:20.084932",
     "status": "completed"
    },
    "tags": []
   },
   "outputs": [
    {
     "data": {
      "text/plain": [
       "'https://raw.githubusercontent.com/pratapvardhan/notebooks/master/covid19/mapping_countries.csv'"
      ]
     },
     "execution_count": 3,
     "metadata": {},
     "output_type": "execute_result"
    }
   ],
   "source": [
    "#hide\n",
    "paths['mapping']"
   ]
  },
  {
   "cell_type": "code",
   "execution_count": 4,
   "id": "urban-software",
   "metadata": {
    "execution": {
     "iopub.execute_input": "2022-11-23T00:39:20.192303Z",
     "iopub.status.busy": "2022-11-23T00:39:20.191731Z",
     "iopub.status.idle": "2022-11-23T00:39:20.194258Z",
     "shell.execute_reply": "2022-11-23T00:39:20.193807Z"
    },
    "papermill": {
     "duration": 0.037293,
     "end_time": "2022-11-23T00:39:20.194356",
     "exception": false,
     "start_time": "2022-11-23T00:39:20.157063",
     "status": "completed"
    },
    "tags": []
   },
   "outputs": [],
   "source": [
    "#hide\n",
    "def get_mappings(url):\n",
    "    df = pd.read_csv(url)\n",
    "    return {\n",
    "        'df': df,\n",
    "        'replace.country': dict(df.dropna(subset=['Name']).set_index('Country')['Name']),\n",
    "        'map.continent': dict(df.set_index('Name')['Continent'])\n",
    "    }"
   ]
  },
  {
   "cell_type": "code",
   "execution_count": 5,
   "id": "intimate-machinery",
   "metadata": {
    "execution": {
     "iopub.execute_input": "2022-11-23T00:39:20.259778Z",
     "iopub.status.busy": "2022-11-23T00:39:20.259205Z",
     "iopub.status.idle": "2022-11-23T00:39:20.296965Z",
     "shell.execute_reply": "2022-11-23T00:39:20.296495Z"
    },
    "papermill": {
     "duration": 0.07235,
     "end_time": "2022-11-23T00:39:20.297072",
     "exception": false,
     "start_time": "2022-11-23T00:39:20.224722",
     "status": "completed"
    },
    "tags": []
   },
   "outputs": [],
   "source": [
    "#hide\n",
    "mapping = get_mappings(paths['mapping'])"
   ]
  },
  {
   "cell_type": "code",
   "execution_count": 6,
   "id": "certified-tactics",
   "metadata": {
    "execution": {
     "iopub.execute_input": "2022-11-23T00:39:20.361959Z",
     "iopub.status.busy": "2022-11-23T00:39:20.361411Z",
     "iopub.status.idle": "2022-11-23T00:39:20.363676Z",
     "shell.execute_reply": "2022-11-23T00:39:20.364111Z"
    },
    "papermill": {
     "duration": 0.036892,
     "end_time": "2022-11-23T00:39:20.364226",
     "exception": false,
     "start_time": "2022-11-23T00:39:20.327334",
     "status": "completed"
    },
    "tags": []
   },
   "outputs": [],
   "source": [
    "#hide\n",
    "def get_template(path):\n",
    "    from urllib.parse import urlparse\n",
    "    if bool(urlparse(path).netloc):\n",
    "        from urllib.request import urlopen\n",
    "        return urlopen(path).read().decode('utf8')\n",
    "    return open(path).read()"
   ]
  },
  {
   "cell_type": "code",
   "execution_count": 7,
   "id": "realistic-blast",
   "metadata": {
    "execution": {
     "iopub.execute_input": "2022-11-23T00:39:20.429291Z",
     "iopub.status.busy": "2022-11-23T00:39:20.428717Z",
     "iopub.status.idle": "2022-11-23T00:39:20.431427Z",
     "shell.execute_reply": "2022-11-23T00:39:20.430965Z"
    },
    "papermill": {
     "duration": 0.037165,
     "end_time": "2022-11-23T00:39:20.431549",
     "exception": false,
     "start_time": "2022-11-23T00:39:20.394384",
     "status": "completed"
    },
    "tags": []
   },
   "outputs": [],
   "source": [
    "#hide\n",
    "def get_frame(name):\n",
    "    url = (\n",
    "        'https://raw.githubusercontent.com/CSSEGISandData/COVID-19/master/csse_covid_19_data/'\n",
    "        f'csse_covid_19_time_series/time_series_covid19_{name}_global.csv')\n",
    "    df = pd.read_csv(url)\n",
    "    # rename countries\n",
    "    df['Country/Region'] = df['Country/Region'].replace(mapping['replace.country'])\n",
    "    return df"
   ]
  },
  {
   "cell_type": "code",
   "execution_count": 8,
   "id": "affiliated-characterization",
   "metadata": {
    "execution": {
     "iopub.execute_input": "2022-11-23T00:39:20.497714Z",
     "iopub.status.busy": "2022-11-23T00:39:20.497134Z",
     "iopub.status.idle": "2022-11-23T00:39:20.499837Z",
     "shell.execute_reply": "2022-11-23T00:39:20.499380Z"
    },
    "papermill": {
     "duration": 0.03798,
     "end_time": "2022-11-23T00:39:20.499938",
     "exception": false,
     "start_time": "2022-11-23T00:39:20.461958",
     "status": "completed"
    },
    "tags": []
   },
   "outputs": [],
   "source": [
    "#hide\n",
    "def get_dates(df):\n",
    "    dt_cols = df.columns[~df.columns.isin(['Province/State', 'Country/Region', 'Lat', 'Long'])]\n",
    "    LAST_DATE_I = -1\n",
    "    # sometimes last column may be empty, then go backwards\n",
    "    for i in range(-1, -len(dt_cols), -1):\n",
    "        if not df[dt_cols[i]].fillna(0).eq(0).all():\n",
    "            LAST_DATE_I = i\n",
    "            break\n",
    "    return LAST_DATE_I, dt_cols"
   ]
  },
  {
   "cell_type": "code",
   "execution_count": 9,
   "id": "recent-optimization",
   "metadata": {
    "execution": {
     "iopub.execute_input": "2022-11-23T00:39:20.565259Z",
     "iopub.status.busy": "2022-11-23T00:39:20.564671Z",
     "iopub.status.idle": "2022-11-23T00:39:21.048605Z",
     "shell.execute_reply": "2022-11-23T00:39:21.048130Z"
    },
    "papermill": {
     "duration": 0.518611,
     "end_time": "2022-11-23T00:39:21.048723",
     "exception": false,
     "start_time": "2022-11-23T00:39:20.530112",
     "status": "completed"
    },
    "tags": []
   },
   "outputs": [],
   "source": [
    "#hide\n",
    "COL_REGION = 'Country/Region'\n",
    "# Confirmed, Recovered, Deaths\n",
    "df = get_frame('confirmed')\n",
    "# dft_: timeseries, dfc_: today country agg\n",
    "dft_cases = df\n",
    "dft_deaths = get_frame('deaths')\n",
    "dft_recovered = get_frame('recovered')\n",
    "LAST_DATE_I, dt_cols = get_dates(df)"
   ]
  },
  {
   "cell_type": "code",
   "execution_count": 10,
   "id": "absolute-copper",
   "metadata": {
    "execution": {
     "iopub.execute_input": "2022-11-23T00:39:21.114680Z",
     "iopub.status.busy": "2022-11-23T00:39:21.114126Z",
     "iopub.status.idle": "2022-11-23T00:39:21.117696Z",
     "shell.execute_reply": "2022-11-23T00:39:21.118117Z"
    },
    "papermill": {
     "duration": 0.039022,
     "end_time": "2022-11-23T00:39:21.118235",
     "exception": false,
     "start_time": "2022-11-23T00:39:21.079213",
     "status": "completed"
    },
    "tags": []
   },
   "outputs": [],
   "source": [
    "#hide\n",
    "LAST_DATE_I, dt_cols = get_dates(df)\n",
    "dt_today =dt_cols[LAST_DATE_I]\n",
    "# dt_5day = dt_cols[LAST_DATE_I - 5]\n",
    "dt_yday = dt_cols[LAST_DATE_I - 1]"
   ]
  },
  {
   "cell_type": "code",
   "execution_count": 11,
   "id": "restricted-sheriff",
   "metadata": {
    "execution": {
     "iopub.execute_input": "2022-11-23T00:39:21.185167Z",
     "iopub.status.busy": "2022-11-23T00:39:21.184618Z",
     "iopub.status.idle": "2022-11-23T00:39:21.190514Z",
     "shell.execute_reply": "2022-11-23T00:39:21.189976Z"
    },
    "papermill": {
     "duration": 0.04224,
     "end_time": "2022-11-23T00:39:21.190616",
     "exception": false,
     "start_time": "2022-11-23T00:39:21.148376",
     "status": "completed"
    },
    "tags": []
   },
   "outputs": [],
   "source": [
    "#hide\n",
    "dfc_cases = dft_cases.groupby(COL_REGION)[dt_today].sum()\n",
    "dfc_deaths = dft_deaths.groupby(COL_REGION)[dt_today].sum()\n",
    "# dfp_cases = dft_cases.groupby(COL_REGION)[dt_5day].sum()\n",
    "# dfp_deaths = dft_deaths.groupby(COL_REGION)[dt_5day].sum()\n",
    "dfp_cases = dft_cases.groupby(COL_REGION)[dt_yday].sum()\n",
    "dfp_deaths = dft_deaths.groupby(COL_REGION)[dt_yday].sum()"
   ]
  },
  {
   "cell_type": "code",
   "execution_count": 12,
   "id": "deluxe-hepatitis",
   "metadata": {
    "execution": {
     "iopub.execute_input": "2022-11-23T00:39:21.256483Z",
     "iopub.status.busy": "2022-11-23T00:39:21.255919Z",
     "iopub.status.idle": "2022-11-23T00:39:21.260920Z",
     "shell.execute_reply": "2022-11-23T00:39:21.260465Z"
    },
    "papermill": {
     "duration": 0.039981,
     "end_time": "2022-11-23T00:39:21.261019",
     "exception": false,
     "start_time": "2022-11-23T00:39:21.221038",
     "status": "completed"
    },
    "tags": []
   },
   "outputs": [],
   "source": [
    "#hide\n",
    "df_table = (pd.DataFrame(dict(Cases = dfc_cases, Deaths = dfc_deaths, PCases = dfp_cases, PDeaths = dfp_deaths))\n",
    "            .sort_values(by = ['Cases','Deaths'], ascending = [False, False])\n",
    "            .reset_index())"
   ]
  },
  {
   "cell_type": "code",
   "execution_count": 13,
   "id": "educational-chancellor",
   "metadata": {
    "execution": {
     "iopub.execute_input": "2022-11-23T00:39:21.341735Z",
     "iopub.status.busy": "2022-11-23T00:39:21.336642Z",
     "iopub.status.idle": "2022-11-23T00:39:21.344547Z",
     "shell.execute_reply": "2022-11-23T00:39:21.344990Z"
    },
    "papermill": {
     "duration": 0.053906,
     "end_time": "2022-11-23T00:39:21.345105",
     "exception": false,
     "start_time": "2022-11-23T00:39:21.291199",
     "status": "completed"
    },
    "tags": []
   },
   "outputs": [
    {
     "data": {
      "text/html": [
       "<div>\n",
       "<style scoped>\n",
       "    .dataframe tbody tr th:only-of-type {\n",
       "        vertical-align: middle;\n",
       "    }\n",
       "\n",
       "    .dataframe tbody tr th {\n",
       "        vertical-align: top;\n",
       "    }\n",
       "\n",
       "    .dataframe thead th {\n",
       "        text-align: right;\n",
       "    }\n",
       "</style>\n",
       "<table border=\"1\" class=\"dataframe\">\n",
       "  <thead>\n",
       "    <tr style=\"text-align: right;\">\n",
       "      <th></th>\n",
       "      <th>Country/Region</th>\n",
       "      <th>Cases</th>\n",
       "      <th>Deaths</th>\n",
       "      <th>PCases</th>\n",
       "      <th>PDeaths</th>\n",
       "      <th>Cases (+)</th>\n",
       "      <th>Deaths (+)</th>\n",
       "      <th>Fatality Rate</th>\n",
       "      <th>Continent</th>\n",
       "    </tr>\n",
       "  </thead>\n",
       "  <tbody>\n",
       "    <tr>\n",
       "      <th>0</th>\n",
       "      <td>US</td>\n",
       "      <td>98351547</td>\n",
       "      <td>1077225</td>\n",
       "      <td>98308990</td>\n",
       "      <td>1077031</td>\n",
       "      <td>42557</td>\n",
       "      <td>194</td>\n",
       "      <td>1.10</td>\n",
       "      <td>North America</td>\n",
       "    </tr>\n",
       "    <tr>\n",
       "      <th>1</th>\n",
       "      <td>India</td>\n",
       "      <td>44670940</td>\n",
       "      <td>530591</td>\n",
       "      <td>44670646</td>\n",
       "      <td>530586</td>\n",
       "      <td>294</td>\n",
       "      <td>5</td>\n",
       "      <td>1.19</td>\n",
       "      <td>Asia</td>\n",
       "    </tr>\n",
       "    <tr>\n",
       "      <th>2</th>\n",
       "      <td>France</td>\n",
       "      <td>37576243</td>\n",
       "      <td>159378</td>\n",
       "      <td>37508185</td>\n",
       "      <td>159203</td>\n",
       "      <td>68058</td>\n",
       "      <td>175</td>\n",
       "      <td>0.42</td>\n",
       "      <td>Europe</td>\n",
       "    </tr>\n",
       "    <tr>\n",
       "      <th>3</th>\n",
       "      <td>Germany</td>\n",
       "      <td>36247081</td>\n",
       "      <td>156812</td>\n",
       "      <td>36205405</td>\n",
       "      <td>156613</td>\n",
       "      <td>41676</td>\n",
       "      <td>199</td>\n",
       "      <td>0.43</td>\n",
       "      <td>Europe</td>\n",
       "    </tr>\n",
       "    <tr>\n",
       "      <th>4</th>\n",
       "      <td>Brazil</td>\n",
       "      <td>34999495</td>\n",
       "      <td>688907</td>\n",
       "      <td>34999495</td>\n",
       "      <td>688907</td>\n",
       "      <td>0</td>\n",
       "      <td>0</td>\n",
       "      <td>1.97</td>\n",
       "      <td>South America</td>\n",
       "    </tr>\n",
       "  </tbody>\n",
       "</table>\n",
       "</div>"
      ],
      "text/plain": [
       "  Country/Region     Cases   Deaths    PCases  PDeaths  Cases (+)  Deaths (+)  \\\n",
       "0             US  98351547  1077225  98308990  1077031      42557         194   \n",
       "1          India  44670940   530591  44670646   530586        294           5   \n",
       "2         France  37576243   159378  37508185   159203      68058         175   \n",
       "3        Germany  36247081   156812  36205405   156613      41676         199   \n",
       "4         Brazil  34999495   688907  34999495   688907          0           0   \n",
       "\n",
       "   Fatality Rate      Continent  \n",
       "0           1.10  North America  \n",
       "1           1.19           Asia  \n",
       "2           0.42         Europe  \n",
       "3           0.43         Europe  \n",
       "4           1.97  South America  "
      ]
     },
     "execution_count": 13,
     "metadata": {},
     "output_type": "execute_result"
    }
   ],
   "source": [
    "#hide\n",
    "for c in 'Cases, Deaths'.split(', '):\n",
    "    df_table[f'{c} (+)'] = (df_table[c] - df_table[f'P{c}']).clip(0)\n",
    "    #Clip ça veut dire, les chiffres negatif sont interdit\n",
    "df_table['Fatality Rate'] = (100* df_table['Deaths']/ df_table['Cases']).round(2)\n",
    "df_table['Continent'] = df_table['Country/Region'].map(mapping['map.continent'])\n",
    "df_table.head(5)"
   ]
  },
  {
   "cell_type": "code",
   "execution_count": 14,
   "id": "aboriginal-bulgaria",
   "metadata": {
    "execution": {
     "iopub.execute_input": "2022-11-23T00:39:21.412167Z",
     "iopub.status.busy": "2022-11-23T00:39:21.411583Z",
     "iopub.status.idle": "2022-11-23T00:39:21.413462Z",
     "shell.execute_reply": "2022-11-23T00:39:21.413858Z"
    },
    "papermill": {
     "duration": 0.0381,
     "end_time": "2022-11-23T00:39:21.413975",
     "exception": false,
     "start_time": "2022-11-23T00:39:21.375875",
     "status": "completed"
    },
    "tags": []
   },
   "outputs": [],
   "source": [
    "#hide\n",
    "#delete problematic countries from table\n",
    "df_table = df_table[~df_table['Country/Region'].isin(['Cape Verde', 'Cruise Ship', 'Kosovo'])]"
   ]
  },
  {
   "cell_type": "code",
   "execution_count": 15,
   "id": "fantastic-effect",
   "metadata": {
    "execution": {
     "iopub.execute_input": "2022-11-23T00:39:21.495937Z",
     "iopub.status.busy": "2022-11-23T00:39:21.482360Z",
     "iopub.status.idle": "2022-11-23T00:39:21.498844Z",
     "shell.execute_reply": "2022-11-23T00:39:21.499274Z"
    },
    "papermill": {
     "duration": 0.054743,
     "end_time": "2022-11-23T00:39:21.499391",
     "exception": false,
     "start_time": "2022-11-23T00:39:21.444648",
     "status": "completed"
    },
    "tags": []
   },
   "outputs": [
    {
     "data": {
      "text/html": [
       "<div>\n",
       "<style scoped>\n",
       "    .dataframe tbody tr th:only-of-type {\n",
       "        vertical-align: middle;\n",
       "    }\n",
       "\n",
       "    .dataframe tbody tr th {\n",
       "        vertical-align: top;\n",
       "    }\n",
       "\n",
       "    .dataframe thead th {\n",
       "        text-align: right;\n",
       "    }\n",
       "</style>\n",
       "<table border=\"1\" class=\"dataframe\">\n",
       "  <thead>\n",
       "    <tr style=\"text-align: right;\">\n",
       "      <th></th>\n",
       "      <th>Country/Region</th>\n",
       "      <th>Cases</th>\n",
       "      <th>Deaths</th>\n",
       "      <th>PCases</th>\n",
       "      <th>PDeaths</th>\n",
       "      <th>Cases (+)</th>\n",
       "      <th>Deaths (+)</th>\n",
       "      <th>Fatality Rate</th>\n",
       "      <th>Continent</th>\n",
       "    </tr>\n",
       "  </thead>\n",
       "  <tbody>\n",
       "    <tr>\n",
       "      <th>0</th>\n",
       "      <td>US</td>\n",
       "      <td>98351547</td>\n",
       "      <td>1077225</td>\n",
       "      <td>98308990</td>\n",
       "      <td>1077031</td>\n",
       "      <td>42557</td>\n",
       "      <td>194</td>\n",
       "      <td>1.1</td>\n",
       "      <td>North America</td>\n",
       "    </tr>\n",
       "    <tr>\n",
       "      <th>1</th>\n",
       "      <td>India</td>\n",
       "      <td>44670940</td>\n",
       "      <td>530591</td>\n",
       "      <td>44670646</td>\n",
       "      <td>530586</td>\n",
       "      <td>294</td>\n",
       "      <td>5</td>\n",
       "      <td>1.2</td>\n",
       "      <td>Asia</td>\n",
       "    </tr>\n",
       "    <tr>\n",
       "      <th>2</th>\n",
       "      <td>France</td>\n",
       "      <td>37576243</td>\n",
       "      <td>159378</td>\n",
       "      <td>37508185</td>\n",
       "      <td>159203</td>\n",
       "      <td>68058</td>\n",
       "      <td>175</td>\n",
       "      <td>0.4</td>\n",
       "      <td>Europe</td>\n",
       "    </tr>\n",
       "    <tr>\n",
       "      <th>3</th>\n",
       "      <td>Germany</td>\n",
       "      <td>36247081</td>\n",
       "      <td>156812</td>\n",
       "      <td>36205405</td>\n",
       "      <td>156613</td>\n",
       "      <td>41676</td>\n",
       "      <td>199</td>\n",
       "      <td>0.4</td>\n",
       "      <td>Europe</td>\n",
       "    </tr>\n",
       "    <tr>\n",
       "      <th>4</th>\n",
       "      <td>Brazil</td>\n",
       "      <td>34999495</td>\n",
       "      <td>688907</td>\n",
       "      <td>34999495</td>\n",
       "      <td>688907</td>\n",
       "      <td>0</td>\n",
       "      <td>0</td>\n",
       "      <td>2.0</td>\n",
       "      <td>South America</td>\n",
       "    </tr>\n",
       "  </tbody>\n",
       "</table>\n",
       "</div>"
      ],
      "text/plain": [
       "  Country/Region     Cases   Deaths    PCases  PDeaths  Cases (+)  Deaths (+)  \\\n",
       "0             US  98351547  1077225  98308990  1077031      42557         194   \n",
       "1          India  44670940   530591  44670646   530586        294           5   \n",
       "2         France  37576243   159378  37508185   159203      68058         175   \n",
       "3        Germany  36247081   156812  36205405   156613      41676         199   \n",
       "4         Brazil  34999495   688907  34999495   688907          0           0   \n",
       "\n",
       "   Fatality Rate      Continent  \n",
       "0            1.1  North America  \n",
       "1            1.2           Asia  \n",
       "2            0.4         Europe  \n",
       "3            0.4         Europe  \n",
       "4            2.0  South America  "
      ]
     },
     "execution_count": 15,
     "metadata": {},
     "output_type": "execute_result"
    }
   ],
   "source": [
    "#hide\n",
    "df_table = (pd.DataFrame(dict(Cases=dfc_cases, Deaths=dfc_deaths, PCases=dfp_cases, PDeaths=dfp_deaths))\n",
    "             .sort_values(by=['Cases', 'Deaths'], ascending=[False, False])\n",
    "             .reset_index())\n",
    "df_table.rename(columns={'index': 'Country/Region'}, inplace=True)\n",
    "for c in 'Cases, Deaths'.split(', '):\n",
    "    df_table[f'{c} (+)'] = (df_table[c] - df_table[f'P{c}']).clip(0)  # DATA BUG\n",
    "df_table['Fatality Rate'] = (100 * df_table['Deaths'] / df_table['Cases']).round(1)\n",
    "df_table['Continent'] = df_table['Country/Region'].map(mapping['map.continent'])\n",
    "df_table.head(5)"
   ]
  },
  {
   "cell_type": "code",
   "execution_count": 16,
   "id": "fewer-occasion",
   "metadata": {
    "execution": {
     "iopub.execute_input": "2022-11-23T00:39:21.567691Z",
     "iopub.status.busy": "2022-11-23T00:39:21.567072Z",
     "iopub.status.idle": "2022-11-23T00:39:21.569465Z",
     "shell.execute_reply": "2022-11-23T00:39:21.568937Z"
    },
    "papermill": {
     "duration": 0.038722,
     "end_time": "2022-11-23T00:39:21.569563",
     "exception": false,
     "start_time": "2022-11-23T00:39:21.530841",
     "status": "completed"
    },
    "tags": []
   },
   "outputs": [],
   "source": [
    "#hide\n",
    "#delete problematic countries from table\n",
    "df_table = df_table[~df_table['Country/Region'].isin(['Cape Verde', 'Cruise Ship', 'Kosovo'])]"
   ]
  },
  {
   "cell_type": "code",
   "execution_count": 17,
   "id": "related-center",
   "metadata": {
    "execution": {
     "iopub.execute_input": "2022-11-23T00:39:21.638796Z",
     "iopub.status.busy": "2022-11-23T00:39:21.638232Z",
     "iopub.status.idle": "2022-11-23T00:39:21.650420Z",
     "shell.execute_reply": "2022-11-23T00:39:21.650850Z"
    },
    "papermill": {
     "duration": 0.050219,
     "end_time": "2022-11-23T00:39:21.650974",
     "exception": false,
     "start_time": "2022-11-23T00:39:21.600755",
     "status": "completed"
    },
    "tags": []
   },
   "outputs": [],
   "source": [
    "#hide\n",
    "metrics = [df_table.columns[index] for index in [1,2,5,6]]\n",
    "# s_china = df_table[df_table['Country/Region'].eq('China')][metrics].sum().add_prefix('China ')\n",
    "s_us = df_table[df_table['Country/Region'].eq('US')][metrics].sum().add_prefix('US ')\n",
    "s_eu = df_table[df_table['Continent'].eq('Europe')][metrics].sum().add_prefix('EU ')\n",
    "s_ind = df_table[df_table['Country/Region'].eq('India')][metrics].sum().add_prefix('India ')\n",
    "summary = {'updated': pd.to_datetime(dt_today), 'since': pd.to_datetime(dt_yday)}\n",
    "summary = {'updated': pd.to_datetime(dt_today), 'since': pd.to_datetime(dt_yday)}\n",
    "summary = {**summary, **df_table[metrics].sum(), **s_ind, **s_us, **s_eu}"
   ]
  },
  {
   "cell_type": "code",
   "execution_count": 18,
   "id": "engaging-syndrome",
   "metadata": {
    "execution": {
     "iopub.execute_input": "2022-11-23T00:39:21.718512Z",
     "iopub.status.busy": "2022-11-23T00:39:21.717931Z",
     "iopub.status.idle": "2022-11-23T00:39:21.736046Z",
     "shell.execute_reply": "2022-11-23T00:39:21.735501Z"
    },
    "papermill": {
     "duration": 0.053943,
     "end_time": "2022-11-23T00:39:21.736147",
     "exception": false,
     "start_time": "2022-11-23T00:39:21.682204",
     "status": "completed"
    },
    "tags": []
   },
   "outputs": [],
   "source": [
    "#hide\n",
    "dft_ct_new_cases = dft_cases.groupby(COL_REGION)[dt_cols].sum().diff(axis=1).fillna(0).astype(int)"
   ]
  },
  {
   "cell_type": "code",
   "execution_count": 19,
   "id": "neutral-assignment",
   "metadata": {
    "execution": {
     "iopub.execute_input": "2022-11-23T00:39:21.804731Z",
     "iopub.status.busy": "2022-11-23T00:39:21.804174Z",
     "iopub.status.idle": "2022-11-23T00:39:21.806874Z",
     "shell.execute_reply": "2022-11-23T00:39:21.806443Z"
    },
    "papermill": {
     "duration": 0.039576,
     "end_time": "2022-11-23T00:39:21.806972",
     "exception": false,
     "start_time": "2022-11-23T00:39:21.767396",
     "status": "completed"
    },
    "tags": []
   },
   "outputs": [],
   "source": [
    "#hide\n",
    "everydaycases = dft_ct_new_cases.cumsum(axis=1)"
   ]
  },
  {
   "cell_type": "code",
   "execution_count": 20,
   "id": "parliamentary-calgary",
   "metadata": {
    "execution": {
     "iopub.execute_input": "2022-11-23T00:39:21.873344Z",
     "iopub.status.busy": "2022-11-23T00:39:21.872770Z",
     "iopub.status.idle": "2022-11-23T00:39:22.409642Z",
     "shell.execute_reply": "2022-11-23T00:39:22.410107Z"
    },
    "papermill": {
     "duration": 0.572069,
     "end_time": "2022-11-23T00:39:22.410238",
     "exception": false,
     "start_time": "2022-11-23T00:39:21.838169",
     "status": "completed"
    },
    "tags": []
   },
   "outputs": [],
   "source": [
    "#hide\n",
    "import pandas as pd\n",
    "import matplotlib.pyplot as plt\n",
    "import matplotlib.ticker as ticker\n",
    "import matplotlib.animation as animation\n",
    "from IPython.display import HTML"
   ]
  },
  {
   "cell_type": "code",
   "execution_count": 21,
   "id": "lasting-extraction",
   "metadata": {
    "execution": {
     "iopub.execute_input": "2022-11-23T00:39:22.479078Z",
     "iopub.status.busy": "2022-11-23T00:39:22.478519Z",
     "iopub.status.idle": "2022-11-23T00:39:22.485731Z",
     "shell.execute_reply": "2022-11-23T00:39:22.485276Z"
    },
    "papermill": {
     "duration": 0.044299,
     "end_time": "2022-11-23T00:39:22.485837",
     "exception": false,
     "start_time": "2022-11-23T00:39:22.441538",
     "status": "completed"
    },
    "tags": []
   },
   "outputs": [],
   "source": [
    "#hide\n",
    "t = everydaycases.stack()"
   ]
  },
  {
   "cell_type": "code",
   "execution_count": 22,
   "id": "premier-sleeve",
   "metadata": {
    "execution": {
     "iopub.execute_input": "2022-11-23T00:39:22.552837Z",
     "iopub.status.busy": "2022-11-23T00:39:22.552278Z",
     "iopub.status.idle": "2022-11-23T00:39:22.567073Z",
     "shell.execute_reply": "2022-11-23T00:39:22.566599Z"
    },
    "papermill": {
     "duration": 0.049887,
     "end_time": "2022-11-23T00:39:22.567180",
     "exception": false,
     "start_time": "2022-11-23T00:39:22.517293",
     "status": "completed"
    },
    "tags": []
   },
   "outputs": [],
   "source": [
    "#hide\n",
    "g = t.reset_index(['Country/Region'])"
   ]
  },
  {
   "cell_type": "code",
   "execution_count": 23,
   "id": "distributed-pittsburgh",
   "metadata": {
    "execution": {
     "iopub.execute_input": "2022-11-23T00:39:22.633887Z",
     "iopub.status.busy": "2022-11-23T00:39:22.633323Z",
     "iopub.status.idle": "2022-11-23T00:39:22.635842Z",
     "shell.execute_reply": "2022-11-23T00:39:22.635298Z"
    },
    "papermill": {
     "duration": 0.037414,
     "end_time": "2022-11-23T00:39:22.635946",
     "exception": false,
     "start_time": "2022-11-23T00:39:22.598532",
     "status": "completed"
    },
    "tags": []
   },
   "outputs": [],
   "source": [
    "#hide\n",
    "g.index.name = 'date'"
   ]
  },
  {
   "cell_type": "code",
   "execution_count": 24,
   "id": "naked-donor",
   "metadata": {
    "execution": {
     "iopub.execute_input": "2022-11-23T00:39:22.702071Z",
     "iopub.status.busy": "2022-11-23T00:39:22.701520Z",
     "iopub.status.idle": "2022-11-23T00:39:22.703757Z",
     "shell.execute_reply": "2022-11-23T00:39:22.703214Z"
    },
    "papermill": {
     "duration": 0.036549,
     "end_time": "2022-11-23T00:39:22.703858",
     "exception": false,
     "start_time": "2022-11-23T00:39:22.667309",
     "status": "completed"
    },
    "tags": []
   },
   "outputs": [],
   "source": [
    "# #hide\n",
    "# g = g.reset_index(['date'])"
   ]
  },
  {
   "cell_type": "code",
   "execution_count": 25,
   "id": "incomplete-mustang",
   "metadata": {
    "execution": {
     "iopub.execute_input": "2022-11-23T00:39:22.770023Z",
     "iopub.status.busy": "2022-11-23T00:39:22.769470Z",
     "iopub.status.idle": "2022-11-23T00:39:22.771757Z",
     "shell.execute_reply": "2022-11-23T00:39:22.771213Z"
    },
    "papermill": {
     "duration": 0.03673,
     "end_time": "2022-11-23T00:39:22.771864",
     "exception": false,
     "start_time": "2022-11-23T00:39:22.735134",
     "status": "completed"
    },
    "tags": []
   },
   "outputs": [],
   "source": [
    "#hide\n",
    "# g.head()"
   ]
  },
  {
   "cell_type": "code",
   "execution_count": 26,
   "id": "specific-kruger",
   "metadata": {
    "execution": {
     "iopub.execute_input": "2022-11-23T00:39:22.838057Z",
     "iopub.status.busy": "2022-11-23T00:39:22.837507Z",
     "iopub.status.idle": "2022-11-23T00:39:22.839798Z",
     "shell.execute_reply": "2022-11-23T00:39:22.839266Z"
    },
    "papermill": {
     "duration": 0.036623,
     "end_time": "2022-11-23T00:39:22.839901",
     "exception": false,
     "start_time": "2022-11-23T00:39:22.803278",
     "status": "completed"
    },
    "tags": []
   },
   "outputs": [],
   "source": [
    "#hide\n",
    "# g.columns = ['date','country','cases']"
   ]
  },
  {
   "cell_type": "code",
   "execution_count": 27,
   "id": "tender-conversion",
   "metadata": {
    "execution": {
     "iopub.execute_input": "2022-11-23T00:39:22.906041Z",
     "iopub.status.busy": "2022-11-23T00:39:22.905469Z",
     "iopub.status.idle": "2022-11-23T00:39:22.907828Z",
     "shell.execute_reply": "2022-11-23T00:39:22.907286Z"
    },
    "papermill": {
     "duration": 0.036824,
     "end_time": "2022-11-23T00:39:22.907932",
     "exception": false,
     "start_time": "2022-11-23T00:39:22.871108",
     "status": "completed"
    },
    "tags": []
   },
   "outputs": [],
   "source": [
    "#hide\n",
    "# g['continent'] = g.country"
   ]
  },
  {
   "cell_type": "code",
   "execution_count": 28,
   "id": "substantial-wilderness",
   "metadata": {
    "execution": {
     "iopub.execute_input": "2022-11-23T00:39:22.974451Z",
     "iopub.status.busy": "2022-11-23T00:39:22.973899Z",
     "iopub.status.idle": "2022-11-23T00:39:22.977623Z",
     "shell.execute_reply": "2022-11-23T00:39:22.977162Z"
    },
    "papermill": {
     "duration": 0.038122,
     "end_time": "2022-11-23T00:39:22.977724",
     "exception": false,
     "start_time": "2022-11-23T00:39:22.939602",
     "status": "completed"
    },
    "tags": []
   },
   "outputs": [],
   "source": [
    "#hide\n",
    "# cols = list(g.columns.values)"
   ]
  },
  {
   "cell_type": "code",
   "execution_count": 29,
   "id": "solved-farming",
   "metadata": {
    "execution": {
     "iopub.execute_input": "2022-11-23T00:39:23.043684Z",
     "iopub.status.busy": "2022-11-23T00:39:23.043074Z",
     "iopub.status.idle": "2022-11-23T00:39:23.045470Z",
     "shell.execute_reply": "2022-11-23T00:39:23.044945Z"
    },
    "papermill": {
     "duration": 0.036689,
     "end_time": "2022-11-23T00:39:23.045569",
     "exception": false,
     "start_time": "2022-11-23T00:39:23.008880",
     "status": "completed"
    },
    "tags": []
   },
   "outputs": [],
   "source": [
    "#hide\n",
    "# cols.insert(0, cols.pop())"
   ]
  },
  {
   "cell_type": "code",
   "execution_count": 30,
   "id": "executed-adoption",
   "metadata": {
    "execution": {
     "iopub.execute_input": "2022-11-23T00:39:23.111725Z",
     "iopub.status.busy": "2022-11-23T00:39:23.111134Z",
     "iopub.status.idle": "2022-11-23T00:39:23.113554Z",
     "shell.execute_reply": "2022-11-23T00:39:23.113120Z"
    },
    "papermill": {
     "duration": 0.036749,
     "end_time": "2022-11-23T00:39:23.113653",
     "exception": false,
     "start_time": "2022-11-23T00:39:23.076904",
     "status": "completed"
    },
    "tags": []
   },
   "outputs": [],
   "source": [
    "#hide\n",
    "# g = g[cols]"
   ]
  },
  {
   "cell_type": "code",
   "execution_count": 31,
   "id": "subject-dublin",
   "metadata": {
    "execution": {
     "iopub.execute_input": "2022-11-23T00:39:23.179686Z",
     "iopub.status.busy": "2022-11-23T00:39:23.179087Z",
     "iopub.status.idle": "2022-11-23T00:39:23.181533Z",
     "shell.execute_reply": "2022-11-23T00:39:23.181010Z"
    },
    "papermill": {
     "duration": 0.036897,
     "end_time": "2022-11-23T00:39:23.181636",
     "exception": false,
     "start_time": "2022-11-23T00:39:23.144739",
     "status": "completed"
    },
    "tags": []
   },
   "outputs": [],
   "source": [
    "#hide\n",
    "# g['continent'] = g['continent'].map(mapping['map.continent'])"
   ]
  },
  {
   "cell_type": "code",
   "execution_count": 32,
   "id": "freelance-scout",
   "metadata": {
    "execution": {
     "iopub.execute_input": "2022-11-23T00:39:23.247841Z",
     "iopub.status.busy": "2022-11-23T00:39:23.247253Z",
     "iopub.status.idle": "2022-11-23T00:39:23.249590Z",
     "shell.execute_reply": "2022-11-23T00:39:23.249068Z"
    },
    "papermill": {
     "duration": 0.036634,
     "end_time": "2022-11-23T00:39:23.249689",
     "exception": false,
     "start_time": "2022-11-23T00:39:23.213055",
     "status": "completed"
    },
    "tags": []
   },
   "outputs": [],
   "source": [
    "#hide\n",
    "# g.head()"
   ]
  },
  {
   "cell_type": "code",
   "execution_count": 33,
   "id": "limited-engine",
   "metadata": {
    "execution": {
     "iopub.execute_input": "2022-11-23T00:39:23.315668Z",
     "iopub.status.busy": "2022-11-23T00:39:23.315081Z",
     "iopub.status.idle": "2022-11-23T00:39:23.317658Z",
     "shell.execute_reply": "2022-11-23T00:39:23.317142Z"
    },
    "papermill": {
     "duration": 0.036927,
     "end_time": "2022-11-23T00:39:23.317756",
     "exception": false,
     "start_time": "2022-11-23T00:39:23.280829",
     "status": "completed"
    },
    "tags": []
   },
   "outputs": [],
   "source": [
    "# hide\n",
    "# g['date'] = g['date'].astype('datetime64[ns]')"
   ]
  },
  {
   "cell_type": "code",
   "execution_count": 34,
   "id": "sophisticated-supervisor",
   "metadata": {
    "execution": {
     "iopub.execute_input": "2022-11-23T00:39:23.384219Z",
     "iopub.status.busy": "2022-11-23T00:39:23.383657Z",
     "iopub.status.idle": "2022-11-23T00:39:23.385996Z",
     "shell.execute_reply": "2022-11-23T00:39:23.385478Z"
    },
    "papermill": {
     "duration": 0.037094,
     "end_time": "2022-11-23T00:39:23.386096",
     "exception": false,
     "start_time": "2022-11-23T00:39:23.349002",
     "status": "completed"
    },
    "tags": []
   },
   "outputs": [],
   "source": [
    "#hide\n",
    "# g['date'] = g.date.dt.dayofyear"
   ]
  },
  {
   "cell_type": "code",
   "execution_count": 35,
   "id": "inside-dubai",
   "metadata": {
    "execution": {
     "iopub.execute_input": "2022-11-23T00:39:23.451746Z",
     "iopub.status.busy": "2022-11-23T00:39:23.451152Z",
     "iopub.status.idle": "2022-11-23T00:39:23.453599Z",
     "shell.execute_reply": "2022-11-23T00:39:23.453078Z"
    },
    "papermill": {
     "duration": 0.036551,
     "end_time": "2022-11-23T00:39:23.453698",
     "exception": false,
     "start_time": "2022-11-23T00:39:23.417147",
     "status": "completed"
    },
    "tags": []
   },
   "outputs": [],
   "source": [
    "#hide\n",
    "# g = g.rename(columns= {'continent':'group','country':'name','cases':'value'})"
   ]
  },
  {
   "cell_type": "code",
   "execution_count": 36,
   "id": "fleet-motorcycle",
   "metadata": {
    "execution": {
     "iopub.execute_input": "2022-11-23T00:39:23.519633Z",
     "iopub.status.busy": "2022-11-23T00:39:23.519037Z",
     "iopub.status.idle": "2022-11-23T00:39:23.521517Z",
     "shell.execute_reply": "2022-11-23T00:39:23.521074Z"
    },
    "papermill": {
     "duration": 0.036824,
     "end_time": "2022-11-23T00:39:23.521619",
     "exception": false,
     "start_time": "2022-11-23T00:39:23.484795",
     "status": "completed"
    },
    "tags": []
   },
   "outputs": [],
   "source": [
    "#hide\n",
    "# cols = ['name','group','day','value']"
   ]
  },
  {
   "cell_type": "code",
   "execution_count": 37,
   "id": "continued-sleeping",
   "metadata": {
    "execution": {
     "iopub.execute_input": "2022-11-23T00:39:23.587286Z",
     "iopub.status.busy": "2022-11-23T00:39:23.586729Z",
     "iopub.status.idle": "2022-11-23T00:39:23.589117Z",
     "shell.execute_reply": "2022-11-23T00:39:23.588584Z"
    },
    "papermill": {
     "duration": 0.036517,
     "end_time": "2022-11-23T00:39:23.589217",
     "exception": false,
     "start_time": "2022-11-23T00:39:23.552700",
     "status": "completed"
    },
    "tags": []
   },
   "outputs": [],
   "source": [
    "#hide\n",
    "# g.rename(columns= {'date':'day'},inplace = True)"
   ]
  },
  {
   "cell_type": "code",
   "execution_count": 38,
   "id": "major-fight",
   "metadata": {
    "execution": {
     "iopub.execute_input": "2022-11-23T00:39:23.655069Z",
     "iopub.status.busy": "2022-11-23T00:39:23.654500Z",
     "iopub.status.idle": "2022-11-23T00:39:23.656915Z",
     "shell.execute_reply": "2022-11-23T00:39:23.656485Z"
    },
    "papermill": {
     "duration": 0.036532,
     "end_time": "2022-11-23T00:39:23.657014",
     "exception": false,
     "start_time": "2022-11-23T00:39:23.620482",
     "status": "completed"
    },
    "tags": []
   },
   "outputs": [],
   "source": [
    "#hide\n",
    "# g = g[cols]"
   ]
  },
  {
   "cell_type": "code",
   "execution_count": 39,
   "id": "structured-mobile",
   "metadata": {
    "execution": {
     "iopub.execute_input": "2022-11-23T00:39:23.722465Z",
     "iopub.status.busy": "2022-11-23T00:39:23.721906Z",
     "iopub.status.idle": "2022-11-23T00:39:23.724266Z",
     "shell.execute_reply": "2022-11-23T00:39:23.723741Z"
    },
    "papermill": {
     "duration": 0.036405,
     "end_time": "2022-11-23T00:39:23.724365",
     "exception": false,
     "start_time": "2022-11-23T00:39:23.687960",
     "status": "completed"
    },
    "tags": []
   },
   "outputs": [],
   "source": [
    "# #hide\n",
    "# g = g[g.group.notna()]"
   ]
  },
  {
   "cell_type": "code",
   "execution_count": 40,
   "id": "determined-closing",
   "metadata": {
    "execution": {
     "iopub.execute_input": "2022-11-23T00:39:23.790135Z",
     "iopub.status.busy": "2022-11-23T00:39:23.789552Z",
     "iopub.status.idle": "2022-11-23T00:39:23.791887Z",
     "shell.execute_reply": "2022-11-23T00:39:23.791343Z"
    },
    "papermill": {
     "duration": 0.03646,
     "end_time": "2022-11-23T00:39:23.791985",
     "exception": false,
     "start_time": "2022-11-23T00:39:23.755525",
     "status": "completed"
    },
    "tags": []
   },
   "outputs": [],
   "source": [
    "# #hide\n",
    "# colors = dict(zip(\n",
    "#     [\"Oceania\", \"Europe\", \"Asia\", \"South America\", \"Middle East\", \"North America\", \"Africa\"],\n",
    "#     [\"#adb0ff\", \"#ffb3ff\", \"#90d595\", \"#e48381\", \"#aafbff\", \"#f7bb5f\", \"#eafb50\"]\n",
    "# ))\n",
    "# group_lk = g.set_index('name')['group'].to_dict()"
   ]
  },
  {
   "cell_type": "code",
   "execution_count": null,
   "id": "gross-drinking",
   "metadata": {
    "papermill": {
     "duration": 0.030939,
     "end_time": "2022-11-23T00:39:23.853902",
     "exception": false,
     "start_time": "2022-11-23T00:39:23.822963",
     "status": "completed"
    },
    "tags": []
   },
   "outputs": [],
   "source": []
  },
  {
   "cell_type": "code",
   "execution_count": 41,
   "id": "subject-macintosh",
   "metadata": {
    "execution": {
     "iopub.execute_input": "2022-11-23T00:39:23.920205Z",
     "iopub.status.busy": "2022-11-23T00:39:23.919624Z",
     "iopub.status.idle": "2022-11-23T00:39:23.921663Z",
     "shell.execute_reply": "2022-11-23T00:39:23.922059Z"
    },
    "papermill": {
     "duration": 0.037177,
     "end_time": "2022-11-23T00:39:23.922175",
     "exception": false,
     "start_time": "2022-11-23T00:39:23.884998",
     "status": "completed"
    },
    "tags": []
   },
   "outputs": [],
   "source": [
    "# #hide\n",
    "# fig, ax = plt.subplots(figsize=(15, 8))\n",
    "\n",
    "# def draw_barchart(current_day):\n",
    "#     dff = g[g['day'].eq(current_day)].sort_values(by='value', ascending=True).tail(10)\n",
    "#     ax.clear()\n",
    "#     ax.barh(dff['name'], dff['value'], color=[colors[group_lk[x]] for x in dff['name']])\n",
    "#     dx = dff['value'].max() / 200\n",
    "    \n",
    "#     for i, (value, name) in enumerate(zip(dff['value'], dff['name'])):\n",
    "#         ax.text(value-dx, i,     name,           size=14, weight=600, ha='right', va='bottom')\n",
    "#         ax.text(value-dx, i-.25, group_lk[name], size=10, color='#444444', ha='right', va='baseline')\n",
    "#         ax.text(value+dx, i,     f'{value:,.0f}',  size=14, ha='left',  va='center')\n",
    "#     ax.text(1, 0.4, current_day, transform=ax.transAxes, color='#777777', size=46, ha='right', weight=800)\n",
    "#     ax.text(0, 1.06, 'Population (thousands)', transform=ax.transAxes, size=12, color='#777777')\n",
    "#     ax.xaxis.set_major_formatter(ticker.StrMethodFormatter('{x:,.0f}'))\n",
    "#     ax.xaxis.set_ticks_position('top')\n",
    "#     ax.tick_params(axis='x', colors='#777777', labelsize=12)\n",
    "#     ax.set_yticks([])\n",
    "#     ax.margins(0, 0.01)\n",
    "#     ax.grid(which='major', axis='x', linestyle='-')\n",
    "#     ax.set_axisbelow(True)\n",
    "    \n",
    "#     ax.text(0, 1.15, 'Coronavirus',\n",
    "#             transform=ax.transAxes, size=24, weight=600, ha='left', va='top')\n",
    "# #     ax.text(1, 0, 'by @pratapvardhan; credit @jburnmurdoch', transform=ax.transAxes, color='#777777', ha='right',\n",
    "# #             bbox=dict(facecolor='white', alpha=0.8, edgecolor='white'))\n",
    "#     plt.box(False)"
   ]
  },
  {
   "cell_type": "code",
   "execution_count": 42,
   "id": "sexual-wages",
   "metadata": {
    "execution": {
     "iopub.execute_input": "2022-11-23T00:39:23.988419Z",
     "iopub.status.busy": "2022-11-23T00:39:23.987849Z",
     "iopub.status.idle": "2022-11-23T00:39:23.990209Z",
     "shell.execute_reply": "2022-11-23T00:39:23.989688Z"
    },
    "papermill": {
     "duration": 0.036499,
     "end_time": "2022-11-23T00:39:23.990310",
     "exception": false,
     "start_time": "2022-11-23T00:39:23.953811",
     "status": "completed"
    },
    "tags": []
   },
   "outputs": [],
   "source": [
    "# #hide_input\n",
    "# fig, ax = plt.subplots(figsize=(15, 8))\n",
    "# animator = animation.FuncAnimation(fig, draw_barchart, frames=range(g.day.values.min(), g.day.values.max()))\n",
    "# HTML(animator.to_jshtml())\n",
    "# # or use animator.to_html5_video() or animator.save() "
   ]
  },
  {
   "cell_type": "code",
   "execution_count": null,
   "id": "australian-container",
   "metadata": {
    "papermill": {
     "duration": 0.03116,
     "end_time": "2022-11-23T00:39:24.052735",
     "exception": false,
     "start_time": "2022-11-23T00:39:24.021575",
     "status": "completed"
    },
    "tags": []
   },
   "outputs": [],
   "source": []
  },
  {
   "cell_type": "code",
   "execution_count": null,
   "id": "mediterranean-pontiac",
   "metadata": {
    "papermill": {
     "duration": 0.030937,
     "end_time": "2022-11-23T00:39:24.114622",
     "exception": false,
     "start_time": "2022-11-23T00:39:24.083685",
     "status": "completed"
    },
    "tags": []
   },
   "outputs": [],
   "source": []
  },
  {
   "cell_type": "code",
   "execution_count": null,
   "id": "aging-legislature",
   "metadata": {
    "papermill": {
     "duration": 0.030991,
     "end_time": "2022-11-23T00:39:24.176844",
     "exception": false,
     "start_time": "2022-11-23T00:39:24.145853",
     "status": "completed"
    },
    "tags": []
   },
   "outputs": [],
   "source": []
  }
 ],
 "metadata": {
  "kernelspec": {
   "display_name": "Python 3",
   "language": "python",
   "name": "python3"
  },
  "language_info": {
   "codemirror_mode": {
    "name": "ipython",
    "version": 3
   },
   "file_extension": ".py",
   "mimetype": "text/x-python",
   "name": "python",
   "nbconvert_exporter": "python",
   "pygments_lexer": "ipython3",
   "version": "3.6.15"
  },
  "papermill": {
   "duration": 5.874607,
   "end_time": "2022-11-23T00:39:24.526859",
   "environment_variables": {},
   "exception": null,
   "input_path": "2020-03-21-covid19exp.ipynb",
   "output_path": "2020-03-21-covid19exp.ipynb",
   "parameters": {},
   "start_time": "2022-11-23T00:39:18.652252",
   "version": "2.0.0"
  }
 },
 "nbformat": 4,
 "nbformat_minor": 5
}