{
 "cells": [
  {
   "cell_type": "markdown",
   "id": "muslim-click",
   "metadata": {
    "papermill": {
     "duration": 0.038147,
     "end_time": "2022-10-14T12:22:49.149643",
     "exception": false,
     "start_time": "2022-10-14T12:22:49.111496",
     "status": "completed"
    },
    "tags": []
   },
   "source": [
    "# COVID-19 Case Race\n",
    "> A race chart to see rising cases around the world\n",
    "\n",
    "- author: Hargun Oberoi\n",
    "- image: images/covid-overview.png\n",
    "- hide: false\n",
    "- badges: false"
   ]
  },
  {
   "cell_type": "code",
   "execution_count": 1,
   "id": "proof-material",
   "metadata": {
    "execution": {
     "iopub.execute_input": "2022-10-14T12:22:49.225932Z",
     "iopub.status.busy": "2022-10-14T12:22:49.222362Z",
     "iopub.status.idle": "2022-10-14T12:22:49.593675Z",
     "shell.execute_reply": "2022-10-14T12:22:49.592651Z"
    },
    "papermill": {
     "duration": 0.411413,
     "end_time": "2022-10-14T12:22:49.593968",
     "exception": false,
     "start_time": "2022-10-14T12:22:49.182555",
     "status": "completed"
    },
    "tags": []
   },
   "outputs": [],
   "source": [
    "#hide\n",
    "import numpy as np\n",
    "import pandas as pd\n",
    "from jinja2 import Template\n",
    "from IPython.display import HTML"
   ]
  },
  {
   "cell_type": "code",
   "execution_count": 2,
   "id": "developed-terminology",
   "metadata": {
    "execution": {
     "iopub.execute_input": "2022-10-14T12:22:49.665085Z",
     "iopub.status.busy": "2022-10-14T12:22:49.664430Z",
     "iopub.status.idle": "2022-10-14T12:22:49.667440Z",
     "shell.execute_reply": "2022-10-14T12:22:49.666917Z"
    },
    "papermill": {
     "duration": 0.040062,
     "end_time": "2022-10-14T12:22:49.667554",
     "exception": false,
     "start_time": "2022-10-14T12:22:49.627492",
     "status": "completed"
    },
    "tags": []
   },
   "outputs": [],
   "source": [
    "#hide\n",
    "\n",
    "# FETCH\n",
    "base_url = 'https://raw.githubusercontent.com/pratapvardhan/notebooks/master/covid19/'\n",
    "paths = {\n",
    "    'mapping': base_url + 'mapping_countries.csv',\n",
    "    'overview': base_url + 'overview.tpl'\n",
    "}"
   ]
  },
  {
   "cell_type": "code",
   "execution_count": 3,
   "id": "dynamic-saver",
   "metadata": {
    "execution": {
     "iopub.execute_input": "2022-10-14T12:22:49.742972Z",
     "iopub.status.busy": "2022-10-14T12:22:49.738483Z",
     "iopub.status.idle": "2022-10-14T12:22:49.746438Z",
     "shell.execute_reply": "2022-10-14T12:22:49.747033Z"
    },
    "papermill": {
     "duration": 0.048233,
     "end_time": "2022-10-14T12:22:49.747160",
     "exception": false,
     "start_time": "2022-10-14T12:22:49.698927",
     "status": "completed"
    },
    "tags": []
   },
   "outputs": [
    {
     "data": {
      "text/plain": [
       "'https://raw.githubusercontent.com/pratapvardhan/notebooks/master/covid19/mapping_countries.csv'"
      ]
     },
     "execution_count": 3,
     "metadata": {},
     "output_type": "execute_result"
    }
   ],
   "source": [
    "#hide\n",
    "paths['mapping']"
   ]
  },
  {
   "cell_type": "code",
   "execution_count": 4,
   "id": "urban-software",
   "metadata": {
    "execution": {
     "iopub.execute_input": "2022-10-14T12:22:49.816400Z",
     "iopub.status.busy": "2022-10-14T12:22:49.815698Z",
     "iopub.status.idle": "2022-10-14T12:22:49.818990Z",
     "shell.execute_reply": "2022-10-14T12:22:49.818455Z"
    },
    "papermill": {
     "duration": 0.040147,
     "end_time": "2022-10-14T12:22:49.819103",
     "exception": false,
     "start_time": "2022-10-14T12:22:49.778956",
     "status": "completed"
    },
    "tags": []
   },
   "outputs": [],
   "source": [
    "#hide\n",
    "def get_mappings(url):\n",
    "    df = pd.read_csv(url)\n",
    "    return {\n",
    "        'df': df,\n",
    "        'replace.country': dict(df.dropna(subset=['Name']).set_index('Country')['Name']),\n",
    "        'map.continent': dict(df.set_index('Name')['Continent'])\n",
    "    }"
   ]
  },
  {
   "cell_type": "code",
   "execution_count": 5,
   "id": "intimate-machinery",
   "metadata": {
    "execution": {
     "iopub.execute_input": "2022-10-14T12:22:49.888592Z",
     "iopub.status.busy": "2022-10-14T12:22:49.887872Z",
     "iopub.status.idle": "2022-10-14T12:22:49.944545Z",
     "shell.execute_reply": "2022-10-14T12:22:49.943815Z"
    },
    "papermill": {
     "duration": 0.093772,
     "end_time": "2022-10-14T12:22:49.944699",
     "exception": false,
     "start_time": "2022-10-14T12:22:49.850927",
     "status": "completed"
    },
    "tags": []
   },
   "outputs": [],
   "source": [
    "#hide\n",
    "mapping = get_mappings(paths['mapping'])"
   ]
  },
  {
   "cell_type": "code",
   "execution_count": 6,
   "id": "certified-tactics",
   "metadata": {
    "execution": {
     "iopub.execute_input": "2022-10-14T12:22:50.016247Z",
     "iopub.status.busy": "2022-10-14T12:22:50.015556Z",
     "iopub.status.idle": "2022-10-14T12:22:50.018031Z",
     "shell.execute_reply": "2022-10-14T12:22:50.018631Z"
    },
    "papermill": {
     "duration": 0.042369,
     "end_time": "2022-10-14T12:22:50.018762",
     "exception": false,
     "start_time": "2022-10-14T12:22:49.976393",
     "status": "completed"
    },
    "tags": []
   },
   "outputs": [],
   "source": [
    "#hide\n",
    "def get_template(path):\n",
    "    from urllib.parse import urlparse\n",
    "    if bool(urlparse(path).netloc):\n",
    "        from urllib.request import urlopen\n",
    "        return urlopen(path).read().decode('utf8')\n",
    "    return open(path).read()"
   ]
  },
  {
   "cell_type": "code",
   "execution_count": 7,
   "id": "realistic-blast",
   "metadata": {
    "execution": {
     "iopub.execute_input": "2022-10-14T12:22:50.088775Z",
     "iopub.status.busy": "2022-10-14T12:22:50.087756Z",
     "iopub.status.idle": "2022-10-14T12:22:50.091797Z",
     "shell.execute_reply": "2022-10-14T12:22:50.091139Z"
    },
    "papermill": {
     "duration": 0.042435,
     "end_time": "2022-10-14T12:22:50.091909",
     "exception": false,
     "start_time": "2022-10-14T12:22:50.049474",
     "status": "completed"
    },
    "tags": []
   },
   "outputs": [],
   "source": [
    "#hide\n",
    "def get_frame(name):\n",
    "    url = (\n",
    "        'https://raw.githubusercontent.com/CSSEGISandData/COVID-19/master/csse_covid_19_data/'\n",
    "        f'csse_covid_19_time_series/time_series_covid19_{name}_global.csv')\n",
    "    df = pd.read_csv(url)\n",
    "    # rename countries\n",
    "    df['Country/Region'] = df['Country/Region'].replace(mapping['replace.country'])\n",
    "    return df"
   ]
  },
  {
   "cell_type": "code",
   "execution_count": 8,
   "id": "affiliated-characterization",
   "metadata": {
    "execution": {
     "iopub.execute_input": "2022-10-14T12:22:50.165985Z",
     "iopub.status.busy": "2022-10-14T12:22:50.165359Z",
     "iopub.status.idle": "2022-10-14T12:22:50.168331Z",
     "shell.execute_reply": "2022-10-14T12:22:50.167771Z"
    },
    "papermill": {
     "duration": 0.042496,
     "end_time": "2022-10-14T12:22:50.168448",
     "exception": false,
     "start_time": "2022-10-14T12:22:50.125952",
     "status": "completed"
    },
    "tags": []
   },
   "outputs": [],
   "source": [
    "#hide\n",
    "def get_dates(df):\n",
    "    dt_cols = df.columns[~df.columns.isin(['Province/State', 'Country/Region', 'Lat', 'Long'])]\n",
    "    LAST_DATE_I = -1\n",
    "    # sometimes last column may be empty, then go backwards\n",
    "    for i in range(-1, -len(dt_cols), -1):\n",
    "        if not df[dt_cols[i]].fillna(0).eq(0).all():\n",
    "            LAST_DATE_I = i\n",
    "            break\n",
    "    return LAST_DATE_I, dt_cols"
   ]
  },
  {
   "cell_type": "code",
   "execution_count": 9,
   "id": "recent-optimization",
   "metadata": {
    "execution": {
     "iopub.execute_input": "2022-10-14T12:22:50.241698Z",
     "iopub.status.busy": "2022-10-14T12:22:50.241042Z",
     "iopub.status.idle": "2022-10-14T12:22:50.820334Z",
     "shell.execute_reply": "2022-10-14T12:22:50.819529Z"
    },
    "papermill": {
     "duration": 0.617956,
     "end_time": "2022-10-14T12:22:50.820488",
     "exception": false,
     "start_time": "2022-10-14T12:22:50.202532",
     "status": "completed"
    },
    "tags": []
   },
   "outputs": [],
   "source": [
    "#hide\n",
    "COL_REGION = 'Country/Region'\n",
    "# Confirmed, Recovered, Deaths\n",
    "df = get_frame('confirmed')\n",
    "# dft_: timeseries, dfc_: today country agg\n",
    "dft_cases = df\n",
    "dft_deaths = get_frame('deaths')\n",
    "dft_recovered = get_frame('recovered')\n",
    "LAST_DATE_I, dt_cols = get_dates(df)"
   ]
  },
  {
   "cell_type": "code",
   "execution_count": 10,
   "id": "absolute-copper",
   "metadata": {
    "execution": {
     "iopub.execute_input": "2022-10-14T12:22:50.894982Z",
     "iopub.status.busy": "2022-10-14T12:22:50.894157Z",
     "iopub.status.idle": "2022-10-14T12:22:50.896260Z",
     "shell.execute_reply": "2022-10-14T12:22:50.896909Z"
    },
    "papermill": {
     "duration": 0.041224,
     "end_time": "2022-10-14T12:22:50.897069",
     "exception": false,
     "start_time": "2022-10-14T12:22:50.855845",
     "status": "completed"
    },
    "tags": []
   },
   "outputs": [],
   "source": [
    "#hide\n",
    "LAST_DATE_I, dt_cols = get_dates(df)\n",
    "dt_today =dt_cols[LAST_DATE_I]\n",
    "# dt_5day = dt_cols[LAST_DATE_I - 5]\n",
    "dt_yday = dt_cols[LAST_DATE_I - 1]"
   ]
  },
  {
   "cell_type": "code",
   "execution_count": 11,
   "id": "restricted-sheriff",
   "metadata": {
    "execution": {
     "iopub.execute_input": "2022-10-14T12:22:50.969750Z",
     "iopub.status.busy": "2022-10-14T12:22:50.968950Z",
     "iopub.status.idle": "2022-10-14T12:22:50.975617Z",
     "shell.execute_reply": "2022-10-14T12:22:50.975110Z"
    },
    "papermill": {
     "duration": 0.046964,
     "end_time": "2022-10-14T12:22:50.975728",
     "exception": false,
     "start_time": "2022-10-14T12:22:50.928764",
     "status": "completed"
    },
    "tags": []
   },
   "outputs": [],
   "source": [
    "#hide\n",
    "dfc_cases = dft_cases.groupby(COL_REGION)[dt_today].sum()\n",
    "dfc_deaths = dft_deaths.groupby(COL_REGION)[dt_today].sum()\n",
    "# dfp_cases = dft_cases.groupby(COL_REGION)[dt_5day].sum()\n",
    "# dfp_deaths = dft_deaths.groupby(COL_REGION)[dt_5day].sum()\n",
    "dfp_cases = dft_cases.groupby(COL_REGION)[dt_yday].sum()\n",
    "dfp_deaths = dft_deaths.groupby(COL_REGION)[dt_yday].sum()"
   ]
  },
  {
   "cell_type": "code",
   "execution_count": 12,
   "id": "deluxe-hepatitis",
   "metadata": {
    "execution": {
     "iopub.execute_input": "2022-10-14T12:22:51.044985Z",
     "iopub.status.busy": "2022-10-14T12:22:51.044355Z",
     "iopub.status.idle": "2022-10-14T12:22:51.050060Z",
     "shell.execute_reply": "2022-10-14T12:22:51.049522Z"
    },
    "papermill": {
     "duration": 0.043038,
     "end_time": "2022-10-14T12:22:51.050178",
     "exception": false,
     "start_time": "2022-10-14T12:22:51.007140",
     "status": "completed"
    },
    "tags": []
   },
   "outputs": [],
   "source": [
    "#hide\n",
    "df_table = (pd.DataFrame(dict(Cases = dfc_cases, Deaths = dfc_deaths, PCases = dfp_cases, PDeaths = dfp_deaths))\n",
    "            .sort_values(by = ['Cases','Deaths'], ascending = [False, False])\n",
    "            .reset_index())"
   ]
  },
  {
   "cell_type": "code",
   "execution_count": 13,
   "id": "educational-chancellor",
   "metadata": {
    "execution": {
     "iopub.execute_input": "2022-10-14T12:22:51.132413Z",
     "iopub.status.busy": "2022-10-14T12:22:51.127638Z",
     "iopub.status.idle": "2022-10-14T12:22:51.141347Z",
     "shell.execute_reply": "2022-10-14T12:22:51.140812Z"
    },
    "papermill": {
     "duration": 0.059624,
     "end_time": "2022-10-14T12:22:51.141490",
     "exception": false,
     "start_time": "2022-10-14T12:22:51.081866",
     "status": "completed"
    },
    "tags": []
   },
   "outputs": [
    {
     "data": {
      "text/html": [
       "<div>\n",
       "<style scoped>\n",
       "    .dataframe tbody tr th:only-of-type {\n",
       "        vertical-align: middle;\n",
       "    }\n",
       "\n",
       "    .dataframe tbody tr th {\n",
       "        vertical-align: top;\n",
       "    }\n",
       "\n",
       "    .dataframe thead th {\n",
       "        text-align: right;\n",
       "    }\n",
       "</style>\n",
       "<table border=\"1\" class=\"dataframe\">\n",
       "  <thead>\n",
       "    <tr style=\"text-align: right;\">\n",
       "      <th></th>\n",
       "      <th>Country/Region</th>\n",
       "      <th>Cases</th>\n",
       "      <th>Deaths</th>\n",
       "      <th>PCases</th>\n",
       "      <th>PDeaths</th>\n",
       "      <th>Cases (+)</th>\n",
       "      <th>Deaths (+)</th>\n",
       "      <th>Fatality Rate</th>\n",
       "      <th>Continent</th>\n",
       "    </tr>\n",
       "  </thead>\n",
       "  <tbody>\n",
       "    <tr>\n",
       "      <th>0</th>\n",
       "      <td>US</td>\n",
       "      <td>96911257</td>\n",
       "      <td>1064798</td>\n",
       "      <td>96847331</td>\n",
       "      <td>1064145</td>\n",
       "      <td>63926</td>\n",
       "      <td>653</td>\n",
       "      <td>1.10</td>\n",
       "      <td>North America</td>\n",
       "    </tr>\n",
       "    <tr>\n",
       "      <th>1</th>\n",
       "      <td>India</td>\n",
       "      <td>44623997</td>\n",
       "      <td>528857</td>\n",
       "      <td>44621319</td>\n",
       "      <td>528847</td>\n",
       "      <td>2678</td>\n",
       "      <td>10</td>\n",
       "      <td>1.19</td>\n",
       "      <td>Asia</td>\n",
       "    </tr>\n",
       "    <tr>\n",
       "      <th>2</th>\n",
       "      <td>France</td>\n",
       "      <td>36319858</td>\n",
       "      <td>156777</td>\n",
       "      <td>36255606</td>\n",
       "      <td>156715</td>\n",
       "      <td>64252</td>\n",
       "      <td>62</td>\n",
       "      <td>0.43</td>\n",
       "      <td>Europe</td>\n",
       "    </tr>\n",
       "    <tr>\n",
       "      <th>3</th>\n",
       "      <td>Brazil</td>\n",
       "      <td>34739865</td>\n",
       "      <td>687069</td>\n",
       "      <td>34731539</td>\n",
       "      <td>686963</td>\n",
       "      <td>8326</td>\n",
       "      <td>106</td>\n",
       "      <td>1.98</td>\n",
       "      <td>South America</td>\n",
       "    </tr>\n",
       "    <tr>\n",
       "      <th>4</th>\n",
       "      <td>Germany</td>\n",
       "      <td>34517327</td>\n",
       "      <td>151260</td>\n",
       "      <td>34403129</td>\n",
       "      <td>151095</td>\n",
       "      <td>114198</td>\n",
       "      <td>165</td>\n",
       "      <td>0.44</td>\n",
       "      <td>Europe</td>\n",
       "    </tr>\n",
       "  </tbody>\n",
       "</table>\n",
       "</div>"
      ],
      "text/plain": [
       "  Country/Region     Cases   Deaths    PCases  PDeaths  Cases (+)  Deaths (+)  \\\n",
       "0             US  96911257  1064798  96847331  1064145      63926         653   \n",
       "1          India  44623997   528857  44621319   528847       2678          10   \n",
       "2         France  36319858   156777  36255606   156715      64252          62   \n",
       "3         Brazil  34739865   687069  34731539   686963       8326         106   \n",
       "4        Germany  34517327   151260  34403129   151095     114198         165   \n",
       "\n",
       "   Fatality Rate      Continent  \n",
       "0           1.10  North America  \n",
       "1           1.19           Asia  \n",
       "2           0.43         Europe  \n",
       "3           1.98  South America  \n",
       "4           0.44         Europe  "
      ]
     },
     "execution_count": 13,
     "metadata": {},
     "output_type": "execute_result"
    }
   ],
   "source": [
    "#hide\n",
    "for c in 'Cases, Deaths'.split(', '):\n",
    "    df_table[f'{c} (+)'] = (df_table[c] - df_table[f'P{c}']).clip(0)\n",
    "    #Clip ça veut dire, les chiffres negatif sont interdit\n",
    "df_table['Fatality Rate'] = (100* df_table['Deaths']/ df_table['Cases']).round(2)\n",
    "df_table['Continent'] = df_table['Country/Region'].map(mapping['map.continent'])\n",
    "df_table.head(5)"
   ]
  },
  {
   "cell_type": "code",
   "execution_count": 14,
   "id": "aboriginal-bulgaria",
   "metadata": {
    "execution": {
     "iopub.execute_input": "2022-10-14T12:22:51.212566Z",
     "iopub.status.busy": "2022-10-14T12:22:51.211917Z",
     "iopub.status.idle": "2022-10-14T12:22:51.215542Z",
     "shell.execute_reply": "2022-10-14T12:22:51.216021Z"
    },
    "papermill": {
     "duration": 0.041822,
     "end_time": "2022-10-14T12:22:51.216147",
     "exception": false,
     "start_time": "2022-10-14T12:22:51.174325",
     "status": "completed"
    },
    "tags": []
   },
   "outputs": [],
   "source": [
    "#hide\n",
    "#delete problematic countries from table\n",
    "df_table = df_table[~df_table['Country/Region'].isin(['Cape Verde', 'Cruise Ship', 'Kosovo'])]"
   ]
  },
  {
   "cell_type": "code",
   "execution_count": 15,
   "id": "fantastic-effect",
   "metadata": {
    "execution": {
     "iopub.execute_input": "2022-10-14T12:22:51.288099Z",
     "iopub.status.busy": "2022-10-14T12:22:51.287449Z",
     "iopub.status.idle": "2022-10-14T12:22:51.307063Z",
     "shell.execute_reply": "2022-10-14T12:22:51.307544Z"
    },
    "papermill": {
     "duration": 0.060133,
     "end_time": "2022-10-14T12:22:51.307671",
     "exception": false,
     "start_time": "2022-10-14T12:22:51.247538",
     "status": "completed"
    },
    "tags": []
   },
   "outputs": [
    {
     "data": {
      "text/html": [
       "<div>\n",
       "<style scoped>\n",
       "    .dataframe tbody tr th:only-of-type {\n",
       "        vertical-align: middle;\n",
       "    }\n",
       "\n",
       "    .dataframe tbody tr th {\n",
       "        vertical-align: top;\n",
       "    }\n",
       "\n",
       "    .dataframe thead th {\n",
       "        text-align: right;\n",
       "    }\n",
       "</style>\n",
       "<table border=\"1\" class=\"dataframe\">\n",
       "  <thead>\n",
       "    <tr style=\"text-align: right;\">\n",
       "      <th></th>\n",
       "      <th>Country/Region</th>\n",
       "      <th>Cases</th>\n",
       "      <th>Deaths</th>\n",
       "      <th>PCases</th>\n",
       "      <th>PDeaths</th>\n",
       "      <th>Cases (+)</th>\n",
       "      <th>Deaths (+)</th>\n",
       "      <th>Fatality Rate</th>\n",
       "      <th>Continent</th>\n",
       "    </tr>\n",
       "  </thead>\n",
       "  <tbody>\n",
       "    <tr>\n",
       "      <th>0</th>\n",
       "      <td>US</td>\n",
       "      <td>96911257</td>\n",
       "      <td>1064798</td>\n",
       "      <td>96847331</td>\n",
       "      <td>1064145</td>\n",
       "      <td>63926</td>\n",
       "      <td>653</td>\n",
       "      <td>1.1</td>\n",
       "      <td>North America</td>\n",
       "    </tr>\n",
       "    <tr>\n",
       "      <th>1</th>\n",
       "      <td>India</td>\n",
       "      <td>44623997</td>\n",
       "      <td>528857</td>\n",
       "      <td>44621319</td>\n",
       "      <td>528847</td>\n",
       "      <td>2678</td>\n",
       "      <td>10</td>\n",
       "      <td>1.2</td>\n",
       "      <td>Asia</td>\n",
       "    </tr>\n",
       "    <tr>\n",
       "      <th>2</th>\n",
       "      <td>France</td>\n",
       "      <td>36319858</td>\n",
       "      <td>156777</td>\n",
       "      <td>36255606</td>\n",
       "      <td>156715</td>\n",
       "      <td>64252</td>\n",
       "      <td>62</td>\n",
       "      <td>0.4</td>\n",
       "      <td>Europe</td>\n",
       "    </tr>\n",
       "    <tr>\n",
       "      <th>3</th>\n",
       "      <td>Brazil</td>\n",
       "      <td>34739865</td>\n",
       "      <td>687069</td>\n",
       "      <td>34731539</td>\n",
       "      <td>686963</td>\n",
       "      <td>8326</td>\n",
       "      <td>106</td>\n",
       "      <td>2.0</td>\n",
       "      <td>South America</td>\n",
       "    </tr>\n",
       "    <tr>\n",
       "      <th>4</th>\n",
       "      <td>Germany</td>\n",
       "      <td>34517327</td>\n",
       "      <td>151260</td>\n",
       "      <td>34403129</td>\n",
       "      <td>151095</td>\n",
       "      <td>114198</td>\n",
       "      <td>165</td>\n",
       "      <td>0.4</td>\n",
       "      <td>Europe</td>\n",
       "    </tr>\n",
       "  </tbody>\n",
       "</table>\n",
       "</div>"
      ],
      "text/plain": [
       "  Country/Region     Cases   Deaths    PCases  PDeaths  Cases (+)  Deaths (+)  \\\n",
       "0             US  96911257  1064798  96847331  1064145      63926         653   \n",
       "1          India  44623997   528857  44621319   528847       2678          10   \n",
       "2         France  36319858   156777  36255606   156715      64252          62   \n",
       "3         Brazil  34739865   687069  34731539   686963       8326         106   \n",
       "4        Germany  34517327   151260  34403129   151095     114198         165   \n",
       "\n",
       "   Fatality Rate      Continent  \n",
       "0            1.1  North America  \n",
       "1            1.2           Asia  \n",
       "2            0.4         Europe  \n",
       "3            2.0  South America  \n",
       "4            0.4         Europe  "
      ]
     },
     "execution_count": 15,
     "metadata": {},
     "output_type": "execute_result"
    }
   ],
   "source": [
    "#hide\n",
    "df_table = (pd.DataFrame(dict(Cases=dfc_cases, Deaths=dfc_deaths, PCases=dfp_cases, PDeaths=dfp_deaths))\n",
    "             .sort_values(by=['Cases', 'Deaths'], ascending=[False, False])\n",
    "             .reset_index())\n",
    "df_table.rename(columns={'index': 'Country/Region'}, inplace=True)\n",
    "for c in 'Cases, Deaths'.split(', '):\n",
    "    df_table[f'{c} (+)'] = (df_table[c] - df_table[f'P{c}']).clip(0)  # DATA BUG\n",
    "df_table['Fatality Rate'] = (100 * df_table['Deaths'] / df_table['Cases']).round(1)\n",
    "df_table['Continent'] = df_table['Country/Region'].map(mapping['map.continent'])\n",
    "df_table.head(5)"
   ]
  },
  {
   "cell_type": "code",
   "execution_count": 16,
   "id": "fewer-occasion",
   "metadata": {
    "execution": {
     "iopub.execute_input": "2022-10-14T12:22:51.377691Z",
     "iopub.status.busy": "2022-10-14T12:22:51.377059Z",
     "iopub.status.idle": "2022-10-14T12:22:51.379857Z",
     "shell.execute_reply": "2022-10-14T12:22:51.379235Z"
    },
    "papermill": {
     "duration": 0.040788,
     "end_time": "2022-10-14T12:22:51.379967",
     "exception": false,
     "start_time": "2022-10-14T12:22:51.339179",
     "status": "completed"
    },
    "tags": []
   },
   "outputs": [],
   "source": [
    "#hide\n",
    "#delete problematic countries from table\n",
    "df_table = df_table[~df_table['Country/Region'].isin(['Cape Verde', 'Cruise Ship', 'Kosovo'])]"
   ]
  },
  {
   "cell_type": "code",
   "execution_count": 17,
   "id": "related-center",
   "metadata": {
    "execution": {
     "iopub.execute_input": "2022-10-14T12:22:51.463751Z",
     "iopub.status.busy": "2022-10-14T12:22:51.463082Z",
     "iopub.status.idle": "2022-10-14T12:22:51.466148Z",
     "shell.execute_reply": "2022-10-14T12:22:51.465493Z"
    },
    "papermill": {
     "duration": 0.053704,
     "end_time": "2022-10-14T12:22:51.466267",
     "exception": false,
     "start_time": "2022-10-14T12:22:51.412563",
     "status": "completed"
    },
    "tags": []
   },
   "outputs": [],
   "source": [
    "#hide\n",
    "metrics = [df_table.columns[index] for index in [1,2,5,6]]\n",
    "# s_china = df_table[df_table['Country/Region'].eq('China')][metrics].sum().add_prefix('China ')\n",
    "s_us = df_table[df_table['Country/Region'].eq('US')][metrics].sum().add_prefix('US ')\n",
    "s_eu = df_table[df_table['Continent'].eq('Europe')][metrics].sum().add_prefix('EU ')\n",
    "s_ind = df_table[df_table['Country/Region'].eq('India')][metrics].sum().add_prefix('India ')\n",
    "summary = {'updated': pd.to_datetime(dt_today), 'since': pd.to_datetime(dt_yday)}\n",
    "summary = {'updated': pd.to_datetime(dt_today), 'since': pd.to_datetime(dt_yday)}\n",
    "summary = {**summary, **df_table[metrics].sum(), **s_ind, **s_us, **s_eu}"
   ]
  },
  {
   "cell_type": "code",
   "execution_count": 18,
   "id": "engaging-syndrome",
   "metadata": {
    "execution": {
     "iopub.execute_input": "2022-10-14T12:22:51.536124Z",
     "iopub.status.busy": "2022-10-14T12:22:51.535443Z",
     "iopub.status.idle": "2022-10-14T12:22:51.562524Z",
     "shell.execute_reply": "2022-10-14T12:22:51.561863Z"
    },
    "papermill": {
     "duration": 0.064311,
     "end_time": "2022-10-14T12:22:51.562665",
     "exception": false,
     "start_time": "2022-10-14T12:22:51.498354",
     "status": "completed"
    },
    "tags": []
   },
   "outputs": [],
   "source": [
    "#hide\n",
    "dft_ct_new_cases = dft_cases.groupby(COL_REGION)[dt_cols].sum().diff(axis=1).fillna(0).astype(int)"
   ]
  },
  {
   "cell_type": "code",
   "execution_count": 19,
   "id": "neutral-assignment",
   "metadata": {
    "execution": {
     "iopub.execute_input": "2022-10-14T12:22:51.635414Z",
     "iopub.status.busy": "2022-10-14T12:22:51.634792Z",
     "iopub.status.idle": "2022-10-14T12:22:51.637711Z",
     "shell.execute_reply": "2022-10-14T12:22:51.638263Z"
    },
    "papermill": {
     "duration": 0.042341,
     "end_time": "2022-10-14T12:22:51.638389",
     "exception": false,
     "start_time": "2022-10-14T12:22:51.596048",
     "status": "completed"
    },
    "tags": []
   },
   "outputs": [],
   "source": [
    "#hide\n",
    "everydaycases = dft_ct_new_cases.cumsum(axis=1)"
   ]
  },
  {
   "cell_type": "code",
   "execution_count": 20,
   "id": "parliamentary-calgary",
   "metadata": {
    "execution": {
     "iopub.execute_input": "2022-10-14T12:22:51.707612Z",
     "iopub.status.busy": "2022-10-14T12:22:51.706976Z",
     "iopub.status.idle": "2022-10-14T12:22:52.341540Z",
     "shell.execute_reply": "2022-10-14T12:22:52.340951Z"
    },
    "papermill": {
     "duration": 0.671228,
     "end_time": "2022-10-14T12:22:52.341670",
     "exception": false,
     "start_time": "2022-10-14T12:22:51.670442",
     "status": "completed"
    },
    "tags": []
   },
   "outputs": [],
   "source": [
    "#hide\n",
    "import pandas as pd\n",
    "import matplotlib.pyplot as plt\n",
    "import matplotlib.ticker as ticker\n",
    "import matplotlib.animation as animation\n",
    "from IPython.display import HTML"
   ]
  },
  {
   "cell_type": "code",
   "execution_count": 21,
   "id": "lasting-extraction",
   "metadata": {
    "execution": {
     "iopub.execute_input": "2022-10-14T12:22:52.421415Z",
     "iopub.status.busy": "2022-10-14T12:22:52.420644Z",
     "iopub.status.idle": "2022-10-14T12:22:52.428222Z",
     "shell.execute_reply": "2022-10-14T12:22:52.428866Z"
    },
    "papermill": {
     "duration": 0.052138,
     "end_time": "2022-10-14T12:22:52.429006",
     "exception": false,
     "start_time": "2022-10-14T12:22:52.376868",
     "status": "completed"
    },
    "tags": []
   },
   "outputs": [],
   "source": [
    "#hide\n",
    "t = everydaycases.stack()"
   ]
  },
  {
   "cell_type": "code",
   "execution_count": 22,
   "id": "premier-sleeve",
   "metadata": {
    "execution": {
     "iopub.execute_input": "2022-10-14T12:22:52.502955Z",
     "iopub.status.busy": "2022-10-14T12:22:52.502254Z",
     "iopub.status.idle": "2022-10-14T12:22:52.516965Z",
     "shell.execute_reply": "2022-10-14T12:22:52.516430Z"
    },
    "papermill": {
     "duration": 0.05344,
     "end_time": "2022-10-14T12:22:52.517084",
     "exception": false,
     "start_time": "2022-10-14T12:22:52.463644",
     "status": "completed"
    },
    "tags": []
   },
   "outputs": [],
   "source": [
    "#hide\n",
    "g = t.reset_index(['Country/Region'])"
   ]
  },
  {
   "cell_type": "code",
   "execution_count": 23,
   "id": "distributed-pittsburgh",
   "metadata": {
    "execution": {
     "iopub.execute_input": "2022-10-14T12:22:52.590132Z",
     "iopub.status.busy": "2022-10-14T12:22:52.589332Z",
     "iopub.status.idle": "2022-10-14T12:22:52.594350Z",
     "shell.execute_reply": "2022-10-14T12:22:52.593822Z"
    },
    "papermill": {
     "duration": 0.042817,
     "end_time": "2022-10-14T12:22:52.594465",
     "exception": false,
     "start_time": "2022-10-14T12:22:52.551648",
     "status": "completed"
    },
    "tags": []
   },
   "outputs": [],
   "source": [
    "#hide\n",
    "g.index.name = 'date'"
   ]
  },
  {
   "cell_type": "code",
   "execution_count": 24,
   "id": "naked-donor",
   "metadata": {
    "execution": {
     "iopub.execute_input": "2022-10-14T12:22:52.664408Z",
     "iopub.status.busy": "2022-10-14T12:22:52.663608Z",
     "iopub.status.idle": "2022-10-14T12:22:52.666245Z",
     "shell.execute_reply": "2022-10-14T12:22:52.665743Z"
    },
    "papermill": {
     "duration": 0.039205,
     "end_time": "2022-10-14T12:22:52.666357",
     "exception": false,
     "start_time": "2022-10-14T12:22:52.627152",
     "status": "completed"
    },
    "tags": []
   },
   "outputs": [],
   "source": [
    "# #hide\n",
    "# g = g.reset_index(['date'])"
   ]
  },
  {
   "cell_type": "code",
   "execution_count": 25,
   "id": "incomplete-mustang",
   "metadata": {
    "execution": {
     "iopub.execute_input": "2022-10-14T12:22:52.737932Z",
     "iopub.status.busy": "2022-10-14T12:22:52.737186Z",
     "iopub.status.idle": "2022-10-14T12:22:52.739986Z",
     "shell.execute_reply": "2022-10-14T12:22:52.739381Z"
    },
    "papermill": {
     "duration": 0.040591,
     "end_time": "2022-10-14T12:22:52.740116",
     "exception": false,
     "start_time": "2022-10-14T12:22:52.699525",
     "status": "completed"
    },
    "tags": []
   },
   "outputs": [],
   "source": [
    "#hide\n",
    "# g.head()"
   ]
  },
  {
   "cell_type": "code",
   "execution_count": 26,
   "id": "specific-kruger",
   "metadata": {
    "execution": {
     "iopub.execute_input": "2022-10-14T12:22:52.809585Z",
     "iopub.status.busy": "2022-10-14T12:22:52.808970Z",
     "iopub.status.idle": "2022-10-14T12:22:52.811862Z",
     "shell.execute_reply": "2022-10-14T12:22:52.811250Z"
    },
    "papermill": {
     "duration": 0.038585,
     "end_time": "2022-10-14T12:22:52.811971",
     "exception": false,
     "start_time": "2022-10-14T12:22:52.773386",
     "status": "completed"
    },
    "tags": []
   },
   "outputs": [],
   "source": [
    "#hide\n",
    "# g.columns = ['date','country','cases']"
   ]
  },
  {
   "cell_type": "code",
   "execution_count": 27,
   "id": "tender-conversion",
   "metadata": {
    "execution": {
     "iopub.execute_input": "2022-10-14T12:22:52.881521Z",
     "iopub.status.busy": "2022-10-14T12:22:52.880713Z",
     "iopub.status.idle": "2022-10-14T12:22:52.885199Z",
     "shell.execute_reply": "2022-10-14T12:22:52.884690Z"
    },
    "papermill": {
     "duration": 0.04065,
     "end_time": "2022-10-14T12:22:52.885307",
     "exception": false,
     "start_time": "2022-10-14T12:22:52.844657",
     "status": "completed"
    },
    "tags": []
   },
   "outputs": [],
   "source": [
    "#hide\n",
    "# g['continent'] = g.country"
   ]
  },
  {
   "cell_type": "code",
   "execution_count": 28,
   "id": "substantial-wilderness",
   "metadata": {
    "execution": {
     "iopub.execute_input": "2022-10-14T12:22:52.953190Z",
     "iopub.status.busy": "2022-10-14T12:22:52.952509Z",
     "iopub.status.idle": "2022-10-14T12:22:52.955134Z",
     "shell.execute_reply": "2022-10-14T12:22:52.954507Z"
    },
    "papermill": {
     "duration": 0.038055,
     "end_time": "2022-10-14T12:22:52.955247",
     "exception": false,
     "start_time": "2022-10-14T12:22:52.917192",
     "status": "completed"
    },
    "tags": []
   },
   "outputs": [],
   "source": [
    "#hide\n",
    "# cols = list(g.columns.values)"
   ]
  },
  {
   "cell_type": "code",
   "execution_count": 29,
   "id": "solved-farming",
   "metadata": {
    "execution": {
     "iopub.execute_input": "2022-10-14T12:22:53.023608Z",
     "iopub.status.busy": "2022-10-14T12:22:53.022828Z",
     "iopub.status.idle": "2022-10-14T12:22:53.024815Z",
     "shell.execute_reply": "2022-10-14T12:22:53.025424Z"
    },
    "papermill": {
     "duration": 0.038155,
     "end_time": "2022-10-14T12:22:53.025574",
     "exception": false,
     "start_time": "2022-10-14T12:22:52.987419",
     "status": "completed"
    },
    "tags": []
   },
   "outputs": [],
   "source": [
    "#hide\n",
    "# cols.insert(0, cols.pop())"
   ]
  },
  {
   "cell_type": "code",
   "execution_count": 30,
   "id": "executed-adoption",
   "metadata": {
    "execution": {
     "iopub.execute_input": "2022-10-14T12:22:53.096858Z",
     "iopub.status.busy": "2022-10-14T12:22:53.096011Z",
     "iopub.status.idle": "2022-10-14T12:22:53.100009Z",
     "shell.execute_reply": "2022-10-14T12:22:53.099361Z"
    },
    "papermill": {
     "duration": 0.040738,
     "end_time": "2022-10-14T12:22:53.100119",
     "exception": false,
     "start_time": "2022-10-14T12:22:53.059381",
     "status": "completed"
    },
    "tags": []
   },
   "outputs": [],
   "source": [
    "#hide\n",
    "# g = g[cols]"
   ]
  },
  {
   "cell_type": "code",
   "execution_count": 31,
   "id": "subject-dublin",
   "metadata": {
    "execution": {
     "iopub.execute_input": "2022-10-14T12:22:53.170619Z",
     "iopub.status.busy": "2022-10-14T12:22:53.169665Z",
     "iopub.status.idle": "2022-10-14T12:22:53.174526Z",
     "shell.execute_reply": "2022-10-14T12:22:53.175076Z"
    },
    "papermill": {
     "duration": 0.042813,
     "end_time": "2022-10-14T12:22:53.175236",
     "exception": false,
     "start_time": "2022-10-14T12:22:53.132423",
     "status": "completed"
    },
    "tags": []
   },
   "outputs": [],
   "source": [
    "#hide\n",
    "# g['continent'] = g['continent'].map(mapping['map.continent'])"
   ]
  },
  {
   "cell_type": "code",
   "execution_count": 32,
   "id": "freelance-scout",
   "metadata": {
    "execution": {
     "iopub.execute_input": "2022-10-14T12:22:53.245481Z",
     "iopub.status.busy": "2022-10-14T12:22:53.244682Z",
     "iopub.status.idle": "2022-10-14T12:22:53.248095Z",
     "shell.execute_reply": "2022-10-14T12:22:53.247458Z"
    },
    "papermill": {
     "duration": 0.039287,
     "end_time": "2022-10-14T12:22:53.248229",
     "exception": false,
     "start_time": "2022-10-14T12:22:53.208942",
     "status": "completed"
    },
    "tags": []
   },
   "outputs": [],
   "source": [
    "#hide\n",
    "# g.head()"
   ]
  },
  {
   "cell_type": "code",
   "execution_count": 33,
   "id": "limited-engine",
   "metadata": {
    "execution": {
     "iopub.execute_input": "2022-10-14T12:22:53.316051Z",
     "iopub.status.busy": "2022-10-14T12:22:53.315246Z",
     "iopub.status.idle": "2022-10-14T12:22:53.320631Z",
     "shell.execute_reply": "2022-10-14T12:22:53.321242Z"
    },
    "papermill": {
     "duration": 0.040237,
     "end_time": "2022-10-14T12:22:53.321382",
     "exception": false,
     "start_time": "2022-10-14T12:22:53.281145",
     "status": "completed"
    },
    "tags": []
   },
   "outputs": [],
   "source": [
    "# hide\n",
    "# g['date'] = g['date'].astype('datetime64[ns]')"
   ]
  },
  {
   "cell_type": "code",
   "execution_count": 34,
   "id": "sophisticated-supervisor",
   "metadata": {
    "execution": {
     "iopub.execute_input": "2022-10-14T12:22:53.401002Z",
     "iopub.status.busy": "2022-10-14T12:22:53.400165Z",
     "iopub.status.idle": "2022-10-14T12:22:53.403284Z",
     "shell.execute_reply": "2022-10-14T12:22:53.402646Z"
    },
    "papermill": {
     "duration": 0.044032,
     "end_time": "2022-10-14T12:22:53.403420",
     "exception": false,
     "start_time": "2022-10-14T12:22:53.359388",
     "status": "completed"
    },
    "tags": []
   },
   "outputs": [],
   "source": [
    "#hide\n",
    "# g['date'] = g.date.dt.dayofyear"
   ]
  },
  {
   "cell_type": "code",
   "execution_count": 35,
   "id": "inside-dubai",
   "metadata": {
    "execution": {
     "iopub.execute_input": "2022-10-14T12:22:53.471771Z",
     "iopub.status.busy": "2022-10-14T12:22:53.470984Z",
     "iopub.status.idle": "2022-10-14T12:22:53.475488Z",
     "shell.execute_reply": "2022-10-14T12:22:53.474981Z"
    },
    "papermill": {
     "duration": 0.039976,
     "end_time": "2022-10-14T12:22:53.475620",
     "exception": false,
     "start_time": "2022-10-14T12:22:53.435644",
     "status": "completed"
    },
    "tags": []
   },
   "outputs": [],
   "source": [
    "#hide\n",
    "# g = g.rename(columns= {'continent':'group','country':'name','cases':'value'})"
   ]
  },
  {
   "cell_type": "code",
   "execution_count": 36,
   "id": "fleet-motorcycle",
   "metadata": {
    "execution": {
     "iopub.execute_input": "2022-10-14T12:22:53.546148Z",
     "iopub.status.busy": "2022-10-14T12:22:53.545405Z",
     "iopub.status.idle": "2022-10-14T12:22:53.547372Z",
     "shell.execute_reply": "2022-10-14T12:22:53.547845Z"
    },
    "papermill": {
     "duration": 0.039986,
     "end_time": "2022-10-14T12:22:53.547971",
     "exception": false,
     "start_time": "2022-10-14T12:22:53.507985",
     "status": "completed"
    },
    "tags": []
   },
   "outputs": [],
   "source": [
    "#hide\n",
    "# cols = ['name','group','day','value']"
   ]
  },
  {
   "cell_type": "code",
   "execution_count": 37,
   "id": "continued-sleeping",
   "metadata": {
    "execution": {
     "iopub.execute_input": "2022-10-14T12:22:53.618026Z",
     "iopub.status.busy": "2022-10-14T12:22:53.617375Z",
     "iopub.status.idle": "2022-10-14T12:22:53.620123Z",
     "shell.execute_reply": "2022-10-14T12:22:53.619615Z"
    },
    "papermill": {
     "duration": 0.038934,
     "end_time": "2022-10-14T12:22:53.620235",
     "exception": false,
     "start_time": "2022-10-14T12:22:53.581301",
     "status": "completed"
    },
    "tags": []
   },
   "outputs": [],
   "source": [
    "#hide\n",
    "# g.rename(columns= {'date':'day'},inplace = True)"
   ]
  },
  {
   "cell_type": "code",
   "execution_count": 38,
   "id": "major-fight",
   "metadata": {
    "execution": {
     "iopub.execute_input": "2022-10-14T12:22:53.690284Z",
     "iopub.status.busy": "2022-10-14T12:22:53.689487Z",
     "iopub.status.idle": "2022-10-14T12:22:53.691460Z",
     "shell.execute_reply": "2022-10-14T12:22:53.692101Z"
    },
    "papermill": {
     "duration": 0.039543,
     "end_time": "2022-10-14T12:22:53.692253",
     "exception": false,
     "start_time": "2022-10-14T12:22:53.652710",
     "status": "completed"
    },
    "tags": []
   },
   "outputs": [],
   "source": [
    "#hide\n",
    "# g = g[cols]"
   ]
  },
  {
   "cell_type": "code",
   "execution_count": 39,
   "id": "structured-mobile",
   "metadata": {
    "execution": {
     "iopub.execute_input": "2022-10-14T12:22:53.763262Z",
     "iopub.status.busy": "2022-10-14T12:22:53.762641Z",
     "iopub.status.idle": "2022-10-14T12:22:53.765092Z",
     "shell.execute_reply": "2022-10-14T12:22:53.765610Z"
    },
    "papermill": {
     "duration": 0.039601,
     "end_time": "2022-10-14T12:22:53.765743",
     "exception": false,
     "start_time": "2022-10-14T12:22:53.726142",
     "status": "completed"
    },
    "tags": []
   },
   "outputs": [],
   "source": [
    "# #hide\n",
    "# g = g[g.group.notna()]"
   ]
  },
  {
   "cell_type": "code",
   "execution_count": 40,
   "id": "determined-closing",
   "metadata": {
    "execution": {
     "iopub.execute_input": "2022-10-14T12:22:53.835201Z",
     "iopub.status.busy": "2022-10-14T12:22:53.834399Z",
     "iopub.status.idle": "2022-10-14T12:22:53.838855Z",
     "shell.execute_reply": "2022-10-14T12:22:53.839463Z"
    },
    "papermill": {
     "duration": 0.04121,
     "end_time": "2022-10-14T12:22:53.839589",
     "exception": false,
     "start_time": "2022-10-14T12:22:53.798379",
     "status": "completed"
    },
    "tags": []
   },
   "outputs": [],
   "source": [
    "# #hide\n",
    "# colors = dict(zip(\n",
    "#     [\"Oceania\", \"Europe\", \"Asia\", \"South America\", \"Middle East\", \"North America\", \"Africa\"],\n",
    "#     [\"#adb0ff\", \"#ffb3ff\", \"#90d595\", \"#e48381\", \"#aafbff\", \"#f7bb5f\", \"#eafb50\"]\n",
    "# ))\n",
    "# group_lk = g.set_index('name')['group'].to_dict()"
   ]
  },
  {
   "cell_type": "code",
   "execution_count": null,
   "id": "gross-drinking",
   "metadata": {
    "papermill": {
     "duration": 0.032883,
     "end_time": "2022-10-14T12:22:53.905465",
     "exception": false,
     "start_time": "2022-10-14T12:22:53.872582",
     "status": "completed"
    },
    "tags": []
   },
   "outputs": [],
   "source": []
  },
  {
   "cell_type": "code",
   "execution_count": 41,
   "id": "subject-macintosh",
   "metadata": {
    "execution": {
     "iopub.execute_input": "2022-10-14T12:22:53.974711Z",
     "iopub.status.busy": "2022-10-14T12:22:53.974046Z",
     "iopub.status.idle": "2022-10-14T12:22:53.978459Z",
     "shell.execute_reply": "2022-10-14T12:22:53.978953Z"
    },
    "papermill": {
     "duration": 0.04107,
     "end_time": "2022-10-14T12:22:53.979085",
     "exception": false,
     "start_time": "2022-10-14T12:22:53.938015",
     "status": "completed"
    },
    "tags": []
   },
   "outputs": [],
   "source": [
    "# #hide\n",
    "# fig, ax = plt.subplots(figsize=(15, 8))\n",
    "\n",
    "# def draw_barchart(current_day):\n",
    "#     dff = g[g['day'].eq(current_day)].sort_values(by='value', ascending=True).tail(10)\n",
    "#     ax.clear()\n",
    "#     ax.barh(dff['name'], dff['value'], color=[colors[group_lk[x]] for x in dff['name']])\n",
    "#     dx = dff['value'].max() / 200\n",
    "    \n",
    "#     for i, (value, name) in enumerate(zip(dff['value'], dff['name'])):\n",
    "#         ax.text(value-dx, i,     name,           size=14, weight=600, ha='right', va='bottom')\n",
    "#         ax.text(value-dx, i-.25, group_lk[name], size=10, color='#444444', ha='right', va='baseline')\n",
    "#         ax.text(value+dx, i,     f'{value:,.0f}',  size=14, ha='left',  va='center')\n",
    "#     ax.text(1, 0.4, current_day, transform=ax.transAxes, color='#777777', size=46, ha='right', weight=800)\n",
    "#     ax.text(0, 1.06, 'Population (thousands)', transform=ax.transAxes, size=12, color='#777777')\n",
    "#     ax.xaxis.set_major_formatter(ticker.StrMethodFormatter('{x:,.0f}'))\n",
    "#     ax.xaxis.set_ticks_position('top')\n",
    "#     ax.tick_params(axis='x', colors='#777777', labelsize=12)\n",
    "#     ax.set_yticks([])\n",
    "#     ax.margins(0, 0.01)\n",
    "#     ax.grid(which='major', axis='x', linestyle='-')\n",
    "#     ax.set_axisbelow(True)\n",
    "    \n",
    "#     ax.text(0, 1.15, 'Coronavirus',\n",
    "#             transform=ax.transAxes, size=24, weight=600, ha='left', va='top')\n",
    "# #     ax.text(1, 0, 'by @pratapvardhan; credit @jburnmurdoch', transform=ax.transAxes, color='#777777', ha='right',\n",
    "# #             bbox=dict(facecolor='white', alpha=0.8, edgecolor='white'))\n",
    "#     plt.box(False)"
   ]
  },
  {
   "cell_type": "code",
   "execution_count": 42,
   "id": "sexual-wages",
   "metadata": {
    "execution": {
     "iopub.execute_input": "2022-10-14T12:22:54.051825Z",
     "iopub.status.busy": "2022-10-14T12:22:54.051039Z",
     "iopub.status.idle": "2022-10-14T12:22:54.055049Z",
     "shell.execute_reply": "2022-10-14T12:22:54.055506Z"
    },
    "papermill": {
     "duration": 0.040756,
     "end_time": "2022-10-14T12:22:54.055635",
     "exception": false,
     "start_time": "2022-10-14T12:22:54.014879",
     "status": "completed"
    },
    "tags": []
   },
   "outputs": [],
   "source": [
    "# #hide_input\n",
    "# fig, ax = plt.subplots(figsize=(15, 8))\n",
    "# animator = animation.FuncAnimation(fig, draw_barchart, frames=range(g.day.values.min(), g.day.values.max()))\n",
    "# HTML(animator.to_jshtml())\n",
    "# # or use animator.to_html5_video() or animator.save() "
   ]
  },
  {
   "cell_type": "code",
   "execution_count": null,
   "id": "australian-container",
   "metadata": {
    "papermill": {
     "duration": 0.033116,
     "end_time": "2022-10-14T12:22:54.122309",
     "exception": false,
     "start_time": "2022-10-14T12:22:54.089193",
     "status": "completed"
    },
    "tags": []
   },
   "outputs": [],
   "source": []
  },
  {
   "cell_type": "code",
   "execution_count": null,
   "id": "mediterranean-pontiac",
   "metadata": {
    "papermill": {
     "duration": 0.032109,
     "end_time": "2022-10-14T12:22:54.186479",
     "exception": false,
     "start_time": "2022-10-14T12:22:54.154370",
     "status": "completed"
    },
    "tags": []
   },
   "outputs": [],
   "source": []
  },
  {
   "cell_type": "code",
   "execution_count": null,
   "id": "aging-legislature",
   "metadata": {
    "papermill": {
     "duration": 0.031923,
     "end_time": "2022-10-14T12:22:54.250513",
     "exception": false,
     "start_time": "2022-10-14T12:22:54.218590",
     "status": "completed"
    },
    "tags": []
   },
   "outputs": [],
   "source": []
  }
 ],
 "metadata": {
  "kernelspec": {
   "display_name": "Python 3",
   "language": "python",
   "name": "python3"
  },
  "language_info": {
   "codemirror_mode": {
    "name": "ipython",
    "version": 3
   },
   "file_extension": ".py",
   "mimetype": "text/x-python",
   "name": "python",
   "nbconvert_exporter": "python",
   "pygments_lexer": "ipython3",
   "version": "3.6.15"
  },
  "papermill": {
   "duration": 6.771091,
   "end_time": "2022-10-14T12:22:54.603192",
   "environment_variables": {},
   "exception": null,
   "input_path": "2020-03-21-covid19exp.ipynb",
   "output_path": "2020-03-21-covid19exp.ipynb",
   "parameters": {},
   "start_time": "2022-10-14T12:22:47.832101",
   "version": "2.0.0"
  }
 },
 "nbformat": 4,
 "nbformat_minor": 5
}