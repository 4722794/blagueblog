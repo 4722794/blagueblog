{
 "cells": [
  {
   "cell_type": "markdown",
   "id": "muslim-click",
   "metadata": {
    "papermill": {
     "duration": 0.033131,
     "end_time": "2022-07-22T00:49:46.736140",
     "exception": false,
     "start_time": "2022-07-22T00:49:46.703009",
     "status": "completed"
    },
    "tags": []
   },
   "source": [
    "# COVID-19 Case Race\n",
    "> A race chart to see rising cases around the world\n",
    "\n",
    "- author: Hargun Oberoi\n",
    "- image: images/covid-overview.png\n",
    "- hide: false\n",
    "- badges: false"
   ]
  },
  {
   "cell_type": "code",
   "execution_count": 1,
   "id": "proof-material",
   "metadata": {
    "execution": {
     "iopub.execute_input": "2022-07-22T00:49:46.802103Z",
     "iopub.status.busy": "2022-07-22T00:49:46.801513Z",
     "iopub.status.idle": "2022-07-22T00:49:47.146100Z",
     "shell.execute_reply": "2022-07-22T00:49:47.145534Z"
    },
    "papermill": {
     "duration": 0.380768,
     "end_time": "2022-07-22T00:49:47.146261",
     "exception": false,
     "start_time": "2022-07-22T00:49:46.765493",
     "status": "completed"
    },
    "tags": []
   },
   "outputs": [],
   "source": [
    "#hide\n",
    "import numpy as np\n",
    "import pandas as pd\n",
    "from jinja2 import Template\n",
    "from IPython.display import HTML"
   ]
  },
  {
   "cell_type": "code",
   "execution_count": 2,
   "id": "developed-terminology",
   "metadata": {
    "execution": {
     "iopub.execute_input": "2022-07-22T00:49:47.210993Z",
     "iopub.status.busy": "2022-07-22T00:49:47.210316Z",
     "iopub.status.idle": "2022-07-22T00:49:47.212747Z",
     "shell.execute_reply": "2022-07-22T00:49:47.213352Z"
    },
    "papermill": {
     "duration": 0.036911,
     "end_time": "2022-07-22T00:49:47.213492",
     "exception": false,
     "start_time": "2022-07-22T00:49:47.176581",
     "status": "completed"
    },
    "tags": []
   },
   "outputs": [],
   "source": [
    "#hide\n",
    "\n",
    "# FETCH\n",
    "base_url = 'https://raw.githubusercontent.com/pratapvardhan/notebooks/master/covid19/'\n",
    "paths = {\n",
    "    'mapping': base_url + 'mapping_countries.csv',\n",
    "    'overview': base_url + 'overview.tpl'\n",
    "}"
   ]
  },
  {
   "cell_type": "code",
   "execution_count": 3,
   "id": "dynamic-saver",
   "metadata": {
    "execution": {
     "iopub.execute_input": "2022-07-22T00:49:47.279935Z",
     "iopub.status.busy": "2022-07-22T00:49:47.279442Z",
     "iopub.status.idle": "2022-07-22T00:49:47.283576Z",
     "shell.execute_reply": "2022-07-22T00:49:47.284045Z"
    },
    "papermill": {
     "duration": 0.040992,
     "end_time": "2022-07-22T00:49:47.284150",
     "exception": false,
     "start_time": "2022-07-22T00:49:47.243158",
     "status": "completed"
    },
    "tags": []
   },
   "outputs": [
    {
     "data": {
      "text/plain": [
       "'https://raw.githubusercontent.com/pratapvardhan/notebooks/master/covid19/mapping_countries.csv'"
      ]
     },
     "execution_count": 3,
     "metadata": {},
     "output_type": "execute_result"
    }
   ],
   "source": [
    "#hide\n",
    "paths['mapping']"
   ]
  },
  {
   "cell_type": "code",
   "execution_count": 4,
   "id": "urban-software",
   "metadata": {
    "execution": {
     "iopub.execute_input": "2022-07-22T00:49:47.347556Z",
     "iopub.status.busy": "2022-07-22T00:49:47.346720Z",
     "iopub.status.idle": "2022-07-22T00:49:47.348726Z",
     "shell.execute_reply": "2022-07-22T00:49:47.349354Z"
    },
    "papermill": {
     "duration": 0.035653,
     "end_time": "2022-07-22T00:49:47.349520",
     "exception": false,
     "start_time": "2022-07-22T00:49:47.313867",
     "status": "completed"
    },
    "tags": []
   },
   "outputs": [],
   "source": [
    "#hide\n",
    "def get_mappings(url):\n",
    "    df = pd.read_csv(url)\n",
    "    return {\n",
    "        'df': df,\n",
    "        'replace.country': dict(df.dropna(subset=['Name']).set_index('Country')['Name']),\n",
    "        'map.continent': dict(df.set_index('Name')['Continent'])\n",
    "    }"
   ]
  },
  {
   "cell_type": "code",
   "execution_count": 5,
   "id": "intimate-machinery",
   "metadata": {
    "execution": {
     "iopub.execute_input": "2022-07-22T00:49:47.412480Z",
     "iopub.status.busy": "2022-07-22T00:49:47.411849Z",
     "iopub.status.idle": "2022-07-22T00:49:47.466925Z",
     "shell.execute_reply": "2022-07-22T00:49:47.466247Z"
    },
    "papermill": {
     "duration": 0.088351,
     "end_time": "2022-07-22T00:49:47.467073",
     "exception": false,
     "start_time": "2022-07-22T00:49:47.378722",
     "status": "completed"
    },
    "tags": []
   },
   "outputs": [],
   "source": [
    "#hide\n",
    "mapping = get_mappings(paths['mapping'])"
   ]
  },
  {
   "cell_type": "code",
   "execution_count": 6,
   "id": "certified-tactics",
   "metadata": {
    "execution": {
     "iopub.execute_input": "2022-07-22T00:49:47.533720Z",
     "iopub.status.busy": "2022-07-22T00:49:47.533003Z",
     "iopub.status.idle": "2022-07-22T00:49:47.534597Z",
     "shell.execute_reply": "2022-07-22T00:49:47.535134Z"
    },
    "papermill": {
     "duration": 0.037618,
     "end_time": "2022-07-22T00:49:47.535274",
     "exception": false,
     "start_time": "2022-07-22T00:49:47.497656",
     "status": "completed"
    },
    "tags": []
   },
   "outputs": [],
   "source": [
    "#hide\n",
    "def get_template(path):\n",
    "    from urllib.parse import urlparse\n",
    "    if bool(urlparse(path).netloc):\n",
    "        from urllib.request import urlopen\n",
    "        return urlopen(path).read().decode('utf8')\n",
    "    return open(path).read()"
   ]
  },
  {
   "cell_type": "code",
   "execution_count": 7,
   "id": "realistic-blast",
   "metadata": {
    "execution": {
     "iopub.execute_input": "2022-07-22T00:49:47.593618Z",
     "iopub.status.busy": "2022-07-22T00:49:47.593127Z",
     "iopub.status.idle": "2022-07-22T00:49:47.596470Z",
     "shell.execute_reply": "2022-07-22T00:49:47.597129Z"
    },
    "papermill": {
     "duration": 0.033624,
     "end_time": "2022-07-22T00:49:47.597269",
     "exception": false,
     "start_time": "2022-07-22T00:49:47.563645",
     "status": "completed"
    },
    "tags": []
   },
   "outputs": [],
   "source": [
    "#hide\n",
    "def get_frame(name):\n",
    "    url = (\n",
    "        'https://raw.githubusercontent.com/CSSEGISandData/COVID-19/master/csse_covid_19_data/'\n",
    "        f'csse_covid_19_time_series/time_series_covid19_{name}_global.csv')\n",
    "    df = pd.read_csv(url)\n",
    "    # rename countries\n",
    "    df['Country/Region'] = df['Country/Region'].replace(mapping['replace.country'])\n",
    "    return df"
   ]
  },
  {
   "cell_type": "code",
   "execution_count": 8,
   "id": "affiliated-characterization",
   "metadata": {
    "execution": {
     "iopub.execute_input": "2022-07-22T00:49:47.657683Z",
     "iopub.status.busy": "2022-07-22T00:49:47.656988Z",
     "iopub.status.idle": "2022-07-22T00:49:47.659790Z",
     "shell.execute_reply": "2022-07-22T00:49:47.659276Z"
    },
    "papermill": {
     "duration": 0.035909,
     "end_time": "2022-07-22T00:49:47.659908",
     "exception": false,
     "start_time": "2022-07-22T00:49:47.623999",
     "status": "completed"
    },
    "tags": []
   },
   "outputs": [],
   "source": [
    "#hide\n",
    "def get_dates(df):\n",
    "    dt_cols = df.columns[~df.columns.isin(['Province/State', 'Country/Region', 'Lat', 'Long'])]\n",
    "    LAST_DATE_I = -1\n",
    "    # sometimes last column may be empty, then go backwards\n",
    "    for i in range(-1, -len(dt_cols), -1):\n",
    "        if not df[dt_cols[i]].fillna(0).eq(0).all():\n",
    "            LAST_DATE_I = i\n",
    "            break\n",
    "    return LAST_DATE_I, dt_cols"
   ]
  },
  {
   "cell_type": "code",
   "execution_count": 9,
   "id": "recent-optimization",
   "metadata": {
    "execution": {
     "iopub.execute_input": "2022-07-22T00:49:47.726339Z",
     "iopub.status.busy": "2022-07-22T00:49:47.725621Z",
     "iopub.status.idle": "2022-07-22T00:49:48.267027Z",
     "shell.execute_reply": "2022-07-22T00:49:48.266291Z"
    },
    "papermill": {
     "duration": 0.573717,
     "end_time": "2022-07-22T00:49:48.267201",
     "exception": false,
     "start_time": "2022-07-22T00:49:47.693484",
     "status": "completed"
    },
    "tags": []
   },
   "outputs": [],
   "source": [
    "#hide\n",
    "COL_REGION = 'Country/Region'\n",
    "# Confirmed, Recovered, Deaths\n",
    "df = get_frame('confirmed')\n",
    "# dft_: timeseries, dfc_: today country agg\n",
    "dft_cases = df\n",
    "dft_deaths = get_frame('deaths')\n",
    "dft_recovered = get_frame('recovered')\n",
    "LAST_DATE_I, dt_cols = get_dates(df)"
   ]
  },
  {
   "cell_type": "code",
   "execution_count": 10,
   "id": "absolute-copper",
   "metadata": {
    "execution": {
     "iopub.execute_input": "2022-07-22T00:49:48.335226Z",
     "iopub.status.busy": "2022-07-22T00:49:48.334514Z",
     "iopub.status.idle": "2022-07-22T00:49:48.337456Z",
     "shell.execute_reply": "2022-07-22T00:49:48.336755Z"
    },
    "papermill": {
     "duration": 0.037071,
     "end_time": "2022-07-22T00:49:48.337591",
     "exception": false,
     "start_time": "2022-07-22T00:49:48.300520",
     "status": "completed"
    },
    "tags": []
   },
   "outputs": [],
   "source": [
    "#hide\n",
    "LAST_DATE_I, dt_cols = get_dates(df)\n",
    "dt_today =dt_cols[LAST_DATE_I]\n",
    "# dt_5day = dt_cols[LAST_DATE_I - 5]\n",
    "dt_yday = dt_cols[LAST_DATE_I - 1]"
   ]
  },
  {
   "cell_type": "code",
   "execution_count": 11,
   "id": "restricted-sheriff",
   "metadata": {
    "execution": {
     "iopub.execute_input": "2022-07-22T00:49:48.397931Z",
     "iopub.status.busy": "2022-07-22T00:49:48.397299Z",
     "iopub.status.idle": "2022-07-22T00:49:48.404469Z",
     "shell.execute_reply": "2022-07-22T00:49:48.405144Z"
    },
    "papermill": {
     "duration": 0.041633,
     "end_time": "2022-07-22T00:49:48.405290",
     "exception": false,
     "start_time": "2022-07-22T00:49:48.363657",
     "status": "completed"
    },
    "tags": []
   },
   "outputs": [],
   "source": [
    "#hide\n",
    "dfc_cases = dft_cases.groupby(COL_REGION)[dt_today].sum()\n",
    "dfc_deaths = dft_deaths.groupby(COL_REGION)[dt_today].sum()\n",
    "# dfp_cases = dft_cases.groupby(COL_REGION)[dt_5day].sum()\n",
    "# dfp_deaths = dft_deaths.groupby(COL_REGION)[dt_5day].sum()\n",
    "dfp_cases = dft_cases.groupby(COL_REGION)[dt_yday].sum()\n",
    "dfp_deaths = dft_deaths.groupby(COL_REGION)[dt_yday].sum()"
   ]
  },
  {
   "cell_type": "code",
   "execution_count": 12,
   "id": "deluxe-hepatitis",
   "metadata": {
    "execution": {
     "iopub.execute_input": "2022-07-22T00:49:48.470845Z",
     "iopub.status.busy": "2022-07-22T00:49:48.470241Z",
     "iopub.status.idle": "2022-07-22T00:49:48.475229Z",
     "shell.execute_reply": "2022-07-22T00:49:48.475876Z"
    },
    "papermill": {
     "duration": 0.042063,
     "end_time": "2022-07-22T00:49:48.476023",
     "exception": false,
     "start_time": "2022-07-22T00:49:48.433960",
     "status": "completed"
    },
    "tags": []
   },
   "outputs": [],
   "source": [
    "#hide\n",
    "df_table = (pd.DataFrame(dict(Cases = dfc_cases, Deaths = dfc_deaths, PCases = dfp_cases, PDeaths = dfp_deaths))\n",
    "            .sort_values(by = ['Cases','Deaths'], ascending = [False, False])\n",
    "            .reset_index())"
   ]
  },
  {
   "cell_type": "code",
   "execution_count": 13,
   "id": "educational-chancellor",
   "metadata": {
    "execution": {
     "iopub.execute_input": "2022-07-22T00:49:48.550603Z",
     "iopub.status.busy": "2022-07-22T00:49:48.549890Z",
     "iopub.status.idle": "2022-07-22T00:49:48.558116Z",
     "shell.execute_reply": "2022-07-22T00:49:48.558704Z"
    },
    "papermill": {
     "duration": 0.054409,
     "end_time": "2022-07-22T00:49:48.558826",
     "exception": false,
     "start_time": "2022-07-22T00:49:48.504417",
     "status": "completed"
    },
    "tags": []
   },
   "outputs": [
    {
     "data": {
      "text/html": [
       "<div>\n",
       "<style scoped>\n",
       "    .dataframe tbody tr th:only-of-type {\n",
       "        vertical-align: middle;\n",
       "    }\n",
       "\n",
       "    .dataframe tbody tr th {\n",
       "        vertical-align: top;\n",
       "    }\n",
       "\n",
       "    .dataframe thead th {\n",
       "        text-align: right;\n",
       "    }\n",
       "</style>\n",
       "<table border=\"1\" class=\"dataframe\">\n",
       "  <thead>\n",
       "    <tr style=\"text-align: right;\">\n",
       "      <th></th>\n",
       "      <th>Country/Region</th>\n",
       "      <th>Cases</th>\n",
       "      <th>Deaths</th>\n",
       "      <th>PCases</th>\n",
       "      <th>PDeaths</th>\n",
       "      <th>Cases (+)</th>\n",
       "      <th>Deaths (+)</th>\n",
       "      <th>Fatality Rate</th>\n",
       "      <th>Continent</th>\n",
       "    </tr>\n",
       "  </thead>\n",
       "  <tbody>\n",
       "    <tr>\n",
       "      <th>0</th>\n",
       "      <td>US</td>\n",
       "      <td>90046261</td>\n",
       "      <td>1025763</td>\n",
       "      <td>89830497</td>\n",
       "      <td>1024880</td>\n",
       "      <td>215764</td>\n",
       "      <td>883</td>\n",
       "      <td>1.14</td>\n",
       "      <td>North America</td>\n",
       "    </tr>\n",
       "    <tr>\n",
       "      <th>1</th>\n",
       "      <td>India</td>\n",
       "      <td>43824728</td>\n",
       "      <td>528433</td>\n",
       "      <td>43801678</td>\n",
       "      <td>525821</td>\n",
       "      <td>23050</td>\n",
       "      <td>2612</td>\n",
       "      <td>1.21</td>\n",
       "      <td>Asia</td>\n",
       "    </tr>\n",
       "    <tr>\n",
       "      <th>2</th>\n",
       "      <td>France</td>\n",
       "      <td>33465759</td>\n",
       "      <td>152144</td>\n",
       "      <td>33375449</td>\n",
       "      <td>152019</td>\n",
       "      <td>90310</td>\n",
       "      <td>125</td>\n",
       "      <td>0.45</td>\n",
       "      <td>Europe</td>\n",
       "    </tr>\n",
       "    <tr>\n",
       "      <th>3</th>\n",
       "      <td>Brazil</td>\n",
       "      <td>33454294</td>\n",
       "      <td>676217</td>\n",
       "      <td>33397814</td>\n",
       "      <td>675871</td>\n",
       "      <td>56480</td>\n",
       "      <td>346</td>\n",
       "      <td>2.02</td>\n",
       "      <td>South America</td>\n",
       "    </tr>\n",
       "    <tr>\n",
       "      <th>4</th>\n",
       "      <td>Germany</td>\n",
       "      <td>30131303</td>\n",
       "      <td>142948</td>\n",
       "      <td>29994679</td>\n",
       "      <td>142771</td>\n",
       "      <td>136624</td>\n",
       "      <td>177</td>\n",
       "      <td>0.47</td>\n",
       "      <td>Europe</td>\n",
       "    </tr>\n",
       "  </tbody>\n",
       "</table>\n",
       "</div>"
      ],
      "text/plain": [
       "  Country/Region     Cases   Deaths    PCases  PDeaths  Cases (+)  Deaths (+)  \\\n",
       "0             US  90046261  1025763  89830497  1024880     215764         883   \n",
       "1          India  43824728   528433  43801678   525821      23050        2612   \n",
       "2         France  33465759   152144  33375449   152019      90310         125   \n",
       "3         Brazil  33454294   676217  33397814   675871      56480         346   \n",
       "4        Germany  30131303   142948  29994679   142771     136624         177   \n",
       "\n",
       "   Fatality Rate      Continent  \n",
       "0           1.14  North America  \n",
       "1           1.21           Asia  \n",
       "2           0.45         Europe  \n",
       "3           2.02  South America  \n",
       "4           0.47         Europe  "
      ]
     },
     "execution_count": 13,
     "metadata": {},
     "output_type": "execute_result"
    }
   ],
   "source": [
    "#hide\n",
    "for c in 'Cases, Deaths'.split(', '):\n",
    "    df_table[f'{c} (+)'] = (df_table[c] - df_table[f'P{c}']).clip(0)\n",
    "    #Clip ça veut dire, les chiffres negatif sont interdit\n",
    "df_table['Fatality Rate'] = (100* df_table['Deaths']/ df_table['Cases']).round(2)\n",
    "df_table['Continent'] = df_table['Country/Region'].map(mapping['map.continent'])\n",
    "df_table.head(5)"
   ]
  },
  {
   "cell_type": "code",
   "execution_count": 14,
   "id": "aboriginal-bulgaria",
   "metadata": {
    "execution": {
     "iopub.execute_input": "2022-07-22T00:49:48.624225Z",
     "iopub.status.busy": "2022-07-22T00:49:48.623657Z",
     "iopub.status.idle": "2022-07-22T00:49:48.626982Z",
     "shell.execute_reply": "2022-07-22T00:49:48.627637Z"
    },
    "papermill": {
     "duration": 0.038697,
     "end_time": "2022-07-22T00:49:48.627782",
     "exception": false,
     "start_time": "2022-07-22T00:49:48.589085",
     "status": "completed"
    },
    "tags": []
   },
   "outputs": [],
   "source": [
    "#hide\n",
    "#delete problematic countries from table\n",
    "df_table = df_table[~df_table['Country/Region'].isin(['Cape Verde', 'Cruise Ship', 'Kosovo'])]"
   ]
  },
  {
   "cell_type": "code",
   "execution_count": 15,
   "id": "fantastic-effect",
   "metadata": {
    "execution": {
     "iopub.execute_input": "2022-07-22T00:49:48.692944Z",
     "iopub.status.busy": "2022-07-22T00:49:48.692291Z",
     "iopub.status.idle": "2022-07-22T00:49:48.713214Z",
     "shell.execute_reply": "2022-07-22T00:49:48.712809Z"
    },
    "papermill": {
     "duration": 0.057046,
     "end_time": "2022-07-22T00:49:48.713313",
     "exception": false,
     "start_time": "2022-07-22T00:49:48.656267",
     "status": "completed"
    },
    "tags": []
   },
   "outputs": [
    {
     "data": {
      "text/html": [
       "<div>\n",
       "<style scoped>\n",
       "    .dataframe tbody tr th:only-of-type {\n",
       "        vertical-align: middle;\n",
       "    }\n",
       "\n",
       "    .dataframe tbody tr th {\n",
       "        vertical-align: top;\n",
       "    }\n",
       "\n",
       "    .dataframe thead th {\n",
       "        text-align: right;\n",
       "    }\n",
       "</style>\n",
       "<table border=\"1\" class=\"dataframe\">\n",
       "  <thead>\n",
       "    <tr style=\"text-align: right;\">\n",
       "      <th></th>\n",
       "      <th>Country/Region</th>\n",
       "      <th>Cases</th>\n",
       "      <th>Deaths</th>\n",
       "      <th>PCases</th>\n",
       "      <th>PDeaths</th>\n",
       "      <th>Cases (+)</th>\n",
       "      <th>Deaths (+)</th>\n",
       "      <th>Fatality Rate</th>\n",
       "      <th>Continent</th>\n",
       "    </tr>\n",
       "  </thead>\n",
       "  <tbody>\n",
       "    <tr>\n",
       "      <th>0</th>\n",
       "      <td>US</td>\n",
       "      <td>90046261</td>\n",
       "      <td>1025763</td>\n",
       "      <td>89830497</td>\n",
       "      <td>1024880</td>\n",
       "      <td>215764</td>\n",
       "      <td>883</td>\n",
       "      <td>1.1</td>\n",
       "      <td>North America</td>\n",
       "    </tr>\n",
       "    <tr>\n",
       "      <th>1</th>\n",
       "      <td>India</td>\n",
       "      <td>43824728</td>\n",
       "      <td>528433</td>\n",
       "      <td>43801678</td>\n",
       "      <td>525821</td>\n",
       "      <td>23050</td>\n",
       "      <td>2612</td>\n",
       "      <td>1.2</td>\n",
       "      <td>Asia</td>\n",
       "    </tr>\n",
       "    <tr>\n",
       "      <th>2</th>\n",
       "      <td>France</td>\n",
       "      <td>33465759</td>\n",
       "      <td>152144</td>\n",
       "      <td>33375449</td>\n",
       "      <td>152019</td>\n",
       "      <td>90310</td>\n",
       "      <td>125</td>\n",
       "      <td>0.5</td>\n",
       "      <td>Europe</td>\n",
       "    </tr>\n",
       "    <tr>\n",
       "      <th>3</th>\n",
       "      <td>Brazil</td>\n",
       "      <td>33454294</td>\n",
       "      <td>676217</td>\n",
       "      <td>33397814</td>\n",
       "      <td>675871</td>\n",
       "      <td>56480</td>\n",
       "      <td>346</td>\n",
       "      <td>2.0</td>\n",
       "      <td>South America</td>\n",
       "    </tr>\n",
       "    <tr>\n",
       "      <th>4</th>\n",
       "      <td>Germany</td>\n",
       "      <td>30131303</td>\n",
       "      <td>142948</td>\n",
       "      <td>29994679</td>\n",
       "      <td>142771</td>\n",
       "      <td>136624</td>\n",
       "      <td>177</td>\n",
       "      <td>0.5</td>\n",
       "      <td>Europe</td>\n",
       "    </tr>\n",
       "  </tbody>\n",
       "</table>\n",
       "</div>"
      ],
      "text/plain": [
       "  Country/Region     Cases   Deaths    PCases  PDeaths  Cases (+)  Deaths (+)  \\\n",
       "0             US  90046261  1025763  89830497  1024880     215764         883   \n",
       "1          India  43824728   528433  43801678   525821      23050        2612   \n",
       "2         France  33465759   152144  33375449   152019      90310         125   \n",
       "3         Brazil  33454294   676217  33397814   675871      56480         346   \n",
       "4        Germany  30131303   142948  29994679   142771     136624         177   \n",
       "\n",
       "   Fatality Rate      Continent  \n",
       "0            1.1  North America  \n",
       "1            1.2           Asia  \n",
       "2            0.5         Europe  \n",
       "3            2.0  South America  \n",
       "4            0.5         Europe  "
      ]
     },
     "execution_count": 15,
     "metadata": {},
     "output_type": "execute_result"
    }
   ],
   "source": [
    "#hide\n",
    "df_table = (pd.DataFrame(dict(Cases=dfc_cases, Deaths=dfc_deaths, PCases=dfp_cases, PDeaths=dfp_deaths))\n",
    "             .sort_values(by=['Cases', 'Deaths'], ascending=[False, False])\n",
    "             .reset_index())\n",
    "df_table.rename(columns={'index': 'Country/Region'}, inplace=True)\n",
    "for c in 'Cases, Deaths'.split(', '):\n",
    "    df_table[f'{c} (+)'] = (df_table[c] - df_table[f'P{c}']).clip(0)  # DATA BUG\n",
    "df_table['Fatality Rate'] = (100 * df_table['Deaths'] / df_table['Cases']).round(1)\n",
    "df_table['Continent'] = df_table['Country/Region'].map(mapping['map.continent'])\n",
    "df_table.head(5)"
   ]
  },
  {
   "cell_type": "code",
   "execution_count": 16,
   "id": "fewer-occasion",
   "metadata": {
    "execution": {
     "iopub.execute_input": "2022-07-22T00:49:48.775800Z",
     "iopub.status.busy": "2022-07-22T00:49:48.775155Z",
     "iopub.status.idle": "2022-07-22T00:49:48.778766Z",
     "shell.execute_reply": "2022-07-22T00:49:48.779214Z"
    },
    "papermill": {
     "duration": 0.036805,
     "end_time": "2022-07-22T00:49:48.779337",
     "exception": false,
     "start_time": "2022-07-22T00:49:48.742532",
     "status": "completed"
    },
    "tags": []
   },
   "outputs": [],
   "source": [
    "#hide\n",
    "#delete problematic countries from table\n",
    "df_table = df_table[~df_table['Country/Region'].isin(['Cape Verde', 'Cruise Ship', 'Kosovo'])]"
   ]
  },
  {
   "cell_type": "code",
   "execution_count": 17,
   "id": "related-center",
   "metadata": {
    "execution": {
     "iopub.execute_input": "2022-07-22T00:49:48.850324Z",
     "iopub.status.busy": "2022-07-22T00:49:48.849714Z",
     "iopub.status.idle": "2022-07-22T00:49:48.859926Z",
     "shell.execute_reply": "2022-07-22T00:49:48.860453Z"
    },
    "papermill": {
     "duration": 0.051652,
     "end_time": "2022-07-22T00:49:48.860590",
     "exception": false,
     "start_time": "2022-07-22T00:49:48.808938",
     "status": "completed"
    },
    "tags": []
   },
   "outputs": [],
   "source": [
    "#hide\n",
    "metrics = [df_table.columns[index] for index in [1,2,5,6]]\n",
    "# s_china = df_table[df_table['Country/Region'].eq('China')][metrics].sum().add_prefix('China ')\n",
    "s_us = df_table[df_table['Country/Region'].eq('US')][metrics].sum().add_prefix('US ')\n",
    "s_eu = df_table[df_table['Continent'].eq('Europe')][metrics].sum().add_prefix('EU ')\n",
    "s_ind = df_table[df_table['Country/Region'].eq('India')][metrics].sum().add_prefix('India ')\n",
    "summary = {'updated': pd.to_datetime(dt_today), 'since': pd.to_datetime(dt_yday)}\n",
    "summary = {'updated': pd.to_datetime(dt_today), 'since': pd.to_datetime(dt_yday)}\n",
    "summary = {**summary, **df_table[metrics].sum(), **s_ind, **s_us, **s_eu}"
   ]
  },
  {
   "cell_type": "code",
   "execution_count": 18,
   "id": "engaging-syndrome",
   "metadata": {
    "execution": {
     "iopub.execute_input": "2022-07-22T00:49:48.923161Z",
     "iopub.status.busy": "2022-07-22T00:49:48.922512Z",
     "iopub.status.idle": "2022-07-22T00:49:48.943251Z",
     "shell.execute_reply": "2022-07-22T00:49:48.943770Z"
    },
    "papermill": {
     "duration": 0.054343,
     "end_time": "2022-07-22T00:49:48.943897",
     "exception": false,
     "start_time": "2022-07-22T00:49:48.889554",
     "status": "completed"
    },
    "tags": []
   },
   "outputs": [],
   "source": [
    "#hide\n",
    "dft_ct_new_cases = dft_cases.groupby(COL_REGION)[dt_cols].sum().diff(axis=1).fillna(0).astype(int)"
   ]
  },
  {
   "cell_type": "code",
   "execution_count": 19,
   "id": "neutral-assignment",
   "metadata": {
    "execution": {
     "iopub.execute_input": "2022-07-22T00:49:49.004710Z",
     "iopub.status.busy": "2022-07-22T00:49:49.004068Z",
     "iopub.status.idle": "2022-07-22T00:49:49.006504Z",
     "shell.execute_reply": "2022-07-22T00:49:49.006914Z"
    },
    "papermill": {
     "duration": 0.035792,
     "end_time": "2022-07-22T00:49:49.007022",
     "exception": false,
     "start_time": "2022-07-22T00:49:48.971230",
     "status": "completed"
    },
    "tags": []
   },
   "outputs": [],
   "source": [
    "#hide\n",
    "everydaycases = dft_ct_new_cases.cumsum(axis=1)"
   ]
  },
  {
   "cell_type": "code",
   "execution_count": 20,
   "id": "parliamentary-calgary",
   "metadata": {
    "execution": {
     "iopub.execute_input": "2022-07-22T00:49:49.066606Z",
     "iopub.status.busy": "2022-07-22T00:49:49.065883Z",
     "iopub.status.idle": "2022-07-22T00:49:49.594986Z",
     "shell.execute_reply": "2022-07-22T00:49:49.595542Z"
    },
    "papermill": {
     "duration": 0.560923,
     "end_time": "2022-07-22T00:49:49.595703",
     "exception": false,
     "start_time": "2022-07-22T00:49:49.034780",
     "status": "completed"
    },
    "tags": []
   },
   "outputs": [],
   "source": [
    "#hide\n",
    "import pandas as pd\n",
    "import matplotlib.pyplot as plt\n",
    "import matplotlib.ticker as ticker\n",
    "import matplotlib.animation as animation\n",
    "from IPython.display import HTML"
   ]
  },
  {
   "cell_type": "code",
   "execution_count": 21,
   "id": "lasting-extraction",
   "metadata": {
    "execution": {
     "iopub.execute_input": "2022-07-22T00:49:49.661772Z",
     "iopub.status.busy": "2022-07-22T00:49:49.661269Z",
     "iopub.status.idle": "2022-07-22T00:49:49.669010Z",
     "shell.execute_reply": "2022-07-22T00:49:49.669393Z"
    },
    "papermill": {
     "duration": 0.044211,
     "end_time": "2022-07-22T00:49:49.669509",
     "exception": false,
     "start_time": "2022-07-22T00:49:49.625298",
     "status": "completed"
    },
    "tags": []
   },
   "outputs": [],
   "source": [
    "#hide\n",
    "t = everydaycases.stack()"
   ]
  },
  {
   "cell_type": "code",
   "execution_count": 22,
   "id": "premier-sleeve",
   "metadata": {
    "execution": {
     "iopub.execute_input": "2022-07-22T00:49:49.727648Z",
     "iopub.status.busy": "2022-07-22T00:49:49.727075Z",
     "iopub.status.idle": "2022-07-22T00:49:49.739232Z",
     "shell.execute_reply": "2022-07-22T00:49:49.739780Z"
    },
    "papermill": {
     "duration": 0.044009,
     "end_time": "2022-07-22T00:49:49.739909",
     "exception": false,
     "start_time": "2022-07-22T00:49:49.695900",
     "status": "completed"
    },
    "tags": []
   },
   "outputs": [],
   "source": [
    "#hide\n",
    "g = t.reset_index(['Country/Region'])"
   ]
  },
  {
   "cell_type": "code",
   "execution_count": 23,
   "id": "distributed-pittsburgh",
   "metadata": {
    "execution": {
     "iopub.execute_input": "2022-07-22T00:49:49.799249Z",
     "iopub.status.busy": "2022-07-22T00:49:49.798593Z",
     "iopub.status.idle": "2022-07-22T00:49:49.802544Z",
     "shell.execute_reply": "2022-07-22T00:49:49.802910Z"
    },
    "papermill": {
     "duration": 0.035557,
     "end_time": "2022-07-22T00:49:49.803025",
     "exception": false,
     "start_time": "2022-07-22T00:49:49.767468",
     "status": "completed"
    },
    "tags": []
   },
   "outputs": [],
   "source": [
    "#hide\n",
    "g.index.name = 'date'"
   ]
  },
  {
   "cell_type": "code",
   "execution_count": 24,
   "id": "naked-donor",
   "metadata": {
    "execution": {
     "iopub.execute_input": "2022-07-22T00:49:49.863594Z",
     "iopub.status.busy": "2022-07-22T00:49:49.862611Z",
     "iopub.status.idle": "2022-07-22T00:49:49.865220Z",
     "shell.execute_reply": "2022-07-22T00:49:49.864609Z"
    },
    "papermill": {
     "duration": 0.033523,
     "end_time": "2022-07-22T00:49:49.865371",
     "exception": false,
     "start_time": "2022-07-22T00:49:49.831848",
     "status": "completed"
    },
    "tags": []
   },
   "outputs": [],
   "source": [
    "# #hide\n",
    "# g = g.reset_index(['date'])"
   ]
  },
  {
   "cell_type": "code",
   "execution_count": 25,
   "id": "incomplete-mustang",
   "metadata": {
    "execution": {
     "iopub.execute_input": "2022-07-22T00:49:49.929433Z",
     "iopub.status.busy": "2022-07-22T00:49:49.928435Z",
     "iopub.status.idle": "2022-07-22T00:49:49.931129Z",
     "shell.execute_reply": "2022-07-22T00:49:49.930469Z"
    },
    "papermill": {
     "duration": 0.035235,
     "end_time": "2022-07-22T00:49:49.931274",
     "exception": false,
     "start_time": "2022-07-22T00:49:49.896039",
     "status": "completed"
    },
    "tags": []
   },
   "outputs": [],
   "source": [
    "#hide\n",
    "# g.head()"
   ]
  },
  {
   "cell_type": "code",
   "execution_count": 26,
   "id": "specific-kruger",
   "metadata": {
    "execution": {
     "iopub.execute_input": "2022-07-22T00:49:49.992080Z",
     "iopub.status.busy": "2022-07-22T00:49:49.991441Z",
     "iopub.status.idle": "2022-07-22T00:49:49.994519Z",
     "shell.execute_reply": "2022-07-22T00:49:49.995165Z"
    },
    "papermill": {
     "duration": 0.034959,
     "end_time": "2022-07-22T00:49:49.995304",
     "exception": false,
     "start_time": "2022-07-22T00:49:49.960345",
     "status": "completed"
    },
    "tags": []
   },
   "outputs": [],
   "source": [
    "#hide\n",
    "# g.columns = ['date','country','cases']"
   ]
  },
  {
   "cell_type": "code",
   "execution_count": 27,
   "id": "tender-conversion",
   "metadata": {
    "execution": {
     "iopub.execute_input": "2022-07-22T00:49:50.060889Z",
     "iopub.status.busy": "2022-07-22T00:49:50.060028Z",
     "iopub.status.idle": "2022-07-22T00:49:50.061872Z",
     "shell.execute_reply": "2022-07-22T00:49:50.062680Z"
    },
    "papermill": {
     "duration": 0.037853,
     "end_time": "2022-07-22T00:49:50.062853",
     "exception": false,
     "start_time": "2022-07-22T00:49:50.025000",
     "status": "completed"
    },
    "tags": []
   },
   "outputs": [],
   "source": [
    "#hide\n",
    "# g['continent'] = g.country"
   ]
  },
  {
   "cell_type": "code",
   "execution_count": 28,
   "id": "substantial-wilderness",
   "metadata": {
    "execution": {
     "iopub.execute_input": "2022-07-22T00:49:50.127953Z",
     "iopub.status.busy": "2022-07-22T00:49:50.127305Z",
     "iopub.status.idle": "2022-07-22T00:49:50.130141Z",
     "shell.execute_reply": "2022-07-22T00:49:50.130608Z"
    },
    "papermill": {
     "duration": 0.036138,
     "end_time": "2022-07-22T00:49:50.130862",
     "exception": false,
     "start_time": "2022-07-22T00:49:50.094724",
     "status": "completed"
    },
    "tags": []
   },
   "outputs": [],
   "source": [
    "#hide\n",
    "# cols = list(g.columns.values)"
   ]
  },
  {
   "cell_type": "code",
   "execution_count": 29,
   "id": "solved-farming",
   "metadata": {
    "execution": {
     "iopub.execute_input": "2022-07-22T00:49:50.191055Z",
     "iopub.status.busy": "2022-07-22T00:49:50.190360Z",
     "iopub.status.idle": "2022-07-22T00:49:50.192489Z",
     "shell.execute_reply": "2022-07-22T00:49:50.192005Z"
    },
    "papermill": {
     "duration": 0.034179,
     "end_time": "2022-07-22T00:49:50.192585",
     "exception": false,
     "start_time": "2022-07-22T00:49:50.158406",
     "status": "completed"
    },
    "tags": []
   },
   "outputs": [],
   "source": [
    "#hide\n",
    "# cols.insert(0, cols.pop())"
   ]
  },
  {
   "cell_type": "code",
   "execution_count": 30,
   "id": "executed-adoption",
   "metadata": {
    "execution": {
     "iopub.execute_input": "2022-07-22T00:49:50.248768Z",
     "iopub.status.busy": "2022-07-22T00:49:50.247949Z",
     "iopub.status.idle": "2022-07-22T00:49:50.249557Z",
     "shell.execute_reply": "2022-07-22T00:49:50.250354Z"
    },
    "papermill": {
     "duration": 0.032061,
     "end_time": "2022-07-22T00:49:50.250528",
     "exception": false,
     "start_time": "2022-07-22T00:49:50.218467",
     "status": "completed"
    },
    "tags": []
   },
   "outputs": [],
   "source": [
    "#hide\n",
    "# g = g[cols]"
   ]
  },
  {
   "cell_type": "code",
   "execution_count": 31,
   "id": "subject-dublin",
   "metadata": {
    "execution": {
     "iopub.execute_input": "2022-07-22T00:49:50.314459Z",
     "iopub.status.busy": "2022-07-22T00:49:50.313775Z",
     "iopub.status.idle": "2022-07-22T00:49:50.316197Z",
     "shell.execute_reply": "2022-07-22T00:49:50.316761Z"
    },
    "papermill": {
     "duration": 0.03631,
     "end_time": "2022-07-22T00:49:50.316913",
     "exception": false,
     "start_time": "2022-07-22T00:49:50.280603",
     "status": "completed"
    },
    "tags": []
   },
   "outputs": [],
   "source": [
    "#hide\n",
    "# g['continent'] = g['continent'].map(mapping['map.continent'])"
   ]
  },
  {
   "cell_type": "code",
   "execution_count": 32,
   "id": "freelance-scout",
   "metadata": {
    "execution": {
     "iopub.execute_input": "2022-07-22T00:49:50.375010Z",
     "iopub.status.busy": "2022-07-22T00:49:50.374410Z",
     "iopub.status.idle": "2022-07-22T00:49:50.377290Z",
     "shell.execute_reply": "2022-07-22T00:49:50.377726Z"
    },
    "papermill": {
     "duration": 0.033649,
     "end_time": "2022-07-22T00:49:50.377843",
     "exception": false,
     "start_time": "2022-07-22T00:49:50.344194",
     "status": "completed"
    },
    "tags": []
   },
   "outputs": [],
   "source": [
    "#hide\n",
    "# g.head()"
   ]
  },
  {
   "cell_type": "code",
   "execution_count": 33,
   "id": "limited-engine",
   "metadata": {
    "execution": {
     "iopub.execute_input": "2022-07-22T00:49:50.438333Z",
     "iopub.status.busy": "2022-07-22T00:49:50.437660Z",
     "iopub.status.idle": "2022-07-22T00:49:50.441476Z",
     "shell.execute_reply": "2022-07-22T00:49:50.441894Z"
    },
    "papermill": {
     "duration": 0.034615,
     "end_time": "2022-07-22T00:49:50.442018",
     "exception": false,
     "start_time": "2022-07-22T00:49:50.407403",
     "status": "completed"
    },
    "tags": []
   },
   "outputs": [],
   "source": [
    "# hide\n",
    "# g['date'] = g['date'].astype('datetime64[ns]')"
   ]
  },
  {
   "cell_type": "code",
   "execution_count": 34,
   "id": "sophisticated-supervisor",
   "metadata": {
    "execution": {
     "iopub.execute_input": "2022-07-22T00:49:50.500897Z",
     "iopub.status.busy": "2022-07-22T00:49:50.500400Z",
     "iopub.status.idle": "2022-07-22T00:49:50.503179Z",
     "shell.execute_reply": "2022-07-22T00:49:50.502775Z"
    },
    "papermill": {
     "duration": 0.033487,
     "end_time": "2022-07-22T00:49:50.503272",
     "exception": false,
     "start_time": "2022-07-22T00:49:50.469785",
     "status": "completed"
    },
    "tags": []
   },
   "outputs": [],
   "source": [
    "#hide\n",
    "# g['date'] = g.date.dt.dayofyear"
   ]
  },
  {
   "cell_type": "code",
   "execution_count": 35,
   "id": "inside-dubai",
   "metadata": {
    "execution": {
     "iopub.execute_input": "2022-07-22T00:49:50.561561Z",
     "iopub.status.busy": "2022-07-22T00:49:50.560783Z",
     "iopub.status.idle": "2022-07-22T00:49:50.562432Z",
     "shell.execute_reply": "2022-07-22T00:49:50.563067Z"
    },
    "papermill": {
     "duration": 0.031851,
     "end_time": "2022-07-22T00:49:50.563221",
     "exception": false,
     "start_time": "2022-07-22T00:49:50.531370",
     "status": "completed"
    },
    "tags": []
   },
   "outputs": [],
   "source": [
    "#hide\n",
    "# g = g.rename(columns= {'continent':'group','country':'name','cases':'value'})"
   ]
  },
  {
   "cell_type": "code",
   "execution_count": 36,
   "id": "fleet-motorcycle",
   "metadata": {
    "execution": {
     "iopub.execute_input": "2022-07-22T00:49:50.628516Z",
     "iopub.status.busy": "2022-07-22T00:49:50.627687Z",
     "iopub.status.idle": "2022-07-22T00:49:50.631854Z",
     "shell.execute_reply": "2022-07-22T00:49:50.632347Z"
    },
    "papermill": {
     "duration": 0.036617,
     "end_time": "2022-07-22T00:49:50.632472",
     "exception": false,
     "start_time": "2022-07-22T00:49:50.595855",
     "status": "completed"
    },
    "tags": []
   },
   "outputs": [],
   "source": [
    "#hide\n",
    "# cols = ['name','group','day','value']"
   ]
  },
  {
   "cell_type": "code",
   "execution_count": 37,
   "id": "continued-sleeping",
   "metadata": {
    "execution": {
     "iopub.execute_input": "2022-07-22T00:49:50.695597Z",
     "iopub.status.busy": "2022-07-22T00:49:50.695101Z",
     "iopub.status.idle": "2022-07-22T00:49:50.697842Z",
     "shell.execute_reply": "2022-07-22T00:49:50.697275Z"
    },
    "papermill": {
     "duration": 0.03724,
     "end_time": "2022-07-22T00:49:50.697957",
     "exception": false,
     "start_time": "2022-07-22T00:49:50.660717",
     "status": "completed"
    },
    "tags": []
   },
   "outputs": [],
   "source": [
    "#hide\n",
    "# g.rename(columns= {'date':'day'},inplace = True)"
   ]
  },
  {
   "cell_type": "code",
   "execution_count": 38,
   "id": "major-fight",
   "metadata": {
    "execution": {
     "iopub.execute_input": "2022-07-22T00:49:50.755844Z",
     "iopub.status.busy": "2022-07-22T00:49:50.755033Z",
     "iopub.status.idle": "2022-07-22T00:49:50.756742Z",
     "shell.execute_reply": "2022-07-22T00:49:50.757357Z"
    },
    "papermill": {
     "duration": 0.033821,
     "end_time": "2022-07-22T00:49:50.757527",
     "exception": false,
     "start_time": "2022-07-22T00:49:50.723706",
     "status": "completed"
    },
    "tags": []
   },
   "outputs": [],
   "source": [
    "#hide\n",
    "# g = g[cols]"
   ]
  },
  {
   "cell_type": "code",
   "execution_count": 39,
   "id": "structured-mobile",
   "metadata": {
    "execution": {
     "iopub.execute_input": "2022-07-22T00:49:50.815858Z",
     "iopub.status.busy": "2022-07-22T00:49:50.815369Z",
     "iopub.status.idle": "2022-07-22T00:49:50.817432Z",
     "shell.execute_reply": "2022-07-22T00:49:50.817977Z"
    },
    "papermill": {
     "duration": 0.031439,
     "end_time": "2022-07-22T00:49:50.818093",
     "exception": false,
     "start_time": "2022-07-22T00:49:50.786654",
     "status": "completed"
    },
    "tags": []
   },
   "outputs": [],
   "source": [
    "# #hide\n",
    "# g = g[g.group.notna()]"
   ]
  },
  {
   "cell_type": "code",
   "execution_count": 40,
   "id": "determined-closing",
   "metadata": {
    "execution": {
     "iopub.execute_input": "2022-07-22T00:49:50.878288Z",
     "iopub.status.busy": "2022-07-22T00:49:50.877755Z",
     "iopub.status.idle": "2022-07-22T00:49:50.880949Z",
     "shell.execute_reply": "2022-07-22T00:49:50.880551Z"
    },
    "papermill": {
     "duration": 0.033647,
     "end_time": "2022-07-22T00:49:50.881039",
     "exception": false,
     "start_time": "2022-07-22T00:49:50.847392",
     "status": "completed"
    },
    "tags": []
   },
   "outputs": [],
   "source": [
    "# #hide\n",
    "# colors = dict(zip(\n",
    "#     [\"Oceania\", \"Europe\", \"Asia\", \"South America\", \"Middle East\", \"North America\", \"Africa\"],\n",
    "#     [\"#adb0ff\", \"#ffb3ff\", \"#90d595\", \"#e48381\", \"#aafbff\", \"#f7bb5f\", \"#eafb50\"]\n",
    "# ))\n",
    "# group_lk = g.set_index('name')['group'].to_dict()"
   ]
  },
  {
   "cell_type": "code",
   "execution_count": null,
   "id": "gross-drinking",
   "metadata": {
    "papermill": {
     "duration": 0.028138,
     "end_time": "2022-07-22T00:49:50.939901",
     "exception": false,
     "start_time": "2022-07-22T00:49:50.911763",
     "status": "completed"
    },
    "tags": []
   },
   "outputs": [],
   "source": []
  },
  {
   "cell_type": "code",
   "execution_count": 41,
   "id": "subject-macintosh",
   "metadata": {
    "execution": {
     "iopub.execute_input": "2022-07-22T00:49:51.002723Z",
     "iopub.status.busy": "2022-07-22T00:49:51.002114Z",
     "iopub.status.idle": "2022-07-22T00:49:51.004099Z",
     "shell.execute_reply": "2022-07-22T00:49:51.003601Z"
    },
    "papermill": {
     "duration": 0.034516,
     "end_time": "2022-07-22T00:49:51.004201",
     "exception": false,
     "start_time": "2022-07-22T00:49:50.969685",
     "status": "completed"
    },
    "tags": []
   },
   "outputs": [],
   "source": [
    "# #hide\n",
    "# fig, ax = plt.subplots(figsize=(15, 8))\n",
    "\n",
    "# def draw_barchart(current_day):\n",
    "#     dff = g[g['day'].eq(current_day)].sort_values(by='value', ascending=True).tail(10)\n",
    "#     ax.clear()\n",
    "#     ax.barh(dff['name'], dff['value'], color=[colors[group_lk[x]] for x in dff['name']])\n",
    "#     dx = dff['value'].max() / 200\n",
    "    \n",
    "#     for i, (value, name) in enumerate(zip(dff['value'], dff['name'])):\n",
    "#         ax.text(value-dx, i,     name,           size=14, weight=600, ha='right', va='bottom')\n",
    "#         ax.text(value-dx, i-.25, group_lk[name], size=10, color='#444444', ha='right', va='baseline')\n",
    "#         ax.text(value+dx, i,     f'{value:,.0f}',  size=14, ha='left',  va='center')\n",
    "#     ax.text(1, 0.4, current_day, transform=ax.transAxes, color='#777777', size=46, ha='right', weight=800)\n",
    "#     ax.text(0, 1.06, 'Population (thousands)', transform=ax.transAxes, size=12, color='#777777')\n",
    "#     ax.xaxis.set_major_formatter(ticker.StrMethodFormatter('{x:,.0f}'))\n",
    "#     ax.xaxis.set_ticks_position('top')\n",
    "#     ax.tick_params(axis='x', colors='#777777', labelsize=12)\n",
    "#     ax.set_yticks([])\n",
    "#     ax.margins(0, 0.01)\n",
    "#     ax.grid(which='major', axis='x', linestyle='-')\n",
    "#     ax.set_axisbelow(True)\n",
    "    \n",
    "#     ax.text(0, 1.15, 'Coronavirus',\n",
    "#             transform=ax.transAxes, size=24, weight=600, ha='left', va='top')\n",
    "# #     ax.text(1, 0, 'by @pratapvardhan; credit @jburnmurdoch', transform=ax.transAxes, color='#777777', ha='right',\n",
    "# #             bbox=dict(facecolor='white', alpha=0.8, edgecolor='white'))\n",
    "#     plt.box(False)"
   ]
  },
  {
   "cell_type": "code",
   "execution_count": 42,
   "id": "sexual-wages",
   "metadata": {
    "execution": {
     "iopub.execute_input": "2022-07-22T00:49:51.064979Z",
     "iopub.status.busy": "2022-07-22T00:49:51.064193Z",
     "iopub.status.idle": "2022-07-22T00:49:51.065827Z",
     "shell.execute_reply": "2022-07-22T00:49:51.066456Z"
    },
    "papermill": {
     "duration": 0.034046,
     "end_time": "2022-07-22T00:49:51.066582",
     "exception": false,
     "start_time": "2022-07-22T00:49:51.032536",
     "status": "completed"
    },
    "tags": []
   },
   "outputs": [],
   "source": [
    "# #hide_input\n",
    "# fig, ax = plt.subplots(figsize=(15, 8))\n",
    "# animator = animation.FuncAnimation(fig, draw_barchart, frames=range(g.day.values.min(), g.day.values.max()))\n",
    "# HTML(animator.to_jshtml())\n",
    "# # or use animator.to_html5_video() or animator.save() "
   ]
  },
  {
   "cell_type": "code",
   "execution_count": null,
   "id": "australian-container",
   "metadata": {
    "papermill": {
     "duration": 0.029074,
     "end_time": "2022-07-22T00:49:51.124999",
     "exception": false,
     "start_time": "2022-07-22T00:49:51.095925",
     "status": "completed"
    },
    "tags": []
   },
   "outputs": [],
   "source": []
  },
  {
   "cell_type": "code",
   "execution_count": null,
   "id": "mediterranean-pontiac",
   "metadata": {
    "papermill": {
     "duration": 0.027964,
     "end_time": "2022-07-22T00:49:51.182730",
     "exception": false,
     "start_time": "2022-07-22T00:49:51.154766",
     "status": "completed"
    },
    "tags": []
   },
   "outputs": [],
   "source": []
  },
  {
   "cell_type": "code",
   "execution_count": null,
   "id": "aging-legislature",
   "metadata": {
    "papermill": {
     "duration": 0.028788,
     "end_time": "2022-07-22T00:49:51.241333",
     "exception": false,
     "start_time": "2022-07-22T00:49:51.212545",
     "status": "completed"
    },
    "tags": []
   },
   "outputs": [],
   "source": []
  }
 ],
 "metadata": {
  "kernelspec": {
   "display_name": "Python 3",
   "language": "python",
   "name": "python3"
  },
  "language_info": {
   "codemirror_mode": {
    "name": "ipython",
    "version": 3
   },
   "file_extension": ".py",
   "mimetype": "text/x-python",
   "name": "python",
   "nbconvert_exporter": "python",
   "pygments_lexer": "ipython3",
   "version": "3.6.15"
  },
  "papermill": {
   "duration": 6.026713,
   "end_time": "2022-07-22T00:49:51.586090",
   "environment_variables": {},
   "exception": null,
   "input_path": "2020-03-21-covid19exp.ipynb",
   "output_path": "2020-03-21-covid19exp.ipynb",
   "parameters": {},
   "start_time": "2022-07-22T00:49:45.559377",
   "version": "2.0.0"
  }
 },
 "nbformat": 4,
 "nbformat_minor": 5
}