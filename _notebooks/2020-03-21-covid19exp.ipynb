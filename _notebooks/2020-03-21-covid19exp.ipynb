{
 "cells": [
  {
   "cell_type": "markdown",
   "id": "muslim-click",
   "metadata": {
    "papermill": {
     "duration": 0.041298,
     "end_time": "2022-12-04T12:15:38.056211",
     "exception": false,
     "start_time": "2022-12-04T12:15:38.014913",
     "status": "completed"
    },
    "tags": []
   },
   "source": [
    "# COVID-19 Case Race\n",
    "> A race chart to see rising cases around the world\n",
    "\n",
    "- author: Hargun Oberoi\n",
    "- image: images/covid-overview.png\n",
    "- hide: false\n",
    "- badges: false"
   ]
  },
  {
   "cell_type": "code",
   "execution_count": 1,
   "id": "proof-material",
   "metadata": {
    "execution": {
     "iopub.execute_input": "2022-12-04T12:15:38.144660Z",
     "iopub.status.busy": "2022-12-04T12:15:38.143923Z",
     "iopub.status.idle": "2022-12-04T12:15:38.521243Z",
     "shell.execute_reply": "2022-12-04T12:15:38.521825Z"
    },
    "papermill": {
     "duration": 0.427804,
     "end_time": "2022-12-04T12:15:38.522040",
     "exception": false,
     "start_time": "2022-12-04T12:15:38.094236",
     "status": "completed"
    },
    "tags": []
   },
   "outputs": [],
   "source": [
    "#hide\n",
    "import numpy as np\n",
    "import pandas as pd\n",
    "from jinja2 import Template\n",
    "from IPython.display import HTML"
   ]
  },
  {
   "cell_type": "code",
   "execution_count": 2,
   "id": "developed-terminology",
   "metadata": {
    "execution": {
     "iopub.execute_input": "2022-12-04T12:15:38.596708Z",
     "iopub.status.busy": "2022-12-04T12:15:38.595948Z",
     "iopub.status.idle": "2022-12-04T12:15:38.599148Z",
     "shell.execute_reply": "2022-12-04T12:15:38.599609Z"
    },
    "papermill": {
     "duration": 0.044323,
     "end_time": "2022-12-04T12:15:38.599752",
     "exception": false,
     "start_time": "2022-12-04T12:15:38.555429",
     "status": "completed"
    },
    "tags": []
   },
   "outputs": [],
   "source": [
    "#hide\n",
    "\n",
    "# FETCH\n",
    "base_url = 'https://raw.githubusercontent.com/pratapvardhan/notebooks/master/covid19/'\n",
    "paths = {\n",
    "    'mapping': base_url + 'mapping_countries.csv',\n",
    "    'overview': base_url + 'overview.tpl'\n",
    "}"
   ]
  },
  {
   "cell_type": "code",
   "execution_count": 3,
   "id": "dynamic-saver",
   "metadata": {
    "execution": {
     "iopub.execute_input": "2022-12-04T12:15:38.681002Z",
     "iopub.status.busy": "2022-12-04T12:15:38.679173Z",
     "iopub.status.idle": "2022-12-04T12:15:38.684084Z",
     "shell.execute_reply": "2022-12-04T12:15:38.684759Z"
    },
    "papermill": {
     "duration": 0.052329,
     "end_time": "2022-12-04T12:15:38.684904",
     "exception": false,
     "start_time": "2022-12-04T12:15:38.632575",
     "status": "completed"
    },
    "tags": []
   },
   "outputs": [
    {
     "data": {
      "text/plain": [
       "'https://raw.githubusercontent.com/pratapvardhan/notebooks/master/covid19/mapping_countries.csv'"
      ]
     },
     "execution_count": 3,
     "metadata": {},
     "output_type": "execute_result"
    }
   ],
   "source": [
    "#hide\n",
    "paths['mapping']"
   ]
  },
  {
   "cell_type": "code",
   "execution_count": 4,
   "id": "urban-software",
   "metadata": {
    "execution": {
     "iopub.execute_input": "2022-12-04T12:15:38.759018Z",
     "iopub.status.busy": "2022-12-04T12:15:38.758056Z",
     "iopub.status.idle": "2022-12-04T12:15:38.760155Z",
     "shell.execute_reply": "2022-12-04T12:15:38.761216Z"
    },
    "papermill": {
     "duration": 0.043215,
     "end_time": "2022-12-04T12:15:38.761435",
     "exception": false,
     "start_time": "2022-12-04T12:15:38.718220",
     "status": "completed"
    },
    "tags": []
   },
   "outputs": [],
   "source": [
    "#hide\n",
    "def get_mappings(url):\n",
    "    df = pd.read_csv(url)\n",
    "    return {\n",
    "        'df': df,\n",
    "        'replace.country': dict(df.dropna(subset=['Name']).set_index('Country')['Name']),\n",
    "        'map.continent': dict(df.set_index('Name')['Continent'])\n",
    "    }"
   ]
  },
  {
   "cell_type": "code",
   "execution_count": 5,
   "id": "intimate-machinery",
   "metadata": {
    "execution": {
     "iopub.execute_input": "2022-12-04T12:15:38.845365Z",
     "iopub.status.busy": "2022-12-04T12:15:38.844684Z",
     "iopub.status.idle": "2022-12-04T12:15:38.873853Z",
     "shell.execute_reply": "2022-12-04T12:15:38.873257Z"
    },
    "papermill": {
     "duration": 0.070272,
     "end_time": "2022-12-04T12:15:38.873986",
     "exception": false,
     "start_time": "2022-12-04T12:15:38.803714",
     "status": "completed"
    },
    "tags": []
   },
   "outputs": [],
   "source": [
    "#hide\n",
    "mapping = get_mappings(paths['mapping'])"
   ]
  },
  {
   "cell_type": "code",
   "execution_count": 6,
   "id": "certified-tactics",
   "metadata": {
    "execution": {
     "iopub.execute_input": "2022-12-04T12:15:38.949807Z",
     "iopub.status.busy": "2022-12-04T12:15:38.949098Z",
     "iopub.status.idle": "2022-12-04T12:15:38.953352Z",
     "shell.execute_reply": "2022-12-04T12:15:38.952660Z"
    },
    "papermill": {
     "duration": 0.045498,
     "end_time": "2022-12-04T12:15:38.953482",
     "exception": false,
     "start_time": "2022-12-04T12:15:38.907984",
     "status": "completed"
    },
    "tags": []
   },
   "outputs": [],
   "source": [
    "#hide\n",
    "def get_template(path):\n",
    "    from urllib.parse import urlparse\n",
    "    if bool(urlparse(path).netloc):\n",
    "        from urllib.request import urlopen\n",
    "        return urlopen(path).read().decode('utf8')\n",
    "    return open(path).read()"
   ]
  },
  {
   "cell_type": "code",
   "execution_count": 7,
   "id": "realistic-blast",
   "metadata": {
    "execution": {
     "iopub.execute_input": "2022-12-04T12:15:39.027202Z",
     "iopub.status.busy": "2022-12-04T12:15:39.026477Z",
     "iopub.status.idle": "2022-12-04T12:15:39.029317Z",
     "shell.execute_reply": "2022-12-04T12:15:39.028629Z"
    },
    "papermill": {
     "duration": 0.042258,
     "end_time": "2022-12-04T12:15:39.029449",
     "exception": false,
     "start_time": "2022-12-04T12:15:38.987191",
     "status": "completed"
    },
    "tags": []
   },
   "outputs": [],
   "source": [
    "#hide\n",
    "def get_frame(name):\n",
    "    url = (\n",
    "        'https://raw.githubusercontent.com/CSSEGISandData/COVID-19/master/csse_covid_19_data/'\n",
    "        f'csse_covid_19_time_series/time_series_covid19_{name}_global.csv')\n",
    "    df = pd.read_csv(url)\n",
    "    # rename countries\n",
    "    df['Country/Region'] = df['Country/Region'].replace(mapping['replace.country'])\n",
    "    return df"
   ]
  },
  {
   "cell_type": "code",
   "execution_count": 8,
   "id": "affiliated-characterization",
   "metadata": {
    "execution": {
     "iopub.execute_input": "2022-12-04T12:15:39.108100Z",
     "iopub.status.busy": "2022-12-04T12:15:39.107319Z",
     "iopub.status.idle": "2022-12-04T12:15:39.110270Z",
     "shell.execute_reply": "2022-12-04T12:15:39.109555Z"
    },
    "papermill": {
     "duration": 0.046663,
     "end_time": "2022-12-04T12:15:39.110401",
     "exception": false,
     "start_time": "2022-12-04T12:15:39.063738",
     "status": "completed"
    },
    "tags": []
   },
   "outputs": [],
   "source": [
    "#hide\n",
    "def get_dates(df):\n",
    "    dt_cols = df.columns[~df.columns.isin(['Province/State', 'Country/Region', 'Lat', 'Long'])]\n",
    "    LAST_DATE_I = -1\n",
    "    # sometimes last column may be empty, then go backwards\n",
    "    for i in range(-1, -len(dt_cols), -1):\n",
    "        if not df[dt_cols[i]].fillna(0).eq(0).all():\n",
    "            LAST_DATE_I = i\n",
    "            break\n",
    "    return LAST_DATE_I, dt_cols"
   ]
  },
  {
   "cell_type": "code",
   "execution_count": 9,
   "id": "recent-optimization",
   "metadata": {
    "execution": {
     "iopub.execute_input": "2022-12-04T12:15:39.189369Z",
     "iopub.status.busy": "2022-12-04T12:15:39.188640Z",
     "iopub.status.idle": "2022-12-04T12:15:39.703002Z",
     "shell.execute_reply": "2022-12-04T12:15:39.702385Z"
    },
    "papermill": {
     "duration": 0.556967,
     "end_time": "2022-12-04T12:15:39.703140",
     "exception": false,
     "start_time": "2022-12-04T12:15:39.146173",
     "status": "completed"
    },
    "tags": []
   },
   "outputs": [],
   "source": [
    "#hide\n",
    "COL_REGION = 'Country/Region'\n",
    "# Confirmed, Recovered, Deaths\n",
    "df = get_frame('confirmed')\n",
    "# dft_: timeseries, dfc_: today country agg\n",
    "dft_cases = df\n",
    "dft_deaths = get_frame('deaths')\n",
    "dft_recovered = get_frame('recovered')\n",
    "LAST_DATE_I, dt_cols = get_dates(df)"
   ]
  },
  {
   "cell_type": "code",
   "execution_count": 10,
   "id": "absolute-copper",
   "metadata": {
    "execution": {
     "iopub.execute_input": "2022-12-04T12:15:39.778385Z",
     "iopub.status.busy": "2022-12-04T12:15:39.777670Z",
     "iopub.status.idle": "2022-12-04T12:15:39.779688Z",
     "shell.execute_reply": "2022-12-04T12:15:39.780261Z"
    },
    "papermill": {
     "duration": 0.043223,
     "end_time": "2022-12-04T12:15:39.780450",
     "exception": false,
     "start_time": "2022-12-04T12:15:39.737227",
     "status": "completed"
    },
    "tags": []
   },
   "outputs": [],
   "source": [
    "#hide\n",
    "LAST_DATE_I, dt_cols = get_dates(df)\n",
    "dt_today =dt_cols[LAST_DATE_I]\n",
    "# dt_5day = dt_cols[LAST_DATE_I - 5]\n",
    "dt_yday = dt_cols[LAST_DATE_I - 1]"
   ]
  },
  {
   "cell_type": "code",
   "execution_count": 11,
   "id": "restricted-sheriff",
   "metadata": {
    "execution": {
     "iopub.execute_input": "2022-12-04T12:15:39.857795Z",
     "iopub.status.busy": "2022-12-04T12:15:39.855556Z",
     "iopub.status.idle": "2022-12-04T12:15:39.865199Z",
     "shell.execute_reply": "2022-12-04T12:15:39.865716Z"
    },
    "papermill": {
     "duration": 0.051518,
     "end_time": "2022-12-04T12:15:39.865880",
     "exception": false,
     "start_time": "2022-12-04T12:15:39.814362",
     "status": "completed"
    },
    "tags": []
   },
   "outputs": [],
   "source": [
    "#hide\n",
    "dfc_cases = dft_cases.groupby(COL_REGION)[dt_today].sum()\n",
    "dfc_deaths = dft_deaths.groupby(COL_REGION)[dt_today].sum()\n",
    "# dfp_cases = dft_cases.groupby(COL_REGION)[dt_5day].sum()\n",
    "# dfp_deaths = dft_deaths.groupby(COL_REGION)[dt_5day].sum()\n",
    "dfp_cases = dft_cases.groupby(COL_REGION)[dt_yday].sum()\n",
    "dfp_deaths = dft_deaths.groupby(COL_REGION)[dt_yday].sum()"
   ]
  },
  {
   "cell_type": "code",
   "execution_count": 12,
   "id": "deluxe-hepatitis",
   "metadata": {
    "execution": {
     "iopub.execute_input": "2022-12-04T12:15:39.941529Z",
     "iopub.status.busy": "2022-12-04T12:15:39.940835Z",
     "iopub.status.idle": "2022-12-04T12:15:39.947257Z",
     "shell.execute_reply": "2022-12-04T12:15:39.947911Z"
    },
    "papermill": {
     "duration": 0.048138,
     "end_time": "2022-12-04T12:15:39.948060",
     "exception": false,
     "start_time": "2022-12-04T12:15:39.899922",
     "status": "completed"
    },
    "tags": []
   },
   "outputs": [],
   "source": [
    "#hide\n",
    "df_table = (pd.DataFrame(dict(Cases = dfc_cases, Deaths = dfc_deaths, PCases = dfp_cases, PDeaths = dfp_deaths))\n",
    "            .sort_values(by = ['Cases','Deaths'], ascending = [False, False])\n",
    "            .reset_index())"
   ]
  },
  {
   "cell_type": "code",
   "execution_count": 13,
   "id": "educational-chancellor",
   "metadata": {
    "execution": {
     "iopub.execute_input": "2022-12-04T12:15:40.035534Z",
     "iopub.status.busy": "2022-12-04T12:15:40.034314Z",
     "iopub.status.idle": "2022-12-04T12:15:40.046112Z",
     "shell.execute_reply": "2022-12-04T12:15:40.045549Z"
    },
    "papermill": {
     "duration": 0.064627,
     "end_time": "2022-12-04T12:15:40.046241",
     "exception": false,
     "start_time": "2022-12-04T12:15:39.981614",
     "status": "completed"
    },
    "tags": []
   },
   "outputs": [
    {
     "data": {
      "text/html": [
       "<div>\n",
       "<style scoped>\n",
       "    .dataframe tbody tr th:only-of-type {\n",
       "        vertical-align: middle;\n",
       "    }\n",
       "\n",
       "    .dataframe tbody tr th {\n",
       "        vertical-align: top;\n",
       "    }\n",
       "\n",
       "    .dataframe thead th {\n",
       "        text-align: right;\n",
       "    }\n",
       "</style>\n",
       "<table border=\"1\" class=\"dataframe\">\n",
       "  <thead>\n",
       "    <tr style=\"text-align: right;\">\n",
       "      <th></th>\n",
       "      <th>Country/Region</th>\n",
       "      <th>Cases</th>\n",
       "      <th>Deaths</th>\n",
       "      <th>PCases</th>\n",
       "      <th>PDeaths</th>\n",
       "      <th>Cases (+)</th>\n",
       "      <th>Deaths (+)</th>\n",
       "      <th>Fatality Rate</th>\n",
       "      <th>Continent</th>\n",
       "    </tr>\n",
       "  </thead>\n",
       "  <tbody>\n",
       "    <tr>\n",
       "      <th>0</th>\n",
       "      <td>US</td>\n",
       "      <td>98967906</td>\n",
       "      <td>1081431</td>\n",
       "      <td>98962019</td>\n",
       "      <td>1081412</td>\n",
       "      <td>5887</td>\n",
       "      <td>19</td>\n",
       "      <td>1.09</td>\n",
       "      <td>North America</td>\n",
       "    </tr>\n",
       "    <tr>\n",
       "      <th>1</th>\n",
       "      <td>India</td>\n",
       "      <td>44674616</td>\n",
       "      <td>530628</td>\n",
       "      <td>44674390</td>\n",
       "      <td>530627</td>\n",
       "      <td>226</td>\n",
       "      <td>1</td>\n",
       "      <td>1.19</td>\n",
       "      <td>Asia</td>\n",
       "    </tr>\n",
       "    <tr>\n",
       "      <th>2</th>\n",
       "      <td>France</td>\n",
       "      <td>38174893</td>\n",
       "      <td>160133</td>\n",
       "      <td>38174893</td>\n",
       "      <td>160133</td>\n",
       "      <td>0</td>\n",
       "      <td>0</td>\n",
       "      <td>0.42</td>\n",
       "      <td>Europe</td>\n",
       "    </tr>\n",
       "    <tr>\n",
       "      <th>3</th>\n",
       "      <td>Germany</td>\n",
       "      <td>36557861</td>\n",
       "      <td>158198</td>\n",
       "      <td>36557861</td>\n",
       "      <td>158198</td>\n",
       "      <td>0</td>\n",
       "      <td>0</td>\n",
       "      <td>0.43</td>\n",
       "      <td>Europe</td>\n",
       "    </tr>\n",
       "    <tr>\n",
       "      <th>4</th>\n",
       "      <td>Brazil</td>\n",
       "      <td>35337546</td>\n",
       "      <td>690074</td>\n",
       "      <td>35337546</td>\n",
       "      <td>690074</td>\n",
       "      <td>0</td>\n",
       "      <td>0</td>\n",
       "      <td>1.95</td>\n",
       "      <td>South America</td>\n",
       "    </tr>\n",
       "  </tbody>\n",
       "</table>\n",
       "</div>"
      ],
      "text/plain": [
       "  Country/Region     Cases   Deaths    PCases  PDeaths  Cases (+)  Deaths (+)  \\\n",
       "0             US  98967906  1081431  98962019  1081412       5887          19   \n",
       "1          India  44674616   530628  44674390   530627        226           1   \n",
       "2         France  38174893   160133  38174893   160133          0           0   \n",
       "3        Germany  36557861   158198  36557861   158198          0           0   \n",
       "4         Brazil  35337546   690074  35337546   690074          0           0   \n",
       "\n",
       "   Fatality Rate      Continent  \n",
       "0           1.09  North America  \n",
       "1           1.19           Asia  \n",
       "2           0.42         Europe  \n",
       "3           0.43         Europe  \n",
       "4           1.95  South America  "
      ]
     },
     "execution_count": 13,
     "metadata": {},
     "output_type": "execute_result"
    }
   ],
   "source": [
    "#hide\n",
    "for c in 'Cases, Deaths'.split(', '):\n",
    "    df_table[f'{c} (+)'] = (df_table[c] - df_table[f'P{c}']).clip(0)\n",
    "    #Clip ça veut dire, les chiffres negatif sont interdit\n",
    "df_table['Fatality Rate'] = (100* df_table['Deaths']/ df_table['Cases']).round(2)\n",
    "df_table['Continent'] = df_table['Country/Region'].map(mapping['map.continent'])\n",
    "df_table.head(5)"
   ]
  },
  {
   "cell_type": "code",
   "execution_count": 14,
   "id": "aboriginal-bulgaria",
   "metadata": {
    "execution": {
     "iopub.execute_input": "2022-12-04T12:15:40.119215Z",
     "iopub.status.busy": "2022-12-04T12:15:40.118528Z",
     "iopub.status.idle": "2022-12-04T12:15:40.123853Z",
     "shell.execute_reply": "2022-12-04T12:15:40.124452Z"
    },
    "papermill": {
     "duration": 0.043461,
     "end_time": "2022-12-04T12:15:40.124605",
     "exception": false,
     "start_time": "2022-12-04T12:15:40.081144",
     "status": "completed"
    },
    "tags": []
   },
   "outputs": [],
   "source": [
    "#hide\n",
    "#delete problematic countries from table\n",
    "df_table = df_table[~df_table['Country/Region'].isin(['Cape Verde', 'Cruise Ship', 'Kosovo'])]"
   ]
  },
  {
   "cell_type": "code",
   "execution_count": 15,
   "id": "fantastic-effect",
   "metadata": {
    "execution": {
     "iopub.execute_input": "2022-12-04T12:15:40.202061Z",
     "iopub.status.busy": "2022-12-04T12:15:40.201370Z",
     "iopub.status.idle": "2022-12-04T12:15:40.225223Z",
     "shell.execute_reply": "2022-12-04T12:15:40.224267Z"
    },
    "papermill": {
     "duration": 0.066767,
     "end_time": "2022-12-04T12:15:40.225395",
     "exception": false,
     "start_time": "2022-12-04T12:15:40.158628",
     "status": "completed"
    },
    "tags": []
   },
   "outputs": [
    {
     "data": {
      "text/html": [
       "<div>\n",
       "<style scoped>\n",
       "    .dataframe tbody tr th:only-of-type {\n",
       "        vertical-align: middle;\n",
       "    }\n",
       "\n",
       "    .dataframe tbody tr th {\n",
       "        vertical-align: top;\n",
       "    }\n",
       "\n",
       "    .dataframe thead th {\n",
       "        text-align: right;\n",
       "    }\n",
       "</style>\n",
       "<table border=\"1\" class=\"dataframe\">\n",
       "  <thead>\n",
       "    <tr style=\"text-align: right;\">\n",
       "      <th></th>\n",
       "      <th>Country/Region</th>\n",
       "      <th>Cases</th>\n",
       "      <th>Deaths</th>\n",
       "      <th>PCases</th>\n",
       "      <th>PDeaths</th>\n",
       "      <th>Cases (+)</th>\n",
       "      <th>Deaths (+)</th>\n",
       "      <th>Fatality Rate</th>\n",
       "      <th>Continent</th>\n",
       "    </tr>\n",
       "  </thead>\n",
       "  <tbody>\n",
       "    <tr>\n",
       "      <th>0</th>\n",
       "      <td>US</td>\n",
       "      <td>98967906</td>\n",
       "      <td>1081431</td>\n",
       "      <td>98962019</td>\n",
       "      <td>1081412</td>\n",
       "      <td>5887</td>\n",
       "      <td>19</td>\n",
       "      <td>1.1</td>\n",
       "      <td>North America</td>\n",
       "    </tr>\n",
       "    <tr>\n",
       "      <th>1</th>\n",
       "      <td>India</td>\n",
       "      <td>44674616</td>\n",
       "      <td>530628</td>\n",
       "      <td>44674390</td>\n",
       "      <td>530627</td>\n",
       "      <td>226</td>\n",
       "      <td>1</td>\n",
       "      <td>1.2</td>\n",
       "      <td>Asia</td>\n",
       "    </tr>\n",
       "    <tr>\n",
       "      <th>2</th>\n",
       "      <td>France</td>\n",
       "      <td>38174893</td>\n",
       "      <td>160133</td>\n",
       "      <td>38174893</td>\n",
       "      <td>160133</td>\n",
       "      <td>0</td>\n",
       "      <td>0</td>\n",
       "      <td>0.4</td>\n",
       "      <td>Europe</td>\n",
       "    </tr>\n",
       "    <tr>\n",
       "      <th>3</th>\n",
       "      <td>Germany</td>\n",
       "      <td>36557861</td>\n",
       "      <td>158198</td>\n",
       "      <td>36557861</td>\n",
       "      <td>158198</td>\n",
       "      <td>0</td>\n",
       "      <td>0</td>\n",
       "      <td>0.4</td>\n",
       "      <td>Europe</td>\n",
       "    </tr>\n",
       "    <tr>\n",
       "      <th>4</th>\n",
       "      <td>Brazil</td>\n",
       "      <td>35337546</td>\n",
       "      <td>690074</td>\n",
       "      <td>35337546</td>\n",
       "      <td>690074</td>\n",
       "      <td>0</td>\n",
       "      <td>0</td>\n",
       "      <td>2.0</td>\n",
       "      <td>South America</td>\n",
       "    </tr>\n",
       "  </tbody>\n",
       "</table>\n",
       "</div>"
      ],
      "text/plain": [
       "  Country/Region     Cases   Deaths    PCases  PDeaths  Cases (+)  Deaths (+)  \\\n",
       "0             US  98967906  1081431  98962019  1081412       5887          19   \n",
       "1          India  44674616   530628  44674390   530627        226           1   \n",
       "2         France  38174893   160133  38174893   160133          0           0   \n",
       "3        Germany  36557861   158198  36557861   158198          0           0   \n",
       "4         Brazil  35337546   690074  35337546   690074          0           0   \n",
       "\n",
       "   Fatality Rate      Continent  \n",
       "0            1.1  North America  \n",
       "1            1.2           Asia  \n",
       "2            0.4         Europe  \n",
       "3            0.4         Europe  \n",
       "4            2.0  South America  "
      ]
     },
     "execution_count": 15,
     "metadata": {},
     "output_type": "execute_result"
    }
   ],
   "source": [
    "#hide\n",
    "df_table = (pd.DataFrame(dict(Cases=dfc_cases, Deaths=dfc_deaths, PCases=dfp_cases, PDeaths=dfp_deaths))\n",
    "             .sort_values(by=['Cases', 'Deaths'], ascending=[False, False])\n",
    "             .reset_index())\n",
    "df_table.rename(columns={'index': 'Country/Region'}, inplace=True)\n",
    "for c in 'Cases, Deaths'.split(', '):\n",
    "    df_table[f'{c} (+)'] = (df_table[c] - df_table[f'P{c}']).clip(0)  # DATA BUG\n",
    "df_table['Fatality Rate'] = (100 * df_table['Deaths'] / df_table['Cases']).round(1)\n",
    "df_table['Continent'] = df_table['Country/Region'].map(mapping['map.continent'])\n",
    "df_table.head(5)"
   ]
  },
  {
   "cell_type": "code",
   "execution_count": 16,
   "id": "fewer-occasion",
   "metadata": {
    "execution": {
     "iopub.execute_input": "2022-12-04T12:15:40.299395Z",
     "iopub.status.busy": "2022-12-04T12:15:40.298541Z",
     "iopub.status.idle": "2022-12-04T12:15:40.306914Z",
     "shell.execute_reply": "2022-12-04T12:15:40.306362Z"
    },
    "papermill": {
     "duration": 0.045863,
     "end_time": "2022-12-04T12:15:40.307035",
     "exception": false,
     "start_time": "2022-12-04T12:15:40.261172",
     "status": "completed"
    },
    "tags": []
   },
   "outputs": [],
   "source": [
    "#hide\n",
    "#delete problematic countries from table\n",
    "df_table = df_table[~df_table['Country/Region'].isin(['Cape Verde', 'Cruise Ship', 'Kosovo'])]"
   ]
  },
  {
   "cell_type": "code",
   "execution_count": 17,
   "id": "related-center",
   "metadata": {
    "execution": {
     "iopub.execute_input": "2022-12-04T12:15:40.388911Z",
     "iopub.status.busy": "2022-12-04T12:15:40.388149Z",
     "iopub.status.idle": "2022-12-04T12:15:40.399722Z",
     "shell.execute_reply": "2022-12-04T12:15:40.399149Z"
    },
    "papermill": {
     "duration": 0.059025,
     "end_time": "2022-12-04T12:15:40.399851",
     "exception": false,
     "start_time": "2022-12-04T12:15:40.340826",
     "status": "completed"
    },
    "tags": []
   },
   "outputs": [],
   "source": [
    "#hide\n",
    "metrics = [df_table.columns[index] for index in [1,2,5,6]]\n",
    "# s_china = df_table[df_table['Country/Region'].eq('China')][metrics].sum().add_prefix('China ')\n",
    "s_us = df_table[df_table['Country/Region'].eq('US')][metrics].sum().add_prefix('US ')\n",
    "s_eu = df_table[df_table['Continent'].eq('Europe')][metrics].sum().add_prefix('EU ')\n",
    "s_ind = df_table[df_table['Country/Region'].eq('India')][metrics].sum().add_prefix('India ')\n",
    "summary = {'updated': pd.to_datetime(dt_today), 'since': pd.to_datetime(dt_yday)}\n",
    "summary = {'updated': pd.to_datetime(dt_today), 'since': pd.to_datetime(dt_yday)}\n",
    "summary = {**summary, **df_table[metrics].sum(), **s_ind, **s_us, **s_eu}"
   ]
  },
  {
   "cell_type": "code",
   "execution_count": 18,
   "id": "engaging-syndrome",
   "metadata": {
    "execution": {
     "iopub.execute_input": "2022-12-04T12:15:40.475776Z",
     "iopub.status.busy": "2022-12-04T12:15:40.475082Z",
     "iopub.status.idle": "2022-12-04T12:15:40.501150Z",
     "shell.execute_reply": "2022-12-04T12:15:40.501779Z"
    },
    "papermill": {
     "duration": 0.067433,
     "end_time": "2022-12-04T12:15:40.501968",
     "exception": false,
     "start_time": "2022-12-04T12:15:40.434535",
     "status": "completed"
    },
    "tags": []
   },
   "outputs": [],
   "source": [
    "#hide\n",
    "dft_ct_new_cases = dft_cases.groupby(COL_REGION)[dt_cols].sum().diff(axis=1).fillna(0).astype(int)"
   ]
  },
  {
   "cell_type": "code",
   "execution_count": 19,
   "id": "neutral-assignment",
   "metadata": {
    "execution": {
     "iopub.execute_input": "2022-12-04T12:15:40.581086Z",
     "iopub.status.busy": "2022-12-04T12:15:40.580348Z",
     "iopub.status.idle": "2022-12-04T12:15:40.582208Z",
     "shell.execute_reply": "2022-12-04T12:15:40.582971Z"
    },
    "papermill": {
     "duration": 0.045202,
     "end_time": "2022-12-04T12:15:40.583293",
     "exception": false,
     "start_time": "2022-12-04T12:15:40.538091",
     "status": "completed"
    },
    "tags": []
   },
   "outputs": [],
   "source": [
    "#hide\n",
    "everydaycases = dft_ct_new_cases.cumsum(axis=1)"
   ]
  },
  {
   "cell_type": "code",
   "execution_count": 20,
   "id": "parliamentary-calgary",
   "metadata": {
    "execution": {
     "iopub.execute_input": "2022-12-04T12:15:40.667190Z",
     "iopub.status.busy": "2022-12-04T12:15:40.666271Z",
     "iopub.status.idle": "2022-12-04T12:15:41.290120Z",
     "shell.execute_reply": "2022-12-04T12:15:41.290939Z"
    },
    "papermill": {
     "duration": 0.670044,
     "end_time": "2022-12-04T12:15:41.291169",
     "exception": false,
     "start_time": "2022-12-04T12:15:40.621125",
     "status": "completed"
    },
    "tags": []
   },
   "outputs": [],
   "source": [
    "#hide\n",
    "import pandas as pd\n",
    "import matplotlib.pyplot as plt\n",
    "import matplotlib.ticker as ticker\n",
    "import matplotlib.animation as animation\n",
    "from IPython.display import HTML"
   ]
  },
  {
   "cell_type": "code",
   "execution_count": 21,
   "id": "lasting-extraction",
   "metadata": {
    "execution": {
     "iopub.execute_input": "2022-12-04T12:15:41.367976Z",
     "iopub.status.busy": "2022-12-04T12:15:41.367287Z",
     "iopub.status.idle": "2022-12-04T12:15:41.383136Z",
     "shell.execute_reply": "2022-12-04T12:15:41.383737Z"
    },
    "papermill": {
     "duration": 0.055508,
     "end_time": "2022-12-04T12:15:41.383902",
     "exception": false,
     "start_time": "2022-12-04T12:15:41.328394",
     "status": "completed"
    },
    "tags": []
   },
   "outputs": [],
   "source": [
    "#hide\n",
    "t = everydaycases.stack()"
   ]
  },
  {
   "cell_type": "code",
   "execution_count": 22,
   "id": "premier-sleeve",
   "metadata": {
    "execution": {
     "iopub.execute_input": "2022-12-04T12:15:41.466361Z",
     "iopub.status.busy": "2022-12-04T12:15:41.465393Z",
     "iopub.status.idle": "2022-12-04T12:15:41.477787Z",
     "shell.execute_reply": "2022-12-04T12:15:41.477084Z"
    },
    "papermill": {
     "duration": 0.056756,
     "end_time": "2022-12-04T12:15:41.477918",
     "exception": false,
     "start_time": "2022-12-04T12:15:41.421162",
     "status": "completed"
    },
    "tags": []
   },
   "outputs": [],
   "source": [
    "#hide\n",
    "g = t.reset_index(['Country/Region'])"
   ]
  },
  {
   "cell_type": "code",
   "execution_count": 23,
   "id": "distributed-pittsburgh",
   "metadata": {
    "execution": {
     "iopub.execute_input": "2022-12-04T12:15:41.561308Z",
     "iopub.status.busy": "2022-12-04T12:15:41.560587Z",
     "iopub.status.idle": "2022-12-04T12:15:41.563873Z",
     "shell.execute_reply": "2022-12-04T12:15:41.563284Z"
    },
    "papermill": {
     "duration": 0.04481,
     "end_time": "2022-12-04T12:15:41.563997",
     "exception": false,
     "start_time": "2022-12-04T12:15:41.519187",
     "status": "completed"
    },
    "tags": []
   },
   "outputs": [],
   "source": [
    "#hide\n",
    "g.index.name = 'date'"
   ]
  },
  {
   "cell_type": "code",
   "execution_count": 24,
   "id": "naked-donor",
   "metadata": {
    "execution": {
     "iopub.execute_input": "2022-12-04T12:15:41.637804Z",
     "iopub.status.busy": "2022-12-04T12:15:41.637117Z",
     "iopub.status.idle": "2022-12-04T12:15:41.639951Z",
     "shell.execute_reply": "2022-12-04T12:15:41.640532Z"
    },
    "papermill": {
     "duration": 0.042436,
     "end_time": "2022-12-04T12:15:41.640988",
     "exception": false,
     "start_time": "2022-12-04T12:15:41.598552",
     "status": "completed"
    },
    "tags": []
   },
   "outputs": [],
   "source": [
    "# #hide\n",
    "# g = g.reset_index(['date'])"
   ]
  },
  {
   "cell_type": "code",
   "execution_count": 25,
   "id": "incomplete-mustang",
   "metadata": {
    "execution": {
     "iopub.execute_input": "2022-12-04T12:15:41.715848Z",
     "iopub.status.busy": "2022-12-04T12:15:41.715169Z",
     "iopub.status.idle": "2022-12-04T12:15:41.718954Z",
     "shell.execute_reply": "2022-12-04T12:15:41.718422Z"
    },
    "papermill": {
     "duration": 0.042679,
     "end_time": "2022-12-04T12:15:41.719081",
     "exception": false,
     "start_time": "2022-12-04T12:15:41.676402",
     "status": "completed"
    },
    "tags": []
   },
   "outputs": [],
   "source": [
    "#hide\n",
    "# g.head()"
   ]
  },
  {
   "cell_type": "code",
   "execution_count": 26,
   "id": "specific-kruger",
   "metadata": {
    "execution": {
     "iopub.execute_input": "2022-12-04T12:15:41.792799Z",
     "iopub.status.busy": "2022-12-04T12:15:41.792010Z",
     "iopub.status.idle": "2022-12-04T12:15:41.795288Z",
     "shell.execute_reply": "2022-12-04T12:15:41.795776Z"
    },
    "papermill": {
     "duration": 0.042243,
     "end_time": "2022-12-04T12:15:41.795916",
     "exception": false,
     "start_time": "2022-12-04T12:15:41.753673",
     "status": "completed"
    },
    "tags": []
   },
   "outputs": [],
   "source": [
    "#hide\n",
    "# g.columns = ['date','country','cases']"
   ]
  },
  {
   "cell_type": "code",
   "execution_count": 27,
   "id": "tender-conversion",
   "metadata": {
    "execution": {
     "iopub.execute_input": "2022-12-04T12:15:41.877553Z",
     "iopub.status.busy": "2022-12-04T12:15:41.876799Z",
     "iopub.status.idle": "2022-12-04T12:15:41.880524Z",
     "shell.execute_reply": "2022-12-04T12:15:41.879614Z"
    },
    "papermill": {
     "duration": 0.046216,
     "end_time": "2022-12-04T12:15:41.880672",
     "exception": false,
     "start_time": "2022-12-04T12:15:41.834456",
     "status": "completed"
    },
    "tags": []
   },
   "outputs": [],
   "source": [
    "#hide\n",
    "# g['continent'] = g.country"
   ]
  },
  {
   "cell_type": "code",
   "execution_count": 28,
   "id": "substantial-wilderness",
   "metadata": {
    "execution": {
     "iopub.execute_input": "2022-12-04T12:15:41.957700Z",
     "iopub.status.busy": "2022-12-04T12:15:41.956972Z",
     "iopub.status.idle": "2022-12-04T12:15:41.960544Z",
     "shell.execute_reply": "2022-12-04T12:15:41.959844Z"
    },
    "papermill": {
     "duration": 0.043188,
     "end_time": "2022-12-04T12:15:41.960676",
     "exception": false,
     "start_time": "2022-12-04T12:15:41.917488",
     "status": "completed"
    },
    "tags": []
   },
   "outputs": [],
   "source": [
    "#hide\n",
    "# cols = list(g.columns.values)"
   ]
  },
  {
   "cell_type": "code",
   "execution_count": 29,
   "id": "solved-farming",
   "metadata": {
    "execution": {
     "iopub.execute_input": "2022-12-04T12:15:42.035556Z",
     "iopub.status.busy": "2022-12-04T12:15:42.034610Z",
     "iopub.status.idle": "2022-12-04T12:15:42.036474Z",
     "shell.execute_reply": "2022-12-04T12:15:42.037479Z"
    },
    "papermill": {
     "duration": 0.042391,
     "end_time": "2022-12-04T12:15:42.037761",
     "exception": false,
     "start_time": "2022-12-04T12:15:41.995370",
     "status": "completed"
    },
    "tags": []
   },
   "outputs": [],
   "source": [
    "#hide\n",
    "# cols.insert(0, cols.pop())"
   ]
  },
  {
   "cell_type": "code",
   "execution_count": 30,
   "id": "executed-adoption",
   "metadata": {
    "execution": {
     "iopub.execute_input": "2022-12-04T12:15:42.116334Z",
     "iopub.status.busy": "2022-12-04T12:15:42.115438Z",
     "iopub.status.idle": "2022-12-04T12:15:42.117628Z",
     "shell.execute_reply": "2022-12-04T12:15:42.118277Z"
    },
    "papermill": {
     "duration": 0.043571,
     "end_time": "2022-12-04T12:15:42.118446",
     "exception": false,
     "start_time": "2022-12-04T12:15:42.074875",
     "status": "completed"
    },
    "tags": []
   },
   "outputs": [],
   "source": [
    "#hide\n",
    "# g = g[cols]"
   ]
  },
  {
   "cell_type": "code",
   "execution_count": 31,
   "id": "subject-dublin",
   "metadata": {
    "execution": {
     "iopub.execute_input": "2022-12-04T12:15:42.193336Z",
     "iopub.status.busy": "2022-12-04T12:15:42.192502Z",
     "iopub.status.idle": "2022-12-04T12:15:42.194105Z",
     "shell.execute_reply": "2022-12-04T12:15:42.194586Z"
    },
    "papermill": {
     "duration": 0.041692,
     "end_time": "2022-12-04T12:15:42.194795",
     "exception": false,
     "start_time": "2022-12-04T12:15:42.153103",
     "status": "completed"
    },
    "tags": []
   },
   "outputs": [],
   "source": [
    "#hide\n",
    "# g['continent'] = g['continent'].map(mapping['map.continent'])"
   ]
  },
  {
   "cell_type": "code",
   "execution_count": 32,
   "id": "freelance-scout",
   "metadata": {
    "execution": {
     "iopub.execute_input": "2022-12-04T12:15:42.274154Z",
     "iopub.status.busy": "2022-12-04T12:15:42.272940Z",
     "iopub.status.idle": "2022-12-04T12:15:42.275009Z",
     "shell.execute_reply": "2022-12-04T12:15:42.275526Z"
    },
    "papermill": {
     "duration": 0.044462,
     "end_time": "2022-12-04T12:15:42.275687",
     "exception": false,
     "start_time": "2022-12-04T12:15:42.231225",
     "status": "completed"
    },
    "tags": []
   },
   "outputs": [],
   "source": [
    "#hide\n",
    "# g.head()"
   ]
  },
  {
   "cell_type": "code",
   "execution_count": 33,
   "id": "limited-engine",
   "metadata": {
    "execution": {
     "iopub.execute_input": "2022-12-04T12:15:42.348369Z",
     "iopub.status.busy": "2022-12-04T12:15:42.347693Z",
     "iopub.status.idle": "2022-12-04T12:15:42.352056Z",
     "shell.execute_reply": "2022-12-04T12:15:42.351479Z"
    },
    "papermill": {
     "duration": 0.042839,
     "end_time": "2022-12-04T12:15:42.352198",
     "exception": false,
     "start_time": "2022-12-04T12:15:42.309359",
     "status": "completed"
    },
    "tags": []
   },
   "outputs": [],
   "source": [
    "# hide\n",
    "# g['date'] = g['date'].astype('datetime64[ns]')"
   ]
  },
  {
   "cell_type": "code",
   "execution_count": 34,
   "id": "sophisticated-supervisor",
   "metadata": {
    "execution": {
     "iopub.execute_input": "2022-12-04T12:15:42.431779Z",
     "iopub.status.busy": "2022-12-04T12:15:42.430916Z",
     "iopub.status.idle": "2022-12-04T12:15:42.435666Z",
     "shell.execute_reply": "2022-12-04T12:15:42.436276Z"
    },
    "papermill": {
     "duration": 0.046678,
     "end_time": "2022-12-04T12:15:42.436481",
     "exception": false,
     "start_time": "2022-12-04T12:15:42.389803",
     "status": "completed"
    },
    "tags": []
   },
   "outputs": [],
   "source": [
    "#hide\n",
    "# g['date'] = g.date.dt.dayofyear"
   ]
  },
  {
   "cell_type": "code",
   "execution_count": 35,
   "id": "inside-dubai",
   "metadata": {
    "execution": {
     "iopub.execute_input": "2022-12-04T12:15:42.510984Z",
     "iopub.status.busy": "2022-12-04T12:15:42.510283Z",
     "iopub.status.idle": "2022-12-04T12:15:42.513005Z",
     "shell.execute_reply": "2022-12-04T12:15:42.512323Z"
    },
    "papermill": {
     "duration": 0.041919,
     "end_time": "2022-12-04T12:15:42.513130",
     "exception": false,
     "start_time": "2022-12-04T12:15:42.471211",
     "status": "completed"
    },
    "tags": []
   },
   "outputs": [],
   "source": [
    "#hide\n",
    "# g = g.rename(columns= {'continent':'group','country':'name','cases':'value'})"
   ]
  },
  {
   "cell_type": "code",
   "execution_count": 36,
   "id": "fleet-motorcycle",
   "metadata": {
    "execution": {
     "iopub.execute_input": "2022-12-04T12:15:42.586441Z",
     "iopub.status.busy": "2022-12-04T12:15:42.585732Z",
     "iopub.status.idle": "2022-12-04T12:15:42.588560Z",
     "shell.execute_reply": "2022-12-04T12:15:42.587974Z"
    },
    "papermill": {
     "duration": 0.040954,
     "end_time": "2022-12-04T12:15:42.588691",
     "exception": false,
     "start_time": "2022-12-04T12:15:42.547737",
     "status": "completed"
    },
    "tags": []
   },
   "outputs": [],
   "source": [
    "#hide\n",
    "# cols = ['name','group','day','value']"
   ]
  },
  {
   "cell_type": "code",
   "execution_count": 37,
   "id": "continued-sleeping",
   "metadata": {
    "execution": {
     "iopub.execute_input": "2022-12-04T12:15:42.663010Z",
     "iopub.status.busy": "2022-12-04T12:15:42.662209Z",
     "iopub.status.idle": "2022-12-04T12:15:42.664128Z",
     "shell.execute_reply": "2022-12-04T12:15:42.664727Z"
    },
    "papermill": {
     "duration": 0.041349,
     "end_time": "2022-12-04T12:15:42.664876",
     "exception": false,
     "start_time": "2022-12-04T12:15:42.623527",
     "status": "completed"
    },
    "tags": []
   },
   "outputs": [],
   "source": [
    "#hide\n",
    "# g.rename(columns= {'date':'day'},inplace = True)"
   ]
  },
  {
   "cell_type": "code",
   "execution_count": 38,
   "id": "major-fight",
   "metadata": {
    "execution": {
     "iopub.execute_input": "2022-12-04T12:15:42.744679Z",
     "iopub.status.busy": "2022-12-04T12:15:42.743945Z",
     "iopub.status.idle": "2022-12-04T12:15:42.746942Z",
     "shell.execute_reply": "2022-12-04T12:15:42.746269Z"
    },
    "papermill": {
     "duration": 0.044356,
     "end_time": "2022-12-04T12:15:42.747071",
     "exception": false,
     "start_time": "2022-12-04T12:15:42.702715",
     "status": "completed"
    },
    "tags": []
   },
   "outputs": [],
   "source": [
    "#hide\n",
    "# g = g[cols]"
   ]
  },
  {
   "cell_type": "code",
   "execution_count": 39,
   "id": "structured-mobile",
   "metadata": {
    "execution": {
     "iopub.execute_input": "2022-12-04T12:15:42.824841Z",
     "iopub.status.busy": "2022-12-04T12:15:42.824076Z",
     "iopub.status.idle": "2022-12-04T12:15:42.826608Z",
     "shell.execute_reply": "2022-12-04T12:15:42.827079Z"
    },
    "papermill": {
     "duration": 0.045335,
     "end_time": "2022-12-04T12:15:42.827227",
     "exception": false,
     "start_time": "2022-12-04T12:15:42.781892",
     "status": "completed"
    },
    "tags": []
   },
   "outputs": [],
   "source": [
    "# #hide\n",
    "# g = g[g.group.notna()]"
   ]
  },
  {
   "cell_type": "code",
   "execution_count": 40,
   "id": "determined-closing",
   "metadata": {
    "execution": {
     "iopub.execute_input": "2022-12-04T12:15:42.904358Z",
     "iopub.status.busy": "2022-12-04T12:15:42.903317Z",
     "iopub.status.idle": "2022-12-04T12:15:42.905429Z",
     "shell.execute_reply": "2022-12-04T12:15:42.905980Z"
    },
    "papermill": {
     "duration": 0.042428,
     "end_time": "2022-12-04T12:15:42.906135",
     "exception": false,
     "start_time": "2022-12-04T12:15:42.863707",
     "status": "completed"
    },
    "tags": []
   },
   "outputs": [],
   "source": [
    "# #hide\n",
    "# colors = dict(zip(\n",
    "#     [\"Oceania\", \"Europe\", \"Asia\", \"South America\", \"Middle East\", \"North America\", \"Africa\"],\n",
    "#     [\"#adb0ff\", \"#ffb3ff\", \"#90d595\", \"#e48381\", \"#aafbff\", \"#f7bb5f\", \"#eafb50\"]\n",
    "# ))\n",
    "# group_lk = g.set_index('name')['group'].to_dict()"
   ]
  },
  {
   "cell_type": "code",
   "execution_count": null,
   "id": "gross-drinking",
   "metadata": {
    "papermill": {
     "duration": 0.035,
     "end_time": "2022-12-04T12:15:42.976082",
     "exception": false,
     "start_time": "2022-12-04T12:15:42.941082",
     "status": "completed"
    },
    "tags": []
   },
   "outputs": [],
   "source": []
  },
  {
   "cell_type": "code",
   "execution_count": 41,
   "id": "subject-macintosh",
   "metadata": {
    "execution": {
     "iopub.execute_input": "2022-12-04T12:15:43.051513Z",
     "iopub.status.busy": "2022-12-04T12:15:43.050802Z",
     "iopub.status.idle": "2022-12-04T12:15:43.053253Z",
     "shell.execute_reply": "2022-12-04T12:15:43.053778Z"
    },
    "papermill": {
     "duration": 0.04285,
     "end_time": "2022-12-04T12:15:43.053927",
     "exception": false,
     "start_time": "2022-12-04T12:15:43.011077",
     "status": "completed"
    },
    "tags": []
   },
   "outputs": [],
   "source": [
    "# #hide\n",
    "# fig, ax = plt.subplots(figsize=(15, 8))\n",
    "\n",
    "# def draw_barchart(current_day):\n",
    "#     dff = g[g['day'].eq(current_day)].sort_values(by='value', ascending=True).tail(10)\n",
    "#     ax.clear()\n",
    "#     ax.barh(dff['name'], dff['value'], color=[colors[group_lk[x]] for x in dff['name']])\n",
    "#     dx = dff['value'].max() / 200\n",
    "    \n",
    "#     for i, (value, name) in enumerate(zip(dff['value'], dff['name'])):\n",
    "#         ax.text(value-dx, i,     name,           size=14, weight=600, ha='right', va='bottom')\n",
    "#         ax.text(value-dx, i-.25, group_lk[name], size=10, color='#444444', ha='right', va='baseline')\n",
    "#         ax.text(value+dx, i,     f'{value:,.0f}',  size=14, ha='left',  va='center')\n",
    "#     ax.text(1, 0.4, current_day, transform=ax.transAxes, color='#777777', size=46, ha='right', weight=800)\n",
    "#     ax.text(0, 1.06, 'Population (thousands)', transform=ax.transAxes, size=12, color='#777777')\n",
    "#     ax.xaxis.set_major_formatter(ticker.StrMethodFormatter('{x:,.0f}'))\n",
    "#     ax.xaxis.set_ticks_position('top')\n",
    "#     ax.tick_params(axis='x', colors='#777777', labelsize=12)\n",
    "#     ax.set_yticks([])\n",
    "#     ax.margins(0, 0.01)\n",
    "#     ax.grid(which='major', axis='x', linestyle='-')\n",
    "#     ax.set_axisbelow(True)\n",
    "    \n",
    "#     ax.text(0, 1.15, 'Coronavirus',\n",
    "#             transform=ax.transAxes, size=24, weight=600, ha='left', va='top')\n",
    "# #     ax.text(1, 0, 'by @pratapvardhan; credit @jburnmurdoch', transform=ax.transAxes, color='#777777', ha='right',\n",
    "# #             bbox=dict(facecolor='white', alpha=0.8, edgecolor='white'))\n",
    "#     plt.box(False)"
   ]
  },
  {
   "cell_type": "code",
   "execution_count": 42,
   "id": "sexual-wages",
   "metadata": {
    "execution": {
     "iopub.execute_input": "2022-12-04T12:15:43.129440Z",
     "iopub.status.busy": "2022-12-04T12:15:43.128709Z",
     "iopub.status.idle": "2022-12-04T12:15:43.131628Z",
     "shell.execute_reply": "2022-12-04T12:15:43.130868Z"
    },
    "papermill": {
     "duration": 0.042871,
     "end_time": "2022-12-04T12:15:43.131771",
     "exception": false,
     "start_time": "2022-12-04T12:15:43.088900",
     "status": "completed"
    },
    "tags": []
   },
   "outputs": [],
   "source": [
    "# #hide_input\n",
    "# fig, ax = plt.subplots(figsize=(15, 8))\n",
    "# animator = animation.FuncAnimation(fig, draw_barchart, frames=range(g.day.values.min(), g.day.values.max()))\n",
    "# HTML(animator.to_jshtml())\n",
    "# # or use animator.to_html5_video() or animator.save() "
   ]
  },
  {
   "cell_type": "code",
   "execution_count": null,
   "id": "australian-container",
   "metadata": {
    "papermill": {
     "duration": 0.037437,
     "end_time": "2022-12-04T12:15:43.209065",
     "exception": false,
     "start_time": "2022-12-04T12:15:43.171628",
     "status": "completed"
    },
    "tags": []
   },
   "outputs": [],
   "source": []
  },
  {
   "cell_type": "code",
   "execution_count": null,
   "id": "mediterranean-pontiac",
   "metadata": {
    "papermill": {
     "duration": 0.037555,
     "end_time": "2022-12-04T12:15:43.285574",
     "exception": false,
     "start_time": "2022-12-04T12:15:43.248019",
     "status": "completed"
    },
    "tags": []
   },
   "outputs": [],
   "source": []
  },
  {
   "cell_type": "code",
   "execution_count": null,
   "id": "aging-legislature",
   "metadata": {
    "papermill": {
     "duration": 0.035952,
     "end_time": "2022-12-04T12:15:43.357183",
     "exception": false,
     "start_time": "2022-12-04T12:15:43.321231",
     "status": "completed"
    },
    "tags": []
   },
   "outputs": [],
   "source": []
  }
 ],
 "metadata": {
  "kernelspec": {
   "display_name": "Python 3",
   "language": "python",
   "name": "python3"
  },
  "language_info": {
   "codemirror_mode": {
    "name": "ipython",
    "version": 3
   },
   "file_extension": ".py",
   "mimetype": "text/x-python",
   "name": "python",
   "nbconvert_exporter": "python",
   "pygments_lexer": "ipython3",
   "version": "3.6.15"
  },
  "papermill": {
   "duration": 7.106514,
   "end_time": "2022-12-04T12:15:43.812808",
   "environment_variables": {},
   "exception": null,
   "input_path": "2020-03-21-covid19exp.ipynb",
   "output_path": "2020-03-21-covid19exp.ipynb",
   "parameters": {},
   "start_time": "2022-12-04T12:15:36.706294",
   "version": "2.0.0"
  }
 },
 "nbformat": 4,
 "nbformat_minor": 5
}