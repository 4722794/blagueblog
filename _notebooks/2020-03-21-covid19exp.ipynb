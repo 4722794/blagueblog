{
 "cells": [
  {
   "cell_type": "markdown",
   "id": "muslim-click",
   "metadata": {
    "papermill": {
     "duration": 0.033875,
     "end_time": "2022-08-18T12:18:16.878933",
     "exception": false,
     "start_time": "2022-08-18T12:18:16.845058",
     "status": "completed"
    },
    "tags": []
   },
   "source": [
    "# COVID-19 Case Race\n",
    "> A race chart to see rising cases around the world\n",
    "\n",
    "- author: Hargun Oberoi\n",
    "- image: images/covid-overview.png\n",
    "- hide: false\n",
    "- badges: false"
   ]
  },
  {
   "cell_type": "code",
   "execution_count": 1,
   "id": "proof-material",
   "metadata": {
    "execution": {
     "iopub.execute_input": "2022-08-18T12:18:16.942785Z",
     "iopub.status.busy": "2022-08-18T12:18:16.942213Z",
     "iopub.status.idle": "2022-08-18T12:18:17.282417Z",
     "shell.execute_reply": "2022-08-18T12:18:17.281803Z"
    },
    "papermill": {
     "duration": 0.376375,
     "end_time": "2022-08-18T12:18:17.282568",
     "exception": false,
     "start_time": "2022-08-18T12:18:16.906193",
     "status": "completed"
    },
    "tags": []
   },
   "outputs": [],
   "source": [
    "#hide\n",
    "import numpy as np\n",
    "import pandas as pd\n",
    "from jinja2 import Template\n",
    "from IPython.display import HTML"
   ]
  },
  {
   "cell_type": "code",
   "execution_count": 2,
   "id": "developed-terminology",
   "metadata": {
    "execution": {
     "iopub.execute_input": "2022-08-18T12:18:17.351011Z",
     "iopub.status.busy": "2022-08-18T12:18:17.350296Z",
     "iopub.status.idle": "2022-08-18T12:18:17.351855Z",
     "shell.execute_reply": "2022-08-18T12:18:17.352529Z"
    },
    "papermill": {
     "duration": 0.033618,
     "end_time": "2022-08-18T12:18:17.352691",
     "exception": false,
     "start_time": "2022-08-18T12:18:17.319073",
     "status": "completed"
    },
    "tags": []
   },
   "outputs": [],
   "source": [
    "#hide\n",
    "\n",
    "# FETCH\n",
    "base_url = 'https://raw.githubusercontent.com/pratapvardhan/notebooks/master/covid19/'\n",
    "paths = {\n",
    "    'mapping': base_url + 'mapping_countries.csv',\n",
    "    'overview': base_url + 'overview.tpl'\n",
    "}"
   ]
  },
  {
   "cell_type": "code",
   "execution_count": 3,
   "id": "dynamic-saver",
   "metadata": {
    "execution": {
     "iopub.execute_input": "2022-08-18T12:18:17.422527Z",
     "iopub.status.busy": "2022-08-18T12:18:17.421898Z",
     "iopub.status.idle": "2022-08-18T12:18:17.424325Z",
     "shell.execute_reply": "2022-08-18T12:18:17.424825Z"
    },
    "papermill": {
     "duration": 0.04198,
     "end_time": "2022-08-18T12:18:17.424966",
     "exception": false,
     "start_time": "2022-08-18T12:18:17.382986",
     "status": "completed"
    },
    "tags": []
   },
   "outputs": [
    {
     "data": {
      "text/plain": [
       "'https://raw.githubusercontent.com/pratapvardhan/notebooks/master/covid19/mapping_countries.csv'"
      ]
     },
     "execution_count": 3,
     "metadata": {},
     "output_type": "execute_result"
    }
   ],
   "source": [
    "#hide\n",
    "paths['mapping']"
   ]
  },
  {
   "cell_type": "code",
   "execution_count": 4,
   "id": "urban-software",
   "metadata": {
    "execution": {
     "iopub.execute_input": "2022-08-18T12:18:17.491755Z",
     "iopub.status.busy": "2022-08-18T12:18:17.491146Z",
     "iopub.status.idle": "2022-08-18T12:18:17.493665Z",
     "shell.execute_reply": "2022-08-18T12:18:17.494233Z"
    },
    "papermill": {
     "duration": 0.039088,
     "end_time": "2022-08-18T12:18:17.494371",
     "exception": false,
     "start_time": "2022-08-18T12:18:17.455283",
     "status": "completed"
    },
    "tags": []
   },
   "outputs": [],
   "source": [
    "#hide\n",
    "def get_mappings(url):\n",
    "    df = pd.read_csv(url)\n",
    "    return {\n",
    "        'df': df,\n",
    "        'replace.country': dict(df.dropna(subset=['Name']).set_index('Country')['Name']),\n",
    "        'map.continent': dict(df.set_index('Name')['Continent'])\n",
    "    }"
   ]
  },
  {
   "cell_type": "code",
   "execution_count": 5,
   "id": "intimate-machinery",
   "metadata": {
    "execution": {
     "iopub.execute_input": "2022-08-18T12:18:17.561074Z",
     "iopub.status.busy": "2022-08-18T12:18:17.560448Z",
     "iopub.status.idle": "2022-08-18T12:18:17.586814Z",
     "shell.execute_reply": "2022-08-18T12:18:17.586230Z"
    },
    "papermill": {
     "duration": 0.061747,
     "end_time": "2022-08-18T12:18:17.586952",
     "exception": false,
     "start_time": "2022-08-18T12:18:17.525205",
     "status": "completed"
    },
    "tags": []
   },
   "outputs": [],
   "source": [
    "#hide\n",
    "mapping = get_mappings(paths['mapping'])"
   ]
  },
  {
   "cell_type": "code",
   "execution_count": 6,
   "id": "certified-tactics",
   "metadata": {
    "execution": {
     "iopub.execute_input": "2022-08-18T12:18:17.652866Z",
     "iopub.status.busy": "2022-08-18T12:18:17.652288Z",
     "iopub.status.idle": "2022-08-18T12:18:17.655245Z",
     "shell.execute_reply": "2022-08-18T12:18:17.655756Z"
    },
    "papermill": {
     "duration": 0.03833,
     "end_time": "2022-08-18T12:18:17.655917",
     "exception": false,
     "start_time": "2022-08-18T12:18:17.617587",
     "status": "completed"
    },
    "tags": []
   },
   "outputs": [],
   "source": [
    "#hide\n",
    "def get_template(path):\n",
    "    from urllib.parse import urlparse\n",
    "    if bool(urlparse(path).netloc):\n",
    "        from urllib.request import urlopen\n",
    "        return urlopen(path).read().decode('utf8')\n",
    "    return open(path).read()"
   ]
  },
  {
   "cell_type": "code",
   "execution_count": 7,
   "id": "realistic-blast",
   "metadata": {
    "execution": {
     "iopub.execute_input": "2022-08-18T12:18:17.715925Z",
     "iopub.status.busy": "2022-08-18T12:18:17.715347Z",
     "iopub.status.idle": "2022-08-18T12:18:17.717956Z",
     "shell.execute_reply": "2022-08-18T12:18:17.718475Z"
    },
    "papermill": {
     "duration": 0.034905,
     "end_time": "2022-08-18T12:18:17.718606",
     "exception": false,
     "start_time": "2022-08-18T12:18:17.683701",
     "status": "completed"
    },
    "tags": []
   },
   "outputs": [],
   "source": [
    "#hide\n",
    "def get_frame(name):\n",
    "    url = (\n",
    "        'https://raw.githubusercontent.com/CSSEGISandData/COVID-19/master/csse_covid_19_data/'\n",
    "        f'csse_covid_19_time_series/time_series_covid19_{name}_global.csv')\n",
    "    df = pd.read_csv(url)\n",
    "    # rename countries\n",
    "    df['Country/Region'] = df['Country/Region'].replace(mapping['replace.country'])\n",
    "    return df"
   ]
  },
  {
   "cell_type": "code",
   "execution_count": 8,
   "id": "affiliated-characterization",
   "metadata": {
    "execution": {
     "iopub.execute_input": "2022-08-18T12:18:17.779057Z",
     "iopub.status.busy": "2022-08-18T12:18:17.778327Z",
     "iopub.status.idle": "2022-08-18T12:18:17.782036Z",
     "shell.execute_reply": "2022-08-18T12:18:17.782561Z"
    },
    "papermill": {
     "duration": 0.037055,
     "end_time": "2022-08-18T12:18:17.782714",
     "exception": false,
     "start_time": "2022-08-18T12:18:17.745659",
     "status": "completed"
    },
    "tags": []
   },
   "outputs": [],
   "source": [
    "#hide\n",
    "def get_dates(df):\n",
    "    dt_cols = df.columns[~df.columns.isin(['Province/State', 'Country/Region', 'Lat', 'Long'])]\n",
    "    LAST_DATE_I = -1\n",
    "    # sometimes last column may be empty, then go backwards\n",
    "    for i in range(-1, -len(dt_cols), -1):\n",
    "        if not df[dt_cols[i]].fillna(0).eq(0).all():\n",
    "            LAST_DATE_I = i\n",
    "            break\n",
    "    return LAST_DATE_I, dt_cols"
   ]
  },
  {
   "cell_type": "code",
   "execution_count": 9,
   "id": "recent-optimization",
   "metadata": {
    "execution": {
     "iopub.execute_input": "2022-08-18T12:18:17.848651Z",
     "iopub.status.busy": "2022-08-18T12:18:17.847991Z",
     "iopub.status.idle": "2022-08-18T12:18:18.195358Z",
     "shell.execute_reply": "2022-08-18T12:18:18.194744Z"
    },
    "papermill": {
     "duration": 0.382535,
     "end_time": "2022-08-18T12:18:18.195509",
     "exception": false,
     "start_time": "2022-08-18T12:18:17.812974",
     "status": "completed"
    },
    "tags": []
   },
   "outputs": [],
   "source": [
    "#hide\n",
    "COL_REGION = 'Country/Region'\n",
    "# Confirmed, Recovered, Deaths\n",
    "df = get_frame('confirmed')\n",
    "# dft_: timeseries, dfc_: today country agg\n",
    "dft_cases = df\n",
    "dft_deaths = get_frame('deaths')\n",
    "dft_recovered = get_frame('recovered')\n",
    "LAST_DATE_I, dt_cols = get_dates(df)"
   ]
  },
  {
   "cell_type": "code",
   "execution_count": 10,
   "id": "absolute-copper",
   "metadata": {
    "execution": {
     "iopub.execute_input": "2022-08-18T12:18:18.263587Z",
     "iopub.status.busy": "2022-08-18T12:18:18.262957Z",
     "iopub.status.idle": "2022-08-18T12:18:18.265372Z",
     "shell.execute_reply": "2022-08-18T12:18:18.265938Z"
    },
    "papermill": {
     "duration": 0.039088,
     "end_time": "2022-08-18T12:18:18.266075",
     "exception": false,
     "start_time": "2022-08-18T12:18:18.226987",
     "status": "completed"
    },
    "tags": []
   },
   "outputs": [],
   "source": [
    "#hide\n",
    "LAST_DATE_I, dt_cols = get_dates(df)\n",
    "dt_today =dt_cols[LAST_DATE_I]\n",
    "# dt_5day = dt_cols[LAST_DATE_I - 5]\n",
    "dt_yday = dt_cols[LAST_DATE_I - 1]"
   ]
  },
  {
   "cell_type": "code",
   "execution_count": 11,
   "id": "restricted-sheriff",
   "metadata": {
    "execution": {
     "iopub.execute_input": "2022-08-18T12:18:18.332326Z",
     "iopub.status.busy": "2022-08-18T12:18:18.331689Z",
     "iopub.status.idle": "2022-08-18T12:18:18.340191Z",
     "shell.execute_reply": "2022-08-18T12:18:18.339667Z"
    },
    "papermill": {
     "duration": 0.044138,
     "end_time": "2022-08-18T12:18:18.340314",
     "exception": false,
     "start_time": "2022-08-18T12:18:18.296176",
     "status": "completed"
    },
    "tags": []
   },
   "outputs": [],
   "source": [
    "#hide\n",
    "dfc_cases = dft_cases.groupby(COL_REGION)[dt_today].sum()\n",
    "dfc_deaths = dft_deaths.groupby(COL_REGION)[dt_today].sum()\n",
    "# dfp_cases = dft_cases.groupby(COL_REGION)[dt_5day].sum()\n",
    "# dfp_deaths = dft_deaths.groupby(COL_REGION)[dt_5day].sum()\n",
    "dfp_cases = dft_cases.groupby(COL_REGION)[dt_yday].sum()\n",
    "dfp_deaths = dft_deaths.groupby(COL_REGION)[dt_yday].sum()"
   ]
  },
  {
   "cell_type": "code",
   "execution_count": 12,
   "id": "deluxe-hepatitis",
   "metadata": {
    "execution": {
     "iopub.execute_input": "2022-08-18T12:18:18.407484Z",
     "iopub.status.busy": "2022-08-18T12:18:18.406854Z",
     "iopub.status.idle": "2022-08-18T12:18:18.411372Z",
     "shell.execute_reply": "2022-08-18T12:18:18.411947Z"
    },
    "papermill": {
     "duration": 0.041478,
     "end_time": "2022-08-18T12:18:18.412122",
     "exception": false,
     "start_time": "2022-08-18T12:18:18.370644",
     "status": "completed"
    },
    "tags": []
   },
   "outputs": [],
   "source": [
    "#hide\n",
    "df_table = (pd.DataFrame(dict(Cases = dfc_cases, Deaths = dfc_deaths, PCases = dfp_cases, PDeaths = dfp_deaths))\n",
    "            .sort_values(by = ['Cases','Deaths'], ascending = [False, False])\n",
    "            .reset_index())"
   ]
  },
  {
   "cell_type": "code",
   "execution_count": 13,
   "id": "educational-chancellor",
   "metadata": {
    "execution": {
     "iopub.execute_input": "2022-08-18T12:18:18.491727Z",
     "iopub.status.busy": "2022-08-18T12:18:18.491092Z",
     "iopub.status.idle": "2022-08-18T12:18:18.498934Z",
     "shell.execute_reply": "2022-08-18T12:18:18.498441Z"
    },
    "papermill": {
     "duration": 0.056756,
     "end_time": "2022-08-18T12:18:18.499053",
     "exception": false,
     "start_time": "2022-08-18T12:18:18.442297",
     "status": "completed"
    },
    "tags": []
   },
   "outputs": [
    {
     "data": {
      "text/html": [
       "<div>\n",
       "<style scoped>\n",
       "    .dataframe tbody tr th:only-of-type {\n",
       "        vertical-align: middle;\n",
       "    }\n",
       "\n",
       "    .dataframe tbody tr th {\n",
       "        vertical-align: top;\n",
       "    }\n",
       "\n",
       "    .dataframe thead th {\n",
       "        text-align: right;\n",
       "    }\n",
       "</style>\n",
       "<table border=\"1\" class=\"dataframe\">\n",
       "  <thead>\n",
       "    <tr style=\"text-align: right;\">\n",
       "      <th></th>\n",
       "      <th>Country/Region</th>\n",
       "      <th>Cases</th>\n",
       "      <th>Deaths</th>\n",
       "      <th>PCases</th>\n",
       "      <th>PDeaths</th>\n",
       "      <th>Cases (+)</th>\n",
       "      <th>Deaths (+)</th>\n",
       "      <th>Fatality Rate</th>\n",
       "      <th>Continent</th>\n",
       "    </tr>\n",
       "  </thead>\n",
       "  <tbody>\n",
       "    <tr>\n",
       "      <th>0</th>\n",
       "      <td>US</td>\n",
       "      <td>93278036</td>\n",
       "      <td>1039026</td>\n",
       "      <td>93139947</td>\n",
       "      <td>1037933</td>\n",
       "      <td>138089</td>\n",
       "      <td>1093</td>\n",
       "      <td>1.11</td>\n",
       "      <td>North America</td>\n",
       "    </tr>\n",
       "    <tr>\n",
       "      <th>1</th>\n",
       "      <td>India</td>\n",
       "      <td>44298864</td>\n",
       "      <td>527206</td>\n",
       "      <td>44286256</td>\n",
       "      <td>527134</td>\n",
       "      <td>12608</td>\n",
       "      <td>72</td>\n",
       "      <td>1.19</td>\n",
       "      <td>Asia</td>\n",
       "    </tr>\n",
       "    <tr>\n",
       "      <th>2</th>\n",
       "      <td>France</td>\n",
       "      <td>34491381</td>\n",
       "      <td>154375</td>\n",
       "      <td>34455445</td>\n",
       "      <td>154282</td>\n",
       "      <td>35936</td>\n",
       "      <td>93</td>\n",
       "      <td>0.45</td>\n",
       "      <td>Europe</td>\n",
       "    </tr>\n",
       "    <tr>\n",
       "      <th>3</th>\n",
       "      <td>Brazil</td>\n",
       "      <td>34223207</td>\n",
       "      <td>682010</td>\n",
       "      <td>34201280</td>\n",
       "      <td>681763</td>\n",
       "      <td>21927</td>\n",
       "      <td>247</td>\n",
       "      <td>1.99</td>\n",
       "      <td>South America</td>\n",
       "    </tr>\n",
       "    <tr>\n",
       "      <th>4</th>\n",
       "      <td>Germany</td>\n",
       "      <td>31725160</td>\n",
       "      <td>146214</td>\n",
       "      <td>31666475</td>\n",
       "      <td>146030</td>\n",
       "      <td>58685</td>\n",
       "      <td>184</td>\n",
       "      <td>0.46</td>\n",
       "      <td>Europe</td>\n",
       "    </tr>\n",
       "  </tbody>\n",
       "</table>\n",
       "</div>"
      ],
      "text/plain": [
       "  Country/Region     Cases   Deaths    PCases  PDeaths  Cases (+)  Deaths (+)  \\\n",
       "0             US  93278036  1039026  93139947  1037933     138089        1093   \n",
       "1          India  44298864   527206  44286256   527134      12608          72   \n",
       "2         France  34491381   154375  34455445   154282      35936          93   \n",
       "3         Brazil  34223207   682010  34201280   681763      21927         247   \n",
       "4        Germany  31725160   146214  31666475   146030      58685         184   \n",
       "\n",
       "   Fatality Rate      Continent  \n",
       "0           1.11  North America  \n",
       "1           1.19           Asia  \n",
       "2           0.45         Europe  \n",
       "3           1.99  South America  \n",
       "4           0.46         Europe  "
      ]
     },
     "execution_count": 13,
     "metadata": {},
     "output_type": "execute_result"
    }
   ],
   "source": [
    "#hide\n",
    "for c in 'Cases, Deaths'.split(', '):\n",
    "    df_table[f'{c} (+)'] = (df_table[c] - df_table[f'P{c}']).clip(0)\n",
    "    #Clip ça veut dire, les chiffres negatif sont interdit\n",
    "df_table['Fatality Rate'] = (100* df_table['Deaths']/ df_table['Cases']).round(2)\n",
    "df_table['Continent'] = df_table['Country/Region'].map(mapping['map.continent'])\n",
    "df_table.head(5)"
   ]
  },
  {
   "cell_type": "code",
   "execution_count": 14,
   "id": "aboriginal-bulgaria",
   "metadata": {
    "execution": {
     "iopub.execute_input": "2022-08-18T12:18:18.566535Z",
     "iopub.status.busy": "2022-08-18T12:18:18.565931Z",
     "iopub.status.idle": "2022-08-18T12:18:18.568948Z",
     "shell.execute_reply": "2022-08-18T12:18:18.569514Z"
    },
    "papermill": {
     "duration": 0.039591,
     "end_time": "2022-08-18T12:18:18.569653",
     "exception": false,
     "start_time": "2022-08-18T12:18:18.530062",
     "status": "completed"
    },
    "tags": []
   },
   "outputs": [],
   "source": [
    "#hide\n",
    "#delete problematic countries from table\n",
    "df_table = df_table[~df_table['Country/Region'].isin(['Cape Verde', 'Cruise Ship', 'Kosovo'])]"
   ]
  },
  {
   "cell_type": "code",
   "execution_count": 15,
   "id": "fantastic-effect",
   "metadata": {
    "execution": {
     "iopub.execute_input": "2022-08-18T12:18:18.639954Z",
     "iopub.status.busy": "2022-08-18T12:18:18.639328Z",
     "iopub.status.idle": "2022-08-18T12:18:18.656626Z",
     "shell.execute_reply": "2022-08-18T12:18:18.656112Z"
    },
    "papermill": {
     "duration": 0.056424,
     "end_time": "2022-08-18T12:18:18.656750",
     "exception": false,
     "start_time": "2022-08-18T12:18:18.600326",
     "status": "completed"
    },
    "tags": []
   },
   "outputs": [
    {
     "data": {
      "text/html": [
       "<div>\n",
       "<style scoped>\n",
       "    .dataframe tbody tr th:only-of-type {\n",
       "        vertical-align: middle;\n",
       "    }\n",
       "\n",
       "    .dataframe tbody tr th {\n",
       "        vertical-align: top;\n",
       "    }\n",
       "\n",
       "    .dataframe thead th {\n",
       "        text-align: right;\n",
       "    }\n",
       "</style>\n",
       "<table border=\"1\" class=\"dataframe\">\n",
       "  <thead>\n",
       "    <tr style=\"text-align: right;\">\n",
       "      <th></th>\n",
       "      <th>Country/Region</th>\n",
       "      <th>Cases</th>\n",
       "      <th>Deaths</th>\n",
       "      <th>PCases</th>\n",
       "      <th>PDeaths</th>\n",
       "      <th>Cases (+)</th>\n",
       "      <th>Deaths (+)</th>\n",
       "      <th>Fatality Rate</th>\n",
       "      <th>Continent</th>\n",
       "    </tr>\n",
       "  </thead>\n",
       "  <tbody>\n",
       "    <tr>\n",
       "      <th>0</th>\n",
       "      <td>US</td>\n",
       "      <td>93278036</td>\n",
       "      <td>1039026</td>\n",
       "      <td>93139947</td>\n",
       "      <td>1037933</td>\n",
       "      <td>138089</td>\n",
       "      <td>1093</td>\n",
       "      <td>1.1</td>\n",
       "      <td>North America</td>\n",
       "    </tr>\n",
       "    <tr>\n",
       "      <th>1</th>\n",
       "      <td>India</td>\n",
       "      <td>44298864</td>\n",
       "      <td>527206</td>\n",
       "      <td>44286256</td>\n",
       "      <td>527134</td>\n",
       "      <td>12608</td>\n",
       "      <td>72</td>\n",
       "      <td>1.2</td>\n",
       "      <td>Asia</td>\n",
       "    </tr>\n",
       "    <tr>\n",
       "      <th>2</th>\n",
       "      <td>France</td>\n",
       "      <td>34491381</td>\n",
       "      <td>154375</td>\n",
       "      <td>34455445</td>\n",
       "      <td>154282</td>\n",
       "      <td>35936</td>\n",
       "      <td>93</td>\n",
       "      <td>0.4</td>\n",
       "      <td>Europe</td>\n",
       "    </tr>\n",
       "    <tr>\n",
       "      <th>3</th>\n",
       "      <td>Brazil</td>\n",
       "      <td>34223207</td>\n",
       "      <td>682010</td>\n",
       "      <td>34201280</td>\n",
       "      <td>681763</td>\n",
       "      <td>21927</td>\n",
       "      <td>247</td>\n",
       "      <td>2.0</td>\n",
       "      <td>South America</td>\n",
       "    </tr>\n",
       "    <tr>\n",
       "      <th>4</th>\n",
       "      <td>Germany</td>\n",
       "      <td>31725160</td>\n",
       "      <td>146214</td>\n",
       "      <td>31666475</td>\n",
       "      <td>146030</td>\n",
       "      <td>58685</td>\n",
       "      <td>184</td>\n",
       "      <td>0.5</td>\n",
       "      <td>Europe</td>\n",
       "    </tr>\n",
       "  </tbody>\n",
       "</table>\n",
       "</div>"
      ],
      "text/plain": [
       "  Country/Region     Cases   Deaths    PCases  PDeaths  Cases (+)  Deaths (+)  \\\n",
       "0             US  93278036  1039026  93139947  1037933     138089        1093   \n",
       "1          India  44298864   527206  44286256   527134      12608          72   \n",
       "2         France  34491381   154375  34455445   154282      35936          93   \n",
       "3         Brazil  34223207   682010  34201280   681763      21927         247   \n",
       "4        Germany  31725160   146214  31666475   146030      58685         184   \n",
       "\n",
       "   Fatality Rate      Continent  \n",
       "0            1.1  North America  \n",
       "1            1.2           Asia  \n",
       "2            0.4         Europe  \n",
       "3            2.0  South America  \n",
       "4            0.5         Europe  "
      ]
     },
     "execution_count": 15,
     "metadata": {},
     "output_type": "execute_result"
    }
   ],
   "source": [
    "#hide\n",
    "df_table = (pd.DataFrame(dict(Cases=dfc_cases, Deaths=dfc_deaths, PCases=dfp_cases, PDeaths=dfp_deaths))\n",
    "             .sort_values(by=['Cases', 'Deaths'], ascending=[False, False])\n",
    "             .reset_index())\n",
    "df_table.rename(columns={'index': 'Country/Region'}, inplace=True)\n",
    "for c in 'Cases, Deaths'.split(', '):\n",
    "    df_table[f'{c} (+)'] = (df_table[c] - df_table[f'P{c}']).clip(0)  # DATA BUG\n",
    "df_table['Fatality Rate'] = (100 * df_table['Deaths'] / df_table['Cases']).round(1)\n",
    "df_table['Continent'] = df_table['Country/Region'].map(mapping['map.continent'])\n",
    "df_table.head(5)"
   ]
  },
  {
   "cell_type": "code",
   "execution_count": 16,
   "id": "fewer-occasion",
   "metadata": {
    "execution": {
     "iopub.execute_input": "2022-08-18T12:18:18.725182Z",
     "iopub.status.busy": "2022-08-18T12:18:18.724580Z",
     "iopub.status.idle": "2022-08-18T12:18:18.728083Z",
     "shell.execute_reply": "2022-08-18T12:18:18.727467Z"
    },
    "papermill": {
     "duration": 0.039914,
     "end_time": "2022-08-18T12:18:18.728204",
     "exception": false,
     "start_time": "2022-08-18T12:18:18.688290",
     "status": "completed"
    },
    "tags": []
   },
   "outputs": [],
   "source": [
    "#hide\n",
    "#delete problematic countries from table\n",
    "df_table = df_table[~df_table['Country/Region'].isin(['Cape Verde', 'Cruise Ship', 'Kosovo'])]"
   ]
  },
  {
   "cell_type": "code",
   "execution_count": 17,
   "id": "related-center",
   "metadata": {
    "execution": {
     "iopub.execute_input": "2022-08-18T12:18:18.808670Z",
     "iopub.status.busy": "2022-08-18T12:18:18.807971Z",
     "iopub.status.idle": "2022-08-18T12:18:18.810729Z",
     "shell.execute_reply": "2022-08-18T12:18:18.810230Z"
    },
    "papermill": {
     "duration": 0.051544,
     "end_time": "2022-08-18T12:18:18.810855",
     "exception": false,
     "start_time": "2022-08-18T12:18:18.759311",
     "status": "completed"
    },
    "tags": []
   },
   "outputs": [],
   "source": [
    "#hide\n",
    "metrics = [df_table.columns[index] for index in [1,2,5,6]]\n",
    "# s_china = df_table[df_table['Country/Region'].eq('China')][metrics].sum().add_prefix('China ')\n",
    "s_us = df_table[df_table['Country/Region'].eq('US')][metrics].sum().add_prefix('US ')\n",
    "s_eu = df_table[df_table['Continent'].eq('Europe')][metrics].sum().add_prefix('EU ')\n",
    "s_ind = df_table[df_table['Country/Region'].eq('India')][metrics].sum().add_prefix('India ')\n",
    "summary = {'updated': pd.to_datetime(dt_today), 'since': pd.to_datetime(dt_yday)}\n",
    "summary = {'updated': pd.to_datetime(dt_today), 'since': pd.to_datetime(dt_yday)}\n",
    "summary = {**summary, **df_table[metrics].sum(), **s_ind, **s_us, **s_eu}"
   ]
  },
  {
   "cell_type": "code",
   "execution_count": 18,
   "id": "engaging-syndrome",
   "metadata": {
    "execution": {
     "iopub.execute_input": "2022-08-18T12:18:18.879385Z",
     "iopub.status.busy": "2022-08-18T12:18:18.878740Z",
     "iopub.status.idle": "2022-08-18T12:18:18.899743Z",
     "shell.execute_reply": "2022-08-18T12:18:18.899208Z"
    },
    "papermill": {
     "duration": 0.057503,
     "end_time": "2022-08-18T12:18:18.899868",
     "exception": false,
     "start_time": "2022-08-18T12:18:18.842365",
     "status": "completed"
    },
    "tags": []
   },
   "outputs": [],
   "source": [
    "#hide\n",
    "dft_ct_new_cases = dft_cases.groupby(COL_REGION)[dt_cols].sum().diff(axis=1).fillna(0).astype(int)"
   ]
  },
  {
   "cell_type": "code",
   "execution_count": 19,
   "id": "neutral-assignment",
   "metadata": {
    "execution": {
     "iopub.execute_input": "2022-08-18T12:18:18.968590Z",
     "iopub.status.busy": "2022-08-18T12:18:18.967927Z",
     "iopub.status.idle": "2022-08-18T12:18:18.970525Z",
     "shell.execute_reply": "2022-08-18T12:18:18.970082Z"
    },
    "papermill": {
     "duration": 0.039635,
     "end_time": "2022-08-18T12:18:18.970638",
     "exception": false,
     "start_time": "2022-08-18T12:18:18.931003",
     "status": "completed"
    },
    "tags": []
   },
   "outputs": [],
   "source": [
    "#hide\n",
    "everydaycases = dft_ct_new_cases.cumsum(axis=1)"
   ]
  },
  {
   "cell_type": "code",
   "execution_count": 20,
   "id": "parliamentary-calgary",
   "metadata": {
    "execution": {
     "iopub.execute_input": "2022-08-18T12:18:19.031071Z",
     "iopub.status.busy": "2022-08-18T12:18:19.030527Z",
     "iopub.status.idle": "2022-08-18T12:18:19.576893Z",
     "shell.execute_reply": "2022-08-18T12:18:19.576408Z"
    },
    "papermill": {
     "duration": 0.578651,
     "end_time": "2022-08-18T12:18:19.577016",
     "exception": false,
     "start_time": "2022-08-18T12:18:18.998365",
     "status": "completed"
    },
    "tags": []
   },
   "outputs": [],
   "source": [
    "#hide\n",
    "import pandas as pd\n",
    "import matplotlib.pyplot as plt\n",
    "import matplotlib.ticker as ticker\n",
    "import matplotlib.animation as animation\n",
    "from IPython.display import HTML"
   ]
  },
  {
   "cell_type": "code",
   "execution_count": 21,
   "id": "lasting-extraction",
   "metadata": {
    "execution": {
     "iopub.execute_input": "2022-08-18T12:18:19.639299Z",
     "iopub.status.busy": "2022-08-18T12:18:19.638745Z",
     "iopub.status.idle": "2022-08-18T12:18:19.645721Z",
     "shell.execute_reply": "2022-08-18T12:18:19.646161Z"
    },
    "papermill": {
     "duration": 0.041714,
     "end_time": "2022-08-18T12:18:19.646292",
     "exception": false,
     "start_time": "2022-08-18T12:18:19.604578",
     "status": "completed"
    },
    "tags": []
   },
   "outputs": [],
   "source": [
    "#hide\n",
    "t = everydaycases.stack()"
   ]
  },
  {
   "cell_type": "code",
   "execution_count": 22,
   "id": "premier-sleeve",
   "metadata": {
    "execution": {
     "iopub.execute_input": "2022-08-18T12:18:19.706753Z",
     "iopub.status.busy": "2022-08-18T12:18:19.706194Z",
     "iopub.status.idle": "2022-08-18T12:18:19.718541Z",
     "shell.execute_reply": "2022-08-18T12:18:19.718107Z"
    },
    "papermill": {
     "duration": 0.044629,
     "end_time": "2022-08-18T12:18:19.718659",
     "exception": false,
     "start_time": "2022-08-18T12:18:19.674030",
     "status": "completed"
    },
    "tags": []
   },
   "outputs": [],
   "source": [
    "#hide\n",
    "g = t.reset_index(['Country/Region'])"
   ]
  },
  {
   "cell_type": "code",
   "execution_count": 23,
   "id": "distributed-pittsburgh",
   "metadata": {
    "execution": {
     "iopub.execute_input": "2022-08-18T12:18:19.778197Z",
     "iopub.status.busy": "2022-08-18T12:18:19.777650Z",
     "iopub.status.idle": "2022-08-18T12:18:19.780111Z",
     "shell.execute_reply": "2022-08-18T12:18:19.780631Z"
    },
    "papermill": {
     "duration": 0.03448,
     "end_time": "2022-08-18T12:18:19.780761",
     "exception": false,
     "start_time": "2022-08-18T12:18:19.746281",
     "status": "completed"
    },
    "tags": []
   },
   "outputs": [],
   "source": [
    "#hide\n",
    "g.index.name = 'date'"
   ]
  },
  {
   "cell_type": "code",
   "execution_count": 24,
   "id": "naked-donor",
   "metadata": {
    "execution": {
     "iopub.execute_input": "2022-08-18T12:18:19.840654Z",
     "iopub.status.busy": "2022-08-18T12:18:19.839878Z",
     "iopub.status.idle": "2022-08-18T12:18:19.843307Z",
     "shell.execute_reply": "2022-08-18T12:18:19.842818Z"
    },
    "papermill": {
     "duration": 0.034844,
     "end_time": "2022-08-18T12:18:19.843423",
     "exception": false,
     "start_time": "2022-08-18T12:18:19.808579",
     "status": "completed"
    },
    "tags": []
   },
   "outputs": [],
   "source": [
    "# #hide\n",
    "# g = g.reset_index(['date'])"
   ]
  },
  {
   "cell_type": "code",
   "execution_count": 25,
   "id": "incomplete-mustang",
   "metadata": {
    "execution": {
     "iopub.execute_input": "2022-08-18T12:18:19.910815Z",
     "iopub.status.busy": "2022-08-18T12:18:19.910112Z",
     "iopub.status.idle": "2022-08-18T12:18:19.911967Z",
     "shell.execute_reply": "2022-08-18T12:18:19.912514Z"
    },
    "papermill": {
     "duration": 0.038123,
     "end_time": "2022-08-18T12:18:19.912656",
     "exception": false,
     "start_time": "2022-08-18T12:18:19.874533",
     "status": "completed"
    },
    "tags": []
   },
   "outputs": [],
   "source": [
    "#hide\n",
    "# g.head()"
   ]
  },
  {
   "cell_type": "code",
   "execution_count": 26,
   "id": "specific-kruger",
   "metadata": {
    "execution": {
     "iopub.execute_input": "2022-08-18T12:18:19.972111Z",
     "iopub.status.busy": "2022-08-18T12:18:19.971383Z",
     "iopub.status.idle": "2022-08-18T12:18:19.975232Z",
     "shell.execute_reply": "2022-08-18T12:18:19.974755Z"
    },
    "papermill": {
     "duration": 0.035029,
     "end_time": "2022-08-18T12:18:19.975347",
     "exception": false,
     "start_time": "2022-08-18T12:18:19.940318",
     "status": "completed"
    },
    "tags": []
   },
   "outputs": [],
   "source": [
    "#hide\n",
    "# g.columns = ['date','country','cases']"
   ]
  },
  {
   "cell_type": "code",
   "execution_count": 27,
   "id": "tender-conversion",
   "metadata": {
    "execution": {
     "iopub.execute_input": "2022-08-18T12:18:20.042071Z",
     "iopub.status.busy": "2022-08-18T12:18:20.041354Z",
     "iopub.status.idle": "2022-08-18T12:18:20.043080Z",
     "shell.execute_reply": "2022-08-18T12:18:20.043703Z"
    },
    "papermill": {
     "duration": 0.03743,
     "end_time": "2022-08-18T12:18:20.043858",
     "exception": false,
     "start_time": "2022-08-18T12:18:20.006428",
     "status": "completed"
    },
    "tags": []
   },
   "outputs": [],
   "source": [
    "#hide\n",
    "# g['continent'] = g.country"
   ]
  },
  {
   "cell_type": "code",
   "execution_count": 28,
   "id": "substantial-wilderness",
   "metadata": {
    "execution": {
     "iopub.execute_input": "2022-08-18T12:18:20.104249Z",
     "iopub.status.busy": "2022-08-18T12:18:20.103488Z",
     "iopub.status.idle": "2022-08-18T12:18:20.105091Z",
     "shell.execute_reply": "2022-08-18T12:18:20.105733Z"
    },
    "papermill": {
     "duration": 0.033746,
     "end_time": "2022-08-18T12:18:20.105886",
     "exception": false,
     "start_time": "2022-08-18T12:18:20.072140",
     "status": "completed"
    },
    "tags": []
   },
   "outputs": [],
   "source": [
    "#hide\n",
    "# cols = list(g.columns.values)"
   ]
  },
  {
   "cell_type": "code",
   "execution_count": 29,
   "id": "solved-farming",
   "metadata": {
    "execution": {
     "iopub.execute_input": "2022-08-18T12:18:20.172797Z",
     "iopub.status.busy": "2022-08-18T12:18:20.172061Z",
     "iopub.status.idle": "2022-08-18T12:18:20.175500Z",
     "shell.execute_reply": "2022-08-18T12:18:20.174946Z"
    },
    "papermill": {
     "duration": 0.038376,
     "end_time": "2022-08-18T12:18:20.175631",
     "exception": false,
     "start_time": "2022-08-18T12:18:20.137255",
     "status": "completed"
    },
    "tags": []
   },
   "outputs": [],
   "source": [
    "#hide\n",
    "# cols.insert(0, cols.pop())"
   ]
  },
  {
   "cell_type": "code",
   "execution_count": 30,
   "id": "executed-adoption",
   "metadata": {
    "execution": {
     "iopub.execute_input": "2022-08-18T12:18:20.236615Z",
     "iopub.status.busy": "2022-08-18T12:18:20.235849Z",
     "iopub.status.idle": "2022-08-18T12:18:20.239387Z",
     "shell.execute_reply": "2022-08-18T12:18:20.238719Z"
    },
    "papermill": {
     "duration": 0.035141,
     "end_time": "2022-08-18T12:18:20.239517",
     "exception": false,
     "start_time": "2022-08-18T12:18:20.204376",
     "status": "completed"
    },
    "tags": []
   },
   "outputs": [],
   "source": [
    "#hide\n",
    "# g = g[cols]"
   ]
  },
  {
   "cell_type": "code",
   "execution_count": 31,
   "id": "subject-dublin",
   "metadata": {
    "execution": {
     "iopub.execute_input": "2022-08-18T12:18:20.306365Z",
     "iopub.status.busy": "2022-08-18T12:18:20.305636Z",
     "iopub.status.idle": "2022-08-18T12:18:20.307432Z",
     "shell.execute_reply": "2022-08-18T12:18:20.307983Z"
    },
    "papermill": {
     "duration": 0.037359,
     "end_time": "2022-08-18T12:18:20.308160",
     "exception": false,
     "start_time": "2022-08-18T12:18:20.270801",
     "status": "completed"
    },
    "tags": []
   },
   "outputs": [],
   "source": [
    "#hide\n",
    "# g['continent'] = g['continent'].map(mapping['map.continent'])"
   ]
  },
  {
   "cell_type": "code",
   "execution_count": 32,
   "id": "freelance-scout",
   "metadata": {
    "execution": {
     "iopub.execute_input": "2022-08-18T12:18:20.368924Z",
     "iopub.status.busy": "2022-08-18T12:18:20.368197Z",
     "iopub.status.idle": "2022-08-18T12:18:20.369668Z",
     "shell.execute_reply": "2022-08-18T12:18:20.370311Z"
    },
    "papermill": {
     "duration": 0.033718,
     "end_time": "2022-08-18T12:18:20.370464",
     "exception": false,
     "start_time": "2022-08-18T12:18:20.336746",
     "status": "completed"
    },
    "tags": []
   },
   "outputs": [],
   "source": [
    "#hide\n",
    "# g.head()"
   ]
  },
  {
   "cell_type": "code",
   "execution_count": 33,
   "id": "limited-engine",
   "metadata": {
    "execution": {
     "iopub.execute_input": "2022-08-18T12:18:20.437283Z",
     "iopub.status.busy": "2022-08-18T12:18:20.436680Z",
     "iopub.status.idle": "2022-08-18T12:18:20.439244Z",
     "shell.execute_reply": "2022-08-18T12:18:20.438785Z"
    },
    "papermill": {
     "duration": 0.037175,
     "end_time": "2022-08-18T12:18:20.439352",
     "exception": false,
     "start_time": "2022-08-18T12:18:20.402177",
     "status": "completed"
    },
    "tags": []
   },
   "outputs": [],
   "source": [
    "# hide\n",
    "# g['date'] = g['date'].astype('datetime64[ns]')"
   ]
  },
  {
   "cell_type": "code",
   "execution_count": 34,
   "id": "sophisticated-supervisor",
   "metadata": {
    "execution": {
     "iopub.execute_input": "2022-08-18T12:18:20.499517Z",
     "iopub.status.busy": "2022-08-18T12:18:20.498807Z",
     "iopub.status.idle": "2022-08-18T12:18:20.502475Z",
     "shell.execute_reply": "2022-08-18T12:18:20.502998Z"
    },
    "papermill": {
     "duration": 0.035521,
     "end_time": "2022-08-18T12:18:20.503145",
     "exception": false,
     "start_time": "2022-08-18T12:18:20.467624",
     "status": "completed"
    },
    "tags": []
   },
   "outputs": [],
   "source": [
    "#hide\n",
    "# g['date'] = g.date.dt.dayofyear"
   ]
  },
  {
   "cell_type": "code",
   "execution_count": 35,
   "id": "inside-dubai",
   "metadata": {
    "execution": {
     "iopub.execute_input": "2022-08-18T12:18:20.570029Z",
     "iopub.status.busy": "2022-08-18T12:18:20.569465Z",
     "iopub.status.idle": "2022-08-18T12:18:20.572040Z",
     "shell.execute_reply": "2022-08-18T12:18:20.571584Z"
    },
    "papermill": {
     "duration": 0.03731,
     "end_time": "2022-08-18T12:18:20.572154",
     "exception": false,
     "start_time": "2022-08-18T12:18:20.534844",
     "status": "completed"
    },
    "tags": []
   },
   "outputs": [],
   "source": [
    "#hide\n",
    "# g = g.rename(columns= {'continent':'group','country':'name','cases':'value'})"
   ]
  },
  {
   "cell_type": "code",
   "execution_count": 36,
   "id": "fleet-motorcycle",
   "metadata": {
    "execution": {
     "iopub.execute_input": "2022-08-18T12:18:20.633103Z",
     "iopub.status.busy": "2022-08-18T12:18:20.632562Z",
     "iopub.status.idle": "2022-08-18T12:18:20.634612Z",
     "shell.execute_reply": "2022-08-18T12:18:20.635117Z"
    },
    "papermill": {
     "duration": 0.035213,
     "end_time": "2022-08-18T12:18:20.635244",
     "exception": false,
     "start_time": "2022-08-18T12:18:20.600031",
     "status": "completed"
    },
    "tags": []
   },
   "outputs": [],
   "source": [
    "#hide\n",
    "# cols = ['name','group','day','value']"
   ]
  },
  {
   "cell_type": "code",
   "execution_count": 37,
   "id": "continued-sleeping",
   "metadata": {
    "execution": {
     "iopub.execute_input": "2022-08-18T12:18:20.694691Z",
     "iopub.status.busy": "2022-08-18T12:18:20.693992Z",
     "iopub.status.idle": "2022-08-18T12:18:20.695495Z",
     "shell.execute_reply": "2022-08-18T12:18:20.696176Z"
    },
    "papermill": {
     "duration": 0.033589,
     "end_time": "2022-08-18T12:18:20.696331",
     "exception": false,
     "start_time": "2022-08-18T12:18:20.662742",
     "status": "completed"
    },
    "tags": []
   },
   "outputs": [],
   "source": [
    "#hide\n",
    "# g.rename(columns= {'date':'day'},inplace = True)"
   ]
  },
  {
   "cell_type": "code",
   "execution_count": 38,
   "id": "major-fight",
   "metadata": {
    "execution": {
     "iopub.execute_input": "2022-08-18T12:18:20.763694Z",
     "iopub.status.busy": "2022-08-18T12:18:20.763101Z",
     "iopub.status.idle": "2022-08-18T12:18:20.765017Z",
     "shell.execute_reply": "2022-08-18T12:18:20.765411Z"
    },
    "papermill": {
     "duration": 0.037289,
     "end_time": "2022-08-18T12:18:20.765542",
     "exception": false,
     "start_time": "2022-08-18T12:18:20.728253",
     "status": "completed"
    },
    "tags": []
   },
   "outputs": [],
   "source": [
    "#hide\n",
    "# g = g[cols]"
   ]
  },
  {
   "cell_type": "code",
   "execution_count": 39,
   "id": "structured-mobile",
   "metadata": {
    "execution": {
     "iopub.execute_input": "2022-08-18T12:18:20.824980Z",
     "iopub.status.busy": "2022-08-18T12:18:20.824332Z",
     "iopub.status.idle": "2022-08-18T12:18:20.825870Z",
     "shell.execute_reply": "2022-08-18T12:18:20.826351Z"
    },
    "papermill": {
     "duration": 0.033489,
     "end_time": "2022-08-18T12:18:20.826490",
     "exception": false,
     "start_time": "2022-08-18T12:18:20.793001",
     "status": "completed"
    },
    "tags": []
   },
   "outputs": [],
   "source": [
    "# #hide\n",
    "# g = g[g.group.notna()]"
   ]
  },
  {
   "cell_type": "code",
   "execution_count": 40,
   "id": "determined-closing",
   "metadata": {
    "execution": {
     "iopub.execute_input": "2022-08-18T12:18:20.893523Z",
     "iopub.status.busy": "2022-08-18T12:18:20.892809Z",
     "iopub.status.idle": "2022-08-18T12:18:20.894584Z",
     "shell.execute_reply": "2022-08-18T12:18:20.895138Z"
    },
    "papermill": {
     "duration": 0.037345,
     "end_time": "2022-08-18T12:18:20.895285",
     "exception": false,
     "start_time": "2022-08-18T12:18:20.857940",
     "status": "completed"
    },
    "tags": []
   },
   "outputs": [],
   "source": [
    "# #hide\n",
    "# colors = dict(zip(\n",
    "#     [\"Oceania\", \"Europe\", \"Asia\", \"South America\", \"Middle East\", \"North America\", \"Africa\"],\n",
    "#     [\"#adb0ff\", \"#ffb3ff\", \"#90d595\", \"#e48381\", \"#aafbff\", \"#f7bb5f\", \"#eafb50\"]\n",
    "# ))\n",
    "# group_lk = g.set_index('name')['group'].to_dict()"
   ]
  },
  {
   "cell_type": "code",
   "execution_count": null,
   "id": "gross-drinking",
   "metadata": {
    "papermill": {
     "duration": 0.027442,
     "end_time": "2022-08-18T12:18:20.950976",
     "exception": false,
     "start_time": "2022-08-18T12:18:20.923534",
     "status": "completed"
    },
    "tags": []
   },
   "outputs": [],
   "source": []
  },
  {
   "cell_type": "code",
   "execution_count": 41,
   "id": "subject-macintosh",
   "metadata": {
    "execution": {
     "iopub.execute_input": "2022-08-18T12:18:21.010760Z",
     "iopub.status.busy": "2022-08-18T12:18:21.010202Z",
     "iopub.status.idle": "2022-08-18T12:18:21.012461Z",
     "shell.execute_reply": "2022-08-18T12:18:21.012990Z"
    },
    "papermill": {
     "duration": 0.034589,
     "end_time": "2022-08-18T12:18:21.013113",
     "exception": false,
     "start_time": "2022-08-18T12:18:20.978524",
     "status": "completed"
    },
    "tags": []
   },
   "outputs": [],
   "source": [
    "# #hide\n",
    "# fig, ax = plt.subplots(figsize=(15, 8))\n",
    "\n",
    "# def draw_barchart(current_day):\n",
    "#     dff = g[g['day'].eq(current_day)].sort_values(by='value', ascending=True).tail(10)\n",
    "#     ax.clear()\n",
    "#     ax.barh(dff['name'], dff['value'], color=[colors[group_lk[x]] for x in dff['name']])\n",
    "#     dx = dff['value'].max() / 200\n",
    "    \n",
    "#     for i, (value, name) in enumerate(zip(dff['value'], dff['name'])):\n",
    "#         ax.text(value-dx, i,     name,           size=14, weight=600, ha='right', va='bottom')\n",
    "#         ax.text(value-dx, i-.25, group_lk[name], size=10, color='#444444', ha='right', va='baseline')\n",
    "#         ax.text(value+dx, i,     f'{value:,.0f}',  size=14, ha='left',  va='center')\n",
    "#     ax.text(1, 0.4, current_day, transform=ax.transAxes, color='#777777', size=46, ha='right', weight=800)\n",
    "#     ax.text(0, 1.06, 'Population (thousands)', transform=ax.transAxes, size=12, color='#777777')\n",
    "#     ax.xaxis.set_major_formatter(ticker.StrMethodFormatter('{x:,.0f}'))\n",
    "#     ax.xaxis.set_ticks_position('top')\n",
    "#     ax.tick_params(axis='x', colors='#777777', labelsize=12)\n",
    "#     ax.set_yticks([])\n",
    "#     ax.margins(0, 0.01)\n",
    "#     ax.grid(which='major', axis='x', linestyle='-')\n",
    "#     ax.set_axisbelow(True)\n",
    "    \n",
    "#     ax.text(0, 1.15, 'Coronavirus',\n",
    "#             transform=ax.transAxes, size=24, weight=600, ha='left', va='top')\n",
    "# #     ax.text(1, 0, 'by @pratapvardhan; credit @jburnmurdoch', transform=ax.transAxes, color='#777777', ha='right',\n",
    "# #             bbox=dict(facecolor='white', alpha=0.8, edgecolor='white'))\n",
    "#     plt.box(False)"
   ]
  },
  {
   "cell_type": "code",
   "execution_count": 42,
   "id": "sexual-wages",
   "metadata": {
    "execution": {
     "iopub.execute_input": "2022-08-18T12:18:21.072908Z",
     "iopub.status.busy": "2022-08-18T12:18:21.072262Z",
     "iopub.status.idle": "2022-08-18T12:18:21.075504Z",
     "shell.execute_reply": "2022-08-18T12:18:21.075010Z"
    },
    "papermill": {
     "duration": 0.034814,
     "end_time": "2022-08-18T12:18:21.075626",
     "exception": false,
     "start_time": "2022-08-18T12:18:21.040812",
     "status": "completed"
    },
    "tags": []
   },
   "outputs": [],
   "source": [
    "# #hide_input\n",
    "# fig, ax = plt.subplots(figsize=(15, 8))\n",
    "# animator = animation.FuncAnimation(fig, draw_barchart, frames=range(g.day.values.min(), g.day.values.max()))\n",
    "# HTML(animator.to_jshtml())\n",
    "# # or use animator.to_html5_video() or animator.save() "
   ]
  },
  {
   "cell_type": "code",
   "execution_count": null,
   "id": "australian-container",
   "metadata": {
    "papermill": {
     "duration": 0.031389,
     "end_time": "2022-08-18T12:18:21.138336",
     "exception": false,
     "start_time": "2022-08-18T12:18:21.106947",
     "status": "completed"
    },
    "tags": []
   },
   "outputs": [],
   "source": []
  },
  {
   "cell_type": "code",
   "execution_count": null,
   "id": "mediterranean-pontiac",
   "metadata": {
    "papermill": {
     "duration": 0.031217,
     "end_time": "2022-08-18T12:18:21.200673",
     "exception": false,
     "start_time": "2022-08-18T12:18:21.169456",
     "status": "completed"
    },
    "tags": []
   },
   "outputs": [],
   "source": []
  },
  {
   "cell_type": "code",
   "execution_count": null,
   "id": "aging-legislature",
   "metadata": {
    "papermill": {
     "duration": 0.032743,
     "end_time": "2022-08-18T12:18:21.264687",
     "exception": false,
     "start_time": "2022-08-18T12:18:21.231944",
     "status": "completed"
    },
    "tags": []
   },
   "outputs": [],
   "source": []
  }
 ],
 "metadata": {
  "kernelspec": {
   "display_name": "Python 3",
   "language": "python",
   "name": "python3"
  },
  "language_info": {
   "codemirror_mode": {
    "name": "ipython",
    "version": 3
   },
   "file_extension": ".py",
   "mimetype": "text/x-python",
   "name": "python",
   "nbconvert_exporter": "python",
   "pygments_lexer": "ipython3",
   "version": "3.6.15"
  },
  "papermill": {
   "duration": 6.17091,
   "end_time": "2022-08-18T12:18:21.754952",
   "environment_variables": {},
   "exception": null,
   "input_path": "2020-03-21-covid19exp.ipynb",
   "output_path": "2020-03-21-covid19exp.ipynb",
   "parameters": {},
   "start_time": "2022-08-18T12:18:15.584042",
   "version": "2.0.0"
  }
 },
 "nbformat": 4,
 "nbformat_minor": 5
}