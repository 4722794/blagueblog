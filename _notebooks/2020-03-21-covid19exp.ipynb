{
 "cells": [
  {
   "cell_type": "markdown",
   "id": "muslim-click",
   "metadata": {
    "papermill": {
     "duration": 0.035272,
     "end_time": "2022-07-21T12:16:41.908653",
     "exception": false,
     "start_time": "2022-07-21T12:16:41.873381",
     "status": "completed"
    },
    "tags": []
   },
   "source": [
    "# COVID-19 Case Race\n",
    "> A race chart to see rising cases around the world\n",
    "\n",
    "- author: Hargun Oberoi\n",
    "- image: images/covid-overview.png\n",
    "- hide: false\n",
    "- badges: false"
   ]
  },
  {
   "cell_type": "code",
   "execution_count": 1,
   "id": "proof-material",
   "metadata": {
    "execution": {
     "iopub.execute_input": "2022-07-21T12:16:41.979385Z",
     "iopub.status.busy": "2022-07-21T12:16:41.978739Z",
     "iopub.status.idle": "2022-07-21T12:16:42.309574Z",
     "shell.execute_reply": "2022-07-21T12:16:42.309027Z"
    },
    "papermill": {
     "duration": 0.37053,
     "end_time": "2022-07-21T12:16:42.309705",
     "exception": false,
     "start_time": "2022-07-21T12:16:41.939175",
     "status": "completed"
    },
    "tags": []
   },
   "outputs": [],
   "source": [
    "#hide\n",
    "import numpy as np\n",
    "import pandas as pd\n",
    "from jinja2 import Template\n",
    "from IPython.display import HTML"
   ]
  },
  {
   "cell_type": "code",
   "execution_count": 2,
   "id": "developed-terminology",
   "metadata": {
    "execution": {
     "iopub.execute_input": "2022-07-21T12:16:42.375130Z",
     "iopub.status.busy": "2022-07-21T12:16:42.374542Z",
     "iopub.status.idle": "2022-07-21T12:16:42.376977Z",
     "shell.execute_reply": "2022-07-21T12:16:42.376436Z"
    },
    "papermill": {
     "duration": 0.036733,
     "end_time": "2022-07-21T12:16:42.377085",
     "exception": false,
     "start_time": "2022-07-21T12:16:42.340352",
     "status": "completed"
    },
    "tags": []
   },
   "outputs": [],
   "source": [
    "#hide\n",
    "\n",
    "# FETCH\n",
    "base_url = 'https://raw.githubusercontent.com/pratapvardhan/notebooks/master/covid19/'\n",
    "paths = {\n",
    "    'mapping': base_url + 'mapping_countries.csv',\n",
    "    'overview': base_url + 'overview.tpl'\n",
    "}"
   ]
  },
  {
   "cell_type": "code",
   "execution_count": 3,
   "id": "dynamic-saver",
   "metadata": {
    "execution": {
     "iopub.execute_input": "2022-07-21T12:16:42.446186Z",
     "iopub.status.busy": "2022-07-21T12:16:42.445596Z",
     "iopub.status.idle": "2022-07-21T12:16:42.448886Z",
     "shell.execute_reply": "2022-07-21T12:16:42.448456Z"
    },
    "papermill": {
     "duration": 0.042171,
     "end_time": "2022-07-21T12:16:42.449003",
     "exception": false,
     "start_time": "2022-07-21T12:16:42.406832",
     "status": "completed"
    },
    "tags": []
   },
   "outputs": [
    {
     "data": {
      "text/plain": [
       "'https://raw.githubusercontent.com/pratapvardhan/notebooks/master/covid19/mapping_countries.csv'"
      ]
     },
     "execution_count": 3,
     "metadata": {},
     "output_type": "execute_result"
    }
   ],
   "source": [
    "#hide\n",
    "paths['mapping']"
   ]
  },
  {
   "cell_type": "code",
   "execution_count": 4,
   "id": "urban-software",
   "metadata": {
    "execution": {
     "iopub.execute_input": "2022-07-21T12:16:42.514816Z",
     "iopub.status.busy": "2022-07-21T12:16:42.514179Z",
     "iopub.status.idle": "2022-07-21T12:16:42.516710Z",
     "shell.execute_reply": "2022-07-21T12:16:42.516143Z"
    },
    "papermill": {
     "duration": 0.037329,
     "end_time": "2022-07-21T12:16:42.516823",
     "exception": false,
     "start_time": "2022-07-21T12:16:42.479494",
     "status": "completed"
    },
    "tags": []
   },
   "outputs": [],
   "source": [
    "#hide\n",
    "def get_mappings(url):\n",
    "    df = pd.read_csv(url)\n",
    "    return {\n",
    "        'df': df,\n",
    "        'replace.country': dict(df.dropna(subset=['Name']).set_index('Country')['Name']),\n",
    "        'map.continent': dict(df.set_index('Name')['Continent'])\n",
    "    }"
   ]
  },
  {
   "cell_type": "code",
   "execution_count": 5,
   "id": "intimate-machinery",
   "metadata": {
    "execution": {
     "iopub.execute_input": "2022-07-21T12:16:42.582364Z",
     "iopub.status.busy": "2022-07-21T12:16:42.581784Z",
     "iopub.status.idle": "2022-07-21T12:16:42.622502Z",
     "shell.execute_reply": "2022-07-21T12:16:42.621991Z"
    },
    "papermill": {
     "duration": 0.075541,
     "end_time": "2022-07-21T12:16:42.622621",
     "exception": false,
     "start_time": "2022-07-21T12:16:42.547080",
     "status": "completed"
    },
    "tags": []
   },
   "outputs": [],
   "source": [
    "#hide\n",
    "mapping = get_mappings(paths['mapping'])"
   ]
  },
  {
   "cell_type": "code",
   "execution_count": 6,
   "id": "certified-tactics",
   "metadata": {
    "execution": {
     "iopub.execute_input": "2022-07-21T12:16:42.688468Z",
     "iopub.status.busy": "2022-07-21T12:16:42.687877Z",
     "iopub.status.idle": "2022-07-21T12:16:42.690642Z",
     "shell.execute_reply": "2022-07-21T12:16:42.690201Z"
    },
    "papermill": {
     "duration": 0.037799,
     "end_time": "2022-07-21T12:16:42.690757",
     "exception": false,
     "start_time": "2022-07-21T12:16:42.652958",
     "status": "completed"
    },
    "tags": []
   },
   "outputs": [],
   "source": [
    "#hide\n",
    "def get_template(path):\n",
    "    from urllib.parse import urlparse\n",
    "    if bool(urlparse(path).netloc):\n",
    "        from urllib.request import urlopen\n",
    "        return urlopen(path).read().decode('utf8')\n",
    "    return open(path).read()"
   ]
  },
  {
   "cell_type": "code",
   "execution_count": 7,
   "id": "realistic-blast",
   "metadata": {
    "execution": {
     "iopub.execute_input": "2022-07-21T12:16:42.756344Z",
     "iopub.status.busy": "2022-07-21T12:16:42.755697Z",
     "iopub.status.idle": "2022-07-21T12:16:42.758489Z",
     "shell.execute_reply": "2022-07-21T12:16:42.758926Z"
    },
    "papermill": {
     "duration": 0.038165,
     "end_time": "2022-07-21T12:16:42.759058",
     "exception": false,
     "start_time": "2022-07-21T12:16:42.720893",
     "status": "completed"
    },
    "tags": []
   },
   "outputs": [],
   "source": [
    "#hide\n",
    "def get_frame(name):\n",
    "    url = (\n",
    "        'https://raw.githubusercontent.com/CSSEGISandData/COVID-19/master/csse_covid_19_data/'\n",
    "        f'csse_covid_19_time_series/time_series_covid19_{name}_global.csv')\n",
    "    df = pd.read_csv(url)\n",
    "    # rename countries\n",
    "    df['Country/Region'] = df['Country/Region'].replace(mapping['replace.country'])\n",
    "    return df"
   ]
  },
  {
   "cell_type": "code",
   "execution_count": 8,
   "id": "affiliated-characterization",
   "metadata": {
    "execution": {
     "iopub.execute_input": "2022-07-21T12:16:42.825601Z",
     "iopub.status.busy": "2022-07-21T12:16:42.824991Z",
     "iopub.status.idle": "2022-07-21T12:16:42.827545Z",
     "shell.execute_reply": "2022-07-21T12:16:42.827110Z"
    },
    "papermill": {
     "duration": 0.038487,
     "end_time": "2022-07-21T12:16:42.827658",
     "exception": false,
     "start_time": "2022-07-21T12:16:42.789171",
     "status": "completed"
    },
    "tags": []
   },
   "outputs": [],
   "source": [
    "#hide\n",
    "def get_dates(df):\n",
    "    dt_cols = df.columns[~df.columns.isin(['Province/State', 'Country/Region', 'Lat', 'Long'])]\n",
    "    LAST_DATE_I = -1\n",
    "    # sometimes last column may be empty, then go backwards\n",
    "    for i in range(-1, -len(dt_cols), -1):\n",
    "        if not df[dt_cols[i]].fillna(0).eq(0).all():\n",
    "            LAST_DATE_I = i\n",
    "            break\n",
    "    return LAST_DATE_I, dt_cols"
   ]
  },
  {
   "cell_type": "code",
   "execution_count": 9,
   "id": "recent-optimization",
   "metadata": {
    "execution": {
     "iopub.execute_input": "2022-07-21T12:16:42.893234Z",
     "iopub.status.busy": "2022-07-21T12:16:42.892643Z",
     "iopub.status.idle": "2022-07-21T12:16:43.346492Z",
     "shell.execute_reply": "2022-07-21T12:16:43.346957Z"
    },
    "papermill": {
     "duration": 0.489292,
     "end_time": "2022-07-21T12:16:43.347103",
     "exception": false,
     "start_time": "2022-07-21T12:16:42.857811",
     "status": "completed"
    },
    "tags": []
   },
   "outputs": [],
   "source": [
    "#hide\n",
    "COL_REGION = 'Country/Region'\n",
    "# Confirmed, Recovered, Deaths\n",
    "df = get_frame('confirmed')\n",
    "# dft_: timeseries, dfc_: today country agg\n",
    "dft_cases = df\n",
    "dft_deaths = get_frame('deaths')\n",
    "dft_recovered = get_frame('recovered')\n",
    "LAST_DATE_I, dt_cols = get_dates(df)"
   ]
  },
  {
   "cell_type": "code",
   "execution_count": 10,
   "id": "absolute-copper",
   "metadata": {
    "execution": {
     "iopub.execute_input": "2022-07-21T12:16:43.411121Z",
     "iopub.status.busy": "2022-07-21T12:16:43.410544Z",
     "iopub.status.idle": "2022-07-21T12:16:43.415210Z",
     "shell.execute_reply": "2022-07-21T12:16:43.414659Z"
    },
    "papermill": {
     "duration": 0.037899,
     "end_time": "2022-07-21T12:16:43.415320",
     "exception": false,
     "start_time": "2022-07-21T12:16:43.377421",
     "status": "completed"
    },
    "tags": []
   },
   "outputs": [],
   "source": [
    "#hide\n",
    "LAST_DATE_I, dt_cols = get_dates(df)\n",
    "dt_today =dt_cols[LAST_DATE_I]\n",
    "# dt_5day = dt_cols[LAST_DATE_I - 5]\n",
    "dt_yday = dt_cols[LAST_DATE_I - 1]"
   ]
  },
  {
   "cell_type": "code",
   "execution_count": 11,
   "id": "restricted-sheriff",
   "metadata": {
    "execution": {
     "iopub.execute_input": "2022-07-21T12:16:43.482613Z",
     "iopub.status.busy": "2022-07-21T12:16:43.482027Z",
     "iopub.status.idle": "2022-07-21T12:16:43.487919Z",
     "shell.execute_reply": "2022-07-21T12:16:43.488393Z"
    },
    "papermill": {
     "duration": 0.043116,
     "end_time": "2022-07-21T12:16:43.488526",
     "exception": false,
     "start_time": "2022-07-21T12:16:43.445410",
     "status": "completed"
    },
    "tags": []
   },
   "outputs": [],
   "source": [
    "#hide\n",
    "dfc_cases = dft_cases.groupby(COL_REGION)[dt_today].sum()\n",
    "dfc_deaths = dft_deaths.groupby(COL_REGION)[dt_today].sum()\n",
    "# dfp_cases = dft_cases.groupby(COL_REGION)[dt_5day].sum()\n",
    "# dfp_deaths = dft_deaths.groupby(COL_REGION)[dt_5day].sum()\n",
    "dfp_cases = dft_cases.groupby(COL_REGION)[dt_yday].sum()\n",
    "dfp_deaths = dft_deaths.groupby(COL_REGION)[dt_yday].sum()"
   ]
  },
  {
   "cell_type": "code",
   "execution_count": 12,
   "id": "deluxe-hepatitis",
   "metadata": {
    "execution": {
     "iopub.execute_input": "2022-07-21T12:16:43.554821Z",
     "iopub.status.busy": "2022-07-21T12:16:43.554246Z",
     "iopub.status.idle": "2022-07-21T12:16:43.559082Z",
     "shell.execute_reply": "2022-07-21T12:16:43.558625Z"
    },
    "papermill": {
     "duration": 0.040554,
     "end_time": "2022-07-21T12:16:43.559191",
     "exception": false,
     "start_time": "2022-07-21T12:16:43.518637",
     "status": "completed"
    },
    "tags": []
   },
   "outputs": [],
   "source": [
    "#hide\n",
    "df_table = (pd.DataFrame(dict(Cases = dfc_cases, Deaths = dfc_deaths, PCases = dfp_cases, PDeaths = dfp_deaths))\n",
    "            .sort_values(by = ['Cases','Deaths'], ascending = [False, False])\n",
    "            .reset_index())"
   ]
  },
  {
   "cell_type": "code",
   "execution_count": 13,
   "id": "educational-chancellor",
   "metadata": {
    "execution": {
     "iopub.execute_input": "2022-07-21T12:16:43.632257Z",
     "iopub.status.busy": "2022-07-21T12:16:43.631635Z",
     "iopub.status.idle": "2022-07-21T12:16:43.644141Z",
     "shell.execute_reply": "2022-07-21T12:16:43.643649Z"
    },
    "papermill": {
     "duration": 0.055061,
     "end_time": "2022-07-21T12:16:43.644255",
     "exception": false,
     "start_time": "2022-07-21T12:16:43.589194",
     "status": "completed"
    },
    "tags": []
   },
   "outputs": [
    {
     "data": {
      "text/html": [
       "<div>\n",
       "<style scoped>\n",
       "    .dataframe tbody tr th:only-of-type {\n",
       "        vertical-align: middle;\n",
       "    }\n",
       "\n",
       "    .dataframe tbody tr th {\n",
       "        vertical-align: top;\n",
       "    }\n",
       "\n",
       "    .dataframe thead th {\n",
       "        text-align: right;\n",
       "    }\n",
       "</style>\n",
       "<table border=\"1\" class=\"dataframe\">\n",
       "  <thead>\n",
       "    <tr style=\"text-align: right;\">\n",
       "      <th></th>\n",
       "      <th>Country/Region</th>\n",
       "      <th>Cases</th>\n",
       "      <th>Deaths</th>\n",
       "      <th>PCases</th>\n",
       "      <th>PDeaths</th>\n",
       "      <th>Cases (+)</th>\n",
       "      <th>Deaths (+)</th>\n",
       "      <th>Fatality Rate</th>\n",
       "      <th>Continent</th>\n",
       "    </tr>\n",
       "  </thead>\n",
       "  <tbody>\n",
       "    <tr>\n",
       "      <th>0</th>\n",
       "      <td>US</td>\n",
       "      <td>90046834</td>\n",
       "      <td>1025741</td>\n",
       "      <td>89830640</td>\n",
       "      <td>1024858</td>\n",
       "      <td>216194</td>\n",
       "      <td>883</td>\n",
       "      <td>1.14</td>\n",
       "      <td>North America</td>\n",
       "    </tr>\n",
       "    <tr>\n",
       "      <th>1</th>\n",
       "      <td>India</td>\n",
       "      <td>43824728</td>\n",
       "      <td>528433</td>\n",
       "      <td>43801678</td>\n",
       "      <td>525821</td>\n",
       "      <td>23050</td>\n",
       "      <td>2612</td>\n",
       "      <td>1.21</td>\n",
       "      <td>Asia</td>\n",
       "    </tr>\n",
       "    <tr>\n",
       "      <th>2</th>\n",
       "      <td>France</td>\n",
       "      <td>33465759</td>\n",
       "      <td>152144</td>\n",
       "      <td>33375449</td>\n",
       "      <td>152019</td>\n",
       "      <td>90310</td>\n",
       "      <td>125</td>\n",
       "      <td>0.45</td>\n",
       "      <td>Europe</td>\n",
       "    </tr>\n",
       "    <tr>\n",
       "      <th>3</th>\n",
       "      <td>Brazil</td>\n",
       "      <td>33454294</td>\n",
       "      <td>676217</td>\n",
       "      <td>33397814</td>\n",
       "      <td>675871</td>\n",
       "      <td>56480</td>\n",
       "      <td>346</td>\n",
       "      <td>2.02</td>\n",
       "      <td>South America</td>\n",
       "    </tr>\n",
       "    <tr>\n",
       "      <th>4</th>\n",
       "      <td>Germany</td>\n",
       "      <td>30131303</td>\n",
       "      <td>142948</td>\n",
       "      <td>29994679</td>\n",
       "      <td>142771</td>\n",
       "      <td>136624</td>\n",
       "      <td>177</td>\n",
       "      <td>0.47</td>\n",
       "      <td>Europe</td>\n",
       "    </tr>\n",
       "  </tbody>\n",
       "</table>\n",
       "</div>"
      ],
      "text/plain": [
       "  Country/Region     Cases   Deaths    PCases  PDeaths  Cases (+)  Deaths (+)  \\\n",
       "0             US  90046834  1025741  89830640  1024858     216194         883   \n",
       "1          India  43824728   528433  43801678   525821      23050        2612   \n",
       "2         France  33465759   152144  33375449   152019      90310         125   \n",
       "3         Brazil  33454294   676217  33397814   675871      56480         346   \n",
       "4        Germany  30131303   142948  29994679   142771     136624         177   \n",
       "\n",
       "   Fatality Rate      Continent  \n",
       "0           1.14  North America  \n",
       "1           1.21           Asia  \n",
       "2           0.45         Europe  \n",
       "3           2.02  South America  \n",
       "4           0.47         Europe  "
      ]
     },
     "execution_count": 13,
     "metadata": {},
     "output_type": "execute_result"
    }
   ],
   "source": [
    "#hide\n",
    "for c in 'Cases, Deaths'.split(', '):\n",
    "    df_table[f'{c} (+)'] = (df_table[c] - df_table[f'P{c}']).clip(0)\n",
    "    #Clip ça veut dire, les chiffres negatif sont interdit\n",
    "df_table['Fatality Rate'] = (100* df_table['Deaths']/ df_table['Cases']).round(2)\n",
    "df_table['Continent'] = df_table['Country/Region'].map(mapping['map.continent'])\n",
    "df_table.head(5)"
   ]
  },
  {
   "cell_type": "code",
   "execution_count": 14,
   "id": "aboriginal-bulgaria",
   "metadata": {
    "execution": {
     "iopub.execute_input": "2022-07-21T12:16:43.711634Z",
     "iopub.status.busy": "2022-07-21T12:16:43.711005Z",
     "iopub.status.idle": "2022-07-21T12:16:43.714515Z",
     "shell.execute_reply": "2022-07-21T12:16:43.714952Z"
    },
    "papermill": {
     "duration": 0.040169,
     "end_time": "2022-07-21T12:16:43.715086",
     "exception": false,
     "start_time": "2022-07-21T12:16:43.674917",
     "status": "completed"
    },
    "tags": []
   },
   "outputs": [],
   "source": [
    "#hide\n",
    "#delete problematic countries from table\n",
    "df_table = df_table[~df_table['Country/Region'].isin(['Cape Verde', 'Cruise Ship', 'Kosovo'])]"
   ]
  },
  {
   "cell_type": "code",
   "execution_count": 15,
   "id": "fantastic-effect",
   "metadata": {
    "execution": {
     "iopub.execute_input": "2022-07-21T12:16:43.783936Z",
     "iopub.status.busy": "2022-07-21T12:16:43.783315Z",
     "iopub.status.idle": "2022-07-21T12:16:43.800949Z",
     "shell.execute_reply": "2022-07-21T12:16:43.800499Z"
    },
    "papermill": {
     "duration": 0.055474,
     "end_time": "2022-07-21T12:16:43.801065",
     "exception": false,
     "start_time": "2022-07-21T12:16:43.745591",
     "status": "completed"
    },
    "tags": []
   },
   "outputs": [
    {
     "data": {
      "text/html": [
       "<div>\n",
       "<style scoped>\n",
       "    .dataframe tbody tr th:only-of-type {\n",
       "        vertical-align: middle;\n",
       "    }\n",
       "\n",
       "    .dataframe tbody tr th {\n",
       "        vertical-align: top;\n",
       "    }\n",
       "\n",
       "    .dataframe thead th {\n",
       "        text-align: right;\n",
       "    }\n",
       "</style>\n",
       "<table border=\"1\" class=\"dataframe\">\n",
       "  <thead>\n",
       "    <tr style=\"text-align: right;\">\n",
       "      <th></th>\n",
       "      <th>Country/Region</th>\n",
       "      <th>Cases</th>\n",
       "      <th>Deaths</th>\n",
       "      <th>PCases</th>\n",
       "      <th>PDeaths</th>\n",
       "      <th>Cases (+)</th>\n",
       "      <th>Deaths (+)</th>\n",
       "      <th>Fatality Rate</th>\n",
       "      <th>Continent</th>\n",
       "    </tr>\n",
       "  </thead>\n",
       "  <tbody>\n",
       "    <tr>\n",
       "      <th>0</th>\n",
       "      <td>US</td>\n",
       "      <td>90046834</td>\n",
       "      <td>1025741</td>\n",
       "      <td>89830640</td>\n",
       "      <td>1024858</td>\n",
       "      <td>216194</td>\n",
       "      <td>883</td>\n",
       "      <td>1.1</td>\n",
       "      <td>North America</td>\n",
       "    </tr>\n",
       "    <tr>\n",
       "      <th>1</th>\n",
       "      <td>India</td>\n",
       "      <td>43824728</td>\n",
       "      <td>528433</td>\n",
       "      <td>43801678</td>\n",
       "      <td>525821</td>\n",
       "      <td>23050</td>\n",
       "      <td>2612</td>\n",
       "      <td>1.2</td>\n",
       "      <td>Asia</td>\n",
       "    </tr>\n",
       "    <tr>\n",
       "      <th>2</th>\n",
       "      <td>France</td>\n",
       "      <td>33465759</td>\n",
       "      <td>152144</td>\n",
       "      <td>33375449</td>\n",
       "      <td>152019</td>\n",
       "      <td>90310</td>\n",
       "      <td>125</td>\n",
       "      <td>0.5</td>\n",
       "      <td>Europe</td>\n",
       "    </tr>\n",
       "    <tr>\n",
       "      <th>3</th>\n",
       "      <td>Brazil</td>\n",
       "      <td>33454294</td>\n",
       "      <td>676217</td>\n",
       "      <td>33397814</td>\n",
       "      <td>675871</td>\n",
       "      <td>56480</td>\n",
       "      <td>346</td>\n",
       "      <td>2.0</td>\n",
       "      <td>South America</td>\n",
       "    </tr>\n",
       "    <tr>\n",
       "      <th>4</th>\n",
       "      <td>Germany</td>\n",
       "      <td>30131303</td>\n",
       "      <td>142948</td>\n",
       "      <td>29994679</td>\n",
       "      <td>142771</td>\n",
       "      <td>136624</td>\n",
       "      <td>177</td>\n",
       "      <td>0.5</td>\n",
       "      <td>Europe</td>\n",
       "    </tr>\n",
       "  </tbody>\n",
       "</table>\n",
       "</div>"
      ],
      "text/plain": [
       "  Country/Region     Cases   Deaths    PCases  PDeaths  Cases (+)  Deaths (+)  \\\n",
       "0             US  90046834  1025741  89830640  1024858     216194         883   \n",
       "1          India  43824728   528433  43801678   525821      23050        2612   \n",
       "2         France  33465759   152144  33375449   152019      90310         125   \n",
       "3         Brazil  33454294   676217  33397814   675871      56480         346   \n",
       "4        Germany  30131303   142948  29994679   142771     136624         177   \n",
       "\n",
       "   Fatality Rate      Continent  \n",
       "0            1.1  North America  \n",
       "1            1.2           Asia  \n",
       "2            0.5         Europe  \n",
       "3            2.0  South America  \n",
       "4            0.5         Europe  "
      ]
     },
     "execution_count": 15,
     "metadata": {},
     "output_type": "execute_result"
    }
   ],
   "source": [
    "#hide\n",
    "df_table = (pd.DataFrame(dict(Cases=dfc_cases, Deaths=dfc_deaths, PCases=dfp_cases, PDeaths=dfp_deaths))\n",
    "             .sort_values(by=['Cases', 'Deaths'], ascending=[False, False])\n",
    "             .reset_index())\n",
    "df_table.rename(columns={'index': 'Country/Region'}, inplace=True)\n",
    "for c in 'Cases, Deaths'.split(', '):\n",
    "    df_table[f'{c} (+)'] = (df_table[c] - df_table[f'P{c}']).clip(0)  # DATA BUG\n",
    "df_table['Fatality Rate'] = (100 * df_table['Deaths'] / df_table['Cases']).round(1)\n",
    "df_table['Continent'] = df_table['Country/Region'].map(mapping['map.continent'])\n",
    "df_table.head(5)"
   ]
  },
  {
   "cell_type": "code",
   "execution_count": 16,
   "id": "fewer-occasion",
   "metadata": {
    "execution": {
     "iopub.execute_input": "2022-07-21T12:16:43.868917Z",
     "iopub.status.busy": "2022-07-21T12:16:43.868309Z",
     "iopub.status.idle": "2022-07-21T12:16:43.870449Z",
     "shell.execute_reply": "2022-07-21T12:16:43.870881Z"
    },
    "papermill": {
     "duration": 0.038674,
     "end_time": "2022-07-21T12:16:43.871006",
     "exception": false,
     "start_time": "2022-07-21T12:16:43.832332",
     "status": "completed"
    },
    "tags": []
   },
   "outputs": [],
   "source": [
    "#hide\n",
    "#delete problematic countries from table\n",
    "df_table = df_table[~df_table['Country/Region'].isin(['Cape Verde', 'Cruise Ship', 'Kosovo'])]"
   ]
  },
  {
   "cell_type": "code",
   "execution_count": 17,
   "id": "related-center",
   "metadata": {
    "execution": {
     "iopub.execute_input": "2022-07-21T12:16:43.950466Z",
     "iopub.status.busy": "2022-07-21T12:16:43.949875Z",
     "iopub.status.idle": "2022-07-21T12:16:43.952259Z",
     "shell.execute_reply": "2022-07-21T12:16:43.952798Z"
    },
    "papermill": {
     "duration": 0.05097,
     "end_time": "2022-07-21T12:16:43.952930",
     "exception": false,
     "start_time": "2022-07-21T12:16:43.901960",
     "status": "completed"
    },
    "tags": []
   },
   "outputs": [],
   "source": [
    "#hide\n",
    "metrics = [df_table.columns[index] for index in [1,2,5,6]]\n",
    "# s_china = df_table[df_table['Country/Region'].eq('China')][metrics].sum().add_prefix('China ')\n",
    "s_us = df_table[df_table['Country/Region'].eq('US')][metrics].sum().add_prefix('US ')\n",
    "s_eu = df_table[df_table['Continent'].eq('Europe')][metrics].sum().add_prefix('EU ')\n",
    "s_ind = df_table[df_table['Country/Region'].eq('India')][metrics].sum().add_prefix('India ')\n",
    "summary = {'updated': pd.to_datetime(dt_today), 'since': pd.to_datetime(dt_yday)}\n",
    "summary = {'updated': pd.to_datetime(dt_today), 'since': pd.to_datetime(dt_yday)}\n",
    "summary = {**summary, **df_table[metrics].sum(), **s_ind, **s_us, **s_eu}"
   ]
  },
  {
   "cell_type": "code",
   "execution_count": 18,
   "id": "engaging-syndrome",
   "metadata": {
    "execution": {
     "iopub.execute_input": "2022-07-21T12:16:44.020685Z",
     "iopub.status.busy": "2022-07-21T12:16:44.020088Z",
     "iopub.status.idle": "2022-07-21T12:16:44.040625Z",
     "shell.execute_reply": "2022-07-21T12:16:44.040103Z"
    },
    "papermill": {
     "duration": 0.056461,
     "end_time": "2022-07-21T12:16:44.040745",
     "exception": false,
     "start_time": "2022-07-21T12:16:43.984284",
     "status": "completed"
    },
    "tags": []
   },
   "outputs": [],
   "source": [
    "#hide\n",
    "dft_ct_new_cases = dft_cases.groupby(COL_REGION)[dt_cols].sum().diff(axis=1).fillna(0).astype(int)"
   ]
  },
  {
   "cell_type": "code",
   "execution_count": 19,
   "id": "neutral-assignment",
   "metadata": {
    "execution": {
     "iopub.execute_input": "2022-07-21T12:16:44.109764Z",
     "iopub.status.busy": "2022-07-21T12:16:44.109170Z",
     "iopub.status.idle": "2022-07-21T12:16:44.111152Z",
     "shell.execute_reply": "2022-07-21T12:16:44.111590Z"
    },
    "papermill": {
     "duration": 0.039168,
     "end_time": "2022-07-21T12:16:44.111718",
     "exception": false,
     "start_time": "2022-07-21T12:16:44.072550",
     "status": "completed"
    },
    "tags": []
   },
   "outputs": [],
   "source": [
    "#hide\n",
    "everydaycases = dft_ct_new_cases.cumsum(axis=1)"
   ]
  },
  {
   "cell_type": "code",
   "execution_count": 20,
   "id": "parliamentary-calgary",
   "metadata": {
    "execution": {
     "iopub.execute_input": "2022-07-21T12:16:44.178813Z",
     "iopub.status.busy": "2022-07-21T12:16:44.178224Z",
     "iopub.status.idle": "2022-07-21T12:16:44.778362Z",
     "shell.execute_reply": "2022-07-21T12:16:44.778846Z"
    },
    "papermill": {
     "duration": 0.636124,
     "end_time": "2022-07-21T12:16:44.778989",
     "exception": false,
     "start_time": "2022-07-21T12:16:44.142865",
     "status": "completed"
    },
    "tags": []
   },
   "outputs": [],
   "source": [
    "#hide\n",
    "import pandas as pd\n",
    "import matplotlib.pyplot as plt\n",
    "import matplotlib.ticker as ticker\n",
    "import matplotlib.animation as animation\n",
    "from IPython.display import HTML"
   ]
  },
  {
   "cell_type": "code",
   "execution_count": 21,
   "id": "lasting-extraction",
   "metadata": {
    "execution": {
     "iopub.execute_input": "2022-07-21T12:16:44.847124Z",
     "iopub.status.busy": "2022-07-21T12:16:44.846542Z",
     "iopub.status.idle": "2022-07-21T12:16:44.852956Z",
     "shell.execute_reply": "2022-07-21T12:16:44.853480Z"
    },
    "papermill": {
     "duration": 0.043668,
     "end_time": "2022-07-21T12:16:44.853616",
     "exception": false,
     "start_time": "2022-07-21T12:16:44.809948",
     "status": "completed"
    },
    "tags": []
   },
   "outputs": [],
   "source": [
    "#hide\n",
    "t = everydaycases.stack()"
   ]
  },
  {
   "cell_type": "code",
   "execution_count": 22,
   "id": "premier-sleeve",
   "metadata": {
    "execution": {
     "iopub.execute_input": "2022-07-21T12:16:44.920053Z",
     "iopub.status.busy": "2022-07-21T12:16:44.919439Z",
     "iopub.status.idle": "2022-07-21T12:16:44.930674Z",
     "shell.execute_reply": "2022-07-21T12:16:44.930174Z"
    },
    "papermill": {
     "duration": 0.046067,
     "end_time": "2022-07-21T12:16:44.930789",
     "exception": false,
     "start_time": "2022-07-21T12:16:44.884722",
     "status": "completed"
    },
    "tags": []
   },
   "outputs": [],
   "source": [
    "#hide\n",
    "g = t.reset_index(['Country/Region'])"
   ]
  },
  {
   "cell_type": "code",
   "execution_count": 23,
   "id": "distributed-pittsburgh",
   "metadata": {
    "execution": {
     "iopub.execute_input": "2022-07-21T12:16:44.996898Z",
     "iopub.status.busy": "2022-07-21T12:16:44.996312Z",
     "iopub.status.idle": "2022-07-21T12:16:44.998873Z",
     "shell.execute_reply": "2022-07-21T12:16:44.998315Z"
    },
    "papermill": {
     "duration": 0.037106,
     "end_time": "2022-07-21T12:16:44.998986",
     "exception": false,
     "start_time": "2022-07-21T12:16:44.961880",
     "status": "completed"
    },
    "tags": []
   },
   "outputs": [],
   "source": [
    "#hide\n",
    "g.index.name = 'date'"
   ]
  },
  {
   "cell_type": "code",
   "execution_count": 24,
   "id": "naked-donor",
   "metadata": {
    "execution": {
     "iopub.execute_input": "2022-07-21T12:16:45.064897Z",
     "iopub.status.busy": "2022-07-21T12:16:45.064317Z",
     "iopub.status.idle": "2022-07-21T12:16:45.066924Z",
     "shell.execute_reply": "2022-07-21T12:16:45.066424Z"
    },
    "papermill": {
     "duration": 0.036941,
     "end_time": "2022-07-21T12:16:45.067038",
     "exception": false,
     "start_time": "2022-07-21T12:16:45.030097",
     "status": "completed"
    },
    "tags": []
   },
   "outputs": [],
   "source": [
    "# #hide\n",
    "# g = g.reset_index(['date'])"
   ]
  },
  {
   "cell_type": "code",
   "execution_count": 25,
   "id": "incomplete-mustang",
   "metadata": {
    "execution": {
     "iopub.execute_input": "2022-07-21T12:16:45.133093Z",
     "iopub.status.busy": "2022-07-21T12:16:45.132501Z",
     "iopub.status.idle": "2022-07-21T12:16:45.135111Z",
     "shell.execute_reply": "2022-07-21T12:16:45.134558Z"
    },
    "papermill": {
     "duration": 0.03716,
     "end_time": "2022-07-21T12:16:45.135224",
     "exception": false,
     "start_time": "2022-07-21T12:16:45.098064",
     "status": "completed"
    },
    "tags": []
   },
   "outputs": [],
   "source": [
    "#hide\n",
    "# g.head()"
   ]
  },
  {
   "cell_type": "code",
   "execution_count": 26,
   "id": "specific-kruger",
   "metadata": {
    "execution": {
     "iopub.execute_input": "2022-07-21T12:16:45.201053Z",
     "iopub.status.busy": "2022-07-21T12:16:45.200459Z",
     "iopub.status.idle": "2022-07-21T12:16:45.202880Z",
     "shell.execute_reply": "2022-07-21T12:16:45.202332Z"
    },
    "papermill": {
     "duration": 0.036676,
     "end_time": "2022-07-21T12:16:45.202993",
     "exception": false,
     "start_time": "2022-07-21T12:16:45.166317",
     "status": "completed"
    },
    "tags": []
   },
   "outputs": [],
   "source": [
    "#hide\n",
    "# g.columns = ['date','country','cases']"
   ]
  },
  {
   "cell_type": "code",
   "execution_count": 27,
   "id": "tender-conversion",
   "metadata": {
    "execution": {
     "iopub.execute_input": "2022-07-21T12:16:45.268789Z",
     "iopub.status.busy": "2022-07-21T12:16:45.268199Z",
     "iopub.status.idle": "2022-07-21T12:16:45.270442Z",
     "shell.execute_reply": "2022-07-21T12:16:45.270849Z"
    },
    "papermill": {
     "duration": 0.036957,
     "end_time": "2022-07-21T12:16:45.270980",
     "exception": false,
     "start_time": "2022-07-21T12:16:45.234023",
     "status": "completed"
    },
    "tags": []
   },
   "outputs": [],
   "source": [
    "#hide\n",
    "# g['continent'] = g.country"
   ]
  },
  {
   "cell_type": "code",
   "execution_count": 28,
   "id": "substantial-wilderness",
   "metadata": {
    "execution": {
     "iopub.execute_input": "2022-07-21T12:16:45.336971Z",
     "iopub.status.busy": "2022-07-21T12:16:45.336376Z",
     "iopub.status.idle": "2022-07-21T12:16:45.340087Z",
     "shell.execute_reply": "2022-07-21T12:16:45.340519Z"
    },
    "papermill": {
     "duration": 0.03845,
     "end_time": "2022-07-21T12:16:45.340657",
     "exception": false,
     "start_time": "2022-07-21T12:16:45.302207",
     "status": "completed"
    },
    "tags": []
   },
   "outputs": [],
   "source": [
    "#hide\n",
    "# cols = list(g.columns.values)"
   ]
  },
  {
   "cell_type": "code",
   "execution_count": 29,
   "id": "solved-farming",
   "metadata": {
    "execution": {
     "iopub.execute_input": "2022-07-21T12:16:45.406296Z",
     "iopub.status.busy": "2022-07-21T12:16:45.405718Z",
     "iopub.status.idle": "2022-07-21T12:16:45.407742Z",
     "shell.execute_reply": "2022-07-21T12:16:45.407183Z"
    },
    "papermill": {
     "duration": 0.036263,
     "end_time": "2022-07-21T12:16:45.407874",
     "exception": false,
     "start_time": "2022-07-21T12:16:45.371611",
     "status": "completed"
    },
    "tags": []
   },
   "outputs": [],
   "source": [
    "#hide\n",
    "# cols.insert(0, cols.pop())"
   ]
  },
  {
   "cell_type": "code",
   "execution_count": 30,
   "id": "executed-adoption",
   "metadata": {
    "execution": {
     "iopub.execute_input": "2022-07-21T12:16:45.473912Z",
     "iopub.status.busy": "2022-07-21T12:16:45.473316Z",
     "iopub.status.idle": "2022-07-21T12:16:45.475529Z",
     "shell.execute_reply": "2022-07-21T12:16:45.475986Z"
    },
    "papermill": {
     "duration": 0.037134,
     "end_time": "2022-07-21T12:16:45.476123",
     "exception": false,
     "start_time": "2022-07-21T12:16:45.438989",
     "status": "completed"
    },
    "tags": []
   },
   "outputs": [],
   "source": [
    "#hide\n",
    "# g = g[cols]"
   ]
  },
  {
   "cell_type": "code",
   "execution_count": 31,
   "id": "subject-dublin",
   "metadata": {
    "execution": {
     "iopub.execute_input": "2022-07-21T12:16:45.542182Z",
     "iopub.status.busy": "2022-07-21T12:16:45.541581Z",
     "iopub.status.idle": "2022-07-21T12:16:45.545317Z",
     "shell.execute_reply": "2022-07-21T12:16:45.545748Z"
    },
    "papermill": {
     "duration": 0.038729,
     "end_time": "2022-07-21T12:16:45.545888",
     "exception": false,
     "start_time": "2022-07-21T12:16:45.507159",
     "status": "completed"
    },
    "tags": []
   },
   "outputs": [],
   "source": [
    "#hide\n",
    "# g['continent'] = g['continent'].map(mapping['map.continent'])"
   ]
  },
  {
   "cell_type": "code",
   "execution_count": 32,
   "id": "freelance-scout",
   "metadata": {
    "execution": {
     "iopub.execute_input": "2022-07-21T12:16:45.613667Z",
     "iopub.status.busy": "2022-07-21T12:16:45.613075Z",
     "iopub.status.idle": "2022-07-21T12:16:45.614989Z",
     "shell.execute_reply": "2022-07-21T12:16:45.614452Z"
    },
    "papermill": {
     "duration": 0.036106,
     "end_time": "2022-07-21T12:16:45.615099",
     "exception": false,
     "start_time": "2022-07-21T12:16:45.578993",
     "status": "completed"
    },
    "tags": []
   },
   "outputs": [],
   "source": [
    "#hide\n",
    "# g.head()"
   ]
  },
  {
   "cell_type": "code",
   "execution_count": 33,
   "id": "limited-engine",
   "metadata": {
    "execution": {
     "iopub.execute_input": "2022-07-21T12:16:45.681022Z",
     "iopub.status.busy": "2022-07-21T12:16:45.680450Z",
     "iopub.status.idle": "2022-07-21T12:16:45.683158Z",
     "shell.execute_reply": "2022-07-21T12:16:45.682699Z"
    },
    "papermill": {
     "duration": 0.037055,
     "end_time": "2022-07-21T12:16:45.683266",
     "exception": false,
     "start_time": "2022-07-21T12:16:45.646211",
     "status": "completed"
    },
    "tags": []
   },
   "outputs": [],
   "source": [
    "# hide\n",
    "# g['date'] = g['date'].astype('datetime64[ns]')"
   ]
  },
  {
   "cell_type": "code",
   "execution_count": 34,
   "id": "sophisticated-supervisor",
   "metadata": {
    "execution": {
     "iopub.execute_input": "2022-07-21T12:16:45.749312Z",
     "iopub.status.busy": "2022-07-21T12:16:45.748729Z",
     "iopub.status.idle": "2022-07-21T12:16:45.752387Z",
     "shell.execute_reply": "2022-07-21T12:16:45.752810Z"
    },
    "papermill": {
     "duration": 0.038511,
     "end_time": "2022-07-21T12:16:45.752943",
     "exception": false,
     "start_time": "2022-07-21T12:16:45.714432",
     "status": "completed"
    },
    "tags": []
   },
   "outputs": [],
   "source": [
    "#hide\n",
    "# g['date'] = g.date.dt.dayofyear"
   ]
  },
  {
   "cell_type": "code",
   "execution_count": 35,
   "id": "inside-dubai",
   "metadata": {
    "execution": {
     "iopub.execute_input": "2022-07-21T12:16:45.820856Z",
     "iopub.status.busy": "2022-07-21T12:16:45.820260Z",
     "iopub.status.idle": "2022-07-21T12:16:45.822212Z",
     "shell.execute_reply": "2022-07-21T12:16:45.821676Z"
    },
    "papermill": {
     "duration": 0.03628,
     "end_time": "2022-07-21T12:16:45.822318",
     "exception": false,
     "start_time": "2022-07-21T12:16:45.786038",
     "status": "completed"
    },
    "tags": []
   },
   "outputs": [],
   "source": [
    "#hide\n",
    "# g = g.rename(columns= {'continent':'group','country':'name','cases':'value'})"
   ]
  },
  {
   "cell_type": "code",
   "execution_count": 36,
   "id": "fleet-motorcycle",
   "metadata": {
    "execution": {
     "iopub.execute_input": "2022-07-21T12:16:45.888187Z",
     "iopub.status.busy": "2022-07-21T12:16:45.887556Z",
     "iopub.status.idle": "2022-07-21T12:16:45.890931Z",
     "shell.execute_reply": "2022-07-21T12:16:45.890472Z"
    },
    "papermill": {
     "duration": 0.037548,
     "end_time": "2022-07-21T12:16:45.891042",
     "exception": false,
     "start_time": "2022-07-21T12:16:45.853494",
     "status": "completed"
    },
    "tags": []
   },
   "outputs": [],
   "source": [
    "#hide\n",
    "# cols = ['name','group','day','value']"
   ]
  },
  {
   "cell_type": "code",
   "execution_count": 37,
   "id": "continued-sleeping",
   "metadata": {
    "execution": {
     "iopub.execute_input": "2022-07-21T12:16:45.957038Z",
     "iopub.status.busy": "2022-07-21T12:16:45.956441Z",
     "iopub.status.idle": "2022-07-21T12:16:45.959368Z",
     "shell.execute_reply": "2022-07-21T12:16:45.958825Z"
    },
    "papermill": {
     "duration": 0.037374,
     "end_time": "2022-07-21T12:16:45.959477",
     "exception": false,
     "start_time": "2022-07-21T12:16:45.922103",
     "status": "completed"
    },
    "tags": []
   },
   "outputs": [],
   "source": [
    "#hide\n",
    "# g.rename(columns= {'date':'day'},inplace = True)"
   ]
  },
  {
   "cell_type": "code",
   "execution_count": 38,
   "id": "major-fight",
   "metadata": {
    "execution": {
     "iopub.execute_input": "2022-07-21T12:16:46.025398Z",
     "iopub.status.busy": "2022-07-21T12:16:46.024800Z",
     "iopub.status.idle": "2022-07-21T12:16:46.027291Z",
     "shell.execute_reply": "2022-07-21T12:16:46.026838Z"
    },
    "papermill": {
     "duration": 0.036878,
     "end_time": "2022-07-21T12:16:46.027402",
     "exception": false,
     "start_time": "2022-07-21T12:16:45.990524",
     "status": "completed"
    },
    "tags": []
   },
   "outputs": [],
   "source": [
    "#hide\n",
    "# g = g[cols]"
   ]
  },
  {
   "cell_type": "code",
   "execution_count": 39,
   "id": "structured-mobile",
   "metadata": {
    "execution": {
     "iopub.execute_input": "2022-07-21T12:16:46.093736Z",
     "iopub.status.busy": "2022-07-21T12:16:46.093142Z",
     "iopub.status.idle": "2022-07-21T12:16:46.096841Z",
     "shell.execute_reply": "2022-07-21T12:16:46.097261Z"
    },
    "papermill": {
     "duration": 0.039049,
     "end_time": "2022-07-21T12:16:46.097393",
     "exception": false,
     "start_time": "2022-07-21T12:16:46.058344",
     "status": "completed"
    },
    "tags": []
   },
   "outputs": [],
   "source": [
    "# #hide\n",
    "# g = g[g.group.notna()]"
   ]
  },
  {
   "cell_type": "code",
   "execution_count": 40,
   "id": "determined-closing",
   "metadata": {
    "execution": {
     "iopub.execute_input": "2022-07-21T12:16:46.163513Z",
     "iopub.status.busy": "2022-07-21T12:16:46.162905Z",
     "iopub.status.idle": "2022-07-21T12:16:46.165155Z",
     "shell.execute_reply": "2022-07-21T12:16:46.165571Z"
    },
    "papermill": {
     "duration": 0.037075,
     "end_time": "2022-07-21T12:16:46.165705",
     "exception": false,
     "start_time": "2022-07-21T12:16:46.128630",
     "status": "completed"
    },
    "tags": []
   },
   "outputs": [],
   "source": [
    "# #hide\n",
    "# colors = dict(zip(\n",
    "#     [\"Oceania\", \"Europe\", \"Asia\", \"South America\", \"Middle East\", \"North America\", \"Africa\"],\n",
    "#     [\"#adb0ff\", \"#ffb3ff\", \"#90d595\", \"#e48381\", \"#aafbff\", \"#f7bb5f\", \"#eafb50\"]\n",
    "# ))\n",
    "# group_lk = g.set_index('name')['group'].to_dict()"
   ]
  },
  {
   "cell_type": "code",
   "execution_count": null,
   "id": "gross-drinking",
   "metadata": {
    "papermill": {
     "duration": 0.030915,
     "end_time": "2022-07-21T12:16:46.227479",
     "exception": false,
     "start_time": "2022-07-21T12:16:46.196564",
     "status": "completed"
    },
    "tags": []
   },
   "outputs": [],
   "source": []
  },
  {
   "cell_type": "code",
   "execution_count": 41,
   "id": "subject-macintosh",
   "metadata": {
    "execution": {
     "iopub.execute_input": "2022-07-21T12:16:46.293664Z",
     "iopub.status.busy": "2022-07-21T12:16:46.293066Z",
     "iopub.status.idle": "2022-07-21T12:16:46.295501Z",
     "shell.execute_reply": "2022-07-21T12:16:46.294952Z"
    },
    "papermill": {
     "duration": 0.037088,
     "end_time": "2022-07-21T12:16:46.295612",
     "exception": false,
     "start_time": "2022-07-21T12:16:46.258524",
     "status": "completed"
    },
    "tags": []
   },
   "outputs": [],
   "source": [
    "# #hide\n",
    "# fig, ax = plt.subplots(figsize=(15, 8))\n",
    "\n",
    "# def draw_barchart(current_day):\n",
    "#     dff = g[g['day'].eq(current_day)].sort_values(by='value', ascending=True).tail(10)\n",
    "#     ax.clear()\n",
    "#     ax.barh(dff['name'], dff['value'], color=[colors[group_lk[x]] for x in dff['name']])\n",
    "#     dx = dff['value'].max() / 200\n",
    "    \n",
    "#     for i, (value, name) in enumerate(zip(dff['value'], dff['name'])):\n",
    "#         ax.text(value-dx, i,     name,           size=14, weight=600, ha='right', va='bottom')\n",
    "#         ax.text(value-dx, i-.25, group_lk[name], size=10, color='#444444', ha='right', va='baseline')\n",
    "#         ax.text(value+dx, i,     f'{value:,.0f}',  size=14, ha='left',  va='center')\n",
    "#     ax.text(1, 0.4, current_day, transform=ax.transAxes, color='#777777', size=46, ha='right', weight=800)\n",
    "#     ax.text(0, 1.06, 'Population (thousands)', transform=ax.transAxes, size=12, color='#777777')\n",
    "#     ax.xaxis.set_major_formatter(ticker.StrMethodFormatter('{x:,.0f}'))\n",
    "#     ax.xaxis.set_ticks_position('top')\n",
    "#     ax.tick_params(axis='x', colors='#777777', labelsize=12)\n",
    "#     ax.set_yticks([])\n",
    "#     ax.margins(0, 0.01)\n",
    "#     ax.grid(which='major', axis='x', linestyle='-')\n",
    "#     ax.set_axisbelow(True)\n",
    "    \n",
    "#     ax.text(0, 1.15, 'Coronavirus',\n",
    "#             transform=ax.transAxes, size=24, weight=600, ha='left', va='top')\n",
    "# #     ax.text(1, 0, 'by @pratapvardhan; credit @jburnmurdoch', transform=ax.transAxes, color='#777777', ha='right',\n",
    "# #             bbox=dict(facecolor='white', alpha=0.8, edgecolor='white'))\n",
    "#     plt.box(False)"
   ]
  },
  {
   "cell_type": "code",
   "execution_count": 42,
   "id": "sexual-wages",
   "metadata": {
    "execution": {
     "iopub.execute_input": "2022-07-21T12:16:46.361588Z",
     "iopub.status.busy": "2022-07-21T12:16:46.361005Z",
     "iopub.status.idle": "2022-07-21T12:16:46.363287Z",
     "shell.execute_reply": "2022-07-21T12:16:46.362843Z"
    },
    "papermill": {
     "duration": 0.036622,
     "end_time": "2022-07-21T12:16:46.363394",
     "exception": false,
     "start_time": "2022-07-21T12:16:46.326772",
     "status": "completed"
    },
    "tags": []
   },
   "outputs": [],
   "source": [
    "# #hide_input\n",
    "# fig, ax = plt.subplots(figsize=(15, 8))\n",
    "# animator = animation.FuncAnimation(fig, draw_barchart, frames=range(g.day.values.min(), g.day.values.max()))\n",
    "# HTML(animator.to_jshtml())\n",
    "# # or use animator.to_html5_video() or animator.save() "
   ]
  },
  {
   "cell_type": "code",
   "execution_count": null,
   "id": "australian-container",
   "metadata": {
    "papermill": {
     "duration": 0.031068,
     "end_time": "2022-07-21T12:16:46.425576",
     "exception": false,
     "start_time": "2022-07-21T12:16:46.394508",
     "status": "completed"
    },
    "tags": []
   },
   "outputs": [],
   "source": []
  },
  {
   "cell_type": "code",
   "execution_count": null,
   "id": "mediterranean-pontiac",
   "metadata": {
    "papermill": {
     "duration": 0.030822,
     "end_time": "2022-07-21T12:16:46.487353",
     "exception": false,
     "start_time": "2022-07-21T12:16:46.456531",
     "status": "completed"
    },
    "tags": []
   },
   "outputs": [],
   "source": []
  },
  {
   "cell_type": "code",
   "execution_count": null,
   "id": "aging-legislature",
   "metadata": {
    "papermill": {
     "duration": 0.032539,
     "end_time": "2022-07-21T12:16:46.551098",
     "exception": false,
     "start_time": "2022-07-21T12:16:46.518559",
     "status": "completed"
    },
    "tags": []
   },
   "outputs": [],
   "source": []
  }
 ],
 "metadata": {
  "kernelspec": {
   "display_name": "Python 3",
   "language": "python",
   "name": "python3"
  },
  "language_info": {
   "codemirror_mode": {
    "name": "ipython",
    "version": 3
   },
   "file_extension": ".py",
   "mimetype": "text/x-python",
   "name": "python",
   "nbconvert_exporter": "python",
   "pygments_lexer": "ipython3",
   "version": "3.6.15"
  },
  "papermill": {
   "duration": 6.166574,
   "end_time": "2022-07-21T12:16:46.911956",
   "environment_variables": {},
   "exception": null,
   "input_path": "2020-03-21-covid19exp.ipynb",
   "output_path": "2020-03-21-covid19exp.ipynb",
   "parameters": {},
   "start_time": "2022-07-21T12:16:40.745382",
   "version": "2.0.0"
  }
 },
 "nbformat": 4,
 "nbformat_minor": 5
}