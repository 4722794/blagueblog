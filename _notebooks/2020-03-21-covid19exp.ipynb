{
 "cells": [
  {
   "cell_type": "markdown",
   "metadata": {
    "papermill": {
     "duration": 0.035307,
     "end_time": "2021-01-06T00:24:11.434840",
     "exception": false,
     "start_time": "2021-01-06T00:24:11.399533",
     "status": "completed"
    },
    "tags": []
   },
   "source": [
    "# COVID-19 Case Race\n",
    "> A race chart to see rising cases around the world\n",
    "\n",
    "- author: Hargun Oberoi\n",
    "- image: images/covid-overview.png\n",
    "- hide: false\n",
    "- badges: false"
   ]
  },
  {
   "cell_type": "code",
   "execution_count": 1,
   "metadata": {
    "execution": {
     "iopub.execute_input": "2021-01-06T00:24:11.507102Z",
     "iopub.status.busy": "2021-01-06T00:24:11.506484Z",
     "iopub.status.idle": "2021-01-06T00:24:11.844598Z",
     "shell.execute_reply": "2021-01-06T00:24:11.843872Z"
    },
    "papermill": {
     "duration": 0.379501,
     "end_time": "2021-01-06T00:24:11.844805",
     "exception": false,
     "start_time": "2021-01-06T00:24:11.465304",
     "status": "completed"
    },
    "tags": []
   },
   "outputs": [],
   "source": [
    "#hide\n",
    "import numpy as np\n",
    "import pandas as pd\n",
    "from jinja2 import Template\n",
    "from IPython.display import HTML"
   ]
  },
  {
   "cell_type": "code",
   "execution_count": 2,
   "metadata": {
    "execution": {
     "iopub.execute_input": "2021-01-06T00:24:11.912593Z",
     "iopub.status.busy": "2021-01-06T00:24:11.911993Z",
     "iopub.status.idle": "2021-01-06T00:24:11.914677Z",
     "shell.execute_reply": "2021-01-06T00:24:11.914174Z"
    },
    "papermill": {
     "duration": 0.038599,
     "end_time": "2021-01-06T00:24:11.914805",
     "exception": false,
     "start_time": "2021-01-06T00:24:11.876206",
     "status": "completed"
    },
    "tags": []
   },
   "outputs": [],
   "source": [
    "#hide\n",
    "\n",
    "# FETCH\n",
    "base_url = 'https://raw.githubusercontent.com/pratapvardhan/notebooks/master/covid19/'\n",
    "paths = {\n",
    "    'mapping': base_url + 'mapping_countries.csv',\n",
    "    'overview': base_url + 'overview.tpl'\n",
    "}"
   ]
  },
  {
   "cell_type": "code",
   "execution_count": 3,
   "metadata": {
    "execution": {
     "iopub.execute_input": "2021-01-06T00:24:11.986966Z",
     "iopub.status.busy": "2021-01-06T00:24:11.986375Z",
     "iopub.status.idle": "2021-01-06T00:24:11.988678Z",
     "shell.execute_reply": "2021-01-06T00:24:11.989221Z"
    },
    "papermill": {
     "duration": 0.044848,
     "end_time": "2021-01-06T00:24:11.989364",
     "exception": false,
     "start_time": "2021-01-06T00:24:11.944516",
     "status": "completed"
    },
    "tags": []
   },
   "outputs": [
    {
     "data": {
      "text/plain": [
       "'https://raw.githubusercontent.com/pratapvardhan/notebooks/master/covid19/mapping_countries.csv'"
      ]
     },
     "execution_count": 3,
     "metadata": {},
     "output_type": "execute_result"
    }
   ],
   "source": [
    "#hide\n",
    "paths['mapping']"
   ]
  },
  {
   "cell_type": "code",
   "execution_count": 4,
   "metadata": {
    "execution": {
     "iopub.execute_input": "2021-01-06T00:24:12.055857Z",
     "iopub.status.busy": "2021-01-06T00:24:12.055256Z",
     "iopub.status.idle": "2021-01-06T00:24:12.057021Z",
     "shell.execute_reply": "2021-01-06T00:24:12.057463Z"
    },
    "papermill": {
     "duration": 0.038161,
     "end_time": "2021-01-06T00:24:12.057608",
     "exception": false,
     "start_time": "2021-01-06T00:24:12.019447",
     "status": "completed"
    },
    "tags": []
   },
   "outputs": [],
   "source": [
    "#hide\n",
    "def get_mappings(url):\n",
    "    df = pd.read_csv(url)\n",
    "    return {\n",
    "        'df': df,\n",
    "        'replace.country': dict(df.dropna(subset=['Name']).set_index('Country')['Name']),\n",
    "        'map.continent': dict(df.set_index('Name')['Continent'])\n",
    "    }"
   ]
  },
  {
   "cell_type": "code",
   "execution_count": 5,
   "metadata": {
    "execution": {
     "iopub.execute_input": "2021-01-06T00:24:12.125369Z",
     "iopub.status.busy": "2021-01-06T00:24:12.124769Z",
     "iopub.status.idle": "2021-01-06T00:24:12.182105Z",
     "shell.execute_reply": "2021-01-06T00:24:12.181253Z"
    },
    "papermill": {
     "duration": 0.094644,
     "end_time": "2021-01-06T00:24:12.182331",
     "exception": false,
     "start_time": "2021-01-06T00:24:12.087687",
     "status": "completed"
    },
    "tags": []
   },
   "outputs": [],
   "source": [
    "#hide\n",
    "mapping = get_mappings(paths['mapping'])"
   ]
  },
  {
   "cell_type": "code",
   "execution_count": 6,
   "metadata": {
    "execution": {
     "iopub.execute_input": "2021-01-06T00:24:12.257184Z",
     "iopub.status.busy": "2021-01-06T00:24:12.256565Z",
     "iopub.status.idle": "2021-01-06T00:24:12.258400Z",
     "shell.execute_reply": "2021-01-06T00:24:12.258846Z"
    },
    "papermill": {
     "duration": 0.042403,
     "end_time": "2021-01-06T00:24:12.258998",
     "exception": false,
     "start_time": "2021-01-06T00:24:12.216595",
     "status": "completed"
    },
    "tags": []
   },
   "outputs": [],
   "source": [
    "#hide\n",
    "def get_template(path):\n",
    "    from urllib.parse import urlparse\n",
    "    if bool(urlparse(path).netloc):\n",
    "        from urllib.request import urlopen\n",
    "        return urlopen(path).read().decode('utf8')\n",
    "    return open(path).read()"
   ]
  },
  {
   "cell_type": "code",
   "execution_count": 7,
   "metadata": {
    "execution": {
     "iopub.execute_input": "2021-01-06T00:24:12.325874Z",
     "iopub.status.busy": "2021-01-06T00:24:12.325278Z",
     "iopub.status.idle": "2021-01-06T00:24:12.327681Z",
     "shell.execute_reply": "2021-01-06T00:24:12.328242Z"
    },
    "papermill": {
     "duration": 0.039543,
     "end_time": "2021-01-06T00:24:12.328384",
     "exception": false,
     "start_time": "2021-01-06T00:24:12.288841",
     "status": "completed"
    },
    "tags": []
   },
   "outputs": [],
   "source": [
    "#hide\n",
    "def get_frame(name):\n",
    "    url = (\n",
    "        'https://raw.githubusercontent.com/CSSEGISandData/COVID-19/master/csse_covid_19_data/'\n",
    "        f'csse_covid_19_time_series/time_series_covid19_{name}_global.csv')\n",
    "    df = pd.read_csv(url)\n",
    "    # rename countries\n",
    "    df['Country/Region'] = df['Country/Region'].replace(mapping['replace.country'])\n",
    "    return df"
   ]
  },
  {
   "cell_type": "code",
   "execution_count": 8,
   "metadata": {
    "execution": {
     "iopub.execute_input": "2021-01-06T00:24:12.394824Z",
     "iopub.status.busy": "2021-01-06T00:24:12.394216Z",
     "iopub.status.idle": "2021-01-06T00:24:12.396538Z",
     "shell.execute_reply": "2021-01-06T00:24:12.397098Z"
    },
    "papermill": {
     "duration": 0.038938,
     "end_time": "2021-01-06T00:24:12.397245",
     "exception": false,
     "start_time": "2021-01-06T00:24:12.358307",
     "status": "completed"
    },
    "tags": []
   },
   "outputs": [],
   "source": [
    "#hide\n",
    "def get_dates(df):\n",
    "    dt_cols = df.columns[~df.columns.isin(['Province/State', 'Country/Region', 'Lat', 'Long'])]\n",
    "    LAST_DATE_I = -1\n",
    "    # sometimes last column may be empty, then go backwards\n",
    "    for i in range(-1, -len(dt_cols), -1):\n",
    "        if not df[dt_cols[i]].fillna(0).eq(0).all():\n",
    "            LAST_DATE_I = i\n",
    "            break\n",
    "    return LAST_DATE_I, dt_cols"
   ]
  },
  {
   "cell_type": "code",
   "execution_count": 9,
   "metadata": {
    "execution": {
     "iopub.execute_input": "2021-01-06T00:24:12.462783Z",
     "iopub.status.busy": "2021-01-06T00:24:12.462167Z",
     "iopub.status.idle": "2021-01-06T00:24:12.821538Z",
     "shell.execute_reply": "2021-01-06T00:24:12.820662Z"
    },
    "papermill": {
     "duration": 0.394791,
     "end_time": "2021-01-06T00:24:12.821767",
     "exception": false,
     "start_time": "2021-01-06T00:24:12.426976",
     "status": "completed"
    },
    "tags": []
   },
   "outputs": [],
   "source": [
    "#hide\n",
    "COL_REGION = 'Country/Region'\n",
    "# Confirmed, Recovered, Deaths\n",
    "df = get_frame('confirmed')\n",
    "# dft_: timeseries, dfc_: today country agg\n",
    "dft_cases = df\n",
    "dft_deaths = get_frame('deaths')\n",
    "dft_recovered = get_frame('recovered')\n",
    "LAST_DATE_I, dt_cols = get_dates(df)"
   ]
  },
  {
   "cell_type": "code",
   "execution_count": 10,
   "metadata": {
    "execution": {
     "iopub.execute_input": "2021-01-06T00:24:12.888844Z",
     "iopub.status.busy": "2021-01-06T00:24:12.888111Z",
     "iopub.status.idle": "2021-01-06T00:24:12.889570Z",
     "shell.execute_reply": "2021-01-06T00:24:12.890224Z"
    },
    "papermill": {
     "duration": 0.037425,
     "end_time": "2021-01-06T00:24:12.890396",
     "exception": false,
     "start_time": "2021-01-06T00:24:12.852971",
     "status": "completed"
    },
    "tags": []
   },
   "outputs": [],
   "source": [
    "#hide\n",
    "LAST_DATE_I, dt_cols = get_dates(df)\n",
    "dt_today =dt_cols[LAST_DATE_I]\n",
    "# dt_5day = dt_cols[LAST_DATE_I - 5]\n",
    "dt_yday = dt_cols[LAST_DATE_I - 1]"
   ]
  },
  {
   "cell_type": "code",
   "execution_count": 11,
   "metadata": {
    "execution": {
     "iopub.execute_input": "2021-01-06T00:24:12.959646Z",
     "iopub.status.busy": "2021-01-06T00:24:12.958953Z",
     "iopub.status.idle": "2021-01-06T00:24:12.964948Z",
     "shell.execute_reply": "2021-01-06T00:24:12.965445Z"
    },
    "papermill": {
     "duration": 0.044712,
     "end_time": "2021-01-06T00:24:12.965589",
     "exception": false,
     "start_time": "2021-01-06T00:24:12.920877",
     "status": "completed"
    },
    "tags": []
   },
   "outputs": [],
   "source": [
    "#hide\n",
    "dfc_cases = dft_cases.groupby(COL_REGION)[dt_today].sum()\n",
    "dfc_deaths = dft_deaths.groupby(COL_REGION)[dt_today].sum()\n",
    "# dfp_cases = dft_cases.groupby(COL_REGION)[dt_5day].sum()\n",
    "# dfp_deaths = dft_deaths.groupby(COL_REGION)[dt_5day].sum()\n",
    "dfp_cases = dft_cases.groupby(COL_REGION)[dt_yday].sum()\n",
    "dfp_deaths = dft_deaths.groupby(COL_REGION)[dt_yday].sum()"
   ]
  },
  {
   "cell_type": "code",
   "execution_count": 12,
   "metadata": {
    "execution": {
     "iopub.execute_input": "2021-01-06T00:24:13.034632Z",
     "iopub.status.busy": "2021-01-06T00:24:13.034034Z",
     "iopub.status.idle": "2021-01-06T00:24:13.040004Z",
     "shell.execute_reply": "2021-01-06T00:24:13.039517Z"
    },
    "papermill": {
     "duration": 0.044598,
     "end_time": "2021-01-06T00:24:13.040142",
     "exception": false,
     "start_time": "2021-01-06T00:24:12.995544",
     "status": "completed"
    },
    "tags": []
   },
   "outputs": [],
   "source": [
    "#hide\n",
    "df_table = (pd.DataFrame(dict(Cases = dfc_cases, Deaths = dfc_deaths, PCases = dfp_cases, PDeaths = dfp_deaths))\n",
    "            .sort_values(by = ['Cases','Deaths'], ascending = [False, False])\n",
    "            .reset_index())"
   ]
  },
  {
   "cell_type": "code",
   "execution_count": 13,
   "metadata": {
    "execution": {
     "iopub.execute_input": "2021-01-06T00:24:13.121513Z",
     "iopub.status.busy": "2021-01-06T00:24:13.120890Z",
     "iopub.status.idle": "2021-01-06T00:24:13.128909Z",
     "shell.execute_reply": "2021-01-06T00:24:13.128425Z"
    },
    "papermill": {
     "duration": 0.058977,
     "end_time": "2021-01-06T00:24:13.129048",
     "exception": false,
     "start_time": "2021-01-06T00:24:13.070071",
     "status": "completed"
    },
    "tags": []
   },
   "outputs": [
    {
     "data": {
      "text/html": [
       "<div>\n",
       "<style scoped>\n",
       "    .dataframe tbody tr th:only-of-type {\n",
       "        vertical-align: middle;\n",
       "    }\n",
       "\n",
       "    .dataframe tbody tr th {\n",
       "        vertical-align: top;\n",
       "    }\n",
       "\n",
       "    .dataframe thead th {\n",
       "        text-align: right;\n",
       "    }\n",
       "</style>\n",
       "<table border=\"1\" class=\"dataframe\">\n",
       "  <thead>\n",
       "    <tr style=\"text-align: right;\">\n",
       "      <th></th>\n",
       "      <th>Country/Region</th>\n",
       "      <th>Cases</th>\n",
       "      <th>Deaths</th>\n",
       "      <th>PCases</th>\n",
       "      <th>PDeaths</th>\n",
       "      <th>Cases (+)</th>\n",
       "      <th>Deaths (+)</th>\n",
       "      <th>Fatality Rate</th>\n",
       "      <th>Continent</th>\n",
       "    </tr>\n",
       "  </thead>\n",
       "  <tbody>\n",
       "    <tr>\n",
       "      <th>0</th>\n",
       "      <td>US</td>\n",
       "      <td>20817140</td>\n",
       "      <td>353483</td>\n",
       "      <td>20636663</td>\n",
       "      <td>351580</td>\n",
       "      <td>180477</td>\n",
       "      <td>1903</td>\n",
       "      <td>1.70</td>\n",
       "      <td>North America</td>\n",
       "    </tr>\n",
       "    <tr>\n",
       "      <th>1</th>\n",
       "      <td>India</td>\n",
       "      <td>10356844</td>\n",
       "      <td>149850</td>\n",
       "      <td>10340469</td>\n",
       "      <td>149649</td>\n",
       "      <td>16375</td>\n",
       "      <td>201</td>\n",
       "      <td>1.45</td>\n",
       "      <td>Asia</td>\n",
       "    </tr>\n",
       "    <tr>\n",
       "      <th>2</th>\n",
       "      <td>Brazil</td>\n",
       "      <td>7753752</td>\n",
       "      <td>196561</td>\n",
       "      <td>7733746</td>\n",
       "      <td>196018</td>\n",
       "      <td>20006</td>\n",
       "      <td>543</td>\n",
       "      <td>2.54</td>\n",
       "      <td>South America</td>\n",
       "    </tr>\n",
       "    <tr>\n",
       "      <th>3</th>\n",
       "      <td>Russia</td>\n",
       "      <td>3226758</td>\n",
       "      <td>58203</td>\n",
       "      <td>3203743</td>\n",
       "      <td>57730</td>\n",
       "      <td>23015</td>\n",
       "      <td>473</td>\n",
       "      <td>1.80</td>\n",
       "      <td>Europe</td>\n",
       "    </tr>\n",
       "    <tr>\n",
       "      <th>4</th>\n",
       "      <td>United Kingdom</td>\n",
       "      <td>2721622</td>\n",
       "      <td>75547</td>\n",
       "      <td>2662699</td>\n",
       "      <td>75137</td>\n",
       "      <td>58923</td>\n",
       "      <td>410</td>\n",
       "      <td>2.78</td>\n",
       "      <td>Europe</td>\n",
       "    </tr>\n",
       "  </tbody>\n",
       "</table>\n",
       "</div>"
      ],
      "text/plain": [
       "   Country/Region     Cases  Deaths    PCases  PDeaths  Cases (+)  Deaths (+)  \\\n",
       "0              US  20817140  353483  20636663   351580     180477        1903   \n",
       "1           India  10356844  149850  10340469   149649      16375         201   \n",
       "2          Brazil   7753752  196561   7733746   196018      20006         543   \n",
       "3          Russia   3226758   58203   3203743    57730      23015         473   \n",
       "4  United Kingdom   2721622   75547   2662699    75137      58923         410   \n",
       "\n",
       "   Fatality Rate      Continent  \n",
       "0           1.70  North America  \n",
       "1           1.45           Asia  \n",
       "2           2.54  South America  \n",
       "3           1.80         Europe  \n",
       "4           2.78         Europe  "
      ]
     },
     "execution_count": 13,
     "metadata": {},
     "output_type": "execute_result"
    }
   ],
   "source": [
    "#hide\n",
    "for c in 'Cases, Deaths'.split(', '):\n",
    "    df_table[f'{c} (+)'] = (df_table[c] - df_table[f'P{c}']).clip(0)\n",
    "    #Clip ça veut dire, les chiffres negatif sont interdit\n",
    "df_table['Fatality Rate'] = (100* df_table['Deaths']/ df_table['Cases']).round(2)\n",
    "df_table['Continent'] = df_table['Country/Region'].map(mapping['map.continent'])\n",
    "df_table.head(5)"
   ]
  },
  {
   "cell_type": "code",
   "execution_count": 14,
   "metadata": {
    "execution": {
     "iopub.execute_input": "2021-01-06T00:24:13.197061Z",
     "iopub.status.busy": "2021-01-06T00:24:13.196470Z",
     "iopub.status.idle": "2021-01-06T00:24:13.200221Z",
     "shell.execute_reply": "2021-01-06T00:24:13.200726Z"
    },
    "papermill": {
     "duration": 0.041031,
     "end_time": "2021-01-06T00:24:13.200877",
     "exception": false,
     "start_time": "2021-01-06T00:24:13.159846",
     "status": "completed"
    },
    "tags": []
   },
   "outputs": [],
   "source": [
    "#hide\n",
    "#delete problematic countries from table\n",
    "df_table = df_table[~df_table['Country/Region'].isin(['Cape Verde', 'Cruise Ship', 'Kosovo'])]"
   ]
  },
  {
   "cell_type": "code",
   "execution_count": 15,
   "metadata": {
    "execution": {
     "iopub.execute_input": "2021-01-06T00:24:13.272759Z",
     "iopub.status.busy": "2021-01-06T00:24:13.272154Z",
     "iopub.status.idle": "2021-01-06T00:24:13.290870Z",
     "shell.execute_reply": "2021-01-06T00:24:13.290382Z"
    },
    "papermill": {
     "duration": 0.059974,
     "end_time": "2021-01-06T00:24:13.291009",
     "exception": false,
     "start_time": "2021-01-06T00:24:13.231035",
     "status": "completed"
    },
    "tags": []
   },
   "outputs": [
    {
     "data": {
      "text/html": [
       "<div>\n",
       "<style scoped>\n",
       "    .dataframe tbody tr th:only-of-type {\n",
       "        vertical-align: middle;\n",
       "    }\n",
       "\n",
       "    .dataframe tbody tr th {\n",
       "        vertical-align: top;\n",
       "    }\n",
       "\n",
       "    .dataframe thead th {\n",
       "        text-align: right;\n",
       "    }\n",
       "</style>\n",
       "<table border=\"1\" class=\"dataframe\">\n",
       "  <thead>\n",
       "    <tr style=\"text-align: right;\">\n",
       "      <th></th>\n",
       "      <th>Country/Region</th>\n",
       "      <th>Cases</th>\n",
       "      <th>Deaths</th>\n",
       "      <th>PCases</th>\n",
       "      <th>PDeaths</th>\n",
       "      <th>Cases (+)</th>\n",
       "      <th>Deaths (+)</th>\n",
       "      <th>Fatality Rate</th>\n",
       "      <th>Continent</th>\n",
       "    </tr>\n",
       "  </thead>\n",
       "  <tbody>\n",
       "    <tr>\n",
       "      <th>0</th>\n",
       "      <td>US</td>\n",
       "      <td>20817140</td>\n",
       "      <td>353483</td>\n",
       "      <td>20636663</td>\n",
       "      <td>351580</td>\n",
       "      <td>180477</td>\n",
       "      <td>1903</td>\n",
       "      <td>1.7</td>\n",
       "      <td>North America</td>\n",
       "    </tr>\n",
       "    <tr>\n",
       "      <th>1</th>\n",
       "      <td>India</td>\n",
       "      <td>10356844</td>\n",
       "      <td>149850</td>\n",
       "      <td>10340469</td>\n",
       "      <td>149649</td>\n",
       "      <td>16375</td>\n",
       "      <td>201</td>\n",
       "      <td>1.4</td>\n",
       "      <td>Asia</td>\n",
       "    </tr>\n",
       "    <tr>\n",
       "      <th>2</th>\n",
       "      <td>Brazil</td>\n",
       "      <td>7753752</td>\n",
       "      <td>196561</td>\n",
       "      <td>7733746</td>\n",
       "      <td>196018</td>\n",
       "      <td>20006</td>\n",
       "      <td>543</td>\n",
       "      <td>2.5</td>\n",
       "      <td>South America</td>\n",
       "    </tr>\n",
       "    <tr>\n",
       "      <th>3</th>\n",
       "      <td>Russia</td>\n",
       "      <td>3226758</td>\n",
       "      <td>58203</td>\n",
       "      <td>3203743</td>\n",
       "      <td>57730</td>\n",
       "      <td>23015</td>\n",
       "      <td>473</td>\n",
       "      <td>1.8</td>\n",
       "      <td>Europe</td>\n",
       "    </tr>\n",
       "    <tr>\n",
       "      <th>4</th>\n",
       "      <td>United Kingdom</td>\n",
       "      <td>2721622</td>\n",
       "      <td>75547</td>\n",
       "      <td>2662699</td>\n",
       "      <td>75137</td>\n",
       "      <td>58923</td>\n",
       "      <td>410</td>\n",
       "      <td>2.8</td>\n",
       "      <td>Europe</td>\n",
       "    </tr>\n",
       "  </tbody>\n",
       "</table>\n",
       "</div>"
      ],
      "text/plain": [
       "   Country/Region     Cases  Deaths    PCases  PDeaths  Cases (+)  Deaths (+)  \\\n",
       "0              US  20817140  353483  20636663   351580     180477        1903   \n",
       "1           India  10356844  149850  10340469   149649      16375         201   \n",
       "2          Brazil   7753752  196561   7733746   196018      20006         543   \n",
       "3          Russia   3226758   58203   3203743    57730      23015         473   \n",
       "4  United Kingdom   2721622   75547   2662699    75137      58923         410   \n",
       "\n",
       "   Fatality Rate      Continent  \n",
       "0            1.7  North America  \n",
       "1            1.4           Asia  \n",
       "2            2.5  South America  \n",
       "3            1.8         Europe  \n",
       "4            2.8         Europe  "
      ]
     },
     "execution_count": 15,
     "metadata": {},
     "output_type": "execute_result"
    }
   ],
   "source": [
    "#hide\n",
    "df_table = (pd.DataFrame(dict(Cases=dfc_cases, Deaths=dfc_deaths, PCases=dfp_cases, PDeaths=dfp_deaths))\n",
    "             .sort_values(by=['Cases', 'Deaths'], ascending=[False, False])\n",
    "             .reset_index())\n",
    "df_table.rename(columns={'index': 'Country/Region'}, inplace=True)\n",
    "for c in 'Cases, Deaths'.split(', '):\n",
    "    df_table[f'{c} (+)'] = (df_table[c] - df_table[f'P{c}']).clip(0)  # DATA BUG\n",
    "df_table['Fatality Rate'] = (100 * df_table['Deaths'] / df_table['Cases']).round(1)\n",
    "df_table['Continent'] = df_table['Country/Region'].map(mapping['map.continent'])\n",
    "df_table.head(5)"
   ]
  },
  {
   "cell_type": "code",
   "execution_count": 16,
   "metadata": {
    "execution": {
     "iopub.execute_input": "2021-01-06T00:24:13.360237Z",
     "iopub.status.busy": "2021-01-06T00:24:13.359631Z",
     "iopub.status.idle": "2021-01-06T00:24:13.363774Z",
     "shell.execute_reply": "2021-01-06T00:24:13.363289Z"
    },
    "papermill": {
     "duration": 0.041628,
     "end_time": "2021-01-06T00:24:13.363907",
     "exception": false,
     "start_time": "2021-01-06T00:24:13.322279",
     "status": "completed"
    },
    "tags": []
   },
   "outputs": [],
   "source": [
    "#hide\n",
    "#delete problematic countries from table\n",
    "df_table = df_table[~df_table['Country/Region'].isin(['Cape Verde', 'Cruise Ship', 'Kosovo'])]"
   ]
  },
  {
   "cell_type": "code",
   "execution_count": 17,
   "metadata": {
    "execution": {
     "iopub.execute_input": "2021-01-06T00:24:13.436160Z",
     "iopub.status.busy": "2021-01-06T00:24:13.435550Z",
     "iopub.status.idle": "2021-01-06T00:24:13.448533Z",
     "shell.execute_reply": "2021-01-06T00:24:13.448058Z"
    },
    "papermill": {
     "duration": 0.053863,
     "end_time": "2021-01-06T00:24:13.448665",
     "exception": false,
     "start_time": "2021-01-06T00:24:13.394802",
     "status": "completed"
    },
    "tags": []
   },
   "outputs": [],
   "source": [
    "#hide\n",
    "metrics = [df_table.columns[index] for index in [1,2,5,6]]\n",
    "# s_china = df_table[df_table['Country/Region'].eq('China')][metrics].sum().add_prefix('China ')\n",
    "s_us = df_table[df_table['Country/Region'].eq('US')][metrics].sum().add_prefix('US ')\n",
    "s_eu = df_table[df_table['Continent'].eq('Europe')][metrics].sum().add_prefix('EU ')\n",
    "s_ind = df_table[df_table['Country/Region'].eq('India')][metrics].sum().add_prefix('India ')\n",
    "summary = {'updated': pd.to_datetime(dt_today), 'since': pd.to_datetime(dt_yday)}\n",
    "summary = {'updated': pd.to_datetime(dt_today), 'since': pd.to_datetime(dt_yday)}\n",
    "summary = {**summary, **df_table[metrics].sum(), **s_ind, **s_us, **s_eu}"
   ]
  },
  {
   "cell_type": "code",
   "execution_count": 18,
   "metadata": {
    "execution": {
     "iopub.execute_input": "2021-01-06T00:24:13.517880Z",
     "iopub.status.busy": "2021-01-06T00:24:13.517279Z",
     "iopub.status.idle": "2021-01-06T00:24:13.529176Z",
     "shell.execute_reply": "2021-01-06T00:24:13.529655Z"
    },
    "papermill": {
     "duration": 0.050369,
     "end_time": "2021-01-06T00:24:13.529803",
     "exception": false,
     "start_time": "2021-01-06T00:24:13.479434",
     "status": "completed"
    },
    "tags": []
   },
   "outputs": [],
   "source": [
    "#hide\n",
    "dft_ct_new_cases = dft_cases.groupby(COL_REGION)[dt_cols].sum().diff(axis=1).fillna(0).astype(int)"
   ]
  },
  {
   "cell_type": "code",
   "execution_count": 19,
   "metadata": {
    "execution": {
     "iopub.execute_input": "2021-01-06T00:24:13.598085Z",
     "iopub.status.busy": "2021-01-06T00:24:13.597496Z",
     "iopub.status.idle": "2021-01-06T00:24:13.599273Z",
     "shell.execute_reply": "2021-01-06T00:24:13.599754Z"
    },
    "papermill": {
     "duration": 0.038528,
     "end_time": "2021-01-06T00:24:13.599897",
     "exception": false,
     "start_time": "2021-01-06T00:24:13.561369",
     "status": "completed"
    },
    "tags": []
   },
   "outputs": [],
   "source": [
    "#hide\n",
    "everydaycases = dft_ct_new_cases.cumsum(axis=1)"
   ]
  },
  {
   "cell_type": "code",
   "execution_count": 20,
   "metadata": {
    "execution": {
     "iopub.execute_input": "2021-01-06T00:24:13.666669Z",
     "iopub.status.busy": "2021-01-06T00:24:13.666083Z",
     "iopub.status.idle": "2021-01-06T00:24:14.653710Z",
     "shell.execute_reply": "2021-01-06T00:24:14.652532Z"
    },
    "papermill": {
     "duration": 1.023225,
     "end_time": "2021-01-06T00:24:14.653858",
     "exception": false,
     "start_time": "2021-01-06T00:24:13.630633",
     "status": "completed"
    },
    "tags": []
   },
   "outputs": [],
   "source": [
    "#hide\n",
    "import pandas as pd\n",
    "import matplotlib.pyplot as plt\n",
    "import matplotlib.ticker as ticker\n",
    "import matplotlib.animation as animation\n",
    "from IPython.display import HTML"
   ]
  },
  {
   "cell_type": "code",
   "execution_count": 21,
   "metadata": {
    "execution": {
     "iopub.execute_input": "2021-01-06T00:24:14.722872Z",
     "iopub.status.busy": "2021-01-06T00:24:14.721142Z",
     "iopub.status.idle": "2021-01-06T00:24:14.726683Z",
     "shell.execute_reply": "2021-01-06T00:24:14.725694Z"
    },
    "papermill": {
     "duration": 0.042176,
     "end_time": "2021-01-06T00:24:14.726894",
     "exception": false,
     "start_time": "2021-01-06T00:24:14.684718",
     "status": "completed"
    },
    "tags": []
   },
   "outputs": [],
   "source": [
    "#hide\n",
    "t = everydaycases.stack()"
   ]
  },
  {
   "cell_type": "code",
   "execution_count": 22,
   "metadata": {
    "execution": {
     "iopub.execute_input": "2021-01-06T00:24:14.794101Z",
     "iopub.status.busy": "2021-01-06T00:24:14.793504Z",
     "iopub.status.idle": "2021-01-06T00:24:14.801360Z",
     "shell.execute_reply": "2021-01-06T00:24:14.801810Z"
    },
    "papermill": {
     "duration": 0.044087,
     "end_time": "2021-01-06T00:24:14.801972",
     "exception": false,
     "start_time": "2021-01-06T00:24:14.757885",
     "status": "completed"
    },
    "tags": []
   },
   "outputs": [],
   "source": [
    "#hide\n",
    "g = t.reset_index(['Country/Region'])"
   ]
  },
  {
   "cell_type": "code",
   "execution_count": 23,
   "metadata": {
    "execution": {
     "iopub.execute_input": "2021-01-06T00:24:14.868893Z",
     "iopub.status.busy": "2021-01-06T00:24:14.868139Z",
     "iopub.status.idle": "2021-01-06T00:24:14.869557Z",
     "shell.execute_reply": "2021-01-06T00:24:14.870190Z"
    },
    "papermill": {
     "duration": 0.037567,
     "end_time": "2021-01-06T00:24:14.870383",
     "exception": false,
     "start_time": "2021-01-06T00:24:14.832816",
     "status": "completed"
    },
    "tags": []
   },
   "outputs": [],
   "source": [
    "#hide\n",
    "g.index.name = 'date'"
   ]
  },
  {
   "cell_type": "code",
   "execution_count": 24,
   "metadata": {
    "execution": {
     "iopub.execute_input": "2021-01-06T00:24:14.938342Z",
     "iopub.status.busy": "2021-01-06T00:24:14.937712Z",
     "iopub.status.idle": "2021-01-06T00:24:14.940062Z",
     "shell.execute_reply": "2021-01-06T00:24:14.939576Z"
    },
    "papermill": {
     "duration": 0.037587,
     "end_time": "2021-01-06T00:24:14.940197",
     "exception": false,
     "start_time": "2021-01-06T00:24:14.902610",
     "status": "completed"
    },
    "tags": []
   },
   "outputs": [],
   "source": [
    "# #hide\n",
    "# g = g.reset_index(['date'])"
   ]
  },
  {
   "cell_type": "code",
   "execution_count": 25,
   "metadata": {
    "execution": {
     "iopub.execute_input": "2021-01-06T00:24:15.006765Z",
     "iopub.status.busy": "2021-01-06T00:24:15.006165Z",
     "iopub.status.idle": "2021-01-06T00:24:15.007932Z",
     "shell.execute_reply": "2021-01-06T00:24:15.008406Z"
    },
    "papermill": {
     "duration": 0.037345,
     "end_time": "2021-01-06T00:24:15.008552",
     "exception": false,
     "start_time": "2021-01-06T00:24:14.971207",
     "status": "completed"
    },
    "tags": []
   },
   "outputs": [],
   "source": [
    "#hide\n",
    "# g.head()"
   ]
  },
  {
   "cell_type": "code",
   "execution_count": 26,
   "metadata": {
    "execution": {
     "iopub.execute_input": "2021-01-06T00:24:15.074304Z",
     "iopub.status.busy": "2021-01-06T00:24:15.073702Z",
     "iopub.status.idle": "2021-01-06T00:24:15.075478Z",
     "shell.execute_reply": "2021-01-06T00:24:15.075988Z"
    },
    "papermill": {
     "duration": 0.036578,
     "end_time": "2021-01-06T00:24:15.076135",
     "exception": false,
     "start_time": "2021-01-06T00:24:15.039557",
     "status": "completed"
    },
    "tags": []
   },
   "outputs": [],
   "source": [
    "#hide\n",
    "# g.columns = ['date','country','cases']"
   ]
  },
  {
   "cell_type": "code",
   "execution_count": 27,
   "metadata": {
    "execution": {
     "iopub.execute_input": "2021-01-06T00:24:15.142241Z",
     "iopub.status.busy": "2021-01-06T00:24:15.141574Z",
     "iopub.status.idle": "2021-01-06T00:24:15.143193Z",
     "shell.execute_reply": "2021-01-06T00:24:15.143740Z"
    },
    "papermill": {
     "duration": 0.036983,
     "end_time": "2021-01-06T00:24:15.143890",
     "exception": false,
     "start_time": "2021-01-06T00:24:15.106907",
     "status": "completed"
    },
    "tags": []
   },
   "outputs": [],
   "source": [
    "#hide\n",
    "# g['continent'] = g.country"
   ]
  },
  {
   "cell_type": "code",
   "execution_count": 28,
   "metadata": {
    "execution": {
     "iopub.execute_input": "2021-01-06T00:24:15.211575Z",
     "iopub.status.busy": "2021-01-06T00:24:15.210930Z",
     "iopub.status.idle": "2021-01-06T00:24:15.213325Z",
     "shell.execute_reply": "2021-01-06T00:24:15.213892Z"
    },
    "papermill": {
     "duration": 0.038869,
     "end_time": "2021-01-06T00:24:15.214043",
     "exception": false,
     "start_time": "2021-01-06T00:24:15.175174",
     "status": "completed"
    },
    "tags": []
   },
   "outputs": [],
   "source": [
    "#hide\n",
    "# cols = list(g.columns.values)"
   ]
  },
  {
   "cell_type": "code",
   "execution_count": 29,
   "metadata": {
    "execution": {
     "iopub.execute_input": "2021-01-06T00:24:15.282124Z",
     "iopub.status.busy": "2021-01-06T00:24:15.281480Z",
     "iopub.status.idle": "2021-01-06T00:24:15.283893Z",
     "shell.execute_reply": "2021-01-06T00:24:15.284401Z"
    },
    "papermill": {
     "duration": 0.039273,
     "end_time": "2021-01-06T00:24:15.284555",
     "exception": false,
     "start_time": "2021-01-06T00:24:15.245282",
     "status": "completed"
    },
    "tags": []
   },
   "outputs": [],
   "source": [
    "#hide\n",
    "# cols.insert(0, cols.pop())"
   ]
  },
  {
   "cell_type": "code",
   "execution_count": 30,
   "metadata": {
    "execution": {
     "iopub.execute_input": "2021-01-06T00:24:15.351890Z",
     "iopub.status.busy": "2021-01-06T00:24:15.351284Z",
     "iopub.status.idle": "2021-01-06T00:24:15.353657Z",
     "shell.execute_reply": "2021-01-06T00:24:15.354222Z"
    },
    "papermill": {
     "duration": 0.038544,
     "end_time": "2021-01-06T00:24:15.354369",
     "exception": false,
     "start_time": "2021-01-06T00:24:15.315825",
     "status": "completed"
    },
    "tags": []
   },
   "outputs": [],
   "source": [
    "#hide\n",
    "# g = g[cols]"
   ]
  },
  {
   "cell_type": "code",
   "execution_count": 31,
   "metadata": {
    "execution": {
     "iopub.execute_input": "2021-01-06T00:24:15.421540Z",
     "iopub.status.busy": "2021-01-06T00:24:15.420820Z",
     "iopub.status.idle": "2021-01-06T00:24:15.423783Z",
     "shell.execute_reply": "2021-01-06T00:24:15.423171Z"
    },
    "papermill": {
     "duration": 0.038852,
     "end_time": "2021-01-06T00:24:15.424022",
     "exception": false,
     "start_time": "2021-01-06T00:24:15.385170",
     "status": "completed"
    },
    "tags": []
   },
   "outputs": [],
   "source": [
    "#hide\n",
    "# g['continent'] = g['continent'].map(mapping['map.continent'])"
   ]
  },
  {
   "cell_type": "code",
   "execution_count": 32,
   "metadata": {
    "execution": {
     "iopub.execute_input": "2021-01-06T00:24:15.491532Z",
     "iopub.status.busy": "2021-01-06T00:24:15.490904Z",
     "iopub.status.idle": "2021-01-06T00:24:15.493155Z",
     "shell.execute_reply": "2021-01-06T00:24:15.492654Z"
    },
    "papermill": {
     "duration": 0.037763,
     "end_time": "2021-01-06T00:24:15.493283",
     "exception": false,
     "start_time": "2021-01-06T00:24:15.455520",
     "status": "completed"
    },
    "tags": []
   },
   "outputs": [],
   "source": [
    "#hide\n",
    "# g.head()"
   ]
  },
  {
   "cell_type": "code",
   "execution_count": 33,
   "metadata": {
    "execution": {
     "iopub.execute_input": "2021-01-06T00:24:15.565587Z",
     "iopub.status.busy": "2021-01-06T00:24:15.564529Z",
     "iopub.status.idle": "2021-01-06T00:24:15.566708Z",
     "shell.execute_reply": "2021-01-06T00:24:15.567570Z"
    },
    "papermill": {
     "duration": 0.043376,
     "end_time": "2021-01-06T00:24:15.567817",
     "exception": false,
     "start_time": "2021-01-06T00:24:15.524441",
     "status": "completed"
    },
    "tags": []
   },
   "outputs": [],
   "source": [
    "# hide\n",
    "# g['date'] = g['date'].astype('datetime64[ns]')"
   ]
  },
  {
   "cell_type": "code",
   "execution_count": 34,
   "metadata": {
    "execution": {
     "iopub.execute_input": "2021-01-06T00:24:15.635881Z",
     "iopub.status.busy": "2021-01-06T00:24:15.635272Z",
     "iopub.status.idle": "2021-01-06T00:24:15.638172Z",
     "shell.execute_reply": "2021-01-06T00:24:15.638733Z"
    },
    "papermill": {
     "duration": 0.038756,
     "end_time": "2021-01-06T00:24:15.638878",
     "exception": false,
     "start_time": "2021-01-06T00:24:15.600122",
     "status": "completed"
    },
    "tags": []
   },
   "outputs": [],
   "source": [
    "#hide\n",
    "# g['date'] = g.date.dt.dayofyear"
   ]
  },
  {
   "cell_type": "code",
   "execution_count": 35,
   "metadata": {
    "execution": {
     "iopub.execute_input": "2021-01-06T00:24:15.705640Z",
     "iopub.status.busy": "2021-01-06T00:24:15.705045Z",
     "iopub.status.idle": "2021-01-06T00:24:15.707333Z",
     "shell.execute_reply": "2021-01-06T00:24:15.707886Z"
    },
    "papermill": {
     "duration": 0.037891,
     "end_time": "2021-01-06T00:24:15.708034",
     "exception": false,
     "start_time": "2021-01-06T00:24:15.670143",
     "status": "completed"
    },
    "tags": []
   },
   "outputs": [],
   "source": [
    "#hide\n",
    "# g = g.rename(columns= {'continent':'group','country':'name','cases':'value'})"
   ]
  },
  {
   "cell_type": "code",
   "execution_count": 36,
   "metadata": {
    "execution": {
     "iopub.execute_input": "2021-01-06T00:24:15.774349Z",
     "iopub.status.busy": "2021-01-06T00:24:15.773751Z",
     "iopub.status.idle": "2021-01-06T00:24:15.776058Z",
     "shell.execute_reply": "2021-01-06T00:24:15.775548Z"
    },
    "papermill": {
     "duration": 0.037072,
     "end_time": "2021-01-06T00:24:15.776186",
     "exception": false,
     "start_time": "2021-01-06T00:24:15.739114",
     "status": "completed"
    },
    "tags": []
   },
   "outputs": [],
   "source": [
    "#hide\n",
    "# cols = ['name','group','day','value']"
   ]
  },
  {
   "cell_type": "code",
   "execution_count": 37,
   "metadata": {
    "execution": {
     "iopub.execute_input": "2021-01-06T00:24:15.841911Z",
     "iopub.status.busy": "2021-01-06T00:24:15.841299Z",
     "iopub.status.idle": "2021-01-06T00:24:15.843856Z",
     "shell.execute_reply": "2021-01-06T00:24:15.843047Z"
    },
    "papermill": {
     "duration": 0.037119,
     "end_time": "2021-01-06T00:24:15.843994",
     "exception": false,
     "start_time": "2021-01-06T00:24:15.806875",
     "status": "completed"
    },
    "tags": []
   },
   "outputs": [],
   "source": [
    "#hide\n",
    "# g.rename(columns= {'date':'day'},inplace = True)"
   ]
  },
  {
   "cell_type": "code",
   "execution_count": 38,
   "metadata": {
    "execution": {
     "iopub.execute_input": "2021-01-06T00:24:15.912284Z",
     "iopub.status.busy": "2021-01-06T00:24:15.911684Z",
     "iopub.status.idle": "2021-01-06T00:24:15.914183Z",
     "shell.execute_reply": "2021-01-06T00:24:15.914741Z"
    },
    "papermill": {
     "duration": 0.039619,
     "end_time": "2021-01-06T00:24:15.914883",
     "exception": false,
     "start_time": "2021-01-06T00:24:15.875264",
     "status": "completed"
    },
    "tags": []
   },
   "outputs": [],
   "source": [
    "#hide\n",
    "# g = g[cols]"
   ]
  },
  {
   "cell_type": "code",
   "execution_count": 39,
   "metadata": {
    "execution": {
     "iopub.execute_input": "2021-01-06T00:24:15.982057Z",
     "iopub.status.busy": "2021-01-06T00:24:15.981461Z",
     "iopub.status.idle": "2021-01-06T00:24:15.984088Z",
     "shell.execute_reply": "2021-01-06T00:24:15.984689Z"
    },
    "papermill": {
     "duration": 0.038702,
     "end_time": "2021-01-06T00:24:15.984838",
     "exception": false,
     "start_time": "2021-01-06T00:24:15.946136",
     "status": "completed"
    },
    "tags": []
   },
   "outputs": [],
   "source": [
    "# #hide\n",
    "# g = g[g.group.notna()]"
   ]
  },
  {
   "cell_type": "code",
   "execution_count": 40,
   "metadata": {
    "execution": {
     "iopub.execute_input": "2021-01-06T00:24:16.057919Z",
     "iopub.status.busy": "2021-01-06T00:24:16.057305Z",
     "iopub.status.idle": "2021-01-06T00:24:16.059498Z",
     "shell.execute_reply": "2021-01-06T00:24:16.059948Z"
    },
    "papermill": {
     "duration": 0.040367,
     "end_time": "2021-01-06T00:24:16.060094",
     "exception": false,
     "start_time": "2021-01-06T00:24:16.019727",
     "status": "completed"
    },
    "tags": []
   },
   "outputs": [],
   "source": [
    "# #hide\n",
    "# colors = dict(zip(\n",
    "#     [\"Oceania\", \"Europe\", \"Asia\", \"South America\", \"Middle East\", \"North America\", \"Africa\"],\n",
    "#     [\"#adb0ff\", \"#ffb3ff\", \"#90d595\", \"#e48381\", \"#aafbff\", \"#f7bb5f\", \"#eafb50\"]\n",
    "# ))\n",
    "# group_lk = g.set_index('name')['group'].to_dict()"
   ]
  },
  {
   "cell_type": "code",
   "execution_count": null,
   "metadata": {
    "papermill": {
     "duration": 0.030959,
     "end_time": "2021-01-06T00:24:16.121702",
     "exception": false,
     "start_time": "2021-01-06T00:24:16.090743",
     "status": "completed"
    },
    "tags": []
   },
   "outputs": [],
   "source": []
  },
  {
   "cell_type": "code",
   "execution_count": 41,
   "metadata": {
    "execution": {
     "iopub.execute_input": "2021-01-06T00:24:16.188959Z",
     "iopub.status.busy": "2021-01-06T00:24:16.188349Z",
     "iopub.status.idle": "2021-01-06T00:24:16.191527Z",
     "shell.execute_reply": "2021-01-06T00:24:16.190997Z"
    },
    "papermill": {
     "duration": 0.039395,
     "end_time": "2021-01-06T00:24:16.191658",
     "exception": false,
     "start_time": "2021-01-06T00:24:16.152263",
     "status": "completed"
    },
    "tags": []
   },
   "outputs": [],
   "source": [
    "# #hide\n",
    "# fig, ax = plt.subplots(figsize=(15, 8))\n",
    "\n",
    "# def draw_barchart(current_day):\n",
    "#     dff = g[g['day'].eq(current_day)].sort_values(by='value', ascending=True).tail(10)\n",
    "#     ax.clear()\n",
    "#     ax.barh(dff['name'], dff['value'], color=[colors[group_lk[x]] for x in dff['name']])\n",
    "#     dx = dff['value'].max() / 200\n",
    "    \n",
    "#     for i, (value, name) in enumerate(zip(dff['value'], dff['name'])):\n",
    "#         ax.text(value-dx, i,     name,           size=14, weight=600, ha='right', va='bottom')\n",
    "#         ax.text(value-dx, i-.25, group_lk[name], size=10, color='#444444', ha='right', va='baseline')\n",
    "#         ax.text(value+dx, i,     f'{value:,.0f}',  size=14, ha='left',  va='center')\n",
    "#     ax.text(1, 0.4, current_day, transform=ax.transAxes, color='#777777', size=46, ha='right', weight=800)\n",
    "#     ax.text(0, 1.06, 'Population (thousands)', transform=ax.transAxes, size=12, color='#777777')\n",
    "#     ax.xaxis.set_major_formatter(ticker.StrMethodFormatter('{x:,.0f}'))\n",
    "#     ax.xaxis.set_ticks_position('top')\n",
    "#     ax.tick_params(axis='x', colors='#777777', labelsize=12)\n",
    "#     ax.set_yticks([])\n",
    "#     ax.margins(0, 0.01)\n",
    "#     ax.grid(which='major', axis='x', linestyle='-')\n",
    "#     ax.set_axisbelow(True)\n",
    "    \n",
    "#     ax.text(0, 1.15, 'Coronavirus',\n",
    "#             transform=ax.transAxes, size=24, weight=600, ha='left', va='top')\n",
    "# #     ax.text(1, 0, 'by @pratapvardhan; credit @jburnmurdoch', transform=ax.transAxes, color='#777777', ha='right',\n",
    "# #             bbox=dict(facecolor='white', alpha=0.8, edgecolor='white'))\n",
    "#     plt.box(False)"
   ]
  },
  {
   "cell_type": "code",
   "execution_count": 42,
   "metadata": {
    "execution": {
     "iopub.execute_input": "2021-01-06T00:24:16.258241Z",
     "iopub.status.busy": "2021-01-06T00:24:16.257649Z",
     "iopub.status.idle": "2021-01-06T00:24:16.260066Z",
     "shell.execute_reply": "2021-01-06T00:24:16.260618Z"
    },
    "papermill": {
     "duration": 0.038434,
     "end_time": "2021-01-06T00:24:16.260757",
     "exception": false,
     "start_time": "2021-01-06T00:24:16.222323",
     "status": "completed"
    },
    "tags": []
   },
   "outputs": [],
   "source": [
    "# #hide_input\n",
    "# fig, ax = plt.subplots(figsize=(15, 8))\n",
    "# animator = animation.FuncAnimation(fig, draw_barchart, frames=range(g.day.values.min(), g.day.values.max()))\n",
    "# HTML(animator.to_jshtml())\n",
    "# # or use animator.to_html5_video() or animator.save() "
   ]
  },
  {
   "cell_type": "code",
   "execution_count": null,
   "metadata": {
    "papermill": {
     "duration": 0.030645,
     "end_time": "2021-01-06T00:24:16.321992",
     "exception": false,
     "start_time": "2021-01-06T00:24:16.291347",
     "status": "completed"
    },
    "tags": []
   },
   "outputs": [],
   "source": []
  },
  {
   "cell_type": "code",
   "execution_count": null,
   "metadata": {
    "papermill": {
     "duration": 0.03066,
     "end_time": "2021-01-06T00:24:16.383233",
     "exception": false,
     "start_time": "2021-01-06T00:24:16.352573",
     "status": "completed"
    },
    "tags": []
   },
   "outputs": [],
   "source": []
  },
  {
   "cell_type": "code",
   "execution_count": null,
   "metadata": {
    "papermill": {
     "duration": 0.030972,
     "end_time": "2021-01-06T00:24:16.444965",
     "exception": false,
     "start_time": "2021-01-06T00:24:16.413993",
     "status": "completed"
    },
    "tags": []
   },
   "outputs": [],
   "source": []
  }
 ],
 "metadata": {
  "kernelspec": {
   "display_name": "Python 3",
   "language": "python",
   "name": "python3"
  },
  "language_info": {
   "codemirror_mode": {
    "name": "ipython",
    "version": 3
   },
   "file_extension": ".py",
   "mimetype": "text/x-python",
   "name": "python",
   "nbconvert_exporter": "python",
   "pygments_lexer": "ipython3",
   "version": "3.6.12"
  },
  "papermill": {
   "duration": 7.358678,
   "end_time": "2021-01-06T00:24:17.660081",
   "environment_variables": {},
   "exception": null,
   "input_path": "2020-03-21-covid19exp.ipynb",
   "output_path": "2020-03-21-covid19exp.ipynb",
   "parameters": {},
   "start_time": "2021-01-06T00:24:10.301403",
   "version": "2.0.0"
  }
 },
 "nbformat": 4,
 "nbformat_minor": 4
}