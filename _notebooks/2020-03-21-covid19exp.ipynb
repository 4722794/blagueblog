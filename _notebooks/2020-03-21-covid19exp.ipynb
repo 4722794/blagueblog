{
 "cells": [
  {
   "cell_type": "markdown",
   "id": "muslim-click",
   "metadata": {
    "papermill": {
     "duration": 0.042029,
     "end_time": "2022-07-16T12:14:16.363563",
     "exception": false,
     "start_time": "2022-07-16T12:14:16.321534",
     "status": "completed"
    },
    "tags": []
   },
   "source": [
    "# COVID-19 Case Race\n",
    "> A race chart to see rising cases around the world\n",
    "\n",
    "- author: Hargun Oberoi\n",
    "- image: images/covid-overview.png\n",
    "- hide: false\n",
    "- badges: false"
   ]
  },
  {
   "cell_type": "code",
   "execution_count": 1,
   "id": "proof-material",
   "metadata": {
    "execution": {
     "iopub.execute_input": "2022-07-16T12:14:16.444366Z",
     "iopub.status.busy": "2022-07-16T12:14:16.443599Z",
     "iopub.status.idle": "2022-07-16T12:14:16.833323Z",
     "shell.execute_reply": "2022-07-16T12:14:16.832688Z"
    },
    "papermill": {
     "duration": 0.434348,
     "end_time": "2022-07-16T12:14:16.833475",
     "exception": false,
     "start_time": "2022-07-16T12:14:16.399127",
     "status": "completed"
    },
    "tags": []
   },
   "outputs": [],
   "source": [
    "#hide\n",
    "import numpy as np\n",
    "import pandas as pd\n",
    "from jinja2 import Template\n",
    "from IPython.display import HTML"
   ]
  },
  {
   "cell_type": "code",
   "execution_count": 2,
   "id": "developed-terminology",
   "metadata": {
    "execution": {
     "iopub.execute_input": "2022-07-16T12:14:16.906242Z",
     "iopub.status.busy": "2022-07-16T12:14:16.905560Z",
     "iopub.status.idle": "2022-07-16T12:14:16.908442Z",
     "shell.execute_reply": "2022-07-16T12:14:16.907884Z"
    },
    "papermill": {
     "duration": 0.040665,
     "end_time": "2022-07-16T12:14:16.908559",
     "exception": false,
     "start_time": "2022-07-16T12:14:16.867894",
     "status": "completed"
    },
    "tags": []
   },
   "outputs": [],
   "source": [
    "#hide\n",
    "\n",
    "# FETCH\n",
    "base_url = 'https://raw.githubusercontent.com/pratapvardhan/notebooks/master/covid19/'\n",
    "paths = {\n",
    "    'mapping': base_url + 'mapping_countries.csv',\n",
    "    'overview': base_url + 'overview.tpl'\n",
    "}"
   ]
  },
  {
   "cell_type": "code",
   "execution_count": 3,
   "id": "dynamic-saver",
   "metadata": {
    "execution": {
     "iopub.execute_input": "2022-07-16T12:14:16.990922Z",
     "iopub.status.busy": "2022-07-16T12:14:16.990173Z",
     "iopub.status.idle": "2022-07-16T12:14:16.994469Z",
     "shell.execute_reply": "2022-07-16T12:14:16.993804Z"
    },
    "papermill": {
     "duration": 0.051969,
     "end_time": "2022-07-16T12:14:16.994585",
     "exception": false,
     "start_time": "2022-07-16T12:14:16.942616",
     "status": "completed"
    },
    "tags": []
   },
   "outputs": [
    {
     "data": {
      "text/plain": [
       "'https://raw.githubusercontent.com/pratapvardhan/notebooks/master/covid19/mapping_countries.csv'"
      ]
     },
     "execution_count": 3,
     "metadata": {},
     "output_type": "execute_result"
    }
   ],
   "source": [
    "#hide\n",
    "paths['mapping']"
   ]
  },
  {
   "cell_type": "code",
   "execution_count": 4,
   "id": "urban-software",
   "metadata": {
    "execution": {
     "iopub.execute_input": "2022-07-16T12:14:17.073398Z",
     "iopub.status.busy": "2022-07-16T12:14:17.072617Z",
     "iopub.status.idle": "2022-07-16T12:14:17.075458Z",
     "shell.execute_reply": "2022-07-16T12:14:17.076100Z"
    },
    "papermill": {
     "duration": 0.045295,
     "end_time": "2022-07-16T12:14:17.076236",
     "exception": false,
     "start_time": "2022-07-16T12:14:17.030941",
     "status": "completed"
    },
    "tags": []
   },
   "outputs": [],
   "source": [
    "#hide\n",
    "def get_mappings(url):\n",
    "    df = pd.read_csv(url)\n",
    "    return {\n",
    "        'df': df,\n",
    "        'replace.country': dict(df.dropna(subset=['Name']).set_index('Country')['Name']),\n",
    "        'map.continent': dict(df.set_index('Name')['Continent'])\n",
    "    }"
   ]
  },
  {
   "cell_type": "code",
   "execution_count": 5,
   "id": "intimate-machinery",
   "metadata": {
    "execution": {
     "iopub.execute_input": "2022-07-16T12:14:17.152532Z",
     "iopub.status.busy": "2022-07-16T12:14:17.151793Z",
     "iopub.status.idle": "2022-07-16T12:14:17.180052Z",
     "shell.execute_reply": "2022-07-16T12:14:17.180573Z"
    },
    "papermill": {
     "duration": 0.070881,
     "end_time": "2022-07-16T12:14:17.180727",
     "exception": false,
     "start_time": "2022-07-16T12:14:17.109846",
     "status": "completed"
    },
    "tags": []
   },
   "outputs": [],
   "source": [
    "#hide\n",
    "mapping = get_mappings(paths['mapping'])"
   ]
  },
  {
   "cell_type": "code",
   "execution_count": 6,
   "id": "certified-tactics",
   "metadata": {
    "execution": {
     "iopub.execute_input": "2022-07-16T12:14:17.258764Z",
     "iopub.status.busy": "2022-07-16T12:14:17.257963Z",
     "iopub.status.idle": "2022-07-16T12:14:17.261250Z",
     "shell.execute_reply": "2022-07-16T12:14:17.260585Z"
    },
    "papermill": {
     "duration": 0.045447,
     "end_time": "2022-07-16T12:14:17.261384",
     "exception": false,
     "start_time": "2022-07-16T12:14:17.215937",
     "status": "completed"
    },
    "tags": []
   },
   "outputs": [],
   "source": [
    "#hide\n",
    "def get_template(path):\n",
    "    from urllib.parse import urlparse\n",
    "    if bool(urlparse(path).netloc):\n",
    "        from urllib.request import urlopen\n",
    "        return urlopen(path).read().decode('utf8')\n",
    "    return open(path).read()"
   ]
  },
  {
   "cell_type": "code",
   "execution_count": 7,
   "id": "realistic-blast",
   "metadata": {
    "execution": {
     "iopub.execute_input": "2022-07-16T12:14:17.341834Z",
     "iopub.status.busy": "2022-07-16T12:14:17.341111Z",
     "iopub.status.idle": "2022-07-16T12:14:17.344060Z",
     "shell.execute_reply": "2022-07-16T12:14:17.343346Z"
    },
    "papermill": {
     "duration": 0.045479,
     "end_time": "2022-07-16T12:14:17.344191",
     "exception": false,
     "start_time": "2022-07-16T12:14:17.298712",
     "status": "completed"
    },
    "tags": []
   },
   "outputs": [],
   "source": [
    "#hide\n",
    "def get_frame(name):\n",
    "    url = (\n",
    "        'https://raw.githubusercontent.com/CSSEGISandData/COVID-19/master/csse_covid_19_data/'\n",
    "        f'csse_covid_19_time_series/time_series_covid19_{name}_global.csv')\n",
    "    df = pd.read_csv(url)\n",
    "    # rename countries\n",
    "    df['Country/Region'] = df['Country/Region'].replace(mapping['replace.country'])\n",
    "    return df"
   ]
  },
  {
   "cell_type": "code",
   "execution_count": 8,
   "id": "affiliated-characterization",
   "metadata": {
    "execution": {
     "iopub.execute_input": "2022-07-16T12:14:17.427546Z",
     "iopub.status.busy": "2022-07-16T12:14:17.426438Z",
     "iopub.status.idle": "2022-07-16T12:14:17.429360Z",
     "shell.execute_reply": "2022-07-16T12:14:17.429954Z"
    },
    "papermill": {
     "duration": 0.044414,
     "end_time": "2022-07-16T12:14:17.430089",
     "exception": false,
     "start_time": "2022-07-16T12:14:17.385675",
     "status": "completed"
    },
    "tags": []
   },
   "outputs": [],
   "source": [
    "#hide\n",
    "def get_dates(df):\n",
    "    dt_cols = df.columns[~df.columns.isin(['Province/State', 'Country/Region', 'Lat', 'Long'])]\n",
    "    LAST_DATE_I = -1\n",
    "    # sometimes last column may be empty, then go backwards\n",
    "    for i in range(-1, -len(dt_cols), -1):\n",
    "        if not df[dt_cols[i]].fillna(0).eq(0).all():\n",
    "            LAST_DATE_I = i\n",
    "            break\n",
    "    return LAST_DATE_I, dt_cols"
   ]
  },
  {
   "cell_type": "code",
   "execution_count": 9,
   "id": "recent-optimization",
   "metadata": {
    "execution": {
     "iopub.execute_input": "2022-07-16T12:14:17.505775Z",
     "iopub.status.busy": "2022-07-16T12:14:17.505070Z",
     "iopub.status.idle": "2022-07-16T12:14:17.991868Z",
     "shell.execute_reply": "2022-07-16T12:14:17.991259Z"
    },
    "papermill": {
     "duration": 0.52615,
     "end_time": "2022-07-16T12:14:17.992007",
     "exception": false,
     "start_time": "2022-07-16T12:14:17.465857",
     "status": "completed"
    },
    "tags": []
   },
   "outputs": [],
   "source": [
    "#hide\n",
    "COL_REGION = 'Country/Region'\n",
    "# Confirmed, Recovered, Deaths\n",
    "df = get_frame('confirmed')\n",
    "# dft_: timeseries, dfc_: today country agg\n",
    "dft_cases = df\n",
    "dft_deaths = get_frame('deaths')\n",
    "dft_recovered = get_frame('recovered')\n",
    "LAST_DATE_I, dt_cols = get_dates(df)"
   ]
  },
  {
   "cell_type": "code",
   "execution_count": 10,
   "id": "absolute-copper",
   "metadata": {
    "execution": {
     "iopub.execute_input": "2022-07-16T12:14:18.065859Z",
     "iopub.status.busy": "2022-07-16T12:14:18.065141Z",
     "iopub.status.idle": "2022-07-16T12:14:18.074147Z",
     "shell.execute_reply": "2022-07-16T12:14:18.075193Z"
    },
    "papermill": {
     "duration": 0.048505,
     "end_time": "2022-07-16T12:14:18.075375",
     "exception": false,
     "start_time": "2022-07-16T12:14:18.026870",
     "status": "completed"
    },
    "tags": []
   },
   "outputs": [],
   "source": [
    "#hide\n",
    "LAST_DATE_I, dt_cols = get_dates(df)\n",
    "dt_today =dt_cols[LAST_DATE_I]\n",
    "# dt_5day = dt_cols[LAST_DATE_I - 5]\n",
    "dt_yday = dt_cols[LAST_DATE_I - 1]"
   ]
  },
  {
   "cell_type": "code",
   "execution_count": 11,
   "id": "restricted-sheriff",
   "metadata": {
    "execution": {
     "iopub.execute_input": "2022-07-16T12:14:18.154392Z",
     "iopub.status.busy": "2022-07-16T12:14:18.153493Z",
     "iopub.status.idle": "2022-07-16T12:14:18.161815Z",
     "shell.execute_reply": "2022-07-16T12:14:18.161116Z"
    },
    "papermill": {
     "duration": 0.050503,
     "end_time": "2022-07-16T12:14:18.161951",
     "exception": false,
     "start_time": "2022-07-16T12:14:18.111448",
     "status": "completed"
    },
    "tags": []
   },
   "outputs": [],
   "source": [
    "#hide\n",
    "dfc_cases = dft_cases.groupby(COL_REGION)[dt_today].sum()\n",
    "dfc_deaths = dft_deaths.groupby(COL_REGION)[dt_today].sum()\n",
    "# dfp_cases = dft_cases.groupby(COL_REGION)[dt_5day].sum()\n",
    "# dfp_deaths = dft_deaths.groupby(COL_REGION)[dt_5day].sum()\n",
    "dfp_cases = dft_cases.groupby(COL_REGION)[dt_yday].sum()\n",
    "dfp_deaths = dft_deaths.groupby(COL_REGION)[dt_yday].sum()"
   ]
  },
  {
   "cell_type": "code",
   "execution_count": 12,
   "id": "deluxe-hepatitis",
   "metadata": {
    "execution": {
     "iopub.execute_input": "2022-07-16T12:14:18.240288Z",
     "iopub.status.busy": "2022-07-16T12:14:18.239476Z",
     "iopub.status.idle": "2022-07-16T12:14:18.245660Z",
     "shell.execute_reply": "2022-07-16T12:14:18.246257Z"
    },
    "papermill": {
     "duration": 0.048205,
     "end_time": "2022-07-16T12:14:18.246398",
     "exception": false,
     "start_time": "2022-07-16T12:14:18.198193",
     "status": "completed"
    },
    "tags": []
   },
   "outputs": [],
   "source": [
    "#hide\n",
    "df_table = (pd.DataFrame(dict(Cases = dfc_cases, Deaths = dfc_deaths, PCases = dfp_cases, PDeaths = dfp_deaths))\n",
    "            .sort_values(by = ['Cases','Deaths'], ascending = [False, False])\n",
    "            .reset_index())"
   ]
  },
  {
   "cell_type": "code",
   "execution_count": 13,
   "id": "educational-chancellor",
   "metadata": {
    "execution": {
     "iopub.execute_input": "2022-07-16T12:14:18.334614Z",
     "iopub.status.busy": "2022-07-16T12:14:18.333871Z",
     "iopub.status.idle": "2022-07-16T12:14:18.344894Z",
     "shell.execute_reply": "2022-07-16T12:14:18.344181Z"
    },
    "papermill": {
     "duration": 0.064049,
     "end_time": "2022-07-16T12:14:18.345015",
     "exception": false,
     "start_time": "2022-07-16T12:14:18.280966",
     "status": "completed"
    },
    "tags": []
   },
   "outputs": [
    {
     "data": {
      "text/html": [
       "<div>\n",
       "<style scoped>\n",
       "    .dataframe tbody tr th:only-of-type {\n",
       "        vertical-align: middle;\n",
       "    }\n",
       "\n",
       "    .dataframe tbody tr th {\n",
       "        vertical-align: top;\n",
       "    }\n",
       "\n",
       "    .dataframe thead th {\n",
       "        text-align: right;\n",
       "    }\n",
       "</style>\n",
       "<table border=\"1\" class=\"dataframe\">\n",
       "  <thead>\n",
       "    <tr style=\"text-align: right;\">\n",
       "      <th></th>\n",
       "      <th>Country/Region</th>\n",
       "      <th>Cases</th>\n",
       "      <th>Deaths</th>\n",
       "      <th>PCases</th>\n",
       "      <th>PDeaths</th>\n",
       "      <th>Cases (+)</th>\n",
       "      <th>Deaths (+)</th>\n",
       "      <th>Fatality Rate</th>\n",
       "      <th>Continent</th>\n",
       "    </tr>\n",
       "  </thead>\n",
       "  <tbody>\n",
       "    <tr>\n",
       "      <th>0</th>\n",
       "      <td>US</td>\n",
       "      <td>89453076</td>\n",
       "      <td>1023736</td>\n",
       "      <td>89294234</td>\n",
       "      <td>1023256</td>\n",
       "      <td>158842</td>\n",
       "      <td>480</td>\n",
       "      <td>1.14</td>\n",
       "      <td>North America</td>\n",
       "    </tr>\n",
       "    <tr>\n",
       "      <th>1</th>\n",
       "      <td>India</td>\n",
       "      <td>43730071</td>\n",
       "      <td>525660</td>\n",
       "      <td>43710027</td>\n",
       "      <td>525604</td>\n",
       "      <td>20044</td>\n",
       "      <td>56</td>\n",
       "      <td>1.20</td>\n",
       "      <td>Asia</td>\n",
       "    </tr>\n",
       "    <tr>\n",
       "      <th>2</th>\n",
       "      <td>Brazil</td>\n",
       "      <td>33250117</td>\n",
       "      <td>675090</td>\n",
       "      <td>33142158</td>\n",
       "      <td>674779</td>\n",
       "      <td>107959</td>\n",
       "      <td>311</td>\n",
       "      <td>2.03</td>\n",
       "      <td>South America</td>\n",
       "    </tr>\n",
       "    <tr>\n",
       "      <th>3</th>\n",
       "      <td>France</td>\n",
       "      <td>32881809</td>\n",
       "      <td>151454</td>\n",
       "      <td>32881645</td>\n",
       "      <td>151454</td>\n",
       "      <td>164</td>\n",
       "      <td>0</td>\n",
       "      <td>0.46</td>\n",
       "      <td>Europe</td>\n",
       "    </tr>\n",
       "    <tr>\n",
       "      <th>4</th>\n",
       "      <td>Germany</td>\n",
       "      <td>29692989</td>\n",
       "      <td>142533</td>\n",
       "      <td>29569943</td>\n",
       "      <td>142399</td>\n",
       "      <td>123046</td>\n",
       "      <td>134</td>\n",
       "      <td>0.48</td>\n",
       "      <td>Europe</td>\n",
       "    </tr>\n",
       "  </tbody>\n",
       "</table>\n",
       "</div>"
      ],
      "text/plain": [
       "  Country/Region     Cases   Deaths    PCases  PDeaths  Cases (+)  Deaths (+)  \\\n",
       "0             US  89453076  1023736  89294234  1023256     158842         480   \n",
       "1          India  43730071   525660  43710027   525604      20044          56   \n",
       "2         Brazil  33250117   675090  33142158   674779     107959         311   \n",
       "3         France  32881809   151454  32881645   151454        164           0   \n",
       "4        Germany  29692989   142533  29569943   142399     123046         134   \n",
       "\n",
       "   Fatality Rate      Continent  \n",
       "0           1.14  North America  \n",
       "1           1.20           Asia  \n",
       "2           2.03  South America  \n",
       "3           0.46         Europe  \n",
       "4           0.48         Europe  "
      ]
     },
     "execution_count": 13,
     "metadata": {},
     "output_type": "execute_result"
    }
   ],
   "source": [
    "#hide\n",
    "for c in 'Cases, Deaths'.split(', '):\n",
    "    df_table[f'{c} (+)'] = (df_table[c] - df_table[f'P{c}']).clip(0)\n",
    "    #Clip ça veut dire, les chiffres negatif sont interdit\n",
    "df_table['Fatality Rate'] = (100* df_table['Deaths']/ df_table['Cases']).round(2)\n",
    "df_table['Continent'] = df_table['Country/Region'].map(mapping['map.continent'])\n",
    "df_table.head(5)"
   ]
  },
  {
   "cell_type": "code",
   "execution_count": 14,
   "id": "aboriginal-bulgaria",
   "metadata": {
    "execution": {
     "iopub.execute_input": "2022-07-16T12:14:18.422460Z",
     "iopub.status.busy": "2022-07-16T12:14:18.421697Z",
     "iopub.status.idle": "2022-07-16T12:14:18.425340Z",
     "shell.execute_reply": "2022-07-16T12:14:18.424715Z"
    },
    "papermill": {
     "duration": 0.04442,
     "end_time": "2022-07-16T12:14:18.425474",
     "exception": false,
     "start_time": "2022-07-16T12:14:18.381054",
     "status": "completed"
    },
    "tags": []
   },
   "outputs": [],
   "source": [
    "#hide\n",
    "#delete problematic countries from table\n",
    "df_table = df_table[~df_table['Country/Region'].isin(['Cape Verde', 'Cruise Ship', 'Kosovo'])]"
   ]
  },
  {
   "cell_type": "code",
   "execution_count": 15,
   "id": "fantastic-effect",
   "metadata": {
    "execution": {
     "iopub.execute_input": "2022-07-16T12:14:18.503590Z",
     "iopub.status.busy": "2022-07-16T12:14:18.502844Z",
     "iopub.status.idle": "2022-07-16T12:14:18.524264Z",
     "shell.execute_reply": "2022-07-16T12:14:18.523514Z"
    },
    "papermill": {
     "duration": 0.064119,
     "end_time": "2022-07-16T12:14:18.524387",
     "exception": false,
     "start_time": "2022-07-16T12:14:18.460268",
     "status": "completed"
    },
    "tags": []
   },
   "outputs": [
    {
     "data": {
      "text/html": [
       "<div>\n",
       "<style scoped>\n",
       "    .dataframe tbody tr th:only-of-type {\n",
       "        vertical-align: middle;\n",
       "    }\n",
       "\n",
       "    .dataframe tbody tr th {\n",
       "        vertical-align: top;\n",
       "    }\n",
       "\n",
       "    .dataframe thead th {\n",
       "        text-align: right;\n",
       "    }\n",
       "</style>\n",
       "<table border=\"1\" class=\"dataframe\">\n",
       "  <thead>\n",
       "    <tr style=\"text-align: right;\">\n",
       "      <th></th>\n",
       "      <th>Country/Region</th>\n",
       "      <th>Cases</th>\n",
       "      <th>Deaths</th>\n",
       "      <th>PCases</th>\n",
       "      <th>PDeaths</th>\n",
       "      <th>Cases (+)</th>\n",
       "      <th>Deaths (+)</th>\n",
       "      <th>Fatality Rate</th>\n",
       "      <th>Continent</th>\n",
       "    </tr>\n",
       "  </thead>\n",
       "  <tbody>\n",
       "    <tr>\n",
       "      <th>0</th>\n",
       "      <td>US</td>\n",
       "      <td>89453076</td>\n",
       "      <td>1023736</td>\n",
       "      <td>89294234</td>\n",
       "      <td>1023256</td>\n",
       "      <td>158842</td>\n",
       "      <td>480</td>\n",
       "      <td>1.1</td>\n",
       "      <td>North America</td>\n",
       "    </tr>\n",
       "    <tr>\n",
       "      <th>1</th>\n",
       "      <td>India</td>\n",
       "      <td>43730071</td>\n",
       "      <td>525660</td>\n",
       "      <td>43710027</td>\n",
       "      <td>525604</td>\n",
       "      <td>20044</td>\n",
       "      <td>56</td>\n",
       "      <td>1.2</td>\n",
       "      <td>Asia</td>\n",
       "    </tr>\n",
       "    <tr>\n",
       "      <th>2</th>\n",
       "      <td>Brazil</td>\n",
       "      <td>33250117</td>\n",
       "      <td>675090</td>\n",
       "      <td>33142158</td>\n",
       "      <td>674779</td>\n",
       "      <td>107959</td>\n",
       "      <td>311</td>\n",
       "      <td>2.0</td>\n",
       "      <td>South America</td>\n",
       "    </tr>\n",
       "    <tr>\n",
       "      <th>3</th>\n",
       "      <td>France</td>\n",
       "      <td>32881809</td>\n",
       "      <td>151454</td>\n",
       "      <td>32881645</td>\n",
       "      <td>151454</td>\n",
       "      <td>164</td>\n",
       "      <td>0</td>\n",
       "      <td>0.5</td>\n",
       "      <td>Europe</td>\n",
       "    </tr>\n",
       "    <tr>\n",
       "      <th>4</th>\n",
       "      <td>Germany</td>\n",
       "      <td>29692989</td>\n",
       "      <td>142533</td>\n",
       "      <td>29569943</td>\n",
       "      <td>142399</td>\n",
       "      <td>123046</td>\n",
       "      <td>134</td>\n",
       "      <td>0.5</td>\n",
       "      <td>Europe</td>\n",
       "    </tr>\n",
       "  </tbody>\n",
       "</table>\n",
       "</div>"
      ],
      "text/plain": [
       "  Country/Region     Cases   Deaths    PCases  PDeaths  Cases (+)  Deaths (+)  \\\n",
       "0             US  89453076  1023736  89294234  1023256     158842         480   \n",
       "1          India  43730071   525660  43710027   525604      20044          56   \n",
       "2         Brazil  33250117   675090  33142158   674779     107959         311   \n",
       "3         France  32881809   151454  32881645   151454        164           0   \n",
       "4        Germany  29692989   142533  29569943   142399     123046         134   \n",
       "\n",
       "   Fatality Rate      Continent  \n",
       "0            1.1  North America  \n",
       "1            1.2           Asia  \n",
       "2            2.0  South America  \n",
       "3            0.5         Europe  \n",
       "4            0.5         Europe  "
      ]
     },
     "execution_count": 15,
     "metadata": {},
     "output_type": "execute_result"
    }
   ],
   "source": [
    "#hide\n",
    "df_table = (pd.DataFrame(dict(Cases=dfc_cases, Deaths=dfc_deaths, PCases=dfp_cases, PDeaths=dfp_deaths))\n",
    "             .sort_values(by=['Cases', 'Deaths'], ascending=[False, False])\n",
    "             .reset_index())\n",
    "df_table.rename(columns={'index': 'Country/Region'}, inplace=True)\n",
    "for c in 'Cases, Deaths'.split(', '):\n",
    "    df_table[f'{c} (+)'] = (df_table[c] - df_table[f'P{c}']).clip(0)  # DATA BUG\n",
    "df_table['Fatality Rate'] = (100 * df_table['Deaths'] / df_table['Cases']).round(1)\n",
    "df_table['Continent'] = df_table['Country/Region'].map(mapping['map.continent'])\n",
    "df_table.head(5)"
   ]
  },
  {
   "cell_type": "code",
   "execution_count": 16,
   "id": "fewer-occasion",
   "metadata": {
    "execution": {
     "iopub.execute_input": "2022-07-16T12:14:18.600562Z",
     "iopub.status.busy": "2022-07-16T12:14:18.599868Z",
     "iopub.status.idle": "2022-07-16T12:14:18.603895Z",
     "shell.execute_reply": "2022-07-16T12:14:18.603334Z"
    },
    "papermill": {
     "duration": 0.044371,
     "end_time": "2022-07-16T12:14:18.604014",
     "exception": false,
     "start_time": "2022-07-16T12:14:18.559643",
     "status": "completed"
    },
    "tags": []
   },
   "outputs": [],
   "source": [
    "#hide\n",
    "#delete problematic countries from table\n",
    "df_table = df_table[~df_table['Country/Region'].isin(['Cape Verde', 'Cruise Ship', 'Kosovo'])]"
   ]
  },
  {
   "cell_type": "code",
   "execution_count": 17,
   "id": "related-center",
   "metadata": {
    "execution": {
     "iopub.execute_input": "2022-07-16T12:14:18.692116Z",
     "iopub.status.busy": "2022-07-16T12:14:18.691401Z",
     "iopub.status.idle": "2022-07-16T12:14:18.693863Z",
     "shell.execute_reply": "2022-07-16T12:14:18.694529Z"
    },
    "papermill": {
     "duration": 0.056884,
     "end_time": "2022-07-16T12:14:18.694669",
     "exception": false,
     "start_time": "2022-07-16T12:14:18.637785",
     "status": "completed"
    },
    "tags": []
   },
   "outputs": [],
   "source": [
    "#hide\n",
    "metrics = [df_table.columns[index] for index in [1,2,5,6]]\n",
    "# s_china = df_table[df_table['Country/Region'].eq('China')][metrics].sum().add_prefix('China ')\n",
    "s_us = df_table[df_table['Country/Region'].eq('US')][metrics].sum().add_prefix('US ')\n",
    "s_eu = df_table[df_table['Continent'].eq('Europe')][metrics].sum().add_prefix('EU ')\n",
    "s_ind = df_table[df_table['Country/Region'].eq('India')][metrics].sum().add_prefix('India ')\n",
    "summary = {'updated': pd.to_datetime(dt_today), 'since': pd.to_datetime(dt_yday)}\n",
    "summary = {'updated': pd.to_datetime(dt_today), 'since': pd.to_datetime(dt_yday)}\n",
    "summary = {**summary, **df_table[metrics].sum(), **s_ind, **s_us, **s_eu}"
   ]
  },
  {
   "cell_type": "code",
   "execution_count": 18,
   "id": "engaging-syndrome",
   "metadata": {
    "execution": {
     "iopub.execute_input": "2022-07-16T12:14:18.777017Z",
     "iopub.status.busy": "2022-07-16T12:14:18.776249Z",
     "iopub.status.idle": "2022-07-16T12:14:18.790662Z",
     "shell.execute_reply": "2022-07-16T12:14:18.789987Z"
    },
    "papermill": {
     "duration": 0.061183,
     "end_time": "2022-07-16T12:14:18.790839",
     "exception": false,
     "start_time": "2022-07-16T12:14:18.729656",
     "status": "completed"
    },
    "tags": []
   },
   "outputs": [],
   "source": [
    "#hide\n",
    "dft_ct_new_cases = dft_cases.groupby(COL_REGION)[dt_cols].sum().diff(axis=1).fillna(0).astype(int)"
   ]
  },
  {
   "cell_type": "code",
   "execution_count": 19,
   "id": "neutral-assignment",
   "metadata": {
    "execution": {
     "iopub.execute_input": "2022-07-16T12:14:18.866930Z",
     "iopub.status.busy": "2022-07-16T12:14:18.866109Z",
     "iopub.status.idle": "2022-07-16T12:14:18.872373Z",
     "shell.execute_reply": "2022-07-16T12:14:18.871855Z"
    },
    "papermill": {
     "duration": 0.047122,
     "end_time": "2022-07-16T12:14:18.872496",
     "exception": false,
     "start_time": "2022-07-16T12:14:18.825374",
     "status": "completed"
    },
    "tags": []
   },
   "outputs": [],
   "source": [
    "#hide\n",
    "everydaycases = dft_ct_new_cases.cumsum(axis=1)"
   ]
  },
  {
   "cell_type": "code",
   "execution_count": 20,
   "id": "parliamentary-calgary",
   "metadata": {
    "execution": {
     "iopub.execute_input": "2022-07-16T12:14:18.947002Z",
     "iopub.status.busy": "2022-07-16T12:14:18.946149Z",
     "iopub.status.idle": "2022-07-16T12:14:19.598900Z",
     "shell.execute_reply": "2022-07-16T12:14:19.598188Z"
    },
    "papermill": {
     "duration": 0.691707,
     "end_time": "2022-07-16T12:14:19.599063",
     "exception": false,
     "start_time": "2022-07-16T12:14:18.907356",
     "status": "completed"
    },
    "tags": []
   },
   "outputs": [],
   "source": [
    "#hide\n",
    "import pandas as pd\n",
    "import matplotlib.pyplot as plt\n",
    "import matplotlib.ticker as ticker\n",
    "import matplotlib.animation as animation\n",
    "from IPython.display import HTML"
   ]
  },
  {
   "cell_type": "code",
   "execution_count": 21,
   "id": "lasting-extraction",
   "metadata": {
    "execution": {
     "iopub.execute_input": "2022-07-16T12:14:19.683678Z",
     "iopub.status.busy": "2022-07-16T12:14:19.682935Z",
     "iopub.status.idle": "2022-07-16T12:14:19.690761Z",
     "shell.execute_reply": "2022-07-16T12:14:19.691324Z"
    },
    "papermill": {
     "duration": 0.055157,
     "end_time": "2022-07-16T12:14:19.691464",
     "exception": false,
     "start_time": "2022-07-16T12:14:19.636307",
     "status": "completed"
    },
    "tags": []
   },
   "outputs": [],
   "source": [
    "#hide\n",
    "t = everydaycases.stack()"
   ]
  },
  {
   "cell_type": "code",
   "execution_count": 22,
   "id": "premier-sleeve",
   "metadata": {
    "execution": {
     "iopub.execute_input": "2022-07-16T12:14:19.767309Z",
     "iopub.status.busy": "2022-07-16T12:14:19.766549Z",
     "iopub.status.idle": "2022-07-16T12:14:19.778972Z",
     "shell.execute_reply": "2022-07-16T12:14:19.779632Z"
    },
    "papermill": {
     "duration": 0.053534,
     "end_time": "2022-07-16T12:14:19.779779",
     "exception": false,
     "start_time": "2022-07-16T12:14:19.726245",
     "status": "completed"
    },
    "tags": []
   },
   "outputs": [],
   "source": [
    "#hide\n",
    "g = t.reset_index(['Country/Region'])"
   ]
  },
  {
   "cell_type": "code",
   "execution_count": 23,
   "id": "distributed-pittsburgh",
   "metadata": {
    "execution": {
     "iopub.execute_input": "2022-07-16T12:14:19.856709Z",
     "iopub.status.busy": "2022-07-16T12:14:19.855932Z",
     "iopub.status.idle": "2022-07-16T12:14:19.858469Z",
     "shell.execute_reply": "2022-07-16T12:14:19.859075Z"
    },
    "papermill": {
     "duration": 0.042478,
     "end_time": "2022-07-16T12:14:19.859211",
     "exception": false,
     "start_time": "2022-07-16T12:14:19.816733",
     "status": "completed"
    },
    "tags": []
   },
   "outputs": [],
   "source": [
    "#hide\n",
    "g.index.name = 'date'"
   ]
  },
  {
   "cell_type": "code",
   "execution_count": 24,
   "id": "naked-donor",
   "metadata": {
    "execution": {
     "iopub.execute_input": "2022-07-16T12:14:19.938645Z",
     "iopub.status.busy": "2022-07-16T12:14:19.937962Z",
     "iopub.status.idle": "2022-07-16T12:14:19.941516Z",
     "shell.execute_reply": "2022-07-16T12:14:19.940890Z"
    },
    "papermill": {
     "duration": 0.043637,
     "end_time": "2022-07-16T12:14:19.941652",
     "exception": false,
     "start_time": "2022-07-16T12:14:19.898015",
     "status": "completed"
    },
    "tags": []
   },
   "outputs": [],
   "source": [
    "# #hide\n",
    "# g = g.reset_index(['date'])"
   ]
  },
  {
   "cell_type": "code",
   "execution_count": 25,
   "id": "incomplete-mustang",
   "metadata": {
    "execution": {
     "iopub.execute_input": "2022-07-16T12:14:20.031168Z",
     "iopub.status.busy": "2022-07-16T12:14:20.030369Z",
     "iopub.status.idle": "2022-07-16T12:14:20.033082Z",
     "shell.execute_reply": "2022-07-16T12:14:20.033817Z"
    },
    "papermill": {
     "duration": 0.046874,
     "end_time": "2022-07-16T12:14:20.033969",
     "exception": false,
     "start_time": "2022-07-16T12:14:19.987095",
     "status": "completed"
    },
    "tags": []
   },
   "outputs": [],
   "source": [
    "#hide\n",
    "# g.head()"
   ]
  },
  {
   "cell_type": "code",
   "execution_count": 26,
   "id": "specific-kruger",
   "metadata": {
    "execution": {
     "iopub.execute_input": "2022-07-16T12:14:20.116455Z",
     "iopub.status.busy": "2022-07-16T12:14:20.115643Z",
     "iopub.status.idle": "2022-07-16T12:14:20.118721Z",
     "shell.execute_reply": "2022-07-16T12:14:20.118120Z"
    },
    "papermill": {
     "duration": 0.043233,
     "end_time": "2022-07-16T12:14:20.118854",
     "exception": false,
     "start_time": "2022-07-16T12:14:20.075621",
     "status": "completed"
    },
    "tags": []
   },
   "outputs": [],
   "source": [
    "#hide\n",
    "# g.columns = ['date','country','cases']"
   ]
  },
  {
   "cell_type": "code",
   "execution_count": 27,
   "id": "tender-conversion",
   "metadata": {
    "execution": {
     "iopub.execute_input": "2022-07-16T12:14:20.199149Z",
     "iopub.status.busy": "2022-07-16T12:14:20.198387Z",
     "iopub.status.idle": "2022-07-16T12:14:20.201575Z",
     "shell.execute_reply": "2022-07-16T12:14:20.200973Z"
    },
    "papermill": {
     "duration": 0.043962,
     "end_time": "2022-07-16T12:14:20.201703",
     "exception": false,
     "start_time": "2022-07-16T12:14:20.157741",
     "status": "completed"
    },
    "tags": []
   },
   "outputs": [],
   "source": [
    "#hide\n",
    "# g['continent'] = g.country"
   ]
  },
  {
   "cell_type": "code",
   "execution_count": 28,
   "id": "substantial-wilderness",
   "metadata": {
    "execution": {
     "iopub.execute_input": "2022-07-16T12:14:20.282512Z",
     "iopub.status.busy": "2022-07-16T12:14:20.280875Z",
     "iopub.status.idle": "2022-07-16T12:14:20.285391Z",
     "shell.execute_reply": "2022-07-16T12:14:20.284708Z"
    },
    "papermill": {
     "duration": 0.047533,
     "end_time": "2022-07-16T12:14:20.285525",
     "exception": false,
     "start_time": "2022-07-16T12:14:20.237992",
     "status": "completed"
    },
    "tags": []
   },
   "outputs": [],
   "source": [
    "#hide\n",
    "# cols = list(g.columns.values)"
   ]
  },
  {
   "cell_type": "code",
   "execution_count": 29,
   "id": "solved-farming",
   "metadata": {
    "execution": {
     "iopub.execute_input": "2022-07-16T12:14:20.363137Z",
     "iopub.status.busy": "2022-07-16T12:14:20.362441Z",
     "iopub.status.idle": "2022-07-16T12:14:20.365854Z",
     "shell.execute_reply": "2022-07-16T12:14:20.365174Z"
    },
    "papermill": {
     "duration": 0.043109,
     "end_time": "2022-07-16T12:14:20.365999",
     "exception": false,
     "start_time": "2022-07-16T12:14:20.322890",
     "status": "completed"
    },
    "tags": []
   },
   "outputs": [],
   "source": [
    "#hide\n",
    "# cols.insert(0, cols.pop())"
   ]
  },
  {
   "cell_type": "code",
   "execution_count": 30,
   "id": "executed-adoption",
   "metadata": {
    "execution": {
     "iopub.execute_input": "2022-07-16T12:14:20.443803Z",
     "iopub.status.busy": "2022-07-16T12:14:20.443040Z",
     "iopub.status.idle": "2022-07-16T12:14:20.446079Z",
     "shell.execute_reply": "2022-07-16T12:14:20.445374Z"
    },
    "papermill": {
     "duration": 0.04248,
     "end_time": "2022-07-16T12:14:20.446220",
     "exception": false,
     "start_time": "2022-07-16T12:14:20.403740",
     "status": "completed"
    },
    "tags": []
   },
   "outputs": [],
   "source": [
    "#hide\n",
    "# g = g[cols]"
   ]
  },
  {
   "cell_type": "code",
   "execution_count": 31,
   "id": "subject-dublin",
   "metadata": {
    "execution": {
     "iopub.execute_input": "2022-07-16T12:14:20.525326Z",
     "iopub.status.busy": "2022-07-16T12:14:20.524662Z",
     "iopub.status.idle": "2022-07-16T12:14:20.529572Z",
     "shell.execute_reply": "2022-07-16T12:14:20.529016Z"
    },
    "papermill": {
     "duration": 0.043473,
     "end_time": "2022-07-16T12:14:20.529688",
     "exception": false,
     "start_time": "2022-07-16T12:14:20.486215",
     "status": "completed"
    },
    "tags": []
   },
   "outputs": [],
   "source": [
    "#hide\n",
    "# g['continent'] = g['continent'].map(mapping['map.continent'])"
   ]
  },
  {
   "cell_type": "code",
   "execution_count": 32,
   "id": "freelance-scout",
   "metadata": {
    "execution": {
     "iopub.execute_input": "2022-07-16T12:14:20.610303Z",
     "iopub.status.busy": "2022-07-16T12:14:20.609572Z",
     "iopub.status.idle": "2022-07-16T12:14:20.612043Z",
     "shell.execute_reply": "2022-07-16T12:14:20.612545Z"
    },
    "papermill": {
     "duration": 0.047746,
     "end_time": "2022-07-16T12:14:20.612680",
     "exception": false,
     "start_time": "2022-07-16T12:14:20.564934",
     "status": "completed"
    },
    "tags": []
   },
   "outputs": [],
   "source": [
    "#hide\n",
    "# g.head()"
   ]
  },
  {
   "cell_type": "code",
   "execution_count": 33,
   "id": "limited-engine",
   "metadata": {
    "execution": {
     "iopub.execute_input": "2022-07-16T12:14:20.694310Z",
     "iopub.status.busy": "2022-07-16T12:14:20.693566Z",
     "iopub.status.idle": "2022-07-16T12:14:20.698126Z",
     "shell.execute_reply": "2022-07-16T12:14:20.698747Z"
    },
    "papermill": {
     "duration": 0.051463,
     "end_time": "2022-07-16T12:14:20.698914",
     "exception": false,
     "start_time": "2022-07-16T12:14:20.647451",
     "status": "completed"
    },
    "tags": []
   },
   "outputs": [],
   "source": [
    "# hide\n",
    "# g['date'] = g['date'].astype('datetime64[ns]')"
   ]
  },
  {
   "cell_type": "code",
   "execution_count": 34,
   "id": "sophisticated-supervisor",
   "metadata": {
    "execution": {
     "iopub.execute_input": "2022-07-16T12:14:20.777657Z",
     "iopub.status.busy": "2022-07-16T12:14:20.776949Z",
     "iopub.status.idle": "2022-07-16T12:14:20.779770Z",
     "shell.execute_reply": "2022-07-16T12:14:20.779185Z"
    },
    "papermill": {
     "duration": 0.045089,
     "end_time": "2022-07-16T12:14:20.779897",
     "exception": false,
     "start_time": "2022-07-16T12:14:20.734808",
     "status": "completed"
    },
    "tags": []
   },
   "outputs": [],
   "source": [
    "#hide\n",
    "# g['date'] = g.date.dt.dayofyear"
   ]
  },
  {
   "cell_type": "code",
   "execution_count": 35,
   "id": "inside-dubai",
   "metadata": {
    "execution": {
     "iopub.execute_input": "2022-07-16T12:14:20.855849Z",
     "iopub.status.busy": "2022-07-16T12:14:20.855156Z",
     "iopub.status.idle": "2022-07-16T12:14:20.857993Z",
     "shell.execute_reply": "2022-07-16T12:14:20.857450Z"
    },
    "papermill": {
     "duration": 0.041078,
     "end_time": "2022-07-16T12:14:20.858110",
     "exception": false,
     "start_time": "2022-07-16T12:14:20.817032",
     "status": "completed"
    },
    "tags": []
   },
   "outputs": [],
   "source": [
    "#hide\n",
    "# g = g.rename(columns= {'continent':'group','country':'name','cases':'value'})"
   ]
  },
  {
   "cell_type": "code",
   "execution_count": 36,
   "id": "fleet-motorcycle",
   "metadata": {
    "execution": {
     "iopub.execute_input": "2022-07-16T12:14:20.936428Z",
     "iopub.status.busy": "2022-07-16T12:14:20.935680Z",
     "iopub.status.idle": "2022-07-16T12:14:20.938829Z",
     "shell.execute_reply": "2022-07-16T12:14:20.938247Z"
    },
    "papermill": {
     "duration": 0.042717,
     "end_time": "2022-07-16T12:14:20.938951",
     "exception": false,
     "start_time": "2022-07-16T12:14:20.896234",
     "status": "completed"
    },
    "tags": []
   },
   "outputs": [],
   "source": [
    "#hide\n",
    "# cols = ['name','group','day','value']"
   ]
  },
  {
   "cell_type": "code",
   "execution_count": 37,
   "id": "continued-sleeping",
   "metadata": {
    "execution": {
     "iopub.execute_input": "2022-07-16T12:14:21.022079Z",
     "iopub.status.busy": "2022-07-16T12:14:21.021316Z",
     "iopub.status.idle": "2022-07-16T12:14:21.024660Z",
     "shell.execute_reply": "2022-07-16T12:14:21.024062Z"
    },
    "papermill": {
     "duration": 0.045351,
     "end_time": "2022-07-16T12:14:21.024808",
     "exception": false,
     "start_time": "2022-07-16T12:14:20.979457",
     "status": "completed"
    },
    "tags": []
   },
   "outputs": [],
   "source": [
    "#hide\n",
    "# g.rename(columns= {'date':'day'},inplace = True)"
   ]
  },
  {
   "cell_type": "code",
   "execution_count": 38,
   "id": "major-fight",
   "metadata": {
    "execution": {
     "iopub.execute_input": "2022-07-16T12:14:21.102164Z",
     "iopub.status.busy": "2022-07-16T12:14:21.101426Z",
     "iopub.status.idle": "2022-07-16T12:14:21.104879Z",
     "shell.execute_reply": "2022-07-16T12:14:21.104307Z"
    },
    "papermill": {
     "duration": 0.044359,
     "end_time": "2022-07-16T12:14:21.105003",
     "exception": false,
     "start_time": "2022-07-16T12:14:21.060644",
     "status": "completed"
    },
    "tags": []
   },
   "outputs": [],
   "source": [
    "#hide\n",
    "# g = g[cols]"
   ]
  },
  {
   "cell_type": "code",
   "execution_count": 39,
   "id": "structured-mobile",
   "metadata": {
    "execution": {
     "iopub.execute_input": "2022-07-16T12:14:21.186771Z",
     "iopub.status.busy": "2022-07-16T12:14:21.185950Z",
     "iopub.status.idle": "2022-07-16T12:14:21.189240Z",
     "shell.execute_reply": "2022-07-16T12:14:21.188461Z"
    },
    "papermill": {
     "duration": 0.046333,
     "end_time": "2022-07-16T12:14:21.189386",
     "exception": false,
     "start_time": "2022-07-16T12:14:21.143053",
     "status": "completed"
    },
    "tags": []
   },
   "outputs": [],
   "source": [
    "# #hide\n",
    "# g = g[g.group.notna()]"
   ]
  },
  {
   "cell_type": "code",
   "execution_count": 40,
   "id": "determined-closing",
   "metadata": {
    "execution": {
     "iopub.execute_input": "2022-07-16T12:14:21.283236Z",
     "iopub.status.busy": "2022-07-16T12:14:21.282435Z",
     "iopub.status.idle": "2022-07-16T12:14:21.285772Z",
     "shell.execute_reply": "2022-07-16T12:14:21.285155Z"
    },
    "papermill": {
     "duration": 0.049427,
     "end_time": "2022-07-16T12:14:21.285908",
     "exception": false,
     "start_time": "2022-07-16T12:14:21.236481",
     "status": "completed"
    },
    "tags": []
   },
   "outputs": [],
   "source": [
    "# #hide\n",
    "# colors = dict(zip(\n",
    "#     [\"Oceania\", \"Europe\", \"Asia\", \"South America\", \"Middle East\", \"North America\", \"Africa\"],\n",
    "#     [\"#adb0ff\", \"#ffb3ff\", \"#90d595\", \"#e48381\", \"#aafbff\", \"#f7bb5f\", \"#eafb50\"]\n",
    "# ))\n",
    "# group_lk = g.set_index('name')['group'].to_dict()"
   ]
  },
  {
   "cell_type": "code",
   "execution_count": null,
   "id": "gross-drinking",
   "metadata": {
    "papermill": {
     "duration": 0.036386,
     "end_time": "2022-07-16T12:14:21.359103",
     "exception": false,
     "start_time": "2022-07-16T12:14:21.322717",
     "status": "completed"
    },
    "tags": []
   },
   "outputs": [],
   "source": []
  },
  {
   "cell_type": "code",
   "execution_count": 41,
   "id": "subject-macintosh",
   "metadata": {
    "execution": {
     "iopub.execute_input": "2022-07-16T12:14:21.433781Z",
     "iopub.status.busy": "2022-07-16T12:14:21.433077Z",
     "iopub.status.idle": "2022-07-16T12:14:21.435982Z",
     "shell.execute_reply": "2022-07-16T12:14:21.436862Z"
    },
    "papermill": {
     "duration": 0.041863,
     "end_time": "2022-07-16T12:14:21.437034",
     "exception": false,
     "start_time": "2022-07-16T12:14:21.395171",
     "status": "completed"
    },
    "tags": []
   },
   "outputs": [],
   "source": [
    "# #hide\n",
    "# fig, ax = plt.subplots(figsize=(15, 8))\n",
    "\n",
    "# def draw_barchart(current_day):\n",
    "#     dff = g[g['day'].eq(current_day)].sort_values(by='value', ascending=True).tail(10)\n",
    "#     ax.clear()\n",
    "#     ax.barh(dff['name'], dff['value'], color=[colors[group_lk[x]] for x in dff['name']])\n",
    "#     dx = dff['value'].max() / 200\n",
    "    \n",
    "#     for i, (value, name) in enumerate(zip(dff['value'], dff['name'])):\n",
    "#         ax.text(value-dx, i,     name,           size=14, weight=600, ha='right', va='bottom')\n",
    "#         ax.text(value-dx, i-.25, group_lk[name], size=10, color='#444444', ha='right', va='baseline')\n",
    "#         ax.text(value+dx, i,     f'{value:,.0f}',  size=14, ha='left',  va='center')\n",
    "#     ax.text(1, 0.4, current_day, transform=ax.transAxes, color='#777777', size=46, ha='right', weight=800)\n",
    "#     ax.text(0, 1.06, 'Population (thousands)', transform=ax.transAxes, size=12, color='#777777')\n",
    "#     ax.xaxis.set_major_formatter(ticker.StrMethodFormatter('{x:,.0f}'))\n",
    "#     ax.xaxis.set_ticks_position('top')\n",
    "#     ax.tick_params(axis='x', colors='#777777', labelsize=12)\n",
    "#     ax.set_yticks([])\n",
    "#     ax.margins(0, 0.01)\n",
    "#     ax.grid(which='major', axis='x', linestyle='-')\n",
    "#     ax.set_axisbelow(True)\n",
    "    \n",
    "#     ax.text(0, 1.15, 'Coronavirus',\n",
    "#             transform=ax.transAxes, size=24, weight=600, ha='left', va='top')\n",
    "# #     ax.text(1, 0, 'by @pratapvardhan; credit @jburnmurdoch', transform=ax.transAxes, color='#777777', ha='right',\n",
    "# #             bbox=dict(facecolor='white', alpha=0.8, edgecolor='white'))\n",
    "#     plt.box(False)"
   ]
  },
  {
   "cell_type": "code",
   "execution_count": 42,
   "id": "sexual-wages",
   "metadata": {
    "execution": {
     "iopub.execute_input": "2022-07-16T12:14:21.511364Z",
     "iopub.status.busy": "2022-07-16T12:14:21.510561Z",
     "iopub.status.idle": "2022-07-16T12:14:21.514191Z",
     "shell.execute_reply": "2022-07-16T12:14:21.513505Z"
    },
    "papermill": {
     "duration": 0.042183,
     "end_time": "2022-07-16T12:14:21.514310",
     "exception": false,
     "start_time": "2022-07-16T12:14:21.472127",
     "status": "completed"
    },
    "tags": []
   },
   "outputs": [],
   "source": [
    "# #hide_input\n",
    "# fig, ax = plt.subplots(figsize=(15, 8))\n",
    "# animator = animation.FuncAnimation(fig, draw_barchart, frames=range(g.day.values.min(), g.day.values.max()))\n",
    "# HTML(animator.to_jshtml())\n",
    "# # or use animator.to_html5_video() or animator.save() "
   ]
  },
  {
   "cell_type": "code",
   "execution_count": null,
   "id": "australian-container",
   "metadata": {
    "papermill": {
     "duration": 0.036498,
     "end_time": "2022-07-16T12:14:21.589750",
     "exception": false,
     "start_time": "2022-07-16T12:14:21.553252",
     "status": "completed"
    },
    "tags": []
   },
   "outputs": [],
   "source": []
  },
  {
   "cell_type": "code",
   "execution_count": null,
   "id": "mediterranean-pontiac",
   "metadata": {
    "papermill": {
     "duration": 0.033836,
     "end_time": "2022-07-16T12:14:21.657763",
     "exception": false,
     "start_time": "2022-07-16T12:14:21.623927",
     "status": "completed"
    },
    "tags": []
   },
   "outputs": [],
   "source": []
  },
  {
   "cell_type": "code",
   "execution_count": null,
   "id": "aging-legislature",
   "metadata": {
    "papermill": {
     "duration": 0.034522,
     "end_time": "2022-07-16T12:14:21.727870",
     "exception": false,
     "start_time": "2022-07-16T12:14:21.693348",
     "status": "completed"
    },
    "tags": []
   },
   "outputs": [],
   "source": []
  }
 ],
 "metadata": {
  "kernelspec": {
   "display_name": "Python 3",
   "language": "python",
   "name": "python3"
  },
  "language_info": {
   "codemirror_mode": {
    "name": "ipython",
    "version": 3
   },
   "file_extension": ".py",
   "mimetype": "text/x-python",
   "name": "python",
   "nbconvert_exporter": "python",
   "pygments_lexer": "ipython3",
   "version": "3.6.15"
  },
  "papermill": {
   "duration": 6.920451,
   "end_time": "2022-07-16T12:14:22.079961",
   "environment_variables": {},
   "exception": null,
   "input_path": "2020-03-21-covid19exp.ipynb",
   "output_path": "2020-03-21-covid19exp.ipynb",
   "parameters": {},
   "start_time": "2022-07-16T12:14:15.159510",
   "version": "2.0.0"
  }
 },
 "nbformat": 4,
 "nbformat_minor": 5
}