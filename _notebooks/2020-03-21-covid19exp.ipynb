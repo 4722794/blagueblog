{
 "cells": [
  {
   "cell_type": "markdown",
   "id": "muslim-click",
   "metadata": {
    "papermill": {
     "duration": 0.039082,
     "end_time": "2021-04-28T12:04:29.868190",
     "exception": false,
     "start_time": "2021-04-28T12:04:29.829108",
     "status": "completed"
    },
    "tags": []
   },
   "source": [
    "# COVID-19 Case Race\n",
    "> A race chart to see rising cases around the world\n",
    "\n",
    "- author: Hargun Oberoi\n",
    "- image: images/covid-overview.png\n",
    "- hide: false\n",
    "- badges: false"
   ]
  },
  {
   "cell_type": "code",
   "execution_count": 1,
   "id": "proof-material",
   "metadata": {
    "execution": {
     "iopub.execute_input": "2021-04-28T12:04:29.946887Z",
     "iopub.status.busy": "2021-04-28T12:04:29.946302Z",
     "iopub.status.idle": "2021-04-28T12:04:30.274895Z",
     "shell.execute_reply": "2021-04-28T12:04:30.273997Z"
    },
    "papermill": {
     "duration": 0.375194,
     "end_time": "2021-04-28T12:04:30.275131",
     "exception": false,
     "start_time": "2021-04-28T12:04:29.899937",
     "status": "completed"
    },
    "tags": []
   },
   "outputs": [],
   "source": [
    "#hide\n",
    "import numpy as np\n",
    "import pandas as pd\n",
    "from jinja2 import Template\n",
    "from IPython.display import HTML"
   ]
  },
  {
   "cell_type": "code",
   "execution_count": 2,
   "id": "developed-terminology",
   "metadata": {
    "execution": {
     "iopub.execute_input": "2021-04-28T12:04:30.343468Z",
     "iopub.status.busy": "2021-04-28T12:04:30.342897Z",
     "iopub.status.idle": "2021-04-28T12:04:30.345041Z",
     "shell.execute_reply": "2021-04-28T12:04:30.344606Z"
    },
    "papermill": {
     "duration": 0.037448,
     "end_time": "2021-04-28T12:04:30.345153",
     "exception": false,
     "start_time": "2021-04-28T12:04:30.307705",
     "status": "completed"
    },
    "tags": []
   },
   "outputs": [],
   "source": [
    "#hide\n",
    "\n",
    "# FETCH\n",
    "base_url = 'https://raw.githubusercontent.com/pratapvardhan/notebooks/master/covid19/'\n",
    "paths = {\n",
    "    'mapping': base_url + 'mapping_countries.csv',\n",
    "    'overview': base_url + 'overview.tpl'\n",
    "}"
   ]
  },
  {
   "cell_type": "code",
   "execution_count": 3,
   "id": "dynamic-saver",
   "metadata": {
    "execution": {
     "iopub.execute_input": "2021-04-28T12:04:30.420657Z",
     "iopub.status.busy": "2021-04-28T12:04:30.415134Z",
     "iopub.status.idle": "2021-04-28T12:04:30.423775Z",
     "shell.execute_reply": "2021-04-28T12:04:30.423320Z"
    },
    "papermill": {
     "duration": 0.047592,
     "end_time": "2021-04-28T12:04:30.423882",
     "exception": false,
     "start_time": "2021-04-28T12:04:30.376290",
     "status": "completed"
    },
    "tags": []
   },
   "outputs": [
    {
     "data": {
      "text/plain": [
       "'https://raw.githubusercontent.com/pratapvardhan/notebooks/master/covid19/mapping_countries.csv'"
      ]
     },
     "execution_count": 3,
     "metadata": {},
     "output_type": "execute_result"
    }
   ],
   "source": [
    "#hide\n",
    "paths['mapping']"
   ]
  },
  {
   "cell_type": "code",
   "execution_count": 4,
   "id": "urban-software",
   "metadata": {
    "execution": {
     "iopub.execute_input": "2021-04-28T12:04:30.491230Z",
     "iopub.status.busy": "2021-04-28T12:04:30.490680Z",
     "iopub.status.idle": "2021-04-28T12:04:30.492422Z",
     "shell.execute_reply": "2021-04-28T12:04:30.492880Z"
    },
    "papermill": {
     "duration": 0.038633,
     "end_time": "2021-04-28T12:04:30.493009",
     "exception": false,
     "start_time": "2021-04-28T12:04:30.454376",
     "status": "completed"
    },
    "tags": []
   },
   "outputs": [],
   "source": [
    "#hide\n",
    "def get_mappings(url):\n",
    "    df = pd.read_csv(url)\n",
    "    return {\n",
    "        'df': df,\n",
    "        'replace.country': dict(df.dropna(subset=['Name']).set_index('Country')['Name']),\n",
    "        'map.continent': dict(df.set_index('Name')['Continent'])\n",
    "    }"
   ]
  },
  {
   "cell_type": "code",
   "execution_count": 5,
   "id": "intimate-machinery",
   "metadata": {
    "execution": {
     "iopub.execute_input": "2021-04-28T12:04:30.561491Z",
     "iopub.status.busy": "2021-04-28T12:04:30.560929Z",
     "iopub.status.idle": "2021-04-28T12:04:30.591401Z",
     "shell.execute_reply": "2021-04-28T12:04:30.590671Z"
    },
    "papermill": {
     "duration": 0.067106,
     "end_time": "2021-04-28T12:04:30.591578",
     "exception": false,
     "start_time": "2021-04-28T12:04:30.524472",
     "status": "completed"
    },
    "tags": []
   },
   "outputs": [],
   "source": [
    "#hide\n",
    "mapping = get_mappings(paths['mapping'])"
   ]
  },
  {
   "cell_type": "code",
   "execution_count": 6,
   "id": "certified-tactics",
   "metadata": {
    "execution": {
     "iopub.execute_input": "2021-04-28T12:04:30.665385Z",
     "iopub.status.busy": "2021-04-28T12:04:30.664764Z",
     "iopub.status.idle": "2021-04-28T12:04:30.667369Z",
     "shell.execute_reply": "2021-04-28T12:04:30.666903Z"
    },
    "papermill": {
     "duration": 0.040609,
     "end_time": "2021-04-28T12:04:30.667517",
     "exception": false,
     "start_time": "2021-04-28T12:04:30.626908",
     "status": "completed"
    },
    "tags": []
   },
   "outputs": [],
   "source": [
    "#hide\n",
    "def get_template(path):\n",
    "    from urllib.parse import urlparse\n",
    "    if bool(urlparse(path).netloc):\n",
    "        from urllib.request import urlopen\n",
    "        return urlopen(path).read().decode('utf8')\n",
    "    return open(path).read()"
   ]
  },
  {
   "cell_type": "code",
   "execution_count": 7,
   "id": "realistic-blast",
   "metadata": {
    "execution": {
     "iopub.execute_input": "2021-04-28T12:04:30.738832Z",
     "iopub.status.busy": "2021-04-28T12:04:30.738223Z",
     "iopub.status.idle": "2021-04-28T12:04:30.739957Z",
     "shell.execute_reply": "2021-04-28T12:04:30.740438Z"
    },
    "papermill": {
     "duration": 0.040493,
     "end_time": "2021-04-28T12:04:30.740570",
     "exception": false,
     "start_time": "2021-04-28T12:04:30.700077",
     "status": "completed"
    },
    "tags": []
   },
   "outputs": [],
   "source": [
    "#hide\n",
    "def get_frame(name):\n",
    "    url = (\n",
    "        'https://raw.githubusercontent.com/CSSEGISandData/COVID-19/master/csse_covid_19_data/'\n",
    "        f'csse_covid_19_time_series/time_series_covid19_{name}_global.csv')\n",
    "    df = pd.read_csv(url)\n",
    "    # rename countries\n",
    "    df['Country/Region'] = df['Country/Region'].replace(mapping['replace.country'])\n",
    "    return df"
   ]
  },
  {
   "cell_type": "code",
   "execution_count": 8,
   "id": "affiliated-characterization",
   "metadata": {
    "execution": {
     "iopub.execute_input": "2021-04-28T12:04:30.819681Z",
     "iopub.status.busy": "2021-04-28T12:04:30.819084Z",
     "iopub.status.idle": "2021-04-28T12:04:30.821491Z",
     "shell.execute_reply": "2021-04-28T12:04:30.822040Z"
    },
    "papermill": {
     "duration": 0.04418,
     "end_time": "2021-04-28T12:04:30.822181",
     "exception": false,
     "start_time": "2021-04-28T12:04:30.778001",
     "status": "completed"
    },
    "tags": []
   },
   "outputs": [],
   "source": [
    "#hide\n",
    "def get_dates(df):\n",
    "    dt_cols = df.columns[~df.columns.isin(['Province/State', 'Country/Region', 'Lat', 'Long'])]\n",
    "    LAST_DATE_I = -1\n",
    "    # sometimes last column may be empty, then go backwards\n",
    "    for i in range(-1, -len(dt_cols), -1):\n",
    "        if not df[dt_cols[i]].fillna(0).eq(0).all():\n",
    "            LAST_DATE_I = i\n",
    "            break\n",
    "    return LAST_DATE_I, dt_cols"
   ]
  },
  {
   "cell_type": "code",
   "execution_count": 9,
   "id": "recent-optimization",
   "metadata": {
    "execution": {
     "iopub.execute_input": "2021-04-28T12:04:30.895435Z",
     "iopub.status.busy": "2021-04-28T12:04:30.894856Z",
     "iopub.status.idle": "2021-04-28T12:04:31.167495Z",
     "shell.execute_reply": "2021-04-28T12:04:31.166507Z"
    },
    "papermill": {
     "duration": 0.311236,
     "end_time": "2021-04-28T12:04:31.167625",
     "exception": false,
     "start_time": "2021-04-28T12:04:30.856389",
     "status": "completed"
    },
    "tags": []
   },
   "outputs": [],
   "source": [
    "#hide\n",
    "COL_REGION = 'Country/Region'\n",
    "# Confirmed, Recovered, Deaths\n",
    "df = get_frame('confirmed')\n",
    "# dft_: timeseries, dfc_: today country agg\n",
    "dft_cases = df\n",
    "dft_deaths = get_frame('deaths')\n",
    "dft_recovered = get_frame('recovered')\n",
    "LAST_DATE_I, dt_cols = get_dates(df)"
   ]
  },
  {
   "cell_type": "code",
   "execution_count": 10,
   "id": "absolute-copper",
   "metadata": {
    "execution": {
     "iopub.execute_input": "2021-04-28T12:04:31.236099Z",
     "iopub.status.busy": "2021-04-28T12:04:31.235461Z",
     "iopub.status.idle": "2021-04-28T12:04:31.237334Z",
     "shell.execute_reply": "2021-04-28T12:04:31.236740Z"
    },
    "papermill": {
     "duration": 0.039183,
     "end_time": "2021-04-28T12:04:31.237462",
     "exception": false,
     "start_time": "2021-04-28T12:04:31.198279",
     "status": "completed"
    },
    "tags": []
   },
   "outputs": [],
   "source": [
    "#hide\n",
    "LAST_DATE_I, dt_cols = get_dates(df)\n",
    "dt_today =dt_cols[LAST_DATE_I]\n",
    "# dt_5day = dt_cols[LAST_DATE_I - 5]\n",
    "dt_yday = dt_cols[LAST_DATE_I - 1]"
   ]
  },
  {
   "cell_type": "code",
   "execution_count": 11,
   "id": "restricted-sheriff",
   "metadata": {
    "execution": {
     "iopub.execute_input": "2021-04-28T12:04:31.311246Z",
     "iopub.status.busy": "2021-04-28T12:04:31.309077Z",
     "iopub.status.idle": "2021-04-28T12:04:31.316352Z",
     "shell.execute_reply": "2021-04-28T12:04:31.315358Z"
    },
    "papermill": {
     "duration": 0.046639,
     "end_time": "2021-04-28T12:04:31.316466",
     "exception": false,
     "start_time": "2021-04-28T12:04:31.269827",
     "status": "completed"
    },
    "tags": []
   },
   "outputs": [],
   "source": [
    "#hide\n",
    "dfc_cases = dft_cases.groupby(COL_REGION)[dt_today].sum()\n",
    "dfc_deaths = dft_deaths.groupby(COL_REGION)[dt_today].sum()\n",
    "# dfp_cases = dft_cases.groupby(COL_REGION)[dt_5day].sum()\n",
    "# dfp_deaths = dft_deaths.groupby(COL_REGION)[dt_5day].sum()\n",
    "dfp_cases = dft_cases.groupby(COL_REGION)[dt_yday].sum()\n",
    "dfp_deaths = dft_deaths.groupby(COL_REGION)[dt_yday].sum()"
   ]
  },
  {
   "cell_type": "code",
   "execution_count": 12,
   "id": "deluxe-hepatitis",
   "metadata": {
    "execution": {
     "iopub.execute_input": "2021-04-28T12:04:31.386304Z",
     "iopub.status.busy": "2021-04-28T12:04:31.385072Z",
     "iopub.status.idle": "2021-04-28T12:04:31.387374Z",
     "shell.execute_reply": "2021-04-28T12:04:31.387991Z"
    },
    "papermill": {
     "duration": 0.041511,
     "end_time": "2021-04-28T12:04:31.388115",
     "exception": false,
     "start_time": "2021-04-28T12:04:31.346604",
     "status": "completed"
    },
    "tags": []
   },
   "outputs": [],
   "source": [
    "#hide\n",
    "df_table = (pd.DataFrame(dict(Cases = dfc_cases, Deaths = dfc_deaths, PCases = dfp_cases, PDeaths = dfp_deaths))\n",
    "            .sort_values(by = ['Cases','Deaths'], ascending = [False, False])\n",
    "            .reset_index())"
   ]
  },
  {
   "cell_type": "code",
   "execution_count": 13,
   "id": "educational-chancellor",
   "metadata": {
    "execution": {
     "iopub.execute_input": "2021-04-28T12:04:31.471344Z",
     "iopub.status.busy": "2021-04-28T12:04:31.459073Z",
     "iopub.status.idle": "2021-04-28T12:04:31.478532Z",
     "shell.execute_reply": "2021-04-28T12:04:31.478079Z"
    },
    "papermill": {
     "duration": 0.058979,
     "end_time": "2021-04-28T12:04:31.478644",
     "exception": false,
     "start_time": "2021-04-28T12:04:31.419665",
     "status": "completed"
    },
    "tags": []
   },
   "outputs": [
    {
     "data": {
      "text/html": [
       "<div>\n",
       "<style scoped>\n",
       "    .dataframe tbody tr th:only-of-type {\n",
       "        vertical-align: middle;\n",
       "    }\n",
       "\n",
       "    .dataframe tbody tr th {\n",
       "        vertical-align: top;\n",
       "    }\n",
       "\n",
       "    .dataframe thead th {\n",
       "        text-align: right;\n",
       "    }\n",
       "</style>\n",
       "<table border=\"1\" class=\"dataframe\">\n",
       "  <thead>\n",
       "    <tr style=\"text-align: right;\">\n",
       "      <th></th>\n",
       "      <th>Country/Region</th>\n",
       "      <th>Cases</th>\n",
       "      <th>Deaths</th>\n",
       "      <th>PCases</th>\n",
       "      <th>PDeaths</th>\n",
       "      <th>Cases (+)</th>\n",
       "      <th>Deaths (+)</th>\n",
       "      <th>Fatality Rate</th>\n",
       "      <th>Continent</th>\n",
       "    </tr>\n",
       "  </thead>\n",
       "  <tbody>\n",
       "    <tr>\n",
       "      <th>0</th>\n",
       "      <td>US</td>\n",
       "      <td>32175725</td>\n",
       "      <td>573381</td>\n",
       "      <td>32124869</td>\n",
       "      <td>572674</td>\n",
       "      <td>50856</td>\n",
       "      <td>707</td>\n",
       "      <td>1.78</td>\n",
       "      <td>North America</td>\n",
       "    </tr>\n",
       "    <tr>\n",
       "      <th>1</th>\n",
       "      <td>India</td>\n",
       "      <td>17997113</td>\n",
       "      <td>201187</td>\n",
       "      <td>17636186</td>\n",
       "      <td>197894</td>\n",
       "      <td>360927</td>\n",
       "      <td>3293</td>\n",
       "      <td>1.12</td>\n",
       "      <td>Asia</td>\n",
       "    </tr>\n",
       "    <tr>\n",
       "      <th>2</th>\n",
       "      <td>Brazil</td>\n",
       "      <td>14441563</td>\n",
       "      <td>395022</td>\n",
       "      <td>14369423</td>\n",
       "      <td>391936</td>\n",
       "      <td>72140</td>\n",
       "      <td>3086</td>\n",
       "      <td>2.74</td>\n",
       "      <td>South America</td>\n",
       "    </tr>\n",
       "    <tr>\n",
       "      <th>3</th>\n",
       "      <td>France</td>\n",
       "      <td>5595403</td>\n",
       "      <td>103762</td>\n",
       "      <td>5565080</td>\n",
       "      <td>103415</td>\n",
       "      <td>30323</td>\n",
       "      <td>347</td>\n",
       "      <td>1.85</td>\n",
       "      <td>Europe</td>\n",
       "    </tr>\n",
       "    <tr>\n",
       "      <th>4</th>\n",
       "      <td>Russia</td>\n",
       "      <td>4725252</td>\n",
       "      <td>107167</td>\n",
       "      <td>4717321</td>\n",
       "      <td>106783</td>\n",
       "      <td>7931</td>\n",
       "      <td>384</td>\n",
       "      <td>2.27</td>\n",
       "      <td>Europe</td>\n",
       "    </tr>\n",
       "  </tbody>\n",
       "</table>\n",
       "</div>"
      ],
      "text/plain": [
       "  Country/Region     Cases  Deaths    PCases  PDeaths  Cases (+)  Deaths (+)  \\\n",
       "0             US  32175725  573381  32124869   572674      50856         707   \n",
       "1          India  17997113  201187  17636186   197894     360927        3293   \n",
       "2         Brazil  14441563  395022  14369423   391936      72140        3086   \n",
       "3         France   5595403  103762   5565080   103415      30323         347   \n",
       "4         Russia   4725252  107167   4717321   106783       7931         384   \n",
       "\n",
       "   Fatality Rate      Continent  \n",
       "0           1.78  North America  \n",
       "1           1.12           Asia  \n",
       "2           2.74  South America  \n",
       "3           1.85         Europe  \n",
       "4           2.27         Europe  "
      ]
     },
     "execution_count": 13,
     "metadata": {},
     "output_type": "execute_result"
    }
   ],
   "source": [
    "#hide\n",
    "for c in 'Cases, Deaths'.split(', '):\n",
    "    df_table[f'{c} (+)'] = (df_table[c] - df_table[f'P{c}']).clip(0)\n",
    "    #Clip ça veut dire, les chiffres negatif sont interdit\n",
    "df_table['Fatality Rate'] = (100* df_table['Deaths']/ df_table['Cases']).round(2)\n",
    "df_table['Continent'] = df_table['Country/Region'].map(mapping['map.continent'])\n",
    "df_table.head(5)"
   ]
  },
  {
   "cell_type": "code",
   "execution_count": 14,
   "id": "aboriginal-bulgaria",
   "metadata": {
    "execution": {
     "iopub.execute_input": "2021-04-28T12:04:31.548648Z",
     "iopub.status.busy": "2021-04-28T12:04:31.548161Z",
     "iopub.status.idle": "2021-04-28T12:04:31.551192Z",
     "shell.execute_reply": "2021-04-28T12:04:31.550820Z"
    },
    "papermill": {
     "duration": 0.041769,
     "end_time": "2021-04-28T12:04:31.551288",
     "exception": false,
     "start_time": "2021-04-28T12:04:31.509519",
     "status": "completed"
    },
    "tags": []
   },
   "outputs": [],
   "source": [
    "#hide\n",
    "#delete problematic countries from table\n",
    "df_table = df_table[~df_table['Country/Region'].isin(['Cape Verde', 'Cruise Ship', 'Kosovo'])]"
   ]
  },
  {
   "cell_type": "code",
   "execution_count": 15,
   "id": "fantastic-effect",
   "metadata": {
    "execution": {
     "iopub.execute_input": "2021-04-28T12:04:31.623963Z",
     "iopub.status.busy": "2021-04-28T12:04:31.622722Z",
     "iopub.status.idle": "2021-04-28T12:04:31.642386Z",
     "shell.execute_reply": "2021-04-28T12:04:31.641928Z"
    },
    "papermill": {
     "duration": 0.058697,
     "end_time": "2021-04-28T12:04:31.642483",
     "exception": false,
     "start_time": "2021-04-28T12:04:31.583786",
     "status": "completed"
    },
    "tags": []
   },
   "outputs": [
    {
     "data": {
      "text/html": [
       "<div>\n",
       "<style scoped>\n",
       "    .dataframe tbody tr th:only-of-type {\n",
       "        vertical-align: middle;\n",
       "    }\n",
       "\n",
       "    .dataframe tbody tr th {\n",
       "        vertical-align: top;\n",
       "    }\n",
       "\n",
       "    .dataframe thead th {\n",
       "        text-align: right;\n",
       "    }\n",
       "</style>\n",
       "<table border=\"1\" class=\"dataframe\">\n",
       "  <thead>\n",
       "    <tr style=\"text-align: right;\">\n",
       "      <th></th>\n",
       "      <th>Country/Region</th>\n",
       "      <th>Cases</th>\n",
       "      <th>Deaths</th>\n",
       "      <th>PCases</th>\n",
       "      <th>PDeaths</th>\n",
       "      <th>Cases (+)</th>\n",
       "      <th>Deaths (+)</th>\n",
       "      <th>Fatality Rate</th>\n",
       "      <th>Continent</th>\n",
       "    </tr>\n",
       "  </thead>\n",
       "  <tbody>\n",
       "    <tr>\n",
       "      <th>0</th>\n",
       "      <td>US</td>\n",
       "      <td>32175725</td>\n",
       "      <td>573381</td>\n",
       "      <td>32124869</td>\n",
       "      <td>572674</td>\n",
       "      <td>50856</td>\n",
       "      <td>707</td>\n",
       "      <td>1.8</td>\n",
       "      <td>North America</td>\n",
       "    </tr>\n",
       "    <tr>\n",
       "      <th>1</th>\n",
       "      <td>India</td>\n",
       "      <td>17997113</td>\n",
       "      <td>201187</td>\n",
       "      <td>17636186</td>\n",
       "      <td>197894</td>\n",
       "      <td>360927</td>\n",
       "      <td>3293</td>\n",
       "      <td>1.1</td>\n",
       "      <td>Asia</td>\n",
       "    </tr>\n",
       "    <tr>\n",
       "      <th>2</th>\n",
       "      <td>Brazil</td>\n",
       "      <td>14441563</td>\n",
       "      <td>395022</td>\n",
       "      <td>14369423</td>\n",
       "      <td>391936</td>\n",
       "      <td>72140</td>\n",
       "      <td>3086</td>\n",
       "      <td>2.7</td>\n",
       "      <td>South America</td>\n",
       "    </tr>\n",
       "    <tr>\n",
       "      <th>3</th>\n",
       "      <td>France</td>\n",
       "      <td>5595403</td>\n",
       "      <td>103762</td>\n",
       "      <td>5565080</td>\n",
       "      <td>103415</td>\n",
       "      <td>30323</td>\n",
       "      <td>347</td>\n",
       "      <td>1.9</td>\n",
       "      <td>Europe</td>\n",
       "    </tr>\n",
       "    <tr>\n",
       "      <th>4</th>\n",
       "      <td>Russia</td>\n",
       "      <td>4725252</td>\n",
       "      <td>107167</td>\n",
       "      <td>4717321</td>\n",
       "      <td>106783</td>\n",
       "      <td>7931</td>\n",
       "      <td>384</td>\n",
       "      <td>2.3</td>\n",
       "      <td>Europe</td>\n",
       "    </tr>\n",
       "  </tbody>\n",
       "</table>\n",
       "</div>"
      ],
      "text/plain": [
       "  Country/Region     Cases  Deaths    PCases  PDeaths  Cases (+)  Deaths (+)  \\\n",
       "0             US  32175725  573381  32124869   572674      50856         707   \n",
       "1          India  17997113  201187  17636186   197894     360927        3293   \n",
       "2         Brazil  14441563  395022  14369423   391936      72140        3086   \n",
       "3         France   5595403  103762   5565080   103415      30323         347   \n",
       "4         Russia   4725252  107167   4717321   106783       7931         384   \n",
       "\n",
       "   Fatality Rate      Continent  \n",
       "0            1.8  North America  \n",
       "1            1.1           Asia  \n",
       "2            2.7  South America  \n",
       "3            1.9         Europe  \n",
       "4            2.3         Europe  "
      ]
     },
     "execution_count": 15,
     "metadata": {},
     "output_type": "execute_result"
    }
   ],
   "source": [
    "#hide\n",
    "df_table = (pd.DataFrame(dict(Cases=dfc_cases, Deaths=dfc_deaths, PCases=dfp_cases, PDeaths=dfp_deaths))\n",
    "             .sort_values(by=['Cases', 'Deaths'], ascending=[False, False])\n",
    "             .reset_index())\n",
    "df_table.rename(columns={'index': 'Country/Region'}, inplace=True)\n",
    "for c in 'Cases, Deaths'.split(', '):\n",
    "    df_table[f'{c} (+)'] = (df_table[c] - df_table[f'P{c}']).clip(0)  # DATA BUG\n",
    "df_table['Fatality Rate'] = (100 * df_table['Deaths'] / df_table['Cases']).round(1)\n",
    "df_table['Continent'] = df_table['Country/Region'].map(mapping['map.continent'])\n",
    "df_table.head(5)"
   ]
  },
  {
   "cell_type": "code",
   "execution_count": 16,
   "id": "fewer-occasion",
   "metadata": {
    "execution": {
     "iopub.execute_input": "2021-04-28T12:04:31.713740Z",
     "iopub.status.busy": "2021-04-28T12:04:31.709872Z",
     "iopub.status.idle": "2021-04-28T12:04:31.715651Z",
     "shell.execute_reply": "2021-04-28T12:04:31.716116Z"
    },
    "papermill": {
     "duration": 0.042009,
     "end_time": "2021-04-28T12:04:31.716240",
     "exception": false,
     "start_time": "2021-04-28T12:04:31.674231",
     "status": "completed"
    },
    "tags": []
   },
   "outputs": [],
   "source": [
    "#hide\n",
    "#delete problematic countries from table\n",
    "df_table = df_table[~df_table['Country/Region'].isin(['Cape Verde', 'Cruise Ship', 'Kosovo'])]"
   ]
  },
  {
   "cell_type": "code",
   "execution_count": 17,
   "id": "related-center",
   "metadata": {
    "execution": {
     "iopub.execute_input": "2021-04-28T12:04:31.797410Z",
     "iopub.status.busy": "2021-04-28T12:04:31.796794Z",
     "iopub.status.idle": "2021-04-28T12:04:31.799817Z",
     "shell.execute_reply": "2021-04-28T12:04:31.799359Z"
    },
    "papermill": {
     "duration": 0.053374,
     "end_time": "2021-04-28T12:04:31.799954",
     "exception": false,
     "start_time": "2021-04-28T12:04:31.746580",
     "status": "completed"
    },
    "tags": []
   },
   "outputs": [],
   "source": [
    "#hide\n",
    "metrics = [df_table.columns[index] for index in [1,2,5,6]]\n",
    "# s_china = df_table[df_table['Country/Region'].eq('China')][metrics].sum().add_prefix('China ')\n",
    "s_us = df_table[df_table['Country/Region'].eq('US')][metrics].sum().add_prefix('US ')\n",
    "s_eu = df_table[df_table['Continent'].eq('Europe')][metrics].sum().add_prefix('EU ')\n",
    "s_ind = df_table[df_table['Country/Region'].eq('India')][metrics].sum().add_prefix('India ')\n",
    "summary = {'updated': pd.to_datetime(dt_today), 'since': pd.to_datetime(dt_yday)}\n",
    "summary = {'updated': pd.to_datetime(dt_today), 'since': pd.to_datetime(dt_yday)}\n",
    "summary = {**summary, **df_table[metrics].sum(), **s_ind, **s_us, **s_eu}"
   ]
  },
  {
   "cell_type": "code",
   "execution_count": 18,
   "id": "engaging-syndrome",
   "metadata": {
    "execution": {
     "iopub.execute_input": "2021-04-28T12:04:31.876651Z",
     "iopub.status.busy": "2021-04-28T12:04:31.873168Z",
     "iopub.status.idle": "2021-04-28T12:04:31.887503Z",
     "shell.execute_reply": "2021-04-28T12:04:31.887067Z"
    },
    "papermill": {
     "duration": 0.053814,
     "end_time": "2021-04-28T12:04:31.887619",
     "exception": false,
     "start_time": "2021-04-28T12:04:31.833805",
     "status": "completed"
    },
    "tags": []
   },
   "outputs": [],
   "source": [
    "#hide\n",
    "dft_ct_new_cases = dft_cases.groupby(COL_REGION)[dt_cols].sum().diff(axis=1).fillna(0).astype(int)"
   ]
  },
  {
   "cell_type": "code",
   "execution_count": 19,
   "id": "neutral-assignment",
   "metadata": {
    "execution": {
     "iopub.execute_input": "2021-04-28T12:04:31.962840Z",
     "iopub.status.busy": "2021-04-28T12:04:31.962242Z",
     "iopub.status.idle": "2021-04-28T12:04:31.964557Z",
     "shell.execute_reply": "2021-04-28T12:04:31.963985Z"
    },
    "papermill": {
     "duration": 0.042934,
     "end_time": "2021-04-28T12:04:31.964676",
     "exception": false,
     "start_time": "2021-04-28T12:04:31.921742",
     "status": "completed"
    },
    "tags": []
   },
   "outputs": [],
   "source": [
    "#hide\n",
    "everydaycases = dft_ct_new_cases.cumsum(axis=1)"
   ]
  },
  {
   "cell_type": "code",
   "execution_count": 20,
   "id": "parliamentary-calgary",
   "metadata": {
    "execution": {
     "iopub.execute_input": "2021-04-28T12:04:32.038689Z",
     "iopub.status.busy": "2021-04-28T12:04:32.038085Z",
     "iopub.status.idle": "2021-04-28T12:04:32.558228Z",
     "shell.execute_reply": "2021-04-28T12:04:32.557348Z"
    },
    "papermill": {
     "duration": 0.559752,
     "end_time": "2021-04-28T12:04:32.558439",
     "exception": false,
     "start_time": "2021-04-28T12:04:31.998687",
     "status": "completed"
    },
    "tags": []
   },
   "outputs": [],
   "source": [
    "#hide\n",
    "import pandas as pd\n",
    "import matplotlib.pyplot as plt\n",
    "import matplotlib.ticker as ticker\n",
    "import matplotlib.animation as animation\n",
    "from IPython.display import HTML"
   ]
  },
  {
   "cell_type": "code",
   "execution_count": 21,
   "id": "lasting-extraction",
   "metadata": {
    "execution": {
     "iopub.execute_input": "2021-04-28T12:04:32.635386Z",
     "iopub.status.busy": "2021-04-28T12:04:32.634778Z",
     "iopub.status.idle": "2021-04-28T12:04:32.638646Z",
     "shell.execute_reply": "2021-04-28T12:04:32.639144Z"
    },
    "papermill": {
     "duration": 0.044874,
     "end_time": "2021-04-28T12:04:32.639289",
     "exception": false,
     "start_time": "2021-04-28T12:04:32.594415",
     "status": "completed"
    },
    "tags": []
   },
   "outputs": [],
   "source": [
    "#hide\n",
    "t = everydaycases.stack()"
   ]
  },
  {
   "cell_type": "code",
   "execution_count": 22,
   "id": "premier-sleeve",
   "metadata": {
    "execution": {
     "iopub.execute_input": "2021-04-28T12:04:32.712513Z",
     "iopub.status.busy": "2021-04-28T12:04:32.711934Z",
     "iopub.status.idle": "2021-04-28T12:04:32.720555Z",
     "shell.execute_reply": "2021-04-28T12:04:32.721011Z"
    },
    "papermill": {
     "duration": 0.047806,
     "end_time": "2021-04-28T12:04:32.721140",
     "exception": false,
     "start_time": "2021-04-28T12:04:32.673334",
     "status": "completed"
    },
    "tags": []
   },
   "outputs": [],
   "source": [
    "#hide\n",
    "g = t.reset_index(['Country/Region'])"
   ]
  },
  {
   "cell_type": "code",
   "execution_count": 23,
   "id": "distributed-pittsburgh",
   "metadata": {
    "execution": {
     "iopub.execute_input": "2021-04-28T12:04:32.793116Z",
     "iopub.status.busy": "2021-04-28T12:04:32.792525Z",
     "iopub.status.idle": "2021-04-28T12:04:32.794938Z",
     "shell.execute_reply": "2021-04-28T12:04:32.795497Z"
    },
    "papermill": {
     "duration": 0.041863,
     "end_time": "2021-04-28T12:04:32.795631",
     "exception": false,
     "start_time": "2021-04-28T12:04:32.753768",
     "status": "completed"
    },
    "tags": []
   },
   "outputs": [],
   "source": [
    "#hide\n",
    "g.index.name = 'date'"
   ]
  },
  {
   "cell_type": "code",
   "execution_count": 24,
   "id": "naked-donor",
   "metadata": {
    "execution": {
     "iopub.execute_input": "2021-04-28T12:04:32.868505Z",
     "iopub.status.busy": "2021-04-28T12:04:32.867942Z",
     "iopub.status.idle": "2021-04-28T12:04:32.869672Z",
     "shell.execute_reply": "2021-04-28T12:04:32.870177Z"
    },
    "papermill": {
     "duration": 0.040054,
     "end_time": "2021-04-28T12:04:32.870313",
     "exception": false,
     "start_time": "2021-04-28T12:04:32.830259",
     "status": "completed"
    },
    "tags": []
   },
   "outputs": [],
   "source": [
    "# #hide\n",
    "# g = g.reset_index(['date'])"
   ]
  },
  {
   "cell_type": "code",
   "execution_count": 25,
   "id": "incomplete-mustang",
   "metadata": {
    "execution": {
     "iopub.execute_input": "2021-04-28T12:04:32.939576Z",
     "iopub.status.busy": "2021-04-28T12:04:32.939042Z",
     "iopub.status.idle": "2021-04-28T12:04:32.941362Z",
     "shell.execute_reply": "2021-04-28T12:04:32.940854Z"
    },
    "papermill": {
     "duration": 0.038468,
     "end_time": "2021-04-28T12:04:32.941484",
     "exception": false,
     "start_time": "2021-04-28T12:04:32.903016",
     "status": "completed"
    },
    "tags": []
   },
   "outputs": [],
   "source": [
    "#hide\n",
    "# g.head()"
   ]
  },
  {
   "cell_type": "code",
   "execution_count": 26,
   "id": "specific-kruger",
   "metadata": {
    "execution": {
     "iopub.execute_input": "2021-04-28T12:04:33.011388Z",
     "iopub.status.busy": "2021-04-28T12:04:33.010816Z",
     "iopub.status.idle": "2021-04-28T12:04:33.013219Z",
     "shell.execute_reply": "2021-04-28T12:04:33.012690Z"
    },
    "papermill": {
     "duration": 0.039483,
     "end_time": "2021-04-28T12:04:33.013339",
     "exception": false,
     "start_time": "2021-04-28T12:04:32.973856",
     "status": "completed"
    },
    "tags": []
   },
   "outputs": [],
   "source": [
    "#hide\n",
    "# g.columns = ['date','country','cases']"
   ]
  },
  {
   "cell_type": "code",
   "execution_count": 27,
   "id": "tender-conversion",
   "metadata": {
    "execution": {
     "iopub.execute_input": "2021-04-28T12:04:33.083629Z",
     "iopub.status.busy": "2021-04-28T12:04:33.083132Z",
     "iopub.status.idle": "2021-04-28T12:04:33.085379Z",
     "shell.execute_reply": "2021-04-28T12:04:33.085939Z"
    },
    "papermill": {
     "duration": 0.040016,
     "end_time": "2021-04-28T12:04:33.086073",
     "exception": false,
     "start_time": "2021-04-28T12:04:33.046057",
     "status": "completed"
    },
    "tags": []
   },
   "outputs": [],
   "source": [
    "#hide\n",
    "# g['continent'] = g.country"
   ]
  },
  {
   "cell_type": "code",
   "execution_count": 28,
   "id": "substantial-wilderness",
   "metadata": {
    "execution": {
     "iopub.execute_input": "2021-04-28T12:04:33.155725Z",
     "iopub.status.busy": "2021-04-28T12:04:33.155192Z",
     "iopub.status.idle": "2021-04-28T12:04:33.157486Z",
     "shell.execute_reply": "2021-04-28T12:04:33.157998Z"
    },
    "papermill": {
     "duration": 0.039784,
     "end_time": "2021-04-28T12:04:33.158127",
     "exception": false,
     "start_time": "2021-04-28T12:04:33.118343",
     "status": "completed"
    },
    "tags": []
   },
   "outputs": [],
   "source": [
    "#hide\n",
    "# cols = list(g.columns.values)"
   ]
  },
  {
   "cell_type": "code",
   "execution_count": 29,
   "id": "solved-farming",
   "metadata": {
    "execution": {
     "iopub.execute_input": "2021-04-28T12:04:33.225904Z",
     "iopub.status.busy": "2021-04-28T12:04:33.225314Z",
     "iopub.status.idle": "2021-04-28T12:04:33.227577Z",
     "shell.execute_reply": "2021-04-28T12:04:33.228122Z"
    },
    "papermill": {
     "duration": 0.03937,
     "end_time": "2021-04-28T12:04:33.228255",
     "exception": false,
     "start_time": "2021-04-28T12:04:33.188885",
     "status": "completed"
    },
    "tags": []
   },
   "outputs": [],
   "source": [
    "#hide\n",
    "# cols.insert(0, cols.pop())"
   ]
  },
  {
   "cell_type": "code",
   "execution_count": 30,
   "id": "executed-adoption",
   "metadata": {
    "execution": {
     "iopub.execute_input": "2021-04-28T12:04:33.296723Z",
     "iopub.status.busy": "2021-04-28T12:04:33.296255Z",
     "iopub.status.idle": "2021-04-28T12:04:33.299042Z",
     "shell.execute_reply": "2021-04-28T12:04:33.298614Z"
    },
    "papermill": {
     "duration": 0.038431,
     "end_time": "2021-04-28T12:04:33.299151",
     "exception": false,
     "start_time": "2021-04-28T12:04:33.260720",
     "status": "completed"
    },
    "tags": []
   },
   "outputs": [],
   "source": [
    "#hide\n",
    "# g = g[cols]"
   ]
  },
  {
   "cell_type": "code",
   "execution_count": 31,
   "id": "subject-dublin",
   "metadata": {
    "execution": {
     "iopub.execute_input": "2021-04-28T12:04:33.367938Z",
     "iopub.status.busy": "2021-04-28T12:04:33.367360Z",
     "iopub.status.idle": "2021-04-28T12:04:33.369829Z",
     "shell.execute_reply": "2021-04-28T12:04:33.370282Z"
    },
    "papermill": {
     "duration": 0.039747,
     "end_time": "2021-04-28T12:04:33.370405",
     "exception": false,
     "start_time": "2021-04-28T12:04:33.330658",
     "status": "completed"
    },
    "tags": []
   },
   "outputs": [],
   "source": [
    "#hide\n",
    "# g['continent'] = g['continent'].map(mapping['map.continent'])"
   ]
  },
  {
   "cell_type": "code",
   "execution_count": 32,
   "id": "freelance-scout",
   "metadata": {
    "execution": {
     "iopub.execute_input": "2021-04-28T12:04:33.439363Z",
     "iopub.status.busy": "2021-04-28T12:04:33.438834Z",
     "iopub.status.idle": "2021-04-28T12:04:33.441217Z",
     "shell.execute_reply": "2021-04-28T12:04:33.441752Z"
    },
    "papermill": {
     "duration": 0.039387,
     "end_time": "2021-04-28T12:04:33.441892",
     "exception": false,
     "start_time": "2021-04-28T12:04:33.402505",
     "status": "completed"
    },
    "tags": []
   },
   "outputs": [],
   "source": [
    "#hide\n",
    "# g.head()"
   ]
  },
  {
   "cell_type": "code",
   "execution_count": 33,
   "id": "limited-engine",
   "metadata": {
    "execution": {
     "iopub.execute_input": "2021-04-28T12:04:33.511512Z",
     "iopub.status.busy": "2021-04-28T12:04:33.510874Z",
     "iopub.status.idle": "2021-04-28T12:04:33.513254Z",
     "shell.execute_reply": "2021-04-28T12:04:33.513790Z"
    },
    "papermill": {
     "duration": 0.039458,
     "end_time": "2021-04-28T12:04:33.513920",
     "exception": false,
     "start_time": "2021-04-28T12:04:33.474462",
     "status": "completed"
    },
    "tags": []
   },
   "outputs": [],
   "source": [
    "# hide\n",
    "# g['date'] = g['date'].astype('datetime64[ns]')"
   ]
  },
  {
   "cell_type": "code",
   "execution_count": 34,
   "id": "sophisticated-supervisor",
   "metadata": {
    "execution": {
     "iopub.execute_input": "2021-04-28T12:04:33.583922Z",
     "iopub.status.busy": "2021-04-28T12:04:33.583351Z",
     "iopub.status.idle": "2021-04-28T12:04:33.586227Z",
     "shell.execute_reply": "2021-04-28T12:04:33.586773Z"
    },
    "papermill": {
     "duration": 0.040338,
     "end_time": "2021-04-28T12:04:33.586913",
     "exception": false,
     "start_time": "2021-04-28T12:04:33.546575",
     "status": "completed"
    },
    "tags": []
   },
   "outputs": [],
   "source": [
    "#hide\n",
    "# g['date'] = g.date.dt.dayofyear"
   ]
  },
  {
   "cell_type": "code",
   "execution_count": 35,
   "id": "inside-dubai",
   "metadata": {
    "execution": {
     "iopub.execute_input": "2021-04-28T12:04:33.658029Z",
     "iopub.status.busy": "2021-04-28T12:04:33.657381Z",
     "iopub.status.idle": "2021-04-28T12:04:33.659404Z",
     "shell.execute_reply": "2021-04-28T12:04:33.659896Z"
    },
    "papermill": {
     "duration": 0.040463,
     "end_time": "2021-04-28T12:04:33.660033",
     "exception": false,
     "start_time": "2021-04-28T12:04:33.619570",
     "status": "completed"
    },
    "tags": []
   },
   "outputs": [],
   "source": [
    "#hide\n",
    "# g = g.rename(columns= {'continent':'group','country':'name','cases':'value'})"
   ]
  },
  {
   "cell_type": "code",
   "execution_count": 36,
   "id": "fleet-motorcycle",
   "metadata": {
    "execution": {
     "iopub.execute_input": "2021-04-28T12:04:33.727667Z",
     "iopub.status.busy": "2021-04-28T12:04:33.727104Z",
     "iopub.status.idle": "2021-04-28T12:04:33.729845Z",
     "shell.execute_reply": "2021-04-28T12:04:33.729391Z"
    },
    "papermill": {
     "duration": 0.038813,
     "end_time": "2021-04-28T12:04:33.729950",
     "exception": false,
     "start_time": "2021-04-28T12:04:33.691137",
     "status": "completed"
    },
    "tags": []
   },
   "outputs": [],
   "source": [
    "#hide\n",
    "# cols = ['name','group','day','value']"
   ]
  },
  {
   "cell_type": "code",
   "execution_count": 37,
   "id": "continued-sleeping",
   "metadata": {
    "execution": {
     "iopub.execute_input": "2021-04-28T12:04:33.799698Z",
     "iopub.status.busy": "2021-04-28T12:04:33.798696Z",
     "iopub.status.idle": "2021-04-28T12:04:33.800348Z",
     "shell.execute_reply": "2021-04-28T12:04:33.800711Z"
    },
    "papermill": {
     "duration": 0.039031,
     "end_time": "2021-04-28T12:04:33.800823",
     "exception": false,
     "start_time": "2021-04-28T12:04:33.761792",
     "status": "completed"
    },
    "tags": []
   },
   "outputs": [],
   "source": [
    "#hide\n",
    "# g.rename(columns= {'date':'day'},inplace = True)"
   ]
  },
  {
   "cell_type": "code",
   "execution_count": 38,
   "id": "major-fight",
   "metadata": {
    "execution": {
     "iopub.execute_input": "2021-04-28T12:04:33.869018Z",
     "iopub.status.busy": "2021-04-28T12:04:33.868482Z",
     "iopub.status.idle": "2021-04-28T12:04:33.872344Z",
     "shell.execute_reply": "2021-04-28T12:04:33.871859Z"
    },
    "papermill": {
     "duration": 0.038972,
     "end_time": "2021-04-28T12:04:33.872459",
     "exception": false,
     "start_time": "2021-04-28T12:04:33.833487",
     "status": "completed"
    },
    "tags": []
   },
   "outputs": [],
   "source": [
    "#hide\n",
    "# g = g[cols]"
   ]
  },
  {
   "cell_type": "code",
   "execution_count": 39,
   "id": "structured-mobile",
   "metadata": {
    "execution": {
     "iopub.execute_input": "2021-04-28T12:04:33.945224Z",
     "iopub.status.busy": "2021-04-28T12:04:33.944622Z",
     "iopub.status.idle": "2021-04-28T12:04:33.947080Z",
     "shell.execute_reply": "2021-04-28T12:04:33.947612Z"
    },
    "papermill": {
     "duration": 0.041192,
     "end_time": "2021-04-28T12:04:33.947751",
     "exception": false,
     "start_time": "2021-04-28T12:04:33.906559",
     "status": "completed"
    },
    "tags": []
   },
   "outputs": [],
   "source": [
    "# #hide\n",
    "# g = g[g.group.notna()]"
   ]
  },
  {
   "cell_type": "code",
   "execution_count": 40,
   "id": "determined-closing",
   "metadata": {
    "execution": {
     "iopub.execute_input": "2021-04-28T12:04:34.021644Z",
     "iopub.status.busy": "2021-04-28T12:04:34.021026Z",
     "iopub.status.idle": "2021-04-28T12:04:34.023299Z",
     "shell.execute_reply": "2021-04-28T12:04:34.023733Z"
    },
    "papermill": {
     "duration": 0.041965,
     "end_time": "2021-04-28T12:04:34.023876",
     "exception": false,
     "start_time": "2021-04-28T12:04:33.981911",
     "status": "completed"
    },
    "tags": []
   },
   "outputs": [],
   "source": [
    "# #hide\n",
    "# colors = dict(zip(\n",
    "#     [\"Oceania\", \"Europe\", \"Asia\", \"South America\", \"Middle East\", \"North America\", \"Africa\"],\n",
    "#     [\"#adb0ff\", \"#ffb3ff\", \"#90d595\", \"#e48381\", \"#aafbff\", \"#f7bb5f\", \"#eafb50\"]\n",
    "# ))\n",
    "# group_lk = g.set_index('name')['group'].to_dict()"
   ]
  },
  {
   "cell_type": "code",
   "execution_count": null,
   "id": "gross-drinking",
   "metadata": {
    "papermill": {
     "duration": 0.034484,
     "end_time": "2021-04-28T12:04:34.093033",
     "exception": false,
     "start_time": "2021-04-28T12:04:34.058549",
     "status": "completed"
    },
    "tags": []
   },
   "outputs": [],
   "source": []
  },
  {
   "cell_type": "code",
   "execution_count": 41,
   "id": "subject-macintosh",
   "metadata": {
    "execution": {
     "iopub.execute_input": "2021-04-28T12:04:34.166509Z",
     "iopub.status.busy": "2021-04-28T12:04:34.165911Z",
     "iopub.status.idle": "2021-04-28T12:04:34.167707Z",
     "shell.execute_reply": "2021-04-28T12:04:34.168109Z"
    },
    "papermill": {
     "duration": 0.040684,
     "end_time": "2021-04-28T12:04:34.168241",
     "exception": false,
     "start_time": "2021-04-28T12:04:34.127557",
     "status": "completed"
    },
    "tags": []
   },
   "outputs": [],
   "source": [
    "# #hide\n",
    "# fig, ax = plt.subplots(figsize=(15, 8))\n",
    "\n",
    "# def draw_barchart(current_day):\n",
    "#     dff = g[g['day'].eq(current_day)].sort_values(by='value', ascending=True).tail(10)\n",
    "#     ax.clear()\n",
    "#     ax.barh(dff['name'], dff['value'], color=[colors[group_lk[x]] for x in dff['name']])\n",
    "#     dx = dff['value'].max() / 200\n",
    "    \n",
    "#     for i, (value, name) in enumerate(zip(dff['value'], dff['name'])):\n",
    "#         ax.text(value-dx, i,     name,           size=14, weight=600, ha='right', va='bottom')\n",
    "#         ax.text(value-dx, i-.25, group_lk[name], size=10, color='#444444', ha='right', va='baseline')\n",
    "#         ax.text(value+dx, i,     f'{value:,.0f}',  size=14, ha='left',  va='center')\n",
    "#     ax.text(1, 0.4, current_day, transform=ax.transAxes, color='#777777', size=46, ha='right', weight=800)\n",
    "#     ax.text(0, 1.06, 'Population (thousands)', transform=ax.transAxes, size=12, color='#777777')\n",
    "#     ax.xaxis.set_major_formatter(ticker.StrMethodFormatter('{x:,.0f}'))\n",
    "#     ax.xaxis.set_ticks_position('top')\n",
    "#     ax.tick_params(axis='x', colors='#777777', labelsize=12)\n",
    "#     ax.set_yticks([])\n",
    "#     ax.margins(0, 0.01)\n",
    "#     ax.grid(which='major', axis='x', linestyle='-')\n",
    "#     ax.set_axisbelow(True)\n",
    "    \n",
    "#     ax.text(0, 1.15, 'Coronavirus',\n",
    "#             transform=ax.transAxes, size=24, weight=600, ha='left', va='top')\n",
    "# #     ax.text(1, 0, 'by @pratapvardhan; credit @jburnmurdoch', transform=ax.transAxes, color='#777777', ha='right',\n",
    "# #             bbox=dict(facecolor='white', alpha=0.8, edgecolor='white'))\n",
    "#     plt.box(False)"
   ]
  },
  {
   "cell_type": "code",
   "execution_count": 42,
   "id": "sexual-wages",
   "metadata": {
    "execution": {
     "iopub.execute_input": "2021-04-28T12:04:34.239133Z",
     "iopub.status.busy": "2021-04-28T12:04:34.238558Z",
     "iopub.status.idle": "2021-04-28T12:04:34.240981Z",
     "shell.execute_reply": "2021-04-28T12:04:34.241566Z"
    },
    "papermill": {
     "duration": 0.039949,
     "end_time": "2021-04-28T12:04:34.241713",
     "exception": false,
     "start_time": "2021-04-28T12:04:34.201764",
     "status": "completed"
    },
    "tags": []
   },
   "outputs": [],
   "source": [
    "# #hide_input\n",
    "# fig, ax = plt.subplots(figsize=(15, 8))\n",
    "# animator = animation.FuncAnimation(fig, draw_barchart, frames=range(g.day.values.min(), g.day.values.max()))\n",
    "# HTML(animator.to_jshtml())\n",
    "# # or use animator.to_html5_video() or animator.save() "
   ]
  },
  {
   "cell_type": "code",
   "execution_count": null,
   "id": "australian-container",
   "metadata": {
    "papermill": {
     "duration": 0.030625,
     "end_time": "2021-04-28T12:04:34.304417",
     "exception": false,
     "start_time": "2021-04-28T12:04:34.273792",
     "status": "completed"
    },
    "tags": []
   },
   "outputs": [],
   "source": []
  },
  {
   "cell_type": "code",
   "execution_count": null,
   "id": "mediterranean-pontiac",
   "metadata": {
    "papermill": {
     "duration": 0.03305,
     "end_time": "2021-04-28T12:04:34.370005",
     "exception": false,
     "start_time": "2021-04-28T12:04:34.336955",
     "status": "completed"
    },
    "tags": []
   },
   "outputs": [],
   "source": []
  },
  {
   "cell_type": "code",
   "execution_count": null,
   "id": "aging-legislature",
   "metadata": {
    "papermill": {
     "duration": 0.031787,
     "end_time": "2021-04-28T12:04:34.435457",
     "exception": false,
     "start_time": "2021-04-28T12:04:34.403670",
     "status": "completed"
    },
    "tags": []
   },
   "outputs": [],
   "source": []
  }
 ],
 "metadata": {
  "kernelspec": {
   "display_name": "Python 3",
   "language": "python",
   "name": "python3"
  },
  "language_info": {
   "codemirror_mode": {
    "name": "ipython",
    "version": 3
   },
   "file_extension": ".py",
   "mimetype": "text/x-python",
   "name": "python",
   "nbconvert_exporter": "python",
   "pygments_lexer": "ipython3",
   "version": "3.6.13"
  },
  "papermill": {
   "duration": 6.233227,
   "end_time": "2021-04-28T12:04:34.775354",
   "environment_variables": {},
   "exception": null,
   "input_path": "2020-03-21-covid19exp.ipynb",
   "output_path": "2020-03-21-covid19exp.ipynb",
   "parameters": {},
   "start_time": "2021-04-28T12:04:28.542127",
   "version": "2.0.0"
  }
 },
 "nbformat": 4,
 "nbformat_minor": 5
}