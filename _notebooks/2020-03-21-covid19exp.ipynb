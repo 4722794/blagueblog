{
 "cells": [
  {
   "cell_type": "markdown",
   "id": "muslim-click",
   "metadata": {
    "papermill": {
     "duration": 0.035814,
     "end_time": "2022-10-24T12:21:52.969188",
     "exception": false,
     "start_time": "2022-10-24T12:21:52.933374",
     "status": "completed"
    },
    "tags": []
   },
   "source": [
    "# COVID-19 Case Race\n",
    "> A race chart to see rising cases around the world\n",
    "\n",
    "- author: Hargun Oberoi\n",
    "- image: images/covid-overview.png\n",
    "- hide: false\n",
    "- badges: false"
   ]
  },
  {
   "cell_type": "code",
   "execution_count": 1,
   "id": "proof-material",
   "metadata": {
    "execution": {
     "iopub.execute_input": "2022-10-24T12:21:53.039282Z",
     "iopub.status.busy": "2022-10-24T12:21:53.037642Z",
     "iopub.status.idle": "2022-10-24T12:21:53.352493Z",
     "shell.execute_reply": "2022-10-24T12:21:53.351996Z"
    },
    "papermill": {
     "duration": 0.352659,
     "end_time": "2022-10-24T12:21:53.352627",
     "exception": false,
     "start_time": "2022-10-24T12:21:52.999968",
     "status": "completed"
    },
    "tags": []
   },
   "outputs": [],
   "source": [
    "#hide\n",
    "import numpy as np\n",
    "import pandas as pd\n",
    "from jinja2 import Template\n",
    "from IPython.display import HTML"
   ]
  },
  {
   "cell_type": "code",
   "execution_count": 2,
   "id": "developed-terminology",
   "metadata": {
    "execution": {
     "iopub.execute_input": "2022-10-24T12:21:53.417776Z",
     "iopub.status.busy": "2022-10-24T12:21:53.417203Z",
     "iopub.status.idle": "2022-10-24T12:21:53.419573Z",
     "shell.execute_reply": "2022-10-24T12:21:53.419129Z"
    },
    "papermill": {
     "duration": 0.036733,
     "end_time": "2022-10-24T12:21:53.419690",
     "exception": false,
     "start_time": "2022-10-24T12:21:53.382957",
     "status": "completed"
    },
    "tags": []
   },
   "outputs": [],
   "source": [
    "#hide\n",
    "\n",
    "# FETCH\n",
    "base_url = 'https://raw.githubusercontent.com/pratapvardhan/notebooks/master/covid19/'\n",
    "paths = {\n",
    "    'mapping': base_url + 'mapping_countries.csv',\n",
    "    'overview': base_url + 'overview.tpl'\n",
    "}"
   ]
  },
  {
   "cell_type": "code",
   "execution_count": 3,
   "id": "dynamic-saver",
   "metadata": {
    "execution": {
     "iopub.execute_input": "2022-10-24T12:21:53.488554Z",
     "iopub.status.busy": "2022-10-24T12:21:53.487998Z",
     "iopub.status.idle": "2022-10-24T12:21:53.491408Z",
     "shell.execute_reply": "2022-10-24T12:21:53.490885Z"
    },
    "papermill": {
     "duration": 0.041724,
     "end_time": "2022-10-24T12:21:53.491505",
     "exception": false,
     "start_time": "2022-10-24T12:21:53.449781",
     "status": "completed"
    },
    "tags": []
   },
   "outputs": [
    {
     "data": {
      "text/plain": [
       "'https://raw.githubusercontent.com/pratapvardhan/notebooks/master/covid19/mapping_countries.csv'"
      ]
     },
     "execution_count": 3,
     "metadata": {},
     "output_type": "execute_result"
    }
   ],
   "source": [
    "#hide\n",
    "paths['mapping']"
   ]
  },
  {
   "cell_type": "code",
   "execution_count": 4,
   "id": "urban-software",
   "metadata": {
    "execution": {
     "iopub.execute_input": "2022-10-24T12:21:53.557990Z",
     "iopub.status.busy": "2022-10-24T12:21:53.557335Z",
     "iopub.status.idle": "2022-10-24T12:21:53.559281Z",
     "shell.execute_reply": "2022-10-24T12:21:53.559709Z"
    },
    "papermill": {
     "duration": 0.037815,
     "end_time": "2022-10-24T12:21:53.559841",
     "exception": false,
     "start_time": "2022-10-24T12:21:53.522026",
     "status": "completed"
    },
    "tags": []
   },
   "outputs": [],
   "source": [
    "#hide\n",
    "def get_mappings(url):\n",
    "    df = pd.read_csv(url)\n",
    "    return {\n",
    "        'df': df,\n",
    "        'replace.country': dict(df.dropna(subset=['Name']).set_index('Country')['Name']),\n",
    "        'map.continent': dict(df.set_index('Name')['Continent'])\n",
    "    }"
   ]
  },
  {
   "cell_type": "code",
   "execution_count": 5,
   "id": "intimate-machinery",
   "metadata": {
    "execution": {
     "iopub.execute_input": "2022-10-24T12:21:53.626268Z",
     "iopub.status.busy": "2022-10-24T12:21:53.625687Z",
     "iopub.status.idle": "2022-10-24T12:21:53.665649Z",
     "shell.execute_reply": "2022-10-24T12:21:53.665147Z"
    },
    "papermill": {
     "duration": 0.075274,
     "end_time": "2022-10-24T12:21:53.665761",
     "exception": false,
     "start_time": "2022-10-24T12:21:53.590487",
     "status": "completed"
    },
    "tags": []
   },
   "outputs": [],
   "source": [
    "#hide\n",
    "mapping = get_mappings(paths['mapping'])"
   ]
  },
  {
   "cell_type": "code",
   "execution_count": 6,
   "id": "certified-tactics",
   "metadata": {
    "execution": {
     "iopub.execute_input": "2022-10-24T12:21:53.732050Z",
     "iopub.status.busy": "2022-10-24T12:21:53.731456Z",
     "iopub.status.idle": "2022-10-24T12:21:53.733813Z",
     "shell.execute_reply": "2022-10-24T12:21:53.733369Z"
    },
    "papermill": {
     "duration": 0.037399,
     "end_time": "2022-10-24T12:21:53.733913",
     "exception": false,
     "start_time": "2022-10-24T12:21:53.696514",
     "status": "completed"
    },
    "tags": []
   },
   "outputs": [],
   "source": [
    "#hide\n",
    "def get_template(path):\n",
    "    from urllib.parse import urlparse\n",
    "    if bool(urlparse(path).netloc):\n",
    "        from urllib.request import urlopen\n",
    "        return urlopen(path).read().decode('utf8')\n",
    "    return open(path).read()"
   ]
  },
  {
   "cell_type": "code",
   "execution_count": 7,
   "id": "realistic-blast",
   "metadata": {
    "execution": {
     "iopub.execute_input": "2022-10-24T12:21:53.799884Z",
     "iopub.status.busy": "2022-10-24T12:21:53.799309Z",
     "iopub.status.idle": "2022-10-24T12:21:53.801211Z",
     "shell.execute_reply": "2022-10-24T12:21:53.801644Z"
    },
    "papermill": {
     "duration": 0.037306,
     "end_time": "2022-10-24T12:21:53.801757",
     "exception": false,
     "start_time": "2022-10-24T12:21:53.764451",
     "status": "completed"
    },
    "tags": []
   },
   "outputs": [],
   "source": [
    "#hide\n",
    "def get_frame(name):\n",
    "    url = (\n",
    "        'https://raw.githubusercontent.com/CSSEGISandData/COVID-19/master/csse_covid_19_data/'\n",
    "        f'csse_covid_19_time_series/time_series_covid19_{name}_global.csv')\n",
    "    df = pd.read_csv(url)\n",
    "    # rename countries\n",
    "    df['Country/Region'] = df['Country/Region'].replace(mapping['replace.country'])\n",
    "    return df"
   ]
  },
  {
   "cell_type": "code",
   "execution_count": 8,
   "id": "affiliated-characterization",
   "metadata": {
    "execution": {
     "iopub.execute_input": "2022-10-24T12:21:53.868526Z",
     "iopub.status.busy": "2022-10-24T12:21:53.867929Z",
     "iopub.status.idle": "2022-10-24T12:21:53.869799Z",
     "shell.execute_reply": "2022-10-24T12:21:53.870231Z"
    },
    "papermill": {
     "duration": 0.037992,
     "end_time": "2022-10-24T12:21:53.870347",
     "exception": false,
     "start_time": "2022-10-24T12:21:53.832355",
     "status": "completed"
    },
    "tags": []
   },
   "outputs": [],
   "source": [
    "#hide\n",
    "def get_dates(df):\n",
    "    dt_cols = df.columns[~df.columns.isin(['Province/State', 'Country/Region', 'Lat', 'Long'])]\n",
    "    LAST_DATE_I = -1\n",
    "    # sometimes last column may be empty, then go backwards\n",
    "    for i in range(-1, -len(dt_cols), -1):\n",
    "        if not df[dt_cols[i]].fillna(0).eq(0).all():\n",
    "            LAST_DATE_I = i\n",
    "            break\n",
    "    return LAST_DATE_I, dt_cols"
   ]
  },
  {
   "cell_type": "code",
   "execution_count": 9,
   "id": "recent-optimization",
   "metadata": {
    "execution": {
     "iopub.execute_input": "2022-10-24T12:21:53.936321Z",
     "iopub.status.busy": "2022-10-24T12:21:53.935709Z",
     "iopub.status.idle": "2022-10-24T12:21:54.411477Z",
     "shell.execute_reply": "2022-10-24T12:21:54.410984Z"
    },
    "papermill": {
     "duration": 0.510691,
     "end_time": "2022-10-24T12:21:54.411590",
     "exception": false,
     "start_time": "2022-10-24T12:21:53.900899",
     "status": "completed"
    },
    "tags": []
   },
   "outputs": [],
   "source": [
    "#hide\n",
    "COL_REGION = 'Country/Region'\n",
    "# Confirmed, Recovered, Deaths\n",
    "df = get_frame('confirmed')\n",
    "# dft_: timeseries, dfc_: today country agg\n",
    "dft_cases = df\n",
    "dft_deaths = get_frame('deaths')\n",
    "dft_recovered = get_frame('recovered')\n",
    "LAST_DATE_I, dt_cols = get_dates(df)"
   ]
  },
  {
   "cell_type": "code",
   "execution_count": 10,
   "id": "absolute-copper",
   "metadata": {
    "execution": {
     "iopub.execute_input": "2022-10-24T12:21:54.477628Z",
     "iopub.status.busy": "2022-10-24T12:21:54.477046Z",
     "iopub.status.idle": "2022-10-24T12:21:54.479403Z",
     "shell.execute_reply": "2022-10-24T12:21:54.478879Z"
    },
    "papermill": {
     "duration": 0.037238,
     "end_time": "2022-10-24T12:21:54.479502",
     "exception": false,
     "start_time": "2022-10-24T12:21:54.442264",
     "status": "completed"
    },
    "tags": []
   },
   "outputs": [],
   "source": [
    "#hide\n",
    "LAST_DATE_I, dt_cols = get_dates(df)\n",
    "dt_today =dt_cols[LAST_DATE_I]\n",
    "# dt_5day = dt_cols[LAST_DATE_I - 5]\n",
    "dt_yday = dt_cols[LAST_DATE_I - 1]"
   ]
  },
  {
   "cell_type": "code",
   "execution_count": 11,
   "id": "restricted-sheriff",
   "metadata": {
    "execution": {
     "iopub.execute_input": "2022-10-24T12:21:54.545034Z",
     "iopub.status.busy": "2022-10-24T12:21:54.544473Z",
     "iopub.status.idle": "2022-10-24T12:21:54.551703Z",
     "shell.execute_reply": "2022-10-24T12:21:54.551242Z"
    },
    "papermill": {
     "duration": 0.041904,
     "end_time": "2022-10-24T12:21:54.551803",
     "exception": false,
     "start_time": "2022-10-24T12:21:54.509899",
     "status": "completed"
    },
    "tags": []
   },
   "outputs": [],
   "source": [
    "#hide\n",
    "dfc_cases = dft_cases.groupby(COL_REGION)[dt_today].sum()\n",
    "dfc_deaths = dft_deaths.groupby(COL_REGION)[dt_today].sum()\n",
    "# dfp_cases = dft_cases.groupby(COL_REGION)[dt_5day].sum()\n",
    "# dfp_deaths = dft_deaths.groupby(COL_REGION)[dt_5day].sum()\n",
    "dfp_cases = dft_cases.groupby(COL_REGION)[dt_yday].sum()\n",
    "dfp_deaths = dft_deaths.groupby(COL_REGION)[dt_yday].sum()"
   ]
  },
  {
   "cell_type": "code",
   "execution_count": 12,
   "id": "deluxe-hepatitis",
   "metadata": {
    "execution": {
     "iopub.execute_input": "2022-10-24T12:21:54.618067Z",
     "iopub.status.busy": "2022-10-24T12:21:54.617522Z",
     "iopub.status.idle": "2022-10-24T12:21:54.621689Z",
     "shell.execute_reply": "2022-10-24T12:21:54.622139Z"
    },
    "papermill": {
     "duration": 0.040007,
     "end_time": "2022-10-24T12:21:54.622252",
     "exception": false,
     "start_time": "2022-10-24T12:21:54.582245",
     "status": "completed"
    },
    "tags": []
   },
   "outputs": [],
   "source": [
    "#hide\n",
    "df_table = (pd.DataFrame(dict(Cases = dfc_cases, Deaths = dfc_deaths, PCases = dfp_cases, PDeaths = dfp_deaths))\n",
    "            .sort_values(by = ['Cases','Deaths'], ascending = [False, False])\n",
    "            .reset_index())"
   ]
  },
  {
   "cell_type": "code",
   "execution_count": 13,
   "id": "educational-chancellor",
   "metadata": {
    "execution": {
     "iopub.execute_input": "2022-10-24T12:21:54.696157Z",
     "iopub.status.busy": "2022-10-24T12:21:54.695564Z",
     "iopub.status.idle": "2022-10-24T12:21:54.707402Z",
     "shell.execute_reply": "2022-10-24T12:21:54.706981Z"
    },
    "papermill": {
     "duration": 0.05449,
     "end_time": "2022-10-24T12:21:54.707509",
     "exception": false,
     "start_time": "2022-10-24T12:21:54.653019",
     "status": "completed"
    },
    "tags": []
   },
   "outputs": [
    {
     "data": {
      "text/html": [
       "<div>\n",
       "<style scoped>\n",
       "    .dataframe tbody tr th:only-of-type {\n",
       "        vertical-align: middle;\n",
       "    }\n",
       "\n",
       "    .dataframe tbody tr th {\n",
       "        vertical-align: top;\n",
       "    }\n",
       "\n",
       "    .dataframe thead th {\n",
       "        text-align: right;\n",
       "    }\n",
       "</style>\n",
       "<table border=\"1\" class=\"dataframe\">\n",
       "  <thead>\n",
       "    <tr style=\"text-align: right;\">\n",
       "      <th></th>\n",
       "      <th>Country/Region</th>\n",
       "      <th>Cases</th>\n",
       "      <th>Deaths</th>\n",
       "      <th>PCases</th>\n",
       "      <th>PDeaths</th>\n",
       "      <th>Cases (+)</th>\n",
       "      <th>Deaths (+)</th>\n",
       "      <th>Fatality Rate</th>\n",
       "      <th>Continent</th>\n",
       "    </tr>\n",
       "  </thead>\n",
       "  <tbody>\n",
       "    <tr>\n",
       "      <th>0</th>\n",
       "      <td>US</td>\n",
       "      <td>97198630</td>\n",
       "      <td>1067686</td>\n",
       "      <td>97190530</td>\n",
       "      <td>1067685</td>\n",
       "      <td>8100</td>\n",
       "      <td>1</td>\n",
       "      <td>1.10</td>\n",
       "      <td>North America</td>\n",
       "    </tr>\n",
       "    <tr>\n",
       "      <th>1</th>\n",
       "      <td>India</td>\n",
       "      <td>44644076</td>\n",
       "      <td>528977</td>\n",
       "      <td>44642742</td>\n",
       "      <td>528961</td>\n",
       "      <td>1334</td>\n",
       "      <td>16</td>\n",
       "      <td>1.18</td>\n",
       "      <td>Asia</td>\n",
       "    </tr>\n",
       "    <tr>\n",
       "      <th>2</th>\n",
       "      <td>France</td>\n",
       "      <td>36741974</td>\n",
       "      <td>157377</td>\n",
       "      <td>36741974</td>\n",
       "      <td>157377</td>\n",
       "      <td>0</td>\n",
       "      <td>0</td>\n",
       "      <td>0.43</td>\n",
       "      <td>Europe</td>\n",
       "    </tr>\n",
       "    <tr>\n",
       "      <th>3</th>\n",
       "      <td>Germany</td>\n",
       "      <td>35172694</td>\n",
       "      <td>152482</td>\n",
       "      <td>35172694</td>\n",
       "      <td>152482</td>\n",
       "      <td>0</td>\n",
       "      <td>0</td>\n",
       "      <td>0.43</td>\n",
       "      <td>Europe</td>\n",
       "    </tr>\n",
       "    <tr>\n",
       "      <th>4</th>\n",
       "      <td>Brazil</td>\n",
       "      <td>34780462</td>\n",
       "      <td>687527</td>\n",
       "      <td>34780462</td>\n",
       "      <td>687527</td>\n",
       "      <td>0</td>\n",
       "      <td>0</td>\n",
       "      <td>1.98</td>\n",
       "      <td>South America</td>\n",
       "    </tr>\n",
       "  </tbody>\n",
       "</table>\n",
       "</div>"
      ],
      "text/plain": [
       "  Country/Region     Cases   Deaths    PCases  PDeaths  Cases (+)  Deaths (+)  \\\n",
       "0             US  97198630  1067686  97190530  1067685       8100           1   \n",
       "1          India  44644076   528977  44642742   528961       1334          16   \n",
       "2         France  36741974   157377  36741974   157377          0           0   \n",
       "3        Germany  35172694   152482  35172694   152482          0           0   \n",
       "4         Brazil  34780462   687527  34780462   687527          0           0   \n",
       "\n",
       "   Fatality Rate      Continent  \n",
       "0           1.10  North America  \n",
       "1           1.18           Asia  \n",
       "2           0.43         Europe  \n",
       "3           0.43         Europe  \n",
       "4           1.98  South America  "
      ]
     },
     "execution_count": 13,
     "metadata": {},
     "output_type": "execute_result"
    }
   ],
   "source": [
    "#hide\n",
    "for c in 'Cases, Deaths'.split(', '):\n",
    "    df_table[f'{c} (+)'] = (df_table[c] - df_table[f'P{c}']).clip(0)\n",
    "    #Clip ça veut dire, les chiffres negatif sont interdit\n",
    "df_table['Fatality Rate'] = (100* df_table['Deaths']/ df_table['Cases']).round(2)\n",
    "df_table['Continent'] = df_table['Country/Region'].map(mapping['map.continent'])\n",
    "df_table.head(5)"
   ]
  },
  {
   "cell_type": "code",
   "execution_count": 14,
   "id": "aboriginal-bulgaria",
   "metadata": {
    "execution": {
     "iopub.execute_input": "2022-10-24T12:21:54.775036Z",
     "iopub.status.busy": "2022-10-24T12:21:54.774492Z",
     "iopub.status.idle": "2022-10-24T12:21:54.776747Z",
     "shell.execute_reply": "2022-10-24T12:21:54.777182Z"
    },
    "papermill": {
     "duration": 0.038538,
     "end_time": "2022-10-24T12:21:54.777294",
     "exception": false,
     "start_time": "2022-10-24T12:21:54.738756",
     "status": "completed"
    },
    "tags": []
   },
   "outputs": [],
   "source": [
    "#hide\n",
    "#delete problematic countries from table\n",
    "df_table = df_table[~df_table['Country/Region'].isin(['Cape Verde', 'Cruise Ship', 'Kosovo'])]"
   ]
  },
  {
   "cell_type": "code",
   "execution_count": 15,
   "id": "fantastic-effect",
   "metadata": {
    "execution": {
     "iopub.execute_input": "2022-10-24T12:21:54.847254Z",
     "iopub.status.busy": "2022-10-24T12:21:54.846684Z",
     "iopub.status.idle": "2022-10-24T12:21:54.863700Z",
     "shell.execute_reply": "2022-10-24T12:21:54.864133Z"
    },
    "papermill": {
     "duration": 0.055597,
     "end_time": "2022-10-24T12:21:54.864255",
     "exception": false,
     "start_time": "2022-10-24T12:21:54.808658",
     "status": "completed"
    },
    "tags": []
   },
   "outputs": [
    {
     "data": {
      "text/html": [
       "<div>\n",
       "<style scoped>\n",
       "    .dataframe tbody tr th:only-of-type {\n",
       "        vertical-align: middle;\n",
       "    }\n",
       "\n",
       "    .dataframe tbody tr th {\n",
       "        vertical-align: top;\n",
       "    }\n",
       "\n",
       "    .dataframe thead th {\n",
       "        text-align: right;\n",
       "    }\n",
       "</style>\n",
       "<table border=\"1\" class=\"dataframe\">\n",
       "  <thead>\n",
       "    <tr style=\"text-align: right;\">\n",
       "      <th></th>\n",
       "      <th>Country/Region</th>\n",
       "      <th>Cases</th>\n",
       "      <th>Deaths</th>\n",
       "      <th>PCases</th>\n",
       "      <th>PDeaths</th>\n",
       "      <th>Cases (+)</th>\n",
       "      <th>Deaths (+)</th>\n",
       "      <th>Fatality Rate</th>\n",
       "      <th>Continent</th>\n",
       "    </tr>\n",
       "  </thead>\n",
       "  <tbody>\n",
       "    <tr>\n",
       "      <th>0</th>\n",
       "      <td>US</td>\n",
       "      <td>97198630</td>\n",
       "      <td>1067686</td>\n",
       "      <td>97190530</td>\n",
       "      <td>1067685</td>\n",
       "      <td>8100</td>\n",
       "      <td>1</td>\n",
       "      <td>1.1</td>\n",
       "      <td>North America</td>\n",
       "    </tr>\n",
       "    <tr>\n",
       "      <th>1</th>\n",
       "      <td>India</td>\n",
       "      <td>44644076</td>\n",
       "      <td>528977</td>\n",
       "      <td>44642742</td>\n",
       "      <td>528961</td>\n",
       "      <td>1334</td>\n",
       "      <td>16</td>\n",
       "      <td>1.2</td>\n",
       "      <td>Asia</td>\n",
       "    </tr>\n",
       "    <tr>\n",
       "      <th>2</th>\n",
       "      <td>France</td>\n",
       "      <td>36741974</td>\n",
       "      <td>157377</td>\n",
       "      <td>36741974</td>\n",
       "      <td>157377</td>\n",
       "      <td>0</td>\n",
       "      <td>0</td>\n",
       "      <td>0.4</td>\n",
       "      <td>Europe</td>\n",
       "    </tr>\n",
       "    <tr>\n",
       "      <th>3</th>\n",
       "      <td>Germany</td>\n",
       "      <td>35172694</td>\n",
       "      <td>152482</td>\n",
       "      <td>35172694</td>\n",
       "      <td>152482</td>\n",
       "      <td>0</td>\n",
       "      <td>0</td>\n",
       "      <td>0.4</td>\n",
       "      <td>Europe</td>\n",
       "    </tr>\n",
       "    <tr>\n",
       "      <th>4</th>\n",
       "      <td>Brazil</td>\n",
       "      <td>34780462</td>\n",
       "      <td>687527</td>\n",
       "      <td>34780462</td>\n",
       "      <td>687527</td>\n",
       "      <td>0</td>\n",
       "      <td>0</td>\n",
       "      <td>2.0</td>\n",
       "      <td>South America</td>\n",
       "    </tr>\n",
       "  </tbody>\n",
       "</table>\n",
       "</div>"
      ],
      "text/plain": [
       "  Country/Region     Cases   Deaths    PCases  PDeaths  Cases (+)  Deaths (+)  \\\n",
       "0             US  97198630  1067686  97190530  1067685       8100           1   \n",
       "1          India  44644076   528977  44642742   528961       1334          16   \n",
       "2         France  36741974   157377  36741974   157377          0           0   \n",
       "3        Germany  35172694   152482  35172694   152482          0           0   \n",
       "4         Brazil  34780462   687527  34780462   687527          0           0   \n",
       "\n",
       "   Fatality Rate      Continent  \n",
       "0            1.1  North America  \n",
       "1            1.2           Asia  \n",
       "2            0.4         Europe  \n",
       "3            0.4         Europe  \n",
       "4            2.0  South America  "
      ]
     },
     "execution_count": 15,
     "metadata": {},
     "output_type": "execute_result"
    }
   ],
   "source": [
    "#hide\n",
    "df_table = (pd.DataFrame(dict(Cases=dfc_cases, Deaths=dfc_deaths, PCases=dfp_cases, PDeaths=dfp_deaths))\n",
    "             .sort_values(by=['Cases', 'Deaths'], ascending=[False, False])\n",
    "             .reset_index())\n",
    "df_table.rename(columns={'index': 'Country/Region'}, inplace=True)\n",
    "for c in 'Cases, Deaths'.split(', '):\n",
    "    df_table[f'{c} (+)'] = (df_table[c] - df_table[f'P{c}']).clip(0)  # DATA BUG\n",
    "df_table['Fatality Rate'] = (100 * df_table['Deaths'] / df_table['Cases']).round(1)\n",
    "df_table['Continent'] = df_table['Country/Region'].map(mapping['map.continent'])\n",
    "df_table.head(5)"
   ]
  },
  {
   "cell_type": "code",
   "execution_count": 16,
   "id": "fewer-occasion",
   "metadata": {
    "execution": {
     "iopub.execute_input": "2022-10-24T12:21:54.932347Z",
     "iopub.status.busy": "2022-10-24T12:21:54.931790Z",
     "iopub.status.idle": "2022-10-24T12:21:54.934618Z",
     "shell.execute_reply": "2022-10-24T12:21:54.935049Z"
    },
    "papermill": {
     "duration": 0.039253,
     "end_time": "2022-10-24T12:21:54.935163",
     "exception": false,
     "start_time": "2022-10-24T12:21:54.895910",
     "status": "completed"
    },
    "tags": []
   },
   "outputs": [],
   "source": [
    "#hide\n",
    "#delete problematic countries from table\n",
    "df_table = df_table[~df_table['Country/Region'].isin(['Cape Verde', 'Cruise Ship', 'Kosovo'])]"
   ]
  },
  {
   "cell_type": "code",
   "execution_count": 17,
   "id": "related-center",
   "metadata": {
    "execution": {
     "iopub.execute_input": "2022-10-24T12:21:55.014667Z",
     "iopub.status.busy": "2022-10-24T12:21:55.014114Z",
     "iopub.status.idle": "2022-10-24T12:21:55.016885Z",
     "shell.execute_reply": "2022-10-24T12:21:55.016348Z"
    },
    "papermill": {
     "duration": 0.050522,
     "end_time": "2022-10-24T12:21:55.016986",
     "exception": false,
     "start_time": "2022-10-24T12:21:54.966464",
     "status": "completed"
    },
    "tags": []
   },
   "outputs": [],
   "source": [
    "#hide\n",
    "metrics = [df_table.columns[index] for index in [1,2,5,6]]\n",
    "# s_china = df_table[df_table['Country/Region'].eq('China')][metrics].sum().add_prefix('China ')\n",
    "s_us = df_table[df_table['Country/Region'].eq('US')][metrics].sum().add_prefix('US ')\n",
    "s_eu = df_table[df_table['Continent'].eq('Europe')][metrics].sum().add_prefix('EU ')\n",
    "s_ind = df_table[df_table['Country/Region'].eq('India')][metrics].sum().add_prefix('India ')\n",
    "summary = {'updated': pd.to_datetime(dt_today), 'since': pd.to_datetime(dt_yday)}\n",
    "summary = {'updated': pd.to_datetime(dt_today), 'since': pd.to_datetime(dt_yday)}\n",
    "summary = {**summary, **df_table[metrics].sum(), **s_ind, **s_us, **s_eu}"
   ]
  },
  {
   "cell_type": "code",
   "execution_count": 18,
   "id": "engaging-syndrome",
   "metadata": {
    "execution": {
     "iopub.execute_input": "2022-10-24T12:21:55.084765Z",
     "iopub.status.busy": "2022-10-24T12:21:55.084210Z",
     "iopub.status.idle": "2022-10-24T12:21:55.103504Z",
     "shell.execute_reply": "2022-10-24T12:21:55.103948Z"
    },
    "papermill": {
     "duration": 0.055536,
     "end_time": "2022-10-24T12:21:55.104070",
     "exception": false,
     "start_time": "2022-10-24T12:21:55.048534",
     "status": "completed"
    },
    "tags": []
   },
   "outputs": [],
   "source": [
    "#hide\n",
    "dft_ct_new_cases = dft_cases.groupby(COL_REGION)[dt_cols].sum().diff(axis=1).fillna(0).astype(int)"
   ]
  },
  {
   "cell_type": "code",
   "execution_count": 19,
   "id": "neutral-assignment",
   "metadata": {
    "execution": {
     "iopub.execute_input": "2022-10-24T12:21:55.172831Z",
     "iopub.status.busy": "2022-10-24T12:21:55.172264Z",
     "iopub.status.idle": "2022-10-24T12:21:55.174762Z",
     "shell.execute_reply": "2022-10-24T12:21:55.174314Z"
    },
    "papermill": {
     "duration": 0.039468,
     "end_time": "2022-10-24T12:21:55.174862",
     "exception": false,
     "start_time": "2022-10-24T12:21:55.135394",
     "status": "completed"
    },
    "tags": []
   },
   "outputs": [],
   "source": [
    "#hide\n",
    "everydaycases = dft_ct_new_cases.cumsum(axis=1)"
   ]
  },
  {
   "cell_type": "code",
   "execution_count": 20,
   "id": "parliamentary-calgary",
   "metadata": {
    "execution": {
     "iopub.execute_input": "2022-10-24T12:21:55.242431Z",
     "iopub.status.busy": "2022-10-24T12:21:55.241873Z",
     "iopub.status.idle": "2022-10-24T12:21:55.784695Z",
     "shell.execute_reply": "2022-10-24T12:21:55.784223Z"
    },
    "papermill": {
     "duration": 0.578258,
     "end_time": "2022-10-24T12:21:55.784810",
     "exception": false,
     "start_time": "2022-10-24T12:21:55.206552",
     "status": "completed"
    },
    "tags": []
   },
   "outputs": [],
   "source": [
    "#hide\n",
    "import pandas as pd\n",
    "import matplotlib.pyplot as plt\n",
    "import matplotlib.ticker as ticker\n",
    "import matplotlib.animation as animation\n",
    "from IPython.display import HTML"
   ]
  },
  {
   "cell_type": "code",
   "execution_count": 21,
   "id": "lasting-extraction",
   "metadata": {
    "execution": {
     "iopub.execute_input": "2022-10-24T12:21:55.854802Z",
     "iopub.status.busy": "2022-10-24T12:21:55.854248Z",
     "iopub.status.idle": "2022-10-24T12:21:55.860965Z",
     "shell.execute_reply": "2022-10-24T12:21:55.861375Z"
    },
    "papermill": {
     "duration": 0.044606,
     "end_time": "2022-10-24T12:21:55.861499",
     "exception": false,
     "start_time": "2022-10-24T12:21:55.816893",
     "status": "completed"
    },
    "tags": []
   },
   "outputs": [],
   "source": [
    "#hide\n",
    "t = everydaycases.stack()"
   ]
  },
  {
   "cell_type": "code",
   "execution_count": 22,
   "id": "premier-sleeve",
   "metadata": {
    "execution": {
     "iopub.execute_input": "2022-10-24T12:21:55.929259Z",
     "iopub.status.busy": "2022-10-24T12:21:55.928703Z",
     "iopub.status.idle": "2022-10-24T12:21:55.940617Z",
     "shell.execute_reply": "2022-10-24T12:21:55.940070Z"
    },
    "papermill": {
     "duration": 0.047514,
     "end_time": "2022-10-24T12:21:55.940722",
     "exception": false,
     "start_time": "2022-10-24T12:21:55.893208",
     "status": "completed"
    },
    "tags": []
   },
   "outputs": [],
   "source": [
    "#hide\n",
    "g = t.reset_index(['Country/Region'])"
   ]
  },
  {
   "cell_type": "code",
   "execution_count": 23,
   "id": "distributed-pittsburgh",
   "metadata": {
    "execution": {
     "iopub.execute_input": "2022-10-24T12:21:56.007521Z",
     "iopub.status.busy": "2022-10-24T12:21:56.006958Z",
     "iopub.status.idle": "2022-10-24T12:21:56.010679Z",
     "shell.execute_reply": "2022-10-24T12:21:56.010210Z"
    },
    "papermill": {
     "duration": 0.038532,
     "end_time": "2022-10-24T12:21:56.010781",
     "exception": false,
     "start_time": "2022-10-24T12:21:55.972249",
     "status": "completed"
    },
    "tags": []
   },
   "outputs": [],
   "source": [
    "#hide\n",
    "g.index.name = 'date'"
   ]
  },
  {
   "cell_type": "code",
   "execution_count": 24,
   "id": "naked-donor",
   "metadata": {
    "execution": {
     "iopub.execute_input": "2022-10-24T12:21:56.077468Z",
     "iopub.status.busy": "2022-10-24T12:21:56.076893Z",
     "iopub.status.idle": "2022-10-24T12:21:56.078891Z",
     "shell.execute_reply": "2022-10-24T12:21:56.079286Z"
    },
    "papermill": {
     "duration": 0.037092,
     "end_time": "2022-10-24T12:21:56.079399",
     "exception": false,
     "start_time": "2022-10-24T12:21:56.042307",
     "status": "completed"
    },
    "tags": []
   },
   "outputs": [],
   "source": [
    "# #hide\n",
    "# g = g.reset_index(['date'])"
   ]
  },
  {
   "cell_type": "code",
   "execution_count": 25,
   "id": "incomplete-mustang",
   "metadata": {
    "execution": {
     "iopub.execute_input": "2022-10-24T12:21:56.145919Z",
     "iopub.status.busy": "2022-10-24T12:21:56.145354Z",
     "iopub.status.idle": "2022-10-24T12:21:56.148847Z",
     "shell.execute_reply": "2022-10-24T12:21:56.149257Z"
    },
    "papermill": {
     "duration": 0.038439,
     "end_time": "2022-10-24T12:21:56.149376",
     "exception": false,
     "start_time": "2022-10-24T12:21:56.110937",
     "status": "completed"
    },
    "tags": []
   },
   "outputs": [],
   "source": [
    "#hide\n",
    "# g.head()"
   ]
  },
  {
   "cell_type": "code",
   "execution_count": 26,
   "id": "specific-kruger",
   "metadata": {
    "execution": {
     "iopub.execute_input": "2022-10-24T12:21:56.216151Z",
     "iopub.status.busy": "2022-10-24T12:21:56.215557Z",
     "iopub.status.idle": "2022-10-24T12:21:56.217462Z",
     "shell.execute_reply": "2022-10-24T12:21:56.216946Z"
    },
    "papermill": {
     "duration": 0.036653,
     "end_time": "2022-10-24T12:21:56.217559",
     "exception": false,
     "start_time": "2022-10-24T12:21:56.180906",
     "status": "completed"
    },
    "tags": []
   },
   "outputs": [],
   "source": [
    "#hide\n",
    "# g.columns = ['date','country','cases']"
   ]
  },
  {
   "cell_type": "code",
   "execution_count": 27,
   "id": "tender-conversion",
   "metadata": {
    "execution": {
     "iopub.execute_input": "2022-10-24T12:21:56.283641Z",
     "iopub.status.busy": "2022-10-24T12:21:56.283047Z",
     "iopub.status.idle": "2022-10-24T12:21:56.285555Z",
     "shell.execute_reply": "2022-10-24T12:21:56.285094Z"
    },
    "papermill": {
     "duration": 0.03665,
     "end_time": "2022-10-24T12:21:56.285656",
     "exception": false,
     "start_time": "2022-10-24T12:21:56.249006",
     "status": "completed"
    },
    "tags": []
   },
   "outputs": [],
   "source": [
    "#hide\n",
    "# g['continent'] = g.country"
   ]
  },
  {
   "cell_type": "code",
   "execution_count": 28,
   "id": "substantial-wilderness",
   "metadata": {
    "execution": {
     "iopub.execute_input": "2022-10-24T12:21:56.352689Z",
     "iopub.status.busy": "2022-10-24T12:21:56.352130Z",
     "iopub.status.idle": "2022-10-24T12:21:56.354569Z",
     "shell.execute_reply": "2022-10-24T12:21:56.354034Z"
    },
    "papermill": {
     "duration": 0.037064,
     "end_time": "2022-10-24T12:21:56.354669",
     "exception": false,
     "start_time": "2022-10-24T12:21:56.317605",
     "status": "completed"
    },
    "tags": []
   },
   "outputs": [],
   "source": [
    "#hide\n",
    "# cols = list(g.columns.values)"
   ]
  },
  {
   "cell_type": "code",
   "execution_count": 29,
   "id": "solved-farming",
   "metadata": {
    "execution": {
     "iopub.execute_input": "2022-10-24T12:21:56.420705Z",
     "iopub.status.busy": "2022-10-24T12:21:56.420155Z",
     "iopub.status.idle": "2022-10-24T12:21:56.422423Z",
     "shell.execute_reply": "2022-10-24T12:21:56.421898Z"
    },
    "papermill": {
     "duration": 0.03649,
     "end_time": "2022-10-24T12:21:56.422520",
     "exception": false,
     "start_time": "2022-10-24T12:21:56.386030",
     "status": "completed"
    },
    "tags": []
   },
   "outputs": [],
   "source": [
    "#hide\n",
    "# cols.insert(0, cols.pop())"
   ]
  },
  {
   "cell_type": "code",
   "execution_count": 30,
   "id": "executed-adoption",
   "metadata": {
    "execution": {
     "iopub.execute_input": "2022-10-24T12:21:56.489395Z",
     "iopub.status.busy": "2022-10-24T12:21:56.488825Z",
     "iopub.status.idle": "2022-10-24T12:21:56.491289Z",
     "shell.execute_reply": "2022-10-24T12:21:56.490839Z"
    },
    "papermill": {
     "duration": 0.037441,
     "end_time": "2022-10-24T12:21:56.491390",
     "exception": false,
     "start_time": "2022-10-24T12:21:56.453949",
     "status": "completed"
    },
    "tags": []
   },
   "outputs": [],
   "source": [
    "#hide\n",
    "# g = g[cols]"
   ]
  },
  {
   "cell_type": "code",
   "execution_count": 31,
   "id": "subject-dublin",
   "metadata": {
    "execution": {
     "iopub.execute_input": "2022-10-24T12:21:56.557623Z",
     "iopub.status.busy": "2022-10-24T12:21:56.557074Z",
     "iopub.status.idle": "2022-10-24T12:21:56.559227Z",
     "shell.execute_reply": "2022-10-24T12:21:56.558712Z"
    },
    "papermill": {
     "duration": 0.036525,
     "end_time": "2022-10-24T12:21:56.559327",
     "exception": false,
     "start_time": "2022-10-24T12:21:56.522802",
     "status": "completed"
    },
    "tags": []
   },
   "outputs": [],
   "source": [
    "#hide\n",
    "# g['continent'] = g['continent'].map(mapping['map.continent'])"
   ]
  },
  {
   "cell_type": "code",
   "execution_count": 32,
   "id": "freelance-scout",
   "metadata": {
    "execution": {
     "iopub.execute_input": "2022-10-24T12:21:56.625939Z",
     "iopub.status.busy": "2022-10-24T12:21:56.625367Z",
     "iopub.status.idle": "2022-10-24T12:21:56.627775Z",
     "shell.execute_reply": "2022-10-24T12:21:56.627221Z"
    },
    "papermill": {
     "duration": 0.037107,
     "end_time": "2022-10-24T12:21:56.627875",
     "exception": false,
     "start_time": "2022-10-24T12:21:56.590768",
     "status": "completed"
    },
    "tags": []
   },
   "outputs": [],
   "source": [
    "#hide\n",
    "# g.head()"
   ]
  },
  {
   "cell_type": "code",
   "execution_count": 33,
   "id": "limited-engine",
   "metadata": {
    "execution": {
     "iopub.execute_input": "2022-10-24T12:21:56.693944Z",
     "iopub.status.busy": "2022-10-24T12:21:56.693395Z",
     "iopub.status.idle": "2022-10-24T12:21:56.696843Z",
     "shell.execute_reply": "2022-10-24T12:21:56.697258Z"
    },
    "papermill": {
     "duration": 0.03804,
     "end_time": "2022-10-24T12:21:56.697376",
     "exception": false,
     "start_time": "2022-10-24T12:21:56.659336",
     "status": "completed"
    },
    "tags": []
   },
   "outputs": [],
   "source": [
    "# hide\n",
    "# g['date'] = g['date'].astype('datetime64[ns]')"
   ]
  },
  {
   "cell_type": "code",
   "execution_count": 34,
   "id": "sophisticated-supervisor",
   "metadata": {
    "execution": {
     "iopub.execute_input": "2022-10-24T12:21:56.764678Z",
     "iopub.status.busy": "2022-10-24T12:21:56.764081Z",
     "iopub.status.idle": "2022-10-24T12:21:56.766304Z",
     "shell.execute_reply": "2022-10-24T12:21:56.765870Z"
    },
    "papermill": {
     "duration": 0.037331,
     "end_time": "2022-10-24T12:21:56.766401",
     "exception": false,
     "start_time": "2022-10-24T12:21:56.729070",
     "status": "completed"
    },
    "tags": []
   },
   "outputs": [],
   "source": [
    "#hide\n",
    "# g['date'] = g.date.dt.dayofyear"
   ]
  },
  {
   "cell_type": "code",
   "execution_count": 35,
   "id": "inside-dubai",
   "metadata": {
    "execution": {
     "iopub.execute_input": "2022-10-24T12:21:56.834248Z",
     "iopub.status.busy": "2022-10-24T12:21:56.833659Z",
     "iopub.status.idle": "2022-10-24T12:21:56.835437Z",
     "shell.execute_reply": "2022-10-24T12:21:56.835878Z"
    },
    "papermill": {
     "duration": 0.037691,
     "end_time": "2022-10-24T12:21:56.835999",
     "exception": false,
     "start_time": "2022-10-24T12:21:56.798308",
     "status": "completed"
    },
    "tags": []
   },
   "outputs": [],
   "source": [
    "#hide\n",
    "# g = g.rename(columns= {'continent':'group','country':'name','cases':'value'})"
   ]
  },
  {
   "cell_type": "code",
   "execution_count": 36,
   "id": "fleet-motorcycle",
   "metadata": {
    "execution": {
     "iopub.execute_input": "2022-10-24T12:21:56.902731Z",
     "iopub.status.busy": "2022-10-24T12:21:56.902160Z",
     "iopub.status.idle": "2022-10-24T12:21:56.904626Z",
     "shell.execute_reply": "2022-10-24T12:21:56.904192Z"
    },
    "papermill": {
     "duration": 0.037101,
     "end_time": "2022-10-24T12:21:56.904725",
     "exception": false,
     "start_time": "2022-10-24T12:21:56.867624",
     "status": "completed"
    },
    "tags": []
   },
   "outputs": [],
   "source": [
    "#hide\n",
    "# cols = ['name','group','day','value']"
   ]
  },
  {
   "cell_type": "code",
   "execution_count": 37,
   "id": "continued-sleeping",
   "metadata": {
    "execution": {
     "iopub.execute_input": "2022-10-24T12:21:56.971195Z",
     "iopub.status.busy": "2022-10-24T12:21:56.970627Z",
     "iopub.status.idle": "2022-10-24T12:21:56.973067Z",
     "shell.execute_reply": "2022-10-24T12:21:56.972615Z"
    },
    "papermill": {
     "duration": 0.036985,
     "end_time": "2022-10-24T12:21:56.973167",
     "exception": false,
     "start_time": "2022-10-24T12:21:56.936182",
     "status": "completed"
    },
    "tags": []
   },
   "outputs": [],
   "source": [
    "#hide\n",
    "# g.rename(columns= {'date':'day'},inplace = True)"
   ]
  },
  {
   "cell_type": "code",
   "execution_count": 38,
   "id": "major-fight",
   "metadata": {
    "execution": {
     "iopub.execute_input": "2022-10-24T12:21:57.039418Z",
     "iopub.status.busy": "2022-10-24T12:21:57.038860Z",
     "iopub.status.idle": "2022-10-24T12:21:57.042361Z",
     "shell.execute_reply": "2022-10-24T12:21:57.042773Z"
    },
    "papermill": {
     "duration": 0.038207,
     "end_time": "2022-10-24T12:21:57.042894",
     "exception": false,
     "start_time": "2022-10-24T12:21:57.004687",
     "status": "completed"
    },
    "tags": []
   },
   "outputs": [],
   "source": [
    "#hide\n",
    "# g = g[cols]"
   ]
  },
  {
   "cell_type": "code",
   "execution_count": 39,
   "id": "structured-mobile",
   "metadata": {
    "execution": {
     "iopub.execute_input": "2022-10-24T12:21:57.109323Z",
     "iopub.status.busy": "2022-10-24T12:21:57.108751Z",
     "iopub.status.idle": "2022-10-24T12:21:57.110934Z",
     "shell.execute_reply": "2022-10-24T12:21:57.111343Z"
    },
    "papermill": {
     "duration": 0.037152,
     "end_time": "2022-10-24T12:21:57.111462",
     "exception": false,
     "start_time": "2022-10-24T12:21:57.074310",
     "status": "completed"
    },
    "tags": []
   },
   "outputs": [],
   "source": [
    "# #hide\n",
    "# g = g[g.group.notna()]"
   ]
  },
  {
   "cell_type": "code",
   "execution_count": 40,
   "id": "determined-closing",
   "metadata": {
    "execution": {
     "iopub.execute_input": "2022-10-24T12:21:57.178533Z",
     "iopub.status.busy": "2022-10-24T12:21:57.177963Z",
     "iopub.status.idle": "2022-10-24T12:21:57.180210Z",
     "shell.execute_reply": "2022-10-24T12:21:57.180616Z"
    },
    "papermill": {
     "duration": 0.037567,
     "end_time": "2022-10-24T12:21:57.180734",
     "exception": false,
     "start_time": "2022-10-24T12:21:57.143167",
     "status": "completed"
    },
    "tags": []
   },
   "outputs": [],
   "source": [
    "# #hide\n",
    "# colors = dict(zip(\n",
    "#     [\"Oceania\", \"Europe\", \"Asia\", \"South America\", \"Middle East\", \"North America\", \"Africa\"],\n",
    "#     [\"#adb0ff\", \"#ffb3ff\", \"#90d595\", \"#e48381\", \"#aafbff\", \"#f7bb5f\", \"#eafb50\"]\n",
    "# ))\n",
    "# group_lk = g.set_index('name')['group'].to_dict()"
   ]
  },
  {
   "cell_type": "code",
   "execution_count": null,
   "id": "gross-drinking",
   "metadata": {
    "papermill": {
     "duration": 0.031249,
     "end_time": "2022-10-24T12:21:57.243293",
     "exception": false,
     "start_time": "2022-10-24T12:21:57.212044",
     "status": "completed"
    },
    "tags": []
   },
   "outputs": [],
   "source": []
  },
  {
   "cell_type": "code",
   "execution_count": 41,
   "id": "subject-macintosh",
   "metadata": {
    "execution": {
     "iopub.execute_input": "2022-10-24T12:21:57.310687Z",
     "iopub.status.busy": "2022-10-24T12:21:57.310121Z",
     "iopub.status.idle": "2022-10-24T12:21:57.312396Z",
     "shell.execute_reply": "2022-10-24T12:21:57.312818Z"
    },
    "papermill": {
     "duration": 0.038154,
     "end_time": "2022-10-24T12:21:57.312931",
     "exception": false,
     "start_time": "2022-10-24T12:21:57.274777",
     "status": "completed"
    },
    "tags": []
   },
   "outputs": [],
   "source": [
    "# #hide\n",
    "# fig, ax = plt.subplots(figsize=(15, 8))\n",
    "\n",
    "# def draw_barchart(current_day):\n",
    "#     dff = g[g['day'].eq(current_day)].sort_values(by='value', ascending=True).tail(10)\n",
    "#     ax.clear()\n",
    "#     ax.barh(dff['name'], dff['value'], color=[colors[group_lk[x]] for x in dff['name']])\n",
    "#     dx = dff['value'].max() / 200\n",
    "    \n",
    "#     for i, (value, name) in enumerate(zip(dff['value'], dff['name'])):\n",
    "#         ax.text(value-dx, i,     name,           size=14, weight=600, ha='right', va='bottom')\n",
    "#         ax.text(value-dx, i-.25, group_lk[name], size=10, color='#444444', ha='right', va='baseline')\n",
    "#         ax.text(value+dx, i,     f'{value:,.0f}',  size=14, ha='left',  va='center')\n",
    "#     ax.text(1, 0.4, current_day, transform=ax.transAxes, color='#777777', size=46, ha='right', weight=800)\n",
    "#     ax.text(0, 1.06, 'Population (thousands)', transform=ax.transAxes, size=12, color='#777777')\n",
    "#     ax.xaxis.set_major_formatter(ticker.StrMethodFormatter('{x:,.0f}'))\n",
    "#     ax.xaxis.set_ticks_position('top')\n",
    "#     ax.tick_params(axis='x', colors='#777777', labelsize=12)\n",
    "#     ax.set_yticks([])\n",
    "#     ax.margins(0, 0.01)\n",
    "#     ax.grid(which='major', axis='x', linestyle='-')\n",
    "#     ax.set_axisbelow(True)\n",
    "    \n",
    "#     ax.text(0, 1.15, 'Coronavirus',\n",
    "#             transform=ax.transAxes, size=24, weight=600, ha='left', va='top')\n",
    "# #     ax.text(1, 0, 'by @pratapvardhan; credit @jburnmurdoch', transform=ax.transAxes, color='#777777', ha='right',\n",
    "# #             bbox=dict(facecolor='white', alpha=0.8, edgecolor='white'))\n",
    "#     plt.box(False)"
   ]
  },
  {
   "cell_type": "code",
   "execution_count": 42,
   "id": "sexual-wages",
   "metadata": {
    "execution": {
     "iopub.execute_input": "2022-10-24T12:21:57.379588Z",
     "iopub.status.busy": "2022-10-24T12:21:57.378994Z",
     "iopub.status.idle": "2022-10-24T12:21:57.381141Z",
     "shell.execute_reply": "2022-10-24T12:21:57.381539Z"
    },
    "papermill": {
     "duration": 0.037086,
     "end_time": "2022-10-24T12:21:57.381656",
     "exception": false,
     "start_time": "2022-10-24T12:21:57.344570",
     "status": "completed"
    },
    "tags": []
   },
   "outputs": [],
   "source": [
    "# #hide_input\n",
    "# fig, ax = plt.subplots(figsize=(15, 8))\n",
    "# animator = animation.FuncAnimation(fig, draw_barchart, frames=range(g.day.values.min(), g.day.values.max()))\n",
    "# HTML(animator.to_jshtml())\n",
    "# # or use animator.to_html5_video() or animator.save() "
   ]
  },
  {
   "cell_type": "code",
   "execution_count": null,
   "id": "australian-container",
   "metadata": {
    "papermill": {
     "duration": 0.031262,
     "end_time": "2022-10-24T12:21:57.444381",
     "exception": false,
     "start_time": "2022-10-24T12:21:57.413119",
     "status": "completed"
    },
    "tags": []
   },
   "outputs": [],
   "source": []
  },
  {
   "cell_type": "code",
   "execution_count": null,
   "id": "mediterranean-pontiac",
   "metadata": {
    "papermill": {
     "duration": 0.031236,
     "end_time": "2022-10-24T12:21:57.506873",
     "exception": false,
     "start_time": "2022-10-24T12:21:57.475637",
     "status": "completed"
    },
    "tags": []
   },
   "outputs": [],
   "source": []
  },
  {
   "cell_type": "code",
   "execution_count": null,
   "id": "aging-legislature",
   "metadata": {
    "papermill": {
     "duration": 0.03118,
     "end_time": "2022-10-24T12:21:57.569567",
     "exception": false,
     "start_time": "2022-10-24T12:21:57.538387",
     "status": "completed"
    },
    "tags": []
   },
   "outputs": [],
   "source": []
  }
 ],
 "metadata": {
  "kernelspec": {
   "display_name": "Python 3",
   "language": "python",
   "name": "python3"
  },
  "language_info": {
   "codemirror_mode": {
    "name": "ipython",
    "version": 3
   },
   "file_extension": ".py",
   "mimetype": "text/x-python",
   "name": "python",
   "nbconvert_exporter": "python",
   "pygments_lexer": "ipython3",
   "version": "3.6.15"
  },
  "papermill": {
   "duration": 5.910774,
   "end_time": "2022-10-24T12:21:57.918757",
   "environment_variables": {},
   "exception": null,
   "input_path": "2020-03-21-covid19exp.ipynb",
   "output_path": "2020-03-21-covid19exp.ipynb",
   "parameters": {},
   "start_time": "2022-10-24T12:21:52.007983",
   "version": "2.0.0"
  }
 },
 "nbformat": 4,
 "nbformat_minor": 5
}