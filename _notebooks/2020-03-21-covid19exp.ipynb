{
 "cells": [
  {
   "cell_type": "markdown",
   "id": "muslim-click",
   "metadata": {
    "papermill": {
     "duration": 0.036606,
     "end_time": "2022-10-13T12:20:50.596882",
     "exception": false,
     "start_time": "2022-10-13T12:20:50.560276",
     "status": "completed"
    },
    "tags": []
   },
   "source": [
    "# COVID-19 Case Race\n",
    "> A race chart to see rising cases around the world\n",
    "\n",
    "- author: Hargun Oberoi\n",
    "- image: images/covid-overview.png\n",
    "- hide: false\n",
    "- badges: false"
   ]
  },
  {
   "cell_type": "code",
   "execution_count": 1,
   "id": "proof-material",
   "metadata": {
    "execution": {
     "iopub.execute_input": "2022-10-13T12:20:50.668332Z",
     "iopub.status.busy": "2022-10-13T12:20:50.667683Z",
     "iopub.status.idle": "2022-10-13T12:20:50.994763Z",
     "shell.execute_reply": "2022-10-13T12:20:50.994160Z"
    },
    "papermill": {
     "duration": 0.367083,
     "end_time": "2022-10-13T12:20:50.994923",
     "exception": false,
     "start_time": "2022-10-13T12:20:50.627840",
     "status": "completed"
    },
    "tags": []
   },
   "outputs": [],
   "source": [
    "#hide\n",
    "import numpy as np\n",
    "import pandas as pd\n",
    "from jinja2 import Template\n",
    "from IPython.display import HTML"
   ]
  },
  {
   "cell_type": "code",
   "execution_count": 2,
   "id": "developed-terminology",
   "metadata": {
    "execution": {
     "iopub.execute_input": "2022-10-13T12:20:51.059748Z",
     "iopub.status.busy": "2022-10-13T12:20:51.059117Z",
     "iopub.status.idle": "2022-10-13T12:20:51.061585Z",
     "shell.execute_reply": "2022-10-13T12:20:51.061129Z"
    },
    "papermill": {
     "duration": 0.036952,
     "end_time": "2022-10-13T12:20:51.061697",
     "exception": false,
     "start_time": "2022-10-13T12:20:51.024745",
     "status": "completed"
    },
    "tags": []
   },
   "outputs": [],
   "source": [
    "#hide\n",
    "\n",
    "# FETCH\n",
    "base_url = 'https://raw.githubusercontent.com/pratapvardhan/notebooks/master/covid19/'\n",
    "paths = {\n",
    "    'mapping': base_url + 'mapping_countries.csv',\n",
    "    'overview': base_url + 'overview.tpl'\n",
    "}"
   ]
  },
  {
   "cell_type": "code",
   "execution_count": 3,
   "id": "dynamic-saver",
   "metadata": {
    "execution": {
     "iopub.execute_input": "2022-10-13T12:20:51.131373Z",
     "iopub.status.busy": "2022-10-13T12:20:51.130780Z",
     "iopub.status.idle": "2022-10-13T12:20:51.133872Z",
     "shell.execute_reply": "2022-10-13T12:20:51.134319Z"
    },
    "papermill": {
     "duration": 0.043203,
     "end_time": "2022-10-13T12:20:51.134443",
     "exception": false,
     "start_time": "2022-10-13T12:20:51.091240",
     "status": "completed"
    },
    "tags": []
   },
   "outputs": [
    {
     "data": {
      "text/plain": [
       "'https://raw.githubusercontent.com/pratapvardhan/notebooks/master/covid19/mapping_countries.csv'"
      ]
     },
     "execution_count": 3,
     "metadata": {},
     "output_type": "execute_result"
    }
   ],
   "source": [
    "#hide\n",
    "paths['mapping']"
   ]
  },
  {
   "cell_type": "code",
   "execution_count": 4,
   "id": "urban-software",
   "metadata": {
    "execution": {
     "iopub.execute_input": "2022-10-13T12:20:51.199697Z",
     "iopub.status.busy": "2022-10-13T12:20:51.199108Z",
     "iopub.status.idle": "2022-10-13T12:20:51.201453Z",
     "shell.execute_reply": "2022-10-13T12:20:51.202004Z"
    },
    "papermill": {
     "duration": 0.037726,
     "end_time": "2022-10-13T12:20:51.202128",
     "exception": false,
     "start_time": "2022-10-13T12:20:51.164402",
     "status": "completed"
    },
    "tags": []
   },
   "outputs": [],
   "source": [
    "#hide\n",
    "def get_mappings(url):\n",
    "    df = pd.read_csv(url)\n",
    "    return {\n",
    "        'df': df,\n",
    "        'replace.country': dict(df.dropna(subset=['Name']).set_index('Country')['Name']),\n",
    "        'map.continent': dict(df.set_index('Name')['Continent'])\n",
    "    }"
   ]
  },
  {
   "cell_type": "code",
   "execution_count": 5,
   "id": "intimate-machinery",
   "metadata": {
    "execution": {
     "iopub.execute_input": "2022-10-13T12:20:51.267014Z",
     "iopub.status.busy": "2022-10-13T12:20:51.266426Z",
     "iopub.status.idle": "2022-10-13T12:20:51.293305Z",
     "shell.execute_reply": "2022-10-13T12:20:51.292830Z"
    },
    "papermill": {
     "duration": 0.061856,
     "end_time": "2022-10-13T12:20:51.293415",
     "exception": false,
     "start_time": "2022-10-13T12:20:51.231559",
     "status": "completed"
    },
    "tags": []
   },
   "outputs": [],
   "source": [
    "#hide\n",
    "mapping = get_mappings(paths['mapping'])"
   ]
  },
  {
   "cell_type": "code",
   "execution_count": 6,
   "id": "certified-tactics",
   "metadata": {
    "execution": {
     "iopub.execute_input": "2022-10-13T12:20:51.358188Z",
     "iopub.status.busy": "2022-10-13T12:20:51.357574Z",
     "iopub.status.idle": "2022-10-13T12:20:51.361008Z",
     "shell.execute_reply": "2022-10-13T12:20:51.361454Z"
    },
    "papermill": {
     "duration": 0.038435,
     "end_time": "2022-10-13T12:20:51.361585",
     "exception": false,
     "start_time": "2022-10-13T12:20:51.323150",
     "status": "completed"
    },
    "tags": []
   },
   "outputs": [],
   "source": [
    "#hide\n",
    "def get_template(path):\n",
    "    from urllib.parse import urlparse\n",
    "    if bool(urlparse(path).netloc):\n",
    "        from urllib.request import urlopen\n",
    "        return urlopen(path).read().decode('utf8')\n",
    "    return open(path).read()"
   ]
  },
  {
   "cell_type": "code",
   "execution_count": 7,
   "id": "realistic-blast",
   "metadata": {
    "execution": {
     "iopub.execute_input": "2022-10-13T12:20:51.426236Z",
     "iopub.status.busy": "2022-10-13T12:20:51.425652Z",
     "iopub.status.idle": "2022-10-13T12:20:51.427688Z",
     "shell.execute_reply": "2022-10-13T12:20:51.428267Z"
    },
    "papermill": {
     "duration": 0.037379,
     "end_time": "2022-10-13T12:20:51.428396",
     "exception": false,
     "start_time": "2022-10-13T12:20:51.391017",
     "status": "completed"
    },
    "tags": []
   },
   "outputs": [],
   "source": [
    "#hide\n",
    "def get_frame(name):\n",
    "    url = (\n",
    "        'https://raw.githubusercontent.com/CSSEGISandData/COVID-19/master/csse_covid_19_data/'\n",
    "        f'csse_covid_19_time_series/time_series_covid19_{name}_global.csv')\n",
    "    df = pd.read_csv(url)\n",
    "    # rename countries\n",
    "    df['Country/Region'] = df['Country/Region'].replace(mapping['replace.country'])\n",
    "    return df"
   ]
  },
  {
   "cell_type": "code",
   "execution_count": 8,
   "id": "affiliated-characterization",
   "metadata": {
    "execution": {
     "iopub.execute_input": "2022-10-13T12:20:51.494369Z",
     "iopub.status.busy": "2022-10-13T12:20:51.493687Z",
     "iopub.status.idle": "2022-10-13T12:20:51.495999Z",
     "shell.execute_reply": "2022-10-13T12:20:51.495429Z"
    },
    "papermill": {
     "duration": 0.038001,
     "end_time": "2022-10-13T12:20:51.496107",
     "exception": false,
     "start_time": "2022-10-13T12:20:51.458106",
     "status": "completed"
    },
    "tags": []
   },
   "outputs": [],
   "source": [
    "#hide\n",
    "def get_dates(df):\n",
    "    dt_cols = df.columns[~df.columns.isin(['Province/State', 'Country/Region', 'Lat', 'Long'])]\n",
    "    LAST_DATE_I = -1\n",
    "    # sometimes last column may be empty, then go backwards\n",
    "    for i in range(-1, -len(dt_cols), -1):\n",
    "        if not df[dt_cols[i]].fillna(0).eq(0).all():\n",
    "            LAST_DATE_I = i\n",
    "            break\n",
    "    return LAST_DATE_I, dt_cols"
   ]
  },
  {
   "cell_type": "code",
   "execution_count": 9,
   "id": "recent-optimization",
   "metadata": {
    "execution": {
     "iopub.execute_input": "2022-10-13T12:20:51.560795Z",
     "iopub.status.busy": "2022-10-13T12:20:51.560182Z",
     "iopub.status.idle": "2022-10-13T12:20:51.943308Z",
     "shell.execute_reply": "2022-10-13T12:20:51.942779Z"
    },
    "papermill": {
     "duration": 0.417861,
     "end_time": "2022-10-13T12:20:51.943432",
     "exception": false,
     "start_time": "2022-10-13T12:20:51.525571",
     "status": "completed"
    },
    "tags": []
   },
   "outputs": [],
   "source": [
    "#hide\n",
    "COL_REGION = 'Country/Region'\n",
    "# Confirmed, Recovered, Deaths\n",
    "df = get_frame('confirmed')\n",
    "# dft_: timeseries, dfc_: today country agg\n",
    "dft_cases = df\n",
    "dft_deaths = get_frame('deaths')\n",
    "dft_recovered = get_frame('recovered')\n",
    "LAST_DATE_I, dt_cols = get_dates(df)"
   ]
  },
  {
   "cell_type": "code",
   "execution_count": 10,
   "id": "absolute-copper",
   "metadata": {
    "execution": {
     "iopub.execute_input": "2022-10-13T12:20:52.009276Z",
     "iopub.status.busy": "2022-10-13T12:20:52.008579Z",
     "iopub.status.idle": "2022-10-13T12:20:52.010874Z",
     "shell.execute_reply": "2022-10-13T12:20:52.010306Z"
    },
    "papermill": {
     "duration": 0.037678,
     "end_time": "2022-10-13T12:20:52.010982",
     "exception": false,
     "start_time": "2022-10-13T12:20:51.973304",
     "status": "completed"
    },
    "tags": []
   },
   "outputs": [],
   "source": [
    "#hide\n",
    "LAST_DATE_I, dt_cols = get_dates(df)\n",
    "dt_today =dt_cols[LAST_DATE_I]\n",
    "# dt_5day = dt_cols[LAST_DATE_I - 5]\n",
    "dt_yday = dt_cols[LAST_DATE_I - 1]"
   ]
  },
  {
   "cell_type": "code",
   "execution_count": 11,
   "id": "restricted-sheriff",
   "metadata": {
    "execution": {
     "iopub.execute_input": "2022-10-13T12:20:52.076331Z",
     "iopub.status.busy": "2022-10-13T12:20:52.075713Z",
     "iopub.status.idle": "2022-10-13T12:20:52.084380Z",
     "shell.execute_reply": "2022-10-13T12:20:52.084865Z"
    },
    "papermill": {
     "duration": 0.044428,
     "end_time": "2022-10-13T12:20:52.084994",
     "exception": false,
     "start_time": "2022-10-13T12:20:52.040566",
     "status": "completed"
    },
    "tags": []
   },
   "outputs": [],
   "source": [
    "#hide\n",
    "dfc_cases = dft_cases.groupby(COL_REGION)[dt_today].sum()\n",
    "dfc_deaths = dft_deaths.groupby(COL_REGION)[dt_today].sum()\n",
    "# dfp_cases = dft_cases.groupby(COL_REGION)[dt_5day].sum()\n",
    "# dfp_deaths = dft_deaths.groupby(COL_REGION)[dt_5day].sum()\n",
    "dfp_cases = dft_cases.groupby(COL_REGION)[dt_yday].sum()\n",
    "dfp_deaths = dft_deaths.groupby(COL_REGION)[dt_yday].sum()"
   ]
  },
  {
   "cell_type": "code",
   "execution_count": 12,
   "id": "deluxe-hepatitis",
   "metadata": {
    "execution": {
     "iopub.execute_input": "2022-10-13T12:20:52.150834Z",
     "iopub.status.busy": "2022-10-13T12:20:52.150247Z",
     "iopub.status.idle": "2022-10-13T12:20:52.154867Z",
     "shell.execute_reply": "2022-10-13T12:20:52.155342Z"
    },
    "papermill": {
     "duration": 0.040855,
     "end_time": "2022-10-13T12:20:52.155471",
     "exception": false,
     "start_time": "2022-10-13T12:20:52.114616",
     "status": "completed"
    },
    "tags": []
   },
   "outputs": [],
   "source": [
    "#hide\n",
    "df_table = (pd.DataFrame(dict(Cases = dfc_cases, Deaths = dfc_deaths, PCases = dfp_cases, PDeaths = dfp_deaths))\n",
    "            .sort_values(by = ['Cases','Deaths'], ascending = [False, False])\n",
    "            .reset_index())"
   ]
  },
  {
   "cell_type": "code",
   "execution_count": 13,
   "id": "educational-chancellor",
   "metadata": {
    "execution": {
     "iopub.execute_input": "2022-10-13T12:20:52.232996Z",
     "iopub.status.busy": "2022-10-13T12:20:52.232382Z",
     "iopub.status.idle": "2022-10-13T12:20:52.240590Z",
     "shell.execute_reply": "2022-10-13T12:20:52.240100Z"
    },
    "papermill": {
     "duration": 0.055633,
     "end_time": "2022-10-13T12:20:52.240706",
     "exception": false,
     "start_time": "2022-10-13T12:20:52.185073",
     "status": "completed"
    },
    "tags": []
   },
   "outputs": [
    {
     "data": {
      "text/html": [
       "<div>\n",
       "<style scoped>\n",
       "    .dataframe tbody tr th:only-of-type {\n",
       "        vertical-align: middle;\n",
       "    }\n",
       "\n",
       "    .dataframe tbody tr th {\n",
       "        vertical-align: top;\n",
       "    }\n",
       "\n",
       "    .dataframe thead th {\n",
       "        text-align: right;\n",
       "    }\n",
       "</style>\n",
       "<table border=\"1\" class=\"dataframe\">\n",
       "  <thead>\n",
       "    <tr style=\"text-align: right;\">\n",
       "      <th></th>\n",
       "      <th>Country/Region</th>\n",
       "      <th>Cases</th>\n",
       "      <th>Deaths</th>\n",
       "      <th>PCases</th>\n",
       "      <th>PDeaths</th>\n",
       "      <th>Cases (+)</th>\n",
       "      <th>Deaths (+)</th>\n",
       "      <th>Fatality Rate</th>\n",
       "      <th>Continent</th>\n",
       "    </tr>\n",
       "  </thead>\n",
       "  <tbody>\n",
       "    <tr>\n",
       "      <th>0</th>\n",
       "      <td>US</td>\n",
       "      <td>96836953</td>\n",
       "      <td>1064058</td>\n",
       "      <td>96772267</td>\n",
       "      <td>1063310</td>\n",
       "      <td>64686</td>\n",
       "      <td>748</td>\n",
       "      <td>1.10</td>\n",
       "      <td>North America</td>\n",
       "    </tr>\n",
       "    <tr>\n",
       "      <th>1</th>\n",
       "      <td>India</td>\n",
       "      <td>44621319</td>\n",
       "      <td>528847</td>\n",
       "      <td>44616235</td>\n",
       "      <td>528835</td>\n",
       "      <td>5084</td>\n",
       "      <td>12</td>\n",
       "      <td>1.19</td>\n",
       "      <td>Asia</td>\n",
       "    </tr>\n",
       "    <tr>\n",
       "      <th>2</th>\n",
       "      <td>France</td>\n",
       "      <td>36255606</td>\n",
       "      <td>156715</td>\n",
       "      <td>36187658</td>\n",
       "      <td>156660</td>\n",
       "      <td>67948</td>\n",
       "      <td>55</td>\n",
       "      <td>0.43</td>\n",
       "      <td>Europe</td>\n",
       "    </tr>\n",
       "    <tr>\n",
       "      <th>3</th>\n",
       "      <td>Brazil</td>\n",
       "      <td>34731539</td>\n",
       "      <td>686963</td>\n",
       "      <td>34731539</td>\n",
       "      <td>686963</td>\n",
       "      <td>0</td>\n",
       "      <td>0</td>\n",
       "      <td>1.98</td>\n",
       "      <td>South America</td>\n",
       "    </tr>\n",
       "    <tr>\n",
       "      <th>4</th>\n",
       "      <td>Germany</td>\n",
       "      <td>34403129</td>\n",
       "      <td>151095</td>\n",
       "      <td>34257916</td>\n",
       "      <td>150919</td>\n",
       "      <td>145213</td>\n",
       "      <td>176</td>\n",
       "      <td>0.44</td>\n",
       "      <td>Europe</td>\n",
       "    </tr>\n",
       "  </tbody>\n",
       "</table>\n",
       "</div>"
      ],
      "text/plain": [
       "  Country/Region     Cases   Deaths    PCases  PDeaths  Cases (+)  Deaths (+)  \\\n",
       "0             US  96836953  1064058  96772267  1063310      64686         748   \n",
       "1          India  44621319   528847  44616235   528835       5084          12   \n",
       "2         France  36255606   156715  36187658   156660      67948          55   \n",
       "3         Brazil  34731539   686963  34731539   686963          0           0   \n",
       "4        Germany  34403129   151095  34257916   150919     145213         176   \n",
       "\n",
       "   Fatality Rate      Continent  \n",
       "0           1.10  North America  \n",
       "1           1.19           Asia  \n",
       "2           0.43         Europe  \n",
       "3           1.98  South America  \n",
       "4           0.44         Europe  "
      ]
     },
     "execution_count": 13,
     "metadata": {},
     "output_type": "execute_result"
    }
   ],
   "source": [
    "#hide\n",
    "for c in 'Cases, Deaths'.split(', '):\n",
    "    df_table[f'{c} (+)'] = (df_table[c] - df_table[f'P{c}']).clip(0)\n",
    "    #Clip ça veut dire, les chiffres negatif sont interdit\n",
    "df_table['Fatality Rate'] = (100* df_table['Deaths']/ df_table['Cases']).round(2)\n",
    "df_table['Continent'] = df_table['Country/Region'].map(mapping['map.continent'])\n",
    "df_table.head(5)"
   ]
  },
  {
   "cell_type": "code",
   "execution_count": 14,
   "id": "aboriginal-bulgaria",
   "metadata": {
    "execution": {
     "iopub.execute_input": "2022-10-13T12:20:52.306644Z",
     "iopub.status.busy": "2022-10-13T12:20:52.306059Z",
     "iopub.status.idle": "2022-10-13T12:20:52.308864Z",
     "shell.execute_reply": "2022-10-13T12:20:52.309403Z"
    },
    "papermill": {
     "duration": 0.038433,
     "end_time": "2022-10-13T12:20:52.309528",
     "exception": false,
     "start_time": "2022-10-13T12:20:52.271095",
     "status": "completed"
    },
    "tags": []
   },
   "outputs": [],
   "source": [
    "#hide\n",
    "#delete problematic countries from table\n",
    "df_table = df_table[~df_table['Country/Region'].isin(['Cape Verde', 'Cruise Ship', 'Kosovo'])]"
   ]
  },
  {
   "cell_type": "code",
   "execution_count": 15,
   "id": "fantastic-effect",
   "metadata": {
    "execution": {
     "iopub.execute_input": "2022-10-13T12:20:52.377456Z",
     "iopub.status.busy": "2022-10-13T12:20:52.376859Z",
     "iopub.status.idle": "2022-10-13T12:20:52.395167Z",
     "shell.execute_reply": "2022-10-13T12:20:52.394722Z"
    },
    "papermill": {
     "duration": 0.055709,
     "end_time": "2022-10-13T12:20:52.395277",
     "exception": false,
     "start_time": "2022-10-13T12:20:52.339568",
     "status": "completed"
    },
    "tags": []
   },
   "outputs": [
    {
     "data": {
      "text/html": [
       "<div>\n",
       "<style scoped>\n",
       "    .dataframe tbody tr th:only-of-type {\n",
       "        vertical-align: middle;\n",
       "    }\n",
       "\n",
       "    .dataframe tbody tr th {\n",
       "        vertical-align: top;\n",
       "    }\n",
       "\n",
       "    .dataframe thead th {\n",
       "        text-align: right;\n",
       "    }\n",
       "</style>\n",
       "<table border=\"1\" class=\"dataframe\">\n",
       "  <thead>\n",
       "    <tr style=\"text-align: right;\">\n",
       "      <th></th>\n",
       "      <th>Country/Region</th>\n",
       "      <th>Cases</th>\n",
       "      <th>Deaths</th>\n",
       "      <th>PCases</th>\n",
       "      <th>PDeaths</th>\n",
       "      <th>Cases (+)</th>\n",
       "      <th>Deaths (+)</th>\n",
       "      <th>Fatality Rate</th>\n",
       "      <th>Continent</th>\n",
       "    </tr>\n",
       "  </thead>\n",
       "  <tbody>\n",
       "    <tr>\n",
       "      <th>0</th>\n",
       "      <td>US</td>\n",
       "      <td>96836953</td>\n",
       "      <td>1064058</td>\n",
       "      <td>96772267</td>\n",
       "      <td>1063310</td>\n",
       "      <td>64686</td>\n",
       "      <td>748</td>\n",
       "      <td>1.1</td>\n",
       "      <td>North America</td>\n",
       "    </tr>\n",
       "    <tr>\n",
       "      <th>1</th>\n",
       "      <td>India</td>\n",
       "      <td>44621319</td>\n",
       "      <td>528847</td>\n",
       "      <td>44616235</td>\n",
       "      <td>528835</td>\n",
       "      <td>5084</td>\n",
       "      <td>12</td>\n",
       "      <td>1.2</td>\n",
       "      <td>Asia</td>\n",
       "    </tr>\n",
       "    <tr>\n",
       "      <th>2</th>\n",
       "      <td>France</td>\n",
       "      <td>36255606</td>\n",
       "      <td>156715</td>\n",
       "      <td>36187658</td>\n",
       "      <td>156660</td>\n",
       "      <td>67948</td>\n",
       "      <td>55</td>\n",
       "      <td>0.4</td>\n",
       "      <td>Europe</td>\n",
       "    </tr>\n",
       "    <tr>\n",
       "      <th>3</th>\n",
       "      <td>Brazil</td>\n",
       "      <td>34731539</td>\n",
       "      <td>686963</td>\n",
       "      <td>34731539</td>\n",
       "      <td>686963</td>\n",
       "      <td>0</td>\n",
       "      <td>0</td>\n",
       "      <td>2.0</td>\n",
       "      <td>South America</td>\n",
       "    </tr>\n",
       "    <tr>\n",
       "      <th>4</th>\n",
       "      <td>Germany</td>\n",
       "      <td>34403129</td>\n",
       "      <td>151095</td>\n",
       "      <td>34257916</td>\n",
       "      <td>150919</td>\n",
       "      <td>145213</td>\n",
       "      <td>176</td>\n",
       "      <td>0.4</td>\n",
       "      <td>Europe</td>\n",
       "    </tr>\n",
       "  </tbody>\n",
       "</table>\n",
       "</div>"
      ],
      "text/plain": [
       "  Country/Region     Cases   Deaths    PCases  PDeaths  Cases (+)  Deaths (+)  \\\n",
       "0             US  96836953  1064058  96772267  1063310      64686         748   \n",
       "1          India  44621319   528847  44616235   528835       5084          12   \n",
       "2         France  36255606   156715  36187658   156660      67948          55   \n",
       "3         Brazil  34731539   686963  34731539   686963          0           0   \n",
       "4        Germany  34403129   151095  34257916   150919     145213         176   \n",
       "\n",
       "   Fatality Rate      Continent  \n",
       "0            1.1  North America  \n",
       "1            1.2           Asia  \n",
       "2            0.4         Europe  \n",
       "3            2.0  South America  \n",
       "4            0.4         Europe  "
      ]
     },
     "execution_count": 15,
     "metadata": {},
     "output_type": "execute_result"
    }
   ],
   "source": [
    "#hide\n",
    "df_table = (pd.DataFrame(dict(Cases=dfc_cases, Deaths=dfc_deaths, PCases=dfp_cases, PDeaths=dfp_deaths))\n",
    "             .sort_values(by=['Cases', 'Deaths'], ascending=[False, False])\n",
    "             .reset_index())\n",
    "df_table.rename(columns={'index': 'Country/Region'}, inplace=True)\n",
    "for c in 'Cases, Deaths'.split(', '):\n",
    "    df_table[f'{c} (+)'] = (df_table[c] - df_table[f'P{c}']).clip(0)  # DATA BUG\n",
    "df_table['Fatality Rate'] = (100 * df_table['Deaths'] / df_table['Cases']).round(1)\n",
    "df_table['Continent'] = df_table['Country/Region'].map(mapping['map.continent'])\n",
    "df_table.head(5)"
   ]
  },
  {
   "cell_type": "code",
   "execution_count": 16,
   "id": "fewer-occasion",
   "metadata": {
    "execution": {
     "iopub.execute_input": "2022-10-13T12:20:52.462630Z",
     "iopub.status.busy": "2022-10-13T12:20:52.462034Z",
     "iopub.status.idle": "2022-10-13T12:20:52.465189Z",
     "shell.execute_reply": "2022-10-13T12:20:52.465745Z"
    },
    "papermill": {
     "duration": 0.039626,
     "end_time": "2022-10-13T12:20:52.465870",
     "exception": false,
     "start_time": "2022-10-13T12:20:52.426244",
     "status": "completed"
    },
    "tags": []
   },
   "outputs": [],
   "source": [
    "#hide\n",
    "#delete problematic countries from table\n",
    "df_table = df_table[~df_table['Country/Region'].isin(['Cape Verde', 'Cruise Ship', 'Kosovo'])]"
   ]
  },
  {
   "cell_type": "code",
   "execution_count": 17,
   "id": "related-center",
   "metadata": {
    "execution": {
     "iopub.execute_input": "2022-10-13T12:20:52.538844Z",
     "iopub.status.busy": "2022-10-13T12:20:52.538227Z",
     "iopub.status.idle": "2022-10-13T12:20:52.548179Z",
     "shell.execute_reply": "2022-10-13T12:20:52.547563Z"
    },
    "papermill": {
     "duration": 0.051712,
     "end_time": "2022-10-13T12:20:52.548302",
     "exception": false,
     "start_time": "2022-10-13T12:20:52.496590",
     "status": "completed"
    },
    "tags": []
   },
   "outputs": [],
   "source": [
    "#hide\n",
    "metrics = [df_table.columns[index] for index in [1,2,5,6]]\n",
    "# s_china = df_table[df_table['Country/Region'].eq('China')][metrics].sum().add_prefix('China ')\n",
    "s_us = df_table[df_table['Country/Region'].eq('US')][metrics].sum().add_prefix('US ')\n",
    "s_eu = df_table[df_table['Continent'].eq('Europe')][metrics].sum().add_prefix('EU ')\n",
    "s_ind = df_table[df_table['Country/Region'].eq('India')][metrics].sum().add_prefix('India ')\n",
    "summary = {'updated': pd.to_datetime(dt_today), 'since': pd.to_datetime(dt_yday)}\n",
    "summary = {'updated': pd.to_datetime(dt_today), 'since': pd.to_datetime(dt_yday)}\n",
    "summary = {**summary, **df_table[metrics].sum(), **s_ind, **s_us, **s_eu}"
   ]
  },
  {
   "cell_type": "code",
   "execution_count": 18,
   "id": "engaging-syndrome",
   "metadata": {
    "execution": {
     "iopub.execute_input": "2022-10-13T12:20:52.616548Z",
     "iopub.status.busy": "2022-10-13T12:20:52.615875Z",
     "iopub.status.idle": "2022-10-13T12:20:52.637787Z",
     "shell.execute_reply": "2022-10-13T12:20:52.637280Z"
    },
    "papermill": {
     "duration": 0.058574,
     "end_time": "2022-10-13T12:20:52.637914",
     "exception": false,
     "start_time": "2022-10-13T12:20:52.579340",
     "status": "completed"
    },
    "tags": []
   },
   "outputs": [],
   "source": [
    "#hide\n",
    "dft_ct_new_cases = dft_cases.groupby(COL_REGION)[dt_cols].sum().diff(axis=1).fillna(0).astype(int)"
   ]
  },
  {
   "cell_type": "code",
   "execution_count": 19,
   "id": "neutral-assignment",
   "metadata": {
    "execution": {
     "iopub.execute_input": "2022-10-13T12:20:52.706626Z",
     "iopub.status.busy": "2022-10-13T12:20:52.706035Z",
     "iopub.status.idle": "2022-10-13T12:20:52.708408Z",
     "shell.execute_reply": "2022-10-13T12:20:52.708891Z"
    },
    "papermill": {
     "duration": 0.040285,
     "end_time": "2022-10-13T12:20:52.709026",
     "exception": false,
     "start_time": "2022-10-13T12:20:52.668741",
     "status": "completed"
    },
    "tags": []
   },
   "outputs": [],
   "source": [
    "#hide\n",
    "everydaycases = dft_ct_new_cases.cumsum(axis=1)"
   ]
  },
  {
   "cell_type": "code",
   "execution_count": 20,
   "id": "parliamentary-calgary",
   "metadata": {
    "execution": {
     "iopub.execute_input": "2022-10-13T12:20:52.775535Z",
     "iopub.status.busy": "2022-10-13T12:20:52.774940Z",
     "iopub.status.idle": "2022-10-13T12:20:53.322001Z",
     "shell.execute_reply": "2022-10-13T12:20:53.320973Z"
    },
    "papermill": {
     "duration": 0.582272,
     "end_time": "2022-10-13T12:20:53.322149",
     "exception": false,
     "start_time": "2022-10-13T12:20:52.739877",
     "status": "completed"
    },
    "tags": []
   },
   "outputs": [],
   "source": [
    "#hide\n",
    "import pandas as pd\n",
    "import matplotlib.pyplot as plt\n",
    "import matplotlib.ticker as ticker\n",
    "import matplotlib.animation as animation\n",
    "from IPython.display import HTML"
   ]
  },
  {
   "cell_type": "code",
   "execution_count": 21,
   "id": "lasting-extraction",
   "metadata": {
    "execution": {
     "iopub.execute_input": "2022-10-13T12:20:53.391113Z",
     "iopub.status.busy": "2022-10-13T12:20:53.390518Z",
     "iopub.status.idle": "2022-10-13T12:20:53.397861Z",
     "shell.execute_reply": "2022-10-13T12:20:53.398336Z"
    },
    "papermill": {
     "duration": 0.045022,
     "end_time": "2022-10-13T12:20:53.398466",
     "exception": false,
     "start_time": "2022-10-13T12:20:53.353444",
     "status": "completed"
    },
    "tags": []
   },
   "outputs": [],
   "source": [
    "#hide\n",
    "t = everydaycases.stack()"
   ]
  },
  {
   "cell_type": "code",
   "execution_count": 22,
   "id": "premier-sleeve",
   "metadata": {
    "execution": {
     "iopub.execute_input": "2022-10-13T12:20:53.464627Z",
     "iopub.status.busy": "2022-10-13T12:20:53.464006Z",
     "iopub.status.idle": "2022-10-13T12:20:53.477344Z",
     "shell.execute_reply": "2022-10-13T12:20:53.476779Z"
    },
    "papermill": {
     "duration": 0.048136,
     "end_time": "2022-10-13T12:20:53.477457",
     "exception": false,
     "start_time": "2022-10-13T12:20:53.429321",
     "status": "completed"
    },
    "tags": []
   },
   "outputs": [],
   "source": [
    "#hide\n",
    "g = t.reset_index(['Country/Region'])"
   ]
  },
  {
   "cell_type": "code",
   "execution_count": 23,
   "id": "distributed-pittsburgh",
   "metadata": {
    "execution": {
     "iopub.execute_input": "2022-10-13T12:20:53.542975Z",
     "iopub.status.busy": "2022-10-13T12:20:53.542377Z",
     "iopub.status.idle": "2022-10-13T12:20:53.545083Z",
     "shell.execute_reply": "2022-10-13T12:20:53.544512Z"
    },
    "papermill": {
     "duration": 0.037132,
     "end_time": "2022-10-13T12:20:53.545193",
     "exception": false,
     "start_time": "2022-10-13T12:20:53.508061",
     "status": "completed"
    },
    "tags": []
   },
   "outputs": [],
   "source": [
    "#hide\n",
    "g.index.name = 'date'"
   ]
  },
  {
   "cell_type": "code",
   "execution_count": 24,
   "id": "naked-donor",
   "metadata": {
    "execution": {
     "iopub.execute_input": "2022-10-13T12:20:53.611759Z",
     "iopub.status.busy": "2022-10-13T12:20:53.610538Z",
     "iopub.status.idle": "2022-10-13T12:20:53.612499Z",
     "shell.execute_reply": "2022-10-13T12:20:53.613052Z"
    },
    "papermill": {
     "duration": 0.037185,
     "end_time": "2022-10-13T12:20:53.613175",
     "exception": false,
     "start_time": "2022-10-13T12:20:53.575990",
     "status": "completed"
    },
    "tags": []
   },
   "outputs": [],
   "source": [
    "# #hide\n",
    "# g = g.reset_index(['date'])"
   ]
  },
  {
   "cell_type": "code",
   "execution_count": 25,
   "id": "incomplete-mustang",
   "metadata": {
    "execution": {
     "iopub.execute_input": "2022-10-13T12:20:53.678376Z",
     "iopub.status.busy": "2022-10-13T12:20:53.677707Z",
     "iopub.status.idle": "2022-10-13T12:20:53.680330Z",
     "shell.execute_reply": "2022-10-13T12:20:53.679672Z"
    },
    "papermill": {
     "duration": 0.036774,
     "end_time": "2022-10-13T12:20:53.680452",
     "exception": false,
     "start_time": "2022-10-13T12:20:53.643678",
     "status": "completed"
    },
    "tags": []
   },
   "outputs": [],
   "source": [
    "#hide\n",
    "# g.head()"
   ]
  },
  {
   "cell_type": "code",
   "execution_count": 26,
   "id": "specific-kruger",
   "metadata": {
    "execution": {
     "iopub.execute_input": "2022-10-13T12:20:53.746668Z",
     "iopub.status.busy": "2022-10-13T12:20:53.746050Z",
     "iopub.status.idle": "2022-10-13T12:20:53.749724Z",
     "shell.execute_reply": "2022-10-13T12:20:53.750146Z"
    },
    "papermill": {
     "duration": 0.038595,
     "end_time": "2022-10-13T12:20:53.750275",
     "exception": false,
     "start_time": "2022-10-13T12:20:53.711680",
     "status": "completed"
    },
    "tags": []
   },
   "outputs": [],
   "source": [
    "#hide\n",
    "# g.columns = ['date','country','cases']"
   ]
  },
  {
   "cell_type": "code",
   "execution_count": 27,
   "id": "tender-conversion",
   "metadata": {
    "execution": {
     "iopub.execute_input": "2022-10-13T12:20:53.815319Z",
     "iopub.status.busy": "2022-10-13T12:20:53.814640Z",
     "iopub.status.idle": "2022-10-13T12:20:53.817103Z",
     "shell.execute_reply": "2022-10-13T12:20:53.816535Z"
    },
    "papermill": {
     "duration": 0.036478,
     "end_time": "2022-10-13T12:20:53.817209",
     "exception": false,
     "start_time": "2022-10-13T12:20:53.780731",
     "status": "completed"
    },
    "tags": []
   },
   "outputs": [],
   "source": [
    "#hide\n",
    "# g['continent'] = g.country"
   ]
  },
  {
   "cell_type": "code",
   "execution_count": 28,
   "id": "substantial-wilderness",
   "metadata": {
    "execution": {
     "iopub.execute_input": "2022-10-13T12:20:53.882463Z",
     "iopub.status.busy": "2022-10-13T12:20:53.881787Z",
     "iopub.status.idle": "2022-10-13T12:20:53.885454Z",
     "shell.execute_reply": "2022-10-13T12:20:53.885972Z"
    },
    "papermill": {
     "duration": 0.03829,
     "end_time": "2022-10-13T12:20:53.886109",
     "exception": false,
     "start_time": "2022-10-13T12:20:53.847819",
     "status": "completed"
    },
    "tags": []
   },
   "outputs": [],
   "source": [
    "#hide\n",
    "# cols = list(g.columns.values)"
   ]
  },
  {
   "cell_type": "code",
   "execution_count": 29,
   "id": "solved-farming",
   "metadata": {
    "execution": {
     "iopub.execute_input": "2022-10-13T12:20:53.950913Z",
     "iopub.status.busy": "2022-10-13T12:20:53.950256Z",
     "iopub.status.idle": "2022-10-13T12:20:53.952809Z",
     "shell.execute_reply": "2022-10-13T12:20:53.952134Z"
    },
    "papermill": {
     "duration": 0.036224,
     "end_time": "2022-10-13T12:20:53.952926",
     "exception": false,
     "start_time": "2022-10-13T12:20:53.916702",
     "status": "completed"
    },
    "tags": []
   },
   "outputs": [],
   "source": [
    "#hide\n",
    "# cols.insert(0, cols.pop())"
   ]
  },
  {
   "cell_type": "code",
   "execution_count": 30,
   "id": "executed-adoption",
   "metadata": {
    "execution": {
     "iopub.execute_input": "2022-10-13T12:20:54.021727Z",
     "iopub.status.busy": "2022-10-13T12:20:54.021119Z",
     "iopub.status.idle": "2022-10-13T12:20:54.023700Z",
     "shell.execute_reply": "2022-10-13T12:20:54.023131Z"
    },
    "papermill": {
     "duration": 0.03662,
     "end_time": "2022-10-13T12:20:54.023803",
     "exception": false,
     "start_time": "2022-10-13T12:20:53.987183",
     "status": "completed"
    },
    "tags": []
   },
   "outputs": [],
   "source": [
    "#hide\n",
    "# g = g[cols]"
   ]
  },
  {
   "cell_type": "code",
   "execution_count": 31,
   "id": "subject-dublin",
   "metadata": {
    "execution": {
     "iopub.execute_input": "2022-10-13T12:20:54.089725Z",
     "iopub.status.busy": "2022-10-13T12:20:54.089024Z",
     "iopub.status.idle": "2022-10-13T12:20:54.092846Z",
     "shell.execute_reply": "2022-10-13T12:20:54.093268Z"
    },
    "papermill": {
     "duration": 0.039042,
     "end_time": "2022-10-13T12:20:54.093397",
     "exception": false,
     "start_time": "2022-10-13T12:20:54.054355",
     "status": "completed"
    },
    "tags": []
   },
   "outputs": [],
   "source": [
    "#hide\n",
    "# g['continent'] = g['continent'].map(mapping['map.continent'])"
   ]
  },
  {
   "cell_type": "code",
   "execution_count": 32,
   "id": "freelance-scout",
   "metadata": {
    "execution": {
     "iopub.execute_input": "2022-10-13T12:20:54.158940Z",
     "iopub.status.busy": "2022-10-13T12:20:54.158266Z",
     "iopub.status.idle": "2022-10-13T12:20:54.161902Z",
     "shell.execute_reply": "2022-10-13T12:20:54.162420Z"
    },
    "papermill": {
     "duration": 0.038468,
     "end_time": "2022-10-13T12:20:54.162560",
     "exception": false,
     "start_time": "2022-10-13T12:20:54.124092",
     "status": "completed"
    },
    "tags": []
   },
   "outputs": [],
   "source": [
    "#hide\n",
    "# g.head()"
   ]
  },
  {
   "cell_type": "code",
   "execution_count": 33,
   "id": "limited-engine",
   "metadata": {
    "execution": {
     "iopub.execute_input": "2022-10-13T12:20:54.227539Z",
     "iopub.status.busy": "2022-10-13T12:20:54.226956Z",
     "iopub.status.idle": "2022-10-13T12:20:54.229924Z",
     "shell.execute_reply": "2022-10-13T12:20:54.229477Z"
    },
    "papermill": {
     "duration": 0.036885,
     "end_time": "2022-10-13T12:20:54.230033",
     "exception": false,
     "start_time": "2022-10-13T12:20:54.193148",
     "status": "completed"
    },
    "tags": []
   },
   "outputs": [],
   "source": [
    "# hide\n",
    "# g['date'] = g['date'].astype('datetime64[ns]')"
   ]
  },
  {
   "cell_type": "code",
   "execution_count": 34,
   "id": "sophisticated-supervisor",
   "metadata": {
    "execution": {
     "iopub.execute_input": "2022-10-13T12:20:54.295554Z",
     "iopub.status.busy": "2022-10-13T12:20:54.294869Z",
     "iopub.status.idle": "2022-10-13T12:20:54.296925Z",
     "shell.execute_reply": "2022-10-13T12:20:54.296295Z"
    },
    "papermill": {
     "duration": 0.036254,
     "end_time": "2022-10-13T12:20:54.297034",
     "exception": false,
     "start_time": "2022-10-13T12:20:54.260780",
     "status": "completed"
    },
    "tags": []
   },
   "outputs": [],
   "source": [
    "#hide\n",
    "# g['date'] = g.date.dt.dayofyear"
   ]
  },
  {
   "cell_type": "code",
   "execution_count": 35,
   "id": "inside-dubai",
   "metadata": {
    "execution": {
     "iopub.execute_input": "2022-10-13T12:20:54.365376Z",
     "iopub.status.busy": "2022-10-13T12:20:54.364794Z",
     "iopub.status.idle": "2022-10-13T12:20:54.367343Z",
     "shell.execute_reply": "2022-10-13T12:20:54.367765Z"
    },
    "papermill": {
     "duration": 0.040158,
     "end_time": "2022-10-13T12:20:54.367893",
     "exception": false,
     "start_time": "2022-10-13T12:20:54.327735",
     "status": "completed"
    },
    "tags": []
   },
   "outputs": [],
   "source": [
    "#hide\n",
    "# g = g.rename(columns= {'continent':'group','country':'name','cases':'value'})"
   ]
  },
  {
   "cell_type": "code",
   "execution_count": 36,
   "id": "fleet-motorcycle",
   "metadata": {
    "execution": {
     "iopub.execute_input": "2022-10-13T12:20:54.433862Z",
     "iopub.status.busy": "2022-10-13T12:20:54.433159Z",
     "iopub.status.idle": "2022-10-13T12:20:54.435207Z",
     "shell.execute_reply": "2022-10-13T12:20:54.434577Z"
    },
    "papermill": {
     "duration": 0.036661,
     "end_time": "2022-10-13T12:20:54.435326",
     "exception": false,
     "start_time": "2022-10-13T12:20:54.398665",
     "status": "completed"
    },
    "tags": []
   },
   "outputs": [],
   "source": [
    "#hide\n",
    "# cols = ['name','group','day','value']"
   ]
  },
  {
   "cell_type": "code",
   "execution_count": 37,
   "id": "continued-sleeping",
   "metadata": {
    "execution": {
     "iopub.execute_input": "2022-10-13T12:20:54.500840Z",
     "iopub.status.busy": "2022-10-13T12:20:54.500215Z",
     "iopub.status.idle": "2022-10-13T12:20:54.502595Z",
     "shell.execute_reply": "2022-10-13T12:20:54.502123Z"
    },
    "papermill": {
     "duration": 0.036266,
     "end_time": "2022-10-13T12:20:54.502702",
     "exception": false,
     "start_time": "2022-10-13T12:20:54.466436",
     "status": "completed"
    },
    "tags": []
   },
   "outputs": [],
   "source": [
    "#hide\n",
    "# g.rename(columns= {'date':'day'},inplace = True)"
   ]
  },
  {
   "cell_type": "code",
   "execution_count": 38,
   "id": "major-fight",
   "metadata": {
    "execution": {
     "iopub.execute_input": "2022-10-13T12:20:54.567545Z",
     "iopub.status.busy": "2022-10-13T12:20:54.566857Z",
     "iopub.status.idle": "2022-10-13T12:20:54.570443Z",
     "shell.execute_reply": "2022-10-13T12:20:54.570953Z"
    },
    "papermill": {
     "duration": 0.037897,
     "end_time": "2022-10-13T12:20:54.571090",
     "exception": false,
     "start_time": "2022-10-13T12:20:54.533193",
     "status": "completed"
    },
    "tags": []
   },
   "outputs": [],
   "source": [
    "#hide\n",
    "# g = g[cols]"
   ]
  },
  {
   "cell_type": "code",
   "execution_count": 39,
   "id": "structured-mobile",
   "metadata": {
    "execution": {
     "iopub.execute_input": "2022-10-13T12:20:54.636858Z",
     "iopub.status.busy": "2022-10-13T12:20:54.636250Z",
     "iopub.status.idle": "2022-10-13T12:20:54.638781Z",
     "shell.execute_reply": "2022-10-13T12:20:54.638305Z"
    },
    "papermill": {
     "duration": 0.037235,
     "end_time": "2022-10-13T12:20:54.638894",
     "exception": false,
     "start_time": "2022-10-13T12:20:54.601659",
     "status": "completed"
    },
    "tags": []
   },
   "outputs": [],
   "source": [
    "# #hide\n",
    "# g = g[g.group.notna()]"
   ]
  },
  {
   "cell_type": "code",
   "execution_count": 40,
   "id": "determined-closing",
   "metadata": {
    "execution": {
     "iopub.execute_input": "2022-10-13T12:20:54.704515Z",
     "iopub.status.busy": "2022-10-13T12:20:54.703895Z",
     "iopub.status.idle": "2022-10-13T12:20:54.706739Z",
     "shell.execute_reply": "2022-10-13T12:20:54.706269Z"
    },
    "papermill": {
     "duration": 0.037173,
     "end_time": "2022-10-13T12:20:54.706847",
     "exception": false,
     "start_time": "2022-10-13T12:20:54.669674",
     "status": "completed"
    },
    "tags": []
   },
   "outputs": [],
   "source": [
    "# #hide\n",
    "# colors = dict(zip(\n",
    "#     [\"Oceania\", \"Europe\", \"Asia\", \"South America\", \"Middle East\", \"North America\", \"Africa\"],\n",
    "#     [\"#adb0ff\", \"#ffb3ff\", \"#90d595\", \"#e48381\", \"#aafbff\", \"#f7bb5f\", \"#eafb50\"]\n",
    "# ))\n",
    "# group_lk = g.set_index('name')['group'].to_dict()"
   ]
  },
  {
   "cell_type": "code",
   "execution_count": null,
   "id": "gross-drinking",
   "metadata": {
    "papermill": {
     "duration": 0.030689,
     "end_time": "2022-10-13T12:20:54.768028",
     "exception": false,
     "start_time": "2022-10-13T12:20:54.737339",
     "status": "completed"
    },
    "tags": []
   },
   "outputs": [],
   "source": []
  },
  {
   "cell_type": "code",
   "execution_count": 41,
   "id": "subject-macintosh",
   "metadata": {
    "execution": {
     "iopub.execute_input": "2022-10-13T12:20:54.834245Z",
     "iopub.status.busy": "2022-10-13T12:20:54.833640Z",
     "iopub.status.idle": "2022-10-13T12:20:54.836286Z",
     "shell.execute_reply": "2022-10-13T12:20:54.836717Z"
    },
    "papermill": {
     "duration": 0.037958,
     "end_time": "2022-10-13T12:20:54.836848",
     "exception": false,
     "start_time": "2022-10-13T12:20:54.798890",
     "status": "completed"
    },
    "tags": []
   },
   "outputs": [],
   "source": [
    "# #hide\n",
    "# fig, ax = plt.subplots(figsize=(15, 8))\n",
    "\n",
    "# def draw_barchart(current_day):\n",
    "#     dff = g[g['day'].eq(current_day)].sort_values(by='value', ascending=True).tail(10)\n",
    "#     ax.clear()\n",
    "#     ax.barh(dff['name'], dff['value'], color=[colors[group_lk[x]] for x in dff['name']])\n",
    "#     dx = dff['value'].max() / 200\n",
    "    \n",
    "#     for i, (value, name) in enumerate(zip(dff['value'], dff['name'])):\n",
    "#         ax.text(value-dx, i,     name,           size=14, weight=600, ha='right', va='bottom')\n",
    "#         ax.text(value-dx, i-.25, group_lk[name], size=10, color='#444444', ha='right', va='baseline')\n",
    "#         ax.text(value+dx, i,     f'{value:,.0f}',  size=14, ha='left',  va='center')\n",
    "#     ax.text(1, 0.4, current_day, transform=ax.transAxes, color='#777777', size=46, ha='right', weight=800)\n",
    "#     ax.text(0, 1.06, 'Population (thousands)', transform=ax.transAxes, size=12, color='#777777')\n",
    "#     ax.xaxis.set_major_formatter(ticker.StrMethodFormatter('{x:,.0f}'))\n",
    "#     ax.xaxis.set_ticks_position('top')\n",
    "#     ax.tick_params(axis='x', colors='#777777', labelsize=12)\n",
    "#     ax.set_yticks([])\n",
    "#     ax.margins(0, 0.01)\n",
    "#     ax.grid(which='major', axis='x', linestyle='-')\n",
    "#     ax.set_axisbelow(True)\n",
    "    \n",
    "#     ax.text(0, 1.15, 'Coronavirus',\n",
    "#             transform=ax.transAxes, size=24, weight=600, ha='left', va='top')\n",
    "# #     ax.text(1, 0, 'by @pratapvardhan; credit @jburnmurdoch', transform=ax.transAxes, color='#777777', ha='right',\n",
    "# #             bbox=dict(facecolor='white', alpha=0.8, edgecolor='white'))\n",
    "#     plt.box(False)"
   ]
  },
  {
   "cell_type": "code",
   "execution_count": 42,
   "id": "sexual-wages",
   "metadata": {
    "execution": {
     "iopub.execute_input": "2022-10-13T12:20:54.903137Z",
     "iopub.status.busy": "2022-10-13T12:20:54.902437Z",
     "iopub.status.idle": "2022-10-13T12:20:54.905030Z",
     "shell.execute_reply": "2022-10-13T12:20:54.904483Z"
    },
    "papermill": {
     "duration": 0.037443,
     "end_time": "2022-10-13T12:20:54.905152",
     "exception": false,
     "start_time": "2022-10-13T12:20:54.867709",
     "status": "completed"
    },
    "tags": []
   },
   "outputs": [],
   "source": [
    "# #hide_input\n",
    "# fig, ax = plt.subplots(figsize=(15, 8))\n",
    "# animator = animation.FuncAnimation(fig, draw_barchart, frames=range(g.day.values.min(), g.day.values.max()))\n",
    "# HTML(animator.to_jshtml())\n",
    "# # or use animator.to_html5_video() or animator.save() "
   ]
  },
  {
   "cell_type": "code",
   "execution_count": null,
   "id": "australian-container",
   "metadata": {
    "papermill": {
     "duration": 0.030832,
     "end_time": "2022-10-13T12:20:54.967524",
     "exception": false,
     "start_time": "2022-10-13T12:20:54.936692",
     "status": "completed"
    },
    "tags": []
   },
   "outputs": [],
   "source": []
  },
  {
   "cell_type": "code",
   "execution_count": null,
   "id": "mediterranean-pontiac",
   "metadata": {
    "papermill": {
     "duration": 0.052929,
     "end_time": "2022-10-13T12:20:55.051091",
     "exception": false,
     "start_time": "2022-10-13T12:20:54.998162",
     "status": "completed"
    },
    "tags": []
   },
   "outputs": [],
   "source": []
  },
  {
   "cell_type": "code",
   "execution_count": null,
   "id": "aging-legislature",
   "metadata": {
    "papermill": {
     "duration": 0.054977,
     "end_time": "2022-10-13T12:20:55.161915",
     "exception": false,
     "start_time": "2022-10-13T12:20:55.106938",
     "status": "completed"
    },
    "tags": []
   },
   "outputs": [],
   "source": []
  }
 ],
 "metadata": {
  "kernelspec": {
   "display_name": "Python 3",
   "language": "python",
   "name": "python3"
  },
  "language_info": {
   "codemirror_mode": {
    "name": "ipython",
    "version": 3
   },
   "file_extension": ".py",
   "mimetype": "text/x-python",
   "name": "python",
   "nbconvert_exporter": "python",
   "pygments_lexer": "ipython3",
   "version": "3.6.15"
  },
  "papermill": {
   "duration": 6.321112,
   "end_time": "2022-10-13T12:20:55.624422",
   "environment_variables": {},
   "exception": null,
   "input_path": "2020-03-21-covid19exp.ipynb",
   "output_path": "2020-03-21-covid19exp.ipynb",
   "parameters": {},
   "start_time": "2022-10-13T12:20:49.303310",
   "version": "2.0.0"
  }
 },
 "nbformat": 4,
 "nbformat_minor": 5
}