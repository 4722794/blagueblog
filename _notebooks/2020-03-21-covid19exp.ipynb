{
 "cells": [
  {
   "cell_type": "markdown",
   "metadata": {
    "papermill": {
     "duration": 0.041763,
     "end_time": "2020-12-23T00:19:08.921198",
     "exception": false,
     "start_time": "2020-12-23T00:19:08.879435",
     "status": "completed"
    },
    "tags": []
   },
   "source": [
    "# COVID-19 Case Race\n",
    "> A race chart to see rising cases around the world\n",
    "\n",
    "- author: Hargun Oberoi\n",
    "- image: images/covid-overview.png\n",
    "- hide: false\n",
    "- badges: false"
   ]
  },
  {
   "cell_type": "code",
   "execution_count": 1,
   "metadata": {
    "execution": {
     "iopub.execute_input": "2020-12-23T00:19:09.004043Z",
     "iopub.status.busy": "2020-12-23T00:19:09.003312Z",
     "iopub.status.idle": "2020-12-23T00:19:09.390706Z",
     "shell.execute_reply": "2020-12-23T00:19:09.390077Z"
    },
    "papermill": {
     "duration": 0.432881,
     "end_time": "2020-12-23T00:19:09.390895",
     "exception": false,
     "start_time": "2020-12-23T00:19:08.958014",
     "status": "completed"
    },
    "tags": []
   },
   "outputs": [],
   "source": [
    "#hide\n",
    "import numpy as np\n",
    "import pandas as pd\n",
    "from jinja2 import Template\n",
    "from IPython.display import HTML"
   ]
  },
  {
   "cell_type": "code",
   "execution_count": 2,
   "metadata": {
    "execution": {
     "iopub.execute_input": "2020-12-23T00:19:09.465650Z",
     "iopub.status.busy": "2020-12-23T00:19:09.464924Z",
     "iopub.status.idle": "2020-12-23T00:19:09.466552Z",
     "shell.execute_reply": "2020-12-23T00:19:09.467155Z"
    },
    "papermill": {
     "duration": 0.042381,
     "end_time": "2020-12-23T00:19:09.467331",
     "exception": false,
     "start_time": "2020-12-23T00:19:09.424950",
     "status": "completed"
    },
    "tags": []
   },
   "outputs": [],
   "source": [
    "#hide\n",
    "\n",
    "# FETCH\n",
    "base_url = 'https://raw.githubusercontent.com/pratapvardhan/notebooks/master/covid19/'\n",
    "paths = {\n",
    "    'mapping': base_url + 'mapping_countries.csv',\n",
    "    'overview': base_url + 'overview.tpl'\n",
    "}"
   ]
  },
  {
   "cell_type": "code",
   "execution_count": 3,
   "metadata": {
    "execution": {
     "iopub.execute_input": "2020-12-23T00:19:09.552615Z",
     "iopub.status.busy": "2020-12-23T00:19:09.551470Z",
     "iopub.status.idle": "2020-12-23T00:19:09.555691Z",
     "shell.execute_reply": "2020-12-23T00:19:09.556592Z"
    },
    "papermill": {
     "duration": 0.050169,
     "end_time": "2020-12-23T00:19:09.556781",
     "exception": false,
     "start_time": "2020-12-23T00:19:09.506612",
     "status": "completed"
    },
    "tags": []
   },
   "outputs": [
    {
     "data": {
      "text/plain": [
       "'https://raw.githubusercontent.com/pratapvardhan/notebooks/master/covid19/mapping_countries.csv'"
      ]
     },
     "execution_count": 3,
     "metadata": {},
     "output_type": "execute_result"
    }
   ],
   "source": [
    "#hide\n",
    "paths['mapping']"
   ]
  },
  {
   "cell_type": "code",
   "execution_count": 4,
   "metadata": {
    "execution": {
     "iopub.execute_input": "2020-12-23T00:19:09.632957Z",
     "iopub.status.busy": "2020-12-23T00:19:09.631842Z",
     "iopub.status.idle": "2020-12-23T00:19:09.635134Z",
     "shell.execute_reply": "2020-12-23T00:19:09.634549Z"
    },
    "papermill": {
     "duration": 0.0435,
     "end_time": "2020-12-23T00:19:09.635282",
     "exception": false,
     "start_time": "2020-12-23T00:19:09.591782",
     "status": "completed"
    },
    "tags": []
   },
   "outputs": [],
   "source": [
    "#hide\n",
    "def get_mappings(url):\n",
    "    df = pd.read_csv(url)\n",
    "    return {\n",
    "        'df': df,\n",
    "        'replace.country': dict(df.dropna(subset=['Name']).set_index('Country')['Name']),\n",
    "        'map.continent': dict(df.set_index('Name')['Continent'])\n",
    "    }"
   ]
  },
  {
   "cell_type": "code",
   "execution_count": 5,
   "metadata": {
    "execution": {
     "iopub.execute_input": "2020-12-23T00:19:09.710010Z",
     "iopub.status.busy": "2020-12-23T00:19:09.708372Z",
     "iopub.status.idle": "2020-12-23T00:19:09.783259Z",
     "shell.execute_reply": "2020-12-23T00:19:09.782657Z"
    },
    "papermill": {
     "duration": 0.114089,
     "end_time": "2020-12-23T00:19:09.783459",
     "exception": false,
     "start_time": "2020-12-23T00:19:09.669370",
     "status": "completed"
    },
    "tags": []
   },
   "outputs": [],
   "source": [
    "#hide\n",
    "mapping = get_mappings(paths['mapping'])"
   ]
  },
  {
   "cell_type": "code",
   "execution_count": 6,
   "metadata": {
    "execution": {
     "iopub.execute_input": "2020-12-23T00:19:09.864448Z",
     "iopub.status.busy": "2020-12-23T00:19:09.863765Z",
     "iopub.status.idle": "2020-12-23T00:19:09.871819Z",
     "shell.execute_reply": "2020-12-23T00:19:09.872540Z"
    },
    "papermill": {
     "duration": 0.055838,
     "end_time": "2020-12-23T00:19:09.872726",
     "exception": false,
     "start_time": "2020-12-23T00:19:09.816888",
     "status": "completed"
    },
    "tags": []
   },
   "outputs": [],
   "source": [
    "#hide\n",
    "def get_template(path):\n",
    "    from urllib.parse import urlparse\n",
    "    if bool(urlparse(path).netloc):\n",
    "        from urllib.request import urlopen\n",
    "        return urlopen(path).read().decode('utf8')\n",
    "    return open(path).read()"
   ]
  },
  {
   "cell_type": "code",
   "execution_count": 7,
   "metadata": {
    "execution": {
     "iopub.execute_input": "2020-12-23T00:19:09.951196Z",
     "iopub.status.busy": "2020-12-23T00:19:09.950201Z",
     "iopub.status.idle": "2020-12-23T00:19:09.952427Z",
     "shell.execute_reply": "2020-12-23T00:19:09.953603Z"
    },
    "papermill": {
     "duration": 0.045654,
     "end_time": "2020-12-23T00:19:09.953768",
     "exception": false,
     "start_time": "2020-12-23T00:19:09.908114",
     "status": "completed"
    },
    "tags": []
   },
   "outputs": [],
   "source": [
    "#hide\n",
    "def get_frame(name):\n",
    "    url = (\n",
    "        'https://raw.githubusercontent.com/CSSEGISandData/COVID-19/master/csse_covid_19_data/'\n",
    "        f'csse_covid_19_time_series/time_series_covid19_{name}_global.csv')\n",
    "    df = pd.read_csv(url)\n",
    "    # rename countries\n",
    "    df['Country/Region'] = df['Country/Region'].replace(mapping['replace.country'])\n",
    "    return df"
   ]
  },
  {
   "cell_type": "code",
   "execution_count": 8,
   "metadata": {
    "execution": {
     "iopub.execute_input": "2020-12-23T00:19:10.032515Z",
     "iopub.status.busy": "2020-12-23T00:19:10.031815Z",
     "iopub.status.idle": "2020-12-23T00:19:10.033693Z",
     "shell.execute_reply": "2020-12-23T00:19:10.034286Z"
    },
    "papermill": {
     "duration": 0.042996,
     "end_time": "2020-12-23T00:19:10.034452",
     "exception": false,
     "start_time": "2020-12-23T00:19:09.991456",
     "status": "completed"
    },
    "tags": []
   },
   "outputs": [],
   "source": [
    "#hide\n",
    "def get_dates(df):\n",
    "    dt_cols = df.columns[~df.columns.isin(['Province/State', 'Country/Region', 'Lat', 'Long'])]\n",
    "    LAST_DATE_I = -1\n",
    "    # sometimes last column may be empty, then go backwards\n",
    "    for i in range(-1, -len(dt_cols), -1):\n",
    "        if not df[dt_cols[i]].fillna(0).eq(0).all():\n",
    "            LAST_DATE_I = i\n",
    "            break\n",
    "    return LAST_DATE_I, dt_cols"
   ]
  },
  {
   "cell_type": "code",
   "execution_count": 9,
   "metadata": {
    "execution": {
     "iopub.execute_input": "2020-12-23T00:19:10.110130Z",
     "iopub.status.busy": "2020-12-23T00:19:10.109369Z",
     "iopub.status.idle": "2020-12-23T00:19:10.349139Z",
     "shell.execute_reply": "2020-12-23T00:19:10.350308Z"
    },
    "papermill": {
     "duration": 0.282667,
     "end_time": "2020-12-23T00:19:10.351877",
     "exception": false,
     "start_time": "2020-12-23T00:19:10.069210",
     "status": "completed"
    },
    "tags": []
   },
   "outputs": [],
   "source": [
    "#hide\n",
    "COL_REGION = 'Country/Region'\n",
    "# Confirmed, Recovered, Deaths\n",
    "df = get_frame('confirmed')\n",
    "# dft_: timeseries, dfc_: today country agg\n",
    "dft_cases = df\n",
    "dft_deaths = get_frame('deaths')\n",
    "dft_recovered = get_frame('recovered')\n",
    "LAST_DATE_I, dt_cols = get_dates(df)"
   ]
  },
  {
   "cell_type": "code",
   "execution_count": 10,
   "metadata": {
    "execution": {
     "iopub.execute_input": "2020-12-23T00:19:10.430550Z",
     "iopub.status.busy": "2020-12-23T00:19:10.429851Z",
     "iopub.status.idle": "2020-12-23T00:19:10.432522Z",
     "shell.execute_reply": "2020-12-23T00:19:10.431964Z"
    },
    "papermill": {
     "duration": 0.042251,
     "end_time": "2020-12-23T00:19:10.432673",
     "exception": false,
     "start_time": "2020-12-23T00:19:10.390422",
     "status": "completed"
    },
    "tags": []
   },
   "outputs": [],
   "source": [
    "#hide\n",
    "LAST_DATE_I, dt_cols = get_dates(df)\n",
    "dt_today =dt_cols[LAST_DATE_I]\n",
    "# dt_5day = dt_cols[LAST_DATE_I - 5]\n",
    "dt_yday = dt_cols[LAST_DATE_I - 1]"
   ]
  },
  {
   "cell_type": "code",
   "execution_count": 11,
   "metadata": {
    "execution": {
     "iopub.execute_input": "2020-12-23T00:19:10.516638Z",
     "iopub.status.busy": "2020-12-23T00:19:10.515940Z",
     "iopub.status.idle": "2020-12-23T00:19:10.521394Z",
     "shell.execute_reply": "2020-12-23T00:19:10.522143Z"
    },
    "papermill": {
     "duration": 0.055099,
     "end_time": "2020-12-23T00:19:10.522318",
     "exception": false,
     "start_time": "2020-12-23T00:19:10.467219",
     "status": "completed"
    },
    "tags": []
   },
   "outputs": [],
   "source": [
    "#hide\n",
    "dfc_cases = dft_cases.groupby(COL_REGION)[dt_today].sum()\n",
    "dfc_deaths = dft_deaths.groupby(COL_REGION)[dt_today].sum()\n",
    "# dfp_cases = dft_cases.groupby(COL_REGION)[dt_5day].sum()\n",
    "# dfp_deaths = dft_deaths.groupby(COL_REGION)[dt_5day].sum()\n",
    "dfp_cases = dft_cases.groupby(COL_REGION)[dt_yday].sum()\n",
    "dfp_deaths = dft_deaths.groupby(COL_REGION)[dt_yday].sum()"
   ]
  },
  {
   "cell_type": "code",
   "execution_count": 12,
   "metadata": {
    "execution": {
     "iopub.execute_input": "2020-12-23T00:19:10.601868Z",
     "iopub.status.busy": "2020-12-23T00:19:10.601162Z",
     "iopub.status.idle": "2020-12-23T00:19:10.606730Z",
     "shell.execute_reply": "2020-12-23T00:19:10.606123Z"
    },
    "papermill": {
     "duration": 0.050036,
     "end_time": "2020-12-23T00:19:10.606889",
     "exception": false,
     "start_time": "2020-12-23T00:19:10.556853",
     "status": "completed"
    },
    "tags": []
   },
   "outputs": [],
   "source": [
    "#hide\n",
    "df_table = (pd.DataFrame(dict(Cases = dfc_cases, Deaths = dfc_deaths, PCases = dfp_cases, PDeaths = dfp_deaths))\n",
    "            .sort_values(by = ['Cases','Deaths'], ascending = [False, False])\n",
    "            .reset_index())"
   ]
  },
  {
   "cell_type": "code",
   "execution_count": 13,
   "metadata": {
    "execution": {
     "iopub.execute_input": "2020-12-23T00:19:10.699941Z",
     "iopub.status.busy": "2020-12-23T00:19:10.699079Z",
     "iopub.status.idle": "2020-12-23T00:19:10.708598Z",
     "shell.execute_reply": "2020-12-23T00:19:10.708036Z"
    },
    "papermill": {
     "duration": 0.066913,
     "end_time": "2020-12-23T00:19:10.708758",
     "exception": false,
     "start_time": "2020-12-23T00:19:10.641845",
     "status": "completed"
    },
    "tags": []
   },
   "outputs": [
    {
     "data": {
      "text/html": [
       "<div>\n",
       "<style scoped>\n",
       "    .dataframe tbody tr th:only-of-type {\n",
       "        vertical-align: middle;\n",
       "    }\n",
       "\n",
       "    .dataframe tbody tr th {\n",
       "        vertical-align: top;\n",
       "    }\n",
       "\n",
       "    .dataframe thead th {\n",
       "        text-align: right;\n",
       "    }\n",
       "</style>\n",
       "<table border=\"1\" class=\"dataframe\">\n",
       "  <thead>\n",
       "    <tr style=\"text-align: right;\">\n",
       "      <th></th>\n",
       "      <th>Country/Region</th>\n",
       "      <th>Cases</th>\n",
       "      <th>Deaths</th>\n",
       "      <th>PCases</th>\n",
       "      <th>PDeaths</th>\n",
       "      <th>Cases (+)</th>\n",
       "      <th>Deaths (+)</th>\n",
       "      <th>Fatality Rate</th>\n",
       "      <th>Continent</th>\n",
       "    </tr>\n",
       "  </thead>\n",
       "  <tbody>\n",
       "    <tr>\n",
       "      <th>0</th>\n",
       "      <td>US</td>\n",
       "      <td>18035209</td>\n",
       "      <td>319364</td>\n",
       "      <td>17844690</td>\n",
       "      <td>317668</td>\n",
       "      <td>190519</td>\n",
       "      <td>1696</td>\n",
       "      <td>1.77</td>\n",
       "      <td>North America</td>\n",
       "    </tr>\n",
       "    <tr>\n",
       "      <th>1</th>\n",
       "      <td>India</td>\n",
       "      <td>10075116</td>\n",
       "      <td>146111</td>\n",
       "      <td>10055560</td>\n",
       "      <td>145810</td>\n",
       "      <td>19556</td>\n",
       "      <td>301</td>\n",
       "      <td>1.45</td>\n",
       "      <td>Asia</td>\n",
       "    </tr>\n",
       "    <tr>\n",
       "      <th>2</th>\n",
       "      <td>Brazil</td>\n",
       "      <td>7263619</td>\n",
       "      <td>187291</td>\n",
       "      <td>7238600</td>\n",
       "      <td>186764</td>\n",
       "      <td>25019</td>\n",
       "      <td>527</td>\n",
       "      <td>2.58</td>\n",
       "      <td>South America</td>\n",
       "    </tr>\n",
       "    <tr>\n",
       "      <th>3</th>\n",
       "      <td>Russia</td>\n",
       "      <td>2850042</td>\n",
       "      <td>50723</td>\n",
       "      <td>2821125</td>\n",
       "      <td>50242</td>\n",
       "      <td>28917</td>\n",
       "      <td>481</td>\n",
       "      <td>1.78</td>\n",
       "      <td>Europe</td>\n",
       "    </tr>\n",
       "    <tr>\n",
       "      <th>4</th>\n",
       "      <td>France</td>\n",
       "      <td>2535716</td>\n",
       "      <td>61019</td>\n",
       "      <td>2529756</td>\n",
       "      <td>60665</td>\n",
       "      <td>5960</td>\n",
       "      <td>354</td>\n",
       "      <td>2.41</td>\n",
       "      <td>Europe</td>\n",
       "    </tr>\n",
       "  </tbody>\n",
       "</table>\n",
       "</div>"
      ],
      "text/plain": [
       "  Country/Region     Cases  Deaths    PCases  PDeaths  Cases (+)  Deaths (+)  \\\n",
       "0             US  18035209  319364  17844690   317668     190519        1696   \n",
       "1          India  10075116  146111  10055560   145810      19556         301   \n",
       "2         Brazil   7263619  187291   7238600   186764      25019         527   \n",
       "3         Russia   2850042   50723   2821125    50242      28917         481   \n",
       "4         France   2535716   61019   2529756    60665       5960         354   \n",
       "\n",
       "   Fatality Rate      Continent  \n",
       "0           1.77  North America  \n",
       "1           1.45           Asia  \n",
       "2           2.58  South America  \n",
       "3           1.78         Europe  \n",
       "4           2.41         Europe  "
      ]
     },
     "execution_count": 13,
     "metadata": {},
     "output_type": "execute_result"
    }
   ],
   "source": [
    "#hide\n",
    "for c in 'Cases, Deaths'.split(', '):\n",
    "    df_table[f'{c} (+)'] = (df_table[c] - df_table[f'P{c}']).clip(0)\n",
    "    #Clip ça veut dire, les chiffres negatif sont interdit\n",
    "df_table['Fatality Rate'] = (100* df_table['Deaths']/ df_table['Cases']).round(2)\n",
    "df_table['Continent'] = df_table['Country/Region'].map(mapping['map.continent'])\n",
    "df_table.head(5)"
   ]
  },
  {
   "cell_type": "code",
   "execution_count": 14,
   "metadata": {
    "execution": {
     "iopub.execute_input": "2020-12-23T00:19:10.794978Z",
     "iopub.status.busy": "2020-12-23T00:19:10.794268Z",
     "iopub.status.idle": "2020-12-23T00:19:10.796878Z",
     "shell.execute_reply": "2020-12-23T00:19:10.796290Z"
    },
    "papermill": {
     "duration": 0.049035,
     "end_time": "2020-12-23T00:19:10.797026",
     "exception": false,
     "start_time": "2020-12-23T00:19:10.747991",
     "status": "completed"
    },
    "tags": []
   },
   "outputs": [],
   "source": [
    "#hide\n",
    "#delete problematic countries from table\n",
    "df_table = df_table[~df_table['Country/Region'].isin(['Cape Verde', 'Cruise Ship', 'Kosovo'])]"
   ]
  },
  {
   "cell_type": "code",
   "execution_count": 15,
   "metadata": {
    "execution": {
     "iopub.execute_input": "2020-12-23T00:19:10.886038Z",
     "iopub.status.busy": "2020-12-23T00:19:10.885323Z",
     "iopub.status.idle": "2020-12-23T00:19:10.907372Z",
     "shell.execute_reply": "2020-12-23T00:19:10.906687Z"
    },
    "papermill": {
     "duration": 0.069719,
     "end_time": "2020-12-23T00:19:10.907553",
     "exception": false,
     "start_time": "2020-12-23T00:19:10.837834",
     "status": "completed"
    },
    "tags": []
   },
   "outputs": [
    {
     "data": {
      "text/html": [
       "<div>\n",
       "<style scoped>\n",
       "    .dataframe tbody tr th:only-of-type {\n",
       "        vertical-align: middle;\n",
       "    }\n",
       "\n",
       "    .dataframe tbody tr th {\n",
       "        vertical-align: top;\n",
       "    }\n",
       "\n",
       "    .dataframe thead th {\n",
       "        text-align: right;\n",
       "    }\n",
       "</style>\n",
       "<table border=\"1\" class=\"dataframe\">\n",
       "  <thead>\n",
       "    <tr style=\"text-align: right;\">\n",
       "      <th></th>\n",
       "      <th>Country/Region</th>\n",
       "      <th>Cases</th>\n",
       "      <th>Deaths</th>\n",
       "      <th>PCases</th>\n",
       "      <th>PDeaths</th>\n",
       "      <th>Cases (+)</th>\n",
       "      <th>Deaths (+)</th>\n",
       "      <th>Fatality Rate</th>\n",
       "      <th>Continent</th>\n",
       "    </tr>\n",
       "  </thead>\n",
       "  <tbody>\n",
       "    <tr>\n",
       "      <th>0</th>\n",
       "      <td>US</td>\n",
       "      <td>18035209</td>\n",
       "      <td>319364</td>\n",
       "      <td>17844690</td>\n",
       "      <td>317668</td>\n",
       "      <td>190519</td>\n",
       "      <td>1696</td>\n",
       "      <td>1.8</td>\n",
       "      <td>North America</td>\n",
       "    </tr>\n",
       "    <tr>\n",
       "      <th>1</th>\n",
       "      <td>India</td>\n",
       "      <td>10075116</td>\n",
       "      <td>146111</td>\n",
       "      <td>10055560</td>\n",
       "      <td>145810</td>\n",
       "      <td>19556</td>\n",
       "      <td>301</td>\n",
       "      <td>1.5</td>\n",
       "      <td>Asia</td>\n",
       "    </tr>\n",
       "    <tr>\n",
       "      <th>2</th>\n",
       "      <td>Brazil</td>\n",
       "      <td>7263619</td>\n",
       "      <td>187291</td>\n",
       "      <td>7238600</td>\n",
       "      <td>186764</td>\n",
       "      <td>25019</td>\n",
       "      <td>527</td>\n",
       "      <td>2.6</td>\n",
       "      <td>South America</td>\n",
       "    </tr>\n",
       "    <tr>\n",
       "      <th>3</th>\n",
       "      <td>Russia</td>\n",
       "      <td>2850042</td>\n",
       "      <td>50723</td>\n",
       "      <td>2821125</td>\n",
       "      <td>50242</td>\n",
       "      <td>28917</td>\n",
       "      <td>481</td>\n",
       "      <td>1.8</td>\n",
       "      <td>Europe</td>\n",
       "    </tr>\n",
       "    <tr>\n",
       "      <th>4</th>\n",
       "      <td>France</td>\n",
       "      <td>2535716</td>\n",
       "      <td>61019</td>\n",
       "      <td>2529756</td>\n",
       "      <td>60665</td>\n",
       "      <td>5960</td>\n",
       "      <td>354</td>\n",
       "      <td>2.4</td>\n",
       "      <td>Europe</td>\n",
       "    </tr>\n",
       "  </tbody>\n",
       "</table>\n",
       "</div>"
      ],
      "text/plain": [
       "  Country/Region     Cases  Deaths    PCases  PDeaths  Cases (+)  Deaths (+)  \\\n",
       "0             US  18035209  319364  17844690   317668     190519        1696   \n",
       "1          India  10075116  146111  10055560   145810      19556         301   \n",
       "2         Brazil   7263619  187291   7238600   186764      25019         527   \n",
       "3         Russia   2850042   50723   2821125    50242      28917         481   \n",
       "4         France   2535716   61019   2529756    60665       5960         354   \n",
       "\n",
       "   Fatality Rate      Continent  \n",
       "0            1.8  North America  \n",
       "1            1.5           Asia  \n",
       "2            2.6  South America  \n",
       "3            1.8         Europe  \n",
       "4            2.4         Europe  "
      ]
     },
     "execution_count": 15,
     "metadata": {},
     "output_type": "execute_result"
    }
   ],
   "source": [
    "#hide\n",
    "df_table = (pd.DataFrame(dict(Cases=dfc_cases, Deaths=dfc_deaths, PCases=dfp_cases, PDeaths=dfp_deaths))\n",
    "             .sort_values(by=['Cases', 'Deaths'], ascending=[False, False])\n",
    "             .reset_index())\n",
    "df_table.rename(columns={'index': 'Country/Region'}, inplace=True)\n",
    "for c in 'Cases, Deaths'.split(', '):\n",
    "    df_table[f'{c} (+)'] = (df_table[c] - df_table[f'P{c}']).clip(0)  # DATA BUG\n",
    "df_table['Fatality Rate'] = (100 * df_table['Deaths'] / df_table['Cases']).round(1)\n",
    "df_table['Continent'] = df_table['Country/Region'].map(mapping['map.continent'])\n",
    "df_table.head(5)"
   ]
  },
  {
   "cell_type": "code",
   "execution_count": 16,
   "metadata": {
    "execution": {
     "iopub.execute_input": "2020-12-23T00:19:10.988016Z",
     "iopub.status.busy": "2020-12-23T00:19:10.987307Z",
     "iopub.status.idle": "2020-12-23T00:19:10.996804Z",
     "shell.execute_reply": "2020-12-23T00:19:10.997615Z"
    },
    "papermill": {
     "duration": 0.051103,
     "end_time": "2020-12-23T00:19:10.997887",
     "exception": false,
     "start_time": "2020-12-23T00:19:10.946784",
     "status": "completed"
    },
    "tags": []
   },
   "outputs": [],
   "source": [
    "#hide\n",
    "#delete problematic countries from table\n",
    "df_table = df_table[~df_table['Country/Region'].isin(['Cape Verde', 'Cruise Ship', 'Kosovo'])]"
   ]
  },
  {
   "cell_type": "code",
   "execution_count": 17,
   "metadata": {
    "execution": {
     "iopub.execute_input": "2020-12-23T00:19:11.092879Z",
     "iopub.status.busy": "2020-12-23T00:19:11.085973Z",
     "iopub.status.idle": "2020-12-23T00:19:11.095566Z",
     "shell.execute_reply": "2020-12-23T00:19:11.094943Z"
    },
    "papermill": {
     "duration": 0.060549,
     "end_time": "2020-12-23T00:19:11.095725",
     "exception": false,
     "start_time": "2020-12-23T00:19:11.035176",
     "status": "completed"
    },
    "tags": []
   },
   "outputs": [],
   "source": [
    "#hide\n",
    "metrics = [df_table.columns[index] for index in [1,2,5,6]]\n",
    "# s_china = df_table[df_table['Country/Region'].eq('China')][metrics].sum().add_prefix('China ')\n",
    "s_us = df_table[df_table['Country/Region'].eq('US')][metrics].sum().add_prefix('US ')\n",
    "s_eu = df_table[df_table['Continent'].eq('Europe')][metrics].sum().add_prefix('EU ')\n",
    "s_ind = df_table[df_table['Country/Region'].eq('India')][metrics].sum().add_prefix('India ')\n",
    "summary = {'updated': pd.to_datetime(dt_today), 'since': pd.to_datetime(dt_yday)}\n",
    "summary = {'updated': pd.to_datetime(dt_today), 'since': pd.to_datetime(dt_yday)}\n",
    "summary = {**summary, **df_table[metrics].sum(), **s_ind, **s_us, **s_eu}"
   ]
  },
  {
   "cell_type": "code",
   "execution_count": 18,
   "metadata": {
    "execution": {
     "iopub.execute_input": "2020-12-23T00:19:11.178801Z",
     "iopub.status.busy": "2020-12-23T00:19:11.178097Z",
     "iopub.status.idle": "2020-12-23T00:19:11.188698Z",
     "shell.execute_reply": "2020-12-23T00:19:11.188128Z"
    },
    "papermill": {
     "duration": 0.054014,
     "end_time": "2020-12-23T00:19:11.188868",
     "exception": false,
     "start_time": "2020-12-23T00:19:11.134854",
     "status": "completed"
    },
    "tags": []
   },
   "outputs": [],
   "source": [
    "#hide\n",
    "dft_ct_new_cases = dft_cases.groupby(COL_REGION)[dt_cols].sum().diff(axis=1).fillna(0).astype(int)"
   ]
  },
  {
   "cell_type": "code",
   "execution_count": 19,
   "metadata": {
    "execution": {
     "iopub.execute_input": "2020-12-23T00:19:11.268830Z",
     "iopub.status.busy": "2020-12-23T00:19:11.268144Z",
     "iopub.status.idle": "2020-12-23T00:19:11.269991Z",
     "shell.execute_reply": "2020-12-23T00:19:11.270641Z"
    },
    "papermill": {
     "duration": 0.04626,
     "end_time": "2020-12-23T00:19:11.270803",
     "exception": false,
     "start_time": "2020-12-23T00:19:11.224543",
     "status": "completed"
    },
    "tags": []
   },
   "outputs": [],
   "source": [
    "#hide\n",
    "everydaycases = dft_ct_new_cases.cumsum(axis=1)"
   ]
  },
  {
   "cell_type": "code",
   "execution_count": 20,
   "metadata": {
    "execution": {
     "iopub.execute_input": "2020-12-23T00:19:11.347654Z",
     "iopub.status.busy": "2020-12-23T00:19:11.346876Z",
     "iopub.status.idle": "2020-12-23T00:19:13.531197Z",
     "shell.execute_reply": "2020-12-23T00:19:13.531794Z"
    },
    "papermill": {
     "duration": 2.226542,
     "end_time": "2020-12-23T00:19:13.531991",
     "exception": false,
     "start_time": "2020-12-23T00:19:11.305449",
     "status": "completed"
    },
    "tags": []
   },
   "outputs": [],
   "source": [
    "#hide\n",
    "import pandas as pd\n",
    "import matplotlib.pyplot as plt\n",
    "import matplotlib.ticker as ticker\n",
    "import matplotlib.animation as animation\n",
    "from IPython.display import HTML"
   ]
  },
  {
   "cell_type": "code",
   "execution_count": 21,
   "metadata": {
    "execution": {
     "iopub.execute_input": "2020-12-23T00:19:13.609650Z",
     "iopub.status.busy": "2020-12-23T00:19:13.608981Z",
     "iopub.status.idle": "2020-12-23T00:19:13.613639Z",
     "shell.execute_reply": "2020-12-23T00:19:13.614269Z"
    },
    "papermill": {
     "duration": 0.044792,
     "end_time": "2020-12-23T00:19:13.614430",
     "exception": false,
     "start_time": "2020-12-23T00:19:13.569638",
     "status": "completed"
    },
    "tags": []
   },
   "outputs": [],
   "source": [
    "#hide\n",
    "t = everydaycases.stack()"
   ]
  },
  {
   "cell_type": "code",
   "execution_count": 22,
   "metadata": {
    "execution": {
     "iopub.execute_input": "2020-12-23T00:19:13.691933Z",
     "iopub.status.busy": "2020-12-23T00:19:13.691211Z",
     "iopub.status.idle": "2020-12-23T00:19:13.699616Z",
     "shell.execute_reply": "2020-12-23T00:19:13.700456Z"
    },
    "papermill": {
     "duration": 0.049669,
     "end_time": "2020-12-23T00:19:13.700640",
     "exception": false,
     "start_time": "2020-12-23T00:19:13.650971",
     "status": "completed"
    },
    "tags": []
   },
   "outputs": [],
   "source": [
    "#hide\n",
    "g = t.reset_index(['Country/Region'])"
   ]
  },
  {
   "cell_type": "code",
   "execution_count": 23,
   "metadata": {
    "execution": {
     "iopub.execute_input": "2020-12-23T00:19:13.776926Z",
     "iopub.status.busy": "2020-12-23T00:19:13.776237Z",
     "iopub.status.idle": "2020-12-23T00:19:13.778871Z",
     "shell.execute_reply": "2020-12-23T00:19:13.778290Z"
    },
    "papermill": {
     "duration": 0.043789,
     "end_time": "2020-12-23T00:19:13.779016",
     "exception": false,
     "start_time": "2020-12-23T00:19:13.735227",
     "status": "completed"
    },
    "tags": []
   },
   "outputs": [],
   "source": [
    "#hide\n",
    "g.index.name = 'date'"
   ]
  },
  {
   "cell_type": "code",
   "execution_count": 24,
   "metadata": {
    "execution": {
     "iopub.execute_input": "2020-12-23T00:19:13.851844Z",
     "iopub.status.busy": "2020-12-23T00:19:13.851139Z",
     "iopub.status.idle": "2020-12-23T00:19:13.853668Z",
     "shell.execute_reply": "2020-12-23T00:19:13.854312Z"
    },
    "papermill": {
     "duration": 0.041794,
     "end_time": "2020-12-23T00:19:13.854469",
     "exception": false,
     "start_time": "2020-12-23T00:19:13.812675",
     "status": "completed"
    },
    "tags": []
   },
   "outputs": [],
   "source": [
    "# #hide\n",
    "# g = g.reset_index(['date'])"
   ]
  },
  {
   "cell_type": "code",
   "execution_count": 25,
   "metadata": {
    "execution": {
     "iopub.execute_input": "2020-12-23T00:19:13.929766Z",
     "iopub.status.busy": "2020-12-23T00:19:13.929100Z",
     "iopub.status.idle": "2020-12-23T00:19:13.930931Z",
     "shell.execute_reply": "2020-12-23T00:19:13.931595Z"
    },
    "papermill": {
     "duration": 0.041341,
     "end_time": "2020-12-23T00:19:13.931752",
     "exception": false,
     "start_time": "2020-12-23T00:19:13.890411",
     "status": "completed"
    },
    "tags": []
   },
   "outputs": [],
   "source": [
    "#hide\n",
    "# g.head()"
   ]
  },
  {
   "cell_type": "code",
   "execution_count": 26,
   "metadata": {
    "execution": {
     "iopub.execute_input": "2020-12-23T00:19:14.004215Z",
     "iopub.status.busy": "2020-12-23T00:19:14.003543Z",
     "iopub.status.idle": "2020-12-23T00:19:14.006751Z",
     "shell.execute_reply": "2020-12-23T00:19:14.005522Z"
    },
    "papermill": {
     "duration": 0.041706,
     "end_time": "2020-12-23T00:19:14.006898",
     "exception": false,
     "start_time": "2020-12-23T00:19:13.965192",
     "status": "completed"
    },
    "tags": []
   },
   "outputs": [],
   "source": [
    "#hide\n",
    "# g.columns = ['date','country','cases']"
   ]
  },
  {
   "cell_type": "code",
   "execution_count": 27,
   "metadata": {
    "execution": {
     "iopub.execute_input": "2020-12-23T00:19:14.080994Z",
     "iopub.status.busy": "2020-12-23T00:19:14.080319Z",
     "iopub.status.idle": "2020-12-23T00:19:14.083034Z",
     "shell.execute_reply": "2020-12-23T00:19:14.082468Z"
    },
    "papermill": {
     "duration": 0.042864,
     "end_time": "2020-12-23T00:19:14.083179",
     "exception": false,
     "start_time": "2020-12-23T00:19:14.040315",
     "status": "completed"
    },
    "tags": []
   },
   "outputs": [],
   "source": [
    "#hide\n",
    "# g['continent'] = g.country"
   ]
  },
  {
   "cell_type": "code",
   "execution_count": 28,
   "metadata": {
    "execution": {
     "iopub.execute_input": "2020-12-23T00:19:14.156795Z",
     "iopub.status.busy": "2020-12-23T00:19:14.156130Z",
     "iopub.status.idle": "2020-12-23T00:19:14.158134Z",
     "shell.execute_reply": "2020-12-23T00:19:14.158645Z"
    },
    "papermill": {
     "duration": 0.041034,
     "end_time": "2020-12-23T00:19:14.158802",
     "exception": false,
     "start_time": "2020-12-23T00:19:14.117768",
     "status": "completed"
    },
    "tags": []
   },
   "outputs": [],
   "source": [
    "#hide\n",
    "# cols = list(g.columns.values)"
   ]
  },
  {
   "cell_type": "code",
   "execution_count": 29,
   "metadata": {
    "execution": {
     "iopub.execute_input": "2020-12-23T00:19:14.235124Z",
     "iopub.status.busy": "2020-12-23T00:19:14.234429Z",
     "iopub.status.idle": "2020-12-23T00:19:14.236222Z",
     "shell.execute_reply": "2020-12-23T00:19:14.236871Z"
    },
    "papermill": {
     "duration": 0.040732,
     "end_time": "2020-12-23T00:19:14.237032",
     "exception": false,
     "start_time": "2020-12-23T00:19:14.196300",
     "status": "completed"
    },
    "tags": []
   },
   "outputs": [],
   "source": [
    "#hide\n",
    "# cols.insert(0, cols.pop())"
   ]
  },
  {
   "cell_type": "code",
   "execution_count": 30,
   "metadata": {
    "execution": {
     "iopub.execute_input": "2020-12-23T00:19:14.312220Z",
     "iopub.status.busy": "2020-12-23T00:19:14.311513Z",
     "iopub.status.idle": "2020-12-23T00:19:14.314454Z",
     "shell.execute_reply": "2020-12-23T00:19:14.313465Z"
    },
    "papermill": {
     "duration": 0.043006,
     "end_time": "2020-12-23T00:19:14.314619",
     "exception": false,
     "start_time": "2020-12-23T00:19:14.271613",
     "status": "completed"
    },
    "tags": []
   },
   "outputs": [],
   "source": [
    "#hide\n",
    "# g = g[cols]"
   ]
  },
  {
   "cell_type": "code",
   "execution_count": 31,
   "metadata": {
    "execution": {
     "iopub.execute_input": "2020-12-23T00:19:14.400424Z",
     "iopub.status.busy": "2020-12-23T00:19:14.399576Z",
     "iopub.status.idle": "2020-12-23T00:19:14.403859Z",
     "shell.execute_reply": "2020-12-23T00:19:14.403249Z"
    },
    "papermill": {
     "duration": 0.048714,
     "end_time": "2020-12-23T00:19:14.404018",
     "exception": false,
     "start_time": "2020-12-23T00:19:14.355304",
     "status": "completed"
    },
    "tags": []
   },
   "outputs": [],
   "source": [
    "#hide\n",
    "# g['continent'] = g['continent'].map(mapping['map.continent'])"
   ]
  },
  {
   "cell_type": "code",
   "execution_count": 32,
   "metadata": {
    "execution": {
     "iopub.execute_input": "2020-12-23T00:19:14.484937Z",
     "iopub.status.busy": "2020-12-23T00:19:14.484251Z",
     "iopub.status.idle": "2020-12-23T00:19:14.494012Z",
     "shell.execute_reply": "2020-12-23T00:19:14.489604Z"
    },
    "papermill": {
     "duration": 0.049269,
     "end_time": "2020-12-23T00:19:14.494175",
     "exception": false,
     "start_time": "2020-12-23T00:19:14.444906",
     "status": "completed"
    },
    "tags": []
   },
   "outputs": [],
   "source": [
    "#hide\n",
    "# g.head()"
   ]
  },
  {
   "cell_type": "code",
   "execution_count": 33,
   "metadata": {
    "execution": {
     "iopub.execute_input": "2020-12-23T00:19:14.570433Z",
     "iopub.status.busy": "2020-12-23T00:19:14.569741Z",
     "iopub.status.idle": "2020-12-23T00:19:14.572848Z",
     "shell.execute_reply": "2020-12-23T00:19:14.573377Z"
    },
    "papermill": {
     "duration": 0.041987,
     "end_time": "2020-12-23T00:19:14.573547",
     "exception": false,
     "start_time": "2020-12-23T00:19:14.531560",
     "status": "completed"
    },
    "tags": []
   },
   "outputs": [],
   "source": [
    "# hide\n",
    "# g['date'] = g['date'].astype('datetime64[ns]')"
   ]
  },
  {
   "cell_type": "code",
   "execution_count": 34,
   "metadata": {
    "execution": {
     "iopub.execute_input": "2020-12-23T00:19:14.648485Z",
     "iopub.status.busy": "2020-12-23T00:19:14.647805Z",
     "iopub.status.idle": "2020-12-23T00:19:14.649208Z",
     "shell.execute_reply": "2020-12-23T00:19:14.649759Z"
    },
    "papermill": {
     "duration": 0.042531,
     "end_time": "2020-12-23T00:19:14.649917",
     "exception": false,
     "start_time": "2020-12-23T00:19:14.607386",
     "status": "completed"
    },
    "tags": []
   },
   "outputs": [],
   "source": [
    "#hide\n",
    "# g['date'] = g.date.dt.dayofyear"
   ]
  },
  {
   "cell_type": "code",
   "execution_count": 35,
   "metadata": {
    "execution": {
     "iopub.execute_input": "2020-12-23T00:19:14.722947Z",
     "iopub.status.busy": "2020-12-23T00:19:14.722259Z",
     "iopub.status.idle": "2020-12-23T00:19:14.725001Z",
     "shell.execute_reply": "2020-12-23T00:19:14.724349Z"
    },
    "papermill": {
     "duration": 0.041766,
     "end_time": "2020-12-23T00:19:14.725149",
     "exception": false,
     "start_time": "2020-12-23T00:19:14.683383",
     "status": "completed"
    },
    "tags": []
   },
   "outputs": [],
   "source": [
    "#hide\n",
    "# g = g.rename(columns= {'continent':'group','country':'name','cases':'value'})"
   ]
  },
  {
   "cell_type": "code",
   "execution_count": 36,
   "metadata": {
    "execution": {
     "iopub.execute_input": "2020-12-23T00:19:14.798080Z",
     "iopub.status.busy": "2020-12-23T00:19:14.797397Z",
     "iopub.status.idle": "2020-12-23T00:19:14.800071Z",
     "shell.execute_reply": "2020-12-23T00:19:14.799484Z"
    },
    "papermill": {
     "duration": 0.040281,
     "end_time": "2020-12-23T00:19:14.800213",
     "exception": false,
     "start_time": "2020-12-23T00:19:14.759932",
     "status": "completed"
    },
    "tags": []
   },
   "outputs": [],
   "source": [
    "#hide\n",
    "# cols = ['name','group','day','value']"
   ]
  },
  {
   "cell_type": "code",
   "execution_count": 37,
   "metadata": {
    "execution": {
     "iopub.execute_input": "2020-12-23T00:19:14.879425Z",
     "iopub.status.busy": "2020-12-23T00:19:14.878726Z",
     "iopub.status.idle": "2020-12-23T00:19:14.881581Z",
     "shell.execute_reply": "2020-12-23T00:19:14.880763Z"
    },
    "papermill": {
     "duration": 0.046065,
     "end_time": "2020-12-23T00:19:14.881731",
     "exception": false,
     "start_time": "2020-12-23T00:19:14.835666",
     "status": "completed"
    },
    "tags": []
   },
   "outputs": [],
   "source": [
    "#hide\n",
    "# g.rename(columns= {'date':'day'},inplace = True)"
   ]
  },
  {
   "cell_type": "code",
   "execution_count": 38,
   "metadata": {
    "execution": {
     "iopub.execute_input": "2020-12-23T00:19:14.954313Z",
     "iopub.status.busy": "2020-12-23T00:19:14.953627Z",
     "iopub.status.idle": "2020-12-23T00:19:14.956208Z",
     "shell.execute_reply": "2020-12-23T00:19:14.955621Z"
    },
    "papermill": {
     "duration": 0.0402,
     "end_time": "2020-12-23T00:19:14.956350",
     "exception": false,
     "start_time": "2020-12-23T00:19:14.916150",
     "status": "completed"
    },
    "tags": []
   },
   "outputs": [],
   "source": [
    "#hide\n",
    "# g = g[cols]"
   ]
  },
  {
   "cell_type": "code",
   "execution_count": 39,
   "metadata": {
    "execution": {
     "iopub.execute_input": "2020-12-23T00:19:15.028767Z",
     "iopub.status.busy": "2020-12-23T00:19:15.028088Z",
     "iopub.status.idle": "2020-12-23T00:19:15.030125Z",
     "shell.execute_reply": "2020-12-23T00:19:15.030842Z"
    },
    "papermill": {
     "duration": 0.040905,
     "end_time": "2020-12-23T00:19:15.031003",
     "exception": false,
     "start_time": "2020-12-23T00:19:14.990098",
     "status": "completed"
    },
    "tags": []
   },
   "outputs": [],
   "source": [
    "# #hide\n",
    "# g = g[g.group.notna()]"
   ]
  },
  {
   "cell_type": "code",
   "execution_count": 40,
   "metadata": {
    "execution": {
     "iopub.execute_input": "2020-12-23T00:19:15.110887Z",
     "iopub.status.busy": "2020-12-23T00:19:15.110187Z",
     "iopub.status.idle": "2020-12-23T00:19:15.112748Z",
     "shell.execute_reply": "2020-12-23T00:19:15.112169Z"
    },
    "papermill": {
     "duration": 0.046798,
     "end_time": "2020-12-23T00:19:15.112894",
     "exception": false,
     "start_time": "2020-12-23T00:19:15.066096",
     "status": "completed"
    },
    "tags": []
   },
   "outputs": [],
   "source": [
    "# #hide\n",
    "# colors = dict(zip(\n",
    "#     [\"Oceania\", \"Europe\", \"Asia\", \"South America\", \"Middle East\", \"North America\", \"Africa\"],\n",
    "#     [\"#adb0ff\", \"#ffb3ff\", \"#90d595\", \"#e48381\", \"#aafbff\", \"#f7bb5f\", \"#eafb50\"]\n",
    "# ))\n",
    "# group_lk = g.set_index('name')['group'].to_dict()"
   ]
  },
  {
   "cell_type": "code",
   "execution_count": null,
   "metadata": {
    "papermill": {
     "duration": 0.035796,
     "end_time": "2020-12-23T00:19:15.184633",
     "exception": false,
     "start_time": "2020-12-23T00:19:15.148837",
     "status": "completed"
    },
    "tags": []
   },
   "outputs": [],
   "source": []
  },
  {
   "cell_type": "code",
   "execution_count": 41,
   "metadata": {
    "execution": {
     "iopub.execute_input": "2020-12-23T00:19:15.265400Z",
     "iopub.status.busy": "2020-12-23T00:19:15.264355Z",
     "iopub.status.idle": "2020-12-23T00:19:15.266145Z",
     "shell.execute_reply": "2020-12-23T00:19:15.266698Z"
    },
    "papermill": {
     "duration": 0.042428,
     "end_time": "2020-12-23T00:19:15.266866",
     "exception": false,
     "start_time": "2020-12-23T00:19:15.224438",
     "status": "completed"
    },
    "tags": []
   },
   "outputs": [],
   "source": [
    "# #hide\n",
    "# fig, ax = plt.subplots(figsize=(15, 8))\n",
    "\n",
    "# def draw_barchart(current_day):\n",
    "#     dff = g[g['day'].eq(current_day)].sort_values(by='value', ascending=True).tail(10)\n",
    "#     ax.clear()\n",
    "#     ax.barh(dff['name'], dff['value'], color=[colors[group_lk[x]] for x in dff['name']])\n",
    "#     dx = dff['value'].max() / 200\n",
    "    \n",
    "#     for i, (value, name) in enumerate(zip(dff['value'], dff['name'])):\n",
    "#         ax.text(value-dx, i,     name,           size=14, weight=600, ha='right', va='bottom')\n",
    "#         ax.text(value-dx, i-.25, group_lk[name], size=10, color='#444444', ha='right', va='baseline')\n",
    "#         ax.text(value+dx, i,     f'{value:,.0f}',  size=14, ha='left',  va='center')\n",
    "#     ax.text(1, 0.4, current_day, transform=ax.transAxes, color='#777777', size=46, ha='right', weight=800)\n",
    "#     ax.text(0, 1.06, 'Population (thousands)', transform=ax.transAxes, size=12, color='#777777')\n",
    "#     ax.xaxis.set_major_formatter(ticker.StrMethodFormatter('{x:,.0f}'))\n",
    "#     ax.xaxis.set_ticks_position('top')\n",
    "#     ax.tick_params(axis='x', colors='#777777', labelsize=12)\n",
    "#     ax.set_yticks([])\n",
    "#     ax.margins(0, 0.01)\n",
    "#     ax.grid(which='major', axis='x', linestyle='-')\n",
    "#     ax.set_axisbelow(True)\n",
    "    \n",
    "#     ax.text(0, 1.15, 'Coronavirus',\n",
    "#             transform=ax.transAxes, size=24, weight=600, ha='left', va='top')\n",
    "# #     ax.text(1, 0, 'by @pratapvardhan; credit @jburnmurdoch', transform=ax.transAxes, color='#777777', ha='right',\n",
    "# #             bbox=dict(facecolor='white', alpha=0.8, edgecolor='white'))\n",
    "#     plt.box(False)"
   ]
  },
  {
   "cell_type": "code",
   "execution_count": 42,
   "metadata": {
    "execution": {
     "iopub.execute_input": "2020-12-23T00:19:15.340719Z",
     "iopub.status.busy": "2020-12-23T00:19:15.340027Z",
     "iopub.status.idle": "2020-12-23T00:19:15.342587Z",
     "shell.execute_reply": "2020-12-23T00:19:15.342009Z"
    },
    "papermill": {
     "duration": 0.040643,
     "end_time": "2020-12-23T00:19:15.342731",
     "exception": false,
     "start_time": "2020-12-23T00:19:15.302088",
     "status": "completed"
    },
    "tags": []
   },
   "outputs": [],
   "source": [
    "# #hide_input\n",
    "# fig, ax = plt.subplots(figsize=(15, 8))\n",
    "# animator = animation.FuncAnimation(fig, draw_barchart, frames=range(g.day.values.min(), g.day.values.max()))\n",
    "# HTML(animator.to_jshtml())\n",
    "# # or use animator.to_html5_video() or animator.save() "
   ]
  },
  {
   "cell_type": "code",
   "execution_count": null,
   "metadata": {
    "papermill": {
     "duration": 0.036155,
     "end_time": "2020-12-23T00:19:15.427025",
     "exception": false,
     "start_time": "2020-12-23T00:19:15.390870",
     "status": "completed"
    },
    "tags": []
   },
   "outputs": [],
   "source": []
  },
  {
   "cell_type": "code",
   "execution_count": null,
   "metadata": {
    "papermill": {
     "duration": 0.041258,
     "end_time": "2020-12-23T00:19:15.504857",
     "exception": false,
     "start_time": "2020-12-23T00:19:15.463599",
     "status": "completed"
    },
    "tags": []
   },
   "outputs": [],
   "source": []
  },
  {
   "cell_type": "code",
   "execution_count": null,
   "metadata": {
    "papermill": {
     "duration": 0.044468,
     "end_time": "2020-12-23T00:19:15.586600",
     "exception": false,
     "start_time": "2020-12-23T00:19:15.542132",
     "status": "completed"
    },
    "tags": []
   },
   "outputs": [],
   "source": []
  }
 ],
 "metadata": {
  "kernelspec": {
   "display_name": "Python 3",
   "language": "python",
   "name": "python3"
  },
  "language_info": {
   "codemirror_mode": {
    "name": "ipython",
    "version": 3
   },
   "file_extension": ".py",
   "mimetype": "text/x-python",
   "name": "python",
   "nbconvert_exporter": "python",
   "pygments_lexer": "ipython3",
   "version": "3.6.12"
  },
  "papermill": {
   "duration": 8.309128,
   "end_time": "2020-12-23T00:19:16.030802",
   "environment_variables": {},
   "exception": null,
   "input_path": "2020-03-21-covid19exp.ipynb",
   "output_path": "2020-03-21-covid19exp.ipynb",
   "parameters": {},
   "start_time": "2020-12-23T00:19:07.721674",
   "version": "2.0.0"
  }
 },
 "nbformat": 4,
 "nbformat_minor": 4
}