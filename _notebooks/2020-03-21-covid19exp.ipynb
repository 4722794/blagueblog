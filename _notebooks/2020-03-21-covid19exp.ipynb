{
 "cells": [
  {
   "cell_type": "markdown",
   "id": "muslim-click",
   "metadata": {
    "papermill": {
     "duration": 0.041658,
     "end_time": "2021-02-16T12:07:04.240663",
     "exception": false,
     "start_time": "2021-02-16T12:07:04.199005",
     "status": "completed"
    },
    "tags": []
   },
   "source": [
    "# COVID-19 Case Race\n",
    "> A race chart to see rising cases around the world\n",
    "\n",
    "- author: Hargun Oberoi\n",
    "- image: images/covid-overview.png\n",
    "- hide: false\n",
    "- badges: false"
   ]
  },
  {
   "cell_type": "code",
   "execution_count": 1,
   "id": "proof-material",
   "metadata": {
    "execution": {
     "iopub.execute_input": "2021-02-16T12:07:04.328552Z",
     "iopub.status.busy": "2021-02-16T12:07:04.325345Z",
     "iopub.status.idle": "2021-02-16T12:07:04.708458Z",
     "shell.execute_reply": "2021-02-16T12:07:04.708996Z"
    },
    "papermill": {
     "duration": 0.428929,
     "end_time": "2021-02-16T12:07:04.709222",
     "exception": false,
     "start_time": "2021-02-16T12:07:04.280293",
     "status": "completed"
    },
    "tags": []
   },
   "outputs": [],
   "source": [
    "#hide\n",
    "import numpy as np\n",
    "import pandas as pd\n",
    "from jinja2 import Template\n",
    "from IPython.display import HTML"
   ]
  },
  {
   "cell_type": "code",
   "execution_count": 2,
   "id": "developed-terminology",
   "metadata": {
    "execution": {
     "iopub.execute_input": "2021-02-16T12:07:04.794825Z",
     "iopub.status.busy": "2021-02-16T12:07:04.794138Z",
     "iopub.status.idle": "2021-02-16T12:07:04.796646Z",
     "shell.execute_reply": "2021-02-16T12:07:04.795986Z"
    },
    "papermill": {
     "duration": 0.047662,
     "end_time": "2021-02-16T12:07:04.796790",
     "exception": false,
     "start_time": "2021-02-16T12:07:04.749128",
     "status": "completed"
    },
    "tags": []
   },
   "outputs": [],
   "source": [
    "#hide\n",
    "\n",
    "# FETCH\n",
    "base_url = 'https://raw.githubusercontent.com/pratapvardhan/notebooks/master/covid19/'\n",
    "paths = {\n",
    "    'mapping': base_url + 'mapping_countries.csv',\n",
    "    'overview': base_url + 'overview.tpl'\n",
    "}"
   ]
  },
  {
   "cell_type": "code",
   "execution_count": 3,
   "id": "dynamic-saver",
   "metadata": {
    "execution": {
     "iopub.execute_input": "2021-02-16T12:07:04.897409Z",
     "iopub.status.busy": "2021-02-16T12:07:04.896596Z",
     "iopub.status.idle": "2021-02-16T12:07:04.899521Z",
     "shell.execute_reply": "2021-02-16T12:07:04.900137Z"
    },
    "papermill": {
     "duration": 0.059339,
     "end_time": "2021-02-16T12:07:04.900282",
     "exception": false,
     "start_time": "2021-02-16T12:07:04.840943",
     "status": "completed"
    },
    "tags": []
   },
   "outputs": [
    {
     "data": {
      "text/plain": [
       "'https://raw.githubusercontent.com/pratapvardhan/notebooks/master/covid19/mapping_countries.csv'"
      ]
     },
     "execution_count": 3,
     "metadata": {},
     "output_type": "execute_result"
    }
   ],
   "source": [
    "#hide\n",
    "paths['mapping']"
   ]
  },
  {
   "cell_type": "code",
   "execution_count": 4,
   "id": "urban-software",
   "metadata": {
    "execution": {
     "iopub.execute_input": "2021-02-16T12:07:04.985595Z",
     "iopub.status.busy": "2021-02-16T12:07:04.984866Z",
     "iopub.status.idle": "2021-02-16T12:07:04.987436Z",
     "shell.execute_reply": "2021-02-16T12:07:04.986866Z"
    },
    "papermill": {
     "duration": 0.047791,
     "end_time": "2021-02-16T12:07:04.987561",
     "exception": false,
     "start_time": "2021-02-16T12:07:04.939770",
     "status": "completed"
    },
    "tags": []
   },
   "outputs": [],
   "source": [
    "#hide\n",
    "def get_mappings(url):\n",
    "    df = pd.read_csv(url)\n",
    "    return {\n",
    "        'df': df,\n",
    "        'replace.country': dict(df.dropna(subset=['Name']).set_index('Country')['Name']),\n",
    "        'map.continent': dict(df.set_index('Name')['Continent'])\n",
    "    }"
   ]
  },
  {
   "cell_type": "code",
   "execution_count": 5,
   "id": "intimate-machinery",
   "metadata": {
    "execution": {
     "iopub.execute_input": "2021-02-16T12:07:05.071032Z",
     "iopub.status.busy": "2021-02-16T12:07:05.070397Z",
     "iopub.status.idle": "2021-02-16T12:07:05.100434Z",
     "shell.execute_reply": "2021-02-16T12:07:05.099900Z"
    },
    "papermill": {
     "duration": 0.074325,
     "end_time": "2021-02-16T12:07:05.100571",
     "exception": false,
     "start_time": "2021-02-16T12:07:05.026246",
     "status": "completed"
    },
    "tags": []
   },
   "outputs": [],
   "source": [
    "#hide\n",
    "mapping = get_mappings(paths['mapping'])"
   ]
  },
  {
   "cell_type": "code",
   "execution_count": 6,
   "id": "certified-tactics",
   "metadata": {
    "execution": {
     "iopub.execute_input": "2021-02-16T12:07:05.184901Z",
     "iopub.status.busy": "2021-02-16T12:07:05.184186Z",
     "iopub.status.idle": "2021-02-16T12:07:05.186588Z",
     "shell.execute_reply": "2021-02-16T12:07:05.185944Z"
    },
    "papermill": {
     "duration": 0.047234,
     "end_time": "2021-02-16T12:07:05.186717",
     "exception": false,
     "start_time": "2021-02-16T12:07:05.139483",
     "status": "completed"
    },
    "tags": []
   },
   "outputs": [],
   "source": [
    "#hide\n",
    "def get_template(path):\n",
    "    from urllib.parse import urlparse\n",
    "    if bool(urlparse(path).netloc):\n",
    "        from urllib.request import urlopen\n",
    "        return urlopen(path).read().decode('utf8')\n",
    "    return open(path).read()"
   ]
  },
  {
   "cell_type": "code",
   "execution_count": 7,
   "id": "realistic-blast",
   "metadata": {
    "execution": {
     "iopub.execute_input": "2021-02-16T12:07:05.268127Z",
     "iopub.status.busy": "2021-02-16T12:07:05.267186Z",
     "iopub.status.idle": "2021-02-16T12:07:05.268813Z",
     "shell.execute_reply": "2021-02-16T12:07:05.269420Z"
    },
    "papermill": {
     "duration": 0.045396,
     "end_time": "2021-02-16T12:07:05.269622",
     "exception": false,
     "start_time": "2021-02-16T12:07:05.224226",
     "status": "completed"
    },
    "tags": []
   },
   "outputs": [],
   "source": [
    "#hide\n",
    "def get_frame(name):\n",
    "    url = (\n",
    "        'https://raw.githubusercontent.com/CSSEGISandData/COVID-19/master/csse_covid_19_data/'\n",
    "        f'csse_covid_19_time_series/time_series_covid19_{name}_global.csv')\n",
    "    df = pd.read_csv(url)\n",
    "    # rename countries\n",
    "    df['Country/Region'] = df['Country/Region'].replace(mapping['replace.country'])\n",
    "    return df"
   ]
  },
  {
   "cell_type": "code",
   "execution_count": 8,
   "id": "affiliated-characterization",
   "metadata": {
    "execution": {
     "iopub.execute_input": "2021-02-16T12:07:05.351412Z",
     "iopub.status.busy": "2021-02-16T12:07:05.350760Z",
     "iopub.status.idle": "2021-02-16T12:07:05.353108Z",
     "shell.execute_reply": "2021-02-16T12:07:05.352401Z"
    },
    "papermill": {
     "duration": 0.046061,
     "end_time": "2021-02-16T12:07:05.353229",
     "exception": false,
     "start_time": "2021-02-16T12:07:05.307168",
     "status": "completed"
    },
    "tags": []
   },
   "outputs": [],
   "source": [
    "#hide\n",
    "def get_dates(df):\n",
    "    dt_cols = df.columns[~df.columns.isin(['Province/State', 'Country/Region', 'Lat', 'Long'])]\n",
    "    LAST_DATE_I = -1\n",
    "    # sometimes last column may be empty, then go backwards\n",
    "    for i in range(-1, -len(dt_cols), -1):\n",
    "        if not df[dt_cols[i]].fillna(0).eq(0).all():\n",
    "            LAST_DATE_I = i\n",
    "            break\n",
    "    return LAST_DATE_I, dt_cols"
   ]
  },
  {
   "cell_type": "code",
   "execution_count": 9,
   "id": "recent-optimization",
   "metadata": {
    "execution": {
     "iopub.execute_input": "2021-02-16T12:07:05.438049Z",
     "iopub.status.busy": "2021-02-16T12:07:05.437338Z",
     "iopub.status.idle": "2021-02-16T12:07:05.719290Z",
     "shell.execute_reply": "2021-02-16T12:07:05.719835Z"
    },
    "papermill": {
     "duration": 0.328417,
     "end_time": "2021-02-16T12:07:05.720016",
     "exception": false,
     "start_time": "2021-02-16T12:07:05.391599",
     "status": "completed"
    },
    "tags": []
   },
   "outputs": [],
   "source": [
    "#hide\n",
    "COL_REGION = 'Country/Region'\n",
    "# Confirmed, Recovered, Deaths\n",
    "df = get_frame('confirmed')\n",
    "# dft_: timeseries, dfc_: today country agg\n",
    "dft_cases = df\n",
    "dft_deaths = get_frame('deaths')\n",
    "dft_recovered = get_frame('recovered')\n",
    "LAST_DATE_I, dt_cols = get_dates(df)"
   ]
  },
  {
   "cell_type": "code",
   "execution_count": 10,
   "id": "absolute-copper",
   "metadata": {
    "execution": {
     "iopub.execute_input": "2021-02-16T12:07:05.807919Z",
     "iopub.status.busy": "2021-02-16T12:07:05.807170Z",
     "iopub.status.idle": "2021-02-16T12:07:05.810118Z",
     "shell.execute_reply": "2021-02-16T12:07:05.809384Z"
    },
    "papermill": {
     "duration": 0.050473,
     "end_time": "2021-02-16T12:07:05.810565",
     "exception": false,
     "start_time": "2021-02-16T12:07:05.760092",
     "status": "completed"
    },
    "tags": []
   },
   "outputs": [],
   "source": [
    "#hide\n",
    "LAST_DATE_I, dt_cols = get_dates(df)\n",
    "dt_today =dt_cols[LAST_DATE_I]\n",
    "# dt_5day = dt_cols[LAST_DATE_I - 5]\n",
    "dt_yday = dt_cols[LAST_DATE_I - 1]"
   ]
  },
  {
   "cell_type": "code",
   "execution_count": 11,
   "id": "restricted-sheriff",
   "metadata": {
    "execution": {
     "iopub.execute_input": "2021-02-16T12:07:05.901254Z",
     "iopub.status.busy": "2021-02-16T12:07:05.900479Z",
     "iopub.status.idle": "2021-02-16T12:07:05.909111Z",
     "shell.execute_reply": "2021-02-16T12:07:05.909647Z"
    },
    "papermill": {
     "duration": 0.059657,
     "end_time": "2021-02-16T12:07:05.909818",
     "exception": false,
     "start_time": "2021-02-16T12:07:05.850161",
     "status": "completed"
    },
    "tags": []
   },
   "outputs": [],
   "source": [
    "#hide\n",
    "dfc_cases = dft_cases.groupby(COL_REGION)[dt_today].sum()\n",
    "dfc_deaths = dft_deaths.groupby(COL_REGION)[dt_today].sum()\n",
    "# dfp_cases = dft_cases.groupby(COL_REGION)[dt_5day].sum()\n",
    "# dfp_deaths = dft_deaths.groupby(COL_REGION)[dt_5day].sum()\n",
    "dfp_cases = dft_cases.groupby(COL_REGION)[dt_yday].sum()\n",
    "dfp_deaths = dft_deaths.groupby(COL_REGION)[dt_yday].sum()"
   ]
  },
  {
   "cell_type": "code",
   "execution_count": 12,
   "id": "deluxe-hepatitis",
   "metadata": {
    "execution": {
     "iopub.execute_input": "2021-02-16T12:07:05.994403Z",
     "iopub.status.busy": "2021-02-16T12:07:05.993711Z",
     "iopub.status.idle": "2021-02-16T12:07:06.004875Z",
     "shell.execute_reply": "2021-02-16T12:07:06.003760Z"
    },
    "papermill": {
     "duration": 0.054781,
     "end_time": "2021-02-16T12:07:06.005051",
     "exception": false,
     "start_time": "2021-02-16T12:07:05.950270",
     "status": "completed"
    },
    "tags": []
   },
   "outputs": [],
   "source": [
    "#hide\n",
    "df_table = (pd.DataFrame(dict(Cases = dfc_cases, Deaths = dfc_deaths, PCases = dfp_cases, PDeaths = dfp_deaths))\n",
    "            .sort_values(by = ['Cases','Deaths'], ascending = [False, False])\n",
    "            .reset_index())"
   ]
  },
  {
   "cell_type": "code",
   "execution_count": 13,
   "id": "educational-chancellor",
   "metadata": {
    "execution": {
     "iopub.execute_input": "2021-02-16T12:07:06.107375Z",
     "iopub.status.busy": "2021-02-16T12:07:06.106495Z",
     "iopub.status.idle": "2021-02-16T12:07:06.114894Z",
     "shell.execute_reply": "2021-02-16T12:07:06.115415Z"
    },
    "papermill": {
     "duration": 0.071181,
     "end_time": "2021-02-16T12:07:06.115557",
     "exception": false,
     "start_time": "2021-02-16T12:07:06.044376",
     "status": "completed"
    },
    "tags": []
   },
   "outputs": [
    {
     "data": {
      "text/html": [
       "<div>\n",
       "<style scoped>\n",
       "    .dataframe tbody tr th:only-of-type {\n",
       "        vertical-align: middle;\n",
       "    }\n",
       "\n",
       "    .dataframe tbody tr th {\n",
       "        vertical-align: top;\n",
       "    }\n",
       "\n",
       "    .dataframe thead th {\n",
       "        text-align: right;\n",
       "    }\n",
       "</style>\n",
       "<table border=\"1\" class=\"dataframe\">\n",
       "  <thead>\n",
       "    <tr style=\"text-align: right;\">\n",
       "      <th></th>\n",
       "      <th>Country/Region</th>\n",
       "      <th>Cases</th>\n",
       "      <th>Deaths</th>\n",
       "      <th>PCases</th>\n",
       "      <th>PDeaths</th>\n",
       "      <th>Cases (+)</th>\n",
       "      <th>Deaths (+)</th>\n",
       "      <th>Fatality Rate</th>\n",
       "      <th>Continent</th>\n",
       "    </tr>\n",
       "  </thead>\n",
       "  <tbody>\n",
       "    <tr>\n",
       "      <th>0</th>\n",
       "      <td>US</td>\n",
       "      <td>27694165</td>\n",
       "      <td>486325</td>\n",
       "      <td>27640282</td>\n",
       "      <td>485336</td>\n",
       "      <td>53883</td>\n",
       "      <td>989</td>\n",
       "      <td>1.76</td>\n",
       "      <td>North America</td>\n",
       "    </tr>\n",
       "    <tr>\n",
       "      <th>1</th>\n",
       "      <td>India</td>\n",
       "      <td>10925710</td>\n",
       "      <td>155813</td>\n",
       "      <td>10916589</td>\n",
       "      <td>155732</td>\n",
       "      <td>9121</td>\n",
       "      <td>81</td>\n",
       "      <td>1.43</td>\n",
       "      <td>Asia</td>\n",
       "    </tr>\n",
       "    <tr>\n",
       "      <th>2</th>\n",
       "      <td>Brazil</td>\n",
       "      <td>9866710</td>\n",
       "      <td>239773</td>\n",
       "      <td>9834513</td>\n",
       "      <td>239245</td>\n",
       "      <td>32197</td>\n",
       "      <td>528</td>\n",
       "      <td>2.43</td>\n",
       "      <td>South America</td>\n",
       "    </tr>\n",
       "    <tr>\n",
       "      <th>3</th>\n",
       "      <td>United Kingdom</td>\n",
       "      <td>4059696</td>\n",
       "      <td>117622</td>\n",
       "      <td>4049920</td>\n",
       "      <td>117387</td>\n",
       "      <td>9776</td>\n",
       "      <td>235</td>\n",
       "      <td>2.90</td>\n",
       "      <td>Europe</td>\n",
       "    </tr>\n",
       "    <tr>\n",
       "      <th>4</th>\n",
       "      <td>Russia</td>\n",
       "      <td>4040505</td>\n",
       "      <td>79210</td>\n",
       "      <td>4026506</td>\n",
       "      <td>78825</td>\n",
       "      <td>13999</td>\n",
       "      <td>385</td>\n",
       "      <td>1.96</td>\n",
       "      <td>Europe</td>\n",
       "    </tr>\n",
       "  </tbody>\n",
       "</table>\n",
       "</div>"
      ],
      "text/plain": [
       "   Country/Region     Cases  Deaths    PCases  PDeaths  Cases (+)  Deaths (+)  \\\n",
       "0              US  27694165  486325  27640282   485336      53883         989   \n",
       "1           India  10925710  155813  10916589   155732       9121          81   \n",
       "2          Brazil   9866710  239773   9834513   239245      32197         528   \n",
       "3  United Kingdom   4059696  117622   4049920   117387       9776         235   \n",
       "4          Russia   4040505   79210   4026506    78825      13999         385   \n",
       "\n",
       "   Fatality Rate      Continent  \n",
       "0           1.76  North America  \n",
       "1           1.43           Asia  \n",
       "2           2.43  South America  \n",
       "3           2.90         Europe  \n",
       "4           1.96         Europe  "
      ]
     },
     "execution_count": 13,
     "metadata": {},
     "output_type": "execute_result"
    }
   ],
   "source": [
    "#hide\n",
    "for c in 'Cases, Deaths'.split(', '):\n",
    "    df_table[f'{c} (+)'] = (df_table[c] - df_table[f'P{c}']).clip(0)\n",
    "    #Clip ça veut dire, les chiffres negatif sont interdit\n",
    "df_table['Fatality Rate'] = (100* df_table['Deaths']/ df_table['Cases']).round(2)\n",
    "df_table['Continent'] = df_table['Country/Region'].map(mapping['map.continent'])\n",
    "df_table.head(5)"
   ]
  },
  {
   "cell_type": "code",
   "execution_count": 14,
   "id": "aboriginal-bulgaria",
   "metadata": {
    "execution": {
     "iopub.execute_input": "2021-02-16T12:07:06.199353Z",
     "iopub.status.busy": "2021-02-16T12:07:06.198696Z",
     "iopub.status.idle": "2021-02-16T12:07:06.202590Z",
     "shell.execute_reply": "2021-02-16T12:07:06.202006Z"
    },
    "papermill": {
     "duration": 0.048107,
     "end_time": "2021-02-16T12:07:06.202724",
     "exception": false,
     "start_time": "2021-02-16T12:07:06.154617",
     "status": "completed"
    },
    "tags": []
   },
   "outputs": [],
   "source": [
    "#hide\n",
    "#delete problematic countries from table\n",
    "df_table = df_table[~df_table['Country/Region'].isin(['Cape Verde', 'Cruise Ship', 'Kosovo'])]"
   ]
  },
  {
   "cell_type": "code",
   "execution_count": 15,
   "id": "fantastic-effect",
   "metadata": {
    "execution": {
     "iopub.execute_input": "2021-02-16T12:07:06.292376Z",
     "iopub.status.busy": "2021-02-16T12:07:06.291720Z",
     "iopub.status.idle": "2021-02-16T12:07:06.313428Z",
     "shell.execute_reply": "2021-02-16T12:07:06.313964Z"
    },
    "papermill": {
     "duration": 0.071554,
     "end_time": "2021-02-16T12:07:06.314152",
     "exception": false,
     "start_time": "2021-02-16T12:07:06.242598",
     "status": "completed"
    },
    "tags": []
   },
   "outputs": [
    {
     "data": {
      "text/html": [
       "<div>\n",
       "<style scoped>\n",
       "    .dataframe tbody tr th:only-of-type {\n",
       "        vertical-align: middle;\n",
       "    }\n",
       "\n",
       "    .dataframe tbody tr th {\n",
       "        vertical-align: top;\n",
       "    }\n",
       "\n",
       "    .dataframe thead th {\n",
       "        text-align: right;\n",
       "    }\n",
       "</style>\n",
       "<table border=\"1\" class=\"dataframe\">\n",
       "  <thead>\n",
       "    <tr style=\"text-align: right;\">\n",
       "      <th></th>\n",
       "      <th>Country/Region</th>\n",
       "      <th>Cases</th>\n",
       "      <th>Deaths</th>\n",
       "      <th>PCases</th>\n",
       "      <th>PDeaths</th>\n",
       "      <th>Cases (+)</th>\n",
       "      <th>Deaths (+)</th>\n",
       "      <th>Fatality Rate</th>\n",
       "      <th>Continent</th>\n",
       "    </tr>\n",
       "  </thead>\n",
       "  <tbody>\n",
       "    <tr>\n",
       "      <th>0</th>\n",
       "      <td>US</td>\n",
       "      <td>27694165</td>\n",
       "      <td>486325</td>\n",
       "      <td>27640282</td>\n",
       "      <td>485336</td>\n",
       "      <td>53883</td>\n",
       "      <td>989</td>\n",
       "      <td>1.8</td>\n",
       "      <td>North America</td>\n",
       "    </tr>\n",
       "    <tr>\n",
       "      <th>1</th>\n",
       "      <td>India</td>\n",
       "      <td>10925710</td>\n",
       "      <td>155813</td>\n",
       "      <td>10916589</td>\n",
       "      <td>155732</td>\n",
       "      <td>9121</td>\n",
       "      <td>81</td>\n",
       "      <td>1.4</td>\n",
       "      <td>Asia</td>\n",
       "    </tr>\n",
       "    <tr>\n",
       "      <th>2</th>\n",
       "      <td>Brazil</td>\n",
       "      <td>9866710</td>\n",
       "      <td>239773</td>\n",
       "      <td>9834513</td>\n",
       "      <td>239245</td>\n",
       "      <td>32197</td>\n",
       "      <td>528</td>\n",
       "      <td>2.4</td>\n",
       "      <td>South America</td>\n",
       "    </tr>\n",
       "    <tr>\n",
       "      <th>3</th>\n",
       "      <td>United Kingdom</td>\n",
       "      <td>4059696</td>\n",
       "      <td>117622</td>\n",
       "      <td>4049920</td>\n",
       "      <td>117387</td>\n",
       "      <td>9776</td>\n",
       "      <td>235</td>\n",
       "      <td>2.9</td>\n",
       "      <td>Europe</td>\n",
       "    </tr>\n",
       "    <tr>\n",
       "      <th>4</th>\n",
       "      <td>Russia</td>\n",
       "      <td>4040505</td>\n",
       "      <td>79210</td>\n",
       "      <td>4026506</td>\n",
       "      <td>78825</td>\n",
       "      <td>13999</td>\n",
       "      <td>385</td>\n",
       "      <td>2.0</td>\n",
       "      <td>Europe</td>\n",
       "    </tr>\n",
       "  </tbody>\n",
       "</table>\n",
       "</div>"
      ],
      "text/plain": [
       "   Country/Region     Cases  Deaths    PCases  PDeaths  Cases (+)  Deaths (+)  \\\n",
       "0              US  27694165  486325  27640282   485336      53883         989   \n",
       "1           India  10925710  155813  10916589   155732       9121          81   \n",
       "2          Brazil   9866710  239773   9834513   239245      32197         528   \n",
       "3  United Kingdom   4059696  117622   4049920   117387       9776         235   \n",
       "4          Russia   4040505   79210   4026506    78825      13999         385   \n",
       "\n",
       "   Fatality Rate      Continent  \n",
       "0            1.8  North America  \n",
       "1            1.4           Asia  \n",
       "2            2.4  South America  \n",
       "3            2.9         Europe  \n",
       "4            2.0         Europe  "
      ]
     },
     "execution_count": 15,
     "metadata": {},
     "output_type": "execute_result"
    }
   ],
   "source": [
    "#hide\n",
    "df_table = (pd.DataFrame(dict(Cases=dfc_cases, Deaths=dfc_deaths, PCases=dfp_cases, PDeaths=dfp_deaths))\n",
    "             .sort_values(by=['Cases', 'Deaths'], ascending=[False, False])\n",
    "             .reset_index())\n",
    "df_table.rename(columns={'index': 'Country/Region'}, inplace=True)\n",
    "for c in 'Cases, Deaths'.split(', '):\n",
    "    df_table[f'{c} (+)'] = (df_table[c] - df_table[f'P{c}']).clip(0)  # DATA BUG\n",
    "df_table['Fatality Rate'] = (100 * df_table['Deaths'] / df_table['Cases']).round(1)\n",
    "df_table['Continent'] = df_table['Country/Region'].map(mapping['map.continent'])\n",
    "df_table.head(5)"
   ]
  },
  {
   "cell_type": "code",
   "execution_count": 16,
   "id": "fewer-occasion",
   "metadata": {
    "execution": {
     "iopub.execute_input": "2021-02-16T12:07:06.404315Z",
     "iopub.status.busy": "2021-02-16T12:07:06.403607Z",
     "iopub.status.idle": "2021-02-16T12:07:06.407363Z",
     "shell.execute_reply": "2021-02-16T12:07:06.406769Z"
    },
    "papermill": {
     "duration": 0.051929,
     "end_time": "2021-02-16T12:07:06.407515",
     "exception": false,
     "start_time": "2021-02-16T12:07:06.355586",
     "status": "completed"
    },
    "tags": []
   },
   "outputs": [],
   "source": [
    "#hide\n",
    "#delete problematic countries from table\n",
    "df_table = df_table[~df_table['Country/Region'].isin(['Cape Verde', 'Cruise Ship', 'Kosovo'])]"
   ]
  },
  {
   "cell_type": "code",
   "execution_count": 17,
   "id": "related-center",
   "metadata": {
    "execution": {
     "iopub.execute_input": "2021-02-16T12:07:06.519975Z",
     "iopub.status.busy": "2021-02-16T12:07:06.519184Z",
     "iopub.status.idle": "2021-02-16T12:07:06.521868Z",
     "shell.execute_reply": "2021-02-16T12:07:06.521237Z"
    },
    "papermill": {
     "duration": 0.074424,
     "end_time": "2021-02-16T12:07:06.522003",
     "exception": false,
     "start_time": "2021-02-16T12:07:06.447579",
     "status": "completed"
    },
    "tags": []
   },
   "outputs": [],
   "source": [
    "#hide\n",
    "metrics = [df_table.columns[index] for index in [1,2,5,6]]\n",
    "# s_china = df_table[df_table['Country/Region'].eq('China')][metrics].sum().add_prefix('China ')\n",
    "s_us = df_table[df_table['Country/Region'].eq('US')][metrics].sum().add_prefix('US ')\n",
    "s_eu = df_table[df_table['Continent'].eq('Europe')][metrics].sum().add_prefix('EU ')\n",
    "s_ind = df_table[df_table['Country/Region'].eq('India')][metrics].sum().add_prefix('India ')\n",
    "summary = {'updated': pd.to_datetime(dt_today), 'since': pd.to_datetime(dt_yday)}\n",
    "summary = {'updated': pd.to_datetime(dt_today), 'since': pd.to_datetime(dt_yday)}\n",
    "summary = {**summary, **df_table[metrics].sum(), **s_ind, **s_us, **s_eu}"
   ]
  },
  {
   "cell_type": "code",
   "execution_count": 18,
   "id": "engaging-syndrome",
   "metadata": {
    "execution": {
     "iopub.execute_input": "2021-02-16T12:07:06.610046Z",
     "iopub.status.busy": "2021-02-16T12:07:06.609396Z",
     "iopub.status.idle": "2021-02-16T12:07:06.621281Z",
     "shell.execute_reply": "2021-02-16T12:07:06.621888Z"
    },
    "papermill": {
     "duration": 0.057901,
     "end_time": "2021-02-16T12:07:06.622043",
     "exception": false,
     "start_time": "2021-02-16T12:07:06.564142",
     "status": "completed"
    },
    "tags": []
   },
   "outputs": [],
   "source": [
    "#hide\n",
    "dft_ct_new_cases = dft_cases.groupby(COL_REGION)[dt_cols].sum().diff(axis=1).fillna(0).astype(int)"
   ]
  },
  {
   "cell_type": "code",
   "execution_count": 19,
   "id": "neutral-assignment",
   "metadata": {
    "execution": {
     "iopub.execute_input": "2021-02-16T12:07:06.709825Z",
     "iopub.status.busy": "2021-02-16T12:07:06.709192Z",
     "iopub.status.idle": "2021-02-16T12:07:06.711959Z",
     "shell.execute_reply": "2021-02-16T12:07:06.711233Z"
    },
    "papermill": {
     "duration": 0.048646,
     "end_time": "2021-02-16T12:07:06.712084",
     "exception": false,
     "start_time": "2021-02-16T12:07:06.663438",
     "status": "completed"
    },
    "tags": []
   },
   "outputs": [],
   "source": [
    "#hide\n",
    "everydaycases = dft_ct_new_cases.cumsum(axis=1)"
   ]
  },
  {
   "cell_type": "code",
   "execution_count": 20,
   "id": "parliamentary-calgary",
   "metadata": {
    "execution": {
     "iopub.execute_input": "2021-02-16T12:07:06.796376Z",
     "iopub.status.busy": "2021-02-16T12:07:06.795758Z",
     "iopub.status.idle": "2021-02-16T12:07:07.534592Z",
     "shell.execute_reply": "2021-02-16T12:07:07.534006Z"
    },
    "papermill": {
     "duration": 0.783361,
     "end_time": "2021-02-16T12:07:07.534734",
     "exception": false,
     "start_time": "2021-02-16T12:07:06.751373",
     "status": "completed"
    },
    "tags": []
   },
   "outputs": [],
   "source": [
    "#hide\n",
    "import pandas as pd\n",
    "import matplotlib.pyplot as plt\n",
    "import matplotlib.ticker as ticker\n",
    "import matplotlib.animation as animation\n",
    "from IPython.display import HTML"
   ]
  },
  {
   "cell_type": "code",
   "execution_count": 21,
   "id": "lasting-extraction",
   "metadata": {
    "execution": {
     "iopub.execute_input": "2021-02-16T12:07:07.621387Z",
     "iopub.status.busy": "2021-02-16T12:07:07.620661Z",
     "iopub.status.idle": "2021-02-16T12:07:07.626318Z",
     "shell.execute_reply": "2021-02-16T12:07:07.626934Z"
    },
    "papermill": {
     "duration": 0.04986,
     "end_time": "2021-02-16T12:07:07.627108",
     "exception": false,
     "start_time": "2021-02-16T12:07:07.577248",
     "status": "completed"
    },
    "tags": []
   },
   "outputs": [],
   "source": [
    "#hide\n",
    "t = everydaycases.stack()"
   ]
  },
  {
   "cell_type": "code",
   "execution_count": 22,
   "id": "premier-sleeve",
   "metadata": {
    "execution": {
     "iopub.execute_input": "2021-02-16T12:07:07.715100Z",
     "iopub.status.busy": "2021-02-16T12:07:07.714445Z",
     "iopub.status.idle": "2021-02-16T12:07:07.723048Z",
     "shell.execute_reply": "2021-02-16T12:07:07.722522Z"
    },
    "papermill": {
     "duration": 0.053031,
     "end_time": "2021-02-16T12:07:07.723183",
     "exception": false,
     "start_time": "2021-02-16T12:07:07.670152",
     "status": "completed"
    },
    "tags": []
   },
   "outputs": [],
   "source": [
    "#hide\n",
    "g = t.reset_index(['Country/Region'])"
   ]
  },
  {
   "cell_type": "code",
   "execution_count": 23,
   "id": "distributed-pittsburgh",
   "metadata": {
    "execution": {
     "iopub.execute_input": "2021-02-16T12:07:07.809809Z",
     "iopub.status.busy": "2021-02-16T12:07:07.809054Z",
     "iopub.status.idle": "2021-02-16T12:07:07.811093Z",
     "shell.execute_reply": "2021-02-16T12:07:07.811700Z"
    },
    "papermill": {
     "duration": 0.047109,
     "end_time": "2021-02-16T12:07:07.811851",
     "exception": false,
     "start_time": "2021-02-16T12:07:07.764742",
     "status": "completed"
    },
    "tags": []
   },
   "outputs": [],
   "source": [
    "#hide\n",
    "g.index.name = 'date'"
   ]
  },
  {
   "cell_type": "code",
   "execution_count": 24,
   "id": "naked-donor",
   "metadata": {
    "execution": {
     "iopub.execute_input": "2021-02-16T12:07:07.900723Z",
     "iopub.status.busy": "2021-02-16T12:07:07.900066Z",
     "iopub.status.idle": "2021-02-16T12:07:07.902095Z",
     "shell.execute_reply": "2021-02-16T12:07:07.902858Z"
    },
    "papermill": {
     "duration": 0.048471,
     "end_time": "2021-02-16T12:07:07.903010",
     "exception": false,
     "start_time": "2021-02-16T12:07:07.854539",
     "status": "completed"
    },
    "tags": []
   },
   "outputs": [],
   "source": [
    "# #hide\n",
    "# g = g.reset_index(['date'])"
   ]
  },
  {
   "cell_type": "code",
   "execution_count": 25,
   "id": "incomplete-mustang",
   "metadata": {
    "execution": {
     "iopub.execute_input": "2021-02-16T12:07:07.990978Z",
     "iopub.status.busy": "2021-02-16T12:07:07.990280Z",
     "iopub.status.idle": "2021-02-16T12:07:07.992477Z",
     "shell.execute_reply": "2021-02-16T12:07:07.993077Z"
    },
    "papermill": {
     "duration": 0.048414,
     "end_time": "2021-02-16T12:07:07.993219",
     "exception": false,
     "start_time": "2021-02-16T12:07:07.944805",
     "status": "completed"
    },
    "tags": []
   },
   "outputs": [],
   "source": [
    "#hide\n",
    "# g.head()"
   ]
  },
  {
   "cell_type": "code",
   "execution_count": 26,
   "id": "specific-kruger",
   "metadata": {
    "execution": {
     "iopub.execute_input": "2021-02-16T12:07:08.078873Z",
     "iopub.status.busy": "2021-02-16T12:07:08.078208Z",
     "iopub.status.idle": "2021-02-16T12:07:08.080285Z",
     "shell.execute_reply": "2021-02-16T12:07:08.080853Z"
    },
    "papermill": {
     "duration": 0.045415,
     "end_time": "2021-02-16T12:07:08.081019",
     "exception": false,
     "start_time": "2021-02-16T12:07:08.035604",
     "status": "completed"
    },
    "tags": []
   },
   "outputs": [],
   "source": [
    "#hide\n",
    "# g.columns = ['date','country','cases']"
   ]
  },
  {
   "cell_type": "code",
   "execution_count": 27,
   "id": "tender-conversion",
   "metadata": {
    "execution": {
     "iopub.execute_input": "2021-02-16T12:07:08.164752Z",
     "iopub.status.busy": "2021-02-16T12:07:08.164122Z",
     "iopub.status.idle": "2021-02-16T12:07:08.166987Z",
     "shell.execute_reply": "2021-02-16T12:07:08.166428Z"
    },
    "papermill": {
     "duration": 0.044883,
     "end_time": "2021-02-16T12:07:08.167105",
     "exception": false,
     "start_time": "2021-02-16T12:07:08.122222",
     "status": "completed"
    },
    "tags": []
   },
   "outputs": [],
   "source": [
    "#hide\n",
    "# g['continent'] = g.country"
   ]
  },
  {
   "cell_type": "code",
   "execution_count": 28,
   "id": "substantial-wilderness",
   "metadata": {
    "execution": {
     "iopub.execute_input": "2021-02-16T12:07:08.249972Z",
     "iopub.status.busy": "2021-02-16T12:07:08.249341Z",
     "iopub.status.idle": "2021-02-16T12:07:08.251994Z",
     "shell.execute_reply": "2021-02-16T12:07:08.251467Z"
    },
    "papermill": {
     "duration": 0.045359,
     "end_time": "2021-02-16T12:07:08.252116",
     "exception": false,
     "start_time": "2021-02-16T12:07:08.206757",
     "status": "completed"
    },
    "tags": []
   },
   "outputs": [],
   "source": [
    "#hide\n",
    "# cols = list(g.columns.values)"
   ]
  },
  {
   "cell_type": "code",
   "execution_count": 29,
   "id": "solved-farming",
   "metadata": {
    "execution": {
     "iopub.execute_input": "2021-02-16T12:07:08.362755Z",
     "iopub.status.busy": "2021-02-16T12:07:08.361963Z",
     "iopub.status.idle": "2021-02-16T12:07:08.366196Z",
     "shell.execute_reply": "2021-02-16T12:07:08.365655Z"
    },
    "papermill": {
     "duration": 0.075375,
     "end_time": "2021-02-16T12:07:08.366317",
     "exception": false,
     "start_time": "2021-02-16T12:07:08.290942",
     "status": "completed"
    },
    "tags": []
   },
   "outputs": [],
   "source": [
    "#hide\n",
    "# cols.insert(0, cols.pop())"
   ]
  },
  {
   "cell_type": "code",
   "execution_count": 30,
   "id": "executed-adoption",
   "metadata": {
    "execution": {
     "iopub.execute_input": "2021-02-16T12:07:08.814612Z",
     "iopub.status.busy": "2021-02-16T12:07:08.813984Z",
     "iopub.status.idle": "2021-02-16T12:07:08.816413Z",
     "shell.execute_reply": "2021-02-16T12:07:08.815830Z"
    },
    "papermill": {
     "duration": 0.066576,
     "end_time": "2021-02-16T12:07:08.816533",
     "exception": false,
     "start_time": "2021-02-16T12:07:08.749957",
     "status": "completed"
    },
    "tags": []
   },
   "outputs": [],
   "source": [
    "#hide\n",
    "# g = g[cols]"
   ]
  },
  {
   "cell_type": "code",
   "execution_count": 31,
   "id": "subject-dublin",
   "metadata": {
    "execution": {
     "iopub.execute_input": "2021-02-16T12:07:08.899898Z",
     "iopub.status.busy": "2021-02-16T12:07:08.899076Z",
     "iopub.status.idle": "2021-02-16T12:07:08.901976Z",
     "shell.execute_reply": "2021-02-16T12:07:08.901305Z"
    },
    "papermill": {
     "duration": 0.047684,
     "end_time": "2021-02-16T12:07:08.902173",
     "exception": false,
     "start_time": "2021-02-16T12:07:08.854489",
     "status": "completed"
    },
    "tags": []
   },
   "outputs": [],
   "source": [
    "#hide\n",
    "# g['continent'] = g['continent'].map(mapping['map.continent'])"
   ]
  },
  {
   "cell_type": "code",
   "execution_count": 32,
   "id": "freelance-scout",
   "metadata": {
    "execution": {
     "iopub.execute_input": "2021-02-16T12:07:08.983023Z",
     "iopub.status.busy": "2021-02-16T12:07:08.982354Z",
     "iopub.status.idle": "2021-02-16T12:07:08.984231Z",
     "shell.execute_reply": "2021-02-16T12:07:08.984934Z"
    },
    "papermill": {
     "duration": 0.043701,
     "end_time": "2021-02-16T12:07:08.985057",
     "exception": false,
     "start_time": "2021-02-16T12:07:08.941356",
     "status": "completed"
    },
    "tags": []
   },
   "outputs": [],
   "source": [
    "#hide\n",
    "# g.head()"
   ]
  },
  {
   "cell_type": "code",
   "execution_count": 33,
   "id": "limited-engine",
   "metadata": {
    "execution": {
     "iopub.execute_input": "2021-02-16T12:07:09.069646Z",
     "iopub.status.busy": "2021-02-16T12:07:09.068990Z",
     "iopub.status.idle": "2021-02-16T12:07:09.071033Z",
     "shell.execute_reply": "2021-02-16T12:07:09.071648Z"
    },
    "papermill": {
     "duration": 0.046418,
     "end_time": "2021-02-16T12:07:09.071788",
     "exception": false,
     "start_time": "2021-02-16T12:07:09.025370",
     "status": "completed"
    },
    "tags": []
   },
   "outputs": [],
   "source": [
    "# hide\n",
    "# g['date'] = g['date'].astype('datetime64[ns]')"
   ]
  },
  {
   "cell_type": "code",
   "execution_count": 34,
   "id": "sophisticated-supervisor",
   "metadata": {
    "execution": {
     "iopub.execute_input": "2021-02-16T12:07:09.153150Z",
     "iopub.status.busy": "2021-02-16T12:07:09.152118Z",
     "iopub.status.idle": "2021-02-16T12:07:09.155343Z",
     "shell.execute_reply": "2021-02-16T12:07:09.154762Z"
    },
    "papermill": {
     "duration": 0.044623,
     "end_time": "2021-02-16T12:07:09.155536",
     "exception": false,
     "start_time": "2021-02-16T12:07:09.110913",
     "status": "completed"
    },
    "tags": []
   },
   "outputs": [],
   "source": [
    "#hide\n",
    "# g['date'] = g.date.dt.dayofyear"
   ]
  },
  {
   "cell_type": "code",
   "execution_count": 35,
   "id": "inside-dubai",
   "metadata": {
    "execution": {
     "iopub.execute_input": "2021-02-16T12:07:09.233350Z",
     "iopub.status.busy": "2021-02-16T12:07:09.232789Z",
     "iopub.status.idle": "2021-02-16T12:07:09.234736Z",
     "shell.execute_reply": "2021-02-16T12:07:09.235326Z"
    },
    "papermill": {
     "duration": 0.04305,
     "end_time": "2021-02-16T12:07:09.235525",
     "exception": false,
     "start_time": "2021-02-16T12:07:09.192475",
     "status": "completed"
    },
    "tags": []
   },
   "outputs": [],
   "source": [
    "#hide\n",
    "# g = g.rename(columns= {'continent':'group','country':'name','cases':'value'})"
   ]
  },
  {
   "cell_type": "code",
   "execution_count": 36,
   "id": "fleet-motorcycle",
   "metadata": {
    "execution": {
     "iopub.execute_input": "2021-02-16T12:07:09.315921Z",
     "iopub.status.busy": "2021-02-16T12:07:09.315139Z",
     "iopub.status.idle": "2021-02-16T12:07:09.317766Z",
     "shell.execute_reply": "2021-02-16T12:07:09.317226Z"
    },
    "papermill": {
     "duration": 0.044583,
     "end_time": "2021-02-16T12:07:09.317893",
     "exception": false,
     "start_time": "2021-02-16T12:07:09.273310",
     "status": "completed"
    },
    "tags": []
   },
   "outputs": [],
   "source": [
    "#hide\n",
    "# cols = ['name','group','day','value']"
   ]
  },
  {
   "cell_type": "code",
   "execution_count": 37,
   "id": "continued-sleeping",
   "metadata": {
    "execution": {
     "iopub.execute_input": "2021-02-16T12:07:09.399907Z",
     "iopub.status.busy": "2021-02-16T12:07:09.399209Z",
     "iopub.status.idle": "2021-02-16T12:07:09.401772Z",
     "shell.execute_reply": "2021-02-16T12:07:09.401231Z"
    },
    "papermill": {
     "duration": 0.044639,
     "end_time": "2021-02-16T12:07:09.401889",
     "exception": false,
     "start_time": "2021-02-16T12:07:09.357250",
     "status": "completed"
    },
    "tags": []
   },
   "outputs": [],
   "source": [
    "#hide\n",
    "# g.rename(columns= {'date':'day'},inplace = True)"
   ]
  },
  {
   "cell_type": "code",
   "execution_count": 38,
   "id": "major-fight",
   "metadata": {
    "execution": {
     "iopub.execute_input": "2021-02-16T12:07:09.484346Z",
     "iopub.status.busy": "2021-02-16T12:07:09.483745Z",
     "iopub.status.idle": "2021-02-16T12:07:09.485883Z",
     "shell.execute_reply": "2021-02-16T12:07:09.486412Z"
    },
    "papermill": {
     "duration": 0.045761,
     "end_time": "2021-02-16T12:07:09.486544",
     "exception": false,
     "start_time": "2021-02-16T12:07:09.440783",
     "status": "completed"
    },
    "tags": []
   },
   "outputs": [],
   "source": [
    "#hide\n",
    "# g = g[cols]"
   ]
  },
  {
   "cell_type": "code",
   "execution_count": 39,
   "id": "structured-mobile",
   "metadata": {
    "execution": {
     "iopub.execute_input": "2021-02-16T12:07:09.571462Z",
     "iopub.status.busy": "2021-02-16T12:07:09.570847Z",
     "iopub.status.idle": "2021-02-16T12:07:09.573303Z",
     "shell.execute_reply": "2021-02-16T12:07:09.572789Z"
    },
    "papermill": {
     "duration": 0.049734,
     "end_time": "2021-02-16T12:07:09.573421",
     "exception": false,
     "start_time": "2021-02-16T12:07:09.523687",
     "status": "completed"
    },
    "tags": []
   },
   "outputs": [],
   "source": [
    "# #hide\n",
    "# g = g[g.group.notna()]"
   ]
  },
  {
   "cell_type": "code",
   "execution_count": 40,
   "id": "determined-closing",
   "metadata": {
    "execution": {
     "iopub.execute_input": "2021-02-16T12:07:09.661734Z",
     "iopub.status.busy": "2021-02-16T12:07:09.661000Z",
     "iopub.status.idle": "2021-02-16T12:07:09.663504Z",
     "shell.execute_reply": "2021-02-16T12:07:09.662899Z"
    },
    "papermill": {
     "duration": 0.045777,
     "end_time": "2021-02-16T12:07:09.663644",
     "exception": false,
     "start_time": "2021-02-16T12:07:09.617867",
     "status": "completed"
    },
    "tags": []
   },
   "outputs": [],
   "source": [
    "# #hide\n",
    "# colors = dict(zip(\n",
    "#     [\"Oceania\", \"Europe\", \"Asia\", \"South America\", \"Middle East\", \"North America\", \"Africa\"],\n",
    "#     [\"#adb0ff\", \"#ffb3ff\", \"#90d595\", \"#e48381\", \"#aafbff\", \"#f7bb5f\", \"#eafb50\"]\n",
    "# ))\n",
    "# group_lk = g.set_index('name')['group'].to_dict()"
   ]
  },
  {
   "cell_type": "code",
   "execution_count": null,
   "id": "gross-drinking",
   "metadata": {
    "papermill": {
     "duration": 0.037061,
     "end_time": "2021-02-16T12:07:09.737727",
     "exception": false,
     "start_time": "2021-02-16T12:07:09.700666",
     "status": "completed"
    },
    "tags": []
   },
   "outputs": [],
   "source": []
  },
  {
   "cell_type": "code",
   "execution_count": 41,
   "id": "subject-macintosh",
   "metadata": {
    "execution": {
     "iopub.execute_input": "2021-02-16T12:07:09.817321Z",
     "iopub.status.busy": "2021-02-16T12:07:09.816611Z",
     "iopub.status.idle": "2021-02-16T12:07:09.818649Z",
     "shell.execute_reply": "2021-02-16T12:07:09.819186Z"
    },
    "papermill": {
     "duration": 0.045163,
     "end_time": "2021-02-16T12:07:09.819321",
     "exception": false,
     "start_time": "2021-02-16T12:07:09.774158",
     "status": "completed"
    },
    "tags": []
   },
   "outputs": [],
   "source": [
    "# #hide\n",
    "# fig, ax = plt.subplots(figsize=(15, 8))\n",
    "\n",
    "# def draw_barchart(current_day):\n",
    "#     dff = g[g['day'].eq(current_day)].sort_values(by='value', ascending=True).tail(10)\n",
    "#     ax.clear()\n",
    "#     ax.barh(dff['name'], dff['value'], color=[colors[group_lk[x]] for x in dff['name']])\n",
    "#     dx = dff['value'].max() / 200\n",
    "    \n",
    "#     for i, (value, name) in enumerate(zip(dff['value'], dff['name'])):\n",
    "#         ax.text(value-dx, i,     name,           size=14, weight=600, ha='right', va='bottom')\n",
    "#         ax.text(value-dx, i-.25, group_lk[name], size=10, color='#444444', ha='right', va='baseline')\n",
    "#         ax.text(value+dx, i,     f'{value:,.0f}',  size=14, ha='left',  va='center')\n",
    "#     ax.text(1, 0.4, current_day, transform=ax.transAxes, color='#777777', size=46, ha='right', weight=800)\n",
    "#     ax.text(0, 1.06, 'Population (thousands)', transform=ax.transAxes, size=12, color='#777777')\n",
    "#     ax.xaxis.set_major_formatter(ticker.StrMethodFormatter('{x:,.0f}'))\n",
    "#     ax.xaxis.set_ticks_position('top')\n",
    "#     ax.tick_params(axis='x', colors='#777777', labelsize=12)\n",
    "#     ax.set_yticks([])\n",
    "#     ax.margins(0, 0.01)\n",
    "#     ax.grid(which='major', axis='x', linestyle='-')\n",
    "#     ax.set_axisbelow(True)\n",
    "    \n",
    "#     ax.text(0, 1.15, 'Coronavirus',\n",
    "#             transform=ax.transAxes, size=24, weight=600, ha='left', va='top')\n",
    "# #     ax.text(1, 0, 'by @pratapvardhan; credit @jburnmurdoch', transform=ax.transAxes, color='#777777', ha='right',\n",
    "# #             bbox=dict(facecolor='white', alpha=0.8, edgecolor='white'))\n",
    "#     plt.box(False)"
   ]
  },
  {
   "cell_type": "code",
   "execution_count": 42,
   "id": "sexual-wages",
   "metadata": {
    "execution": {
     "iopub.execute_input": "2021-02-16T12:07:09.901744Z",
     "iopub.status.busy": "2021-02-16T12:07:09.900992Z",
     "iopub.status.idle": "2021-02-16T12:07:09.903271Z",
     "shell.execute_reply": "2021-02-16T12:07:09.903982Z"
    },
    "papermill": {
     "duration": 0.044093,
     "end_time": "2021-02-16T12:07:09.904117",
     "exception": false,
     "start_time": "2021-02-16T12:07:09.860024",
     "status": "completed"
    },
    "tags": []
   },
   "outputs": [],
   "source": [
    "# #hide_input\n",
    "# fig, ax = plt.subplots(figsize=(15, 8))\n",
    "# animator = animation.FuncAnimation(fig, draw_barchart, frames=range(g.day.values.min(), g.day.values.max()))\n",
    "# HTML(animator.to_jshtml())\n",
    "# # or use animator.to_html5_video() or animator.save() "
   ]
  },
  {
   "cell_type": "code",
   "execution_count": null,
   "id": "australian-container",
   "metadata": {
    "papermill": {
     "duration": 0.043055,
     "end_time": "2021-02-16T12:07:09.987234",
     "exception": false,
     "start_time": "2021-02-16T12:07:09.944179",
     "status": "completed"
    },
    "tags": []
   },
   "outputs": [],
   "source": []
  },
  {
   "cell_type": "code",
   "execution_count": null,
   "id": "mediterranean-pontiac",
   "metadata": {
    "papermill": {
     "duration": 0.042353,
     "end_time": "2021-02-16T12:07:10.068357",
     "exception": false,
     "start_time": "2021-02-16T12:07:10.026004",
     "status": "completed"
    },
    "tags": []
   },
   "outputs": [],
   "source": []
  },
  {
   "cell_type": "code",
   "execution_count": null,
   "id": "aging-legislature",
   "metadata": {
    "papermill": {
     "duration": 0.046175,
     "end_time": "2021-02-16T12:07:10.155868",
     "exception": false,
     "start_time": "2021-02-16T12:07:10.109693",
     "status": "completed"
    },
    "tags": []
   },
   "outputs": [],
   "source": []
  }
 ],
 "metadata": {
  "kernelspec": {
   "display_name": "Python 3",
   "language": "python",
   "name": "python3"
  },
  "language_info": {
   "codemirror_mode": {
    "name": "ipython",
    "version": 3
   },
   "file_extension": ".py",
   "mimetype": "text/x-python",
   "name": "python",
   "nbconvert_exporter": "python",
   "pygments_lexer": "ipython3",
   "version": "3.6.12"
  },
  "papermill": {
   "duration": 8.403262,
   "end_time": "2021-02-16T12:07:11.442412",
   "environment_variables": {},
   "exception": null,
   "input_path": "2020-03-21-covid19exp.ipynb",
   "output_path": "2020-03-21-covid19exp.ipynb",
   "parameters": {},
   "start_time": "2021-02-16T12:07:03.039150",
   "version": "2.0.0"
  }
 },
 "nbformat": 4,
 "nbformat_minor": 5
}