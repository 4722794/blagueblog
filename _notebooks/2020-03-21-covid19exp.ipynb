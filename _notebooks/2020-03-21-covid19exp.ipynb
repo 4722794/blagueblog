{
 "cells": [
  {
   "cell_type": "markdown",
   "id": "muslim-click",
   "metadata": {
    "papermill": {
     "duration": 0.041374,
     "end_time": "2021-08-05T00:22:37.346196",
     "exception": false,
     "start_time": "2021-08-05T00:22:37.304822",
     "status": "completed"
    },
    "tags": []
   },
   "source": [
    "# COVID-19 Case Race\n",
    "> A race chart to see rising cases around the world\n",
    "\n",
    "- author: Hargun Oberoi\n",
    "- image: images/covid-overview.png\n",
    "- hide: false\n",
    "- badges: false"
   ]
  },
  {
   "cell_type": "code",
   "execution_count": 1,
   "id": "proof-material",
   "metadata": {
    "execution": {
     "iopub.execute_input": "2021-08-05T00:22:37.423021Z",
     "iopub.status.busy": "2021-08-05T00:22:37.422454Z",
     "iopub.status.idle": "2021-08-05T00:22:37.772162Z",
     "shell.execute_reply": "2021-08-05T00:22:37.771285Z"
    },
    "papermill": {
     "duration": 0.393642,
     "end_time": "2021-08-05T00:22:37.772305",
     "exception": false,
     "start_time": "2021-08-05T00:22:37.378663",
     "status": "completed"
    },
    "tags": []
   },
   "outputs": [],
   "source": [
    "#hide\n",
    "import numpy as np\n",
    "import pandas as pd\n",
    "from jinja2 import Template\n",
    "from IPython.display import HTML"
   ]
  },
  {
   "cell_type": "code",
   "execution_count": 2,
   "id": "developed-terminology",
   "metadata": {
    "execution": {
     "iopub.execute_input": "2021-08-05T00:22:37.843357Z",
     "iopub.status.busy": "2021-08-05T00:22:37.842737Z",
     "iopub.status.idle": "2021-08-05T00:22:37.845155Z",
     "shell.execute_reply": "2021-08-05T00:22:37.844654Z"
    },
    "papermill": {
     "duration": 0.040659,
     "end_time": "2021-08-05T00:22:37.845290",
     "exception": false,
     "start_time": "2021-08-05T00:22:37.804631",
     "status": "completed"
    },
    "tags": []
   },
   "outputs": [],
   "source": [
    "#hide\n",
    "\n",
    "# FETCH\n",
    "base_url = 'https://raw.githubusercontent.com/pratapvardhan/notebooks/master/covid19/'\n",
    "paths = {\n",
    "    'mapping': base_url + 'mapping_countries.csv',\n",
    "    'overview': base_url + 'overview.tpl'\n",
    "}"
   ]
  },
  {
   "cell_type": "code",
   "execution_count": 3,
   "id": "dynamic-saver",
   "metadata": {
    "execution": {
     "iopub.execute_input": "2021-08-05T00:22:37.918785Z",
     "iopub.status.busy": "2021-08-05T00:22:37.915517Z",
     "iopub.status.idle": "2021-08-05T00:22:37.921337Z",
     "shell.execute_reply": "2021-08-05T00:22:37.921873Z"
    },
    "papermill": {
     "duration": 0.044122,
     "end_time": "2021-08-05T00:22:37.922010",
     "exception": false,
     "start_time": "2021-08-05T00:22:37.877888",
     "status": "completed"
    },
    "tags": []
   },
   "outputs": [
    {
     "data": {
      "text/plain": [
       "'https://raw.githubusercontent.com/pratapvardhan/notebooks/master/covid19/mapping_countries.csv'"
      ]
     },
     "execution_count": 3,
     "metadata": {},
     "output_type": "execute_result"
    }
   ],
   "source": [
    "#hide\n",
    "paths['mapping']"
   ]
  },
  {
   "cell_type": "code",
   "execution_count": 4,
   "id": "urban-software",
   "metadata": {
    "execution": {
     "iopub.execute_input": "2021-08-05T00:22:37.993257Z",
     "iopub.status.busy": "2021-08-05T00:22:37.992790Z",
     "iopub.status.idle": "2021-08-05T00:22:37.995807Z",
     "shell.execute_reply": "2021-08-05T00:22:37.995346Z"
    },
    "papermill": {
     "duration": 0.042562,
     "end_time": "2021-08-05T00:22:37.995925",
     "exception": false,
     "start_time": "2021-08-05T00:22:37.953363",
     "status": "completed"
    },
    "tags": []
   },
   "outputs": [],
   "source": [
    "#hide\n",
    "def get_mappings(url):\n",
    "    df = pd.read_csv(url)\n",
    "    return {\n",
    "        'df': df,\n",
    "        'replace.country': dict(df.dropna(subset=['Name']).set_index('Country')['Name']),\n",
    "        'map.continent': dict(df.set_index('Name')['Continent'])\n",
    "    }"
   ]
  },
  {
   "cell_type": "code",
   "execution_count": 5,
   "id": "intimate-machinery",
   "metadata": {
    "execution": {
     "iopub.execute_input": "2021-08-05T00:22:38.062816Z",
     "iopub.status.busy": "2021-08-05T00:22:38.062238Z",
     "iopub.status.idle": "2021-08-05T00:22:38.102596Z",
     "shell.execute_reply": "2021-08-05T00:22:38.101748Z"
    },
    "papermill": {
     "duration": 0.075333,
     "end_time": "2021-08-05T00:22:38.102803",
     "exception": false,
     "start_time": "2021-08-05T00:22:38.027470",
     "status": "completed"
    },
    "tags": []
   },
   "outputs": [],
   "source": [
    "#hide\n",
    "mapping = get_mappings(paths['mapping'])"
   ]
  },
  {
   "cell_type": "code",
   "execution_count": 6,
   "id": "certified-tactics",
   "metadata": {
    "execution": {
     "iopub.execute_input": "2021-08-05T00:22:38.177493Z",
     "iopub.status.busy": "2021-08-05T00:22:38.176912Z",
     "iopub.status.idle": "2021-08-05T00:22:38.179681Z",
     "shell.execute_reply": "2021-08-05T00:22:38.179195Z"
    },
    "papermill": {
     "duration": 0.041299,
     "end_time": "2021-08-05T00:22:38.179798",
     "exception": false,
     "start_time": "2021-08-05T00:22:38.138499",
     "status": "completed"
    },
    "tags": []
   },
   "outputs": [],
   "source": [
    "#hide\n",
    "def get_template(path):\n",
    "    from urllib.parse import urlparse\n",
    "    if bool(urlparse(path).netloc):\n",
    "        from urllib.request import urlopen\n",
    "        return urlopen(path).read().decode('utf8')\n",
    "    return open(path).read()"
   ]
  },
  {
   "cell_type": "code",
   "execution_count": 7,
   "id": "realistic-blast",
   "metadata": {
    "execution": {
     "iopub.execute_input": "2021-08-05T00:22:38.253067Z",
     "iopub.status.busy": "2021-08-05T00:22:38.252490Z",
     "iopub.status.idle": "2021-08-05T00:22:38.254704Z",
     "shell.execute_reply": "2021-08-05T00:22:38.254218Z"
    },
    "papermill": {
     "duration": 0.041297,
     "end_time": "2021-08-05T00:22:38.254819",
     "exception": false,
     "start_time": "2021-08-05T00:22:38.213522",
     "status": "completed"
    },
    "tags": []
   },
   "outputs": [],
   "source": [
    "#hide\n",
    "def get_frame(name):\n",
    "    url = (\n",
    "        'https://raw.githubusercontent.com/CSSEGISandData/COVID-19/master/csse_covid_19_data/'\n",
    "        f'csse_covid_19_time_series/time_series_covid19_{name}_global.csv')\n",
    "    df = pd.read_csv(url)\n",
    "    # rename countries\n",
    "    df['Country/Region'] = df['Country/Region'].replace(mapping['replace.country'])\n",
    "    return df"
   ]
  },
  {
   "cell_type": "code",
   "execution_count": 8,
   "id": "affiliated-characterization",
   "metadata": {
    "execution": {
     "iopub.execute_input": "2021-08-05T00:22:38.329738Z",
     "iopub.status.busy": "2021-08-05T00:22:38.329162Z",
     "iopub.status.idle": "2021-08-05T00:22:38.332019Z",
     "shell.execute_reply": "2021-08-05T00:22:38.332575Z"
    },
    "papermill": {
     "duration": 0.044547,
     "end_time": "2021-08-05T00:22:38.332706",
     "exception": false,
     "start_time": "2021-08-05T00:22:38.288159",
     "status": "completed"
    },
    "tags": []
   },
   "outputs": [],
   "source": [
    "#hide\n",
    "def get_dates(df):\n",
    "    dt_cols = df.columns[~df.columns.isin(['Province/State', 'Country/Region', 'Lat', 'Long'])]\n",
    "    LAST_DATE_I = -1\n",
    "    # sometimes last column may be empty, then go backwards\n",
    "    for i in range(-1, -len(dt_cols), -1):\n",
    "        if not df[dt_cols[i]].fillna(0).eq(0).all():\n",
    "            LAST_DATE_I = i\n",
    "            break\n",
    "    return LAST_DATE_I, dt_cols"
   ]
  },
  {
   "cell_type": "code",
   "execution_count": 9,
   "id": "recent-optimization",
   "metadata": {
    "execution": {
     "iopub.execute_input": "2021-08-05T00:22:38.405300Z",
     "iopub.status.busy": "2021-08-05T00:22:38.404449Z",
     "iopub.status.idle": "2021-08-05T00:22:38.772088Z",
     "shell.execute_reply": "2021-08-05T00:22:38.771580Z"
    },
    "papermill": {
     "duration": 0.405956,
     "end_time": "2021-08-05T00:22:38.772227",
     "exception": false,
     "start_time": "2021-08-05T00:22:38.366271",
     "status": "completed"
    },
    "tags": []
   },
   "outputs": [],
   "source": [
    "#hide\n",
    "COL_REGION = 'Country/Region'\n",
    "# Confirmed, Recovered, Deaths\n",
    "df = get_frame('confirmed')\n",
    "# dft_: timeseries, dfc_: today country agg\n",
    "dft_cases = df\n",
    "dft_deaths = get_frame('deaths')\n",
    "dft_recovered = get_frame('recovered')\n",
    "LAST_DATE_I, dt_cols = get_dates(df)"
   ]
  },
  {
   "cell_type": "code",
   "execution_count": 10,
   "id": "absolute-copper",
   "metadata": {
    "execution": {
     "iopub.execute_input": "2021-08-05T00:22:38.848262Z",
     "iopub.status.busy": "2021-08-05T00:22:38.847683Z",
     "iopub.status.idle": "2021-08-05T00:22:38.850504Z",
     "shell.execute_reply": "2021-08-05T00:22:38.851214Z"
    },
    "papermill": {
     "duration": 0.044206,
     "end_time": "2021-08-05T00:22:38.851357",
     "exception": false,
     "start_time": "2021-08-05T00:22:38.807151",
     "status": "completed"
    },
    "tags": []
   },
   "outputs": [],
   "source": [
    "#hide\n",
    "LAST_DATE_I, dt_cols = get_dates(df)\n",
    "dt_today =dt_cols[LAST_DATE_I]\n",
    "# dt_5day = dt_cols[LAST_DATE_I - 5]\n",
    "dt_yday = dt_cols[LAST_DATE_I - 1]"
   ]
  },
  {
   "cell_type": "code",
   "execution_count": 11,
   "id": "restricted-sheriff",
   "metadata": {
    "execution": {
     "iopub.execute_input": "2021-08-05T00:22:38.929127Z",
     "iopub.status.busy": "2021-08-05T00:22:38.926097Z",
     "iopub.status.idle": "2021-08-05T00:22:38.933759Z",
     "shell.execute_reply": "2021-08-05T00:22:38.934335Z"
    },
    "papermill": {
     "duration": 0.049646,
     "end_time": "2021-08-05T00:22:38.934474",
     "exception": false,
     "start_time": "2021-08-05T00:22:38.884828",
     "status": "completed"
    },
    "tags": []
   },
   "outputs": [],
   "source": [
    "#hide\n",
    "dfc_cases = dft_cases.groupby(COL_REGION)[dt_today].sum()\n",
    "dfc_deaths = dft_deaths.groupby(COL_REGION)[dt_today].sum()\n",
    "# dfp_cases = dft_cases.groupby(COL_REGION)[dt_5day].sum()\n",
    "# dfp_deaths = dft_deaths.groupby(COL_REGION)[dt_5day].sum()\n",
    "dfp_cases = dft_cases.groupby(COL_REGION)[dt_yday].sum()\n",
    "dfp_deaths = dft_deaths.groupby(COL_REGION)[dt_yday].sum()"
   ]
  },
  {
   "cell_type": "code",
   "execution_count": 12,
   "id": "deluxe-hepatitis",
   "metadata": {
    "execution": {
     "iopub.execute_input": "2021-08-05T00:22:39.010647Z",
     "iopub.status.busy": "2021-08-05T00:22:39.010036Z",
     "iopub.status.idle": "2021-08-05T00:22:39.012383Z",
     "shell.execute_reply": "2021-08-05T00:22:39.012848Z"
    },
    "papermill": {
     "duration": 0.044969,
     "end_time": "2021-08-05T00:22:39.012983",
     "exception": false,
     "start_time": "2021-08-05T00:22:38.968014",
     "status": "completed"
    },
    "tags": []
   },
   "outputs": [],
   "source": [
    "#hide\n",
    "df_table = (pd.DataFrame(dict(Cases = dfc_cases, Deaths = dfc_deaths, PCases = dfp_cases, PDeaths = dfp_deaths))\n",
    "            .sort_values(by = ['Cases','Deaths'], ascending = [False, False])\n",
    "            .reset_index())"
   ]
  },
  {
   "cell_type": "code",
   "execution_count": 13,
   "id": "educational-chancellor",
   "metadata": {
    "execution": {
     "iopub.execute_input": "2021-08-05T00:22:39.099355Z",
     "iopub.status.busy": "2021-08-05T00:22:39.086965Z",
     "iopub.status.idle": "2021-08-05T00:22:39.107414Z",
     "shell.execute_reply": "2021-08-05T00:22:39.106923Z"
    },
    "papermill": {
     "duration": 0.061837,
     "end_time": "2021-08-05T00:22:39.107545",
     "exception": false,
     "start_time": "2021-08-05T00:22:39.045708",
     "status": "completed"
    },
    "tags": []
   },
   "outputs": [
    {
     "data": {
      "text/html": [
       "<div>\n",
       "<style scoped>\n",
       "    .dataframe tbody tr th:only-of-type {\n",
       "        vertical-align: middle;\n",
       "    }\n",
       "\n",
       "    .dataframe tbody tr th {\n",
       "        vertical-align: top;\n",
       "    }\n",
       "\n",
       "    .dataframe thead th {\n",
       "        text-align: right;\n",
       "    }\n",
       "</style>\n",
       "<table border=\"1\" class=\"dataframe\">\n",
       "  <thead>\n",
       "    <tr style=\"text-align: right;\">\n",
       "      <th></th>\n",
       "      <th>Country/Region</th>\n",
       "      <th>Cases</th>\n",
       "      <th>Deaths</th>\n",
       "      <th>PCases</th>\n",
       "      <th>PDeaths</th>\n",
       "      <th>Cases (+)</th>\n",
       "      <th>Deaths (+)</th>\n",
       "      <th>Fatality Rate</th>\n",
       "      <th>Continent</th>\n",
       "    </tr>\n",
       "  </thead>\n",
       "  <tbody>\n",
       "    <tr>\n",
       "      <th>0</th>\n",
       "      <td>US</td>\n",
       "      <td>35237950</td>\n",
       "      <td>614295</td>\n",
       "      <td>35131393</td>\n",
       "      <td>613679</td>\n",
       "      <td>106557</td>\n",
       "      <td>616</td>\n",
       "      <td>1.74</td>\n",
       "      <td>North America</td>\n",
       "    </tr>\n",
       "    <tr>\n",
       "      <th>1</th>\n",
       "      <td>India</td>\n",
       "      <td>31769132</td>\n",
       "      <td>425757</td>\n",
       "      <td>31726507</td>\n",
       "      <td>425195</td>\n",
       "      <td>42625</td>\n",
       "      <td>562</td>\n",
       "      <td>1.34</td>\n",
       "      <td>Asia</td>\n",
       "    </tr>\n",
       "    <tr>\n",
       "      <th>2</th>\n",
       "      <td>Brazil</td>\n",
       "      <td>19985817</td>\n",
       "      <td>558432</td>\n",
       "      <td>19953501</td>\n",
       "      <td>557223</td>\n",
       "      <td>32316</td>\n",
       "      <td>1209</td>\n",
       "      <td>2.79</td>\n",
       "      <td>South America</td>\n",
       "    </tr>\n",
       "    <tr>\n",
       "      <th>3</th>\n",
       "      <td>Russia</td>\n",
       "      <td>6251953</td>\n",
       "      <td>158263</td>\n",
       "      <td>6230482</td>\n",
       "      <td>157496</td>\n",
       "      <td>21471</td>\n",
       "      <td>767</td>\n",
       "      <td>2.53</td>\n",
       "      <td>Europe</td>\n",
       "    </tr>\n",
       "    <tr>\n",
       "      <th>4</th>\n",
       "      <td>France</td>\n",
       "      <td>6242948</td>\n",
       "      <td>112185</td>\n",
       "      <td>6218526</td>\n",
       "      <td>112107</td>\n",
       "      <td>24422</td>\n",
       "      <td>78</td>\n",
       "      <td>1.80</td>\n",
       "      <td>Europe</td>\n",
       "    </tr>\n",
       "  </tbody>\n",
       "</table>\n",
       "</div>"
      ],
      "text/plain": [
       "  Country/Region     Cases  Deaths    PCases  PDeaths  Cases (+)  Deaths (+)  \\\n",
       "0             US  35237950  614295  35131393   613679     106557         616   \n",
       "1          India  31769132  425757  31726507   425195      42625         562   \n",
       "2         Brazil  19985817  558432  19953501   557223      32316        1209   \n",
       "3         Russia   6251953  158263   6230482   157496      21471         767   \n",
       "4         France   6242948  112185   6218526   112107      24422          78   \n",
       "\n",
       "   Fatality Rate      Continent  \n",
       "0           1.74  North America  \n",
       "1           1.34           Asia  \n",
       "2           2.79  South America  \n",
       "3           2.53         Europe  \n",
       "4           1.80         Europe  "
      ]
     },
     "execution_count": 13,
     "metadata": {},
     "output_type": "execute_result"
    }
   ],
   "source": [
    "#hide\n",
    "for c in 'Cases, Deaths'.split(', '):\n",
    "    df_table[f'{c} (+)'] = (df_table[c] - df_table[f'P{c}']).clip(0)\n",
    "    #Clip ça veut dire, les chiffres negatif sont interdit\n",
    "df_table['Fatality Rate'] = (100* df_table['Deaths']/ df_table['Cases']).round(2)\n",
    "df_table['Continent'] = df_table['Country/Region'].map(mapping['map.continent'])\n",
    "df_table.head(5)"
   ]
  },
  {
   "cell_type": "code",
   "execution_count": 14,
   "id": "aboriginal-bulgaria",
   "metadata": {
    "execution": {
     "iopub.execute_input": "2021-08-05T00:22:39.180394Z",
     "iopub.status.busy": "2021-08-05T00:22:39.179822Z",
     "iopub.status.idle": "2021-08-05T00:22:39.182206Z",
     "shell.execute_reply": "2021-08-05T00:22:39.181663Z"
    },
    "papermill": {
     "duration": 0.041436,
     "end_time": "2021-08-05T00:22:39.182328",
     "exception": false,
     "start_time": "2021-08-05T00:22:39.140892",
     "status": "completed"
    },
    "tags": []
   },
   "outputs": [],
   "source": [
    "#hide\n",
    "#delete problematic countries from table\n",
    "df_table = df_table[~df_table['Country/Region'].isin(['Cape Verde', 'Cruise Ship', 'Kosovo'])]"
   ]
  },
  {
   "cell_type": "code",
   "execution_count": 15,
   "id": "fantastic-effect",
   "metadata": {
    "execution": {
     "iopub.execute_input": "2021-08-05T00:22:39.259529Z",
     "iopub.status.busy": "2021-08-05T00:22:39.256644Z",
     "iopub.status.idle": "2021-08-05T00:22:39.277095Z",
     "shell.execute_reply": "2021-08-05T00:22:39.277502Z"
    },
    "papermill": {
     "duration": 0.061648,
     "end_time": "2021-08-05T00:22:39.277632",
     "exception": false,
     "start_time": "2021-08-05T00:22:39.215984",
     "status": "completed"
    },
    "tags": []
   },
   "outputs": [
    {
     "data": {
      "text/html": [
       "<div>\n",
       "<style scoped>\n",
       "    .dataframe tbody tr th:only-of-type {\n",
       "        vertical-align: middle;\n",
       "    }\n",
       "\n",
       "    .dataframe tbody tr th {\n",
       "        vertical-align: top;\n",
       "    }\n",
       "\n",
       "    .dataframe thead th {\n",
       "        text-align: right;\n",
       "    }\n",
       "</style>\n",
       "<table border=\"1\" class=\"dataframe\">\n",
       "  <thead>\n",
       "    <tr style=\"text-align: right;\">\n",
       "      <th></th>\n",
       "      <th>Country/Region</th>\n",
       "      <th>Cases</th>\n",
       "      <th>Deaths</th>\n",
       "      <th>PCases</th>\n",
       "      <th>PDeaths</th>\n",
       "      <th>Cases (+)</th>\n",
       "      <th>Deaths (+)</th>\n",
       "      <th>Fatality Rate</th>\n",
       "      <th>Continent</th>\n",
       "    </tr>\n",
       "  </thead>\n",
       "  <tbody>\n",
       "    <tr>\n",
       "      <th>0</th>\n",
       "      <td>US</td>\n",
       "      <td>35237950</td>\n",
       "      <td>614295</td>\n",
       "      <td>35131393</td>\n",
       "      <td>613679</td>\n",
       "      <td>106557</td>\n",
       "      <td>616</td>\n",
       "      <td>1.7</td>\n",
       "      <td>North America</td>\n",
       "    </tr>\n",
       "    <tr>\n",
       "      <th>1</th>\n",
       "      <td>India</td>\n",
       "      <td>31769132</td>\n",
       "      <td>425757</td>\n",
       "      <td>31726507</td>\n",
       "      <td>425195</td>\n",
       "      <td>42625</td>\n",
       "      <td>562</td>\n",
       "      <td>1.3</td>\n",
       "      <td>Asia</td>\n",
       "    </tr>\n",
       "    <tr>\n",
       "      <th>2</th>\n",
       "      <td>Brazil</td>\n",
       "      <td>19985817</td>\n",
       "      <td>558432</td>\n",
       "      <td>19953501</td>\n",
       "      <td>557223</td>\n",
       "      <td>32316</td>\n",
       "      <td>1209</td>\n",
       "      <td>2.8</td>\n",
       "      <td>South America</td>\n",
       "    </tr>\n",
       "    <tr>\n",
       "      <th>3</th>\n",
       "      <td>Russia</td>\n",
       "      <td>6251953</td>\n",
       "      <td>158263</td>\n",
       "      <td>6230482</td>\n",
       "      <td>157496</td>\n",
       "      <td>21471</td>\n",
       "      <td>767</td>\n",
       "      <td>2.5</td>\n",
       "      <td>Europe</td>\n",
       "    </tr>\n",
       "    <tr>\n",
       "      <th>4</th>\n",
       "      <td>France</td>\n",
       "      <td>6242948</td>\n",
       "      <td>112185</td>\n",
       "      <td>6218526</td>\n",
       "      <td>112107</td>\n",
       "      <td>24422</td>\n",
       "      <td>78</td>\n",
       "      <td>1.8</td>\n",
       "      <td>Europe</td>\n",
       "    </tr>\n",
       "  </tbody>\n",
       "</table>\n",
       "</div>"
      ],
      "text/plain": [
       "  Country/Region     Cases  Deaths    PCases  PDeaths  Cases (+)  Deaths (+)  \\\n",
       "0             US  35237950  614295  35131393   613679     106557         616   \n",
       "1          India  31769132  425757  31726507   425195      42625         562   \n",
       "2         Brazil  19985817  558432  19953501   557223      32316        1209   \n",
       "3         Russia   6251953  158263   6230482   157496      21471         767   \n",
       "4         France   6242948  112185   6218526   112107      24422          78   \n",
       "\n",
       "   Fatality Rate      Continent  \n",
       "0            1.7  North America  \n",
       "1            1.3           Asia  \n",
       "2            2.8  South America  \n",
       "3            2.5         Europe  \n",
       "4            1.8         Europe  "
      ]
     },
     "execution_count": 15,
     "metadata": {},
     "output_type": "execute_result"
    }
   ],
   "source": [
    "#hide\n",
    "df_table = (pd.DataFrame(dict(Cases=dfc_cases, Deaths=dfc_deaths, PCases=dfp_cases, PDeaths=dfp_deaths))\n",
    "             .sort_values(by=['Cases', 'Deaths'], ascending=[False, False])\n",
    "             .reset_index())\n",
    "df_table.rename(columns={'index': 'Country/Region'}, inplace=True)\n",
    "for c in 'Cases, Deaths'.split(', '):\n",
    "    df_table[f'{c} (+)'] = (df_table[c] - df_table[f'P{c}']).clip(0)  # DATA BUG\n",
    "df_table['Fatality Rate'] = (100 * df_table['Deaths'] / df_table['Cases']).round(1)\n",
    "df_table['Continent'] = df_table['Country/Region'].map(mapping['map.continent'])\n",
    "df_table.head(5)"
   ]
  },
  {
   "cell_type": "code",
   "execution_count": 16,
   "id": "fewer-occasion",
   "metadata": {
    "execution": {
     "iopub.execute_input": "2021-08-05T00:22:39.352789Z",
     "iopub.status.busy": "2021-08-05T00:22:39.352223Z",
     "iopub.status.idle": "2021-08-05T00:22:39.354443Z",
     "shell.execute_reply": "2021-08-05T00:22:39.354996Z"
    },
    "papermill": {
     "duration": 0.042348,
     "end_time": "2021-08-05T00:22:39.355131",
     "exception": false,
     "start_time": "2021-08-05T00:22:39.312783",
     "status": "completed"
    },
    "tags": []
   },
   "outputs": [],
   "source": [
    "#hide\n",
    "#delete problematic countries from table\n",
    "df_table = df_table[~df_table['Country/Region'].isin(['Cape Verde', 'Cruise Ship', 'Kosovo'])]"
   ]
  },
  {
   "cell_type": "code",
   "execution_count": 17,
   "id": "related-center",
   "metadata": {
    "execution": {
     "iopub.execute_input": "2021-08-05T00:22:39.437541Z",
     "iopub.status.busy": "2021-08-05T00:22:39.436957Z",
     "iopub.status.idle": "2021-08-05T00:22:39.439541Z",
     "shell.execute_reply": "2021-08-05T00:22:39.439145Z"
    },
    "papermill": {
     "duration": 0.051798,
     "end_time": "2021-08-05T00:22:39.439638",
     "exception": false,
     "start_time": "2021-08-05T00:22:39.387840",
     "status": "completed"
    },
    "tags": []
   },
   "outputs": [],
   "source": [
    "#hide\n",
    "metrics = [df_table.columns[index] for index in [1,2,5,6]]\n",
    "# s_china = df_table[df_table['Country/Region'].eq('China')][metrics].sum().add_prefix('China ')\n",
    "s_us = df_table[df_table['Country/Region'].eq('US')][metrics].sum().add_prefix('US ')\n",
    "s_eu = df_table[df_table['Continent'].eq('Europe')][metrics].sum().add_prefix('EU ')\n",
    "s_ind = df_table[df_table['Country/Region'].eq('India')][metrics].sum().add_prefix('India ')\n",
    "summary = {'updated': pd.to_datetime(dt_today), 'since': pd.to_datetime(dt_yday)}\n",
    "summary = {'updated': pd.to_datetime(dt_today), 'since': pd.to_datetime(dt_yday)}\n",
    "summary = {**summary, **df_table[metrics].sum(), **s_ind, **s_us, **s_eu}"
   ]
  },
  {
   "cell_type": "code",
   "execution_count": 18,
   "id": "engaging-syndrome",
   "metadata": {
    "execution": {
     "iopub.execute_input": "2021-08-05T00:22:39.508316Z",
     "iopub.status.busy": "2021-08-05T00:22:39.507749Z",
     "iopub.status.idle": "2021-08-05T00:22:39.523548Z",
     "shell.execute_reply": "2021-08-05T00:22:39.522693Z"
    },
    "papermill": {
     "duration": 0.053271,
     "end_time": "2021-08-05T00:22:39.523743",
     "exception": false,
     "start_time": "2021-08-05T00:22:39.470472",
     "status": "completed"
    },
    "tags": []
   },
   "outputs": [],
   "source": [
    "#hide\n",
    "dft_ct_new_cases = dft_cases.groupby(COL_REGION)[dt_cols].sum().diff(axis=1).fillna(0).astype(int)"
   ]
  },
  {
   "cell_type": "code",
   "execution_count": 19,
   "id": "neutral-assignment",
   "metadata": {
    "execution": {
     "iopub.execute_input": "2021-08-05T00:22:39.601945Z",
     "iopub.status.busy": "2021-08-05T00:22:39.601406Z",
     "iopub.status.idle": "2021-08-05T00:22:39.604057Z",
     "shell.execute_reply": "2021-08-05T00:22:39.603564Z"
    },
    "papermill": {
     "duration": 0.042993,
     "end_time": "2021-08-05T00:22:39.604163",
     "exception": false,
     "start_time": "2021-08-05T00:22:39.561170",
     "status": "completed"
    },
    "tags": []
   },
   "outputs": [],
   "source": [
    "#hide\n",
    "everydaycases = dft_ct_new_cases.cumsum(axis=1)"
   ]
  },
  {
   "cell_type": "code",
   "execution_count": 20,
   "id": "parliamentary-calgary",
   "metadata": {
    "execution": {
     "iopub.execute_input": "2021-08-05T00:22:39.674925Z",
     "iopub.status.busy": "2021-08-05T00:22:39.674345Z",
     "iopub.status.idle": "2021-08-05T00:22:40.280917Z",
     "shell.execute_reply": "2021-08-05T00:22:40.280063Z"
    },
    "papermill": {
     "duration": 0.643095,
     "end_time": "2021-08-05T00:22:40.281131",
     "exception": false,
     "start_time": "2021-08-05T00:22:39.638036",
     "status": "completed"
    },
    "tags": []
   },
   "outputs": [],
   "source": [
    "#hide\n",
    "import pandas as pd\n",
    "import matplotlib.pyplot as plt\n",
    "import matplotlib.ticker as ticker\n",
    "import matplotlib.animation as animation\n",
    "from IPython.display import HTML"
   ]
  },
  {
   "cell_type": "code",
   "execution_count": 21,
   "id": "lasting-extraction",
   "metadata": {
    "execution": {
     "iopub.execute_input": "2021-08-05T00:22:40.357816Z",
     "iopub.status.busy": "2021-08-05T00:22:40.357233Z",
     "iopub.status.idle": "2021-08-05T00:22:40.365050Z",
     "shell.execute_reply": "2021-08-05T00:22:40.364081Z"
    },
    "papermill": {
     "duration": 0.047783,
     "end_time": "2021-08-05T00:22:40.365179",
     "exception": false,
     "start_time": "2021-08-05T00:22:40.317396",
     "status": "completed"
    },
    "tags": []
   },
   "outputs": [],
   "source": [
    "#hide\n",
    "t = everydaycases.stack()"
   ]
  },
  {
   "cell_type": "code",
   "execution_count": 22,
   "id": "premier-sleeve",
   "metadata": {
    "execution": {
     "iopub.execute_input": "2021-08-05T00:22:40.440813Z",
     "iopub.status.busy": "2021-08-05T00:22:40.439765Z",
     "iopub.status.idle": "2021-08-05T00:22:40.449397Z",
     "shell.execute_reply": "2021-08-05T00:22:40.448900Z"
    },
    "papermill": {
     "duration": 0.049573,
     "end_time": "2021-08-05T00:22:40.449520",
     "exception": false,
     "start_time": "2021-08-05T00:22:40.399947",
     "status": "completed"
    },
    "tags": []
   },
   "outputs": [],
   "source": [
    "#hide\n",
    "g = t.reset_index(['Country/Region'])"
   ]
  },
  {
   "cell_type": "code",
   "execution_count": 23,
   "id": "distributed-pittsburgh",
   "metadata": {
    "execution": {
     "iopub.execute_input": "2021-08-05T00:22:40.525036Z",
     "iopub.status.busy": "2021-08-05T00:22:40.524456Z",
     "iopub.status.idle": "2021-08-05T00:22:40.527273Z",
     "shell.execute_reply": "2021-08-05T00:22:40.527821Z"
    },
    "papermill": {
     "duration": 0.043666,
     "end_time": "2021-08-05T00:22:40.527957",
     "exception": false,
     "start_time": "2021-08-05T00:22:40.484291",
     "status": "completed"
    },
    "tags": []
   },
   "outputs": [],
   "source": [
    "#hide\n",
    "g.index.name = 'date'"
   ]
  },
  {
   "cell_type": "code",
   "execution_count": 24,
   "id": "naked-donor",
   "metadata": {
    "execution": {
     "iopub.execute_input": "2021-08-05T00:22:40.601487Z",
     "iopub.status.busy": "2021-08-05T00:22:40.600914Z",
     "iopub.status.idle": "2021-08-05T00:22:40.603850Z",
     "shell.execute_reply": "2021-08-05T00:22:40.603364Z"
    },
    "papermill": {
     "duration": 0.040839,
     "end_time": "2021-08-05T00:22:40.603965",
     "exception": false,
     "start_time": "2021-08-05T00:22:40.563126",
     "status": "completed"
    },
    "tags": []
   },
   "outputs": [],
   "source": [
    "# #hide\n",
    "# g = g.reset_index(['date'])"
   ]
  },
  {
   "cell_type": "code",
   "execution_count": 25,
   "id": "incomplete-mustang",
   "metadata": {
    "execution": {
     "iopub.execute_input": "2021-08-05T00:22:40.677649Z",
     "iopub.status.busy": "2021-08-05T00:22:40.677073Z",
     "iopub.status.idle": "2021-08-05T00:22:40.679311Z",
     "shell.execute_reply": "2021-08-05T00:22:40.679862Z"
    },
    "papermill": {
     "duration": 0.041354,
     "end_time": "2021-08-05T00:22:40.679993",
     "exception": false,
     "start_time": "2021-08-05T00:22:40.638639",
     "status": "completed"
    },
    "tags": []
   },
   "outputs": [],
   "source": [
    "#hide\n",
    "# g.head()"
   ]
  },
  {
   "cell_type": "code",
   "execution_count": 26,
   "id": "specific-kruger",
   "metadata": {
    "execution": {
     "iopub.execute_input": "2021-08-05T00:22:40.753228Z",
     "iopub.status.busy": "2021-08-05T00:22:40.752658Z",
     "iopub.status.idle": "2021-08-05T00:22:40.754910Z",
     "shell.execute_reply": "2021-08-05T00:22:40.755401Z"
    },
    "papermill": {
     "duration": 0.040844,
     "end_time": "2021-08-05T00:22:40.755532",
     "exception": false,
     "start_time": "2021-08-05T00:22:40.714688",
     "status": "completed"
    },
    "tags": []
   },
   "outputs": [],
   "source": [
    "#hide\n",
    "# g.columns = ['date','country','cases']"
   ]
  },
  {
   "cell_type": "code",
   "execution_count": 27,
   "id": "tender-conversion",
   "metadata": {
    "execution": {
     "iopub.execute_input": "2021-08-05T00:22:40.828813Z",
     "iopub.status.busy": "2021-08-05T00:22:40.828240Z",
     "iopub.status.idle": "2021-08-05T00:22:40.830671Z",
     "shell.execute_reply": "2021-08-05T00:22:40.831209Z"
    },
    "papermill": {
     "duration": 0.041367,
     "end_time": "2021-08-05T00:22:40.831341",
     "exception": false,
     "start_time": "2021-08-05T00:22:40.789974",
     "status": "completed"
    },
    "tags": []
   },
   "outputs": [],
   "source": [
    "#hide\n",
    "# g['continent'] = g.country"
   ]
  },
  {
   "cell_type": "code",
   "execution_count": 28,
   "id": "substantial-wilderness",
   "metadata": {
    "execution": {
     "iopub.execute_input": "2021-08-05T00:22:40.904359Z",
     "iopub.status.busy": "2021-08-05T00:22:40.903774Z",
     "iopub.status.idle": "2021-08-05T00:22:40.905975Z",
     "shell.execute_reply": "2021-08-05T00:22:40.906550Z"
    },
    "papermill": {
     "duration": 0.04068,
     "end_time": "2021-08-05T00:22:40.906686",
     "exception": false,
     "start_time": "2021-08-05T00:22:40.866006",
     "status": "completed"
    },
    "tags": []
   },
   "outputs": [],
   "source": [
    "#hide\n",
    "# cols = list(g.columns.values)"
   ]
  },
  {
   "cell_type": "code",
   "execution_count": 29,
   "id": "solved-farming",
   "metadata": {
    "execution": {
     "iopub.execute_input": "2021-08-05T00:22:40.979331Z",
     "iopub.status.busy": "2021-08-05T00:22:40.978756Z",
     "iopub.status.idle": "2021-08-05T00:22:40.980689Z",
     "shell.execute_reply": "2021-08-05T00:22:40.981126Z"
    },
    "papermill": {
     "duration": 0.040362,
     "end_time": "2021-08-05T00:22:40.981262",
     "exception": false,
     "start_time": "2021-08-05T00:22:40.940900",
     "status": "completed"
    },
    "tags": []
   },
   "outputs": [],
   "source": [
    "#hide\n",
    "# cols.insert(0, cols.pop())"
   ]
  },
  {
   "cell_type": "code",
   "execution_count": 30,
   "id": "executed-adoption",
   "metadata": {
    "execution": {
     "iopub.execute_input": "2021-08-05T00:22:41.053526Z",
     "iopub.status.busy": "2021-08-05T00:22:41.052957Z",
     "iopub.status.idle": "2021-08-05T00:22:41.057083Z",
     "shell.execute_reply": "2021-08-05T00:22:41.057635Z"
    },
    "papermill": {
     "duration": 0.041914,
     "end_time": "2021-08-05T00:22:41.057770",
     "exception": false,
     "start_time": "2021-08-05T00:22:41.015856",
     "status": "completed"
    },
    "tags": []
   },
   "outputs": [],
   "source": [
    "#hide\n",
    "# g = g[cols]"
   ]
  },
  {
   "cell_type": "code",
   "execution_count": 31,
   "id": "subject-dublin",
   "metadata": {
    "execution": {
     "iopub.execute_input": "2021-08-05T00:22:41.131245Z",
     "iopub.status.busy": "2021-08-05T00:22:41.130669Z",
     "iopub.status.idle": "2021-08-05T00:22:41.132688Z",
     "shell.execute_reply": "2021-08-05T00:22:41.133179Z"
    },
    "papermill": {
     "duration": 0.041065,
     "end_time": "2021-08-05T00:22:41.133320",
     "exception": false,
     "start_time": "2021-08-05T00:22:41.092255",
     "status": "completed"
    },
    "tags": []
   },
   "outputs": [],
   "source": [
    "#hide\n",
    "# g['continent'] = g['continent'].map(mapping['map.continent'])"
   ]
  },
  {
   "cell_type": "code",
   "execution_count": 32,
   "id": "freelance-scout",
   "metadata": {
    "execution": {
     "iopub.execute_input": "2021-08-05T00:22:41.206452Z",
     "iopub.status.busy": "2021-08-05T00:22:41.205847Z",
     "iopub.status.idle": "2021-08-05T00:22:41.208111Z",
     "shell.execute_reply": "2021-08-05T00:22:41.208656Z"
    },
    "papermill": {
     "duration": 0.040858,
     "end_time": "2021-08-05T00:22:41.208790",
     "exception": false,
     "start_time": "2021-08-05T00:22:41.167932",
     "status": "completed"
    },
    "tags": []
   },
   "outputs": [],
   "source": [
    "#hide\n",
    "# g.head()"
   ]
  },
  {
   "cell_type": "code",
   "execution_count": 33,
   "id": "limited-engine",
   "metadata": {
    "execution": {
     "iopub.execute_input": "2021-08-05T00:22:41.281478Z",
     "iopub.status.busy": "2021-08-05T00:22:41.280908Z",
     "iopub.status.idle": "2021-08-05T00:22:41.283288Z",
     "shell.execute_reply": "2021-08-05T00:22:41.283753Z"
    },
    "papermill": {
     "duration": 0.04104,
     "end_time": "2021-08-05T00:22:41.283884",
     "exception": false,
     "start_time": "2021-08-05T00:22:41.242844",
     "status": "completed"
    },
    "tags": []
   },
   "outputs": [],
   "source": [
    "# hide\n",
    "# g['date'] = g['date'].astype('datetime64[ns]')"
   ]
  },
  {
   "cell_type": "code",
   "execution_count": 34,
   "id": "sophisticated-supervisor",
   "metadata": {
    "execution": {
     "iopub.execute_input": "2021-08-05T00:22:41.355463Z",
     "iopub.status.busy": "2021-08-05T00:22:41.354930Z",
     "iopub.status.idle": "2021-08-05T00:22:41.357367Z",
     "shell.execute_reply": "2021-08-05T00:22:41.356892Z"
    },
    "papermill": {
     "duration": 0.039729,
     "end_time": "2021-08-05T00:22:41.357481",
     "exception": false,
     "start_time": "2021-08-05T00:22:41.317752",
     "status": "completed"
    },
    "tags": []
   },
   "outputs": [],
   "source": [
    "#hide\n",
    "# g['date'] = g.date.dt.dayofyear"
   ]
  },
  {
   "cell_type": "code",
   "execution_count": 35,
   "id": "inside-dubai",
   "metadata": {
    "execution": {
     "iopub.execute_input": "2021-08-05T00:22:41.430097Z",
     "iopub.status.busy": "2021-08-05T00:22:41.429559Z",
     "iopub.status.idle": "2021-08-05T00:22:41.431970Z",
     "shell.execute_reply": "2021-08-05T00:22:41.432491Z"
    },
    "papermill": {
     "duration": 0.04083,
     "end_time": "2021-08-05T00:22:41.432611",
     "exception": false,
     "start_time": "2021-08-05T00:22:41.391781",
     "status": "completed"
    },
    "tags": []
   },
   "outputs": [],
   "source": [
    "#hide\n",
    "# g = g.rename(columns= {'continent':'group','country':'name','cases':'value'})"
   ]
  },
  {
   "cell_type": "code",
   "execution_count": 36,
   "id": "fleet-motorcycle",
   "metadata": {
    "execution": {
     "iopub.execute_input": "2021-08-05T00:22:41.504827Z",
     "iopub.status.busy": "2021-08-05T00:22:41.504247Z",
     "iopub.status.idle": "2021-08-05T00:22:41.506671Z",
     "shell.execute_reply": "2021-08-05T00:22:41.506177Z"
    },
    "papermill": {
     "duration": 0.040499,
     "end_time": "2021-08-05T00:22:41.506790",
     "exception": false,
     "start_time": "2021-08-05T00:22:41.466291",
     "status": "completed"
    },
    "tags": []
   },
   "outputs": [],
   "source": [
    "#hide\n",
    "# cols = ['name','group','day','value']"
   ]
  },
  {
   "cell_type": "code",
   "execution_count": 37,
   "id": "continued-sleeping",
   "metadata": {
    "execution": {
     "iopub.execute_input": "2021-08-05T00:22:41.579254Z",
     "iopub.status.busy": "2021-08-05T00:22:41.578677Z",
     "iopub.status.idle": "2021-08-05T00:22:41.580894Z",
     "shell.execute_reply": "2021-08-05T00:22:41.580415Z"
    },
    "papermill": {
     "duration": 0.03994,
     "end_time": "2021-08-05T00:22:41.581010",
     "exception": false,
     "start_time": "2021-08-05T00:22:41.541070",
     "status": "completed"
    },
    "tags": []
   },
   "outputs": [],
   "source": [
    "#hide\n",
    "# g.rename(columns= {'date':'day'},inplace = True)"
   ]
  },
  {
   "cell_type": "code",
   "execution_count": 38,
   "id": "major-fight",
   "metadata": {
    "execution": {
     "iopub.execute_input": "2021-08-05T00:22:41.651688Z",
     "iopub.status.busy": "2021-08-05T00:22:41.651144Z",
     "iopub.status.idle": "2021-08-05T00:22:41.653990Z",
     "shell.execute_reply": "2021-08-05T00:22:41.653534Z"
    },
    "papermill": {
     "duration": 0.039859,
     "end_time": "2021-08-05T00:22:41.654085",
     "exception": false,
     "start_time": "2021-08-05T00:22:41.614226",
     "status": "completed"
    },
    "tags": []
   },
   "outputs": [],
   "source": [
    "#hide\n",
    "# g = g[cols]"
   ]
  },
  {
   "cell_type": "code",
   "execution_count": 39,
   "id": "structured-mobile",
   "metadata": {
    "execution": {
     "iopub.execute_input": "2021-08-05T00:22:41.725374Z",
     "iopub.status.busy": "2021-08-05T00:22:41.724861Z",
     "iopub.status.idle": "2021-08-05T00:22:41.727109Z",
     "shell.execute_reply": "2021-08-05T00:22:41.727620Z"
    },
    "papermill": {
     "duration": 0.040212,
     "end_time": "2021-08-05T00:22:41.727741",
     "exception": false,
     "start_time": "2021-08-05T00:22:41.687529",
     "status": "completed"
    },
    "tags": []
   },
   "outputs": [],
   "source": [
    "# #hide\n",
    "# g = g[g.group.notna()]"
   ]
  },
  {
   "cell_type": "code",
   "execution_count": 40,
   "id": "determined-closing",
   "metadata": {
    "execution": {
     "iopub.execute_input": "2021-08-05T00:22:41.797496Z",
     "iopub.status.busy": "2021-08-05T00:22:41.796914Z",
     "iopub.status.idle": "2021-08-05T00:22:41.799900Z",
     "shell.execute_reply": "2021-08-05T00:22:41.799440Z"
    },
    "papermill": {
     "duration": 0.039898,
     "end_time": "2021-08-05T00:22:41.800017",
     "exception": false,
     "start_time": "2021-08-05T00:22:41.760119",
     "status": "completed"
    },
    "tags": []
   },
   "outputs": [],
   "source": [
    "# #hide\n",
    "# colors = dict(zip(\n",
    "#     [\"Oceania\", \"Europe\", \"Asia\", \"South America\", \"Middle East\", \"North America\", \"Africa\"],\n",
    "#     [\"#adb0ff\", \"#ffb3ff\", \"#90d595\", \"#e48381\", \"#aafbff\", \"#f7bb5f\", \"#eafb50\"]\n",
    "# ))\n",
    "# group_lk = g.set_index('name')['group'].to_dict()"
   ]
  },
  {
   "cell_type": "code",
   "execution_count": null,
   "id": "gross-drinking",
   "metadata": {
    "papermill": {
     "duration": 0.034379,
     "end_time": "2021-08-05T00:22:41.867452",
     "exception": false,
     "start_time": "2021-08-05T00:22:41.833073",
     "status": "completed"
    },
    "tags": []
   },
   "outputs": [],
   "source": []
  },
  {
   "cell_type": "code",
   "execution_count": 41,
   "id": "subject-macintosh",
   "metadata": {
    "execution": {
     "iopub.execute_input": "2021-08-05T00:22:41.938457Z",
     "iopub.status.busy": "2021-08-05T00:22:41.937858Z",
     "iopub.status.idle": "2021-08-05T00:22:41.940313Z",
     "shell.execute_reply": "2021-08-05T00:22:41.940862Z"
    },
    "papermill": {
     "duration": 0.039415,
     "end_time": "2021-08-05T00:22:41.940995",
     "exception": false,
     "start_time": "2021-08-05T00:22:41.901580",
     "status": "completed"
    },
    "tags": []
   },
   "outputs": [],
   "source": [
    "# #hide\n",
    "# fig, ax = plt.subplots(figsize=(15, 8))\n",
    "\n",
    "# def draw_barchart(current_day):\n",
    "#     dff = g[g['day'].eq(current_day)].sort_values(by='value', ascending=True).tail(10)\n",
    "#     ax.clear()\n",
    "#     ax.barh(dff['name'], dff['value'], color=[colors[group_lk[x]] for x in dff['name']])\n",
    "#     dx = dff['value'].max() / 200\n",
    "    \n",
    "#     for i, (value, name) in enumerate(zip(dff['value'], dff['name'])):\n",
    "#         ax.text(value-dx, i,     name,           size=14, weight=600, ha='right', va='bottom')\n",
    "#         ax.text(value-dx, i-.25, group_lk[name], size=10, color='#444444', ha='right', va='baseline')\n",
    "#         ax.text(value+dx, i,     f'{value:,.0f}',  size=14, ha='left',  va='center')\n",
    "#     ax.text(1, 0.4, current_day, transform=ax.transAxes, color='#777777', size=46, ha='right', weight=800)\n",
    "#     ax.text(0, 1.06, 'Population (thousands)', transform=ax.transAxes, size=12, color='#777777')\n",
    "#     ax.xaxis.set_major_formatter(ticker.StrMethodFormatter('{x:,.0f}'))\n",
    "#     ax.xaxis.set_ticks_position('top')\n",
    "#     ax.tick_params(axis='x', colors='#777777', labelsize=12)\n",
    "#     ax.set_yticks([])\n",
    "#     ax.margins(0, 0.01)\n",
    "#     ax.grid(which='major', axis='x', linestyle='-')\n",
    "#     ax.set_axisbelow(True)\n",
    "    \n",
    "#     ax.text(0, 1.15, 'Coronavirus',\n",
    "#             transform=ax.transAxes, size=24, weight=600, ha='left', va='top')\n",
    "# #     ax.text(1, 0, 'by @pratapvardhan; credit @jburnmurdoch', transform=ax.transAxes, color='#777777', ha='right',\n",
    "# #             bbox=dict(facecolor='white', alpha=0.8, edgecolor='white'))\n",
    "#     plt.box(False)"
   ]
  },
  {
   "cell_type": "code",
   "execution_count": 42,
   "id": "sexual-wages",
   "metadata": {
    "execution": {
     "iopub.execute_input": "2021-08-05T00:22:42.012041Z",
     "iopub.status.busy": "2021-08-05T00:22:42.011452Z",
     "iopub.status.idle": "2021-08-05T00:22:42.013699Z",
     "shell.execute_reply": "2021-08-05T00:22:42.014123Z"
    },
    "papermill": {
     "duration": 0.039723,
     "end_time": "2021-08-05T00:22:42.014255",
     "exception": false,
     "start_time": "2021-08-05T00:22:41.974532",
     "status": "completed"
    },
    "tags": []
   },
   "outputs": [],
   "source": [
    "# #hide_input\n",
    "# fig, ax = plt.subplots(figsize=(15, 8))\n",
    "# animator = animation.FuncAnimation(fig, draw_barchart, frames=range(g.day.values.min(), g.day.values.max()))\n",
    "# HTML(animator.to_jshtml())\n",
    "# # or use animator.to_html5_video() or animator.save() "
   ]
  },
  {
   "cell_type": "code",
   "execution_count": null,
   "id": "australian-container",
   "metadata": {
    "papermill": {
     "duration": 0.034573,
     "end_time": "2021-08-05T00:22:42.082785",
     "exception": false,
     "start_time": "2021-08-05T00:22:42.048212",
     "status": "completed"
    },
    "tags": []
   },
   "outputs": [],
   "source": []
  },
  {
   "cell_type": "code",
   "execution_count": null,
   "id": "mediterranean-pontiac",
   "metadata": {
    "papermill": {
     "duration": 0.034126,
     "end_time": "2021-08-05T00:22:42.151423",
     "exception": false,
     "start_time": "2021-08-05T00:22:42.117297",
     "status": "completed"
    },
    "tags": []
   },
   "outputs": [],
   "source": []
  },
  {
   "cell_type": "code",
   "execution_count": null,
   "id": "aging-legislature",
   "metadata": {
    "papermill": {
     "duration": 0.034244,
     "end_time": "2021-08-05T00:22:42.220206",
     "exception": false,
     "start_time": "2021-08-05T00:22:42.185962",
     "status": "completed"
    },
    "tags": []
   },
   "outputs": [],
   "source": []
  }
 ],
 "metadata": {
  "kernelspec": {
   "display_name": "Python 3",
   "language": "python",
   "name": "python3"
  },
  "language_info": {
   "codemirror_mode": {
    "name": "ipython",
    "version": 3
   },
   "file_extension": ".py",
   "mimetype": "text/x-python",
   "name": "python",
   "nbconvert_exporter": "python",
   "pygments_lexer": "ipython3",
   "version": "3.6.14"
  },
  "papermill": {
   "duration": 6.349711,
   "end_time": "2021-08-05T00:22:42.563637",
   "environment_variables": {},
   "exception": null,
   "input_path": "2020-03-21-covid19exp.ipynb",
   "output_path": "2020-03-21-covid19exp.ipynb",
   "parameters": {},
   "start_time": "2021-08-05T00:22:36.213926",
   "version": "2.0.0"
  }
 },
 "nbformat": 4,
 "nbformat_minor": 5
}