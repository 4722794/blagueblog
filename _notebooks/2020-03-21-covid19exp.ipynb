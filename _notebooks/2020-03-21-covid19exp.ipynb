{
 "cells": [
  {
   "cell_type": "markdown",
   "id": "muslim-click",
   "metadata": {
    "papermill": {
     "duration": 0.035072,
     "end_time": "2021-01-31T12:07:51.161771",
     "exception": false,
     "start_time": "2021-01-31T12:07:51.126699",
     "status": "completed"
    },
    "tags": []
   },
   "source": [
    "# COVID-19 Case Race\n",
    "> A race chart to see rising cases around the world\n",
    "\n",
    "- author: Hargun Oberoi\n",
    "- image: images/covid-overview.png\n",
    "- hide: false\n",
    "- badges: false"
   ]
  },
  {
   "cell_type": "code",
   "execution_count": 1,
   "id": "proof-material",
   "metadata": {
    "execution": {
     "iopub.execute_input": "2021-01-31T12:07:51.237309Z",
     "iopub.status.busy": "2021-01-31T12:07:51.236737Z",
     "iopub.status.idle": "2021-01-31T12:07:51.547602Z",
     "shell.execute_reply": "2021-01-31T12:07:51.547036Z"
    },
    "papermill": {
     "duration": 0.354684,
     "end_time": "2021-01-31T12:07:51.547748",
     "exception": false,
     "start_time": "2021-01-31T12:07:51.193064",
     "status": "completed"
    },
    "tags": []
   },
   "outputs": [],
   "source": [
    "#hide\n",
    "import numpy as np\n",
    "import pandas as pd\n",
    "from jinja2 import Template\n",
    "from IPython.display import HTML"
   ]
  },
  {
   "cell_type": "code",
   "execution_count": 2,
   "id": "developed-terminology",
   "metadata": {
    "execution": {
     "iopub.execute_input": "2021-01-31T12:07:51.614778Z",
     "iopub.status.busy": "2021-01-31T12:07:51.614142Z",
     "iopub.status.idle": "2021-01-31T12:07:51.616381Z",
     "shell.execute_reply": "2021-01-31T12:07:51.615901Z"
    },
    "papermill": {
     "duration": 0.037128,
     "end_time": "2021-01-31T12:07:51.616495",
     "exception": false,
     "start_time": "2021-01-31T12:07:51.579367",
     "status": "completed"
    },
    "tags": []
   },
   "outputs": [],
   "source": [
    "#hide\n",
    "\n",
    "# FETCH\n",
    "base_url = 'https://raw.githubusercontent.com/pratapvardhan/notebooks/master/covid19/'\n",
    "paths = {\n",
    "    'mapping': base_url + 'mapping_countries.csv',\n",
    "    'overview': base_url + 'overview.tpl'\n",
    "}"
   ]
  },
  {
   "cell_type": "code",
   "execution_count": 3,
   "id": "dynamic-saver",
   "metadata": {
    "execution": {
     "iopub.execute_input": "2021-01-31T12:07:51.692157Z",
     "iopub.status.busy": "2021-01-31T12:07:51.691633Z",
     "iopub.status.idle": "2021-01-31T12:07:51.694578Z",
     "shell.execute_reply": "2021-01-31T12:07:51.694015Z"
    },
    "papermill": {
     "duration": 0.043894,
     "end_time": "2021-01-31T12:07:51.694684",
     "exception": false,
     "start_time": "2021-01-31T12:07:51.650790",
     "status": "completed"
    },
    "tags": []
   },
   "outputs": [
    {
     "data": {
      "text/plain": [
       "'https://raw.githubusercontent.com/pratapvardhan/notebooks/master/covid19/mapping_countries.csv'"
      ]
     },
     "execution_count": 3,
     "metadata": {},
     "output_type": "execute_result"
    }
   ],
   "source": [
    "#hide\n",
    "paths['mapping']"
   ]
  },
  {
   "cell_type": "code",
   "execution_count": 4,
   "id": "urban-software",
   "metadata": {
    "execution": {
     "iopub.execute_input": "2021-01-31T12:07:51.760164Z",
     "iopub.status.busy": "2021-01-31T12:07:51.759602Z",
     "iopub.status.idle": "2021-01-31T12:07:51.761480Z",
     "shell.execute_reply": "2021-01-31T12:07:51.761938Z"
    },
    "papermill": {
     "duration": 0.037011,
     "end_time": "2021-01-31T12:07:51.762054",
     "exception": false,
     "start_time": "2021-01-31T12:07:51.725043",
     "status": "completed"
    },
    "tags": []
   },
   "outputs": [],
   "source": [
    "#hide\n",
    "def get_mappings(url):\n",
    "    df = pd.read_csv(url)\n",
    "    return {\n",
    "        'df': df,\n",
    "        'replace.country': dict(df.dropna(subset=['Name']).set_index('Country')['Name']),\n",
    "        'map.continent': dict(df.set_index('Name')['Continent'])\n",
    "    }"
   ]
  },
  {
   "cell_type": "code",
   "execution_count": 5,
   "id": "intimate-machinery",
   "metadata": {
    "execution": {
     "iopub.execute_input": "2021-01-31T12:07:51.831413Z",
     "iopub.status.busy": "2021-01-31T12:07:51.830858Z",
     "iopub.status.idle": "2021-01-31T12:07:51.866743Z",
     "shell.execute_reply": "2021-01-31T12:07:51.866287Z"
    },
    "papermill": {
     "duration": 0.070789,
     "end_time": "2021-01-31T12:07:51.866852",
     "exception": false,
     "start_time": "2021-01-31T12:07:51.796063",
     "status": "completed"
    },
    "tags": []
   },
   "outputs": [],
   "source": [
    "#hide\n",
    "mapping = get_mappings(paths['mapping'])"
   ]
  },
  {
   "cell_type": "code",
   "execution_count": 6,
   "id": "certified-tactics",
   "metadata": {
    "execution": {
     "iopub.execute_input": "2021-01-31T12:07:51.931614Z",
     "iopub.status.busy": "2021-01-31T12:07:51.931062Z",
     "iopub.status.idle": "2021-01-31T12:07:51.932922Z",
     "shell.execute_reply": "2021-01-31T12:07:51.933444Z"
    },
    "papermill": {
     "duration": 0.036385,
     "end_time": "2021-01-31T12:07:51.933559",
     "exception": false,
     "start_time": "2021-01-31T12:07:51.897174",
     "status": "completed"
    },
    "tags": []
   },
   "outputs": [],
   "source": [
    "#hide\n",
    "def get_template(path):\n",
    "    from urllib.parse import urlparse\n",
    "    if bool(urlparse(path).netloc):\n",
    "        from urllib.request import urlopen\n",
    "        return urlopen(path).read().decode('utf8')\n",
    "    return open(path).read()"
   ]
  },
  {
   "cell_type": "code",
   "execution_count": 7,
   "id": "realistic-blast",
   "metadata": {
    "execution": {
     "iopub.execute_input": "2021-01-31T12:07:52.002149Z",
     "iopub.status.busy": "2021-01-31T12:07:52.001598Z",
     "iopub.status.idle": "2021-01-31T12:07:52.004306Z",
     "shell.execute_reply": "2021-01-31T12:07:52.003830Z"
    },
    "papermill": {
     "duration": 0.040349,
     "end_time": "2021-01-31T12:07:52.004411",
     "exception": false,
     "start_time": "2021-01-31T12:07:51.964062",
     "status": "completed"
    },
    "tags": []
   },
   "outputs": [],
   "source": [
    "#hide\n",
    "def get_frame(name):\n",
    "    url = (\n",
    "        'https://raw.githubusercontent.com/CSSEGISandData/COVID-19/master/csse_covid_19_data/'\n",
    "        f'csse_covid_19_time_series/time_series_covid19_{name}_global.csv')\n",
    "    df = pd.read_csv(url)\n",
    "    # rename countries\n",
    "    df['Country/Region'] = df['Country/Region'].replace(mapping['replace.country'])\n",
    "    return df"
   ]
  },
  {
   "cell_type": "code",
   "execution_count": 8,
   "id": "affiliated-characterization",
   "metadata": {
    "execution": {
     "iopub.execute_input": "2021-01-31T12:07:52.078860Z",
     "iopub.status.busy": "2021-01-31T12:07:52.078161Z",
     "iopub.status.idle": "2021-01-31T12:07:52.080810Z",
     "shell.execute_reply": "2021-01-31T12:07:52.080335Z"
    },
    "papermill": {
     "duration": 0.04325,
     "end_time": "2021-01-31T12:07:52.080928",
     "exception": false,
     "start_time": "2021-01-31T12:07:52.037678",
     "status": "completed"
    },
    "tags": []
   },
   "outputs": [],
   "source": [
    "#hide\n",
    "def get_dates(df):\n",
    "    dt_cols = df.columns[~df.columns.isin(['Province/State', 'Country/Region', 'Lat', 'Long'])]\n",
    "    LAST_DATE_I = -1\n",
    "    # sometimes last column may be empty, then go backwards\n",
    "    for i in range(-1, -len(dt_cols), -1):\n",
    "        if not df[dt_cols[i]].fillna(0).eq(0).all():\n",
    "            LAST_DATE_I = i\n",
    "            break\n",
    "    return LAST_DATE_I, dt_cols"
   ]
  },
  {
   "cell_type": "code",
   "execution_count": 9,
   "id": "recent-optimization",
   "metadata": {
    "execution": {
     "iopub.execute_input": "2021-01-31T12:07:52.151922Z",
     "iopub.status.busy": "2021-01-31T12:07:52.151216Z",
     "iopub.status.idle": "2021-01-31T12:07:52.464133Z",
     "shell.execute_reply": "2021-01-31T12:07:52.463059Z"
    },
    "papermill": {
     "duration": 0.350346,
     "end_time": "2021-01-31T12:07:52.464292",
     "exception": false,
     "start_time": "2021-01-31T12:07:52.113946",
     "status": "completed"
    },
    "tags": []
   },
   "outputs": [],
   "source": [
    "#hide\n",
    "COL_REGION = 'Country/Region'\n",
    "# Confirmed, Recovered, Deaths\n",
    "df = get_frame('confirmed')\n",
    "# dft_: timeseries, dfc_: today country agg\n",
    "dft_cases = df\n",
    "dft_deaths = get_frame('deaths')\n",
    "dft_recovered = get_frame('recovered')\n",
    "LAST_DATE_I, dt_cols = get_dates(df)"
   ]
  },
  {
   "cell_type": "code",
   "execution_count": 10,
   "id": "absolute-copper",
   "metadata": {
    "execution": {
     "iopub.execute_input": "2021-01-31T12:07:52.548861Z",
     "iopub.status.busy": "2021-01-31T12:07:52.548035Z",
     "iopub.status.idle": "2021-01-31T12:07:52.550188Z",
     "shell.execute_reply": "2021-01-31T12:07:52.550696Z"
    },
    "papermill": {
     "duration": 0.049647,
     "end_time": "2021-01-31T12:07:52.550836",
     "exception": false,
     "start_time": "2021-01-31T12:07:52.501189",
     "status": "completed"
    },
    "tags": []
   },
   "outputs": [],
   "source": [
    "#hide\n",
    "LAST_DATE_I, dt_cols = get_dates(df)\n",
    "dt_today =dt_cols[LAST_DATE_I]\n",
    "# dt_5day = dt_cols[LAST_DATE_I - 5]\n",
    "dt_yday = dt_cols[LAST_DATE_I - 1]"
   ]
  },
  {
   "cell_type": "code",
   "execution_count": 11,
   "id": "restricted-sheriff",
   "metadata": {
    "execution": {
     "iopub.execute_input": "2021-01-31T12:07:52.632121Z",
     "iopub.status.busy": "2021-01-31T12:07:52.631445Z",
     "iopub.status.idle": "2021-01-31T12:07:52.640673Z",
     "shell.execute_reply": "2021-01-31T12:07:52.641181Z"
    },
    "papermill": {
     "duration": 0.052528,
     "end_time": "2021-01-31T12:07:52.641319",
     "exception": false,
     "start_time": "2021-01-31T12:07:52.588791",
     "status": "completed"
    },
    "tags": []
   },
   "outputs": [],
   "source": [
    "#hide\n",
    "dfc_cases = dft_cases.groupby(COL_REGION)[dt_today].sum()\n",
    "dfc_deaths = dft_deaths.groupby(COL_REGION)[dt_today].sum()\n",
    "# dfp_cases = dft_cases.groupby(COL_REGION)[dt_5day].sum()\n",
    "# dfp_deaths = dft_deaths.groupby(COL_REGION)[dt_5day].sum()\n",
    "dfp_cases = dft_cases.groupby(COL_REGION)[dt_yday].sum()\n",
    "dfp_deaths = dft_deaths.groupby(COL_REGION)[dt_yday].sum()"
   ]
  },
  {
   "cell_type": "code",
   "execution_count": 12,
   "id": "deluxe-hepatitis",
   "metadata": {
    "execution": {
     "iopub.execute_input": "2021-01-31T12:07:52.727152Z",
     "iopub.status.busy": "2021-01-31T12:07:52.726498Z",
     "iopub.status.idle": "2021-01-31T12:07:52.732100Z",
     "shell.execute_reply": "2021-01-31T12:07:52.732960Z"
    },
    "papermill": {
     "duration": 0.049787,
     "end_time": "2021-01-31T12:07:52.733123",
     "exception": false,
     "start_time": "2021-01-31T12:07:52.683336",
     "status": "completed"
    },
    "tags": []
   },
   "outputs": [],
   "source": [
    "#hide\n",
    "df_table = (pd.DataFrame(dict(Cases = dfc_cases, Deaths = dfc_deaths, PCases = dfp_cases, PDeaths = dfp_deaths))\n",
    "            .sort_values(by = ['Cases','Deaths'], ascending = [False, False])\n",
    "            .reset_index())"
   ]
  },
  {
   "cell_type": "code",
   "execution_count": 13,
   "id": "educational-chancellor",
   "metadata": {
    "execution": {
     "iopub.execute_input": "2021-01-31T12:07:52.814875Z",
     "iopub.status.busy": "2021-01-31T12:07:52.814136Z",
     "iopub.status.idle": "2021-01-31T12:07:52.834942Z",
     "shell.execute_reply": "2021-01-31T12:07:52.835728Z"
    },
    "papermill": {
     "duration": 0.06702,
     "end_time": "2021-01-31T12:07:52.835881",
     "exception": false,
     "start_time": "2021-01-31T12:07:52.768861",
     "status": "completed"
    },
    "tags": []
   },
   "outputs": [
    {
     "data": {
      "text/html": [
       "<div>\n",
       "<style scoped>\n",
       "    .dataframe tbody tr th:only-of-type {\n",
       "        vertical-align: middle;\n",
       "    }\n",
       "\n",
       "    .dataframe tbody tr th {\n",
       "        vertical-align: top;\n",
       "    }\n",
       "\n",
       "    .dataframe thead th {\n",
       "        text-align: right;\n",
       "    }\n",
       "</style>\n",
       "<table border=\"1\" class=\"dataframe\">\n",
       "  <thead>\n",
       "    <tr style=\"text-align: right;\">\n",
       "      <th></th>\n",
       "      <th>Country/Region</th>\n",
       "      <th>Cases</th>\n",
       "      <th>Deaths</th>\n",
       "      <th>PCases</th>\n",
       "      <th>PDeaths</th>\n",
       "      <th>Cases (+)</th>\n",
       "      <th>Deaths (+)</th>\n",
       "      <th>Fatality Rate</th>\n",
       "      <th>Continent</th>\n",
       "    </tr>\n",
       "  </thead>\n",
       "  <tbody>\n",
       "    <tr>\n",
       "      <th>0</th>\n",
       "      <td>US</td>\n",
       "      <td>26071540</td>\n",
       "      <td>439463</td>\n",
       "      <td>25932794</td>\n",
       "      <td>436799</td>\n",
       "      <td>138746</td>\n",
       "      <td>2664</td>\n",
       "      <td>1.69</td>\n",
       "      <td>North America</td>\n",
       "    </tr>\n",
       "    <tr>\n",
       "      <th>1</th>\n",
       "      <td>India</td>\n",
       "      <td>10746174</td>\n",
       "      <td>154274</td>\n",
       "      <td>10733130</td>\n",
       "      <td>154147</td>\n",
       "      <td>13044</td>\n",
       "      <td>127</td>\n",
       "      <td>1.44</td>\n",
       "      <td>Asia</td>\n",
       "    </tr>\n",
       "    <tr>\n",
       "      <th>2</th>\n",
       "      <td>Brazil</td>\n",
       "      <td>9176975</td>\n",
       "      <td>223945</td>\n",
       "      <td>9118513</td>\n",
       "      <td>222666</td>\n",
       "      <td>58462</td>\n",
       "      <td>1279</td>\n",
       "      <td>2.44</td>\n",
       "      <td>South America</td>\n",
       "    </tr>\n",
       "    <tr>\n",
       "      <th>3</th>\n",
       "      <td>United Kingdom</td>\n",
       "      <td>3806993</td>\n",
       "      <td>105777</td>\n",
       "      <td>3783593</td>\n",
       "      <td>104572</td>\n",
       "      <td>23400</td>\n",
       "      <td>1205</td>\n",
       "      <td>2.78</td>\n",
       "      <td>Europe</td>\n",
       "    </tr>\n",
       "    <tr>\n",
       "      <th>4</th>\n",
       "      <td>Russia</td>\n",
       "      <td>3790265</td>\n",
       "      <td>71556</td>\n",
       "      <td>3771514</td>\n",
       "      <td>71054</td>\n",
       "      <td>18751</td>\n",
       "      <td>502</td>\n",
       "      <td>1.89</td>\n",
       "      <td>Europe</td>\n",
       "    </tr>\n",
       "  </tbody>\n",
       "</table>\n",
       "</div>"
      ],
      "text/plain": [
       "   Country/Region     Cases  Deaths    PCases  PDeaths  Cases (+)  Deaths (+)  \\\n",
       "0              US  26071540  439463  25932794   436799     138746        2664   \n",
       "1           India  10746174  154274  10733130   154147      13044         127   \n",
       "2          Brazil   9176975  223945   9118513   222666      58462        1279   \n",
       "3  United Kingdom   3806993  105777   3783593   104572      23400        1205   \n",
       "4          Russia   3790265   71556   3771514    71054      18751         502   \n",
       "\n",
       "   Fatality Rate      Continent  \n",
       "0           1.69  North America  \n",
       "1           1.44           Asia  \n",
       "2           2.44  South America  \n",
       "3           2.78         Europe  \n",
       "4           1.89         Europe  "
      ]
     },
     "execution_count": 13,
     "metadata": {},
     "output_type": "execute_result"
    }
   ],
   "source": [
    "#hide\n",
    "for c in 'Cases, Deaths'.split(', '):\n",
    "    df_table[f'{c} (+)'] = (df_table[c] - df_table[f'P{c}']).clip(0)\n",
    "    #Clip ça veut dire, les chiffres negatif sont interdit\n",
    "df_table['Fatality Rate'] = (100* df_table['Deaths']/ df_table['Cases']).round(2)\n",
    "df_table['Continent'] = df_table['Country/Region'].map(mapping['map.continent'])\n",
    "df_table.head(5)"
   ]
  },
  {
   "cell_type": "code",
   "execution_count": 14,
   "id": "aboriginal-bulgaria",
   "metadata": {
    "execution": {
     "iopub.execute_input": "2021-01-31T12:07:52.917960Z",
     "iopub.status.busy": "2021-01-31T12:07:52.917195Z",
     "iopub.status.idle": "2021-01-31T12:07:52.919549Z",
     "shell.execute_reply": "2021-01-31T12:07:52.920170Z"
    },
    "papermill": {
     "duration": 0.047167,
     "end_time": "2021-01-31T12:07:52.920313",
     "exception": false,
     "start_time": "2021-01-31T12:07:52.873146",
     "status": "completed"
    },
    "tags": []
   },
   "outputs": [],
   "source": [
    "#hide\n",
    "#delete problematic countries from table\n",
    "df_table = df_table[~df_table['Country/Region'].isin(['Cape Verde', 'Cruise Ship', 'Kosovo'])]"
   ]
  },
  {
   "cell_type": "code",
   "execution_count": 15,
   "id": "fantastic-effect",
   "metadata": {
    "execution": {
     "iopub.execute_input": "2021-01-31T12:07:53.003111Z",
     "iopub.status.busy": "2021-01-31T12:07:53.002469Z",
     "iopub.status.idle": "2021-01-31T12:07:53.024761Z",
     "shell.execute_reply": "2021-01-31T12:07:53.024236Z"
    },
    "papermill": {
     "duration": 0.068343,
     "end_time": "2021-01-31T12:07:53.024886",
     "exception": false,
     "start_time": "2021-01-31T12:07:52.956543",
     "status": "completed"
    },
    "tags": []
   },
   "outputs": [
    {
     "data": {
      "text/html": [
       "<div>\n",
       "<style scoped>\n",
       "    .dataframe tbody tr th:only-of-type {\n",
       "        vertical-align: middle;\n",
       "    }\n",
       "\n",
       "    .dataframe tbody tr th {\n",
       "        vertical-align: top;\n",
       "    }\n",
       "\n",
       "    .dataframe thead th {\n",
       "        text-align: right;\n",
       "    }\n",
       "</style>\n",
       "<table border=\"1\" class=\"dataframe\">\n",
       "  <thead>\n",
       "    <tr style=\"text-align: right;\">\n",
       "      <th></th>\n",
       "      <th>Country/Region</th>\n",
       "      <th>Cases</th>\n",
       "      <th>Deaths</th>\n",
       "      <th>PCases</th>\n",
       "      <th>PDeaths</th>\n",
       "      <th>Cases (+)</th>\n",
       "      <th>Deaths (+)</th>\n",
       "      <th>Fatality Rate</th>\n",
       "      <th>Continent</th>\n",
       "    </tr>\n",
       "  </thead>\n",
       "  <tbody>\n",
       "    <tr>\n",
       "      <th>0</th>\n",
       "      <td>US</td>\n",
       "      <td>26071540</td>\n",
       "      <td>439463</td>\n",
       "      <td>25932794</td>\n",
       "      <td>436799</td>\n",
       "      <td>138746</td>\n",
       "      <td>2664</td>\n",
       "      <td>1.7</td>\n",
       "      <td>North America</td>\n",
       "    </tr>\n",
       "    <tr>\n",
       "      <th>1</th>\n",
       "      <td>India</td>\n",
       "      <td>10746174</td>\n",
       "      <td>154274</td>\n",
       "      <td>10733130</td>\n",
       "      <td>154147</td>\n",
       "      <td>13044</td>\n",
       "      <td>127</td>\n",
       "      <td>1.4</td>\n",
       "      <td>Asia</td>\n",
       "    </tr>\n",
       "    <tr>\n",
       "      <th>2</th>\n",
       "      <td>Brazil</td>\n",
       "      <td>9176975</td>\n",
       "      <td>223945</td>\n",
       "      <td>9118513</td>\n",
       "      <td>222666</td>\n",
       "      <td>58462</td>\n",
       "      <td>1279</td>\n",
       "      <td>2.4</td>\n",
       "      <td>South America</td>\n",
       "    </tr>\n",
       "    <tr>\n",
       "      <th>3</th>\n",
       "      <td>United Kingdom</td>\n",
       "      <td>3806993</td>\n",
       "      <td>105777</td>\n",
       "      <td>3783593</td>\n",
       "      <td>104572</td>\n",
       "      <td>23400</td>\n",
       "      <td>1205</td>\n",
       "      <td>2.8</td>\n",
       "      <td>Europe</td>\n",
       "    </tr>\n",
       "    <tr>\n",
       "      <th>4</th>\n",
       "      <td>Russia</td>\n",
       "      <td>3790265</td>\n",
       "      <td>71556</td>\n",
       "      <td>3771514</td>\n",
       "      <td>71054</td>\n",
       "      <td>18751</td>\n",
       "      <td>502</td>\n",
       "      <td>1.9</td>\n",
       "      <td>Europe</td>\n",
       "    </tr>\n",
       "  </tbody>\n",
       "</table>\n",
       "</div>"
      ],
      "text/plain": [
       "   Country/Region     Cases  Deaths    PCases  PDeaths  Cases (+)  Deaths (+)  \\\n",
       "0              US  26071540  439463  25932794   436799     138746        2664   \n",
       "1           India  10746174  154274  10733130   154147      13044         127   \n",
       "2          Brazil   9176975  223945   9118513   222666      58462        1279   \n",
       "3  United Kingdom   3806993  105777   3783593   104572      23400        1205   \n",
       "4          Russia   3790265   71556   3771514    71054      18751         502   \n",
       "\n",
       "   Fatality Rate      Continent  \n",
       "0            1.7  North America  \n",
       "1            1.4           Asia  \n",
       "2            2.4  South America  \n",
       "3            2.8         Europe  \n",
       "4            1.9         Europe  "
      ]
     },
     "execution_count": 15,
     "metadata": {},
     "output_type": "execute_result"
    }
   ],
   "source": [
    "#hide\n",
    "df_table = (pd.DataFrame(dict(Cases=dfc_cases, Deaths=dfc_deaths, PCases=dfp_cases, PDeaths=dfp_deaths))\n",
    "             .sort_values(by=['Cases', 'Deaths'], ascending=[False, False])\n",
    "             .reset_index())\n",
    "df_table.rename(columns={'index': 'Country/Region'}, inplace=True)\n",
    "for c in 'Cases, Deaths'.split(', '):\n",
    "    df_table[f'{c} (+)'] = (df_table[c] - df_table[f'P{c}']).clip(0)  # DATA BUG\n",
    "df_table['Fatality Rate'] = (100 * df_table['Deaths'] / df_table['Cases']).round(1)\n",
    "df_table['Continent'] = df_table['Country/Region'].map(mapping['map.continent'])\n",
    "df_table.head(5)"
   ]
  },
  {
   "cell_type": "code",
   "execution_count": 16,
   "id": "fewer-occasion",
   "metadata": {
    "execution": {
     "iopub.execute_input": "2021-01-31T12:07:53.094485Z",
     "iopub.status.busy": "2021-01-31T12:07:53.093949Z",
     "iopub.status.idle": "2021-01-31T12:07:53.098980Z",
     "shell.execute_reply": "2021-01-31T12:07:53.099453Z"
    },
    "papermill": {
     "duration": 0.041669,
     "end_time": "2021-01-31T12:07:53.099575",
     "exception": false,
     "start_time": "2021-01-31T12:07:53.057906",
     "status": "completed"
    },
    "tags": []
   },
   "outputs": [],
   "source": [
    "#hide\n",
    "#delete problematic countries from table\n",
    "df_table = df_table[~df_table['Country/Region'].isin(['Cape Verde', 'Cruise Ship', 'Kosovo'])]"
   ]
  },
  {
   "cell_type": "code",
   "execution_count": 17,
   "id": "related-center",
   "metadata": {
    "execution": {
     "iopub.execute_input": "2021-01-31T12:07:53.186148Z",
     "iopub.status.busy": "2021-01-31T12:07:53.185065Z",
     "iopub.status.idle": "2021-01-31T12:07:53.189587Z",
     "shell.execute_reply": "2021-01-31T12:07:53.188882Z"
    },
    "papermill": {
     "duration": 0.057347,
     "end_time": "2021-01-31T12:07:53.189740",
     "exception": false,
     "start_time": "2021-01-31T12:07:53.132393",
     "status": "completed"
    },
    "tags": []
   },
   "outputs": [],
   "source": [
    "#hide\n",
    "metrics = [df_table.columns[index] for index in [1,2,5,6]]\n",
    "# s_china = df_table[df_table['Country/Region'].eq('China')][metrics].sum().add_prefix('China ')\n",
    "s_us = df_table[df_table['Country/Region'].eq('US')][metrics].sum().add_prefix('US ')\n",
    "s_eu = df_table[df_table['Continent'].eq('Europe')][metrics].sum().add_prefix('EU ')\n",
    "s_ind = df_table[df_table['Country/Region'].eq('India')][metrics].sum().add_prefix('India ')\n",
    "summary = {'updated': pd.to_datetime(dt_today), 'since': pd.to_datetime(dt_yday)}\n",
    "summary = {'updated': pd.to_datetime(dt_today), 'since': pd.to_datetime(dt_yday)}\n",
    "summary = {**summary, **df_table[metrics].sum(), **s_ind, **s_us, **s_eu}"
   ]
  },
  {
   "cell_type": "code",
   "execution_count": 18,
   "id": "engaging-syndrome",
   "metadata": {
    "execution": {
     "iopub.execute_input": "2021-01-31T12:07:53.276262Z",
     "iopub.status.busy": "2021-01-31T12:07:53.275618Z",
     "iopub.status.idle": "2021-01-31T12:07:53.286952Z",
     "shell.execute_reply": "2021-01-31T12:07:53.287611Z"
    },
    "papermill": {
     "duration": 0.061913,
     "end_time": "2021-01-31T12:07:53.287787",
     "exception": false,
     "start_time": "2021-01-31T12:07:53.225874",
     "status": "completed"
    },
    "tags": []
   },
   "outputs": [],
   "source": [
    "#hide\n",
    "dft_ct_new_cases = dft_cases.groupby(COL_REGION)[dt_cols].sum().diff(axis=1).fillna(0).astype(int)"
   ]
  },
  {
   "cell_type": "code",
   "execution_count": 19,
   "id": "neutral-assignment",
   "metadata": {
    "execution": {
     "iopub.execute_input": "2021-01-31T12:07:53.368388Z",
     "iopub.status.busy": "2021-01-31T12:07:53.367812Z",
     "iopub.status.idle": "2021-01-31T12:07:53.370305Z",
     "shell.execute_reply": "2021-01-31T12:07:53.369791Z"
    },
    "papermill": {
     "duration": 0.04328,
     "end_time": "2021-01-31T12:07:53.370430",
     "exception": false,
     "start_time": "2021-01-31T12:07:53.327150",
     "status": "completed"
    },
    "tags": []
   },
   "outputs": [],
   "source": [
    "#hide\n",
    "everydaycases = dft_ct_new_cases.cumsum(axis=1)"
   ]
  },
  {
   "cell_type": "code",
   "execution_count": 20,
   "id": "parliamentary-calgary",
   "metadata": {
    "execution": {
     "iopub.execute_input": "2021-01-31T12:07:53.454032Z",
     "iopub.status.busy": "2021-01-31T12:07:53.453379Z",
     "iopub.status.idle": "2021-01-31T12:07:55.285672Z",
     "shell.execute_reply": "2021-01-31T12:07:55.284632Z"
    },
    "papermill": {
     "duration": 1.879453,
     "end_time": "2021-01-31T12:07:55.285802",
     "exception": false,
     "start_time": "2021-01-31T12:07:53.406349",
     "status": "completed"
    },
    "tags": []
   },
   "outputs": [],
   "source": [
    "#hide\n",
    "import pandas as pd\n",
    "import matplotlib.pyplot as plt\n",
    "import matplotlib.ticker as ticker\n",
    "import matplotlib.animation as animation\n",
    "from IPython.display import HTML"
   ]
  },
  {
   "cell_type": "code",
   "execution_count": 21,
   "id": "lasting-extraction",
   "metadata": {
    "execution": {
     "iopub.execute_input": "2021-01-31T12:07:55.362497Z",
     "iopub.status.busy": "2021-01-31T12:07:55.361598Z",
     "iopub.status.idle": "2021-01-31T12:07:55.366241Z",
     "shell.execute_reply": "2021-01-31T12:07:55.365763Z"
    },
    "papermill": {
     "duration": 0.044845,
     "end_time": "2021-01-31T12:07:55.366385",
     "exception": false,
     "start_time": "2021-01-31T12:07:55.321540",
     "status": "completed"
    },
    "tags": []
   },
   "outputs": [],
   "source": [
    "#hide\n",
    "t = everydaycases.stack()"
   ]
  },
  {
   "cell_type": "code",
   "execution_count": 22,
   "id": "premier-sleeve",
   "metadata": {
    "execution": {
     "iopub.execute_input": "2021-01-31T12:07:55.439363Z",
     "iopub.status.busy": "2021-01-31T12:07:55.438694Z",
     "iopub.status.idle": "2021-01-31T12:07:55.445885Z",
     "shell.execute_reply": "2021-01-31T12:07:55.446488Z"
    },
    "papermill": {
     "duration": 0.048391,
     "end_time": "2021-01-31T12:07:55.446629",
     "exception": false,
     "start_time": "2021-01-31T12:07:55.398238",
     "status": "completed"
    },
    "tags": []
   },
   "outputs": [],
   "source": [
    "#hide\n",
    "g = t.reset_index(['Country/Region'])"
   ]
  },
  {
   "cell_type": "code",
   "execution_count": 23,
   "id": "distributed-pittsburgh",
   "metadata": {
    "execution": {
     "iopub.execute_input": "2021-01-31T12:07:55.520828Z",
     "iopub.status.busy": "2021-01-31T12:07:55.520229Z",
     "iopub.status.idle": "2021-01-31T12:07:55.523321Z",
     "shell.execute_reply": "2021-01-31T12:07:55.522652Z"
    },
    "papermill": {
     "duration": 0.040455,
     "end_time": "2021-01-31T12:07:55.523488",
     "exception": false,
     "start_time": "2021-01-31T12:07:55.483033",
     "status": "completed"
    },
    "tags": []
   },
   "outputs": [],
   "source": [
    "#hide\n",
    "g.index.name = 'date'"
   ]
  },
  {
   "cell_type": "code",
   "execution_count": 24,
   "id": "naked-donor",
   "metadata": {
    "execution": {
     "iopub.execute_input": "2021-01-31T12:07:55.597224Z",
     "iopub.status.busy": "2021-01-31T12:07:55.596572Z",
     "iopub.status.idle": "2021-01-31T12:07:55.598688Z",
     "shell.execute_reply": "2021-01-31T12:07:55.599229Z"
    },
    "papermill": {
     "duration": 0.040377,
     "end_time": "2021-01-31T12:07:55.599403",
     "exception": false,
     "start_time": "2021-01-31T12:07:55.559026",
     "status": "completed"
    },
    "tags": []
   },
   "outputs": [],
   "source": [
    "# #hide\n",
    "# g = g.reset_index(['date'])"
   ]
  },
  {
   "cell_type": "code",
   "execution_count": 25,
   "id": "incomplete-mustang",
   "metadata": {
    "execution": {
     "iopub.execute_input": "2021-01-31T12:07:55.686273Z",
     "iopub.status.busy": "2021-01-31T12:07:55.685556Z",
     "iopub.status.idle": "2021-01-31T12:07:55.687604Z",
     "shell.execute_reply": "2021-01-31T12:07:55.688183Z"
    },
    "papermill": {
     "duration": 0.051704,
     "end_time": "2021-01-31T12:07:55.688336",
     "exception": false,
     "start_time": "2021-01-31T12:07:55.636632",
     "status": "completed"
    },
    "tags": []
   },
   "outputs": [],
   "source": [
    "#hide\n",
    "# g.head()"
   ]
  },
  {
   "cell_type": "code",
   "execution_count": 26,
   "id": "specific-kruger",
   "metadata": {
    "execution": {
     "iopub.execute_input": "2021-01-31T12:07:55.760305Z",
     "iopub.status.busy": "2021-01-31T12:07:55.759598Z",
     "iopub.status.idle": "2021-01-31T12:07:55.761731Z",
     "shell.execute_reply": "2021-01-31T12:07:55.762338Z"
    },
    "papermill": {
     "duration": 0.038591,
     "end_time": "2021-01-31T12:07:55.762479",
     "exception": false,
     "start_time": "2021-01-31T12:07:55.723888",
     "status": "completed"
    },
    "tags": []
   },
   "outputs": [],
   "source": [
    "#hide\n",
    "# g.columns = ['date','country','cases']"
   ]
  },
  {
   "cell_type": "code",
   "execution_count": 27,
   "id": "tender-conversion",
   "metadata": {
    "execution": {
     "iopub.execute_input": "2021-01-31T12:07:55.839492Z",
     "iopub.status.busy": "2021-01-31T12:07:55.838843Z",
     "iopub.status.idle": "2021-01-31T12:07:55.841178Z",
     "shell.execute_reply": "2021-01-31T12:07:55.841837Z"
    },
    "papermill": {
     "duration": 0.045951,
     "end_time": "2021-01-31T12:07:55.841980",
     "exception": false,
     "start_time": "2021-01-31T12:07:55.796029",
     "status": "completed"
    },
    "tags": []
   },
   "outputs": [],
   "source": [
    "#hide\n",
    "# g['continent'] = g.country"
   ]
  },
  {
   "cell_type": "code",
   "execution_count": 28,
   "id": "substantial-wilderness",
   "metadata": {
    "execution": {
     "iopub.execute_input": "2021-01-31T12:07:55.925723Z",
     "iopub.status.busy": "2021-01-31T12:07:55.925126Z",
     "iopub.status.idle": "2021-01-31T12:07:55.927826Z",
     "shell.execute_reply": "2021-01-31T12:07:55.927233Z"
    },
    "papermill": {
     "duration": 0.040677,
     "end_time": "2021-01-31T12:07:55.927962",
     "exception": false,
     "start_time": "2021-01-31T12:07:55.887285",
     "status": "completed"
    },
    "tags": []
   },
   "outputs": [],
   "source": [
    "#hide\n",
    "# cols = list(g.columns.values)"
   ]
  },
  {
   "cell_type": "code",
   "execution_count": 29,
   "id": "solved-farming",
   "metadata": {
    "execution": {
     "iopub.execute_input": "2021-01-31T12:07:56.002622Z",
     "iopub.status.busy": "2021-01-31T12:07:56.002045Z",
     "iopub.status.idle": "2021-01-31T12:07:56.004183Z",
     "shell.execute_reply": "2021-01-31T12:07:56.004725Z"
    },
    "papermill": {
     "duration": 0.042622,
     "end_time": "2021-01-31T12:07:56.004867",
     "exception": false,
     "start_time": "2021-01-31T12:07:55.962245",
     "status": "completed"
    },
    "tags": []
   },
   "outputs": [],
   "source": [
    "#hide\n",
    "# cols.insert(0, cols.pop())"
   ]
  },
  {
   "cell_type": "code",
   "execution_count": 30,
   "id": "executed-adoption",
   "metadata": {
    "execution": {
     "iopub.execute_input": "2021-01-31T12:07:56.084388Z",
     "iopub.status.busy": "2021-01-31T12:07:56.083758Z",
     "iopub.status.idle": "2021-01-31T12:07:56.085866Z",
     "shell.execute_reply": "2021-01-31T12:07:56.086405Z"
    },
    "papermill": {
     "duration": 0.046465,
     "end_time": "2021-01-31T12:07:56.086551",
     "exception": false,
     "start_time": "2021-01-31T12:07:56.040086",
     "status": "completed"
    },
    "tags": []
   },
   "outputs": [],
   "source": [
    "#hide\n",
    "# g = g[cols]"
   ]
  },
  {
   "cell_type": "code",
   "execution_count": 31,
   "id": "subject-dublin",
   "metadata": {
    "execution": {
     "iopub.execute_input": "2021-01-31T12:07:56.163018Z",
     "iopub.status.busy": "2021-01-31T12:07:56.162335Z",
     "iopub.status.idle": "2021-01-31T12:07:56.166460Z",
     "shell.execute_reply": "2021-01-31T12:07:56.165947Z"
    },
    "papermill": {
     "duration": 0.043602,
     "end_time": "2021-01-31T12:07:56.166607",
     "exception": false,
     "start_time": "2021-01-31T12:07:56.123005",
     "status": "completed"
    },
    "tags": []
   },
   "outputs": [],
   "source": [
    "#hide\n",
    "# g['continent'] = g['continent'].map(mapping['map.continent'])"
   ]
  },
  {
   "cell_type": "code",
   "execution_count": 32,
   "id": "freelance-scout",
   "metadata": {
    "execution": {
     "iopub.execute_input": "2021-01-31T12:07:56.253456Z",
     "iopub.status.busy": "2021-01-31T12:07:56.252017Z",
     "iopub.status.idle": "2021-01-31T12:07:56.254113Z",
     "shell.execute_reply": "2021-01-31T12:07:56.254583Z"
    },
    "papermill": {
     "duration": 0.044142,
     "end_time": "2021-01-31T12:07:56.254720",
     "exception": false,
     "start_time": "2021-01-31T12:07:56.210578",
     "status": "completed"
    },
    "tags": []
   },
   "outputs": [],
   "source": [
    "#hide\n",
    "# g.head()"
   ]
  },
  {
   "cell_type": "code",
   "execution_count": 33,
   "id": "limited-engine",
   "metadata": {
    "execution": {
     "iopub.execute_input": "2021-01-31T12:07:56.336515Z",
     "iopub.status.busy": "2021-01-31T12:07:56.335904Z",
     "iopub.status.idle": "2021-01-31T12:07:56.338194Z",
     "shell.execute_reply": "2021-01-31T12:07:56.337608Z"
    },
    "papermill": {
     "duration": 0.046775,
     "end_time": "2021-01-31T12:07:56.338323",
     "exception": false,
     "start_time": "2021-01-31T12:07:56.291548",
     "status": "completed"
    },
    "tags": []
   },
   "outputs": [],
   "source": [
    "# hide\n",
    "# g['date'] = g['date'].astype('datetime64[ns]')"
   ]
  },
  {
   "cell_type": "code",
   "execution_count": 34,
   "id": "sophisticated-supervisor",
   "metadata": {
    "execution": {
     "iopub.execute_input": "2021-01-31T12:07:56.429196Z",
     "iopub.status.busy": "2021-01-31T12:07:56.428547Z",
     "iopub.status.idle": "2021-01-31T12:07:56.430902Z",
     "shell.execute_reply": "2021-01-31T12:07:56.430278Z"
    },
    "papermill": {
     "duration": 0.045327,
     "end_time": "2021-01-31T12:07:56.431024",
     "exception": false,
     "start_time": "2021-01-31T12:07:56.385697",
     "status": "completed"
    },
    "tags": []
   },
   "outputs": [],
   "source": [
    "#hide\n",
    "# g['date'] = g.date.dt.dayofyear"
   ]
  },
  {
   "cell_type": "code",
   "execution_count": 35,
   "id": "inside-dubai",
   "metadata": {
    "execution": {
     "iopub.execute_input": "2021-01-31T12:07:56.504042Z",
     "iopub.status.busy": "2021-01-31T12:07:56.503404Z",
     "iopub.status.idle": "2021-01-31T12:07:56.505873Z",
     "shell.execute_reply": "2021-01-31T12:07:56.505209Z"
    },
    "papermill": {
     "duration": 0.040834,
     "end_time": "2021-01-31T12:07:56.505998",
     "exception": false,
     "start_time": "2021-01-31T12:07:56.465164",
     "status": "completed"
    },
    "tags": []
   },
   "outputs": [],
   "source": [
    "#hide\n",
    "# g = g.rename(columns= {'continent':'group','country':'name','cases':'value'})"
   ]
  },
  {
   "cell_type": "code",
   "execution_count": 36,
   "id": "fleet-motorcycle",
   "metadata": {
    "execution": {
     "iopub.execute_input": "2021-01-31T12:07:56.582970Z",
     "iopub.status.busy": "2021-01-31T12:07:56.582309Z",
     "iopub.status.idle": "2021-01-31T12:07:56.585250Z",
     "shell.execute_reply": "2021-01-31T12:07:56.584731Z"
    },
    "papermill": {
     "duration": 0.043227,
     "end_time": "2021-01-31T12:07:56.585385",
     "exception": false,
     "start_time": "2021-01-31T12:07:56.542158",
     "status": "completed"
    },
    "tags": []
   },
   "outputs": [],
   "source": [
    "#hide\n",
    "# cols = ['name','group','day','value']"
   ]
  },
  {
   "cell_type": "code",
   "execution_count": 37,
   "id": "continued-sleeping",
   "metadata": {
    "execution": {
     "iopub.execute_input": "2021-01-31T12:07:56.659832Z",
     "iopub.status.busy": "2021-01-31T12:07:56.659253Z",
     "iopub.status.idle": "2021-01-31T12:07:56.668659Z",
     "shell.execute_reply": "2021-01-31T12:07:56.669240Z"
    },
    "papermill": {
     "duration": 0.050598,
     "end_time": "2021-01-31T12:07:56.669407",
     "exception": false,
     "start_time": "2021-01-31T12:07:56.618809",
     "status": "completed"
    },
    "tags": []
   },
   "outputs": [],
   "source": [
    "#hide\n",
    "# g.rename(columns= {'date':'day'},inplace = True)"
   ]
  },
  {
   "cell_type": "code",
   "execution_count": 38,
   "id": "major-fight",
   "metadata": {
    "execution": {
     "iopub.execute_input": "2021-01-31T12:07:56.743198Z",
     "iopub.status.busy": "2021-01-31T12:07:56.742581Z",
     "iopub.status.idle": "2021-01-31T12:07:56.744898Z",
     "shell.execute_reply": "2021-01-31T12:07:56.744394Z"
    },
    "papermill": {
     "duration": 0.040131,
     "end_time": "2021-01-31T12:07:56.745054",
     "exception": false,
     "start_time": "2021-01-31T12:07:56.704923",
     "status": "completed"
    },
    "tags": []
   },
   "outputs": [],
   "source": [
    "#hide\n",
    "# g = g[cols]"
   ]
  },
  {
   "cell_type": "code",
   "execution_count": 39,
   "id": "structured-mobile",
   "metadata": {
    "execution": {
     "iopub.execute_input": "2021-01-31T12:07:56.815494Z",
     "iopub.status.busy": "2021-01-31T12:07:56.814872Z",
     "iopub.status.idle": "2021-01-31T12:07:56.817245Z",
     "shell.execute_reply": "2021-01-31T12:07:56.817984Z"
    },
    "papermill": {
     "duration": 0.040084,
     "end_time": "2021-01-31T12:07:56.818136",
     "exception": false,
     "start_time": "2021-01-31T12:07:56.778052",
     "status": "completed"
    },
    "tags": []
   },
   "outputs": [],
   "source": [
    "# #hide\n",
    "# g = g[g.group.notna()]"
   ]
  },
  {
   "cell_type": "code",
   "execution_count": 40,
   "id": "determined-closing",
   "metadata": {
    "execution": {
     "iopub.execute_input": "2021-01-31T12:07:56.888790Z",
     "iopub.status.busy": "2021-01-31T12:07:56.888205Z",
     "iopub.status.idle": "2021-01-31T12:07:56.890861Z",
     "shell.execute_reply": "2021-01-31T12:07:56.890248Z"
    },
    "papermill": {
     "duration": 0.038953,
     "end_time": "2021-01-31T12:07:56.890971",
     "exception": false,
     "start_time": "2021-01-31T12:07:56.852018",
     "status": "completed"
    },
    "tags": []
   },
   "outputs": [],
   "source": [
    "# #hide\n",
    "# colors = dict(zip(\n",
    "#     [\"Oceania\", \"Europe\", \"Asia\", \"South America\", \"Middle East\", \"North America\", \"Africa\"],\n",
    "#     [\"#adb0ff\", \"#ffb3ff\", \"#90d595\", \"#e48381\", \"#aafbff\", \"#f7bb5f\", \"#eafb50\"]\n",
    "# ))\n",
    "# group_lk = g.set_index('name')['group'].to_dict()"
   ]
  },
  {
   "cell_type": "code",
   "execution_count": null,
   "id": "gross-drinking",
   "metadata": {
    "papermill": {
     "duration": 0.039729,
     "end_time": "2021-01-31T12:07:56.967973",
     "exception": false,
     "start_time": "2021-01-31T12:07:56.928244",
     "status": "completed"
    },
    "tags": []
   },
   "outputs": [],
   "source": []
  },
  {
   "cell_type": "code",
   "execution_count": 41,
   "id": "subject-macintosh",
   "metadata": {
    "execution": {
     "iopub.execute_input": "2021-01-31T12:07:57.048212Z",
     "iopub.status.busy": "2021-01-31T12:07:57.047626Z",
     "iopub.status.idle": "2021-01-31T12:07:57.049873Z",
     "shell.execute_reply": "2021-01-31T12:07:57.050353Z"
    },
    "papermill": {
     "duration": 0.047919,
     "end_time": "2021-01-31T12:07:57.050480",
     "exception": false,
     "start_time": "2021-01-31T12:07:57.002561",
     "status": "completed"
    },
    "tags": []
   },
   "outputs": [],
   "source": [
    "# #hide\n",
    "# fig, ax = plt.subplots(figsize=(15, 8))\n",
    "\n",
    "# def draw_barchart(current_day):\n",
    "#     dff = g[g['day'].eq(current_day)].sort_values(by='value', ascending=True).tail(10)\n",
    "#     ax.clear()\n",
    "#     ax.barh(dff['name'], dff['value'], color=[colors[group_lk[x]] for x in dff['name']])\n",
    "#     dx = dff['value'].max() / 200\n",
    "    \n",
    "#     for i, (value, name) in enumerate(zip(dff['value'], dff['name'])):\n",
    "#         ax.text(value-dx, i,     name,           size=14, weight=600, ha='right', va='bottom')\n",
    "#         ax.text(value-dx, i-.25, group_lk[name], size=10, color='#444444', ha='right', va='baseline')\n",
    "#         ax.text(value+dx, i,     f'{value:,.0f}',  size=14, ha='left',  va='center')\n",
    "#     ax.text(1, 0.4, current_day, transform=ax.transAxes, color='#777777', size=46, ha='right', weight=800)\n",
    "#     ax.text(0, 1.06, 'Population (thousands)', transform=ax.transAxes, size=12, color='#777777')\n",
    "#     ax.xaxis.set_major_formatter(ticker.StrMethodFormatter('{x:,.0f}'))\n",
    "#     ax.xaxis.set_ticks_position('top')\n",
    "#     ax.tick_params(axis='x', colors='#777777', labelsize=12)\n",
    "#     ax.set_yticks([])\n",
    "#     ax.margins(0, 0.01)\n",
    "#     ax.grid(which='major', axis='x', linestyle='-')\n",
    "#     ax.set_axisbelow(True)\n",
    "    \n",
    "#     ax.text(0, 1.15, 'Coronavirus',\n",
    "#             transform=ax.transAxes, size=24, weight=600, ha='left', va='top')\n",
    "# #     ax.text(1, 0, 'by @pratapvardhan; credit @jburnmurdoch', transform=ax.transAxes, color='#777777', ha='right',\n",
    "# #             bbox=dict(facecolor='white', alpha=0.8, edgecolor='white'))\n",
    "#     plt.box(False)"
   ]
  },
  {
   "cell_type": "code",
   "execution_count": 42,
   "id": "sexual-wages",
   "metadata": {
    "execution": {
     "iopub.execute_input": "2021-01-31T12:07:57.126298Z",
     "iopub.status.busy": "2021-01-31T12:07:57.125588Z",
     "iopub.status.idle": "2021-01-31T12:07:57.127617Z",
     "shell.execute_reply": "2021-01-31T12:07:57.128123Z"
    },
    "papermill": {
     "duration": 0.042655,
     "end_time": "2021-01-31T12:07:57.128265",
     "exception": false,
     "start_time": "2021-01-31T12:07:57.085610",
     "status": "completed"
    },
    "tags": []
   },
   "outputs": [],
   "source": [
    "# #hide_input\n",
    "# fig, ax = plt.subplots(figsize=(15, 8))\n",
    "# animator = animation.FuncAnimation(fig, draw_barchart, frames=range(g.day.values.min(), g.day.values.max()))\n",
    "# HTML(animator.to_jshtml())\n",
    "# # or use animator.to_html5_video() or animator.save() "
   ]
  },
  {
   "cell_type": "code",
   "execution_count": null,
   "id": "australian-container",
   "metadata": {
    "papermill": {
     "duration": 0.03653,
     "end_time": "2021-01-31T12:07:57.203760",
     "exception": false,
     "start_time": "2021-01-31T12:07:57.167230",
     "status": "completed"
    },
    "tags": []
   },
   "outputs": [],
   "source": []
  },
  {
   "cell_type": "code",
   "execution_count": null,
   "id": "mediterranean-pontiac",
   "metadata": {
    "papermill": {
     "duration": 0.034942,
     "end_time": "2021-01-31T12:07:57.275242",
     "exception": false,
     "start_time": "2021-01-31T12:07:57.240300",
     "status": "completed"
    },
    "tags": []
   },
   "outputs": [],
   "source": []
  },
  {
   "cell_type": "code",
   "execution_count": null,
   "id": "aging-legislature",
   "metadata": {
    "papermill": {
     "duration": 0.040112,
     "end_time": "2021-01-31T12:07:57.352588",
     "exception": false,
     "start_time": "2021-01-31T12:07:57.312476",
     "status": "completed"
    },
    "tags": []
   },
   "outputs": [],
   "source": []
  }
 ],
 "metadata": {
  "kernelspec": {
   "display_name": "Python 3",
   "language": "python",
   "name": "python3"
  },
  "language_info": {
   "codemirror_mode": {
    "name": "ipython",
    "version": 3
   },
   "file_extension": ".py",
   "mimetype": "text/x-python",
   "name": "python",
   "nbconvert_exporter": "python",
   "pygments_lexer": "ipython3",
   "version": "3.6.12"
  },
  "papermill": {
   "duration": 7.854027,
   "end_time": "2021-01-31T12:07:57.695668",
   "environment_variables": {},
   "exception": null,
   "input_path": "2020-03-21-covid19exp.ipynb",
   "output_path": "2020-03-21-covid19exp.ipynb",
   "parameters": {},
   "start_time": "2021-01-31T12:07:49.841641",
   "version": "2.0.0"
  }
 },
 "nbformat": 4,
 "nbformat_minor": 5
}