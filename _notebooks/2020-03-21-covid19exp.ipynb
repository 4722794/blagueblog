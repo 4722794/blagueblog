{
 "cells": [
  {
   "cell_type": "markdown",
   "id": "muslim-click",
   "metadata": {
    "papermill": {
     "duration": 0.0412,
     "end_time": "2021-09-10T12:11:40.510744",
     "exception": false,
     "start_time": "2021-09-10T12:11:40.469544",
     "status": "completed"
    },
    "tags": []
   },
   "source": [
    "# COVID-19 Case Race\n",
    "> A race chart to see rising cases around the world\n",
    "\n",
    "- author: Hargun Oberoi\n",
    "- image: images/covid-overview.png\n",
    "- hide: false\n",
    "- badges: false"
   ]
  },
  {
   "cell_type": "code",
   "execution_count": 1,
   "id": "proof-material",
   "metadata": {
    "execution": {
     "iopub.execute_input": "2021-09-10T12:11:40.588592Z",
     "iopub.status.busy": "2021-09-10T12:11:40.587984Z",
     "iopub.status.idle": "2021-09-10T12:11:40.927607Z",
     "shell.execute_reply": "2021-09-10T12:11:40.927048Z"
    },
    "papermill": {
     "duration": 0.3825,
     "end_time": "2021-09-10T12:11:40.927762",
     "exception": false,
     "start_time": "2021-09-10T12:11:40.545262",
     "status": "completed"
    },
    "tags": []
   },
   "outputs": [],
   "source": [
    "#hide\n",
    "import numpy as np\n",
    "import pandas as pd\n",
    "from jinja2 import Template\n",
    "from IPython.display import HTML"
   ]
  },
  {
   "cell_type": "code",
   "execution_count": 2,
   "id": "developed-terminology",
   "metadata": {
    "execution": {
     "iopub.execute_input": "2021-09-10T12:11:41.006204Z",
     "iopub.status.busy": "2021-09-10T12:11:41.005196Z",
     "iopub.status.idle": "2021-09-10T12:11:41.006815Z",
     "shell.execute_reply": "2021-09-10T12:11:41.007314Z"
    },
    "papermill": {
     "duration": 0.043193,
     "end_time": "2021-09-10T12:11:41.007443",
     "exception": false,
     "start_time": "2021-09-10T12:11:40.964250",
     "status": "completed"
    },
    "tags": []
   },
   "outputs": [],
   "source": [
    "#hide\n",
    "\n",
    "# FETCH\n",
    "base_url = 'https://raw.githubusercontent.com/pratapvardhan/notebooks/master/covid19/'\n",
    "paths = {\n",
    "    'mapping': base_url + 'mapping_countries.csv',\n",
    "    'overview': base_url + 'overview.tpl'\n",
    "}"
   ]
  },
  {
   "cell_type": "code",
   "execution_count": 3,
   "id": "dynamic-saver",
   "metadata": {
    "execution": {
     "iopub.execute_input": "2021-09-10T12:11:41.084260Z",
     "iopub.status.busy": "2021-09-10T12:11:41.082449Z",
     "iopub.status.idle": "2021-09-10T12:11:41.086887Z",
     "shell.execute_reply": "2021-09-10T12:11:41.087355Z"
    },
    "papermill": {
     "duration": 0.047573,
     "end_time": "2021-09-10T12:11:41.087503",
     "exception": false,
     "start_time": "2021-09-10T12:11:41.039930",
     "status": "completed"
    },
    "tags": []
   },
   "outputs": [
    {
     "data": {
      "text/plain": [
       "'https://raw.githubusercontent.com/pratapvardhan/notebooks/master/covid19/mapping_countries.csv'"
      ]
     },
     "execution_count": 3,
     "metadata": {},
     "output_type": "execute_result"
    }
   ],
   "source": [
    "#hide\n",
    "paths['mapping']"
   ]
  },
  {
   "cell_type": "code",
   "execution_count": 4,
   "id": "urban-software",
   "metadata": {
    "execution": {
     "iopub.execute_input": "2021-09-10T12:11:41.159642Z",
     "iopub.status.busy": "2021-09-10T12:11:41.158998Z",
     "iopub.status.idle": "2021-09-10T12:11:41.161302Z",
     "shell.execute_reply": "2021-09-10T12:11:41.160725Z"
    },
    "papermill": {
     "duration": 0.040786,
     "end_time": "2021-09-10T12:11:41.161412",
     "exception": false,
     "start_time": "2021-09-10T12:11:41.120626",
     "status": "completed"
    },
    "tags": []
   },
   "outputs": [],
   "source": [
    "#hide\n",
    "def get_mappings(url):\n",
    "    df = pd.read_csv(url)\n",
    "    return {\n",
    "        'df': df,\n",
    "        'replace.country': dict(df.dropna(subset=['Name']).set_index('Country')['Name']),\n",
    "        'map.continent': dict(df.set_index('Name')['Continent'])\n",
    "    }"
   ]
  },
  {
   "cell_type": "code",
   "execution_count": 5,
   "id": "intimate-machinery",
   "metadata": {
    "execution": {
     "iopub.execute_input": "2021-09-10T12:11:41.232819Z",
     "iopub.status.busy": "2021-09-10T12:11:41.232240Z",
     "iopub.status.idle": "2021-09-10T12:11:41.295437Z",
     "shell.execute_reply": "2021-09-10T12:11:41.295952Z"
    },
    "papermill": {
     "duration": 0.101352,
     "end_time": "2021-09-10T12:11:41.296086",
     "exception": false,
     "start_time": "2021-09-10T12:11:41.194734",
     "status": "completed"
    },
    "tags": []
   },
   "outputs": [],
   "source": [
    "#hide\n",
    "mapping = get_mappings(paths['mapping'])"
   ]
  },
  {
   "cell_type": "code",
   "execution_count": 6,
   "id": "certified-tactics",
   "metadata": {
    "execution": {
     "iopub.execute_input": "2021-09-10T12:11:41.368723Z",
     "iopub.status.busy": "2021-09-10T12:11:41.368086Z",
     "iopub.status.idle": "2021-09-10T12:11:41.370540Z",
     "shell.execute_reply": "2021-09-10T12:11:41.371035Z"
    },
    "papermill": {
     "duration": 0.040458,
     "end_time": "2021-09-10T12:11:41.371157",
     "exception": false,
     "start_time": "2021-09-10T12:11:41.330699",
     "status": "completed"
    },
    "tags": []
   },
   "outputs": [],
   "source": [
    "#hide\n",
    "def get_template(path):\n",
    "    from urllib.parse import urlparse\n",
    "    if bool(urlparse(path).netloc):\n",
    "        from urllib.request import urlopen\n",
    "        return urlopen(path).read().decode('utf8')\n",
    "    return open(path).read()"
   ]
  },
  {
   "cell_type": "code",
   "execution_count": 7,
   "id": "realistic-blast",
   "metadata": {
    "execution": {
     "iopub.execute_input": "2021-09-10T12:11:41.446589Z",
     "iopub.status.busy": "2021-09-10T12:11:41.445967Z",
     "iopub.status.idle": "2021-09-10T12:11:41.449022Z",
     "shell.execute_reply": "2021-09-10T12:11:41.447748Z"
    },
    "papermill": {
     "duration": 0.04344,
     "end_time": "2021-09-10T12:11:41.449159",
     "exception": false,
     "start_time": "2021-09-10T12:11:41.405719",
     "status": "completed"
    },
    "tags": []
   },
   "outputs": [],
   "source": [
    "#hide\n",
    "def get_frame(name):\n",
    "    url = (\n",
    "        'https://raw.githubusercontent.com/CSSEGISandData/COVID-19/master/csse_covid_19_data/'\n",
    "        f'csse_covid_19_time_series/time_series_covid19_{name}_global.csv')\n",
    "    df = pd.read_csv(url)\n",
    "    # rename countries\n",
    "    df['Country/Region'] = df['Country/Region'].replace(mapping['replace.country'])\n",
    "    return df"
   ]
  },
  {
   "cell_type": "code",
   "execution_count": 8,
   "id": "affiliated-characterization",
   "metadata": {
    "execution": {
     "iopub.execute_input": "2021-09-10T12:11:41.521438Z",
     "iopub.status.busy": "2021-09-10T12:11:41.520823Z",
     "iopub.status.idle": "2021-09-10T12:11:41.523167Z",
     "shell.execute_reply": "2021-09-10T12:11:41.522678Z"
    },
    "papermill": {
     "duration": 0.040491,
     "end_time": "2021-09-10T12:11:41.523274",
     "exception": false,
     "start_time": "2021-09-10T12:11:41.482783",
     "status": "completed"
    },
    "tags": []
   },
   "outputs": [],
   "source": [
    "#hide\n",
    "def get_dates(df):\n",
    "    dt_cols = df.columns[~df.columns.isin(['Province/State', 'Country/Region', 'Lat', 'Long'])]\n",
    "    LAST_DATE_I = -1\n",
    "    # sometimes last column may be empty, then go backwards\n",
    "    for i in range(-1, -len(dt_cols), -1):\n",
    "        if not df[dt_cols[i]].fillna(0).eq(0).all():\n",
    "            LAST_DATE_I = i\n",
    "            break\n",
    "    return LAST_DATE_I, dt_cols"
   ]
  },
  {
   "cell_type": "code",
   "execution_count": 9,
   "id": "recent-optimization",
   "metadata": {
    "execution": {
     "iopub.execute_input": "2021-09-10T12:11:41.593420Z",
     "iopub.status.busy": "2021-09-10T12:11:41.592743Z",
     "iopub.status.idle": "2021-09-10T12:11:42.147499Z",
     "shell.execute_reply": "2021-09-10T12:11:42.146521Z"
    },
    "papermill": {
     "duration": 0.591274,
     "end_time": "2021-09-10T12:11:42.147630",
     "exception": false,
     "start_time": "2021-09-10T12:11:41.556356",
     "status": "completed"
    },
    "tags": []
   },
   "outputs": [],
   "source": [
    "#hide\n",
    "COL_REGION = 'Country/Region'\n",
    "# Confirmed, Recovered, Deaths\n",
    "df = get_frame('confirmed')\n",
    "# dft_: timeseries, dfc_: today country agg\n",
    "dft_cases = df\n",
    "dft_deaths = get_frame('deaths')\n",
    "dft_recovered = get_frame('recovered')\n",
    "LAST_DATE_I, dt_cols = get_dates(df)"
   ]
  },
  {
   "cell_type": "code",
   "execution_count": 10,
   "id": "absolute-copper",
   "metadata": {
    "execution": {
     "iopub.execute_input": "2021-09-10T12:11:42.219110Z",
     "iopub.status.busy": "2021-09-10T12:11:42.218400Z",
     "iopub.status.idle": "2021-09-10T12:11:42.220525Z",
     "shell.execute_reply": "2021-09-10T12:11:42.219971Z"
    },
    "papermill": {
     "duration": 0.040118,
     "end_time": "2021-09-10T12:11:42.220637",
     "exception": false,
     "start_time": "2021-09-10T12:11:42.180519",
     "status": "completed"
    },
    "tags": []
   },
   "outputs": [],
   "source": [
    "#hide\n",
    "LAST_DATE_I, dt_cols = get_dates(df)\n",
    "dt_today =dt_cols[LAST_DATE_I]\n",
    "# dt_5day = dt_cols[LAST_DATE_I - 5]\n",
    "dt_yday = dt_cols[LAST_DATE_I - 1]"
   ]
  },
  {
   "cell_type": "code",
   "execution_count": 11,
   "id": "restricted-sheriff",
   "metadata": {
    "execution": {
     "iopub.execute_input": "2021-09-10T12:11:42.292591Z",
     "iopub.status.busy": "2021-09-10T12:11:42.291978Z",
     "iopub.status.idle": "2021-09-10T12:11:42.300411Z",
     "shell.execute_reply": "2021-09-10T12:11:42.299913Z"
    },
    "papermill": {
     "duration": 0.047558,
     "end_time": "2021-09-10T12:11:42.300527",
     "exception": false,
     "start_time": "2021-09-10T12:11:42.252969",
     "status": "completed"
    },
    "tags": []
   },
   "outputs": [],
   "source": [
    "#hide\n",
    "dfc_cases = dft_cases.groupby(COL_REGION)[dt_today].sum()\n",
    "dfc_deaths = dft_deaths.groupby(COL_REGION)[dt_today].sum()\n",
    "# dfp_cases = dft_cases.groupby(COL_REGION)[dt_5day].sum()\n",
    "# dfp_deaths = dft_deaths.groupby(COL_REGION)[dt_5day].sum()\n",
    "dfp_cases = dft_cases.groupby(COL_REGION)[dt_yday].sum()\n",
    "dfp_deaths = dft_deaths.groupby(COL_REGION)[dt_yday].sum()"
   ]
  },
  {
   "cell_type": "code",
   "execution_count": 12,
   "id": "deluxe-hepatitis",
   "metadata": {
    "execution": {
     "iopub.execute_input": "2021-09-10T12:11:42.373577Z",
     "iopub.status.busy": "2021-09-10T12:11:42.372980Z",
     "iopub.status.idle": "2021-09-10T12:11:42.377425Z",
     "shell.execute_reply": "2021-09-10T12:11:42.377955Z"
    },
    "papermill": {
     "duration": 0.04421,
     "end_time": "2021-09-10T12:11:42.378076",
     "exception": false,
     "start_time": "2021-09-10T12:11:42.333866",
     "status": "completed"
    },
    "tags": []
   },
   "outputs": [],
   "source": [
    "#hide\n",
    "df_table = (pd.DataFrame(dict(Cases = dfc_cases, Deaths = dfc_deaths, PCases = dfp_cases, PDeaths = dfp_deaths))\n",
    "            .sort_values(by = ['Cases','Deaths'], ascending = [False, False])\n",
    "            .reset_index())"
   ]
  },
  {
   "cell_type": "code",
   "execution_count": 13,
   "id": "educational-chancellor",
   "metadata": {
    "execution": {
     "iopub.execute_input": "2021-09-10T12:11:42.458528Z",
     "iopub.status.busy": "2021-09-10T12:11:42.457867Z",
     "iopub.status.idle": "2021-09-10T12:11:42.471161Z",
     "shell.execute_reply": "2021-09-10T12:11:42.470668Z"
    },
    "papermill": {
     "duration": 0.060309,
     "end_time": "2021-09-10T12:11:42.471280",
     "exception": false,
     "start_time": "2021-09-10T12:11:42.410971",
     "status": "completed"
    },
    "tags": []
   },
   "outputs": [
    {
     "data": {
      "text/html": [
       "<div>\n",
       "<style scoped>\n",
       "    .dataframe tbody tr th:only-of-type {\n",
       "        vertical-align: middle;\n",
       "    }\n",
       "\n",
       "    .dataframe tbody tr th {\n",
       "        vertical-align: top;\n",
       "    }\n",
       "\n",
       "    .dataframe thead th {\n",
       "        text-align: right;\n",
       "    }\n",
       "</style>\n",
       "<table border=\"1\" class=\"dataframe\">\n",
       "  <thead>\n",
       "    <tr style=\"text-align: right;\">\n",
       "      <th></th>\n",
       "      <th>Country/Region</th>\n",
       "      <th>Cases</th>\n",
       "      <th>Deaths</th>\n",
       "      <th>PCases</th>\n",
       "      <th>PDeaths</th>\n",
       "      <th>Cases (+)</th>\n",
       "      <th>Deaths (+)</th>\n",
       "      <th>Fatality Rate</th>\n",
       "      <th>Continent</th>\n",
       "    </tr>\n",
       "  </thead>\n",
       "  <tbody>\n",
       "    <tr>\n",
       "      <th>0</th>\n",
       "      <td>US</td>\n",
       "      <td>40601792</td>\n",
       "      <td>654583</td>\n",
       "      <td>40456711</td>\n",
       "      <td>652657</td>\n",
       "      <td>145081</td>\n",
       "      <td>1926</td>\n",
       "      <td>1.61</td>\n",
       "      <td>North America</td>\n",
       "    </tr>\n",
       "    <tr>\n",
       "      <th>1</th>\n",
       "      <td>India</td>\n",
       "      <td>33174954</td>\n",
       "      <td>442009</td>\n",
       "      <td>33139981</td>\n",
       "      <td>441749</td>\n",
       "      <td>34973</td>\n",
       "      <td>260</td>\n",
       "      <td>1.33</td>\n",
       "      <td>Asia</td>\n",
       "    </tr>\n",
       "    <tr>\n",
       "      <th>2</th>\n",
       "      <td>Brazil</td>\n",
       "      <td>20958899</td>\n",
       "      <td>585174</td>\n",
       "      <td>20928008</td>\n",
       "      <td>584421</td>\n",
       "      <td>30891</td>\n",
       "      <td>753</td>\n",
       "      <td>2.79</td>\n",
       "      <td>South America</td>\n",
       "    </tr>\n",
       "    <tr>\n",
       "      <th>3</th>\n",
       "      <td>United Kingdom</td>\n",
       "      <td>7165200</td>\n",
       "      <td>134166</td>\n",
       "      <td>7127630</td>\n",
       "      <td>133999</td>\n",
       "      <td>37570</td>\n",
       "      <td>167</td>\n",
       "      <td>1.87</td>\n",
       "      <td>Europe</td>\n",
       "    </tr>\n",
       "    <tr>\n",
       "      <th>4</th>\n",
       "      <td>Russia</td>\n",
       "      <td>6982628</td>\n",
       "      <td>186999</td>\n",
       "      <td>6964595</td>\n",
       "      <td>186224</td>\n",
       "      <td>18033</td>\n",
       "      <td>775</td>\n",
       "      <td>2.68</td>\n",
       "      <td>Europe</td>\n",
       "    </tr>\n",
       "  </tbody>\n",
       "</table>\n",
       "</div>"
      ],
      "text/plain": [
       "   Country/Region     Cases  Deaths    PCases  PDeaths  Cases (+)  Deaths (+)  \\\n",
       "0              US  40601792  654583  40456711   652657     145081        1926   \n",
       "1           India  33174954  442009  33139981   441749      34973         260   \n",
       "2          Brazil  20958899  585174  20928008   584421      30891         753   \n",
       "3  United Kingdom   7165200  134166   7127630   133999      37570         167   \n",
       "4          Russia   6982628  186999   6964595   186224      18033         775   \n",
       "\n",
       "   Fatality Rate      Continent  \n",
       "0           1.61  North America  \n",
       "1           1.33           Asia  \n",
       "2           2.79  South America  \n",
       "3           1.87         Europe  \n",
       "4           2.68         Europe  "
      ]
     },
     "execution_count": 13,
     "metadata": {},
     "output_type": "execute_result"
    }
   ],
   "source": [
    "#hide\n",
    "for c in 'Cases, Deaths'.split(', '):\n",
    "    df_table[f'{c} (+)'] = (df_table[c] - df_table[f'P{c}']).clip(0)\n",
    "    #Clip ça veut dire, les chiffres negatif sont interdit\n",
    "df_table['Fatality Rate'] = (100* df_table['Deaths']/ df_table['Cases']).round(2)\n",
    "df_table['Continent'] = df_table['Country/Region'].map(mapping['map.continent'])\n",
    "df_table.head(5)"
   ]
  },
  {
   "cell_type": "code",
   "execution_count": 14,
   "id": "aboriginal-bulgaria",
   "metadata": {
    "execution": {
     "iopub.execute_input": "2021-09-10T12:11:42.546188Z",
     "iopub.status.busy": "2021-09-10T12:11:42.545614Z",
     "iopub.status.idle": "2021-09-10T12:11:42.548310Z",
     "shell.execute_reply": "2021-09-10T12:11:42.548862Z"
    },
    "papermill": {
     "duration": 0.041941,
     "end_time": "2021-09-10T12:11:42.548988",
     "exception": false,
     "start_time": "2021-09-10T12:11:42.507047",
     "status": "completed"
    },
    "tags": []
   },
   "outputs": [],
   "source": [
    "#hide\n",
    "#delete problematic countries from table\n",
    "df_table = df_table[~df_table['Country/Region'].isin(['Cape Verde', 'Cruise Ship', 'Kosovo'])]"
   ]
  },
  {
   "cell_type": "code",
   "execution_count": 15,
   "id": "fantastic-effect",
   "metadata": {
    "execution": {
     "iopub.execute_input": "2021-09-10T12:11:42.623443Z",
     "iopub.status.busy": "2021-09-10T12:11:42.622863Z",
     "iopub.status.idle": "2021-09-10T12:11:42.643679Z",
     "shell.execute_reply": "2021-09-10T12:11:42.644176Z"
    },
    "papermill": {
     "duration": 0.061049,
     "end_time": "2021-09-10T12:11:42.644301",
     "exception": false,
     "start_time": "2021-09-10T12:11:42.583252",
     "status": "completed"
    },
    "tags": []
   },
   "outputs": [
    {
     "data": {
      "text/html": [
       "<div>\n",
       "<style scoped>\n",
       "    .dataframe tbody tr th:only-of-type {\n",
       "        vertical-align: middle;\n",
       "    }\n",
       "\n",
       "    .dataframe tbody tr th {\n",
       "        vertical-align: top;\n",
       "    }\n",
       "\n",
       "    .dataframe thead th {\n",
       "        text-align: right;\n",
       "    }\n",
       "</style>\n",
       "<table border=\"1\" class=\"dataframe\">\n",
       "  <thead>\n",
       "    <tr style=\"text-align: right;\">\n",
       "      <th></th>\n",
       "      <th>Country/Region</th>\n",
       "      <th>Cases</th>\n",
       "      <th>Deaths</th>\n",
       "      <th>PCases</th>\n",
       "      <th>PDeaths</th>\n",
       "      <th>Cases (+)</th>\n",
       "      <th>Deaths (+)</th>\n",
       "      <th>Fatality Rate</th>\n",
       "      <th>Continent</th>\n",
       "    </tr>\n",
       "  </thead>\n",
       "  <tbody>\n",
       "    <tr>\n",
       "      <th>0</th>\n",
       "      <td>US</td>\n",
       "      <td>40601792</td>\n",
       "      <td>654583</td>\n",
       "      <td>40456711</td>\n",
       "      <td>652657</td>\n",
       "      <td>145081</td>\n",
       "      <td>1926</td>\n",
       "      <td>1.6</td>\n",
       "      <td>North America</td>\n",
       "    </tr>\n",
       "    <tr>\n",
       "      <th>1</th>\n",
       "      <td>India</td>\n",
       "      <td>33174954</td>\n",
       "      <td>442009</td>\n",
       "      <td>33139981</td>\n",
       "      <td>441749</td>\n",
       "      <td>34973</td>\n",
       "      <td>260</td>\n",
       "      <td>1.3</td>\n",
       "      <td>Asia</td>\n",
       "    </tr>\n",
       "    <tr>\n",
       "      <th>2</th>\n",
       "      <td>Brazil</td>\n",
       "      <td>20958899</td>\n",
       "      <td>585174</td>\n",
       "      <td>20928008</td>\n",
       "      <td>584421</td>\n",
       "      <td>30891</td>\n",
       "      <td>753</td>\n",
       "      <td>2.8</td>\n",
       "      <td>South America</td>\n",
       "    </tr>\n",
       "    <tr>\n",
       "      <th>3</th>\n",
       "      <td>United Kingdom</td>\n",
       "      <td>7165200</td>\n",
       "      <td>134166</td>\n",
       "      <td>7127630</td>\n",
       "      <td>133999</td>\n",
       "      <td>37570</td>\n",
       "      <td>167</td>\n",
       "      <td>1.9</td>\n",
       "      <td>Europe</td>\n",
       "    </tr>\n",
       "    <tr>\n",
       "      <th>4</th>\n",
       "      <td>Russia</td>\n",
       "      <td>6982628</td>\n",
       "      <td>186999</td>\n",
       "      <td>6964595</td>\n",
       "      <td>186224</td>\n",
       "      <td>18033</td>\n",
       "      <td>775</td>\n",
       "      <td>2.7</td>\n",
       "      <td>Europe</td>\n",
       "    </tr>\n",
       "  </tbody>\n",
       "</table>\n",
       "</div>"
      ],
      "text/plain": [
       "   Country/Region     Cases  Deaths    PCases  PDeaths  Cases (+)  Deaths (+)  \\\n",
       "0              US  40601792  654583  40456711   652657     145081        1926   \n",
       "1           India  33174954  442009  33139981   441749      34973         260   \n",
       "2          Brazil  20958899  585174  20928008   584421      30891         753   \n",
       "3  United Kingdom   7165200  134166   7127630   133999      37570         167   \n",
       "4          Russia   6982628  186999   6964595   186224      18033         775   \n",
       "\n",
       "   Fatality Rate      Continent  \n",
       "0            1.6  North America  \n",
       "1            1.3           Asia  \n",
       "2            2.8  South America  \n",
       "3            1.9         Europe  \n",
       "4            2.7         Europe  "
      ]
     },
     "execution_count": 15,
     "metadata": {},
     "output_type": "execute_result"
    }
   ],
   "source": [
    "#hide\n",
    "df_table = (pd.DataFrame(dict(Cases=dfc_cases, Deaths=dfc_deaths, PCases=dfp_cases, PDeaths=dfp_deaths))\n",
    "             .sort_values(by=['Cases', 'Deaths'], ascending=[False, False])\n",
    "             .reset_index())\n",
    "df_table.rename(columns={'index': 'Country/Region'}, inplace=True)\n",
    "for c in 'Cases, Deaths'.split(', '):\n",
    "    df_table[f'{c} (+)'] = (df_table[c] - df_table[f'P{c}']).clip(0)  # DATA BUG\n",
    "df_table['Fatality Rate'] = (100 * df_table['Deaths'] / df_table['Cases']).round(1)\n",
    "df_table['Continent'] = df_table['Country/Region'].map(mapping['map.continent'])\n",
    "df_table.head(5)"
   ]
  },
  {
   "cell_type": "code",
   "execution_count": 16,
   "id": "fewer-occasion",
   "metadata": {
    "execution": {
     "iopub.execute_input": "2021-09-10T12:11:42.717862Z",
     "iopub.status.busy": "2021-09-10T12:11:42.717289Z",
     "iopub.status.idle": "2021-09-10T12:11:42.720263Z",
     "shell.execute_reply": "2021-09-10T12:11:42.720880Z"
    },
    "papermill": {
     "duration": 0.042424,
     "end_time": "2021-09-10T12:11:42.721015",
     "exception": false,
     "start_time": "2021-09-10T12:11:42.678591",
     "status": "completed"
    },
    "tags": []
   },
   "outputs": [],
   "source": [
    "#hide\n",
    "#delete problematic countries from table\n",
    "df_table = df_table[~df_table['Country/Region'].isin(['Cape Verde', 'Cruise Ship', 'Kosovo'])]"
   ]
  },
  {
   "cell_type": "code",
   "execution_count": 17,
   "id": "related-center",
   "metadata": {
    "execution": {
     "iopub.execute_input": "2021-09-10T12:11:42.795342Z",
     "iopub.status.busy": "2021-09-10T12:11:42.794761Z",
     "iopub.status.idle": "2021-09-10T12:11:42.808658Z",
     "shell.execute_reply": "2021-09-10T12:11:42.808090Z"
    },
    "papermill": {
     "duration": 0.053834,
     "end_time": "2021-09-10T12:11:42.808769",
     "exception": false,
     "start_time": "2021-09-10T12:11:42.754935",
     "status": "completed"
    },
    "tags": []
   },
   "outputs": [],
   "source": [
    "#hide\n",
    "metrics = [df_table.columns[index] for index in [1,2,5,6]]\n",
    "# s_china = df_table[df_table['Country/Region'].eq('China')][metrics].sum().add_prefix('China ')\n",
    "s_us = df_table[df_table['Country/Region'].eq('US')][metrics].sum().add_prefix('US ')\n",
    "s_eu = df_table[df_table['Continent'].eq('Europe')][metrics].sum().add_prefix('EU ')\n",
    "s_ind = df_table[df_table['Country/Region'].eq('India')][metrics].sum().add_prefix('India ')\n",
    "summary = {'updated': pd.to_datetime(dt_today), 'since': pd.to_datetime(dt_yday)}\n",
    "summary = {'updated': pd.to_datetime(dt_today), 'since': pd.to_datetime(dt_yday)}\n",
    "summary = {**summary, **df_table[metrics].sum(), **s_ind, **s_us, **s_eu}"
   ]
  },
  {
   "cell_type": "code",
   "execution_count": 18,
   "id": "engaging-syndrome",
   "metadata": {
    "execution": {
     "iopub.execute_input": "2021-09-10T12:11:42.881670Z",
     "iopub.status.busy": "2021-09-10T12:11:42.881094Z",
     "iopub.status.idle": "2021-09-10T12:11:42.893592Z",
     "shell.execute_reply": "2021-09-10T12:11:42.894091Z"
    },
    "papermill": {
     "duration": 0.051104,
     "end_time": "2021-09-10T12:11:42.894217",
     "exception": false,
     "start_time": "2021-09-10T12:11:42.843113",
     "status": "completed"
    },
    "tags": []
   },
   "outputs": [],
   "source": [
    "#hide\n",
    "dft_ct_new_cases = dft_cases.groupby(COL_REGION)[dt_cols].sum().diff(axis=1).fillna(0).astype(int)"
   ]
  },
  {
   "cell_type": "code",
   "execution_count": 19,
   "id": "neutral-assignment",
   "metadata": {
    "execution": {
     "iopub.execute_input": "2021-09-10T12:11:42.968237Z",
     "iopub.status.busy": "2021-09-10T12:11:42.967659Z",
     "iopub.status.idle": "2021-09-10T12:11:42.970286Z",
     "shell.execute_reply": "2021-09-10T12:11:42.969794Z"
    },
    "papermill": {
     "duration": 0.041412,
     "end_time": "2021-09-10T12:11:42.970474",
     "exception": false,
     "start_time": "2021-09-10T12:11:42.929062",
     "status": "completed"
    },
    "tags": []
   },
   "outputs": [],
   "source": [
    "#hide\n",
    "everydaycases = dft_ct_new_cases.cumsum(axis=1)"
   ]
  },
  {
   "cell_type": "code",
   "execution_count": 20,
   "id": "parliamentary-calgary",
   "metadata": {
    "execution": {
     "iopub.execute_input": "2021-09-10T12:11:43.039922Z",
     "iopub.status.busy": "2021-09-10T12:11:43.039309Z",
     "iopub.status.idle": "2021-09-10T12:11:43.781673Z",
     "shell.execute_reply": "2021-09-10T12:11:43.782181Z"
    },
    "papermill": {
     "duration": 0.77822,
     "end_time": "2021-09-10T12:11:43.782340",
     "exception": false,
     "start_time": "2021-09-10T12:11:43.004120",
     "status": "completed"
    },
    "tags": []
   },
   "outputs": [],
   "source": [
    "#hide\n",
    "import pandas as pd\n",
    "import matplotlib.pyplot as plt\n",
    "import matplotlib.ticker as ticker\n",
    "import matplotlib.animation as animation\n",
    "from IPython.display import HTML"
   ]
  },
  {
   "cell_type": "code",
   "execution_count": 21,
   "id": "lasting-extraction",
   "metadata": {
    "execution": {
     "iopub.execute_input": "2021-09-10T12:11:43.857328Z",
     "iopub.status.busy": "2021-09-10T12:11:43.856751Z",
     "iopub.status.idle": "2021-09-10T12:11:43.862487Z",
     "shell.execute_reply": "2021-09-10T12:11:43.861994Z"
    },
    "papermill": {
     "duration": 0.045747,
     "end_time": "2021-09-10T12:11:43.862600",
     "exception": false,
     "start_time": "2021-09-10T12:11:43.816853",
     "status": "completed"
    },
    "tags": []
   },
   "outputs": [],
   "source": [
    "#hide\n",
    "t = everydaycases.stack()"
   ]
  },
  {
   "cell_type": "code",
   "execution_count": 22,
   "id": "premier-sleeve",
   "metadata": {
    "execution": {
     "iopub.execute_input": "2021-09-10T12:11:43.935359Z",
     "iopub.status.busy": "2021-09-10T12:11:43.934777Z",
     "iopub.status.idle": "2021-09-10T12:11:43.942877Z",
     "shell.execute_reply": "2021-09-10T12:11:43.943352Z"
    },
    "papermill": {
     "duration": 0.045792,
     "end_time": "2021-09-10T12:11:43.943499",
     "exception": false,
     "start_time": "2021-09-10T12:11:43.897707",
     "status": "completed"
    },
    "tags": []
   },
   "outputs": [],
   "source": [
    "#hide\n",
    "g = t.reset_index(['Country/Region'])"
   ]
  },
  {
   "cell_type": "code",
   "execution_count": 23,
   "id": "distributed-pittsburgh",
   "metadata": {
    "execution": {
     "iopub.execute_input": "2021-09-10T12:11:44.015595Z",
     "iopub.status.busy": "2021-09-10T12:11:44.014997Z",
     "iopub.status.idle": "2021-09-10T12:11:44.016813Z",
     "shell.execute_reply": "2021-09-10T12:11:44.017366Z"
    },
    "papermill": {
     "duration": 0.039272,
     "end_time": "2021-09-10T12:11:44.017491",
     "exception": false,
     "start_time": "2021-09-10T12:11:43.978219",
     "status": "completed"
    },
    "tags": []
   },
   "outputs": [],
   "source": [
    "#hide\n",
    "g.index.name = 'date'"
   ]
  },
  {
   "cell_type": "code",
   "execution_count": 24,
   "id": "naked-donor",
   "metadata": {
    "execution": {
     "iopub.execute_input": "2021-09-10T12:11:44.089618Z",
     "iopub.status.busy": "2021-09-10T12:11:44.089030Z",
     "iopub.status.idle": "2021-09-10T12:11:44.091234Z",
     "shell.execute_reply": "2021-09-10T12:11:44.091718Z"
    },
    "papermill": {
     "duration": 0.040331,
     "end_time": "2021-09-10T12:11:44.091844",
     "exception": false,
     "start_time": "2021-09-10T12:11:44.051513",
     "status": "completed"
    },
    "tags": []
   },
   "outputs": [],
   "source": [
    "# #hide\n",
    "# g = g.reset_index(['date'])"
   ]
  },
  {
   "cell_type": "code",
   "execution_count": 25,
   "id": "incomplete-mustang",
   "metadata": {
    "execution": {
     "iopub.execute_input": "2021-09-10T12:11:44.162408Z",
     "iopub.status.busy": "2021-09-10T12:11:44.161834Z",
     "iopub.status.idle": "2021-09-10T12:11:44.164213Z",
     "shell.execute_reply": "2021-09-10T12:11:44.163724Z"
    },
    "papermill": {
     "duration": 0.03921,
     "end_time": "2021-09-10T12:11:44.164320",
     "exception": false,
     "start_time": "2021-09-10T12:11:44.125110",
     "status": "completed"
    },
    "tags": []
   },
   "outputs": [],
   "source": [
    "#hide\n",
    "# g.head()"
   ]
  },
  {
   "cell_type": "code",
   "execution_count": 26,
   "id": "specific-kruger",
   "metadata": {
    "execution": {
     "iopub.execute_input": "2021-09-10T12:11:44.237280Z",
     "iopub.status.busy": "2021-09-10T12:11:44.236698Z",
     "iopub.status.idle": "2021-09-10T12:11:44.238484Z",
     "shell.execute_reply": "2021-09-10T12:11:44.238951Z"
    },
    "papermill": {
     "duration": 0.040476,
     "end_time": "2021-09-10T12:11:44.239070",
     "exception": false,
     "start_time": "2021-09-10T12:11:44.198594",
     "status": "completed"
    },
    "tags": []
   },
   "outputs": [],
   "source": [
    "#hide\n",
    "# g.columns = ['date','country','cases']"
   ]
  },
  {
   "cell_type": "code",
   "execution_count": 27,
   "id": "tender-conversion",
   "metadata": {
    "execution": {
     "iopub.execute_input": "2021-09-10T12:11:44.310117Z",
     "iopub.status.busy": "2021-09-10T12:11:44.309545Z",
     "iopub.status.idle": "2021-09-10T12:11:44.312083Z",
     "shell.execute_reply": "2021-09-10T12:11:44.311380Z"
    },
    "papermill": {
     "duration": 0.03895,
     "end_time": "2021-09-10T12:11:44.312226",
     "exception": false,
     "start_time": "2021-09-10T12:11:44.273276",
     "status": "completed"
    },
    "tags": []
   },
   "outputs": [],
   "source": [
    "#hide\n",
    "# g['continent'] = g.country"
   ]
  },
  {
   "cell_type": "code",
   "execution_count": 28,
   "id": "substantial-wilderness",
   "metadata": {
    "execution": {
     "iopub.execute_input": "2021-09-10T12:11:44.384980Z",
     "iopub.status.busy": "2021-09-10T12:11:44.384409Z",
     "iopub.status.idle": "2021-09-10T12:11:44.386716Z",
     "shell.execute_reply": "2021-09-10T12:11:44.386229Z"
    },
    "papermill": {
     "duration": 0.03973,
     "end_time": "2021-09-10T12:11:44.386825",
     "exception": false,
     "start_time": "2021-09-10T12:11:44.347095",
     "status": "completed"
    },
    "tags": []
   },
   "outputs": [],
   "source": [
    "#hide\n",
    "# cols = list(g.columns.values)"
   ]
  },
  {
   "cell_type": "code",
   "execution_count": 29,
   "id": "solved-farming",
   "metadata": {
    "execution": {
     "iopub.execute_input": "2021-09-10T12:11:44.458734Z",
     "iopub.status.busy": "2021-09-10T12:11:44.458158Z",
     "iopub.status.idle": "2021-09-10T12:11:44.460115Z",
     "shell.execute_reply": "2021-09-10T12:11:44.460609Z"
    },
    "papermill": {
     "duration": 0.038941,
     "end_time": "2021-09-10T12:11:44.460728",
     "exception": false,
     "start_time": "2021-09-10T12:11:44.421787",
     "status": "completed"
    },
    "tags": []
   },
   "outputs": [],
   "source": [
    "#hide\n",
    "# cols.insert(0, cols.pop())"
   ]
  },
  {
   "cell_type": "code",
   "execution_count": 30,
   "id": "executed-adoption",
   "metadata": {
    "execution": {
     "iopub.execute_input": "2021-09-10T12:11:44.532233Z",
     "iopub.status.busy": "2021-09-10T12:11:44.531653Z",
     "iopub.status.idle": "2021-09-10T12:11:44.533645Z",
     "shell.execute_reply": "2021-09-10T12:11:44.534269Z"
    },
    "papermill": {
     "duration": 0.038891,
     "end_time": "2021-09-10T12:11:44.534396",
     "exception": false,
     "start_time": "2021-09-10T12:11:44.495505",
     "status": "completed"
    },
    "tags": []
   },
   "outputs": [],
   "source": [
    "#hide\n",
    "# g = g[cols]"
   ]
  },
  {
   "cell_type": "code",
   "execution_count": 31,
   "id": "subject-dublin",
   "metadata": {
    "execution": {
     "iopub.execute_input": "2021-09-10T12:11:44.606999Z",
     "iopub.status.busy": "2021-09-10T12:11:44.606425Z",
     "iopub.status.idle": "2021-09-10T12:11:44.608249Z",
     "shell.execute_reply": "2021-09-10T12:11:44.608795Z"
    },
    "papermill": {
     "duration": 0.040877,
     "end_time": "2021-09-10T12:11:44.608914",
     "exception": false,
     "start_time": "2021-09-10T12:11:44.568037",
     "status": "completed"
    },
    "tags": []
   },
   "outputs": [],
   "source": [
    "#hide\n",
    "# g['continent'] = g['continent'].map(mapping['map.continent'])"
   ]
  },
  {
   "cell_type": "code",
   "execution_count": 32,
   "id": "freelance-scout",
   "metadata": {
    "execution": {
     "iopub.execute_input": "2021-09-10T12:11:44.679891Z",
     "iopub.status.busy": "2021-09-10T12:11:44.679211Z",
     "iopub.status.idle": "2021-09-10T12:11:44.681412Z",
     "shell.execute_reply": "2021-09-10T12:11:44.680850Z"
    },
    "papermill": {
     "duration": 0.039216,
     "end_time": "2021-09-10T12:11:44.681520",
     "exception": false,
     "start_time": "2021-09-10T12:11:44.642304",
     "status": "completed"
    },
    "tags": []
   },
   "outputs": [],
   "source": [
    "#hide\n",
    "# g.head()"
   ]
  },
  {
   "cell_type": "code",
   "execution_count": 33,
   "id": "limited-engine",
   "metadata": {
    "execution": {
     "iopub.execute_input": "2021-09-10T12:11:44.753274Z",
     "iopub.status.busy": "2021-09-10T12:11:44.752702Z",
     "iopub.status.idle": "2021-09-10T12:11:44.755198Z",
     "shell.execute_reply": "2021-09-10T12:11:44.756084Z"
    },
    "papermill": {
     "duration": 0.039921,
     "end_time": "2021-09-10T12:11:44.756212",
     "exception": false,
     "start_time": "2021-09-10T12:11:44.716291",
     "status": "completed"
    },
    "tags": []
   },
   "outputs": [],
   "source": [
    "# hide\n",
    "# g['date'] = g['date'].astype('datetime64[ns]')"
   ]
  },
  {
   "cell_type": "code",
   "execution_count": 34,
   "id": "sophisticated-supervisor",
   "metadata": {
    "execution": {
     "iopub.execute_input": "2021-09-10T12:11:44.829546Z",
     "iopub.status.busy": "2021-09-10T12:11:44.828363Z",
     "iopub.status.idle": "2021-09-10T12:11:44.830190Z",
     "shell.execute_reply": "2021-09-10T12:11:44.830656Z"
    },
    "papermill": {
     "duration": 0.039822,
     "end_time": "2021-09-10T12:11:44.830777",
     "exception": false,
     "start_time": "2021-09-10T12:11:44.790955",
     "status": "completed"
    },
    "tags": []
   },
   "outputs": [],
   "source": [
    "#hide\n",
    "# g['date'] = g.date.dt.dayofyear"
   ]
  },
  {
   "cell_type": "code",
   "execution_count": 35,
   "id": "inside-dubai",
   "metadata": {
    "execution": {
     "iopub.execute_input": "2021-09-10T12:11:44.904417Z",
     "iopub.status.busy": "2021-09-10T12:11:44.903101Z",
     "iopub.status.idle": "2021-09-10T12:11:44.905089Z",
     "shell.execute_reply": "2021-09-10T12:11:44.905556Z"
    },
    "papermill": {
     "duration": 0.041334,
     "end_time": "2021-09-10T12:11:44.905678",
     "exception": false,
     "start_time": "2021-09-10T12:11:44.864344",
     "status": "completed"
    },
    "tags": []
   },
   "outputs": [],
   "source": [
    "#hide\n",
    "# g = g.rename(columns= {'continent':'group','country':'name','cases':'value'})"
   ]
  },
  {
   "cell_type": "code",
   "execution_count": 36,
   "id": "fleet-motorcycle",
   "metadata": {
    "execution": {
     "iopub.execute_input": "2021-09-10T12:11:44.976441Z",
     "iopub.status.busy": "2021-09-10T12:11:44.975870Z",
     "iopub.status.idle": "2021-09-10T12:11:44.978704Z",
     "shell.execute_reply": "2021-09-10T12:11:44.979201Z"
    },
    "papermill": {
     "duration": 0.039241,
     "end_time": "2021-09-10T12:11:44.979320",
     "exception": false,
     "start_time": "2021-09-10T12:11:44.940079",
     "status": "completed"
    },
    "tags": []
   },
   "outputs": [],
   "source": [
    "#hide\n",
    "# cols = ['name','group','day','value']"
   ]
  },
  {
   "cell_type": "code",
   "execution_count": 37,
   "id": "continued-sleeping",
   "metadata": {
    "execution": {
     "iopub.execute_input": "2021-09-10T12:11:45.050706Z",
     "iopub.status.busy": "2021-09-10T12:11:45.050133Z",
     "iopub.status.idle": "2021-09-10T12:11:45.051979Z",
     "shell.execute_reply": "2021-09-10T12:11:45.052523Z"
    },
    "papermill": {
     "duration": 0.039667,
     "end_time": "2021-09-10T12:11:45.052644",
     "exception": false,
     "start_time": "2021-09-10T12:11:45.012977",
     "status": "completed"
    },
    "tags": []
   },
   "outputs": [],
   "source": [
    "#hide\n",
    "# g.rename(columns= {'date':'day'},inplace = True)"
   ]
  },
  {
   "cell_type": "code",
   "execution_count": 38,
   "id": "major-fight",
   "metadata": {
    "execution": {
     "iopub.execute_input": "2021-09-10T12:11:45.127462Z",
     "iopub.status.busy": "2021-09-10T12:11:45.126888Z",
     "iopub.status.idle": "2021-09-10T12:11:45.128886Z",
     "shell.execute_reply": "2021-09-10T12:11:45.129422Z"
    },
    "papermill": {
     "duration": 0.039533,
     "end_time": "2021-09-10T12:11:45.129545",
     "exception": false,
     "start_time": "2021-09-10T12:11:45.090012",
     "status": "completed"
    },
    "tags": []
   },
   "outputs": [],
   "source": [
    "#hide\n",
    "# g = g[cols]"
   ]
  },
  {
   "cell_type": "code",
   "execution_count": 39,
   "id": "structured-mobile",
   "metadata": {
    "execution": {
     "iopub.execute_input": "2021-09-10T12:11:45.201101Z",
     "iopub.status.busy": "2021-09-10T12:11:45.200507Z",
     "iopub.status.idle": "2021-09-10T12:11:45.203946Z",
     "shell.execute_reply": "2021-09-10T12:11:45.203432Z"
    },
    "papermill": {
     "duration": 0.039903,
     "end_time": "2021-09-10T12:11:45.204055",
     "exception": false,
     "start_time": "2021-09-10T12:11:45.164152",
     "status": "completed"
    },
    "tags": []
   },
   "outputs": [],
   "source": [
    "# #hide\n",
    "# g = g[g.group.notna()]"
   ]
  },
  {
   "cell_type": "code",
   "execution_count": 40,
   "id": "determined-closing",
   "metadata": {
    "execution": {
     "iopub.execute_input": "2021-09-10T12:11:45.275706Z",
     "iopub.status.busy": "2021-09-10T12:11:45.275101Z",
     "iopub.status.idle": "2021-09-10T12:11:45.276964Z",
     "shell.execute_reply": "2021-09-10T12:11:45.277458Z"
    },
    "papermill": {
     "duration": 0.040131,
     "end_time": "2021-09-10T12:11:45.277579",
     "exception": false,
     "start_time": "2021-09-10T12:11:45.237448",
     "status": "completed"
    },
    "tags": []
   },
   "outputs": [],
   "source": [
    "# #hide\n",
    "# colors = dict(zip(\n",
    "#     [\"Oceania\", \"Europe\", \"Asia\", \"South America\", \"Middle East\", \"North America\", \"Africa\"],\n",
    "#     [\"#adb0ff\", \"#ffb3ff\", \"#90d595\", \"#e48381\", \"#aafbff\", \"#f7bb5f\", \"#eafb50\"]\n",
    "# ))\n",
    "# group_lk = g.set_index('name')['group'].to_dict()"
   ]
  },
  {
   "cell_type": "code",
   "execution_count": null,
   "id": "gross-drinking",
   "metadata": {
    "papermill": {
     "duration": 0.033917,
     "end_time": "2021-09-10T12:11:45.346656",
     "exception": false,
     "start_time": "2021-09-10T12:11:45.312739",
     "status": "completed"
    },
    "tags": []
   },
   "outputs": [],
   "source": []
  },
  {
   "cell_type": "code",
   "execution_count": 41,
   "id": "subject-macintosh",
   "metadata": {
    "execution": {
     "iopub.execute_input": "2021-09-10T12:11:45.418721Z",
     "iopub.status.busy": "2021-09-10T12:11:45.418131Z",
     "iopub.status.idle": "2021-09-10T12:11:45.420012Z",
     "shell.execute_reply": "2021-09-10T12:11:45.420632Z"
    },
    "papermill": {
     "duration": 0.040334,
     "end_time": "2021-09-10T12:11:45.420776",
     "exception": false,
     "start_time": "2021-09-10T12:11:45.380442",
     "status": "completed"
    },
    "tags": []
   },
   "outputs": [],
   "source": [
    "# #hide\n",
    "# fig, ax = plt.subplots(figsize=(15, 8))\n",
    "\n",
    "# def draw_barchart(current_day):\n",
    "#     dff = g[g['day'].eq(current_day)].sort_values(by='value', ascending=True).tail(10)\n",
    "#     ax.clear()\n",
    "#     ax.barh(dff['name'], dff['value'], color=[colors[group_lk[x]] for x in dff['name']])\n",
    "#     dx = dff['value'].max() / 200\n",
    "    \n",
    "#     for i, (value, name) in enumerate(zip(dff['value'], dff['name'])):\n",
    "#         ax.text(value-dx, i,     name,           size=14, weight=600, ha='right', va='bottom')\n",
    "#         ax.text(value-dx, i-.25, group_lk[name], size=10, color='#444444', ha='right', va='baseline')\n",
    "#         ax.text(value+dx, i,     f'{value:,.0f}',  size=14, ha='left',  va='center')\n",
    "#     ax.text(1, 0.4, current_day, transform=ax.transAxes, color='#777777', size=46, ha='right', weight=800)\n",
    "#     ax.text(0, 1.06, 'Population (thousands)', transform=ax.transAxes, size=12, color='#777777')\n",
    "#     ax.xaxis.set_major_formatter(ticker.StrMethodFormatter('{x:,.0f}'))\n",
    "#     ax.xaxis.set_ticks_position('top')\n",
    "#     ax.tick_params(axis='x', colors='#777777', labelsize=12)\n",
    "#     ax.set_yticks([])\n",
    "#     ax.margins(0, 0.01)\n",
    "#     ax.grid(which='major', axis='x', linestyle='-')\n",
    "#     ax.set_axisbelow(True)\n",
    "    \n",
    "#     ax.text(0, 1.15, 'Coronavirus',\n",
    "#             transform=ax.transAxes, size=24, weight=600, ha='left', va='top')\n",
    "# #     ax.text(1, 0, 'by @pratapvardhan; credit @jburnmurdoch', transform=ax.transAxes, color='#777777', ha='right',\n",
    "# #             bbox=dict(facecolor='white', alpha=0.8, edgecolor='white'))\n",
    "#     plt.box(False)"
   ]
  },
  {
   "cell_type": "code",
   "execution_count": 42,
   "id": "sexual-wages",
   "metadata": {
    "execution": {
     "iopub.execute_input": "2021-09-10T12:11:45.492006Z",
     "iopub.status.busy": "2021-09-10T12:11:45.491394Z",
     "iopub.status.idle": "2021-09-10T12:11:45.493080Z",
     "shell.execute_reply": "2021-09-10T12:11:45.493617Z"
    },
    "papermill": {
     "duration": 0.038649,
     "end_time": "2021-09-10T12:11:45.493740",
     "exception": false,
     "start_time": "2021-09-10T12:11:45.455091",
     "status": "completed"
    },
    "tags": []
   },
   "outputs": [],
   "source": [
    "# #hide_input\n",
    "# fig, ax = plt.subplots(figsize=(15, 8))\n",
    "# animator = animation.FuncAnimation(fig, draw_barchart, frames=range(g.day.values.min(), g.day.values.max()))\n",
    "# HTML(animator.to_jshtml())\n",
    "# # or use animator.to_html5_video() or animator.save() "
   ]
  },
  {
   "cell_type": "code",
   "execution_count": null,
   "id": "australian-container",
   "metadata": {
    "papermill": {
     "duration": 0.03392,
     "end_time": "2021-09-10T12:11:45.561743",
     "exception": false,
     "start_time": "2021-09-10T12:11:45.527823",
     "status": "completed"
    },
    "tags": []
   },
   "outputs": [],
   "source": []
  },
  {
   "cell_type": "code",
   "execution_count": null,
   "id": "mediterranean-pontiac",
   "metadata": {
    "papermill": {
     "duration": 0.034532,
     "end_time": "2021-09-10T12:11:45.629926",
     "exception": false,
     "start_time": "2021-09-10T12:11:45.595394",
     "status": "completed"
    },
    "tags": []
   },
   "outputs": [],
   "source": []
  },
  {
   "cell_type": "code",
   "execution_count": null,
   "id": "aging-legislature",
   "metadata": {
    "papermill": {
     "duration": 0.033321,
     "end_time": "2021-09-10T12:11:45.697838",
     "exception": false,
     "start_time": "2021-09-10T12:11:45.664517",
     "status": "completed"
    },
    "tags": []
   },
   "outputs": [],
   "source": []
  }
 ],
 "metadata": {
  "kernelspec": {
   "display_name": "Python 3",
   "language": "python",
   "name": "python3"
  },
  "language_info": {
   "codemirror_mode": {
    "name": "ipython",
    "version": 3
   },
   "file_extension": ".py",
   "mimetype": "text/x-python",
   "name": "python",
   "nbconvert_exporter": "python",
   "pygments_lexer": "ipython3",
   "version": "3.6.14"
  },
  "papermill": {
   "duration": 6.633394,
   "end_time": "2021-09-10T12:11:46.039581",
   "environment_variables": {},
   "exception": null,
   "input_path": "2020-03-21-covid19exp.ipynb",
   "output_path": "2020-03-21-covid19exp.ipynb",
   "parameters": {},
   "start_time": "2021-09-10T12:11:39.406187",
   "version": "2.0.0"
  }
 },
 "nbformat": 4,
 "nbformat_minor": 5
}