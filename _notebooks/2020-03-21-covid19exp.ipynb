{
 "cells": [
  {
   "cell_type": "markdown",
   "id": "muslim-click",
   "metadata": {
    "papermill": {
     "duration": 0.040563,
     "end_time": "2021-03-09T00:11:28.963203",
     "exception": false,
     "start_time": "2021-03-09T00:11:28.922640",
     "status": "completed"
    },
    "tags": []
   },
   "source": [
    "# COVID-19 Case Race\n",
    "> A race chart to see rising cases around the world\n",
    "\n",
    "- author: Hargun Oberoi\n",
    "- image: images/covid-overview.png\n",
    "- hide: false\n",
    "- badges: false"
   ]
  },
  {
   "cell_type": "code",
   "execution_count": 1,
   "id": "proof-material",
   "metadata": {
    "execution": {
     "iopub.execute_input": "2021-03-09T00:11:29.053210Z",
     "iopub.status.busy": "2021-03-09T00:11:29.052608Z",
     "iopub.status.idle": "2021-03-09T00:11:29.426617Z",
     "shell.execute_reply": "2021-03-09T00:11:29.425714Z"
    },
    "papermill": {
     "duration": 0.423543,
     "end_time": "2021-03-09T00:11:29.426791",
     "exception": false,
     "start_time": "2021-03-09T00:11:29.003248",
     "status": "completed"
    },
    "tags": []
   },
   "outputs": [],
   "source": [
    "#hide\n",
    "import numpy as np\n",
    "import pandas as pd\n",
    "from jinja2 import Template\n",
    "from IPython.display import HTML"
   ]
  },
  {
   "cell_type": "code",
   "execution_count": 2,
   "id": "developed-terminology",
   "metadata": {
    "execution": {
     "iopub.execute_input": "2021-03-09T00:11:29.507573Z",
     "iopub.status.busy": "2021-03-09T00:11:29.506901Z",
     "iopub.status.idle": "2021-03-09T00:11:29.509419Z",
     "shell.execute_reply": "2021-03-09T00:11:29.508822Z"
    },
    "papermill": {
     "duration": 0.0453,
     "end_time": "2021-03-09T00:11:29.509534",
     "exception": false,
     "start_time": "2021-03-09T00:11:29.464234",
     "status": "completed"
    },
    "tags": []
   },
   "outputs": [],
   "source": [
    "#hide\n",
    "\n",
    "# FETCH\n",
    "base_url = 'https://raw.githubusercontent.com/pratapvardhan/notebooks/master/covid19/'\n",
    "paths = {\n",
    "    'mapping': base_url + 'mapping_countries.csv',\n",
    "    'overview': base_url + 'overview.tpl'\n",
    "}"
   ]
  },
  {
   "cell_type": "code",
   "execution_count": 3,
   "id": "dynamic-saver",
   "metadata": {
    "execution": {
     "iopub.execute_input": "2021-03-09T00:11:29.597665Z",
     "iopub.status.busy": "2021-03-09T00:11:29.597007Z",
     "iopub.status.idle": "2021-03-09T00:11:29.599851Z",
     "shell.execute_reply": "2021-03-09T00:11:29.600383Z"
    },
    "papermill": {
     "duration": 0.052176,
     "end_time": "2021-03-09T00:11:29.600537",
     "exception": false,
     "start_time": "2021-03-09T00:11:29.548361",
     "status": "completed"
    },
    "tags": []
   },
   "outputs": [
    {
     "data": {
      "text/plain": [
       "'https://raw.githubusercontent.com/pratapvardhan/notebooks/master/covid19/mapping_countries.csv'"
      ]
     },
     "execution_count": 3,
     "metadata": {},
     "output_type": "execute_result"
    }
   ],
   "source": [
    "#hide\n",
    "paths['mapping']"
   ]
  },
  {
   "cell_type": "code",
   "execution_count": 4,
   "id": "urban-software",
   "metadata": {
    "execution": {
     "iopub.execute_input": "2021-03-09T00:11:29.699353Z",
     "iopub.status.busy": "2021-03-09T00:11:29.698566Z",
     "iopub.status.idle": "2021-03-09T00:11:29.701450Z",
     "shell.execute_reply": "2021-03-09T00:11:29.700870Z"
    },
    "papermill": {
     "duration": 0.052192,
     "end_time": "2021-03-09T00:11:29.701567",
     "exception": false,
     "start_time": "2021-03-09T00:11:29.649375",
     "status": "completed"
    },
    "tags": []
   },
   "outputs": [],
   "source": [
    "#hide\n",
    "def get_mappings(url):\n",
    "    df = pd.read_csv(url)\n",
    "    return {\n",
    "        'df': df,\n",
    "        'replace.country': dict(df.dropna(subset=['Name']).set_index('Country')['Name']),\n",
    "        'map.continent': dict(df.set_index('Name')['Continent'])\n",
    "    }"
   ]
  },
  {
   "cell_type": "code",
   "execution_count": 5,
   "id": "intimate-machinery",
   "metadata": {
    "execution": {
     "iopub.execute_input": "2021-03-09T00:11:29.785089Z",
     "iopub.status.busy": "2021-03-09T00:11:29.784414Z",
     "iopub.status.idle": "2021-03-09T00:11:29.817887Z",
     "shell.execute_reply": "2021-03-09T00:11:29.817307Z"
    },
    "papermill": {
     "duration": 0.077166,
     "end_time": "2021-03-09T00:11:29.818034",
     "exception": false,
     "start_time": "2021-03-09T00:11:29.740868",
     "status": "completed"
    },
    "tags": []
   },
   "outputs": [],
   "source": [
    "#hide\n",
    "mapping = get_mappings(paths['mapping'])"
   ]
  },
  {
   "cell_type": "code",
   "execution_count": 6,
   "id": "certified-tactics",
   "metadata": {
    "execution": {
     "iopub.execute_input": "2021-03-09T00:11:29.901185Z",
     "iopub.status.busy": "2021-03-09T00:11:29.900606Z",
     "iopub.status.idle": "2021-03-09T00:11:29.903068Z",
     "shell.execute_reply": "2021-03-09T00:11:29.902478Z"
    },
    "papermill": {
     "duration": 0.046345,
     "end_time": "2021-03-09T00:11:29.903203",
     "exception": false,
     "start_time": "2021-03-09T00:11:29.856858",
     "status": "completed"
    },
    "tags": []
   },
   "outputs": [],
   "source": [
    "#hide\n",
    "def get_template(path):\n",
    "    from urllib.parse import urlparse\n",
    "    if bool(urlparse(path).netloc):\n",
    "        from urllib.request import urlopen\n",
    "        return urlopen(path).read().decode('utf8')\n",
    "    return open(path).read()"
   ]
  },
  {
   "cell_type": "code",
   "execution_count": 7,
   "id": "realistic-blast",
   "metadata": {
    "execution": {
     "iopub.execute_input": "2021-03-09T00:11:29.984160Z",
     "iopub.status.busy": "2021-03-09T00:11:29.983502Z",
     "iopub.status.idle": "2021-03-09T00:11:29.986298Z",
     "shell.execute_reply": "2021-03-09T00:11:29.985731Z"
    },
    "papermill": {
     "duration": 0.044417,
     "end_time": "2021-03-09T00:11:29.986451",
     "exception": false,
     "start_time": "2021-03-09T00:11:29.942034",
     "status": "completed"
    },
    "tags": []
   },
   "outputs": [],
   "source": [
    "#hide\n",
    "def get_frame(name):\n",
    "    url = (\n",
    "        'https://raw.githubusercontent.com/CSSEGISandData/COVID-19/master/csse_covid_19_data/'\n",
    "        f'csse_covid_19_time_series/time_series_covid19_{name}_global.csv')\n",
    "    df = pd.read_csv(url)\n",
    "    # rename countries\n",
    "    df['Country/Region'] = df['Country/Region'].replace(mapping['replace.country'])\n",
    "    return df"
   ]
  },
  {
   "cell_type": "code",
   "execution_count": 8,
   "id": "affiliated-characterization",
   "metadata": {
    "execution": {
     "iopub.execute_input": "2021-03-09T00:11:30.072259Z",
     "iopub.status.busy": "2021-03-09T00:11:30.071531Z",
     "iopub.status.idle": "2021-03-09T00:11:30.075595Z",
     "shell.execute_reply": "2021-03-09T00:11:30.074974Z"
    },
    "papermill": {
     "duration": 0.052141,
     "end_time": "2021-03-09T00:11:30.075734",
     "exception": false,
     "start_time": "2021-03-09T00:11:30.023593",
     "status": "completed"
    },
    "tags": []
   },
   "outputs": [],
   "source": [
    "#hide\n",
    "def get_dates(df):\n",
    "    dt_cols = df.columns[~df.columns.isin(['Province/State', 'Country/Region', 'Lat', 'Long'])]\n",
    "    LAST_DATE_I = -1\n",
    "    # sometimes last column may be empty, then go backwards\n",
    "    for i in range(-1, -len(dt_cols), -1):\n",
    "        if not df[dt_cols[i]].fillna(0).eq(0).all():\n",
    "            LAST_DATE_I = i\n",
    "            break\n",
    "    return LAST_DATE_I, dt_cols"
   ]
  },
  {
   "cell_type": "code",
   "execution_count": 9,
   "id": "recent-optimization",
   "metadata": {
    "execution": {
     "iopub.execute_input": "2021-03-09T00:11:30.161296Z",
     "iopub.status.busy": "2021-03-09T00:11:30.160621Z",
     "iopub.status.idle": "2021-03-09T00:11:30.486019Z",
     "shell.execute_reply": "2021-03-09T00:11:30.485455Z"
    },
    "papermill": {
     "duration": 0.369939,
     "end_time": "2021-03-09T00:11:30.486190",
     "exception": false,
     "start_time": "2021-03-09T00:11:30.116251",
     "status": "completed"
    },
    "tags": []
   },
   "outputs": [],
   "source": [
    "#hide\n",
    "COL_REGION = 'Country/Region'\n",
    "# Confirmed, Recovered, Deaths\n",
    "df = get_frame('confirmed')\n",
    "# dft_: timeseries, dfc_: today country agg\n",
    "dft_cases = df\n",
    "dft_deaths = get_frame('deaths')\n",
    "dft_recovered = get_frame('recovered')\n",
    "LAST_DATE_I, dt_cols = get_dates(df)"
   ]
  },
  {
   "cell_type": "code",
   "execution_count": 10,
   "id": "absolute-copper",
   "metadata": {
    "execution": {
     "iopub.execute_input": "2021-03-09T00:11:30.567961Z",
     "iopub.status.busy": "2021-03-09T00:11:30.567381Z",
     "iopub.status.idle": "2021-03-09T00:11:30.569113Z",
     "shell.execute_reply": "2021-03-09T00:11:30.569647Z"
    },
    "papermill": {
     "duration": 0.047131,
     "end_time": "2021-03-09T00:11:30.569778",
     "exception": false,
     "start_time": "2021-03-09T00:11:30.522647",
     "status": "completed"
    },
    "tags": []
   },
   "outputs": [],
   "source": [
    "#hide\n",
    "LAST_DATE_I, dt_cols = get_dates(df)\n",
    "dt_today =dt_cols[LAST_DATE_I]\n",
    "# dt_5day = dt_cols[LAST_DATE_I - 5]\n",
    "dt_yday = dt_cols[LAST_DATE_I - 1]"
   ]
  },
  {
   "cell_type": "code",
   "execution_count": 11,
   "id": "restricted-sheriff",
   "metadata": {
    "execution": {
     "iopub.execute_input": "2021-03-09T00:11:30.649545Z",
     "iopub.status.busy": "2021-03-09T00:11:30.648962Z",
     "iopub.status.idle": "2021-03-09T00:11:30.660781Z",
     "shell.execute_reply": "2021-03-09T00:11:30.661332Z"
    },
    "papermill": {
     "duration": 0.05448,
     "end_time": "2021-03-09T00:11:30.661505",
     "exception": false,
     "start_time": "2021-03-09T00:11:30.607025",
     "status": "completed"
    },
    "tags": []
   },
   "outputs": [],
   "source": [
    "#hide\n",
    "dfc_cases = dft_cases.groupby(COL_REGION)[dt_today].sum()\n",
    "dfc_deaths = dft_deaths.groupby(COL_REGION)[dt_today].sum()\n",
    "# dfp_cases = dft_cases.groupby(COL_REGION)[dt_5day].sum()\n",
    "# dfp_deaths = dft_deaths.groupby(COL_REGION)[dt_5day].sum()\n",
    "dfp_cases = dft_cases.groupby(COL_REGION)[dt_yday].sum()\n",
    "dfp_deaths = dft_deaths.groupby(COL_REGION)[dt_yday].sum()"
   ]
  },
  {
   "cell_type": "code",
   "execution_count": 12,
   "id": "deluxe-hepatitis",
   "metadata": {
    "execution": {
     "iopub.execute_input": "2021-03-09T00:11:30.749287Z",
     "iopub.status.busy": "2021-03-09T00:11:30.745790Z",
     "iopub.status.idle": "2021-03-09T00:11:30.751816Z",
     "shell.execute_reply": "2021-03-09T00:11:30.752476Z"
    },
    "papermill": {
     "duration": 0.049618,
     "end_time": "2021-03-09T00:11:30.752630",
     "exception": false,
     "start_time": "2021-03-09T00:11:30.703012",
     "status": "completed"
    },
    "tags": []
   },
   "outputs": [],
   "source": [
    "#hide\n",
    "df_table = (pd.DataFrame(dict(Cases = dfc_cases, Deaths = dfc_deaths, PCases = dfp_cases, PDeaths = dfp_deaths))\n",
    "            .sort_values(by = ['Cases','Deaths'], ascending = [False, False])\n",
    "            .reset_index())"
   ]
  },
  {
   "cell_type": "code",
   "execution_count": 13,
   "id": "educational-chancellor",
   "metadata": {
    "execution": {
     "iopub.execute_input": "2021-03-09T00:11:30.851428Z",
     "iopub.status.busy": "2021-03-09T00:11:30.850746Z",
     "iopub.status.idle": "2021-03-09T00:11:30.873673Z",
     "shell.execute_reply": "2021-03-09T00:11:30.873168Z"
    },
    "papermill": {
     "duration": 0.083168,
     "end_time": "2021-03-09T00:11:30.873801",
     "exception": false,
     "start_time": "2021-03-09T00:11:30.790633",
     "status": "completed"
    },
    "tags": []
   },
   "outputs": [
    {
     "data": {
      "text/html": [
       "<div>\n",
       "<style scoped>\n",
       "    .dataframe tbody tr th:only-of-type {\n",
       "        vertical-align: middle;\n",
       "    }\n",
       "\n",
       "    .dataframe tbody tr th {\n",
       "        vertical-align: top;\n",
       "    }\n",
       "\n",
       "    .dataframe thead th {\n",
       "        text-align: right;\n",
       "    }\n",
       "</style>\n",
       "<table border=\"1\" class=\"dataframe\">\n",
       "  <thead>\n",
       "    <tr style=\"text-align: right;\">\n",
       "      <th></th>\n",
       "      <th>Country/Region</th>\n",
       "      <th>Cases</th>\n",
       "      <th>Deaths</th>\n",
       "      <th>PCases</th>\n",
       "      <th>PDeaths</th>\n",
       "      <th>Cases (+)</th>\n",
       "      <th>Deaths (+)</th>\n",
       "      <th>Fatality Rate</th>\n",
       "      <th>Continent</th>\n",
       "    </tr>\n",
       "  </thead>\n",
       "  <tbody>\n",
       "    <tr>\n",
       "      <th>0</th>\n",
       "      <td>US</td>\n",
       "      <td>28993310</td>\n",
       "      <td>525031</td>\n",
       "      <td>28952970</td>\n",
       "      <td>524362</td>\n",
       "      <td>40340</td>\n",
       "      <td>669</td>\n",
       "      <td>1.81</td>\n",
       "      <td>North America</td>\n",
       "    </tr>\n",
       "    <tr>\n",
       "      <th>1</th>\n",
       "      <td>India</td>\n",
       "      <td>11229398</td>\n",
       "      <td>157853</td>\n",
       "      <td>11210799</td>\n",
       "      <td>157756</td>\n",
       "      <td>18599</td>\n",
       "      <td>97</td>\n",
       "      <td>1.41</td>\n",
       "      <td>Asia</td>\n",
       "    </tr>\n",
       "    <tr>\n",
       "      <th>2</th>\n",
       "      <td>Brazil</td>\n",
       "      <td>11019344</td>\n",
       "      <td>265411</td>\n",
       "      <td>10938836</td>\n",
       "      <td>264325</td>\n",
       "      <td>80508</td>\n",
       "      <td>1086</td>\n",
       "      <td>2.41</td>\n",
       "      <td>South America</td>\n",
       "    </tr>\n",
       "    <tr>\n",
       "      <th>3</th>\n",
       "      <td>Russia</td>\n",
       "      <td>4274263</td>\n",
       "      <td>87614</td>\n",
       "      <td>4263785</td>\n",
       "      <td>87253</td>\n",
       "      <td>10478</td>\n",
       "      <td>361</td>\n",
       "      <td>2.05</td>\n",
       "      <td>Europe</td>\n",
       "    </tr>\n",
       "    <tr>\n",
       "      <th>4</th>\n",
       "      <td>United Kingdom</td>\n",
       "      <td>4231166</td>\n",
       "      <td>124736</td>\n",
       "      <td>4225906</td>\n",
       "      <td>124654</td>\n",
       "      <td>5260</td>\n",
       "      <td>82</td>\n",
       "      <td>2.95</td>\n",
       "      <td>Europe</td>\n",
       "    </tr>\n",
       "  </tbody>\n",
       "</table>\n",
       "</div>"
      ],
      "text/plain": [
       "   Country/Region     Cases  Deaths    PCases  PDeaths  Cases (+)  Deaths (+)  \\\n",
       "0              US  28993310  525031  28952970   524362      40340         669   \n",
       "1           India  11229398  157853  11210799   157756      18599          97   \n",
       "2          Brazil  11019344  265411  10938836   264325      80508        1086   \n",
       "3          Russia   4274263   87614   4263785    87253      10478         361   \n",
       "4  United Kingdom   4231166  124736   4225906   124654       5260          82   \n",
       "\n",
       "   Fatality Rate      Continent  \n",
       "0           1.81  North America  \n",
       "1           1.41           Asia  \n",
       "2           2.41  South America  \n",
       "3           2.05         Europe  \n",
       "4           2.95         Europe  "
      ]
     },
     "execution_count": 13,
     "metadata": {},
     "output_type": "execute_result"
    }
   ],
   "source": [
    "#hide\n",
    "for c in 'Cases, Deaths'.split(', '):\n",
    "    df_table[f'{c} (+)'] = (df_table[c] - df_table[f'P{c}']).clip(0)\n",
    "    #Clip ça veut dire, les chiffres negatif sont interdit\n",
    "df_table['Fatality Rate'] = (100* df_table['Deaths']/ df_table['Cases']).round(2)\n",
    "df_table['Continent'] = df_table['Country/Region'].map(mapping['map.continent'])\n",
    "df_table.head(5)"
   ]
  },
  {
   "cell_type": "code",
   "execution_count": 14,
   "id": "aboriginal-bulgaria",
   "metadata": {
    "execution": {
     "iopub.execute_input": "2021-03-09T00:11:30.957918Z",
     "iopub.status.busy": "2021-03-09T00:11:30.957347Z",
     "iopub.status.idle": "2021-03-09T00:11:30.960183Z",
     "shell.execute_reply": "2021-03-09T00:11:30.959414Z"
    },
    "papermill": {
     "duration": 0.047963,
     "end_time": "2021-03-09T00:11:30.960315",
     "exception": false,
     "start_time": "2021-03-09T00:11:30.912352",
     "status": "completed"
    },
    "tags": []
   },
   "outputs": [],
   "source": [
    "#hide\n",
    "#delete problematic countries from table\n",
    "df_table = df_table[~df_table['Country/Region'].isin(['Cape Verde', 'Cruise Ship', 'Kosovo'])]"
   ]
  },
  {
   "cell_type": "code",
   "execution_count": 15,
   "id": "fantastic-effect",
   "metadata": {
    "execution": {
     "iopub.execute_input": "2021-03-09T00:11:31.046985Z",
     "iopub.status.busy": "2021-03-09T00:11:31.046290Z",
     "iopub.status.idle": "2021-03-09T00:11:31.066795Z",
     "shell.execute_reply": "2021-03-09T00:11:31.067411Z"
    },
    "papermill": {
     "duration": 0.069207,
     "end_time": "2021-03-09T00:11:31.067566",
     "exception": false,
     "start_time": "2021-03-09T00:11:30.998359",
     "status": "completed"
    },
    "tags": []
   },
   "outputs": [
    {
     "data": {
      "text/html": [
       "<div>\n",
       "<style scoped>\n",
       "    .dataframe tbody tr th:only-of-type {\n",
       "        vertical-align: middle;\n",
       "    }\n",
       "\n",
       "    .dataframe tbody tr th {\n",
       "        vertical-align: top;\n",
       "    }\n",
       "\n",
       "    .dataframe thead th {\n",
       "        text-align: right;\n",
       "    }\n",
       "</style>\n",
       "<table border=\"1\" class=\"dataframe\">\n",
       "  <thead>\n",
       "    <tr style=\"text-align: right;\">\n",
       "      <th></th>\n",
       "      <th>Country/Region</th>\n",
       "      <th>Cases</th>\n",
       "      <th>Deaths</th>\n",
       "      <th>PCases</th>\n",
       "      <th>PDeaths</th>\n",
       "      <th>Cases (+)</th>\n",
       "      <th>Deaths (+)</th>\n",
       "      <th>Fatality Rate</th>\n",
       "      <th>Continent</th>\n",
       "    </tr>\n",
       "  </thead>\n",
       "  <tbody>\n",
       "    <tr>\n",
       "      <th>0</th>\n",
       "      <td>US</td>\n",
       "      <td>28993310</td>\n",
       "      <td>525031</td>\n",
       "      <td>28952970</td>\n",
       "      <td>524362</td>\n",
       "      <td>40340</td>\n",
       "      <td>669</td>\n",
       "      <td>1.8</td>\n",
       "      <td>North America</td>\n",
       "    </tr>\n",
       "    <tr>\n",
       "      <th>1</th>\n",
       "      <td>India</td>\n",
       "      <td>11229398</td>\n",
       "      <td>157853</td>\n",
       "      <td>11210799</td>\n",
       "      <td>157756</td>\n",
       "      <td>18599</td>\n",
       "      <td>97</td>\n",
       "      <td>1.4</td>\n",
       "      <td>Asia</td>\n",
       "    </tr>\n",
       "    <tr>\n",
       "      <th>2</th>\n",
       "      <td>Brazil</td>\n",
       "      <td>11019344</td>\n",
       "      <td>265411</td>\n",
       "      <td>10938836</td>\n",
       "      <td>264325</td>\n",
       "      <td>80508</td>\n",
       "      <td>1086</td>\n",
       "      <td>2.4</td>\n",
       "      <td>South America</td>\n",
       "    </tr>\n",
       "    <tr>\n",
       "      <th>3</th>\n",
       "      <td>Russia</td>\n",
       "      <td>4274263</td>\n",
       "      <td>87614</td>\n",
       "      <td>4263785</td>\n",
       "      <td>87253</td>\n",
       "      <td>10478</td>\n",
       "      <td>361</td>\n",
       "      <td>2.0</td>\n",
       "      <td>Europe</td>\n",
       "    </tr>\n",
       "    <tr>\n",
       "      <th>4</th>\n",
       "      <td>United Kingdom</td>\n",
       "      <td>4231166</td>\n",
       "      <td>124736</td>\n",
       "      <td>4225906</td>\n",
       "      <td>124654</td>\n",
       "      <td>5260</td>\n",
       "      <td>82</td>\n",
       "      <td>2.9</td>\n",
       "      <td>Europe</td>\n",
       "    </tr>\n",
       "  </tbody>\n",
       "</table>\n",
       "</div>"
      ],
      "text/plain": [
       "   Country/Region     Cases  Deaths    PCases  PDeaths  Cases (+)  Deaths (+)  \\\n",
       "0              US  28993310  525031  28952970   524362      40340         669   \n",
       "1           India  11229398  157853  11210799   157756      18599          97   \n",
       "2          Brazil  11019344  265411  10938836   264325      80508        1086   \n",
       "3          Russia   4274263   87614   4263785    87253      10478         361   \n",
       "4  United Kingdom   4231166  124736   4225906   124654       5260          82   \n",
       "\n",
       "   Fatality Rate      Continent  \n",
       "0            1.8  North America  \n",
       "1            1.4           Asia  \n",
       "2            2.4  South America  \n",
       "3            2.0         Europe  \n",
       "4            2.9         Europe  "
      ]
     },
     "execution_count": 15,
     "metadata": {},
     "output_type": "execute_result"
    }
   ],
   "source": [
    "#hide\n",
    "df_table = (pd.DataFrame(dict(Cases=dfc_cases, Deaths=dfc_deaths, PCases=dfp_cases, PDeaths=dfp_deaths))\n",
    "             .sort_values(by=['Cases', 'Deaths'], ascending=[False, False])\n",
    "             .reset_index())\n",
    "df_table.rename(columns={'index': 'Country/Region'}, inplace=True)\n",
    "for c in 'Cases, Deaths'.split(', '):\n",
    "    df_table[f'{c} (+)'] = (df_table[c] - df_table[f'P{c}']).clip(0)  # DATA BUG\n",
    "df_table['Fatality Rate'] = (100 * df_table['Deaths'] / df_table['Cases']).round(1)\n",
    "df_table['Continent'] = df_table['Country/Region'].map(mapping['map.continent'])\n",
    "df_table.head(5)"
   ]
  },
  {
   "cell_type": "code",
   "execution_count": 16,
   "id": "fewer-occasion",
   "metadata": {
    "execution": {
     "iopub.execute_input": "2021-03-09T00:11:31.157926Z",
     "iopub.status.busy": "2021-03-09T00:11:31.157304Z",
     "iopub.status.idle": "2021-03-09T00:11:31.159671Z",
     "shell.execute_reply": "2021-03-09T00:11:31.160239Z"
    },
    "papermill": {
     "duration": 0.049905,
     "end_time": "2021-03-09T00:11:31.160372",
     "exception": false,
     "start_time": "2021-03-09T00:11:31.110467",
     "status": "completed"
    },
    "tags": []
   },
   "outputs": [],
   "source": [
    "#hide\n",
    "#delete problematic countries from table\n",
    "df_table = df_table[~df_table['Country/Region'].isin(['Cape Verde', 'Cruise Ship', 'Kosovo'])]"
   ]
  },
  {
   "cell_type": "code",
   "execution_count": 17,
   "id": "related-center",
   "metadata": {
    "execution": {
     "iopub.execute_input": "2021-03-09T00:11:31.256637Z",
     "iopub.status.busy": "2021-03-09T00:11:31.256016Z",
     "iopub.status.idle": "2021-03-09T00:11:31.258594Z",
     "shell.execute_reply": "2021-03-09T00:11:31.258023Z"
    },
    "papermill": {
     "duration": 0.059958,
     "end_time": "2021-03-09T00:11:31.258727",
     "exception": false,
     "start_time": "2021-03-09T00:11:31.198769",
     "status": "completed"
    },
    "tags": []
   },
   "outputs": [],
   "source": [
    "#hide\n",
    "metrics = [df_table.columns[index] for index in [1,2,5,6]]\n",
    "# s_china = df_table[df_table['Country/Region'].eq('China')][metrics].sum().add_prefix('China ')\n",
    "s_us = df_table[df_table['Country/Region'].eq('US')][metrics].sum().add_prefix('US ')\n",
    "s_eu = df_table[df_table['Continent'].eq('Europe')][metrics].sum().add_prefix('EU ')\n",
    "s_ind = df_table[df_table['Country/Region'].eq('India')][metrics].sum().add_prefix('India ')\n",
    "summary = {'updated': pd.to_datetime(dt_today), 'since': pd.to_datetime(dt_yday)}\n",
    "summary = {'updated': pd.to_datetime(dt_today), 'since': pd.to_datetime(dt_yday)}\n",
    "summary = {**summary, **df_table[metrics].sum(), **s_ind, **s_us, **s_eu}"
   ]
  },
  {
   "cell_type": "code",
   "execution_count": 18,
   "id": "engaging-syndrome",
   "metadata": {
    "execution": {
     "iopub.execute_input": "2021-03-09T00:11:31.345404Z",
     "iopub.status.busy": "2021-03-09T00:11:31.344734Z",
     "iopub.status.idle": "2021-03-09T00:11:31.357152Z",
     "shell.execute_reply": "2021-03-09T00:11:31.356534Z"
    },
    "papermill": {
     "duration": 0.057933,
     "end_time": "2021-03-09T00:11:31.357315",
     "exception": false,
     "start_time": "2021-03-09T00:11:31.299382",
     "status": "completed"
    },
    "tags": []
   },
   "outputs": [],
   "source": [
    "#hide\n",
    "dft_ct_new_cases = dft_cases.groupby(COL_REGION)[dt_cols].sum().diff(axis=1).fillna(0).astype(int)"
   ]
  },
  {
   "cell_type": "code",
   "execution_count": 19,
   "id": "neutral-assignment",
   "metadata": {
    "execution": {
     "iopub.execute_input": "2021-03-09T00:11:31.444755Z",
     "iopub.status.busy": "2021-03-09T00:11:31.443376Z",
     "iopub.status.idle": "2021-03-09T00:11:31.445616Z",
     "shell.execute_reply": "2021-03-09T00:11:31.446160Z"
    },
    "papermill": {
     "duration": 0.049808,
     "end_time": "2021-03-09T00:11:31.446301",
     "exception": false,
     "start_time": "2021-03-09T00:11:31.396493",
     "status": "completed"
    },
    "tags": []
   },
   "outputs": [],
   "source": [
    "#hide\n",
    "everydaycases = dft_ct_new_cases.cumsum(axis=1)"
   ]
  },
  {
   "cell_type": "code",
   "execution_count": 20,
   "id": "parliamentary-calgary",
   "metadata": {
    "execution": {
     "iopub.execute_input": "2021-03-09T00:11:31.535074Z",
     "iopub.status.busy": "2021-03-09T00:11:31.534296Z",
     "iopub.status.idle": "2021-03-09T00:11:32.293536Z",
     "shell.execute_reply": "2021-03-09T00:11:32.292954Z"
    },
    "papermill": {
     "duration": 0.805087,
     "end_time": "2021-03-09T00:11:32.293675",
     "exception": false,
     "start_time": "2021-03-09T00:11:31.488588",
     "status": "completed"
    },
    "tags": []
   },
   "outputs": [],
   "source": [
    "#hide\n",
    "import pandas as pd\n",
    "import matplotlib.pyplot as plt\n",
    "import matplotlib.ticker as ticker\n",
    "import matplotlib.animation as animation\n",
    "from IPython.display import HTML"
   ]
  },
  {
   "cell_type": "code",
   "execution_count": 21,
   "id": "lasting-extraction",
   "metadata": {
    "execution": {
     "iopub.execute_input": "2021-03-09T00:11:32.374351Z",
     "iopub.status.busy": "2021-03-09T00:11:32.373463Z",
     "iopub.status.idle": "2021-03-09T00:11:32.378462Z",
     "shell.execute_reply": "2021-03-09T00:11:32.379200Z"
    },
    "papermill": {
     "duration": 0.047228,
     "end_time": "2021-03-09T00:11:32.379344",
     "exception": false,
     "start_time": "2021-03-09T00:11:32.332116",
     "status": "completed"
    },
    "tags": []
   },
   "outputs": [],
   "source": [
    "#hide\n",
    "t = everydaycases.stack()"
   ]
  },
  {
   "cell_type": "code",
   "execution_count": 22,
   "id": "premier-sleeve",
   "metadata": {
    "execution": {
     "iopub.execute_input": "2021-03-09T00:11:32.464040Z",
     "iopub.status.busy": "2021-03-09T00:11:32.463360Z",
     "iopub.status.idle": "2021-03-09T00:11:32.471224Z",
     "shell.execute_reply": "2021-03-09T00:11:32.470662Z"
    },
    "papermill": {
     "duration": 0.051789,
     "end_time": "2021-03-09T00:11:32.471379",
     "exception": false,
     "start_time": "2021-03-09T00:11:32.419590",
     "status": "completed"
    },
    "tags": []
   },
   "outputs": [],
   "source": [
    "#hide\n",
    "g = t.reset_index(['Country/Region'])"
   ]
  },
  {
   "cell_type": "code",
   "execution_count": 23,
   "id": "distributed-pittsburgh",
   "metadata": {
    "execution": {
     "iopub.execute_input": "2021-03-09T00:11:32.558836Z",
     "iopub.status.busy": "2021-03-09T00:11:32.558041Z",
     "iopub.status.idle": "2021-03-09T00:11:32.561042Z",
     "shell.execute_reply": "2021-03-09T00:11:32.560484Z"
    },
    "papermill": {
     "duration": 0.049195,
     "end_time": "2021-03-09T00:11:32.561174",
     "exception": false,
     "start_time": "2021-03-09T00:11:32.511979",
     "status": "completed"
    },
    "tags": []
   },
   "outputs": [],
   "source": [
    "#hide\n",
    "g.index.name = 'date'"
   ]
  },
  {
   "cell_type": "code",
   "execution_count": 24,
   "id": "naked-donor",
   "metadata": {
    "execution": {
     "iopub.execute_input": "2021-03-09T00:11:32.645650Z",
     "iopub.status.busy": "2021-03-09T00:11:32.645007Z",
     "iopub.status.idle": "2021-03-09T00:11:32.647548Z",
     "shell.execute_reply": "2021-03-09T00:11:32.646926Z"
    },
    "papermill": {
     "duration": 0.047693,
     "end_time": "2021-03-09T00:11:32.647683",
     "exception": false,
     "start_time": "2021-03-09T00:11:32.599990",
     "status": "completed"
    },
    "tags": []
   },
   "outputs": [],
   "source": [
    "# #hide\n",
    "# g = g.reset_index(['date'])"
   ]
  },
  {
   "cell_type": "code",
   "execution_count": 25,
   "id": "incomplete-mustang",
   "metadata": {
    "execution": {
     "iopub.execute_input": "2021-03-09T00:11:32.737273Z",
     "iopub.status.busy": "2021-03-09T00:11:32.736609Z",
     "iopub.status.idle": "2021-03-09T00:11:32.739331Z",
     "shell.execute_reply": "2021-03-09T00:11:32.738772Z"
    },
    "papermill": {
     "duration": 0.048106,
     "end_time": "2021-03-09T00:11:32.739462",
     "exception": false,
     "start_time": "2021-03-09T00:11:32.691356",
     "status": "completed"
    },
    "tags": []
   },
   "outputs": [],
   "source": [
    "#hide\n",
    "# g.head()"
   ]
  },
  {
   "cell_type": "code",
   "execution_count": 26,
   "id": "specific-kruger",
   "metadata": {
    "execution": {
     "iopub.execute_input": "2021-03-09T00:11:32.820891Z",
     "iopub.status.busy": "2021-03-09T00:11:32.820203Z",
     "iopub.status.idle": "2021-03-09T00:11:32.822120Z",
     "shell.execute_reply": "2021-03-09T00:11:32.822725Z"
    },
    "papermill": {
     "duration": 0.045879,
     "end_time": "2021-03-09T00:11:32.822873",
     "exception": false,
     "start_time": "2021-03-09T00:11:32.776994",
     "status": "completed"
    },
    "tags": []
   },
   "outputs": [],
   "source": [
    "#hide\n",
    "# g.columns = ['date','country','cases']"
   ]
  },
  {
   "cell_type": "code",
   "execution_count": 27,
   "id": "tender-conversion",
   "metadata": {
    "execution": {
     "iopub.execute_input": "2021-03-09T00:11:32.914602Z",
     "iopub.status.busy": "2021-03-09T00:11:32.913933Z",
     "iopub.status.idle": "2021-03-09T00:11:32.916276Z",
     "shell.execute_reply": "2021-03-09T00:11:32.915715Z"
    },
    "papermill": {
     "duration": 0.047505,
     "end_time": "2021-03-09T00:11:32.916392",
     "exception": false,
     "start_time": "2021-03-09T00:11:32.868887",
     "status": "completed"
    },
    "tags": []
   },
   "outputs": [],
   "source": [
    "#hide\n",
    "# g['continent'] = g.country"
   ]
  },
  {
   "cell_type": "code",
   "execution_count": 28,
   "id": "substantial-wilderness",
   "metadata": {
    "execution": {
     "iopub.execute_input": "2021-03-09T00:11:33.582558Z",
     "iopub.status.busy": "2021-03-09T00:11:33.581867Z",
     "iopub.status.idle": "2021-03-09T00:11:33.584343Z",
     "shell.execute_reply": "2021-03-09T00:11:33.585285Z"
    },
    "papermill": {
     "duration": 0.626077,
     "end_time": "2021-03-09T00:11:33.585433",
     "exception": false,
     "start_time": "2021-03-09T00:11:32.959356",
     "status": "completed"
    },
    "tags": []
   },
   "outputs": [],
   "source": [
    "#hide\n",
    "# cols = list(g.columns.values)"
   ]
  },
  {
   "cell_type": "code",
   "execution_count": 29,
   "id": "solved-farming",
   "metadata": {
    "execution": {
     "iopub.execute_input": "2021-03-09T00:11:33.675580Z",
     "iopub.status.busy": "2021-03-09T00:11:33.674900Z",
     "iopub.status.idle": "2021-03-09T00:11:33.677326Z",
     "shell.execute_reply": "2021-03-09T00:11:33.676752Z"
    },
    "papermill": {
     "duration": 0.050544,
     "end_time": "2021-03-09T00:11:33.677476",
     "exception": false,
     "start_time": "2021-03-09T00:11:33.626932",
     "status": "completed"
    },
    "tags": []
   },
   "outputs": [],
   "source": [
    "#hide\n",
    "# cols.insert(0, cols.pop())"
   ]
  },
  {
   "cell_type": "code",
   "execution_count": 30,
   "id": "executed-adoption",
   "metadata": {
    "execution": {
     "iopub.execute_input": "2021-03-09T00:11:33.759758Z",
     "iopub.status.busy": "2021-03-09T00:11:33.759139Z",
     "iopub.status.idle": "2021-03-09T00:11:33.760869Z",
     "shell.execute_reply": "2021-03-09T00:11:33.761422Z"
    },
    "papermill": {
     "duration": 0.045868,
     "end_time": "2021-03-09T00:11:33.761751",
     "exception": false,
     "start_time": "2021-03-09T00:11:33.715883",
     "status": "completed"
    },
    "tags": []
   },
   "outputs": [],
   "source": [
    "#hide\n",
    "# g = g[cols]"
   ]
  },
  {
   "cell_type": "code",
   "execution_count": 31,
   "id": "subject-dublin",
   "metadata": {
    "execution": {
     "iopub.execute_input": "2021-03-09T00:11:33.846344Z",
     "iopub.status.busy": "2021-03-09T00:11:33.845675Z",
     "iopub.status.idle": "2021-03-09T00:11:33.848201Z",
     "shell.execute_reply": "2021-03-09T00:11:33.847676Z"
    },
    "papermill": {
     "duration": 0.046174,
     "end_time": "2021-03-09T00:11:33.848343",
     "exception": false,
     "start_time": "2021-03-09T00:11:33.802169",
     "status": "completed"
    },
    "tags": []
   },
   "outputs": [],
   "source": [
    "#hide\n",
    "# g['continent'] = g['continent'].map(mapping['map.continent'])"
   ]
  },
  {
   "cell_type": "code",
   "execution_count": 32,
   "id": "freelance-scout",
   "metadata": {
    "execution": {
     "iopub.execute_input": "2021-03-09T00:11:33.939759Z",
     "iopub.status.busy": "2021-03-09T00:11:33.939033Z",
     "iopub.status.idle": "2021-03-09T00:11:33.940651Z",
     "shell.execute_reply": "2021-03-09T00:11:33.941292Z"
    },
    "papermill": {
     "duration": 0.046678,
     "end_time": "2021-03-09T00:11:33.941463",
     "exception": false,
     "start_time": "2021-03-09T00:11:33.894785",
     "status": "completed"
    },
    "tags": []
   },
   "outputs": [],
   "source": [
    "#hide\n",
    "# g.head()"
   ]
  },
  {
   "cell_type": "code",
   "execution_count": 33,
   "id": "limited-engine",
   "metadata": {
    "execution": {
     "iopub.execute_input": "2021-03-09T00:11:34.025631Z",
     "iopub.status.busy": "2021-03-09T00:11:34.024983Z",
     "iopub.status.idle": "2021-03-09T00:11:34.028161Z",
     "shell.execute_reply": "2021-03-09T00:11:34.026934Z"
    },
    "papermill": {
     "duration": 0.046036,
     "end_time": "2021-03-09T00:11:34.028300",
     "exception": false,
     "start_time": "2021-03-09T00:11:33.982264",
     "status": "completed"
    },
    "tags": []
   },
   "outputs": [],
   "source": [
    "# hide\n",
    "# g['date'] = g['date'].astype('datetime64[ns]')"
   ]
  },
  {
   "cell_type": "code",
   "execution_count": 34,
   "id": "sophisticated-supervisor",
   "metadata": {
    "execution": {
     "iopub.execute_input": "2021-03-09T00:11:34.112158Z",
     "iopub.status.busy": "2021-03-09T00:11:34.111486Z",
     "iopub.status.idle": "2021-03-09T00:11:34.114272Z",
     "shell.execute_reply": "2021-03-09T00:11:34.114808Z"
    },
    "papermill": {
     "duration": 0.046664,
     "end_time": "2021-03-09T00:11:34.114964",
     "exception": false,
     "start_time": "2021-03-09T00:11:34.068300",
     "status": "completed"
    },
    "tags": []
   },
   "outputs": [],
   "source": [
    "#hide\n",
    "# g['date'] = g.date.dt.dayofyear"
   ]
  },
  {
   "cell_type": "code",
   "execution_count": 35,
   "id": "inside-dubai",
   "metadata": {
    "execution": {
     "iopub.execute_input": "2021-03-09T00:11:34.201888Z",
     "iopub.status.busy": "2021-03-09T00:11:34.201241Z",
     "iopub.status.idle": "2021-03-09T00:11:34.203624Z",
     "shell.execute_reply": "2021-03-09T00:11:34.202987Z"
    },
    "papermill": {
     "duration": 0.048797,
     "end_time": "2021-03-09T00:11:34.203755",
     "exception": false,
     "start_time": "2021-03-09T00:11:34.154958",
     "status": "completed"
    },
    "tags": []
   },
   "outputs": [],
   "source": [
    "#hide\n",
    "# g = g.rename(columns= {'continent':'group','country':'name','cases':'value'})"
   ]
  },
  {
   "cell_type": "code",
   "execution_count": 36,
   "id": "fleet-motorcycle",
   "metadata": {
    "execution": {
     "iopub.execute_input": "2021-03-09T00:11:34.288738Z",
     "iopub.status.busy": "2021-03-09T00:11:34.288093Z",
     "iopub.status.idle": "2021-03-09T00:11:34.290579Z",
     "shell.execute_reply": "2021-03-09T00:11:34.290005Z"
    },
    "papermill": {
     "duration": 0.045898,
     "end_time": "2021-03-09T00:11:34.290711",
     "exception": false,
     "start_time": "2021-03-09T00:11:34.244813",
     "status": "completed"
    },
    "tags": []
   },
   "outputs": [],
   "source": [
    "#hide\n",
    "# cols = ['name','group','day','value']"
   ]
  },
  {
   "cell_type": "code",
   "execution_count": 37,
   "id": "continued-sleeping",
   "metadata": {
    "execution": {
     "iopub.execute_input": "2021-03-09T00:11:34.376907Z",
     "iopub.status.busy": "2021-03-09T00:11:34.376247Z",
     "iopub.status.idle": "2021-03-09T00:11:34.378883Z",
     "shell.execute_reply": "2021-03-09T00:11:34.379379Z"
    },
    "papermill": {
     "duration": 0.048134,
     "end_time": "2021-03-09T00:11:34.379544",
     "exception": false,
     "start_time": "2021-03-09T00:11:34.331410",
     "status": "completed"
    },
    "tags": []
   },
   "outputs": [],
   "source": [
    "#hide\n",
    "# g.rename(columns= {'date':'day'},inplace = True)"
   ]
  },
  {
   "cell_type": "code",
   "execution_count": 38,
   "id": "major-fight",
   "metadata": {
    "execution": {
     "iopub.execute_input": "2021-03-09T00:11:34.464053Z",
     "iopub.status.busy": "2021-03-09T00:11:34.463374Z",
     "iopub.status.idle": "2021-03-09T00:11:34.466237Z",
     "shell.execute_reply": "2021-03-09T00:11:34.465707Z"
    },
    "papermill": {
     "duration": 0.047769,
     "end_time": "2021-03-09T00:11:34.466379",
     "exception": false,
     "start_time": "2021-03-09T00:11:34.418610",
     "status": "completed"
    },
    "tags": []
   },
   "outputs": [],
   "source": [
    "#hide\n",
    "# g = g[cols]"
   ]
  },
  {
   "cell_type": "code",
   "execution_count": 39,
   "id": "structured-mobile",
   "metadata": {
    "execution": {
     "iopub.execute_input": "2021-03-09T00:11:34.553735Z",
     "iopub.status.busy": "2021-03-09T00:11:34.553051Z",
     "iopub.status.idle": "2021-03-09T00:11:34.555588Z",
     "shell.execute_reply": "2021-03-09T00:11:34.554950Z"
    },
    "papermill": {
     "duration": 0.047954,
     "end_time": "2021-03-09T00:11:34.555719",
     "exception": false,
     "start_time": "2021-03-09T00:11:34.507765",
     "status": "completed"
    },
    "tags": []
   },
   "outputs": [],
   "source": [
    "# #hide\n",
    "# g = g[g.group.notna()]"
   ]
  },
  {
   "cell_type": "code",
   "execution_count": 40,
   "id": "determined-closing",
   "metadata": {
    "execution": {
     "iopub.execute_input": "2021-03-09T00:11:34.650230Z",
     "iopub.status.busy": "2021-03-09T00:11:34.649568Z",
     "iopub.status.idle": "2021-03-09T00:11:34.651489Z",
     "shell.execute_reply": "2021-03-09T00:11:34.652014Z"
    },
    "papermill": {
     "duration": 0.04929,
     "end_time": "2021-03-09T00:11:34.652294",
     "exception": false,
     "start_time": "2021-03-09T00:11:34.603004",
     "status": "completed"
    },
    "tags": []
   },
   "outputs": [],
   "source": [
    "# #hide\n",
    "# colors = dict(zip(\n",
    "#     [\"Oceania\", \"Europe\", \"Asia\", \"South America\", \"Middle East\", \"North America\", \"Africa\"],\n",
    "#     [\"#adb0ff\", \"#ffb3ff\", \"#90d595\", \"#e48381\", \"#aafbff\", \"#f7bb5f\", \"#eafb50\"]\n",
    "# ))\n",
    "# group_lk = g.set_index('name')['group'].to_dict()"
   ]
  },
  {
   "cell_type": "code",
   "execution_count": null,
   "id": "gross-drinking",
   "metadata": {
    "papermill": {
     "duration": 0.044606,
     "end_time": "2021-03-09T00:11:34.737006",
     "exception": false,
     "start_time": "2021-03-09T00:11:34.692400",
     "status": "completed"
    },
    "tags": []
   },
   "outputs": [],
   "source": []
  },
  {
   "cell_type": "code",
   "execution_count": 41,
   "id": "subject-macintosh",
   "metadata": {
    "execution": {
     "iopub.execute_input": "2021-03-09T00:11:34.833087Z",
     "iopub.status.busy": "2021-03-09T00:11:34.832408Z",
     "iopub.status.idle": "2021-03-09T00:11:34.834290Z",
     "shell.execute_reply": "2021-03-09T00:11:34.834890Z"
    },
    "papermill": {
     "duration": 0.049304,
     "end_time": "2021-03-09T00:11:34.835048",
     "exception": false,
     "start_time": "2021-03-09T00:11:34.785744",
     "status": "completed"
    },
    "tags": []
   },
   "outputs": [],
   "source": [
    "# #hide\n",
    "# fig, ax = plt.subplots(figsize=(15, 8))\n",
    "\n",
    "# def draw_barchart(current_day):\n",
    "#     dff = g[g['day'].eq(current_day)].sort_values(by='value', ascending=True).tail(10)\n",
    "#     ax.clear()\n",
    "#     ax.barh(dff['name'], dff['value'], color=[colors[group_lk[x]] for x in dff['name']])\n",
    "#     dx = dff['value'].max() / 200\n",
    "    \n",
    "#     for i, (value, name) in enumerate(zip(dff['value'], dff['name'])):\n",
    "#         ax.text(value-dx, i,     name,           size=14, weight=600, ha='right', va='bottom')\n",
    "#         ax.text(value-dx, i-.25, group_lk[name], size=10, color='#444444', ha='right', va='baseline')\n",
    "#         ax.text(value+dx, i,     f'{value:,.0f}',  size=14, ha='left',  va='center')\n",
    "#     ax.text(1, 0.4, current_day, transform=ax.transAxes, color='#777777', size=46, ha='right', weight=800)\n",
    "#     ax.text(0, 1.06, 'Population (thousands)', transform=ax.transAxes, size=12, color='#777777')\n",
    "#     ax.xaxis.set_major_formatter(ticker.StrMethodFormatter('{x:,.0f}'))\n",
    "#     ax.xaxis.set_ticks_position('top')\n",
    "#     ax.tick_params(axis='x', colors='#777777', labelsize=12)\n",
    "#     ax.set_yticks([])\n",
    "#     ax.margins(0, 0.01)\n",
    "#     ax.grid(which='major', axis='x', linestyle='-')\n",
    "#     ax.set_axisbelow(True)\n",
    "    \n",
    "#     ax.text(0, 1.15, 'Coronavirus',\n",
    "#             transform=ax.transAxes, size=24, weight=600, ha='left', va='top')\n",
    "# #     ax.text(1, 0, 'by @pratapvardhan; credit @jburnmurdoch', transform=ax.transAxes, color='#777777', ha='right',\n",
    "# #             bbox=dict(facecolor='white', alpha=0.8, edgecolor='white'))\n",
    "#     plt.box(False)"
   ]
  },
  {
   "cell_type": "code",
   "execution_count": 42,
   "id": "sexual-wages",
   "metadata": {
    "execution": {
     "iopub.execute_input": "2021-03-09T00:11:34.920472Z",
     "iopub.status.busy": "2021-03-09T00:11:34.919813Z",
     "iopub.status.idle": "2021-03-09T00:11:34.922226Z",
     "shell.execute_reply": "2021-03-09T00:11:34.921582Z"
    },
    "papermill": {
     "duration": 0.046929,
     "end_time": "2021-03-09T00:11:34.922357",
     "exception": false,
     "start_time": "2021-03-09T00:11:34.875428",
     "status": "completed"
    },
    "tags": []
   },
   "outputs": [],
   "source": [
    "# #hide_input\n",
    "# fig, ax = plt.subplots(figsize=(15, 8))\n",
    "# animator = animation.FuncAnimation(fig, draw_barchart, frames=range(g.day.values.min(), g.day.values.max()))\n",
    "# HTML(animator.to_jshtml())\n",
    "# # or use animator.to_html5_video() or animator.save() "
   ]
  },
  {
   "cell_type": "code",
   "execution_count": null,
   "id": "australian-container",
   "metadata": {
    "papermill": {
     "duration": 0.043297,
     "end_time": "2021-03-09T00:11:35.005693",
     "exception": false,
     "start_time": "2021-03-09T00:11:34.962396",
     "status": "completed"
    },
    "tags": []
   },
   "outputs": [],
   "source": []
  },
  {
   "cell_type": "code",
   "execution_count": null,
   "id": "mediterranean-pontiac",
   "metadata": {
    "papermill": {
     "duration": 0.042489,
     "end_time": "2021-03-09T00:11:35.088796",
     "exception": false,
     "start_time": "2021-03-09T00:11:35.046307",
     "status": "completed"
    },
    "tags": []
   },
   "outputs": [],
   "source": []
  },
  {
   "cell_type": "code",
   "execution_count": null,
   "id": "aging-legislature",
   "metadata": {
    "papermill": {
     "duration": 0.038909,
     "end_time": "2021-03-09T00:11:35.167622",
     "exception": false,
     "start_time": "2021-03-09T00:11:35.128713",
     "status": "completed"
    },
    "tags": []
   },
   "outputs": [],
   "source": []
  }
 ],
 "metadata": {
  "kernelspec": {
   "display_name": "Python 3",
   "language": "python",
   "name": "python3"
  },
  "language_info": {
   "codemirror_mode": {
    "name": "ipython",
    "version": 3
   },
   "file_extension": ".py",
   "mimetype": "text/x-python",
   "name": "python",
   "nbconvert_exporter": "python",
   "pygments_lexer": "ipython3",
   "version": "3.6.13"
  },
  "papermill": {
   "duration": 7.829501,
   "end_time": "2021-03-09T00:11:35.620459",
   "environment_variables": {},
   "exception": null,
   "input_path": "2020-03-21-covid19exp.ipynb",
   "output_path": "2020-03-21-covid19exp.ipynb",
   "parameters": {},
   "start_time": "2021-03-09T00:11:27.790958",
   "version": "2.0.0"
  }
 },
 "nbformat": 4,
 "nbformat_minor": 5
}