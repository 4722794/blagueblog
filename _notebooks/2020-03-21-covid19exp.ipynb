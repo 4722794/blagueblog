{
 "cells": [
  {
   "cell_type": "markdown",
   "id": "muslim-click",
   "metadata": {
    "papermill": {
     "duration": 0.039189,
     "end_time": "2021-05-26T00:32:53.252666",
     "exception": false,
     "start_time": "2021-05-26T00:32:53.213477",
     "status": "completed"
    },
    "tags": []
   },
   "source": [
    "# COVID-19 Case Race\n",
    "> A race chart to see rising cases around the world\n",
    "\n",
    "- author: Hargun Oberoi\n",
    "- image: images/covid-overview.png\n",
    "- hide: false\n",
    "- badges: false"
   ]
  },
  {
   "cell_type": "code",
   "execution_count": 1,
   "id": "proof-material",
   "metadata": {
    "execution": {
     "iopub.execute_input": "2021-05-26T00:32:53.336740Z",
     "iopub.status.busy": "2021-05-26T00:32:53.336090Z",
     "iopub.status.idle": "2021-05-26T00:32:53.721498Z",
     "shell.execute_reply": "2021-05-26T00:32:53.720847Z"
    },
    "papermill": {
     "duration": 0.432877,
     "end_time": "2021-05-26T00:32:53.721672",
     "exception": false,
     "start_time": "2021-05-26T00:32:53.288795",
     "status": "completed"
    },
    "tags": []
   },
   "outputs": [],
   "source": [
    "#hide\n",
    "import numpy as np\n",
    "import pandas as pd\n",
    "from jinja2 import Template\n",
    "from IPython.display import HTML"
   ]
  },
  {
   "cell_type": "code",
   "execution_count": 2,
   "id": "developed-terminology",
   "metadata": {
    "execution": {
     "iopub.execute_input": "2021-05-26T00:32:53.799690Z",
     "iopub.status.busy": "2021-05-26T00:32:53.798524Z",
     "iopub.status.idle": "2021-05-26T00:32:53.801319Z",
     "shell.execute_reply": "2021-05-26T00:32:53.801885Z"
    },
    "papermill": {
     "duration": 0.043973,
     "end_time": "2021-05-26T00:32:53.802015",
     "exception": false,
     "start_time": "2021-05-26T00:32:53.758042",
     "status": "completed"
    },
    "tags": []
   },
   "outputs": [],
   "source": [
    "#hide\n",
    "\n",
    "# FETCH\n",
    "base_url = 'https://raw.githubusercontent.com/pratapvardhan/notebooks/master/covid19/'\n",
    "paths = {\n",
    "    'mapping': base_url + 'mapping_countries.csv',\n",
    "    'overview': base_url + 'overview.tpl'\n",
    "}"
   ]
  },
  {
   "cell_type": "code",
   "execution_count": 3,
   "id": "dynamic-saver",
   "metadata": {
    "execution": {
     "iopub.execute_input": "2021-05-26T00:32:53.883215Z",
     "iopub.status.busy": "2021-05-26T00:32:53.878442Z",
     "iopub.status.idle": "2021-05-26T00:32:53.896383Z",
     "shell.execute_reply": "2021-05-26T00:32:53.896838Z"
    },
    "papermill": {
     "duration": 0.061353,
     "end_time": "2021-05-26T00:32:53.897008",
     "exception": false,
     "start_time": "2021-05-26T00:32:53.835655",
     "status": "completed"
    },
    "tags": []
   },
   "outputs": [
    {
     "data": {
      "text/plain": [
       "'https://raw.githubusercontent.com/pratapvardhan/notebooks/master/covid19/mapping_countries.csv'"
      ]
     },
     "execution_count": 3,
     "metadata": {},
     "output_type": "execute_result"
    }
   ],
   "source": [
    "#hide\n",
    "paths['mapping']"
   ]
  },
  {
   "cell_type": "code",
   "execution_count": 4,
   "id": "urban-software",
   "metadata": {
    "execution": {
     "iopub.execute_input": "2021-05-26T00:32:53.974870Z",
     "iopub.status.busy": "2021-05-26T00:32:53.974159Z",
     "iopub.status.idle": "2021-05-26T00:32:53.976543Z",
     "shell.execute_reply": "2021-05-26T00:32:53.977145Z"
    },
    "papermill": {
     "duration": 0.044648,
     "end_time": "2021-05-26T00:32:53.977275",
     "exception": false,
     "start_time": "2021-05-26T00:32:53.932627",
     "status": "completed"
    },
    "tags": []
   },
   "outputs": [],
   "source": [
    "#hide\n",
    "def get_mappings(url):\n",
    "    df = pd.read_csv(url)\n",
    "    return {\n",
    "        'df': df,\n",
    "        'replace.country': dict(df.dropna(subset=['Name']).set_index('Country')['Name']),\n",
    "        'map.continent': dict(df.set_index('Name')['Continent'])\n",
    "    }"
   ]
  },
  {
   "cell_type": "code",
   "execution_count": 5,
   "id": "intimate-machinery",
   "metadata": {
    "execution": {
     "iopub.execute_input": "2021-05-26T00:32:54.053125Z",
     "iopub.status.busy": "2021-05-26T00:32:54.052501Z",
     "iopub.status.idle": "2021-05-26T00:32:54.082448Z",
     "shell.execute_reply": "2021-05-26T00:32:54.081895Z"
    },
    "papermill": {
     "duration": 0.070127,
     "end_time": "2021-05-26T00:32:54.082573",
     "exception": false,
     "start_time": "2021-05-26T00:32:54.012446",
     "status": "completed"
    },
    "tags": []
   },
   "outputs": [],
   "source": [
    "#hide\n",
    "mapping = get_mappings(paths['mapping'])"
   ]
  },
  {
   "cell_type": "code",
   "execution_count": 6,
   "id": "certified-tactics",
   "metadata": {
    "execution": {
     "iopub.execute_input": "2021-05-26T00:32:54.158565Z",
     "iopub.status.busy": "2021-05-26T00:32:54.157877Z",
     "iopub.status.idle": "2021-05-26T00:32:54.160592Z",
     "shell.execute_reply": "2021-05-26T00:32:54.160033Z"
    },
    "papermill": {
     "duration": 0.043908,
     "end_time": "2021-05-26T00:32:54.160713",
     "exception": false,
     "start_time": "2021-05-26T00:32:54.116805",
     "status": "completed"
    },
    "tags": []
   },
   "outputs": [],
   "source": [
    "#hide\n",
    "def get_template(path):\n",
    "    from urllib.parse import urlparse\n",
    "    if bool(urlparse(path).netloc):\n",
    "        from urllib.request import urlopen\n",
    "        return urlopen(path).read().decode('utf8')\n",
    "    return open(path).read()"
   ]
  },
  {
   "cell_type": "code",
   "execution_count": 7,
   "id": "realistic-blast",
   "metadata": {
    "execution": {
     "iopub.execute_input": "2021-05-26T00:32:54.235183Z",
     "iopub.status.busy": "2021-05-26T00:32:54.234521Z",
     "iopub.status.idle": "2021-05-26T00:32:54.237239Z",
     "shell.execute_reply": "2021-05-26T00:32:54.236722Z"
    },
    "papermill": {
     "duration": 0.040981,
     "end_time": "2021-05-26T00:32:54.237352",
     "exception": false,
     "start_time": "2021-05-26T00:32:54.196371",
     "status": "completed"
    },
    "tags": []
   },
   "outputs": [],
   "source": [
    "#hide\n",
    "def get_frame(name):\n",
    "    url = (\n",
    "        'https://raw.githubusercontent.com/CSSEGISandData/COVID-19/master/csse_covid_19_data/'\n",
    "        f'csse_covid_19_time_series/time_series_covid19_{name}_global.csv')\n",
    "    df = pd.read_csv(url)\n",
    "    # rename countries\n",
    "    df['Country/Region'] = df['Country/Region'].replace(mapping['replace.country'])\n",
    "    return df"
   ]
  },
  {
   "cell_type": "code",
   "execution_count": 8,
   "id": "affiliated-characterization",
   "metadata": {
    "execution": {
     "iopub.execute_input": "2021-05-26T00:32:54.314929Z",
     "iopub.status.busy": "2021-05-26T00:32:54.314270Z",
     "iopub.status.idle": "2021-05-26T00:32:54.316972Z",
     "shell.execute_reply": "2021-05-26T00:32:54.316440Z"
    },
    "papermill": {
     "duration": 0.045079,
     "end_time": "2021-05-26T00:32:54.317099",
     "exception": false,
     "start_time": "2021-05-26T00:32:54.272020",
     "status": "completed"
    },
    "tags": []
   },
   "outputs": [],
   "source": [
    "#hide\n",
    "def get_dates(df):\n",
    "    dt_cols = df.columns[~df.columns.isin(['Province/State', 'Country/Region', 'Lat', 'Long'])]\n",
    "    LAST_DATE_I = -1\n",
    "    # sometimes last column may be empty, then go backwards\n",
    "    for i in range(-1, -len(dt_cols), -1):\n",
    "        if not df[dt_cols[i]].fillna(0).eq(0).all():\n",
    "            LAST_DATE_I = i\n",
    "            break\n",
    "    return LAST_DATE_I, dt_cols"
   ]
  },
  {
   "cell_type": "code",
   "execution_count": 9,
   "id": "recent-optimization",
   "metadata": {
    "execution": {
     "iopub.execute_input": "2021-05-26T00:32:54.392860Z",
     "iopub.status.busy": "2021-05-26T00:32:54.392197Z",
     "iopub.status.idle": "2021-05-26T00:32:54.692651Z",
     "shell.execute_reply": "2021-05-26T00:32:54.692097Z"
    },
    "papermill": {
     "duration": 0.340641,
     "end_time": "2021-05-26T00:32:54.692786",
     "exception": false,
     "start_time": "2021-05-26T00:32:54.352145",
     "status": "completed"
    },
    "tags": []
   },
   "outputs": [],
   "source": [
    "#hide\n",
    "COL_REGION = 'Country/Region'\n",
    "# Confirmed, Recovered, Deaths\n",
    "df = get_frame('confirmed')\n",
    "# dft_: timeseries, dfc_: today country agg\n",
    "dft_cases = df\n",
    "dft_deaths = get_frame('deaths')\n",
    "dft_recovered = get_frame('recovered')\n",
    "LAST_DATE_I, dt_cols = get_dates(df)"
   ]
  },
  {
   "cell_type": "code",
   "execution_count": 10,
   "id": "absolute-copper",
   "metadata": {
    "execution": {
     "iopub.execute_input": "2021-05-26T00:32:54.772022Z",
     "iopub.status.busy": "2021-05-26T00:32:54.771428Z",
     "iopub.status.idle": "2021-05-26T00:32:54.774006Z",
     "shell.execute_reply": "2021-05-26T00:32:54.773532Z"
    },
    "papermill": {
     "duration": 0.044991,
     "end_time": "2021-05-26T00:32:54.774119",
     "exception": false,
     "start_time": "2021-05-26T00:32:54.729128",
     "status": "completed"
    },
    "tags": []
   },
   "outputs": [],
   "source": [
    "#hide\n",
    "LAST_DATE_I, dt_cols = get_dates(df)\n",
    "dt_today =dt_cols[LAST_DATE_I]\n",
    "# dt_5day = dt_cols[LAST_DATE_I - 5]\n",
    "dt_yday = dt_cols[LAST_DATE_I - 1]"
   ]
  },
  {
   "cell_type": "code",
   "execution_count": 11,
   "id": "restricted-sheriff",
   "metadata": {
    "execution": {
     "iopub.execute_input": "2021-05-26T00:32:54.850863Z",
     "iopub.status.busy": "2021-05-26T00:32:54.850186Z",
     "iopub.status.idle": "2021-05-26T00:32:54.858210Z",
     "shell.execute_reply": "2021-05-26T00:32:54.858805Z"
    },
    "papermill": {
     "duration": 0.049406,
     "end_time": "2021-05-26T00:32:54.858970",
     "exception": false,
     "start_time": "2021-05-26T00:32:54.809564",
     "status": "completed"
    },
    "tags": []
   },
   "outputs": [],
   "source": [
    "#hide\n",
    "dfc_cases = dft_cases.groupby(COL_REGION)[dt_today].sum()\n",
    "dfc_deaths = dft_deaths.groupby(COL_REGION)[dt_today].sum()\n",
    "# dfp_cases = dft_cases.groupby(COL_REGION)[dt_5day].sum()\n",
    "# dfp_deaths = dft_deaths.groupby(COL_REGION)[dt_5day].sum()\n",
    "dfp_cases = dft_cases.groupby(COL_REGION)[dt_yday].sum()\n",
    "dfp_deaths = dft_deaths.groupby(COL_REGION)[dt_yday].sum()"
   ]
  },
  {
   "cell_type": "code",
   "execution_count": 12,
   "id": "deluxe-hepatitis",
   "metadata": {
    "execution": {
     "iopub.execute_input": "2021-05-26T00:32:54.936638Z",
     "iopub.status.busy": "2021-05-26T00:32:54.935882Z",
     "iopub.status.idle": "2021-05-26T00:32:54.940791Z",
     "shell.execute_reply": "2021-05-26T00:32:54.941609Z"
    },
    "papermill": {
     "duration": 0.046281,
     "end_time": "2021-05-26T00:32:54.941744",
     "exception": false,
     "start_time": "2021-05-26T00:32:54.895463",
     "status": "completed"
    },
    "tags": []
   },
   "outputs": [],
   "source": [
    "#hide\n",
    "df_table = (pd.DataFrame(dict(Cases = dfc_cases, Deaths = dfc_deaths, PCases = dfp_cases, PDeaths = dfp_deaths))\n",
    "            .sort_values(by = ['Cases','Deaths'], ascending = [False, False])\n",
    "            .reset_index())"
   ]
  },
  {
   "cell_type": "code",
   "execution_count": 13,
   "id": "educational-chancellor",
   "metadata": {
    "execution": {
     "iopub.execute_input": "2021-05-26T00:32:55.029409Z",
     "iopub.status.busy": "2021-05-26T00:32:55.028779Z",
     "iopub.status.idle": "2021-05-26T00:32:55.038007Z",
     "shell.execute_reply": "2021-05-26T00:32:55.037530Z"
    },
    "papermill": {
     "duration": 0.062339,
     "end_time": "2021-05-26T00:32:55.038121",
     "exception": false,
     "start_time": "2021-05-26T00:32:54.975782",
     "status": "completed"
    },
    "tags": []
   },
   "outputs": [
    {
     "data": {
      "text/html": [
       "<div>\n",
       "<style scoped>\n",
       "    .dataframe tbody tr th:only-of-type {\n",
       "        vertical-align: middle;\n",
       "    }\n",
       "\n",
       "    .dataframe tbody tr th {\n",
       "        vertical-align: top;\n",
       "    }\n",
       "\n",
       "    .dataframe thead th {\n",
       "        text-align: right;\n",
       "    }\n",
       "</style>\n",
       "<table border=\"1\" class=\"dataframe\">\n",
       "  <thead>\n",
       "    <tr style=\"text-align: right;\">\n",
       "      <th></th>\n",
       "      <th>Country/Region</th>\n",
       "      <th>Cases</th>\n",
       "      <th>Deaths</th>\n",
       "      <th>PCases</th>\n",
       "      <th>PDeaths</th>\n",
       "      <th>Cases (+)</th>\n",
       "      <th>Deaths (+)</th>\n",
       "      <th>Fatality Rate</th>\n",
       "      <th>Continent</th>\n",
       "    </tr>\n",
       "  </thead>\n",
       "  <tbody>\n",
       "    <tr>\n",
       "      <th>0</th>\n",
       "      <td>US</td>\n",
       "      <td>33143662</td>\n",
       "      <td>590320</td>\n",
       "      <td>33117737</td>\n",
       "      <td>589893</td>\n",
       "      <td>25925</td>\n",
       "      <td>427</td>\n",
       "      <td>1.78</td>\n",
       "      <td>North America</td>\n",
       "    </tr>\n",
       "    <tr>\n",
       "      <th>1</th>\n",
       "      <td>India</td>\n",
       "      <td>26948874</td>\n",
       "      <td>307231</td>\n",
       "      <td>26752447</td>\n",
       "      <td>303720</td>\n",
       "      <td>196427</td>\n",
       "      <td>3511</td>\n",
       "      <td>1.14</td>\n",
       "      <td>Asia</td>\n",
       "    </tr>\n",
       "    <tr>\n",
       "      <th>2</th>\n",
       "      <td>Brazil</td>\n",
       "      <td>16120756</td>\n",
       "      <td>449858</td>\n",
       "      <td>16083258</td>\n",
       "      <td>449068</td>\n",
       "      <td>37498</td>\n",
       "      <td>790</td>\n",
       "      <td>2.79</td>\n",
       "      <td>South America</td>\n",
       "    </tr>\n",
       "    <tr>\n",
       "      <th>3</th>\n",
       "      <td>France</td>\n",
       "      <td>5667331</td>\n",
       "      <td>108819</td>\n",
       "      <td>5665101</td>\n",
       "      <td>108757</td>\n",
       "      <td>2230</td>\n",
       "      <td>62</td>\n",
       "      <td>1.92</td>\n",
       "      <td>Europe</td>\n",
       "    </tr>\n",
       "    <tr>\n",
       "      <th>4</th>\n",
       "      <td>Turkey</td>\n",
       "      <td>5194010</td>\n",
       "      <td>46446</td>\n",
       "      <td>5186487</td>\n",
       "      <td>46268</td>\n",
       "      <td>7523</td>\n",
       "      <td>178</td>\n",
       "      <td>0.89</td>\n",
       "      <td>Asia</td>\n",
       "    </tr>\n",
       "  </tbody>\n",
       "</table>\n",
       "</div>"
      ],
      "text/plain": [
       "  Country/Region     Cases  Deaths    PCases  PDeaths  Cases (+)  Deaths (+)  \\\n",
       "0             US  33143662  590320  33117737   589893      25925         427   \n",
       "1          India  26948874  307231  26752447   303720     196427        3511   \n",
       "2         Brazil  16120756  449858  16083258   449068      37498         790   \n",
       "3         France   5667331  108819   5665101   108757       2230          62   \n",
       "4         Turkey   5194010   46446   5186487    46268       7523         178   \n",
       "\n",
       "   Fatality Rate      Continent  \n",
       "0           1.78  North America  \n",
       "1           1.14           Asia  \n",
       "2           2.79  South America  \n",
       "3           1.92         Europe  \n",
       "4           0.89           Asia  "
      ]
     },
     "execution_count": 13,
     "metadata": {},
     "output_type": "execute_result"
    }
   ],
   "source": [
    "#hide\n",
    "for c in 'Cases, Deaths'.split(', '):\n",
    "    df_table[f'{c} (+)'] = (df_table[c] - df_table[f'P{c}']).clip(0)\n",
    "    #Clip ça veut dire, les chiffres negatif sont interdit\n",
    "df_table['Fatality Rate'] = (100* df_table['Deaths']/ df_table['Cases']).round(2)\n",
    "df_table['Continent'] = df_table['Country/Region'].map(mapping['map.continent'])\n",
    "df_table.head(5)"
   ]
  },
  {
   "cell_type": "code",
   "execution_count": 14,
   "id": "aboriginal-bulgaria",
   "metadata": {
    "execution": {
     "iopub.execute_input": "2021-05-26T00:32:55.113349Z",
     "iopub.status.busy": "2021-05-26T00:32:55.112687Z",
     "iopub.status.idle": "2021-05-26T00:32:55.116489Z",
     "shell.execute_reply": "2021-05-26T00:32:55.115900Z"
    },
    "papermill": {
     "duration": 0.042677,
     "end_time": "2021-05-26T00:32:55.116615",
     "exception": false,
     "start_time": "2021-05-26T00:32:55.073938",
     "status": "completed"
    },
    "tags": []
   },
   "outputs": [],
   "source": [
    "#hide\n",
    "#delete problematic countries from table\n",
    "df_table = df_table[~df_table['Country/Region'].isin(['Cape Verde', 'Cruise Ship', 'Kosovo'])]"
   ]
  },
  {
   "cell_type": "code",
   "execution_count": 15,
   "id": "fantastic-effect",
   "metadata": {
    "execution": {
     "iopub.execute_input": "2021-05-26T00:32:55.196395Z",
     "iopub.status.busy": "2021-05-26T00:32:55.195742Z",
     "iopub.status.idle": "2021-05-26T00:32:55.216630Z",
     "shell.execute_reply": "2021-05-26T00:32:55.216060Z"
    },
    "papermill": {
     "duration": 0.064621,
     "end_time": "2021-05-26T00:32:55.216763",
     "exception": false,
     "start_time": "2021-05-26T00:32:55.152142",
     "status": "completed"
    },
    "tags": []
   },
   "outputs": [
    {
     "data": {
      "text/html": [
       "<div>\n",
       "<style scoped>\n",
       "    .dataframe tbody tr th:only-of-type {\n",
       "        vertical-align: middle;\n",
       "    }\n",
       "\n",
       "    .dataframe tbody tr th {\n",
       "        vertical-align: top;\n",
       "    }\n",
       "\n",
       "    .dataframe thead th {\n",
       "        text-align: right;\n",
       "    }\n",
       "</style>\n",
       "<table border=\"1\" class=\"dataframe\">\n",
       "  <thead>\n",
       "    <tr style=\"text-align: right;\">\n",
       "      <th></th>\n",
       "      <th>Country/Region</th>\n",
       "      <th>Cases</th>\n",
       "      <th>Deaths</th>\n",
       "      <th>PCases</th>\n",
       "      <th>PDeaths</th>\n",
       "      <th>Cases (+)</th>\n",
       "      <th>Deaths (+)</th>\n",
       "      <th>Fatality Rate</th>\n",
       "      <th>Continent</th>\n",
       "    </tr>\n",
       "  </thead>\n",
       "  <tbody>\n",
       "    <tr>\n",
       "      <th>0</th>\n",
       "      <td>US</td>\n",
       "      <td>33143662</td>\n",
       "      <td>590320</td>\n",
       "      <td>33117737</td>\n",
       "      <td>589893</td>\n",
       "      <td>25925</td>\n",
       "      <td>427</td>\n",
       "      <td>1.8</td>\n",
       "      <td>North America</td>\n",
       "    </tr>\n",
       "    <tr>\n",
       "      <th>1</th>\n",
       "      <td>India</td>\n",
       "      <td>26948874</td>\n",
       "      <td>307231</td>\n",
       "      <td>26752447</td>\n",
       "      <td>303720</td>\n",
       "      <td>196427</td>\n",
       "      <td>3511</td>\n",
       "      <td>1.1</td>\n",
       "      <td>Asia</td>\n",
       "    </tr>\n",
       "    <tr>\n",
       "      <th>2</th>\n",
       "      <td>Brazil</td>\n",
       "      <td>16120756</td>\n",
       "      <td>449858</td>\n",
       "      <td>16083258</td>\n",
       "      <td>449068</td>\n",
       "      <td>37498</td>\n",
       "      <td>790</td>\n",
       "      <td>2.8</td>\n",
       "      <td>South America</td>\n",
       "    </tr>\n",
       "    <tr>\n",
       "      <th>3</th>\n",
       "      <td>France</td>\n",
       "      <td>5667331</td>\n",
       "      <td>108819</td>\n",
       "      <td>5665101</td>\n",
       "      <td>108757</td>\n",
       "      <td>2230</td>\n",
       "      <td>62</td>\n",
       "      <td>1.9</td>\n",
       "      <td>Europe</td>\n",
       "    </tr>\n",
       "    <tr>\n",
       "      <th>4</th>\n",
       "      <td>Turkey</td>\n",
       "      <td>5194010</td>\n",
       "      <td>46446</td>\n",
       "      <td>5186487</td>\n",
       "      <td>46268</td>\n",
       "      <td>7523</td>\n",
       "      <td>178</td>\n",
       "      <td>0.9</td>\n",
       "      <td>Asia</td>\n",
       "    </tr>\n",
       "  </tbody>\n",
       "</table>\n",
       "</div>"
      ],
      "text/plain": [
       "  Country/Region     Cases  Deaths    PCases  PDeaths  Cases (+)  Deaths (+)  \\\n",
       "0             US  33143662  590320  33117737   589893      25925         427   \n",
       "1          India  26948874  307231  26752447   303720     196427        3511   \n",
       "2         Brazil  16120756  449858  16083258   449068      37498         790   \n",
       "3         France   5667331  108819   5665101   108757       2230          62   \n",
       "4         Turkey   5194010   46446   5186487    46268       7523         178   \n",
       "\n",
       "   Fatality Rate      Continent  \n",
       "0            1.8  North America  \n",
       "1            1.1           Asia  \n",
       "2            2.8  South America  \n",
       "3            1.9         Europe  \n",
       "4            0.9           Asia  "
      ]
     },
     "execution_count": 15,
     "metadata": {},
     "output_type": "execute_result"
    }
   ],
   "source": [
    "#hide\n",
    "df_table = (pd.DataFrame(dict(Cases=dfc_cases, Deaths=dfc_deaths, PCases=dfp_cases, PDeaths=dfp_deaths))\n",
    "             .sort_values(by=['Cases', 'Deaths'], ascending=[False, False])\n",
    "             .reset_index())\n",
    "df_table.rename(columns={'index': 'Country/Region'}, inplace=True)\n",
    "for c in 'Cases, Deaths'.split(', '):\n",
    "    df_table[f'{c} (+)'] = (df_table[c] - df_table[f'P{c}']).clip(0)  # DATA BUG\n",
    "df_table['Fatality Rate'] = (100 * df_table['Deaths'] / df_table['Cases']).round(1)\n",
    "df_table['Continent'] = df_table['Country/Region'].map(mapping['map.continent'])\n",
    "df_table.head(5)"
   ]
  },
  {
   "cell_type": "code",
   "execution_count": 16,
   "id": "fewer-occasion",
   "metadata": {
    "execution": {
     "iopub.execute_input": "2021-05-26T00:32:55.297891Z",
     "iopub.status.busy": "2021-05-26T00:32:55.297301Z",
     "iopub.status.idle": "2021-05-26T00:32:55.299394Z",
     "shell.execute_reply": "2021-05-26T00:32:55.299904Z"
    },
    "papermill": {
     "duration": 0.045217,
     "end_time": "2021-05-26T00:32:55.300031",
     "exception": false,
     "start_time": "2021-05-26T00:32:55.254814",
     "status": "completed"
    },
    "tags": []
   },
   "outputs": [],
   "source": [
    "#hide\n",
    "#delete problematic countries from table\n",
    "df_table = df_table[~df_table['Country/Region'].isin(['Cape Verde', 'Cruise Ship', 'Kosovo'])]"
   ]
  },
  {
   "cell_type": "code",
   "execution_count": 17,
   "id": "related-center",
   "metadata": {
    "execution": {
     "iopub.execute_input": "2021-05-26T00:32:55.395663Z",
     "iopub.status.busy": "2021-05-26T00:32:55.395067Z",
     "iopub.status.idle": "2021-05-26T00:32:55.397121Z",
     "shell.execute_reply": "2021-05-26T00:32:55.397587Z"
    },
    "papermill": {
     "duration": 0.061111,
     "end_time": "2021-05-26T00:32:55.397724",
     "exception": false,
     "start_time": "2021-05-26T00:32:55.336613",
     "status": "completed"
    },
    "tags": []
   },
   "outputs": [],
   "source": [
    "#hide\n",
    "metrics = [df_table.columns[index] for index in [1,2,5,6]]\n",
    "# s_china = df_table[df_table['Country/Region'].eq('China')][metrics].sum().add_prefix('China ')\n",
    "s_us = df_table[df_table['Country/Region'].eq('US')][metrics].sum().add_prefix('US ')\n",
    "s_eu = df_table[df_table['Continent'].eq('Europe')][metrics].sum().add_prefix('EU ')\n",
    "s_ind = df_table[df_table['Country/Region'].eq('India')][metrics].sum().add_prefix('India ')\n",
    "summary = {'updated': pd.to_datetime(dt_today), 'since': pd.to_datetime(dt_yday)}\n",
    "summary = {'updated': pd.to_datetime(dt_today), 'since': pd.to_datetime(dt_yday)}\n",
    "summary = {**summary, **df_table[metrics].sum(), **s_ind, **s_us, **s_eu}"
   ]
  },
  {
   "cell_type": "code",
   "execution_count": 18,
   "id": "engaging-syndrome",
   "metadata": {
    "execution": {
     "iopub.execute_input": "2021-05-26T00:32:55.478447Z",
     "iopub.status.busy": "2021-05-26T00:32:55.477793Z",
     "iopub.status.idle": "2021-05-26T00:32:55.490941Z",
     "shell.execute_reply": "2021-05-26T00:32:55.490437Z"
    },
    "papermill": {
     "duration": 0.054911,
     "end_time": "2021-05-26T00:32:55.491061",
     "exception": false,
     "start_time": "2021-05-26T00:32:55.436150",
     "status": "completed"
    },
    "tags": []
   },
   "outputs": [],
   "source": [
    "#hide\n",
    "dft_ct_new_cases = dft_cases.groupby(COL_REGION)[dt_cols].sum().diff(axis=1).fillna(0).astype(int)"
   ]
  },
  {
   "cell_type": "code",
   "execution_count": 19,
   "id": "neutral-assignment",
   "metadata": {
    "execution": {
     "iopub.execute_input": "2021-05-26T00:32:55.567434Z",
     "iopub.status.busy": "2021-05-26T00:32:55.566847Z",
     "iopub.status.idle": "2021-05-26T00:32:55.569365Z",
     "shell.execute_reply": "2021-05-26T00:32:55.568826Z"
    },
    "papermill": {
     "duration": 0.042724,
     "end_time": "2021-05-26T00:32:55.569478",
     "exception": false,
     "start_time": "2021-05-26T00:32:55.526754",
     "status": "completed"
    },
    "tags": []
   },
   "outputs": [],
   "source": [
    "#hide\n",
    "everydaycases = dft_ct_new_cases.cumsum(axis=1)"
   ]
  },
  {
   "cell_type": "code",
   "execution_count": 20,
   "id": "parliamentary-calgary",
   "metadata": {
    "execution": {
     "iopub.execute_input": "2021-05-26T00:32:55.645936Z",
     "iopub.status.busy": "2021-05-26T00:32:55.644805Z",
     "iopub.status.idle": "2021-05-26T00:32:56.374186Z",
     "shell.execute_reply": "2021-05-26T00:32:56.374670Z"
    },
    "papermill": {
     "duration": 0.769604,
     "end_time": "2021-05-26T00:32:56.374835",
     "exception": false,
     "start_time": "2021-05-26T00:32:55.605231",
     "status": "completed"
    },
    "tags": []
   },
   "outputs": [],
   "source": [
    "#hide\n",
    "import pandas as pd\n",
    "import matplotlib.pyplot as plt\n",
    "import matplotlib.ticker as ticker\n",
    "import matplotlib.animation as animation\n",
    "from IPython.display import HTML"
   ]
  },
  {
   "cell_type": "code",
   "execution_count": 21,
   "id": "lasting-extraction",
   "metadata": {
    "execution": {
     "iopub.execute_input": "2021-05-26T00:32:56.453978Z",
     "iopub.status.busy": "2021-05-26T00:32:56.453389Z",
     "iopub.status.idle": "2021-05-26T00:32:56.458766Z",
     "shell.execute_reply": "2021-05-26T00:32:56.458266Z"
    },
    "papermill": {
     "duration": 0.046815,
     "end_time": "2021-05-26T00:32:56.458880",
     "exception": false,
     "start_time": "2021-05-26T00:32:56.412065",
     "status": "completed"
    },
    "tags": []
   },
   "outputs": [],
   "source": [
    "#hide\n",
    "t = everydaycases.stack()"
   ]
  },
  {
   "cell_type": "code",
   "execution_count": 22,
   "id": "premier-sleeve",
   "metadata": {
    "execution": {
     "iopub.execute_input": "2021-05-26T00:32:56.533123Z",
     "iopub.status.busy": "2021-05-26T00:32:56.532446Z",
     "iopub.status.idle": "2021-05-26T00:32:56.539577Z",
     "shell.execute_reply": "2021-05-26T00:32:56.540188Z"
    },
    "papermill": {
     "duration": 0.046566,
     "end_time": "2021-05-26T00:32:56.540331",
     "exception": false,
     "start_time": "2021-05-26T00:32:56.493765",
     "status": "completed"
    },
    "tags": []
   },
   "outputs": [],
   "source": [
    "#hide\n",
    "g = t.reset_index(['Country/Region'])"
   ]
  },
  {
   "cell_type": "code",
   "execution_count": 23,
   "id": "distributed-pittsburgh",
   "metadata": {
    "execution": {
     "iopub.execute_input": "2021-05-26T00:32:56.615602Z",
     "iopub.status.busy": "2021-05-26T00:32:56.615021Z",
     "iopub.status.idle": "2021-05-26T00:32:56.616981Z",
     "shell.execute_reply": "2021-05-26T00:32:56.617550Z"
    },
    "papermill": {
     "duration": 0.041843,
     "end_time": "2021-05-26T00:32:56.617698",
     "exception": false,
     "start_time": "2021-05-26T00:32:56.575855",
     "status": "completed"
    },
    "tags": []
   },
   "outputs": [],
   "source": [
    "#hide\n",
    "g.index.name = 'date'"
   ]
  },
  {
   "cell_type": "code",
   "execution_count": 24,
   "id": "naked-donor",
   "metadata": {
    "execution": {
     "iopub.execute_input": "2021-05-26T00:32:56.693244Z",
     "iopub.status.busy": "2021-05-26T00:32:56.692559Z",
     "iopub.status.idle": "2021-05-26T00:32:56.694611Z",
     "shell.execute_reply": "2021-05-26T00:32:56.695530Z"
    },
    "papermill": {
     "duration": 0.041169,
     "end_time": "2021-05-26T00:32:56.695659",
     "exception": false,
     "start_time": "2021-05-26T00:32:56.654490",
     "status": "completed"
    },
    "tags": []
   },
   "outputs": [],
   "source": [
    "# #hide\n",
    "# g = g.reset_index(['date'])"
   ]
  },
  {
   "cell_type": "code",
   "execution_count": 25,
   "id": "incomplete-mustang",
   "metadata": {
    "execution": {
     "iopub.execute_input": "2021-05-26T00:32:56.769137Z",
     "iopub.status.busy": "2021-05-26T00:32:56.768524Z",
     "iopub.status.idle": "2021-05-26T00:32:56.770498Z",
     "shell.execute_reply": "2021-05-26T00:32:56.771092Z"
    },
    "papermill": {
     "duration": 0.04054,
     "end_time": "2021-05-26T00:32:56.771219",
     "exception": false,
     "start_time": "2021-05-26T00:32:56.730679",
     "status": "completed"
    },
    "tags": []
   },
   "outputs": [],
   "source": [
    "#hide\n",
    "# g.head()"
   ]
  },
  {
   "cell_type": "code",
   "execution_count": 26,
   "id": "specific-kruger",
   "metadata": {
    "execution": {
     "iopub.execute_input": "2021-05-26T00:32:56.846172Z",
     "iopub.status.busy": "2021-05-26T00:32:56.845594Z",
     "iopub.status.idle": "2021-05-26T00:32:56.848440Z",
     "shell.execute_reply": "2021-05-26T00:32:56.849032Z"
    },
    "papermill": {
     "duration": 0.042329,
     "end_time": "2021-05-26T00:32:56.849162",
     "exception": false,
     "start_time": "2021-05-26T00:32:56.806833",
     "status": "completed"
    },
    "tags": []
   },
   "outputs": [],
   "source": [
    "#hide\n",
    "# g.columns = ['date','country','cases']"
   ]
  },
  {
   "cell_type": "code",
   "execution_count": 27,
   "id": "tender-conversion",
   "metadata": {
    "execution": {
     "iopub.execute_input": "2021-05-26T00:32:56.925087Z",
     "iopub.status.busy": "2021-05-26T00:32:56.924389Z",
     "iopub.status.idle": "2021-05-26T00:32:56.926844Z",
     "shell.execute_reply": "2021-05-26T00:32:56.927569Z"
    },
    "papermill": {
     "duration": 0.043751,
     "end_time": "2021-05-26T00:32:56.927713",
     "exception": false,
     "start_time": "2021-05-26T00:32:56.883962",
     "status": "completed"
    },
    "tags": []
   },
   "outputs": [],
   "source": [
    "#hide\n",
    "# g['continent'] = g.country"
   ]
  },
  {
   "cell_type": "code",
   "execution_count": 28,
   "id": "substantial-wilderness",
   "metadata": {
    "execution": {
     "iopub.execute_input": "2021-05-26T00:32:57.005065Z",
     "iopub.status.busy": "2021-05-26T00:32:57.004361Z",
     "iopub.status.idle": "2021-05-26T00:32:57.006601Z",
     "shell.execute_reply": "2021-05-26T00:32:57.007080Z"
    },
    "papermill": {
     "duration": 0.0419,
     "end_time": "2021-05-26T00:32:57.007207",
     "exception": false,
     "start_time": "2021-05-26T00:32:56.965307",
     "status": "completed"
    },
    "tags": []
   },
   "outputs": [],
   "source": [
    "#hide\n",
    "# cols = list(g.columns.values)"
   ]
  },
  {
   "cell_type": "code",
   "execution_count": 29,
   "id": "solved-farming",
   "metadata": {
    "execution": {
     "iopub.execute_input": "2021-05-26T00:32:57.084486Z",
     "iopub.status.busy": "2021-05-26T00:32:57.083822Z",
     "iopub.status.idle": "2021-05-26T00:32:57.085865Z",
     "shell.execute_reply": "2021-05-26T00:32:57.086411Z"
    },
    "papermill": {
     "duration": 0.042557,
     "end_time": "2021-05-26T00:32:57.086537",
     "exception": false,
     "start_time": "2021-05-26T00:32:57.043980",
     "status": "completed"
    },
    "tags": []
   },
   "outputs": [],
   "source": [
    "#hide\n",
    "# cols.insert(0, cols.pop())"
   ]
  },
  {
   "cell_type": "code",
   "execution_count": 30,
   "id": "executed-adoption",
   "metadata": {
    "execution": {
     "iopub.execute_input": "2021-05-26T00:32:57.163541Z",
     "iopub.status.busy": "2021-05-26T00:32:57.162876Z",
     "iopub.status.idle": "2021-05-26T00:32:57.165122Z",
     "shell.execute_reply": "2021-05-26T00:32:57.165600Z"
    },
    "papermill": {
     "duration": 0.043594,
     "end_time": "2021-05-26T00:32:57.165740",
     "exception": false,
     "start_time": "2021-05-26T00:32:57.122146",
     "status": "completed"
    },
    "tags": []
   },
   "outputs": [],
   "source": [
    "#hide\n",
    "# g = g[cols]"
   ]
  },
  {
   "cell_type": "code",
   "execution_count": 31,
   "id": "subject-dublin",
   "metadata": {
    "execution": {
     "iopub.execute_input": "2021-05-26T00:32:57.240845Z",
     "iopub.status.busy": "2021-05-26T00:32:57.240115Z",
     "iopub.status.idle": "2021-05-26T00:32:57.242668Z",
     "shell.execute_reply": "2021-05-26T00:32:57.242167Z"
    },
    "papermill": {
     "duration": 0.040599,
     "end_time": "2021-05-26T00:32:57.242781",
     "exception": false,
     "start_time": "2021-05-26T00:32:57.202182",
     "status": "completed"
    },
    "tags": []
   },
   "outputs": [],
   "source": [
    "#hide\n",
    "# g['continent'] = g['continent'].map(mapping['map.continent'])"
   ]
  },
  {
   "cell_type": "code",
   "execution_count": 32,
   "id": "freelance-scout",
   "metadata": {
    "execution": {
     "iopub.execute_input": "2021-05-26T00:32:57.322263Z",
     "iopub.status.busy": "2021-05-26T00:32:57.321668Z",
     "iopub.status.idle": "2021-05-26T00:32:57.324355Z",
     "shell.execute_reply": "2021-05-26T00:32:57.323856Z"
    },
    "papermill": {
     "duration": 0.042144,
     "end_time": "2021-05-26T00:32:57.324470",
     "exception": false,
     "start_time": "2021-05-26T00:32:57.282326",
     "status": "completed"
    },
    "tags": []
   },
   "outputs": [],
   "source": [
    "#hide\n",
    "# g.head()"
   ]
  },
  {
   "cell_type": "code",
   "execution_count": 33,
   "id": "limited-engine",
   "metadata": {
    "execution": {
     "iopub.execute_input": "2021-05-26T00:32:57.401804Z",
     "iopub.status.busy": "2021-05-26T00:32:57.400233Z",
     "iopub.status.idle": "2021-05-26T00:32:57.403275Z",
     "shell.execute_reply": "2021-05-26T00:32:57.402807Z"
    },
    "papermill": {
     "duration": 0.043809,
     "end_time": "2021-05-26T00:32:57.403387",
     "exception": false,
     "start_time": "2021-05-26T00:32:57.359578",
     "status": "completed"
    },
    "tags": []
   },
   "outputs": [],
   "source": [
    "# hide\n",
    "# g['date'] = g['date'].astype('datetime64[ns]')"
   ]
  },
  {
   "cell_type": "code",
   "execution_count": 34,
   "id": "sophisticated-supervisor",
   "metadata": {
    "execution": {
     "iopub.execute_input": "2021-05-26T00:32:57.483083Z",
     "iopub.status.busy": "2021-05-26T00:32:57.482419Z",
     "iopub.status.idle": "2021-05-26T00:32:57.486239Z",
     "shell.execute_reply": "2021-05-26T00:32:57.486685Z"
    },
    "papermill": {
     "duration": 0.043553,
     "end_time": "2021-05-26T00:32:57.486820",
     "exception": false,
     "start_time": "2021-05-26T00:32:57.443267",
     "status": "completed"
    },
    "tags": []
   },
   "outputs": [],
   "source": [
    "#hide\n",
    "# g['date'] = g.date.dt.dayofyear"
   ]
  },
  {
   "cell_type": "code",
   "execution_count": 35,
   "id": "inside-dubai",
   "metadata": {
    "execution": {
     "iopub.execute_input": "2021-05-26T00:32:57.564128Z",
     "iopub.status.busy": "2021-05-26T00:32:57.563473Z",
     "iopub.status.idle": "2021-05-26T00:32:57.566132Z",
     "shell.execute_reply": "2021-05-26T00:32:57.565522Z"
    },
    "papermill": {
     "duration": 0.042761,
     "end_time": "2021-05-26T00:32:57.566279",
     "exception": false,
     "start_time": "2021-05-26T00:32:57.523518",
     "status": "completed"
    },
    "tags": []
   },
   "outputs": [],
   "source": [
    "#hide\n",
    "# g = g.rename(columns= {'continent':'group','country':'name','cases':'value'})"
   ]
  },
  {
   "cell_type": "code",
   "execution_count": 36,
   "id": "fleet-motorcycle",
   "metadata": {
    "execution": {
     "iopub.execute_input": "2021-05-26T00:32:57.642345Z",
     "iopub.status.busy": "2021-05-26T00:32:57.641359Z",
     "iopub.status.idle": "2021-05-26T00:32:57.644007Z",
     "shell.execute_reply": "2021-05-26T00:32:57.644599Z"
    },
    "papermill": {
     "duration": 0.042174,
     "end_time": "2021-05-26T00:32:57.644738",
     "exception": false,
     "start_time": "2021-05-26T00:32:57.602564",
     "status": "completed"
    },
    "tags": []
   },
   "outputs": [],
   "source": [
    "#hide\n",
    "# cols = ['name','group','day','value']"
   ]
  },
  {
   "cell_type": "code",
   "execution_count": 37,
   "id": "continued-sleeping",
   "metadata": {
    "execution": {
     "iopub.execute_input": "2021-05-26T00:32:57.721066Z",
     "iopub.status.busy": "2021-05-26T00:32:57.720395Z",
     "iopub.status.idle": "2021-05-26T00:32:57.722482Z",
     "shell.execute_reply": "2021-05-26T00:32:57.722936Z"
    },
    "papermill": {
     "duration": 0.042387,
     "end_time": "2021-05-26T00:32:57.723063",
     "exception": false,
     "start_time": "2021-05-26T00:32:57.680676",
     "status": "completed"
    },
    "tags": []
   },
   "outputs": [],
   "source": [
    "#hide\n",
    "# g.rename(columns= {'date':'day'},inplace = True)"
   ]
  },
  {
   "cell_type": "code",
   "execution_count": 38,
   "id": "major-fight",
   "metadata": {
    "execution": {
     "iopub.execute_input": "2021-05-26T00:32:57.803778Z",
     "iopub.status.busy": "2021-05-26T00:32:57.803188Z",
     "iopub.status.idle": "2021-05-26T00:32:57.805380Z",
     "shell.execute_reply": "2021-05-26T00:32:57.805890Z"
    },
    "papermill": {
     "duration": 0.047285,
     "end_time": "2021-05-26T00:32:57.806015",
     "exception": false,
     "start_time": "2021-05-26T00:32:57.758730",
     "status": "completed"
    },
    "tags": []
   },
   "outputs": [],
   "source": [
    "#hide\n",
    "# g = g[cols]"
   ]
  },
  {
   "cell_type": "code",
   "execution_count": 39,
   "id": "structured-mobile",
   "metadata": {
    "execution": {
     "iopub.execute_input": "2021-05-26T00:32:57.882048Z",
     "iopub.status.busy": "2021-05-26T00:32:57.881460Z",
     "iopub.status.idle": "2021-05-26T00:32:57.884090Z",
     "shell.execute_reply": "2021-05-26T00:32:57.883589Z"
    },
    "papermill": {
     "duration": 0.04205,
     "end_time": "2021-05-26T00:32:57.884235",
     "exception": false,
     "start_time": "2021-05-26T00:32:57.842185",
     "status": "completed"
    },
    "tags": []
   },
   "outputs": [],
   "source": [
    "# #hide\n",
    "# g = g[g.group.notna()]"
   ]
  },
  {
   "cell_type": "code",
   "execution_count": 40,
   "id": "determined-closing",
   "metadata": {
    "execution": {
     "iopub.execute_input": "2021-05-26T00:32:57.961464Z",
     "iopub.status.busy": "2021-05-26T00:32:57.960834Z",
     "iopub.status.idle": "2021-05-26T00:32:57.963278Z",
     "shell.execute_reply": "2021-05-26T00:32:57.962779Z"
    },
    "papermill": {
     "duration": 0.042465,
     "end_time": "2021-05-26T00:32:57.963390",
     "exception": false,
     "start_time": "2021-05-26T00:32:57.920925",
     "status": "completed"
    },
    "tags": []
   },
   "outputs": [],
   "source": [
    "# #hide\n",
    "# colors = dict(zip(\n",
    "#     [\"Oceania\", \"Europe\", \"Asia\", \"South America\", \"Middle East\", \"North America\", \"Africa\"],\n",
    "#     [\"#adb0ff\", \"#ffb3ff\", \"#90d595\", \"#e48381\", \"#aafbff\", \"#f7bb5f\", \"#eafb50\"]\n",
    "# ))\n",
    "# group_lk = g.set_index('name')['group'].to_dict()"
   ]
  },
  {
   "cell_type": "code",
   "execution_count": null,
   "id": "gross-drinking",
   "metadata": {
    "papermill": {
     "duration": 0.035548,
     "end_time": "2021-05-26T00:32:58.034303",
     "exception": false,
     "start_time": "2021-05-26T00:32:57.998755",
     "status": "completed"
    },
    "tags": []
   },
   "outputs": [],
   "source": []
  },
  {
   "cell_type": "code",
   "execution_count": 41,
   "id": "subject-macintosh",
   "metadata": {
    "execution": {
     "iopub.execute_input": "2021-05-26T00:32:58.110995Z",
     "iopub.status.busy": "2021-05-26T00:32:58.110325Z",
     "iopub.status.idle": "2021-05-26T00:32:58.112918Z",
     "shell.execute_reply": "2021-05-26T00:32:58.112391Z"
    },
    "papermill": {
     "duration": 0.042568,
     "end_time": "2021-05-26T00:32:58.113038",
     "exception": false,
     "start_time": "2021-05-26T00:32:58.070470",
     "status": "completed"
    },
    "tags": []
   },
   "outputs": [],
   "source": [
    "# #hide\n",
    "# fig, ax = plt.subplots(figsize=(15, 8))\n",
    "\n",
    "# def draw_barchart(current_day):\n",
    "#     dff = g[g['day'].eq(current_day)].sort_values(by='value', ascending=True).tail(10)\n",
    "#     ax.clear()\n",
    "#     ax.barh(dff['name'], dff['value'], color=[colors[group_lk[x]] for x in dff['name']])\n",
    "#     dx = dff['value'].max() / 200\n",
    "    \n",
    "#     for i, (value, name) in enumerate(zip(dff['value'], dff['name'])):\n",
    "#         ax.text(value-dx, i,     name,           size=14, weight=600, ha='right', va='bottom')\n",
    "#         ax.text(value-dx, i-.25, group_lk[name], size=10, color='#444444', ha='right', va='baseline')\n",
    "#         ax.text(value+dx, i,     f'{value:,.0f}',  size=14, ha='left',  va='center')\n",
    "#     ax.text(1, 0.4, current_day, transform=ax.transAxes, color='#777777', size=46, ha='right', weight=800)\n",
    "#     ax.text(0, 1.06, 'Population (thousands)', transform=ax.transAxes, size=12, color='#777777')\n",
    "#     ax.xaxis.set_major_formatter(ticker.StrMethodFormatter('{x:,.0f}'))\n",
    "#     ax.xaxis.set_ticks_position('top')\n",
    "#     ax.tick_params(axis='x', colors='#777777', labelsize=12)\n",
    "#     ax.set_yticks([])\n",
    "#     ax.margins(0, 0.01)\n",
    "#     ax.grid(which='major', axis='x', linestyle='-')\n",
    "#     ax.set_axisbelow(True)\n",
    "    \n",
    "#     ax.text(0, 1.15, 'Coronavirus',\n",
    "#             transform=ax.transAxes, size=24, weight=600, ha='left', va='top')\n",
    "# #     ax.text(1, 0, 'by @pratapvardhan; credit @jburnmurdoch', transform=ax.transAxes, color='#777777', ha='right',\n",
    "# #             bbox=dict(facecolor='white', alpha=0.8, edgecolor='white'))\n",
    "#     plt.box(False)"
   ]
  },
  {
   "cell_type": "code",
   "execution_count": 42,
   "id": "sexual-wages",
   "metadata": {
    "execution": {
     "iopub.execute_input": "2021-05-26T00:32:58.191492Z",
     "iopub.status.busy": "2021-05-26T00:32:58.190862Z",
     "iopub.status.idle": "2021-05-26T00:32:58.192869Z",
     "shell.execute_reply": "2021-05-26T00:32:58.193475Z"
    },
    "papermill": {
     "duration": 0.042252,
     "end_time": "2021-05-26T00:32:58.193606",
     "exception": false,
     "start_time": "2021-05-26T00:32:58.151354",
     "status": "completed"
    },
    "tags": []
   },
   "outputs": [],
   "source": [
    "# #hide_input\n",
    "# fig, ax = plt.subplots(figsize=(15, 8))\n",
    "# animator = animation.FuncAnimation(fig, draw_barchart, frames=range(g.day.values.min(), g.day.values.max()))\n",
    "# HTML(animator.to_jshtml())\n",
    "# # or use animator.to_html5_video() or animator.save() "
   ]
  },
  {
   "cell_type": "code",
   "execution_count": null,
   "id": "australian-container",
   "metadata": {
    "papermill": {
     "duration": 0.035012,
     "end_time": "2021-05-26T00:32:58.263891",
     "exception": false,
     "start_time": "2021-05-26T00:32:58.228879",
     "status": "completed"
    },
    "tags": []
   },
   "outputs": [],
   "source": []
  },
  {
   "cell_type": "code",
   "execution_count": null,
   "id": "mediterranean-pontiac",
   "metadata": {
    "papermill": {
     "duration": 0.03532,
     "end_time": "2021-05-26T00:32:58.336004",
     "exception": false,
     "start_time": "2021-05-26T00:32:58.300684",
     "status": "completed"
    },
    "tags": []
   },
   "outputs": [],
   "source": []
  },
  {
   "cell_type": "code",
   "execution_count": null,
   "id": "aging-legislature",
   "metadata": {
    "papermill": {
     "duration": 0.036738,
     "end_time": "2021-05-26T00:32:58.408642",
     "exception": false,
     "start_time": "2021-05-26T00:32:58.371904",
     "status": "completed"
    },
    "tags": []
   },
   "outputs": [],
   "source": []
  }
 ],
 "metadata": {
  "kernelspec": {
   "display_name": "Python 3",
   "language": "python",
   "name": "python3"
  },
  "language_info": {
   "codemirror_mode": {
    "name": "ipython",
    "version": 3
   },
   "file_extension": ".py",
   "mimetype": "text/x-python",
   "name": "python",
   "nbconvert_exporter": "python",
   "pygments_lexer": "ipython3",
   "version": "3.6.13"
  },
  "papermill": {
   "duration": 6.834554,
   "end_time": "2021-05-26T00:32:58.752075",
   "environment_variables": {},
   "exception": null,
   "input_path": "2020-03-21-covid19exp.ipynb",
   "output_path": "2020-03-21-covid19exp.ipynb",
   "parameters": {},
   "start_time": "2021-05-26T00:32:51.917521",
   "version": "2.0.0"
  }
 },
 "nbformat": 4,
 "nbformat_minor": 5
}