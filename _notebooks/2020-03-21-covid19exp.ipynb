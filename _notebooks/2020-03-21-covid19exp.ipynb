{
 "cells": [
  {
   "cell_type": "markdown",
   "id": "muslim-click",
   "metadata": {
    "papermill": {
     "duration": 0.038261,
     "end_time": "2021-10-20T12:12:21.707682",
     "exception": false,
     "start_time": "2021-10-20T12:12:21.669421",
     "status": "completed"
    },
    "tags": []
   },
   "source": [
    "# COVID-19 Case Race\n",
    "> A race chart to see rising cases around the world\n",
    "\n",
    "- author: Hargun Oberoi\n",
    "- image: images/covid-overview.png\n",
    "- hide: false\n",
    "- badges: false"
   ]
  },
  {
   "cell_type": "code",
   "execution_count": 1,
   "id": "proof-material",
   "metadata": {
    "execution": {
     "iopub.execute_input": "2021-10-20T12:12:21.782618Z",
     "iopub.status.busy": "2021-10-20T12:12:21.782015Z",
     "iopub.status.idle": "2021-10-20T12:12:22.152695Z",
     "shell.execute_reply": "2021-10-20T12:12:22.152105Z"
    },
    "papermill": {
     "duration": 0.413606,
     "end_time": "2021-10-20T12:12:22.152863",
     "exception": false,
     "start_time": "2021-10-20T12:12:21.739257",
     "status": "completed"
    },
    "tags": []
   },
   "outputs": [],
   "source": [
    "#hide\n",
    "import numpy as np\n",
    "import pandas as pd\n",
    "from jinja2 import Template\n",
    "from IPython.display import HTML"
   ]
  },
  {
   "cell_type": "code",
   "execution_count": 2,
   "id": "developed-terminology",
   "metadata": {
    "execution": {
     "iopub.execute_input": "2021-10-20T12:12:22.231601Z",
     "iopub.status.busy": "2021-10-20T12:12:22.230769Z",
     "iopub.status.idle": "2021-10-20T12:12:22.234200Z",
     "shell.execute_reply": "2021-10-20T12:12:22.233722Z"
    },
    "papermill": {
     "duration": 0.046637,
     "end_time": "2021-10-20T12:12:22.234328",
     "exception": false,
     "start_time": "2021-10-20T12:12:22.187691",
     "status": "completed"
    },
    "tags": []
   },
   "outputs": [],
   "source": [
    "#hide\n",
    "\n",
    "# FETCH\n",
    "base_url = 'https://raw.githubusercontent.com/pratapvardhan/notebooks/master/covid19/'\n",
    "paths = {\n",
    "    'mapping': base_url + 'mapping_countries.csv',\n",
    "    'overview': base_url + 'overview.tpl'\n",
    "}"
   ]
  },
  {
   "cell_type": "code",
   "execution_count": 3,
   "id": "dynamic-saver",
   "metadata": {
    "execution": {
     "iopub.execute_input": "2021-10-20T12:12:22.313312Z",
     "iopub.status.busy": "2021-10-20T12:12:22.310704Z",
     "iopub.status.idle": "2021-10-20T12:12:22.316292Z",
     "shell.execute_reply": "2021-10-20T12:12:22.316801Z"
    },
    "papermill": {
     "duration": 0.048717,
     "end_time": "2021-10-20T12:12:22.316963",
     "exception": false,
     "start_time": "2021-10-20T12:12:22.268246",
     "status": "completed"
    },
    "tags": []
   },
   "outputs": [
    {
     "data": {
      "text/plain": [
       "'https://raw.githubusercontent.com/pratapvardhan/notebooks/master/covid19/mapping_countries.csv'"
      ]
     },
     "execution_count": 3,
     "metadata": {},
     "output_type": "execute_result"
    }
   ],
   "source": [
    "#hide\n",
    "paths['mapping']"
   ]
  },
  {
   "cell_type": "code",
   "execution_count": 4,
   "id": "urban-software",
   "metadata": {
    "execution": {
     "iopub.execute_input": "2021-10-20T12:12:22.390956Z",
     "iopub.status.busy": "2021-10-20T12:12:22.390339Z",
     "iopub.status.idle": "2021-10-20T12:12:22.392789Z",
     "shell.execute_reply": "2021-10-20T12:12:22.393355Z"
    },
    "papermill": {
     "duration": 0.042748,
     "end_time": "2021-10-20T12:12:22.393486",
     "exception": false,
     "start_time": "2021-10-20T12:12:22.350738",
     "status": "completed"
    },
    "tags": []
   },
   "outputs": [],
   "source": [
    "#hide\n",
    "def get_mappings(url):\n",
    "    df = pd.read_csv(url)\n",
    "    return {\n",
    "        'df': df,\n",
    "        'replace.country': dict(df.dropna(subset=['Name']).set_index('Country')['Name']),\n",
    "        'map.continent': dict(df.set_index('Name')['Continent'])\n",
    "    }"
   ]
  },
  {
   "cell_type": "code",
   "execution_count": 5,
   "id": "intimate-machinery",
   "metadata": {
    "execution": {
     "iopub.execute_input": "2021-10-20T12:12:22.469292Z",
     "iopub.status.busy": "2021-10-20T12:12:22.468691Z",
     "iopub.status.idle": "2021-10-20T12:12:22.501096Z",
     "shell.execute_reply": "2021-10-20T12:12:22.500437Z"
    },
    "papermill": {
     "duration": 0.072884,
     "end_time": "2021-10-20T12:12:22.501269",
     "exception": false,
     "start_time": "2021-10-20T12:12:22.428385",
     "status": "completed"
    },
    "tags": []
   },
   "outputs": [],
   "source": [
    "#hide\n",
    "mapping = get_mappings(paths['mapping'])"
   ]
  },
  {
   "cell_type": "code",
   "execution_count": 6,
   "id": "certified-tactics",
   "metadata": {
    "execution": {
     "iopub.execute_input": "2021-10-20T12:12:22.577188Z",
     "iopub.status.busy": "2021-10-20T12:12:22.576571Z",
     "iopub.status.idle": "2021-10-20T12:12:22.577807Z",
     "shell.execute_reply": "2021-10-20T12:12:22.578265Z"
    },
    "papermill": {
     "duration": 0.041701,
     "end_time": "2021-10-20T12:12:22.578402",
     "exception": false,
     "start_time": "2021-10-20T12:12:22.536701",
     "status": "completed"
    },
    "tags": []
   },
   "outputs": [],
   "source": [
    "#hide\n",
    "def get_template(path):\n",
    "    from urllib.parse import urlparse\n",
    "    if bool(urlparse(path).netloc):\n",
    "        from urllib.request import urlopen\n",
    "        return urlopen(path).read().decode('utf8')\n",
    "    return open(path).read()"
   ]
  },
  {
   "cell_type": "code",
   "execution_count": 7,
   "id": "realistic-blast",
   "metadata": {
    "execution": {
     "iopub.execute_input": "2021-10-20T12:12:22.659371Z",
     "iopub.status.busy": "2021-10-20T12:12:22.658721Z",
     "iopub.status.idle": "2021-10-20T12:12:22.660455Z",
     "shell.execute_reply": "2021-10-20T12:12:22.660992Z"
    },
    "papermill": {
     "duration": 0.045791,
     "end_time": "2021-10-20T12:12:22.661134",
     "exception": false,
     "start_time": "2021-10-20T12:12:22.615343",
     "status": "completed"
    },
    "tags": []
   },
   "outputs": [],
   "source": [
    "#hide\n",
    "def get_frame(name):\n",
    "    url = (\n",
    "        'https://raw.githubusercontent.com/CSSEGISandData/COVID-19/master/csse_covid_19_data/'\n",
    "        f'csse_covid_19_time_series/time_series_covid19_{name}_global.csv')\n",
    "    df = pd.read_csv(url)\n",
    "    # rename countries\n",
    "    df['Country/Region'] = df['Country/Region'].replace(mapping['replace.country'])\n",
    "    return df"
   ]
  },
  {
   "cell_type": "code",
   "execution_count": 8,
   "id": "affiliated-characterization",
   "metadata": {
    "execution": {
     "iopub.execute_input": "2021-10-20T12:12:22.745651Z",
     "iopub.status.busy": "2021-10-20T12:12:22.745056Z",
     "iopub.status.idle": "2021-10-20T12:12:22.747165Z",
     "shell.execute_reply": "2021-10-20T12:12:22.747732Z"
    },
    "papermill": {
     "duration": 0.045616,
     "end_time": "2021-10-20T12:12:22.747872",
     "exception": false,
     "start_time": "2021-10-20T12:12:22.702256",
     "status": "completed"
    },
    "tags": []
   },
   "outputs": [],
   "source": [
    "#hide\n",
    "def get_dates(df):\n",
    "    dt_cols = df.columns[~df.columns.isin(['Province/State', 'Country/Region', 'Lat', 'Long'])]\n",
    "    LAST_DATE_I = -1\n",
    "    # sometimes last column may be empty, then go backwards\n",
    "    for i in range(-1, -len(dt_cols), -1):\n",
    "        if not df[dt_cols[i]].fillna(0).eq(0).all():\n",
    "            LAST_DATE_I = i\n",
    "            break\n",
    "    return LAST_DATE_I, dt_cols"
   ]
  },
  {
   "cell_type": "code",
   "execution_count": 9,
   "id": "recent-optimization",
   "metadata": {
    "execution": {
     "iopub.execute_input": "2021-10-20T12:12:22.820753Z",
     "iopub.status.busy": "2021-10-20T12:12:22.820148Z",
     "iopub.status.idle": "2021-10-20T12:12:23.152160Z",
     "shell.execute_reply": "2021-10-20T12:12:23.151545Z"
    },
    "papermill": {
     "duration": 0.371041,
     "end_time": "2021-10-20T12:12:23.152299",
     "exception": false,
     "start_time": "2021-10-20T12:12:22.781258",
     "status": "completed"
    },
    "tags": []
   },
   "outputs": [],
   "source": [
    "#hide\n",
    "COL_REGION = 'Country/Region'\n",
    "# Confirmed, Recovered, Deaths\n",
    "df = get_frame('confirmed')\n",
    "# dft_: timeseries, dfc_: today country agg\n",
    "dft_cases = df\n",
    "dft_deaths = get_frame('deaths')\n",
    "dft_recovered = get_frame('recovered')\n",
    "LAST_DATE_I, dt_cols = get_dates(df)"
   ]
  },
  {
   "cell_type": "code",
   "execution_count": 10,
   "id": "absolute-copper",
   "metadata": {
    "execution": {
     "iopub.execute_input": "2021-10-20T12:12:23.229636Z",
     "iopub.status.busy": "2021-10-20T12:12:23.229035Z",
     "iopub.status.idle": "2021-10-20T12:12:23.230800Z",
     "shell.execute_reply": "2021-10-20T12:12:23.231299Z"
    },
    "papermill": {
     "duration": 0.044476,
     "end_time": "2021-10-20T12:12:23.231443",
     "exception": false,
     "start_time": "2021-10-20T12:12:23.186967",
     "status": "completed"
    },
    "tags": []
   },
   "outputs": [],
   "source": [
    "#hide\n",
    "LAST_DATE_I, dt_cols = get_dates(df)\n",
    "dt_today =dt_cols[LAST_DATE_I]\n",
    "# dt_5day = dt_cols[LAST_DATE_I - 5]\n",
    "dt_yday = dt_cols[LAST_DATE_I - 1]"
   ]
  },
  {
   "cell_type": "code",
   "execution_count": 11,
   "id": "restricted-sheriff",
   "metadata": {
    "execution": {
     "iopub.execute_input": "2021-10-20T12:12:23.306095Z",
     "iopub.status.busy": "2021-10-20T12:12:23.305499Z",
     "iopub.status.idle": "2021-10-20T12:12:23.313936Z",
     "shell.execute_reply": "2021-10-20T12:12:23.314379Z"
    },
    "papermill": {
     "duration": 0.050079,
     "end_time": "2021-10-20T12:12:23.314524",
     "exception": false,
     "start_time": "2021-10-20T12:12:23.264445",
     "status": "completed"
    },
    "tags": []
   },
   "outputs": [],
   "source": [
    "#hide\n",
    "dfc_cases = dft_cases.groupby(COL_REGION)[dt_today].sum()\n",
    "dfc_deaths = dft_deaths.groupby(COL_REGION)[dt_today].sum()\n",
    "# dfp_cases = dft_cases.groupby(COL_REGION)[dt_5day].sum()\n",
    "# dfp_deaths = dft_deaths.groupby(COL_REGION)[dt_5day].sum()\n",
    "dfp_cases = dft_cases.groupby(COL_REGION)[dt_yday].sum()\n",
    "dfp_deaths = dft_deaths.groupby(COL_REGION)[dt_yday].sum()"
   ]
  },
  {
   "cell_type": "code",
   "execution_count": 12,
   "id": "deluxe-hepatitis",
   "metadata": {
    "execution": {
     "iopub.execute_input": "2021-10-20T12:12:23.389112Z",
     "iopub.status.busy": "2021-10-20T12:12:23.388531Z",
     "iopub.status.idle": "2021-10-20T12:12:23.393112Z",
     "shell.execute_reply": "2021-10-20T12:12:23.392673Z"
    },
    "papermill": {
     "duration": 0.044069,
     "end_time": "2021-10-20T12:12:23.393230",
     "exception": false,
     "start_time": "2021-10-20T12:12:23.349161",
     "status": "completed"
    },
    "tags": []
   },
   "outputs": [],
   "source": [
    "#hide\n",
    "df_table = (pd.DataFrame(dict(Cases = dfc_cases, Deaths = dfc_deaths, PCases = dfp_cases, PDeaths = dfp_deaths))\n",
    "            .sort_values(by = ['Cases','Deaths'], ascending = [False, False])\n",
    "            .reset_index())"
   ]
  },
  {
   "cell_type": "code",
   "execution_count": 13,
   "id": "educational-chancellor",
   "metadata": {
    "execution": {
     "iopub.execute_input": "2021-10-20T12:12:23.480760Z",
     "iopub.status.busy": "2021-10-20T12:12:23.464121Z",
     "iopub.status.idle": "2021-10-20T12:12:23.488632Z",
     "shell.execute_reply": "2021-10-20T12:12:23.489397Z"
    },
    "papermill": {
     "duration": 0.061595,
     "end_time": "2021-10-20T12:12:23.489538",
     "exception": false,
     "start_time": "2021-10-20T12:12:23.427943",
     "status": "completed"
    },
    "tags": []
   },
   "outputs": [
    {
     "data": {
      "text/html": [
       "<div>\n",
       "<style scoped>\n",
       "    .dataframe tbody tr th:only-of-type {\n",
       "        vertical-align: middle;\n",
       "    }\n",
       "\n",
       "    .dataframe tbody tr th {\n",
       "        vertical-align: top;\n",
       "    }\n",
       "\n",
       "    .dataframe thead th {\n",
       "        text-align: right;\n",
       "    }\n",
       "</style>\n",
       "<table border=\"1\" class=\"dataframe\">\n",
       "  <thead>\n",
       "    <tr style=\"text-align: right;\">\n",
       "      <th></th>\n",
       "      <th>Country/Region</th>\n",
       "      <th>Cases</th>\n",
       "      <th>Deaths</th>\n",
       "      <th>PCases</th>\n",
       "      <th>PDeaths</th>\n",
       "      <th>Cases (+)</th>\n",
       "      <th>Deaths (+)</th>\n",
       "      <th>Fatality Rate</th>\n",
       "      <th>Continent</th>\n",
       "    </tr>\n",
       "  </thead>\n",
       "  <tbody>\n",
       "    <tr>\n",
       "      <th>0</th>\n",
       "      <td>US</td>\n",
       "      <td>45132148</td>\n",
       "      <td>728192</td>\n",
       "      <td>45050910</td>\n",
       "      <td>725835</td>\n",
       "      <td>81238</td>\n",
       "      <td>2357</td>\n",
       "      <td>1.61</td>\n",
       "      <td>North America</td>\n",
       "    </tr>\n",
       "    <tr>\n",
       "      <th>1</th>\n",
       "      <td>India</td>\n",
       "      <td>34108996</td>\n",
       "      <td>452651</td>\n",
       "      <td>34094373</td>\n",
       "      <td>452454</td>\n",
       "      <td>14623</td>\n",
       "      <td>197</td>\n",
       "      <td>1.33</td>\n",
       "      <td>Asia</td>\n",
       "    </tr>\n",
       "    <tr>\n",
       "      <th>2</th>\n",
       "      <td>Brazil</td>\n",
       "      <td>21664879</td>\n",
       "      <td>603855</td>\n",
       "      <td>21651910</td>\n",
       "      <td>603465</td>\n",
       "      <td>12969</td>\n",
       "      <td>390</td>\n",
       "      <td>2.79</td>\n",
       "      <td>South America</td>\n",
       "    </tr>\n",
       "    <tr>\n",
       "      <th>3</th>\n",
       "      <td>United Kingdom</td>\n",
       "      <td>8581278</td>\n",
       "      <td>139265</td>\n",
       "      <td>8537650</td>\n",
       "      <td>139042</td>\n",
       "      <td>43628</td>\n",
       "      <td>223</td>\n",
       "      <td>1.62</td>\n",
       "      <td>Europe</td>\n",
       "    </tr>\n",
       "    <tr>\n",
       "      <th>4</th>\n",
       "      <td>Russia</td>\n",
       "      <td>7936798</td>\n",
       "      <td>221314</td>\n",
       "      <td>7903963</td>\n",
       "      <td>220323</td>\n",
       "      <td>32835</td>\n",
       "      <td>991</td>\n",
       "      <td>2.79</td>\n",
       "      <td>Europe</td>\n",
       "    </tr>\n",
       "  </tbody>\n",
       "</table>\n",
       "</div>"
      ],
      "text/plain": [
       "   Country/Region     Cases  Deaths    PCases  PDeaths  Cases (+)  Deaths (+)  \\\n",
       "0              US  45132148  728192  45050910   725835      81238        2357   \n",
       "1           India  34108996  452651  34094373   452454      14623         197   \n",
       "2          Brazil  21664879  603855  21651910   603465      12969         390   \n",
       "3  United Kingdom   8581278  139265   8537650   139042      43628         223   \n",
       "4          Russia   7936798  221314   7903963   220323      32835         991   \n",
       "\n",
       "   Fatality Rate      Continent  \n",
       "0           1.61  North America  \n",
       "1           1.33           Asia  \n",
       "2           2.79  South America  \n",
       "3           1.62         Europe  \n",
       "4           2.79         Europe  "
      ]
     },
     "execution_count": 13,
     "metadata": {},
     "output_type": "execute_result"
    }
   ],
   "source": [
    "#hide\n",
    "for c in 'Cases, Deaths'.split(', '):\n",
    "    df_table[f'{c} (+)'] = (df_table[c] - df_table[f'P{c}']).clip(0)\n",
    "    #Clip ça veut dire, les chiffres negatif sont interdit\n",
    "df_table['Fatality Rate'] = (100* df_table['Deaths']/ df_table['Cases']).round(2)\n",
    "df_table['Continent'] = df_table['Country/Region'].map(mapping['map.continent'])\n",
    "df_table.head(5)"
   ]
  },
  {
   "cell_type": "code",
   "execution_count": 14,
   "id": "aboriginal-bulgaria",
   "metadata": {
    "execution": {
     "iopub.execute_input": "2021-10-20T12:12:23.564609Z",
     "iopub.status.busy": "2021-10-20T12:12:23.563026Z",
     "iopub.status.idle": "2021-10-20T12:12:23.565264Z",
     "shell.execute_reply": "2021-10-20T12:12:23.565722Z"
    },
    "papermill": {
     "duration": 0.043892,
     "end_time": "2021-10-20T12:12:23.565861",
     "exception": false,
     "start_time": "2021-10-20T12:12:23.521969",
     "status": "completed"
    },
    "tags": []
   },
   "outputs": [],
   "source": [
    "#hide\n",
    "#delete problematic countries from table\n",
    "df_table = df_table[~df_table['Country/Region'].isin(['Cape Verde', 'Cruise Ship', 'Kosovo'])]"
   ]
  },
  {
   "cell_type": "code",
   "execution_count": 15,
   "id": "fantastic-effect",
   "metadata": {
    "execution": {
     "iopub.execute_input": "2021-10-20T12:12:23.645103Z",
     "iopub.status.busy": "2021-10-20T12:12:23.642865Z",
     "iopub.status.idle": "2021-10-20T12:12:23.666066Z",
     "shell.execute_reply": "2021-10-20T12:12:23.666629Z"
    },
    "papermill": {
     "duration": 0.069421,
     "end_time": "2021-10-20T12:12:23.666775",
     "exception": false,
     "start_time": "2021-10-20T12:12:23.597354",
     "status": "completed"
    },
    "tags": []
   },
   "outputs": [
    {
     "data": {
      "text/html": [
       "<div>\n",
       "<style scoped>\n",
       "    .dataframe tbody tr th:only-of-type {\n",
       "        vertical-align: middle;\n",
       "    }\n",
       "\n",
       "    .dataframe tbody tr th {\n",
       "        vertical-align: top;\n",
       "    }\n",
       "\n",
       "    .dataframe thead th {\n",
       "        text-align: right;\n",
       "    }\n",
       "</style>\n",
       "<table border=\"1\" class=\"dataframe\">\n",
       "  <thead>\n",
       "    <tr style=\"text-align: right;\">\n",
       "      <th></th>\n",
       "      <th>Country/Region</th>\n",
       "      <th>Cases</th>\n",
       "      <th>Deaths</th>\n",
       "      <th>PCases</th>\n",
       "      <th>PDeaths</th>\n",
       "      <th>Cases (+)</th>\n",
       "      <th>Deaths (+)</th>\n",
       "      <th>Fatality Rate</th>\n",
       "      <th>Continent</th>\n",
       "    </tr>\n",
       "  </thead>\n",
       "  <tbody>\n",
       "    <tr>\n",
       "      <th>0</th>\n",
       "      <td>US</td>\n",
       "      <td>45132148</td>\n",
       "      <td>728192</td>\n",
       "      <td>45050910</td>\n",
       "      <td>725835</td>\n",
       "      <td>81238</td>\n",
       "      <td>2357</td>\n",
       "      <td>1.6</td>\n",
       "      <td>North America</td>\n",
       "    </tr>\n",
       "    <tr>\n",
       "      <th>1</th>\n",
       "      <td>India</td>\n",
       "      <td>34108996</td>\n",
       "      <td>452651</td>\n",
       "      <td>34094373</td>\n",
       "      <td>452454</td>\n",
       "      <td>14623</td>\n",
       "      <td>197</td>\n",
       "      <td>1.3</td>\n",
       "      <td>Asia</td>\n",
       "    </tr>\n",
       "    <tr>\n",
       "      <th>2</th>\n",
       "      <td>Brazil</td>\n",
       "      <td>21664879</td>\n",
       "      <td>603855</td>\n",
       "      <td>21651910</td>\n",
       "      <td>603465</td>\n",
       "      <td>12969</td>\n",
       "      <td>390</td>\n",
       "      <td>2.8</td>\n",
       "      <td>South America</td>\n",
       "    </tr>\n",
       "    <tr>\n",
       "      <th>3</th>\n",
       "      <td>United Kingdom</td>\n",
       "      <td>8581278</td>\n",
       "      <td>139265</td>\n",
       "      <td>8537650</td>\n",
       "      <td>139042</td>\n",
       "      <td>43628</td>\n",
       "      <td>223</td>\n",
       "      <td>1.6</td>\n",
       "      <td>Europe</td>\n",
       "    </tr>\n",
       "    <tr>\n",
       "      <th>4</th>\n",
       "      <td>Russia</td>\n",
       "      <td>7936798</td>\n",
       "      <td>221314</td>\n",
       "      <td>7903963</td>\n",
       "      <td>220323</td>\n",
       "      <td>32835</td>\n",
       "      <td>991</td>\n",
       "      <td>2.8</td>\n",
       "      <td>Europe</td>\n",
       "    </tr>\n",
       "  </tbody>\n",
       "</table>\n",
       "</div>"
      ],
      "text/plain": [
       "   Country/Region     Cases  Deaths    PCases  PDeaths  Cases (+)  Deaths (+)  \\\n",
       "0              US  45132148  728192  45050910   725835      81238        2357   \n",
       "1           India  34108996  452651  34094373   452454      14623         197   \n",
       "2          Brazil  21664879  603855  21651910   603465      12969         390   \n",
       "3  United Kingdom   8581278  139265   8537650   139042      43628         223   \n",
       "4          Russia   7936798  221314   7903963   220323      32835         991   \n",
       "\n",
       "   Fatality Rate      Continent  \n",
       "0            1.6  North America  \n",
       "1            1.3           Asia  \n",
       "2            2.8  South America  \n",
       "3            1.6         Europe  \n",
       "4            2.8         Europe  "
      ]
     },
     "execution_count": 15,
     "metadata": {},
     "output_type": "execute_result"
    }
   ],
   "source": [
    "#hide\n",
    "df_table = (pd.DataFrame(dict(Cases=dfc_cases, Deaths=dfc_deaths, PCases=dfp_cases, PDeaths=dfp_deaths))\n",
    "             .sort_values(by=['Cases', 'Deaths'], ascending=[False, False])\n",
    "             .reset_index())\n",
    "df_table.rename(columns={'index': 'Country/Region'}, inplace=True)\n",
    "for c in 'Cases, Deaths'.split(', '):\n",
    "    df_table[f'{c} (+)'] = (df_table[c] - df_table[f'P{c}']).clip(0)  # DATA BUG\n",
    "df_table['Fatality Rate'] = (100 * df_table['Deaths'] / df_table['Cases']).round(1)\n",
    "df_table['Continent'] = df_table['Country/Region'].map(mapping['map.continent'])\n",
    "df_table.head(5)"
   ]
  },
  {
   "cell_type": "code",
   "execution_count": 16,
   "id": "fewer-occasion",
   "metadata": {
    "execution": {
     "iopub.execute_input": "2021-10-20T12:12:23.741850Z",
     "iopub.status.busy": "2021-10-20T12:12:23.741286Z",
     "iopub.status.idle": "2021-10-20T12:12:23.743633Z",
     "shell.execute_reply": "2021-10-20T12:12:23.743235Z"
    },
    "papermill": {
     "duration": 0.041946,
     "end_time": "2021-10-20T12:12:23.743732",
     "exception": false,
     "start_time": "2021-10-20T12:12:23.701786",
     "status": "completed"
    },
    "tags": []
   },
   "outputs": [],
   "source": [
    "#hide\n",
    "#delete problematic countries from table\n",
    "df_table = df_table[~df_table['Country/Region'].isin(['Cape Verde', 'Cruise Ship', 'Kosovo'])]"
   ]
  },
  {
   "cell_type": "code",
   "execution_count": 17,
   "id": "related-center",
   "metadata": {
    "execution": {
     "iopub.execute_input": "2021-10-20T12:12:23.821551Z",
     "iopub.status.busy": "2021-10-20T12:12:23.820982Z",
     "iopub.status.idle": "2021-10-20T12:12:23.823104Z",
     "shell.execute_reply": "2021-10-20T12:12:23.822529Z"
    },
    "papermill": {
     "duration": 0.051902,
     "end_time": "2021-10-20T12:12:23.823218",
     "exception": false,
     "start_time": "2021-10-20T12:12:23.771316",
     "status": "completed"
    },
    "tags": []
   },
   "outputs": [],
   "source": [
    "#hide\n",
    "metrics = [df_table.columns[index] for index in [1,2,5,6]]\n",
    "# s_china = df_table[df_table['Country/Region'].eq('China')][metrics].sum().add_prefix('China ')\n",
    "s_us = df_table[df_table['Country/Region'].eq('US')][metrics].sum().add_prefix('US ')\n",
    "s_eu = df_table[df_table['Continent'].eq('Europe')][metrics].sum().add_prefix('EU ')\n",
    "s_ind = df_table[df_table['Country/Region'].eq('India')][metrics].sum().add_prefix('India ')\n",
    "summary = {'updated': pd.to_datetime(dt_today), 'since': pd.to_datetime(dt_yday)}\n",
    "summary = {'updated': pd.to_datetime(dt_today), 'since': pd.to_datetime(dt_yday)}\n",
    "summary = {**summary, **df_table[metrics].sum(), **s_ind, **s_us, **s_eu}"
   ]
  },
  {
   "cell_type": "code",
   "execution_count": 18,
   "id": "engaging-syndrome",
   "metadata": {
    "execution": {
     "iopub.execute_input": "2021-10-20T12:12:23.893103Z",
     "iopub.status.busy": "2021-10-20T12:12:23.892673Z",
     "iopub.status.idle": "2021-10-20T12:12:23.907527Z",
     "shell.execute_reply": "2021-10-20T12:12:23.907079Z"
    },
    "papermill": {
     "duration": 0.051545,
     "end_time": "2021-10-20T12:12:23.907650",
     "exception": false,
     "start_time": "2021-10-20T12:12:23.856105",
     "status": "completed"
    },
    "tags": []
   },
   "outputs": [],
   "source": [
    "#hide\n",
    "dft_ct_new_cases = dft_cases.groupby(COL_REGION)[dt_cols].sum().diff(axis=1).fillna(0).astype(int)"
   ]
  },
  {
   "cell_type": "code",
   "execution_count": 19,
   "id": "neutral-assignment",
   "metadata": {
    "execution": {
     "iopub.execute_input": "2021-10-20T12:12:23.983020Z",
     "iopub.status.busy": "2021-10-20T12:12:23.982400Z",
     "iopub.status.idle": "2021-10-20T12:12:23.984630Z",
     "shell.execute_reply": "2021-10-20T12:12:23.985099Z"
    },
    "papermill": {
     "duration": 0.043884,
     "end_time": "2021-10-20T12:12:23.985242",
     "exception": false,
     "start_time": "2021-10-20T12:12:23.941358",
     "status": "completed"
    },
    "tags": []
   },
   "outputs": [],
   "source": [
    "#hide\n",
    "everydaycases = dft_ct_new_cases.cumsum(axis=1)"
   ]
  },
  {
   "cell_type": "code",
   "execution_count": 20,
   "id": "parliamentary-calgary",
   "metadata": {
    "execution": {
     "iopub.execute_input": "2021-10-20T12:12:24.057121Z",
     "iopub.status.busy": "2021-10-20T12:12:24.056504Z",
     "iopub.status.idle": "2021-10-20T12:12:24.738725Z",
     "shell.execute_reply": "2021-10-20T12:12:24.738204Z"
    },
    "papermill": {
     "duration": 0.720571,
     "end_time": "2021-10-20T12:12:24.738873",
     "exception": false,
     "start_time": "2021-10-20T12:12:24.018302",
     "status": "completed"
    },
    "tags": []
   },
   "outputs": [],
   "source": [
    "#hide\n",
    "import pandas as pd\n",
    "import matplotlib.pyplot as plt\n",
    "import matplotlib.ticker as ticker\n",
    "import matplotlib.animation as animation\n",
    "from IPython.display import HTML"
   ]
  },
  {
   "cell_type": "code",
   "execution_count": 21,
   "id": "lasting-extraction",
   "metadata": {
    "execution": {
     "iopub.execute_input": "2021-10-20T12:12:24.815610Z",
     "iopub.status.busy": "2021-10-20T12:12:24.814703Z",
     "iopub.status.idle": "2021-10-20T12:12:24.821630Z",
     "shell.execute_reply": "2021-10-20T12:12:24.822109Z"
    },
    "papermill": {
     "duration": 0.048256,
     "end_time": "2021-10-20T12:12:24.822262",
     "exception": false,
     "start_time": "2021-10-20T12:12:24.774006",
     "status": "completed"
    },
    "tags": []
   },
   "outputs": [],
   "source": [
    "#hide\n",
    "t = everydaycases.stack()"
   ]
  },
  {
   "cell_type": "code",
   "execution_count": 22,
   "id": "premier-sleeve",
   "metadata": {
    "execution": {
     "iopub.execute_input": "2021-10-20T12:12:24.897162Z",
     "iopub.status.busy": "2021-10-20T12:12:24.896560Z",
     "iopub.status.idle": "2021-10-20T12:12:24.907979Z",
     "shell.execute_reply": "2021-10-20T12:12:24.908430Z"
    },
    "papermill": {
     "duration": 0.051207,
     "end_time": "2021-10-20T12:12:24.908587",
     "exception": false,
     "start_time": "2021-10-20T12:12:24.857380",
     "status": "completed"
    },
    "tags": []
   },
   "outputs": [],
   "source": [
    "#hide\n",
    "g = t.reset_index(['Country/Region'])"
   ]
  },
  {
   "cell_type": "code",
   "execution_count": 23,
   "id": "distributed-pittsburgh",
   "metadata": {
    "execution": {
     "iopub.execute_input": "2021-10-20T12:12:24.983004Z",
     "iopub.status.busy": "2021-10-20T12:12:24.982376Z",
     "iopub.status.idle": "2021-10-20T12:12:24.984302Z",
     "shell.execute_reply": "2021-10-20T12:12:24.984843Z"
    },
    "papermill": {
     "duration": 0.041648,
     "end_time": "2021-10-20T12:12:24.984987",
     "exception": false,
     "start_time": "2021-10-20T12:12:24.943339",
     "status": "completed"
    },
    "tags": []
   },
   "outputs": [],
   "source": [
    "#hide\n",
    "g.index.name = 'date'"
   ]
  },
  {
   "cell_type": "code",
   "execution_count": 24,
   "id": "naked-donor",
   "metadata": {
    "execution": {
     "iopub.execute_input": "2021-10-20T12:12:25.059400Z",
     "iopub.status.busy": "2021-10-20T12:12:25.058750Z",
     "iopub.status.idle": "2021-10-20T12:12:25.060819Z",
     "shell.execute_reply": "2021-10-20T12:12:25.061362Z"
    },
    "papermill": {
     "duration": 0.04145,
     "end_time": "2021-10-20T12:12:25.061511",
     "exception": false,
     "start_time": "2021-10-20T12:12:25.020061",
     "status": "completed"
    },
    "tags": []
   },
   "outputs": [],
   "source": [
    "# #hide\n",
    "# g = g.reset_index(['date'])"
   ]
  },
  {
   "cell_type": "code",
   "execution_count": 25,
   "id": "incomplete-mustang",
   "metadata": {
    "execution": {
     "iopub.execute_input": "2021-10-20T12:12:25.135741Z",
     "iopub.status.busy": "2021-10-20T12:12:25.135123Z",
     "iopub.status.idle": "2021-10-20T12:12:25.136802Z",
     "shell.execute_reply": "2021-10-20T12:12:25.137342Z"
    },
    "papermill": {
     "duration": 0.041074,
     "end_time": "2021-10-20T12:12:25.137486",
     "exception": false,
     "start_time": "2021-10-20T12:12:25.096412",
     "status": "completed"
    },
    "tags": []
   },
   "outputs": [],
   "source": [
    "#hide\n",
    "# g.head()"
   ]
  },
  {
   "cell_type": "code",
   "execution_count": 26,
   "id": "specific-kruger",
   "metadata": {
    "execution": {
     "iopub.execute_input": "2021-10-20T12:12:25.211395Z",
     "iopub.status.busy": "2021-10-20T12:12:25.210762Z",
     "iopub.status.idle": "2021-10-20T12:12:25.213116Z",
     "shell.execute_reply": "2021-10-20T12:12:25.212643Z"
    },
    "papermill": {
     "duration": 0.040839,
     "end_time": "2021-10-20T12:12:25.213244",
     "exception": false,
     "start_time": "2021-10-20T12:12:25.172405",
     "status": "completed"
    },
    "tags": []
   },
   "outputs": [],
   "source": [
    "#hide\n",
    "# g.columns = ['date','country','cases']"
   ]
  },
  {
   "cell_type": "code",
   "execution_count": 27,
   "id": "tender-conversion",
   "metadata": {
    "execution": {
     "iopub.execute_input": "2021-10-20T12:12:25.287153Z",
     "iopub.status.busy": "2021-10-20T12:12:25.286532Z",
     "iopub.status.idle": "2021-10-20T12:12:25.289121Z",
     "shell.execute_reply": "2021-10-20T12:12:25.288681Z"
    },
    "papermill": {
     "duration": 0.041173,
     "end_time": "2021-10-20T12:12:25.289262",
     "exception": false,
     "start_time": "2021-10-20T12:12:25.248089",
     "status": "completed"
    },
    "tags": []
   },
   "outputs": [],
   "source": [
    "#hide\n",
    "# g['continent'] = g.country"
   ]
  },
  {
   "cell_type": "code",
   "execution_count": 28,
   "id": "substantial-wilderness",
   "metadata": {
    "execution": {
     "iopub.execute_input": "2021-10-20T12:12:25.362978Z",
     "iopub.status.busy": "2021-10-20T12:12:25.362358Z",
     "iopub.status.idle": "2021-10-20T12:12:25.364620Z",
     "shell.execute_reply": "2021-10-20T12:12:25.364127Z"
    },
    "papermill": {
     "duration": 0.040967,
     "end_time": "2021-10-20T12:12:25.364751",
     "exception": false,
     "start_time": "2021-10-20T12:12:25.323784",
     "status": "completed"
    },
    "tags": []
   },
   "outputs": [],
   "source": [
    "#hide\n",
    "# cols = list(g.columns.values)"
   ]
  },
  {
   "cell_type": "code",
   "execution_count": 29,
   "id": "solved-farming",
   "metadata": {
    "execution": {
     "iopub.execute_input": "2021-10-20T12:12:25.441582Z",
     "iopub.status.busy": "2021-10-20T12:12:25.440991Z",
     "iopub.status.idle": "2021-10-20T12:12:25.443300Z",
     "shell.execute_reply": "2021-10-20T12:12:25.443778Z"
    },
    "papermill": {
     "duration": 0.044512,
     "end_time": "2021-10-20T12:12:25.443926",
     "exception": false,
     "start_time": "2021-10-20T12:12:25.399414",
     "status": "completed"
    },
    "tags": []
   },
   "outputs": [],
   "source": [
    "#hide\n",
    "# cols.insert(0, cols.pop())"
   ]
  },
  {
   "cell_type": "code",
   "execution_count": 30,
   "id": "executed-adoption",
   "metadata": {
    "execution": {
     "iopub.execute_input": "2021-10-20T12:12:25.518000Z",
     "iopub.status.busy": "2021-10-20T12:12:25.517406Z",
     "iopub.status.idle": "2021-10-20T12:12:25.520028Z",
     "shell.execute_reply": "2021-10-20T12:12:25.520440Z"
    },
    "papermill": {
     "duration": 0.041777,
     "end_time": "2021-10-20T12:12:25.520580",
     "exception": false,
     "start_time": "2021-10-20T12:12:25.478803",
     "status": "completed"
    },
    "tags": []
   },
   "outputs": [],
   "source": [
    "#hide\n",
    "# g = g[cols]"
   ]
  },
  {
   "cell_type": "code",
   "execution_count": 31,
   "id": "subject-dublin",
   "metadata": {
    "execution": {
     "iopub.execute_input": "2021-10-20T12:12:25.595373Z",
     "iopub.status.busy": "2021-10-20T12:12:25.594727Z",
     "iopub.status.idle": "2021-10-20T12:12:25.596580Z",
     "shell.execute_reply": "2021-10-20T12:12:25.597049Z"
    },
    "papermill": {
     "duration": 0.041955,
     "end_time": "2021-10-20T12:12:25.597195",
     "exception": false,
     "start_time": "2021-10-20T12:12:25.555240",
     "status": "completed"
    },
    "tags": []
   },
   "outputs": [],
   "source": [
    "#hide\n",
    "# g['continent'] = g['continent'].map(mapping['map.continent'])"
   ]
  },
  {
   "cell_type": "code",
   "execution_count": 32,
   "id": "freelance-scout",
   "metadata": {
    "execution": {
     "iopub.execute_input": "2021-10-20T12:12:25.670870Z",
     "iopub.status.busy": "2021-10-20T12:12:25.670271Z",
     "iopub.status.idle": "2021-10-20T12:12:25.672440Z",
     "shell.execute_reply": "2021-10-20T12:12:25.672890Z"
    },
    "papermill": {
     "duration": 0.04145,
     "end_time": "2021-10-20T12:12:25.673042",
     "exception": false,
     "start_time": "2021-10-20T12:12:25.631592",
     "status": "completed"
    },
    "tags": []
   },
   "outputs": [],
   "source": [
    "#hide\n",
    "# g.head()"
   ]
  },
  {
   "cell_type": "code",
   "execution_count": 33,
   "id": "limited-engine",
   "metadata": {
    "execution": {
     "iopub.execute_input": "2021-10-20T12:12:25.747283Z",
     "iopub.status.busy": "2021-10-20T12:12:25.746660Z",
     "iopub.status.idle": "2021-10-20T12:12:25.748996Z",
     "shell.execute_reply": "2021-10-20T12:12:25.748506Z"
    },
    "papermill": {
     "duration": 0.041243,
     "end_time": "2021-10-20T12:12:25.749120",
     "exception": false,
     "start_time": "2021-10-20T12:12:25.707877",
     "status": "completed"
    },
    "tags": []
   },
   "outputs": [],
   "source": [
    "# hide\n",
    "# g['date'] = g['date'].astype('datetime64[ns]')"
   ]
  },
  {
   "cell_type": "code",
   "execution_count": 34,
   "id": "sophisticated-supervisor",
   "metadata": {
    "execution": {
     "iopub.execute_input": "2021-10-20T12:12:25.822593Z",
     "iopub.status.busy": "2021-10-20T12:12:25.821991Z",
     "iopub.status.idle": "2021-10-20T12:12:25.824832Z",
     "shell.execute_reply": "2021-10-20T12:12:25.824359Z"
    },
    "papermill": {
     "duration": 0.040792,
     "end_time": "2021-10-20T12:12:25.824965",
     "exception": false,
     "start_time": "2021-10-20T12:12:25.784173",
     "status": "completed"
    },
    "tags": []
   },
   "outputs": [],
   "source": [
    "#hide\n",
    "# g['date'] = g.date.dt.dayofyear"
   ]
  },
  {
   "cell_type": "code",
   "execution_count": 35,
   "id": "inside-dubai",
   "metadata": {
    "execution": {
     "iopub.execute_input": "2021-10-20T12:12:25.898451Z",
     "iopub.status.busy": "2021-10-20T12:12:25.897846Z",
     "iopub.status.idle": "2021-10-20T12:12:25.900276Z",
     "shell.execute_reply": "2021-10-20T12:12:25.900800Z"
    },
    "papermill": {
     "duration": 0.041591,
     "end_time": "2021-10-20T12:12:25.900935",
     "exception": false,
     "start_time": "2021-10-20T12:12:25.859344",
     "status": "completed"
    },
    "tags": []
   },
   "outputs": [],
   "source": [
    "#hide\n",
    "# g = g.rename(columns= {'continent':'group','country':'name','cases':'value'})"
   ]
  },
  {
   "cell_type": "code",
   "execution_count": 36,
   "id": "fleet-motorcycle",
   "metadata": {
    "execution": {
     "iopub.execute_input": "2021-10-20T12:12:25.973787Z",
     "iopub.status.busy": "2021-10-20T12:12:25.973222Z",
     "iopub.status.idle": "2021-10-20T12:12:25.975061Z",
     "shell.execute_reply": "2021-10-20T12:12:25.975539Z"
    },
    "papermill": {
     "duration": 0.040464,
     "end_time": "2021-10-20T12:12:25.975686",
     "exception": false,
     "start_time": "2021-10-20T12:12:25.935222",
     "status": "completed"
    },
    "tags": []
   },
   "outputs": [],
   "source": [
    "#hide\n",
    "# cols = ['name','group','day','value']"
   ]
  },
  {
   "cell_type": "code",
   "execution_count": 37,
   "id": "continued-sleeping",
   "metadata": {
    "execution": {
     "iopub.execute_input": "2021-10-20T12:12:26.046770Z",
     "iopub.status.busy": "2021-10-20T12:12:26.046140Z",
     "iopub.status.idle": "2021-10-20T12:12:26.048688Z",
     "shell.execute_reply": "2021-10-20T12:12:26.048304Z"
    },
    "papermill": {
     "duration": 0.039856,
     "end_time": "2021-10-20T12:12:26.048796",
     "exception": false,
     "start_time": "2021-10-20T12:12:26.008940",
     "status": "completed"
    },
    "tags": []
   },
   "outputs": [],
   "source": [
    "#hide\n",
    "# g.rename(columns= {'date':'day'},inplace = True)"
   ]
  },
  {
   "cell_type": "code",
   "execution_count": 38,
   "id": "major-fight",
   "metadata": {
    "execution": {
     "iopub.execute_input": "2021-10-20T12:12:26.120741Z",
     "iopub.status.busy": "2021-10-20T12:12:26.120240Z",
     "iopub.status.idle": "2021-10-20T12:12:26.122336Z",
     "shell.execute_reply": "2021-10-20T12:12:26.121834Z"
    },
    "papermill": {
     "duration": 0.03911,
     "end_time": "2021-10-20T12:12:26.122465",
     "exception": false,
     "start_time": "2021-10-20T12:12:26.083355",
     "status": "completed"
    },
    "tags": []
   },
   "outputs": [],
   "source": [
    "#hide\n",
    "# g = g[cols]"
   ]
  },
  {
   "cell_type": "code",
   "execution_count": 39,
   "id": "structured-mobile",
   "metadata": {
    "execution": {
     "iopub.execute_input": "2021-10-20T12:12:26.193444Z",
     "iopub.status.busy": "2021-10-20T12:12:26.192851Z",
     "iopub.status.idle": "2021-10-20T12:12:26.195118Z",
     "shell.execute_reply": "2021-10-20T12:12:26.194602Z"
    },
    "papermill": {
     "duration": 0.040248,
     "end_time": "2021-10-20T12:12:26.195245",
     "exception": false,
     "start_time": "2021-10-20T12:12:26.154997",
     "status": "completed"
    },
    "tags": []
   },
   "outputs": [],
   "source": [
    "# #hide\n",
    "# g = g[g.group.notna()]"
   ]
  },
  {
   "cell_type": "code",
   "execution_count": 40,
   "id": "determined-closing",
   "metadata": {
    "execution": {
     "iopub.execute_input": "2021-10-20T12:12:26.266530Z",
     "iopub.status.busy": "2021-10-20T12:12:26.265928Z",
     "iopub.status.idle": "2021-10-20T12:12:26.268168Z",
     "shell.execute_reply": "2021-10-20T12:12:26.268644Z"
    },
    "papermill": {
     "duration": 0.040102,
     "end_time": "2021-10-20T12:12:26.268777",
     "exception": false,
     "start_time": "2021-10-20T12:12:26.228675",
     "status": "completed"
    },
    "tags": []
   },
   "outputs": [],
   "source": [
    "# #hide\n",
    "# colors = dict(zip(\n",
    "#     [\"Oceania\", \"Europe\", \"Asia\", \"South America\", \"Middle East\", \"North America\", \"Africa\"],\n",
    "#     [\"#adb0ff\", \"#ffb3ff\", \"#90d595\", \"#e48381\", \"#aafbff\", \"#f7bb5f\", \"#eafb50\"]\n",
    "# ))\n",
    "# group_lk = g.set_index('name')['group'].to_dict()"
   ]
  },
  {
   "cell_type": "code",
   "execution_count": null,
   "id": "gross-drinking",
   "metadata": {
    "papermill": {
     "duration": 0.031801,
     "end_time": "2021-10-20T12:12:26.333724",
     "exception": false,
     "start_time": "2021-10-20T12:12:26.301923",
     "status": "completed"
    },
    "tags": []
   },
   "outputs": [],
   "source": []
  },
  {
   "cell_type": "code",
   "execution_count": 41,
   "id": "subject-macintosh",
   "metadata": {
    "execution": {
     "iopub.execute_input": "2021-10-20T12:12:26.403801Z",
     "iopub.status.busy": "2021-10-20T12:12:26.403191Z",
     "iopub.status.idle": "2021-10-20T12:12:26.405504Z",
     "shell.execute_reply": "2021-10-20T12:12:26.406039Z"
    },
    "papermill": {
     "duration": 0.039496,
     "end_time": "2021-10-20T12:12:26.406168",
     "exception": false,
     "start_time": "2021-10-20T12:12:26.366672",
     "status": "completed"
    },
    "tags": []
   },
   "outputs": [],
   "source": [
    "# #hide\n",
    "# fig, ax = plt.subplots(figsize=(15, 8))\n",
    "\n",
    "# def draw_barchart(current_day):\n",
    "#     dff = g[g['day'].eq(current_day)].sort_values(by='value', ascending=True).tail(10)\n",
    "#     ax.clear()\n",
    "#     ax.barh(dff['name'], dff['value'], color=[colors[group_lk[x]] for x in dff['name']])\n",
    "#     dx = dff['value'].max() / 200\n",
    "    \n",
    "#     for i, (value, name) in enumerate(zip(dff['value'], dff['name'])):\n",
    "#         ax.text(value-dx, i,     name,           size=14, weight=600, ha='right', va='bottom')\n",
    "#         ax.text(value-dx, i-.25, group_lk[name], size=10, color='#444444', ha='right', va='baseline')\n",
    "#         ax.text(value+dx, i,     f'{value:,.0f}',  size=14, ha='left',  va='center')\n",
    "#     ax.text(1, 0.4, current_day, transform=ax.transAxes, color='#777777', size=46, ha='right', weight=800)\n",
    "#     ax.text(0, 1.06, 'Population (thousands)', transform=ax.transAxes, size=12, color='#777777')\n",
    "#     ax.xaxis.set_major_formatter(ticker.StrMethodFormatter('{x:,.0f}'))\n",
    "#     ax.xaxis.set_ticks_position('top')\n",
    "#     ax.tick_params(axis='x', colors='#777777', labelsize=12)\n",
    "#     ax.set_yticks([])\n",
    "#     ax.margins(0, 0.01)\n",
    "#     ax.grid(which='major', axis='x', linestyle='-')\n",
    "#     ax.set_axisbelow(True)\n",
    "    \n",
    "#     ax.text(0, 1.15, 'Coronavirus',\n",
    "#             transform=ax.transAxes, size=24, weight=600, ha='left', va='top')\n",
    "# #     ax.text(1, 0, 'by @pratapvardhan; credit @jburnmurdoch', transform=ax.transAxes, color='#777777', ha='right',\n",
    "# #             bbox=dict(facecolor='white', alpha=0.8, edgecolor='white'))\n",
    "#     plt.box(False)"
   ]
  },
  {
   "cell_type": "code",
   "execution_count": 42,
   "id": "sexual-wages",
   "metadata": {
    "execution": {
     "iopub.execute_input": "2021-10-20T12:12:26.478654Z",
     "iopub.status.busy": "2021-10-20T12:12:26.478041Z",
     "iopub.status.idle": "2021-10-20T12:12:26.479800Z",
     "shell.execute_reply": "2021-10-20T12:12:26.480304Z"
    },
    "papermill": {
     "duration": 0.040563,
     "end_time": "2021-10-20T12:12:26.480449",
     "exception": false,
     "start_time": "2021-10-20T12:12:26.439886",
     "status": "completed"
    },
    "tags": []
   },
   "outputs": [],
   "source": [
    "# #hide_input\n",
    "# fig, ax = plt.subplots(figsize=(15, 8))\n",
    "# animator = animation.FuncAnimation(fig, draw_barchart, frames=range(g.day.values.min(), g.day.values.max()))\n",
    "# HTML(animator.to_jshtml())\n",
    "# # or use animator.to_html5_video() or animator.save() "
   ]
  },
  {
   "cell_type": "code",
   "execution_count": null,
   "id": "australian-container",
   "metadata": {
    "papermill": {
     "duration": 0.032921,
     "end_time": "2021-10-20T12:12:26.546088",
     "exception": false,
     "start_time": "2021-10-20T12:12:26.513167",
     "status": "completed"
    },
    "tags": []
   },
   "outputs": [],
   "source": []
  },
  {
   "cell_type": "code",
   "execution_count": null,
   "id": "mediterranean-pontiac",
   "metadata": {
    "papermill": {
     "duration": 0.030624,
     "end_time": "2021-10-20T12:12:26.608191",
     "exception": false,
     "start_time": "2021-10-20T12:12:26.577567",
     "status": "completed"
    },
    "tags": []
   },
   "outputs": [],
   "source": []
  },
  {
   "cell_type": "code",
   "execution_count": null,
   "id": "aging-legislature",
   "metadata": {
    "papermill": {
     "duration": 0.033986,
     "end_time": "2021-10-20T12:12:26.676250",
     "exception": false,
     "start_time": "2021-10-20T12:12:26.642264",
     "status": "completed"
    },
    "tags": []
   },
   "outputs": [],
   "source": []
  }
 ],
 "metadata": {
  "kernelspec": {
   "display_name": "Python 3",
   "language": "python",
   "name": "python3"
  },
  "language_info": {
   "codemirror_mode": {
    "name": "ipython",
    "version": 3
   },
   "file_extension": ".py",
   "mimetype": "text/x-python",
   "name": "python",
   "nbconvert_exporter": "python",
   "pygments_lexer": "ipython3",
   "version": "3.6.15"
  },
  "papermill": {
   "duration": 6.75978,
   "end_time": "2021-10-20T12:12:27.122054",
   "environment_variables": {},
   "exception": null,
   "input_path": "2020-03-21-covid19exp.ipynb",
   "output_path": "2020-03-21-covid19exp.ipynb",
   "parameters": {},
   "start_time": "2021-10-20T12:12:20.362274",
   "version": "2.0.0"
  }
 },
 "nbformat": 4,
 "nbformat_minor": 5
}