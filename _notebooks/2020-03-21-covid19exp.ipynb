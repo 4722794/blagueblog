{
 "cells": [
  {
   "cell_type": "markdown",
   "metadata": {
    "papermill": {
     "duration": 0.038062,
     "end_time": "2020-12-24T00:22:06.190494",
     "exception": false,
     "start_time": "2020-12-24T00:22:06.152432",
     "status": "completed"
    },
    "tags": []
   },
   "source": [
    "# COVID-19 Case Race\n",
    "> A race chart to see rising cases around the world\n",
    "\n",
    "- author: Hargun Oberoi\n",
    "- image: images/covid-overview.png\n",
    "- hide: false\n",
    "- badges: false"
   ]
  },
  {
   "cell_type": "code",
   "execution_count": 1,
   "metadata": {
    "execution": {
     "iopub.execute_input": "2020-12-24T00:22:06.266218Z",
     "iopub.status.busy": "2020-12-24T00:22:06.265622Z",
     "iopub.status.idle": "2020-12-24T00:22:06.604142Z",
     "shell.execute_reply": "2020-12-24T00:22:06.605010Z"
    },
    "papermill": {
     "duration": 0.384312,
     "end_time": "2020-12-24T00:22:06.605306",
     "exception": false,
     "start_time": "2020-12-24T00:22:06.220994",
     "status": "completed"
    },
    "tags": []
   },
   "outputs": [],
   "source": [
    "#hide\n",
    "import numpy as np\n",
    "import pandas as pd\n",
    "from jinja2 import Template\n",
    "from IPython.display import HTML"
   ]
  },
  {
   "cell_type": "code",
   "execution_count": 2,
   "metadata": {
    "execution": {
     "iopub.execute_input": "2020-12-24T00:22:06.670480Z",
     "iopub.status.busy": "2020-12-24T00:22:06.669889Z",
     "iopub.status.idle": "2020-12-24T00:22:06.671542Z",
     "shell.execute_reply": "2020-12-24T00:22:06.672079Z"
    },
    "papermill": {
     "duration": 0.036089,
     "end_time": "2020-12-24T00:22:06.672219",
     "exception": false,
     "start_time": "2020-12-24T00:22:06.636130",
     "status": "completed"
    },
    "tags": []
   },
   "outputs": [],
   "source": [
    "#hide\n",
    "\n",
    "# FETCH\n",
    "base_url = 'https://raw.githubusercontent.com/pratapvardhan/notebooks/master/covid19/'\n",
    "paths = {\n",
    "    'mapping': base_url + 'mapping_countries.csv',\n",
    "    'overview': base_url + 'overview.tpl'\n",
    "}"
   ]
  },
  {
   "cell_type": "code",
   "execution_count": 3,
   "metadata": {
    "execution": {
     "iopub.execute_input": "2020-12-24T00:22:06.743460Z",
     "iopub.status.busy": "2020-12-24T00:22:06.742888Z",
     "iopub.status.idle": "2020-12-24T00:22:06.745906Z",
     "shell.execute_reply": "2020-12-24T00:22:06.745419Z"
    },
    "papermill": {
     "duration": 0.044032,
     "end_time": "2020-12-24T00:22:06.746024",
     "exception": false,
     "start_time": "2020-12-24T00:22:06.701992",
     "status": "completed"
    },
    "tags": []
   },
   "outputs": [
    {
     "data": {
      "text/plain": [
       "'https://raw.githubusercontent.com/pratapvardhan/notebooks/master/covid19/mapping_countries.csv'"
      ]
     },
     "execution_count": 3,
     "metadata": {},
     "output_type": "execute_result"
    }
   ],
   "source": [
    "#hide\n",
    "paths['mapping']"
   ]
  },
  {
   "cell_type": "code",
   "execution_count": 4,
   "metadata": {
    "execution": {
     "iopub.execute_input": "2020-12-24T00:22:06.811040Z",
     "iopub.status.busy": "2020-12-24T00:22:06.810464Z",
     "iopub.status.idle": "2020-12-24T00:22:06.812737Z",
     "shell.execute_reply": "2020-12-24T00:22:06.812217Z"
    },
    "papermill": {
     "duration": 0.037403,
     "end_time": "2020-12-24T00:22:06.812855",
     "exception": false,
     "start_time": "2020-12-24T00:22:06.775452",
     "status": "completed"
    },
    "tags": []
   },
   "outputs": [],
   "source": [
    "#hide\n",
    "def get_mappings(url):\n",
    "    df = pd.read_csv(url)\n",
    "    return {\n",
    "        'df': df,\n",
    "        'replace.country': dict(df.dropna(subset=['Name']).set_index('Country')['Name']),\n",
    "        'map.continent': dict(df.set_index('Name')['Continent'])\n",
    "    }"
   ]
  },
  {
   "cell_type": "code",
   "execution_count": 5,
   "metadata": {
    "execution": {
     "iopub.execute_input": "2020-12-24T00:22:06.877162Z",
     "iopub.status.busy": "2020-12-24T00:22:06.876584Z",
     "iopub.status.idle": "2020-12-24T00:22:06.932667Z",
     "shell.execute_reply": "2020-12-24T00:22:06.931655Z"
    },
    "papermill": {
     "duration": 0.09024,
     "end_time": "2020-12-24T00:22:06.932790",
     "exception": false,
     "start_time": "2020-12-24T00:22:06.842550",
     "status": "completed"
    },
    "tags": []
   },
   "outputs": [],
   "source": [
    "#hide\n",
    "mapping = get_mappings(paths['mapping'])"
   ]
  },
  {
   "cell_type": "code",
   "execution_count": 6,
   "metadata": {
    "execution": {
     "iopub.execute_input": "2020-12-24T00:22:06.999028Z",
     "iopub.status.busy": "2020-12-24T00:22:06.998426Z",
     "iopub.status.idle": "2020-12-24T00:22:07.002586Z",
     "shell.execute_reply": "2020-12-24T00:22:07.002099Z"
    },
    "papermill": {
     "duration": 0.040439,
     "end_time": "2020-12-24T00:22:07.002704",
     "exception": false,
     "start_time": "2020-12-24T00:22:06.962265",
     "status": "completed"
    },
    "tags": []
   },
   "outputs": [],
   "source": [
    "#hide\n",
    "def get_template(path):\n",
    "    from urllib.parse import urlparse\n",
    "    if bool(urlparse(path).netloc):\n",
    "        from urllib.request import urlopen\n",
    "        return urlopen(path).read().decode('utf8')\n",
    "    return open(path).read()"
   ]
  },
  {
   "cell_type": "code",
   "execution_count": 7,
   "metadata": {
    "execution": {
     "iopub.execute_input": "2020-12-24T00:22:07.067167Z",
     "iopub.status.busy": "2020-12-24T00:22:07.066590Z",
     "iopub.status.idle": "2020-12-24T00:22:07.069010Z",
     "shell.execute_reply": "2020-12-24T00:22:07.069560Z"
    },
    "papermill": {
     "duration": 0.037929,
     "end_time": "2020-12-24T00:22:07.069691",
     "exception": false,
     "start_time": "2020-12-24T00:22:07.031762",
     "status": "completed"
    },
    "tags": []
   },
   "outputs": [],
   "source": [
    "#hide\n",
    "def get_frame(name):\n",
    "    url = (\n",
    "        'https://raw.githubusercontent.com/CSSEGISandData/COVID-19/master/csse_covid_19_data/'\n",
    "        f'csse_covid_19_time_series/time_series_covid19_{name}_global.csv')\n",
    "    df = pd.read_csv(url)\n",
    "    # rename countries\n",
    "    df['Country/Region'] = df['Country/Region'].replace(mapping['replace.country'])\n",
    "    return df"
   ]
  },
  {
   "cell_type": "code",
   "execution_count": 8,
   "metadata": {
    "execution": {
     "iopub.execute_input": "2020-12-24T00:22:07.133724Z",
     "iopub.status.busy": "2020-12-24T00:22:07.133144Z",
     "iopub.status.idle": "2020-12-24T00:22:07.135467Z",
     "shell.execute_reply": "2020-12-24T00:22:07.135943Z"
    },
    "papermill": {
     "duration": 0.037347,
     "end_time": "2020-12-24T00:22:07.136074",
     "exception": false,
     "start_time": "2020-12-24T00:22:07.098727",
     "status": "completed"
    },
    "tags": []
   },
   "outputs": [],
   "source": [
    "#hide\n",
    "def get_dates(df):\n",
    "    dt_cols = df.columns[~df.columns.isin(['Province/State', 'Country/Region', 'Lat', 'Long'])]\n",
    "    LAST_DATE_I = -1\n",
    "    # sometimes last column may be empty, then go backwards\n",
    "    for i in range(-1, -len(dt_cols), -1):\n",
    "        if not df[dt_cols[i]].fillna(0).eq(0).all():\n",
    "            LAST_DATE_I = i\n",
    "            break\n",
    "    return LAST_DATE_I, dt_cols"
   ]
  },
  {
   "cell_type": "code",
   "execution_count": 9,
   "metadata": {
    "execution": {
     "iopub.execute_input": "2020-12-24T00:22:07.200008Z",
     "iopub.status.busy": "2020-12-24T00:22:07.199425Z",
     "iopub.status.idle": "2020-12-24T00:22:07.542914Z",
     "shell.execute_reply": "2020-12-24T00:22:07.542227Z"
    },
    "papermill": {
     "duration": 0.377455,
     "end_time": "2020-12-24T00:22:07.543096",
     "exception": false,
     "start_time": "2020-12-24T00:22:07.165641",
     "status": "completed"
    },
    "tags": []
   },
   "outputs": [],
   "source": [
    "#hide\n",
    "COL_REGION = 'Country/Region'\n",
    "# Confirmed, Recovered, Deaths\n",
    "df = get_frame('confirmed')\n",
    "# dft_: timeseries, dfc_: today country agg\n",
    "dft_cases = df\n",
    "dft_deaths = get_frame('deaths')\n",
    "dft_recovered = get_frame('recovered')\n",
    "LAST_DATE_I, dt_cols = get_dates(df)"
   ]
  },
  {
   "cell_type": "code",
   "execution_count": 10,
   "metadata": {
    "execution": {
     "iopub.execute_input": "2020-12-24T00:22:07.610762Z",
     "iopub.status.busy": "2020-12-24T00:22:07.610166Z",
     "iopub.status.idle": "2020-12-24T00:22:07.612597Z",
     "shell.execute_reply": "2020-12-24T00:22:07.613076Z"
    },
    "papermill": {
     "duration": 0.038577,
     "end_time": "2020-12-24T00:22:07.613221",
     "exception": false,
     "start_time": "2020-12-24T00:22:07.574644",
     "status": "completed"
    },
    "tags": []
   },
   "outputs": [],
   "source": [
    "#hide\n",
    "LAST_DATE_I, dt_cols = get_dates(df)\n",
    "dt_today =dt_cols[LAST_DATE_I]\n",
    "# dt_5day = dt_cols[LAST_DATE_I - 5]\n",
    "dt_yday = dt_cols[LAST_DATE_I - 1]"
   ]
  },
  {
   "cell_type": "code",
   "execution_count": 11,
   "metadata": {
    "execution": {
     "iopub.execute_input": "2020-12-24T00:22:07.684642Z",
     "iopub.status.busy": "2020-12-24T00:22:07.681241Z",
     "iopub.status.idle": "2020-12-24T00:22:07.687358Z",
     "shell.execute_reply": "2020-12-24T00:22:07.686890Z"
    },
    "papermill": {
     "duration": 0.044393,
     "end_time": "2020-12-24T00:22:07.687486",
     "exception": false,
     "start_time": "2020-12-24T00:22:07.643093",
     "status": "completed"
    },
    "tags": []
   },
   "outputs": [],
   "source": [
    "#hide\n",
    "dfc_cases = dft_cases.groupby(COL_REGION)[dt_today].sum()\n",
    "dfc_deaths = dft_deaths.groupby(COL_REGION)[dt_today].sum()\n",
    "# dfp_cases = dft_cases.groupby(COL_REGION)[dt_5day].sum()\n",
    "# dfp_deaths = dft_deaths.groupby(COL_REGION)[dt_5day].sum()\n",
    "dfp_cases = dft_cases.groupby(COL_REGION)[dt_yday].sum()\n",
    "dfp_deaths = dft_deaths.groupby(COL_REGION)[dt_yday].sum()"
   ]
  },
  {
   "cell_type": "code",
   "execution_count": 12,
   "metadata": {
    "execution": {
     "iopub.execute_input": "2020-12-24T00:22:07.756087Z",
     "iopub.status.busy": "2020-12-24T00:22:07.755492Z",
     "iopub.status.idle": "2020-12-24T00:22:07.758317Z",
     "shell.execute_reply": "2020-12-24T00:22:07.758865Z"
    },
    "papermill": {
     "duration": 0.041524,
     "end_time": "2020-12-24T00:22:07.759009",
     "exception": false,
     "start_time": "2020-12-24T00:22:07.717485",
     "status": "completed"
    },
    "tags": []
   },
   "outputs": [],
   "source": [
    "#hide\n",
    "df_table = (pd.DataFrame(dict(Cases = dfc_cases, Deaths = dfc_deaths, PCases = dfp_cases, PDeaths = dfp_deaths))\n",
    "            .sort_values(by = ['Cases','Deaths'], ascending = [False, False])\n",
    "            .reset_index())"
   ]
  },
  {
   "cell_type": "code",
   "execution_count": 13,
   "metadata": {
    "execution": {
     "iopub.execute_input": "2020-12-24T00:22:07.837732Z",
     "iopub.status.busy": "2020-12-24T00:22:07.837141Z",
     "iopub.status.idle": "2020-12-24T00:22:07.845652Z",
     "shell.execute_reply": "2020-12-24T00:22:07.846097Z"
    },
    "papermill": {
     "duration": 0.057306,
     "end_time": "2020-12-24T00:22:07.846243",
     "exception": false,
     "start_time": "2020-12-24T00:22:07.788937",
     "status": "completed"
    },
    "tags": []
   },
   "outputs": [
    {
     "data": {
      "text/html": [
       "<div>\n",
       "<style scoped>\n",
       "    .dataframe tbody tr th:only-of-type {\n",
       "        vertical-align: middle;\n",
       "    }\n",
       "\n",
       "    .dataframe tbody tr th {\n",
       "        vertical-align: top;\n",
       "    }\n",
       "\n",
       "    .dataframe thead th {\n",
       "        text-align: right;\n",
       "    }\n",
       "</style>\n",
       "<table border=\"1\" class=\"dataframe\">\n",
       "  <thead>\n",
       "    <tr style=\"text-align: right;\">\n",
       "      <th></th>\n",
       "      <th>Country/Region</th>\n",
       "      <th>Cases</th>\n",
       "      <th>Deaths</th>\n",
       "      <th>PCases</th>\n",
       "      <th>PDeaths</th>\n",
       "      <th>Cases (+)</th>\n",
       "      <th>Deaths (+)</th>\n",
       "      <th>Fatality Rate</th>\n",
       "      <th>Continent</th>\n",
       "    </tr>\n",
       "  </thead>\n",
       "  <tbody>\n",
       "    <tr>\n",
       "      <th>0</th>\n",
       "      <td>US</td>\n",
       "      <td>18230242</td>\n",
       "      <td>322765</td>\n",
       "      <td>18035209</td>\n",
       "      <td>319364</td>\n",
       "      <td>195033</td>\n",
       "      <td>3401</td>\n",
       "      <td>1.77</td>\n",
       "      <td>North America</td>\n",
       "    </tr>\n",
       "    <tr>\n",
       "      <th>1</th>\n",
       "      <td>India</td>\n",
       "      <td>10099066</td>\n",
       "      <td>146444</td>\n",
       "      <td>10075116</td>\n",
       "      <td>146111</td>\n",
       "      <td>23950</td>\n",
       "      <td>333</td>\n",
       "      <td>1.45</td>\n",
       "      <td>Asia</td>\n",
       "    </tr>\n",
       "    <tr>\n",
       "      <th>2</th>\n",
       "      <td>Brazil</td>\n",
       "      <td>7318821</td>\n",
       "      <td>188259</td>\n",
       "      <td>7263619</td>\n",
       "      <td>187291</td>\n",
       "      <td>55202</td>\n",
       "      <td>968</td>\n",
       "      <td>2.57</td>\n",
       "      <td>South America</td>\n",
       "    </tr>\n",
       "    <tr>\n",
       "      <th>3</th>\n",
       "      <td>Russia</td>\n",
       "      <td>2878382</td>\n",
       "      <td>51274</td>\n",
       "      <td>2850042</td>\n",
       "      <td>50723</td>\n",
       "      <td>28340</td>\n",
       "      <td>551</td>\n",
       "      <td>1.78</td>\n",
       "      <td>Europe</td>\n",
       "    </tr>\n",
       "    <tr>\n",
       "      <th>4</th>\n",
       "      <td>France</td>\n",
       "      <td>2547577</td>\n",
       "      <td>61821</td>\n",
       "      <td>2535716</td>\n",
       "      <td>61019</td>\n",
       "      <td>11861</td>\n",
       "      <td>802</td>\n",
       "      <td>2.43</td>\n",
       "      <td>Europe</td>\n",
       "    </tr>\n",
       "  </tbody>\n",
       "</table>\n",
       "</div>"
      ],
      "text/plain": [
       "  Country/Region     Cases  Deaths    PCases  PDeaths  Cases (+)  Deaths (+)  \\\n",
       "0             US  18230242  322765  18035209   319364     195033        3401   \n",
       "1          India  10099066  146444  10075116   146111      23950         333   \n",
       "2         Brazil   7318821  188259   7263619   187291      55202         968   \n",
       "3         Russia   2878382   51274   2850042    50723      28340         551   \n",
       "4         France   2547577   61821   2535716    61019      11861         802   \n",
       "\n",
       "   Fatality Rate      Continent  \n",
       "0           1.77  North America  \n",
       "1           1.45           Asia  \n",
       "2           2.57  South America  \n",
       "3           1.78         Europe  \n",
       "4           2.43         Europe  "
      ]
     },
     "execution_count": 13,
     "metadata": {},
     "output_type": "execute_result"
    }
   ],
   "source": [
    "#hide\n",
    "for c in 'Cases, Deaths'.split(', '):\n",
    "    df_table[f'{c} (+)'] = (df_table[c] - df_table[f'P{c}']).clip(0)\n",
    "    #Clip ça veut dire, les chiffres negatif sont interdit\n",
    "df_table['Fatality Rate'] = (100* df_table['Deaths']/ df_table['Cases']).round(2)\n",
    "df_table['Continent'] = df_table['Country/Region'].map(mapping['map.continent'])\n",
    "df_table.head(5)"
   ]
  },
  {
   "cell_type": "code",
   "execution_count": 14,
   "metadata": {
    "execution": {
     "iopub.execute_input": "2020-12-24T00:22:07.914948Z",
     "iopub.status.busy": "2020-12-24T00:22:07.914354Z",
     "iopub.status.idle": "2020-12-24T00:22:07.916208Z",
     "shell.execute_reply": "2020-12-24T00:22:07.916678Z"
    },
    "papermill": {
     "duration": 0.040198,
     "end_time": "2020-12-24T00:22:07.916826",
     "exception": false,
     "start_time": "2020-12-24T00:22:07.876628",
     "status": "completed"
    },
    "tags": []
   },
   "outputs": [],
   "source": [
    "#hide\n",
    "#delete problematic countries from table\n",
    "df_table = df_table[~df_table['Country/Region'].isin(['Cape Verde', 'Cruise Ship', 'Kosovo'])]"
   ]
  },
  {
   "cell_type": "code",
   "execution_count": 15,
   "metadata": {
    "execution": {
     "iopub.execute_input": "2020-12-24T00:22:07.987793Z",
     "iopub.status.busy": "2020-12-24T00:22:07.987212Z",
     "iopub.status.idle": "2020-12-24T00:22:08.004313Z",
     "shell.execute_reply": "2020-12-24T00:22:08.004815Z"
    },
    "papermill": {
     "duration": 0.05785,
     "end_time": "2020-12-24T00:22:08.004962",
     "exception": false,
     "start_time": "2020-12-24T00:22:07.947112",
     "status": "completed"
    },
    "tags": []
   },
   "outputs": [
    {
     "data": {
      "text/html": [
       "<div>\n",
       "<style scoped>\n",
       "    .dataframe tbody tr th:only-of-type {\n",
       "        vertical-align: middle;\n",
       "    }\n",
       "\n",
       "    .dataframe tbody tr th {\n",
       "        vertical-align: top;\n",
       "    }\n",
       "\n",
       "    .dataframe thead th {\n",
       "        text-align: right;\n",
       "    }\n",
       "</style>\n",
       "<table border=\"1\" class=\"dataframe\">\n",
       "  <thead>\n",
       "    <tr style=\"text-align: right;\">\n",
       "      <th></th>\n",
       "      <th>Country/Region</th>\n",
       "      <th>Cases</th>\n",
       "      <th>Deaths</th>\n",
       "      <th>PCases</th>\n",
       "      <th>PDeaths</th>\n",
       "      <th>Cases (+)</th>\n",
       "      <th>Deaths (+)</th>\n",
       "      <th>Fatality Rate</th>\n",
       "      <th>Continent</th>\n",
       "    </tr>\n",
       "  </thead>\n",
       "  <tbody>\n",
       "    <tr>\n",
       "      <th>0</th>\n",
       "      <td>US</td>\n",
       "      <td>18230242</td>\n",
       "      <td>322765</td>\n",
       "      <td>18035209</td>\n",
       "      <td>319364</td>\n",
       "      <td>195033</td>\n",
       "      <td>3401</td>\n",
       "      <td>1.8</td>\n",
       "      <td>North America</td>\n",
       "    </tr>\n",
       "    <tr>\n",
       "      <th>1</th>\n",
       "      <td>India</td>\n",
       "      <td>10099066</td>\n",
       "      <td>146444</td>\n",
       "      <td>10075116</td>\n",
       "      <td>146111</td>\n",
       "      <td>23950</td>\n",
       "      <td>333</td>\n",
       "      <td>1.5</td>\n",
       "      <td>Asia</td>\n",
       "    </tr>\n",
       "    <tr>\n",
       "      <th>2</th>\n",
       "      <td>Brazil</td>\n",
       "      <td>7318821</td>\n",
       "      <td>188259</td>\n",
       "      <td>7263619</td>\n",
       "      <td>187291</td>\n",
       "      <td>55202</td>\n",
       "      <td>968</td>\n",
       "      <td>2.6</td>\n",
       "      <td>South America</td>\n",
       "    </tr>\n",
       "    <tr>\n",
       "      <th>3</th>\n",
       "      <td>Russia</td>\n",
       "      <td>2878382</td>\n",
       "      <td>51274</td>\n",
       "      <td>2850042</td>\n",
       "      <td>50723</td>\n",
       "      <td>28340</td>\n",
       "      <td>551</td>\n",
       "      <td>1.8</td>\n",
       "      <td>Europe</td>\n",
       "    </tr>\n",
       "    <tr>\n",
       "      <th>4</th>\n",
       "      <td>France</td>\n",
       "      <td>2547577</td>\n",
       "      <td>61821</td>\n",
       "      <td>2535716</td>\n",
       "      <td>61019</td>\n",
       "      <td>11861</td>\n",
       "      <td>802</td>\n",
       "      <td>2.4</td>\n",
       "      <td>Europe</td>\n",
       "    </tr>\n",
       "  </tbody>\n",
       "</table>\n",
       "</div>"
      ],
      "text/plain": [
       "  Country/Region     Cases  Deaths    PCases  PDeaths  Cases (+)  Deaths (+)  \\\n",
       "0             US  18230242  322765  18035209   319364     195033        3401   \n",
       "1          India  10099066  146444  10075116   146111      23950         333   \n",
       "2         Brazil   7318821  188259   7263619   187291      55202         968   \n",
       "3         Russia   2878382   51274   2850042    50723      28340         551   \n",
       "4         France   2547577   61821   2535716    61019      11861         802   \n",
       "\n",
       "   Fatality Rate      Continent  \n",
       "0            1.8  North America  \n",
       "1            1.5           Asia  \n",
       "2            2.6  South America  \n",
       "3            1.8         Europe  \n",
       "4            2.4         Europe  "
      ]
     },
     "execution_count": 15,
     "metadata": {},
     "output_type": "execute_result"
    }
   ],
   "source": [
    "#hide\n",
    "df_table = (pd.DataFrame(dict(Cases=dfc_cases, Deaths=dfc_deaths, PCases=dfp_cases, PDeaths=dfp_deaths))\n",
    "             .sort_values(by=['Cases', 'Deaths'], ascending=[False, False])\n",
    "             .reset_index())\n",
    "df_table.rename(columns={'index': 'Country/Region'}, inplace=True)\n",
    "for c in 'Cases, Deaths'.split(', '):\n",
    "    df_table[f'{c} (+)'] = (df_table[c] - df_table[f'P{c}']).clip(0)  # DATA BUG\n",
    "df_table['Fatality Rate'] = (100 * df_table['Deaths'] / df_table['Cases']).round(1)\n",
    "df_table['Continent'] = df_table['Country/Region'].map(mapping['map.continent'])\n",
    "df_table.head(5)"
   ]
  },
  {
   "cell_type": "code",
   "execution_count": 16,
   "metadata": {
    "execution": {
     "iopub.execute_input": "2020-12-24T00:22:08.070756Z",
     "iopub.status.busy": "2020-12-24T00:22:08.070179Z",
     "iopub.status.idle": "2020-12-24T00:22:08.072457Z",
     "shell.execute_reply": "2020-12-24T00:22:08.073030Z"
    },
    "papermill": {
     "duration": 0.037954,
     "end_time": "2020-12-24T00:22:08.073164",
     "exception": false,
     "start_time": "2020-12-24T00:22:08.035210",
     "status": "completed"
    },
    "tags": []
   },
   "outputs": [],
   "source": [
    "#hide\n",
    "#delete problematic countries from table\n",
    "df_table = df_table[~df_table['Country/Region'].isin(['Cape Verde', 'Cruise Ship', 'Kosovo'])]"
   ]
  },
  {
   "cell_type": "code",
   "execution_count": 17,
   "metadata": {
    "execution": {
     "iopub.execute_input": "2020-12-24T00:22:08.150063Z",
     "iopub.status.busy": "2020-12-24T00:22:08.149480Z",
     "iopub.status.idle": "2020-12-24T00:22:08.152286Z",
     "shell.execute_reply": "2020-12-24T00:22:08.151797Z"
    },
    "papermill": {
     "duration": 0.050129,
     "end_time": "2020-12-24T00:22:08.152431",
     "exception": false,
     "start_time": "2020-12-24T00:22:08.102302",
     "status": "completed"
    },
    "tags": []
   },
   "outputs": [],
   "source": [
    "#hide\n",
    "metrics = [df_table.columns[index] for index in [1,2,5,6]]\n",
    "# s_china = df_table[df_table['Country/Region'].eq('China')][metrics].sum().add_prefix('China ')\n",
    "s_us = df_table[df_table['Country/Region'].eq('US')][metrics].sum().add_prefix('US ')\n",
    "s_eu = df_table[df_table['Continent'].eq('Europe')][metrics].sum().add_prefix('EU ')\n",
    "s_ind = df_table[df_table['Country/Region'].eq('India')][metrics].sum().add_prefix('India ')\n",
    "summary = {'updated': pd.to_datetime(dt_today), 'since': pd.to_datetime(dt_yday)}\n",
    "summary = {'updated': pd.to_datetime(dt_today), 'since': pd.to_datetime(dt_yday)}\n",
    "summary = {**summary, **df_table[metrics].sum(), **s_ind, **s_us, **s_eu}"
   ]
  },
  {
   "cell_type": "code",
   "execution_count": 18,
   "metadata": {
    "execution": {
     "iopub.execute_input": "2020-12-24T00:22:08.219783Z",
     "iopub.status.busy": "2020-12-24T00:22:08.219198Z",
     "iopub.status.idle": "2020-12-24T00:22:08.229578Z",
     "shell.execute_reply": "2020-12-24T00:22:08.230023Z"
    },
    "papermill": {
     "duration": 0.046987,
     "end_time": "2020-12-24T00:22:08.230168",
     "exception": false,
     "start_time": "2020-12-24T00:22:08.183181",
     "status": "completed"
    },
    "tags": []
   },
   "outputs": [],
   "source": [
    "#hide\n",
    "dft_ct_new_cases = dft_cases.groupby(COL_REGION)[dt_cols].sum().diff(axis=1).fillna(0).astype(int)"
   ]
  },
  {
   "cell_type": "code",
   "execution_count": 19,
   "metadata": {
    "execution": {
     "iopub.execute_input": "2020-12-24T00:22:08.299225Z",
     "iopub.status.busy": "2020-12-24T00:22:08.298640Z",
     "iopub.status.idle": "2020-12-24T00:22:08.300910Z",
     "shell.execute_reply": "2020-12-24T00:22:08.300406Z"
    },
    "papermill": {
     "duration": 0.040025,
     "end_time": "2020-12-24T00:22:08.301033",
     "exception": false,
     "start_time": "2020-12-24T00:22:08.261008",
     "status": "completed"
    },
    "tags": []
   },
   "outputs": [],
   "source": [
    "#hide\n",
    "everydaycases = dft_ct_new_cases.cumsum(axis=1)"
   ]
  },
  {
   "cell_type": "code",
   "execution_count": 20,
   "metadata": {
    "execution": {
     "iopub.execute_input": "2020-12-24T00:22:08.368451Z",
     "iopub.status.busy": "2020-12-24T00:22:08.367839Z",
     "iopub.status.idle": "2020-12-24T00:22:10.880815Z",
     "shell.execute_reply": "2020-12-24T00:22:10.880084Z"
    },
    "papermill": {
     "duration": 2.549169,
     "end_time": "2020-12-24T00:22:10.881005",
     "exception": false,
     "start_time": "2020-12-24T00:22:08.331836",
     "status": "completed"
    },
    "tags": []
   },
   "outputs": [],
   "source": [
    "#hide\n",
    "import pandas as pd\n",
    "import matplotlib.pyplot as plt\n",
    "import matplotlib.ticker as ticker\n",
    "import matplotlib.animation as animation\n",
    "from IPython.display import HTML"
   ]
  },
  {
   "cell_type": "code",
   "execution_count": 21,
   "metadata": {
    "execution": {
     "iopub.execute_input": "2020-12-24T00:22:10.952084Z",
     "iopub.status.busy": "2020-12-24T00:22:10.951499Z",
     "iopub.status.idle": "2020-12-24T00:22:10.955881Z",
     "shell.execute_reply": "2020-12-24T00:22:10.956414Z"
    },
    "papermill": {
     "duration": 0.042117,
     "end_time": "2020-12-24T00:22:10.956561",
     "exception": false,
     "start_time": "2020-12-24T00:22:10.914444",
     "status": "completed"
    },
    "tags": []
   },
   "outputs": [],
   "source": [
    "#hide\n",
    "t = everydaycases.stack()"
   ]
  },
  {
   "cell_type": "code",
   "execution_count": 22,
   "metadata": {
    "execution": {
     "iopub.execute_input": "2020-12-24T00:22:11.027732Z",
     "iopub.status.busy": "2020-12-24T00:22:11.027144Z",
     "iopub.status.idle": "2020-12-24T00:22:11.029741Z",
     "shell.execute_reply": "2020-12-24T00:22:11.030184Z"
    },
    "papermill": {
     "duration": 0.042835,
     "end_time": "2020-12-24T00:22:11.030328",
     "exception": false,
     "start_time": "2020-12-24T00:22:10.987493",
     "status": "completed"
    },
    "tags": []
   },
   "outputs": [],
   "source": [
    "#hide\n",
    "g = t.reset_index(['Country/Region'])"
   ]
  },
  {
   "cell_type": "code",
   "execution_count": 23,
   "metadata": {
    "execution": {
     "iopub.execute_input": "2020-12-24T00:22:11.099998Z",
     "iopub.status.busy": "2020-12-24T00:22:11.099039Z",
     "iopub.status.idle": "2020-12-24T00:22:11.101049Z",
     "shell.execute_reply": "2020-12-24T00:22:11.101607Z"
    },
    "papermill": {
     "duration": 0.038157,
     "end_time": "2020-12-24T00:22:11.101746",
     "exception": false,
     "start_time": "2020-12-24T00:22:11.063589",
     "status": "completed"
    },
    "tags": []
   },
   "outputs": [],
   "source": [
    "#hide\n",
    "g.index.name = 'date'"
   ]
  },
  {
   "cell_type": "code",
   "execution_count": 24,
   "metadata": {
    "execution": {
     "iopub.execute_input": "2020-12-24T00:22:11.168671Z",
     "iopub.status.busy": "2020-12-24T00:22:11.167615Z",
     "iopub.status.idle": "2020-12-24T00:22:11.169752Z",
     "shell.execute_reply": "2020-12-24T00:22:11.170574Z"
    },
    "papermill": {
     "duration": 0.038232,
     "end_time": "2020-12-24T00:22:11.170801",
     "exception": false,
     "start_time": "2020-12-24T00:22:11.132569",
     "status": "completed"
    },
    "tags": []
   },
   "outputs": [],
   "source": [
    "# #hide\n",
    "# g = g.reset_index(['date'])"
   ]
  },
  {
   "cell_type": "code",
   "execution_count": 25,
   "metadata": {
    "execution": {
     "iopub.execute_input": "2020-12-24T00:22:11.435605Z",
     "iopub.status.busy": "2020-12-24T00:22:11.434686Z",
     "iopub.status.idle": "2020-12-24T00:22:11.436450Z",
     "shell.execute_reply": "2020-12-24T00:22:11.436953Z"
    },
    "papermill": {
     "duration": 0.234976,
     "end_time": "2020-12-24T00:22:11.437091",
     "exception": false,
     "start_time": "2020-12-24T00:22:11.202115",
     "status": "completed"
    },
    "tags": []
   },
   "outputs": [],
   "source": [
    "#hide\n",
    "# g.head()"
   ]
  },
  {
   "cell_type": "code",
   "execution_count": 26,
   "metadata": {
    "execution": {
     "iopub.execute_input": "2020-12-24T00:22:11.502149Z",
     "iopub.status.busy": "2020-12-24T00:22:11.501572Z",
     "iopub.status.idle": "2020-12-24T00:22:11.503984Z",
     "shell.execute_reply": "2020-12-24T00:22:11.504564Z"
    },
    "papermill": {
     "duration": 0.036746,
     "end_time": "2020-12-24T00:22:11.504706",
     "exception": false,
     "start_time": "2020-12-24T00:22:11.467960",
     "status": "completed"
    },
    "tags": []
   },
   "outputs": [],
   "source": [
    "#hide\n",
    "# g.columns = ['date','country','cases']"
   ]
  },
  {
   "cell_type": "code",
   "execution_count": 27,
   "metadata": {
    "execution": {
     "iopub.execute_input": "2020-12-24T00:22:11.569062Z",
     "iopub.status.busy": "2020-12-24T00:22:11.568482Z",
     "iopub.status.idle": "2020-12-24T00:22:11.570662Z",
     "shell.execute_reply": "2020-12-24T00:22:11.570098Z"
    },
    "papermill": {
     "duration": 0.035609,
     "end_time": "2020-12-24T00:22:11.570778",
     "exception": false,
     "start_time": "2020-12-24T00:22:11.535169",
     "status": "completed"
    },
    "tags": []
   },
   "outputs": [],
   "source": [
    "#hide\n",
    "# g['continent'] = g.country"
   ]
  },
  {
   "cell_type": "code",
   "execution_count": 28,
   "metadata": {
    "execution": {
     "iopub.execute_input": "2020-12-24T00:22:11.634916Z",
     "iopub.status.busy": "2020-12-24T00:22:11.634347Z",
     "iopub.status.idle": "2020-12-24T00:22:11.636941Z",
     "shell.execute_reply": "2020-12-24T00:22:11.637487Z"
    },
    "papermill": {
     "duration": 0.036164,
     "end_time": "2020-12-24T00:22:11.637614",
     "exception": false,
     "start_time": "2020-12-24T00:22:11.601450",
     "status": "completed"
    },
    "tags": []
   },
   "outputs": [],
   "source": [
    "#hide\n",
    "# cols = list(g.columns.values)"
   ]
  },
  {
   "cell_type": "code",
   "execution_count": 29,
   "metadata": {
    "execution": {
     "iopub.execute_input": "2020-12-24T00:22:11.701185Z",
     "iopub.status.busy": "2020-12-24T00:22:11.700632Z",
     "iopub.status.idle": "2020-12-24T00:22:11.702345Z",
     "shell.execute_reply": "2020-12-24T00:22:11.702806Z"
    },
    "papermill": {
     "duration": 0.035325,
     "end_time": "2020-12-24T00:22:11.702931",
     "exception": false,
     "start_time": "2020-12-24T00:22:11.667606",
     "status": "completed"
    },
    "tags": []
   },
   "outputs": [],
   "source": [
    "#hide\n",
    "# cols.insert(0, cols.pop())"
   ]
  },
  {
   "cell_type": "code",
   "execution_count": 30,
   "metadata": {
    "execution": {
     "iopub.execute_input": "2020-12-24T00:22:11.765444Z",
     "iopub.status.busy": "2020-12-24T00:22:11.764875Z",
     "iopub.status.idle": "2020-12-24T00:22:11.767375Z",
     "shell.execute_reply": "2020-12-24T00:22:11.767922Z"
    },
    "papermill": {
     "duration": 0.036167,
     "end_time": "2020-12-24T00:22:11.768049",
     "exception": false,
     "start_time": "2020-12-24T00:22:11.731882",
     "status": "completed"
    },
    "tags": []
   },
   "outputs": [],
   "source": [
    "#hide\n",
    "# g = g[cols]"
   ]
  },
  {
   "cell_type": "code",
   "execution_count": 31,
   "metadata": {
    "execution": {
     "iopub.execute_input": "2020-12-24T00:22:11.831270Z",
     "iopub.status.busy": "2020-12-24T00:22:11.830737Z",
     "iopub.status.idle": "2020-12-24T00:22:11.832728Z",
     "shell.execute_reply": "2020-12-24T00:22:11.833232Z"
    },
    "papermill": {
     "duration": 0.035871,
     "end_time": "2020-12-24T00:22:11.833375",
     "exception": false,
     "start_time": "2020-12-24T00:22:11.797504",
     "status": "completed"
    },
    "tags": []
   },
   "outputs": [],
   "source": [
    "#hide\n",
    "# g['continent'] = g['continent'].map(mapping['map.continent'])"
   ]
  },
  {
   "cell_type": "code",
   "execution_count": 32,
   "metadata": {
    "execution": {
     "iopub.execute_input": "2020-12-24T00:22:11.896769Z",
     "iopub.status.busy": "2020-12-24T00:22:11.895706Z",
     "iopub.status.idle": "2020-12-24T00:22:11.897843Z",
     "shell.execute_reply": "2020-12-24T00:22:11.898655Z"
    },
    "papermill": {
     "duration": 0.036403,
     "end_time": "2020-12-24T00:22:11.898874",
     "exception": false,
     "start_time": "2020-12-24T00:22:11.862471",
     "status": "completed"
    },
    "tags": []
   },
   "outputs": [],
   "source": [
    "#hide\n",
    "# g.head()"
   ]
  },
  {
   "cell_type": "code",
   "execution_count": 33,
   "metadata": {
    "execution": {
     "iopub.execute_input": "2020-12-24T00:22:11.963250Z",
     "iopub.status.busy": "2020-12-24T00:22:11.962674Z",
     "iopub.status.idle": "2020-12-24T00:22:11.964859Z",
     "shell.execute_reply": "2020-12-24T00:22:11.964266Z"
    },
    "papermill": {
     "duration": 0.035609,
     "end_time": "2020-12-24T00:22:11.964974",
     "exception": false,
     "start_time": "2020-12-24T00:22:11.929365",
     "status": "completed"
    },
    "tags": []
   },
   "outputs": [],
   "source": [
    "# hide\n",
    "# g['date'] = g['date'].astype('datetime64[ns]')"
   ]
  },
  {
   "cell_type": "code",
   "execution_count": 34,
   "metadata": {
    "execution": {
     "iopub.execute_input": "2020-12-24T00:22:12.030872Z",
     "iopub.status.busy": "2020-12-24T00:22:12.029870Z",
     "iopub.status.idle": "2020-12-24T00:22:12.031942Z",
     "shell.execute_reply": "2020-12-24T00:22:12.032784Z"
    },
    "papermill": {
     "duration": 0.037643,
     "end_time": "2020-12-24T00:22:12.033004",
     "exception": false,
     "start_time": "2020-12-24T00:22:11.995361",
     "status": "completed"
    },
    "tags": []
   },
   "outputs": [],
   "source": [
    "#hide\n",
    "# g['date'] = g.date.dt.dayofyear"
   ]
  },
  {
   "cell_type": "code",
   "execution_count": 35,
   "metadata": {
    "execution": {
     "iopub.execute_input": "2020-12-24T00:22:12.099409Z",
     "iopub.status.busy": "2020-12-24T00:22:12.098620Z",
     "iopub.status.idle": "2020-12-24T00:22:12.100245Z",
     "shell.execute_reply": "2020-12-24T00:22:12.100929Z"
    },
    "papermill": {
     "duration": 0.037647,
     "end_time": "2020-12-24T00:22:12.101108",
     "exception": false,
     "start_time": "2020-12-24T00:22:12.063461",
     "status": "completed"
    },
    "tags": []
   },
   "outputs": [],
   "source": [
    "#hide\n",
    "# g = g.rename(columns= {'continent':'group','country':'name','cases':'value'})"
   ]
  },
  {
   "cell_type": "code",
   "execution_count": 36,
   "metadata": {
    "execution": {
     "iopub.execute_input": "2020-12-24T00:22:12.168400Z",
     "iopub.status.busy": "2020-12-24T00:22:12.167366Z",
     "iopub.status.idle": "2020-12-24T00:22:12.169483Z",
     "shell.execute_reply": "2020-12-24T00:22:12.170286Z"
    },
    "papermill": {
     "duration": 0.037874,
     "end_time": "2020-12-24T00:22:12.170501",
     "exception": false,
     "start_time": "2020-12-24T00:22:12.132627",
     "status": "completed"
    },
    "tags": []
   },
   "outputs": [],
   "source": [
    "#hide\n",
    "# cols = ['name','group','day','value']"
   ]
  },
  {
   "cell_type": "code",
   "execution_count": 37,
   "metadata": {
    "execution": {
     "iopub.execute_input": "2020-12-24T00:22:12.236204Z",
     "iopub.status.busy": "2020-12-24T00:22:12.235632Z",
     "iopub.status.idle": "2020-12-24T00:22:12.238141Z",
     "shell.execute_reply": "2020-12-24T00:22:12.238687Z"
    },
    "papermill": {
     "duration": 0.03631,
     "end_time": "2020-12-24T00:22:12.238811",
     "exception": false,
     "start_time": "2020-12-24T00:22:12.202501",
     "status": "completed"
    },
    "tags": []
   },
   "outputs": [],
   "source": [
    "#hide\n",
    "# g.rename(columns= {'date':'day'},inplace = True)"
   ]
  },
  {
   "cell_type": "code",
   "execution_count": 38,
   "metadata": {
    "execution": {
     "iopub.execute_input": "2020-12-24T00:22:12.304324Z",
     "iopub.status.busy": "2020-12-24T00:22:12.303755Z",
     "iopub.status.idle": "2020-12-24T00:22:12.306134Z",
     "shell.execute_reply": "2020-12-24T00:22:12.306685Z"
    },
    "papermill": {
     "duration": 0.037414,
     "end_time": "2020-12-24T00:22:12.306810",
     "exception": false,
     "start_time": "2020-12-24T00:22:12.269396",
     "status": "completed"
    },
    "tags": []
   },
   "outputs": [],
   "source": [
    "#hide\n",
    "# g = g[cols]"
   ]
  },
  {
   "cell_type": "code",
   "execution_count": 39,
   "metadata": {
    "execution": {
     "iopub.execute_input": "2020-12-24T00:22:12.371741Z",
     "iopub.status.busy": "2020-12-24T00:22:12.371173Z",
     "iopub.status.idle": "2020-12-24T00:22:12.374038Z",
     "shell.execute_reply": "2020-12-24T00:22:12.374588Z"
    },
    "papermill": {
     "duration": 0.03745,
     "end_time": "2020-12-24T00:22:12.374714",
     "exception": false,
     "start_time": "2020-12-24T00:22:12.337264",
     "status": "completed"
    },
    "tags": []
   },
   "outputs": [],
   "source": [
    "# #hide\n",
    "# g = g[g.group.notna()]"
   ]
  },
  {
   "cell_type": "code",
   "execution_count": 40,
   "metadata": {
    "execution": {
     "iopub.execute_input": "2020-12-24T00:22:12.440667Z",
     "iopub.status.busy": "2020-12-24T00:22:12.440055Z",
     "iopub.status.idle": "2020-12-24T00:22:12.442446Z",
     "shell.execute_reply": "2020-12-24T00:22:12.442995Z"
    },
    "papermill": {
     "duration": 0.037487,
     "end_time": "2020-12-24T00:22:12.443130",
     "exception": false,
     "start_time": "2020-12-24T00:22:12.405643",
     "status": "completed"
    },
    "tags": []
   },
   "outputs": [],
   "source": [
    "# #hide\n",
    "# colors = dict(zip(\n",
    "#     [\"Oceania\", \"Europe\", \"Asia\", \"South America\", \"Middle East\", \"North America\", \"Africa\"],\n",
    "#     [\"#adb0ff\", \"#ffb3ff\", \"#90d595\", \"#e48381\", \"#aafbff\", \"#f7bb5f\", \"#eafb50\"]\n",
    "# ))\n",
    "# group_lk = g.set_index('name')['group'].to_dict()"
   ]
  },
  {
   "cell_type": "code",
   "execution_count": null,
   "metadata": {
    "papermill": {
     "duration": 0.029909,
     "end_time": "2020-12-24T00:22:12.503261",
     "exception": false,
     "start_time": "2020-12-24T00:22:12.473352",
     "status": "completed"
    },
    "tags": []
   },
   "outputs": [],
   "source": []
  },
  {
   "cell_type": "code",
   "execution_count": 41,
   "metadata": {
    "execution": {
     "iopub.execute_input": "2020-12-24T00:22:12.567244Z",
     "iopub.status.busy": "2020-12-24T00:22:12.566656Z",
     "iopub.status.idle": "2020-12-24T00:22:12.568901Z",
     "shell.execute_reply": "2020-12-24T00:22:12.569453Z"
    },
    "papermill": {
     "duration": 0.036169,
     "end_time": "2020-12-24T00:22:12.569580",
     "exception": false,
     "start_time": "2020-12-24T00:22:12.533411",
     "status": "completed"
    },
    "tags": []
   },
   "outputs": [],
   "source": [
    "# #hide\n",
    "# fig, ax = plt.subplots(figsize=(15, 8))\n",
    "\n",
    "# def draw_barchart(current_day):\n",
    "#     dff = g[g['day'].eq(current_day)].sort_values(by='value', ascending=True).tail(10)\n",
    "#     ax.clear()\n",
    "#     ax.barh(dff['name'], dff['value'], color=[colors[group_lk[x]] for x in dff['name']])\n",
    "#     dx = dff['value'].max() / 200\n",
    "    \n",
    "#     for i, (value, name) in enumerate(zip(dff['value'], dff['name'])):\n",
    "#         ax.text(value-dx, i,     name,           size=14, weight=600, ha='right', va='bottom')\n",
    "#         ax.text(value-dx, i-.25, group_lk[name], size=10, color='#444444', ha='right', va='baseline')\n",
    "#         ax.text(value+dx, i,     f'{value:,.0f}',  size=14, ha='left',  va='center')\n",
    "#     ax.text(1, 0.4, current_day, transform=ax.transAxes, color='#777777', size=46, ha='right', weight=800)\n",
    "#     ax.text(0, 1.06, 'Population (thousands)', transform=ax.transAxes, size=12, color='#777777')\n",
    "#     ax.xaxis.set_major_formatter(ticker.StrMethodFormatter('{x:,.0f}'))\n",
    "#     ax.xaxis.set_ticks_position('top')\n",
    "#     ax.tick_params(axis='x', colors='#777777', labelsize=12)\n",
    "#     ax.set_yticks([])\n",
    "#     ax.margins(0, 0.01)\n",
    "#     ax.grid(which='major', axis='x', linestyle='-')\n",
    "#     ax.set_axisbelow(True)\n",
    "    \n",
    "#     ax.text(0, 1.15, 'Coronavirus',\n",
    "#             transform=ax.transAxes, size=24, weight=600, ha='left', va='top')\n",
    "# #     ax.text(1, 0, 'by @pratapvardhan; credit @jburnmurdoch', transform=ax.transAxes, color='#777777', ha='right',\n",
    "# #             bbox=dict(facecolor='white', alpha=0.8, edgecolor='white'))\n",
    "#     plt.box(False)"
   ]
  },
  {
   "cell_type": "code",
   "execution_count": 42,
   "metadata": {
    "execution": {
     "iopub.execute_input": "2020-12-24T00:22:12.632664Z",
     "iopub.status.busy": "2020-12-24T00:22:12.632058Z",
     "iopub.status.idle": "2020-12-24T00:22:12.634256Z",
     "shell.execute_reply": "2020-12-24T00:22:12.634771Z"
    },
    "papermill": {
     "duration": 0.035412,
     "end_time": "2020-12-24T00:22:12.634889",
     "exception": false,
     "start_time": "2020-12-24T00:22:12.599477",
     "status": "completed"
    },
    "tags": []
   },
   "outputs": [],
   "source": [
    "# #hide_input\n",
    "# fig, ax = plt.subplots(figsize=(15, 8))\n",
    "# animator = animation.FuncAnimation(fig, draw_barchart, frames=range(g.day.values.min(), g.day.values.max()))\n",
    "# HTML(animator.to_jshtml())\n",
    "# # or use animator.to_html5_video() or animator.save() "
   ]
  },
  {
   "cell_type": "code",
   "execution_count": null,
   "metadata": {
    "papermill": {
     "duration": 0.029744,
     "end_time": "2020-12-24T00:22:12.694333",
     "exception": false,
     "start_time": "2020-12-24T00:22:12.664589",
     "status": "completed"
    },
    "tags": []
   },
   "outputs": [],
   "source": []
  },
  {
   "cell_type": "code",
   "execution_count": null,
   "metadata": {
    "papermill": {
     "duration": 0.030342,
     "end_time": "2020-12-24T00:22:12.754859",
     "exception": false,
     "start_time": "2020-12-24T00:22:12.724517",
     "status": "completed"
    },
    "tags": []
   },
   "outputs": [],
   "source": []
  },
  {
   "cell_type": "code",
   "execution_count": null,
   "metadata": {
    "papermill": {
     "duration": 0.030039,
     "end_time": "2020-12-24T00:22:12.814506",
     "exception": false,
     "start_time": "2020-12-24T00:22:12.784467",
     "status": "completed"
    },
    "tags": []
   },
   "outputs": [],
   "source": []
  }
 ],
 "metadata": {
  "kernelspec": {
   "display_name": "Python 3",
   "language": "python",
   "name": "python3"
  },
  "language_info": {
   "codemirror_mode": {
    "name": "ipython",
    "version": 3
   },
   "file_extension": ".py",
   "mimetype": "text/x-python",
   "name": "python",
   "nbconvert_exporter": "python",
   "pygments_lexer": "ipython3",
   "version": "3.6.12"
  },
  "papermill": {
   "duration": 8.089272,
   "end_time": "2020-12-24T00:22:13.152438",
   "environment_variables": {},
   "exception": null,
   "input_path": "2020-03-21-covid19exp.ipynb",
   "output_path": "2020-03-21-covid19exp.ipynb",
   "parameters": {},
   "start_time": "2020-12-24T00:22:05.063166",
   "version": "2.0.0"
  }
 },
 "nbformat": 4,
 "nbformat_minor": 4
}