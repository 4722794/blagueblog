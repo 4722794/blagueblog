{
 "cells": [
  {
   "cell_type": "markdown",
   "id": "muslim-click",
   "metadata": {
    "papermill": {
     "duration": 0.035176,
     "end_time": "2021-03-15T12:07:35.283988",
     "exception": false,
     "start_time": "2021-03-15T12:07:35.248812",
     "status": "completed"
    },
    "tags": []
   },
   "source": [
    "# COVID-19 Case Race\n",
    "> A race chart to see rising cases around the world\n",
    "\n",
    "- author: Hargun Oberoi\n",
    "- image: images/covid-overview.png\n",
    "- hide: false\n",
    "- badges: false"
   ]
  },
  {
   "cell_type": "code",
   "execution_count": 1,
   "id": "proof-material",
   "metadata": {
    "execution": {
     "iopub.execute_input": "2021-03-15T12:07:35.358407Z",
     "iopub.status.busy": "2021-03-15T12:07:35.357803Z",
     "iopub.status.idle": "2021-03-15T12:07:35.684242Z",
     "shell.execute_reply": "2021-03-15T12:07:35.682707Z"
    },
    "papermill": {
     "duration": 0.370571,
     "end_time": "2021-03-15T12:07:35.684500",
     "exception": false,
     "start_time": "2021-03-15T12:07:35.313929",
     "status": "completed"
    },
    "tags": []
   },
   "outputs": [],
   "source": [
    "#hide\n",
    "import numpy as np\n",
    "import pandas as pd\n",
    "from jinja2 import Template\n",
    "from IPython.display import HTML"
   ]
  },
  {
   "cell_type": "code",
   "execution_count": 2,
   "id": "developed-terminology",
   "metadata": {
    "execution": {
     "iopub.execute_input": "2021-03-15T12:07:35.750435Z",
     "iopub.status.busy": "2021-03-15T12:07:35.749862Z",
     "iopub.status.idle": "2021-03-15T12:07:35.752034Z",
     "shell.execute_reply": "2021-03-15T12:07:35.751537Z"
    },
    "papermill": {
     "duration": 0.03495,
     "end_time": "2021-03-15T12:07:35.752151",
     "exception": false,
     "start_time": "2021-03-15T12:07:35.717201",
     "status": "completed"
    },
    "tags": []
   },
   "outputs": [],
   "source": [
    "#hide\n",
    "\n",
    "# FETCH\n",
    "base_url = 'https://raw.githubusercontent.com/pratapvardhan/notebooks/master/covid19/'\n",
    "paths = {\n",
    "    'mapping': base_url + 'mapping_countries.csv',\n",
    "    'overview': base_url + 'overview.tpl'\n",
    "}"
   ]
  },
  {
   "cell_type": "code",
   "execution_count": 3,
   "id": "dynamic-saver",
   "metadata": {
    "execution": {
     "iopub.execute_input": "2021-03-15T12:07:35.823221Z",
     "iopub.status.busy": "2021-03-15T12:07:35.822518Z",
     "iopub.status.idle": "2021-03-15T12:07:35.827990Z",
     "shell.execute_reply": "2021-03-15T12:07:35.827478Z"
    },
    "papermill": {
     "duration": 0.045989,
     "end_time": "2021-03-15T12:07:35.828119",
     "exception": false,
     "start_time": "2021-03-15T12:07:35.782130",
     "status": "completed"
    },
    "tags": []
   },
   "outputs": [
    {
     "data": {
      "text/plain": [
       "'https://raw.githubusercontent.com/pratapvardhan/notebooks/master/covid19/mapping_countries.csv'"
      ]
     },
     "execution_count": 3,
     "metadata": {},
     "output_type": "execute_result"
    }
   ],
   "source": [
    "#hide\n",
    "paths['mapping']"
   ]
  },
  {
   "cell_type": "code",
   "execution_count": 4,
   "id": "urban-software",
   "metadata": {
    "execution": {
     "iopub.execute_input": "2021-03-15T12:07:35.905988Z",
     "iopub.status.busy": "2021-03-15T12:07:35.905369Z",
     "iopub.status.idle": "2021-03-15T12:07:35.907960Z",
     "shell.execute_reply": "2021-03-15T12:07:35.907459Z"
    },
    "papermill": {
     "duration": 0.046637,
     "end_time": "2021-03-15T12:07:35.908078",
     "exception": false,
     "start_time": "2021-03-15T12:07:35.861441",
     "status": "completed"
    },
    "tags": []
   },
   "outputs": [],
   "source": [
    "#hide\n",
    "def get_mappings(url):\n",
    "    df = pd.read_csv(url)\n",
    "    return {\n",
    "        'df': df,\n",
    "        'replace.country': dict(df.dropna(subset=['Name']).set_index('Country')['Name']),\n",
    "        'map.continent': dict(df.set_index('Name')['Continent'])\n",
    "    }"
   ]
  },
  {
   "cell_type": "code",
   "execution_count": 5,
   "id": "intimate-machinery",
   "metadata": {
    "execution": {
     "iopub.execute_input": "2021-03-15T12:07:35.971335Z",
     "iopub.status.busy": "2021-03-15T12:07:35.970860Z",
     "iopub.status.idle": "2021-03-15T12:07:36.001871Z",
     "shell.execute_reply": "2021-03-15T12:07:36.001284Z"
    },
    "papermill": {
     "duration": 0.064204,
     "end_time": "2021-03-15T12:07:36.001998",
     "exception": false,
     "start_time": "2021-03-15T12:07:35.937794",
     "status": "completed"
    },
    "tags": []
   },
   "outputs": [],
   "source": [
    "#hide\n",
    "mapping = get_mappings(paths['mapping'])"
   ]
  },
  {
   "cell_type": "code",
   "execution_count": 6,
   "id": "certified-tactics",
   "metadata": {
    "execution": {
     "iopub.execute_input": "2021-03-15T12:07:36.072151Z",
     "iopub.status.busy": "2021-03-15T12:07:36.071560Z",
     "iopub.status.idle": "2021-03-15T12:07:36.073849Z",
     "shell.execute_reply": "2021-03-15T12:07:36.074444Z"
    },
    "papermill": {
     "duration": 0.038485,
     "end_time": "2021-03-15T12:07:36.074655",
     "exception": false,
     "start_time": "2021-03-15T12:07:36.036170",
     "status": "completed"
    },
    "tags": []
   },
   "outputs": [],
   "source": [
    "#hide\n",
    "def get_template(path):\n",
    "    from urllib.parse import urlparse\n",
    "    if bool(urlparse(path).netloc):\n",
    "        from urllib.request import urlopen\n",
    "        return urlopen(path).read().decode('utf8')\n",
    "    return open(path).read()"
   ]
  },
  {
   "cell_type": "code",
   "execution_count": 7,
   "id": "realistic-blast",
   "metadata": {
    "execution": {
     "iopub.execute_input": "2021-03-15T12:07:36.146970Z",
     "iopub.status.busy": "2021-03-15T12:07:36.146364Z",
     "iopub.status.idle": "2021-03-15T12:07:36.148401Z",
     "shell.execute_reply": "2021-03-15T12:07:36.147878Z"
    },
    "papermill": {
     "duration": 0.040095,
     "end_time": "2021-03-15T12:07:36.148513",
     "exception": false,
     "start_time": "2021-03-15T12:07:36.108418",
     "status": "completed"
    },
    "tags": []
   },
   "outputs": [],
   "source": [
    "#hide\n",
    "def get_frame(name):\n",
    "    url = (\n",
    "        'https://raw.githubusercontent.com/CSSEGISandData/COVID-19/master/csse_covid_19_data/'\n",
    "        f'csse_covid_19_time_series/time_series_covid19_{name}_global.csv')\n",
    "    df = pd.read_csv(url)\n",
    "    # rename countries\n",
    "    df['Country/Region'] = df['Country/Region'].replace(mapping['replace.country'])\n",
    "    return df"
   ]
  },
  {
   "cell_type": "code",
   "execution_count": 8,
   "id": "affiliated-characterization",
   "metadata": {
    "execution": {
     "iopub.execute_input": "2021-03-15T12:07:36.217397Z",
     "iopub.status.busy": "2021-03-15T12:07:36.216848Z",
     "iopub.status.idle": "2021-03-15T12:07:36.218998Z",
     "shell.execute_reply": "2021-03-15T12:07:36.218613Z"
    },
    "papermill": {
     "duration": 0.037815,
     "end_time": "2021-03-15T12:07:36.219098",
     "exception": false,
     "start_time": "2021-03-15T12:07:36.181283",
     "status": "completed"
    },
    "tags": []
   },
   "outputs": [],
   "source": [
    "#hide\n",
    "def get_dates(df):\n",
    "    dt_cols = df.columns[~df.columns.isin(['Province/State', 'Country/Region', 'Lat', 'Long'])]\n",
    "    LAST_DATE_I = -1\n",
    "    # sometimes last column may be empty, then go backwards\n",
    "    for i in range(-1, -len(dt_cols), -1):\n",
    "        if not df[dt_cols[i]].fillna(0).eq(0).all():\n",
    "            LAST_DATE_I = i\n",
    "            break\n",
    "    return LAST_DATE_I, dt_cols"
   ]
  },
  {
   "cell_type": "code",
   "execution_count": 9,
   "id": "recent-optimization",
   "metadata": {
    "execution": {
     "iopub.execute_input": "2021-03-15T12:07:36.293120Z",
     "iopub.status.busy": "2021-03-15T12:07:36.292216Z",
     "iopub.status.idle": "2021-03-15T12:07:36.539903Z",
     "shell.execute_reply": "2021-03-15T12:07:36.539390Z"
    },
    "papermill": {
     "duration": 0.285567,
     "end_time": "2021-03-15T12:07:36.540030",
     "exception": false,
     "start_time": "2021-03-15T12:07:36.254463",
     "status": "completed"
    },
    "tags": []
   },
   "outputs": [],
   "source": [
    "#hide\n",
    "COL_REGION = 'Country/Region'\n",
    "# Confirmed, Recovered, Deaths\n",
    "df = get_frame('confirmed')\n",
    "# dft_: timeseries, dfc_: today country agg\n",
    "dft_cases = df\n",
    "dft_deaths = get_frame('deaths')\n",
    "dft_recovered = get_frame('recovered')\n",
    "LAST_DATE_I, dt_cols = get_dates(df)"
   ]
  },
  {
   "cell_type": "code",
   "execution_count": 10,
   "id": "absolute-copper",
   "metadata": {
    "execution": {
     "iopub.execute_input": "2021-03-15T12:07:36.610756Z",
     "iopub.status.busy": "2021-03-15T12:07:36.610242Z",
     "iopub.status.idle": "2021-03-15T12:07:36.612544Z",
     "shell.execute_reply": "2021-03-15T12:07:36.612987Z"
    },
    "papermill": {
     "duration": 0.041577,
     "end_time": "2021-03-15T12:07:36.613121",
     "exception": false,
     "start_time": "2021-03-15T12:07:36.571544",
     "status": "completed"
    },
    "tags": []
   },
   "outputs": [],
   "source": [
    "#hide\n",
    "LAST_DATE_I, dt_cols = get_dates(df)\n",
    "dt_today =dt_cols[LAST_DATE_I]\n",
    "# dt_5day = dt_cols[LAST_DATE_I - 5]\n",
    "dt_yday = dt_cols[LAST_DATE_I - 1]"
   ]
  },
  {
   "cell_type": "code",
   "execution_count": 11,
   "id": "restricted-sheriff",
   "metadata": {
    "execution": {
     "iopub.execute_input": "2021-03-15T12:07:36.683562Z",
     "iopub.status.busy": "2021-03-15T12:07:36.682970Z",
     "iopub.status.idle": "2021-03-15T12:07:36.690436Z",
     "shell.execute_reply": "2021-03-15T12:07:36.690878Z"
    },
    "papermill": {
     "duration": 0.04691,
     "end_time": "2021-03-15T12:07:36.691008",
     "exception": false,
     "start_time": "2021-03-15T12:07:36.644098",
     "status": "completed"
    },
    "tags": []
   },
   "outputs": [],
   "source": [
    "#hide\n",
    "dfc_cases = dft_cases.groupby(COL_REGION)[dt_today].sum()\n",
    "dfc_deaths = dft_deaths.groupby(COL_REGION)[dt_today].sum()\n",
    "# dfp_cases = dft_cases.groupby(COL_REGION)[dt_5day].sum()\n",
    "# dfp_deaths = dft_deaths.groupby(COL_REGION)[dt_5day].sum()\n",
    "dfp_cases = dft_cases.groupby(COL_REGION)[dt_yday].sum()\n",
    "dfp_deaths = dft_deaths.groupby(COL_REGION)[dt_yday].sum()"
   ]
  },
  {
   "cell_type": "code",
   "execution_count": 12,
   "id": "deluxe-hepatitis",
   "metadata": {
    "execution": {
     "iopub.execute_input": "2021-03-15T12:07:36.763213Z",
     "iopub.status.busy": "2021-03-15T12:07:36.762652Z",
     "iopub.status.idle": "2021-03-15T12:07:36.765012Z",
     "shell.execute_reply": "2021-03-15T12:07:36.764594Z"
    },
    "papermill": {
     "duration": 0.038234,
     "end_time": "2021-03-15T12:07:36.765113",
     "exception": false,
     "start_time": "2021-03-15T12:07:36.726879",
     "status": "completed"
    },
    "tags": []
   },
   "outputs": [],
   "source": [
    "#hide\n",
    "df_table = (pd.DataFrame(dict(Cases = dfc_cases, Deaths = dfc_deaths, PCases = dfp_cases, PDeaths = dfp_deaths))\n",
    "            .sort_values(by = ['Cases','Deaths'], ascending = [False, False])\n",
    "            .reset_index())"
   ]
  },
  {
   "cell_type": "code",
   "execution_count": 13,
   "id": "educational-chancellor",
   "metadata": {
    "execution": {
     "iopub.execute_input": "2021-03-15T12:07:36.847554Z",
     "iopub.status.busy": "2021-03-15T12:07:36.846961Z",
     "iopub.status.idle": "2021-03-15T12:07:36.855455Z",
     "shell.execute_reply": "2021-03-15T12:07:36.855014Z"
    },
    "papermill": {
     "duration": 0.058395,
     "end_time": "2021-03-15T12:07:36.855568",
     "exception": false,
     "start_time": "2021-03-15T12:07:36.797173",
     "status": "completed"
    },
    "tags": []
   },
   "outputs": [
    {
     "data": {
      "text/html": [
       "<div>\n",
       "<style scoped>\n",
       "    .dataframe tbody tr th:only-of-type {\n",
       "        vertical-align: middle;\n",
       "    }\n",
       "\n",
       "    .dataframe tbody tr th {\n",
       "        vertical-align: top;\n",
       "    }\n",
       "\n",
       "    .dataframe thead th {\n",
       "        text-align: right;\n",
       "    }\n",
       "</style>\n",
       "<table border=\"1\" class=\"dataframe\">\n",
       "  <thead>\n",
       "    <tr style=\"text-align: right;\">\n",
       "      <th></th>\n",
       "      <th>Country/Region</th>\n",
       "      <th>Cases</th>\n",
       "      <th>Deaths</th>\n",
       "      <th>PCases</th>\n",
       "      <th>PDeaths</th>\n",
       "      <th>Cases (+)</th>\n",
       "      <th>Deaths (+)</th>\n",
       "      <th>Fatality Rate</th>\n",
       "      <th>Continent</th>\n",
       "    </tr>\n",
       "  </thead>\n",
       "  <tbody>\n",
       "    <tr>\n",
       "      <th>0</th>\n",
       "      <td>US</td>\n",
       "      <td>29438775</td>\n",
       "      <td>534888</td>\n",
       "      <td>29400553</td>\n",
       "      <td>534316</td>\n",
       "      <td>38222</td>\n",
       "      <td>572</td>\n",
       "      <td>1.82</td>\n",
       "      <td>North America</td>\n",
       "    </tr>\n",
       "    <tr>\n",
       "      <th>1</th>\n",
       "      <td>Brazil</td>\n",
       "      <td>11483370</td>\n",
       "      <td>278229</td>\n",
       "      <td>11439558</td>\n",
       "      <td>277102</td>\n",
       "      <td>43812</td>\n",
       "      <td>1127</td>\n",
       "      <td>2.42</td>\n",
       "      <td>South America</td>\n",
       "    </tr>\n",
       "    <tr>\n",
       "      <th>2</th>\n",
       "      <td>India</td>\n",
       "      <td>11385339</td>\n",
       "      <td>158725</td>\n",
       "      <td>11359048</td>\n",
       "      <td>158607</td>\n",
       "      <td>26291</td>\n",
       "      <td>118</td>\n",
       "      <td>1.39</td>\n",
       "      <td>Asia</td>\n",
       "    </tr>\n",
       "    <tr>\n",
       "      <th>3</th>\n",
       "      <td>Russia</td>\n",
       "      <td>4341381</td>\n",
       "      <td>90558</td>\n",
       "      <td>4331396</td>\n",
       "      <td>90169</td>\n",
       "      <td>9985</td>\n",
       "      <td>389</td>\n",
       "      <td>2.09</td>\n",
       "      <td>Europe</td>\n",
       "    </tr>\n",
       "    <tr>\n",
       "      <th>4</th>\n",
       "      <td>United Kingdom</td>\n",
       "      <td>4271710</td>\n",
       "      <td>125753</td>\n",
       "      <td>4267015</td>\n",
       "      <td>125701</td>\n",
       "      <td>4695</td>\n",
       "      <td>52</td>\n",
       "      <td>2.94</td>\n",
       "      <td>Europe</td>\n",
       "    </tr>\n",
       "  </tbody>\n",
       "</table>\n",
       "</div>"
      ],
      "text/plain": [
       "   Country/Region     Cases  Deaths    PCases  PDeaths  Cases (+)  Deaths (+)  \\\n",
       "0              US  29438775  534888  29400553   534316      38222         572   \n",
       "1          Brazil  11483370  278229  11439558   277102      43812        1127   \n",
       "2           India  11385339  158725  11359048   158607      26291         118   \n",
       "3          Russia   4341381   90558   4331396    90169       9985         389   \n",
       "4  United Kingdom   4271710  125753   4267015   125701       4695          52   \n",
       "\n",
       "   Fatality Rate      Continent  \n",
       "0           1.82  North America  \n",
       "1           2.42  South America  \n",
       "2           1.39           Asia  \n",
       "3           2.09         Europe  \n",
       "4           2.94         Europe  "
      ]
     },
     "execution_count": 13,
     "metadata": {},
     "output_type": "execute_result"
    }
   ],
   "source": [
    "#hide\n",
    "for c in 'Cases, Deaths'.split(', '):\n",
    "    df_table[f'{c} (+)'] = (df_table[c] - df_table[f'P{c}']).clip(0)\n",
    "    #Clip ça veut dire, les chiffres negatif sont interdit\n",
    "df_table['Fatality Rate'] = (100* df_table['Deaths']/ df_table['Cases']).round(2)\n",
    "df_table['Continent'] = df_table['Country/Region'].map(mapping['map.continent'])\n",
    "df_table.head(5)"
   ]
  },
  {
   "cell_type": "code",
   "execution_count": 14,
   "id": "aboriginal-bulgaria",
   "metadata": {
    "execution": {
     "iopub.execute_input": "2021-03-15T12:07:36.935878Z",
     "iopub.status.busy": "2021-03-15T12:07:36.935276Z",
     "iopub.status.idle": "2021-03-15T12:07:36.936780Z",
     "shell.execute_reply": "2021-03-15T12:07:36.937341Z"
    },
    "papermill": {
     "duration": 0.048825,
     "end_time": "2021-03-15T12:07:36.937469",
     "exception": false,
     "start_time": "2021-03-15T12:07:36.888644",
     "status": "completed"
    },
    "tags": []
   },
   "outputs": [],
   "source": [
    "#hide\n",
    "#delete problematic countries from table\n",
    "df_table = df_table[~df_table['Country/Region'].isin(['Cape Verde', 'Cruise Ship', 'Kosovo'])]"
   ]
  },
  {
   "cell_type": "code",
   "execution_count": 15,
   "id": "fantastic-effect",
   "metadata": {
    "execution": {
     "iopub.execute_input": "2021-03-15T12:07:37.008235Z",
     "iopub.status.busy": "2021-03-15T12:07:37.007640Z",
     "iopub.status.idle": "2021-03-15T12:07:37.024605Z",
     "shell.execute_reply": "2021-03-15T12:07:37.024159Z"
    },
    "papermill": {
     "duration": 0.057476,
     "end_time": "2021-03-15T12:07:37.024721",
     "exception": false,
     "start_time": "2021-03-15T12:07:36.967245",
     "status": "completed"
    },
    "tags": []
   },
   "outputs": [
    {
     "data": {
      "text/html": [
       "<div>\n",
       "<style scoped>\n",
       "    .dataframe tbody tr th:only-of-type {\n",
       "        vertical-align: middle;\n",
       "    }\n",
       "\n",
       "    .dataframe tbody tr th {\n",
       "        vertical-align: top;\n",
       "    }\n",
       "\n",
       "    .dataframe thead th {\n",
       "        text-align: right;\n",
       "    }\n",
       "</style>\n",
       "<table border=\"1\" class=\"dataframe\">\n",
       "  <thead>\n",
       "    <tr style=\"text-align: right;\">\n",
       "      <th></th>\n",
       "      <th>Country/Region</th>\n",
       "      <th>Cases</th>\n",
       "      <th>Deaths</th>\n",
       "      <th>PCases</th>\n",
       "      <th>PDeaths</th>\n",
       "      <th>Cases (+)</th>\n",
       "      <th>Deaths (+)</th>\n",
       "      <th>Fatality Rate</th>\n",
       "      <th>Continent</th>\n",
       "    </tr>\n",
       "  </thead>\n",
       "  <tbody>\n",
       "    <tr>\n",
       "      <th>0</th>\n",
       "      <td>US</td>\n",
       "      <td>29438775</td>\n",
       "      <td>534888</td>\n",
       "      <td>29400553</td>\n",
       "      <td>534316</td>\n",
       "      <td>38222</td>\n",
       "      <td>572</td>\n",
       "      <td>1.8</td>\n",
       "      <td>North America</td>\n",
       "    </tr>\n",
       "    <tr>\n",
       "      <th>1</th>\n",
       "      <td>Brazil</td>\n",
       "      <td>11483370</td>\n",
       "      <td>278229</td>\n",
       "      <td>11439558</td>\n",
       "      <td>277102</td>\n",
       "      <td>43812</td>\n",
       "      <td>1127</td>\n",
       "      <td>2.4</td>\n",
       "      <td>South America</td>\n",
       "    </tr>\n",
       "    <tr>\n",
       "      <th>2</th>\n",
       "      <td>India</td>\n",
       "      <td>11385339</td>\n",
       "      <td>158725</td>\n",
       "      <td>11359048</td>\n",
       "      <td>158607</td>\n",
       "      <td>26291</td>\n",
       "      <td>118</td>\n",
       "      <td>1.4</td>\n",
       "      <td>Asia</td>\n",
       "    </tr>\n",
       "    <tr>\n",
       "      <th>3</th>\n",
       "      <td>Russia</td>\n",
       "      <td>4341381</td>\n",
       "      <td>90558</td>\n",
       "      <td>4331396</td>\n",
       "      <td>90169</td>\n",
       "      <td>9985</td>\n",
       "      <td>389</td>\n",
       "      <td>2.1</td>\n",
       "      <td>Europe</td>\n",
       "    </tr>\n",
       "    <tr>\n",
       "      <th>4</th>\n",
       "      <td>United Kingdom</td>\n",
       "      <td>4271710</td>\n",
       "      <td>125753</td>\n",
       "      <td>4267015</td>\n",
       "      <td>125701</td>\n",
       "      <td>4695</td>\n",
       "      <td>52</td>\n",
       "      <td>2.9</td>\n",
       "      <td>Europe</td>\n",
       "    </tr>\n",
       "  </tbody>\n",
       "</table>\n",
       "</div>"
      ],
      "text/plain": [
       "   Country/Region     Cases  Deaths    PCases  PDeaths  Cases (+)  Deaths (+)  \\\n",
       "0              US  29438775  534888  29400553   534316      38222         572   \n",
       "1          Brazil  11483370  278229  11439558   277102      43812        1127   \n",
       "2           India  11385339  158725  11359048   158607      26291         118   \n",
       "3          Russia   4341381   90558   4331396    90169       9985         389   \n",
       "4  United Kingdom   4271710  125753   4267015   125701       4695          52   \n",
       "\n",
       "   Fatality Rate      Continent  \n",
       "0            1.8  North America  \n",
       "1            2.4  South America  \n",
       "2            1.4           Asia  \n",
       "3            2.1         Europe  \n",
       "4            2.9         Europe  "
      ]
     },
     "execution_count": 15,
     "metadata": {},
     "output_type": "execute_result"
    }
   ],
   "source": [
    "#hide\n",
    "df_table = (pd.DataFrame(dict(Cases=dfc_cases, Deaths=dfc_deaths, PCases=dfp_cases, PDeaths=dfp_deaths))\n",
    "             .sort_values(by=['Cases', 'Deaths'], ascending=[False, False])\n",
    "             .reset_index())\n",
    "df_table.rename(columns={'index': 'Country/Region'}, inplace=True)\n",
    "for c in 'Cases, Deaths'.split(', '):\n",
    "    df_table[f'{c} (+)'] = (df_table[c] - df_table[f'P{c}']).clip(0)  # DATA BUG\n",
    "df_table['Fatality Rate'] = (100 * df_table['Deaths'] / df_table['Cases']).round(1)\n",
    "df_table['Continent'] = df_table['Country/Region'].map(mapping['map.continent'])\n",
    "df_table.head(5)"
   ]
  },
  {
   "cell_type": "code",
   "execution_count": 16,
   "id": "fewer-occasion",
   "metadata": {
    "execution": {
     "iopub.execute_input": "2021-03-15T12:07:37.104667Z",
     "iopub.status.busy": "2021-03-15T12:07:37.103550Z",
     "iopub.status.idle": "2021-03-15T12:07:37.106866Z",
     "shell.execute_reply": "2021-03-15T12:07:37.107346Z"
    },
    "papermill": {
     "duration": 0.053943,
     "end_time": "2021-03-15T12:07:37.107486",
     "exception": false,
     "start_time": "2021-03-15T12:07:37.053543",
     "status": "completed"
    },
    "tags": []
   },
   "outputs": [],
   "source": [
    "#hide\n",
    "#delete problematic countries from table\n",
    "df_table = df_table[~df_table['Country/Region'].isin(['Cape Verde', 'Cruise Ship', 'Kosovo'])]"
   ]
  },
  {
   "cell_type": "code",
   "execution_count": 17,
   "id": "related-center",
   "metadata": {
    "execution": {
     "iopub.execute_input": "2021-03-15T12:07:37.182781Z",
     "iopub.status.busy": "2021-03-15T12:07:37.182166Z",
     "iopub.status.idle": "2021-03-15T12:07:37.196271Z",
     "shell.execute_reply": "2021-03-15T12:07:37.196974Z"
    },
    "papermill": {
     "duration": 0.055263,
     "end_time": "2021-03-15T12:07:37.197125",
     "exception": false,
     "start_time": "2021-03-15T12:07:37.141862",
     "status": "completed"
    },
    "tags": []
   },
   "outputs": [],
   "source": [
    "#hide\n",
    "metrics = [df_table.columns[index] for index in [1,2,5,6]]\n",
    "# s_china = df_table[df_table['Country/Region'].eq('China')][metrics].sum().add_prefix('China ')\n",
    "s_us = df_table[df_table['Country/Region'].eq('US')][metrics].sum().add_prefix('US ')\n",
    "s_eu = df_table[df_table['Continent'].eq('Europe')][metrics].sum().add_prefix('EU ')\n",
    "s_ind = df_table[df_table['Country/Region'].eq('India')][metrics].sum().add_prefix('India ')\n",
    "summary = {'updated': pd.to_datetime(dt_today), 'since': pd.to_datetime(dt_yday)}\n",
    "summary = {'updated': pd.to_datetime(dt_today), 'since': pd.to_datetime(dt_yday)}\n",
    "summary = {**summary, **df_table[metrics].sum(), **s_ind, **s_us, **s_eu}"
   ]
  },
  {
   "cell_type": "code",
   "execution_count": 18,
   "id": "engaging-syndrome",
   "metadata": {
    "execution": {
     "iopub.execute_input": "2021-03-15T12:07:37.295559Z",
     "iopub.status.busy": "2021-03-15T12:07:37.294494Z",
     "iopub.status.idle": "2021-03-15T12:07:37.306408Z",
     "shell.execute_reply": "2021-03-15T12:07:37.305940Z"
    },
    "papermill": {
     "duration": 0.065478,
     "end_time": "2021-03-15T12:07:37.306542",
     "exception": false,
     "start_time": "2021-03-15T12:07:37.241064",
     "status": "completed"
    },
    "tags": []
   },
   "outputs": [],
   "source": [
    "#hide\n",
    "dft_ct_new_cases = dft_cases.groupby(COL_REGION)[dt_cols].sum().diff(axis=1).fillna(0).astype(int)"
   ]
  },
  {
   "cell_type": "code",
   "execution_count": 19,
   "id": "neutral-assignment",
   "metadata": {
    "execution": {
     "iopub.execute_input": "2021-03-15T12:07:37.378823Z",
     "iopub.status.busy": "2021-03-15T12:07:37.378264Z",
     "iopub.status.idle": "2021-03-15T12:07:37.381573Z",
     "shell.execute_reply": "2021-03-15T12:07:37.381185Z"
    },
    "papermill": {
     "duration": 0.041296,
     "end_time": "2021-03-15T12:07:37.381677",
     "exception": false,
     "start_time": "2021-03-15T12:07:37.340381",
     "status": "completed"
    },
    "tags": []
   },
   "outputs": [],
   "source": [
    "#hide\n",
    "everydaycases = dft_ct_new_cases.cumsum(axis=1)"
   ]
  },
  {
   "cell_type": "code",
   "execution_count": 20,
   "id": "parliamentary-calgary",
   "metadata": {
    "execution": {
     "iopub.execute_input": "2021-03-15T12:07:37.448969Z",
     "iopub.status.busy": "2021-03-15T12:07:37.448389Z",
     "iopub.status.idle": "2021-03-15T12:07:39.614729Z",
     "shell.execute_reply": "2021-03-15T12:07:39.614205Z"
    },
    "papermill": {
     "duration": 2.203158,
     "end_time": "2021-03-15T12:07:39.614865",
     "exception": false,
     "start_time": "2021-03-15T12:07:37.411707",
     "status": "completed"
    },
    "tags": []
   },
   "outputs": [],
   "source": [
    "#hide\n",
    "import pandas as pd\n",
    "import matplotlib.pyplot as plt\n",
    "import matplotlib.ticker as ticker\n",
    "import matplotlib.animation as animation\n",
    "from IPython.display import HTML"
   ]
  },
  {
   "cell_type": "code",
   "execution_count": 21,
   "id": "lasting-extraction",
   "metadata": {
    "execution": {
     "iopub.execute_input": "2021-03-15T12:07:39.688774Z",
     "iopub.status.busy": "2021-03-15T12:07:39.687680Z",
     "iopub.status.idle": "2021-03-15T12:07:39.694212Z",
     "shell.execute_reply": "2021-03-15T12:07:39.693384Z"
    },
    "papermill": {
     "duration": 0.046409,
     "end_time": "2021-03-15T12:07:39.694420",
     "exception": false,
     "start_time": "2021-03-15T12:07:39.648011",
     "status": "completed"
    },
    "tags": []
   },
   "outputs": [],
   "source": [
    "#hide\n",
    "t = everydaycases.stack()"
   ]
  },
  {
   "cell_type": "code",
   "execution_count": 22,
   "id": "premier-sleeve",
   "metadata": {
    "execution": {
     "iopub.execute_input": "2021-03-15T12:07:39.764963Z",
     "iopub.status.busy": "2021-03-15T12:07:39.764365Z",
     "iopub.status.idle": "2021-03-15T12:07:39.772293Z",
     "shell.execute_reply": "2021-03-15T12:07:39.771820Z"
    },
    "papermill": {
     "duration": 0.046305,
     "end_time": "2021-03-15T12:07:39.772414",
     "exception": false,
     "start_time": "2021-03-15T12:07:39.726109",
     "status": "completed"
    },
    "tags": []
   },
   "outputs": [],
   "source": [
    "#hide\n",
    "g = t.reset_index(['Country/Region'])"
   ]
  },
  {
   "cell_type": "code",
   "execution_count": 23,
   "id": "distributed-pittsburgh",
   "metadata": {
    "execution": {
     "iopub.execute_input": "2021-03-15T12:07:39.836995Z",
     "iopub.status.busy": "2021-03-15T12:07:39.836461Z",
     "iopub.status.idle": "2021-03-15T12:07:39.838703Z",
     "shell.execute_reply": "2021-03-15T12:07:39.839297Z"
    },
    "papermill": {
     "duration": 0.036868,
     "end_time": "2021-03-15T12:07:39.839447",
     "exception": false,
     "start_time": "2021-03-15T12:07:39.802579",
     "status": "completed"
    },
    "tags": []
   },
   "outputs": [],
   "source": [
    "#hide\n",
    "g.index.name = 'date'"
   ]
  },
  {
   "cell_type": "code",
   "execution_count": 24,
   "id": "naked-donor",
   "metadata": {
    "execution": {
     "iopub.execute_input": "2021-03-15T12:07:39.908158Z",
     "iopub.status.busy": "2021-03-15T12:07:39.907560Z",
     "iopub.status.idle": "2021-03-15T12:07:39.909814Z",
     "shell.execute_reply": "2021-03-15T12:07:39.909368Z"
    },
    "papermill": {
     "duration": 0.039348,
     "end_time": "2021-03-15T12:07:39.909929",
     "exception": false,
     "start_time": "2021-03-15T12:07:39.870581",
     "status": "completed"
    },
    "tags": []
   },
   "outputs": [],
   "source": [
    "# #hide\n",
    "# g = g.reset_index(['date'])"
   ]
  },
  {
   "cell_type": "code",
   "execution_count": 25,
   "id": "incomplete-mustang",
   "metadata": {
    "execution": {
     "iopub.execute_input": "2021-03-15T12:07:39.974785Z",
     "iopub.status.busy": "2021-03-15T12:07:39.974244Z",
     "iopub.status.idle": "2021-03-15T12:07:39.976440Z",
     "shell.execute_reply": "2021-03-15T12:07:39.975948Z"
    },
    "papermill": {
     "duration": 0.036893,
     "end_time": "2021-03-15T12:07:39.976568",
     "exception": false,
     "start_time": "2021-03-15T12:07:39.939675",
     "status": "completed"
    },
    "tags": []
   },
   "outputs": [],
   "source": [
    "#hide\n",
    "# g.head()"
   ]
  },
  {
   "cell_type": "code",
   "execution_count": 26,
   "id": "specific-kruger",
   "metadata": {
    "execution": {
     "iopub.execute_input": "2021-03-15T12:07:40.041563Z",
     "iopub.status.busy": "2021-03-15T12:07:40.040877Z",
     "iopub.status.idle": "2021-03-15T12:07:40.042701Z",
     "shell.execute_reply": "2021-03-15T12:07:40.043203Z"
    },
    "papermill": {
     "duration": 0.035966,
     "end_time": "2021-03-15T12:07:40.043330",
     "exception": false,
     "start_time": "2021-03-15T12:07:40.007364",
     "status": "completed"
    },
    "tags": []
   },
   "outputs": [],
   "source": [
    "#hide\n",
    "# g.columns = ['date','country','cases']"
   ]
  },
  {
   "cell_type": "code",
   "execution_count": 27,
   "id": "tender-conversion",
   "metadata": {
    "execution": {
     "iopub.execute_input": "2021-03-15T12:07:40.112507Z",
     "iopub.status.busy": "2021-03-15T12:07:40.111899Z",
     "iopub.status.idle": "2021-03-15T12:07:40.114196Z",
     "shell.execute_reply": "2021-03-15T12:07:40.113694Z"
    },
    "papermill": {
     "duration": 0.036506,
     "end_time": "2021-03-15T12:07:40.114304",
     "exception": false,
     "start_time": "2021-03-15T12:07:40.077798",
     "status": "completed"
    },
    "tags": []
   },
   "outputs": [],
   "source": [
    "#hide\n",
    "# g['continent'] = g.country"
   ]
  },
  {
   "cell_type": "code",
   "execution_count": 28,
   "id": "substantial-wilderness",
   "metadata": {
    "execution": {
     "iopub.execute_input": "2021-03-15T12:07:40.188122Z",
     "iopub.status.busy": "2021-03-15T12:07:40.186690Z",
     "iopub.status.idle": "2021-03-15T12:07:40.189324Z",
     "shell.execute_reply": "2021-03-15T12:07:40.190156Z"
    },
    "papermill": {
     "duration": 0.042711,
     "end_time": "2021-03-15T12:07:40.190377",
     "exception": false,
     "start_time": "2021-03-15T12:07:40.147666",
     "status": "completed"
    },
    "tags": []
   },
   "outputs": [],
   "source": [
    "#hide\n",
    "# cols = list(g.columns.values)"
   ]
  },
  {
   "cell_type": "code",
   "execution_count": 29,
   "id": "solved-farming",
   "metadata": {
    "execution": {
     "iopub.execute_input": "2021-03-15T12:07:40.265893Z",
     "iopub.status.busy": "2021-03-15T12:07:40.265038Z",
     "iopub.status.idle": "2021-03-15T12:07:40.266783Z",
     "shell.execute_reply": "2021-03-15T12:07:40.267451Z"
    },
    "papermill": {
     "duration": 0.041547,
     "end_time": "2021-03-15T12:07:40.267635",
     "exception": false,
     "start_time": "2021-03-15T12:07:40.226088",
     "status": "completed"
    },
    "tags": []
   },
   "outputs": [],
   "source": [
    "#hide\n",
    "# cols.insert(0, cols.pop())"
   ]
  },
  {
   "cell_type": "code",
   "execution_count": 30,
   "id": "executed-adoption",
   "metadata": {
    "execution": {
     "iopub.execute_input": "2021-03-15T12:07:40.339481Z",
     "iopub.status.busy": "2021-03-15T12:07:40.338891Z",
     "iopub.status.idle": "2021-03-15T12:07:40.341712Z",
     "shell.execute_reply": "2021-03-15T12:07:40.342124Z"
    },
    "papermill": {
     "duration": 0.040144,
     "end_time": "2021-03-15T12:07:40.342237",
     "exception": false,
     "start_time": "2021-03-15T12:07:40.302093",
     "status": "completed"
    },
    "tags": []
   },
   "outputs": [],
   "source": [
    "#hide\n",
    "# g = g[cols]"
   ]
  },
  {
   "cell_type": "code",
   "execution_count": 31,
   "id": "subject-dublin",
   "metadata": {
    "execution": {
     "iopub.execute_input": "2021-03-15T12:07:40.412037Z",
     "iopub.status.busy": "2021-03-15T12:07:40.411463Z",
     "iopub.status.idle": "2021-03-15T12:07:40.413852Z",
     "shell.execute_reply": "2021-03-15T12:07:40.414374Z"
    },
    "papermill": {
     "duration": 0.03954,
     "end_time": "2021-03-15T12:07:40.414498",
     "exception": false,
     "start_time": "2021-03-15T12:07:40.374958",
     "status": "completed"
    },
    "tags": []
   },
   "outputs": [],
   "source": [
    "#hide\n",
    "# g['continent'] = g['continent'].map(mapping['map.continent'])"
   ]
  },
  {
   "cell_type": "code",
   "execution_count": 32,
   "id": "freelance-scout",
   "metadata": {
    "execution": {
     "iopub.execute_input": "2021-03-15T12:07:40.481572Z",
     "iopub.status.busy": "2021-03-15T12:07:40.481022Z",
     "iopub.status.idle": "2021-03-15T12:07:40.483361Z",
     "shell.execute_reply": "2021-03-15T12:07:40.483907Z"
    },
    "papermill": {
     "duration": 0.038461,
     "end_time": "2021-03-15T12:07:40.484033",
     "exception": false,
     "start_time": "2021-03-15T12:07:40.445572",
     "status": "completed"
    },
    "tags": []
   },
   "outputs": [],
   "source": [
    "#hide\n",
    "# g.head()"
   ]
  },
  {
   "cell_type": "code",
   "execution_count": 33,
   "id": "limited-engine",
   "metadata": {
    "execution": {
     "iopub.execute_input": "2021-03-15T12:07:40.554217Z",
     "iopub.status.busy": "2021-03-15T12:07:40.553662Z",
     "iopub.status.idle": "2021-03-15T12:07:40.555892Z",
     "shell.execute_reply": "2021-03-15T12:07:40.556436Z"
    },
    "papermill": {
     "duration": 0.039193,
     "end_time": "2021-03-15T12:07:40.556571",
     "exception": false,
     "start_time": "2021-03-15T12:07:40.517378",
     "status": "completed"
    },
    "tags": []
   },
   "outputs": [],
   "source": [
    "# hide\n",
    "# g['date'] = g['date'].astype('datetime64[ns]')"
   ]
  },
  {
   "cell_type": "code",
   "execution_count": 34,
   "id": "sophisticated-supervisor",
   "metadata": {
    "execution": {
     "iopub.execute_input": "2021-03-15T12:07:41.081912Z",
     "iopub.status.busy": "2021-03-15T12:07:41.080727Z",
     "iopub.status.idle": "2021-03-15T12:07:41.082851Z",
     "shell.execute_reply": "2021-03-15T12:07:41.083616Z"
    },
    "papermill": {
     "duration": 0.493085,
     "end_time": "2021-03-15T12:07:41.083808",
     "exception": false,
     "start_time": "2021-03-15T12:07:40.590723",
     "status": "completed"
    },
    "tags": []
   },
   "outputs": [],
   "source": [
    "#hide\n",
    "# g['date'] = g.date.dt.dayofyear"
   ]
  },
  {
   "cell_type": "code",
   "execution_count": 35,
   "id": "inside-dubai",
   "metadata": {
    "execution": {
     "iopub.execute_input": "2021-03-15T12:07:41.153920Z",
     "iopub.status.busy": "2021-03-15T12:07:41.153372Z",
     "iopub.status.idle": "2021-03-15T12:07:41.156023Z",
     "shell.execute_reply": "2021-03-15T12:07:41.156590Z"
    },
    "papermill": {
     "duration": 0.040024,
     "end_time": "2021-03-15T12:07:41.156736",
     "exception": false,
     "start_time": "2021-03-15T12:07:41.116712",
     "status": "completed"
    },
    "tags": []
   },
   "outputs": [],
   "source": [
    "#hide\n",
    "# g = g.rename(columns= {'continent':'group','country':'name','cases':'value'})"
   ]
  },
  {
   "cell_type": "code",
   "execution_count": 36,
   "id": "fleet-motorcycle",
   "metadata": {
    "execution": {
     "iopub.execute_input": "2021-03-15T12:07:41.224448Z",
     "iopub.status.busy": "2021-03-15T12:07:41.223881Z",
     "iopub.status.idle": "2021-03-15T12:07:41.226717Z",
     "shell.execute_reply": "2021-03-15T12:07:41.227225Z"
    },
    "papermill": {
     "duration": 0.037857,
     "end_time": "2021-03-15T12:07:41.227353",
     "exception": false,
     "start_time": "2021-03-15T12:07:41.189496",
     "status": "completed"
    },
    "tags": []
   },
   "outputs": [],
   "source": [
    "#hide\n",
    "# cols = ['name','group','day','value']"
   ]
  },
  {
   "cell_type": "code",
   "execution_count": 37,
   "id": "continued-sleeping",
   "metadata": {
    "execution": {
     "iopub.execute_input": "2021-03-15T12:07:41.295322Z",
     "iopub.status.busy": "2021-03-15T12:07:41.294290Z",
     "iopub.status.idle": "2021-03-15T12:07:41.296460Z",
     "shell.execute_reply": "2021-03-15T12:07:41.297245Z"
    },
    "papermill": {
     "duration": 0.040229,
     "end_time": "2021-03-15T12:07:41.297373",
     "exception": false,
     "start_time": "2021-03-15T12:07:41.257144",
     "status": "completed"
    },
    "tags": []
   },
   "outputs": [],
   "source": [
    "#hide\n",
    "# g.rename(columns= {'date':'day'},inplace = True)"
   ]
  },
  {
   "cell_type": "code",
   "execution_count": 38,
   "id": "major-fight",
   "metadata": {
    "execution": {
     "iopub.execute_input": "2021-03-15T12:07:41.361597Z",
     "iopub.status.busy": "2021-03-15T12:07:41.361112Z",
     "iopub.status.idle": "2021-03-15T12:07:41.363373Z",
     "shell.execute_reply": "2021-03-15T12:07:41.363888Z"
    },
    "papermill": {
     "duration": 0.035523,
     "end_time": "2021-03-15T12:07:41.364006",
     "exception": false,
     "start_time": "2021-03-15T12:07:41.328483",
     "status": "completed"
    },
    "tags": []
   },
   "outputs": [],
   "source": [
    "#hide\n",
    "# g = g[cols]"
   ]
  },
  {
   "cell_type": "code",
   "execution_count": 39,
   "id": "structured-mobile",
   "metadata": {
    "execution": {
     "iopub.execute_input": "2021-03-15T12:07:41.446773Z",
     "iopub.status.busy": "2021-03-15T12:07:41.446191Z",
     "iopub.status.idle": "2021-03-15T12:07:41.449707Z",
     "shell.execute_reply": "2021-03-15T12:07:41.450346Z"
    },
    "papermill": {
     "duration": 0.05009,
     "end_time": "2021-03-15T12:07:41.450488",
     "exception": false,
     "start_time": "2021-03-15T12:07:41.400398",
     "status": "completed"
    },
    "tags": []
   },
   "outputs": [],
   "source": [
    "# #hide\n",
    "# g = g[g.group.notna()]"
   ]
  },
  {
   "cell_type": "code",
   "execution_count": 40,
   "id": "determined-closing",
   "metadata": {
    "execution": {
     "iopub.execute_input": "2021-03-15T12:07:41.522449Z",
     "iopub.status.busy": "2021-03-15T12:07:41.521843Z",
     "iopub.status.idle": "2021-03-15T12:07:41.523633Z",
     "shell.execute_reply": "2021-03-15T12:07:41.524125Z"
    },
    "papermill": {
     "duration": 0.039349,
     "end_time": "2021-03-15T12:07:41.524258",
     "exception": false,
     "start_time": "2021-03-15T12:07:41.484909",
     "status": "completed"
    },
    "tags": []
   },
   "outputs": [],
   "source": [
    "# #hide\n",
    "# colors = dict(zip(\n",
    "#     [\"Oceania\", \"Europe\", \"Asia\", \"South America\", \"Middle East\", \"North America\", \"Africa\"],\n",
    "#     [\"#adb0ff\", \"#ffb3ff\", \"#90d595\", \"#e48381\", \"#aafbff\", \"#f7bb5f\", \"#eafb50\"]\n",
    "# ))\n",
    "# group_lk = g.set_index('name')['group'].to_dict()"
   ]
  },
  {
   "cell_type": "code",
   "execution_count": null,
   "id": "gross-drinking",
   "metadata": {
    "papermill": {
     "duration": 0.033827,
     "end_time": "2021-03-15T12:07:41.594125",
     "exception": false,
     "start_time": "2021-03-15T12:07:41.560298",
     "status": "completed"
    },
    "tags": []
   },
   "outputs": [],
   "source": []
  },
  {
   "cell_type": "code",
   "execution_count": 41,
   "id": "subject-macintosh",
   "metadata": {
    "execution": {
     "iopub.execute_input": "2021-03-15T12:07:41.670761Z",
     "iopub.status.busy": "2021-03-15T12:07:41.670131Z",
     "iopub.status.idle": "2021-03-15T12:07:41.672211Z",
     "shell.execute_reply": "2021-03-15T12:07:41.672723Z"
    },
    "papermill": {
     "duration": 0.043793,
     "end_time": "2021-03-15T12:07:41.672866",
     "exception": false,
     "start_time": "2021-03-15T12:07:41.629073",
     "status": "completed"
    },
    "tags": []
   },
   "outputs": [],
   "source": [
    "# #hide\n",
    "# fig, ax = plt.subplots(figsize=(15, 8))\n",
    "\n",
    "# def draw_barchart(current_day):\n",
    "#     dff = g[g['day'].eq(current_day)].sort_values(by='value', ascending=True).tail(10)\n",
    "#     ax.clear()\n",
    "#     ax.barh(dff['name'], dff['value'], color=[colors[group_lk[x]] for x in dff['name']])\n",
    "#     dx = dff['value'].max() / 200\n",
    "    \n",
    "#     for i, (value, name) in enumerate(zip(dff['value'], dff['name'])):\n",
    "#         ax.text(value-dx, i,     name,           size=14, weight=600, ha='right', va='bottom')\n",
    "#         ax.text(value-dx, i-.25, group_lk[name], size=10, color='#444444', ha='right', va='baseline')\n",
    "#         ax.text(value+dx, i,     f'{value:,.0f}',  size=14, ha='left',  va='center')\n",
    "#     ax.text(1, 0.4, current_day, transform=ax.transAxes, color='#777777', size=46, ha='right', weight=800)\n",
    "#     ax.text(0, 1.06, 'Population (thousands)', transform=ax.transAxes, size=12, color='#777777')\n",
    "#     ax.xaxis.set_major_formatter(ticker.StrMethodFormatter('{x:,.0f}'))\n",
    "#     ax.xaxis.set_ticks_position('top')\n",
    "#     ax.tick_params(axis='x', colors='#777777', labelsize=12)\n",
    "#     ax.set_yticks([])\n",
    "#     ax.margins(0, 0.01)\n",
    "#     ax.grid(which='major', axis='x', linestyle='-')\n",
    "#     ax.set_axisbelow(True)\n",
    "    \n",
    "#     ax.text(0, 1.15, 'Coronavirus',\n",
    "#             transform=ax.transAxes, size=24, weight=600, ha='left', va='top')\n",
    "# #     ax.text(1, 0, 'by @pratapvardhan; credit @jburnmurdoch', transform=ax.transAxes, color='#777777', ha='right',\n",
    "# #             bbox=dict(facecolor='white', alpha=0.8, edgecolor='white'))\n",
    "#     plt.box(False)"
   ]
  },
  {
   "cell_type": "code",
   "execution_count": 42,
   "id": "sexual-wages",
   "metadata": {
    "execution": {
     "iopub.execute_input": "2021-03-15T12:07:41.752523Z",
     "iopub.status.busy": "2021-03-15T12:07:41.751951Z",
     "iopub.status.idle": "2021-03-15T12:07:41.755422Z",
     "shell.execute_reply": "2021-03-15T12:07:41.755989Z"
    },
    "papermill": {
     "duration": 0.046453,
     "end_time": "2021-03-15T12:07:41.756126",
     "exception": false,
     "start_time": "2021-03-15T12:07:41.709673",
     "status": "completed"
    },
    "tags": []
   },
   "outputs": [],
   "source": [
    "# #hide_input\n",
    "# fig, ax = plt.subplots(figsize=(15, 8))\n",
    "# animator = animation.FuncAnimation(fig, draw_barchart, frames=range(g.day.values.min(), g.day.values.max()))\n",
    "# HTML(animator.to_jshtml())\n",
    "# # or use animator.to_html5_video() or animator.save() "
   ]
  },
  {
   "cell_type": "code",
   "execution_count": null,
   "id": "australian-container",
   "metadata": {
    "papermill": {
     "duration": 0.033803,
     "end_time": "2021-03-15T12:07:41.832083",
     "exception": false,
     "start_time": "2021-03-15T12:07:41.798280",
     "status": "completed"
    },
    "tags": []
   },
   "outputs": [],
   "source": []
  },
  {
   "cell_type": "code",
   "execution_count": null,
   "id": "mediterranean-pontiac",
   "metadata": {
    "papermill": {
     "duration": 0.039851,
     "end_time": "2021-03-15T12:07:41.905830",
     "exception": false,
     "start_time": "2021-03-15T12:07:41.865979",
     "status": "completed"
    },
    "tags": []
   },
   "outputs": [],
   "source": []
  },
  {
   "cell_type": "code",
   "execution_count": null,
   "id": "aging-legislature",
   "metadata": {
    "papermill": {
     "duration": 0.033188,
     "end_time": "2021-03-15T12:07:41.975838",
     "exception": false,
     "start_time": "2021-03-15T12:07:41.942650",
     "status": "completed"
    },
    "tags": []
   },
   "outputs": [],
   "source": []
  }
 ],
 "metadata": {
  "kernelspec": {
   "display_name": "Python 3",
   "language": "python",
   "name": "python3"
  },
  "language_info": {
   "codemirror_mode": {
    "name": "ipython",
    "version": 3
   },
   "file_extension": ".py",
   "mimetype": "text/x-python",
   "name": "python",
   "nbconvert_exporter": "python",
   "pygments_lexer": "ipython3",
   "version": "3.6.13"
  },
  "papermill": {
   "duration": 8.147102,
   "end_time": "2021-03-15T12:07:42.317716",
   "environment_variables": {},
   "exception": null,
   "input_path": "2020-03-21-covid19exp.ipynb",
   "output_path": "2020-03-21-covid19exp.ipynb",
   "parameters": {},
   "start_time": "2021-03-15T12:07:34.170614",
   "version": "2.0.0"
  }
 },
 "nbformat": 4,
 "nbformat_minor": 5
}