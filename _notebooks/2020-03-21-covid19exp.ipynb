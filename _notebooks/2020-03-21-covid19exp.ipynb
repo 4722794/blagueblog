{
 "cells": [
  {
   "cell_type": "markdown",
   "id": "muslim-click",
   "metadata": {
    "papermill": {
     "duration": 0.038416,
     "end_time": "2021-08-05T12:11:54.691552",
     "exception": false,
     "start_time": "2021-08-05T12:11:54.653136",
     "status": "completed"
    },
    "tags": []
   },
   "source": [
    "# COVID-19 Case Race\n",
    "> A race chart to see rising cases around the world\n",
    "\n",
    "- author: Hargun Oberoi\n",
    "- image: images/covid-overview.png\n",
    "- hide: false\n",
    "- badges: false"
   ]
  },
  {
   "cell_type": "code",
   "execution_count": 1,
   "id": "proof-material",
   "metadata": {
    "execution": {
     "iopub.execute_input": "2021-08-05T12:11:54.769578Z",
     "iopub.status.busy": "2021-08-05T12:11:54.768946Z",
     "iopub.status.idle": "2021-08-05T12:11:55.141746Z",
     "shell.execute_reply": "2021-08-05T12:11:55.141148Z"
    },
    "papermill": {
     "duration": 0.417675,
     "end_time": "2021-08-05T12:11:55.141907",
     "exception": false,
     "start_time": "2021-08-05T12:11:54.724232",
     "status": "completed"
    },
    "tags": []
   },
   "outputs": [],
   "source": [
    "#hide\n",
    "import numpy as np\n",
    "import pandas as pd\n",
    "from jinja2 import Template\n",
    "from IPython.display import HTML"
   ]
  },
  {
   "cell_type": "code",
   "execution_count": 2,
   "id": "developed-terminology",
   "metadata": {
    "execution": {
     "iopub.execute_input": "2021-08-05T12:11:55.214809Z",
     "iopub.status.busy": "2021-08-05T12:11:55.214227Z",
     "iopub.status.idle": "2021-08-05T12:11:55.215547Z",
     "shell.execute_reply": "2021-08-05T12:11:55.216001Z"
    },
    "papermill": {
     "duration": 0.039503,
     "end_time": "2021-08-05T12:11:55.216132",
     "exception": false,
     "start_time": "2021-08-05T12:11:55.176629",
     "status": "completed"
    },
    "tags": []
   },
   "outputs": [],
   "source": [
    "#hide\n",
    "\n",
    "# FETCH\n",
    "base_url = 'https://raw.githubusercontent.com/pratapvardhan/notebooks/master/covid19/'\n",
    "paths = {\n",
    "    'mapping': base_url + 'mapping_countries.csv',\n",
    "    'overview': base_url + 'overview.tpl'\n",
    "}"
   ]
  },
  {
   "cell_type": "code",
   "execution_count": 3,
   "id": "dynamic-saver",
   "metadata": {
    "execution": {
     "iopub.execute_input": "2021-08-05T12:11:55.293087Z",
     "iopub.status.busy": "2021-08-05T12:11:55.292256Z",
     "iopub.status.idle": "2021-08-05T12:11:55.294871Z",
     "shell.execute_reply": "2021-08-05T12:11:55.295326Z"
    },
    "papermill": {
     "duration": 0.047462,
     "end_time": "2021-08-05T12:11:55.295467",
     "exception": false,
     "start_time": "2021-08-05T12:11:55.248005",
     "status": "completed"
    },
    "tags": []
   },
   "outputs": [
    {
     "data": {
      "text/plain": [
       "'https://raw.githubusercontent.com/pratapvardhan/notebooks/master/covid19/mapping_countries.csv'"
      ]
     },
     "execution_count": 3,
     "metadata": {},
     "output_type": "execute_result"
    }
   ],
   "source": [
    "#hide\n",
    "paths['mapping']"
   ]
  },
  {
   "cell_type": "code",
   "execution_count": 4,
   "id": "urban-software",
   "metadata": {
    "execution": {
     "iopub.execute_input": "2021-08-05T12:11:55.368715Z",
     "iopub.status.busy": "2021-08-05T12:11:55.368114Z",
     "iopub.status.idle": "2021-08-05T12:11:55.370374Z",
     "shell.execute_reply": "2021-08-05T12:11:55.369910Z"
    },
    "papermill": {
     "duration": 0.041892,
     "end_time": "2021-08-05T12:11:55.370489",
     "exception": false,
     "start_time": "2021-08-05T12:11:55.328597",
     "status": "completed"
    },
    "tags": []
   },
   "outputs": [],
   "source": [
    "#hide\n",
    "def get_mappings(url):\n",
    "    df = pd.read_csv(url)\n",
    "    return {\n",
    "        'df': df,\n",
    "        'replace.country': dict(df.dropna(subset=['Name']).set_index('Country')['Name']),\n",
    "        'map.continent': dict(df.set_index('Name')['Continent'])\n",
    "    }"
   ]
  },
  {
   "cell_type": "code",
   "execution_count": 5,
   "id": "intimate-machinery",
   "metadata": {
    "execution": {
     "iopub.execute_input": "2021-08-05T12:11:55.446162Z",
     "iopub.status.busy": "2021-08-05T12:11:55.445608Z",
     "iopub.status.idle": "2021-08-05T12:11:55.492384Z",
     "shell.execute_reply": "2021-08-05T12:11:55.491782Z"
    },
    "papermill": {
     "duration": 0.086819,
     "end_time": "2021-08-05T12:11:55.492540",
     "exception": false,
     "start_time": "2021-08-05T12:11:55.405721",
     "status": "completed"
    },
    "tags": []
   },
   "outputs": [],
   "source": [
    "#hide\n",
    "mapping = get_mappings(paths['mapping'])"
   ]
  },
  {
   "cell_type": "code",
   "execution_count": 6,
   "id": "certified-tactics",
   "metadata": {
    "execution": {
     "iopub.execute_input": "2021-08-05T12:11:55.566881Z",
     "iopub.status.busy": "2021-08-05T12:11:55.566274Z",
     "iopub.status.idle": "2021-08-05T12:11:55.569141Z",
     "shell.execute_reply": "2021-08-05T12:11:55.569582Z"
    },
    "papermill": {
     "duration": 0.043224,
     "end_time": "2021-08-05T12:11:55.569721",
     "exception": false,
     "start_time": "2021-08-05T12:11:55.526497",
     "status": "completed"
    },
    "tags": []
   },
   "outputs": [],
   "source": [
    "#hide\n",
    "def get_template(path):\n",
    "    from urllib.parse import urlparse\n",
    "    if bool(urlparse(path).netloc):\n",
    "        from urllib.request import urlopen\n",
    "        return urlopen(path).read().decode('utf8')\n",
    "    return open(path).read()"
   ]
  },
  {
   "cell_type": "code",
   "execution_count": 7,
   "id": "realistic-blast",
   "metadata": {
    "execution": {
     "iopub.execute_input": "2021-08-05T12:11:55.646920Z",
     "iopub.status.busy": "2021-08-05T12:11:55.646335Z",
     "iopub.status.idle": "2021-08-05T12:11:55.648796Z",
     "shell.execute_reply": "2021-08-05T12:11:55.649344Z"
    },
    "papermill": {
     "duration": 0.044771,
     "end_time": "2021-08-05T12:11:55.649515",
     "exception": false,
     "start_time": "2021-08-05T12:11:55.604744",
     "status": "completed"
    },
    "tags": []
   },
   "outputs": [],
   "source": [
    "#hide\n",
    "def get_frame(name):\n",
    "    url = (\n",
    "        'https://raw.githubusercontent.com/CSSEGISandData/COVID-19/master/csse_covid_19_data/'\n",
    "        f'csse_covid_19_time_series/time_series_covid19_{name}_global.csv')\n",
    "    df = pd.read_csv(url)\n",
    "    # rename countries\n",
    "    df['Country/Region'] = df['Country/Region'].replace(mapping['replace.country'])\n",
    "    return df"
   ]
  },
  {
   "cell_type": "code",
   "execution_count": 8,
   "id": "affiliated-characterization",
   "metadata": {
    "execution": {
     "iopub.execute_input": "2021-08-05T12:11:55.723267Z",
     "iopub.status.busy": "2021-08-05T12:11:55.722670Z",
     "iopub.status.idle": "2021-08-05T12:11:55.724861Z",
     "shell.execute_reply": "2021-08-05T12:11:55.725371Z"
    },
    "papermill": {
     "duration": 0.042177,
     "end_time": "2021-08-05T12:11:55.725535",
     "exception": false,
     "start_time": "2021-08-05T12:11:55.683358",
     "status": "completed"
    },
    "tags": []
   },
   "outputs": [],
   "source": [
    "#hide\n",
    "def get_dates(df):\n",
    "    dt_cols = df.columns[~df.columns.isin(['Province/State', 'Country/Region', 'Lat', 'Long'])]\n",
    "    LAST_DATE_I = -1\n",
    "    # sometimes last column may be empty, then go backwards\n",
    "    for i in range(-1, -len(dt_cols), -1):\n",
    "        if not df[dt_cols[i]].fillna(0).eq(0).all():\n",
    "            LAST_DATE_I = i\n",
    "            break\n",
    "    return LAST_DATE_I, dt_cols"
   ]
  },
  {
   "cell_type": "code",
   "execution_count": 9,
   "id": "recent-optimization",
   "metadata": {
    "execution": {
     "iopub.execute_input": "2021-08-05T12:11:55.800256Z",
     "iopub.status.busy": "2021-08-05T12:11:55.799662Z",
     "iopub.status.idle": "2021-08-05T12:11:56.160827Z",
     "shell.execute_reply": "2021-08-05T12:11:56.161343Z"
    },
    "papermill": {
     "duration": 0.402467,
     "end_time": "2021-08-05T12:11:56.161514",
     "exception": false,
     "start_time": "2021-08-05T12:11:55.759047",
     "status": "completed"
    },
    "tags": []
   },
   "outputs": [],
   "source": [
    "#hide\n",
    "COL_REGION = 'Country/Region'\n",
    "# Confirmed, Recovered, Deaths\n",
    "df = get_frame('confirmed')\n",
    "# dft_: timeseries, dfc_: today country agg\n",
    "dft_cases = df\n",
    "dft_deaths = get_frame('deaths')\n",
    "dft_recovered = get_frame('recovered')\n",
    "LAST_DATE_I, dt_cols = get_dates(df)"
   ]
  },
  {
   "cell_type": "code",
   "execution_count": 10,
   "id": "absolute-copper",
   "metadata": {
    "execution": {
     "iopub.execute_input": "2021-08-05T12:11:56.248013Z",
     "iopub.status.busy": "2021-08-05T12:11:56.247411Z",
     "iopub.status.idle": "2021-08-05T12:11:56.249869Z",
     "shell.execute_reply": "2021-08-05T12:11:56.249342Z"
    },
    "papermill": {
     "duration": 0.047817,
     "end_time": "2021-08-05T12:11:56.249993",
     "exception": false,
     "start_time": "2021-08-05T12:11:56.202176",
     "status": "completed"
    },
    "tags": []
   },
   "outputs": [],
   "source": [
    "#hide\n",
    "LAST_DATE_I, dt_cols = get_dates(df)\n",
    "dt_today =dt_cols[LAST_DATE_I]\n",
    "# dt_5day = dt_cols[LAST_DATE_I - 5]\n",
    "dt_yday = dt_cols[LAST_DATE_I - 1]"
   ]
  },
  {
   "cell_type": "code",
   "execution_count": 11,
   "id": "restricted-sheriff",
   "metadata": {
    "execution": {
     "iopub.execute_input": "2021-08-05T12:11:56.329068Z",
     "iopub.status.busy": "2021-08-05T12:11:56.328471Z",
     "iopub.status.idle": "2021-08-05T12:11:56.336290Z",
     "shell.execute_reply": "2021-08-05T12:11:56.336798Z"
    },
    "papermill": {
     "duration": 0.050032,
     "end_time": "2021-08-05T12:11:56.336942",
     "exception": false,
     "start_time": "2021-08-05T12:11:56.286910",
     "status": "completed"
    },
    "tags": []
   },
   "outputs": [],
   "source": [
    "#hide\n",
    "dfc_cases = dft_cases.groupby(COL_REGION)[dt_today].sum()\n",
    "dfc_deaths = dft_deaths.groupby(COL_REGION)[dt_today].sum()\n",
    "# dfp_cases = dft_cases.groupby(COL_REGION)[dt_5day].sum()\n",
    "# dfp_deaths = dft_deaths.groupby(COL_REGION)[dt_5day].sum()\n",
    "dfp_cases = dft_cases.groupby(COL_REGION)[dt_yday].sum()\n",
    "dfp_deaths = dft_deaths.groupby(COL_REGION)[dt_yday].sum()"
   ]
  },
  {
   "cell_type": "code",
   "execution_count": 12,
   "id": "deluxe-hepatitis",
   "metadata": {
    "execution": {
     "iopub.execute_input": "2021-08-05T12:11:56.415386Z",
     "iopub.status.busy": "2021-08-05T12:11:56.414901Z",
     "iopub.status.idle": "2021-08-05T12:11:56.419538Z",
     "shell.execute_reply": "2021-08-05T12:11:56.419104Z"
    },
    "papermill": {
     "duration": 0.049827,
     "end_time": "2021-08-05T12:11:56.419657",
     "exception": false,
     "start_time": "2021-08-05T12:11:56.369830",
     "status": "completed"
    },
    "tags": []
   },
   "outputs": [],
   "source": [
    "#hide\n",
    "df_table = (pd.DataFrame(dict(Cases = dfc_cases, Deaths = dfc_deaths, PCases = dfp_cases, PDeaths = dfp_deaths))\n",
    "            .sort_values(by = ['Cases','Deaths'], ascending = [False, False])\n",
    "            .reset_index())"
   ]
  },
  {
   "cell_type": "code",
   "execution_count": 13,
   "id": "educational-chancellor",
   "metadata": {
    "execution": {
     "iopub.execute_input": "2021-08-05T12:11:56.511355Z",
     "iopub.status.busy": "2021-08-05T12:11:56.510772Z",
     "iopub.status.idle": "2021-08-05T12:11:56.518646Z",
     "shell.execute_reply": "2021-08-05T12:11:56.518046Z"
    },
    "papermill": {
     "duration": 0.06071,
     "end_time": "2021-08-05T12:11:56.518776",
     "exception": false,
     "start_time": "2021-08-05T12:11:56.458066",
     "status": "completed"
    },
    "tags": []
   },
   "outputs": [
    {
     "data": {
      "text/html": [
       "<div>\n",
       "<style scoped>\n",
       "    .dataframe tbody tr th:only-of-type {\n",
       "        vertical-align: middle;\n",
       "    }\n",
       "\n",
       "    .dataframe tbody tr th {\n",
       "        vertical-align: top;\n",
       "    }\n",
       "\n",
       "    .dataframe thead th {\n",
       "        text-align: right;\n",
       "    }\n",
       "</style>\n",
       "<table border=\"1\" class=\"dataframe\">\n",
       "  <thead>\n",
       "    <tr style=\"text-align: right;\">\n",
       "      <th></th>\n",
       "      <th>Country/Region</th>\n",
       "      <th>Cases</th>\n",
       "      <th>Deaths</th>\n",
       "      <th>PCases</th>\n",
       "      <th>PDeaths</th>\n",
       "      <th>Cases (+)</th>\n",
       "      <th>Deaths (+)</th>\n",
       "      <th>Fatality Rate</th>\n",
       "      <th>Continent</th>\n",
       "    </tr>\n",
       "  </thead>\n",
       "  <tbody>\n",
       "    <tr>\n",
       "      <th>0</th>\n",
       "      <td>US</td>\n",
       "      <td>35330664</td>\n",
       "      <td>614785</td>\n",
       "      <td>35237950</td>\n",
       "      <td>614295</td>\n",
       "      <td>92714</td>\n",
       "      <td>490</td>\n",
       "      <td>1.74</td>\n",
       "      <td>North America</td>\n",
       "    </tr>\n",
       "    <tr>\n",
       "      <th>1</th>\n",
       "      <td>India</td>\n",
       "      <td>31812114</td>\n",
       "      <td>426290</td>\n",
       "      <td>31769132</td>\n",
       "      <td>425757</td>\n",
       "      <td>42982</td>\n",
       "      <td>533</td>\n",
       "      <td>1.34</td>\n",
       "      <td>Asia</td>\n",
       "    </tr>\n",
       "    <tr>\n",
       "      <th>2</th>\n",
       "      <td>Brazil</td>\n",
       "      <td>20026533</td>\n",
       "      <td>559607</td>\n",
       "      <td>19985817</td>\n",
       "      <td>558432</td>\n",
       "      <td>40716</td>\n",
       "      <td>1175</td>\n",
       "      <td>2.79</td>\n",
       "      <td>South America</td>\n",
       "    </tr>\n",
       "    <tr>\n",
       "      <th>3</th>\n",
       "      <td>Russia</td>\n",
       "      <td>6274006</td>\n",
       "      <td>159032</td>\n",
       "      <td>6251953</td>\n",
       "      <td>158263</td>\n",
       "      <td>22053</td>\n",
       "      <td>769</td>\n",
       "      <td>2.53</td>\n",
       "      <td>Europe</td>\n",
       "    </tr>\n",
       "    <tr>\n",
       "      <th>4</th>\n",
       "      <td>France</td>\n",
       "      <td>6272189</td>\n",
       "      <td>112233</td>\n",
       "      <td>6242948</td>\n",
       "      <td>112185</td>\n",
       "      <td>29241</td>\n",
       "      <td>48</td>\n",
       "      <td>1.79</td>\n",
       "      <td>Europe</td>\n",
       "    </tr>\n",
       "  </tbody>\n",
       "</table>\n",
       "</div>"
      ],
      "text/plain": [
       "  Country/Region     Cases  Deaths    PCases  PDeaths  Cases (+)  Deaths (+)  \\\n",
       "0             US  35330664  614785  35237950   614295      92714         490   \n",
       "1          India  31812114  426290  31769132   425757      42982         533   \n",
       "2         Brazil  20026533  559607  19985817   558432      40716        1175   \n",
       "3         Russia   6274006  159032   6251953   158263      22053         769   \n",
       "4         France   6272189  112233   6242948   112185      29241          48   \n",
       "\n",
       "   Fatality Rate      Continent  \n",
       "0           1.74  North America  \n",
       "1           1.34           Asia  \n",
       "2           2.79  South America  \n",
       "3           2.53         Europe  \n",
       "4           1.79         Europe  "
      ]
     },
     "execution_count": 13,
     "metadata": {},
     "output_type": "execute_result"
    }
   ],
   "source": [
    "#hide\n",
    "for c in 'Cases, Deaths'.split(', '):\n",
    "    df_table[f'{c} (+)'] = (df_table[c] - df_table[f'P{c}']).clip(0)\n",
    "    #Clip ça veut dire, les chiffres negatif sont interdit\n",
    "df_table['Fatality Rate'] = (100* df_table['Deaths']/ df_table['Cases']).round(2)\n",
    "df_table['Continent'] = df_table['Country/Region'].map(mapping['map.continent'])\n",
    "df_table.head(5)"
   ]
  },
  {
   "cell_type": "code",
   "execution_count": 14,
   "id": "aboriginal-bulgaria",
   "metadata": {
    "execution": {
     "iopub.execute_input": "2021-08-05T12:11:56.601984Z",
     "iopub.status.busy": "2021-08-05T12:11:56.601349Z",
     "iopub.status.idle": "2021-08-05T12:11:56.603725Z",
     "shell.execute_reply": "2021-08-05T12:11:56.604218Z"
    },
    "papermill": {
     "duration": 0.051549,
     "end_time": "2021-08-05T12:11:56.604363",
     "exception": false,
     "start_time": "2021-08-05T12:11:56.552814",
     "status": "completed"
    },
    "tags": []
   },
   "outputs": [],
   "source": [
    "#hide\n",
    "#delete problematic countries from table\n",
    "df_table = df_table[~df_table['Country/Region'].isin(['Cape Verde', 'Cruise Ship', 'Kosovo'])]"
   ]
  },
  {
   "cell_type": "code",
   "execution_count": 15,
   "id": "fantastic-effect",
   "metadata": {
    "execution": {
     "iopub.execute_input": "2021-08-05T12:11:56.679868Z",
     "iopub.status.busy": "2021-08-05T12:11:56.679328Z",
     "iopub.status.idle": "2021-08-05T12:11:56.698375Z",
     "shell.execute_reply": "2021-08-05T12:11:56.698874Z"
    },
    "papermill": {
     "duration": 0.060941,
     "end_time": "2021-08-05T12:11:56.699022",
     "exception": false,
     "start_time": "2021-08-05T12:11:56.638081",
     "status": "completed"
    },
    "tags": []
   },
   "outputs": [
    {
     "data": {
      "text/html": [
       "<div>\n",
       "<style scoped>\n",
       "    .dataframe tbody tr th:only-of-type {\n",
       "        vertical-align: middle;\n",
       "    }\n",
       "\n",
       "    .dataframe tbody tr th {\n",
       "        vertical-align: top;\n",
       "    }\n",
       "\n",
       "    .dataframe thead th {\n",
       "        text-align: right;\n",
       "    }\n",
       "</style>\n",
       "<table border=\"1\" class=\"dataframe\">\n",
       "  <thead>\n",
       "    <tr style=\"text-align: right;\">\n",
       "      <th></th>\n",
       "      <th>Country/Region</th>\n",
       "      <th>Cases</th>\n",
       "      <th>Deaths</th>\n",
       "      <th>PCases</th>\n",
       "      <th>PDeaths</th>\n",
       "      <th>Cases (+)</th>\n",
       "      <th>Deaths (+)</th>\n",
       "      <th>Fatality Rate</th>\n",
       "      <th>Continent</th>\n",
       "    </tr>\n",
       "  </thead>\n",
       "  <tbody>\n",
       "    <tr>\n",
       "      <th>0</th>\n",
       "      <td>US</td>\n",
       "      <td>35330664</td>\n",
       "      <td>614785</td>\n",
       "      <td>35237950</td>\n",
       "      <td>614295</td>\n",
       "      <td>92714</td>\n",
       "      <td>490</td>\n",
       "      <td>1.7</td>\n",
       "      <td>North America</td>\n",
       "    </tr>\n",
       "    <tr>\n",
       "      <th>1</th>\n",
       "      <td>India</td>\n",
       "      <td>31812114</td>\n",
       "      <td>426290</td>\n",
       "      <td>31769132</td>\n",
       "      <td>425757</td>\n",
       "      <td>42982</td>\n",
       "      <td>533</td>\n",
       "      <td>1.3</td>\n",
       "      <td>Asia</td>\n",
       "    </tr>\n",
       "    <tr>\n",
       "      <th>2</th>\n",
       "      <td>Brazil</td>\n",
       "      <td>20026533</td>\n",
       "      <td>559607</td>\n",
       "      <td>19985817</td>\n",
       "      <td>558432</td>\n",
       "      <td>40716</td>\n",
       "      <td>1175</td>\n",
       "      <td>2.8</td>\n",
       "      <td>South America</td>\n",
       "    </tr>\n",
       "    <tr>\n",
       "      <th>3</th>\n",
       "      <td>Russia</td>\n",
       "      <td>6274006</td>\n",
       "      <td>159032</td>\n",
       "      <td>6251953</td>\n",
       "      <td>158263</td>\n",
       "      <td>22053</td>\n",
       "      <td>769</td>\n",
       "      <td>2.5</td>\n",
       "      <td>Europe</td>\n",
       "    </tr>\n",
       "    <tr>\n",
       "      <th>4</th>\n",
       "      <td>France</td>\n",
       "      <td>6272189</td>\n",
       "      <td>112233</td>\n",
       "      <td>6242948</td>\n",
       "      <td>112185</td>\n",
       "      <td>29241</td>\n",
       "      <td>48</td>\n",
       "      <td>1.8</td>\n",
       "      <td>Europe</td>\n",
       "    </tr>\n",
       "  </tbody>\n",
       "</table>\n",
       "</div>"
      ],
      "text/plain": [
       "  Country/Region     Cases  Deaths    PCases  PDeaths  Cases (+)  Deaths (+)  \\\n",
       "0             US  35330664  614785  35237950   614295      92714         490   \n",
       "1          India  31812114  426290  31769132   425757      42982         533   \n",
       "2         Brazil  20026533  559607  19985817   558432      40716        1175   \n",
       "3         Russia   6274006  159032   6251953   158263      22053         769   \n",
       "4         France   6272189  112233   6242948   112185      29241          48   \n",
       "\n",
       "   Fatality Rate      Continent  \n",
       "0            1.7  North America  \n",
       "1            1.3           Asia  \n",
       "2            2.8  South America  \n",
       "3            2.5         Europe  \n",
       "4            1.8         Europe  "
      ]
     },
     "execution_count": 15,
     "metadata": {},
     "output_type": "execute_result"
    }
   ],
   "source": [
    "#hide\n",
    "df_table = (pd.DataFrame(dict(Cases=dfc_cases, Deaths=dfc_deaths, PCases=dfp_cases, PDeaths=dfp_deaths))\n",
    "             .sort_values(by=['Cases', 'Deaths'], ascending=[False, False])\n",
    "             .reset_index())\n",
    "df_table.rename(columns={'index': 'Country/Region'}, inplace=True)\n",
    "for c in 'Cases, Deaths'.split(', '):\n",
    "    df_table[f'{c} (+)'] = (df_table[c] - df_table[f'P{c}']).clip(0)  # DATA BUG\n",
    "df_table['Fatality Rate'] = (100 * df_table['Deaths'] / df_table['Cases']).round(1)\n",
    "df_table['Continent'] = df_table['Country/Region'].map(mapping['map.continent'])\n",
    "df_table.head(5)"
   ]
  },
  {
   "cell_type": "code",
   "execution_count": 16,
   "id": "fewer-occasion",
   "metadata": {
    "execution": {
     "iopub.execute_input": "2021-08-05T12:11:56.776209Z",
     "iopub.status.busy": "2021-08-05T12:11:56.775604Z",
     "iopub.status.idle": "2021-08-05T12:11:56.777374Z",
     "shell.execute_reply": "2021-08-05T12:11:56.777883Z"
    },
    "papermill": {
     "duration": 0.04474,
     "end_time": "2021-08-05T12:11:56.778037",
     "exception": false,
     "start_time": "2021-08-05T12:11:56.733297",
     "status": "completed"
    },
    "tags": []
   },
   "outputs": [],
   "source": [
    "#hide\n",
    "#delete problematic countries from table\n",
    "df_table = df_table[~df_table['Country/Region'].isin(['Cape Verde', 'Cruise Ship', 'Kosovo'])]"
   ]
  },
  {
   "cell_type": "code",
   "execution_count": 17,
   "id": "related-center",
   "metadata": {
    "execution": {
     "iopub.execute_input": "2021-08-05T12:11:56.869528Z",
     "iopub.status.busy": "2021-08-05T12:11:56.856051Z",
     "iopub.status.idle": "2021-08-05T12:11:56.871815Z",
     "shell.execute_reply": "2021-08-05T12:11:56.871356Z"
    },
    "papermill": {
     "duration": 0.059063,
     "end_time": "2021-08-05T12:11:56.871940",
     "exception": false,
     "start_time": "2021-08-05T12:11:56.812877",
     "status": "completed"
    },
    "tags": []
   },
   "outputs": [],
   "source": [
    "#hide\n",
    "metrics = [df_table.columns[index] for index in [1,2,5,6]]\n",
    "# s_china = df_table[df_table['Country/Region'].eq('China')][metrics].sum().add_prefix('China ')\n",
    "s_us = df_table[df_table['Country/Region'].eq('US')][metrics].sum().add_prefix('US ')\n",
    "s_eu = df_table[df_table['Continent'].eq('Europe')][metrics].sum().add_prefix('EU ')\n",
    "s_ind = df_table[df_table['Country/Region'].eq('India')][metrics].sum().add_prefix('India ')\n",
    "summary = {'updated': pd.to_datetime(dt_today), 'since': pd.to_datetime(dt_yday)}\n",
    "summary = {'updated': pd.to_datetime(dt_today), 'since': pd.to_datetime(dt_yday)}\n",
    "summary = {**summary, **df_table[metrics].sum(), **s_ind, **s_us, **s_eu}"
   ]
  },
  {
   "cell_type": "code",
   "execution_count": 18,
   "id": "engaging-syndrome",
   "metadata": {
    "execution": {
     "iopub.execute_input": "2021-08-05T12:11:56.950016Z",
     "iopub.status.busy": "2021-08-05T12:11:56.949392Z",
     "iopub.status.idle": "2021-08-05T12:11:56.962574Z",
     "shell.execute_reply": "2021-08-05T12:11:56.962031Z"
    },
    "papermill": {
     "duration": 0.053555,
     "end_time": "2021-08-05T12:11:56.962694",
     "exception": false,
     "start_time": "2021-08-05T12:11:56.909139",
     "status": "completed"
    },
    "tags": []
   },
   "outputs": [],
   "source": [
    "#hide\n",
    "dft_ct_new_cases = dft_cases.groupby(COL_REGION)[dt_cols].sum().diff(axis=1).fillna(0).astype(int)"
   ]
  },
  {
   "cell_type": "code",
   "execution_count": 19,
   "id": "neutral-assignment",
   "metadata": {
    "execution": {
     "iopub.execute_input": "2021-08-05T12:11:57.041067Z",
     "iopub.status.busy": "2021-08-05T12:11:57.040471Z",
     "iopub.status.idle": "2021-08-05T12:11:57.042740Z",
     "shell.execute_reply": "2021-08-05T12:11:57.042254Z"
    },
    "papermill": {
     "duration": 0.042863,
     "end_time": "2021-08-05T12:11:57.042856",
     "exception": false,
     "start_time": "2021-08-05T12:11:56.999993",
     "status": "completed"
    },
    "tags": []
   },
   "outputs": [],
   "source": [
    "#hide\n",
    "everydaycases = dft_ct_new_cases.cumsum(axis=1)"
   ]
  },
  {
   "cell_type": "code",
   "execution_count": 20,
   "id": "parliamentary-calgary",
   "metadata": {
    "execution": {
     "iopub.execute_input": "2021-08-05T12:11:57.122198Z",
     "iopub.status.busy": "2021-08-05T12:11:57.121608Z",
     "iopub.status.idle": "2021-08-05T12:11:57.748879Z",
     "shell.execute_reply": "2021-08-05T12:11:57.747228Z"
    },
    "papermill": {
     "duration": 0.668086,
     "end_time": "2021-08-05T12:11:57.749032",
     "exception": false,
     "start_time": "2021-08-05T12:11:57.080946",
     "status": "completed"
    },
    "tags": []
   },
   "outputs": [],
   "source": [
    "#hide\n",
    "import pandas as pd\n",
    "import matplotlib.pyplot as plt\n",
    "import matplotlib.ticker as ticker\n",
    "import matplotlib.animation as animation\n",
    "from IPython.display import HTML"
   ]
  },
  {
   "cell_type": "code",
   "execution_count": 21,
   "id": "lasting-extraction",
   "metadata": {
    "execution": {
     "iopub.execute_input": "2021-08-05T12:11:57.836049Z",
     "iopub.status.busy": "2021-08-05T12:11:57.835472Z",
     "iopub.status.idle": "2021-08-05T12:11:57.841540Z",
     "shell.execute_reply": "2021-08-05T12:11:57.841077Z"
    },
    "papermill": {
     "duration": 0.054974,
     "end_time": "2021-08-05T12:11:57.841664",
     "exception": false,
     "start_time": "2021-08-05T12:11:57.786690",
     "status": "completed"
    },
    "tags": []
   },
   "outputs": [],
   "source": [
    "#hide\n",
    "t = everydaycases.stack()"
   ]
  },
  {
   "cell_type": "code",
   "execution_count": 22,
   "id": "premier-sleeve",
   "metadata": {
    "execution": {
     "iopub.execute_input": "2021-08-05T12:11:57.914361Z",
     "iopub.status.busy": "2021-08-05T12:11:57.913888Z",
     "iopub.status.idle": "2021-08-05T12:11:57.922498Z",
     "shell.execute_reply": "2021-08-05T12:11:57.922043Z"
    },
    "papermill": {
     "duration": 0.046859,
     "end_time": "2021-08-05T12:11:57.922610",
     "exception": false,
     "start_time": "2021-08-05T12:11:57.875751",
     "status": "completed"
    },
    "tags": []
   },
   "outputs": [],
   "source": [
    "#hide\n",
    "g = t.reset_index(['Country/Region'])"
   ]
  },
  {
   "cell_type": "code",
   "execution_count": 23,
   "id": "distributed-pittsburgh",
   "metadata": {
    "execution": {
     "iopub.execute_input": "2021-08-05T12:11:58.001859Z",
     "iopub.status.busy": "2021-08-05T12:11:58.000270Z",
     "iopub.status.idle": "2021-08-05T12:11:58.003007Z",
     "shell.execute_reply": "2021-08-05T12:11:58.002530Z"
    },
    "papermill": {
     "duration": 0.046535,
     "end_time": "2021-08-05T12:11:58.003148",
     "exception": false,
     "start_time": "2021-08-05T12:11:57.956613",
     "status": "completed"
    },
    "tags": []
   },
   "outputs": [],
   "source": [
    "#hide\n",
    "g.index.name = 'date'"
   ]
  },
  {
   "cell_type": "code",
   "execution_count": 24,
   "id": "naked-donor",
   "metadata": {
    "execution": {
     "iopub.execute_input": "2021-08-05T12:11:58.078444Z",
     "iopub.status.busy": "2021-08-05T12:11:58.077862Z",
     "iopub.status.idle": "2021-08-05T12:11:58.080783Z",
     "shell.execute_reply": "2021-08-05T12:11:58.080301Z"
    },
    "papermill": {
     "duration": 0.040781,
     "end_time": "2021-08-05T12:11:58.080912",
     "exception": false,
     "start_time": "2021-08-05T12:11:58.040131",
     "status": "completed"
    },
    "tags": []
   },
   "outputs": [],
   "source": [
    "# #hide\n",
    "# g = g.reset_index(['date'])"
   ]
  },
  {
   "cell_type": "code",
   "execution_count": 25,
   "id": "incomplete-mustang",
   "metadata": {
    "execution": {
     "iopub.execute_input": "2021-08-05T12:11:58.160960Z",
     "iopub.status.busy": "2021-08-05T12:11:58.160276Z",
     "iopub.status.idle": "2021-08-05T12:11:58.162817Z",
     "shell.execute_reply": "2021-08-05T12:11:58.163336Z"
    },
    "papermill": {
     "duration": 0.042367,
     "end_time": "2021-08-05T12:11:58.163467",
     "exception": false,
     "start_time": "2021-08-05T12:11:58.121100",
     "status": "completed"
    },
    "tags": []
   },
   "outputs": [],
   "source": [
    "#hide\n",
    "# g.head()"
   ]
  },
  {
   "cell_type": "code",
   "execution_count": 26,
   "id": "specific-kruger",
   "metadata": {
    "execution": {
     "iopub.execute_input": "2021-08-05T12:11:58.243101Z",
     "iopub.status.busy": "2021-08-05T12:11:58.242530Z",
     "iopub.status.idle": "2021-08-05T12:11:58.244257Z",
     "shell.execute_reply": "2021-08-05T12:11:58.244685Z"
    },
    "papermill": {
     "duration": 0.044697,
     "end_time": "2021-08-05T12:11:58.244812",
     "exception": false,
     "start_time": "2021-08-05T12:11:58.200115",
     "status": "completed"
    },
    "tags": []
   },
   "outputs": [],
   "source": [
    "#hide\n",
    "# g.columns = ['date','country','cases']"
   ]
  },
  {
   "cell_type": "code",
   "execution_count": 27,
   "id": "tender-conversion",
   "metadata": {
    "execution": {
     "iopub.execute_input": "2021-08-05T12:11:58.314655Z",
     "iopub.status.busy": "2021-08-05T12:11:58.314072Z",
     "iopub.status.idle": "2021-08-05T12:11:58.316312Z",
     "shell.execute_reply": "2021-08-05T12:11:58.316823Z"
    },
    "papermill": {
     "duration": 0.039555,
     "end_time": "2021-08-05T12:11:58.316954",
     "exception": false,
     "start_time": "2021-08-05T12:11:58.277399",
     "status": "completed"
    },
    "tags": []
   },
   "outputs": [],
   "source": [
    "#hide\n",
    "# g['continent'] = g.country"
   ]
  },
  {
   "cell_type": "code",
   "execution_count": 28,
   "id": "substantial-wilderness",
   "metadata": {
    "execution": {
     "iopub.execute_input": "2021-08-05T12:11:58.387153Z",
     "iopub.status.busy": "2021-08-05T12:11:58.386568Z",
     "iopub.status.idle": "2021-08-05T12:11:58.390044Z",
     "shell.execute_reply": "2021-08-05T12:11:58.390540Z"
    },
    "papermill": {
     "duration": 0.040381,
     "end_time": "2021-08-05T12:11:58.390680",
     "exception": false,
     "start_time": "2021-08-05T12:11:58.350299",
     "status": "completed"
    },
    "tags": []
   },
   "outputs": [],
   "source": [
    "#hide\n",
    "# cols = list(g.columns.values)"
   ]
  },
  {
   "cell_type": "code",
   "execution_count": 29,
   "id": "solved-farming",
   "metadata": {
    "execution": {
     "iopub.execute_input": "2021-08-05T12:11:58.463212Z",
     "iopub.status.busy": "2021-08-05T12:11:58.462635Z",
     "iopub.status.idle": "2021-08-05T12:11:58.465177Z",
     "shell.execute_reply": "2021-08-05T12:11:58.465709Z"
    },
    "papermill": {
     "duration": 0.040905,
     "end_time": "2021-08-05T12:11:58.465852",
     "exception": false,
     "start_time": "2021-08-05T12:11:58.424947",
     "status": "completed"
    },
    "tags": []
   },
   "outputs": [],
   "source": [
    "#hide\n",
    "# cols.insert(0, cols.pop())"
   ]
  },
  {
   "cell_type": "code",
   "execution_count": 30,
   "id": "executed-adoption",
   "metadata": {
    "execution": {
     "iopub.execute_input": "2021-08-05T12:11:58.536209Z",
     "iopub.status.busy": "2021-08-05T12:11:58.535629Z",
     "iopub.status.idle": "2021-08-05T12:11:58.545549Z",
     "shell.execute_reply": "2021-08-05T12:11:58.545087Z"
    },
    "papermill": {
     "duration": 0.047254,
     "end_time": "2021-08-05T12:11:58.545671",
     "exception": false,
     "start_time": "2021-08-05T12:11:58.498417",
     "status": "completed"
    },
    "tags": []
   },
   "outputs": [],
   "source": [
    "#hide\n",
    "# g = g[cols]"
   ]
  },
  {
   "cell_type": "code",
   "execution_count": 31,
   "id": "subject-dublin",
   "metadata": {
    "execution": {
     "iopub.execute_input": "2021-08-05T12:11:58.616992Z",
     "iopub.status.busy": "2021-08-05T12:11:58.616407Z",
     "iopub.status.idle": "2021-08-05T12:11:58.619106Z",
     "shell.execute_reply": "2021-08-05T12:11:58.619641Z"
    },
    "papermill": {
     "duration": 0.040845,
     "end_time": "2021-08-05T12:11:58.619784",
     "exception": false,
     "start_time": "2021-08-05T12:11:58.578939",
     "status": "completed"
    },
    "tags": []
   },
   "outputs": [],
   "source": [
    "#hide\n",
    "# g['continent'] = g['continent'].map(mapping['map.continent'])"
   ]
  },
  {
   "cell_type": "code",
   "execution_count": 32,
   "id": "freelance-scout",
   "metadata": {
    "execution": {
     "iopub.execute_input": "2021-08-05T12:11:58.692087Z",
     "iopub.status.busy": "2021-08-05T12:11:58.691504Z",
     "iopub.status.idle": "2021-08-05T12:11:58.694151Z",
     "shell.execute_reply": "2021-08-05T12:11:58.693680Z"
    },
    "papermill": {
     "duration": 0.040416,
     "end_time": "2021-08-05T12:11:58.694276",
     "exception": false,
     "start_time": "2021-08-05T12:11:58.653860",
     "status": "completed"
    },
    "tags": []
   },
   "outputs": [],
   "source": [
    "#hide\n",
    "# g.head()"
   ]
  },
  {
   "cell_type": "code",
   "execution_count": 33,
   "id": "limited-engine",
   "metadata": {
    "execution": {
     "iopub.execute_input": "2021-08-05T12:11:58.766172Z",
     "iopub.status.busy": "2021-08-05T12:11:58.764905Z",
     "iopub.status.idle": "2021-08-05T12:11:58.766829Z",
     "shell.execute_reply": "2021-08-05T12:11:58.767285Z"
    },
    "papermill": {
     "duration": 0.039702,
     "end_time": "2021-08-05T12:11:58.767423",
     "exception": false,
     "start_time": "2021-08-05T12:11:58.727721",
     "status": "completed"
    },
    "tags": []
   },
   "outputs": [],
   "source": [
    "# hide\n",
    "# g['date'] = g['date'].astype('datetime64[ns]')"
   ]
  },
  {
   "cell_type": "code",
   "execution_count": 34,
   "id": "sophisticated-supervisor",
   "metadata": {
    "execution": {
     "iopub.execute_input": "2021-08-05T12:11:58.840628Z",
     "iopub.status.busy": "2021-08-05T12:11:58.839836Z",
     "iopub.status.idle": "2021-08-05T12:11:58.843713Z",
     "shell.execute_reply": "2021-08-05T12:11:58.844189Z"
    },
    "papermill": {
     "duration": 0.042752,
     "end_time": "2021-08-05T12:11:58.844337",
     "exception": false,
     "start_time": "2021-08-05T12:11:58.801585",
     "status": "completed"
    },
    "tags": []
   },
   "outputs": [],
   "source": [
    "#hide\n",
    "# g['date'] = g.date.dt.dayofyear"
   ]
  },
  {
   "cell_type": "code",
   "execution_count": 35,
   "id": "inside-dubai",
   "metadata": {
    "execution": {
     "iopub.execute_input": "2021-08-05T12:11:58.914049Z",
     "iopub.status.busy": "2021-08-05T12:11:58.913466Z",
     "iopub.status.idle": "2021-08-05T12:11:58.915949Z",
     "shell.execute_reply": "2021-08-05T12:11:58.915572Z"
    },
    "papermill": {
     "duration": 0.039091,
     "end_time": "2021-08-05T12:11:58.916052",
     "exception": false,
     "start_time": "2021-08-05T12:11:58.876961",
     "status": "completed"
    },
    "tags": []
   },
   "outputs": [],
   "source": [
    "#hide\n",
    "# g = g.rename(columns= {'continent':'group','country':'name','cases':'value'})"
   ]
  },
  {
   "cell_type": "code",
   "execution_count": 36,
   "id": "fleet-motorcycle",
   "metadata": {
    "execution": {
     "iopub.execute_input": "2021-08-05T12:11:58.987795Z",
     "iopub.status.busy": "2021-08-05T12:11:58.987251Z",
     "iopub.status.idle": "2021-08-05T12:11:58.989431Z",
     "shell.execute_reply": "2021-08-05T12:11:58.988945Z"
    },
    "papermill": {
     "duration": 0.039985,
     "end_time": "2021-08-05T12:11:58.989580",
     "exception": false,
     "start_time": "2021-08-05T12:11:58.949595",
     "status": "completed"
    },
    "tags": []
   },
   "outputs": [],
   "source": [
    "#hide\n",
    "# cols = ['name','group','day','value']"
   ]
  },
  {
   "cell_type": "code",
   "execution_count": 37,
   "id": "continued-sleeping",
   "metadata": {
    "execution": {
     "iopub.execute_input": "2021-08-05T12:11:59.060524Z",
     "iopub.status.busy": "2021-08-05T12:11:59.059985Z",
     "iopub.status.idle": "2021-08-05T12:11:59.062687Z",
     "shell.execute_reply": "2021-08-05T12:11:59.062221Z"
    },
    "papermill": {
     "duration": 0.039773,
     "end_time": "2021-08-05T12:11:59.062813",
     "exception": false,
     "start_time": "2021-08-05T12:11:59.023040",
     "status": "completed"
    },
    "tags": []
   },
   "outputs": [],
   "source": [
    "#hide\n",
    "# g.rename(columns= {'date':'day'},inplace = True)"
   ]
  },
  {
   "cell_type": "code",
   "execution_count": 38,
   "id": "major-fight",
   "metadata": {
    "execution": {
     "iopub.execute_input": "2021-08-05T12:11:59.135263Z",
     "iopub.status.busy": "2021-08-05T12:11:59.134687Z",
     "iopub.status.idle": "2021-08-05T12:11:59.137138Z",
     "shell.execute_reply": "2021-08-05T12:11:59.137653Z"
    },
    "papermill": {
     "duration": 0.041029,
     "end_time": "2021-08-05T12:11:59.137793",
     "exception": false,
     "start_time": "2021-08-05T12:11:59.096764",
     "status": "completed"
    },
    "tags": []
   },
   "outputs": [],
   "source": [
    "#hide\n",
    "# g = g[cols]"
   ]
  },
  {
   "cell_type": "code",
   "execution_count": 39,
   "id": "structured-mobile",
   "metadata": {
    "execution": {
     "iopub.execute_input": "2021-08-05T12:11:59.209379Z",
     "iopub.status.busy": "2021-08-05T12:11:59.208793Z",
     "iopub.status.idle": "2021-08-05T12:11:59.211045Z",
     "shell.execute_reply": "2021-08-05T12:11:59.210557Z"
    },
    "papermill": {
     "duration": 0.040257,
     "end_time": "2021-08-05T12:11:59.211164",
     "exception": false,
     "start_time": "2021-08-05T12:11:59.170907",
     "status": "completed"
    },
    "tags": []
   },
   "outputs": [],
   "source": [
    "# #hide\n",
    "# g = g[g.group.notna()]"
   ]
  },
  {
   "cell_type": "code",
   "execution_count": 40,
   "id": "determined-closing",
   "metadata": {
    "execution": {
     "iopub.execute_input": "2021-08-05T12:11:59.282832Z",
     "iopub.status.busy": "2021-08-05T12:11:59.282242Z",
     "iopub.status.idle": "2021-08-05T12:11:59.284121Z",
     "shell.execute_reply": "2021-08-05T12:11:59.284527Z"
    },
    "papermill": {
     "duration": 0.039253,
     "end_time": "2021-08-05T12:11:59.284661",
     "exception": false,
     "start_time": "2021-08-05T12:11:59.245408",
     "status": "completed"
    },
    "tags": []
   },
   "outputs": [],
   "source": [
    "# #hide\n",
    "# colors = dict(zip(\n",
    "#     [\"Oceania\", \"Europe\", \"Asia\", \"South America\", \"Middle East\", \"North America\", \"Africa\"],\n",
    "#     [\"#adb0ff\", \"#ffb3ff\", \"#90d595\", \"#e48381\", \"#aafbff\", \"#f7bb5f\", \"#eafb50\"]\n",
    "# ))\n",
    "# group_lk = g.set_index('name')['group'].to_dict()"
   ]
  },
  {
   "cell_type": "code",
   "execution_count": null,
   "id": "gross-drinking",
   "metadata": {
    "papermill": {
     "duration": 0.032641,
     "end_time": "2021-08-05T12:11:59.349979",
     "exception": false,
     "start_time": "2021-08-05T12:11:59.317338",
     "status": "completed"
    },
    "tags": []
   },
   "outputs": [],
   "source": []
  },
  {
   "cell_type": "code",
   "execution_count": 41,
   "id": "subject-macintosh",
   "metadata": {
    "execution": {
     "iopub.execute_input": "2021-08-05T12:11:59.420452Z",
     "iopub.status.busy": "2021-08-05T12:11:59.419855Z",
     "iopub.status.idle": "2021-08-05T12:11:59.422192Z",
     "shell.execute_reply": "2021-08-05T12:11:59.421717Z"
    },
    "papermill": {
     "duration": 0.039933,
     "end_time": "2021-08-05T12:11:59.422325",
     "exception": false,
     "start_time": "2021-08-05T12:11:59.382392",
     "status": "completed"
    },
    "tags": []
   },
   "outputs": [],
   "source": [
    "# #hide\n",
    "# fig, ax = plt.subplots(figsize=(15, 8))\n",
    "\n",
    "# def draw_barchart(current_day):\n",
    "#     dff = g[g['day'].eq(current_day)].sort_values(by='value', ascending=True).tail(10)\n",
    "#     ax.clear()\n",
    "#     ax.barh(dff['name'], dff['value'], color=[colors[group_lk[x]] for x in dff['name']])\n",
    "#     dx = dff['value'].max() / 200\n",
    "    \n",
    "#     for i, (value, name) in enumerate(zip(dff['value'], dff['name'])):\n",
    "#         ax.text(value-dx, i,     name,           size=14, weight=600, ha='right', va='bottom')\n",
    "#         ax.text(value-dx, i-.25, group_lk[name], size=10, color='#444444', ha='right', va='baseline')\n",
    "#         ax.text(value+dx, i,     f'{value:,.0f}',  size=14, ha='left',  va='center')\n",
    "#     ax.text(1, 0.4, current_day, transform=ax.transAxes, color='#777777', size=46, ha='right', weight=800)\n",
    "#     ax.text(0, 1.06, 'Population (thousands)', transform=ax.transAxes, size=12, color='#777777')\n",
    "#     ax.xaxis.set_major_formatter(ticker.StrMethodFormatter('{x:,.0f}'))\n",
    "#     ax.xaxis.set_ticks_position('top')\n",
    "#     ax.tick_params(axis='x', colors='#777777', labelsize=12)\n",
    "#     ax.set_yticks([])\n",
    "#     ax.margins(0, 0.01)\n",
    "#     ax.grid(which='major', axis='x', linestyle='-')\n",
    "#     ax.set_axisbelow(True)\n",
    "    \n",
    "#     ax.text(0, 1.15, 'Coronavirus',\n",
    "#             transform=ax.transAxes, size=24, weight=600, ha='left', va='top')\n",
    "# #     ax.text(1, 0, 'by @pratapvardhan; credit @jburnmurdoch', transform=ax.transAxes, color='#777777', ha='right',\n",
    "# #             bbox=dict(facecolor='white', alpha=0.8, edgecolor='white'))\n",
    "#     plt.box(False)"
   ]
  },
  {
   "cell_type": "code",
   "execution_count": 42,
   "id": "sexual-wages",
   "metadata": {
    "execution": {
     "iopub.execute_input": "2021-08-05T12:11:59.492442Z",
     "iopub.status.busy": "2021-08-05T12:11:59.491852Z",
     "iopub.status.idle": "2021-08-05T12:11:59.494471Z",
     "shell.execute_reply": "2021-08-05T12:11:59.493995Z"
    },
    "papermill": {
     "duration": 0.039821,
     "end_time": "2021-08-05T12:11:59.494594",
     "exception": false,
     "start_time": "2021-08-05T12:11:59.454773",
     "status": "completed"
    },
    "tags": []
   },
   "outputs": [],
   "source": [
    "# #hide_input\n",
    "# fig, ax = plt.subplots(figsize=(15, 8))\n",
    "# animator = animation.FuncAnimation(fig, draw_barchart, frames=range(g.day.values.min(), g.day.values.max()))\n",
    "# HTML(animator.to_jshtml())\n",
    "# # or use animator.to_html5_video() or animator.save() "
   ]
  },
  {
   "cell_type": "code",
   "execution_count": null,
   "id": "australian-container",
   "metadata": {
    "papermill": {
     "duration": 0.033048,
     "end_time": "2021-08-05T12:11:59.560719",
     "exception": false,
     "start_time": "2021-08-05T12:11:59.527671",
     "status": "completed"
    },
    "tags": []
   },
   "outputs": [],
   "source": []
  },
  {
   "cell_type": "code",
   "execution_count": null,
   "id": "mediterranean-pontiac",
   "metadata": {
    "papermill": {
     "duration": 0.033843,
     "end_time": "2021-08-05T12:11:59.628454",
     "exception": false,
     "start_time": "2021-08-05T12:11:59.594611",
     "status": "completed"
    },
    "tags": []
   },
   "outputs": [],
   "source": []
  },
  {
   "cell_type": "code",
   "execution_count": null,
   "id": "aging-legislature",
   "metadata": {
    "papermill": {
     "duration": 0.033485,
     "end_time": "2021-08-05T12:11:59.695371",
     "exception": false,
     "start_time": "2021-08-05T12:11:59.661886",
     "status": "completed"
    },
    "tags": []
   },
   "outputs": [],
   "source": []
  }
 ],
 "metadata": {
  "kernelspec": {
   "display_name": "Python 3",
   "language": "python",
   "name": "python3"
  },
  "language_info": {
   "codemirror_mode": {
    "name": "ipython",
    "version": 3
   },
   "file_extension": ".py",
   "mimetype": "text/x-python",
   "name": "python",
   "nbconvert_exporter": "python",
   "pygments_lexer": "ipython3",
   "version": "3.6.14"
  },
  "papermill": {
   "duration": 6.727896,
   "end_time": "2021-08-05T12:12:00.137724",
   "environment_variables": {},
   "exception": null,
   "input_path": "2020-03-21-covid19exp.ipynb",
   "output_path": "2020-03-21-covid19exp.ipynb",
   "parameters": {},
   "start_time": "2021-08-05T12:11:53.409828",
   "version": "2.0.0"
  }
 },
 "nbformat": 4,
 "nbformat_minor": 5
}