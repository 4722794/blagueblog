{
 "cells": [
  {
   "cell_type": "markdown",
   "id": "muslim-click",
   "metadata": {
    "papermill": {
     "duration": 0.045641,
     "end_time": "2022-06-17T12:17:13.108304",
     "exception": false,
     "start_time": "2022-06-17T12:17:13.062663",
     "status": "completed"
    },
    "tags": []
   },
   "source": [
    "# COVID-19 Case Race\n",
    "> A race chart to see rising cases around the world\n",
    "\n",
    "- author: Hargun Oberoi\n",
    "- image: images/covid-overview.png\n",
    "- hide: false\n",
    "- badges: false"
   ]
  },
  {
   "cell_type": "code",
   "execution_count": 1,
   "id": "proof-material",
   "metadata": {
    "execution": {
     "iopub.execute_input": "2022-06-17T12:17:13.202573Z",
     "iopub.status.busy": "2022-06-17T12:17:13.201741Z",
     "iopub.status.idle": "2022-06-17T12:17:13.639830Z",
     "shell.execute_reply": "2022-06-17T12:17:13.639162Z"
    },
    "papermill": {
     "duration": 0.489735,
     "end_time": "2022-06-17T12:17:13.639982",
     "exception": false,
     "start_time": "2022-06-17T12:17:13.150247",
     "status": "completed"
    },
    "tags": []
   },
   "outputs": [],
   "source": [
    "#hide\n",
    "import numpy as np\n",
    "import pandas as pd\n",
    "from jinja2 import Template\n",
    "from IPython.display import HTML"
   ]
  },
  {
   "cell_type": "code",
   "execution_count": 2,
   "id": "developed-terminology",
   "metadata": {
    "execution": {
     "iopub.execute_input": "2022-06-17T12:17:13.714958Z",
     "iopub.status.busy": "2022-06-17T12:17:13.714199Z",
     "iopub.status.idle": "2022-06-17T12:17:13.718850Z",
     "shell.execute_reply": "2022-06-17T12:17:13.718249Z"
    },
    "papermill": {
     "duration": 0.044501,
     "end_time": "2022-06-17T12:17:13.719004",
     "exception": false,
     "start_time": "2022-06-17T12:17:13.674503",
     "status": "completed"
    },
    "tags": []
   },
   "outputs": [],
   "source": [
    "#hide\n",
    "\n",
    "# FETCH\n",
    "base_url = 'https://raw.githubusercontent.com/pratapvardhan/notebooks/master/covid19/'\n",
    "paths = {\n",
    "    'mapping': base_url + 'mapping_countries.csv',\n",
    "    'overview': base_url + 'overview.tpl'\n",
    "}"
   ]
  },
  {
   "cell_type": "code",
   "execution_count": 3,
   "id": "dynamic-saver",
   "metadata": {
    "execution": {
     "iopub.execute_input": "2022-06-17T12:17:13.800561Z",
     "iopub.status.busy": "2022-06-17T12:17:13.795309Z",
     "iopub.status.idle": "2022-06-17T12:17:13.803685Z",
     "shell.execute_reply": "2022-06-17T12:17:13.804345Z"
    },
    "papermill": {
     "duration": 0.051987,
     "end_time": "2022-06-17T12:17:13.804500",
     "exception": false,
     "start_time": "2022-06-17T12:17:13.752513",
     "status": "completed"
    },
    "tags": []
   },
   "outputs": [
    {
     "data": {
      "text/plain": [
       "'https://raw.githubusercontent.com/pratapvardhan/notebooks/master/covid19/mapping_countries.csv'"
      ]
     },
     "execution_count": 3,
     "metadata": {},
     "output_type": "execute_result"
    }
   ],
   "source": [
    "#hide\n",
    "paths['mapping']"
   ]
  },
  {
   "cell_type": "code",
   "execution_count": 4,
   "id": "urban-software",
   "metadata": {
    "execution": {
     "iopub.execute_input": "2022-06-17T12:17:13.880358Z",
     "iopub.status.busy": "2022-06-17T12:17:13.879638Z",
     "iopub.status.idle": "2022-06-17T12:17:13.882983Z",
     "shell.execute_reply": "2022-06-17T12:17:13.882242Z"
    },
    "papermill": {
     "duration": 0.043579,
     "end_time": "2022-06-17T12:17:13.883117",
     "exception": false,
     "start_time": "2022-06-17T12:17:13.839538",
     "status": "completed"
    },
    "tags": []
   },
   "outputs": [],
   "source": [
    "#hide\n",
    "def get_mappings(url):\n",
    "    df = pd.read_csv(url)\n",
    "    return {\n",
    "        'df': df,\n",
    "        'replace.country': dict(df.dropna(subset=['Name']).set_index('Country')['Name']),\n",
    "        'map.continent': dict(df.set_index('Name')['Continent'])\n",
    "    }"
   ]
  },
  {
   "cell_type": "code",
   "execution_count": 5,
   "id": "intimate-machinery",
   "metadata": {
    "execution": {
     "iopub.execute_input": "2022-06-17T12:17:13.959610Z",
     "iopub.status.busy": "2022-06-17T12:17:13.958621Z",
     "iopub.status.idle": "2022-06-17T12:17:14.012078Z",
     "shell.execute_reply": "2022-06-17T12:17:14.011245Z"
    },
    "papermill": {
     "duration": 0.093833,
     "end_time": "2022-06-17T12:17:14.012287",
     "exception": false,
     "start_time": "2022-06-17T12:17:13.918454",
     "status": "completed"
    },
    "tags": []
   },
   "outputs": [],
   "source": [
    "#hide\n",
    "mapping = get_mappings(paths['mapping'])"
   ]
  },
  {
   "cell_type": "code",
   "execution_count": 6,
   "id": "certified-tactics",
   "metadata": {
    "execution": {
     "iopub.execute_input": "2022-06-17T12:17:14.088837Z",
     "iopub.status.busy": "2022-06-17T12:17:14.088143Z",
     "iopub.status.idle": "2022-06-17T12:17:14.090512Z",
     "shell.execute_reply": "2022-06-17T12:17:14.091041Z"
    },
    "papermill": {
     "duration": 0.04305,
     "end_time": "2022-06-17T12:17:14.091200",
     "exception": false,
     "start_time": "2022-06-17T12:17:14.048150",
     "status": "completed"
    },
    "tags": []
   },
   "outputs": [],
   "source": [
    "#hide\n",
    "def get_template(path):\n",
    "    from urllib.parse import urlparse\n",
    "    if bool(urlparse(path).netloc):\n",
    "        from urllib.request import urlopen\n",
    "        return urlopen(path).read().decode('utf8')\n",
    "    return open(path).read()"
   ]
  },
  {
   "cell_type": "code",
   "execution_count": 7,
   "id": "realistic-blast",
   "metadata": {
    "execution": {
     "iopub.execute_input": "2022-06-17T12:17:14.170907Z",
     "iopub.status.busy": "2022-06-17T12:17:14.169753Z",
     "iopub.status.idle": "2022-06-17T12:17:14.172344Z",
     "shell.execute_reply": "2022-06-17T12:17:14.173073Z"
    },
    "papermill": {
     "duration": 0.045826,
     "end_time": "2022-06-17T12:17:14.173231",
     "exception": false,
     "start_time": "2022-06-17T12:17:14.127405",
     "status": "completed"
    },
    "tags": []
   },
   "outputs": [],
   "source": [
    "#hide\n",
    "def get_frame(name):\n",
    "    url = (\n",
    "        'https://raw.githubusercontent.com/CSSEGISandData/COVID-19/master/csse_covid_19_data/'\n",
    "        f'csse_covid_19_time_series/time_series_covid19_{name}_global.csv')\n",
    "    df = pd.read_csv(url)\n",
    "    # rename countries\n",
    "    df['Country/Region'] = df['Country/Region'].replace(mapping['replace.country'])\n",
    "    return df"
   ]
  },
  {
   "cell_type": "code",
   "execution_count": 8,
   "id": "affiliated-characterization",
   "metadata": {
    "execution": {
     "iopub.execute_input": "2022-06-17T12:17:14.266115Z",
     "iopub.status.busy": "2022-06-17T12:17:14.265388Z",
     "iopub.status.idle": "2022-06-17T12:17:14.268516Z",
     "shell.execute_reply": "2022-06-17T12:17:14.267743Z"
    },
    "papermill": {
     "duration": 0.052113,
     "end_time": "2022-06-17T12:17:14.268650",
     "exception": false,
     "start_time": "2022-06-17T12:17:14.216537",
     "status": "completed"
    },
    "tags": []
   },
   "outputs": [],
   "source": [
    "#hide\n",
    "def get_dates(df):\n",
    "    dt_cols = df.columns[~df.columns.isin(['Province/State', 'Country/Region', 'Lat', 'Long'])]\n",
    "    LAST_DATE_I = -1\n",
    "    # sometimes last column may be empty, then go backwards\n",
    "    for i in range(-1, -len(dt_cols), -1):\n",
    "        if not df[dt_cols[i]].fillna(0).eq(0).all():\n",
    "            LAST_DATE_I = i\n",
    "            break\n",
    "    return LAST_DATE_I, dt_cols"
   ]
  },
  {
   "cell_type": "code",
   "execution_count": 9,
   "id": "recent-optimization",
   "metadata": {
    "execution": {
     "iopub.execute_input": "2022-06-17T12:17:14.346139Z",
     "iopub.status.busy": "2022-06-17T12:17:14.345413Z",
     "iopub.status.idle": "2022-06-17T12:17:14.924822Z",
     "shell.execute_reply": "2022-06-17T12:17:14.924206Z"
    },
    "papermill": {
     "duration": 0.62074,
     "end_time": "2022-06-17T12:17:14.924959",
     "exception": false,
     "start_time": "2022-06-17T12:17:14.304219",
     "status": "completed"
    },
    "tags": []
   },
   "outputs": [],
   "source": [
    "#hide\n",
    "COL_REGION = 'Country/Region'\n",
    "# Confirmed, Recovered, Deaths\n",
    "df = get_frame('confirmed')\n",
    "# dft_: timeseries, dfc_: today country agg\n",
    "dft_cases = df\n",
    "dft_deaths = get_frame('deaths')\n",
    "dft_recovered = get_frame('recovered')\n",
    "LAST_DATE_I, dt_cols = get_dates(df)"
   ]
  },
  {
   "cell_type": "code",
   "execution_count": 10,
   "id": "absolute-copper",
   "metadata": {
    "execution": {
     "iopub.execute_input": "2022-06-17T12:17:15.001951Z",
     "iopub.status.busy": "2022-06-17T12:17:15.000343Z",
     "iopub.status.idle": "2022-06-17T12:17:15.002731Z",
     "shell.execute_reply": "2022-06-17T12:17:15.003276Z"
    },
    "papermill": {
     "duration": 0.044844,
     "end_time": "2022-06-17T12:17:15.003425",
     "exception": false,
     "start_time": "2022-06-17T12:17:14.958581",
     "status": "completed"
    },
    "tags": []
   },
   "outputs": [],
   "source": [
    "#hide\n",
    "LAST_DATE_I, dt_cols = get_dates(df)\n",
    "dt_today =dt_cols[LAST_DATE_I]\n",
    "# dt_5day = dt_cols[LAST_DATE_I - 5]\n",
    "dt_yday = dt_cols[LAST_DATE_I - 1]"
   ]
  },
  {
   "cell_type": "code",
   "execution_count": 11,
   "id": "restricted-sheriff",
   "metadata": {
    "execution": {
     "iopub.execute_input": "2022-06-17T12:17:15.079618Z",
     "iopub.status.busy": "2022-06-17T12:17:15.078870Z",
     "iopub.status.idle": "2022-06-17T12:17:15.088040Z",
     "shell.execute_reply": "2022-06-17T12:17:15.088675Z"
    },
    "papermill": {
     "duration": 0.05232,
     "end_time": "2022-06-17T12:17:15.088825",
     "exception": false,
     "start_time": "2022-06-17T12:17:15.036505",
     "status": "completed"
    },
    "tags": []
   },
   "outputs": [],
   "source": [
    "#hide\n",
    "dfc_cases = dft_cases.groupby(COL_REGION)[dt_today].sum()\n",
    "dfc_deaths = dft_deaths.groupby(COL_REGION)[dt_today].sum()\n",
    "# dfp_cases = dft_cases.groupby(COL_REGION)[dt_5day].sum()\n",
    "# dfp_deaths = dft_deaths.groupby(COL_REGION)[dt_5day].sum()\n",
    "dfp_cases = dft_cases.groupby(COL_REGION)[dt_yday].sum()\n",
    "dfp_deaths = dft_deaths.groupby(COL_REGION)[dt_yday].sum()"
   ]
  },
  {
   "cell_type": "code",
   "execution_count": 12,
   "id": "deluxe-hepatitis",
   "metadata": {
    "execution": {
     "iopub.execute_input": "2022-06-17T12:17:15.164726Z",
     "iopub.status.busy": "2022-06-17T12:17:15.163896Z",
     "iopub.status.idle": "2022-06-17T12:17:15.169463Z",
     "shell.execute_reply": "2022-06-17T12:17:15.168913Z"
    },
    "papermill": {
     "duration": 0.047475,
     "end_time": "2022-06-17T12:17:15.169589",
     "exception": false,
     "start_time": "2022-06-17T12:17:15.122114",
     "status": "completed"
    },
    "tags": []
   },
   "outputs": [],
   "source": [
    "#hide\n",
    "df_table = (pd.DataFrame(dict(Cases = dfc_cases, Deaths = dfc_deaths, PCases = dfp_cases, PDeaths = dfp_deaths))\n",
    "            .sort_values(by = ['Cases','Deaths'], ascending = [False, False])\n",
    "            .reset_index())"
   ]
  },
  {
   "cell_type": "code",
   "execution_count": 13,
   "id": "educational-chancellor",
   "metadata": {
    "execution": {
     "iopub.execute_input": "2022-06-17T12:17:15.252737Z",
     "iopub.status.busy": "2022-06-17T12:17:15.244546Z",
     "iopub.status.idle": "2022-06-17T12:17:15.266918Z",
     "shell.execute_reply": "2022-06-17T12:17:15.266248Z"
    },
    "papermill": {
     "duration": 0.064459,
     "end_time": "2022-06-17T12:17:15.267088",
     "exception": false,
     "start_time": "2022-06-17T12:17:15.202629",
     "status": "completed"
    },
    "tags": []
   },
   "outputs": [
    {
     "data": {
      "text/html": [
       "<div>\n",
       "<style scoped>\n",
       "    .dataframe tbody tr th:only-of-type {\n",
       "        vertical-align: middle;\n",
       "    }\n",
       "\n",
       "    .dataframe tbody tr th {\n",
       "        vertical-align: top;\n",
       "    }\n",
       "\n",
       "    .dataframe thead th {\n",
       "        text-align: right;\n",
       "    }\n",
       "</style>\n",
       "<table border=\"1\" class=\"dataframe\">\n",
       "  <thead>\n",
       "    <tr style=\"text-align: right;\">\n",
       "      <th></th>\n",
       "      <th>Country/Region</th>\n",
       "      <th>Cases</th>\n",
       "      <th>Deaths</th>\n",
       "      <th>PCases</th>\n",
       "      <th>PDeaths</th>\n",
       "      <th>Cases (+)</th>\n",
       "      <th>Deaths (+)</th>\n",
       "      <th>Fatality Rate</th>\n",
       "      <th>Continent</th>\n",
       "    </tr>\n",
       "  </thead>\n",
       "  <tbody>\n",
       "    <tr>\n",
       "      <th>0</th>\n",
       "      <td>US</td>\n",
       "      <td>86058180</td>\n",
       "      <td>1012647</td>\n",
       "      <td>85941735</td>\n",
       "      <td>1012607</td>\n",
       "      <td>116445</td>\n",
       "      <td>40</td>\n",
       "      <td>1.18</td>\n",
       "      <td>North America</td>\n",
       "    </tr>\n",
       "    <tr>\n",
       "      <th>1</th>\n",
       "      <td>India</td>\n",
       "      <td>43270577</td>\n",
       "      <td>524817</td>\n",
       "      <td>43257730</td>\n",
       "      <td>524803</td>\n",
       "      <td>12847</td>\n",
       "      <td>14</td>\n",
       "      <td>1.21</td>\n",
       "      <td>Asia</td>\n",
       "    </tr>\n",
       "    <tr>\n",
       "      <th>2</th>\n",
       "      <td>Brazil</td>\n",
       "      <td>31611769</td>\n",
       "      <td>668693</td>\n",
       "      <td>31611769</td>\n",
       "      <td>668693</td>\n",
       "      <td>0</td>\n",
       "      <td>0</td>\n",
       "      <td>2.12</td>\n",
       "      <td>South America</td>\n",
       "    </tr>\n",
       "    <tr>\n",
       "      <th>3</th>\n",
       "      <td>France</td>\n",
       "      <td>30228615</td>\n",
       "      <td>150035</td>\n",
       "      <td>30175534</td>\n",
       "      <td>149986</td>\n",
       "      <td>53081</td>\n",
       "      <td>49</td>\n",
       "      <td>0.50</td>\n",
       "      <td>Europe</td>\n",
       "    </tr>\n",
       "    <tr>\n",
       "      <th>4</th>\n",
       "      <td>Germany</td>\n",
       "      <td>27124689</td>\n",
       "      <td>140118</td>\n",
       "      <td>27096571</td>\n",
       "      <td>140099</td>\n",
       "      <td>28118</td>\n",
       "      <td>19</td>\n",
       "      <td>0.52</td>\n",
       "      <td>Europe</td>\n",
       "    </tr>\n",
       "  </tbody>\n",
       "</table>\n",
       "</div>"
      ],
      "text/plain": [
       "  Country/Region     Cases   Deaths    PCases  PDeaths  Cases (+)  Deaths (+)  \\\n",
       "0             US  86058180  1012647  85941735  1012607     116445          40   \n",
       "1          India  43270577   524817  43257730   524803      12847          14   \n",
       "2         Brazil  31611769   668693  31611769   668693          0           0   \n",
       "3         France  30228615   150035  30175534   149986      53081          49   \n",
       "4        Germany  27124689   140118  27096571   140099      28118          19   \n",
       "\n",
       "   Fatality Rate      Continent  \n",
       "0           1.18  North America  \n",
       "1           1.21           Asia  \n",
       "2           2.12  South America  \n",
       "3           0.50         Europe  \n",
       "4           0.52         Europe  "
      ]
     },
     "execution_count": 13,
     "metadata": {},
     "output_type": "execute_result"
    }
   ],
   "source": [
    "#hide\n",
    "for c in 'Cases, Deaths'.split(', '):\n",
    "    df_table[f'{c} (+)'] = (df_table[c] - df_table[f'P{c}']).clip(0)\n",
    "    #Clip ça veut dire, les chiffres negatif sont interdit\n",
    "df_table['Fatality Rate'] = (100* df_table['Deaths']/ df_table['Cases']).round(2)\n",
    "df_table['Continent'] = df_table['Country/Region'].map(mapping['map.continent'])\n",
    "df_table.head(5)"
   ]
  },
  {
   "cell_type": "code",
   "execution_count": 14,
   "id": "aboriginal-bulgaria",
   "metadata": {
    "execution": {
     "iopub.execute_input": "2022-06-17T12:17:15.341922Z",
     "iopub.status.busy": "2022-06-17T12:17:15.341214Z",
     "iopub.status.idle": "2022-06-17T12:17:15.344047Z",
     "shell.execute_reply": "2022-06-17T12:17:15.343371Z"
    },
    "papermill": {
     "duration": 0.043059,
     "end_time": "2022-06-17T12:17:15.344174",
     "exception": false,
     "start_time": "2022-06-17T12:17:15.301115",
     "status": "completed"
    },
    "tags": []
   },
   "outputs": [],
   "source": [
    "#hide\n",
    "#delete problematic countries from table\n",
    "df_table = df_table[~df_table['Country/Region'].isin(['Cape Verde', 'Cruise Ship', 'Kosovo'])]"
   ]
  },
  {
   "cell_type": "code",
   "execution_count": 15,
   "id": "fantastic-effect",
   "metadata": {
    "execution": {
     "iopub.execute_input": "2022-06-17T12:17:15.422408Z",
     "iopub.status.busy": "2022-06-17T12:17:15.421707Z",
     "iopub.status.idle": "2022-06-17T12:17:15.441223Z",
     "shell.execute_reply": "2022-06-17T12:17:15.441985Z"
    },
    "papermill": {
     "duration": 0.064194,
     "end_time": "2022-06-17T12:17:15.442176",
     "exception": false,
     "start_time": "2022-06-17T12:17:15.377982",
     "status": "completed"
    },
    "tags": []
   },
   "outputs": [
    {
     "data": {
      "text/html": [
       "<div>\n",
       "<style scoped>\n",
       "    .dataframe tbody tr th:only-of-type {\n",
       "        vertical-align: middle;\n",
       "    }\n",
       "\n",
       "    .dataframe tbody tr th {\n",
       "        vertical-align: top;\n",
       "    }\n",
       "\n",
       "    .dataframe thead th {\n",
       "        text-align: right;\n",
       "    }\n",
       "</style>\n",
       "<table border=\"1\" class=\"dataframe\">\n",
       "  <thead>\n",
       "    <tr style=\"text-align: right;\">\n",
       "      <th></th>\n",
       "      <th>Country/Region</th>\n",
       "      <th>Cases</th>\n",
       "      <th>Deaths</th>\n",
       "      <th>PCases</th>\n",
       "      <th>PDeaths</th>\n",
       "      <th>Cases (+)</th>\n",
       "      <th>Deaths (+)</th>\n",
       "      <th>Fatality Rate</th>\n",
       "      <th>Continent</th>\n",
       "    </tr>\n",
       "  </thead>\n",
       "  <tbody>\n",
       "    <tr>\n",
       "      <th>0</th>\n",
       "      <td>US</td>\n",
       "      <td>86058180</td>\n",
       "      <td>1012647</td>\n",
       "      <td>85941735</td>\n",
       "      <td>1012607</td>\n",
       "      <td>116445</td>\n",
       "      <td>40</td>\n",
       "      <td>1.2</td>\n",
       "      <td>North America</td>\n",
       "    </tr>\n",
       "    <tr>\n",
       "      <th>1</th>\n",
       "      <td>India</td>\n",
       "      <td>43270577</td>\n",
       "      <td>524817</td>\n",
       "      <td>43257730</td>\n",
       "      <td>524803</td>\n",
       "      <td>12847</td>\n",
       "      <td>14</td>\n",
       "      <td>1.2</td>\n",
       "      <td>Asia</td>\n",
       "    </tr>\n",
       "    <tr>\n",
       "      <th>2</th>\n",
       "      <td>Brazil</td>\n",
       "      <td>31611769</td>\n",
       "      <td>668693</td>\n",
       "      <td>31611769</td>\n",
       "      <td>668693</td>\n",
       "      <td>0</td>\n",
       "      <td>0</td>\n",
       "      <td>2.1</td>\n",
       "      <td>South America</td>\n",
       "    </tr>\n",
       "    <tr>\n",
       "      <th>3</th>\n",
       "      <td>France</td>\n",
       "      <td>30228615</td>\n",
       "      <td>150035</td>\n",
       "      <td>30175534</td>\n",
       "      <td>149986</td>\n",
       "      <td>53081</td>\n",
       "      <td>49</td>\n",
       "      <td>0.5</td>\n",
       "      <td>Europe</td>\n",
       "    </tr>\n",
       "    <tr>\n",
       "      <th>4</th>\n",
       "      <td>Germany</td>\n",
       "      <td>27124689</td>\n",
       "      <td>140118</td>\n",
       "      <td>27096571</td>\n",
       "      <td>140099</td>\n",
       "      <td>28118</td>\n",
       "      <td>19</td>\n",
       "      <td>0.5</td>\n",
       "      <td>Europe</td>\n",
       "    </tr>\n",
       "  </tbody>\n",
       "</table>\n",
       "</div>"
      ],
      "text/plain": [
       "  Country/Region     Cases   Deaths    PCases  PDeaths  Cases (+)  Deaths (+)  \\\n",
       "0             US  86058180  1012647  85941735  1012607     116445          40   \n",
       "1          India  43270577   524817  43257730   524803      12847          14   \n",
       "2         Brazil  31611769   668693  31611769   668693          0           0   \n",
       "3         France  30228615   150035  30175534   149986      53081          49   \n",
       "4        Germany  27124689   140118  27096571   140099      28118          19   \n",
       "\n",
       "   Fatality Rate      Continent  \n",
       "0            1.2  North America  \n",
       "1            1.2           Asia  \n",
       "2            2.1  South America  \n",
       "3            0.5         Europe  \n",
       "4            0.5         Europe  "
      ]
     },
     "execution_count": 15,
     "metadata": {},
     "output_type": "execute_result"
    }
   ],
   "source": [
    "#hide\n",
    "df_table = (pd.DataFrame(dict(Cases=dfc_cases, Deaths=dfc_deaths, PCases=dfp_cases, PDeaths=dfp_deaths))\n",
    "             .sort_values(by=['Cases', 'Deaths'], ascending=[False, False])\n",
    "             .reset_index())\n",
    "df_table.rename(columns={'index': 'Country/Region'}, inplace=True)\n",
    "for c in 'Cases, Deaths'.split(', '):\n",
    "    df_table[f'{c} (+)'] = (df_table[c] - df_table[f'P{c}']).clip(0)  # DATA BUG\n",
    "df_table['Fatality Rate'] = (100 * df_table['Deaths'] / df_table['Cases']).round(1)\n",
    "df_table['Continent'] = df_table['Country/Region'].map(mapping['map.continent'])\n",
    "df_table.head(5)"
   ]
  },
  {
   "cell_type": "code",
   "execution_count": 16,
   "id": "fewer-occasion",
   "metadata": {
    "execution": {
     "iopub.execute_input": "2022-06-17T12:17:15.518286Z",
     "iopub.status.busy": "2022-06-17T12:17:15.517580Z",
     "iopub.status.idle": "2022-06-17T12:17:15.520237Z",
     "shell.execute_reply": "2022-06-17T12:17:15.519583Z"
    },
    "papermill": {
     "duration": 0.042869,
     "end_time": "2022-06-17T12:17:15.520362",
     "exception": false,
     "start_time": "2022-06-17T12:17:15.477493",
     "status": "completed"
    },
    "tags": []
   },
   "outputs": [],
   "source": [
    "#hide\n",
    "#delete problematic countries from table\n",
    "df_table = df_table[~df_table['Country/Region'].isin(['Cape Verde', 'Cruise Ship', 'Kosovo'])]"
   ]
  },
  {
   "cell_type": "code",
   "execution_count": 17,
   "id": "related-center",
   "metadata": {
    "execution": {
     "iopub.execute_input": "2022-06-17T12:17:15.597720Z",
     "iopub.status.busy": "2022-06-17T12:17:15.597041Z",
     "iopub.status.idle": "2022-06-17T12:17:15.611024Z",
     "shell.execute_reply": "2022-06-17T12:17:15.610428Z"
    },
    "papermill": {
     "duration": 0.056585,
     "end_time": "2022-06-17T12:17:15.611167",
     "exception": false,
     "start_time": "2022-06-17T12:17:15.554582",
     "status": "completed"
    },
    "tags": []
   },
   "outputs": [],
   "source": [
    "#hide\n",
    "metrics = [df_table.columns[index] for index in [1,2,5,6]]\n",
    "# s_china = df_table[df_table['Country/Region'].eq('China')][metrics].sum().add_prefix('China ')\n",
    "s_us = df_table[df_table['Country/Region'].eq('US')][metrics].sum().add_prefix('US ')\n",
    "s_eu = df_table[df_table['Continent'].eq('Europe')][metrics].sum().add_prefix('EU ')\n",
    "s_ind = df_table[df_table['Country/Region'].eq('India')][metrics].sum().add_prefix('India ')\n",
    "summary = {'updated': pd.to_datetime(dt_today), 'since': pd.to_datetime(dt_yday)}\n",
    "summary = {'updated': pd.to_datetime(dt_today), 'since': pd.to_datetime(dt_yday)}\n",
    "summary = {**summary, **df_table[metrics].sum(), **s_ind, **s_us, **s_eu}"
   ]
  },
  {
   "cell_type": "code",
   "execution_count": 18,
   "id": "engaging-syndrome",
   "metadata": {
    "execution": {
     "iopub.execute_input": "2022-06-17T12:17:15.687584Z",
     "iopub.status.busy": "2022-06-17T12:17:15.686862Z",
     "iopub.status.idle": "2022-06-17T12:17:15.710241Z",
     "shell.execute_reply": "2022-06-17T12:17:15.709475Z"
    },
    "papermill": {
     "duration": 0.065008,
     "end_time": "2022-06-17T12:17:15.710410",
     "exception": false,
     "start_time": "2022-06-17T12:17:15.645402",
     "status": "completed"
    },
    "tags": []
   },
   "outputs": [],
   "source": [
    "#hide\n",
    "dft_ct_new_cases = dft_cases.groupby(COL_REGION)[dt_cols].sum().diff(axis=1).fillna(0).astype(int)"
   ]
  },
  {
   "cell_type": "code",
   "execution_count": 19,
   "id": "neutral-assignment",
   "metadata": {
    "execution": {
     "iopub.execute_input": "2022-06-17T12:17:15.786614Z",
     "iopub.status.busy": "2022-06-17T12:17:15.785910Z",
     "iopub.status.idle": "2022-06-17T12:17:15.788728Z",
     "shell.execute_reply": "2022-06-17T12:17:15.788170Z"
    },
    "papermill": {
     "duration": 0.044214,
     "end_time": "2022-06-17T12:17:15.788855",
     "exception": false,
     "start_time": "2022-06-17T12:17:15.744641",
     "status": "completed"
    },
    "tags": []
   },
   "outputs": [],
   "source": [
    "#hide\n",
    "everydaycases = dft_ct_new_cases.cumsum(axis=1)"
   ]
  },
  {
   "cell_type": "code",
   "execution_count": 20,
   "id": "parliamentary-calgary",
   "metadata": {
    "execution": {
     "iopub.execute_input": "2022-06-17T12:17:15.862587Z",
     "iopub.status.busy": "2022-06-17T12:17:15.861895Z",
     "iopub.status.idle": "2022-06-17T12:17:16.491833Z",
     "shell.execute_reply": "2022-06-17T12:17:16.492497Z"
    },
    "papermill": {
     "duration": 0.669351,
     "end_time": "2022-06-17T12:17:16.492656",
     "exception": false,
     "start_time": "2022-06-17T12:17:15.823305",
     "status": "completed"
    },
    "tags": []
   },
   "outputs": [],
   "source": [
    "#hide\n",
    "import pandas as pd\n",
    "import matplotlib.pyplot as plt\n",
    "import matplotlib.ticker as ticker\n",
    "import matplotlib.animation as animation\n",
    "from IPython.display import HTML"
   ]
  },
  {
   "cell_type": "code",
   "execution_count": 21,
   "id": "lasting-extraction",
   "metadata": {
    "execution": {
     "iopub.execute_input": "2022-06-17T12:17:16.573343Z",
     "iopub.status.busy": "2022-06-17T12:17:16.572644Z",
     "iopub.status.idle": "2022-06-17T12:17:16.580403Z",
     "shell.execute_reply": "2022-06-17T12:17:16.580959Z"
    },
    "papermill": {
     "duration": 0.053366,
     "end_time": "2022-06-17T12:17:16.581109",
     "exception": false,
     "start_time": "2022-06-17T12:17:16.527743",
     "status": "completed"
    },
    "tags": []
   },
   "outputs": [],
   "source": [
    "#hide\n",
    "t = everydaycases.stack()"
   ]
  },
  {
   "cell_type": "code",
   "execution_count": 22,
   "id": "premier-sleeve",
   "metadata": {
    "execution": {
     "iopub.execute_input": "2022-06-17T12:17:16.658040Z",
     "iopub.status.busy": "2022-06-17T12:17:16.657330Z",
     "iopub.status.idle": "2022-06-17T12:17:16.672081Z",
     "shell.execute_reply": "2022-06-17T12:17:16.671503Z"
    },
    "papermill": {
     "duration": 0.055225,
     "end_time": "2022-06-17T12:17:16.672213",
     "exception": false,
     "start_time": "2022-06-17T12:17:16.616988",
     "status": "completed"
    },
    "tags": []
   },
   "outputs": [],
   "source": [
    "#hide\n",
    "g = t.reset_index(['Country/Region'])"
   ]
  },
  {
   "cell_type": "code",
   "execution_count": 23,
   "id": "distributed-pittsburgh",
   "metadata": {
    "execution": {
     "iopub.execute_input": "2022-06-17T12:17:16.747246Z",
     "iopub.status.busy": "2022-06-17T12:17:16.746527Z",
     "iopub.status.idle": "2022-06-17T12:17:16.749441Z",
     "shell.execute_reply": "2022-06-17T12:17:16.748843Z"
    },
    "papermill": {
     "duration": 0.042488,
     "end_time": "2022-06-17T12:17:16.749571",
     "exception": false,
     "start_time": "2022-06-17T12:17:16.707083",
     "status": "completed"
    },
    "tags": []
   },
   "outputs": [],
   "source": [
    "#hide\n",
    "g.index.name = 'date'"
   ]
  },
  {
   "cell_type": "code",
   "execution_count": 24,
   "id": "naked-donor",
   "metadata": {
    "execution": {
     "iopub.execute_input": "2022-06-17T12:17:16.824496Z",
     "iopub.status.busy": "2022-06-17T12:17:16.823146Z",
     "iopub.status.idle": "2022-06-17T12:17:16.825309Z",
     "shell.execute_reply": "2022-06-17T12:17:16.825822Z"
    },
    "papermill": {
     "duration": 0.041048,
     "end_time": "2022-06-17T12:17:16.825979",
     "exception": false,
     "start_time": "2022-06-17T12:17:16.784931",
     "status": "completed"
    },
    "tags": []
   },
   "outputs": [],
   "source": [
    "# #hide\n",
    "# g = g.reset_index(['date'])"
   ]
  },
  {
   "cell_type": "code",
   "execution_count": 25,
   "id": "incomplete-mustang",
   "metadata": {
    "execution": {
     "iopub.execute_input": "2022-06-17T12:17:16.903942Z",
     "iopub.status.busy": "2022-06-17T12:17:16.902675Z",
     "iopub.status.idle": "2022-06-17T12:17:16.905238Z",
     "shell.execute_reply": "2022-06-17T12:17:16.906152Z"
    },
    "papermill": {
     "duration": 0.044463,
     "end_time": "2022-06-17T12:17:16.906388",
     "exception": false,
     "start_time": "2022-06-17T12:17:16.861925",
     "status": "completed"
    },
    "tags": []
   },
   "outputs": [],
   "source": [
    "#hide\n",
    "# g.head()"
   ]
  },
  {
   "cell_type": "code",
   "execution_count": 26,
   "id": "specific-kruger",
   "metadata": {
    "execution": {
     "iopub.execute_input": "2022-06-17T12:17:16.981232Z",
     "iopub.status.busy": "2022-06-17T12:17:16.980515Z",
     "iopub.status.idle": "2022-06-17T12:17:16.984417Z",
     "shell.execute_reply": "2022-06-17T12:17:16.984973Z"
    },
    "papermill": {
     "duration": 0.043587,
     "end_time": "2022-06-17T12:17:16.985122",
     "exception": false,
     "start_time": "2022-06-17T12:17:16.941535",
     "status": "completed"
    },
    "tags": []
   },
   "outputs": [],
   "source": [
    "#hide\n",
    "# g.columns = ['date','country','cases']"
   ]
  },
  {
   "cell_type": "code",
   "execution_count": 27,
   "id": "tender-conversion",
   "metadata": {
    "execution": {
     "iopub.execute_input": "2022-06-17T12:17:17.060645Z",
     "iopub.status.busy": "2022-06-17T12:17:17.059955Z",
     "iopub.status.idle": "2022-06-17T12:17:17.061277Z",
     "shell.execute_reply": "2022-06-17T12:17:17.061920Z"
    },
    "papermill": {
     "duration": 0.042162,
     "end_time": "2022-06-17T12:17:17.062066",
     "exception": false,
     "start_time": "2022-06-17T12:17:17.019904",
     "status": "completed"
    },
    "tags": []
   },
   "outputs": [],
   "source": [
    "#hide\n",
    "# g['continent'] = g.country"
   ]
  },
  {
   "cell_type": "code",
   "execution_count": 28,
   "id": "substantial-wilderness",
   "metadata": {
    "execution": {
     "iopub.execute_input": "2022-06-17T12:17:17.135463Z",
     "iopub.status.busy": "2022-06-17T12:17:17.134713Z",
     "iopub.status.idle": "2022-06-17T12:17:17.137423Z",
     "shell.execute_reply": "2022-06-17T12:17:17.138072Z"
    },
    "papermill": {
     "duration": 0.041645,
     "end_time": "2022-06-17T12:17:17.138221",
     "exception": false,
     "start_time": "2022-06-17T12:17:17.096576",
     "status": "completed"
    },
    "tags": []
   },
   "outputs": [],
   "source": [
    "#hide\n",
    "# cols = list(g.columns.values)"
   ]
  },
  {
   "cell_type": "code",
   "execution_count": 29,
   "id": "solved-farming",
   "metadata": {
    "execution": {
     "iopub.execute_input": "2022-06-17T12:17:17.211879Z",
     "iopub.status.busy": "2022-06-17T12:17:17.211158Z",
     "iopub.status.idle": "2022-06-17T12:17:17.213889Z",
     "shell.execute_reply": "2022-06-17T12:17:17.213331Z"
    },
    "papermill": {
     "duration": 0.040927,
     "end_time": "2022-06-17T12:17:17.214015",
     "exception": false,
     "start_time": "2022-06-17T12:17:17.173088",
     "status": "completed"
    },
    "tags": []
   },
   "outputs": [],
   "source": [
    "#hide\n",
    "# cols.insert(0, cols.pop())"
   ]
  },
  {
   "cell_type": "code",
   "execution_count": 30,
   "id": "executed-adoption",
   "metadata": {
    "execution": {
     "iopub.execute_input": "2022-06-17T12:17:17.291763Z",
     "iopub.status.busy": "2022-06-17T12:17:17.291059Z",
     "iopub.status.idle": "2022-06-17T12:17:17.294406Z",
     "shell.execute_reply": "2022-06-17T12:17:17.295077Z"
    },
    "papermill": {
     "duration": 0.043582,
     "end_time": "2022-06-17T12:17:17.295232",
     "exception": false,
     "start_time": "2022-06-17T12:17:17.251650",
     "status": "completed"
    },
    "tags": []
   },
   "outputs": [],
   "source": [
    "#hide\n",
    "# g = g[cols]"
   ]
  },
  {
   "cell_type": "code",
   "execution_count": 31,
   "id": "subject-dublin",
   "metadata": {
    "execution": {
     "iopub.execute_input": "2022-06-17T12:17:17.371137Z",
     "iopub.status.busy": "2022-06-17T12:17:17.369886Z",
     "iopub.status.idle": "2022-06-17T12:17:17.372464Z",
     "shell.execute_reply": "2022-06-17T12:17:17.373395Z"
    },
    "papermill": {
     "duration": 0.044521,
     "end_time": "2022-06-17T12:17:17.374178",
     "exception": false,
     "start_time": "2022-06-17T12:17:17.329657",
     "status": "completed"
    },
    "tags": []
   },
   "outputs": [],
   "source": [
    "#hide\n",
    "# g['continent'] = g['continent'].map(mapping['map.continent'])"
   ]
  },
  {
   "cell_type": "code",
   "execution_count": 32,
   "id": "freelance-scout",
   "metadata": {
    "execution": {
     "iopub.execute_input": "2022-06-17T12:17:17.451731Z",
     "iopub.status.busy": "2022-06-17T12:17:17.450440Z",
     "iopub.status.idle": "2022-06-17T12:17:17.453046Z",
     "shell.execute_reply": "2022-06-17T12:17:17.453958Z"
    },
    "papermill": {
     "duration": 0.044773,
     "end_time": "2022-06-17T12:17:17.454201",
     "exception": false,
     "start_time": "2022-06-17T12:17:17.409428",
     "status": "completed"
    },
    "tags": []
   },
   "outputs": [],
   "source": [
    "#hide\n",
    "# g.head()"
   ]
  },
  {
   "cell_type": "code",
   "execution_count": 33,
   "id": "limited-engine",
   "metadata": {
    "execution": {
     "iopub.execute_input": "2022-06-17T12:17:17.529170Z",
     "iopub.status.busy": "2022-06-17T12:17:17.528461Z",
     "iopub.status.idle": "2022-06-17T12:17:17.532650Z",
     "shell.execute_reply": "2022-06-17T12:17:17.533152Z"
    },
    "papermill": {
     "duration": 0.043975,
     "end_time": "2022-06-17T12:17:17.533306",
     "exception": false,
     "start_time": "2022-06-17T12:17:17.489331",
     "status": "completed"
    },
    "tags": []
   },
   "outputs": [],
   "source": [
    "# hide\n",
    "# g['date'] = g['date'].astype('datetime64[ns]')"
   ]
  },
  {
   "cell_type": "code",
   "execution_count": 34,
   "id": "sophisticated-supervisor",
   "metadata": {
    "execution": {
     "iopub.execute_input": "2022-06-17T12:17:17.609368Z",
     "iopub.status.busy": "2022-06-17T12:17:17.608670Z",
     "iopub.status.idle": "2022-06-17T12:17:17.611395Z",
     "shell.execute_reply": "2022-06-17T12:17:17.610703Z"
    },
    "papermill": {
     "duration": 0.043043,
     "end_time": "2022-06-17T12:17:17.611524",
     "exception": false,
     "start_time": "2022-06-17T12:17:17.568481",
     "status": "completed"
    },
    "tags": []
   },
   "outputs": [],
   "source": [
    "#hide\n",
    "# g['date'] = g.date.dt.dayofyear"
   ]
  },
  {
   "cell_type": "code",
   "execution_count": 35,
   "id": "inside-dubai",
   "metadata": {
    "execution": {
     "iopub.execute_input": "2022-06-17T12:17:17.685806Z",
     "iopub.status.busy": "2022-06-17T12:17:17.684845Z",
     "iopub.status.idle": "2022-06-17T12:17:17.686922Z",
     "shell.execute_reply": "2022-06-17T12:17:17.687701Z"
    },
    "papermill": {
     "duration": 0.042043,
     "end_time": "2022-06-17T12:17:17.687894",
     "exception": false,
     "start_time": "2022-06-17T12:17:17.645851",
     "status": "completed"
    },
    "tags": []
   },
   "outputs": [],
   "source": [
    "#hide\n",
    "# g = g.rename(columns= {'continent':'group','country':'name','cases':'value'})"
   ]
  },
  {
   "cell_type": "code",
   "execution_count": 36,
   "id": "fleet-motorcycle",
   "metadata": {
    "execution": {
     "iopub.execute_input": "2022-06-17T12:17:17.765025Z",
     "iopub.status.busy": "2022-06-17T12:17:17.763822Z",
     "iopub.status.idle": "2022-06-17T12:17:17.766310Z",
     "shell.execute_reply": "2022-06-17T12:17:17.767262Z"
    },
    "papermill": {
     "duration": 0.044242,
     "end_time": "2022-06-17T12:17:17.767503",
     "exception": false,
     "start_time": "2022-06-17T12:17:17.723261",
     "status": "completed"
    },
    "tags": []
   },
   "outputs": [],
   "source": [
    "#hide\n",
    "# cols = ['name','group','day','value']"
   ]
  },
  {
   "cell_type": "code",
   "execution_count": 37,
   "id": "continued-sleeping",
   "metadata": {
    "execution": {
     "iopub.execute_input": "2022-06-17T12:17:17.844935Z",
     "iopub.status.busy": "2022-06-17T12:17:17.844245Z",
     "iopub.status.idle": "2022-06-17T12:17:17.846868Z",
     "shell.execute_reply": "2022-06-17T12:17:17.846315Z"
    },
    "papermill": {
     "duration": 0.044282,
     "end_time": "2022-06-17T12:17:17.847030",
     "exception": false,
     "start_time": "2022-06-17T12:17:17.802748",
     "status": "completed"
    },
    "tags": []
   },
   "outputs": [],
   "source": [
    "#hide\n",
    "# g.rename(columns= {'date':'day'},inplace = True)"
   ]
  },
  {
   "cell_type": "code",
   "execution_count": 38,
   "id": "major-fight",
   "metadata": {
    "execution": {
     "iopub.execute_input": "2022-06-17T12:17:17.920848Z",
     "iopub.status.busy": "2022-06-17T12:17:17.920149Z",
     "iopub.status.idle": "2022-06-17T12:17:17.922751Z",
     "shell.execute_reply": "2022-06-17T12:17:17.922086Z"
    },
    "papermill": {
     "duration": 0.04117,
     "end_time": "2022-06-17T12:17:17.922882",
     "exception": false,
     "start_time": "2022-06-17T12:17:17.881712",
     "status": "completed"
    },
    "tags": []
   },
   "outputs": [],
   "source": [
    "#hide\n",
    "# g = g[cols]"
   ]
  },
  {
   "cell_type": "code",
   "execution_count": 39,
   "id": "structured-mobile",
   "metadata": {
    "execution": {
     "iopub.execute_input": "2022-06-17T12:17:17.996904Z",
     "iopub.status.busy": "2022-06-17T12:17:17.996161Z",
     "iopub.status.idle": "2022-06-17T12:17:18.000773Z",
     "shell.execute_reply": "2022-06-17T12:17:18.000197Z"
    },
    "papermill": {
     "duration": 0.043383,
     "end_time": "2022-06-17T12:17:18.000907",
     "exception": false,
     "start_time": "2022-06-17T12:17:17.957524",
     "status": "completed"
    },
    "tags": []
   },
   "outputs": [],
   "source": [
    "# #hide\n",
    "# g = g[g.group.notna()]"
   ]
  },
  {
   "cell_type": "code",
   "execution_count": 40,
   "id": "determined-closing",
   "metadata": {
    "execution": {
     "iopub.execute_input": "2022-06-17T12:17:18.075289Z",
     "iopub.status.busy": "2022-06-17T12:17:18.074522Z",
     "iopub.status.idle": "2022-06-17T12:17:18.078668Z",
     "shell.execute_reply": "2022-06-17T12:17:18.078111Z"
    },
    "papermill": {
     "duration": 0.043182,
     "end_time": "2022-06-17T12:17:18.078811",
     "exception": false,
     "start_time": "2022-06-17T12:17:18.035629",
     "status": "completed"
    },
    "tags": []
   },
   "outputs": [],
   "source": [
    "# #hide\n",
    "# colors = dict(zip(\n",
    "#     [\"Oceania\", \"Europe\", \"Asia\", \"South America\", \"Middle East\", \"North America\", \"Africa\"],\n",
    "#     [\"#adb0ff\", \"#ffb3ff\", \"#90d595\", \"#e48381\", \"#aafbff\", \"#f7bb5f\", \"#eafb50\"]\n",
    "# ))\n",
    "# group_lk = g.set_index('name')['group'].to_dict()"
   ]
  },
  {
   "cell_type": "code",
   "execution_count": null,
   "id": "gross-drinking",
   "metadata": {
    "papermill": {
     "duration": 0.036767,
     "end_time": "2022-06-17T12:17:18.150718",
     "exception": false,
     "start_time": "2022-06-17T12:17:18.113951",
     "status": "completed"
    },
    "tags": []
   },
   "outputs": [],
   "source": []
  },
  {
   "cell_type": "code",
   "execution_count": 41,
   "id": "subject-macintosh",
   "metadata": {
    "execution": {
     "iopub.execute_input": "2022-06-17T12:17:18.227761Z",
     "iopub.status.busy": "2022-06-17T12:17:18.227061Z",
     "iopub.status.idle": "2022-06-17T12:17:18.229967Z",
     "shell.execute_reply": "2022-06-17T12:17:18.229306Z"
    },
    "papermill": {
     "duration": 0.043087,
     "end_time": "2022-06-17T12:17:18.230094",
     "exception": false,
     "start_time": "2022-06-17T12:17:18.187007",
     "status": "completed"
    },
    "tags": []
   },
   "outputs": [],
   "source": [
    "# #hide\n",
    "# fig, ax = plt.subplots(figsize=(15, 8))\n",
    "\n",
    "# def draw_barchart(current_day):\n",
    "#     dff = g[g['day'].eq(current_day)].sort_values(by='value', ascending=True).tail(10)\n",
    "#     ax.clear()\n",
    "#     ax.barh(dff['name'], dff['value'], color=[colors[group_lk[x]] for x in dff['name']])\n",
    "#     dx = dff['value'].max() / 200\n",
    "    \n",
    "#     for i, (value, name) in enumerate(zip(dff['value'], dff['name'])):\n",
    "#         ax.text(value-dx, i,     name,           size=14, weight=600, ha='right', va='bottom')\n",
    "#         ax.text(value-dx, i-.25, group_lk[name], size=10, color='#444444', ha='right', va='baseline')\n",
    "#         ax.text(value+dx, i,     f'{value:,.0f}',  size=14, ha='left',  va='center')\n",
    "#     ax.text(1, 0.4, current_day, transform=ax.transAxes, color='#777777', size=46, ha='right', weight=800)\n",
    "#     ax.text(0, 1.06, 'Population (thousands)', transform=ax.transAxes, size=12, color='#777777')\n",
    "#     ax.xaxis.set_major_formatter(ticker.StrMethodFormatter('{x:,.0f}'))\n",
    "#     ax.xaxis.set_ticks_position('top')\n",
    "#     ax.tick_params(axis='x', colors='#777777', labelsize=12)\n",
    "#     ax.set_yticks([])\n",
    "#     ax.margins(0, 0.01)\n",
    "#     ax.grid(which='major', axis='x', linestyle='-')\n",
    "#     ax.set_axisbelow(True)\n",
    "    \n",
    "#     ax.text(0, 1.15, 'Coronavirus',\n",
    "#             transform=ax.transAxes, size=24, weight=600, ha='left', va='top')\n",
    "# #     ax.text(1, 0, 'by @pratapvardhan; credit @jburnmurdoch', transform=ax.transAxes, color='#777777', ha='right',\n",
    "# #             bbox=dict(facecolor='white', alpha=0.8, edgecolor='white'))\n",
    "#     plt.box(False)"
   ]
  },
  {
   "cell_type": "code",
   "execution_count": 42,
   "id": "sexual-wages",
   "metadata": {
    "execution": {
     "iopub.execute_input": "2022-06-17T12:17:18.307130Z",
     "iopub.status.busy": "2022-06-17T12:17:18.306196Z",
     "iopub.status.idle": "2022-06-17T12:17:18.307884Z",
     "shell.execute_reply": "2022-06-17T12:17:18.308397Z"
    },
    "papermill": {
     "duration": 0.043255,
     "end_time": "2022-06-17T12:17:18.308541",
     "exception": false,
     "start_time": "2022-06-17T12:17:18.265286",
     "status": "completed"
    },
    "tags": []
   },
   "outputs": [],
   "source": [
    "# #hide_input\n",
    "# fig, ax = plt.subplots(figsize=(15, 8))\n",
    "# animator = animation.FuncAnimation(fig, draw_barchart, frames=range(g.day.values.min(), g.day.values.max()))\n",
    "# HTML(animator.to_jshtml())\n",
    "# # or use animator.to_html5_video() or animator.save() "
   ]
  },
  {
   "cell_type": "code",
   "execution_count": null,
   "id": "australian-container",
   "metadata": {
    "papermill": {
     "duration": 0.034184,
     "end_time": "2022-06-17T12:17:18.377295",
     "exception": false,
     "start_time": "2022-06-17T12:17:18.343111",
     "status": "completed"
    },
    "tags": []
   },
   "outputs": [],
   "source": []
  },
  {
   "cell_type": "code",
   "execution_count": null,
   "id": "mediterranean-pontiac",
   "metadata": {
    "papermill": {
     "duration": 0.03422,
     "end_time": "2022-06-17T12:17:18.445748",
     "exception": false,
     "start_time": "2022-06-17T12:17:18.411528",
     "status": "completed"
    },
    "tags": []
   },
   "outputs": [],
   "source": []
  },
  {
   "cell_type": "code",
   "execution_count": null,
   "id": "aging-legislature",
   "metadata": {
    "papermill": {
     "duration": 0.034103,
     "end_time": "2022-06-17T12:17:18.514332",
     "exception": false,
     "start_time": "2022-06-17T12:17:18.480229",
     "status": "completed"
    },
    "tags": []
   },
   "outputs": [],
   "source": []
  }
 ],
 "metadata": {
  "kernelspec": {
   "display_name": "Python 3",
   "language": "python",
   "name": "python3"
  },
  "language_info": {
   "codemirror_mode": {
    "name": "ipython",
    "version": 3
   },
   "file_extension": ".py",
   "mimetype": "text/x-python",
   "name": "python",
   "nbconvert_exporter": "python",
   "pygments_lexer": "ipython3",
   "version": "3.6.15"
  },
  "papermill": {
   "duration": 7.214545,
   "end_time": "2022-06-17T12:17:18.968475",
   "environment_variables": {},
   "exception": null,
   "input_path": "2020-03-21-covid19exp.ipynb",
   "output_path": "2020-03-21-covid19exp.ipynb",
   "parameters": {},
   "start_time": "2022-06-17T12:17:11.753930",
   "version": "2.0.0"
  }
 },
 "nbformat": 4,
 "nbformat_minor": 5
}