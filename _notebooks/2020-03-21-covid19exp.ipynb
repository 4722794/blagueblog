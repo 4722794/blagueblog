{
 "cells": [
  {
   "cell_type": "markdown",
   "id": "muslim-click",
   "metadata": {
    "papermill": {
     "duration": 0.042838,
     "end_time": "2021-12-10T00:25:41.521924",
     "exception": false,
     "start_time": "2021-12-10T00:25:41.479086",
     "status": "completed"
    },
    "tags": []
   },
   "source": [
    "# COVID-19 Case Race\n",
    "> A race chart to see rising cases around the world\n",
    "\n",
    "- author: Hargun Oberoi\n",
    "- image: images/covid-overview.png\n",
    "- hide: false\n",
    "- badges: false"
   ]
  },
  {
   "cell_type": "code",
   "execution_count": 1,
   "id": "proof-material",
   "metadata": {
    "execution": {
     "iopub.execute_input": "2021-12-10T00:25:41.613071Z",
     "iopub.status.busy": "2021-12-10T00:25:41.612320Z",
     "iopub.status.idle": "2021-12-10T00:25:42.029961Z",
     "shell.execute_reply": "2021-12-10T00:25:42.029334Z"
    },
    "papermill": {
     "duration": 0.468869,
     "end_time": "2021-12-10T00:25:42.030120",
     "exception": false,
     "start_time": "2021-12-10T00:25:41.561251",
     "status": "completed"
    },
    "tags": []
   },
   "outputs": [],
   "source": [
    "#hide\n",
    "import numpy as np\n",
    "import pandas as pd\n",
    "from jinja2 import Template\n",
    "from IPython.display import HTML"
   ]
  },
  {
   "cell_type": "code",
   "execution_count": 2,
   "id": "developed-terminology",
   "metadata": {
    "execution": {
     "iopub.execute_input": "2021-12-10T00:25:42.109427Z",
     "iopub.status.busy": "2021-12-10T00:25:42.108789Z",
     "iopub.status.idle": "2021-12-10T00:25:42.110873Z",
     "shell.execute_reply": "2021-12-10T00:25:42.111366Z"
    },
    "papermill": {
     "duration": 0.043696,
     "end_time": "2021-12-10T00:25:42.111535",
     "exception": false,
     "start_time": "2021-12-10T00:25:42.067839",
     "status": "completed"
    },
    "tags": []
   },
   "outputs": [],
   "source": [
    "#hide\n",
    "\n",
    "# FETCH\n",
    "base_url = 'https://raw.githubusercontent.com/pratapvardhan/notebooks/master/covid19/'\n",
    "paths = {\n",
    "    'mapping': base_url + 'mapping_countries.csv',\n",
    "    'overview': base_url + 'overview.tpl'\n",
    "}"
   ]
  },
  {
   "cell_type": "code",
   "execution_count": 3,
   "id": "dynamic-saver",
   "metadata": {
    "execution": {
     "iopub.execute_input": "2021-12-10T00:25:42.211687Z",
     "iopub.status.busy": "2021-12-10T00:25:42.210981Z",
     "iopub.status.idle": "2021-12-10T00:25:42.216086Z",
     "shell.execute_reply": "2021-12-10T00:25:42.215499Z"
    },
    "papermill": {
     "duration": 0.066301,
     "end_time": "2021-12-10T00:25:42.216222",
     "exception": false,
     "start_time": "2021-12-10T00:25:42.149921",
     "status": "completed"
    },
    "tags": []
   },
   "outputs": [
    {
     "data": {
      "text/plain": [
       "'https://raw.githubusercontent.com/pratapvardhan/notebooks/master/covid19/mapping_countries.csv'"
      ]
     },
     "execution_count": 3,
     "metadata": {},
     "output_type": "execute_result"
    }
   ],
   "source": [
    "#hide\n",
    "paths['mapping']"
   ]
  },
  {
   "cell_type": "code",
   "execution_count": 4,
   "id": "urban-software",
   "metadata": {
    "execution": {
     "iopub.execute_input": "2021-12-10T00:25:42.301033Z",
     "iopub.status.busy": "2021-12-10T00:25:42.300353Z",
     "iopub.status.idle": "2021-12-10T00:25:42.302749Z",
     "shell.execute_reply": "2021-12-10T00:25:42.302090Z"
    },
    "papermill": {
     "duration": 0.047514,
     "end_time": "2021-12-10T00:25:42.302887",
     "exception": false,
     "start_time": "2021-12-10T00:25:42.255373",
     "status": "completed"
    },
    "tags": []
   },
   "outputs": [],
   "source": [
    "#hide\n",
    "def get_mappings(url):\n",
    "    df = pd.read_csv(url)\n",
    "    return {\n",
    "        'df': df,\n",
    "        'replace.country': dict(df.dropna(subset=['Name']).set_index('Country')['Name']),\n",
    "        'map.continent': dict(df.set_index('Name')['Continent'])\n",
    "    }"
   ]
  },
  {
   "cell_type": "code",
   "execution_count": 5,
   "id": "intimate-machinery",
   "metadata": {
    "execution": {
     "iopub.execute_input": "2021-12-10T00:25:42.400573Z",
     "iopub.status.busy": "2021-12-10T00:25:42.399859Z",
     "iopub.status.idle": "2021-12-10T00:25:42.441500Z",
     "shell.execute_reply": "2021-12-10T00:25:42.440952Z"
    },
    "papermill": {
     "duration": 0.087062,
     "end_time": "2021-12-10T00:25:42.441642",
     "exception": false,
     "start_time": "2021-12-10T00:25:42.354580",
     "status": "completed"
    },
    "tags": []
   },
   "outputs": [],
   "source": [
    "#hide\n",
    "mapping = get_mappings(paths['mapping'])"
   ]
  },
  {
   "cell_type": "code",
   "execution_count": 6,
   "id": "certified-tactics",
   "metadata": {
    "execution": {
     "iopub.execute_input": "2021-12-10T00:25:42.523356Z",
     "iopub.status.busy": "2021-12-10T00:25:42.522733Z",
     "iopub.status.idle": "2021-12-10T00:25:42.525265Z",
     "shell.execute_reply": "2021-12-10T00:25:42.524764Z"
    },
    "papermill": {
     "duration": 0.045247,
     "end_time": "2021-12-10T00:25:42.525386",
     "exception": false,
     "start_time": "2021-12-10T00:25:42.480139",
     "status": "completed"
    },
    "tags": []
   },
   "outputs": [],
   "source": [
    "#hide\n",
    "def get_template(path):\n",
    "    from urllib.parse import urlparse\n",
    "    if bool(urlparse(path).netloc):\n",
    "        from urllib.request import urlopen\n",
    "        return urlopen(path).read().decode('utf8')\n",
    "    return open(path).read()"
   ]
  },
  {
   "cell_type": "code",
   "execution_count": 7,
   "id": "realistic-blast",
   "metadata": {
    "execution": {
     "iopub.execute_input": "2021-12-10T00:25:42.605166Z",
     "iopub.status.busy": "2021-12-10T00:25:42.604528Z",
     "iopub.status.idle": "2021-12-10T00:25:42.607073Z",
     "shell.execute_reply": "2021-12-10T00:25:42.606521Z"
    },
    "papermill": {
     "duration": 0.045109,
     "end_time": "2021-12-10T00:25:42.607201",
     "exception": false,
     "start_time": "2021-12-10T00:25:42.562092",
     "status": "completed"
    },
    "tags": []
   },
   "outputs": [],
   "source": [
    "#hide\n",
    "def get_frame(name):\n",
    "    url = (\n",
    "        'https://raw.githubusercontent.com/CSSEGISandData/COVID-19/master/csse_covid_19_data/'\n",
    "        f'csse_covid_19_time_series/time_series_covid19_{name}_global.csv')\n",
    "    df = pd.read_csv(url)\n",
    "    # rename countries\n",
    "    df['Country/Region'] = df['Country/Region'].replace(mapping['replace.country'])\n",
    "    return df"
   ]
  },
  {
   "cell_type": "code",
   "execution_count": 8,
   "id": "affiliated-characterization",
   "metadata": {
    "execution": {
     "iopub.execute_input": "2021-12-10T00:25:42.685061Z",
     "iopub.status.busy": "2021-12-10T00:25:42.684409Z",
     "iopub.status.idle": "2021-12-10T00:25:42.686709Z",
     "shell.execute_reply": "2021-12-10T00:25:42.687272Z"
    },
    "papermill": {
     "duration": 0.043649,
     "end_time": "2021-12-10T00:25:42.687412",
     "exception": false,
     "start_time": "2021-12-10T00:25:42.643763",
     "status": "completed"
    },
    "tags": []
   },
   "outputs": [],
   "source": [
    "#hide\n",
    "def get_dates(df):\n",
    "    dt_cols = df.columns[~df.columns.isin(['Province/State', 'Country/Region', 'Lat', 'Long'])]\n",
    "    LAST_DATE_I = -1\n",
    "    # sometimes last column may be empty, then go backwards\n",
    "    for i in range(-1, -len(dt_cols), -1):\n",
    "        if not df[dt_cols[i]].fillna(0).eq(0).all():\n",
    "            LAST_DATE_I = i\n",
    "            break\n",
    "    return LAST_DATE_I, dt_cols"
   ]
  },
  {
   "cell_type": "code",
   "execution_count": 9,
   "id": "recent-optimization",
   "metadata": {
    "execution": {
     "iopub.execute_input": "2021-12-10T00:25:42.766248Z",
     "iopub.status.busy": "2021-12-10T00:25:42.765517Z",
     "iopub.status.idle": "2021-12-10T00:25:43.196295Z",
     "shell.execute_reply": "2021-12-10T00:25:43.195699Z"
    },
    "papermill": {
     "duration": 0.473616,
     "end_time": "2021-12-10T00:25:43.196450",
     "exception": false,
     "start_time": "2021-12-10T00:25:42.722834",
     "status": "completed"
    },
    "tags": []
   },
   "outputs": [],
   "source": [
    "#hide\n",
    "COL_REGION = 'Country/Region'\n",
    "# Confirmed, Recovered, Deaths\n",
    "df = get_frame('confirmed')\n",
    "# dft_: timeseries, dfc_: today country agg\n",
    "dft_cases = df\n",
    "dft_deaths = get_frame('deaths')\n",
    "dft_recovered = get_frame('recovered')\n",
    "LAST_DATE_I, dt_cols = get_dates(df)"
   ]
  },
  {
   "cell_type": "code",
   "execution_count": 10,
   "id": "absolute-copper",
   "metadata": {
    "execution": {
     "iopub.execute_input": "2021-12-10T00:25:43.284290Z",
     "iopub.status.busy": "2021-12-10T00:25:43.283276Z",
     "iopub.status.idle": "2021-12-10T00:25:43.285592Z",
     "shell.execute_reply": "2021-12-10T00:25:43.286244Z"
    },
    "papermill": {
     "duration": 0.052933,
     "end_time": "2021-12-10T00:25:43.286408",
     "exception": false,
     "start_time": "2021-12-10T00:25:43.233475",
     "status": "completed"
    },
    "tags": []
   },
   "outputs": [],
   "source": [
    "#hide\n",
    "LAST_DATE_I, dt_cols = get_dates(df)\n",
    "dt_today =dt_cols[LAST_DATE_I]\n",
    "# dt_5day = dt_cols[LAST_DATE_I - 5]\n",
    "dt_yday = dt_cols[LAST_DATE_I - 1]"
   ]
  },
  {
   "cell_type": "code",
   "execution_count": 11,
   "id": "restricted-sheriff",
   "metadata": {
    "execution": {
     "iopub.execute_input": "2021-12-10T00:25:43.399755Z",
     "iopub.status.busy": "2021-12-10T00:25:43.399040Z",
     "iopub.status.idle": "2021-12-10T00:25:43.402857Z",
     "shell.execute_reply": "2021-12-10T00:25:43.403381Z"
    },
    "papermill": {
     "duration": 0.066108,
     "end_time": "2021-12-10T00:25:43.403534",
     "exception": false,
     "start_time": "2021-12-10T00:25:43.337426",
     "status": "completed"
    },
    "tags": []
   },
   "outputs": [],
   "source": [
    "#hide\n",
    "dfc_cases = dft_cases.groupby(COL_REGION)[dt_today].sum()\n",
    "dfc_deaths = dft_deaths.groupby(COL_REGION)[dt_today].sum()\n",
    "# dfp_cases = dft_cases.groupby(COL_REGION)[dt_5day].sum()\n",
    "# dfp_deaths = dft_deaths.groupby(COL_REGION)[dt_5day].sum()\n",
    "dfp_cases = dft_cases.groupby(COL_REGION)[dt_yday].sum()\n",
    "dfp_deaths = dft_deaths.groupby(COL_REGION)[dt_yday].sum()"
   ]
  },
  {
   "cell_type": "code",
   "execution_count": 12,
   "id": "deluxe-hepatitis",
   "metadata": {
    "execution": {
     "iopub.execute_input": "2021-12-10T00:25:43.483603Z",
     "iopub.status.busy": "2021-12-10T00:25:43.482982Z",
     "iopub.status.idle": "2021-12-10T00:25:43.488436Z",
     "shell.execute_reply": "2021-12-10T00:25:43.487906Z"
    },
    "papermill": {
     "duration": 0.04813,
     "end_time": "2021-12-10T00:25:43.488566",
     "exception": false,
     "start_time": "2021-12-10T00:25:43.440436",
     "status": "completed"
    },
    "tags": []
   },
   "outputs": [],
   "source": [
    "#hide\n",
    "df_table = (pd.DataFrame(dict(Cases = dfc_cases, Deaths = dfc_deaths, PCases = dfp_cases, PDeaths = dfp_deaths))\n",
    "            .sort_values(by = ['Cases','Deaths'], ascending = [False, False])\n",
    "            .reset_index())"
   ]
  },
  {
   "cell_type": "code",
   "execution_count": 13,
   "id": "educational-chancellor",
   "metadata": {
    "execution": {
     "iopub.execute_input": "2021-12-10T00:25:43.583235Z",
     "iopub.status.busy": "2021-12-10T00:25:43.582576Z",
     "iopub.status.idle": "2021-12-10T00:25:43.591399Z",
     "shell.execute_reply": "2021-12-10T00:25:43.590877Z"
    },
    "papermill": {
     "duration": 0.066069,
     "end_time": "2021-12-10T00:25:43.591530",
     "exception": false,
     "start_time": "2021-12-10T00:25:43.525461",
     "status": "completed"
    },
    "tags": []
   },
   "outputs": [
    {
     "data": {
      "text/html": [
       "<div>\n",
       "<style scoped>\n",
       "    .dataframe tbody tr th:only-of-type {\n",
       "        vertical-align: middle;\n",
       "    }\n",
       "\n",
       "    .dataframe tbody tr th {\n",
       "        vertical-align: top;\n",
       "    }\n",
       "\n",
       "    .dataframe thead th {\n",
       "        text-align: right;\n",
       "    }\n",
       "</style>\n",
       "<table border=\"1\" class=\"dataframe\">\n",
       "  <thead>\n",
       "    <tr style=\"text-align: right;\">\n",
       "      <th></th>\n",
       "      <th>Country/Region</th>\n",
       "      <th>Cases</th>\n",
       "      <th>Deaths</th>\n",
       "      <th>PCases</th>\n",
       "      <th>PDeaths</th>\n",
       "      <th>Cases (+)</th>\n",
       "      <th>Deaths (+)</th>\n",
       "      <th>Fatality Rate</th>\n",
       "      <th>Continent</th>\n",
       "    </tr>\n",
       "  </thead>\n",
       "  <tbody>\n",
       "    <tr>\n",
       "      <th>0</th>\n",
       "      <td>US</td>\n",
       "      <td>49543526</td>\n",
       "      <td>793230</td>\n",
       "      <td>49394125</td>\n",
       "      <td>791516</td>\n",
       "      <td>149401</td>\n",
       "      <td>1714</td>\n",
       "      <td>1.60</td>\n",
       "      <td>North America</td>\n",
       "    </tr>\n",
       "    <tr>\n",
       "      <th>1</th>\n",
       "      <td>India</td>\n",
       "      <td>34666241</td>\n",
       "      <td>474111</td>\n",
       "      <td>34656822</td>\n",
       "      <td>473952</td>\n",
       "      <td>9419</td>\n",
       "      <td>159</td>\n",
       "      <td>1.37</td>\n",
       "      <td>Asia</td>\n",
       "    </tr>\n",
       "    <tr>\n",
       "      <th>2</th>\n",
       "      <td>Brazil</td>\n",
       "      <td>22167781</td>\n",
       "      <td>616251</td>\n",
       "      <td>22157726</td>\n",
       "      <td>616018</td>\n",
       "      <td>10055</td>\n",
       "      <td>233</td>\n",
       "      <td>2.78</td>\n",
       "      <td>South America</td>\n",
       "    </tr>\n",
       "    <tr>\n",
       "      <th>3</th>\n",
       "      <td>United Kingdom</td>\n",
       "      <td>10671538</td>\n",
       "      <td>146444</td>\n",
       "      <td>10620535</td>\n",
       "      <td>146281</td>\n",
       "      <td>51003</td>\n",
       "      <td>163</td>\n",
       "      <td>1.37</td>\n",
       "      <td>Europe</td>\n",
       "    </tr>\n",
       "    <tr>\n",
       "      <th>4</th>\n",
       "      <td>Russia</td>\n",
       "      <td>9722639</td>\n",
       "      <td>279280</td>\n",
       "      <td>9692411</td>\n",
       "      <td>278131</td>\n",
       "      <td>30228</td>\n",
       "      <td>1149</td>\n",
       "      <td>2.87</td>\n",
       "      <td>Europe</td>\n",
       "    </tr>\n",
       "  </tbody>\n",
       "</table>\n",
       "</div>"
      ],
      "text/plain": [
       "   Country/Region     Cases  Deaths    PCases  PDeaths  Cases (+)  Deaths (+)  \\\n",
       "0              US  49543526  793230  49394125   791516     149401        1714   \n",
       "1           India  34666241  474111  34656822   473952       9419         159   \n",
       "2          Brazil  22167781  616251  22157726   616018      10055         233   \n",
       "3  United Kingdom  10671538  146444  10620535   146281      51003         163   \n",
       "4          Russia   9722639  279280   9692411   278131      30228        1149   \n",
       "\n",
       "   Fatality Rate      Continent  \n",
       "0           1.60  North America  \n",
       "1           1.37           Asia  \n",
       "2           2.78  South America  \n",
       "3           1.37         Europe  \n",
       "4           2.87         Europe  "
      ]
     },
     "execution_count": 13,
     "metadata": {},
     "output_type": "execute_result"
    }
   ],
   "source": [
    "#hide\n",
    "for c in 'Cases, Deaths'.split(', '):\n",
    "    df_table[f'{c} (+)'] = (df_table[c] - df_table[f'P{c}']).clip(0)\n",
    "    #Clip ça veut dire, les chiffres negatif sont interdit\n",
    "df_table['Fatality Rate'] = (100* df_table['Deaths']/ df_table['Cases']).round(2)\n",
    "df_table['Continent'] = df_table['Country/Region'].map(mapping['map.continent'])\n",
    "df_table.head(5)"
   ]
  },
  {
   "cell_type": "code",
   "execution_count": 14,
   "id": "aboriginal-bulgaria",
   "metadata": {
    "execution": {
     "iopub.execute_input": "2021-12-10T00:25:43.668297Z",
     "iopub.status.busy": "2021-12-10T00:25:43.667645Z",
     "iopub.status.idle": "2021-12-10T00:25:43.670279Z",
     "shell.execute_reply": "2021-12-10T00:25:43.669550Z"
    },
    "papermill": {
     "duration": 0.043658,
     "end_time": "2021-12-10T00:25:43.670407",
     "exception": false,
     "start_time": "2021-12-10T00:25:43.626749",
     "status": "completed"
    },
    "tags": []
   },
   "outputs": [],
   "source": [
    "#hide\n",
    "#delete problematic countries from table\n",
    "df_table = df_table[~df_table['Country/Region'].isin(['Cape Verde', 'Cruise Ship', 'Kosovo'])]"
   ]
  },
  {
   "cell_type": "code",
   "execution_count": 15,
   "id": "fantastic-effect",
   "metadata": {
    "execution": {
     "iopub.execute_input": "2021-12-10T00:25:43.751341Z",
     "iopub.status.busy": "2021-12-10T00:25:43.750664Z",
     "iopub.status.idle": "2021-12-10T00:25:43.772775Z",
     "shell.execute_reply": "2021-12-10T00:25:43.773247Z"
    },
    "papermill": {
     "duration": 0.066732,
     "end_time": "2021-12-10T00:25:43.773395",
     "exception": false,
     "start_time": "2021-12-10T00:25:43.706663",
     "status": "completed"
    },
    "tags": []
   },
   "outputs": [
    {
     "data": {
      "text/html": [
       "<div>\n",
       "<style scoped>\n",
       "    .dataframe tbody tr th:only-of-type {\n",
       "        vertical-align: middle;\n",
       "    }\n",
       "\n",
       "    .dataframe tbody tr th {\n",
       "        vertical-align: top;\n",
       "    }\n",
       "\n",
       "    .dataframe thead th {\n",
       "        text-align: right;\n",
       "    }\n",
       "</style>\n",
       "<table border=\"1\" class=\"dataframe\">\n",
       "  <thead>\n",
       "    <tr style=\"text-align: right;\">\n",
       "      <th></th>\n",
       "      <th>Country/Region</th>\n",
       "      <th>Cases</th>\n",
       "      <th>Deaths</th>\n",
       "      <th>PCases</th>\n",
       "      <th>PDeaths</th>\n",
       "      <th>Cases (+)</th>\n",
       "      <th>Deaths (+)</th>\n",
       "      <th>Fatality Rate</th>\n",
       "      <th>Continent</th>\n",
       "    </tr>\n",
       "  </thead>\n",
       "  <tbody>\n",
       "    <tr>\n",
       "      <th>0</th>\n",
       "      <td>US</td>\n",
       "      <td>49543526</td>\n",
       "      <td>793230</td>\n",
       "      <td>49394125</td>\n",
       "      <td>791516</td>\n",
       "      <td>149401</td>\n",
       "      <td>1714</td>\n",
       "      <td>1.6</td>\n",
       "      <td>North America</td>\n",
       "    </tr>\n",
       "    <tr>\n",
       "      <th>1</th>\n",
       "      <td>India</td>\n",
       "      <td>34666241</td>\n",
       "      <td>474111</td>\n",
       "      <td>34656822</td>\n",
       "      <td>473952</td>\n",
       "      <td>9419</td>\n",
       "      <td>159</td>\n",
       "      <td>1.4</td>\n",
       "      <td>Asia</td>\n",
       "    </tr>\n",
       "    <tr>\n",
       "      <th>2</th>\n",
       "      <td>Brazil</td>\n",
       "      <td>22167781</td>\n",
       "      <td>616251</td>\n",
       "      <td>22157726</td>\n",
       "      <td>616018</td>\n",
       "      <td>10055</td>\n",
       "      <td>233</td>\n",
       "      <td>2.8</td>\n",
       "      <td>South America</td>\n",
       "    </tr>\n",
       "    <tr>\n",
       "      <th>3</th>\n",
       "      <td>United Kingdom</td>\n",
       "      <td>10671538</td>\n",
       "      <td>146444</td>\n",
       "      <td>10620535</td>\n",
       "      <td>146281</td>\n",
       "      <td>51003</td>\n",
       "      <td>163</td>\n",
       "      <td>1.4</td>\n",
       "      <td>Europe</td>\n",
       "    </tr>\n",
       "    <tr>\n",
       "      <th>4</th>\n",
       "      <td>Russia</td>\n",
       "      <td>9722639</td>\n",
       "      <td>279280</td>\n",
       "      <td>9692411</td>\n",
       "      <td>278131</td>\n",
       "      <td>30228</td>\n",
       "      <td>1149</td>\n",
       "      <td>2.9</td>\n",
       "      <td>Europe</td>\n",
       "    </tr>\n",
       "  </tbody>\n",
       "</table>\n",
       "</div>"
      ],
      "text/plain": [
       "   Country/Region     Cases  Deaths    PCases  PDeaths  Cases (+)  Deaths (+)  \\\n",
       "0              US  49543526  793230  49394125   791516     149401        1714   \n",
       "1           India  34666241  474111  34656822   473952       9419         159   \n",
       "2          Brazil  22167781  616251  22157726   616018      10055         233   \n",
       "3  United Kingdom  10671538  146444  10620535   146281      51003         163   \n",
       "4          Russia   9722639  279280   9692411   278131      30228        1149   \n",
       "\n",
       "   Fatality Rate      Continent  \n",
       "0            1.6  North America  \n",
       "1            1.4           Asia  \n",
       "2            2.8  South America  \n",
       "3            1.4         Europe  \n",
       "4            2.9         Europe  "
      ]
     },
     "execution_count": 15,
     "metadata": {},
     "output_type": "execute_result"
    }
   ],
   "source": [
    "#hide\n",
    "df_table = (pd.DataFrame(dict(Cases=dfc_cases, Deaths=dfc_deaths, PCases=dfp_cases, PDeaths=dfp_deaths))\n",
    "             .sort_values(by=['Cases', 'Deaths'], ascending=[False, False])\n",
    "             .reset_index())\n",
    "df_table.rename(columns={'index': 'Country/Region'}, inplace=True)\n",
    "for c in 'Cases, Deaths'.split(', '):\n",
    "    df_table[f'{c} (+)'] = (df_table[c] - df_table[f'P{c}']).clip(0)  # DATA BUG\n",
    "df_table['Fatality Rate'] = (100 * df_table['Deaths'] / df_table['Cases']).round(1)\n",
    "df_table['Continent'] = df_table['Country/Region'].map(mapping['map.continent'])\n",
    "df_table.head(5)"
   ]
  },
  {
   "cell_type": "code",
   "execution_count": 16,
   "id": "fewer-occasion",
   "metadata": {
    "execution": {
     "iopub.execute_input": "2021-12-10T00:25:43.854608Z",
     "iopub.status.busy": "2021-12-10T00:25:43.853978Z",
     "iopub.status.idle": "2021-12-10T00:25:43.856436Z",
     "shell.execute_reply": "2021-12-10T00:25:43.855696Z"
    },
    "papermill": {
     "duration": 0.046135,
     "end_time": "2021-12-10T00:25:43.856580",
     "exception": false,
     "start_time": "2021-12-10T00:25:43.810445",
     "status": "completed"
    },
    "tags": []
   },
   "outputs": [],
   "source": [
    "#hide\n",
    "#delete problematic countries from table\n",
    "df_table = df_table[~df_table['Country/Region'].isin(['Cape Verde', 'Cruise Ship', 'Kosovo'])]"
   ]
  },
  {
   "cell_type": "code",
   "execution_count": 17,
   "id": "related-center",
   "metadata": {
    "execution": {
     "iopub.execute_input": "2021-12-10T00:25:43.950242Z",
     "iopub.status.busy": "2021-12-10T00:25:43.949606Z",
     "iopub.status.idle": "2021-12-10T00:25:43.952090Z",
     "shell.execute_reply": "2021-12-10T00:25:43.951265Z"
    },
    "papermill": {
     "duration": 0.058442,
     "end_time": "2021-12-10T00:25:43.952218",
     "exception": false,
     "start_time": "2021-12-10T00:25:43.893776",
     "status": "completed"
    },
    "tags": []
   },
   "outputs": [],
   "source": [
    "#hide\n",
    "metrics = [df_table.columns[index] for index in [1,2,5,6]]\n",
    "# s_china = df_table[df_table['Country/Region'].eq('China')][metrics].sum().add_prefix('China ')\n",
    "s_us = df_table[df_table['Country/Region'].eq('US')][metrics].sum().add_prefix('US ')\n",
    "s_eu = df_table[df_table['Continent'].eq('Europe')][metrics].sum().add_prefix('EU ')\n",
    "s_ind = df_table[df_table['Country/Region'].eq('India')][metrics].sum().add_prefix('India ')\n",
    "summary = {'updated': pd.to_datetime(dt_today), 'since': pd.to_datetime(dt_yday)}\n",
    "summary = {'updated': pd.to_datetime(dt_today), 'since': pd.to_datetime(dt_yday)}\n",
    "summary = {**summary, **df_table[metrics].sum(), **s_ind, **s_us, **s_eu}"
   ]
  },
  {
   "cell_type": "code",
   "execution_count": 18,
   "id": "engaging-syndrome",
   "metadata": {
    "execution": {
     "iopub.execute_input": "2021-12-10T00:25:44.034712Z",
     "iopub.status.busy": "2021-12-10T00:25:44.034054Z",
     "iopub.status.idle": "2021-12-10T00:25:44.048167Z",
     "shell.execute_reply": "2021-12-10T00:25:44.048611Z"
    },
    "papermill": {
     "duration": 0.056873,
     "end_time": "2021-12-10T00:25:44.048757",
     "exception": false,
     "start_time": "2021-12-10T00:25:43.991884",
     "status": "completed"
    },
    "tags": []
   },
   "outputs": [],
   "source": [
    "#hide\n",
    "dft_ct_new_cases = dft_cases.groupby(COL_REGION)[dt_cols].sum().diff(axis=1).fillna(0).astype(int)"
   ]
  },
  {
   "cell_type": "code",
   "execution_count": 19,
   "id": "neutral-assignment",
   "metadata": {
    "execution": {
     "iopub.execute_input": "2021-12-10T00:25:44.130358Z",
     "iopub.status.busy": "2021-12-10T00:25:44.129701Z",
     "iopub.status.idle": "2021-12-10T00:25:44.132239Z",
     "shell.execute_reply": "2021-12-10T00:25:44.131628Z"
    },
    "papermill": {
     "duration": 0.045985,
     "end_time": "2021-12-10T00:25:44.132366",
     "exception": false,
     "start_time": "2021-12-10T00:25:44.086381",
     "status": "completed"
    },
    "tags": []
   },
   "outputs": [],
   "source": [
    "#hide\n",
    "everydaycases = dft_ct_new_cases.cumsum(axis=1)"
   ]
  },
  {
   "cell_type": "code",
   "execution_count": 20,
   "id": "parliamentary-calgary",
   "metadata": {
    "execution": {
     "iopub.execute_input": "2021-12-10T00:25:44.215016Z",
     "iopub.status.busy": "2021-12-10T00:25:44.211253Z",
     "iopub.status.idle": "2021-12-10T00:25:44.892561Z",
     "shell.execute_reply": "2021-12-10T00:25:44.891851Z"
    },
    "papermill": {
     "duration": 0.723283,
     "end_time": "2021-12-10T00:25:44.892704",
     "exception": false,
     "start_time": "2021-12-10T00:25:44.169421",
     "status": "completed"
    },
    "tags": []
   },
   "outputs": [],
   "source": [
    "#hide\n",
    "import pandas as pd\n",
    "import matplotlib.pyplot as plt\n",
    "import matplotlib.ticker as ticker\n",
    "import matplotlib.animation as animation\n",
    "from IPython.display import HTML"
   ]
  },
  {
   "cell_type": "code",
   "execution_count": 21,
   "id": "lasting-extraction",
   "metadata": {
    "execution": {
     "iopub.execute_input": "2021-12-10T00:25:44.975101Z",
     "iopub.status.busy": "2021-12-10T00:25:44.974494Z",
     "iopub.status.idle": "2021-12-10T00:25:44.980358Z",
     "shell.execute_reply": "2021-12-10T00:25:44.980831Z"
    },
    "papermill": {
     "duration": 0.050015,
     "end_time": "2021-12-10T00:25:44.981001",
     "exception": false,
     "start_time": "2021-12-10T00:25:44.930986",
     "status": "completed"
    },
    "tags": []
   },
   "outputs": [],
   "source": [
    "#hide\n",
    "t = everydaycases.stack()"
   ]
  },
  {
   "cell_type": "code",
   "execution_count": 22,
   "id": "premier-sleeve",
   "metadata": {
    "execution": {
     "iopub.execute_input": "2021-12-10T00:25:45.060913Z",
     "iopub.status.busy": "2021-12-10T00:25:45.060287Z",
     "iopub.status.idle": "2021-12-10T00:25:45.070884Z",
     "shell.execute_reply": "2021-12-10T00:25:45.071436Z"
    },
    "papermill": {
     "duration": 0.053178,
     "end_time": "2021-12-10T00:25:45.071590",
     "exception": false,
     "start_time": "2021-12-10T00:25:45.018412",
     "status": "completed"
    },
    "tags": []
   },
   "outputs": [],
   "source": [
    "#hide\n",
    "g = t.reset_index(['Country/Region'])"
   ]
  },
  {
   "cell_type": "code",
   "execution_count": 23,
   "id": "distributed-pittsburgh",
   "metadata": {
    "execution": {
     "iopub.execute_input": "2021-12-10T00:25:45.150796Z",
     "iopub.status.busy": "2021-12-10T00:25:45.150125Z",
     "iopub.status.idle": "2021-12-10T00:25:45.152574Z",
     "shell.execute_reply": "2021-12-10T00:25:45.151972Z"
    },
    "papermill": {
     "duration": 0.043077,
     "end_time": "2021-12-10T00:25:45.152706",
     "exception": false,
     "start_time": "2021-12-10T00:25:45.109629",
     "status": "completed"
    },
    "tags": []
   },
   "outputs": [],
   "source": [
    "#hide\n",
    "g.index.name = 'date'"
   ]
  },
  {
   "cell_type": "code",
   "execution_count": 24,
   "id": "naked-donor",
   "metadata": {
    "execution": {
     "iopub.execute_input": "2021-12-10T00:25:45.229538Z",
     "iopub.status.busy": "2021-12-10T00:25:45.228934Z",
     "iopub.status.idle": "2021-12-10T00:25:45.232596Z",
     "shell.execute_reply": "2021-12-10T00:25:45.233092Z"
    },
    "papermill": {
     "duration": 0.044268,
     "end_time": "2021-12-10T00:25:45.233236",
     "exception": false,
     "start_time": "2021-12-10T00:25:45.188968",
     "status": "completed"
    },
    "tags": []
   },
   "outputs": [],
   "source": [
    "# #hide\n",
    "# g = g.reset_index(['date'])"
   ]
  },
  {
   "cell_type": "code",
   "execution_count": 25,
   "id": "incomplete-mustang",
   "metadata": {
    "execution": {
     "iopub.execute_input": "2021-12-10T00:25:45.314225Z",
     "iopub.status.busy": "2021-12-10T00:25:45.313548Z",
     "iopub.status.idle": "2021-12-10T00:25:45.316124Z",
     "shell.execute_reply": "2021-12-10T00:25:45.315597Z"
    },
    "papermill": {
     "duration": 0.044276,
     "end_time": "2021-12-10T00:25:45.316264",
     "exception": false,
     "start_time": "2021-12-10T00:25:45.271988",
     "status": "completed"
    },
    "tags": []
   },
   "outputs": [],
   "source": [
    "#hide\n",
    "# g.head()"
   ]
  },
  {
   "cell_type": "code",
   "execution_count": 26,
   "id": "specific-kruger",
   "metadata": {
    "execution": {
     "iopub.execute_input": "2021-12-10T00:25:45.395909Z",
     "iopub.status.busy": "2021-12-10T00:25:45.394871Z",
     "iopub.status.idle": "2021-12-10T00:25:45.397375Z",
     "shell.execute_reply": "2021-12-10T00:25:45.397883Z"
    },
    "papermill": {
     "duration": 0.045079,
     "end_time": "2021-12-10T00:25:45.398043",
     "exception": false,
     "start_time": "2021-12-10T00:25:45.352964",
     "status": "completed"
    },
    "tags": []
   },
   "outputs": [],
   "source": [
    "#hide\n",
    "# g.columns = ['date','country','cases']"
   ]
  },
  {
   "cell_type": "code",
   "execution_count": 27,
   "id": "tender-conversion",
   "metadata": {
    "execution": {
     "iopub.execute_input": "2021-12-10T00:25:45.477562Z",
     "iopub.status.busy": "2021-12-10T00:25:45.476838Z",
     "iopub.status.idle": "2021-12-10T00:25:45.478650Z",
     "shell.execute_reply": "2021-12-10T00:25:45.479161Z"
    },
    "papermill": {
     "duration": 0.042595,
     "end_time": "2021-12-10T00:25:45.479307",
     "exception": false,
     "start_time": "2021-12-10T00:25:45.436712",
     "status": "completed"
    },
    "tags": []
   },
   "outputs": [],
   "source": [
    "#hide\n",
    "# g['continent'] = g.country"
   ]
  },
  {
   "cell_type": "code",
   "execution_count": 28,
   "id": "substantial-wilderness",
   "metadata": {
    "execution": {
     "iopub.execute_input": "2021-12-10T00:25:45.562607Z",
     "iopub.status.busy": "2021-12-10T00:25:45.561987Z",
     "iopub.status.idle": "2021-12-10T00:25:45.563949Z",
     "shell.execute_reply": "2021-12-10T00:25:45.564426Z"
    },
    "papermill": {
     "duration": 0.045002,
     "end_time": "2021-12-10T00:25:45.564586",
     "exception": false,
     "start_time": "2021-12-10T00:25:45.519584",
     "status": "completed"
    },
    "tags": []
   },
   "outputs": [],
   "source": [
    "#hide\n",
    "# cols = list(g.columns.values)"
   ]
  },
  {
   "cell_type": "code",
   "execution_count": 29,
   "id": "solved-farming",
   "metadata": {
    "execution": {
     "iopub.execute_input": "2021-12-10T00:25:45.642517Z",
     "iopub.status.busy": "2021-12-10T00:25:45.641915Z",
     "iopub.status.idle": "2021-12-10T00:25:45.644979Z",
     "shell.execute_reply": "2021-12-10T00:25:45.644351Z"
    },
    "papermill": {
     "duration": 0.042746,
     "end_time": "2021-12-10T00:25:45.645122",
     "exception": false,
     "start_time": "2021-12-10T00:25:45.602376",
     "status": "completed"
    },
    "tags": []
   },
   "outputs": [],
   "source": [
    "#hide\n",
    "# cols.insert(0, cols.pop())"
   ]
  },
  {
   "cell_type": "code",
   "execution_count": 30,
   "id": "executed-adoption",
   "metadata": {
    "execution": {
     "iopub.execute_input": "2021-12-10T00:25:45.722478Z",
     "iopub.status.busy": "2021-12-10T00:25:45.721852Z",
     "iopub.status.idle": "2021-12-10T00:25:45.724307Z",
     "shell.execute_reply": "2021-12-10T00:25:45.723678Z"
    },
    "papermill": {
     "duration": 0.042778,
     "end_time": "2021-12-10T00:25:45.724433",
     "exception": false,
     "start_time": "2021-12-10T00:25:45.681655",
     "status": "completed"
    },
    "tags": []
   },
   "outputs": [],
   "source": [
    "#hide\n",
    "# g = g[cols]"
   ]
  },
  {
   "cell_type": "code",
   "execution_count": 31,
   "id": "subject-dublin",
   "metadata": {
    "execution": {
     "iopub.execute_input": "2021-12-10T00:25:45.803838Z",
     "iopub.status.busy": "2021-12-10T00:25:45.803184Z",
     "iopub.status.idle": "2021-12-10T00:25:45.805557Z",
     "shell.execute_reply": "2021-12-10T00:25:45.804905Z"
    },
    "papermill": {
     "duration": 0.043947,
     "end_time": "2021-12-10T00:25:45.805684",
     "exception": false,
     "start_time": "2021-12-10T00:25:45.761737",
     "status": "completed"
    },
    "tags": []
   },
   "outputs": [],
   "source": [
    "#hide\n",
    "# g['continent'] = g['continent'].map(mapping['map.continent'])"
   ]
  },
  {
   "cell_type": "code",
   "execution_count": 32,
   "id": "freelance-scout",
   "metadata": {
    "execution": {
     "iopub.execute_input": "2021-12-10T00:25:45.884663Z",
     "iopub.status.busy": "2021-12-10T00:25:45.884026Z",
     "iopub.status.idle": "2021-12-10T00:25:45.888267Z",
     "shell.execute_reply": "2021-12-10T00:25:45.887721Z"
    },
    "papermill": {
     "duration": 0.044881,
     "end_time": "2021-12-10T00:25:45.888394",
     "exception": false,
     "start_time": "2021-12-10T00:25:45.843513",
     "status": "completed"
    },
    "tags": []
   },
   "outputs": [],
   "source": [
    "#hide\n",
    "# g.head()"
   ]
  },
  {
   "cell_type": "code",
   "execution_count": 33,
   "id": "limited-engine",
   "metadata": {
    "execution": {
     "iopub.execute_input": "2021-12-10T00:25:45.980014Z",
     "iopub.status.busy": "2021-12-10T00:25:45.979116Z",
     "iopub.status.idle": "2021-12-10T00:25:45.982706Z",
     "shell.execute_reply": "2021-12-10T00:25:45.981908Z"
    },
    "papermill": {
     "duration": 0.056046,
     "end_time": "2021-12-10T00:25:45.982860",
     "exception": false,
     "start_time": "2021-12-10T00:25:45.926814",
     "status": "completed"
    },
    "tags": []
   },
   "outputs": [],
   "source": [
    "# hide\n",
    "# g['date'] = g['date'].astype('datetime64[ns]')"
   ]
  },
  {
   "cell_type": "code",
   "execution_count": 34,
   "id": "sophisticated-supervisor",
   "metadata": {
    "execution": {
     "iopub.execute_input": "2021-12-10T00:25:46.065416Z",
     "iopub.status.busy": "2021-12-10T00:25:46.064777Z",
     "iopub.status.idle": "2021-12-10T00:25:46.067686Z",
     "shell.execute_reply": "2021-12-10T00:25:46.067119Z"
    },
    "papermill": {
     "duration": 0.045488,
     "end_time": "2021-12-10T00:25:46.067817",
     "exception": false,
     "start_time": "2021-12-10T00:25:46.022329",
     "status": "completed"
    },
    "tags": []
   },
   "outputs": [],
   "source": [
    "#hide\n",
    "# g['date'] = g.date.dt.dayofyear"
   ]
  },
  {
   "cell_type": "code",
   "execution_count": 35,
   "id": "inside-dubai",
   "metadata": {
    "execution": {
     "iopub.execute_input": "2021-12-10T00:25:46.149016Z",
     "iopub.status.busy": "2021-12-10T00:25:46.148415Z",
     "iopub.status.idle": "2021-12-10T00:25:46.150940Z",
     "shell.execute_reply": "2021-12-10T00:25:46.150478Z"
    },
    "papermill": {
     "duration": 0.045285,
     "end_time": "2021-12-10T00:25:46.151059",
     "exception": false,
     "start_time": "2021-12-10T00:25:46.105774",
     "status": "completed"
    },
    "tags": []
   },
   "outputs": [],
   "source": [
    "#hide\n",
    "# g = g.rename(columns= {'continent':'group','country':'name','cases':'value'})"
   ]
  },
  {
   "cell_type": "code",
   "execution_count": 36,
   "id": "fleet-motorcycle",
   "metadata": {
    "execution": {
     "iopub.execute_input": "2021-12-10T00:25:46.227551Z",
     "iopub.status.busy": "2021-12-10T00:25:46.226933Z",
     "iopub.status.idle": "2021-12-10T00:25:46.230383Z",
     "shell.execute_reply": "2021-12-10T00:25:46.230856Z"
    },
    "papermill": {
     "duration": 0.04428,
     "end_time": "2021-12-10T00:25:46.231014",
     "exception": false,
     "start_time": "2021-12-10T00:25:46.186734",
     "status": "completed"
    },
    "tags": []
   },
   "outputs": [],
   "source": [
    "#hide\n",
    "# cols = ['name','group','day','value']"
   ]
  },
  {
   "cell_type": "code",
   "execution_count": 37,
   "id": "continued-sleeping",
   "metadata": {
    "execution": {
     "iopub.execute_input": "2021-12-10T00:25:46.307578Z",
     "iopub.status.busy": "2021-12-10T00:25:46.306912Z",
     "iopub.status.idle": "2021-12-10T00:25:46.309279Z",
     "shell.execute_reply": "2021-12-10T00:25:46.308762Z"
    },
    "papermill": {
     "duration": 0.041449,
     "end_time": "2021-12-10T00:25:46.309410",
     "exception": false,
     "start_time": "2021-12-10T00:25:46.267961",
     "status": "completed"
    },
    "tags": []
   },
   "outputs": [],
   "source": [
    "#hide\n",
    "# g.rename(columns= {'date':'day'},inplace = True)"
   ]
  },
  {
   "cell_type": "code",
   "execution_count": 38,
   "id": "major-fight",
   "metadata": {
    "execution": {
     "iopub.execute_input": "2021-12-10T00:25:46.386830Z",
     "iopub.status.busy": "2021-12-10T00:25:46.386045Z",
     "iopub.status.idle": "2021-12-10T00:25:46.389627Z",
     "shell.execute_reply": "2021-12-10T00:25:46.389122Z"
    },
    "papermill": {
     "duration": 0.043302,
     "end_time": "2021-12-10T00:25:46.389751",
     "exception": false,
     "start_time": "2021-12-10T00:25:46.346449",
     "status": "completed"
    },
    "tags": []
   },
   "outputs": [],
   "source": [
    "#hide\n",
    "# g = g[cols]"
   ]
  },
  {
   "cell_type": "code",
   "execution_count": 39,
   "id": "structured-mobile",
   "metadata": {
    "execution": {
     "iopub.execute_input": "2021-12-10T00:25:46.468198Z",
     "iopub.status.busy": "2021-12-10T00:25:46.467202Z",
     "iopub.status.idle": "2021-12-10T00:25:46.470582Z",
     "shell.execute_reply": "2021-12-10T00:25:46.471070Z"
    },
    "papermill": {
     "duration": 0.0441,
     "end_time": "2021-12-10T00:25:46.471203",
     "exception": false,
     "start_time": "2021-12-10T00:25:46.427103",
     "status": "completed"
    },
    "tags": []
   },
   "outputs": [],
   "source": [
    "# #hide\n",
    "# g = g[g.group.notna()]"
   ]
  },
  {
   "cell_type": "code",
   "execution_count": 40,
   "id": "determined-closing",
   "metadata": {
    "execution": {
     "iopub.execute_input": "2021-12-10T00:25:46.548707Z",
     "iopub.status.busy": "2021-12-10T00:25:46.548022Z",
     "iopub.status.idle": "2021-12-10T00:25:46.549483Z",
     "shell.execute_reply": "2021-12-10T00:25:46.550065Z"
    },
    "papermill": {
     "duration": 0.04258,
     "end_time": "2021-12-10T00:25:46.550202",
     "exception": false,
     "start_time": "2021-12-10T00:25:46.507622",
     "status": "completed"
    },
    "tags": []
   },
   "outputs": [],
   "source": [
    "# #hide\n",
    "# colors = dict(zip(\n",
    "#     [\"Oceania\", \"Europe\", \"Asia\", \"South America\", \"Middle East\", \"North America\", \"Africa\"],\n",
    "#     [\"#adb0ff\", \"#ffb3ff\", \"#90d595\", \"#e48381\", \"#aafbff\", \"#f7bb5f\", \"#eafb50\"]\n",
    "# ))\n",
    "# group_lk = g.set_index('name')['group'].to_dict()"
   ]
  },
  {
   "cell_type": "code",
   "execution_count": null,
   "id": "gross-drinking",
   "metadata": {
    "papermill": {
     "duration": 0.038974,
     "end_time": "2021-12-10T00:25:46.624440",
     "exception": false,
     "start_time": "2021-12-10T00:25:46.585466",
     "status": "completed"
    },
    "tags": []
   },
   "outputs": [],
   "source": []
  },
  {
   "cell_type": "code",
   "execution_count": 41,
   "id": "subject-macintosh",
   "metadata": {
    "execution": {
     "iopub.execute_input": "2021-12-10T00:25:46.701770Z",
     "iopub.status.busy": "2021-12-10T00:25:46.701142Z",
     "iopub.status.idle": "2021-12-10T00:25:46.702966Z",
     "shell.execute_reply": "2021-12-10T00:25:46.703534Z"
    },
    "papermill": {
     "duration": 0.043112,
     "end_time": "2021-12-10T00:25:46.703691",
     "exception": false,
     "start_time": "2021-12-10T00:25:46.660579",
     "status": "completed"
    },
    "tags": []
   },
   "outputs": [],
   "source": [
    "# #hide\n",
    "# fig, ax = plt.subplots(figsize=(15, 8))\n",
    "\n",
    "# def draw_barchart(current_day):\n",
    "#     dff = g[g['day'].eq(current_day)].sort_values(by='value', ascending=True).tail(10)\n",
    "#     ax.clear()\n",
    "#     ax.barh(dff['name'], dff['value'], color=[colors[group_lk[x]] for x in dff['name']])\n",
    "#     dx = dff['value'].max() / 200\n",
    "    \n",
    "#     for i, (value, name) in enumerate(zip(dff['value'], dff['name'])):\n",
    "#         ax.text(value-dx, i,     name,           size=14, weight=600, ha='right', va='bottom')\n",
    "#         ax.text(value-dx, i-.25, group_lk[name], size=10, color='#444444', ha='right', va='baseline')\n",
    "#         ax.text(value+dx, i,     f'{value:,.0f}',  size=14, ha='left',  va='center')\n",
    "#     ax.text(1, 0.4, current_day, transform=ax.transAxes, color='#777777', size=46, ha='right', weight=800)\n",
    "#     ax.text(0, 1.06, 'Population (thousands)', transform=ax.transAxes, size=12, color='#777777')\n",
    "#     ax.xaxis.set_major_formatter(ticker.StrMethodFormatter('{x:,.0f}'))\n",
    "#     ax.xaxis.set_ticks_position('top')\n",
    "#     ax.tick_params(axis='x', colors='#777777', labelsize=12)\n",
    "#     ax.set_yticks([])\n",
    "#     ax.margins(0, 0.01)\n",
    "#     ax.grid(which='major', axis='x', linestyle='-')\n",
    "#     ax.set_axisbelow(True)\n",
    "    \n",
    "#     ax.text(0, 1.15, 'Coronavirus',\n",
    "#             transform=ax.transAxes, size=24, weight=600, ha='left', va='top')\n",
    "# #     ax.text(1, 0, 'by @pratapvardhan; credit @jburnmurdoch', transform=ax.transAxes, color='#777777', ha='right',\n",
    "# #             bbox=dict(facecolor='white', alpha=0.8, edgecolor='white'))\n",
    "#     plt.box(False)"
   ]
  },
  {
   "cell_type": "code",
   "execution_count": 42,
   "id": "sexual-wages",
   "metadata": {
    "execution": {
     "iopub.execute_input": "2021-12-10T00:25:46.783601Z",
     "iopub.status.busy": "2021-12-10T00:25:46.782932Z",
     "iopub.status.idle": "2021-12-10T00:25:46.785064Z",
     "shell.execute_reply": "2021-12-10T00:25:46.785571Z"
    },
    "papermill": {
     "duration": 0.044577,
     "end_time": "2021-12-10T00:25:46.785733",
     "exception": false,
     "start_time": "2021-12-10T00:25:46.741156",
     "status": "completed"
    },
    "tags": []
   },
   "outputs": [],
   "source": [
    "# #hide_input\n",
    "# fig, ax = plt.subplots(figsize=(15, 8))\n",
    "# animator = animation.FuncAnimation(fig, draw_barchart, frames=range(g.day.values.min(), g.day.values.max()))\n",
    "# HTML(animator.to_jshtml())\n",
    "# # or use animator.to_html5_video() or animator.save() "
   ]
  },
  {
   "cell_type": "code",
   "execution_count": null,
   "id": "australian-container",
   "metadata": {
    "papermill": {
     "duration": 0.039686,
     "end_time": "2021-12-10T00:25:46.863565",
     "exception": false,
     "start_time": "2021-12-10T00:25:46.823879",
     "status": "completed"
    },
    "tags": []
   },
   "outputs": [],
   "source": []
  },
  {
   "cell_type": "code",
   "execution_count": null,
   "id": "mediterranean-pontiac",
   "metadata": {
    "papermill": {
     "duration": 0.039037,
     "end_time": "2021-12-10T00:25:46.940351",
     "exception": false,
     "start_time": "2021-12-10T00:25:46.901314",
     "status": "completed"
    },
    "tags": []
   },
   "outputs": [],
   "source": []
  },
  {
   "cell_type": "code",
   "execution_count": null,
   "id": "aging-legislature",
   "metadata": {
    "papermill": {
     "duration": 0.037877,
     "end_time": "2021-12-10T00:25:47.016416",
     "exception": false,
     "start_time": "2021-12-10T00:25:46.978539",
     "status": "completed"
    },
    "tags": []
   },
   "outputs": [],
   "source": []
  }
 ],
 "metadata": {
  "kernelspec": {
   "display_name": "Python 3",
   "language": "python",
   "name": "python3"
  },
  "language_info": {
   "codemirror_mode": {
    "name": "ipython",
    "version": 3
   },
   "file_extension": ".py",
   "mimetype": "text/x-python",
   "name": "python",
   "nbconvert_exporter": "python",
   "pygments_lexer": "ipython3",
   "version": "3.6.15"
  },
  "papermill": {
   "duration": 7.295714,
   "end_time": "2021-12-10T00:25:47.463800",
   "environment_variables": {},
   "exception": null,
   "input_path": "2020-03-21-covid19exp.ipynb",
   "output_path": "2020-03-21-covid19exp.ipynb",
   "parameters": {},
   "start_time": "2021-12-10T00:25:40.168086",
   "version": "2.0.0"
  }
 },
 "nbformat": 4,
 "nbformat_minor": 5
}