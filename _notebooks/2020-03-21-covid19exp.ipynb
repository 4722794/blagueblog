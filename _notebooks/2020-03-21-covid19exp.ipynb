{
 "cells": [
  {
   "cell_type": "markdown",
   "id": "muslim-click",
   "metadata": {
    "papermill": {
     "duration": 0.035043,
     "end_time": "2022-09-11T12:16:21.251659",
     "exception": false,
     "start_time": "2022-09-11T12:16:21.216616",
     "status": "completed"
    },
    "tags": []
   },
   "source": [
    "# COVID-19 Case Race\n",
    "> A race chart to see rising cases around the world\n",
    "\n",
    "- author: Hargun Oberoi\n",
    "- image: images/covid-overview.png\n",
    "- hide: false\n",
    "- badges: false"
   ]
  },
  {
   "cell_type": "code",
   "execution_count": 1,
   "id": "proof-material",
   "metadata": {
    "execution": {
     "iopub.execute_input": "2022-09-11T12:16:21.321529Z",
     "iopub.status.busy": "2022-09-11T12:16:21.319083Z",
     "iopub.status.idle": "2022-09-11T12:16:21.645885Z",
     "shell.execute_reply": "2022-09-11T12:16:21.644851Z"
    },
    "papermill": {
     "duration": 0.364259,
     "end_time": "2022-09-11T12:16:21.646037",
     "exception": false,
     "start_time": "2022-09-11T12:16:21.281778",
     "status": "completed"
    },
    "tags": []
   },
   "outputs": [],
   "source": [
    "#hide\n",
    "import numpy as np\n",
    "import pandas as pd\n",
    "from jinja2 import Template\n",
    "from IPython.display import HTML"
   ]
  },
  {
   "cell_type": "code",
   "execution_count": 2,
   "id": "developed-terminology",
   "metadata": {
    "execution": {
     "iopub.execute_input": "2022-09-11T12:16:21.711556Z",
     "iopub.status.busy": "2022-09-11T12:16:21.710877Z",
     "iopub.status.idle": "2022-09-11T12:16:21.713208Z",
     "shell.execute_reply": "2022-09-11T12:16:21.712545Z"
    },
    "papermill": {
     "duration": 0.037152,
     "end_time": "2022-09-11T12:16:21.713337",
     "exception": false,
     "start_time": "2022-09-11T12:16:21.676185",
     "status": "completed"
    },
    "tags": []
   },
   "outputs": [],
   "source": [
    "#hide\n",
    "\n",
    "# FETCH\n",
    "base_url = 'https://raw.githubusercontent.com/pratapvardhan/notebooks/master/covid19/'\n",
    "paths = {\n",
    "    'mapping': base_url + 'mapping_countries.csv',\n",
    "    'overview': base_url + 'overview.tpl'\n",
    "}"
   ]
  },
  {
   "cell_type": "code",
   "execution_count": 3,
   "id": "dynamic-saver",
   "metadata": {
    "execution": {
     "iopub.execute_input": "2022-09-11T12:16:21.783334Z",
     "iopub.status.busy": "2022-09-11T12:16:21.782744Z",
     "iopub.status.idle": "2022-09-11T12:16:21.785614Z",
     "shell.execute_reply": "2022-09-11T12:16:21.786057Z"
    },
    "papermill": {
     "duration": 0.042695,
     "end_time": "2022-09-11T12:16:21.786187",
     "exception": false,
     "start_time": "2022-09-11T12:16:21.743492",
     "status": "completed"
    },
    "tags": []
   },
   "outputs": [
    {
     "data": {
      "text/plain": [
       "'https://raw.githubusercontent.com/pratapvardhan/notebooks/master/covid19/mapping_countries.csv'"
      ]
     },
     "execution_count": 3,
     "metadata": {},
     "output_type": "execute_result"
    }
   ],
   "source": [
    "#hide\n",
    "paths['mapping']"
   ]
  },
  {
   "cell_type": "code",
   "execution_count": 4,
   "id": "urban-software",
   "metadata": {
    "execution": {
     "iopub.execute_input": "2022-09-11T12:16:21.851519Z",
     "iopub.status.busy": "2022-09-11T12:16:21.850908Z",
     "iopub.status.idle": "2022-09-11T12:16:21.853246Z",
     "shell.execute_reply": "2022-09-11T12:16:21.852659Z"
    },
    "papermill": {
     "duration": 0.037272,
     "end_time": "2022-09-11T12:16:21.853361",
     "exception": false,
     "start_time": "2022-09-11T12:16:21.816089",
     "status": "completed"
    },
    "tags": []
   },
   "outputs": [],
   "source": [
    "#hide\n",
    "def get_mappings(url):\n",
    "    df = pd.read_csv(url)\n",
    "    return {\n",
    "        'df': df,\n",
    "        'replace.country': dict(df.dropna(subset=['Name']).set_index('Country')['Name']),\n",
    "        'map.continent': dict(df.set_index('Name')['Continent'])\n",
    "    }"
   ]
  },
  {
   "cell_type": "code",
   "execution_count": 5,
   "id": "intimate-machinery",
   "metadata": {
    "execution": {
     "iopub.execute_input": "2022-09-11T12:16:21.917903Z",
     "iopub.status.busy": "2022-09-11T12:16:21.917316Z",
     "iopub.status.idle": "2022-09-11T12:16:21.944193Z",
     "shell.execute_reply": "2022-09-11T12:16:21.943656Z"
    },
    "papermill": {
     "duration": 0.061234,
     "end_time": "2022-09-11T12:16:21.944315",
     "exception": false,
     "start_time": "2022-09-11T12:16:21.883081",
     "status": "completed"
    },
    "tags": []
   },
   "outputs": [],
   "source": [
    "#hide\n",
    "mapping = get_mappings(paths['mapping'])"
   ]
  },
  {
   "cell_type": "code",
   "execution_count": 6,
   "id": "certified-tactics",
   "metadata": {
    "execution": {
     "iopub.execute_input": "2022-09-11T12:16:22.009319Z",
     "iopub.status.busy": "2022-09-11T12:16:22.008718Z",
     "iopub.status.idle": "2022-09-11T12:16:22.011126Z",
     "shell.execute_reply": "2022-09-11T12:16:22.011675Z"
    },
    "papermill": {
     "duration": 0.036846,
     "end_time": "2022-09-11T12:16:22.011794",
     "exception": false,
     "start_time": "2022-09-11T12:16:21.974948",
     "status": "completed"
    },
    "tags": []
   },
   "outputs": [],
   "source": [
    "#hide\n",
    "def get_template(path):\n",
    "    from urllib.parse import urlparse\n",
    "    if bool(urlparse(path).netloc):\n",
    "        from urllib.request import urlopen\n",
    "        return urlopen(path).read().decode('utf8')\n",
    "    return open(path).read()"
   ]
  },
  {
   "cell_type": "code",
   "execution_count": 7,
   "id": "realistic-blast",
   "metadata": {
    "execution": {
     "iopub.execute_input": "2022-09-11T12:16:22.075227Z",
     "iopub.status.busy": "2022-09-11T12:16:22.073013Z",
     "iopub.status.idle": "2022-09-11T12:16:22.077292Z",
     "shell.execute_reply": "2022-09-11T12:16:22.077769Z"
    },
    "papermill": {
     "duration": 0.036639,
     "end_time": "2022-09-11T12:16:22.077887",
     "exception": false,
     "start_time": "2022-09-11T12:16:22.041248",
     "status": "completed"
    },
    "tags": []
   },
   "outputs": [],
   "source": [
    "#hide\n",
    "def get_frame(name):\n",
    "    url = (\n",
    "        'https://raw.githubusercontent.com/CSSEGISandData/COVID-19/master/csse_covid_19_data/'\n",
    "        f'csse_covid_19_time_series/time_series_covid19_{name}_global.csv')\n",
    "    df = pd.read_csv(url)\n",
    "    # rename countries\n",
    "    df['Country/Region'] = df['Country/Region'].replace(mapping['replace.country'])\n",
    "    return df"
   ]
  },
  {
   "cell_type": "code",
   "execution_count": 8,
   "id": "affiliated-characterization",
   "metadata": {
    "execution": {
     "iopub.execute_input": "2022-09-11T12:16:22.142990Z",
     "iopub.status.busy": "2022-09-11T12:16:22.142326Z",
     "iopub.status.idle": "2022-09-11T12:16:22.144917Z",
     "shell.execute_reply": "2022-09-11T12:16:22.144391Z"
    },
    "papermill": {
     "duration": 0.037647,
     "end_time": "2022-09-11T12:16:22.145041",
     "exception": false,
     "start_time": "2022-09-11T12:16:22.107394",
     "status": "completed"
    },
    "tags": []
   },
   "outputs": [],
   "source": [
    "#hide\n",
    "def get_dates(df):\n",
    "    dt_cols = df.columns[~df.columns.isin(['Province/State', 'Country/Region', 'Lat', 'Long'])]\n",
    "    LAST_DATE_I = -1\n",
    "    # sometimes last column may be empty, then go backwards\n",
    "    for i in range(-1, -len(dt_cols), -1):\n",
    "        if not df[dt_cols[i]].fillna(0).eq(0).all():\n",
    "            LAST_DATE_I = i\n",
    "            break\n",
    "    return LAST_DATE_I, dt_cols"
   ]
  },
  {
   "cell_type": "code",
   "execution_count": 9,
   "id": "recent-optimization",
   "metadata": {
    "execution": {
     "iopub.execute_input": "2022-09-11T12:16:22.210079Z",
     "iopub.status.busy": "2022-09-11T12:16:22.209476Z",
     "iopub.status.idle": "2022-09-11T12:16:22.583064Z",
     "shell.execute_reply": "2022-09-11T12:16:22.582519Z"
    },
    "papermill": {
     "duration": 0.408527,
     "end_time": "2022-09-11T12:16:22.583181",
     "exception": false,
     "start_time": "2022-09-11T12:16:22.174654",
     "status": "completed"
    },
    "tags": []
   },
   "outputs": [],
   "source": [
    "#hide\n",
    "COL_REGION = 'Country/Region'\n",
    "# Confirmed, Recovered, Deaths\n",
    "df = get_frame('confirmed')\n",
    "# dft_: timeseries, dfc_: today country agg\n",
    "dft_cases = df\n",
    "dft_deaths = get_frame('deaths')\n",
    "dft_recovered = get_frame('recovered')\n",
    "LAST_DATE_I, dt_cols = get_dates(df)"
   ]
  },
  {
   "cell_type": "code",
   "execution_count": 10,
   "id": "absolute-copper",
   "metadata": {
    "execution": {
     "iopub.execute_input": "2022-09-11T12:16:22.648081Z",
     "iopub.status.busy": "2022-09-11T12:16:22.647509Z",
     "iopub.status.idle": "2022-09-11T12:16:22.649921Z",
     "shell.execute_reply": "2022-09-11T12:16:22.650470Z"
    },
    "papermill": {
     "duration": 0.037589,
     "end_time": "2022-09-11T12:16:22.650594",
     "exception": false,
     "start_time": "2022-09-11T12:16:22.613005",
     "status": "completed"
    },
    "tags": []
   },
   "outputs": [],
   "source": [
    "#hide\n",
    "LAST_DATE_I, dt_cols = get_dates(df)\n",
    "dt_today =dt_cols[LAST_DATE_I]\n",
    "# dt_5day = dt_cols[LAST_DATE_I - 5]\n",
    "dt_yday = dt_cols[LAST_DATE_I - 1]"
   ]
  },
  {
   "cell_type": "code",
   "execution_count": 11,
   "id": "restricted-sheriff",
   "metadata": {
    "execution": {
     "iopub.execute_input": "2022-09-11T12:16:22.712456Z",
     "iopub.status.busy": "2022-09-11T12:16:22.711892Z",
     "iopub.status.idle": "2022-09-11T12:16:22.721893Z",
     "shell.execute_reply": "2022-09-11T12:16:22.722358Z"
    },
    "papermill": {
     "duration": 0.042154,
     "end_time": "2022-09-11T12:16:22.722475",
     "exception": false,
     "start_time": "2022-09-11T12:16:22.680321",
     "status": "completed"
    },
    "tags": []
   },
   "outputs": [],
   "source": [
    "#hide\n",
    "dfc_cases = dft_cases.groupby(COL_REGION)[dt_today].sum()\n",
    "dfc_deaths = dft_deaths.groupby(COL_REGION)[dt_today].sum()\n",
    "# dfp_cases = dft_cases.groupby(COL_REGION)[dt_5day].sum()\n",
    "# dfp_deaths = dft_deaths.groupby(COL_REGION)[dt_5day].sum()\n",
    "dfp_cases = dft_cases.groupby(COL_REGION)[dt_yday].sum()\n",
    "dfp_deaths = dft_deaths.groupby(COL_REGION)[dt_yday].sum()"
   ]
  },
  {
   "cell_type": "code",
   "execution_count": 12,
   "id": "deluxe-hepatitis",
   "metadata": {
    "execution": {
     "iopub.execute_input": "2022-09-11T12:16:22.786956Z",
     "iopub.status.busy": "2022-09-11T12:16:22.786390Z",
     "iopub.status.idle": "2022-09-11T12:16:22.790990Z",
     "shell.execute_reply": "2022-09-11T12:16:22.791530Z"
    },
    "papermill": {
     "duration": 0.039677,
     "end_time": "2022-09-11T12:16:22.791645",
     "exception": false,
     "start_time": "2022-09-11T12:16:22.751968",
     "status": "completed"
    },
    "tags": []
   },
   "outputs": [],
   "source": [
    "#hide\n",
    "df_table = (pd.DataFrame(dict(Cases = dfc_cases, Deaths = dfc_deaths, PCases = dfp_cases, PDeaths = dfp_deaths))\n",
    "            .sort_values(by = ['Cases','Deaths'], ascending = [False, False])\n",
    "            .reset_index())"
   ]
  },
  {
   "cell_type": "code",
   "execution_count": 13,
   "id": "educational-chancellor",
   "metadata": {
    "execution": {
     "iopub.execute_input": "2022-09-11T12:16:22.867590Z",
     "iopub.status.busy": "2022-09-11T12:16:22.867011Z",
     "iopub.status.idle": "2022-09-11T12:16:22.874854Z",
     "shell.execute_reply": "2022-09-11T12:16:22.875325Z"
    },
    "papermill": {
     "duration": 0.054233,
     "end_time": "2022-09-11T12:16:22.875439",
     "exception": false,
     "start_time": "2022-09-11T12:16:22.821206",
     "status": "completed"
    },
    "tags": []
   },
   "outputs": [
    {
     "data": {
      "text/html": [
       "<div>\n",
       "<style scoped>\n",
       "    .dataframe tbody tr th:only-of-type {\n",
       "        vertical-align: middle;\n",
       "    }\n",
       "\n",
       "    .dataframe tbody tr th {\n",
       "        vertical-align: top;\n",
       "    }\n",
       "\n",
       "    .dataframe thead th {\n",
       "        text-align: right;\n",
       "    }\n",
       "</style>\n",
       "<table border=\"1\" class=\"dataframe\">\n",
       "  <thead>\n",
       "    <tr style=\"text-align: right;\">\n",
       "      <th></th>\n",
       "      <th>Country/Region</th>\n",
       "      <th>Cases</th>\n",
       "      <th>Deaths</th>\n",
       "      <th>PCases</th>\n",
       "      <th>PDeaths</th>\n",
       "      <th>Cases (+)</th>\n",
       "      <th>Deaths (+)</th>\n",
       "      <th>Fatality Rate</th>\n",
       "      <th>Continent</th>\n",
       "    </tr>\n",
       "  </thead>\n",
       "  <tbody>\n",
       "    <tr>\n",
       "      <th>0</th>\n",
       "      <td>US</td>\n",
       "      <td>95242750</td>\n",
       "      <td>1050318</td>\n",
       "      <td>95224801</td>\n",
       "      <td>1050290</td>\n",
       "      <td>17949</td>\n",
       "      <td>28</td>\n",
       "      <td>1.10</td>\n",
       "      <td>North America</td>\n",
       "    </tr>\n",
       "    <tr>\n",
       "      <th>1</th>\n",
       "      <td>India</td>\n",
       "      <td>44495359</td>\n",
       "      <td>528150</td>\n",
       "      <td>44490283</td>\n",
       "      <td>528139</td>\n",
       "      <td>5076</td>\n",
       "      <td>11</td>\n",
       "      <td>1.19</td>\n",
       "      <td>Asia</td>\n",
       "    </tr>\n",
       "    <tr>\n",
       "      <th>2</th>\n",
       "      <td>France</td>\n",
       "      <td>34898909</td>\n",
       "      <td>155508</td>\n",
       "      <td>34898909</td>\n",
       "      <td>155508</td>\n",
       "      <td>0</td>\n",
       "      <td>0</td>\n",
       "      <td>0.45</td>\n",
       "      <td>Europe</td>\n",
       "    </tr>\n",
       "    <tr>\n",
       "      <th>3</th>\n",
       "      <td>Brazil</td>\n",
       "      <td>34516739</td>\n",
       "      <td>684813</td>\n",
       "      <td>34516739</td>\n",
       "      <td>684813</td>\n",
       "      <td>0</td>\n",
       "      <td>0</td>\n",
       "      <td>1.98</td>\n",
       "      <td>South America</td>\n",
       "    </tr>\n",
       "    <tr>\n",
       "      <th>4</th>\n",
       "      <td>Germany</td>\n",
       "      <td>32452250</td>\n",
       "      <td>148299</td>\n",
       "      <td>32452250</td>\n",
       "      <td>148299</td>\n",
       "      <td>0</td>\n",
       "      <td>0</td>\n",
       "      <td>0.46</td>\n",
       "      <td>Europe</td>\n",
       "    </tr>\n",
       "  </tbody>\n",
       "</table>\n",
       "</div>"
      ],
      "text/plain": [
       "  Country/Region     Cases   Deaths    PCases  PDeaths  Cases (+)  Deaths (+)  \\\n",
       "0             US  95242750  1050318  95224801  1050290      17949          28   \n",
       "1          India  44495359   528150  44490283   528139       5076          11   \n",
       "2         France  34898909   155508  34898909   155508          0           0   \n",
       "3         Brazil  34516739   684813  34516739   684813          0           0   \n",
       "4        Germany  32452250   148299  32452250   148299          0           0   \n",
       "\n",
       "   Fatality Rate      Continent  \n",
       "0           1.10  North America  \n",
       "1           1.19           Asia  \n",
       "2           0.45         Europe  \n",
       "3           1.98  South America  \n",
       "4           0.46         Europe  "
      ]
     },
     "execution_count": 13,
     "metadata": {},
     "output_type": "execute_result"
    }
   ],
   "source": [
    "#hide\n",
    "for c in 'Cases, Deaths'.split(', '):\n",
    "    df_table[f'{c} (+)'] = (df_table[c] - df_table[f'P{c}']).clip(0)\n",
    "    #Clip ça veut dire, les chiffres negatif sont interdit\n",
    "df_table['Fatality Rate'] = (100* df_table['Deaths']/ df_table['Cases']).round(2)\n",
    "df_table['Continent'] = df_table['Country/Region'].map(mapping['map.continent'])\n",
    "df_table.head(5)"
   ]
  },
  {
   "cell_type": "code",
   "execution_count": 14,
   "id": "aboriginal-bulgaria",
   "metadata": {
    "execution": {
     "iopub.execute_input": "2022-09-11T12:16:22.940234Z",
     "iopub.status.busy": "2022-09-11T12:16:22.939677Z",
     "iopub.status.idle": "2022-09-11T12:16:22.941975Z",
     "shell.execute_reply": "2022-09-11T12:16:22.942502Z"
    },
    "papermill": {
     "duration": 0.037232,
     "end_time": "2022-09-11T12:16:22.942613",
     "exception": false,
     "start_time": "2022-09-11T12:16:22.905381",
     "status": "completed"
    },
    "tags": []
   },
   "outputs": [],
   "source": [
    "#hide\n",
    "#delete problematic countries from table\n",
    "df_table = df_table[~df_table['Country/Region'].isin(['Cape Verde', 'Cruise Ship', 'Kosovo'])]"
   ]
  },
  {
   "cell_type": "code",
   "execution_count": 15,
   "id": "fantastic-effect",
   "metadata": {
    "execution": {
     "iopub.execute_input": "2022-09-11T12:16:23.009960Z",
     "iopub.status.busy": "2022-09-11T12:16:23.009390Z",
     "iopub.status.idle": "2022-09-11T12:16:23.027371Z",
     "shell.execute_reply": "2022-09-11T12:16:23.026815Z"
    },
    "papermill": {
     "duration": 0.055052,
     "end_time": "2022-09-11T12:16:23.027470",
     "exception": false,
     "start_time": "2022-09-11T12:16:22.972418",
     "status": "completed"
    },
    "tags": []
   },
   "outputs": [
    {
     "data": {
      "text/html": [
       "<div>\n",
       "<style scoped>\n",
       "    .dataframe tbody tr th:only-of-type {\n",
       "        vertical-align: middle;\n",
       "    }\n",
       "\n",
       "    .dataframe tbody tr th {\n",
       "        vertical-align: top;\n",
       "    }\n",
       "\n",
       "    .dataframe thead th {\n",
       "        text-align: right;\n",
       "    }\n",
       "</style>\n",
       "<table border=\"1\" class=\"dataframe\">\n",
       "  <thead>\n",
       "    <tr style=\"text-align: right;\">\n",
       "      <th></th>\n",
       "      <th>Country/Region</th>\n",
       "      <th>Cases</th>\n",
       "      <th>Deaths</th>\n",
       "      <th>PCases</th>\n",
       "      <th>PDeaths</th>\n",
       "      <th>Cases (+)</th>\n",
       "      <th>Deaths (+)</th>\n",
       "      <th>Fatality Rate</th>\n",
       "      <th>Continent</th>\n",
       "    </tr>\n",
       "  </thead>\n",
       "  <tbody>\n",
       "    <tr>\n",
       "      <th>0</th>\n",
       "      <td>US</td>\n",
       "      <td>95242750</td>\n",
       "      <td>1050318</td>\n",
       "      <td>95224801</td>\n",
       "      <td>1050290</td>\n",
       "      <td>17949</td>\n",
       "      <td>28</td>\n",
       "      <td>1.1</td>\n",
       "      <td>North America</td>\n",
       "    </tr>\n",
       "    <tr>\n",
       "      <th>1</th>\n",
       "      <td>India</td>\n",
       "      <td>44495359</td>\n",
       "      <td>528150</td>\n",
       "      <td>44490283</td>\n",
       "      <td>528139</td>\n",
       "      <td>5076</td>\n",
       "      <td>11</td>\n",
       "      <td>1.2</td>\n",
       "      <td>Asia</td>\n",
       "    </tr>\n",
       "    <tr>\n",
       "      <th>2</th>\n",
       "      <td>France</td>\n",
       "      <td>34898909</td>\n",
       "      <td>155508</td>\n",
       "      <td>34898909</td>\n",
       "      <td>155508</td>\n",
       "      <td>0</td>\n",
       "      <td>0</td>\n",
       "      <td>0.4</td>\n",
       "      <td>Europe</td>\n",
       "    </tr>\n",
       "    <tr>\n",
       "      <th>3</th>\n",
       "      <td>Brazil</td>\n",
       "      <td>34516739</td>\n",
       "      <td>684813</td>\n",
       "      <td>34516739</td>\n",
       "      <td>684813</td>\n",
       "      <td>0</td>\n",
       "      <td>0</td>\n",
       "      <td>2.0</td>\n",
       "      <td>South America</td>\n",
       "    </tr>\n",
       "    <tr>\n",
       "      <th>4</th>\n",
       "      <td>Germany</td>\n",
       "      <td>32452250</td>\n",
       "      <td>148299</td>\n",
       "      <td>32452250</td>\n",
       "      <td>148299</td>\n",
       "      <td>0</td>\n",
       "      <td>0</td>\n",
       "      <td>0.5</td>\n",
       "      <td>Europe</td>\n",
       "    </tr>\n",
       "  </tbody>\n",
       "</table>\n",
       "</div>"
      ],
      "text/plain": [
       "  Country/Region     Cases   Deaths    PCases  PDeaths  Cases (+)  Deaths (+)  \\\n",
       "0             US  95242750  1050318  95224801  1050290      17949          28   \n",
       "1          India  44495359   528150  44490283   528139       5076          11   \n",
       "2         France  34898909   155508  34898909   155508          0           0   \n",
       "3         Brazil  34516739   684813  34516739   684813          0           0   \n",
       "4        Germany  32452250   148299  32452250   148299          0           0   \n",
       "\n",
       "   Fatality Rate      Continent  \n",
       "0            1.1  North America  \n",
       "1            1.2           Asia  \n",
       "2            0.4         Europe  \n",
       "3            2.0  South America  \n",
       "4            0.5         Europe  "
      ]
     },
     "execution_count": 15,
     "metadata": {},
     "output_type": "execute_result"
    }
   ],
   "source": [
    "#hide\n",
    "df_table = (pd.DataFrame(dict(Cases=dfc_cases, Deaths=dfc_deaths, PCases=dfp_cases, PDeaths=dfp_deaths))\n",
    "             .sort_values(by=['Cases', 'Deaths'], ascending=[False, False])\n",
    "             .reset_index())\n",
    "df_table.rename(columns={'index': 'Country/Region'}, inplace=True)\n",
    "for c in 'Cases, Deaths'.split(', '):\n",
    "    df_table[f'{c} (+)'] = (df_table[c] - df_table[f'P{c}']).clip(0)  # DATA BUG\n",
    "df_table['Fatality Rate'] = (100 * df_table['Deaths'] / df_table['Cases']).round(1)\n",
    "df_table['Continent'] = df_table['Country/Region'].map(mapping['map.continent'])\n",
    "df_table.head(5)"
   ]
  },
  {
   "cell_type": "code",
   "execution_count": 16,
   "id": "fewer-occasion",
   "metadata": {
    "execution": {
     "iopub.execute_input": "2022-09-11T12:16:23.093016Z",
     "iopub.status.busy": "2022-09-11T12:16:23.092458Z",
     "iopub.status.idle": "2022-09-11T12:16:23.094815Z",
     "shell.execute_reply": "2022-09-11T12:16:23.095279Z"
    },
    "papermill": {
     "duration": 0.037419,
     "end_time": "2022-09-11T12:16:23.095388",
     "exception": false,
     "start_time": "2022-09-11T12:16:23.057969",
     "status": "completed"
    },
    "tags": []
   },
   "outputs": [],
   "source": [
    "#hide\n",
    "#delete problematic countries from table\n",
    "df_table = df_table[~df_table['Country/Region'].isin(['Cape Verde', 'Cruise Ship', 'Kosovo'])]"
   ]
  },
  {
   "cell_type": "code",
   "execution_count": 17,
   "id": "related-center",
   "metadata": {
    "execution": {
     "iopub.execute_input": "2022-09-11T12:16:23.173102Z",
     "iopub.status.busy": "2022-09-11T12:16:23.172540Z",
     "iopub.status.idle": "2022-09-11T12:16:23.175294Z",
     "shell.execute_reply": "2022-09-11T12:16:23.174838Z"
    },
    "papermill": {
     "duration": 0.049739,
     "end_time": "2022-09-11T12:16:23.175391",
     "exception": false,
     "start_time": "2022-09-11T12:16:23.125652",
     "status": "completed"
    },
    "tags": []
   },
   "outputs": [],
   "source": [
    "#hide\n",
    "metrics = [df_table.columns[index] for index in [1,2,5,6]]\n",
    "# s_china = df_table[df_table['Country/Region'].eq('China')][metrics].sum().add_prefix('China ')\n",
    "s_us = df_table[df_table['Country/Region'].eq('US')][metrics].sum().add_prefix('US ')\n",
    "s_eu = df_table[df_table['Continent'].eq('Europe')][metrics].sum().add_prefix('EU ')\n",
    "s_ind = df_table[df_table['Country/Region'].eq('India')][metrics].sum().add_prefix('India ')\n",
    "summary = {'updated': pd.to_datetime(dt_today), 'since': pd.to_datetime(dt_yday)}\n",
    "summary = {'updated': pd.to_datetime(dt_today), 'since': pd.to_datetime(dt_yday)}\n",
    "summary = {**summary, **df_table[metrics].sum(), **s_ind, **s_us, **s_eu}"
   ]
  },
  {
   "cell_type": "code",
   "execution_count": 18,
   "id": "engaging-syndrome",
   "metadata": {
    "execution": {
     "iopub.execute_input": "2022-09-11T12:16:23.241224Z",
     "iopub.status.busy": "2022-09-11T12:16:23.240639Z",
     "iopub.status.idle": "2022-09-11T12:16:23.260307Z",
     "shell.execute_reply": "2022-09-11T12:16:23.260745Z"
    },
    "papermill": {
     "duration": 0.054797,
     "end_time": "2022-09-11T12:16:23.260864",
     "exception": false,
     "start_time": "2022-09-11T12:16:23.206067",
     "status": "completed"
    },
    "tags": []
   },
   "outputs": [],
   "source": [
    "#hide\n",
    "dft_ct_new_cases = dft_cases.groupby(COL_REGION)[dt_cols].sum().diff(axis=1).fillna(0).astype(int)"
   ]
  },
  {
   "cell_type": "code",
   "execution_count": 19,
   "id": "neutral-assignment",
   "metadata": {
    "execution": {
     "iopub.execute_input": "2022-09-11T12:16:23.330103Z",
     "iopub.status.busy": "2022-09-11T12:16:23.329522Z",
     "iopub.status.idle": "2022-09-11T12:16:23.331934Z",
     "shell.execute_reply": "2022-09-11T12:16:23.332475Z"
    },
    "papermill": {
     "duration": 0.041257,
     "end_time": "2022-09-11T12:16:23.332591",
     "exception": false,
     "start_time": "2022-09-11T12:16:23.291334",
     "status": "completed"
    },
    "tags": []
   },
   "outputs": [],
   "source": [
    "#hide\n",
    "everydaycases = dft_ct_new_cases.cumsum(axis=1)"
   ]
  },
  {
   "cell_type": "code",
   "execution_count": 20,
   "id": "parliamentary-calgary",
   "metadata": {
    "execution": {
     "iopub.execute_input": "2022-09-11T12:16:23.397356Z",
     "iopub.status.busy": "2022-09-11T12:16:23.396768Z",
     "iopub.status.idle": "2022-09-11T12:16:23.938120Z",
     "shell.execute_reply": "2022-09-11T12:16:23.938643Z"
    },
    "papermill": {
     "duration": 0.57577,
     "end_time": "2022-09-11T12:16:23.938805",
     "exception": false,
     "start_time": "2022-09-11T12:16:23.363035",
     "status": "completed"
    },
    "tags": []
   },
   "outputs": [],
   "source": [
    "#hide\n",
    "import pandas as pd\n",
    "import matplotlib.pyplot as plt\n",
    "import matplotlib.ticker as ticker\n",
    "import matplotlib.animation as animation\n",
    "from IPython.display import HTML"
   ]
  },
  {
   "cell_type": "code",
   "execution_count": 21,
   "id": "lasting-extraction",
   "metadata": {
    "execution": {
     "iopub.execute_input": "2022-09-11T12:16:24.009329Z",
     "iopub.status.busy": "2022-09-11T12:16:24.008711Z",
     "iopub.status.idle": "2022-09-11T12:16:24.016291Z",
     "shell.execute_reply": "2022-09-11T12:16:24.015825Z"
    },
    "papermill": {
     "duration": 0.046667,
     "end_time": "2022-09-11T12:16:24.016400",
     "exception": false,
     "start_time": "2022-09-11T12:16:23.969733",
     "status": "completed"
    },
    "tags": []
   },
   "outputs": [],
   "source": [
    "#hide\n",
    "t = everydaycases.stack()"
   ]
  },
  {
   "cell_type": "code",
   "execution_count": 22,
   "id": "premier-sleeve",
   "metadata": {
    "execution": {
     "iopub.execute_input": "2022-09-11T12:16:24.082898Z",
     "iopub.status.busy": "2022-09-11T12:16:24.082322Z",
     "iopub.status.idle": "2022-09-11T12:16:24.094437Z",
     "shell.execute_reply": "2022-09-11T12:16:24.093967Z"
    },
    "papermill": {
     "duration": 0.04721,
     "end_time": "2022-09-11T12:16:24.094546",
     "exception": false,
     "start_time": "2022-09-11T12:16:24.047336",
     "status": "completed"
    },
    "tags": []
   },
   "outputs": [],
   "source": [
    "#hide\n",
    "g = t.reset_index(['Country/Region'])"
   ]
  },
  {
   "cell_type": "code",
   "execution_count": 23,
   "id": "distributed-pittsburgh",
   "metadata": {
    "execution": {
     "iopub.execute_input": "2022-09-11T12:16:24.159527Z",
     "iopub.status.busy": "2022-09-11T12:16:24.158955Z",
     "iopub.status.idle": "2022-09-11T12:16:24.161444Z",
     "shell.execute_reply": "2022-09-11T12:16:24.161994Z"
    },
    "papermill": {
     "duration": 0.037128,
     "end_time": "2022-09-11T12:16:24.162117",
     "exception": false,
     "start_time": "2022-09-11T12:16:24.124989",
     "status": "completed"
    },
    "tags": []
   },
   "outputs": [],
   "source": [
    "#hide\n",
    "g.index.name = 'date'"
   ]
  },
  {
   "cell_type": "code",
   "execution_count": 24,
   "id": "naked-donor",
   "metadata": {
    "execution": {
     "iopub.execute_input": "2022-09-11T12:16:24.227168Z",
     "iopub.status.busy": "2022-09-11T12:16:24.226583Z",
     "iopub.status.idle": "2022-09-11T12:16:24.230438Z",
     "shell.execute_reply": "2022-09-11T12:16:24.229967Z"
    },
    "papermill": {
     "duration": 0.037689,
     "end_time": "2022-09-11T12:16:24.230544",
     "exception": false,
     "start_time": "2022-09-11T12:16:24.192855",
     "status": "completed"
    },
    "tags": []
   },
   "outputs": [],
   "source": [
    "# #hide\n",
    "# g = g.reset_index(['date'])"
   ]
  },
  {
   "cell_type": "code",
   "execution_count": 25,
   "id": "incomplete-mustang",
   "metadata": {
    "execution": {
     "iopub.execute_input": "2022-09-11T12:16:24.295509Z",
     "iopub.status.busy": "2022-09-11T12:16:24.294943Z",
     "iopub.status.idle": "2022-09-11T12:16:24.297120Z",
     "shell.execute_reply": "2022-09-11T12:16:24.297695Z"
    },
    "papermill": {
     "duration": 0.036841,
     "end_time": "2022-09-11T12:16:24.297816",
     "exception": false,
     "start_time": "2022-09-11T12:16:24.260975",
     "status": "completed"
    },
    "tags": []
   },
   "outputs": [],
   "source": [
    "#hide\n",
    "# g.head()"
   ]
  },
  {
   "cell_type": "code",
   "execution_count": 26,
   "id": "specific-kruger",
   "metadata": {
    "execution": {
     "iopub.execute_input": "2022-09-11T12:16:24.362972Z",
     "iopub.status.busy": "2022-09-11T12:16:24.362299Z",
     "iopub.status.idle": "2022-09-11T12:16:24.364935Z",
     "shell.execute_reply": "2022-09-11T12:16:24.364281Z"
    },
    "papermill": {
     "duration": 0.036645,
     "end_time": "2022-09-11T12:16:24.365053",
     "exception": false,
     "start_time": "2022-09-11T12:16:24.328408",
     "status": "completed"
    },
    "tags": []
   },
   "outputs": [],
   "source": [
    "#hide\n",
    "# g.columns = ['date','country','cases']"
   ]
  },
  {
   "cell_type": "code",
   "execution_count": 27,
   "id": "tender-conversion",
   "metadata": {
    "execution": {
     "iopub.execute_input": "2022-09-11T12:16:24.430493Z",
     "iopub.status.busy": "2022-09-11T12:16:24.429893Z",
     "iopub.status.idle": "2022-09-11T12:16:24.432525Z",
     "shell.execute_reply": "2022-09-11T12:16:24.432064Z"
    },
    "papermill": {
     "duration": 0.036552,
     "end_time": "2022-09-11T12:16:24.432633",
     "exception": false,
     "start_time": "2022-09-11T12:16:24.396081",
     "status": "completed"
    },
    "tags": []
   },
   "outputs": [],
   "source": [
    "#hide\n",
    "# g['continent'] = g.country"
   ]
  },
  {
   "cell_type": "code",
   "execution_count": 28,
   "id": "substantial-wilderness",
   "metadata": {
    "execution": {
     "iopub.execute_input": "2022-09-11T12:16:24.497356Z",
     "iopub.status.busy": "2022-09-11T12:16:24.496671Z",
     "iopub.status.idle": "2022-09-11T12:16:24.499271Z",
     "shell.execute_reply": "2022-09-11T12:16:24.498740Z"
    },
    "papermill": {
     "duration": 0.036116,
     "end_time": "2022-09-11T12:16:24.499390",
     "exception": false,
     "start_time": "2022-09-11T12:16:24.463274",
     "status": "completed"
    },
    "tags": []
   },
   "outputs": [],
   "source": [
    "#hide\n",
    "# cols = list(g.columns.values)"
   ]
  },
  {
   "cell_type": "code",
   "execution_count": 29,
   "id": "solved-farming",
   "metadata": {
    "execution": {
     "iopub.execute_input": "2022-09-11T12:16:24.563953Z",
     "iopub.status.busy": "2022-09-11T12:16:24.563319Z",
     "iopub.status.idle": "2022-09-11T12:16:24.567115Z",
     "shell.execute_reply": "2022-09-11T12:16:24.567587Z"
    },
    "papermill": {
     "duration": 0.037866,
     "end_time": "2022-09-11T12:16:24.567717",
     "exception": false,
     "start_time": "2022-09-11T12:16:24.529851",
     "status": "completed"
    },
    "tags": []
   },
   "outputs": [],
   "source": [
    "#hide\n",
    "# cols.insert(0, cols.pop())"
   ]
  },
  {
   "cell_type": "code",
   "execution_count": 30,
   "id": "executed-adoption",
   "metadata": {
    "execution": {
     "iopub.execute_input": "2022-09-11T12:16:24.632592Z",
     "iopub.status.busy": "2022-09-11T12:16:24.632012Z",
     "iopub.status.idle": "2022-09-11T12:16:24.634534Z",
     "shell.execute_reply": "2022-09-11T12:16:24.634074Z"
    },
    "papermill": {
     "duration": 0.036144,
     "end_time": "2022-09-11T12:16:24.634637",
     "exception": false,
     "start_time": "2022-09-11T12:16:24.598493",
     "status": "completed"
    },
    "tags": []
   },
   "outputs": [],
   "source": [
    "#hide\n",
    "# g = g[cols]"
   ]
  },
  {
   "cell_type": "code",
   "execution_count": 31,
   "id": "subject-dublin",
   "metadata": {
    "execution": {
     "iopub.execute_input": "2022-09-11T12:16:24.699004Z",
     "iopub.status.busy": "2022-09-11T12:16:24.698347Z",
     "iopub.status.idle": "2022-09-11T12:16:24.701847Z",
     "shell.execute_reply": "2022-09-11T12:16:24.702262Z"
    },
    "papermill": {
     "duration": 0.03734,
     "end_time": "2022-09-11T12:16:24.702379",
     "exception": false,
     "start_time": "2022-09-11T12:16:24.665039",
     "status": "completed"
    },
    "tags": []
   },
   "outputs": [],
   "source": [
    "#hide\n",
    "# g['continent'] = g['continent'].map(mapping['map.continent'])"
   ]
  },
  {
   "cell_type": "code",
   "execution_count": 32,
   "id": "freelance-scout",
   "metadata": {
    "execution": {
     "iopub.execute_input": "2022-09-11T12:16:24.767231Z",
     "iopub.status.busy": "2022-09-11T12:16:24.766587Z",
     "iopub.status.idle": "2022-09-11T12:16:24.770398Z",
     "shell.execute_reply": "2022-09-11T12:16:24.770874Z"
    },
    "papermill": {
     "duration": 0.037973,
     "end_time": "2022-09-11T12:16:24.771004",
     "exception": false,
     "start_time": "2022-09-11T12:16:24.733031",
     "status": "completed"
    },
    "tags": []
   },
   "outputs": [],
   "source": [
    "#hide\n",
    "# g.head()"
   ]
  },
  {
   "cell_type": "code",
   "execution_count": 33,
   "id": "limited-engine",
   "metadata": {
    "execution": {
     "iopub.execute_input": "2022-09-11T12:16:24.835483Z",
     "iopub.status.busy": "2022-09-11T12:16:24.834920Z",
     "iopub.status.idle": "2022-09-11T12:16:24.837132Z",
     "shell.execute_reply": "2022-09-11T12:16:24.837624Z"
    },
    "papermill": {
     "duration": 0.036204,
     "end_time": "2022-09-11T12:16:24.837739",
     "exception": false,
     "start_time": "2022-09-11T12:16:24.801535",
     "status": "completed"
    },
    "tags": []
   },
   "outputs": [],
   "source": [
    "# hide\n",
    "# g['date'] = g['date'].astype('datetime64[ns]')"
   ]
  },
  {
   "cell_type": "code",
   "execution_count": 34,
   "id": "sophisticated-supervisor",
   "metadata": {
    "execution": {
     "iopub.execute_input": "2022-09-11T12:16:24.902534Z",
     "iopub.status.busy": "2022-09-11T12:16:24.901884Z",
     "iopub.status.idle": "2022-09-11T12:16:24.904471Z",
     "shell.execute_reply": "2022-09-11T12:16:24.903829Z"
    },
    "papermill": {
     "duration": 0.036322,
     "end_time": "2022-09-11T12:16:24.904593",
     "exception": false,
     "start_time": "2022-09-11T12:16:24.868271",
     "status": "completed"
    },
    "tags": []
   },
   "outputs": [],
   "source": [
    "#hide\n",
    "# g['date'] = g.date.dt.dayofyear"
   ]
  },
  {
   "cell_type": "code",
   "execution_count": 35,
   "id": "inside-dubai",
   "metadata": {
    "execution": {
     "iopub.execute_input": "2022-09-11T12:16:24.968772Z",
     "iopub.status.busy": "2022-09-11T12:16:24.968126Z",
     "iopub.status.idle": "2022-09-11T12:16:24.972065Z",
     "shell.execute_reply": "2022-09-11T12:16:24.971605Z"
    },
    "papermill": {
     "duration": 0.037209,
     "end_time": "2022-09-11T12:16:24.972164",
     "exception": false,
     "start_time": "2022-09-11T12:16:24.934955",
     "status": "completed"
    },
    "tags": []
   },
   "outputs": [],
   "source": [
    "#hide\n",
    "# g = g.rename(columns= {'continent':'group','country':'name','cases':'value'})"
   ]
  },
  {
   "cell_type": "code",
   "execution_count": 36,
   "id": "fleet-motorcycle",
   "metadata": {
    "execution": {
     "iopub.execute_input": "2022-09-11T12:16:25.037947Z",
     "iopub.status.busy": "2022-09-11T12:16:25.037310Z",
     "iopub.status.idle": "2022-09-11T12:16:25.040300Z",
     "shell.execute_reply": "2022-09-11T12:16:25.039739Z"
    },
    "papermill": {
     "duration": 0.03745,
     "end_time": "2022-09-11T12:16:25.040406",
     "exception": false,
     "start_time": "2022-09-11T12:16:25.002956",
     "status": "completed"
    },
    "tags": []
   },
   "outputs": [],
   "source": [
    "#hide\n",
    "# cols = ['name','group','day','value']"
   ]
  },
  {
   "cell_type": "code",
   "execution_count": 37,
   "id": "continued-sleeping",
   "metadata": {
    "execution": {
     "iopub.execute_input": "2022-09-11T12:16:25.105662Z",
     "iopub.status.busy": "2022-09-11T12:16:25.104940Z",
     "iopub.status.idle": "2022-09-11T12:16:25.108579Z",
     "shell.execute_reply": "2022-09-11T12:16:25.108044Z"
    },
    "papermill": {
     "duration": 0.037689,
     "end_time": "2022-09-11T12:16:25.108707",
     "exception": false,
     "start_time": "2022-09-11T12:16:25.071018",
     "status": "completed"
    },
    "tags": []
   },
   "outputs": [],
   "source": [
    "#hide\n",
    "# g.rename(columns= {'date':'day'},inplace = True)"
   ]
  },
  {
   "cell_type": "code",
   "execution_count": 38,
   "id": "major-fight",
   "metadata": {
    "execution": {
     "iopub.execute_input": "2022-09-11T12:16:25.174224Z",
     "iopub.status.busy": "2022-09-11T12:16:25.173548Z",
     "iopub.status.idle": "2022-09-11T12:16:25.177141Z",
     "shell.execute_reply": "2022-09-11T12:16:25.177674Z"
    },
    "papermill": {
     "duration": 0.038293,
     "end_time": "2022-09-11T12:16:25.177811",
     "exception": false,
     "start_time": "2022-09-11T12:16:25.139518",
     "status": "completed"
    },
    "tags": []
   },
   "outputs": [],
   "source": [
    "#hide\n",
    "# g = g[cols]"
   ]
  },
  {
   "cell_type": "code",
   "execution_count": 39,
   "id": "structured-mobile",
   "metadata": {
    "execution": {
     "iopub.execute_input": "2022-09-11T12:16:25.242743Z",
     "iopub.status.busy": "2022-09-11T12:16:25.242165Z",
     "iopub.status.idle": "2022-09-11T12:16:25.245715Z",
     "shell.execute_reply": "2022-09-11T12:16:25.246131Z"
    },
    "papermill": {
     "duration": 0.03767,
     "end_time": "2022-09-11T12:16:25.246254",
     "exception": false,
     "start_time": "2022-09-11T12:16:25.208584",
     "status": "completed"
    },
    "tags": []
   },
   "outputs": [],
   "source": [
    "# #hide\n",
    "# g = g[g.group.notna()]"
   ]
  },
  {
   "cell_type": "code",
   "execution_count": 40,
   "id": "determined-closing",
   "metadata": {
    "execution": {
     "iopub.execute_input": "2022-09-11T12:16:25.311086Z",
     "iopub.status.busy": "2022-09-11T12:16:25.310428Z",
     "iopub.status.idle": "2022-09-11T12:16:25.312941Z",
     "shell.execute_reply": "2022-09-11T12:16:25.312438Z"
    },
    "papermill": {
     "duration": 0.036257,
     "end_time": "2022-09-11T12:16:25.313045",
     "exception": false,
     "start_time": "2022-09-11T12:16:25.276788",
     "status": "completed"
    },
    "tags": []
   },
   "outputs": [],
   "source": [
    "# #hide\n",
    "# colors = dict(zip(\n",
    "#     [\"Oceania\", \"Europe\", \"Asia\", \"South America\", \"Middle East\", \"North America\", \"Africa\"],\n",
    "#     [\"#adb0ff\", \"#ffb3ff\", \"#90d595\", \"#e48381\", \"#aafbff\", \"#f7bb5f\", \"#eafb50\"]\n",
    "# ))\n",
    "# group_lk = g.set_index('name')['group'].to_dict()"
   ]
  },
  {
   "cell_type": "code",
   "execution_count": null,
   "id": "gross-drinking",
   "metadata": {
    "papermill": {
     "duration": 0.030458,
     "end_time": "2022-09-11T12:16:25.373857",
     "exception": false,
     "start_time": "2022-09-11T12:16:25.343399",
     "status": "completed"
    },
    "tags": []
   },
   "outputs": [],
   "source": []
  },
  {
   "cell_type": "code",
   "execution_count": 41,
   "id": "subject-macintosh",
   "metadata": {
    "execution": {
     "iopub.execute_input": "2022-09-11T12:16:25.439424Z",
     "iopub.status.busy": "2022-09-11T12:16:25.438738Z",
     "iopub.status.idle": "2022-09-11T12:16:25.441248Z",
     "shell.execute_reply": "2022-09-11T12:16:25.440584Z"
    },
    "papermill": {
     "duration": 0.036969,
     "end_time": "2022-09-11T12:16:25.441372",
     "exception": false,
     "start_time": "2022-09-11T12:16:25.404403",
     "status": "completed"
    },
    "tags": []
   },
   "outputs": [],
   "source": [
    "# #hide\n",
    "# fig, ax = plt.subplots(figsize=(15, 8))\n",
    "\n",
    "# def draw_barchart(current_day):\n",
    "#     dff = g[g['day'].eq(current_day)].sort_values(by='value', ascending=True).tail(10)\n",
    "#     ax.clear()\n",
    "#     ax.barh(dff['name'], dff['value'], color=[colors[group_lk[x]] for x in dff['name']])\n",
    "#     dx = dff['value'].max() / 200\n",
    "    \n",
    "#     for i, (value, name) in enumerate(zip(dff['value'], dff['name'])):\n",
    "#         ax.text(value-dx, i,     name,           size=14, weight=600, ha='right', va='bottom')\n",
    "#         ax.text(value-dx, i-.25, group_lk[name], size=10, color='#444444', ha='right', va='baseline')\n",
    "#         ax.text(value+dx, i,     f'{value:,.0f}',  size=14, ha='left',  va='center')\n",
    "#     ax.text(1, 0.4, current_day, transform=ax.transAxes, color='#777777', size=46, ha='right', weight=800)\n",
    "#     ax.text(0, 1.06, 'Population (thousands)', transform=ax.transAxes, size=12, color='#777777')\n",
    "#     ax.xaxis.set_major_formatter(ticker.StrMethodFormatter('{x:,.0f}'))\n",
    "#     ax.xaxis.set_ticks_position('top')\n",
    "#     ax.tick_params(axis='x', colors='#777777', labelsize=12)\n",
    "#     ax.set_yticks([])\n",
    "#     ax.margins(0, 0.01)\n",
    "#     ax.grid(which='major', axis='x', linestyle='-')\n",
    "#     ax.set_axisbelow(True)\n",
    "    \n",
    "#     ax.text(0, 1.15, 'Coronavirus',\n",
    "#             transform=ax.transAxes, size=24, weight=600, ha='left', va='top')\n",
    "# #     ax.text(1, 0, 'by @pratapvardhan; credit @jburnmurdoch', transform=ax.transAxes, color='#777777', ha='right',\n",
    "# #             bbox=dict(facecolor='white', alpha=0.8, edgecolor='white'))\n",
    "#     plt.box(False)"
   ]
  },
  {
   "cell_type": "code",
   "execution_count": 42,
   "id": "sexual-wages",
   "metadata": {
    "execution": {
     "iopub.execute_input": "2022-09-11T12:16:25.506864Z",
     "iopub.status.busy": "2022-09-11T12:16:25.506252Z",
     "iopub.status.idle": "2022-09-11T12:16:25.509853Z",
     "shell.execute_reply": "2022-09-11T12:16:25.510267Z"
    },
    "papermill": {
     "duration": 0.038056,
     "end_time": "2022-09-11T12:16:25.510391",
     "exception": false,
     "start_time": "2022-09-11T12:16:25.472335",
     "status": "completed"
    },
    "tags": []
   },
   "outputs": [],
   "source": [
    "# #hide_input\n",
    "# fig, ax = plt.subplots(figsize=(15, 8))\n",
    "# animator = animation.FuncAnimation(fig, draw_barchart, frames=range(g.day.values.min(), g.day.values.max()))\n",
    "# HTML(animator.to_jshtml())\n",
    "# # or use animator.to_html5_video() or animator.save() "
   ]
  },
  {
   "cell_type": "code",
   "execution_count": null,
   "id": "australian-container",
   "metadata": {
    "papermill": {
     "duration": 0.031,
     "end_time": "2022-09-11T12:16:25.572374",
     "exception": false,
     "start_time": "2022-09-11T12:16:25.541374",
     "status": "completed"
    },
    "tags": []
   },
   "outputs": [],
   "source": []
  },
  {
   "cell_type": "code",
   "execution_count": null,
   "id": "mediterranean-pontiac",
   "metadata": {
    "papermill": {
     "duration": 0.030302,
     "end_time": "2022-09-11T12:16:25.633070",
     "exception": false,
     "start_time": "2022-09-11T12:16:25.602768",
     "status": "completed"
    },
    "tags": []
   },
   "outputs": [],
   "source": []
  },
  {
   "cell_type": "code",
   "execution_count": null,
   "id": "aging-legislature",
   "metadata": {
    "papermill": {
     "duration": 0.030521,
     "end_time": "2022-09-11T12:16:25.694259",
     "exception": false,
     "start_time": "2022-09-11T12:16:25.663738",
     "status": "completed"
    },
    "tags": []
   },
   "outputs": [],
   "source": []
  }
 ],
 "metadata": {
  "kernelspec": {
   "display_name": "Python 3",
   "language": "python",
   "name": "python3"
  },
  "language_info": {
   "codemirror_mode": {
    "name": "ipython",
    "version": 3
   },
   "file_extension": ".py",
   "mimetype": "text/x-python",
   "name": "python",
   "nbconvert_exporter": "python",
   "pygments_lexer": "ipython3",
   "version": "3.6.15"
  },
  "papermill": {
   "duration": 5.879432,
   "end_time": "2022-09-11T12:16:26.145083",
   "environment_variables": {},
   "exception": null,
   "input_path": "2020-03-21-covid19exp.ipynb",
   "output_path": "2020-03-21-covid19exp.ipynb",
   "parameters": {},
   "start_time": "2022-09-11T12:16:20.265651",
   "version": "2.0.0"
  }
 },
 "nbformat": 4,
 "nbformat_minor": 5
}