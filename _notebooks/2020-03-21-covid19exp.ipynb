{
 "cells": [
  {
   "cell_type": "markdown",
   "id": "muslim-click",
   "metadata": {
    "papermill": {
     "duration": 0.034237,
     "end_time": "2022-10-04T01:02:02.814900",
     "exception": false,
     "start_time": "2022-10-04T01:02:02.780663",
     "status": "completed"
    },
    "tags": []
   },
   "source": [
    "# COVID-19 Case Race\n",
    "> A race chart to see rising cases around the world\n",
    "\n",
    "- author: Hargun Oberoi\n",
    "- image: images/covid-overview.png\n",
    "- hide: false\n",
    "- badges: false"
   ]
  },
  {
   "cell_type": "code",
   "execution_count": 1,
   "id": "proof-material",
   "metadata": {
    "execution": {
     "iopub.execute_input": "2022-10-04T01:02:02.884023Z",
     "iopub.status.busy": "2022-10-04T01:02:02.883468Z",
     "iopub.status.idle": "2022-10-04T01:02:03.192987Z",
     "shell.execute_reply": "2022-10-04T01:02:03.192490Z"
    },
    "papermill": {
     "duration": 0.348049,
     "end_time": "2022-10-04T01:02:03.193115",
     "exception": false,
     "start_time": "2022-10-04T01:02:02.845066",
     "status": "completed"
    },
    "tags": []
   },
   "outputs": [],
   "source": [
    "#hide\n",
    "import numpy as np\n",
    "import pandas as pd\n",
    "from jinja2 import Template\n",
    "from IPython.display import HTML"
   ]
  },
  {
   "cell_type": "code",
   "execution_count": 2,
   "id": "developed-terminology",
   "metadata": {
    "execution": {
     "iopub.execute_input": "2022-10-04T01:02:03.256884Z",
     "iopub.status.busy": "2022-10-04T01:02:03.256316Z",
     "iopub.status.idle": "2022-10-04T01:02:03.258512Z",
     "shell.execute_reply": "2022-10-04T01:02:03.258967Z"
    },
    "papermill": {
     "duration": 0.036343,
     "end_time": "2022-10-04T01:02:03.259081",
     "exception": false,
     "start_time": "2022-10-04T01:02:03.222738",
     "status": "completed"
    },
    "tags": []
   },
   "outputs": [],
   "source": [
    "#hide\n",
    "\n",
    "# FETCH\n",
    "base_url = 'https://raw.githubusercontent.com/pratapvardhan/notebooks/master/covid19/'\n",
    "paths = {\n",
    "    'mapping': base_url + 'mapping_countries.csv',\n",
    "    'overview': base_url + 'overview.tpl'\n",
    "}"
   ]
  },
  {
   "cell_type": "code",
   "execution_count": 3,
   "id": "dynamic-saver",
   "metadata": {
    "execution": {
     "iopub.execute_input": "2022-10-04T01:02:03.326229Z",
     "iopub.status.busy": "2022-10-04T01:02:03.325029Z",
     "iopub.status.idle": "2022-10-04T01:02:03.328887Z",
     "shell.execute_reply": "2022-10-04T01:02:03.329340Z"
    },
    "papermill": {
     "duration": 0.0411,
     "end_time": "2022-10-04T01:02:03.329455",
     "exception": false,
     "start_time": "2022-10-04T01:02:03.288355",
     "status": "completed"
    },
    "tags": []
   },
   "outputs": [
    {
     "data": {
      "text/plain": [
       "'https://raw.githubusercontent.com/pratapvardhan/notebooks/master/covid19/mapping_countries.csv'"
      ]
     },
     "execution_count": 3,
     "metadata": {},
     "output_type": "execute_result"
    }
   ],
   "source": [
    "#hide\n",
    "paths['mapping']"
   ]
  },
  {
   "cell_type": "code",
   "execution_count": 4,
   "id": "urban-software",
   "metadata": {
    "execution": {
     "iopub.execute_input": "2022-10-04T01:02:03.393984Z",
     "iopub.status.busy": "2022-10-04T01:02:03.393401Z",
     "iopub.status.idle": "2022-10-04T01:02:03.395934Z",
     "shell.execute_reply": "2022-10-04T01:02:03.395390Z"
    },
    "papermill": {
     "duration": 0.036767,
     "end_time": "2022-10-04T01:02:03.396033",
     "exception": false,
     "start_time": "2022-10-04T01:02:03.359266",
     "status": "completed"
    },
    "tags": []
   },
   "outputs": [],
   "source": [
    "#hide\n",
    "def get_mappings(url):\n",
    "    df = pd.read_csv(url)\n",
    "    return {\n",
    "        'df': df,\n",
    "        'replace.country': dict(df.dropna(subset=['Name']).set_index('Country')['Name']),\n",
    "        'map.continent': dict(df.set_index('Name')['Continent'])\n",
    "    }"
   ]
  },
  {
   "cell_type": "code",
   "execution_count": 5,
   "id": "intimate-machinery",
   "metadata": {
    "execution": {
     "iopub.execute_input": "2022-10-04T01:02:03.460324Z",
     "iopub.status.busy": "2022-10-04T01:02:03.459762Z",
     "iopub.status.idle": "2022-10-04T01:02:03.497513Z",
     "shell.execute_reply": "2022-10-04T01:02:03.497044Z"
    },
    "papermill": {
     "duration": 0.071901,
     "end_time": "2022-10-04T01:02:03.497616",
     "exception": false,
     "start_time": "2022-10-04T01:02:03.425715",
     "status": "completed"
    },
    "tags": []
   },
   "outputs": [],
   "source": [
    "#hide\n",
    "mapping = get_mappings(paths['mapping'])"
   ]
  },
  {
   "cell_type": "code",
   "execution_count": 6,
   "id": "certified-tactics",
   "metadata": {
    "execution": {
     "iopub.execute_input": "2022-10-04T01:02:03.562014Z",
     "iopub.status.busy": "2022-10-04T01:02:03.561449Z",
     "iopub.status.idle": "2022-10-04T01:02:03.563762Z",
     "shell.execute_reply": "2022-10-04T01:02:03.564189Z"
    },
    "papermill": {
     "duration": 0.036733,
     "end_time": "2022-10-04T01:02:03.564300",
     "exception": false,
     "start_time": "2022-10-04T01:02:03.527567",
     "status": "completed"
    },
    "tags": []
   },
   "outputs": [],
   "source": [
    "#hide\n",
    "def get_template(path):\n",
    "    from urllib.parse import urlparse\n",
    "    if bool(urlparse(path).netloc):\n",
    "        from urllib.request import urlopen\n",
    "        return urlopen(path).read().decode('utf8')\n",
    "    return open(path).read()"
   ]
  },
  {
   "cell_type": "code",
   "execution_count": 7,
   "id": "realistic-blast",
   "metadata": {
    "execution": {
     "iopub.execute_input": "2022-10-04T01:02:03.628456Z",
     "iopub.status.busy": "2022-10-04T01:02:03.627883Z",
     "iopub.status.idle": "2022-10-04T01:02:03.630642Z",
     "shell.execute_reply": "2022-10-04T01:02:03.630167Z"
    },
    "papermill": {
     "duration": 0.036705,
     "end_time": "2022-10-04T01:02:03.630744",
     "exception": false,
     "start_time": "2022-10-04T01:02:03.594039",
     "status": "completed"
    },
    "tags": []
   },
   "outputs": [],
   "source": [
    "#hide\n",
    "def get_frame(name):\n",
    "    url = (\n",
    "        'https://raw.githubusercontent.com/CSSEGISandData/COVID-19/master/csse_covid_19_data/'\n",
    "        f'csse_covid_19_time_series/time_series_covid19_{name}_global.csv')\n",
    "    df = pd.read_csv(url)\n",
    "    # rename countries\n",
    "    df['Country/Region'] = df['Country/Region'].replace(mapping['replace.country'])\n",
    "    return df"
   ]
  },
  {
   "cell_type": "code",
   "execution_count": 8,
   "id": "affiliated-characterization",
   "metadata": {
    "execution": {
     "iopub.execute_input": "2022-10-04T01:02:03.695966Z",
     "iopub.status.busy": "2022-10-04T01:02:03.695404Z",
     "iopub.status.idle": "2022-10-04T01:02:03.697715Z",
     "shell.execute_reply": "2022-10-04T01:02:03.697276Z"
    },
    "papermill": {
     "duration": 0.03713,
     "end_time": "2022-10-04T01:02:03.697812",
     "exception": false,
     "start_time": "2022-10-04T01:02:03.660682",
     "status": "completed"
    },
    "tags": []
   },
   "outputs": [],
   "source": [
    "#hide\n",
    "def get_dates(df):\n",
    "    dt_cols = df.columns[~df.columns.isin(['Province/State', 'Country/Region', 'Lat', 'Long'])]\n",
    "    LAST_DATE_I = -1\n",
    "    # sometimes last column may be empty, then go backwards\n",
    "    for i in range(-1, -len(dt_cols), -1):\n",
    "        if not df[dt_cols[i]].fillna(0).eq(0).all():\n",
    "            LAST_DATE_I = i\n",
    "            break\n",
    "    return LAST_DATE_I, dt_cols"
   ]
  },
  {
   "cell_type": "code",
   "execution_count": 9,
   "id": "recent-optimization",
   "metadata": {
    "execution": {
     "iopub.execute_input": "2022-10-04T01:02:03.761043Z",
     "iopub.status.busy": "2022-10-04T01:02:03.760485Z",
     "iopub.status.idle": "2022-10-04T01:02:04.240019Z",
     "shell.execute_reply": "2022-10-04T01:02:04.239426Z"
    },
    "papermill": {
     "duration": 0.512781,
     "end_time": "2022-10-04T01:02:04.240132",
     "exception": false,
     "start_time": "2022-10-04T01:02:03.727351",
     "status": "completed"
    },
    "tags": []
   },
   "outputs": [],
   "source": [
    "#hide\n",
    "COL_REGION = 'Country/Region'\n",
    "# Confirmed, Recovered, Deaths\n",
    "df = get_frame('confirmed')\n",
    "# dft_: timeseries, dfc_: today country agg\n",
    "dft_cases = df\n",
    "dft_deaths = get_frame('deaths')\n",
    "dft_recovered = get_frame('recovered')\n",
    "LAST_DATE_I, dt_cols = get_dates(df)"
   ]
  },
  {
   "cell_type": "code",
   "execution_count": 10,
   "id": "absolute-copper",
   "metadata": {
    "execution": {
     "iopub.execute_input": "2022-10-04T01:02:04.304897Z",
     "iopub.status.busy": "2022-10-04T01:02:04.304345Z",
     "iopub.status.idle": "2022-10-04T01:02:04.306610Z",
     "shell.execute_reply": "2022-10-04T01:02:04.307086Z"
    },
    "papermill": {
     "duration": 0.037167,
     "end_time": "2022-10-04T01:02:04.307210",
     "exception": false,
     "start_time": "2022-10-04T01:02:04.270043",
     "status": "completed"
    },
    "tags": []
   },
   "outputs": [],
   "source": [
    "#hide\n",
    "LAST_DATE_I, dt_cols = get_dates(df)\n",
    "dt_today =dt_cols[LAST_DATE_I]\n",
    "# dt_5day = dt_cols[LAST_DATE_I - 5]\n",
    "dt_yday = dt_cols[LAST_DATE_I - 1]"
   ]
  },
  {
   "cell_type": "code",
   "execution_count": 11,
   "id": "restricted-sheriff",
   "metadata": {
    "execution": {
     "iopub.execute_input": "2022-10-04T01:02:04.371787Z",
     "iopub.status.busy": "2022-10-04T01:02:04.371230Z",
     "iopub.status.idle": "2022-10-04T01:02:04.378340Z",
     "shell.execute_reply": "2022-10-04T01:02:04.378794Z"
    },
    "papermill": {
     "duration": 0.04204,
     "end_time": "2022-10-04T01:02:04.378931",
     "exception": false,
     "start_time": "2022-10-04T01:02:04.336891",
     "status": "completed"
    },
    "tags": []
   },
   "outputs": [],
   "source": [
    "#hide\n",
    "dfc_cases = dft_cases.groupby(COL_REGION)[dt_today].sum()\n",
    "dfc_deaths = dft_deaths.groupby(COL_REGION)[dt_today].sum()\n",
    "# dfp_cases = dft_cases.groupby(COL_REGION)[dt_5day].sum()\n",
    "# dfp_deaths = dft_deaths.groupby(COL_REGION)[dt_5day].sum()\n",
    "dfp_cases = dft_cases.groupby(COL_REGION)[dt_yday].sum()\n",
    "dfp_deaths = dft_deaths.groupby(COL_REGION)[dt_yday].sum()"
   ]
  },
  {
   "cell_type": "code",
   "execution_count": 12,
   "id": "deluxe-hepatitis",
   "metadata": {
    "execution": {
     "iopub.execute_input": "2022-10-04T01:02:04.443784Z",
     "iopub.status.busy": "2022-10-04T01:02:04.443218Z",
     "iopub.status.idle": "2022-10-04T01:02:04.447408Z",
     "shell.execute_reply": "2022-10-04T01:02:04.447832Z"
    },
    "papermill": {
     "duration": 0.039326,
     "end_time": "2022-10-04T01:02:04.447947",
     "exception": false,
     "start_time": "2022-10-04T01:02:04.408621",
     "status": "completed"
    },
    "tags": []
   },
   "outputs": [],
   "source": [
    "#hide\n",
    "df_table = (pd.DataFrame(dict(Cases = dfc_cases, Deaths = dfc_deaths, PCases = dfp_cases, PDeaths = dfp_deaths))\n",
    "            .sort_values(by = ['Cases','Deaths'], ascending = [False, False])\n",
    "            .reset_index())"
   ]
  },
  {
   "cell_type": "code",
   "execution_count": 13,
   "id": "educational-chancellor",
   "metadata": {
    "execution": {
     "iopub.execute_input": "2022-10-04T01:02:04.523120Z",
     "iopub.status.busy": "2022-10-04T01:02:04.522524Z",
     "iopub.status.idle": "2022-10-04T01:02:04.529800Z",
     "shell.execute_reply": "2022-10-04T01:02:04.530254Z"
    },
    "papermill": {
     "duration": 0.052949,
     "end_time": "2022-10-04T01:02:04.530368",
     "exception": false,
     "start_time": "2022-10-04T01:02:04.477419",
     "status": "completed"
    },
    "tags": []
   },
   "outputs": [
    {
     "data": {
      "text/html": [
       "<div>\n",
       "<style scoped>\n",
       "    .dataframe tbody tr th:only-of-type {\n",
       "        vertical-align: middle;\n",
       "    }\n",
       "\n",
       "    .dataframe tbody tr th {\n",
       "        vertical-align: top;\n",
       "    }\n",
       "\n",
       "    .dataframe thead th {\n",
       "        text-align: right;\n",
       "    }\n",
       "</style>\n",
       "<table border=\"1\" class=\"dataframe\">\n",
       "  <thead>\n",
       "    <tr style=\"text-align: right;\">\n",
       "      <th></th>\n",
       "      <th>Country/Region</th>\n",
       "      <th>Cases</th>\n",
       "      <th>Deaths</th>\n",
       "      <th>PCases</th>\n",
       "      <th>PDeaths</th>\n",
       "      <th>Cases (+)</th>\n",
       "      <th>Deaths (+)</th>\n",
       "      <th>Fatality Rate</th>\n",
       "      <th>Continent</th>\n",
       "    </tr>\n",
       "  </thead>\n",
       "  <tbody>\n",
       "    <tr>\n",
       "      <th>0</th>\n",
       "      <td>US</td>\n",
       "      <td>96397885</td>\n",
       "      <td>1059605</td>\n",
       "      <td>96392543</td>\n",
       "      <td>1059605</td>\n",
       "      <td>5342</td>\n",
       "      <td>0</td>\n",
       "      <td>1.10</td>\n",
       "      <td>North America</td>\n",
       "    </tr>\n",
       "    <tr>\n",
       "      <th>1</th>\n",
       "      <td>India</td>\n",
       "      <td>44597498</td>\n",
       "      <td>528701</td>\n",
       "      <td>44594487</td>\n",
       "      <td>528673</td>\n",
       "      <td>3011</td>\n",
       "      <td>28</td>\n",
       "      <td>1.19</td>\n",
       "      <td>Asia</td>\n",
       "    </tr>\n",
       "    <tr>\n",
       "      <th>2</th>\n",
       "      <td>France</td>\n",
       "      <td>35608285</td>\n",
       "      <td>156152</td>\n",
       "      <td>35608285</td>\n",
       "      <td>156152</td>\n",
       "      <td>0</td>\n",
       "      <td>0</td>\n",
       "      <td>0.44</td>\n",
       "      <td>Europe</td>\n",
       "    </tr>\n",
       "    <tr>\n",
       "      <th>3</th>\n",
       "      <td>Brazil</td>\n",
       "      <td>34672524</td>\n",
       "      <td>686036</td>\n",
       "      <td>34672524</td>\n",
       "      <td>686036</td>\n",
       "      <td>0</td>\n",
       "      <td>0</td>\n",
       "      <td>1.98</td>\n",
       "      <td>South America</td>\n",
       "    </tr>\n",
       "    <tr>\n",
       "      <th>4</th>\n",
       "      <td>Germany</td>\n",
       "      <td>33386229</td>\n",
       "      <td>150064</td>\n",
       "      <td>33386229</td>\n",
       "      <td>150064</td>\n",
       "      <td>0</td>\n",
       "      <td>0</td>\n",
       "      <td>0.45</td>\n",
       "      <td>Europe</td>\n",
       "    </tr>\n",
       "  </tbody>\n",
       "</table>\n",
       "</div>"
      ],
      "text/plain": [
       "  Country/Region     Cases   Deaths    PCases  PDeaths  Cases (+)  Deaths (+)  \\\n",
       "0             US  96397885  1059605  96392543  1059605       5342           0   \n",
       "1          India  44597498   528701  44594487   528673       3011          28   \n",
       "2         France  35608285   156152  35608285   156152          0           0   \n",
       "3         Brazil  34672524   686036  34672524   686036          0           0   \n",
       "4        Germany  33386229   150064  33386229   150064          0           0   \n",
       "\n",
       "   Fatality Rate      Continent  \n",
       "0           1.10  North America  \n",
       "1           1.19           Asia  \n",
       "2           0.44         Europe  \n",
       "3           1.98  South America  \n",
       "4           0.45         Europe  "
      ]
     },
     "execution_count": 13,
     "metadata": {},
     "output_type": "execute_result"
    }
   ],
   "source": [
    "#hide\n",
    "for c in 'Cases, Deaths'.split(', '):\n",
    "    df_table[f'{c} (+)'] = (df_table[c] - df_table[f'P{c}']).clip(0)\n",
    "    #Clip ça veut dire, les chiffres negatif sont interdit\n",
    "df_table['Fatality Rate'] = (100* df_table['Deaths']/ df_table['Cases']).round(2)\n",
    "df_table['Continent'] = df_table['Country/Region'].map(mapping['map.continent'])\n",
    "df_table.head(5)"
   ]
  },
  {
   "cell_type": "code",
   "execution_count": 14,
   "id": "aboriginal-bulgaria",
   "metadata": {
    "execution": {
     "iopub.execute_input": "2022-10-04T01:02:04.595614Z",
     "iopub.status.busy": "2022-10-04T01:02:04.595053Z",
     "iopub.status.idle": "2022-10-04T01:02:04.597727Z",
     "shell.execute_reply": "2022-10-04T01:02:04.597280Z"
    },
    "papermill": {
     "duration": 0.037347,
     "end_time": "2022-10-04T01:02:04.597828",
     "exception": false,
     "start_time": "2022-10-04T01:02:04.560481",
     "status": "completed"
    },
    "tags": []
   },
   "outputs": [],
   "source": [
    "#hide\n",
    "#delete problematic countries from table\n",
    "df_table = df_table[~df_table['Country/Region'].isin(['Cape Verde', 'Cruise Ship', 'Kosovo'])]"
   ]
  },
  {
   "cell_type": "code",
   "execution_count": 15,
   "id": "fantastic-effect",
   "metadata": {
    "execution": {
     "iopub.execute_input": "2022-10-04T01:02:04.665324Z",
     "iopub.status.busy": "2022-10-04T01:02:04.664764Z",
     "iopub.status.idle": "2022-10-04T01:02:04.681538Z",
     "shell.execute_reply": "2022-10-04T01:02:04.681970Z"
    },
    "papermill": {
     "duration": 0.054177,
     "end_time": "2022-10-04T01:02:04.682090",
     "exception": false,
     "start_time": "2022-10-04T01:02:04.627913",
     "status": "completed"
    },
    "tags": []
   },
   "outputs": [
    {
     "data": {
      "text/html": [
       "<div>\n",
       "<style scoped>\n",
       "    .dataframe tbody tr th:only-of-type {\n",
       "        vertical-align: middle;\n",
       "    }\n",
       "\n",
       "    .dataframe tbody tr th {\n",
       "        vertical-align: top;\n",
       "    }\n",
       "\n",
       "    .dataframe thead th {\n",
       "        text-align: right;\n",
       "    }\n",
       "</style>\n",
       "<table border=\"1\" class=\"dataframe\">\n",
       "  <thead>\n",
       "    <tr style=\"text-align: right;\">\n",
       "      <th></th>\n",
       "      <th>Country/Region</th>\n",
       "      <th>Cases</th>\n",
       "      <th>Deaths</th>\n",
       "      <th>PCases</th>\n",
       "      <th>PDeaths</th>\n",
       "      <th>Cases (+)</th>\n",
       "      <th>Deaths (+)</th>\n",
       "      <th>Fatality Rate</th>\n",
       "      <th>Continent</th>\n",
       "    </tr>\n",
       "  </thead>\n",
       "  <tbody>\n",
       "    <tr>\n",
       "      <th>0</th>\n",
       "      <td>US</td>\n",
       "      <td>96397885</td>\n",
       "      <td>1059605</td>\n",
       "      <td>96392543</td>\n",
       "      <td>1059605</td>\n",
       "      <td>5342</td>\n",
       "      <td>0</td>\n",
       "      <td>1.1</td>\n",
       "      <td>North America</td>\n",
       "    </tr>\n",
       "    <tr>\n",
       "      <th>1</th>\n",
       "      <td>India</td>\n",
       "      <td>44597498</td>\n",
       "      <td>528701</td>\n",
       "      <td>44594487</td>\n",
       "      <td>528673</td>\n",
       "      <td>3011</td>\n",
       "      <td>28</td>\n",
       "      <td>1.2</td>\n",
       "      <td>Asia</td>\n",
       "    </tr>\n",
       "    <tr>\n",
       "      <th>2</th>\n",
       "      <td>France</td>\n",
       "      <td>35608285</td>\n",
       "      <td>156152</td>\n",
       "      <td>35608285</td>\n",
       "      <td>156152</td>\n",
       "      <td>0</td>\n",
       "      <td>0</td>\n",
       "      <td>0.4</td>\n",
       "      <td>Europe</td>\n",
       "    </tr>\n",
       "    <tr>\n",
       "      <th>3</th>\n",
       "      <td>Brazil</td>\n",
       "      <td>34672524</td>\n",
       "      <td>686036</td>\n",
       "      <td>34672524</td>\n",
       "      <td>686036</td>\n",
       "      <td>0</td>\n",
       "      <td>0</td>\n",
       "      <td>2.0</td>\n",
       "      <td>South America</td>\n",
       "    </tr>\n",
       "    <tr>\n",
       "      <th>4</th>\n",
       "      <td>Germany</td>\n",
       "      <td>33386229</td>\n",
       "      <td>150064</td>\n",
       "      <td>33386229</td>\n",
       "      <td>150064</td>\n",
       "      <td>0</td>\n",
       "      <td>0</td>\n",
       "      <td>0.4</td>\n",
       "      <td>Europe</td>\n",
       "    </tr>\n",
       "  </tbody>\n",
       "</table>\n",
       "</div>"
      ],
      "text/plain": [
       "  Country/Region     Cases   Deaths    PCases  PDeaths  Cases (+)  Deaths (+)  \\\n",
       "0             US  96397885  1059605  96392543  1059605       5342           0   \n",
       "1          India  44597498   528701  44594487   528673       3011          28   \n",
       "2         France  35608285   156152  35608285   156152          0           0   \n",
       "3         Brazil  34672524   686036  34672524   686036          0           0   \n",
       "4        Germany  33386229   150064  33386229   150064          0           0   \n",
       "\n",
       "   Fatality Rate      Continent  \n",
       "0            1.1  North America  \n",
       "1            1.2           Asia  \n",
       "2            0.4         Europe  \n",
       "3            2.0  South America  \n",
       "4            0.4         Europe  "
      ]
     },
     "execution_count": 15,
     "metadata": {},
     "output_type": "execute_result"
    }
   ],
   "source": [
    "#hide\n",
    "df_table = (pd.DataFrame(dict(Cases=dfc_cases, Deaths=dfc_deaths, PCases=dfp_cases, PDeaths=dfp_deaths))\n",
    "             .sort_values(by=['Cases', 'Deaths'], ascending=[False, False])\n",
    "             .reset_index())\n",
    "df_table.rename(columns={'index': 'Country/Region'}, inplace=True)\n",
    "for c in 'Cases, Deaths'.split(', '):\n",
    "    df_table[f'{c} (+)'] = (df_table[c] - df_table[f'P{c}']).clip(0)  # DATA BUG\n",
    "df_table['Fatality Rate'] = (100 * df_table['Deaths'] / df_table['Cases']).round(1)\n",
    "df_table['Continent'] = df_table['Country/Region'].map(mapping['map.continent'])\n",
    "df_table.head(5)"
   ]
  },
  {
   "cell_type": "code",
   "execution_count": 16,
   "id": "fewer-occasion",
   "metadata": {
    "execution": {
     "iopub.execute_input": "2022-10-04T01:02:04.748597Z",
     "iopub.status.busy": "2022-10-04T01:02:04.748046Z",
     "iopub.status.idle": "2022-10-04T01:02:04.750300Z",
     "shell.execute_reply": "2022-10-04T01:02:04.750733Z"
    },
    "papermill": {
     "duration": 0.038009,
     "end_time": "2022-10-04T01:02:04.750862",
     "exception": false,
     "start_time": "2022-10-04T01:02:04.712853",
     "status": "completed"
    },
    "tags": []
   },
   "outputs": [],
   "source": [
    "#hide\n",
    "#delete problematic countries from table\n",
    "df_table = df_table[~df_table['Country/Region'].isin(['Cape Verde', 'Cruise Ship', 'Kosovo'])]"
   ]
  },
  {
   "cell_type": "code",
   "execution_count": 17,
   "id": "related-center",
   "metadata": {
    "execution": {
     "iopub.execute_input": "2022-10-04T01:02:04.828396Z",
     "iopub.status.busy": "2022-10-04T01:02:04.827827Z",
     "iopub.status.idle": "2022-10-04T01:02:04.830509Z",
     "shell.execute_reply": "2022-10-04T01:02:04.830050Z"
    },
    "papermill": {
     "duration": 0.049335,
     "end_time": "2022-10-04T01:02:04.830608",
     "exception": false,
     "start_time": "2022-10-04T01:02:04.781273",
     "status": "completed"
    },
    "tags": []
   },
   "outputs": [],
   "source": [
    "#hide\n",
    "metrics = [df_table.columns[index] for index in [1,2,5,6]]\n",
    "# s_china = df_table[df_table['Country/Region'].eq('China')][metrics].sum().add_prefix('China ')\n",
    "s_us = df_table[df_table['Country/Region'].eq('US')][metrics].sum().add_prefix('US ')\n",
    "s_eu = df_table[df_table['Continent'].eq('Europe')][metrics].sum().add_prefix('EU ')\n",
    "s_ind = df_table[df_table['Country/Region'].eq('India')][metrics].sum().add_prefix('India ')\n",
    "summary = {'updated': pd.to_datetime(dt_today), 'since': pd.to_datetime(dt_yday)}\n",
    "summary = {'updated': pd.to_datetime(dt_today), 'since': pd.to_datetime(dt_yday)}\n",
    "summary = {**summary, **df_table[metrics].sum(), **s_ind, **s_us, **s_eu}"
   ]
  },
  {
   "cell_type": "code",
   "execution_count": 18,
   "id": "engaging-syndrome",
   "metadata": {
    "execution": {
     "iopub.execute_input": "2022-10-04T01:02:04.896568Z",
     "iopub.status.busy": "2022-10-04T01:02:04.895996Z",
     "iopub.status.idle": "2022-10-04T01:02:04.916872Z",
     "shell.execute_reply": "2022-10-04T01:02:04.916379Z"
    },
    "papermill": {
     "duration": 0.055818,
     "end_time": "2022-10-04T01:02:04.916981",
     "exception": false,
     "start_time": "2022-10-04T01:02:04.861163",
     "status": "completed"
    },
    "tags": []
   },
   "outputs": [],
   "source": [
    "#hide\n",
    "dft_ct_new_cases = dft_cases.groupby(COL_REGION)[dt_cols].sum().diff(axis=1).fillna(0).astype(int)"
   ]
  },
  {
   "cell_type": "code",
   "execution_count": 19,
   "id": "neutral-assignment",
   "metadata": {
    "execution": {
     "iopub.execute_input": "2022-10-04T01:02:04.984127Z",
     "iopub.status.busy": "2022-10-04T01:02:04.983576Z",
     "iopub.status.idle": "2022-10-04T01:02:04.985800Z",
     "shell.execute_reply": "2022-10-04T01:02:04.986236Z"
    },
    "papermill": {
     "duration": 0.038709,
     "end_time": "2022-10-04T01:02:04.986353",
     "exception": false,
     "start_time": "2022-10-04T01:02:04.947644",
     "status": "completed"
    },
    "tags": []
   },
   "outputs": [],
   "source": [
    "#hide\n",
    "everydaycases = dft_ct_new_cases.cumsum(axis=1)"
   ]
  },
  {
   "cell_type": "code",
   "execution_count": 20,
   "id": "parliamentary-calgary",
   "metadata": {
    "execution": {
     "iopub.execute_input": "2022-10-04T01:02:05.052170Z",
     "iopub.status.busy": "2022-10-04T01:02:05.051617Z",
     "iopub.status.idle": "2022-10-04T01:02:05.589671Z",
     "shell.execute_reply": "2022-10-04T01:02:05.589186Z"
    },
    "papermill": {
     "duration": 0.572647,
     "end_time": "2022-10-04T01:02:05.589787",
     "exception": false,
     "start_time": "2022-10-04T01:02:05.017140",
     "status": "completed"
    },
    "tags": []
   },
   "outputs": [],
   "source": [
    "#hide\n",
    "import pandas as pd\n",
    "import matplotlib.pyplot as plt\n",
    "import matplotlib.ticker as ticker\n",
    "import matplotlib.animation as animation\n",
    "from IPython.display import HTML"
   ]
  },
  {
   "cell_type": "code",
   "execution_count": 21,
   "id": "lasting-extraction",
   "metadata": {
    "execution": {
     "iopub.execute_input": "2022-10-04T01:02:05.670245Z",
     "iopub.status.busy": "2022-10-04T01:02:05.669687Z",
     "iopub.status.idle": "2022-10-04T01:02:05.677502Z",
     "shell.execute_reply": "2022-10-04T01:02:05.677044Z"
    },
    "papermill": {
     "duration": 0.057118,
     "end_time": "2022-10-04T01:02:05.677604",
     "exception": false,
     "start_time": "2022-10-04T01:02:05.620486",
     "status": "completed"
    },
    "tags": []
   },
   "outputs": [],
   "source": [
    "#hide\n",
    "t = everydaycases.stack()"
   ]
  },
  {
   "cell_type": "code",
   "execution_count": 22,
   "id": "premier-sleeve",
   "metadata": {
    "execution": {
     "iopub.execute_input": "2022-10-04T01:02:05.742593Z",
     "iopub.status.busy": "2022-10-04T01:02:05.742043Z",
     "iopub.status.idle": "2022-10-04T01:02:05.753161Z",
     "shell.execute_reply": "2022-10-04T01:02:05.753684Z"
    },
    "papermill": {
     "duration": 0.045608,
     "end_time": "2022-10-04T01:02:05.753798",
     "exception": false,
     "start_time": "2022-10-04T01:02:05.708190",
     "status": "completed"
    },
    "tags": []
   },
   "outputs": [],
   "source": [
    "#hide\n",
    "g = t.reset_index(['Country/Region'])"
   ]
  },
  {
   "cell_type": "code",
   "execution_count": 23,
   "id": "distributed-pittsburgh",
   "metadata": {
    "execution": {
     "iopub.execute_input": "2022-10-04T01:02:05.818480Z",
     "iopub.status.busy": "2022-10-04T01:02:05.817913Z",
     "iopub.status.idle": "2022-10-04T01:02:05.820404Z",
     "shell.execute_reply": "2022-10-04T01:02:05.819886Z"
    },
    "papermill": {
     "duration": 0.036294,
     "end_time": "2022-10-04T01:02:05.820504",
     "exception": false,
     "start_time": "2022-10-04T01:02:05.784210",
     "status": "completed"
    },
    "tags": []
   },
   "outputs": [],
   "source": [
    "#hide\n",
    "g.index.name = 'date'"
   ]
  },
  {
   "cell_type": "code",
   "execution_count": 24,
   "id": "naked-donor",
   "metadata": {
    "execution": {
     "iopub.execute_input": "2022-10-04T01:02:05.885301Z",
     "iopub.status.busy": "2022-10-04T01:02:05.884743Z",
     "iopub.status.idle": "2022-10-04T01:02:05.888505Z",
     "shell.execute_reply": "2022-10-04T01:02:05.887965Z"
    },
    "papermill": {
     "duration": 0.037382,
     "end_time": "2022-10-04T01:02:05.888604",
     "exception": false,
     "start_time": "2022-10-04T01:02:05.851222",
     "status": "completed"
    },
    "tags": []
   },
   "outputs": [],
   "source": [
    "# #hide\n",
    "# g = g.reset_index(['date'])"
   ]
  },
  {
   "cell_type": "code",
   "execution_count": 25,
   "id": "incomplete-mustang",
   "metadata": {
    "execution": {
     "iopub.execute_input": "2022-10-04T01:02:05.953291Z",
     "iopub.status.busy": "2022-10-04T01:02:05.952724Z",
     "iopub.status.idle": "2022-10-04T01:02:05.955238Z",
     "shell.execute_reply": "2022-10-04T01:02:05.954688Z"
    },
    "papermill": {
     "duration": 0.03617,
     "end_time": "2022-10-04T01:02:05.955338",
     "exception": false,
     "start_time": "2022-10-04T01:02:05.919168",
     "status": "completed"
    },
    "tags": []
   },
   "outputs": [],
   "source": [
    "#hide\n",
    "# g.head()"
   ]
  },
  {
   "cell_type": "code",
   "execution_count": 26,
   "id": "specific-kruger",
   "metadata": {
    "execution": {
     "iopub.execute_input": "2022-10-04T01:02:06.019865Z",
     "iopub.status.busy": "2022-10-04T01:02:06.019297Z",
     "iopub.status.idle": "2022-10-04T01:02:06.021809Z",
     "shell.execute_reply": "2022-10-04T01:02:06.021392Z"
    },
    "papermill": {
     "duration": 0.035889,
     "end_time": "2022-10-04T01:02:06.021910",
     "exception": false,
     "start_time": "2022-10-04T01:02:05.986021",
     "status": "completed"
    },
    "tags": []
   },
   "outputs": [],
   "source": [
    "#hide\n",
    "# g.columns = ['date','country','cases']"
   ]
  },
  {
   "cell_type": "code",
   "execution_count": 27,
   "id": "tender-conversion",
   "metadata": {
    "execution": {
     "iopub.execute_input": "2022-10-04T01:02:06.085773Z",
     "iopub.status.busy": "2022-10-04T01:02:06.085203Z",
     "iopub.status.idle": "2022-10-04T01:02:06.087682Z",
     "shell.execute_reply": "2022-10-04T01:02:06.087163Z"
    },
    "papermill": {
     "duration": 0.035517,
     "end_time": "2022-10-04T01:02:06.087782",
     "exception": false,
     "start_time": "2022-10-04T01:02:06.052265",
     "status": "completed"
    },
    "tags": []
   },
   "outputs": [],
   "source": [
    "#hide\n",
    "# g['continent'] = g.country"
   ]
  },
  {
   "cell_type": "code",
   "execution_count": 28,
   "id": "substantial-wilderness",
   "metadata": {
    "execution": {
     "iopub.execute_input": "2022-10-04T01:02:06.152650Z",
     "iopub.status.busy": "2022-10-04T01:02:06.152090Z",
     "iopub.status.idle": "2022-10-04T01:02:06.154521Z",
     "shell.execute_reply": "2022-10-04T01:02:06.154000Z"
    },
    "papermill": {
     "duration": 0.036144,
     "end_time": "2022-10-04T01:02:06.154621",
     "exception": false,
     "start_time": "2022-10-04T01:02:06.118477",
     "status": "completed"
    },
    "tags": []
   },
   "outputs": [],
   "source": [
    "#hide\n",
    "# cols = list(g.columns.values)"
   ]
  },
  {
   "cell_type": "code",
   "execution_count": 29,
   "id": "solved-farming",
   "metadata": {
    "execution": {
     "iopub.execute_input": "2022-10-04T01:02:06.218727Z",
     "iopub.status.busy": "2022-10-04T01:02:06.218165Z",
     "iopub.status.idle": "2022-10-04T01:02:06.220226Z",
     "shell.execute_reply": "2022-10-04T01:02:06.220634Z"
    },
    "papermill": {
     "duration": 0.035752,
     "end_time": "2022-10-04T01:02:06.220752",
     "exception": false,
     "start_time": "2022-10-04T01:02:06.185000",
     "status": "completed"
    },
    "tags": []
   },
   "outputs": [],
   "source": [
    "#hide\n",
    "# cols.insert(0, cols.pop())"
   ]
  },
  {
   "cell_type": "code",
   "execution_count": 30,
   "id": "executed-adoption",
   "metadata": {
    "execution": {
     "iopub.execute_input": "2022-10-04T01:02:06.285442Z",
     "iopub.status.busy": "2022-10-04T01:02:06.284880Z",
     "iopub.status.idle": "2022-10-04T01:02:06.288628Z",
     "shell.execute_reply": "2022-10-04T01:02:06.288164Z"
    },
    "papermill": {
     "duration": 0.037205,
     "end_time": "2022-10-04T01:02:06.288727",
     "exception": false,
     "start_time": "2022-10-04T01:02:06.251522",
     "status": "completed"
    },
    "tags": []
   },
   "outputs": [],
   "source": [
    "#hide\n",
    "# g = g[cols]"
   ]
  },
  {
   "cell_type": "code",
   "execution_count": 31,
   "id": "subject-dublin",
   "metadata": {
    "execution": {
     "iopub.execute_input": "2022-10-04T01:02:06.353058Z",
     "iopub.status.busy": "2022-10-04T01:02:06.352499Z",
     "iopub.status.idle": "2022-10-04T01:02:06.354907Z",
     "shell.execute_reply": "2022-10-04T01:02:06.354352Z"
    },
    "papermill": {
     "duration": 0.035798,
     "end_time": "2022-10-04T01:02:06.355009",
     "exception": false,
     "start_time": "2022-10-04T01:02:06.319211",
     "status": "completed"
    },
    "tags": []
   },
   "outputs": [],
   "source": [
    "#hide\n",
    "# g['continent'] = g['continent'].map(mapping['map.continent'])"
   ]
  },
  {
   "cell_type": "code",
   "execution_count": 32,
   "id": "freelance-scout",
   "metadata": {
    "execution": {
     "iopub.execute_input": "2022-10-04T01:02:06.419556Z",
     "iopub.status.busy": "2022-10-04T01:02:06.418983Z",
     "iopub.status.idle": "2022-10-04T01:02:06.421391Z",
     "shell.execute_reply": "2022-10-04T01:02:06.420957Z"
    },
    "papermill": {
     "duration": 0.035829,
     "end_time": "2022-10-04T01:02:06.421488",
     "exception": false,
     "start_time": "2022-10-04T01:02:06.385659",
     "status": "completed"
    },
    "tags": []
   },
   "outputs": [],
   "source": [
    "#hide\n",
    "# g.head()"
   ]
  },
  {
   "cell_type": "code",
   "execution_count": 33,
   "id": "limited-engine",
   "metadata": {
    "execution": {
     "iopub.execute_input": "2022-10-04T01:02:06.485623Z",
     "iopub.status.busy": "2022-10-04T01:02:06.485074Z",
     "iopub.status.idle": "2022-10-04T01:02:06.488702Z",
     "shell.execute_reply": "2022-10-04T01:02:06.488222Z"
    },
    "papermill": {
     "duration": 0.036822,
     "end_time": "2022-10-04T01:02:06.488802",
     "exception": false,
     "start_time": "2022-10-04T01:02:06.451980",
     "status": "completed"
    },
    "tags": []
   },
   "outputs": [],
   "source": [
    "# hide\n",
    "# g['date'] = g['date'].astype('datetime64[ns]')"
   ]
  },
  {
   "cell_type": "code",
   "execution_count": 34,
   "id": "sophisticated-supervisor",
   "metadata": {
    "execution": {
     "iopub.execute_input": "2022-10-04T01:02:06.553208Z",
     "iopub.status.busy": "2022-10-04T01:02:06.552632Z",
     "iopub.status.idle": "2022-10-04T01:02:06.555063Z",
     "shell.execute_reply": "2022-10-04T01:02:06.554609Z"
    },
    "papermill": {
     "duration": 0.03568,
     "end_time": "2022-10-04T01:02:06.555162",
     "exception": false,
     "start_time": "2022-10-04T01:02:06.519482",
     "status": "completed"
    },
    "tags": []
   },
   "outputs": [],
   "source": [
    "#hide\n",
    "# g['date'] = g.date.dt.dayofyear"
   ]
  },
  {
   "cell_type": "code",
   "execution_count": 35,
   "id": "inside-dubai",
   "metadata": {
    "execution": {
     "iopub.execute_input": "2022-10-04T01:02:06.619813Z",
     "iopub.status.busy": "2022-10-04T01:02:06.619223Z",
     "iopub.status.idle": "2022-10-04T01:02:06.621338Z",
     "shell.execute_reply": "2022-10-04T01:02:06.620899Z"
    },
    "papermill": {
     "duration": 0.03581,
     "end_time": "2022-10-04T01:02:06.621436",
     "exception": false,
     "start_time": "2022-10-04T01:02:06.585626",
     "status": "completed"
    },
    "tags": []
   },
   "outputs": [],
   "source": [
    "#hide\n",
    "# g = g.rename(columns= {'continent':'group','country':'name','cases':'value'})"
   ]
  },
  {
   "cell_type": "code",
   "execution_count": 36,
   "id": "fleet-motorcycle",
   "metadata": {
    "execution": {
     "iopub.execute_input": "2022-10-04T01:02:06.685809Z",
     "iopub.status.busy": "2022-10-04T01:02:06.685246Z",
     "iopub.status.idle": "2022-10-04T01:02:06.687629Z",
     "shell.execute_reply": "2022-10-04T01:02:06.687104Z"
    },
    "papermill": {
     "duration": 0.035658,
     "end_time": "2022-10-04T01:02:06.687727",
     "exception": false,
     "start_time": "2022-10-04T01:02:06.652069",
     "status": "completed"
    },
    "tags": []
   },
   "outputs": [],
   "source": [
    "#hide\n",
    "# cols = ['name','group','day','value']"
   ]
  },
  {
   "cell_type": "code",
   "execution_count": 37,
   "id": "continued-sleeping",
   "metadata": {
    "execution": {
     "iopub.execute_input": "2022-10-04T01:02:06.752111Z",
     "iopub.status.busy": "2022-10-04T01:02:06.751552Z",
     "iopub.status.idle": "2022-10-04T01:02:06.753989Z",
     "shell.execute_reply": "2022-10-04T01:02:06.753555Z"
    },
    "papermill": {
     "duration": 0.035979,
     "end_time": "2022-10-04T01:02:06.754088",
     "exception": false,
     "start_time": "2022-10-04T01:02:06.718109",
     "status": "completed"
    },
    "tags": []
   },
   "outputs": [],
   "source": [
    "#hide\n",
    "# g.rename(columns= {'date':'day'},inplace = True)"
   ]
  },
  {
   "cell_type": "code",
   "execution_count": 38,
   "id": "major-fight",
   "metadata": {
    "execution": {
     "iopub.execute_input": "2022-10-04T01:02:06.818403Z",
     "iopub.status.busy": "2022-10-04T01:02:06.817829Z",
     "iopub.status.idle": "2022-10-04T01:02:06.820295Z",
     "shell.execute_reply": "2022-10-04T01:02:06.819857Z"
    },
    "papermill": {
     "duration": 0.035841,
     "end_time": "2022-10-04T01:02:06.820394",
     "exception": false,
     "start_time": "2022-10-04T01:02:06.784553",
     "status": "completed"
    },
    "tags": []
   },
   "outputs": [],
   "source": [
    "#hide\n",
    "# g = g[cols]"
   ]
  },
  {
   "cell_type": "code",
   "execution_count": 39,
   "id": "structured-mobile",
   "metadata": {
    "execution": {
     "iopub.execute_input": "2022-10-04T01:02:06.884636Z",
     "iopub.status.busy": "2022-10-04T01:02:06.884063Z",
     "iopub.status.idle": "2022-10-04T01:02:06.886455Z",
     "shell.execute_reply": "2022-10-04T01:02:06.886017Z"
    },
    "papermill": {
     "duration": 0.035787,
     "end_time": "2022-10-04T01:02:06.886554",
     "exception": false,
     "start_time": "2022-10-04T01:02:06.850767",
     "status": "completed"
    },
    "tags": []
   },
   "outputs": [],
   "source": [
    "# #hide\n",
    "# g = g[g.group.notna()]"
   ]
  },
  {
   "cell_type": "code",
   "execution_count": 40,
   "id": "determined-closing",
   "metadata": {
    "execution": {
     "iopub.execute_input": "2022-10-04T01:02:06.951626Z",
     "iopub.status.busy": "2022-10-04T01:02:06.951042Z",
     "iopub.status.idle": "2022-10-04T01:02:06.953457Z",
     "shell.execute_reply": "2022-10-04T01:02:06.953022Z"
    },
    "papermill": {
     "duration": 0.036242,
     "end_time": "2022-10-04T01:02:06.953554",
     "exception": false,
     "start_time": "2022-10-04T01:02:06.917312",
     "status": "completed"
    },
    "tags": []
   },
   "outputs": [],
   "source": [
    "# #hide\n",
    "# colors = dict(zip(\n",
    "#     [\"Oceania\", \"Europe\", \"Asia\", \"South America\", \"Middle East\", \"North America\", \"Africa\"],\n",
    "#     [\"#adb0ff\", \"#ffb3ff\", \"#90d595\", \"#e48381\", \"#aafbff\", \"#f7bb5f\", \"#eafb50\"]\n",
    "# ))\n",
    "# group_lk = g.set_index('name')['group'].to_dict()"
   ]
  },
  {
   "cell_type": "code",
   "execution_count": null,
   "id": "gross-drinking",
   "metadata": {
    "papermill": {
     "duration": 0.030727,
     "end_time": "2022-10-04T01:02:07.014683",
     "exception": false,
     "start_time": "2022-10-04T01:02:06.983956",
     "status": "completed"
    },
    "tags": []
   },
   "outputs": [],
   "source": []
  },
  {
   "cell_type": "code",
   "execution_count": 41,
   "id": "subject-macintosh",
   "metadata": {
    "execution": {
     "iopub.execute_input": "2022-10-04T01:02:07.079959Z",
     "iopub.status.busy": "2022-10-04T01:02:07.079373Z",
     "iopub.status.idle": "2022-10-04T01:02:07.081848Z",
     "shell.execute_reply": "2022-10-04T01:02:07.081400Z"
    },
    "papermill": {
     "duration": 0.036632,
     "end_time": "2022-10-04T01:02:07.081949",
     "exception": false,
     "start_time": "2022-10-04T01:02:07.045317",
     "status": "completed"
    },
    "tags": []
   },
   "outputs": [],
   "source": [
    "# #hide\n",
    "# fig, ax = plt.subplots(figsize=(15, 8))\n",
    "\n",
    "# def draw_barchart(current_day):\n",
    "#     dff = g[g['day'].eq(current_day)].sort_values(by='value', ascending=True).tail(10)\n",
    "#     ax.clear()\n",
    "#     ax.barh(dff['name'], dff['value'], color=[colors[group_lk[x]] for x in dff['name']])\n",
    "#     dx = dff['value'].max() / 200\n",
    "    \n",
    "#     for i, (value, name) in enumerate(zip(dff['value'], dff['name'])):\n",
    "#         ax.text(value-dx, i,     name,           size=14, weight=600, ha='right', va='bottom')\n",
    "#         ax.text(value-dx, i-.25, group_lk[name], size=10, color='#444444', ha='right', va='baseline')\n",
    "#         ax.text(value+dx, i,     f'{value:,.0f}',  size=14, ha='left',  va='center')\n",
    "#     ax.text(1, 0.4, current_day, transform=ax.transAxes, color='#777777', size=46, ha='right', weight=800)\n",
    "#     ax.text(0, 1.06, 'Population (thousands)', transform=ax.transAxes, size=12, color='#777777')\n",
    "#     ax.xaxis.set_major_formatter(ticker.StrMethodFormatter('{x:,.0f}'))\n",
    "#     ax.xaxis.set_ticks_position('top')\n",
    "#     ax.tick_params(axis='x', colors='#777777', labelsize=12)\n",
    "#     ax.set_yticks([])\n",
    "#     ax.margins(0, 0.01)\n",
    "#     ax.grid(which='major', axis='x', linestyle='-')\n",
    "#     ax.set_axisbelow(True)\n",
    "    \n",
    "#     ax.text(0, 1.15, 'Coronavirus',\n",
    "#             transform=ax.transAxes, size=24, weight=600, ha='left', va='top')\n",
    "# #     ax.text(1, 0, 'by @pratapvardhan; credit @jburnmurdoch', transform=ax.transAxes, color='#777777', ha='right',\n",
    "# #             bbox=dict(facecolor='white', alpha=0.8, edgecolor='white'))\n",
    "#     plt.box(False)"
   ]
  },
  {
   "cell_type": "code",
   "execution_count": 42,
   "id": "sexual-wages",
   "metadata": {
    "execution": {
     "iopub.execute_input": "2022-10-04T01:02:07.146234Z",
     "iopub.status.busy": "2022-10-04T01:02:07.145689Z",
     "iopub.status.idle": "2022-10-04T01:02:07.148241Z",
     "shell.execute_reply": "2022-10-04T01:02:07.147796Z"
    },
    "papermill": {
     "duration": 0.035932,
     "end_time": "2022-10-04T01:02:07.148338",
     "exception": false,
     "start_time": "2022-10-04T01:02:07.112406",
     "status": "completed"
    },
    "tags": []
   },
   "outputs": [],
   "source": [
    "# #hide_input\n",
    "# fig, ax = plt.subplots(figsize=(15, 8))\n",
    "# animator = animation.FuncAnimation(fig, draw_barchart, frames=range(g.day.values.min(), g.day.values.max()))\n",
    "# HTML(animator.to_jshtml())\n",
    "# # or use animator.to_html5_video() or animator.save() "
   ]
  },
  {
   "cell_type": "code",
   "execution_count": null,
   "id": "australian-container",
   "metadata": {
    "papermill": {
     "duration": 0.030356,
     "end_time": "2022-10-04T01:02:07.209557",
     "exception": false,
     "start_time": "2022-10-04T01:02:07.179201",
     "status": "completed"
    },
    "tags": []
   },
   "outputs": [],
   "source": []
  },
  {
   "cell_type": "code",
   "execution_count": null,
   "id": "mediterranean-pontiac",
   "metadata": {
    "papermill": {
     "duration": 0.030405,
     "end_time": "2022-10-04T01:02:07.270349",
     "exception": false,
     "start_time": "2022-10-04T01:02:07.239944",
     "status": "completed"
    },
    "tags": []
   },
   "outputs": [],
   "source": []
  },
  {
   "cell_type": "code",
   "execution_count": null,
   "id": "aging-legislature",
   "metadata": {
    "papermill": {
     "duration": 0.030352,
     "end_time": "2022-10-04T01:02:07.331324",
     "exception": false,
     "start_time": "2022-10-04T01:02:07.300972",
     "status": "completed"
    },
    "tags": []
   },
   "outputs": [],
   "source": []
  }
 ],
 "metadata": {
  "kernelspec": {
   "display_name": "Python 3",
   "language": "python",
   "name": "python3"
  },
  "language_info": {
   "codemirror_mode": {
    "name": "ipython",
    "version": 3
   },
   "file_extension": ".py",
   "mimetype": "text/x-python",
   "name": "python",
   "nbconvert_exporter": "python",
   "pygments_lexer": "ipython3",
   "version": "3.6.15"
  },
  "papermill": {
   "duration": 5.826091,
   "end_time": "2022-10-04T01:02:07.679840",
   "environment_variables": {},
   "exception": null,
   "input_path": "2020-03-21-covid19exp.ipynb",
   "output_path": "2020-03-21-covid19exp.ipynb",
   "parameters": {},
   "start_time": "2022-10-04T01:02:01.853749",
   "version": "2.0.0"
  }
 },
 "nbformat": 4,
 "nbformat_minor": 5
}