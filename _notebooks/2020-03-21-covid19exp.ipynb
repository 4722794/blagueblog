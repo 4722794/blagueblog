{
 "cells": [
  {
   "cell_type": "markdown",
   "id": "muslim-click",
   "metadata": {
    "papermill": {
     "duration": 0.044565,
     "end_time": "2022-04-23T00:37:27.815431",
     "exception": false,
     "start_time": "2022-04-23T00:37:27.770866",
     "status": "completed"
    },
    "tags": []
   },
   "source": [
    "# COVID-19 Case Race\n",
    "> A race chart to see rising cases around the world\n",
    "\n",
    "- author: Hargun Oberoi\n",
    "- image: images/covid-overview.png\n",
    "- hide: false\n",
    "- badges: false"
   ]
  },
  {
   "cell_type": "code",
   "execution_count": 1,
   "id": "proof-material",
   "metadata": {
    "execution": {
     "iopub.execute_input": "2022-04-23T00:37:27.907064Z",
     "iopub.status.busy": "2022-04-23T00:37:27.906329Z",
     "iopub.status.idle": "2022-04-23T00:37:28.319582Z",
     "shell.execute_reply": "2022-04-23T00:37:28.318940Z"
    },
    "papermill": {
     "duration": 0.464092,
     "end_time": "2022-04-23T00:37:28.319758",
     "exception": false,
     "start_time": "2022-04-23T00:37:27.855666",
     "status": "completed"
    },
    "tags": []
   },
   "outputs": [],
   "source": [
    "#hide\n",
    "import numpy as np\n",
    "import pandas as pd\n",
    "from jinja2 import Template\n",
    "from IPython.display import HTML"
   ]
  },
  {
   "cell_type": "code",
   "execution_count": 2,
   "id": "developed-terminology",
   "metadata": {
    "execution": {
     "iopub.execute_input": "2022-04-23T00:37:28.416303Z",
     "iopub.status.busy": "2022-04-23T00:37:28.415541Z",
     "iopub.status.idle": "2022-04-23T00:37:28.417860Z",
     "shell.execute_reply": "2022-04-23T00:37:28.418433Z"
    },
    "papermill": {
     "duration": 0.050073,
     "end_time": "2022-04-23T00:37:28.418590",
     "exception": false,
     "start_time": "2022-04-23T00:37:28.368517",
     "status": "completed"
    },
    "tags": []
   },
   "outputs": [],
   "source": [
    "#hide\n",
    "\n",
    "# FETCH\n",
    "base_url = 'https://raw.githubusercontent.com/pratapvardhan/notebooks/master/covid19/'\n",
    "paths = {\n",
    "    'mapping': base_url + 'mapping_countries.csv',\n",
    "    'overview': base_url + 'overview.tpl'\n",
    "}"
   ]
  },
  {
   "cell_type": "code",
   "execution_count": 3,
   "id": "dynamic-saver",
   "metadata": {
    "execution": {
     "iopub.execute_input": "2022-04-23T00:37:28.512403Z",
     "iopub.status.busy": "2022-04-23T00:37:28.511669Z",
     "iopub.status.idle": "2022-04-23T00:37:28.515462Z",
     "shell.execute_reply": "2022-04-23T00:37:28.514837Z"
    },
    "papermill": {
     "duration": 0.05535,
     "end_time": "2022-04-23T00:37:28.515617",
     "exception": false,
     "start_time": "2022-04-23T00:37:28.460267",
     "status": "completed"
    },
    "tags": []
   },
   "outputs": [
    {
     "data": {
      "text/plain": [
       "'https://raw.githubusercontent.com/pratapvardhan/notebooks/master/covid19/mapping_countries.csv'"
      ]
     },
     "execution_count": 3,
     "metadata": {},
     "output_type": "execute_result"
    }
   ],
   "source": [
    "#hide\n",
    "paths['mapping']"
   ]
  },
  {
   "cell_type": "code",
   "execution_count": 4,
   "id": "urban-software",
   "metadata": {
    "execution": {
     "iopub.execute_input": "2022-04-23T00:37:28.603477Z",
     "iopub.status.busy": "2022-04-23T00:37:28.602812Z",
     "iopub.status.idle": "2022-04-23T00:37:28.607385Z",
     "shell.execute_reply": "2022-04-23T00:37:28.606847Z"
    },
    "papermill": {
     "duration": 0.050794,
     "end_time": "2022-04-23T00:37:28.607522",
     "exception": false,
     "start_time": "2022-04-23T00:37:28.556728",
     "status": "completed"
    },
    "tags": []
   },
   "outputs": [],
   "source": [
    "#hide\n",
    "def get_mappings(url):\n",
    "    df = pd.read_csv(url)\n",
    "    return {\n",
    "        'df': df,\n",
    "        'replace.country': dict(df.dropna(subset=['Name']).set_index('Country')['Name']),\n",
    "        'map.continent': dict(df.set_index('Name')['Continent'])\n",
    "    }"
   ]
  },
  {
   "cell_type": "code",
   "execution_count": 5,
   "id": "intimate-machinery",
   "metadata": {
    "execution": {
     "iopub.execute_input": "2022-04-23T00:37:28.696220Z",
     "iopub.status.busy": "2022-04-23T00:37:28.695518Z",
     "iopub.status.idle": "2022-04-23T00:37:28.728498Z",
     "shell.execute_reply": "2022-04-23T00:37:28.727888Z"
    },
    "papermill": {
     "duration": 0.079626,
     "end_time": "2022-04-23T00:37:28.728676",
     "exception": false,
     "start_time": "2022-04-23T00:37:28.649050",
     "status": "completed"
    },
    "tags": []
   },
   "outputs": [],
   "source": [
    "#hide\n",
    "mapping = get_mappings(paths['mapping'])"
   ]
  },
  {
   "cell_type": "code",
   "execution_count": 6,
   "id": "certified-tactics",
   "metadata": {
    "execution": {
     "iopub.execute_input": "2022-04-23T00:37:28.817185Z",
     "iopub.status.busy": "2022-04-23T00:37:28.816472Z",
     "iopub.status.idle": "2022-04-23T00:37:28.819653Z",
     "shell.execute_reply": "2022-04-23T00:37:28.819072Z"
    },
    "papermill": {
     "duration": 0.049771,
     "end_time": "2022-04-23T00:37:28.819782",
     "exception": false,
     "start_time": "2022-04-23T00:37:28.770011",
     "status": "completed"
    },
    "tags": []
   },
   "outputs": [],
   "source": [
    "#hide\n",
    "def get_template(path):\n",
    "    from urllib.parse import urlparse\n",
    "    if bool(urlparse(path).netloc):\n",
    "        from urllib.request import urlopen\n",
    "        return urlopen(path).read().decode('utf8')\n",
    "    return open(path).read()"
   ]
  },
  {
   "cell_type": "code",
   "execution_count": 7,
   "id": "realistic-blast",
   "metadata": {
    "execution": {
     "iopub.execute_input": "2022-04-23T00:37:28.912295Z",
     "iopub.status.busy": "2022-04-23T00:37:28.911468Z",
     "iopub.status.idle": "2022-04-23T00:37:28.914348Z",
     "shell.execute_reply": "2022-04-23T00:37:28.913780Z"
    },
    "papermill": {
     "duration": 0.053776,
     "end_time": "2022-04-23T00:37:28.914485",
     "exception": false,
     "start_time": "2022-04-23T00:37:28.860709",
     "status": "completed"
    },
    "tags": []
   },
   "outputs": [],
   "source": [
    "#hide\n",
    "def get_frame(name):\n",
    "    url = (\n",
    "        'https://raw.githubusercontent.com/CSSEGISandData/COVID-19/master/csse_covid_19_data/'\n",
    "        f'csse_covid_19_time_series/time_series_covid19_{name}_global.csv')\n",
    "    df = pd.read_csv(url)\n",
    "    # rename countries\n",
    "    df['Country/Region'] = df['Country/Region'].replace(mapping['replace.country'])\n",
    "    return df"
   ]
  },
  {
   "cell_type": "code",
   "execution_count": 8,
   "id": "affiliated-characterization",
   "metadata": {
    "execution": {
     "iopub.execute_input": "2022-04-23T00:37:29.004931Z",
     "iopub.status.busy": "2022-04-23T00:37:29.004132Z",
     "iopub.status.idle": "2022-04-23T00:37:29.006274Z",
     "shell.execute_reply": "2022-04-23T00:37:29.006959Z"
    },
    "papermill": {
     "duration": 0.051303,
     "end_time": "2022-04-23T00:37:29.007110",
     "exception": false,
     "start_time": "2022-04-23T00:37:28.955807",
     "status": "completed"
    },
    "tags": []
   },
   "outputs": [],
   "source": [
    "#hide\n",
    "def get_dates(df):\n",
    "    dt_cols = df.columns[~df.columns.isin(['Province/State', 'Country/Region', 'Lat', 'Long'])]\n",
    "    LAST_DATE_I = -1\n",
    "    # sometimes last column may be empty, then go backwards\n",
    "    for i in range(-1, -len(dt_cols), -1):\n",
    "        if not df[dt_cols[i]].fillna(0).eq(0).all():\n",
    "            LAST_DATE_I = i\n",
    "            break\n",
    "    return LAST_DATE_I, dt_cols"
   ]
  },
  {
   "cell_type": "code",
   "execution_count": 9,
   "id": "recent-optimization",
   "metadata": {
    "execution": {
     "iopub.execute_input": "2022-04-23T00:37:29.095913Z",
     "iopub.status.busy": "2022-04-23T00:37:29.095225Z",
     "iopub.status.idle": "2022-04-23T00:37:29.551104Z",
     "shell.execute_reply": "2022-04-23T00:37:29.549851Z"
    },
    "papermill": {
     "duration": 0.504297,
     "end_time": "2022-04-23T00:37:29.551258",
     "exception": false,
     "start_time": "2022-04-23T00:37:29.046961",
     "status": "completed"
    },
    "tags": []
   },
   "outputs": [],
   "source": [
    "#hide\n",
    "COL_REGION = 'Country/Region'\n",
    "# Confirmed, Recovered, Deaths\n",
    "df = get_frame('confirmed')\n",
    "# dft_: timeseries, dfc_: today country agg\n",
    "dft_cases = df\n",
    "dft_deaths = get_frame('deaths')\n",
    "dft_recovered = get_frame('recovered')\n",
    "LAST_DATE_I, dt_cols = get_dates(df)"
   ]
  },
  {
   "cell_type": "code",
   "execution_count": 10,
   "id": "absolute-copper",
   "metadata": {
    "execution": {
     "iopub.execute_input": "2022-04-23T00:37:29.642338Z",
     "iopub.status.busy": "2022-04-23T00:37:29.641594Z",
     "iopub.status.idle": "2022-04-23T00:37:29.643506Z",
     "shell.execute_reply": "2022-04-23T00:37:29.644074Z"
    },
    "papermill": {
     "duration": 0.051455,
     "end_time": "2022-04-23T00:37:29.644237",
     "exception": false,
     "start_time": "2022-04-23T00:37:29.592782",
     "status": "completed"
    },
    "tags": []
   },
   "outputs": [],
   "source": [
    "#hide\n",
    "LAST_DATE_I, dt_cols = get_dates(df)\n",
    "dt_today =dt_cols[LAST_DATE_I]\n",
    "# dt_5day = dt_cols[LAST_DATE_I - 5]\n",
    "dt_yday = dt_cols[LAST_DATE_I - 1]"
   ]
  },
  {
   "cell_type": "code",
   "execution_count": 11,
   "id": "restricted-sheriff",
   "metadata": {
    "execution": {
     "iopub.execute_input": "2022-04-23T00:37:29.742420Z",
     "iopub.status.busy": "2022-04-23T00:37:29.741525Z",
     "iopub.status.idle": "2022-04-23T00:37:29.744249Z",
     "shell.execute_reply": "2022-04-23T00:37:29.743518Z"
    },
    "papermill": {
     "duration": 0.057152,
     "end_time": "2022-04-23T00:37:29.744422",
     "exception": false,
     "start_time": "2022-04-23T00:37:29.687270",
     "status": "completed"
    },
    "tags": []
   },
   "outputs": [],
   "source": [
    "#hide\n",
    "dfc_cases = dft_cases.groupby(COL_REGION)[dt_today].sum()\n",
    "dfc_deaths = dft_deaths.groupby(COL_REGION)[dt_today].sum()\n",
    "# dfp_cases = dft_cases.groupby(COL_REGION)[dt_5day].sum()\n",
    "# dfp_deaths = dft_deaths.groupby(COL_REGION)[dt_5day].sum()\n",
    "dfp_cases = dft_cases.groupby(COL_REGION)[dt_yday].sum()\n",
    "dfp_deaths = dft_deaths.groupby(COL_REGION)[dt_yday].sum()"
   ]
  },
  {
   "cell_type": "code",
   "execution_count": 12,
   "id": "deluxe-hepatitis",
   "metadata": {
    "execution": {
     "iopub.execute_input": "2022-04-23T00:37:29.836641Z",
     "iopub.status.busy": "2022-04-23T00:37:29.835841Z",
     "iopub.status.idle": "2022-04-23T00:37:29.840753Z",
     "shell.execute_reply": "2022-04-23T00:37:29.841469Z"
    },
    "papermill": {
     "duration": 0.054223,
     "end_time": "2022-04-23T00:37:29.841623",
     "exception": false,
     "start_time": "2022-04-23T00:37:29.787400",
     "status": "completed"
    },
    "tags": []
   },
   "outputs": [],
   "source": [
    "#hide\n",
    "df_table = (pd.DataFrame(dict(Cases = dfc_cases, Deaths = dfc_deaths, PCases = dfp_cases, PDeaths = dfp_deaths))\n",
    "            .sort_values(by = ['Cases','Deaths'], ascending = [False, False])\n",
    "            .reset_index())"
   ]
  },
  {
   "cell_type": "code",
   "execution_count": 13,
   "id": "educational-chancellor",
   "metadata": {
    "execution": {
     "iopub.execute_input": "2022-04-23T00:37:29.946456Z",
     "iopub.status.busy": "2022-04-23T00:37:29.945705Z",
     "iopub.status.idle": "2022-04-23T00:37:29.955879Z",
     "shell.execute_reply": "2022-04-23T00:37:29.956555Z"
    },
    "papermill": {
     "duration": 0.074953,
     "end_time": "2022-04-23T00:37:29.956719",
     "exception": false,
     "start_time": "2022-04-23T00:37:29.881766",
     "status": "completed"
    },
    "tags": []
   },
   "outputs": [
    {
     "data": {
      "text/html": [
       "<div>\n",
       "<style scoped>\n",
       "    .dataframe tbody tr th:only-of-type {\n",
       "        vertical-align: middle;\n",
       "    }\n",
       "\n",
       "    .dataframe tbody tr th {\n",
       "        vertical-align: top;\n",
       "    }\n",
       "\n",
       "    .dataframe thead th {\n",
       "        text-align: right;\n",
       "    }\n",
       "</style>\n",
       "<table border=\"1\" class=\"dataframe\">\n",
       "  <thead>\n",
       "    <tr style=\"text-align: right;\">\n",
       "      <th></th>\n",
       "      <th>Country/Region</th>\n",
       "      <th>Cases</th>\n",
       "      <th>Deaths</th>\n",
       "      <th>PCases</th>\n",
       "      <th>PDeaths</th>\n",
       "      <th>Cases (+)</th>\n",
       "      <th>Deaths (+)</th>\n",
       "      <th>Fatality Rate</th>\n",
       "      <th>Continent</th>\n",
       "    </tr>\n",
       "  </thead>\n",
       "  <tbody>\n",
       "    <tr>\n",
       "      <th>0</th>\n",
       "      <td>US</td>\n",
       "      <td>80850913</td>\n",
       "      <td>990679</td>\n",
       "      <td>80801713</td>\n",
       "      <td>990208</td>\n",
       "      <td>49200</td>\n",
       "      <td>471</td>\n",
       "      <td>1.23</td>\n",
       "      <td>North America</td>\n",
       "    </tr>\n",
       "    <tr>\n",
       "      <th>1</th>\n",
       "      <td>India</td>\n",
       "      <td>43052425</td>\n",
       "      <td>522116</td>\n",
       "      <td>43049974</td>\n",
       "      <td>522062</td>\n",
       "      <td>2451</td>\n",
       "      <td>54</td>\n",
       "      <td>1.21</td>\n",
       "      <td>Asia</td>\n",
       "    </tr>\n",
       "    <tr>\n",
       "      <th>2</th>\n",
       "      <td>Brazil</td>\n",
       "      <td>30330629</td>\n",
       "      <td>662751</td>\n",
       "      <td>30311969</td>\n",
       "      <td>662659</td>\n",
       "      <td>18660</td>\n",
       "      <td>92</td>\n",
       "      <td>2.19</td>\n",
       "      <td>South America</td>\n",
       "    </tr>\n",
       "    <tr>\n",
       "      <th>3</th>\n",
       "      <td>France</td>\n",
       "      <td>28266009</td>\n",
       "      <td>145836</td>\n",
       "      <td>28162002</td>\n",
       "      <td>145651</td>\n",
       "      <td>104007</td>\n",
       "      <td>185</td>\n",
       "      <td>0.52</td>\n",
       "      <td>Europe</td>\n",
       "    </tr>\n",
       "    <tr>\n",
       "      <th>4</th>\n",
       "      <td>Germany</td>\n",
       "      <td>24006254</td>\n",
       "      <td>133921</td>\n",
       "      <td>23844536</td>\n",
       "      <td>133632</td>\n",
       "      <td>161718</td>\n",
       "      <td>289</td>\n",
       "      <td>0.56</td>\n",
       "      <td>Europe</td>\n",
       "    </tr>\n",
       "  </tbody>\n",
       "</table>\n",
       "</div>"
      ],
      "text/plain": [
       "  Country/Region     Cases  Deaths    PCases  PDeaths  Cases (+)  Deaths (+)  \\\n",
       "0             US  80850913  990679  80801713   990208      49200         471   \n",
       "1          India  43052425  522116  43049974   522062       2451          54   \n",
       "2         Brazil  30330629  662751  30311969   662659      18660          92   \n",
       "3         France  28266009  145836  28162002   145651     104007         185   \n",
       "4        Germany  24006254  133921  23844536   133632     161718         289   \n",
       "\n",
       "   Fatality Rate      Continent  \n",
       "0           1.23  North America  \n",
       "1           1.21           Asia  \n",
       "2           2.19  South America  \n",
       "3           0.52         Europe  \n",
       "4           0.56         Europe  "
      ]
     },
     "execution_count": 13,
     "metadata": {},
     "output_type": "execute_result"
    }
   ],
   "source": [
    "#hide\n",
    "for c in 'Cases, Deaths'.split(', '):\n",
    "    df_table[f'{c} (+)'] = (df_table[c] - df_table[f'P{c}']).clip(0)\n",
    "    #Clip ça veut dire, les chiffres negatif sont interdit\n",
    "df_table['Fatality Rate'] = (100* df_table['Deaths']/ df_table['Cases']).round(2)\n",
    "df_table['Continent'] = df_table['Country/Region'].map(mapping['map.continent'])\n",
    "df_table.head(5)"
   ]
  },
  {
   "cell_type": "code",
   "execution_count": 14,
   "id": "aboriginal-bulgaria",
   "metadata": {
    "execution": {
     "iopub.execute_input": "2022-04-23T00:37:30.045089Z",
     "iopub.status.busy": "2022-04-23T00:37:30.044209Z",
     "iopub.status.idle": "2022-04-23T00:37:30.047246Z",
     "shell.execute_reply": "2022-04-23T00:37:30.047905Z"
    },
    "papermill": {
     "duration": 0.050469,
     "end_time": "2022-04-23T00:37:30.048064",
     "exception": false,
     "start_time": "2022-04-23T00:37:29.997595",
     "status": "completed"
    },
    "tags": []
   },
   "outputs": [],
   "source": [
    "#hide\n",
    "#delete problematic countries from table\n",
    "df_table = df_table[~df_table['Country/Region'].isin(['Cape Verde', 'Cruise Ship', 'Kosovo'])]"
   ]
  },
  {
   "cell_type": "code",
   "execution_count": 15,
   "id": "fantastic-effect",
   "metadata": {
    "execution": {
     "iopub.execute_input": "2022-04-23T00:37:30.142994Z",
     "iopub.status.busy": "2022-04-23T00:37:30.142267Z",
     "iopub.status.idle": "2022-04-23T00:37:30.165048Z",
     "shell.execute_reply": "2022-04-23T00:37:30.165675Z"
    },
    "papermill": {
     "duration": 0.073679,
     "end_time": "2022-04-23T00:37:30.165851",
     "exception": false,
     "start_time": "2022-04-23T00:37:30.092172",
     "status": "completed"
    },
    "tags": []
   },
   "outputs": [
    {
     "data": {
      "text/html": [
       "<div>\n",
       "<style scoped>\n",
       "    .dataframe tbody tr th:only-of-type {\n",
       "        vertical-align: middle;\n",
       "    }\n",
       "\n",
       "    .dataframe tbody tr th {\n",
       "        vertical-align: top;\n",
       "    }\n",
       "\n",
       "    .dataframe thead th {\n",
       "        text-align: right;\n",
       "    }\n",
       "</style>\n",
       "<table border=\"1\" class=\"dataframe\">\n",
       "  <thead>\n",
       "    <tr style=\"text-align: right;\">\n",
       "      <th></th>\n",
       "      <th>Country/Region</th>\n",
       "      <th>Cases</th>\n",
       "      <th>Deaths</th>\n",
       "      <th>PCases</th>\n",
       "      <th>PDeaths</th>\n",
       "      <th>Cases (+)</th>\n",
       "      <th>Deaths (+)</th>\n",
       "      <th>Fatality Rate</th>\n",
       "      <th>Continent</th>\n",
       "    </tr>\n",
       "  </thead>\n",
       "  <tbody>\n",
       "    <tr>\n",
       "      <th>0</th>\n",
       "      <td>US</td>\n",
       "      <td>80850913</td>\n",
       "      <td>990679</td>\n",
       "      <td>80801713</td>\n",
       "      <td>990208</td>\n",
       "      <td>49200</td>\n",
       "      <td>471</td>\n",
       "      <td>1.2</td>\n",
       "      <td>North America</td>\n",
       "    </tr>\n",
       "    <tr>\n",
       "      <th>1</th>\n",
       "      <td>India</td>\n",
       "      <td>43052425</td>\n",
       "      <td>522116</td>\n",
       "      <td>43049974</td>\n",
       "      <td>522062</td>\n",
       "      <td>2451</td>\n",
       "      <td>54</td>\n",
       "      <td>1.2</td>\n",
       "      <td>Asia</td>\n",
       "    </tr>\n",
       "    <tr>\n",
       "      <th>2</th>\n",
       "      <td>Brazil</td>\n",
       "      <td>30330629</td>\n",
       "      <td>662751</td>\n",
       "      <td>30311969</td>\n",
       "      <td>662659</td>\n",
       "      <td>18660</td>\n",
       "      <td>92</td>\n",
       "      <td>2.2</td>\n",
       "      <td>South America</td>\n",
       "    </tr>\n",
       "    <tr>\n",
       "      <th>3</th>\n",
       "      <td>France</td>\n",
       "      <td>28266009</td>\n",
       "      <td>145836</td>\n",
       "      <td>28162002</td>\n",
       "      <td>145651</td>\n",
       "      <td>104007</td>\n",
       "      <td>185</td>\n",
       "      <td>0.5</td>\n",
       "      <td>Europe</td>\n",
       "    </tr>\n",
       "    <tr>\n",
       "      <th>4</th>\n",
       "      <td>Germany</td>\n",
       "      <td>24006254</td>\n",
       "      <td>133921</td>\n",
       "      <td>23844536</td>\n",
       "      <td>133632</td>\n",
       "      <td>161718</td>\n",
       "      <td>289</td>\n",
       "      <td>0.6</td>\n",
       "      <td>Europe</td>\n",
       "    </tr>\n",
       "  </tbody>\n",
       "</table>\n",
       "</div>"
      ],
      "text/plain": [
       "  Country/Region     Cases  Deaths    PCases  PDeaths  Cases (+)  Deaths (+)  \\\n",
       "0             US  80850913  990679  80801713   990208      49200         471   \n",
       "1          India  43052425  522116  43049974   522062       2451          54   \n",
       "2         Brazil  30330629  662751  30311969   662659      18660          92   \n",
       "3         France  28266009  145836  28162002   145651     104007         185   \n",
       "4        Germany  24006254  133921  23844536   133632     161718         289   \n",
       "\n",
       "   Fatality Rate      Continent  \n",
       "0            1.2  North America  \n",
       "1            1.2           Asia  \n",
       "2            2.2  South America  \n",
       "3            0.5         Europe  \n",
       "4            0.6         Europe  "
      ]
     },
     "execution_count": 15,
     "metadata": {},
     "output_type": "execute_result"
    }
   ],
   "source": [
    "#hide\n",
    "df_table = (pd.DataFrame(dict(Cases=dfc_cases, Deaths=dfc_deaths, PCases=dfp_cases, PDeaths=dfp_deaths))\n",
    "             .sort_values(by=['Cases', 'Deaths'], ascending=[False, False])\n",
    "             .reset_index())\n",
    "df_table.rename(columns={'index': 'Country/Region'}, inplace=True)\n",
    "for c in 'Cases, Deaths'.split(', '):\n",
    "    df_table[f'{c} (+)'] = (df_table[c] - df_table[f'P{c}']).clip(0)  # DATA BUG\n",
    "df_table['Fatality Rate'] = (100 * df_table['Deaths'] / df_table['Cases']).round(1)\n",
    "df_table['Continent'] = df_table['Country/Region'].map(mapping['map.continent'])\n",
    "df_table.head(5)"
   ]
  },
  {
   "cell_type": "code",
   "execution_count": 16,
   "id": "fewer-occasion",
   "metadata": {
    "execution": {
     "iopub.execute_input": "2022-04-23T00:37:30.260256Z",
     "iopub.status.busy": "2022-04-23T00:37:30.259523Z",
     "iopub.status.idle": "2022-04-23T00:37:30.262288Z",
     "shell.execute_reply": "2022-04-23T00:37:30.261716Z"
    },
    "papermill": {
     "duration": 0.053132,
     "end_time": "2022-04-23T00:37:30.262443",
     "exception": false,
     "start_time": "2022-04-23T00:37:30.209311",
     "status": "completed"
    },
    "tags": []
   },
   "outputs": [],
   "source": [
    "#hide\n",
    "#delete problematic countries from table\n",
    "df_table = df_table[~df_table['Country/Region'].isin(['Cape Verde', 'Cruise Ship', 'Kosovo'])]"
   ]
  },
  {
   "cell_type": "code",
   "execution_count": 17,
   "id": "related-center",
   "metadata": {
    "execution": {
     "iopub.execute_input": "2022-04-23T00:37:30.371611Z",
     "iopub.status.busy": "2022-04-23T00:37:30.370877Z",
     "iopub.status.idle": "2022-04-23T00:37:30.372986Z",
     "shell.execute_reply": "2022-04-23T00:37:30.373569Z"
    },
    "papermill": {
     "duration": 0.068818,
     "end_time": "2022-04-23T00:37:30.373775",
     "exception": false,
     "start_time": "2022-04-23T00:37:30.304957",
     "status": "completed"
    },
    "tags": []
   },
   "outputs": [],
   "source": [
    "#hide\n",
    "metrics = [df_table.columns[index] for index in [1,2,5,6]]\n",
    "# s_china = df_table[df_table['Country/Region'].eq('China')][metrics].sum().add_prefix('China ')\n",
    "s_us = df_table[df_table['Country/Region'].eq('US')][metrics].sum().add_prefix('US ')\n",
    "s_eu = df_table[df_table['Continent'].eq('Europe')][metrics].sum().add_prefix('EU ')\n",
    "s_ind = df_table[df_table['Country/Region'].eq('India')][metrics].sum().add_prefix('India ')\n",
    "summary = {'updated': pd.to_datetime(dt_today), 'since': pd.to_datetime(dt_yday)}\n",
    "summary = {'updated': pd.to_datetime(dt_today), 'since': pd.to_datetime(dt_yday)}\n",
    "summary = {**summary, **df_table[metrics].sum(), **s_ind, **s_us, **s_eu}"
   ]
  },
  {
   "cell_type": "code",
   "execution_count": 18,
   "id": "engaging-syndrome",
   "metadata": {
    "execution": {
     "iopub.execute_input": "2022-04-23T00:37:30.463499Z",
     "iopub.status.busy": "2022-04-23T00:37:30.462804Z",
     "iopub.status.idle": "2022-04-23T00:37:30.483308Z",
     "shell.execute_reply": "2022-04-23T00:37:30.482714Z"
    },
    "papermill": {
     "duration": 0.068218,
     "end_time": "2022-04-23T00:37:30.483486",
     "exception": false,
     "start_time": "2022-04-23T00:37:30.415268",
     "status": "completed"
    },
    "tags": []
   },
   "outputs": [],
   "source": [
    "#hide\n",
    "dft_ct_new_cases = dft_cases.groupby(COL_REGION)[dt_cols].sum().diff(axis=1).fillna(0).astype(int)"
   ]
  },
  {
   "cell_type": "code",
   "execution_count": 19,
   "id": "neutral-assignment",
   "metadata": {
    "execution": {
     "iopub.execute_input": "2022-04-23T00:37:30.576930Z",
     "iopub.status.busy": "2022-04-23T00:37:30.576255Z",
     "iopub.status.idle": "2022-04-23T00:37:30.578760Z",
     "shell.execute_reply": "2022-04-23T00:37:30.578118Z"
    },
    "papermill": {
     "duration": 0.054336,
     "end_time": "2022-04-23T00:37:30.578890",
     "exception": false,
     "start_time": "2022-04-23T00:37:30.524554",
     "status": "completed"
    },
    "tags": []
   },
   "outputs": [],
   "source": [
    "#hide\n",
    "everydaycases = dft_ct_new_cases.cumsum(axis=1)"
   ]
  },
  {
   "cell_type": "code",
   "execution_count": 20,
   "id": "parliamentary-calgary",
   "metadata": {
    "execution": {
     "iopub.execute_input": "2022-04-23T00:37:30.668005Z",
     "iopub.status.busy": "2022-04-23T00:37:30.667321Z",
     "iopub.status.idle": "2022-04-23T00:37:31.398623Z",
     "shell.execute_reply": "2022-04-23T00:37:31.397905Z"
    },
    "papermill": {
     "duration": 0.779613,
     "end_time": "2022-04-23T00:37:31.398807",
     "exception": false,
     "start_time": "2022-04-23T00:37:30.619194",
     "status": "completed"
    },
    "tags": []
   },
   "outputs": [],
   "source": [
    "#hide\n",
    "import pandas as pd\n",
    "import matplotlib.pyplot as plt\n",
    "import matplotlib.ticker as ticker\n",
    "import matplotlib.animation as animation\n",
    "from IPython.display import HTML"
   ]
  },
  {
   "cell_type": "code",
   "execution_count": 21,
   "id": "lasting-extraction",
   "metadata": {
    "execution": {
     "iopub.execute_input": "2022-04-23T00:37:31.489863Z",
     "iopub.status.busy": "2022-04-23T00:37:31.489174Z",
     "iopub.status.idle": "2022-04-23T00:37:31.496182Z",
     "shell.execute_reply": "2022-04-23T00:37:31.496718Z"
    },
    "papermill": {
     "duration": 0.056399,
     "end_time": "2022-04-23T00:37:31.496878",
     "exception": false,
     "start_time": "2022-04-23T00:37:31.440479",
     "status": "completed"
    },
    "tags": []
   },
   "outputs": [],
   "source": [
    "#hide\n",
    "t = everydaycases.stack()"
   ]
  },
  {
   "cell_type": "code",
   "execution_count": 22,
   "id": "premier-sleeve",
   "metadata": {
    "execution": {
     "iopub.execute_input": "2022-04-23T00:37:31.585707Z",
     "iopub.status.busy": "2022-04-23T00:37:31.584994Z",
     "iopub.status.idle": "2022-04-23T00:37:31.596885Z",
     "shell.execute_reply": "2022-04-23T00:37:31.597513Z"
    },
    "papermill": {
     "duration": 0.058549,
     "end_time": "2022-04-23T00:37:31.597667",
     "exception": false,
     "start_time": "2022-04-23T00:37:31.539118",
     "status": "completed"
    },
    "tags": []
   },
   "outputs": [],
   "source": [
    "#hide\n",
    "g = t.reset_index(['Country/Region'])"
   ]
  },
  {
   "cell_type": "code",
   "execution_count": 23,
   "id": "distributed-pittsburgh",
   "metadata": {
    "execution": {
     "iopub.execute_input": "2022-04-23T00:37:31.683257Z",
     "iopub.status.busy": "2022-04-23T00:37:31.682615Z",
     "iopub.status.idle": "2022-04-23T00:37:31.685395Z",
     "shell.execute_reply": "2022-04-23T00:37:31.684274Z"
    },
    "papermill": {
     "duration": 0.048079,
     "end_time": "2022-04-23T00:37:31.685526",
     "exception": false,
     "start_time": "2022-04-23T00:37:31.637447",
     "status": "completed"
    },
    "tags": []
   },
   "outputs": [],
   "source": [
    "#hide\n",
    "g.index.name = 'date'"
   ]
  },
  {
   "cell_type": "code",
   "execution_count": 24,
   "id": "naked-donor",
   "metadata": {
    "execution": {
     "iopub.execute_input": "2022-04-23T00:37:31.770260Z",
     "iopub.status.busy": "2022-04-23T00:37:31.769561Z",
     "iopub.status.idle": "2022-04-23T00:37:31.772076Z",
     "shell.execute_reply": "2022-04-23T00:37:31.772689Z"
    },
    "papermill": {
     "duration": 0.047011,
     "end_time": "2022-04-23T00:37:31.772846",
     "exception": false,
     "start_time": "2022-04-23T00:37:31.725835",
     "status": "completed"
    },
    "tags": []
   },
   "outputs": [],
   "source": [
    "# #hide\n",
    "# g = g.reset_index(['date'])"
   ]
  },
  {
   "cell_type": "code",
   "execution_count": 25,
   "id": "incomplete-mustang",
   "metadata": {
    "execution": {
     "iopub.execute_input": "2022-04-23T00:37:31.866030Z",
     "iopub.status.busy": "2022-04-23T00:37:31.865208Z",
     "iopub.status.idle": "2022-04-23T00:37:31.870757Z",
     "shell.execute_reply": "2022-04-23T00:37:31.871292Z"
    },
    "papermill": {
     "duration": 0.056461,
     "end_time": "2022-04-23T00:37:31.871471",
     "exception": false,
     "start_time": "2022-04-23T00:37:31.815010",
     "status": "completed"
    },
    "tags": []
   },
   "outputs": [],
   "source": [
    "#hide\n",
    "# g.head()"
   ]
  },
  {
   "cell_type": "code",
   "execution_count": 26,
   "id": "specific-kruger",
   "metadata": {
    "execution": {
     "iopub.execute_input": "2022-04-23T00:37:31.969310Z",
     "iopub.status.busy": "2022-04-23T00:37:31.968444Z",
     "iopub.status.idle": "2022-04-23T00:37:31.971094Z",
     "shell.execute_reply": "2022-04-23T00:37:31.971636Z"
    },
    "papermill": {
     "duration": 0.055297,
     "end_time": "2022-04-23T00:37:31.971805",
     "exception": false,
     "start_time": "2022-04-23T00:37:31.916508",
     "status": "completed"
    },
    "tags": []
   },
   "outputs": [],
   "source": [
    "#hide\n",
    "# g.columns = ['date','country','cases']"
   ]
  },
  {
   "cell_type": "code",
   "execution_count": 27,
   "id": "tender-conversion",
   "metadata": {
    "execution": {
     "iopub.execute_input": "2022-04-23T00:37:32.056400Z",
     "iopub.status.busy": "2022-04-23T00:37:32.055617Z",
     "iopub.status.idle": "2022-04-23T00:37:32.058411Z",
     "shell.execute_reply": "2022-04-23T00:37:32.057801Z"
    },
    "papermill": {
     "duration": 0.04638,
     "end_time": "2022-04-23T00:37:32.058548",
     "exception": false,
     "start_time": "2022-04-23T00:37:32.012168",
     "status": "completed"
    },
    "tags": []
   },
   "outputs": [],
   "source": [
    "#hide\n",
    "# g['continent'] = g.country"
   ]
  },
  {
   "cell_type": "code",
   "execution_count": 28,
   "id": "substantial-wilderness",
   "metadata": {
    "execution": {
     "iopub.execute_input": "2022-04-23T00:37:32.146481Z",
     "iopub.status.busy": "2022-04-23T00:37:32.145766Z",
     "iopub.status.idle": "2022-04-23T00:37:32.149988Z",
     "shell.execute_reply": "2022-04-23T00:37:32.150549Z"
    },
    "papermill": {
     "duration": 0.050689,
     "end_time": "2022-04-23T00:37:32.150725",
     "exception": false,
     "start_time": "2022-04-23T00:37:32.100036",
     "status": "completed"
    },
    "tags": []
   },
   "outputs": [],
   "source": [
    "#hide\n",
    "# cols = list(g.columns.values)"
   ]
  },
  {
   "cell_type": "code",
   "execution_count": 29,
   "id": "solved-farming",
   "metadata": {
    "execution": {
     "iopub.execute_input": "2022-04-23T00:37:32.237822Z",
     "iopub.status.busy": "2022-04-23T00:37:32.237094Z",
     "iopub.status.idle": "2022-04-23T00:37:32.239741Z",
     "shell.execute_reply": "2022-04-23T00:37:32.239167Z"
    },
    "papermill": {
     "duration": 0.04741,
     "end_time": "2022-04-23T00:37:32.239876",
     "exception": false,
     "start_time": "2022-04-23T00:37:32.192466",
     "status": "completed"
    },
    "tags": []
   },
   "outputs": [],
   "source": [
    "#hide\n",
    "# cols.insert(0, cols.pop())"
   ]
  },
  {
   "cell_type": "code",
   "execution_count": 30,
   "id": "executed-adoption",
   "metadata": {
    "execution": {
     "iopub.execute_input": "2022-04-23T00:37:32.328349Z",
     "iopub.status.busy": "2022-04-23T00:37:32.327643Z",
     "iopub.status.idle": "2022-04-23T00:37:32.331803Z",
     "shell.execute_reply": "2022-04-23T00:37:32.331229Z"
    },
    "papermill": {
     "duration": 0.049322,
     "end_time": "2022-04-23T00:37:32.331990",
     "exception": false,
     "start_time": "2022-04-23T00:37:32.282668",
     "status": "completed"
    },
    "tags": []
   },
   "outputs": [],
   "source": [
    "#hide\n",
    "# g = g[cols]"
   ]
  },
  {
   "cell_type": "code",
   "execution_count": 31,
   "id": "subject-dublin",
   "metadata": {
    "execution": {
     "iopub.execute_input": "2022-04-23T00:37:32.419207Z",
     "iopub.status.busy": "2022-04-23T00:37:32.418446Z",
     "iopub.status.idle": "2022-04-23T00:37:32.421259Z",
     "shell.execute_reply": "2022-04-23T00:37:32.420575Z"
    },
    "papermill": {
     "duration": 0.047894,
     "end_time": "2022-04-23T00:37:32.421425",
     "exception": false,
     "start_time": "2022-04-23T00:37:32.373531",
     "status": "completed"
    },
    "tags": []
   },
   "outputs": [],
   "source": [
    "#hide\n",
    "# g['continent'] = g['continent'].map(mapping['map.continent'])"
   ]
  },
  {
   "cell_type": "code",
   "execution_count": 32,
   "id": "freelance-scout",
   "metadata": {
    "execution": {
     "iopub.execute_input": "2022-04-23T00:37:32.505086Z",
     "iopub.status.busy": "2022-04-23T00:37:32.504265Z",
     "iopub.status.idle": "2022-04-23T00:37:32.507806Z",
     "shell.execute_reply": "2022-04-23T00:37:32.507299Z"
    },
    "papermill": {
     "duration": 0.045961,
     "end_time": "2022-04-23T00:37:32.507935",
     "exception": false,
     "start_time": "2022-04-23T00:37:32.461974",
     "status": "completed"
    },
    "tags": []
   },
   "outputs": [],
   "source": [
    "#hide\n",
    "# g.head()"
   ]
  },
  {
   "cell_type": "code",
   "execution_count": 33,
   "id": "limited-engine",
   "metadata": {
    "execution": {
     "iopub.execute_input": "2022-04-23T00:37:32.593518Z",
     "iopub.status.busy": "2022-04-23T00:37:32.592850Z",
     "iopub.status.idle": "2022-04-23T00:37:32.595216Z",
     "shell.execute_reply": "2022-04-23T00:37:32.594580Z"
    },
    "papermill": {
     "duration": 0.047376,
     "end_time": "2022-04-23T00:37:32.595340",
     "exception": false,
     "start_time": "2022-04-23T00:37:32.547964",
     "status": "completed"
    },
    "tags": []
   },
   "outputs": [],
   "source": [
    "# hide\n",
    "# g['date'] = g['date'].astype('datetime64[ns]')"
   ]
  },
  {
   "cell_type": "code",
   "execution_count": 34,
   "id": "sophisticated-supervisor",
   "metadata": {
    "execution": {
     "iopub.execute_input": "2022-04-23T00:37:32.678282Z",
     "iopub.status.busy": "2022-04-23T00:37:32.677634Z",
     "iopub.status.idle": "2022-04-23T00:37:32.681101Z",
     "shell.execute_reply": "2022-04-23T00:37:32.681604Z"
    },
    "papermill": {
     "duration": 0.047259,
     "end_time": "2022-04-23T00:37:32.681747",
     "exception": false,
     "start_time": "2022-04-23T00:37:32.634488",
     "status": "completed"
    },
    "tags": []
   },
   "outputs": [],
   "source": [
    "#hide\n",
    "# g['date'] = g.date.dt.dayofyear"
   ]
  },
  {
   "cell_type": "code",
   "execution_count": 35,
   "id": "inside-dubai",
   "metadata": {
    "execution": {
     "iopub.execute_input": "2022-04-23T00:37:32.766188Z",
     "iopub.status.busy": "2022-04-23T00:37:32.765312Z",
     "iopub.status.idle": "2022-04-23T00:37:32.769762Z",
     "shell.execute_reply": "2022-04-23T00:37:32.770301Z"
    },
    "papermill": {
     "duration": 0.048752,
     "end_time": "2022-04-23T00:37:32.770504",
     "exception": false,
     "start_time": "2022-04-23T00:37:32.721752",
     "status": "completed"
    },
    "tags": []
   },
   "outputs": [],
   "source": [
    "#hide\n",
    "# g = g.rename(columns= {'continent':'group','country':'name','cases':'value'})"
   ]
  },
  {
   "cell_type": "code",
   "execution_count": 36,
   "id": "fleet-motorcycle",
   "metadata": {
    "execution": {
     "iopub.execute_input": "2022-04-23T00:37:32.855790Z",
     "iopub.status.busy": "2022-04-23T00:37:32.855087Z",
     "iopub.status.idle": "2022-04-23T00:37:32.857558Z",
     "shell.execute_reply": "2022-04-23T00:37:32.856930Z"
    },
    "papermill": {
     "duration": 0.046187,
     "end_time": "2022-04-23T00:37:32.857684",
     "exception": false,
     "start_time": "2022-04-23T00:37:32.811497",
     "status": "completed"
    },
    "tags": []
   },
   "outputs": [],
   "source": [
    "#hide\n",
    "# cols = ['name','group','day','value']"
   ]
  },
  {
   "cell_type": "code",
   "execution_count": 37,
   "id": "continued-sleeping",
   "metadata": {
    "execution": {
     "iopub.execute_input": "2022-04-23T00:37:32.942253Z",
     "iopub.status.busy": "2022-04-23T00:37:32.941424Z",
     "iopub.status.idle": "2022-04-23T00:37:32.943769Z",
     "shell.execute_reply": "2022-04-23T00:37:32.944244Z"
    },
    "papermill": {
     "duration": 0.046743,
     "end_time": "2022-04-23T00:37:32.944411",
     "exception": false,
     "start_time": "2022-04-23T00:37:32.897668",
     "status": "completed"
    },
    "tags": []
   },
   "outputs": [],
   "source": [
    "#hide\n",
    "# g.rename(columns= {'date':'day'},inplace = True)"
   ]
  },
  {
   "cell_type": "code",
   "execution_count": 38,
   "id": "major-fight",
   "metadata": {
    "execution": {
     "iopub.execute_input": "2022-04-23T00:37:33.027273Z",
     "iopub.status.busy": "2022-04-23T00:37:33.026507Z",
     "iopub.status.idle": "2022-04-23T00:37:33.030378Z",
     "shell.execute_reply": "2022-04-23T00:37:33.031035Z"
    },
    "papermill": {
     "duration": 0.047532,
     "end_time": "2022-04-23T00:37:33.031187",
     "exception": false,
     "start_time": "2022-04-23T00:37:32.983655",
     "status": "completed"
    },
    "tags": []
   },
   "outputs": [],
   "source": [
    "#hide\n",
    "# g = g[cols]"
   ]
  },
  {
   "cell_type": "code",
   "execution_count": 39,
   "id": "structured-mobile",
   "metadata": {
    "execution": {
     "iopub.execute_input": "2022-04-23T00:37:33.114848Z",
     "iopub.status.busy": "2022-04-23T00:37:33.114067Z",
     "iopub.status.idle": "2022-04-23T00:37:33.117052Z",
     "shell.execute_reply": "2022-04-23T00:37:33.116506Z"
    },
    "papermill": {
     "duration": 0.046355,
     "end_time": "2022-04-23T00:37:33.117178",
     "exception": false,
     "start_time": "2022-04-23T00:37:33.070823",
     "status": "completed"
    },
    "tags": []
   },
   "outputs": [],
   "source": [
    "# #hide\n",
    "# g = g[g.group.notna()]"
   ]
  },
  {
   "cell_type": "code",
   "execution_count": 40,
   "id": "determined-closing",
   "metadata": {
    "execution": {
     "iopub.execute_input": "2022-04-23T00:37:33.197992Z",
     "iopub.status.busy": "2022-04-23T00:37:33.197345Z",
     "iopub.status.idle": "2022-04-23T00:37:33.199720Z",
     "shell.execute_reply": "2022-04-23T00:37:33.199119Z"
    },
    "papermill": {
     "duration": 0.044981,
     "end_time": "2022-04-23T00:37:33.199843",
     "exception": false,
     "start_time": "2022-04-23T00:37:33.154862",
     "status": "completed"
    },
    "tags": []
   },
   "outputs": [],
   "source": [
    "# #hide\n",
    "# colors = dict(zip(\n",
    "#     [\"Oceania\", \"Europe\", \"Asia\", \"South America\", \"Middle East\", \"North America\", \"Africa\"],\n",
    "#     [\"#adb0ff\", \"#ffb3ff\", \"#90d595\", \"#e48381\", \"#aafbff\", \"#f7bb5f\", \"#eafb50\"]\n",
    "# ))\n",
    "# group_lk = g.set_index('name')['group'].to_dict()"
   ]
  },
  {
   "cell_type": "code",
   "execution_count": null,
   "id": "gross-drinking",
   "metadata": {
    "papermill": {
     "duration": 0.0416,
     "end_time": "2022-04-23T00:37:33.282300",
     "exception": false,
     "start_time": "2022-04-23T00:37:33.240700",
     "status": "completed"
    },
    "tags": []
   },
   "outputs": [],
   "source": []
  },
  {
   "cell_type": "code",
   "execution_count": 41,
   "id": "subject-macintosh",
   "metadata": {
    "execution": {
     "iopub.execute_input": "2022-04-23T00:37:33.371975Z",
     "iopub.status.busy": "2022-04-23T00:37:33.371229Z",
     "iopub.status.idle": "2022-04-23T00:37:33.373890Z",
     "shell.execute_reply": "2022-04-23T00:37:33.373195Z"
    },
    "papermill": {
     "duration": 0.050383,
     "end_time": "2022-04-23T00:37:33.374028",
     "exception": false,
     "start_time": "2022-04-23T00:37:33.323645",
     "status": "completed"
    },
    "tags": []
   },
   "outputs": [],
   "source": [
    "# #hide\n",
    "# fig, ax = plt.subplots(figsize=(15, 8))\n",
    "\n",
    "# def draw_barchart(current_day):\n",
    "#     dff = g[g['day'].eq(current_day)].sort_values(by='value', ascending=True).tail(10)\n",
    "#     ax.clear()\n",
    "#     ax.barh(dff['name'], dff['value'], color=[colors[group_lk[x]] for x in dff['name']])\n",
    "#     dx = dff['value'].max() / 200\n",
    "    \n",
    "#     for i, (value, name) in enumerate(zip(dff['value'], dff['name'])):\n",
    "#         ax.text(value-dx, i,     name,           size=14, weight=600, ha='right', va='bottom')\n",
    "#         ax.text(value-dx, i-.25, group_lk[name], size=10, color='#444444', ha='right', va='baseline')\n",
    "#         ax.text(value+dx, i,     f'{value:,.0f}',  size=14, ha='left',  va='center')\n",
    "#     ax.text(1, 0.4, current_day, transform=ax.transAxes, color='#777777', size=46, ha='right', weight=800)\n",
    "#     ax.text(0, 1.06, 'Population (thousands)', transform=ax.transAxes, size=12, color='#777777')\n",
    "#     ax.xaxis.set_major_formatter(ticker.StrMethodFormatter('{x:,.0f}'))\n",
    "#     ax.xaxis.set_ticks_position('top')\n",
    "#     ax.tick_params(axis='x', colors='#777777', labelsize=12)\n",
    "#     ax.set_yticks([])\n",
    "#     ax.margins(0, 0.01)\n",
    "#     ax.grid(which='major', axis='x', linestyle='-')\n",
    "#     ax.set_axisbelow(True)\n",
    "    \n",
    "#     ax.text(0, 1.15, 'Coronavirus',\n",
    "#             transform=ax.transAxes, size=24, weight=600, ha='left', va='top')\n",
    "# #     ax.text(1, 0, 'by @pratapvardhan; credit @jburnmurdoch', transform=ax.transAxes, color='#777777', ha='right',\n",
    "# #             bbox=dict(facecolor='white', alpha=0.8, edgecolor='white'))\n",
    "#     plt.box(False)"
   ]
  },
  {
   "cell_type": "code",
   "execution_count": 42,
   "id": "sexual-wages",
   "metadata": {
    "execution": {
     "iopub.execute_input": "2022-04-23T00:37:33.463192Z",
     "iopub.status.busy": "2022-04-23T00:37:33.462470Z",
     "iopub.status.idle": "2022-04-23T00:37:33.465103Z",
     "shell.execute_reply": "2022-04-23T00:37:33.464490Z"
    },
    "papermill": {
     "duration": 0.049808,
     "end_time": "2022-04-23T00:37:33.465259",
     "exception": false,
     "start_time": "2022-04-23T00:37:33.415451",
     "status": "completed"
    },
    "tags": []
   },
   "outputs": [],
   "source": [
    "# #hide_input\n",
    "# fig, ax = plt.subplots(figsize=(15, 8))\n",
    "# animator = animation.FuncAnimation(fig, draw_barchart, frames=range(g.day.values.min(), g.day.values.max()))\n",
    "# HTML(animator.to_jshtml())\n",
    "# # or use animator.to_html5_video() or animator.save() "
   ]
  },
  {
   "cell_type": "code",
   "execution_count": null,
   "id": "australian-container",
   "metadata": {
    "papermill": {
     "duration": 0.041433,
     "end_time": "2022-04-23T00:37:33.549392",
     "exception": false,
     "start_time": "2022-04-23T00:37:33.507959",
     "status": "completed"
    },
    "tags": []
   },
   "outputs": [],
   "source": []
  },
  {
   "cell_type": "code",
   "execution_count": null,
   "id": "mediterranean-pontiac",
   "metadata": {
    "papermill": {
     "duration": 0.040309,
     "end_time": "2022-04-23T00:37:33.630192",
     "exception": false,
     "start_time": "2022-04-23T00:37:33.589883",
     "status": "completed"
    },
    "tags": []
   },
   "outputs": [],
   "source": []
  },
  {
   "cell_type": "code",
   "execution_count": null,
   "id": "aging-legislature",
   "metadata": {
    "papermill": {
     "duration": 0.040414,
     "end_time": "2022-04-23T00:37:33.714233",
     "exception": false,
     "start_time": "2022-04-23T00:37:33.673819",
     "status": "completed"
    },
    "tags": []
   },
   "outputs": [],
   "source": []
  }
 ],
 "metadata": {
  "kernelspec": {
   "display_name": "Python 3",
   "language": "python",
   "name": "python3"
  },
  "language_info": {
   "codemirror_mode": {
    "name": "ipython",
    "version": 3
   },
   "file_extension": ".py",
   "mimetype": "text/x-python",
   "name": "python",
   "nbconvert_exporter": "python",
   "pygments_lexer": "ipython3",
   "version": "3.6.15"
  },
  "papermill": {
   "duration": 7.778296,
   "end_time": "2022-04-23T00:37:34.175627",
   "environment_variables": {},
   "exception": null,
   "input_path": "2020-03-21-covid19exp.ipynb",
   "output_path": "2020-03-21-covid19exp.ipynb",
   "parameters": {},
   "start_time": "2022-04-23T00:37:26.397331",
   "version": "2.0.0"
  }
 },
 "nbformat": 4,
 "nbformat_minor": 5
}