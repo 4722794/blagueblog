{
 "cells": [
  {
   "cell_type": "markdown",
   "id": "muslim-click",
   "metadata": {
    "papermill": {
     "duration": 0.034193,
     "end_time": "2021-06-21T00:20:25.343285",
     "exception": false,
     "start_time": "2021-06-21T00:20:25.309092",
     "status": "completed"
    },
    "tags": []
   },
   "source": [
    "# COVID-19 Case Race\n",
    "> A race chart to see rising cases around the world\n",
    "\n",
    "- author: Hargun Oberoi\n",
    "- image: images/covid-overview.png\n",
    "- hide: false\n",
    "- badges: false"
   ]
  },
  {
   "cell_type": "code",
   "execution_count": 1,
   "id": "proof-material",
   "metadata": {
    "execution": {
     "iopub.execute_input": "2021-06-21T00:20:25.413035Z",
     "iopub.status.busy": "2021-06-21T00:20:25.412521Z",
     "iopub.status.idle": "2021-06-21T00:20:25.729539Z",
     "shell.execute_reply": "2021-06-21T00:20:25.729005Z"
    },
    "papermill": {
     "duration": 0.356389,
     "end_time": "2021-06-21T00:20:25.729683",
     "exception": false,
     "start_time": "2021-06-21T00:20:25.373294",
     "status": "completed"
    },
    "tags": []
   },
   "outputs": [],
   "source": [
    "#hide\n",
    "import numpy as np\n",
    "import pandas as pd\n",
    "from jinja2 import Template\n",
    "from IPython.display import HTML"
   ]
  },
  {
   "cell_type": "code",
   "execution_count": 2,
   "id": "developed-terminology",
   "metadata": {
    "execution": {
     "iopub.execute_input": "2021-06-21T00:20:25.793773Z",
     "iopub.status.busy": "2021-06-21T00:20:25.793249Z",
     "iopub.status.idle": "2021-06-21T00:20:25.795555Z",
     "shell.execute_reply": "2021-06-21T00:20:25.795049Z"
    },
    "papermill": {
     "duration": 0.035978,
     "end_time": "2021-06-21T00:20:25.795660",
     "exception": false,
     "start_time": "2021-06-21T00:20:25.759682",
     "status": "completed"
    },
    "tags": []
   },
   "outputs": [],
   "source": [
    "#hide\n",
    "\n",
    "# FETCH\n",
    "base_url = 'https://raw.githubusercontent.com/pratapvardhan/notebooks/master/covid19/'\n",
    "paths = {\n",
    "    'mapping': base_url + 'mapping_countries.csv',\n",
    "    'overview': base_url + 'overview.tpl'\n",
    "}"
   ]
  },
  {
   "cell_type": "code",
   "execution_count": 3,
   "id": "dynamic-saver",
   "metadata": {
    "execution": {
     "iopub.execute_input": "2021-06-21T00:20:25.911729Z",
     "iopub.status.busy": "2021-06-21T00:20:25.911231Z",
     "iopub.status.idle": "2021-06-21T00:20:25.913605Z",
     "shell.execute_reply": "2021-06-21T00:20:25.914017Z"
    },
    "papermill": {
     "duration": 0.088941,
     "end_time": "2021-06-21T00:20:25.914138",
     "exception": false,
     "start_time": "2021-06-21T00:20:25.825197",
     "status": "completed"
    },
    "tags": []
   },
   "outputs": [
    {
     "data": {
      "text/plain": [
       "'https://raw.githubusercontent.com/pratapvardhan/notebooks/master/covid19/mapping_countries.csv'"
      ]
     },
     "execution_count": 3,
     "metadata": {},
     "output_type": "execute_result"
    }
   ],
   "source": [
    "#hide\n",
    "paths['mapping']"
   ]
  },
  {
   "cell_type": "code",
   "execution_count": 4,
   "id": "urban-software",
   "metadata": {
    "execution": {
     "iopub.execute_input": "2021-06-21T00:20:26.046729Z",
     "iopub.status.busy": "2021-06-21T00:20:26.046211Z",
     "iopub.status.idle": "2021-06-21T00:20:26.051923Z",
     "shell.execute_reply": "2021-06-21T00:20:26.051492Z"
    },
    "papermill": {
     "duration": 0.107688,
     "end_time": "2021-06-21T00:20:26.052022",
     "exception": false,
     "start_time": "2021-06-21T00:20:25.944334",
     "status": "completed"
    },
    "tags": []
   },
   "outputs": [],
   "source": [
    "#hide\n",
    "def get_mappings(url):\n",
    "    df = pd.read_csv(url)\n",
    "    return {\n",
    "        'df': df,\n",
    "        'replace.country': dict(df.dropna(subset=['Name']).set_index('Country')['Name']),\n",
    "        'map.continent': dict(df.set_index('Name')['Continent'])\n",
    "    }"
   ]
  },
  {
   "cell_type": "code",
   "execution_count": 5,
   "id": "intimate-machinery",
   "metadata": {
    "execution": {
     "iopub.execute_input": "2021-06-21T00:20:26.150368Z",
     "iopub.status.busy": "2021-06-21T00:20:26.149793Z",
     "iopub.status.idle": "2021-06-21T00:20:26.172978Z",
     "shell.execute_reply": "2021-06-21T00:20:26.173394Z"
    },
    "papermill": {
     "duration": 0.07023,
     "end_time": "2021-06-21T00:20:26.173517",
     "exception": false,
     "start_time": "2021-06-21T00:20:26.103287",
     "status": "completed"
    },
    "tags": []
   },
   "outputs": [],
   "source": [
    "#hide\n",
    "mapping = get_mappings(paths['mapping'])"
   ]
  },
  {
   "cell_type": "code",
   "execution_count": 6,
   "id": "certified-tactics",
   "metadata": {
    "execution": {
     "iopub.execute_input": "2021-06-21T00:20:26.454588Z",
     "iopub.status.busy": "2021-06-21T00:20:26.454071Z",
     "iopub.status.idle": "2021-06-21T00:20:26.455864Z",
     "shell.execute_reply": "2021-06-21T00:20:26.456241Z"
    },
    "papermill": {
     "duration": 0.210198,
     "end_time": "2021-06-21T00:20:26.456362",
     "exception": false,
     "start_time": "2021-06-21T00:20:26.246164",
     "status": "completed"
    },
    "tags": []
   },
   "outputs": [],
   "source": [
    "#hide\n",
    "def get_template(path):\n",
    "    from urllib.parse import urlparse\n",
    "    if bool(urlparse(path).netloc):\n",
    "        from urllib.request import urlopen\n",
    "        return urlopen(path).read().decode('utf8')\n",
    "    return open(path).read()"
   ]
  },
  {
   "cell_type": "code",
   "execution_count": 7,
   "id": "realistic-blast",
   "metadata": {
    "execution": {
     "iopub.execute_input": "2021-06-21T00:20:26.595934Z",
     "iopub.status.busy": "2021-06-21T00:20:26.595403Z",
     "iopub.status.idle": "2021-06-21T00:20:26.597514Z",
     "shell.execute_reply": "2021-06-21T00:20:26.597093Z"
    },
    "papermill": {
     "duration": 0.047715,
     "end_time": "2021-06-21T00:20:26.597616",
     "exception": false,
     "start_time": "2021-06-21T00:20:26.549901",
     "status": "completed"
    },
    "tags": []
   },
   "outputs": [],
   "source": [
    "#hide\n",
    "def get_frame(name):\n",
    "    url = (\n",
    "        'https://raw.githubusercontent.com/CSSEGISandData/COVID-19/master/csse_covid_19_data/'\n",
    "        f'csse_covid_19_time_series/time_series_covid19_{name}_global.csv')\n",
    "    df = pd.read_csv(url)\n",
    "    # rename countries\n",
    "    df['Country/Region'] = df['Country/Region'].replace(mapping['replace.country'])\n",
    "    return df"
   ]
  },
  {
   "cell_type": "code",
   "execution_count": 8,
   "id": "affiliated-characterization",
   "metadata": {
    "execution": {
     "iopub.execute_input": "2021-06-21T00:20:26.662574Z",
     "iopub.status.busy": "2021-06-21T00:20:26.662054Z",
     "iopub.status.idle": "2021-06-21T00:20:26.664094Z",
     "shell.execute_reply": "2021-06-21T00:20:26.663676Z"
    },
    "papermill": {
     "duration": 0.036847,
     "end_time": "2021-06-21T00:20:26.664191",
     "exception": false,
     "start_time": "2021-06-21T00:20:26.627344",
     "status": "completed"
    },
    "tags": []
   },
   "outputs": [],
   "source": [
    "#hide\n",
    "def get_dates(df):\n",
    "    dt_cols = df.columns[~df.columns.isin(['Province/State', 'Country/Region', 'Lat', 'Long'])]\n",
    "    LAST_DATE_I = -1\n",
    "    # sometimes last column may be empty, then go backwards\n",
    "    for i in range(-1, -len(dt_cols), -1):\n",
    "        if not df[dt_cols[i]].fillna(0).eq(0).all():\n",
    "            LAST_DATE_I = i\n",
    "            break\n",
    "    return LAST_DATE_I, dt_cols"
   ]
  },
  {
   "cell_type": "code",
   "execution_count": 9,
   "id": "recent-optimization",
   "metadata": {
    "execution": {
     "iopub.execute_input": "2021-06-21T00:20:26.728298Z",
     "iopub.status.busy": "2021-06-21T00:20:26.727785Z",
     "iopub.status.idle": "2021-06-21T00:20:26.973042Z",
     "shell.execute_reply": "2021-06-21T00:20:26.972018Z"
    },
    "papermill": {
     "duration": 0.279038,
     "end_time": "2021-06-21T00:20:26.973168",
     "exception": false,
     "start_time": "2021-06-21T00:20:26.694130",
     "status": "completed"
    },
    "tags": []
   },
   "outputs": [],
   "source": [
    "#hide\n",
    "COL_REGION = 'Country/Region'\n",
    "# Confirmed, Recovered, Deaths\n",
    "df = get_frame('confirmed')\n",
    "# dft_: timeseries, dfc_: today country agg\n",
    "dft_cases = df\n",
    "dft_deaths = get_frame('deaths')\n",
    "dft_recovered = get_frame('recovered')\n",
    "LAST_DATE_I, dt_cols = get_dates(df)"
   ]
  },
  {
   "cell_type": "code",
   "execution_count": 10,
   "id": "absolute-copper",
   "metadata": {
    "execution": {
     "iopub.execute_input": "2021-06-21T00:20:27.039298Z",
     "iopub.status.busy": "2021-06-21T00:20:27.038192Z",
     "iopub.status.idle": "2021-06-21T00:20:27.039901Z",
     "shell.execute_reply": "2021-06-21T00:20:27.040305Z"
    },
    "papermill": {
     "duration": 0.036957,
     "end_time": "2021-06-21T00:20:27.040432",
     "exception": false,
     "start_time": "2021-06-21T00:20:27.003475",
     "status": "completed"
    },
    "tags": []
   },
   "outputs": [],
   "source": [
    "#hide\n",
    "LAST_DATE_I, dt_cols = get_dates(df)\n",
    "dt_today =dt_cols[LAST_DATE_I]\n",
    "# dt_5day = dt_cols[LAST_DATE_I - 5]\n",
    "dt_yday = dt_cols[LAST_DATE_I - 1]"
   ]
  },
  {
   "cell_type": "code",
   "execution_count": 11,
   "id": "restricted-sheriff",
   "metadata": {
    "execution": {
     "iopub.execute_input": "2021-06-21T00:20:27.107276Z",
     "iopub.status.busy": "2021-06-21T00:20:27.105990Z",
     "iopub.status.idle": "2021-06-21T00:20:27.113238Z",
     "shell.execute_reply": "2021-06-21T00:20:27.112839Z"
    },
    "papermill": {
     "duration": 0.042643,
     "end_time": "2021-06-21T00:20:27.113360",
     "exception": false,
     "start_time": "2021-06-21T00:20:27.070717",
     "status": "completed"
    },
    "tags": []
   },
   "outputs": [],
   "source": [
    "#hide\n",
    "dfc_cases = dft_cases.groupby(COL_REGION)[dt_today].sum()\n",
    "dfc_deaths = dft_deaths.groupby(COL_REGION)[dt_today].sum()\n",
    "# dfp_cases = dft_cases.groupby(COL_REGION)[dt_5day].sum()\n",
    "# dfp_deaths = dft_deaths.groupby(COL_REGION)[dt_5day].sum()\n",
    "dfp_cases = dft_cases.groupby(COL_REGION)[dt_yday].sum()\n",
    "dfp_deaths = dft_deaths.groupby(COL_REGION)[dt_yday].sum()"
   ]
  },
  {
   "cell_type": "code",
   "execution_count": 12,
   "id": "deluxe-hepatitis",
   "metadata": {
    "execution": {
     "iopub.execute_input": "2021-06-21T00:20:27.178810Z",
     "iopub.status.busy": "2021-06-21T00:20:27.178095Z",
     "iopub.status.idle": "2021-06-21T00:20:27.182344Z",
     "shell.execute_reply": "2021-06-21T00:20:27.181942Z"
    },
    "papermill": {
     "duration": 0.039268,
     "end_time": "2021-06-21T00:20:27.182445",
     "exception": false,
     "start_time": "2021-06-21T00:20:27.143177",
     "status": "completed"
    },
    "tags": []
   },
   "outputs": [],
   "source": [
    "#hide\n",
    "df_table = (pd.DataFrame(dict(Cases = dfc_cases, Deaths = dfc_deaths, PCases = dfp_cases, PDeaths = dfp_deaths))\n",
    "            .sort_values(by = ['Cases','Deaths'], ascending = [False, False])\n",
    "            .reset_index())"
   ]
  },
  {
   "cell_type": "code",
   "execution_count": 13,
   "id": "educational-chancellor",
   "metadata": {
    "execution": {
     "iopub.execute_input": "2021-06-21T00:20:27.258319Z",
     "iopub.status.busy": "2021-06-21T00:20:27.257777Z",
     "iopub.status.idle": "2021-06-21T00:20:27.264976Z",
     "shell.execute_reply": "2021-06-21T00:20:27.264582Z"
    },
    "papermill": {
     "duration": 0.052996,
     "end_time": "2021-06-21T00:20:27.265079",
     "exception": false,
     "start_time": "2021-06-21T00:20:27.212083",
     "status": "completed"
    },
    "tags": []
   },
   "outputs": [
    {
     "data": {
      "text/html": [
       "<div>\n",
       "<style scoped>\n",
       "    .dataframe tbody tr th:only-of-type {\n",
       "        vertical-align: middle;\n",
       "    }\n",
       "\n",
       "    .dataframe tbody tr th {\n",
       "        vertical-align: top;\n",
       "    }\n",
       "\n",
       "    .dataframe thead th {\n",
       "        text-align: right;\n",
       "    }\n",
       "</style>\n",
       "<table border=\"1\" class=\"dataframe\">\n",
       "  <thead>\n",
       "    <tr style=\"text-align: right;\">\n",
       "      <th></th>\n",
       "      <th>Country/Region</th>\n",
       "      <th>Cases</th>\n",
       "      <th>Deaths</th>\n",
       "      <th>PCases</th>\n",
       "      <th>PDeaths</th>\n",
       "      <th>Cases (+)</th>\n",
       "      <th>Deaths (+)</th>\n",
       "      <th>Fatality Rate</th>\n",
       "      <th>Continent</th>\n",
       "    </tr>\n",
       "  </thead>\n",
       "  <tbody>\n",
       "    <tr>\n",
       "      <th>0</th>\n",
       "      <td>US</td>\n",
       "      <td>33537995</td>\n",
       "      <td>601741</td>\n",
       "      <td>33529475</td>\n",
       "      <td>601571</td>\n",
       "      <td>8520</td>\n",
       "      <td>170</td>\n",
       "      <td>1.79</td>\n",
       "      <td>North America</td>\n",
       "    </tr>\n",
       "    <tr>\n",
       "      <th>1</th>\n",
       "      <td>India</td>\n",
       "      <td>29881772</td>\n",
       "      <td>386708</td>\n",
       "      <td>29823546</td>\n",
       "      <td>385137</td>\n",
       "      <td>58226</td>\n",
       "      <td>1571</td>\n",
       "      <td>1.29</td>\n",
       "      <td>Asia</td>\n",
       "    </tr>\n",
       "    <tr>\n",
       "      <th>2</th>\n",
       "      <td>Brazil</td>\n",
       "      <td>17883750</td>\n",
       "      <td>500800</td>\n",
       "      <td>17801462</td>\n",
       "      <td>498499</td>\n",
       "      <td>82288</td>\n",
       "      <td>2301</td>\n",
       "      <td>2.80</td>\n",
       "      <td>South America</td>\n",
       "    </tr>\n",
       "    <tr>\n",
       "      <th>3</th>\n",
       "      <td>France</td>\n",
       "      <td>5817272</td>\n",
       "      <td>110886</td>\n",
       "      <td>5814648</td>\n",
       "      <td>110864</td>\n",
       "      <td>2624</td>\n",
       "      <td>22</td>\n",
       "      <td>1.91</td>\n",
       "      <td>Europe</td>\n",
       "    </tr>\n",
       "    <tr>\n",
       "      <th>4</th>\n",
       "      <td>Turkey</td>\n",
       "      <td>5365208</td>\n",
       "      <td>49122</td>\n",
       "      <td>5359728</td>\n",
       "      <td>49071</td>\n",
       "      <td>5480</td>\n",
       "      <td>51</td>\n",
       "      <td>0.92</td>\n",
       "      <td>Asia</td>\n",
       "    </tr>\n",
       "  </tbody>\n",
       "</table>\n",
       "</div>"
      ],
      "text/plain": [
       "  Country/Region     Cases  Deaths    PCases  PDeaths  Cases (+)  Deaths (+)  \\\n",
       "0             US  33537995  601741  33529475   601571       8520         170   \n",
       "1          India  29881772  386708  29823546   385137      58226        1571   \n",
       "2         Brazil  17883750  500800  17801462   498499      82288        2301   \n",
       "3         France   5817272  110886   5814648   110864       2624          22   \n",
       "4         Turkey   5365208   49122   5359728    49071       5480          51   \n",
       "\n",
       "   Fatality Rate      Continent  \n",
       "0           1.79  North America  \n",
       "1           1.29           Asia  \n",
       "2           2.80  South America  \n",
       "3           1.91         Europe  \n",
       "4           0.92           Asia  "
      ]
     },
     "execution_count": 13,
     "metadata": {},
     "output_type": "execute_result"
    }
   ],
   "source": [
    "#hide\n",
    "for c in 'Cases, Deaths'.split(', '):\n",
    "    df_table[f'{c} (+)'] = (df_table[c] - df_table[f'P{c}']).clip(0)\n",
    "    #Clip ça veut dire, les chiffres negatif sont interdit\n",
    "df_table['Fatality Rate'] = (100* df_table['Deaths']/ df_table['Cases']).round(2)\n",
    "df_table['Continent'] = df_table['Country/Region'].map(mapping['map.continent'])\n",
    "df_table.head(5)"
   ]
  },
  {
   "cell_type": "code",
   "execution_count": 14,
   "id": "aboriginal-bulgaria",
   "metadata": {
    "execution": {
     "iopub.execute_input": "2021-06-21T00:20:27.330256Z",
     "iopub.status.busy": "2021-06-21T00:20:27.329736Z",
     "iopub.status.idle": "2021-06-21T00:20:27.332165Z",
     "shell.execute_reply": "2021-06-21T00:20:27.332537Z"
    },
    "papermill": {
     "duration": 0.03715,
     "end_time": "2021-06-21T00:20:27.332652",
     "exception": false,
     "start_time": "2021-06-21T00:20:27.295502",
     "status": "completed"
    },
    "tags": []
   },
   "outputs": [],
   "source": [
    "#hide\n",
    "#delete problematic countries from table\n",
    "df_table = df_table[~df_table['Country/Region'].isin(['Cape Verde', 'Cruise Ship', 'Kosovo'])]"
   ]
  },
  {
   "cell_type": "code",
   "execution_count": 15,
   "id": "fantastic-effect",
   "metadata": {
    "execution": {
     "iopub.execute_input": "2021-06-21T00:20:27.400024Z",
     "iopub.status.busy": "2021-06-21T00:20:27.399533Z",
     "iopub.status.idle": "2021-06-21T00:20:27.416167Z",
     "shell.execute_reply": "2021-06-21T00:20:27.415747Z"
    },
    "papermill": {
     "duration": 0.053636,
     "end_time": "2021-06-21T00:20:27.416262",
     "exception": false,
     "start_time": "2021-06-21T00:20:27.362626",
     "status": "completed"
    },
    "tags": []
   },
   "outputs": [
    {
     "data": {
      "text/html": [
       "<div>\n",
       "<style scoped>\n",
       "    .dataframe tbody tr th:only-of-type {\n",
       "        vertical-align: middle;\n",
       "    }\n",
       "\n",
       "    .dataframe tbody tr th {\n",
       "        vertical-align: top;\n",
       "    }\n",
       "\n",
       "    .dataframe thead th {\n",
       "        text-align: right;\n",
       "    }\n",
       "</style>\n",
       "<table border=\"1\" class=\"dataframe\">\n",
       "  <thead>\n",
       "    <tr style=\"text-align: right;\">\n",
       "      <th></th>\n",
       "      <th>Country/Region</th>\n",
       "      <th>Cases</th>\n",
       "      <th>Deaths</th>\n",
       "      <th>PCases</th>\n",
       "      <th>PDeaths</th>\n",
       "      <th>Cases (+)</th>\n",
       "      <th>Deaths (+)</th>\n",
       "      <th>Fatality Rate</th>\n",
       "      <th>Continent</th>\n",
       "    </tr>\n",
       "  </thead>\n",
       "  <tbody>\n",
       "    <tr>\n",
       "      <th>0</th>\n",
       "      <td>US</td>\n",
       "      <td>33537995</td>\n",
       "      <td>601741</td>\n",
       "      <td>33529475</td>\n",
       "      <td>601571</td>\n",
       "      <td>8520</td>\n",
       "      <td>170</td>\n",
       "      <td>1.8</td>\n",
       "      <td>North America</td>\n",
       "    </tr>\n",
       "    <tr>\n",
       "      <th>1</th>\n",
       "      <td>India</td>\n",
       "      <td>29881772</td>\n",
       "      <td>386708</td>\n",
       "      <td>29823546</td>\n",
       "      <td>385137</td>\n",
       "      <td>58226</td>\n",
       "      <td>1571</td>\n",
       "      <td>1.3</td>\n",
       "      <td>Asia</td>\n",
       "    </tr>\n",
       "    <tr>\n",
       "      <th>2</th>\n",
       "      <td>Brazil</td>\n",
       "      <td>17883750</td>\n",
       "      <td>500800</td>\n",
       "      <td>17801462</td>\n",
       "      <td>498499</td>\n",
       "      <td>82288</td>\n",
       "      <td>2301</td>\n",
       "      <td>2.8</td>\n",
       "      <td>South America</td>\n",
       "    </tr>\n",
       "    <tr>\n",
       "      <th>3</th>\n",
       "      <td>France</td>\n",
       "      <td>5817272</td>\n",
       "      <td>110886</td>\n",
       "      <td>5814648</td>\n",
       "      <td>110864</td>\n",
       "      <td>2624</td>\n",
       "      <td>22</td>\n",
       "      <td>1.9</td>\n",
       "      <td>Europe</td>\n",
       "    </tr>\n",
       "    <tr>\n",
       "      <th>4</th>\n",
       "      <td>Turkey</td>\n",
       "      <td>5365208</td>\n",
       "      <td>49122</td>\n",
       "      <td>5359728</td>\n",
       "      <td>49071</td>\n",
       "      <td>5480</td>\n",
       "      <td>51</td>\n",
       "      <td>0.9</td>\n",
       "      <td>Asia</td>\n",
       "    </tr>\n",
       "  </tbody>\n",
       "</table>\n",
       "</div>"
      ],
      "text/plain": [
       "  Country/Region     Cases  Deaths    PCases  PDeaths  Cases (+)  Deaths (+)  \\\n",
       "0             US  33537995  601741  33529475   601571       8520         170   \n",
       "1          India  29881772  386708  29823546   385137      58226        1571   \n",
       "2         Brazil  17883750  500800  17801462   498499      82288        2301   \n",
       "3         France   5817272  110886   5814648   110864       2624          22   \n",
       "4         Turkey   5365208   49122   5359728    49071       5480          51   \n",
       "\n",
       "   Fatality Rate      Continent  \n",
       "0            1.8  North America  \n",
       "1            1.3           Asia  \n",
       "2            2.8  South America  \n",
       "3            1.9         Europe  \n",
       "4            0.9           Asia  "
      ]
     },
     "execution_count": 15,
     "metadata": {},
     "output_type": "execute_result"
    }
   ],
   "source": [
    "#hide\n",
    "df_table = (pd.DataFrame(dict(Cases=dfc_cases, Deaths=dfc_deaths, PCases=dfp_cases, PDeaths=dfp_deaths))\n",
    "             .sort_values(by=['Cases', 'Deaths'], ascending=[False, False])\n",
    "             .reset_index())\n",
    "df_table.rename(columns={'index': 'Country/Region'}, inplace=True)\n",
    "for c in 'Cases, Deaths'.split(', '):\n",
    "    df_table[f'{c} (+)'] = (df_table[c] - df_table[f'P{c}']).clip(0)  # DATA BUG\n",
    "df_table['Fatality Rate'] = (100 * df_table['Deaths'] / df_table['Cases']).round(1)\n",
    "df_table['Continent'] = df_table['Country/Region'].map(mapping['map.continent'])\n",
    "df_table.head(5)"
   ]
  },
  {
   "cell_type": "code",
   "execution_count": 16,
   "id": "fewer-occasion",
   "metadata": {
    "execution": {
     "iopub.execute_input": "2021-06-21T00:20:27.482587Z",
     "iopub.status.busy": "2021-06-21T00:20:27.482090Z",
     "iopub.status.idle": "2021-06-21T00:20:27.484294Z",
     "shell.execute_reply": "2021-06-21T00:20:27.483898Z"
    },
    "papermill": {
     "duration": 0.037361,
     "end_time": "2021-06-21T00:20:27.484392",
     "exception": false,
     "start_time": "2021-06-21T00:20:27.447031",
     "status": "completed"
    },
    "tags": []
   },
   "outputs": [],
   "source": [
    "#hide\n",
    "#delete problematic countries from table\n",
    "df_table = df_table[~df_table['Country/Region'].isin(['Cape Verde', 'Cruise Ship', 'Kosovo'])]"
   ]
  },
  {
   "cell_type": "code",
   "execution_count": 17,
   "id": "related-center",
   "metadata": {
    "execution": {
     "iopub.execute_input": "2021-06-21T00:20:27.561306Z",
     "iopub.status.busy": "2021-06-21T00:20:27.560802Z",
     "iopub.status.idle": "2021-06-21T00:20:27.563152Z",
     "shell.execute_reply": "2021-06-21T00:20:27.562734Z"
    },
    "papermill": {
     "duration": 0.048494,
     "end_time": "2021-06-21T00:20:27.563249",
     "exception": false,
     "start_time": "2021-06-21T00:20:27.514755",
     "status": "completed"
    },
    "tags": []
   },
   "outputs": [],
   "source": [
    "#hide\n",
    "metrics = [df_table.columns[index] for index in [1,2,5,6]]\n",
    "# s_china = df_table[df_table['Country/Region'].eq('China')][metrics].sum().add_prefix('China ')\n",
    "s_us = df_table[df_table['Country/Region'].eq('US')][metrics].sum().add_prefix('US ')\n",
    "s_eu = df_table[df_table['Continent'].eq('Europe')][metrics].sum().add_prefix('EU ')\n",
    "s_ind = df_table[df_table['Country/Region'].eq('India')][metrics].sum().add_prefix('India ')\n",
    "summary = {'updated': pd.to_datetime(dt_today), 'since': pd.to_datetime(dt_yday)}\n",
    "summary = {'updated': pd.to_datetime(dt_today), 'since': pd.to_datetime(dt_yday)}\n",
    "summary = {**summary, **df_table[metrics].sum(), **s_ind, **s_us, **s_eu}"
   ]
  },
  {
   "cell_type": "code",
   "execution_count": 18,
   "id": "engaging-syndrome",
   "metadata": {
    "execution": {
     "iopub.execute_input": "2021-06-21T00:20:27.628650Z",
     "iopub.status.busy": "2021-06-21T00:20:27.628161Z",
     "iopub.status.idle": "2021-06-21T00:20:27.640377Z",
     "shell.execute_reply": "2021-06-21T00:20:27.639960Z"
    },
    "papermill": {
     "duration": 0.046769,
     "end_time": "2021-06-21T00:20:27.640475",
     "exception": false,
     "start_time": "2021-06-21T00:20:27.593706",
     "status": "completed"
    },
    "tags": []
   },
   "outputs": [],
   "source": [
    "#hide\n",
    "dft_ct_new_cases = dft_cases.groupby(COL_REGION)[dt_cols].sum().diff(axis=1).fillna(0).astype(int)"
   ]
  },
  {
   "cell_type": "code",
   "execution_count": 19,
   "id": "neutral-assignment",
   "metadata": {
    "execution": {
     "iopub.execute_input": "2021-06-21T00:20:27.706943Z",
     "iopub.status.busy": "2021-06-21T00:20:27.706447Z",
     "iopub.status.idle": "2021-06-21T00:20:27.708577Z",
     "shell.execute_reply": "2021-06-21T00:20:27.708180Z"
    },
    "papermill": {
     "duration": 0.037635,
     "end_time": "2021-06-21T00:20:27.708678",
     "exception": false,
     "start_time": "2021-06-21T00:20:27.671043",
     "status": "completed"
    },
    "tags": []
   },
   "outputs": [],
   "source": [
    "#hide\n",
    "everydaycases = dft_ct_new_cases.cumsum(axis=1)"
   ]
  },
  {
   "cell_type": "code",
   "execution_count": 20,
   "id": "parliamentary-calgary",
   "metadata": {
    "execution": {
     "iopub.execute_input": "2021-06-21T00:20:27.776918Z",
     "iopub.status.busy": "2021-06-21T00:20:27.776419Z",
     "iopub.status.idle": "2021-06-21T00:20:28.281636Z",
     "shell.execute_reply": "2021-06-21T00:20:28.281060Z"
    },
    "papermill": {
     "duration": 0.539052,
     "end_time": "2021-06-21T00:20:28.281774",
     "exception": false,
     "start_time": "2021-06-21T00:20:27.742722",
     "status": "completed"
    },
    "tags": []
   },
   "outputs": [],
   "source": [
    "#hide\n",
    "import pandas as pd\n",
    "import matplotlib.pyplot as plt\n",
    "import matplotlib.ticker as ticker\n",
    "import matplotlib.animation as animation\n",
    "from IPython.display import HTML"
   ]
  },
  {
   "cell_type": "code",
   "execution_count": 21,
   "id": "lasting-extraction",
   "metadata": {
    "execution": {
     "iopub.execute_input": "2021-06-21T00:20:28.348334Z",
     "iopub.status.busy": "2021-06-21T00:20:28.347821Z",
     "iopub.status.idle": "2021-06-21T00:20:28.353419Z",
     "shell.execute_reply": "2021-06-21T00:20:28.352982Z"
    },
    "papermill": {
     "duration": 0.04079,
     "end_time": "2021-06-21T00:20:28.353541",
     "exception": false,
     "start_time": "2021-06-21T00:20:28.312751",
     "status": "completed"
    },
    "tags": []
   },
   "outputs": [],
   "source": [
    "#hide\n",
    "t = everydaycases.stack()"
   ]
  },
  {
   "cell_type": "code",
   "execution_count": 22,
   "id": "premier-sleeve",
   "metadata": {
    "execution": {
     "iopub.execute_input": "2021-06-21T00:20:28.418829Z",
     "iopub.status.busy": "2021-06-21T00:20:28.418334Z",
     "iopub.status.idle": "2021-06-21T00:20:28.426437Z",
     "shell.execute_reply": "2021-06-21T00:20:28.426033Z"
    },
    "papermill": {
     "duration": 0.042375,
     "end_time": "2021-06-21T00:20:28.426538",
     "exception": false,
     "start_time": "2021-06-21T00:20:28.384163",
     "status": "completed"
    },
    "tags": []
   },
   "outputs": [],
   "source": [
    "#hide\n",
    "g = t.reset_index(['Country/Region'])"
   ]
  },
  {
   "cell_type": "code",
   "execution_count": 23,
   "id": "distributed-pittsburgh",
   "metadata": {
    "execution": {
     "iopub.execute_input": "2021-06-21T00:20:28.491028Z",
     "iopub.status.busy": "2021-06-21T00:20:28.490157Z",
     "iopub.status.idle": "2021-06-21T00:20:28.492223Z",
     "shell.execute_reply": "2021-06-21T00:20:28.491811Z"
    },
    "papermill": {
     "duration": 0.035399,
     "end_time": "2021-06-21T00:20:28.492318",
     "exception": false,
     "start_time": "2021-06-21T00:20:28.456919",
     "status": "completed"
    },
    "tags": []
   },
   "outputs": [],
   "source": [
    "#hide\n",
    "g.index.name = 'date'"
   ]
  },
  {
   "cell_type": "code",
   "execution_count": 24,
   "id": "naked-donor",
   "metadata": {
    "execution": {
     "iopub.execute_input": "2021-06-21T00:20:28.556806Z",
     "iopub.status.busy": "2021-06-21T00:20:28.555849Z",
     "iopub.status.idle": "2021-06-21T00:20:28.557517Z",
     "shell.execute_reply": "2021-06-21T00:20:28.557909Z"
    },
    "papermill": {
     "duration": 0.035281,
     "end_time": "2021-06-21T00:20:28.558021",
     "exception": false,
     "start_time": "2021-06-21T00:20:28.522740",
     "status": "completed"
    },
    "tags": []
   },
   "outputs": [],
   "source": [
    "# #hide\n",
    "# g = g.reset_index(['date'])"
   ]
  },
  {
   "cell_type": "code",
   "execution_count": 25,
   "id": "incomplete-mustang",
   "metadata": {
    "execution": {
     "iopub.execute_input": "2021-06-21T00:20:28.622781Z",
     "iopub.status.busy": "2021-06-21T00:20:28.621772Z",
     "iopub.status.idle": "2021-06-21T00:20:28.623420Z",
     "shell.execute_reply": "2021-06-21T00:20:28.623814Z"
    },
    "papermill": {
     "duration": 0.035405,
     "end_time": "2021-06-21T00:20:28.623920",
     "exception": false,
     "start_time": "2021-06-21T00:20:28.588515",
     "status": "completed"
    },
    "tags": []
   },
   "outputs": [],
   "source": [
    "#hide\n",
    "# g.head()"
   ]
  },
  {
   "cell_type": "code",
   "execution_count": 26,
   "id": "specific-kruger",
   "metadata": {
    "execution": {
     "iopub.execute_input": "2021-06-21T00:20:28.688523Z",
     "iopub.status.busy": "2021-06-21T00:20:28.687471Z",
     "iopub.status.idle": "2021-06-21T00:20:28.689082Z",
     "shell.execute_reply": "2021-06-21T00:20:28.689470Z"
    },
    "papermill": {
     "duration": 0.035176,
     "end_time": "2021-06-21T00:20:28.689575",
     "exception": false,
     "start_time": "2021-06-21T00:20:28.654399",
     "status": "completed"
    },
    "tags": []
   },
   "outputs": [],
   "source": [
    "#hide\n",
    "# g.columns = ['date','country','cases']"
   ]
  },
  {
   "cell_type": "code",
   "execution_count": 27,
   "id": "tender-conversion",
   "metadata": {
    "execution": {
     "iopub.execute_input": "2021-06-21T00:20:28.753960Z",
     "iopub.status.busy": "2021-06-21T00:20:28.753023Z",
     "iopub.status.idle": "2021-06-21T00:20:28.755198Z",
     "shell.execute_reply": "2021-06-21T00:20:28.754787Z"
    },
    "papermill": {
     "duration": 0.035281,
     "end_time": "2021-06-21T00:20:28.755292",
     "exception": false,
     "start_time": "2021-06-21T00:20:28.720011",
     "status": "completed"
    },
    "tags": []
   },
   "outputs": [],
   "source": [
    "#hide\n",
    "# g['continent'] = g.country"
   ]
  },
  {
   "cell_type": "code",
   "execution_count": 28,
   "id": "substantial-wilderness",
   "metadata": {
    "execution": {
     "iopub.execute_input": "2021-06-21T00:20:28.819695Z",
     "iopub.status.busy": "2021-06-21T00:20:28.818735Z",
     "iopub.status.idle": "2021-06-21T00:20:28.820317Z",
     "shell.execute_reply": "2021-06-21T00:20:28.820706Z"
    },
    "papermill": {
     "duration": 0.035038,
     "end_time": "2021-06-21T00:20:28.820810",
     "exception": false,
     "start_time": "2021-06-21T00:20:28.785772",
     "status": "completed"
    },
    "tags": []
   },
   "outputs": [],
   "source": [
    "#hide\n",
    "# cols = list(g.columns.values)"
   ]
  },
  {
   "cell_type": "code",
   "execution_count": 29,
   "id": "solved-farming",
   "metadata": {
    "execution": {
     "iopub.execute_input": "2021-06-21T00:20:28.884780Z",
     "iopub.status.busy": "2021-06-21T00:20:28.883927Z",
     "iopub.status.idle": "2021-06-21T00:20:28.885460Z",
     "shell.execute_reply": "2021-06-21T00:20:28.885944Z"
    },
    "papermill": {
     "duration": 0.035009,
     "end_time": "2021-06-21T00:20:28.886049",
     "exception": false,
     "start_time": "2021-06-21T00:20:28.851040",
     "status": "completed"
    },
    "tags": []
   },
   "outputs": [],
   "source": [
    "#hide\n",
    "# cols.insert(0, cols.pop())"
   ]
  },
  {
   "cell_type": "code",
   "execution_count": 30,
   "id": "executed-adoption",
   "metadata": {
    "execution": {
     "iopub.execute_input": "2021-06-21T00:20:28.950559Z",
     "iopub.status.busy": "2021-06-21T00:20:28.949497Z",
     "iopub.status.idle": "2021-06-21T00:20:28.951216Z",
     "shell.execute_reply": "2021-06-21T00:20:28.951609Z"
    },
    "papermill": {
     "duration": 0.035208,
     "end_time": "2021-06-21T00:20:28.951713",
     "exception": false,
     "start_time": "2021-06-21T00:20:28.916505",
     "status": "completed"
    },
    "tags": []
   },
   "outputs": [],
   "source": [
    "#hide\n",
    "# g = g[cols]"
   ]
  },
  {
   "cell_type": "code",
   "execution_count": 31,
   "id": "subject-dublin",
   "metadata": {
    "execution": {
     "iopub.execute_input": "2021-06-21T00:20:29.015396Z",
     "iopub.status.busy": "2021-06-21T00:20:29.014881Z",
     "iopub.status.idle": "2021-06-21T00:20:29.016765Z",
     "shell.execute_reply": "2021-06-21T00:20:29.017183Z"
    },
    "papermill": {
     "duration": 0.035223,
     "end_time": "2021-06-21T00:20:29.017285",
     "exception": false,
     "start_time": "2021-06-21T00:20:28.982062",
     "status": "completed"
    },
    "tags": []
   },
   "outputs": [],
   "source": [
    "#hide\n",
    "# g['continent'] = g['continent'].map(mapping['map.continent'])"
   ]
  },
  {
   "cell_type": "code",
   "execution_count": 32,
   "id": "freelance-scout",
   "metadata": {
    "execution": {
     "iopub.execute_input": "2021-06-21T00:20:29.081819Z",
     "iopub.status.busy": "2021-06-21T00:20:29.080804Z",
     "iopub.status.idle": "2021-06-21T00:20:29.082508Z",
     "shell.execute_reply": "2021-06-21T00:20:29.082903Z"
    },
    "papermill": {
     "duration": 0.035286,
     "end_time": "2021-06-21T00:20:29.083013",
     "exception": false,
     "start_time": "2021-06-21T00:20:29.047727",
     "status": "completed"
    },
    "tags": []
   },
   "outputs": [],
   "source": [
    "#hide\n",
    "# g.head()"
   ]
  },
  {
   "cell_type": "code",
   "execution_count": 33,
   "id": "limited-engine",
   "metadata": {
    "execution": {
     "iopub.execute_input": "2021-06-21T00:20:29.146587Z",
     "iopub.status.busy": "2021-06-21T00:20:29.146096Z",
     "iopub.status.idle": "2021-06-21T00:20:29.148538Z",
     "shell.execute_reply": "2021-06-21T00:20:29.148147Z"
    },
    "papermill": {
     "duration": 0.03537,
     "end_time": "2021-06-21T00:20:29.148636",
     "exception": false,
     "start_time": "2021-06-21T00:20:29.113266",
     "status": "completed"
    },
    "tags": []
   },
   "outputs": [],
   "source": [
    "# hide\n",
    "# g['date'] = g['date'].astype('datetime64[ns]')"
   ]
  },
  {
   "cell_type": "code",
   "execution_count": 34,
   "id": "sophisticated-supervisor",
   "metadata": {
    "execution": {
     "iopub.execute_input": "2021-06-21T00:20:29.211969Z",
     "iopub.status.busy": "2021-06-21T00:20:29.211486Z",
     "iopub.status.idle": "2021-06-21T00:20:29.216213Z",
     "shell.execute_reply": "2021-06-21T00:20:29.216596Z"
    },
    "papermill": {
     "duration": 0.037549,
     "end_time": "2021-06-21T00:20:29.216707",
     "exception": false,
     "start_time": "2021-06-21T00:20:29.179158",
     "status": "completed"
    },
    "tags": []
   },
   "outputs": [],
   "source": [
    "#hide\n",
    "# g['date'] = g.date.dt.dayofyear"
   ]
  },
  {
   "cell_type": "code",
   "execution_count": 35,
   "id": "inside-dubai",
   "metadata": {
    "execution": {
     "iopub.execute_input": "2021-06-21T00:20:29.280622Z",
     "iopub.status.busy": "2021-06-21T00:20:29.280134Z",
     "iopub.status.idle": "2021-06-21T00:20:29.282079Z",
     "shell.execute_reply": "2021-06-21T00:20:29.282481Z"
    },
    "papermill": {
     "duration": 0.035265,
     "end_time": "2021-06-21T00:20:29.282587",
     "exception": false,
     "start_time": "2021-06-21T00:20:29.247322",
     "status": "completed"
    },
    "tags": []
   },
   "outputs": [],
   "source": [
    "#hide\n",
    "# g = g.rename(columns= {'continent':'group','country':'name','cases':'value'})"
   ]
  },
  {
   "cell_type": "code",
   "execution_count": 36,
   "id": "fleet-motorcycle",
   "metadata": {
    "execution": {
     "iopub.execute_input": "2021-06-21T00:20:29.346706Z",
     "iopub.status.busy": "2021-06-21T00:20:29.345824Z",
     "iopub.status.idle": "2021-06-21T00:20:29.347492Z",
     "shell.execute_reply": "2021-06-21T00:20:29.347886Z"
    },
    "papermill": {
     "duration": 0.034948,
     "end_time": "2021-06-21T00:20:29.347994",
     "exception": false,
     "start_time": "2021-06-21T00:20:29.313046",
     "status": "completed"
    },
    "tags": []
   },
   "outputs": [],
   "source": [
    "#hide\n",
    "# cols = ['name','group','day','value']"
   ]
  },
  {
   "cell_type": "code",
   "execution_count": 37,
   "id": "continued-sleeping",
   "metadata": {
    "execution": {
     "iopub.execute_input": "2021-06-21T00:20:29.412070Z",
     "iopub.status.busy": "2021-06-21T00:20:29.411219Z",
     "iopub.status.idle": "2021-06-21T00:20:29.412896Z",
     "shell.execute_reply": "2021-06-21T00:20:29.413313Z"
    },
    "papermill": {
     "duration": 0.035093,
     "end_time": "2021-06-21T00:20:29.413418",
     "exception": false,
     "start_time": "2021-06-21T00:20:29.378325",
     "status": "completed"
    },
    "tags": []
   },
   "outputs": [],
   "source": [
    "#hide\n",
    "# g.rename(columns= {'date':'day'},inplace = True)"
   ]
  },
  {
   "cell_type": "code",
   "execution_count": 38,
   "id": "major-fight",
   "metadata": {
    "execution": {
     "iopub.execute_input": "2021-06-21T00:20:29.477377Z",
     "iopub.status.busy": "2021-06-21T00:20:29.476831Z",
     "iopub.status.idle": "2021-06-21T00:20:29.478392Z",
     "shell.execute_reply": "2021-06-21T00:20:29.478784Z"
    },
    "papermill": {
     "duration": 0.034993,
     "end_time": "2021-06-21T00:20:29.478888",
     "exception": false,
     "start_time": "2021-06-21T00:20:29.443895",
     "status": "completed"
    },
    "tags": []
   },
   "outputs": [],
   "source": [
    "#hide\n",
    "# g = g[cols]"
   ]
  },
  {
   "cell_type": "code",
   "execution_count": 39,
   "id": "structured-mobile",
   "metadata": {
    "execution": {
     "iopub.execute_input": "2021-06-21T00:20:29.542373Z",
     "iopub.status.busy": "2021-06-21T00:20:29.541871Z",
     "iopub.status.idle": "2021-06-21T00:20:29.544113Z",
     "shell.execute_reply": "2021-06-21T00:20:29.543720Z"
    },
    "papermill": {
     "duration": 0.034982,
     "end_time": "2021-06-21T00:20:29.544208",
     "exception": false,
     "start_time": "2021-06-21T00:20:29.509226",
     "status": "completed"
    },
    "tags": []
   },
   "outputs": [],
   "source": [
    "# #hide\n",
    "# g = g[g.group.notna()]"
   ]
  },
  {
   "cell_type": "code",
   "execution_count": 40,
   "id": "determined-closing",
   "metadata": {
    "execution": {
     "iopub.execute_input": "2021-06-21T00:20:29.608253Z",
     "iopub.status.busy": "2021-06-21T00:20:29.607761Z",
     "iopub.status.idle": "2021-06-21T00:20:29.609622Z",
     "shell.execute_reply": "2021-06-21T00:20:29.610016Z"
    },
    "papermill": {
     "duration": 0.035052,
     "end_time": "2021-06-21T00:20:29.610126",
     "exception": false,
     "start_time": "2021-06-21T00:20:29.575074",
     "status": "completed"
    },
    "tags": []
   },
   "outputs": [],
   "source": [
    "# #hide\n",
    "# colors = dict(zip(\n",
    "#     [\"Oceania\", \"Europe\", \"Asia\", \"South America\", \"Middle East\", \"North America\", \"Africa\"],\n",
    "#     [\"#adb0ff\", \"#ffb3ff\", \"#90d595\", \"#e48381\", \"#aafbff\", \"#f7bb5f\", \"#eafb50\"]\n",
    "# ))\n",
    "# group_lk = g.set_index('name')['group'].to_dict()"
   ]
  },
  {
   "cell_type": "code",
   "execution_count": null,
   "id": "gross-drinking",
   "metadata": {
    "papermill": {
     "duration": 0.03053,
     "end_time": "2021-06-21T00:20:29.670946",
     "exception": false,
     "start_time": "2021-06-21T00:20:29.640416",
     "status": "completed"
    },
    "tags": []
   },
   "outputs": [],
   "source": []
  },
  {
   "cell_type": "code",
   "execution_count": 41,
   "id": "subject-macintosh",
   "metadata": {
    "execution": {
     "iopub.execute_input": "2021-06-21T00:20:29.736433Z",
     "iopub.status.busy": "2021-06-21T00:20:29.735923Z",
     "iopub.status.idle": "2021-06-21T00:20:29.738778Z",
     "shell.execute_reply": "2021-06-21T00:20:29.738362Z"
    },
    "papermill": {
     "duration": 0.037415,
     "end_time": "2021-06-21T00:20:29.738873",
     "exception": false,
     "start_time": "2021-06-21T00:20:29.701458",
     "status": "completed"
    },
    "tags": []
   },
   "outputs": [],
   "source": [
    "# #hide\n",
    "# fig, ax = plt.subplots(figsize=(15, 8))\n",
    "\n",
    "# def draw_barchart(current_day):\n",
    "#     dff = g[g['day'].eq(current_day)].sort_values(by='value', ascending=True).tail(10)\n",
    "#     ax.clear()\n",
    "#     ax.barh(dff['name'], dff['value'], color=[colors[group_lk[x]] for x in dff['name']])\n",
    "#     dx = dff['value'].max() / 200\n",
    "    \n",
    "#     for i, (value, name) in enumerate(zip(dff['value'], dff['name'])):\n",
    "#         ax.text(value-dx, i,     name,           size=14, weight=600, ha='right', va='bottom')\n",
    "#         ax.text(value-dx, i-.25, group_lk[name], size=10, color='#444444', ha='right', va='baseline')\n",
    "#         ax.text(value+dx, i,     f'{value:,.0f}',  size=14, ha='left',  va='center')\n",
    "#     ax.text(1, 0.4, current_day, transform=ax.transAxes, color='#777777', size=46, ha='right', weight=800)\n",
    "#     ax.text(0, 1.06, 'Population (thousands)', transform=ax.transAxes, size=12, color='#777777')\n",
    "#     ax.xaxis.set_major_formatter(ticker.StrMethodFormatter('{x:,.0f}'))\n",
    "#     ax.xaxis.set_ticks_position('top')\n",
    "#     ax.tick_params(axis='x', colors='#777777', labelsize=12)\n",
    "#     ax.set_yticks([])\n",
    "#     ax.margins(0, 0.01)\n",
    "#     ax.grid(which='major', axis='x', linestyle='-')\n",
    "#     ax.set_axisbelow(True)\n",
    "    \n",
    "#     ax.text(0, 1.15, 'Coronavirus',\n",
    "#             transform=ax.transAxes, size=24, weight=600, ha='left', va='top')\n",
    "# #     ax.text(1, 0, 'by @pratapvardhan; credit @jburnmurdoch', transform=ax.transAxes, color='#777777', ha='right',\n",
    "# #             bbox=dict(facecolor='white', alpha=0.8, edgecolor='white'))\n",
    "#     plt.box(False)"
   ]
  },
  {
   "cell_type": "code",
   "execution_count": 42,
   "id": "sexual-wages",
   "metadata": {
    "execution": {
     "iopub.execute_input": "2021-06-21T00:20:29.802994Z",
     "iopub.status.busy": "2021-06-21T00:20:29.802507Z",
     "iopub.status.idle": "2021-06-21T00:20:29.804367Z",
     "shell.execute_reply": "2021-06-21T00:20:29.804786Z"
    },
    "papermill": {
     "duration": 0.035434,
     "end_time": "2021-06-21T00:20:29.804890",
     "exception": false,
     "start_time": "2021-06-21T00:20:29.769456",
     "status": "completed"
    },
    "tags": []
   },
   "outputs": [],
   "source": [
    "# #hide_input\n",
    "# fig, ax = plt.subplots(figsize=(15, 8))\n",
    "# animator = animation.FuncAnimation(fig, draw_barchart, frames=range(g.day.values.min(), g.day.values.max()))\n",
    "# HTML(animator.to_jshtml())\n",
    "# # or use animator.to_html5_video() or animator.save() "
   ]
  },
  {
   "cell_type": "code",
   "execution_count": null,
   "id": "australian-container",
   "metadata": {
    "papermill": {
     "duration": 0.030536,
     "end_time": "2021-06-21T00:20:29.865893",
     "exception": false,
     "start_time": "2021-06-21T00:20:29.835357",
     "status": "completed"
    },
    "tags": []
   },
   "outputs": [],
   "source": []
  },
  {
   "cell_type": "code",
   "execution_count": null,
   "id": "mediterranean-pontiac",
   "metadata": {
    "papermill": {
     "duration": 0.030471,
     "end_time": "2021-06-21T00:20:29.926722",
     "exception": false,
     "start_time": "2021-06-21T00:20:29.896251",
     "status": "completed"
    },
    "tags": []
   },
   "outputs": [],
   "source": []
  },
  {
   "cell_type": "code",
   "execution_count": null,
   "id": "aging-legislature",
   "metadata": {
    "papermill": {
     "duration": 0.030655,
     "end_time": "2021-06-21T00:20:29.987847",
     "exception": false,
     "start_time": "2021-06-21T00:20:29.957192",
     "status": "completed"
    },
    "tags": []
   },
   "outputs": [],
   "source": []
  }
 ],
 "metadata": {
  "kernelspec": {
   "display_name": "Python 3",
   "language": "python",
   "name": "python3"
  },
  "language_info": {
   "codemirror_mode": {
    "name": "ipython",
    "version": 3
   },
   "file_extension": ".py",
   "mimetype": "text/x-python",
   "name": "python",
   "nbconvert_exporter": "python",
   "pygments_lexer": "ipython3",
   "version": "3.6.13"
  },
  "papermill": {
   "duration": 6.055615,
   "end_time": "2021-06-21T00:20:30.325624",
   "environment_variables": {},
   "exception": null,
   "input_path": "2020-03-21-covid19exp.ipynb",
   "output_path": "2020-03-21-covid19exp.ipynb",
   "parameters": {},
   "start_time": "2021-06-21T00:20:24.270009",
   "version": "2.0.0"
  }
 },
 "nbformat": 4,
 "nbformat_minor": 5
}