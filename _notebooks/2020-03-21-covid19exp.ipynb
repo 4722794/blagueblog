{
 "cells": [
  {
   "cell_type": "markdown",
   "id": "muslim-click",
   "metadata": {
    "papermill": {
     "duration": 0.030702,
     "end_time": "2022-03-04T12:14:04.957922",
     "exception": false,
     "start_time": "2022-03-04T12:14:04.927220",
     "status": "completed"
    },
    "tags": []
   },
   "source": [
    "# COVID-19 Case Race\n",
    "> A race chart to see rising cases around the world\n",
    "\n",
    "- author: Hargun Oberoi\n",
    "- image: images/covid-overview.png\n",
    "- hide: false\n",
    "- badges: false"
   ]
  },
  {
   "cell_type": "code",
   "execution_count": 1,
   "id": "proof-material",
   "metadata": {
    "execution": {
     "iopub.execute_input": "2022-03-04T12:14:05.021770Z",
     "iopub.status.busy": "2022-03-04T12:14:05.021260Z",
     "iopub.status.idle": "2022-03-04T12:14:05.314922Z",
     "shell.execute_reply": "2022-03-04T12:14:05.315431Z"
    },
    "papermill": {
     "duration": 0.329996,
     "end_time": "2022-03-04T12:14:05.315629",
     "exception": false,
     "start_time": "2022-03-04T12:14:04.985633",
     "status": "completed"
    },
    "tags": []
   },
   "outputs": [],
   "source": [
    "#hide\n",
    "import numpy as np\n",
    "import pandas as pd\n",
    "from jinja2 import Template\n",
    "from IPython.display import HTML"
   ]
  },
  {
   "cell_type": "code",
   "execution_count": 2,
   "id": "developed-terminology",
   "metadata": {
    "execution": {
     "iopub.execute_input": "2022-03-04T12:14:05.373632Z",
     "iopub.status.busy": "2022-03-04T12:14:05.373161Z",
     "iopub.status.idle": "2022-03-04T12:14:05.375150Z",
     "shell.execute_reply": "2022-03-04T12:14:05.375588Z"
    },
    "papermill": {
     "duration": 0.033118,
     "end_time": "2022-03-04T12:14:05.375705",
     "exception": false,
     "start_time": "2022-03-04T12:14:05.342587",
     "status": "completed"
    },
    "tags": []
   },
   "outputs": [],
   "source": [
    "#hide\n",
    "\n",
    "# FETCH\n",
    "base_url = 'https://raw.githubusercontent.com/pratapvardhan/notebooks/master/covid19/'\n",
    "paths = {\n",
    "    'mapping': base_url + 'mapping_countries.csv',\n",
    "    'overview': base_url + 'overview.tpl'\n",
    "}"
   ]
  },
  {
   "cell_type": "code",
   "execution_count": 3,
   "id": "dynamic-saver",
   "metadata": {
    "execution": {
     "iopub.execute_input": "2022-03-04T12:14:05.436145Z",
     "iopub.status.busy": "2022-03-04T12:14:05.435688Z",
     "iopub.status.idle": "2022-03-04T12:14:05.439142Z",
     "shell.execute_reply": "2022-03-04T12:14:05.439564Z"
    },
    "papermill": {
     "duration": 0.037998,
     "end_time": "2022-03-04T12:14:05.439695",
     "exception": false,
     "start_time": "2022-03-04T12:14:05.401697",
     "status": "completed"
    },
    "tags": []
   },
   "outputs": [
    {
     "data": {
      "text/plain": [
       "'https://raw.githubusercontent.com/pratapvardhan/notebooks/master/covid19/mapping_countries.csv'"
      ]
     },
     "execution_count": 3,
     "metadata": {},
     "output_type": "execute_result"
    }
   ],
   "source": [
    "#hide\n",
    "paths['mapping']"
   ]
  },
  {
   "cell_type": "code",
   "execution_count": 4,
   "id": "urban-software",
   "metadata": {
    "execution": {
     "iopub.execute_input": "2022-03-04T12:14:05.498712Z",
     "iopub.status.busy": "2022-03-04T12:14:05.498092Z",
     "iopub.status.idle": "2022-03-04T12:14:05.501676Z",
     "shell.execute_reply": "2022-03-04T12:14:05.502031Z"
    },
    "papermill": {
     "duration": 0.03596,
     "end_time": "2022-03-04T12:14:05.502157",
     "exception": false,
     "start_time": "2022-03-04T12:14:05.466197",
     "status": "completed"
    },
    "tags": []
   },
   "outputs": [],
   "source": [
    "#hide\n",
    "def get_mappings(url):\n",
    "    df = pd.read_csv(url)\n",
    "    return {\n",
    "        'df': df,\n",
    "        'replace.country': dict(df.dropna(subset=['Name']).set_index('Country')['Name']),\n",
    "        'map.continent': dict(df.set_index('Name')['Continent'])\n",
    "    }"
   ]
  },
  {
   "cell_type": "code",
   "execution_count": 5,
   "id": "intimate-machinery",
   "metadata": {
    "execution": {
     "iopub.execute_input": "2022-03-04T12:14:05.560599Z",
     "iopub.status.busy": "2022-03-04T12:14:05.560133Z",
     "iopub.status.idle": "2022-03-04T12:14:05.633433Z",
     "shell.execute_reply": "2022-03-04T12:14:05.633030Z"
    },
    "papermill": {
     "duration": 0.10468,
     "end_time": "2022-03-04T12:14:05.633550",
     "exception": false,
     "start_time": "2022-03-04T12:14:05.528870",
     "status": "completed"
    },
    "tags": []
   },
   "outputs": [],
   "source": [
    "#hide\n",
    "mapping = get_mappings(paths['mapping'])"
   ]
  },
  {
   "cell_type": "code",
   "execution_count": 6,
   "id": "certified-tactics",
   "metadata": {
    "execution": {
     "iopub.execute_input": "2022-03-04T12:14:05.692299Z",
     "iopub.status.busy": "2022-03-04T12:14:05.691677Z",
     "iopub.status.idle": "2022-03-04T12:14:05.694896Z",
     "shell.execute_reply": "2022-03-04T12:14:05.695240Z"
    },
    "papermill": {
     "duration": 0.034975,
     "end_time": "2022-03-04T12:14:05.695366",
     "exception": false,
     "start_time": "2022-03-04T12:14:05.660391",
     "status": "completed"
    },
    "tags": []
   },
   "outputs": [],
   "source": [
    "#hide\n",
    "def get_template(path):\n",
    "    from urllib.parse import urlparse\n",
    "    if bool(urlparse(path).netloc):\n",
    "        from urllib.request import urlopen\n",
    "        return urlopen(path).read().decode('utf8')\n",
    "    return open(path).read()"
   ]
  },
  {
   "cell_type": "code",
   "execution_count": 7,
   "id": "realistic-blast",
   "metadata": {
    "execution": {
     "iopub.execute_input": "2022-03-04T12:14:05.753455Z",
     "iopub.status.busy": "2022-03-04T12:14:05.752842Z",
     "iopub.status.idle": "2022-03-04T12:14:05.754219Z",
     "shell.execute_reply": "2022-03-04T12:14:05.754715Z"
    },
    "papermill": {
     "duration": 0.033069,
     "end_time": "2022-03-04T12:14:05.754829",
     "exception": false,
     "start_time": "2022-03-04T12:14:05.721760",
     "status": "completed"
    },
    "tags": []
   },
   "outputs": [],
   "source": [
    "#hide\n",
    "def get_frame(name):\n",
    "    url = (\n",
    "        'https://raw.githubusercontent.com/CSSEGISandData/COVID-19/master/csse_covid_19_data/'\n",
    "        f'csse_covid_19_time_series/time_series_covid19_{name}_global.csv')\n",
    "    df = pd.read_csv(url)\n",
    "    # rename countries\n",
    "    df['Country/Region'] = df['Country/Region'].replace(mapping['replace.country'])\n",
    "    return df"
   ]
  },
  {
   "cell_type": "code",
   "execution_count": 8,
   "id": "affiliated-characterization",
   "metadata": {
    "execution": {
     "iopub.execute_input": "2022-03-04T12:14:05.813324Z",
     "iopub.status.busy": "2022-03-04T12:14:05.812861Z",
     "iopub.status.idle": "2022-03-04T12:14:05.814963Z",
     "shell.execute_reply": "2022-03-04T12:14:05.815352Z"
    },
    "papermill": {
     "duration": 0.034084,
     "end_time": "2022-03-04T12:14:05.815469",
     "exception": false,
     "start_time": "2022-03-04T12:14:05.781385",
     "status": "completed"
    },
    "tags": []
   },
   "outputs": [],
   "source": [
    "#hide\n",
    "def get_dates(df):\n",
    "    dt_cols = df.columns[~df.columns.isin(['Province/State', 'Country/Region', 'Lat', 'Long'])]\n",
    "    LAST_DATE_I = -1\n",
    "    # sometimes last column may be empty, then go backwards\n",
    "    for i in range(-1, -len(dt_cols), -1):\n",
    "        if not df[dt_cols[i]].fillna(0).eq(0).all():\n",
    "            LAST_DATE_I = i\n",
    "            break\n",
    "    return LAST_DATE_I, dt_cols"
   ]
  },
  {
   "cell_type": "code",
   "execution_count": 9,
   "id": "recent-optimization",
   "metadata": {
    "execution": {
     "iopub.execute_input": "2022-03-04T12:14:05.873306Z",
     "iopub.status.busy": "2022-03-04T12:14:05.872827Z",
     "iopub.status.idle": "2022-03-04T12:14:06.449519Z",
     "shell.execute_reply": "2022-03-04T12:14:06.449096Z"
    },
    "papermill": {
     "duration": 0.607835,
     "end_time": "2022-03-04T12:14:06.449678",
     "exception": false,
     "start_time": "2022-03-04T12:14:05.841843",
     "status": "completed"
    },
    "tags": []
   },
   "outputs": [],
   "source": [
    "#hide\n",
    "COL_REGION = 'Country/Region'\n",
    "# Confirmed, Recovered, Deaths\n",
    "df = get_frame('confirmed')\n",
    "# dft_: timeseries, dfc_: today country agg\n",
    "dft_cases = df\n",
    "dft_deaths = get_frame('deaths')\n",
    "dft_recovered = get_frame('recovered')\n",
    "LAST_DATE_I, dt_cols = get_dates(df)"
   ]
  },
  {
   "cell_type": "code",
   "execution_count": 10,
   "id": "absolute-copper",
   "metadata": {
    "execution": {
     "iopub.execute_input": "2022-03-04T12:14:06.508819Z",
     "iopub.status.busy": "2022-03-04T12:14:06.508340Z",
     "iopub.status.idle": "2022-03-04T12:14:06.510377Z",
     "shell.execute_reply": "2022-03-04T12:14:06.510709Z"
    },
    "papermill": {
     "duration": 0.034177,
     "end_time": "2022-03-04T12:14:06.510828",
     "exception": false,
     "start_time": "2022-03-04T12:14:06.476651",
     "status": "completed"
    },
    "tags": []
   },
   "outputs": [],
   "source": [
    "#hide\n",
    "LAST_DATE_I, dt_cols = get_dates(df)\n",
    "dt_today =dt_cols[LAST_DATE_I]\n",
    "# dt_5day = dt_cols[LAST_DATE_I - 5]\n",
    "dt_yday = dt_cols[LAST_DATE_I - 1]"
   ]
  },
  {
   "cell_type": "code",
   "execution_count": 11,
   "id": "restricted-sheriff",
   "metadata": {
    "execution": {
     "iopub.execute_input": "2022-03-04T12:14:06.569157Z",
     "iopub.status.busy": "2022-03-04T12:14:06.568694Z",
     "iopub.status.idle": "2022-03-04T12:14:06.576029Z",
     "shell.execute_reply": "2022-03-04T12:14:06.576451Z"
    },
    "papermill": {
     "duration": 0.039102,
     "end_time": "2022-03-04T12:14:06.576573",
     "exception": false,
     "start_time": "2022-03-04T12:14:06.537471",
     "status": "completed"
    },
    "tags": []
   },
   "outputs": [],
   "source": [
    "#hide\n",
    "dfc_cases = dft_cases.groupby(COL_REGION)[dt_today].sum()\n",
    "dfc_deaths = dft_deaths.groupby(COL_REGION)[dt_today].sum()\n",
    "# dfp_cases = dft_cases.groupby(COL_REGION)[dt_5day].sum()\n",
    "# dfp_deaths = dft_deaths.groupby(COL_REGION)[dt_5day].sum()\n",
    "dfp_cases = dft_cases.groupby(COL_REGION)[dt_yday].sum()\n",
    "dfp_deaths = dft_deaths.groupby(COL_REGION)[dt_yday].sum()"
   ]
  },
  {
   "cell_type": "code",
   "execution_count": 12,
   "id": "deluxe-hepatitis",
   "metadata": {
    "execution": {
     "iopub.execute_input": "2022-03-04T12:14:06.636121Z",
     "iopub.status.busy": "2022-03-04T12:14:06.635657Z",
     "iopub.status.idle": "2022-03-04T12:14:06.639638Z",
     "shell.execute_reply": "2022-03-04T12:14:06.640063Z"
    },
    "papermill": {
     "duration": 0.037068,
     "end_time": "2022-03-04T12:14:06.640184",
     "exception": false,
     "start_time": "2022-03-04T12:14:06.603116",
     "status": "completed"
    },
    "tags": []
   },
   "outputs": [],
   "source": [
    "#hide\n",
    "df_table = (pd.DataFrame(dict(Cases = dfc_cases, Deaths = dfc_deaths, PCases = dfp_cases, PDeaths = dfp_deaths))\n",
    "            .sort_values(by = ['Cases','Deaths'], ascending = [False, False])\n",
    "            .reset_index())"
   ]
  },
  {
   "cell_type": "code",
   "execution_count": 13,
   "id": "educational-chancellor",
   "metadata": {
    "execution": {
     "iopub.execute_input": "2022-03-04T12:14:06.711678Z",
     "iopub.status.busy": "2022-03-04T12:14:06.711172Z",
     "iopub.status.idle": "2022-03-04T12:14:06.718588Z",
     "shell.execute_reply": "2022-03-04T12:14:06.718216Z"
    },
    "papermill": {
     "duration": 0.051909,
     "end_time": "2022-03-04T12:14:06.718699",
     "exception": false,
     "start_time": "2022-03-04T12:14:06.666790",
     "status": "completed"
    },
    "tags": []
   },
   "outputs": [
    {
     "data": {
      "text/html": [
       "<div>\n",
       "<style scoped>\n",
       "    .dataframe tbody tr th:only-of-type {\n",
       "        vertical-align: middle;\n",
       "    }\n",
       "\n",
       "    .dataframe tbody tr th {\n",
       "        vertical-align: top;\n",
       "    }\n",
       "\n",
       "    .dataframe thead th {\n",
       "        text-align: right;\n",
       "    }\n",
       "</style>\n",
       "<table border=\"1\" class=\"dataframe\">\n",
       "  <thead>\n",
       "    <tr style=\"text-align: right;\">\n",
       "      <th></th>\n",
       "      <th>Country/Region</th>\n",
       "      <th>Cases</th>\n",
       "      <th>Deaths</th>\n",
       "      <th>PCases</th>\n",
       "      <th>PDeaths</th>\n",
       "      <th>Cases (+)</th>\n",
       "      <th>Deaths (+)</th>\n",
       "      <th>Fatality Rate</th>\n",
       "      <th>Continent</th>\n",
       "    </tr>\n",
       "  </thead>\n",
       "  <tbody>\n",
       "    <tr>\n",
       "      <th>0</th>\n",
       "      <td>US</td>\n",
       "      <td>79196008</td>\n",
       "      <td>956261</td>\n",
       "      <td>79143716</td>\n",
       "      <td>954518</td>\n",
       "      <td>52292</td>\n",
       "      <td>1743</td>\n",
       "      <td>1.21</td>\n",
       "      <td>North America</td>\n",
       "    </tr>\n",
       "    <tr>\n",
       "      <th>1</th>\n",
       "      <td>India</td>\n",
       "      <td>42951556</td>\n",
       "      <td>514589</td>\n",
       "      <td>42945160</td>\n",
       "      <td>514388</td>\n",
       "      <td>6396</td>\n",
       "      <td>201</td>\n",
       "      <td>1.20</td>\n",
       "      <td>Asia</td>\n",
       "    </tr>\n",
       "    <tr>\n",
       "      <th>2</th>\n",
       "      <td>Brazil</td>\n",
       "      <td>28906672</td>\n",
       "      <td>650824</td>\n",
       "      <td>28846495</td>\n",
       "      <td>650254</td>\n",
       "      <td>60177</td>\n",
       "      <td>570</td>\n",
       "      <td>2.25</td>\n",
       "      <td>South America</td>\n",
       "    </tr>\n",
       "    <tr>\n",
       "      <th>3</th>\n",
       "      <td>France</td>\n",
       "      <td>23079453</td>\n",
       "      <td>139962</td>\n",
       "      <td>23017711</td>\n",
       "      <td>139781</td>\n",
       "      <td>61742</td>\n",
       "      <td>181</td>\n",
       "      <td>0.61</td>\n",
       "      <td>Europe</td>\n",
       "    </tr>\n",
       "    <tr>\n",
       "      <th>4</th>\n",
       "      <td>United Kingdom</td>\n",
       "      <td>19211944</td>\n",
       "      <td>162472</td>\n",
       "      <td>19166049</td>\n",
       "      <td>162278</td>\n",
       "      <td>45895</td>\n",
       "      <td>194</td>\n",
       "      <td>0.85</td>\n",
       "      <td>Europe</td>\n",
       "    </tr>\n",
       "  </tbody>\n",
       "</table>\n",
       "</div>"
      ],
      "text/plain": [
       "   Country/Region     Cases  Deaths    PCases  PDeaths  Cases (+)  Deaths (+)  \\\n",
       "0              US  79196008  956261  79143716   954518      52292        1743   \n",
       "1           India  42951556  514589  42945160   514388       6396         201   \n",
       "2          Brazil  28906672  650824  28846495   650254      60177         570   \n",
       "3          France  23079453  139962  23017711   139781      61742         181   \n",
       "4  United Kingdom  19211944  162472  19166049   162278      45895         194   \n",
       "\n",
       "   Fatality Rate      Continent  \n",
       "0           1.21  North America  \n",
       "1           1.20           Asia  \n",
       "2           2.25  South America  \n",
       "3           0.61         Europe  \n",
       "4           0.85         Europe  "
      ]
     },
     "execution_count": 13,
     "metadata": {},
     "output_type": "execute_result"
    }
   ],
   "source": [
    "#hide\n",
    "for c in 'Cases, Deaths'.split(', '):\n",
    "    df_table[f'{c} (+)'] = (df_table[c] - df_table[f'P{c}']).clip(0)\n",
    "    #Clip ça veut dire, les chiffres negatif sont interdit\n",
    "df_table['Fatality Rate'] = (100* df_table['Deaths']/ df_table['Cases']).round(2)\n",
    "df_table['Continent'] = df_table['Country/Region'].map(mapping['map.continent'])\n",
    "df_table.head(5)"
   ]
  },
  {
   "cell_type": "code",
   "execution_count": 14,
   "id": "aboriginal-bulgaria",
   "metadata": {
    "execution": {
     "iopub.execute_input": "2022-03-04T12:14:06.777733Z",
     "iopub.status.busy": "2022-03-04T12:14:06.777255Z",
     "iopub.status.idle": "2022-03-04T12:14:06.779945Z",
     "shell.execute_reply": "2022-03-04T12:14:06.779562Z"
    },
    "papermill": {
     "duration": 0.034177,
     "end_time": "2022-03-04T12:14:06.780044",
     "exception": false,
     "start_time": "2022-03-04T12:14:06.745867",
     "status": "completed"
    },
    "tags": []
   },
   "outputs": [],
   "source": [
    "#hide\n",
    "#delete problematic countries from table\n",
    "df_table = df_table[~df_table['Country/Region'].isin(['Cape Verde', 'Cruise Ship', 'Kosovo'])]"
   ]
  },
  {
   "cell_type": "code",
   "execution_count": 15,
   "id": "fantastic-effect",
   "metadata": {
    "execution": {
     "iopub.execute_input": "2022-03-04T12:14:06.841142Z",
     "iopub.status.busy": "2022-03-04T12:14:06.840668Z",
     "iopub.status.idle": "2022-03-04T12:14:06.855594Z",
     "shell.execute_reply": "2022-03-04T12:14:06.856028Z"
    },
    "papermill": {
     "duration": 0.049199,
     "end_time": "2022-03-04T12:14:06.856150",
     "exception": false,
     "start_time": "2022-03-04T12:14:06.806951",
     "status": "completed"
    },
    "tags": []
   },
   "outputs": [
    {
     "data": {
      "text/html": [
       "<div>\n",
       "<style scoped>\n",
       "    .dataframe tbody tr th:only-of-type {\n",
       "        vertical-align: middle;\n",
       "    }\n",
       "\n",
       "    .dataframe tbody tr th {\n",
       "        vertical-align: top;\n",
       "    }\n",
       "\n",
       "    .dataframe thead th {\n",
       "        text-align: right;\n",
       "    }\n",
       "</style>\n",
       "<table border=\"1\" class=\"dataframe\">\n",
       "  <thead>\n",
       "    <tr style=\"text-align: right;\">\n",
       "      <th></th>\n",
       "      <th>Country/Region</th>\n",
       "      <th>Cases</th>\n",
       "      <th>Deaths</th>\n",
       "      <th>PCases</th>\n",
       "      <th>PDeaths</th>\n",
       "      <th>Cases (+)</th>\n",
       "      <th>Deaths (+)</th>\n",
       "      <th>Fatality Rate</th>\n",
       "      <th>Continent</th>\n",
       "    </tr>\n",
       "  </thead>\n",
       "  <tbody>\n",
       "    <tr>\n",
       "      <th>0</th>\n",
       "      <td>US</td>\n",
       "      <td>79196008</td>\n",
       "      <td>956261</td>\n",
       "      <td>79143716</td>\n",
       "      <td>954518</td>\n",
       "      <td>52292</td>\n",
       "      <td>1743</td>\n",
       "      <td>1.2</td>\n",
       "      <td>North America</td>\n",
       "    </tr>\n",
       "    <tr>\n",
       "      <th>1</th>\n",
       "      <td>India</td>\n",
       "      <td>42951556</td>\n",
       "      <td>514589</td>\n",
       "      <td>42945160</td>\n",
       "      <td>514388</td>\n",
       "      <td>6396</td>\n",
       "      <td>201</td>\n",
       "      <td>1.2</td>\n",
       "      <td>Asia</td>\n",
       "    </tr>\n",
       "    <tr>\n",
       "      <th>2</th>\n",
       "      <td>Brazil</td>\n",
       "      <td>28906672</td>\n",
       "      <td>650824</td>\n",
       "      <td>28846495</td>\n",
       "      <td>650254</td>\n",
       "      <td>60177</td>\n",
       "      <td>570</td>\n",
       "      <td>2.3</td>\n",
       "      <td>South America</td>\n",
       "    </tr>\n",
       "    <tr>\n",
       "      <th>3</th>\n",
       "      <td>France</td>\n",
       "      <td>23079453</td>\n",
       "      <td>139962</td>\n",
       "      <td>23017711</td>\n",
       "      <td>139781</td>\n",
       "      <td>61742</td>\n",
       "      <td>181</td>\n",
       "      <td>0.6</td>\n",
       "      <td>Europe</td>\n",
       "    </tr>\n",
       "    <tr>\n",
       "      <th>4</th>\n",
       "      <td>United Kingdom</td>\n",
       "      <td>19211944</td>\n",
       "      <td>162472</td>\n",
       "      <td>19166049</td>\n",
       "      <td>162278</td>\n",
       "      <td>45895</td>\n",
       "      <td>194</td>\n",
       "      <td>0.8</td>\n",
       "      <td>Europe</td>\n",
       "    </tr>\n",
       "  </tbody>\n",
       "</table>\n",
       "</div>"
      ],
      "text/plain": [
       "   Country/Region     Cases  Deaths    PCases  PDeaths  Cases (+)  Deaths (+)  \\\n",
       "0              US  79196008  956261  79143716   954518      52292        1743   \n",
       "1           India  42951556  514589  42945160   514388       6396         201   \n",
       "2          Brazil  28906672  650824  28846495   650254      60177         570   \n",
       "3          France  23079453  139962  23017711   139781      61742         181   \n",
       "4  United Kingdom  19211944  162472  19166049   162278      45895         194   \n",
       "\n",
       "   Fatality Rate      Continent  \n",
       "0            1.2  North America  \n",
       "1            1.2           Asia  \n",
       "2            2.3  South America  \n",
       "3            0.6         Europe  \n",
       "4            0.8         Europe  "
      ]
     },
     "execution_count": 15,
     "metadata": {},
     "output_type": "execute_result"
    }
   ],
   "source": [
    "#hide\n",
    "df_table = (pd.DataFrame(dict(Cases=dfc_cases, Deaths=dfc_deaths, PCases=dfp_cases, PDeaths=dfp_deaths))\n",
    "             .sort_values(by=['Cases', 'Deaths'], ascending=[False, False])\n",
    "             .reset_index())\n",
    "df_table.rename(columns={'index': 'Country/Region'}, inplace=True)\n",
    "for c in 'Cases, Deaths'.split(', '):\n",
    "    df_table[f'{c} (+)'] = (df_table[c] - df_table[f'P{c}']).clip(0)  # DATA BUG\n",
    "df_table['Fatality Rate'] = (100 * df_table['Deaths'] / df_table['Cases']).round(1)\n",
    "df_table['Continent'] = df_table['Country/Region'].map(mapping['map.continent'])\n",
    "df_table.head(5)"
   ]
  },
  {
   "cell_type": "code",
   "execution_count": 16,
   "id": "fewer-occasion",
   "metadata": {
    "execution": {
     "iopub.execute_input": "2022-03-04T12:14:06.915690Z",
     "iopub.status.busy": "2022-03-04T12:14:06.915225Z",
     "iopub.status.idle": "2022-03-04T12:14:06.918659Z",
     "shell.execute_reply": "2022-03-04T12:14:06.918297Z"
    },
    "papermill": {
     "duration": 0.0351,
     "end_time": "2022-03-04T12:14:06.918761",
     "exception": false,
     "start_time": "2022-03-04T12:14:06.883661",
     "status": "completed"
    },
    "tags": []
   },
   "outputs": [],
   "source": [
    "#hide\n",
    "#delete problematic countries from table\n",
    "df_table = df_table[~df_table['Country/Region'].isin(['Cape Verde', 'Cruise Ship', 'Kosovo'])]"
   ]
  },
  {
   "cell_type": "code",
   "execution_count": 17,
   "id": "related-center",
   "metadata": {
    "execution": {
     "iopub.execute_input": "2022-03-04T12:14:06.989581Z",
     "iopub.status.busy": "2022-03-04T12:14:06.989106Z",
     "iopub.status.idle": "2022-03-04T12:14:06.990956Z",
     "shell.execute_reply": "2022-03-04T12:14:06.991340Z"
    },
    "papermill": {
     "duration": 0.045637,
     "end_time": "2022-03-04T12:14:06.991454",
     "exception": false,
     "start_time": "2022-03-04T12:14:06.945817",
     "status": "completed"
    },
    "tags": []
   },
   "outputs": [],
   "source": [
    "#hide\n",
    "metrics = [df_table.columns[index] for index in [1,2,5,6]]\n",
    "# s_china = df_table[df_table['Country/Region'].eq('China')][metrics].sum().add_prefix('China ')\n",
    "s_us = df_table[df_table['Country/Region'].eq('US')][metrics].sum().add_prefix('US ')\n",
    "s_eu = df_table[df_table['Continent'].eq('Europe')][metrics].sum().add_prefix('EU ')\n",
    "s_ind = df_table[df_table['Country/Region'].eq('India')][metrics].sum().add_prefix('India ')\n",
    "summary = {'updated': pd.to_datetime(dt_today), 'since': pd.to_datetime(dt_yday)}\n",
    "summary = {'updated': pd.to_datetime(dt_today), 'since': pd.to_datetime(dt_yday)}\n",
    "summary = {**summary, **df_table[metrics].sum(), **s_ind, **s_us, **s_eu}"
   ]
  },
  {
   "cell_type": "code",
   "execution_count": 18,
   "id": "engaging-syndrome",
   "metadata": {
    "execution": {
     "iopub.execute_input": "2022-03-04T12:14:07.050842Z",
     "iopub.status.busy": "2022-03-04T12:14:07.050394Z",
     "iopub.status.idle": "2022-03-04T12:14:07.065205Z",
     "shell.execute_reply": "2022-03-04T12:14:07.064821Z"
    },
    "papermill": {
     "duration": 0.046434,
     "end_time": "2022-03-04T12:14:07.065313",
     "exception": false,
     "start_time": "2022-03-04T12:14:07.018879",
     "status": "completed"
    },
    "tags": []
   },
   "outputs": [],
   "source": [
    "#hide\n",
    "dft_ct_new_cases = dft_cases.groupby(COL_REGION)[dt_cols].sum().diff(axis=1).fillna(0).astype(int)"
   ]
  },
  {
   "cell_type": "code",
   "execution_count": 19,
   "id": "neutral-assignment",
   "metadata": {
    "execution": {
     "iopub.execute_input": "2022-03-04T12:14:07.126920Z",
     "iopub.status.busy": "2022-03-04T12:14:07.126455Z",
     "iopub.status.idle": "2022-03-04T12:14:07.128603Z",
     "shell.execute_reply": "2022-03-04T12:14:07.128237Z"
    },
    "papermill": {
     "duration": 0.035506,
     "end_time": "2022-03-04T12:14:07.128710",
     "exception": false,
     "start_time": "2022-03-04T12:14:07.093204",
     "status": "completed"
    },
    "tags": []
   },
   "outputs": [],
   "source": [
    "#hide\n",
    "everydaycases = dft_ct_new_cases.cumsum(axis=1)"
   ]
  },
  {
   "cell_type": "code",
   "execution_count": 20,
   "id": "parliamentary-calgary",
   "metadata": {
    "execution": {
     "iopub.execute_input": "2022-03-04T12:14:07.188834Z",
     "iopub.status.busy": "2022-03-04T12:14:07.188359Z",
     "iopub.status.idle": "2022-03-04T12:14:07.712103Z",
     "shell.execute_reply": "2022-03-04T12:14:07.711161Z"
    },
    "papermill": {
     "duration": 0.555761,
     "end_time": "2022-03-04T12:14:07.712253",
     "exception": false,
     "start_time": "2022-03-04T12:14:07.156492",
     "status": "completed"
    },
    "tags": []
   },
   "outputs": [],
   "source": [
    "#hide\n",
    "import pandas as pd\n",
    "import matplotlib.pyplot as plt\n",
    "import matplotlib.ticker as ticker\n",
    "import matplotlib.animation as animation\n",
    "from IPython.display import HTML"
   ]
  },
  {
   "cell_type": "code",
   "execution_count": 21,
   "id": "lasting-extraction",
   "metadata": {
    "execution": {
     "iopub.execute_input": "2022-03-04T12:14:07.775274Z",
     "iopub.status.busy": "2022-03-04T12:14:07.774811Z",
     "iopub.status.idle": "2022-03-04T12:14:07.780327Z",
     "shell.execute_reply": "2022-03-04T12:14:07.780673Z"
    },
    "papermill": {
     "duration": 0.038817,
     "end_time": "2022-03-04T12:14:07.780801",
     "exception": false,
     "start_time": "2022-03-04T12:14:07.741984",
     "status": "completed"
    },
    "tags": []
   },
   "outputs": [],
   "source": [
    "#hide\n",
    "t = everydaycases.stack()"
   ]
  },
  {
   "cell_type": "code",
   "execution_count": 22,
   "id": "premier-sleeve",
   "metadata": {
    "execution": {
     "iopub.execute_input": "2022-03-04T12:14:07.840383Z",
     "iopub.status.busy": "2022-03-04T12:14:07.839902Z",
     "iopub.status.idle": "2022-03-04T12:14:07.850132Z",
     "shell.execute_reply": "2022-03-04T12:14:07.849730Z"
    },
    "papermill": {
     "duration": 0.041919,
     "end_time": "2022-03-04T12:14:07.850237",
     "exception": false,
     "start_time": "2022-03-04T12:14:07.808318",
     "status": "completed"
    },
    "tags": []
   },
   "outputs": [],
   "source": [
    "#hide\n",
    "g = t.reset_index(['Country/Region'])"
   ]
  },
  {
   "cell_type": "code",
   "execution_count": 23,
   "id": "distributed-pittsburgh",
   "metadata": {
    "execution": {
     "iopub.execute_input": "2022-03-04T12:14:07.908260Z",
     "iopub.status.busy": "2022-03-04T12:14:07.907792Z",
     "iopub.status.idle": "2022-03-04T12:14:07.910288Z",
     "shell.execute_reply": "2022-03-04T12:14:07.909910Z"
    },
    "papermill": {
     "duration": 0.033271,
     "end_time": "2022-03-04T12:14:07.910394",
     "exception": false,
     "start_time": "2022-03-04T12:14:07.877123",
     "status": "completed"
    },
    "tags": []
   },
   "outputs": [],
   "source": [
    "#hide\n",
    "g.index.name = 'date'"
   ]
  },
  {
   "cell_type": "code",
   "execution_count": 24,
   "id": "naked-donor",
   "metadata": {
    "execution": {
     "iopub.execute_input": "2022-03-04T12:14:07.969030Z",
     "iopub.status.busy": "2022-03-04T12:14:07.968421Z",
     "iopub.status.idle": "2022-03-04T12:14:07.971852Z",
     "shell.execute_reply": "2022-03-04T12:14:07.972299Z"
    },
    "papermill": {
     "duration": 0.034687,
     "end_time": "2022-03-04T12:14:07.972447",
     "exception": false,
     "start_time": "2022-03-04T12:14:07.937760",
     "status": "completed"
    },
    "tags": []
   },
   "outputs": [],
   "source": [
    "# #hide\n",
    "# g = g.reset_index(['date'])"
   ]
  },
  {
   "cell_type": "code",
   "execution_count": 25,
   "id": "incomplete-mustang",
   "metadata": {
    "execution": {
     "iopub.execute_input": "2022-03-04T12:14:08.032064Z",
     "iopub.status.busy": "2022-03-04T12:14:08.031460Z",
     "iopub.status.idle": "2022-03-04T12:14:08.035701Z",
     "shell.execute_reply": "2022-03-04T12:14:08.035233Z"
    },
    "papermill": {
     "duration": 0.035255,
     "end_time": "2022-03-04T12:14:08.035828",
     "exception": false,
     "start_time": "2022-03-04T12:14:08.000573",
     "status": "completed"
    },
    "tags": []
   },
   "outputs": [],
   "source": [
    "#hide\n",
    "# g.head()"
   ]
  },
  {
   "cell_type": "code",
   "execution_count": 26,
   "id": "specific-kruger",
   "metadata": {
    "execution": {
     "iopub.execute_input": "2022-03-04T12:14:08.095308Z",
     "iopub.status.busy": "2022-03-04T12:14:08.094815Z",
     "iopub.status.idle": "2022-03-04T12:14:08.096787Z",
     "shell.execute_reply": "2022-03-04T12:14:08.096371Z"
    },
    "papermill": {
     "duration": 0.032927,
     "end_time": "2022-03-04T12:14:08.096895",
     "exception": false,
     "start_time": "2022-03-04T12:14:08.063968",
     "status": "completed"
    },
    "tags": []
   },
   "outputs": [],
   "source": [
    "#hide\n",
    "# g.columns = ['date','country','cases']"
   ]
  },
  {
   "cell_type": "code",
   "execution_count": 27,
   "id": "tender-conversion",
   "metadata": {
    "execution": {
     "iopub.execute_input": "2022-03-04T12:14:08.156002Z",
     "iopub.status.busy": "2022-03-04T12:14:08.155387Z",
     "iopub.status.idle": "2022-03-04T12:14:08.159589Z",
     "shell.execute_reply": "2022-03-04T12:14:08.159112Z"
    },
    "papermill": {
     "duration": 0.035221,
     "end_time": "2022-03-04T12:14:08.159718",
     "exception": false,
     "start_time": "2022-03-04T12:14:08.124497",
     "status": "completed"
    },
    "tags": []
   },
   "outputs": [],
   "source": [
    "#hide\n",
    "# g['continent'] = g.country"
   ]
  },
  {
   "cell_type": "code",
   "execution_count": 28,
   "id": "substantial-wilderness",
   "metadata": {
    "execution": {
     "iopub.execute_input": "2022-03-04T12:14:08.218782Z",
     "iopub.status.busy": "2022-03-04T12:14:08.218313Z",
     "iopub.status.idle": "2022-03-04T12:14:08.220745Z",
     "shell.execute_reply": "2022-03-04T12:14:08.220362Z"
    },
    "papermill": {
     "duration": 0.033482,
     "end_time": "2022-03-04T12:14:08.220860",
     "exception": false,
     "start_time": "2022-03-04T12:14:08.187378",
     "status": "completed"
    },
    "tags": []
   },
   "outputs": [],
   "source": [
    "#hide\n",
    "# cols = list(g.columns.values)"
   ]
  },
  {
   "cell_type": "code",
   "execution_count": 29,
   "id": "solved-farming",
   "metadata": {
    "execution": {
     "iopub.execute_input": "2022-03-04T12:14:08.279135Z",
     "iopub.status.busy": "2022-03-04T12:14:08.278538Z",
     "iopub.status.idle": "2022-03-04T12:14:08.280301Z",
     "shell.execute_reply": "2022-03-04T12:14:08.279742Z"
    },
    "papermill": {
     "duration": 0.032566,
     "end_time": "2022-03-04T12:14:08.280420",
     "exception": false,
     "start_time": "2022-03-04T12:14:08.247854",
     "status": "completed"
    },
    "tags": []
   },
   "outputs": [],
   "source": [
    "#hide\n",
    "# cols.insert(0, cols.pop())"
   ]
  },
  {
   "cell_type": "code",
   "execution_count": 30,
   "id": "executed-adoption",
   "metadata": {
    "execution": {
     "iopub.execute_input": "2022-03-04T12:14:08.339142Z",
     "iopub.status.busy": "2022-03-04T12:14:08.338540Z",
     "iopub.status.idle": "2022-03-04T12:14:08.341898Z",
     "shell.execute_reply": "2022-03-04T12:14:08.342259Z"
    },
    "papermill": {
     "duration": 0.034072,
     "end_time": "2022-03-04T12:14:08.342380",
     "exception": false,
     "start_time": "2022-03-04T12:14:08.308308",
     "status": "completed"
    },
    "tags": []
   },
   "outputs": [],
   "source": [
    "#hide\n",
    "# g = g[cols]"
   ]
  },
  {
   "cell_type": "code",
   "execution_count": 31,
   "id": "subject-dublin",
   "metadata": {
    "execution": {
     "iopub.execute_input": "2022-03-04T12:14:08.401229Z",
     "iopub.status.busy": "2022-03-04T12:14:08.400624Z",
     "iopub.status.idle": "2022-03-04T12:14:08.402432Z",
     "shell.execute_reply": "2022-03-04T12:14:08.401859Z"
    },
    "papermill": {
     "duration": 0.032556,
     "end_time": "2022-03-04T12:14:08.402555",
     "exception": false,
     "start_time": "2022-03-04T12:14:08.369999",
     "status": "completed"
    },
    "tags": []
   },
   "outputs": [],
   "source": [
    "#hide\n",
    "# g['continent'] = g['continent'].map(mapping['map.continent'])"
   ]
  },
  {
   "cell_type": "code",
   "execution_count": 32,
   "id": "freelance-scout",
   "metadata": {
    "execution": {
     "iopub.execute_input": "2022-03-04T12:14:08.461128Z",
     "iopub.status.busy": "2022-03-04T12:14:08.460528Z",
     "iopub.status.idle": "2022-03-04T12:14:08.463963Z",
     "shell.execute_reply": "2022-03-04T12:14:08.464405Z"
    },
    "papermill": {
     "duration": 0.034085,
     "end_time": "2022-03-04T12:14:08.464544",
     "exception": false,
     "start_time": "2022-03-04T12:14:08.430459",
     "status": "completed"
    },
    "tags": []
   },
   "outputs": [],
   "source": [
    "#hide\n",
    "# g.head()"
   ]
  },
  {
   "cell_type": "code",
   "execution_count": 33,
   "id": "limited-engine",
   "metadata": {
    "execution": {
     "iopub.execute_input": "2022-03-04T12:14:08.523131Z",
     "iopub.status.busy": "2022-03-04T12:14:08.522670Z",
     "iopub.status.idle": "2022-03-04T12:14:08.524486Z",
     "shell.execute_reply": "2022-03-04T12:14:08.524849Z"
    },
    "papermill": {
     "duration": 0.032733,
     "end_time": "2022-03-04T12:14:08.524966",
     "exception": false,
     "start_time": "2022-03-04T12:14:08.492233",
     "status": "completed"
    },
    "tags": []
   },
   "outputs": [],
   "source": [
    "# hide\n",
    "# g['date'] = g['date'].astype('datetime64[ns]')"
   ]
  },
  {
   "cell_type": "code",
   "execution_count": 34,
   "id": "sophisticated-supervisor",
   "metadata": {
    "execution": {
     "iopub.execute_input": "2022-03-04T12:14:08.584566Z",
     "iopub.status.busy": "2022-03-04T12:14:08.583945Z",
     "iopub.status.idle": "2022-03-04T12:14:08.587929Z",
     "shell.execute_reply": "2022-03-04T12:14:08.587461Z"
    },
    "papermill": {
     "duration": 0.035377,
     "end_time": "2022-03-04T12:14:08.588055",
     "exception": false,
     "start_time": "2022-03-04T12:14:08.552678",
     "status": "completed"
    },
    "tags": []
   },
   "outputs": [],
   "source": [
    "#hide\n",
    "# g['date'] = g.date.dt.dayofyear"
   ]
  },
  {
   "cell_type": "code",
   "execution_count": 35,
   "id": "inside-dubai",
   "metadata": {
    "execution": {
     "iopub.execute_input": "2022-03-04T12:14:08.647047Z",
     "iopub.status.busy": "2022-03-04T12:14:08.646414Z",
     "iopub.status.idle": "2022-03-04T12:14:08.648218Z",
     "shell.execute_reply": "2022-03-04T12:14:08.647652Z"
    },
    "papermill": {
     "duration": 0.032787,
     "end_time": "2022-03-04T12:14:08.648345",
     "exception": false,
     "start_time": "2022-03-04T12:14:08.615558",
     "status": "completed"
    },
    "tags": []
   },
   "outputs": [],
   "source": [
    "#hide\n",
    "# g = g.rename(columns= {'continent':'group','country':'name','cases':'value'})"
   ]
  },
  {
   "cell_type": "code",
   "execution_count": 36,
   "id": "fleet-motorcycle",
   "metadata": {
    "execution": {
     "iopub.execute_input": "2022-03-04T12:14:08.707668Z",
     "iopub.status.busy": "2022-03-04T12:14:08.707062Z",
     "iopub.status.idle": "2022-03-04T12:14:08.710203Z",
     "shell.execute_reply": "2022-03-04T12:14:08.710548Z"
    },
    "papermill": {
     "duration": 0.034449,
     "end_time": "2022-03-04T12:14:08.710670",
     "exception": false,
     "start_time": "2022-03-04T12:14:08.676221",
     "status": "completed"
    },
    "tags": []
   },
   "outputs": [],
   "source": [
    "#hide\n",
    "# cols = ['name','group','day','value']"
   ]
  },
  {
   "cell_type": "code",
   "execution_count": 37,
   "id": "continued-sleeping",
   "metadata": {
    "execution": {
     "iopub.execute_input": "2022-03-04T12:14:08.769559Z",
     "iopub.status.busy": "2022-03-04T12:14:08.768947Z",
     "iopub.status.idle": "2022-03-04T12:14:08.771998Z",
     "shell.execute_reply": "2022-03-04T12:14:08.772341Z"
    },
    "papermill": {
     "duration": 0.034261,
     "end_time": "2022-03-04T12:14:08.772460",
     "exception": false,
     "start_time": "2022-03-04T12:14:08.738199",
     "status": "completed"
    },
    "tags": []
   },
   "outputs": [],
   "source": [
    "#hide\n",
    "# g.rename(columns= {'date':'day'},inplace = True)"
   ]
  },
  {
   "cell_type": "code",
   "execution_count": 38,
   "id": "major-fight",
   "metadata": {
    "execution": {
     "iopub.execute_input": "2022-03-04T12:14:08.830866Z",
     "iopub.status.busy": "2022-03-04T12:14:08.830275Z",
     "iopub.status.idle": "2022-03-04T12:14:08.833477Z",
     "shell.execute_reply": "2022-03-04T12:14:08.833839Z"
    },
    "papermill": {
     "duration": 0.033912,
     "end_time": "2022-03-04T12:14:08.833958",
     "exception": false,
     "start_time": "2022-03-04T12:14:08.800046",
     "status": "completed"
    },
    "tags": []
   },
   "outputs": [],
   "source": [
    "#hide\n",
    "# g = g[cols]"
   ]
  },
  {
   "cell_type": "code",
   "execution_count": 39,
   "id": "structured-mobile",
   "metadata": {
    "execution": {
     "iopub.execute_input": "2022-03-04T12:14:08.892067Z",
     "iopub.status.busy": "2022-03-04T12:14:08.891478Z",
     "iopub.status.idle": "2022-03-04T12:14:08.895165Z",
     "shell.execute_reply": "2022-03-04T12:14:08.894803Z"
    },
    "papermill": {
     "duration": 0.033931,
     "end_time": "2022-03-04T12:14:08.895265",
     "exception": false,
     "start_time": "2022-03-04T12:14:08.861334",
     "status": "completed"
    },
    "tags": []
   },
   "outputs": [],
   "source": [
    "# #hide\n",
    "# g = g[g.group.notna()]"
   ]
  },
  {
   "cell_type": "code",
   "execution_count": 40,
   "id": "determined-closing",
   "metadata": {
    "execution": {
     "iopub.execute_input": "2022-03-04T12:14:08.954000Z",
     "iopub.status.busy": "2022-03-04T12:14:08.953352Z",
     "iopub.status.idle": "2022-03-04T12:14:08.955181Z",
     "shell.execute_reply": "2022-03-04T12:14:08.954618Z"
    },
    "papermill": {
     "duration": 0.032609,
     "end_time": "2022-03-04T12:14:08.955303",
     "exception": false,
     "start_time": "2022-03-04T12:14:08.922694",
     "status": "completed"
    },
    "tags": []
   },
   "outputs": [],
   "source": [
    "# #hide\n",
    "# colors = dict(zip(\n",
    "#     [\"Oceania\", \"Europe\", \"Asia\", \"South America\", \"Middle East\", \"North America\", \"Africa\"],\n",
    "#     [\"#adb0ff\", \"#ffb3ff\", \"#90d595\", \"#e48381\", \"#aafbff\", \"#f7bb5f\", \"#eafb50\"]\n",
    "# ))\n",
    "# group_lk = g.set_index('name')['group'].to_dict()"
   ]
  },
  {
   "cell_type": "code",
   "execution_count": null,
   "id": "gross-drinking",
   "metadata": {
    "papermill": {
     "duration": 0.027425,
     "end_time": "2022-03-04T12:14:09.009959",
     "exception": false,
     "start_time": "2022-03-04T12:14:08.982534",
     "status": "completed"
    },
    "tags": []
   },
   "outputs": [],
   "source": []
  },
  {
   "cell_type": "code",
   "execution_count": 41,
   "id": "subject-macintosh",
   "metadata": {
    "execution": {
     "iopub.execute_input": "2022-03-04T12:14:09.069324Z",
     "iopub.status.busy": "2022-03-04T12:14:09.068821Z",
     "iopub.status.idle": "2022-03-04T12:14:09.072432Z",
     "shell.execute_reply": "2022-03-04T12:14:09.072077Z"
    },
    "papermill": {
     "duration": 0.035071,
     "end_time": "2022-03-04T12:14:09.072551",
     "exception": false,
     "start_time": "2022-03-04T12:14:09.037480",
     "status": "completed"
    },
    "tags": []
   },
   "outputs": [],
   "source": [
    "# #hide\n",
    "# fig, ax = plt.subplots(figsize=(15, 8))\n",
    "\n",
    "# def draw_barchart(current_day):\n",
    "#     dff = g[g['day'].eq(current_day)].sort_values(by='value', ascending=True).tail(10)\n",
    "#     ax.clear()\n",
    "#     ax.barh(dff['name'], dff['value'], color=[colors[group_lk[x]] for x in dff['name']])\n",
    "#     dx = dff['value'].max() / 200\n",
    "    \n",
    "#     for i, (value, name) in enumerate(zip(dff['value'], dff['name'])):\n",
    "#         ax.text(value-dx, i,     name,           size=14, weight=600, ha='right', va='bottom')\n",
    "#         ax.text(value-dx, i-.25, group_lk[name], size=10, color='#444444', ha='right', va='baseline')\n",
    "#         ax.text(value+dx, i,     f'{value:,.0f}',  size=14, ha='left',  va='center')\n",
    "#     ax.text(1, 0.4, current_day, transform=ax.transAxes, color='#777777', size=46, ha='right', weight=800)\n",
    "#     ax.text(0, 1.06, 'Population (thousands)', transform=ax.transAxes, size=12, color='#777777')\n",
    "#     ax.xaxis.set_major_formatter(ticker.StrMethodFormatter('{x:,.0f}'))\n",
    "#     ax.xaxis.set_ticks_position('top')\n",
    "#     ax.tick_params(axis='x', colors='#777777', labelsize=12)\n",
    "#     ax.set_yticks([])\n",
    "#     ax.margins(0, 0.01)\n",
    "#     ax.grid(which='major', axis='x', linestyle='-')\n",
    "#     ax.set_axisbelow(True)\n",
    "    \n",
    "#     ax.text(0, 1.15, 'Coronavirus',\n",
    "#             transform=ax.transAxes, size=24, weight=600, ha='left', va='top')\n",
    "# #     ax.text(1, 0, 'by @pratapvardhan; credit @jburnmurdoch', transform=ax.transAxes, color='#777777', ha='right',\n",
    "# #             bbox=dict(facecolor='white', alpha=0.8, edgecolor='white'))\n",
    "#     plt.box(False)"
   ]
  },
  {
   "cell_type": "code",
   "execution_count": 42,
   "id": "sexual-wages",
   "metadata": {
    "execution": {
     "iopub.execute_input": "2022-03-04T12:14:09.130899Z",
     "iopub.status.busy": "2022-03-04T12:14:09.130407Z",
     "iopub.status.idle": "2022-03-04T12:14:09.132089Z",
     "shell.execute_reply": "2022-03-04T12:14:09.131629Z"
    },
    "papermill": {
     "duration": 0.031987,
     "end_time": "2022-03-04T12:14:09.132189",
     "exception": false,
     "start_time": "2022-03-04T12:14:09.100202",
     "status": "completed"
    },
    "tags": []
   },
   "outputs": [],
   "source": [
    "# #hide_input\n",
    "# fig, ax = plt.subplots(figsize=(15, 8))\n",
    "# animator = animation.FuncAnimation(fig, draw_barchart, frames=range(g.day.values.min(), g.day.values.max()))\n",
    "# HTML(animator.to_jshtml())\n",
    "# # or use animator.to_html5_video() or animator.save() "
   ]
  },
  {
   "cell_type": "code",
   "execution_count": null,
   "id": "australian-container",
   "metadata": {
    "papermill": {
     "duration": 0.027516,
     "end_time": "2022-03-04T12:14:09.187310",
     "exception": false,
     "start_time": "2022-03-04T12:14:09.159794",
     "status": "completed"
    },
    "tags": []
   },
   "outputs": [],
   "source": []
  },
  {
   "cell_type": "code",
   "execution_count": null,
   "id": "mediterranean-pontiac",
   "metadata": {
    "papermill": {
     "duration": 0.027235,
     "end_time": "2022-03-04T12:14:09.241875",
     "exception": false,
     "start_time": "2022-03-04T12:14:09.214640",
     "status": "completed"
    },
    "tags": []
   },
   "outputs": [],
   "source": []
  },
  {
   "cell_type": "code",
   "execution_count": null,
   "id": "aging-legislature",
   "metadata": {
    "papermill": {
     "duration": 0.027504,
     "end_time": "2022-03-04T12:14:09.296775",
     "exception": false,
     "start_time": "2022-03-04T12:14:09.269271",
     "status": "completed"
    },
    "tags": []
   },
   "outputs": [],
   "source": []
  }
 ],
 "metadata": {
  "kernelspec": {
   "display_name": "Python 3",
   "language": "python",
   "name": "python3"
  },
  "language_info": {
   "codemirror_mode": {
    "name": "ipython",
    "version": 3
   },
   "file_extension": ".py",
   "mimetype": "text/x-python",
   "name": "python",
   "nbconvert_exporter": "python",
   "pygments_lexer": "ipython3",
   "version": "3.6.15"
  },
  "papermill": {
   "duration": 5.805053,
   "end_time": "2022-03-04T12:14:09.641904",
   "environment_variables": {},
   "exception": null,
   "input_path": "2020-03-21-covid19exp.ipynb",
   "output_path": "2020-03-21-covid19exp.ipynb",
   "parameters": {},
   "start_time": "2022-03-04T12:14:03.836851",
   "version": "2.0.0"
  }
 },
 "nbformat": 4,
 "nbformat_minor": 5
}