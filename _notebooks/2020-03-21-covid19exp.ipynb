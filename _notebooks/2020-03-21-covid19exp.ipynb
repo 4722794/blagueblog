{
 "cells": [
  {
   "cell_type": "markdown",
   "id": "muslim-click",
   "metadata": {
    "papermill": {
     "duration": 0.034837,
     "end_time": "2022-11-05T01:37:00.710025",
     "exception": false,
     "start_time": "2022-11-05T01:37:00.675188",
     "status": "completed"
    },
    "tags": []
   },
   "source": [
    "# COVID-19 Case Race\n",
    "> A race chart to see rising cases around the world\n",
    "\n",
    "- author: Hargun Oberoi\n",
    "- image: images/covid-overview.png\n",
    "- hide: false\n",
    "- badges: false"
   ]
  },
  {
   "cell_type": "code",
   "execution_count": 1,
   "id": "proof-material",
   "metadata": {
    "execution": {
     "iopub.execute_input": "2022-11-05T01:37:00.779875Z",
     "iopub.status.busy": "2022-11-05T01:37:00.778349Z",
     "iopub.status.idle": "2022-11-05T01:37:01.081740Z",
     "shell.execute_reply": "2022-11-05T01:37:01.080773Z"
    },
    "papermill": {
     "duration": 0.340923,
     "end_time": "2022-11-05T01:37:01.081875",
     "exception": false,
     "start_time": "2022-11-05T01:37:00.740952",
     "status": "completed"
    },
    "tags": []
   },
   "outputs": [],
   "source": [
    "#hide\n",
    "import numpy as np\n",
    "import pandas as pd\n",
    "from jinja2 import Template\n",
    "from IPython.display import HTML"
   ]
  },
  {
   "cell_type": "code",
   "execution_count": 2,
   "id": "developed-terminology",
   "metadata": {
    "execution": {
     "iopub.execute_input": "2022-11-05T01:37:01.146870Z",
     "iopub.status.busy": "2022-11-05T01:37:01.146303Z",
     "iopub.status.idle": "2022-11-05T01:37:01.148868Z",
     "shell.execute_reply": "2022-11-05T01:37:01.148413Z"
    },
    "papermill": {
     "duration": 0.036384,
     "end_time": "2022-11-05T01:37:01.148965",
     "exception": false,
     "start_time": "2022-11-05T01:37:01.112581",
     "status": "completed"
    },
    "tags": []
   },
   "outputs": [],
   "source": [
    "#hide\n",
    "\n",
    "# FETCH\n",
    "base_url = 'https://raw.githubusercontent.com/pratapvardhan/notebooks/master/covid19/'\n",
    "paths = {\n",
    "    'mapping': base_url + 'mapping_countries.csv',\n",
    "    'overview': base_url + 'overview.tpl'\n",
    "}"
   ]
  },
  {
   "cell_type": "code",
   "execution_count": 3,
   "id": "dynamic-saver",
   "metadata": {
    "execution": {
     "iopub.execute_input": "2022-11-05T01:37:01.217224Z",
     "iopub.status.busy": "2022-11-05T01:37:01.216115Z",
     "iopub.status.idle": "2022-11-05T01:37:01.219865Z",
     "shell.execute_reply": "2022-11-05T01:37:01.220291Z"
    },
    "papermill": {
     "duration": 0.041398,
     "end_time": "2022-11-05T01:37:01.220397",
     "exception": false,
     "start_time": "2022-11-05T01:37:01.178999",
     "status": "completed"
    },
    "tags": []
   },
   "outputs": [
    {
     "data": {
      "text/plain": [
       "'https://raw.githubusercontent.com/pratapvardhan/notebooks/master/covid19/mapping_countries.csv'"
      ]
     },
     "execution_count": 3,
     "metadata": {},
     "output_type": "execute_result"
    }
   ],
   "source": [
    "#hide\n",
    "paths['mapping']"
   ]
  },
  {
   "cell_type": "code",
   "execution_count": 4,
   "id": "urban-software",
   "metadata": {
    "execution": {
     "iopub.execute_input": "2022-11-05T01:37:01.285610Z",
     "iopub.status.busy": "2022-11-05T01:37:01.285062Z",
     "iopub.status.idle": "2022-11-05T01:37:01.287328Z",
     "shell.execute_reply": "2022-11-05T01:37:01.287762Z"
    },
    "papermill": {
     "duration": 0.036861,
     "end_time": "2022-11-05T01:37:01.287868",
     "exception": false,
     "start_time": "2022-11-05T01:37:01.251007",
     "status": "completed"
    },
    "tags": []
   },
   "outputs": [],
   "source": [
    "#hide\n",
    "def get_mappings(url):\n",
    "    df = pd.read_csv(url)\n",
    "    return {\n",
    "        'df': df,\n",
    "        'replace.country': dict(df.dropna(subset=['Name']).set_index('Country')['Name']),\n",
    "        'map.continent': dict(df.set_index('Name')['Continent'])\n",
    "    }"
   ]
  },
  {
   "cell_type": "code",
   "execution_count": 5,
   "id": "intimate-machinery",
   "metadata": {
    "execution": {
     "iopub.execute_input": "2022-11-05T01:37:01.353061Z",
     "iopub.status.busy": "2022-11-05T01:37:01.352498Z",
     "iopub.status.idle": "2022-11-05T01:37:01.393676Z",
     "shell.execute_reply": "2022-11-05T01:37:01.393112Z"
    },
    "papermill": {
     "duration": 0.075597,
     "end_time": "2022-11-05T01:37:01.393771",
     "exception": false,
     "start_time": "2022-11-05T01:37:01.318174",
     "status": "completed"
    },
    "tags": []
   },
   "outputs": [],
   "source": [
    "#hide\n",
    "mapping = get_mappings(paths['mapping'])"
   ]
  },
  {
   "cell_type": "code",
   "execution_count": 6,
   "id": "certified-tactics",
   "metadata": {
    "execution": {
     "iopub.execute_input": "2022-11-05T01:37:01.459309Z",
     "iopub.status.busy": "2022-11-05T01:37:01.458736Z",
     "iopub.status.idle": "2022-11-05T01:37:01.461213Z",
     "shell.execute_reply": "2022-11-05T01:37:01.460739Z"
    },
    "papermill": {
     "duration": 0.036742,
     "end_time": "2022-11-05T01:37:01.461307",
     "exception": false,
     "start_time": "2022-11-05T01:37:01.424565",
     "status": "completed"
    },
    "tags": []
   },
   "outputs": [],
   "source": [
    "#hide\n",
    "def get_template(path):\n",
    "    from urllib.parse import urlparse\n",
    "    if bool(urlparse(path).netloc):\n",
    "        from urllib.request import urlopen\n",
    "        return urlopen(path).read().decode('utf8')\n",
    "    return open(path).read()"
   ]
  },
  {
   "cell_type": "code",
   "execution_count": 7,
   "id": "realistic-blast",
   "metadata": {
    "execution": {
     "iopub.execute_input": "2022-11-05T01:37:01.527004Z",
     "iopub.status.busy": "2022-11-05T01:37:01.526453Z",
     "iopub.status.idle": "2022-11-05T01:37:01.528648Z",
     "shell.execute_reply": "2022-11-05T01:37:01.529108Z"
    },
    "papermill": {
     "duration": 0.036575,
     "end_time": "2022-11-05T01:37:01.529212",
     "exception": false,
     "start_time": "2022-11-05T01:37:01.492637",
     "status": "completed"
    },
    "tags": []
   },
   "outputs": [],
   "source": [
    "#hide\n",
    "def get_frame(name):\n",
    "    url = (\n",
    "        'https://raw.githubusercontent.com/CSSEGISandData/COVID-19/master/csse_covid_19_data/'\n",
    "        f'csse_covid_19_time_series/time_series_covid19_{name}_global.csv')\n",
    "    df = pd.read_csv(url)\n",
    "    # rename countries\n",
    "    df['Country/Region'] = df['Country/Region'].replace(mapping['replace.country'])\n",
    "    return df"
   ]
  },
  {
   "cell_type": "code",
   "execution_count": 8,
   "id": "affiliated-characterization",
   "metadata": {
    "execution": {
     "iopub.execute_input": "2022-11-05T01:37:01.595206Z",
     "iopub.status.busy": "2022-11-05T01:37:01.594640Z",
     "iopub.status.idle": "2022-11-05T01:37:01.596864Z",
     "shell.execute_reply": "2022-11-05T01:37:01.596343Z"
    },
    "papermill": {
     "duration": 0.037255,
     "end_time": "2022-11-05T01:37:01.596955",
     "exception": false,
     "start_time": "2022-11-05T01:37:01.559700",
     "status": "completed"
    },
    "tags": []
   },
   "outputs": [],
   "source": [
    "#hide\n",
    "def get_dates(df):\n",
    "    dt_cols = df.columns[~df.columns.isin(['Province/State', 'Country/Region', 'Lat', 'Long'])]\n",
    "    LAST_DATE_I = -1\n",
    "    # sometimes last column may be empty, then go backwards\n",
    "    for i in range(-1, -len(dt_cols), -1):\n",
    "        if not df[dt_cols[i]].fillna(0).eq(0).all():\n",
    "            LAST_DATE_I = i\n",
    "            break\n",
    "    return LAST_DATE_I, dt_cols"
   ]
  },
  {
   "cell_type": "code",
   "execution_count": 9,
   "id": "recent-optimization",
   "metadata": {
    "execution": {
     "iopub.execute_input": "2022-11-05T01:37:01.661816Z",
     "iopub.status.busy": "2022-11-05T01:37:01.661207Z",
     "iopub.status.idle": "2022-11-05T01:37:08.271078Z",
     "shell.execute_reply": "2022-11-05T01:37:08.271550Z"
    },
    "papermill": {
     "duration": 6.644196,
     "end_time": "2022-11-05T01:37:08.271679",
     "exception": false,
     "start_time": "2022-11-05T01:37:01.627483",
     "status": "completed"
    },
    "tags": []
   },
   "outputs": [],
   "source": [
    "#hide\n",
    "COL_REGION = 'Country/Region'\n",
    "# Confirmed, Recovered, Deaths\n",
    "df = get_frame('confirmed')\n",
    "# dft_: timeseries, dfc_: today country agg\n",
    "dft_cases = df\n",
    "dft_deaths = get_frame('deaths')\n",
    "dft_recovered = get_frame('recovered')\n",
    "LAST_DATE_I, dt_cols = get_dates(df)"
   ]
  },
  {
   "cell_type": "code",
   "execution_count": 10,
   "id": "absolute-copper",
   "metadata": {
    "execution": {
     "iopub.execute_input": "2022-11-05T01:37:08.338480Z",
     "iopub.status.busy": "2022-11-05T01:37:08.337921Z",
     "iopub.status.idle": "2022-11-05T01:37:08.339841Z",
     "shell.execute_reply": "2022-11-05T01:37:08.340271Z"
    },
    "papermill": {
     "duration": 0.037559,
     "end_time": "2022-11-05T01:37:08.340380",
     "exception": false,
     "start_time": "2022-11-05T01:37:08.302821",
     "status": "completed"
    },
    "tags": []
   },
   "outputs": [],
   "source": [
    "#hide\n",
    "LAST_DATE_I, dt_cols = get_dates(df)\n",
    "dt_today =dt_cols[LAST_DATE_I]\n",
    "# dt_5day = dt_cols[LAST_DATE_I - 5]\n",
    "dt_yday = dt_cols[LAST_DATE_I - 1]"
   ]
  },
  {
   "cell_type": "code",
   "execution_count": 11,
   "id": "restricted-sheriff",
   "metadata": {
    "execution": {
     "iopub.execute_input": "2022-11-05T01:37:08.405510Z",
     "iopub.status.busy": "2022-11-05T01:37:08.404953Z",
     "iopub.status.idle": "2022-11-05T01:37:08.412735Z",
     "shell.execute_reply": "2022-11-05T01:37:08.412296Z"
    },
    "papermill": {
     "duration": 0.042125,
     "end_time": "2022-11-05T01:37:08.412831",
     "exception": false,
     "start_time": "2022-11-05T01:37:08.370706",
     "status": "completed"
    },
    "tags": []
   },
   "outputs": [],
   "source": [
    "#hide\n",
    "dfc_cases = dft_cases.groupby(COL_REGION)[dt_today].sum()\n",
    "dfc_deaths = dft_deaths.groupby(COL_REGION)[dt_today].sum()\n",
    "# dfp_cases = dft_cases.groupby(COL_REGION)[dt_5day].sum()\n",
    "# dfp_deaths = dft_deaths.groupby(COL_REGION)[dt_5day].sum()\n",
    "dfp_cases = dft_cases.groupby(COL_REGION)[dt_yday].sum()\n",
    "dfp_deaths = dft_deaths.groupby(COL_REGION)[dt_yday].sum()"
   ]
  },
  {
   "cell_type": "code",
   "execution_count": 12,
   "id": "deluxe-hepatitis",
   "metadata": {
    "execution": {
     "iopub.execute_input": "2022-11-05T01:37:08.478745Z",
     "iopub.status.busy": "2022-11-05T01:37:08.478200Z",
     "iopub.status.idle": "2022-11-05T01:37:08.482997Z",
     "shell.execute_reply": "2022-11-05T01:37:08.483434Z"
    },
    "papermill": {
     "duration": 0.040169,
     "end_time": "2022-11-05T01:37:08.483541",
     "exception": false,
     "start_time": "2022-11-05T01:37:08.443372",
     "status": "completed"
    },
    "tags": []
   },
   "outputs": [],
   "source": [
    "#hide\n",
    "df_table = (pd.DataFrame(dict(Cases = dfc_cases, Deaths = dfc_deaths, PCases = dfp_cases, PDeaths = dfp_deaths))\n",
    "            .sort_values(by = ['Cases','Deaths'], ascending = [False, False])\n",
    "            .reset_index())"
   ]
  },
  {
   "cell_type": "code",
   "execution_count": 13,
   "id": "educational-chancellor",
   "metadata": {
    "execution": {
     "iopub.execute_input": "2022-11-05T01:37:08.559750Z",
     "iopub.status.busy": "2022-11-05T01:37:08.559186Z",
     "iopub.status.idle": "2022-11-05T01:37:08.567409Z",
     "shell.execute_reply": "2022-11-05T01:37:08.566862Z"
    },
    "papermill": {
     "duration": 0.053416,
     "end_time": "2022-11-05T01:37:08.567501",
     "exception": false,
     "start_time": "2022-11-05T01:37:08.514085",
     "status": "completed"
    },
    "tags": []
   },
   "outputs": [
    {
     "data": {
      "text/html": [
       "<div>\n",
       "<style scoped>\n",
       "    .dataframe tbody tr th:only-of-type {\n",
       "        vertical-align: middle;\n",
       "    }\n",
       "\n",
       "    .dataframe tbody tr th {\n",
       "        vertical-align: top;\n",
       "    }\n",
       "\n",
       "    .dataframe thead th {\n",
       "        text-align: right;\n",
       "    }\n",
       "</style>\n",
       "<table border=\"1\" class=\"dataframe\">\n",
       "  <thead>\n",
       "    <tr style=\"text-align: right;\">\n",
       "      <th></th>\n",
       "      <th>Country/Region</th>\n",
       "      <th>Cases</th>\n",
       "      <th>Deaths</th>\n",
       "      <th>PCases</th>\n",
       "      <th>PDeaths</th>\n",
       "      <th>Cases (+)</th>\n",
       "      <th>Deaths (+)</th>\n",
       "      <th>Fatality Rate</th>\n",
       "      <th>Continent</th>\n",
       "    </tr>\n",
       "  </thead>\n",
       "  <tbody>\n",
       "    <tr>\n",
       "      <th>0</th>\n",
       "      <td>US</td>\n",
       "      <td>97692050</td>\n",
       "      <td>1072222</td>\n",
       "      <td>97622888</td>\n",
       "      <td>1071649</td>\n",
       "      <td>69162</td>\n",
       "      <td>573</td>\n",
       "      <td>1.10</td>\n",
       "      <td>North America</td>\n",
       "    </tr>\n",
       "    <tr>\n",
       "      <th>1</th>\n",
       "      <td>India</td>\n",
       "      <td>44658365</td>\n",
       "      <td>530479</td>\n",
       "      <td>44655926</td>\n",
       "      <td>530461</td>\n",
       "      <td>2439</td>\n",
       "      <td>18</td>\n",
       "      <td>1.19</td>\n",
       "      <td>Asia</td>\n",
       "    </tr>\n",
       "    <tr>\n",
       "      <th>2</th>\n",
       "      <td>France</td>\n",
       "      <td>37110800</td>\n",
       "      <td>158239</td>\n",
       "      <td>37068741</td>\n",
       "      <td>158184</td>\n",
       "      <td>42059</td>\n",
       "      <td>55</td>\n",
       "      <td>0.43</td>\n",
       "      <td>Europe</td>\n",
       "    </tr>\n",
       "    <tr>\n",
       "      <th>3</th>\n",
       "      <td>Germany</td>\n",
       "      <td>35784912</td>\n",
       "      <td>154328</td>\n",
       "      <td>35728277</td>\n",
       "      <td>154095</td>\n",
       "      <td>56635</td>\n",
       "      <td>233</td>\n",
       "      <td>0.43</td>\n",
       "      <td>Europe</td>\n",
       "    </tr>\n",
       "    <tr>\n",
       "      <th>4</th>\n",
       "      <td>Brazil</td>\n",
       "      <td>34846308</td>\n",
       "      <td>688267</td>\n",
       "      <td>34837035</td>\n",
       "      <td>688219</td>\n",
       "      <td>9273</td>\n",
       "      <td>48</td>\n",
       "      <td>1.98</td>\n",
       "      <td>South America</td>\n",
       "    </tr>\n",
       "  </tbody>\n",
       "</table>\n",
       "</div>"
      ],
      "text/plain": [
       "  Country/Region     Cases   Deaths    PCases  PDeaths  Cases (+)  Deaths (+)  \\\n",
       "0             US  97692050  1072222  97622888  1071649      69162         573   \n",
       "1          India  44658365   530479  44655926   530461       2439          18   \n",
       "2         France  37110800   158239  37068741   158184      42059          55   \n",
       "3        Germany  35784912   154328  35728277   154095      56635         233   \n",
       "4         Brazil  34846308   688267  34837035   688219       9273          48   \n",
       "\n",
       "   Fatality Rate      Continent  \n",
       "0           1.10  North America  \n",
       "1           1.19           Asia  \n",
       "2           0.43         Europe  \n",
       "3           0.43         Europe  \n",
       "4           1.98  South America  "
      ]
     },
     "execution_count": 13,
     "metadata": {},
     "output_type": "execute_result"
    }
   ],
   "source": [
    "#hide\n",
    "for c in 'Cases, Deaths'.split(', '):\n",
    "    df_table[f'{c} (+)'] = (df_table[c] - df_table[f'P{c}']).clip(0)\n",
    "    #Clip ça veut dire, les chiffres negatif sont interdit\n",
    "df_table['Fatality Rate'] = (100* df_table['Deaths']/ df_table['Cases']).round(2)\n",
    "df_table['Continent'] = df_table['Country/Region'].map(mapping['map.continent'])\n",
    "df_table.head(5)"
   ]
  },
  {
   "cell_type": "code",
   "execution_count": 14,
   "id": "aboriginal-bulgaria",
   "metadata": {
    "execution": {
     "iopub.execute_input": "2022-11-05T01:37:08.634268Z",
     "iopub.status.busy": "2022-11-05T01:37:08.633679Z",
     "iopub.status.idle": "2022-11-05T01:37:08.636067Z",
     "shell.execute_reply": "2022-11-05T01:37:08.635643Z"
    },
    "papermill": {
     "duration": 0.037573,
     "end_time": "2022-11-05T01:37:08.636160",
     "exception": false,
     "start_time": "2022-11-05T01:37:08.598587",
     "status": "completed"
    },
    "tags": []
   },
   "outputs": [],
   "source": [
    "#hide\n",
    "#delete problematic countries from table\n",
    "df_table = df_table[~df_table['Country/Region'].isin(['Cape Verde', 'Cruise Ship', 'Kosovo'])]"
   ]
  },
  {
   "cell_type": "code",
   "execution_count": 15,
   "id": "fantastic-effect",
   "metadata": {
    "execution": {
     "iopub.execute_input": "2022-11-05T01:37:08.704462Z",
     "iopub.status.busy": "2022-11-05T01:37:08.703902Z",
     "iopub.status.idle": "2022-11-05T01:37:08.720846Z",
     "shell.execute_reply": "2022-11-05T01:37:08.720302Z"
    },
    "papermill": {
     "duration": 0.05369,
     "end_time": "2022-11-05T01:37:08.720938",
     "exception": false,
     "start_time": "2022-11-05T01:37:08.667248",
     "status": "completed"
    },
    "tags": []
   },
   "outputs": [
    {
     "data": {
      "text/html": [
       "<div>\n",
       "<style scoped>\n",
       "    .dataframe tbody tr th:only-of-type {\n",
       "        vertical-align: middle;\n",
       "    }\n",
       "\n",
       "    .dataframe tbody tr th {\n",
       "        vertical-align: top;\n",
       "    }\n",
       "\n",
       "    .dataframe thead th {\n",
       "        text-align: right;\n",
       "    }\n",
       "</style>\n",
       "<table border=\"1\" class=\"dataframe\">\n",
       "  <thead>\n",
       "    <tr style=\"text-align: right;\">\n",
       "      <th></th>\n",
       "      <th>Country/Region</th>\n",
       "      <th>Cases</th>\n",
       "      <th>Deaths</th>\n",
       "      <th>PCases</th>\n",
       "      <th>PDeaths</th>\n",
       "      <th>Cases (+)</th>\n",
       "      <th>Deaths (+)</th>\n",
       "      <th>Fatality Rate</th>\n",
       "      <th>Continent</th>\n",
       "    </tr>\n",
       "  </thead>\n",
       "  <tbody>\n",
       "    <tr>\n",
       "      <th>0</th>\n",
       "      <td>US</td>\n",
       "      <td>97692050</td>\n",
       "      <td>1072222</td>\n",
       "      <td>97622888</td>\n",
       "      <td>1071649</td>\n",
       "      <td>69162</td>\n",
       "      <td>573</td>\n",
       "      <td>1.1</td>\n",
       "      <td>North America</td>\n",
       "    </tr>\n",
       "    <tr>\n",
       "      <th>1</th>\n",
       "      <td>India</td>\n",
       "      <td>44658365</td>\n",
       "      <td>530479</td>\n",
       "      <td>44655926</td>\n",
       "      <td>530461</td>\n",
       "      <td>2439</td>\n",
       "      <td>18</td>\n",
       "      <td>1.2</td>\n",
       "      <td>Asia</td>\n",
       "    </tr>\n",
       "    <tr>\n",
       "      <th>2</th>\n",
       "      <td>France</td>\n",
       "      <td>37110800</td>\n",
       "      <td>158239</td>\n",
       "      <td>37068741</td>\n",
       "      <td>158184</td>\n",
       "      <td>42059</td>\n",
       "      <td>55</td>\n",
       "      <td>0.4</td>\n",
       "      <td>Europe</td>\n",
       "    </tr>\n",
       "    <tr>\n",
       "      <th>3</th>\n",
       "      <td>Germany</td>\n",
       "      <td>35784912</td>\n",
       "      <td>154328</td>\n",
       "      <td>35728277</td>\n",
       "      <td>154095</td>\n",
       "      <td>56635</td>\n",
       "      <td>233</td>\n",
       "      <td>0.4</td>\n",
       "      <td>Europe</td>\n",
       "    </tr>\n",
       "    <tr>\n",
       "      <th>4</th>\n",
       "      <td>Brazil</td>\n",
       "      <td>34846308</td>\n",
       "      <td>688267</td>\n",
       "      <td>34837035</td>\n",
       "      <td>688219</td>\n",
       "      <td>9273</td>\n",
       "      <td>48</td>\n",
       "      <td>2.0</td>\n",
       "      <td>South America</td>\n",
       "    </tr>\n",
       "  </tbody>\n",
       "</table>\n",
       "</div>"
      ],
      "text/plain": [
       "  Country/Region     Cases   Deaths    PCases  PDeaths  Cases (+)  Deaths (+)  \\\n",
       "0             US  97692050  1072222  97622888  1071649      69162         573   \n",
       "1          India  44658365   530479  44655926   530461       2439          18   \n",
       "2         France  37110800   158239  37068741   158184      42059          55   \n",
       "3        Germany  35784912   154328  35728277   154095      56635         233   \n",
       "4         Brazil  34846308   688267  34837035   688219       9273          48   \n",
       "\n",
       "   Fatality Rate      Continent  \n",
       "0            1.1  North America  \n",
       "1            1.2           Asia  \n",
       "2            0.4         Europe  \n",
       "3            0.4         Europe  \n",
       "4            2.0  South America  "
      ]
     },
     "execution_count": 15,
     "metadata": {},
     "output_type": "execute_result"
    }
   ],
   "source": [
    "#hide\n",
    "df_table = (pd.DataFrame(dict(Cases=dfc_cases, Deaths=dfc_deaths, PCases=dfp_cases, PDeaths=dfp_deaths))\n",
    "             .sort_values(by=['Cases', 'Deaths'], ascending=[False, False])\n",
    "             .reset_index())\n",
    "df_table.rename(columns={'index': 'Country/Region'}, inplace=True)\n",
    "for c in 'Cases, Deaths'.split(', '):\n",
    "    df_table[f'{c} (+)'] = (df_table[c] - df_table[f'P{c}']).clip(0)  # DATA BUG\n",
    "df_table['Fatality Rate'] = (100 * df_table['Deaths'] / df_table['Cases']).round(1)\n",
    "df_table['Continent'] = df_table['Country/Region'].map(mapping['map.continent'])\n",
    "df_table.head(5)"
   ]
  },
  {
   "cell_type": "code",
   "execution_count": 16,
   "id": "fewer-occasion",
   "metadata": {
    "execution": {
     "iopub.execute_input": "2022-11-05T01:37:08.789128Z",
     "iopub.status.busy": "2022-11-05T01:37:08.788565Z",
     "iopub.status.idle": "2022-11-05T01:37:08.791184Z",
     "shell.execute_reply": "2022-11-05T01:37:08.790746Z"
    },
    "papermill": {
     "duration": 0.038527,
     "end_time": "2022-11-05T01:37:08.791278",
     "exception": false,
     "start_time": "2022-11-05T01:37:08.752751",
     "status": "completed"
    },
    "tags": []
   },
   "outputs": [],
   "source": [
    "#hide\n",
    "#delete problematic countries from table\n",
    "df_table = df_table[~df_table['Country/Region'].isin(['Cape Verde', 'Cruise Ship', 'Kosovo'])]"
   ]
  },
  {
   "cell_type": "code",
   "execution_count": 17,
   "id": "related-center",
   "metadata": {
    "execution": {
     "iopub.execute_input": "2022-11-05T01:37:08.870205Z",
     "iopub.status.busy": "2022-11-05T01:37:08.869619Z",
     "iopub.status.idle": "2022-11-05T01:37:08.872059Z",
     "shell.execute_reply": "2022-11-05T01:37:08.871520Z"
    },
    "papermill": {
     "duration": 0.049471,
     "end_time": "2022-11-05T01:37:08.872151",
     "exception": false,
     "start_time": "2022-11-05T01:37:08.822680",
     "status": "completed"
    },
    "tags": []
   },
   "outputs": [],
   "source": [
    "#hide\n",
    "metrics = [df_table.columns[index] for index in [1,2,5,6]]\n",
    "# s_china = df_table[df_table['Country/Region'].eq('China')][metrics].sum().add_prefix('China ')\n",
    "s_us = df_table[df_table['Country/Region'].eq('US')][metrics].sum().add_prefix('US ')\n",
    "s_eu = df_table[df_table['Continent'].eq('Europe')][metrics].sum().add_prefix('EU ')\n",
    "s_ind = df_table[df_table['Country/Region'].eq('India')][metrics].sum().add_prefix('India ')\n",
    "summary = {'updated': pd.to_datetime(dt_today), 'since': pd.to_datetime(dt_yday)}\n",
    "summary = {'updated': pd.to_datetime(dt_today), 'since': pd.to_datetime(dt_yday)}\n",
    "summary = {**summary, **df_table[metrics].sum(), **s_ind, **s_us, **s_eu}"
   ]
  },
  {
   "cell_type": "code",
   "execution_count": 18,
   "id": "engaging-syndrome",
   "metadata": {
    "execution": {
     "iopub.execute_input": "2022-11-05T01:37:08.939740Z",
     "iopub.status.busy": "2022-11-05T01:37:08.939154Z",
     "iopub.status.idle": "2022-11-05T01:37:08.959000Z",
     "shell.execute_reply": "2022-11-05T01:37:08.958529Z"
    },
    "papermill": {
     "duration": 0.055391,
     "end_time": "2022-11-05T01:37:08.959095",
     "exception": false,
     "start_time": "2022-11-05T01:37:08.903704",
     "status": "completed"
    },
    "tags": []
   },
   "outputs": [],
   "source": [
    "#hide\n",
    "dft_ct_new_cases = dft_cases.groupby(COL_REGION)[dt_cols].sum().diff(axis=1).fillna(0).astype(int)"
   ]
  },
  {
   "cell_type": "code",
   "execution_count": 19,
   "id": "neutral-assignment",
   "metadata": {
    "execution": {
     "iopub.execute_input": "2022-11-05T01:37:09.027233Z",
     "iopub.status.busy": "2022-11-05T01:37:09.026669Z",
     "iopub.status.idle": "2022-11-05T01:37:09.028559Z",
     "shell.execute_reply": "2022-11-05T01:37:09.028977Z"
    },
    "papermill": {
     "duration": 0.038449,
     "end_time": "2022-11-05T01:37:09.029080",
     "exception": false,
     "start_time": "2022-11-05T01:37:08.990631",
     "status": "completed"
    },
    "tags": []
   },
   "outputs": [],
   "source": [
    "#hide\n",
    "everydaycases = dft_ct_new_cases.cumsum(axis=1)"
   ]
  },
  {
   "cell_type": "code",
   "execution_count": 20,
   "id": "parliamentary-calgary",
   "metadata": {
    "execution": {
     "iopub.execute_input": "2022-11-05T01:37:09.096071Z",
     "iopub.status.busy": "2022-11-05T01:37:09.095496Z",
     "iopub.status.idle": "2022-11-05T01:37:09.626097Z",
     "shell.execute_reply": "2022-11-05T01:37:09.625135Z"
    },
    "papermill": {
     "duration": 0.56528,
     "end_time": "2022-11-05T01:37:09.626225",
     "exception": false,
     "start_time": "2022-11-05T01:37:09.060945",
     "status": "completed"
    },
    "tags": []
   },
   "outputs": [],
   "source": [
    "#hide\n",
    "import pandas as pd\n",
    "import matplotlib.pyplot as plt\n",
    "import matplotlib.ticker as ticker\n",
    "import matplotlib.animation as animation\n",
    "from IPython.display import HTML"
   ]
  },
  {
   "cell_type": "code",
   "execution_count": 21,
   "id": "lasting-extraction",
   "metadata": {
    "execution": {
     "iopub.execute_input": "2022-11-05T01:37:09.695350Z",
     "iopub.status.busy": "2022-11-05T01:37:09.694793Z",
     "iopub.status.idle": "2022-11-05T01:37:09.701207Z",
     "shell.execute_reply": "2022-11-05T01:37:09.701679Z"
    },
    "papermill": {
     "duration": 0.043862,
     "end_time": "2022-11-05T01:37:09.701794",
     "exception": false,
     "start_time": "2022-11-05T01:37:09.657932",
     "status": "completed"
    },
    "tags": []
   },
   "outputs": [],
   "source": [
    "#hide\n",
    "t = everydaycases.stack()"
   ]
  },
  {
   "cell_type": "code",
   "execution_count": 22,
   "id": "premier-sleeve",
   "metadata": {
    "execution": {
     "iopub.execute_input": "2022-11-05T01:37:09.768740Z",
     "iopub.status.busy": "2022-11-05T01:37:09.768169Z",
     "iopub.status.idle": "2022-11-05T01:37:09.779700Z",
     "shell.execute_reply": "2022-11-05T01:37:09.779239Z"
    },
    "papermill": {
     "duration": 0.046291,
     "end_time": "2022-11-05T01:37:09.779796",
     "exception": false,
     "start_time": "2022-11-05T01:37:09.733505",
     "status": "completed"
    },
    "tags": []
   },
   "outputs": [],
   "source": [
    "#hide\n",
    "g = t.reset_index(['Country/Region'])"
   ]
  },
  {
   "cell_type": "code",
   "execution_count": 23,
   "id": "distributed-pittsburgh",
   "metadata": {
    "execution": {
     "iopub.execute_input": "2022-11-05T01:37:09.846379Z",
     "iopub.status.busy": "2022-11-05T01:37:09.845803Z",
     "iopub.status.idle": "2022-11-05T01:37:09.848125Z",
     "shell.execute_reply": "2022-11-05T01:37:09.847689Z"
    },
    "papermill": {
     "duration": 0.036791,
     "end_time": "2022-11-05T01:37:09.848218",
     "exception": false,
     "start_time": "2022-11-05T01:37:09.811427",
     "status": "completed"
    },
    "tags": []
   },
   "outputs": [],
   "source": [
    "#hide\n",
    "g.index.name = 'date'"
   ]
  },
  {
   "cell_type": "code",
   "execution_count": 24,
   "id": "naked-donor",
   "metadata": {
    "execution": {
     "iopub.execute_input": "2022-11-05T01:37:09.914578Z",
     "iopub.status.busy": "2022-11-05T01:37:09.913993Z",
     "iopub.status.idle": "2022-11-05T01:37:09.916361Z",
     "shell.execute_reply": "2022-11-05T01:37:09.915943Z"
    },
    "papermill": {
     "duration": 0.036687,
     "end_time": "2022-11-05T01:37:09.916455",
     "exception": false,
     "start_time": "2022-11-05T01:37:09.879768",
     "status": "completed"
    },
    "tags": []
   },
   "outputs": [],
   "source": [
    "# #hide\n",
    "# g = g.reset_index(['date'])"
   ]
  },
  {
   "cell_type": "code",
   "execution_count": 25,
   "id": "incomplete-mustang",
   "metadata": {
    "execution": {
     "iopub.execute_input": "2022-11-05T01:37:09.982345Z",
     "iopub.status.busy": "2022-11-05T01:37:09.981773Z",
     "iopub.status.idle": "2022-11-05T01:37:09.984142Z",
     "shell.execute_reply": "2022-11-05T01:37:09.983702Z"
    },
    "papermill": {
     "duration": 0.036284,
     "end_time": "2022-11-05T01:37:09.984235",
     "exception": false,
     "start_time": "2022-11-05T01:37:09.947951",
     "status": "completed"
    },
    "tags": []
   },
   "outputs": [],
   "source": [
    "#hide\n",
    "# g.head()"
   ]
  },
  {
   "cell_type": "code",
   "execution_count": 26,
   "id": "specific-kruger",
   "metadata": {
    "execution": {
     "iopub.execute_input": "2022-11-05T01:37:10.051047Z",
     "iopub.status.busy": "2022-11-05T01:37:10.050469Z",
     "iopub.status.idle": "2022-11-05T01:37:10.052364Z",
     "shell.execute_reply": "2022-11-05T01:37:10.052784Z"
    },
    "papermill": {
     "duration": 0.037053,
     "end_time": "2022-11-05T01:37:10.052888",
     "exception": false,
     "start_time": "2022-11-05T01:37:10.015835",
     "status": "completed"
    },
    "tags": []
   },
   "outputs": [],
   "source": [
    "#hide\n",
    "# g.columns = ['date','country','cases']"
   ]
  },
  {
   "cell_type": "code",
   "execution_count": 27,
   "id": "tender-conversion",
   "metadata": {
    "execution": {
     "iopub.execute_input": "2022-11-05T01:37:10.119151Z",
     "iopub.status.busy": "2022-11-05T01:37:10.118575Z",
     "iopub.status.idle": "2022-11-05T01:37:10.120903Z",
     "shell.execute_reply": "2022-11-05T01:37:10.120362Z"
    },
    "papermill": {
     "duration": 0.036671,
     "end_time": "2022-11-05T01:37:10.120994",
     "exception": false,
     "start_time": "2022-11-05T01:37:10.084323",
     "status": "completed"
    },
    "tags": []
   },
   "outputs": [],
   "source": [
    "#hide\n",
    "# g['continent'] = g.country"
   ]
  },
  {
   "cell_type": "code",
   "execution_count": 28,
   "id": "substantial-wilderness",
   "metadata": {
    "execution": {
     "iopub.execute_input": "2022-11-05T01:37:10.188279Z",
     "iopub.status.busy": "2022-11-05T01:37:10.187726Z",
     "iopub.status.idle": "2022-11-05T01:37:10.192010Z",
     "shell.execute_reply": "2022-11-05T01:37:10.191552Z"
    },
    "papermill": {
     "duration": 0.038611,
     "end_time": "2022-11-05T01:37:10.192102",
     "exception": false,
     "start_time": "2022-11-05T01:37:10.153491",
     "status": "completed"
    },
    "tags": []
   },
   "outputs": [],
   "source": [
    "#hide\n",
    "# cols = list(g.columns.values)"
   ]
  },
  {
   "cell_type": "code",
   "execution_count": 29,
   "id": "solved-farming",
   "metadata": {
    "execution": {
     "iopub.execute_input": "2022-11-05T01:37:10.257957Z",
     "iopub.status.busy": "2022-11-05T01:37:10.257355Z",
     "iopub.status.idle": "2022-11-05T01:37:10.259567Z",
     "shell.execute_reply": "2022-11-05T01:37:10.259045Z"
    },
    "papermill": {
     "duration": 0.036165,
     "end_time": "2022-11-05T01:37:10.259660",
     "exception": false,
     "start_time": "2022-11-05T01:37:10.223495",
     "status": "completed"
    },
    "tags": []
   },
   "outputs": [],
   "source": [
    "#hide\n",
    "# cols.insert(0, cols.pop())"
   ]
  },
  {
   "cell_type": "code",
   "execution_count": 30,
   "id": "executed-adoption",
   "metadata": {
    "execution": {
     "iopub.execute_input": "2022-11-05T01:37:10.326263Z",
     "iopub.status.busy": "2022-11-05T01:37:10.325691Z",
     "iopub.status.idle": "2022-11-05T01:37:10.328034Z",
     "shell.execute_reply": "2022-11-05T01:37:10.327497Z"
    },
    "papermill": {
     "duration": 0.036701,
     "end_time": "2022-11-05T01:37:10.328127",
     "exception": false,
     "start_time": "2022-11-05T01:37:10.291426",
     "status": "completed"
    },
    "tags": []
   },
   "outputs": [],
   "source": [
    "#hide\n",
    "# g = g[cols]"
   ]
  },
  {
   "cell_type": "code",
   "execution_count": 31,
   "id": "subject-dublin",
   "metadata": {
    "execution": {
     "iopub.execute_input": "2022-11-05T01:37:10.394183Z",
     "iopub.status.busy": "2022-11-05T01:37:10.393598Z",
     "iopub.status.idle": "2022-11-05T01:37:10.395857Z",
     "shell.execute_reply": "2022-11-05T01:37:10.395421Z"
    },
    "papermill": {
     "duration": 0.036224,
     "end_time": "2022-11-05T01:37:10.395946",
     "exception": false,
     "start_time": "2022-11-05T01:37:10.359722",
     "status": "completed"
    },
    "tags": []
   },
   "outputs": [],
   "source": [
    "#hide\n",
    "# g['continent'] = g['continent'].map(mapping['map.continent'])"
   ]
  },
  {
   "cell_type": "code",
   "execution_count": 32,
   "id": "freelance-scout",
   "metadata": {
    "execution": {
     "iopub.execute_input": "2022-11-05T01:37:10.461881Z",
     "iopub.status.busy": "2022-11-05T01:37:10.461292Z",
     "iopub.status.idle": "2022-11-05T01:37:10.463635Z",
     "shell.execute_reply": "2022-11-05T01:37:10.463102Z"
    },
    "papermill": {
     "duration": 0.036417,
     "end_time": "2022-11-05T01:37:10.463727",
     "exception": false,
     "start_time": "2022-11-05T01:37:10.427310",
     "status": "completed"
    },
    "tags": []
   },
   "outputs": [],
   "source": [
    "#hide\n",
    "# g.head()"
   ]
  },
  {
   "cell_type": "code",
   "execution_count": 33,
   "id": "limited-engine",
   "metadata": {
    "execution": {
     "iopub.execute_input": "2022-11-05T01:37:10.529815Z",
     "iopub.status.busy": "2022-11-05T01:37:10.529201Z",
     "iopub.status.idle": "2022-11-05T01:37:10.531534Z",
     "shell.execute_reply": "2022-11-05T01:37:10.531009Z"
    },
    "papermill": {
     "duration": 0.03654,
     "end_time": "2022-11-05T01:37:10.531626",
     "exception": false,
     "start_time": "2022-11-05T01:37:10.495086",
     "status": "completed"
    },
    "tags": []
   },
   "outputs": [],
   "source": [
    "# hide\n",
    "# g['date'] = g['date'].astype('datetime64[ns]')"
   ]
  },
  {
   "cell_type": "code",
   "execution_count": 34,
   "id": "sophisticated-supervisor",
   "metadata": {
    "execution": {
     "iopub.execute_input": "2022-11-05T01:37:10.597886Z",
     "iopub.status.busy": "2022-11-05T01:37:10.597285Z",
     "iopub.status.idle": "2022-11-05T01:37:10.599669Z",
     "shell.execute_reply": "2022-11-05T01:37:10.599138Z"
    },
    "papermill": {
     "duration": 0.036465,
     "end_time": "2022-11-05T01:37:10.599762",
     "exception": false,
     "start_time": "2022-11-05T01:37:10.563297",
     "status": "completed"
    },
    "tags": []
   },
   "outputs": [],
   "source": [
    "#hide\n",
    "# g['date'] = g.date.dt.dayofyear"
   ]
  },
  {
   "cell_type": "code",
   "execution_count": 35,
   "id": "inside-dubai",
   "metadata": {
    "execution": {
     "iopub.execute_input": "2022-11-05T01:37:10.665854Z",
     "iopub.status.busy": "2022-11-05T01:37:10.665253Z",
     "iopub.status.idle": "2022-11-05T01:37:10.667591Z",
     "shell.execute_reply": "2022-11-05T01:37:10.667067Z"
    },
    "papermill": {
     "duration": 0.036359,
     "end_time": "2022-11-05T01:37:10.667684",
     "exception": false,
     "start_time": "2022-11-05T01:37:10.631325",
     "status": "completed"
    },
    "tags": []
   },
   "outputs": [],
   "source": [
    "#hide\n",
    "# g = g.rename(columns= {'continent':'group','country':'name','cases':'value'})"
   ]
  },
  {
   "cell_type": "code",
   "execution_count": 36,
   "id": "fleet-motorcycle",
   "metadata": {
    "execution": {
     "iopub.execute_input": "2022-11-05T01:37:10.734025Z",
     "iopub.status.busy": "2022-11-05T01:37:10.733421Z",
     "iopub.status.idle": "2022-11-05T01:37:10.735824Z",
     "shell.execute_reply": "2022-11-05T01:37:10.735287Z"
    },
    "papermill": {
     "duration": 0.036569,
     "end_time": "2022-11-05T01:37:10.735916",
     "exception": false,
     "start_time": "2022-11-05T01:37:10.699347",
     "status": "completed"
    },
    "tags": []
   },
   "outputs": [],
   "source": [
    "#hide\n",
    "# cols = ['name','group','day','value']"
   ]
  },
  {
   "cell_type": "code",
   "execution_count": 37,
   "id": "continued-sleeping",
   "metadata": {
    "execution": {
     "iopub.execute_input": "2022-11-05T01:37:10.801949Z",
     "iopub.status.busy": "2022-11-05T01:37:10.801352Z",
     "iopub.status.idle": "2022-11-05T01:37:10.803717Z",
     "shell.execute_reply": "2022-11-05T01:37:10.803189Z"
    },
    "papermill": {
     "duration": 0.03644,
     "end_time": "2022-11-05T01:37:10.803809",
     "exception": false,
     "start_time": "2022-11-05T01:37:10.767369",
     "status": "completed"
    },
    "tags": []
   },
   "outputs": [],
   "source": [
    "#hide\n",
    "# g.rename(columns= {'date':'day'},inplace = True)"
   ]
  },
  {
   "cell_type": "code",
   "execution_count": 38,
   "id": "major-fight",
   "metadata": {
    "execution": {
     "iopub.execute_input": "2022-11-05T01:37:10.870074Z",
     "iopub.status.busy": "2022-11-05T01:37:10.869474Z",
     "iopub.status.idle": "2022-11-05T01:37:10.871588Z",
     "shell.execute_reply": "2022-11-05T01:37:10.872001Z"
    },
    "papermill": {
     "duration": 0.036673,
     "end_time": "2022-11-05T01:37:10.872109",
     "exception": false,
     "start_time": "2022-11-05T01:37:10.835436",
     "status": "completed"
    },
    "tags": []
   },
   "outputs": [],
   "source": [
    "#hide\n",
    "# g = g[cols]"
   ]
  },
  {
   "cell_type": "code",
   "execution_count": 39,
   "id": "structured-mobile",
   "metadata": {
    "execution": {
     "iopub.execute_input": "2022-11-05T01:37:10.938019Z",
     "iopub.status.busy": "2022-11-05T01:37:10.937418Z",
     "iopub.status.idle": "2022-11-05T01:37:10.939553Z",
     "shell.execute_reply": "2022-11-05T01:37:10.939968Z"
    },
    "papermill": {
     "duration": 0.036662,
     "end_time": "2022-11-05T01:37:10.940076",
     "exception": false,
     "start_time": "2022-11-05T01:37:10.903414",
     "status": "completed"
    },
    "tags": []
   },
   "outputs": [],
   "source": [
    "# #hide\n",
    "# g = g[g.group.notna()]"
   ]
  },
  {
   "cell_type": "code",
   "execution_count": 40,
   "id": "determined-closing",
   "metadata": {
    "execution": {
     "iopub.execute_input": "2022-11-05T01:37:11.006390Z",
     "iopub.status.busy": "2022-11-05T01:37:11.005820Z",
     "iopub.status.idle": "2022-11-05T01:37:11.007681Z",
     "shell.execute_reply": "2022-11-05T01:37:11.007158Z"
    },
    "papermill": {
     "duration": 0.036029,
     "end_time": "2022-11-05T01:37:11.007772",
     "exception": false,
     "start_time": "2022-11-05T01:37:10.971743",
     "status": "completed"
    },
    "tags": []
   },
   "outputs": [],
   "source": [
    "# #hide\n",
    "# colors = dict(zip(\n",
    "#     [\"Oceania\", \"Europe\", \"Asia\", \"South America\", \"Middle East\", \"North America\", \"Africa\"],\n",
    "#     [\"#adb0ff\", \"#ffb3ff\", \"#90d595\", \"#e48381\", \"#aafbff\", \"#f7bb5f\", \"#eafb50\"]\n",
    "# ))\n",
    "# group_lk = g.set_index('name')['group'].to_dict()"
   ]
  },
  {
   "cell_type": "code",
   "execution_count": null,
   "id": "gross-drinking",
   "metadata": {
    "papermill": {
     "duration": 0.031944,
     "end_time": "2022-11-05T01:37:11.071377",
     "exception": false,
     "start_time": "2022-11-05T01:37:11.039433",
     "status": "completed"
    },
    "tags": []
   },
   "outputs": [],
   "source": []
  },
  {
   "cell_type": "code",
   "execution_count": 41,
   "id": "subject-macintosh",
   "metadata": {
    "execution": {
     "iopub.execute_input": "2022-11-05T01:37:11.138401Z",
     "iopub.status.busy": "2022-11-05T01:37:11.137799Z",
     "iopub.status.idle": "2022-11-05T01:37:11.139672Z",
     "shell.execute_reply": "2022-11-05T01:37:11.139148Z"
    },
    "papermill": {
     "duration": 0.03683,
     "end_time": "2022-11-05T01:37:11.139765",
     "exception": false,
     "start_time": "2022-11-05T01:37:11.102935",
     "status": "completed"
    },
    "tags": []
   },
   "outputs": [],
   "source": [
    "# #hide\n",
    "# fig, ax = plt.subplots(figsize=(15, 8))\n",
    "\n",
    "# def draw_barchart(current_day):\n",
    "#     dff = g[g['day'].eq(current_day)].sort_values(by='value', ascending=True).tail(10)\n",
    "#     ax.clear()\n",
    "#     ax.barh(dff['name'], dff['value'], color=[colors[group_lk[x]] for x in dff['name']])\n",
    "#     dx = dff['value'].max() / 200\n",
    "    \n",
    "#     for i, (value, name) in enumerate(zip(dff['value'], dff['name'])):\n",
    "#         ax.text(value-dx, i,     name,           size=14, weight=600, ha='right', va='bottom')\n",
    "#         ax.text(value-dx, i-.25, group_lk[name], size=10, color='#444444', ha='right', va='baseline')\n",
    "#         ax.text(value+dx, i,     f'{value:,.0f}',  size=14, ha='left',  va='center')\n",
    "#     ax.text(1, 0.4, current_day, transform=ax.transAxes, color='#777777', size=46, ha='right', weight=800)\n",
    "#     ax.text(0, 1.06, 'Population (thousands)', transform=ax.transAxes, size=12, color='#777777')\n",
    "#     ax.xaxis.set_major_formatter(ticker.StrMethodFormatter('{x:,.0f}'))\n",
    "#     ax.xaxis.set_ticks_position('top')\n",
    "#     ax.tick_params(axis='x', colors='#777777', labelsize=12)\n",
    "#     ax.set_yticks([])\n",
    "#     ax.margins(0, 0.01)\n",
    "#     ax.grid(which='major', axis='x', linestyle='-')\n",
    "#     ax.set_axisbelow(True)\n",
    "    \n",
    "#     ax.text(0, 1.15, 'Coronavirus',\n",
    "#             transform=ax.transAxes, size=24, weight=600, ha='left', va='top')\n",
    "# #     ax.text(1, 0, 'by @pratapvardhan; credit @jburnmurdoch', transform=ax.transAxes, color='#777777', ha='right',\n",
    "# #             bbox=dict(facecolor='white', alpha=0.8, edgecolor='white'))\n",
    "#     plt.box(False)"
   ]
  },
  {
   "cell_type": "code",
   "execution_count": 42,
   "id": "sexual-wages",
   "metadata": {
    "execution": {
     "iopub.execute_input": "2022-11-05T01:37:11.205836Z",
     "iopub.status.busy": "2022-11-05T01:37:11.205228Z",
     "iopub.status.idle": "2022-11-05T01:37:11.207606Z",
     "shell.execute_reply": "2022-11-05T01:37:11.207081Z"
    },
    "papermill": {
     "duration": 0.03645,
     "end_time": "2022-11-05T01:37:11.207698",
     "exception": false,
     "start_time": "2022-11-05T01:37:11.171248",
     "status": "completed"
    },
    "tags": []
   },
   "outputs": [],
   "source": [
    "# #hide_input\n",
    "# fig, ax = plt.subplots(figsize=(15, 8))\n",
    "# animator = animation.FuncAnimation(fig, draw_barchart, frames=range(g.day.values.min(), g.day.values.max()))\n",
    "# HTML(animator.to_jshtml())\n",
    "# # or use animator.to_html5_video() or animator.save() "
   ]
  },
  {
   "cell_type": "code",
   "execution_count": null,
   "id": "australian-container",
   "metadata": {
    "papermill": {
     "duration": 0.031327,
     "end_time": "2022-11-05T01:37:11.270590",
     "exception": false,
     "start_time": "2022-11-05T01:37:11.239263",
     "status": "completed"
    },
    "tags": []
   },
   "outputs": [],
   "source": []
  },
  {
   "cell_type": "code",
   "execution_count": null,
   "id": "mediterranean-pontiac",
   "metadata": {
    "papermill": {
     "duration": 0.031553,
     "end_time": "2022-11-05T01:37:11.333494",
     "exception": false,
     "start_time": "2022-11-05T01:37:11.301941",
     "status": "completed"
    },
    "tags": []
   },
   "outputs": [],
   "source": []
  },
  {
   "cell_type": "code",
   "execution_count": null,
   "id": "aging-legislature",
   "metadata": {
    "papermill": {
     "duration": 0.031245,
     "end_time": "2022-11-05T01:37:11.396471",
     "exception": false,
     "start_time": "2022-11-05T01:37:11.365226",
     "status": "completed"
    },
    "tags": []
   },
   "outputs": [],
   "source": []
  }
 ],
 "metadata": {
  "kernelspec": {
   "display_name": "Python 3",
   "language": "python",
   "name": "python3"
  },
  "language_info": {
   "codemirror_mode": {
    "name": "ipython",
    "version": 3
   },
   "file_extension": ".py",
   "mimetype": "text/x-python",
   "name": "python",
   "nbconvert_exporter": "python",
   "pygments_lexer": "ipython3",
   "version": "3.6.15"
  },
  "papermill": {
   "duration": 11.991716,
   "end_time": "2022-11-05T01:37:11.745803",
   "environment_variables": {},
   "exception": null,
   "input_path": "2020-03-21-covid19exp.ipynb",
   "output_path": "2020-03-21-covid19exp.ipynb",
   "parameters": {},
   "start_time": "2022-11-05T01:36:59.754087",
   "version": "2.0.0"
  }
 },
 "nbformat": 4,
 "nbformat_minor": 5
}