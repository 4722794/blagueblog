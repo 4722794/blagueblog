{
 "cells": [
  {
   "cell_type": "markdown",
   "id": "muslim-click",
   "metadata": {
    "papermill": {
     "duration": 0.046216,
     "end_time": "2021-04-27T00:06:58.503455",
     "exception": false,
     "start_time": "2021-04-27T00:06:58.457239",
     "status": "completed"
    },
    "tags": []
   },
   "source": [
    "# COVID-19 Case Race\n",
    "> A race chart to see rising cases around the world\n",
    "\n",
    "- author: Hargun Oberoi\n",
    "- image: images/covid-overview.png\n",
    "- hide: false\n",
    "- badges: false"
   ]
  },
  {
   "cell_type": "code",
   "execution_count": 1,
   "id": "proof-material",
   "metadata": {
    "execution": {
     "iopub.execute_input": "2021-04-27T00:06:58.601016Z",
     "iopub.status.busy": "2021-04-27T00:06:58.600323Z",
     "iopub.status.idle": "2021-04-27T00:06:59.011474Z",
     "shell.execute_reply": "2021-04-27T00:06:59.012144Z"
    },
    "papermill": {
     "duration": 0.468768,
     "end_time": "2021-04-27T00:06:59.012364",
     "exception": false,
     "start_time": "2021-04-27T00:06:58.543596",
     "status": "completed"
    },
    "tags": []
   },
   "outputs": [],
   "source": [
    "#hide\n",
    "import numpy as np\n",
    "import pandas as pd\n",
    "from jinja2 import Template\n",
    "from IPython.display import HTML"
   ]
  },
  {
   "cell_type": "code",
   "execution_count": 2,
   "id": "developed-terminology",
   "metadata": {
    "execution": {
     "iopub.execute_input": "2021-04-27T00:06:59.105218Z",
     "iopub.status.busy": "2021-04-27T00:06:59.104525Z",
     "iopub.status.idle": "2021-04-27T00:06:59.107262Z",
     "shell.execute_reply": "2021-04-27T00:06:59.106625Z"
    },
    "papermill": {
     "duration": 0.052906,
     "end_time": "2021-04-27T00:06:59.107396",
     "exception": false,
     "start_time": "2021-04-27T00:06:59.054490",
     "status": "completed"
    },
    "tags": []
   },
   "outputs": [],
   "source": [
    "#hide\n",
    "\n",
    "# FETCH\n",
    "base_url = 'https://raw.githubusercontent.com/pratapvardhan/notebooks/master/covid19/'\n",
    "paths = {\n",
    "    'mapping': base_url + 'mapping_countries.csv',\n",
    "    'overview': base_url + 'overview.tpl'\n",
    "}"
   ]
  },
  {
   "cell_type": "code",
   "execution_count": 3,
   "id": "dynamic-saver",
   "metadata": {
    "execution": {
     "iopub.execute_input": "2021-04-27T00:06:59.199408Z",
     "iopub.status.busy": "2021-04-27T00:06:59.198727Z",
     "iopub.status.idle": "2021-04-27T00:06:59.202276Z",
     "shell.execute_reply": "2021-04-27T00:06:59.201620Z"
    },
    "papermill": {
     "duration": 0.055448,
     "end_time": "2021-04-27T00:06:59.202417",
     "exception": false,
     "start_time": "2021-04-27T00:06:59.146969",
     "status": "completed"
    },
    "tags": []
   },
   "outputs": [
    {
     "data": {
      "text/plain": [
       "'https://raw.githubusercontent.com/pratapvardhan/notebooks/master/covid19/mapping_countries.csv'"
      ]
     },
     "execution_count": 3,
     "metadata": {},
     "output_type": "execute_result"
    }
   ],
   "source": [
    "#hide\n",
    "paths['mapping']"
   ]
  },
  {
   "cell_type": "code",
   "execution_count": 4,
   "id": "urban-software",
   "metadata": {
    "execution": {
     "iopub.execute_input": "2021-04-27T00:06:59.290026Z",
     "iopub.status.busy": "2021-04-27T00:06:59.289328Z",
     "iopub.status.idle": "2021-04-27T00:06:59.292213Z",
     "shell.execute_reply": "2021-04-27T00:06:59.293277Z"
    },
    "papermill": {
     "duration": 0.050946,
     "end_time": "2021-04-27T00:06:59.293685",
     "exception": false,
     "start_time": "2021-04-27T00:06:59.242739",
     "status": "completed"
    },
    "tags": []
   },
   "outputs": [],
   "source": [
    "#hide\n",
    "def get_mappings(url):\n",
    "    df = pd.read_csv(url)\n",
    "    return {\n",
    "        'df': df,\n",
    "        'replace.country': dict(df.dropna(subset=['Name']).set_index('Country')['Name']),\n",
    "        'map.continent': dict(df.set_index('Name')['Continent'])\n",
    "    }"
   ]
  },
  {
   "cell_type": "code",
   "execution_count": 5,
   "id": "intimate-machinery",
   "metadata": {
    "execution": {
     "iopub.execute_input": "2021-04-27T00:06:59.385443Z",
     "iopub.status.busy": "2021-04-27T00:06:59.384755Z",
     "iopub.status.idle": "2021-04-27T00:06:59.441175Z",
     "shell.execute_reply": "2021-04-27T00:06:59.440537Z"
    },
    "papermill": {
     "duration": 0.101175,
     "end_time": "2021-04-27T00:06:59.441328",
     "exception": false,
     "start_time": "2021-04-27T00:06:59.340153",
     "status": "completed"
    },
    "tags": []
   },
   "outputs": [],
   "source": [
    "#hide\n",
    "mapping = get_mappings(paths['mapping'])"
   ]
  },
  {
   "cell_type": "code",
   "execution_count": 6,
   "id": "certified-tactics",
   "metadata": {
    "execution": {
     "iopub.execute_input": "2021-04-27T00:06:59.533946Z",
     "iopub.status.busy": "2021-04-27T00:06:59.533243Z",
     "iopub.status.idle": "2021-04-27T00:06:59.536488Z",
     "shell.execute_reply": "2021-04-27T00:06:59.535920Z"
    },
    "papermill": {
     "duration": 0.052056,
     "end_time": "2021-04-27T00:06:59.536628",
     "exception": false,
     "start_time": "2021-04-27T00:06:59.484572",
     "status": "completed"
    },
    "tags": []
   },
   "outputs": [],
   "source": [
    "#hide\n",
    "def get_template(path):\n",
    "    from urllib.parse import urlparse\n",
    "    if bool(urlparse(path).netloc):\n",
    "        from urllib.request import urlopen\n",
    "        return urlopen(path).read().decode('utf8')\n",
    "    return open(path).read()"
   ]
  },
  {
   "cell_type": "code",
   "execution_count": 7,
   "id": "realistic-blast",
   "metadata": {
    "execution": {
     "iopub.execute_input": "2021-04-27T00:06:59.626423Z",
     "iopub.status.busy": "2021-04-27T00:06:59.625757Z",
     "iopub.status.idle": "2021-04-27T00:06:59.627737Z",
     "shell.execute_reply": "2021-04-27T00:06:59.628284Z"
    },
    "papermill": {
     "duration": 0.051976,
     "end_time": "2021-04-27T00:06:59.628431",
     "exception": false,
     "start_time": "2021-04-27T00:06:59.576455",
     "status": "completed"
    },
    "tags": []
   },
   "outputs": [],
   "source": [
    "#hide\n",
    "def get_frame(name):\n",
    "    url = (\n",
    "        'https://raw.githubusercontent.com/CSSEGISandData/COVID-19/master/csse_covid_19_data/'\n",
    "        f'csse_covid_19_time_series/time_series_covid19_{name}_global.csv')\n",
    "    df = pd.read_csv(url)\n",
    "    # rename countries\n",
    "    df['Country/Region'] = df['Country/Region'].replace(mapping['replace.country'])\n",
    "    return df"
   ]
  },
  {
   "cell_type": "code",
   "execution_count": 8,
   "id": "affiliated-characterization",
   "metadata": {
    "execution": {
     "iopub.execute_input": "2021-04-27T00:06:59.718692Z",
     "iopub.status.busy": "2021-04-27T00:06:59.717932Z",
     "iopub.status.idle": "2021-04-27T00:06:59.719658Z",
     "shell.execute_reply": "2021-04-27T00:06:59.720416Z"
    },
    "papermill": {
     "duration": 0.050946,
     "end_time": "2021-04-27T00:06:59.720553",
     "exception": false,
     "start_time": "2021-04-27T00:06:59.669607",
     "status": "completed"
    },
    "tags": []
   },
   "outputs": [],
   "source": [
    "#hide\n",
    "def get_dates(df):\n",
    "    dt_cols = df.columns[~df.columns.isin(['Province/State', 'Country/Region', 'Lat', 'Long'])]\n",
    "    LAST_DATE_I = -1\n",
    "    # sometimes last column may be empty, then go backwards\n",
    "    for i in range(-1, -len(dt_cols), -1):\n",
    "        if not df[dt_cols[i]].fillna(0).eq(0).all():\n",
    "            LAST_DATE_I = i\n",
    "            break\n",
    "    return LAST_DATE_I, dt_cols"
   ]
  },
  {
   "cell_type": "code",
   "execution_count": 9,
   "id": "recent-optimization",
   "metadata": {
    "execution": {
     "iopub.execute_input": "2021-04-27T00:06:59.809224Z",
     "iopub.status.busy": "2021-04-27T00:06:59.808439Z",
     "iopub.status.idle": "2021-04-27T00:07:00.199698Z",
     "shell.execute_reply": "2021-04-27T00:07:00.198521Z"
    },
    "papermill": {
     "duration": 0.437853,
     "end_time": "2021-04-27T00:07:00.199852",
     "exception": false,
     "start_time": "2021-04-27T00:06:59.761999",
     "status": "completed"
    },
    "tags": []
   },
   "outputs": [],
   "source": [
    "#hide\n",
    "COL_REGION = 'Country/Region'\n",
    "# Confirmed, Recovered, Deaths\n",
    "df = get_frame('confirmed')\n",
    "# dft_: timeseries, dfc_: today country agg\n",
    "dft_cases = df\n",
    "dft_deaths = get_frame('deaths')\n",
    "dft_recovered = get_frame('recovered')\n",
    "LAST_DATE_I, dt_cols = get_dates(df)"
   ]
  },
  {
   "cell_type": "code",
   "execution_count": 10,
   "id": "absolute-copper",
   "metadata": {
    "execution": {
     "iopub.execute_input": "2021-04-27T00:07:00.286845Z",
     "iopub.status.busy": "2021-04-27T00:07:00.286169Z",
     "iopub.status.idle": "2021-04-27T00:07:00.288097Z",
     "shell.execute_reply": "2021-04-27T00:07:00.288760Z"
    },
    "papermill": {
     "duration": 0.048246,
     "end_time": "2021-04-27T00:07:00.288912",
     "exception": false,
     "start_time": "2021-04-27T00:07:00.240666",
     "status": "completed"
    },
    "tags": []
   },
   "outputs": [],
   "source": [
    "#hide\n",
    "LAST_DATE_I, dt_cols = get_dates(df)\n",
    "dt_today =dt_cols[LAST_DATE_I]\n",
    "# dt_5day = dt_cols[LAST_DATE_I - 5]\n",
    "dt_yday = dt_cols[LAST_DATE_I - 1]"
   ]
  },
  {
   "cell_type": "code",
   "execution_count": 11,
   "id": "restricted-sheriff",
   "metadata": {
    "execution": {
     "iopub.execute_input": "2021-04-27T00:07:00.378527Z",
     "iopub.status.busy": "2021-04-27T00:07:00.377778Z",
     "iopub.status.idle": "2021-04-27T00:07:00.384943Z",
     "shell.execute_reply": "2021-04-27T00:07:00.384382Z"
    },
    "papermill": {
     "duration": 0.05598,
     "end_time": "2021-04-27T00:07:00.385089",
     "exception": false,
     "start_time": "2021-04-27T00:07:00.329109",
     "status": "completed"
    },
    "tags": []
   },
   "outputs": [],
   "source": [
    "#hide\n",
    "dfc_cases = dft_cases.groupby(COL_REGION)[dt_today].sum()\n",
    "dfc_deaths = dft_deaths.groupby(COL_REGION)[dt_today].sum()\n",
    "# dfp_cases = dft_cases.groupby(COL_REGION)[dt_5day].sum()\n",
    "# dfp_deaths = dft_deaths.groupby(COL_REGION)[dt_5day].sum()\n",
    "dfp_cases = dft_cases.groupby(COL_REGION)[dt_yday].sum()\n",
    "dfp_deaths = dft_deaths.groupby(COL_REGION)[dt_yday].sum()"
   ]
  },
  {
   "cell_type": "code",
   "execution_count": 12,
   "id": "deluxe-hepatitis",
   "metadata": {
    "execution": {
     "iopub.execute_input": "2021-04-27T00:07:00.472688Z",
     "iopub.status.busy": "2021-04-27T00:07:00.472042Z",
     "iopub.status.idle": "2021-04-27T00:07:00.478724Z",
     "shell.execute_reply": "2021-04-27T00:07:00.478165Z"
    },
    "papermill": {
     "duration": 0.052438,
     "end_time": "2021-04-27T00:07:00.478855",
     "exception": false,
     "start_time": "2021-04-27T00:07:00.426417",
     "status": "completed"
    },
    "tags": []
   },
   "outputs": [],
   "source": [
    "#hide\n",
    "df_table = (pd.DataFrame(dict(Cases = dfc_cases, Deaths = dfc_deaths, PCases = dfp_cases, PDeaths = dfp_deaths))\n",
    "            .sort_values(by = ['Cases','Deaths'], ascending = [False, False])\n",
    "            .reset_index())"
   ]
  },
  {
   "cell_type": "code",
   "execution_count": 13,
   "id": "educational-chancellor",
   "metadata": {
    "execution": {
     "iopub.execute_input": "2021-04-27T00:07:00.576904Z",
     "iopub.status.busy": "2021-04-27T00:07:00.576201Z",
     "iopub.status.idle": "2021-04-27T00:07:00.592689Z",
     "shell.execute_reply": "2021-04-27T00:07:00.592136Z"
    },
    "papermill": {
     "duration": 0.073487,
     "end_time": "2021-04-27T00:07:00.592844",
     "exception": false,
     "start_time": "2021-04-27T00:07:00.519357",
     "status": "completed"
    },
    "tags": []
   },
   "outputs": [
    {
     "data": {
      "text/html": [
       "<div>\n",
       "<style scoped>\n",
       "    .dataframe tbody tr th:only-of-type {\n",
       "        vertical-align: middle;\n",
       "    }\n",
       "\n",
       "    .dataframe tbody tr th {\n",
       "        vertical-align: top;\n",
       "    }\n",
       "\n",
       "    .dataframe thead th {\n",
       "        text-align: right;\n",
       "    }\n",
       "</style>\n",
       "<table border=\"1\" class=\"dataframe\">\n",
       "  <thead>\n",
       "    <tr style=\"text-align: right;\">\n",
       "      <th></th>\n",
       "      <th>Country/Region</th>\n",
       "      <th>Cases</th>\n",
       "      <th>Deaths</th>\n",
       "      <th>PCases</th>\n",
       "      <th>PDeaths</th>\n",
       "      <th>Cases (+)</th>\n",
       "      <th>Deaths (+)</th>\n",
       "      <th>Fatality Rate</th>\n",
       "      <th>Continent</th>\n",
       "    </tr>\n",
       "  </thead>\n",
       "  <tbody>\n",
       "    <tr>\n",
       "      <th>0</th>\n",
       "      <td>US</td>\n",
       "      <td>32077178</td>\n",
       "      <td>572200</td>\n",
       "      <td>32045113</td>\n",
       "      <td>571921</td>\n",
       "      <td>32065</td>\n",
       "      <td>279</td>\n",
       "      <td>1.78</td>\n",
       "      <td>North America</td>\n",
       "    </tr>\n",
       "    <tr>\n",
       "      <th>1</th>\n",
       "      <td>India</td>\n",
       "      <td>17313163</td>\n",
       "      <td>195123</td>\n",
       "      <td>16960172</td>\n",
       "      <td>192311</td>\n",
       "      <td>352991</td>\n",
       "      <td>2812</td>\n",
       "      <td>1.13</td>\n",
       "      <td>Asia</td>\n",
       "    </tr>\n",
       "    <tr>\n",
       "      <th>2</th>\n",
       "      <td>Brazil</td>\n",
       "      <td>14340787</td>\n",
       "      <td>390797</td>\n",
       "      <td>14308215</td>\n",
       "      <td>389492</td>\n",
       "      <td>32572</td>\n",
       "      <td>1305</td>\n",
       "      <td>2.73</td>\n",
       "      <td>South America</td>\n",
       "    </tr>\n",
       "    <tr>\n",
       "      <th>3</th>\n",
       "      <td>France</td>\n",
       "      <td>5559121</td>\n",
       "      <td>103017</td>\n",
       "      <td>5534656</td>\n",
       "      <td>102872</td>\n",
       "      <td>24465</td>\n",
       "      <td>145</td>\n",
       "      <td>1.85</td>\n",
       "      <td>Europe</td>\n",
       "    </tr>\n",
       "    <tr>\n",
       "      <th>4</th>\n",
       "      <td>Russia</td>\n",
       "      <td>4708640</td>\n",
       "      <td>106434</td>\n",
       "      <td>4699988</td>\n",
       "      <td>106108</td>\n",
       "      <td>8652</td>\n",
       "      <td>326</td>\n",
       "      <td>2.26</td>\n",
       "      <td>Europe</td>\n",
       "    </tr>\n",
       "  </tbody>\n",
       "</table>\n",
       "</div>"
      ],
      "text/plain": [
       "  Country/Region     Cases  Deaths    PCases  PDeaths  Cases (+)  Deaths (+)  \\\n",
       "0             US  32077178  572200  32045113   571921      32065         279   \n",
       "1          India  17313163  195123  16960172   192311     352991        2812   \n",
       "2         Brazil  14340787  390797  14308215   389492      32572        1305   \n",
       "3         France   5559121  103017   5534656   102872      24465         145   \n",
       "4         Russia   4708640  106434   4699988   106108       8652         326   \n",
       "\n",
       "   Fatality Rate      Continent  \n",
       "0           1.78  North America  \n",
       "1           1.13           Asia  \n",
       "2           2.73  South America  \n",
       "3           1.85         Europe  \n",
       "4           2.26         Europe  "
      ]
     },
     "execution_count": 13,
     "metadata": {},
     "output_type": "execute_result"
    }
   ],
   "source": [
    "#hide\n",
    "for c in 'Cases, Deaths'.split(', '):\n",
    "    df_table[f'{c} (+)'] = (df_table[c] - df_table[f'P{c}']).clip(0)\n",
    "    #Clip ça veut dire, les chiffres negatif sont interdit\n",
    "df_table['Fatality Rate'] = (100* df_table['Deaths']/ df_table['Cases']).round(2)\n",
    "df_table['Continent'] = df_table['Country/Region'].map(mapping['map.continent'])\n",
    "df_table.head(5)"
   ]
  },
  {
   "cell_type": "code",
   "execution_count": 14,
   "id": "aboriginal-bulgaria",
   "metadata": {
    "execution": {
     "iopub.execute_input": "2021-04-27T00:07:00.678437Z",
     "iopub.status.busy": "2021-04-27T00:07:00.677696Z",
     "iopub.status.idle": "2021-04-27T00:07:00.680924Z",
     "shell.execute_reply": "2021-04-27T00:07:00.681586Z"
    },
    "papermill": {
     "duration": 0.048592,
     "end_time": "2021-04-27T00:07:00.681755",
     "exception": false,
     "start_time": "2021-04-27T00:07:00.633163",
     "status": "completed"
    },
    "tags": []
   },
   "outputs": [],
   "source": [
    "#hide\n",
    "#delete problematic countries from table\n",
    "df_table = df_table[~df_table['Country/Region'].isin(['Cape Verde', 'Cruise Ship', 'Kosovo'])]"
   ]
  },
  {
   "cell_type": "code",
   "execution_count": 15,
   "id": "fantastic-effect",
   "metadata": {
    "execution": {
     "iopub.execute_input": "2021-04-27T00:07:00.769490Z",
     "iopub.status.busy": "2021-04-27T00:07:00.768660Z",
     "iopub.status.idle": "2021-04-27T00:07:00.791247Z",
     "shell.execute_reply": "2021-04-27T00:07:00.792017Z"
    },
    "papermill": {
     "duration": 0.070927,
     "end_time": "2021-04-27T00:07:00.792182",
     "exception": false,
     "start_time": "2021-04-27T00:07:00.721255",
     "status": "completed"
    },
    "tags": []
   },
   "outputs": [
    {
     "data": {
      "text/html": [
       "<div>\n",
       "<style scoped>\n",
       "    .dataframe tbody tr th:only-of-type {\n",
       "        vertical-align: middle;\n",
       "    }\n",
       "\n",
       "    .dataframe tbody tr th {\n",
       "        vertical-align: top;\n",
       "    }\n",
       "\n",
       "    .dataframe thead th {\n",
       "        text-align: right;\n",
       "    }\n",
       "</style>\n",
       "<table border=\"1\" class=\"dataframe\">\n",
       "  <thead>\n",
       "    <tr style=\"text-align: right;\">\n",
       "      <th></th>\n",
       "      <th>Country/Region</th>\n",
       "      <th>Cases</th>\n",
       "      <th>Deaths</th>\n",
       "      <th>PCases</th>\n",
       "      <th>PDeaths</th>\n",
       "      <th>Cases (+)</th>\n",
       "      <th>Deaths (+)</th>\n",
       "      <th>Fatality Rate</th>\n",
       "      <th>Continent</th>\n",
       "    </tr>\n",
       "  </thead>\n",
       "  <tbody>\n",
       "    <tr>\n",
       "      <th>0</th>\n",
       "      <td>US</td>\n",
       "      <td>32077178</td>\n",
       "      <td>572200</td>\n",
       "      <td>32045113</td>\n",
       "      <td>571921</td>\n",
       "      <td>32065</td>\n",
       "      <td>279</td>\n",
       "      <td>1.8</td>\n",
       "      <td>North America</td>\n",
       "    </tr>\n",
       "    <tr>\n",
       "      <th>1</th>\n",
       "      <td>India</td>\n",
       "      <td>17313163</td>\n",
       "      <td>195123</td>\n",
       "      <td>16960172</td>\n",
       "      <td>192311</td>\n",
       "      <td>352991</td>\n",
       "      <td>2812</td>\n",
       "      <td>1.1</td>\n",
       "      <td>Asia</td>\n",
       "    </tr>\n",
       "    <tr>\n",
       "      <th>2</th>\n",
       "      <td>Brazil</td>\n",
       "      <td>14340787</td>\n",
       "      <td>390797</td>\n",
       "      <td>14308215</td>\n",
       "      <td>389492</td>\n",
       "      <td>32572</td>\n",
       "      <td>1305</td>\n",
       "      <td>2.7</td>\n",
       "      <td>South America</td>\n",
       "    </tr>\n",
       "    <tr>\n",
       "      <th>3</th>\n",
       "      <td>France</td>\n",
       "      <td>5559121</td>\n",
       "      <td>103017</td>\n",
       "      <td>5534656</td>\n",
       "      <td>102872</td>\n",
       "      <td>24465</td>\n",
       "      <td>145</td>\n",
       "      <td>1.9</td>\n",
       "      <td>Europe</td>\n",
       "    </tr>\n",
       "    <tr>\n",
       "      <th>4</th>\n",
       "      <td>Russia</td>\n",
       "      <td>4708640</td>\n",
       "      <td>106434</td>\n",
       "      <td>4699988</td>\n",
       "      <td>106108</td>\n",
       "      <td>8652</td>\n",
       "      <td>326</td>\n",
       "      <td>2.3</td>\n",
       "      <td>Europe</td>\n",
       "    </tr>\n",
       "  </tbody>\n",
       "</table>\n",
       "</div>"
      ],
      "text/plain": [
       "  Country/Region     Cases  Deaths    PCases  PDeaths  Cases (+)  Deaths (+)  \\\n",
       "0             US  32077178  572200  32045113   571921      32065         279   \n",
       "1          India  17313163  195123  16960172   192311     352991        2812   \n",
       "2         Brazil  14340787  390797  14308215   389492      32572        1305   \n",
       "3         France   5559121  103017   5534656   102872      24465         145   \n",
       "4         Russia   4708640  106434   4699988   106108       8652         326   \n",
       "\n",
       "   Fatality Rate      Continent  \n",
       "0            1.8  North America  \n",
       "1            1.1           Asia  \n",
       "2            2.7  South America  \n",
       "3            1.9         Europe  \n",
       "4            2.3         Europe  "
      ]
     },
     "execution_count": 15,
     "metadata": {},
     "output_type": "execute_result"
    }
   ],
   "source": [
    "#hide\n",
    "df_table = (pd.DataFrame(dict(Cases=dfc_cases, Deaths=dfc_deaths, PCases=dfp_cases, PDeaths=dfp_deaths))\n",
    "             .sort_values(by=['Cases', 'Deaths'], ascending=[False, False])\n",
    "             .reset_index())\n",
    "df_table.rename(columns={'index': 'Country/Region'}, inplace=True)\n",
    "for c in 'Cases, Deaths'.split(', '):\n",
    "    df_table[f'{c} (+)'] = (df_table[c] - df_table[f'P{c}']).clip(0)  # DATA BUG\n",
    "df_table['Fatality Rate'] = (100 * df_table['Deaths'] / df_table['Cases']).round(1)\n",
    "df_table['Continent'] = df_table['Country/Region'].map(mapping['map.continent'])\n",
    "df_table.head(5)"
   ]
  },
  {
   "cell_type": "code",
   "execution_count": 16,
   "id": "fewer-occasion",
   "metadata": {
    "execution": {
     "iopub.execute_input": "2021-04-27T00:07:00.880512Z",
     "iopub.status.busy": "2021-04-27T00:07:00.879755Z",
     "iopub.status.idle": "2021-04-27T00:07:00.882489Z",
     "shell.execute_reply": "2021-04-27T00:07:00.881857Z"
    },
    "papermill": {
     "duration": 0.049165,
     "end_time": "2021-04-27T00:07:00.882619",
     "exception": false,
     "start_time": "2021-04-27T00:07:00.833454",
     "status": "completed"
    },
    "tags": []
   },
   "outputs": [],
   "source": [
    "#hide\n",
    "#delete problematic countries from table\n",
    "df_table = df_table[~df_table['Country/Region'].isin(['Cape Verde', 'Cruise Ship', 'Kosovo'])]"
   ]
  },
  {
   "cell_type": "code",
   "execution_count": 17,
   "id": "related-center",
   "metadata": {
    "execution": {
     "iopub.execute_input": "2021-04-27T00:07:00.984034Z",
     "iopub.status.busy": "2021-04-27T00:07:00.983351Z",
     "iopub.status.idle": "2021-04-27T00:07:01.001778Z",
     "shell.execute_reply": "2021-04-27T00:07:01.000867Z"
    },
    "papermill": {
     "duration": 0.070722,
     "end_time": "2021-04-27T00:07:01.001931",
     "exception": false,
     "start_time": "2021-04-27T00:07:00.931209",
     "status": "completed"
    },
    "tags": []
   },
   "outputs": [],
   "source": [
    "#hide\n",
    "metrics = [df_table.columns[index] for index in [1,2,5,6]]\n",
    "# s_china = df_table[df_table['Country/Region'].eq('China')][metrics].sum().add_prefix('China ')\n",
    "s_us = df_table[df_table['Country/Region'].eq('US')][metrics].sum().add_prefix('US ')\n",
    "s_eu = df_table[df_table['Continent'].eq('Europe')][metrics].sum().add_prefix('EU ')\n",
    "s_ind = df_table[df_table['Country/Region'].eq('India')][metrics].sum().add_prefix('India ')\n",
    "summary = {'updated': pd.to_datetime(dt_today), 'since': pd.to_datetime(dt_yday)}\n",
    "summary = {'updated': pd.to_datetime(dt_today), 'since': pd.to_datetime(dt_yday)}\n",
    "summary = {**summary, **df_table[metrics].sum(), **s_ind, **s_us, **s_eu}"
   ]
  },
  {
   "cell_type": "code",
   "execution_count": 18,
   "id": "engaging-syndrome",
   "metadata": {
    "execution": {
     "iopub.execute_input": "2021-04-27T00:07:01.094806Z",
     "iopub.status.busy": "2021-04-27T00:07:01.094037Z",
     "iopub.status.idle": "2021-04-27T00:07:01.107379Z",
     "shell.execute_reply": "2021-04-27T00:07:01.106770Z"
    },
    "papermill": {
     "duration": 0.062,
     "end_time": "2021-04-27T00:07:01.107511",
     "exception": false,
     "start_time": "2021-04-27T00:07:01.045511",
     "status": "completed"
    },
    "tags": []
   },
   "outputs": [],
   "source": [
    "#hide\n",
    "dft_ct_new_cases = dft_cases.groupby(COL_REGION)[dt_cols].sum().diff(axis=1).fillna(0).astype(int)"
   ]
  },
  {
   "cell_type": "code",
   "execution_count": 19,
   "id": "neutral-assignment",
   "metadata": {
    "execution": {
     "iopub.execute_input": "2021-04-27T00:07:01.198550Z",
     "iopub.status.busy": "2021-04-27T00:07:01.197881Z",
     "iopub.status.idle": "2021-04-27T00:07:01.199870Z",
     "shell.execute_reply": "2021-04-27T00:07:01.200442Z"
    },
    "papermill": {
     "duration": 0.050074,
     "end_time": "2021-04-27T00:07:01.200589",
     "exception": false,
     "start_time": "2021-04-27T00:07:01.150515",
     "status": "completed"
    },
    "tags": []
   },
   "outputs": [],
   "source": [
    "#hide\n",
    "everydaycases = dft_ct_new_cases.cumsum(axis=1)"
   ]
  },
  {
   "cell_type": "code",
   "execution_count": 20,
   "id": "parliamentary-calgary",
   "metadata": {
    "execution": {
     "iopub.execute_input": "2021-04-27T00:07:01.286968Z",
     "iopub.status.busy": "2021-04-27T00:07:01.286288Z",
     "iopub.status.idle": "2021-04-27T00:07:01.888590Z",
     "shell.execute_reply": "2021-04-27T00:07:01.888013Z"
    },
    "papermill": {
     "duration": 0.647312,
     "end_time": "2021-04-27T00:07:01.888744",
     "exception": false,
     "start_time": "2021-04-27T00:07:01.241432",
     "status": "completed"
    },
    "tags": []
   },
   "outputs": [],
   "source": [
    "#hide\n",
    "import pandas as pd\n",
    "import matplotlib.pyplot as plt\n",
    "import matplotlib.ticker as ticker\n",
    "import matplotlib.animation as animation\n",
    "from IPython.display import HTML"
   ]
  },
  {
   "cell_type": "code",
   "execution_count": 21,
   "id": "lasting-extraction",
   "metadata": {
    "execution": {
     "iopub.execute_input": "2021-04-27T00:07:01.975389Z",
     "iopub.status.busy": "2021-04-27T00:07:01.974704Z",
     "iopub.status.idle": "2021-04-27T00:07:01.980449Z",
     "shell.execute_reply": "2021-04-27T00:07:01.980965Z"
    },
    "papermill": {
     "duration": 0.051615,
     "end_time": "2021-04-27T00:07:01.981117",
     "exception": false,
     "start_time": "2021-04-27T00:07:01.929502",
     "status": "completed"
    },
    "tags": []
   },
   "outputs": [],
   "source": [
    "#hide\n",
    "t = everydaycases.stack()"
   ]
  },
  {
   "cell_type": "code",
   "execution_count": 22,
   "id": "premier-sleeve",
   "metadata": {
    "execution": {
     "iopub.execute_input": "2021-04-27T00:07:02.069252Z",
     "iopub.status.busy": "2021-04-27T00:07:02.067468Z",
     "iopub.status.idle": "2021-04-27T00:07:02.075831Z",
     "shell.execute_reply": "2021-04-27T00:07:02.076507Z"
    },
    "papermill": {
     "duration": 0.054349,
     "end_time": "2021-04-27T00:07:02.076673",
     "exception": false,
     "start_time": "2021-04-27T00:07:02.022324",
     "status": "completed"
    },
    "tags": []
   },
   "outputs": [],
   "source": [
    "#hide\n",
    "g = t.reset_index(['Country/Region'])"
   ]
  },
  {
   "cell_type": "code",
   "execution_count": 23,
   "id": "distributed-pittsburgh",
   "metadata": {
    "execution": {
     "iopub.execute_input": "2021-04-27T00:07:02.164606Z",
     "iopub.status.busy": "2021-04-27T00:07:02.163943Z",
     "iopub.status.idle": "2021-04-27T00:07:02.166528Z",
     "shell.execute_reply": "2021-04-27T00:07:02.165994Z"
    },
    "papermill": {
     "duration": 0.048022,
     "end_time": "2021-04-27T00:07:02.166666",
     "exception": false,
     "start_time": "2021-04-27T00:07:02.118644",
     "status": "completed"
    },
    "tags": []
   },
   "outputs": [],
   "source": [
    "#hide\n",
    "g.index.name = 'date'"
   ]
  },
  {
   "cell_type": "code",
   "execution_count": 24,
   "id": "naked-donor",
   "metadata": {
    "execution": {
     "iopub.execute_input": "2021-04-27T00:07:02.253738Z",
     "iopub.status.busy": "2021-04-27T00:07:02.252724Z",
     "iopub.status.idle": "2021-04-27T00:07:02.254496Z",
     "shell.execute_reply": "2021-04-27T00:07:02.255126Z"
    },
    "papermill": {
     "duration": 0.047568,
     "end_time": "2021-04-27T00:07:02.255285",
     "exception": false,
     "start_time": "2021-04-27T00:07:02.207717",
     "status": "completed"
    },
    "tags": []
   },
   "outputs": [],
   "source": [
    "# #hide\n",
    "# g = g.reset_index(['date'])"
   ]
  },
  {
   "cell_type": "code",
   "execution_count": 25,
   "id": "incomplete-mustang",
   "metadata": {
    "execution": {
     "iopub.execute_input": "2021-04-27T00:07:02.349784Z",
     "iopub.status.busy": "2021-04-27T00:07:02.348978Z",
     "iopub.status.idle": "2021-04-27T00:07:02.350897Z",
     "shell.execute_reply": "2021-04-27T00:07:02.353397Z"
    },
    "papermill": {
     "duration": 0.05758,
     "end_time": "2021-04-27T00:07:02.353563",
     "exception": false,
     "start_time": "2021-04-27T00:07:02.295983",
     "status": "completed"
    },
    "tags": []
   },
   "outputs": [],
   "source": [
    "#hide\n",
    "# g.head()"
   ]
  },
  {
   "cell_type": "code",
   "execution_count": 26,
   "id": "specific-kruger",
   "metadata": {
    "execution": {
     "iopub.execute_input": "2021-04-27T00:07:02.438180Z",
     "iopub.status.busy": "2021-04-27T00:07:02.437473Z",
     "iopub.status.idle": "2021-04-27T00:07:02.440124Z",
     "shell.execute_reply": "2021-04-27T00:07:02.439464Z"
    },
    "papermill": {
     "duration": 0.046256,
     "end_time": "2021-04-27T00:07:02.440260",
     "exception": false,
     "start_time": "2021-04-27T00:07:02.394004",
     "status": "completed"
    },
    "tags": []
   },
   "outputs": [],
   "source": [
    "#hide\n",
    "# g.columns = ['date','country','cases']"
   ]
  },
  {
   "cell_type": "code",
   "execution_count": 27,
   "id": "tender-conversion",
   "metadata": {
    "execution": {
     "iopub.execute_input": "2021-04-27T00:07:02.525906Z",
     "iopub.status.busy": "2021-04-27T00:07:02.525089Z",
     "iopub.status.idle": "2021-04-27T00:07:02.527242Z",
     "shell.execute_reply": "2021-04-27T00:07:02.527785Z"
    },
    "papermill": {
     "duration": 0.047698,
     "end_time": "2021-04-27T00:07:02.527940",
     "exception": false,
     "start_time": "2021-04-27T00:07:02.480242",
     "status": "completed"
    },
    "tags": []
   },
   "outputs": [],
   "source": [
    "#hide\n",
    "# g['continent'] = g.country"
   ]
  },
  {
   "cell_type": "code",
   "execution_count": 28,
   "id": "substantial-wilderness",
   "metadata": {
    "execution": {
     "iopub.execute_input": "2021-04-27T00:07:02.616914Z",
     "iopub.status.busy": "2021-04-27T00:07:02.616239Z",
     "iopub.status.idle": "2021-04-27T00:07:02.618701Z",
     "shell.execute_reply": "2021-04-27T00:07:02.618131Z"
    },
    "papermill": {
     "duration": 0.050695,
     "end_time": "2021-04-27T00:07:02.618834",
     "exception": false,
     "start_time": "2021-04-27T00:07:02.568139",
     "status": "completed"
    },
    "tags": []
   },
   "outputs": [],
   "source": [
    "#hide\n",
    "# cols = list(g.columns.values)"
   ]
  },
  {
   "cell_type": "code",
   "execution_count": 29,
   "id": "solved-farming",
   "metadata": {
    "execution": {
     "iopub.execute_input": "2021-04-27T00:07:02.705928Z",
     "iopub.status.busy": "2021-04-27T00:07:02.705244Z",
     "iopub.status.idle": "2021-04-27T00:07:02.707829Z",
     "shell.execute_reply": "2021-04-27T00:07:02.707264Z"
    },
    "papermill": {
     "duration": 0.047813,
     "end_time": "2021-04-27T00:07:02.707962",
     "exception": false,
     "start_time": "2021-04-27T00:07:02.660149",
     "status": "completed"
    },
    "tags": []
   },
   "outputs": [],
   "source": [
    "#hide\n",
    "# cols.insert(0, cols.pop())"
   ]
  },
  {
   "cell_type": "code",
   "execution_count": 30,
   "id": "executed-adoption",
   "metadata": {
    "execution": {
     "iopub.execute_input": "2021-04-27T00:07:02.791887Z",
     "iopub.status.busy": "2021-04-27T00:07:02.791184Z",
     "iopub.status.idle": "2021-04-27T00:07:02.793748Z",
     "shell.execute_reply": "2021-04-27T00:07:02.793021Z"
    },
    "papermill": {
     "duration": 0.046441,
     "end_time": "2021-04-27T00:07:02.793932",
     "exception": false,
     "start_time": "2021-04-27T00:07:02.747491",
     "status": "completed"
    },
    "tags": []
   },
   "outputs": [],
   "source": [
    "#hide\n",
    "# g = g[cols]"
   ]
  },
  {
   "cell_type": "code",
   "execution_count": 31,
   "id": "subject-dublin",
   "metadata": {
    "execution": {
     "iopub.execute_input": "2021-04-27T00:07:02.882962Z",
     "iopub.status.busy": "2021-04-27T00:07:02.882203Z",
     "iopub.status.idle": "2021-04-27T00:07:02.884203Z",
     "shell.execute_reply": "2021-04-27T00:07:02.883630Z"
    },
    "papermill": {
     "duration": 0.048845,
     "end_time": "2021-04-27T00:07:02.884338",
     "exception": false,
     "start_time": "2021-04-27T00:07:02.835493",
     "status": "completed"
    },
    "tags": []
   },
   "outputs": [],
   "source": [
    "#hide\n",
    "# g['continent'] = g['continent'].map(mapping['map.continent'])"
   ]
  },
  {
   "cell_type": "code",
   "execution_count": 32,
   "id": "freelance-scout",
   "metadata": {
    "execution": {
     "iopub.execute_input": "2021-04-27T00:07:02.970814Z",
     "iopub.status.busy": "2021-04-27T00:07:02.970118Z",
     "iopub.status.idle": "2021-04-27T00:07:02.972572Z",
     "shell.execute_reply": "2021-04-27T00:07:02.971911Z"
    },
    "papermill": {
     "duration": 0.047529,
     "end_time": "2021-04-27T00:07:02.972733",
     "exception": false,
     "start_time": "2021-04-27T00:07:02.925204",
     "status": "completed"
    },
    "tags": []
   },
   "outputs": [],
   "source": [
    "#hide\n",
    "# g.head()"
   ]
  },
  {
   "cell_type": "code",
   "execution_count": 33,
   "id": "limited-engine",
   "metadata": {
    "execution": {
     "iopub.execute_input": "2021-04-27T00:07:03.060131Z",
     "iopub.status.busy": "2021-04-27T00:07:03.059392Z",
     "iopub.status.idle": "2021-04-27T00:07:03.062160Z",
     "shell.execute_reply": "2021-04-27T00:07:03.061526Z"
    },
    "papermill": {
     "duration": 0.048565,
     "end_time": "2021-04-27T00:07:03.062328",
     "exception": false,
     "start_time": "2021-04-27T00:07:03.013763",
     "status": "completed"
    },
    "tags": []
   },
   "outputs": [],
   "source": [
    "# hide\n",
    "# g['date'] = g['date'].astype('datetime64[ns]')"
   ]
  },
  {
   "cell_type": "code",
   "execution_count": 34,
   "id": "sophisticated-supervisor",
   "metadata": {
    "execution": {
     "iopub.execute_input": "2021-04-27T00:07:03.149545Z",
     "iopub.status.busy": "2021-04-27T00:07:03.148870Z",
     "iopub.status.idle": "2021-04-27T00:07:03.151656Z",
     "shell.execute_reply": "2021-04-27T00:07:03.150932Z"
    },
    "papermill": {
     "duration": 0.047989,
     "end_time": "2021-04-27T00:07:03.151791",
     "exception": false,
     "start_time": "2021-04-27T00:07:03.103802",
     "status": "completed"
    },
    "tags": []
   },
   "outputs": [],
   "source": [
    "#hide\n",
    "# g['date'] = g.date.dt.dayofyear"
   ]
  },
  {
   "cell_type": "code",
   "execution_count": 35,
   "id": "inside-dubai",
   "metadata": {
    "execution": {
     "iopub.execute_input": "2021-04-27T00:07:03.240330Z",
     "iopub.status.busy": "2021-04-27T00:07:03.239656Z",
     "iopub.status.idle": "2021-04-27T00:07:03.242533Z",
     "shell.execute_reply": "2021-04-27T00:07:03.241889Z"
    },
    "papermill": {
     "duration": 0.048474,
     "end_time": "2021-04-27T00:07:03.242703",
     "exception": false,
     "start_time": "2021-04-27T00:07:03.194229",
     "status": "completed"
    },
    "tags": []
   },
   "outputs": [],
   "source": [
    "#hide\n",
    "# g = g.rename(columns= {'continent':'group','country':'name','cases':'value'})"
   ]
  },
  {
   "cell_type": "code",
   "execution_count": 36,
   "id": "fleet-motorcycle",
   "metadata": {
    "execution": {
     "iopub.execute_input": "2021-04-27T00:07:03.332124Z",
     "iopub.status.busy": "2021-04-27T00:07:03.331451Z",
     "iopub.status.idle": "2021-04-27T00:07:03.334228Z",
     "shell.execute_reply": "2021-04-27T00:07:03.333323Z"
    },
    "papermill": {
     "duration": 0.047961,
     "end_time": "2021-04-27T00:07:03.334362",
     "exception": false,
     "start_time": "2021-04-27T00:07:03.286401",
     "status": "completed"
    },
    "tags": []
   },
   "outputs": [],
   "source": [
    "#hide\n",
    "# cols = ['name','group','day','value']"
   ]
  },
  {
   "cell_type": "code",
   "execution_count": 37,
   "id": "continued-sleeping",
   "metadata": {
    "execution": {
     "iopub.execute_input": "2021-04-27T00:07:03.420550Z",
     "iopub.status.busy": "2021-04-27T00:07:03.419894Z",
     "iopub.status.idle": "2021-04-27T00:07:03.421854Z",
     "shell.execute_reply": "2021-04-27T00:07:03.422412Z"
    },
    "papermill": {
     "duration": 0.047574,
     "end_time": "2021-04-27T00:07:03.422558",
     "exception": false,
     "start_time": "2021-04-27T00:07:03.374984",
     "status": "completed"
    },
    "tags": []
   },
   "outputs": [],
   "source": [
    "#hide\n",
    "# g.rename(columns= {'date':'day'},inplace = True)"
   ]
  },
  {
   "cell_type": "code",
   "execution_count": 38,
   "id": "major-fight",
   "metadata": {
    "execution": {
     "iopub.execute_input": "2021-04-27T00:07:03.509688Z",
     "iopub.status.busy": "2021-04-27T00:07:03.509006Z",
     "iopub.status.idle": "2021-04-27T00:07:03.511507Z",
     "shell.execute_reply": "2021-04-27T00:07:03.510893Z"
    },
    "papermill": {
     "duration": 0.048339,
     "end_time": "2021-04-27T00:07:03.511637",
     "exception": false,
     "start_time": "2021-04-27T00:07:03.463298",
     "status": "completed"
    },
    "tags": []
   },
   "outputs": [],
   "source": [
    "#hide\n",
    "# g = g[cols]"
   ]
  },
  {
   "cell_type": "code",
   "execution_count": 39,
   "id": "structured-mobile",
   "metadata": {
    "execution": {
     "iopub.execute_input": "2021-04-27T00:07:03.597824Z",
     "iopub.status.busy": "2021-04-27T00:07:03.597083Z",
     "iopub.status.idle": "2021-04-27T00:07:03.599887Z",
     "shell.execute_reply": "2021-04-27T00:07:03.599211Z"
    },
    "papermill": {
     "duration": 0.048097,
     "end_time": "2021-04-27T00:07:03.600015",
     "exception": false,
     "start_time": "2021-04-27T00:07:03.551918",
     "status": "completed"
    },
    "tags": []
   },
   "outputs": [],
   "source": [
    "# #hide\n",
    "# g = g[g.group.notna()]"
   ]
  },
  {
   "cell_type": "code",
   "execution_count": 40,
   "id": "determined-closing",
   "metadata": {
    "execution": {
     "iopub.execute_input": "2021-04-27T00:07:03.687032Z",
     "iopub.status.busy": "2021-04-27T00:07:03.686357Z",
     "iopub.status.idle": "2021-04-27T00:07:03.688868Z",
     "shell.execute_reply": "2021-04-27T00:07:03.688298Z"
    },
    "papermill": {
     "duration": 0.047037,
     "end_time": "2021-04-27T00:07:03.689017",
     "exception": false,
     "start_time": "2021-04-27T00:07:03.641980",
     "status": "completed"
    },
    "tags": []
   },
   "outputs": [],
   "source": [
    "# #hide\n",
    "# colors = dict(zip(\n",
    "#     [\"Oceania\", \"Europe\", \"Asia\", \"South America\", \"Middle East\", \"North America\", \"Africa\"],\n",
    "#     [\"#adb0ff\", \"#ffb3ff\", \"#90d595\", \"#e48381\", \"#aafbff\", \"#f7bb5f\", \"#eafb50\"]\n",
    "# ))\n",
    "# group_lk = g.set_index('name')['group'].to_dict()"
   ]
  },
  {
   "cell_type": "code",
   "execution_count": null,
   "id": "gross-drinking",
   "metadata": {
    "papermill": {
     "duration": 0.042093,
     "end_time": "2021-04-27T00:07:03.773236",
     "exception": false,
     "start_time": "2021-04-27T00:07:03.731143",
     "status": "completed"
    },
    "tags": []
   },
   "outputs": [],
   "source": []
  },
  {
   "cell_type": "code",
   "execution_count": 41,
   "id": "subject-macintosh",
   "metadata": {
    "execution": {
     "iopub.execute_input": "2021-04-27T00:07:03.859982Z",
     "iopub.status.busy": "2021-04-27T00:07:03.859272Z",
     "iopub.status.idle": "2021-04-27T00:07:03.861244Z",
     "shell.execute_reply": "2021-04-27T00:07:03.861812Z"
    },
    "papermill": {
     "duration": 0.048156,
     "end_time": "2021-04-27T00:07:03.861963",
     "exception": false,
     "start_time": "2021-04-27T00:07:03.813807",
     "status": "completed"
    },
    "tags": []
   },
   "outputs": [],
   "source": [
    "# #hide\n",
    "# fig, ax = plt.subplots(figsize=(15, 8))\n",
    "\n",
    "# def draw_barchart(current_day):\n",
    "#     dff = g[g['day'].eq(current_day)].sort_values(by='value', ascending=True).tail(10)\n",
    "#     ax.clear()\n",
    "#     ax.barh(dff['name'], dff['value'], color=[colors[group_lk[x]] for x in dff['name']])\n",
    "#     dx = dff['value'].max() / 200\n",
    "    \n",
    "#     for i, (value, name) in enumerate(zip(dff['value'], dff['name'])):\n",
    "#         ax.text(value-dx, i,     name,           size=14, weight=600, ha='right', va='bottom')\n",
    "#         ax.text(value-dx, i-.25, group_lk[name], size=10, color='#444444', ha='right', va='baseline')\n",
    "#         ax.text(value+dx, i,     f'{value:,.0f}',  size=14, ha='left',  va='center')\n",
    "#     ax.text(1, 0.4, current_day, transform=ax.transAxes, color='#777777', size=46, ha='right', weight=800)\n",
    "#     ax.text(0, 1.06, 'Population (thousands)', transform=ax.transAxes, size=12, color='#777777')\n",
    "#     ax.xaxis.set_major_formatter(ticker.StrMethodFormatter('{x:,.0f}'))\n",
    "#     ax.xaxis.set_ticks_position('top')\n",
    "#     ax.tick_params(axis='x', colors='#777777', labelsize=12)\n",
    "#     ax.set_yticks([])\n",
    "#     ax.margins(0, 0.01)\n",
    "#     ax.grid(which='major', axis='x', linestyle='-')\n",
    "#     ax.set_axisbelow(True)\n",
    "    \n",
    "#     ax.text(0, 1.15, 'Coronavirus',\n",
    "#             transform=ax.transAxes, size=24, weight=600, ha='left', va='top')\n",
    "# #     ax.text(1, 0, 'by @pratapvardhan; credit @jburnmurdoch', transform=ax.transAxes, color='#777777', ha='right',\n",
    "# #             bbox=dict(facecolor='white', alpha=0.8, edgecolor='white'))\n",
    "#     plt.box(False)"
   ]
  },
  {
   "cell_type": "code",
   "execution_count": 42,
   "id": "sexual-wages",
   "metadata": {
    "execution": {
     "iopub.execute_input": "2021-04-27T00:07:03.948241Z",
     "iopub.status.busy": "2021-04-27T00:07:03.947496Z",
     "iopub.status.idle": "2021-04-27T00:07:03.950288Z",
     "shell.execute_reply": "2021-04-27T00:07:03.949580Z"
    },
    "papermill": {
     "duration": 0.047917,
     "end_time": "2021-04-27T00:07:03.950422",
     "exception": false,
     "start_time": "2021-04-27T00:07:03.902505",
     "status": "completed"
    },
    "tags": []
   },
   "outputs": [],
   "source": [
    "# #hide_input\n",
    "# fig, ax = plt.subplots(figsize=(15, 8))\n",
    "# animator = animation.FuncAnimation(fig, draw_barchart, frames=range(g.day.values.min(), g.day.values.max()))\n",
    "# HTML(animator.to_jshtml())\n",
    "# # or use animator.to_html5_video() or animator.save() "
   ]
  },
  {
   "cell_type": "code",
   "execution_count": null,
   "id": "australian-container",
   "metadata": {
    "papermill": {
     "duration": 0.040632,
     "end_time": "2021-04-27T00:07:04.032279",
     "exception": false,
     "start_time": "2021-04-27T00:07:03.991647",
     "status": "completed"
    },
    "tags": []
   },
   "outputs": [],
   "source": []
  },
  {
   "cell_type": "code",
   "execution_count": null,
   "id": "mediterranean-pontiac",
   "metadata": {
    "papermill": {
     "duration": 0.043977,
     "end_time": "2021-04-27T00:07:04.117156",
     "exception": false,
     "start_time": "2021-04-27T00:07:04.073179",
     "status": "completed"
    },
    "tags": []
   },
   "outputs": [],
   "source": []
  },
  {
   "cell_type": "code",
   "execution_count": null,
   "id": "aging-legislature",
   "metadata": {
    "papermill": {
     "duration": 0.045052,
     "end_time": "2021-04-27T00:07:04.209310",
     "exception": false,
     "start_time": "2021-04-27T00:07:04.164258",
     "status": "completed"
    },
    "tags": []
   },
   "outputs": [],
   "source": []
  }
 ],
 "metadata": {
  "kernelspec": {
   "display_name": "Python 3",
   "language": "python",
   "name": "python3"
  },
  "language_info": {
   "codemirror_mode": {
    "name": "ipython",
    "version": 3
   },
   "file_extension": ".py",
   "mimetype": "text/x-python",
   "name": "python",
   "nbconvert_exporter": "python",
   "pygments_lexer": "ipython3",
   "version": "3.6.13"
  },
  "papermill": {
   "duration": 7.379618,
   "end_time": "2021-04-27T00:07:04.662245",
   "environment_variables": {},
   "exception": null,
   "input_path": "2020-03-21-covid19exp.ipynb",
   "output_path": "2020-03-21-covid19exp.ipynb",
   "parameters": {},
   "start_time": "2021-04-27T00:06:57.282627",
   "version": "2.0.0"
  }
 },
 "nbformat": 4,
 "nbformat_minor": 5
}