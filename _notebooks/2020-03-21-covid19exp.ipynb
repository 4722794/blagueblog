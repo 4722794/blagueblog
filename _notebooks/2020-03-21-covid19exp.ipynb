{
 "cells": [
  {
   "cell_type": "markdown",
   "metadata": {
    "papermill": {
     "duration": 0.042153,
     "end_time": "2020-11-29T12:06:53.700461",
     "exception": false,
     "start_time": "2020-11-29T12:06:53.658308",
     "status": "completed"
    },
    "tags": []
   },
   "source": [
    "# COVID-19 Case Race\n",
    "> A race chart to see rising cases around the world\n",
    "\n",
    "- author: Hargun Oberoi\n",
    "- image: images/covid-overview.png\n",
    "- hide: false\n",
    "- badges: false"
   ]
  },
  {
   "cell_type": "code",
   "execution_count": 1,
   "metadata": {
    "execution": {
     "iopub.execute_input": "2020-11-29T12:06:53.780774Z",
     "iopub.status.busy": "2020-11-29T12:06:53.780138Z",
     "iopub.status.idle": "2020-11-29T12:06:54.173689Z",
     "shell.execute_reply": "2020-11-29T12:06:54.174235Z"
    },
    "papermill": {
     "duration": 0.436702,
     "end_time": "2020-11-29T12:06:54.174447",
     "exception": false,
     "start_time": "2020-11-29T12:06:53.737745",
     "status": "completed"
    },
    "tags": []
   },
   "outputs": [],
   "source": [
    "#hide\n",
    "import numpy as np\n",
    "import pandas as pd\n",
    "from jinja2 import Template\n",
    "from IPython.display import HTML"
   ]
  },
  {
   "cell_type": "code",
   "execution_count": 2,
   "metadata": {
    "execution": {
     "iopub.execute_input": "2020-11-29T12:06:54.253233Z",
     "iopub.status.busy": "2020-11-29T12:06:54.252537Z",
     "iopub.status.idle": "2020-11-29T12:06:54.254816Z",
     "shell.execute_reply": "2020-11-29T12:06:54.255321Z"
    },
    "papermill": {
     "duration": 0.042967,
     "end_time": "2020-11-29T12:06:54.255469",
     "exception": false,
     "start_time": "2020-11-29T12:06:54.212502",
     "status": "completed"
    },
    "tags": []
   },
   "outputs": [],
   "source": [
    "#hide\n",
    "\n",
    "# FETCH\n",
    "base_url = 'https://raw.githubusercontent.com/pratapvardhan/notebooks/master/covid19/'\n",
    "paths = {\n",
    "    'mapping': base_url + 'mapping_countries.csv',\n",
    "    'overview': base_url + 'overview.tpl'\n",
    "}"
   ]
  },
  {
   "cell_type": "code",
   "execution_count": 3,
   "metadata": {
    "execution": {
     "iopub.execute_input": "2020-11-29T12:06:54.337283Z",
     "iopub.status.busy": "2020-11-29T12:06:54.336620Z",
     "iopub.status.idle": "2020-11-29T12:06:54.338988Z",
     "shell.execute_reply": "2020-11-29T12:06:54.339652Z"
    },
    "papermill": {
     "duration": 0.049612,
     "end_time": "2020-11-29T12:06:54.339801",
     "exception": false,
     "start_time": "2020-11-29T12:06:54.290189",
     "status": "completed"
    },
    "tags": []
   },
   "outputs": [
    {
     "data": {
      "text/plain": [
       "'https://raw.githubusercontent.com/pratapvardhan/notebooks/master/covid19/mapping_countries.csv'"
      ]
     },
     "execution_count": 3,
     "metadata": {},
     "output_type": "execute_result"
    }
   ],
   "source": [
    "#hide\n",
    "paths['mapping']"
   ]
  },
  {
   "cell_type": "code",
   "execution_count": 4,
   "metadata": {
    "execution": {
     "iopub.execute_input": "2020-11-29T12:06:54.414866Z",
     "iopub.status.busy": "2020-11-29T12:06:54.414124Z",
     "iopub.status.idle": "2020-11-29T12:06:54.416979Z",
     "shell.execute_reply": "2020-11-29T12:06:54.416404Z"
    },
    "papermill": {
     "duration": 0.042164,
     "end_time": "2020-11-29T12:06:54.417105",
     "exception": false,
     "start_time": "2020-11-29T12:06:54.374941",
     "status": "completed"
    },
    "tags": []
   },
   "outputs": [],
   "source": [
    "#hide\n",
    "def get_mappings(url):\n",
    "    df = pd.read_csv(url)\n",
    "    return {\n",
    "        'df': df,\n",
    "        'replace.country': dict(df.dropna(subset=['Name']).set_index('Country')['Name']),\n",
    "        'map.continent': dict(df.set_index('Name')['Continent'])\n",
    "    }"
   ]
  },
  {
   "cell_type": "code",
   "execution_count": 5,
   "metadata": {
    "execution": {
     "iopub.execute_input": "2020-11-29T12:06:54.493931Z",
     "iopub.status.busy": "2020-11-29T12:06:54.493262Z",
     "iopub.status.idle": "2020-11-29T12:06:54.537040Z",
     "shell.execute_reply": "2020-11-29T12:06:54.536351Z"
    },
    "papermill": {
     "duration": 0.084816,
     "end_time": "2020-11-29T12:06:54.537185",
     "exception": false,
     "start_time": "2020-11-29T12:06:54.452369",
     "status": "completed"
    },
    "tags": []
   },
   "outputs": [],
   "source": [
    "#hide\n",
    "mapping = get_mappings(paths['mapping'])"
   ]
  },
  {
   "cell_type": "code",
   "execution_count": 6,
   "metadata": {
    "execution": {
     "iopub.execute_input": "2020-11-29T12:06:54.613451Z",
     "iopub.status.busy": "2020-11-29T12:06:54.612770Z",
     "iopub.status.idle": "2020-11-29T12:06:54.615108Z",
     "shell.execute_reply": "2020-11-29T12:06:54.615720Z"
    },
    "papermill": {
     "duration": 0.043142,
     "end_time": "2020-11-29T12:06:54.615932",
     "exception": false,
     "start_time": "2020-11-29T12:06:54.572790",
     "status": "completed"
    },
    "tags": []
   },
   "outputs": [],
   "source": [
    "#hide\n",
    "def get_template(path):\n",
    "    from urllib.parse import urlparse\n",
    "    if bool(urlparse(path).netloc):\n",
    "        from urllib.request import urlopen\n",
    "        return urlopen(path).read().decode('utf8')\n",
    "    return open(path).read()"
   ]
  },
  {
   "cell_type": "code",
   "execution_count": 7,
   "metadata": {
    "execution": {
     "iopub.execute_input": "2020-11-29T12:06:54.690762Z",
     "iopub.status.busy": "2020-11-29T12:06:54.690062Z",
     "iopub.status.idle": "2020-11-29T12:06:54.692647Z",
     "shell.execute_reply": "2020-11-29T12:06:54.691951Z"
    },
    "papermill": {
     "duration": 0.041986,
     "end_time": "2020-11-29T12:06:54.692810",
     "exception": false,
     "start_time": "2020-11-29T12:06:54.650824",
     "status": "completed"
    },
    "tags": []
   },
   "outputs": [],
   "source": [
    "#hide\n",
    "def get_frame(name):\n",
    "    url = (\n",
    "        'https://raw.githubusercontent.com/CSSEGISandData/COVID-19/master/csse_covid_19_data/'\n",
    "        f'csse_covid_19_time_series/time_series_covid19_{name}_global.csv')\n",
    "    df = pd.read_csv(url)\n",
    "    # rename countries\n",
    "    df['Country/Region'] = df['Country/Region'].replace(mapping['replace.country'])\n",
    "    return df"
   ]
  },
  {
   "cell_type": "code",
   "execution_count": 8,
   "metadata": {
    "execution": {
     "iopub.execute_input": "2020-11-29T12:06:54.770655Z",
     "iopub.status.busy": "2020-11-29T12:06:54.769945Z",
     "iopub.status.idle": "2020-11-29T12:06:54.772450Z",
     "shell.execute_reply": "2020-11-29T12:06:54.771756Z"
    },
    "papermill": {
     "duration": 0.044362,
     "end_time": "2020-11-29T12:06:54.772582",
     "exception": false,
     "start_time": "2020-11-29T12:06:54.728220",
     "status": "completed"
    },
    "tags": []
   },
   "outputs": [],
   "source": [
    "#hide\n",
    "def get_dates(df):\n",
    "    dt_cols = df.columns[~df.columns.isin(['Province/State', 'Country/Region', 'Lat', 'Long'])]\n",
    "    LAST_DATE_I = -1\n",
    "    # sometimes last column may be empty, then go backwards\n",
    "    for i in range(-1, -len(dt_cols), -1):\n",
    "        if not df[dt_cols[i]].fillna(0).eq(0).all():\n",
    "            LAST_DATE_I = i\n",
    "            break\n",
    "    return LAST_DATE_I, dt_cols"
   ]
  },
  {
   "cell_type": "code",
   "execution_count": 9,
   "metadata": {
    "execution": {
     "iopub.execute_input": "2020-11-29T12:06:54.847750Z",
     "iopub.status.busy": "2020-11-29T12:06:54.846994Z",
     "iopub.status.idle": "2020-11-29T12:06:55.180795Z",
     "shell.execute_reply": "2020-11-29T12:06:55.180171Z"
    },
    "papermill": {
     "duration": 0.373747,
     "end_time": "2020-11-29T12:06:55.180938",
     "exception": false,
     "start_time": "2020-11-29T12:06:54.807191",
     "status": "completed"
    },
    "tags": []
   },
   "outputs": [],
   "source": [
    "#hide\n",
    "COL_REGION = 'Country/Region'\n",
    "# Confirmed, Recovered, Deaths\n",
    "df = get_frame('confirmed')\n",
    "# dft_: timeseries, dfc_: today country agg\n",
    "dft_cases = df\n",
    "dft_deaths = get_frame('deaths')\n",
    "dft_recovered = get_frame('recovered')\n",
    "LAST_DATE_I, dt_cols = get_dates(df)"
   ]
  },
  {
   "cell_type": "code",
   "execution_count": 10,
   "metadata": {
    "execution": {
     "iopub.execute_input": "2020-11-29T12:06:55.271216Z",
     "iopub.status.busy": "2020-11-29T12:06:55.270508Z",
     "iopub.status.idle": "2020-11-29T12:06:55.272604Z",
     "shell.execute_reply": "2020-11-29T12:06:55.273495Z"
    },
    "papermill": {
     "duration": 0.054463,
     "end_time": "2020-11-29T12:06:55.273658",
     "exception": false,
     "start_time": "2020-11-29T12:06:55.219195",
     "status": "completed"
    },
    "tags": []
   },
   "outputs": [],
   "source": [
    "#hide\n",
    "LAST_DATE_I, dt_cols = get_dates(df)\n",
    "dt_today =dt_cols[LAST_DATE_I]\n",
    "# dt_5day = dt_cols[LAST_DATE_I - 5]\n",
    "dt_yday = dt_cols[LAST_DATE_I - 1]"
   ]
  },
  {
   "cell_type": "code",
   "execution_count": 11,
   "metadata": {
    "execution": {
     "iopub.execute_input": "2020-11-29T12:06:55.375255Z",
     "iopub.status.busy": "2020-11-29T12:06:55.374460Z",
     "iopub.status.idle": "2020-11-29T12:06:55.379973Z",
     "shell.execute_reply": "2020-11-29T12:06:55.380566Z"
    },
    "papermill": {
     "duration": 0.065404,
     "end_time": "2020-11-29T12:06:55.380722",
     "exception": false,
     "start_time": "2020-11-29T12:06:55.315318",
     "status": "completed"
    },
    "tags": []
   },
   "outputs": [],
   "source": [
    "#hide\n",
    "dfc_cases = dft_cases.groupby(COL_REGION)[dt_today].sum()\n",
    "dfc_deaths = dft_deaths.groupby(COL_REGION)[dt_today].sum()\n",
    "# dfp_cases = dft_cases.groupby(COL_REGION)[dt_5day].sum()\n",
    "# dfp_deaths = dft_deaths.groupby(COL_REGION)[dt_5day].sum()\n",
    "dfp_cases = dft_cases.groupby(COL_REGION)[dt_yday].sum()\n",
    "dfp_deaths = dft_deaths.groupby(COL_REGION)[dt_yday].sum()"
   ]
  },
  {
   "cell_type": "code",
   "execution_count": 12,
   "metadata": {
    "execution": {
     "iopub.execute_input": "2020-11-29T12:06:55.463321Z",
     "iopub.status.busy": "2020-11-29T12:06:55.462645Z",
     "iopub.status.idle": "2020-11-29T12:06:55.469079Z",
     "shell.execute_reply": "2020-11-29T12:06:55.468430Z"
    },
    "papermill": {
     "duration": 0.050612,
     "end_time": "2020-11-29T12:06:55.469213",
     "exception": false,
     "start_time": "2020-11-29T12:06:55.418601",
     "status": "completed"
    },
    "tags": []
   },
   "outputs": [],
   "source": [
    "#hide\n",
    "df_table = (pd.DataFrame(dict(Cases = dfc_cases, Deaths = dfc_deaths, PCases = dfp_cases, PDeaths = dfp_deaths))\n",
    "            .sort_values(by = ['Cases','Deaths'], ascending = [False, False])\n",
    "            .reset_index())"
   ]
  },
  {
   "cell_type": "code",
   "execution_count": 13,
   "metadata": {
    "execution": {
     "iopub.execute_input": "2020-11-29T12:06:55.559678Z",
     "iopub.status.busy": "2020-11-29T12:06:55.558932Z",
     "iopub.status.idle": "2020-11-29T12:06:55.567661Z",
     "shell.execute_reply": "2020-11-29T12:06:55.568298Z"
    },
    "papermill": {
     "duration": 0.064889,
     "end_time": "2020-11-29T12:06:55.568466",
     "exception": false,
     "start_time": "2020-11-29T12:06:55.503577",
     "status": "completed"
    },
    "tags": []
   },
   "outputs": [
    {
     "data": {
      "text/html": [
       "<div>\n",
       "<style scoped>\n",
       "    .dataframe tbody tr th:only-of-type {\n",
       "        vertical-align: middle;\n",
       "    }\n",
       "\n",
       "    .dataframe tbody tr th {\n",
       "        vertical-align: top;\n",
       "    }\n",
       "\n",
       "    .dataframe thead th {\n",
       "        text-align: right;\n",
       "    }\n",
       "</style>\n",
       "<table border=\"1\" class=\"dataframe\">\n",
       "  <thead>\n",
       "    <tr style=\"text-align: right;\">\n",
       "      <th></th>\n",
       "      <th>Country/Region</th>\n",
       "      <th>Cases</th>\n",
       "      <th>Deaths</th>\n",
       "      <th>PCases</th>\n",
       "      <th>PDeaths</th>\n",
       "      <th>Cases (+)</th>\n",
       "      <th>Deaths (+)</th>\n",
       "      <th>Fatality Rate</th>\n",
       "      <th>Continent</th>\n",
       "    </tr>\n",
       "  </thead>\n",
       "  <tbody>\n",
       "    <tr>\n",
       "      <th>0</th>\n",
       "      <td>US</td>\n",
       "      <td>13244417</td>\n",
       "      <td>266047</td>\n",
       "      <td>13088821</td>\n",
       "      <td>264858</td>\n",
       "      <td>155596</td>\n",
       "      <td>1189</td>\n",
       "      <td>2.01</td>\n",
       "      <td>North America</td>\n",
       "    </tr>\n",
       "    <tr>\n",
       "      <th>1</th>\n",
       "      <td>India</td>\n",
       "      <td>9392919</td>\n",
       "      <td>136696</td>\n",
       "      <td>9351109</td>\n",
       "      <td>136200</td>\n",
       "      <td>41810</td>\n",
       "      <td>496</td>\n",
       "      <td>1.46</td>\n",
       "      <td>Asia</td>\n",
       "    </tr>\n",
       "    <tr>\n",
       "      <th>2</th>\n",
       "      <td>Brazil</td>\n",
       "      <td>6290272</td>\n",
       "      <td>172561</td>\n",
       "      <td>6238350</td>\n",
       "      <td>171974</td>\n",
       "      <td>51922</td>\n",
       "      <td>587</td>\n",
       "      <td>2.74</td>\n",
       "      <td>South America</td>\n",
       "    </tr>\n",
       "    <tr>\n",
       "      <th>3</th>\n",
       "      <td>France</td>\n",
       "      <td>2260789</td>\n",
       "      <td>52212</td>\n",
       "      <td>2248209</td>\n",
       "      <td>51999</td>\n",
       "      <td>12580</td>\n",
       "      <td>213</td>\n",
       "      <td>2.31</td>\n",
       "      <td>Europe</td>\n",
       "    </tr>\n",
       "    <tr>\n",
       "      <th>4</th>\n",
       "      <td>Russia</td>\n",
       "      <td>2223500</td>\n",
       "      <td>38676</td>\n",
       "      <td>2196691</td>\n",
       "      <td>38175</td>\n",
       "      <td>26809</td>\n",
       "      <td>501</td>\n",
       "      <td>1.74</td>\n",
       "      <td>Europe</td>\n",
       "    </tr>\n",
       "  </tbody>\n",
       "</table>\n",
       "</div>"
      ],
      "text/plain": [
       "  Country/Region     Cases  Deaths    PCases  PDeaths  Cases (+)  Deaths (+)  \\\n",
       "0             US  13244417  266047  13088821   264858     155596        1189   \n",
       "1          India   9392919  136696   9351109   136200      41810         496   \n",
       "2         Brazil   6290272  172561   6238350   171974      51922         587   \n",
       "3         France   2260789   52212   2248209    51999      12580         213   \n",
       "4         Russia   2223500   38676   2196691    38175      26809         501   \n",
       "\n",
       "   Fatality Rate      Continent  \n",
       "0           2.01  North America  \n",
       "1           1.46           Asia  \n",
       "2           2.74  South America  \n",
       "3           2.31         Europe  \n",
       "4           1.74         Europe  "
      ]
     },
     "execution_count": 13,
     "metadata": {},
     "output_type": "execute_result"
    }
   ],
   "source": [
    "#hide\n",
    "for c in 'Cases, Deaths'.split(', '):\n",
    "    df_table[f'{c} (+)'] = (df_table[c] - df_table[f'P{c}']).clip(0)\n",
    "    #Clip ça veut dire, les chiffres negatif sont interdit\n",
    "df_table['Fatality Rate'] = (100* df_table['Deaths']/ df_table['Cases']).round(2)\n",
    "df_table['Continent'] = df_table['Country/Region'].map(mapping['map.continent'])\n",
    "df_table.head(5)"
   ]
  },
  {
   "cell_type": "code",
   "execution_count": 14,
   "metadata": {
    "execution": {
     "iopub.execute_input": "2020-11-29T12:06:55.645189Z",
     "iopub.status.busy": "2020-11-29T12:06:55.644498Z",
     "iopub.status.idle": "2020-11-29T12:06:55.647226Z",
     "shell.execute_reply": "2020-11-29T12:06:55.647983Z"
    },
    "papermill": {
     "duration": 0.044156,
     "end_time": "2020-11-29T12:06:55.648125",
     "exception": false,
     "start_time": "2020-11-29T12:06:55.603969",
     "status": "completed"
    },
    "tags": []
   },
   "outputs": [],
   "source": [
    "#hide\n",
    "#delete problematic countries from table\n",
    "df_table = df_table[~df_table['Country/Region'].isin(['Cape Verde', 'Cruise Ship', 'Kosovo'])]"
   ]
  },
  {
   "cell_type": "code",
   "execution_count": 15,
   "metadata": {
    "execution": {
     "iopub.execute_input": "2020-11-29T12:06:55.725319Z",
     "iopub.status.busy": "2020-11-29T12:06:55.724683Z",
     "iopub.status.idle": "2020-11-29T12:06:55.749093Z",
     "shell.execute_reply": "2020-11-29T12:06:55.748429Z"
    },
    "papermill": {
     "duration": 0.066067,
     "end_time": "2020-11-29T12:06:55.749233",
     "exception": false,
     "start_time": "2020-11-29T12:06:55.683166",
     "status": "completed"
    },
    "tags": []
   },
   "outputs": [
    {
     "data": {
      "text/html": [
       "<div>\n",
       "<style scoped>\n",
       "    .dataframe tbody tr th:only-of-type {\n",
       "        vertical-align: middle;\n",
       "    }\n",
       "\n",
       "    .dataframe tbody tr th {\n",
       "        vertical-align: top;\n",
       "    }\n",
       "\n",
       "    .dataframe thead th {\n",
       "        text-align: right;\n",
       "    }\n",
       "</style>\n",
       "<table border=\"1\" class=\"dataframe\">\n",
       "  <thead>\n",
       "    <tr style=\"text-align: right;\">\n",
       "      <th></th>\n",
       "      <th>Country/Region</th>\n",
       "      <th>Cases</th>\n",
       "      <th>Deaths</th>\n",
       "      <th>PCases</th>\n",
       "      <th>PDeaths</th>\n",
       "      <th>Cases (+)</th>\n",
       "      <th>Deaths (+)</th>\n",
       "      <th>Fatality Rate</th>\n",
       "      <th>Continent</th>\n",
       "    </tr>\n",
       "  </thead>\n",
       "  <tbody>\n",
       "    <tr>\n",
       "      <th>0</th>\n",
       "      <td>US</td>\n",
       "      <td>13244417</td>\n",
       "      <td>266047</td>\n",
       "      <td>13088821</td>\n",
       "      <td>264858</td>\n",
       "      <td>155596</td>\n",
       "      <td>1189</td>\n",
       "      <td>2.0</td>\n",
       "      <td>North America</td>\n",
       "    </tr>\n",
       "    <tr>\n",
       "      <th>1</th>\n",
       "      <td>India</td>\n",
       "      <td>9392919</td>\n",
       "      <td>136696</td>\n",
       "      <td>9351109</td>\n",
       "      <td>136200</td>\n",
       "      <td>41810</td>\n",
       "      <td>496</td>\n",
       "      <td>1.5</td>\n",
       "      <td>Asia</td>\n",
       "    </tr>\n",
       "    <tr>\n",
       "      <th>2</th>\n",
       "      <td>Brazil</td>\n",
       "      <td>6290272</td>\n",
       "      <td>172561</td>\n",
       "      <td>6238350</td>\n",
       "      <td>171974</td>\n",
       "      <td>51922</td>\n",
       "      <td>587</td>\n",
       "      <td>2.7</td>\n",
       "      <td>South America</td>\n",
       "    </tr>\n",
       "    <tr>\n",
       "      <th>3</th>\n",
       "      <td>France</td>\n",
       "      <td>2260789</td>\n",
       "      <td>52212</td>\n",
       "      <td>2248209</td>\n",
       "      <td>51999</td>\n",
       "      <td>12580</td>\n",
       "      <td>213</td>\n",
       "      <td>2.3</td>\n",
       "      <td>Europe</td>\n",
       "    </tr>\n",
       "    <tr>\n",
       "      <th>4</th>\n",
       "      <td>Russia</td>\n",
       "      <td>2223500</td>\n",
       "      <td>38676</td>\n",
       "      <td>2196691</td>\n",
       "      <td>38175</td>\n",
       "      <td>26809</td>\n",
       "      <td>501</td>\n",
       "      <td>1.7</td>\n",
       "      <td>Europe</td>\n",
       "    </tr>\n",
       "  </tbody>\n",
       "</table>\n",
       "</div>"
      ],
      "text/plain": [
       "  Country/Region     Cases  Deaths    PCases  PDeaths  Cases (+)  Deaths (+)  \\\n",
       "0             US  13244417  266047  13088821   264858     155596        1189   \n",
       "1          India   9392919  136696   9351109   136200      41810         496   \n",
       "2         Brazil   6290272  172561   6238350   171974      51922         587   \n",
       "3         France   2260789   52212   2248209    51999      12580         213   \n",
       "4         Russia   2223500   38676   2196691    38175      26809         501   \n",
       "\n",
       "   Fatality Rate      Continent  \n",
       "0            2.0  North America  \n",
       "1            1.5           Asia  \n",
       "2            2.7  South America  \n",
       "3            2.3         Europe  \n",
       "4            1.7         Europe  "
      ]
     },
     "execution_count": 15,
     "metadata": {},
     "output_type": "execute_result"
    }
   ],
   "source": [
    "#hide\n",
    "df_table = (pd.DataFrame(dict(Cases=dfc_cases, Deaths=dfc_deaths, PCases=dfp_cases, PDeaths=dfp_deaths))\n",
    "             .sort_values(by=['Cases', 'Deaths'], ascending=[False, False])\n",
    "             .reset_index())\n",
    "df_table.rename(columns={'index': 'Country/Region'}, inplace=True)\n",
    "for c in 'Cases, Deaths'.split(', '):\n",
    "    df_table[f'{c} (+)'] = (df_table[c] - df_table[f'P{c}']).clip(0)  # DATA BUG\n",
    "df_table['Fatality Rate'] = (100 * df_table['Deaths'] / df_table['Cases']).round(1)\n",
    "df_table['Continent'] = df_table['Country/Region'].map(mapping['map.continent'])\n",
    "df_table.head(5)"
   ]
  },
  {
   "cell_type": "code",
   "execution_count": 16,
   "metadata": {
    "execution": {
     "iopub.execute_input": "2020-11-29T12:06:55.829459Z",
     "iopub.status.busy": "2020-11-29T12:06:55.828726Z",
     "iopub.status.idle": "2020-11-29T12:06:55.832491Z",
     "shell.execute_reply": "2020-11-29T12:06:55.833140Z"
    },
    "papermill": {
     "duration": 0.047842,
     "end_time": "2020-11-29T12:06:55.833286",
     "exception": false,
     "start_time": "2020-11-29T12:06:55.785444",
     "status": "completed"
    },
    "tags": []
   },
   "outputs": [],
   "source": [
    "#hide\n",
    "#delete problematic countries from table\n",
    "df_table = df_table[~df_table['Country/Region'].isin(['Cape Verde', 'Cruise Ship', 'Kosovo'])]"
   ]
  },
  {
   "cell_type": "code",
   "execution_count": 17,
   "metadata": {
    "execution": {
     "iopub.execute_input": "2020-11-29T12:06:55.918455Z",
     "iopub.status.busy": "2020-11-29T12:06:55.917781Z",
     "iopub.status.idle": "2020-11-29T12:06:55.931623Z",
     "shell.execute_reply": "2020-11-29T12:06:55.932679Z"
    },
    "papermill": {
     "duration": 0.0641,
     "end_time": "2020-11-29T12:06:55.933140",
     "exception": false,
     "start_time": "2020-11-29T12:06:55.869040",
     "status": "completed"
    },
    "tags": []
   },
   "outputs": [],
   "source": [
    "#hide\n",
    "metrics = [df_table.columns[index] for index in [1,2,5,6]]\n",
    "# s_china = df_table[df_table['Country/Region'].eq('China')][metrics].sum().add_prefix('China ')\n",
    "s_us = df_table[df_table['Country/Region'].eq('US')][metrics].sum().add_prefix('US ')\n",
    "s_eu = df_table[df_table['Continent'].eq('Europe')][metrics].sum().add_prefix('EU ')\n",
    "s_ind = df_table[df_table['Country/Region'].eq('India')][metrics].sum().add_prefix('India ')\n",
    "summary = {'updated': pd.to_datetime(dt_today), 'since': pd.to_datetime(dt_yday)}\n",
    "summary = {'updated': pd.to_datetime(dt_today), 'since': pd.to_datetime(dt_yday)}\n",
    "summary = {**summary, **df_table[metrics].sum(), **s_ind, **s_us, **s_eu}"
   ]
  },
  {
   "cell_type": "code",
   "execution_count": 18,
   "metadata": {
    "execution": {
     "iopub.execute_input": "2020-11-29T12:06:56.012261Z",
     "iopub.status.busy": "2020-11-29T12:06:56.011584Z",
     "iopub.status.idle": "2020-11-29T12:06:56.020601Z",
     "shell.execute_reply": "2020-11-29T12:06:56.021188Z"
    },
    "papermill": {
     "duration": 0.051752,
     "end_time": "2020-11-29T12:06:56.021332",
     "exception": false,
     "start_time": "2020-11-29T12:06:55.969580",
     "status": "completed"
    },
    "tags": []
   },
   "outputs": [],
   "source": [
    "#hide\n",
    "dft_ct_new_cases = dft_cases.groupby(COL_REGION)[dt_cols].sum().diff(axis=1).fillna(0).astype(int)"
   ]
  },
  {
   "cell_type": "code",
   "execution_count": 19,
   "metadata": {
    "execution": {
     "iopub.execute_input": "2020-11-29T12:06:56.104267Z",
     "iopub.status.busy": "2020-11-29T12:06:56.103553Z",
     "iopub.status.idle": "2020-11-29T12:06:56.106245Z",
     "shell.execute_reply": "2020-11-29T12:06:56.105572Z"
    },
    "papermill": {
     "duration": 0.045926,
     "end_time": "2020-11-29T12:06:56.106407",
     "exception": false,
     "start_time": "2020-11-29T12:06:56.060481",
     "status": "completed"
    },
    "tags": []
   },
   "outputs": [],
   "source": [
    "#hide\n",
    "everydaycases = dft_ct_new_cases.cumsum(axis=1)"
   ]
  },
  {
   "cell_type": "code",
   "execution_count": 20,
   "metadata": {
    "execution": {
     "iopub.execute_input": "2020-11-29T12:06:56.185542Z",
     "iopub.status.busy": "2020-11-29T12:06:56.184876Z",
     "iopub.status.idle": "2020-11-29T12:06:58.188426Z",
     "shell.execute_reply": "2020-11-29T12:06:58.188977Z"
    },
    "papermill": {
     "duration": 2.044805,
     "end_time": "2020-11-29T12:06:58.189153",
     "exception": false,
     "start_time": "2020-11-29T12:06:56.144348",
     "status": "completed"
    },
    "tags": []
   },
   "outputs": [],
   "source": [
    "#hide\n",
    "import pandas as pd\n",
    "import matplotlib.pyplot as plt\n",
    "import matplotlib.ticker as ticker\n",
    "import matplotlib.animation as animation\n",
    "from IPython.display import HTML"
   ]
  },
  {
   "cell_type": "code",
   "execution_count": 21,
   "metadata": {
    "execution": {
     "iopub.execute_input": "2020-11-29T12:06:58.317119Z",
     "iopub.status.busy": "2020-11-29T12:06:58.316386Z",
     "iopub.status.idle": "2020-11-29T12:06:58.321710Z",
     "shell.execute_reply": "2020-11-29T12:06:58.322313Z"
    },
    "papermill": {
     "duration": 0.095341,
     "end_time": "2020-11-29T12:06:58.322485",
     "exception": false,
     "start_time": "2020-11-29T12:06:58.227144",
     "status": "completed"
    },
    "tags": []
   },
   "outputs": [],
   "source": [
    "#hide\n",
    "t = everydaycases.stack()"
   ]
  },
  {
   "cell_type": "code",
   "execution_count": 22,
   "metadata": {
    "execution": {
     "iopub.execute_input": "2020-11-29T12:06:58.403054Z",
     "iopub.status.busy": "2020-11-29T12:06:58.402363Z",
     "iopub.status.idle": "2020-11-29T12:06:58.409099Z",
     "shell.execute_reply": "2020-11-29T12:06:58.409739Z"
    },
    "papermill": {
     "duration": 0.049151,
     "end_time": "2020-11-29T12:06:58.409916",
     "exception": false,
     "start_time": "2020-11-29T12:06:58.360765",
     "status": "completed"
    },
    "tags": []
   },
   "outputs": [],
   "source": [
    "#hide\n",
    "g = t.reset_index(['Country/Region'])"
   ]
  },
  {
   "cell_type": "code",
   "execution_count": 23,
   "metadata": {
    "execution": {
     "iopub.execute_input": "2020-11-29T12:06:58.488887Z",
     "iopub.status.busy": "2020-11-29T12:06:58.488053Z",
     "iopub.status.idle": "2020-11-29T12:06:58.490115Z",
     "shell.execute_reply": "2020-11-29T12:06:58.490754Z"
    },
    "papermill": {
     "duration": 0.044743,
     "end_time": "2020-11-29T12:06:58.490927",
     "exception": false,
     "start_time": "2020-11-29T12:06:58.446184",
     "status": "completed"
    },
    "tags": []
   },
   "outputs": [],
   "source": [
    "#hide\n",
    "g.index.name = 'date'"
   ]
  },
  {
   "cell_type": "code",
   "execution_count": 24,
   "metadata": {
    "execution": {
     "iopub.execute_input": "2020-11-29T12:06:58.566325Z",
     "iopub.status.busy": "2020-11-29T12:06:58.565646Z",
     "iopub.status.idle": "2020-11-29T12:06:58.568138Z",
     "shell.execute_reply": "2020-11-29T12:06:58.568709Z"
    },
    "papermill": {
     "duration": 0.042051,
     "end_time": "2020-11-29T12:06:58.568863",
     "exception": false,
     "start_time": "2020-11-29T12:06:58.526812",
     "status": "completed"
    },
    "tags": []
   },
   "outputs": [],
   "source": [
    "# #hide\n",
    "# g = g.reset_index(['date'])"
   ]
  },
  {
   "cell_type": "code",
   "execution_count": 25,
   "metadata": {
    "execution": {
     "iopub.execute_input": "2020-11-29T12:06:58.647399Z",
     "iopub.status.busy": "2020-11-29T12:06:58.646712Z",
     "iopub.status.idle": "2020-11-29T12:06:58.649528Z",
     "shell.execute_reply": "2020-11-29T12:06:58.648893Z"
    },
    "papermill": {
     "duration": 0.043778,
     "end_time": "2020-11-29T12:06:58.649669",
     "exception": false,
     "start_time": "2020-11-29T12:06:58.605891",
     "status": "completed"
    },
    "tags": []
   },
   "outputs": [],
   "source": [
    "#hide\n",
    "# g.head()"
   ]
  },
  {
   "cell_type": "code",
   "execution_count": 26,
   "metadata": {
    "execution": {
     "iopub.execute_input": "2020-11-29T12:06:58.729189Z",
     "iopub.status.busy": "2020-11-29T12:06:58.728436Z",
     "iopub.status.idle": "2020-11-29T12:06:58.731119Z",
     "shell.execute_reply": "2020-11-29T12:06:58.730590Z"
    },
    "papermill": {
     "duration": 0.043719,
     "end_time": "2020-11-29T12:06:58.731257",
     "exception": false,
     "start_time": "2020-11-29T12:06:58.687538",
     "status": "completed"
    },
    "tags": []
   },
   "outputs": [],
   "source": [
    "#hide\n",
    "# g.columns = ['date','country','cases']"
   ]
  },
  {
   "cell_type": "code",
   "execution_count": 27,
   "metadata": {
    "execution": {
     "iopub.execute_input": "2020-11-29T12:06:58.809629Z",
     "iopub.status.busy": "2020-11-29T12:06:58.808754Z",
     "iopub.status.idle": "2020-11-29T12:06:58.810563Z",
     "shell.execute_reply": "2020-11-29T12:06:58.811159Z"
    },
    "papermill": {
     "duration": 0.042924,
     "end_time": "2020-11-29T12:06:58.811342",
     "exception": false,
     "start_time": "2020-11-29T12:06:58.768418",
     "status": "completed"
    },
    "tags": []
   },
   "outputs": [],
   "source": [
    "#hide\n",
    "# g['continent'] = g.country"
   ]
  },
  {
   "cell_type": "code",
   "execution_count": 28,
   "metadata": {
    "execution": {
     "iopub.execute_input": "2020-11-29T12:06:58.891647Z",
     "iopub.status.busy": "2020-11-29T12:06:58.891008Z",
     "iopub.status.idle": "2020-11-29T12:06:58.892950Z",
     "shell.execute_reply": "2020-11-29T12:06:58.893452Z"
    },
    "papermill": {
     "duration": 0.042842,
     "end_time": "2020-11-29T12:06:58.893592",
     "exception": false,
     "start_time": "2020-11-29T12:06:58.850750",
     "status": "completed"
    },
    "tags": []
   },
   "outputs": [],
   "source": [
    "#hide\n",
    "# cols = list(g.columns.values)"
   ]
  },
  {
   "cell_type": "code",
   "execution_count": 29,
   "metadata": {
    "execution": {
     "iopub.execute_input": "2020-11-29T12:06:58.974006Z",
     "iopub.status.busy": "2020-11-29T12:06:58.973302Z",
     "iopub.status.idle": "2020-11-29T12:06:58.974981Z",
     "shell.execute_reply": "2020-11-29T12:06:58.975625Z"
    },
    "papermill": {
     "duration": 0.042882,
     "end_time": "2020-11-29T12:06:58.975774",
     "exception": false,
     "start_time": "2020-11-29T12:06:58.932892",
     "status": "completed"
    },
    "tags": []
   },
   "outputs": [],
   "source": [
    "#hide\n",
    "# cols.insert(0, cols.pop())"
   ]
  },
  {
   "cell_type": "code",
   "execution_count": 30,
   "metadata": {
    "execution": {
     "iopub.execute_input": "2020-11-29T12:06:59.056240Z",
     "iopub.status.busy": "2020-11-29T12:06:59.055487Z",
     "iopub.status.idle": "2020-11-29T12:06:59.058350Z",
     "shell.execute_reply": "2020-11-29T12:06:59.059048Z"
    },
    "papermill": {
     "duration": 0.044036,
     "end_time": "2020-11-29T12:06:59.059266",
     "exception": false,
     "start_time": "2020-11-29T12:06:59.015230",
     "status": "completed"
    },
    "tags": []
   },
   "outputs": [],
   "source": [
    "#hide\n",
    "# g = g[cols]"
   ]
  },
  {
   "cell_type": "code",
   "execution_count": 31,
   "metadata": {
    "execution": {
     "iopub.execute_input": "2020-11-29T12:06:59.139418Z",
     "iopub.status.busy": "2020-11-29T12:06:59.138391Z",
     "iopub.status.idle": "2020-11-29T12:06:59.140309Z",
     "shell.execute_reply": "2020-11-29T12:06:59.141018Z"
    },
    "papermill": {
     "duration": 0.045156,
     "end_time": "2020-11-29T12:06:59.141161",
     "exception": false,
     "start_time": "2020-11-29T12:06:59.096005",
     "status": "completed"
    },
    "tags": []
   },
   "outputs": [],
   "source": [
    "#hide\n",
    "# g['continent'] = g['continent'].map(mapping['map.continent'])"
   ]
  },
  {
   "cell_type": "code",
   "execution_count": 32,
   "metadata": {
    "execution": {
     "iopub.execute_input": "2020-11-29T12:06:59.223246Z",
     "iopub.status.busy": "2020-11-29T12:06:59.222349Z",
     "iopub.status.idle": "2020-11-29T12:06:59.225117Z",
     "shell.execute_reply": "2020-11-29T12:06:59.225674Z"
    },
    "papermill": {
     "duration": 0.045781,
     "end_time": "2020-11-29T12:06:59.225854",
     "exception": false,
     "start_time": "2020-11-29T12:06:59.180073",
     "status": "completed"
    },
    "tags": []
   },
   "outputs": [],
   "source": [
    "#hide\n",
    "# g.head()"
   ]
  },
  {
   "cell_type": "code",
   "execution_count": 33,
   "metadata": {
    "execution": {
     "iopub.execute_input": "2020-11-29T12:06:59.302702Z",
     "iopub.status.busy": "2020-11-29T12:06:59.302050Z",
     "iopub.status.idle": "2020-11-29T12:06:59.304626Z",
     "shell.execute_reply": "2020-11-29T12:06:59.304045Z"
    },
    "papermill": {
     "duration": 0.040114,
     "end_time": "2020-11-29T12:06:59.304758",
     "exception": false,
     "start_time": "2020-11-29T12:06:59.264644",
     "status": "completed"
    },
    "tags": []
   },
   "outputs": [],
   "source": [
    "# hide\n",
    "# g['date'] = g['date'].astype('datetime64[ns]')"
   ]
  },
  {
   "cell_type": "code",
   "execution_count": 34,
   "metadata": {
    "execution": {
     "iopub.execute_input": "2020-11-29T12:06:59.386569Z",
     "iopub.status.busy": "2020-11-29T12:06:59.385624Z",
     "iopub.status.idle": "2020-11-29T12:06:59.387402Z",
     "shell.execute_reply": "2020-11-29T12:06:59.388092Z"
    },
    "papermill": {
     "duration": 0.046411,
     "end_time": "2020-11-29T12:06:59.388251",
     "exception": false,
     "start_time": "2020-11-29T12:06:59.341840",
     "status": "completed"
    },
    "tags": []
   },
   "outputs": [],
   "source": [
    "#hide\n",
    "# g['date'] = g.date.dt.dayofyear"
   ]
  },
  {
   "cell_type": "code",
   "execution_count": 35,
   "metadata": {
    "execution": {
     "iopub.execute_input": "2020-11-29T12:06:59.469561Z",
     "iopub.status.busy": "2020-11-29T12:06:59.468830Z",
     "iopub.status.idle": "2020-11-29T12:06:59.471701Z",
     "shell.execute_reply": "2020-11-29T12:06:59.471132Z"
    },
    "papermill": {
     "duration": 0.045067,
     "end_time": "2020-11-29T12:06:59.471858",
     "exception": false,
     "start_time": "2020-11-29T12:06:59.426791",
     "status": "completed"
    },
    "tags": []
   },
   "outputs": [],
   "source": [
    "#hide\n",
    "# g = g.rename(columns= {'continent':'group','country':'name','cases':'value'})"
   ]
  },
  {
   "cell_type": "code",
   "execution_count": 36,
   "metadata": {
    "execution": {
     "iopub.execute_input": "2020-11-29T12:06:59.548032Z",
     "iopub.status.busy": "2020-11-29T12:06:59.547344Z",
     "iopub.status.idle": "2020-11-29T12:06:59.550294Z",
     "shell.execute_reply": "2020-11-29T12:06:59.550919Z"
    },
    "papermill": {
     "duration": 0.042842,
     "end_time": "2020-11-29T12:06:59.551059",
     "exception": false,
     "start_time": "2020-11-29T12:06:59.508217",
     "status": "completed"
    },
    "tags": []
   },
   "outputs": [],
   "source": [
    "#hide\n",
    "# cols = ['name','group','day','value']"
   ]
  },
  {
   "cell_type": "code",
   "execution_count": 37,
   "metadata": {
    "execution": {
     "iopub.execute_input": "2020-11-29T12:06:59.629102Z",
     "iopub.status.busy": "2020-11-29T12:06:59.628425Z",
     "iopub.status.idle": "2020-11-29T12:06:59.631180Z",
     "shell.execute_reply": "2020-11-29T12:06:59.630611Z"
    },
    "papermill": {
     "duration": 0.043504,
     "end_time": "2020-11-29T12:06:59.631310",
     "exception": false,
     "start_time": "2020-11-29T12:06:59.587806",
     "status": "completed"
    },
    "tags": []
   },
   "outputs": [],
   "source": [
    "#hide\n",
    "# g.rename(columns= {'date':'day'},inplace = True)"
   ]
  },
  {
   "cell_type": "code",
   "execution_count": 38,
   "metadata": {
    "execution": {
     "iopub.execute_input": "2020-11-29T12:06:59.709208Z",
     "iopub.status.busy": "2020-11-29T12:06:59.708516Z",
     "iopub.status.idle": "2020-11-29T12:06:59.710623Z",
     "shell.execute_reply": "2020-11-29T12:06:59.711300Z"
    },
    "papermill": {
     "duration": 0.044313,
     "end_time": "2020-11-29T12:06:59.711485",
     "exception": false,
     "start_time": "2020-11-29T12:06:59.667172",
     "status": "completed"
    },
    "tags": []
   },
   "outputs": [],
   "source": [
    "#hide\n",
    "# g = g[cols]"
   ]
  },
  {
   "cell_type": "code",
   "execution_count": 39,
   "metadata": {
    "execution": {
     "iopub.execute_input": "2020-11-29T12:06:59.786945Z",
     "iopub.status.busy": "2020-11-29T12:06:59.786208Z",
     "iopub.status.idle": "2020-11-29T12:06:59.788967Z",
     "shell.execute_reply": "2020-11-29T12:06:59.788406Z"
    },
    "papermill": {
     "duration": 0.041624,
     "end_time": "2020-11-29T12:06:59.789092",
     "exception": false,
     "start_time": "2020-11-29T12:06:59.747468",
     "status": "completed"
    },
    "tags": []
   },
   "outputs": [],
   "source": [
    "# #hide\n",
    "# g = g[g.group.notna()]"
   ]
  },
  {
   "cell_type": "code",
   "execution_count": 40,
   "metadata": {
    "execution": {
     "iopub.execute_input": "2020-11-29T12:06:59.864963Z",
     "iopub.status.busy": "2020-11-29T12:06:59.864262Z",
     "iopub.status.idle": "2020-11-29T12:06:59.866701Z",
     "shell.execute_reply": "2020-11-29T12:06:59.866052Z"
    },
    "papermill": {
     "duration": 0.041528,
     "end_time": "2020-11-29T12:06:59.866847",
     "exception": false,
     "start_time": "2020-11-29T12:06:59.825319",
     "status": "completed"
    },
    "tags": []
   },
   "outputs": [],
   "source": [
    "# #hide\n",
    "# colors = dict(zip(\n",
    "#     [\"Oceania\", \"Europe\", \"Asia\", \"South America\", \"Middle East\", \"North America\", \"Africa\"],\n",
    "#     [\"#adb0ff\", \"#ffb3ff\", \"#90d595\", \"#e48381\", \"#aafbff\", \"#f7bb5f\", \"#eafb50\"]\n",
    "# ))\n",
    "# group_lk = g.set_index('name')['group'].to_dict()"
   ]
  },
  {
   "cell_type": "code",
   "execution_count": null,
   "metadata": {
    "papermill": {
     "duration": 0.038166,
     "end_time": "2020-11-29T12:06:59.942440",
     "exception": false,
     "start_time": "2020-11-29T12:06:59.904274",
     "status": "completed"
    },
    "tags": []
   },
   "outputs": [],
   "source": []
  },
  {
   "cell_type": "code",
   "execution_count": 41,
   "metadata": {
    "execution": {
     "iopub.execute_input": "2020-11-29T12:07:00.024559Z",
     "iopub.status.busy": "2020-11-29T12:07:00.023941Z",
     "iopub.status.idle": "2020-11-29T12:07:00.025827Z",
     "shell.execute_reply": "2020-11-29T12:07:00.026398Z"
    },
    "papermill": {
     "duration": 0.045438,
     "end_time": "2020-11-29T12:07:00.026561",
     "exception": false,
     "start_time": "2020-11-29T12:06:59.981123",
     "status": "completed"
    },
    "tags": []
   },
   "outputs": [],
   "source": [
    "# #hide\n",
    "# fig, ax = plt.subplots(figsize=(15, 8))\n",
    "\n",
    "# def draw_barchart(current_day):\n",
    "#     dff = g[g['day'].eq(current_day)].sort_values(by='value', ascending=True).tail(10)\n",
    "#     ax.clear()\n",
    "#     ax.barh(dff['name'], dff['value'], color=[colors[group_lk[x]] for x in dff['name']])\n",
    "#     dx = dff['value'].max() / 200\n",
    "    \n",
    "#     for i, (value, name) in enumerate(zip(dff['value'], dff['name'])):\n",
    "#         ax.text(value-dx, i,     name,           size=14, weight=600, ha='right', va='bottom')\n",
    "#         ax.text(value-dx, i-.25, group_lk[name], size=10, color='#444444', ha='right', va='baseline')\n",
    "#         ax.text(value+dx, i,     f'{value:,.0f}',  size=14, ha='left',  va='center')\n",
    "#     ax.text(1, 0.4, current_day, transform=ax.transAxes, color='#777777', size=46, ha='right', weight=800)\n",
    "#     ax.text(0, 1.06, 'Population (thousands)', transform=ax.transAxes, size=12, color='#777777')\n",
    "#     ax.xaxis.set_major_formatter(ticker.StrMethodFormatter('{x:,.0f}'))\n",
    "#     ax.xaxis.set_ticks_position('top')\n",
    "#     ax.tick_params(axis='x', colors='#777777', labelsize=12)\n",
    "#     ax.set_yticks([])\n",
    "#     ax.margins(0, 0.01)\n",
    "#     ax.grid(which='major', axis='x', linestyle='-')\n",
    "#     ax.set_axisbelow(True)\n",
    "    \n",
    "#     ax.text(0, 1.15, 'Coronavirus',\n",
    "#             transform=ax.transAxes, size=24, weight=600, ha='left', va='top')\n",
    "# #     ax.text(1, 0, 'by @pratapvardhan; credit @jburnmurdoch', transform=ax.transAxes, color='#777777', ha='right',\n",
    "# #             bbox=dict(facecolor='white', alpha=0.8, edgecolor='white'))\n",
    "#     plt.box(False)"
   ]
  },
  {
   "cell_type": "code",
   "execution_count": 42,
   "metadata": {
    "execution": {
     "iopub.execute_input": "2020-11-29T12:07:00.107185Z",
     "iopub.status.busy": "2020-11-29T12:07:00.106383Z",
     "iopub.status.idle": "2020-11-29T12:07:00.108497Z",
     "shell.execute_reply": "2020-11-29T12:07:00.109075Z"
    },
    "papermill": {
     "duration": 0.043668,
     "end_time": "2020-11-29T12:07:00.109228",
     "exception": false,
     "start_time": "2020-11-29T12:07:00.065560",
     "status": "completed"
    },
    "tags": []
   },
   "outputs": [],
   "source": [
    "# #hide_input\n",
    "# fig, ax = plt.subplots(figsize=(15, 8))\n",
    "# animator = animation.FuncAnimation(fig, draw_barchart, frames=range(g.day.values.min(), g.day.values.max()))\n",
    "# HTML(animator.to_jshtml())\n",
    "# # or use animator.to_html5_video() or animator.save() "
   ]
  },
  {
   "cell_type": "code",
   "execution_count": null,
   "metadata": {
    "papermill": {
     "duration": 0.036367,
     "end_time": "2020-11-29T12:07:00.182468",
     "exception": false,
     "start_time": "2020-11-29T12:07:00.146101",
     "status": "completed"
    },
    "tags": []
   },
   "outputs": [],
   "source": []
  },
  {
   "cell_type": "code",
   "execution_count": null,
   "metadata": {
    "papermill": {
     "duration": 0.039619,
     "end_time": "2020-11-29T12:07:00.258206",
     "exception": false,
     "start_time": "2020-11-29T12:07:00.218587",
     "status": "completed"
    },
    "tags": []
   },
   "outputs": [],
   "source": []
  },
  {
   "cell_type": "code",
   "execution_count": null,
   "metadata": {
    "papermill": {
     "duration": 0.036032,
     "end_time": "2020-11-29T12:07:00.333189",
     "exception": false,
     "start_time": "2020-11-29T12:07:00.297157",
     "status": "completed"
    },
    "tags": []
   },
   "outputs": [],
   "source": []
  }
 ],
 "metadata": {
  "kernelspec": {
   "display_name": "Python 3",
   "language": "python",
   "name": "python3"
  },
  "language_info": {
   "codemirror_mode": {
    "name": "ipython",
    "version": 3
   },
   "file_extension": ".py",
   "mimetype": "text/x-python",
   "name": "python",
   "nbconvert_exporter": "python",
   "pygments_lexer": "ipython3",
   "version": "3.6.12"
  },
  "papermill": {
   "duration": 8.218461,
   "end_time": "2020-11-29T12:07:00.676005",
   "environment_variables": {},
   "exception": null,
   "input_path": "2020-03-21-covid19exp.ipynb",
   "output_path": "2020-03-21-covid19exp.ipynb",
   "parameters": {},
   "start_time": "2020-11-29T12:06:52.457544",
   "version": "2.0.0"
  }
 },
 "nbformat": 4,
 "nbformat_minor": 4
}