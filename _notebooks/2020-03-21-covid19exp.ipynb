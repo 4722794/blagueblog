{
 "cells": [
  {
   "cell_type": "markdown",
   "id": "muslim-click",
   "metadata": {
    "papermill": {
     "duration": 0.0317,
     "end_time": "2022-11-19T00:45:44.269859",
     "exception": false,
     "start_time": "2022-11-19T00:45:44.238159",
     "status": "completed"
    },
    "tags": []
   },
   "source": [
    "# COVID-19 Case Race\n",
    "> A race chart to see rising cases around the world\n",
    "\n",
    "- author: Hargun Oberoi\n",
    "- image: images/covid-overview.png\n",
    "- hide: false\n",
    "- badges: false"
   ]
  },
  {
   "cell_type": "code",
   "execution_count": 1,
   "id": "proof-material",
   "metadata": {
    "execution": {
     "iopub.execute_input": "2022-11-19T00:45:44.333428Z",
     "iopub.status.busy": "2022-11-19T00:45:44.332810Z",
     "iopub.status.idle": "2022-11-19T00:45:44.628615Z",
     "shell.execute_reply": "2022-11-19T00:45:44.628005Z"
    },
    "papermill": {
     "duration": 0.332287,
     "end_time": "2022-11-19T00:45:44.628791",
     "exception": false,
     "start_time": "2022-11-19T00:45:44.296504",
     "status": "completed"
    },
    "tags": []
   },
   "outputs": [],
   "source": [
    "#hide\n",
    "import numpy as np\n",
    "import pandas as pd\n",
    "from jinja2 import Template\n",
    "from IPython.display import HTML"
   ]
  },
  {
   "cell_type": "code",
   "execution_count": 2,
   "id": "developed-terminology",
   "metadata": {
    "execution": {
     "iopub.execute_input": "2022-11-19T00:45:44.692660Z",
     "iopub.status.busy": "2022-11-19T00:45:44.692088Z",
     "iopub.status.idle": "2022-11-19T00:45:44.694591Z",
     "shell.execute_reply": "2022-11-19T00:45:44.694144Z"
    },
    "papermill": {
     "duration": 0.03636,
     "end_time": "2022-11-19T00:45:44.694697",
     "exception": false,
     "start_time": "2022-11-19T00:45:44.658337",
     "status": "completed"
    },
    "tags": []
   },
   "outputs": [],
   "source": [
    "#hide\n",
    "\n",
    "# FETCH\n",
    "base_url = 'https://raw.githubusercontent.com/pratapvardhan/notebooks/master/covid19/'\n",
    "paths = {\n",
    "    'mapping': base_url + 'mapping_countries.csv',\n",
    "    'overview': base_url + 'overview.tpl'\n",
    "}"
   ]
  },
  {
   "cell_type": "code",
   "execution_count": 3,
   "id": "dynamic-saver",
   "metadata": {
    "execution": {
     "iopub.execute_input": "2022-11-19T00:45:44.756848Z",
     "iopub.status.busy": "2022-11-19T00:45:44.756314Z",
     "iopub.status.idle": "2022-11-19T00:45:44.759432Z",
     "shell.execute_reply": "2022-11-19T00:45:44.759915Z"
    },
    "papermill": {
     "duration": 0.039509,
     "end_time": "2022-11-19T00:45:44.760033",
     "exception": false,
     "start_time": "2022-11-19T00:45:44.720524",
     "status": "completed"
    },
    "tags": []
   },
   "outputs": [
    {
     "data": {
      "text/plain": [
       "'https://raw.githubusercontent.com/pratapvardhan/notebooks/master/covid19/mapping_countries.csv'"
      ]
     },
     "execution_count": 3,
     "metadata": {},
     "output_type": "execute_result"
    }
   ],
   "source": [
    "#hide\n",
    "paths['mapping']"
   ]
  },
  {
   "cell_type": "code",
   "execution_count": 4,
   "id": "urban-software",
   "metadata": {
    "execution": {
     "iopub.execute_input": "2022-11-19T00:45:44.818285Z",
     "iopub.status.busy": "2022-11-19T00:45:44.817615Z",
     "iopub.status.idle": "2022-11-19T00:45:44.819301Z",
     "shell.execute_reply": "2022-11-19T00:45:44.819836Z"
    },
    "papermill": {
     "duration": 0.033633,
     "end_time": "2022-11-19T00:45:44.819975",
     "exception": false,
     "start_time": "2022-11-19T00:45:44.786342",
     "status": "completed"
    },
    "tags": []
   },
   "outputs": [],
   "source": [
    "#hide\n",
    "def get_mappings(url):\n",
    "    df = pd.read_csv(url)\n",
    "    return {\n",
    "        'df': df,\n",
    "        'replace.country': dict(df.dropna(subset=['Name']).set_index('Country')['Name']),\n",
    "        'map.continent': dict(df.set_index('Name')['Continent'])\n",
    "    }"
   ]
  },
  {
   "cell_type": "code",
   "execution_count": 5,
   "id": "intimate-machinery",
   "metadata": {
    "execution": {
     "iopub.execute_input": "2022-11-19T00:45:44.884914Z",
     "iopub.status.busy": "2022-11-19T00:45:44.884334Z",
     "iopub.status.idle": "2022-11-19T00:45:44.943222Z",
     "shell.execute_reply": "2022-11-19T00:45:44.942646Z"
    },
    "papermill": {
     "duration": 0.093633,
     "end_time": "2022-11-19T00:45:44.943354",
     "exception": false,
     "start_time": "2022-11-19T00:45:44.849721",
     "status": "completed"
    },
    "tags": []
   },
   "outputs": [],
   "source": [
    "#hide\n",
    "mapping = get_mappings(paths['mapping'])"
   ]
  },
  {
   "cell_type": "code",
   "execution_count": 6,
   "id": "certified-tactics",
   "metadata": {
    "execution": {
     "iopub.execute_input": "2022-11-19T00:45:45.007689Z",
     "iopub.status.busy": "2022-11-19T00:45:45.007135Z",
     "iopub.status.idle": "2022-11-19T00:45:45.009254Z",
     "shell.execute_reply": "2022-11-19T00:45:45.009651Z"
    },
    "papermill": {
     "duration": 0.036565,
     "end_time": "2022-11-19T00:45:45.009772",
     "exception": false,
     "start_time": "2022-11-19T00:45:44.973207",
     "status": "completed"
    },
    "tags": []
   },
   "outputs": [],
   "source": [
    "#hide\n",
    "def get_template(path):\n",
    "    from urllib.parse import urlparse\n",
    "    if bool(urlparse(path).netloc):\n",
    "        from urllib.request import urlopen\n",
    "        return urlopen(path).read().decode('utf8')\n",
    "    return open(path).read()"
   ]
  },
  {
   "cell_type": "code",
   "execution_count": 7,
   "id": "realistic-blast",
   "metadata": {
    "execution": {
     "iopub.execute_input": "2022-11-19T00:45:45.067732Z",
     "iopub.status.busy": "2022-11-19T00:45:45.067095Z",
     "iopub.status.idle": "2022-11-19T00:45:45.069510Z",
     "shell.execute_reply": "2022-11-19T00:45:45.069026Z"
    },
    "papermill": {
     "duration": 0.033734,
     "end_time": "2022-11-19T00:45:45.069621",
     "exception": false,
     "start_time": "2022-11-19T00:45:45.035887",
     "status": "completed"
    },
    "tags": []
   },
   "outputs": [],
   "source": [
    "#hide\n",
    "def get_frame(name):\n",
    "    url = (\n",
    "        'https://raw.githubusercontent.com/CSSEGISandData/COVID-19/master/csse_covid_19_data/'\n",
    "        f'csse_covid_19_time_series/time_series_covid19_{name}_global.csv')\n",
    "    df = pd.read_csv(url)\n",
    "    # rename countries\n",
    "    df['Country/Region'] = df['Country/Region'].replace(mapping['replace.country'])\n",
    "    return df"
   ]
  },
  {
   "cell_type": "code",
   "execution_count": 8,
   "id": "affiliated-characterization",
   "metadata": {
    "execution": {
     "iopub.execute_input": "2022-11-19T00:45:45.134873Z",
     "iopub.status.busy": "2022-11-19T00:45:45.134223Z",
     "iopub.status.idle": "2022-11-19T00:45:45.136646Z",
     "shell.execute_reply": "2022-11-19T00:45:45.137204Z"
    },
    "papermill": {
     "duration": 0.03804,
     "end_time": "2022-11-19T00:45:45.137335",
     "exception": false,
     "start_time": "2022-11-19T00:45:45.099295",
     "status": "completed"
    },
    "tags": []
   },
   "outputs": [],
   "source": [
    "#hide\n",
    "def get_dates(df):\n",
    "    dt_cols = df.columns[~df.columns.isin(['Province/State', 'Country/Region', 'Lat', 'Long'])]\n",
    "    LAST_DATE_I = -1\n",
    "    # sometimes last column may be empty, then go backwards\n",
    "    for i in range(-1, -len(dt_cols), -1):\n",
    "        if not df[dt_cols[i]].fillna(0).eq(0).all():\n",
    "            LAST_DATE_I = i\n",
    "            break\n",
    "    return LAST_DATE_I, dt_cols"
   ]
  },
  {
   "cell_type": "code",
   "execution_count": 9,
   "id": "recent-optimization",
   "metadata": {
    "execution": {
     "iopub.execute_input": "2022-11-19T00:45:45.201050Z",
     "iopub.status.busy": "2022-11-19T00:45:45.200463Z",
     "iopub.status.idle": "2022-11-19T00:45:45.673275Z",
     "shell.execute_reply": "2022-11-19T00:45:45.672675Z"
    },
    "papermill": {
     "duration": 0.506657,
     "end_time": "2022-11-19T00:45:45.673418",
     "exception": false,
     "start_time": "2022-11-19T00:45:45.166761",
     "status": "completed"
    },
    "tags": []
   },
   "outputs": [],
   "source": [
    "#hide\n",
    "COL_REGION = 'Country/Region'\n",
    "# Confirmed, Recovered, Deaths\n",
    "df = get_frame('confirmed')\n",
    "# dft_: timeseries, dfc_: today country agg\n",
    "dft_cases = df\n",
    "dft_deaths = get_frame('deaths')\n",
    "dft_recovered = get_frame('recovered')\n",
    "LAST_DATE_I, dt_cols = get_dates(df)"
   ]
  },
  {
   "cell_type": "code",
   "execution_count": 10,
   "id": "absolute-copper",
   "metadata": {
    "execution": {
     "iopub.execute_input": "2022-11-19T00:45:45.739122Z",
     "iopub.status.busy": "2022-11-19T00:45:45.738385Z",
     "iopub.status.idle": "2022-11-19T00:45:45.740058Z",
     "shell.execute_reply": "2022-11-19T00:45:45.740478Z"
    },
    "papermill": {
     "duration": 0.036681,
     "end_time": "2022-11-19T00:45:45.740602",
     "exception": false,
     "start_time": "2022-11-19T00:45:45.703921",
     "status": "completed"
    },
    "tags": []
   },
   "outputs": [],
   "source": [
    "#hide\n",
    "LAST_DATE_I, dt_cols = get_dates(df)\n",
    "dt_today =dt_cols[LAST_DATE_I]\n",
    "# dt_5day = dt_cols[LAST_DATE_I - 5]\n",
    "dt_yday = dt_cols[LAST_DATE_I - 1]"
   ]
  },
  {
   "cell_type": "code",
   "execution_count": 11,
   "id": "restricted-sheriff",
   "metadata": {
    "execution": {
     "iopub.execute_input": "2022-11-19T00:45:45.798066Z",
     "iopub.status.busy": "2022-11-19T00:45:45.797530Z",
     "iopub.status.idle": "2022-11-19T00:45:45.805186Z",
     "shell.execute_reply": "2022-11-19T00:45:45.805668Z"
    },
    "papermill": {
     "duration": 0.039147,
     "end_time": "2022-11-19T00:45:45.805792",
     "exception": false,
     "start_time": "2022-11-19T00:45:45.766645",
     "status": "completed"
    },
    "tags": []
   },
   "outputs": [],
   "source": [
    "#hide\n",
    "dfc_cases = dft_cases.groupby(COL_REGION)[dt_today].sum()\n",
    "dfc_deaths = dft_deaths.groupby(COL_REGION)[dt_today].sum()\n",
    "# dfp_cases = dft_cases.groupby(COL_REGION)[dt_5day].sum()\n",
    "# dfp_deaths = dft_deaths.groupby(COL_REGION)[dt_5day].sum()\n",
    "dfp_cases = dft_cases.groupby(COL_REGION)[dt_yday].sum()\n",
    "dfp_deaths = dft_deaths.groupby(COL_REGION)[dt_yday].sum()"
   ]
  },
  {
   "cell_type": "code",
   "execution_count": 12,
   "id": "deluxe-hepatitis",
   "metadata": {
    "execution": {
     "iopub.execute_input": "2022-11-19T00:45:45.864408Z",
     "iopub.status.busy": "2022-11-19T00:45:45.863889Z",
     "iopub.status.idle": "2022-11-19T00:45:45.868042Z",
     "shell.execute_reply": "2022-11-19T00:45:45.868533Z"
    },
    "papermill": {
     "duration": 0.036679,
     "end_time": "2022-11-19T00:45:45.868648",
     "exception": false,
     "start_time": "2022-11-19T00:45:45.831969",
     "status": "completed"
    },
    "tags": []
   },
   "outputs": [],
   "source": [
    "#hide\n",
    "df_table = (pd.DataFrame(dict(Cases = dfc_cases, Deaths = dfc_deaths, PCases = dfp_cases, PDeaths = dfp_deaths))\n",
    "            .sort_values(by = ['Cases','Deaths'], ascending = [False, False])\n",
    "            .reset_index())"
   ]
  },
  {
   "cell_type": "code",
   "execution_count": 13,
   "id": "educational-chancellor",
   "metadata": {
    "execution": {
     "iopub.execute_input": "2022-11-19T00:45:45.933463Z",
     "iopub.status.busy": "2022-11-19T00:45:45.932931Z",
     "iopub.status.idle": "2022-11-19T00:45:45.945184Z",
     "shell.execute_reply": "2022-11-19T00:45:45.944760Z"
    },
    "papermill": {
     "duration": 0.050725,
     "end_time": "2022-11-19T00:45:45.945284",
     "exception": false,
     "start_time": "2022-11-19T00:45:45.894559",
     "status": "completed"
    },
    "tags": []
   },
   "outputs": [
    {
     "data": {
      "text/html": [
       "<div>\n",
       "<style scoped>\n",
       "    .dataframe tbody tr th:only-of-type {\n",
       "        vertical-align: middle;\n",
       "    }\n",
       "\n",
       "    .dataframe tbody tr th {\n",
       "        vertical-align: top;\n",
       "    }\n",
       "\n",
       "    .dataframe thead th {\n",
       "        text-align: right;\n",
       "    }\n",
       "</style>\n",
       "<table border=\"1\" class=\"dataframe\">\n",
       "  <thead>\n",
       "    <tr style=\"text-align: right;\">\n",
       "      <th></th>\n",
       "      <th>Country/Region</th>\n",
       "      <th>Cases</th>\n",
       "      <th>Deaths</th>\n",
       "      <th>PCases</th>\n",
       "      <th>PDeaths</th>\n",
       "      <th>Cases (+)</th>\n",
       "      <th>Deaths (+)</th>\n",
       "      <th>Fatality Rate</th>\n",
       "      <th>Continent</th>\n",
       "    </tr>\n",
       "  </thead>\n",
       "  <tbody>\n",
       "    <tr>\n",
       "      <th>0</th>\n",
       "      <td>US</td>\n",
       "      <td>98246749</td>\n",
       "      <td>1076492</td>\n",
       "      <td>98194133</td>\n",
       "      <td>1076085</td>\n",
       "      <td>52616</td>\n",
       "      <td>407</td>\n",
       "      <td>1.10</td>\n",
       "      <td>North America</td>\n",
       "    </tr>\n",
       "    <tr>\n",
       "      <th>1</th>\n",
       "      <td>India</td>\n",
       "      <td>44667967</td>\n",
       "      <td>530553</td>\n",
       "      <td>44668535</td>\n",
       "      <td>530546</td>\n",
       "      <td>0</td>\n",
       "      <td>7</td>\n",
       "      <td>1.19</td>\n",
       "      <td>Asia</td>\n",
       "    </tr>\n",
       "    <tr>\n",
       "      <th>2</th>\n",
       "      <td>France</td>\n",
       "      <td>37471008</td>\n",
       "      <td>159129</td>\n",
       "      <td>37437677</td>\n",
       "      <td>159042</td>\n",
       "      <td>33331</td>\n",
       "      <td>87</td>\n",
       "      <td>0.42</td>\n",
       "      <td>Europe</td>\n",
       "    </tr>\n",
       "    <tr>\n",
       "      <th>3</th>\n",
       "      <td>Germany</td>\n",
       "      <td>36180077</td>\n",
       "      <td>156410</td>\n",
       "      <td>36152490</td>\n",
       "      <td>156192</td>\n",
       "      <td>27587</td>\n",
       "      <td>218</td>\n",
       "      <td>0.43</td>\n",
       "      <td>Europe</td>\n",
       "    </tr>\n",
       "    <tr>\n",
       "      <th>4</th>\n",
       "      <td>Brazil</td>\n",
       "      <td>34971043</td>\n",
       "      <td>688835</td>\n",
       "      <td>34938073</td>\n",
       "      <td>688764</td>\n",
       "      <td>32970</td>\n",
       "      <td>71</td>\n",
       "      <td>1.97</td>\n",
       "      <td>South America</td>\n",
       "    </tr>\n",
       "  </tbody>\n",
       "</table>\n",
       "</div>"
      ],
      "text/plain": [
       "  Country/Region     Cases   Deaths    PCases  PDeaths  Cases (+)  Deaths (+)  \\\n",
       "0             US  98246749  1076492  98194133  1076085      52616         407   \n",
       "1          India  44667967   530553  44668535   530546          0           7   \n",
       "2         France  37471008   159129  37437677   159042      33331          87   \n",
       "3        Germany  36180077   156410  36152490   156192      27587         218   \n",
       "4         Brazil  34971043   688835  34938073   688764      32970          71   \n",
       "\n",
       "   Fatality Rate      Continent  \n",
       "0           1.10  North America  \n",
       "1           1.19           Asia  \n",
       "2           0.42         Europe  \n",
       "3           0.43         Europe  \n",
       "4           1.97  South America  "
      ]
     },
     "execution_count": 13,
     "metadata": {},
     "output_type": "execute_result"
    }
   ],
   "source": [
    "#hide\n",
    "for c in 'Cases, Deaths'.split(', '):\n",
    "    df_table[f'{c} (+)'] = (df_table[c] - df_table[f'P{c}']).clip(0)\n",
    "    #Clip ça veut dire, les chiffres negatif sont interdit\n",
    "df_table['Fatality Rate'] = (100* df_table['Deaths']/ df_table['Cases']).round(2)\n",
    "df_table['Continent'] = df_table['Country/Region'].map(mapping['map.continent'])\n",
    "df_table.head(5)"
   ]
  },
  {
   "cell_type": "code",
   "execution_count": 14,
   "id": "aboriginal-bulgaria",
   "metadata": {
    "execution": {
     "iopub.execute_input": "2022-11-19T00:45:46.003738Z",
     "iopub.status.busy": "2022-11-19T00:45:46.003217Z",
     "iopub.status.idle": "2022-11-19T00:45:46.006478Z",
     "shell.execute_reply": "2022-11-19T00:45:46.006906Z"
    },
    "papermill": {
     "duration": 0.034943,
     "end_time": "2022-11-19T00:45:46.007020",
     "exception": false,
     "start_time": "2022-11-19T00:45:45.972077",
     "status": "completed"
    },
    "tags": []
   },
   "outputs": [],
   "source": [
    "#hide\n",
    "#delete problematic countries from table\n",
    "df_table = df_table[~df_table['Country/Region'].isin(['Cape Verde', 'Cruise Ship', 'Kosovo'])]"
   ]
  },
  {
   "cell_type": "code",
   "execution_count": 15,
   "id": "fantastic-effect",
   "metadata": {
    "execution": {
     "iopub.execute_input": "2022-11-19T00:45:46.068518Z",
     "iopub.status.busy": "2022-11-19T00:45:46.067989Z",
     "iopub.status.idle": "2022-11-19T00:45:46.085187Z",
     "shell.execute_reply": "2022-11-19T00:45:46.085669Z"
    },
    "papermill": {
     "duration": 0.052358,
     "end_time": "2022-11-19T00:45:46.085789",
     "exception": false,
     "start_time": "2022-11-19T00:45:46.033431",
     "status": "completed"
    },
    "tags": []
   },
   "outputs": [
    {
     "data": {
      "text/html": [
       "<div>\n",
       "<style scoped>\n",
       "    .dataframe tbody tr th:only-of-type {\n",
       "        vertical-align: middle;\n",
       "    }\n",
       "\n",
       "    .dataframe tbody tr th {\n",
       "        vertical-align: top;\n",
       "    }\n",
       "\n",
       "    .dataframe thead th {\n",
       "        text-align: right;\n",
       "    }\n",
       "</style>\n",
       "<table border=\"1\" class=\"dataframe\">\n",
       "  <thead>\n",
       "    <tr style=\"text-align: right;\">\n",
       "      <th></th>\n",
       "      <th>Country/Region</th>\n",
       "      <th>Cases</th>\n",
       "      <th>Deaths</th>\n",
       "      <th>PCases</th>\n",
       "      <th>PDeaths</th>\n",
       "      <th>Cases (+)</th>\n",
       "      <th>Deaths (+)</th>\n",
       "      <th>Fatality Rate</th>\n",
       "      <th>Continent</th>\n",
       "    </tr>\n",
       "  </thead>\n",
       "  <tbody>\n",
       "    <tr>\n",
       "      <th>0</th>\n",
       "      <td>US</td>\n",
       "      <td>98246749</td>\n",
       "      <td>1076492</td>\n",
       "      <td>98194133</td>\n",
       "      <td>1076085</td>\n",
       "      <td>52616</td>\n",
       "      <td>407</td>\n",
       "      <td>1.1</td>\n",
       "      <td>North America</td>\n",
       "    </tr>\n",
       "    <tr>\n",
       "      <th>1</th>\n",
       "      <td>India</td>\n",
       "      <td>44667967</td>\n",
       "      <td>530553</td>\n",
       "      <td>44668535</td>\n",
       "      <td>530546</td>\n",
       "      <td>0</td>\n",
       "      <td>7</td>\n",
       "      <td>1.2</td>\n",
       "      <td>Asia</td>\n",
       "    </tr>\n",
       "    <tr>\n",
       "      <th>2</th>\n",
       "      <td>France</td>\n",
       "      <td>37471008</td>\n",
       "      <td>159129</td>\n",
       "      <td>37437677</td>\n",
       "      <td>159042</td>\n",
       "      <td>33331</td>\n",
       "      <td>87</td>\n",
       "      <td>0.4</td>\n",
       "      <td>Europe</td>\n",
       "    </tr>\n",
       "    <tr>\n",
       "      <th>3</th>\n",
       "      <td>Germany</td>\n",
       "      <td>36180077</td>\n",
       "      <td>156410</td>\n",
       "      <td>36152490</td>\n",
       "      <td>156192</td>\n",
       "      <td>27587</td>\n",
       "      <td>218</td>\n",
       "      <td>0.4</td>\n",
       "      <td>Europe</td>\n",
       "    </tr>\n",
       "    <tr>\n",
       "      <th>4</th>\n",
       "      <td>Brazil</td>\n",
       "      <td>34971043</td>\n",
       "      <td>688835</td>\n",
       "      <td>34938073</td>\n",
       "      <td>688764</td>\n",
       "      <td>32970</td>\n",
       "      <td>71</td>\n",
       "      <td>2.0</td>\n",
       "      <td>South America</td>\n",
       "    </tr>\n",
       "  </tbody>\n",
       "</table>\n",
       "</div>"
      ],
      "text/plain": [
       "  Country/Region     Cases   Deaths    PCases  PDeaths  Cases (+)  Deaths (+)  \\\n",
       "0             US  98246749  1076492  98194133  1076085      52616         407   \n",
       "1          India  44667967   530553  44668535   530546          0           7   \n",
       "2         France  37471008   159129  37437677   159042      33331          87   \n",
       "3        Germany  36180077   156410  36152490   156192      27587         218   \n",
       "4         Brazil  34971043   688835  34938073   688764      32970          71   \n",
       "\n",
       "   Fatality Rate      Continent  \n",
       "0            1.1  North America  \n",
       "1            1.2           Asia  \n",
       "2            0.4         Europe  \n",
       "3            0.4         Europe  \n",
       "4            2.0  South America  "
      ]
     },
     "execution_count": 15,
     "metadata": {},
     "output_type": "execute_result"
    }
   ],
   "source": [
    "#hide\n",
    "df_table = (pd.DataFrame(dict(Cases=dfc_cases, Deaths=dfc_deaths, PCases=dfp_cases, PDeaths=dfp_deaths))\n",
    "             .sort_values(by=['Cases', 'Deaths'], ascending=[False, False])\n",
    "             .reset_index())\n",
    "df_table.rename(columns={'index': 'Country/Region'}, inplace=True)\n",
    "for c in 'Cases, Deaths'.split(', '):\n",
    "    df_table[f'{c} (+)'] = (df_table[c] - df_table[f'P{c}']).clip(0)  # DATA BUG\n",
    "df_table['Fatality Rate'] = (100 * df_table['Deaths'] / df_table['Cases']).round(1)\n",
    "df_table['Continent'] = df_table['Country/Region'].map(mapping['map.continent'])\n",
    "df_table.head(5)"
   ]
  },
  {
   "cell_type": "code",
   "execution_count": 16,
   "id": "fewer-occasion",
   "metadata": {
    "execution": {
     "iopub.execute_input": "2022-11-19T00:45:46.145205Z",
     "iopub.status.busy": "2022-11-19T00:45:46.144688Z",
     "iopub.status.idle": "2022-11-19T00:45:46.147783Z",
     "shell.execute_reply": "2022-11-19T00:45:46.148277Z"
    },
    "papermill": {
     "duration": 0.035323,
     "end_time": "2022-11-19T00:45:46.148397",
     "exception": false,
     "start_time": "2022-11-19T00:45:46.113074",
     "status": "completed"
    },
    "tags": []
   },
   "outputs": [],
   "source": [
    "#hide\n",
    "#delete problematic countries from table\n",
    "df_table = df_table[~df_table['Country/Region'].isin(['Cape Verde', 'Cruise Ship', 'Kosovo'])]"
   ]
  },
  {
   "cell_type": "code",
   "execution_count": 17,
   "id": "related-center",
   "metadata": {
    "execution": {
     "iopub.execute_input": "2022-11-19T00:45:46.220516Z",
     "iopub.status.busy": "2022-11-19T00:45:46.219987Z",
     "iopub.status.idle": "2022-11-19T00:45:46.222255Z",
     "shell.execute_reply": "2022-11-19T00:45:46.222702Z"
    },
    "papermill": {
     "duration": 0.047471,
     "end_time": "2022-11-19T00:45:46.222821",
     "exception": false,
     "start_time": "2022-11-19T00:45:46.175350",
     "status": "completed"
    },
    "tags": []
   },
   "outputs": [],
   "source": [
    "#hide\n",
    "metrics = [df_table.columns[index] for index in [1,2,5,6]]\n",
    "# s_china = df_table[df_table['Country/Region'].eq('China')][metrics].sum().add_prefix('China ')\n",
    "s_us = df_table[df_table['Country/Region'].eq('US')][metrics].sum().add_prefix('US ')\n",
    "s_eu = df_table[df_table['Continent'].eq('Europe')][metrics].sum().add_prefix('EU ')\n",
    "s_ind = df_table[df_table['Country/Region'].eq('India')][metrics].sum().add_prefix('India ')\n",
    "summary = {'updated': pd.to_datetime(dt_today), 'since': pd.to_datetime(dt_yday)}\n",
    "summary = {'updated': pd.to_datetime(dt_today), 'since': pd.to_datetime(dt_yday)}\n",
    "summary = {**summary, **df_table[metrics].sum(), **s_ind, **s_us, **s_eu}"
   ]
  },
  {
   "cell_type": "code",
   "execution_count": 18,
   "id": "engaging-syndrome",
   "metadata": {
    "execution": {
     "iopub.execute_input": "2022-11-19T00:45:46.281972Z",
     "iopub.status.busy": "2022-11-19T00:45:46.281454Z",
     "iopub.status.idle": "2022-11-19T00:45:46.303771Z",
     "shell.execute_reply": "2022-11-19T00:45:46.303225Z"
    },
    "papermill": {
     "duration": 0.054084,
     "end_time": "2022-11-19T00:45:46.303899",
     "exception": false,
     "start_time": "2022-11-19T00:45:46.249815",
     "status": "completed"
    },
    "tags": []
   },
   "outputs": [],
   "source": [
    "#hide\n",
    "dft_ct_new_cases = dft_cases.groupby(COL_REGION)[dt_cols].sum().diff(axis=1).fillna(0).astype(int)"
   ]
  },
  {
   "cell_type": "code",
   "execution_count": 19,
   "id": "neutral-assignment",
   "metadata": {
    "execution": {
     "iopub.execute_input": "2022-11-19T00:45:46.365994Z",
     "iopub.status.busy": "2022-11-19T00:45:46.365480Z",
     "iopub.status.idle": "2022-11-19T00:45:46.367698Z",
     "shell.execute_reply": "2022-11-19T00:45:46.368189Z"
    },
    "papermill": {
     "duration": 0.035596,
     "end_time": "2022-11-19T00:45:46.368303",
     "exception": false,
     "start_time": "2022-11-19T00:45:46.332707",
     "status": "completed"
    },
    "tags": []
   },
   "outputs": [],
   "source": [
    "#hide\n",
    "everydaycases = dft_ct_new_cases.cumsum(axis=1)"
   ]
  },
  {
   "cell_type": "code",
   "execution_count": 20,
   "id": "parliamentary-calgary",
   "metadata": {
    "execution": {
     "iopub.execute_input": "2022-11-19T00:45:46.426875Z",
     "iopub.status.busy": "2022-11-19T00:45:46.426308Z",
     "iopub.status.idle": "2022-11-19T00:45:46.975528Z",
     "shell.execute_reply": "2022-11-19T00:45:46.974947Z"
    },
    "papermill": {
     "duration": 0.580218,
     "end_time": "2022-11-19T00:45:46.975671",
     "exception": false,
     "start_time": "2022-11-19T00:45:46.395453",
     "status": "completed"
    },
    "tags": []
   },
   "outputs": [],
   "source": [
    "#hide\n",
    "import pandas as pd\n",
    "import matplotlib.pyplot as plt\n",
    "import matplotlib.ticker as ticker\n",
    "import matplotlib.animation as animation\n",
    "from IPython.display import HTML"
   ]
  },
  {
   "cell_type": "code",
   "execution_count": 21,
   "id": "lasting-extraction",
   "metadata": {
    "execution": {
     "iopub.execute_input": "2022-11-19T00:45:47.038792Z",
     "iopub.status.busy": "2022-11-19T00:45:47.038221Z",
     "iopub.status.idle": "2022-11-19T00:45:47.045825Z",
     "shell.execute_reply": "2022-11-19T00:45:47.046316Z"
    },
    "papermill": {
     "duration": 0.042237,
     "end_time": "2022-11-19T00:45:47.046466",
     "exception": false,
     "start_time": "2022-11-19T00:45:47.004229",
     "status": "completed"
    },
    "tags": []
   },
   "outputs": [],
   "source": [
    "#hide\n",
    "t = everydaycases.stack()"
   ]
  },
  {
   "cell_type": "code",
   "execution_count": 22,
   "id": "premier-sleeve",
   "metadata": {
    "execution": {
     "iopub.execute_input": "2022-11-19T00:45:47.106184Z",
     "iopub.status.busy": "2022-11-19T00:45:47.105637Z",
     "iopub.status.idle": "2022-11-19T00:45:47.118994Z",
     "shell.execute_reply": "2022-11-19T00:45:47.119493Z"
    },
    "papermill": {
     "duration": 0.045782,
     "end_time": "2022-11-19T00:45:47.119615",
     "exception": false,
     "start_time": "2022-11-19T00:45:47.073833",
     "status": "completed"
    },
    "tags": []
   },
   "outputs": [],
   "source": [
    "#hide\n",
    "g = t.reset_index(['Country/Region'])"
   ]
  },
  {
   "cell_type": "code",
   "execution_count": 23,
   "id": "distributed-pittsburgh",
   "metadata": {
    "execution": {
     "iopub.execute_input": "2022-11-19T00:45:47.178291Z",
     "iopub.status.busy": "2022-11-19T00:45:47.177601Z",
     "iopub.status.idle": "2022-11-19T00:45:47.179367Z",
     "shell.execute_reply": "2022-11-19T00:45:47.179873Z"
    },
    "papermill": {
     "duration": 0.033455,
     "end_time": "2022-11-19T00:45:47.180013",
     "exception": false,
     "start_time": "2022-11-19T00:45:47.146558",
     "status": "completed"
    },
    "tags": []
   },
   "outputs": [],
   "source": [
    "#hide\n",
    "g.index.name = 'date'"
   ]
  },
  {
   "cell_type": "code",
   "execution_count": 24,
   "id": "naked-donor",
   "metadata": {
    "execution": {
     "iopub.execute_input": "2022-11-19T00:45:47.246084Z",
     "iopub.status.busy": "2022-11-19T00:45:47.245385Z",
     "iopub.status.idle": "2022-11-19T00:45:47.247785Z",
     "shell.execute_reply": "2022-11-19T00:45:47.247377Z"
    },
    "papermill": {
     "duration": 0.036526,
     "end_time": "2022-11-19T00:45:47.247892",
     "exception": false,
     "start_time": "2022-11-19T00:45:47.211366",
     "status": "completed"
    },
    "tags": []
   },
   "outputs": [],
   "source": [
    "# #hide\n",
    "# g = g.reset_index(['date'])"
   ]
  },
  {
   "cell_type": "code",
   "execution_count": 25,
   "id": "incomplete-mustang",
   "metadata": {
    "execution": {
     "iopub.execute_input": "2022-11-19T00:45:47.307010Z",
     "iopub.status.busy": "2022-11-19T00:45:47.306256Z",
     "iopub.status.idle": "2022-11-19T00:45:47.307775Z",
     "shell.execute_reply": "2022-11-19T00:45:47.308330Z"
    },
    "papermill": {
     "duration": 0.033374,
     "end_time": "2022-11-19T00:45:47.308464",
     "exception": false,
     "start_time": "2022-11-19T00:45:47.275090",
     "status": "completed"
    },
    "tags": []
   },
   "outputs": [],
   "source": [
    "#hide\n",
    "# g.head()"
   ]
  },
  {
   "cell_type": "code",
   "execution_count": 26,
   "id": "specific-kruger",
   "metadata": {
    "execution": {
     "iopub.execute_input": "2022-11-19T00:45:47.374726Z",
     "iopub.status.busy": "2022-11-19T00:45:47.373973Z",
     "iopub.status.idle": "2022-11-19T00:45:47.377855Z",
     "shell.execute_reply": "2022-11-19T00:45:47.377338Z"
    },
    "papermill": {
     "duration": 0.038586,
     "end_time": "2022-11-19T00:45:47.377986",
     "exception": false,
     "start_time": "2022-11-19T00:45:47.339400",
     "status": "completed"
    },
    "tags": []
   },
   "outputs": [],
   "source": [
    "#hide\n",
    "# g.columns = ['date','country','cases']"
   ]
  },
  {
   "cell_type": "code",
   "execution_count": 27,
   "id": "tender-conversion",
   "metadata": {
    "execution": {
     "iopub.execute_input": "2022-11-19T00:45:47.436793Z",
     "iopub.status.busy": "2022-11-19T00:45:47.436117Z",
     "iopub.status.idle": "2022-11-19T00:45:47.440048Z",
     "shell.execute_reply": "2022-11-19T00:45:47.439621Z"
    },
    "papermill": {
     "duration": 0.034977,
     "end_time": "2022-11-19T00:45:47.440147",
     "exception": false,
     "start_time": "2022-11-19T00:45:47.405170",
     "status": "completed"
    },
    "tags": []
   },
   "outputs": [],
   "source": [
    "#hide\n",
    "# g['continent'] = g.country"
   ]
  },
  {
   "cell_type": "code",
   "execution_count": 28,
   "id": "substantial-wilderness",
   "metadata": {
    "execution": {
     "iopub.execute_input": "2022-11-19T00:45:47.499043Z",
     "iopub.status.busy": "2022-11-19T00:45:47.498015Z",
     "iopub.status.idle": "2022-11-19T00:45:47.499840Z",
     "shell.execute_reply": "2022-11-19T00:45:47.500342Z"
    },
    "papermill": {
     "duration": 0.0333,
     "end_time": "2022-11-19T00:45:47.500485",
     "exception": false,
     "start_time": "2022-11-19T00:45:47.467185",
     "status": "completed"
    },
    "tags": []
   },
   "outputs": [],
   "source": [
    "#hide\n",
    "# cols = list(g.columns.values)"
   ]
  },
  {
   "cell_type": "code",
   "execution_count": 29,
   "id": "solved-farming",
   "metadata": {
    "execution": {
     "iopub.execute_input": "2022-11-19T00:45:47.566011Z",
     "iopub.status.busy": "2022-11-19T00:45:47.565296Z",
     "iopub.status.idle": "2022-11-19T00:45:47.567133Z",
     "shell.execute_reply": "2022-11-19T00:45:47.567683Z"
    },
    "papermill": {
     "duration": 0.03681,
     "end_time": "2022-11-19T00:45:47.567831",
     "exception": false,
     "start_time": "2022-11-19T00:45:47.531021",
     "status": "completed"
    },
    "tags": []
   },
   "outputs": [],
   "source": [
    "#hide\n",
    "# cols.insert(0, cols.pop())"
   ]
  },
  {
   "cell_type": "code",
   "execution_count": 30,
   "id": "executed-adoption",
   "metadata": {
    "execution": {
     "iopub.execute_input": "2022-11-19T00:45:47.627202Z",
     "iopub.status.busy": "2022-11-19T00:45:47.626504Z",
     "iopub.status.idle": "2022-11-19T00:45:47.628143Z",
     "shell.execute_reply": "2022-11-19T00:45:47.628648Z"
    },
    "papermill": {
     "duration": 0.03257,
     "end_time": "2022-11-19T00:45:47.628788",
     "exception": false,
     "start_time": "2022-11-19T00:45:47.596218",
     "status": "completed"
    },
    "tags": []
   },
   "outputs": [],
   "source": [
    "#hide\n",
    "# g = g[cols]"
   ]
  },
  {
   "cell_type": "code",
   "execution_count": 31,
   "id": "subject-dublin",
   "metadata": {
    "execution": {
     "iopub.execute_input": "2022-11-19T00:45:47.694130Z",
     "iopub.status.busy": "2022-11-19T00:45:47.693454Z",
     "iopub.status.idle": "2022-11-19T00:45:47.695771Z",
     "shell.execute_reply": "2022-11-19T00:45:47.695354Z"
    },
    "papermill": {
     "duration": 0.036198,
     "end_time": "2022-11-19T00:45:47.695868",
     "exception": false,
     "start_time": "2022-11-19T00:45:47.659670",
     "status": "completed"
    },
    "tags": []
   },
   "outputs": [],
   "source": [
    "#hide\n",
    "# g['continent'] = g['continent'].map(mapping['map.continent'])"
   ]
  },
  {
   "cell_type": "code",
   "execution_count": 32,
   "id": "freelance-scout",
   "metadata": {
    "execution": {
     "iopub.execute_input": "2022-11-19T00:45:47.754049Z",
     "iopub.status.busy": "2022-11-19T00:45:47.753367Z",
     "iopub.status.idle": "2022-11-19T00:45:47.756845Z",
     "shell.execute_reply": "2022-11-19T00:45:47.757291Z"
    },
    "papermill": {
     "duration": 0.034572,
     "end_time": "2022-11-19T00:45:47.757419",
     "exception": false,
     "start_time": "2022-11-19T00:45:47.722847",
     "status": "completed"
    },
    "tags": []
   },
   "outputs": [],
   "source": [
    "#hide\n",
    "# g.head()"
   ]
  },
  {
   "cell_type": "code",
   "execution_count": 33,
   "id": "limited-engine",
   "metadata": {
    "execution": {
     "iopub.execute_input": "2022-11-19T00:45:47.822362Z",
     "iopub.status.busy": "2022-11-19T00:45:47.821677Z",
     "iopub.status.idle": "2022-11-19T00:45:47.825762Z",
     "shell.execute_reply": "2022-11-19T00:45:47.825192Z"
    },
    "papermill": {
     "duration": 0.038016,
     "end_time": "2022-11-19T00:45:47.825885",
     "exception": false,
     "start_time": "2022-11-19T00:45:47.787869",
     "status": "completed"
    },
    "tags": []
   },
   "outputs": [],
   "source": [
    "# hide\n",
    "# g['date'] = g['date'].astype('datetime64[ns]')"
   ]
  },
  {
   "cell_type": "code",
   "execution_count": 34,
   "id": "sophisticated-supervisor",
   "metadata": {
    "execution": {
     "iopub.execute_input": "2022-11-19T00:45:47.884204Z",
     "iopub.status.busy": "2022-11-19T00:45:47.883510Z",
     "iopub.status.idle": "2022-11-19T00:45:47.885199Z",
     "shell.execute_reply": "2022-11-19T00:45:47.885705Z"
    },
    "papermill": {
     "duration": 0.032555,
     "end_time": "2022-11-19T00:45:47.885844",
     "exception": false,
     "start_time": "2022-11-19T00:45:47.853289",
     "status": "completed"
    },
    "tags": []
   },
   "outputs": [],
   "source": [
    "#hide\n",
    "# g['date'] = g.date.dt.dayofyear"
   ]
  },
  {
   "cell_type": "code",
   "execution_count": 35,
   "id": "inside-dubai",
   "metadata": {
    "execution": {
     "iopub.execute_input": "2022-11-19T00:45:47.950135Z",
     "iopub.status.busy": "2022-11-19T00:45:47.949592Z",
     "iopub.status.idle": "2022-11-19T00:45:47.952105Z",
     "shell.execute_reply": "2022-11-19T00:45:47.951689Z"
    },
    "papermill": {
     "duration": 0.035931,
     "end_time": "2022-11-19T00:45:47.952202",
     "exception": false,
     "start_time": "2022-11-19T00:45:47.916271",
     "status": "completed"
    },
    "tags": []
   },
   "outputs": [],
   "source": [
    "#hide\n",
    "# g = g.rename(columns= {'continent':'group','country':'name','cases':'value'})"
   ]
  },
  {
   "cell_type": "code",
   "execution_count": 36,
   "id": "fleet-motorcycle",
   "metadata": {
    "execution": {
     "iopub.execute_input": "2022-11-19T00:45:48.009885Z",
     "iopub.status.busy": "2022-11-19T00:45:48.009211Z",
     "iopub.status.idle": "2022-11-19T00:45:48.010832Z",
     "shell.execute_reply": "2022-11-19T00:45:48.011274Z"
    },
    "papermill": {
     "duration": 0.032275,
     "end_time": "2022-11-19T00:45:48.011396",
     "exception": false,
     "start_time": "2022-11-19T00:45:47.979121",
     "status": "completed"
    },
    "tags": []
   },
   "outputs": [],
   "source": [
    "#hide\n",
    "# cols = ['name','group','day','value']"
   ]
  },
  {
   "cell_type": "code",
   "execution_count": 37,
   "id": "continued-sleeping",
   "metadata": {
    "execution": {
     "iopub.execute_input": "2022-11-19T00:45:48.076230Z",
     "iopub.status.busy": "2022-11-19T00:45:48.075635Z",
     "iopub.status.idle": "2022-11-19T00:45:48.077834Z",
     "shell.execute_reply": "2022-11-19T00:45:48.078414Z"
    },
    "papermill": {
     "duration": 0.036935,
     "end_time": "2022-11-19T00:45:48.078548",
     "exception": false,
     "start_time": "2022-11-19T00:45:48.041613",
     "status": "completed"
    },
    "tags": []
   },
   "outputs": [],
   "source": [
    "#hide\n",
    "# g.rename(columns= {'date':'day'},inplace = True)"
   ]
  },
  {
   "cell_type": "code",
   "execution_count": 38,
   "id": "major-fight",
   "metadata": {
    "execution": {
     "iopub.execute_input": "2022-11-19T00:45:48.143339Z",
     "iopub.status.busy": "2022-11-19T00:45:48.142792Z",
     "iopub.status.idle": "2022-11-19T00:45:48.146520Z",
     "shell.execute_reply": "2022-11-19T00:45:48.146026Z"
    },
    "papermill": {
     "duration": 0.037562,
     "end_time": "2022-11-19T00:45:48.146630",
     "exception": false,
     "start_time": "2022-11-19T00:45:48.109068",
     "status": "completed"
    },
    "tags": []
   },
   "outputs": [],
   "source": [
    "#hide\n",
    "# g = g[cols]"
   ]
  },
  {
   "cell_type": "code",
   "execution_count": 39,
   "id": "structured-mobile",
   "metadata": {
    "execution": {
     "iopub.execute_input": "2022-11-19T00:45:48.211637Z",
     "iopub.status.busy": "2022-11-19T00:45:48.210951Z",
     "iopub.status.idle": "2022-11-19T00:45:48.213544Z",
     "shell.execute_reply": "2022-11-19T00:45:48.212901Z"
    },
    "papermill": {
     "duration": 0.036719,
     "end_time": "2022-11-19T00:45:48.213667",
     "exception": false,
     "start_time": "2022-11-19T00:45:48.176948",
     "status": "completed"
    },
    "tags": []
   },
   "outputs": [],
   "source": [
    "# #hide\n",
    "# g = g[g.group.notna()]"
   ]
  },
  {
   "cell_type": "code",
   "execution_count": 40,
   "id": "determined-closing",
   "metadata": {
    "execution": {
     "iopub.execute_input": "2022-11-19T00:45:48.271719Z",
     "iopub.status.busy": "2022-11-19T00:45:48.271029Z",
     "iopub.status.idle": "2022-11-19T00:45:48.272745Z",
     "shell.execute_reply": "2022-11-19T00:45:48.273250Z"
    },
    "papermill": {
     "duration": 0.032508,
     "end_time": "2022-11-19T00:45:48.273391",
     "exception": false,
     "start_time": "2022-11-19T00:45:48.240883",
     "status": "completed"
    },
    "tags": []
   },
   "outputs": [],
   "source": [
    "# #hide\n",
    "# colors = dict(zip(\n",
    "#     [\"Oceania\", \"Europe\", \"Asia\", \"South America\", \"Middle East\", \"North America\", \"Africa\"],\n",
    "#     [\"#adb0ff\", \"#ffb3ff\", \"#90d595\", \"#e48381\", \"#aafbff\", \"#f7bb5f\", \"#eafb50\"]\n",
    "# ))\n",
    "# group_lk = g.set_index('name')['group'].to_dict()"
   ]
  },
  {
   "cell_type": "code",
   "execution_count": null,
   "id": "gross-drinking",
   "metadata": {
    "papermill": {
     "duration": 0.030367,
     "end_time": "2022-11-19T00:45:48.334263",
     "exception": false,
     "start_time": "2022-11-19T00:45:48.303896",
     "status": "completed"
    },
    "tags": []
   },
   "outputs": [],
   "source": []
  },
  {
   "cell_type": "code",
   "execution_count": 41,
   "id": "subject-macintosh",
   "metadata": {
    "execution": {
     "iopub.execute_input": "2022-11-19T00:45:48.401324Z",
     "iopub.status.busy": "2022-11-19T00:45:48.400716Z",
     "iopub.status.idle": "2022-11-19T00:45:48.402746Z",
     "shell.execute_reply": "2022-11-19T00:45:48.403300Z"
    },
    "papermill": {
     "duration": 0.038669,
     "end_time": "2022-11-19T00:45:48.403428",
     "exception": false,
     "start_time": "2022-11-19T00:45:48.364759",
     "status": "completed"
    },
    "tags": []
   },
   "outputs": [],
   "source": [
    "# #hide\n",
    "# fig, ax = plt.subplots(figsize=(15, 8))\n",
    "\n",
    "# def draw_barchart(current_day):\n",
    "#     dff = g[g['day'].eq(current_day)].sort_values(by='value', ascending=True).tail(10)\n",
    "#     ax.clear()\n",
    "#     ax.barh(dff['name'], dff['value'], color=[colors[group_lk[x]] for x in dff['name']])\n",
    "#     dx = dff['value'].max() / 200\n",
    "    \n",
    "#     for i, (value, name) in enumerate(zip(dff['value'], dff['name'])):\n",
    "#         ax.text(value-dx, i,     name,           size=14, weight=600, ha='right', va='bottom')\n",
    "#         ax.text(value-dx, i-.25, group_lk[name], size=10, color='#444444', ha='right', va='baseline')\n",
    "#         ax.text(value+dx, i,     f'{value:,.0f}',  size=14, ha='left',  va='center')\n",
    "#     ax.text(1, 0.4, current_day, transform=ax.transAxes, color='#777777', size=46, ha='right', weight=800)\n",
    "#     ax.text(0, 1.06, 'Population (thousands)', transform=ax.transAxes, size=12, color='#777777')\n",
    "#     ax.xaxis.set_major_formatter(ticker.StrMethodFormatter('{x:,.0f}'))\n",
    "#     ax.xaxis.set_ticks_position('top')\n",
    "#     ax.tick_params(axis='x', colors='#777777', labelsize=12)\n",
    "#     ax.set_yticks([])\n",
    "#     ax.margins(0, 0.01)\n",
    "#     ax.grid(which='major', axis='x', linestyle='-')\n",
    "#     ax.set_axisbelow(True)\n",
    "    \n",
    "#     ax.text(0, 1.15, 'Coronavirus',\n",
    "#             transform=ax.transAxes, size=24, weight=600, ha='left', va='top')\n",
    "# #     ax.text(1, 0, 'by @pratapvardhan; credit @jburnmurdoch', transform=ax.transAxes, color='#777777', ha='right',\n",
    "# #             bbox=dict(facecolor='white', alpha=0.8, edgecolor='white'))\n",
    "#     plt.box(False)"
   ]
  },
  {
   "cell_type": "code",
   "execution_count": 42,
   "id": "sexual-wages",
   "metadata": {
    "execution": {
     "iopub.execute_input": "2022-11-19T00:45:48.468304Z",
     "iopub.status.busy": "2022-11-19T00:45:48.467723Z",
     "iopub.status.idle": "2022-11-19T00:45:48.470461Z",
     "shell.execute_reply": "2022-11-19T00:45:48.469966Z"
    },
    "papermill": {
     "duration": 0.036594,
     "end_time": "2022-11-19T00:45:48.470571",
     "exception": false,
     "start_time": "2022-11-19T00:45:48.433977",
     "status": "completed"
    },
    "tags": []
   },
   "outputs": [],
   "source": [
    "# #hide_input\n",
    "# fig, ax = plt.subplots(figsize=(15, 8))\n",
    "# animator = animation.FuncAnimation(fig, draw_barchart, frames=range(g.day.values.min(), g.day.values.max()))\n",
    "# HTML(animator.to_jshtml())\n",
    "# # or use animator.to_html5_video() or animator.save() "
   ]
  },
  {
   "cell_type": "code",
   "execution_count": null,
   "id": "australian-container",
   "metadata": {
    "papermill": {
     "duration": 0.030364,
     "end_time": "2022-11-19T00:45:48.531409",
     "exception": false,
     "start_time": "2022-11-19T00:45:48.501045",
     "status": "completed"
    },
    "tags": []
   },
   "outputs": [],
   "source": []
  },
  {
   "cell_type": "code",
   "execution_count": null,
   "id": "mediterranean-pontiac",
   "metadata": {
    "papermill": {
     "duration": 0.030422,
     "end_time": "2022-11-19T00:45:48.592088",
     "exception": false,
     "start_time": "2022-11-19T00:45:48.561666",
     "status": "completed"
    },
    "tags": []
   },
   "outputs": [],
   "source": []
  },
  {
   "cell_type": "code",
   "execution_count": null,
   "id": "aging-legislature",
   "metadata": {
    "papermill": {
     "duration": 0.030358,
     "end_time": "2022-11-19T00:45:48.652871",
     "exception": false,
     "start_time": "2022-11-19T00:45:48.622513",
     "status": "completed"
    },
    "tags": []
   },
   "outputs": [],
   "source": []
  }
 ],
 "metadata": {
  "kernelspec": {
   "display_name": "Python 3",
   "language": "python",
   "name": "python3"
  },
  "language_info": {
   "codemirror_mode": {
    "name": "ipython",
    "version": 3
   },
   "file_extension": ".py",
   "mimetype": "text/x-python",
   "name": "python",
   "nbconvert_exporter": "python",
   "pygments_lexer": "ipython3",
   "version": "3.6.15"
  },
  "papermill": {
   "duration": 5.888345,
   "end_time": "2022-11-19T00:45:49.001971",
   "environment_variables": {},
   "exception": null,
   "input_path": "2020-03-21-covid19exp.ipynb",
   "output_path": "2020-03-21-covid19exp.ipynb",
   "parameters": {},
   "start_time": "2022-11-19T00:45:43.113626",
   "version": "2.0.0"
  }
 },
 "nbformat": 4,
 "nbformat_minor": 5
}