{
 "cells": [
  {
   "cell_type": "markdown",
   "id": "muslim-click",
   "metadata": {
    "papermill": {
     "duration": 0.046303,
     "end_time": "2022-08-30T12:21:46.330136",
     "exception": false,
     "start_time": "2022-08-30T12:21:46.283833",
     "status": "completed"
    },
    "tags": []
   },
   "source": [
    "# COVID-19 Case Race\n",
    "> A race chart to see rising cases around the world\n",
    "\n",
    "- author: Hargun Oberoi\n",
    "- image: images/covid-overview.png\n",
    "- hide: false\n",
    "- badges: false"
   ]
  },
  {
   "cell_type": "code",
   "execution_count": 1,
   "id": "proof-material",
   "metadata": {
    "execution": {
     "iopub.execute_input": "2022-08-30T12:21:46.427161Z",
     "iopub.status.busy": "2022-08-30T12:21:46.426184Z",
     "iopub.status.idle": "2022-08-30T12:21:46.882998Z",
     "shell.execute_reply": "2022-08-30T12:21:46.882133Z"
    },
    "papermill": {
     "duration": 0.51125,
     "end_time": "2022-08-30T12:21:46.883189",
     "exception": false,
     "start_time": "2022-08-30T12:21:46.371939",
     "status": "completed"
    },
    "tags": []
   },
   "outputs": [],
   "source": [
    "#hide\n",
    "import numpy as np\n",
    "import pandas as pd\n",
    "from jinja2 import Template\n",
    "from IPython.display import HTML"
   ]
  },
  {
   "cell_type": "code",
   "execution_count": 2,
   "id": "developed-terminology",
   "metadata": {
    "execution": {
     "iopub.execute_input": "2022-08-30T12:21:46.978514Z",
     "iopub.status.busy": "2022-08-30T12:21:46.977735Z",
     "iopub.status.idle": "2022-08-30T12:21:46.982235Z",
     "shell.execute_reply": "2022-08-30T12:21:46.981564Z"
    },
    "papermill": {
     "duration": 0.051247,
     "end_time": "2022-08-30T12:21:46.982413",
     "exception": false,
     "start_time": "2022-08-30T12:21:46.931166",
     "status": "completed"
    },
    "tags": []
   },
   "outputs": [],
   "source": [
    "#hide\n",
    "\n",
    "# FETCH\n",
    "base_url = 'https://raw.githubusercontent.com/pratapvardhan/notebooks/master/covid19/'\n",
    "paths = {\n",
    "    'mapping': base_url + 'mapping_countries.csv',\n",
    "    'overview': base_url + 'overview.tpl'\n",
    "}"
   ]
  },
  {
   "cell_type": "code",
   "execution_count": 3,
   "id": "dynamic-saver",
   "metadata": {
    "execution": {
     "iopub.execute_input": "2022-08-30T12:21:47.079054Z",
     "iopub.status.busy": "2022-08-30T12:21:47.075433Z",
     "iopub.status.idle": "2022-08-30T12:21:47.084104Z",
     "shell.execute_reply": "2022-08-30T12:21:47.083396Z"
    },
    "papermill": {
     "duration": 0.059977,
     "end_time": "2022-08-30T12:21:47.084273",
     "exception": false,
     "start_time": "2022-08-30T12:21:47.024296",
     "status": "completed"
    },
    "tags": []
   },
   "outputs": [
    {
     "data": {
      "text/plain": [
       "'https://raw.githubusercontent.com/pratapvardhan/notebooks/master/covid19/mapping_countries.csv'"
      ]
     },
     "execution_count": 3,
     "metadata": {},
     "output_type": "execute_result"
    }
   ],
   "source": [
    "#hide\n",
    "paths['mapping']"
   ]
  },
  {
   "cell_type": "code",
   "execution_count": 4,
   "id": "urban-software",
   "metadata": {
    "execution": {
     "iopub.execute_input": "2022-08-30T12:21:47.173339Z",
     "iopub.status.busy": "2022-08-30T12:21:47.172539Z",
     "iopub.status.idle": "2022-08-30T12:21:47.177083Z",
     "shell.execute_reply": "2022-08-30T12:21:47.175159Z"
    },
    "papermill": {
     "duration": 0.051844,
     "end_time": "2022-08-30T12:21:47.177238",
     "exception": false,
     "start_time": "2022-08-30T12:21:47.125394",
     "status": "completed"
    },
    "tags": []
   },
   "outputs": [],
   "source": [
    "#hide\n",
    "def get_mappings(url):\n",
    "    df = pd.read_csv(url)\n",
    "    return {\n",
    "        'df': df,\n",
    "        'replace.country': dict(df.dropna(subset=['Name']).set_index('Country')['Name']),\n",
    "        'map.continent': dict(df.set_index('Name')['Continent'])\n",
    "    }"
   ]
  },
  {
   "cell_type": "code",
   "execution_count": 5,
   "id": "intimate-machinery",
   "metadata": {
    "execution": {
     "iopub.execute_input": "2022-08-30T12:21:47.282557Z",
     "iopub.status.busy": "2022-08-30T12:21:47.281683Z",
     "iopub.status.idle": "2022-08-30T12:21:47.340958Z",
     "shell.execute_reply": "2022-08-30T12:21:47.340288Z"
    },
    "papermill": {
     "duration": 0.113454,
     "end_time": "2022-08-30T12:21:47.341116",
     "exception": false,
     "start_time": "2022-08-30T12:21:47.227662",
     "status": "completed"
    },
    "tags": []
   },
   "outputs": [],
   "source": [
    "#hide\n",
    "mapping = get_mappings(paths['mapping'])"
   ]
  },
  {
   "cell_type": "code",
   "execution_count": 6,
   "id": "certified-tactics",
   "metadata": {
    "execution": {
     "iopub.execute_input": "2022-08-30T12:21:47.436703Z",
     "iopub.status.busy": "2022-08-30T12:21:47.435848Z",
     "iopub.status.idle": "2022-08-30T12:21:47.439080Z",
     "shell.execute_reply": "2022-08-30T12:21:47.438176Z"
    },
    "papermill": {
     "duration": 0.055702,
     "end_time": "2022-08-30T12:21:47.439236",
     "exception": false,
     "start_time": "2022-08-30T12:21:47.383534",
     "status": "completed"
    },
    "tags": []
   },
   "outputs": [],
   "source": [
    "#hide\n",
    "def get_template(path):\n",
    "    from urllib.parse import urlparse\n",
    "    if bool(urlparse(path).netloc):\n",
    "        from urllib.request import urlopen\n",
    "        return urlopen(path).read().decode('utf8')\n",
    "    return open(path).read()"
   ]
  },
  {
   "cell_type": "code",
   "execution_count": 7,
   "id": "realistic-blast",
   "metadata": {
    "execution": {
     "iopub.execute_input": "2022-08-30T12:21:47.552990Z",
     "iopub.status.busy": "2022-08-30T12:21:47.551947Z",
     "iopub.status.idle": "2022-08-30T12:21:47.555825Z",
     "shell.execute_reply": "2022-08-30T12:21:47.557035Z"
    },
    "papermill": {
     "duration": 0.071322,
     "end_time": "2022-08-30T12:21:47.557332",
     "exception": false,
     "start_time": "2022-08-30T12:21:47.486010",
     "status": "completed"
    },
    "tags": []
   },
   "outputs": [],
   "source": [
    "#hide\n",
    "def get_frame(name):\n",
    "    url = (\n",
    "        'https://raw.githubusercontent.com/CSSEGISandData/COVID-19/master/csse_covid_19_data/'\n",
    "        f'csse_covid_19_time_series/time_series_covid19_{name}_global.csv')\n",
    "    df = pd.read_csv(url)\n",
    "    # rename countries\n",
    "    df['Country/Region'] = df['Country/Region'].replace(mapping['replace.country'])\n",
    "    return df"
   ]
  },
  {
   "cell_type": "code",
   "execution_count": 8,
   "id": "affiliated-characterization",
   "metadata": {
    "execution": {
     "iopub.execute_input": "2022-08-30T12:21:47.663410Z",
     "iopub.status.busy": "2022-08-30T12:21:47.662548Z",
     "iopub.status.idle": "2022-08-30T12:21:47.671328Z",
     "shell.execute_reply": "2022-08-30T12:21:47.670600Z"
    },
    "papermill": {
     "duration": 0.056291,
     "end_time": "2022-08-30T12:21:47.671487",
     "exception": false,
     "start_time": "2022-08-30T12:21:47.615196",
     "status": "completed"
    },
    "tags": []
   },
   "outputs": [],
   "source": [
    "#hide\n",
    "def get_dates(df):\n",
    "    dt_cols = df.columns[~df.columns.isin(['Province/State', 'Country/Region', 'Lat', 'Long'])]\n",
    "    LAST_DATE_I = -1\n",
    "    # sometimes last column may be empty, then go backwards\n",
    "    for i in range(-1, -len(dt_cols), -1):\n",
    "        if not df[dt_cols[i]].fillna(0).eq(0).all():\n",
    "            LAST_DATE_I = i\n",
    "            break\n",
    "    return LAST_DATE_I, dt_cols"
   ]
  },
  {
   "cell_type": "code",
   "execution_count": 9,
   "id": "recent-optimization",
   "metadata": {
    "execution": {
     "iopub.execute_input": "2022-08-30T12:21:47.774680Z",
     "iopub.status.busy": "2022-08-30T12:21:47.773896Z",
     "iopub.status.idle": "2022-08-30T12:21:48.453440Z",
     "shell.execute_reply": "2022-08-30T12:21:48.454128Z"
    },
    "papermill": {
     "duration": 0.730261,
     "end_time": "2022-08-30T12:21:48.454361",
     "exception": false,
     "start_time": "2022-08-30T12:21:47.724100",
     "status": "completed"
    },
    "tags": []
   },
   "outputs": [],
   "source": [
    "#hide\n",
    "COL_REGION = 'Country/Region'\n",
    "# Confirmed, Recovered, Deaths\n",
    "df = get_frame('confirmed')\n",
    "# dft_: timeseries, dfc_: today country agg\n",
    "dft_cases = df\n",
    "dft_deaths = get_frame('deaths')\n",
    "dft_recovered = get_frame('recovered')\n",
    "LAST_DATE_I, dt_cols = get_dates(df)"
   ]
  },
  {
   "cell_type": "code",
   "execution_count": 10,
   "id": "absolute-copper",
   "metadata": {
    "execution": {
     "iopub.execute_input": "2022-08-30T12:21:48.544789Z",
     "iopub.status.busy": "2022-08-30T12:21:48.544009Z",
     "iopub.status.idle": "2022-08-30T12:21:48.549049Z",
     "shell.execute_reply": "2022-08-30T12:21:48.549629Z"
    },
    "papermill": {
     "duration": 0.054369,
     "end_time": "2022-08-30T12:21:48.549806",
     "exception": false,
     "start_time": "2022-08-30T12:21:48.495437",
     "status": "completed"
    },
    "tags": []
   },
   "outputs": [],
   "source": [
    "#hide\n",
    "LAST_DATE_I, dt_cols = get_dates(df)\n",
    "dt_today =dt_cols[LAST_DATE_I]\n",
    "# dt_5day = dt_cols[LAST_DATE_I - 5]\n",
    "dt_yday = dt_cols[LAST_DATE_I - 1]"
   ]
  },
  {
   "cell_type": "code",
   "execution_count": 11,
   "id": "restricted-sheriff",
   "metadata": {
    "execution": {
     "iopub.execute_input": "2022-08-30T12:21:48.654298Z",
     "iopub.status.busy": "2022-08-30T12:21:48.648424Z",
     "iopub.status.idle": "2022-08-30T12:21:48.658324Z",
     "shell.execute_reply": "2022-08-30T12:21:48.657243Z"
    },
    "papermill": {
     "duration": 0.066444,
     "end_time": "2022-08-30T12:21:48.658479",
     "exception": false,
     "start_time": "2022-08-30T12:21:48.592035",
     "status": "completed"
    },
    "tags": []
   },
   "outputs": [],
   "source": [
    "#hide\n",
    "dfc_cases = dft_cases.groupby(COL_REGION)[dt_today].sum()\n",
    "dfc_deaths = dft_deaths.groupby(COL_REGION)[dt_today].sum()\n",
    "# dfp_cases = dft_cases.groupby(COL_REGION)[dt_5day].sum()\n",
    "# dfp_deaths = dft_deaths.groupby(COL_REGION)[dt_5day].sum()\n",
    "dfp_cases = dft_cases.groupby(COL_REGION)[dt_yday].sum()\n",
    "dfp_deaths = dft_deaths.groupby(COL_REGION)[dt_yday].sum()"
   ]
  },
  {
   "cell_type": "code",
   "execution_count": 12,
   "id": "deluxe-hepatitis",
   "metadata": {
    "execution": {
     "iopub.execute_input": "2022-08-30T12:21:48.756628Z",
     "iopub.status.busy": "2022-08-30T12:21:48.755746Z",
     "iopub.status.idle": "2022-08-30T12:21:48.762186Z",
     "shell.execute_reply": "2022-08-30T12:21:48.761558Z"
    },
    "papermill": {
     "duration": 0.055322,
     "end_time": "2022-08-30T12:21:48.762364",
     "exception": false,
     "start_time": "2022-08-30T12:21:48.707042",
     "status": "completed"
    },
    "tags": []
   },
   "outputs": [],
   "source": [
    "#hide\n",
    "df_table = (pd.DataFrame(dict(Cases = dfc_cases, Deaths = dfc_deaths, PCases = dfp_cases, PDeaths = dfp_deaths))\n",
    "            .sort_values(by = ['Cases','Deaths'], ascending = [False, False])\n",
    "            .reset_index())"
   ]
  },
  {
   "cell_type": "code",
   "execution_count": 13,
   "id": "educational-chancellor",
   "metadata": {
    "execution": {
     "iopub.execute_input": "2022-08-30T12:21:48.868272Z",
     "iopub.status.busy": "2022-08-30T12:21:48.867413Z",
     "iopub.status.idle": "2022-08-30T12:21:48.879039Z",
     "shell.execute_reply": "2022-08-30T12:21:48.879652Z"
    },
    "papermill": {
     "duration": 0.07573,
     "end_time": "2022-08-30T12:21:48.879831",
     "exception": false,
     "start_time": "2022-08-30T12:21:48.804101",
     "status": "completed"
    },
    "tags": []
   },
   "outputs": [
    {
     "data": {
      "text/html": [
       "<div>\n",
       "<style scoped>\n",
       "    .dataframe tbody tr th:only-of-type {\n",
       "        vertical-align: middle;\n",
       "    }\n",
       "\n",
       "    .dataframe tbody tr th {\n",
       "        vertical-align: top;\n",
       "    }\n",
       "\n",
       "    .dataframe thead th {\n",
       "        text-align: right;\n",
       "    }\n",
       "</style>\n",
       "<table border=\"1\" class=\"dataframe\">\n",
       "  <thead>\n",
       "    <tr style=\"text-align: right;\">\n",
       "      <th></th>\n",
       "      <th>Country/Region</th>\n",
       "      <th>Cases</th>\n",
       "      <th>Deaths</th>\n",
       "      <th>PCases</th>\n",
       "      <th>PDeaths</th>\n",
       "      <th>Cases (+)</th>\n",
       "      <th>Deaths (+)</th>\n",
       "      <th>Fatality Rate</th>\n",
       "      <th>Continent</th>\n",
       "    </tr>\n",
       "  </thead>\n",
       "  <tbody>\n",
       "    <tr>\n",
       "      <th>0</th>\n",
       "      <td>US</td>\n",
       "      <td>94280272</td>\n",
       "      <td>1044332</td>\n",
       "      <td>94190979</td>\n",
       "      <td>1043840</td>\n",
       "      <td>89293</td>\n",
       "      <td>492</td>\n",
       "      <td>1.11</td>\n",
       "      <td>North America</td>\n",
       "    </tr>\n",
       "    <tr>\n",
       "      <th>1</th>\n",
       "      <td>India</td>\n",
       "      <td>44415723</td>\n",
       "      <td>527799</td>\n",
       "      <td>44415723</td>\n",
       "      <td>527799</td>\n",
       "      <td>0</td>\n",
       "      <td>0</td>\n",
       "      <td>1.19</td>\n",
       "      <td>Asia</td>\n",
       "    </tr>\n",
       "    <tr>\n",
       "      <th>2</th>\n",
       "      <td>France</td>\n",
       "      <td>34698583</td>\n",
       "      <td>155007</td>\n",
       "      <td>34662834</td>\n",
       "      <td>154897</td>\n",
       "      <td>35749</td>\n",
       "      <td>110</td>\n",
       "      <td>0.45</td>\n",
       "      <td>Europe</td>\n",
       "    </tr>\n",
       "    <tr>\n",
       "      <th>3</th>\n",
       "      <td>Brazil</td>\n",
       "      <td>34397205</td>\n",
       "      <td>683622</td>\n",
       "      <td>34368909</td>\n",
       "      <td>683397</td>\n",
       "      <td>28296</td>\n",
       "      <td>225</td>\n",
       "      <td>1.99</td>\n",
       "      <td>South America</td>\n",
       "    </tr>\n",
       "    <tr>\n",
       "      <th>4</th>\n",
       "      <td>Germany</td>\n",
       "      <td>32095854</td>\n",
       "      <td>147223</td>\n",
       "      <td>32041350</td>\n",
       "      <td>147104</td>\n",
       "      <td>54504</td>\n",
       "      <td>119</td>\n",
       "      <td>0.46</td>\n",
       "      <td>Europe</td>\n",
       "    </tr>\n",
       "  </tbody>\n",
       "</table>\n",
       "</div>"
      ],
      "text/plain": [
       "  Country/Region     Cases   Deaths    PCases  PDeaths  Cases (+)  Deaths (+)  \\\n",
       "0             US  94280272  1044332  94190979  1043840      89293         492   \n",
       "1          India  44415723   527799  44415723   527799          0           0   \n",
       "2         France  34698583   155007  34662834   154897      35749         110   \n",
       "3         Brazil  34397205   683622  34368909   683397      28296         225   \n",
       "4        Germany  32095854   147223  32041350   147104      54504         119   \n",
       "\n",
       "   Fatality Rate      Continent  \n",
       "0           1.11  North America  \n",
       "1           1.19           Asia  \n",
       "2           0.45         Europe  \n",
       "3           1.99  South America  \n",
       "4           0.46         Europe  "
      ]
     },
     "execution_count": 13,
     "metadata": {},
     "output_type": "execute_result"
    }
   ],
   "source": [
    "#hide\n",
    "for c in 'Cases, Deaths'.split(', '):\n",
    "    df_table[f'{c} (+)'] = (df_table[c] - df_table[f'P{c}']).clip(0)\n",
    "    #Clip ça veut dire, les chiffres negatif sont interdit\n",
    "df_table['Fatality Rate'] = (100* df_table['Deaths']/ df_table['Cases']).round(2)\n",
    "df_table['Continent'] = df_table['Country/Region'].map(mapping['map.continent'])\n",
    "df_table.head(5)"
   ]
  },
  {
   "cell_type": "code",
   "execution_count": 14,
   "id": "aboriginal-bulgaria",
   "metadata": {
    "execution": {
     "iopub.execute_input": "2022-08-30T12:21:48.972427Z",
     "iopub.status.busy": "2022-08-30T12:21:48.971628Z",
     "iopub.status.idle": "2022-08-30T12:21:48.978362Z",
     "shell.execute_reply": "2022-08-30T12:21:48.977754Z"
    },
    "papermill": {
     "duration": 0.056534,
     "end_time": "2022-08-30T12:21:48.978530",
     "exception": false,
     "start_time": "2022-08-30T12:21:48.921996",
     "status": "completed"
    },
    "tags": []
   },
   "outputs": [],
   "source": [
    "#hide\n",
    "#delete problematic countries from table\n",
    "df_table = df_table[~df_table['Country/Region'].isin(['Cape Verde', 'Cruise Ship', 'Kosovo'])]"
   ]
  },
  {
   "cell_type": "code",
   "execution_count": 15,
   "id": "fantastic-effect",
   "metadata": {
    "execution": {
     "iopub.execute_input": "2022-08-30T12:21:49.069878Z",
     "iopub.status.busy": "2022-08-30T12:21:49.069052Z",
     "iopub.status.idle": "2022-08-30T12:21:49.094183Z",
     "shell.execute_reply": "2022-08-30T12:21:49.094812Z"
    },
    "papermill": {
     "duration": 0.076232,
     "end_time": "2022-08-30T12:21:49.094989",
     "exception": false,
     "start_time": "2022-08-30T12:21:49.018757",
     "status": "completed"
    },
    "tags": []
   },
   "outputs": [
    {
     "data": {
      "text/html": [
       "<div>\n",
       "<style scoped>\n",
       "    .dataframe tbody tr th:only-of-type {\n",
       "        vertical-align: middle;\n",
       "    }\n",
       "\n",
       "    .dataframe tbody tr th {\n",
       "        vertical-align: top;\n",
       "    }\n",
       "\n",
       "    .dataframe thead th {\n",
       "        text-align: right;\n",
       "    }\n",
       "</style>\n",
       "<table border=\"1\" class=\"dataframe\">\n",
       "  <thead>\n",
       "    <tr style=\"text-align: right;\">\n",
       "      <th></th>\n",
       "      <th>Country/Region</th>\n",
       "      <th>Cases</th>\n",
       "      <th>Deaths</th>\n",
       "      <th>PCases</th>\n",
       "      <th>PDeaths</th>\n",
       "      <th>Cases (+)</th>\n",
       "      <th>Deaths (+)</th>\n",
       "      <th>Fatality Rate</th>\n",
       "      <th>Continent</th>\n",
       "    </tr>\n",
       "  </thead>\n",
       "  <tbody>\n",
       "    <tr>\n",
       "      <th>0</th>\n",
       "      <td>US</td>\n",
       "      <td>94280272</td>\n",
       "      <td>1044332</td>\n",
       "      <td>94190979</td>\n",
       "      <td>1043840</td>\n",
       "      <td>89293</td>\n",
       "      <td>492</td>\n",
       "      <td>1.1</td>\n",
       "      <td>North America</td>\n",
       "    </tr>\n",
       "    <tr>\n",
       "      <th>1</th>\n",
       "      <td>India</td>\n",
       "      <td>44415723</td>\n",
       "      <td>527799</td>\n",
       "      <td>44415723</td>\n",
       "      <td>527799</td>\n",
       "      <td>0</td>\n",
       "      <td>0</td>\n",
       "      <td>1.2</td>\n",
       "      <td>Asia</td>\n",
       "    </tr>\n",
       "    <tr>\n",
       "      <th>2</th>\n",
       "      <td>France</td>\n",
       "      <td>34698583</td>\n",
       "      <td>155007</td>\n",
       "      <td>34662834</td>\n",
       "      <td>154897</td>\n",
       "      <td>35749</td>\n",
       "      <td>110</td>\n",
       "      <td>0.4</td>\n",
       "      <td>Europe</td>\n",
       "    </tr>\n",
       "    <tr>\n",
       "      <th>3</th>\n",
       "      <td>Brazil</td>\n",
       "      <td>34397205</td>\n",
       "      <td>683622</td>\n",
       "      <td>34368909</td>\n",
       "      <td>683397</td>\n",
       "      <td>28296</td>\n",
       "      <td>225</td>\n",
       "      <td>2.0</td>\n",
       "      <td>South America</td>\n",
       "    </tr>\n",
       "    <tr>\n",
       "      <th>4</th>\n",
       "      <td>Germany</td>\n",
       "      <td>32095854</td>\n",
       "      <td>147223</td>\n",
       "      <td>32041350</td>\n",
       "      <td>147104</td>\n",
       "      <td>54504</td>\n",
       "      <td>119</td>\n",
       "      <td>0.5</td>\n",
       "      <td>Europe</td>\n",
       "    </tr>\n",
       "  </tbody>\n",
       "</table>\n",
       "</div>"
      ],
      "text/plain": [
       "  Country/Region     Cases   Deaths    PCases  PDeaths  Cases (+)  Deaths (+)  \\\n",
       "0             US  94280272  1044332  94190979  1043840      89293         492   \n",
       "1          India  44415723   527799  44415723   527799          0           0   \n",
       "2         France  34698583   155007  34662834   154897      35749         110   \n",
       "3         Brazil  34397205   683622  34368909   683397      28296         225   \n",
       "4        Germany  32095854   147223  32041350   147104      54504         119   \n",
       "\n",
       "   Fatality Rate      Continent  \n",
       "0            1.1  North America  \n",
       "1            1.2           Asia  \n",
       "2            0.4         Europe  \n",
       "3            2.0  South America  \n",
       "4            0.5         Europe  "
      ]
     },
     "execution_count": 15,
     "metadata": {},
     "output_type": "execute_result"
    }
   ],
   "source": [
    "#hide\n",
    "df_table = (pd.DataFrame(dict(Cases=dfc_cases, Deaths=dfc_deaths, PCases=dfp_cases, PDeaths=dfp_deaths))\n",
    "             .sort_values(by=['Cases', 'Deaths'], ascending=[False, False])\n",
    "             .reset_index())\n",
    "df_table.rename(columns={'index': 'Country/Region'}, inplace=True)\n",
    "for c in 'Cases, Deaths'.split(', '):\n",
    "    df_table[f'{c} (+)'] = (df_table[c] - df_table[f'P{c}']).clip(0)  # DATA BUG\n",
    "df_table['Fatality Rate'] = (100 * df_table['Deaths'] / df_table['Cases']).round(1)\n",
    "df_table['Continent'] = df_table['Country/Region'].map(mapping['map.continent'])\n",
    "df_table.head(5)"
   ]
  },
  {
   "cell_type": "code",
   "execution_count": 16,
   "id": "fewer-occasion",
   "metadata": {
    "execution": {
     "iopub.execute_input": "2022-08-30T12:21:49.189209Z",
     "iopub.status.busy": "2022-08-30T12:21:49.188387Z",
     "iopub.status.idle": "2022-08-30T12:21:49.191580Z",
     "shell.execute_reply": "2022-08-30T12:21:49.190908Z"
    },
    "papermill": {
     "duration": 0.054927,
     "end_time": "2022-08-30T12:21:49.191954",
     "exception": false,
     "start_time": "2022-08-30T12:21:49.137027",
     "status": "completed"
    },
    "tags": []
   },
   "outputs": [],
   "source": [
    "#hide\n",
    "#delete problematic countries from table\n",
    "df_table = df_table[~df_table['Country/Region'].isin(['Cape Verde', 'Cruise Ship', 'Kosovo'])]"
   ]
  },
  {
   "cell_type": "code",
   "execution_count": 17,
   "id": "related-center",
   "metadata": {
    "execution": {
     "iopub.execute_input": "2022-08-30T12:21:49.284231Z",
     "iopub.status.busy": "2022-08-30T12:21:49.283299Z",
     "iopub.status.idle": "2022-08-30T12:21:49.301870Z",
     "shell.execute_reply": "2022-08-30T12:21:49.301199Z"
    },
    "papermill": {
     "duration": 0.069101,
     "end_time": "2022-08-30T12:21:49.302029",
     "exception": false,
     "start_time": "2022-08-30T12:21:49.232928",
     "status": "completed"
    },
    "tags": []
   },
   "outputs": [],
   "source": [
    "#hide\n",
    "metrics = [df_table.columns[index] for index in [1,2,5,6]]\n",
    "# s_china = df_table[df_table['Country/Region'].eq('China')][metrics].sum().add_prefix('China ')\n",
    "s_us = df_table[df_table['Country/Region'].eq('US')][metrics].sum().add_prefix('US ')\n",
    "s_eu = df_table[df_table['Continent'].eq('Europe')][metrics].sum().add_prefix('EU ')\n",
    "s_ind = df_table[df_table['Country/Region'].eq('India')][metrics].sum().add_prefix('India ')\n",
    "summary = {'updated': pd.to_datetime(dt_today), 'since': pd.to_datetime(dt_yday)}\n",
    "summary = {'updated': pd.to_datetime(dt_today), 'since': pd.to_datetime(dt_yday)}\n",
    "summary = {**summary, **df_table[metrics].sum(), **s_ind, **s_us, **s_eu}"
   ]
  },
  {
   "cell_type": "code",
   "execution_count": 18,
   "id": "engaging-syndrome",
   "metadata": {
    "execution": {
     "iopub.execute_input": "2022-08-30T12:21:49.405503Z",
     "iopub.status.busy": "2022-08-30T12:21:49.404717Z",
     "iopub.status.idle": "2022-08-30T12:21:49.428301Z",
     "shell.execute_reply": "2022-08-30T12:21:49.429105Z"
    },
    "papermill": {
     "duration": 0.076179,
     "end_time": "2022-08-30T12:21:49.429404",
     "exception": false,
     "start_time": "2022-08-30T12:21:49.353225",
     "status": "completed"
    },
    "tags": []
   },
   "outputs": [],
   "source": [
    "#hide\n",
    "dft_ct_new_cases = dft_cases.groupby(COL_REGION)[dt_cols].sum().diff(axis=1).fillna(0).astype(int)"
   ]
  },
  {
   "cell_type": "code",
   "execution_count": 19,
   "id": "neutral-assignment",
   "metadata": {
    "execution": {
     "iopub.execute_input": "2022-08-30T12:21:49.523427Z",
     "iopub.status.busy": "2022-08-30T12:21:49.522599Z",
     "iopub.status.idle": "2022-08-30T12:21:49.525717Z",
     "shell.execute_reply": "2022-08-30T12:21:49.524954Z"
    },
    "papermill": {
     "duration": 0.053756,
     "end_time": "2022-08-30T12:21:49.525869",
     "exception": false,
     "start_time": "2022-08-30T12:21:49.472113",
     "status": "completed"
    },
    "tags": []
   },
   "outputs": [],
   "source": [
    "#hide\n",
    "everydaycases = dft_ct_new_cases.cumsum(axis=1)"
   ]
  },
  {
   "cell_type": "code",
   "execution_count": 20,
   "id": "parliamentary-calgary",
   "metadata": {
    "execution": {
     "iopub.execute_input": "2022-08-30T12:21:49.616827Z",
     "iopub.status.busy": "2022-08-30T12:21:49.616025Z",
     "iopub.status.idle": "2022-08-30T12:21:50.336120Z",
     "shell.execute_reply": "2022-08-30T12:21:50.335417Z"
    },
    "papermill": {
     "duration": 0.768166,
     "end_time": "2022-08-30T12:21:50.336281",
     "exception": false,
     "start_time": "2022-08-30T12:21:49.568115",
     "status": "completed"
    },
    "tags": []
   },
   "outputs": [],
   "source": [
    "#hide\n",
    "import pandas as pd\n",
    "import matplotlib.pyplot as plt\n",
    "import matplotlib.ticker as ticker\n",
    "import matplotlib.animation as animation\n",
    "from IPython.display import HTML"
   ]
  },
  {
   "cell_type": "code",
   "execution_count": 21,
   "id": "lasting-extraction",
   "metadata": {
    "execution": {
     "iopub.execute_input": "2022-08-30T12:21:50.439677Z",
     "iopub.status.busy": "2022-08-30T12:21:50.438810Z",
     "iopub.status.idle": "2022-08-30T12:21:50.447913Z",
     "shell.execute_reply": "2022-08-30T12:21:50.447241Z"
    },
    "papermill": {
     "duration": 0.064231,
     "end_time": "2022-08-30T12:21:50.448071",
     "exception": false,
     "start_time": "2022-08-30T12:21:50.383840",
     "status": "completed"
    },
    "tags": []
   },
   "outputs": [],
   "source": [
    "#hide\n",
    "t = everydaycases.stack()"
   ]
  },
  {
   "cell_type": "code",
   "execution_count": 22,
   "id": "premier-sleeve",
   "metadata": {
    "execution": {
     "iopub.execute_input": "2022-08-30T12:21:50.541027Z",
     "iopub.status.busy": "2022-08-30T12:21:50.540074Z",
     "iopub.status.idle": "2022-08-30T12:21:50.555343Z",
     "shell.execute_reply": "2022-08-30T12:21:50.555967Z"
    },
    "papermill": {
     "duration": 0.066051,
     "end_time": "2022-08-30T12:21:50.556200",
     "exception": false,
     "start_time": "2022-08-30T12:21:50.490149",
     "status": "completed"
    },
    "tags": []
   },
   "outputs": [],
   "source": [
    "#hide\n",
    "g = t.reset_index(['Country/Region'])"
   ]
  },
  {
   "cell_type": "code",
   "execution_count": 23,
   "id": "distributed-pittsburgh",
   "metadata": {
    "execution": {
     "iopub.execute_input": "2022-08-30T12:21:50.655353Z",
     "iopub.status.busy": "2022-08-30T12:21:50.654571Z",
     "iopub.status.idle": "2022-08-30T12:21:50.657871Z",
     "shell.execute_reply": "2022-08-30T12:21:50.657091Z"
    },
    "papermill": {
     "duration": 0.058236,
     "end_time": "2022-08-30T12:21:50.658034",
     "exception": false,
     "start_time": "2022-08-30T12:21:50.599798",
     "status": "completed"
    },
    "tags": []
   },
   "outputs": [],
   "source": [
    "#hide\n",
    "g.index.name = 'date'"
   ]
  },
  {
   "cell_type": "code",
   "execution_count": 24,
   "id": "naked-donor",
   "metadata": {
    "execution": {
     "iopub.execute_input": "2022-08-30T12:21:50.751012Z",
     "iopub.status.busy": "2022-08-30T12:21:50.750217Z",
     "iopub.status.idle": "2022-08-30T12:21:50.753985Z",
     "shell.execute_reply": "2022-08-30T12:21:50.753157Z"
    },
    "papermill": {
     "duration": 0.054161,
     "end_time": "2022-08-30T12:21:50.754135",
     "exception": false,
     "start_time": "2022-08-30T12:21:50.699974",
     "status": "completed"
    },
    "tags": []
   },
   "outputs": [],
   "source": [
    "# #hide\n",
    "# g = g.reset_index(['date'])"
   ]
  },
  {
   "cell_type": "code",
   "execution_count": 25,
   "id": "incomplete-mustang",
   "metadata": {
    "execution": {
     "iopub.execute_input": "2022-08-30T12:21:50.846110Z",
     "iopub.status.busy": "2022-08-30T12:21:50.845324Z",
     "iopub.status.idle": "2022-08-30T12:21:50.848562Z",
     "shell.execute_reply": "2022-08-30T12:21:50.847816Z"
    },
    "papermill": {
     "duration": 0.051366,
     "end_time": "2022-08-30T12:21:50.848708",
     "exception": false,
     "start_time": "2022-08-30T12:21:50.797342",
     "status": "completed"
    },
    "tags": []
   },
   "outputs": [],
   "source": [
    "#hide\n",
    "# g.head()"
   ]
  },
  {
   "cell_type": "code",
   "execution_count": 26,
   "id": "specific-kruger",
   "metadata": {
    "execution": {
     "iopub.execute_input": "2022-08-30T12:21:50.940363Z",
     "iopub.status.busy": "2022-08-30T12:21:50.939577Z",
     "iopub.status.idle": "2022-08-30T12:21:50.942686Z",
     "shell.execute_reply": "2022-08-30T12:21:50.943413Z"
    },
    "papermill": {
     "duration": 0.051539,
     "end_time": "2022-08-30T12:21:50.943629",
     "exception": false,
     "start_time": "2022-08-30T12:21:50.892090",
     "status": "completed"
    },
    "tags": []
   },
   "outputs": [],
   "source": [
    "#hide\n",
    "# g.columns = ['date','country','cases']"
   ]
  },
  {
   "cell_type": "code",
   "execution_count": 27,
   "id": "tender-conversion",
   "metadata": {
    "execution": {
     "iopub.execute_input": "2022-08-30T12:21:51.033225Z",
     "iopub.status.busy": "2022-08-30T12:21:51.032449Z",
     "iopub.status.idle": "2022-08-30T12:21:51.037489Z",
     "shell.execute_reply": "2022-08-30T12:21:51.036744Z"
    },
    "papermill": {
     "duration": 0.052743,
     "end_time": "2022-08-30T12:21:51.037639",
     "exception": false,
     "start_time": "2022-08-30T12:21:50.984896",
     "status": "completed"
    },
    "tags": []
   },
   "outputs": [],
   "source": [
    "#hide\n",
    "# g['continent'] = g.country"
   ]
  },
  {
   "cell_type": "code",
   "execution_count": 28,
   "id": "substantial-wilderness",
   "metadata": {
    "execution": {
     "iopub.execute_input": "2022-08-30T12:21:51.128493Z",
     "iopub.status.busy": "2022-08-30T12:21:51.127695Z",
     "iopub.status.idle": "2022-08-30T12:21:51.132214Z",
     "shell.execute_reply": "2022-08-30T12:21:51.131405Z"
    },
    "papermill": {
     "duration": 0.052181,
     "end_time": "2022-08-30T12:21:51.132368",
     "exception": false,
     "start_time": "2022-08-30T12:21:51.080187",
     "status": "completed"
    },
    "tags": []
   },
   "outputs": [],
   "source": [
    "#hide\n",
    "# cols = list(g.columns.values)"
   ]
  },
  {
   "cell_type": "code",
   "execution_count": 29,
   "id": "solved-farming",
   "metadata": {
    "execution": {
     "iopub.execute_input": "2022-08-30T12:21:51.222520Z",
     "iopub.status.busy": "2022-08-30T12:21:51.221724Z",
     "iopub.status.idle": "2022-08-30T12:21:51.224990Z",
     "shell.execute_reply": "2022-08-30T12:21:51.224347Z"
    },
    "papermill": {
     "duration": 0.050736,
     "end_time": "2022-08-30T12:21:51.225143",
     "exception": false,
     "start_time": "2022-08-30T12:21:51.174407",
     "status": "completed"
    },
    "tags": []
   },
   "outputs": [],
   "source": [
    "#hide\n",
    "# cols.insert(0, cols.pop())"
   ]
  },
  {
   "cell_type": "code",
   "execution_count": 30,
   "id": "executed-adoption",
   "metadata": {
    "execution": {
     "iopub.execute_input": "2022-08-30T12:21:51.315868Z",
     "iopub.status.busy": "2022-08-30T12:21:51.315068Z",
     "iopub.status.idle": "2022-08-30T12:21:51.318335Z",
     "shell.execute_reply": "2022-08-30T12:21:51.317690Z"
    },
    "papermill": {
     "duration": 0.052188,
     "end_time": "2022-08-30T12:21:51.318478",
     "exception": false,
     "start_time": "2022-08-30T12:21:51.266290",
     "status": "completed"
    },
    "tags": []
   },
   "outputs": [],
   "source": [
    "#hide\n",
    "# g = g[cols]"
   ]
  },
  {
   "cell_type": "code",
   "execution_count": 31,
   "id": "subject-dublin",
   "metadata": {
    "execution": {
     "iopub.execute_input": "2022-08-30T12:21:51.414553Z",
     "iopub.status.busy": "2022-08-30T12:21:51.413635Z",
     "iopub.status.idle": "2022-08-30T12:21:51.417364Z",
     "shell.execute_reply": "2022-08-30T12:21:51.418005Z"
    },
    "papermill": {
     "duration": 0.050385,
     "end_time": "2022-08-30T12:21:51.418190",
     "exception": false,
     "start_time": "2022-08-30T12:21:51.367805",
     "status": "completed"
    },
    "tags": []
   },
   "outputs": [],
   "source": [
    "#hide\n",
    "# g['continent'] = g['continent'].map(mapping['map.continent'])"
   ]
  },
  {
   "cell_type": "code",
   "execution_count": 32,
   "id": "freelance-scout",
   "metadata": {
    "execution": {
     "iopub.execute_input": "2022-08-30T12:21:51.507725Z",
     "iopub.status.busy": "2022-08-30T12:21:51.506926Z",
     "iopub.status.idle": "2022-08-30T12:21:51.509425Z",
     "shell.execute_reply": "2022-08-30T12:21:51.510159Z"
    },
    "papermill": {
     "duration": 0.049214,
     "end_time": "2022-08-30T12:21:51.510329",
     "exception": false,
     "start_time": "2022-08-30T12:21:51.461115",
     "status": "completed"
    },
    "tags": []
   },
   "outputs": [],
   "source": [
    "#hide\n",
    "# g.head()"
   ]
  },
  {
   "cell_type": "code",
   "execution_count": 33,
   "id": "limited-engine",
   "metadata": {
    "execution": {
     "iopub.execute_input": "2022-08-30T12:21:51.597564Z",
     "iopub.status.busy": "2022-08-30T12:21:51.596757Z",
     "iopub.status.idle": "2022-08-30T12:21:51.599787Z",
     "shell.execute_reply": "2022-08-30T12:21:51.598994Z"
    },
    "papermill": {
     "duration": 0.048138,
     "end_time": "2022-08-30T12:21:51.599936",
     "exception": false,
     "start_time": "2022-08-30T12:21:51.551798",
     "status": "completed"
    },
    "tags": []
   },
   "outputs": [],
   "source": [
    "# hide\n",
    "# g['date'] = g['date'].astype('datetime64[ns]')"
   ]
  },
  {
   "cell_type": "code",
   "execution_count": 34,
   "id": "sophisticated-supervisor",
   "metadata": {
    "execution": {
     "iopub.execute_input": "2022-08-30T12:21:51.691146Z",
     "iopub.status.busy": "2022-08-30T12:21:51.690377Z",
     "iopub.status.idle": "2022-08-30T12:21:51.694022Z",
     "shell.execute_reply": "2022-08-30T12:21:51.693304Z"
    },
    "papermill": {
     "duration": 0.050852,
     "end_time": "2022-08-30T12:21:51.694172",
     "exception": false,
     "start_time": "2022-08-30T12:21:51.643320",
     "status": "completed"
    },
    "tags": []
   },
   "outputs": [],
   "source": [
    "#hide\n",
    "# g['date'] = g.date.dt.dayofyear"
   ]
  },
  {
   "cell_type": "code",
   "execution_count": 35,
   "id": "inside-dubai",
   "metadata": {
    "execution": {
     "iopub.execute_input": "2022-08-30T12:21:51.790967Z",
     "iopub.status.busy": "2022-08-30T12:21:51.790146Z",
     "iopub.status.idle": "2022-08-30T12:21:51.793343Z",
     "shell.execute_reply": "2022-08-30T12:21:51.793982Z"
    },
    "papermill": {
     "duration": 0.057542,
     "end_time": "2022-08-30T12:21:51.794618",
     "exception": false,
     "start_time": "2022-08-30T12:21:51.737076",
     "status": "completed"
    },
    "tags": []
   },
   "outputs": [],
   "source": [
    "#hide\n",
    "# g = g.rename(columns= {'continent':'group','country':'name','cases':'value'})"
   ]
  },
  {
   "cell_type": "code",
   "execution_count": 36,
   "id": "fleet-motorcycle",
   "metadata": {
    "execution": {
     "iopub.execute_input": "2022-08-30T12:21:51.903122Z",
     "iopub.status.busy": "2022-08-30T12:21:51.902359Z",
     "iopub.status.idle": "2022-08-30T12:21:51.905701Z",
     "shell.execute_reply": "2022-08-30T12:21:51.905057Z"
    },
    "papermill": {
     "duration": 0.051577,
     "end_time": "2022-08-30T12:21:51.905844",
     "exception": false,
     "start_time": "2022-08-30T12:21:51.854267",
     "status": "completed"
    },
    "tags": []
   },
   "outputs": [],
   "source": [
    "#hide\n",
    "# cols = ['name','group','day','value']"
   ]
  },
  {
   "cell_type": "code",
   "execution_count": 37,
   "id": "continued-sleeping",
   "metadata": {
    "execution": {
     "iopub.execute_input": "2022-08-30T12:21:52.049098Z",
     "iopub.status.busy": "2022-08-30T12:21:52.046481Z",
     "iopub.status.idle": "2022-08-30T12:21:52.052789Z",
     "shell.execute_reply": "2022-08-30T12:21:52.052136Z"
    },
    "papermill": {
     "duration": 0.098609,
     "end_time": "2022-08-30T12:21:52.052943",
     "exception": false,
     "start_time": "2022-08-30T12:21:51.954334",
     "status": "completed"
    },
    "tags": []
   },
   "outputs": [],
   "source": [
    "#hide\n",
    "# g.rename(columns= {'date':'day'},inplace = True)"
   ]
  },
  {
   "cell_type": "code",
   "execution_count": 38,
   "id": "major-fight",
   "metadata": {
    "execution": {
     "iopub.execute_input": "2022-08-30T12:21:52.187456Z",
     "iopub.status.busy": "2022-08-30T12:21:52.186496Z",
     "iopub.status.idle": "2022-08-30T12:21:52.188246Z",
     "shell.execute_reply": "2022-08-30T12:21:52.188987Z"
    },
    "papermill": {
     "duration": 0.068881,
     "end_time": "2022-08-30T12:21:52.189168",
     "exception": false,
     "start_time": "2022-08-30T12:21:52.120287",
     "status": "completed"
    },
    "tags": []
   },
   "outputs": [],
   "source": [
    "#hide\n",
    "# g = g[cols]"
   ]
  },
  {
   "cell_type": "code",
   "execution_count": 39,
   "id": "structured-mobile",
   "metadata": {
    "execution": {
     "iopub.execute_input": "2022-08-30T12:21:52.389494Z",
     "iopub.status.busy": "2022-08-30T12:21:52.388298Z",
     "iopub.status.idle": "2022-08-30T12:21:52.391251Z",
     "shell.execute_reply": "2022-08-30T12:21:52.392105Z"
    },
    "papermill": {
     "duration": 0.105317,
     "end_time": "2022-08-30T12:21:52.392285",
     "exception": false,
     "start_time": "2022-08-30T12:21:52.286968",
     "status": "completed"
    },
    "tags": []
   },
   "outputs": [],
   "source": [
    "# #hide\n",
    "# g = g[g.group.notna()]"
   ]
  },
  {
   "cell_type": "code",
   "execution_count": 40,
   "id": "determined-closing",
   "metadata": {
    "execution": {
     "iopub.execute_input": "2022-08-30T12:21:52.533194Z",
     "iopub.status.busy": "2022-08-30T12:21:52.531883Z",
     "iopub.status.idle": "2022-08-30T12:21:52.544140Z",
     "shell.execute_reply": "2022-08-30T12:21:52.542758Z"
    },
    "papermill": {
     "duration": 0.060599,
     "end_time": "2022-08-30T12:21:52.544591",
     "exception": false,
     "start_time": "2022-08-30T12:21:52.483992",
     "status": "completed"
    },
    "tags": []
   },
   "outputs": [],
   "source": [
    "# #hide\n",
    "# colors = dict(zip(\n",
    "#     [\"Oceania\", \"Europe\", \"Asia\", \"South America\", \"Middle East\", \"North America\", \"Africa\"],\n",
    "#     [\"#adb0ff\", \"#ffb3ff\", \"#90d595\", \"#e48381\", \"#aafbff\", \"#f7bb5f\", \"#eafb50\"]\n",
    "# ))\n",
    "# group_lk = g.set_index('name')['group'].to_dict()"
   ]
  },
  {
   "cell_type": "code",
   "execution_count": null,
   "id": "gross-drinking",
   "metadata": {
    "papermill": {
     "duration": 0.056828,
     "end_time": "2022-08-30T12:21:52.642607",
     "exception": false,
     "start_time": "2022-08-30T12:21:52.585779",
     "status": "completed"
    },
    "tags": []
   },
   "outputs": [],
   "source": []
  },
  {
   "cell_type": "code",
   "execution_count": 41,
   "id": "subject-macintosh",
   "metadata": {
    "execution": {
     "iopub.execute_input": "2022-08-30T12:21:52.804475Z",
     "iopub.status.busy": "2022-08-30T12:21:52.803014Z",
     "iopub.status.idle": "2022-08-30T12:21:52.805203Z",
     "shell.execute_reply": "2022-08-30T12:21:52.803771Z"
    },
    "papermill": {
     "duration": 0.076566,
     "end_time": "2022-08-30T12:21:52.805393",
     "exception": false,
     "start_time": "2022-08-30T12:21:52.728827",
     "status": "completed"
    },
    "tags": []
   },
   "outputs": [],
   "source": [
    "# #hide\n",
    "# fig, ax = plt.subplots(figsize=(15, 8))\n",
    "\n",
    "# def draw_barchart(current_day):\n",
    "#     dff = g[g['day'].eq(current_day)].sort_values(by='value', ascending=True).tail(10)\n",
    "#     ax.clear()\n",
    "#     ax.barh(dff['name'], dff['value'], color=[colors[group_lk[x]] for x in dff['name']])\n",
    "#     dx = dff['value'].max() / 200\n",
    "    \n",
    "#     for i, (value, name) in enumerate(zip(dff['value'], dff['name'])):\n",
    "#         ax.text(value-dx, i,     name,           size=14, weight=600, ha='right', va='bottom')\n",
    "#         ax.text(value-dx, i-.25, group_lk[name], size=10, color='#444444', ha='right', va='baseline')\n",
    "#         ax.text(value+dx, i,     f'{value:,.0f}',  size=14, ha='left',  va='center')\n",
    "#     ax.text(1, 0.4, current_day, transform=ax.transAxes, color='#777777', size=46, ha='right', weight=800)\n",
    "#     ax.text(0, 1.06, 'Population (thousands)', transform=ax.transAxes, size=12, color='#777777')\n",
    "#     ax.xaxis.set_major_formatter(ticker.StrMethodFormatter('{x:,.0f}'))\n",
    "#     ax.xaxis.set_ticks_position('top')\n",
    "#     ax.tick_params(axis='x', colors='#777777', labelsize=12)\n",
    "#     ax.set_yticks([])\n",
    "#     ax.margins(0, 0.01)\n",
    "#     ax.grid(which='major', axis='x', linestyle='-')\n",
    "#     ax.set_axisbelow(True)\n",
    "    \n",
    "#     ax.text(0, 1.15, 'Coronavirus',\n",
    "#             transform=ax.transAxes, size=24, weight=600, ha='left', va='top')\n",
    "# #     ax.text(1, 0, 'by @pratapvardhan; credit @jburnmurdoch', transform=ax.transAxes, color='#777777', ha='right',\n",
    "# #             bbox=dict(facecolor='white', alpha=0.8, edgecolor='white'))\n",
    "#     plt.box(False)"
   ]
  },
  {
   "cell_type": "code",
   "execution_count": 42,
   "id": "sexual-wages",
   "metadata": {
    "execution": {
     "iopub.execute_input": "2022-08-30T12:21:52.937919Z",
     "iopub.status.busy": "2022-08-30T12:21:52.936701Z",
     "iopub.status.idle": "2022-08-30T12:21:52.939975Z",
     "shell.execute_reply": "2022-08-30T12:21:52.940734Z"
    },
    "papermill": {
     "duration": 0.069529,
     "end_time": "2022-08-30T12:21:52.940910",
     "exception": false,
     "start_time": "2022-08-30T12:21:52.871381",
     "status": "completed"
    },
    "tags": []
   },
   "outputs": [],
   "source": [
    "# #hide_input\n",
    "# fig, ax = plt.subplots(figsize=(15, 8))\n",
    "# animator = animation.FuncAnimation(fig, draw_barchart, frames=range(g.day.values.min(), g.day.values.max()))\n",
    "# HTML(animator.to_jshtml())\n",
    "# # or use animator.to_html5_video() or animator.save() "
   ]
  },
  {
   "cell_type": "code",
   "execution_count": null,
   "id": "australian-container",
   "metadata": {
    "papermill": {
     "duration": 0.100772,
     "end_time": "2022-08-30T12:21:53.133269",
     "exception": false,
     "start_time": "2022-08-30T12:21:53.032497",
     "status": "completed"
    },
    "tags": []
   },
   "outputs": [],
   "source": []
  },
  {
   "cell_type": "code",
   "execution_count": null,
   "id": "mediterranean-pontiac",
   "metadata": {
    "papermill": {
     "duration": 0.099524,
     "end_time": "2022-08-30T12:21:53.334686",
     "exception": false,
     "start_time": "2022-08-30T12:21:53.235162",
     "status": "completed"
    },
    "tags": []
   },
   "outputs": [],
   "source": []
  },
  {
   "cell_type": "code",
   "execution_count": null,
   "id": "aging-legislature",
   "metadata": {
    "papermill": {
     "duration": 0.101213,
     "end_time": "2022-08-30T12:21:53.537556",
     "exception": false,
     "start_time": "2022-08-30T12:21:53.436343",
     "status": "completed"
    },
    "tags": []
   },
   "outputs": [],
   "source": []
  }
 ],
 "metadata": {
  "kernelspec": {
   "display_name": "Python 3",
   "language": "python",
   "name": "python3"
  },
  "language_info": {
   "codemirror_mode": {
    "name": "ipython",
    "version": 3
   },
   "file_extension": ".py",
   "mimetype": "text/x-python",
   "name": "python",
   "nbconvert_exporter": "python",
   "pygments_lexer": "ipython3",
   "version": "3.6.15"
  },
  "papermill": {
   "duration": 9.038173,
   "end_time": "2022-08-30T12:21:54.010721",
   "environment_variables": {},
   "exception": null,
   "input_path": "2020-03-21-covid19exp.ipynb",
   "output_path": "2020-03-21-covid19exp.ipynb",
   "parameters": {},
   "start_time": "2022-08-30T12:21:44.972548",
   "version": "2.0.0"
  }
 },
 "nbformat": 4,
 "nbformat_minor": 5
}