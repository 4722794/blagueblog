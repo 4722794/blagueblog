{
 "cells": [
  {
   "cell_type": "markdown",
   "id": "muslim-click",
   "metadata": {
    "papermill": {
     "duration": 0.033912,
     "end_time": "2022-04-13T00:37:56.584437",
     "exception": false,
     "start_time": "2022-04-13T00:37:56.550525",
     "status": "completed"
    },
    "tags": []
   },
   "source": [
    "# COVID-19 Case Race\n",
    "> A race chart to see rising cases around the world\n",
    "\n",
    "- author: Hargun Oberoi\n",
    "- image: images/covid-overview.png\n",
    "- hide: false\n",
    "- badges: false"
   ]
  },
  {
   "cell_type": "code",
   "execution_count": 1,
   "id": "proof-material",
   "metadata": {
    "execution": {
     "iopub.execute_input": "2022-04-13T00:37:56.656300Z",
     "iopub.status.busy": "2022-04-13T00:37:56.653572Z",
     "iopub.status.idle": "2022-04-13T00:37:56.982609Z",
     "shell.execute_reply": "2022-04-13T00:37:56.981612Z"
    },
    "papermill": {
     "duration": 0.366673,
     "end_time": "2022-04-13T00:37:56.982770",
     "exception": false,
     "start_time": "2022-04-13T00:37:56.616097",
     "status": "completed"
    },
    "tags": []
   },
   "outputs": [],
   "source": [
    "#hide\n",
    "import numpy as np\n",
    "import pandas as pd\n",
    "from jinja2 import Template\n",
    "from IPython.display import HTML"
   ]
  },
  {
   "cell_type": "code",
   "execution_count": 2,
   "id": "developed-terminology",
   "metadata": {
    "execution": {
     "iopub.execute_input": "2022-04-13T00:37:57.047455Z",
     "iopub.status.busy": "2022-04-13T00:37:57.046845Z",
     "iopub.status.idle": "2022-04-13T00:37:57.048916Z",
     "shell.execute_reply": "2022-04-13T00:37:57.048305Z"
    },
    "papermill": {
     "duration": 0.036204,
     "end_time": "2022-04-13T00:37:57.049043",
     "exception": false,
     "start_time": "2022-04-13T00:37:57.012839",
     "status": "completed"
    },
    "tags": []
   },
   "outputs": [],
   "source": [
    "#hide\n",
    "\n",
    "# FETCH\n",
    "base_url = 'https://raw.githubusercontent.com/pratapvardhan/notebooks/master/covid19/'\n",
    "paths = {\n",
    "    'mapping': base_url + 'mapping_countries.csv',\n",
    "    'overview': base_url + 'overview.tpl'\n",
    "}"
   ]
  },
  {
   "cell_type": "code",
   "execution_count": 3,
   "id": "dynamic-saver",
   "metadata": {
    "execution": {
     "iopub.execute_input": "2022-04-13T00:37:57.117550Z",
     "iopub.status.busy": "2022-04-13T00:37:57.117026Z",
     "iopub.status.idle": "2022-04-13T00:37:57.119356Z",
     "shell.execute_reply": "2022-04-13T00:37:57.119737Z"
    },
    "papermill": {
     "duration": 0.04091,
     "end_time": "2022-04-13T00:37:57.119862",
     "exception": false,
     "start_time": "2022-04-13T00:37:57.078952",
     "status": "completed"
    },
    "tags": []
   },
   "outputs": [
    {
     "data": {
      "text/plain": [
       "'https://raw.githubusercontent.com/pratapvardhan/notebooks/master/covid19/mapping_countries.csv'"
      ]
     },
     "execution_count": 3,
     "metadata": {},
     "output_type": "execute_result"
    }
   ],
   "source": [
    "#hide\n",
    "paths['mapping']"
   ]
  },
  {
   "cell_type": "code",
   "execution_count": 4,
   "id": "urban-software",
   "metadata": {
    "execution": {
     "iopub.execute_input": "2022-04-13T00:37:57.184715Z",
     "iopub.status.busy": "2022-04-13T00:37:57.184179Z",
     "iopub.status.idle": "2022-04-13T00:37:57.186065Z",
     "shell.execute_reply": "2022-04-13T00:37:57.186448Z"
    },
    "papermill": {
     "duration": 0.036641,
     "end_time": "2022-04-13T00:37:57.186572",
     "exception": false,
     "start_time": "2022-04-13T00:37:57.149931",
     "status": "completed"
    },
    "tags": []
   },
   "outputs": [],
   "source": [
    "#hide\n",
    "def get_mappings(url):\n",
    "    df = pd.read_csv(url)\n",
    "    return {\n",
    "        'df': df,\n",
    "        'replace.country': dict(df.dropna(subset=['Name']).set_index('Country')['Name']),\n",
    "        'map.continent': dict(df.set_index('Name')['Continent'])\n",
    "    }"
   ]
  },
  {
   "cell_type": "code",
   "execution_count": 5,
   "id": "intimate-machinery",
   "metadata": {
    "execution": {
     "iopub.execute_input": "2022-04-13T00:37:57.251826Z",
     "iopub.status.busy": "2022-04-13T00:37:57.251311Z",
     "iopub.status.idle": "2022-04-13T00:37:57.313951Z",
     "shell.execute_reply": "2022-04-13T00:37:57.313283Z"
    },
    "papermill": {
     "duration": 0.097568,
     "end_time": "2022-04-13T00:37:57.314097",
     "exception": false,
     "start_time": "2022-04-13T00:37:57.216529",
     "status": "completed"
    },
    "tags": []
   },
   "outputs": [],
   "source": [
    "#hide\n",
    "mapping = get_mappings(paths['mapping'])"
   ]
  },
  {
   "cell_type": "code",
   "execution_count": 6,
   "id": "certified-tactics",
   "metadata": {
    "execution": {
     "iopub.execute_input": "2022-04-13T00:37:57.379443Z",
     "iopub.status.busy": "2022-04-13T00:37:57.378931Z",
     "iopub.status.idle": "2022-04-13T00:37:57.381310Z",
     "shell.execute_reply": "2022-04-13T00:37:57.380874Z"
    },
    "papermill": {
     "duration": 0.036882,
     "end_time": "2022-04-13T00:37:57.381417",
     "exception": false,
     "start_time": "2022-04-13T00:37:57.344535",
     "status": "completed"
    },
    "tags": []
   },
   "outputs": [],
   "source": [
    "#hide\n",
    "def get_template(path):\n",
    "    from urllib.parse import urlparse\n",
    "    if bool(urlparse(path).netloc):\n",
    "        from urllib.request import urlopen\n",
    "        return urlopen(path).read().decode('utf8')\n",
    "    return open(path).read()"
   ]
  },
  {
   "cell_type": "code",
   "execution_count": 7,
   "id": "realistic-blast",
   "metadata": {
    "execution": {
     "iopub.execute_input": "2022-04-13T00:37:57.445871Z",
     "iopub.status.busy": "2022-04-13T00:37:57.445285Z",
     "iopub.status.idle": "2022-04-13T00:37:57.447420Z",
     "shell.execute_reply": "2022-04-13T00:37:57.446942Z"
    },
    "papermill": {
     "duration": 0.036227,
     "end_time": "2022-04-13T00:37:57.447523",
     "exception": false,
     "start_time": "2022-04-13T00:37:57.411296",
     "status": "completed"
    },
    "tags": []
   },
   "outputs": [],
   "source": [
    "#hide\n",
    "def get_frame(name):\n",
    "    url = (\n",
    "        'https://raw.githubusercontent.com/CSSEGISandData/COVID-19/master/csse_covid_19_data/'\n",
    "        f'csse_covid_19_time_series/time_series_covid19_{name}_global.csv')\n",
    "    df = pd.read_csv(url)\n",
    "    # rename countries\n",
    "    df['Country/Region'] = df['Country/Region'].replace(mapping['replace.country'])\n",
    "    return df"
   ]
  },
  {
   "cell_type": "code",
   "execution_count": 8,
   "id": "affiliated-characterization",
   "metadata": {
    "execution": {
     "iopub.execute_input": "2022-04-13T00:37:57.513128Z",
     "iopub.status.busy": "2022-04-13T00:37:57.512512Z",
     "iopub.status.idle": "2022-04-13T00:37:57.514676Z",
     "shell.execute_reply": "2022-04-13T00:37:57.514191Z"
    },
    "papermill": {
     "duration": 0.037316,
     "end_time": "2022-04-13T00:37:57.514787",
     "exception": false,
     "start_time": "2022-04-13T00:37:57.477471",
     "status": "completed"
    },
    "tags": []
   },
   "outputs": [],
   "source": [
    "#hide\n",
    "def get_dates(df):\n",
    "    dt_cols = df.columns[~df.columns.isin(['Province/State', 'Country/Region', 'Lat', 'Long'])]\n",
    "    LAST_DATE_I = -1\n",
    "    # sometimes last column may be empty, then go backwards\n",
    "    for i in range(-1, -len(dt_cols), -1):\n",
    "        if not df[dt_cols[i]].fillna(0).eq(0).all():\n",
    "            LAST_DATE_I = i\n",
    "            break\n",
    "    return LAST_DATE_I, dt_cols"
   ]
  },
  {
   "cell_type": "code",
   "execution_count": 9,
   "id": "recent-optimization",
   "metadata": {
    "execution": {
     "iopub.execute_input": "2022-04-13T00:37:57.579365Z",
     "iopub.status.busy": "2022-04-13T00:37:57.578793Z",
     "iopub.status.idle": "2022-04-13T00:37:58.184416Z",
     "shell.execute_reply": "2022-04-13T00:37:58.183889Z"
    },
    "papermill": {
     "duration": 0.639497,
     "end_time": "2022-04-13T00:37:58.184564",
     "exception": false,
     "start_time": "2022-04-13T00:37:57.545067",
     "status": "completed"
    },
    "tags": []
   },
   "outputs": [],
   "source": [
    "#hide\n",
    "COL_REGION = 'Country/Region'\n",
    "# Confirmed, Recovered, Deaths\n",
    "df = get_frame('confirmed')\n",
    "# dft_: timeseries, dfc_: today country agg\n",
    "dft_cases = df\n",
    "dft_deaths = get_frame('deaths')\n",
    "dft_recovered = get_frame('recovered')\n",
    "LAST_DATE_I, dt_cols = get_dates(df)"
   ]
  },
  {
   "cell_type": "code",
   "execution_count": 10,
   "id": "absolute-copper",
   "metadata": {
    "execution": {
     "iopub.execute_input": "2022-04-13T00:37:58.251563Z",
     "iopub.status.busy": "2022-04-13T00:37:58.250968Z",
     "iopub.status.idle": "2022-04-13T00:37:58.253096Z",
     "shell.execute_reply": "2022-04-13T00:37:58.252651Z"
    },
    "papermill": {
     "duration": 0.037508,
     "end_time": "2022-04-13T00:37:58.253212",
     "exception": false,
     "start_time": "2022-04-13T00:37:58.215704",
     "status": "completed"
    },
    "tags": []
   },
   "outputs": [],
   "source": [
    "#hide\n",
    "LAST_DATE_I, dt_cols = get_dates(df)\n",
    "dt_today =dt_cols[LAST_DATE_I]\n",
    "# dt_5day = dt_cols[LAST_DATE_I - 5]\n",
    "dt_yday = dt_cols[LAST_DATE_I - 1]"
   ]
  },
  {
   "cell_type": "code",
   "execution_count": 11,
   "id": "restricted-sheriff",
   "metadata": {
    "execution": {
     "iopub.execute_input": "2022-04-13T00:37:58.318966Z",
     "iopub.status.busy": "2022-04-13T00:37:58.318456Z",
     "iopub.status.idle": "2022-04-13T00:37:58.325675Z",
     "shell.execute_reply": "2022-04-13T00:37:58.325271Z"
    },
    "papermill": {
     "duration": 0.042731,
     "end_time": "2022-04-13T00:37:58.325782",
     "exception": false,
     "start_time": "2022-04-13T00:37:58.283051",
     "status": "completed"
    },
    "tags": []
   },
   "outputs": [],
   "source": [
    "#hide\n",
    "dfc_cases = dft_cases.groupby(COL_REGION)[dt_today].sum()\n",
    "dfc_deaths = dft_deaths.groupby(COL_REGION)[dt_today].sum()\n",
    "# dfp_cases = dft_cases.groupby(COL_REGION)[dt_5day].sum()\n",
    "# dfp_deaths = dft_deaths.groupby(COL_REGION)[dt_5day].sum()\n",
    "dfp_cases = dft_cases.groupby(COL_REGION)[dt_yday].sum()\n",
    "dfp_deaths = dft_deaths.groupby(COL_REGION)[dt_yday].sum()"
   ]
  },
  {
   "cell_type": "code",
   "execution_count": 12,
   "id": "deluxe-hepatitis",
   "metadata": {
    "execution": {
     "iopub.execute_input": "2022-04-13T00:37:58.391000Z",
     "iopub.status.busy": "2022-04-13T00:37:58.390497Z",
     "iopub.status.idle": "2022-04-13T00:37:58.395184Z",
     "shell.execute_reply": "2022-04-13T00:37:58.395660Z"
    },
    "papermill": {
     "duration": 0.040063,
     "end_time": "2022-04-13T00:37:58.395778",
     "exception": false,
     "start_time": "2022-04-13T00:37:58.355715",
     "status": "completed"
    },
    "tags": []
   },
   "outputs": [],
   "source": [
    "#hide\n",
    "df_table = (pd.DataFrame(dict(Cases = dfc_cases, Deaths = dfc_deaths, PCases = dfp_cases, PDeaths = dfp_deaths))\n",
    "            .sort_values(by = ['Cases','Deaths'], ascending = [False, False])\n",
    "            .reset_index())"
   ]
  },
  {
   "cell_type": "code",
   "execution_count": 13,
   "id": "educational-chancellor",
   "metadata": {
    "execution": {
     "iopub.execute_input": "2022-04-13T00:37:58.472956Z",
     "iopub.status.busy": "2022-04-13T00:37:58.472405Z",
     "iopub.status.idle": "2022-04-13T00:37:58.479802Z",
     "shell.execute_reply": "2022-04-13T00:37:58.479393Z"
    },
    "papermill": {
     "duration": 0.0543,
     "end_time": "2022-04-13T00:37:58.479907",
     "exception": false,
     "start_time": "2022-04-13T00:37:58.425607",
     "status": "completed"
    },
    "tags": []
   },
   "outputs": [
    {
     "data": {
      "text/html": [
       "<div>\n",
       "<style scoped>\n",
       "    .dataframe tbody tr th:only-of-type {\n",
       "        vertical-align: middle;\n",
       "    }\n",
       "\n",
       "    .dataframe tbody tr th {\n",
       "        vertical-align: top;\n",
       "    }\n",
       "\n",
       "    .dataframe thead th {\n",
       "        text-align: right;\n",
       "    }\n",
       "</style>\n",
       "<table border=\"1\" class=\"dataframe\">\n",
       "  <thead>\n",
       "    <tr style=\"text-align: right;\">\n",
       "      <th></th>\n",
       "      <th>Country/Region</th>\n",
       "      <th>Cases</th>\n",
       "      <th>Deaths</th>\n",
       "      <th>PCases</th>\n",
       "      <th>PDeaths</th>\n",
       "      <th>Cases (+)</th>\n",
       "      <th>Deaths (+)</th>\n",
       "      <th>Fatality Rate</th>\n",
       "      <th>Continent</th>\n",
       "    </tr>\n",
       "  </thead>\n",
       "  <tbody>\n",
       "    <tr>\n",
       "      <th>0</th>\n",
       "      <td>US</td>\n",
       "      <td>80449944</td>\n",
       "      <td>985826</td>\n",
       "      <td>80406370</td>\n",
       "      <td>985504</td>\n",
       "      <td>43574</td>\n",
       "      <td>322</td>\n",
       "      <td>1.23</td>\n",
       "      <td>North America</td>\n",
       "    </tr>\n",
       "    <tr>\n",
       "      <th>1</th>\n",
       "      <td>India</td>\n",
       "      <td>43036928</td>\n",
       "      <td>521710</td>\n",
       "      <td>43036132</td>\n",
       "      <td>521691</td>\n",
       "      <td>796</td>\n",
       "      <td>19</td>\n",
       "      <td>1.21</td>\n",
       "      <td>Asia</td>\n",
       "    </tr>\n",
       "    <tr>\n",
       "      <th>2</th>\n",
       "      <td>Brazil</td>\n",
       "      <td>30161909</td>\n",
       "      <td>661576</td>\n",
       "      <td>30153979</td>\n",
       "      <td>661513</td>\n",
       "      <td>7930</td>\n",
       "      <td>63</td>\n",
       "      <td>2.19</td>\n",
       "      <td>South America</td>\n",
       "    </tr>\n",
       "    <tr>\n",
       "      <th>3</th>\n",
       "      <td>France</td>\n",
       "      <td>27162463</td>\n",
       "      <td>144503</td>\n",
       "      <td>27136925</td>\n",
       "      <td>144325</td>\n",
       "      <td>25538</td>\n",
       "      <td>178</td>\n",
       "      <td>0.53</td>\n",
       "      <td>Europe</td>\n",
       "    </tr>\n",
       "    <tr>\n",
       "      <th>4</th>\n",
       "      <td>Germany</td>\n",
       "      <td>22878428</td>\n",
       "      <td>132017</td>\n",
       "      <td>22677986</td>\n",
       "      <td>131728</td>\n",
       "      <td>200442</td>\n",
       "      <td>289</td>\n",
       "      <td>0.58</td>\n",
       "      <td>Europe</td>\n",
       "    </tr>\n",
       "  </tbody>\n",
       "</table>\n",
       "</div>"
      ],
      "text/plain": [
       "  Country/Region     Cases  Deaths    PCases  PDeaths  Cases (+)  Deaths (+)  \\\n",
       "0             US  80449944  985826  80406370   985504      43574         322   \n",
       "1          India  43036928  521710  43036132   521691        796          19   \n",
       "2         Brazil  30161909  661576  30153979   661513       7930          63   \n",
       "3         France  27162463  144503  27136925   144325      25538         178   \n",
       "4        Germany  22878428  132017  22677986   131728     200442         289   \n",
       "\n",
       "   Fatality Rate      Continent  \n",
       "0           1.23  North America  \n",
       "1           1.21           Asia  \n",
       "2           2.19  South America  \n",
       "3           0.53         Europe  \n",
       "4           0.58         Europe  "
      ]
     },
     "execution_count": 13,
     "metadata": {},
     "output_type": "execute_result"
    }
   ],
   "source": [
    "#hide\n",
    "for c in 'Cases, Deaths'.split(', '):\n",
    "    df_table[f'{c} (+)'] = (df_table[c] - df_table[f'P{c}']).clip(0)\n",
    "    #Clip ça veut dire, les chiffres negatif sont interdit\n",
    "df_table['Fatality Rate'] = (100* df_table['Deaths']/ df_table['Cases']).round(2)\n",
    "df_table['Continent'] = df_table['Country/Region'].map(mapping['map.continent'])\n",
    "df_table.head(5)"
   ]
  },
  {
   "cell_type": "code",
   "execution_count": 14,
   "id": "aboriginal-bulgaria",
   "metadata": {
    "execution": {
     "iopub.execute_input": "2022-04-13T00:37:58.545480Z",
     "iopub.status.busy": "2022-04-13T00:37:58.544967Z",
     "iopub.status.idle": "2022-04-13T00:37:58.547996Z",
     "shell.execute_reply": "2022-04-13T00:37:58.547595Z"
    },
    "papermill": {
     "duration": 0.037619,
     "end_time": "2022-04-13T00:37:58.548101",
     "exception": false,
     "start_time": "2022-04-13T00:37:58.510482",
     "status": "completed"
    },
    "tags": []
   },
   "outputs": [],
   "source": [
    "#hide\n",
    "#delete problematic countries from table\n",
    "df_table = df_table[~df_table['Country/Region'].isin(['Cape Verde', 'Cruise Ship', 'Kosovo'])]"
   ]
  },
  {
   "cell_type": "code",
   "execution_count": 15,
   "id": "fantastic-effect",
   "metadata": {
    "execution": {
     "iopub.execute_input": "2022-04-13T00:37:58.616454Z",
     "iopub.status.busy": "2022-04-13T00:37:58.615946Z",
     "iopub.status.idle": "2022-04-13T00:37:58.633259Z",
     "shell.execute_reply": "2022-04-13T00:37:58.632763Z"
    },
    "papermill": {
     "duration": 0.054803,
     "end_time": "2022-04-13T00:37:58.633377",
     "exception": false,
     "start_time": "2022-04-13T00:37:58.578574",
     "status": "completed"
    },
    "tags": []
   },
   "outputs": [
    {
     "data": {
      "text/html": [
       "<div>\n",
       "<style scoped>\n",
       "    .dataframe tbody tr th:only-of-type {\n",
       "        vertical-align: middle;\n",
       "    }\n",
       "\n",
       "    .dataframe tbody tr th {\n",
       "        vertical-align: top;\n",
       "    }\n",
       "\n",
       "    .dataframe thead th {\n",
       "        text-align: right;\n",
       "    }\n",
       "</style>\n",
       "<table border=\"1\" class=\"dataframe\">\n",
       "  <thead>\n",
       "    <tr style=\"text-align: right;\">\n",
       "      <th></th>\n",
       "      <th>Country/Region</th>\n",
       "      <th>Cases</th>\n",
       "      <th>Deaths</th>\n",
       "      <th>PCases</th>\n",
       "      <th>PDeaths</th>\n",
       "      <th>Cases (+)</th>\n",
       "      <th>Deaths (+)</th>\n",
       "      <th>Fatality Rate</th>\n",
       "      <th>Continent</th>\n",
       "    </tr>\n",
       "  </thead>\n",
       "  <tbody>\n",
       "    <tr>\n",
       "      <th>0</th>\n",
       "      <td>US</td>\n",
       "      <td>80449944</td>\n",
       "      <td>985826</td>\n",
       "      <td>80406370</td>\n",
       "      <td>985504</td>\n",
       "      <td>43574</td>\n",
       "      <td>322</td>\n",
       "      <td>1.2</td>\n",
       "      <td>North America</td>\n",
       "    </tr>\n",
       "    <tr>\n",
       "      <th>1</th>\n",
       "      <td>India</td>\n",
       "      <td>43036928</td>\n",
       "      <td>521710</td>\n",
       "      <td>43036132</td>\n",
       "      <td>521691</td>\n",
       "      <td>796</td>\n",
       "      <td>19</td>\n",
       "      <td>1.2</td>\n",
       "      <td>Asia</td>\n",
       "    </tr>\n",
       "    <tr>\n",
       "      <th>2</th>\n",
       "      <td>Brazil</td>\n",
       "      <td>30161909</td>\n",
       "      <td>661576</td>\n",
       "      <td>30153979</td>\n",
       "      <td>661513</td>\n",
       "      <td>7930</td>\n",
       "      <td>63</td>\n",
       "      <td>2.2</td>\n",
       "      <td>South America</td>\n",
       "    </tr>\n",
       "    <tr>\n",
       "      <th>3</th>\n",
       "      <td>France</td>\n",
       "      <td>27162463</td>\n",
       "      <td>144503</td>\n",
       "      <td>27136925</td>\n",
       "      <td>144325</td>\n",
       "      <td>25538</td>\n",
       "      <td>178</td>\n",
       "      <td>0.5</td>\n",
       "      <td>Europe</td>\n",
       "    </tr>\n",
       "    <tr>\n",
       "      <th>4</th>\n",
       "      <td>Germany</td>\n",
       "      <td>22878428</td>\n",
       "      <td>132017</td>\n",
       "      <td>22677986</td>\n",
       "      <td>131728</td>\n",
       "      <td>200442</td>\n",
       "      <td>289</td>\n",
       "      <td>0.6</td>\n",
       "      <td>Europe</td>\n",
       "    </tr>\n",
       "  </tbody>\n",
       "</table>\n",
       "</div>"
      ],
      "text/plain": [
       "  Country/Region     Cases  Deaths    PCases  PDeaths  Cases (+)  Deaths (+)  \\\n",
       "0             US  80449944  985826  80406370   985504      43574         322   \n",
       "1          India  43036928  521710  43036132   521691        796          19   \n",
       "2         Brazil  30161909  661576  30153979   661513       7930          63   \n",
       "3         France  27162463  144503  27136925   144325      25538         178   \n",
       "4        Germany  22878428  132017  22677986   131728     200442         289   \n",
       "\n",
       "   Fatality Rate      Continent  \n",
       "0            1.2  North America  \n",
       "1            1.2           Asia  \n",
       "2            2.2  South America  \n",
       "3            0.5         Europe  \n",
       "4            0.6         Europe  "
      ]
     },
     "execution_count": 15,
     "metadata": {},
     "output_type": "execute_result"
    }
   ],
   "source": [
    "#hide\n",
    "df_table = (pd.DataFrame(dict(Cases=dfc_cases, Deaths=dfc_deaths, PCases=dfp_cases, PDeaths=dfp_deaths))\n",
    "             .sort_values(by=['Cases', 'Deaths'], ascending=[False, False])\n",
    "             .reset_index())\n",
    "df_table.rename(columns={'index': 'Country/Region'}, inplace=True)\n",
    "for c in 'Cases, Deaths'.split(', '):\n",
    "    df_table[f'{c} (+)'] = (df_table[c] - df_table[f'P{c}']).clip(0)  # DATA BUG\n",
    "df_table['Fatality Rate'] = (100 * df_table['Deaths'] / df_table['Cases']).round(1)\n",
    "df_table['Continent'] = df_table['Country/Region'].map(mapping['map.continent'])\n",
    "df_table.head(5)"
   ]
  },
  {
   "cell_type": "code",
   "execution_count": 16,
   "id": "fewer-occasion",
   "metadata": {
    "execution": {
     "iopub.execute_input": "2022-04-13T00:37:58.701072Z",
     "iopub.status.busy": "2022-04-13T00:37:58.700509Z",
     "iopub.status.idle": "2022-04-13T00:37:58.702648Z",
     "shell.execute_reply": "2022-04-13T00:37:58.702242Z"
    },
    "papermill": {
     "duration": 0.037758,
     "end_time": "2022-04-13T00:37:58.702756",
     "exception": false,
     "start_time": "2022-04-13T00:37:58.664998",
     "status": "completed"
    },
    "tags": []
   },
   "outputs": [],
   "source": [
    "#hide\n",
    "#delete problematic countries from table\n",
    "df_table = df_table[~df_table['Country/Region'].isin(['Cape Verde', 'Cruise Ship', 'Kosovo'])]"
   ]
  },
  {
   "cell_type": "code",
   "execution_count": 17,
   "id": "related-center",
   "metadata": {
    "execution": {
     "iopub.execute_input": "2022-04-13T00:37:58.775210Z",
     "iopub.status.busy": "2022-04-13T00:37:58.774693Z",
     "iopub.status.idle": "2022-04-13T00:37:58.784013Z",
     "shell.execute_reply": "2022-04-13T00:37:58.784449Z"
    },
    "papermill": {
     "duration": 0.050947,
     "end_time": "2022-04-13T00:37:58.784570",
     "exception": false,
     "start_time": "2022-04-13T00:37:58.733623",
     "status": "completed"
    },
    "tags": []
   },
   "outputs": [],
   "source": [
    "#hide\n",
    "metrics = [df_table.columns[index] for index in [1,2,5,6]]\n",
    "# s_china = df_table[df_table['Country/Region'].eq('China')][metrics].sum().add_prefix('China ')\n",
    "s_us = df_table[df_table['Country/Region'].eq('US')][metrics].sum().add_prefix('US ')\n",
    "s_eu = df_table[df_table['Continent'].eq('Europe')][metrics].sum().add_prefix('EU ')\n",
    "s_ind = df_table[df_table['Country/Region'].eq('India')][metrics].sum().add_prefix('India ')\n",
    "summary = {'updated': pd.to_datetime(dt_today), 'since': pd.to_datetime(dt_yday)}\n",
    "summary = {'updated': pd.to_datetime(dt_today), 'since': pd.to_datetime(dt_yday)}\n",
    "summary = {**summary, **df_table[metrics].sum(), **s_ind, **s_us, **s_eu}"
   ]
  },
  {
   "cell_type": "code",
   "execution_count": 18,
   "id": "engaging-syndrome",
   "metadata": {
    "execution": {
     "iopub.execute_input": "2022-04-13T00:37:58.851502Z",
     "iopub.status.busy": "2022-04-13T00:37:58.850998Z",
     "iopub.status.idle": "2022-04-13T00:37:58.867700Z",
     "shell.execute_reply": "2022-04-13T00:37:58.868138Z"
    },
    "papermill": {
     "duration": 0.052376,
     "end_time": "2022-04-13T00:37:58.868261",
     "exception": false,
     "start_time": "2022-04-13T00:37:58.815885",
     "status": "completed"
    },
    "tags": []
   },
   "outputs": [],
   "source": [
    "#hide\n",
    "dft_ct_new_cases = dft_cases.groupby(COL_REGION)[dt_cols].sum().diff(axis=1).fillna(0).astype(int)"
   ]
  },
  {
   "cell_type": "code",
   "execution_count": 19,
   "id": "neutral-assignment",
   "metadata": {
    "execution": {
     "iopub.execute_input": "2022-04-13T00:37:58.936785Z",
     "iopub.status.busy": "2022-04-13T00:37:58.936221Z",
     "iopub.status.idle": "2022-04-13T00:37:58.938379Z",
     "shell.execute_reply": "2022-04-13T00:37:58.937876Z"
    },
    "papermill": {
     "duration": 0.039209,
     "end_time": "2022-04-13T00:37:58.938488",
     "exception": false,
     "start_time": "2022-04-13T00:37:58.899279",
     "status": "completed"
    },
    "tags": []
   },
   "outputs": [],
   "source": [
    "#hide\n",
    "everydaycases = dft_ct_new_cases.cumsum(axis=1)"
   ]
  },
  {
   "cell_type": "code",
   "execution_count": 20,
   "id": "parliamentary-calgary",
   "metadata": {
    "execution": {
     "iopub.execute_input": "2022-04-13T00:37:59.004246Z",
     "iopub.status.busy": "2022-04-13T00:37:59.003723Z",
     "iopub.status.idle": "2022-04-13T00:37:59.636802Z",
     "shell.execute_reply": "2022-04-13T00:37:59.635889Z"
    },
    "papermill": {
     "duration": 0.667475,
     "end_time": "2022-04-13T00:37:59.636943",
     "exception": false,
     "start_time": "2022-04-13T00:37:58.969468",
     "status": "completed"
    },
    "tags": []
   },
   "outputs": [],
   "source": [
    "#hide\n",
    "import pandas as pd\n",
    "import matplotlib.pyplot as plt\n",
    "import matplotlib.ticker as ticker\n",
    "import matplotlib.animation as animation\n",
    "from IPython.display import HTML"
   ]
  },
  {
   "cell_type": "code",
   "execution_count": 21,
   "id": "lasting-extraction",
   "metadata": {
    "execution": {
     "iopub.execute_input": "2022-04-13T00:37:59.705299Z",
     "iopub.status.busy": "2022-04-13T00:37:59.704779Z",
     "iopub.status.idle": "2022-04-13T00:37:59.711092Z",
     "shell.execute_reply": "2022-04-13T00:37:59.711525Z"
    },
    "papermill": {
     "duration": 0.043544,
     "end_time": "2022-04-13T00:37:59.711652",
     "exception": false,
     "start_time": "2022-04-13T00:37:59.668108",
     "status": "completed"
    },
    "tags": []
   },
   "outputs": [],
   "source": [
    "#hide\n",
    "t = everydaycases.stack()"
   ]
  },
  {
   "cell_type": "code",
   "execution_count": 22,
   "id": "premier-sleeve",
   "metadata": {
    "execution": {
     "iopub.execute_input": "2022-04-13T00:37:59.777266Z",
     "iopub.status.busy": "2022-04-13T00:37:59.776744Z",
     "iopub.status.idle": "2022-04-13T00:37:59.786962Z",
     "shell.execute_reply": "2022-04-13T00:37:59.786533Z"
    },
    "papermill": {
     "duration": 0.044491,
     "end_time": "2022-04-13T00:37:59.787068",
     "exception": false,
     "start_time": "2022-04-13T00:37:59.742577",
     "status": "completed"
    },
    "tags": []
   },
   "outputs": [],
   "source": [
    "#hide\n",
    "g = t.reset_index(['Country/Region'])"
   ]
  },
  {
   "cell_type": "code",
   "execution_count": 23,
   "id": "distributed-pittsburgh",
   "metadata": {
    "execution": {
     "iopub.execute_input": "2022-04-13T00:37:59.852252Z",
     "iopub.status.busy": "2022-04-13T00:37:59.851671Z",
     "iopub.status.idle": "2022-04-13T00:37:59.853864Z",
     "shell.execute_reply": "2022-04-13T00:37:59.853310Z"
    },
    "papermill": {
     "duration": 0.036155,
     "end_time": "2022-04-13T00:37:59.853979",
     "exception": false,
     "start_time": "2022-04-13T00:37:59.817824",
     "status": "completed"
    },
    "tags": []
   },
   "outputs": [],
   "source": [
    "#hide\n",
    "g.index.name = 'date'"
   ]
  },
  {
   "cell_type": "code",
   "execution_count": 24,
   "id": "naked-donor",
   "metadata": {
    "execution": {
     "iopub.execute_input": "2022-04-13T00:37:59.921664Z",
     "iopub.status.busy": "2022-04-13T00:37:59.921033Z",
     "iopub.status.idle": "2022-04-13T00:37:59.922433Z",
     "shell.execute_reply": "2022-04-13T00:37:59.922813Z"
    },
    "papermill": {
     "duration": 0.036646,
     "end_time": "2022-04-13T00:37:59.922948",
     "exception": false,
     "start_time": "2022-04-13T00:37:59.886302",
     "status": "completed"
    },
    "tags": []
   },
   "outputs": [],
   "source": [
    "# #hide\n",
    "# g = g.reset_index(['date'])"
   ]
  },
  {
   "cell_type": "code",
   "execution_count": 25,
   "id": "incomplete-mustang",
   "metadata": {
    "execution": {
     "iopub.execute_input": "2022-04-13T00:37:59.989458Z",
     "iopub.status.busy": "2022-04-13T00:37:59.988840Z",
     "iopub.status.idle": "2022-04-13T00:37:59.991213Z",
     "shell.execute_reply": "2022-04-13T00:37:59.991652Z"
    },
    "papermill": {
     "duration": 0.037714,
     "end_time": "2022-04-13T00:37:59.991803",
     "exception": false,
     "start_time": "2022-04-13T00:37:59.954089",
     "status": "completed"
    },
    "tags": []
   },
   "outputs": [],
   "source": [
    "#hide\n",
    "# g.head()"
   ]
  },
  {
   "cell_type": "code",
   "execution_count": 26,
   "id": "specific-kruger",
   "metadata": {
    "execution": {
     "iopub.execute_input": "2022-04-13T00:38:00.058800Z",
     "iopub.status.busy": "2022-04-13T00:38:00.058186Z",
     "iopub.status.idle": "2022-04-13T00:38:00.061701Z",
     "shell.execute_reply": "2022-04-13T00:38:00.062144Z"
    },
    "papermill": {
     "duration": 0.039008,
     "end_time": "2022-04-13T00:38:00.062300",
     "exception": false,
     "start_time": "2022-04-13T00:38:00.023292",
     "status": "completed"
    },
    "tags": []
   },
   "outputs": [],
   "source": [
    "#hide\n",
    "# g.columns = ['date','country','cases']"
   ]
  },
  {
   "cell_type": "code",
   "execution_count": 27,
   "id": "tender-conversion",
   "metadata": {
    "execution": {
     "iopub.execute_input": "2022-04-13T00:38:00.128816Z",
     "iopub.status.busy": "2022-04-13T00:38:00.128177Z",
     "iopub.status.idle": "2022-04-13T00:38:00.130270Z",
     "shell.execute_reply": "2022-04-13T00:38:00.129694Z"
    },
    "papermill": {
     "duration": 0.036796,
     "end_time": "2022-04-13T00:38:00.130396",
     "exception": false,
     "start_time": "2022-04-13T00:38:00.093600",
     "status": "completed"
    },
    "tags": []
   },
   "outputs": [],
   "source": [
    "#hide\n",
    "# g['continent'] = g.country"
   ]
  },
  {
   "cell_type": "code",
   "execution_count": 28,
   "id": "substantial-wilderness",
   "metadata": {
    "execution": {
     "iopub.execute_input": "2022-04-13T00:38:00.196921Z",
     "iopub.status.busy": "2022-04-13T00:38:00.196287Z",
     "iopub.status.idle": "2022-04-13T00:38:00.198304Z",
     "shell.execute_reply": "2022-04-13T00:38:00.197797Z"
    },
    "papermill": {
     "duration": 0.036081,
     "end_time": "2022-04-13T00:38:00.198413",
     "exception": false,
     "start_time": "2022-04-13T00:38:00.162332",
     "status": "completed"
    },
    "tags": []
   },
   "outputs": [],
   "source": [
    "#hide\n",
    "# cols = list(g.columns.values)"
   ]
  },
  {
   "cell_type": "code",
   "execution_count": 29,
   "id": "solved-farming",
   "metadata": {
    "execution": {
     "iopub.execute_input": "2022-04-13T00:38:00.263874Z",
     "iopub.status.busy": "2022-04-13T00:38:00.263280Z",
     "iopub.status.idle": "2022-04-13T00:38:00.265523Z",
     "shell.execute_reply": "2022-04-13T00:38:00.265022Z"
    },
    "papermill": {
     "duration": 0.036294,
     "end_time": "2022-04-13T00:38:00.265648",
     "exception": false,
     "start_time": "2022-04-13T00:38:00.229354",
     "status": "completed"
    },
    "tags": []
   },
   "outputs": [],
   "source": [
    "#hide\n",
    "# cols.insert(0, cols.pop())"
   ]
  },
  {
   "cell_type": "code",
   "execution_count": 30,
   "id": "executed-adoption",
   "metadata": {
    "execution": {
     "iopub.execute_input": "2022-04-13T00:38:00.332214Z",
     "iopub.status.busy": "2022-04-13T00:38:00.331615Z",
     "iopub.status.idle": "2022-04-13T00:38:00.333116Z",
     "shell.execute_reply": "2022-04-13T00:38:00.333581Z"
    },
    "papermill": {
     "duration": 0.036444,
     "end_time": "2022-04-13T00:38:00.333722",
     "exception": false,
     "start_time": "2022-04-13T00:38:00.297278",
     "status": "completed"
    },
    "tags": []
   },
   "outputs": [],
   "source": [
    "#hide\n",
    "# g = g[cols]"
   ]
  },
  {
   "cell_type": "code",
   "execution_count": 31,
   "id": "subject-dublin",
   "metadata": {
    "execution": {
     "iopub.execute_input": "2022-04-13T00:38:00.399507Z",
     "iopub.status.busy": "2022-04-13T00:38:00.398930Z",
     "iopub.status.idle": "2022-04-13T00:38:00.401115Z",
     "shell.execute_reply": "2022-04-13T00:38:00.400621Z"
    },
    "papermill": {
     "duration": 0.035903,
     "end_time": "2022-04-13T00:38:00.401237",
     "exception": false,
     "start_time": "2022-04-13T00:38:00.365334",
     "status": "completed"
    },
    "tags": []
   },
   "outputs": [],
   "source": [
    "#hide\n",
    "# g['continent'] = g['continent'].map(mapping['map.continent'])"
   ]
  },
  {
   "cell_type": "code",
   "execution_count": 32,
   "id": "freelance-scout",
   "metadata": {
    "execution": {
     "iopub.execute_input": "2022-04-13T00:38:00.466221Z",
     "iopub.status.busy": "2022-04-13T00:38:00.465626Z",
     "iopub.status.idle": "2022-04-13T00:38:00.467272Z",
     "shell.execute_reply": "2022-04-13T00:38:00.467732Z"
    },
    "papermill": {
     "duration": 0.035736,
     "end_time": "2022-04-13T00:38:00.467861",
     "exception": false,
     "start_time": "2022-04-13T00:38:00.432125",
     "status": "completed"
    },
    "tags": []
   },
   "outputs": [],
   "source": [
    "#hide\n",
    "# g.head()"
   ]
  },
  {
   "cell_type": "code",
   "execution_count": 33,
   "id": "limited-engine",
   "metadata": {
    "execution": {
     "iopub.execute_input": "2022-04-13T00:38:00.533415Z",
     "iopub.status.busy": "2022-04-13T00:38:00.532826Z",
     "iopub.status.idle": "2022-04-13T00:38:00.534844Z",
     "shell.execute_reply": "2022-04-13T00:38:00.534440Z"
    },
    "papermill": {
     "duration": 0.035694,
     "end_time": "2022-04-13T00:38:00.534953",
     "exception": false,
     "start_time": "2022-04-13T00:38:00.499259",
     "status": "completed"
    },
    "tags": []
   },
   "outputs": [],
   "source": [
    "# hide\n",
    "# g['date'] = g['date'].astype('datetime64[ns]')"
   ]
  },
  {
   "cell_type": "code",
   "execution_count": 34,
   "id": "sophisticated-supervisor",
   "metadata": {
    "execution": {
     "iopub.execute_input": "2022-04-13T00:38:00.600138Z",
     "iopub.status.busy": "2022-04-13T00:38:00.599551Z",
     "iopub.status.idle": "2022-04-13T00:38:00.602862Z",
     "shell.execute_reply": "2022-04-13T00:38:00.603301Z"
    },
    "papermill": {
     "duration": 0.037444,
     "end_time": "2022-04-13T00:38:00.603435",
     "exception": false,
     "start_time": "2022-04-13T00:38:00.565991",
     "status": "completed"
    },
    "tags": []
   },
   "outputs": [],
   "source": [
    "#hide\n",
    "# g['date'] = g.date.dt.dayofyear"
   ]
  },
  {
   "cell_type": "code",
   "execution_count": 35,
   "id": "inside-dubai",
   "metadata": {
    "execution": {
     "iopub.execute_input": "2022-04-13T00:38:00.668836Z",
     "iopub.status.busy": "2022-04-13T00:38:00.668203Z",
     "iopub.status.idle": "2022-04-13T00:38:00.669929Z",
     "shell.execute_reply": "2022-04-13T00:38:00.670360Z"
    },
    "papermill": {
     "duration": 0.036063,
     "end_time": "2022-04-13T00:38:00.670496",
     "exception": false,
     "start_time": "2022-04-13T00:38:00.634433",
     "status": "completed"
    },
    "tags": []
   },
   "outputs": [],
   "source": [
    "#hide\n",
    "# g = g.rename(columns= {'continent':'group','country':'name','cases':'value'})"
   ]
  },
  {
   "cell_type": "code",
   "execution_count": 36,
   "id": "fleet-motorcycle",
   "metadata": {
    "execution": {
     "iopub.execute_input": "2022-04-13T00:38:00.736412Z",
     "iopub.status.busy": "2022-04-13T00:38:00.735839Z",
     "iopub.status.idle": "2022-04-13T00:38:00.737994Z",
     "shell.execute_reply": "2022-04-13T00:38:00.737425Z"
    },
    "papermill": {
     "duration": 0.03593,
     "end_time": "2022-04-13T00:38:00.738110",
     "exception": false,
     "start_time": "2022-04-13T00:38:00.702180",
     "status": "completed"
    },
    "tags": []
   },
   "outputs": [],
   "source": [
    "#hide\n",
    "# cols = ['name','group','day','value']"
   ]
  },
  {
   "cell_type": "code",
   "execution_count": 37,
   "id": "continued-sleeping",
   "metadata": {
    "execution": {
     "iopub.execute_input": "2022-04-13T00:38:00.803191Z",
     "iopub.status.busy": "2022-04-13T00:38:00.802616Z",
     "iopub.status.idle": "2022-04-13T00:38:00.805809Z",
     "shell.execute_reply": "2022-04-13T00:38:00.806242Z"
    },
    "papermill": {
     "duration": 0.037348,
     "end_time": "2022-04-13T00:38:00.806377",
     "exception": false,
     "start_time": "2022-04-13T00:38:00.769029",
     "status": "completed"
    },
    "tags": []
   },
   "outputs": [],
   "source": [
    "#hide\n",
    "# g.rename(columns= {'date':'day'},inplace = True)"
   ]
  },
  {
   "cell_type": "code",
   "execution_count": 38,
   "id": "major-fight",
   "metadata": {
    "execution": {
     "iopub.execute_input": "2022-04-13T00:38:00.871704Z",
     "iopub.status.busy": "2022-04-13T00:38:00.871182Z",
     "iopub.status.idle": "2022-04-13T00:38:00.874637Z",
     "shell.execute_reply": "2022-04-13T00:38:00.874235Z"
    },
    "papermill": {
     "duration": 0.036923,
     "end_time": "2022-04-13T00:38:00.874740",
     "exception": false,
     "start_time": "2022-04-13T00:38:00.837817",
     "status": "completed"
    },
    "tags": []
   },
   "outputs": [],
   "source": [
    "#hide\n",
    "# g = g[cols]"
   ]
  },
  {
   "cell_type": "code",
   "execution_count": 39,
   "id": "structured-mobile",
   "metadata": {
    "execution": {
     "iopub.execute_input": "2022-04-13T00:38:00.940323Z",
     "iopub.status.busy": "2022-04-13T00:38:00.939735Z",
     "iopub.status.idle": "2022-04-13T00:38:00.941542Z",
     "shell.execute_reply": "2022-04-13T00:38:00.941021Z"
    },
    "papermill": {
     "duration": 0.036084,
     "end_time": "2022-04-13T00:38:00.941647",
     "exception": false,
     "start_time": "2022-04-13T00:38:00.905563",
     "status": "completed"
    },
    "tags": []
   },
   "outputs": [],
   "source": [
    "# #hide\n",
    "# g = g[g.group.notna()]"
   ]
  },
  {
   "cell_type": "code",
   "execution_count": 40,
   "id": "determined-closing",
   "metadata": {
    "execution": {
     "iopub.execute_input": "2022-04-13T00:38:01.007405Z",
     "iopub.status.busy": "2022-04-13T00:38:01.006771Z",
     "iopub.status.idle": "2022-04-13T00:38:01.008730Z",
     "shell.execute_reply": "2022-04-13T00:38:01.008138Z"
    },
    "papermill": {
     "duration": 0.036336,
     "end_time": "2022-04-13T00:38:01.008855",
     "exception": false,
     "start_time": "2022-04-13T00:38:00.972519",
     "status": "completed"
    },
    "tags": []
   },
   "outputs": [],
   "source": [
    "# #hide\n",
    "# colors = dict(zip(\n",
    "#     [\"Oceania\", \"Europe\", \"Asia\", \"South America\", \"Middle East\", \"North America\", \"Africa\"],\n",
    "#     [\"#adb0ff\", \"#ffb3ff\", \"#90d595\", \"#e48381\", \"#aafbff\", \"#f7bb5f\", \"#eafb50\"]\n",
    "# ))\n",
    "# group_lk = g.set_index('name')['group'].to_dict()"
   ]
  },
  {
   "cell_type": "code",
   "execution_count": null,
   "id": "gross-drinking",
   "metadata": {
    "papermill": {
     "duration": 0.030967,
     "end_time": "2022-04-13T00:38:01.071382",
     "exception": false,
     "start_time": "2022-04-13T00:38:01.040415",
     "status": "completed"
    },
    "tags": []
   },
   "outputs": [],
   "source": []
  },
  {
   "cell_type": "code",
   "execution_count": 41,
   "id": "subject-macintosh",
   "metadata": {
    "execution": {
     "iopub.execute_input": "2022-04-13T00:38:01.138104Z",
     "iopub.status.busy": "2022-04-13T00:38:01.137481Z",
     "iopub.status.idle": "2022-04-13T00:38:01.139538Z",
     "shell.execute_reply": "2022-04-13T00:38:01.138964Z"
    },
    "papermill": {
     "duration": 0.037354,
     "end_time": "2022-04-13T00:38:01.139661",
     "exception": false,
     "start_time": "2022-04-13T00:38:01.102307",
     "status": "completed"
    },
    "tags": []
   },
   "outputs": [],
   "source": [
    "# #hide\n",
    "# fig, ax = plt.subplots(figsize=(15, 8))\n",
    "\n",
    "# def draw_barchart(current_day):\n",
    "#     dff = g[g['day'].eq(current_day)].sort_values(by='value', ascending=True).tail(10)\n",
    "#     ax.clear()\n",
    "#     ax.barh(dff['name'], dff['value'], color=[colors[group_lk[x]] for x in dff['name']])\n",
    "#     dx = dff['value'].max() / 200\n",
    "    \n",
    "#     for i, (value, name) in enumerate(zip(dff['value'], dff['name'])):\n",
    "#         ax.text(value-dx, i,     name,           size=14, weight=600, ha='right', va='bottom')\n",
    "#         ax.text(value-dx, i-.25, group_lk[name], size=10, color='#444444', ha='right', va='baseline')\n",
    "#         ax.text(value+dx, i,     f'{value:,.0f}',  size=14, ha='left',  va='center')\n",
    "#     ax.text(1, 0.4, current_day, transform=ax.transAxes, color='#777777', size=46, ha='right', weight=800)\n",
    "#     ax.text(0, 1.06, 'Population (thousands)', transform=ax.transAxes, size=12, color='#777777')\n",
    "#     ax.xaxis.set_major_formatter(ticker.StrMethodFormatter('{x:,.0f}'))\n",
    "#     ax.xaxis.set_ticks_position('top')\n",
    "#     ax.tick_params(axis='x', colors='#777777', labelsize=12)\n",
    "#     ax.set_yticks([])\n",
    "#     ax.margins(0, 0.01)\n",
    "#     ax.grid(which='major', axis='x', linestyle='-')\n",
    "#     ax.set_axisbelow(True)\n",
    "    \n",
    "#     ax.text(0, 1.15, 'Coronavirus',\n",
    "#             transform=ax.transAxes, size=24, weight=600, ha='left', va='top')\n",
    "# #     ax.text(1, 0, 'by @pratapvardhan; credit @jburnmurdoch', transform=ax.transAxes, color='#777777', ha='right',\n",
    "# #             bbox=dict(facecolor='white', alpha=0.8, edgecolor='white'))\n",
    "#     plt.box(False)"
   ]
  },
  {
   "cell_type": "code",
   "execution_count": 42,
   "id": "sexual-wages",
   "metadata": {
    "execution": {
     "iopub.execute_input": "2022-04-13T00:38:01.205452Z",
     "iopub.status.busy": "2022-04-13T00:38:01.204851Z",
     "iopub.status.idle": "2022-04-13T00:38:01.206806Z",
     "shell.execute_reply": "2022-04-13T00:38:01.206379Z"
    },
    "papermill": {
     "duration": 0.035828,
     "end_time": "2022-04-13T00:38:01.206910",
     "exception": false,
     "start_time": "2022-04-13T00:38:01.171082",
     "status": "completed"
    },
    "tags": []
   },
   "outputs": [],
   "source": [
    "# #hide_input\n",
    "# fig, ax = plt.subplots(figsize=(15, 8))\n",
    "# animator = animation.FuncAnimation(fig, draw_barchart, frames=range(g.day.values.min(), g.day.values.max()))\n",
    "# HTML(animator.to_jshtml())\n",
    "# # or use animator.to_html5_video() or animator.save() "
   ]
  },
  {
   "cell_type": "code",
   "execution_count": null,
   "id": "australian-container",
   "metadata": {
    "papermill": {
     "duration": 0.031233,
     "end_time": "2022-04-13T00:38:01.269010",
     "exception": false,
     "start_time": "2022-04-13T00:38:01.237777",
     "status": "completed"
    },
    "tags": []
   },
   "outputs": [],
   "source": []
  },
  {
   "cell_type": "code",
   "execution_count": null,
   "id": "mediterranean-pontiac",
   "metadata": {
    "papermill": {
     "duration": 0.031732,
     "end_time": "2022-04-13T00:38:01.331618",
     "exception": false,
     "start_time": "2022-04-13T00:38:01.299886",
     "status": "completed"
    },
    "tags": []
   },
   "outputs": [],
   "source": []
  },
  {
   "cell_type": "code",
   "execution_count": null,
   "id": "aging-legislature",
   "metadata": {
    "papermill": {
     "duration": 0.03074,
     "end_time": "2022-04-13T00:38:01.393385",
     "exception": false,
     "start_time": "2022-04-13T00:38:01.362645",
     "status": "completed"
    },
    "tags": []
   },
   "outputs": [],
   "source": []
  }
 ],
 "metadata": {
  "kernelspec": {
   "display_name": "Python 3",
   "language": "python",
   "name": "python3"
  },
  "language_info": {
   "codemirror_mode": {
    "name": "ipython",
    "version": 3
   },
   "file_extension": ".py",
   "mimetype": "text/x-python",
   "name": "python",
   "nbconvert_exporter": "python",
   "pygments_lexer": "ipython3",
   "version": "3.6.15"
  },
  "papermill": {
   "duration": 6.228017,
   "end_time": "2022-04-13T00:38:01.843419",
   "environment_variables": {},
   "exception": null,
   "input_path": "2020-03-21-covid19exp.ipynb",
   "output_path": "2020-03-21-covid19exp.ipynb",
   "parameters": {},
   "start_time": "2022-04-13T00:37:55.615402",
   "version": "2.0.0"
  }
 },
 "nbformat": 4,
 "nbformat_minor": 5
}