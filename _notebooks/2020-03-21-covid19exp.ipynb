{
 "cells": [
  {
   "cell_type": "markdown",
   "id": "muslim-click",
   "metadata": {
    "papermill": {
     "duration": 0.043003,
     "end_time": "2021-06-05T12:31:39.256623",
     "exception": false,
     "start_time": "2021-06-05T12:31:39.213620",
     "status": "completed"
    },
    "tags": []
   },
   "source": [
    "# COVID-19 Case Race\n",
    "> A race chart to see rising cases around the world\n",
    "\n",
    "- author: Hargun Oberoi\n",
    "- image: images/covid-overview.png\n",
    "- hide: false\n",
    "- badges: false"
   ]
  },
  {
   "cell_type": "code",
   "execution_count": 1,
   "id": "proof-material",
   "metadata": {
    "execution": {
     "iopub.execute_input": "2021-06-05T12:31:39.347619Z",
     "iopub.status.busy": "2021-06-05T12:31:39.346956Z",
     "iopub.status.idle": "2021-06-05T12:31:39.766024Z",
     "shell.execute_reply": "2021-06-05T12:31:39.766592Z"
    },
    "papermill": {
     "duration": 0.469091,
     "end_time": "2021-06-05T12:31:39.766816",
     "exception": false,
     "start_time": "2021-06-05T12:31:39.297725",
     "status": "completed"
    },
    "tags": []
   },
   "outputs": [],
   "source": [
    "#hide\n",
    "import numpy as np\n",
    "import pandas as pd\n",
    "from jinja2 import Template\n",
    "from IPython.display import HTML"
   ]
  },
  {
   "cell_type": "code",
   "execution_count": 2,
   "id": "developed-terminology",
   "metadata": {
    "execution": {
     "iopub.execute_input": "2021-06-05T12:31:39.849724Z",
     "iopub.status.busy": "2021-06-05T12:31:39.849045Z",
     "iopub.status.idle": "2021-06-05T12:31:39.851073Z",
     "shell.execute_reply": "2021-06-05T12:31:39.851733Z"
    },
    "papermill": {
     "duration": 0.045156,
     "end_time": "2021-06-05T12:31:39.851896",
     "exception": false,
     "start_time": "2021-06-05T12:31:39.806740",
     "status": "completed"
    },
    "tags": []
   },
   "outputs": [],
   "source": [
    "#hide\n",
    "\n",
    "# FETCH\n",
    "base_url = 'https://raw.githubusercontent.com/pratapvardhan/notebooks/master/covid19/'\n",
    "paths = {\n",
    "    'mapping': base_url + 'mapping_countries.csv',\n",
    "    'overview': base_url + 'overview.tpl'\n",
    "}"
   ]
  },
  {
   "cell_type": "code",
   "execution_count": 3,
   "id": "dynamic-saver",
   "metadata": {
    "execution": {
     "iopub.execute_input": "2021-06-05T12:31:39.940775Z",
     "iopub.status.busy": "2021-06-05T12:31:39.940088Z",
     "iopub.status.idle": "2021-06-05T12:31:39.948914Z",
     "shell.execute_reply": "2021-06-05T12:31:39.949482Z"
    },
    "papermill": {
     "duration": 0.057106,
     "end_time": "2021-06-05T12:31:39.949651",
     "exception": false,
     "start_time": "2021-06-05T12:31:39.892545",
     "status": "completed"
    },
    "tags": []
   },
   "outputs": [
    {
     "data": {
      "text/plain": [
       "'https://raw.githubusercontent.com/pratapvardhan/notebooks/master/covid19/mapping_countries.csv'"
      ]
     },
     "execution_count": 3,
     "metadata": {},
     "output_type": "execute_result"
    }
   ],
   "source": [
    "#hide\n",
    "paths['mapping']"
   ]
  },
  {
   "cell_type": "code",
   "execution_count": 4,
   "id": "urban-software",
   "metadata": {
    "execution": {
     "iopub.execute_input": "2021-06-05T12:31:40.038978Z",
     "iopub.status.busy": "2021-06-05T12:31:40.038245Z",
     "iopub.status.idle": "2021-06-05T12:31:40.040646Z",
     "shell.execute_reply": "2021-06-05T12:31:40.040017Z"
    },
    "papermill": {
     "duration": 0.047366,
     "end_time": "2021-06-05T12:31:40.040769",
     "exception": false,
     "start_time": "2021-06-05T12:31:39.993403",
     "status": "completed"
    },
    "tags": []
   },
   "outputs": [],
   "source": [
    "#hide\n",
    "def get_mappings(url):\n",
    "    df = pd.read_csv(url)\n",
    "    return {\n",
    "        'df': df,\n",
    "        'replace.country': dict(df.dropna(subset=['Name']).set_index('Country')['Name']),\n",
    "        'map.continent': dict(df.set_index('Name')['Continent'])\n",
    "    }"
   ]
  },
  {
   "cell_type": "code",
   "execution_count": 5,
   "id": "intimate-machinery",
   "metadata": {
    "execution": {
     "iopub.execute_input": "2021-06-05T12:31:40.123007Z",
     "iopub.status.busy": "2021-06-05T12:31:40.122325Z",
     "iopub.status.idle": "2021-06-05T12:31:40.169602Z",
     "shell.execute_reply": "2021-06-05T12:31:40.170072Z"
    },
    "papermill": {
     "duration": 0.089788,
     "end_time": "2021-06-05T12:31:40.170227",
     "exception": false,
     "start_time": "2021-06-05T12:31:40.080439",
     "status": "completed"
    },
    "tags": []
   },
   "outputs": [],
   "source": [
    "#hide\n",
    "mapping = get_mappings(paths['mapping'])"
   ]
  },
  {
   "cell_type": "code",
   "execution_count": 6,
   "id": "certified-tactics",
   "metadata": {
    "execution": {
     "iopub.execute_input": "2021-06-05T12:31:40.252044Z",
     "iopub.status.busy": "2021-06-05T12:31:40.251359Z",
     "iopub.status.idle": "2021-06-05T12:31:40.253325Z",
     "shell.execute_reply": "2021-06-05T12:31:40.253871Z"
    },
    "papermill": {
     "duration": 0.046985,
     "end_time": "2021-06-05T12:31:40.254062",
     "exception": false,
     "start_time": "2021-06-05T12:31:40.207077",
     "status": "completed"
    },
    "tags": []
   },
   "outputs": [],
   "source": [
    "#hide\n",
    "def get_template(path):\n",
    "    from urllib.parse import urlparse\n",
    "    if bool(urlparse(path).netloc):\n",
    "        from urllib.request import urlopen\n",
    "        return urlopen(path).read().decode('utf8')\n",
    "    return open(path).read()"
   ]
  },
  {
   "cell_type": "code",
   "execution_count": 7,
   "id": "realistic-blast",
   "metadata": {
    "execution": {
     "iopub.execute_input": "2021-06-05T12:31:40.336818Z",
     "iopub.status.busy": "2021-06-05T12:31:40.336155Z",
     "iopub.status.idle": "2021-06-05T12:31:40.338001Z",
     "shell.execute_reply": "2021-06-05T12:31:40.338652Z"
    },
    "papermill": {
     "duration": 0.046044,
     "end_time": "2021-06-05T12:31:40.338801",
     "exception": false,
     "start_time": "2021-06-05T12:31:40.292757",
     "status": "completed"
    },
    "tags": []
   },
   "outputs": [],
   "source": [
    "#hide\n",
    "def get_frame(name):\n",
    "    url = (\n",
    "        'https://raw.githubusercontent.com/CSSEGISandData/COVID-19/master/csse_covid_19_data/'\n",
    "        f'csse_covid_19_time_series/time_series_covid19_{name}_global.csv')\n",
    "    df = pd.read_csv(url)\n",
    "    # rename countries\n",
    "    df['Country/Region'] = df['Country/Region'].replace(mapping['replace.country'])\n",
    "    return df"
   ]
  },
  {
   "cell_type": "code",
   "execution_count": 8,
   "id": "affiliated-characterization",
   "metadata": {
    "execution": {
     "iopub.execute_input": "2021-06-05T12:31:40.423431Z",
     "iopub.status.busy": "2021-06-05T12:31:40.422730Z",
     "iopub.status.idle": "2021-06-05T12:31:40.425310Z",
     "shell.execute_reply": "2021-06-05T12:31:40.424638Z"
    },
    "papermill": {
     "duration": 0.047188,
     "end_time": "2021-06-05T12:31:40.425500",
     "exception": false,
     "start_time": "2021-06-05T12:31:40.378312",
     "status": "completed"
    },
    "tags": []
   },
   "outputs": [],
   "source": [
    "#hide\n",
    "def get_dates(df):\n",
    "    dt_cols = df.columns[~df.columns.isin(['Province/State', 'Country/Region', 'Lat', 'Long'])]\n",
    "    LAST_DATE_I = -1\n",
    "    # sometimes last column may be empty, then go backwards\n",
    "    for i in range(-1, -len(dt_cols), -1):\n",
    "        if not df[dt_cols[i]].fillna(0).eq(0).all():\n",
    "            LAST_DATE_I = i\n",
    "            break\n",
    "    return LAST_DATE_I, dt_cols"
   ]
  },
  {
   "cell_type": "code",
   "execution_count": 9,
   "id": "recent-optimization",
   "metadata": {
    "execution": {
     "iopub.execute_input": "2021-06-05T12:31:40.504989Z",
     "iopub.status.busy": "2021-06-05T12:31:40.504403Z",
     "iopub.status.idle": "2021-06-05T12:31:40.909438Z",
     "shell.execute_reply": "2021-06-05T12:31:40.908230Z"
    },
    "papermill": {
     "duration": 0.447038,
     "end_time": "2021-06-05T12:31:40.909610",
     "exception": false,
     "start_time": "2021-06-05T12:31:40.462572",
     "status": "completed"
    },
    "tags": []
   },
   "outputs": [],
   "source": [
    "#hide\n",
    "COL_REGION = 'Country/Region'\n",
    "# Confirmed, Recovered, Deaths\n",
    "df = get_frame('confirmed')\n",
    "# dft_: timeseries, dfc_: today country agg\n",
    "dft_cases = df\n",
    "dft_deaths = get_frame('deaths')\n",
    "dft_recovered = get_frame('recovered')\n",
    "LAST_DATE_I, dt_cols = get_dates(df)"
   ]
  },
  {
   "cell_type": "code",
   "execution_count": 10,
   "id": "absolute-copper",
   "metadata": {
    "execution": {
     "iopub.execute_input": "2021-06-05T12:31:40.995350Z",
     "iopub.status.busy": "2021-06-05T12:31:40.994694Z",
     "iopub.status.idle": "2021-06-05T12:31:40.996501Z",
     "shell.execute_reply": "2021-06-05T12:31:40.997129Z"
    },
    "papermill": {
     "duration": 0.048161,
     "end_time": "2021-06-05T12:31:40.997280",
     "exception": false,
     "start_time": "2021-06-05T12:31:40.949119",
     "status": "completed"
    },
    "tags": []
   },
   "outputs": [],
   "source": [
    "#hide\n",
    "LAST_DATE_I, dt_cols = get_dates(df)\n",
    "dt_today =dt_cols[LAST_DATE_I]\n",
    "# dt_5day = dt_cols[LAST_DATE_I - 5]\n",
    "dt_yday = dt_cols[LAST_DATE_I - 1]"
   ]
  },
  {
   "cell_type": "code",
   "execution_count": 11,
   "id": "restricted-sheriff",
   "metadata": {
    "execution": {
     "iopub.execute_input": "2021-06-05T12:31:41.085569Z",
     "iopub.status.busy": "2021-06-05T12:31:41.084857Z",
     "iopub.status.idle": "2021-06-05T12:31:41.094276Z",
     "shell.execute_reply": "2021-06-05T12:31:41.093707Z"
    },
    "papermill": {
     "duration": 0.057283,
     "end_time": "2021-06-05T12:31:41.094425",
     "exception": false,
     "start_time": "2021-06-05T12:31:41.037142",
     "status": "completed"
    },
    "tags": []
   },
   "outputs": [],
   "source": [
    "#hide\n",
    "dfc_cases = dft_cases.groupby(COL_REGION)[dt_today].sum()\n",
    "dfc_deaths = dft_deaths.groupby(COL_REGION)[dt_today].sum()\n",
    "# dfp_cases = dft_cases.groupby(COL_REGION)[dt_5day].sum()\n",
    "# dfp_deaths = dft_deaths.groupby(COL_REGION)[dt_5day].sum()\n",
    "dfp_cases = dft_cases.groupby(COL_REGION)[dt_yday].sum()\n",
    "dfp_deaths = dft_deaths.groupby(COL_REGION)[dt_yday].sum()"
   ]
  },
  {
   "cell_type": "code",
   "execution_count": 12,
   "id": "deluxe-hepatitis",
   "metadata": {
    "execution": {
     "iopub.execute_input": "2021-06-05T12:31:41.178607Z",
     "iopub.status.busy": "2021-06-05T12:31:41.177824Z",
     "iopub.status.idle": "2021-06-05T12:31:41.183343Z",
     "shell.execute_reply": "2021-06-05T12:31:41.182797Z"
    },
    "papermill": {
     "duration": 0.050461,
     "end_time": "2021-06-05T12:31:41.183480",
     "exception": false,
     "start_time": "2021-06-05T12:31:41.133019",
     "status": "completed"
    },
    "tags": []
   },
   "outputs": [],
   "source": [
    "#hide\n",
    "df_table = (pd.DataFrame(dict(Cases = dfc_cases, Deaths = dfc_deaths, PCases = dfp_cases, PDeaths = dfp_deaths))\n",
    "            .sort_values(by = ['Cases','Deaths'], ascending = [False, False])\n",
    "            .reset_index())"
   ]
  },
  {
   "cell_type": "code",
   "execution_count": 13,
   "id": "educational-chancellor",
   "metadata": {
    "execution": {
     "iopub.execute_input": "2021-06-05T12:31:41.283736Z",
     "iopub.status.busy": "2021-06-05T12:31:41.283066Z",
     "iopub.status.idle": "2021-06-05T12:31:41.293092Z",
     "shell.execute_reply": "2021-06-05T12:31:41.292551Z"
    },
    "papermill": {
     "duration": 0.06931,
     "end_time": "2021-06-05T12:31:41.293234",
     "exception": false,
     "start_time": "2021-06-05T12:31:41.223924",
     "status": "completed"
    },
    "tags": []
   },
   "outputs": [
    {
     "data": {
      "text/html": [
       "<div>\n",
       "<style scoped>\n",
       "    .dataframe tbody tr th:only-of-type {\n",
       "        vertical-align: middle;\n",
       "    }\n",
       "\n",
       "    .dataframe tbody tr th {\n",
       "        vertical-align: top;\n",
       "    }\n",
       "\n",
       "    .dataframe thead th {\n",
       "        text-align: right;\n",
       "    }\n",
       "</style>\n",
       "<table border=\"1\" class=\"dataframe\">\n",
       "  <thead>\n",
       "    <tr style=\"text-align: right;\">\n",
       "      <th></th>\n",
       "      <th>Country/Region</th>\n",
       "      <th>Cases</th>\n",
       "      <th>Deaths</th>\n",
       "      <th>PCases</th>\n",
       "      <th>PDeaths</th>\n",
       "      <th>Cases (+)</th>\n",
       "      <th>Deaths (+)</th>\n",
       "      <th>Fatality Rate</th>\n",
       "      <th>Continent</th>\n",
       "    </tr>\n",
       "  </thead>\n",
       "  <tbody>\n",
       "    <tr>\n",
       "      <th>0</th>\n",
       "      <td>US</td>\n",
       "      <td>33343297</td>\n",
       "      <td>597001</td>\n",
       "      <td>33326437</td>\n",
       "      <td>596434</td>\n",
       "      <td>16860</td>\n",
       "      <td>567</td>\n",
       "      <td>1.79</td>\n",
       "      <td>North America</td>\n",
       "    </tr>\n",
       "    <tr>\n",
       "      <th>1</th>\n",
       "      <td>India</td>\n",
       "      <td>28694879</td>\n",
       "      <td>344082</td>\n",
       "      <td>28574350</td>\n",
       "      <td>340702</td>\n",
       "      <td>120529</td>\n",
       "      <td>3380</td>\n",
       "      <td>1.20</td>\n",
       "      <td>Asia</td>\n",
       "    </tr>\n",
       "    <tr>\n",
       "      <th>2</th>\n",
       "      <td>Brazil</td>\n",
       "      <td>16841408</td>\n",
       "      <td>470842</td>\n",
       "      <td>16803472</td>\n",
       "      <td>469388</td>\n",
       "      <td>37936</td>\n",
       "      <td>1454</td>\n",
       "      <td>2.80</td>\n",
       "      <td>South America</td>\n",
       "    </tr>\n",
       "    <tr>\n",
       "      <th>3</th>\n",
       "      <td>France</td>\n",
       "      <td>5762637</td>\n",
       "      <td>110078</td>\n",
       "      <td>5755679</td>\n",
       "      <td>109990</td>\n",
       "      <td>6958</td>\n",
       "      <td>88</td>\n",
       "      <td>1.91</td>\n",
       "      <td>Europe</td>\n",
       "    </tr>\n",
       "    <tr>\n",
       "      <th>4</th>\n",
       "      <td>Turkey</td>\n",
       "      <td>5276468</td>\n",
       "      <td>47976</td>\n",
       "      <td>5270299</td>\n",
       "      <td>47882</td>\n",
       "      <td>6169</td>\n",
       "      <td>94</td>\n",
       "      <td>0.91</td>\n",
       "      <td>Asia</td>\n",
       "    </tr>\n",
       "  </tbody>\n",
       "</table>\n",
       "</div>"
      ],
      "text/plain": [
       "  Country/Region     Cases  Deaths    PCases  PDeaths  Cases (+)  Deaths (+)  \\\n",
       "0             US  33343297  597001  33326437   596434      16860         567   \n",
       "1          India  28694879  344082  28574350   340702     120529        3380   \n",
       "2         Brazil  16841408  470842  16803472   469388      37936        1454   \n",
       "3         France   5762637  110078   5755679   109990       6958          88   \n",
       "4         Turkey   5276468   47976   5270299    47882       6169          94   \n",
       "\n",
       "   Fatality Rate      Continent  \n",
       "0           1.79  North America  \n",
       "1           1.20           Asia  \n",
       "2           2.80  South America  \n",
       "3           1.91         Europe  \n",
       "4           0.91           Asia  "
      ]
     },
     "execution_count": 13,
     "metadata": {},
     "output_type": "execute_result"
    }
   ],
   "source": [
    "#hide\n",
    "for c in 'Cases, Deaths'.split(', '):\n",
    "    df_table[f'{c} (+)'] = (df_table[c] - df_table[f'P{c}']).clip(0)\n",
    "    #Clip ça veut dire, les chiffres negatif sont interdit\n",
    "df_table['Fatality Rate'] = (100* df_table['Deaths']/ df_table['Cases']).round(2)\n",
    "df_table['Continent'] = df_table['Country/Region'].map(mapping['map.continent'])\n",
    "df_table.head(5)"
   ]
  },
  {
   "cell_type": "code",
   "execution_count": 14,
   "id": "aboriginal-bulgaria",
   "metadata": {
    "execution": {
     "iopub.execute_input": "2021-06-05T12:31:41.378426Z",
     "iopub.status.busy": "2021-06-05T12:31:41.377761Z",
     "iopub.status.idle": "2021-06-05T12:31:41.379564Z",
     "shell.execute_reply": "2021-06-05T12:31:41.380320Z"
    },
    "papermill": {
     "duration": 0.048331,
     "end_time": "2021-06-05T12:31:41.380488",
     "exception": false,
     "start_time": "2021-06-05T12:31:41.332157",
     "status": "completed"
    },
    "tags": []
   },
   "outputs": [],
   "source": [
    "#hide\n",
    "#delete problematic countries from table\n",
    "df_table = df_table[~df_table['Country/Region'].isin(['Cape Verde', 'Cruise Ship', 'Kosovo'])]"
   ]
  },
  {
   "cell_type": "code",
   "execution_count": 15,
   "id": "fantastic-effect",
   "metadata": {
    "execution": {
     "iopub.execute_input": "2021-06-05T12:31:41.469059Z",
     "iopub.status.busy": "2021-06-05T12:31:41.468394Z",
     "iopub.status.idle": "2021-06-05T12:31:41.490418Z",
     "shell.execute_reply": "2021-06-05T12:31:41.489848Z"
    },
    "papermill": {
     "duration": 0.069431,
     "end_time": "2021-06-05T12:31:41.490559",
     "exception": false,
     "start_time": "2021-06-05T12:31:41.421128",
     "status": "completed"
    },
    "tags": []
   },
   "outputs": [
    {
     "data": {
      "text/html": [
       "<div>\n",
       "<style scoped>\n",
       "    .dataframe tbody tr th:only-of-type {\n",
       "        vertical-align: middle;\n",
       "    }\n",
       "\n",
       "    .dataframe tbody tr th {\n",
       "        vertical-align: top;\n",
       "    }\n",
       "\n",
       "    .dataframe thead th {\n",
       "        text-align: right;\n",
       "    }\n",
       "</style>\n",
       "<table border=\"1\" class=\"dataframe\">\n",
       "  <thead>\n",
       "    <tr style=\"text-align: right;\">\n",
       "      <th></th>\n",
       "      <th>Country/Region</th>\n",
       "      <th>Cases</th>\n",
       "      <th>Deaths</th>\n",
       "      <th>PCases</th>\n",
       "      <th>PDeaths</th>\n",
       "      <th>Cases (+)</th>\n",
       "      <th>Deaths (+)</th>\n",
       "      <th>Fatality Rate</th>\n",
       "      <th>Continent</th>\n",
       "    </tr>\n",
       "  </thead>\n",
       "  <tbody>\n",
       "    <tr>\n",
       "      <th>0</th>\n",
       "      <td>US</td>\n",
       "      <td>33343297</td>\n",
       "      <td>597001</td>\n",
       "      <td>33326437</td>\n",
       "      <td>596434</td>\n",
       "      <td>16860</td>\n",
       "      <td>567</td>\n",
       "      <td>1.8</td>\n",
       "      <td>North America</td>\n",
       "    </tr>\n",
       "    <tr>\n",
       "      <th>1</th>\n",
       "      <td>India</td>\n",
       "      <td>28694879</td>\n",
       "      <td>344082</td>\n",
       "      <td>28574350</td>\n",
       "      <td>340702</td>\n",
       "      <td>120529</td>\n",
       "      <td>3380</td>\n",
       "      <td>1.2</td>\n",
       "      <td>Asia</td>\n",
       "    </tr>\n",
       "    <tr>\n",
       "      <th>2</th>\n",
       "      <td>Brazil</td>\n",
       "      <td>16841408</td>\n",
       "      <td>470842</td>\n",
       "      <td>16803472</td>\n",
       "      <td>469388</td>\n",
       "      <td>37936</td>\n",
       "      <td>1454</td>\n",
       "      <td>2.8</td>\n",
       "      <td>South America</td>\n",
       "    </tr>\n",
       "    <tr>\n",
       "      <th>3</th>\n",
       "      <td>France</td>\n",
       "      <td>5762637</td>\n",
       "      <td>110078</td>\n",
       "      <td>5755679</td>\n",
       "      <td>109990</td>\n",
       "      <td>6958</td>\n",
       "      <td>88</td>\n",
       "      <td>1.9</td>\n",
       "      <td>Europe</td>\n",
       "    </tr>\n",
       "    <tr>\n",
       "      <th>4</th>\n",
       "      <td>Turkey</td>\n",
       "      <td>5276468</td>\n",
       "      <td>47976</td>\n",
       "      <td>5270299</td>\n",
       "      <td>47882</td>\n",
       "      <td>6169</td>\n",
       "      <td>94</td>\n",
       "      <td>0.9</td>\n",
       "      <td>Asia</td>\n",
       "    </tr>\n",
       "  </tbody>\n",
       "</table>\n",
       "</div>"
      ],
      "text/plain": [
       "  Country/Region     Cases  Deaths    PCases  PDeaths  Cases (+)  Deaths (+)  \\\n",
       "0             US  33343297  597001  33326437   596434      16860         567   \n",
       "1          India  28694879  344082  28574350   340702     120529        3380   \n",
       "2         Brazil  16841408  470842  16803472   469388      37936        1454   \n",
       "3         France   5762637  110078   5755679   109990       6958          88   \n",
       "4         Turkey   5276468   47976   5270299    47882       6169          94   \n",
       "\n",
       "   Fatality Rate      Continent  \n",
       "0            1.8  North America  \n",
       "1            1.2           Asia  \n",
       "2            2.8  South America  \n",
       "3            1.9         Europe  \n",
       "4            0.9           Asia  "
      ]
     },
     "execution_count": 15,
     "metadata": {},
     "output_type": "execute_result"
    }
   ],
   "source": [
    "#hide\n",
    "df_table = (pd.DataFrame(dict(Cases=dfc_cases, Deaths=dfc_deaths, PCases=dfp_cases, PDeaths=dfp_deaths))\n",
    "             .sort_values(by=['Cases', 'Deaths'], ascending=[False, False])\n",
    "             .reset_index())\n",
    "df_table.rename(columns={'index': 'Country/Region'}, inplace=True)\n",
    "for c in 'Cases, Deaths'.split(', '):\n",
    "    df_table[f'{c} (+)'] = (df_table[c] - df_table[f'P{c}']).clip(0)  # DATA BUG\n",
    "df_table['Fatality Rate'] = (100 * df_table['Deaths'] / df_table['Cases']).round(1)\n",
    "df_table['Continent'] = df_table['Country/Region'].map(mapping['map.continent'])\n",
    "df_table.head(5)"
   ]
  },
  {
   "cell_type": "code",
   "execution_count": 16,
   "id": "fewer-occasion",
   "metadata": {
    "execution": {
     "iopub.execute_input": "2021-06-05T12:31:41.576431Z",
     "iopub.status.busy": "2021-06-05T12:31:41.575778Z",
     "iopub.status.idle": "2021-06-05T12:31:41.578669Z",
     "shell.execute_reply": "2021-06-05T12:31:41.578118Z"
    },
    "papermill": {
     "duration": 0.047862,
     "end_time": "2021-06-05T12:31:41.578796",
     "exception": false,
     "start_time": "2021-06-05T12:31:41.530934",
     "status": "completed"
    },
    "tags": []
   },
   "outputs": [],
   "source": [
    "#hide\n",
    "#delete problematic countries from table\n",
    "df_table = df_table[~df_table['Country/Region'].isin(['Cape Verde', 'Cruise Ship', 'Kosovo'])]"
   ]
  },
  {
   "cell_type": "code",
   "execution_count": 17,
   "id": "related-center",
   "metadata": {
    "execution": {
     "iopub.execute_input": "2021-06-05T12:31:41.681109Z",
     "iopub.status.busy": "2021-06-05T12:31:41.680424Z",
     "iopub.status.idle": "2021-06-05T12:31:41.682312Z",
     "shell.execute_reply": "2021-06-05T12:31:41.683004Z"
    },
    "papermill": {
     "duration": 0.064078,
     "end_time": "2021-06-05T12:31:41.683174",
     "exception": false,
     "start_time": "2021-06-05T12:31:41.619096",
     "status": "completed"
    },
    "tags": []
   },
   "outputs": [],
   "source": [
    "#hide\n",
    "metrics = [df_table.columns[index] for index in [1,2,5,6]]\n",
    "# s_china = df_table[df_table['Country/Region'].eq('China')][metrics].sum().add_prefix('China ')\n",
    "s_us = df_table[df_table['Country/Region'].eq('US')][metrics].sum().add_prefix('US ')\n",
    "s_eu = df_table[df_table['Continent'].eq('Europe')][metrics].sum().add_prefix('EU ')\n",
    "s_ind = df_table[df_table['Country/Region'].eq('India')][metrics].sum().add_prefix('India ')\n",
    "summary = {'updated': pd.to_datetime(dt_today), 'since': pd.to_datetime(dt_yday)}\n",
    "summary = {'updated': pd.to_datetime(dt_today), 'since': pd.to_datetime(dt_yday)}\n",
    "summary = {**summary, **df_table[metrics].sum(), **s_ind, **s_us, **s_eu}"
   ]
  },
  {
   "cell_type": "code",
   "execution_count": 18,
   "id": "engaging-syndrome",
   "metadata": {
    "execution": {
     "iopub.execute_input": "2021-06-05T12:31:41.770297Z",
     "iopub.status.busy": "2021-06-05T12:31:41.769646Z",
     "iopub.status.idle": "2021-06-05T12:31:41.783884Z",
     "shell.execute_reply": "2021-06-05T12:31:41.783244Z"
    },
    "papermill": {
     "duration": 0.059615,
     "end_time": "2021-06-05T12:31:41.784054",
     "exception": false,
     "start_time": "2021-06-05T12:31:41.724439",
     "status": "completed"
    },
    "tags": []
   },
   "outputs": [],
   "source": [
    "#hide\n",
    "dft_ct_new_cases = dft_cases.groupby(COL_REGION)[dt_cols].sum().diff(axis=1).fillna(0).astype(int)"
   ]
  },
  {
   "cell_type": "code",
   "execution_count": 19,
   "id": "neutral-assignment",
   "metadata": {
    "execution": {
     "iopub.execute_input": "2021-06-05T12:31:41.872879Z",
     "iopub.status.busy": "2021-06-05T12:31:41.872225Z",
     "iopub.status.idle": "2021-06-05T12:31:41.874775Z",
     "shell.execute_reply": "2021-06-05T12:31:41.873979Z"
    },
    "papermill": {
     "duration": 0.04817,
     "end_time": "2021-06-05T12:31:41.874914",
     "exception": false,
     "start_time": "2021-06-05T12:31:41.826744",
     "status": "completed"
    },
    "tags": []
   },
   "outputs": [],
   "source": [
    "#hide\n",
    "everydaycases = dft_ct_new_cases.cumsum(axis=1)"
   ]
  },
  {
   "cell_type": "code",
   "execution_count": 20,
   "id": "parliamentary-calgary",
   "metadata": {
    "execution": {
     "iopub.execute_input": "2021-06-05T12:31:41.960100Z",
     "iopub.status.busy": "2021-06-05T12:31:41.959442Z",
     "iopub.status.idle": "2021-06-05T12:31:42.660536Z",
     "shell.execute_reply": "2021-06-05T12:31:42.659889Z"
    },
    "papermill": {
     "duration": 0.745996,
     "end_time": "2021-06-05T12:31:42.660678",
     "exception": false,
     "start_time": "2021-06-05T12:31:41.914682",
     "status": "completed"
    },
    "tags": []
   },
   "outputs": [],
   "source": [
    "#hide\n",
    "import pandas as pd\n",
    "import matplotlib.pyplot as plt\n",
    "import matplotlib.ticker as ticker\n",
    "import matplotlib.animation as animation\n",
    "from IPython.display import HTML"
   ]
  },
  {
   "cell_type": "code",
   "execution_count": 21,
   "id": "lasting-extraction",
   "metadata": {
    "execution": {
     "iopub.execute_input": "2021-06-05T12:31:42.749358Z",
     "iopub.status.busy": "2021-06-05T12:31:42.748689Z",
     "iopub.status.idle": "2021-06-05T12:31:42.755796Z",
     "shell.execute_reply": "2021-06-05T12:31:42.755184Z"
    },
    "papermill": {
     "duration": 0.053567,
     "end_time": "2021-06-05T12:31:42.755954",
     "exception": false,
     "start_time": "2021-06-05T12:31:42.702387",
     "status": "completed"
    },
    "tags": []
   },
   "outputs": [],
   "source": [
    "#hide\n",
    "t = everydaycases.stack()"
   ]
  },
  {
   "cell_type": "code",
   "execution_count": 22,
   "id": "premier-sleeve",
   "metadata": {
    "execution": {
     "iopub.execute_input": "2021-06-05T12:31:42.842126Z",
     "iopub.status.busy": "2021-06-05T12:31:42.841443Z",
     "iopub.status.idle": "2021-06-05T12:31:42.849844Z",
     "shell.execute_reply": "2021-06-05T12:31:42.850464Z"
    },
    "papermill": {
     "duration": 0.053933,
     "end_time": "2021-06-05T12:31:42.850642",
     "exception": false,
     "start_time": "2021-06-05T12:31:42.796709",
     "status": "completed"
    },
    "tags": []
   },
   "outputs": [],
   "source": [
    "#hide\n",
    "g = t.reset_index(['Country/Region'])"
   ]
  },
  {
   "cell_type": "code",
   "execution_count": 23,
   "id": "distributed-pittsburgh",
   "metadata": {
    "execution": {
     "iopub.execute_input": "2021-06-05T12:31:42.936460Z",
     "iopub.status.busy": "2021-06-05T12:31:42.935800Z",
     "iopub.status.idle": "2021-06-05T12:31:42.938253Z",
     "shell.execute_reply": "2021-06-05T12:31:42.937604Z"
    },
    "papermill": {
     "duration": 0.046422,
     "end_time": "2021-06-05T12:31:42.938395",
     "exception": false,
     "start_time": "2021-06-05T12:31:42.891973",
     "status": "completed"
    },
    "tags": []
   },
   "outputs": [],
   "source": [
    "#hide\n",
    "g.index.name = 'date'"
   ]
  },
  {
   "cell_type": "code",
   "execution_count": 24,
   "id": "naked-donor",
   "metadata": {
    "execution": {
     "iopub.execute_input": "2021-06-05T12:31:43.023199Z",
     "iopub.status.busy": "2021-06-05T12:31:43.021840Z",
     "iopub.status.idle": "2021-06-05T12:31:43.023908Z",
     "shell.execute_reply": "2021-06-05T12:31:43.024432Z"
    },
    "papermill": {
     "duration": 0.04597,
     "end_time": "2021-06-05T12:31:43.024584",
     "exception": false,
     "start_time": "2021-06-05T12:31:42.978614",
     "status": "completed"
    },
    "tags": []
   },
   "outputs": [],
   "source": [
    "# #hide\n",
    "# g = g.reset_index(['date'])"
   ]
  },
  {
   "cell_type": "code",
   "execution_count": 25,
   "id": "incomplete-mustang",
   "metadata": {
    "execution": {
     "iopub.execute_input": "2021-06-05T12:31:43.110500Z",
     "iopub.status.busy": "2021-06-05T12:31:43.109832Z",
     "iopub.status.idle": "2021-06-05T12:31:43.113857Z",
     "shell.execute_reply": "2021-06-05T12:31:43.113233Z"
    },
    "papermill": {
     "duration": 0.047662,
     "end_time": "2021-06-05T12:31:43.113990",
     "exception": false,
     "start_time": "2021-06-05T12:31:43.066328",
     "status": "completed"
    },
    "tags": []
   },
   "outputs": [],
   "source": [
    "#hide\n",
    "# g.head()"
   ]
  },
  {
   "cell_type": "code",
   "execution_count": 26,
   "id": "specific-kruger",
   "metadata": {
    "execution": {
     "iopub.execute_input": "2021-06-05T12:31:43.197886Z",
     "iopub.status.busy": "2021-06-05T12:31:43.197193Z",
     "iopub.status.idle": "2021-06-05T12:31:43.199742Z",
     "shell.execute_reply": "2021-06-05T12:31:43.199091Z"
    },
    "papermill": {
     "duration": 0.046289,
     "end_time": "2021-06-05T12:31:43.199876",
     "exception": false,
     "start_time": "2021-06-05T12:31:43.153587",
     "status": "completed"
    },
    "tags": []
   },
   "outputs": [],
   "source": [
    "#hide\n",
    "# g.columns = ['date','country','cases']"
   ]
  },
  {
   "cell_type": "code",
   "execution_count": 27,
   "id": "tender-conversion",
   "metadata": {
    "execution": {
     "iopub.execute_input": "2021-06-05T12:31:43.283984Z",
     "iopub.status.busy": "2021-06-05T12:31:43.283333Z",
     "iopub.status.idle": "2021-06-05T12:31:43.285813Z",
     "shell.execute_reply": "2021-06-05T12:31:43.285231Z"
    },
    "papermill": {
     "duration": 0.046443,
     "end_time": "2021-06-05T12:31:43.285944",
     "exception": false,
     "start_time": "2021-06-05T12:31:43.239501",
     "status": "completed"
    },
    "tags": []
   },
   "outputs": [],
   "source": [
    "#hide\n",
    "# g['continent'] = g.country"
   ]
  },
  {
   "cell_type": "code",
   "execution_count": 28,
   "id": "substantial-wilderness",
   "metadata": {
    "execution": {
     "iopub.execute_input": "2021-06-05T12:31:43.369705Z",
     "iopub.status.busy": "2021-06-05T12:31:43.369015Z",
     "iopub.status.idle": "2021-06-05T12:31:43.370762Z",
     "shell.execute_reply": "2021-06-05T12:31:43.371337Z"
    },
    "papermill": {
     "duration": 0.045735,
     "end_time": "2021-06-05T12:31:43.371486",
     "exception": false,
     "start_time": "2021-06-05T12:31:43.325751",
     "status": "completed"
    },
    "tags": []
   },
   "outputs": [],
   "source": [
    "#hide\n",
    "# cols = list(g.columns.values)"
   ]
  },
  {
   "cell_type": "code",
   "execution_count": 29,
   "id": "solved-farming",
   "metadata": {
    "execution": {
     "iopub.execute_input": "2021-06-05T12:31:43.459411Z",
     "iopub.status.busy": "2021-06-05T12:31:43.458671Z",
     "iopub.status.idle": "2021-06-05T12:31:43.460612Z",
     "shell.execute_reply": "2021-06-05T12:31:43.461176Z"
    },
    "papermill": {
     "duration": 0.047768,
     "end_time": "2021-06-05T12:31:43.461333",
     "exception": false,
     "start_time": "2021-06-05T12:31:43.413565",
     "status": "completed"
    },
    "tags": []
   },
   "outputs": [],
   "source": [
    "#hide\n",
    "# cols.insert(0, cols.pop())"
   ]
  },
  {
   "cell_type": "code",
   "execution_count": 30,
   "id": "executed-adoption",
   "metadata": {
    "execution": {
     "iopub.execute_input": "2021-06-05T12:31:43.550535Z",
     "iopub.status.busy": "2021-06-05T12:31:43.549700Z",
     "iopub.status.idle": "2021-06-05T12:31:43.553738Z",
     "shell.execute_reply": "2021-06-05T12:31:43.553126Z"
    },
    "papermill": {
     "duration": 0.046253,
     "end_time": "2021-06-05T12:31:43.553886",
     "exception": false,
     "start_time": "2021-06-05T12:31:43.507633",
     "status": "completed"
    },
    "tags": []
   },
   "outputs": [],
   "source": [
    "#hide\n",
    "# g = g[cols]"
   ]
  },
  {
   "cell_type": "code",
   "execution_count": 31,
   "id": "subject-dublin",
   "metadata": {
    "execution": {
     "iopub.execute_input": "2021-06-05T12:31:43.638601Z",
     "iopub.status.busy": "2021-06-05T12:31:43.637922Z",
     "iopub.status.idle": "2021-06-05T12:31:43.639843Z",
     "shell.execute_reply": "2021-06-05T12:31:43.640401Z"
    },
    "papermill": {
     "duration": 0.046532,
     "end_time": "2021-06-05T12:31:43.640542",
     "exception": false,
     "start_time": "2021-06-05T12:31:43.594010",
     "status": "completed"
    },
    "tags": []
   },
   "outputs": [],
   "source": [
    "#hide\n",
    "# g['continent'] = g['continent'].map(mapping['map.continent'])"
   ]
  },
  {
   "cell_type": "code",
   "execution_count": 32,
   "id": "freelance-scout",
   "metadata": {
    "execution": {
     "iopub.execute_input": "2021-06-05T12:31:43.724988Z",
     "iopub.status.busy": "2021-06-05T12:31:43.724331Z",
     "iopub.status.idle": "2021-06-05T12:31:43.726580Z",
     "shell.execute_reply": "2021-06-05T12:31:43.727436Z"
    },
    "papermill": {
     "duration": 0.046872,
     "end_time": "2021-06-05T12:31:43.727625",
     "exception": false,
     "start_time": "2021-06-05T12:31:43.680753",
     "status": "completed"
    },
    "tags": []
   },
   "outputs": [],
   "source": [
    "#hide\n",
    "# g.head()"
   ]
  },
  {
   "cell_type": "code",
   "execution_count": 33,
   "id": "limited-engine",
   "metadata": {
    "execution": {
     "iopub.execute_input": "2021-06-05T12:31:43.812840Z",
     "iopub.status.busy": "2021-06-05T12:31:43.812064Z",
     "iopub.status.idle": "2021-06-05T12:31:43.814637Z",
     "shell.execute_reply": "2021-06-05T12:31:43.814061Z"
    },
    "papermill": {
     "duration": 0.047211,
     "end_time": "2021-06-05T12:31:43.814776",
     "exception": false,
     "start_time": "2021-06-05T12:31:43.767565",
     "status": "completed"
    },
    "tags": []
   },
   "outputs": [],
   "source": [
    "# hide\n",
    "# g['date'] = g['date'].astype('datetime64[ns]')"
   ]
  },
  {
   "cell_type": "code",
   "execution_count": 34,
   "id": "sophisticated-supervisor",
   "metadata": {
    "execution": {
     "iopub.execute_input": "2021-06-05T12:31:43.900150Z",
     "iopub.status.busy": "2021-06-05T12:31:43.899466Z",
     "iopub.status.idle": "2021-06-05T12:31:43.902041Z",
     "shell.execute_reply": "2021-06-05T12:31:43.901467Z"
    },
    "papermill": {
     "duration": 0.047393,
     "end_time": "2021-06-05T12:31:43.902207",
     "exception": false,
     "start_time": "2021-06-05T12:31:43.854814",
     "status": "completed"
    },
    "tags": []
   },
   "outputs": [],
   "source": [
    "#hide\n",
    "# g['date'] = g.date.dt.dayofyear"
   ]
  },
  {
   "cell_type": "code",
   "execution_count": 35,
   "id": "inside-dubai",
   "metadata": {
    "execution": {
     "iopub.execute_input": "2021-06-05T12:31:43.990197Z",
     "iopub.status.busy": "2021-06-05T12:31:43.989533Z",
     "iopub.status.idle": "2021-06-05T12:31:43.991989Z",
     "shell.execute_reply": "2021-06-05T12:31:43.991315Z"
    },
    "papermill": {
     "duration": 0.045905,
     "end_time": "2021-06-05T12:31:43.992151",
     "exception": false,
     "start_time": "2021-06-05T12:31:43.946246",
     "status": "completed"
    },
    "tags": []
   },
   "outputs": [],
   "source": [
    "#hide\n",
    "# g = g.rename(columns= {'continent':'group','country':'name','cases':'value'})"
   ]
  },
  {
   "cell_type": "code",
   "execution_count": 36,
   "id": "fleet-motorcycle",
   "metadata": {
    "execution": {
     "iopub.execute_input": "2021-06-05T12:31:44.078368Z",
     "iopub.status.busy": "2021-06-05T12:31:44.077352Z",
     "iopub.status.idle": "2021-06-05T12:31:44.079320Z",
     "shell.execute_reply": "2021-06-05T12:31:44.079952Z"
    },
    "papermill": {
     "duration": 0.046489,
     "end_time": "2021-06-05T12:31:44.080134",
     "exception": false,
     "start_time": "2021-06-05T12:31:44.033645",
     "status": "completed"
    },
    "tags": []
   },
   "outputs": [],
   "source": [
    "#hide\n",
    "# cols = ['name','group','day','value']"
   ]
  },
  {
   "cell_type": "code",
   "execution_count": 37,
   "id": "continued-sleeping",
   "metadata": {
    "execution": {
     "iopub.execute_input": "2021-06-05T12:31:44.165842Z",
     "iopub.status.busy": "2021-06-05T12:31:44.165086Z",
     "iopub.status.idle": "2021-06-05T12:31:44.167081Z",
     "shell.execute_reply": "2021-06-05T12:31:44.167653Z"
    },
    "papermill": {
     "duration": 0.046774,
     "end_time": "2021-06-05T12:31:44.167802",
     "exception": false,
     "start_time": "2021-06-05T12:31:44.121028",
     "status": "completed"
    },
    "tags": []
   },
   "outputs": [],
   "source": [
    "#hide\n",
    "# g.rename(columns= {'date':'day'},inplace = True)"
   ]
  },
  {
   "cell_type": "code",
   "execution_count": 38,
   "id": "major-fight",
   "metadata": {
    "execution": {
     "iopub.execute_input": "2021-06-05T12:31:44.256151Z",
     "iopub.status.busy": "2021-06-05T12:31:44.255469Z",
     "iopub.status.idle": "2021-06-05T12:31:44.257958Z",
     "shell.execute_reply": "2021-06-05T12:31:44.257289Z"
    },
    "papermill": {
     "duration": 0.049863,
     "end_time": "2021-06-05T12:31:44.258087",
     "exception": false,
     "start_time": "2021-06-05T12:31:44.208224",
     "status": "completed"
    },
    "tags": []
   },
   "outputs": [],
   "source": [
    "#hide\n",
    "# g = g[cols]"
   ]
  },
  {
   "cell_type": "code",
   "execution_count": 39,
   "id": "structured-mobile",
   "metadata": {
    "execution": {
     "iopub.execute_input": "2021-06-05T12:31:44.343135Z",
     "iopub.status.busy": "2021-06-05T12:31:44.342462Z",
     "iopub.status.idle": "2021-06-05T12:31:44.345168Z",
     "shell.execute_reply": "2021-06-05T12:31:44.344266Z"
    },
    "papermill": {
     "duration": 0.047407,
     "end_time": "2021-06-05T12:31:44.345303",
     "exception": false,
     "start_time": "2021-06-05T12:31:44.297896",
     "status": "completed"
    },
    "tags": []
   },
   "outputs": [],
   "source": [
    "# #hide\n",
    "# g = g[g.group.notna()]"
   ]
  },
  {
   "cell_type": "code",
   "execution_count": 40,
   "id": "determined-closing",
   "metadata": {
    "execution": {
     "iopub.execute_input": "2021-06-05T12:31:44.428994Z",
     "iopub.status.busy": "2021-06-05T12:31:44.428269Z",
     "iopub.status.idle": "2021-06-05T12:31:44.432306Z",
     "shell.execute_reply": "2021-06-05T12:31:44.431669Z"
    },
    "papermill": {
     "duration": 0.046816,
     "end_time": "2021-06-05T12:31:44.432482",
     "exception": false,
     "start_time": "2021-06-05T12:31:44.385666",
     "status": "completed"
    },
    "tags": []
   },
   "outputs": [],
   "source": [
    "# #hide\n",
    "# colors = dict(zip(\n",
    "#     [\"Oceania\", \"Europe\", \"Asia\", \"South America\", \"Middle East\", \"North America\", \"Africa\"],\n",
    "#     [\"#adb0ff\", \"#ffb3ff\", \"#90d595\", \"#e48381\", \"#aafbff\", \"#f7bb5f\", \"#eafb50\"]\n",
    "# ))\n",
    "# group_lk = g.set_index('name')['group'].to_dict()"
   ]
  },
  {
   "cell_type": "code",
   "execution_count": null,
   "id": "gross-drinking",
   "metadata": {
    "papermill": {
     "duration": 0.040588,
     "end_time": "2021-06-05T12:31:44.513540",
     "exception": false,
     "start_time": "2021-06-05T12:31:44.472952",
     "status": "completed"
    },
    "tags": []
   },
   "outputs": [],
   "source": []
  },
  {
   "cell_type": "code",
   "execution_count": 41,
   "id": "subject-macintosh",
   "metadata": {
    "execution": {
     "iopub.execute_input": "2021-06-05T12:31:44.599997Z",
     "iopub.status.busy": "2021-06-05T12:31:44.599310Z",
     "iopub.status.idle": "2021-06-05T12:31:44.601940Z",
     "shell.execute_reply": "2021-06-05T12:31:44.601325Z"
    },
    "papermill": {
     "duration": 0.047989,
     "end_time": "2021-06-05T12:31:44.602067",
     "exception": false,
     "start_time": "2021-06-05T12:31:44.554078",
     "status": "completed"
    },
    "tags": []
   },
   "outputs": [],
   "source": [
    "# #hide\n",
    "# fig, ax = plt.subplots(figsize=(15, 8))\n",
    "\n",
    "# def draw_barchart(current_day):\n",
    "#     dff = g[g['day'].eq(current_day)].sort_values(by='value', ascending=True).tail(10)\n",
    "#     ax.clear()\n",
    "#     ax.barh(dff['name'], dff['value'], color=[colors[group_lk[x]] for x in dff['name']])\n",
    "#     dx = dff['value'].max() / 200\n",
    "    \n",
    "#     for i, (value, name) in enumerate(zip(dff['value'], dff['name'])):\n",
    "#         ax.text(value-dx, i,     name,           size=14, weight=600, ha='right', va='bottom')\n",
    "#         ax.text(value-dx, i-.25, group_lk[name], size=10, color='#444444', ha='right', va='baseline')\n",
    "#         ax.text(value+dx, i,     f'{value:,.0f}',  size=14, ha='left',  va='center')\n",
    "#     ax.text(1, 0.4, current_day, transform=ax.transAxes, color='#777777', size=46, ha='right', weight=800)\n",
    "#     ax.text(0, 1.06, 'Population (thousands)', transform=ax.transAxes, size=12, color='#777777')\n",
    "#     ax.xaxis.set_major_formatter(ticker.StrMethodFormatter('{x:,.0f}'))\n",
    "#     ax.xaxis.set_ticks_position('top')\n",
    "#     ax.tick_params(axis='x', colors='#777777', labelsize=12)\n",
    "#     ax.set_yticks([])\n",
    "#     ax.margins(0, 0.01)\n",
    "#     ax.grid(which='major', axis='x', linestyle='-')\n",
    "#     ax.set_axisbelow(True)\n",
    "    \n",
    "#     ax.text(0, 1.15, 'Coronavirus',\n",
    "#             transform=ax.transAxes, size=24, weight=600, ha='left', va='top')\n",
    "# #     ax.text(1, 0, 'by @pratapvardhan; credit @jburnmurdoch', transform=ax.transAxes, color='#777777', ha='right',\n",
    "# #             bbox=dict(facecolor='white', alpha=0.8, edgecolor='white'))\n",
    "#     plt.box(False)"
   ]
  },
  {
   "cell_type": "code",
   "execution_count": 42,
   "id": "sexual-wages",
   "metadata": {
    "execution": {
     "iopub.execute_input": "2021-06-05T12:31:44.687600Z",
     "iopub.status.busy": "2021-06-05T12:31:44.686918Z",
     "iopub.status.idle": "2021-06-05T12:31:44.689530Z",
     "shell.execute_reply": "2021-06-05T12:31:44.688897Z"
    },
    "papermill": {
     "duration": 0.04693,
     "end_time": "2021-06-05T12:31:44.689658",
     "exception": false,
     "start_time": "2021-06-05T12:31:44.642728",
     "status": "completed"
    },
    "tags": []
   },
   "outputs": [],
   "source": [
    "# #hide_input\n",
    "# fig, ax = plt.subplots(figsize=(15, 8))\n",
    "# animator = animation.FuncAnimation(fig, draw_barchart, frames=range(g.day.values.min(), g.day.values.max()))\n",
    "# HTML(animator.to_jshtml())\n",
    "# # or use animator.to_html5_video() or animator.save() "
   ]
  },
  {
   "cell_type": "code",
   "execution_count": null,
   "id": "australian-container",
   "metadata": {
    "papermill": {
     "duration": 0.040538,
     "end_time": "2021-06-05T12:31:44.770951",
     "exception": false,
     "start_time": "2021-06-05T12:31:44.730413",
     "status": "completed"
    },
    "tags": []
   },
   "outputs": [],
   "source": []
  },
  {
   "cell_type": "code",
   "execution_count": null,
   "id": "mediterranean-pontiac",
   "metadata": {
    "papermill": {
     "duration": 0.040847,
     "end_time": "2021-06-05T12:31:44.851678",
     "exception": false,
     "start_time": "2021-06-05T12:31:44.810831",
     "status": "completed"
    },
    "tags": []
   },
   "outputs": [],
   "source": []
  },
  {
   "cell_type": "code",
   "execution_count": null,
   "id": "aging-legislature",
   "metadata": {
    "papermill": {
     "duration": 0.040714,
     "end_time": "2021-06-05T12:31:44.931764",
     "exception": false,
     "start_time": "2021-06-05T12:31:44.891050",
     "status": "completed"
    },
    "tags": []
   },
   "outputs": [],
   "source": []
  }
 ],
 "metadata": {
  "kernelspec": {
   "display_name": "Python 3",
   "language": "python",
   "name": "python3"
  },
  "language_info": {
   "codemirror_mode": {
    "name": "ipython",
    "version": 3
   },
   "file_extension": ".py",
   "mimetype": "text/x-python",
   "name": "python",
   "nbconvert_exporter": "python",
   "pygments_lexer": "ipython3",
   "version": "3.6.13"
  },
  "papermill": {
   "duration": 7.234794,
   "end_time": "2021-06-05T12:31:45.279532",
   "environment_variables": {},
   "exception": null,
   "input_path": "2020-03-21-covid19exp.ipynb",
   "output_path": "2020-03-21-covid19exp.ipynb",
   "parameters": {},
   "start_time": "2021-06-05T12:31:38.044738",
   "version": "2.0.0"
  }
 },
 "nbformat": 4,
 "nbformat_minor": 5
}