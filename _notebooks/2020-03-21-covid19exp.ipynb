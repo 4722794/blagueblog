{
 "cells": [
  {
   "cell_type": "markdown",
   "id": "muslim-click",
   "metadata": {
    "papermill": {
     "duration": 0.034234,
     "end_time": "2022-02-10T00:27:39.325341",
     "exception": false,
     "start_time": "2022-02-10T00:27:39.291107",
     "status": "completed"
    },
    "tags": []
   },
   "source": [
    "# COVID-19 Case Race\n",
    "> A race chart to see rising cases around the world\n",
    "\n",
    "- author: Hargun Oberoi\n",
    "- image: images/covid-overview.png\n",
    "- hide: false\n",
    "- badges: false"
   ]
  },
  {
   "cell_type": "code",
   "execution_count": 1,
   "id": "proof-material",
   "metadata": {
    "execution": {
     "iopub.execute_input": "2022-02-10T00:27:39.396663Z",
     "iopub.status.busy": "2022-02-10T00:27:39.396167Z",
     "iopub.status.idle": "2022-02-10T00:27:39.700086Z",
     "shell.execute_reply": "2022-02-10T00:27:39.699636Z"
    },
    "papermill": {
     "duration": 0.342808,
     "end_time": "2022-02-10T00:27:39.700217",
     "exception": false,
     "start_time": "2022-02-10T00:27:39.357409",
     "status": "completed"
    },
    "tags": []
   },
   "outputs": [],
   "source": [
    "#hide\n",
    "import numpy as np\n",
    "import pandas as pd\n",
    "from jinja2 import Template\n",
    "from IPython.display import HTML"
   ]
  },
  {
   "cell_type": "code",
   "execution_count": 2,
   "id": "developed-terminology",
   "metadata": {
    "execution": {
     "iopub.execute_input": "2022-02-10T00:27:39.765791Z",
     "iopub.status.busy": "2022-02-10T00:27:39.765278Z",
     "iopub.status.idle": "2022-02-10T00:27:39.767494Z",
     "shell.execute_reply": "2022-02-10T00:27:39.767103Z"
    },
    "papermill": {
     "duration": 0.036688,
     "end_time": "2022-02-10T00:27:39.767595",
     "exception": false,
     "start_time": "2022-02-10T00:27:39.730907",
     "status": "completed"
    },
    "tags": []
   },
   "outputs": [],
   "source": [
    "#hide\n",
    "\n",
    "# FETCH\n",
    "base_url = 'https://raw.githubusercontent.com/pratapvardhan/notebooks/master/covid19/'\n",
    "paths = {\n",
    "    'mapping': base_url + 'mapping_countries.csv',\n",
    "    'overview': base_url + 'overview.tpl'\n",
    "}"
   ]
  },
  {
   "cell_type": "code",
   "execution_count": 3,
   "id": "dynamic-saver",
   "metadata": {
    "execution": {
     "iopub.execute_input": "2022-02-10T00:27:39.836332Z",
     "iopub.status.busy": "2022-02-10T00:27:39.835265Z",
     "iopub.status.idle": "2022-02-10T00:27:39.838973Z",
     "shell.execute_reply": "2022-02-10T00:27:39.838562Z"
    },
    "papermill": {
     "duration": 0.041048,
     "end_time": "2022-02-10T00:27:39.839068",
     "exception": false,
     "start_time": "2022-02-10T00:27:39.798020",
     "status": "completed"
    },
    "tags": []
   },
   "outputs": [
    {
     "data": {
      "text/plain": [
       "'https://raw.githubusercontent.com/pratapvardhan/notebooks/master/covid19/mapping_countries.csv'"
      ]
     },
     "execution_count": 3,
     "metadata": {},
     "output_type": "execute_result"
    }
   ],
   "source": [
    "#hide\n",
    "paths['mapping']"
   ]
  },
  {
   "cell_type": "code",
   "execution_count": 4,
   "id": "urban-software",
   "metadata": {
    "execution": {
     "iopub.execute_input": "2022-02-10T00:27:39.904985Z",
     "iopub.status.busy": "2022-02-10T00:27:39.904490Z",
     "iopub.status.idle": "2022-02-10T00:27:39.906172Z",
     "shell.execute_reply": "2022-02-10T00:27:39.906533Z"
    },
    "papermill": {
     "duration": 0.036795,
     "end_time": "2022-02-10T00:27:39.906640",
     "exception": false,
     "start_time": "2022-02-10T00:27:39.869845",
     "status": "completed"
    },
    "tags": []
   },
   "outputs": [],
   "source": [
    "#hide\n",
    "def get_mappings(url):\n",
    "    df = pd.read_csv(url)\n",
    "    return {\n",
    "        'df': df,\n",
    "        'replace.country': dict(df.dropna(subset=['Name']).set_index('Country')['Name']),\n",
    "        'map.continent': dict(df.set_index('Name')['Continent'])\n",
    "    }"
   ]
  },
  {
   "cell_type": "code",
   "execution_count": 5,
   "id": "intimate-machinery",
   "metadata": {
    "execution": {
     "iopub.execute_input": "2022-02-10T00:27:39.971917Z",
     "iopub.status.busy": "2022-02-10T00:27:39.971433Z",
     "iopub.status.idle": "2022-02-10T00:27:40.032412Z",
     "shell.execute_reply": "2022-02-10T00:27:40.032826Z"
    },
    "papermill": {
     "duration": 0.095784,
     "end_time": "2022-02-10T00:27:40.032940",
     "exception": false,
     "start_time": "2022-02-10T00:27:39.937156",
     "status": "completed"
    },
    "tags": []
   },
   "outputs": [],
   "source": [
    "#hide\n",
    "mapping = get_mappings(paths['mapping'])"
   ]
  },
  {
   "cell_type": "code",
   "execution_count": 6,
   "id": "certified-tactics",
   "metadata": {
    "execution": {
     "iopub.execute_input": "2022-02-10T00:27:40.098391Z",
     "iopub.status.busy": "2022-02-10T00:27:40.097873Z",
     "iopub.status.idle": "2022-02-10T00:27:40.099489Z",
     "shell.execute_reply": "2022-02-10T00:27:40.099876Z"
    },
    "papermill": {
     "duration": 0.036336,
     "end_time": "2022-02-10T00:27:40.099983",
     "exception": false,
     "start_time": "2022-02-10T00:27:40.063647",
     "status": "completed"
    },
    "tags": []
   },
   "outputs": [],
   "source": [
    "#hide\n",
    "def get_template(path):\n",
    "    from urllib.parse import urlparse\n",
    "    if bool(urlparse(path).netloc):\n",
    "        from urllib.request import urlopen\n",
    "        return urlopen(path).read().decode('utf8')\n",
    "    return open(path).read()"
   ]
  },
  {
   "cell_type": "code",
   "execution_count": 7,
   "id": "realistic-blast",
   "metadata": {
    "execution": {
     "iopub.execute_input": "2022-02-10T00:27:40.164677Z",
     "iopub.status.busy": "2022-02-10T00:27:40.164185Z",
     "iopub.status.idle": "2022-02-10T00:27:40.165840Z",
     "shell.execute_reply": "2022-02-10T00:27:40.166242Z"
    },
    "papermill": {
     "duration": 0.036017,
     "end_time": "2022-02-10T00:27:40.166345",
     "exception": false,
     "start_time": "2022-02-10T00:27:40.130328",
     "status": "completed"
    },
    "tags": []
   },
   "outputs": [],
   "source": [
    "#hide\n",
    "def get_frame(name):\n",
    "    url = (\n",
    "        'https://raw.githubusercontent.com/CSSEGISandData/COVID-19/master/csse_covid_19_data/'\n",
    "        f'csse_covid_19_time_series/time_series_covid19_{name}_global.csv')\n",
    "    df = pd.read_csv(url)\n",
    "    # rename countries\n",
    "    df['Country/Region'] = df['Country/Region'].replace(mapping['replace.country'])\n",
    "    return df"
   ]
  },
  {
   "cell_type": "code",
   "execution_count": 8,
   "id": "affiliated-characterization",
   "metadata": {
    "execution": {
     "iopub.execute_input": "2022-02-10T00:27:40.232714Z",
     "iopub.status.busy": "2022-02-10T00:27:40.232216Z",
     "iopub.status.idle": "2022-02-10T00:27:40.234125Z",
     "shell.execute_reply": "2022-02-10T00:27:40.233724Z"
    },
    "papermill": {
     "duration": 0.037245,
     "end_time": "2022-02-10T00:27:40.234216",
     "exception": false,
     "start_time": "2022-02-10T00:27:40.196971",
     "status": "completed"
    },
    "tags": []
   },
   "outputs": [],
   "source": [
    "#hide\n",
    "def get_dates(df):\n",
    "    dt_cols = df.columns[~df.columns.isin(['Province/State', 'Country/Region', 'Lat', 'Long'])]\n",
    "    LAST_DATE_I = -1\n",
    "    # sometimes last column may be empty, then go backwards\n",
    "    for i in range(-1, -len(dt_cols), -1):\n",
    "        if not df[dt_cols[i]].fillna(0).eq(0).all():\n",
    "            LAST_DATE_I = i\n",
    "            break\n",
    "    return LAST_DATE_I, dt_cols"
   ]
  },
  {
   "cell_type": "code",
   "execution_count": 9,
   "id": "recent-optimization",
   "metadata": {
    "execution": {
     "iopub.execute_input": "2022-02-10T00:27:40.299041Z",
     "iopub.status.busy": "2022-02-10T00:27:40.298546Z",
     "iopub.status.idle": "2022-02-10T00:27:40.872247Z",
     "shell.execute_reply": "2022-02-10T00:27:40.872679Z"
    },
    "papermill": {
     "duration": 0.608297,
     "end_time": "2022-02-10T00:27:40.872813",
     "exception": false,
     "start_time": "2022-02-10T00:27:40.264516",
     "status": "completed"
    },
    "tags": []
   },
   "outputs": [],
   "source": [
    "#hide\n",
    "COL_REGION = 'Country/Region'\n",
    "# Confirmed, Recovered, Deaths\n",
    "df = get_frame('confirmed')\n",
    "# dft_: timeseries, dfc_: today country agg\n",
    "dft_cases = df\n",
    "dft_deaths = get_frame('deaths')\n",
    "dft_recovered = get_frame('recovered')\n",
    "LAST_DATE_I, dt_cols = get_dates(df)"
   ]
  },
  {
   "cell_type": "code",
   "execution_count": 10,
   "id": "absolute-copper",
   "metadata": {
    "execution": {
     "iopub.execute_input": "2022-02-10T00:27:40.939108Z",
     "iopub.status.busy": "2022-02-10T00:27:40.938597Z",
     "iopub.status.idle": "2022-02-10T00:27:40.940441Z",
     "shell.execute_reply": "2022-02-10T00:27:40.939973Z"
    },
    "papermill": {
     "duration": 0.036841,
     "end_time": "2022-02-10T00:27:40.940534",
     "exception": false,
     "start_time": "2022-02-10T00:27:40.903693",
     "status": "completed"
    },
    "tags": []
   },
   "outputs": [],
   "source": [
    "#hide\n",
    "LAST_DATE_I, dt_cols = get_dates(df)\n",
    "dt_today =dt_cols[LAST_DATE_I]\n",
    "# dt_5day = dt_cols[LAST_DATE_I - 5]\n",
    "dt_yday = dt_cols[LAST_DATE_I - 1]"
   ]
  },
  {
   "cell_type": "code",
   "execution_count": 11,
   "id": "restricted-sheriff",
   "metadata": {
    "execution": {
     "iopub.execute_input": "2022-02-10T00:27:41.006395Z",
     "iopub.status.busy": "2022-02-10T00:27:41.005912Z",
     "iopub.status.idle": "2022-02-10T00:27:41.012460Z",
     "shell.execute_reply": "2022-02-10T00:27:41.012069Z"
    },
    "papermill": {
     "duration": 0.04149,
     "end_time": "2022-02-10T00:27:41.012556",
     "exception": false,
     "start_time": "2022-02-10T00:27:40.971066",
     "status": "completed"
    },
    "tags": []
   },
   "outputs": [],
   "source": [
    "#hide\n",
    "dfc_cases = dft_cases.groupby(COL_REGION)[dt_today].sum()\n",
    "dfc_deaths = dft_deaths.groupby(COL_REGION)[dt_today].sum()\n",
    "# dfp_cases = dft_cases.groupby(COL_REGION)[dt_5day].sum()\n",
    "# dfp_deaths = dft_deaths.groupby(COL_REGION)[dt_5day].sum()\n",
    "dfp_cases = dft_cases.groupby(COL_REGION)[dt_yday].sum()\n",
    "dfp_deaths = dft_deaths.groupby(COL_REGION)[dt_yday].sum()"
   ]
  },
  {
   "cell_type": "code",
   "execution_count": 12,
   "id": "deluxe-hepatitis",
   "metadata": {
    "execution": {
     "iopub.execute_input": "2022-02-10T00:27:41.081216Z",
     "iopub.status.busy": "2022-02-10T00:27:41.079800Z",
     "iopub.status.idle": "2022-02-10T00:27:41.084701Z",
     "shell.execute_reply": "2022-02-10T00:27:41.085121Z"
    },
    "papermill": {
     "duration": 0.041683,
     "end_time": "2022-02-10T00:27:41.085236",
     "exception": false,
     "start_time": "2022-02-10T00:27:41.043553",
     "status": "completed"
    },
    "tags": []
   },
   "outputs": [],
   "source": [
    "#hide\n",
    "df_table = (pd.DataFrame(dict(Cases = dfc_cases, Deaths = dfc_deaths, PCases = dfp_cases, PDeaths = dfp_deaths))\n",
    "            .sort_values(by = ['Cases','Deaths'], ascending = [False, False])\n",
    "            .reset_index())"
   ]
  },
  {
   "cell_type": "code",
   "execution_count": 13,
   "id": "educational-chancellor",
   "metadata": {
    "execution": {
     "iopub.execute_input": "2022-02-10T00:27:41.163514Z",
     "iopub.status.busy": "2022-02-10T00:27:41.163015Z",
     "iopub.status.idle": "2022-02-10T00:27:41.170305Z",
     "shell.execute_reply": "2022-02-10T00:27:41.170696Z"
    },
    "papermill": {
     "duration": 0.054876,
     "end_time": "2022-02-10T00:27:41.170811",
     "exception": false,
     "start_time": "2022-02-10T00:27:41.115935",
     "status": "completed"
    },
    "tags": []
   },
   "outputs": [
    {
     "data": {
      "text/html": [
       "<div>\n",
       "<style scoped>\n",
       "    .dataframe tbody tr th:only-of-type {\n",
       "        vertical-align: middle;\n",
       "    }\n",
       "\n",
       "    .dataframe tbody tr th {\n",
       "        vertical-align: top;\n",
       "    }\n",
       "\n",
       "    .dataframe thead th {\n",
       "        text-align: right;\n",
       "    }\n",
       "</style>\n",
       "<table border=\"1\" class=\"dataframe\">\n",
       "  <thead>\n",
       "    <tr style=\"text-align: right;\">\n",
       "      <th></th>\n",
       "      <th>Country/Region</th>\n",
       "      <th>Cases</th>\n",
       "      <th>Deaths</th>\n",
       "      <th>PCases</th>\n",
       "      <th>PDeaths</th>\n",
       "      <th>Cases (+)</th>\n",
       "      <th>Deaths (+)</th>\n",
       "      <th>Fatality Rate</th>\n",
       "      <th>Continent</th>\n",
       "    </tr>\n",
       "  </thead>\n",
       "  <tbody>\n",
       "    <tr>\n",
       "      <th>0</th>\n",
       "      <td>US</td>\n",
       "      <td>77051506</td>\n",
       "      <td>908820</td>\n",
       "      <td>76852768</td>\n",
       "      <td>905543</td>\n",
       "      <td>198738</td>\n",
       "      <td>3277</td>\n",
       "      <td>1.18</td>\n",
       "      <td>North America</td>\n",
       "    </tr>\n",
       "    <tr>\n",
       "      <th>1</th>\n",
       "      <td>India</td>\n",
       "      <td>42410976</td>\n",
       "      <td>505279</td>\n",
       "      <td>42339611</td>\n",
       "      <td>504062</td>\n",
       "      <td>71365</td>\n",
       "      <td>1217</td>\n",
       "      <td>1.19</td>\n",
       "      <td>Asia</td>\n",
       "    </tr>\n",
       "    <tr>\n",
       "      <th>2</th>\n",
       "      <td>Brazil</td>\n",
       "      <td>26793497</td>\n",
       "      <td>634118</td>\n",
       "      <td>26616014</td>\n",
       "      <td>632946</td>\n",
       "      <td>177483</td>\n",
       "      <td>1172</td>\n",
       "      <td>2.37</td>\n",
       "      <td>South America</td>\n",
       "    </tr>\n",
       "    <tr>\n",
       "      <th>3</th>\n",
       "      <td>France</td>\n",
       "      <td>21174600</td>\n",
       "      <td>134609</td>\n",
       "      <td>20935910</td>\n",
       "      <td>133918</td>\n",
       "      <td>238690</td>\n",
       "      <td>691</td>\n",
       "      <td>0.64</td>\n",
       "      <td>Europe</td>\n",
       "    </tr>\n",
       "    <tr>\n",
       "      <th>4</th>\n",
       "      <td>United Kingdom</td>\n",
       "      <td>18055318</td>\n",
       "      <td>159220</td>\n",
       "      <td>17988447</td>\n",
       "      <td>158903</td>\n",
       "      <td>66871</td>\n",
       "      <td>317</td>\n",
       "      <td>0.88</td>\n",
       "      <td>Europe</td>\n",
       "    </tr>\n",
       "  </tbody>\n",
       "</table>\n",
       "</div>"
      ],
      "text/plain": [
       "   Country/Region     Cases  Deaths    PCases  PDeaths  Cases (+)  Deaths (+)  \\\n",
       "0              US  77051506  908820  76852768   905543     198738        3277   \n",
       "1           India  42410976  505279  42339611   504062      71365        1217   \n",
       "2          Brazil  26793497  634118  26616014   632946     177483        1172   \n",
       "3          France  21174600  134609  20935910   133918     238690         691   \n",
       "4  United Kingdom  18055318  159220  17988447   158903      66871         317   \n",
       "\n",
       "   Fatality Rate      Continent  \n",
       "0           1.18  North America  \n",
       "1           1.19           Asia  \n",
       "2           2.37  South America  \n",
       "3           0.64         Europe  \n",
       "4           0.88         Europe  "
      ]
     },
     "execution_count": 13,
     "metadata": {},
     "output_type": "execute_result"
    }
   ],
   "source": [
    "#hide\n",
    "for c in 'Cases, Deaths'.split(', '):\n",
    "    df_table[f'{c} (+)'] = (df_table[c] - df_table[f'P{c}']).clip(0)\n",
    "    #Clip ça veut dire, les chiffres negatif sont interdit\n",
    "df_table['Fatality Rate'] = (100* df_table['Deaths']/ df_table['Cases']).round(2)\n",
    "df_table['Continent'] = df_table['Country/Region'].map(mapping['map.continent'])\n",
    "df_table.head(5)"
   ]
  },
  {
   "cell_type": "code",
   "execution_count": 14,
   "id": "aboriginal-bulgaria",
   "metadata": {
    "execution": {
     "iopub.execute_input": "2022-02-10T00:27:41.239126Z",
     "iopub.status.busy": "2022-02-10T00:27:41.238584Z",
     "iopub.status.idle": "2022-02-10T00:27:41.241018Z",
     "shell.execute_reply": "2022-02-10T00:27:41.241435Z"
    },
    "papermill": {
     "duration": 0.037774,
     "end_time": "2022-02-10T00:27:41.241562",
     "exception": false,
     "start_time": "2022-02-10T00:27:41.203788",
     "status": "completed"
    },
    "tags": []
   },
   "outputs": [],
   "source": [
    "#hide\n",
    "#delete problematic countries from table\n",
    "df_table = df_table[~df_table['Country/Region'].isin(['Cape Verde', 'Cruise Ship', 'Kosovo'])]"
   ]
  },
  {
   "cell_type": "code",
   "execution_count": 15,
   "id": "fantastic-effect",
   "metadata": {
    "execution": {
     "iopub.execute_input": "2022-02-10T00:27:41.309869Z",
     "iopub.status.busy": "2022-02-10T00:27:41.309362Z",
     "iopub.status.idle": "2022-02-10T00:27:41.325998Z",
     "shell.execute_reply": "2022-02-10T00:27:41.325605Z"
    },
    "papermill": {
     "duration": 0.053753,
     "end_time": "2022-02-10T00:27:41.326095",
     "exception": false,
     "start_time": "2022-02-10T00:27:41.272342",
     "status": "completed"
    },
    "tags": []
   },
   "outputs": [
    {
     "data": {
      "text/html": [
       "<div>\n",
       "<style scoped>\n",
       "    .dataframe tbody tr th:only-of-type {\n",
       "        vertical-align: middle;\n",
       "    }\n",
       "\n",
       "    .dataframe tbody tr th {\n",
       "        vertical-align: top;\n",
       "    }\n",
       "\n",
       "    .dataframe thead th {\n",
       "        text-align: right;\n",
       "    }\n",
       "</style>\n",
       "<table border=\"1\" class=\"dataframe\">\n",
       "  <thead>\n",
       "    <tr style=\"text-align: right;\">\n",
       "      <th></th>\n",
       "      <th>Country/Region</th>\n",
       "      <th>Cases</th>\n",
       "      <th>Deaths</th>\n",
       "      <th>PCases</th>\n",
       "      <th>PDeaths</th>\n",
       "      <th>Cases (+)</th>\n",
       "      <th>Deaths (+)</th>\n",
       "      <th>Fatality Rate</th>\n",
       "      <th>Continent</th>\n",
       "    </tr>\n",
       "  </thead>\n",
       "  <tbody>\n",
       "    <tr>\n",
       "      <th>0</th>\n",
       "      <td>US</td>\n",
       "      <td>77051506</td>\n",
       "      <td>908820</td>\n",
       "      <td>76852768</td>\n",
       "      <td>905543</td>\n",
       "      <td>198738</td>\n",
       "      <td>3277</td>\n",
       "      <td>1.2</td>\n",
       "      <td>North America</td>\n",
       "    </tr>\n",
       "    <tr>\n",
       "      <th>1</th>\n",
       "      <td>India</td>\n",
       "      <td>42410976</td>\n",
       "      <td>505279</td>\n",
       "      <td>42339611</td>\n",
       "      <td>504062</td>\n",
       "      <td>71365</td>\n",
       "      <td>1217</td>\n",
       "      <td>1.2</td>\n",
       "      <td>Asia</td>\n",
       "    </tr>\n",
       "    <tr>\n",
       "      <th>2</th>\n",
       "      <td>Brazil</td>\n",
       "      <td>26793497</td>\n",
       "      <td>634118</td>\n",
       "      <td>26616014</td>\n",
       "      <td>632946</td>\n",
       "      <td>177483</td>\n",
       "      <td>1172</td>\n",
       "      <td>2.4</td>\n",
       "      <td>South America</td>\n",
       "    </tr>\n",
       "    <tr>\n",
       "      <th>3</th>\n",
       "      <td>France</td>\n",
       "      <td>21174600</td>\n",
       "      <td>134609</td>\n",
       "      <td>20935910</td>\n",
       "      <td>133918</td>\n",
       "      <td>238690</td>\n",
       "      <td>691</td>\n",
       "      <td>0.6</td>\n",
       "      <td>Europe</td>\n",
       "    </tr>\n",
       "    <tr>\n",
       "      <th>4</th>\n",
       "      <td>United Kingdom</td>\n",
       "      <td>18055318</td>\n",
       "      <td>159220</td>\n",
       "      <td>17988447</td>\n",
       "      <td>158903</td>\n",
       "      <td>66871</td>\n",
       "      <td>317</td>\n",
       "      <td>0.9</td>\n",
       "      <td>Europe</td>\n",
       "    </tr>\n",
       "  </tbody>\n",
       "</table>\n",
       "</div>"
      ],
      "text/plain": [
       "   Country/Region     Cases  Deaths    PCases  PDeaths  Cases (+)  Deaths (+)  \\\n",
       "0              US  77051506  908820  76852768   905543     198738        3277   \n",
       "1           India  42410976  505279  42339611   504062      71365        1217   \n",
       "2          Brazil  26793497  634118  26616014   632946     177483        1172   \n",
       "3          France  21174600  134609  20935910   133918     238690         691   \n",
       "4  United Kingdom  18055318  159220  17988447   158903      66871         317   \n",
       "\n",
       "   Fatality Rate      Continent  \n",
       "0            1.2  North America  \n",
       "1            1.2           Asia  \n",
       "2            2.4  South America  \n",
       "3            0.6         Europe  \n",
       "4            0.9         Europe  "
      ]
     },
     "execution_count": 15,
     "metadata": {},
     "output_type": "execute_result"
    }
   ],
   "source": [
    "#hide\n",
    "df_table = (pd.DataFrame(dict(Cases=dfc_cases, Deaths=dfc_deaths, PCases=dfp_cases, PDeaths=dfp_deaths))\n",
    "             .sort_values(by=['Cases', 'Deaths'], ascending=[False, False])\n",
    "             .reset_index())\n",
    "df_table.rename(columns={'index': 'Country/Region'}, inplace=True)\n",
    "for c in 'Cases, Deaths'.split(', '):\n",
    "    df_table[f'{c} (+)'] = (df_table[c] - df_table[f'P{c}']).clip(0)  # DATA BUG\n",
    "df_table['Fatality Rate'] = (100 * df_table['Deaths'] / df_table['Cases']).round(1)\n",
    "df_table['Continent'] = df_table['Country/Region'].map(mapping['map.continent'])\n",
    "df_table.head(5)"
   ]
  },
  {
   "cell_type": "code",
   "execution_count": 16,
   "id": "fewer-occasion",
   "metadata": {
    "execution": {
     "iopub.execute_input": "2022-02-10T00:27:41.394436Z",
     "iopub.status.busy": "2022-02-10T00:27:41.393918Z",
     "iopub.status.idle": "2022-02-10T00:27:41.395527Z",
     "shell.execute_reply": "2022-02-10T00:27:41.395909Z"
    },
    "papermill": {
     "duration": 0.03841,
     "end_time": "2022-02-10T00:27:41.396022",
     "exception": false,
     "start_time": "2022-02-10T00:27:41.357612",
     "status": "completed"
    },
    "tags": []
   },
   "outputs": [],
   "source": [
    "#hide\n",
    "#delete problematic countries from table\n",
    "df_table = df_table[~df_table['Country/Region'].isin(['Cape Verde', 'Cruise Ship', 'Kosovo'])]"
   ]
  },
  {
   "cell_type": "code",
   "execution_count": 17,
   "id": "related-center",
   "metadata": {
    "execution": {
     "iopub.execute_input": "2022-02-10T00:27:41.468474Z",
     "iopub.status.busy": "2022-02-10T00:27:41.467970Z",
     "iopub.status.idle": "2022-02-10T00:27:41.477042Z",
     "shell.execute_reply": "2022-02-10T00:27:41.476654Z"
    },
    "papermill": {
     "duration": 0.049638,
     "end_time": "2022-02-10T00:27:41.477144",
     "exception": false,
     "start_time": "2022-02-10T00:27:41.427506",
     "status": "completed"
    },
    "tags": []
   },
   "outputs": [],
   "source": [
    "#hide\n",
    "metrics = [df_table.columns[index] for index in [1,2,5,6]]\n",
    "# s_china = df_table[df_table['Country/Region'].eq('China')][metrics].sum().add_prefix('China ')\n",
    "s_us = df_table[df_table['Country/Region'].eq('US')][metrics].sum().add_prefix('US ')\n",
    "s_eu = df_table[df_table['Continent'].eq('Europe')][metrics].sum().add_prefix('EU ')\n",
    "s_ind = df_table[df_table['Country/Region'].eq('India')][metrics].sum().add_prefix('India ')\n",
    "summary = {'updated': pd.to_datetime(dt_today), 'since': pd.to_datetime(dt_yday)}\n",
    "summary = {'updated': pd.to_datetime(dt_today), 'since': pd.to_datetime(dt_yday)}\n",
    "summary = {**summary, **df_table[metrics].sum(), **s_ind, **s_us, **s_eu}"
   ]
  },
  {
   "cell_type": "code",
   "execution_count": 18,
   "id": "engaging-syndrome",
   "metadata": {
    "execution": {
     "iopub.execute_input": "2022-02-10T00:27:41.545065Z",
     "iopub.status.busy": "2022-02-10T00:27:41.544572Z",
     "iopub.status.idle": "2022-02-10T00:27:41.558635Z",
     "shell.execute_reply": "2022-02-10T00:27:41.558999Z"
    },
    "papermill": {
     "duration": 0.050364,
     "end_time": "2022-02-10T00:27:41.559111",
     "exception": false,
     "start_time": "2022-02-10T00:27:41.508747",
     "status": "completed"
    },
    "tags": []
   },
   "outputs": [],
   "source": [
    "#hide\n",
    "dft_ct_new_cases = dft_cases.groupby(COL_REGION)[dt_cols].sum().diff(axis=1).fillna(0).astype(int)"
   ]
  },
  {
   "cell_type": "code",
   "execution_count": 19,
   "id": "neutral-assignment",
   "metadata": {
    "execution": {
     "iopub.execute_input": "2022-02-10T00:27:41.626475Z",
     "iopub.status.busy": "2022-02-10T00:27:41.625982Z",
     "iopub.status.idle": "2022-02-10T00:27:41.628028Z",
     "shell.execute_reply": "2022-02-10T00:27:41.627644Z"
    },
    "papermill": {
     "duration": 0.037636,
     "end_time": "2022-02-10T00:27:41.628124",
     "exception": false,
     "start_time": "2022-02-10T00:27:41.590488",
     "status": "completed"
    },
    "tags": []
   },
   "outputs": [],
   "source": [
    "#hide\n",
    "everydaycases = dft_ct_new_cases.cumsum(axis=1)"
   ]
  },
  {
   "cell_type": "code",
   "execution_count": 20,
   "id": "parliamentary-calgary",
   "metadata": {
    "execution": {
     "iopub.execute_input": "2022-02-10T00:27:41.694681Z",
     "iopub.status.busy": "2022-02-10T00:27:41.694182Z",
     "iopub.status.idle": "2022-02-10T00:27:42.306875Z",
     "shell.execute_reply": "2022-02-10T00:27:42.306438Z"
    },
    "papermill": {
     "duration": 0.647135,
     "end_time": "2022-02-10T00:27:42.306988",
     "exception": false,
     "start_time": "2022-02-10T00:27:41.659853",
     "status": "completed"
    },
    "tags": []
   },
   "outputs": [],
   "source": [
    "#hide\n",
    "import pandas as pd\n",
    "import matplotlib.pyplot as plt\n",
    "import matplotlib.ticker as ticker\n",
    "import matplotlib.animation as animation\n",
    "from IPython.display import HTML"
   ]
  },
  {
   "cell_type": "code",
   "execution_count": 21,
   "id": "lasting-extraction",
   "metadata": {
    "execution": {
     "iopub.execute_input": "2022-02-10T00:27:42.375095Z",
     "iopub.status.busy": "2022-02-10T00:27:42.374589Z",
     "iopub.status.idle": "2022-02-10T00:27:42.379552Z",
     "shell.execute_reply": "2022-02-10T00:27:42.380007Z"
    },
    "papermill": {
     "duration": 0.041552,
     "end_time": "2022-02-10T00:27:42.380116",
     "exception": false,
     "start_time": "2022-02-10T00:27:42.338564",
     "status": "completed"
    },
    "tags": []
   },
   "outputs": [],
   "source": [
    "#hide\n",
    "t = everydaycases.stack()"
   ]
  },
  {
   "cell_type": "code",
   "execution_count": 22,
   "id": "premier-sleeve",
   "metadata": {
    "execution": {
     "iopub.execute_input": "2022-02-10T00:27:42.446589Z",
     "iopub.status.busy": "2022-02-10T00:27:42.446104Z",
     "iopub.status.idle": "2022-02-10T00:27:42.457859Z",
     "shell.execute_reply": "2022-02-10T00:27:42.456985Z"
    },
    "papermill": {
     "duration": 0.046287,
     "end_time": "2022-02-10T00:27:42.457962",
     "exception": false,
     "start_time": "2022-02-10T00:27:42.411675",
     "status": "completed"
    },
    "tags": []
   },
   "outputs": [],
   "source": [
    "#hide\n",
    "g = t.reset_index(['Country/Region'])"
   ]
  },
  {
   "cell_type": "code",
   "execution_count": 23,
   "id": "distributed-pittsburgh",
   "metadata": {
    "execution": {
     "iopub.execute_input": "2022-02-10T00:27:42.523804Z",
     "iopub.status.busy": "2022-02-10T00:27:42.523309Z",
     "iopub.status.idle": "2022-02-10T00:27:42.525072Z",
     "shell.execute_reply": "2022-02-10T00:27:42.525448Z"
    },
    "papermill": {
     "duration": 0.036282,
     "end_time": "2022-02-10T00:27:42.525577",
     "exception": false,
     "start_time": "2022-02-10T00:27:42.489295",
     "status": "completed"
    },
    "tags": []
   },
   "outputs": [],
   "source": [
    "#hide\n",
    "g.index.name = 'date'"
   ]
  },
  {
   "cell_type": "code",
   "execution_count": 24,
   "id": "naked-donor",
   "metadata": {
    "execution": {
     "iopub.execute_input": "2022-02-10T00:27:42.591601Z",
     "iopub.status.busy": "2022-02-10T00:27:42.591104Z",
     "iopub.status.idle": "2022-02-10T00:27:42.592851Z",
     "shell.execute_reply": "2022-02-10T00:27:42.593217Z"
    },
    "papermill": {
     "duration": 0.036227,
     "end_time": "2022-02-10T00:27:42.593326",
     "exception": false,
     "start_time": "2022-02-10T00:27:42.557099",
     "status": "completed"
    },
    "tags": []
   },
   "outputs": [],
   "source": [
    "# #hide\n",
    "# g = g.reset_index(['date'])"
   ]
  },
  {
   "cell_type": "code",
   "execution_count": 25,
   "id": "incomplete-mustang",
   "metadata": {
    "execution": {
     "iopub.execute_input": "2022-02-10T00:27:42.658771Z",
     "iopub.status.busy": "2022-02-10T00:27:42.658272Z",
     "iopub.status.idle": "2022-02-10T00:27:42.660515Z",
     "shell.execute_reply": "2022-02-10T00:27:42.659923Z"
    },
    "papermill": {
     "duration": 0.035969,
     "end_time": "2022-02-10T00:27:42.660631",
     "exception": false,
     "start_time": "2022-02-10T00:27:42.624662",
     "status": "completed"
    },
    "tags": []
   },
   "outputs": [],
   "source": [
    "#hide\n",
    "# g.head()"
   ]
  },
  {
   "cell_type": "code",
   "execution_count": 26,
   "id": "specific-kruger",
   "metadata": {
    "execution": {
     "iopub.execute_input": "2022-02-10T00:27:42.726598Z",
     "iopub.status.busy": "2022-02-10T00:27:42.726107Z",
     "iopub.status.idle": "2022-02-10T00:27:42.728166Z",
     "shell.execute_reply": "2022-02-10T00:27:42.727782Z"
    },
    "papermill": {
     "duration": 0.036013,
     "end_time": "2022-02-10T00:27:42.728260",
     "exception": false,
     "start_time": "2022-02-10T00:27:42.692247",
     "status": "completed"
    },
    "tags": []
   },
   "outputs": [],
   "source": [
    "#hide\n",
    "# g.columns = ['date','country','cases']"
   ]
  },
  {
   "cell_type": "code",
   "execution_count": 27,
   "id": "tender-conversion",
   "metadata": {
    "execution": {
     "iopub.execute_input": "2022-02-10T00:27:42.793533Z",
     "iopub.status.busy": "2022-02-10T00:27:42.793019Z",
     "iopub.status.idle": "2022-02-10T00:27:42.796600Z",
     "shell.execute_reply": "2022-02-10T00:27:42.796133Z"
    },
    "papermill": {
     "duration": 0.037079,
     "end_time": "2022-02-10T00:27:42.796695",
     "exception": false,
     "start_time": "2022-02-10T00:27:42.759616",
     "status": "completed"
    },
    "tags": []
   },
   "outputs": [],
   "source": [
    "#hide\n",
    "# g['continent'] = g.country"
   ]
  },
  {
   "cell_type": "code",
   "execution_count": 28,
   "id": "substantial-wilderness",
   "metadata": {
    "execution": {
     "iopub.execute_input": "2022-02-10T00:27:42.862653Z",
     "iopub.status.busy": "2022-02-10T00:27:42.862161Z",
     "iopub.status.idle": "2022-02-10T00:27:42.864174Z",
     "shell.execute_reply": "2022-02-10T00:27:42.863712Z"
    },
    "papermill": {
     "duration": 0.03603,
     "end_time": "2022-02-10T00:27:42.864265",
     "exception": false,
     "start_time": "2022-02-10T00:27:42.828235",
     "status": "completed"
    },
    "tags": []
   },
   "outputs": [],
   "source": [
    "#hide\n",
    "# cols = list(g.columns.values)"
   ]
  },
  {
   "cell_type": "code",
   "execution_count": 29,
   "id": "solved-farming",
   "metadata": {
    "execution": {
     "iopub.execute_input": "2022-02-10T00:27:42.930105Z",
     "iopub.status.busy": "2022-02-10T00:27:42.929599Z",
     "iopub.status.idle": "2022-02-10T00:27:42.931116Z",
     "shell.execute_reply": "2022-02-10T00:27:42.931500Z"
    },
    "papermill": {
     "duration": 0.035879,
     "end_time": "2022-02-10T00:27:42.931603",
     "exception": false,
     "start_time": "2022-02-10T00:27:42.895724",
     "status": "completed"
    },
    "tags": []
   },
   "outputs": [],
   "source": [
    "#hide\n",
    "# cols.insert(0, cols.pop())"
   ]
  },
  {
   "cell_type": "code",
   "execution_count": 30,
   "id": "executed-adoption",
   "metadata": {
    "execution": {
     "iopub.execute_input": "2022-02-10T00:27:42.996916Z",
     "iopub.status.busy": "2022-02-10T00:27:42.996417Z",
     "iopub.status.idle": "2022-02-10T00:27:42.999558Z",
     "shell.execute_reply": "2022-02-10T00:27:42.999126Z"
    },
    "papermill": {
     "duration": 0.036689,
     "end_time": "2022-02-10T00:27:42.999651",
     "exception": false,
     "start_time": "2022-02-10T00:27:42.962962",
     "status": "completed"
    },
    "tags": []
   },
   "outputs": [],
   "source": [
    "#hide\n",
    "# g = g[cols]"
   ]
  },
  {
   "cell_type": "code",
   "execution_count": 31,
   "id": "subject-dublin",
   "metadata": {
    "execution": {
     "iopub.execute_input": "2022-02-10T00:27:43.065387Z",
     "iopub.status.busy": "2022-02-10T00:27:43.064892Z",
     "iopub.status.idle": "2022-02-10T00:27:43.066931Z",
     "shell.execute_reply": "2022-02-10T00:27:43.066472Z"
    },
    "papermill": {
     "duration": 0.035847,
     "end_time": "2022-02-10T00:27:43.067021",
     "exception": false,
     "start_time": "2022-02-10T00:27:43.031174",
     "status": "completed"
    },
    "tags": []
   },
   "outputs": [],
   "source": [
    "#hide\n",
    "# g['continent'] = g['continent'].map(mapping['map.continent'])"
   ]
  },
  {
   "cell_type": "code",
   "execution_count": 32,
   "id": "freelance-scout",
   "metadata": {
    "execution": {
     "iopub.execute_input": "2022-02-10T00:27:43.133202Z",
     "iopub.status.busy": "2022-02-10T00:27:43.132711Z",
     "iopub.status.idle": "2022-02-10T00:27:43.134390Z",
     "shell.execute_reply": "2022-02-10T00:27:43.134749Z"
    },
    "papermill": {
     "duration": 0.036267,
     "end_time": "2022-02-10T00:27:43.134855",
     "exception": false,
     "start_time": "2022-02-10T00:27:43.098588",
     "status": "completed"
    },
    "tags": []
   },
   "outputs": [],
   "source": [
    "#hide\n",
    "# g.head()"
   ]
  },
  {
   "cell_type": "code",
   "execution_count": 33,
   "id": "limited-engine",
   "metadata": {
    "execution": {
     "iopub.execute_input": "2022-02-10T00:27:43.200348Z",
     "iopub.status.busy": "2022-02-10T00:27:43.199836Z",
     "iopub.status.idle": "2022-02-10T00:27:43.201790Z",
     "shell.execute_reply": "2022-02-10T00:27:43.201370Z"
    },
    "papermill": {
     "duration": 0.035724,
     "end_time": "2022-02-10T00:27:43.201882",
     "exception": false,
     "start_time": "2022-02-10T00:27:43.166158",
     "status": "completed"
    },
    "tags": []
   },
   "outputs": [],
   "source": [
    "# hide\n",
    "# g['date'] = g['date'].astype('datetime64[ns]')"
   ]
  },
  {
   "cell_type": "code",
   "execution_count": 34,
   "id": "sophisticated-supervisor",
   "metadata": {
    "execution": {
     "iopub.execute_input": "2022-02-10T00:27:43.267539Z",
     "iopub.status.busy": "2022-02-10T00:27:43.267049Z",
     "iopub.status.idle": "2022-02-10T00:27:43.268698Z",
     "shell.execute_reply": "2022-02-10T00:27:43.269058Z"
    },
    "papermill": {
     "duration": 0.035792,
     "end_time": "2022-02-10T00:27:43.269163",
     "exception": false,
     "start_time": "2022-02-10T00:27:43.233371",
     "status": "completed"
    },
    "tags": []
   },
   "outputs": [],
   "source": [
    "#hide\n",
    "# g['date'] = g.date.dt.dayofyear"
   ]
  },
  {
   "cell_type": "code",
   "execution_count": 35,
   "id": "inside-dubai",
   "metadata": {
    "execution": {
     "iopub.execute_input": "2022-02-10T00:27:43.334730Z",
     "iopub.status.busy": "2022-02-10T00:27:43.334240Z",
     "iopub.status.idle": "2022-02-10T00:27:43.337582Z",
     "shell.execute_reply": "2022-02-10T00:27:43.337171Z"
    },
    "papermill": {
     "duration": 0.037218,
     "end_time": "2022-02-10T00:27:43.337680",
     "exception": false,
     "start_time": "2022-02-10T00:27:43.300462",
     "status": "completed"
    },
    "tags": []
   },
   "outputs": [],
   "source": [
    "#hide\n",
    "# g = g.rename(columns= {'continent':'group','country':'name','cases':'value'})"
   ]
  },
  {
   "cell_type": "code",
   "execution_count": 36,
   "id": "fleet-motorcycle",
   "metadata": {
    "execution": {
     "iopub.execute_input": "2022-02-10T00:27:43.403330Z",
     "iopub.status.busy": "2022-02-10T00:27:43.402844Z",
     "iopub.status.idle": "2022-02-10T00:27:43.405023Z",
     "shell.execute_reply": "2022-02-10T00:27:43.404623Z"
    },
    "papermill": {
     "duration": 0.036047,
     "end_time": "2022-02-10T00:27:43.405113",
     "exception": false,
     "start_time": "2022-02-10T00:27:43.369066",
     "status": "completed"
    },
    "tags": []
   },
   "outputs": [],
   "source": [
    "#hide\n",
    "# cols = ['name','group','day','value']"
   ]
  },
  {
   "cell_type": "code",
   "execution_count": 37,
   "id": "continued-sleeping",
   "metadata": {
    "execution": {
     "iopub.execute_input": "2022-02-10T00:27:43.470508Z",
     "iopub.status.busy": "2022-02-10T00:27:43.470011Z",
     "iopub.status.idle": "2022-02-10T00:27:43.471997Z",
     "shell.execute_reply": "2022-02-10T00:27:43.471598Z"
    },
    "papermill": {
     "duration": 0.035583,
     "end_time": "2022-02-10T00:27:43.472088",
     "exception": false,
     "start_time": "2022-02-10T00:27:43.436505",
     "status": "completed"
    },
    "tags": []
   },
   "outputs": [],
   "source": [
    "#hide\n",
    "# g.rename(columns= {'date':'day'},inplace = True)"
   ]
  },
  {
   "cell_type": "code",
   "execution_count": 38,
   "id": "major-fight",
   "metadata": {
    "execution": {
     "iopub.execute_input": "2022-02-10T00:27:43.537948Z",
     "iopub.status.busy": "2022-02-10T00:27:43.537419Z",
     "iopub.status.idle": "2022-02-10T00:27:43.540003Z",
     "shell.execute_reply": "2022-02-10T00:27:43.539602Z"
    },
    "papermill": {
     "duration": 0.036654,
     "end_time": "2022-02-10T00:27:43.540093",
     "exception": false,
     "start_time": "2022-02-10T00:27:43.503439",
     "status": "completed"
    },
    "tags": []
   },
   "outputs": [],
   "source": [
    "#hide\n",
    "# g = g[cols]"
   ]
  },
  {
   "cell_type": "code",
   "execution_count": 39,
   "id": "structured-mobile",
   "metadata": {
    "execution": {
     "iopub.execute_input": "2022-02-10T00:27:43.605607Z",
     "iopub.status.busy": "2022-02-10T00:27:43.605097Z",
     "iopub.status.idle": "2022-02-10T00:27:43.607605Z",
     "shell.execute_reply": "2022-02-10T00:27:43.608028Z"
    },
    "papermill": {
     "duration": 0.036704,
     "end_time": "2022-02-10T00:27:43.608136",
     "exception": false,
     "start_time": "2022-02-10T00:27:43.571432",
     "status": "completed"
    },
    "tags": []
   },
   "outputs": [],
   "source": [
    "# #hide\n",
    "# g = g[g.group.notna()]"
   ]
  },
  {
   "cell_type": "code",
   "execution_count": 40,
   "id": "determined-closing",
   "metadata": {
    "execution": {
     "iopub.execute_input": "2022-02-10T00:27:43.674842Z",
     "iopub.status.busy": "2022-02-10T00:27:43.674337Z",
     "iopub.status.idle": "2022-02-10T00:27:43.675960Z",
     "shell.execute_reply": "2022-02-10T00:27:43.676340Z"
    },
    "papermill": {
     "duration": 0.036525,
     "end_time": "2022-02-10T00:27:43.676444",
     "exception": false,
     "start_time": "2022-02-10T00:27:43.639919",
     "status": "completed"
    },
    "tags": []
   },
   "outputs": [],
   "source": [
    "# #hide\n",
    "# colors = dict(zip(\n",
    "#     [\"Oceania\", \"Europe\", \"Asia\", \"South America\", \"Middle East\", \"North America\", \"Africa\"],\n",
    "#     [\"#adb0ff\", \"#ffb3ff\", \"#90d595\", \"#e48381\", \"#aafbff\", \"#f7bb5f\", \"#eafb50\"]\n",
    "# ))\n",
    "# group_lk = g.set_index('name')['group'].to_dict()"
   ]
  },
  {
   "cell_type": "code",
   "execution_count": null,
   "id": "gross-drinking",
   "metadata": {
    "papermill": {
     "duration": 0.031397,
     "end_time": "2022-02-10T00:27:43.739075",
     "exception": false,
     "start_time": "2022-02-10T00:27:43.707678",
     "status": "completed"
    },
    "tags": []
   },
   "outputs": [],
   "source": []
  },
  {
   "cell_type": "code",
   "execution_count": 41,
   "id": "subject-macintosh",
   "metadata": {
    "execution": {
     "iopub.execute_input": "2022-02-10T00:27:43.805218Z",
     "iopub.status.busy": "2022-02-10T00:27:43.804712Z",
     "iopub.status.idle": "2022-02-10T00:27:43.808340Z",
     "shell.execute_reply": "2022-02-10T00:27:43.808720Z"
    },
    "papermill": {
     "duration": 0.038326,
     "end_time": "2022-02-10T00:27:43.808830",
     "exception": false,
     "start_time": "2022-02-10T00:27:43.770504",
     "status": "completed"
    },
    "tags": []
   },
   "outputs": [],
   "source": [
    "# #hide\n",
    "# fig, ax = plt.subplots(figsize=(15, 8))\n",
    "\n",
    "# def draw_barchart(current_day):\n",
    "#     dff = g[g['day'].eq(current_day)].sort_values(by='value', ascending=True).tail(10)\n",
    "#     ax.clear()\n",
    "#     ax.barh(dff['name'], dff['value'], color=[colors[group_lk[x]] for x in dff['name']])\n",
    "#     dx = dff['value'].max() / 200\n",
    "    \n",
    "#     for i, (value, name) in enumerate(zip(dff['value'], dff['name'])):\n",
    "#         ax.text(value-dx, i,     name,           size=14, weight=600, ha='right', va='bottom')\n",
    "#         ax.text(value-dx, i-.25, group_lk[name], size=10, color='#444444', ha='right', va='baseline')\n",
    "#         ax.text(value+dx, i,     f'{value:,.0f}',  size=14, ha='left',  va='center')\n",
    "#     ax.text(1, 0.4, current_day, transform=ax.transAxes, color='#777777', size=46, ha='right', weight=800)\n",
    "#     ax.text(0, 1.06, 'Population (thousands)', transform=ax.transAxes, size=12, color='#777777')\n",
    "#     ax.xaxis.set_major_formatter(ticker.StrMethodFormatter('{x:,.0f}'))\n",
    "#     ax.xaxis.set_ticks_position('top')\n",
    "#     ax.tick_params(axis='x', colors='#777777', labelsize=12)\n",
    "#     ax.set_yticks([])\n",
    "#     ax.margins(0, 0.01)\n",
    "#     ax.grid(which='major', axis='x', linestyle='-')\n",
    "#     ax.set_axisbelow(True)\n",
    "    \n",
    "#     ax.text(0, 1.15, 'Coronavirus',\n",
    "#             transform=ax.transAxes, size=24, weight=600, ha='left', va='top')\n",
    "# #     ax.text(1, 0, 'by @pratapvardhan; credit @jburnmurdoch', transform=ax.transAxes, color='#777777', ha='right',\n",
    "# #             bbox=dict(facecolor='white', alpha=0.8, edgecolor='white'))\n",
    "#     plt.box(False)"
   ]
  },
  {
   "cell_type": "code",
   "execution_count": 42,
   "id": "sexual-wages",
   "metadata": {
    "execution": {
     "iopub.execute_input": "2022-02-10T00:27:43.874724Z",
     "iopub.status.busy": "2022-02-10T00:27:43.874213Z",
     "iopub.status.idle": "2022-02-10T00:27:43.876543Z",
     "shell.execute_reply": "2022-02-10T00:27:43.876156Z"
    },
    "papermill": {
     "duration": 0.036193,
     "end_time": "2022-02-10T00:27:43.876638",
     "exception": false,
     "start_time": "2022-02-10T00:27:43.840445",
     "status": "completed"
    },
    "tags": []
   },
   "outputs": [],
   "source": [
    "# #hide_input\n",
    "# fig, ax = plt.subplots(figsize=(15, 8))\n",
    "# animator = animation.FuncAnimation(fig, draw_barchart, frames=range(g.day.values.min(), g.day.values.max()))\n",
    "# HTML(animator.to_jshtml())\n",
    "# # or use animator.to_html5_video() or animator.save() "
   ]
  },
  {
   "cell_type": "code",
   "execution_count": null,
   "id": "australian-container",
   "metadata": {
    "papermill": {
     "duration": 0.031314,
     "end_time": "2022-02-10T00:27:43.939416",
     "exception": false,
     "start_time": "2022-02-10T00:27:43.908102",
     "status": "completed"
    },
    "tags": []
   },
   "outputs": [],
   "source": []
  },
  {
   "cell_type": "code",
   "execution_count": null,
   "id": "mediterranean-pontiac",
   "metadata": {
    "papermill": {
     "duration": 0.031165,
     "end_time": "2022-02-10T00:27:44.001899",
     "exception": false,
     "start_time": "2022-02-10T00:27:43.970734",
     "status": "completed"
    },
    "tags": []
   },
   "outputs": [],
   "source": []
  },
  {
   "cell_type": "code",
   "execution_count": null,
   "id": "aging-legislature",
   "metadata": {
    "papermill": {
     "duration": 0.031332,
     "end_time": "2022-02-10T00:27:44.064706",
     "exception": false,
     "start_time": "2022-02-10T00:27:44.033374",
     "status": "completed"
    },
    "tags": []
   },
   "outputs": [],
   "source": []
  }
 ],
 "metadata": {
  "kernelspec": {
   "display_name": "Python 3",
   "language": "python",
   "name": "python3"
  },
  "language_info": {
   "codemirror_mode": {
    "name": "ipython",
    "version": 3
   },
   "file_extension": ".py",
   "mimetype": "text/x-python",
   "name": "python",
   "nbconvert_exporter": "python",
   "pygments_lexer": "ipython3",
   "version": "3.6.15"
  },
  "papermill": {
   "duration": 6.032695,
   "end_time": "2022-02-10T00:27:44.412490",
   "environment_variables": {},
   "exception": null,
   "input_path": "2020-03-21-covid19exp.ipynb",
   "output_path": "2020-03-21-covid19exp.ipynb",
   "parameters": {},
   "start_time": "2022-02-10T00:27:38.379795",
   "version": "2.0.0"
  }
 },
 "nbformat": 4,
 "nbformat_minor": 5
}