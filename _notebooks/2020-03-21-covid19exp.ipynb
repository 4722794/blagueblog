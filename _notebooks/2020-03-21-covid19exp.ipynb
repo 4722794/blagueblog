{
 "cells": [
  {
   "cell_type": "markdown",
   "id": "muslim-click",
   "metadata": {
    "papermill": {
     "duration": 0.050338,
     "end_time": "2022-08-17T00:48:31.593393",
     "exception": false,
     "start_time": "2022-08-17T00:48:31.543055",
     "status": "completed"
    },
    "tags": []
   },
   "source": [
    "# COVID-19 Case Race\n",
    "> A race chart to see rising cases around the world\n",
    "\n",
    "- author: Hargun Oberoi\n",
    "- image: images/covid-overview.png\n",
    "- hide: false\n",
    "- badges: false"
   ]
  },
  {
   "cell_type": "code",
   "execution_count": 1,
   "id": "proof-material",
   "metadata": {
    "execution": {
     "iopub.execute_input": "2022-08-17T00:48:31.702192Z",
     "iopub.status.busy": "2022-08-17T00:48:31.701221Z",
     "iopub.status.idle": "2022-08-17T00:48:32.162008Z",
     "shell.execute_reply": "2022-08-17T00:48:32.161325Z"
    },
    "papermill": {
     "duration": 0.52697,
     "end_time": "2022-08-17T00:48:32.162168",
     "exception": false,
     "start_time": "2022-08-17T00:48:31.635198",
     "status": "completed"
    },
    "tags": []
   },
   "outputs": [],
   "source": [
    "#hide\n",
    "import numpy as np\n",
    "import pandas as pd\n",
    "from jinja2 import Template\n",
    "from IPython.display import HTML"
   ]
  },
  {
   "cell_type": "code",
   "execution_count": 2,
   "id": "developed-terminology",
   "metadata": {
    "execution": {
     "iopub.execute_input": "2022-08-17T00:48:32.255190Z",
     "iopub.status.busy": "2022-08-17T00:48:32.254206Z",
     "iopub.status.idle": "2022-08-17T00:48:32.256746Z",
     "shell.execute_reply": "2022-08-17T00:48:32.257493Z"
    },
    "papermill": {
     "duration": 0.048241,
     "end_time": "2022-08-17T00:48:32.257675",
     "exception": false,
     "start_time": "2022-08-17T00:48:32.209434",
     "status": "completed"
    },
    "tags": []
   },
   "outputs": [],
   "source": [
    "#hide\n",
    "\n",
    "# FETCH\n",
    "base_url = 'https://raw.githubusercontent.com/pratapvardhan/notebooks/master/covid19/'\n",
    "paths = {\n",
    "    'mapping': base_url + 'mapping_countries.csv',\n",
    "    'overview': base_url + 'overview.tpl'\n",
    "}"
   ]
  },
  {
   "cell_type": "code",
   "execution_count": 3,
   "id": "dynamic-saver",
   "metadata": {
    "execution": {
     "iopub.execute_input": "2022-08-17T00:48:32.362411Z",
     "iopub.status.busy": "2022-08-17T00:48:32.361488Z",
     "iopub.status.idle": "2022-08-17T00:48:32.365579Z",
     "shell.execute_reply": "2022-08-17T00:48:32.366441Z"
    },
    "papermill": {
     "duration": 0.063073,
     "end_time": "2022-08-17T00:48:32.366621",
     "exception": false,
     "start_time": "2022-08-17T00:48:32.303548",
     "status": "completed"
    },
    "tags": []
   },
   "outputs": [
    {
     "data": {
      "text/plain": [
       "'https://raw.githubusercontent.com/pratapvardhan/notebooks/master/covid19/mapping_countries.csv'"
      ]
     },
     "execution_count": 3,
     "metadata": {},
     "output_type": "execute_result"
    }
   ],
   "source": [
    "#hide\n",
    "paths['mapping']"
   ]
  },
  {
   "cell_type": "code",
   "execution_count": 4,
   "id": "urban-software",
   "metadata": {
    "execution": {
     "iopub.execute_input": "2022-08-17T00:48:32.458330Z",
     "iopub.status.busy": "2022-08-17T00:48:32.457490Z",
     "iopub.status.idle": "2022-08-17T00:48:32.461008Z",
     "shell.execute_reply": "2022-08-17T00:48:32.460365Z"
    },
    "papermill": {
     "duration": 0.052269,
     "end_time": "2022-08-17T00:48:32.461152",
     "exception": false,
     "start_time": "2022-08-17T00:48:32.408883",
     "status": "completed"
    },
    "tags": []
   },
   "outputs": [],
   "source": [
    "#hide\n",
    "def get_mappings(url):\n",
    "    df = pd.read_csv(url)\n",
    "    return {\n",
    "        'df': df,\n",
    "        'replace.country': dict(df.dropna(subset=['Name']).set_index('Country')['Name']),\n",
    "        'map.continent': dict(df.set_index('Name')['Continent'])\n",
    "    }"
   ]
  },
  {
   "cell_type": "code",
   "execution_count": 5,
   "id": "intimate-machinery",
   "metadata": {
    "execution": {
     "iopub.execute_input": "2022-08-17T00:48:32.551531Z",
     "iopub.status.busy": "2022-08-17T00:48:32.550707Z",
     "iopub.status.idle": "2022-08-17T00:48:32.587067Z",
     "shell.execute_reply": "2022-08-17T00:48:32.586394Z"
    },
    "papermill": {
     "duration": 0.0861,
     "end_time": "2022-08-17T00:48:32.587240",
     "exception": false,
     "start_time": "2022-08-17T00:48:32.501140",
     "status": "completed"
    },
    "tags": []
   },
   "outputs": [],
   "source": [
    "#hide\n",
    "mapping = get_mappings(paths['mapping'])"
   ]
  },
  {
   "cell_type": "code",
   "execution_count": 6,
   "id": "certified-tactics",
   "metadata": {
    "execution": {
     "iopub.execute_input": "2022-08-17T00:48:32.686073Z",
     "iopub.status.busy": "2022-08-17T00:48:32.684983Z",
     "iopub.status.idle": "2022-08-17T00:48:32.687694Z",
     "shell.execute_reply": "2022-08-17T00:48:32.688501Z"
    },
    "papermill": {
     "duration": 0.059989,
     "end_time": "2022-08-17T00:48:32.688751",
     "exception": false,
     "start_time": "2022-08-17T00:48:32.628762",
     "status": "completed"
    },
    "tags": []
   },
   "outputs": [],
   "source": [
    "#hide\n",
    "def get_template(path):\n",
    "    from urllib.parse import urlparse\n",
    "    if bool(urlparse(path).netloc):\n",
    "        from urllib.request import urlopen\n",
    "        return urlopen(path).read().decode('utf8')\n",
    "    return open(path).read()"
   ]
  },
  {
   "cell_type": "code",
   "execution_count": 7,
   "id": "realistic-blast",
   "metadata": {
    "execution": {
     "iopub.execute_input": "2022-08-17T00:48:32.782232Z",
     "iopub.status.busy": "2022-08-17T00:48:32.781473Z",
     "iopub.status.idle": "2022-08-17T00:48:32.784936Z",
     "shell.execute_reply": "2022-08-17T00:48:32.784327Z"
    },
    "papermill": {
     "duration": 0.049731,
     "end_time": "2022-08-17T00:48:32.785259",
     "exception": false,
     "start_time": "2022-08-17T00:48:32.735528",
     "status": "completed"
    },
    "tags": []
   },
   "outputs": [],
   "source": [
    "#hide\n",
    "def get_frame(name):\n",
    "    url = (\n",
    "        'https://raw.githubusercontent.com/CSSEGISandData/COVID-19/master/csse_covid_19_data/'\n",
    "        f'csse_covid_19_time_series/time_series_covid19_{name}_global.csv')\n",
    "    df = pd.read_csv(url)\n",
    "    # rename countries\n",
    "    df['Country/Region'] = df['Country/Region'].replace(mapping['replace.country'])\n",
    "    return df"
   ]
  },
  {
   "cell_type": "code",
   "execution_count": 8,
   "id": "affiliated-characterization",
   "metadata": {
    "execution": {
     "iopub.execute_input": "2022-08-17T00:48:32.885571Z",
     "iopub.status.busy": "2022-08-17T00:48:32.884685Z",
     "iopub.status.idle": "2022-08-17T00:48:32.889592Z",
     "shell.execute_reply": "2022-08-17T00:48:32.888479Z"
    },
    "papermill": {
     "duration": 0.056977,
     "end_time": "2022-08-17T00:48:32.889747",
     "exception": false,
     "start_time": "2022-08-17T00:48:32.832770",
     "status": "completed"
    },
    "tags": []
   },
   "outputs": [],
   "source": [
    "#hide\n",
    "def get_dates(df):\n",
    "    dt_cols = df.columns[~df.columns.isin(['Province/State', 'Country/Region', 'Lat', 'Long'])]\n",
    "    LAST_DATE_I = -1\n",
    "    # sometimes last column may be empty, then go backwards\n",
    "    for i in range(-1, -len(dt_cols), -1):\n",
    "        if not df[dt_cols[i]].fillna(0).eq(0).all():\n",
    "            LAST_DATE_I = i\n",
    "            break\n",
    "    return LAST_DATE_I, dt_cols"
   ]
  },
  {
   "cell_type": "code",
   "execution_count": 9,
   "id": "recent-optimization",
   "metadata": {
    "execution": {
     "iopub.execute_input": "2022-08-17T00:48:32.976901Z",
     "iopub.status.busy": "2022-08-17T00:48:32.976059Z",
     "iopub.status.idle": "2022-08-17T00:48:33.526785Z",
     "shell.execute_reply": "2022-08-17T00:48:33.526060Z"
    },
    "papermill": {
     "duration": 0.596893,
     "end_time": "2022-08-17T00:48:33.526940",
     "exception": false,
     "start_time": "2022-08-17T00:48:32.930047",
     "status": "completed"
    },
    "tags": []
   },
   "outputs": [],
   "source": [
    "#hide\n",
    "COL_REGION = 'Country/Region'\n",
    "# Confirmed, Recovered, Deaths\n",
    "df = get_frame('confirmed')\n",
    "# dft_: timeseries, dfc_: today country agg\n",
    "dft_cases = df\n",
    "dft_deaths = get_frame('deaths')\n",
    "dft_recovered = get_frame('recovered')\n",
    "LAST_DATE_I, dt_cols = get_dates(df)"
   ]
  },
  {
   "cell_type": "code",
   "execution_count": 10,
   "id": "absolute-copper",
   "metadata": {
    "execution": {
     "iopub.execute_input": "2022-08-17T00:48:33.619236Z",
     "iopub.status.busy": "2022-08-17T00:48:33.618432Z",
     "iopub.status.idle": "2022-08-17T00:48:33.622701Z",
     "shell.execute_reply": "2022-08-17T00:48:33.622005Z"
    },
    "papermill": {
     "duration": 0.051534,
     "end_time": "2022-08-17T00:48:33.622927",
     "exception": false,
     "start_time": "2022-08-17T00:48:33.571393",
     "status": "completed"
    },
    "tags": []
   },
   "outputs": [],
   "source": [
    "#hide\n",
    "LAST_DATE_I, dt_cols = get_dates(df)\n",
    "dt_today =dt_cols[LAST_DATE_I]\n",
    "# dt_5day = dt_cols[LAST_DATE_I - 5]\n",
    "dt_yday = dt_cols[LAST_DATE_I - 1]"
   ]
  },
  {
   "cell_type": "code",
   "execution_count": 11,
   "id": "restricted-sheriff",
   "metadata": {
    "execution": {
     "iopub.execute_input": "2022-08-17T00:48:33.713903Z",
     "iopub.status.busy": "2022-08-17T00:48:33.711925Z",
     "iopub.status.idle": "2022-08-17T00:48:33.722632Z",
     "shell.execute_reply": "2022-08-17T00:48:33.723246Z"
    },
    "papermill": {
     "duration": 0.06053,
     "end_time": "2022-08-17T00:48:33.723403",
     "exception": false,
     "start_time": "2022-08-17T00:48:33.662873",
     "status": "completed"
    },
    "tags": []
   },
   "outputs": [],
   "source": [
    "#hide\n",
    "dfc_cases = dft_cases.groupby(COL_REGION)[dt_today].sum()\n",
    "dfc_deaths = dft_deaths.groupby(COL_REGION)[dt_today].sum()\n",
    "# dfp_cases = dft_cases.groupby(COL_REGION)[dt_5day].sum()\n",
    "# dfp_deaths = dft_deaths.groupby(COL_REGION)[dt_5day].sum()\n",
    "dfp_cases = dft_cases.groupby(COL_REGION)[dt_yday].sum()\n",
    "dfp_deaths = dft_deaths.groupby(COL_REGION)[dt_yday].sum()"
   ]
  },
  {
   "cell_type": "code",
   "execution_count": 12,
   "id": "deluxe-hepatitis",
   "metadata": {
    "execution": {
     "iopub.execute_input": "2022-08-17T00:48:33.814776Z",
     "iopub.status.busy": "2022-08-17T00:48:33.813848Z",
     "iopub.status.idle": "2022-08-17T00:48:33.817946Z",
     "shell.execute_reply": "2022-08-17T00:48:33.818741Z"
    },
    "papermill": {
     "duration": 0.056321,
     "end_time": "2022-08-17T00:48:33.818906",
     "exception": false,
     "start_time": "2022-08-17T00:48:33.762585",
     "status": "completed"
    },
    "tags": []
   },
   "outputs": [],
   "source": [
    "#hide\n",
    "df_table = (pd.DataFrame(dict(Cases = dfc_cases, Deaths = dfc_deaths, PCases = dfp_cases, PDeaths = dfp_deaths))\n",
    "            .sort_values(by = ['Cases','Deaths'], ascending = [False, False])\n",
    "            .reset_index())"
   ]
  },
  {
   "cell_type": "code",
   "execution_count": 13,
   "id": "educational-chancellor",
   "metadata": {
    "execution": {
     "iopub.execute_input": "2022-08-17T00:48:33.924029Z",
     "iopub.status.busy": "2022-08-17T00:48:33.923193Z",
     "iopub.status.idle": "2022-08-17T00:48:33.934383Z",
     "shell.execute_reply": "2022-08-17T00:48:33.933633Z"
    },
    "papermill": {
     "duration": 0.076456,
     "end_time": "2022-08-17T00:48:33.934536",
     "exception": false,
     "start_time": "2022-08-17T00:48:33.858080",
     "status": "completed"
    },
    "tags": []
   },
   "outputs": [
    {
     "data": {
      "text/html": [
       "<div>\n",
       "<style scoped>\n",
       "    .dataframe tbody tr th:only-of-type {\n",
       "        vertical-align: middle;\n",
       "    }\n",
       "\n",
       "    .dataframe tbody tr th {\n",
       "        vertical-align: top;\n",
       "    }\n",
       "\n",
       "    .dataframe thead th {\n",
       "        text-align: right;\n",
       "    }\n",
       "</style>\n",
       "<table border=\"1\" class=\"dataframe\">\n",
       "  <thead>\n",
       "    <tr style=\"text-align: right;\">\n",
       "      <th></th>\n",
       "      <th>Country/Region</th>\n",
       "      <th>Cases</th>\n",
       "      <th>Deaths</th>\n",
       "      <th>PCases</th>\n",
       "      <th>PDeaths</th>\n",
       "      <th>Cases (+)</th>\n",
       "      <th>Deaths (+)</th>\n",
       "      <th>Fatality Rate</th>\n",
       "      <th>Continent</th>\n",
       "    </tr>\n",
       "  </thead>\n",
       "  <tbody>\n",
       "    <tr>\n",
       "      <th>0</th>\n",
       "      <td>US</td>\n",
       "      <td>93026647</td>\n",
       "      <td>1037461</td>\n",
       "      <td>92927104</td>\n",
       "      <td>1037021</td>\n",
       "      <td>99543</td>\n",
       "      <td>440</td>\n",
       "      <td>1.12</td>\n",
       "      <td>North America</td>\n",
       "    </tr>\n",
       "    <tr>\n",
       "      <th>1</th>\n",
       "      <td>India</td>\n",
       "      <td>44277711</td>\n",
       "      <td>527098</td>\n",
       "      <td>44268381</td>\n",
       "      <td>527069</td>\n",
       "      <td>9330</td>\n",
       "      <td>29</td>\n",
       "      <td>1.19</td>\n",
       "      <td>Asia</td>\n",
       "    </tr>\n",
       "    <tr>\n",
       "      <th>2</th>\n",
       "      <td>France</td>\n",
       "      <td>34406296</td>\n",
       "      <td>154104</td>\n",
       "      <td>34406092</td>\n",
       "      <td>154104</td>\n",
       "      <td>204</td>\n",
       "      <td>0</td>\n",
       "      <td>0.45</td>\n",
       "      <td>Europe</td>\n",
       "    </tr>\n",
       "    <tr>\n",
       "      <th>3</th>\n",
       "      <td>Brazil</td>\n",
       "      <td>34178240</td>\n",
       "      <td>681557</td>\n",
       "      <td>34148131</td>\n",
       "      <td>681253</td>\n",
       "      <td>30109</td>\n",
       "      <td>304</td>\n",
       "      <td>1.99</td>\n",
       "      <td>South America</td>\n",
       "    </tr>\n",
       "    <tr>\n",
       "      <th>4</th>\n",
       "      <td>Germany</td>\n",
       "      <td>31599085</td>\n",
       "      <td>145838</td>\n",
       "      <td>31535340</td>\n",
       "      <td>145698</td>\n",
       "      <td>63745</td>\n",
       "      <td>140</td>\n",
       "      <td>0.46</td>\n",
       "      <td>Europe</td>\n",
       "    </tr>\n",
       "  </tbody>\n",
       "</table>\n",
       "</div>"
      ],
      "text/plain": [
       "  Country/Region     Cases   Deaths    PCases  PDeaths  Cases (+)  Deaths (+)  \\\n",
       "0             US  93026647  1037461  92927104  1037021      99543         440   \n",
       "1          India  44277711   527098  44268381   527069       9330          29   \n",
       "2         France  34406296   154104  34406092   154104        204           0   \n",
       "3         Brazil  34178240   681557  34148131   681253      30109         304   \n",
       "4        Germany  31599085   145838  31535340   145698      63745         140   \n",
       "\n",
       "   Fatality Rate      Continent  \n",
       "0           1.12  North America  \n",
       "1           1.19           Asia  \n",
       "2           0.45         Europe  \n",
       "3           1.99  South America  \n",
       "4           0.46         Europe  "
      ]
     },
     "execution_count": 13,
     "metadata": {},
     "output_type": "execute_result"
    }
   ],
   "source": [
    "#hide\n",
    "for c in 'Cases, Deaths'.split(', '):\n",
    "    df_table[f'{c} (+)'] = (df_table[c] - df_table[f'P{c}']).clip(0)\n",
    "    #Clip ça veut dire, les chiffres negatif sont interdit\n",
    "df_table['Fatality Rate'] = (100* df_table['Deaths']/ df_table['Cases']).round(2)\n",
    "df_table['Continent'] = df_table['Country/Region'].map(mapping['map.continent'])\n",
    "df_table.head(5)"
   ]
  },
  {
   "cell_type": "code",
   "execution_count": 14,
   "id": "aboriginal-bulgaria",
   "metadata": {
    "execution": {
     "iopub.execute_input": "2022-08-17T00:48:34.028807Z",
     "iopub.status.busy": "2022-08-17T00:48:34.027994Z",
     "iopub.status.idle": "2022-08-17T00:48:34.032439Z",
     "shell.execute_reply": "2022-08-17T00:48:34.031644Z"
    },
    "papermill": {
     "duration": 0.057468,
     "end_time": "2022-08-17T00:48:34.032620",
     "exception": false,
     "start_time": "2022-08-17T00:48:33.975152",
     "status": "completed"
    },
    "tags": []
   },
   "outputs": [],
   "source": [
    "#hide\n",
    "#delete problematic countries from table\n",
    "df_table = df_table[~df_table['Country/Region'].isin(['Cape Verde', 'Cruise Ship', 'Kosovo'])]"
   ]
  },
  {
   "cell_type": "code",
   "execution_count": 15,
   "id": "fantastic-effect",
   "metadata": {
    "execution": {
     "iopub.execute_input": "2022-08-17T00:48:34.132725Z",
     "iopub.status.busy": "2022-08-17T00:48:34.130974Z",
     "iopub.status.idle": "2022-08-17T00:48:34.159988Z",
     "shell.execute_reply": "2022-08-17T00:48:34.159370Z"
    },
    "papermill": {
     "duration": 0.084238,
     "end_time": "2022-08-17T00:48:34.160132",
     "exception": false,
     "start_time": "2022-08-17T00:48:34.075894",
     "status": "completed"
    },
    "tags": []
   },
   "outputs": [
    {
     "data": {
      "text/html": [
       "<div>\n",
       "<style scoped>\n",
       "    .dataframe tbody tr th:only-of-type {\n",
       "        vertical-align: middle;\n",
       "    }\n",
       "\n",
       "    .dataframe tbody tr th {\n",
       "        vertical-align: top;\n",
       "    }\n",
       "\n",
       "    .dataframe thead th {\n",
       "        text-align: right;\n",
       "    }\n",
       "</style>\n",
       "<table border=\"1\" class=\"dataframe\">\n",
       "  <thead>\n",
       "    <tr style=\"text-align: right;\">\n",
       "      <th></th>\n",
       "      <th>Country/Region</th>\n",
       "      <th>Cases</th>\n",
       "      <th>Deaths</th>\n",
       "      <th>PCases</th>\n",
       "      <th>PDeaths</th>\n",
       "      <th>Cases (+)</th>\n",
       "      <th>Deaths (+)</th>\n",
       "      <th>Fatality Rate</th>\n",
       "      <th>Continent</th>\n",
       "    </tr>\n",
       "  </thead>\n",
       "  <tbody>\n",
       "    <tr>\n",
       "      <th>0</th>\n",
       "      <td>US</td>\n",
       "      <td>93026647</td>\n",
       "      <td>1037461</td>\n",
       "      <td>92927104</td>\n",
       "      <td>1037021</td>\n",
       "      <td>99543</td>\n",
       "      <td>440</td>\n",
       "      <td>1.1</td>\n",
       "      <td>North America</td>\n",
       "    </tr>\n",
       "    <tr>\n",
       "      <th>1</th>\n",
       "      <td>India</td>\n",
       "      <td>44277711</td>\n",
       "      <td>527098</td>\n",
       "      <td>44268381</td>\n",
       "      <td>527069</td>\n",
       "      <td>9330</td>\n",
       "      <td>29</td>\n",
       "      <td>1.2</td>\n",
       "      <td>Asia</td>\n",
       "    </tr>\n",
       "    <tr>\n",
       "      <th>2</th>\n",
       "      <td>France</td>\n",
       "      <td>34406296</td>\n",
       "      <td>154104</td>\n",
       "      <td>34406092</td>\n",
       "      <td>154104</td>\n",
       "      <td>204</td>\n",
       "      <td>0</td>\n",
       "      <td>0.4</td>\n",
       "      <td>Europe</td>\n",
       "    </tr>\n",
       "    <tr>\n",
       "      <th>3</th>\n",
       "      <td>Brazil</td>\n",
       "      <td>34178240</td>\n",
       "      <td>681557</td>\n",
       "      <td>34148131</td>\n",
       "      <td>681253</td>\n",
       "      <td>30109</td>\n",
       "      <td>304</td>\n",
       "      <td>2.0</td>\n",
       "      <td>South America</td>\n",
       "    </tr>\n",
       "    <tr>\n",
       "      <th>4</th>\n",
       "      <td>Germany</td>\n",
       "      <td>31599085</td>\n",
       "      <td>145838</td>\n",
       "      <td>31535340</td>\n",
       "      <td>145698</td>\n",
       "      <td>63745</td>\n",
       "      <td>140</td>\n",
       "      <td>0.5</td>\n",
       "      <td>Europe</td>\n",
       "    </tr>\n",
       "  </tbody>\n",
       "</table>\n",
       "</div>"
      ],
      "text/plain": [
       "  Country/Region     Cases   Deaths    PCases  PDeaths  Cases (+)  Deaths (+)  \\\n",
       "0             US  93026647  1037461  92927104  1037021      99543         440   \n",
       "1          India  44277711   527098  44268381   527069       9330          29   \n",
       "2         France  34406296   154104  34406092   154104        204           0   \n",
       "3         Brazil  34178240   681557  34148131   681253      30109         304   \n",
       "4        Germany  31599085   145838  31535340   145698      63745         140   \n",
       "\n",
       "   Fatality Rate      Continent  \n",
       "0            1.1  North America  \n",
       "1            1.2           Asia  \n",
       "2            0.4         Europe  \n",
       "3            2.0  South America  \n",
       "4            0.5         Europe  "
      ]
     },
     "execution_count": 15,
     "metadata": {},
     "output_type": "execute_result"
    }
   ],
   "source": [
    "#hide\n",
    "df_table = (pd.DataFrame(dict(Cases=dfc_cases, Deaths=dfc_deaths, PCases=dfp_cases, PDeaths=dfp_deaths))\n",
    "             .sort_values(by=['Cases', 'Deaths'], ascending=[False, False])\n",
    "             .reset_index())\n",
    "df_table.rename(columns={'index': 'Country/Region'}, inplace=True)\n",
    "for c in 'Cases, Deaths'.split(', '):\n",
    "    df_table[f'{c} (+)'] = (df_table[c] - df_table[f'P{c}']).clip(0)  # DATA BUG\n",
    "df_table['Fatality Rate'] = (100 * df_table['Deaths'] / df_table['Cases']).round(1)\n",
    "df_table['Continent'] = df_table['Country/Region'].map(mapping['map.continent'])\n",
    "df_table.head(5)"
   ]
  },
  {
   "cell_type": "code",
   "execution_count": 16,
   "id": "fewer-occasion",
   "metadata": {
    "execution": {
     "iopub.execute_input": "2022-08-17T00:48:34.251681Z",
     "iopub.status.busy": "2022-08-17T00:48:34.250814Z",
     "iopub.status.idle": "2022-08-17T00:48:34.254335Z",
     "shell.execute_reply": "2022-08-17T00:48:34.253433Z"
    },
    "papermill": {
     "duration": 0.052257,
     "end_time": "2022-08-17T00:48:34.254494",
     "exception": false,
     "start_time": "2022-08-17T00:48:34.202237",
     "status": "completed"
    },
    "tags": []
   },
   "outputs": [],
   "source": [
    "#hide\n",
    "#delete problematic countries from table\n",
    "df_table = df_table[~df_table['Country/Region'].isin(['Cape Verde', 'Cruise Ship', 'Kosovo'])]"
   ]
  },
  {
   "cell_type": "code",
   "execution_count": 17,
   "id": "related-center",
   "metadata": {
    "execution": {
     "iopub.execute_input": "2022-08-17T00:48:34.348604Z",
     "iopub.status.busy": "2022-08-17T00:48:34.347820Z",
     "iopub.status.idle": "2022-08-17T00:48:34.363976Z",
     "shell.execute_reply": "2022-08-17T00:48:34.363330Z"
    },
    "papermill": {
     "duration": 0.068262,
     "end_time": "2022-08-17T00:48:34.364124",
     "exception": false,
     "start_time": "2022-08-17T00:48:34.295862",
     "status": "completed"
    },
    "tags": []
   },
   "outputs": [],
   "source": [
    "#hide\n",
    "metrics = [df_table.columns[index] for index in [1,2,5,6]]\n",
    "# s_china = df_table[df_table['Country/Region'].eq('China')][metrics].sum().add_prefix('China ')\n",
    "s_us = df_table[df_table['Country/Region'].eq('US')][metrics].sum().add_prefix('US ')\n",
    "s_eu = df_table[df_table['Continent'].eq('Europe')][metrics].sum().add_prefix('EU ')\n",
    "s_ind = df_table[df_table['Country/Region'].eq('India')][metrics].sum().add_prefix('India ')\n",
    "summary = {'updated': pd.to_datetime(dt_today), 'since': pd.to_datetime(dt_yday)}\n",
    "summary = {'updated': pd.to_datetime(dt_today), 'since': pd.to_datetime(dt_yday)}\n",
    "summary = {**summary, **df_table[metrics].sum(), **s_ind, **s_us, **s_eu}"
   ]
  },
  {
   "cell_type": "code",
   "execution_count": 18,
   "id": "engaging-syndrome",
   "metadata": {
    "execution": {
     "iopub.execute_input": "2022-08-17T00:48:34.459695Z",
     "iopub.status.busy": "2022-08-17T00:48:34.458945Z",
     "iopub.status.idle": "2022-08-17T00:48:34.482741Z",
     "shell.execute_reply": "2022-08-17T00:48:34.481865Z"
    },
    "papermill": {
     "duration": 0.072567,
     "end_time": "2022-08-17T00:48:34.482896",
     "exception": false,
     "start_time": "2022-08-17T00:48:34.410329",
     "status": "completed"
    },
    "tags": []
   },
   "outputs": [],
   "source": [
    "#hide\n",
    "dft_ct_new_cases = dft_cases.groupby(COL_REGION)[dt_cols].sum().diff(axis=1).fillna(0).astype(int)"
   ]
  },
  {
   "cell_type": "code",
   "execution_count": 19,
   "id": "neutral-assignment",
   "metadata": {
    "execution": {
     "iopub.execute_input": "2022-08-17T00:48:34.585147Z",
     "iopub.status.busy": "2022-08-17T00:48:34.584372Z",
     "iopub.status.idle": "2022-08-17T00:48:34.588558Z",
     "shell.execute_reply": "2022-08-17T00:48:34.587932Z"
    },
    "papermill": {
     "duration": 0.058441,
     "end_time": "2022-08-17T00:48:34.588704",
     "exception": false,
     "start_time": "2022-08-17T00:48:34.530263",
     "status": "completed"
    },
    "tags": []
   },
   "outputs": [],
   "source": [
    "#hide\n",
    "everydaycases = dft_ct_new_cases.cumsum(axis=1)"
   ]
  },
  {
   "cell_type": "code",
   "execution_count": 20,
   "id": "parliamentary-calgary",
   "metadata": {
    "execution": {
     "iopub.execute_input": "2022-08-17T00:48:34.684006Z",
     "iopub.status.busy": "2022-08-17T00:48:34.683236Z",
     "iopub.status.idle": "2022-08-17T00:48:35.421321Z",
     "shell.execute_reply": "2022-08-17T00:48:35.420635Z"
    },
    "papermill": {
     "duration": 0.785526,
     "end_time": "2022-08-17T00:48:35.421476",
     "exception": false,
     "start_time": "2022-08-17T00:48:34.635950",
     "status": "completed"
    },
    "tags": []
   },
   "outputs": [],
   "source": [
    "#hide\n",
    "import pandas as pd\n",
    "import matplotlib.pyplot as plt\n",
    "import matplotlib.ticker as ticker\n",
    "import matplotlib.animation as animation\n",
    "from IPython.display import HTML"
   ]
  },
  {
   "cell_type": "code",
   "execution_count": 21,
   "id": "lasting-extraction",
   "metadata": {
    "execution": {
     "iopub.execute_input": "2022-08-17T00:48:35.522785Z",
     "iopub.status.busy": "2022-08-17T00:48:35.521640Z",
     "iopub.status.idle": "2022-08-17T00:48:35.529649Z",
     "shell.execute_reply": "2022-08-17T00:48:35.530410Z"
    },
    "papermill": {
     "duration": 0.067718,
     "end_time": "2022-08-17T00:48:35.530574",
     "exception": false,
     "start_time": "2022-08-17T00:48:35.462856",
     "status": "completed"
    },
    "tags": []
   },
   "outputs": [],
   "source": [
    "#hide\n",
    "t = everydaycases.stack()"
   ]
  },
  {
   "cell_type": "code",
   "execution_count": 22,
   "id": "premier-sleeve",
   "metadata": {
    "execution": {
     "iopub.execute_input": "2022-08-17T00:48:35.621122Z",
     "iopub.status.busy": "2022-08-17T00:48:35.620236Z",
     "iopub.status.idle": "2022-08-17T00:48:35.638988Z",
     "shell.execute_reply": "2022-08-17T00:48:35.639623Z"
    },
    "papermill": {
     "duration": 0.06757,
     "end_time": "2022-08-17T00:48:35.639797",
     "exception": false,
     "start_time": "2022-08-17T00:48:35.572227",
     "status": "completed"
    },
    "tags": []
   },
   "outputs": [],
   "source": [
    "#hide\n",
    "g = t.reset_index(['Country/Region'])"
   ]
  },
  {
   "cell_type": "code",
   "execution_count": 23,
   "id": "distributed-pittsburgh",
   "metadata": {
    "execution": {
     "iopub.execute_input": "2022-08-17T00:48:35.737325Z",
     "iopub.status.busy": "2022-08-17T00:48:35.736561Z",
     "iopub.status.idle": "2022-08-17T00:48:35.741732Z",
     "shell.execute_reply": "2022-08-17T00:48:35.741091Z"
    },
    "papermill": {
     "duration": 0.059185,
     "end_time": "2022-08-17T00:48:35.741894",
     "exception": false,
     "start_time": "2022-08-17T00:48:35.682709",
     "status": "completed"
    },
    "tags": []
   },
   "outputs": [],
   "source": [
    "#hide\n",
    "g.index.name = 'date'"
   ]
  },
  {
   "cell_type": "code",
   "execution_count": 24,
   "id": "naked-donor",
   "metadata": {
    "execution": {
     "iopub.execute_input": "2022-08-17T00:48:35.831332Z",
     "iopub.status.busy": "2022-08-17T00:48:35.829399Z",
     "iopub.status.idle": "2022-08-17T00:48:35.832116Z",
     "shell.execute_reply": "2022-08-17T00:48:35.832740Z"
    },
    "papermill": {
     "duration": 0.050091,
     "end_time": "2022-08-17T00:48:35.832881",
     "exception": false,
     "start_time": "2022-08-17T00:48:35.782790",
     "status": "completed"
    },
    "tags": []
   },
   "outputs": [],
   "source": [
    "# #hide\n",
    "# g = g.reset_index(['date'])"
   ]
  },
  {
   "cell_type": "code",
   "execution_count": 25,
   "id": "incomplete-mustang",
   "metadata": {
    "execution": {
     "iopub.execute_input": "2022-08-17T00:48:35.920459Z",
     "iopub.status.busy": "2022-08-17T00:48:35.919666Z",
     "iopub.status.idle": "2022-08-17T00:48:35.925177Z",
     "shell.execute_reply": "2022-08-17T00:48:35.924461Z"
    },
    "papermill": {
     "duration": 0.05055,
     "end_time": "2022-08-17T00:48:35.925334",
     "exception": false,
     "start_time": "2022-08-17T00:48:35.874784",
     "status": "completed"
    },
    "tags": []
   },
   "outputs": [],
   "source": [
    "#hide\n",
    "# g.head()"
   ]
  },
  {
   "cell_type": "code",
   "execution_count": 26,
   "id": "specific-kruger",
   "metadata": {
    "execution": {
     "iopub.execute_input": "2022-08-17T00:48:36.013864Z",
     "iopub.status.busy": "2022-08-17T00:48:36.013080Z",
     "iopub.status.idle": "2022-08-17T00:48:36.016628Z",
     "shell.execute_reply": "2022-08-17T00:48:36.015976Z"
    },
    "papermill": {
     "duration": 0.048204,
     "end_time": "2022-08-17T00:48:36.016767",
     "exception": false,
     "start_time": "2022-08-17T00:48:35.968563",
     "status": "completed"
    },
    "tags": []
   },
   "outputs": [],
   "source": [
    "#hide\n",
    "# g.columns = ['date','country','cases']"
   ]
  },
  {
   "cell_type": "code",
   "execution_count": 27,
   "id": "tender-conversion",
   "metadata": {
    "execution": {
     "iopub.execute_input": "2022-08-17T00:48:36.111029Z",
     "iopub.status.busy": "2022-08-17T00:48:36.110121Z",
     "iopub.status.idle": "2022-08-17T00:48:36.113385Z",
     "shell.execute_reply": "2022-08-17T00:48:36.112553Z"
    },
    "papermill": {
     "duration": 0.05145,
     "end_time": "2022-08-17T00:48:36.113520",
     "exception": false,
     "start_time": "2022-08-17T00:48:36.062070",
     "status": "completed"
    },
    "tags": []
   },
   "outputs": [],
   "source": [
    "#hide\n",
    "# g['continent'] = g.country"
   ]
  },
  {
   "cell_type": "code",
   "execution_count": 28,
   "id": "substantial-wilderness",
   "metadata": {
    "execution": {
     "iopub.execute_input": "2022-08-17T00:48:36.202810Z",
     "iopub.status.busy": "2022-08-17T00:48:36.202032Z",
     "iopub.status.idle": "2022-08-17T00:48:36.205373Z",
     "shell.execute_reply": "2022-08-17T00:48:36.204739Z"
    },
    "papermill": {
     "duration": 0.049269,
     "end_time": "2022-08-17T00:48:36.205518",
     "exception": false,
     "start_time": "2022-08-17T00:48:36.156249",
     "status": "completed"
    },
    "tags": []
   },
   "outputs": [],
   "source": [
    "#hide\n",
    "# cols = list(g.columns.values)"
   ]
  },
  {
   "cell_type": "code",
   "execution_count": 29,
   "id": "solved-farming",
   "metadata": {
    "execution": {
     "iopub.execute_input": "2022-08-17T00:48:36.298240Z",
     "iopub.status.busy": "2022-08-17T00:48:36.297432Z",
     "iopub.status.idle": "2022-08-17T00:48:36.304916Z",
     "shell.execute_reply": "2022-08-17T00:48:36.303137Z"
    },
    "papermill": {
     "duration": 0.058611,
     "end_time": "2022-08-17T00:48:36.305144",
     "exception": false,
     "start_time": "2022-08-17T00:48:36.246533",
     "status": "completed"
    },
    "tags": []
   },
   "outputs": [],
   "source": [
    "#hide\n",
    "# cols.insert(0, cols.pop())"
   ]
  },
  {
   "cell_type": "code",
   "execution_count": 30,
   "id": "executed-adoption",
   "metadata": {
    "execution": {
     "iopub.execute_input": "2022-08-17T00:48:36.396421Z",
     "iopub.status.busy": "2022-08-17T00:48:36.395605Z",
     "iopub.status.idle": "2022-08-17T00:48:36.397486Z",
     "shell.execute_reply": "2022-08-17T00:48:36.398212Z"
    },
    "papermill": {
     "duration": 0.051697,
     "end_time": "2022-08-17T00:48:36.398397",
     "exception": false,
     "start_time": "2022-08-17T00:48:36.346700",
     "status": "completed"
    },
    "tags": []
   },
   "outputs": [],
   "source": [
    "#hide\n",
    "# g = g[cols]"
   ]
  },
  {
   "cell_type": "code",
   "execution_count": 31,
   "id": "subject-dublin",
   "metadata": {
    "execution": {
     "iopub.execute_input": "2022-08-17T00:48:36.485573Z",
     "iopub.status.busy": "2022-08-17T00:48:36.484687Z",
     "iopub.status.idle": "2022-08-17T00:48:36.494478Z",
     "shell.execute_reply": "2022-08-17T00:48:36.493728Z"
    },
    "papermill": {
     "duration": 0.055072,
     "end_time": "2022-08-17T00:48:36.494646",
     "exception": false,
     "start_time": "2022-08-17T00:48:36.439574",
     "status": "completed"
    },
    "tags": []
   },
   "outputs": [],
   "source": [
    "#hide\n",
    "# g['continent'] = g['continent'].map(mapping['map.continent'])"
   ]
  },
  {
   "cell_type": "code",
   "execution_count": 32,
   "id": "freelance-scout",
   "metadata": {
    "execution": {
     "iopub.execute_input": "2022-08-17T00:48:36.584497Z",
     "iopub.status.busy": "2022-08-17T00:48:36.583729Z",
     "iopub.status.idle": "2022-08-17T00:48:36.586968Z",
     "shell.execute_reply": "2022-08-17T00:48:36.587811Z"
    },
    "papermill": {
     "duration": 0.051654,
     "end_time": "2022-08-17T00:48:36.587990",
     "exception": false,
     "start_time": "2022-08-17T00:48:36.536336",
     "status": "completed"
    },
    "tags": []
   },
   "outputs": [],
   "source": [
    "#hide\n",
    "# g.head()"
   ]
  },
  {
   "cell_type": "code",
   "execution_count": 33,
   "id": "limited-engine",
   "metadata": {
    "execution": {
     "iopub.execute_input": "2022-08-17T00:48:36.682252Z",
     "iopub.status.busy": "2022-08-17T00:48:36.681482Z",
     "iopub.status.idle": "2022-08-17T00:48:36.684954Z",
     "shell.execute_reply": "2022-08-17T00:48:36.684364Z"
    },
    "papermill": {
     "duration": 0.047848,
     "end_time": "2022-08-17T00:48:36.685104",
     "exception": false,
     "start_time": "2022-08-17T00:48:36.637256",
     "status": "completed"
    },
    "tags": []
   },
   "outputs": [],
   "source": [
    "# hide\n",
    "# g['date'] = g['date'].astype('datetime64[ns]')"
   ]
  },
  {
   "cell_type": "code",
   "execution_count": 34,
   "id": "sophisticated-supervisor",
   "metadata": {
    "execution": {
     "iopub.execute_input": "2022-08-17T00:48:36.776312Z",
     "iopub.status.busy": "2022-08-17T00:48:36.775457Z",
     "iopub.status.idle": "2022-08-17T00:48:36.777646Z",
     "shell.execute_reply": "2022-08-17T00:48:36.778466Z"
    },
    "papermill": {
     "duration": 0.049301,
     "end_time": "2022-08-17T00:48:36.778631",
     "exception": false,
     "start_time": "2022-08-17T00:48:36.729330",
     "status": "completed"
    },
    "tags": []
   },
   "outputs": [],
   "source": [
    "#hide\n",
    "# g['date'] = g.date.dt.dayofyear"
   ]
  },
  {
   "cell_type": "code",
   "execution_count": 35,
   "id": "inside-dubai",
   "metadata": {
    "execution": {
     "iopub.execute_input": "2022-08-17T00:48:36.881910Z",
     "iopub.status.busy": "2022-08-17T00:48:36.881142Z",
     "iopub.status.idle": "2022-08-17T00:48:36.884556Z",
     "shell.execute_reply": "2022-08-17T00:48:36.883936Z"
    },
    "papermill": {
     "duration": 0.050851,
     "end_time": "2022-08-17T00:48:36.884726",
     "exception": false,
     "start_time": "2022-08-17T00:48:36.833875",
     "status": "completed"
    },
    "tags": []
   },
   "outputs": [],
   "source": [
    "#hide\n",
    "# g = g.rename(columns= {'continent':'group','country':'name','cases':'value'})"
   ]
  },
  {
   "cell_type": "code",
   "execution_count": 36,
   "id": "fleet-motorcycle",
   "metadata": {
    "execution": {
     "iopub.execute_input": "2022-08-17T00:48:36.978715Z",
     "iopub.status.busy": "2022-08-17T00:48:36.977869Z",
     "iopub.status.idle": "2022-08-17T00:48:36.981051Z",
     "shell.execute_reply": "2022-08-17T00:48:36.980294Z"
    },
    "papermill": {
     "duration": 0.054978,
     "end_time": "2022-08-17T00:48:36.981188",
     "exception": false,
     "start_time": "2022-08-17T00:48:36.926210",
     "status": "completed"
    },
    "tags": []
   },
   "outputs": [],
   "source": [
    "#hide\n",
    "# cols = ['name','group','day','value']"
   ]
  },
  {
   "cell_type": "code",
   "execution_count": 37,
   "id": "continued-sleeping",
   "metadata": {
    "execution": {
     "iopub.execute_input": "2022-08-17T00:48:37.072276Z",
     "iopub.status.busy": "2022-08-17T00:48:37.071526Z",
     "iopub.status.idle": "2022-08-17T00:48:37.075287Z",
     "shell.execute_reply": "2022-08-17T00:48:37.074557Z"
    },
    "papermill": {
     "duration": 0.053276,
     "end_time": "2022-08-17T00:48:37.075420",
     "exception": false,
     "start_time": "2022-08-17T00:48:37.022144",
     "status": "completed"
    },
    "tags": []
   },
   "outputs": [],
   "source": [
    "#hide\n",
    "# g.rename(columns= {'date':'day'},inplace = True)"
   ]
  },
  {
   "cell_type": "code",
   "execution_count": 38,
   "id": "major-fight",
   "metadata": {
    "execution": {
     "iopub.execute_input": "2022-08-17T00:48:37.163003Z",
     "iopub.status.busy": "2022-08-17T00:48:37.162180Z",
     "iopub.status.idle": "2022-08-17T00:48:37.165532Z",
     "shell.execute_reply": "2022-08-17T00:48:37.164732Z"
    },
    "papermill": {
     "duration": 0.048387,
     "end_time": "2022-08-17T00:48:37.165692",
     "exception": false,
     "start_time": "2022-08-17T00:48:37.117305",
     "status": "completed"
    },
    "tags": []
   },
   "outputs": [],
   "source": [
    "#hide\n",
    "# g = g[cols]"
   ]
  },
  {
   "cell_type": "code",
   "execution_count": 39,
   "id": "structured-mobile",
   "metadata": {
    "execution": {
     "iopub.execute_input": "2022-08-17T00:48:37.257726Z",
     "iopub.status.busy": "2022-08-17T00:48:37.256871Z",
     "iopub.status.idle": "2022-08-17T00:48:37.260509Z",
     "shell.execute_reply": "2022-08-17T00:48:37.259717Z"
    },
    "papermill": {
     "duration": 0.05037,
     "end_time": "2022-08-17T00:48:37.260728",
     "exception": false,
     "start_time": "2022-08-17T00:48:37.210358",
     "status": "completed"
    },
    "tags": []
   },
   "outputs": [],
   "source": [
    "# #hide\n",
    "# g = g[g.group.notna()]"
   ]
  },
  {
   "cell_type": "code",
   "execution_count": 40,
   "id": "determined-closing",
   "metadata": {
    "execution": {
     "iopub.execute_input": "2022-08-17T00:48:37.354549Z",
     "iopub.status.busy": "2022-08-17T00:48:37.353730Z",
     "iopub.status.idle": "2022-08-17T00:48:37.357253Z",
     "shell.execute_reply": "2022-08-17T00:48:37.356622Z"
    },
    "papermill": {
     "duration": 0.05117,
     "end_time": "2022-08-17T00:48:37.357421",
     "exception": false,
     "start_time": "2022-08-17T00:48:37.306251",
     "status": "completed"
    },
    "tags": []
   },
   "outputs": [],
   "source": [
    "# #hide\n",
    "# colors = dict(zip(\n",
    "#     [\"Oceania\", \"Europe\", \"Asia\", \"South America\", \"Middle East\", \"North America\", \"Africa\"],\n",
    "#     [\"#adb0ff\", \"#ffb3ff\", \"#90d595\", \"#e48381\", \"#aafbff\", \"#f7bb5f\", \"#eafb50\"]\n",
    "# ))\n",
    "# group_lk = g.set_index('name')['group'].to_dict()"
   ]
  },
  {
   "cell_type": "code",
   "execution_count": null,
   "id": "gross-drinking",
   "metadata": {
    "papermill": {
     "duration": 0.044139,
     "end_time": "2022-08-17T00:48:37.441761",
     "exception": false,
     "start_time": "2022-08-17T00:48:37.397622",
     "status": "completed"
    },
    "tags": []
   },
   "outputs": [],
   "source": []
  },
  {
   "cell_type": "code",
   "execution_count": 41,
   "id": "subject-macintosh",
   "metadata": {
    "execution": {
     "iopub.execute_input": "2022-08-17T00:48:37.529246Z",
     "iopub.status.busy": "2022-08-17T00:48:37.528441Z",
     "iopub.status.idle": "2022-08-17T00:48:37.532050Z",
     "shell.execute_reply": "2022-08-17T00:48:37.532684Z"
    },
    "papermill": {
     "duration": 0.050217,
     "end_time": "2022-08-17T00:48:37.532836",
     "exception": false,
     "start_time": "2022-08-17T00:48:37.482619",
     "status": "completed"
    },
    "tags": []
   },
   "outputs": [],
   "source": [
    "# #hide\n",
    "# fig, ax = plt.subplots(figsize=(15, 8))\n",
    "\n",
    "# def draw_barchart(current_day):\n",
    "#     dff = g[g['day'].eq(current_day)].sort_values(by='value', ascending=True).tail(10)\n",
    "#     ax.clear()\n",
    "#     ax.barh(dff['name'], dff['value'], color=[colors[group_lk[x]] for x in dff['name']])\n",
    "#     dx = dff['value'].max() / 200\n",
    "    \n",
    "#     for i, (value, name) in enumerate(zip(dff['value'], dff['name'])):\n",
    "#         ax.text(value-dx, i,     name,           size=14, weight=600, ha='right', va='bottom')\n",
    "#         ax.text(value-dx, i-.25, group_lk[name], size=10, color='#444444', ha='right', va='baseline')\n",
    "#         ax.text(value+dx, i,     f'{value:,.0f}',  size=14, ha='left',  va='center')\n",
    "#     ax.text(1, 0.4, current_day, transform=ax.transAxes, color='#777777', size=46, ha='right', weight=800)\n",
    "#     ax.text(0, 1.06, 'Population (thousands)', transform=ax.transAxes, size=12, color='#777777')\n",
    "#     ax.xaxis.set_major_formatter(ticker.StrMethodFormatter('{x:,.0f}'))\n",
    "#     ax.xaxis.set_ticks_position('top')\n",
    "#     ax.tick_params(axis='x', colors='#777777', labelsize=12)\n",
    "#     ax.set_yticks([])\n",
    "#     ax.margins(0, 0.01)\n",
    "#     ax.grid(which='major', axis='x', linestyle='-')\n",
    "#     ax.set_axisbelow(True)\n",
    "    \n",
    "#     ax.text(0, 1.15, 'Coronavirus',\n",
    "#             transform=ax.transAxes, size=24, weight=600, ha='left', va='top')\n",
    "# #     ax.text(1, 0, 'by @pratapvardhan; credit @jburnmurdoch', transform=ax.transAxes, color='#777777', ha='right',\n",
    "# #             bbox=dict(facecolor='white', alpha=0.8, edgecolor='white'))\n",
    "#     plt.box(False)"
   ]
  },
  {
   "cell_type": "code",
   "execution_count": 42,
   "id": "sexual-wages",
   "metadata": {
    "execution": {
     "iopub.execute_input": "2022-08-17T00:48:37.623557Z",
     "iopub.status.busy": "2022-08-17T00:48:37.622790Z",
     "iopub.status.idle": "2022-08-17T00:48:37.626533Z",
     "shell.execute_reply": "2022-08-17T00:48:37.625857Z"
    },
    "papermill": {
     "duration": 0.05225,
     "end_time": "2022-08-17T00:48:37.626704",
     "exception": false,
     "start_time": "2022-08-17T00:48:37.574454",
     "status": "completed"
    },
    "tags": []
   },
   "outputs": [],
   "source": [
    "# #hide_input\n",
    "# fig, ax = plt.subplots(figsize=(15, 8))\n",
    "# animator = animation.FuncAnimation(fig, draw_barchart, frames=range(g.day.values.min(), g.day.values.max()))\n",
    "# HTML(animator.to_jshtml())\n",
    "# # or use animator.to_html5_video() or animator.save() "
   ]
  },
  {
   "cell_type": "code",
   "execution_count": null,
   "id": "australian-container",
   "metadata": {
    "papermill": {
     "duration": 0.040954,
     "end_time": "2022-08-17T00:48:37.711395",
     "exception": false,
     "start_time": "2022-08-17T00:48:37.670441",
     "status": "completed"
    },
    "tags": []
   },
   "outputs": [],
   "source": []
  },
  {
   "cell_type": "code",
   "execution_count": null,
   "id": "mediterranean-pontiac",
   "metadata": {
    "papermill": {
     "duration": 0.041752,
     "end_time": "2022-08-17T00:48:37.797591",
     "exception": false,
     "start_time": "2022-08-17T00:48:37.755839",
     "status": "completed"
    },
    "tags": []
   },
   "outputs": [],
   "source": []
  },
  {
   "cell_type": "code",
   "execution_count": null,
   "id": "aging-legislature",
   "metadata": {
    "papermill": {
     "duration": 0.04078,
     "end_time": "2022-08-17T00:48:37.880341",
     "exception": false,
     "start_time": "2022-08-17T00:48:37.839561",
     "status": "completed"
    },
    "tags": []
   },
   "outputs": [],
   "source": []
  }
 ],
 "metadata": {
  "kernelspec": {
   "display_name": "Python 3",
   "language": "python",
   "name": "python3"
  },
  "language_info": {
   "codemirror_mode": {
    "name": "ipython",
    "version": 3
   },
   "file_extension": ".py",
   "mimetype": "text/x-python",
   "name": "python",
   "nbconvert_exporter": "python",
   "pygments_lexer": "ipython3",
   "version": "3.6.15"
  },
  "papermill": {
   "duration": 8.080238,
   "end_time": "2022-08-17T00:48:38.343201",
   "environment_variables": {},
   "exception": null,
   "input_path": "2020-03-21-covid19exp.ipynb",
   "output_path": "2020-03-21-covid19exp.ipynb",
   "parameters": {},
   "start_time": "2022-08-17T00:48:30.262963",
   "version": "2.0.0"
  }
 },
 "nbformat": 4,
 "nbformat_minor": 5
}