{
 "cells": [
  {
   "cell_type": "markdown",
   "id": "muslim-click",
   "metadata": {
    "papermill": {
     "duration": 0.035706,
     "end_time": "2022-11-17T00:43:49.376979",
     "exception": false,
     "start_time": "2022-11-17T00:43:49.341273",
     "status": "completed"
    },
    "tags": []
   },
   "source": [
    "# COVID-19 Case Race\n",
    "> A race chart to see rising cases around the world\n",
    "\n",
    "- author: Hargun Oberoi\n",
    "- image: images/covid-overview.png\n",
    "- hide: false\n",
    "- badges: false"
   ]
  },
  {
   "cell_type": "code",
   "execution_count": 1,
   "id": "proof-material",
   "metadata": {
    "execution": {
     "iopub.execute_input": "2022-11-17T00:43:49.447421Z",
     "iopub.status.busy": "2022-11-17T00:43:49.446800Z",
     "iopub.status.idle": "2022-11-17T00:43:49.767101Z",
     "shell.execute_reply": "2022-11-17T00:43:49.766090Z"
    },
    "papermill": {
     "duration": 0.359525,
     "end_time": "2022-11-17T00:43:49.767258",
     "exception": false,
     "start_time": "2022-11-17T00:43:49.407733",
     "status": "completed"
    },
    "tags": []
   },
   "outputs": [],
   "source": [
    "#hide\n",
    "import numpy as np\n",
    "import pandas as pd\n",
    "from jinja2 import Template\n",
    "from IPython.display import HTML"
   ]
  },
  {
   "cell_type": "code",
   "execution_count": 2,
   "id": "developed-terminology",
   "metadata": {
    "execution": {
     "iopub.execute_input": "2022-11-17T00:43:49.832018Z",
     "iopub.status.busy": "2022-11-17T00:43:49.831301Z",
     "iopub.status.idle": "2022-11-17T00:43:49.833602Z",
     "shell.execute_reply": "2022-11-17T00:43:49.832968Z"
    },
    "papermill": {
     "duration": 0.036779,
     "end_time": "2022-11-17T00:43:49.833721",
     "exception": false,
     "start_time": "2022-11-17T00:43:49.796942",
     "status": "completed"
    },
    "tags": []
   },
   "outputs": [],
   "source": [
    "#hide\n",
    "\n",
    "# FETCH\n",
    "base_url = 'https://raw.githubusercontent.com/pratapvardhan/notebooks/master/covid19/'\n",
    "paths = {\n",
    "    'mapping': base_url + 'mapping_countries.csv',\n",
    "    'overview': base_url + 'overview.tpl'\n",
    "}"
   ]
  },
  {
   "cell_type": "code",
   "execution_count": 3,
   "id": "dynamic-saver",
   "metadata": {
    "execution": {
     "iopub.execute_input": "2022-11-17T00:43:49.903938Z",
     "iopub.status.busy": "2022-11-17T00:43:49.903322Z",
     "iopub.status.idle": "2022-11-17T00:43:49.906498Z",
     "shell.execute_reply": "2022-11-17T00:43:49.906943Z"
    },
    "papermill": {
     "duration": 0.043272,
     "end_time": "2022-11-17T00:43:49.907069",
     "exception": false,
     "start_time": "2022-11-17T00:43:49.863797",
     "status": "completed"
    },
    "tags": []
   },
   "outputs": [
    {
     "data": {
      "text/plain": [
       "'https://raw.githubusercontent.com/pratapvardhan/notebooks/master/covid19/mapping_countries.csv'"
      ]
     },
     "execution_count": 3,
     "metadata": {},
     "output_type": "execute_result"
    }
   ],
   "source": [
    "#hide\n",
    "paths['mapping']"
   ]
  },
  {
   "cell_type": "code",
   "execution_count": 4,
   "id": "urban-software",
   "metadata": {
    "execution": {
     "iopub.execute_input": "2022-11-17T00:43:49.972609Z",
     "iopub.status.busy": "2022-11-17T00:43:49.971993Z",
     "iopub.status.idle": "2022-11-17T00:43:49.974511Z",
     "shell.execute_reply": "2022-11-17T00:43:49.973944Z"
    },
    "papermill": {
     "duration": 0.037594,
     "end_time": "2022-11-17T00:43:49.974619",
     "exception": false,
     "start_time": "2022-11-17T00:43:49.937025",
     "status": "completed"
    },
    "tags": []
   },
   "outputs": [],
   "source": [
    "#hide\n",
    "def get_mappings(url):\n",
    "    df = pd.read_csv(url)\n",
    "    return {\n",
    "        'df': df,\n",
    "        'replace.country': dict(df.dropna(subset=['Name']).set_index('Country')['Name']),\n",
    "        'map.continent': dict(df.set_index('Name')['Continent'])\n",
    "    }"
   ]
  },
  {
   "cell_type": "code",
   "execution_count": 5,
   "id": "intimate-machinery",
   "metadata": {
    "execution": {
     "iopub.execute_input": "2022-11-17T00:43:50.039519Z",
     "iopub.status.busy": "2022-11-17T00:43:50.038947Z",
     "iopub.status.idle": "2022-11-17T00:43:50.067737Z",
     "shell.execute_reply": "2022-11-17T00:43:50.067172Z"
    },
    "papermill": {
     "duration": 0.063503,
     "end_time": "2022-11-17T00:43:50.067863",
     "exception": false,
     "start_time": "2022-11-17T00:43:50.004360",
     "status": "completed"
    },
    "tags": []
   },
   "outputs": [],
   "source": [
    "#hide\n",
    "mapping = get_mappings(paths['mapping'])"
   ]
  },
  {
   "cell_type": "code",
   "execution_count": 6,
   "id": "certified-tactics",
   "metadata": {
    "execution": {
     "iopub.execute_input": "2022-11-17T00:43:50.134819Z",
     "iopub.status.busy": "2022-11-17T00:43:50.134117Z",
     "iopub.status.idle": "2022-11-17T00:43:50.136511Z",
     "shell.execute_reply": "2022-11-17T00:43:50.135934Z"
    },
    "papermill": {
     "duration": 0.037881,
     "end_time": "2022-11-17T00:43:50.136620",
     "exception": false,
     "start_time": "2022-11-17T00:43:50.098739",
     "status": "completed"
    },
    "tags": []
   },
   "outputs": [],
   "source": [
    "#hide\n",
    "def get_template(path):\n",
    "    from urllib.parse import urlparse\n",
    "    if bool(urlparse(path).netloc):\n",
    "        from urllib.request import urlopen\n",
    "        return urlopen(path).read().decode('utf8')\n",
    "    return open(path).read()"
   ]
  },
  {
   "cell_type": "code",
   "execution_count": 7,
   "id": "realistic-blast",
   "metadata": {
    "execution": {
     "iopub.execute_input": "2022-11-17T00:43:50.201689Z",
     "iopub.status.busy": "2022-11-17T00:43:50.201002Z",
     "iopub.status.idle": "2022-11-17T00:43:50.203598Z",
     "shell.execute_reply": "2022-11-17T00:43:50.203066Z"
    },
    "papermill": {
     "duration": 0.037292,
     "end_time": "2022-11-17T00:43:50.203716",
     "exception": false,
     "start_time": "2022-11-17T00:43:50.166424",
     "status": "completed"
    },
    "tags": []
   },
   "outputs": [],
   "source": [
    "#hide\n",
    "def get_frame(name):\n",
    "    url = (\n",
    "        'https://raw.githubusercontent.com/CSSEGISandData/COVID-19/master/csse_covid_19_data/'\n",
    "        f'csse_covid_19_time_series/time_series_covid19_{name}_global.csv')\n",
    "    df = pd.read_csv(url)\n",
    "    # rename countries\n",
    "    df['Country/Region'] = df['Country/Region'].replace(mapping['replace.country'])\n",
    "    return df"
   ]
  },
  {
   "cell_type": "code",
   "execution_count": 8,
   "id": "affiliated-characterization",
   "metadata": {
    "execution": {
     "iopub.execute_input": "2022-11-17T00:43:50.271806Z",
     "iopub.status.busy": "2022-11-17T00:43:50.271219Z",
     "iopub.status.idle": "2022-11-17T00:43:50.273636Z",
     "shell.execute_reply": "2022-11-17T00:43:50.274182Z"
    },
    "papermill": {
     "duration": 0.040496,
     "end_time": "2022-11-17T00:43:50.274308",
     "exception": false,
     "start_time": "2022-11-17T00:43:50.233812",
     "status": "completed"
    },
    "tags": []
   },
   "outputs": [],
   "source": [
    "#hide\n",
    "def get_dates(df):\n",
    "    dt_cols = df.columns[~df.columns.isin(['Province/State', 'Country/Region', 'Lat', 'Long'])]\n",
    "    LAST_DATE_I = -1\n",
    "    # sometimes last column may be empty, then go backwards\n",
    "    for i in range(-1, -len(dt_cols), -1):\n",
    "        if not df[dt_cols[i]].fillna(0).eq(0).all():\n",
    "            LAST_DATE_I = i\n",
    "            break\n",
    "    return LAST_DATE_I, dt_cols"
   ]
  },
  {
   "cell_type": "code",
   "execution_count": 9,
   "id": "recent-optimization",
   "metadata": {
    "execution": {
     "iopub.execute_input": "2022-11-17T00:43:50.338713Z",
     "iopub.status.busy": "2022-11-17T00:43:50.338133Z",
     "iopub.status.idle": "2022-11-17T00:43:50.736081Z",
     "shell.execute_reply": "2022-11-17T00:43:50.735468Z"
    },
    "papermill": {
     "duration": 0.432259,
     "end_time": "2022-11-17T00:43:50.736225",
     "exception": false,
     "start_time": "2022-11-17T00:43:50.303966",
     "status": "completed"
    },
    "tags": []
   },
   "outputs": [],
   "source": [
    "#hide\n",
    "COL_REGION = 'Country/Region'\n",
    "# Confirmed, Recovered, Deaths\n",
    "df = get_frame('confirmed')\n",
    "# dft_: timeseries, dfc_: today country agg\n",
    "dft_cases = df\n",
    "dft_deaths = get_frame('deaths')\n",
    "dft_recovered = get_frame('recovered')\n",
    "LAST_DATE_I, dt_cols = get_dates(df)"
   ]
  },
  {
   "cell_type": "code",
   "execution_count": 10,
   "id": "absolute-copper",
   "metadata": {
    "execution": {
     "iopub.execute_input": "2022-11-17T00:43:50.802000Z",
     "iopub.status.busy": "2022-11-17T00:43:50.801299Z",
     "iopub.status.idle": "2022-11-17T00:43:50.803933Z",
     "shell.execute_reply": "2022-11-17T00:43:50.803338Z"
    },
    "papermill": {
     "duration": 0.037894,
     "end_time": "2022-11-17T00:43:50.804059",
     "exception": false,
     "start_time": "2022-11-17T00:43:50.766165",
     "status": "completed"
    },
    "tags": []
   },
   "outputs": [],
   "source": [
    "#hide\n",
    "LAST_DATE_I, dt_cols = get_dates(df)\n",
    "dt_today =dt_cols[LAST_DATE_I]\n",
    "# dt_5day = dt_cols[LAST_DATE_I - 5]\n",
    "dt_yday = dt_cols[LAST_DATE_I - 1]"
   ]
  },
  {
   "cell_type": "code",
   "execution_count": 11,
   "id": "restricted-sheriff",
   "metadata": {
    "execution": {
     "iopub.execute_input": "2022-11-17T00:43:50.871155Z",
     "iopub.status.busy": "2022-11-17T00:43:50.870575Z",
     "iopub.status.idle": "2022-11-17T00:43:50.876606Z",
     "shell.execute_reply": "2022-11-17T00:43:50.877076Z"
    },
    "papermill": {
     "duration": 0.043027,
     "end_time": "2022-11-17T00:43:50.877200",
     "exception": false,
     "start_time": "2022-11-17T00:43:50.834173",
     "status": "completed"
    },
    "tags": []
   },
   "outputs": [],
   "source": [
    "#hide\n",
    "dfc_cases = dft_cases.groupby(COL_REGION)[dt_today].sum()\n",
    "dfc_deaths = dft_deaths.groupby(COL_REGION)[dt_today].sum()\n",
    "# dfp_cases = dft_cases.groupby(COL_REGION)[dt_5day].sum()\n",
    "# dfp_deaths = dft_deaths.groupby(COL_REGION)[dt_5day].sum()\n",
    "dfp_cases = dft_cases.groupby(COL_REGION)[dt_yday].sum()\n",
    "dfp_deaths = dft_deaths.groupby(COL_REGION)[dt_yday].sum()"
   ]
  },
  {
   "cell_type": "code",
   "execution_count": 12,
   "id": "deluxe-hepatitis",
   "metadata": {
    "execution": {
     "iopub.execute_input": "2022-11-17T00:43:50.943076Z",
     "iopub.status.busy": "2022-11-17T00:43:50.942493Z",
     "iopub.status.idle": "2022-11-17T00:43:50.946815Z",
     "shell.execute_reply": "2022-11-17T00:43:50.947366Z"
    },
    "papermill": {
     "duration": 0.040385,
     "end_time": "2022-11-17T00:43:50.947493",
     "exception": false,
     "start_time": "2022-11-17T00:43:50.907108",
     "status": "completed"
    },
    "tags": []
   },
   "outputs": [],
   "source": [
    "#hide\n",
    "df_table = (pd.DataFrame(dict(Cases = dfc_cases, Deaths = dfc_deaths, PCases = dfp_cases, PDeaths = dfp_deaths))\n",
    "            .sort_values(by = ['Cases','Deaths'], ascending = [False, False])\n",
    "            .reset_index())"
   ]
  },
  {
   "cell_type": "code",
   "execution_count": 13,
   "id": "educational-chancellor",
   "metadata": {
    "execution": {
     "iopub.execute_input": "2022-11-17T00:43:51.024142Z",
     "iopub.status.busy": "2022-11-17T00:43:51.019597Z",
     "iopub.status.idle": "2022-11-17T00:43:51.031416Z",
     "shell.execute_reply": "2022-11-17T00:43:51.031915Z"
    },
    "papermill": {
     "duration": 0.054811,
     "end_time": "2022-11-17T00:43:51.032046",
     "exception": false,
     "start_time": "2022-11-17T00:43:50.977235",
     "status": "completed"
    },
    "tags": []
   },
   "outputs": [
    {
     "data": {
      "text/html": [
       "<div>\n",
       "<style scoped>\n",
       "    .dataframe tbody tr th:only-of-type {\n",
       "        vertical-align: middle;\n",
       "    }\n",
       "\n",
       "    .dataframe tbody tr th {\n",
       "        vertical-align: top;\n",
       "    }\n",
       "\n",
       "    .dataframe thead th {\n",
       "        text-align: right;\n",
       "    }\n",
       "</style>\n",
       "<table border=\"1\" class=\"dataframe\">\n",
       "  <thead>\n",
       "    <tr style=\"text-align: right;\">\n",
       "      <th></th>\n",
       "      <th>Country/Region</th>\n",
       "      <th>Cases</th>\n",
       "      <th>Deaths</th>\n",
       "      <th>PCases</th>\n",
       "      <th>PDeaths</th>\n",
       "      <th>Cases (+)</th>\n",
       "      <th>Deaths (+)</th>\n",
       "      <th>Fatality Rate</th>\n",
       "      <th>Continent</th>\n",
       "    </tr>\n",
       "  </thead>\n",
       "  <tbody>\n",
       "    <tr>\n",
       "      <th>0</th>\n",
       "      <td>US</td>\n",
       "      <td>98086072</td>\n",
       "      <td>1075088</td>\n",
       "      <td>98045793</td>\n",
       "      <td>1074701</td>\n",
       "      <td>40279</td>\n",
       "      <td>387</td>\n",
       "      <td>1.10</td>\n",
       "      <td>North America</td>\n",
       "    </tr>\n",
       "    <tr>\n",
       "      <th>1</th>\n",
       "      <td>India</td>\n",
       "      <td>44667900</td>\n",
       "      <td>530535</td>\n",
       "      <td>44667390</td>\n",
       "      <td>530533</td>\n",
       "      <td>510</td>\n",
       "      <td>2</td>\n",
       "      <td>1.19</td>\n",
       "      <td>Asia</td>\n",
       "    </tr>\n",
       "    <tr>\n",
       "      <th>2</th>\n",
       "      <td>France</td>\n",
       "      <td>37403757</td>\n",
       "      <td>158981</td>\n",
       "      <td>37354169</td>\n",
       "      <td>158861</td>\n",
       "      <td>49588</td>\n",
       "      <td>120</td>\n",
       "      <td>0.43</td>\n",
       "      <td>Europe</td>\n",
       "    </tr>\n",
       "    <tr>\n",
       "      <th>3</th>\n",
       "      <td>Germany</td>\n",
       "      <td>36119184</td>\n",
       "      <td>156030</td>\n",
       "      <td>36080574</td>\n",
       "      <td>155807</td>\n",
       "      <td>38610</td>\n",
       "      <td>223</td>\n",
       "      <td>0.43</td>\n",
       "      <td>Europe</td>\n",
       "    </tr>\n",
       "    <tr>\n",
       "      <th>4</th>\n",
       "      <td>Brazil</td>\n",
       "      <td>34908198</td>\n",
       "      <td>688656</td>\n",
       "      <td>34908198</td>\n",
       "      <td>688656</td>\n",
       "      <td>0</td>\n",
       "      <td>0</td>\n",
       "      <td>1.97</td>\n",
       "      <td>South America</td>\n",
       "    </tr>\n",
       "  </tbody>\n",
       "</table>\n",
       "</div>"
      ],
      "text/plain": [
       "  Country/Region     Cases   Deaths    PCases  PDeaths  Cases (+)  Deaths (+)  \\\n",
       "0             US  98086072  1075088  98045793  1074701      40279         387   \n",
       "1          India  44667900   530535  44667390   530533        510           2   \n",
       "2         France  37403757   158981  37354169   158861      49588         120   \n",
       "3        Germany  36119184   156030  36080574   155807      38610         223   \n",
       "4         Brazil  34908198   688656  34908198   688656          0           0   \n",
       "\n",
       "   Fatality Rate      Continent  \n",
       "0           1.10  North America  \n",
       "1           1.19           Asia  \n",
       "2           0.43         Europe  \n",
       "3           0.43         Europe  \n",
       "4           1.97  South America  "
      ]
     },
     "execution_count": 13,
     "metadata": {},
     "output_type": "execute_result"
    }
   ],
   "source": [
    "#hide\n",
    "for c in 'Cases, Deaths'.split(', '):\n",
    "    df_table[f'{c} (+)'] = (df_table[c] - df_table[f'P{c}']).clip(0)\n",
    "    #Clip ça veut dire, les chiffres negatif sont interdit\n",
    "df_table['Fatality Rate'] = (100* df_table['Deaths']/ df_table['Cases']).round(2)\n",
    "df_table['Continent'] = df_table['Country/Region'].map(mapping['map.continent'])\n",
    "df_table.head(5)"
   ]
  },
  {
   "cell_type": "code",
   "execution_count": 14,
   "id": "aboriginal-bulgaria",
   "metadata": {
    "execution": {
     "iopub.execute_input": "2022-11-17T00:43:51.098648Z",
     "iopub.status.busy": "2022-11-17T00:43:51.098052Z",
     "iopub.status.idle": "2022-11-17T00:43:51.101597Z",
     "shell.execute_reply": "2022-11-17T00:43:51.102150Z"
    },
    "papermill": {
     "duration": 0.039725,
     "end_time": "2022-11-17T00:43:51.102282",
     "exception": false,
     "start_time": "2022-11-17T00:43:51.062557",
     "status": "completed"
    },
    "tags": []
   },
   "outputs": [],
   "source": [
    "#hide\n",
    "#delete problematic countries from table\n",
    "df_table = df_table[~df_table['Country/Region'].isin(['Cape Verde', 'Cruise Ship', 'Kosovo'])]"
   ]
  },
  {
   "cell_type": "code",
   "execution_count": 15,
   "id": "fantastic-effect",
   "metadata": {
    "execution": {
     "iopub.execute_input": "2022-11-17T00:43:51.170795Z",
     "iopub.status.busy": "2022-11-17T00:43:51.170201Z",
     "iopub.status.idle": "2022-11-17T00:43:51.187350Z",
     "shell.execute_reply": "2022-11-17T00:43:51.187832Z"
    },
    "papermill": {
     "duration": 0.055415,
     "end_time": "2022-11-17T00:43:51.187981",
     "exception": false,
     "start_time": "2022-11-17T00:43:51.132566",
     "status": "completed"
    },
    "tags": []
   },
   "outputs": [
    {
     "data": {
      "text/html": [
       "<div>\n",
       "<style scoped>\n",
       "    .dataframe tbody tr th:only-of-type {\n",
       "        vertical-align: middle;\n",
       "    }\n",
       "\n",
       "    .dataframe tbody tr th {\n",
       "        vertical-align: top;\n",
       "    }\n",
       "\n",
       "    .dataframe thead th {\n",
       "        text-align: right;\n",
       "    }\n",
       "</style>\n",
       "<table border=\"1\" class=\"dataframe\">\n",
       "  <thead>\n",
       "    <tr style=\"text-align: right;\">\n",
       "      <th></th>\n",
       "      <th>Country/Region</th>\n",
       "      <th>Cases</th>\n",
       "      <th>Deaths</th>\n",
       "      <th>PCases</th>\n",
       "      <th>PDeaths</th>\n",
       "      <th>Cases (+)</th>\n",
       "      <th>Deaths (+)</th>\n",
       "      <th>Fatality Rate</th>\n",
       "      <th>Continent</th>\n",
       "    </tr>\n",
       "  </thead>\n",
       "  <tbody>\n",
       "    <tr>\n",
       "      <th>0</th>\n",
       "      <td>US</td>\n",
       "      <td>98086072</td>\n",
       "      <td>1075088</td>\n",
       "      <td>98045793</td>\n",
       "      <td>1074701</td>\n",
       "      <td>40279</td>\n",
       "      <td>387</td>\n",
       "      <td>1.1</td>\n",
       "      <td>North America</td>\n",
       "    </tr>\n",
       "    <tr>\n",
       "      <th>1</th>\n",
       "      <td>India</td>\n",
       "      <td>44667900</td>\n",
       "      <td>530535</td>\n",
       "      <td>44667390</td>\n",
       "      <td>530533</td>\n",
       "      <td>510</td>\n",
       "      <td>2</td>\n",
       "      <td>1.2</td>\n",
       "      <td>Asia</td>\n",
       "    </tr>\n",
       "    <tr>\n",
       "      <th>2</th>\n",
       "      <td>France</td>\n",
       "      <td>37403757</td>\n",
       "      <td>158981</td>\n",
       "      <td>37354169</td>\n",
       "      <td>158861</td>\n",
       "      <td>49588</td>\n",
       "      <td>120</td>\n",
       "      <td>0.4</td>\n",
       "      <td>Europe</td>\n",
       "    </tr>\n",
       "    <tr>\n",
       "      <th>3</th>\n",
       "      <td>Germany</td>\n",
       "      <td>36119184</td>\n",
       "      <td>156030</td>\n",
       "      <td>36080574</td>\n",
       "      <td>155807</td>\n",
       "      <td>38610</td>\n",
       "      <td>223</td>\n",
       "      <td>0.4</td>\n",
       "      <td>Europe</td>\n",
       "    </tr>\n",
       "    <tr>\n",
       "      <th>4</th>\n",
       "      <td>Brazil</td>\n",
       "      <td>34908198</td>\n",
       "      <td>688656</td>\n",
       "      <td>34908198</td>\n",
       "      <td>688656</td>\n",
       "      <td>0</td>\n",
       "      <td>0</td>\n",
       "      <td>2.0</td>\n",
       "      <td>South America</td>\n",
       "    </tr>\n",
       "  </tbody>\n",
       "</table>\n",
       "</div>"
      ],
      "text/plain": [
       "  Country/Region     Cases   Deaths    PCases  PDeaths  Cases (+)  Deaths (+)  \\\n",
       "0             US  98086072  1075088  98045793  1074701      40279         387   \n",
       "1          India  44667900   530535  44667390   530533        510           2   \n",
       "2         France  37403757   158981  37354169   158861      49588         120   \n",
       "3        Germany  36119184   156030  36080574   155807      38610         223   \n",
       "4         Brazil  34908198   688656  34908198   688656          0           0   \n",
       "\n",
       "   Fatality Rate      Continent  \n",
       "0            1.1  North America  \n",
       "1            1.2           Asia  \n",
       "2            0.4         Europe  \n",
       "3            0.4         Europe  \n",
       "4            2.0  South America  "
      ]
     },
     "execution_count": 15,
     "metadata": {},
     "output_type": "execute_result"
    }
   ],
   "source": [
    "#hide\n",
    "df_table = (pd.DataFrame(dict(Cases=dfc_cases, Deaths=dfc_deaths, PCases=dfp_cases, PDeaths=dfp_deaths))\n",
    "             .sort_values(by=['Cases', 'Deaths'], ascending=[False, False])\n",
    "             .reset_index())\n",
    "df_table.rename(columns={'index': 'Country/Region'}, inplace=True)\n",
    "for c in 'Cases, Deaths'.split(', '):\n",
    "    df_table[f'{c} (+)'] = (df_table[c] - df_table[f'P{c}']).clip(0)  # DATA BUG\n",
    "df_table['Fatality Rate'] = (100 * df_table['Deaths'] / df_table['Cases']).round(1)\n",
    "df_table['Continent'] = df_table['Country/Region'].map(mapping['map.continent'])\n",
    "df_table.head(5)"
   ]
  },
  {
   "cell_type": "code",
   "execution_count": 16,
   "id": "fewer-occasion",
   "metadata": {
    "execution": {
     "iopub.execute_input": "2022-11-17T00:43:51.255285Z",
     "iopub.status.busy": "2022-11-17T00:43:51.254706Z",
     "iopub.status.idle": "2022-11-17T00:43:51.257844Z",
     "shell.execute_reply": "2022-11-17T00:43:51.258398Z"
    },
    "papermill": {
     "duration": 0.039519,
     "end_time": "2022-11-17T00:43:51.258526",
     "exception": false,
     "start_time": "2022-11-17T00:43:51.219007",
     "status": "completed"
    },
    "tags": []
   },
   "outputs": [],
   "source": [
    "#hide\n",
    "#delete problematic countries from table\n",
    "df_table = df_table[~df_table['Country/Region'].isin(['Cape Verde', 'Cruise Ship', 'Kosovo'])]"
   ]
  },
  {
   "cell_type": "code",
   "execution_count": 17,
   "id": "related-center",
   "metadata": {
    "execution": {
     "iopub.execute_input": "2022-11-17T00:43:51.338692Z",
     "iopub.status.busy": "2022-11-17T00:43:51.338087Z",
     "iopub.status.idle": "2022-11-17T00:43:51.340332Z",
     "shell.execute_reply": "2022-11-17T00:43:51.340886Z"
    },
    "papermill": {
     "duration": 0.051675,
     "end_time": "2022-11-17T00:43:51.341017",
     "exception": false,
     "start_time": "2022-11-17T00:43:51.289342",
     "status": "completed"
    },
    "tags": []
   },
   "outputs": [],
   "source": [
    "#hide\n",
    "metrics = [df_table.columns[index] for index in [1,2,5,6]]\n",
    "# s_china = df_table[df_table['Country/Region'].eq('China')][metrics].sum().add_prefix('China ')\n",
    "s_us = df_table[df_table['Country/Region'].eq('US')][metrics].sum().add_prefix('US ')\n",
    "s_eu = df_table[df_table['Continent'].eq('Europe')][metrics].sum().add_prefix('EU ')\n",
    "s_ind = df_table[df_table['Country/Region'].eq('India')][metrics].sum().add_prefix('India ')\n",
    "summary = {'updated': pd.to_datetime(dt_today), 'since': pd.to_datetime(dt_yday)}\n",
    "summary = {'updated': pd.to_datetime(dt_today), 'since': pd.to_datetime(dt_yday)}\n",
    "summary = {**summary, **df_table[metrics].sum(), **s_ind, **s_us, **s_eu}"
   ]
  },
  {
   "cell_type": "code",
   "execution_count": 18,
   "id": "engaging-syndrome",
   "metadata": {
    "execution": {
     "iopub.execute_input": "2022-11-17T00:43:51.407410Z",
     "iopub.status.busy": "2022-11-17T00:43:51.406817Z",
     "iopub.status.idle": "2022-11-17T00:43:51.428437Z",
     "shell.execute_reply": "2022-11-17T00:43:51.427896Z"
    },
    "papermill": {
     "duration": 0.056697,
     "end_time": "2022-11-17T00:43:51.428556",
     "exception": false,
     "start_time": "2022-11-17T00:43:51.371859",
     "status": "completed"
    },
    "tags": []
   },
   "outputs": [],
   "source": [
    "#hide\n",
    "dft_ct_new_cases = dft_cases.groupby(COL_REGION)[dt_cols].sum().diff(axis=1).fillna(0).astype(int)"
   ]
  },
  {
   "cell_type": "code",
   "execution_count": 19,
   "id": "neutral-assignment",
   "metadata": {
    "execution": {
     "iopub.execute_input": "2022-11-17T00:43:51.497210Z",
     "iopub.status.busy": "2022-11-17T00:43:51.496616Z",
     "iopub.status.idle": "2022-11-17T00:43:51.499205Z",
     "shell.execute_reply": "2022-11-17T00:43:51.499652Z"
    },
    "papermill": {
     "duration": 0.040196,
     "end_time": "2022-11-17T00:43:51.499780",
     "exception": false,
     "start_time": "2022-11-17T00:43:51.459584",
     "status": "completed"
    },
    "tags": []
   },
   "outputs": [],
   "source": [
    "#hide\n",
    "everydaycases = dft_ct_new_cases.cumsum(axis=1)"
   ]
  },
  {
   "cell_type": "code",
   "execution_count": 20,
   "id": "parliamentary-calgary",
   "metadata": {
    "execution": {
     "iopub.execute_input": "2022-11-17T00:43:51.568895Z",
     "iopub.status.busy": "2022-11-17T00:43:51.565775Z",
     "iopub.status.idle": "2022-11-17T00:43:52.166865Z",
     "shell.execute_reply": "2022-11-17T00:43:52.166327Z"
    },
    "papermill": {
     "duration": 0.636187,
     "end_time": "2022-11-17T00:43:52.166993",
     "exception": false,
     "start_time": "2022-11-17T00:43:51.530806",
     "status": "completed"
    },
    "tags": []
   },
   "outputs": [],
   "source": [
    "#hide\n",
    "import pandas as pd\n",
    "import matplotlib.pyplot as plt\n",
    "import matplotlib.ticker as ticker\n",
    "import matplotlib.animation as animation\n",
    "from IPython.display import HTML"
   ]
  },
  {
   "cell_type": "code",
   "execution_count": 21,
   "id": "lasting-extraction",
   "metadata": {
    "execution": {
     "iopub.execute_input": "2022-11-17T00:43:52.236915Z",
     "iopub.status.busy": "2022-11-17T00:43:52.236323Z",
     "iopub.status.idle": "2022-11-17T00:43:52.244327Z",
     "shell.execute_reply": "2022-11-17T00:43:52.244749Z"
    },
    "papermill": {
     "duration": 0.046238,
     "end_time": "2022-11-17T00:43:52.244880",
     "exception": false,
     "start_time": "2022-11-17T00:43:52.198642",
     "status": "completed"
    },
    "tags": []
   },
   "outputs": [],
   "source": [
    "#hide\n",
    "t = everydaycases.stack()"
   ]
  },
  {
   "cell_type": "code",
   "execution_count": 22,
   "id": "premier-sleeve",
   "metadata": {
    "execution": {
     "iopub.execute_input": "2022-11-17T00:43:52.311509Z",
     "iopub.status.busy": "2022-11-17T00:43:52.310924Z",
     "iopub.status.idle": "2022-11-17T00:43:52.323795Z",
     "shell.execute_reply": "2022-11-17T00:43:52.324416Z"
    },
    "papermill": {
     "duration": 0.048752,
     "end_time": "2022-11-17T00:43:52.324549",
     "exception": false,
     "start_time": "2022-11-17T00:43:52.275797",
     "status": "completed"
    },
    "tags": []
   },
   "outputs": [],
   "source": [
    "#hide\n",
    "g = t.reset_index(['Country/Region'])"
   ]
  },
  {
   "cell_type": "code",
   "execution_count": 23,
   "id": "distributed-pittsburgh",
   "metadata": {
    "execution": {
     "iopub.execute_input": "2022-11-17T00:43:52.390515Z",
     "iopub.status.busy": "2022-11-17T00:43:52.389912Z",
     "iopub.status.idle": "2022-11-17T00:43:52.392654Z",
     "shell.execute_reply": "2022-11-17T00:43:52.392084Z"
    },
    "papermill": {
     "duration": 0.03756,
     "end_time": "2022-11-17T00:43:52.392764",
     "exception": false,
     "start_time": "2022-11-17T00:43:52.355204",
     "status": "completed"
    },
    "tags": []
   },
   "outputs": [],
   "source": [
    "#hide\n",
    "g.index.name = 'date'"
   ]
  },
  {
   "cell_type": "code",
   "execution_count": 24,
   "id": "naked-donor",
   "metadata": {
    "execution": {
     "iopub.execute_input": "2022-11-17T00:43:52.459023Z",
     "iopub.status.busy": "2022-11-17T00:43:52.458324Z",
     "iopub.status.idle": "2022-11-17T00:43:52.460861Z",
     "shell.execute_reply": "2022-11-17T00:43:52.460288Z"
    },
    "papermill": {
     "duration": 0.036881,
     "end_time": "2022-11-17T00:43:52.460970",
     "exception": false,
     "start_time": "2022-11-17T00:43:52.424089",
     "status": "completed"
    },
    "tags": []
   },
   "outputs": [],
   "source": [
    "# #hide\n",
    "# g = g.reset_index(['date'])"
   ]
  },
  {
   "cell_type": "code",
   "execution_count": 25,
   "id": "incomplete-mustang",
   "metadata": {
    "execution": {
     "iopub.execute_input": "2022-11-17T00:43:52.526689Z",
     "iopub.status.busy": "2022-11-17T00:43:52.526021Z",
     "iopub.status.idle": "2022-11-17T00:43:52.528637Z",
     "shell.execute_reply": "2022-11-17T00:43:52.527992Z"
    },
    "papermill": {
     "duration": 0.037064,
     "end_time": "2022-11-17T00:43:52.528756",
     "exception": false,
     "start_time": "2022-11-17T00:43:52.491692",
     "status": "completed"
    },
    "tags": []
   },
   "outputs": [],
   "source": [
    "#hide\n",
    "# g.head()"
   ]
  },
  {
   "cell_type": "code",
   "execution_count": 26,
   "id": "specific-kruger",
   "metadata": {
    "execution": {
     "iopub.execute_input": "2022-11-17T00:43:52.594392Z",
     "iopub.status.busy": "2022-11-17T00:43:52.593799Z",
     "iopub.status.idle": "2022-11-17T00:43:52.598000Z",
     "shell.execute_reply": "2022-11-17T00:43:52.598422Z"
    },
    "papermill": {
     "duration": 0.038756,
     "end_time": "2022-11-17T00:43:52.598547",
     "exception": false,
     "start_time": "2022-11-17T00:43:52.559791",
     "status": "completed"
    },
    "tags": []
   },
   "outputs": [],
   "source": [
    "#hide\n",
    "# g.columns = ['date','country','cases']"
   ]
  },
  {
   "cell_type": "code",
   "execution_count": 27,
   "id": "tender-conversion",
   "metadata": {
    "execution": {
     "iopub.execute_input": "2022-11-17T00:43:52.664806Z",
     "iopub.status.busy": "2022-11-17T00:43:52.664138Z",
     "iopub.status.idle": "2022-11-17T00:43:52.666627Z",
     "shell.execute_reply": "2022-11-17T00:43:52.666101Z"
    },
    "papermill": {
     "duration": 0.037672,
     "end_time": "2022-11-17T00:43:52.666746",
     "exception": false,
     "start_time": "2022-11-17T00:43:52.629074",
     "status": "completed"
    },
    "tags": []
   },
   "outputs": [],
   "source": [
    "#hide\n",
    "# g['continent'] = g.country"
   ]
  },
  {
   "cell_type": "code",
   "execution_count": 28,
   "id": "substantial-wilderness",
   "metadata": {
    "execution": {
     "iopub.execute_input": "2022-11-17T00:43:52.734112Z",
     "iopub.status.busy": "2022-11-17T00:43:52.733417Z",
     "iopub.status.idle": "2022-11-17T00:43:52.735854Z",
     "shell.execute_reply": "2022-11-17T00:43:52.735306Z"
    },
    "papermill": {
     "duration": 0.036886,
     "end_time": "2022-11-17T00:43:52.735990",
     "exception": false,
     "start_time": "2022-11-17T00:43:52.699104",
     "status": "completed"
    },
    "tags": []
   },
   "outputs": [],
   "source": [
    "#hide\n",
    "# cols = list(g.columns.values)"
   ]
  },
  {
   "cell_type": "code",
   "execution_count": 29,
   "id": "solved-farming",
   "metadata": {
    "execution": {
     "iopub.execute_input": "2022-11-17T00:43:52.801544Z",
     "iopub.status.busy": "2022-11-17T00:43:52.800862Z",
     "iopub.status.idle": "2022-11-17T00:43:52.804459Z",
     "shell.execute_reply": "2022-11-17T00:43:52.804882Z"
    },
    "papermill": {
     "duration": 0.038313,
     "end_time": "2022-11-17T00:43:52.805010",
     "exception": false,
     "start_time": "2022-11-17T00:43:52.766697",
     "status": "completed"
    },
    "tags": []
   },
   "outputs": [],
   "source": [
    "#hide\n",
    "# cols.insert(0, cols.pop())"
   ]
  },
  {
   "cell_type": "code",
   "execution_count": 30,
   "id": "executed-adoption",
   "metadata": {
    "execution": {
     "iopub.execute_input": "2022-11-17T00:43:52.870394Z",
     "iopub.status.busy": "2022-11-17T00:43:52.869814Z",
     "iopub.status.idle": "2022-11-17T00:43:52.872036Z",
     "shell.execute_reply": "2022-11-17T00:43:52.872618Z"
    },
    "papermill": {
     "duration": 0.036977,
     "end_time": "2022-11-17T00:43:52.872745",
     "exception": false,
     "start_time": "2022-11-17T00:43:52.835768",
     "status": "completed"
    },
    "tags": []
   },
   "outputs": [],
   "source": [
    "#hide\n",
    "# g = g[cols]"
   ]
  },
  {
   "cell_type": "code",
   "execution_count": 31,
   "id": "subject-dublin",
   "metadata": {
    "execution": {
     "iopub.execute_input": "2022-11-17T00:43:52.938468Z",
     "iopub.status.busy": "2022-11-17T00:43:52.937876Z",
     "iopub.status.idle": "2022-11-17T00:43:52.941487Z",
     "shell.execute_reply": "2022-11-17T00:43:52.941904Z"
    },
    "papermill": {
     "duration": 0.038381,
     "end_time": "2022-11-17T00:43:52.942030",
     "exception": false,
     "start_time": "2022-11-17T00:43:52.903649",
     "status": "completed"
    },
    "tags": []
   },
   "outputs": [],
   "source": [
    "#hide\n",
    "# g['continent'] = g['continent'].map(mapping['map.continent'])"
   ]
  },
  {
   "cell_type": "code",
   "execution_count": 32,
   "id": "freelance-scout",
   "metadata": {
    "execution": {
     "iopub.execute_input": "2022-11-17T00:43:53.007699Z",
     "iopub.status.busy": "2022-11-17T00:43:53.007022Z",
     "iopub.status.idle": "2022-11-17T00:43:53.009465Z",
     "shell.execute_reply": "2022-11-17T00:43:53.008999Z"
    },
    "papermill": {
     "duration": 0.036886,
     "end_time": "2022-11-17T00:43:53.009569",
     "exception": false,
     "start_time": "2022-11-17T00:43:52.972683",
     "status": "completed"
    },
    "tags": []
   },
   "outputs": [],
   "source": [
    "#hide\n",
    "# g.head()"
   ]
  },
  {
   "cell_type": "code",
   "execution_count": 33,
   "id": "limited-engine",
   "metadata": {
    "execution": {
     "iopub.execute_input": "2022-11-17T00:43:53.075144Z",
     "iopub.status.busy": "2022-11-17T00:43:53.074460Z",
     "iopub.status.idle": "2022-11-17T00:43:53.077016Z",
     "shell.execute_reply": "2022-11-17T00:43:53.076375Z"
    },
    "papermill": {
     "duration": 0.03691,
     "end_time": "2022-11-17T00:43:53.077135",
     "exception": false,
     "start_time": "2022-11-17T00:43:53.040225",
     "status": "completed"
    },
    "tags": []
   },
   "outputs": [],
   "source": [
    "# hide\n",
    "# g['date'] = g['date'].astype('datetime64[ns]')"
   ]
  },
  {
   "cell_type": "code",
   "execution_count": 34,
   "id": "sophisticated-supervisor",
   "metadata": {
    "execution": {
     "iopub.execute_input": "2022-11-17T00:43:53.143374Z",
     "iopub.status.busy": "2022-11-17T00:43:53.142799Z",
     "iopub.status.idle": "2022-11-17T00:43:53.145054Z",
     "shell.execute_reply": "2022-11-17T00:43:53.145597Z"
    },
    "papermill": {
     "duration": 0.037487,
     "end_time": "2022-11-17T00:43:53.145719",
     "exception": false,
     "start_time": "2022-11-17T00:43:53.108232",
     "status": "completed"
    },
    "tags": []
   },
   "outputs": [],
   "source": [
    "#hide\n",
    "# g['date'] = g.date.dt.dayofyear"
   ]
  },
  {
   "cell_type": "code",
   "execution_count": 35,
   "id": "inside-dubai",
   "metadata": {
    "execution": {
     "iopub.execute_input": "2022-11-17T00:43:53.211207Z",
     "iopub.status.busy": "2022-11-17T00:43:53.210634Z",
     "iopub.status.idle": "2022-11-17T00:43:53.212932Z",
     "shell.execute_reply": "2022-11-17T00:43:53.213399Z"
    },
    "papermill": {
     "duration": 0.037139,
     "end_time": "2022-11-17T00:43:53.213521",
     "exception": false,
     "start_time": "2022-11-17T00:43:53.176382",
     "status": "completed"
    },
    "tags": []
   },
   "outputs": [],
   "source": [
    "#hide\n",
    "# g = g.rename(columns= {'continent':'group','country':'name','cases':'value'})"
   ]
  },
  {
   "cell_type": "code",
   "execution_count": 36,
   "id": "fleet-motorcycle",
   "metadata": {
    "execution": {
     "iopub.execute_input": "2022-11-17T00:43:53.279499Z",
     "iopub.status.busy": "2022-11-17T00:43:53.278821Z",
     "iopub.status.idle": "2022-11-17T00:43:53.282465Z",
     "shell.execute_reply": "2022-11-17T00:43:53.282971Z"
    },
    "papermill": {
     "duration": 0.038736,
     "end_time": "2022-11-17T00:43:53.283108",
     "exception": false,
     "start_time": "2022-11-17T00:43:53.244372",
     "status": "completed"
    },
    "tags": []
   },
   "outputs": [],
   "source": [
    "#hide\n",
    "# cols = ['name','group','day','value']"
   ]
  },
  {
   "cell_type": "code",
   "execution_count": 37,
   "id": "continued-sleeping",
   "metadata": {
    "execution": {
     "iopub.execute_input": "2022-11-17T00:43:53.348625Z",
     "iopub.status.busy": "2022-11-17T00:43:53.347938Z",
     "iopub.status.idle": "2022-11-17T00:43:53.350411Z",
     "shell.execute_reply": "2022-11-17T00:43:53.349772Z"
    },
    "papermill": {
     "duration": 0.036678,
     "end_time": "2022-11-17T00:43:53.350530",
     "exception": false,
     "start_time": "2022-11-17T00:43:53.313852",
     "status": "completed"
    },
    "tags": []
   },
   "outputs": [],
   "source": [
    "#hide\n",
    "# g.rename(columns= {'date':'day'},inplace = True)"
   ]
  },
  {
   "cell_type": "code",
   "execution_count": 38,
   "id": "major-fight",
   "metadata": {
    "execution": {
     "iopub.execute_input": "2022-11-17T00:43:53.418857Z",
     "iopub.status.busy": "2022-11-17T00:43:53.418176Z",
     "iopub.status.idle": "2022-11-17T00:43:53.420713Z",
     "shell.execute_reply": "2022-11-17T00:43:53.420068Z"
    },
    "papermill": {
     "duration": 0.037355,
     "end_time": "2022-11-17T00:43:53.420832",
     "exception": false,
     "start_time": "2022-11-17T00:43:53.383477",
     "status": "completed"
    },
    "tags": []
   },
   "outputs": [],
   "source": [
    "#hide\n",
    "# g = g[cols]"
   ]
  },
  {
   "cell_type": "code",
   "execution_count": 39,
   "id": "structured-mobile",
   "metadata": {
    "execution": {
     "iopub.execute_input": "2022-11-17T00:43:53.486585Z",
     "iopub.status.busy": "2022-11-17T00:43:53.486008Z",
     "iopub.status.idle": "2022-11-17T00:43:53.488957Z",
     "shell.execute_reply": "2022-11-17T00:43:53.488508Z"
    },
    "papermill": {
     "duration": 0.037052,
     "end_time": "2022-11-17T00:43:53.489069",
     "exception": false,
     "start_time": "2022-11-17T00:43:53.452017",
     "status": "completed"
    },
    "tags": []
   },
   "outputs": [],
   "source": [
    "# #hide\n",
    "# g = g[g.group.notna()]"
   ]
  },
  {
   "cell_type": "code",
   "execution_count": 40,
   "id": "determined-closing",
   "metadata": {
    "execution": {
     "iopub.execute_input": "2022-11-17T00:43:53.555040Z",
     "iopub.status.busy": "2022-11-17T00:43:53.554453Z",
     "iopub.status.idle": "2022-11-17T00:43:53.556678Z",
     "shell.execute_reply": "2022-11-17T00:43:53.556112Z"
    },
    "papermill": {
     "duration": 0.036771,
     "end_time": "2022-11-17T00:43:53.556787",
     "exception": false,
     "start_time": "2022-11-17T00:43:53.520016",
     "status": "completed"
    },
    "tags": []
   },
   "outputs": [],
   "source": [
    "# #hide\n",
    "# colors = dict(zip(\n",
    "#     [\"Oceania\", \"Europe\", \"Asia\", \"South America\", \"Middle East\", \"North America\", \"Africa\"],\n",
    "#     [\"#adb0ff\", \"#ffb3ff\", \"#90d595\", \"#e48381\", \"#aafbff\", \"#f7bb5f\", \"#eafb50\"]\n",
    "# ))\n",
    "# group_lk = g.set_index('name')['group'].to_dict()"
   ]
  },
  {
   "cell_type": "code",
   "execution_count": null,
   "id": "gross-drinking",
   "metadata": {
    "papermill": {
     "duration": 0.030644,
     "end_time": "2022-11-17T00:43:53.618109",
     "exception": false,
     "start_time": "2022-11-17T00:43:53.587465",
     "status": "completed"
    },
    "tags": []
   },
   "outputs": [],
   "source": []
  },
  {
   "cell_type": "code",
   "execution_count": 41,
   "id": "subject-macintosh",
   "metadata": {
    "execution": {
     "iopub.execute_input": "2022-11-17T00:43:53.684557Z",
     "iopub.status.busy": "2022-11-17T00:43:53.683788Z",
     "iopub.status.idle": "2022-11-17T00:43:53.686146Z",
     "shell.execute_reply": "2022-11-17T00:43:53.685513Z"
    },
    "papermill": {
     "duration": 0.037386,
     "end_time": "2022-11-17T00:43:53.686265",
     "exception": false,
     "start_time": "2022-11-17T00:43:53.648879",
     "status": "completed"
    },
    "tags": []
   },
   "outputs": [],
   "source": [
    "# #hide\n",
    "# fig, ax = plt.subplots(figsize=(15, 8))\n",
    "\n",
    "# def draw_barchart(current_day):\n",
    "#     dff = g[g['day'].eq(current_day)].sort_values(by='value', ascending=True).tail(10)\n",
    "#     ax.clear()\n",
    "#     ax.barh(dff['name'], dff['value'], color=[colors[group_lk[x]] for x in dff['name']])\n",
    "#     dx = dff['value'].max() / 200\n",
    "    \n",
    "#     for i, (value, name) in enumerate(zip(dff['value'], dff['name'])):\n",
    "#         ax.text(value-dx, i,     name,           size=14, weight=600, ha='right', va='bottom')\n",
    "#         ax.text(value-dx, i-.25, group_lk[name], size=10, color='#444444', ha='right', va='baseline')\n",
    "#         ax.text(value+dx, i,     f'{value:,.0f}',  size=14, ha='left',  va='center')\n",
    "#     ax.text(1, 0.4, current_day, transform=ax.transAxes, color='#777777', size=46, ha='right', weight=800)\n",
    "#     ax.text(0, 1.06, 'Population (thousands)', transform=ax.transAxes, size=12, color='#777777')\n",
    "#     ax.xaxis.set_major_formatter(ticker.StrMethodFormatter('{x:,.0f}'))\n",
    "#     ax.xaxis.set_ticks_position('top')\n",
    "#     ax.tick_params(axis='x', colors='#777777', labelsize=12)\n",
    "#     ax.set_yticks([])\n",
    "#     ax.margins(0, 0.01)\n",
    "#     ax.grid(which='major', axis='x', linestyle='-')\n",
    "#     ax.set_axisbelow(True)\n",
    "    \n",
    "#     ax.text(0, 1.15, 'Coronavirus',\n",
    "#             transform=ax.transAxes, size=24, weight=600, ha='left', va='top')\n",
    "# #     ax.text(1, 0, 'by @pratapvardhan; credit @jburnmurdoch', transform=ax.transAxes, color='#777777', ha='right',\n",
    "# #             bbox=dict(facecolor='white', alpha=0.8, edgecolor='white'))\n",
    "#     plt.box(False)"
   ]
  },
  {
   "cell_type": "code",
   "execution_count": 42,
   "id": "sexual-wages",
   "metadata": {
    "execution": {
     "iopub.execute_input": "2022-11-17T00:43:53.752631Z",
     "iopub.status.busy": "2022-11-17T00:43:53.752028Z",
     "iopub.status.idle": "2022-11-17T00:43:53.755077Z",
     "shell.execute_reply": "2022-11-17T00:43:53.754611Z"
    },
    "papermill": {
     "duration": 0.03735,
     "end_time": "2022-11-17T00:43:53.755183",
     "exception": false,
     "start_time": "2022-11-17T00:43:53.717833",
     "status": "completed"
    },
    "tags": []
   },
   "outputs": [],
   "source": [
    "# #hide_input\n",
    "# fig, ax = plt.subplots(figsize=(15, 8))\n",
    "# animator = animation.FuncAnimation(fig, draw_barchart, frames=range(g.day.values.min(), g.day.values.max()))\n",
    "# HTML(animator.to_jshtml())\n",
    "# # or use animator.to_html5_video() or animator.save() "
   ]
  },
  {
   "cell_type": "code",
   "execution_count": null,
   "id": "australian-container",
   "metadata": {
    "papermill": {
     "duration": 0.030742,
     "end_time": "2022-11-17T00:43:53.816898",
     "exception": false,
     "start_time": "2022-11-17T00:43:53.786156",
     "status": "completed"
    },
    "tags": []
   },
   "outputs": [],
   "source": []
  },
  {
   "cell_type": "code",
   "execution_count": null,
   "id": "mediterranean-pontiac",
   "metadata": {
    "papermill": {
     "duration": 0.030707,
     "end_time": "2022-11-17T00:43:53.878257",
     "exception": false,
     "start_time": "2022-11-17T00:43:53.847550",
     "status": "completed"
    },
    "tags": []
   },
   "outputs": [],
   "source": []
  },
  {
   "cell_type": "code",
   "execution_count": null,
   "id": "aging-legislature",
   "metadata": {
    "papermill": {
     "duration": 0.030622,
     "end_time": "2022-11-17T00:43:53.939924",
     "exception": false,
     "start_time": "2022-11-17T00:43:53.909302",
     "status": "completed"
    },
    "tags": []
   },
   "outputs": [],
   "source": []
  }
 ],
 "metadata": {
  "kernelspec": {
   "display_name": "Python 3",
   "language": "python",
   "name": "python3"
  },
  "language_info": {
   "codemirror_mode": {
    "name": "ipython",
    "version": 3
   },
   "file_extension": ".py",
   "mimetype": "text/x-python",
   "name": "python",
   "nbconvert_exporter": "python",
   "pygments_lexer": "ipython3",
   "version": "3.6.15"
  },
  "papermill": {
   "duration": 5.897076,
   "end_time": "2022-11-17T00:43:54.290722",
   "environment_variables": {},
   "exception": null,
   "input_path": "2020-03-21-covid19exp.ipynb",
   "output_path": "2020-03-21-covid19exp.ipynb",
   "parameters": {},
   "start_time": "2022-11-17T00:43:48.393646",
   "version": "2.0.0"
  }
 },
 "nbformat": 4,
 "nbformat_minor": 5
}