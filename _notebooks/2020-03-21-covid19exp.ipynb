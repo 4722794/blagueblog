{
 "cells": [
  {
   "cell_type": "markdown",
   "id": "muslim-click",
   "metadata": {
    "papermill": {
     "duration": 0.043822,
     "end_time": "2022-03-23T00:38:59.903604",
     "exception": false,
     "start_time": "2022-03-23T00:38:59.859782",
     "status": "completed"
    },
    "tags": []
   },
   "source": [
    "# COVID-19 Case Race\n",
    "> A race chart to see rising cases around the world\n",
    "\n",
    "- author: Hargun Oberoi\n",
    "- image: images/covid-overview.png\n",
    "- hide: false\n",
    "- badges: false"
   ]
  },
  {
   "cell_type": "code",
   "execution_count": 1,
   "id": "proof-material",
   "metadata": {
    "execution": {
     "iopub.execute_input": "2022-03-23T00:38:59.990222Z",
     "iopub.status.busy": "2022-03-23T00:38:59.989449Z",
     "iopub.status.idle": "2022-03-23T00:39:00.379750Z",
     "shell.execute_reply": "2022-03-23T00:39:00.378702Z"
    },
    "papermill": {
     "duration": 0.437373,
     "end_time": "2022-03-23T00:39:00.379924",
     "exception": false,
     "start_time": "2022-03-23T00:38:59.942551",
     "status": "completed"
    },
    "tags": []
   },
   "outputs": [],
   "source": [
    "#hide\n",
    "import numpy as np\n",
    "import pandas as pd\n",
    "from jinja2 import Template\n",
    "from IPython.display import HTML"
   ]
  },
  {
   "cell_type": "code",
   "execution_count": 2,
   "id": "developed-terminology",
   "metadata": {
    "execution": {
     "iopub.execute_input": "2022-03-23T00:39:00.460982Z",
     "iopub.status.busy": "2022-03-23T00:39:00.460336Z",
     "iopub.status.idle": "2022-03-23T00:39:00.462824Z",
     "shell.execute_reply": "2022-03-23T00:39:00.462301Z"
    },
    "papermill": {
     "duration": 0.043769,
     "end_time": "2022-03-23T00:39:00.462943",
     "exception": false,
     "start_time": "2022-03-23T00:39:00.419174",
     "status": "completed"
    },
    "tags": []
   },
   "outputs": [],
   "source": [
    "#hide\n",
    "\n",
    "# FETCH\n",
    "base_url = 'https://raw.githubusercontent.com/pratapvardhan/notebooks/master/covid19/'\n",
    "paths = {\n",
    "    'mapping': base_url + 'mapping_countries.csv',\n",
    "    'overview': base_url + 'overview.tpl'\n",
    "}"
   ]
  },
  {
   "cell_type": "code",
   "execution_count": 3,
   "id": "dynamic-saver",
   "metadata": {
    "execution": {
     "iopub.execute_input": "2022-03-23T00:39:00.547711Z",
     "iopub.status.busy": "2022-03-23T00:39:00.547084Z",
     "iopub.status.idle": "2022-03-23T00:39:00.550546Z",
     "shell.execute_reply": "2022-03-23T00:39:00.549992Z"
    },
    "papermill": {
     "duration": 0.051174,
     "end_time": "2022-03-23T00:39:00.550668",
     "exception": false,
     "start_time": "2022-03-23T00:39:00.499494",
     "status": "completed"
    },
    "tags": []
   },
   "outputs": [
    {
     "data": {
      "text/plain": [
       "'https://raw.githubusercontent.com/pratapvardhan/notebooks/master/covid19/mapping_countries.csv'"
      ]
     },
     "execution_count": 3,
     "metadata": {},
     "output_type": "execute_result"
    }
   ],
   "source": [
    "#hide\n",
    "paths['mapping']"
   ]
  },
  {
   "cell_type": "code",
   "execution_count": 4,
   "id": "urban-software",
   "metadata": {
    "execution": {
     "iopub.execute_input": "2022-03-23T00:39:00.628979Z",
     "iopub.status.busy": "2022-03-23T00:39:00.628291Z",
     "iopub.status.idle": "2022-03-23T00:39:00.630498Z",
     "shell.execute_reply": "2022-03-23T00:39:00.631052Z"
    },
    "papermill": {
     "duration": 0.044154,
     "end_time": "2022-03-23T00:39:00.631198",
     "exception": false,
     "start_time": "2022-03-23T00:39:00.587044",
     "status": "completed"
    },
    "tags": []
   },
   "outputs": [],
   "source": [
    "#hide\n",
    "def get_mappings(url):\n",
    "    df = pd.read_csv(url)\n",
    "    return {\n",
    "        'df': df,\n",
    "        'replace.country': dict(df.dropna(subset=['Name']).set_index('Country')['Name']),\n",
    "        'map.continent': dict(df.set_index('Name')['Continent'])\n",
    "    }"
   ]
  },
  {
   "cell_type": "code",
   "execution_count": 5,
   "id": "intimate-machinery",
   "metadata": {
    "execution": {
     "iopub.execute_input": "2022-03-23T00:39:00.708018Z",
     "iopub.status.busy": "2022-03-23T00:39:00.707328Z",
     "iopub.status.idle": "2022-03-23T00:39:00.739817Z",
     "shell.execute_reply": "2022-03-23T00:39:00.739228Z"
    },
    "papermill": {
     "duration": 0.072978,
     "end_time": "2022-03-23T00:39:00.739952",
     "exception": false,
     "start_time": "2022-03-23T00:39:00.666974",
     "status": "completed"
    },
    "tags": []
   },
   "outputs": [],
   "source": [
    "#hide\n",
    "mapping = get_mappings(paths['mapping'])"
   ]
  },
  {
   "cell_type": "code",
   "execution_count": 6,
   "id": "certified-tactics",
   "metadata": {
    "execution": {
     "iopub.execute_input": "2022-03-23T00:39:00.822706Z",
     "iopub.status.busy": "2022-03-23T00:39:00.821988Z",
     "iopub.status.idle": "2022-03-23T00:39:00.824482Z",
     "shell.execute_reply": "2022-03-23T00:39:00.823805Z"
    },
    "papermill": {
     "duration": 0.046939,
     "end_time": "2022-03-23T00:39:00.824631",
     "exception": false,
     "start_time": "2022-03-23T00:39:00.777692",
     "status": "completed"
    },
    "tags": []
   },
   "outputs": [],
   "source": [
    "#hide\n",
    "def get_template(path):\n",
    "    from urllib.parse import urlparse\n",
    "    if bool(urlparse(path).netloc):\n",
    "        from urllib.request import urlopen\n",
    "        return urlopen(path).read().decode('utf8')\n",
    "    return open(path).read()"
   ]
  },
  {
   "cell_type": "code",
   "execution_count": 7,
   "id": "realistic-blast",
   "metadata": {
    "execution": {
     "iopub.execute_input": "2022-03-23T00:39:00.909077Z",
     "iopub.status.busy": "2022-03-23T00:39:00.907520Z",
     "iopub.status.idle": "2022-03-23T00:39:00.912737Z",
     "shell.execute_reply": "2022-03-23T00:39:00.913218Z"
    },
    "papermill": {
     "duration": 0.047658,
     "end_time": "2022-03-23T00:39:00.913365",
     "exception": false,
     "start_time": "2022-03-23T00:39:00.865707",
     "status": "completed"
    },
    "tags": []
   },
   "outputs": [],
   "source": [
    "#hide\n",
    "def get_frame(name):\n",
    "    url = (\n",
    "        'https://raw.githubusercontent.com/CSSEGISandData/COVID-19/master/csse_covid_19_data/'\n",
    "        f'csse_covid_19_time_series/time_series_covid19_{name}_global.csv')\n",
    "    df = pd.read_csv(url)\n",
    "    # rename countries\n",
    "    df['Country/Region'] = df['Country/Region'].replace(mapping['replace.country'])\n",
    "    return df"
   ]
  },
  {
   "cell_type": "code",
   "execution_count": 8,
   "id": "affiliated-characterization",
   "metadata": {
    "execution": {
     "iopub.execute_input": "2022-03-23T00:39:00.993044Z",
     "iopub.status.busy": "2022-03-23T00:39:00.992352Z",
     "iopub.status.idle": "2022-03-23T00:39:00.995186Z",
     "shell.execute_reply": "2022-03-23T00:39:00.994650Z"
    },
    "papermill": {
     "duration": 0.045009,
     "end_time": "2022-03-23T00:39:00.995299",
     "exception": false,
     "start_time": "2022-03-23T00:39:00.950290",
     "status": "completed"
    },
    "tags": []
   },
   "outputs": [],
   "source": [
    "#hide\n",
    "def get_dates(df):\n",
    "    dt_cols = df.columns[~df.columns.isin(['Province/State', 'Country/Region', 'Lat', 'Long'])]\n",
    "    LAST_DATE_I = -1\n",
    "    # sometimes last column may be empty, then go backwards\n",
    "    for i in range(-1, -len(dt_cols), -1):\n",
    "        if not df[dt_cols[i]].fillna(0).eq(0).all():\n",
    "            LAST_DATE_I = i\n",
    "            break\n",
    "    return LAST_DATE_I, dt_cols"
   ]
  },
  {
   "cell_type": "code",
   "execution_count": 9,
   "id": "recent-optimization",
   "metadata": {
    "execution": {
     "iopub.execute_input": "2022-03-23T00:39:01.074575Z",
     "iopub.status.busy": "2022-03-23T00:39:01.073881Z",
     "iopub.status.idle": "2022-03-23T00:39:01.527196Z",
     "shell.execute_reply": "2022-03-23T00:39:01.526586Z"
    },
    "papermill": {
     "duration": 0.494405,
     "end_time": "2022-03-23T00:39:01.527332",
     "exception": false,
     "start_time": "2022-03-23T00:39:01.032927",
     "status": "completed"
    },
    "tags": []
   },
   "outputs": [],
   "source": [
    "#hide\n",
    "COL_REGION = 'Country/Region'\n",
    "# Confirmed, Recovered, Deaths\n",
    "df = get_frame('confirmed')\n",
    "# dft_: timeseries, dfc_: today country agg\n",
    "dft_cases = df\n",
    "dft_deaths = get_frame('deaths')\n",
    "dft_recovered = get_frame('recovered')\n",
    "LAST_DATE_I, dt_cols = get_dates(df)"
   ]
  },
  {
   "cell_type": "code",
   "execution_count": 10,
   "id": "absolute-copper",
   "metadata": {
    "execution": {
     "iopub.execute_input": "2022-03-23T00:39:01.606854Z",
     "iopub.status.busy": "2022-03-23T00:39:01.606159Z",
     "iopub.status.idle": "2022-03-23T00:39:01.609381Z",
     "shell.execute_reply": "2022-03-23T00:39:01.608717Z"
    },
    "papermill": {
     "duration": 0.044351,
     "end_time": "2022-03-23T00:39:01.609512",
     "exception": false,
     "start_time": "2022-03-23T00:39:01.565161",
     "status": "completed"
    },
    "tags": []
   },
   "outputs": [],
   "source": [
    "#hide\n",
    "LAST_DATE_I, dt_cols = get_dates(df)\n",
    "dt_today =dt_cols[LAST_DATE_I]\n",
    "# dt_5day = dt_cols[LAST_DATE_I - 5]\n",
    "dt_yday = dt_cols[LAST_DATE_I - 1]"
   ]
  },
  {
   "cell_type": "code",
   "execution_count": 11,
   "id": "restricted-sheriff",
   "metadata": {
    "execution": {
     "iopub.execute_input": "2022-03-23T00:39:01.695868Z",
     "iopub.status.busy": "2022-03-23T00:39:01.692671Z",
     "iopub.status.idle": "2022-03-23T00:39:01.698196Z",
     "shell.execute_reply": "2022-03-23T00:39:01.697642Z"
    },
    "papermill": {
     "duration": 0.051249,
     "end_time": "2022-03-23T00:39:01.698321",
     "exception": false,
     "start_time": "2022-03-23T00:39:01.647072",
     "status": "completed"
    },
    "tags": []
   },
   "outputs": [],
   "source": [
    "#hide\n",
    "dfc_cases = dft_cases.groupby(COL_REGION)[dt_today].sum()\n",
    "dfc_deaths = dft_deaths.groupby(COL_REGION)[dt_today].sum()\n",
    "# dfp_cases = dft_cases.groupby(COL_REGION)[dt_5day].sum()\n",
    "# dfp_deaths = dft_deaths.groupby(COL_REGION)[dt_5day].sum()\n",
    "dfp_cases = dft_cases.groupby(COL_REGION)[dt_yday].sum()\n",
    "dfp_deaths = dft_deaths.groupby(COL_REGION)[dt_yday].sum()"
   ]
  },
  {
   "cell_type": "code",
   "execution_count": 12,
   "id": "deluxe-hepatitis",
   "metadata": {
    "execution": {
     "iopub.execute_input": "2022-03-23T00:39:01.780268Z",
     "iopub.status.busy": "2022-03-23T00:39:01.779568Z",
     "iopub.status.idle": "2022-03-23T00:39:01.784900Z",
     "shell.execute_reply": "2022-03-23T00:39:01.784357Z"
    },
    "papermill": {
     "duration": 0.048666,
     "end_time": "2022-03-23T00:39:01.785021",
     "exception": false,
     "start_time": "2022-03-23T00:39:01.736355",
     "status": "completed"
    },
    "tags": []
   },
   "outputs": [],
   "source": [
    "#hide\n",
    "df_table = (pd.DataFrame(dict(Cases = dfc_cases, Deaths = dfc_deaths, PCases = dfp_cases, PDeaths = dfp_deaths))\n",
    "            .sort_values(by = ['Cases','Deaths'], ascending = [False, False])\n",
    "            .reset_index())"
   ]
  },
  {
   "cell_type": "code",
   "execution_count": 13,
   "id": "educational-chancellor",
   "metadata": {
    "execution": {
     "iopub.execute_input": "2022-03-23T00:39:01.887352Z",
     "iopub.status.busy": "2022-03-23T00:39:01.881127Z",
     "iopub.status.idle": "2022-03-23T00:39:01.890486Z",
     "shell.execute_reply": "2022-03-23T00:39:01.889949Z"
    },
    "papermill": {
     "duration": 0.067331,
     "end_time": "2022-03-23T00:39:01.890685",
     "exception": false,
     "start_time": "2022-03-23T00:39:01.823354",
     "status": "completed"
    },
    "tags": []
   },
   "outputs": [
    {
     "data": {
      "text/html": [
       "<div>\n",
       "<style scoped>\n",
       "    .dataframe tbody tr th:only-of-type {\n",
       "        vertical-align: middle;\n",
       "    }\n",
       "\n",
       "    .dataframe tbody tr th {\n",
       "        vertical-align: top;\n",
       "    }\n",
       "\n",
       "    .dataframe thead th {\n",
       "        text-align: right;\n",
       "    }\n",
       "</style>\n",
       "<table border=\"1\" class=\"dataframe\">\n",
       "  <thead>\n",
       "    <tr style=\"text-align: right;\">\n",
       "      <th></th>\n",
       "      <th>Country/Region</th>\n",
       "      <th>Cases</th>\n",
       "      <th>Deaths</th>\n",
       "      <th>PCases</th>\n",
       "      <th>PDeaths</th>\n",
       "      <th>Cases (+)</th>\n",
       "      <th>Deaths (+)</th>\n",
       "      <th>Fatality Rate</th>\n",
       "      <th>Continent</th>\n",
       "    </tr>\n",
       "  </thead>\n",
       "  <tbody>\n",
       "    <tr>\n",
       "      <th>0</th>\n",
       "      <td>US</td>\n",
       "      <td>79780432</td>\n",
       "      <td>972658</td>\n",
       "      <td>79734788</td>\n",
       "      <td>971162</td>\n",
       "      <td>45644</td>\n",
       "      <td>1496</td>\n",
       "      <td>1.22</td>\n",
       "      <td>North America</td>\n",
       "    </tr>\n",
       "    <tr>\n",
       "      <th>1</th>\n",
       "      <td>India</td>\n",
       "      <td>43010971</td>\n",
       "      <td>516543</td>\n",
       "      <td>43009390</td>\n",
       "      <td>516510</td>\n",
       "      <td>1581</td>\n",
       "      <td>33</td>\n",
       "      <td>1.20</td>\n",
       "      <td>Asia</td>\n",
       "    </tr>\n",
       "    <tr>\n",
       "      <th>2</th>\n",
       "      <td>Brazil</td>\n",
       "      <td>29650082</td>\n",
       "      <td>657595</td>\n",
       "      <td>29637814</td>\n",
       "      <td>657495</td>\n",
       "      <td>12268</td>\n",
       "      <td>100</td>\n",
       "      <td>2.22</td>\n",
       "      <td>South America</td>\n",
       "    </tr>\n",
       "    <tr>\n",
       "      <th>3</th>\n",
       "      <td>France</td>\n",
       "      <td>24347772</td>\n",
       "      <td>142114</td>\n",
       "      <td>24323239</td>\n",
       "      <td>141961</td>\n",
       "      <td>24533</td>\n",
       "      <td>153</td>\n",
       "      <td>0.58</td>\n",
       "      <td>Europe</td>\n",
       "    </tr>\n",
       "    <tr>\n",
       "      <th>4</th>\n",
       "      <td>United Kingdom</td>\n",
       "      <td>20470351</td>\n",
       "      <td>164266</td>\n",
       "      <td>20243940</td>\n",
       "      <td>164099</td>\n",
       "      <td>226411</td>\n",
       "      <td>167</td>\n",
       "      <td>0.80</td>\n",
       "      <td>Europe</td>\n",
       "    </tr>\n",
       "  </tbody>\n",
       "</table>\n",
       "</div>"
      ],
      "text/plain": [
       "   Country/Region     Cases  Deaths    PCases  PDeaths  Cases (+)  Deaths (+)  \\\n",
       "0              US  79780432  972658  79734788   971162      45644        1496   \n",
       "1           India  43010971  516543  43009390   516510       1581          33   \n",
       "2          Brazil  29650082  657595  29637814   657495      12268         100   \n",
       "3          France  24347772  142114  24323239   141961      24533         153   \n",
       "4  United Kingdom  20470351  164266  20243940   164099     226411         167   \n",
       "\n",
       "   Fatality Rate      Continent  \n",
       "0           1.22  North America  \n",
       "1           1.20           Asia  \n",
       "2           2.22  South America  \n",
       "3           0.58         Europe  \n",
       "4           0.80         Europe  "
      ]
     },
     "execution_count": 13,
     "metadata": {},
     "output_type": "execute_result"
    }
   ],
   "source": [
    "#hide\n",
    "for c in 'Cases, Deaths'.split(', '):\n",
    "    df_table[f'{c} (+)'] = (df_table[c] - df_table[f'P{c}']).clip(0)\n",
    "    #Clip ça veut dire, les chiffres negatif sont interdit\n",
    "df_table['Fatality Rate'] = (100* df_table['Deaths']/ df_table['Cases']).round(2)\n",
    "df_table['Continent'] = df_table['Country/Region'].map(mapping['map.continent'])\n",
    "df_table.head(5)"
   ]
  },
  {
   "cell_type": "code",
   "execution_count": 14,
   "id": "aboriginal-bulgaria",
   "metadata": {
    "execution": {
     "iopub.execute_input": "2022-03-23T00:39:01.974305Z",
     "iopub.status.busy": "2022-03-23T00:39:01.973579Z",
     "iopub.status.idle": "2022-03-23T00:39:01.976501Z",
     "shell.execute_reply": "2022-03-23T00:39:01.975948Z"
    },
    "papermill": {
     "duration": 0.04758,
     "end_time": "2022-03-23T00:39:01.976640",
     "exception": false,
     "start_time": "2022-03-23T00:39:01.929060",
     "status": "completed"
    },
    "tags": []
   },
   "outputs": [],
   "source": [
    "#hide\n",
    "#delete problematic countries from table\n",
    "df_table = df_table[~df_table['Country/Region'].isin(['Cape Verde', 'Cruise Ship', 'Kosovo'])]"
   ]
  },
  {
   "cell_type": "code",
   "execution_count": 15,
   "id": "fantastic-effect",
   "metadata": {
    "execution": {
     "iopub.execute_input": "2022-03-23T00:39:02.098754Z",
     "iopub.status.busy": "2022-03-23T00:39:02.097566Z",
     "iopub.status.idle": "2022-03-23T00:39:02.100727Z",
     "shell.execute_reply": "2022-03-23T00:39:02.101223Z"
    },
    "papermill": {
     "duration": 0.087168,
     "end_time": "2022-03-23T00:39:02.101363",
     "exception": false,
     "start_time": "2022-03-23T00:39:02.014195",
     "status": "completed"
    },
    "tags": []
   },
   "outputs": [
    {
     "data": {
      "text/html": [
       "<div>\n",
       "<style scoped>\n",
       "    .dataframe tbody tr th:only-of-type {\n",
       "        vertical-align: middle;\n",
       "    }\n",
       "\n",
       "    .dataframe tbody tr th {\n",
       "        vertical-align: top;\n",
       "    }\n",
       "\n",
       "    .dataframe thead th {\n",
       "        text-align: right;\n",
       "    }\n",
       "</style>\n",
       "<table border=\"1\" class=\"dataframe\">\n",
       "  <thead>\n",
       "    <tr style=\"text-align: right;\">\n",
       "      <th></th>\n",
       "      <th>Country/Region</th>\n",
       "      <th>Cases</th>\n",
       "      <th>Deaths</th>\n",
       "      <th>PCases</th>\n",
       "      <th>PDeaths</th>\n",
       "      <th>Cases (+)</th>\n",
       "      <th>Deaths (+)</th>\n",
       "      <th>Fatality Rate</th>\n",
       "      <th>Continent</th>\n",
       "    </tr>\n",
       "  </thead>\n",
       "  <tbody>\n",
       "    <tr>\n",
       "      <th>0</th>\n",
       "      <td>US</td>\n",
       "      <td>79780432</td>\n",
       "      <td>972658</td>\n",
       "      <td>79734788</td>\n",
       "      <td>971162</td>\n",
       "      <td>45644</td>\n",
       "      <td>1496</td>\n",
       "      <td>1.2</td>\n",
       "      <td>North America</td>\n",
       "    </tr>\n",
       "    <tr>\n",
       "      <th>1</th>\n",
       "      <td>India</td>\n",
       "      <td>43010971</td>\n",
       "      <td>516543</td>\n",
       "      <td>43009390</td>\n",
       "      <td>516510</td>\n",
       "      <td>1581</td>\n",
       "      <td>33</td>\n",
       "      <td>1.2</td>\n",
       "      <td>Asia</td>\n",
       "    </tr>\n",
       "    <tr>\n",
       "      <th>2</th>\n",
       "      <td>Brazil</td>\n",
       "      <td>29650082</td>\n",
       "      <td>657595</td>\n",
       "      <td>29637814</td>\n",
       "      <td>657495</td>\n",
       "      <td>12268</td>\n",
       "      <td>100</td>\n",
       "      <td>2.2</td>\n",
       "      <td>South America</td>\n",
       "    </tr>\n",
       "    <tr>\n",
       "      <th>3</th>\n",
       "      <td>France</td>\n",
       "      <td>24347772</td>\n",
       "      <td>142114</td>\n",
       "      <td>24323239</td>\n",
       "      <td>141961</td>\n",
       "      <td>24533</td>\n",
       "      <td>153</td>\n",
       "      <td>0.6</td>\n",
       "      <td>Europe</td>\n",
       "    </tr>\n",
       "    <tr>\n",
       "      <th>4</th>\n",
       "      <td>United Kingdom</td>\n",
       "      <td>20470351</td>\n",
       "      <td>164266</td>\n",
       "      <td>20243940</td>\n",
       "      <td>164099</td>\n",
       "      <td>226411</td>\n",
       "      <td>167</td>\n",
       "      <td>0.8</td>\n",
       "      <td>Europe</td>\n",
       "    </tr>\n",
       "  </tbody>\n",
       "</table>\n",
       "</div>"
      ],
      "text/plain": [
       "   Country/Region     Cases  Deaths    PCases  PDeaths  Cases (+)  Deaths (+)  \\\n",
       "0              US  79780432  972658  79734788   971162      45644        1496   \n",
       "1           India  43010971  516543  43009390   516510       1581          33   \n",
       "2          Brazil  29650082  657595  29637814   657495      12268         100   \n",
       "3          France  24347772  142114  24323239   141961      24533         153   \n",
       "4  United Kingdom  20470351  164266  20243940   164099     226411         167   \n",
       "\n",
       "   Fatality Rate      Continent  \n",
       "0            1.2  North America  \n",
       "1            1.2           Asia  \n",
       "2            2.2  South America  \n",
       "3            0.6         Europe  \n",
       "4            0.8         Europe  "
      ]
     },
     "execution_count": 15,
     "metadata": {},
     "output_type": "execute_result"
    }
   ],
   "source": [
    "#hide\n",
    "df_table = (pd.DataFrame(dict(Cases=dfc_cases, Deaths=dfc_deaths, PCases=dfp_cases, PDeaths=dfp_deaths))\n",
    "             .sort_values(by=['Cases', 'Deaths'], ascending=[False, False])\n",
    "             .reset_index())\n",
    "df_table.rename(columns={'index': 'Country/Region'}, inplace=True)\n",
    "for c in 'Cases, Deaths'.split(', '):\n",
    "    df_table[f'{c} (+)'] = (df_table[c] - df_table[f'P{c}']).clip(0)  # DATA BUG\n",
    "df_table['Fatality Rate'] = (100 * df_table['Deaths'] / df_table['Cases']).round(1)\n",
    "df_table['Continent'] = df_table['Country/Region'].map(mapping['map.continent'])\n",
    "df_table.head(5)"
   ]
  },
  {
   "cell_type": "code",
   "execution_count": 16,
   "id": "fewer-occasion",
   "metadata": {
    "execution": {
     "iopub.execute_input": "2022-03-23T00:39:02.192683Z",
     "iopub.status.busy": "2022-03-23T00:39:02.192039Z",
     "iopub.status.idle": "2022-03-23T00:39:02.194680Z",
     "shell.execute_reply": "2022-03-23T00:39:02.194153Z"
    },
    "papermill": {
     "duration": 0.044894,
     "end_time": "2022-03-23T00:39:02.194822",
     "exception": false,
     "start_time": "2022-03-23T00:39:02.149928",
     "status": "completed"
    },
    "tags": []
   },
   "outputs": [],
   "source": [
    "#hide\n",
    "#delete problematic countries from table\n",
    "df_table = df_table[~df_table['Country/Region'].isin(['Cape Verde', 'Cruise Ship', 'Kosovo'])]"
   ]
  },
  {
   "cell_type": "code",
   "execution_count": 17,
   "id": "related-center",
   "metadata": {
    "execution": {
     "iopub.execute_input": "2022-03-23T00:39:02.292771Z",
     "iopub.status.busy": "2022-03-23T00:39:02.292069Z",
     "iopub.status.idle": "2022-03-23T00:39:02.294668Z",
     "shell.execute_reply": "2022-03-23T00:39:02.294087Z"
    },
    "papermill": {
     "duration": 0.060535,
     "end_time": "2022-03-23T00:39:02.294813",
     "exception": false,
     "start_time": "2022-03-23T00:39:02.234278",
     "status": "completed"
    },
    "tags": []
   },
   "outputs": [],
   "source": [
    "#hide\n",
    "metrics = [df_table.columns[index] for index in [1,2,5,6]]\n",
    "# s_china = df_table[df_table['Country/Region'].eq('China')][metrics].sum().add_prefix('China ')\n",
    "s_us = df_table[df_table['Country/Region'].eq('US')][metrics].sum().add_prefix('US ')\n",
    "s_eu = df_table[df_table['Continent'].eq('Europe')][metrics].sum().add_prefix('EU ')\n",
    "s_ind = df_table[df_table['Country/Region'].eq('India')][metrics].sum().add_prefix('India ')\n",
    "summary = {'updated': pd.to_datetime(dt_today), 'since': pd.to_datetime(dt_yday)}\n",
    "summary = {'updated': pd.to_datetime(dt_today), 'since': pd.to_datetime(dt_yday)}\n",
    "summary = {**summary, **df_table[metrics].sum(), **s_ind, **s_us, **s_eu}"
   ]
  },
  {
   "cell_type": "code",
   "execution_count": 18,
   "id": "engaging-syndrome",
   "metadata": {
    "execution": {
     "iopub.execute_input": "2022-03-23T00:39:02.378956Z",
     "iopub.status.busy": "2022-03-23T00:39:02.377662Z",
     "iopub.status.idle": "2022-03-23T00:39:02.396381Z",
     "shell.execute_reply": "2022-03-23T00:39:02.396869Z"
    },
    "papermill": {
     "duration": 0.061117,
     "end_time": "2022-03-23T00:39:02.397043",
     "exception": false,
     "start_time": "2022-03-23T00:39:02.335926",
     "status": "completed"
    },
    "tags": []
   },
   "outputs": [],
   "source": [
    "#hide\n",
    "dft_ct_new_cases = dft_cases.groupby(COL_REGION)[dt_cols].sum().diff(axis=1).fillna(0).astype(int)"
   ]
  },
  {
   "cell_type": "code",
   "execution_count": 19,
   "id": "neutral-assignment",
   "metadata": {
    "execution": {
     "iopub.execute_input": "2022-03-23T00:39:02.486376Z",
     "iopub.status.busy": "2022-03-23T00:39:02.485661Z",
     "iopub.status.idle": "2022-03-23T00:39:02.488431Z",
     "shell.execute_reply": "2022-03-23T00:39:02.487854Z"
    },
    "papermill": {
     "duration": 0.052109,
     "end_time": "2022-03-23T00:39:02.488566",
     "exception": false,
     "start_time": "2022-03-23T00:39:02.436457",
     "status": "completed"
    },
    "tags": []
   },
   "outputs": [],
   "source": [
    "#hide\n",
    "everydaycases = dft_ct_new_cases.cumsum(axis=1)"
   ]
  },
  {
   "cell_type": "code",
   "execution_count": 20,
   "id": "parliamentary-calgary",
   "metadata": {
    "execution": {
     "iopub.execute_input": "2022-03-23T00:39:02.570656Z",
     "iopub.status.busy": "2022-03-23T00:39:02.569980Z",
     "iopub.status.idle": "2022-03-23T00:39:03.261338Z",
     "shell.execute_reply": "2022-03-23T00:39:03.261894Z"
    },
    "papermill": {
     "duration": 0.733329,
     "end_time": "2022-03-23T00:39:03.262128",
     "exception": false,
     "start_time": "2022-03-23T00:39:02.528799",
     "status": "completed"
    },
    "tags": []
   },
   "outputs": [],
   "source": [
    "#hide\n",
    "import pandas as pd\n",
    "import matplotlib.pyplot as plt\n",
    "import matplotlib.ticker as ticker\n",
    "import matplotlib.animation as animation\n",
    "from IPython.display import HTML"
   ]
  },
  {
   "cell_type": "code",
   "execution_count": 21,
   "id": "lasting-extraction",
   "metadata": {
    "execution": {
     "iopub.execute_input": "2022-03-23T00:39:03.349582Z",
     "iopub.status.busy": "2022-03-23T00:39:03.348929Z",
     "iopub.status.idle": "2022-03-23T00:39:03.355748Z",
     "shell.execute_reply": "2022-03-23T00:39:03.356347Z"
    },
    "papermill": {
     "duration": 0.054552,
     "end_time": "2022-03-23T00:39:03.356485",
     "exception": false,
     "start_time": "2022-03-23T00:39:03.301933",
     "status": "completed"
    },
    "tags": []
   },
   "outputs": [],
   "source": [
    "#hide\n",
    "t = everydaycases.stack()"
   ]
  },
  {
   "cell_type": "code",
   "execution_count": 22,
   "id": "premier-sleeve",
   "metadata": {
    "execution": {
     "iopub.execute_input": "2022-03-23T00:39:03.440288Z",
     "iopub.status.busy": "2022-03-23T00:39:03.439564Z",
     "iopub.status.idle": "2022-03-23T00:39:03.450446Z",
     "shell.execute_reply": "2022-03-23T00:39:03.451042Z"
    },
    "papermill": {
     "duration": 0.055583,
     "end_time": "2022-03-23T00:39:03.451383",
     "exception": false,
     "start_time": "2022-03-23T00:39:03.395800",
     "status": "completed"
    },
    "tags": []
   },
   "outputs": [],
   "source": [
    "#hide\n",
    "g = t.reset_index(['Country/Region'])"
   ]
  },
  {
   "cell_type": "code",
   "execution_count": 23,
   "id": "distributed-pittsburgh",
   "metadata": {
    "execution": {
     "iopub.execute_input": "2022-03-23T00:39:03.534986Z",
     "iopub.status.busy": "2022-03-23T00:39:03.534286Z",
     "iopub.status.idle": "2022-03-23T00:39:03.536522Z",
     "shell.execute_reply": "2022-03-23T00:39:03.537067Z"
    },
    "papermill": {
     "duration": 0.046753,
     "end_time": "2022-03-23T00:39:03.537227",
     "exception": false,
     "start_time": "2022-03-23T00:39:03.490474",
     "status": "completed"
    },
    "tags": []
   },
   "outputs": [],
   "source": [
    "#hide\n",
    "g.index.name = 'date'"
   ]
  },
  {
   "cell_type": "code",
   "execution_count": 24,
   "id": "naked-donor",
   "metadata": {
    "execution": {
     "iopub.execute_input": "2022-03-23T00:39:03.616049Z",
     "iopub.status.busy": "2022-03-23T00:39:03.615304Z",
     "iopub.status.idle": "2022-03-23T00:39:03.619315Z",
     "shell.execute_reply": "2022-03-23T00:39:03.619868Z"
    },
    "papermill": {
     "duration": 0.045022,
     "end_time": "2022-03-23T00:39:03.620012",
     "exception": false,
     "start_time": "2022-03-23T00:39:03.574990",
     "status": "completed"
    },
    "tags": []
   },
   "outputs": [],
   "source": [
    "# #hide\n",
    "# g = g.reset_index(['date'])"
   ]
  },
  {
   "cell_type": "code",
   "execution_count": 25,
   "id": "incomplete-mustang",
   "metadata": {
    "execution": {
     "iopub.execute_input": "2022-03-23T00:39:03.705314Z",
     "iopub.status.busy": "2022-03-23T00:39:03.703825Z",
     "iopub.status.idle": "2022-03-23T00:39:03.706095Z",
     "shell.execute_reply": "2022-03-23T00:39:03.706630Z"
    },
    "papermill": {
     "duration": 0.045998,
     "end_time": "2022-03-23T00:39:03.706785",
     "exception": false,
     "start_time": "2022-03-23T00:39:03.660787",
     "status": "completed"
    },
    "tags": []
   },
   "outputs": [],
   "source": [
    "#hide\n",
    "# g.head()"
   ]
  },
  {
   "cell_type": "code",
   "execution_count": 26,
   "id": "specific-kruger",
   "metadata": {
    "execution": {
     "iopub.execute_input": "2022-03-23T00:39:03.786615Z",
     "iopub.status.busy": "2022-03-23T00:39:03.785956Z",
     "iopub.status.idle": "2022-03-23T00:39:03.788888Z",
     "shell.execute_reply": "2022-03-23T00:39:03.789412Z"
    },
    "papermill": {
     "duration": 0.043781,
     "end_time": "2022-03-23T00:39:03.789557",
     "exception": false,
     "start_time": "2022-03-23T00:39:03.745776",
     "status": "completed"
    },
    "tags": []
   },
   "outputs": [],
   "source": [
    "#hide\n",
    "# g.columns = ['date','country','cases']"
   ]
  },
  {
   "cell_type": "code",
   "execution_count": 27,
   "id": "tender-conversion",
   "metadata": {
    "execution": {
     "iopub.execute_input": "2022-03-23T00:39:03.871497Z",
     "iopub.status.busy": "2022-03-23T00:39:03.870794Z",
     "iopub.status.idle": "2022-03-23T00:39:03.875445Z",
     "shell.execute_reply": "2022-03-23T00:39:03.874656Z"
    },
    "papermill": {
     "duration": 0.047853,
     "end_time": "2022-03-23T00:39:03.875583",
     "exception": false,
     "start_time": "2022-03-23T00:39:03.827730",
     "status": "completed"
    },
    "tags": []
   },
   "outputs": [],
   "source": [
    "#hide\n",
    "# g['continent'] = g.country"
   ]
  },
  {
   "cell_type": "code",
   "execution_count": 28,
   "id": "substantial-wilderness",
   "metadata": {
    "execution": {
     "iopub.execute_input": "2022-03-23T00:39:03.956035Z",
     "iopub.status.busy": "2022-03-23T00:39:03.955236Z",
     "iopub.status.idle": "2022-03-23T00:39:03.959233Z",
     "shell.execute_reply": "2022-03-23T00:39:03.959724Z"
    },
    "papermill": {
     "duration": 0.04775,
     "end_time": "2022-03-23T00:39:03.959950",
     "exception": false,
     "start_time": "2022-03-23T00:39:03.912200",
     "status": "completed"
    },
    "tags": []
   },
   "outputs": [],
   "source": [
    "#hide\n",
    "# cols = list(g.columns.values)"
   ]
  },
  {
   "cell_type": "code",
   "execution_count": 29,
   "id": "solved-farming",
   "metadata": {
    "execution": {
     "iopub.execute_input": "2022-03-23T00:39:04.042965Z",
     "iopub.status.busy": "2022-03-23T00:39:04.042260Z",
     "iopub.status.idle": "2022-03-23T00:39:04.045087Z",
     "shell.execute_reply": "2022-03-23T00:39:04.044522Z"
    },
    "papermill": {
     "duration": 0.046283,
     "end_time": "2022-03-23T00:39:04.045223",
     "exception": false,
     "start_time": "2022-03-23T00:39:03.998940",
     "status": "completed"
    },
    "tags": []
   },
   "outputs": [],
   "source": [
    "#hide\n",
    "# cols.insert(0, cols.pop())"
   ]
  },
  {
   "cell_type": "code",
   "execution_count": 30,
   "id": "executed-adoption",
   "metadata": {
    "execution": {
     "iopub.execute_input": "2022-03-23T00:39:04.127212Z",
     "iopub.status.busy": "2022-03-23T00:39:04.126537Z",
     "iopub.status.idle": "2022-03-23T00:39:04.129445Z",
     "shell.execute_reply": "2022-03-23T00:39:04.128872Z"
    },
    "papermill": {
     "duration": 0.047023,
     "end_time": "2022-03-23T00:39:04.129581",
     "exception": false,
     "start_time": "2022-03-23T00:39:04.082558",
     "status": "completed"
    },
    "tags": []
   },
   "outputs": [],
   "source": [
    "#hide\n",
    "# g = g[cols]"
   ]
  },
  {
   "cell_type": "code",
   "execution_count": 31,
   "id": "subject-dublin",
   "metadata": {
    "execution": {
     "iopub.execute_input": "2022-03-23T00:39:04.215664Z",
     "iopub.status.busy": "2022-03-23T00:39:04.214968Z",
     "iopub.status.idle": "2022-03-23T00:39:04.217717Z",
     "shell.execute_reply": "2022-03-23T00:39:04.218401Z"
    },
    "papermill": {
     "duration": 0.046051,
     "end_time": "2022-03-23T00:39:04.218576",
     "exception": false,
     "start_time": "2022-03-23T00:39:04.172525",
     "status": "completed"
    },
    "tags": []
   },
   "outputs": [],
   "source": [
    "#hide\n",
    "# g['continent'] = g['continent'].map(mapping['map.continent'])"
   ]
  },
  {
   "cell_type": "code",
   "execution_count": 32,
   "id": "freelance-scout",
   "metadata": {
    "execution": {
     "iopub.execute_input": "2022-03-23T00:39:04.296136Z",
     "iopub.status.busy": "2022-03-23T00:39:04.295524Z",
     "iopub.status.idle": "2022-03-23T00:39:04.297865Z",
     "shell.execute_reply": "2022-03-23T00:39:04.298365Z"
    },
    "papermill": {
     "duration": 0.043195,
     "end_time": "2022-03-23T00:39:04.298496",
     "exception": false,
     "start_time": "2022-03-23T00:39:04.255301",
     "status": "completed"
    },
    "tags": []
   },
   "outputs": [],
   "source": [
    "#hide\n",
    "# g.head()"
   ]
  },
  {
   "cell_type": "code",
   "execution_count": 33,
   "id": "limited-engine",
   "metadata": {
    "execution": {
     "iopub.execute_input": "2022-03-23T00:39:04.376259Z",
     "iopub.status.busy": "2022-03-23T00:39:04.375438Z",
     "iopub.status.idle": "2022-03-23T00:39:04.377518Z",
     "shell.execute_reply": "2022-03-23T00:39:04.378084Z"
    },
    "papermill": {
     "duration": 0.042983,
     "end_time": "2022-03-23T00:39:04.378261",
     "exception": false,
     "start_time": "2022-03-23T00:39:04.335278",
     "status": "completed"
    },
    "tags": []
   },
   "outputs": [],
   "source": [
    "# hide\n",
    "# g['date'] = g['date'].astype('datetime64[ns]')"
   ]
  },
  {
   "cell_type": "code",
   "execution_count": 34,
   "id": "sophisticated-supervisor",
   "metadata": {
    "execution": {
     "iopub.execute_input": "2022-03-23T00:39:04.459467Z",
     "iopub.status.busy": "2022-03-23T00:39:04.458805Z",
     "iopub.status.idle": "2022-03-23T00:39:04.461612Z",
     "shell.execute_reply": "2022-03-23T00:39:04.460968Z"
    },
    "papermill": {
     "duration": 0.045044,
     "end_time": "2022-03-23T00:39:04.461753",
     "exception": false,
     "start_time": "2022-03-23T00:39:04.416709",
     "status": "completed"
    },
    "tags": []
   },
   "outputs": [],
   "source": [
    "#hide\n",
    "# g['date'] = g.date.dt.dayofyear"
   ]
  },
  {
   "cell_type": "code",
   "execution_count": 35,
   "id": "inside-dubai",
   "metadata": {
    "execution": {
     "iopub.execute_input": "2022-03-23T00:39:04.542048Z",
     "iopub.status.busy": "2022-03-23T00:39:04.541314Z",
     "iopub.status.idle": "2022-03-23T00:39:04.543595Z",
     "shell.execute_reply": "2022-03-23T00:39:04.544161Z"
    },
    "papermill": {
     "duration": 0.044338,
     "end_time": "2022-03-23T00:39:04.544295",
     "exception": false,
     "start_time": "2022-03-23T00:39:04.499957",
     "status": "completed"
    },
    "tags": []
   },
   "outputs": [],
   "source": [
    "#hide\n",
    "# g = g.rename(columns= {'continent':'group','country':'name','cases':'value'})"
   ]
  },
  {
   "cell_type": "code",
   "execution_count": 36,
   "id": "fleet-motorcycle",
   "metadata": {
    "execution": {
     "iopub.execute_input": "2022-03-23T00:39:04.625594Z",
     "iopub.status.busy": "2022-03-23T00:39:04.624884Z",
     "iopub.status.idle": "2022-03-23T00:39:04.628677Z",
     "shell.execute_reply": "2022-03-23T00:39:04.629196Z"
    },
    "papermill": {
     "duration": 0.046561,
     "end_time": "2022-03-23T00:39:04.629357",
     "exception": false,
     "start_time": "2022-03-23T00:39:04.582796",
     "status": "completed"
    },
    "tags": []
   },
   "outputs": [],
   "source": [
    "#hide\n",
    "# cols = ['name','group','day','value']"
   ]
  },
  {
   "cell_type": "code",
   "execution_count": 37,
   "id": "continued-sleeping",
   "metadata": {
    "execution": {
     "iopub.execute_input": "2022-03-23T00:39:04.717409Z",
     "iopub.status.busy": "2022-03-23T00:39:04.716740Z",
     "iopub.status.idle": "2022-03-23T00:39:04.719366Z",
     "shell.execute_reply": "2022-03-23T00:39:04.718701Z"
    },
    "papermill": {
     "duration": 0.045758,
     "end_time": "2022-03-23T00:39:04.719484",
     "exception": false,
     "start_time": "2022-03-23T00:39:04.673726",
     "status": "completed"
    },
    "tags": []
   },
   "outputs": [],
   "source": [
    "#hide\n",
    "# g.rename(columns= {'date':'day'},inplace = True)"
   ]
  },
  {
   "cell_type": "code",
   "execution_count": 38,
   "id": "major-fight",
   "metadata": {
    "execution": {
     "iopub.execute_input": "2022-03-23T00:39:04.802968Z",
     "iopub.status.busy": "2022-03-23T00:39:04.802281Z",
     "iopub.status.idle": "2022-03-23T00:39:04.806239Z",
     "shell.execute_reply": "2022-03-23T00:39:04.806763Z"
    },
    "papermill": {
     "duration": 0.04729,
     "end_time": "2022-03-23T00:39:04.806926",
     "exception": false,
     "start_time": "2022-03-23T00:39:04.759636",
     "status": "completed"
    },
    "tags": []
   },
   "outputs": [],
   "source": [
    "#hide\n",
    "# g = g[cols]"
   ]
  },
  {
   "cell_type": "code",
   "execution_count": 39,
   "id": "structured-mobile",
   "metadata": {
    "execution": {
     "iopub.execute_input": "2022-03-23T00:39:04.893871Z",
     "iopub.status.busy": "2022-03-23T00:39:04.893211Z",
     "iopub.status.idle": "2022-03-23T00:39:04.896115Z",
     "shell.execute_reply": "2022-03-23T00:39:04.895526Z"
    },
    "papermill": {
     "duration": 0.046885,
     "end_time": "2022-03-23T00:39:04.896241",
     "exception": false,
     "start_time": "2022-03-23T00:39:04.849356",
     "status": "completed"
    },
    "tags": []
   },
   "outputs": [],
   "source": [
    "# #hide\n",
    "# g = g[g.group.notna()]"
   ]
  },
  {
   "cell_type": "code",
   "execution_count": 40,
   "id": "determined-closing",
   "metadata": {
    "execution": {
     "iopub.execute_input": "2022-03-23T00:39:04.983957Z",
     "iopub.status.busy": "2022-03-23T00:39:04.983268Z",
     "iopub.status.idle": "2022-03-23T00:39:04.987977Z",
     "shell.execute_reply": "2022-03-23T00:39:04.987319Z"
    },
    "papermill": {
     "duration": 0.052396,
     "end_time": "2022-03-23T00:39:04.988115",
     "exception": false,
     "start_time": "2022-03-23T00:39:04.935719",
     "status": "completed"
    },
    "tags": []
   },
   "outputs": [],
   "source": [
    "# #hide\n",
    "# colors = dict(zip(\n",
    "#     [\"Oceania\", \"Europe\", \"Asia\", \"South America\", \"Middle East\", \"North America\", \"Africa\"],\n",
    "#     [\"#adb0ff\", \"#ffb3ff\", \"#90d595\", \"#e48381\", \"#aafbff\", \"#f7bb5f\", \"#eafb50\"]\n",
    "# ))\n",
    "# group_lk = g.set_index('name')['group'].to_dict()"
   ]
  },
  {
   "cell_type": "code",
   "execution_count": null,
   "id": "gross-drinking",
   "metadata": {
    "papermill": {
     "duration": 0.042781,
     "end_time": "2022-03-23T00:39:05.071141",
     "exception": false,
     "start_time": "2022-03-23T00:39:05.028360",
     "status": "completed"
    },
    "tags": []
   },
   "outputs": [],
   "source": []
  },
  {
   "cell_type": "code",
   "execution_count": 41,
   "id": "subject-macintosh",
   "metadata": {
    "execution": {
     "iopub.execute_input": "2022-03-23T00:39:05.157993Z",
     "iopub.status.busy": "2022-03-23T00:39:05.157284Z",
     "iopub.status.idle": "2022-03-23T00:39:05.159914Z",
     "shell.execute_reply": "2022-03-23T00:39:05.159353Z"
    },
    "papermill": {
     "duration": 0.047968,
     "end_time": "2022-03-23T00:39:05.160079",
     "exception": false,
     "start_time": "2022-03-23T00:39:05.112111",
     "status": "completed"
    },
    "tags": []
   },
   "outputs": [],
   "source": [
    "# #hide\n",
    "# fig, ax = plt.subplots(figsize=(15, 8))\n",
    "\n",
    "# def draw_barchart(current_day):\n",
    "#     dff = g[g['day'].eq(current_day)].sort_values(by='value', ascending=True).tail(10)\n",
    "#     ax.clear()\n",
    "#     ax.barh(dff['name'], dff['value'], color=[colors[group_lk[x]] for x in dff['name']])\n",
    "#     dx = dff['value'].max() / 200\n",
    "    \n",
    "#     for i, (value, name) in enumerate(zip(dff['value'], dff['name'])):\n",
    "#         ax.text(value-dx, i,     name,           size=14, weight=600, ha='right', va='bottom')\n",
    "#         ax.text(value-dx, i-.25, group_lk[name], size=10, color='#444444', ha='right', va='baseline')\n",
    "#         ax.text(value+dx, i,     f'{value:,.0f}',  size=14, ha='left',  va='center')\n",
    "#     ax.text(1, 0.4, current_day, transform=ax.transAxes, color='#777777', size=46, ha='right', weight=800)\n",
    "#     ax.text(0, 1.06, 'Population (thousands)', transform=ax.transAxes, size=12, color='#777777')\n",
    "#     ax.xaxis.set_major_formatter(ticker.StrMethodFormatter('{x:,.0f}'))\n",
    "#     ax.xaxis.set_ticks_position('top')\n",
    "#     ax.tick_params(axis='x', colors='#777777', labelsize=12)\n",
    "#     ax.set_yticks([])\n",
    "#     ax.margins(0, 0.01)\n",
    "#     ax.grid(which='major', axis='x', linestyle='-')\n",
    "#     ax.set_axisbelow(True)\n",
    "    \n",
    "#     ax.text(0, 1.15, 'Coronavirus',\n",
    "#             transform=ax.transAxes, size=24, weight=600, ha='left', va='top')\n",
    "# #     ax.text(1, 0, 'by @pratapvardhan; credit @jburnmurdoch', transform=ax.transAxes, color='#777777', ha='right',\n",
    "# #             bbox=dict(facecolor='white', alpha=0.8, edgecolor='white'))\n",
    "#     plt.box(False)"
   ]
  },
  {
   "cell_type": "code",
   "execution_count": 42,
   "id": "sexual-wages",
   "metadata": {
    "execution": {
     "iopub.execute_input": "2022-03-23T00:39:05.243025Z",
     "iopub.status.busy": "2022-03-23T00:39:05.242326Z",
     "iopub.status.idle": "2022-03-23T00:39:05.244831Z",
     "shell.execute_reply": "2022-03-23T00:39:05.244272Z"
    },
    "papermill": {
     "duration": 0.046341,
     "end_time": "2022-03-23T00:39:05.244964",
     "exception": false,
     "start_time": "2022-03-23T00:39:05.198623",
     "status": "completed"
    },
    "tags": []
   },
   "outputs": [],
   "source": [
    "# #hide_input\n",
    "# fig, ax = plt.subplots(figsize=(15, 8))\n",
    "# animator = animation.FuncAnimation(fig, draw_barchart, frames=range(g.day.values.min(), g.day.values.max()))\n",
    "# HTML(animator.to_jshtml())\n",
    "# # or use animator.to_html5_video() or animator.save() "
   ]
  },
  {
   "cell_type": "code",
   "execution_count": null,
   "id": "australian-container",
   "metadata": {
    "papermill": {
     "duration": 0.038197,
     "end_time": "2022-03-23T00:39:05.322820",
     "exception": false,
     "start_time": "2022-03-23T00:39:05.284623",
     "status": "completed"
    },
    "tags": []
   },
   "outputs": [],
   "source": []
  },
  {
   "cell_type": "code",
   "execution_count": null,
   "id": "mediterranean-pontiac",
   "metadata": {
    "papermill": {
     "duration": 0.036962,
     "end_time": "2022-03-23T00:39:05.399758",
     "exception": false,
     "start_time": "2022-03-23T00:39:05.362796",
     "status": "completed"
    },
    "tags": []
   },
   "outputs": [],
   "source": []
  },
  {
   "cell_type": "code",
   "execution_count": null,
   "id": "aging-legislature",
   "metadata": {
    "papermill": {
     "duration": 0.036388,
     "end_time": "2022-03-23T00:39:05.474006",
     "exception": false,
     "start_time": "2022-03-23T00:39:05.437618",
     "status": "completed"
    },
    "tags": []
   },
   "outputs": [],
   "source": []
  }
 ],
 "metadata": {
  "kernelspec": {
   "display_name": "Python 3",
   "language": "python",
   "name": "python3"
  },
  "language_info": {
   "codemirror_mode": {
    "name": "ipython",
    "version": 3
   },
   "file_extension": ".py",
   "mimetype": "text/x-python",
   "name": "python",
   "nbconvert_exporter": "python",
   "pygments_lexer": "ipython3",
   "version": "3.6.15"
  },
  "papermill": {
   "duration": 7.287327,
   "end_time": "2022-03-23T00:39:05.829806",
   "environment_variables": {},
   "exception": null,
   "input_path": "2020-03-21-covid19exp.ipynb",
   "output_path": "2020-03-21-covid19exp.ipynb",
   "parameters": {},
   "start_time": "2022-03-23T00:38:58.542479",
   "version": "2.0.0"
  }
 },
 "nbformat": 4,
 "nbformat_minor": 5
}