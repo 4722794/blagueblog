{
 "cells": [
  {
   "cell_type": "markdown",
   "id": "muslim-click",
   "metadata": {
    "papermill": {
     "duration": 0.032118,
     "end_time": "2022-02-21T12:13:30.889556",
     "exception": false,
     "start_time": "2022-02-21T12:13:30.857438",
     "status": "completed"
    },
    "tags": []
   },
   "source": [
    "# COVID-19 Case Race\n",
    "> A race chart to see rising cases around the world\n",
    "\n",
    "- author: Hargun Oberoi\n",
    "- image: images/covid-overview.png\n",
    "- hide: false\n",
    "- badges: false"
   ]
  },
  {
   "cell_type": "code",
   "execution_count": 1,
   "id": "proof-material",
   "metadata": {
    "execution": {
     "iopub.execute_input": "2022-02-21T12:13:30.955341Z",
     "iopub.status.busy": "2022-02-21T12:13:30.954735Z",
     "iopub.status.idle": "2022-02-21T12:13:31.305140Z",
     "shell.execute_reply": "2022-02-21T12:13:31.305544Z"
    },
    "papermill": {
     "duration": 0.387437,
     "end_time": "2022-02-21T12:13:31.305719",
     "exception": false,
     "start_time": "2022-02-21T12:13:30.918282",
     "status": "completed"
    },
    "tags": []
   },
   "outputs": [],
   "source": [
    "#hide\n",
    "import numpy as np\n",
    "import pandas as pd\n",
    "from jinja2 import Template\n",
    "from IPython.display import HTML"
   ]
  },
  {
   "cell_type": "code",
   "execution_count": 2,
   "id": "developed-terminology",
   "metadata": {
    "execution": {
     "iopub.execute_input": "2022-02-21T12:13:31.365341Z",
     "iopub.status.busy": "2022-02-21T12:13:31.364671Z",
     "iopub.status.idle": "2022-02-21T12:13:31.368317Z",
     "shell.execute_reply": "2022-02-21T12:13:31.368735Z"
    },
    "papermill": {
     "duration": 0.036285,
     "end_time": "2022-02-21T12:13:31.368884",
     "exception": false,
     "start_time": "2022-02-21T12:13:31.332599",
     "status": "completed"
    },
    "tags": []
   },
   "outputs": [],
   "source": [
    "#hide\n",
    "\n",
    "# FETCH\n",
    "base_url = 'https://raw.githubusercontent.com/pratapvardhan/notebooks/master/covid19/'\n",
    "paths = {\n",
    "    'mapping': base_url + 'mapping_countries.csv',\n",
    "    'overview': base_url + 'overview.tpl'\n",
    "}"
   ]
  },
  {
   "cell_type": "code",
   "execution_count": 3,
   "id": "dynamic-saver",
   "metadata": {
    "execution": {
     "iopub.execute_input": "2022-02-21T12:13:31.439785Z",
     "iopub.status.busy": "2022-02-21T12:13:31.439211Z",
     "iopub.status.idle": "2022-02-21T12:13:31.442401Z",
     "shell.execute_reply": "2022-02-21T12:13:31.441951Z"
    },
    "papermill": {
     "duration": 0.043186,
     "end_time": "2022-02-21T12:13:31.442528",
     "exception": false,
     "start_time": "2022-02-21T12:13:31.399342",
     "status": "completed"
    },
    "tags": []
   },
   "outputs": [
    {
     "data": {
      "text/plain": [
       "'https://raw.githubusercontent.com/pratapvardhan/notebooks/master/covid19/mapping_countries.csv'"
      ]
     },
     "execution_count": 3,
     "metadata": {},
     "output_type": "execute_result"
    }
   ],
   "source": [
    "#hide\n",
    "paths['mapping']"
   ]
  },
  {
   "cell_type": "code",
   "execution_count": 4,
   "id": "urban-software",
   "metadata": {
    "execution": {
     "iopub.execute_input": "2022-02-21T12:13:31.510258Z",
     "iopub.status.busy": "2022-02-21T12:13:31.509686Z",
     "iopub.status.idle": "2022-02-21T12:13:31.511713Z",
     "shell.execute_reply": "2022-02-21T12:13:31.511182Z"
    },
    "papermill": {
     "duration": 0.038318,
     "end_time": "2022-02-21T12:13:31.511836",
     "exception": false,
     "start_time": "2022-02-21T12:13:31.473518",
     "status": "completed"
    },
    "tags": []
   },
   "outputs": [],
   "source": [
    "#hide\n",
    "def get_mappings(url):\n",
    "    df = pd.read_csv(url)\n",
    "    return {\n",
    "        'df': df,\n",
    "        'replace.country': dict(df.dropna(subset=['Name']).set_index('Country')['Name']),\n",
    "        'map.continent': dict(df.set_index('Name')['Continent'])\n",
    "    }"
   ]
  },
  {
   "cell_type": "code",
   "execution_count": 5,
   "id": "intimate-machinery",
   "metadata": {
    "execution": {
     "iopub.execute_input": "2022-02-21T12:13:31.576552Z",
     "iopub.status.busy": "2022-02-21T12:13:31.576000Z",
     "iopub.status.idle": "2022-02-21T12:13:31.604060Z",
     "shell.execute_reply": "2022-02-21T12:13:31.603576Z"
    },
    "papermill": {
     "duration": 0.061464,
     "end_time": "2022-02-21T12:13:31.604201",
     "exception": false,
     "start_time": "2022-02-21T12:13:31.542737",
     "status": "completed"
    },
    "tags": []
   },
   "outputs": [],
   "source": [
    "#hide\n",
    "mapping = get_mappings(paths['mapping'])"
   ]
  },
  {
   "cell_type": "code",
   "execution_count": 6,
   "id": "certified-tactics",
   "metadata": {
    "execution": {
     "iopub.execute_input": "2022-02-21T12:13:31.674411Z",
     "iopub.status.busy": "2022-02-21T12:13:31.673904Z",
     "iopub.status.idle": "2022-02-21T12:13:31.677633Z",
     "shell.execute_reply": "2022-02-21T12:13:31.677254Z"
    },
    "papermill": {
     "duration": 0.040403,
     "end_time": "2022-02-21T12:13:31.677744",
     "exception": false,
     "start_time": "2022-02-21T12:13:31.637341",
     "status": "completed"
    },
    "tags": []
   },
   "outputs": [],
   "source": [
    "#hide\n",
    "def get_template(path):\n",
    "    from urllib.parse import urlparse\n",
    "    if bool(urlparse(path).netloc):\n",
    "        from urllib.request import urlopen\n",
    "        return urlopen(path).read().decode('utf8')\n",
    "    return open(path).read()"
   ]
  },
  {
   "cell_type": "code",
   "execution_count": 7,
   "id": "realistic-blast",
   "metadata": {
    "execution": {
     "iopub.execute_input": "2022-02-21T12:13:31.737982Z",
     "iopub.status.busy": "2022-02-21T12:13:31.737491Z",
     "iopub.status.idle": "2022-02-21T12:13:31.739534Z",
     "shell.execute_reply": "2022-02-21T12:13:31.739976Z"
    },
    "papermill": {
     "duration": 0.034865,
     "end_time": "2022-02-21T12:13:31.740111",
     "exception": false,
     "start_time": "2022-02-21T12:13:31.705246",
     "status": "completed"
    },
    "tags": []
   },
   "outputs": [],
   "source": [
    "#hide\n",
    "def get_frame(name):\n",
    "    url = (\n",
    "        'https://raw.githubusercontent.com/CSSEGISandData/COVID-19/master/csse_covid_19_data/'\n",
    "        f'csse_covid_19_time_series/time_series_covid19_{name}_global.csv')\n",
    "    df = pd.read_csv(url)\n",
    "    # rename countries\n",
    "    df['Country/Region'] = df['Country/Region'].replace(mapping['replace.country'])\n",
    "    return df"
   ]
  },
  {
   "cell_type": "code",
   "execution_count": 8,
   "id": "affiliated-characterization",
   "metadata": {
    "execution": {
     "iopub.execute_input": "2022-02-21T12:13:31.801052Z",
     "iopub.status.busy": "2022-02-21T12:13:31.800468Z",
     "iopub.status.idle": "2022-02-21T12:13:31.802013Z",
     "shell.execute_reply": "2022-02-21T12:13:31.802403Z"
    },
    "papermill": {
     "duration": 0.035113,
     "end_time": "2022-02-21T12:13:31.802555",
     "exception": false,
     "start_time": "2022-02-21T12:13:31.767442",
     "status": "completed"
    },
    "tags": []
   },
   "outputs": [],
   "source": [
    "#hide\n",
    "def get_dates(df):\n",
    "    dt_cols = df.columns[~df.columns.isin(['Province/State', 'Country/Region', 'Lat', 'Long'])]\n",
    "    LAST_DATE_I = -1\n",
    "    # sometimes last column may be empty, then go backwards\n",
    "    for i in range(-1, -len(dt_cols), -1):\n",
    "        if not df[dt_cols[i]].fillna(0).eq(0).all():\n",
    "            LAST_DATE_I = i\n",
    "            break\n",
    "    return LAST_DATE_I, dt_cols"
   ]
  },
  {
   "cell_type": "code",
   "execution_count": 9,
   "id": "recent-optimization",
   "metadata": {
    "execution": {
     "iopub.execute_input": "2022-02-21T12:13:31.873184Z",
     "iopub.status.busy": "2022-02-21T12:13:31.872540Z",
     "iopub.status.idle": "2022-02-21T12:13:32.176527Z",
     "shell.execute_reply": "2022-02-21T12:13:32.176937Z"
    },
    "papermill": {
     "duration": 0.341919,
     "end_time": "2022-02-21T12:13:32.177084",
     "exception": false,
     "start_time": "2022-02-21T12:13:31.835165",
     "status": "completed"
    },
    "tags": []
   },
   "outputs": [],
   "source": [
    "#hide\n",
    "COL_REGION = 'Country/Region'\n",
    "# Confirmed, Recovered, Deaths\n",
    "df = get_frame('confirmed')\n",
    "# dft_: timeseries, dfc_: today country agg\n",
    "dft_cases = df\n",
    "dft_deaths = get_frame('deaths')\n",
    "dft_recovered = get_frame('recovered')\n",
    "LAST_DATE_I, dt_cols = get_dates(df)"
   ]
  },
  {
   "cell_type": "code",
   "execution_count": 10,
   "id": "absolute-copper",
   "metadata": {
    "execution": {
     "iopub.execute_input": "2022-02-21T12:13:32.238508Z",
     "iopub.status.busy": "2022-02-21T12:13:32.237653Z",
     "iopub.status.idle": "2022-02-21T12:13:32.239372Z",
     "shell.execute_reply": "2022-02-21T12:13:32.239934Z"
    },
    "papermill": {
     "duration": 0.035809,
     "end_time": "2022-02-21T12:13:32.240093",
     "exception": false,
     "start_time": "2022-02-21T12:13:32.204284",
     "status": "completed"
    },
    "tags": []
   },
   "outputs": [],
   "source": [
    "#hide\n",
    "LAST_DATE_I, dt_cols = get_dates(df)\n",
    "dt_today =dt_cols[LAST_DATE_I]\n",
    "# dt_5day = dt_cols[LAST_DATE_I - 5]\n",
    "dt_yday = dt_cols[LAST_DATE_I - 1]"
   ]
  },
  {
   "cell_type": "code",
   "execution_count": 11,
   "id": "restricted-sheriff",
   "metadata": {
    "execution": {
     "iopub.execute_input": "2022-02-21T12:13:32.312260Z",
     "iopub.status.busy": "2022-02-21T12:13:32.310415Z",
     "iopub.status.idle": "2022-02-21T12:13:32.317099Z",
     "shell.execute_reply": "2022-02-21T12:13:32.316647Z"
    },
    "papermill": {
     "duration": 0.045798,
     "end_time": "2022-02-21T12:13:32.317301",
     "exception": false,
     "start_time": "2022-02-21T12:13:32.271503",
     "status": "completed"
    },
    "tags": []
   },
   "outputs": [],
   "source": [
    "#hide\n",
    "dfc_cases = dft_cases.groupby(COL_REGION)[dt_today].sum()\n",
    "dfc_deaths = dft_deaths.groupby(COL_REGION)[dt_today].sum()\n",
    "# dfp_cases = dft_cases.groupby(COL_REGION)[dt_5day].sum()\n",
    "# dfp_deaths = dft_deaths.groupby(COL_REGION)[dt_5day].sum()\n",
    "dfp_cases = dft_cases.groupby(COL_REGION)[dt_yday].sum()\n",
    "dfp_deaths = dft_deaths.groupby(COL_REGION)[dt_yday].sum()"
   ]
  },
  {
   "cell_type": "code",
   "execution_count": 12,
   "id": "deluxe-hepatitis",
   "metadata": {
    "execution": {
     "iopub.execute_input": "2022-02-21T12:13:32.386972Z",
     "iopub.status.busy": "2022-02-21T12:13:32.386447Z",
     "iopub.status.idle": "2022-02-21T12:13:32.389695Z",
     "shell.execute_reply": "2022-02-21T12:13:32.390102Z"
    },
    "papermill": {
     "duration": 0.04133,
     "end_time": "2022-02-21T12:13:32.390239",
     "exception": false,
     "start_time": "2022-02-21T12:13:32.348909",
     "status": "completed"
    },
    "tags": []
   },
   "outputs": [],
   "source": [
    "#hide\n",
    "df_table = (pd.DataFrame(dict(Cases = dfc_cases, Deaths = dfc_deaths, PCases = dfp_cases, PDeaths = dfp_deaths))\n",
    "            .sort_values(by = ['Cases','Deaths'], ascending = [False, False])\n",
    "            .reset_index())"
   ]
  },
  {
   "cell_type": "code",
   "execution_count": 13,
   "id": "educational-chancellor",
   "metadata": {
    "execution": {
     "iopub.execute_input": "2022-02-21T12:13:32.479118Z",
     "iopub.status.busy": "2022-02-21T12:13:32.475139Z",
     "iopub.status.idle": "2022-02-21T12:13:32.481453Z",
     "shell.execute_reply": "2022-02-21T12:13:32.481861Z"
    },
    "papermill": {
     "duration": 0.056132,
     "end_time": "2022-02-21T12:13:32.481996",
     "exception": false,
     "start_time": "2022-02-21T12:13:32.425864",
     "status": "completed"
    },
    "tags": []
   },
   "outputs": [
    {
     "data": {
      "text/html": [
       "<div>\n",
       "<style scoped>\n",
       "    .dataframe tbody tr th:only-of-type {\n",
       "        vertical-align: middle;\n",
       "    }\n",
       "\n",
       "    .dataframe tbody tr th {\n",
       "        vertical-align: top;\n",
       "    }\n",
       "\n",
       "    .dataframe thead th {\n",
       "        text-align: right;\n",
       "    }\n",
       "</style>\n",
       "<table border=\"1\" class=\"dataframe\">\n",
       "  <thead>\n",
       "    <tr style=\"text-align: right;\">\n",
       "      <th></th>\n",
       "      <th>Country/Region</th>\n",
       "      <th>Cases</th>\n",
       "      <th>Deaths</th>\n",
       "      <th>PCases</th>\n",
       "      <th>PDeaths</th>\n",
       "      <th>Cases (+)</th>\n",
       "      <th>Deaths (+)</th>\n",
       "      <th>Fatality Rate</th>\n",
       "      <th>Continent</th>\n",
       "    </tr>\n",
       "  </thead>\n",
       "  <tbody>\n",
       "    <tr>\n",
       "      <th>0</th>\n",
       "      <td>US</td>\n",
       "      <td>78479134</td>\n",
       "      <td>935335</td>\n",
       "      <td>78457081</td>\n",
       "      <td>934951</td>\n",
       "      <td>22053</td>\n",
       "      <td>384</td>\n",
       "      <td>1.19</td>\n",
       "      <td>North America</td>\n",
       "    </tr>\n",
       "    <tr>\n",
       "      <th>1</th>\n",
       "      <td>India</td>\n",
       "      <td>42838524</td>\n",
       "      <td>512109</td>\n",
       "      <td>42822473</td>\n",
       "      <td>511903</td>\n",
       "      <td>16051</td>\n",
       "      <td>206</td>\n",
       "      <td>1.20</td>\n",
       "      <td>Asia</td>\n",
       "    </tr>\n",
       "    <tr>\n",
       "      <th>2</th>\n",
       "      <td>Brazil</td>\n",
       "      <td>28218180</td>\n",
       "      <td>644592</td>\n",
       "      <td>28177367</td>\n",
       "      <td>644195</td>\n",
       "      <td>40813</td>\n",
       "      <td>397</td>\n",
       "      <td>2.28</td>\n",
       "      <td>South America</td>\n",
       "    </tr>\n",
       "    <tr>\n",
       "      <th>3</th>\n",
       "      <td>France</td>\n",
       "      <td>22445580</td>\n",
       "      <td>137596</td>\n",
       "      <td>22386566</td>\n",
       "      <td>137595</td>\n",
       "      <td>59014</td>\n",
       "      <td>1</td>\n",
       "      <td>0.61</td>\n",
       "      <td>Europe</td>\n",
       "    </tr>\n",
       "    <tr>\n",
       "      <th>4</th>\n",
       "      <td>United Kingdom</td>\n",
       "      <td>18735911</td>\n",
       "      <td>161148</td>\n",
       "      <td>18710375</td>\n",
       "      <td>161074</td>\n",
       "      <td>25536</td>\n",
       "      <td>74</td>\n",
       "      <td>0.86</td>\n",
       "      <td>Europe</td>\n",
       "    </tr>\n",
       "  </tbody>\n",
       "</table>\n",
       "</div>"
      ],
      "text/plain": [
       "   Country/Region     Cases  Deaths    PCases  PDeaths  Cases (+)  Deaths (+)  \\\n",
       "0              US  78479134  935335  78457081   934951      22053         384   \n",
       "1           India  42838524  512109  42822473   511903      16051         206   \n",
       "2          Brazil  28218180  644592  28177367   644195      40813         397   \n",
       "3          France  22445580  137596  22386566   137595      59014           1   \n",
       "4  United Kingdom  18735911  161148  18710375   161074      25536          74   \n",
       "\n",
       "   Fatality Rate      Continent  \n",
       "0           1.19  North America  \n",
       "1           1.20           Asia  \n",
       "2           2.28  South America  \n",
       "3           0.61         Europe  \n",
       "4           0.86         Europe  "
      ]
     },
     "execution_count": 13,
     "metadata": {},
     "output_type": "execute_result"
    }
   ],
   "source": [
    "#hide\n",
    "for c in 'Cases, Deaths'.split(', '):\n",
    "    df_table[f'{c} (+)'] = (df_table[c] - df_table[f'P{c}']).clip(0)\n",
    "    #Clip ça veut dire, les chiffres negatif sont interdit\n",
    "df_table['Fatality Rate'] = (100* df_table['Deaths']/ df_table['Cases']).round(2)\n",
    "df_table['Continent'] = df_table['Country/Region'].map(mapping['map.continent'])\n",
    "df_table.head(5)"
   ]
  },
  {
   "cell_type": "code",
   "execution_count": 14,
   "id": "aboriginal-bulgaria",
   "metadata": {
    "execution": {
     "iopub.execute_input": "2022-02-21T12:13:32.551432Z",
     "iopub.status.busy": "2022-02-21T12:13:32.550771Z",
     "iopub.status.idle": "2022-02-21T12:13:32.553917Z",
     "shell.execute_reply": "2022-02-21T12:13:32.553464Z"
    },
    "papermill": {
     "duration": 0.04024,
     "end_time": "2022-02-21T12:13:32.554036",
     "exception": false,
     "start_time": "2022-02-21T12:13:32.513796",
     "status": "completed"
    },
    "tags": []
   },
   "outputs": [],
   "source": [
    "#hide\n",
    "#delete problematic countries from table\n",
    "df_table = df_table[~df_table['Country/Region'].isin(['Cape Verde', 'Cruise Ship', 'Kosovo'])]"
   ]
  },
  {
   "cell_type": "code",
   "execution_count": 15,
   "id": "fantastic-effect",
   "metadata": {
    "execution": {
     "iopub.execute_input": "2022-02-21T12:13:32.621671Z",
     "iopub.status.busy": "2022-02-21T12:13:32.621177Z",
     "iopub.status.idle": "2022-02-21T12:13:32.636528Z",
     "shell.execute_reply": "2022-02-21T12:13:32.636135Z"
    },
    "papermill": {
     "duration": 0.050444,
     "end_time": "2022-02-21T12:13:32.636636",
     "exception": false,
     "start_time": "2022-02-21T12:13:32.586192",
     "status": "completed"
    },
    "tags": []
   },
   "outputs": [
    {
     "data": {
      "text/html": [
       "<div>\n",
       "<style scoped>\n",
       "    .dataframe tbody tr th:only-of-type {\n",
       "        vertical-align: middle;\n",
       "    }\n",
       "\n",
       "    .dataframe tbody tr th {\n",
       "        vertical-align: top;\n",
       "    }\n",
       "\n",
       "    .dataframe thead th {\n",
       "        text-align: right;\n",
       "    }\n",
       "</style>\n",
       "<table border=\"1\" class=\"dataframe\">\n",
       "  <thead>\n",
       "    <tr style=\"text-align: right;\">\n",
       "      <th></th>\n",
       "      <th>Country/Region</th>\n",
       "      <th>Cases</th>\n",
       "      <th>Deaths</th>\n",
       "      <th>PCases</th>\n",
       "      <th>PDeaths</th>\n",
       "      <th>Cases (+)</th>\n",
       "      <th>Deaths (+)</th>\n",
       "      <th>Fatality Rate</th>\n",
       "      <th>Continent</th>\n",
       "    </tr>\n",
       "  </thead>\n",
       "  <tbody>\n",
       "    <tr>\n",
       "      <th>0</th>\n",
       "      <td>US</td>\n",
       "      <td>78479134</td>\n",
       "      <td>935335</td>\n",
       "      <td>78457081</td>\n",
       "      <td>934951</td>\n",
       "      <td>22053</td>\n",
       "      <td>384</td>\n",
       "      <td>1.2</td>\n",
       "      <td>North America</td>\n",
       "    </tr>\n",
       "    <tr>\n",
       "      <th>1</th>\n",
       "      <td>India</td>\n",
       "      <td>42838524</td>\n",
       "      <td>512109</td>\n",
       "      <td>42822473</td>\n",
       "      <td>511903</td>\n",
       "      <td>16051</td>\n",
       "      <td>206</td>\n",
       "      <td>1.2</td>\n",
       "      <td>Asia</td>\n",
       "    </tr>\n",
       "    <tr>\n",
       "      <th>2</th>\n",
       "      <td>Brazil</td>\n",
       "      <td>28218180</td>\n",
       "      <td>644592</td>\n",
       "      <td>28177367</td>\n",
       "      <td>644195</td>\n",
       "      <td>40813</td>\n",
       "      <td>397</td>\n",
       "      <td>2.3</td>\n",
       "      <td>South America</td>\n",
       "    </tr>\n",
       "    <tr>\n",
       "      <th>3</th>\n",
       "      <td>France</td>\n",
       "      <td>22445580</td>\n",
       "      <td>137596</td>\n",
       "      <td>22386566</td>\n",
       "      <td>137595</td>\n",
       "      <td>59014</td>\n",
       "      <td>1</td>\n",
       "      <td>0.6</td>\n",
       "      <td>Europe</td>\n",
       "    </tr>\n",
       "    <tr>\n",
       "      <th>4</th>\n",
       "      <td>United Kingdom</td>\n",
       "      <td>18735911</td>\n",
       "      <td>161148</td>\n",
       "      <td>18710375</td>\n",
       "      <td>161074</td>\n",
       "      <td>25536</td>\n",
       "      <td>74</td>\n",
       "      <td>0.9</td>\n",
       "      <td>Europe</td>\n",
       "    </tr>\n",
       "  </tbody>\n",
       "</table>\n",
       "</div>"
      ],
      "text/plain": [
       "   Country/Region     Cases  Deaths    PCases  PDeaths  Cases (+)  Deaths (+)  \\\n",
       "0              US  78479134  935335  78457081   934951      22053         384   \n",
       "1           India  42838524  512109  42822473   511903      16051         206   \n",
       "2          Brazil  28218180  644592  28177367   644195      40813         397   \n",
       "3          France  22445580  137596  22386566   137595      59014           1   \n",
       "4  United Kingdom  18735911  161148  18710375   161074      25536          74   \n",
       "\n",
       "   Fatality Rate      Continent  \n",
       "0            1.2  North America  \n",
       "1            1.2           Asia  \n",
       "2            2.3  South America  \n",
       "3            0.6         Europe  \n",
       "4            0.9         Europe  "
      ]
     },
     "execution_count": 15,
     "metadata": {},
     "output_type": "execute_result"
    }
   ],
   "source": [
    "#hide\n",
    "df_table = (pd.DataFrame(dict(Cases=dfc_cases, Deaths=dfc_deaths, PCases=dfp_cases, PDeaths=dfp_deaths))\n",
    "             .sort_values(by=['Cases', 'Deaths'], ascending=[False, False])\n",
    "             .reset_index())\n",
    "df_table.rename(columns={'index': 'Country/Region'}, inplace=True)\n",
    "for c in 'Cases, Deaths'.split(', '):\n",
    "    df_table[f'{c} (+)'] = (df_table[c] - df_table[f'P{c}']).clip(0)  # DATA BUG\n",
    "df_table['Fatality Rate'] = (100 * df_table['Deaths'] / df_table['Cases']).round(1)\n",
    "df_table['Continent'] = df_table['Country/Region'].map(mapping['map.continent'])\n",
    "df_table.head(5)"
   ]
  },
  {
   "cell_type": "code",
   "execution_count": 16,
   "id": "fewer-occasion",
   "metadata": {
    "execution": {
     "iopub.execute_input": "2022-02-21T12:13:32.697423Z",
     "iopub.status.busy": "2022-02-21T12:13:32.696952Z",
     "iopub.status.idle": "2022-02-21T12:13:32.699588Z",
     "shell.execute_reply": "2022-02-21T12:13:32.700023Z"
    },
    "papermill": {
     "duration": 0.035666,
     "end_time": "2022-02-21T12:13:32.700147",
     "exception": false,
     "start_time": "2022-02-21T12:13:32.664481",
     "status": "completed"
    },
    "tags": []
   },
   "outputs": [],
   "source": [
    "#hide\n",
    "#delete problematic countries from table\n",
    "df_table = df_table[~df_table['Country/Region'].isin(['Cape Verde', 'Cruise Ship', 'Kosovo'])]"
   ]
  },
  {
   "cell_type": "code",
   "execution_count": 17,
   "id": "related-center",
   "metadata": {
    "execution": {
     "iopub.execute_input": "2022-02-21T12:13:32.759246Z",
     "iopub.status.busy": "2022-02-21T12:13:32.758721Z",
     "iopub.status.idle": "2022-02-21T12:13:32.774761Z",
     "shell.execute_reply": "2022-02-21T12:13:32.774349Z"
    },
    "papermill": {
     "duration": 0.046972,
     "end_time": "2022-02-21T12:13:32.774879",
     "exception": false,
     "start_time": "2022-02-21T12:13:32.727907",
     "status": "completed"
    },
    "tags": []
   },
   "outputs": [],
   "source": [
    "#hide\n",
    "metrics = [df_table.columns[index] for index in [1,2,5,6]]\n",
    "# s_china = df_table[df_table['Country/Region'].eq('China')][metrics].sum().add_prefix('China ')\n",
    "s_us = df_table[df_table['Country/Region'].eq('US')][metrics].sum().add_prefix('US ')\n",
    "s_eu = df_table[df_table['Continent'].eq('Europe')][metrics].sum().add_prefix('EU ')\n",
    "s_ind = df_table[df_table['Country/Region'].eq('India')][metrics].sum().add_prefix('India ')\n",
    "summary = {'updated': pd.to_datetime(dt_today), 'since': pd.to_datetime(dt_yday)}\n",
    "summary = {'updated': pd.to_datetime(dt_today), 'since': pd.to_datetime(dt_yday)}\n",
    "summary = {**summary, **df_table[metrics].sum(), **s_ind, **s_us, **s_eu}"
   ]
  },
  {
   "cell_type": "code",
   "execution_count": 18,
   "id": "engaging-syndrome",
   "metadata": {
    "execution": {
     "iopub.execute_input": "2022-02-21T12:13:32.836414Z",
     "iopub.status.busy": "2022-02-21T12:13:32.835934Z",
     "iopub.status.idle": "2022-02-21T12:13:32.850001Z",
     "shell.execute_reply": "2022-02-21T12:13:32.849622Z"
    },
    "papermill": {
     "duration": 0.046868,
     "end_time": "2022-02-21T12:13:32.850120",
     "exception": false,
     "start_time": "2022-02-21T12:13:32.803252",
     "status": "completed"
    },
    "tags": []
   },
   "outputs": [],
   "source": [
    "#hide\n",
    "dft_ct_new_cases = dft_cases.groupby(COL_REGION)[dt_cols].sum().diff(axis=1).fillna(0).astype(int)"
   ]
  },
  {
   "cell_type": "code",
   "execution_count": 19,
   "id": "neutral-assignment",
   "metadata": {
    "execution": {
     "iopub.execute_input": "2022-02-21T12:13:32.912709Z",
     "iopub.status.busy": "2022-02-21T12:13:32.912084Z",
     "iopub.status.idle": "2022-02-21T12:13:32.913306Z",
     "shell.execute_reply": "2022-02-21T12:13:32.913727Z"
    },
    "papermill": {
     "duration": 0.035729,
     "end_time": "2022-02-21T12:13:32.913848",
     "exception": false,
     "start_time": "2022-02-21T12:13:32.878119",
     "status": "completed"
    },
    "tags": []
   },
   "outputs": [],
   "source": [
    "#hide\n",
    "everydaycases = dft_ct_new_cases.cumsum(axis=1)"
   ]
  },
  {
   "cell_type": "code",
   "execution_count": 20,
   "id": "parliamentary-calgary",
   "metadata": {
    "execution": {
     "iopub.execute_input": "2022-02-21T12:13:32.974037Z",
     "iopub.status.busy": "2022-02-21T12:13:32.973562Z",
     "iopub.status.idle": "2022-02-21T12:13:33.507550Z",
     "shell.execute_reply": "2022-02-21T12:13:33.506949Z"
    },
    "papermill": {
     "duration": 0.566152,
     "end_time": "2022-02-21T12:13:33.507690",
     "exception": false,
     "start_time": "2022-02-21T12:13:32.941538",
     "status": "completed"
    },
    "tags": []
   },
   "outputs": [],
   "source": [
    "#hide\n",
    "import pandas as pd\n",
    "import matplotlib.pyplot as plt\n",
    "import matplotlib.ticker as ticker\n",
    "import matplotlib.animation as animation\n",
    "from IPython.display import HTML"
   ]
  },
  {
   "cell_type": "code",
   "execution_count": 21,
   "id": "lasting-extraction",
   "metadata": {
    "execution": {
     "iopub.execute_input": "2022-02-21T12:13:33.571082Z",
     "iopub.status.busy": "2022-02-21T12:13:33.570588Z",
     "iopub.status.idle": "2022-02-21T12:13:33.576889Z",
     "shell.execute_reply": "2022-02-21T12:13:33.577246Z"
    },
    "papermill": {
     "duration": 0.040352,
     "end_time": "2022-02-21T12:13:33.577372",
     "exception": false,
     "start_time": "2022-02-21T12:13:33.537020",
     "status": "completed"
    },
    "tags": []
   },
   "outputs": [],
   "source": [
    "#hide\n",
    "t = everydaycases.stack()"
   ]
  },
  {
   "cell_type": "code",
   "execution_count": 22,
   "id": "premier-sleeve",
   "metadata": {
    "execution": {
     "iopub.execute_input": "2022-02-21T12:13:33.636848Z",
     "iopub.status.busy": "2022-02-21T12:13:33.636388Z",
     "iopub.status.idle": "2022-02-21T12:13:33.645071Z",
     "shell.execute_reply": "2022-02-21T12:13:33.645409Z"
    },
    "papermill": {
     "duration": 0.040362,
     "end_time": "2022-02-21T12:13:33.645531",
     "exception": false,
     "start_time": "2022-02-21T12:13:33.605169",
     "status": "completed"
    },
    "tags": []
   },
   "outputs": [],
   "source": [
    "#hide\n",
    "g = t.reset_index(['Country/Region'])"
   ]
  },
  {
   "cell_type": "code",
   "execution_count": 23,
   "id": "distributed-pittsburgh",
   "metadata": {
    "execution": {
     "iopub.execute_input": "2022-02-21T12:13:33.704184Z",
     "iopub.status.busy": "2022-02-21T12:13:33.703605Z",
     "iopub.status.idle": "2022-02-21T12:13:33.706834Z",
     "shell.execute_reply": "2022-02-21T12:13:33.707206Z"
    },
    "papermill": {
     "duration": 0.034434,
     "end_time": "2022-02-21T12:13:33.707330",
     "exception": false,
     "start_time": "2022-02-21T12:13:33.672896",
     "status": "completed"
    },
    "tags": []
   },
   "outputs": [],
   "source": [
    "#hide\n",
    "g.index.name = 'date'"
   ]
  },
  {
   "cell_type": "code",
   "execution_count": 24,
   "id": "naked-donor",
   "metadata": {
    "execution": {
     "iopub.execute_input": "2022-02-21T12:13:33.766657Z",
     "iopub.status.busy": "2022-02-21T12:13:33.766048Z",
     "iopub.status.idle": "2022-02-21T12:13:33.767871Z",
     "shell.execute_reply": "2022-02-21T12:13:33.767328Z"
    },
    "papermill": {
     "duration": 0.032961,
     "end_time": "2022-02-21T12:13:33.767970",
     "exception": false,
     "start_time": "2022-02-21T12:13:33.735009",
     "status": "completed"
    },
    "tags": []
   },
   "outputs": [],
   "source": [
    "# #hide\n",
    "# g = g.reset_index(['date'])"
   ]
  },
  {
   "cell_type": "code",
   "execution_count": 25,
   "id": "incomplete-mustang",
   "metadata": {
    "execution": {
     "iopub.execute_input": "2022-02-21T12:13:33.826974Z",
     "iopub.status.busy": "2022-02-21T12:13:33.826369Z",
     "iopub.status.idle": "2022-02-21T12:13:33.829767Z",
     "shell.execute_reply": "2022-02-21T12:13:33.829399Z"
    },
    "papermill": {
     "duration": 0.034223,
     "end_time": "2022-02-21T12:13:33.829869",
     "exception": false,
     "start_time": "2022-02-21T12:13:33.795646",
     "status": "completed"
    },
    "tags": []
   },
   "outputs": [],
   "source": [
    "#hide\n",
    "# g.head()"
   ]
  },
  {
   "cell_type": "code",
   "execution_count": 26,
   "id": "specific-kruger",
   "metadata": {
    "execution": {
     "iopub.execute_input": "2022-02-21T12:13:33.888779Z",
     "iopub.status.busy": "2022-02-21T12:13:33.888194Z",
     "iopub.status.idle": "2022-02-21T12:13:33.889543Z",
     "shell.execute_reply": "2022-02-21T12:13:33.890023Z"
    },
    "papermill": {
     "duration": 0.032591,
     "end_time": "2022-02-21T12:13:33.890166",
     "exception": false,
     "start_time": "2022-02-21T12:13:33.857575",
     "status": "completed"
    },
    "tags": []
   },
   "outputs": [],
   "source": [
    "#hide\n",
    "# g.columns = ['date','country','cases']"
   ]
  },
  {
   "cell_type": "code",
   "execution_count": 27,
   "id": "tender-conversion",
   "metadata": {
    "execution": {
     "iopub.execute_input": "2022-02-21T12:13:33.949614Z",
     "iopub.status.busy": "2022-02-21T12:13:33.948999Z",
     "iopub.status.idle": "2022-02-21T12:13:33.952655Z",
     "shell.execute_reply": "2022-02-21T12:13:33.952284Z"
    },
    "papermill": {
     "duration": 0.035054,
     "end_time": "2022-02-21T12:13:33.952766",
     "exception": false,
     "start_time": "2022-02-21T12:13:33.917712",
     "status": "completed"
    },
    "tags": []
   },
   "outputs": [],
   "source": [
    "#hide\n",
    "# g['continent'] = g.country"
   ]
  },
  {
   "cell_type": "code",
   "execution_count": 28,
   "id": "substantial-wilderness",
   "metadata": {
    "execution": {
     "iopub.execute_input": "2022-02-21T12:13:34.012152Z",
     "iopub.status.busy": "2022-02-21T12:13:34.011686Z",
     "iopub.status.idle": "2022-02-21T12:13:34.013645Z",
     "shell.execute_reply": "2022-02-21T12:13:34.013986Z"
    },
    "papermill": {
     "duration": 0.033454,
     "end_time": "2022-02-21T12:13:34.014113",
     "exception": false,
     "start_time": "2022-02-21T12:13:33.980659",
     "status": "completed"
    },
    "tags": []
   },
   "outputs": [],
   "source": [
    "#hide\n",
    "# cols = list(g.columns.values)"
   ]
  },
  {
   "cell_type": "code",
   "execution_count": 29,
   "id": "solved-farming",
   "metadata": {
    "execution": {
     "iopub.execute_input": "2022-02-21T12:13:34.074074Z",
     "iopub.status.busy": "2022-02-21T12:13:34.073488Z",
     "iopub.status.idle": "2022-02-21T12:13:34.076553Z",
     "shell.execute_reply": "2022-02-21T12:13:34.076896Z"
    },
    "papermill": {
     "duration": 0.034838,
     "end_time": "2022-02-21T12:13:34.077025",
     "exception": false,
     "start_time": "2022-02-21T12:13:34.042187",
     "status": "completed"
    },
    "tags": []
   },
   "outputs": [],
   "source": [
    "#hide\n",
    "# cols.insert(0, cols.pop())"
   ]
  },
  {
   "cell_type": "code",
   "execution_count": 30,
   "id": "executed-adoption",
   "metadata": {
    "execution": {
     "iopub.execute_input": "2022-02-21T12:13:34.136408Z",
     "iopub.status.busy": "2022-02-21T12:13:34.135921Z",
     "iopub.status.idle": "2022-02-21T12:13:34.137673Z",
     "shell.execute_reply": "2022-02-21T12:13:34.138015Z"
    },
    "papermill": {
     "duration": 0.033239,
     "end_time": "2022-02-21T12:13:34.138139",
     "exception": false,
     "start_time": "2022-02-21T12:13:34.104900",
     "status": "completed"
    },
    "tags": []
   },
   "outputs": [],
   "source": [
    "#hide\n",
    "# g = g[cols]"
   ]
  },
  {
   "cell_type": "code",
   "execution_count": 31,
   "id": "subject-dublin",
   "metadata": {
    "execution": {
     "iopub.execute_input": "2022-02-21T12:13:34.196865Z",
     "iopub.status.busy": "2022-02-21T12:13:34.196392Z",
     "iopub.status.idle": "2022-02-21T12:13:34.198437Z",
     "shell.execute_reply": "2022-02-21T12:13:34.198072Z"
    },
    "papermill": {
     "duration": 0.032895,
     "end_time": "2022-02-21T12:13:34.198541",
     "exception": false,
     "start_time": "2022-02-21T12:13:34.165646",
     "status": "completed"
    },
    "tags": []
   },
   "outputs": [],
   "source": [
    "#hide\n",
    "# g['continent'] = g['continent'].map(mapping['map.continent'])"
   ]
  },
  {
   "cell_type": "code",
   "execution_count": 32,
   "id": "freelance-scout",
   "metadata": {
    "execution": {
     "iopub.execute_input": "2022-02-21T12:13:34.257514Z",
     "iopub.status.busy": "2022-02-21T12:13:34.257034Z",
     "iopub.status.idle": "2022-02-21T12:13:34.259963Z",
     "shell.execute_reply": "2022-02-21T12:13:34.260308Z"
    },
    "papermill": {
     "duration": 0.034195,
     "end_time": "2022-02-21T12:13:34.260435",
     "exception": false,
     "start_time": "2022-02-21T12:13:34.226240",
     "status": "completed"
    },
    "tags": []
   },
   "outputs": [],
   "source": [
    "#hide\n",
    "# g.head()"
   ]
  },
  {
   "cell_type": "code",
   "execution_count": 33,
   "id": "limited-engine",
   "metadata": {
    "execution": {
     "iopub.execute_input": "2022-02-21T12:13:34.318990Z",
     "iopub.status.busy": "2022-02-21T12:13:34.318504Z",
     "iopub.status.idle": "2022-02-21T12:13:34.320568Z",
     "shell.execute_reply": "2022-02-21T12:13:34.320194Z"
    },
    "papermill": {
     "duration": 0.032808,
     "end_time": "2022-02-21T12:13:34.320675",
     "exception": false,
     "start_time": "2022-02-21T12:13:34.287867",
     "status": "completed"
    },
    "tags": []
   },
   "outputs": [],
   "source": [
    "# hide\n",
    "# g['date'] = g['date'].astype('datetime64[ns]')"
   ]
  },
  {
   "cell_type": "code",
   "execution_count": 34,
   "id": "sophisticated-supervisor",
   "metadata": {
    "execution": {
     "iopub.execute_input": "2022-02-21T12:13:34.379717Z",
     "iopub.status.busy": "2022-02-21T12:13:34.379228Z",
     "iopub.status.idle": "2022-02-21T12:13:34.382540Z",
     "shell.execute_reply": "2022-02-21T12:13:34.382173Z"
    },
    "papermill": {
     "duration": 0.034058,
     "end_time": "2022-02-21T12:13:34.382644",
     "exception": false,
     "start_time": "2022-02-21T12:13:34.348586",
     "status": "completed"
    },
    "tags": []
   },
   "outputs": [],
   "source": [
    "#hide\n",
    "# g['date'] = g.date.dt.dayofyear"
   ]
  },
  {
   "cell_type": "code",
   "execution_count": 35,
   "id": "inside-dubai",
   "metadata": {
    "execution": {
     "iopub.execute_input": "2022-02-21T12:13:34.441044Z",
     "iopub.status.busy": "2022-02-21T12:13:34.440573Z",
     "iopub.status.idle": "2022-02-21T12:13:34.442261Z",
     "shell.execute_reply": "2022-02-21T12:13:34.442601Z"
    },
    "papermill": {
     "duration": 0.032631,
     "end_time": "2022-02-21T12:13:34.442721",
     "exception": false,
     "start_time": "2022-02-21T12:13:34.410090",
     "status": "completed"
    },
    "tags": []
   },
   "outputs": [],
   "source": [
    "#hide\n",
    "# g = g.rename(columns= {'continent':'group','country':'name','cases':'value'})"
   ]
  },
  {
   "cell_type": "code",
   "execution_count": 36,
   "id": "fleet-motorcycle",
   "metadata": {
    "execution": {
     "iopub.execute_input": "2022-02-21T12:13:34.501182Z",
     "iopub.status.busy": "2022-02-21T12:13:34.500708Z",
     "iopub.status.idle": "2022-02-21T12:13:34.503603Z",
     "shell.execute_reply": "2022-02-21T12:13:34.503940Z"
    },
    "papermill": {
     "duration": 0.033864,
     "end_time": "2022-02-21T12:13:34.504060",
     "exception": false,
     "start_time": "2022-02-21T12:13:34.470196",
     "status": "completed"
    },
    "tags": []
   },
   "outputs": [],
   "source": [
    "#hide\n",
    "# cols = ['name','group','day','value']"
   ]
  },
  {
   "cell_type": "code",
   "execution_count": 37,
   "id": "continued-sleeping",
   "metadata": {
    "execution": {
     "iopub.execute_input": "2022-02-21T12:13:34.562123Z",
     "iopub.status.busy": "2022-02-21T12:13:34.561666Z",
     "iopub.status.idle": "2022-02-21T12:13:34.563793Z",
     "shell.execute_reply": "2022-02-21T12:13:34.563429Z"
    },
    "papermill": {
     "duration": 0.032404,
     "end_time": "2022-02-21T12:13:34.563894",
     "exception": false,
     "start_time": "2022-02-21T12:13:34.531490",
     "status": "completed"
    },
    "tags": []
   },
   "outputs": [],
   "source": [
    "#hide\n",
    "# g.rename(columns= {'date':'day'},inplace = True)"
   ]
  },
  {
   "cell_type": "code",
   "execution_count": 38,
   "id": "major-fight",
   "metadata": {
    "execution": {
     "iopub.execute_input": "2022-02-21T12:13:34.622724Z",
     "iopub.status.busy": "2022-02-21T12:13:34.622256Z",
     "iopub.status.idle": "2022-02-21T12:13:34.625156Z",
     "shell.execute_reply": "2022-02-21T12:13:34.625495Z"
    },
    "papermill": {
     "duration": 0.034129,
     "end_time": "2022-02-21T12:13:34.625613",
     "exception": false,
     "start_time": "2022-02-21T12:13:34.591484",
     "status": "completed"
    },
    "tags": []
   },
   "outputs": [],
   "source": [
    "#hide\n",
    "# g = g[cols]"
   ]
  },
  {
   "cell_type": "code",
   "execution_count": 39,
   "id": "structured-mobile",
   "metadata": {
    "execution": {
     "iopub.execute_input": "2022-02-21T12:13:34.684100Z",
     "iopub.status.busy": "2022-02-21T12:13:34.683620Z",
     "iopub.status.idle": "2022-02-21T12:13:34.685644Z",
     "shell.execute_reply": "2022-02-21T12:13:34.685255Z"
    },
    "papermill": {
     "duration": 0.032715,
     "end_time": "2022-02-21T12:13:34.685746",
     "exception": false,
     "start_time": "2022-02-21T12:13:34.653031",
     "status": "completed"
    },
    "tags": []
   },
   "outputs": [],
   "source": [
    "# #hide\n",
    "# g = g[g.group.notna()]"
   ]
  },
  {
   "cell_type": "code",
   "execution_count": 40,
   "id": "determined-closing",
   "metadata": {
    "execution": {
     "iopub.execute_input": "2022-02-21T12:13:34.745096Z",
     "iopub.status.busy": "2022-02-21T12:13:34.744579Z",
     "iopub.status.idle": "2022-02-21T12:13:34.747550Z",
     "shell.execute_reply": "2022-02-21T12:13:34.747891Z"
    },
    "papermill": {
     "duration": 0.034488,
     "end_time": "2022-02-21T12:13:34.748019",
     "exception": false,
     "start_time": "2022-02-21T12:13:34.713531",
     "status": "completed"
    },
    "tags": []
   },
   "outputs": [],
   "source": [
    "# #hide\n",
    "# colors = dict(zip(\n",
    "#     [\"Oceania\", \"Europe\", \"Asia\", \"South America\", \"Middle East\", \"North America\", \"Africa\"],\n",
    "#     [\"#adb0ff\", \"#ffb3ff\", \"#90d595\", \"#e48381\", \"#aafbff\", \"#f7bb5f\", \"#eafb50\"]\n",
    "# ))\n",
    "# group_lk = g.set_index('name')['group'].to_dict()"
   ]
  },
  {
   "cell_type": "code",
   "execution_count": null,
   "id": "gross-drinking",
   "metadata": {
    "papermill": {
     "duration": 0.027543,
     "end_time": "2022-02-21T12:13:34.803117",
     "exception": false,
     "start_time": "2022-02-21T12:13:34.775574",
     "status": "completed"
    },
    "tags": []
   },
   "outputs": [],
   "source": []
  },
  {
   "cell_type": "code",
   "execution_count": 41,
   "id": "subject-macintosh",
   "metadata": {
    "execution": {
     "iopub.execute_input": "2022-02-21T12:13:34.862566Z",
     "iopub.status.busy": "2022-02-21T12:13:34.862103Z",
     "iopub.status.idle": "2022-02-21T12:13:34.864599Z",
     "shell.execute_reply": "2022-02-21T12:13:34.864234Z"
    },
    "papermill": {
     "duration": 0.033908,
     "end_time": "2022-02-21T12:13:34.864704",
     "exception": false,
     "start_time": "2022-02-21T12:13:34.830796",
     "status": "completed"
    },
    "tags": []
   },
   "outputs": [],
   "source": [
    "# #hide\n",
    "# fig, ax = plt.subplots(figsize=(15, 8))\n",
    "\n",
    "# def draw_barchart(current_day):\n",
    "#     dff = g[g['day'].eq(current_day)].sort_values(by='value', ascending=True).tail(10)\n",
    "#     ax.clear()\n",
    "#     ax.barh(dff['name'], dff['value'], color=[colors[group_lk[x]] for x in dff['name']])\n",
    "#     dx = dff['value'].max() / 200\n",
    "    \n",
    "#     for i, (value, name) in enumerate(zip(dff['value'], dff['name'])):\n",
    "#         ax.text(value-dx, i,     name,           size=14, weight=600, ha='right', va='bottom')\n",
    "#         ax.text(value-dx, i-.25, group_lk[name], size=10, color='#444444', ha='right', va='baseline')\n",
    "#         ax.text(value+dx, i,     f'{value:,.0f}',  size=14, ha='left',  va='center')\n",
    "#     ax.text(1, 0.4, current_day, transform=ax.transAxes, color='#777777', size=46, ha='right', weight=800)\n",
    "#     ax.text(0, 1.06, 'Population (thousands)', transform=ax.transAxes, size=12, color='#777777')\n",
    "#     ax.xaxis.set_major_formatter(ticker.StrMethodFormatter('{x:,.0f}'))\n",
    "#     ax.xaxis.set_ticks_position('top')\n",
    "#     ax.tick_params(axis='x', colors='#777777', labelsize=12)\n",
    "#     ax.set_yticks([])\n",
    "#     ax.margins(0, 0.01)\n",
    "#     ax.grid(which='major', axis='x', linestyle='-')\n",
    "#     ax.set_axisbelow(True)\n",
    "    \n",
    "#     ax.text(0, 1.15, 'Coronavirus',\n",
    "#             transform=ax.transAxes, size=24, weight=600, ha='left', va='top')\n",
    "# #     ax.text(1, 0, 'by @pratapvardhan; credit @jburnmurdoch', transform=ax.transAxes, color='#777777', ha='right',\n",
    "# #             bbox=dict(facecolor='white', alpha=0.8, edgecolor='white'))\n",
    "#     plt.box(False)"
   ]
  },
  {
   "cell_type": "code",
   "execution_count": 42,
   "id": "sexual-wages",
   "metadata": {
    "execution": {
     "iopub.execute_input": "2022-02-21T12:13:34.923003Z",
     "iopub.status.busy": "2022-02-21T12:13:34.922411Z",
     "iopub.status.idle": "2022-02-21T12:13:34.925831Z",
     "shell.execute_reply": "2022-02-21T12:13:34.925343Z"
    },
    "papermill": {
     "duration": 0.033823,
     "end_time": "2022-02-21T12:13:34.925945",
     "exception": false,
     "start_time": "2022-02-21T12:13:34.892122",
     "status": "completed"
    },
    "tags": []
   },
   "outputs": [],
   "source": [
    "# #hide_input\n",
    "# fig, ax = plt.subplots(figsize=(15, 8))\n",
    "# animator = animation.FuncAnimation(fig, draw_barchart, frames=range(g.day.values.min(), g.day.values.max()))\n",
    "# HTML(animator.to_jshtml())\n",
    "# # or use animator.to_html5_video() or animator.save() "
   ]
  },
  {
   "cell_type": "code",
   "execution_count": null,
   "id": "australian-container",
   "metadata": {
    "papermill": {
     "duration": 0.027298,
     "end_time": "2022-02-21T12:13:34.981113",
     "exception": false,
     "start_time": "2022-02-21T12:13:34.953815",
     "status": "completed"
    },
    "tags": []
   },
   "outputs": [],
   "source": []
  },
  {
   "cell_type": "code",
   "execution_count": null,
   "id": "mediterranean-pontiac",
   "metadata": {
    "papermill": {
     "duration": 0.02737,
     "end_time": "2022-02-21T12:13:35.035874",
     "exception": false,
     "start_time": "2022-02-21T12:13:35.008504",
     "status": "completed"
    },
    "tags": []
   },
   "outputs": [],
   "source": []
  },
  {
   "cell_type": "code",
   "execution_count": null,
   "id": "aging-legislature",
   "metadata": {
    "papermill": {
     "duration": 0.02752,
     "end_time": "2022-02-21T12:13:35.091681",
     "exception": false,
     "start_time": "2022-02-21T12:13:35.064161",
     "status": "completed"
    },
    "tags": []
   },
   "outputs": [],
   "source": []
  }
 ],
 "metadata": {
  "kernelspec": {
   "display_name": "Python 3",
   "language": "python",
   "name": "python3"
  },
  "language_info": {
   "codemirror_mode": {
    "name": "ipython",
    "version": 3
   },
   "file_extension": ".py",
   "mimetype": "text/x-python",
   "name": "python",
   "nbconvert_exporter": "python",
   "pygments_lexer": "ipython3",
   "version": "3.6.15"
  },
  "papermill": {
   "duration": 5.784539,
   "end_time": "2022-02-21T12:13:35.537812",
   "environment_variables": {},
   "exception": null,
   "input_path": "2020-03-21-covid19exp.ipynb",
   "output_path": "2020-03-21-covid19exp.ipynb",
   "parameters": {},
   "start_time": "2022-02-21T12:13:29.753273",
   "version": "2.0.0"
  }
 },
 "nbformat": 4,
 "nbformat_minor": 5
}