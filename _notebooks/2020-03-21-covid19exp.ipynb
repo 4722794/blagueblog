{
 "cells": [
  {
   "cell_type": "markdown",
   "id": "muslim-click",
   "metadata": {
    "papermill": {
     "duration": 0.034818,
     "end_time": "2021-07-10T00:20:25.893328",
     "exception": false,
     "start_time": "2021-07-10T00:20:25.858510",
     "status": "completed"
    },
    "tags": []
   },
   "source": [
    "# COVID-19 Case Race\n",
    "> A race chart to see rising cases around the world\n",
    "\n",
    "- author: Hargun Oberoi\n",
    "- image: images/covid-overview.png\n",
    "- hide: false\n",
    "- badges: false"
   ]
  },
  {
   "cell_type": "code",
   "execution_count": 1,
   "id": "proof-material",
   "metadata": {
    "execution": {
     "iopub.execute_input": "2021-07-10T00:20:25.963597Z",
     "iopub.status.busy": "2021-07-10T00:20:25.963068Z",
     "iopub.status.idle": "2021-07-10T00:20:26.286442Z",
     "shell.execute_reply": "2021-07-10T00:20:26.285907Z"
    },
    "papermill": {
     "duration": 0.362747,
     "end_time": "2021-07-10T00:20:26.286592",
     "exception": false,
     "start_time": "2021-07-10T00:20:25.923845",
     "status": "completed"
    },
    "tags": []
   },
   "outputs": [],
   "source": [
    "#hide\n",
    "import numpy as np\n",
    "import pandas as pd\n",
    "from jinja2 import Template\n",
    "from IPython.display import HTML"
   ]
  },
  {
   "cell_type": "code",
   "execution_count": 2,
   "id": "developed-terminology",
   "metadata": {
    "execution": {
     "iopub.execute_input": "2021-07-10T00:20:26.351483Z",
     "iopub.status.busy": "2021-07-10T00:20:26.350961Z",
     "iopub.status.idle": "2021-07-10T00:20:26.354114Z",
     "shell.execute_reply": "2021-07-10T00:20:26.354498Z"
    },
    "papermill": {
     "duration": 0.037719,
     "end_time": "2021-07-10T00:20:26.354626",
     "exception": false,
     "start_time": "2021-07-10T00:20:26.316907",
     "status": "completed"
    },
    "tags": []
   },
   "outputs": [],
   "source": [
    "#hide\n",
    "\n",
    "# FETCH\n",
    "base_url = 'https://raw.githubusercontent.com/pratapvardhan/notebooks/master/covid19/'\n",
    "paths = {\n",
    "    'mapping': base_url + 'mapping_countries.csv',\n",
    "    'overview': base_url + 'overview.tpl'\n",
    "}"
   ]
  },
  {
   "cell_type": "code",
   "execution_count": 3,
   "id": "dynamic-saver",
   "metadata": {
    "execution": {
     "iopub.execute_input": "2021-07-10T00:20:26.422010Z",
     "iopub.status.busy": "2021-07-10T00:20:26.421499Z",
     "iopub.status.idle": "2021-07-10T00:20:26.425919Z",
     "shell.execute_reply": "2021-07-10T00:20:26.426404Z"
    },
    "papermill": {
     "duration": 0.042344,
     "end_time": "2021-07-10T00:20:26.426537",
     "exception": false,
     "start_time": "2021-07-10T00:20:26.384193",
     "status": "completed"
    },
    "tags": []
   },
   "outputs": [
    {
     "data": {
      "text/plain": [
       "'https://raw.githubusercontent.com/pratapvardhan/notebooks/master/covid19/mapping_countries.csv'"
      ]
     },
     "execution_count": 3,
     "metadata": {},
     "output_type": "execute_result"
    }
   ],
   "source": [
    "#hide\n",
    "paths['mapping']"
   ]
  },
  {
   "cell_type": "code",
   "execution_count": 4,
   "id": "urban-software",
   "metadata": {
    "execution": {
     "iopub.execute_input": "2021-07-10T00:20:26.492023Z",
     "iopub.status.busy": "2021-07-10T00:20:26.491518Z",
     "iopub.status.idle": "2021-07-10T00:20:26.493482Z",
     "shell.execute_reply": "2021-07-10T00:20:26.493961Z"
    },
    "papermill": {
     "duration": 0.037025,
     "end_time": "2021-07-10T00:20:26.494090",
     "exception": false,
     "start_time": "2021-07-10T00:20:26.457065",
     "status": "completed"
    },
    "tags": []
   },
   "outputs": [],
   "source": [
    "#hide\n",
    "def get_mappings(url):\n",
    "    df = pd.read_csv(url)\n",
    "    return {\n",
    "        'df': df,\n",
    "        'replace.country': dict(df.dropna(subset=['Name']).set_index('Country')['Name']),\n",
    "        'map.continent': dict(df.set_index('Name')['Continent'])\n",
    "    }"
   ]
  },
  {
   "cell_type": "code",
   "execution_count": 5,
   "id": "intimate-machinery",
   "metadata": {
    "execution": {
     "iopub.execute_input": "2021-07-10T00:20:26.559096Z",
     "iopub.status.busy": "2021-07-10T00:20:26.558590Z",
     "iopub.status.idle": "2021-07-10T00:20:26.616321Z",
     "shell.execute_reply": "2021-07-10T00:20:26.615821Z"
    },
    "papermill": {
     "duration": 0.092648,
     "end_time": "2021-07-10T00:20:26.616475",
     "exception": false,
     "start_time": "2021-07-10T00:20:26.523827",
     "status": "completed"
    },
    "tags": []
   },
   "outputs": [],
   "source": [
    "#hide\n",
    "mapping = get_mappings(paths['mapping'])"
   ]
  },
  {
   "cell_type": "code",
   "execution_count": 6,
   "id": "certified-tactics",
   "metadata": {
    "execution": {
     "iopub.execute_input": "2021-07-10T00:20:26.682493Z",
     "iopub.status.busy": "2021-07-10T00:20:26.681984Z",
     "iopub.status.idle": "2021-07-10T00:20:26.683683Z",
     "shell.execute_reply": "2021-07-10T00:20:26.684158Z"
    },
    "papermill": {
     "duration": 0.03676,
     "end_time": "2021-07-10T00:20:26.684279",
     "exception": false,
     "start_time": "2021-07-10T00:20:26.647519",
     "status": "completed"
    },
    "tags": []
   },
   "outputs": [],
   "source": [
    "#hide\n",
    "def get_template(path):\n",
    "    from urllib.parse import urlparse\n",
    "    if bool(urlparse(path).netloc):\n",
    "        from urllib.request import urlopen\n",
    "        return urlopen(path).read().decode('utf8')\n",
    "    return open(path).read()"
   ]
  },
  {
   "cell_type": "code",
   "execution_count": 7,
   "id": "realistic-blast",
   "metadata": {
    "execution": {
     "iopub.execute_input": "2021-07-10T00:20:26.748955Z",
     "iopub.status.busy": "2021-07-10T00:20:26.748435Z",
     "iopub.status.idle": "2021-07-10T00:20:26.750311Z",
     "shell.execute_reply": "2021-07-10T00:20:26.750714Z"
    },
    "papermill": {
     "duration": 0.036474,
     "end_time": "2021-07-10T00:20:26.750840",
     "exception": false,
     "start_time": "2021-07-10T00:20:26.714366",
     "status": "completed"
    },
    "tags": []
   },
   "outputs": [],
   "source": [
    "#hide\n",
    "def get_frame(name):\n",
    "    url = (\n",
    "        'https://raw.githubusercontent.com/CSSEGISandData/COVID-19/master/csse_covid_19_data/'\n",
    "        f'csse_covid_19_time_series/time_series_covid19_{name}_global.csv')\n",
    "    df = pd.read_csv(url)\n",
    "    # rename countries\n",
    "    df['Country/Region'] = df['Country/Region'].replace(mapping['replace.country'])\n",
    "    return df"
   ]
  },
  {
   "cell_type": "code",
   "execution_count": 8,
   "id": "affiliated-characterization",
   "metadata": {
    "execution": {
     "iopub.execute_input": "2021-07-10T00:20:26.816791Z",
     "iopub.status.busy": "2021-07-10T00:20:26.816250Z",
     "iopub.status.idle": "2021-07-10T00:20:26.818532Z",
     "shell.execute_reply": "2021-07-10T00:20:26.818104Z"
    },
    "papermill": {
     "duration": 0.037741,
     "end_time": "2021-07-10T00:20:26.818644",
     "exception": false,
     "start_time": "2021-07-10T00:20:26.780903",
     "status": "completed"
    },
    "tags": []
   },
   "outputs": [],
   "source": [
    "#hide\n",
    "def get_dates(df):\n",
    "    dt_cols = df.columns[~df.columns.isin(['Province/State', 'Country/Region', 'Lat', 'Long'])]\n",
    "    LAST_DATE_I = -1\n",
    "    # sometimes last column may be empty, then go backwards\n",
    "    for i in range(-1, -len(dt_cols), -1):\n",
    "        if not df[dt_cols[i]].fillna(0).eq(0).all():\n",
    "            LAST_DATE_I = i\n",
    "            break\n",
    "    return LAST_DATE_I, dt_cols"
   ]
  },
  {
   "cell_type": "code",
   "execution_count": 9,
   "id": "recent-optimization",
   "metadata": {
    "execution": {
     "iopub.execute_input": "2021-07-10T00:20:26.883091Z",
     "iopub.status.busy": "2021-07-10T00:20:26.882582Z",
     "iopub.status.idle": "2021-07-10T00:20:27.375896Z",
     "shell.execute_reply": "2021-07-10T00:20:27.374944Z"
    },
    "papermill": {
     "duration": 0.527471,
     "end_time": "2021-07-10T00:20:27.376042",
     "exception": false,
     "start_time": "2021-07-10T00:20:26.848571",
     "status": "completed"
    },
    "tags": []
   },
   "outputs": [],
   "source": [
    "#hide\n",
    "COL_REGION = 'Country/Region'\n",
    "# Confirmed, Recovered, Deaths\n",
    "df = get_frame('confirmed')\n",
    "# dft_: timeseries, dfc_: today country agg\n",
    "dft_cases = df\n",
    "dft_deaths = get_frame('deaths')\n",
    "dft_recovered = get_frame('recovered')\n",
    "LAST_DATE_I, dt_cols = get_dates(df)"
   ]
  },
  {
   "cell_type": "code",
   "execution_count": 10,
   "id": "absolute-copper",
   "metadata": {
    "execution": {
     "iopub.execute_input": "2021-07-10T00:20:27.443005Z",
     "iopub.status.busy": "2021-07-10T00:20:27.442401Z",
     "iopub.status.idle": "2021-07-10T00:20:27.443894Z",
     "shell.execute_reply": "2021-07-10T00:20:27.444377Z"
    },
    "papermill": {
     "duration": 0.03709,
     "end_time": "2021-07-10T00:20:27.444531",
     "exception": false,
     "start_time": "2021-07-10T00:20:27.407441",
     "status": "completed"
    },
    "tags": []
   },
   "outputs": [],
   "source": [
    "#hide\n",
    "LAST_DATE_I, dt_cols = get_dates(df)\n",
    "dt_today =dt_cols[LAST_DATE_I]\n",
    "# dt_5day = dt_cols[LAST_DATE_I - 5]\n",
    "dt_yday = dt_cols[LAST_DATE_I - 1]"
   ]
  },
  {
   "cell_type": "code",
   "execution_count": 11,
   "id": "restricted-sheriff",
   "metadata": {
    "execution": {
     "iopub.execute_input": "2021-07-10T00:20:27.509937Z",
     "iopub.status.busy": "2021-07-10T00:20:27.509425Z",
     "iopub.status.idle": "2021-07-10T00:20:27.517346Z",
     "shell.execute_reply": "2021-07-10T00:20:27.516934Z"
    },
    "papermill": {
     "duration": 0.043063,
     "end_time": "2021-07-10T00:20:27.517460",
     "exception": false,
     "start_time": "2021-07-10T00:20:27.474397",
     "status": "completed"
    },
    "tags": []
   },
   "outputs": [],
   "source": [
    "#hide\n",
    "dfc_cases = dft_cases.groupby(COL_REGION)[dt_today].sum()\n",
    "dfc_deaths = dft_deaths.groupby(COL_REGION)[dt_today].sum()\n",
    "# dfp_cases = dft_cases.groupby(COL_REGION)[dt_5day].sum()\n",
    "# dfp_deaths = dft_deaths.groupby(COL_REGION)[dt_5day].sum()\n",
    "dfp_cases = dft_cases.groupby(COL_REGION)[dt_yday].sum()\n",
    "dfp_deaths = dft_deaths.groupby(COL_REGION)[dt_yday].sum()"
   ]
  },
  {
   "cell_type": "code",
   "execution_count": 12,
   "id": "deluxe-hepatitis",
   "metadata": {
    "execution": {
     "iopub.execute_input": "2021-07-10T00:20:27.582913Z",
     "iopub.status.busy": "2021-07-10T00:20:27.582410Z",
     "iopub.status.idle": "2021-07-10T00:20:27.587706Z",
     "shell.execute_reply": "2021-07-10T00:20:27.587294Z"
    },
    "papermill": {
     "duration": 0.040351,
     "end_time": "2021-07-10T00:20:27.587816",
     "exception": false,
     "start_time": "2021-07-10T00:20:27.547465",
     "status": "completed"
    },
    "tags": []
   },
   "outputs": [],
   "source": [
    "#hide\n",
    "df_table = (pd.DataFrame(dict(Cases = dfc_cases, Deaths = dfc_deaths, PCases = dfp_cases, PDeaths = dfp_deaths))\n",
    "            .sort_values(by = ['Cases','Deaths'], ascending = [False, False])\n",
    "            .reset_index())"
   ]
  },
  {
   "cell_type": "code",
   "execution_count": 13,
   "id": "educational-chancellor",
   "metadata": {
    "execution": {
     "iopub.execute_input": "2021-07-10T00:20:27.665767Z",
     "iopub.status.busy": "2021-07-10T00:20:27.665245Z",
     "iopub.status.idle": "2021-07-10T00:20:27.672553Z",
     "shell.execute_reply": "2021-07-10T00:20:27.672033Z"
    },
    "papermill": {
     "duration": 0.055135,
     "end_time": "2021-07-10T00:20:27.672670",
     "exception": false,
     "start_time": "2021-07-10T00:20:27.617535",
     "status": "completed"
    },
    "tags": []
   },
   "outputs": [
    {
     "data": {
      "text/html": [
       "<div>\n",
       "<style scoped>\n",
       "    .dataframe tbody tr th:only-of-type {\n",
       "        vertical-align: middle;\n",
       "    }\n",
       "\n",
       "    .dataframe tbody tr th {\n",
       "        vertical-align: top;\n",
       "    }\n",
       "\n",
       "    .dataframe thead th {\n",
       "        text-align: right;\n",
       "    }\n",
       "</style>\n",
       "<table border=\"1\" class=\"dataframe\">\n",
       "  <thead>\n",
       "    <tr style=\"text-align: right;\">\n",
       "      <th></th>\n",
       "      <th>Country/Region</th>\n",
       "      <th>Cases</th>\n",
       "      <th>Deaths</th>\n",
       "      <th>PCases</th>\n",
       "      <th>PDeaths</th>\n",
       "      <th>Cases (+)</th>\n",
       "      <th>Deaths (+)</th>\n",
       "      <th>Fatality Rate</th>\n",
       "      <th>Continent</th>\n",
       "    </tr>\n",
       "  </thead>\n",
       "  <tbody>\n",
       "    <tr>\n",
       "      <th>0</th>\n",
       "      <td>US</td>\n",
       "      <td>33790505</td>\n",
       "      <td>606475</td>\n",
       "      <td>33770444</td>\n",
       "      <td>606218</td>\n",
       "      <td>20061</td>\n",
       "      <td>257</td>\n",
       "      <td>1.79</td>\n",
       "      <td>North America</td>\n",
       "    </tr>\n",
       "    <tr>\n",
       "      <th>1</th>\n",
       "      <td>India</td>\n",
       "      <td>30752950</td>\n",
       "      <td>405939</td>\n",
       "      <td>30709557</td>\n",
       "      <td>405028</td>\n",
       "      <td>43393</td>\n",
       "      <td>911</td>\n",
       "      <td>1.32</td>\n",
       "      <td>Asia</td>\n",
       "    </tr>\n",
       "    <tr>\n",
       "      <th>2</th>\n",
       "      <td>Brazil</td>\n",
       "      <td>18962762</td>\n",
       "      <td>530179</td>\n",
       "      <td>18909037</td>\n",
       "      <td>528540</td>\n",
       "      <td>53725</td>\n",
       "      <td>1639</td>\n",
       "      <td>2.80</td>\n",
       "      <td>South America</td>\n",
       "    </tr>\n",
       "    <tr>\n",
       "      <th>3</th>\n",
       "      <td>France</td>\n",
       "      <td>5861128</td>\n",
       "      <td>111473</td>\n",
       "      <td>5856682</td>\n",
       "      <td>111448</td>\n",
       "      <td>4446</td>\n",
       "      <td>25</td>\n",
       "      <td>1.90</td>\n",
       "      <td>Europe</td>\n",
       "    </tr>\n",
       "    <tr>\n",
       "      <th>4</th>\n",
       "      <td>Russia</td>\n",
       "      <td>5638901</td>\n",
       "      <td>138441</td>\n",
       "      <td>5614540</td>\n",
       "      <td>137718</td>\n",
       "      <td>24361</td>\n",
       "      <td>723</td>\n",
       "      <td>2.46</td>\n",
       "      <td>Europe</td>\n",
       "    </tr>\n",
       "  </tbody>\n",
       "</table>\n",
       "</div>"
      ],
      "text/plain": [
       "  Country/Region     Cases  Deaths    PCases  PDeaths  Cases (+)  Deaths (+)  \\\n",
       "0             US  33790505  606475  33770444   606218      20061         257   \n",
       "1          India  30752950  405939  30709557   405028      43393         911   \n",
       "2         Brazil  18962762  530179  18909037   528540      53725        1639   \n",
       "3         France   5861128  111473   5856682   111448       4446          25   \n",
       "4         Russia   5638901  138441   5614540   137718      24361         723   \n",
       "\n",
       "   Fatality Rate      Continent  \n",
       "0           1.79  North America  \n",
       "1           1.32           Asia  \n",
       "2           2.80  South America  \n",
       "3           1.90         Europe  \n",
       "4           2.46         Europe  "
      ]
     },
     "execution_count": 13,
     "metadata": {},
     "output_type": "execute_result"
    }
   ],
   "source": [
    "#hide\n",
    "for c in 'Cases, Deaths'.split(', '):\n",
    "    df_table[f'{c} (+)'] = (df_table[c] - df_table[f'P{c}']).clip(0)\n",
    "    #Clip ça veut dire, les chiffres negatif sont interdit\n",
    "df_table['Fatality Rate'] = (100* df_table['Deaths']/ df_table['Cases']).round(2)\n",
    "df_table['Continent'] = df_table['Country/Region'].map(mapping['map.continent'])\n",
    "df_table.head(5)"
   ]
  },
  {
   "cell_type": "code",
   "execution_count": 14,
   "id": "aboriginal-bulgaria",
   "metadata": {
    "execution": {
     "iopub.execute_input": "2021-07-10T00:20:27.738978Z",
     "iopub.status.busy": "2021-07-10T00:20:27.738474Z",
     "iopub.status.idle": "2021-07-10T00:20:27.741565Z",
     "shell.execute_reply": "2021-07-10T00:20:27.741153Z"
    },
    "papermill": {
     "duration": 0.03855,
     "end_time": "2021-07-10T00:20:27.741680",
     "exception": false,
     "start_time": "2021-07-10T00:20:27.703130",
     "status": "completed"
    },
    "tags": []
   },
   "outputs": [],
   "source": [
    "#hide\n",
    "#delete problematic countries from table\n",
    "df_table = df_table[~df_table['Country/Region'].isin(['Cape Verde', 'Cruise Ship', 'Kosovo'])]"
   ]
  },
  {
   "cell_type": "code",
   "execution_count": 15,
   "id": "fantastic-effect",
   "metadata": {
    "execution": {
     "iopub.execute_input": "2021-07-10T00:20:27.811899Z",
     "iopub.status.busy": "2021-07-10T00:20:27.811376Z",
     "iopub.status.idle": "2021-07-10T00:20:27.828426Z",
     "shell.execute_reply": "2021-07-10T00:20:27.827972Z"
    },
    "papermill": {
     "duration": 0.05655,
     "end_time": "2021-07-10T00:20:27.828541",
     "exception": false,
     "start_time": "2021-07-10T00:20:27.771991",
     "status": "completed"
    },
    "tags": []
   },
   "outputs": [
    {
     "data": {
      "text/html": [
       "<div>\n",
       "<style scoped>\n",
       "    .dataframe tbody tr th:only-of-type {\n",
       "        vertical-align: middle;\n",
       "    }\n",
       "\n",
       "    .dataframe tbody tr th {\n",
       "        vertical-align: top;\n",
       "    }\n",
       "\n",
       "    .dataframe thead th {\n",
       "        text-align: right;\n",
       "    }\n",
       "</style>\n",
       "<table border=\"1\" class=\"dataframe\">\n",
       "  <thead>\n",
       "    <tr style=\"text-align: right;\">\n",
       "      <th></th>\n",
       "      <th>Country/Region</th>\n",
       "      <th>Cases</th>\n",
       "      <th>Deaths</th>\n",
       "      <th>PCases</th>\n",
       "      <th>PDeaths</th>\n",
       "      <th>Cases (+)</th>\n",
       "      <th>Deaths (+)</th>\n",
       "      <th>Fatality Rate</th>\n",
       "      <th>Continent</th>\n",
       "    </tr>\n",
       "  </thead>\n",
       "  <tbody>\n",
       "    <tr>\n",
       "      <th>0</th>\n",
       "      <td>US</td>\n",
       "      <td>33790505</td>\n",
       "      <td>606475</td>\n",
       "      <td>33770444</td>\n",
       "      <td>606218</td>\n",
       "      <td>20061</td>\n",
       "      <td>257</td>\n",
       "      <td>1.8</td>\n",
       "      <td>North America</td>\n",
       "    </tr>\n",
       "    <tr>\n",
       "      <th>1</th>\n",
       "      <td>India</td>\n",
       "      <td>30752950</td>\n",
       "      <td>405939</td>\n",
       "      <td>30709557</td>\n",
       "      <td>405028</td>\n",
       "      <td>43393</td>\n",
       "      <td>911</td>\n",
       "      <td>1.3</td>\n",
       "      <td>Asia</td>\n",
       "    </tr>\n",
       "    <tr>\n",
       "      <th>2</th>\n",
       "      <td>Brazil</td>\n",
       "      <td>18962762</td>\n",
       "      <td>530179</td>\n",
       "      <td>18909037</td>\n",
       "      <td>528540</td>\n",
       "      <td>53725</td>\n",
       "      <td>1639</td>\n",
       "      <td>2.8</td>\n",
       "      <td>South America</td>\n",
       "    </tr>\n",
       "    <tr>\n",
       "      <th>3</th>\n",
       "      <td>France</td>\n",
       "      <td>5861128</td>\n",
       "      <td>111473</td>\n",
       "      <td>5856682</td>\n",
       "      <td>111448</td>\n",
       "      <td>4446</td>\n",
       "      <td>25</td>\n",
       "      <td>1.9</td>\n",
       "      <td>Europe</td>\n",
       "    </tr>\n",
       "    <tr>\n",
       "      <th>4</th>\n",
       "      <td>Russia</td>\n",
       "      <td>5638901</td>\n",
       "      <td>138441</td>\n",
       "      <td>5614540</td>\n",
       "      <td>137718</td>\n",
       "      <td>24361</td>\n",
       "      <td>723</td>\n",
       "      <td>2.5</td>\n",
       "      <td>Europe</td>\n",
       "    </tr>\n",
       "  </tbody>\n",
       "</table>\n",
       "</div>"
      ],
      "text/plain": [
       "  Country/Region     Cases  Deaths    PCases  PDeaths  Cases (+)  Deaths (+)  \\\n",
       "0             US  33790505  606475  33770444   606218      20061         257   \n",
       "1          India  30752950  405939  30709557   405028      43393         911   \n",
       "2         Brazil  18962762  530179  18909037   528540      53725        1639   \n",
       "3         France   5861128  111473   5856682   111448       4446          25   \n",
       "4         Russia   5638901  138441   5614540   137718      24361         723   \n",
       "\n",
       "   Fatality Rate      Continent  \n",
       "0            1.8  North America  \n",
       "1            1.3           Asia  \n",
       "2            2.8  South America  \n",
       "3            1.9         Europe  \n",
       "4            2.5         Europe  "
      ]
     },
     "execution_count": 15,
     "metadata": {},
     "output_type": "execute_result"
    }
   ],
   "source": [
    "#hide\n",
    "df_table = (pd.DataFrame(dict(Cases=dfc_cases, Deaths=dfc_deaths, PCases=dfp_cases, PDeaths=dfp_deaths))\n",
    "             .sort_values(by=['Cases', 'Deaths'], ascending=[False, False])\n",
    "             .reset_index())\n",
    "df_table.rename(columns={'index': 'Country/Region'}, inplace=True)\n",
    "for c in 'Cases, Deaths'.split(', '):\n",
    "    df_table[f'{c} (+)'] = (df_table[c] - df_table[f'P{c}']).clip(0)  # DATA BUG\n",
    "df_table['Fatality Rate'] = (100 * df_table['Deaths'] / df_table['Cases']).round(1)\n",
    "df_table['Continent'] = df_table['Country/Region'].map(mapping['map.continent'])\n",
    "df_table.head(5)"
   ]
  },
  {
   "cell_type": "code",
   "execution_count": 16,
   "id": "fewer-occasion",
   "metadata": {
    "execution": {
     "iopub.execute_input": "2021-07-10T00:20:27.895514Z",
     "iopub.status.busy": "2021-07-10T00:20:27.895016Z",
     "iopub.status.idle": "2021-07-10T00:20:27.897805Z",
     "shell.execute_reply": "2021-07-10T00:20:27.898236Z"
    },
    "papermill": {
     "duration": 0.038786,
     "end_time": "2021-07-10T00:20:27.898364",
     "exception": false,
     "start_time": "2021-07-10T00:20:27.859578",
     "status": "completed"
    },
    "tags": []
   },
   "outputs": [],
   "source": [
    "#hide\n",
    "#delete problematic countries from table\n",
    "df_table = df_table[~df_table['Country/Region'].isin(['Cape Verde', 'Cruise Ship', 'Kosovo'])]"
   ]
  },
  {
   "cell_type": "code",
   "execution_count": 17,
   "id": "related-center",
   "metadata": {
    "execution": {
     "iopub.execute_input": "2021-07-10T00:20:27.966604Z",
     "iopub.status.busy": "2021-07-10T00:20:27.966083Z",
     "iopub.status.idle": "2021-07-10T00:20:27.978729Z",
     "shell.execute_reply": "2021-07-10T00:20:27.978294Z"
    },
    "papermill": {
     "duration": 0.049825,
     "end_time": "2021-07-10T00:20:27.978842",
     "exception": false,
     "start_time": "2021-07-10T00:20:27.929017",
     "status": "completed"
    },
    "tags": []
   },
   "outputs": [],
   "source": [
    "#hide\n",
    "metrics = [df_table.columns[index] for index in [1,2,5,6]]\n",
    "# s_china = df_table[df_table['Country/Region'].eq('China')][metrics].sum().add_prefix('China ')\n",
    "s_us = df_table[df_table['Country/Region'].eq('US')][metrics].sum().add_prefix('US ')\n",
    "s_eu = df_table[df_table['Continent'].eq('Europe')][metrics].sum().add_prefix('EU ')\n",
    "s_ind = df_table[df_table['Country/Region'].eq('India')][metrics].sum().add_prefix('India ')\n",
    "summary = {'updated': pd.to_datetime(dt_today), 'since': pd.to_datetime(dt_yday)}\n",
    "summary = {'updated': pd.to_datetime(dt_today), 'since': pd.to_datetime(dt_yday)}\n",
    "summary = {**summary, **df_table[metrics].sum(), **s_ind, **s_us, **s_eu}"
   ]
  },
  {
   "cell_type": "code",
   "execution_count": 18,
   "id": "engaging-syndrome",
   "metadata": {
    "execution": {
     "iopub.execute_input": "2021-07-10T00:20:28.045647Z",
     "iopub.status.busy": "2021-07-10T00:20:28.045137Z",
     "iopub.status.idle": "2021-07-10T00:20:28.056603Z",
     "shell.execute_reply": "2021-07-10T00:20:28.056165Z"
    },
    "papermill": {
     "duration": 0.047002,
     "end_time": "2021-07-10T00:20:28.056722",
     "exception": false,
     "start_time": "2021-07-10T00:20:28.009720",
     "status": "completed"
    },
    "tags": []
   },
   "outputs": [],
   "source": [
    "#hide\n",
    "dft_ct_new_cases = dft_cases.groupby(COL_REGION)[dt_cols].sum().diff(axis=1).fillna(0).astype(int)"
   ]
  },
  {
   "cell_type": "code",
   "execution_count": 19,
   "id": "neutral-assignment",
   "metadata": {
    "execution": {
     "iopub.execute_input": "2021-07-10T00:20:28.125245Z",
     "iopub.status.busy": "2021-07-10T00:20:28.124730Z",
     "iopub.status.idle": "2021-07-10T00:20:28.126437Z",
     "shell.execute_reply": "2021-07-10T00:20:28.126867Z"
    },
    "papermill": {
     "duration": 0.039385,
     "end_time": "2021-07-10T00:20:28.126992",
     "exception": false,
     "start_time": "2021-07-10T00:20:28.087607",
     "status": "completed"
    },
    "tags": []
   },
   "outputs": [],
   "source": [
    "#hide\n",
    "everydaycases = dft_ct_new_cases.cumsum(axis=1)"
   ]
  },
  {
   "cell_type": "code",
   "execution_count": 20,
   "id": "parliamentary-calgary",
   "metadata": {
    "execution": {
     "iopub.execute_input": "2021-07-10T00:20:28.193645Z",
     "iopub.status.busy": "2021-07-10T00:20:28.193123Z",
     "iopub.status.idle": "2021-07-10T00:20:28.715880Z",
     "shell.execute_reply": "2021-07-10T00:20:28.715355Z"
    },
    "papermill": {
     "duration": 0.558151,
     "end_time": "2021-07-10T00:20:28.716021",
     "exception": false,
     "start_time": "2021-07-10T00:20:28.157870",
     "status": "completed"
    },
    "tags": []
   },
   "outputs": [],
   "source": [
    "#hide\n",
    "import pandas as pd\n",
    "import matplotlib.pyplot as plt\n",
    "import matplotlib.ticker as ticker\n",
    "import matplotlib.animation as animation\n",
    "from IPython.display import HTML"
   ]
  },
  {
   "cell_type": "code",
   "execution_count": 21,
   "id": "lasting-extraction",
   "metadata": {
    "execution": {
     "iopub.execute_input": "2021-07-10T00:20:28.784526Z",
     "iopub.status.busy": "2021-07-10T00:20:28.783984Z",
     "iopub.status.idle": "2021-07-10T00:20:28.789372Z",
     "shell.execute_reply": "2021-07-10T00:20:28.788940Z"
    },
    "papermill": {
     "duration": 0.041537,
     "end_time": "2021-07-10T00:20:28.789485",
     "exception": false,
     "start_time": "2021-07-10T00:20:28.747948",
     "status": "completed"
    },
    "tags": []
   },
   "outputs": [],
   "source": [
    "#hide\n",
    "t = everydaycases.stack()"
   ]
  },
  {
   "cell_type": "code",
   "execution_count": 22,
   "id": "premier-sleeve",
   "metadata": {
    "execution": {
     "iopub.execute_input": "2021-07-10T00:20:28.855804Z",
     "iopub.status.busy": "2021-07-10T00:20:28.855296Z",
     "iopub.status.idle": "2021-07-10T00:20:28.862777Z",
     "shell.execute_reply": "2021-07-10T00:20:28.863207Z"
    },
    "papermill": {
     "duration": 0.042892,
     "end_time": "2021-07-10T00:20:28.863342",
     "exception": false,
     "start_time": "2021-07-10T00:20:28.820450",
     "status": "completed"
    },
    "tags": []
   },
   "outputs": [],
   "source": [
    "#hide\n",
    "g = t.reset_index(['Country/Region'])"
   ]
  },
  {
   "cell_type": "code",
   "execution_count": 23,
   "id": "distributed-pittsburgh",
   "metadata": {
    "execution": {
     "iopub.execute_input": "2021-07-10T00:20:28.929400Z",
     "iopub.status.busy": "2021-07-10T00:20:28.928888Z",
     "iopub.status.idle": "2021-07-10T00:20:28.930896Z",
     "shell.execute_reply": "2021-07-10T00:20:28.930458Z"
    },
    "papermill": {
     "duration": 0.036919,
     "end_time": "2021-07-10T00:20:28.931010",
     "exception": false,
     "start_time": "2021-07-10T00:20:28.894091",
     "status": "completed"
    },
    "tags": []
   },
   "outputs": [],
   "source": [
    "#hide\n",
    "g.index.name = 'date'"
   ]
  },
  {
   "cell_type": "code",
   "execution_count": 24,
   "id": "naked-donor",
   "metadata": {
    "execution": {
     "iopub.execute_input": "2021-07-10T00:20:28.996823Z",
     "iopub.status.busy": "2021-07-10T00:20:28.996279Z",
     "iopub.status.idle": "2021-07-10T00:20:28.998042Z",
     "shell.execute_reply": "2021-07-10T00:20:28.998449Z"
    },
    "papermill": {
     "duration": 0.03659,
     "end_time": "2021-07-10T00:20:28.998577",
     "exception": false,
     "start_time": "2021-07-10T00:20:28.961987",
     "status": "completed"
    },
    "tags": []
   },
   "outputs": [],
   "source": [
    "# #hide\n",
    "# g = g.reset_index(['date'])"
   ]
  },
  {
   "cell_type": "code",
   "execution_count": 25,
   "id": "incomplete-mustang",
   "metadata": {
    "execution": {
     "iopub.execute_input": "2021-07-10T00:20:29.064253Z",
     "iopub.status.busy": "2021-07-10T00:20:29.063738Z",
     "iopub.status.idle": "2021-07-10T00:20:29.065474Z",
     "shell.execute_reply": "2021-07-10T00:20:29.065955Z"
    },
    "papermill": {
     "duration": 0.036606,
     "end_time": "2021-07-10T00:20:29.066090",
     "exception": false,
     "start_time": "2021-07-10T00:20:29.029484",
     "status": "completed"
    },
    "tags": []
   },
   "outputs": [],
   "source": [
    "#hide\n",
    "# g.head()"
   ]
  },
  {
   "cell_type": "code",
   "execution_count": 26,
   "id": "specific-kruger",
   "metadata": {
    "execution": {
     "iopub.execute_input": "2021-07-10T00:20:29.132147Z",
     "iopub.status.busy": "2021-07-10T00:20:29.131623Z",
     "iopub.status.idle": "2021-07-10T00:20:29.133499Z",
     "shell.execute_reply": "2021-07-10T00:20:29.133930Z"
    },
    "papermill": {
     "duration": 0.036907,
     "end_time": "2021-07-10T00:20:29.134065",
     "exception": false,
     "start_time": "2021-07-10T00:20:29.097158",
     "status": "completed"
    },
    "tags": []
   },
   "outputs": [],
   "source": [
    "#hide\n",
    "# g.columns = ['date','country','cases']"
   ]
  },
  {
   "cell_type": "code",
   "execution_count": 27,
   "id": "tender-conversion",
   "metadata": {
    "execution": {
     "iopub.execute_input": "2021-07-10T00:20:29.199419Z",
     "iopub.status.busy": "2021-07-10T00:20:29.198903Z",
     "iopub.status.idle": "2021-07-10T00:20:29.201119Z",
     "shell.execute_reply": "2021-07-10T00:20:29.200708Z"
    },
    "papermill": {
     "duration": 0.036406,
     "end_time": "2021-07-10T00:20:29.201232",
     "exception": false,
     "start_time": "2021-07-10T00:20:29.164826",
     "status": "completed"
    },
    "tags": []
   },
   "outputs": [],
   "source": [
    "#hide\n",
    "# g['continent'] = g.country"
   ]
  },
  {
   "cell_type": "code",
   "execution_count": 28,
   "id": "substantial-wilderness",
   "metadata": {
    "execution": {
     "iopub.execute_input": "2021-07-10T00:20:29.266933Z",
     "iopub.status.busy": "2021-07-10T00:20:29.266413Z",
     "iopub.status.idle": "2021-07-10T00:20:29.268103Z",
     "shell.execute_reply": "2021-07-10T00:20:29.268608Z"
    },
    "papermill": {
     "duration": 0.036464,
     "end_time": "2021-07-10T00:20:29.268745",
     "exception": false,
     "start_time": "2021-07-10T00:20:29.232281",
     "status": "completed"
    },
    "tags": []
   },
   "outputs": [],
   "source": [
    "#hide\n",
    "# cols = list(g.columns.values)"
   ]
  },
  {
   "cell_type": "code",
   "execution_count": 29,
   "id": "solved-farming",
   "metadata": {
    "execution": {
     "iopub.execute_input": "2021-07-10T00:20:29.333846Z",
     "iopub.status.busy": "2021-07-10T00:20:29.333333Z",
     "iopub.status.idle": "2021-07-10T00:20:29.335357Z",
     "shell.execute_reply": "2021-07-10T00:20:29.334926Z"
    },
    "papermill": {
     "duration": 0.036075,
     "end_time": "2021-07-10T00:20:29.335466",
     "exception": false,
     "start_time": "2021-07-10T00:20:29.299391",
     "status": "completed"
    },
    "tags": []
   },
   "outputs": [],
   "source": [
    "#hide\n",
    "# cols.insert(0, cols.pop())"
   ]
  },
  {
   "cell_type": "code",
   "execution_count": 30,
   "id": "executed-adoption",
   "metadata": {
    "execution": {
     "iopub.execute_input": "2021-07-10T00:20:29.400874Z",
     "iopub.status.busy": "2021-07-10T00:20:29.400356Z",
     "iopub.status.idle": "2021-07-10T00:20:29.402209Z",
     "shell.execute_reply": "2021-07-10T00:20:29.402640Z"
    },
    "papermill": {
     "duration": 0.036307,
     "end_time": "2021-07-10T00:20:29.402765",
     "exception": false,
     "start_time": "2021-07-10T00:20:29.366458",
     "status": "completed"
    },
    "tags": []
   },
   "outputs": [],
   "source": [
    "#hide\n",
    "# g = g[cols]"
   ]
  },
  {
   "cell_type": "code",
   "execution_count": 31,
   "id": "subject-dublin",
   "metadata": {
    "execution": {
     "iopub.execute_input": "2021-07-10T00:20:29.467917Z",
     "iopub.status.busy": "2021-07-10T00:20:29.467388Z",
     "iopub.status.idle": "2021-07-10T00:20:29.468970Z",
     "shell.execute_reply": "2021-07-10T00:20:29.469397Z"
    },
    "papermill": {
     "duration": 0.036017,
     "end_time": "2021-07-10T00:20:29.469522",
     "exception": false,
     "start_time": "2021-07-10T00:20:29.433505",
     "status": "completed"
    },
    "tags": []
   },
   "outputs": [],
   "source": [
    "#hide\n",
    "# g['continent'] = g['continent'].map(mapping['map.continent'])"
   ]
  },
  {
   "cell_type": "code",
   "execution_count": 32,
   "id": "freelance-scout",
   "metadata": {
    "execution": {
     "iopub.execute_input": "2021-07-10T00:20:29.534858Z",
     "iopub.status.busy": "2021-07-10T00:20:29.534351Z",
     "iopub.status.idle": "2021-07-10T00:20:29.536101Z",
     "shell.execute_reply": "2021-07-10T00:20:29.536545Z"
    },
    "papermill": {
     "duration": 0.036302,
     "end_time": "2021-07-10T00:20:29.536675",
     "exception": false,
     "start_time": "2021-07-10T00:20:29.500373",
     "status": "completed"
    },
    "tags": []
   },
   "outputs": [],
   "source": [
    "#hide\n",
    "# g.head()"
   ]
  },
  {
   "cell_type": "code",
   "execution_count": 33,
   "id": "limited-engine",
   "metadata": {
    "execution": {
     "iopub.execute_input": "2021-07-10T00:20:29.601737Z",
     "iopub.status.busy": "2021-07-10T00:20:29.601237Z",
     "iopub.status.idle": "2021-07-10T00:20:29.603003Z",
     "shell.execute_reply": "2021-07-10T00:20:29.603484Z"
    },
    "papermill": {
     "duration": 0.036201,
     "end_time": "2021-07-10T00:20:29.603611",
     "exception": false,
     "start_time": "2021-07-10T00:20:29.567410",
     "status": "completed"
    },
    "tags": []
   },
   "outputs": [],
   "source": [
    "# hide\n",
    "# g['date'] = g['date'].astype('datetime64[ns]')"
   ]
  },
  {
   "cell_type": "code",
   "execution_count": 34,
   "id": "sophisticated-supervisor",
   "metadata": {
    "execution": {
     "iopub.execute_input": "2021-07-10T00:20:29.667910Z",
     "iopub.status.busy": "2021-07-10T00:20:29.667397Z",
     "iopub.status.idle": "2021-07-10T00:20:29.670397Z",
     "shell.execute_reply": "2021-07-10T00:20:29.670802Z"
    },
    "papermill": {
     "duration": 0.036604,
     "end_time": "2021-07-10T00:20:29.670929",
     "exception": false,
     "start_time": "2021-07-10T00:20:29.634325",
     "status": "completed"
    },
    "tags": []
   },
   "outputs": [],
   "source": [
    "#hide\n",
    "# g['date'] = g.date.dt.dayofyear"
   ]
  },
  {
   "cell_type": "code",
   "execution_count": 35,
   "id": "inside-dubai",
   "metadata": {
    "execution": {
     "iopub.execute_input": "2021-07-10T00:20:29.735904Z",
     "iopub.status.busy": "2021-07-10T00:20:29.735400Z",
     "iopub.status.idle": "2021-07-10T00:20:29.737621Z",
     "shell.execute_reply": "2021-07-10T00:20:29.737217Z"
    },
    "papermill": {
     "duration": 0.036213,
     "end_time": "2021-07-10T00:20:29.737731",
     "exception": false,
     "start_time": "2021-07-10T00:20:29.701518",
     "status": "completed"
    },
    "tags": []
   },
   "outputs": [],
   "source": [
    "#hide\n",
    "# g = g.rename(columns= {'continent':'group','country':'name','cases':'value'})"
   ]
  },
  {
   "cell_type": "code",
   "execution_count": 36,
   "id": "fleet-motorcycle",
   "metadata": {
    "execution": {
     "iopub.execute_input": "2021-07-10T00:20:29.802963Z",
     "iopub.status.busy": "2021-07-10T00:20:29.802453Z",
     "iopub.status.idle": "2021-07-10T00:20:29.804533Z",
     "shell.execute_reply": "2021-07-10T00:20:29.804085Z"
    },
    "papermill": {
     "duration": 0.036098,
     "end_time": "2021-07-10T00:20:29.804646",
     "exception": false,
     "start_time": "2021-07-10T00:20:29.768548",
     "status": "completed"
    },
    "tags": []
   },
   "outputs": [],
   "source": [
    "#hide\n",
    "# cols = ['name','group','day','value']"
   ]
  },
  {
   "cell_type": "code",
   "execution_count": 37,
   "id": "continued-sleeping",
   "metadata": {
    "execution": {
     "iopub.execute_input": "2021-07-10T00:20:29.869688Z",
     "iopub.status.busy": "2021-07-10T00:20:29.869186Z",
     "iopub.status.idle": "2021-07-10T00:20:29.871430Z",
     "shell.execute_reply": "2021-07-10T00:20:29.871001Z"
    },
    "papermill": {
     "duration": 0.036192,
     "end_time": "2021-07-10T00:20:29.871542",
     "exception": false,
     "start_time": "2021-07-10T00:20:29.835350",
     "status": "completed"
    },
    "tags": []
   },
   "outputs": [],
   "source": [
    "#hide\n",
    "# g.rename(columns= {'date':'day'},inplace = True)"
   ]
  },
  {
   "cell_type": "code",
   "execution_count": 38,
   "id": "major-fight",
   "metadata": {
    "execution": {
     "iopub.execute_input": "2021-07-10T00:20:29.936999Z",
     "iopub.status.busy": "2021-07-10T00:20:29.936467Z",
     "iopub.status.idle": "2021-07-10T00:20:29.938250Z",
     "shell.execute_reply": "2021-07-10T00:20:29.938654Z"
    },
    "papermill": {
     "duration": 0.036505,
     "end_time": "2021-07-10T00:20:29.938784",
     "exception": false,
     "start_time": "2021-07-10T00:20:29.902279",
     "status": "completed"
    },
    "tags": []
   },
   "outputs": [],
   "source": [
    "#hide\n",
    "# g = g[cols]"
   ]
  },
  {
   "cell_type": "code",
   "execution_count": 39,
   "id": "structured-mobile",
   "metadata": {
    "execution": {
     "iopub.execute_input": "2021-07-10T00:20:30.003883Z",
     "iopub.status.busy": "2021-07-10T00:20:30.003372Z",
     "iopub.status.idle": "2021-07-10T00:20:30.005383Z",
     "shell.execute_reply": "2021-07-10T00:20:30.004952Z"
    },
    "papermill": {
     "duration": 0.036011,
     "end_time": "2021-07-10T00:20:30.005494",
     "exception": false,
     "start_time": "2021-07-10T00:20:29.969483",
     "status": "completed"
    },
    "tags": []
   },
   "outputs": [],
   "source": [
    "# #hide\n",
    "# g = g[g.group.notna()]"
   ]
  },
  {
   "cell_type": "code",
   "execution_count": 40,
   "id": "determined-closing",
   "metadata": {
    "execution": {
     "iopub.execute_input": "2021-07-10T00:20:30.070819Z",
     "iopub.status.busy": "2021-07-10T00:20:30.070304Z",
     "iopub.status.idle": "2021-07-10T00:20:30.072053Z",
     "shell.execute_reply": "2021-07-10T00:20:30.072502Z"
    },
    "papermill": {
     "duration": 0.036423,
     "end_time": "2021-07-10T00:20:30.072631",
     "exception": false,
     "start_time": "2021-07-10T00:20:30.036208",
     "status": "completed"
    },
    "tags": []
   },
   "outputs": [],
   "source": [
    "# #hide\n",
    "# colors = dict(zip(\n",
    "#     [\"Oceania\", \"Europe\", \"Asia\", \"South America\", \"Middle East\", \"North America\", \"Africa\"],\n",
    "#     [\"#adb0ff\", \"#ffb3ff\", \"#90d595\", \"#e48381\", \"#aafbff\", \"#f7bb5f\", \"#eafb50\"]\n",
    "# ))\n",
    "# group_lk = g.set_index('name')['group'].to_dict()"
   ]
  },
  {
   "cell_type": "code",
   "execution_count": null,
   "id": "gross-drinking",
   "metadata": {
    "papermill": {
     "duration": 0.030809,
     "end_time": "2021-07-10T00:20:30.133929",
     "exception": false,
     "start_time": "2021-07-10T00:20:30.103120",
     "status": "completed"
    },
    "tags": []
   },
   "outputs": [],
   "source": []
  },
  {
   "cell_type": "code",
   "execution_count": 41,
   "id": "subject-macintosh",
   "metadata": {
    "execution": {
     "iopub.execute_input": "2021-07-10T00:20:30.199845Z",
     "iopub.status.busy": "2021-07-10T00:20:30.199305Z",
     "iopub.status.idle": "2021-07-10T00:20:30.201332Z",
     "shell.execute_reply": "2021-07-10T00:20:30.200898Z"
    },
    "papermill": {
     "duration": 0.036728,
     "end_time": "2021-07-10T00:20:30.201443",
     "exception": false,
     "start_time": "2021-07-10T00:20:30.164715",
     "status": "completed"
    },
    "tags": []
   },
   "outputs": [],
   "source": [
    "# #hide\n",
    "# fig, ax = plt.subplots(figsize=(15, 8))\n",
    "\n",
    "# def draw_barchart(current_day):\n",
    "#     dff = g[g['day'].eq(current_day)].sort_values(by='value', ascending=True).tail(10)\n",
    "#     ax.clear()\n",
    "#     ax.barh(dff['name'], dff['value'], color=[colors[group_lk[x]] for x in dff['name']])\n",
    "#     dx = dff['value'].max() / 200\n",
    "    \n",
    "#     for i, (value, name) in enumerate(zip(dff['value'], dff['name'])):\n",
    "#         ax.text(value-dx, i,     name,           size=14, weight=600, ha='right', va='bottom')\n",
    "#         ax.text(value-dx, i-.25, group_lk[name], size=10, color='#444444', ha='right', va='baseline')\n",
    "#         ax.text(value+dx, i,     f'{value:,.0f}',  size=14, ha='left',  va='center')\n",
    "#     ax.text(1, 0.4, current_day, transform=ax.transAxes, color='#777777', size=46, ha='right', weight=800)\n",
    "#     ax.text(0, 1.06, 'Population (thousands)', transform=ax.transAxes, size=12, color='#777777')\n",
    "#     ax.xaxis.set_major_formatter(ticker.StrMethodFormatter('{x:,.0f}'))\n",
    "#     ax.xaxis.set_ticks_position('top')\n",
    "#     ax.tick_params(axis='x', colors='#777777', labelsize=12)\n",
    "#     ax.set_yticks([])\n",
    "#     ax.margins(0, 0.01)\n",
    "#     ax.grid(which='major', axis='x', linestyle='-')\n",
    "#     ax.set_axisbelow(True)\n",
    "    \n",
    "#     ax.text(0, 1.15, 'Coronavirus',\n",
    "#             transform=ax.transAxes, size=24, weight=600, ha='left', va='top')\n",
    "# #     ax.text(1, 0, 'by @pratapvardhan; credit @jburnmurdoch', transform=ax.transAxes, color='#777777', ha='right',\n",
    "# #             bbox=dict(facecolor='white', alpha=0.8, edgecolor='white'))\n",
    "#     plt.box(False)"
   ]
  },
  {
   "cell_type": "code",
   "execution_count": 42,
   "id": "sexual-wages",
   "metadata": {
    "execution": {
     "iopub.execute_input": "2021-07-10T00:20:30.266764Z",
     "iopub.status.busy": "2021-07-10T00:20:30.266257Z",
     "iopub.status.idle": "2021-07-10T00:20:30.267987Z",
     "shell.execute_reply": "2021-07-10T00:20:30.268439Z"
    },
    "papermill": {
     "duration": 0.036413,
     "end_time": "2021-07-10T00:20:30.268568",
     "exception": false,
     "start_time": "2021-07-10T00:20:30.232155",
     "status": "completed"
    },
    "tags": []
   },
   "outputs": [],
   "source": [
    "# #hide_input\n",
    "# fig, ax = plt.subplots(figsize=(15, 8))\n",
    "# animator = animation.FuncAnimation(fig, draw_barchart, frames=range(g.day.values.min(), g.day.values.max()))\n",
    "# HTML(animator.to_jshtml())\n",
    "# # or use animator.to_html5_video() or animator.save() "
   ]
  },
  {
   "cell_type": "code",
   "execution_count": null,
   "id": "australian-container",
   "metadata": {
    "papermill": {
     "duration": 0.030518,
     "end_time": "2021-07-10T00:20:30.329989",
     "exception": false,
     "start_time": "2021-07-10T00:20:30.299471",
     "status": "completed"
    },
    "tags": []
   },
   "outputs": [],
   "source": []
  },
  {
   "cell_type": "code",
   "execution_count": null,
   "id": "mediterranean-pontiac",
   "metadata": {
    "papermill": {
     "duration": 0.03074,
     "end_time": "2021-07-10T00:20:30.391241",
     "exception": false,
     "start_time": "2021-07-10T00:20:30.360501",
     "status": "completed"
    },
    "tags": []
   },
   "outputs": [],
   "source": []
  },
  {
   "cell_type": "code",
   "execution_count": null,
   "id": "aging-legislature",
   "metadata": {
    "papermill": {
     "duration": 0.030481,
     "end_time": "2021-07-10T00:20:30.452497",
     "exception": false,
     "start_time": "2021-07-10T00:20:30.422016",
     "status": "completed"
    },
    "tags": []
   },
   "outputs": [],
   "source": []
  }
 ],
 "metadata": {
  "kernelspec": {
   "display_name": "Python 3",
   "language": "python",
   "name": "python3"
  },
  "language_info": {
   "codemirror_mode": {
    "name": "ipython",
    "version": 3
   },
   "file_extension": ".py",
   "mimetype": "text/x-python",
   "name": "python",
   "nbconvert_exporter": "python",
   "pygments_lexer": "ipython3",
   "version": "3.6.13"
  },
  "papermill": {
   "duration": 6.08649,
   "end_time": "2021-07-10T00:20:30.891631",
   "environment_variables": {},
   "exception": null,
   "input_path": "2020-03-21-covid19exp.ipynb",
   "output_path": "2020-03-21-covid19exp.ipynb",
   "parameters": {},
   "start_time": "2021-07-10T00:20:24.805141",
   "version": "2.0.0"
  }
 },
 "nbformat": 4,
 "nbformat_minor": 5
}