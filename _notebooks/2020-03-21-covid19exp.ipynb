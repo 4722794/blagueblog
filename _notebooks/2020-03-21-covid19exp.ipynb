{
 "cells": [
  {
   "cell_type": "markdown",
   "id": "muslim-click",
   "metadata": {
    "papermill": {
     "duration": 0.042141,
     "end_time": "2021-05-07T00:13:26.023721",
     "exception": false,
     "start_time": "2021-05-07T00:13:25.981580",
     "status": "completed"
    },
    "tags": []
   },
   "source": [
    "# COVID-19 Case Race\n",
    "> A race chart to see rising cases around the world\n",
    "\n",
    "- author: Hargun Oberoi\n",
    "- image: images/covid-overview.png\n",
    "- hide: false\n",
    "- badges: false"
   ]
  },
  {
   "cell_type": "code",
   "execution_count": 1,
   "id": "proof-material",
   "metadata": {
    "execution": {
     "iopub.execute_input": "2021-05-07T00:13:26.117603Z",
     "iopub.status.busy": "2021-05-07T00:13:26.116912Z",
     "iopub.status.idle": "2021-05-07T00:13:26.476949Z",
     "shell.execute_reply": "2021-05-07T00:13:26.476341Z"
    },
    "papermill": {
     "duration": 0.414666,
     "end_time": "2021-05-07T00:13:26.477094",
     "exception": false,
     "start_time": "2021-05-07T00:13:26.062428",
     "status": "completed"
    },
    "tags": []
   },
   "outputs": [],
   "source": [
    "#hide\n",
    "import numpy as np\n",
    "import pandas as pd\n",
    "from jinja2 import Template\n",
    "from IPython.display import HTML"
   ]
  },
  {
   "cell_type": "code",
   "execution_count": 2,
   "id": "developed-terminology",
   "metadata": {
    "execution": {
     "iopub.execute_input": "2021-05-07T00:13:26.559791Z",
     "iopub.status.busy": "2021-05-07T00:13:26.559091Z",
     "iopub.status.idle": "2021-05-07T00:13:26.561108Z",
     "shell.execute_reply": "2021-05-07T00:13:26.561653Z"
    },
    "papermill": {
     "duration": 0.045964,
     "end_time": "2021-05-07T00:13:26.561804",
     "exception": false,
     "start_time": "2021-05-07T00:13:26.515840",
     "status": "completed"
    },
    "tags": []
   },
   "outputs": [],
   "source": [
    "#hide\n",
    "\n",
    "# FETCH\n",
    "base_url = 'https://raw.githubusercontent.com/pratapvardhan/notebooks/master/covid19/'\n",
    "paths = {\n",
    "    'mapping': base_url + 'mapping_countries.csv',\n",
    "    'overview': base_url + 'overview.tpl'\n",
    "}"
   ]
  },
  {
   "cell_type": "code",
   "execution_count": 3,
   "id": "dynamic-saver",
   "metadata": {
    "execution": {
     "iopub.execute_input": "2021-05-07T00:13:26.647342Z",
     "iopub.status.busy": "2021-05-07T00:13:26.646549Z",
     "iopub.status.idle": "2021-05-07T00:13:26.649430Z",
     "shell.execute_reply": "2021-05-07T00:13:26.650031Z"
    },
    "papermill": {
     "duration": 0.051081,
     "end_time": "2021-05-07T00:13:26.650176",
     "exception": false,
     "start_time": "2021-05-07T00:13:26.599095",
     "status": "completed"
    },
    "tags": []
   },
   "outputs": [
    {
     "data": {
      "text/plain": [
       "'https://raw.githubusercontent.com/pratapvardhan/notebooks/master/covid19/mapping_countries.csv'"
      ]
     },
     "execution_count": 3,
     "metadata": {},
     "output_type": "execute_result"
    }
   ],
   "source": [
    "#hide\n",
    "paths['mapping']"
   ]
  },
  {
   "cell_type": "code",
   "execution_count": 4,
   "id": "urban-software",
   "metadata": {
    "execution": {
     "iopub.execute_input": "2021-05-07T00:13:26.732618Z",
     "iopub.status.busy": "2021-05-07T00:13:26.731929Z",
     "iopub.status.idle": "2021-05-07T00:13:26.733867Z",
     "shell.execute_reply": "2021-05-07T00:13:26.734422Z"
    },
    "papermill": {
     "duration": 0.046394,
     "end_time": "2021-05-07T00:13:26.734558",
     "exception": false,
     "start_time": "2021-05-07T00:13:26.688164",
     "status": "completed"
    },
    "tags": []
   },
   "outputs": [],
   "source": [
    "#hide\n",
    "def get_mappings(url):\n",
    "    df = pd.read_csv(url)\n",
    "    return {\n",
    "        'df': df,\n",
    "        'replace.country': dict(df.dropna(subset=['Name']).set_index('Country')['Name']),\n",
    "        'map.continent': dict(df.set_index('Name')['Continent'])\n",
    "    }"
   ]
  },
  {
   "cell_type": "code",
   "execution_count": 5,
   "id": "intimate-machinery",
   "metadata": {
    "execution": {
     "iopub.execute_input": "2021-05-07T00:13:26.817062Z",
     "iopub.status.busy": "2021-05-07T00:13:26.816329Z",
     "iopub.status.idle": "2021-05-07T00:13:26.850131Z",
     "shell.execute_reply": "2021-05-07T00:13:26.849427Z"
    },
    "papermill": {
     "duration": 0.0782,
     "end_time": "2021-05-07T00:13:26.850265",
     "exception": false,
     "start_time": "2021-05-07T00:13:26.772065",
     "status": "completed"
    },
    "tags": []
   },
   "outputs": [],
   "source": [
    "#hide\n",
    "mapping = get_mappings(paths['mapping'])"
   ]
  },
  {
   "cell_type": "code",
   "execution_count": 6,
   "id": "certified-tactics",
   "metadata": {
    "execution": {
     "iopub.execute_input": "2021-05-07T00:13:26.933482Z",
     "iopub.status.busy": "2021-05-07T00:13:26.932894Z",
     "iopub.status.idle": "2021-05-07T00:13:26.934731Z",
     "shell.execute_reply": "2021-05-07T00:13:26.935345Z"
    },
    "papermill": {
     "duration": 0.046089,
     "end_time": "2021-05-07T00:13:26.935498",
     "exception": false,
     "start_time": "2021-05-07T00:13:26.889409",
     "status": "completed"
    },
    "tags": []
   },
   "outputs": [],
   "source": [
    "#hide\n",
    "def get_template(path):\n",
    "    from urllib.parse import urlparse\n",
    "    if bool(urlparse(path).netloc):\n",
    "        from urllib.request import urlopen\n",
    "        return urlopen(path).read().decode('utf8')\n",
    "    return open(path).read()"
   ]
  },
  {
   "cell_type": "code",
   "execution_count": 7,
   "id": "realistic-blast",
   "metadata": {
    "execution": {
     "iopub.execute_input": "2021-05-07T00:13:27.018046Z",
     "iopub.status.busy": "2021-05-07T00:13:27.017387Z",
     "iopub.status.idle": "2021-05-07T00:13:27.019278Z",
     "shell.execute_reply": "2021-05-07T00:13:27.019976Z"
    },
    "papermill": {
     "duration": 0.046632,
     "end_time": "2021-05-07T00:13:27.020114",
     "exception": false,
     "start_time": "2021-05-07T00:13:26.973482",
     "status": "completed"
    },
    "tags": []
   },
   "outputs": [],
   "source": [
    "#hide\n",
    "def get_frame(name):\n",
    "    url = (\n",
    "        'https://raw.githubusercontent.com/CSSEGISandData/COVID-19/master/csse_covid_19_data/'\n",
    "        f'csse_covid_19_time_series/time_series_covid19_{name}_global.csv')\n",
    "    df = pd.read_csv(url)\n",
    "    # rename countries\n",
    "    df['Country/Region'] = df['Country/Region'].replace(mapping['replace.country'])\n",
    "    return df"
   ]
  },
  {
   "cell_type": "code",
   "execution_count": 8,
   "id": "affiliated-characterization",
   "metadata": {
    "execution": {
     "iopub.execute_input": "2021-05-07T00:13:27.103712Z",
     "iopub.status.busy": "2021-05-07T00:13:27.103096Z",
     "iopub.status.idle": "2021-05-07T00:13:27.105315Z",
     "shell.execute_reply": "2021-05-07T00:13:27.105857Z"
    },
    "papermill": {
     "duration": 0.046612,
     "end_time": "2021-05-07T00:13:27.105992",
     "exception": false,
     "start_time": "2021-05-07T00:13:27.059380",
     "status": "completed"
    },
    "tags": []
   },
   "outputs": [],
   "source": [
    "#hide\n",
    "def get_dates(df):\n",
    "    dt_cols = df.columns[~df.columns.isin(['Province/State', 'Country/Region', 'Lat', 'Long'])]\n",
    "    LAST_DATE_I = -1\n",
    "    # sometimes last column may be empty, then go backwards\n",
    "    for i in range(-1, -len(dt_cols), -1):\n",
    "        if not df[dt_cols[i]].fillna(0).eq(0).all():\n",
    "            LAST_DATE_I = i\n",
    "            break\n",
    "    return LAST_DATE_I, dt_cols"
   ]
  },
  {
   "cell_type": "code",
   "execution_count": 9,
   "id": "recent-optimization",
   "metadata": {
    "execution": {
     "iopub.execute_input": "2021-05-07T00:13:27.182350Z",
     "iopub.status.busy": "2021-05-07T00:13:27.181704Z",
     "iopub.status.idle": "2021-05-07T00:13:27.494738Z",
     "shell.execute_reply": "2021-05-07T00:13:27.494102Z"
    },
    "papermill": {
     "duration": 0.35387,
     "end_time": "2021-05-07T00:13:27.494898",
     "exception": false,
     "start_time": "2021-05-07T00:13:27.141028",
     "status": "completed"
    },
    "tags": []
   },
   "outputs": [],
   "source": [
    "#hide\n",
    "COL_REGION = 'Country/Region'\n",
    "# Confirmed, Recovered, Deaths\n",
    "df = get_frame('confirmed')\n",
    "# dft_: timeseries, dfc_: today country agg\n",
    "dft_cases = df\n",
    "dft_deaths = get_frame('deaths')\n",
    "dft_recovered = get_frame('recovered')\n",
    "LAST_DATE_I, dt_cols = get_dates(df)"
   ]
  },
  {
   "cell_type": "code",
   "execution_count": 10,
   "id": "absolute-copper",
   "metadata": {
    "execution": {
     "iopub.execute_input": "2021-05-07T00:13:27.578892Z",
     "iopub.status.busy": "2021-05-07T00:13:27.578260Z",
     "iopub.status.idle": "2021-05-07T00:13:27.580318Z",
     "shell.execute_reply": "2021-05-07T00:13:27.580880Z"
    },
    "papermill": {
     "duration": 0.04723,
     "end_time": "2021-05-07T00:13:27.581017",
     "exception": false,
     "start_time": "2021-05-07T00:13:27.533787",
     "status": "completed"
    },
    "tags": []
   },
   "outputs": [],
   "source": [
    "#hide\n",
    "LAST_DATE_I, dt_cols = get_dates(df)\n",
    "dt_today =dt_cols[LAST_DATE_I]\n",
    "# dt_5day = dt_cols[LAST_DATE_I - 5]\n",
    "dt_yday = dt_cols[LAST_DATE_I - 1]"
   ]
  },
  {
   "cell_type": "code",
   "execution_count": 11,
   "id": "restricted-sheriff",
   "metadata": {
    "execution": {
     "iopub.execute_input": "2021-05-07T00:13:27.663192Z",
     "iopub.status.busy": "2021-05-07T00:13:27.662561Z",
     "iopub.status.idle": "2021-05-07T00:13:27.669702Z",
     "shell.execute_reply": "2021-05-07T00:13:27.669059Z"
    },
    "papermill": {
     "duration": 0.052954,
     "end_time": "2021-05-07T00:13:27.669828",
     "exception": false,
     "start_time": "2021-05-07T00:13:27.616874",
     "status": "completed"
    },
    "tags": []
   },
   "outputs": [],
   "source": [
    "#hide\n",
    "dfc_cases = dft_cases.groupby(COL_REGION)[dt_today].sum()\n",
    "dfc_deaths = dft_deaths.groupby(COL_REGION)[dt_today].sum()\n",
    "# dfp_cases = dft_cases.groupby(COL_REGION)[dt_5day].sum()\n",
    "# dfp_deaths = dft_deaths.groupby(COL_REGION)[dt_5day].sum()\n",
    "dfp_cases = dft_cases.groupby(COL_REGION)[dt_yday].sum()\n",
    "dfp_deaths = dft_deaths.groupby(COL_REGION)[dt_yday].sum()"
   ]
  },
  {
   "cell_type": "code",
   "execution_count": 12,
   "id": "deluxe-hepatitis",
   "metadata": {
    "execution": {
     "iopub.execute_input": "2021-05-07T00:13:27.752318Z",
     "iopub.status.busy": "2021-05-07T00:13:27.751688Z",
     "iopub.status.idle": "2021-05-07T00:13:27.758706Z",
     "shell.execute_reply": "2021-05-07T00:13:27.759377Z"
    },
    "papermill": {
     "duration": 0.050997,
     "end_time": "2021-05-07T00:13:27.759520",
     "exception": false,
     "start_time": "2021-05-07T00:13:27.708523",
     "status": "completed"
    },
    "tags": []
   },
   "outputs": [],
   "source": [
    "#hide\n",
    "df_table = (pd.DataFrame(dict(Cases = dfc_cases, Deaths = dfc_deaths, PCases = dfp_cases, PDeaths = dfp_deaths))\n",
    "            .sort_values(by = ['Cases','Deaths'], ascending = [False, False])\n",
    "            .reset_index())"
   ]
  },
  {
   "cell_type": "code",
   "execution_count": 13,
   "id": "educational-chancellor",
   "metadata": {
    "execution": {
     "iopub.execute_input": "2021-05-07T00:13:27.861158Z",
     "iopub.status.busy": "2021-05-07T00:13:27.855942Z",
     "iopub.status.idle": "2021-05-07T00:13:27.864130Z",
     "shell.execute_reply": "2021-05-07T00:13:27.864757Z"
    },
    "papermill": {
     "duration": 0.067918,
     "end_time": "2021-05-07T00:13:27.864900",
     "exception": false,
     "start_time": "2021-05-07T00:13:27.796982",
     "status": "completed"
    },
    "tags": []
   },
   "outputs": [
    {
     "data": {
      "text/html": [
       "<div>\n",
       "<style scoped>\n",
       "    .dataframe tbody tr th:only-of-type {\n",
       "        vertical-align: middle;\n",
       "    }\n",
       "\n",
       "    .dataframe tbody tr th {\n",
       "        vertical-align: top;\n",
       "    }\n",
       "\n",
       "    .dataframe thead th {\n",
       "        text-align: right;\n",
       "    }\n",
       "</style>\n",
       "<table border=\"1\" class=\"dataframe\">\n",
       "  <thead>\n",
       "    <tr style=\"text-align: right;\">\n",
       "      <th></th>\n",
       "      <th>Country/Region</th>\n",
       "      <th>Cases</th>\n",
       "      <th>Deaths</th>\n",
       "      <th>PCases</th>\n",
       "      <th>PDeaths</th>\n",
       "      <th>Cases (+)</th>\n",
       "      <th>Deaths (+)</th>\n",
       "      <th>Fatality Rate</th>\n",
       "      <th>Continent</th>\n",
       "    </tr>\n",
       "  </thead>\n",
       "  <tbody>\n",
       "    <tr>\n",
       "      <th>0</th>\n",
       "      <td>US</td>\n",
       "      <td>32557444</td>\n",
       "      <td>579275</td>\n",
       "      <td>32512934</td>\n",
       "      <td>578499</td>\n",
       "      <td>44510</td>\n",
       "      <td>776</td>\n",
       "      <td>1.78</td>\n",
       "      <td>North America</td>\n",
       "    </tr>\n",
       "    <tr>\n",
       "      <th>1</th>\n",
       "      <td>India</td>\n",
       "      <td>21077410</td>\n",
       "      <td>230168</td>\n",
       "      <td>20664979</td>\n",
       "      <td>226188</td>\n",
       "      <td>412431</td>\n",
       "      <td>3980</td>\n",
       "      <td>1.09</td>\n",
       "      <td>Asia</td>\n",
       "    </tr>\n",
       "    <tr>\n",
       "      <th>2</th>\n",
       "      <td>Brazil</td>\n",
       "      <td>14930183</td>\n",
       "      <td>414399</td>\n",
       "      <td>14856888</td>\n",
       "      <td>411588</td>\n",
       "      <td>73295</td>\n",
       "      <td>2811</td>\n",
       "      <td>2.78</td>\n",
       "      <td>South America</td>\n",
       "    </tr>\n",
       "    <tr>\n",
       "      <th>3</th>\n",
       "      <td>France</td>\n",
       "      <td>5767541</td>\n",
       "      <td>105792</td>\n",
       "      <td>5741537</td>\n",
       "      <td>105548</td>\n",
       "      <td>26004</td>\n",
       "      <td>244</td>\n",
       "      <td>1.83</td>\n",
       "      <td>Europe</td>\n",
       "    </tr>\n",
       "    <tr>\n",
       "      <th>4</th>\n",
       "      <td>Turkey</td>\n",
       "      <td>4955594</td>\n",
       "      <td>41883</td>\n",
       "      <td>4929118</td>\n",
       "      <td>41527</td>\n",
       "      <td>26476</td>\n",
       "      <td>356</td>\n",
       "      <td>0.85</td>\n",
       "      <td>Asia</td>\n",
       "    </tr>\n",
       "  </tbody>\n",
       "</table>\n",
       "</div>"
      ],
      "text/plain": [
       "  Country/Region     Cases  Deaths    PCases  PDeaths  Cases (+)  Deaths (+)  \\\n",
       "0             US  32557444  579275  32512934   578499      44510         776   \n",
       "1          India  21077410  230168  20664979   226188     412431        3980   \n",
       "2         Brazil  14930183  414399  14856888   411588      73295        2811   \n",
       "3         France   5767541  105792   5741537   105548      26004         244   \n",
       "4         Turkey   4955594   41883   4929118    41527      26476         356   \n",
       "\n",
       "   Fatality Rate      Continent  \n",
       "0           1.78  North America  \n",
       "1           1.09           Asia  \n",
       "2           2.78  South America  \n",
       "3           1.83         Europe  \n",
       "4           0.85           Asia  "
      ]
     },
     "execution_count": 13,
     "metadata": {},
     "output_type": "execute_result"
    }
   ],
   "source": [
    "#hide\n",
    "for c in 'Cases, Deaths'.split(', '):\n",
    "    df_table[f'{c} (+)'] = (df_table[c] - df_table[f'P{c}']).clip(0)\n",
    "    #Clip ça veut dire, les chiffres negatif sont interdit\n",
    "df_table['Fatality Rate'] = (100* df_table['Deaths']/ df_table['Cases']).round(2)\n",
    "df_table['Continent'] = df_table['Country/Region'].map(mapping['map.continent'])\n",
    "df_table.head(5)"
   ]
  },
  {
   "cell_type": "code",
   "execution_count": 14,
   "id": "aboriginal-bulgaria",
   "metadata": {
    "execution": {
     "iopub.execute_input": "2021-05-07T00:13:27.952699Z",
     "iopub.status.busy": "2021-05-07T00:13:27.951975Z",
     "iopub.status.idle": "2021-05-07T00:13:27.955267Z",
     "shell.execute_reply": "2021-05-07T00:13:27.955858Z"
    },
    "papermill": {
     "duration": 0.051474,
     "end_time": "2021-05-07T00:13:27.956002",
     "exception": false,
     "start_time": "2021-05-07T00:13:27.904528",
     "status": "completed"
    },
    "tags": []
   },
   "outputs": [],
   "source": [
    "#hide\n",
    "#delete problematic countries from table\n",
    "df_table = df_table[~df_table['Country/Region'].isin(['Cape Verde', 'Cruise Ship', 'Kosovo'])]"
   ]
  },
  {
   "cell_type": "code",
   "execution_count": 15,
   "id": "fantastic-effect",
   "metadata": {
    "execution": {
     "iopub.execute_input": "2021-05-07T00:13:28.043596Z",
     "iopub.status.busy": "2021-05-07T00:13:28.042846Z",
     "iopub.status.idle": "2021-05-07T00:13:28.066496Z",
     "shell.execute_reply": "2021-05-07T00:13:28.067132Z"
    },
    "papermill": {
     "duration": 0.071396,
     "end_time": "2021-05-07T00:13:28.067297",
     "exception": false,
     "start_time": "2021-05-07T00:13:27.995901",
     "status": "completed"
    },
    "tags": []
   },
   "outputs": [
    {
     "data": {
      "text/html": [
       "<div>\n",
       "<style scoped>\n",
       "    .dataframe tbody tr th:only-of-type {\n",
       "        vertical-align: middle;\n",
       "    }\n",
       "\n",
       "    .dataframe tbody tr th {\n",
       "        vertical-align: top;\n",
       "    }\n",
       "\n",
       "    .dataframe thead th {\n",
       "        text-align: right;\n",
       "    }\n",
       "</style>\n",
       "<table border=\"1\" class=\"dataframe\">\n",
       "  <thead>\n",
       "    <tr style=\"text-align: right;\">\n",
       "      <th></th>\n",
       "      <th>Country/Region</th>\n",
       "      <th>Cases</th>\n",
       "      <th>Deaths</th>\n",
       "      <th>PCases</th>\n",
       "      <th>PDeaths</th>\n",
       "      <th>Cases (+)</th>\n",
       "      <th>Deaths (+)</th>\n",
       "      <th>Fatality Rate</th>\n",
       "      <th>Continent</th>\n",
       "    </tr>\n",
       "  </thead>\n",
       "  <tbody>\n",
       "    <tr>\n",
       "      <th>0</th>\n",
       "      <td>US</td>\n",
       "      <td>32557444</td>\n",
       "      <td>579275</td>\n",
       "      <td>32512934</td>\n",
       "      <td>578499</td>\n",
       "      <td>44510</td>\n",
       "      <td>776</td>\n",
       "      <td>1.8</td>\n",
       "      <td>North America</td>\n",
       "    </tr>\n",
       "    <tr>\n",
       "      <th>1</th>\n",
       "      <td>India</td>\n",
       "      <td>21077410</td>\n",
       "      <td>230168</td>\n",
       "      <td>20664979</td>\n",
       "      <td>226188</td>\n",
       "      <td>412431</td>\n",
       "      <td>3980</td>\n",
       "      <td>1.1</td>\n",
       "      <td>Asia</td>\n",
       "    </tr>\n",
       "    <tr>\n",
       "      <th>2</th>\n",
       "      <td>Brazil</td>\n",
       "      <td>14930183</td>\n",
       "      <td>414399</td>\n",
       "      <td>14856888</td>\n",
       "      <td>411588</td>\n",
       "      <td>73295</td>\n",
       "      <td>2811</td>\n",
       "      <td>2.8</td>\n",
       "      <td>South America</td>\n",
       "    </tr>\n",
       "    <tr>\n",
       "      <th>3</th>\n",
       "      <td>France</td>\n",
       "      <td>5767541</td>\n",
       "      <td>105792</td>\n",
       "      <td>5741537</td>\n",
       "      <td>105548</td>\n",
       "      <td>26004</td>\n",
       "      <td>244</td>\n",
       "      <td>1.8</td>\n",
       "      <td>Europe</td>\n",
       "    </tr>\n",
       "    <tr>\n",
       "      <th>4</th>\n",
       "      <td>Turkey</td>\n",
       "      <td>4955594</td>\n",
       "      <td>41883</td>\n",
       "      <td>4929118</td>\n",
       "      <td>41527</td>\n",
       "      <td>26476</td>\n",
       "      <td>356</td>\n",
       "      <td>0.8</td>\n",
       "      <td>Asia</td>\n",
       "    </tr>\n",
       "  </tbody>\n",
       "</table>\n",
       "</div>"
      ],
      "text/plain": [
       "  Country/Region     Cases  Deaths    PCases  PDeaths  Cases (+)  Deaths (+)  \\\n",
       "0             US  32557444  579275  32512934   578499      44510         776   \n",
       "1          India  21077410  230168  20664979   226188     412431        3980   \n",
       "2         Brazil  14930183  414399  14856888   411588      73295        2811   \n",
       "3         France   5767541  105792   5741537   105548      26004         244   \n",
       "4         Turkey   4955594   41883   4929118    41527      26476         356   \n",
       "\n",
       "   Fatality Rate      Continent  \n",
       "0            1.8  North America  \n",
       "1            1.1           Asia  \n",
       "2            2.8  South America  \n",
       "3            1.8         Europe  \n",
       "4            0.8           Asia  "
      ]
     },
     "execution_count": 15,
     "metadata": {},
     "output_type": "execute_result"
    }
   ],
   "source": [
    "#hide\n",
    "df_table = (pd.DataFrame(dict(Cases=dfc_cases, Deaths=dfc_deaths, PCases=dfp_cases, PDeaths=dfp_deaths))\n",
    "             .sort_values(by=['Cases', 'Deaths'], ascending=[False, False])\n",
    "             .reset_index())\n",
    "df_table.rename(columns={'index': 'Country/Region'}, inplace=True)\n",
    "for c in 'Cases, Deaths'.split(', '):\n",
    "    df_table[f'{c} (+)'] = (df_table[c] - df_table[f'P{c}']).clip(0)  # DATA BUG\n",
    "df_table['Fatality Rate'] = (100 * df_table['Deaths'] / df_table['Cases']).round(1)\n",
    "df_table['Continent'] = df_table['Country/Region'].map(mapping['map.continent'])\n",
    "df_table.head(5)"
   ]
  },
  {
   "cell_type": "code",
   "execution_count": 16,
   "id": "fewer-occasion",
   "metadata": {
    "execution": {
     "iopub.execute_input": "2021-05-07T00:13:28.154503Z",
     "iopub.status.busy": "2021-05-07T00:13:28.153876Z",
     "iopub.status.idle": "2021-05-07T00:13:28.156047Z",
     "shell.execute_reply": "2021-05-07T00:13:28.156657Z"
    },
    "papermill": {
     "duration": 0.047991,
     "end_time": "2021-05-07T00:13:28.156801",
     "exception": false,
     "start_time": "2021-05-07T00:13:28.108810",
     "status": "completed"
    },
    "tags": []
   },
   "outputs": [],
   "source": [
    "#hide\n",
    "#delete problematic countries from table\n",
    "df_table = df_table[~df_table['Country/Region'].isin(['Cape Verde', 'Cruise Ship', 'Kosovo'])]"
   ]
  },
  {
   "cell_type": "code",
   "execution_count": 17,
   "id": "related-center",
   "metadata": {
    "execution": {
     "iopub.execute_input": "2021-05-07T00:13:28.259418Z",
     "iopub.status.busy": "2021-05-07T00:13:28.258774Z",
     "iopub.status.idle": "2021-05-07T00:13:28.261316Z",
     "shell.execute_reply": "2021-05-07T00:13:28.260769Z"
    },
    "papermill": {
     "duration": 0.065575,
     "end_time": "2021-05-07T00:13:28.261443",
     "exception": false,
     "start_time": "2021-05-07T00:13:28.195868",
     "status": "completed"
    },
    "tags": []
   },
   "outputs": [],
   "source": [
    "#hide\n",
    "metrics = [df_table.columns[index] for index in [1,2,5,6]]\n",
    "# s_china = df_table[df_table['Country/Region'].eq('China')][metrics].sum().add_prefix('China ')\n",
    "s_us = df_table[df_table['Country/Region'].eq('US')][metrics].sum().add_prefix('US ')\n",
    "s_eu = df_table[df_table['Continent'].eq('Europe')][metrics].sum().add_prefix('EU ')\n",
    "s_ind = df_table[df_table['Country/Region'].eq('India')][metrics].sum().add_prefix('India ')\n",
    "summary = {'updated': pd.to_datetime(dt_today), 'since': pd.to_datetime(dt_yday)}\n",
    "summary = {'updated': pd.to_datetime(dt_today), 'since': pd.to_datetime(dt_yday)}\n",
    "summary = {**summary, **df_table[metrics].sum(), **s_ind, **s_us, **s_eu}"
   ]
  },
  {
   "cell_type": "code",
   "execution_count": 18,
   "id": "engaging-syndrome",
   "metadata": {
    "execution": {
     "iopub.execute_input": "2021-05-07T00:13:28.351244Z",
     "iopub.status.busy": "2021-05-07T00:13:28.350656Z",
     "iopub.status.idle": "2021-05-07T00:13:28.362854Z",
     "shell.execute_reply": "2021-05-07T00:13:28.363429Z"
    },
    "papermill": {
     "duration": 0.062837,
     "end_time": "2021-05-07T00:13:28.363585",
     "exception": false,
     "start_time": "2021-05-07T00:13:28.300748",
     "status": "completed"
    },
    "tags": []
   },
   "outputs": [],
   "source": [
    "#hide\n",
    "dft_ct_new_cases = dft_cases.groupby(COL_REGION)[dt_cols].sum().diff(axis=1).fillna(0).astype(int)"
   ]
  },
  {
   "cell_type": "code",
   "execution_count": 19,
   "id": "neutral-assignment",
   "metadata": {
    "execution": {
     "iopub.execute_input": "2021-05-07T00:13:28.449937Z",
     "iopub.status.busy": "2021-05-07T00:13:28.449326Z",
     "iopub.status.idle": "2021-05-07T00:13:28.451151Z",
     "shell.execute_reply": "2021-05-07T00:13:28.451682Z"
    },
    "papermill": {
     "duration": 0.047185,
     "end_time": "2021-05-07T00:13:28.451814",
     "exception": false,
     "start_time": "2021-05-07T00:13:28.404629",
     "status": "completed"
    },
    "tags": []
   },
   "outputs": [],
   "source": [
    "#hide\n",
    "everydaycases = dft_ct_new_cases.cumsum(axis=1)"
   ]
  },
  {
   "cell_type": "code",
   "execution_count": 20,
   "id": "parliamentary-calgary",
   "metadata": {
    "execution": {
     "iopub.execute_input": "2021-05-07T00:13:28.534991Z",
     "iopub.status.busy": "2021-05-07T00:13:28.534237Z",
     "iopub.status.idle": "2021-05-07T00:13:29.139837Z",
     "shell.execute_reply": "2021-05-07T00:13:29.139192Z"
    },
    "papermill": {
     "duration": 0.650385,
     "end_time": "2021-05-07T00:13:29.139972",
     "exception": false,
     "start_time": "2021-05-07T00:13:28.489587",
     "status": "completed"
    },
    "tags": []
   },
   "outputs": [],
   "source": [
    "#hide\n",
    "import pandas as pd\n",
    "import matplotlib.pyplot as plt\n",
    "import matplotlib.ticker as ticker\n",
    "import matplotlib.animation as animation\n",
    "from IPython.display import HTML"
   ]
  },
  {
   "cell_type": "code",
   "execution_count": 21,
   "id": "lasting-extraction",
   "metadata": {
    "execution": {
     "iopub.execute_input": "2021-05-07T00:13:29.229086Z",
     "iopub.status.busy": "2021-05-07T00:13:29.228298Z",
     "iopub.status.idle": "2021-05-07T00:13:29.234615Z",
     "shell.execute_reply": "2021-05-07T00:13:29.234134Z"
    },
    "papermill": {
     "duration": 0.055837,
     "end_time": "2021-05-07T00:13:29.234741",
     "exception": false,
     "start_time": "2021-05-07T00:13:29.178904",
     "status": "completed"
    },
    "tags": []
   },
   "outputs": [],
   "source": [
    "#hide\n",
    "t = everydaycases.stack()"
   ]
  },
  {
   "cell_type": "code",
   "execution_count": 22,
   "id": "premier-sleeve",
   "metadata": {
    "execution": {
     "iopub.execute_input": "2021-05-07T00:13:29.318126Z",
     "iopub.status.busy": "2021-05-07T00:13:29.317505Z",
     "iopub.status.idle": "2021-05-07T00:13:29.325287Z",
     "shell.execute_reply": "2021-05-07T00:13:29.325870Z"
    },
    "papermill": {
     "duration": 0.051489,
     "end_time": "2021-05-07T00:13:29.326012",
     "exception": false,
     "start_time": "2021-05-07T00:13:29.274523",
     "status": "completed"
    },
    "tags": []
   },
   "outputs": [],
   "source": [
    "#hide\n",
    "g = t.reset_index(['Country/Region'])"
   ]
  },
  {
   "cell_type": "code",
   "execution_count": 23,
   "id": "distributed-pittsburgh",
   "metadata": {
    "execution": {
     "iopub.execute_input": "2021-05-07T00:13:29.405568Z",
     "iopub.status.busy": "2021-05-07T00:13:29.404838Z",
     "iopub.status.idle": "2021-05-07T00:13:29.407142Z",
     "shell.execute_reply": "2021-05-07T00:13:29.406575Z"
    },
    "papermill": {
     "duration": 0.044546,
     "end_time": "2021-05-07T00:13:29.407258",
     "exception": false,
     "start_time": "2021-05-07T00:13:29.362712",
     "status": "completed"
    },
    "tags": []
   },
   "outputs": [],
   "source": [
    "#hide\n",
    "g.index.name = 'date'"
   ]
  },
  {
   "cell_type": "code",
   "execution_count": 24,
   "id": "naked-donor",
   "metadata": {
    "execution": {
     "iopub.execute_input": "2021-05-07T00:13:29.486518Z",
     "iopub.status.busy": "2021-05-07T00:13:29.485790Z",
     "iopub.status.idle": "2021-05-07T00:13:29.487843Z",
     "shell.execute_reply": "2021-05-07T00:13:29.488529Z"
    },
    "papermill": {
     "duration": 0.045091,
     "end_time": "2021-05-07T00:13:29.488665",
     "exception": false,
     "start_time": "2021-05-07T00:13:29.443574",
     "status": "completed"
    },
    "tags": []
   },
   "outputs": [],
   "source": [
    "# #hide\n",
    "# g = g.reset_index(['date'])"
   ]
  },
  {
   "cell_type": "code",
   "execution_count": 25,
   "id": "incomplete-mustang",
   "metadata": {
    "execution": {
     "iopub.execute_input": "2021-05-07T00:13:29.567467Z",
     "iopub.status.busy": "2021-05-07T00:13:29.566655Z",
     "iopub.status.idle": "2021-05-07T00:13:29.568884Z",
     "shell.execute_reply": "2021-05-07T00:13:29.569452Z"
    },
    "papermill": {
     "duration": 0.043647,
     "end_time": "2021-05-07T00:13:29.569580",
     "exception": false,
     "start_time": "2021-05-07T00:13:29.525933",
     "status": "completed"
    },
    "tags": []
   },
   "outputs": [],
   "source": [
    "#hide\n",
    "# g.head()"
   ]
  },
  {
   "cell_type": "code",
   "execution_count": 26,
   "id": "specific-kruger",
   "metadata": {
    "execution": {
     "iopub.execute_input": "2021-05-07T00:13:29.648075Z",
     "iopub.status.busy": "2021-05-07T00:13:29.647363Z",
     "iopub.status.idle": "2021-05-07T00:13:29.649471Z",
     "shell.execute_reply": "2021-05-07T00:13:29.650007Z"
    },
    "papermill": {
     "duration": 0.042479,
     "end_time": "2021-05-07T00:13:29.650133",
     "exception": false,
     "start_time": "2021-05-07T00:13:29.607654",
     "status": "completed"
    },
    "tags": []
   },
   "outputs": [],
   "source": [
    "#hide\n",
    "# g.columns = ['date','country','cases']"
   ]
  },
  {
   "cell_type": "code",
   "execution_count": 27,
   "id": "tender-conversion",
   "metadata": {
    "execution": {
     "iopub.execute_input": "2021-05-07T00:13:29.727415Z",
     "iopub.status.busy": "2021-05-07T00:13:29.726801Z",
     "iopub.status.idle": "2021-05-07T00:13:29.729064Z",
     "shell.execute_reply": "2021-05-07T00:13:29.729677Z"
    },
    "papermill": {
     "duration": 0.043083,
     "end_time": "2021-05-07T00:13:29.729820",
     "exception": false,
     "start_time": "2021-05-07T00:13:29.686737",
     "status": "completed"
    },
    "tags": []
   },
   "outputs": [],
   "source": [
    "#hide\n",
    "# g['continent'] = g.country"
   ]
  },
  {
   "cell_type": "code",
   "execution_count": 28,
   "id": "substantial-wilderness",
   "metadata": {
    "execution": {
     "iopub.execute_input": "2021-05-07T00:13:29.810094Z",
     "iopub.status.busy": "2021-05-07T00:13:29.809240Z",
     "iopub.status.idle": "2021-05-07T00:13:29.811769Z",
     "shell.execute_reply": "2021-05-07T00:13:29.811146Z"
    },
    "papermill": {
     "duration": 0.04529,
     "end_time": "2021-05-07T00:13:29.811895",
     "exception": false,
     "start_time": "2021-05-07T00:13:29.766605",
     "status": "completed"
    },
    "tags": []
   },
   "outputs": [],
   "source": [
    "#hide\n",
    "# cols = list(g.columns.values)"
   ]
  },
  {
   "cell_type": "code",
   "execution_count": 29,
   "id": "solved-farming",
   "metadata": {
    "execution": {
     "iopub.execute_input": "2021-05-07T00:13:29.893103Z",
     "iopub.status.busy": "2021-05-07T00:13:29.892422Z",
     "iopub.status.idle": "2021-05-07T00:13:29.894747Z",
     "shell.execute_reply": "2021-05-07T00:13:29.894239Z"
    },
    "papermill": {
     "duration": 0.043524,
     "end_time": "2021-05-07T00:13:29.894866",
     "exception": false,
     "start_time": "2021-05-07T00:13:29.851342",
     "status": "completed"
    },
    "tags": []
   },
   "outputs": [],
   "source": [
    "#hide\n",
    "# cols.insert(0, cols.pop())"
   ]
  },
  {
   "cell_type": "code",
   "execution_count": 30,
   "id": "executed-adoption",
   "metadata": {
    "execution": {
     "iopub.execute_input": "2021-05-07T00:13:29.977231Z",
     "iopub.status.busy": "2021-05-07T00:13:29.976609Z",
     "iopub.status.idle": "2021-05-07T00:13:29.979186Z",
     "shell.execute_reply": "2021-05-07T00:13:29.978626Z"
    },
    "papermill": {
     "duration": 0.045092,
     "end_time": "2021-05-07T00:13:29.979307",
     "exception": false,
     "start_time": "2021-05-07T00:13:29.934215",
     "status": "completed"
    },
    "tags": []
   },
   "outputs": [],
   "source": [
    "#hide\n",
    "# g = g[cols]"
   ]
  },
  {
   "cell_type": "code",
   "execution_count": 31,
   "id": "subject-dublin",
   "metadata": {
    "execution": {
     "iopub.execute_input": "2021-05-07T00:13:30.070725Z",
     "iopub.status.busy": "2021-05-07T00:13:30.070100Z",
     "iopub.status.idle": "2021-05-07T00:13:30.072630Z",
     "shell.execute_reply": "2021-05-07T00:13:30.071842Z"
    },
    "papermill": {
     "duration": 0.054881,
     "end_time": "2021-05-07T00:13:30.072783",
     "exception": false,
     "start_time": "2021-05-07T00:13:30.017902",
     "status": "completed"
    },
    "tags": []
   },
   "outputs": [],
   "source": [
    "#hide\n",
    "# g['continent'] = g['continent'].map(mapping['map.continent'])"
   ]
  },
  {
   "cell_type": "code",
   "execution_count": 32,
   "id": "freelance-scout",
   "metadata": {
    "execution": {
     "iopub.execute_input": "2021-05-07T00:13:30.155838Z",
     "iopub.status.busy": "2021-05-07T00:13:30.155229Z",
     "iopub.status.idle": "2021-05-07T00:13:30.157249Z",
     "shell.execute_reply": "2021-05-07T00:13:30.157810Z"
    },
    "papermill": {
     "duration": 0.045521,
     "end_time": "2021-05-07T00:13:30.157950",
     "exception": false,
     "start_time": "2021-05-07T00:13:30.112429",
     "status": "completed"
    },
    "tags": []
   },
   "outputs": [],
   "source": [
    "#hide\n",
    "# g.head()"
   ]
  },
  {
   "cell_type": "code",
   "execution_count": 33,
   "id": "limited-engine",
   "metadata": {
    "execution": {
     "iopub.execute_input": "2021-05-07T00:13:30.241529Z",
     "iopub.status.busy": "2021-05-07T00:13:30.240896Z",
     "iopub.status.idle": "2021-05-07T00:13:30.242690Z",
     "shell.execute_reply": "2021-05-07T00:13:30.243273Z"
    },
    "papermill": {
     "duration": 0.047151,
     "end_time": "2021-05-07T00:13:30.243412",
     "exception": false,
     "start_time": "2021-05-07T00:13:30.196261",
     "status": "completed"
    },
    "tags": []
   },
   "outputs": [],
   "source": [
    "# hide\n",
    "# g['date'] = g['date'].astype('datetime64[ns]')"
   ]
  },
  {
   "cell_type": "code",
   "execution_count": 34,
   "id": "sophisticated-supervisor",
   "metadata": {
    "execution": {
     "iopub.execute_input": "2021-05-07T00:13:30.326785Z",
     "iopub.status.busy": "2021-05-07T00:13:30.326049Z",
     "iopub.status.idle": "2021-05-07T00:13:30.327698Z",
     "shell.execute_reply": "2021-05-07T00:13:30.328313Z"
    },
    "papermill": {
     "duration": 0.046279,
     "end_time": "2021-05-07T00:13:30.328487",
     "exception": false,
     "start_time": "2021-05-07T00:13:30.282208",
     "status": "completed"
    },
    "tags": []
   },
   "outputs": [],
   "source": [
    "#hide\n",
    "# g['date'] = g.date.dt.dayofyear"
   ]
  },
  {
   "cell_type": "code",
   "execution_count": 35,
   "id": "inside-dubai",
   "metadata": {
    "execution": {
     "iopub.execute_input": "2021-05-07T00:13:30.412404Z",
     "iopub.status.busy": "2021-05-07T00:13:30.411524Z",
     "iopub.status.idle": "2021-05-07T00:13:30.413299Z",
     "shell.execute_reply": "2021-05-07T00:13:30.413897Z"
    },
    "papermill": {
     "duration": 0.044978,
     "end_time": "2021-05-07T00:13:30.414041",
     "exception": false,
     "start_time": "2021-05-07T00:13:30.369063",
     "status": "completed"
    },
    "tags": []
   },
   "outputs": [],
   "source": [
    "#hide\n",
    "# g = g.rename(columns= {'continent':'group','country':'name','cases':'value'})"
   ]
  },
  {
   "cell_type": "code",
   "execution_count": 36,
   "id": "fleet-motorcycle",
   "metadata": {
    "execution": {
     "iopub.execute_input": "2021-05-07T00:13:30.494539Z",
     "iopub.status.busy": "2021-05-07T00:13:30.493904Z",
     "iopub.status.idle": "2021-05-07T00:13:30.496544Z",
     "shell.execute_reply": "2021-05-07T00:13:30.496025Z"
    },
    "papermill": {
     "duration": 0.044775,
     "end_time": "2021-05-07T00:13:30.496662",
     "exception": false,
     "start_time": "2021-05-07T00:13:30.451887",
     "status": "completed"
    },
    "tags": []
   },
   "outputs": [],
   "source": [
    "#hide\n",
    "# cols = ['name','group','day','value']"
   ]
  },
  {
   "cell_type": "code",
   "execution_count": 37,
   "id": "continued-sleeping",
   "metadata": {
    "execution": {
     "iopub.execute_input": "2021-05-07T00:13:30.578398Z",
     "iopub.status.busy": "2021-05-07T00:13:30.577695Z",
     "iopub.status.idle": "2021-05-07T00:13:30.579811Z",
     "shell.execute_reply": "2021-05-07T00:13:30.580359Z"
    },
    "papermill": {
     "duration": 0.04512,
     "end_time": "2021-05-07T00:13:30.580500",
     "exception": false,
     "start_time": "2021-05-07T00:13:30.535380",
     "status": "completed"
    },
    "tags": []
   },
   "outputs": [],
   "source": [
    "#hide\n",
    "# g.rename(columns= {'date':'day'},inplace = True)"
   ]
  },
  {
   "cell_type": "code",
   "execution_count": 38,
   "id": "major-fight",
   "metadata": {
    "execution": {
     "iopub.execute_input": "2021-05-07T00:13:30.660181Z",
     "iopub.status.busy": "2021-05-07T00:13:30.659538Z",
     "iopub.status.idle": "2021-05-07T00:13:30.661244Z",
     "shell.execute_reply": "2021-05-07T00:13:30.661826Z"
    },
    "papermill": {
     "duration": 0.044424,
     "end_time": "2021-05-07T00:13:30.661965",
     "exception": false,
     "start_time": "2021-05-07T00:13:30.617541",
     "status": "completed"
    },
    "tags": []
   },
   "outputs": [],
   "source": [
    "#hide\n",
    "# g = g[cols]"
   ]
  },
  {
   "cell_type": "code",
   "execution_count": 39,
   "id": "structured-mobile",
   "metadata": {
    "execution": {
     "iopub.execute_input": "2021-05-07T00:13:30.742054Z",
     "iopub.status.busy": "2021-05-07T00:13:30.741469Z",
     "iopub.status.idle": "2021-05-07T00:13:30.743967Z",
     "shell.execute_reply": "2021-05-07T00:13:30.743487Z"
    },
    "papermill": {
     "duration": 0.044057,
     "end_time": "2021-05-07T00:13:30.744080",
     "exception": false,
     "start_time": "2021-05-07T00:13:30.700023",
     "status": "completed"
    },
    "tags": []
   },
   "outputs": [],
   "source": [
    "# #hide\n",
    "# g = g[g.group.notna()]"
   ]
  },
  {
   "cell_type": "code",
   "execution_count": 40,
   "id": "determined-closing",
   "metadata": {
    "execution": {
     "iopub.execute_input": "2021-05-07T00:13:30.831552Z",
     "iopub.status.busy": "2021-05-07T00:13:30.830586Z",
     "iopub.status.idle": "2021-05-07T00:13:30.832771Z",
     "shell.execute_reply": "2021-05-07T00:13:30.833494Z"
    },
    "papermill": {
     "duration": 0.049825,
     "end_time": "2021-05-07T00:13:30.833651",
     "exception": false,
     "start_time": "2021-05-07T00:13:30.783826",
     "status": "completed"
    },
    "tags": []
   },
   "outputs": [],
   "source": [
    "# #hide\n",
    "# colors = dict(zip(\n",
    "#     [\"Oceania\", \"Europe\", \"Asia\", \"South America\", \"Middle East\", \"North America\", \"Africa\"],\n",
    "#     [\"#adb0ff\", \"#ffb3ff\", \"#90d595\", \"#e48381\", \"#aafbff\", \"#f7bb5f\", \"#eafb50\"]\n",
    "# ))\n",
    "# group_lk = g.set_index('name')['group'].to_dict()"
   ]
  },
  {
   "cell_type": "code",
   "execution_count": null,
   "id": "gross-drinking",
   "metadata": {
    "papermill": {
     "duration": 0.043132,
     "end_time": "2021-05-07T00:13:30.920338",
     "exception": false,
     "start_time": "2021-05-07T00:13:30.877206",
     "status": "completed"
    },
    "tags": []
   },
   "outputs": [],
   "source": []
  },
  {
   "cell_type": "code",
   "execution_count": 41,
   "id": "subject-macintosh",
   "metadata": {
    "execution": {
     "iopub.execute_input": "2021-05-07T00:13:31.008486Z",
     "iopub.status.busy": "2021-05-07T00:13:31.007758Z",
     "iopub.status.idle": "2021-05-07T00:13:31.010279Z",
     "shell.execute_reply": "2021-05-07T00:13:31.009758Z"
    },
    "papermill": {
     "duration": 0.046666,
     "end_time": "2021-05-07T00:13:31.010399",
     "exception": false,
     "start_time": "2021-05-07T00:13:30.963733",
     "status": "completed"
    },
    "tags": []
   },
   "outputs": [],
   "source": [
    "# #hide\n",
    "# fig, ax = plt.subplots(figsize=(15, 8))\n",
    "\n",
    "# def draw_barchart(current_day):\n",
    "#     dff = g[g['day'].eq(current_day)].sort_values(by='value', ascending=True).tail(10)\n",
    "#     ax.clear()\n",
    "#     ax.barh(dff['name'], dff['value'], color=[colors[group_lk[x]] for x in dff['name']])\n",
    "#     dx = dff['value'].max() / 200\n",
    "    \n",
    "#     for i, (value, name) in enumerate(zip(dff['value'], dff['name'])):\n",
    "#         ax.text(value-dx, i,     name,           size=14, weight=600, ha='right', va='bottom')\n",
    "#         ax.text(value-dx, i-.25, group_lk[name], size=10, color='#444444', ha='right', va='baseline')\n",
    "#         ax.text(value+dx, i,     f'{value:,.0f}',  size=14, ha='left',  va='center')\n",
    "#     ax.text(1, 0.4, current_day, transform=ax.transAxes, color='#777777', size=46, ha='right', weight=800)\n",
    "#     ax.text(0, 1.06, 'Population (thousands)', transform=ax.transAxes, size=12, color='#777777')\n",
    "#     ax.xaxis.set_major_formatter(ticker.StrMethodFormatter('{x:,.0f}'))\n",
    "#     ax.xaxis.set_ticks_position('top')\n",
    "#     ax.tick_params(axis='x', colors='#777777', labelsize=12)\n",
    "#     ax.set_yticks([])\n",
    "#     ax.margins(0, 0.01)\n",
    "#     ax.grid(which='major', axis='x', linestyle='-')\n",
    "#     ax.set_axisbelow(True)\n",
    "    \n",
    "#     ax.text(0, 1.15, 'Coronavirus',\n",
    "#             transform=ax.transAxes, size=24, weight=600, ha='left', va='top')\n",
    "# #     ax.text(1, 0, 'by @pratapvardhan; credit @jburnmurdoch', transform=ax.transAxes, color='#777777', ha='right',\n",
    "# #             bbox=dict(facecolor='white', alpha=0.8, edgecolor='white'))\n",
    "#     plt.box(False)"
   ]
  },
  {
   "cell_type": "code",
   "execution_count": 42,
   "id": "sexual-wages",
   "metadata": {
    "execution": {
     "iopub.execute_input": "2021-05-07T00:13:31.096201Z",
     "iopub.status.busy": "2021-05-07T00:13:31.095469Z",
     "iopub.status.idle": "2021-05-07T00:13:31.098022Z",
     "shell.execute_reply": "2021-05-07T00:13:31.097326Z"
    },
    "papermill": {
     "duration": 0.047776,
     "end_time": "2021-05-07T00:13:31.098165",
     "exception": false,
     "start_time": "2021-05-07T00:13:31.050389",
     "status": "completed"
    },
    "tags": []
   },
   "outputs": [],
   "source": [
    "# #hide_input\n",
    "# fig, ax = plt.subplots(figsize=(15, 8))\n",
    "# animator = animation.FuncAnimation(fig, draw_barchart, frames=range(g.day.values.min(), g.day.values.max()))\n",
    "# HTML(animator.to_jshtml())\n",
    "# # or use animator.to_html5_video() or animator.save() "
   ]
  },
  {
   "cell_type": "code",
   "execution_count": null,
   "id": "australian-container",
   "metadata": {
    "papermill": {
     "duration": 0.0395,
     "end_time": "2021-05-07T00:13:31.179041",
     "exception": false,
     "start_time": "2021-05-07T00:13:31.139541",
     "status": "completed"
    },
    "tags": []
   },
   "outputs": [],
   "source": []
  },
  {
   "cell_type": "code",
   "execution_count": null,
   "id": "mediterranean-pontiac",
   "metadata": {
    "papermill": {
     "duration": 0.038493,
     "end_time": "2021-05-07T00:13:31.257023",
     "exception": false,
     "start_time": "2021-05-07T00:13:31.218530",
     "status": "completed"
    },
    "tags": []
   },
   "outputs": [],
   "source": []
  },
  {
   "cell_type": "code",
   "execution_count": null,
   "id": "aging-legislature",
   "metadata": {
    "papermill": {
     "duration": 0.0409,
     "end_time": "2021-05-07T00:13:31.337713",
     "exception": false,
     "start_time": "2021-05-07T00:13:31.296813",
     "status": "completed"
    },
    "tags": []
   },
   "outputs": [],
   "source": []
  }
 ],
 "metadata": {
  "kernelspec": {
   "display_name": "Python 3",
   "language": "python",
   "name": "python3"
  },
  "language_info": {
   "codemirror_mode": {
    "name": "ipython",
    "version": 3
   },
   "file_extension": ".py",
   "mimetype": "text/x-python",
   "name": "python",
   "nbconvert_exporter": "python",
   "pygments_lexer": "ipython3",
   "version": "3.6.13"
  },
  "papermill": {
   "duration": 7.020087,
   "end_time": "2021-05-07T00:13:31.686549",
   "environment_variables": {},
   "exception": null,
   "input_path": "2020-03-21-covid19exp.ipynb",
   "output_path": "2020-03-21-covid19exp.ipynb",
   "parameters": {},
   "start_time": "2021-05-07T00:13:24.666462",
   "version": "2.0.0"
  }
 },
 "nbformat": 4,
 "nbformat_minor": 5
}