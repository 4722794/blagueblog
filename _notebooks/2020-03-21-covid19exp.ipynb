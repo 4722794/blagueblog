{
 "cells": [
  {
   "cell_type": "markdown",
   "id": "muslim-click",
   "metadata": {
    "papermill": {
     "duration": 0.042259,
     "end_time": "2022-02-16T12:12:45.866983",
     "exception": false,
     "start_time": "2022-02-16T12:12:45.824724",
     "status": "completed"
    },
    "tags": []
   },
   "source": [
    "# COVID-19 Case Race\n",
    "> A race chart to see rising cases around the world\n",
    "\n",
    "- author: Hargun Oberoi\n",
    "- image: images/covid-overview.png\n",
    "- hide: false\n",
    "- badges: false"
   ]
  },
  {
   "cell_type": "code",
   "execution_count": 1,
   "id": "proof-material",
   "metadata": {
    "execution": {
     "iopub.execute_input": "2022-02-16T12:12:45.948697Z",
     "iopub.status.busy": "2022-02-16T12:12:45.948072Z",
     "iopub.status.idle": "2022-02-16T12:12:46.307444Z",
     "shell.execute_reply": "2022-02-16T12:12:46.307968Z"
    },
    "papermill": {
     "duration": 0.40382,
     "end_time": "2022-02-16T12:12:46.308153",
     "exception": false,
     "start_time": "2022-02-16T12:12:45.904333",
     "status": "completed"
    },
    "tags": []
   },
   "outputs": [],
   "source": [
    "#hide\n",
    "import numpy as np\n",
    "import pandas as pd\n",
    "from jinja2 import Template\n",
    "from IPython.display import HTML"
   ]
  },
  {
   "cell_type": "code",
   "execution_count": 2,
   "id": "developed-terminology",
   "metadata": {
    "execution": {
     "iopub.execute_input": "2022-02-16T12:12:46.380094Z",
     "iopub.status.busy": "2022-02-16T12:12:46.379438Z",
     "iopub.status.idle": "2022-02-16T12:12:46.380977Z",
     "shell.execute_reply": "2022-02-16T12:12:46.381485Z"
    },
    "papermill": {
     "duration": 0.039577,
     "end_time": "2022-02-16T12:12:46.381612",
     "exception": false,
     "start_time": "2022-02-16T12:12:46.342035",
     "status": "completed"
    },
    "tags": []
   },
   "outputs": [],
   "source": [
    "#hide\n",
    "\n",
    "# FETCH\n",
    "base_url = 'https://raw.githubusercontent.com/pratapvardhan/notebooks/master/covid19/'\n",
    "paths = {\n",
    "    'mapping': base_url + 'mapping_countries.csv',\n",
    "    'overview': base_url + 'overview.tpl'\n",
    "}"
   ]
  },
  {
   "cell_type": "code",
   "execution_count": 3,
   "id": "dynamic-saver",
   "metadata": {
    "execution": {
     "iopub.execute_input": "2022-02-16T12:12:46.457894Z",
     "iopub.status.busy": "2022-02-16T12:12:46.457264Z",
     "iopub.status.idle": "2022-02-16T12:12:46.460601Z",
     "shell.execute_reply": "2022-02-16T12:12:46.461241Z"
    },
    "papermill": {
     "duration": 0.046794,
     "end_time": "2022-02-16T12:12:46.461372",
     "exception": false,
     "start_time": "2022-02-16T12:12:46.414578",
     "status": "completed"
    },
    "tags": []
   },
   "outputs": [
    {
     "data": {
      "text/plain": [
       "'https://raw.githubusercontent.com/pratapvardhan/notebooks/master/covid19/mapping_countries.csv'"
      ]
     },
     "execution_count": 3,
     "metadata": {},
     "output_type": "execute_result"
    }
   ],
   "source": [
    "#hide\n",
    "paths['mapping']"
   ]
  },
  {
   "cell_type": "code",
   "execution_count": 4,
   "id": "urban-software",
   "metadata": {
    "execution": {
     "iopub.execute_input": "2022-02-16T12:12:46.535077Z",
     "iopub.status.busy": "2022-02-16T12:12:46.534457Z",
     "iopub.status.idle": "2022-02-16T12:12:46.536879Z",
     "shell.execute_reply": "2022-02-16T12:12:46.536385Z"
    },
    "papermill": {
     "duration": 0.040945,
     "end_time": "2022-02-16T12:12:46.536991",
     "exception": false,
     "start_time": "2022-02-16T12:12:46.496046",
     "status": "completed"
    },
    "tags": []
   },
   "outputs": [],
   "source": [
    "#hide\n",
    "def get_mappings(url):\n",
    "    df = pd.read_csv(url)\n",
    "    return {\n",
    "        'df': df,\n",
    "        'replace.country': dict(df.dropna(subset=['Name']).set_index('Country')['Name']),\n",
    "        'map.continent': dict(df.set_index('Name')['Continent'])\n",
    "    }"
   ]
  },
  {
   "cell_type": "code",
   "execution_count": 5,
   "id": "intimate-machinery",
   "metadata": {
    "execution": {
     "iopub.execute_input": "2022-02-16T12:12:46.605986Z",
     "iopub.status.busy": "2022-02-16T12:12:46.605401Z",
     "iopub.status.idle": "2022-02-16T12:12:46.645758Z",
     "shell.execute_reply": "2022-02-16T12:12:46.646238Z"
    },
    "papermill": {
     "duration": 0.076081,
     "end_time": "2022-02-16T12:12:46.646371",
     "exception": false,
     "start_time": "2022-02-16T12:12:46.570290",
     "status": "completed"
    },
    "tags": []
   },
   "outputs": [],
   "source": [
    "#hide\n",
    "mapping = get_mappings(paths['mapping'])"
   ]
  },
  {
   "cell_type": "code",
   "execution_count": 6,
   "id": "certified-tactics",
   "metadata": {
    "execution": {
     "iopub.execute_input": "2022-02-16T12:12:46.718489Z",
     "iopub.status.busy": "2022-02-16T12:12:46.717900Z",
     "iopub.status.idle": "2022-02-16T12:12:46.721374Z",
     "shell.execute_reply": "2022-02-16T12:12:46.722027Z"
    },
    "papermill": {
     "duration": 0.042064,
     "end_time": "2022-02-16T12:12:46.722173",
     "exception": false,
     "start_time": "2022-02-16T12:12:46.680109",
     "status": "completed"
    },
    "tags": []
   },
   "outputs": [],
   "source": [
    "#hide\n",
    "def get_template(path):\n",
    "    from urllib.parse import urlparse\n",
    "    if bool(urlparse(path).netloc):\n",
    "        from urllib.request import urlopen\n",
    "        return urlopen(path).read().decode('utf8')\n",
    "    return open(path).read()"
   ]
  },
  {
   "cell_type": "code",
   "execution_count": 7,
   "id": "realistic-blast",
   "metadata": {
    "execution": {
     "iopub.execute_input": "2022-02-16T12:12:46.795797Z",
     "iopub.status.busy": "2022-02-16T12:12:46.795215Z",
     "iopub.status.idle": "2022-02-16T12:12:46.797172Z",
     "shell.execute_reply": "2022-02-16T12:12:46.797640Z"
    },
    "papermill": {
     "duration": 0.040717,
     "end_time": "2022-02-16T12:12:46.797759",
     "exception": false,
     "start_time": "2022-02-16T12:12:46.757042",
     "status": "completed"
    },
    "tags": []
   },
   "outputs": [],
   "source": [
    "#hide\n",
    "def get_frame(name):\n",
    "    url = (\n",
    "        'https://raw.githubusercontent.com/CSSEGISandData/COVID-19/master/csse_covid_19_data/'\n",
    "        f'csse_covid_19_time_series/time_series_covid19_{name}_global.csv')\n",
    "    df = pd.read_csv(url)\n",
    "    # rename countries\n",
    "    df['Country/Region'] = df['Country/Region'].replace(mapping['replace.country'])\n",
    "    return df"
   ]
  },
  {
   "cell_type": "code",
   "execution_count": 8,
   "id": "affiliated-characterization",
   "metadata": {
    "execution": {
     "iopub.execute_input": "2022-02-16T12:12:46.869046Z",
     "iopub.status.busy": "2022-02-16T12:12:46.868454Z",
     "iopub.status.idle": "2022-02-16T12:12:46.871731Z",
     "shell.execute_reply": "2022-02-16T12:12:46.872269Z"
    },
    "papermill": {
     "duration": 0.041673,
     "end_time": "2022-02-16T12:12:46.872399",
     "exception": false,
     "start_time": "2022-02-16T12:12:46.830726",
     "status": "completed"
    },
    "tags": []
   },
   "outputs": [],
   "source": [
    "#hide\n",
    "def get_dates(df):\n",
    "    dt_cols = df.columns[~df.columns.isin(['Province/State', 'Country/Region', 'Lat', 'Long'])]\n",
    "    LAST_DATE_I = -1\n",
    "    # sometimes last column may be empty, then go backwards\n",
    "    for i in range(-1, -len(dt_cols), -1):\n",
    "        if not df[dt_cols[i]].fillna(0).eq(0).all():\n",
    "            LAST_DATE_I = i\n",
    "            break\n",
    "    return LAST_DATE_I, dt_cols"
   ]
  },
  {
   "cell_type": "code",
   "execution_count": 9,
   "id": "recent-optimization",
   "metadata": {
    "execution": {
     "iopub.execute_input": "2022-02-16T12:12:46.945408Z",
     "iopub.status.busy": "2022-02-16T12:12:46.944814Z",
     "iopub.status.idle": "2022-02-16T12:12:47.396243Z",
     "shell.execute_reply": "2022-02-16T12:12:47.396716Z"
    },
    "papermill": {
     "duration": 0.490166,
     "end_time": "2022-02-16T12:12:47.396889",
     "exception": false,
     "start_time": "2022-02-16T12:12:46.906723",
     "status": "completed"
    },
    "tags": []
   },
   "outputs": [],
   "source": [
    "#hide\n",
    "COL_REGION = 'Country/Region'\n",
    "# Confirmed, Recovered, Deaths\n",
    "df = get_frame('confirmed')\n",
    "# dft_: timeseries, dfc_: today country agg\n",
    "dft_cases = df\n",
    "dft_deaths = get_frame('deaths')\n",
    "dft_recovered = get_frame('recovered')\n",
    "LAST_DATE_I, dt_cols = get_dates(df)"
   ]
  },
  {
   "cell_type": "code",
   "execution_count": 10,
   "id": "absolute-copper",
   "metadata": {
    "execution": {
     "iopub.execute_input": "2022-02-16T12:12:47.472547Z",
     "iopub.status.busy": "2022-02-16T12:12:47.471673Z",
     "iopub.status.idle": "2022-02-16T12:12:47.473787Z",
     "shell.execute_reply": "2022-02-16T12:12:47.474434Z"
    },
    "papermill": {
     "duration": 0.043467,
     "end_time": "2022-02-16T12:12:47.474566",
     "exception": false,
     "start_time": "2022-02-16T12:12:47.431099",
     "status": "completed"
    },
    "tags": []
   },
   "outputs": [],
   "source": [
    "#hide\n",
    "LAST_DATE_I, dt_cols = get_dates(df)\n",
    "dt_today =dt_cols[LAST_DATE_I]\n",
    "# dt_5day = dt_cols[LAST_DATE_I - 5]\n",
    "dt_yday = dt_cols[LAST_DATE_I - 1]"
   ]
  },
  {
   "cell_type": "code",
   "execution_count": 11,
   "id": "restricted-sheriff",
   "metadata": {
    "execution": {
     "iopub.execute_input": "2022-02-16T12:12:47.549929Z",
     "iopub.status.busy": "2022-02-16T12:12:47.549326Z",
     "iopub.status.idle": "2022-02-16T12:12:47.557314Z",
     "shell.execute_reply": "2022-02-16T12:12:47.557872Z"
    },
    "papermill": {
     "duration": 0.047563,
     "end_time": "2022-02-16T12:12:47.557999",
     "exception": false,
     "start_time": "2022-02-16T12:12:47.510436",
     "status": "completed"
    },
    "tags": []
   },
   "outputs": [],
   "source": [
    "#hide\n",
    "dfc_cases = dft_cases.groupby(COL_REGION)[dt_today].sum()\n",
    "dfc_deaths = dft_deaths.groupby(COL_REGION)[dt_today].sum()\n",
    "# dfp_cases = dft_cases.groupby(COL_REGION)[dt_5day].sum()\n",
    "# dfp_deaths = dft_deaths.groupby(COL_REGION)[dt_5day].sum()\n",
    "dfp_cases = dft_cases.groupby(COL_REGION)[dt_yday].sum()\n",
    "dfp_deaths = dft_deaths.groupby(COL_REGION)[dt_yday].sum()"
   ]
  },
  {
   "cell_type": "code",
   "execution_count": 12,
   "id": "deluxe-hepatitis",
   "metadata": {
    "execution": {
     "iopub.execute_input": "2022-02-16T12:12:47.635201Z",
     "iopub.status.busy": "2022-02-16T12:12:47.634513Z",
     "iopub.status.idle": "2022-02-16T12:12:47.639427Z",
     "shell.execute_reply": "2022-02-16T12:12:47.640058Z"
    },
    "papermill": {
     "duration": 0.048684,
     "end_time": "2022-02-16T12:12:47.640194",
     "exception": false,
     "start_time": "2022-02-16T12:12:47.591510",
     "status": "completed"
    },
    "tags": []
   },
   "outputs": [],
   "source": [
    "#hide\n",
    "df_table = (pd.DataFrame(dict(Cases = dfc_cases, Deaths = dfc_deaths, PCases = dfp_cases, PDeaths = dfp_deaths))\n",
    "            .sort_values(by = ['Cases','Deaths'], ascending = [False, False])\n",
    "            .reset_index())"
   ]
  },
  {
   "cell_type": "code",
   "execution_count": 13,
   "id": "educational-chancellor",
   "metadata": {
    "execution": {
     "iopub.execute_input": "2022-02-16T12:12:47.745912Z",
     "iopub.status.busy": "2022-02-16T12:12:47.745244Z",
     "iopub.status.idle": "2022-02-16T12:12:47.748695Z",
     "shell.execute_reply": "2022-02-16T12:12:47.748044Z"
    },
    "papermill": {
     "duration": 0.07185,
     "end_time": "2022-02-16T12:12:47.748834",
     "exception": false,
     "start_time": "2022-02-16T12:12:47.676984",
     "status": "completed"
    },
    "tags": []
   },
   "outputs": [
    {
     "data": {
      "text/html": [
       "<div>\n",
       "<style scoped>\n",
       "    .dataframe tbody tr th:only-of-type {\n",
       "        vertical-align: middle;\n",
       "    }\n",
       "\n",
       "    .dataframe tbody tr th {\n",
       "        vertical-align: top;\n",
       "    }\n",
       "\n",
       "    .dataframe thead th {\n",
       "        text-align: right;\n",
       "    }\n",
       "</style>\n",
       "<table border=\"1\" class=\"dataframe\">\n",
       "  <thead>\n",
       "    <tr style=\"text-align: right;\">\n",
       "      <th></th>\n",
       "      <th>Country/Region</th>\n",
       "      <th>Cases</th>\n",
       "      <th>Deaths</th>\n",
       "      <th>PCases</th>\n",
       "      <th>PDeaths</th>\n",
       "      <th>Cases (+)</th>\n",
       "      <th>Deaths (+)</th>\n",
       "      <th>Fatality Rate</th>\n",
       "      <th>Continent</th>\n",
       "    </tr>\n",
       "  </thead>\n",
       "  <tbody>\n",
       "    <tr>\n",
       "      <th>0</th>\n",
       "      <td>US</td>\n",
       "      <td>78036352</td>\n",
       "      <td>925435</td>\n",
       "      <td>77925899</td>\n",
       "      <td>922840</td>\n",
       "      <td>110453</td>\n",
       "      <td>2595</td>\n",
       "      <td>1.19</td>\n",
       "      <td>North America</td>\n",
       "    </tr>\n",
       "    <tr>\n",
       "      <th>1</th>\n",
       "      <td>India</td>\n",
       "      <td>42723558</td>\n",
       "      <td>509872</td>\n",
       "      <td>42692943</td>\n",
       "      <td>509358</td>\n",
       "      <td>30615</td>\n",
       "      <td>514</td>\n",
       "      <td>1.19</td>\n",
       "      <td>Asia</td>\n",
       "    </tr>\n",
       "    <tr>\n",
       "      <th>2</th>\n",
       "      <td>Brazil</td>\n",
       "      <td>27677468</td>\n",
       "      <td>640076</td>\n",
       "      <td>27552267</td>\n",
       "      <td>639151</td>\n",
       "      <td>125201</td>\n",
       "      <td>925</td>\n",
       "      <td>2.31</td>\n",
       "      <td>South America</td>\n",
       "    </tr>\n",
       "    <tr>\n",
       "      <th>3</th>\n",
       "      <td>France</td>\n",
       "      <td>21886335</td>\n",
       "      <td>136187</td>\n",
       "      <td>21884370</td>\n",
       "      <td>136187</td>\n",
       "      <td>1965</td>\n",
       "      <td>0</td>\n",
       "      <td>0.62</td>\n",
       "      <td>Europe</td>\n",
       "    </tr>\n",
       "    <tr>\n",
       "      <th>4</th>\n",
       "      <td>United Kingdom</td>\n",
       "      <td>18521452</td>\n",
       "      <td>160400</td>\n",
       "      <td>18522339</td>\n",
       "      <td>160303</td>\n",
       "      <td>0</td>\n",
       "      <td>97</td>\n",
       "      <td>0.87</td>\n",
       "      <td>Europe</td>\n",
       "    </tr>\n",
       "  </tbody>\n",
       "</table>\n",
       "</div>"
      ],
      "text/plain": [
       "   Country/Region     Cases  Deaths    PCases  PDeaths  Cases (+)  Deaths (+)  \\\n",
       "0              US  78036352  925435  77925899   922840     110453        2595   \n",
       "1           India  42723558  509872  42692943   509358      30615         514   \n",
       "2          Brazil  27677468  640076  27552267   639151     125201         925   \n",
       "3          France  21886335  136187  21884370   136187       1965           0   \n",
       "4  United Kingdom  18521452  160400  18522339   160303          0          97   \n",
       "\n",
       "   Fatality Rate      Continent  \n",
       "0           1.19  North America  \n",
       "1           1.19           Asia  \n",
       "2           2.31  South America  \n",
       "3           0.62         Europe  \n",
       "4           0.87         Europe  "
      ]
     },
     "execution_count": 13,
     "metadata": {},
     "output_type": "execute_result"
    }
   ],
   "source": [
    "#hide\n",
    "for c in 'Cases, Deaths'.split(', '):\n",
    "    df_table[f'{c} (+)'] = (df_table[c] - df_table[f'P{c}']).clip(0)\n",
    "    #Clip ça veut dire, les chiffres negatif sont interdit\n",
    "df_table['Fatality Rate'] = (100* df_table['Deaths']/ df_table['Cases']).round(2)\n",
    "df_table['Continent'] = df_table['Country/Region'].map(mapping['map.continent'])\n",
    "df_table.head(5)"
   ]
  },
  {
   "cell_type": "code",
   "execution_count": 14,
   "id": "aboriginal-bulgaria",
   "metadata": {
    "execution": {
     "iopub.execute_input": "2022-02-16T12:12:47.832811Z",
     "iopub.status.busy": "2022-02-16T12:12:47.832128Z",
     "iopub.status.idle": "2022-02-16T12:12:47.834867Z",
     "shell.execute_reply": "2022-02-16T12:12:47.835466Z"
    },
    "papermill": {
     "duration": 0.047947,
     "end_time": "2022-02-16T12:12:47.835624",
     "exception": false,
     "start_time": "2022-02-16T12:12:47.787677",
     "status": "completed"
    },
    "tags": []
   },
   "outputs": [],
   "source": [
    "#hide\n",
    "#delete problematic countries from table\n",
    "df_table = df_table[~df_table['Country/Region'].isin(['Cape Verde', 'Cruise Ship', 'Kosovo'])]"
   ]
  },
  {
   "cell_type": "code",
   "execution_count": 15,
   "id": "fantastic-effect",
   "metadata": {
    "execution": {
     "iopub.execute_input": "2022-02-16T12:12:47.918968Z",
     "iopub.status.busy": "2022-02-16T12:12:47.918270Z",
     "iopub.status.idle": "2022-02-16T12:12:47.940273Z",
     "shell.execute_reply": "2022-02-16T12:12:47.939765Z"
    },
    "papermill": {
     "duration": 0.067482,
     "end_time": "2022-02-16T12:12:47.940397",
     "exception": false,
     "start_time": "2022-02-16T12:12:47.872915",
     "status": "completed"
    },
    "tags": []
   },
   "outputs": [
    {
     "data": {
      "text/html": [
       "<div>\n",
       "<style scoped>\n",
       "    .dataframe tbody tr th:only-of-type {\n",
       "        vertical-align: middle;\n",
       "    }\n",
       "\n",
       "    .dataframe tbody tr th {\n",
       "        vertical-align: top;\n",
       "    }\n",
       "\n",
       "    .dataframe thead th {\n",
       "        text-align: right;\n",
       "    }\n",
       "</style>\n",
       "<table border=\"1\" class=\"dataframe\">\n",
       "  <thead>\n",
       "    <tr style=\"text-align: right;\">\n",
       "      <th></th>\n",
       "      <th>Country/Region</th>\n",
       "      <th>Cases</th>\n",
       "      <th>Deaths</th>\n",
       "      <th>PCases</th>\n",
       "      <th>PDeaths</th>\n",
       "      <th>Cases (+)</th>\n",
       "      <th>Deaths (+)</th>\n",
       "      <th>Fatality Rate</th>\n",
       "      <th>Continent</th>\n",
       "    </tr>\n",
       "  </thead>\n",
       "  <tbody>\n",
       "    <tr>\n",
       "      <th>0</th>\n",
       "      <td>US</td>\n",
       "      <td>78036352</td>\n",
       "      <td>925435</td>\n",
       "      <td>77925899</td>\n",
       "      <td>922840</td>\n",
       "      <td>110453</td>\n",
       "      <td>2595</td>\n",
       "      <td>1.2</td>\n",
       "      <td>North America</td>\n",
       "    </tr>\n",
       "    <tr>\n",
       "      <th>1</th>\n",
       "      <td>India</td>\n",
       "      <td>42723558</td>\n",
       "      <td>509872</td>\n",
       "      <td>42692943</td>\n",
       "      <td>509358</td>\n",
       "      <td>30615</td>\n",
       "      <td>514</td>\n",
       "      <td>1.2</td>\n",
       "      <td>Asia</td>\n",
       "    </tr>\n",
       "    <tr>\n",
       "      <th>2</th>\n",
       "      <td>Brazil</td>\n",
       "      <td>27677468</td>\n",
       "      <td>640076</td>\n",
       "      <td>27552267</td>\n",
       "      <td>639151</td>\n",
       "      <td>125201</td>\n",
       "      <td>925</td>\n",
       "      <td>2.3</td>\n",
       "      <td>South America</td>\n",
       "    </tr>\n",
       "    <tr>\n",
       "      <th>3</th>\n",
       "      <td>France</td>\n",
       "      <td>21886335</td>\n",
       "      <td>136187</td>\n",
       "      <td>21884370</td>\n",
       "      <td>136187</td>\n",
       "      <td>1965</td>\n",
       "      <td>0</td>\n",
       "      <td>0.6</td>\n",
       "      <td>Europe</td>\n",
       "    </tr>\n",
       "    <tr>\n",
       "      <th>4</th>\n",
       "      <td>United Kingdom</td>\n",
       "      <td>18521452</td>\n",
       "      <td>160400</td>\n",
       "      <td>18522339</td>\n",
       "      <td>160303</td>\n",
       "      <td>0</td>\n",
       "      <td>97</td>\n",
       "      <td>0.9</td>\n",
       "      <td>Europe</td>\n",
       "    </tr>\n",
       "  </tbody>\n",
       "</table>\n",
       "</div>"
      ],
      "text/plain": [
       "   Country/Region     Cases  Deaths    PCases  PDeaths  Cases (+)  Deaths (+)  \\\n",
       "0              US  78036352  925435  77925899   922840     110453        2595   \n",
       "1           India  42723558  509872  42692943   509358      30615         514   \n",
       "2          Brazil  27677468  640076  27552267   639151     125201         925   \n",
       "3          France  21886335  136187  21884370   136187       1965           0   \n",
       "4  United Kingdom  18521452  160400  18522339   160303          0          97   \n",
       "\n",
       "   Fatality Rate      Continent  \n",
       "0            1.2  North America  \n",
       "1            1.2           Asia  \n",
       "2            2.3  South America  \n",
       "3            0.6         Europe  \n",
       "4            0.9         Europe  "
      ]
     },
     "execution_count": 15,
     "metadata": {},
     "output_type": "execute_result"
    }
   ],
   "source": [
    "#hide\n",
    "df_table = (pd.DataFrame(dict(Cases=dfc_cases, Deaths=dfc_deaths, PCases=dfp_cases, PDeaths=dfp_deaths))\n",
    "             .sort_values(by=['Cases', 'Deaths'], ascending=[False, False])\n",
    "             .reset_index())\n",
    "df_table.rename(columns={'index': 'Country/Region'}, inplace=True)\n",
    "for c in 'Cases, Deaths'.split(', '):\n",
    "    df_table[f'{c} (+)'] = (df_table[c] - df_table[f'P{c}']).clip(0)  # DATA BUG\n",
    "df_table['Fatality Rate'] = (100 * df_table['Deaths'] / df_table['Cases']).round(1)\n",
    "df_table['Continent'] = df_table['Country/Region'].map(mapping['map.continent'])\n",
    "df_table.head(5)"
   ]
  },
  {
   "cell_type": "code",
   "execution_count": 16,
   "id": "fewer-occasion",
   "metadata": {
    "execution": {
     "iopub.execute_input": "2022-02-16T12:12:48.015505Z",
     "iopub.status.busy": "2022-02-16T12:12:48.014705Z",
     "iopub.status.idle": "2022-02-16T12:12:48.016916Z",
     "shell.execute_reply": "2022-02-16T12:12:48.017472Z"
    },
    "papermill": {
     "duration": 0.04208,
     "end_time": "2022-02-16T12:12:48.017601",
     "exception": false,
     "start_time": "2022-02-16T12:12:47.975521",
     "status": "completed"
    },
    "tags": []
   },
   "outputs": [],
   "source": [
    "#hide\n",
    "#delete problematic countries from table\n",
    "df_table = df_table[~df_table['Country/Region'].isin(['Cape Verde', 'Cruise Ship', 'Kosovo'])]"
   ]
  },
  {
   "cell_type": "code",
   "execution_count": 17,
   "id": "related-center",
   "metadata": {
    "execution": {
     "iopub.execute_input": "2022-02-16T12:12:48.105366Z",
     "iopub.status.busy": "2022-02-16T12:12:48.104784Z",
     "iopub.status.idle": "2022-02-16T12:12:48.107692Z",
     "shell.execute_reply": "2022-02-16T12:12:48.107227Z"
    },
    "papermill": {
     "duration": 0.05525,
     "end_time": "2022-02-16T12:12:48.107806",
     "exception": false,
     "start_time": "2022-02-16T12:12:48.052556",
     "status": "completed"
    },
    "tags": []
   },
   "outputs": [],
   "source": [
    "#hide\n",
    "metrics = [df_table.columns[index] for index in [1,2,5,6]]\n",
    "# s_china = df_table[df_table['Country/Region'].eq('China')][metrics].sum().add_prefix('China ')\n",
    "s_us = df_table[df_table['Country/Region'].eq('US')][metrics].sum().add_prefix('US ')\n",
    "s_eu = df_table[df_table['Continent'].eq('Europe')][metrics].sum().add_prefix('EU ')\n",
    "s_ind = df_table[df_table['Country/Region'].eq('India')][metrics].sum().add_prefix('India ')\n",
    "summary = {'updated': pd.to_datetime(dt_today), 'since': pd.to_datetime(dt_yday)}\n",
    "summary = {'updated': pd.to_datetime(dt_today), 'since': pd.to_datetime(dt_yday)}\n",
    "summary = {**summary, **df_table[metrics].sum(), **s_ind, **s_us, **s_eu}"
   ]
  },
  {
   "cell_type": "code",
   "execution_count": 18,
   "id": "engaging-syndrome",
   "metadata": {
    "execution": {
     "iopub.execute_input": "2022-02-16T12:12:48.182247Z",
     "iopub.status.busy": "2022-02-16T12:12:48.181669Z",
     "iopub.status.idle": "2022-02-16T12:12:48.197961Z",
     "shell.execute_reply": "2022-02-16T12:12:48.197486Z"
    },
    "papermill": {
     "duration": 0.054573,
     "end_time": "2022-02-16T12:12:48.198082",
     "exception": false,
     "start_time": "2022-02-16T12:12:48.143509",
     "status": "completed"
    },
    "tags": []
   },
   "outputs": [],
   "source": [
    "#hide\n",
    "dft_ct_new_cases = dft_cases.groupby(COL_REGION)[dt_cols].sum().diff(axis=1).fillna(0).astype(int)"
   ]
  },
  {
   "cell_type": "code",
   "execution_count": 19,
   "id": "neutral-assignment",
   "metadata": {
    "execution": {
     "iopub.execute_input": "2022-02-16T12:12:48.274163Z",
     "iopub.status.busy": "2022-02-16T12:12:48.273519Z",
     "iopub.status.idle": "2022-02-16T12:12:48.276018Z",
     "shell.execute_reply": "2022-02-16T12:12:48.275460Z"
    },
    "papermill": {
     "duration": 0.042444,
     "end_time": "2022-02-16T12:12:48.276132",
     "exception": false,
     "start_time": "2022-02-16T12:12:48.233688",
     "status": "completed"
    },
    "tags": []
   },
   "outputs": [],
   "source": [
    "#hide\n",
    "everydaycases = dft_ct_new_cases.cumsum(axis=1)"
   ]
  },
  {
   "cell_type": "code",
   "execution_count": 20,
   "id": "parliamentary-calgary",
   "metadata": {
    "execution": {
     "iopub.execute_input": "2022-02-16T12:12:48.349926Z",
     "iopub.status.busy": "2022-02-16T12:12:48.349339Z",
     "iopub.status.idle": "2022-02-16T12:12:48.976119Z",
     "shell.execute_reply": "2022-02-16T12:12:48.976652Z"
    },
    "papermill": {
     "duration": 0.665007,
     "end_time": "2022-02-16T12:12:48.976829",
     "exception": false,
     "start_time": "2022-02-16T12:12:48.311822",
     "status": "completed"
    },
    "tags": []
   },
   "outputs": [],
   "source": [
    "#hide\n",
    "import pandas as pd\n",
    "import matplotlib.pyplot as plt\n",
    "import matplotlib.ticker as ticker\n",
    "import matplotlib.animation as animation\n",
    "from IPython.display import HTML"
   ]
  },
  {
   "cell_type": "code",
   "execution_count": 21,
   "id": "lasting-extraction",
   "metadata": {
    "execution": {
     "iopub.execute_input": "2022-02-16T12:12:49.055564Z",
     "iopub.status.busy": "2022-02-16T12:12:49.054967Z",
     "iopub.status.idle": "2022-02-16T12:12:49.061355Z",
     "shell.execute_reply": "2022-02-16T12:12:49.061908Z"
    },
    "papermill": {
     "duration": 0.047904,
     "end_time": "2022-02-16T12:12:49.062058",
     "exception": false,
     "start_time": "2022-02-16T12:12:49.014154",
     "status": "completed"
    },
    "tags": []
   },
   "outputs": [],
   "source": [
    "#hide\n",
    "t = everydaycases.stack()"
   ]
  },
  {
   "cell_type": "code",
   "execution_count": 22,
   "id": "premier-sleeve",
   "metadata": {
    "execution": {
     "iopub.execute_input": "2022-02-16T12:12:49.138092Z",
     "iopub.status.busy": "2022-02-16T12:12:49.137337Z",
     "iopub.status.idle": "2022-02-16T12:12:49.147120Z",
     "shell.execute_reply": "2022-02-16T12:12:49.147851Z"
    },
    "papermill": {
     "duration": 0.049462,
     "end_time": "2022-02-16T12:12:49.148025",
     "exception": false,
     "start_time": "2022-02-16T12:12:49.098563",
     "status": "completed"
    },
    "tags": []
   },
   "outputs": [],
   "source": [
    "#hide\n",
    "g = t.reset_index(['Country/Region'])"
   ]
  },
  {
   "cell_type": "code",
   "execution_count": 23,
   "id": "distributed-pittsburgh",
   "metadata": {
    "execution": {
     "iopub.execute_input": "2022-02-16T12:12:49.220534Z",
     "iopub.status.busy": "2022-02-16T12:12:49.219947Z",
     "iopub.status.idle": "2022-02-16T12:12:49.222549Z",
     "shell.execute_reply": "2022-02-16T12:12:49.222075Z"
    },
    "papermill": {
     "duration": 0.039951,
     "end_time": "2022-02-16T12:12:49.222663",
     "exception": false,
     "start_time": "2022-02-16T12:12:49.182712",
     "status": "completed"
    },
    "tags": []
   },
   "outputs": [],
   "source": [
    "#hide\n",
    "g.index.name = 'date'"
   ]
  },
  {
   "cell_type": "code",
   "execution_count": 24,
   "id": "naked-donor",
   "metadata": {
    "execution": {
     "iopub.execute_input": "2022-02-16T12:12:49.300260Z",
     "iopub.status.busy": "2022-02-16T12:12:49.299675Z",
     "iopub.status.idle": "2022-02-16T12:12:49.301887Z",
     "shell.execute_reply": "2022-02-16T12:12:49.301392Z"
    },
    "papermill": {
     "duration": 0.041761,
     "end_time": "2022-02-16T12:12:49.301999",
     "exception": false,
     "start_time": "2022-02-16T12:12:49.260238",
     "status": "completed"
    },
    "tags": []
   },
   "outputs": [],
   "source": [
    "# #hide\n",
    "# g = g.reset_index(['date'])"
   ]
  },
  {
   "cell_type": "code",
   "execution_count": 25,
   "id": "incomplete-mustang",
   "metadata": {
    "execution": {
     "iopub.execute_input": "2022-02-16T12:12:49.376140Z",
     "iopub.status.busy": "2022-02-16T12:12:49.375469Z",
     "iopub.status.idle": "2022-02-16T12:12:49.378371Z",
     "shell.execute_reply": "2022-02-16T12:12:49.377807Z"
    },
    "papermill": {
     "duration": 0.041364,
     "end_time": "2022-02-16T12:12:49.378498",
     "exception": false,
     "start_time": "2022-02-16T12:12:49.337134",
     "status": "completed"
    },
    "tags": []
   },
   "outputs": [],
   "source": [
    "#hide\n",
    "# g.head()"
   ]
  },
  {
   "cell_type": "code",
   "execution_count": 26,
   "id": "specific-kruger",
   "metadata": {
    "execution": {
     "iopub.execute_input": "2022-02-16T12:12:49.454145Z",
     "iopub.status.busy": "2022-02-16T12:12:49.453527Z",
     "iopub.status.idle": "2022-02-16T12:12:49.456086Z",
     "shell.execute_reply": "2022-02-16T12:12:49.455613Z"
    },
    "papermill": {
     "duration": 0.040783,
     "end_time": "2022-02-16T12:12:49.456205",
     "exception": false,
     "start_time": "2022-02-16T12:12:49.415422",
     "status": "completed"
    },
    "tags": []
   },
   "outputs": [],
   "source": [
    "#hide\n",
    "# g.columns = ['date','country','cases']"
   ]
  },
  {
   "cell_type": "code",
   "execution_count": 27,
   "id": "tender-conversion",
   "metadata": {
    "execution": {
     "iopub.execute_input": "2022-02-16T12:12:49.533231Z",
     "iopub.status.busy": "2022-02-16T12:12:49.532577Z",
     "iopub.status.idle": "2022-02-16T12:12:49.533922Z",
     "shell.execute_reply": "2022-02-16T12:12:49.534517Z"
    },
    "papermill": {
     "duration": 0.041538,
     "end_time": "2022-02-16T12:12:49.534657",
     "exception": false,
     "start_time": "2022-02-16T12:12:49.493119",
     "status": "completed"
    },
    "tags": []
   },
   "outputs": [],
   "source": [
    "#hide\n",
    "# g['continent'] = g.country"
   ]
  },
  {
   "cell_type": "code",
   "execution_count": 28,
   "id": "substantial-wilderness",
   "metadata": {
    "execution": {
     "iopub.execute_input": "2022-02-16T12:12:49.609593Z",
     "iopub.status.busy": "2022-02-16T12:12:49.609006Z",
     "iopub.status.idle": "2022-02-16T12:12:49.612811Z",
     "shell.execute_reply": "2022-02-16T12:12:49.612314Z"
    },
    "papermill": {
     "duration": 0.042409,
     "end_time": "2022-02-16T12:12:49.613028",
     "exception": false,
     "start_time": "2022-02-16T12:12:49.570619",
     "status": "completed"
    },
    "tags": []
   },
   "outputs": [],
   "source": [
    "#hide\n",
    "# cols = list(g.columns.values)"
   ]
  },
  {
   "cell_type": "code",
   "execution_count": 29,
   "id": "solved-farming",
   "metadata": {
    "execution": {
     "iopub.execute_input": "2022-02-16T12:12:49.686687Z",
     "iopub.status.busy": "2022-02-16T12:12:49.686105Z",
     "iopub.status.idle": "2022-02-16T12:12:49.689672Z",
     "shell.execute_reply": "2022-02-16T12:12:49.690119Z"
    },
    "papermill": {
     "duration": 0.041258,
     "end_time": "2022-02-16T12:12:49.690247",
     "exception": false,
     "start_time": "2022-02-16T12:12:49.648989",
     "status": "completed"
    },
    "tags": []
   },
   "outputs": [],
   "source": [
    "#hide\n",
    "# cols.insert(0, cols.pop())"
   ]
  },
  {
   "cell_type": "code",
   "execution_count": 30,
   "id": "executed-adoption",
   "metadata": {
    "execution": {
     "iopub.execute_input": "2022-02-16T12:12:49.763301Z",
     "iopub.status.busy": "2022-02-16T12:12:49.762605Z",
     "iopub.status.idle": "2022-02-16T12:12:49.765598Z",
     "shell.execute_reply": "2022-02-16T12:12:49.764564Z"
    },
    "papermill": {
     "duration": 0.040658,
     "end_time": "2022-02-16T12:12:49.765740",
     "exception": false,
     "start_time": "2022-02-16T12:12:49.725082",
     "status": "completed"
    },
    "tags": []
   },
   "outputs": [],
   "source": [
    "#hide\n",
    "# g = g[cols]"
   ]
  },
  {
   "cell_type": "code",
   "execution_count": 31,
   "id": "subject-dublin",
   "metadata": {
    "execution": {
     "iopub.execute_input": "2022-02-16T12:12:49.840011Z",
     "iopub.status.busy": "2022-02-16T12:12:49.839396Z",
     "iopub.status.idle": "2022-02-16T12:12:49.842041Z",
     "shell.execute_reply": "2022-02-16T12:12:49.841556Z"
    },
    "papermill": {
     "duration": 0.04014,
     "end_time": "2022-02-16T12:12:49.842152",
     "exception": false,
     "start_time": "2022-02-16T12:12:49.802012",
     "status": "completed"
    },
    "tags": []
   },
   "outputs": [],
   "source": [
    "#hide\n",
    "# g['continent'] = g['continent'].map(mapping['map.continent'])"
   ]
  },
  {
   "cell_type": "code",
   "execution_count": 32,
   "id": "freelance-scout",
   "metadata": {
    "execution": {
     "iopub.execute_input": "2022-02-16T12:12:49.915511Z",
     "iopub.status.busy": "2022-02-16T12:12:49.914917Z",
     "iopub.status.idle": "2022-02-16T12:12:49.917474Z",
     "shell.execute_reply": "2022-02-16T12:12:49.916989Z"
    },
    "papermill": {
     "duration": 0.039454,
     "end_time": "2022-02-16T12:12:49.917584",
     "exception": false,
     "start_time": "2022-02-16T12:12:49.878130",
     "status": "completed"
    },
    "tags": []
   },
   "outputs": [],
   "source": [
    "#hide\n",
    "# g.head()"
   ]
  },
  {
   "cell_type": "code",
   "execution_count": 33,
   "id": "limited-engine",
   "metadata": {
    "execution": {
     "iopub.execute_input": "2022-02-16T12:12:49.991985Z",
     "iopub.status.busy": "2022-02-16T12:12:49.991409Z",
     "iopub.status.idle": "2022-02-16T12:12:49.994760Z",
     "shell.execute_reply": "2022-02-16T12:12:49.995228Z"
    },
    "papermill": {
     "duration": 0.043002,
     "end_time": "2022-02-16T12:12:49.995353",
     "exception": false,
     "start_time": "2022-02-16T12:12:49.952351",
     "status": "completed"
    },
    "tags": []
   },
   "outputs": [],
   "source": [
    "# hide\n",
    "# g['date'] = g['date'].astype('datetime64[ns]')"
   ]
  },
  {
   "cell_type": "code",
   "execution_count": 34,
   "id": "sophisticated-supervisor",
   "metadata": {
    "execution": {
     "iopub.execute_input": "2022-02-16T12:12:50.069324Z",
     "iopub.status.busy": "2022-02-16T12:12:50.068735Z",
     "iopub.status.idle": "2022-02-16T12:12:50.071178Z",
     "shell.execute_reply": "2022-02-16T12:12:50.070578Z"
    },
    "papermill": {
     "duration": 0.040707,
     "end_time": "2022-02-16T12:12:50.071296",
     "exception": false,
     "start_time": "2022-02-16T12:12:50.030589",
     "status": "completed"
    },
    "tags": []
   },
   "outputs": [],
   "source": [
    "#hide\n",
    "# g['date'] = g.date.dt.dayofyear"
   ]
  },
  {
   "cell_type": "code",
   "execution_count": 35,
   "id": "inside-dubai",
   "metadata": {
    "execution": {
     "iopub.execute_input": "2022-02-16T12:12:50.144320Z",
     "iopub.status.busy": "2022-02-16T12:12:50.143739Z",
     "iopub.status.idle": "2022-02-16T12:12:50.147138Z",
     "shell.execute_reply": "2022-02-16T12:12:50.147585Z"
    },
    "papermill": {
     "duration": 0.04161,
     "end_time": "2022-02-16T12:12:50.147711",
     "exception": false,
     "start_time": "2022-02-16T12:12:50.106101",
     "status": "completed"
    },
    "tags": []
   },
   "outputs": [],
   "source": [
    "#hide\n",
    "# g = g.rename(columns= {'continent':'group','country':'name','cases':'value'})"
   ]
  },
  {
   "cell_type": "code",
   "execution_count": 36,
   "id": "fleet-motorcycle",
   "metadata": {
    "execution": {
     "iopub.execute_input": "2022-02-16T12:12:50.218686Z",
     "iopub.status.busy": "2022-02-16T12:12:50.218104Z",
     "iopub.status.idle": "2022-02-16T12:12:50.220286Z",
     "shell.execute_reply": "2022-02-16T12:12:50.220819Z"
    },
    "papermill": {
     "duration": 0.039053,
     "end_time": "2022-02-16T12:12:50.220970",
     "exception": false,
     "start_time": "2022-02-16T12:12:50.181917",
     "status": "completed"
    },
    "tags": []
   },
   "outputs": [],
   "source": [
    "#hide\n",
    "# cols = ['name','group','day','value']"
   ]
  },
  {
   "cell_type": "code",
   "execution_count": 37,
   "id": "continued-sleeping",
   "metadata": {
    "execution": {
     "iopub.execute_input": "2022-02-16T12:12:50.297593Z",
     "iopub.status.busy": "2022-02-16T12:12:50.296904Z",
     "iopub.status.idle": "2022-02-16T12:12:50.299161Z",
     "shell.execute_reply": "2022-02-16T12:12:50.298644Z"
    },
    "papermill": {
     "duration": 0.042078,
     "end_time": "2022-02-16T12:12:50.299273",
     "exception": false,
     "start_time": "2022-02-16T12:12:50.257195",
     "status": "completed"
    },
    "tags": []
   },
   "outputs": [],
   "source": [
    "#hide\n",
    "# g.rename(columns= {'date':'day'},inplace = True)"
   ]
  },
  {
   "cell_type": "code",
   "execution_count": 38,
   "id": "major-fight",
   "metadata": {
    "execution": {
     "iopub.execute_input": "2022-02-16T12:12:50.378122Z",
     "iopub.status.busy": "2022-02-16T12:12:50.377487Z",
     "iopub.status.idle": "2022-02-16T12:12:50.380313Z",
     "shell.execute_reply": "2022-02-16T12:12:50.379687Z"
    },
    "papermill": {
     "duration": 0.042813,
     "end_time": "2022-02-16T12:12:50.380442",
     "exception": false,
     "start_time": "2022-02-16T12:12:50.337629",
     "status": "completed"
    },
    "tags": []
   },
   "outputs": [],
   "source": [
    "#hide\n",
    "# g = g[cols]"
   ]
  },
  {
   "cell_type": "code",
   "execution_count": 39,
   "id": "structured-mobile",
   "metadata": {
    "execution": {
     "iopub.execute_input": "2022-02-16T12:12:50.459272Z",
     "iopub.status.busy": "2022-02-16T12:12:50.458569Z",
     "iopub.status.idle": "2022-02-16T12:12:50.460950Z",
     "shell.execute_reply": "2022-02-16T12:12:50.460429Z"
    },
    "papermill": {
     "duration": 0.042791,
     "end_time": "2022-02-16T12:12:50.461074",
     "exception": false,
     "start_time": "2022-02-16T12:12:50.418283",
     "status": "completed"
    },
    "tags": []
   },
   "outputs": [],
   "source": [
    "# #hide\n",
    "# g = g[g.group.notna()]"
   ]
  },
  {
   "cell_type": "code",
   "execution_count": 40,
   "id": "determined-closing",
   "metadata": {
    "execution": {
     "iopub.execute_input": "2022-02-16T12:12:50.537258Z",
     "iopub.status.busy": "2022-02-16T12:12:50.536650Z",
     "iopub.status.idle": "2022-02-16T12:12:50.538564Z",
     "shell.execute_reply": "2022-02-16T12:12:50.539050Z"
    },
    "papermill": {
     "duration": 0.041901,
     "end_time": "2022-02-16T12:12:50.539187",
     "exception": false,
     "start_time": "2022-02-16T12:12:50.497286",
     "status": "completed"
    },
    "tags": []
   },
   "outputs": [],
   "source": [
    "# #hide\n",
    "# colors = dict(zip(\n",
    "#     [\"Oceania\", \"Europe\", \"Asia\", \"South America\", \"Middle East\", \"North America\", \"Africa\"],\n",
    "#     [\"#adb0ff\", \"#ffb3ff\", \"#90d595\", \"#e48381\", \"#aafbff\", \"#f7bb5f\", \"#eafb50\"]\n",
    "# ))\n",
    "# group_lk = g.set_index('name')['group'].to_dict()"
   ]
  },
  {
   "cell_type": "code",
   "execution_count": null,
   "id": "gross-drinking",
   "metadata": {
    "papermill": {
     "duration": 0.033909,
     "end_time": "2022-02-16T12:12:50.608043",
     "exception": false,
     "start_time": "2022-02-16T12:12:50.574134",
     "status": "completed"
    },
    "tags": []
   },
   "outputs": [],
   "source": []
  },
  {
   "cell_type": "code",
   "execution_count": 41,
   "id": "subject-macintosh",
   "metadata": {
    "execution": {
     "iopub.execute_input": "2022-02-16T12:12:50.682553Z",
     "iopub.status.busy": "2022-02-16T12:12:50.681953Z",
     "iopub.status.idle": "2022-02-16T12:12:50.683949Z",
     "shell.execute_reply": "2022-02-16T12:12:50.684423Z"
    },
    "papermill": {
     "duration": 0.041614,
     "end_time": "2022-02-16T12:12:50.684567",
     "exception": false,
     "start_time": "2022-02-16T12:12:50.642953",
     "status": "completed"
    },
    "tags": []
   },
   "outputs": [],
   "source": [
    "# #hide\n",
    "# fig, ax = plt.subplots(figsize=(15, 8))\n",
    "\n",
    "# def draw_barchart(current_day):\n",
    "#     dff = g[g['day'].eq(current_day)].sort_values(by='value', ascending=True).tail(10)\n",
    "#     ax.clear()\n",
    "#     ax.barh(dff['name'], dff['value'], color=[colors[group_lk[x]] for x in dff['name']])\n",
    "#     dx = dff['value'].max() / 200\n",
    "    \n",
    "#     for i, (value, name) in enumerate(zip(dff['value'], dff['name'])):\n",
    "#         ax.text(value-dx, i,     name,           size=14, weight=600, ha='right', va='bottom')\n",
    "#         ax.text(value-dx, i-.25, group_lk[name], size=10, color='#444444', ha='right', va='baseline')\n",
    "#         ax.text(value+dx, i,     f'{value:,.0f}',  size=14, ha='left',  va='center')\n",
    "#     ax.text(1, 0.4, current_day, transform=ax.transAxes, color='#777777', size=46, ha='right', weight=800)\n",
    "#     ax.text(0, 1.06, 'Population (thousands)', transform=ax.transAxes, size=12, color='#777777')\n",
    "#     ax.xaxis.set_major_formatter(ticker.StrMethodFormatter('{x:,.0f}'))\n",
    "#     ax.xaxis.set_ticks_position('top')\n",
    "#     ax.tick_params(axis='x', colors='#777777', labelsize=12)\n",
    "#     ax.set_yticks([])\n",
    "#     ax.margins(0, 0.01)\n",
    "#     ax.grid(which='major', axis='x', linestyle='-')\n",
    "#     ax.set_axisbelow(True)\n",
    "    \n",
    "#     ax.text(0, 1.15, 'Coronavirus',\n",
    "#             transform=ax.transAxes, size=24, weight=600, ha='left', va='top')\n",
    "# #     ax.text(1, 0, 'by @pratapvardhan; credit @jburnmurdoch', transform=ax.transAxes, color='#777777', ha='right',\n",
    "# #             bbox=dict(facecolor='white', alpha=0.8, edgecolor='white'))\n",
    "#     plt.box(False)"
   ]
  },
  {
   "cell_type": "code",
   "execution_count": 42,
   "id": "sexual-wages",
   "metadata": {
    "execution": {
     "iopub.execute_input": "2022-02-16T12:12:50.757816Z",
     "iopub.status.busy": "2022-02-16T12:12:50.757218Z",
     "iopub.status.idle": "2022-02-16T12:12:50.759742Z",
     "shell.execute_reply": "2022-02-16T12:12:50.759240Z"
    },
    "papermill": {
     "duration": 0.040063,
     "end_time": "2022-02-16T12:12:50.759853",
     "exception": false,
     "start_time": "2022-02-16T12:12:50.719790",
     "status": "completed"
    },
    "tags": []
   },
   "outputs": [],
   "source": [
    "# #hide_input\n",
    "# fig, ax = plt.subplots(figsize=(15, 8))\n",
    "# animator = animation.FuncAnimation(fig, draw_barchart, frames=range(g.day.values.min(), g.day.values.max()))\n",
    "# HTML(animator.to_jshtml())\n",
    "# # or use animator.to_html5_video() or animator.save() "
   ]
  },
  {
   "cell_type": "code",
   "execution_count": null,
   "id": "australian-container",
   "metadata": {
    "papermill": {
     "duration": 0.034769,
     "end_time": "2022-02-16T12:12:50.830363",
     "exception": false,
     "start_time": "2022-02-16T12:12:50.795594",
     "status": "completed"
    },
    "tags": []
   },
   "outputs": [],
   "source": []
  },
  {
   "cell_type": "code",
   "execution_count": null,
   "id": "mediterranean-pontiac",
   "metadata": {
    "papermill": {
     "duration": 0.036423,
     "end_time": "2022-02-16T12:12:50.901499",
     "exception": false,
     "start_time": "2022-02-16T12:12:50.865076",
     "status": "completed"
    },
    "tags": []
   },
   "outputs": [],
   "source": []
  },
  {
   "cell_type": "code",
   "execution_count": null,
   "id": "aging-legislature",
   "metadata": {
    "papermill": {
     "duration": 0.035596,
     "end_time": "2022-02-16T12:12:50.971842",
     "exception": false,
     "start_time": "2022-02-16T12:12:50.936246",
     "status": "completed"
    },
    "tags": []
   },
   "outputs": [],
   "source": []
  }
 ],
 "metadata": {
  "kernelspec": {
   "display_name": "Python 3",
   "language": "python",
   "name": "python3"
  },
  "language_info": {
   "codemirror_mode": {
    "name": "ipython",
    "version": 3
   },
   "file_extension": ".py",
   "mimetype": "text/x-python",
   "name": "python",
   "nbconvert_exporter": "python",
   "pygments_lexer": "ipython3",
   "version": "3.6.15"
  },
  "papermill": {
   "duration": 6.786423,
   "end_time": "2022-02-16T12:12:51.325619",
   "environment_variables": {},
   "exception": null,
   "input_path": "2020-03-21-covid19exp.ipynb",
   "output_path": "2020-03-21-covid19exp.ipynb",
   "parameters": {},
   "start_time": "2022-02-16T12:12:44.539196",
   "version": "2.0.0"
  }
 },
 "nbformat": 4,
 "nbformat_minor": 5
}