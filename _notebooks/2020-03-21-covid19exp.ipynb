{
 "cells": [
  {
   "cell_type": "markdown",
   "id": "muslim-click",
   "metadata": {
    "papermill": {
     "duration": 0.042244,
     "end_time": "2021-05-25T12:12:30.423469",
     "exception": false,
     "start_time": "2021-05-25T12:12:30.381225",
     "status": "completed"
    },
    "tags": []
   },
   "source": [
    "# COVID-19 Case Race\n",
    "> A race chart to see rising cases around the world\n",
    "\n",
    "- author: Hargun Oberoi\n",
    "- image: images/covid-overview.png\n",
    "- hide: false\n",
    "- badges: false"
   ]
  },
  {
   "cell_type": "code",
   "execution_count": 1,
   "id": "proof-material",
   "metadata": {
    "execution": {
     "iopub.execute_input": "2021-05-25T12:12:30.516024Z",
     "iopub.status.busy": "2021-05-25T12:12:30.515352Z",
     "iopub.status.idle": "2021-05-25T12:12:30.878487Z",
     "shell.execute_reply": "2021-05-25T12:12:30.877782Z"
    },
    "papermill": {
     "duration": 0.415569,
     "end_time": "2021-05-25T12:12:30.878648",
     "exception": false,
     "start_time": "2021-05-25T12:12:30.463079",
     "status": "completed"
    },
    "tags": []
   },
   "outputs": [],
   "source": [
    "#hide\n",
    "import numpy as np\n",
    "import pandas as pd\n",
    "from jinja2 import Template\n",
    "from IPython.display import HTML"
   ]
  },
  {
   "cell_type": "code",
   "execution_count": 2,
   "id": "developed-terminology",
   "metadata": {
    "execution": {
     "iopub.execute_input": "2021-05-25T12:12:30.956991Z",
     "iopub.status.busy": "2021-05-25T12:12:30.956380Z",
     "iopub.status.idle": "2021-05-25T12:12:30.958937Z",
     "shell.execute_reply": "2021-05-25T12:12:30.958325Z"
    },
    "papermill": {
     "duration": 0.043478,
     "end_time": "2021-05-25T12:12:30.959083",
     "exception": false,
     "start_time": "2021-05-25T12:12:30.915605",
     "status": "completed"
    },
    "tags": []
   },
   "outputs": [],
   "source": [
    "#hide\n",
    "\n",
    "# FETCH\n",
    "base_url = 'https://raw.githubusercontent.com/pratapvardhan/notebooks/master/covid19/'\n",
    "paths = {\n",
    "    'mapping': base_url + 'mapping_countries.csv',\n",
    "    'overview': base_url + 'overview.tpl'\n",
    "}"
   ]
  },
  {
   "cell_type": "code",
   "execution_count": 3,
   "id": "dynamic-saver",
   "metadata": {
    "execution": {
     "iopub.execute_input": "2021-05-25T12:12:31.038192Z",
     "iopub.status.busy": "2021-05-25T12:12:31.037633Z",
     "iopub.status.idle": "2021-05-25T12:12:31.040266Z",
     "shell.execute_reply": "2021-05-25T12:12:31.040769Z"
    },
    "papermill": {
     "duration": 0.04735,
     "end_time": "2021-05-25T12:12:31.040897",
     "exception": false,
     "start_time": "2021-05-25T12:12:30.993547",
     "status": "completed"
    },
    "tags": []
   },
   "outputs": [
    {
     "data": {
      "text/plain": [
       "'https://raw.githubusercontent.com/pratapvardhan/notebooks/master/covid19/mapping_countries.csv'"
      ]
     },
     "execution_count": 3,
     "metadata": {},
     "output_type": "execute_result"
    }
   ],
   "source": [
    "#hide\n",
    "paths['mapping']"
   ]
  },
  {
   "cell_type": "code",
   "execution_count": 4,
   "id": "urban-software",
   "metadata": {
    "execution": {
     "iopub.execute_input": "2021-05-25T12:12:31.120369Z",
     "iopub.status.busy": "2021-05-25T12:12:31.119711Z",
     "iopub.status.idle": "2021-05-25T12:12:31.122256Z",
     "shell.execute_reply": "2021-05-25T12:12:31.121730Z"
    },
    "papermill": {
     "duration": 0.045205,
     "end_time": "2021-05-25T12:12:31.122420",
     "exception": false,
     "start_time": "2021-05-25T12:12:31.077215",
     "status": "completed"
    },
    "tags": []
   },
   "outputs": [],
   "source": [
    "#hide\n",
    "def get_mappings(url):\n",
    "    df = pd.read_csv(url)\n",
    "    return {\n",
    "        'df': df,\n",
    "        'replace.country': dict(df.dropna(subset=['Name']).set_index('Country')['Name']),\n",
    "        'map.continent': dict(df.set_index('Name')['Continent'])\n",
    "    }"
   ]
  },
  {
   "cell_type": "code",
   "execution_count": 5,
   "id": "intimate-machinery",
   "metadata": {
    "execution": {
     "iopub.execute_input": "2021-05-25T12:12:31.201558Z",
     "iopub.status.busy": "2021-05-25T12:12:31.200899Z",
     "iopub.status.idle": "2021-05-25T12:12:31.239611Z",
     "shell.execute_reply": "2021-05-25T12:12:31.239067Z"
    },
    "papermill": {
     "duration": 0.080265,
     "end_time": "2021-05-25T12:12:31.239740",
     "exception": false,
     "start_time": "2021-05-25T12:12:31.159475",
     "status": "completed"
    },
    "tags": []
   },
   "outputs": [],
   "source": [
    "#hide\n",
    "mapping = get_mappings(paths['mapping'])"
   ]
  },
  {
   "cell_type": "code",
   "execution_count": 6,
   "id": "certified-tactics",
   "metadata": {
    "execution": {
     "iopub.execute_input": "2021-05-25T12:12:31.319334Z",
     "iopub.status.busy": "2021-05-25T12:12:31.318693Z",
     "iopub.status.idle": "2021-05-25T12:12:31.321162Z",
     "shell.execute_reply": "2021-05-25T12:12:31.320627Z"
    },
    "papermill": {
     "duration": 0.04335,
     "end_time": "2021-05-25T12:12:31.321302",
     "exception": false,
     "start_time": "2021-05-25T12:12:31.277952",
     "status": "completed"
    },
    "tags": []
   },
   "outputs": [],
   "source": [
    "#hide\n",
    "def get_template(path):\n",
    "    from urllib.parse import urlparse\n",
    "    if bool(urlparse(path).netloc):\n",
    "        from urllib.request import urlopen\n",
    "        return urlopen(path).read().decode('utf8')\n",
    "    return open(path).read()"
   ]
  },
  {
   "cell_type": "code",
   "execution_count": 7,
   "id": "realistic-blast",
   "metadata": {
    "execution": {
     "iopub.execute_input": "2021-05-25T12:12:31.401988Z",
     "iopub.status.busy": "2021-05-25T12:12:31.401365Z",
     "iopub.status.idle": "2021-05-25T12:12:31.404030Z",
     "shell.execute_reply": "2021-05-25T12:12:31.403512Z"
    },
    "papermill": {
     "duration": 0.045113,
     "end_time": "2021-05-25T12:12:31.404151",
     "exception": false,
     "start_time": "2021-05-25T12:12:31.359038",
     "status": "completed"
    },
    "tags": []
   },
   "outputs": [],
   "source": [
    "#hide\n",
    "def get_frame(name):\n",
    "    url = (\n",
    "        'https://raw.githubusercontent.com/CSSEGISandData/COVID-19/master/csse_covid_19_data/'\n",
    "        f'csse_covid_19_time_series/time_series_covid19_{name}_global.csv')\n",
    "    df = pd.read_csv(url)\n",
    "    # rename countries\n",
    "    df['Country/Region'] = df['Country/Region'].replace(mapping['replace.country'])\n",
    "    return df"
   ]
  },
  {
   "cell_type": "code",
   "execution_count": 8,
   "id": "affiliated-characterization",
   "metadata": {
    "execution": {
     "iopub.execute_input": "2021-05-25T12:12:31.481530Z",
     "iopub.status.busy": "2021-05-25T12:12:31.480931Z",
     "iopub.status.idle": "2021-05-25T12:12:31.482940Z",
     "shell.execute_reply": "2021-05-25T12:12:31.483514Z"
    },
    "papermill": {
     "duration": 0.044068,
     "end_time": "2021-05-25T12:12:31.483671",
     "exception": false,
     "start_time": "2021-05-25T12:12:31.439603",
     "status": "completed"
    },
    "tags": []
   },
   "outputs": [],
   "source": [
    "#hide\n",
    "def get_dates(df):\n",
    "    dt_cols = df.columns[~df.columns.isin(['Province/State', 'Country/Region', 'Lat', 'Long'])]\n",
    "    LAST_DATE_I = -1\n",
    "    # sometimes last column may be empty, then go backwards\n",
    "    for i in range(-1, -len(dt_cols), -1):\n",
    "        if not df[dt_cols[i]].fillna(0).eq(0).all():\n",
    "            LAST_DATE_I = i\n",
    "            break\n",
    "    return LAST_DATE_I, dt_cols"
   ]
  },
  {
   "cell_type": "code",
   "execution_count": 9,
   "id": "recent-optimization",
   "metadata": {
    "execution": {
     "iopub.execute_input": "2021-05-25T12:12:31.559772Z",
     "iopub.status.busy": "2021-05-25T12:12:31.559053Z",
     "iopub.status.idle": "2021-05-25T12:12:31.949736Z",
     "shell.execute_reply": "2021-05-25T12:12:31.950215Z"
    },
    "papermill": {
     "duration": 0.430899,
     "end_time": "2021-05-25T12:12:31.950405",
     "exception": false,
     "start_time": "2021-05-25T12:12:31.519506",
     "status": "completed"
    },
    "tags": []
   },
   "outputs": [],
   "source": [
    "#hide\n",
    "COL_REGION = 'Country/Region'\n",
    "# Confirmed, Recovered, Deaths\n",
    "df = get_frame('confirmed')\n",
    "# dft_: timeseries, dfc_: today country agg\n",
    "dft_cases = df\n",
    "dft_deaths = get_frame('deaths')\n",
    "dft_recovered = get_frame('recovered')\n",
    "LAST_DATE_I, dt_cols = get_dates(df)"
   ]
  },
  {
   "cell_type": "code",
   "execution_count": 10,
   "id": "absolute-copper",
   "metadata": {
    "execution": {
     "iopub.execute_input": "2021-05-25T12:12:32.026722Z",
     "iopub.status.busy": "2021-05-25T12:12:32.026136Z",
     "iopub.status.idle": "2021-05-25T12:12:32.028049Z",
     "shell.execute_reply": "2021-05-25T12:12:32.028564Z"
    },
    "papermill": {
     "duration": 0.042384,
     "end_time": "2021-05-25T12:12:32.028715",
     "exception": false,
     "start_time": "2021-05-25T12:12:31.986331",
     "status": "completed"
    },
    "tags": []
   },
   "outputs": [],
   "source": [
    "#hide\n",
    "LAST_DATE_I, dt_cols = get_dates(df)\n",
    "dt_today =dt_cols[LAST_DATE_I]\n",
    "# dt_5day = dt_cols[LAST_DATE_I - 5]\n",
    "dt_yday = dt_cols[LAST_DATE_I - 1]"
   ]
  },
  {
   "cell_type": "code",
   "execution_count": 11,
   "id": "restricted-sheriff",
   "metadata": {
    "execution": {
     "iopub.execute_input": "2021-05-25T12:12:32.111021Z",
     "iopub.status.busy": "2021-05-25T12:12:32.110412Z",
     "iopub.status.idle": "2021-05-25T12:12:32.116512Z",
     "shell.execute_reply": "2021-05-25T12:12:32.116970Z"
    },
    "papermill": {
     "duration": 0.049629,
     "end_time": "2021-05-25T12:12:32.117099",
     "exception": false,
     "start_time": "2021-05-25T12:12:32.067470",
     "status": "completed"
    },
    "tags": []
   },
   "outputs": [],
   "source": [
    "#hide\n",
    "dfc_cases = dft_cases.groupby(COL_REGION)[dt_today].sum()\n",
    "dfc_deaths = dft_deaths.groupby(COL_REGION)[dt_today].sum()\n",
    "# dfp_cases = dft_cases.groupby(COL_REGION)[dt_5day].sum()\n",
    "# dfp_deaths = dft_deaths.groupby(COL_REGION)[dt_5day].sum()\n",
    "dfp_cases = dft_cases.groupby(COL_REGION)[dt_yday].sum()\n",
    "dfp_deaths = dft_deaths.groupby(COL_REGION)[dt_yday].sum()"
   ]
  },
  {
   "cell_type": "code",
   "execution_count": 12,
   "id": "deluxe-hepatitis",
   "metadata": {
    "execution": {
     "iopub.execute_input": "2021-05-25T12:12:32.195198Z",
     "iopub.status.busy": "2021-05-25T12:12:32.194535Z",
     "iopub.status.idle": "2021-05-25T12:12:32.198794Z",
     "shell.execute_reply": "2021-05-25T12:12:32.199368Z"
    },
    "papermill": {
     "duration": 0.045773,
     "end_time": "2021-05-25T12:12:32.199503",
     "exception": false,
     "start_time": "2021-05-25T12:12:32.153730",
     "status": "completed"
    },
    "tags": []
   },
   "outputs": [],
   "source": [
    "#hide\n",
    "df_table = (pd.DataFrame(dict(Cases = dfc_cases, Deaths = dfc_deaths, PCases = dfp_cases, PDeaths = dfp_deaths))\n",
    "            .sort_values(by = ['Cases','Deaths'], ascending = [False, False])\n",
    "            .reset_index())"
   ]
  },
  {
   "cell_type": "code",
   "execution_count": 13,
   "id": "educational-chancellor",
   "metadata": {
    "execution": {
     "iopub.execute_input": "2021-05-25T12:12:32.295697Z",
     "iopub.status.busy": "2021-05-25T12:12:32.295028Z",
     "iopub.status.idle": "2021-05-25T12:12:32.305300Z",
     "shell.execute_reply": "2021-05-25T12:12:32.305806Z"
    },
    "papermill": {
     "duration": 0.070582,
     "end_time": "2021-05-25T12:12:32.305972",
     "exception": false,
     "start_time": "2021-05-25T12:12:32.235390",
     "status": "completed"
    },
    "tags": []
   },
   "outputs": [
    {
     "data": {
      "text/html": [
       "<div>\n",
       "<style scoped>\n",
       "    .dataframe tbody tr th:only-of-type {\n",
       "        vertical-align: middle;\n",
       "    }\n",
       "\n",
       "    .dataframe tbody tr th {\n",
       "        vertical-align: top;\n",
       "    }\n",
       "\n",
       "    .dataframe thead th {\n",
       "        text-align: right;\n",
       "    }\n",
       "</style>\n",
       "<table border=\"1\" class=\"dataframe\">\n",
       "  <thead>\n",
       "    <tr style=\"text-align: right;\">\n",
       "      <th></th>\n",
       "      <th>Country/Region</th>\n",
       "      <th>Cases</th>\n",
       "      <th>Deaths</th>\n",
       "      <th>PCases</th>\n",
       "      <th>PDeaths</th>\n",
       "      <th>Cases (+)</th>\n",
       "      <th>Deaths (+)</th>\n",
       "      <th>Fatality Rate</th>\n",
       "      <th>Continent</th>\n",
       "    </tr>\n",
       "  </thead>\n",
       "  <tbody>\n",
       "    <tr>\n",
       "      <th>0</th>\n",
       "      <td>US</td>\n",
       "      <td>33143662</td>\n",
       "      <td>590320</td>\n",
       "      <td>33117737</td>\n",
       "      <td>589893</td>\n",
       "      <td>25925</td>\n",
       "      <td>427</td>\n",
       "      <td>1.78</td>\n",
       "      <td>North America</td>\n",
       "    </tr>\n",
       "    <tr>\n",
       "      <th>1</th>\n",
       "      <td>India</td>\n",
       "      <td>26948874</td>\n",
       "      <td>307231</td>\n",
       "      <td>26752447</td>\n",
       "      <td>303720</td>\n",
       "      <td>196427</td>\n",
       "      <td>3511</td>\n",
       "      <td>1.14</td>\n",
       "      <td>Asia</td>\n",
       "    </tr>\n",
       "    <tr>\n",
       "      <th>2</th>\n",
       "      <td>Brazil</td>\n",
       "      <td>16120756</td>\n",
       "      <td>449858</td>\n",
       "      <td>16083258</td>\n",
       "      <td>449068</td>\n",
       "      <td>37498</td>\n",
       "      <td>790</td>\n",
       "      <td>2.79</td>\n",
       "      <td>South America</td>\n",
       "    </tr>\n",
       "    <tr>\n",
       "      <th>3</th>\n",
       "      <td>France</td>\n",
       "      <td>5667331</td>\n",
       "      <td>108819</td>\n",
       "      <td>5665101</td>\n",
       "      <td>108757</td>\n",
       "      <td>2230</td>\n",
       "      <td>62</td>\n",
       "      <td>1.92</td>\n",
       "      <td>Europe</td>\n",
       "    </tr>\n",
       "    <tr>\n",
       "      <th>4</th>\n",
       "      <td>Turkey</td>\n",
       "      <td>5194010</td>\n",
       "      <td>46446</td>\n",
       "      <td>5186487</td>\n",
       "      <td>46268</td>\n",
       "      <td>7523</td>\n",
       "      <td>178</td>\n",
       "      <td>0.89</td>\n",
       "      <td>Asia</td>\n",
       "    </tr>\n",
       "  </tbody>\n",
       "</table>\n",
       "</div>"
      ],
      "text/plain": [
       "  Country/Region     Cases  Deaths    PCases  PDeaths  Cases (+)  Deaths (+)  \\\n",
       "0             US  33143662  590320  33117737   589893      25925         427   \n",
       "1          India  26948874  307231  26752447   303720     196427        3511   \n",
       "2         Brazil  16120756  449858  16083258   449068      37498         790   \n",
       "3         France   5667331  108819   5665101   108757       2230          62   \n",
       "4         Turkey   5194010   46446   5186487    46268       7523         178   \n",
       "\n",
       "   Fatality Rate      Continent  \n",
       "0           1.78  North America  \n",
       "1           1.14           Asia  \n",
       "2           2.79  South America  \n",
       "3           1.92         Europe  \n",
       "4           0.89           Asia  "
      ]
     },
     "execution_count": 13,
     "metadata": {},
     "output_type": "execute_result"
    }
   ],
   "source": [
    "#hide\n",
    "for c in 'Cases, Deaths'.split(', '):\n",
    "    df_table[f'{c} (+)'] = (df_table[c] - df_table[f'P{c}']).clip(0)\n",
    "    #Clip ça veut dire, les chiffres negatif sont interdit\n",
    "df_table['Fatality Rate'] = (100* df_table['Deaths']/ df_table['Cases']).round(2)\n",
    "df_table['Continent'] = df_table['Country/Region'].map(mapping['map.continent'])\n",
    "df_table.head(5)"
   ]
  },
  {
   "cell_type": "code",
   "execution_count": 14,
   "id": "aboriginal-bulgaria",
   "metadata": {
    "execution": {
     "iopub.execute_input": "2021-05-25T12:12:32.389468Z",
     "iopub.status.busy": "2021-05-25T12:12:32.388854Z",
     "iopub.status.idle": "2021-05-25T12:12:32.391344Z",
     "shell.execute_reply": "2021-05-25T12:12:32.390741Z"
    },
    "papermill": {
     "duration": 0.045586,
     "end_time": "2021-05-25T12:12:32.391467",
     "exception": false,
     "start_time": "2021-05-25T12:12:32.345881",
     "status": "completed"
    },
    "tags": []
   },
   "outputs": [],
   "source": [
    "#hide\n",
    "#delete problematic countries from table\n",
    "df_table = df_table[~df_table['Country/Region'].isin(['Cape Verde', 'Cruise Ship', 'Kosovo'])]"
   ]
  },
  {
   "cell_type": "code",
   "execution_count": 15,
   "id": "fantastic-effect",
   "metadata": {
    "execution": {
     "iopub.execute_input": "2021-05-25T12:12:32.474477Z",
     "iopub.status.busy": "2021-05-25T12:12:32.473827Z",
     "iopub.status.idle": "2021-05-25T12:12:32.495059Z",
     "shell.execute_reply": "2021-05-25T12:12:32.494579Z"
    },
    "papermill": {
     "duration": 0.066021,
     "end_time": "2021-05-25T12:12:32.495172",
     "exception": false,
     "start_time": "2021-05-25T12:12:32.429151",
     "status": "completed"
    },
    "tags": []
   },
   "outputs": [
    {
     "data": {
      "text/html": [
       "<div>\n",
       "<style scoped>\n",
       "    .dataframe tbody tr th:only-of-type {\n",
       "        vertical-align: middle;\n",
       "    }\n",
       "\n",
       "    .dataframe tbody tr th {\n",
       "        vertical-align: top;\n",
       "    }\n",
       "\n",
       "    .dataframe thead th {\n",
       "        text-align: right;\n",
       "    }\n",
       "</style>\n",
       "<table border=\"1\" class=\"dataframe\">\n",
       "  <thead>\n",
       "    <tr style=\"text-align: right;\">\n",
       "      <th></th>\n",
       "      <th>Country/Region</th>\n",
       "      <th>Cases</th>\n",
       "      <th>Deaths</th>\n",
       "      <th>PCases</th>\n",
       "      <th>PDeaths</th>\n",
       "      <th>Cases (+)</th>\n",
       "      <th>Deaths (+)</th>\n",
       "      <th>Fatality Rate</th>\n",
       "      <th>Continent</th>\n",
       "    </tr>\n",
       "  </thead>\n",
       "  <tbody>\n",
       "    <tr>\n",
       "      <th>0</th>\n",
       "      <td>US</td>\n",
       "      <td>33143662</td>\n",
       "      <td>590320</td>\n",
       "      <td>33117737</td>\n",
       "      <td>589893</td>\n",
       "      <td>25925</td>\n",
       "      <td>427</td>\n",
       "      <td>1.8</td>\n",
       "      <td>North America</td>\n",
       "    </tr>\n",
       "    <tr>\n",
       "      <th>1</th>\n",
       "      <td>India</td>\n",
       "      <td>26948874</td>\n",
       "      <td>307231</td>\n",
       "      <td>26752447</td>\n",
       "      <td>303720</td>\n",
       "      <td>196427</td>\n",
       "      <td>3511</td>\n",
       "      <td>1.1</td>\n",
       "      <td>Asia</td>\n",
       "    </tr>\n",
       "    <tr>\n",
       "      <th>2</th>\n",
       "      <td>Brazil</td>\n",
       "      <td>16120756</td>\n",
       "      <td>449858</td>\n",
       "      <td>16083258</td>\n",
       "      <td>449068</td>\n",
       "      <td>37498</td>\n",
       "      <td>790</td>\n",
       "      <td>2.8</td>\n",
       "      <td>South America</td>\n",
       "    </tr>\n",
       "    <tr>\n",
       "      <th>3</th>\n",
       "      <td>France</td>\n",
       "      <td>5667331</td>\n",
       "      <td>108819</td>\n",
       "      <td>5665101</td>\n",
       "      <td>108757</td>\n",
       "      <td>2230</td>\n",
       "      <td>62</td>\n",
       "      <td>1.9</td>\n",
       "      <td>Europe</td>\n",
       "    </tr>\n",
       "    <tr>\n",
       "      <th>4</th>\n",
       "      <td>Turkey</td>\n",
       "      <td>5194010</td>\n",
       "      <td>46446</td>\n",
       "      <td>5186487</td>\n",
       "      <td>46268</td>\n",
       "      <td>7523</td>\n",
       "      <td>178</td>\n",
       "      <td>0.9</td>\n",
       "      <td>Asia</td>\n",
       "    </tr>\n",
       "  </tbody>\n",
       "</table>\n",
       "</div>"
      ],
      "text/plain": [
       "  Country/Region     Cases  Deaths    PCases  PDeaths  Cases (+)  Deaths (+)  \\\n",
       "0             US  33143662  590320  33117737   589893      25925         427   \n",
       "1          India  26948874  307231  26752447   303720     196427        3511   \n",
       "2         Brazil  16120756  449858  16083258   449068      37498         790   \n",
       "3         France   5667331  108819   5665101   108757       2230          62   \n",
       "4         Turkey   5194010   46446   5186487    46268       7523         178   \n",
       "\n",
       "   Fatality Rate      Continent  \n",
       "0            1.8  North America  \n",
       "1            1.1           Asia  \n",
       "2            2.8  South America  \n",
       "3            1.9         Europe  \n",
       "4            0.9           Asia  "
      ]
     },
     "execution_count": 15,
     "metadata": {},
     "output_type": "execute_result"
    }
   ],
   "source": [
    "#hide\n",
    "df_table = (pd.DataFrame(dict(Cases=dfc_cases, Deaths=dfc_deaths, PCases=dfp_cases, PDeaths=dfp_deaths))\n",
    "             .sort_values(by=['Cases', 'Deaths'], ascending=[False, False])\n",
    "             .reset_index())\n",
    "df_table.rename(columns={'index': 'Country/Region'}, inplace=True)\n",
    "for c in 'Cases, Deaths'.split(', '):\n",
    "    df_table[f'{c} (+)'] = (df_table[c] - df_table[f'P{c}']).clip(0)  # DATA BUG\n",
    "df_table['Fatality Rate'] = (100 * df_table['Deaths'] / df_table['Cases']).round(1)\n",
    "df_table['Continent'] = df_table['Country/Region'].map(mapping['map.continent'])\n",
    "df_table.head(5)"
   ]
  },
  {
   "cell_type": "code",
   "execution_count": 16,
   "id": "fewer-occasion",
   "metadata": {
    "execution": {
     "iopub.execute_input": "2021-05-25T12:12:32.577591Z",
     "iopub.status.busy": "2021-05-25T12:12:32.577032Z",
     "iopub.status.idle": "2021-05-25T12:12:32.579914Z",
     "shell.execute_reply": "2021-05-25T12:12:32.580374Z"
    },
    "papermill": {
     "duration": 0.047144,
     "end_time": "2021-05-25T12:12:32.580505",
     "exception": false,
     "start_time": "2021-05-25T12:12:32.533361",
     "status": "completed"
    },
    "tags": []
   },
   "outputs": [],
   "source": [
    "#hide\n",
    "#delete problematic countries from table\n",
    "df_table = df_table[~df_table['Country/Region'].isin(['Cape Verde', 'Cruise Ship', 'Kosovo'])]"
   ]
  },
  {
   "cell_type": "code",
   "execution_count": 17,
   "id": "related-center",
   "metadata": {
    "execution": {
     "iopub.execute_input": "2021-05-25T12:12:32.671195Z",
     "iopub.status.busy": "2021-05-25T12:12:32.670597Z",
     "iopub.status.idle": "2021-05-25T12:12:32.672831Z",
     "shell.execute_reply": "2021-05-25T12:12:32.672341Z"
    },
    "papermill": {
     "duration": 0.056808,
     "end_time": "2021-05-25T12:12:32.672944",
     "exception": false,
     "start_time": "2021-05-25T12:12:32.616136",
     "status": "completed"
    },
    "tags": []
   },
   "outputs": [],
   "source": [
    "#hide\n",
    "metrics = [df_table.columns[index] for index in [1,2,5,6]]\n",
    "# s_china = df_table[df_table['Country/Region'].eq('China')][metrics].sum().add_prefix('China ')\n",
    "s_us = df_table[df_table['Country/Region'].eq('US')][metrics].sum().add_prefix('US ')\n",
    "s_eu = df_table[df_table['Continent'].eq('Europe')][metrics].sum().add_prefix('EU ')\n",
    "s_ind = df_table[df_table['Country/Region'].eq('India')][metrics].sum().add_prefix('India ')\n",
    "summary = {'updated': pd.to_datetime(dt_today), 'since': pd.to_datetime(dt_yday)}\n",
    "summary = {'updated': pd.to_datetime(dt_today), 'since': pd.to_datetime(dt_yday)}\n",
    "summary = {**summary, **df_table[metrics].sum(), **s_ind, **s_us, **s_eu}"
   ]
  },
  {
   "cell_type": "code",
   "execution_count": 18,
   "id": "engaging-syndrome",
   "metadata": {
    "execution": {
     "iopub.execute_input": "2021-05-25T12:12:32.749832Z",
     "iopub.status.busy": "2021-05-25T12:12:32.749267Z",
     "iopub.status.idle": "2021-05-25T12:12:32.759873Z",
     "shell.execute_reply": "2021-05-25T12:12:32.760413Z"
    },
    "papermill": {
     "duration": 0.050845,
     "end_time": "2021-05-25T12:12:32.760543",
     "exception": false,
     "start_time": "2021-05-25T12:12:32.709698",
     "status": "completed"
    },
    "tags": []
   },
   "outputs": [],
   "source": [
    "#hide\n",
    "dft_ct_new_cases = dft_cases.groupby(COL_REGION)[dt_cols].sum().diff(axis=1).fillna(0).astype(int)"
   ]
  },
  {
   "cell_type": "code",
   "execution_count": 19,
   "id": "neutral-assignment",
   "metadata": {
    "execution": {
     "iopub.execute_input": "2021-05-25T12:12:32.838784Z",
     "iopub.status.busy": "2021-05-25T12:12:32.838198Z",
     "iopub.status.idle": "2021-05-25T12:12:32.840062Z",
     "shell.execute_reply": "2021-05-25T12:12:32.840523Z"
    },
    "papermill": {
     "duration": 0.044143,
     "end_time": "2021-05-25T12:12:32.840687",
     "exception": false,
     "start_time": "2021-05-25T12:12:32.796544",
     "status": "completed"
    },
    "tags": []
   },
   "outputs": [],
   "source": [
    "#hide\n",
    "everydaycases = dft_ct_new_cases.cumsum(axis=1)"
   ]
  },
  {
   "cell_type": "code",
   "execution_count": 20,
   "id": "parliamentary-calgary",
   "metadata": {
    "execution": {
     "iopub.execute_input": "2021-05-25T12:12:32.917246Z",
     "iopub.status.busy": "2021-05-25T12:12:32.916635Z",
     "iopub.status.idle": "2021-05-25T12:12:33.498740Z",
     "shell.execute_reply": "2021-05-25T12:12:33.498187Z"
    },
    "papermill": {
     "duration": 0.6224,
     "end_time": "2021-05-25T12:12:33.498877",
     "exception": false,
     "start_time": "2021-05-25T12:12:32.876477",
     "status": "completed"
    },
    "tags": []
   },
   "outputs": [],
   "source": [
    "#hide\n",
    "import pandas as pd\n",
    "import matplotlib.pyplot as plt\n",
    "import matplotlib.ticker as ticker\n",
    "import matplotlib.animation as animation\n",
    "from IPython.display import HTML"
   ]
  },
  {
   "cell_type": "code",
   "execution_count": 21,
   "id": "lasting-extraction",
   "metadata": {
    "execution": {
     "iopub.execute_input": "2021-05-25T12:12:33.577269Z",
     "iopub.status.busy": "2021-05-25T12:12:33.576701Z",
     "iopub.status.idle": "2021-05-25T12:12:33.581974Z",
     "shell.execute_reply": "2021-05-25T12:12:33.582678Z"
    },
    "papermill": {
     "duration": 0.045948,
     "end_time": "2021-05-25T12:12:33.582813",
     "exception": false,
     "start_time": "2021-05-25T12:12:33.536865",
     "status": "completed"
    },
    "tags": []
   },
   "outputs": [],
   "source": [
    "#hide\n",
    "t = everydaycases.stack()"
   ]
  },
  {
   "cell_type": "code",
   "execution_count": 22,
   "id": "premier-sleeve",
   "metadata": {
    "execution": {
     "iopub.execute_input": "2021-05-25T12:12:33.663337Z",
     "iopub.status.busy": "2021-05-25T12:12:33.662624Z",
     "iopub.status.idle": "2021-05-25T12:12:33.672195Z",
     "shell.execute_reply": "2021-05-25T12:12:33.671670Z"
    },
    "papermill": {
     "duration": 0.05085,
     "end_time": "2021-05-25T12:12:33.672346",
     "exception": false,
     "start_time": "2021-05-25T12:12:33.621496",
     "status": "completed"
    },
    "tags": []
   },
   "outputs": [],
   "source": [
    "#hide\n",
    "g = t.reset_index(['Country/Region'])"
   ]
  },
  {
   "cell_type": "code",
   "execution_count": 23,
   "id": "distributed-pittsburgh",
   "metadata": {
    "execution": {
     "iopub.execute_input": "2021-05-25T12:12:33.751711Z",
     "iopub.status.busy": "2021-05-25T12:12:33.751066Z",
     "iopub.status.idle": "2021-05-25T12:12:33.754674Z",
     "shell.execute_reply": "2021-05-25T12:12:33.753464Z"
    },
    "papermill": {
     "duration": 0.04642,
     "end_time": "2021-05-25T12:12:33.754807",
     "exception": false,
     "start_time": "2021-05-25T12:12:33.708387",
     "status": "completed"
    },
    "tags": []
   },
   "outputs": [],
   "source": [
    "#hide\n",
    "g.index.name = 'date'"
   ]
  },
  {
   "cell_type": "code",
   "execution_count": 24,
   "id": "naked-donor",
   "metadata": {
    "execution": {
     "iopub.execute_input": "2021-05-25T12:12:33.836010Z",
     "iopub.status.busy": "2021-05-25T12:12:33.835388Z",
     "iopub.status.idle": "2021-05-25T12:12:33.837528Z",
     "shell.execute_reply": "2021-05-25T12:12:33.837958Z"
    },
    "papermill": {
     "duration": 0.045265,
     "end_time": "2021-05-25T12:12:33.838089",
     "exception": false,
     "start_time": "2021-05-25T12:12:33.792824",
     "status": "completed"
    },
    "tags": []
   },
   "outputs": [],
   "source": [
    "# #hide\n",
    "# g = g.reset_index(['date'])"
   ]
  },
  {
   "cell_type": "code",
   "execution_count": 25,
   "id": "incomplete-mustang",
   "metadata": {
    "execution": {
     "iopub.execute_input": "2021-05-25T12:12:33.913079Z",
     "iopub.status.busy": "2021-05-25T12:12:33.912516Z",
     "iopub.status.idle": "2021-05-25T12:12:33.914384Z",
     "shell.execute_reply": "2021-05-25T12:12:33.914821Z"
    },
    "papermill": {
     "duration": 0.041788,
     "end_time": "2021-05-25T12:12:33.914946",
     "exception": false,
     "start_time": "2021-05-25T12:12:33.873158",
     "status": "completed"
    },
    "tags": []
   },
   "outputs": [],
   "source": [
    "#hide\n",
    "# g.head()"
   ]
  },
  {
   "cell_type": "code",
   "execution_count": 26,
   "id": "specific-kruger",
   "metadata": {
    "execution": {
     "iopub.execute_input": "2021-05-25T12:12:33.990018Z",
     "iopub.status.busy": "2021-05-25T12:12:33.989435Z",
     "iopub.status.idle": "2021-05-25T12:12:33.991276Z",
     "shell.execute_reply": "2021-05-25T12:12:33.991706Z"
    },
    "papermill": {
     "duration": 0.040941,
     "end_time": "2021-05-25T12:12:33.991837",
     "exception": false,
     "start_time": "2021-05-25T12:12:33.950896",
     "status": "completed"
    },
    "tags": []
   },
   "outputs": [],
   "source": [
    "#hide\n",
    "# g.columns = ['date','country','cases']"
   ]
  },
  {
   "cell_type": "code",
   "execution_count": 27,
   "id": "tender-conversion",
   "metadata": {
    "execution": {
     "iopub.execute_input": "2021-05-25T12:12:34.070520Z",
     "iopub.status.busy": "2021-05-25T12:12:34.069853Z",
     "iopub.status.idle": "2021-05-25T12:12:34.071757Z",
     "shell.execute_reply": "2021-05-25T12:12:34.072278Z"
    },
    "papermill": {
     "duration": 0.044414,
     "end_time": "2021-05-25T12:12:34.072405",
     "exception": false,
     "start_time": "2021-05-25T12:12:34.027991",
     "status": "completed"
    },
    "tags": []
   },
   "outputs": [],
   "source": [
    "#hide\n",
    "# g['continent'] = g.country"
   ]
  },
  {
   "cell_type": "code",
   "execution_count": 28,
   "id": "substantial-wilderness",
   "metadata": {
    "execution": {
     "iopub.execute_input": "2021-05-25T12:12:34.158739Z",
     "iopub.status.busy": "2021-05-25T12:12:34.158026Z",
     "iopub.status.idle": "2021-05-25T12:12:34.159632Z",
     "shell.execute_reply": "2021-05-25T12:12:34.160225Z"
    },
    "papermill": {
     "duration": 0.047547,
     "end_time": "2021-05-25T12:12:34.160351",
     "exception": false,
     "start_time": "2021-05-25T12:12:34.112804",
     "status": "completed"
    },
    "tags": []
   },
   "outputs": [],
   "source": [
    "#hide\n",
    "# cols = list(g.columns.values)"
   ]
  },
  {
   "cell_type": "code",
   "execution_count": 29,
   "id": "solved-farming",
   "metadata": {
    "execution": {
     "iopub.execute_input": "2021-05-25T12:12:34.240708Z",
     "iopub.status.busy": "2021-05-25T12:12:34.240147Z",
     "iopub.status.idle": "2021-05-25T12:12:34.242551Z",
     "shell.execute_reply": "2021-05-25T12:12:34.242046Z"
    },
    "papermill": {
     "duration": 0.046489,
     "end_time": "2021-05-25T12:12:34.242667",
     "exception": false,
     "start_time": "2021-05-25T12:12:34.196178",
     "status": "completed"
    },
    "tags": []
   },
   "outputs": [],
   "source": [
    "#hide\n",
    "# cols.insert(0, cols.pop())"
   ]
  },
  {
   "cell_type": "code",
   "execution_count": 30,
   "id": "executed-adoption",
   "metadata": {
    "execution": {
     "iopub.execute_input": "2021-05-25T12:12:34.322574Z",
     "iopub.status.busy": "2021-05-25T12:12:34.321877Z",
     "iopub.status.idle": "2021-05-25T12:12:34.323756Z",
     "shell.execute_reply": "2021-05-25T12:12:34.324320Z"
    },
    "papermill": {
     "duration": 0.046158,
     "end_time": "2021-05-25T12:12:34.324479",
     "exception": false,
     "start_time": "2021-05-25T12:12:34.278321",
     "status": "completed"
    },
    "tags": []
   },
   "outputs": [],
   "source": [
    "#hide\n",
    "# g = g[cols]"
   ]
  },
  {
   "cell_type": "code",
   "execution_count": 31,
   "id": "subject-dublin",
   "metadata": {
    "execution": {
     "iopub.execute_input": "2021-05-25T12:12:34.406017Z",
     "iopub.status.busy": "2021-05-25T12:12:34.405419Z",
     "iopub.status.idle": "2021-05-25T12:12:34.407733Z",
     "shell.execute_reply": "2021-05-25T12:12:34.407162Z"
    },
    "papermill": {
     "duration": 0.04269,
     "end_time": "2021-05-25T12:12:34.407844",
     "exception": false,
     "start_time": "2021-05-25T12:12:34.365154",
     "status": "completed"
    },
    "tags": []
   },
   "outputs": [],
   "source": [
    "#hide\n",
    "# g['continent'] = g['continent'].map(mapping['map.continent'])"
   ]
  },
  {
   "cell_type": "code",
   "execution_count": 32,
   "id": "freelance-scout",
   "metadata": {
    "execution": {
     "iopub.execute_input": "2021-05-25T12:12:34.482492Z",
     "iopub.status.busy": "2021-05-25T12:12:34.481908Z",
     "iopub.status.idle": "2021-05-25T12:12:34.484428Z",
     "shell.execute_reply": "2021-05-25T12:12:34.483956Z"
    },
    "papermill": {
     "duration": 0.041287,
     "end_time": "2021-05-25T12:12:34.484536",
     "exception": false,
     "start_time": "2021-05-25T12:12:34.443249",
     "status": "completed"
    },
    "tags": []
   },
   "outputs": [],
   "source": [
    "#hide\n",
    "# g.head()"
   ]
  },
  {
   "cell_type": "code",
   "execution_count": 33,
   "id": "limited-engine",
   "metadata": {
    "execution": {
     "iopub.execute_input": "2021-05-25T12:12:34.559883Z",
     "iopub.status.busy": "2021-05-25T12:12:34.558704Z",
     "iopub.status.idle": "2021-05-25T12:12:34.560492Z",
     "shell.execute_reply": "2021-05-25T12:12:34.560940Z"
    },
    "papermill": {
     "duration": 0.041618,
     "end_time": "2021-05-25T12:12:34.561063",
     "exception": false,
     "start_time": "2021-05-25T12:12:34.519445",
     "status": "completed"
    },
    "tags": []
   },
   "outputs": [],
   "source": [
    "# hide\n",
    "# g['date'] = g['date'].astype('datetime64[ns]')"
   ]
  },
  {
   "cell_type": "code",
   "execution_count": 34,
   "id": "sophisticated-supervisor",
   "metadata": {
    "execution": {
     "iopub.execute_input": "2021-05-25T12:12:34.634132Z",
     "iopub.status.busy": "2021-05-25T12:12:34.633572Z",
     "iopub.status.idle": "2021-05-25T12:12:34.637178Z",
     "shell.execute_reply": "2021-05-25T12:12:34.637611Z"
    },
    "papermill": {
     "duration": 0.041214,
     "end_time": "2021-05-25T12:12:34.637748",
     "exception": false,
     "start_time": "2021-05-25T12:12:34.596534",
     "status": "completed"
    },
    "tags": []
   },
   "outputs": [],
   "source": [
    "#hide\n",
    "# g['date'] = g.date.dt.dayofyear"
   ]
  },
  {
   "cell_type": "code",
   "execution_count": 35,
   "id": "inside-dubai",
   "metadata": {
    "execution": {
     "iopub.execute_input": "2021-05-25T12:12:34.711930Z",
     "iopub.status.busy": "2021-05-25T12:12:34.710745Z",
     "iopub.status.idle": "2021-05-25T12:12:34.712585Z",
     "shell.execute_reply": "2021-05-25T12:12:34.713173Z"
    },
    "papermill": {
     "duration": 0.040123,
     "end_time": "2021-05-25T12:12:34.713303",
     "exception": false,
     "start_time": "2021-05-25T12:12:34.673180",
     "status": "completed"
    },
    "tags": []
   },
   "outputs": [],
   "source": [
    "#hide\n",
    "# g = g.rename(columns= {'continent':'group','country':'name','cases':'value'})"
   ]
  },
  {
   "cell_type": "code",
   "execution_count": 36,
   "id": "fleet-motorcycle",
   "metadata": {
    "execution": {
     "iopub.execute_input": "2021-05-25T12:12:34.788711Z",
     "iopub.status.busy": "2021-05-25T12:12:34.788153Z",
     "iopub.status.idle": "2021-05-25T12:12:34.790018Z",
     "shell.execute_reply": "2021-05-25T12:12:34.790475Z"
    },
    "papermill": {
     "duration": 0.041199,
     "end_time": "2021-05-25T12:12:34.790602",
     "exception": false,
     "start_time": "2021-05-25T12:12:34.749403",
     "status": "completed"
    },
    "tags": []
   },
   "outputs": [],
   "source": [
    "#hide\n",
    "# cols = ['name','group','day','value']"
   ]
  },
  {
   "cell_type": "code",
   "execution_count": 37,
   "id": "continued-sleeping",
   "metadata": {
    "execution": {
     "iopub.execute_input": "2021-05-25T12:12:34.869128Z",
     "iopub.status.busy": "2021-05-25T12:12:34.868555Z",
     "iopub.status.idle": "2021-05-25T12:12:34.870872Z",
     "shell.execute_reply": "2021-05-25T12:12:34.870385Z"
    },
    "papermill": {
     "duration": 0.042627,
     "end_time": "2021-05-25T12:12:34.870987",
     "exception": false,
     "start_time": "2021-05-25T12:12:34.828360",
     "status": "completed"
    },
    "tags": []
   },
   "outputs": [],
   "source": [
    "#hide\n",
    "# g.rename(columns= {'date':'day'},inplace = True)"
   ]
  },
  {
   "cell_type": "code",
   "execution_count": 38,
   "id": "major-fight",
   "metadata": {
    "execution": {
     "iopub.execute_input": "2021-05-25T12:12:34.951099Z",
     "iopub.status.busy": "2021-05-25T12:12:34.950413Z",
     "iopub.status.idle": "2021-05-25T12:12:34.952939Z",
     "shell.execute_reply": "2021-05-25T12:12:34.952390Z"
    },
    "papermill": {
     "duration": 0.042454,
     "end_time": "2021-05-25T12:12:34.953058",
     "exception": false,
     "start_time": "2021-05-25T12:12:34.910604",
     "status": "completed"
    },
    "tags": []
   },
   "outputs": [],
   "source": [
    "#hide\n",
    "# g = g[cols]"
   ]
  },
  {
   "cell_type": "code",
   "execution_count": 39,
   "id": "structured-mobile",
   "metadata": {
    "execution": {
     "iopub.execute_input": "2021-05-25T12:12:35.040539Z",
     "iopub.status.busy": "2021-05-25T12:12:35.039908Z",
     "iopub.status.idle": "2021-05-25T12:12:35.042172Z",
     "shell.execute_reply": "2021-05-25T12:12:35.041696Z"
    },
    "papermill": {
     "duration": 0.051619,
     "end_time": "2021-05-25T12:12:35.042284",
     "exception": false,
     "start_time": "2021-05-25T12:12:34.990665",
     "status": "completed"
    },
    "tags": []
   },
   "outputs": [],
   "source": [
    "# #hide\n",
    "# g = g[g.group.notna()]"
   ]
  },
  {
   "cell_type": "code",
   "execution_count": 40,
   "id": "determined-closing",
   "metadata": {
    "execution": {
     "iopub.execute_input": "2021-05-25T12:12:35.125486Z",
     "iopub.status.busy": "2021-05-25T12:12:35.124851Z",
     "iopub.status.idle": "2021-05-25T12:12:35.127628Z",
     "shell.execute_reply": "2021-05-25T12:12:35.127081Z"
    },
    "papermill": {
     "duration": 0.044997,
     "end_time": "2021-05-25T12:12:35.127761",
     "exception": false,
     "start_time": "2021-05-25T12:12:35.082764",
     "status": "completed"
    },
    "tags": []
   },
   "outputs": [],
   "source": [
    "# #hide\n",
    "# colors = dict(zip(\n",
    "#     [\"Oceania\", \"Europe\", \"Asia\", \"South America\", \"Middle East\", \"North America\", \"Africa\"],\n",
    "#     [\"#adb0ff\", \"#ffb3ff\", \"#90d595\", \"#e48381\", \"#aafbff\", \"#f7bb5f\", \"#eafb50\"]\n",
    "# ))\n",
    "# group_lk = g.set_index('name')['group'].to_dict()"
   ]
  },
  {
   "cell_type": "code",
   "execution_count": null,
   "id": "gross-drinking",
   "metadata": {
    "papermill": {
     "duration": 0.036125,
     "end_time": "2021-05-25T12:12:35.203473",
     "exception": false,
     "start_time": "2021-05-25T12:12:35.167348",
     "status": "completed"
    },
    "tags": []
   },
   "outputs": [],
   "source": []
  },
  {
   "cell_type": "code",
   "execution_count": 41,
   "id": "subject-macintosh",
   "metadata": {
    "execution": {
     "iopub.execute_input": "2021-05-25T12:12:35.280848Z",
     "iopub.status.busy": "2021-05-25T12:12:35.280274Z",
     "iopub.status.idle": "2021-05-25T12:12:35.282262Z",
     "shell.execute_reply": "2021-05-25T12:12:35.282719Z"
    },
    "papermill": {
     "duration": 0.044234,
     "end_time": "2021-05-25T12:12:35.282850",
     "exception": false,
     "start_time": "2021-05-25T12:12:35.238616",
     "status": "completed"
    },
    "tags": []
   },
   "outputs": [],
   "source": [
    "# #hide\n",
    "# fig, ax = plt.subplots(figsize=(15, 8))\n",
    "\n",
    "# def draw_barchart(current_day):\n",
    "#     dff = g[g['day'].eq(current_day)].sort_values(by='value', ascending=True).tail(10)\n",
    "#     ax.clear()\n",
    "#     ax.barh(dff['name'], dff['value'], color=[colors[group_lk[x]] for x in dff['name']])\n",
    "#     dx = dff['value'].max() / 200\n",
    "    \n",
    "#     for i, (value, name) in enumerate(zip(dff['value'], dff['name'])):\n",
    "#         ax.text(value-dx, i,     name,           size=14, weight=600, ha='right', va='bottom')\n",
    "#         ax.text(value-dx, i-.25, group_lk[name], size=10, color='#444444', ha='right', va='baseline')\n",
    "#         ax.text(value+dx, i,     f'{value:,.0f}',  size=14, ha='left',  va='center')\n",
    "#     ax.text(1, 0.4, current_day, transform=ax.transAxes, color='#777777', size=46, ha='right', weight=800)\n",
    "#     ax.text(0, 1.06, 'Population (thousands)', transform=ax.transAxes, size=12, color='#777777')\n",
    "#     ax.xaxis.set_major_formatter(ticker.StrMethodFormatter('{x:,.0f}'))\n",
    "#     ax.xaxis.set_ticks_position('top')\n",
    "#     ax.tick_params(axis='x', colors='#777777', labelsize=12)\n",
    "#     ax.set_yticks([])\n",
    "#     ax.margins(0, 0.01)\n",
    "#     ax.grid(which='major', axis='x', linestyle='-')\n",
    "#     ax.set_axisbelow(True)\n",
    "    \n",
    "#     ax.text(0, 1.15, 'Coronavirus',\n",
    "#             transform=ax.transAxes, size=24, weight=600, ha='left', va='top')\n",
    "# #     ax.text(1, 0, 'by @pratapvardhan; credit @jburnmurdoch', transform=ax.transAxes, color='#777777', ha='right',\n",
    "# #             bbox=dict(facecolor='white', alpha=0.8, edgecolor='white'))\n",
    "#     plt.box(False)"
   ]
  },
  {
   "cell_type": "code",
   "execution_count": 42,
   "id": "sexual-wages",
   "metadata": {
    "execution": {
     "iopub.execute_input": "2021-05-25T12:12:35.359685Z",
     "iopub.status.busy": "2021-05-25T12:12:35.359108Z",
     "iopub.status.idle": "2021-05-25T12:12:35.361448Z",
     "shell.execute_reply": "2021-05-25T12:12:35.360934Z"
    },
    "papermill": {
     "duration": 0.042889,
     "end_time": "2021-05-25T12:12:35.361598",
     "exception": false,
     "start_time": "2021-05-25T12:12:35.318709",
     "status": "completed"
    },
    "tags": []
   },
   "outputs": [],
   "source": [
    "# #hide_input\n",
    "# fig, ax = plt.subplots(figsize=(15, 8))\n",
    "# animator = animation.FuncAnimation(fig, draw_barchart, frames=range(g.day.values.min(), g.day.values.max()))\n",
    "# HTML(animator.to_jshtml())\n",
    "# # or use animator.to_html5_video() or animator.save() "
   ]
  },
  {
   "cell_type": "code",
   "execution_count": null,
   "id": "australian-container",
   "metadata": {
    "papermill": {
     "duration": 0.040158,
     "end_time": "2021-05-25T12:12:35.438732",
     "exception": false,
     "start_time": "2021-05-25T12:12:35.398574",
     "status": "completed"
    },
    "tags": []
   },
   "outputs": [],
   "source": []
  },
  {
   "cell_type": "code",
   "execution_count": null,
   "id": "mediterranean-pontiac",
   "metadata": {
    "papermill": {
     "duration": 0.038471,
     "end_time": "2021-05-25T12:12:35.514119",
     "exception": false,
     "start_time": "2021-05-25T12:12:35.475648",
     "status": "completed"
    },
    "tags": []
   },
   "outputs": [],
   "source": []
  },
  {
   "cell_type": "code",
   "execution_count": null,
   "id": "aging-legislature",
   "metadata": {
    "papermill": {
     "duration": 0.035522,
     "end_time": "2021-05-25T12:12:35.588201",
     "exception": false,
     "start_time": "2021-05-25T12:12:35.552679",
     "status": "completed"
    },
    "tags": []
   },
   "outputs": [],
   "source": []
  }
 ],
 "metadata": {
  "kernelspec": {
   "display_name": "Python 3",
   "language": "python",
   "name": "python3"
  },
  "language_info": {
   "codemirror_mode": {
    "name": "ipython",
    "version": 3
   },
   "file_extension": ".py",
   "mimetype": "text/x-python",
   "name": "python",
   "nbconvert_exporter": "python",
   "pygments_lexer": "ipython3",
   "version": "3.6.13"
  },
  "papermill": {
   "duration": 6.846863,
   "end_time": "2021-05-25T12:12:35.930201",
   "environment_variables": {},
   "exception": null,
   "input_path": "2020-03-21-covid19exp.ipynb",
   "output_path": "2020-03-21-covid19exp.ipynb",
   "parameters": {},
   "start_time": "2021-05-25T12:12:29.083338",
   "version": "2.0.0"
  }
 },
 "nbformat": 4,
 "nbformat_minor": 5
}