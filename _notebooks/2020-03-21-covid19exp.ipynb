{
 "cells": [
  {
   "cell_type": "markdown",
   "id": "muslim-click",
   "metadata": {
    "papermill": {
     "duration": 0.033498,
     "end_time": "2021-05-24T00:25:44.699150",
     "exception": false,
     "start_time": "2021-05-24T00:25:44.665652",
     "status": "completed"
    },
    "tags": []
   },
   "source": [
    "# COVID-19 Case Race\n",
    "> A race chart to see rising cases around the world\n",
    "\n",
    "- author: Hargun Oberoi\n",
    "- image: images/covid-overview.png\n",
    "- hide: false\n",
    "- badges: false"
   ]
  },
  {
   "cell_type": "code",
   "execution_count": 1,
   "id": "proof-material",
   "metadata": {
    "execution": {
     "iopub.execute_input": "2021-05-24T00:25:44.769145Z",
     "iopub.status.busy": "2021-05-24T00:25:44.768629Z",
     "iopub.status.idle": "2021-05-24T00:25:45.097543Z",
     "shell.execute_reply": "2021-05-24T00:25:45.097068Z"
    },
    "papermill": {
     "duration": 0.368612,
     "end_time": "2021-05-24T00:25:45.097679",
     "exception": false,
     "start_time": "2021-05-24T00:25:44.729067",
     "status": "completed"
    },
    "tags": []
   },
   "outputs": [],
   "source": [
    "#hide\n",
    "import numpy as np\n",
    "import pandas as pd\n",
    "from jinja2 import Template\n",
    "from IPython.display import HTML"
   ]
  },
  {
   "cell_type": "code",
   "execution_count": 2,
   "id": "developed-terminology",
   "metadata": {
    "execution": {
     "iopub.execute_input": "2021-05-24T00:25:45.164558Z",
     "iopub.status.busy": "2021-05-24T00:25:45.163873Z",
     "iopub.status.idle": "2021-05-24T00:25:45.166498Z",
     "shell.execute_reply": "2021-05-24T00:25:45.165957Z"
    },
    "papermill": {
     "duration": 0.038211,
     "end_time": "2021-05-24T00:25:45.166597",
     "exception": false,
     "start_time": "2021-05-24T00:25:45.128386",
     "status": "completed"
    },
    "tags": []
   },
   "outputs": [],
   "source": [
    "#hide\n",
    "\n",
    "# FETCH\n",
    "base_url = 'https://raw.githubusercontent.com/pratapvardhan/notebooks/master/covid19/'\n",
    "paths = {\n",
    "    'mapping': base_url + 'mapping_countries.csv',\n",
    "    'overview': base_url + 'overview.tpl'\n",
    "}"
   ]
  },
  {
   "cell_type": "code",
   "execution_count": 3,
   "id": "dynamic-saver",
   "metadata": {
    "execution": {
     "iopub.execute_input": "2021-05-24T00:25:45.239300Z",
     "iopub.status.busy": "2021-05-24T00:25:45.237842Z",
     "iopub.status.idle": "2021-05-24T00:25:45.243228Z",
     "shell.execute_reply": "2021-05-24T00:25:45.242803Z"
    },
    "papermill": {
     "duration": 0.042948,
     "end_time": "2021-05-24T00:25:45.243353",
     "exception": false,
     "start_time": "2021-05-24T00:25:45.200405",
     "status": "completed"
    },
    "tags": []
   },
   "outputs": [
    {
     "data": {
      "text/plain": [
       "'https://raw.githubusercontent.com/pratapvardhan/notebooks/master/covid19/mapping_countries.csv'"
      ]
     },
     "execution_count": 3,
     "metadata": {},
     "output_type": "execute_result"
    }
   ],
   "source": [
    "#hide\n",
    "paths['mapping']"
   ]
  },
  {
   "cell_type": "code",
   "execution_count": 4,
   "id": "urban-software",
   "metadata": {
    "execution": {
     "iopub.execute_input": "2021-05-24T00:25:45.309765Z",
     "iopub.status.busy": "2021-05-24T00:25:45.309250Z",
     "iopub.status.idle": "2021-05-24T00:25:45.311407Z",
     "shell.execute_reply": "2021-05-24T00:25:45.310941Z"
    },
    "papermill": {
     "duration": 0.036803,
     "end_time": "2021-05-24T00:25:45.311506",
     "exception": false,
     "start_time": "2021-05-24T00:25:45.274703",
     "status": "completed"
    },
    "tags": []
   },
   "outputs": [],
   "source": [
    "#hide\n",
    "def get_mappings(url):\n",
    "    df = pd.read_csv(url)\n",
    "    return {\n",
    "        'df': df,\n",
    "        'replace.country': dict(df.dropna(subset=['Name']).set_index('Country')['Name']),\n",
    "        'map.continent': dict(df.set_index('Name')['Continent'])\n",
    "    }"
   ]
  },
  {
   "cell_type": "code",
   "execution_count": 5,
   "id": "intimate-machinery",
   "metadata": {
    "execution": {
     "iopub.execute_input": "2021-05-24T00:25:45.377975Z",
     "iopub.status.busy": "2021-05-24T00:25:45.377463Z",
     "iopub.status.idle": "2021-05-24T00:25:45.416251Z",
     "shell.execute_reply": "2021-05-24T00:25:45.415827Z"
    },
    "papermill": {
     "duration": 0.07443,
     "end_time": "2021-05-24T00:25:45.416353",
     "exception": false,
     "start_time": "2021-05-24T00:25:45.341923",
     "status": "completed"
    },
    "tags": []
   },
   "outputs": [],
   "source": [
    "#hide\n",
    "mapping = get_mappings(paths['mapping'])"
   ]
  },
  {
   "cell_type": "code",
   "execution_count": 6,
   "id": "certified-tactics",
   "metadata": {
    "execution": {
     "iopub.execute_input": "2021-05-24T00:25:45.482126Z",
     "iopub.status.busy": "2021-05-24T00:25:45.481626Z",
     "iopub.status.idle": "2021-05-24T00:25:45.484069Z",
     "shell.execute_reply": "2021-05-24T00:25:45.483586Z"
    },
    "papermill": {
     "duration": 0.037134,
     "end_time": "2021-05-24T00:25:45.484163",
     "exception": false,
     "start_time": "2021-05-24T00:25:45.447029",
     "status": "completed"
    },
    "tags": []
   },
   "outputs": [],
   "source": [
    "#hide\n",
    "def get_template(path):\n",
    "    from urllib.parse import urlparse\n",
    "    if bool(urlparse(path).netloc):\n",
    "        from urllib.request import urlopen\n",
    "        return urlopen(path).read().decode('utf8')\n",
    "    return open(path).read()"
   ]
  },
  {
   "cell_type": "code",
   "execution_count": 7,
   "id": "realistic-blast",
   "metadata": {
    "execution": {
     "iopub.execute_input": "2021-05-24T00:25:45.550165Z",
     "iopub.status.busy": "2021-05-24T00:25:45.549632Z",
     "iopub.status.idle": "2021-05-24T00:25:45.551651Z",
     "shell.execute_reply": "2021-05-24T00:25:45.552116Z"
    },
    "papermill": {
     "duration": 0.038028,
     "end_time": "2021-05-24T00:25:45.552221",
     "exception": false,
     "start_time": "2021-05-24T00:25:45.514193",
     "status": "completed"
    },
    "tags": []
   },
   "outputs": [],
   "source": [
    "#hide\n",
    "def get_frame(name):\n",
    "    url = (\n",
    "        'https://raw.githubusercontent.com/CSSEGISandData/COVID-19/master/csse_covid_19_data/'\n",
    "        f'csse_covid_19_time_series/time_series_covid19_{name}_global.csv')\n",
    "    df = pd.read_csv(url)\n",
    "    # rename countries\n",
    "    df['Country/Region'] = df['Country/Region'].replace(mapping['replace.country'])\n",
    "    return df"
   ]
  },
  {
   "cell_type": "code",
   "execution_count": 8,
   "id": "affiliated-characterization",
   "metadata": {
    "execution": {
     "iopub.execute_input": "2021-05-24T00:25:45.617288Z",
     "iopub.status.busy": "2021-05-24T00:25:45.616697Z",
     "iopub.status.idle": "2021-05-24T00:25:45.618929Z",
     "shell.execute_reply": "2021-05-24T00:25:45.618506Z"
    },
    "papermill": {
     "duration": 0.036582,
     "end_time": "2021-05-24T00:25:45.619021",
     "exception": false,
     "start_time": "2021-05-24T00:25:45.582439",
     "status": "completed"
    },
    "tags": []
   },
   "outputs": [],
   "source": [
    "#hide\n",
    "def get_dates(df):\n",
    "    dt_cols = df.columns[~df.columns.isin(['Province/State', 'Country/Region', 'Lat', 'Long'])]\n",
    "    LAST_DATE_I = -1\n",
    "    # sometimes last column may be empty, then go backwards\n",
    "    for i in range(-1, -len(dt_cols), -1):\n",
    "        if not df[dt_cols[i]].fillna(0).eq(0).all():\n",
    "            LAST_DATE_I = i\n",
    "            break\n",
    "    return LAST_DATE_I, dt_cols"
   ]
  },
  {
   "cell_type": "code",
   "execution_count": 9,
   "id": "recent-optimization",
   "metadata": {
    "execution": {
     "iopub.execute_input": "2021-05-24T00:25:45.683694Z",
     "iopub.status.busy": "2021-05-24T00:25:45.683161Z",
     "iopub.status.idle": "2021-05-24T00:25:46.044198Z",
     "shell.execute_reply": "2021-05-24T00:25:46.043712Z"
    },
    "papermill": {
     "duration": 0.395172,
     "end_time": "2021-05-24T00:25:46.044322",
     "exception": false,
     "start_time": "2021-05-24T00:25:45.649150",
     "status": "completed"
    },
    "tags": []
   },
   "outputs": [],
   "source": [
    "#hide\n",
    "COL_REGION = 'Country/Region'\n",
    "# Confirmed, Recovered, Deaths\n",
    "df = get_frame('confirmed')\n",
    "# dft_: timeseries, dfc_: today country agg\n",
    "dft_cases = df\n",
    "dft_deaths = get_frame('deaths')\n",
    "dft_recovered = get_frame('recovered')\n",
    "LAST_DATE_I, dt_cols = get_dates(df)"
   ]
  },
  {
   "cell_type": "code",
   "execution_count": 10,
   "id": "absolute-copper",
   "metadata": {
    "execution": {
     "iopub.execute_input": "2021-05-24T00:25:46.113265Z",
     "iopub.status.busy": "2021-05-24T00:25:46.112695Z",
     "iopub.status.idle": "2021-05-24T00:25:46.114700Z",
     "shell.execute_reply": "2021-05-24T00:25:46.115178Z"
    },
    "papermill": {
     "duration": 0.038618,
     "end_time": "2021-05-24T00:25:46.115312",
     "exception": false,
     "start_time": "2021-05-24T00:25:46.076694",
     "status": "completed"
    },
    "tags": []
   },
   "outputs": [],
   "source": [
    "#hide\n",
    "LAST_DATE_I, dt_cols = get_dates(df)\n",
    "dt_today =dt_cols[LAST_DATE_I]\n",
    "# dt_5day = dt_cols[LAST_DATE_I - 5]\n",
    "dt_yday = dt_cols[LAST_DATE_I - 1]"
   ]
  },
  {
   "cell_type": "code",
   "execution_count": 11,
   "id": "restricted-sheriff",
   "metadata": {
    "execution": {
     "iopub.execute_input": "2021-05-24T00:25:46.181490Z",
     "iopub.status.busy": "2021-05-24T00:25:46.180974Z",
     "iopub.status.idle": "2021-05-24T00:25:46.189842Z",
     "shell.execute_reply": "2021-05-24T00:25:46.190331Z"
    },
    "papermill": {
     "duration": 0.044681,
     "end_time": "2021-05-24T00:25:46.190441",
     "exception": false,
     "start_time": "2021-05-24T00:25:46.145760",
     "status": "completed"
    },
    "tags": []
   },
   "outputs": [],
   "source": [
    "#hide\n",
    "dfc_cases = dft_cases.groupby(COL_REGION)[dt_today].sum()\n",
    "dfc_deaths = dft_deaths.groupby(COL_REGION)[dt_today].sum()\n",
    "# dfp_cases = dft_cases.groupby(COL_REGION)[dt_5day].sum()\n",
    "# dfp_deaths = dft_deaths.groupby(COL_REGION)[dt_5day].sum()\n",
    "dfp_cases = dft_cases.groupby(COL_REGION)[dt_yday].sum()\n",
    "dfp_deaths = dft_deaths.groupby(COL_REGION)[dt_yday].sum()"
   ]
  },
  {
   "cell_type": "code",
   "execution_count": 12,
   "id": "deluxe-hepatitis",
   "metadata": {
    "execution": {
     "iopub.execute_input": "2021-05-24T00:25:46.261056Z",
     "iopub.status.busy": "2021-05-24T00:25:46.260408Z",
     "iopub.status.idle": "2021-05-24T00:25:46.265766Z",
     "shell.execute_reply": "2021-05-24T00:25:46.265282Z"
    },
    "papermill": {
     "duration": 0.044103,
     "end_time": "2021-05-24T00:25:46.265870",
     "exception": false,
     "start_time": "2021-05-24T00:25:46.221767",
     "status": "completed"
    },
    "tags": []
   },
   "outputs": [],
   "source": [
    "#hide\n",
    "df_table = (pd.DataFrame(dict(Cases = dfc_cases, Deaths = dfc_deaths, PCases = dfp_cases, PDeaths = dfp_deaths))\n",
    "            .sort_values(by = ['Cases','Deaths'], ascending = [False, False])\n",
    "            .reset_index())"
   ]
  },
  {
   "cell_type": "code",
   "execution_count": 13,
   "id": "educational-chancellor",
   "metadata": {
    "execution": {
     "iopub.execute_input": "2021-05-24T00:25:46.352724Z",
     "iopub.status.busy": "2021-05-24T00:25:46.352124Z",
     "iopub.status.idle": "2021-05-24T00:25:46.360828Z",
     "shell.execute_reply": "2021-05-24T00:25:46.361365Z"
    },
    "papermill": {
     "duration": 0.060963,
     "end_time": "2021-05-24T00:25:46.361486",
     "exception": false,
     "start_time": "2021-05-24T00:25:46.300523",
     "status": "completed"
    },
    "tags": []
   },
   "outputs": [
    {
     "data": {
      "text/html": [
       "<div>\n",
       "<style scoped>\n",
       "    .dataframe tbody tr th:only-of-type {\n",
       "        vertical-align: middle;\n",
       "    }\n",
       "\n",
       "    .dataframe tbody tr th {\n",
       "        vertical-align: top;\n",
       "    }\n",
       "\n",
       "    .dataframe thead th {\n",
       "        text-align: right;\n",
       "    }\n",
       "</style>\n",
       "<table border=\"1\" class=\"dataframe\">\n",
       "  <thead>\n",
       "    <tr style=\"text-align: right;\">\n",
       "      <th></th>\n",
       "      <th>Country/Region</th>\n",
       "      <th>Cases</th>\n",
       "      <th>Deaths</th>\n",
       "      <th>PCases</th>\n",
       "      <th>PDeaths</th>\n",
       "      <th>Cases (+)</th>\n",
       "      <th>Deaths (+)</th>\n",
       "      <th>Fatality Rate</th>\n",
       "      <th>Continent</th>\n",
       "    </tr>\n",
       "  </thead>\n",
       "  <tbody>\n",
       "    <tr>\n",
       "      <th>0</th>\n",
       "      <td>US</td>\n",
       "      <td>33104884</td>\n",
       "      <td>589703</td>\n",
       "      <td>33085106</td>\n",
       "      <td>589223</td>\n",
       "      <td>19778</td>\n",
       "      <td>480</td>\n",
       "      <td>1.78</td>\n",
       "      <td>North America</td>\n",
       "    </tr>\n",
       "    <tr>\n",
       "      <th>1</th>\n",
       "      <td>India</td>\n",
       "      <td>26530132</td>\n",
       "      <td>299266</td>\n",
       "      <td>26289290</td>\n",
       "      <td>295525</td>\n",
       "      <td>240842</td>\n",
       "      <td>3741</td>\n",
       "      <td>1.13</td>\n",
       "      <td>Asia</td>\n",
       "    </tr>\n",
       "    <tr>\n",
       "      <th>2</th>\n",
       "      <td>Brazil</td>\n",
       "      <td>16047439</td>\n",
       "      <td>448208</td>\n",
       "      <td>15970949</td>\n",
       "      <td>446309</td>\n",
       "      <td>76490</td>\n",
       "      <td>1899</td>\n",
       "      <td>2.79</td>\n",
       "      <td>South America</td>\n",
       "    </tr>\n",
       "    <tr>\n",
       "      <th>3</th>\n",
       "      <td>France</td>\n",
       "      <td>5979597</td>\n",
       "      <td>108345</td>\n",
       "      <td>5979369</td>\n",
       "      <td>108343</td>\n",
       "      <td>228</td>\n",
       "      <td>2</td>\n",
       "      <td>1.81</td>\n",
       "      <td>Europe</td>\n",
       "    </tr>\n",
       "    <tr>\n",
       "      <th>4</th>\n",
       "      <td>Turkey</td>\n",
       "      <td>5178648</td>\n",
       "      <td>46071</td>\n",
       "      <td>5169951</td>\n",
       "      <td>45840</td>\n",
       "      <td>8697</td>\n",
       "      <td>231</td>\n",
       "      <td>0.89</td>\n",
       "      <td>Asia</td>\n",
       "    </tr>\n",
       "  </tbody>\n",
       "</table>\n",
       "</div>"
      ],
      "text/plain": [
       "  Country/Region     Cases  Deaths    PCases  PDeaths  Cases (+)  Deaths (+)  \\\n",
       "0             US  33104884  589703  33085106   589223      19778         480   \n",
       "1          India  26530132  299266  26289290   295525     240842        3741   \n",
       "2         Brazil  16047439  448208  15970949   446309      76490        1899   \n",
       "3         France   5979597  108345   5979369   108343        228           2   \n",
       "4         Turkey   5178648   46071   5169951    45840       8697         231   \n",
       "\n",
       "   Fatality Rate      Continent  \n",
       "0           1.78  North America  \n",
       "1           1.13           Asia  \n",
       "2           2.79  South America  \n",
       "3           1.81         Europe  \n",
       "4           0.89           Asia  "
      ]
     },
     "execution_count": 13,
     "metadata": {},
     "output_type": "execute_result"
    }
   ],
   "source": [
    "#hide\n",
    "for c in 'Cases, Deaths'.split(', '):\n",
    "    df_table[f'{c} (+)'] = (df_table[c] - df_table[f'P{c}']).clip(0)\n",
    "    #Clip ça veut dire, les chiffres negatif sont interdit\n",
    "df_table['Fatality Rate'] = (100* df_table['Deaths']/ df_table['Cases']).round(2)\n",
    "df_table['Continent'] = df_table['Country/Region'].map(mapping['map.continent'])\n",
    "df_table.head(5)"
   ]
  },
  {
   "cell_type": "code",
   "execution_count": 14,
   "id": "aboriginal-bulgaria",
   "metadata": {
    "execution": {
     "iopub.execute_input": "2021-05-24T00:25:46.432484Z",
     "iopub.status.busy": "2021-05-24T00:25:46.431899Z",
     "iopub.status.idle": "2021-05-24T00:25:46.433976Z",
     "shell.execute_reply": "2021-05-24T00:25:46.434634Z"
    },
    "papermill": {
     "duration": 0.039682,
     "end_time": "2021-05-24T00:25:46.434791",
     "exception": false,
     "start_time": "2021-05-24T00:25:46.395109",
     "status": "completed"
    },
    "tags": []
   },
   "outputs": [],
   "source": [
    "#hide\n",
    "#delete problematic countries from table\n",
    "df_table = df_table[~df_table['Country/Region'].isin(['Cape Verde', 'Cruise Ship', 'Kosovo'])]"
   ]
  },
  {
   "cell_type": "code",
   "execution_count": 15,
   "id": "fantastic-effect",
   "metadata": {
    "execution": {
     "iopub.execute_input": "2021-05-24T00:25:46.508223Z",
     "iopub.status.busy": "2021-05-24T00:25:46.507684Z",
     "iopub.status.idle": "2021-05-24T00:25:46.529258Z",
     "shell.execute_reply": "2021-05-24T00:25:46.528832Z"
    },
    "papermill": {
     "duration": 0.061866,
     "end_time": "2021-05-24T00:25:46.529405",
     "exception": false,
     "start_time": "2021-05-24T00:25:46.467539",
     "status": "completed"
    },
    "tags": []
   },
   "outputs": [
    {
     "data": {
      "text/html": [
       "<div>\n",
       "<style scoped>\n",
       "    .dataframe tbody tr th:only-of-type {\n",
       "        vertical-align: middle;\n",
       "    }\n",
       "\n",
       "    .dataframe tbody tr th {\n",
       "        vertical-align: top;\n",
       "    }\n",
       "\n",
       "    .dataframe thead th {\n",
       "        text-align: right;\n",
       "    }\n",
       "</style>\n",
       "<table border=\"1\" class=\"dataframe\">\n",
       "  <thead>\n",
       "    <tr style=\"text-align: right;\">\n",
       "      <th></th>\n",
       "      <th>Country/Region</th>\n",
       "      <th>Cases</th>\n",
       "      <th>Deaths</th>\n",
       "      <th>PCases</th>\n",
       "      <th>PDeaths</th>\n",
       "      <th>Cases (+)</th>\n",
       "      <th>Deaths (+)</th>\n",
       "      <th>Fatality Rate</th>\n",
       "      <th>Continent</th>\n",
       "    </tr>\n",
       "  </thead>\n",
       "  <tbody>\n",
       "    <tr>\n",
       "      <th>0</th>\n",
       "      <td>US</td>\n",
       "      <td>33104884</td>\n",
       "      <td>589703</td>\n",
       "      <td>33085106</td>\n",
       "      <td>589223</td>\n",
       "      <td>19778</td>\n",
       "      <td>480</td>\n",
       "      <td>1.8</td>\n",
       "      <td>North America</td>\n",
       "    </tr>\n",
       "    <tr>\n",
       "      <th>1</th>\n",
       "      <td>India</td>\n",
       "      <td>26530132</td>\n",
       "      <td>299266</td>\n",
       "      <td>26289290</td>\n",
       "      <td>295525</td>\n",
       "      <td>240842</td>\n",
       "      <td>3741</td>\n",
       "      <td>1.1</td>\n",
       "      <td>Asia</td>\n",
       "    </tr>\n",
       "    <tr>\n",
       "      <th>2</th>\n",
       "      <td>Brazil</td>\n",
       "      <td>16047439</td>\n",
       "      <td>448208</td>\n",
       "      <td>15970949</td>\n",
       "      <td>446309</td>\n",
       "      <td>76490</td>\n",
       "      <td>1899</td>\n",
       "      <td>2.8</td>\n",
       "      <td>South America</td>\n",
       "    </tr>\n",
       "    <tr>\n",
       "      <th>3</th>\n",
       "      <td>France</td>\n",
       "      <td>5979597</td>\n",
       "      <td>108345</td>\n",
       "      <td>5979369</td>\n",
       "      <td>108343</td>\n",
       "      <td>228</td>\n",
       "      <td>2</td>\n",
       "      <td>1.8</td>\n",
       "      <td>Europe</td>\n",
       "    </tr>\n",
       "    <tr>\n",
       "      <th>4</th>\n",
       "      <td>Turkey</td>\n",
       "      <td>5178648</td>\n",
       "      <td>46071</td>\n",
       "      <td>5169951</td>\n",
       "      <td>45840</td>\n",
       "      <td>8697</td>\n",
       "      <td>231</td>\n",
       "      <td>0.9</td>\n",
       "      <td>Asia</td>\n",
       "    </tr>\n",
       "  </tbody>\n",
       "</table>\n",
       "</div>"
      ],
      "text/plain": [
       "  Country/Region     Cases  Deaths    PCases  PDeaths  Cases (+)  Deaths (+)  \\\n",
       "0             US  33104884  589703  33085106   589223      19778         480   \n",
       "1          India  26530132  299266  26289290   295525     240842        3741   \n",
       "2         Brazil  16047439  448208  15970949   446309      76490        1899   \n",
       "3         France   5979597  108345   5979369   108343        228           2   \n",
       "4         Turkey   5178648   46071   5169951    45840       8697         231   \n",
       "\n",
       "   Fatality Rate      Continent  \n",
       "0            1.8  North America  \n",
       "1            1.1           Asia  \n",
       "2            2.8  South America  \n",
       "3            1.8         Europe  \n",
       "4            0.9           Asia  "
      ]
     },
     "execution_count": 15,
     "metadata": {},
     "output_type": "execute_result"
    }
   ],
   "source": [
    "#hide\n",
    "df_table = (pd.DataFrame(dict(Cases=dfc_cases, Deaths=dfc_deaths, PCases=dfp_cases, PDeaths=dfp_deaths))\n",
    "             .sort_values(by=['Cases', 'Deaths'], ascending=[False, False])\n",
    "             .reset_index())\n",
    "df_table.rename(columns={'index': 'Country/Region'}, inplace=True)\n",
    "for c in 'Cases, Deaths'.split(', '):\n",
    "    df_table[f'{c} (+)'] = (df_table[c] - df_table[f'P{c}']).clip(0)  # DATA BUG\n",
    "df_table['Fatality Rate'] = (100 * df_table['Deaths'] / df_table['Cases']).round(1)\n",
    "df_table['Continent'] = df_table['Country/Region'].map(mapping['map.continent'])\n",
    "df_table.head(5)"
   ]
  },
  {
   "cell_type": "code",
   "execution_count": 16,
   "id": "fewer-occasion",
   "metadata": {
    "execution": {
     "iopub.execute_input": "2021-05-24T00:25:46.598789Z",
     "iopub.status.busy": "2021-05-24T00:25:46.598244Z",
     "iopub.status.idle": "2021-05-24T00:25:46.600740Z",
     "shell.execute_reply": "2021-05-24T00:25:46.601272Z"
    },
    "papermill": {
     "duration": 0.03972,
     "end_time": "2021-05-24T00:25:46.601378",
     "exception": false,
     "start_time": "2021-05-24T00:25:46.561658",
     "status": "completed"
    },
    "tags": []
   },
   "outputs": [],
   "source": [
    "#hide\n",
    "#delete problematic countries from table\n",
    "df_table = df_table[~df_table['Country/Region'].isin(['Cape Verde', 'Cruise Ship', 'Kosovo'])]"
   ]
  },
  {
   "cell_type": "code",
   "execution_count": 17,
   "id": "related-center",
   "metadata": {
    "execution": {
     "iopub.execute_input": "2021-05-24T00:25:46.684672Z",
     "iopub.status.busy": "2021-05-24T00:25:46.683909Z",
     "iopub.status.idle": "2021-05-24T00:25:46.686450Z",
     "shell.execute_reply": "2021-05-24T00:25:46.686025Z"
    },
    "papermill": {
     "duration": 0.052818,
     "end_time": "2021-05-24T00:25:46.686549",
     "exception": false,
     "start_time": "2021-05-24T00:25:46.633731",
     "status": "completed"
    },
    "tags": []
   },
   "outputs": [],
   "source": [
    "#hide\n",
    "metrics = [df_table.columns[index] for index in [1,2,5,6]]\n",
    "# s_china = df_table[df_table['Country/Region'].eq('China')][metrics].sum().add_prefix('China ')\n",
    "s_us = df_table[df_table['Country/Region'].eq('US')][metrics].sum().add_prefix('US ')\n",
    "s_eu = df_table[df_table['Continent'].eq('Europe')][metrics].sum().add_prefix('EU ')\n",
    "s_ind = df_table[df_table['Country/Region'].eq('India')][metrics].sum().add_prefix('India ')\n",
    "summary = {'updated': pd.to_datetime(dt_today), 'since': pd.to_datetime(dt_yday)}\n",
    "summary = {'updated': pd.to_datetime(dt_today), 'since': pd.to_datetime(dt_yday)}\n",
    "summary = {**summary, **df_table[metrics].sum(), **s_ind, **s_us, **s_eu}"
   ]
  },
  {
   "cell_type": "code",
   "execution_count": 18,
   "id": "engaging-syndrome",
   "metadata": {
    "execution": {
     "iopub.execute_input": "2021-05-24T00:25:46.757759Z",
     "iopub.status.busy": "2021-05-24T00:25:46.757180Z",
     "iopub.status.idle": "2021-05-24T00:25:46.768625Z",
     "shell.execute_reply": "2021-05-24T00:25:46.769267Z"
    },
    "papermill": {
     "duration": 0.04996,
     "end_time": "2021-05-24T00:25:46.769454",
     "exception": false,
     "start_time": "2021-05-24T00:25:46.719494",
     "status": "completed"
    },
    "tags": []
   },
   "outputs": [],
   "source": [
    "#hide\n",
    "dft_ct_new_cases = dft_cases.groupby(COL_REGION)[dt_cols].sum().diff(axis=1).fillna(0).astype(int)"
   ]
  },
  {
   "cell_type": "code",
   "execution_count": 19,
   "id": "neutral-assignment",
   "metadata": {
    "execution": {
     "iopub.execute_input": "2021-05-24T00:25:46.840641Z",
     "iopub.status.busy": "2021-05-24T00:25:46.840029Z",
     "iopub.status.idle": "2021-05-24T00:25:46.842080Z",
     "shell.execute_reply": "2021-05-24T00:25:46.842622Z"
    },
    "papermill": {
     "duration": 0.040102,
     "end_time": "2021-05-24T00:25:46.842739",
     "exception": false,
     "start_time": "2021-05-24T00:25:46.802637",
     "status": "completed"
    },
    "tags": []
   },
   "outputs": [],
   "source": [
    "#hide\n",
    "everydaycases = dft_ct_new_cases.cumsum(axis=1)"
   ]
  },
  {
   "cell_type": "code",
   "execution_count": 20,
   "id": "parliamentary-calgary",
   "metadata": {
    "execution": {
     "iopub.execute_input": "2021-05-24T00:25:46.911158Z",
     "iopub.status.busy": "2021-05-24T00:25:46.910618Z",
     "iopub.status.idle": "2021-05-24T00:25:47.477801Z",
     "shell.execute_reply": "2021-05-24T00:25:47.478283Z"
    },
    "papermill": {
     "duration": 0.603103,
     "end_time": "2021-05-24T00:25:47.478428",
     "exception": false,
     "start_time": "2021-05-24T00:25:46.875325",
     "status": "completed"
    },
    "tags": []
   },
   "outputs": [],
   "source": [
    "#hide\n",
    "import pandas as pd\n",
    "import matplotlib.pyplot as plt\n",
    "import matplotlib.ticker as ticker\n",
    "import matplotlib.animation as animation\n",
    "from IPython.display import HTML"
   ]
  },
  {
   "cell_type": "code",
   "execution_count": 21,
   "id": "lasting-extraction",
   "metadata": {
    "execution": {
     "iopub.execute_input": "2021-05-24T00:25:47.551720Z",
     "iopub.status.busy": "2021-05-24T00:25:47.550993Z",
     "iopub.status.idle": "2021-05-24T00:25:47.556227Z",
     "shell.execute_reply": "2021-05-24T00:25:47.556698Z"
    },
    "papermill": {
     "duration": 0.044723,
     "end_time": "2021-05-24T00:25:47.556814",
     "exception": false,
     "start_time": "2021-05-24T00:25:47.512091",
     "status": "completed"
    },
    "tags": []
   },
   "outputs": [],
   "source": [
    "#hide\n",
    "t = everydaycases.stack()"
   ]
  },
  {
   "cell_type": "code",
   "execution_count": 22,
   "id": "premier-sleeve",
   "metadata": {
    "execution": {
     "iopub.execute_input": "2021-05-24T00:25:47.626487Z",
     "iopub.status.busy": "2021-05-24T00:25:47.625908Z",
     "iopub.status.idle": "2021-05-24T00:25:47.634514Z",
     "shell.execute_reply": "2021-05-24T00:25:47.634080Z"
    },
    "papermill": {
     "duration": 0.043791,
     "end_time": "2021-05-24T00:25:47.634619",
     "exception": false,
     "start_time": "2021-05-24T00:25:47.590828",
     "status": "completed"
    },
    "tags": []
   },
   "outputs": [],
   "source": [
    "#hide\n",
    "g = t.reset_index(['Country/Region'])"
   ]
  },
  {
   "cell_type": "code",
   "execution_count": 23,
   "id": "distributed-pittsburgh",
   "metadata": {
    "execution": {
     "iopub.execute_input": "2021-05-24T00:25:47.709628Z",
     "iopub.status.busy": "2021-05-24T00:25:47.708862Z",
     "iopub.status.idle": "2021-05-24T00:25:47.711541Z",
     "shell.execute_reply": "2021-05-24T00:25:47.711012Z"
    },
    "papermill": {
     "duration": 0.041817,
     "end_time": "2021-05-24T00:25:47.711640",
     "exception": false,
     "start_time": "2021-05-24T00:25:47.669823",
     "status": "completed"
    },
    "tags": []
   },
   "outputs": [],
   "source": [
    "#hide\n",
    "g.index.name = 'date'"
   ]
  },
  {
   "cell_type": "code",
   "execution_count": 24,
   "id": "naked-donor",
   "metadata": {
    "execution": {
     "iopub.execute_input": "2021-05-24T00:25:47.784280Z",
     "iopub.status.busy": "2021-05-24T00:25:47.783731Z",
     "iopub.status.idle": "2021-05-24T00:25:47.786336Z",
     "shell.execute_reply": "2021-05-24T00:25:47.785917Z"
    },
    "papermill": {
     "duration": 0.040943,
     "end_time": "2021-05-24T00:25:47.786455",
     "exception": false,
     "start_time": "2021-05-24T00:25:47.745512",
     "status": "completed"
    },
    "tags": []
   },
   "outputs": [],
   "source": [
    "# #hide\n",
    "# g = g.reset_index(['date'])"
   ]
  },
  {
   "cell_type": "code",
   "execution_count": 25,
   "id": "incomplete-mustang",
   "metadata": {
    "execution": {
     "iopub.execute_input": "2021-05-24T00:25:47.858025Z",
     "iopub.status.busy": "2021-05-24T00:25:47.857447Z",
     "iopub.status.idle": "2021-05-24T00:25:47.859675Z",
     "shell.execute_reply": "2021-05-24T00:25:47.860186Z"
    },
    "papermill": {
     "duration": 0.041115,
     "end_time": "2021-05-24T00:25:47.860368",
     "exception": false,
     "start_time": "2021-05-24T00:25:47.819253",
     "status": "completed"
    },
    "tags": []
   },
   "outputs": [],
   "source": [
    "#hide\n",
    "# g.head()"
   ]
  },
  {
   "cell_type": "code",
   "execution_count": 26,
   "id": "specific-kruger",
   "metadata": {
    "execution": {
     "iopub.execute_input": "2021-05-24T00:25:47.935618Z",
     "iopub.status.busy": "2021-05-24T00:25:47.934900Z",
     "iopub.status.idle": "2021-05-24T00:25:47.937085Z",
     "shell.execute_reply": "2021-05-24T00:25:47.937520Z"
    },
    "papermill": {
     "duration": 0.040963,
     "end_time": "2021-05-24T00:25:47.937644",
     "exception": false,
     "start_time": "2021-05-24T00:25:47.896681",
     "status": "completed"
    },
    "tags": []
   },
   "outputs": [],
   "source": [
    "#hide\n",
    "# g.columns = ['date','country','cases']"
   ]
  },
  {
   "cell_type": "code",
   "execution_count": 27,
   "id": "tender-conversion",
   "metadata": {
    "execution": {
     "iopub.execute_input": "2021-05-24T00:25:48.013283Z",
     "iopub.status.busy": "2021-05-24T00:25:48.012547Z",
     "iopub.status.idle": "2021-05-24T00:25:48.014901Z",
     "shell.execute_reply": "2021-05-24T00:25:48.014436Z"
    },
    "papermill": {
     "duration": 0.041862,
     "end_time": "2021-05-24T00:25:48.014999",
     "exception": false,
     "start_time": "2021-05-24T00:25:47.973137",
     "status": "completed"
    },
    "tags": []
   },
   "outputs": [],
   "source": [
    "#hide\n",
    "# g['continent'] = g.country"
   ]
  },
  {
   "cell_type": "code",
   "execution_count": 28,
   "id": "substantial-wilderness",
   "metadata": {
    "execution": {
     "iopub.execute_input": "2021-05-24T00:25:48.090819Z",
     "iopub.status.busy": "2021-05-24T00:25:48.090171Z",
     "iopub.status.idle": "2021-05-24T00:25:48.092519Z",
     "shell.execute_reply": "2021-05-24T00:25:48.092052Z"
    },
    "papermill": {
     "duration": 0.041509,
     "end_time": "2021-05-24T00:25:48.092636",
     "exception": false,
     "start_time": "2021-05-24T00:25:48.051127",
     "status": "completed"
    },
    "tags": []
   },
   "outputs": [],
   "source": [
    "#hide\n",
    "# cols = list(g.columns.values)"
   ]
  },
  {
   "cell_type": "code",
   "execution_count": 29,
   "id": "solved-farming",
   "metadata": {
    "execution": {
     "iopub.execute_input": "2021-05-24T00:25:48.165064Z",
     "iopub.status.busy": "2021-05-24T00:25:48.164278Z",
     "iopub.status.idle": "2021-05-24T00:25:48.166689Z",
     "shell.execute_reply": "2021-05-24T00:25:48.166109Z"
    },
    "papermill": {
     "duration": 0.039792,
     "end_time": "2021-05-24T00:25:48.166814",
     "exception": false,
     "start_time": "2021-05-24T00:25:48.127022",
     "status": "completed"
    },
    "tags": []
   },
   "outputs": [],
   "source": [
    "#hide\n",
    "# cols.insert(0, cols.pop())"
   ]
  },
  {
   "cell_type": "code",
   "execution_count": 30,
   "id": "executed-adoption",
   "metadata": {
    "execution": {
     "iopub.execute_input": "2021-05-24T00:25:48.241664Z",
     "iopub.status.busy": "2021-05-24T00:25:48.240960Z",
     "iopub.status.idle": "2021-05-24T00:25:48.243132Z",
     "shell.execute_reply": "2021-05-24T00:25:48.243673Z"
    },
    "papermill": {
     "duration": 0.041078,
     "end_time": "2021-05-24T00:25:48.243783",
     "exception": false,
     "start_time": "2021-05-24T00:25:48.202705",
     "status": "completed"
    },
    "tags": []
   },
   "outputs": [],
   "source": [
    "#hide\n",
    "# g = g[cols]"
   ]
  },
  {
   "cell_type": "code",
   "execution_count": 31,
   "id": "subject-dublin",
   "metadata": {
    "execution": {
     "iopub.execute_input": "2021-05-24T00:25:48.317367Z",
     "iopub.status.busy": "2021-05-24T00:25:48.316760Z",
     "iopub.status.idle": "2021-05-24T00:25:48.319093Z",
     "shell.execute_reply": "2021-05-24T00:25:48.318669Z"
    },
    "papermill": {
     "duration": 0.039949,
     "end_time": "2021-05-24T00:25:48.319188",
     "exception": false,
     "start_time": "2021-05-24T00:25:48.279239",
     "status": "completed"
    },
    "tags": []
   },
   "outputs": [],
   "source": [
    "#hide\n",
    "# g['continent'] = g['continent'].map(mapping['map.continent'])"
   ]
  },
  {
   "cell_type": "code",
   "execution_count": 32,
   "id": "freelance-scout",
   "metadata": {
    "execution": {
     "iopub.execute_input": "2021-05-24T00:25:48.394173Z",
     "iopub.status.busy": "2021-05-24T00:25:48.393484Z",
     "iopub.status.idle": "2021-05-24T00:25:48.395629Z",
     "shell.execute_reply": "2021-05-24T00:25:48.396088Z"
    },
    "papermill": {
     "duration": 0.042791,
     "end_time": "2021-05-24T00:25:48.396210",
     "exception": false,
     "start_time": "2021-05-24T00:25:48.353419",
     "status": "completed"
    },
    "tags": []
   },
   "outputs": [],
   "source": [
    "#hide\n",
    "# g.head()"
   ]
  },
  {
   "cell_type": "code",
   "execution_count": 33,
   "id": "limited-engine",
   "metadata": {
    "execution": {
     "iopub.execute_input": "2021-05-24T00:25:48.469363Z",
     "iopub.status.busy": "2021-05-24T00:25:48.468720Z",
     "iopub.status.idle": "2021-05-24T00:25:48.471034Z",
     "shell.execute_reply": "2021-05-24T00:25:48.470480Z"
    },
    "papermill": {
     "duration": 0.039912,
     "end_time": "2021-05-24T00:25:48.471136",
     "exception": false,
     "start_time": "2021-05-24T00:25:48.431224",
     "status": "completed"
    },
    "tags": []
   },
   "outputs": [],
   "source": [
    "# hide\n",
    "# g['date'] = g['date'].astype('datetime64[ns]')"
   ]
  },
  {
   "cell_type": "code",
   "execution_count": 34,
   "id": "sophisticated-supervisor",
   "metadata": {
    "execution": {
     "iopub.execute_input": "2021-05-24T00:25:48.548633Z",
     "iopub.status.busy": "2021-05-24T00:25:48.547796Z",
     "iopub.status.idle": "2021-05-24T00:25:48.550294Z",
     "shell.execute_reply": "2021-05-24T00:25:48.549662Z"
    },
    "papermill": {
     "duration": 0.042428,
     "end_time": "2021-05-24T00:25:48.550411",
     "exception": false,
     "start_time": "2021-05-24T00:25:48.507983",
     "status": "completed"
    },
    "tags": []
   },
   "outputs": [],
   "source": [
    "#hide\n",
    "# g['date'] = g.date.dt.dayofyear"
   ]
  },
  {
   "cell_type": "code",
   "execution_count": 35,
   "id": "inside-dubai",
   "metadata": {
    "execution": {
     "iopub.execute_input": "2021-05-24T00:25:48.626748Z",
     "iopub.status.busy": "2021-05-24T00:25:48.626073Z",
     "iopub.status.idle": "2021-05-24T00:25:48.628390Z",
     "shell.execute_reply": "2021-05-24T00:25:48.627750Z"
    },
    "papermill": {
     "duration": 0.041777,
     "end_time": "2021-05-24T00:25:48.628499",
     "exception": false,
     "start_time": "2021-05-24T00:25:48.586722",
     "status": "completed"
    },
    "tags": []
   },
   "outputs": [],
   "source": [
    "#hide\n",
    "# g = g.rename(columns= {'continent':'group','country':'name','cases':'value'})"
   ]
  },
  {
   "cell_type": "code",
   "execution_count": 36,
   "id": "fleet-motorcycle",
   "metadata": {
    "execution": {
     "iopub.execute_input": "2021-05-24T00:25:48.708293Z",
     "iopub.status.busy": "2021-05-24T00:25:48.707670Z",
     "iopub.status.idle": "2021-05-24T00:25:48.709627Z",
     "shell.execute_reply": "2021-05-24T00:25:48.710298Z"
    },
    "papermill": {
     "duration": 0.044002,
     "end_time": "2021-05-24T00:25:48.710447",
     "exception": false,
     "start_time": "2021-05-24T00:25:48.666445",
     "status": "completed"
    },
    "tags": []
   },
   "outputs": [],
   "source": [
    "#hide\n",
    "# cols = ['name','group','day','value']"
   ]
  },
  {
   "cell_type": "code",
   "execution_count": 37,
   "id": "continued-sleeping",
   "metadata": {
    "execution": {
     "iopub.execute_input": "2021-05-24T00:25:48.788064Z",
     "iopub.status.busy": "2021-05-24T00:25:48.787334Z",
     "iopub.status.idle": "2021-05-24T00:25:48.789324Z",
     "shell.execute_reply": "2021-05-24T00:25:48.789818Z"
    },
    "papermill": {
     "duration": 0.042425,
     "end_time": "2021-05-24T00:25:48.789930",
     "exception": false,
     "start_time": "2021-05-24T00:25:48.747505",
     "status": "completed"
    },
    "tags": []
   },
   "outputs": [],
   "source": [
    "#hide\n",
    "# g.rename(columns= {'date':'day'},inplace = True)"
   ]
  },
  {
   "cell_type": "code",
   "execution_count": 38,
   "id": "major-fight",
   "metadata": {
    "execution": {
     "iopub.execute_input": "2021-05-24T00:25:48.867570Z",
     "iopub.status.busy": "2021-05-24T00:25:48.866859Z",
     "iopub.status.idle": "2021-05-24T00:25:48.868887Z",
     "shell.execute_reply": "2021-05-24T00:25:48.869367Z"
    },
    "papermill": {
     "duration": 0.04277,
     "end_time": "2021-05-24T00:25:48.869482",
     "exception": false,
     "start_time": "2021-05-24T00:25:48.826712",
     "status": "completed"
    },
    "tags": []
   },
   "outputs": [],
   "source": [
    "#hide\n",
    "# g = g[cols]"
   ]
  },
  {
   "cell_type": "code",
   "execution_count": 39,
   "id": "structured-mobile",
   "metadata": {
    "execution": {
     "iopub.execute_input": "2021-05-24T00:25:48.944823Z",
     "iopub.status.busy": "2021-05-24T00:25:48.944045Z",
     "iopub.status.idle": "2021-05-24T00:25:48.946675Z",
     "shell.execute_reply": "2021-05-24T00:25:48.946142Z"
    },
    "papermill": {
     "duration": 0.041331,
     "end_time": "2021-05-24T00:25:48.946779",
     "exception": false,
     "start_time": "2021-05-24T00:25:48.905448",
     "status": "completed"
    },
    "tags": []
   },
   "outputs": [],
   "source": [
    "# #hide\n",
    "# g = g[g.group.notna()]"
   ]
  },
  {
   "cell_type": "code",
   "execution_count": 40,
   "id": "determined-closing",
   "metadata": {
    "execution": {
     "iopub.execute_input": "2021-05-24T00:25:49.025244Z",
     "iopub.status.busy": "2021-05-24T00:25:49.024555Z",
     "iopub.status.idle": "2021-05-24T00:25:49.026491Z",
     "shell.execute_reply": "2021-05-24T00:25:49.027020Z"
    },
    "papermill": {
     "duration": 0.041935,
     "end_time": "2021-05-24T00:25:49.027172",
     "exception": false,
     "start_time": "2021-05-24T00:25:48.985237",
     "status": "completed"
    },
    "tags": []
   },
   "outputs": [],
   "source": [
    "# #hide\n",
    "# colors = dict(zip(\n",
    "#     [\"Oceania\", \"Europe\", \"Asia\", \"South America\", \"Middle East\", \"North America\", \"Africa\"],\n",
    "#     [\"#adb0ff\", \"#ffb3ff\", \"#90d595\", \"#e48381\", \"#aafbff\", \"#f7bb5f\", \"#eafb50\"]\n",
    "# ))\n",
    "# group_lk = g.set_index('name')['group'].to_dict()"
   ]
  },
  {
   "cell_type": "code",
   "execution_count": null,
   "id": "gross-drinking",
   "metadata": {
    "papermill": {
     "duration": 0.037377,
     "end_time": "2021-05-24T00:25:49.100534",
     "exception": false,
     "start_time": "2021-05-24T00:25:49.063157",
     "status": "completed"
    },
    "tags": []
   },
   "outputs": [],
   "source": []
  },
  {
   "cell_type": "code",
   "execution_count": 41,
   "id": "subject-macintosh",
   "metadata": {
    "execution": {
     "iopub.execute_input": "2021-05-24T00:25:49.183170Z",
     "iopub.status.busy": "2021-05-24T00:25:49.182587Z",
     "iopub.status.idle": "2021-05-24T00:25:49.185142Z",
     "shell.execute_reply": "2021-05-24T00:25:49.184668Z"
    },
    "papermill": {
     "duration": 0.048747,
     "end_time": "2021-05-24T00:25:49.185418",
     "exception": false,
     "start_time": "2021-05-24T00:25:49.136671",
     "status": "completed"
    },
    "tags": []
   },
   "outputs": [],
   "source": [
    "# #hide\n",
    "# fig, ax = plt.subplots(figsize=(15, 8))\n",
    "\n",
    "# def draw_barchart(current_day):\n",
    "#     dff = g[g['day'].eq(current_day)].sort_values(by='value', ascending=True).tail(10)\n",
    "#     ax.clear()\n",
    "#     ax.barh(dff['name'], dff['value'], color=[colors[group_lk[x]] for x in dff['name']])\n",
    "#     dx = dff['value'].max() / 200\n",
    "    \n",
    "#     for i, (value, name) in enumerate(zip(dff['value'], dff['name'])):\n",
    "#         ax.text(value-dx, i,     name,           size=14, weight=600, ha='right', va='bottom')\n",
    "#         ax.text(value-dx, i-.25, group_lk[name], size=10, color='#444444', ha='right', va='baseline')\n",
    "#         ax.text(value+dx, i,     f'{value:,.0f}',  size=14, ha='left',  va='center')\n",
    "#     ax.text(1, 0.4, current_day, transform=ax.transAxes, color='#777777', size=46, ha='right', weight=800)\n",
    "#     ax.text(0, 1.06, 'Population (thousands)', transform=ax.transAxes, size=12, color='#777777')\n",
    "#     ax.xaxis.set_major_formatter(ticker.StrMethodFormatter('{x:,.0f}'))\n",
    "#     ax.xaxis.set_ticks_position('top')\n",
    "#     ax.tick_params(axis='x', colors='#777777', labelsize=12)\n",
    "#     ax.set_yticks([])\n",
    "#     ax.margins(0, 0.01)\n",
    "#     ax.grid(which='major', axis='x', linestyle='-')\n",
    "#     ax.set_axisbelow(True)\n",
    "    \n",
    "#     ax.text(0, 1.15, 'Coronavirus',\n",
    "#             transform=ax.transAxes, size=24, weight=600, ha='left', va='top')\n",
    "# #     ax.text(1, 0, 'by @pratapvardhan; credit @jburnmurdoch', transform=ax.transAxes, color='#777777', ha='right',\n",
    "# #             bbox=dict(facecolor='white', alpha=0.8, edgecolor='white'))\n",
    "#     plt.box(False)"
   ]
  },
  {
   "cell_type": "code",
   "execution_count": 42,
   "id": "sexual-wages",
   "metadata": {
    "execution": {
     "iopub.execute_input": "2021-05-24T00:25:49.264800Z",
     "iopub.status.busy": "2021-05-24T00:25:49.264118Z",
     "iopub.status.idle": "2021-05-24T00:25:49.266838Z",
     "shell.execute_reply": "2021-05-24T00:25:49.266340Z"
    },
    "papermill": {
     "duration": 0.045423,
     "end_time": "2021-05-24T00:25:49.267119",
     "exception": false,
     "start_time": "2021-05-24T00:25:49.221696",
     "status": "completed"
    },
    "tags": []
   },
   "outputs": [],
   "source": [
    "# #hide_input\n",
    "# fig, ax = plt.subplots(figsize=(15, 8))\n",
    "# animator = animation.FuncAnimation(fig, draw_barchart, frames=range(g.day.values.min(), g.day.values.max()))\n",
    "# HTML(animator.to_jshtml())\n",
    "# # or use animator.to_html5_video() or animator.save() "
   ]
  },
  {
   "cell_type": "code",
   "execution_count": null,
   "id": "australian-container",
   "metadata": {
    "papermill": {
     "duration": 0.037259,
     "end_time": "2021-05-24T00:25:49.343038",
     "exception": false,
     "start_time": "2021-05-24T00:25:49.305779",
     "status": "completed"
    },
    "tags": []
   },
   "outputs": [],
   "source": []
  },
  {
   "cell_type": "code",
   "execution_count": null,
   "id": "mediterranean-pontiac",
   "metadata": {
    "papermill": {
     "duration": 0.039416,
     "end_time": "2021-05-24T00:25:49.421624",
     "exception": false,
     "start_time": "2021-05-24T00:25:49.382208",
     "status": "completed"
    },
    "tags": []
   },
   "outputs": [],
   "source": []
  },
  {
   "cell_type": "code",
   "execution_count": null,
   "id": "aging-legislature",
   "metadata": {
    "papermill": {
     "duration": 0.040319,
     "end_time": "2021-05-24T00:25:49.500471",
     "exception": false,
     "start_time": "2021-05-24T00:25:49.460152",
     "status": "completed"
    },
    "tags": []
   },
   "outputs": [],
   "source": []
  }
 ],
 "metadata": {
  "kernelspec": {
   "display_name": "Python 3",
   "language": "python",
   "name": "python3"
  },
  "language_info": {
   "codemirror_mode": {
    "name": "ipython",
    "version": 3
   },
   "file_extension": ".py",
   "mimetype": "text/x-python",
   "name": "python",
   "nbconvert_exporter": "python",
   "pygments_lexer": "ipython3",
   "version": "3.6.13"
  },
  "papermill": {
   "duration": 7.328517,
   "end_time": "2021-05-24T00:25:50.730688",
   "environment_variables": {},
   "exception": null,
   "input_path": "2020-03-21-covid19exp.ipynb",
   "output_path": "2020-03-21-covid19exp.ipynb",
   "parameters": {},
   "start_time": "2021-05-24T00:25:43.402171",
   "version": "2.0.0"
  }
 },
 "nbformat": 4,
 "nbformat_minor": 5
}