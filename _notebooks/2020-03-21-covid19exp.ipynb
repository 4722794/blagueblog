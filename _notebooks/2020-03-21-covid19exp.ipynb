{
 "cells": [
  {
   "cell_type": "markdown",
   "id": "muslim-click",
   "metadata": {
    "papermill": {
     "duration": 0.034707,
     "end_time": "2022-07-24T00:47:17.069519",
     "exception": false,
     "start_time": "2022-07-24T00:47:17.034812",
     "status": "completed"
    },
    "tags": []
   },
   "source": [
    "# COVID-19 Case Race\n",
    "> A race chart to see rising cases around the world\n",
    "\n",
    "- author: Hargun Oberoi\n",
    "- image: images/covid-overview.png\n",
    "- hide: false\n",
    "- badges: false"
   ]
  },
  {
   "cell_type": "code",
   "execution_count": 1,
   "id": "proof-material",
   "metadata": {
    "execution": {
     "iopub.execute_input": "2022-07-24T00:47:17.132758Z",
     "iopub.status.busy": "2022-07-24T00:47:17.132181Z",
     "iopub.status.idle": "2022-07-24T00:47:17.448662Z",
     "shell.execute_reply": "2022-07-24T00:47:17.448150Z"
    },
    "papermill": {
     "duration": 0.348732,
     "end_time": "2022-07-24T00:47:17.448787",
     "exception": false,
     "start_time": "2022-07-24T00:47:17.100055",
     "status": "completed"
    },
    "tags": []
   },
   "outputs": [],
   "source": [
    "#hide\n",
    "import numpy as np\n",
    "import pandas as pd\n",
    "from jinja2 import Template\n",
    "from IPython.display import HTML"
   ]
  },
  {
   "cell_type": "code",
   "execution_count": 2,
   "id": "developed-terminology",
   "metadata": {
    "execution": {
     "iopub.execute_input": "2022-07-24T00:47:17.512823Z",
     "iopub.status.busy": "2022-07-24T00:47:17.512249Z",
     "iopub.status.idle": "2022-07-24T00:47:17.514387Z",
     "shell.execute_reply": "2022-07-24T00:47:17.514914Z"
    },
    "papermill": {
     "duration": 0.036045,
     "end_time": "2022-07-24T00:47:17.515029",
     "exception": false,
     "start_time": "2022-07-24T00:47:17.478984",
     "status": "completed"
    },
    "tags": []
   },
   "outputs": [],
   "source": [
    "#hide\n",
    "\n",
    "# FETCH\n",
    "base_url = 'https://raw.githubusercontent.com/pratapvardhan/notebooks/master/covid19/'\n",
    "paths = {\n",
    "    'mapping': base_url + 'mapping_countries.csv',\n",
    "    'overview': base_url + 'overview.tpl'\n",
    "}"
   ]
  },
  {
   "cell_type": "code",
   "execution_count": 3,
   "id": "dynamic-saver",
   "metadata": {
    "execution": {
     "iopub.execute_input": "2022-07-24T00:47:17.582780Z",
     "iopub.status.busy": "2022-07-24T00:47:17.581650Z",
     "iopub.status.idle": "2022-07-24T00:47:17.586084Z",
     "shell.execute_reply": "2022-07-24T00:47:17.585615Z"
    },
    "papermill": {
     "duration": 0.041354,
     "end_time": "2022-07-24T00:47:17.586184",
     "exception": false,
     "start_time": "2022-07-24T00:47:17.544830",
     "status": "completed"
    },
    "tags": []
   },
   "outputs": [
    {
     "data": {
      "text/plain": [
       "'https://raw.githubusercontent.com/pratapvardhan/notebooks/master/covid19/mapping_countries.csv'"
      ]
     },
     "execution_count": 3,
     "metadata": {},
     "output_type": "execute_result"
    }
   ],
   "source": [
    "#hide\n",
    "paths['mapping']"
   ]
  },
  {
   "cell_type": "code",
   "execution_count": 4,
   "id": "urban-software",
   "metadata": {
    "execution": {
     "iopub.execute_input": "2022-07-24T00:47:17.650932Z",
     "iopub.status.busy": "2022-07-24T00:47:17.650344Z",
     "iopub.status.idle": "2022-07-24T00:47:17.652847Z",
     "shell.execute_reply": "2022-07-24T00:47:17.652399Z"
    },
    "papermill": {
     "duration": 0.036658,
     "end_time": "2022-07-24T00:47:17.652946",
     "exception": false,
     "start_time": "2022-07-24T00:47:17.616288",
     "status": "completed"
    },
    "tags": []
   },
   "outputs": [],
   "source": [
    "#hide\n",
    "def get_mappings(url):\n",
    "    df = pd.read_csv(url)\n",
    "    return {\n",
    "        'df': df,\n",
    "        'replace.country': dict(df.dropna(subset=['Name']).set_index('Country')['Name']),\n",
    "        'map.continent': dict(df.set_index('Name')['Continent'])\n",
    "    }"
   ]
  },
  {
   "cell_type": "code",
   "execution_count": 5,
   "id": "intimate-machinery",
   "metadata": {
    "execution": {
     "iopub.execute_input": "2022-07-24T00:47:17.717337Z",
     "iopub.status.busy": "2022-07-24T00:47:17.716776Z",
     "iopub.status.idle": "2022-07-24T00:47:17.765320Z",
     "shell.execute_reply": "2022-07-24T00:47:17.764859Z"
    },
    "papermill": {
     "duration": 0.082571,
     "end_time": "2022-07-24T00:47:17.765421",
     "exception": false,
     "start_time": "2022-07-24T00:47:17.682850",
     "status": "completed"
    },
    "tags": []
   },
   "outputs": [],
   "source": [
    "#hide\n",
    "mapping = get_mappings(paths['mapping'])"
   ]
  },
  {
   "cell_type": "code",
   "execution_count": 6,
   "id": "certified-tactics",
   "metadata": {
    "execution": {
     "iopub.execute_input": "2022-07-24T00:47:17.829946Z",
     "iopub.status.busy": "2022-07-24T00:47:17.829372Z",
     "iopub.status.idle": "2022-07-24T00:47:17.831897Z",
     "shell.execute_reply": "2022-07-24T00:47:17.831445Z"
    },
    "papermill": {
     "duration": 0.036497,
     "end_time": "2022-07-24T00:47:17.831995",
     "exception": false,
     "start_time": "2022-07-24T00:47:17.795498",
     "status": "completed"
    },
    "tags": []
   },
   "outputs": [],
   "source": [
    "#hide\n",
    "def get_template(path):\n",
    "    from urllib.parse import urlparse\n",
    "    if bool(urlparse(path).netloc):\n",
    "        from urllib.request import urlopen\n",
    "        return urlopen(path).read().decode('utf8')\n",
    "    return open(path).read()"
   ]
  },
  {
   "cell_type": "code",
   "execution_count": 7,
   "id": "realistic-blast",
   "metadata": {
    "execution": {
     "iopub.execute_input": "2022-07-24T00:47:17.895944Z",
     "iopub.status.busy": "2022-07-24T00:47:17.895363Z",
     "iopub.status.idle": "2022-07-24T00:47:17.897502Z",
     "shell.execute_reply": "2022-07-24T00:47:17.897931Z"
    },
    "papermill": {
     "duration": 0.0361,
     "end_time": "2022-07-24T00:47:17.898048",
     "exception": false,
     "start_time": "2022-07-24T00:47:17.861948",
     "status": "completed"
    },
    "tags": []
   },
   "outputs": [],
   "source": [
    "#hide\n",
    "def get_frame(name):\n",
    "    url = (\n",
    "        'https://raw.githubusercontent.com/CSSEGISandData/COVID-19/master/csse_covid_19_data/'\n",
    "        f'csse_covid_19_time_series/time_series_covid19_{name}_global.csv')\n",
    "    df = pd.read_csv(url)\n",
    "    # rename countries\n",
    "    df['Country/Region'] = df['Country/Region'].replace(mapping['replace.country'])\n",
    "    return df"
   ]
  },
  {
   "cell_type": "code",
   "execution_count": 8,
   "id": "affiliated-characterization",
   "metadata": {
    "execution": {
     "iopub.execute_input": "2022-07-24T00:47:17.966122Z",
     "iopub.status.busy": "2022-07-24T00:47:17.965528Z",
     "iopub.status.idle": "2022-07-24T00:47:17.967675Z",
     "shell.execute_reply": "2022-07-24T00:47:17.968194Z"
    },
    "papermill": {
     "duration": 0.037362,
     "end_time": "2022-07-24T00:47:17.968302",
     "exception": false,
     "start_time": "2022-07-24T00:47:17.930940",
     "status": "completed"
    },
    "tags": []
   },
   "outputs": [],
   "source": [
    "#hide\n",
    "def get_dates(df):\n",
    "    dt_cols = df.columns[~df.columns.isin(['Province/State', 'Country/Region', 'Lat', 'Long'])]\n",
    "    LAST_DATE_I = -1\n",
    "    # sometimes last column may be empty, then go backwards\n",
    "    for i in range(-1, -len(dt_cols), -1):\n",
    "        if not df[dt_cols[i]].fillna(0).eq(0).all():\n",
    "            LAST_DATE_I = i\n",
    "            break\n",
    "    return LAST_DATE_I, dt_cols"
   ]
  },
  {
   "cell_type": "code",
   "execution_count": 9,
   "id": "recent-optimization",
   "metadata": {
    "execution": {
     "iopub.execute_input": "2022-07-24T00:47:18.032453Z",
     "iopub.status.busy": "2022-07-24T00:47:18.031875Z",
     "iopub.status.idle": "2022-07-24T00:47:18.557993Z",
     "shell.execute_reply": "2022-07-24T00:47:18.558480Z"
    },
    "papermill": {
     "duration": 0.560455,
     "end_time": "2022-07-24T00:47:18.558618",
     "exception": false,
     "start_time": "2022-07-24T00:47:17.998163",
     "status": "completed"
    },
    "tags": []
   },
   "outputs": [],
   "source": [
    "#hide\n",
    "COL_REGION = 'Country/Region'\n",
    "# Confirmed, Recovered, Deaths\n",
    "df = get_frame('confirmed')\n",
    "# dft_: timeseries, dfc_: today country agg\n",
    "dft_cases = df\n",
    "dft_deaths = get_frame('deaths')\n",
    "dft_recovered = get_frame('recovered')\n",
    "LAST_DATE_I, dt_cols = get_dates(df)"
   ]
  },
  {
   "cell_type": "code",
   "execution_count": 10,
   "id": "absolute-copper",
   "metadata": {
    "execution": {
     "iopub.execute_input": "2022-07-24T00:47:18.623938Z",
     "iopub.status.busy": "2022-07-24T00:47:18.623364Z",
     "iopub.status.idle": "2022-07-24T00:47:18.625089Z",
     "shell.execute_reply": "2022-07-24T00:47:18.625638Z"
    },
    "papermill": {
     "duration": 0.036869,
     "end_time": "2022-07-24T00:47:18.625759",
     "exception": false,
     "start_time": "2022-07-24T00:47:18.588890",
     "status": "completed"
    },
    "tags": []
   },
   "outputs": [],
   "source": [
    "#hide\n",
    "LAST_DATE_I, dt_cols = get_dates(df)\n",
    "dt_today =dt_cols[LAST_DATE_I]\n",
    "# dt_5day = dt_cols[LAST_DATE_I - 5]\n",
    "dt_yday = dt_cols[LAST_DATE_I - 1]"
   ]
  },
  {
   "cell_type": "code",
   "execution_count": 11,
   "id": "restricted-sheriff",
   "metadata": {
    "execution": {
     "iopub.execute_input": "2022-07-24T00:47:18.691081Z",
     "iopub.status.busy": "2022-07-24T00:47:18.690521Z",
     "iopub.status.idle": "2022-07-24T00:47:18.697775Z",
     "shell.execute_reply": "2022-07-24T00:47:18.698329Z"
    },
    "papermill": {
     "duration": 0.042364,
     "end_time": "2022-07-24T00:47:18.698444",
     "exception": false,
     "start_time": "2022-07-24T00:47:18.656080",
     "status": "completed"
    },
    "tags": []
   },
   "outputs": [],
   "source": [
    "#hide\n",
    "dfc_cases = dft_cases.groupby(COL_REGION)[dt_today].sum()\n",
    "dfc_deaths = dft_deaths.groupby(COL_REGION)[dt_today].sum()\n",
    "# dfp_cases = dft_cases.groupby(COL_REGION)[dt_5day].sum()\n",
    "# dfp_deaths = dft_deaths.groupby(COL_REGION)[dt_5day].sum()\n",
    "dfp_cases = dft_cases.groupby(COL_REGION)[dt_yday].sum()\n",
    "dfp_deaths = dft_deaths.groupby(COL_REGION)[dt_yday].sum()"
   ]
  },
  {
   "cell_type": "code",
   "execution_count": 12,
   "id": "deluxe-hepatitis",
   "metadata": {
    "execution": {
     "iopub.execute_input": "2022-07-24T00:47:18.761398Z",
     "iopub.status.busy": "2022-07-24T00:47:18.760837Z",
     "iopub.status.idle": "2022-07-24T00:47:18.767973Z",
     "shell.execute_reply": "2022-07-24T00:47:18.767519Z"
    },
    "papermill": {
     "duration": 0.039496,
     "end_time": "2022-07-24T00:47:18.768073",
     "exception": false,
     "start_time": "2022-07-24T00:47:18.728577",
     "status": "completed"
    },
    "tags": []
   },
   "outputs": [],
   "source": [
    "#hide\n",
    "df_table = (pd.DataFrame(dict(Cases = dfc_cases, Deaths = dfc_deaths, PCases = dfp_cases, PDeaths = dfp_deaths))\n",
    "            .sort_values(by = ['Cases','Deaths'], ascending = [False, False])\n",
    "            .reset_index())"
   ]
  },
  {
   "cell_type": "code",
   "execution_count": 13,
   "id": "educational-chancellor",
   "metadata": {
    "execution": {
     "iopub.execute_input": "2022-07-24T00:47:18.834398Z",
     "iopub.status.busy": "2022-07-24T00:47:18.833800Z",
     "iopub.status.idle": "2022-07-24T00:47:18.851384Z",
     "shell.execute_reply": "2022-07-24T00:47:18.850930Z"
    },
    "papermill": {
     "duration": 0.053488,
     "end_time": "2022-07-24T00:47:18.851482",
     "exception": false,
     "start_time": "2022-07-24T00:47:18.797994",
     "status": "completed"
    },
    "tags": []
   },
   "outputs": [
    {
     "data": {
      "text/html": [
       "<div>\n",
       "<style scoped>\n",
       "    .dataframe tbody tr th:only-of-type {\n",
       "        vertical-align: middle;\n",
       "    }\n",
       "\n",
       "    .dataframe tbody tr th {\n",
       "        vertical-align: top;\n",
       "    }\n",
       "\n",
       "    .dataframe thead th {\n",
       "        text-align: right;\n",
       "    }\n",
       "</style>\n",
       "<table border=\"1\" class=\"dataframe\">\n",
       "  <thead>\n",
       "    <tr style=\"text-align: right;\">\n",
       "      <th></th>\n",
       "      <th>Country/Region</th>\n",
       "      <th>Cases</th>\n",
       "      <th>Deaths</th>\n",
       "      <th>PCases</th>\n",
       "      <th>PDeaths</th>\n",
       "      <th>Cases (+)</th>\n",
       "      <th>Deaths (+)</th>\n",
       "      <th>Fatality Rate</th>\n",
       "      <th>Continent</th>\n",
       "    </tr>\n",
       "  </thead>\n",
       "  <tbody>\n",
       "    <tr>\n",
       "      <th>0</th>\n",
       "      <td>US</td>\n",
       "      <td>90367064</td>\n",
       "      <td>1026883</td>\n",
       "      <td>90200438</td>\n",
       "      <td>1026294</td>\n",
       "      <td>166626</td>\n",
       "      <td>589</td>\n",
       "      <td>1.14</td>\n",
       "      <td>North America</td>\n",
       "    </tr>\n",
       "    <tr>\n",
       "      <th>1</th>\n",
       "      <td>India</td>\n",
       "      <td>43868476</td>\n",
       "      <td>525997</td>\n",
       "      <td>43847065</td>\n",
       "      <td>525930</td>\n",
       "      <td>21411</td>\n",
       "      <td>67</td>\n",
       "      <td>1.20</td>\n",
       "      <td>Asia</td>\n",
       "    </tr>\n",
       "    <tr>\n",
       "      <th>2</th>\n",
       "      <td>France</td>\n",
       "      <td>33621366</td>\n",
       "      <td>152390</td>\n",
       "      <td>33546628</td>\n",
       "      <td>152277</td>\n",
       "      <td>74738</td>\n",
       "      <td>113</td>\n",
       "      <td>0.45</td>\n",
       "      <td>Europe</td>\n",
       "    </tr>\n",
       "    <tr>\n",
       "      <th>3</th>\n",
       "      <td>Brazil</td>\n",
       "      <td>33555526</td>\n",
       "      <td>676766</td>\n",
       "      <td>33505727</td>\n",
       "      <td>676486</td>\n",
       "      <td>49799</td>\n",
       "      <td>280</td>\n",
       "      <td>2.02</td>\n",
       "      <td>South America</td>\n",
       "    </tr>\n",
       "    <tr>\n",
       "      <th>4</th>\n",
       "      <td>Germany</td>\n",
       "      <td>30331131</td>\n",
       "      <td>143177</td>\n",
       "      <td>30239122</td>\n",
       "      <td>143061</td>\n",
       "      <td>92009</td>\n",
       "      <td>116</td>\n",
       "      <td>0.47</td>\n",
       "      <td>Europe</td>\n",
       "    </tr>\n",
       "  </tbody>\n",
       "</table>\n",
       "</div>"
      ],
      "text/plain": [
       "  Country/Region     Cases   Deaths    PCases  PDeaths  Cases (+)  Deaths (+)  \\\n",
       "0             US  90367064  1026883  90200438  1026294     166626         589   \n",
       "1          India  43868476   525997  43847065   525930      21411          67   \n",
       "2         France  33621366   152390  33546628   152277      74738         113   \n",
       "3         Brazil  33555526   676766  33505727   676486      49799         280   \n",
       "4        Germany  30331131   143177  30239122   143061      92009         116   \n",
       "\n",
       "   Fatality Rate      Continent  \n",
       "0           1.14  North America  \n",
       "1           1.20           Asia  \n",
       "2           0.45         Europe  \n",
       "3           2.02  South America  \n",
       "4           0.47         Europe  "
      ]
     },
     "execution_count": 13,
     "metadata": {},
     "output_type": "execute_result"
    }
   ],
   "source": [
    "#hide\n",
    "for c in 'Cases, Deaths'.split(', '):\n",
    "    df_table[f'{c} (+)'] = (df_table[c] - df_table[f'P{c}']).clip(0)\n",
    "    #Clip ça veut dire, les chiffres negatif sont interdit\n",
    "df_table['Fatality Rate'] = (100* df_table['Deaths']/ df_table['Cases']).round(2)\n",
    "df_table['Continent'] = df_table['Country/Region'].map(mapping['map.continent'])\n",
    "df_table.head(5)"
   ]
  },
  {
   "cell_type": "code",
   "execution_count": 14,
   "id": "aboriginal-bulgaria",
   "metadata": {
    "execution": {
     "iopub.execute_input": "2022-07-24T00:47:18.917109Z",
     "iopub.status.busy": "2022-07-24T00:47:18.916558Z",
     "iopub.status.idle": "2022-07-24T00:47:18.919517Z",
     "shell.execute_reply": "2022-07-24T00:47:18.919979Z"
    },
    "papermill": {
     "duration": 0.037989,
     "end_time": "2022-07-24T00:47:18.920091",
     "exception": false,
     "start_time": "2022-07-24T00:47:18.882102",
     "status": "completed"
    },
    "tags": []
   },
   "outputs": [],
   "source": [
    "#hide\n",
    "#delete problematic countries from table\n",
    "df_table = df_table[~df_table['Country/Region'].isin(['Cape Verde', 'Cruise Ship', 'Kosovo'])]"
   ]
  },
  {
   "cell_type": "code",
   "execution_count": 15,
   "id": "fantastic-effect",
   "metadata": {
    "execution": {
     "iopub.execute_input": "2022-07-24T00:47:18.987232Z",
     "iopub.status.busy": "2022-07-24T00:47:18.986671Z",
     "iopub.status.idle": "2022-07-24T00:47:19.003941Z",
     "shell.execute_reply": "2022-07-24T00:47:19.003386Z"
    },
    "papermill": {
     "duration": 0.053495,
     "end_time": "2022-07-24T00:47:19.004039",
     "exception": false,
     "start_time": "2022-07-24T00:47:18.950544",
     "status": "completed"
    },
    "tags": []
   },
   "outputs": [
    {
     "data": {
      "text/html": [
       "<div>\n",
       "<style scoped>\n",
       "    .dataframe tbody tr th:only-of-type {\n",
       "        vertical-align: middle;\n",
       "    }\n",
       "\n",
       "    .dataframe tbody tr th {\n",
       "        vertical-align: top;\n",
       "    }\n",
       "\n",
       "    .dataframe thead th {\n",
       "        text-align: right;\n",
       "    }\n",
       "</style>\n",
       "<table border=\"1\" class=\"dataframe\">\n",
       "  <thead>\n",
       "    <tr style=\"text-align: right;\">\n",
       "      <th></th>\n",
       "      <th>Country/Region</th>\n",
       "      <th>Cases</th>\n",
       "      <th>Deaths</th>\n",
       "      <th>PCases</th>\n",
       "      <th>PDeaths</th>\n",
       "      <th>Cases (+)</th>\n",
       "      <th>Deaths (+)</th>\n",
       "      <th>Fatality Rate</th>\n",
       "      <th>Continent</th>\n",
       "    </tr>\n",
       "  </thead>\n",
       "  <tbody>\n",
       "    <tr>\n",
       "      <th>0</th>\n",
       "      <td>US</td>\n",
       "      <td>90367064</td>\n",
       "      <td>1026883</td>\n",
       "      <td>90200438</td>\n",
       "      <td>1026294</td>\n",
       "      <td>166626</td>\n",
       "      <td>589</td>\n",
       "      <td>1.1</td>\n",
       "      <td>North America</td>\n",
       "    </tr>\n",
       "    <tr>\n",
       "      <th>1</th>\n",
       "      <td>India</td>\n",
       "      <td>43868476</td>\n",
       "      <td>525997</td>\n",
       "      <td>43847065</td>\n",
       "      <td>525930</td>\n",
       "      <td>21411</td>\n",
       "      <td>67</td>\n",
       "      <td>1.2</td>\n",
       "      <td>Asia</td>\n",
       "    </tr>\n",
       "    <tr>\n",
       "      <th>2</th>\n",
       "      <td>France</td>\n",
       "      <td>33621366</td>\n",
       "      <td>152390</td>\n",
       "      <td>33546628</td>\n",
       "      <td>152277</td>\n",
       "      <td>74738</td>\n",
       "      <td>113</td>\n",
       "      <td>0.5</td>\n",
       "      <td>Europe</td>\n",
       "    </tr>\n",
       "    <tr>\n",
       "      <th>3</th>\n",
       "      <td>Brazil</td>\n",
       "      <td>33555526</td>\n",
       "      <td>676766</td>\n",
       "      <td>33505727</td>\n",
       "      <td>676486</td>\n",
       "      <td>49799</td>\n",
       "      <td>280</td>\n",
       "      <td>2.0</td>\n",
       "      <td>South America</td>\n",
       "    </tr>\n",
       "    <tr>\n",
       "      <th>4</th>\n",
       "      <td>Germany</td>\n",
       "      <td>30331131</td>\n",
       "      <td>143177</td>\n",
       "      <td>30239122</td>\n",
       "      <td>143061</td>\n",
       "      <td>92009</td>\n",
       "      <td>116</td>\n",
       "      <td>0.5</td>\n",
       "      <td>Europe</td>\n",
       "    </tr>\n",
       "  </tbody>\n",
       "</table>\n",
       "</div>"
      ],
      "text/plain": [
       "  Country/Region     Cases   Deaths    PCases  PDeaths  Cases (+)  Deaths (+)  \\\n",
       "0             US  90367064  1026883  90200438  1026294     166626         589   \n",
       "1          India  43868476   525997  43847065   525930      21411          67   \n",
       "2         France  33621366   152390  33546628   152277      74738         113   \n",
       "3         Brazil  33555526   676766  33505727   676486      49799         280   \n",
       "4        Germany  30331131   143177  30239122   143061      92009         116   \n",
       "\n",
       "   Fatality Rate      Continent  \n",
       "0            1.1  North America  \n",
       "1            1.2           Asia  \n",
       "2            0.5         Europe  \n",
       "3            2.0  South America  \n",
       "4            0.5         Europe  "
      ]
     },
     "execution_count": 15,
     "metadata": {},
     "output_type": "execute_result"
    }
   ],
   "source": [
    "#hide\n",
    "df_table = (pd.DataFrame(dict(Cases=dfc_cases, Deaths=dfc_deaths, PCases=dfp_cases, PDeaths=dfp_deaths))\n",
    "             .sort_values(by=['Cases', 'Deaths'], ascending=[False, False])\n",
    "             .reset_index())\n",
    "df_table.rename(columns={'index': 'Country/Region'}, inplace=True)\n",
    "for c in 'Cases, Deaths'.split(', '):\n",
    "    df_table[f'{c} (+)'] = (df_table[c] - df_table[f'P{c}']).clip(0)  # DATA BUG\n",
    "df_table['Fatality Rate'] = (100 * df_table['Deaths'] / df_table['Cases']).round(1)\n",
    "df_table['Continent'] = df_table['Country/Region'].map(mapping['map.continent'])\n",
    "df_table.head(5)"
   ]
  },
  {
   "cell_type": "code",
   "execution_count": 16,
   "id": "fewer-occasion",
   "metadata": {
    "execution": {
     "iopub.execute_input": "2022-07-24T00:47:19.070676Z",
     "iopub.status.busy": "2022-07-24T00:47:19.070111Z",
     "iopub.status.idle": "2022-07-24T00:47:19.072594Z",
     "shell.execute_reply": "2022-07-24T00:47:19.073056Z"
    },
    "papermill": {
     "duration": 0.037958,
     "end_time": "2022-07-24T00:47:19.073165",
     "exception": false,
     "start_time": "2022-07-24T00:47:19.035207",
     "status": "completed"
    },
    "tags": []
   },
   "outputs": [],
   "source": [
    "#hide\n",
    "#delete problematic countries from table\n",
    "df_table = df_table[~df_table['Country/Region'].isin(['Cape Verde', 'Cruise Ship', 'Kosovo'])]"
   ]
  },
  {
   "cell_type": "code",
   "execution_count": 17,
   "id": "related-center",
   "metadata": {
    "execution": {
     "iopub.execute_input": "2022-07-24T00:47:19.140621Z",
     "iopub.status.busy": "2022-07-24T00:47:19.140066Z",
     "iopub.status.idle": "2022-07-24T00:47:19.154466Z",
     "shell.execute_reply": "2022-07-24T00:47:19.153994Z"
    },
    "papermill": {
     "duration": 0.050474,
     "end_time": "2022-07-24T00:47:19.154565",
     "exception": false,
     "start_time": "2022-07-24T00:47:19.104091",
     "status": "completed"
    },
    "tags": []
   },
   "outputs": [],
   "source": [
    "#hide\n",
    "metrics = [df_table.columns[index] for index in [1,2,5,6]]\n",
    "# s_china = df_table[df_table['Country/Region'].eq('China')][metrics].sum().add_prefix('China ')\n",
    "s_us = df_table[df_table['Country/Region'].eq('US')][metrics].sum().add_prefix('US ')\n",
    "s_eu = df_table[df_table['Continent'].eq('Europe')][metrics].sum().add_prefix('EU ')\n",
    "s_ind = df_table[df_table['Country/Region'].eq('India')][metrics].sum().add_prefix('India ')\n",
    "summary = {'updated': pd.to_datetime(dt_today), 'since': pd.to_datetime(dt_yday)}\n",
    "summary = {'updated': pd.to_datetime(dt_today), 'since': pd.to_datetime(dt_yday)}\n",
    "summary = {**summary, **df_table[metrics].sum(), **s_ind, **s_us, **s_eu}"
   ]
  },
  {
   "cell_type": "code",
   "execution_count": 18,
   "id": "engaging-syndrome",
   "metadata": {
    "execution": {
     "iopub.execute_input": "2022-07-24T00:47:19.220988Z",
     "iopub.status.busy": "2022-07-24T00:47:19.220427Z",
     "iopub.status.idle": "2022-07-24T00:47:19.237665Z",
     "shell.execute_reply": "2022-07-24T00:47:19.238171Z"
    },
    "papermill": {
     "duration": 0.052468,
     "end_time": "2022-07-24T00:47:19.238291",
     "exception": false,
     "start_time": "2022-07-24T00:47:19.185823",
     "status": "completed"
    },
    "tags": []
   },
   "outputs": [],
   "source": [
    "#hide\n",
    "dft_ct_new_cases = dft_cases.groupby(COL_REGION)[dt_cols].sum().diff(axis=1).fillna(0).astype(int)"
   ]
  },
  {
   "cell_type": "code",
   "execution_count": 19,
   "id": "neutral-assignment",
   "metadata": {
    "execution": {
     "iopub.execute_input": "2022-07-24T00:47:19.305042Z",
     "iopub.status.busy": "2022-07-24T00:47:19.304479Z",
     "iopub.status.idle": "2022-07-24T00:47:19.306865Z",
     "shell.execute_reply": "2022-07-24T00:47:19.307269Z"
    },
    "papermill": {
     "duration": 0.038132,
     "end_time": "2022-07-24T00:47:19.307384",
     "exception": false,
     "start_time": "2022-07-24T00:47:19.269252",
     "status": "completed"
    },
    "tags": []
   },
   "outputs": [],
   "source": [
    "#hide\n",
    "everydaycases = dft_ct_new_cases.cumsum(axis=1)"
   ]
  },
  {
   "cell_type": "code",
   "execution_count": 20,
   "id": "parliamentary-calgary",
   "metadata": {
    "execution": {
     "iopub.execute_input": "2022-07-24T00:47:19.372899Z",
     "iopub.status.busy": "2022-07-24T00:47:19.372332Z",
     "iopub.status.idle": "2022-07-24T00:47:19.925527Z",
     "shell.execute_reply": "2022-07-24T00:47:19.926018Z"
    },
    "papermill": {
     "duration": 0.587683,
     "end_time": "2022-07-24T00:47:19.926159",
     "exception": false,
     "start_time": "2022-07-24T00:47:19.338476",
     "status": "completed"
    },
    "tags": []
   },
   "outputs": [],
   "source": [
    "#hide\n",
    "import pandas as pd\n",
    "import matplotlib.pyplot as plt\n",
    "import matplotlib.ticker as ticker\n",
    "import matplotlib.animation as animation\n",
    "from IPython.display import HTML"
   ]
  },
  {
   "cell_type": "code",
   "execution_count": 21,
   "id": "lasting-extraction",
   "metadata": {
    "execution": {
     "iopub.execute_input": "2022-07-24T00:47:19.994155Z",
     "iopub.status.busy": "2022-07-24T00:47:19.993578Z",
     "iopub.status.idle": "2022-07-24T00:47:19.999848Z",
     "shell.execute_reply": "2022-07-24T00:47:20.000283Z"
    },
    "papermill": {
     "duration": 0.0431,
     "end_time": "2022-07-24T00:47:20.000402",
     "exception": false,
     "start_time": "2022-07-24T00:47:19.957302",
     "status": "completed"
    },
    "tags": []
   },
   "outputs": [],
   "source": [
    "#hide\n",
    "t = everydaycases.stack()"
   ]
  },
  {
   "cell_type": "code",
   "execution_count": 22,
   "id": "premier-sleeve",
   "metadata": {
    "execution": {
     "iopub.execute_input": "2022-07-24T00:47:20.066499Z",
     "iopub.status.busy": "2022-07-24T00:47:20.065921Z",
     "iopub.status.idle": "2022-07-24T00:47:20.079331Z",
     "shell.execute_reply": "2022-07-24T00:47:20.078809Z"
    },
    "papermill": {
     "duration": 0.047818,
     "end_time": "2022-07-24T00:47:20.079436",
     "exception": false,
     "start_time": "2022-07-24T00:47:20.031618",
     "status": "completed"
    },
    "tags": []
   },
   "outputs": [],
   "source": [
    "#hide\n",
    "g = t.reset_index(['Country/Region'])"
   ]
  },
  {
   "cell_type": "code",
   "execution_count": 23,
   "id": "distributed-pittsburgh",
   "metadata": {
    "execution": {
     "iopub.execute_input": "2022-07-24T00:47:20.147202Z",
     "iopub.status.busy": "2022-07-24T00:47:20.146656Z",
     "iopub.status.idle": "2022-07-24T00:47:20.150496Z",
     "shell.execute_reply": "2022-07-24T00:47:20.150041Z"
    },
    "papermill": {
     "duration": 0.040253,
     "end_time": "2022-07-24T00:47:20.150596",
     "exception": false,
     "start_time": "2022-07-24T00:47:20.110343",
     "status": "completed"
    },
    "tags": []
   },
   "outputs": [],
   "source": [
    "#hide\n",
    "g.index.name = 'date'"
   ]
  },
  {
   "cell_type": "code",
   "execution_count": 24,
   "id": "naked-donor",
   "metadata": {
    "execution": {
     "iopub.execute_input": "2022-07-24T00:47:20.216552Z",
     "iopub.status.busy": "2022-07-24T00:47:20.215979Z",
     "iopub.status.idle": "2022-07-24T00:47:20.220163Z",
     "shell.execute_reply": "2022-07-24T00:47:20.220583Z"
    },
    "papermill": {
     "duration": 0.038632,
     "end_time": "2022-07-24T00:47:20.220703",
     "exception": false,
     "start_time": "2022-07-24T00:47:20.182071",
     "status": "completed"
    },
    "tags": []
   },
   "outputs": [],
   "source": [
    "# #hide\n",
    "# g = g.reset_index(['date'])"
   ]
  },
  {
   "cell_type": "code",
   "execution_count": 25,
   "id": "incomplete-mustang",
   "metadata": {
    "execution": {
     "iopub.execute_input": "2022-07-24T00:47:20.287129Z",
     "iopub.status.busy": "2022-07-24T00:47:20.285743Z",
     "iopub.status.idle": "2022-07-24T00:47:20.287787Z",
     "shell.execute_reply": "2022-07-24T00:47:20.288206Z"
    },
    "papermill": {
     "duration": 0.036522,
     "end_time": "2022-07-24T00:47:20.288316",
     "exception": false,
     "start_time": "2022-07-24T00:47:20.251794",
     "status": "completed"
    },
    "tags": []
   },
   "outputs": [],
   "source": [
    "#hide\n",
    "# g.head()"
   ]
  },
  {
   "cell_type": "code",
   "execution_count": 26,
   "id": "specific-kruger",
   "metadata": {
    "execution": {
     "iopub.execute_input": "2022-07-24T00:47:20.355593Z",
     "iopub.status.busy": "2022-07-24T00:47:20.355013Z",
     "iopub.status.idle": "2022-07-24T00:47:20.358631Z",
     "shell.execute_reply": "2022-07-24T00:47:20.359539Z"
    },
    "papermill": {
     "duration": 0.040426,
     "end_time": "2022-07-24T00:47:20.359656",
     "exception": false,
     "start_time": "2022-07-24T00:47:20.319230",
     "status": "completed"
    },
    "tags": []
   },
   "outputs": [],
   "source": [
    "#hide\n",
    "# g.columns = ['date','country','cases']"
   ]
  },
  {
   "cell_type": "code",
   "execution_count": 27,
   "id": "tender-conversion",
   "metadata": {
    "execution": {
     "iopub.execute_input": "2022-07-24T00:47:20.425947Z",
     "iopub.status.busy": "2022-07-24T00:47:20.424102Z",
     "iopub.status.idle": "2022-07-24T00:47:20.426605Z",
     "shell.execute_reply": "2022-07-24T00:47:20.427026Z"
    },
    "papermill": {
     "duration": 0.036723,
     "end_time": "2022-07-24T00:47:20.427138",
     "exception": false,
     "start_time": "2022-07-24T00:47:20.390415",
     "status": "completed"
    },
    "tags": []
   },
   "outputs": [],
   "source": [
    "#hide\n",
    "# g['continent'] = g.country"
   ]
  },
  {
   "cell_type": "code",
   "execution_count": 28,
   "id": "substantial-wilderness",
   "metadata": {
    "execution": {
     "iopub.execute_input": "2022-07-24T00:47:20.493552Z",
     "iopub.status.busy": "2022-07-24T00:47:20.492201Z",
     "iopub.status.idle": "2022-07-24T00:47:20.494222Z",
     "shell.execute_reply": "2022-07-24T00:47:20.494642Z"
    },
    "papermill": {
     "duration": 0.036499,
     "end_time": "2022-07-24T00:47:20.494750",
     "exception": false,
     "start_time": "2022-07-24T00:47:20.458251",
     "status": "completed"
    },
    "tags": []
   },
   "outputs": [],
   "source": [
    "#hide\n",
    "# cols = list(g.columns.values)"
   ]
  },
  {
   "cell_type": "code",
   "execution_count": 29,
   "id": "solved-farming",
   "metadata": {
    "execution": {
     "iopub.execute_input": "2022-07-24T00:47:20.560411Z",
     "iopub.status.busy": "2022-07-24T00:47:20.559840Z",
     "iopub.status.idle": "2022-07-24T00:47:20.561893Z",
     "shell.execute_reply": "2022-07-24T00:47:20.562421Z"
    },
    "papermill": {
     "duration": 0.036704,
     "end_time": "2022-07-24T00:47:20.562535",
     "exception": false,
     "start_time": "2022-07-24T00:47:20.525831",
     "status": "completed"
    },
    "tags": []
   },
   "outputs": [],
   "source": [
    "#hide\n",
    "# cols.insert(0, cols.pop())"
   ]
  },
  {
   "cell_type": "code",
   "execution_count": 30,
   "id": "executed-adoption",
   "metadata": {
    "execution": {
     "iopub.execute_input": "2022-07-24T00:47:20.627416Z",
     "iopub.status.busy": "2022-07-24T00:47:20.626858Z",
     "iopub.status.idle": "2022-07-24T00:47:20.629674Z",
     "shell.execute_reply": "2022-07-24T00:47:20.630148Z"
    },
    "papermill": {
     "duration": 0.036331,
     "end_time": "2022-07-24T00:47:20.630268",
     "exception": false,
     "start_time": "2022-07-24T00:47:20.593937",
     "status": "completed"
    },
    "tags": []
   },
   "outputs": [],
   "source": [
    "#hide\n",
    "# g = g[cols]"
   ]
  },
  {
   "cell_type": "code",
   "execution_count": 31,
   "id": "subject-dublin",
   "metadata": {
    "execution": {
     "iopub.execute_input": "2022-07-24T00:47:20.695273Z",
     "iopub.status.busy": "2022-07-24T00:47:20.694707Z",
     "iopub.status.idle": "2022-07-24T00:47:20.697180Z",
     "shell.execute_reply": "2022-07-24T00:47:20.696746Z"
    },
    "papermill": {
     "duration": 0.036191,
     "end_time": "2022-07-24T00:47:20.697276",
     "exception": false,
     "start_time": "2022-07-24T00:47:20.661085",
     "status": "completed"
    },
    "tags": []
   },
   "outputs": [],
   "source": [
    "#hide\n",
    "# g['continent'] = g['continent'].map(mapping['map.continent'])"
   ]
  },
  {
   "cell_type": "code",
   "execution_count": 32,
   "id": "freelance-scout",
   "metadata": {
    "execution": {
     "iopub.execute_input": "2022-07-24T00:47:20.766703Z",
     "iopub.status.busy": "2022-07-24T00:47:20.766122Z",
     "iopub.status.idle": "2022-07-24T00:47:20.768585Z",
     "shell.execute_reply": "2022-07-24T00:47:20.768145Z"
    },
    "papermill": {
     "duration": 0.035866,
     "end_time": "2022-07-24T00:47:20.768680",
     "exception": false,
     "start_time": "2022-07-24T00:47:20.732814",
     "status": "completed"
    },
    "tags": []
   },
   "outputs": [],
   "source": [
    "#hide\n",
    "# g.head()"
   ]
  },
  {
   "cell_type": "code",
   "execution_count": 33,
   "id": "limited-engine",
   "metadata": {
    "execution": {
     "iopub.execute_input": "2022-07-24T00:47:20.835920Z",
     "iopub.status.busy": "2022-07-24T00:47:20.835357Z",
     "iopub.status.idle": "2022-07-24T00:47:20.837595Z",
     "shell.execute_reply": "2022-07-24T00:47:20.838037Z"
    },
    "papermill": {
     "duration": 0.038711,
     "end_time": "2022-07-24T00:47:20.838156",
     "exception": false,
     "start_time": "2022-07-24T00:47:20.799445",
     "status": "completed"
    },
    "tags": []
   },
   "outputs": [],
   "source": [
    "# hide\n",
    "# g['date'] = g['date'].astype('datetime64[ns]')"
   ]
  },
  {
   "cell_type": "code",
   "execution_count": 34,
   "id": "sophisticated-supervisor",
   "metadata": {
    "execution": {
     "iopub.execute_input": "2022-07-24T00:47:20.903567Z",
     "iopub.status.busy": "2022-07-24T00:47:20.902996Z",
     "iopub.status.idle": "2022-07-24T00:47:20.905425Z",
     "shell.execute_reply": "2022-07-24T00:47:20.904988Z"
    },
    "papermill": {
     "duration": 0.036284,
     "end_time": "2022-07-24T00:47:20.905522",
     "exception": false,
     "start_time": "2022-07-24T00:47:20.869238",
     "status": "completed"
    },
    "tags": []
   },
   "outputs": [],
   "source": [
    "#hide\n",
    "# g['date'] = g.date.dt.dayofyear"
   ]
  },
  {
   "cell_type": "code",
   "execution_count": 35,
   "id": "inside-dubai",
   "metadata": {
    "execution": {
     "iopub.execute_input": "2022-07-24T00:47:20.974598Z",
     "iopub.status.busy": "2022-07-24T00:47:20.974020Z",
     "iopub.status.idle": "2022-07-24T00:47:20.977837Z",
     "shell.execute_reply": "2022-07-24T00:47:20.978269Z"
    },
    "papermill": {
     "duration": 0.038016,
     "end_time": "2022-07-24T00:47:20.978384",
     "exception": false,
     "start_time": "2022-07-24T00:47:20.940368",
     "status": "completed"
    },
    "tags": []
   },
   "outputs": [],
   "source": [
    "#hide\n",
    "# g = g.rename(columns= {'continent':'group','country':'name','cases':'value'})"
   ]
  },
  {
   "cell_type": "code",
   "execution_count": 36,
   "id": "fleet-motorcycle",
   "metadata": {
    "execution": {
     "iopub.execute_input": "2022-07-24T00:47:21.046956Z",
     "iopub.status.busy": "2022-07-24T00:47:21.046390Z",
     "iopub.status.idle": "2022-07-24T00:47:21.049079Z",
     "shell.execute_reply": "2022-07-24T00:47:21.048526Z"
    },
    "papermill": {
     "duration": 0.039945,
     "end_time": "2022-07-24T00:47:21.049175",
     "exception": false,
     "start_time": "2022-07-24T00:47:21.009230",
     "status": "completed"
    },
    "tags": []
   },
   "outputs": [],
   "source": [
    "#hide\n",
    "# cols = ['name','group','day','value']"
   ]
  },
  {
   "cell_type": "code",
   "execution_count": 37,
   "id": "continued-sleeping",
   "metadata": {
    "execution": {
     "iopub.execute_input": "2022-07-24T00:47:21.114338Z",
     "iopub.status.busy": "2022-07-24T00:47:21.113736Z",
     "iopub.status.idle": "2022-07-24T00:47:21.115643Z",
     "shell.execute_reply": "2022-07-24T00:47:21.116058Z"
    },
    "papermill": {
     "duration": 0.035884,
     "end_time": "2022-07-24T00:47:21.116163",
     "exception": false,
     "start_time": "2022-07-24T00:47:21.080279",
     "status": "completed"
    },
    "tags": []
   },
   "outputs": [],
   "source": [
    "#hide\n",
    "# g.rename(columns= {'date':'day'},inplace = True)"
   ]
  },
  {
   "cell_type": "code",
   "execution_count": 38,
   "id": "major-fight",
   "metadata": {
    "execution": {
     "iopub.execute_input": "2022-07-24T00:47:21.182333Z",
     "iopub.status.busy": "2022-07-24T00:47:21.181732Z",
     "iopub.status.idle": "2022-07-24T00:47:21.184275Z",
     "shell.execute_reply": "2022-07-24T00:47:21.183837Z"
    },
    "papermill": {
     "duration": 0.035801,
     "end_time": "2022-07-24T00:47:21.184371",
     "exception": false,
     "start_time": "2022-07-24T00:47:21.148570",
     "status": "completed"
    },
    "tags": []
   },
   "outputs": [],
   "source": [
    "#hide\n",
    "# g = g[cols]"
   ]
  },
  {
   "cell_type": "code",
   "execution_count": 39,
   "id": "structured-mobile",
   "metadata": {
    "execution": {
     "iopub.execute_input": "2022-07-24T00:47:21.249470Z",
     "iopub.status.busy": "2022-07-24T00:47:21.248903Z",
     "iopub.status.idle": "2022-07-24T00:47:21.251417Z",
     "shell.execute_reply": "2022-07-24T00:47:21.250879Z"
    },
    "papermill": {
     "duration": 0.035998,
     "end_time": "2022-07-24T00:47:21.251513",
     "exception": false,
     "start_time": "2022-07-24T00:47:21.215515",
     "status": "completed"
    },
    "tags": []
   },
   "outputs": [],
   "source": [
    "# #hide\n",
    "# g = g[g.group.notna()]"
   ]
  },
  {
   "cell_type": "code",
   "execution_count": 40,
   "id": "determined-closing",
   "metadata": {
    "execution": {
     "iopub.execute_input": "2022-07-24T00:47:21.316573Z",
     "iopub.status.busy": "2022-07-24T00:47:21.315992Z",
     "iopub.status.idle": "2022-07-24T00:47:21.318507Z",
     "shell.execute_reply": "2022-07-24T00:47:21.317973Z"
    },
    "papermill": {
     "duration": 0.036078,
     "end_time": "2022-07-24T00:47:21.318602",
     "exception": false,
     "start_time": "2022-07-24T00:47:21.282524",
     "status": "completed"
    },
    "tags": []
   },
   "outputs": [],
   "source": [
    "# #hide\n",
    "# colors = dict(zip(\n",
    "#     [\"Oceania\", \"Europe\", \"Asia\", \"South America\", \"Middle East\", \"North America\", \"Africa\"],\n",
    "#     [\"#adb0ff\", \"#ffb3ff\", \"#90d595\", \"#e48381\", \"#aafbff\", \"#f7bb5f\", \"#eafb50\"]\n",
    "# ))\n",
    "# group_lk = g.set_index('name')['group'].to_dict()"
   ]
  },
  {
   "cell_type": "code",
   "execution_count": null,
   "id": "gross-drinking",
   "metadata": {
    "papermill": {
     "duration": 0.030735,
     "end_time": "2022-07-24T00:47:21.380049",
     "exception": false,
     "start_time": "2022-07-24T00:47:21.349314",
     "status": "completed"
    },
    "tags": []
   },
   "outputs": [],
   "source": []
  },
  {
   "cell_type": "code",
   "execution_count": 41,
   "id": "subject-macintosh",
   "metadata": {
    "execution": {
     "iopub.execute_input": "2022-07-24T00:47:21.446529Z",
     "iopub.status.busy": "2022-07-24T00:47:21.445959Z",
     "iopub.status.idle": "2022-07-24T00:47:21.448215Z",
     "shell.execute_reply": "2022-07-24T00:47:21.448647Z"
    },
    "papermill": {
     "duration": 0.037854,
     "end_time": "2022-07-24T00:47:21.448757",
     "exception": false,
     "start_time": "2022-07-24T00:47:21.410903",
     "status": "completed"
    },
    "tags": []
   },
   "outputs": [],
   "source": [
    "# #hide\n",
    "# fig, ax = plt.subplots(figsize=(15, 8))\n",
    "\n",
    "# def draw_barchart(current_day):\n",
    "#     dff = g[g['day'].eq(current_day)].sort_values(by='value', ascending=True).tail(10)\n",
    "#     ax.clear()\n",
    "#     ax.barh(dff['name'], dff['value'], color=[colors[group_lk[x]] for x in dff['name']])\n",
    "#     dx = dff['value'].max() / 200\n",
    "    \n",
    "#     for i, (value, name) in enumerate(zip(dff['value'], dff['name'])):\n",
    "#         ax.text(value-dx, i,     name,           size=14, weight=600, ha='right', va='bottom')\n",
    "#         ax.text(value-dx, i-.25, group_lk[name], size=10, color='#444444', ha='right', va='baseline')\n",
    "#         ax.text(value+dx, i,     f'{value:,.0f}',  size=14, ha='left',  va='center')\n",
    "#     ax.text(1, 0.4, current_day, transform=ax.transAxes, color='#777777', size=46, ha='right', weight=800)\n",
    "#     ax.text(0, 1.06, 'Population (thousands)', transform=ax.transAxes, size=12, color='#777777')\n",
    "#     ax.xaxis.set_major_formatter(ticker.StrMethodFormatter('{x:,.0f}'))\n",
    "#     ax.xaxis.set_ticks_position('top')\n",
    "#     ax.tick_params(axis='x', colors='#777777', labelsize=12)\n",
    "#     ax.set_yticks([])\n",
    "#     ax.margins(0, 0.01)\n",
    "#     ax.grid(which='major', axis='x', linestyle='-')\n",
    "#     ax.set_axisbelow(True)\n",
    "    \n",
    "#     ax.text(0, 1.15, 'Coronavirus',\n",
    "#             transform=ax.transAxes, size=24, weight=600, ha='left', va='top')\n",
    "# #     ax.text(1, 0, 'by @pratapvardhan; credit @jburnmurdoch', transform=ax.transAxes, color='#777777', ha='right',\n",
    "# #             bbox=dict(facecolor='white', alpha=0.8, edgecolor='white'))\n",
    "#     plt.box(False)"
   ]
  },
  {
   "cell_type": "code",
   "execution_count": 42,
   "id": "sexual-wages",
   "metadata": {
    "execution": {
     "iopub.execute_input": "2022-07-24T00:47:21.513592Z",
     "iopub.status.busy": "2022-07-24T00:47:21.513022Z",
     "iopub.status.idle": "2022-07-24T00:47:21.515580Z",
     "shell.execute_reply": "2022-07-24T00:47:21.515052Z"
    },
    "papermill": {
     "duration": 0.036026,
     "end_time": "2022-07-24T00:47:21.515675",
     "exception": false,
     "start_time": "2022-07-24T00:47:21.479649",
     "status": "completed"
    },
    "tags": []
   },
   "outputs": [],
   "source": [
    "# #hide_input\n",
    "# fig, ax = plt.subplots(figsize=(15, 8))\n",
    "# animator = animation.FuncAnimation(fig, draw_barchart, frames=range(g.day.values.min(), g.day.values.max()))\n",
    "# HTML(animator.to_jshtml())\n",
    "# # or use animator.to_html5_video() or animator.save() "
   ]
  },
  {
   "cell_type": "code",
   "execution_count": null,
   "id": "australian-container",
   "metadata": {
    "papermill": {
     "duration": 0.030844,
     "end_time": "2022-07-24T00:47:21.577476",
     "exception": false,
     "start_time": "2022-07-24T00:47:21.546632",
     "status": "completed"
    },
    "tags": []
   },
   "outputs": [],
   "source": []
  },
  {
   "cell_type": "code",
   "execution_count": null,
   "id": "mediterranean-pontiac",
   "metadata": {
    "papermill": {
     "duration": 0.030684,
     "end_time": "2022-07-24T00:47:21.638980",
     "exception": false,
     "start_time": "2022-07-24T00:47:21.608296",
     "status": "completed"
    },
    "tags": []
   },
   "outputs": [],
   "source": []
  },
  {
   "cell_type": "code",
   "execution_count": null,
   "id": "aging-legislature",
   "metadata": {
    "papermill": {
     "duration": 0.030745,
     "end_time": "2022-07-24T00:47:21.700761",
     "exception": false,
     "start_time": "2022-07-24T00:47:21.670016",
     "status": "completed"
    },
    "tags": []
   },
   "outputs": [],
   "source": []
  }
 ],
 "metadata": {
  "kernelspec": {
   "display_name": "Python 3",
   "language": "python",
   "name": "python3"
  },
  "language_info": {
   "codemirror_mode": {
    "name": "ipython",
    "version": 3
   },
   "file_extension": ".py",
   "mimetype": "text/x-python",
   "name": "python",
   "nbconvert_exporter": "python",
   "pygments_lexer": "ipython3",
   "version": "3.6.15"
  },
  "papermill": {
   "duration": 6.167842,
   "end_time": "2022-07-24T00:47:22.047917",
   "environment_variables": {},
   "exception": null,
   "input_path": "2020-03-21-covid19exp.ipynb",
   "output_path": "2020-03-21-covid19exp.ipynb",
   "parameters": {},
   "start_time": "2022-07-24T00:47:15.880075",
   "version": "2.0.0"
  }
 },
 "nbformat": 4,
 "nbformat_minor": 5
}