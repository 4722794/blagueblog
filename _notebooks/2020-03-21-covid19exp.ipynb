{
 "cells": [
  {
   "cell_type": "markdown",
   "id": "muslim-click",
   "metadata": {
    "papermill": {
     "duration": 0.041173,
     "end_time": "2021-07-25T00:20:59.121883",
     "exception": false,
     "start_time": "2021-07-25T00:20:59.080710",
     "status": "completed"
    },
    "tags": []
   },
   "source": [
    "# COVID-19 Case Race\n",
    "> A race chart to see rising cases around the world\n",
    "\n",
    "- author: Hargun Oberoi\n",
    "- image: images/covid-overview.png\n",
    "- hide: false\n",
    "- badges: false"
   ]
  },
  {
   "cell_type": "code",
   "execution_count": 1,
   "id": "proof-material",
   "metadata": {
    "execution": {
     "iopub.execute_input": "2021-07-25T00:20:59.217195Z",
     "iopub.status.busy": "2021-07-25T00:20:59.216551Z",
     "iopub.status.idle": "2021-07-25T00:20:59.584161Z",
     "shell.execute_reply": "2021-07-25T00:20:59.583594Z"
    },
    "papermill": {
     "duration": 0.421034,
     "end_time": "2021-07-25T00:20:59.584289",
     "exception": false,
     "start_time": "2021-07-25T00:20:59.163255",
     "status": "completed"
    },
    "tags": []
   },
   "outputs": [],
   "source": [
    "#hide\n",
    "import numpy as np\n",
    "import pandas as pd\n",
    "from jinja2 import Template\n",
    "from IPython.display import HTML"
   ]
  },
  {
   "cell_type": "code",
   "execution_count": 2,
   "id": "developed-terminology",
   "metadata": {
    "execution": {
     "iopub.execute_input": "2021-07-25T00:20:59.658427Z",
     "iopub.status.busy": "2021-07-25T00:20:59.657728Z",
     "iopub.status.idle": "2021-07-25T00:20:59.661540Z",
     "shell.execute_reply": "2021-07-25T00:20:59.661008Z"
    },
    "papermill": {
     "duration": 0.042118,
     "end_time": "2021-07-25T00:20:59.661640",
     "exception": false,
     "start_time": "2021-07-25T00:20:59.619522",
     "status": "completed"
    },
    "tags": []
   },
   "outputs": [],
   "source": [
    "#hide\n",
    "\n",
    "# FETCH\n",
    "base_url = 'https://raw.githubusercontent.com/pratapvardhan/notebooks/master/covid19/'\n",
    "paths = {\n",
    "    'mapping': base_url + 'mapping_countries.csv',\n",
    "    'overview': base_url + 'overview.tpl'\n",
    "}"
   ]
  },
  {
   "cell_type": "code",
   "execution_count": 3,
   "id": "dynamic-saver",
   "metadata": {
    "execution": {
     "iopub.execute_input": "2021-07-25T00:20:59.743713Z",
     "iopub.status.busy": "2021-07-25T00:20:59.741469Z",
     "iopub.status.idle": "2021-07-25T00:20:59.747458Z",
     "shell.execute_reply": "2021-07-25T00:20:59.746786Z"
    },
    "papermill": {
     "duration": 0.048732,
     "end_time": "2021-07-25T00:20:59.747573",
     "exception": false,
     "start_time": "2021-07-25T00:20:59.698841",
     "status": "completed"
    },
    "tags": []
   },
   "outputs": [
    {
     "data": {
      "text/plain": [
       "'https://raw.githubusercontent.com/pratapvardhan/notebooks/master/covid19/mapping_countries.csv'"
      ]
     },
     "execution_count": 3,
     "metadata": {},
     "output_type": "execute_result"
    }
   ],
   "source": [
    "#hide\n",
    "paths['mapping']"
   ]
  },
  {
   "cell_type": "code",
   "execution_count": 4,
   "id": "urban-software",
   "metadata": {
    "execution": {
     "iopub.execute_input": "2021-07-25T00:20:59.841164Z",
     "iopub.status.busy": "2021-07-25T00:20:59.840334Z",
     "iopub.status.idle": "2021-07-25T00:20:59.843757Z",
     "shell.execute_reply": "2021-07-25T00:20:59.842863Z"
    },
    "papermill": {
     "duration": 0.050121,
     "end_time": "2021-07-25T00:20:59.843869",
     "exception": false,
     "start_time": "2021-07-25T00:20:59.793748",
     "status": "completed"
    },
    "tags": []
   },
   "outputs": [],
   "source": [
    "#hide\n",
    "def get_mappings(url):\n",
    "    df = pd.read_csv(url)\n",
    "    return {\n",
    "        'df': df,\n",
    "        'replace.country': dict(df.dropna(subset=['Name']).set_index('Country')['Name']),\n",
    "        'map.continent': dict(df.set_index('Name')['Continent'])\n",
    "    }"
   ]
  },
  {
   "cell_type": "code",
   "execution_count": 5,
   "id": "intimate-machinery",
   "metadata": {
    "execution": {
     "iopub.execute_input": "2021-07-25T00:20:59.921323Z",
     "iopub.status.busy": "2021-07-25T00:20:59.920688Z",
     "iopub.status.idle": "2021-07-25T00:20:59.959680Z",
     "shell.execute_reply": "2021-07-25T00:20:59.960349Z"
    },
    "papermill": {
     "duration": 0.080454,
     "end_time": "2021-07-25T00:20:59.960470",
     "exception": false,
     "start_time": "2021-07-25T00:20:59.880016",
     "status": "completed"
    },
    "tags": []
   },
   "outputs": [],
   "source": [
    "#hide\n",
    "mapping = get_mappings(paths['mapping'])"
   ]
  },
  {
   "cell_type": "code",
   "execution_count": 6,
   "id": "certified-tactics",
   "metadata": {
    "execution": {
     "iopub.execute_input": "2021-07-25T00:21:00.043463Z",
     "iopub.status.busy": "2021-07-25T00:21:00.042721Z",
     "iopub.status.idle": "2021-07-25T00:21:00.046693Z",
     "shell.execute_reply": "2021-07-25T00:21:00.046087Z"
    },
    "papermill": {
     "duration": 0.049589,
     "end_time": "2021-07-25T00:21:00.046828",
     "exception": false,
     "start_time": "2021-07-25T00:20:59.997239",
     "status": "completed"
    },
    "tags": []
   },
   "outputs": [],
   "source": [
    "#hide\n",
    "def get_template(path):\n",
    "    from urllib.parse import urlparse\n",
    "    if bool(urlparse(path).netloc):\n",
    "        from urllib.request import urlopen\n",
    "        return urlopen(path).read().decode('utf8')\n",
    "    return open(path).read()"
   ]
  },
  {
   "cell_type": "code",
   "execution_count": 7,
   "id": "realistic-blast",
   "metadata": {
    "execution": {
     "iopub.execute_input": "2021-07-25T00:21:00.130078Z",
     "iopub.status.busy": "2021-07-25T00:21:00.129479Z",
     "iopub.status.idle": "2021-07-25T00:21:00.131515Z",
     "shell.execute_reply": "2021-07-25T00:21:00.132003Z"
    },
    "papermill": {
     "duration": 0.043928,
     "end_time": "2021-07-25T00:21:00.132129",
     "exception": false,
     "start_time": "2021-07-25T00:21:00.088201",
     "status": "completed"
    },
    "tags": []
   },
   "outputs": [],
   "source": [
    "#hide\n",
    "def get_frame(name):\n",
    "    url = (\n",
    "        'https://raw.githubusercontent.com/CSSEGISandData/COVID-19/master/csse_covid_19_data/'\n",
    "        f'csse_covid_19_time_series/time_series_covid19_{name}_global.csv')\n",
    "    df = pd.read_csv(url)\n",
    "    # rename countries\n",
    "    df['Country/Region'] = df['Country/Region'].replace(mapping['replace.country'])\n",
    "    return df"
   ]
  },
  {
   "cell_type": "code",
   "execution_count": 8,
   "id": "affiliated-characterization",
   "metadata": {
    "execution": {
     "iopub.execute_input": "2021-07-25T00:21:00.213665Z",
     "iopub.status.busy": "2021-07-25T00:21:00.212907Z",
     "iopub.status.idle": "2021-07-25T00:21:00.215465Z",
     "shell.execute_reply": "2021-07-25T00:21:00.214786Z"
    },
    "papermill": {
     "duration": 0.044498,
     "end_time": "2021-07-25T00:21:00.215665",
     "exception": false,
     "start_time": "2021-07-25T00:21:00.171167",
     "status": "completed"
    },
    "tags": []
   },
   "outputs": [],
   "source": [
    "#hide\n",
    "def get_dates(df):\n",
    "    dt_cols = df.columns[~df.columns.isin(['Province/State', 'Country/Region', 'Lat', 'Long'])]\n",
    "    LAST_DATE_I = -1\n",
    "    # sometimes last column may be empty, then go backwards\n",
    "    for i in range(-1, -len(dt_cols), -1):\n",
    "        if not df[dt_cols[i]].fillna(0).eq(0).all():\n",
    "            LAST_DATE_I = i\n",
    "            break\n",
    "    return LAST_DATE_I, dt_cols"
   ]
  },
  {
   "cell_type": "code",
   "execution_count": 9,
   "id": "recent-optimization",
   "metadata": {
    "execution": {
     "iopub.execute_input": "2021-07-25T00:21:00.293807Z",
     "iopub.status.busy": "2021-07-25T00:21:00.293203Z",
     "iopub.status.idle": "2021-07-25T00:21:00.670764Z",
     "shell.execute_reply": "2021-07-25T00:21:00.670243Z"
    },
    "papermill": {
     "duration": 0.4185,
     "end_time": "2021-07-25T00:21:00.670891",
     "exception": false,
     "start_time": "2021-07-25T00:21:00.252391",
     "status": "completed"
    },
    "tags": []
   },
   "outputs": [],
   "source": [
    "#hide\n",
    "COL_REGION = 'Country/Region'\n",
    "# Confirmed, Recovered, Deaths\n",
    "df = get_frame('confirmed')\n",
    "# dft_: timeseries, dfc_: today country agg\n",
    "dft_cases = df\n",
    "dft_deaths = get_frame('deaths')\n",
    "dft_recovered = get_frame('recovered')\n",
    "LAST_DATE_I, dt_cols = get_dates(df)"
   ]
  },
  {
   "cell_type": "code",
   "execution_count": 10,
   "id": "absolute-copper",
   "metadata": {
    "execution": {
     "iopub.execute_input": "2021-07-25T00:21:00.747898Z",
     "iopub.status.busy": "2021-07-25T00:21:00.747265Z",
     "iopub.status.idle": "2021-07-25T00:21:00.749130Z",
     "shell.execute_reply": "2021-07-25T00:21:00.749631Z"
    },
    "papermill": {
     "duration": 0.041292,
     "end_time": "2021-07-25T00:21:00.749738",
     "exception": false,
     "start_time": "2021-07-25T00:21:00.708446",
     "status": "completed"
    },
    "tags": []
   },
   "outputs": [],
   "source": [
    "#hide\n",
    "LAST_DATE_I, dt_cols = get_dates(df)\n",
    "dt_today =dt_cols[LAST_DATE_I]\n",
    "# dt_5day = dt_cols[LAST_DATE_I - 5]\n",
    "dt_yday = dt_cols[LAST_DATE_I - 1]"
   ]
  },
  {
   "cell_type": "code",
   "execution_count": 11,
   "id": "restricted-sheriff",
   "metadata": {
    "execution": {
     "iopub.execute_input": "2021-07-25T00:21:00.824141Z",
     "iopub.status.busy": "2021-07-25T00:21:00.823580Z",
     "iopub.status.idle": "2021-07-25T00:21:00.832505Z",
     "shell.execute_reply": "2021-07-25T00:21:00.831842Z"
    },
    "papermill": {
     "duration": 0.047172,
     "end_time": "2021-07-25T00:21:00.832667",
     "exception": false,
     "start_time": "2021-07-25T00:21:00.785495",
     "status": "completed"
    },
    "tags": []
   },
   "outputs": [],
   "source": [
    "#hide\n",
    "dfc_cases = dft_cases.groupby(COL_REGION)[dt_today].sum()\n",
    "dfc_deaths = dft_deaths.groupby(COL_REGION)[dt_today].sum()\n",
    "# dfp_cases = dft_cases.groupby(COL_REGION)[dt_5day].sum()\n",
    "# dfp_deaths = dft_deaths.groupby(COL_REGION)[dt_5day].sum()\n",
    "dfp_cases = dft_cases.groupby(COL_REGION)[dt_yday].sum()\n",
    "dfp_deaths = dft_deaths.groupby(COL_REGION)[dt_yday].sum()"
   ]
  },
  {
   "cell_type": "code",
   "execution_count": 12,
   "id": "deluxe-hepatitis",
   "metadata": {
    "execution": {
     "iopub.execute_input": "2021-07-25T00:21:00.911805Z",
     "iopub.status.busy": "2021-07-25T00:21:00.911170Z",
     "iopub.status.idle": "2021-07-25T00:21:00.916507Z",
     "shell.execute_reply": "2021-07-25T00:21:00.916968Z"
    },
    "papermill": {
     "duration": 0.048441,
     "end_time": "2021-07-25T00:21:00.917096",
     "exception": false,
     "start_time": "2021-07-25T00:21:00.868655",
     "status": "completed"
    },
    "tags": []
   },
   "outputs": [],
   "source": [
    "#hide\n",
    "df_table = (pd.DataFrame(dict(Cases = dfc_cases, Deaths = dfc_deaths, PCases = dfp_cases, PDeaths = dfp_deaths))\n",
    "            .sort_values(by = ['Cases','Deaths'], ascending = [False, False])\n",
    "            .reset_index())"
   ]
  },
  {
   "cell_type": "code",
   "execution_count": 13,
   "id": "educational-chancellor",
   "metadata": {
    "execution": {
     "iopub.execute_input": "2021-07-25T00:21:01.002529Z",
     "iopub.status.busy": "2021-07-25T00:21:01.001644Z",
     "iopub.status.idle": "2021-07-25T00:21:01.017013Z",
     "shell.execute_reply": "2021-07-25T00:21:01.016262Z"
    },
    "papermill": {
     "duration": 0.06524,
     "end_time": "2021-07-25T00:21:01.017143",
     "exception": false,
     "start_time": "2021-07-25T00:21:00.951903",
     "status": "completed"
    },
    "tags": []
   },
   "outputs": [
    {
     "data": {
      "text/html": [
       "<div>\n",
       "<style scoped>\n",
       "    .dataframe tbody tr th:only-of-type {\n",
       "        vertical-align: middle;\n",
       "    }\n",
       "\n",
       "    .dataframe tbody tr th {\n",
       "        vertical-align: top;\n",
       "    }\n",
       "\n",
       "    .dataframe thead th {\n",
       "        text-align: right;\n",
       "    }\n",
       "</style>\n",
       "<table border=\"1\" class=\"dataframe\">\n",
       "  <thead>\n",
       "    <tr style=\"text-align: right;\">\n",
       "      <th></th>\n",
       "      <th>Country/Region</th>\n",
       "      <th>Cases</th>\n",
       "      <th>Deaths</th>\n",
       "      <th>PCases</th>\n",
       "      <th>PDeaths</th>\n",
       "      <th>Cases (+)</th>\n",
       "      <th>Deaths (+)</th>\n",
       "      <th>Fatality Rate</th>\n",
       "      <th>Continent</th>\n",
       "    </tr>\n",
       "  </thead>\n",
       "  <tbody>\n",
       "    <tr>\n",
       "      <th>0</th>\n",
       "      <td>US</td>\n",
       "      <td>34400655</td>\n",
       "      <td>610720</td>\n",
       "      <td>34281864</td>\n",
       "      <td>610177</td>\n",
       "      <td>118791</td>\n",
       "      <td>543</td>\n",
       "      <td>1.78</td>\n",
       "      <td>North America</td>\n",
       "    </tr>\n",
       "    <tr>\n",
       "      <th>1</th>\n",
       "      <td>India</td>\n",
       "      <td>31293062</td>\n",
       "      <td>419470</td>\n",
       "      <td>31293062</td>\n",
       "      <td>419470</td>\n",
       "      <td>0</td>\n",
       "      <td>0</td>\n",
       "      <td>1.34</td>\n",
       "      <td>Asia</td>\n",
       "    </tr>\n",
       "    <tr>\n",
       "      <th>2</th>\n",
       "      <td>Brazil</td>\n",
       "      <td>19632443</td>\n",
       "      <td>548340</td>\n",
       "      <td>19523711</td>\n",
       "      <td>547016</td>\n",
       "      <td>108732</td>\n",
       "      <td>1324</td>\n",
       "      <td>2.79</td>\n",
       "      <td>South America</td>\n",
       "    </tr>\n",
       "    <tr>\n",
       "      <th>3</th>\n",
       "      <td>France</td>\n",
       "      <td>6015469</td>\n",
       "      <td>111778</td>\n",
       "      <td>5996060</td>\n",
       "      <td>111749</td>\n",
       "      <td>19409</td>\n",
       "      <td>29</td>\n",
       "      <td>1.86</td>\n",
       "      <td>Europe</td>\n",
       "    </tr>\n",
       "    <tr>\n",
       "      <th>4</th>\n",
       "      <td>Russia</td>\n",
       "      <td>6002303</td>\n",
       "      <td>149796</td>\n",
       "      <td>5979027</td>\n",
       "      <td>149012</td>\n",
       "      <td>23276</td>\n",
       "      <td>784</td>\n",
       "      <td>2.50</td>\n",
       "      <td>Europe</td>\n",
       "    </tr>\n",
       "  </tbody>\n",
       "</table>\n",
       "</div>"
      ],
      "text/plain": [
       "  Country/Region     Cases  Deaths    PCases  PDeaths  Cases (+)  Deaths (+)  \\\n",
       "0             US  34400655  610720  34281864   610177     118791         543   \n",
       "1          India  31293062  419470  31293062   419470          0           0   \n",
       "2         Brazil  19632443  548340  19523711   547016     108732        1324   \n",
       "3         France   6015469  111778   5996060   111749      19409          29   \n",
       "4         Russia   6002303  149796   5979027   149012      23276         784   \n",
       "\n",
       "   Fatality Rate      Continent  \n",
       "0           1.78  North America  \n",
       "1           1.34           Asia  \n",
       "2           2.79  South America  \n",
       "3           1.86         Europe  \n",
       "4           2.50         Europe  "
      ]
     },
     "execution_count": 13,
     "metadata": {},
     "output_type": "execute_result"
    }
   ],
   "source": [
    "#hide\n",
    "for c in 'Cases, Deaths'.split(', '):\n",
    "    df_table[f'{c} (+)'] = (df_table[c] - df_table[f'P{c}']).clip(0)\n",
    "    #Clip ça veut dire, les chiffres negatif sont interdit\n",
    "df_table['Fatality Rate'] = (100* df_table['Deaths']/ df_table['Cases']).round(2)\n",
    "df_table['Continent'] = df_table['Country/Region'].map(mapping['map.continent'])\n",
    "df_table.head(5)"
   ]
  },
  {
   "cell_type": "code",
   "execution_count": 14,
   "id": "aboriginal-bulgaria",
   "metadata": {
    "execution": {
     "iopub.execute_input": "2021-07-25T00:21:01.111804Z",
     "iopub.status.busy": "2021-07-25T00:21:01.111077Z",
     "iopub.status.idle": "2021-07-25T00:21:01.113749Z",
     "shell.execute_reply": "2021-07-25T00:21:01.114274Z"
    },
    "papermill": {
     "duration": 0.046666,
     "end_time": "2021-07-25T00:21:01.114397",
     "exception": false,
     "start_time": "2021-07-25T00:21:01.067731",
     "status": "completed"
    },
    "tags": []
   },
   "outputs": [],
   "source": [
    "#hide\n",
    "#delete problematic countries from table\n",
    "df_table = df_table[~df_table['Country/Region'].isin(['Cape Verde', 'Cruise Ship', 'Kosovo'])]"
   ]
  },
  {
   "cell_type": "code",
   "execution_count": 15,
   "id": "fantastic-effect",
   "metadata": {
    "execution": {
     "iopub.execute_input": "2021-07-25T00:21:01.195032Z",
     "iopub.status.busy": "2021-07-25T00:21:01.194434Z",
     "iopub.status.idle": "2021-07-25T00:21:01.216337Z",
     "shell.execute_reply": "2021-07-25T00:21:01.215867Z"
    },
    "papermill": {
     "duration": 0.066384,
     "end_time": "2021-07-25T00:21:01.216444",
     "exception": false,
     "start_time": "2021-07-25T00:21:01.150060",
     "status": "completed"
    },
    "tags": []
   },
   "outputs": [
    {
     "data": {
      "text/html": [
       "<div>\n",
       "<style scoped>\n",
       "    .dataframe tbody tr th:only-of-type {\n",
       "        vertical-align: middle;\n",
       "    }\n",
       "\n",
       "    .dataframe tbody tr th {\n",
       "        vertical-align: top;\n",
       "    }\n",
       "\n",
       "    .dataframe thead th {\n",
       "        text-align: right;\n",
       "    }\n",
       "</style>\n",
       "<table border=\"1\" class=\"dataframe\">\n",
       "  <thead>\n",
       "    <tr style=\"text-align: right;\">\n",
       "      <th></th>\n",
       "      <th>Country/Region</th>\n",
       "      <th>Cases</th>\n",
       "      <th>Deaths</th>\n",
       "      <th>PCases</th>\n",
       "      <th>PDeaths</th>\n",
       "      <th>Cases (+)</th>\n",
       "      <th>Deaths (+)</th>\n",
       "      <th>Fatality Rate</th>\n",
       "      <th>Continent</th>\n",
       "    </tr>\n",
       "  </thead>\n",
       "  <tbody>\n",
       "    <tr>\n",
       "      <th>0</th>\n",
       "      <td>US</td>\n",
       "      <td>34400655</td>\n",
       "      <td>610720</td>\n",
       "      <td>34281864</td>\n",
       "      <td>610177</td>\n",
       "      <td>118791</td>\n",
       "      <td>543</td>\n",
       "      <td>1.8</td>\n",
       "      <td>North America</td>\n",
       "    </tr>\n",
       "    <tr>\n",
       "      <th>1</th>\n",
       "      <td>India</td>\n",
       "      <td>31293062</td>\n",
       "      <td>419470</td>\n",
       "      <td>31293062</td>\n",
       "      <td>419470</td>\n",
       "      <td>0</td>\n",
       "      <td>0</td>\n",
       "      <td>1.3</td>\n",
       "      <td>Asia</td>\n",
       "    </tr>\n",
       "    <tr>\n",
       "      <th>2</th>\n",
       "      <td>Brazil</td>\n",
       "      <td>19632443</td>\n",
       "      <td>548340</td>\n",
       "      <td>19523711</td>\n",
       "      <td>547016</td>\n",
       "      <td>108732</td>\n",
       "      <td>1324</td>\n",
       "      <td>2.8</td>\n",
       "      <td>South America</td>\n",
       "    </tr>\n",
       "    <tr>\n",
       "      <th>3</th>\n",
       "      <td>France</td>\n",
       "      <td>6015469</td>\n",
       "      <td>111778</td>\n",
       "      <td>5996060</td>\n",
       "      <td>111749</td>\n",
       "      <td>19409</td>\n",
       "      <td>29</td>\n",
       "      <td>1.9</td>\n",
       "      <td>Europe</td>\n",
       "    </tr>\n",
       "    <tr>\n",
       "      <th>4</th>\n",
       "      <td>Russia</td>\n",
       "      <td>6002303</td>\n",
       "      <td>149796</td>\n",
       "      <td>5979027</td>\n",
       "      <td>149012</td>\n",
       "      <td>23276</td>\n",
       "      <td>784</td>\n",
       "      <td>2.5</td>\n",
       "      <td>Europe</td>\n",
       "    </tr>\n",
       "  </tbody>\n",
       "</table>\n",
       "</div>"
      ],
      "text/plain": [
       "  Country/Region     Cases  Deaths    PCases  PDeaths  Cases (+)  Deaths (+)  \\\n",
       "0             US  34400655  610720  34281864   610177     118791         543   \n",
       "1          India  31293062  419470  31293062   419470          0           0   \n",
       "2         Brazil  19632443  548340  19523711   547016     108732        1324   \n",
       "3         France   6015469  111778   5996060   111749      19409          29   \n",
       "4         Russia   6002303  149796   5979027   149012      23276         784   \n",
       "\n",
       "   Fatality Rate      Continent  \n",
       "0            1.8  North America  \n",
       "1            1.3           Asia  \n",
       "2            2.8  South America  \n",
       "3            1.9         Europe  \n",
       "4            2.5         Europe  "
      ]
     },
     "execution_count": 15,
     "metadata": {},
     "output_type": "execute_result"
    }
   ],
   "source": [
    "#hide\n",
    "df_table = (pd.DataFrame(dict(Cases=dfc_cases, Deaths=dfc_deaths, PCases=dfp_cases, PDeaths=dfp_deaths))\n",
    "             .sort_values(by=['Cases', 'Deaths'], ascending=[False, False])\n",
    "             .reset_index())\n",
    "df_table.rename(columns={'index': 'Country/Region'}, inplace=True)\n",
    "for c in 'Cases, Deaths'.split(', '):\n",
    "    df_table[f'{c} (+)'] = (df_table[c] - df_table[f'P{c}']).clip(0)  # DATA BUG\n",
    "df_table['Fatality Rate'] = (100 * df_table['Deaths'] / df_table['Cases']).round(1)\n",
    "df_table['Continent'] = df_table['Country/Region'].map(mapping['map.continent'])\n",
    "df_table.head(5)"
   ]
  },
  {
   "cell_type": "code",
   "execution_count": 16,
   "id": "fewer-occasion",
   "metadata": {
    "execution": {
     "iopub.execute_input": "2021-07-25T00:21:01.295250Z",
     "iopub.status.busy": "2021-07-25T00:21:01.294627Z",
     "iopub.status.idle": "2021-07-25T00:21:01.298133Z",
     "shell.execute_reply": "2021-07-25T00:21:01.297591Z"
    },
    "papermill": {
     "duration": 0.045075,
     "end_time": "2021-07-25T00:21:01.298243",
     "exception": false,
     "start_time": "2021-07-25T00:21:01.253168",
     "status": "completed"
    },
    "tags": []
   },
   "outputs": [],
   "source": [
    "#hide\n",
    "#delete problematic countries from table\n",
    "df_table = df_table[~df_table['Country/Region'].isin(['Cape Verde', 'Cruise Ship', 'Kosovo'])]"
   ]
  },
  {
   "cell_type": "code",
   "execution_count": 17,
   "id": "related-center",
   "metadata": {
    "execution": {
     "iopub.execute_input": "2021-07-25T00:21:01.378201Z",
     "iopub.status.busy": "2021-07-25T00:21:01.377637Z",
     "iopub.status.idle": "2021-07-25T00:21:01.395579Z",
     "shell.execute_reply": "2021-07-25T00:21:01.394745Z"
    },
    "papermill": {
     "duration": 0.061153,
     "end_time": "2021-07-25T00:21:01.395701",
     "exception": false,
     "start_time": "2021-07-25T00:21:01.334548",
     "status": "completed"
    },
    "tags": []
   },
   "outputs": [],
   "source": [
    "#hide\n",
    "metrics = [df_table.columns[index] for index in [1,2,5,6]]\n",
    "# s_china = df_table[df_table['Country/Region'].eq('China')][metrics].sum().add_prefix('China ')\n",
    "s_us = df_table[df_table['Country/Region'].eq('US')][metrics].sum().add_prefix('US ')\n",
    "s_eu = df_table[df_table['Continent'].eq('Europe')][metrics].sum().add_prefix('EU ')\n",
    "s_ind = df_table[df_table['Country/Region'].eq('India')][metrics].sum().add_prefix('India ')\n",
    "summary = {'updated': pd.to_datetime(dt_today), 'since': pd.to_datetime(dt_yday)}\n",
    "summary = {'updated': pd.to_datetime(dt_today), 'since': pd.to_datetime(dt_yday)}\n",
    "summary = {**summary, **df_table[metrics].sum(), **s_ind, **s_us, **s_eu}"
   ]
  },
  {
   "cell_type": "code",
   "execution_count": 18,
   "id": "engaging-syndrome",
   "metadata": {
    "execution": {
     "iopub.execute_input": "2021-07-25T00:21:01.475874Z",
     "iopub.status.busy": "2021-07-25T00:21:01.475190Z",
     "iopub.status.idle": "2021-07-25T00:21:01.487968Z",
     "shell.execute_reply": "2021-07-25T00:21:01.487473Z"
    },
    "papermill": {
     "duration": 0.054983,
     "end_time": "2021-07-25T00:21:01.488078",
     "exception": false,
     "start_time": "2021-07-25T00:21:01.433095",
     "status": "completed"
    },
    "tags": []
   },
   "outputs": [],
   "source": [
    "#hide\n",
    "dft_ct_new_cases = dft_cases.groupby(COL_REGION)[dt_cols].sum().diff(axis=1).fillna(0).astype(int)"
   ]
  },
  {
   "cell_type": "code",
   "execution_count": 19,
   "id": "neutral-assignment",
   "metadata": {
    "execution": {
     "iopub.execute_input": "2021-07-25T00:21:01.563551Z",
     "iopub.status.busy": "2021-07-25T00:21:01.561241Z",
     "iopub.status.idle": "2021-07-25T00:21:01.565546Z",
     "shell.execute_reply": "2021-07-25T00:21:01.566055Z"
    },
    "papermill": {
     "duration": 0.043347,
     "end_time": "2021-07-25T00:21:01.566326",
     "exception": false,
     "start_time": "2021-07-25T00:21:01.522979",
     "status": "completed"
    },
    "tags": []
   },
   "outputs": [],
   "source": [
    "#hide\n",
    "everydaycases = dft_ct_new_cases.cumsum(axis=1)"
   ]
  },
  {
   "cell_type": "code",
   "execution_count": 20,
   "id": "parliamentary-calgary",
   "metadata": {
    "execution": {
     "iopub.execute_input": "2021-07-25T00:21:01.646812Z",
     "iopub.status.busy": "2021-07-25T00:21:01.646222Z",
     "iopub.status.idle": "2021-07-25T00:21:02.383253Z",
     "shell.execute_reply": "2021-07-25T00:21:02.382612Z"
    },
    "papermill": {
     "duration": 0.777804,
     "end_time": "2021-07-25T00:21:02.383409",
     "exception": false,
     "start_time": "2021-07-25T00:21:01.605605",
     "status": "completed"
    },
    "tags": []
   },
   "outputs": [],
   "source": [
    "#hide\n",
    "import pandas as pd\n",
    "import matplotlib.pyplot as plt\n",
    "import matplotlib.ticker as ticker\n",
    "import matplotlib.animation as animation\n",
    "from IPython.display import HTML"
   ]
  },
  {
   "cell_type": "code",
   "execution_count": 21,
   "id": "lasting-extraction",
   "metadata": {
    "execution": {
     "iopub.execute_input": "2021-07-25T00:21:02.470076Z",
     "iopub.status.busy": "2021-07-25T00:21:02.469452Z",
     "iopub.status.idle": "2021-07-25T00:21:02.476625Z",
     "shell.execute_reply": "2021-07-25T00:21:02.476015Z"
    },
    "papermill": {
     "duration": 0.055424,
     "end_time": "2021-07-25T00:21:02.476771",
     "exception": false,
     "start_time": "2021-07-25T00:21:02.421347",
     "status": "completed"
    },
    "tags": []
   },
   "outputs": [],
   "source": [
    "#hide\n",
    "t = everydaycases.stack()"
   ]
  },
  {
   "cell_type": "code",
   "execution_count": 22,
   "id": "premier-sleeve",
   "metadata": {
    "execution": {
     "iopub.execute_input": "2021-07-25T00:21:02.548694Z",
     "iopub.status.busy": "2021-07-25T00:21:02.548147Z",
     "iopub.status.idle": "2021-07-25T00:21:02.558668Z",
     "shell.execute_reply": "2021-07-25T00:21:02.558231Z"
    },
    "papermill": {
     "duration": 0.046058,
     "end_time": "2021-07-25T00:21:02.558810",
     "exception": false,
     "start_time": "2021-07-25T00:21:02.512752",
     "status": "completed"
    },
    "tags": []
   },
   "outputs": [],
   "source": [
    "#hide\n",
    "g = t.reset_index(['Country/Region'])"
   ]
  },
  {
   "cell_type": "code",
   "execution_count": 23,
   "id": "distributed-pittsburgh",
   "metadata": {
    "execution": {
     "iopub.execute_input": "2021-07-25T00:21:02.631949Z",
     "iopub.status.busy": "2021-07-25T00:21:02.631311Z",
     "iopub.status.idle": "2021-07-25T00:21:02.633965Z",
     "shell.execute_reply": "2021-07-25T00:21:02.633443Z"
    },
    "papermill": {
     "duration": 0.041382,
     "end_time": "2021-07-25T00:21:02.634086",
     "exception": false,
     "start_time": "2021-07-25T00:21:02.592704",
     "status": "completed"
    },
    "tags": []
   },
   "outputs": [],
   "source": [
    "#hide\n",
    "g.index.name = 'date'"
   ]
  },
  {
   "cell_type": "code",
   "execution_count": 24,
   "id": "naked-donor",
   "metadata": {
    "execution": {
     "iopub.execute_input": "2021-07-25T00:21:02.710987Z",
     "iopub.status.busy": "2021-07-25T00:21:02.710347Z",
     "iopub.status.idle": "2021-07-25T00:21:02.712861Z",
     "shell.execute_reply": "2021-07-25T00:21:02.713419Z"
    },
    "papermill": {
     "duration": 0.042361,
     "end_time": "2021-07-25T00:21:02.713585",
     "exception": false,
     "start_time": "2021-07-25T00:21:02.671224",
     "status": "completed"
    },
    "tags": []
   },
   "outputs": [],
   "source": [
    "# #hide\n",
    "# g = g.reset_index(['date'])"
   ]
  },
  {
   "cell_type": "code",
   "execution_count": 25,
   "id": "incomplete-mustang",
   "metadata": {
    "execution": {
     "iopub.execute_input": "2021-07-25T00:21:02.787287Z",
     "iopub.status.busy": "2021-07-25T00:21:02.786655Z",
     "iopub.status.idle": "2021-07-25T00:21:02.789191Z",
     "shell.execute_reply": "2021-07-25T00:21:02.788768Z"
    },
    "papermill": {
     "duration": 0.040225,
     "end_time": "2021-07-25T00:21:02.789285",
     "exception": false,
     "start_time": "2021-07-25T00:21:02.749060",
     "status": "completed"
    },
    "tags": []
   },
   "outputs": [],
   "source": [
    "#hide\n",
    "# g.head()"
   ]
  },
  {
   "cell_type": "code",
   "execution_count": 26,
   "id": "specific-kruger",
   "metadata": {
    "execution": {
     "iopub.execute_input": "2021-07-25T00:21:02.863302Z",
     "iopub.status.busy": "2021-07-25T00:21:02.862628Z",
     "iopub.status.idle": "2021-07-25T00:21:02.865227Z",
     "shell.execute_reply": "2021-07-25T00:21:02.864747Z"
    },
    "papermill": {
     "duration": 0.040272,
     "end_time": "2021-07-25T00:21:02.865419",
     "exception": false,
     "start_time": "2021-07-25T00:21:02.825147",
     "status": "completed"
    },
    "tags": []
   },
   "outputs": [],
   "source": [
    "#hide\n",
    "# g.columns = ['date','country','cases']"
   ]
  },
  {
   "cell_type": "code",
   "execution_count": 27,
   "id": "tender-conversion",
   "metadata": {
    "execution": {
     "iopub.execute_input": "2021-07-25T00:21:02.946120Z",
     "iopub.status.busy": "2021-07-25T00:21:02.945528Z",
     "iopub.status.idle": "2021-07-25T00:21:02.947587Z",
     "shell.execute_reply": "2021-07-25T00:21:02.948165Z"
    },
    "papermill": {
     "duration": 0.044438,
     "end_time": "2021-07-25T00:21:02.948293",
     "exception": false,
     "start_time": "2021-07-25T00:21:02.903855",
     "status": "completed"
    },
    "tags": []
   },
   "outputs": [],
   "source": [
    "#hide\n",
    "# g['continent'] = g.country"
   ]
  },
  {
   "cell_type": "code",
   "execution_count": 28,
   "id": "substantial-wilderness",
   "metadata": {
    "execution": {
     "iopub.execute_input": "2021-07-25T00:21:03.031772Z",
     "iopub.status.busy": "2021-07-25T00:21:03.030944Z",
     "iopub.status.idle": "2021-07-25T00:21:03.033108Z",
     "shell.execute_reply": "2021-07-25T00:21:03.033766Z"
    },
    "papermill": {
     "duration": 0.049371,
     "end_time": "2021-07-25T00:21:03.033897",
     "exception": false,
     "start_time": "2021-07-25T00:21:02.984526",
     "status": "completed"
    },
    "tags": []
   },
   "outputs": [],
   "source": [
    "#hide\n",
    "# cols = list(g.columns.values)"
   ]
  },
  {
   "cell_type": "code",
   "execution_count": 29,
   "id": "solved-farming",
   "metadata": {
    "execution": {
     "iopub.execute_input": "2021-07-25T00:21:03.113133Z",
     "iopub.status.busy": "2021-07-25T00:21:03.112259Z",
     "iopub.status.idle": "2021-07-25T00:21:03.114620Z",
     "shell.execute_reply": "2021-07-25T00:21:03.115255Z"
    },
    "papermill": {
     "duration": 0.043458,
     "end_time": "2021-07-25T00:21:03.115403",
     "exception": false,
     "start_time": "2021-07-25T00:21:03.071945",
     "status": "completed"
    },
    "tags": []
   },
   "outputs": [],
   "source": [
    "#hide\n",
    "# cols.insert(0, cols.pop())"
   ]
  },
  {
   "cell_type": "code",
   "execution_count": 30,
   "id": "executed-adoption",
   "metadata": {
    "execution": {
     "iopub.execute_input": "2021-07-25T00:21:03.192509Z",
     "iopub.status.busy": "2021-07-25T00:21:03.191788Z",
     "iopub.status.idle": "2021-07-25T00:21:03.194520Z",
     "shell.execute_reply": "2021-07-25T00:21:03.194016Z"
    },
    "papermill": {
     "duration": 0.042594,
     "end_time": "2021-07-25T00:21:03.194643",
     "exception": false,
     "start_time": "2021-07-25T00:21:03.152049",
     "status": "completed"
    },
    "tags": []
   },
   "outputs": [],
   "source": [
    "#hide\n",
    "# g = g[cols]"
   ]
  },
  {
   "cell_type": "code",
   "execution_count": 31,
   "id": "subject-dublin",
   "metadata": {
    "execution": {
     "iopub.execute_input": "2021-07-25T00:21:03.269929Z",
     "iopub.status.busy": "2021-07-25T00:21:03.269309Z",
     "iopub.status.idle": "2021-07-25T00:21:03.271454Z",
     "shell.execute_reply": "2021-07-25T00:21:03.272008Z"
    },
    "papermill": {
     "duration": 0.041503,
     "end_time": "2021-07-25T00:21:03.272154",
     "exception": false,
     "start_time": "2021-07-25T00:21:03.230651",
     "status": "completed"
    },
    "tags": []
   },
   "outputs": [],
   "source": [
    "#hide\n",
    "# g['continent'] = g['continent'].map(mapping['map.continent'])"
   ]
  },
  {
   "cell_type": "code",
   "execution_count": 32,
   "id": "freelance-scout",
   "metadata": {
    "execution": {
     "iopub.execute_input": "2021-07-25T00:21:03.349230Z",
     "iopub.status.busy": "2021-07-25T00:21:03.348578Z",
     "iopub.status.idle": "2021-07-25T00:21:03.351214Z",
     "shell.execute_reply": "2021-07-25T00:21:03.350655Z"
    },
    "papermill": {
     "duration": 0.042249,
     "end_time": "2021-07-25T00:21:03.351326",
     "exception": false,
     "start_time": "2021-07-25T00:21:03.309077",
     "status": "completed"
    },
    "tags": []
   },
   "outputs": [],
   "source": [
    "#hide\n",
    "# g.head()"
   ]
  },
  {
   "cell_type": "code",
   "execution_count": 33,
   "id": "limited-engine",
   "metadata": {
    "execution": {
     "iopub.execute_input": "2021-07-25T00:21:03.430046Z",
     "iopub.status.busy": "2021-07-25T00:21:03.429261Z",
     "iopub.status.idle": "2021-07-25T00:21:03.432711Z",
     "shell.execute_reply": "2021-07-25T00:21:03.432096Z"
    },
    "papermill": {
     "duration": 0.043383,
     "end_time": "2021-07-25T00:21:03.432854",
     "exception": false,
     "start_time": "2021-07-25T00:21:03.389471",
     "status": "completed"
    },
    "tags": []
   },
   "outputs": [],
   "source": [
    "# hide\n",
    "# g['date'] = g['date'].astype('datetime64[ns]')"
   ]
  },
  {
   "cell_type": "code",
   "execution_count": 34,
   "id": "sophisticated-supervisor",
   "metadata": {
    "execution": {
     "iopub.execute_input": "2021-07-25T00:21:03.511985Z",
     "iopub.status.busy": "2021-07-25T00:21:03.511401Z",
     "iopub.status.idle": "2021-07-25T00:21:03.513456Z",
     "shell.execute_reply": "2021-07-25T00:21:03.513942Z"
    },
    "papermill": {
     "duration": 0.042503,
     "end_time": "2021-07-25T00:21:03.514052",
     "exception": false,
     "start_time": "2021-07-25T00:21:03.471549",
     "status": "completed"
    },
    "tags": []
   },
   "outputs": [],
   "source": [
    "#hide\n",
    "# g['date'] = g.date.dt.dayofyear"
   ]
  },
  {
   "cell_type": "code",
   "execution_count": 35,
   "id": "inside-dubai",
   "metadata": {
    "execution": {
     "iopub.execute_input": "2021-07-25T00:21:03.585997Z",
     "iopub.status.busy": "2021-07-25T00:21:03.585382Z",
     "iopub.status.idle": "2021-07-25T00:21:03.587437Z",
     "shell.execute_reply": "2021-07-25T00:21:03.587890Z"
    },
    "papermill": {
     "duration": 0.039148,
     "end_time": "2021-07-25T00:21:03.588023",
     "exception": false,
     "start_time": "2021-07-25T00:21:03.548875",
     "status": "completed"
    },
    "tags": []
   },
   "outputs": [],
   "source": [
    "#hide\n",
    "# g = g.rename(columns= {'continent':'group','country':'name','cases':'value'})"
   ]
  },
  {
   "cell_type": "code",
   "execution_count": 36,
   "id": "fleet-motorcycle",
   "metadata": {
    "execution": {
     "iopub.execute_input": "2021-07-25T00:21:03.667215Z",
     "iopub.status.busy": "2021-07-25T00:21:03.666482Z",
     "iopub.status.idle": "2021-07-25T00:21:03.669303Z",
     "shell.execute_reply": "2021-07-25T00:21:03.668553Z"
    },
    "papermill": {
     "duration": 0.043624,
     "end_time": "2021-07-25T00:21:03.669417",
     "exception": false,
     "start_time": "2021-07-25T00:21:03.625793",
     "status": "completed"
    },
    "tags": []
   },
   "outputs": [],
   "source": [
    "#hide\n",
    "# cols = ['name','group','day','value']"
   ]
  },
  {
   "cell_type": "code",
   "execution_count": 37,
   "id": "continued-sleeping",
   "metadata": {
    "execution": {
     "iopub.execute_input": "2021-07-25T00:21:03.748002Z",
     "iopub.status.busy": "2021-07-25T00:21:03.747193Z",
     "iopub.status.idle": "2021-07-25T00:21:03.749806Z",
     "shell.execute_reply": "2021-07-25T00:21:03.749300Z"
    },
    "papermill": {
     "duration": 0.043357,
     "end_time": "2021-07-25T00:21:03.749923",
     "exception": false,
     "start_time": "2021-07-25T00:21:03.706566",
     "status": "completed"
    },
    "tags": []
   },
   "outputs": [],
   "source": [
    "#hide\n",
    "# g.rename(columns= {'date':'day'},inplace = True)"
   ]
  },
  {
   "cell_type": "code",
   "execution_count": 38,
   "id": "major-fight",
   "metadata": {
    "execution": {
     "iopub.execute_input": "2021-07-25T00:21:03.828764Z",
     "iopub.status.busy": "2021-07-25T00:21:03.828080Z",
     "iopub.status.idle": "2021-07-25T00:21:03.830623Z",
     "shell.execute_reply": "2021-07-25T00:21:03.830115Z"
    },
    "papermill": {
     "duration": 0.042608,
     "end_time": "2021-07-25T00:21:03.830737",
     "exception": false,
     "start_time": "2021-07-25T00:21:03.788129",
     "status": "completed"
    },
    "tags": []
   },
   "outputs": [],
   "source": [
    "#hide\n",
    "# g = g[cols]"
   ]
  },
  {
   "cell_type": "code",
   "execution_count": 39,
   "id": "structured-mobile",
   "metadata": {
    "execution": {
     "iopub.execute_input": "2021-07-25T00:21:03.909808Z",
     "iopub.status.busy": "2021-07-25T00:21:03.909027Z",
     "iopub.status.idle": "2021-07-25T00:21:03.911319Z",
     "shell.execute_reply": "2021-07-25T00:21:03.911839Z"
    },
    "papermill": {
     "duration": 0.045531,
     "end_time": "2021-07-25T00:21:03.911972",
     "exception": false,
     "start_time": "2021-07-25T00:21:03.866441",
     "status": "completed"
    },
    "tags": []
   },
   "outputs": [],
   "source": [
    "# #hide\n",
    "# g = g[g.group.notna()]"
   ]
  },
  {
   "cell_type": "code",
   "execution_count": 40,
   "id": "determined-closing",
   "metadata": {
    "execution": {
     "iopub.execute_input": "2021-07-25T00:21:03.992776Z",
     "iopub.status.busy": "2021-07-25T00:21:03.991985Z",
     "iopub.status.idle": "2021-07-25T00:21:03.994146Z",
     "shell.execute_reply": "2021-07-25T00:21:03.995943Z"
    },
    "papermill": {
     "duration": 0.045203,
     "end_time": "2021-07-25T00:21:03.996089",
     "exception": false,
     "start_time": "2021-07-25T00:21:03.950886",
     "status": "completed"
    },
    "tags": []
   },
   "outputs": [],
   "source": [
    "# #hide\n",
    "# colors = dict(zip(\n",
    "#     [\"Oceania\", \"Europe\", \"Asia\", \"South America\", \"Middle East\", \"North America\", \"Africa\"],\n",
    "#     [\"#adb0ff\", \"#ffb3ff\", \"#90d595\", \"#e48381\", \"#aafbff\", \"#f7bb5f\", \"#eafb50\"]\n",
    "# ))\n",
    "# group_lk = g.set_index('name')['group'].to_dict()"
   ]
  },
  {
   "cell_type": "code",
   "execution_count": null,
   "id": "gross-drinking",
   "metadata": {
    "papermill": {
     "duration": 0.038536,
     "end_time": "2021-07-25T00:21:04.078676",
     "exception": false,
     "start_time": "2021-07-25T00:21:04.040140",
     "status": "completed"
    },
    "tags": []
   },
   "outputs": [],
   "source": []
  },
  {
   "cell_type": "code",
   "execution_count": 41,
   "id": "subject-macintosh",
   "metadata": {
    "execution": {
     "iopub.execute_input": "2021-07-25T00:21:04.157199Z",
     "iopub.status.busy": "2021-07-25T00:21:04.156517Z",
     "iopub.status.idle": "2021-07-25T00:21:04.158610Z",
     "shell.execute_reply": "2021-07-25T00:21:04.159118Z"
    },
    "papermill": {
     "duration": 0.044109,
     "end_time": "2021-07-25T00:21:04.159274",
     "exception": false,
     "start_time": "2021-07-25T00:21:04.115165",
     "status": "completed"
    },
    "tags": []
   },
   "outputs": [],
   "source": [
    "# #hide\n",
    "# fig, ax = plt.subplots(figsize=(15, 8))\n",
    "\n",
    "# def draw_barchart(current_day):\n",
    "#     dff = g[g['day'].eq(current_day)].sort_values(by='value', ascending=True).tail(10)\n",
    "#     ax.clear()\n",
    "#     ax.barh(dff['name'], dff['value'], color=[colors[group_lk[x]] for x in dff['name']])\n",
    "#     dx = dff['value'].max() / 200\n",
    "    \n",
    "#     for i, (value, name) in enumerate(zip(dff['value'], dff['name'])):\n",
    "#         ax.text(value-dx, i,     name,           size=14, weight=600, ha='right', va='bottom')\n",
    "#         ax.text(value-dx, i-.25, group_lk[name], size=10, color='#444444', ha='right', va='baseline')\n",
    "#         ax.text(value+dx, i,     f'{value:,.0f}',  size=14, ha='left',  va='center')\n",
    "#     ax.text(1, 0.4, current_day, transform=ax.transAxes, color='#777777', size=46, ha='right', weight=800)\n",
    "#     ax.text(0, 1.06, 'Population (thousands)', transform=ax.transAxes, size=12, color='#777777')\n",
    "#     ax.xaxis.set_major_formatter(ticker.StrMethodFormatter('{x:,.0f}'))\n",
    "#     ax.xaxis.set_ticks_position('top')\n",
    "#     ax.tick_params(axis='x', colors='#777777', labelsize=12)\n",
    "#     ax.set_yticks([])\n",
    "#     ax.margins(0, 0.01)\n",
    "#     ax.grid(which='major', axis='x', linestyle='-')\n",
    "#     ax.set_axisbelow(True)\n",
    "    \n",
    "#     ax.text(0, 1.15, 'Coronavirus',\n",
    "#             transform=ax.transAxes, size=24, weight=600, ha='left', va='top')\n",
    "# #     ax.text(1, 0, 'by @pratapvardhan; credit @jburnmurdoch', transform=ax.transAxes, color='#777777', ha='right',\n",
    "# #             bbox=dict(facecolor='white', alpha=0.8, edgecolor='white'))\n",
    "#     plt.box(False)"
   ]
  },
  {
   "cell_type": "code",
   "execution_count": 42,
   "id": "sexual-wages",
   "metadata": {
    "execution": {
     "iopub.execute_input": "2021-07-25T00:21:04.238544Z",
     "iopub.status.busy": "2021-07-25T00:21:04.237935Z",
     "iopub.status.idle": "2021-07-25T00:21:04.239718Z",
     "shell.execute_reply": "2021-07-25T00:21:04.240221Z"
    },
    "papermill": {
     "duration": 0.044658,
     "end_time": "2021-07-25T00:21:04.240347",
     "exception": false,
     "start_time": "2021-07-25T00:21:04.195689",
     "status": "completed"
    },
    "tags": []
   },
   "outputs": [],
   "source": [
    "# #hide_input\n",
    "# fig, ax = plt.subplots(figsize=(15, 8))\n",
    "# animator = animation.FuncAnimation(fig, draw_barchart, frames=range(g.day.values.min(), g.day.values.max()))\n",
    "# HTML(animator.to_jshtml())\n",
    "# # or use animator.to_html5_video() or animator.save() "
   ]
  },
  {
   "cell_type": "code",
   "execution_count": null,
   "id": "australian-container",
   "metadata": {
    "papermill": {
     "duration": 0.039945,
     "end_time": "2021-07-25T00:21:04.320081",
     "exception": false,
     "start_time": "2021-07-25T00:21:04.280136",
     "status": "completed"
    },
    "tags": []
   },
   "outputs": [],
   "source": []
  },
  {
   "cell_type": "code",
   "execution_count": null,
   "id": "mediterranean-pontiac",
   "metadata": {
    "papermill": {
     "duration": 0.041404,
     "end_time": "2021-07-25T00:21:04.401180",
     "exception": false,
     "start_time": "2021-07-25T00:21:04.359776",
     "status": "completed"
    },
    "tags": []
   },
   "outputs": [],
   "source": []
  },
  {
   "cell_type": "code",
   "execution_count": null,
   "id": "aging-legislature",
   "metadata": {
    "papermill": {
     "duration": 0.03688,
     "end_time": "2021-07-25T00:21:04.478862",
     "exception": false,
     "start_time": "2021-07-25T00:21:04.441982",
     "status": "completed"
    },
    "tags": []
   },
   "outputs": [],
   "source": []
  }
 ],
 "metadata": {
  "kernelspec": {
   "display_name": "Python 3",
   "language": "python",
   "name": "python3"
  },
  "language_info": {
   "codemirror_mode": {
    "name": "ipython",
    "version": 3
   },
   "file_extension": ".py",
   "mimetype": "text/x-python",
   "name": "python",
   "nbconvert_exporter": "python",
   "pygments_lexer": "ipython3",
   "version": "3.6.14"
  },
  "papermill": {
   "duration": 6.923679,
   "end_time": "2021-07-25T00:21:04.824918",
   "environment_variables": {},
   "exception": null,
   "input_path": "2020-03-21-covid19exp.ipynb",
   "output_path": "2020-03-21-covid19exp.ipynb",
   "parameters": {},
   "start_time": "2021-07-25T00:20:57.901239",
   "version": "2.0.0"
  }
 },
 "nbformat": 4,
 "nbformat_minor": 5
}