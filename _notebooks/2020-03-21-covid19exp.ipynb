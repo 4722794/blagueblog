{
 "cells": [
  {
   "cell_type": "markdown",
   "id": "muslim-click",
   "metadata": {
    "papermill": {
     "duration": 0.045123,
     "end_time": "2022-03-13T00:32:31.989256",
     "exception": false,
     "start_time": "2022-03-13T00:32:31.944133",
     "status": "completed"
    },
    "tags": []
   },
   "source": [
    "# COVID-19 Case Race\n",
    "> A race chart to see rising cases around the world\n",
    "\n",
    "- author: Hargun Oberoi\n",
    "- image: images/covid-overview.png\n",
    "- hide: false\n",
    "- badges: false"
   ]
  },
  {
   "cell_type": "code",
   "execution_count": 1,
   "id": "proof-material",
   "metadata": {
    "execution": {
     "iopub.execute_input": "2022-03-13T00:32:32.084819Z",
     "iopub.status.busy": "2022-03-13T00:32:32.084107Z",
     "iopub.status.idle": "2022-03-13T00:32:32.498127Z",
     "shell.execute_reply": "2022-03-13T00:32:32.497493Z"
    },
    "papermill": {
     "duration": 0.466173,
     "end_time": "2022-03-13T00:32:32.498304",
     "exception": false,
     "start_time": "2022-03-13T00:32:32.032131",
     "status": "completed"
    },
    "tags": []
   },
   "outputs": [],
   "source": [
    "#hide\n",
    "import numpy as np\n",
    "import pandas as pd\n",
    "from jinja2 import Template\n",
    "from IPython.display import HTML"
   ]
  },
  {
   "cell_type": "code",
   "execution_count": 2,
   "id": "developed-terminology",
   "metadata": {
    "execution": {
     "iopub.execute_input": "2022-03-13T00:32:32.586744Z",
     "iopub.status.busy": "2022-03-13T00:32:32.586017Z",
     "iopub.status.idle": "2022-03-13T00:32:32.590085Z",
     "shell.execute_reply": "2022-03-13T00:32:32.590651Z"
    },
    "papermill": {
     "duration": 0.052766,
     "end_time": "2022-03-13T00:32:32.590829",
     "exception": false,
     "start_time": "2022-03-13T00:32:32.538063",
     "status": "completed"
    },
    "tags": []
   },
   "outputs": [],
   "source": [
    "#hide\n",
    "\n",
    "# FETCH\n",
    "base_url = 'https://raw.githubusercontent.com/pratapvardhan/notebooks/master/covid19/'\n",
    "paths = {\n",
    "    'mapping': base_url + 'mapping_countries.csv',\n",
    "    'overview': base_url + 'overview.tpl'\n",
    "}"
   ]
  },
  {
   "cell_type": "code",
   "execution_count": 3,
   "id": "dynamic-saver",
   "metadata": {
    "execution": {
     "iopub.execute_input": "2022-03-13T00:32:32.682218Z",
     "iopub.status.busy": "2022-03-13T00:32:32.681498Z",
     "iopub.status.idle": "2022-03-13T00:32:32.685339Z",
     "shell.execute_reply": "2022-03-13T00:32:32.684506Z"
    },
    "papermill": {
     "duration": 0.054921,
     "end_time": "2022-03-13T00:32:32.685502",
     "exception": false,
     "start_time": "2022-03-13T00:32:32.630581",
     "status": "completed"
    },
    "tags": []
   },
   "outputs": [
    {
     "data": {
      "text/plain": [
       "'https://raw.githubusercontent.com/pratapvardhan/notebooks/master/covid19/mapping_countries.csv'"
      ]
     },
     "execution_count": 3,
     "metadata": {},
     "output_type": "execute_result"
    }
   ],
   "source": [
    "#hide\n",
    "paths['mapping']"
   ]
  },
  {
   "cell_type": "code",
   "execution_count": 4,
   "id": "urban-software",
   "metadata": {
    "execution": {
     "iopub.execute_input": "2022-03-13T00:32:32.773967Z",
     "iopub.status.busy": "2022-03-13T00:32:32.773243Z",
     "iopub.status.idle": "2022-03-13T00:32:32.777382Z",
     "shell.execute_reply": "2022-03-13T00:32:32.776750Z"
    },
    "papermill": {
     "duration": 0.050355,
     "end_time": "2022-03-13T00:32:32.777529",
     "exception": false,
     "start_time": "2022-03-13T00:32:32.727174",
     "status": "completed"
    },
    "tags": []
   },
   "outputs": [],
   "source": [
    "#hide\n",
    "def get_mappings(url):\n",
    "    df = pd.read_csv(url)\n",
    "    return {\n",
    "        'df': df,\n",
    "        'replace.country': dict(df.dropna(subset=['Name']).set_index('Country')['Name']),\n",
    "        'map.continent': dict(df.set_index('Name')['Continent'])\n",
    "    }"
   ]
  },
  {
   "cell_type": "code",
   "execution_count": 5,
   "id": "intimate-machinery",
   "metadata": {
    "execution": {
     "iopub.execute_input": "2022-03-13T00:32:32.867355Z",
     "iopub.status.busy": "2022-03-13T00:32:32.866460Z",
     "iopub.status.idle": "2022-03-13T00:32:32.898571Z",
     "shell.execute_reply": "2022-03-13T00:32:32.899150Z"
    },
    "papermill": {
     "duration": 0.078933,
     "end_time": "2022-03-13T00:32:32.899328",
     "exception": false,
     "start_time": "2022-03-13T00:32:32.820395",
     "status": "completed"
    },
    "tags": []
   },
   "outputs": [],
   "source": [
    "#hide\n",
    "mapping = get_mappings(paths['mapping'])"
   ]
  },
  {
   "cell_type": "code",
   "execution_count": 6,
   "id": "certified-tactics",
   "metadata": {
    "execution": {
     "iopub.execute_input": "2022-03-13T00:32:32.991433Z",
     "iopub.status.busy": "2022-03-13T00:32:32.990616Z",
     "iopub.status.idle": "2022-03-13T00:32:32.993886Z",
     "shell.execute_reply": "2022-03-13T00:32:32.993095Z"
    },
    "papermill": {
     "duration": 0.052864,
     "end_time": "2022-03-13T00:32:32.994034",
     "exception": false,
     "start_time": "2022-03-13T00:32:32.941170",
     "status": "completed"
    },
    "tags": []
   },
   "outputs": [],
   "source": [
    "#hide\n",
    "def get_template(path):\n",
    "    from urllib.parse import urlparse\n",
    "    if bool(urlparse(path).netloc):\n",
    "        from urllib.request import urlopen\n",
    "        return urlopen(path).read().decode('utf8')\n",
    "    return open(path).read()"
   ]
  },
  {
   "cell_type": "code",
   "execution_count": 7,
   "id": "realistic-blast",
   "metadata": {
    "execution": {
     "iopub.execute_input": "2022-03-13T00:32:33.090844Z",
     "iopub.status.busy": "2022-03-13T00:32:33.090145Z",
     "iopub.status.idle": "2022-03-13T00:32:33.092897Z",
     "shell.execute_reply": "2022-03-13T00:32:33.092289Z"
    },
    "papermill": {
     "duration": 0.050522,
     "end_time": "2022-03-13T00:32:33.093049",
     "exception": false,
     "start_time": "2022-03-13T00:32:33.042527",
     "status": "completed"
    },
    "tags": []
   },
   "outputs": [],
   "source": [
    "#hide\n",
    "def get_frame(name):\n",
    "    url = (\n",
    "        'https://raw.githubusercontent.com/CSSEGISandData/COVID-19/master/csse_covid_19_data/'\n",
    "        f'csse_covid_19_time_series/time_series_covid19_{name}_global.csv')\n",
    "    df = pd.read_csv(url)\n",
    "    # rename countries\n",
    "    df['Country/Region'] = df['Country/Region'].replace(mapping['replace.country'])\n",
    "    return df"
   ]
  },
  {
   "cell_type": "code",
   "execution_count": 8,
   "id": "affiliated-characterization",
   "metadata": {
    "execution": {
     "iopub.execute_input": "2022-03-13T00:32:33.184851Z",
     "iopub.status.busy": "2022-03-13T00:32:33.184070Z",
     "iopub.status.idle": "2022-03-13T00:32:33.186782Z",
     "shell.execute_reply": "2022-03-13T00:32:33.187833Z"
    },
    "papermill": {
     "duration": 0.052606,
     "end_time": "2022-03-13T00:32:33.188098",
     "exception": false,
     "start_time": "2022-03-13T00:32:33.135492",
     "status": "completed"
    },
    "tags": []
   },
   "outputs": [],
   "source": [
    "#hide\n",
    "def get_dates(df):\n",
    "    dt_cols = df.columns[~df.columns.isin(['Province/State', 'Country/Region', 'Lat', 'Long'])]\n",
    "    LAST_DATE_I = -1\n",
    "    # sometimes last column may be empty, then go backwards\n",
    "    for i in range(-1, -len(dt_cols), -1):\n",
    "        if not df[dt_cols[i]].fillna(0).eq(0).all():\n",
    "            LAST_DATE_I = i\n",
    "            break\n",
    "    return LAST_DATE_I, dt_cols"
   ]
  },
  {
   "cell_type": "code",
   "execution_count": 9,
   "id": "recent-optimization",
   "metadata": {
    "execution": {
     "iopub.execute_input": "2022-03-13T00:32:33.276935Z",
     "iopub.status.busy": "2022-03-13T00:32:33.276257Z",
     "iopub.status.idle": "2022-03-13T00:32:33.725569Z",
     "shell.execute_reply": "2022-03-13T00:32:33.724742Z"
    },
    "papermill": {
     "duration": 0.496857,
     "end_time": "2022-03-13T00:32:33.725824",
     "exception": false,
     "start_time": "2022-03-13T00:32:33.228967",
     "status": "completed"
    },
    "tags": []
   },
   "outputs": [],
   "source": [
    "#hide\n",
    "COL_REGION = 'Country/Region'\n",
    "# Confirmed, Recovered, Deaths\n",
    "df = get_frame('confirmed')\n",
    "# dft_: timeseries, dfc_: today country agg\n",
    "dft_cases = df\n",
    "dft_deaths = get_frame('deaths')\n",
    "dft_recovered = get_frame('recovered')\n",
    "LAST_DATE_I, dt_cols = get_dates(df)"
   ]
  },
  {
   "cell_type": "code",
   "execution_count": 10,
   "id": "absolute-copper",
   "metadata": {
    "execution": {
     "iopub.execute_input": "2022-03-13T00:32:33.815485Z",
     "iopub.status.busy": "2022-03-13T00:32:33.814805Z",
     "iopub.status.idle": "2022-03-13T00:32:33.819033Z",
     "shell.execute_reply": "2022-03-13T00:32:33.820086Z"
    },
    "papermill": {
     "duration": 0.052517,
     "end_time": "2022-03-13T00:32:33.820260",
     "exception": false,
     "start_time": "2022-03-13T00:32:33.767743",
     "status": "completed"
    },
    "tags": []
   },
   "outputs": [],
   "source": [
    "#hide\n",
    "LAST_DATE_I, dt_cols = get_dates(df)\n",
    "dt_today =dt_cols[LAST_DATE_I]\n",
    "# dt_5day = dt_cols[LAST_DATE_I - 5]\n",
    "dt_yday = dt_cols[LAST_DATE_I - 1]"
   ]
  },
  {
   "cell_type": "code",
   "execution_count": 11,
   "id": "restricted-sheriff",
   "metadata": {
    "execution": {
     "iopub.execute_input": "2022-03-13T00:32:33.915742Z",
     "iopub.status.busy": "2022-03-13T00:32:33.914905Z",
     "iopub.status.idle": "2022-03-13T00:32:33.921110Z",
     "shell.execute_reply": "2022-03-13T00:32:33.921806Z"
    },
    "papermill": {
     "duration": 0.05999,
     "end_time": "2022-03-13T00:32:33.921999",
     "exception": false,
     "start_time": "2022-03-13T00:32:33.862009",
     "status": "completed"
    },
    "tags": []
   },
   "outputs": [],
   "source": [
    "#hide\n",
    "dfc_cases = dft_cases.groupby(COL_REGION)[dt_today].sum()\n",
    "dfc_deaths = dft_deaths.groupby(COL_REGION)[dt_today].sum()\n",
    "# dfp_cases = dft_cases.groupby(COL_REGION)[dt_5day].sum()\n",
    "# dfp_deaths = dft_deaths.groupby(COL_REGION)[dt_5day].sum()\n",
    "dfp_cases = dft_cases.groupby(COL_REGION)[dt_yday].sum()\n",
    "dfp_deaths = dft_deaths.groupby(COL_REGION)[dt_yday].sum()"
   ]
  },
  {
   "cell_type": "code",
   "execution_count": 12,
   "id": "deluxe-hepatitis",
   "metadata": {
    "execution": {
     "iopub.execute_input": "2022-03-13T00:32:34.006145Z",
     "iopub.status.busy": "2022-03-13T00:32:34.005353Z",
     "iopub.status.idle": "2022-03-13T00:32:34.011429Z",
     "shell.execute_reply": "2022-03-13T00:32:34.010956Z"
    },
    "papermill": {
     "duration": 0.048685,
     "end_time": "2022-03-13T00:32:34.011564",
     "exception": false,
     "start_time": "2022-03-13T00:32:33.962879",
     "status": "completed"
    },
    "tags": []
   },
   "outputs": [],
   "source": [
    "#hide\n",
    "df_table = (pd.DataFrame(dict(Cases = dfc_cases, Deaths = dfc_deaths, PCases = dfp_cases, PDeaths = dfp_deaths))\n",
    "            .sort_values(by = ['Cases','Deaths'], ascending = [False, False])\n",
    "            .reset_index())"
   ]
  },
  {
   "cell_type": "code",
   "execution_count": 13,
   "id": "educational-chancellor",
   "metadata": {
    "execution": {
     "iopub.execute_input": "2022-03-13T00:32:34.108108Z",
     "iopub.status.busy": "2022-03-13T00:32:34.107469Z",
     "iopub.status.idle": "2022-03-13T00:32:34.115708Z",
     "shell.execute_reply": "2022-03-13T00:32:34.116259Z"
    },
    "papermill": {
     "duration": 0.068687,
     "end_time": "2022-03-13T00:32:34.116403",
     "exception": false,
     "start_time": "2022-03-13T00:32:34.047716",
     "status": "completed"
    },
    "tags": []
   },
   "outputs": [
    {
     "data": {
      "text/html": [
       "<div>\n",
       "<style scoped>\n",
       "    .dataframe tbody tr th:only-of-type {\n",
       "        vertical-align: middle;\n",
       "    }\n",
       "\n",
       "    .dataframe tbody tr th {\n",
       "        vertical-align: top;\n",
       "    }\n",
       "\n",
       "    .dataframe thead th {\n",
       "        text-align: right;\n",
       "    }\n",
       "</style>\n",
       "<table border=\"1\" class=\"dataframe\">\n",
       "  <thead>\n",
       "    <tr style=\"text-align: right;\">\n",
       "      <th></th>\n",
       "      <th>Country/Region</th>\n",
       "      <th>Cases</th>\n",
       "      <th>Deaths</th>\n",
       "      <th>PCases</th>\n",
       "      <th>PDeaths</th>\n",
       "      <th>Cases (+)</th>\n",
       "      <th>Deaths (+)</th>\n",
       "      <th>Fatality Rate</th>\n",
       "      <th>Continent</th>\n",
       "    </tr>\n",
       "  </thead>\n",
       "  <tbody>\n",
       "    <tr>\n",
       "      <th>0</th>\n",
       "      <td>US</td>\n",
       "      <td>79507030</td>\n",
       "      <td>967165</td>\n",
       "      <td>79454920</td>\n",
       "      <td>965464</td>\n",
       "      <td>52110</td>\n",
       "      <td>1701</td>\n",
       "      <td>1.22</td>\n",
       "      <td>North America</td>\n",
       "    </tr>\n",
       "    <tr>\n",
       "      <th>1</th>\n",
       "      <td>India</td>\n",
       "      <td>42987875</td>\n",
       "      <td>515803</td>\n",
       "      <td>42984261</td>\n",
       "      <td>515714</td>\n",
       "      <td>3614</td>\n",
       "      <td>89</td>\n",
       "      <td>1.20</td>\n",
       "      <td>Asia</td>\n",
       "    </tr>\n",
       "    <tr>\n",
       "      <th>2</th>\n",
       "      <td>Brazil</td>\n",
       "      <td>29313228</td>\n",
       "      <td>654843</td>\n",
       "      <td>29259206</td>\n",
       "      <td>654380</td>\n",
       "      <td>54022</td>\n",
       "      <td>463</td>\n",
       "      <td>2.23</td>\n",
       "      <td>South America</td>\n",
       "    </tr>\n",
       "    <tr>\n",
       "      <th>3</th>\n",
       "      <td>France</td>\n",
       "      <td>23565274</td>\n",
       "      <td>141054</td>\n",
       "      <td>23492815</td>\n",
       "      <td>140904</td>\n",
       "      <td>72459</td>\n",
       "      <td>150</td>\n",
       "      <td>0.60</td>\n",
       "      <td>Europe</td>\n",
       "    </tr>\n",
       "    <tr>\n",
       "      <th>4</th>\n",
       "      <td>United Kingdom</td>\n",
       "      <td>19673347</td>\n",
       "      <td>163317</td>\n",
       "      <td>19600293</td>\n",
       "      <td>163203</td>\n",
       "      <td>73054</td>\n",
       "      <td>114</td>\n",
       "      <td>0.83</td>\n",
       "      <td>Europe</td>\n",
       "    </tr>\n",
       "  </tbody>\n",
       "</table>\n",
       "</div>"
      ],
      "text/plain": [
       "   Country/Region     Cases  Deaths    PCases  PDeaths  Cases (+)  Deaths (+)  \\\n",
       "0              US  79507030  967165  79454920   965464      52110        1701   \n",
       "1           India  42987875  515803  42984261   515714       3614          89   \n",
       "2          Brazil  29313228  654843  29259206   654380      54022         463   \n",
       "3          France  23565274  141054  23492815   140904      72459         150   \n",
       "4  United Kingdom  19673347  163317  19600293   163203      73054         114   \n",
       "\n",
       "   Fatality Rate      Continent  \n",
       "0           1.22  North America  \n",
       "1           1.20           Asia  \n",
       "2           2.23  South America  \n",
       "3           0.60         Europe  \n",
       "4           0.83         Europe  "
      ]
     },
     "execution_count": 13,
     "metadata": {},
     "output_type": "execute_result"
    }
   ],
   "source": [
    "#hide\n",
    "for c in 'Cases, Deaths'.split(', '):\n",
    "    df_table[f'{c} (+)'] = (df_table[c] - df_table[f'P{c}']).clip(0)\n",
    "    #Clip ça veut dire, les chiffres negatif sont interdit\n",
    "df_table['Fatality Rate'] = (100* df_table['Deaths']/ df_table['Cases']).round(2)\n",
    "df_table['Continent'] = df_table['Country/Region'].map(mapping['map.continent'])\n",
    "df_table.head(5)"
   ]
  },
  {
   "cell_type": "code",
   "execution_count": 14,
   "id": "aboriginal-bulgaria",
   "metadata": {
    "execution": {
     "iopub.execute_input": "2022-03-13T00:32:34.204621Z",
     "iopub.status.busy": "2022-03-13T00:32:34.203942Z",
     "iopub.status.idle": "2022-03-13T00:32:34.206581Z",
     "shell.execute_reply": "2022-03-13T00:32:34.205975Z"
    },
    "papermill": {
     "duration": 0.051188,
     "end_time": "2022-03-13T00:32:34.206720",
     "exception": false,
     "start_time": "2022-03-13T00:32:34.155532",
     "status": "completed"
    },
    "tags": []
   },
   "outputs": [],
   "source": [
    "#hide\n",
    "#delete problematic countries from table\n",
    "df_table = df_table[~df_table['Country/Region'].isin(['Cape Verde', 'Cruise Ship', 'Kosovo'])]"
   ]
  },
  {
   "cell_type": "code",
   "execution_count": 15,
   "id": "fantastic-effect",
   "metadata": {
    "execution": {
     "iopub.execute_input": "2022-03-13T00:32:34.298828Z",
     "iopub.status.busy": "2022-03-13T00:32:34.297954Z",
     "iopub.status.idle": "2022-03-13T00:32:34.320966Z",
     "shell.execute_reply": "2022-03-13T00:32:34.321704Z"
    },
    "papermill": {
     "duration": 0.073558,
     "end_time": "2022-03-13T00:32:34.321899",
     "exception": false,
     "start_time": "2022-03-13T00:32:34.248341",
     "status": "completed"
    },
    "tags": []
   },
   "outputs": [
    {
     "data": {
      "text/html": [
       "<div>\n",
       "<style scoped>\n",
       "    .dataframe tbody tr th:only-of-type {\n",
       "        vertical-align: middle;\n",
       "    }\n",
       "\n",
       "    .dataframe tbody tr th {\n",
       "        vertical-align: top;\n",
       "    }\n",
       "\n",
       "    .dataframe thead th {\n",
       "        text-align: right;\n",
       "    }\n",
       "</style>\n",
       "<table border=\"1\" class=\"dataframe\">\n",
       "  <thead>\n",
       "    <tr style=\"text-align: right;\">\n",
       "      <th></th>\n",
       "      <th>Country/Region</th>\n",
       "      <th>Cases</th>\n",
       "      <th>Deaths</th>\n",
       "      <th>PCases</th>\n",
       "      <th>PDeaths</th>\n",
       "      <th>Cases (+)</th>\n",
       "      <th>Deaths (+)</th>\n",
       "      <th>Fatality Rate</th>\n",
       "      <th>Continent</th>\n",
       "    </tr>\n",
       "  </thead>\n",
       "  <tbody>\n",
       "    <tr>\n",
       "      <th>0</th>\n",
       "      <td>US</td>\n",
       "      <td>79507030</td>\n",
       "      <td>967165</td>\n",
       "      <td>79454920</td>\n",
       "      <td>965464</td>\n",
       "      <td>52110</td>\n",
       "      <td>1701</td>\n",
       "      <td>1.2</td>\n",
       "      <td>North America</td>\n",
       "    </tr>\n",
       "    <tr>\n",
       "      <th>1</th>\n",
       "      <td>India</td>\n",
       "      <td>42987875</td>\n",
       "      <td>515803</td>\n",
       "      <td>42984261</td>\n",
       "      <td>515714</td>\n",
       "      <td>3614</td>\n",
       "      <td>89</td>\n",
       "      <td>1.2</td>\n",
       "      <td>Asia</td>\n",
       "    </tr>\n",
       "    <tr>\n",
       "      <th>2</th>\n",
       "      <td>Brazil</td>\n",
       "      <td>29313228</td>\n",
       "      <td>654843</td>\n",
       "      <td>29259206</td>\n",
       "      <td>654380</td>\n",
       "      <td>54022</td>\n",
       "      <td>463</td>\n",
       "      <td>2.2</td>\n",
       "      <td>South America</td>\n",
       "    </tr>\n",
       "    <tr>\n",
       "      <th>3</th>\n",
       "      <td>France</td>\n",
       "      <td>23565274</td>\n",
       "      <td>141054</td>\n",
       "      <td>23492815</td>\n",
       "      <td>140904</td>\n",
       "      <td>72459</td>\n",
       "      <td>150</td>\n",
       "      <td>0.6</td>\n",
       "      <td>Europe</td>\n",
       "    </tr>\n",
       "    <tr>\n",
       "      <th>4</th>\n",
       "      <td>United Kingdom</td>\n",
       "      <td>19673347</td>\n",
       "      <td>163317</td>\n",
       "      <td>19600293</td>\n",
       "      <td>163203</td>\n",
       "      <td>73054</td>\n",
       "      <td>114</td>\n",
       "      <td>0.8</td>\n",
       "      <td>Europe</td>\n",
       "    </tr>\n",
       "  </tbody>\n",
       "</table>\n",
       "</div>"
      ],
      "text/plain": [
       "   Country/Region     Cases  Deaths    PCases  PDeaths  Cases (+)  Deaths (+)  \\\n",
       "0              US  79507030  967165  79454920   965464      52110        1701   \n",
       "1           India  42987875  515803  42984261   515714       3614          89   \n",
       "2          Brazil  29313228  654843  29259206   654380      54022         463   \n",
       "3          France  23565274  141054  23492815   140904      72459         150   \n",
       "4  United Kingdom  19673347  163317  19600293   163203      73054         114   \n",
       "\n",
       "   Fatality Rate      Continent  \n",
       "0            1.2  North America  \n",
       "1            1.2           Asia  \n",
       "2            2.2  South America  \n",
       "3            0.6         Europe  \n",
       "4            0.8         Europe  "
      ]
     },
     "execution_count": 15,
     "metadata": {},
     "output_type": "execute_result"
    }
   ],
   "source": [
    "#hide\n",
    "df_table = (pd.DataFrame(dict(Cases=dfc_cases, Deaths=dfc_deaths, PCases=dfp_cases, PDeaths=dfp_deaths))\n",
    "             .sort_values(by=['Cases', 'Deaths'], ascending=[False, False])\n",
    "             .reset_index())\n",
    "df_table.rename(columns={'index': 'Country/Region'}, inplace=True)\n",
    "for c in 'Cases, Deaths'.split(', '):\n",
    "    df_table[f'{c} (+)'] = (df_table[c] - df_table[f'P{c}']).clip(0)  # DATA BUG\n",
    "df_table['Fatality Rate'] = (100 * df_table['Deaths'] / df_table['Cases']).round(1)\n",
    "df_table['Continent'] = df_table['Country/Region'].map(mapping['map.continent'])\n",
    "df_table.head(5)"
   ]
  },
  {
   "cell_type": "code",
   "execution_count": 16,
   "id": "fewer-occasion",
   "metadata": {
    "execution": {
     "iopub.execute_input": "2022-03-13T00:32:34.418805Z",
     "iopub.status.busy": "2022-03-13T00:32:34.418094Z",
     "iopub.status.idle": "2022-03-13T00:32:34.421637Z",
     "shell.execute_reply": "2022-03-13T00:32:34.422207Z"
    },
    "papermill": {
     "duration": 0.056416,
     "end_time": "2022-03-13T00:32:34.422379",
     "exception": false,
     "start_time": "2022-03-13T00:32:34.365963",
     "status": "completed"
    },
    "tags": []
   },
   "outputs": [],
   "source": [
    "#hide\n",
    "#delete problematic countries from table\n",
    "df_table = df_table[~df_table['Country/Region'].isin(['Cape Verde', 'Cruise Ship', 'Kosovo'])]"
   ]
  },
  {
   "cell_type": "code",
   "execution_count": 17,
   "id": "related-center",
   "metadata": {
    "execution": {
     "iopub.execute_input": "2022-03-13T00:32:34.535629Z",
     "iopub.status.busy": "2022-03-13T00:32:34.534919Z",
     "iopub.status.idle": "2022-03-13T00:32:34.538482Z",
     "shell.execute_reply": "2022-03-13T00:32:34.537050Z"
    },
    "papermill": {
     "duration": 0.071641,
     "end_time": "2022-03-13T00:32:34.538631",
     "exception": false,
     "start_time": "2022-03-13T00:32:34.466990",
     "status": "completed"
    },
    "tags": []
   },
   "outputs": [],
   "source": [
    "#hide\n",
    "metrics = [df_table.columns[index] for index in [1,2,5,6]]\n",
    "# s_china = df_table[df_table['Country/Region'].eq('China')][metrics].sum().add_prefix('China ')\n",
    "s_us = df_table[df_table['Country/Region'].eq('US')][metrics].sum().add_prefix('US ')\n",
    "s_eu = df_table[df_table['Continent'].eq('Europe')][metrics].sum().add_prefix('EU ')\n",
    "s_ind = df_table[df_table['Country/Region'].eq('India')][metrics].sum().add_prefix('India ')\n",
    "summary = {'updated': pd.to_datetime(dt_today), 'since': pd.to_datetime(dt_yday)}\n",
    "summary = {'updated': pd.to_datetime(dt_today), 'since': pd.to_datetime(dt_yday)}\n",
    "summary = {**summary, **df_table[metrics].sum(), **s_ind, **s_us, **s_eu}"
   ]
  },
  {
   "cell_type": "code",
   "execution_count": 18,
   "id": "engaging-syndrome",
   "metadata": {
    "execution": {
     "iopub.execute_input": "2022-03-13T00:32:34.632828Z",
     "iopub.status.busy": "2022-03-13T00:32:34.632017Z",
     "iopub.status.idle": "2022-03-13T00:32:34.654126Z",
     "shell.execute_reply": "2022-03-13T00:32:34.653396Z"
    },
    "papermill": {
     "duration": 0.071447,
     "end_time": "2022-03-13T00:32:34.654285",
     "exception": false,
     "start_time": "2022-03-13T00:32:34.582838",
     "status": "completed"
    },
    "tags": []
   },
   "outputs": [],
   "source": [
    "#hide\n",
    "dft_ct_new_cases = dft_cases.groupby(COL_REGION)[dt_cols].sum().diff(axis=1).fillna(0).astype(int)"
   ]
  },
  {
   "cell_type": "code",
   "execution_count": 19,
   "id": "neutral-assignment",
   "metadata": {
    "execution": {
     "iopub.execute_input": "2022-03-13T00:32:34.745829Z",
     "iopub.status.busy": "2022-03-13T00:32:34.745088Z",
     "iopub.status.idle": "2022-03-13T00:32:34.748098Z",
     "shell.execute_reply": "2022-03-13T00:32:34.747566Z"
    },
    "papermill": {
     "duration": 0.051925,
     "end_time": "2022-03-13T00:32:34.748246",
     "exception": false,
     "start_time": "2022-03-13T00:32:34.696321",
     "status": "completed"
    },
    "tags": []
   },
   "outputs": [],
   "source": [
    "#hide\n",
    "everydaycases = dft_ct_new_cases.cumsum(axis=1)"
   ]
  },
  {
   "cell_type": "code",
   "execution_count": 20,
   "id": "parliamentary-calgary",
   "metadata": {
    "execution": {
     "iopub.execute_input": "2022-03-13T00:32:34.839306Z",
     "iopub.status.busy": "2022-03-13T00:32:34.838632Z",
     "iopub.status.idle": "2022-03-13T00:32:35.620274Z",
     "shell.execute_reply": "2022-03-13T00:32:35.619604Z"
    },
    "papermill": {
     "duration": 0.829657,
     "end_time": "2022-03-13T00:32:35.620422",
     "exception": false,
     "start_time": "2022-03-13T00:32:34.790765",
     "status": "completed"
    },
    "tags": []
   },
   "outputs": [],
   "source": [
    "#hide\n",
    "import pandas as pd\n",
    "import matplotlib.pyplot as plt\n",
    "import matplotlib.ticker as ticker\n",
    "import matplotlib.animation as animation\n",
    "from IPython.display import HTML"
   ]
  },
  {
   "cell_type": "code",
   "execution_count": 21,
   "id": "lasting-extraction",
   "metadata": {
    "execution": {
     "iopub.execute_input": "2022-03-13T00:32:35.711018Z",
     "iopub.status.busy": "2022-03-13T00:32:35.710339Z",
     "iopub.status.idle": "2022-03-13T00:32:35.717580Z",
     "shell.execute_reply": "2022-03-13T00:32:35.718137Z"
    },
    "papermill": {
     "duration": 0.055743,
     "end_time": "2022-03-13T00:32:35.718307",
     "exception": false,
     "start_time": "2022-03-13T00:32:35.662564",
     "status": "completed"
    },
    "tags": []
   },
   "outputs": [],
   "source": [
    "#hide\n",
    "t = everydaycases.stack()"
   ]
  },
  {
   "cell_type": "code",
   "execution_count": 22,
   "id": "premier-sleeve",
   "metadata": {
    "execution": {
     "iopub.execute_input": "2022-03-13T00:32:35.807432Z",
     "iopub.status.busy": "2022-03-13T00:32:35.806764Z",
     "iopub.status.idle": "2022-03-13T00:32:35.819109Z",
     "shell.execute_reply": "2022-03-13T00:32:35.818464Z"
    },
    "papermill": {
     "duration": 0.058811,
     "end_time": "2022-03-13T00:32:35.819246",
     "exception": false,
     "start_time": "2022-03-13T00:32:35.760435",
     "status": "completed"
    },
    "tags": []
   },
   "outputs": [],
   "source": [
    "#hide\n",
    "g = t.reset_index(['Country/Region'])"
   ]
  },
  {
   "cell_type": "code",
   "execution_count": 23,
   "id": "distributed-pittsburgh",
   "metadata": {
    "execution": {
     "iopub.execute_input": "2022-03-13T00:32:35.908643Z",
     "iopub.status.busy": "2022-03-13T00:32:35.907929Z",
     "iopub.status.idle": "2022-03-13T00:32:35.910890Z",
     "shell.execute_reply": "2022-03-13T00:32:35.910108Z"
    },
    "papermill": {
     "duration": 0.050003,
     "end_time": "2022-03-13T00:32:35.911053",
     "exception": false,
     "start_time": "2022-03-13T00:32:35.861050",
     "status": "completed"
    },
    "tags": []
   },
   "outputs": [],
   "source": [
    "#hide\n",
    "g.index.name = 'date'"
   ]
  },
  {
   "cell_type": "code",
   "execution_count": 24,
   "id": "naked-donor",
   "metadata": {
    "execution": {
     "iopub.execute_input": "2022-03-13T00:32:36.005689Z",
     "iopub.status.busy": "2022-03-13T00:32:36.004687Z",
     "iopub.status.idle": "2022-03-13T00:32:36.009472Z",
     "shell.execute_reply": "2022-03-13T00:32:36.008665Z"
    },
    "papermill": {
     "duration": 0.053179,
     "end_time": "2022-03-13T00:32:36.009663",
     "exception": false,
     "start_time": "2022-03-13T00:32:35.956484",
     "status": "completed"
    },
    "tags": []
   },
   "outputs": [],
   "source": [
    "# #hide\n",
    "# g = g.reset_index(['date'])"
   ]
  },
  {
   "cell_type": "code",
   "execution_count": 25,
   "id": "incomplete-mustang",
   "metadata": {
    "execution": {
     "iopub.execute_input": "2022-03-13T00:32:36.104101Z",
     "iopub.status.busy": "2022-03-13T00:32:36.103451Z",
     "iopub.status.idle": "2022-03-13T00:32:36.106140Z",
     "shell.execute_reply": "2022-03-13T00:32:36.105418Z"
    },
    "papermill": {
     "duration": 0.049776,
     "end_time": "2022-03-13T00:32:36.106269",
     "exception": false,
     "start_time": "2022-03-13T00:32:36.056493",
     "status": "completed"
    },
    "tags": []
   },
   "outputs": [],
   "source": [
    "#hide\n",
    "# g.head()"
   ]
  },
  {
   "cell_type": "code",
   "execution_count": 26,
   "id": "specific-kruger",
   "metadata": {
    "execution": {
     "iopub.execute_input": "2022-03-13T00:32:36.193678Z",
     "iopub.status.busy": "2022-03-13T00:32:36.193007Z",
     "iopub.status.idle": "2022-03-13T00:32:36.195004Z",
     "shell.execute_reply": "2022-03-13T00:32:36.195511Z"
    },
    "papermill": {
     "duration": 0.048155,
     "end_time": "2022-03-13T00:32:36.195665",
     "exception": false,
     "start_time": "2022-03-13T00:32:36.147510",
     "status": "completed"
    },
    "tags": []
   },
   "outputs": [],
   "source": [
    "#hide\n",
    "# g.columns = ['date','country','cases']"
   ]
  },
  {
   "cell_type": "code",
   "execution_count": 27,
   "id": "tender-conversion",
   "metadata": {
    "execution": {
     "iopub.execute_input": "2022-03-13T00:32:36.279212Z",
     "iopub.status.busy": "2022-03-13T00:32:36.278450Z",
     "iopub.status.idle": "2022-03-13T00:32:36.281082Z",
     "shell.execute_reply": "2022-03-13T00:32:36.280479Z"
    },
    "papermill": {
     "duration": 0.045019,
     "end_time": "2022-03-13T00:32:36.281235",
     "exception": false,
     "start_time": "2022-03-13T00:32:36.236216",
     "status": "completed"
    },
    "tags": []
   },
   "outputs": [],
   "source": [
    "#hide\n",
    "# g['continent'] = g.country"
   ]
  },
  {
   "cell_type": "code",
   "execution_count": 28,
   "id": "substantial-wilderness",
   "metadata": {
    "execution": {
     "iopub.execute_input": "2022-03-13T00:32:36.364821Z",
     "iopub.status.busy": "2022-03-13T00:32:36.364131Z",
     "iopub.status.idle": "2022-03-13T00:32:36.368141Z",
     "shell.execute_reply": "2022-03-13T00:32:36.368673Z"
    },
    "papermill": {
     "duration": 0.049635,
     "end_time": "2022-03-13T00:32:36.368847",
     "exception": false,
     "start_time": "2022-03-13T00:32:36.319212",
     "status": "completed"
    },
    "tags": []
   },
   "outputs": [],
   "source": [
    "#hide\n",
    "# cols = list(g.columns.values)"
   ]
  },
  {
   "cell_type": "code",
   "execution_count": 29,
   "id": "solved-farming",
   "metadata": {
    "execution": {
     "iopub.execute_input": "2022-03-13T00:32:36.457232Z",
     "iopub.status.busy": "2022-03-13T00:32:36.456557Z",
     "iopub.status.idle": "2022-03-13T00:32:36.459440Z",
     "shell.execute_reply": "2022-03-13T00:32:36.458789Z"
    },
    "papermill": {
     "duration": 0.048664,
     "end_time": "2022-03-13T00:32:36.459581",
     "exception": false,
     "start_time": "2022-03-13T00:32:36.410917",
     "status": "completed"
    },
    "tags": []
   },
   "outputs": [],
   "source": [
    "#hide\n",
    "# cols.insert(0, cols.pop())"
   ]
  },
  {
   "cell_type": "code",
   "execution_count": 30,
   "id": "executed-adoption",
   "metadata": {
    "execution": {
     "iopub.execute_input": "2022-03-13T00:32:36.557766Z",
     "iopub.status.busy": "2022-03-13T00:32:36.557037Z",
     "iopub.status.idle": "2022-03-13T00:32:36.560864Z",
     "shell.execute_reply": "2022-03-13T00:32:36.560316Z"
    },
    "papermill": {
     "duration": 0.052545,
     "end_time": "2022-03-13T00:32:36.561006",
     "exception": false,
     "start_time": "2022-03-13T00:32:36.508461",
     "status": "completed"
    },
    "tags": []
   },
   "outputs": [],
   "source": [
    "#hide\n",
    "# g = g[cols]"
   ]
  },
  {
   "cell_type": "code",
   "execution_count": 31,
   "id": "subject-dublin",
   "metadata": {
    "execution": {
     "iopub.execute_input": "2022-03-13T00:32:36.652246Z",
     "iopub.status.busy": "2022-03-13T00:32:36.651481Z",
     "iopub.status.idle": "2022-03-13T00:32:36.654995Z",
     "shell.execute_reply": "2022-03-13T00:32:36.654126Z"
    },
    "papermill": {
     "duration": 0.051452,
     "end_time": "2022-03-13T00:32:36.655196",
     "exception": false,
     "start_time": "2022-03-13T00:32:36.603744",
     "status": "completed"
    },
    "tags": []
   },
   "outputs": [],
   "source": [
    "#hide\n",
    "# g['continent'] = g['continent'].map(mapping['map.continent'])"
   ]
  },
  {
   "cell_type": "code",
   "execution_count": 32,
   "id": "freelance-scout",
   "metadata": {
    "execution": {
     "iopub.execute_input": "2022-03-13T00:32:36.749182Z",
     "iopub.status.busy": "2022-03-13T00:32:36.748508Z",
     "iopub.status.idle": "2022-03-13T00:32:36.752607Z",
     "shell.execute_reply": "2022-03-13T00:32:36.756409Z"
    },
    "papermill": {
     "duration": 0.057475,
     "end_time": "2022-03-13T00:32:36.756607",
     "exception": false,
     "start_time": "2022-03-13T00:32:36.699132",
     "status": "completed"
    },
    "tags": []
   },
   "outputs": [],
   "source": [
    "#hide\n",
    "# g.head()"
   ]
  },
  {
   "cell_type": "code",
   "execution_count": 33,
   "id": "limited-engine",
   "metadata": {
    "execution": {
     "iopub.execute_input": "2022-03-13T00:32:36.854421Z",
     "iopub.status.busy": "2022-03-13T00:32:36.853612Z",
     "iopub.status.idle": "2022-03-13T00:32:36.855428Z",
     "shell.execute_reply": "2022-03-13T00:32:36.856006Z"
    },
    "papermill": {
     "duration": 0.056689,
     "end_time": "2022-03-13T00:32:36.856168",
     "exception": false,
     "start_time": "2022-03-13T00:32:36.799479",
     "status": "completed"
    },
    "tags": []
   },
   "outputs": [],
   "source": [
    "# hide\n",
    "# g['date'] = g['date'].astype('datetime64[ns]')"
   ]
  },
  {
   "cell_type": "code",
   "execution_count": 34,
   "id": "sophisticated-supervisor",
   "metadata": {
    "execution": {
     "iopub.execute_input": "2022-03-13T00:32:36.948756Z",
     "iopub.status.busy": "2022-03-13T00:32:36.947848Z",
     "iopub.status.idle": "2022-03-13T00:32:36.952308Z",
     "shell.execute_reply": "2022-03-13T00:32:36.952895Z"
    },
    "papermill": {
     "duration": 0.054582,
     "end_time": "2022-03-13T00:32:36.953056",
     "exception": false,
     "start_time": "2022-03-13T00:32:36.898474",
     "status": "completed"
    },
    "tags": []
   },
   "outputs": [],
   "source": [
    "#hide\n",
    "# g['date'] = g.date.dt.dayofyear"
   ]
  },
  {
   "cell_type": "code",
   "execution_count": 35,
   "id": "inside-dubai",
   "metadata": {
    "execution": {
     "iopub.execute_input": "2022-03-13T00:32:37.042130Z",
     "iopub.status.busy": "2022-03-13T00:32:37.041411Z",
     "iopub.status.idle": "2022-03-13T00:32:37.044320Z",
     "shell.execute_reply": "2022-03-13T00:32:37.043723Z"
    },
    "papermill": {
     "duration": 0.049042,
     "end_time": "2022-03-13T00:32:37.044448",
     "exception": false,
     "start_time": "2022-03-13T00:32:36.995406",
     "status": "completed"
    },
    "tags": []
   },
   "outputs": [],
   "source": [
    "#hide\n",
    "# g = g.rename(columns= {'continent':'group','country':'name','cases':'value'})"
   ]
  },
  {
   "cell_type": "code",
   "execution_count": 36,
   "id": "fleet-motorcycle",
   "metadata": {
    "execution": {
     "iopub.execute_input": "2022-03-13T00:32:37.133675Z",
     "iopub.status.busy": "2022-03-13T00:32:37.132910Z",
     "iopub.status.idle": "2022-03-13T00:32:37.137091Z",
     "shell.execute_reply": "2022-03-13T00:32:37.136491Z"
    },
    "papermill": {
     "duration": 0.050685,
     "end_time": "2022-03-13T00:32:37.137226",
     "exception": false,
     "start_time": "2022-03-13T00:32:37.086541",
     "status": "completed"
    },
    "tags": []
   },
   "outputs": [],
   "source": [
    "#hide\n",
    "# cols = ['name','group','day','value']"
   ]
  },
  {
   "cell_type": "code",
   "execution_count": 37,
   "id": "continued-sleeping",
   "metadata": {
    "execution": {
     "iopub.execute_input": "2022-03-13T00:32:37.227348Z",
     "iopub.status.busy": "2022-03-13T00:32:37.226662Z",
     "iopub.status.idle": "2022-03-13T00:32:37.229503Z",
     "shell.execute_reply": "2022-03-13T00:32:37.228921Z"
    },
    "papermill": {
     "duration": 0.049511,
     "end_time": "2022-03-13T00:32:37.229637",
     "exception": false,
     "start_time": "2022-03-13T00:32:37.180126",
     "status": "completed"
    },
    "tags": []
   },
   "outputs": [],
   "source": [
    "#hide\n",
    "# g.rename(columns= {'date':'day'},inplace = True)"
   ]
  },
  {
   "cell_type": "code",
   "execution_count": 38,
   "id": "major-fight",
   "metadata": {
    "execution": {
     "iopub.execute_input": "2022-03-13T00:32:37.316784Z",
     "iopub.status.busy": "2022-03-13T00:32:37.316061Z",
     "iopub.status.idle": "2022-03-13T00:32:37.318703Z",
     "shell.execute_reply": "2022-03-13T00:32:37.318163Z"
    },
    "papermill": {
     "duration": 0.047855,
     "end_time": "2022-03-13T00:32:37.318840",
     "exception": false,
     "start_time": "2022-03-13T00:32:37.270985",
     "status": "completed"
    },
    "tags": []
   },
   "outputs": [],
   "source": [
    "#hide\n",
    "# g = g[cols]"
   ]
  },
  {
   "cell_type": "code",
   "execution_count": 39,
   "id": "structured-mobile",
   "metadata": {
    "execution": {
     "iopub.execute_input": "2022-03-13T00:32:37.410751Z",
     "iopub.status.busy": "2022-03-13T00:32:37.410103Z",
     "iopub.status.idle": "2022-03-13T00:32:37.412688Z",
     "shell.execute_reply": "2022-03-13T00:32:37.412086Z"
    },
    "papermill": {
     "duration": 0.050679,
     "end_time": "2022-03-13T00:32:37.412823",
     "exception": false,
     "start_time": "2022-03-13T00:32:37.362144",
     "status": "completed"
    },
    "tags": []
   },
   "outputs": [],
   "source": [
    "# #hide\n",
    "# g = g[g.group.notna()]"
   ]
  },
  {
   "cell_type": "code",
   "execution_count": 40,
   "id": "determined-closing",
   "metadata": {
    "execution": {
     "iopub.execute_input": "2022-03-13T00:32:37.498939Z",
     "iopub.status.busy": "2022-03-13T00:32:37.498246Z",
     "iopub.status.idle": "2022-03-13T00:32:37.502321Z",
     "shell.execute_reply": "2022-03-13T00:32:37.502826Z"
    },
    "papermill": {
     "duration": 0.048473,
     "end_time": "2022-03-13T00:32:37.503006",
     "exception": false,
     "start_time": "2022-03-13T00:32:37.454533",
     "status": "completed"
    },
    "tags": []
   },
   "outputs": [],
   "source": [
    "# #hide\n",
    "# colors = dict(zip(\n",
    "#     [\"Oceania\", \"Europe\", \"Asia\", \"South America\", \"Middle East\", \"North America\", \"Africa\"],\n",
    "#     [\"#adb0ff\", \"#ffb3ff\", \"#90d595\", \"#e48381\", \"#aafbff\", \"#f7bb5f\", \"#eafb50\"]\n",
    "# ))\n",
    "# group_lk = g.set_index('name')['group'].to_dict()"
   ]
  },
  {
   "cell_type": "code",
   "execution_count": null,
   "id": "gross-drinking",
   "metadata": {
    "papermill": {
     "duration": 0.044988,
     "end_time": "2022-03-13T00:32:37.591726",
     "exception": false,
     "start_time": "2022-03-13T00:32:37.546738",
     "status": "completed"
    },
    "tags": []
   },
   "outputs": [],
   "source": []
  },
  {
   "cell_type": "code",
   "execution_count": 41,
   "id": "subject-macintosh",
   "metadata": {
    "execution": {
     "iopub.execute_input": "2022-03-13T00:32:37.682822Z",
     "iopub.status.busy": "2022-03-13T00:32:37.682132Z",
     "iopub.status.idle": "2022-03-13T00:32:37.684620Z",
     "shell.execute_reply": "2022-03-13T00:32:37.685442Z"
    },
    "papermill": {
     "duration": 0.05074,
     "end_time": "2022-03-13T00:32:37.685600",
     "exception": false,
     "start_time": "2022-03-13T00:32:37.634860",
     "status": "completed"
    },
    "tags": []
   },
   "outputs": [],
   "source": [
    "# #hide\n",
    "# fig, ax = plt.subplots(figsize=(15, 8))\n",
    "\n",
    "# def draw_barchart(current_day):\n",
    "#     dff = g[g['day'].eq(current_day)].sort_values(by='value', ascending=True).tail(10)\n",
    "#     ax.clear()\n",
    "#     ax.barh(dff['name'], dff['value'], color=[colors[group_lk[x]] for x in dff['name']])\n",
    "#     dx = dff['value'].max() / 200\n",
    "    \n",
    "#     for i, (value, name) in enumerate(zip(dff['value'], dff['name'])):\n",
    "#         ax.text(value-dx, i,     name,           size=14, weight=600, ha='right', va='bottom')\n",
    "#         ax.text(value-dx, i-.25, group_lk[name], size=10, color='#444444', ha='right', va='baseline')\n",
    "#         ax.text(value+dx, i,     f'{value:,.0f}',  size=14, ha='left',  va='center')\n",
    "#     ax.text(1, 0.4, current_day, transform=ax.transAxes, color='#777777', size=46, ha='right', weight=800)\n",
    "#     ax.text(0, 1.06, 'Population (thousands)', transform=ax.transAxes, size=12, color='#777777')\n",
    "#     ax.xaxis.set_major_formatter(ticker.StrMethodFormatter('{x:,.0f}'))\n",
    "#     ax.xaxis.set_ticks_position('top')\n",
    "#     ax.tick_params(axis='x', colors='#777777', labelsize=12)\n",
    "#     ax.set_yticks([])\n",
    "#     ax.margins(0, 0.01)\n",
    "#     ax.grid(which='major', axis='x', linestyle='-')\n",
    "#     ax.set_axisbelow(True)\n",
    "    \n",
    "#     ax.text(0, 1.15, 'Coronavirus',\n",
    "#             transform=ax.transAxes, size=24, weight=600, ha='left', va='top')\n",
    "# #     ax.text(1, 0, 'by @pratapvardhan; credit @jburnmurdoch', transform=ax.transAxes, color='#777777', ha='right',\n",
    "# #             bbox=dict(facecolor='white', alpha=0.8, edgecolor='white'))\n",
    "#     plt.box(False)"
   ]
  },
  {
   "cell_type": "code",
   "execution_count": 42,
   "id": "sexual-wages",
   "metadata": {
    "execution": {
     "iopub.execute_input": "2022-03-13T00:32:37.775417Z",
     "iopub.status.busy": "2022-03-13T00:32:37.774541Z",
     "iopub.status.idle": "2022-03-13T00:32:37.779152Z",
     "shell.execute_reply": "2022-03-13T00:32:37.778230Z"
    },
    "papermill": {
     "duration": 0.050202,
     "end_time": "2022-03-13T00:32:37.779299",
     "exception": false,
     "start_time": "2022-03-13T00:32:37.729097",
     "status": "completed"
    },
    "tags": []
   },
   "outputs": [],
   "source": [
    "# #hide_input\n",
    "# fig, ax = plt.subplots(figsize=(15, 8))\n",
    "# animator = animation.FuncAnimation(fig, draw_barchart, frames=range(g.day.values.min(), g.day.values.max()))\n",
    "# HTML(animator.to_jshtml())\n",
    "# # or use animator.to_html5_video() or animator.save() "
   ]
  },
  {
   "cell_type": "code",
   "execution_count": null,
   "id": "australian-container",
   "metadata": {
    "papermill": {
     "duration": 0.046208,
     "end_time": "2022-03-13T00:32:37.873196",
     "exception": false,
     "start_time": "2022-03-13T00:32:37.826988",
     "status": "completed"
    },
    "tags": []
   },
   "outputs": [],
   "source": []
  },
  {
   "cell_type": "code",
   "execution_count": null,
   "id": "mediterranean-pontiac",
   "metadata": {
    "papermill": {
     "duration": 0.044041,
     "end_time": "2022-03-13T00:32:37.963316",
     "exception": false,
     "start_time": "2022-03-13T00:32:37.919275",
     "status": "completed"
    },
    "tags": []
   },
   "outputs": [],
   "source": []
  },
  {
   "cell_type": "code",
   "execution_count": null,
   "id": "aging-legislature",
   "metadata": {
    "papermill": {
     "duration": 0.041959,
     "end_time": "2022-03-13T00:32:38.049571",
     "exception": false,
     "start_time": "2022-03-13T00:32:38.007612",
     "status": "completed"
    },
    "tags": []
   },
   "outputs": [],
   "source": []
  }
 ],
 "metadata": {
  "kernelspec": {
   "display_name": "Python 3",
   "language": "python",
   "name": "python3"
  },
  "language_info": {
   "codemirror_mode": {
    "name": "ipython",
    "version": 3
   },
   "file_extension": ".py",
   "mimetype": "text/x-python",
   "name": "python",
   "nbconvert_exporter": "python",
   "pygments_lexer": "ipython3",
   "version": "3.6.15"
  },
  "papermill": {
   "duration": 7.968475,
   "end_time": "2022-03-13T00:32:38.512594",
   "environment_variables": {},
   "exception": null,
   "input_path": "2020-03-21-covid19exp.ipynb",
   "output_path": "2020-03-21-covid19exp.ipynb",
   "parameters": {},
   "start_time": "2022-03-13T00:32:30.544119",
   "version": "2.0.0"
  }
 },
 "nbformat": 4,
 "nbformat_minor": 5
}