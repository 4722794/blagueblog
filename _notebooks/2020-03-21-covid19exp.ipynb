{
 "cells": [
  {
   "cell_type": "markdown",
   "id": "muslim-click",
   "metadata": {
    "papermill": {
     "duration": 0.041707,
     "end_time": "2021-04-16T12:04:36.358078",
     "exception": false,
     "start_time": "2021-04-16T12:04:36.316371",
     "status": "completed"
    },
    "tags": []
   },
   "source": [
    "# COVID-19 Case Race\n",
    "> A race chart to see rising cases around the world\n",
    "\n",
    "- author: Hargun Oberoi\n",
    "- image: images/covid-overview.png\n",
    "- hide: false\n",
    "- badges: false"
   ]
  },
  {
   "cell_type": "code",
   "execution_count": 1,
   "id": "proof-material",
   "metadata": {
    "execution": {
     "iopub.execute_input": "2021-04-16T12:04:36.441219Z",
     "iopub.status.busy": "2021-04-16T12:04:36.440661Z",
     "iopub.status.idle": "2021-04-16T12:04:36.779677Z",
     "shell.execute_reply": "2021-04-16T12:04:36.779169Z"
    },
    "papermill": {
     "duration": 0.385011,
     "end_time": "2021-04-16T12:04:36.779813",
     "exception": false,
     "start_time": "2021-04-16T12:04:36.394802",
     "status": "completed"
    },
    "tags": []
   },
   "outputs": [],
   "source": [
    "#hide\n",
    "import numpy as np\n",
    "import pandas as pd\n",
    "from jinja2 import Template\n",
    "from IPython.display import HTML"
   ]
  },
  {
   "cell_type": "code",
   "execution_count": 2,
   "id": "developed-terminology",
   "metadata": {
    "execution": {
     "iopub.execute_input": "2021-04-16T12:04:36.853455Z",
     "iopub.status.busy": "2021-04-16T12:04:36.852893Z",
     "iopub.status.idle": "2021-04-16T12:04:36.855334Z",
     "shell.execute_reply": "2021-04-16T12:04:36.854813Z"
    },
    "papermill": {
     "duration": 0.041137,
     "end_time": "2021-04-16T12:04:36.855472",
     "exception": false,
     "start_time": "2021-04-16T12:04:36.814335",
     "status": "completed"
    },
    "tags": []
   },
   "outputs": [],
   "source": [
    "#hide\n",
    "\n",
    "# FETCH\n",
    "base_url = 'https://raw.githubusercontent.com/pratapvardhan/notebooks/master/covid19/'\n",
    "paths = {\n",
    "    'mapping': base_url + 'mapping_countries.csv',\n",
    "    'overview': base_url + 'overview.tpl'\n",
    "}"
   ]
  },
  {
   "cell_type": "code",
   "execution_count": 3,
   "id": "dynamic-saver",
   "metadata": {
    "execution": {
     "iopub.execute_input": "2021-04-16T12:04:36.938767Z",
     "iopub.status.busy": "2021-04-16T12:04:36.938083Z",
     "iopub.status.idle": "2021-04-16T12:04:36.940918Z",
     "shell.execute_reply": "2021-04-16T12:04:36.941383Z"
    },
    "papermill": {
     "duration": 0.051694,
     "end_time": "2021-04-16T12:04:36.941525",
     "exception": false,
     "start_time": "2021-04-16T12:04:36.889831",
     "status": "completed"
    },
    "tags": []
   },
   "outputs": [
    {
     "data": {
      "text/plain": [
       "'https://raw.githubusercontent.com/pratapvardhan/notebooks/master/covid19/mapping_countries.csv'"
      ]
     },
     "execution_count": 3,
     "metadata": {},
     "output_type": "execute_result"
    }
   ],
   "source": [
    "#hide\n",
    "paths['mapping']"
   ]
  },
  {
   "cell_type": "code",
   "execution_count": 4,
   "id": "urban-software",
   "metadata": {
    "execution": {
     "iopub.execute_input": "2021-04-16T12:04:37.018075Z",
     "iopub.status.busy": "2021-04-16T12:04:37.017368Z",
     "iopub.status.idle": "2021-04-16T12:04:37.019447Z",
     "shell.execute_reply": "2021-04-16T12:04:37.019990Z"
    },
    "papermill": {
     "duration": 0.043948,
     "end_time": "2021-04-16T12:04:37.020113",
     "exception": false,
     "start_time": "2021-04-16T12:04:36.976165",
     "status": "completed"
    },
    "tags": []
   },
   "outputs": [],
   "source": [
    "#hide\n",
    "def get_mappings(url):\n",
    "    df = pd.read_csv(url)\n",
    "    return {\n",
    "        'df': df,\n",
    "        'replace.country': dict(df.dropna(subset=['Name']).set_index('Country')['Name']),\n",
    "        'map.continent': dict(df.set_index('Name')['Continent'])\n",
    "    }"
   ]
  },
  {
   "cell_type": "code",
   "execution_count": 5,
   "id": "intimate-machinery",
   "metadata": {
    "execution": {
     "iopub.execute_input": "2021-04-16T12:04:37.096939Z",
     "iopub.status.busy": "2021-04-16T12:04:37.096303Z",
     "iopub.status.idle": "2021-04-16T12:04:37.130032Z",
     "shell.execute_reply": "2021-04-16T12:04:37.129552Z"
    },
    "papermill": {
     "duration": 0.074887,
     "end_time": "2021-04-16T12:04:37.130170",
     "exception": false,
     "start_time": "2021-04-16T12:04:37.055283",
     "status": "completed"
    },
    "tags": []
   },
   "outputs": [],
   "source": [
    "#hide\n",
    "mapping = get_mappings(paths['mapping'])"
   ]
  },
  {
   "cell_type": "code",
   "execution_count": 6,
   "id": "certified-tactics",
   "metadata": {
    "execution": {
     "iopub.execute_input": "2021-04-16T12:04:37.206654Z",
     "iopub.status.busy": "2021-04-16T12:04:37.205990Z",
     "iopub.status.idle": "2021-04-16T12:04:37.208872Z",
     "shell.execute_reply": "2021-04-16T12:04:37.208073Z"
    },
    "papermill": {
     "duration": 0.043285,
     "end_time": "2021-04-16T12:04:37.209006",
     "exception": false,
     "start_time": "2021-04-16T12:04:37.165721",
     "status": "completed"
    },
    "tags": []
   },
   "outputs": [],
   "source": [
    "#hide\n",
    "def get_template(path):\n",
    "    from urllib.parse import urlparse\n",
    "    if bool(urlparse(path).netloc):\n",
    "        from urllib.request import urlopen\n",
    "        return urlopen(path).read().decode('utf8')\n",
    "    return open(path).read()"
   ]
  },
  {
   "cell_type": "code",
   "execution_count": 7,
   "id": "realistic-blast",
   "metadata": {
    "execution": {
     "iopub.execute_input": "2021-04-16T12:04:37.284997Z",
     "iopub.status.busy": "2021-04-16T12:04:37.284362Z",
     "iopub.status.idle": "2021-04-16T12:04:37.285985Z",
     "shell.execute_reply": "2021-04-16T12:04:37.286509Z"
    },
    "papermill": {
     "duration": 0.042461,
     "end_time": "2021-04-16T12:04:37.286632",
     "exception": false,
     "start_time": "2021-04-16T12:04:37.244171",
     "status": "completed"
    },
    "tags": []
   },
   "outputs": [],
   "source": [
    "#hide\n",
    "def get_frame(name):\n",
    "    url = (\n",
    "        'https://raw.githubusercontent.com/CSSEGISandData/COVID-19/master/csse_covid_19_data/'\n",
    "        f'csse_covid_19_time_series/time_series_covid19_{name}_global.csv')\n",
    "    df = pd.read_csv(url)\n",
    "    # rename countries\n",
    "    df['Country/Region'] = df['Country/Region'].replace(mapping['replace.country'])\n",
    "    return df"
   ]
  },
  {
   "cell_type": "code",
   "execution_count": 8,
   "id": "affiliated-characterization",
   "metadata": {
    "execution": {
     "iopub.execute_input": "2021-04-16T12:04:37.367778Z",
     "iopub.status.busy": "2021-04-16T12:04:37.367183Z",
     "iopub.status.idle": "2021-04-16T12:04:37.368908Z",
     "shell.execute_reply": "2021-04-16T12:04:37.369394Z"
    },
    "papermill": {
     "duration": 0.045772,
     "end_time": "2021-04-16T12:04:37.369542",
     "exception": false,
     "start_time": "2021-04-16T12:04:37.323770",
     "status": "completed"
    },
    "tags": []
   },
   "outputs": [],
   "source": [
    "#hide\n",
    "def get_dates(df):\n",
    "    dt_cols = df.columns[~df.columns.isin(['Province/State', 'Country/Region', 'Lat', 'Long'])]\n",
    "    LAST_DATE_I = -1\n",
    "    # sometimes last column may be empty, then go backwards\n",
    "    for i in range(-1, -len(dt_cols), -1):\n",
    "        if not df[dt_cols[i]].fillna(0).eq(0).all():\n",
    "            LAST_DATE_I = i\n",
    "            break\n",
    "    return LAST_DATE_I, dt_cols"
   ]
  },
  {
   "cell_type": "code",
   "execution_count": 9,
   "id": "recent-optimization",
   "metadata": {
    "execution": {
     "iopub.execute_input": "2021-04-16T12:04:37.448816Z",
     "iopub.status.busy": "2021-04-16T12:04:37.448140Z",
     "iopub.status.idle": "2021-04-16T12:04:37.744863Z",
     "shell.execute_reply": "2021-04-16T12:04:37.745323Z"
    },
    "papermill": {
     "duration": 0.340484,
     "end_time": "2021-04-16T12:04:37.745465",
     "exception": false,
     "start_time": "2021-04-16T12:04:37.404981",
     "status": "completed"
    },
    "tags": []
   },
   "outputs": [],
   "source": [
    "#hide\n",
    "COL_REGION = 'Country/Region'\n",
    "# Confirmed, Recovered, Deaths\n",
    "df = get_frame('confirmed')\n",
    "# dft_: timeseries, dfc_: today country agg\n",
    "dft_cases = df\n",
    "dft_deaths = get_frame('deaths')\n",
    "dft_recovered = get_frame('recovered')\n",
    "LAST_DATE_I, dt_cols = get_dates(df)"
   ]
  },
  {
   "cell_type": "code",
   "execution_count": 10,
   "id": "absolute-copper",
   "metadata": {
    "execution": {
     "iopub.execute_input": "2021-04-16T12:04:37.822106Z",
     "iopub.status.busy": "2021-04-16T12:04:37.821520Z",
     "iopub.status.idle": "2021-04-16T12:04:37.823913Z",
     "shell.execute_reply": "2021-04-16T12:04:37.823409Z"
    },
    "papermill": {
     "duration": 0.04328,
     "end_time": "2021-04-16T12:04:37.824088",
     "exception": false,
     "start_time": "2021-04-16T12:04:37.780808",
     "status": "completed"
    },
    "tags": []
   },
   "outputs": [],
   "source": [
    "#hide\n",
    "LAST_DATE_I, dt_cols = get_dates(df)\n",
    "dt_today =dt_cols[LAST_DATE_I]\n",
    "# dt_5day = dt_cols[LAST_DATE_I - 5]\n",
    "dt_yday = dt_cols[LAST_DATE_I - 1]"
   ]
  },
  {
   "cell_type": "code",
   "execution_count": 11,
   "id": "restricted-sheriff",
   "metadata": {
    "execution": {
     "iopub.execute_input": "2021-04-16T12:04:37.902523Z",
     "iopub.status.busy": "2021-04-16T12:04:37.901947Z",
     "iopub.status.idle": "2021-04-16T12:04:37.910295Z",
     "shell.execute_reply": "2021-04-16T12:04:37.910894Z"
    },
    "papermill": {
     "duration": 0.051518,
     "end_time": "2021-04-16T12:04:37.911058",
     "exception": false,
     "start_time": "2021-04-16T12:04:37.859540",
     "status": "completed"
    },
    "tags": []
   },
   "outputs": [],
   "source": [
    "#hide\n",
    "dfc_cases = dft_cases.groupby(COL_REGION)[dt_today].sum()\n",
    "dfc_deaths = dft_deaths.groupby(COL_REGION)[dt_today].sum()\n",
    "# dfp_cases = dft_cases.groupby(COL_REGION)[dt_5day].sum()\n",
    "# dfp_deaths = dft_deaths.groupby(COL_REGION)[dt_5day].sum()\n",
    "dfp_cases = dft_cases.groupby(COL_REGION)[dt_yday].sum()\n",
    "dfp_deaths = dft_deaths.groupby(COL_REGION)[dt_yday].sum()"
   ]
  },
  {
   "cell_type": "code",
   "execution_count": 12,
   "id": "deluxe-hepatitis",
   "metadata": {
    "execution": {
     "iopub.execute_input": "2021-04-16T12:04:37.988778Z",
     "iopub.status.busy": "2021-04-16T12:04:37.988155Z",
     "iopub.status.idle": "2021-04-16T12:04:37.993180Z",
     "shell.execute_reply": "2021-04-16T12:04:37.993690Z"
    },
    "papermill": {
     "duration": 0.048237,
     "end_time": "2021-04-16T12:04:37.993809",
     "exception": false,
     "start_time": "2021-04-16T12:04:37.945572",
     "status": "completed"
    },
    "tags": []
   },
   "outputs": [],
   "source": [
    "#hide\n",
    "df_table = (pd.DataFrame(dict(Cases = dfc_cases, Deaths = dfc_deaths, PCases = dfp_cases, PDeaths = dfp_deaths))\n",
    "            .sort_values(by = ['Cases','Deaths'], ascending = [False, False])\n",
    "            .reset_index())"
   ]
  },
  {
   "cell_type": "code",
   "execution_count": 13,
   "id": "educational-chancellor",
   "metadata": {
    "execution": {
     "iopub.execute_input": "2021-04-16T12:04:38.071601Z",
     "iopub.status.busy": "2021-04-16T12:04:38.070970Z",
     "iopub.status.idle": "2021-04-16T12:04:38.096754Z",
     "shell.execute_reply": "2021-04-16T12:04:38.096240Z"
    },
    "papermill": {
     "duration": 0.063201,
     "end_time": "2021-04-16T12:04:38.096894",
     "exception": false,
     "start_time": "2021-04-16T12:04:38.033693",
     "status": "completed"
    },
    "tags": []
   },
   "outputs": [
    {
     "data": {
      "text/html": [
       "<div>\n",
       "<style scoped>\n",
       "    .dataframe tbody tr th:only-of-type {\n",
       "        vertical-align: middle;\n",
       "    }\n",
       "\n",
       "    .dataframe tbody tr th {\n",
       "        vertical-align: top;\n",
       "    }\n",
       "\n",
       "    .dataframe thead th {\n",
       "        text-align: right;\n",
       "    }\n",
       "</style>\n",
       "<table border=\"1\" class=\"dataframe\">\n",
       "  <thead>\n",
       "    <tr style=\"text-align: right;\">\n",
       "      <th></th>\n",
       "      <th>Country/Region</th>\n",
       "      <th>Cases</th>\n",
       "      <th>Deaths</th>\n",
       "      <th>PCases</th>\n",
       "      <th>PDeaths</th>\n",
       "      <th>Cases (+)</th>\n",
       "      <th>Deaths (+)</th>\n",
       "      <th>Fatality Rate</th>\n",
       "      <th>Continent</th>\n",
       "    </tr>\n",
       "  </thead>\n",
       "  <tbody>\n",
       "    <tr>\n",
       "      <th>0</th>\n",
       "      <td>US</td>\n",
       "      <td>31495649</td>\n",
       "      <td>565289</td>\n",
       "      <td>31421360</td>\n",
       "      <td>564402</td>\n",
       "      <td>74289</td>\n",
       "      <td>887</td>\n",
       "      <td>1.79</td>\n",
       "      <td>North America</td>\n",
       "    </tr>\n",
       "    <tr>\n",
       "      <th>1</th>\n",
       "      <td>India</td>\n",
       "      <td>14291917</td>\n",
       "      <td>174308</td>\n",
       "      <td>14074564</td>\n",
       "      <td>173123</td>\n",
       "      <td>217353</td>\n",
       "      <td>1185</td>\n",
       "      <td>1.22</td>\n",
       "      <td>Asia</td>\n",
       "    </tr>\n",
       "    <tr>\n",
       "      <th>2</th>\n",
       "      <td>Brazil</td>\n",
       "      <td>13746681</td>\n",
       "      <td>365444</td>\n",
       "      <td>13673507</td>\n",
       "      <td>361884</td>\n",
       "      <td>73174</td>\n",
       "      <td>3560</td>\n",
       "      <td>2.66</td>\n",
       "      <td>South America</td>\n",
       "    </tr>\n",
       "    <tr>\n",
       "      <th>3</th>\n",
       "      <td>France</td>\n",
       "      <td>5248853</td>\n",
       "      <td>100232</td>\n",
       "      <td>5210772</td>\n",
       "      <td>99936</td>\n",
       "      <td>38081</td>\n",
       "      <td>296</td>\n",
       "      <td>1.91</td>\n",
       "      <td>Europe</td>\n",
       "    </tr>\n",
       "    <tr>\n",
       "      <th>4</th>\n",
       "      <td>Russia</td>\n",
       "      <td>4622464</td>\n",
       "      <td>102667</td>\n",
       "      <td>4613646</td>\n",
       "      <td>102275</td>\n",
       "      <td>8818</td>\n",
       "      <td>392</td>\n",
       "      <td>2.22</td>\n",
       "      <td>Europe</td>\n",
       "    </tr>\n",
       "  </tbody>\n",
       "</table>\n",
       "</div>"
      ],
      "text/plain": [
       "  Country/Region     Cases  Deaths    PCases  PDeaths  Cases (+)  Deaths (+)  \\\n",
       "0             US  31495649  565289  31421360   564402      74289         887   \n",
       "1          India  14291917  174308  14074564   173123     217353        1185   \n",
       "2         Brazil  13746681  365444  13673507   361884      73174        3560   \n",
       "3         France   5248853  100232   5210772    99936      38081         296   \n",
       "4         Russia   4622464  102667   4613646   102275       8818         392   \n",
       "\n",
       "   Fatality Rate      Continent  \n",
       "0           1.79  North America  \n",
       "1           1.22           Asia  \n",
       "2           2.66  South America  \n",
       "3           1.91         Europe  \n",
       "4           2.22         Europe  "
      ]
     },
     "execution_count": 13,
     "metadata": {},
     "output_type": "execute_result"
    }
   ],
   "source": [
    "#hide\n",
    "for c in 'Cases, Deaths'.split(', '):\n",
    "    df_table[f'{c} (+)'] = (df_table[c] - df_table[f'P{c}']).clip(0)\n",
    "    #Clip ça veut dire, les chiffres negatif sont interdit\n",
    "df_table['Fatality Rate'] = (100* df_table['Deaths']/ df_table['Cases']).round(2)\n",
    "df_table['Continent'] = df_table['Country/Region'].map(mapping['map.continent'])\n",
    "df_table.head(5)"
   ]
  },
  {
   "cell_type": "code",
   "execution_count": 14,
   "id": "aboriginal-bulgaria",
   "metadata": {
    "execution": {
     "iopub.execute_input": "2021-04-16T12:04:38.173064Z",
     "iopub.status.busy": "2021-04-16T12:04:38.172405Z",
     "iopub.status.idle": "2021-04-16T12:04:38.174251Z",
     "shell.execute_reply": "2021-04-16T12:04:38.174780Z"
    },
    "papermill": {
     "duration": 0.043912,
     "end_time": "2021-04-16T12:04:38.174924",
     "exception": false,
     "start_time": "2021-04-16T12:04:38.131012",
     "status": "completed"
    },
    "tags": []
   },
   "outputs": [],
   "source": [
    "#hide\n",
    "#delete problematic countries from table\n",
    "df_table = df_table[~df_table['Country/Region'].isin(['Cape Verde', 'Cruise Ship', 'Kosovo'])]"
   ]
  },
  {
   "cell_type": "code",
   "execution_count": 15,
   "id": "fantastic-effect",
   "metadata": {
    "execution": {
     "iopub.execute_input": "2021-04-16T12:04:38.259830Z",
     "iopub.status.busy": "2021-04-16T12:04:38.259249Z",
     "iopub.status.idle": "2021-04-16T12:04:38.281512Z",
     "shell.execute_reply": "2021-04-16T12:04:38.282009Z"
    },
    "papermill": {
     "duration": 0.0662,
     "end_time": "2021-04-16T12:04:38.282145",
     "exception": false,
     "start_time": "2021-04-16T12:04:38.215945",
     "status": "completed"
    },
    "tags": []
   },
   "outputs": [
    {
     "data": {
      "text/html": [
       "<div>\n",
       "<style scoped>\n",
       "    .dataframe tbody tr th:only-of-type {\n",
       "        vertical-align: middle;\n",
       "    }\n",
       "\n",
       "    .dataframe tbody tr th {\n",
       "        vertical-align: top;\n",
       "    }\n",
       "\n",
       "    .dataframe thead th {\n",
       "        text-align: right;\n",
       "    }\n",
       "</style>\n",
       "<table border=\"1\" class=\"dataframe\">\n",
       "  <thead>\n",
       "    <tr style=\"text-align: right;\">\n",
       "      <th></th>\n",
       "      <th>Country/Region</th>\n",
       "      <th>Cases</th>\n",
       "      <th>Deaths</th>\n",
       "      <th>PCases</th>\n",
       "      <th>PDeaths</th>\n",
       "      <th>Cases (+)</th>\n",
       "      <th>Deaths (+)</th>\n",
       "      <th>Fatality Rate</th>\n",
       "      <th>Continent</th>\n",
       "    </tr>\n",
       "  </thead>\n",
       "  <tbody>\n",
       "    <tr>\n",
       "      <th>0</th>\n",
       "      <td>US</td>\n",
       "      <td>31495649</td>\n",
       "      <td>565289</td>\n",
       "      <td>31421360</td>\n",
       "      <td>564402</td>\n",
       "      <td>74289</td>\n",
       "      <td>887</td>\n",
       "      <td>1.8</td>\n",
       "      <td>North America</td>\n",
       "    </tr>\n",
       "    <tr>\n",
       "      <th>1</th>\n",
       "      <td>India</td>\n",
       "      <td>14291917</td>\n",
       "      <td>174308</td>\n",
       "      <td>14074564</td>\n",
       "      <td>173123</td>\n",
       "      <td>217353</td>\n",
       "      <td>1185</td>\n",
       "      <td>1.2</td>\n",
       "      <td>Asia</td>\n",
       "    </tr>\n",
       "    <tr>\n",
       "      <th>2</th>\n",
       "      <td>Brazil</td>\n",
       "      <td>13746681</td>\n",
       "      <td>365444</td>\n",
       "      <td>13673507</td>\n",
       "      <td>361884</td>\n",
       "      <td>73174</td>\n",
       "      <td>3560</td>\n",
       "      <td>2.7</td>\n",
       "      <td>South America</td>\n",
       "    </tr>\n",
       "    <tr>\n",
       "      <th>3</th>\n",
       "      <td>France</td>\n",
       "      <td>5248853</td>\n",
       "      <td>100232</td>\n",
       "      <td>5210772</td>\n",
       "      <td>99936</td>\n",
       "      <td>38081</td>\n",
       "      <td>296</td>\n",
       "      <td>1.9</td>\n",
       "      <td>Europe</td>\n",
       "    </tr>\n",
       "    <tr>\n",
       "      <th>4</th>\n",
       "      <td>Russia</td>\n",
       "      <td>4622464</td>\n",
       "      <td>102667</td>\n",
       "      <td>4613646</td>\n",
       "      <td>102275</td>\n",
       "      <td>8818</td>\n",
       "      <td>392</td>\n",
       "      <td>2.2</td>\n",
       "      <td>Europe</td>\n",
       "    </tr>\n",
       "  </tbody>\n",
       "</table>\n",
       "</div>"
      ],
      "text/plain": [
       "  Country/Region     Cases  Deaths    PCases  PDeaths  Cases (+)  Deaths (+)  \\\n",
       "0             US  31495649  565289  31421360   564402      74289         887   \n",
       "1          India  14291917  174308  14074564   173123     217353        1185   \n",
       "2         Brazil  13746681  365444  13673507   361884      73174        3560   \n",
       "3         France   5248853  100232   5210772    99936      38081         296   \n",
       "4         Russia   4622464  102667   4613646   102275       8818         392   \n",
       "\n",
       "   Fatality Rate      Continent  \n",
       "0            1.8  North America  \n",
       "1            1.2           Asia  \n",
       "2            2.7  South America  \n",
       "3            1.9         Europe  \n",
       "4            2.2         Europe  "
      ]
     },
     "execution_count": 15,
     "metadata": {},
     "output_type": "execute_result"
    }
   ],
   "source": [
    "#hide\n",
    "df_table = (pd.DataFrame(dict(Cases=dfc_cases, Deaths=dfc_deaths, PCases=dfp_cases, PDeaths=dfp_deaths))\n",
    "             .sort_values(by=['Cases', 'Deaths'], ascending=[False, False])\n",
    "             .reset_index())\n",
    "df_table.rename(columns={'index': 'Country/Region'}, inplace=True)\n",
    "for c in 'Cases, Deaths'.split(', '):\n",
    "    df_table[f'{c} (+)'] = (df_table[c] - df_table[f'P{c}']).clip(0)  # DATA BUG\n",
    "df_table['Fatality Rate'] = (100 * df_table['Deaths'] / df_table['Cases']).round(1)\n",
    "df_table['Continent'] = df_table['Country/Region'].map(mapping['map.continent'])\n",
    "df_table.head(5)"
   ]
  },
  {
   "cell_type": "code",
   "execution_count": 16,
   "id": "fewer-occasion",
   "metadata": {
    "execution": {
     "iopub.execute_input": "2021-04-16T12:04:38.371214Z",
     "iopub.status.busy": "2021-04-16T12:04:38.370484Z",
     "iopub.status.idle": "2021-04-16T12:04:38.373421Z",
     "shell.execute_reply": "2021-04-16T12:04:38.372863Z"
    },
    "papermill": {
     "duration": 0.051252,
     "end_time": "2021-04-16T12:04:38.373555",
     "exception": false,
     "start_time": "2021-04-16T12:04:38.322303",
     "status": "completed"
    },
    "tags": []
   },
   "outputs": [],
   "source": [
    "#hide\n",
    "#delete problematic countries from table\n",
    "df_table = df_table[~df_table['Country/Region'].isin(['Cape Verde', 'Cruise Ship', 'Kosovo'])]"
   ]
  },
  {
   "cell_type": "code",
   "execution_count": 17,
   "id": "related-center",
   "metadata": {
    "execution": {
     "iopub.execute_input": "2021-04-16T12:04:38.469216Z",
     "iopub.status.busy": "2021-04-16T12:04:38.468409Z",
     "iopub.status.idle": "2021-04-16T12:04:38.470016Z",
     "shell.execute_reply": "2021-04-16T12:04:38.470669Z"
    },
    "papermill": {
     "duration": 0.059241,
     "end_time": "2021-04-16T12:04:38.470836",
     "exception": false,
     "start_time": "2021-04-16T12:04:38.411595",
     "status": "completed"
    },
    "tags": []
   },
   "outputs": [],
   "source": [
    "#hide\n",
    "metrics = [df_table.columns[index] for index in [1,2,5,6]]\n",
    "# s_china = df_table[df_table['Country/Region'].eq('China')][metrics].sum().add_prefix('China ')\n",
    "s_us = df_table[df_table['Country/Region'].eq('US')][metrics].sum().add_prefix('US ')\n",
    "s_eu = df_table[df_table['Continent'].eq('Europe')][metrics].sum().add_prefix('EU ')\n",
    "s_ind = df_table[df_table['Country/Region'].eq('India')][metrics].sum().add_prefix('India ')\n",
    "summary = {'updated': pd.to_datetime(dt_today), 'since': pd.to_datetime(dt_yday)}\n",
    "summary = {'updated': pd.to_datetime(dt_today), 'since': pd.to_datetime(dt_yday)}\n",
    "summary = {**summary, **df_table[metrics].sum(), **s_ind, **s_us, **s_eu}"
   ]
  },
  {
   "cell_type": "code",
   "execution_count": 18,
   "id": "engaging-syndrome",
   "metadata": {
    "execution": {
     "iopub.execute_input": "2021-04-16T12:04:38.554713Z",
     "iopub.status.busy": "2021-04-16T12:04:38.554091Z",
     "iopub.status.idle": "2021-04-16T12:04:38.568645Z",
     "shell.execute_reply": "2021-04-16T12:04:38.569157Z"
    },
    "papermill": {
     "duration": 0.061658,
     "end_time": "2021-04-16T12:04:38.569313",
     "exception": false,
     "start_time": "2021-04-16T12:04:38.507655",
     "status": "completed"
    },
    "tags": []
   },
   "outputs": [],
   "source": [
    "#hide\n",
    "dft_ct_new_cases = dft_cases.groupby(COL_REGION)[dt_cols].sum().diff(axis=1).fillna(0).astype(int)"
   ]
  },
  {
   "cell_type": "code",
   "execution_count": 19,
   "id": "neutral-assignment",
   "metadata": {
    "execution": {
     "iopub.execute_input": "2021-04-16T12:04:38.651302Z",
     "iopub.status.busy": "2021-04-16T12:04:38.650717Z",
     "iopub.status.idle": "2021-04-16T12:04:38.653018Z",
     "shell.execute_reply": "2021-04-16T12:04:38.653521Z"
    },
    "papermill": {
     "duration": 0.046444,
     "end_time": "2021-04-16T12:04:38.653651",
     "exception": false,
     "start_time": "2021-04-16T12:04:38.607207",
     "status": "completed"
    },
    "tags": []
   },
   "outputs": [],
   "source": [
    "#hide\n",
    "everydaycases = dft_ct_new_cases.cumsum(axis=1)"
   ]
  },
  {
   "cell_type": "code",
   "execution_count": 20,
   "id": "parliamentary-calgary",
   "metadata": {
    "execution": {
     "iopub.execute_input": "2021-04-16T12:04:38.730506Z",
     "iopub.status.busy": "2021-04-16T12:04:38.729839Z",
     "iopub.status.idle": "2021-04-16T12:04:39.336473Z",
     "shell.execute_reply": "2021-04-16T12:04:39.336974Z"
    },
    "papermill": {
     "duration": 0.646266,
     "end_time": "2021-04-16T12:04:39.337126",
     "exception": false,
     "start_time": "2021-04-16T12:04:38.690860",
     "status": "completed"
    },
    "tags": []
   },
   "outputs": [],
   "source": [
    "#hide\n",
    "import pandas as pd\n",
    "import matplotlib.pyplot as plt\n",
    "import matplotlib.ticker as ticker\n",
    "import matplotlib.animation as animation\n",
    "from IPython.display import HTML"
   ]
  },
  {
   "cell_type": "code",
   "execution_count": 21,
   "id": "lasting-extraction",
   "metadata": {
    "execution": {
     "iopub.execute_input": "2021-04-16T12:04:39.419258Z",
     "iopub.status.busy": "2021-04-16T12:04:39.418690Z",
     "iopub.status.idle": "2021-04-16T12:04:39.425040Z",
     "shell.execute_reply": "2021-04-16T12:04:39.424413Z"
    },
    "papermill": {
     "duration": 0.04732,
     "end_time": "2021-04-16T12:04:39.425181",
     "exception": false,
     "start_time": "2021-04-16T12:04:39.377861",
     "status": "completed"
    },
    "tags": []
   },
   "outputs": [],
   "source": [
    "#hide\n",
    "t = everydaycases.stack()"
   ]
  },
  {
   "cell_type": "code",
   "execution_count": 22,
   "id": "premier-sleeve",
   "metadata": {
    "execution": {
     "iopub.execute_input": "2021-04-16T12:04:39.496280Z",
     "iopub.status.busy": "2021-04-16T12:04:39.495644Z",
     "iopub.status.idle": "2021-04-16T12:04:39.512511Z",
     "shell.execute_reply": "2021-04-16T12:04:39.512051Z"
    },
    "papermill": {
     "duration": 0.054767,
     "end_time": "2021-04-16T12:04:39.512650",
     "exception": false,
     "start_time": "2021-04-16T12:04:39.457883",
     "status": "completed"
    },
    "tags": []
   },
   "outputs": [],
   "source": [
    "#hide\n",
    "g = t.reset_index(['Country/Region'])"
   ]
  },
  {
   "cell_type": "code",
   "execution_count": 23,
   "id": "distributed-pittsburgh",
   "metadata": {
    "execution": {
     "iopub.execute_input": "2021-04-16T12:04:39.587529Z",
     "iopub.status.busy": "2021-04-16T12:04:39.586867Z",
     "iopub.status.idle": "2021-04-16T12:04:39.588663Z",
     "shell.execute_reply": "2021-04-16T12:04:39.589272Z"
    },
    "papermill": {
     "duration": 0.040381,
     "end_time": "2021-04-16T12:04:39.589413",
     "exception": false,
     "start_time": "2021-04-16T12:04:39.549032",
     "status": "completed"
    },
    "tags": []
   },
   "outputs": [],
   "source": [
    "#hide\n",
    "g.index.name = 'date'"
   ]
  },
  {
   "cell_type": "code",
   "execution_count": 24,
   "id": "naked-donor",
   "metadata": {
    "execution": {
     "iopub.execute_input": "2021-04-16T12:04:39.664705Z",
     "iopub.status.busy": "2021-04-16T12:04:39.664120Z",
     "iopub.status.idle": "2021-04-16T12:04:39.666274Z",
     "shell.execute_reply": "2021-04-16T12:04:39.665700Z"
    },
    "papermill": {
     "duration": 0.041634,
     "end_time": "2021-04-16T12:04:39.666378",
     "exception": false,
     "start_time": "2021-04-16T12:04:39.624744",
     "status": "completed"
    },
    "tags": []
   },
   "outputs": [],
   "source": [
    "# #hide\n",
    "# g = g.reset_index(['date'])"
   ]
  },
  {
   "cell_type": "code",
   "execution_count": 25,
   "id": "incomplete-mustang",
   "metadata": {
    "execution": {
     "iopub.execute_input": "2021-04-16T12:04:39.740937Z",
     "iopub.status.busy": "2021-04-16T12:04:39.740395Z",
     "iopub.status.idle": "2021-04-16T12:04:39.742199Z",
     "shell.execute_reply": "2021-04-16T12:04:39.742606Z"
    },
    "papermill": {
     "duration": 0.041882,
     "end_time": "2021-04-16T12:04:39.742721",
     "exception": false,
     "start_time": "2021-04-16T12:04:39.700839",
     "status": "completed"
    },
    "tags": []
   },
   "outputs": [],
   "source": [
    "#hide\n",
    "# g.head()"
   ]
  },
  {
   "cell_type": "code",
   "execution_count": 26,
   "id": "specific-kruger",
   "metadata": {
    "execution": {
     "iopub.execute_input": "2021-04-16T12:04:39.813840Z",
     "iopub.status.busy": "2021-04-16T12:04:39.813263Z",
     "iopub.status.idle": "2021-04-16T12:04:39.815211Z",
     "shell.execute_reply": "2021-04-16T12:04:39.815752Z"
    },
    "papermill": {
     "duration": 0.039407,
     "end_time": "2021-04-16T12:04:39.815864",
     "exception": false,
     "start_time": "2021-04-16T12:04:39.776457",
     "status": "completed"
    },
    "tags": []
   },
   "outputs": [],
   "source": [
    "#hide\n",
    "# g.columns = ['date','country','cases']"
   ]
  },
  {
   "cell_type": "code",
   "execution_count": 27,
   "id": "tender-conversion",
   "metadata": {
    "execution": {
     "iopub.execute_input": "2021-04-16T12:04:39.886476Z",
     "iopub.status.busy": "2021-04-16T12:04:39.885766Z",
     "iopub.status.idle": "2021-04-16T12:04:39.889331Z",
     "shell.execute_reply": "2021-04-16T12:04:39.888806Z"
    },
    "papermill": {
     "duration": 0.040049,
     "end_time": "2021-04-16T12:04:39.889434",
     "exception": false,
     "start_time": "2021-04-16T12:04:39.849385",
     "status": "completed"
    },
    "tags": []
   },
   "outputs": [],
   "source": [
    "#hide\n",
    "# g['continent'] = g.country"
   ]
  },
  {
   "cell_type": "code",
   "execution_count": 28,
   "id": "substantial-wilderness",
   "metadata": {
    "execution": {
     "iopub.execute_input": "2021-04-16T12:04:39.964004Z",
     "iopub.status.busy": "2021-04-16T12:04:39.963367Z",
     "iopub.status.idle": "2021-04-16T12:04:39.965391Z",
     "shell.execute_reply": "2021-04-16T12:04:39.965957Z"
    },
    "papermill": {
     "duration": 0.042931,
     "end_time": "2021-04-16T12:04:39.966154",
     "exception": false,
     "start_time": "2021-04-16T12:04:39.923223",
     "status": "completed"
    },
    "tags": []
   },
   "outputs": [],
   "source": [
    "#hide\n",
    "# cols = list(g.columns.values)"
   ]
  },
  {
   "cell_type": "code",
   "execution_count": 29,
   "id": "solved-farming",
   "metadata": {
    "execution": {
     "iopub.execute_input": "2021-04-16T12:04:40.045521Z",
     "iopub.status.busy": "2021-04-16T12:04:40.044925Z",
     "iopub.status.idle": "2021-04-16T12:04:40.047191Z",
     "shell.execute_reply": "2021-04-16T12:04:40.047646Z"
    },
    "papermill": {
     "duration": 0.044847,
     "end_time": "2021-04-16T12:04:40.047772",
     "exception": false,
     "start_time": "2021-04-16T12:04:40.002925",
     "status": "completed"
    },
    "tags": []
   },
   "outputs": [],
   "source": [
    "#hide\n",
    "# cols.insert(0, cols.pop())"
   ]
  },
  {
   "cell_type": "code",
   "execution_count": 30,
   "id": "executed-adoption",
   "metadata": {
    "execution": {
     "iopub.execute_input": "2021-04-16T12:04:40.120812Z",
     "iopub.status.busy": "2021-04-16T12:04:40.120238Z",
     "iopub.status.idle": "2021-04-16T12:04:40.121984Z",
     "shell.execute_reply": "2021-04-16T12:04:40.122465Z"
    },
    "papermill": {
     "duration": 0.040473,
     "end_time": "2021-04-16T12:04:40.122585",
     "exception": false,
     "start_time": "2021-04-16T12:04:40.082112",
     "status": "completed"
    },
    "tags": []
   },
   "outputs": [],
   "source": [
    "#hide\n",
    "# g = g[cols]"
   ]
  },
  {
   "cell_type": "code",
   "execution_count": 31,
   "id": "subject-dublin",
   "metadata": {
    "execution": {
     "iopub.execute_input": "2021-04-16T12:04:40.194077Z",
     "iopub.status.busy": "2021-04-16T12:04:40.193504Z",
     "iopub.status.idle": "2021-04-16T12:04:40.195714Z",
     "shell.execute_reply": "2021-04-16T12:04:40.195166Z"
    },
    "papermill": {
     "duration": 0.039342,
     "end_time": "2021-04-16T12:04:40.195813",
     "exception": false,
     "start_time": "2021-04-16T12:04:40.156471",
     "status": "completed"
    },
    "tags": []
   },
   "outputs": [],
   "source": [
    "#hide\n",
    "# g['continent'] = g['continent'].map(mapping['map.continent'])"
   ]
  },
  {
   "cell_type": "code",
   "execution_count": 32,
   "id": "freelance-scout",
   "metadata": {
    "execution": {
     "iopub.execute_input": "2021-04-16T12:04:40.271773Z",
     "iopub.status.busy": "2021-04-16T12:04:40.271185Z",
     "iopub.status.idle": "2021-04-16T12:04:40.273471Z",
     "shell.execute_reply": "2021-04-16T12:04:40.272991Z"
    },
    "papermill": {
     "duration": 0.042186,
     "end_time": "2021-04-16T12:04:40.273577",
     "exception": false,
     "start_time": "2021-04-16T12:04:40.231391",
     "status": "completed"
    },
    "tags": []
   },
   "outputs": [],
   "source": [
    "#hide\n",
    "# g.head()"
   ]
  },
  {
   "cell_type": "code",
   "execution_count": 33,
   "id": "limited-engine",
   "metadata": {
    "execution": {
     "iopub.execute_input": "2021-04-16T12:04:40.352170Z",
     "iopub.status.busy": "2021-04-16T12:04:40.351521Z",
     "iopub.status.idle": "2021-04-16T12:04:40.353290Z",
     "shell.execute_reply": "2021-04-16T12:04:40.353777Z"
    },
    "papermill": {
     "duration": 0.043602,
     "end_time": "2021-04-16T12:04:40.353901",
     "exception": false,
     "start_time": "2021-04-16T12:04:40.310299",
     "status": "completed"
    },
    "tags": []
   },
   "outputs": [],
   "source": [
    "# hide\n",
    "# g['date'] = g['date'].astype('datetime64[ns]')"
   ]
  },
  {
   "cell_type": "code",
   "execution_count": 34,
   "id": "sophisticated-supervisor",
   "metadata": {
    "execution": {
     "iopub.execute_input": "2021-04-16T12:04:40.435776Z",
     "iopub.status.busy": "2021-04-16T12:04:40.435225Z",
     "iopub.status.idle": "2021-04-16T12:04:40.437738Z",
     "shell.execute_reply": "2021-04-16T12:04:40.437142Z"
    },
    "papermill": {
     "duration": 0.045052,
     "end_time": "2021-04-16T12:04:40.437855",
     "exception": false,
     "start_time": "2021-04-16T12:04:40.392803",
     "status": "completed"
    },
    "tags": []
   },
   "outputs": [],
   "source": [
    "#hide\n",
    "# g['date'] = g.date.dt.dayofyear"
   ]
  },
  {
   "cell_type": "code",
   "execution_count": 35,
   "id": "inside-dubai",
   "metadata": {
    "execution": {
     "iopub.execute_input": "2021-04-16T12:04:40.519620Z",
     "iopub.status.busy": "2021-04-16T12:04:40.518442Z",
     "iopub.status.idle": "2021-04-16T12:04:40.521170Z",
     "shell.execute_reply": "2021-04-16T12:04:40.521773Z"
    },
    "papermill": {
     "duration": 0.046673,
     "end_time": "2021-04-16T12:04:40.521899",
     "exception": false,
     "start_time": "2021-04-16T12:04:40.475226",
     "status": "completed"
    },
    "tags": []
   },
   "outputs": [],
   "source": [
    "#hide\n",
    "# g = g.rename(columns= {'continent':'group','country':'name','cases':'value'})"
   ]
  },
  {
   "cell_type": "code",
   "execution_count": 36,
   "id": "fleet-motorcycle",
   "metadata": {
    "execution": {
     "iopub.execute_input": "2021-04-16T12:04:40.600237Z",
     "iopub.status.busy": "2021-04-16T12:04:40.599657Z",
     "iopub.status.idle": "2021-04-16T12:04:40.601749Z",
     "shell.execute_reply": "2021-04-16T12:04:40.602305Z"
    },
    "papermill": {
     "duration": 0.041394,
     "end_time": "2021-04-16T12:04:40.602441",
     "exception": false,
     "start_time": "2021-04-16T12:04:40.561047",
     "status": "completed"
    },
    "tags": []
   },
   "outputs": [],
   "source": [
    "#hide\n",
    "# cols = ['name','group','day','value']"
   ]
  },
  {
   "cell_type": "code",
   "execution_count": 37,
   "id": "continued-sleeping",
   "metadata": {
    "execution": {
     "iopub.execute_input": "2021-04-16T12:04:40.681360Z",
     "iopub.status.busy": "2021-04-16T12:04:40.680775Z",
     "iopub.status.idle": "2021-04-16T12:04:40.682841Z",
     "shell.execute_reply": "2021-04-16T12:04:40.683339Z"
    },
    "papermill": {
     "duration": 0.044903,
     "end_time": "2021-04-16T12:04:40.683493",
     "exception": false,
     "start_time": "2021-04-16T12:04:40.638590",
     "status": "completed"
    },
    "tags": []
   },
   "outputs": [],
   "source": [
    "#hide\n",
    "# g.rename(columns= {'date':'day'},inplace = True)"
   ]
  },
  {
   "cell_type": "code",
   "execution_count": 38,
   "id": "major-fight",
   "metadata": {
    "execution": {
     "iopub.execute_input": "2021-04-16T12:04:40.760972Z",
     "iopub.status.busy": "2021-04-16T12:04:40.760412Z",
     "iopub.status.idle": "2021-04-16T12:04:40.762724Z",
     "shell.execute_reply": "2021-04-16T12:04:40.762231Z"
    },
    "papermill": {
     "duration": 0.041539,
     "end_time": "2021-04-16T12:04:40.762825",
     "exception": false,
     "start_time": "2021-04-16T12:04:40.721286",
     "status": "completed"
    },
    "tags": []
   },
   "outputs": [],
   "source": [
    "#hide\n",
    "# g = g[cols]"
   ]
  },
  {
   "cell_type": "code",
   "execution_count": 39,
   "id": "structured-mobile",
   "metadata": {
    "execution": {
     "iopub.execute_input": "2021-04-16T12:04:40.835438Z",
     "iopub.status.busy": "2021-04-16T12:04:40.834846Z",
     "iopub.status.idle": "2021-04-16T12:04:40.836825Z",
     "shell.execute_reply": "2021-04-16T12:04:40.837241Z"
    },
    "papermill": {
     "duration": 0.040882,
     "end_time": "2021-04-16T12:04:40.837379",
     "exception": false,
     "start_time": "2021-04-16T12:04:40.796497",
     "status": "completed"
    },
    "tags": []
   },
   "outputs": [],
   "source": [
    "# #hide\n",
    "# g = g[g.group.notna()]"
   ]
  },
  {
   "cell_type": "code",
   "execution_count": 40,
   "id": "determined-closing",
   "metadata": {
    "execution": {
     "iopub.execute_input": "2021-04-16T12:04:40.923647Z",
     "iopub.status.busy": "2021-04-16T12:04:40.922946Z",
     "iopub.status.idle": "2021-04-16T12:04:40.924724Z",
     "shell.execute_reply": "2021-04-16T12:04:40.925190Z"
    },
    "papermill": {
     "duration": 0.045644,
     "end_time": "2021-04-16T12:04:40.925349",
     "exception": false,
     "start_time": "2021-04-16T12:04:40.879705",
     "status": "completed"
    },
    "tags": []
   },
   "outputs": [],
   "source": [
    "# #hide\n",
    "# colors = dict(zip(\n",
    "#     [\"Oceania\", \"Europe\", \"Asia\", \"South America\", \"Middle East\", \"North America\", \"Africa\"],\n",
    "#     [\"#adb0ff\", \"#ffb3ff\", \"#90d595\", \"#e48381\", \"#aafbff\", \"#f7bb5f\", \"#eafb50\"]\n",
    "# ))\n",
    "# group_lk = g.set_index('name')['group'].to_dict()"
   ]
  },
  {
   "cell_type": "code",
   "execution_count": null,
   "id": "gross-drinking",
   "metadata": {
    "papermill": {
     "duration": 0.036919,
     "end_time": "2021-04-16T12:04:41.001961",
     "exception": false,
     "start_time": "2021-04-16T12:04:40.965042",
     "status": "completed"
    },
    "tags": []
   },
   "outputs": [],
   "source": []
  },
  {
   "cell_type": "code",
   "execution_count": 41,
   "id": "subject-macintosh",
   "metadata": {
    "execution": {
     "iopub.execute_input": "2021-04-16T12:04:41.076283Z",
     "iopub.status.busy": "2021-04-16T12:04:41.075688Z",
     "iopub.status.idle": "2021-04-16T12:04:41.078877Z",
     "shell.execute_reply": "2021-04-16T12:04:41.078185Z"
    },
    "papermill": {
     "duration": 0.04233,
     "end_time": "2021-04-16T12:04:41.078995",
     "exception": false,
     "start_time": "2021-04-16T12:04:41.036665",
     "status": "completed"
    },
    "tags": []
   },
   "outputs": [],
   "source": [
    "# #hide\n",
    "# fig, ax = plt.subplots(figsize=(15, 8))\n",
    "\n",
    "# def draw_barchart(current_day):\n",
    "#     dff = g[g['day'].eq(current_day)].sort_values(by='value', ascending=True).tail(10)\n",
    "#     ax.clear()\n",
    "#     ax.barh(dff['name'], dff['value'], color=[colors[group_lk[x]] for x in dff['name']])\n",
    "#     dx = dff['value'].max() / 200\n",
    "    \n",
    "#     for i, (value, name) in enumerate(zip(dff['value'], dff['name'])):\n",
    "#         ax.text(value-dx, i,     name,           size=14, weight=600, ha='right', va='bottom')\n",
    "#         ax.text(value-dx, i-.25, group_lk[name], size=10, color='#444444', ha='right', va='baseline')\n",
    "#         ax.text(value+dx, i,     f'{value:,.0f}',  size=14, ha='left',  va='center')\n",
    "#     ax.text(1, 0.4, current_day, transform=ax.transAxes, color='#777777', size=46, ha='right', weight=800)\n",
    "#     ax.text(0, 1.06, 'Population (thousands)', transform=ax.transAxes, size=12, color='#777777')\n",
    "#     ax.xaxis.set_major_formatter(ticker.StrMethodFormatter('{x:,.0f}'))\n",
    "#     ax.xaxis.set_ticks_position('top')\n",
    "#     ax.tick_params(axis='x', colors='#777777', labelsize=12)\n",
    "#     ax.set_yticks([])\n",
    "#     ax.margins(0, 0.01)\n",
    "#     ax.grid(which='major', axis='x', linestyle='-')\n",
    "#     ax.set_axisbelow(True)\n",
    "    \n",
    "#     ax.text(0, 1.15, 'Coronavirus',\n",
    "#             transform=ax.transAxes, size=24, weight=600, ha='left', va='top')\n",
    "# #     ax.text(1, 0, 'by @pratapvardhan; credit @jburnmurdoch', transform=ax.transAxes, color='#777777', ha='right',\n",
    "# #             bbox=dict(facecolor='white', alpha=0.8, edgecolor='white'))\n",
    "#     plt.box(False)"
   ]
  },
  {
   "cell_type": "code",
   "execution_count": 42,
   "id": "sexual-wages",
   "metadata": {
    "execution": {
     "iopub.execute_input": "2021-04-16T12:04:41.154637Z",
     "iopub.status.busy": "2021-04-16T12:04:41.154039Z",
     "iopub.status.idle": "2021-04-16T12:04:41.156459Z",
     "shell.execute_reply": "2021-04-16T12:04:41.156917Z"
    },
    "papermill": {
     "duration": 0.043963,
     "end_time": "2021-04-16T12:04:41.157049",
     "exception": false,
     "start_time": "2021-04-16T12:04:41.113086",
     "status": "completed"
    },
    "tags": []
   },
   "outputs": [],
   "source": [
    "# #hide_input\n",
    "# fig, ax = plt.subplots(figsize=(15, 8))\n",
    "# animator = animation.FuncAnimation(fig, draw_barchart, frames=range(g.day.values.min(), g.day.values.max()))\n",
    "# HTML(animator.to_jshtml())\n",
    "# # or use animator.to_html5_video() or animator.save() "
   ]
  },
  {
   "cell_type": "code",
   "execution_count": null,
   "id": "australian-container",
   "metadata": {
    "papermill": {
     "duration": 0.035847,
     "end_time": "2021-04-16T12:04:41.230428",
     "exception": false,
     "start_time": "2021-04-16T12:04:41.194581",
     "status": "completed"
    },
    "tags": []
   },
   "outputs": [],
   "source": []
  },
  {
   "cell_type": "code",
   "execution_count": null,
   "id": "mediterranean-pontiac",
   "metadata": {
    "papermill": {
     "duration": 0.034411,
     "end_time": "2021-04-16T12:04:41.302107",
     "exception": false,
     "start_time": "2021-04-16T12:04:41.267696",
     "status": "completed"
    },
    "tags": []
   },
   "outputs": [],
   "source": []
  },
  {
   "cell_type": "code",
   "execution_count": null,
   "id": "aging-legislature",
   "metadata": {
    "papermill": {
     "duration": 0.035012,
     "end_time": "2021-04-16T12:04:41.372990",
     "exception": false,
     "start_time": "2021-04-16T12:04:41.337978",
     "status": "completed"
    },
    "tags": []
   },
   "outputs": [],
   "source": []
  }
 ],
 "metadata": {
  "kernelspec": {
   "display_name": "Python 3",
   "language": "python",
   "name": "python3"
  },
  "language_info": {
   "codemirror_mode": {
    "name": "ipython",
    "version": 3
   },
   "file_extension": ".py",
   "mimetype": "text/x-python",
   "name": "python",
   "nbconvert_exporter": "python",
   "pygments_lexer": "ipython3",
   "version": "3.6.13"
  },
  "papermill": {
   "duration": 7.360984,
   "end_time": "2021-04-16T12:04:42.579193",
   "environment_variables": {},
   "exception": null,
   "input_path": "2020-03-21-covid19exp.ipynb",
   "output_path": "2020-03-21-covid19exp.ipynb",
   "parameters": {},
   "start_time": "2021-04-16T12:04:35.218209",
   "version": "2.0.0"
  }
 },
 "nbformat": 4,
 "nbformat_minor": 5
}