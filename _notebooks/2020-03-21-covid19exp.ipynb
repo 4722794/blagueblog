{
 "cells": [
  {
   "cell_type": "markdown",
   "id": "muslim-click",
   "metadata": {
    "papermill": {
     "duration": 0.041257,
     "end_time": "2021-04-24T00:06:58.129451",
     "exception": false,
     "start_time": "2021-04-24T00:06:58.088194",
     "status": "completed"
    },
    "tags": []
   },
   "source": [
    "# COVID-19 Case Race\n",
    "> A race chart to see rising cases around the world\n",
    "\n",
    "- author: Hargun Oberoi\n",
    "- image: images/covid-overview.png\n",
    "- hide: false\n",
    "- badges: false"
   ]
  },
  {
   "cell_type": "code",
   "execution_count": 1,
   "id": "proof-material",
   "metadata": {
    "execution": {
     "iopub.execute_input": "2021-04-24T00:06:58.208425Z",
     "iopub.status.busy": "2021-04-24T00:06:58.207734Z",
     "iopub.status.idle": "2021-04-24T00:06:58.549523Z",
     "shell.execute_reply": "2021-04-24T00:06:58.548895Z"
    },
    "papermill": {
     "duration": 0.385456,
     "end_time": "2021-04-24T00:06:58.549696",
     "exception": false,
     "start_time": "2021-04-24T00:06:58.164240",
     "status": "completed"
    },
    "tags": []
   },
   "outputs": [],
   "source": [
    "#hide\n",
    "import numpy as np\n",
    "import pandas as pd\n",
    "from jinja2 import Template\n",
    "from IPython.display import HTML"
   ]
  },
  {
   "cell_type": "code",
   "execution_count": 2,
   "id": "developed-terminology",
   "metadata": {
    "execution": {
     "iopub.execute_input": "2021-04-24T00:06:58.621879Z",
     "iopub.status.busy": "2021-04-24T00:06:58.621214Z",
     "iopub.status.idle": "2021-04-24T00:06:58.623827Z",
     "shell.execute_reply": "2021-04-24T00:06:58.623378Z"
    },
    "papermill": {
     "duration": 0.040403,
     "end_time": "2021-04-24T00:06:58.623967",
     "exception": false,
     "start_time": "2021-04-24T00:06:58.583564",
     "status": "completed"
    },
    "tags": []
   },
   "outputs": [],
   "source": [
    "#hide\n",
    "\n",
    "# FETCH\n",
    "base_url = 'https://raw.githubusercontent.com/pratapvardhan/notebooks/master/covid19/'\n",
    "paths = {\n",
    "    'mapping': base_url + 'mapping_countries.csv',\n",
    "    'overview': base_url + 'overview.tpl'\n",
    "}"
   ]
  },
  {
   "cell_type": "code",
   "execution_count": 3,
   "id": "dynamic-saver",
   "metadata": {
    "execution": {
     "iopub.execute_input": "2021-04-24T00:06:58.704940Z",
     "iopub.status.busy": "2021-04-24T00:06:58.704164Z",
     "iopub.status.idle": "2021-04-24T00:06:58.706420Z",
     "shell.execute_reply": "2021-04-24T00:06:58.706913Z"
    },
    "papermill": {
     "duration": 0.050086,
     "end_time": "2021-04-24T00:06:58.707048",
     "exception": false,
     "start_time": "2021-04-24T00:06:58.656962",
     "status": "completed"
    },
    "tags": []
   },
   "outputs": [
    {
     "data": {
      "text/plain": [
       "'https://raw.githubusercontent.com/pratapvardhan/notebooks/master/covid19/mapping_countries.csv'"
      ]
     },
     "execution_count": 3,
     "metadata": {},
     "output_type": "execute_result"
    }
   ],
   "source": [
    "#hide\n",
    "paths['mapping']"
   ]
  },
  {
   "cell_type": "code",
   "execution_count": 4,
   "id": "urban-software",
   "metadata": {
    "execution": {
     "iopub.execute_input": "2021-04-24T00:06:58.781363Z",
     "iopub.status.busy": "2021-04-24T00:06:58.780778Z",
     "iopub.status.idle": "2021-04-24T00:06:58.783326Z",
     "shell.execute_reply": "2021-04-24T00:06:58.782887Z"
    },
    "papermill": {
     "duration": 0.042755,
     "end_time": "2021-04-24T00:06:58.783440",
     "exception": false,
     "start_time": "2021-04-24T00:06:58.740685",
     "status": "completed"
    },
    "tags": []
   },
   "outputs": [],
   "source": [
    "#hide\n",
    "def get_mappings(url):\n",
    "    df = pd.read_csv(url)\n",
    "    return {\n",
    "        'df': df,\n",
    "        'replace.country': dict(df.dropna(subset=['Name']).set_index('Country')['Name']),\n",
    "        'map.continent': dict(df.set_index('Name')['Continent'])\n",
    "    }"
   ]
  },
  {
   "cell_type": "code",
   "execution_count": 5,
   "id": "intimate-machinery",
   "metadata": {
    "execution": {
     "iopub.execute_input": "2021-04-24T00:06:58.862048Z",
     "iopub.status.busy": "2021-04-24T00:06:58.861473Z",
     "iopub.status.idle": "2021-04-24T00:06:58.916278Z",
     "shell.execute_reply": "2021-04-24T00:06:58.915639Z"
    },
    "papermill": {
     "duration": 0.094496,
     "end_time": "2021-04-24T00:06:58.916438",
     "exception": false,
     "start_time": "2021-04-24T00:06:58.821942",
     "status": "completed"
    },
    "tags": []
   },
   "outputs": [],
   "source": [
    "#hide\n",
    "mapping = get_mappings(paths['mapping'])"
   ]
  },
  {
   "cell_type": "code",
   "execution_count": 6,
   "id": "certified-tactics",
   "metadata": {
    "execution": {
     "iopub.execute_input": "2021-04-24T00:06:58.990828Z",
     "iopub.status.busy": "2021-04-24T00:06:58.990240Z",
     "iopub.status.idle": "2021-04-24T00:06:58.992489Z",
     "shell.execute_reply": "2021-04-24T00:06:58.991966Z"
    },
    "papermill": {
     "duration": 0.040708,
     "end_time": "2021-04-24T00:06:58.992605",
     "exception": false,
     "start_time": "2021-04-24T00:06:58.951897",
     "status": "completed"
    },
    "tags": []
   },
   "outputs": [],
   "source": [
    "#hide\n",
    "def get_template(path):\n",
    "    from urllib.parse import urlparse\n",
    "    if bool(urlparse(path).netloc):\n",
    "        from urllib.request import urlopen\n",
    "        return urlopen(path).read().decode('utf8')\n",
    "    return open(path).read()"
   ]
  },
  {
   "cell_type": "code",
   "execution_count": 7,
   "id": "realistic-blast",
   "metadata": {
    "execution": {
     "iopub.execute_input": "2021-04-24T00:06:59.065875Z",
     "iopub.status.busy": "2021-04-24T00:06:59.065169Z",
     "iopub.status.idle": "2021-04-24T00:06:59.069255Z",
     "shell.execute_reply": "2021-04-24T00:06:59.068784Z"
    },
    "papermill": {
     "duration": 0.042216,
     "end_time": "2021-04-24T00:06:59.069375",
     "exception": false,
     "start_time": "2021-04-24T00:06:59.027159",
     "status": "completed"
    },
    "tags": []
   },
   "outputs": [],
   "source": [
    "#hide\n",
    "def get_frame(name):\n",
    "    url = (\n",
    "        'https://raw.githubusercontent.com/CSSEGISandData/COVID-19/master/csse_covid_19_data/'\n",
    "        f'csse_covid_19_time_series/time_series_covid19_{name}_global.csv')\n",
    "    df = pd.read_csv(url)\n",
    "    # rename countries\n",
    "    df['Country/Region'] = df['Country/Region'].replace(mapping['replace.country'])\n",
    "    return df"
   ]
  },
  {
   "cell_type": "code",
   "execution_count": 8,
   "id": "affiliated-characterization",
   "metadata": {
    "execution": {
     "iopub.execute_input": "2021-04-24T00:06:59.145661Z",
     "iopub.status.busy": "2021-04-24T00:06:59.145061Z",
     "iopub.status.idle": "2021-04-24T00:06:59.148061Z",
     "shell.execute_reply": "2021-04-24T00:06:59.146914Z"
    },
    "papermill": {
     "duration": 0.044035,
     "end_time": "2021-04-24T00:06:59.148195",
     "exception": false,
     "start_time": "2021-04-24T00:06:59.104160",
     "status": "completed"
    },
    "tags": []
   },
   "outputs": [],
   "source": [
    "#hide\n",
    "def get_dates(df):\n",
    "    dt_cols = df.columns[~df.columns.isin(['Province/State', 'Country/Region', 'Lat', 'Long'])]\n",
    "    LAST_DATE_I = -1\n",
    "    # sometimes last column may be empty, then go backwards\n",
    "    for i in range(-1, -len(dt_cols), -1):\n",
    "        if not df[dt_cols[i]].fillna(0).eq(0).all():\n",
    "            LAST_DATE_I = i\n",
    "            break\n",
    "    return LAST_DATE_I, dt_cols"
   ]
  },
  {
   "cell_type": "code",
   "execution_count": 9,
   "id": "recent-optimization",
   "metadata": {
    "execution": {
     "iopub.execute_input": "2021-04-24T00:06:59.220850Z",
     "iopub.status.busy": "2021-04-24T00:06:59.220250Z",
     "iopub.status.idle": "2021-04-24T00:06:59.655322Z",
     "shell.execute_reply": "2021-04-24T00:06:59.654798Z"
    },
    "papermill": {
     "duration": 0.473589,
     "end_time": "2021-04-24T00:06:59.655455",
     "exception": false,
     "start_time": "2021-04-24T00:06:59.181866",
     "status": "completed"
    },
    "tags": []
   },
   "outputs": [],
   "source": [
    "#hide\n",
    "COL_REGION = 'Country/Region'\n",
    "# Confirmed, Recovered, Deaths\n",
    "df = get_frame('confirmed')\n",
    "# dft_: timeseries, dfc_: today country agg\n",
    "dft_cases = df\n",
    "dft_deaths = get_frame('deaths')\n",
    "dft_recovered = get_frame('recovered')\n",
    "LAST_DATE_I, dt_cols = get_dates(df)"
   ]
  },
  {
   "cell_type": "code",
   "execution_count": 10,
   "id": "absolute-copper",
   "metadata": {
    "execution": {
     "iopub.execute_input": "2021-04-24T00:06:59.730066Z",
     "iopub.status.busy": "2021-04-24T00:06:59.729506Z",
     "iopub.status.idle": "2021-04-24T00:06:59.730971Z",
     "shell.execute_reply": "2021-04-24T00:06:59.731416Z"
    },
    "papermill": {
     "duration": 0.041535,
     "end_time": "2021-04-24T00:06:59.731554",
     "exception": false,
     "start_time": "2021-04-24T00:06:59.690019",
     "status": "completed"
    },
    "tags": []
   },
   "outputs": [],
   "source": [
    "#hide\n",
    "LAST_DATE_I, dt_cols = get_dates(df)\n",
    "dt_today =dt_cols[LAST_DATE_I]\n",
    "# dt_5day = dt_cols[LAST_DATE_I - 5]\n",
    "dt_yday = dt_cols[LAST_DATE_I - 1]"
   ]
  },
  {
   "cell_type": "code",
   "execution_count": 11,
   "id": "restricted-sheriff",
   "metadata": {
    "execution": {
     "iopub.execute_input": "2021-04-24T00:06:59.807466Z",
     "iopub.status.busy": "2021-04-24T00:06:59.806867Z",
     "iopub.status.idle": "2021-04-24T00:06:59.814395Z",
     "shell.execute_reply": "2021-04-24T00:06:59.814902Z"
    },
    "papermill": {
     "duration": 0.049032,
     "end_time": "2021-04-24T00:06:59.815050",
     "exception": false,
     "start_time": "2021-04-24T00:06:59.766018",
     "status": "completed"
    },
    "tags": []
   },
   "outputs": [],
   "source": [
    "#hide\n",
    "dfc_cases = dft_cases.groupby(COL_REGION)[dt_today].sum()\n",
    "dfc_deaths = dft_deaths.groupby(COL_REGION)[dt_today].sum()\n",
    "# dfp_cases = dft_cases.groupby(COL_REGION)[dt_5day].sum()\n",
    "# dfp_deaths = dft_deaths.groupby(COL_REGION)[dt_5day].sum()\n",
    "dfp_cases = dft_cases.groupby(COL_REGION)[dt_yday].sum()\n",
    "dfp_deaths = dft_deaths.groupby(COL_REGION)[dt_yday].sum()"
   ]
  },
  {
   "cell_type": "code",
   "execution_count": 12,
   "id": "deluxe-hepatitis",
   "metadata": {
    "execution": {
     "iopub.execute_input": "2021-04-24T00:06:59.891005Z",
     "iopub.status.busy": "2021-04-24T00:06:59.890408Z",
     "iopub.status.idle": "2021-04-24T00:06:59.895032Z",
     "shell.execute_reply": "2021-04-24T00:06:59.894561Z"
    },
    "papermill": {
     "duration": 0.046417,
     "end_time": "2021-04-24T00:06:59.895155",
     "exception": false,
     "start_time": "2021-04-24T00:06:59.848738",
     "status": "completed"
    },
    "tags": []
   },
   "outputs": [],
   "source": [
    "#hide\n",
    "df_table = (pd.DataFrame(dict(Cases = dfc_cases, Deaths = dfc_deaths, PCases = dfp_cases, PDeaths = dfp_deaths))\n",
    "            .sort_values(by = ['Cases','Deaths'], ascending = [False, False])\n",
    "            .reset_index())"
   ]
  },
  {
   "cell_type": "code",
   "execution_count": 13,
   "id": "educational-chancellor",
   "metadata": {
    "execution": {
     "iopub.execute_input": "2021-04-24T00:06:59.984991Z",
     "iopub.status.busy": "2021-04-24T00:06:59.984386Z",
     "iopub.status.idle": "2021-04-24T00:06:59.993112Z",
     "shell.execute_reply": "2021-04-24T00:06:59.992634Z"
    },
    "papermill": {
     "duration": 0.063038,
     "end_time": "2021-04-24T00:06:59.993237",
     "exception": false,
     "start_time": "2021-04-24T00:06:59.930199",
     "status": "completed"
    },
    "tags": []
   },
   "outputs": [
    {
     "data": {
      "text/html": [
       "<div>\n",
       "<style scoped>\n",
       "    .dataframe tbody tr th:only-of-type {\n",
       "        vertical-align: middle;\n",
       "    }\n",
       "\n",
       "    .dataframe tbody tr th {\n",
       "        vertical-align: top;\n",
       "    }\n",
       "\n",
       "    .dataframe thead th {\n",
       "        text-align: right;\n",
       "    }\n",
       "</style>\n",
       "<table border=\"1\" class=\"dataframe\">\n",
       "  <thead>\n",
       "    <tr style=\"text-align: right;\">\n",
       "      <th></th>\n",
       "      <th>Country/Region</th>\n",
       "      <th>Cases</th>\n",
       "      <th>Deaths</th>\n",
       "      <th>PCases</th>\n",
       "      <th>PDeaths</th>\n",
       "      <th>Cases (+)</th>\n",
       "      <th>Deaths (+)</th>\n",
       "      <th>Fatality Rate</th>\n",
       "      <th>Continent</th>\n",
       "    </tr>\n",
       "  </thead>\n",
       "  <tbody>\n",
       "    <tr>\n",
       "      <th>0</th>\n",
       "      <td>US</td>\n",
       "      <td>31929351</td>\n",
       "      <td>570345</td>\n",
       "      <td>31862094</td>\n",
       "      <td>569402</td>\n",
       "      <td>67257</td>\n",
       "      <td>943</td>\n",
       "      <td>1.79</td>\n",
       "      <td>North America</td>\n",
       "    </tr>\n",
       "    <tr>\n",
       "      <th>1</th>\n",
       "      <td>India</td>\n",
       "      <td>16263695</td>\n",
       "      <td>186920</td>\n",
       "      <td>15930774</td>\n",
       "      <td>184657</td>\n",
       "      <td>332921</td>\n",
       "      <td>2263</td>\n",
       "      <td>1.15</td>\n",
       "      <td>Asia</td>\n",
       "    </tr>\n",
       "    <tr>\n",
       "      <th>2</th>\n",
       "      <td>Brazil</td>\n",
       "      <td>14167973</td>\n",
       "      <td>383502</td>\n",
       "      <td>14122795</td>\n",
       "      <td>381475</td>\n",
       "      <td>45178</td>\n",
       "      <td>2027</td>\n",
       "      <td>2.71</td>\n",
       "      <td>South America</td>\n",
       "    </tr>\n",
       "    <tr>\n",
       "      <th>3</th>\n",
       "      <td>France</td>\n",
       "      <td>5469674</td>\n",
       "      <td>102323</td>\n",
       "      <td>5436229</td>\n",
       "      <td>102046</td>\n",
       "      <td>33445</td>\n",
       "      <td>277</td>\n",
       "      <td>1.87</td>\n",
       "      <td>Europe</td>\n",
       "    </tr>\n",
       "    <tr>\n",
       "      <th>4</th>\n",
       "      <td>Russia</td>\n",
       "      <td>4682573</td>\n",
       "      <td>105328</td>\n",
       "      <td>4673699</td>\n",
       "      <td>104937</td>\n",
       "      <td>8874</td>\n",
       "      <td>391</td>\n",
       "      <td>2.25</td>\n",
       "      <td>Europe</td>\n",
       "    </tr>\n",
       "  </tbody>\n",
       "</table>\n",
       "</div>"
      ],
      "text/plain": [
       "  Country/Region     Cases  Deaths    PCases  PDeaths  Cases (+)  Deaths (+)  \\\n",
       "0             US  31929351  570345  31862094   569402      67257         943   \n",
       "1          India  16263695  186920  15930774   184657     332921        2263   \n",
       "2         Brazil  14167973  383502  14122795   381475      45178        2027   \n",
       "3         France   5469674  102323   5436229   102046      33445         277   \n",
       "4         Russia   4682573  105328   4673699   104937       8874         391   \n",
       "\n",
       "   Fatality Rate      Continent  \n",
       "0           1.79  North America  \n",
       "1           1.15           Asia  \n",
       "2           2.71  South America  \n",
       "3           1.87         Europe  \n",
       "4           2.25         Europe  "
      ]
     },
     "execution_count": 13,
     "metadata": {},
     "output_type": "execute_result"
    }
   ],
   "source": [
    "#hide\n",
    "for c in 'Cases, Deaths'.split(', '):\n",
    "    df_table[f'{c} (+)'] = (df_table[c] - df_table[f'P{c}']).clip(0)\n",
    "    #Clip ça veut dire, les chiffres negatif sont interdit\n",
    "df_table['Fatality Rate'] = (100* df_table['Deaths']/ df_table['Cases']).round(2)\n",
    "df_table['Continent'] = df_table['Country/Region'].map(mapping['map.continent'])\n",
    "df_table.head(5)"
   ]
  },
  {
   "cell_type": "code",
   "execution_count": 14,
   "id": "aboriginal-bulgaria",
   "metadata": {
    "execution": {
     "iopub.execute_input": "2021-04-24T00:07:00.069785Z",
     "iopub.status.busy": "2021-04-24T00:07:00.069182Z",
     "iopub.status.idle": "2021-04-24T00:07:00.071480Z",
     "shell.execute_reply": "2021-04-24T00:07:00.070982Z"
    },
    "papermill": {
     "duration": 0.043482,
     "end_time": "2021-04-24T00:07:00.071603",
     "exception": false,
     "start_time": "2021-04-24T00:07:00.028121",
     "status": "completed"
    },
    "tags": []
   },
   "outputs": [],
   "source": [
    "#hide\n",
    "#delete problematic countries from table\n",
    "df_table = df_table[~df_table['Country/Region'].isin(['Cape Verde', 'Cruise Ship', 'Kosovo'])]"
   ]
  },
  {
   "cell_type": "code",
   "execution_count": 15,
   "id": "fantastic-effect",
   "metadata": {
    "execution": {
     "iopub.execute_input": "2021-04-24T00:07:00.151329Z",
     "iopub.status.busy": "2021-04-24T00:07:00.150725Z",
     "iopub.status.idle": "2021-04-24T00:07:00.170441Z",
     "shell.execute_reply": "2021-04-24T00:07:00.171006Z"
    },
    "papermill": {
     "duration": 0.064752,
     "end_time": "2021-04-24T00:07:00.171173",
     "exception": false,
     "start_time": "2021-04-24T00:07:00.106421",
     "status": "completed"
    },
    "tags": []
   },
   "outputs": [
    {
     "data": {
      "text/html": [
       "<div>\n",
       "<style scoped>\n",
       "    .dataframe tbody tr th:only-of-type {\n",
       "        vertical-align: middle;\n",
       "    }\n",
       "\n",
       "    .dataframe tbody tr th {\n",
       "        vertical-align: top;\n",
       "    }\n",
       "\n",
       "    .dataframe thead th {\n",
       "        text-align: right;\n",
       "    }\n",
       "</style>\n",
       "<table border=\"1\" class=\"dataframe\">\n",
       "  <thead>\n",
       "    <tr style=\"text-align: right;\">\n",
       "      <th></th>\n",
       "      <th>Country/Region</th>\n",
       "      <th>Cases</th>\n",
       "      <th>Deaths</th>\n",
       "      <th>PCases</th>\n",
       "      <th>PDeaths</th>\n",
       "      <th>Cases (+)</th>\n",
       "      <th>Deaths (+)</th>\n",
       "      <th>Fatality Rate</th>\n",
       "      <th>Continent</th>\n",
       "    </tr>\n",
       "  </thead>\n",
       "  <tbody>\n",
       "    <tr>\n",
       "      <th>0</th>\n",
       "      <td>US</td>\n",
       "      <td>31929351</td>\n",
       "      <td>570345</td>\n",
       "      <td>31862094</td>\n",
       "      <td>569402</td>\n",
       "      <td>67257</td>\n",
       "      <td>943</td>\n",
       "      <td>1.8</td>\n",
       "      <td>North America</td>\n",
       "    </tr>\n",
       "    <tr>\n",
       "      <th>1</th>\n",
       "      <td>India</td>\n",
       "      <td>16263695</td>\n",
       "      <td>186920</td>\n",
       "      <td>15930774</td>\n",
       "      <td>184657</td>\n",
       "      <td>332921</td>\n",
       "      <td>2263</td>\n",
       "      <td>1.1</td>\n",
       "      <td>Asia</td>\n",
       "    </tr>\n",
       "    <tr>\n",
       "      <th>2</th>\n",
       "      <td>Brazil</td>\n",
       "      <td>14167973</td>\n",
       "      <td>383502</td>\n",
       "      <td>14122795</td>\n",
       "      <td>381475</td>\n",
       "      <td>45178</td>\n",
       "      <td>2027</td>\n",
       "      <td>2.7</td>\n",
       "      <td>South America</td>\n",
       "    </tr>\n",
       "    <tr>\n",
       "      <th>3</th>\n",
       "      <td>France</td>\n",
       "      <td>5469674</td>\n",
       "      <td>102323</td>\n",
       "      <td>5436229</td>\n",
       "      <td>102046</td>\n",
       "      <td>33445</td>\n",
       "      <td>277</td>\n",
       "      <td>1.9</td>\n",
       "      <td>Europe</td>\n",
       "    </tr>\n",
       "    <tr>\n",
       "      <th>4</th>\n",
       "      <td>Russia</td>\n",
       "      <td>4682573</td>\n",
       "      <td>105328</td>\n",
       "      <td>4673699</td>\n",
       "      <td>104937</td>\n",
       "      <td>8874</td>\n",
       "      <td>391</td>\n",
       "      <td>2.2</td>\n",
       "      <td>Europe</td>\n",
       "    </tr>\n",
       "  </tbody>\n",
       "</table>\n",
       "</div>"
      ],
      "text/plain": [
       "  Country/Region     Cases  Deaths    PCases  PDeaths  Cases (+)  Deaths (+)  \\\n",
       "0             US  31929351  570345  31862094   569402      67257         943   \n",
       "1          India  16263695  186920  15930774   184657     332921        2263   \n",
       "2         Brazil  14167973  383502  14122795   381475      45178        2027   \n",
       "3         France   5469674  102323   5436229   102046      33445         277   \n",
       "4         Russia   4682573  105328   4673699   104937       8874         391   \n",
       "\n",
       "   Fatality Rate      Continent  \n",
       "0            1.8  North America  \n",
       "1            1.1           Asia  \n",
       "2            2.7  South America  \n",
       "3            1.9         Europe  \n",
       "4            2.2         Europe  "
      ]
     },
     "execution_count": 15,
     "metadata": {},
     "output_type": "execute_result"
    }
   ],
   "source": [
    "#hide\n",
    "df_table = (pd.DataFrame(dict(Cases=dfc_cases, Deaths=dfc_deaths, PCases=dfp_cases, PDeaths=dfp_deaths))\n",
    "             .sort_values(by=['Cases', 'Deaths'], ascending=[False, False])\n",
    "             .reset_index())\n",
    "df_table.rename(columns={'index': 'Country/Region'}, inplace=True)\n",
    "for c in 'Cases, Deaths'.split(', '):\n",
    "    df_table[f'{c} (+)'] = (df_table[c] - df_table[f'P{c}']).clip(0)  # DATA BUG\n",
    "df_table['Fatality Rate'] = (100 * df_table['Deaths'] / df_table['Cases']).round(1)\n",
    "df_table['Continent'] = df_table['Country/Region'].map(mapping['map.continent'])\n",
    "df_table.head(5)"
   ]
  },
  {
   "cell_type": "code",
   "execution_count": 16,
   "id": "fewer-occasion",
   "metadata": {
    "execution": {
     "iopub.execute_input": "2021-04-24T00:07:00.249216Z",
     "iopub.status.busy": "2021-04-24T00:07:00.248671Z",
     "iopub.status.idle": "2021-04-24T00:07:00.250861Z",
     "shell.execute_reply": "2021-04-24T00:07:00.250371Z"
    },
    "papermill": {
     "duration": 0.044085,
     "end_time": "2021-04-24T00:07:00.250978",
     "exception": false,
     "start_time": "2021-04-24T00:07:00.206893",
     "status": "completed"
    },
    "tags": []
   },
   "outputs": [],
   "source": [
    "#hide\n",
    "#delete problematic countries from table\n",
    "df_table = df_table[~df_table['Country/Region'].isin(['Cape Verde', 'Cruise Ship', 'Kosovo'])]"
   ]
  },
  {
   "cell_type": "code",
   "execution_count": 17,
   "id": "related-center",
   "metadata": {
    "execution": {
     "iopub.execute_input": "2021-04-24T00:07:00.334925Z",
     "iopub.status.busy": "2021-04-24T00:07:00.334322Z",
     "iopub.status.idle": "2021-04-24T00:07:00.343202Z",
     "shell.execute_reply": "2021-04-24T00:07:00.342728Z"
    },
    "papermill": {
     "duration": 0.057537,
     "end_time": "2021-04-24T00:07:00.343340",
     "exception": false,
     "start_time": "2021-04-24T00:07:00.285803",
     "status": "completed"
    },
    "tags": []
   },
   "outputs": [],
   "source": [
    "#hide\n",
    "metrics = [df_table.columns[index] for index in [1,2,5,6]]\n",
    "# s_china = df_table[df_table['Country/Region'].eq('China')][metrics].sum().add_prefix('China ')\n",
    "s_us = df_table[df_table['Country/Region'].eq('US')][metrics].sum().add_prefix('US ')\n",
    "s_eu = df_table[df_table['Continent'].eq('Europe')][metrics].sum().add_prefix('EU ')\n",
    "s_ind = df_table[df_table['Country/Region'].eq('India')][metrics].sum().add_prefix('India ')\n",
    "summary = {'updated': pd.to_datetime(dt_today), 'since': pd.to_datetime(dt_yday)}\n",
    "summary = {'updated': pd.to_datetime(dt_today), 'since': pd.to_datetime(dt_yday)}\n",
    "summary = {**summary, **df_table[metrics].sum(), **s_ind, **s_us, **s_eu}"
   ]
  },
  {
   "cell_type": "code",
   "execution_count": 18,
   "id": "engaging-syndrome",
   "metadata": {
    "execution": {
     "iopub.execute_input": "2021-04-24T00:07:00.419766Z",
     "iopub.status.busy": "2021-04-24T00:07:00.419169Z",
     "iopub.status.idle": "2021-04-24T00:07:00.430999Z",
     "shell.execute_reply": "2021-04-24T00:07:00.431418Z"
    },
    "papermill": {
     "duration": 0.053013,
     "end_time": "2021-04-24T00:07:00.431559",
     "exception": false,
     "start_time": "2021-04-24T00:07:00.378546",
     "status": "completed"
    },
    "tags": []
   },
   "outputs": [],
   "source": [
    "#hide\n",
    "dft_ct_new_cases = dft_cases.groupby(COL_REGION)[dt_cols].sum().diff(axis=1).fillna(0).astype(int)"
   ]
  },
  {
   "cell_type": "code",
   "execution_count": 19,
   "id": "neutral-assignment",
   "metadata": {
    "execution": {
     "iopub.execute_input": "2021-04-24T00:07:00.513587Z",
     "iopub.status.busy": "2021-04-24T00:07:00.513003Z",
     "iopub.status.idle": "2021-04-24T00:07:00.515232Z",
     "shell.execute_reply": "2021-04-24T00:07:00.514734Z"
    },
    "papermill": {
     "duration": 0.048616,
     "end_time": "2021-04-24T00:07:00.515351",
     "exception": false,
     "start_time": "2021-04-24T00:07:00.466735",
     "status": "completed"
    },
    "tags": []
   },
   "outputs": [],
   "source": [
    "#hide\n",
    "everydaycases = dft_ct_new_cases.cumsum(axis=1)"
   ]
  },
  {
   "cell_type": "code",
   "execution_count": 20,
   "id": "parliamentary-calgary",
   "metadata": {
    "execution": {
     "iopub.execute_input": "2021-04-24T00:07:00.589780Z",
     "iopub.status.busy": "2021-04-24T00:07:00.589177Z",
     "iopub.status.idle": "2021-04-24T00:07:01.157177Z",
     "shell.execute_reply": "2021-04-24T00:07:01.156168Z"
    },
    "papermill": {
     "duration": 0.607457,
     "end_time": "2021-04-24T00:07:01.157330",
     "exception": false,
     "start_time": "2021-04-24T00:07:00.549873",
     "status": "completed"
    },
    "tags": []
   },
   "outputs": [],
   "source": [
    "#hide\n",
    "import pandas as pd\n",
    "import matplotlib.pyplot as plt\n",
    "import matplotlib.ticker as ticker\n",
    "import matplotlib.animation as animation\n",
    "from IPython.display import HTML"
   ]
  },
  {
   "cell_type": "code",
   "execution_count": 21,
   "id": "lasting-extraction",
   "metadata": {
    "execution": {
     "iopub.execute_input": "2021-04-24T00:07:01.234304Z",
     "iopub.status.busy": "2021-04-24T00:07:01.233635Z",
     "iopub.status.idle": "2021-04-24T00:07:01.238862Z",
     "shell.execute_reply": "2021-04-24T00:07:01.239297Z"
    },
    "papermill": {
     "duration": 0.046878,
     "end_time": "2021-04-24T00:07:01.239430",
     "exception": false,
     "start_time": "2021-04-24T00:07:01.192552",
     "status": "completed"
    },
    "tags": []
   },
   "outputs": [],
   "source": [
    "#hide\n",
    "t = everydaycases.stack()"
   ]
  },
  {
   "cell_type": "code",
   "execution_count": 22,
   "id": "premier-sleeve",
   "metadata": {
    "execution": {
     "iopub.execute_input": "2021-04-24T00:07:01.314527Z",
     "iopub.status.busy": "2021-04-24T00:07:01.313860Z",
     "iopub.status.idle": "2021-04-24T00:07:01.321621Z",
     "shell.execute_reply": "2021-04-24T00:07:01.321117Z"
    },
    "papermill": {
     "duration": 0.04771,
     "end_time": "2021-04-24T00:07:01.321738",
     "exception": false,
     "start_time": "2021-04-24T00:07:01.274028",
     "status": "completed"
    },
    "tags": []
   },
   "outputs": [],
   "source": [
    "#hide\n",
    "g = t.reset_index(['Country/Region'])"
   ]
  },
  {
   "cell_type": "code",
   "execution_count": 23,
   "id": "distributed-pittsburgh",
   "metadata": {
    "execution": {
     "iopub.execute_input": "2021-04-24T00:07:01.394847Z",
     "iopub.status.busy": "2021-04-24T00:07:01.394183Z",
     "iopub.status.idle": "2021-04-24T00:07:01.396115Z",
     "shell.execute_reply": "2021-04-24T00:07:01.396623Z"
    },
    "papermill": {
     "duration": 0.040971,
     "end_time": "2021-04-24T00:07:01.396768",
     "exception": false,
     "start_time": "2021-04-24T00:07:01.355797",
     "status": "completed"
    },
    "tags": []
   },
   "outputs": [],
   "source": [
    "#hide\n",
    "g.index.name = 'date'"
   ]
  },
  {
   "cell_type": "code",
   "execution_count": 24,
   "id": "naked-donor",
   "metadata": {
    "execution": {
     "iopub.execute_input": "2021-04-24T00:07:01.471517Z",
     "iopub.status.busy": "2021-04-24T00:07:01.470937Z",
     "iopub.status.idle": "2021-04-24T00:07:01.473478Z",
     "shell.execute_reply": "2021-04-24T00:07:01.472989Z"
    },
    "papermill": {
     "duration": 0.040721,
     "end_time": "2021-04-24T00:07:01.473595",
     "exception": false,
     "start_time": "2021-04-24T00:07:01.432874",
     "status": "completed"
    },
    "tags": []
   },
   "outputs": [],
   "source": [
    "# #hide\n",
    "# g = g.reset_index(['date'])"
   ]
  },
  {
   "cell_type": "code",
   "execution_count": 25,
   "id": "incomplete-mustang",
   "metadata": {
    "execution": {
     "iopub.execute_input": "2021-04-24T00:07:01.545762Z",
     "iopub.status.busy": "2021-04-24T00:07:01.545076Z",
     "iopub.status.idle": "2021-04-24T00:07:01.547037Z",
     "shell.execute_reply": "2021-04-24T00:07:01.547665Z"
    },
    "papermill": {
     "duration": 0.040281,
     "end_time": "2021-04-24T00:07:01.547815",
     "exception": false,
     "start_time": "2021-04-24T00:07:01.507534",
     "status": "completed"
    },
    "tags": []
   },
   "outputs": [],
   "source": [
    "#hide\n",
    "# g.head()"
   ]
  },
  {
   "cell_type": "code",
   "execution_count": 26,
   "id": "specific-kruger",
   "metadata": {
    "execution": {
     "iopub.execute_input": "2021-04-24T00:07:01.631104Z",
     "iopub.status.busy": "2021-04-24T00:07:01.630401Z",
     "iopub.status.idle": "2021-04-24T00:07:01.631941Z",
     "shell.execute_reply": "2021-04-24T00:07:01.632595Z"
    },
    "papermill": {
     "duration": 0.040486,
     "end_time": "2021-04-24T00:07:01.632759",
     "exception": false,
     "start_time": "2021-04-24T00:07:01.592273",
     "status": "completed"
    },
    "tags": []
   },
   "outputs": [],
   "source": [
    "#hide\n",
    "# g.columns = ['date','country','cases']"
   ]
  },
  {
   "cell_type": "code",
   "execution_count": 27,
   "id": "tender-conversion",
   "metadata": {
    "execution": {
     "iopub.execute_input": "2021-04-24T00:07:01.707873Z",
     "iopub.status.busy": "2021-04-24T00:07:01.707145Z",
     "iopub.status.idle": "2021-04-24T00:07:01.709493Z",
     "shell.execute_reply": "2021-04-24T00:07:01.708994Z"
    },
    "papermill": {
     "duration": 0.040879,
     "end_time": "2021-04-24T00:07:01.709613",
     "exception": false,
     "start_time": "2021-04-24T00:07:01.668734",
     "status": "completed"
    },
    "tags": []
   },
   "outputs": [],
   "source": [
    "#hide\n",
    "# g['continent'] = g.country"
   ]
  },
  {
   "cell_type": "code",
   "execution_count": 28,
   "id": "substantial-wilderness",
   "metadata": {
    "execution": {
     "iopub.execute_input": "2021-04-24T00:07:01.782216Z",
     "iopub.status.busy": "2021-04-24T00:07:01.781682Z",
     "iopub.status.idle": "2021-04-24T00:07:01.784172Z",
     "shell.execute_reply": "2021-04-24T00:07:01.783738Z"
    },
    "papermill": {
     "duration": 0.03971,
     "end_time": "2021-04-24T00:07:01.784303",
     "exception": false,
     "start_time": "2021-04-24T00:07:01.744593",
     "status": "completed"
    },
    "tags": []
   },
   "outputs": [],
   "source": [
    "#hide\n",
    "# cols = list(g.columns.values)"
   ]
  },
  {
   "cell_type": "code",
   "execution_count": 29,
   "id": "solved-farming",
   "metadata": {
    "execution": {
     "iopub.execute_input": "2021-04-24T00:07:01.864147Z",
     "iopub.status.busy": "2021-04-24T00:07:01.863571Z",
     "iopub.status.idle": "2021-04-24T00:07:01.865955Z",
     "shell.execute_reply": "2021-04-24T00:07:01.865453Z"
    },
    "papermill": {
     "duration": 0.041455,
     "end_time": "2021-04-24T00:07:01.866072",
     "exception": false,
     "start_time": "2021-04-24T00:07:01.824617",
     "status": "completed"
    },
    "tags": []
   },
   "outputs": [],
   "source": [
    "#hide\n",
    "# cols.insert(0, cols.pop())"
   ]
  },
  {
   "cell_type": "code",
   "execution_count": 30,
   "id": "executed-adoption",
   "metadata": {
    "execution": {
     "iopub.execute_input": "2021-04-24T00:07:01.938960Z",
     "iopub.status.busy": "2021-04-24T00:07:01.938380Z",
     "iopub.status.idle": "2021-04-24T00:07:01.940950Z",
     "shell.execute_reply": "2021-04-24T00:07:01.940446Z"
    },
    "papermill": {
     "duration": 0.040223,
     "end_time": "2021-04-24T00:07:01.941077",
     "exception": false,
     "start_time": "2021-04-24T00:07:01.900854",
     "status": "completed"
    },
    "tags": []
   },
   "outputs": [],
   "source": [
    "#hide\n",
    "# g = g[cols]"
   ]
  },
  {
   "cell_type": "code",
   "execution_count": 31,
   "id": "subject-dublin",
   "metadata": {
    "execution": {
     "iopub.execute_input": "2021-04-24T00:07:02.015274Z",
     "iopub.status.busy": "2021-04-24T00:07:02.014634Z",
     "iopub.status.idle": "2021-04-24T00:07:02.017442Z",
     "shell.execute_reply": "2021-04-24T00:07:02.016948Z"
    },
    "papermill": {
     "duration": 0.041646,
     "end_time": "2021-04-24T00:07:02.017564",
     "exception": false,
     "start_time": "2021-04-24T00:07:01.975918",
     "status": "completed"
    },
    "tags": []
   },
   "outputs": [],
   "source": [
    "#hide\n",
    "# g['continent'] = g['continent'].map(mapping['map.continent'])"
   ]
  },
  {
   "cell_type": "code",
   "execution_count": 32,
   "id": "freelance-scout",
   "metadata": {
    "execution": {
     "iopub.execute_input": "2021-04-24T00:07:02.093512Z",
     "iopub.status.busy": "2021-04-24T00:07:02.092934Z",
     "iopub.status.idle": "2021-04-24T00:07:02.095563Z",
     "shell.execute_reply": "2021-04-24T00:07:02.094978Z"
    },
    "papermill": {
     "duration": 0.040997,
     "end_time": "2021-04-24T00:07:02.095677",
     "exception": false,
     "start_time": "2021-04-24T00:07:02.054680",
     "status": "completed"
    },
    "tags": []
   },
   "outputs": [],
   "source": [
    "#hide\n",
    "# g.head()"
   ]
  },
  {
   "cell_type": "code",
   "execution_count": 33,
   "id": "limited-engine",
   "metadata": {
    "execution": {
     "iopub.execute_input": "2021-04-24T00:07:02.169953Z",
     "iopub.status.busy": "2021-04-24T00:07:02.169258Z",
     "iopub.status.idle": "2021-04-24T00:07:02.170722Z",
     "shell.execute_reply": "2021-04-24T00:07:02.171350Z"
    },
    "papermill": {
     "duration": 0.040433,
     "end_time": "2021-04-24T00:07:02.171508",
     "exception": false,
     "start_time": "2021-04-24T00:07:02.131075",
     "status": "completed"
    },
    "tags": []
   },
   "outputs": [],
   "source": [
    "# hide\n",
    "# g['date'] = g['date'].astype('datetime64[ns]')"
   ]
  },
  {
   "cell_type": "code",
   "execution_count": 34,
   "id": "sophisticated-supervisor",
   "metadata": {
    "execution": {
     "iopub.execute_input": "2021-04-24T00:07:02.254448Z",
     "iopub.status.busy": "2021-04-24T00:07:02.253867Z",
     "iopub.status.idle": "2021-04-24T00:07:02.256698Z",
     "shell.execute_reply": "2021-04-24T00:07:02.256060Z"
    },
    "papermill": {
     "duration": 0.040434,
     "end_time": "2021-04-24T00:07:02.256822",
     "exception": false,
     "start_time": "2021-04-24T00:07:02.216388",
     "status": "completed"
    },
    "tags": []
   },
   "outputs": [],
   "source": [
    "#hide\n",
    "# g['date'] = g.date.dt.dayofyear"
   ]
  },
  {
   "cell_type": "code",
   "execution_count": 35,
   "id": "inside-dubai",
   "metadata": {
    "execution": {
     "iopub.execute_input": "2021-04-24T00:07:02.331783Z",
     "iopub.status.busy": "2021-04-24T00:07:02.331084Z",
     "iopub.status.idle": "2021-04-24T00:07:02.332686Z",
     "shell.execute_reply": "2021-04-24T00:07:02.333268Z"
    },
    "papermill": {
     "duration": 0.042517,
     "end_time": "2021-04-24T00:07:02.333429",
     "exception": false,
     "start_time": "2021-04-24T00:07:02.290912",
     "status": "completed"
    },
    "tags": []
   },
   "outputs": [],
   "source": [
    "#hide\n",
    "# g = g.rename(columns= {'continent':'group','country':'name','cases':'value'})"
   ]
  },
  {
   "cell_type": "code",
   "execution_count": 36,
   "id": "fleet-motorcycle",
   "metadata": {
    "execution": {
     "iopub.execute_input": "2021-04-24T00:07:02.416346Z",
     "iopub.status.busy": "2021-04-24T00:07:02.415763Z",
     "iopub.status.idle": "2021-04-24T00:07:02.418380Z",
     "shell.execute_reply": "2021-04-24T00:07:02.417888Z"
    },
    "papermill": {
     "duration": 0.04238,
     "end_time": "2021-04-24T00:07:02.418498",
     "exception": false,
     "start_time": "2021-04-24T00:07:02.376118",
     "status": "completed"
    },
    "tags": []
   },
   "outputs": [],
   "source": [
    "#hide\n",
    "# cols = ['name','group','day','value']"
   ]
  },
  {
   "cell_type": "code",
   "execution_count": 37,
   "id": "continued-sleeping",
   "metadata": {
    "execution": {
     "iopub.execute_input": "2021-04-24T00:07:02.504336Z",
     "iopub.status.busy": "2021-04-24T00:07:02.503705Z",
     "iopub.status.idle": "2021-04-24T00:07:02.505867Z",
     "shell.execute_reply": "2021-04-24T00:07:02.505291Z"
    },
    "papermill": {
     "duration": 0.053317,
     "end_time": "2021-04-24T00:07:02.505977",
     "exception": false,
     "start_time": "2021-04-24T00:07:02.452660",
     "status": "completed"
    },
    "tags": []
   },
   "outputs": [],
   "source": [
    "#hide\n",
    "# g.rename(columns= {'date':'day'},inplace = True)"
   ]
  },
  {
   "cell_type": "code",
   "execution_count": 38,
   "id": "major-fight",
   "metadata": {
    "execution": {
     "iopub.execute_input": "2021-04-24T00:07:02.578522Z",
     "iopub.status.busy": "2021-04-24T00:07:02.577904Z",
     "iopub.status.idle": "2021-04-24T00:07:02.579701Z",
     "shell.execute_reply": "2021-04-24T00:07:02.580134Z"
    },
    "papermill": {
     "duration": 0.039947,
     "end_time": "2021-04-24T00:07:02.580280",
     "exception": false,
     "start_time": "2021-04-24T00:07:02.540333",
     "status": "completed"
    },
    "tags": []
   },
   "outputs": [],
   "source": [
    "#hide\n",
    "# g = g[cols]"
   ]
  },
  {
   "cell_type": "code",
   "execution_count": 39,
   "id": "structured-mobile",
   "metadata": {
    "execution": {
     "iopub.execute_input": "2021-04-24T00:07:02.653209Z",
     "iopub.status.busy": "2021-04-24T00:07:02.652640Z",
     "iopub.status.idle": "2021-04-24T00:07:02.655213Z",
     "shell.execute_reply": "2021-04-24T00:07:02.654720Z"
    },
    "papermill": {
     "duration": 0.040351,
     "end_time": "2021-04-24T00:07:02.655323",
     "exception": false,
     "start_time": "2021-04-24T00:07:02.614972",
     "status": "completed"
    },
    "tags": []
   },
   "outputs": [],
   "source": [
    "# #hide\n",
    "# g = g[g.group.notna()]"
   ]
  },
  {
   "cell_type": "code",
   "execution_count": 40,
   "id": "determined-closing",
   "metadata": {
    "execution": {
     "iopub.execute_input": "2021-04-24T00:07:02.736515Z",
     "iopub.status.busy": "2021-04-24T00:07:02.735906Z",
     "iopub.status.idle": "2021-04-24T00:07:02.738433Z",
     "shell.execute_reply": "2021-04-24T00:07:02.737851Z"
    },
    "papermill": {
     "duration": 0.049122,
     "end_time": "2021-04-24T00:07:02.738558",
     "exception": false,
     "start_time": "2021-04-24T00:07:02.689436",
     "status": "completed"
    },
    "tags": []
   },
   "outputs": [],
   "source": [
    "# #hide\n",
    "# colors = dict(zip(\n",
    "#     [\"Oceania\", \"Europe\", \"Asia\", \"South America\", \"Middle East\", \"North America\", \"Africa\"],\n",
    "#     [\"#adb0ff\", \"#ffb3ff\", \"#90d595\", \"#e48381\", \"#aafbff\", \"#f7bb5f\", \"#eafb50\"]\n",
    "# ))\n",
    "# group_lk = g.set_index('name')['group'].to_dict()"
   ]
  },
  {
   "cell_type": "code",
   "execution_count": null,
   "id": "gross-drinking",
   "metadata": {
    "papermill": {
     "duration": 0.036547,
     "end_time": "2021-04-24T00:07:02.811329",
     "exception": false,
     "start_time": "2021-04-24T00:07:02.774782",
     "status": "completed"
    },
    "tags": []
   },
   "outputs": [],
   "source": []
  },
  {
   "cell_type": "code",
   "execution_count": 41,
   "id": "subject-macintosh",
   "metadata": {
    "execution": {
     "iopub.execute_input": "2021-04-24T00:07:02.891718Z",
     "iopub.status.busy": "2021-04-24T00:07:02.891113Z",
     "iopub.status.idle": "2021-04-24T00:07:02.893546Z",
     "shell.execute_reply": "2021-04-24T00:07:02.893096Z"
    },
    "papermill": {
     "duration": 0.041189,
     "end_time": "2021-04-24T00:07:02.893660",
     "exception": false,
     "start_time": "2021-04-24T00:07:02.852471",
     "status": "completed"
    },
    "tags": []
   },
   "outputs": [],
   "source": [
    "# #hide\n",
    "# fig, ax = plt.subplots(figsize=(15, 8))\n",
    "\n",
    "# def draw_barchart(current_day):\n",
    "#     dff = g[g['day'].eq(current_day)].sort_values(by='value', ascending=True).tail(10)\n",
    "#     ax.clear()\n",
    "#     ax.barh(dff['name'], dff['value'], color=[colors[group_lk[x]] for x in dff['name']])\n",
    "#     dx = dff['value'].max() / 200\n",
    "    \n",
    "#     for i, (value, name) in enumerate(zip(dff['value'], dff['name'])):\n",
    "#         ax.text(value-dx, i,     name,           size=14, weight=600, ha='right', va='bottom')\n",
    "#         ax.text(value-dx, i-.25, group_lk[name], size=10, color='#444444', ha='right', va='baseline')\n",
    "#         ax.text(value+dx, i,     f'{value:,.0f}',  size=14, ha='left',  va='center')\n",
    "#     ax.text(1, 0.4, current_day, transform=ax.transAxes, color='#777777', size=46, ha='right', weight=800)\n",
    "#     ax.text(0, 1.06, 'Population (thousands)', transform=ax.transAxes, size=12, color='#777777')\n",
    "#     ax.xaxis.set_major_formatter(ticker.StrMethodFormatter('{x:,.0f}'))\n",
    "#     ax.xaxis.set_ticks_position('top')\n",
    "#     ax.tick_params(axis='x', colors='#777777', labelsize=12)\n",
    "#     ax.set_yticks([])\n",
    "#     ax.margins(0, 0.01)\n",
    "#     ax.grid(which='major', axis='x', linestyle='-')\n",
    "#     ax.set_axisbelow(True)\n",
    "    \n",
    "#     ax.text(0, 1.15, 'Coronavirus',\n",
    "#             transform=ax.transAxes, size=24, weight=600, ha='left', va='top')\n",
    "# #     ax.text(1, 0, 'by @pratapvardhan; credit @jburnmurdoch', transform=ax.transAxes, color='#777777', ha='right',\n",
    "# #             bbox=dict(facecolor='white', alpha=0.8, edgecolor='white'))\n",
    "#     plt.box(False)"
   ]
  },
  {
   "cell_type": "code",
   "execution_count": 42,
   "id": "sexual-wages",
   "metadata": {
    "execution": {
     "iopub.execute_input": "2021-04-24T00:07:02.970690Z",
     "iopub.status.busy": "2021-04-24T00:07:02.970067Z",
     "iopub.status.idle": "2021-04-24T00:07:02.971347Z",
     "shell.execute_reply": "2021-04-24T00:07:02.971891Z"
    },
    "papermill": {
     "duration": 0.045604,
     "end_time": "2021-04-24T00:07:02.972019",
     "exception": false,
     "start_time": "2021-04-24T00:07:02.926415",
     "status": "completed"
    },
    "tags": []
   },
   "outputs": [],
   "source": [
    "# #hide_input\n",
    "# fig, ax = plt.subplots(figsize=(15, 8))\n",
    "# animator = animation.FuncAnimation(fig, draw_barchart, frames=range(g.day.values.min(), g.day.values.max()))\n",
    "# HTML(animator.to_jshtml())\n",
    "# # or use animator.to_html5_video() or animator.save() "
   ]
  },
  {
   "cell_type": "code",
   "execution_count": null,
   "id": "australian-container",
   "metadata": {
    "papermill": {
     "duration": 0.034583,
     "end_time": "2021-04-24T00:07:03.040665",
     "exception": false,
     "start_time": "2021-04-24T00:07:03.006082",
     "status": "completed"
    },
    "tags": []
   },
   "outputs": [],
   "source": []
  },
  {
   "cell_type": "code",
   "execution_count": null,
   "id": "mediterranean-pontiac",
   "metadata": {
    "papermill": {
     "duration": 0.034258,
     "end_time": "2021-04-24T00:07:03.109826",
     "exception": false,
     "start_time": "2021-04-24T00:07:03.075568",
     "status": "completed"
    },
    "tags": []
   },
   "outputs": [],
   "source": []
  },
  {
   "cell_type": "code",
   "execution_count": null,
   "id": "aging-legislature",
   "metadata": {
    "papermill": {
     "duration": 0.042099,
     "end_time": "2021-04-24T00:07:03.186731",
     "exception": false,
     "start_time": "2021-04-24T00:07:03.144632",
     "status": "completed"
    },
    "tags": []
   },
   "outputs": [],
   "source": []
  }
 ],
 "metadata": {
  "kernelspec": {
   "display_name": "Python 3",
   "language": "python",
   "name": "python3"
  },
  "language_info": {
   "codemirror_mode": {
    "name": "ipython",
    "version": 3
   },
   "file_extension": ".py",
   "mimetype": "text/x-python",
   "name": "python",
   "nbconvert_exporter": "python",
   "pygments_lexer": "ipython3",
   "version": "3.6.13"
  },
  "papermill": {
   "duration": 6.747637,
   "end_time": "2021-04-24T00:07:03.529154",
   "environment_variables": {},
   "exception": null,
   "input_path": "2020-03-21-covid19exp.ipynb",
   "output_path": "2020-03-21-covid19exp.ipynb",
   "parameters": {},
   "start_time": "2021-04-24T00:06:56.781517",
   "version": "2.0.0"
  }
 },
 "nbformat": 4,
 "nbformat_minor": 5
}