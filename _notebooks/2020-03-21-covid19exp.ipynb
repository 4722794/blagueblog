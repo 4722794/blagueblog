{
 "cells": [
  {
   "cell_type": "markdown",
   "id": "muslim-click",
   "metadata": {
    "papermill": {
     "duration": 0.041929,
     "end_time": "2021-08-22T12:10:48.474035",
     "exception": false,
     "start_time": "2021-08-22T12:10:48.432106",
     "status": "completed"
    },
    "tags": []
   },
   "source": [
    "# COVID-19 Case Race\n",
    "> A race chart to see rising cases around the world\n",
    "\n",
    "- author: Hargun Oberoi\n",
    "- image: images/covid-overview.png\n",
    "- hide: false\n",
    "- badges: false"
   ]
  },
  {
   "cell_type": "code",
   "execution_count": 1,
   "id": "proof-material",
   "metadata": {
    "execution": {
     "iopub.execute_input": "2021-08-22T12:10:48.545039Z",
     "iopub.status.busy": "2021-08-22T12:10:48.544440Z",
     "iopub.status.idle": "2021-08-22T12:10:48.935299Z",
     "shell.execute_reply": "2021-08-22T12:10:48.934714Z"
    },
    "papermill": {
     "duration": 0.42752,
     "end_time": "2021-08-22T12:10:48.935483",
     "exception": false,
     "start_time": "2021-08-22T12:10:48.507963",
     "status": "completed"
    },
    "tags": []
   },
   "outputs": [],
   "source": [
    "#hide\n",
    "import numpy as np\n",
    "import pandas as pd\n",
    "from jinja2 import Template\n",
    "from IPython.display import HTML"
   ]
  },
  {
   "cell_type": "code",
   "execution_count": 2,
   "id": "developed-terminology",
   "metadata": {
    "execution": {
     "iopub.execute_input": "2021-08-22T12:10:49.021143Z",
     "iopub.status.busy": "2021-08-22T12:10:49.020451Z",
     "iopub.status.idle": "2021-08-22T12:10:49.023040Z",
     "shell.execute_reply": "2021-08-22T12:10:49.022284Z"
    },
    "papermill": {
     "duration": 0.050337,
     "end_time": "2021-08-22T12:10:49.023175",
     "exception": false,
     "start_time": "2021-08-22T12:10:48.972838",
     "status": "completed"
    },
    "tags": []
   },
   "outputs": [],
   "source": [
    "#hide\n",
    "\n",
    "# FETCH\n",
    "base_url = 'https://raw.githubusercontent.com/pratapvardhan/notebooks/master/covid19/'\n",
    "paths = {\n",
    "    'mapping': base_url + 'mapping_countries.csv',\n",
    "    'overview': base_url + 'overview.tpl'\n",
    "}"
   ]
  },
  {
   "cell_type": "code",
   "execution_count": 3,
   "id": "dynamic-saver",
   "metadata": {
    "execution": {
     "iopub.execute_input": "2021-08-22T12:10:49.105015Z",
     "iopub.status.busy": "2021-08-22T12:10:49.104382Z",
     "iopub.status.idle": "2021-08-22T12:10:49.107292Z",
     "shell.execute_reply": "2021-08-22T12:10:49.107779Z"
    },
    "papermill": {
     "duration": 0.049826,
     "end_time": "2021-08-22T12:10:49.107918",
     "exception": false,
     "start_time": "2021-08-22T12:10:49.058092",
     "status": "completed"
    },
    "tags": []
   },
   "outputs": [
    {
     "data": {
      "text/plain": [
       "'https://raw.githubusercontent.com/pratapvardhan/notebooks/master/covid19/mapping_countries.csv'"
      ]
     },
     "execution_count": 3,
     "metadata": {},
     "output_type": "execute_result"
    }
   ],
   "source": [
    "#hide\n",
    "paths['mapping']"
   ]
  },
  {
   "cell_type": "code",
   "execution_count": 4,
   "id": "urban-software",
   "metadata": {
    "execution": {
     "iopub.execute_input": "2021-08-22T12:10:49.185345Z",
     "iopub.status.busy": "2021-08-22T12:10:49.184179Z",
     "iopub.status.idle": "2021-08-22T12:10:49.187292Z",
     "shell.execute_reply": "2021-08-22T12:10:49.186733Z"
    },
    "papermill": {
     "duration": 0.041809,
     "end_time": "2021-08-22T12:10:49.187412",
     "exception": false,
     "start_time": "2021-08-22T12:10:49.145603",
     "status": "completed"
    },
    "tags": []
   },
   "outputs": [],
   "source": [
    "#hide\n",
    "def get_mappings(url):\n",
    "    df = pd.read_csv(url)\n",
    "    return {\n",
    "        'df': df,\n",
    "        'replace.country': dict(df.dropna(subset=['Name']).set_index('Country')['Name']),\n",
    "        'map.continent': dict(df.set_index('Name')['Continent'])\n",
    "    }"
   ]
  },
  {
   "cell_type": "code",
   "execution_count": 5,
   "id": "intimate-machinery",
   "metadata": {
    "execution": {
     "iopub.execute_input": "2021-08-22T12:10:49.262144Z",
     "iopub.status.busy": "2021-08-22T12:10:49.261550Z",
     "iopub.status.idle": "2021-08-22T12:10:49.302020Z",
     "shell.execute_reply": "2021-08-22T12:10:49.302532Z"
    },
    "papermill": {
     "duration": 0.080062,
     "end_time": "2021-08-22T12:10:49.302678",
     "exception": false,
     "start_time": "2021-08-22T12:10:49.222616",
     "status": "completed"
    },
    "tags": []
   },
   "outputs": [],
   "source": [
    "#hide\n",
    "mapping = get_mappings(paths['mapping'])"
   ]
  },
  {
   "cell_type": "code",
   "execution_count": 6,
   "id": "certified-tactics",
   "metadata": {
    "execution": {
     "iopub.execute_input": "2021-08-22T12:10:49.376453Z",
     "iopub.status.busy": "2021-08-22T12:10:49.375606Z",
     "iopub.status.idle": "2021-08-22T12:10:49.377880Z",
     "shell.execute_reply": "2021-08-22T12:10:49.378499Z"
    },
    "papermill": {
     "duration": 0.041622,
     "end_time": "2021-08-22T12:10:49.378633",
     "exception": false,
     "start_time": "2021-08-22T12:10:49.337011",
     "status": "completed"
    },
    "tags": []
   },
   "outputs": [],
   "source": [
    "#hide\n",
    "def get_template(path):\n",
    "    from urllib.parse import urlparse\n",
    "    if bool(urlparse(path).netloc):\n",
    "        from urllib.request import urlopen\n",
    "        return urlopen(path).read().decode('utf8')\n",
    "    return open(path).read()"
   ]
  },
  {
   "cell_type": "code",
   "execution_count": 7,
   "id": "realistic-blast",
   "metadata": {
    "execution": {
     "iopub.execute_input": "2021-08-22T12:10:49.457638Z",
     "iopub.status.busy": "2021-08-22T12:10:49.456935Z",
     "iopub.status.idle": "2021-08-22T12:10:49.458776Z",
     "shell.execute_reply": "2021-08-22T12:10:49.459224Z"
    },
    "papermill": {
     "duration": 0.044526,
     "end_time": "2021-08-22T12:10:49.459366",
     "exception": false,
     "start_time": "2021-08-22T12:10:49.414840",
     "status": "completed"
    },
    "tags": []
   },
   "outputs": [],
   "source": [
    "#hide\n",
    "def get_frame(name):\n",
    "    url = (\n",
    "        'https://raw.githubusercontent.com/CSSEGISandData/COVID-19/master/csse_covid_19_data/'\n",
    "        f'csse_covid_19_time_series/time_series_covid19_{name}_global.csv')\n",
    "    df = pd.read_csv(url)\n",
    "    # rename countries\n",
    "    df['Country/Region'] = df['Country/Region'].replace(mapping['replace.country'])\n",
    "    return df"
   ]
  },
  {
   "cell_type": "code",
   "execution_count": 8,
   "id": "affiliated-characterization",
   "metadata": {
    "execution": {
     "iopub.execute_input": "2021-08-22T12:10:49.534107Z",
     "iopub.status.busy": "2021-08-22T12:10:49.533476Z",
     "iopub.status.idle": "2021-08-22T12:10:49.535938Z",
     "shell.execute_reply": "2021-08-22T12:10:49.535444Z"
    },
    "papermill": {
     "duration": 0.042682,
     "end_time": "2021-08-22T12:10:49.536055",
     "exception": false,
     "start_time": "2021-08-22T12:10:49.493373",
     "status": "completed"
    },
    "tags": []
   },
   "outputs": [],
   "source": [
    "#hide\n",
    "def get_dates(df):\n",
    "    dt_cols = df.columns[~df.columns.isin(['Province/State', 'Country/Region', 'Lat', 'Long'])]\n",
    "    LAST_DATE_I = -1\n",
    "    # sometimes last column may be empty, then go backwards\n",
    "    for i in range(-1, -len(dt_cols), -1):\n",
    "        if not df[dt_cols[i]].fillna(0).eq(0).all():\n",
    "            LAST_DATE_I = i\n",
    "            break\n",
    "    return LAST_DATE_I, dt_cols"
   ]
  },
  {
   "cell_type": "code",
   "execution_count": 9,
   "id": "recent-optimization",
   "metadata": {
    "execution": {
     "iopub.execute_input": "2021-08-22T12:10:49.609535Z",
     "iopub.status.busy": "2021-08-22T12:10:49.608740Z",
     "iopub.status.idle": "2021-08-22T12:10:49.996154Z",
     "shell.execute_reply": "2021-08-22T12:10:49.995128Z"
    },
    "papermill": {
     "duration": 0.42623,
     "end_time": "2021-08-22T12:10:49.996297",
     "exception": false,
     "start_time": "2021-08-22T12:10:49.570067",
     "status": "completed"
    },
    "tags": []
   },
   "outputs": [],
   "source": [
    "#hide\n",
    "COL_REGION = 'Country/Region'\n",
    "# Confirmed, Recovered, Deaths\n",
    "df = get_frame('confirmed')\n",
    "# dft_: timeseries, dfc_: today country agg\n",
    "dft_cases = df\n",
    "dft_deaths = get_frame('deaths')\n",
    "dft_recovered = get_frame('recovered')\n",
    "LAST_DATE_I, dt_cols = get_dates(df)"
   ]
  },
  {
   "cell_type": "code",
   "execution_count": 10,
   "id": "absolute-copper",
   "metadata": {
    "execution": {
     "iopub.execute_input": "2021-08-22T12:10:50.071248Z",
     "iopub.status.busy": "2021-08-22T12:10:50.070587Z",
     "iopub.status.idle": "2021-08-22T12:10:50.074557Z",
     "shell.execute_reply": "2021-08-22T12:10:50.073894Z"
    },
    "papermill": {
     "duration": 0.044336,
     "end_time": "2021-08-22T12:10:50.074681",
     "exception": false,
     "start_time": "2021-08-22T12:10:50.030345",
     "status": "completed"
    },
    "tags": []
   },
   "outputs": [],
   "source": [
    "#hide\n",
    "LAST_DATE_I, dt_cols = get_dates(df)\n",
    "dt_today =dt_cols[LAST_DATE_I]\n",
    "# dt_5day = dt_cols[LAST_DATE_I - 5]\n",
    "dt_yday = dt_cols[LAST_DATE_I - 1]"
   ]
  },
  {
   "cell_type": "code",
   "execution_count": 11,
   "id": "restricted-sheriff",
   "metadata": {
    "execution": {
     "iopub.execute_input": "2021-08-22T12:10:50.155967Z",
     "iopub.status.busy": "2021-08-22T12:10:50.155307Z",
     "iopub.status.idle": "2021-08-22T12:10:50.162345Z",
     "shell.execute_reply": "2021-08-22T12:10:50.162831Z"
    },
    "papermill": {
     "duration": 0.053335,
     "end_time": "2021-08-22T12:10:50.162975",
     "exception": false,
     "start_time": "2021-08-22T12:10:50.109640",
     "status": "completed"
    },
    "tags": []
   },
   "outputs": [],
   "source": [
    "#hide\n",
    "dfc_cases = dft_cases.groupby(COL_REGION)[dt_today].sum()\n",
    "dfc_deaths = dft_deaths.groupby(COL_REGION)[dt_today].sum()\n",
    "# dfp_cases = dft_cases.groupby(COL_REGION)[dt_5day].sum()\n",
    "# dfp_deaths = dft_deaths.groupby(COL_REGION)[dt_5day].sum()\n",
    "dfp_cases = dft_cases.groupby(COL_REGION)[dt_yday].sum()\n",
    "dfp_deaths = dft_deaths.groupby(COL_REGION)[dt_yday].sum()"
   ]
  },
  {
   "cell_type": "code",
   "execution_count": 12,
   "id": "deluxe-hepatitis",
   "metadata": {
    "execution": {
     "iopub.execute_input": "2021-08-22T12:10:50.241391Z",
     "iopub.status.busy": "2021-08-22T12:10:50.240764Z",
     "iopub.status.idle": "2021-08-22T12:10:50.245706Z",
     "shell.execute_reply": "2021-08-22T12:10:50.246225Z"
    },
    "papermill": {
     "duration": 0.046955,
     "end_time": "2021-08-22T12:10:50.246367",
     "exception": false,
     "start_time": "2021-08-22T12:10:50.199412",
     "status": "completed"
    },
    "tags": []
   },
   "outputs": [],
   "source": [
    "#hide\n",
    "df_table = (pd.DataFrame(dict(Cases = dfc_cases, Deaths = dfc_deaths, PCases = dfp_cases, PDeaths = dfp_deaths))\n",
    "            .sort_values(by = ['Cases','Deaths'], ascending = [False, False])\n",
    "            .reset_index())"
   ]
  },
  {
   "cell_type": "code",
   "execution_count": 13,
   "id": "educational-chancellor",
   "metadata": {
    "execution": {
     "iopub.execute_input": "2021-08-22T12:10:50.333704Z",
     "iopub.status.busy": "2021-08-22T12:10:50.333055Z",
     "iopub.status.idle": "2021-08-22T12:10:50.341680Z",
     "shell.execute_reply": "2021-08-22T12:10:50.342251Z"
    },
    "papermill": {
     "duration": 0.062459,
     "end_time": "2021-08-22T12:10:50.342387",
     "exception": false,
     "start_time": "2021-08-22T12:10:50.279928",
     "status": "completed"
    },
    "tags": []
   },
   "outputs": [
    {
     "data": {
      "text/html": [
       "<div>\n",
       "<style scoped>\n",
       "    .dataframe tbody tr th:only-of-type {\n",
       "        vertical-align: middle;\n",
       "    }\n",
       "\n",
       "    .dataframe tbody tr th {\n",
       "        vertical-align: top;\n",
       "    }\n",
       "\n",
       "    .dataframe thead th {\n",
       "        text-align: right;\n",
       "    }\n",
       "</style>\n",
       "<table border=\"1\" class=\"dataframe\">\n",
       "  <thead>\n",
       "    <tr style=\"text-align: right;\">\n",
       "      <th></th>\n",
       "      <th>Country/Region</th>\n",
       "      <th>Cases</th>\n",
       "      <th>Deaths</th>\n",
       "      <th>PCases</th>\n",
       "      <th>PDeaths</th>\n",
       "      <th>Cases (+)</th>\n",
       "      <th>Deaths (+)</th>\n",
       "      <th>Fatality Rate</th>\n",
       "      <th>Continent</th>\n",
       "    </tr>\n",
       "  </thead>\n",
       "  <tbody>\n",
       "    <tr>\n",
       "      <th>0</th>\n",
       "      <td>US</td>\n",
       "      <td>37673118</td>\n",
       "      <td>628303</td>\n",
       "      <td>37613597</td>\n",
       "      <td>627843</td>\n",
       "      <td>59521</td>\n",
       "      <td>460</td>\n",
       "      <td>1.67</td>\n",
       "      <td>North America</td>\n",
       "    </tr>\n",
       "    <tr>\n",
       "      <th>1</th>\n",
       "      <td>India</td>\n",
       "      <td>32424234</td>\n",
       "      <td>434367</td>\n",
       "      <td>32393286</td>\n",
       "      <td>433964</td>\n",
       "      <td>30948</td>\n",
       "      <td>403</td>\n",
       "      <td>1.34</td>\n",
       "      <td>Asia</td>\n",
       "    </tr>\n",
       "    <tr>\n",
       "      <th>2</th>\n",
       "      <td>Brazil</td>\n",
       "      <td>20556487</td>\n",
       "      <td>574209</td>\n",
       "      <td>20528099</td>\n",
       "      <td>573511</td>\n",
       "      <td>28388</td>\n",
       "      <td>698</td>\n",
       "      <td>2.79</td>\n",
       "      <td>South America</td>\n",
       "    </tr>\n",
       "    <tr>\n",
       "      <th>3</th>\n",
       "      <td>France</td>\n",
       "      <td>6682952</td>\n",
       "      <td>113472</td>\n",
       "      <td>6660315</td>\n",
       "      <td>113472</td>\n",
       "      <td>22637</td>\n",
       "      <td>0</td>\n",
       "      <td>1.70</td>\n",
       "      <td>Europe</td>\n",
       "    </tr>\n",
       "    <tr>\n",
       "      <th>4</th>\n",
       "      <td>Russia</td>\n",
       "      <td>6633521</td>\n",
       "      <td>172257</td>\n",
       "      <td>6613107</td>\n",
       "      <td>171480</td>\n",
       "      <td>20414</td>\n",
       "      <td>777</td>\n",
       "      <td>2.60</td>\n",
       "      <td>Europe</td>\n",
       "    </tr>\n",
       "  </tbody>\n",
       "</table>\n",
       "</div>"
      ],
      "text/plain": [
       "  Country/Region     Cases  Deaths    PCases  PDeaths  Cases (+)  Deaths (+)  \\\n",
       "0             US  37673118  628303  37613597   627843      59521         460   \n",
       "1          India  32424234  434367  32393286   433964      30948         403   \n",
       "2         Brazil  20556487  574209  20528099   573511      28388         698   \n",
       "3         France   6682952  113472   6660315   113472      22637           0   \n",
       "4         Russia   6633521  172257   6613107   171480      20414         777   \n",
       "\n",
       "   Fatality Rate      Continent  \n",
       "0           1.67  North America  \n",
       "1           1.34           Asia  \n",
       "2           2.79  South America  \n",
       "3           1.70         Europe  \n",
       "4           2.60         Europe  "
      ]
     },
     "execution_count": 13,
     "metadata": {},
     "output_type": "execute_result"
    }
   ],
   "source": [
    "#hide\n",
    "for c in 'Cases, Deaths'.split(', '):\n",
    "    df_table[f'{c} (+)'] = (df_table[c] - df_table[f'P{c}']).clip(0)\n",
    "    #Clip ça veut dire, les chiffres negatif sont interdit\n",
    "df_table['Fatality Rate'] = (100* df_table['Deaths']/ df_table['Cases']).round(2)\n",
    "df_table['Continent'] = df_table['Country/Region'].map(mapping['map.continent'])\n",
    "df_table.head(5)"
   ]
  },
  {
   "cell_type": "code",
   "execution_count": 14,
   "id": "aboriginal-bulgaria",
   "metadata": {
    "execution": {
     "iopub.execute_input": "2021-08-22T12:10:50.418715Z",
     "iopub.status.busy": "2021-08-22T12:10:50.418054Z",
     "iopub.status.idle": "2021-08-22T12:10:50.421316Z",
     "shell.execute_reply": "2021-08-22T12:10:50.422063Z"
    },
    "papermill": {
     "duration": 0.045261,
     "end_time": "2021-08-22T12:10:50.422201",
     "exception": false,
     "start_time": "2021-08-22T12:10:50.376940",
     "status": "completed"
    },
    "tags": []
   },
   "outputs": [],
   "source": [
    "#hide\n",
    "#delete problematic countries from table\n",
    "df_table = df_table[~df_table['Country/Region'].isin(['Cape Verde', 'Cruise Ship', 'Kosovo'])]"
   ]
  },
  {
   "cell_type": "code",
   "execution_count": 15,
   "id": "fantastic-effect",
   "metadata": {
    "execution": {
     "iopub.execute_input": "2021-08-22T12:10:50.504181Z",
     "iopub.status.busy": "2021-08-22T12:10:50.503492Z",
     "iopub.status.idle": "2021-08-22T12:10:50.524882Z",
     "shell.execute_reply": "2021-08-22T12:10:50.525372Z"
    },
    "papermill": {
     "duration": 0.068153,
     "end_time": "2021-08-22T12:10:50.525559",
     "exception": false,
     "start_time": "2021-08-22T12:10:50.457406",
     "status": "completed"
    },
    "tags": []
   },
   "outputs": [
    {
     "data": {
      "text/html": [
       "<div>\n",
       "<style scoped>\n",
       "    .dataframe tbody tr th:only-of-type {\n",
       "        vertical-align: middle;\n",
       "    }\n",
       "\n",
       "    .dataframe tbody tr th {\n",
       "        vertical-align: top;\n",
       "    }\n",
       "\n",
       "    .dataframe thead th {\n",
       "        text-align: right;\n",
       "    }\n",
       "</style>\n",
       "<table border=\"1\" class=\"dataframe\">\n",
       "  <thead>\n",
       "    <tr style=\"text-align: right;\">\n",
       "      <th></th>\n",
       "      <th>Country/Region</th>\n",
       "      <th>Cases</th>\n",
       "      <th>Deaths</th>\n",
       "      <th>PCases</th>\n",
       "      <th>PDeaths</th>\n",
       "      <th>Cases (+)</th>\n",
       "      <th>Deaths (+)</th>\n",
       "      <th>Fatality Rate</th>\n",
       "      <th>Continent</th>\n",
       "    </tr>\n",
       "  </thead>\n",
       "  <tbody>\n",
       "    <tr>\n",
       "      <th>0</th>\n",
       "      <td>US</td>\n",
       "      <td>37673118</td>\n",
       "      <td>628303</td>\n",
       "      <td>37613597</td>\n",
       "      <td>627843</td>\n",
       "      <td>59521</td>\n",
       "      <td>460</td>\n",
       "      <td>1.7</td>\n",
       "      <td>North America</td>\n",
       "    </tr>\n",
       "    <tr>\n",
       "      <th>1</th>\n",
       "      <td>India</td>\n",
       "      <td>32424234</td>\n",
       "      <td>434367</td>\n",
       "      <td>32393286</td>\n",
       "      <td>433964</td>\n",
       "      <td>30948</td>\n",
       "      <td>403</td>\n",
       "      <td>1.3</td>\n",
       "      <td>Asia</td>\n",
       "    </tr>\n",
       "    <tr>\n",
       "      <th>2</th>\n",
       "      <td>Brazil</td>\n",
       "      <td>20556487</td>\n",
       "      <td>574209</td>\n",
       "      <td>20528099</td>\n",
       "      <td>573511</td>\n",
       "      <td>28388</td>\n",
       "      <td>698</td>\n",
       "      <td>2.8</td>\n",
       "      <td>South America</td>\n",
       "    </tr>\n",
       "    <tr>\n",
       "      <th>3</th>\n",
       "      <td>France</td>\n",
       "      <td>6682952</td>\n",
       "      <td>113472</td>\n",
       "      <td>6660315</td>\n",
       "      <td>113472</td>\n",
       "      <td>22637</td>\n",
       "      <td>0</td>\n",
       "      <td>1.7</td>\n",
       "      <td>Europe</td>\n",
       "    </tr>\n",
       "    <tr>\n",
       "      <th>4</th>\n",
       "      <td>Russia</td>\n",
       "      <td>6633521</td>\n",
       "      <td>172257</td>\n",
       "      <td>6613107</td>\n",
       "      <td>171480</td>\n",
       "      <td>20414</td>\n",
       "      <td>777</td>\n",
       "      <td>2.6</td>\n",
       "      <td>Europe</td>\n",
       "    </tr>\n",
       "  </tbody>\n",
       "</table>\n",
       "</div>"
      ],
      "text/plain": [
       "  Country/Region     Cases  Deaths    PCases  PDeaths  Cases (+)  Deaths (+)  \\\n",
       "0             US  37673118  628303  37613597   627843      59521         460   \n",
       "1          India  32424234  434367  32393286   433964      30948         403   \n",
       "2         Brazil  20556487  574209  20528099   573511      28388         698   \n",
       "3         France   6682952  113472   6660315   113472      22637           0   \n",
       "4         Russia   6633521  172257   6613107   171480      20414         777   \n",
       "\n",
       "   Fatality Rate      Continent  \n",
       "0            1.7  North America  \n",
       "1            1.3           Asia  \n",
       "2            2.8  South America  \n",
       "3            1.7         Europe  \n",
       "4            2.6         Europe  "
      ]
     },
     "execution_count": 15,
     "metadata": {},
     "output_type": "execute_result"
    }
   ],
   "source": [
    "#hide\n",
    "df_table = (pd.DataFrame(dict(Cases=dfc_cases, Deaths=dfc_deaths, PCases=dfp_cases, PDeaths=dfp_deaths))\n",
    "             .sort_values(by=['Cases', 'Deaths'], ascending=[False, False])\n",
    "             .reset_index())\n",
    "df_table.rename(columns={'index': 'Country/Region'}, inplace=True)\n",
    "for c in 'Cases, Deaths'.split(', '):\n",
    "    df_table[f'{c} (+)'] = (df_table[c] - df_table[f'P{c}']).clip(0)  # DATA BUG\n",
    "df_table['Fatality Rate'] = (100 * df_table['Deaths'] / df_table['Cases']).round(1)\n",
    "df_table['Continent'] = df_table['Country/Region'].map(mapping['map.continent'])\n",
    "df_table.head(5)"
   ]
  },
  {
   "cell_type": "code",
   "execution_count": 16,
   "id": "fewer-occasion",
   "metadata": {
    "execution": {
     "iopub.execute_input": "2021-08-22T12:10:50.605901Z",
     "iopub.status.busy": "2021-08-22T12:10:50.605242Z",
     "iopub.status.idle": "2021-08-22T12:10:50.607730Z",
     "shell.execute_reply": "2021-08-22T12:10:50.607223Z"
    },
    "papermill": {
     "duration": 0.044324,
     "end_time": "2021-08-22T12:10:50.607853",
     "exception": false,
     "start_time": "2021-08-22T12:10:50.563529",
     "status": "completed"
    },
    "tags": []
   },
   "outputs": [],
   "source": [
    "#hide\n",
    "#delete problematic countries from table\n",
    "df_table = df_table[~df_table['Country/Region'].isin(['Cape Verde', 'Cruise Ship', 'Kosovo'])]"
   ]
  },
  {
   "cell_type": "code",
   "execution_count": 17,
   "id": "related-center",
   "metadata": {
    "execution": {
     "iopub.execute_input": "2021-08-22T12:10:50.706194Z",
     "iopub.status.busy": "2021-08-22T12:10:50.705472Z",
     "iopub.status.idle": "2021-08-22T12:10:50.707499Z",
     "shell.execute_reply": "2021-08-22T12:10:50.708065Z"
    },
    "papermill": {
     "duration": 0.06427,
     "end_time": "2021-08-22T12:10:50.708251",
     "exception": false,
     "start_time": "2021-08-22T12:10:50.643981",
     "status": "completed"
    },
    "tags": []
   },
   "outputs": [],
   "source": [
    "#hide\n",
    "metrics = [df_table.columns[index] for index in [1,2,5,6]]\n",
    "# s_china = df_table[df_table['Country/Region'].eq('China')][metrics].sum().add_prefix('China ')\n",
    "s_us = df_table[df_table['Country/Region'].eq('US')][metrics].sum().add_prefix('US ')\n",
    "s_eu = df_table[df_table['Continent'].eq('Europe')][metrics].sum().add_prefix('EU ')\n",
    "s_ind = df_table[df_table['Country/Region'].eq('India')][metrics].sum().add_prefix('India ')\n",
    "summary = {'updated': pd.to_datetime(dt_today), 'since': pd.to_datetime(dt_yday)}\n",
    "summary = {'updated': pd.to_datetime(dt_today), 'since': pd.to_datetime(dt_yday)}\n",
    "summary = {**summary, **df_table[metrics].sum(), **s_ind, **s_us, **s_eu}"
   ]
  },
  {
   "cell_type": "code",
   "execution_count": 18,
   "id": "engaging-syndrome",
   "metadata": {
    "execution": {
     "iopub.execute_input": "2021-08-22T12:10:50.792043Z",
     "iopub.status.busy": "2021-08-22T12:10:50.791366Z",
     "iopub.status.idle": "2021-08-22T12:10:50.810171Z",
     "shell.execute_reply": "2021-08-22T12:10:50.809389Z"
    },
    "papermill": {
     "duration": 0.060721,
     "end_time": "2021-08-22T12:10:50.810336",
     "exception": false,
     "start_time": "2021-08-22T12:10:50.749615",
     "status": "completed"
    },
    "tags": []
   },
   "outputs": [],
   "source": [
    "#hide\n",
    "dft_ct_new_cases = dft_cases.groupby(COL_REGION)[dt_cols].sum().diff(axis=1).fillna(0).astype(int)"
   ]
  },
  {
   "cell_type": "code",
   "execution_count": 19,
   "id": "neutral-assignment",
   "metadata": {
    "execution": {
     "iopub.execute_input": "2021-08-22T12:10:50.895115Z",
     "iopub.status.busy": "2021-08-22T12:10:50.894326Z",
     "iopub.status.idle": "2021-08-22T12:10:50.896836Z",
     "shell.execute_reply": "2021-08-22T12:10:50.896329Z"
    },
    "papermill": {
     "duration": 0.049455,
     "end_time": "2021-08-22T12:10:50.896980",
     "exception": false,
     "start_time": "2021-08-22T12:10:50.847525",
     "status": "completed"
    },
    "tags": []
   },
   "outputs": [],
   "source": [
    "#hide\n",
    "everydaycases = dft_ct_new_cases.cumsum(axis=1)"
   ]
  },
  {
   "cell_type": "code",
   "execution_count": 20,
   "id": "parliamentary-calgary",
   "metadata": {
    "execution": {
     "iopub.execute_input": "2021-08-22T12:10:50.976674Z",
     "iopub.status.busy": "2021-08-22T12:10:50.975945Z",
     "iopub.status.idle": "2021-08-22T12:10:51.596207Z",
     "shell.execute_reply": "2021-08-22T12:10:51.596679Z"
    },
    "papermill": {
     "duration": 0.662649,
     "end_time": "2021-08-22T12:10:51.596847",
     "exception": false,
     "start_time": "2021-08-22T12:10:50.934198",
     "status": "completed"
    },
    "tags": []
   },
   "outputs": [],
   "source": [
    "#hide\n",
    "import pandas as pd\n",
    "import matplotlib.pyplot as plt\n",
    "import matplotlib.ticker as ticker\n",
    "import matplotlib.animation as animation\n",
    "from IPython.display import HTML"
   ]
  },
  {
   "cell_type": "code",
   "execution_count": 21,
   "id": "lasting-extraction",
   "metadata": {
    "execution": {
     "iopub.execute_input": "2021-08-22T12:10:51.672318Z",
     "iopub.status.busy": "2021-08-22T12:10:51.671693Z",
     "iopub.status.idle": "2021-08-22T12:10:51.676982Z",
     "shell.execute_reply": "2021-08-22T12:10:51.677571Z"
    },
    "papermill": {
     "duration": 0.045686,
     "end_time": "2021-08-22T12:10:51.677703",
     "exception": false,
     "start_time": "2021-08-22T12:10:51.632017",
     "status": "completed"
    },
    "tags": []
   },
   "outputs": [],
   "source": [
    "#hide\n",
    "t = everydaycases.stack()"
   ]
  },
  {
   "cell_type": "code",
   "execution_count": 22,
   "id": "premier-sleeve",
   "metadata": {
    "execution": {
     "iopub.execute_input": "2021-08-22T12:10:51.754034Z",
     "iopub.status.busy": "2021-08-22T12:10:51.753408Z",
     "iopub.status.idle": "2021-08-22T12:10:51.762852Z",
     "shell.execute_reply": "2021-08-22T12:10:51.762340Z"
    },
    "papermill": {
     "duration": 0.0476,
     "end_time": "2021-08-22T12:10:51.762978",
     "exception": false,
     "start_time": "2021-08-22T12:10:51.715378",
     "status": "completed"
    },
    "tags": []
   },
   "outputs": [],
   "source": [
    "#hide\n",
    "g = t.reset_index(['Country/Region'])"
   ]
  },
  {
   "cell_type": "code",
   "execution_count": 23,
   "id": "distributed-pittsburgh",
   "metadata": {
    "execution": {
     "iopub.execute_input": "2021-08-22T12:10:51.837874Z",
     "iopub.status.busy": "2021-08-22T12:10:51.837155Z",
     "iopub.status.idle": "2021-08-22T12:10:51.840095Z",
     "shell.execute_reply": "2021-08-22T12:10:51.839094Z"
    },
    "papermill": {
     "duration": 0.041847,
     "end_time": "2021-08-22T12:10:51.840236",
     "exception": false,
     "start_time": "2021-08-22T12:10:51.798389",
     "status": "completed"
    },
    "tags": []
   },
   "outputs": [],
   "source": [
    "#hide\n",
    "g.index.name = 'date'"
   ]
  },
  {
   "cell_type": "code",
   "execution_count": 24,
   "id": "naked-donor",
   "metadata": {
    "execution": {
     "iopub.execute_input": "2021-08-22T12:10:51.914906Z",
     "iopub.status.busy": "2021-08-22T12:10:51.914229Z",
     "iopub.status.idle": "2021-08-22T12:10:51.916308Z",
     "shell.execute_reply": "2021-08-22T12:10:51.916939Z"
    },
    "papermill": {
     "duration": 0.041317,
     "end_time": "2021-08-22T12:10:51.917086",
     "exception": false,
     "start_time": "2021-08-22T12:10:51.875769",
     "status": "completed"
    },
    "tags": []
   },
   "outputs": [],
   "source": [
    "# #hide\n",
    "# g = g.reset_index(['date'])"
   ]
  },
  {
   "cell_type": "code",
   "execution_count": 25,
   "id": "incomplete-mustang",
   "metadata": {
    "execution": {
     "iopub.execute_input": "2021-08-22T12:10:51.992615Z",
     "iopub.status.busy": "2021-08-22T12:10:51.991884Z",
     "iopub.status.idle": "2021-08-22T12:10:51.994550Z",
     "shell.execute_reply": "2021-08-22T12:10:51.994049Z"
    },
    "papermill": {
     "duration": 0.041334,
     "end_time": "2021-08-22T12:10:51.994671",
     "exception": false,
     "start_time": "2021-08-22T12:10:51.953337",
     "status": "completed"
    },
    "tags": []
   },
   "outputs": [],
   "source": [
    "#hide\n",
    "# g.head()"
   ]
  },
  {
   "cell_type": "code",
   "execution_count": 26,
   "id": "specific-kruger",
   "metadata": {
    "execution": {
     "iopub.execute_input": "2021-08-22T12:10:52.069191Z",
     "iopub.status.busy": "2021-08-22T12:10:52.068595Z",
     "iopub.status.idle": "2021-08-22T12:10:52.071133Z",
     "shell.execute_reply": "2021-08-22T12:10:52.070627Z"
    },
    "papermill": {
     "duration": 0.040552,
     "end_time": "2021-08-22T12:10:52.071281",
     "exception": false,
     "start_time": "2021-08-22T12:10:52.030729",
     "status": "completed"
    },
    "tags": []
   },
   "outputs": [],
   "source": [
    "#hide\n",
    "# g.columns = ['date','country','cases']"
   ]
  },
  {
   "cell_type": "code",
   "execution_count": 27,
   "id": "tender-conversion",
   "metadata": {
    "execution": {
     "iopub.execute_input": "2021-08-22T12:10:52.150833Z",
     "iopub.status.busy": "2021-08-22T12:10:52.150134Z",
     "iopub.status.idle": "2021-08-22T12:10:52.152116Z",
     "shell.execute_reply": "2021-08-22T12:10:52.152821Z"
    },
    "papermill": {
     "duration": 0.04309,
     "end_time": "2021-08-22T12:10:52.152994",
     "exception": false,
     "start_time": "2021-08-22T12:10:52.109904",
     "status": "completed"
    },
    "tags": []
   },
   "outputs": [],
   "source": [
    "#hide\n",
    "# g['continent'] = g.country"
   ]
  },
  {
   "cell_type": "code",
   "execution_count": 28,
   "id": "substantial-wilderness",
   "metadata": {
    "execution": {
     "iopub.execute_input": "2021-08-22T12:10:52.236353Z",
     "iopub.status.busy": "2021-08-22T12:10:52.235685Z",
     "iopub.status.idle": "2021-08-22T12:10:52.238204Z",
     "shell.execute_reply": "2021-08-22T12:10:52.237647Z"
    },
    "papermill": {
     "duration": 0.044722,
     "end_time": "2021-08-22T12:10:52.238333",
     "exception": false,
     "start_time": "2021-08-22T12:10:52.193611",
     "status": "completed"
    },
    "tags": []
   },
   "outputs": [],
   "source": [
    "#hide\n",
    "# cols = list(g.columns.values)"
   ]
  },
  {
   "cell_type": "code",
   "execution_count": 29,
   "id": "solved-farming",
   "metadata": {
    "execution": {
     "iopub.execute_input": "2021-08-22T12:10:52.316060Z",
     "iopub.status.busy": "2021-08-22T12:10:52.315436Z",
     "iopub.status.idle": "2021-08-22T12:10:52.317343Z",
     "shell.execute_reply": "2021-08-22T12:10:52.317946Z"
    },
    "papermill": {
     "duration": 0.042213,
     "end_time": "2021-08-22T12:10:52.318079",
     "exception": false,
     "start_time": "2021-08-22T12:10:52.275866",
     "status": "completed"
    },
    "tags": []
   },
   "outputs": [],
   "source": [
    "#hide\n",
    "# cols.insert(0, cols.pop())"
   ]
  },
  {
   "cell_type": "code",
   "execution_count": 30,
   "id": "executed-adoption",
   "metadata": {
    "execution": {
     "iopub.execute_input": "2021-08-22T12:10:52.394366Z",
     "iopub.status.busy": "2021-08-22T12:10:52.393690Z",
     "iopub.status.idle": "2021-08-22T12:10:52.396353Z",
     "shell.execute_reply": "2021-08-22T12:10:52.395846Z"
    },
    "papermill": {
     "duration": 0.042371,
     "end_time": "2021-08-22T12:10:52.396473",
     "exception": false,
     "start_time": "2021-08-22T12:10:52.354102",
     "status": "completed"
    },
    "tags": []
   },
   "outputs": [],
   "source": [
    "#hide\n",
    "# g = g[cols]"
   ]
  },
  {
   "cell_type": "code",
   "execution_count": 31,
   "id": "subject-dublin",
   "metadata": {
    "execution": {
     "iopub.execute_input": "2021-08-22T12:10:52.472921Z",
     "iopub.status.busy": "2021-08-22T12:10:52.472291Z",
     "iopub.status.idle": "2021-08-22T12:10:52.474492Z",
     "shell.execute_reply": "2021-08-22T12:10:52.475026Z"
    },
    "papermill": {
     "duration": 0.04246,
     "end_time": "2021-08-22T12:10:52.475171",
     "exception": false,
     "start_time": "2021-08-22T12:10:52.432711",
     "status": "completed"
    },
    "tags": []
   },
   "outputs": [],
   "source": [
    "#hide\n",
    "# g['continent'] = g['continent'].map(mapping['map.continent'])"
   ]
  },
  {
   "cell_type": "code",
   "execution_count": 32,
   "id": "freelance-scout",
   "metadata": {
    "execution": {
     "iopub.execute_input": "2021-08-22T12:10:52.551109Z",
     "iopub.status.busy": "2021-08-22T12:10:52.550523Z",
     "iopub.status.idle": "2021-08-22T12:10:52.552386Z",
     "shell.execute_reply": "2021-08-22T12:10:52.552951Z"
    },
    "papermill": {
     "duration": 0.041597,
     "end_time": "2021-08-22T12:10:52.553088",
     "exception": false,
     "start_time": "2021-08-22T12:10:52.511491",
     "status": "completed"
    },
    "tags": []
   },
   "outputs": [],
   "source": [
    "#hide\n",
    "# g.head()"
   ]
  },
  {
   "cell_type": "code",
   "execution_count": 33,
   "id": "limited-engine",
   "metadata": {
    "execution": {
     "iopub.execute_input": "2021-08-22T12:10:52.625220Z",
     "iopub.status.busy": "2021-08-22T12:10:52.624630Z",
     "iopub.status.idle": "2021-08-22T12:10:52.626554Z",
     "shell.execute_reply": "2021-08-22T12:10:52.627319Z"
    },
    "papermill": {
     "duration": 0.039623,
     "end_time": "2021-08-22T12:10:52.627446",
     "exception": false,
     "start_time": "2021-08-22T12:10:52.587823",
     "status": "completed"
    },
    "tags": []
   },
   "outputs": [],
   "source": [
    "# hide\n",
    "# g['date'] = g['date'].astype('datetime64[ns]')"
   ]
  },
  {
   "cell_type": "code",
   "execution_count": 34,
   "id": "sophisticated-supervisor",
   "metadata": {
    "execution": {
     "iopub.execute_input": "2021-08-22T12:10:52.705144Z",
     "iopub.status.busy": "2021-08-22T12:10:52.704500Z",
     "iopub.status.idle": "2021-08-22T12:10:52.706401Z",
     "shell.execute_reply": "2021-08-22T12:10:52.706979Z"
    },
    "papermill": {
     "duration": 0.043225,
     "end_time": "2021-08-22T12:10:52.707140",
     "exception": false,
     "start_time": "2021-08-22T12:10:52.663915",
     "status": "completed"
    },
    "tags": []
   },
   "outputs": [],
   "source": [
    "#hide\n",
    "# g['date'] = g.date.dt.dayofyear"
   ]
  },
  {
   "cell_type": "code",
   "execution_count": 35,
   "id": "inside-dubai",
   "metadata": {
    "execution": {
     "iopub.execute_input": "2021-08-22T12:10:52.784215Z",
     "iopub.status.busy": "2021-08-22T12:10:52.783622Z",
     "iopub.status.idle": "2021-08-22T12:10:52.785600Z",
     "shell.execute_reply": "2021-08-22T12:10:52.786109Z"
    },
    "papermill": {
     "duration": 0.043944,
     "end_time": "2021-08-22T12:10:52.786247",
     "exception": false,
     "start_time": "2021-08-22T12:10:52.742303",
     "status": "completed"
    },
    "tags": []
   },
   "outputs": [],
   "source": [
    "#hide\n",
    "# g = g.rename(columns= {'continent':'group','country':'name','cases':'value'})"
   ]
  },
  {
   "cell_type": "code",
   "execution_count": 36,
   "id": "fleet-motorcycle",
   "metadata": {
    "execution": {
     "iopub.execute_input": "2021-08-22T12:10:52.859648Z",
     "iopub.status.busy": "2021-08-22T12:10:52.858913Z",
     "iopub.status.idle": "2021-08-22T12:10:52.861027Z",
     "shell.execute_reply": "2021-08-22T12:10:52.861562Z"
    },
    "papermill": {
     "duration": 0.040445,
     "end_time": "2021-08-22T12:10:52.861690",
     "exception": false,
     "start_time": "2021-08-22T12:10:52.821245",
     "status": "completed"
    },
    "tags": []
   },
   "outputs": [],
   "source": [
    "#hide\n",
    "# cols = ['name','group','day','value']"
   ]
  },
  {
   "cell_type": "code",
   "execution_count": 37,
   "id": "continued-sleeping",
   "metadata": {
    "execution": {
     "iopub.execute_input": "2021-08-22T12:10:52.935033Z",
     "iopub.status.busy": "2021-08-22T12:10:52.934357Z",
     "iopub.status.idle": "2021-08-22T12:10:52.936468Z",
     "shell.execute_reply": "2021-08-22T12:10:52.937144Z"
    },
    "papermill": {
     "duration": 0.040441,
     "end_time": "2021-08-22T12:10:52.937279",
     "exception": false,
     "start_time": "2021-08-22T12:10:52.896838",
     "status": "completed"
    },
    "tags": []
   },
   "outputs": [],
   "source": [
    "#hide\n",
    "# g.rename(columns= {'date':'day'},inplace = True)"
   ]
  },
  {
   "cell_type": "code",
   "execution_count": 38,
   "id": "major-fight",
   "metadata": {
    "execution": {
     "iopub.execute_input": "2021-08-22T12:10:53.013373Z",
     "iopub.status.busy": "2021-08-22T12:10:53.012774Z",
     "iopub.status.idle": "2021-08-22T12:10:53.015002Z",
     "shell.execute_reply": "2021-08-22T12:10:53.014418Z"
    },
    "papermill": {
     "duration": 0.041496,
     "end_time": "2021-08-22T12:10:53.015125",
     "exception": false,
     "start_time": "2021-08-22T12:10:52.973629",
     "status": "completed"
    },
    "tags": []
   },
   "outputs": [],
   "source": [
    "#hide\n",
    "# g = g[cols]"
   ]
  },
  {
   "cell_type": "code",
   "execution_count": 39,
   "id": "structured-mobile",
   "metadata": {
    "execution": {
     "iopub.execute_input": "2021-08-22T12:10:53.090382Z",
     "iopub.status.busy": "2021-08-22T12:10:53.089698Z",
     "iopub.status.idle": "2021-08-22T12:10:53.092277Z",
     "shell.execute_reply": "2021-08-22T12:10:53.092793Z"
    },
    "papermill": {
     "duration": 0.042718,
     "end_time": "2021-08-22T12:10:53.092935",
     "exception": false,
     "start_time": "2021-08-22T12:10:53.050217",
     "status": "completed"
    },
    "tags": []
   },
   "outputs": [],
   "source": [
    "# #hide\n",
    "# g = g[g.group.notna()]"
   ]
  },
  {
   "cell_type": "code",
   "execution_count": 40,
   "id": "determined-closing",
   "metadata": {
    "execution": {
     "iopub.execute_input": "2021-08-22T12:10:53.168009Z",
     "iopub.status.busy": "2021-08-22T12:10:53.167366Z",
     "iopub.status.idle": "2021-08-22T12:10:53.169892Z",
     "shell.execute_reply": "2021-08-22T12:10:53.169350Z"
    },
    "papermill": {
     "duration": 0.040383,
     "end_time": "2021-08-22T12:10:53.170012",
     "exception": false,
     "start_time": "2021-08-22T12:10:53.129629",
     "status": "completed"
    },
    "tags": []
   },
   "outputs": [],
   "source": [
    "# #hide\n",
    "# colors = dict(zip(\n",
    "#     [\"Oceania\", \"Europe\", \"Asia\", \"South America\", \"Middle East\", \"North America\", \"Africa\"],\n",
    "#     [\"#adb0ff\", \"#ffb3ff\", \"#90d595\", \"#e48381\", \"#aafbff\", \"#f7bb5f\", \"#eafb50\"]\n",
    "# ))\n",
    "# group_lk = g.set_index('name')['group'].to_dict()"
   ]
  },
  {
   "cell_type": "code",
   "execution_count": null,
   "id": "gross-drinking",
   "metadata": {
    "papermill": {
     "duration": 0.034605,
     "end_time": "2021-08-22T12:10:53.241790",
     "exception": false,
     "start_time": "2021-08-22T12:10:53.207185",
     "status": "completed"
    },
    "tags": []
   },
   "outputs": [],
   "source": []
  },
  {
   "cell_type": "code",
   "execution_count": 41,
   "id": "subject-macintosh",
   "metadata": {
    "execution": {
     "iopub.execute_input": "2021-08-22T12:10:53.317414Z",
     "iopub.status.busy": "2021-08-22T12:10:53.316763Z",
     "iopub.status.idle": "2021-08-22T12:10:53.319196Z",
     "shell.execute_reply": "2021-08-22T12:10:53.318576Z"
    },
    "papermill": {
     "duration": 0.041906,
     "end_time": "2021-08-22T12:10:53.319321",
     "exception": false,
     "start_time": "2021-08-22T12:10:53.277415",
     "status": "completed"
    },
    "tags": []
   },
   "outputs": [],
   "source": [
    "# #hide\n",
    "# fig, ax = plt.subplots(figsize=(15, 8))\n",
    "\n",
    "# def draw_barchart(current_day):\n",
    "#     dff = g[g['day'].eq(current_day)].sort_values(by='value', ascending=True).tail(10)\n",
    "#     ax.clear()\n",
    "#     ax.barh(dff['name'], dff['value'], color=[colors[group_lk[x]] for x in dff['name']])\n",
    "#     dx = dff['value'].max() / 200\n",
    "    \n",
    "#     for i, (value, name) in enumerate(zip(dff['value'], dff['name'])):\n",
    "#         ax.text(value-dx, i,     name,           size=14, weight=600, ha='right', va='bottom')\n",
    "#         ax.text(value-dx, i-.25, group_lk[name], size=10, color='#444444', ha='right', va='baseline')\n",
    "#         ax.text(value+dx, i,     f'{value:,.0f}',  size=14, ha='left',  va='center')\n",
    "#     ax.text(1, 0.4, current_day, transform=ax.transAxes, color='#777777', size=46, ha='right', weight=800)\n",
    "#     ax.text(0, 1.06, 'Population (thousands)', transform=ax.transAxes, size=12, color='#777777')\n",
    "#     ax.xaxis.set_major_formatter(ticker.StrMethodFormatter('{x:,.0f}'))\n",
    "#     ax.xaxis.set_ticks_position('top')\n",
    "#     ax.tick_params(axis='x', colors='#777777', labelsize=12)\n",
    "#     ax.set_yticks([])\n",
    "#     ax.margins(0, 0.01)\n",
    "#     ax.grid(which='major', axis='x', linestyle='-')\n",
    "#     ax.set_axisbelow(True)\n",
    "    \n",
    "#     ax.text(0, 1.15, 'Coronavirus',\n",
    "#             transform=ax.transAxes, size=24, weight=600, ha='left', va='top')\n",
    "# #     ax.text(1, 0, 'by @pratapvardhan; credit @jburnmurdoch', transform=ax.transAxes, color='#777777', ha='right',\n",
    "# #             bbox=dict(facecolor='white', alpha=0.8, edgecolor='white'))\n",
    "#     plt.box(False)"
   ]
  },
  {
   "cell_type": "code",
   "execution_count": 42,
   "id": "sexual-wages",
   "metadata": {
    "execution": {
     "iopub.execute_input": "2021-08-22T12:10:53.395330Z",
     "iopub.status.busy": "2021-08-22T12:10:53.394696Z",
     "iopub.status.idle": "2021-08-22T12:10:53.396872Z",
     "shell.execute_reply": "2021-08-22T12:10:53.396278Z"
    },
    "papermill": {
     "duration": 0.041573,
     "end_time": "2021-08-22T12:10:53.397003",
     "exception": false,
     "start_time": "2021-08-22T12:10:53.355430",
     "status": "completed"
    },
    "tags": []
   },
   "outputs": [],
   "source": [
    "# #hide_input\n",
    "# fig, ax = plt.subplots(figsize=(15, 8))\n",
    "# animator = animation.FuncAnimation(fig, draw_barchart, frames=range(g.day.values.min(), g.day.values.max()))\n",
    "# HTML(animator.to_jshtml())\n",
    "# # or use animator.to_html5_video() or animator.save() "
   ]
  },
  {
   "cell_type": "code",
   "execution_count": null,
   "id": "australian-container",
   "metadata": {
    "papermill": {
     "duration": 0.035951,
     "end_time": "2021-08-22T12:10:53.469288",
     "exception": false,
     "start_time": "2021-08-22T12:10:53.433337",
     "status": "completed"
    },
    "tags": []
   },
   "outputs": [],
   "source": []
  },
  {
   "cell_type": "code",
   "execution_count": null,
   "id": "mediterranean-pontiac",
   "metadata": {
    "papermill": {
     "duration": 0.034653,
     "end_time": "2021-08-22T12:10:53.538324",
     "exception": false,
     "start_time": "2021-08-22T12:10:53.503671",
     "status": "completed"
    },
    "tags": []
   },
   "outputs": [],
   "source": []
  },
  {
   "cell_type": "code",
   "execution_count": null,
   "id": "aging-legislature",
   "metadata": {
    "papermill": {
     "duration": 0.034289,
     "end_time": "2021-08-22T12:10:53.608062",
     "exception": false,
     "start_time": "2021-08-22T12:10:53.573773",
     "status": "completed"
    },
    "tags": []
   },
   "outputs": [],
   "source": []
  }
 ],
 "metadata": {
  "kernelspec": {
   "display_name": "Python 3",
   "language": "python",
   "name": "python3"
  },
  "language_info": {
   "codemirror_mode": {
    "name": "ipython",
    "version": 3
   },
   "file_extension": ".py",
   "mimetype": "text/x-python",
   "name": "python",
   "nbconvert_exporter": "python",
   "pygments_lexer": "ipython3",
   "version": "3.6.14"
  },
  "papermill": {
   "duration": 6.600382,
   "end_time": "2021-08-22T12:10:53.950343",
   "environment_variables": {},
   "exception": null,
   "input_path": "2020-03-21-covid19exp.ipynb",
   "output_path": "2020-03-21-covid19exp.ipynb",
   "parameters": {},
   "start_time": "2021-08-22T12:10:47.349961",
   "version": "2.0.0"
  }
 },
 "nbformat": 4,
 "nbformat_minor": 5
}