{
 "cells": [
  {
   "cell_type": "markdown",
   "id": "muslim-click",
   "metadata": {
    "papermill": {
     "duration": 0.034251,
     "end_time": "2022-04-03T12:13:38.899792",
     "exception": false,
     "start_time": "2022-04-03T12:13:38.865541",
     "status": "completed"
    },
    "tags": []
   },
   "source": [
    "# COVID-19 Case Race\n",
    "> A race chart to see rising cases around the world\n",
    "\n",
    "- author: Hargun Oberoi\n",
    "- image: images/covid-overview.png\n",
    "- hide: false\n",
    "- badges: false"
   ]
  },
  {
   "cell_type": "code",
   "execution_count": 1,
   "id": "proof-material",
   "metadata": {
    "execution": {
     "iopub.execute_input": "2022-04-03T12:13:38.970727Z",
     "iopub.status.busy": "2022-04-03T12:13:38.968429Z",
     "iopub.status.idle": "2022-04-03T12:13:39.300073Z",
     "shell.execute_reply": "2022-04-03T12:13:39.298988Z"
    },
    "papermill": {
     "duration": 0.368971,
     "end_time": "2022-04-03T12:13:39.300230",
     "exception": false,
     "start_time": "2022-04-03T12:13:38.931259",
     "status": "completed"
    },
    "tags": []
   },
   "outputs": [],
   "source": [
    "#hide\n",
    "import numpy as np\n",
    "import pandas as pd\n",
    "from jinja2 import Template\n",
    "from IPython.display import HTML"
   ]
  },
  {
   "cell_type": "code",
   "execution_count": 2,
   "id": "developed-terminology",
   "metadata": {
    "execution": {
     "iopub.execute_input": "2022-04-03T12:13:39.366315Z",
     "iopub.status.busy": "2022-04-03T12:13:39.365711Z",
     "iopub.status.idle": "2022-04-03T12:13:39.367217Z",
     "shell.execute_reply": "2022-04-03T12:13:39.366793Z"
    },
    "papermill": {
     "duration": 0.037486,
     "end_time": "2022-04-03T12:13:39.367327",
     "exception": false,
     "start_time": "2022-04-03T12:13:39.329841",
     "status": "completed"
    },
    "tags": []
   },
   "outputs": [],
   "source": [
    "#hide\n",
    "\n",
    "# FETCH\n",
    "base_url = 'https://raw.githubusercontent.com/pratapvardhan/notebooks/master/covid19/'\n",
    "paths = {\n",
    "    'mapping': base_url + 'mapping_countries.csv',\n",
    "    'overview': base_url + 'overview.tpl'\n",
    "}"
   ]
  },
  {
   "cell_type": "code",
   "execution_count": 3,
   "id": "dynamic-saver",
   "metadata": {
    "execution": {
     "iopub.execute_input": "2022-04-03T12:13:39.436716Z",
     "iopub.status.busy": "2022-04-03T12:13:39.436177Z",
     "iopub.status.idle": "2022-04-03T12:13:39.439231Z",
     "shell.execute_reply": "2022-04-03T12:13:39.438818Z"
    },
    "papermill": {
     "duration": 0.042261,
     "end_time": "2022-04-03T12:13:39.439348",
     "exception": false,
     "start_time": "2022-04-03T12:13:39.397087",
     "status": "completed"
    },
    "tags": []
   },
   "outputs": [
    {
     "data": {
      "text/plain": [
       "'https://raw.githubusercontent.com/pratapvardhan/notebooks/master/covid19/mapping_countries.csv'"
      ]
     },
     "execution_count": 3,
     "metadata": {},
     "output_type": "execute_result"
    }
   ],
   "source": [
    "#hide\n",
    "paths['mapping']"
   ]
  },
  {
   "cell_type": "code",
   "execution_count": 4,
   "id": "urban-software",
   "metadata": {
    "execution": {
     "iopub.execute_input": "2022-04-03T12:13:39.504332Z",
     "iopub.status.busy": "2022-04-03T12:13:39.503743Z",
     "iopub.status.idle": "2022-04-03T12:13:39.505860Z",
     "shell.execute_reply": "2022-04-03T12:13:39.505450Z"
    },
    "papermill": {
     "duration": 0.03667,
     "end_time": "2022-04-03T12:13:39.505972",
     "exception": false,
     "start_time": "2022-04-03T12:13:39.469302",
     "status": "completed"
    },
    "tags": []
   },
   "outputs": [],
   "source": [
    "#hide\n",
    "def get_mappings(url):\n",
    "    df = pd.read_csv(url)\n",
    "    return {\n",
    "        'df': df,\n",
    "        'replace.country': dict(df.dropna(subset=['Name']).set_index('Country')['Name']),\n",
    "        'map.continent': dict(df.set_index('Name')['Continent'])\n",
    "    }"
   ]
  },
  {
   "cell_type": "code",
   "execution_count": 5,
   "id": "intimate-machinery",
   "metadata": {
    "execution": {
     "iopub.execute_input": "2022-04-03T12:13:39.575057Z",
     "iopub.status.busy": "2022-04-03T12:13:39.574531Z",
     "iopub.status.idle": "2022-04-03T12:13:39.641309Z",
     "shell.execute_reply": "2022-04-03T12:13:39.640798Z"
    },
    "papermill": {
     "duration": 0.105661,
     "end_time": "2022-04-03T12:13:39.641443",
     "exception": false,
     "start_time": "2022-04-03T12:13:39.535782",
     "status": "completed"
    },
    "tags": []
   },
   "outputs": [],
   "source": [
    "#hide\n",
    "mapping = get_mappings(paths['mapping'])"
   ]
  },
  {
   "cell_type": "code",
   "execution_count": 6,
   "id": "certified-tactics",
   "metadata": {
    "execution": {
     "iopub.execute_input": "2022-04-03T12:13:39.711013Z",
     "iopub.status.busy": "2022-04-03T12:13:39.710500Z",
     "iopub.status.idle": "2022-04-03T12:13:39.712555Z",
     "shell.execute_reply": "2022-04-03T12:13:39.713040Z"
    },
    "papermill": {
     "duration": 0.03727,
     "end_time": "2022-04-03T12:13:39.713169",
     "exception": false,
     "start_time": "2022-04-03T12:13:39.675899",
     "status": "completed"
    },
    "tags": []
   },
   "outputs": [],
   "source": [
    "#hide\n",
    "def get_template(path):\n",
    "    from urllib.parse import urlparse\n",
    "    if bool(urlparse(path).netloc):\n",
    "        from urllib.request import urlopen\n",
    "        return urlopen(path).read().decode('utf8')\n",
    "    return open(path).read()"
   ]
  },
  {
   "cell_type": "code",
   "execution_count": 7,
   "id": "realistic-blast",
   "metadata": {
    "execution": {
     "iopub.execute_input": "2022-04-03T12:13:39.782277Z",
     "iopub.status.busy": "2022-04-03T12:13:39.781760Z",
     "iopub.status.idle": "2022-04-03T12:13:39.783985Z",
     "shell.execute_reply": "2022-04-03T12:13:39.783454Z"
    },
    "papermill": {
     "duration": 0.041327,
     "end_time": "2022-04-03T12:13:39.784098",
     "exception": false,
     "start_time": "2022-04-03T12:13:39.742771",
     "status": "completed"
    },
    "tags": []
   },
   "outputs": [],
   "source": [
    "#hide\n",
    "def get_frame(name):\n",
    "    url = (\n",
    "        'https://raw.githubusercontent.com/CSSEGISandData/COVID-19/master/csse_covid_19_data/'\n",
    "        f'csse_covid_19_time_series/time_series_covid19_{name}_global.csv')\n",
    "    df = pd.read_csv(url)\n",
    "    # rename countries\n",
    "    df['Country/Region'] = df['Country/Region'].replace(mapping['replace.country'])\n",
    "    return df"
   ]
  },
  {
   "cell_type": "code",
   "execution_count": 8,
   "id": "affiliated-characterization",
   "metadata": {
    "execution": {
     "iopub.execute_input": "2022-04-03T12:13:39.849908Z",
     "iopub.status.busy": "2022-04-03T12:13:39.849370Z",
     "iopub.status.idle": "2022-04-03T12:13:39.851469Z",
     "shell.execute_reply": "2022-04-03T12:13:39.851062Z"
    },
    "papermill": {
     "duration": 0.037458,
     "end_time": "2022-04-03T12:13:39.851577",
     "exception": false,
     "start_time": "2022-04-03T12:13:39.814119",
     "status": "completed"
    },
    "tags": []
   },
   "outputs": [],
   "source": [
    "#hide\n",
    "def get_dates(df):\n",
    "    dt_cols = df.columns[~df.columns.isin(['Province/State', 'Country/Region', 'Lat', 'Long'])]\n",
    "    LAST_DATE_I = -1\n",
    "    # sometimes last column may be empty, then go backwards\n",
    "    for i in range(-1, -len(dt_cols), -1):\n",
    "        if not df[dt_cols[i]].fillna(0).eq(0).all():\n",
    "            LAST_DATE_I = i\n",
    "            break\n",
    "    return LAST_DATE_I, dt_cols"
   ]
  },
  {
   "cell_type": "code",
   "execution_count": 9,
   "id": "recent-optimization",
   "metadata": {
    "execution": {
     "iopub.execute_input": "2022-04-03T12:13:39.916372Z",
     "iopub.status.busy": "2022-04-03T12:13:39.915803Z",
     "iopub.status.idle": "2022-04-03T12:13:40.531435Z",
     "shell.execute_reply": "2022-04-03T12:13:40.530899Z"
    },
    "papermill": {
     "duration": 0.650133,
     "end_time": "2022-04-03T12:13:40.531581",
     "exception": false,
     "start_time": "2022-04-03T12:13:39.881448",
     "status": "completed"
    },
    "tags": []
   },
   "outputs": [],
   "source": [
    "#hide\n",
    "COL_REGION = 'Country/Region'\n",
    "# Confirmed, Recovered, Deaths\n",
    "df = get_frame('confirmed')\n",
    "# dft_: timeseries, dfc_: today country agg\n",
    "dft_cases = df\n",
    "dft_deaths = get_frame('deaths')\n",
    "dft_recovered = get_frame('recovered')\n",
    "LAST_DATE_I, dt_cols = get_dates(df)"
   ]
  },
  {
   "cell_type": "code",
   "execution_count": 10,
   "id": "absolute-copper",
   "metadata": {
    "execution": {
     "iopub.execute_input": "2022-04-03T12:13:40.598474Z",
     "iopub.status.busy": "2022-04-03T12:13:40.597862Z",
     "iopub.status.idle": "2022-04-03T12:13:40.599346Z",
     "shell.execute_reply": "2022-04-03T12:13:40.599727Z"
    },
    "papermill": {
     "duration": 0.037315,
     "end_time": "2022-04-03T12:13:40.599861",
     "exception": false,
     "start_time": "2022-04-03T12:13:40.562546",
     "status": "completed"
    },
    "tags": []
   },
   "outputs": [],
   "source": [
    "#hide\n",
    "LAST_DATE_I, dt_cols = get_dates(df)\n",
    "dt_today =dt_cols[LAST_DATE_I]\n",
    "# dt_5day = dt_cols[LAST_DATE_I - 5]\n",
    "dt_yday = dt_cols[LAST_DATE_I - 1]"
   ]
  },
  {
   "cell_type": "code",
   "execution_count": 11,
   "id": "restricted-sheriff",
   "metadata": {
    "execution": {
     "iopub.execute_input": "2022-04-03T12:13:40.662000Z",
     "iopub.status.busy": "2022-04-03T12:13:40.661485Z",
     "iopub.status.idle": "2022-04-03T12:13:40.672336Z",
     "shell.execute_reply": "2022-04-03T12:13:40.671852Z"
    },
    "papermill": {
     "duration": 0.042693,
     "end_time": "2022-04-03T12:13:40.672447",
     "exception": false,
     "start_time": "2022-04-03T12:13:40.629754",
     "status": "completed"
    },
    "tags": []
   },
   "outputs": [],
   "source": [
    "#hide\n",
    "dfc_cases = dft_cases.groupby(COL_REGION)[dt_today].sum()\n",
    "dfc_deaths = dft_deaths.groupby(COL_REGION)[dt_today].sum()\n",
    "# dfp_cases = dft_cases.groupby(COL_REGION)[dt_5day].sum()\n",
    "# dfp_deaths = dft_deaths.groupby(COL_REGION)[dt_5day].sum()\n",
    "dfp_cases = dft_cases.groupby(COL_REGION)[dt_yday].sum()\n",
    "dfp_deaths = dft_deaths.groupby(COL_REGION)[dt_yday].sum()"
   ]
  },
  {
   "cell_type": "code",
   "execution_count": 12,
   "id": "deluxe-hepatitis",
   "metadata": {
    "execution": {
     "iopub.execute_input": "2022-04-03T12:13:40.739813Z",
     "iopub.status.busy": "2022-04-03T12:13:40.739290Z",
     "iopub.status.idle": "2022-04-03T12:13:40.743699Z",
     "shell.execute_reply": "2022-04-03T12:13:40.743291Z"
    },
    "papermill": {
     "duration": 0.040604,
     "end_time": "2022-04-03T12:13:40.743810",
     "exception": false,
     "start_time": "2022-04-03T12:13:40.703206",
     "status": "completed"
    },
    "tags": []
   },
   "outputs": [],
   "source": [
    "#hide\n",
    "df_table = (pd.DataFrame(dict(Cases = dfc_cases, Deaths = dfc_deaths, PCases = dfp_cases, PDeaths = dfp_deaths))\n",
    "            .sort_values(by = ['Cases','Deaths'], ascending = [False, False])\n",
    "            .reset_index())"
   ]
  },
  {
   "cell_type": "code",
   "execution_count": 13,
   "id": "educational-chancellor",
   "metadata": {
    "execution": {
     "iopub.execute_input": "2022-04-03T12:13:40.824610Z",
     "iopub.status.busy": "2022-04-03T12:13:40.823991Z",
     "iopub.status.idle": "2022-04-03T12:13:40.832033Z",
     "shell.execute_reply": "2022-04-03T12:13:40.831570Z"
    },
    "papermill": {
     "duration": 0.054198,
     "end_time": "2022-04-03T12:13:40.832148",
     "exception": false,
     "start_time": "2022-04-03T12:13:40.777950",
     "status": "completed"
    },
    "tags": []
   },
   "outputs": [
    {
     "data": {
      "text/html": [
       "<div>\n",
       "<style scoped>\n",
       "    .dataframe tbody tr th:only-of-type {\n",
       "        vertical-align: middle;\n",
       "    }\n",
       "\n",
       "    .dataframe tbody tr th {\n",
       "        vertical-align: top;\n",
       "    }\n",
       "\n",
       "    .dataframe thead th {\n",
       "        text-align: right;\n",
       "    }\n",
       "</style>\n",
       "<table border=\"1\" class=\"dataframe\">\n",
       "  <thead>\n",
       "    <tr style=\"text-align: right;\">\n",
       "      <th></th>\n",
       "      <th>Country/Region</th>\n",
       "      <th>Cases</th>\n",
       "      <th>Deaths</th>\n",
       "      <th>PCases</th>\n",
       "      <th>PDeaths</th>\n",
       "      <th>Cases (+)</th>\n",
       "      <th>Deaths (+)</th>\n",
       "      <th>Fatality Rate</th>\n",
       "      <th>Continent</th>\n",
       "    </tr>\n",
       "  </thead>\n",
       "  <tbody>\n",
       "    <tr>\n",
       "      <th>0</th>\n",
       "      <td>US</td>\n",
       "      <td>80150811</td>\n",
       "      <td>982533</td>\n",
       "      <td>80140309</td>\n",
       "      <td>982371</td>\n",
       "      <td>10502</td>\n",
       "      <td>162</td>\n",
       "      <td>1.23</td>\n",
       "      <td>North America</td>\n",
       "    </tr>\n",
       "    <tr>\n",
       "      <th>1</th>\n",
       "      <td>India</td>\n",
       "      <td>43028131</td>\n",
       "      <td>521345</td>\n",
       "      <td>43027035</td>\n",
       "      <td>521264</td>\n",
       "      <td>1096</td>\n",
       "      <td>81</td>\n",
       "      <td>1.21</td>\n",
       "      <td>Asia</td>\n",
       "    </tr>\n",
       "    <tr>\n",
       "      <th>2</th>\n",
       "      <td>Brazil</td>\n",
       "      <td>29995575</td>\n",
       "      <td>660371</td>\n",
       "      <td>29978513</td>\n",
       "      <td>660265</td>\n",
       "      <td>17062</td>\n",
       "      <td>106</td>\n",
       "      <td>2.20</td>\n",
       "      <td>South America</td>\n",
       "    </tr>\n",
       "    <tr>\n",
       "      <th>3</th>\n",
       "      <td>France</td>\n",
       "      <td>26084340</td>\n",
       "      <td>143509</td>\n",
       "      <td>25952226</td>\n",
       "      <td>143441</td>\n",
       "      <td>132114</td>\n",
       "      <td>68</td>\n",
       "      <td>0.55</td>\n",
       "      <td>Europe</td>\n",
       "    </tr>\n",
       "    <tr>\n",
       "      <th>4</th>\n",
       "      <td>Germany</td>\n",
       "      <td>21591147</td>\n",
       "      <td>129987</td>\n",
       "      <td>21394691</td>\n",
       "      <td>129695</td>\n",
       "      <td>196456</td>\n",
       "      <td>292</td>\n",
       "      <td>0.60</td>\n",
       "      <td>Europe</td>\n",
       "    </tr>\n",
       "  </tbody>\n",
       "</table>\n",
       "</div>"
      ],
      "text/plain": [
       "  Country/Region     Cases  Deaths    PCases  PDeaths  Cases (+)  Deaths (+)  \\\n",
       "0             US  80150811  982533  80140309   982371      10502         162   \n",
       "1          India  43028131  521345  43027035   521264       1096          81   \n",
       "2         Brazil  29995575  660371  29978513   660265      17062         106   \n",
       "3         France  26084340  143509  25952226   143441     132114          68   \n",
       "4        Germany  21591147  129987  21394691   129695     196456         292   \n",
       "\n",
       "   Fatality Rate      Continent  \n",
       "0           1.23  North America  \n",
       "1           1.21           Asia  \n",
       "2           2.20  South America  \n",
       "3           0.55         Europe  \n",
       "4           0.60         Europe  "
      ]
     },
     "execution_count": 13,
     "metadata": {},
     "output_type": "execute_result"
    }
   ],
   "source": [
    "#hide\n",
    "for c in 'Cases, Deaths'.split(', '):\n",
    "    df_table[f'{c} (+)'] = (df_table[c] - df_table[f'P{c}']).clip(0)\n",
    "    #Clip ça veut dire, les chiffres negatif sont interdit\n",
    "df_table['Fatality Rate'] = (100* df_table['Deaths']/ df_table['Cases']).round(2)\n",
    "df_table['Continent'] = df_table['Country/Region'].map(mapping['map.continent'])\n",
    "df_table.head(5)"
   ]
  },
  {
   "cell_type": "code",
   "execution_count": 14,
   "id": "aboriginal-bulgaria",
   "metadata": {
    "execution": {
     "iopub.execute_input": "2022-04-03T12:13:40.898915Z",
     "iopub.status.busy": "2022-04-03T12:13:40.898398Z",
     "iopub.status.idle": "2022-04-03T12:13:40.900438Z",
     "shell.execute_reply": "2022-04-03T12:13:40.900924Z"
    },
    "papermill": {
     "duration": 0.038432,
     "end_time": "2022-04-03T12:13:40.901052",
     "exception": false,
     "start_time": "2022-04-03T12:13:40.862620",
     "status": "completed"
    },
    "tags": []
   },
   "outputs": [],
   "source": [
    "#hide\n",
    "#delete problematic countries from table\n",
    "df_table = df_table[~df_table['Country/Region'].isin(['Cape Verde', 'Cruise Ship', 'Kosovo'])]"
   ]
  },
  {
   "cell_type": "code",
   "execution_count": 15,
   "id": "fantastic-effect",
   "metadata": {
    "execution": {
     "iopub.execute_input": "2022-04-03T12:13:40.973201Z",
     "iopub.status.busy": "2022-04-03T12:13:40.972662Z",
     "iopub.status.idle": "2022-04-03T12:13:40.985898Z",
     "shell.execute_reply": "2022-04-03T12:13:40.986314Z"
    },
    "papermill": {
     "duration": 0.055167,
     "end_time": "2022-04-03T12:13:40.986453",
     "exception": false,
     "start_time": "2022-04-03T12:13:40.931286",
     "status": "completed"
    },
    "tags": []
   },
   "outputs": [
    {
     "data": {
      "text/html": [
       "<div>\n",
       "<style scoped>\n",
       "    .dataframe tbody tr th:only-of-type {\n",
       "        vertical-align: middle;\n",
       "    }\n",
       "\n",
       "    .dataframe tbody tr th {\n",
       "        vertical-align: top;\n",
       "    }\n",
       "\n",
       "    .dataframe thead th {\n",
       "        text-align: right;\n",
       "    }\n",
       "</style>\n",
       "<table border=\"1\" class=\"dataframe\">\n",
       "  <thead>\n",
       "    <tr style=\"text-align: right;\">\n",
       "      <th></th>\n",
       "      <th>Country/Region</th>\n",
       "      <th>Cases</th>\n",
       "      <th>Deaths</th>\n",
       "      <th>PCases</th>\n",
       "      <th>PDeaths</th>\n",
       "      <th>Cases (+)</th>\n",
       "      <th>Deaths (+)</th>\n",
       "      <th>Fatality Rate</th>\n",
       "      <th>Continent</th>\n",
       "    </tr>\n",
       "  </thead>\n",
       "  <tbody>\n",
       "    <tr>\n",
       "      <th>0</th>\n",
       "      <td>US</td>\n",
       "      <td>80150811</td>\n",
       "      <td>982533</td>\n",
       "      <td>80140309</td>\n",
       "      <td>982371</td>\n",
       "      <td>10502</td>\n",
       "      <td>162</td>\n",
       "      <td>1.2</td>\n",
       "      <td>North America</td>\n",
       "    </tr>\n",
       "    <tr>\n",
       "      <th>1</th>\n",
       "      <td>India</td>\n",
       "      <td>43028131</td>\n",
       "      <td>521345</td>\n",
       "      <td>43027035</td>\n",
       "      <td>521264</td>\n",
       "      <td>1096</td>\n",
       "      <td>81</td>\n",
       "      <td>1.2</td>\n",
       "      <td>Asia</td>\n",
       "    </tr>\n",
       "    <tr>\n",
       "      <th>2</th>\n",
       "      <td>Brazil</td>\n",
       "      <td>29995575</td>\n",
       "      <td>660371</td>\n",
       "      <td>29978513</td>\n",
       "      <td>660265</td>\n",
       "      <td>17062</td>\n",
       "      <td>106</td>\n",
       "      <td>2.2</td>\n",
       "      <td>South America</td>\n",
       "    </tr>\n",
       "    <tr>\n",
       "      <th>3</th>\n",
       "      <td>France</td>\n",
       "      <td>26084340</td>\n",
       "      <td>143509</td>\n",
       "      <td>25952226</td>\n",
       "      <td>143441</td>\n",
       "      <td>132114</td>\n",
       "      <td>68</td>\n",
       "      <td>0.6</td>\n",
       "      <td>Europe</td>\n",
       "    </tr>\n",
       "    <tr>\n",
       "      <th>4</th>\n",
       "      <td>Germany</td>\n",
       "      <td>21591147</td>\n",
       "      <td>129987</td>\n",
       "      <td>21394691</td>\n",
       "      <td>129695</td>\n",
       "      <td>196456</td>\n",
       "      <td>292</td>\n",
       "      <td>0.6</td>\n",
       "      <td>Europe</td>\n",
       "    </tr>\n",
       "  </tbody>\n",
       "</table>\n",
       "</div>"
      ],
      "text/plain": [
       "  Country/Region     Cases  Deaths    PCases  PDeaths  Cases (+)  Deaths (+)  \\\n",
       "0             US  80150811  982533  80140309   982371      10502         162   \n",
       "1          India  43028131  521345  43027035   521264       1096          81   \n",
       "2         Brazil  29995575  660371  29978513   660265      17062         106   \n",
       "3         France  26084340  143509  25952226   143441     132114          68   \n",
       "4        Germany  21591147  129987  21394691   129695     196456         292   \n",
       "\n",
       "   Fatality Rate      Continent  \n",
       "0            1.2  North America  \n",
       "1            1.2           Asia  \n",
       "2            2.2  South America  \n",
       "3            0.6         Europe  \n",
       "4            0.6         Europe  "
      ]
     },
     "execution_count": 15,
     "metadata": {},
     "output_type": "execute_result"
    }
   ],
   "source": [
    "#hide\n",
    "df_table = (pd.DataFrame(dict(Cases=dfc_cases, Deaths=dfc_deaths, PCases=dfp_cases, PDeaths=dfp_deaths))\n",
    "             .sort_values(by=['Cases', 'Deaths'], ascending=[False, False])\n",
    "             .reset_index())\n",
    "df_table.rename(columns={'index': 'Country/Region'}, inplace=True)\n",
    "for c in 'Cases, Deaths'.split(', '):\n",
    "    df_table[f'{c} (+)'] = (df_table[c] - df_table[f'P{c}']).clip(0)  # DATA BUG\n",
    "df_table['Fatality Rate'] = (100 * df_table['Deaths'] / df_table['Cases']).round(1)\n",
    "df_table['Continent'] = df_table['Country/Region'].map(mapping['map.continent'])\n",
    "df_table.head(5)"
   ]
  },
  {
   "cell_type": "code",
   "execution_count": 16,
   "id": "fewer-occasion",
   "metadata": {
    "execution": {
     "iopub.execute_input": "2022-04-03T12:13:41.053818Z",
     "iopub.status.busy": "2022-04-03T12:13:41.053288Z",
     "iopub.status.idle": "2022-04-03T12:13:41.056071Z",
     "shell.execute_reply": "2022-04-03T12:13:41.056567Z"
    },
    "papermill": {
     "duration": 0.038999,
     "end_time": "2022-04-03T12:13:41.056704",
     "exception": false,
     "start_time": "2022-04-03T12:13:41.017705",
     "status": "completed"
    },
    "tags": []
   },
   "outputs": [],
   "source": [
    "#hide\n",
    "#delete problematic countries from table\n",
    "df_table = df_table[~df_table['Country/Region'].isin(['Cape Verde', 'Cruise Ship', 'Kosovo'])]"
   ]
  },
  {
   "cell_type": "code",
   "execution_count": 17,
   "id": "related-center",
   "metadata": {
    "execution": {
     "iopub.execute_input": "2022-04-03T12:13:41.140903Z",
     "iopub.status.busy": "2022-04-03T12:13:41.140344Z",
     "iopub.status.idle": "2022-04-03T12:13:41.141947Z",
     "shell.execute_reply": "2022-04-03T12:13:41.142335Z"
    },
    "papermill": {
     "duration": 0.050883,
     "end_time": "2022-04-03T12:13:41.142473",
     "exception": false,
     "start_time": "2022-04-03T12:13:41.091590",
     "status": "completed"
    },
    "tags": []
   },
   "outputs": [],
   "source": [
    "#hide\n",
    "metrics = [df_table.columns[index] for index in [1,2,5,6]]\n",
    "# s_china = df_table[df_table['Country/Region'].eq('China')][metrics].sum().add_prefix('China ')\n",
    "s_us = df_table[df_table['Country/Region'].eq('US')][metrics].sum().add_prefix('US ')\n",
    "s_eu = df_table[df_table['Continent'].eq('Europe')][metrics].sum().add_prefix('EU ')\n",
    "s_ind = df_table[df_table['Country/Region'].eq('India')][metrics].sum().add_prefix('India ')\n",
    "summary = {'updated': pd.to_datetime(dt_today), 'since': pd.to_datetime(dt_yday)}\n",
    "summary = {'updated': pd.to_datetime(dt_today), 'since': pd.to_datetime(dt_yday)}\n",
    "summary = {**summary, **df_table[metrics].sum(), **s_ind, **s_us, **s_eu}"
   ]
  },
  {
   "cell_type": "code",
   "execution_count": 18,
   "id": "engaging-syndrome",
   "metadata": {
    "execution": {
     "iopub.execute_input": "2022-04-03T12:13:41.211231Z",
     "iopub.status.busy": "2022-04-03T12:13:41.210714Z",
     "iopub.status.idle": "2022-04-03T12:13:41.231057Z",
     "shell.execute_reply": "2022-04-03T12:13:41.230557Z"
    },
    "papermill": {
     "duration": 0.05368,
     "end_time": "2022-04-03T12:13:41.231199",
     "exception": false,
     "start_time": "2022-04-03T12:13:41.177519",
     "status": "completed"
    },
    "tags": []
   },
   "outputs": [],
   "source": [
    "#hide\n",
    "dft_ct_new_cases = dft_cases.groupby(COL_REGION)[dt_cols].sum().diff(axis=1).fillna(0).astype(int)"
   ]
  },
  {
   "cell_type": "code",
   "execution_count": 19,
   "id": "neutral-assignment",
   "metadata": {
    "execution": {
     "iopub.execute_input": "2022-04-03T12:13:41.306985Z",
     "iopub.status.busy": "2022-04-03T12:13:41.306380Z",
     "iopub.status.idle": "2022-04-03T12:13:41.307905Z",
     "shell.execute_reply": "2022-04-03T12:13:41.308412Z"
    },
    "papermill": {
     "duration": 0.045385,
     "end_time": "2022-04-03T12:13:41.308542",
     "exception": false,
     "start_time": "2022-04-03T12:13:41.263157",
     "status": "completed"
    },
    "tags": []
   },
   "outputs": [],
   "source": [
    "#hide\n",
    "everydaycases = dft_ct_new_cases.cumsum(axis=1)"
   ]
  },
  {
   "cell_type": "code",
   "execution_count": 20,
   "id": "parliamentary-calgary",
   "metadata": {
    "execution": {
     "iopub.execute_input": "2022-04-03T12:13:41.378947Z",
     "iopub.status.busy": "2022-04-03T12:13:41.378423Z",
     "iopub.status.idle": "2022-04-03T12:13:41.995804Z",
     "shell.execute_reply": "2022-04-03T12:13:41.996312Z"
    },
    "papermill": {
     "duration": 0.657165,
     "end_time": "2022-04-03T12:13:41.996465",
     "exception": false,
     "start_time": "2022-04-03T12:13:41.339300",
     "status": "completed"
    },
    "tags": []
   },
   "outputs": [],
   "source": [
    "#hide\n",
    "import pandas as pd\n",
    "import matplotlib.pyplot as plt\n",
    "import matplotlib.ticker as ticker\n",
    "import matplotlib.animation as animation\n",
    "from IPython.display import HTML"
   ]
  },
  {
   "cell_type": "code",
   "execution_count": 21,
   "id": "lasting-extraction",
   "metadata": {
    "execution": {
     "iopub.execute_input": "2022-04-03T12:13:42.069262Z",
     "iopub.status.busy": "2022-04-03T12:13:42.068715Z",
     "iopub.status.idle": "2022-04-03T12:13:42.072927Z",
     "shell.execute_reply": "2022-04-03T12:13:42.072484Z"
    },
    "papermill": {
     "duration": 0.045728,
     "end_time": "2022-04-03T12:13:42.073045",
     "exception": false,
     "start_time": "2022-04-03T12:13:42.027317",
     "status": "completed"
    },
    "tags": []
   },
   "outputs": [],
   "source": [
    "#hide\n",
    "t = everydaycases.stack()"
   ]
  },
  {
   "cell_type": "code",
   "execution_count": 22,
   "id": "premier-sleeve",
   "metadata": {
    "execution": {
     "iopub.execute_input": "2022-04-03T12:13:42.139576Z",
     "iopub.status.busy": "2022-04-03T12:13:42.139049Z",
     "iopub.status.idle": "2022-04-03T12:13:42.149472Z",
     "shell.execute_reply": "2022-04-03T12:13:42.149879Z"
    },
    "papermill": {
     "duration": 0.045815,
     "end_time": "2022-04-03T12:13:42.150012",
     "exception": false,
     "start_time": "2022-04-03T12:13:42.104197",
     "status": "completed"
    },
    "tags": []
   },
   "outputs": [],
   "source": [
    "#hide\n",
    "g = t.reset_index(['Country/Region'])"
   ]
  },
  {
   "cell_type": "code",
   "execution_count": 23,
   "id": "distributed-pittsburgh",
   "metadata": {
    "execution": {
     "iopub.execute_input": "2022-04-03T12:13:42.215302Z",
     "iopub.status.busy": "2022-04-03T12:13:42.214785Z",
     "iopub.status.idle": "2022-04-03T12:13:42.217888Z",
     "shell.execute_reply": "2022-04-03T12:13:42.218269Z"
    },
    "papermill": {
     "duration": 0.037784,
     "end_time": "2022-04-03T12:13:42.218397",
     "exception": false,
     "start_time": "2022-04-03T12:13:42.180613",
     "status": "completed"
    },
    "tags": []
   },
   "outputs": [],
   "source": [
    "#hide\n",
    "g.index.name = 'date'"
   ]
  },
  {
   "cell_type": "code",
   "execution_count": 24,
   "id": "naked-donor",
   "metadata": {
    "execution": {
     "iopub.execute_input": "2022-04-03T12:13:42.284249Z",
     "iopub.status.busy": "2022-04-03T12:13:42.283092Z",
     "iopub.status.idle": "2022-04-03T12:13:42.284829Z",
     "shell.execute_reply": "2022-04-03T12:13:42.285222Z"
    },
    "papermill": {
     "duration": 0.036272,
     "end_time": "2022-04-03T12:13:42.285345",
     "exception": false,
     "start_time": "2022-04-03T12:13:42.249073",
     "status": "completed"
    },
    "tags": []
   },
   "outputs": [],
   "source": [
    "# #hide\n",
    "# g = g.reset_index(['date'])"
   ]
  },
  {
   "cell_type": "code",
   "execution_count": 25,
   "id": "incomplete-mustang",
   "metadata": {
    "execution": {
     "iopub.execute_input": "2022-04-03T12:13:42.350296Z",
     "iopub.status.busy": "2022-04-03T12:13:42.349705Z",
     "iopub.status.idle": "2022-04-03T12:13:42.352955Z",
     "shell.execute_reply": "2022-04-03T12:13:42.353387Z"
    },
    "papermill": {
     "duration": 0.037736,
     "end_time": "2022-04-03T12:13:42.353531",
     "exception": false,
     "start_time": "2022-04-03T12:13:42.315795",
     "status": "completed"
    },
    "tags": []
   },
   "outputs": [],
   "source": [
    "#hide\n",
    "# g.head()"
   ]
  },
  {
   "cell_type": "code",
   "execution_count": 26,
   "id": "specific-kruger",
   "metadata": {
    "execution": {
     "iopub.execute_input": "2022-04-03T12:13:42.419011Z",
     "iopub.status.busy": "2022-04-03T12:13:42.418407Z",
     "iopub.status.idle": "2022-04-03T12:13:42.419987Z",
     "shell.execute_reply": "2022-04-03T12:13:42.420437Z"
    },
    "papermill": {
     "duration": 0.036036,
     "end_time": "2022-04-03T12:13:42.420581",
     "exception": false,
     "start_time": "2022-04-03T12:13:42.384545",
     "status": "completed"
    },
    "tags": []
   },
   "outputs": [],
   "source": [
    "#hide\n",
    "# g.columns = ['date','country','cases']"
   ]
  },
  {
   "cell_type": "code",
   "execution_count": 27,
   "id": "tender-conversion",
   "metadata": {
    "execution": {
     "iopub.execute_input": "2022-04-03T12:13:42.490856Z",
     "iopub.status.busy": "2022-04-03T12:13:42.490350Z",
     "iopub.status.idle": "2022-04-03T12:13:42.492259Z",
     "shell.execute_reply": "2022-04-03T12:13:42.492644Z"
    },
    "papermill": {
     "duration": 0.041108,
     "end_time": "2022-04-03T12:13:42.492781",
     "exception": false,
     "start_time": "2022-04-03T12:13:42.451673",
     "status": "completed"
    },
    "tags": []
   },
   "outputs": [],
   "source": [
    "#hide\n",
    "# g['continent'] = g.country"
   ]
  },
  {
   "cell_type": "code",
   "execution_count": 28,
   "id": "substantial-wilderness",
   "metadata": {
    "execution": {
     "iopub.execute_input": "2022-04-03T12:13:42.557754Z",
     "iopub.status.busy": "2022-04-03T12:13:42.557207Z",
     "iopub.status.idle": "2022-04-03T12:13:42.559252Z",
     "shell.execute_reply": "2022-04-03T12:13:42.558846Z"
    },
    "papermill": {
     "duration": 0.03584,
     "end_time": "2022-04-03T12:13:42.559359",
     "exception": false,
     "start_time": "2022-04-03T12:13:42.523519",
     "status": "completed"
    },
    "tags": []
   },
   "outputs": [],
   "source": [
    "#hide\n",
    "# cols = list(g.columns.values)"
   ]
  },
  {
   "cell_type": "code",
   "execution_count": 29,
   "id": "solved-farming",
   "metadata": {
    "execution": {
     "iopub.execute_input": "2022-04-03T12:13:42.628685Z",
     "iopub.status.busy": "2022-04-03T12:13:42.628153Z",
     "iopub.status.idle": "2022-04-03T12:13:42.630031Z",
     "shell.execute_reply": "2022-04-03T12:13:42.630409Z"
    },
    "papermill": {
     "duration": 0.036371,
     "end_time": "2022-04-03T12:13:42.630540",
     "exception": false,
     "start_time": "2022-04-03T12:13:42.594169",
     "status": "completed"
    },
    "tags": []
   },
   "outputs": [],
   "source": [
    "#hide\n",
    "# cols.insert(0, cols.pop())"
   ]
  },
  {
   "cell_type": "code",
   "execution_count": 30,
   "id": "executed-adoption",
   "metadata": {
    "execution": {
     "iopub.execute_input": "2022-04-03T12:13:42.695587Z",
     "iopub.status.busy": "2022-04-03T12:13:42.694985Z",
     "iopub.status.idle": "2022-04-03T12:13:42.696688Z",
     "shell.execute_reply": "2022-04-03T12:13:42.697150Z"
    },
    "papermill": {
     "duration": 0.035953,
     "end_time": "2022-04-03T12:13:42.697290",
     "exception": false,
     "start_time": "2022-04-03T12:13:42.661337",
     "status": "completed"
    },
    "tags": []
   },
   "outputs": [],
   "source": [
    "#hide\n",
    "# g = g[cols]"
   ]
  },
  {
   "cell_type": "code",
   "execution_count": 31,
   "id": "subject-dublin",
   "metadata": {
    "execution": {
     "iopub.execute_input": "2022-04-03T12:13:42.762227Z",
     "iopub.status.busy": "2022-04-03T12:13:42.761685Z",
     "iopub.status.idle": "2022-04-03T12:13:42.763788Z",
     "shell.execute_reply": "2022-04-03T12:13:42.763347Z"
    },
    "papermill": {
     "duration": 0.035735,
     "end_time": "2022-04-03T12:13:42.763896",
     "exception": false,
     "start_time": "2022-04-03T12:13:42.728161",
     "status": "completed"
    },
    "tags": []
   },
   "outputs": [],
   "source": [
    "#hide\n",
    "# g['continent'] = g['continent'].map(mapping['map.continent'])"
   ]
  },
  {
   "cell_type": "code",
   "execution_count": 32,
   "id": "freelance-scout",
   "metadata": {
    "execution": {
     "iopub.execute_input": "2022-04-03T12:13:42.829290Z",
     "iopub.status.busy": "2022-04-03T12:13:42.828689Z",
     "iopub.status.idle": "2022-04-03T12:13:42.830406Z",
     "shell.execute_reply": "2022-04-03T12:13:42.830841Z"
    },
    "papermill": {
     "duration": 0.035992,
     "end_time": "2022-04-03T12:13:42.830982",
     "exception": false,
     "start_time": "2022-04-03T12:13:42.794990",
     "status": "completed"
    },
    "tags": []
   },
   "outputs": [],
   "source": [
    "#hide\n",
    "# g.head()"
   ]
  },
  {
   "cell_type": "code",
   "execution_count": 33,
   "id": "limited-engine",
   "metadata": {
    "execution": {
     "iopub.execute_input": "2022-04-03T12:13:42.896210Z",
     "iopub.status.busy": "2022-04-03T12:13:42.895578Z",
     "iopub.status.idle": "2022-04-03T12:13:42.897336Z",
     "shell.execute_reply": "2022-04-03T12:13:42.897769Z"
    },
    "papermill": {
     "duration": 0.035804,
     "end_time": "2022-04-03T12:13:42.897906",
     "exception": false,
     "start_time": "2022-04-03T12:13:42.862102",
     "status": "completed"
    },
    "tags": []
   },
   "outputs": [],
   "source": [
    "# hide\n",
    "# g['date'] = g['date'].astype('datetime64[ns]')"
   ]
  },
  {
   "cell_type": "code",
   "execution_count": 34,
   "id": "sophisticated-supervisor",
   "metadata": {
    "execution": {
     "iopub.execute_input": "2022-04-03T12:13:42.963814Z",
     "iopub.status.busy": "2022-04-03T12:13:42.963290Z",
     "iopub.status.idle": "2022-04-03T12:13:42.966415Z",
     "shell.execute_reply": "2022-04-03T12:13:42.966795Z"
    },
    "papermill": {
     "duration": 0.037519,
     "end_time": "2022-04-03T12:13:42.966923",
     "exception": false,
     "start_time": "2022-04-03T12:13:42.929404",
     "status": "completed"
    },
    "tags": []
   },
   "outputs": [],
   "source": [
    "#hide\n",
    "# g['date'] = g.date.dt.dayofyear"
   ]
  },
  {
   "cell_type": "code",
   "execution_count": 35,
   "id": "inside-dubai",
   "metadata": {
    "execution": {
     "iopub.execute_input": "2022-04-03T12:13:43.031339Z",
     "iopub.status.busy": "2022-04-03T12:13:43.030826Z",
     "iopub.status.idle": "2022-04-03T12:13:43.033324Z",
     "shell.execute_reply": "2022-04-03T12:13:43.032914Z"
    },
    "papermill": {
     "duration": 0.036056,
     "end_time": "2022-04-03T12:13:43.033433",
     "exception": false,
     "start_time": "2022-04-03T12:13:42.997377",
     "status": "completed"
    },
    "tags": []
   },
   "outputs": [],
   "source": [
    "#hide\n",
    "# g = g.rename(columns= {'continent':'group','country':'name','cases':'value'})"
   ]
  },
  {
   "cell_type": "code",
   "execution_count": 36,
   "id": "fleet-motorcycle",
   "metadata": {
    "execution": {
     "iopub.execute_input": "2022-04-03T12:13:43.098303Z",
     "iopub.status.busy": "2022-04-03T12:13:43.097794Z",
     "iopub.status.idle": "2022-04-03T12:13:43.100114Z",
     "shell.execute_reply": "2022-04-03T12:13:43.099589Z"
    },
    "papermill": {
     "duration": 0.035979,
     "end_time": "2022-04-03T12:13:43.100226",
     "exception": false,
     "start_time": "2022-04-03T12:13:43.064247",
     "status": "completed"
    },
    "tags": []
   },
   "outputs": [],
   "source": [
    "#hide\n",
    "# cols = ['name','group','day','value']"
   ]
  },
  {
   "cell_type": "code",
   "execution_count": 37,
   "id": "continued-sleeping",
   "metadata": {
    "execution": {
     "iopub.execute_input": "2022-04-03T12:13:43.165925Z",
     "iopub.status.busy": "2022-04-03T12:13:43.165328Z",
     "iopub.status.idle": "2022-04-03T12:13:43.167758Z",
     "shell.execute_reply": "2022-04-03T12:13:43.168166Z"
    },
    "papermill": {
     "duration": 0.037428,
     "end_time": "2022-04-03T12:13:43.168294",
     "exception": false,
     "start_time": "2022-04-03T12:13:43.130866",
     "status": "completed"
    },
    "tags": []
   },
   "outputs": [],
   "source": [
    "#hide\n",
    "# g.rename(columns= {'date':'day'},inplace = True)"
   ]
  },
  {
   "cell_type": "code",
   "execution_count": 38,
   "id": "major-fight",
   "metadata": {
    "execution": {
     "iopub.execute_input": "2022-04-03T12:13:43.234122Z",
     "iopub.status.busy": "2022-04-03T12:13:43.233528Z",
     "iopub.status.idle": "2022-04-03T12:13:43.235599Z",
     "shell.execute_reply": "2022-04-03T12:13:43.235032Z"
    },
    "papermill": {
     "duration": 0.036607,
     "end_time": "2022-04-03T12:13:43.235720",
     "exception": false,
     "start_time": "2022-04-03T12:13:43.199113",
     "status": "completed"
    },
    "tags": []
   },
   "outputs": [],
   "source": [
    "#hide\n",
    "# g = g[cols]"
   ]
  },
  {
   "cell_type": "code",
   "execution_count": 39,
   "id": "structured-mobile",
   "metadata": {
    "execution": {
     "iopub.execute_input": "2022-04-03T12:13:43.300699Z",
     "iopub.status.busy": "2022-04-03T12:13:43.300096Z",
     "iopub.status.idle": "2022-04-03T12:13:43.301632Z",
     "shell.execute_reply": "2022-04-03T12:13:43.302062Z"
    },
    "papermill": {
     "duration": 0.035699,
     "end_time": "2022-04-03T12:13:43.302204",
     "exception": false,
     "start_time": "2022-04-03T12:13:43.266505",
     "status": "completed"
    },
    "tags": []
   },
   "outputs": [],
   "source": [
    "# #hide\n",
    "# g = g[g.group.notna()]"
   ]
  },
  {
   "cell_type": "code",
   "execution_count": 40,
   "id": "determined-closing",
   "metadata": {
    "execution": {
     "iopub.execute_input": "2022-04-03T12:13:43.368636Z",
     "iopub.status.busy": "2022-04-03T12:13:43.366899Z",
     "iopub.status.idle": "2022-04-03T12:13:43.370684Z",
     "shell.execute_reply": "2022-04-03T12:13:43.371072Z"
    },
    "papermill": {
     "duration": 0.037577,
     "end_time": "2022-04-03T12:13:43.371201",
     "exception": false,
     "start_time": "2022-04-03T12:13:43.333624",
     "status": "completed"
    },
    "tags": []
   },
   "outputs": [],
   "source": [
    "# #hide\n",
    "# colors = dict(zip(\n",
    "#     [\"Oceania\", \"Europe\", \"Asia\", \"South America\", \"Middle East\", \"North America\", \"Africa\"],\n",
    "#     [\"#adb0ff\", \"#ffb3ff\", \"#90d595\", \"#e48381\", \"#aafbff\", \"#f7bb5f\", \"#eafb50\"]\n",
    "# ))\n",
    "# group_lk = g.set_index('name')['group'].to_dict()"
   ]
  },
  {
   "cell_type": "code",
   "execution_count": null,
   "id": "gross-drinking",
   "metadata": {
    "papermill": {
     "duration": 0.030438,
     "end_time": "2022-04-03T12:13:43.432162",
     "exception": false,
     "start_time": "2022-04-03T12:13:43.401724",
     "status": "completed"
    },
    "tags": []
   },
   "outputs": [],
   "source": []
  },
  {
   "cell_type": "code",
   "execution_count": 41,
   "id": "subject-macintosh",
   "metadata": {
    "execution": {
     "iopub.execute_input": "2022-04-03T12:13:43.497770Z",
     "iopub.status.busy": "2022-04-03T12:13:43.497154Z",
     "iopub.status.idle": "2022-04-03T12:13:43.498719Z",
     "shell.execute_reply": "2022-04-03T12:13:43.499153Z"
    },
    "papermill": {
     "duration": 0.036604,
     "end_time": "2022-04-03T12:13:43.499299",
     "exception": false,
     "start_time": "2022-04-03T12:13:43.462695",
     "status": "completed"
    },
    "tags": []
   },
   "outputs": [],
   "source": [
    "# #hide\n",
    "# fig, ax = plt.subplots(figsize=(15, 8))\n",
    "\n",
    "# def draw_barchart(current_day):\n",
    "#     dff = g[g['day'].eq(current_day)].sort_values(by='value', ascending=True).tail(10)\n",
    "#     ax.clear()\n",
    "#     ax.barh(dff['name'], dff['value'], color=[colors[group_lk[x]] for x in dff['name']])\n",
    "#     dx = dff['value'].max() / 200\n",
    "    \n",
    "#     for i, (value, name) in enumerate(zip(dff['value'], dff['name'])):\n",
    "#         ax.text(value-dx, i,     name,           size=14, weight=600, ha='right', va='bottom')\n",
    "#         ax.text(value-dx, i-.25, group_lk[name], size=10, color='#444444', ha='right', va='baseline')\n",
    "#         ax.text(value+dx, i,     f'{value:,.0f}',  size=14, ha='left',  va='center')\n",
    "#     ax.text(1, 0.4, current_day, transform=ax.transAxes, color='#777777', size=46, ha='right', weight=800)\n",
    "#     ax.text(0, 1.06, 'Population (thousands)', transform=ax.transAxes, size=12, color='#777777')\n",
    "#     ax.xaxis.set_major_formatter(ticker.StrMethodFormatter('{x:,.0f}'))\n",
    "#     ax.xaxis.set_ticks_position('top')\n",
    "#     ax.tick_params(axis='x', colors='#777777', labelsize=12)\n",
    "#     ax.set_yticks([])\n",
    "#     ax.margins(0, 0.01)\n",
    "#     ax.grid(which='major', axis='x', linestyle='-')\n",
    "#     ax.set_axisbelow(True)\n",
    "    \n",
    "#     ax.text(0, 1.15, 'Coronavirus',\n",
    "#             transform=ax.transAxes, size=24, weight=600, ha='left', va='top')\n",
    "# #     ax.text(1, 0, 'by @pratapvardhan; credit @jburnmurdoch', transform=ax.transAxes, color='#777777', ha='right',\n",
    "# #             bbox=dict(facecolor='white', alpha=0.8, edgecolor='white'))\n",
    "#     plt.box(False)"
   ]
  },
  {
   "cell_type": "code",
   "execution_count": 42,
   "id": "sexual-wages",
   "metadata": {
    "execution": {
     "iopub.execute_input": "2022-04-03T12:13:43.564301Z",
     "iopub.status.busy": "2022-04-03T12:13:43.563651Z",
     "iopub.status.idle": "2022-04-03T12:13:43.566763Z",
     "shell.execute_reply": "2022-04-03T12:13:43.567564Z"
    },
    "papermill": {
     "duration": 0.037754,
     "end_time": "2022-04-03T12:13:43.567711",
     "exception": false,
     "start_time": "2022-04-03T12:13:43.529957",
     "status": "completed"
    },
    "tags": []
   },
   "outputs": [],
   "source": [
    "# #hide_input\n",
    "# fig, ax = plt.subplots(figsize=(15, 8))\n",
    "# animator = animation.FuncAnimation(fig, draw_barchart, frames=range(g.day.values.min(), g.day.values.max()))\n",
    "# HTML(animator.to_jshtml())\n",
    "# # or use animator.to_html5_video() or animator.save() "
   ]
  },
  {
   "cell_type": "code",
   "execution_count": null,
   "id": "australian-container",
   "metadata": {
    "papermill": {
     "duration": 0.030574,
     "end_time": "2022-04-03T12:13:43.629413",
     "exception": false,
     "start_time": "2022-04-03T12:13:43.598839",
     "status": "completed"
    },
    "tags": []
   },
   "outputs": [],
   "source": []
  },
  {
   "cell_type": "code",
   "execution_count": null,
   "id": "mediterranean-pontiac",
   "metadata": {
    "papermill": {
     "duration": 0.030437,
     "end_time": "2022-04-03T12:13:43.690455",
     "exception": false,
     "start_time": "2022-04-03T12:13:43.660018",
     "status": "completed"
    },
    "tags": []
   },
   "outputs": [],
   "source": []
  },
  {
   "cell_type": "code",
   "execution_count": null,
   "id": "aging-legislature",
   "metadata": {
    "papermill": {
     "duration": 0.030469,
     "end_time": "2022-04-03T12:13:43.751670",
     "exception": false,
     "start_time": "2022-04-03T12:13:43.721201",
     "status": "completed"
    },
    "tags": []
   },
   "outputs": [],
   "source": []
  }
 ],
 "metadata": {
  "kernelspec": {
   "display_name": "Python 3",
   "language": "python",
   "name": "python3"
  },
  "language_info": {
   "codemirror_mode": {
    "name": "ipython",
    "version": 3
   },
   "file_extension": ".py",
   "mimetype": "text/x-python",
   "name": "python",
   "nbconvert_exporter": "python",
   "pygments_lexer": "ipython3",
   "version": "3.6.15"
  },
  "papermill": {
   "duration": 6.27666,
   "end_time": "2022-04-03T12:13:44.201962",
   "environment_variables": {},
   "exception": null,
   "input_path": "2020-03-21-covid19exp.ipynb",
   "output_path": "2020-03-21-covid19exp.ipynb",
   "parameters": {},
   "start_time": "2022-04-03T12:13:37.925302",
   "version": "2.0.0"
  }
 },
 "nbformat": 4,
 "nbformat_minor": 5
}