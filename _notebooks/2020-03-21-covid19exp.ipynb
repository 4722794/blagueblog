{
 "cells": [
  {
   "cell_type": "markdown",
   "id": "muslim-click",
   "metadata": {
    "papermill": {
     "duration": 0.046177,
     "end_time": "2022-11-07T12:21:33.525126",
     "exception": false,
     "start_time": "2022-11-07T12:21:33.478949",
     "status": "completed"
    },
    "tags": []
   },
   "source": [
    "# COVID-19 Case Race\n",
    "> A race chart to see rising cases around the world\n",
    "\n",
    "- author: Hargun Oberoi\n",
    "- image: images/covid-overview.png\n",
    "- hide: false\n",
    "- badges: false"
   ]
  },
  {
   "cell_type": "code",
   "execution_count": 1,
   "id": "proof-material",
   "metadata": {
    "execution": {
     "iopub.execute_input": "2022-11-07T12:21:33.615583Z",
     "iopub.status.busy": "2022-11-07T12:21:33.614803Z",
     "iopub.status.idle": "2022-11-07T12:21:34.030217Z",
     "shell.execute_reply": "2022-11-07T12:21:34.029504Z"
    },
    "papermill": {
     "duration": 0.466656,
     "end_time": "2022-11-07T12:21:34.030393",
     "exception": false,
     "start_time": "2022-11-07T12:21:33.563737",
     "status": "completed"
    },
    "tags": []
   },
   "outputs": [],
   "source": [
    "#hide\n",
    "import numpy as np\n",
    "import pandas as pd\n",
    "from jinja2 import Template\n",
    "from IPython.display import HTML"
   ]
  },
  {
   "cell_type": "code",
   "execution_count": 2,
   "id": "developed-terminology",
   "metadata": {
    "execution": {
     "iopub.execute_input": "2022-11-07T12:21:34.118173Z",
     "iopub.status.busy": "2022-11-07T12:21:34.117383Z",
     "iopub.status.idle": "2022-11-07T12:21:34.120707Z",
     "shell.execute_reply": "2022-11-07T12:21:34.120099Z"
    },
    "papermill": {
     "duration": 0.048619,
     "end_time": "2022-11-07T12:21:34.120844",
     "exception": false,
     "start_time": "2022-11-07T12:21:34.072225",
     "status": "completed"
    },
    "tags": []
   },
   "outputs": [],
   "source": [
    "#hide\n",
    "\n",
    "# FETCH\n",
    "base_url = 'https://raw.githubusercontent.com/pratapvardhan/notebooks/master/covid19/'\n",
    "paths = {\n",
    "    'mapping': base_url + 'mapping_countries.csv',\n",
    "    'overview': base_url + 'overview.tpl'\n",
    "}"
   ]
  },
  {
   "cell_type": "code",
   "execution_count": 3,
   "id": "dynamic-saver",
   "metadata": {
    "execution": {
     "iopub.execute_input": "2022-11-07T12:21:34.208869Z",
     "iopub.status.busy": "2022-11-07T12:21:34.207952Z",
     "iopub.status.idle": "2022-11-07T12:21:34.212781Z",
     "shell.execute_reply": "2022-11-07T12:21:34.211653Z"
    },
    "papermill": {
     "duration": 0.0547,
     "end_time": "2022-11-07T12:21:34.212926",
     "exception": false,
     "start_time": "2022-11-07T12:21:34.158226",
     "status": "completed"
    },
    "tags": []
   },
   "outputs": [
    {
     "data": {
      "text/plain": [
       "'https://raw.githubusercontent.com/pratapvardhan/notebooks/master/covid19/mapping_countries.csv'"
      ]
     },
     "execution_count": 3,
     "metadata": {},
     "output_type": "execute_result"
    }
   ],
   "source": [
    "#hide\n",
    "paths['mapping']"
   ]
  },
  {
   "cell_type": "code",
   "execution_count": 4,
   "id": "urban-software",
   "metadata": {
    "execution": {
     "iopub.execute_input": "2022-11-07T12:21:34.297280Z",
     "iopub.status.busy": "2022-11-07T12:21:34.296505Z",
     "iopub.status.idle": "2022-11-07T12:21:34.299691Z",
     "shell.execute_reply": "2022-11-07T12:21:34.299073Z"
    },
    "papermill": {
     "duration": 0.048924,
     "end_time": "2022-11-07T12:21:34.299843",
     "exception": false,
     "start_time": "2022-11-07T12:21:34.250919",
     "status": "completed"
    },
    "tags": []
   },
   "outputs": [],
   "source": [
    "#hide\n",
    "def get_mappings(url):\n",
    "    df = pd.read_csv(url)\n",
    "    return {\n",
    "        'df': df,\n",
    "        'replace.country': dict(df.dropna(subset=['Name']).set_index('Country')['Name']),\n",
    "        'map.continent': dict(df.set_index('Name')['Continent'])\n",
    "    }"
   ]
  },
  {
   "cell_type": "code",
   "execution_count": 5,
   "id": "intimate-machinery",
   "metadata": {
    "execution": {
     "iopub.execute_input": "2022-11-07T12:21:34.382235Z",
     "iopub.status.busy": "2022-11-07T12:21:34.381194Z",
     "iopub.status.idle": "2022-11-07T12:21:34.427240Z",
     "shell.execute_reply": "2022-11-07T12:21:34.427822Z"
    },
    "papermill": {
     "duration": 0.090272,
     "end_time": "2022-11-07T12:21:34.428001",
     "exception": false,
     "start_time": "2022-11-07T12:21:34.337729",
     "status": "completed"
    },
    "tags": []
   },
   "outputs": [],
   "source": [
    "#hide\n",
    "mapping = get_mappings(paths['mapping'])"
   ]
  },
  {
   "cell_type": "code",
   "execution_count": 6,
   "id": "certified-tactics",
   "metadata": {
    "execution": {
     "iopub.execute_input": "2022-11-07T12:21:34.511986Z",
     "iopub.status.busy": "2022-11-07T12:21:34.511235Z",
     "iopub.status.idle": "2022-11-07T12:21:34.514408Z",
     "shell.execute_reply": "2022-11-07T12:21:34.513760Z"
    },
    "papermill": {
     "duration": 0.047414,
     "end_time": "2022-11-07T12:21:34.514544",
     "exception": false,
     "start_time": "2022-11-07T12:21:34.467130",
     "status": "completed"
    },
    "tags": []
   },
   "outputs": [],
   "source": [
    "#hide\n",
    "def get_template(path):\n",
    "    from urllib.parse import urlparse\n",
    "    if bool(urlparse(path).netloc):\n",
    "        from urllib.request import urlopen\n",
    "        return urlopen(path).read().decode('utf8')\n",
    "    return open(path).read()"
   ]
  },
  {
   "cell_type": "code",
   "execution_count": 7,
   "id": "realistic-blast",
   "metadata": {
    "execution": {
     "iopub.execute_input": "2022-11-07T12:21:34.597274Z",
     "iopub.status.busy": "2022-11-07T12:21:34.596467Z",
     "iopub.status.idle": "2022-11-07T12:21:34.599682Z",
     "shell.execute_reply": "2022-11-07T12:21:34.599077Z"
    },
    "papermill": {
     "duration": 0.04698,
     "end_time": "2022-11-07T12:21:34.599820",
     "exception": false,
     "start_time": "2022-11-07T12:21:34.552840",
     "status": "completed"
    },
    "tags": []
   },
   "outputs": [],
   "source": [
    "#hide\n",
    "def get_frame(name):\n",
    "    url = (\n",
    "        'https://raw.githubusercontent.com/CSSEGISandData/COVID-19/master/csse_covid_19_data/'\n",
    "        f'csse_covid_19_time_series/time_series_covid19_{name}_global.csv')\n",
    "    df = pd.read_csv(url)\n",
    "    # rename countries\n",
    "    df['Country/Region'] = df['Country/Region'].replace(mapping['replace.country'])\n",
    "    return df"
   ]
  },
  {
   "cell_type": "code",
   "execution_count": 8,
   "id": "affiliated-characterization",
   "metadata": {
    "execution": {
     "iopub.execute_input": "2022-11-07T12:21:34.684939Z",
     "iopub.status.busy": "2022-11-07T12:21:34.684169Z",
     "iopub.status.idle": "2022-11-07T12:21:34.687425Z",
     "shell.execute_reply": "2022-11-07T12:21:34.686796Z"
    },
    "papermill": {
     "duration": 0.049401,
     "end_time": "2022-11-07T12:21:34.687573",
     "exception": false,
     "start_time": "2022-11-07T12:21:34.638172",
     "status": "completed"
    },
    "tags": []
   },
   "outputs": [],
   "source": [
    "#hide\n",
    "def get_dates(df):\n",
    "    dt_cols = df.columns[~df.columns.isin(['Province/State', 'Country/Region', 'Lat', 'Long'])]\n",
    "    LAST_DATE_I = -1\n",
    "    # sometimes last column may be empty, then go backwards\n",
    "    for i in range(-1, -len(dt_cols), -1):\n",
    "        if not df[dt_cols[i]].fillna(0).eq(0).all():\n",
    "            LAST_DATE_I = i\n",
    "            break\n",
    "    return LAST_DATE_I, dt_cols"
   ]
  },
  {
   "cell_type": "code",
   "execution_count": 9,
   "id": "recent-optimization",
   "metadata": {
    "execution": {
     "iopub.execute_input": "2022-11-07T12:21:34.770072Z",
     "iopub.status.busy": "2022-11-07T12:21:34.769270Z",
     "iopub.status.idle": "2022-11-07T12:21:35.459008Z",
     "shell.execute_reply": "2022-11-07T12:21:35.457739Z"
    },
    "papermill": {
     "duration": 0.734024,
     "end_time": "2022-11-07T12:21:35.459185",
     "exception": false,
     "start_time": "2022-11-07T12:21:34.725161",
     "status": "completed"
    },
    "tags": []
   },
   "outputs": [],
   "source": [
    "#hide\n",
    "COL_REGION = 'Country/Region'\n",
    "# Confirmed, Recovered, Deaths\n",
    "df = get_frame('confirmed')\n",
    "# dft_: timeseries, dfc_: today country agg\n",
    "dft_cases = df\n",
    "dft_deaths = get_frame('deaths')\n",
    "dft_recovered = get_frame('recovered')\n",
    "LAST_DATE_I, dt_cols = get_dates(df)"
   ]
  },
  {
   "cell_type": "code",
   "execution_count": 10,
   "id": "absolute-copper",
   "metadata": {
    "execution": {
     "iopub.execute_input": "2022-11-07T12:21:35.544133Z",
     "iopub.status.busy": "2022-11-07T12:21:35.543387Z",
     "iopub.status.idle": "2022-11-07T12:21:35.548676Z",
     "shell.execute_reply": "2022-11-07T12:21:35.548043Z"
    },
    "papermill": {
     "duration": 0.049759,
     "end_time": "2022-11-07T12:21:35.548818",
     "exception": false,
     "start_time": "2022-11-07T12:21:35.499059",
     "status": "completed"
    },
    "tags": []
   },
   "outputs": [],
   "source": [
    "#hide\n",
    "LAST_DATE_I, dt_cols = get_dates(df)\n",
    "dt_today =dt_cols[LAST_DATE_I]\n",
    "# dt_5day = dt_cols[LAST_DATE_I - 5]\n",
    "dt_yday = dt_cols[LAST_DATE_I - 1]"
   ]
  },
  {
   "cell_type": "code",
   "execution_count": 11,
   "id": "restricted-sheriff",
   "metadata": {
    "execution": {
     "iopub.execute_input": "2022-11-07T12:21:35.635934Z",
     "iopub.status.busy": "2022-11-07T12:21:35.634226Z",
     "iopub.status.idle": "2022-11-07T12:21:35.642645Z",
     "shell.execute_reply": "2022-11-07T12:21:35.642008Z"
    },
    "papermill": {
     "duration": 0.055655,
     "end_time": "2022-11-07T12:21:35.642858",
     "exception": false,
     "start_time": "2022-11-07T12:21:35.587203",
     "status": "completed"
    },
    "tags": []
   },
   "outputs": [],
   "source": [
    "#hide\n",
    "dfc_cases = dft_cases.groupby(COL_REGION)[dt_today].sum()\n",
    "dfc_deaths = dft_deaths.groupby(COL_REGION)[dt_today].sum()\n",
    "# dfp_cases = dft_cases.groupby(COL_REGION)[dt_5day].sum()\n",
    "# dfp_deaths = dft_deaths.groupby(COL_REGION)[dt_5day].sum()\n",
    "dfp_cases = dft_cases.groupby(COL_REGION)[dt_yday].sum()\n",
    "dfp_deaths = dft_deaths.groupby(COL_REGION)[dt_yday].sum()"
   ]
  },
  {
   "cell_type": "code",
   "execution_count": 12,
   "id": "deluxe-hepatitis",
   "metadata": {
    "execution": {
     "iopub.execute_input": "2022-11-07T12:21:35.726496Z",
     "iopub.status.busy": "2022-11-07T12:21:35.725709Z",
     "iopub.status.idle": "2022-11-07T12:21:35.731580Z",
     "shell.execute_reply": "2022-11-07T12:21:35.730963Z"
    },
    "papermill": {
     "duration": 0.050461,
     "end_time": "2022-11-07T12:21:35.731717",
     "exception": false,
     "start_time": "2022-11-07T12:21:35.681256",
     "status": "completed"
    },
    "tags": []
   },
   "outputs": [],
   "source": [
    "#hide\n",
    "df_table = (pd.DataFrame(dict(Cases = dfc_cases, Deaths = dfc_deaths, PCases = dfp_cases, PDeaths = dfp_deaths))\n",
    "            .sort_values(by = ['Cases','Deaths'], ascending = [False, False])\n",
    "            .reset_index())"
   ]
  },
  {
   "cell_type": "code",
   "execution_count": 13,
   "id": "educational-chancellor",
   "metadata": {
    "execution": {
     "iopub.execute_input": "2022-11-07T12:21:35.829824Z",
     "iopub.status.busy": "2022-11-07T12:21:35.829018Z",
     "iopub.status.idle": "2022-11-07T12:21:35.840334Z",
     "shell.execute_reply": "2022-11-07T12:21:35.839709Z"
    },
    "papermill": {
     "duration": 0.069736,
     "end_time": "2022-11-07T12:21:35.840488",
     "exception": false,
     "start_time": "2022-11-07T12:21:35.770752",
     "status": "completed"
    },
    "tags": []
   },
   "outputs": [
    {
     "data": {
      "text/html": [
       "<div>\n",
       "<style scoped>\n",
       "    .dataframe tbody tr th:only-of-type {\n",
       "        vertical-align: middle;\n",
       "    }\n",
       "\n",
       "    .dataframe tbody tr th {\n",
       "        vertical-align: top;\n",
       "    }\n",
       "\n",
       "    .dataframe thead th {\n",
       "        text-align: right;\n",
       "    }\n",
       "</style>\n",
       "<table border=\"1\" class=\"dataframe\">\n",
       "  <thead>\n",
       "    <tr style=\"text-align: right;\">\n",
       "      <th></th>\n",
       "      <th>Country/Region</th>\n",
       "      <th>Cases</th>\n",
       "      <th>Deaths</th>\n",
       "      <th>PCases</th>\n",
       "      <th>PDeaths</th>\n",
       "      <th>Cases (+)</th>\n",
       "      <th>Deaths (+)</th>\n",
       "      <th>Fatality Rate</th>\n",
       "      <th>Continent</th>\n",
       "    </tr>\n",
       "  </thead>\n",
       "  <tbody>\n",
       "    <tr>\n",
       "      <th>0</th>\n",
       "      <td>US</td>\n",
       "      <td>97741764</td>\n",
       "      <td>1072594</td>\n",
       "      <td>97734261</td>\n",
       "      <td>1072582</td>\n",
       "      <td>7503</td>\n",
       "      <td>12</td>\n",
       "      <td>1.10</td>\n",
       "      <td>North America</td>\n",
       "    </tr>\n",
       "    <tr>\n",
       "      <th>1</th>\n",
       "      <td>India</td>\n",
       "      <td>44661504</td>\n",
       "      <td>530509</td>\n",
       "      <td>44660579</td>\n",
       "      <td>530500</td>\n",
       "      <td>925</td>\n",
       "      <td>9</td>\n",
       "      <td>1.19</td>\n",
       "      <td>Asia</td>\n",
       "    </tr>\n",
       "    <tr>\n",
       "      <th>2</th>\n",
       "      <td>France</td>\n",
       "      <td>37140238</td>\n",
       "      <td>158317</td>\n",
       "      <td>37140238</td>\n",
       "      <td>158317</td>\n",
       "      <td>0</td>\n",
       "      <td>0</td>\n",
       "      <td>0.43</td>\n",
       "      <td>Europe</td>\n",
       "    </tr>\n",
       "    <tr>\n",
       "      <th>3</th>\n",
       "      <td>Germany</td>\n",
       "      <td>35823771</td>\n",
       "      <td>154535</td>\n",
       "      <td>35823771</td>\n",
       "      <td>154535</td>\n",
       "      <td>0</td>\n",
       "      <td>0</td>\n",
       "      <td>0.43</td>\n",
       "      <td>Europe</td>\n",
       "    </tr>\n",
       "    <tr>\n",
       "      <th>4</th>\n",
       "      <td>Brazil</td>\n",
       "      <td>34849063</td>\n",
       "      <td>688332</td>\n",
       "      <td>34849063</td>\n",
       "      <td>688332</td>\n",
       "      <td>0</td>\n",
       "      <td>0</td>\n",
       "      <td>1.98</td>\n",
       "      <td>South America</td>\n",
       "    </tr>\n",
       "  </tbody>\n",
       "</table>\n",
       "</div>"
      ],
      "text/plain": [
       "  Country/Region     Cases   Deaths    PCases  PDeaths  Cases (+)  Deaths (+)  \\\n",
       "0             US  97741764  1072594  97734261  1072582       7503          12   \n",
       "1          India  44661504   530509  44660579   530500        925           9   \n",
       "2         France  37140238   158317  37140238   158317          0           0   \n",
       "3        Germany  35823771   154535  35823771   154535          0           0   \n",
       "4         Brazil  34849063   688332  34849063   688332          0           0   \n",
       "\n",
       "   Fatality Rate      Continent  \n",
       "0           1.10  North America  \n",
       "1           1.19           Asia  \n",
       "2           0.43         Europe  \n",
       "3           0.43         Europe  \n",
       "4           1.98  South America  "
      ]
     },
     "execution_count": 13,
     "metadata": {},
     "output_type": "execute_result"
    }
   ],
   "source": [
    "#hide\n",
    "for c in 'Cases, Deaths'.split(', '):\n",
    "    df_table[f'{c} (+)'] = (df_table[c] - df_table[f'P{c}']).clip(0)\n",
    "    #Clip ça veut dire, les chiffres negatif sont interdit\n",
    "df_table['Fatality Rate'] = (100* df_table['Deaths']/ df_table['Cases']).round(2)\n",
    "df_table['Continent'] = df_table['Country/Region'].map(mapping['map.continent'])\n",
    "df_table.head(5)"
   ]
  },
  {
   "cell_type": "code",
   "execution_count": 14,
   "id": "aboriginal-bulgaria",
   "metadata": {
    "execution": {
     "iopub.execute_input": "2022-11-07T12:21:35.925336Z",
     "iopub.status.busy": "2022-11-07T12:21:35.924570Z",
     "iopub.status.idle": "2022-11-07T12:21:35.927250Z",
     "shell.execute_reply": "2022-11-07T12:21:35.927827Z"
    },
    "papermill": {
     "duration": 0.048272,
     "end_time": "2022-11-07T12:21:35.927979",
     "exception": false,
     "start_time": "2022-11-07T12:21:35.879707",
     "status": "completed"
    },
    "tags": []
   },
   "outputs": [],
   "source": [
    "#hide\n",
    "#delete problematic countries from table\n",
    "df_table = df_table[~df_table['Country/Region'].isin(['Cape Verde', 'Cruise Ship', 'Kosovo'])]"
   ]
  },
  {
   "cell_type": "code",
   "execution_count": 15,
   "id": "fantastic-effect",
   "metadata": {
    "execution": {
     "iopub.execute_input": "2022-11-07T12:21:36.013076Z",
     "iopub.status.busy": "2022-11-07T12:21:36.012337Z",
     "iopub.status.idle": "2022-11-07T12:21:36.035636Z",
     "shell.execute_reply": "2022-11-07T12:21:36.034883Z"
    },
    "papermill": {
     "duration": 0.070028,
     "end_time": "2022-11-07T12:21:36.035791",
     "exception": false,
     "start_time": "2022-11-07T12:21:35.965763",
     "status": "completed"
    },
    "tags": []
   },
   "outputs": [
    {
     "data": {
      "text/html": [
       "<div>\n",
       "<style scoped>\n",
       "    .dataframe tbody tr th:only-of-type {\n",
       "        vertical-align: middle;\n",
       "    }\n",
       "\n",
       "    .dataframe tbody tr th {\n",
       "        vertical-align: top;\n",
       "    }\n",
       "\n",
       "    .dataframe thead th {\n",
       "        text-align: right;\n",
       "    }\n",
       "</style>\n",
       "<table border=\"1\" class=\"dataframe\">\n",
       "  <thead>\n",
       "    <tr style=\"text-align: right;\">\n",
       "      <th></th>\n",
       "      <th>Country/Region</th>\n",
       "      <th>Cases</th>\n",
       "      <th>Deaths</th>\n",
       "      <th>PCases</th>\n",
       "      <th>PDeaths</th>\n",
       "      <th>Cases (+)</th>\n",
       "      <th>Deaths (+)</th>\n",
       "      <th>Fatality Rate</th>\n",
       "      <th>Continent</th>\n",
       "    </tr>\n",
       "  </thead>\n",
       "  <tbody>\n",
       "    <tr>\n",
       "      <th>0</th>\n",
       "      <td>US</td>\n",
       "      <td>97741764</td>\n",
       "      <td>1072594</td>\n",
       "      <td>97734261</td>\n",
       "      <td>1072582</td>\n",
       "      <td>7503</td>\n",
       "      <td>12</td>\n",
       "      <td>1.1</td>\n",
       "      <td>North America</td>\n",
       "    </tr>\n",
       "    <tr>\n",
       "      <th>1</th>\n",
       "      <td>India</td>\n",
       "      <td>44661504</td>\n",
       "      <td>530509</td>\n",
       "      <td>44660579</td>\n",
       "      <td>530500</td>\n",
       "      <td>925</td>\n",
       "      <td>9</td>\n",
       "      <td>1.2</td>\n",
       "      <td>Asia</td>\n",
       "    </tr>\n",
       "    <tr>\n",
       "      <th>2</th>\n",
       "      <td>France</td>\n",
       "      <td>37140238</td>\n",
       "      <td>158317</td>\n",
       "      <td>37140238</td>\n",
       "      <td>158317</td>\n",
       "      <td>0</td>\n",
       "      <td>0</td>\n",
       "      <td>0.4</td>\n",
       "      <td>Europe</td>\n",
       "    </tr>\n",
       "    <tr>\n",
       "      <th>3</th>\n",
       "      <td>Germany</td>\n",
       "      <td>35823771</td>\n",
       "      <td>154535</td>\n",
       "      <td>35823771</td>\n",
       "      <td>154535</td>\n",
       "      <td>0</td>\n",
       "      <td>0</td>\n",
       "      <td>0.4</td>\n",
       "      <td>Europe</td>\n",
       "    </tr>\n",
       "    <tr>\n",
       "      <th>4</th>\n",
       "      <td>Brazil</td>\n",
       "      <td>34849063</td>\n",
       "      <td>688332</td>\n",
       "      <td>34849063</td>\n",
       "      <td>688332</td>\n",
       "      <td>0</td>\n",
       "      <td>0</td>\n",
       "      <td>2.0</td>\n",
       "      <td>South America</td>\n",
       "    </tr>\n",
       "  </tbody>\n",
       "</table>\n",
       "</div>"
      ],
      "text/plain": [
       "  Country/Region     Cases   Deaths    PCases  PDeaths  Cases (+)  Deaths (+)  \\\n",
       "0             US  97741764  1072594  97734261  1072582       7503          12   \n",
       "1          India  44661504   530509  44660579   530500        925           9   \n",
       "2         France  37140238   158317  37140238   158317          0           0   \n",
       "3        Germany  35823771   154535  35823771   154535          0           0   \n",
       "4         Brazil  34849063   688332  34849063   688332          0           0   \n",
       "\n",
       "   Fatality Rate      Continent  \n",
       "0            1.1  North America  \n",
       "1            1.2           Asia  \n",
       "2            0.4         Europe  \n",
       "3            0.4         Europe  \n",
       "4            2.0  South America  "
      ]
     },
     "execution_count": 15,
     "metadata": {},
     "output_type": "execute_result"
    }
   ],
   "source": [
    "#hide\n",
    "df_table = (pd.DataFrame(dict(Cases=dfc_cases, Deaths=dfc_deaths, PCases=dfp_cases, PDeaths=dfp_deaths))\n",
    "             .sort_values(by=['Cases', 'Deaths'], ascending=[False, False])\n",
    "             .reset_index())\n",
    "df_table.rename(columns={'index': 'Country/Region'}, inplace=True)\n",
    "for c in 'Cases, Deaths'.split(', '):\n",
    "    df_table[f'{c} (+)'] = (df_table[c] - df_table[f'P{c}']).clip(0)  # DATA BUG\n",
    "df_table['Fatality Rate'] = (100 * df_table['Deaths'] / df_table['Cases']).round(1)\n",
    "df_table['Continent'] = df_table['Country/Region'].map(mapping['map.continent'])\n",
    "df_table.head(5)"
   ]
  },
  {
   "cell_type": "code",
   "execution_count": 16,
   "id": "fewer-occasion",
   "metadata": {
    "execution": {
     "iopub.execute_input": "2022-11-07T12:21:36.124625Z",
     "iopub.status.busy": "2022-11-07T12:21:36.123875Z",
     "iopub.status.idle": "2022-11-07T12:21:36.127375Z",
     "shell.execute_reply": "2022-11-07T12:21:36.126759Z"
    },
    "papermill": {
     "duration": 0.04992,
     "end_time": "2022-11-07T12:21:36.127514",
     "exception": false,
     "start_time": "2022-11-07T12:21:36.077594",
     "status": "completed"
    },
    "tags": []
   },
   "outputs": [],
   "source": [
    "#hide\n",
    "#delete problematic countries from table\n",
    "df_table = df_table[~df_table['Country/Region'].isin(['Cape Verde', 'Cruise Ship', 'Kosovo'])]"
   ]
  },
  {
   "cell_type": "code",
   "execution_count": 17,
   "id": "related-center",
   "metadata": {
    "execution": {
     "iopub.execute_input": "2022-11-07T12:21:36.228999Z",
     "iopub.status.busy": "2022-11-07T12:21:36.228224Z",
     "iopub.status.idle": "2022-11-07T12:21:36.230566Z",
     "shell.execute_reply": "2022-11-07T12:21:36.231159Z"
    },
    "papermill": {
     "duration": 0.064053,
     "end_time": "2022-11-07T12:21:36.231323",
     "exception": false,
     "start_time": "2022-11-07T12:21:36.167270",
     "status": "completed"
    },
    "tags": []
   },
   "outputs": [],
   "source": [
    "#hide\n",
    "metrics = [df_table.columns[index] for index in [1,2,5,6]]\n",
    "# s_china = df_table[df_table['Country/Region'].eq('China')][metrics].sum().add_prefix('China ')\n",
    "s_us = df_table[df_table['Country/Region'].eq('US')][metrics].sum().add_prefix('US ')\n",
    "s_eu = df_table[df_table['Continent'].eq('Europe')][metrics].sum().add_prefix('EU ')\n",
    "s_ind = df_table[df_table['Country/Region'].eq('India')][metrics].sum().add_prefix('India ')\n",
    "summary = {'updated': pd.to_datetime(dt_today), 'since': pd.to_datetime(dt_yday)}\n",
    "summary = {'updated': pd.to_datetime(dt_today), 'since': pd.to_datetime(dt_yday)}\n",
    "summary = {**summary, **df_table[metrics].sum(), **s_ind, **s_us, **s_eu}"
   ]
  },
  {
   "cell_type": "code",
   "execution_count": 18,
   "id": "engaging-syndrome",
   "metadata": {
    "execution": {
     "iopub.execute_input": "2022-11-07T12:21:36.321198Z",
     "iopub.status.busy": "2022-11-07T12:21:36.320436Z",
     "iopub.status.idle": "2022-11-07T12:21:36.343305Z",
     "shell.execute_reply": "2022-11-07T12:21:36.342605Z"
    },
    "papermill": {
     "duration": 0.069756,
     "end_time": "2022-11-07T12:21:36.343454",
     "exception": false,
     "start_time": "2022-11-07T12:21:36.273698",
     "status": "completed"
    },
    "tags": []
   },
   "outputs": [],
   "source": [
    "#hide\n",
    "dft_ct_new_cases = dft_cases.groupby(COL_REGION)[dt_cols].sum().diff(axis=1).fillna(0).astype(int)"
   ]
  },
  {
   "cell_type": "code",
   "execution_count": 19,
   "id": "neutral-assignment",
   "metadata": {
    "execution": {
     "iopub.execute_input": "2022-11-07T12:21:36.431890Z",
     "iopub.status.busy": "2022-11-07T12:21:36.431124Z",
     "iopub.status.idle": "2022-11-07T12:21:36.438921Z",
     "shell.execute_reply": "2022-11-07T12:21:36.439511Z"
    },
    "papermill": {
     "duration": 0.05366,
     "end_time": "2022-11-07T12:21:36.439670",
     "exception": false,
     "start_time": "2022-11-07T12:21:36.386010",
     "status": "completed"
    },
    "tags": []
   },
   "outputs": [],
   "source": [
    "#hide\n",
    "everydaycases = dft_ct_new_cases.cumsum(axis=1)"
   ]
  },
  {
   "cell_type": "code",
   "execution_count": 20,
   "id": "parliamentary-calgary",
   "metadata": {
    "execution": {
     "iopub.execute_input": "2022-11-07T12:21:36.529351Z",
     "iopub.status.busy": "2022-11-07T12:21:36.528279Z",
     "iopub.status.idle": "2022-11-07T12:21:37.276118Z",
     "shell.execute_reply": "2022-11-07T12:21:37.276700Z"
    },
    "papermill": {
     "duration": 0.795483,
     "end_time": "2022-11-07T12:21:37.276880",
     "exception": false,
     "start_time": "2022-11-07T12:21:36.481397",
     "status": "completed"
    },
    "tags": []
   },
   "outputs": [],
   "source": [
    "#hide\n",
    "import pandas as pd\n",
    "import matplotlib.pyplot as plt\n",
    "import matplotlib.ticker as ticker\n",
    "import matplotlib.animation as animation\n",
    "from IPython.display import HTML"
   ]
  },
  {
   "cell_type": "code",
   "execution_count": 21,
   "id": "lasting-extraction",
   "metadata": {
    "execution": {
     "iopub.execute_input": "2022-11-07T12:21:37.365181Z",
     "iopub.status.busy": "2022-11-07T12:21:37.364414Z",
     "iopub.status.idle": "2022-11-07T12:21:37.373087Z",
     "shell.execute_reply": "2022-11-07T12:21:37.373745Z"
    },
    "papermill": {
     "duration": 0.05764,
     "end_time": "2022-11-07T12:21:37.373950",
     "exception": false,
     "start_time": "2022-11-07T12:21:37.316310",
     "status": "completed"
    },
    "tags": []
   },
   "outputs": [],
   "source": [
    "#hide\n",
    "t = everydaycases.stack()"
   ]
  },
  {
   "cell_type": "code",
   "execution_count": 22,
   "id": "premier-sleeve",
   "metadata": {
    "execution": {
     "iopub.execute_input": "2022-11-07T12:21:37.458637Z",
     "iopub.status.busy": "2022-11-07T12:21:37.457879Z",
     "iopub.status.idle": "2022-11-07T12:21:37.472679Z",
     "shell.execute_reply": "2022-11-07T12:21:37.472076Z"
    },
    "papermill": {
     "duration": 0.058838,
     "end_time": "2022-11-07T12:21:37.472852",
     "exception": false,
     "start_time": "2022-11-07T12:21:37.414014",
     "status": "completed"
    },
    "tags": []
   },
   "outputs": [],
   "source": [
    "#hide\n",
    "g = t.reset_index(['Country/Region'])"
   ]
  },
  {
   "cell_type": "code",
   "execution_count": 23,
   "id": "distributed-pittsburgh",
   "metadata": {
    "execution": {
     "iopub.execute_input": "2022-11-07T12:21:37.564373Z",
     "iopub.status.busy": "2022-11-07T12:21:37.563614Z",
     "iopub.status.idle": "2022-11-07T12:21:37.566994Z",
     "shell.execute_reply": "2022-11-07T12:21:37.566403Z"
    },
    "papermill": {
     "duration": 0.046343,
     "end_time": "2022-11-07T12:21:37.567133",
     "exception": false,
     "start_time": "2022-11-07T12:21:37.520790",
     "status": "completed"
    },
    "tags": []
   },
   "outputs": [],
   "source": [
    "#hide\n",
    "g.index.name = 'date'"
   ]
  },
  {
   "cell_type": "code",
   "execution_count": 24,
   "id": "naked-donor",
   "metadata": {
    "execution": {
     "iopub.execute_input": "2022-11-07T12:21:37.651651Z",
     "iopub.status.busy": "2022-11-07T12:21:37.650890Z",
     "iopub.status.idle": "2022-11-07T12:21:37.653686Z",
     "shell.execute_reply": "2022-11-07T12:21:37.654274Z"
    },
    "papermill": {
     "duration": 0.047276,
     "end_time": "2022-11-07T12:21:37.654433",
     "exception": false,
     "start_time": "2022-11-07T12:21:37.607157",
     "status": "completed"
    },
    "tags": []
   },
   "outputs": [],
   "source": [
    "# #hide\n",
    "# g = g.reset_index(['date'])"
   ]
  },
  {
   "cell_type": "code",
   "execution_count": 25,
   "id": "incomplete-mustang",
   "metadata": {
    "execution": {
     "iopub.execute_input": "2022-11-07T12:21:37.737590Z",
     "iopub.status.busy": "2022-11-07T12:21:37.736830Z",
     "iopub.status.idle": "2022-11-07T12:21:37.739765Z",
     "shell.execute_reply": "2022-11-07T12:21:37.740510Z"
    },
    "papermill": {
     "duration": 0.046978,
     "end_time": "2022-11-07T12:21:37.740666",
     "exception": false,
     "start_time": "2022-11-07T12:21:37.693688",
     "status": "completed"
    },
    "tags": []
   },
   "outputs": [],
   "source": [
    "#hide\n",
    "# g.head()"
   ]
  },
  {
   "cell_type": "code",
   "execution_count": 26,
   "id": "specific-kruger",
   "metadata": {
    "execution": {
     "iopub.execute_input": "2022-11-07T12:21:37.829699Z",
     "iopub.status.busy": "2022-11-07T12:21:37.828640Z",
     "iopub.status.idle": "2022-11-07T12:21:37.832527Z",
     "shell.execute_reply": "2022-11-07T12:21:37.831918Z"
    },
    "papermill": {
     "duration": 0.046668,
     "end_time": "2022-11-07T12:21:37.832663",
     "exception": false,
     "start_time": "2022-11-07T12:21:37.785995",
     "status": "completed"
    },
    "tags": []
   },
   "outputs": [],
   "source": [
    "#hide\n",
    "# g.columns = ['date','country','cases']"
   ]
  },
  {
   "cell_type": "code",
   "execution_count": 27,
   "id": "tender-conversion",
   "metadata": {
    "execution": {
     "iopub.execute_input": "2022-11-07T12:21:37.915636Z",
     "iopub.status.busy": "2022-11-07T12:21:37.914894Z",
     "iopub.status.idle": "2022-11-07T12:21:37.918166Z",
     "shell.execute_reply": "2022-11-07T12:21:37.917411Z"
    },
    "papermill": {
     "duration": 0.046884,
     "end_time": "2022-11-07T12:21:37.918303",
     "exception": false,
     "start_time": "2022-11-07T12:21:37.871419",
     "status": "completed"
    },
    "tags": []
   },
   "outputs": [],
   "source": [
    "#hide\n",
    "# g['continent'] = g.country"
   ]
  },
  {
   "cell_type": "code",
   "execution_count": 28,
   "id": "substantial-wilderness",
   "metadata": {
    "execution": {
     "iopub.execute_input": "2022-11-07T12:21:38.002487Z",
     "iopub.status.busy": "2022-11-07T12:21:38.001716Z",
     "iopub.status.idle": "2022-11-07T12:21:38.004899Z",
     "shell.execute_reply": "2022-11-07T12:21:38.004298Z"
    },
    "papermill": {
     "duration": 0.046173,
     "end_time": "2022-11-07T12:21:38.005034",
     "exception": false,
     "start_time": "2022-11-07T12:21:37.958861",
     "status": "completed"
    },
    "tags": []
   },
   "outputs": [],
   "source": [
    "#hide\n",
    "# cols = list(g.columns.values)"
   ]
  },
  {
   "cell_type": "code",
   "execution_count": 29,
   "id": "solved-farming",
   "metadata": {
    "execution": {
     "iopub.execute_input": "2022-11-07T12:21:38.092084Z",
     "iopub.status.busy": "2022-11-07T12:21:38.091328Z",
     "iopub.status.idle": "2022-11-07T12:21:38.094623Z",
     "shell.execute_reply": "2022-11-07T12:21:38.094003Z"
    },
    "papermill": {
     "duration": 0.047027,
     "end_time": "2022-11-07T12:21:38.094758",
     "exception": false,
     "start_time": "2022-11-07T12:21:38.047731",
     "status": "completed"
    },
    "tags": []
   },
   "outputs": [],
   "source": [
    "#hide\n",
    "# cols.insert(0, cols.pop())"
   ]
  },
  {
   "cell_type": "code",
   "execution_count": 30,
   "id": "executed-adoption",
   "metadata": {
    "execution": {
     "iopub.execute_input": "2022-11-07T12:21:38.186268Z",
     "iopub.status.busy": "2022-11-07T12:21:38.185267Z",
     "iopub.status.idle": "2022-11-07T12:21:38.191144Z",
     "shell.execute_reply": "2022-11-07T12:21:38.191864Z"
    },
    "papermill": {
     "duration": 0.050351,
     "end_time": "2022-11-07T12:21:38.192018",
     "exception": false,
     "start_time": "2022-11-07T12:21:38.141667",
     "status": "completed"
    },
    "tags": []
   },
   "outputs": [],
   "source": [
    "#hide\n",
    "# g = g[cols]"
   ]
  },
  {
   "cell_type": "code",
   "execution_count": 31,
   "id": "subject-dublin",
   "metadata": {
    "execution": {
     "iopub.execute_input": "2022-11-07T12:21:38.278462Z",
     "iopub.status.busy": "2022-11-07T12:21:38.277672Z",
     "iopub.status.idle": "2022-11-07T12:21:38.280880Z",
     "shell.execute_reply": "2022-11-07T12:21:38.280265Z"
    },
    "papermill": {
     "duration": 0.046474,
     "end_time": "2022-11-07T12:21:38.281020",
     "exception": false,
     "start_time": "2022-11-07T12:21:38.234546",
     "status": "completed"
    },
    "tags": []
   },
   "outputs": [],
   "source": [
    "#hide\n",
    "# g['continent'] = g['continent'].map(mapping['map.continent'])"
   ]
  },
  {
   "cell_type": "code",
   "execution_count": 32,
   "id": "freelance-scout",
   "metadata": {
    "execution": {
     "iopub.execute_input": "2022-11-07T12:21:38.365687Z",
     "iopub.status.busy": "2022-11-07T12:21:38.364947Z",
     "iopub.status.idle": "2022-11-07T12:21:38.368929Z",
     "shell.execute_reply": "2022-11-07T12:21:38.368065Z"
    },
    "papermill": {
     "duration": 0.048716,
     "end_time": "2022-11-07T12:21:38.369070",
     "exception": false,
     "start_time": "2022-11-07T12:21:38.320354",
     "status": "completed"
    },
    "tags": []
   },
   "outputs": [],
   "source": [
    "#hide\n",
    "# g.head()"
   ]
  },
  {
   "cell_type": "code",
   "execution_count": 33,
   "id": "limited-engine",
   "metadata": {
    "execution": {
     "iopub.execute_input": "2022-11-07T12:21:38.455661Z",
     "iopub.status.busy": "2022-11-07T12:21:38.454910Z",
     "iopub.status.idle": "2022-11-07T12:21:38.458282Z",
     "shell.execute_reply": "2022-11-07T12:21:38.457631Z"
    },
    "papermill": {
     "duration": 0.049122,
     "end_time": "2022-11-07T12:21:38.458427",
     "exception": false,
     "start_time": "2022-11-07T12:21:38.409305",
     "status": "completed"
    },
    "tags": []
   },
   "outputs": [],
   "source": [
    "# hide\n",
    "# g['date'] = g['date'].astype('datetime64[ns]')"
   ]
  },
  {
   "cell_type": "code",
   "execution_count": 34,
   "id": "sophisticated-supervisor",
   "metadata": {
    "execution": {
     "iopub.execute_input": "2022-11-07T12:21:38.543405Z",
     "iopub.status.busy": "2022-11-07T12:21:38.542665Z",
     "iopub.status.idle": "2022-11-07T12:21:38.546143Z",
     "shell.execute_reply": "2022-11-07T12:21:38.545514Z"
    },
    "papermill": {
     "duration": 0.048381,
     "end_time": "2022-11-07T12:21:38.546278",
     "exception": false,
     "start_time": "2022-11-07T12:21:38.497897",
     "status": "completed"
    },
    "tags": []
   },
   "outputs": [],
   "source": [
    "#hide\n",
    "# g['date'] = g.date.dt.dayofyear"
   ]
  },
  {
   "cell_type": "code",
   "execution_count": 35,
   "id": "inside-dubai",
   "metadata": {
    "execution": {
     "iopub.execute_input": "2022-11-07T12:21:38.631291Z",
     "iopub.status.busy": "2022-11-07T12:21:38.630442Z",
     "iopub.status.idle": "2022-11-07T12:21:38.633118Z",
     "shell.execute_reply": "2022-11-07T12:21:38.633692Z"
    },
    "papermill": {
     "duration": 0.047173,
     "end_time": "2022-11-07T12:21:38.633878",
     "exception": false,
     "start_time": "2022-11-07T12:21:38.586705",
     "status": "completed"
    },
    "tags": []
   },
   "outputs": [],
   "source": [
    "#hide\n",
    "# g = g.rename(columns= {'continent':'group','country':'name','cases':'value'})"
   ]
  },
  {
   "cell_type": "code",
   "execution_count": 36,
   "id": "fleet-motorcycle",
   "metadata": {
    "execution": {
     "iopub.execute_input": "2022-11-07T12:21:38.719580Z",
     "iopub.status.busy": "2022-11-07T12:21:38.718831Z",
     "iopub.status.idle": "2022-11-07T12:21:38.722335Z",
     "shell.execute_reply": "2022-11-07T12:21:38.721570Z"
    },
    "papermill": {
     "duration": 0.04955,
     "end_time": "2022-11-07T12:21:38.722473",
     "exception": false,
     "start_time": "2022-11-07T12:21:38.672923",
     "status": "completed"
    },
    "tags": []
   },
   "outputs": [],
   "source": [
    "#hide\n",
    "# cols = ['name','group','day','value']"
   ]
  },
  {
   "cell_type": "code",
   "execution_count": 37,
   "id": "continued-sleeping",
   "metadata": {
    "execution": {
     "iopub.execute_input": "2022-11-07T12:21:38.808536Z",
     "iopub.status.busy": "2022-11-07T12:21:38.807785Z",
     "iopub.status.idle": "2022-11-07T12:21:38.810517Z",
     "shell.execute_reply": "2022-11-07T12:21:38.811065Z"
    },
    "papermill": {
     "duration": 0.049279,
     "end_time": "2022-11-07T12:21:38.811221",
     "exception": false,
     "start_time": "2022-11-07T12:21:38.761942",
     "status": "completed"
    },
    "tags": []
   },
   "outputs": [],
   "source": [
    "#hide\n",
    "# g.rename(columns= {'date':'day'},inplace = True)"
   ]
  },
  {
   "cell_type": "code",
   "execution_count": 38,
   "id": "major-fight",
   "metadata": {
    "execution": {
     "iopub.execute_input": "2022-11-07T12:21:38.898975Z",
     "iopub.status.busy": "2022-11-07T12:21:38.898119Z",
     "iopub.status.idle": "2022-11-07T12:21:38.901347Z",
     "shell.execute_reply": "2022-11-07T12:21:38.900764Z"
    },
    "papermill": {
     "duration": 0.048119,
     "end_time": "2022-11-07T12:21:38.901486",
     "exception": false,
     "start_time": "2022-11-07T12:21:38.853367",
     "status": "completed"
    },
    "tags": []
   },
   "outputs": [],
   "source": [
    "#hide\n",
    "# g = g[cols]"
   ]
  },
  {
   "cell_type": "code",
   "execution_count": 39,
   "id": "structured-mobile",
   "metadata": {
    "execution": {
     "iopub.execute_input": "2022-11-07T12:21:38.986535Z",
     "iopub.status.busy": "2022-11-07T12:21:38.985747Z",
     "iopub.status.idle": "2022-11-07T12:21:38.989079Z",
     "shell.execute_reply": "2022-11-07T12:21:38.988451Z"
    },
    "papermill": {
     "duration": 0.047303,
     "end_time": "2022-11-07T12:21:38.989224",
     "exception": false,
     "start_time": "2022-11-07T12:21:38.941921",
     "status": "completed"
    },
    "tags": []
   },
   "outputs": [],
   "source": [
    "# #hide\n",
    "# g = g[g.group.notna()]"
   ]
  },
  {
   "cell_type": "code",
   "execution_count": 40,
   "id": "determined-closing",
   "metadata": {
    "execution": {
     "iopub.execute_input": "2022-11-07T12:21:39.076507Z",
     "iopub.status.busy": "2022-11-07T12:21:39.075531Z",
     "iopub.status.idle": "2022-11-07T12:21:39.077228Z",
     "shell.execute_reply": "2022-11-07T12:21:39.077968Z"
    },
    "papermill": {
     "duration": 0.049156,
     "end_time": "2022-11-07T12:21:39.078128",
     "exception": false,
     "start_time": "2022-11-07T12:21:39.028972",
     "status": "completed"
    },
    "tags": []
   },
   "outputs": [],
   "source": [
    "# #hide\n",
    "# colors = dict(zip(\n",
    "#     [\"Oceania\", \"Europe\", \"Asia\", \"South America\", \"Middle East\", \"North America\", \"Africa\"],\n",
    "#     [\"#adb0ff\", \"#ffb3ff\", \"#90d595\", \"#e48381\", \"#aafbff\", \"#f7bb5f\", \"#eafb50\"]\n",
    "# ))\n",
    "# group_lk = g.set_index('name')['group'].to_dict()"
   ]
  },
  {
   "cell_type": "code",
   "execution_count": null,
   "id": "gross-drinking",
   "metadata": {
    "papermill": {
     "duration": 0.039227,
     "end_time": "2022-11-07T12:21:39.156750",
     "exception": false,
     "start_time": "2022-11-07T12:21:39.117523",
     "status": "completed"
    },
    "tags": []
   },
   "outputs": [],
   "source": []
  },
  {
   "cell_type": "code",
   "execution_count": 41,
   "id": "subject-macintosh",
   "metadata": {
    "execution": {
     "iopub.execute_input": "2022-11-07T12:21:39.241468Z",
     "iopub.status.busy": "2022-11-07T12:21:39.240707Z",
     "iopub.status.idle": "2022-11-07T12:21:39.244060Z",
     "shell.execute_reply": "2022-11-07T12:21:39.243454Z"
    },
    "papermill": {
     "duration": 0.047916,
     "end_time": "2022-11-07T12:21:39.244194",
     "exception": false,
     "start_time": "2022-11-07T12:21:39.196278",
     "status": "completed"
    },
    "tags": []
   },
   "outputs": [],
   "source": [
    "# #hide\n",
    "# fig, ax = plt.subplots(figsize=(15, 8))\n",
    "\n",
    "# def draw_barchart(current_day):\n",
    "#     dff = g[g['day'].eq(current_day)].sort_values(by='value', ascending=True).tail(10)\n",
    "#     ax.clear()\n",
    "#     ax.barh(dff['name'], dff['value'], color=[colors[group_lk[x]] for x in dff['name']])\n",
    "#     dx = dff['value'].max() / 200\n",
    "    \n",
    "#     for i, (value, name) in enumerate(zip(dff['value'], dff['name'])):\n",
    "#         ax.text(value-dx, i,     name,           size=14, weight=600, ha='right', va='bottom')\n",
    "#         ax.text(value-dx, i-.25, group_lk[name], size=10, color='#444444', ha='right', va='baseline')\n",
    "#         ax.text(value+dx, i,     f'{value:,.0f}',  size=14, ha='left',  va='center')\n",
    "#     ax.text(1, 0.4, current_day, transform=ax.transAxes, color='#777777', size=46, ha='right', weight=800)\n",
    "#     ax.text(0, 1.06, 'Population (thousands)', transform=ax.transAxes, size=12, color='#777777')\n",
    "#     ax.xaxis.set_major_formatter(ticker.StrMethodFormatter('{x:,.0f}'))\n",
    "#     ax.xaxis.set_ticks_position('top')\n",
    "#     ax.tick_params(axis='x', colors='#777777', labelsize=12)\n",
    "#     ax.set_yticks([])\n",
    "#     ax.margins(0, 0.01)\n",
    "#     ax.grid(which='major', axis='x', linestyle='-')\n",
    "#     ax.set_axisbelow(True)\n",
    "    \n",
    "#     ax.text(0, 1.15, 'Coronavirus',\n",
    "#             transform=ax.transAxes, size=24, weight=600, ha='left', va='top')\n",
    "# #     ax.text(1, 0, 'by @pratapvardhan; credit @jburnmurdoch', transform=ax.transAxes, color='#777777', ha='right',\n",
    "# #             bbox=dict(facecolor='white', alpha=0.8, edgecolor='white'))\n",
    "#     plt.box(False)"
   ]
  },
  {
   "cell_type": "code",
   "execution_count": 42,
   "id": "sexual-wages",
   "metadata": {
    "execution": {
     "iopub.execute_input": "2022-11-07T12:21:39.326835Z",
     "iopub.status.busy": "2022-11-07T12:21:39.326072Z",
     "iopub.status.idle": "2022-11-07T12:21:39.329237Z",
     "shell.execute_reply": "2022-11-07T12:21:39.328650Z"
    },
    "papermill": {
     "duration": 0.046181,
     "end_time": "2022-11-07T12:21:39.329377",
     "exception": false,
     "start_time": "2022-11-07T12:21:39.283196",
     "status": "completed"
    },
    "tags": []
   },
   "outputs": [],
   "source": [
    "# #hide_input\n",
    "# fig, ax = plt.subplots(figsize=(15, 8))\n",
    "# animator = animation.FuncAnimation(fig, draw_barchart, frames=range(g.day.values.min(), g.day.values.max()))\n",
    "# HTML(animator.to_jshtml())\n",
    "# # or use animator.to_html5_video() or animator.save() "
   ]
  },
  {
   "cell_type": "code",
   "execution_count": null,
   "id": "australian-container",
   "metadata": {
    "papermill": {
     "duration": 0.039418,
     "end_time": "2022-11-07T12:21:39.417052",
     "exception": false,
     "start_time": "2022-11-07T12:21:39.377634",
     "status": "completed"
    },
    "tags": []
   },
   "outputs": [],
   "source": []
  },
  {
   "cell_type": "code",
   "execution_count": null,
   "id": "mediterranean-pontiac",
   "metadata": {
    "papermill": {
     "duration": 0.050555,
     "end_time": "2022-11-07T12:21:39.528729",
     "exception": false,
     "start_time": "2022-11-07T12:21:39.478174",
     "status": "completed"
    },
    "tags": []
   },
   "outputs": [],
   "source": []
  },
  {
   "cell_type": "code",
   "execution_count": null,
   "id": "aging-legislature",
   "metadata": {
    "papermill": {
     "duration": 0.054898,
     "end_time": "2022-11-07T12:21:39.637669",
     "exception": false,
     "start_time": "2022-11-07T12:21:39.582771",
     "status": "completed"
    },
    "tags": []
   },
   "outputs": [],
   "source": []
  }
 ],
 "metadata": {
  "kernelspec": {
   "display_name": "Python 3",
   "language": "python",
   "name": "python3"
  },
  "language_info": {
   "codemirror_mode": {
    "name": "ipython",
    "version": 3
   },
   "file_extension": ".py",
   "mimetype": "text/x-python",
   "name": "python",
   "nbconvert_exporter": "python",
   "pygments_lexer": "ipython3",
   "version": "3.6.15"
  },
  "papermill": {
   "duration": 7.986143,
   "end_time": "2022-11-07T12:21:40.108651",
   "environment_variables": {},
   "exception": null,
   "input_path": "2020-03-21-covid19exp.ipynb",
   "output_path": "2020-03-21-covid19exp.ipynb",
   "parameters": {},
   "start_time": "2022-11-07T12:21:32.122508",
   "version": "2.0.0"
  }
 },
 "nbformat": 4,
 "nbformat_minor": 5
}