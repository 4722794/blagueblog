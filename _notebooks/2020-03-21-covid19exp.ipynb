{
 "cells": [
  {
   "cell_type": "markdown",
   "metadata": {
    "papermill": {
     "duration": 0.02667,
     "end_time": "2021-01-07T12:10:58.539316",
     "exception": false,
     "start_time": "2021-01-07T12:10:58.512646",
     "status": "completed"
    },
    "tags": []
   },
   "source": [
    "# COVID-19 Case Race\n",
    "> A race chart to see rising cases around the world\n",
    "\n",
    "- author: Hargun Oberoi\n",
    "- image: images/covid-overview.png\n",
    "- hide: false\n",
    "- badges: false"
   ]
  },
  {
   "cell_type": "code",
   "execution_count": 1,
   "metadata": {
    "execution": {
     "iopub.execute_input": "2021-01-07T12:10:58.595407Z",
     "iopub.status.busy": "2021-01-07T12:10:58.594943Z",
     "iopub.status.idle": "2021-01-07T12:10:58.854531Z",
     "shell.execute_reply": "2021-01-07T12:10:58.854028Z"
    },
    "papermill": {
     "duration": 0.291803,
     "end_time": "2021-01-07T12:10:58.854660",
     "exception": false,
     "start_time": "2021-01-07T12:10:58.562857",
     "status": "completed"
    },
    "tags": []
   },
   "outputs": [],
   "source": [
    "#hide\n",
    "import numpy as np\n",
    "import pandas as pd\n",
    "from jinja2 import Template\n",
    "from IPython.display import HTML"
   ]
  },
  {
   "cell_type": "code",
   "execution_count": 2,
   "metadata": {
    "execution": {
     "iopub.execute_input": "2021-01-07T12:10:58.906339Z",
     "iopub.status.busy": "2021-01-07T12:10:58.905872Z",
     "iopub.status.idle": "2021-01-07T12:10:58.907527Z",
     "shell.execute_reply": "2021-01-07T12:10:58.907897Z"
    },
    "papermill": {
     "duration": 0.029858,
     "end_time": "2021-01-07T12:10:58.908015",
     "exception": false,
     "start_time": "2021-01-07T12:10:58.878157",
     "status": "completed"
    },
    "tags": []
   },
   "outputs": [],
   "source": [
    "#hide\n",
    "\n",
    "# FETCH\n",
    "base_url = 'https://raw.githubusercontent.com/pratapvardhan/notebooks/master/covid19/'\n",
    "paths = {\n",
    "    'mapping': base_url + 'mapping_countries.csv',\n",
    "    'overview': base_url + 'overview.tpl'\n",
    "}"
   ]
  },
  {
   "cell_type": "code",
   "execution_count": 3,
   "metadata": {
    "execution": {
     "iopub.execute_input": "2021-01-07T12:10:58.963050Z",
     "iopub.status.busy": "2021-01-07T12:10:58.961241Z",
     "iopub.status.idle": "2021-01-07T12:10:58.965508Z",
     "shell.execute_reply": "2021-01-07T12:10:58.965934Z"
    },
    "papermill": {
     "duration": 0.03492,
     "end_time": "2021-01-07T12:10:58.966041",
     "exception": false,
     "start_time": "2021-01-07T12:10:58.931121",
     "status": "completed"
    },
    "tags": []
   },
   "outputs": [
    {
     "data": {
      "text/plain": [
       "'https://raw.githubusercontent.com/pratapvardhan/notebooks/master/covid19/mapping_countries.csv'"
      ]
     },
     "execution_count": 3,
     "metadata": {},
     "output_type": "execute_result"
    }
   ],
   "source": [
    "#hide\n",
    "paths['mapping']"
   ]
  },
  {
   "cell_type": "code",
   "execution_count": 4,
   "metadata": {
    "execution": {
     "iopub.execute_input": "2021-01-07T12:10:59.017540Z",
     "iopub.status.busy": "2021-01-07T12:10:59.017096Z",
     "iopub.status.idle": "2021-01-07T12:10:59.019052Z",
     "shell.execute_reply": "2021-01-07T12:10:59.018675Z"
    },
    "papermill": {
     "duration": 0.029698,
     "end_time": "2021-01-07T12:10:59.019149",
     "exception": false,
     "start_time": "2021-01-07T12:10:58.989451",
     "status": "completed"
    },
    "tags": []
   },
   "outputs": [],
   "source": [
    "#hide\n",
    "def get_mappings(url):\n",
    "    df = pd.read_csv(url)\n",
    "    return {\n",
    "        'df': df,\n",
    "        'replace.country': dict(df.dropna(subset=['Name']).set_index('Country')['Name']),\n",
    "        'map.continent': dict(df.set_index('Name')['Continent'])\n",
    "    }"
   ]
  },
  {
   "cell_type": "code",
   "execution_count": 5,
   "metadata": {
    "execution": {
     "iopub.execute_input": "2021-01-07T12:10:59.069526Z",
     "iopub.status.busy": "2021-01-07T12:10:59.069076Z",
     "iopub.status.idle": "2021-01-07T12:10:59.119209Z",
     "shell.execute_reply": "2021-01-07T12:10:59.118818Z"
    },
    "papermill": {
     "duration": 0.077312,
     "end_time": "2021-01-07T12:10:59.119310",
     "exception": false,
     "start_time": "2021-01-07T12:10:59.041998",
     "status": "completed"
    },
    "tags": []
   },
   "outputs": [],
   "source": [
    "#hide\n",
    "mapping = get_mappings(paths['mapping'])"
   ]
  },
  {
   "cell_type": "code",
   "execution_count": 6,
   "metadata": {
    "execution": {
     "iopub.execute_input": "2021-01-07T12:10:59.169970Z",
     "iopub.status.busy": "2021-01-07T12:10:59.169518Z",
     "iopub.status.idle": "2021-01-07T12:10:59.171231Z",
     "shell.execute_reply": "2021-01-07T12:10:59.171662Z"
    },
    "papermill": {
     "duration": 0.029114,
     "end_time": "2021-01-07T12:10:59.171777",
     "exception": false,
     "start_time": "2021-01-07T12:10:59.142663",
     "status": "completed"
    },
    "tags": []
   },
   "outputs": [],
   "source": [
    "#hide\n",
    "def get_template(path):\n",
    "    from urllib.parse import urlparse\n",
    "    if bool(urlparse(path).netloc):\n",
    "        from urllib.request import urlopen\n",
    "        return urlopen(path).read().decode('utf8')\n",
    "    return open(path).read()"
   ]
  },
  {
   "cell_type": "code",
   "execution_count": 7,
   "metadata": {
    "execution": {
     "iopub.execute_input": "2021-01-07T12:10:59.222267Z",
     "iopub.status.busy": "2021-01-07T12:10:59.221815Z",
     "iopub.status.idle": "2021-01-07T12:10:59.223816Z",
     "shell.execute_reply": "2021-01-07T12:10:59.223448Z"
    },
    "papermill": {
     "duration": 0.028938,
     "end_time": "2021-01-07T12:10:59.223915",
     "exception": false,
     "start_time": "2021-01-07T12:10:59.194977",
     "status": "completed"
    },
    "tags": []
   },
   "outputs": [],
   "source": [
    "#hide\n",
    "def get_frame(name):\n",
    "    url = (\n",
    "        'https://raw.githubusercontent.com/CSSEGISandData/COVID-19/master/csse_covid_19_data/'\n",
    "        f'csse_covid_19_time_series/time_series_covid19_{name}_global.csv')\n",
    "    df = pd.read_csv(url)\n",
    "    # rename countries\n",
    "    df['Country/Region'] = df['Country/Region'].replace(mapping['replace.country'])\n",
    "    return df"
   ]
  },
  {
   "cell_type": "code",
   "execution_count": 8,
   "metadata": {
    "execution": {
     "iopub.execute_input": "2021-01-07T12:10:59.275666Z",
     "iopub.status.busy": "2021-01-07T12:10:59.275191Z",
     "iopub.status.idle": "2021-01-07T12:10:59.276933Z",
     "shell.execute_reply": "2021-01-07T12:10:59.277361Z"
    },
    "papermill": {
     "duration": 0.030259,
     "end_time": "2021-01-07T12:10:59.277464",
     "exception": false,
     "start_time": "2021-01-07T12:10:59.247205",
     "status": "completed"
    },
    "tags": []
   },
   "outputs": [],
   "source": [
    "#hide\n",
    "def get_dates(df):\n",
    "    dt_cols = df.columns[~df.columns.isin(['Province/State', 'Country/Region', 'Lat', 'Long'])]\n",
    "    LAST_DATE_I = -1\n",
    "    # sometimes last column may be empty, then go backwards\n",
    "    for i in range(-1, -len(dt_cols), -1):\n",
    "        if not df[dt_cols[i]].fillna(0).eq(0).all():\n",
    "            LAST_DATE_I = i\n",
    "            break\n",
    "    return LAST_DATE_I, dt_cols"
   ]
  },
  {
   "cell_type": "code",
   "execution_count": 9,
   "metadata": {
    "execution": {
     "iopub.execute_input": "2021-01-07T12:10:59.328064Z",
     "iopub.status.busy": "2021-01-07T12:10:59.327269Z",
     "iopub.status.idle": "2021-01-07T12:10:59.649931Z",
     "shell.execute_reply": "2021-01-07T12:10:59.649426Z"
    },
    "papermill": {
     "duration": 0.34966,
     "end_time": "2021-01-07T12:10:59.650069",
     "exception": false,
     "start_time": "2021-01-07T12:10:59.300409",
     "status": "completed"
    },
    "tags": []
   },
   "outputs": [],
   "source": [
    "#hide\n",
    "COL_REGION = 'Country/Region'\n",
    "# Confirmed, Recovered, Deaths\n",
    "df = get_frame('confirmed')\n",
    "# dft_: timeseries, dfc_: today country agg\n",
    "dft_cases = df\n",
    "dft_deaths = get_frame('deaths')\n",
    "dft_recovered = get_frame('recovered')\n",
    "LAST_DATE_I, dt_cols = get_dates(df)"
   ]
  },
  {
   "cell_type": "code",
   "execution_count": 10,
   "metadata": {
    "execution": {
     "iopub.execute_input": "2021-01-07T12:10:59.704525Z",
     "iopub.status.busy": "2021-01-07T12:10:59.703923Z",
     "iopub.status.idle": "2021-01-07T12:10:59.705126Z",
     "shell.execute_reply": "2021-01-07T12:10:59.705661Z"
    },
    "papermill": {
     "duration": 0.030118,
     "end_time": "2021-01-07T12:10:59.705803",
     "exception": false,
     "start_time": "2021-01-07T12:10:59.675685",
     "status": "completed"
    },
    "tags": []
   },
   "outputs": [],
   "source": [
    "#hide\n",
    "LAST_DATE_I, dt_cols = get_dates(df)\n",
    "dt_today =dt_cols[LAST_DATE_I]\n",
    "# dt_5day = dt_cols[LAST_DATE_I - 5]\n",
    "dt_yday = dt_cols[LAST_DATE_I - 1]"
   ]
  },
  {
   "cell_type": "code",
   "execution_count": 11,
   "metadata": {
    "execution": {
     "iopub.execute_input": "2021-01-07T12:10:59.758484Z",
     "iopub.status.busy": "2021-01-07T12:10:59.758066Z",
     "iopub.status.idle": "2021-01-07T12:10:59.764866Z",
     "shell.execute_reply": "2021-01-07T12:10:59.764483Z"
    },
    "papermill": {
     "duration": 0.035204,
     "end_time": "2021-01-07T12:10:59.764966",
     "exception": false,
     "start_time": "2021-01-07T12:10:59.729762",
     "status": "completed"
    },
    "tags": []
   },
   "outputs": [],
   "source": [
    "#hide\n",
    "dfc_cases = dft_cases.groupby(COL_REGION)[dt_today].sum()\n",
    "dfc_deaths = dft_deaths.groupby(COL_REGION)[dt_today].sum()\n",
    "# dfp_cases = dft_cases.groupby(COL_REGION)[dt_5day].sum()\n",
    "# dfp_deaths = dft_deaths.groupby(COL_REGION)[dt_5day].sum()\n",
    "dfp_cases = dft_cases.groupby(COL_REGION)[dt_yday].sum()\n",
    "dfp_deaths = dft_deaths.groupby(COL_REGION)[dt_yday].sum()"
   ]
  },
  {
   "cell_type": "code",
   "execution_count": 12,
   "metadata": {
    "execution": {
     "iopub.execute_input": "2021-01-07T12:10:59.817602Z",
     "iopub.status.busy": "2021-01-07T12:10:59.817150Z",
     "iopub.status.idle": "2021-01-07T12:10:59.821683Z",
     "shell.execute_reply": "2021-01-07T12:10:59.821324Z"
    },
    "papermill": {
     "duration": 0.033684,
     "end_time": "2021-01-07T12:10:59.821785",
     "exception": false,
     "start_time": "2021-01-07T12:10:59.788101",
     "status": "completed"
    },
    "tags": []
   },
   "outputs": [],
   "source": [
    "#hide\n",
    "df_table = (pd.DataFrame(dict(Cases = dfc_cases, Deaths = dfc_deaths, PCases = dfp_cases, PDeaths = dfp_deaths))\n",
    "            .sort_values(by = ['Cases','Deaths'], ascending = [False, False])\n",
    "            .reset_index())"
   ]
  },
  {
   "cell_type": "code",
   "execution_count": 13,
   "metadata": {
    "execution": {
     "iopub.execute_input": "2021-01-07T12:10:59.883464Z",
     "iopub.status.busy": "2021-01-07T12:10:59.883003Z",
     "iopub.status.idle": "2021-01-07T12:10:59.889103Z",
     "shell.execute_reply": "2021-01-07T12:10:59.888746Z"
    },
    "papermill": {
     "duration": 0.044072,
     "end_time": "2021-01-07T12:10:59.889206",
     "exception": false,
     "start_time": "2021-01-07T12:10:59.845134",
     "status": "completed"
    },
    "tags": []
   },
   "outputs": [
    {
     "data": {
      "text/html": [
       "<div>\n",
       "<style scoped>\n",
       "    .dataframe tbody tr th:only-of-type {\n",
       "        vertical-align: middle;\n",
       "    }\n",
       "\n",
       "    .dataframe tbody tr th {\n",
       "        vertical-align: top;\n",
       "    }\n",
       "\n",
       "    .dataframe thead th {\n",
       "        text-align: right;\n",
       "    }\n",
       "</style>\n",
       "<table border=\"1\" class=\"dataframe\">\n",
       "  <thead>\n",
       "    <tr style=\"text-align: right;\">\n",
       "      <th></th>\n",
       "      <th>Country/Region</th>\n",
       "      <th>Cases</th>\n",
       "      <th>Deaths</th>\n",
       "      <th>PCases</th>\n",
       "      <th>PDeaths</th>\n",
       "      <th>Cases (+)</th>\n",
       "      <th>Deaths (+)</th>\n",
       "      <th>Fatality Rate</th>\n",
       "      <th>Continent</th>\n",
       "    </tr>\n",
       "  </thead>\n",
       "  <tbody>\n",
       "    <tr>\n",
       "      <th>0</th>\n",
       "      <td>US</td>\n",
       "      <td>21299340</td>\n",
       "      <td>361123</td>\n",
       "      <td>21046195</td>\n",
       "      <td>357258</td>\n",
       "      <td>253145</td>\n",
       "      <td>3865</td>\n",
       "      <td>1.70</td>\n",
       "      <td>North America</td>\n",
       "    </tr>\n",
       "    <tr>\n",
       "      <th>1</th>\n",
       "      <td>India</td>\n",
       "      <td>10395278</td>\n",
       "      <td>150336</td>\n",
       "      <td>10374932</td>\n",
       "      <td>150114</td>\n",
       "      <td>20346</td>\n",
       "      <td>222</td>\n",
       "      <td>1.45</td>\n",
       "      <td>Asia</td>\n",
       "    </tr>\n",
       "    <tr>\n",
       "      <th>2</th>\n",
       "      <td>Brazil</td>\n",
       "      <td>7873830</td>\n",
       "      <td>198974</td>\n",
       "      <td>7810400</td>\n",
       "      <td>197732</td>\n",
       "      <td>63430</td>\n",
       "      <td>1242</td>\n",
       "      <td>2.53</td>\n",
       "      <td>South America</td>\n",
       "    </tr>\n",
       "    <tr>\n",
       "      <th>3</th>\n",
       "      <td>Russia</td>\n",
       "      <td>3274615</td>\n",
       "      <td>59137</td>\n",
       "      <td>3250713</td>\n",
       "      <td>58706</td>\n",
       "      <td>23902</td>\n",
       "      <td>431</td>\n",
       "      <td>1.81</td>\n",
       "      <td>Europe</td>\n",
       "    </tr>\n",
       "    <tr>\n",
       "      <th>4</th>\n",
       "      <td>United Kingdom</td>\n",
       "      <td>2845265</td>\n",
       "      <td>77470</td>\n",
       "      <td>2782709</td>\n",
       "      <td>76428</td>\n",
       "      <td>62556</td>\n",
       "      <td>1042</td>\n",
       "      <td>2.72</td>\n",
       "      <td>Europe</td>\n",
       "    </tr>\n",
       "  </tbody>\n",
       "</table>\n",
       "</div>"
      ],
      "text/plain": [
       "   Country/Region     Cases  Deaths    PCases  PDeaths  Cases (+)  Deaths (+)  \\\n",
       "0              US  21299340  361123  21046195   357258     253145        3865   \n",
       "1           India  10395278  150336  10374932   150114      20346         222   \n",
       "2          Brazil   7873830  198974   7810400   197732      63430        1242   \n",
       "3          Russia   3274615   59137   3250713    58706      23902         431   \n",
       "4  United Kingdom   2845265   77470   2782709    76428      62556        1042   \n",
       "\n",
       "   Fatality Rate      Continent  \n",
       "0           1.70  North America  \n",
       "1           1.45           Asia  \n",
       "2           2.53  South America  \n",
       "3           1.81         Europe  \n",
       "4           2.72         Europe  "
      ]
     },
     "execution_count": 13,
     "metadata": {},
     "output_type": "execute_result"
    }
   ],
   "source": [
    "#hide\n",
    "for c in 'Cases, Deaths'.split(', '):\n",
    "    df_table[f'{c} (+)'] = (df_table[c] - df_table[f'P{c}']).clip(0)\n",
    "    #Clip ça veut dire, les chiffres negatif sont interdit\n",
    "df_table['Fatality Rate'] = (100* df_table['Deaths']/ df_table['Cases']).round(2)\n",
    "df_table['Continent'] = df_table['Country/Region'].map(mapping['map.continent'])\n",
    "df_table.head(5)"
   ]
  },
  {
   "cell_type": "code",
   "execution_count": 14,
   "metadata": {
    "execution": {
     "iopub.execute_input": "2021-01-07T12:10:59.941110Z",
     "iopub.status.busy": "2021-01-07T12:10:59.940669Z",
     "iopub.status.idle": "2021-01-07T12:10:59.943353Z",
     "shell.execute_reply": "2021-01-07T12:10:59.943799Z"
    },
    "papermill": {
     "duration": 0.030646,
     "end_time": "2021-01-07T12:10:59.943915",
     "exception": false,
     "start_time": "2021-01-07T12:10:59.913269",
     "status": "completed"
    },
    "tags": []
   },
   "outputs": [],
   "source": [
    "#hide\n",
    "#delete problematic countries from table\n",
    "df_table = df_table[~df_table['Country/Region'].isin(['Cape Verde', 'Cruise Ship', 'Kosovo'])]"
   ]
  },
  {
   "cell_type": "code",
   "execution_count": 15,
   "metadata": {
    "execution": {
     "iopub.execute_input": "2021-01-07T12:10:59.998036Z",
     "iopub.status.busy": "2021-01-07T12:10:59.997582Z",
     "iopub.status.idle": "2021-01-07T12:11:00.012264Z",
     "shell.execute_reply": "2021-01-07T12:11:00.011891Z"
    },
    "papermill": {
     "duration": 0.045001,
     "end_time": "2021-01-07T12:11:00.012379",
     "exception": false,
     "start_time": "2021-01-07T12:10:59.967378",
     "status": "completed"
    },
    "tags": []
   },
   "outputs": [
    {
     "data": {
      "text/html": [
       "<div>\n",
       "<style scoped>\n",
       "    .dataframe tbody tr th:only-of-type {\n",
       "        vertical-align: middle;\n",
       "    }\n",
       "\n",
       "    .dataframe tbody tr th {\n",
       "        vertical-align: top;\n",
       "    }\n",
       "\n",
       "    .dataframe thead th {\n",
       "        text-align: right;\n",
       "    }\n",
       "</style>\n",
       "<table border=\"1\" class=\"dataframe\">\n",
       "  <thead>\n",
       "    <tr style=\"text-align: right;\">\n",
       "      <th></th>\n",
       "      <th>Country/Region</th>\n",
       "      <th>Cases</th>\n",
       "      <th>Deaths</th>\n",
       "      <th>PCases</th>\n",
       "      <th>PDeaths</th>\n",
       "      <th>Cases (+)</th>\n",
       "      <th>Deaths (+)</th>\n",
       "      <th>Fatality Rate</th>\n",
       "      <th>Continent</th>\n",
       "    </tr>\n",
       "  </thead>\n",
       "  <tbody>\n",
       "    <tr>\n",
       "      <th>0</th>\n",
       "      <td>US</td>\n",
       "      <td>21299340</td>\n",
       "      <td>361123</td>\n",
       "      <td>21046195</td>\n",
       "      <td>357258</td>\n",
       "      <td>253145</td>\n",
       "      <td>3865</td>\n",
       "      <td>1.7</td>\n",
       "      <td>North America</td>\n",
       "    </tr>\n",
       "    <tr>\n",
       "      <th>1</th>\n",
       "      <td>India</td>\n",
       "      <td>10395278</td>\n",
       "      <td>150336</td>\n",
       "      <td>10374932</td>\n",
       "      <td>150114</td>\n",
       "      <td>20346</td>\n",
       "      <td>222</td>\n",
       "      <td>1.4</td>\n",
       "      <td>Asia</td>\n",
       "    </tr>\n",
       "    <tr>\n",
       "      <th>2</th>\n",
       "      <td>Brazil</td>\n",
       "      <td>7873830</td>\n",
       "      <td>198974</td>\n",
       "      <td>7810400</td>\n",
       "      <td>197732</td>\n",
       "      <td>63430</td>\n",
       "      <td>1242</td>\n",
       "      <td>2.5</td>\n",
       "      <td>South America</td>\n",
       "    </tr>\n",
       "    <tr>\n",
       "      <th>3</th>\n",
       "      <td>Russia</td>\n",
       "      <td>3274615</td>\n",
       "      <td>59137</td>\n",
       "      <td>3250713</td>\n",
       "      <td>58706</td>\n",
       "      <td>23902</td>\n",
       "      <td>431</td>\n",
       "      <td>1.8</td>\n",
       "      <td>Europe</td>\n",
       "    </tr>\n",
       "    <tr>\n",
       "      <th>4</th>\n",
       "      <td>United Kingdom</td>\n",
       "      <td>2845265</td>\n",
       "      <td>77470</td>\n",
       "      <td>2782709</td>\n",
       "      <td>76428</td>\n",
       "      <td>62556</td>\n",
       "      <td>1042</td>\n",
       "      <td>2.7</td>\n",
       "      <td>Europe</td>\n",
       "    </tr>\n",
       "  </tbody>\n",
       "</table>\n",
       "</div>"
      ],
      "text/plain": [
       "   Country/Region     Cases  Deaths    PCases  PDeaths  Cases (+)  Deaths (+)  \\\n",
       "0              US  21299340  361123  21046195   357258     253145        3865   \n",
       "1           India  10395278  150336  10374932   150114      20346         222   \n",
       "2          Brazil   7873830  198974   7810400   197732      63430        1242   \n",
       "3          Russia   3274615   59137   3250713    58706      23902         431   \n",
       "4  United Kingdom   2845265   77470   2782709    76428      62556        1042   \n",
       "\n",
       "   Fatality Rate      Continent  \n",
       "0            1.7  North America  \n",
       "1            1.4           Asia  \n",
       "2            2.5  South America  \n",
       "3            1.8         Europe  \n",
       "4            2.7         Europe  "
      ]
     },
     "execution_count": 15,
     "metadata": {},
     "output_type": "execute_result"
    }
   ],
   "source": [
    "#hide\n",
    "df_table = (pd.DataFrame(dict(Cases=dfc_cases, Deaths=dfc_deaths, PCases=dfp_cases, PDeaths=dfp_deaths))\n",
    "             .sort_values(by=['Cases', 'Deaths'], ascending=[False, False])\n",
    "             .reset_index())\n",
    "df_table.rename(columns={'index': 'Country/Region'}, inplace=True)\n",
    "for c in 'Cases, Deaths'.split(', '):\n",
    "    df_table[f'{c} (+)'] = (df_table[c] - df_table[f'P{c}']).clip(0)  # DATA BUG\n",
    "df_table['Fatality Rate'] = (100 * df_table['Deaths'] / df_table['Cases']).round(1)\n",
    "df_table['Continent'] = df_table['Country/Region'].map(mapping['map.continent'])\n",
    "df_table.head(5)"
   ]
  },
  {
   "cell_type": "code",
   "execution_count": 16,
   "metadata": {
    "execution": {
     "iopub.execute_input": "2021-01-07T12:11:00.065912Z",
     "iopub.status.busy": "2021-01-07T12:11:00.065458Z",
     "iopub.status.idle": "2021-01-07T12:11:00.067122Z",
     "shell.execute_reply": "2021-01-07T12:11:00.067516Z"
    },
    "papermill": {
     "duration": 0.030782,
     "end_time": "2021-01-07T12:11:00.067627",
     "exception": false,
     "start_time": "2021-01-07T12:11:00.036845",
     "status": "completed"
    },
    "tags": []
   },
   "outputs": [],
   "source": [
    "#hide\n",
    "#delete problematic countries from table\n",
    "df_table = df_table[~df_table['Country/Region'].isin(['Cape Verde', 'Cruise Ship', 'Kosovo'])]"
   ]
  },
  {
   "cell_type": "code",
   "execution_count": 17,
   "metadata": {
    "execution": {
     "iopub.execute_input": "2021-01-07T12:11:00.122441Z",
     "iopub.status.busy": "2021-01-07T12:11:00.121991Z",
     "iopub.status.idle": "2021-01-07T12:11:00.133266Z",
     "shell.execute_reply": "2021-01-07T12:11:00.133623Z"
    },
    "papermill": {
     "duration": 0.042532,
     "end_time": "2021-01-07T12:11:00.133737",
     "exception": false,
     "start_time": "2021-01-07T12:11:00.091205",
     "status": "completed"
    },
    "tags": []
   },
   "outputs": [],
   "source": [
    "#hide\n",
    "metrics = [df_table.columns[index] for index in [1,2,5,6]]\n",
    "# s_china = df_table[df_table['Country/Region'].eq('China')][metrics].sum().add_prefix('China ')\n",
    "s_us = df_table[df_table['Country/Region'].eq('US')][metrics].sum().add_prefix('US ')\n",
    "s_eu = df_table[df_table['Continent'].eq('Europe')][metrics].sum().add_prefix('EU ')\n",
    "s_ind = df_table[df_table['Country/Region'].eq('India')][metrics].sum().add_prefix('India ')\n",
    "summary = {'updated': pd.to_datetime(dt_today), 'since': pd.to_datetime(dt_yday)}\n",
    "summary = {'updated': pd.to_datetime(dt_today), 'since': pd.to_datetime(dt_yday)}\n",
    "summary = {**summary, **df_table[metrics].sum(), **s_ind, **s_us, **s_eu}"
   ]
  },
  {
   "cell_type": "code",
   "execution_count": 18,
   "metadata": {
    "execution": {
     "iopub.execute_input": "2021-01-07T12:11:00.185516Z",
     "iopub.status.busy": "2021-01-07T12:11:00.185068Z",
     "iopub.status.idle": "2021-01-07T12:11:00.194503Z",
     "shell.execute_reply": "2021-01-07T12:11:00.194120Z"
    },
    "papermill": {
     "duration": 0.037147,
     "end_time": "2021-01-07T12:11:00.194603",
     "exception": false,
     "start_time": "2021-01-07T12:11:00.157456",
     "status": "completed"
    },
    "tags": []
   },
   "outputs": [],
   "source": [
    "#hide\n",
    "dft_ct_new_cases = dft_cases.groupby(COL_REGION)[dt_cols].sum().diff(axis=1).fillna(0).astype(int)"
   ]
  },
  {
   "cell_type": "code",
   "execution_count": 19,
   "metadata": {
    "execution": {
     "iopub.execute_input": "2021-01-07T12:11:00.246913Z",
     "iopub.status.busy": "2021-01-07T12:11:00.246470Z",
     "iopub.status.idle": "2021-01-07T12:11:00.248291Z",
     "shell.execute_reply": "2021-01-07T12:11:00.248691Z"
    },
    "papermill": {
     "duration": 0.030323,
     "end_time": "2021-01-07T12:11:00.248797",
     "exception": false,
     "start_time": "2021-01-07T12:11:00.218474",
     "status": "completed"
    },
    "tags": []
   },
   "outputs": [],
   "source": [
    "#hide\n",
    "everydaycases = dft_ct_new_cases.cumsum(axis=1)"
   ]
  },
  {
   "cell_type": "code",
   "execution_count": 20,
   "metadata": {
    "execution": {
     "iopub.execute_input": "2021-01-07T12:11:00.299970Z",
     "iopub.status.busy": "2021-01-07T12:11:00.299551Z",
     "iopub.status.idle": "2021-01-07T12:11:01.394667Z",
     "shell.execute_reply": "2021-01-07T12:11:01.394152Z"
    },
    "papermill": {
     "duration": 1.122206,
     "end_time": "2021-01-07T12:11:01.394807",
     "exception": false,
     "start_time": "2021-01-07T12:11:00.272601",
     "status": "completed"
    },
    "tags": []
   },
   "outputs": [],
   "source": [
    "#hide\n",
    "import pandas as pd\n",
    "import matplotlib.pyplot as plt\n",
    "import matplotlib.ticker as ticker\n",
    "import matplotlib.animation as animation\n",
    "from IPython.display import HTML"
   ]
  },
  {
   "cell_type": "code",
   "execution_count": 21,
   "metadata": {
    "execution": {
     "iopub.execute_input": "2021-01-07T12:11:01.448464Z",
     "iopub.status.busy": "2021-01-07T12:11:01.448015Z",
     "iopub.status.idle": "2021-01-07T12:11:01.452477Z",
     "shell.execute_reply": "2021-01-07T12:11:01.452119Z"
    },
    "papermill": {
     "duration": 0.032657,
     "end_time": "2021-01-07T12:11:01.452579",
     "exception": false,
     "start_time": "2021-01-07T12:11:01.419922",
     "status": "completed"
    },
    "tags": []
   },
   "outputs": [],
   "source": [
    "#hide\n",
    "t = everydaycases.stack()"
   ]
  },
  {
   "cell_type": "code",
   "execution_count": 22,
   "metadata": {
    "execution": {
     "iopub.execute_input": "2021-01-07T12:11:01.504274Z",
     "iopub.status.busy": "2021-01-07T12:11:01.503830Z",
     "iopub.status.idle": "2021-01-07T12:11:01.510366Z",
     "shell.execute_reply": "2021-01-07T12:11:01.510788Z"
    },
    "papermill": {
     "duration": 0.034303,
     "end_time": "2021-01-07T12:11:01.510901",
     "exception": false,
     "start_time": "2021-01-07T12:11:01.476598",
     "status": "completed"
    },
    "tags": []
   },
   "outputs": [],
   "source": [
    "#hide\n",
    "g = t.reset_index(['Country/Region'])"
   ]
  },
  {
   "cell_type": "code",
   "execution_count": 23,
   "metadata": {
    "execution": {
     "iopub.execute_input": "2021-01-07T12:11:01.561759Z",
     "iopub.status.busy": "2021-01-07T12:11:01.561309Z",
     "iopub.status.idle": "2021-01-07T12:11:01.563358Z",
     "shell.execute_reply": "2021-01-07T12:11:01.562981Z"
    },
    "papermill": {
     "duration": 0.028945,
     "end_time": "2021-01-07T12:11:01.563457",
     "exception": false,
     "start_time": "2021-01-07T12:11:01.534512",
     "status": "completed"
    },
    "tags": []
   },
   "outputs": [],
   "source": [
    "#hide\n",
    "g.index.name = 'date'"
   ]
  },
  {
   "cell_type": "code",
   "execution_count": 24,
   "metadata": {
    "execution": {
     "iopub.execute_input": "2021-01-07T12:11:01.614285Z",
     "iopub.status.busy": "2021-01-07T12:11:01.613840Z",
     "iopub.status.idle": "2021-01-07T12:11:01.615493Z",
     "shell.execute_reply": "2021-01-07T12:11:01.615870Z"
    },
    "papermill": {
     "duration": 0.028787,
     "end_time": "2021-01-07T12:11:01.615980",
     "exception": false,
     "start_time": "2021-01-07T12:11:01.587193",
     "status": "completed"
    },
    "tags": []
   },
   "outputs": [],
   "source": [
    "# #hide\n",
    "# g = g.reset_index(['date'])"
   ]
  },
  {
   "cell_type": "code",
   "execution_count": 25,
   "metadata": {
    "execution": {
     "iopub.execute_input": "2021-01-07T12:11:01.666984Z",
     "iopub.status.busy": "2021-01-07T12:11:01.666409Z",
     "iopub.status.idle": "2021-01-07T12:11:01.667856Z",
     "shell.execute_reply": "2021-01-07T12:11:01.668291Z"
    },
    "papermill": {
     "duration": 0.028716,
     "end_time": "2021-01-07T12:11:01.668430",
     "exception": false,
     "start_time": "2021-01-07T12:11:01.639714",
     "status": "completed"
    },
    "tags": []
   },
   "outputs": [],
   "source": [
    "#hide\n",
    "# g.head()"
   ]
  },
  {
   "cell_type": "code",
   "execution_count": 26,
   "metadata": {
    "execution": {
     "iopub.execute_input": "2021-01-07T12:11:01.720861Z",
     "iopub.status.busy": "2021-01-07T12:11:01.720278Z",
     "iopub.status.idle": "2021-01-07T12:11:01.721668Z",
     "shell.execute_reply": "2021-01-07T12:11:01.722096Z"
    },
    "papermill": {
     "duration": 0.028552,
     "end_time": "2021-01-07T12:11:01.722239",
     "exception": false,
     "start_time": "2021-01-07T12:11:01.693687",
     "status": "completed"
    },
    "tags": []
   },
   "outputs": [],
   "source": [
    "#hide\n",
    "# g.columns = ['date','country','cases']"
   ]
  },
  {
   "cell_type": "code",
   "execution_count": 27,
   "metadata": {
    "execution": {
     "iopub.execute_input": "2021-01-07T12:11:01.772981Z",
     "iopub.status.busy": "2021-01-07T12:11:01.772399Z",
     "iopub.status.idle": "2021-01-07T12:11:01.773807Z",
     "shell.execute_reply": "2021-01-07T12:11:01.774231Z"
    },
    "papermill": {
     "duration": 0.028165,
     "end_time": "2021-01-07T12:11:01.774371",
     "exception": false,
     "start_time": "2021-01-07T12:11:01.746206",
     "status": "completed"
    },
    "tags": []
   },
   "outputs": [],
   "source": [
    "#hide\n",
    "# g['continent'] = g.country"
   ]
  },
  {
   "cell_type": "code",
   "execution_count": 28,
   "metadata": {
    "execution": {
     "iopub.execute_input": "2021-01-07T12:11:01.825183Z",
     "iopub.status.busy": "2021-01-07T12:11:01.824634Z",
     "iopub.status.idle": "2021-01-07T12:11:01.826400Z",
     "shell.execute_reply": "2021-01-07T12:11:01.826044Z"
    },
    "papermill": {
     "duration": 0.028089,
     "end_time": "2021-01-07T12:11:01.826499",
     "exception": false,
     "start_time": "2021-01-07T12:11:01.798410",
     "status": "completed"
    },
    "tags": []
   },
   "outputs": [],
   "source": [
    "#hide\n",
    "# cols = list(g.columns.values)"
   ]
  },
  {
   "cell_type": "code",
   "execution_count": 29,
   "metadata": {
    "execution": {
     "iopub.execute_input": "2021-01-07T12:11:01.876881Z",
     "iopub.status.busy": "2021-01-07T12:11:01.876421Z",
     "iopub.status.idle": "2021-01-07T12:11:01.878304Z",
     "shell.execute_reply": "2021-01-07T12:11:01.877956Z"
    },
    "papermill": {
     "duration": 0.02823,
     "end_time": "2021-01-07T12:11:01.878395",
     "exception": false,
     "start_time": "2021-01-07T12:11:01.850165",
     "status": "completed"
    },
    "tags": []
   },
   "outputs": [],
   "source": [
    "#hide\n",
    "# cols.insert(0, cols.pop())"
   ]
  },
  {
   "cell_type": "code",
   "execution_count": 30,
   "metadata": {
    "execution": {
     "iopub.execute_input": "2021-01-07T12:11:01.928902Z",
     "iopub.status.busy": "2021-01-07T12:11:01.928482Z",
     "iopub.status.idle": "2021-01-07T12:11:01.930445Z",
     "shell.execute_reply": "2021-01-07T12:11:01.930065Z"
    },
    "papermill": {
     "duration": 0.028774,
     "end_time": "2021-01-07T12:11:01.930541",
     "exception": false,
     "start_time": "2021-01-07T12:11:01.901767",
     "status": "completed"
    },
    "tags": []
   },
   "outputs": [],
   "source": [
    "#hide\n",
    "# g = g[cols]"
   ]
  },
  {
   "cell_type": "code",
   "execution_count": 31,
   "metadata": {
    "execution": {
     "iopub.execute_input": "2021-01-07T12:11:01.980385Z",
     "iopub.status.busy": "2021-01-07T12:11:01.979945Z",
     "iopub.status.idle": "2021-01-07T12:11:01.981585Z",
     "shell.execute_reply": "2021-01-07T12:11:01.981963Z"
    },
    "papermill": {
     "duration": 0.028007,
     "end_time": "2021-01-07T12:11:01.982072",
     "exception": false,
     "start_time": "2021-01-07T12:11:01.954065",
     "status": "completed"
    },
    "tags": []
   },
   "outputs": [],
   "source": [
    "#hide\n",
    "# g['continent'] = g['continent'].map(mapping['map.continent'])"
   ]
  },
  {
   "cell_type": "code",
   "execution_count": 32,
   "metadata": {
    "execution": {
     "iopub.execute_input": "2021-01-07T12:11:02.032869Z",
     "iopub.status.busy": "2021-01-07T12:11:02.032297Z",
     "iopub.status.idle": "2021-01-07T12:11:02.033702Z",
     "shell.execute_reply": "2021-01-07T12:11:02.034161Z"
    },
    "papermill": {
     "duration": 0.028476,
     "end_time": "2021-01-07T12:11:02.034294",
     "exception": false,
     "start_time": "2021-01-07T12:11:02.005818",
     "status": "completed"
    },
    "tags": []
   },
   "outputs": [],
   "source": [
    "#hide\n",
    "# g.head()"
   ]
  },
  {
   "cell_type": "code",
   "execution_count": 33,
   "metadata": {
    "execution": {
     "iopub.execute_input": "2021-01-07T12:11:02.086526Z",
     "iopub.status.busy": "2021-01-07T12:11:02.085935Z",
     "iopub.status.idle": "2021-01-07T12:11:02.087274Z",
     "shell.execute_reply": "2021-01-07T12:11:02.087781Z"
    },
    "papermill": {
     "duration": 0.028633,
     "end_time": "2021-01-07T12:11:02.087920",
     "exception": false,
     "start_time": "2021-01-07T12:11:02.059287",
     "status": "completed"
    },
    "tags": []
   },
   "outputs": [],
   "source": [
    "# hide\n",
    "# g['date'] = g['date'].astype('datetime64[ns]')"
   ]
  },
  {
   "cell_type": "code",
   "execution_count": 34,
   "metadata": {
    "execution": {
     "iopub.execute_input": "2021-01-07T12:11:02.139036Z",
     "iopub.status.busy": "2021-01-07T12:11:02.138591Z",
     "iopub.status.idle": "2021-01-07T12:11:02.140386Z",
     "shell.execute_reply": "2021-01-07T12:11:02.140810Z"
    },
    "papermill": {
     "duration": 0.028667,
     "end_time": "2021-01-07T12:11:02.140918",
     "exception": false,
     "start_time": "2021-01-07T12:11:02.112251",
     "status": "completed"
    },
    "tags": []
   },
   "outputs": [],
   "source": [
    "#hide\n",
    "# g['date'] = g.date.dt.dayofyear"
   ]
  },
  {
   "cell_type": "code",
   "execution_count": 35,
   "metadata": {
    "execution": {
     "iopub.execute_input": "2021-01-07T12:11:02.191607Z",
     "iopub.status.busy": "2021-01-07T12:11:02.191120Z",
     "iopub.status.idle": "2021-01-07T12:11:02.193237Z",
     "shell.execute_reply": "2021-01-07T12:11:02.192889Z"
    },
    "papermill": {
     "duration": 0.028582,
     "end_time": "2021-01-07T12:11:02.193351",
     "exception": false,
     "start_time": "2021-01-07T12:11:02.164769",
     "status": "completed"
    },
    "tags": []
   },
   "outputs": [],
   "source": [
    "#hide\n",
    "# g = g.rename(columns= {'continent':'group','country':'name','cases':'value'})"
   ]
  },
  {
   "cell_type": "code",
   "execution_count": 36,
   "metadata": {
    "execution": {
     "iopub.execute_input": "2021-01-07T12:11:02.244267Z",
     "iopub.status.busy": "2021-01-07T12:11:02.243823Z",
     "iopub.status.idle": "2021-01-07T12:11:02.245676Z",
     "shell.execute_reply": "2021-01-07T12:11:02.246035Z"
    },
    "papermill": {
     "duration": 0.028888,
     "end_time": "2021-01-07T12:11:02.246144",
     "exception": false,
     "start_time": "2021-01-07T12:11:02.217256",
     "status": "completed"
    },
    "tags": []
   },
   "outputs": [],
   "source": [
    "#hide\n",
    "# cols = ['name','group','day','value']"
   ]
  },
  {
   "cell_type": "code",
   "execution_count": 37,
   "metadata": {
    "execution": {
     "iopub.execute_input": "2021-01-07T12:11:02.296949Z",
     "iopub.status.busy": "2021-01-07T12:11:02.296516Z",
     "iopub.status.idle": "2021-01-07T12:11:02.298259Z",
     "shell.execute_reply": "2021-01-07T12:11:02.298672Z"
    },
    "papermill": {
     "duration": 0.028872,
     "end_time": "2021-01-07T12:11:02.298787",
     "exception": false,
     "start_time": "2021-01-07T12:11:02.269915",
     "status": "completed"
    },
    "tags": []
   },
   "outputs": [],
   "source": [
    "#hide\n",
    "# g.rename(columns= {'date':'day'},inplace = True)"
   ]
  },
  {
   "cell_type": "code",
   "execution_count": 38,
   "metadata": {
    "execution": {
     "iopub.execute_input": "2021-01-07T12:11:02.349233Z",
     "iopub.status.busy": "2021-01-07T12:11:02.348785Z",
     "iopub.status.idle": "2021-01-07T12:11:02.350541Z",
     "shell.execute_reply": "2021-01-07T12:11:02.350953Z"
    },
    "papermill": {
     "duration": 0.028703,
     "end_time": "2021-01-07T12:11:02.351064",
     "exception": false,
     "start_time": "2021-01-07T12:11:02.322361",
     "status": "completed"
    },
    "tags": []
   },
   "outputs": [],
   "source": [
    "#hide\n",
    "# g = g[cols]"
   ]
  },
  {
   "cell_type": "code",
   "execution_count": 39,
   "metadata": {
    "execution": {
     "iopub.execute_input": "2021-01-07T12:11:02.402395Z",
     "iopub.status.busy": "2021-01-07T12:11:02.401801Z",
     "iopub.status.idle": "2021-01-07T12:11:02.403213Z",
     "shell.execute_reply": "2021-01-07T12:11:02.403671Z"
    },
    "papermill": {
     "duration": 0.029049,
     "end_time": "2021-01-07T12:11:02.403819",
     "exception": false,
     "start_time": "2021-01-07T12:11:02.374770",
     "status": "completed"
    },
    "tags": []
   },
   "outputs": [],
   "source": [
    "# #hide\n",
    "# g = g[g.group.notna()]"
   ]
  },
  {
   "cell_type": "code",
   "execution_count": 40,
   "metadata": {
    "execution": {
     "iopub.execute_input": "2021-01-07T12:11:02.454932Z",
     "iopub.status.busy": "2021-01-07T12:11:02.454468Z",
     "iopub.status.idle": "2021-01-07T12:11:02.456198Z",
     "shell.execute_reply": "2021-01-07T12:11:02.456576Z"
    },
    "papermill": {
     "duration": 0.028869,
     "end_time": "2021-01-07T12:11:02.456689",
     "exception": false,
     "start_time": "2021-01-07T12:11:02.427820",
     "status": "completed"
    },
    "tags": []
   },
   "outputs": [],
   "source": [
    "# #hide\n",
    "# colors = dict(zip(\n",
    "#     [\"Oceania\", \"Europe\", \"Asia\", \"South America\", \"Middle East\", \"North America\", \"Africa\"],\n",
    "#     [\"#adb0ff\", \"#ffb3ff\", \"#90d595\", \"#e48381\", \"#aafbff\", \"#f7bb5f\", \"#eafb50\"]\n",
    "# ))\n",
    "# group_lk = g.set_index('name')['group'].to_dict()"
   ]
  },
  {
   "cell_type": "code",
   "execution_count": null,
   "metadata": {
    "papermill": {
     "duration": 0.023682,
     "end_time": "2021-01-07T12:11:02.504048",
     "exception": false,
     "start_time": "2021-01-07T12:11:02.480366",
     "status": "completed"
    },
    "tags": []
   },
   "outputs": [],
   "source": []
  },
  {
   "cell_type": "code",
   "execution_count": 41,
   "metadata": {
    "execution": {
     "iopub.execute_input": "2021-01-07T12:11:02.555984Z",
     "iopub.status.busy": "2021-01-07T12:11:02.555491Z",
     "iopub.status.idle": "2021-01-07T12:11:02.557316Z",
     "shell.execute_reply": "2021-01-07T12:11:02.557702Z"
    },
    "papermill": {
     "duration": 0.029992,
     "end_time": "2021-01-07T12:11:02.557821",
     "exception": false,
     "start_time": "2021-01-07T12:11:02.527829",
     "status": "completed"
    },
    "tags": []
   },
   "outputs": [],
   "source": [
    "# #hide\n",
    "# fig, ax = plt.subplots(figsize=(15, 8))\n",
    "\n",
    "# def draw_barchart(current_day):\n",
    "#     dff = g[g['day'].eq(current_day)].sort_values(by='value', ascending=True).tail(10)\n",
    "#     ax.clear()\n",
    "#     ax.barh(dff['name'], dff['value'], color=[colors[group_lk[x]] for x in dff['name']])\n",
    "#     dx = dff['value'].max() / 200\n",
    "    \n",
    "#     for i, (value, name) in enumerate(zip(dff['value'], dff['name'])):\n",
    "#         ax.text(value-dx, i,     name,           size=14, weight=600, ha='right', va='bottom')\n",
    "#         ax.text(value-dx, i-.25, group_lk[name], size=10, color='#444444', ha='right', va='baseline')\n",
    "#         ax.text(value+dx, i,     f'{value:,.0f}',  size=14, ha='left',  va='center')\n",
    "#     ax.text(1, 0.4, current_day, transform=ax.transAxes, color='#777777', size=46, ha='right', weight=800)\n",
    "#     ax.text(0, 1.06, 'Population (thousands)', transform=ax.transAxes, size=12, color='#777777')\n",
    "#     ax.xaxis.set_major_formatter(ticker.StrMethodFormatter('{x:,.0f}'))\n",
    "#     ax.xaxis.set_ticks_position('top')\n",
    "#     ax.tick_params(axis='x', colors='#777777', labelsize=12)\n",
    "#     ax.set_yticks([])\n",
    "#     ax.margins(0, 0.01)\n",
    "#     ax.grid(which='major', axis='x', linestyle='-')\n",
    "#     ax.set_axisbelow(True)\n",
    "    \n",
    "#     ax.text(0, 1.15, 'Coronavirus',\n",
    "#             transform=ax.transAxes, size=24, weight=600, ha='left', va='top')\n",
    "# #     ax.text(1, 0, 'by @pratapvardhan; credit @jburnmurdoch', transform=ax.transAxes, color='#777777', ha='right',\n",
    "# #             bbox=dict(facecolor='white', alpha=0.8, edgecolor='white'))\n",
    "#     plt.box(False)"
   ]
  },
  {
   "cell_type": "code",
   "execution_count": 42,
   "metadata": {
    "execution": {
     "iopub.execute_input": "2021-01-07T12:11:02.609301Z",
     "iopub.status.busy": "2021-01-07T12:11:02.608847Z",
     "iopub.status.idle": "2021-01-07T12:11:02.610592Z",
     "shell.execute_reply": "2021-01-07T12:11:02.611015Z"
    },
    "papermill": {
     "duration": 0.029332,
     "end_time": "2021-01-07T12:11:02.611130",
     "exception": false,
     "start_time": "2021-01-07T12:11:02.581798",
     "status": "completed"
    },
    "tags": []
   },
   "outputs": [],
   "source": [
    "# #hide_input\n",
    "# fig, ax = plt.subplots(figsize=(15, 8))\n",
    "# animator = animation.FuncAnimation(fig, draw_barchart, frames=range(g.day.values.min(), g.day.values.max()))\n",
    "# HTML(animator.to_jshtml())\n",
    "# # or use animator.to_html5_video() or animator.save() "
   ]
  },
  {
   "cell_type": "code",
   "execution_count": null,
   "metadata": {
    "papermill": {
     "duration": 0.023838,
     "end_time": "2021-01-07T12:11:02.659037",
     "exception": false,
     "start_time": "2021-01-07T12:11:02.635199",
     "status": "completed"
    },
    "tags": []
   },
   "outputs": [],
   "source": []
  },
  {
   "cell_type": "code",
   "execution_count": null,
   "metadata": {
    "papermill": {
     "duration": 0.02394,
     "end_time": "2021-01-07T12:11:02.706906",
     "exception": false,
     "start_time": "2021-01-07T12:11:02.682966",
     "status": "completed"
    },
    "tags": []
   },
   "outputs": [],
   "source": []
  },
  {
   "cell_type": "code",
   "execution_count": null,
   "metadata": {
    "papermill": {
     "duration": 0.023863,
     "end_time": "2021-01-07T12:11:02.754721",
     "exception": false,
     "start_time": "2021-01-07T12:11:02.730858",
     "status": "completed"
    },
    "tags": []
   },
   "outputs": [],
   "source": []
  }
 ],
 "metadata": {
  "kernelspec": {
   "display_name": "Python 3",
   "language": "python",
   "name": "python3"
  },
  "language_info": {
   "codemirror_mode": {
    "name": "ipython",
    "version": 3
   },
   "file_extension": ".py",
   "mimetype": "text/x-python",
   "name": "python",
   "nbconvert_exporter": "python",
   "pygments_lexer": "ipython3",
   "version": "3.6.12"
  },
  "papermill": {
   "duration": 5.454093,
   "end_time": "2021-01-07T12:11:03.086024",
   "environment_variables": {},
   "exception": null,
   "input_path": "2020-03-21-covid19exp.ipynb",
   "output_path": "2020-03-21-covid19exp.ipynb",
   "parameters": {},
   "start_time": "2021-01-07T12:10:57.631931",
   "version": "2.0.0"
  }
 },
 "nbformat": 4,
 "nbformat_minor": 4
}