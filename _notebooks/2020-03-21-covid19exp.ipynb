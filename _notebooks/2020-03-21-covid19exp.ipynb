{
 "cells": [
  {
   "cell_type": "markdown",
   "id": "muslim-click",
   "metadata": {
    "papermill": {
     "duration": 0.046859,
     "end_time": "2022-04-05T00:48:28.921778",
     "exception": false,
     "start_time": "2022-04-05T00:48:28.874919",
     "status": "completed"
    },
    "tags": []
   },
   "source": [
    "# COVID-19 Case Race\n",
    "> A race chart to see rising cases around the world\n",
    "\n",
    "- author: Hargun Oberoi\n",
    "- image: images/covid-overview.png\n",
    "- hide: false\n",
    "- badges: false"
   ]
  },
  {
   "cell_type": "code",
   "execution_count": 1,
   "id": "proof-material",
   "metadata": {
    "execution": {
     "iopub.execute_input": "2022-04-05T00:48:29.009021Z",
     "iopub.status.busy": "2022-04-05T00:48:29.008340Z",
     "iopub.status.idle": "2022-04-05T00:48:29.400928Z",
     "shell.execute_reply": "2022-04-05T00:48:29.399997Z"
    },
    "papermill": {
     "duration": 0.440399,
     "end_time": "2022-04-05T00:48:29.401141",
     "exception": false,
     "start_time": "2022-04-05T00:48:28.960742",
     "status": "completed"
    },
    "tags": []
   },
   "outputs": [],
   "source": [
    "#hide\n",
    "import numpy as np\n",
    "import pandas as pd\n",
    "from jinja2 import Template\n",
    "from IPython.display import HTML"
   ]
  },
  {
   "cell_type": "code",
   "execution_count": 2,
   "id": "developed-terminology",
   "metadata": {
    "execution": {
     "iopub.execute_input": "2022-04-05T00:48:29.484590Z",
     "iopub.status.busy": "2022-04-05T00:48:29.483481Z",
     "iopub.status.idle": "2022-04-05T00:48:29.486059Z",
     "shell.execute_reply": "2022-04-05T00:48:29.486532Z"
    },
    "papermill": {
     "duration": 0.047945,
     "end_time": "2022-04-05T00:48:29.486683",
     "exception": false,
     "start_time": "2022-04-05T00:48:29.438738",
     "status": "completed"
    },
    "tags": []
   },
   "outputs": [],
   "source": [
    "#hide\n",
    "\n",
    "# FETCH\n",
    "base_url = 'https://raw.githubusercontent.com/pratapvardhan/notebooks/master/covid19/'\n",
    "paths = {\n",
    "    'mapping': base_url + 'mapping_countries.csv',\n",
    "    'overview': base_url + 'overview.tpl'\n",
    "}"
   ]
  },
  {
   "cell_type": "code",
   "execution_count": 3,
   "id": "dynamic-saver",
   "metadata": {
    "execution": {
     "iopub.execute_input": "2022-04-05T00:48:29.565931Z",
     "iopub.status.busy": "2022-04-05T00:48:29.565314Z",
     "iopub.status.idle": "2022-04-05T00:48:29.569730Z",
     "shell.execute_reply": "2022-04-05T00:48:29.569221Z"
    },
    "papermill": {
     "duration": 0.049581,
     "end_time": "2022-04-05T00:48:29.569858",
     "exception": false,
     "start_time": "2022-04-05T00:48:29.520277",
     "status": "completed"
    },
    "tags": []
   },
   "outputs": [
    {
     "data": {
      "text/plain": [
       "'https://raw.githubusercontent.com/pratapvardhan/notebooks/master/covid19/mapping_countries.csv'"
      ]
     },
     "execution_count": 3,
     "metadata": {},
     "output_type": "execute_result"
    }
   ],
   "source": [
    "#hide\n",
    "paths['mapping']"
   ]
  },
  {
   "cell_type": "code",
   "execution_count": 4,
   "id": "urban-software",
   "metadata": {
    "execution": {
     "iopub.execute_input": "2022-04-05T00:48:29.646018Z",
     "iopub.status.busy": "2022-04-05T00:48:29.645175Z",
     "iopub.status.idle": "2022-04-05T00:48:29.649407Z",
     "shell.execute_reply": "2022-04-05T00:48:29.648878Z"
    },
    "papermill": {
     "duration": 0.044956,
     "end_time": "2022-04-05T00:48:29.649537",
     "exception": false,
     "start_time": "2022-04-05T00:48:29.604581",
     "status": "completed"
    },
    "tags": []
   },
   "outputs": [],
   "source": [
    "#hide\n",
    "def get_mappings(url):\n",
    "    df = pd.read_csv(url)\n",
    "    return {\n",
    "        'df': df,\n",
    "        'replace.country': dict(df.dropna(subset=['Name']).set_index('Country')['Name']),\n",
    "        'map.continent': dict(df.set_index('Name')['Continent'])\n",
    "    }"
   ]
  },
  {
   "cell_type": "code",
   "execution_count": 5,
   "id": "intimate-machinery",
   "metadata": {
    "execution": {
     "iopub.execute_input": "2022-04-05T00:48:29.725581Z",
     "iopub.status.busy": "2022-04-05T00:48:29.724943Z",
     "iopub.status.idle": "2022-04-05T00:48:29.756233Z",
     "shell.execute_reply": "2022-04-05T00:48:29.755524Z"
    },
    "papermill": {
     "duration": 0.072797,
     "end_time": "2022-04-05T00:48:29.756388",
     "exception": false,
     "start_time": "2022-04-05T00:48:29.683591",
     "status": "completed"
    },
    "tags": []
   },
   "outputs": [],
   "source": [
    "#hide\n",
    "mapping = get_mappings(paths['mapping'])"
   ]
  },
  {
   "cell_type": "code",
   "execution_count": 6,
   "id": "certified-tactics",
   "metadata": {
    "execution": {
     "iopub.execute_input": "2022-04-05T00:48:29.831962Z",
     "iopub.status.busy": "2022-04-05T00:48:29.831337Z",
     "iopub.status.idle": "2022-04-05T00:48:29.833695Z",
     "shell.execute_reply": "2022-04-05T00:48:29.833217Z"
    },
    "papermill": {
     "duration": 0.042395,
     "end_time": "2022-04-05T00:48:29.833828",
     "exception": false,
     "start_time": "2022-04-05T00:48:29.791433",
     "status": "completed"
    },
    "tags": []
   },
   "outputs": [],
   "source": [
    "#hide\n",
    "def get_template(path):\n",
    "    from urllib.parse import urlparse\n",
    "    if bool(urlparse(path).netloc):\n",
    "        from urllib.request import urlopen\n",
    "        return urlopen(path).read().decode('utf8')\n",
    "    return open(path).read()"
   ]
  },
  {
   "cell_type": "code",
   "execution_count": 7,
   "id": "realistic-blast",
   "metadata": {
    "execution": {
     "iopub.execute_input": "2022-04-05T00:48:29.908225Z",
     "iopub.status.busy": "2022-04-05T00:48:29.907600Z",
     "iopub.status.idle": "2022-04-05T00:48:29.910719Z",
     "shell.execute_reply": "2022-04-05T00:48:29.910236Z"
    },
    "papermill": {
     "duration": 0.043083,
     "end_time": "2022-04-05T00:48:29.910887",
     "exception": false,
     "start_time": "2022-04-05T00:48:29.867804",
     "status": "completed"
    },
    "tags": []
   },
   "outputs": [],
   "source": [
    "#hide\n",
    "def get_frame(name):\n",
    "    url = (\n",
    "        'https://raw.githubusercontent.com/CSSEGISandData/COVID-19/master/csse_covid_19_data/'\n",
    "        f'csse_covid_19_time_series/time_series_covid19_{name}_global.csv')\n",
    "    df = pd.read_csv(url)\n",
    "    # rename countries\n",
    "    df['Country/Region'] = df['Country/Region'].replace(mapping['replace.country'])\n",
    "    return df"
   ]
  },
  {
   "cell_type": "code",
   "execution_count": 8,
   "id": "affiliated-characterization",
   "metadata": {
    "execution": {
     "iopub.execute_input": "2022-04-05T00:48:29.988142Z",
     "iopub.status.busy": "2022-04-05T00:48:29.987489Z",
     "iopub.status.idle": "2022-04-05T00:48:29.988966Z",
     "shell.execute_reply": "2022-04-05T00:48:29.989465Z"
    },
    "papermill": {
     "duration": 0.043943,
     "end_time": "2022-04-05T00:48:29.989616",
     "exception": false,
     "start_time": "2022-04-05T00:48:29.945673",
     "status": "completed"
    },
    "tags": []
   },
   "outputs": [],
   "source": [
    "#hide\n",
    "def get_dates(df):\n",
    "    dt_cols = df.columns[~df.columns.isin(['Province/State', 'Country/Region', 'Lat', 'Long'])]\n",
    "    LAST_DATE_I = -1\n",
    "    # sometimes last column may be empty, then go backwards\n",
    "    for i in range(-1, -len(dt_cols), -1):\n",
    "        if not df[dt_cols[i]].fillna(0).eq(0).all():\n",
    "            LAST_DATE_I = i\n",
    "            break\n",
    "    return LAST_DATE_I, dt_cols"
   ]
  },
  {
   "cell_type": "code",
   "execution_count": 9,
   "id": "recent-optimization",
   "metadata": {
    "execution": {
     "iopub.execute_input": "2022-04-05T00:48:30.067590Z",
     "iopub.status.busy": "2022-04-05T00:48:30.066932Z",
     "iopub.status.idle": "2022-04-05T00:48:30.463622Z",
     "shell.execute_reply": "2022-04-05T00:48:30.464276Z"
    },
    "papermill": {
     "duration": 0.439197,
     "end_time": "2022-04-05T00:48:30.464497",
     "exception": false,
     "start_time": "2022-04-05T00:48:30.025300",
     "status": "completed"
    },
    "tags": []
   },
   "outputs": [],
   "source": [
    "#hide\n",
    "COL_REGION = 'Country/Region'\n",
    "# Confirmed, Recovered, Deaths\n",
    "df = get_frame('confirmed')\n",
    "# dft_: timeseries, dfc_: today country agg\n",
    "dft_cases = df\n",
    "dft_deaths = get_frame('deaths')\n",
    "dft_recovered = get_frame('recovered')\n",
    "LAST_DATE_I, dt_cols = get_dates(df)"
   ]
  },
  {
   "cell_type": "code",
   "execution_count": 10,
   "id": "absolute-copper",
   "metadata": {
    "execution": {
     "iopub.execute_input": "2022-04-05T00:48:30.546944Z",
     "iopub.status.busy": "2022-04-05T00:48:30.546266Z",
     "iopub.status.idle": "2022-04-05T00:48:30.548888Z",
     "shell.execute_reply": "2022-04-05T00:48:30.549377Z"
    },
    "papermill": {
     "duration": 0.043776,
     "end_time": "2022-04-05T00:48:30.549542",
     "exception": false,
     "start_time": "2022-04-05T00:48:30.505766",
     "status": "completed"
    },
    "tags": []
   },
   "outputs": [],
   "source": [
    "#hide\n",
    "LAST_DATE_I, dt_cols = get_dates(df)\n",
    "dt_today =dt_cols[LAST_DATE_I]\n",
    "# dt_5day = dt_cols[LAST_DATE_I - 5]\n",
    "dt_yday = dt_cols[LAST_DATE_I - 1]"
   ]
  },
  {
   "cell_type": "code",
   "execution_count": 11,
   "id": "restricted-sheriff",
   "metadata": {
    "execution": {
     "iopub.execute_input": "2022-04-05T00:48:30.626850Z",
     "iopub.status.busy": "2022-04-05T00:48:30.625724Z",
     "iopub.status.idle": "2022-04-05T00:48:30.634400Z",
     "shell.execute_reply": "2022-04-05T00:48:30.633870Z"
    },
    "papermill": {
     "duration": 0.050562,
     "end_time": "2022-04-05T00:48:30.634531",
     "exception": false,
     "start_time": "2022-04-05T00:48:30.583969",
     "status": "completed"
    },
    "tags": []
   },
   "outputs": [],
   "source": [
    "#hide\n",
    "dfc_cases = dft_cases.groupby(COL_REGION)[dt_today].sum()\n",
    "dfc_deaths = dft_deaths.groupby(COL_REGION)[dt_today].sum()\n",
    "# dfp_cases = dft_cases.groupby(COL_REGION)[dt_5day].sum()\n",
    "# dfp_deaths = dft_deaths.groupby(COL_REGION)[dt_5day].sum()\n",
    "dfp_cases = dft_cases.groupby(COL_REGION)[dt_yday].sum()\n",
    "dfp_deaths = dft_deaths.groupby(COL_REGION)[dt_yday].sum()"
   ]
  },
  {
   "cell_type": "code",
   "execution_count": 12,
   "id": "deluxe-hepatitis",
   "metadata": {
    "execution": {
     "iopub.execute_input": "2022-04-05T00:48:30.716088Z",
     "iopub.status.busy": "2022-04-05T00:48:30.715452Z",
     "iopub.status.idle": "2022-04-05T00:48:30.720894Z",
     "shell.execute_reply": "2022-04-05T00:48:30.720377Z"
    },
    "papermill": {
     "duration": 0.050156,
     "end_time": "2022-04-05T00:48:30.721025",
     "exception": false,
     "start_time": "2022-04-05T00:48:30.670869",
     "status": "completed"
    },
    "tags": []
   },
   "outputs": [],
   "source": [
    "#hide\n",
    "df_table = (pd.DataFrame(dict(Cases = dfc_cases, Deaths = dfc_deaths, PCases = dfp_cases, PDeaths = dfp_deaths))\n",
    "            .sort_values(by = ['Cases','Deaths'], ascending = [False, False])\n",
    "            .reset_index())"
   ]
  },
  {
   "cell_type": "code",
   "execution_count": 13,
   "id": "educational-chancellor",
   "metadata": {
    "execution": {
     "iopub.execute_input": "2022-04-05T00:48:30.818160Z",
     "iopub.status.busy": "2022-04-05T00:48:30.817485Z",
     "iopub.status.idle": "2022-04-05T00:48:30.825572Z",
     "shell.execute_reply": "2022-04-05T00:48:30.826077Z"
    },
    "papermill": {
     "duration": 0.069495,
     "end_time": "2022-04-05T00:48:30.826238",
     "exception": false,
     "start_time": "2022-04-05T00:48:30.756743",
     "status": "completed"
    },
    "tags": []
   },
   "outputs": [
    {
     "data": {
      "text/html": [
       "<div>\n",
       "<style scoped>\n",
       "    .dataframe tbody tr th:only-of-type {\n",
       "        vertical-align: middle;\n",
       "    }\n",
       "\n",
       "    .dataframe tbody tr th {\n",
       "        vertical-align: top;\n",
       "    }\n",
       "\n",
       "    .dataframe thead th {\n",
       "        text-align: right;\n",
       "    }\n",
       "</style>\n",
       "<table border=\"1\" class=\"dataframe\">\n",
       "  <thead>\n",
       "    <tr style=\"text-align: right;\">\n",
       "      <th></th>\n",
       "      <th>Country/Region</th>\n",
       "      <th>Cases</th>\n",
       "      <th>Deaths</th>\n",
       "      <th>PCases</th>\n",
       "      <th>PDeaths</th>\n",
       "      <th>Cases (+)</th>\n",
       "      <th>Deaths (+)</th>\n",
       "      <th>Fatality Rate</th>\n",
       "      <th>Continent</th>\n",
       "    </tr>\n",
       "  </thead>\n",
       "  <tbody>\n",
       "    <tr>\n",
       "      <th>0</th>\n",
       "      <td>US</td>\n",
       "      <td>80155397</td>\n",
       "      <td>982565</td>\n",
       "      <td>80150811</td>\n",
       "      <td>982533</td>\n",
       "      <td>4586</td>\n",
       "      <td>32</td>\n",
       "      <td>1.23</td>\n",
       "      <td>North America</td>\n",
       "    </tr>\n",
       "    <tr>\n",
       "      <th>1</th>\n",
       "      <td>India</td>\n",
       "      <td>43029044</td>\n",
       "      <td>521358</td>\n",
       "      <td>43028131</td>\n",
       "      <td>521345</td>\n",
       "      <td>913</td>\n",
       "      <td>13</td>\n",
       "      <td>1.21</td>\n",
       "      <td>Asia</td>\n",
       "    </tr>\n",
       "    <tr>\n",
       "      <th>2</th>\n",
       "      <td>Brazil</td>\n",
       "      <td>30002785</td>\n",
       "      <td>660410</td>\n",
       "      <td>29995575</td>\n",
       "      <td>660371</td>\n",
       "      <td>7210</td>\n",
       "      <td>39</td>\n",
       "      <td>2.20</td>\n",
       "      <td>South America</td>\n",
       "    </tr>\n",
       "    <tr>\n",
       "      <th>3</th>\n",
       "      <td>France</td>\n",
       "      <td>26186606</td>\n",
       "      <td>143540</td>\n",
       "      <td>26084340</td>\n",
       "      <td>143509</td>\n",
       "      <td>102266</td>\n",
       "      <td>31</td>\n",
       "      <td>0.55</td>\n",
       "      <td>Europe</td>\n",
       "    </tr>\n",
       "    <tr>\n",
       "      <th>4</th>\n",
       "      <td>Germany</td>\n",
       "      <td>21706329</td>\n",
       "      <td>130052</td>\n",
       "      <td>21591147</td>\n",
       "      <td>129987</td>\n",
       "      <td>115182</td>\n",
       "      <td>65</td>\n",
       "      <td>0.60</td>\n",
       "      <td>Europe</td>\n",
       "    </tr>\n",
       "  </tbody>\n",
       "</table>\n",
       "</div>"
      ],
      "text/plain": [
       "  Country/Region     Cases  Deaths    PCases  PDeaths  Cases (+)  Deaths (+)  \\\n",
       "0             US  80155397  982565  80150811   982533       4586          32   \n",
       "1          India  43029044  521358  43028131   521345        913          13   \n",
       "2         Brazil  30002785  660410  29995575   660371       7210          39   \n",
       "3         France  26186606  143540  26084340   143509     102266          31   \n",
       "4        Germany  21706329  130052  21591147   129987     115182          65   \n",
       "\n",
       "   Fatality Rate      Continent  \n",
       "0           1.23  North America  \n",
       "1           1.21           Asia  \n",
       "2           2.20  South America  \n",
       "3           0.55         Europe  \n",
       "4           0.60         Europe  "
      ]
     },
     "execution_count": 13,
     "metadata": {},
     "output_type": "execute_result"
    }
   ],
   "source": [
    "#hide\n",
    "for c in 'Cases, Deaths'.split(', '):\n",
    "    df_table[f'{c} (+)'] = (df_table[c] - df_table[f'P{c}']).clip(0)\n",
    "    #Clip ça veut dire, les chiffres negatif sont interdit\n",
    "df_table['Fatality Rate'] = (100* df_table['Deaths']/ df_table['Cases']).round(2)\n",
    "df_table['Continent'] = df_table['Country/Region'].map(mapping['map.continent'])\n",
    "df_table.head(5)"
   ]
  },
  {
   "cell_type": "code",
   "execution_count": 14,
   "id": "aboriginal-bulgaria",
   "metadata": {
    "execution": {
     "iopub.execute_input": "2022-04-05T00:48:30.910469Z",
     "iopub.status.busy": "2022-04-05T00:48:30.909821Z",
     "iopub.status.idle": "2022-04-05T00:48:30.911710Z",
     "shell.execute_reply": "2022-04-05T00:48:30.912166Z"
    },
    "papermill": {
     "duration": 0.047759,
     "end_time": "2022-04-05T00:48:30.912326",
     "exception": false,
     "start_time": "2022-04-05T00:48:30.864567",
     "status": "completed"
    },
    "tags": []
   },
   "outputs": [],
   "source": [
    "#hide\n",
    "#delete problematic countries from table\n",
    "df_table = df_table[~df_table['Country/Region'].isin(['Cape Verde', 'Cruise Ship', 'Kosovo'])]"
   ]
  },
  {
   "cell_type": "code",
   "execution_count": 15,
   "id": "fantastic-effect",
   "metadata": {
    "execution": {
     "iopub.execute_input": "2022-04-05T00:48:30.991972Z",
     "iopub.status.busy": "2022-04-05T00:48:30.991341Z",
     "iopub.status.idle": "2022-04-05T00:48:31.013074Z",
     "shell.execute_reply": "2022-04-05T00:48:31.013866Z"
    },
    "papermill": {
     "duration": 0.066123,
     "end_time": "2022-04-05T00:48:31.014072",
     "exception": false,
     "start_time": "2022-04-05T00:48:30.947949",
     "status": "completed"
    },
    "tags": []
   },
   "outputs": [
    {
     "data": {
      "text/html": [
       "<div>\n",
       "<style scoped>\n",
       "    .dataframe tbody tr th:only-of-type {\n",
       "        vertical-align: middle;\n",
       "    }\n",
       "\n",
       "    .dataframe tbody tr th {\n",
       "        vertical-align: top;\n",
       "    }\n",
       "\n",
       "    .dataframe thead th {\n",
       "        text-align: right;\n",
       "    }\n",
       "</style>\n",
       "<table border=\"1\" class=\"dataframe\">\n",
       "  <thead>\n",
       "    <tr style=\"text-align: right;\">\n",
       "      <th></th>\n",
       "      <th>Country/Region</th>\n",
       "      <th>Cases</th>\n",
       "      <th>Deaths</th>\n",
       "      <th>PCases</th>\n",
       "      <th>PDeaths</th>\n",
       "      <th>Cases (+)</th>\n",
       "      <th>Deaths (+)</th>\n",
       "      <th>Fatality Rate</th>\n",
       "      <th>Continent</th>\n",
       "    </tr>\n",
       "  </thead>\n",
       "  <tbody>\n",
       "    <tr>\n",
       "      <th>0</th>\n",
       "      <td>US</td>\n",
       "      <td>80155397</td>\n",
       "      <td>982565</td>\n",
       "      <td>80150811</td>\n",
       "      <td>982533</td>\n",
       "      <td>4586</td>\n",
       "      <td>32</td>\n",
       "      <td>1.2</td>\n",
       "      <td>North America</td>\n",
       "    </tr>\n",
       "    <tr>\n",
       "      <th>1</th>\n",
       "      <td>India</td>\n",
       "      <td>43029044</td>\n",
       "      <td>521358</td>\n",
       "      <td>43028131</td>\n",
       "      <td>521345</td>\n",
       "      <td>913</td>\n",
       "      <td>13</td>\n",
       "      <td>1.2</td>\n",
       "      <td>Asia</td>\n",
       "    </tr>\n",
       "    <tr>\n",
       "      <th>2</th>\n",
       "      <td>Brazil</td>\n",
       "      <td>30002785</td>\n",
       "      <td>660410</td>\n",
       "      <td>29995575</td>\n",
       "      <td>660371</td>\n",
       "      <td>7210</td>\n",
       "      <td>39</td>\n",
       "      <td>2.2</td>\n",
       "      <td>South America</td>\n",
       "    </tr>\n",
       "    <tr>\n",
       "      <th>3</th>\n",
       "      <td>France</td>\n",
       "      <td>26186606</td>\n",
       "      <td>143540</td>\n",
       "      <td>26084340</td>\n",
       "      <td>143509</td>\n",
       "      <td>102266</td>\n",
       "      <td>31</td>\n",
       "      <td>0.5</td>\n",
       "      <td>Europe</td>\n",
       "    </tr>\n",
       "    <tr>\n",
       "      <th>4</th>\n",
       "      <td>Germany</td>\n",
       "      <td>21706329</td>\n",
       "      <td>130052</td>\n",
       "      <td>21591147</td>\n",
       "      <td>129987</td>\n",
       "      <td>115182</td>\n",
       "      <td>65</td>\n",
       "      <td>0.6</td>\n",
       "      <td>Europe</td>\n",
       "    </tr>\n",
       "  </tbody>\n",
       "</table>\n",
       "</div>"
      ],
      "text/plain": [
       "  Country/Region     Cases  Deaths    PCases  PDeaths  Cases (+)  Deaths (+)  \\\n",
       "0             US  80155397  982565  80150811   982533       4586          32   \n",
       "1          India  43029044  521358  43028131   521345        913          13   \n",
       "2         Brazil  30002785  660410  29995575   660371       7210          39   \n",
       "3         France  26186606  143540  26084340   143509     102266          31   \n",
       "4        Germany  21706329  130052  21591147   129987     115182          65   \n",
       "\n",
       "   Fatality Rate      Continent  \n",
       "0            1.2  North America  \n",
       "1            1.2           Asia  \n",
       "2            2.2  South America  \n",
       "3            0.5         Europe  \n",
       "4            0.6         Europe  "
      ]
     },
     "execution_count": 15,
     "metadata": {},
     "output_type": "execute_result"
    }
   ],
   "source": [
    "#hide\n",
    "df_table = (pd.DataFrame(dict(Cases=dfc_cases, Deaths=dfc_deaths, PCases=dfp_cases, PDeaths=dfp_deaths))\n",
    "             .sort_values(by=['Cases', 'Deaths'], ascending=[False, False])\n",
    "             .reset_index())\n",
    "df_table.rename(columns={'index': 'Country/Region'}, inplace=True)\n",
    "for c in 'Cases, Deaths'.split(', '):\n",
    "    df_table[f'{c} (+)'] = (df_table[c] - df_table[f'P{c}']).clip(0)  # DATA BUG\n",
    "df_table['Fatality Rate'] = (100 * df_table['Deaths'] / df_table['Cases']).round(1)\n",
    "df_table['Continent'] = df_table['Country/Region'].map(mapping['map.continent'])\n",
    "df_table.head(5)"
   ]
  },
  {
   "cell_type": "code",
   "execution_count": 16,
   "id": "fewer-occasion",
   "metadata": {
    "execution": {
     "iopub.execute_input": "2022-04-05T00:48:31.092907Z",
     "iopub.status.busy": "2022-04-05T00:48:31.092250Z",
     "iopub.status.idle": "2022-04-05T00:48:31.094531Z",
     "shell.execute_reply": "2022-04-05T00:48:31.093934Z"
    },
    "papermill": {
     "duration": 0.044475,
     "end_time": "2022-04-05T00:48:31.094779",
     "exception": false,
     "start_time": "2022-04-05T00:48:31.050304",
     "status": "completed"
    },
    "tags": []
   },
   "outputs": [],
   "source": [
    "#hide\n",
    "#delete problematic countries from table\n",
    "df_table = df_table[~df_table['Country/Region'].isin(['Cape Verde', 'Cruise Ship', 'Kosovo'])]"
   ]
  },
  {
   "cell_type": "code",
   "execution_count": 17,
   "id": "related-center",
   "metadata": {
    "execution": {
     "iopub.execute_input": "2022-04-05T00:48:31.201182Z",
     "iopub.status.busy": "2022-04-05T00:48:31.200510Z",
     "iopub.status.idle": "2022-04-05T00:48:31.203275Z",
     "shell.execute_reply": "2022-04-05T00:48:31.202711Z"
    },
    "papermill": {
     "duration": 0.071285,
     "end_time": "2022-04-05T00:48:31.203411",
     "exception": false,
     "start_time": "2022-04-05T00:48:31.132126",
     "status": "completed"
    },
    "tags": []
   },
   "outputs": [],
   "source": [
    "#hide\n",
    "metrics = [df_table.columns[index] for index in [1,2,5,6]]\n",
    "# s_china = df_table[df_table['Country/Region'].eq('China')][metrics].sum().add_prefix('China ')\n",
    "s_us = df_table[df_table['Country/Region'].eq('US')][metrics].sum().add_prefix('US ')\n",
    "s_eu = df_table[df_table['Continent'].eq('Europe')][metrics].sum().add_prefix('EU ')\n",
    "s_ind = df_table[df_table['Country/Region'].eq('India')][metrics].sum().add_prefix('India ')\n",
    "summary = {'updated': pd.to_datetime(dt_today), 'since': pd.to_datetime(dt_yday)}\n",
    "summary = {'updated': pd.to_datetime(dt_today), 'since': pd.to_datetime(dt_yday)}\n",
    "summary = {**summary, **df_table[metrics].sum(), **s_ind, **s_us, **s_eu}"
   ]
  },
  {
   "cell_type": "code",
   "execution_count": 18,
   "id": "engaging-syndrome",
   "metadata": {
    "execution": {
     "iopub.execute_input": "2022-04-05T00:48:31.281078Z",
     "iopub.status.busy": "2022-04-05T00:48:31.280466Z",
     "iopub.status.idle": "2022-04-05T00:48:31.300116Z",
     "shell.execute_reply": "2022-04-05T00:48:31.300583Z"
    },
    "papermill": {
     "duration": 0.061815,
     "end_time": "2022-04-05T00:48:31.300751",
     "exception": false,
     "start_time": "2022-04-05T00:48:31.238936",
     "status": "completed"
    },
    "tags": []
   },
   "outputs": [],
   "source": [
    "#hide\n",
    "dft_ct_new_cases = dft_cases.groupby(COL_REGION)[dt_cols].sum().diff(axis=1).fillna(0).astype(int)"
   ]
  },
  {
   "cell_type": "code",
   "execution_count": 19,
   "id": "neutral-assignment",
   "metadata": {
    "execution": {
     "iopub.execute_input": "2022-04-05T00:48:31.381812Z",
     "iopub.status.busy": "2022-04-05T00:48:31.381178Z",
     "iopub.status.idle": "2022-04-05T00:48:31.383576Z",
     "shell.execute_reply": "2022-04-05T00:48:31.384133Z"
    },
    "papermill": {
     "duration": 0.048154,
     "end_time": "2022-04-05T00:48:31.384291",
     "exception": false,
     "start_time": "2022-04-05T00:48:31.336137",
     "status": "completed"
    },
    "tags": []
   },
   "outputs": [],
   "source": [
    "#hide\n",
    "everydaycases = dft_ct_new_cases.cumsum(axis=1)"
   ]
  },
  {
   "cell_type": "code",
   "execution_count": 20,
   "id": "parliamentary-calgary",
   "metadata": {
    "execution": {
     "iopub.execute_input": "2022-04-05T00:48:31.461724Z",
     "iopub.status.busy": "2022-04-05T00:48:31.461054Z",
     "iopub.status.idle": "2022-04-05T00:48:32.467752Z",
     "shell.execute_reply": "2022-04-05T00:48:32.466665Z"
    },
    "papermill": {
     "duration": 1.048004,
     "end_time": "2022-04-05T00:48:32.467909",
     "exception": false,
     "start_time": "2022-04-05T00:48:31.419905",
     "status": "completed"
    },
    "tags": []
   },
   "outputs": [],
   "source": [
    "#hide\n",
    "import pandas as pd\n",
    "import matplotlib.pyplot as plt\n",
    "import matplotlib.ticker as ticker\n",
    "import matplotlib.animation as animation\n",
    "from IPython.display import HTML"
   ]
  },
  {
   "cell_type": "code",
   "execution_count": 21,
   "id": "lasting-extraction",
   "metadata": {
    "execution": {
     "iopub.execute_input": "2022-04-05T00:48:32.547140Z",
     "iopub.status.busy": "2022-04-05T00:48:32.546138Z",
     "iopub.status.idle": "2022-04-05T00:48:32.552938Z",
     "shell.execute_reply": "2022-04-05T00:48:32.552437Z"
    },
    "papermill": {
     "duration": 0.049851,
     "end_time": "2022-04-05T00:48:32.553074",
     "exception": false,
     "start_time": "2022-04-05T00:48:32.503223",
     "status": "completed"
    },
    "tags": []
   },
   "outputs": [],
   "source": [
    "#hide\n",
    "t = everydaycases.stack()"
   ]
  },
  {
   "cell_type": "code",
   "execution_count": 22,
   "id": "premier-sleeve",
   "metadata": {
    "execution": {
     "iopub.execute_input": "2022-04-05T00:48:32.634903Z",
     "iopub.status.busy": "2022-04-05T00:48:32.633886Z",
     "iopub.status.idle": "2022-04-05T00:48:32.648298Z",
     "shell.execute_reply": "2022-04-05T00:48:32.647758Z"
    },
    "papermill": {
     "duration": 0.058468,
     "end_time": "2022-04-05T00:48:32.648440",
     "exception": false,
     "start_time": "2022-04-05T00:48:32.589972",
     "status": "completed"
    },
    "tags": []
   },
   "outputs": [],
   "source": [
    "#hide\n",
    "g = t.reset_index(['Country/Region'])"
   ]
  },
  {
   "cell_type": "code",
   "execution_count": 23,
   "id": "distributed-pittsburgh",
   "metadata": {
    "execution": {
     "iopub.execute_input": "2022-04-05T00:48:32.723972Z",
     "iopub.status.busy": "2022-04-05T00:48:32.723342Z",
     "iopub.status.idle": "2022-04-05T00:48:32.727800Z",
     "shell.execute_reply": "2022-04-05T00:48:32.727316Z"
    },
    "papermill": {
     "duration": 0.044235,
     "end_time": "2022-04-05T00:48:32.727934",
     "exception": false,
     "start_time": "2022-04-05T00:48:32.683699",
     "status": "completed"
    },
    "tags": []
   },
   "outputs": [],
   "source": [
    "#hide\n",
    "g.index.name = 'date'"
   ]
  },
  {
   "cell_type": "code",
   "execution_count": 24,
   "id": "naked-donor",
   "metadata": {
    "execution": {
     "iopub.execute_input": "2022-04-05T00:48:32.803858Z",
     "iopub.status.busy": "2022-04-05T00:48:32.803083Z",
     "iopub.status.idle": "2022-04-05T00:48:32.806382Z",
     "shell.execute_reply": "2022-04-05T00:48:32.805789Z"
    },
    "papermill": {
     "duration": 0.043152,
     "end_time": "2022-04-05T00:48:32.806537",
     "exception": false,
     "start_time": "2022-04-05T00:48:32.763385",
     "status": "completed"
    },
    "tags": []
   },
   "outputs": [],
   "source": [
    "# #hide\n",
    "# g = g.reset_index(['date'])"
   ]
  },
  {
   "cell_type": "code",
   "execution_count": 25,
   "id": "incomplete-mustang",
   "metadata": {
    "execution": {
     "iopub.execute_input": "2022-04-05T00:48:32.882927Z",
     "iopub.status.busy": "2022-04-05T00:48:32.882051Z",
     "iopub.status.idle": "2022-04-05T00:48:32.885804Z",
     "shell.execute_reply": "2022-04-05T00:48:32.886352Z"
    },
    "papermill": {
     "duration": 0.044631,
     "end_time": "2022-04-05T00:48:32.887070",
     "exception": false,
     "start_time": "2022-04-05T00:48:32.842439",
     "status": "completed"
    },
    "tags": []
   },
   "outputs": [],
   "source": [
    "#hide\n",
    "# g.head()"
   ]
  },
  {
   "cell_type": "code",
   "execution_count": 26,
   "id": "specific-kruger",
   "metadata": {
    "execution": {
     "iopub.execute_input": "2022-04-05T00:48:32.967056Z",
     "iopub.status.busy": "2022-04-05T00:48:32.966268Z",
     "iopub.status.idle": "2022-04-05T00:48:32.968609Z",
     "shell.execute_reply": "2022-04-05T00:48:32.969265Z"
    },
    "papermill": {
     "duration": 0.044501,
     "end_time": "2022-04-05T00:48:32.969425",
     "exception": false,
     "start_time": "2022-04-05T00:48:32.924924",
     "status": "completed"
    },
    "tags": []
   },
   "outputs": [],
   "source": [
    "#hide\n",
    "# g.columns = ['date','country','cases']"
   ]
  },
  {
   "cell_type": "code",
   "execution_count": 27,
   "id": "tender-conversion",
   "metadata": {
    "execution": {
     "iopub.execute_input": "2022-04-05T00:48:33.048904Z",
     "iopub.status.busy": "2022-04-05T00:48:33.047852Z",
     "iopub.status.idle": "2022-04-05T00:48:33.053235Z",
     "shell.execute_reply": "2022-04-05T00:48:33.053689Z"
    },
    "papermill": {
     "duration": 0.048077,
     "end_time": "2022-04-05T00:48:33.053844",
     "exception": false,
     "start_time": "2022-04-05T00:48:33.005767",
     "status": "completed"
    },
    "tags": []
   },
   "outputs": [],
   "source": [
    "#hide\n",
    "# g['continent'] = g.country"
   ]
  },
  {
   "cell_type": "code",
   "execution_count": 28,
   "id": "substantial-wilderness",
   "metadata": {
    "execution": {
     "iopub.execute_input": "2022-04-05T00:48:33.129418Z",
     "iopub.status.busy": "2022-04-05T00:48:33.128739Z",
     "iopub.status.idle": "2022-04-05T00:48:33.132128Z",
     "shell.execute_reply": "2022-04-05T00:48:33.131529Z"
    },
    "papermill": {
     "duration": 0.043046,
     "end_time": "2022-04-05T00:48:33.132259",
     "exception": false,
     "start_time": "2022-04-05T00:48:33.089213",
     "status": "completed"
    },
    "tags": []
   },
   "outputs": [],
   "source": [
    "#hide\n",
    "# cols = list(g.columns.values)"
   ]
  },
  {
   "cell_type": "code",
   "execution_count": 29,
   "id": "solved-farming",
   "metadata": {
    "execution": {
     "iopub.execute_input": "2022-04-05T00:48:33.207653Z",
     "iopub.status.busy": "2022-04-05T00:48:33.207009Z",
     "iopub.status.idle": "2022-04-05T00:48:33.209324Z",
     "shell.execute_reply": "2022-04-05T00:48:33.208849Z"
    },
    "papermill": {
     "duration": 0.041871,
     "end_time": "2022-04-05T00:48:33.209453",
     "exception": false,
     "start_time": "2022-04-05T00:48:33.167582",
     "status": "completed"
    },
    "tags": []
   },
   "outputs": [],
   "source": [
    "#hide\n",
    "# cols.insert(0, cols.pop())"
   ]
  },
  {
   "cell_type": "code",
   "execution_count": 30,
   "id": "executed-adoption",
   "metadata": {
    "execution": {
     "iopub.execute_input": "2022-04-05T00:48:33.296252Z",
     "iopub.status.busy": "2022-04-05T00:48:33.295628Z",
     "iopub.status.idle": "2022-04-05T00:48:33.297996Z",
     "shell.execute_reply": "2022-04-05T00:48:33.297495Z"
    },
    "papermill": {
     "duration": 0.051858,
     "end_time": "2022-04-05T00:48:33.298118",
     "exception": false,
     "start_time": "2022-04-05T00:48:33.246260",
     "status": "completed"
    },
    "tags": []
   },
   "outputs": [],
   "source": [
    "#hide\n",
    "# g = g[cols]"
   ]
  },
  {
   "cell_type": "code",
   "execution_count": 31,
   "id": "subject-dublin",
   "metadata": {
    "execution": {
     "iopub.execute_input": "2022-04-05T00:48:33.373421Z",
     "iopub.status.busy": "2022-04-05T00:48:33.372808Z",
     "iopub.status.idle": "2022-04-05T00:48:33.375674Z",
     "shell.execute_reply": "2022-04-05T00:48:33.376229Z"
    },
    "papermill": {
     "duration": 0.04337,
     "end_time": "2022-04-05T00:48:33.376379",
     "exception": false,
     "start_time": "2022-04-05T00:48:33.333009",
     "status": "completed"
    },
    "tags": []
   },
   "outputs": [],
   "source": [
    "#hide\n",
    "# g['continent'] = g['continent'].map(mapping['map.continent'])"
   ]
  },
  {
   "cell_type": "code",
   "execution_count": 32,
   "id": "freelance-scout",
   "metadata": {
    "execution": {
     "iopub.execute_input": "2022-04-05T00:48:33.451992Z",
     "iopub.status.busy": "2022-04-05T00:48:33.451113Z",
     "iopub.status.idle": "2022-04-05T00:48:33.454604Z",
     "shell.execute_reply": "2022-04-05T00:48:33.453911Z"
    },
    "papermill": {
     "duration": 0.043273,
     "end_time": "2022-04-05T00:48:33.454771",
     "exception": false,
     "start_time": "2022-04-05T00:48:33.411498",
     "status": "completed"
    },
    "tags": []
   },
   "outputs": [],
   "source": [
    "#hide\n",
    "# g.head()"
   ]
  },
  {
   "cell_type": "code",
   "execution_count": 33,
   "id": "limited-engine",
   "metadata": {
    "execution": {
     "iopub.execute_input": "2022-04-05T00:48:33.535947Z",
     "iopub.status.busy": "2022-04-05T00:48:33.534855Z",
     "iopub.status.idle": "2022-04-05T00:48:33.538960Z",
     "shell.execute_reply": "2022-04-05T00:48:33.538076Z"
    },
    "papermill": {
     "duration": 0.046457,
     "end_time": "2022-04-05T00:48:33.539096",
     "exception": false,
     "start_time": "2022-04-05T00:48:33.492639",
     "status": "completed"
    },
    "tags": []
   },
   "outputs": [],
   "source": [
    "# hide\n",
    "# g['date'] = g['date'].astype('datetime64[ns]')"
   ]
  },
  {
   "cell_type": "code",
   "execution_count": 34,
   "id": "sophisticated-supervisor",
   "metadata": {
    "execution": {
     "iopub.execute_input": "2022-04-05T00:48:33.614514Z",
     "iopub.status.busy": "2022-04-05T00:48:33.613906Z",
     "iopub.status.idle": "2022-04-05T00:48:33.616524Z",
     "shell.execute_reply": "2022-04-05T00:48:33.617081Z"
    },
    "papermill": {
     "duration": 0.042525,
     "end_time": "2022-04-05T00:48:33.617230",
     "exception": false,
     "start_time": "2022-04-05T00:48:33.574705",
     "status": "completed"
    },
    "tags": []
   },
   "outputs": [],
   "source": [
    "#hide\n",
    "# g['date'] = g.date.dt.dayofyear"
   ]
  },
  {
   "cell_type": "code",
   "execution_count": 35,
   "id": "inside-dubai",
   "metadata": {
    "execution": {
     "iopub.execute_input": "2022-04-05T00:48:33.692893Z",
     "iopub.status.busy": "2022-04-05T00:48:33.692203Z",
     "iopub.status.idle": "2022-04-05T00:48:33.693527Z",
     "shell.execute_reply": "2022-04-05T00:48:33.693986Z"
    },
    "papermill": {
     "duration": 0.041912,
     "end_time": "2022-04-05T00:48:33.694133",
     "exception": false,
     "start_time": "2022-04-05T00:48:33.652221",
     "status": "completed"
    },
    "tags": []
   },
   "outputs": [],
   "source": [
    "#hide\n",
    "# g = g.rename(columns= {'continent':'group','country':'name','cases':'value'})"
   ]
  },
  {
   "cell_type": "code",
   "execution_count": 36,
   "id": "fleet-motorcycle",
   "metadata": {
    "execution": {
     "iopub.execute_input": "2022-04-05T00:48:33.774345Z",
     "iopub.status.busy": "2022-04-05T00:48:33.773532Z",
     "iopub.status.idle": "2022-04-05T00:48:33.777980Z",
     "shell.execute_reply": "2022-04-05T00:48:33.777499Z"
    },
    "papermill": {
     "duration": 0.046831,
     "end_time": "2022-04-05T00:48:33.778114",
     "exception": false,
     "start_time": "2022-04-05T00:48:33.731283",
     "status": "completed"
    },
    "tags": []
   },
   "outputs": [],
   "source": [
    "#hide\n",
    "# cols = ['name','group','day','value']"
   ]
  },
  {
   "cell_type": "code",
   "execution_count": 37,
   "id": "continued-sleeping",
   "metadata": {
    "execution": {
     "iopub.execute_input": "2022-04-05T00:48:33.854766Z",
     "iopub.status.busy": "2022-04-05T00:48:33.854063Z",
     "iopub.status.idle": "2022-04-05T00:48:33.855559Z",
     "shell.execute_reply": "2022-04-05T00:48:33.856171Z"
    },
    "papermill": {
     "duration": 0.042887,
     "end_time": "2022-04-05T00:48:33.856330",
     "exception": false,
     "start_time": "2022-04-05T00:48:33.813443",
     "status": "completed"
    },
    "tags": []
   },
   "outputs": [],
   "source": [
    "#hide\n",
    "# g.rename(columns= {'date':'day'},inplace = True)"
   ]
  },
  {
   "cell_type": "code",
   "execution_count": 38,
   "id": "major-fight",
   "metadata": {
    "execution": {
     "iopub.execute_input": "2022-04-05T00:48:33.934206Z",
     "iopub.status.busy": "2022-04-05T00:48:33.933102Z",
     "iopub.status.idle": "2022-04-05T00:48:33.938128Z",
     "shell.execute_reply": "2022-04-05T00:48:33.937520Z"
    },
    "papermill": {
     "duration": 0.046394,
     "end_time": "2022-04-05T00:48:33.938261",
     "exception": false,
     "start_time": "2022-04-05T00:48:33.891867",
     "status": "completed"
    },
    "tags": []
   },
   "outputs": [],
   "source": [
    "#hide\n",
    "# g = g[cols]"
   ]
  },
  {
   "cell_type": "code",
   "execution_count": 39,
   "id": "structured-mobile",
   "metadata": {
    "execution": {
     "iopub.execute_input": "2022-04-05T00:48:34.013379Z",
     "iopub.status.busy": "2022-04-05T00:48:34.012572Z",
     "iopub.status.idle": "2022-04-05T00:48:34.014610Z",
     "shell.execute_reply": "2022-04-05T00:48:34.014034Z"
    },
    "papermill": {
     "duration": 0.040796,
     "end_time": "2022-04-05T00:48:34.014737",
     "exception": false,
     "start_time": "2022-04-05T00:48:33.973941",
     "status": "completed"
    },
    "tags": []
   },
   "outputs": [],
   "source": [
    "# #hide\n",
    "# g = g[g.group.notna()]"
   ]
  },
  {
   "cell_type": "code",
   "execution_count": 40,
   "id": "determined-closing",
   "metadata": {
    "execution": {
     "iopub.execute_input": "2022-04-05T00:48:34.099428Z",
     "iopub.status.busy": "2022-04-05T00:48:34.098722Z",
     "iopub.status.idle": "2022-04-05T00:48:34.102121Z",
     "shell.execute_reply": "2022-04-05T00:48:34.101639Z"
    },
    "papermill": {
     "duration": 0.049999,
     "end_time": "2022-04-05T00:48:34.102253",
     "exception": false,
     "start_time": "2022-04-05T00:48:34.052254",
     "status": "completed"
    },
    "tags": []
   },
   "outputs": [],
   "source": [
    "# #hide\n",
    "# colors = dict(zip(\n",
    "#     [\"Oceania\", \"Europe\", \"Asia\", \"South America\", \"Middle East\", \"North America\", \"Africa\"],\n",
    "#     [\"#adb0ff\", \"#ffb3ff\", \"#90d595\", \"#e48381\", \"#aafbff\", \"#f7bb5f\", \"#eafb50\"]\n",
    "# ))\n",
    "# group_lk = g.set_index('name')['group'].to_dict()"
   ]
  },
  {
   "cell_type": "code",
   "execution_count": null,
   "id": "gross-drinking",
   "metadata": {
    "papermill": {
     "duration": 0.034973,
     "end_time": "2022-04-05T00:48:34.172185",
     "exception": false,
     "start_time": "2022-04-05T00:48:34.137212",
     "status": "completed"
    },
    "tags": []
   },
   "outputs": [],
   "source": []
  },
  {
   "cell_type": "code",
   "execution_count": 41,
   "id": "subject-macintosh",
   "metadata": {
    "execution": {
     "iopub.execute_input": "2022-04-05T00:48:34.251058Z",
     "iopub.status.busy": "2022-04-05T00:48:34.250265Z",
     "iopub.status.idle": "2022-04-05T00:48:34.254446Z",
     "shell.execute_reply": "2022-04-05T00:48:34.253957Z"
    },
    "papermill": {
     "duration": 0.047354,
     "end_time": "2022-04-05T00:48:34.254582",
     "exception": false,
     "start_time": "2022-04-05T00:48:34.207228",
     "status": "completed"
    },
    "tags": []
   },
   "outputs": [],
   "source": [
    "# #hide\n",
    "# fig, ax = plt.subplots(figsize=(15, 8))\n",
    "\n",
    "# def draw_barchart(current_day):\n",
    "#     dff = g[g['day'].eq(current_day)].sort_values(by='value', ascending=True).tail(10)\n",
    "#     ax.clear()\n",
    "#     ax.barh(dff['name'], dff['value'], color=[colors[group_lk[x]] for x in dff['name']])\n",
    "#     dx = dff['value'].max() / 200\n",
    "    \n",
    "#     for i, (value, name) in enumerate(zip(dff['value'], dff['name'])):\n",
    "#         ax.text(value-dx, i,     name,           size=14, weight=600, ha='right', va='bottom')\n",
    "#         ax.text(value-dx, i-.25, group_lk[name], size=10, color='#444444', ha='right', va='baseline')\n",
    "#         ax.text(value+dx, i,     f'{value:,.0f}',  size=14, ha='left',  va='center')\n",
    "#     ax.text(1, 0.4, current_day, transform=ax.transAxes, color='#777777', size=46, ha='right', weight=800)\n",
    "#     ax.text(0, 1.06, 'Population (thousands)', transform=ax.transAxes, size=12, color='#777777')\n",
    "#     ax.xaxis.set_major_formatter(ticker.StrMethodFormatter('{x:,.0f}'))\n",
    "#     ax.xaxis.set_ticks_position('top')\n",
    "#     ax.tick_params(axis='x', colors='#777777', labelsize=12)\n",
    "#     ax.set_yticks([])\n",
    "#     ax.margins(0, 0.01)\n",
    "#     ax.grid(which='major', axis='x', linestyle='-')\n",
    "#     ax.set_axisbelow(True)\n",
    "    \n",
    "#     ax.text(0, 1.15, 'Coronavirus',\n",
    "#             transform=ax.transAxes, size=24, weight=600, ha='left', va='top')\n",
    "# #     ax.text(1, 0, 'by @pratapvardhan; credit @jburnmurdoch', transform=ax.transAxes, color='#777777', ha='right',\n",
    "# #             bbox=dict(facecolor='white', alpha=0.8, edgecolor='white'))\n",
    "#     plt.box(False)"
   ]
  },
  {
   "cell_type": "code",
   "execution_count": 42,
   "id": "sexual-wages",
   "metadata": {
    "execution": {
     "iopub.execute_input": "2022-04-05T00:48:34.335021Z",
     "iopub.status.busy": "2022-04-05T00:48:34.334127Z",
     "iopub.status.idle": "2022-04-05T00:48:34.335946Z",
     "shell.execute_reply": "2022-04-05T00:48:34.336705Z"
    },
    "papermill": {
     "duration": 0.044467,
     "end_time": "2022-04-05T00:48:34.336896",
     "exception": false,
     "start_time": "2022-04-05T00:48:34.292429",
     "status": "completed"
    },
    "tags": []
   },
   "outputs": [],
   "source": [
    "# #hide_input\n",
    "# fig, ax = plt.subplots(figsize=(15, 8))\n",
    "# animator = animation.FuncAnimation(fig, draw_barchart, frames=range(g.day.values.min(), g.day.values.max()))\n",
    "# HTML(animator.to_jshtml())\n",
    "# # or use animator.to_html5_video() or animator.save() "
   ]
  },
  {
   "cell_type": "code",
   "execution_count": null,
   "id": "australian-container",
   "metadata": {
    "papermill": {
     "duration": 0.034936,
     "end_time": "2022-04-05T00:48:34.407871",
     "exception": false,
     "start_time": "2022-04-05T00:48:34.372935",
     "status": "completed"
    },
    "tags": []
   },
   "outputs": [],
   "source": []
  },
  {
   "cell_type": "code",
   "execution_count": null,
   "id": "mediterranean-pontiac",
   "metadata": {
    "papermill": {
     "duration": 0.034918,
     "end_time": "2022-04-05T00:48:34.477819",
     "exception": false,
     "start_time": "2022-04-05T00:48:34.442901",
     "status": "completed"
    },
    "tags": []
   },
   "outputs": [],
   "source": []
  },
  {
   "cell_type": "code",
   "execution_count": null,
   "id": "aging-legislature",
   "metadata": {
    "papermill": {
     "duration": 0.038273,
     "end_time": "2022-04-05T00:48:34.551193",
     "exception": false,
     "start_time": "2022-04-05T00:48:34.512920",
     "status": "completed"
    },
    "tags": []
   },
   "outputs": [],
   "source": []
  }
 ],
 "metadata": {
  "kernelspec": {
   "display_name": "Python 3",
   "language": "python",
   "name": "python3"
  },
  "language_info": {
   "codemirror_mode": {
    "name": "ipython",
    "version": 3
   },
   "file_extension": ".py",
   "mimetype": "text/x-python",
   "name": "python",
   "nbconvert_exporter": "python",
   "pygments_lexer": "ipython3",
   "version": "3.6.15"
  },
  "papermill": {
   "duration": 7.461362,
   "end_time": "2022-04-05T00:48:35.006052",
   "environment_variables": {},
   "exception": null,
   "input_path": "2020-03-21-covid19exp.ipynb",
   "output_path": "2020-03-21-covid19exp.ipynb",
   "parameters": {},
   "start_time": "2022-04-05T00:48:27.544690",
   "version": "2.0.0"
  }
 },
 "nbformat": 4,
 "nbformat_minor": 5
}