{
 "cells": [
  {
   "cell_type": "markdown",
   "id": "muslim-click",
   "metadata": {
    "papermill": {
     "duration": 0.047361,
     "end_time": "2022-09-08T12:18:57.079588",
     "exception": false,
     "start_time": "2022-09-08T12:18:57.032227",
     "status": "completed"
    },
    "tags": []
   },
   "source": [
    "# COVID-19 Case Race\n",
    "> A race chart to see rising cases around the world\n",
    "\n",
    "- author: Hargun Oberoi\n",
    "- image: images/covid-overview.png\n",
    "- hide: false\n",
    "- badges: false"
   ]
  },
  {
   "cell_type": "code",
   "execution_count": 1,
   "id": "proof-material",
   "metadata": {
    "execution": {
     "iopub.execute_input": "2022-09-08T12:18:57.179140Z",
     "iopub.status.busy": "2022-09-08T12:18:57.178343Z",
     "iopub.status.idle": "2022-09-08T12:18:57.617976Z",
     "shell.execute_reply": "2022-09-08T12:18:57.616511Z"
    },
    "papermill": {
     "duration": 0.495624,
     "end_time": "2022-09-08T12:18:57.618153",
     "exception": false,
     "start_time": "2022-09-08T12:18:57.122529",
     "status": "completed"
    },
    "tags": []
   },
   "outputs": [],
   "source": [
    "#hide\n",
    "import numpy as np\n",
    "import pandas as pd\n",
    "from jinja2 import Template\n",
    "from IPython.display import HTML"
   ]
  },
  {
   "cell_type": "code",
   "execution_count": 2,
   "id": "developed-terminology",
   "metadata": {
    "execution": {
     "iopub.execute_input": "2022-09-08T12:18:57.718298Z",
     "iopub.status.busy": "2022-09-08T12:18:57.717399Z",
     "iopub.status.idle": "2022-09-08T12:18:57.720761Z",
     "shell.execute_reply": "2022-09-08T12:18:57.719958Z"
    },
    "papermill": {
     "duration": 0.058716,
     "end_time": "2022-09-08T12:18:57.720900",
     "exception": false,
     "start_time": "2022-09-08T12:18:57.662184",
     "status": "completed"
    },
    "tags": []
   },
   "outputs": [],
   "source": [
    "#hide\n",
    "\n",
    "# FETCH\n",
    "base_url = 'https://raw.githubusercontent.com/pratapvardhan/notebooks/master/covid19/'\n",
    "paths = {\n",
    "    'mapping': base_url + 'mapping_countries.csv',\n",
    "    'overview': base_url + 'overview.tpl'\n",
    "}"
   ]
  },
  {
   "cell_type": "code",
   "execution_count": 3,
   "id": "dynamic-saver",
   "metadata": {
    "execution": {
     "iopub.execute_input": "2022-09-08T12:18:57.817269Z",
     "iopub.status.busy": "2022-09-08T12:18:57.816364Z",
     "iopub.status.idle": "2022-09-08T12:18:57.821202Z",
     "shell.execute_reply": "2022-09-08T12:18:57.820555Z"
    },
    "papermill": {
     "duration": 0.058169,
     "end_time": "2022-09-08T12:18:57.821342",
     "exception": false,
     "start_time": "2022-09-08T12:18:57.763173",
     "status": "completed"
    },
    "tags": []
   },
   "outputs": [
    {
     "data": {
      "text/plain": [
       "'https://raw.githubusercontent.com/pratapvardhan/notebooks/master/covid19/mapping_countries.csv'"
      ]
     },
     "execution_count": 3,
     "metadata": {},
     "output_type": "execute_result"
    }
   ],
   "source": [
    "#hide\n",
    "paths['mapping']"
   ]
  },
  {
   "cell_type": "code",
   "execution_count": 4,
   "id": "urban-software",
   "metadata": {
    "execution": {
     "iopub.execute_input": "2022-09-08T12:18:57.914747Z",
     "iopub.status.busy": "2022-09-08T12:18:57.913830Z",
     "iopub.status.idle": "2022-09-08T12:18:57.917282Z",
     "shell.execute_reply": "2022-09-08T12:18:57.916608Z"
    },
    "papermill": {
     "duration": 0.055533,
     "end_time": "2022-09-08T12:18:57.917449",
     "exception": false,
     "start_time": "2022-09-08T12:18:57.861916",
     "status": "completed"
    },
    "tags": []
   },
   "outputs": [],
   "source": [
    "#hide\n",
    "def get_mappings(url):\n",
    "    df = pd.read_csv(url)\n",
    "    return {\n",
    "        'df': df,\n",
    "        'replace.country': dict(df.dropna(subset=['Name']).set_index('Country')['Name']),\n",
    "        'map.continent': dict(df.set_index('Name')['Continent'])\n",
    "    }"
   ]
  },
  {
   "cell_type": "code",
   "execution_count": 5,
   "id": "intimate-machinery",
   "metadata": {
    "execution": {
     "iopub.execute_input": "2022-09-08T12:18:58.007398Z",
     "iopub.status.busy": "2022-09-08T12:18:58.006611Z",
     "iopub.status.idle": "2022-09-08T12:18:58.039126Z",
     "shell.execute_reply": "2022-09-08T12:18:58.038447Z"
    },
    "papermill": {
     "duration": 0.07923,
     "end_time": "2022-09-08T12:18:58.039284",
     "exception": false,
     "start_time": "2022-09-08T12:18:57.960054",
     "status": "completed"
    },
    "tags": []
   },
   "outputs": [],
   "source": [
    "#hide\n",
    "mapping = get_mappings(paths['mapping'])"
   ]
  },
  {
   "cell_type": "code",
   "execution_count": 6,
   "id": "certified-tactics",
   "metadata": {
    "execution": {
     "iopub.execute_input": "2022-09-08T12:18:58.129498Z",
     "iopub.status.busy": "2022-09-08T12:18:58.128715Z",
     "iopub.status.idle": "2022-09-08T12:18:58.132148Z",
     "shell.execute_reply": "2022-09-08T12:18:58.131523Z"
    },
    "papermill": {
     "duration": 0.051087,
     "end_time": "2022-09-08T12:18:58.132292",
     "exception": false,
     "start_time": "2022-09-08T12:18:58.081205",
     "status": "completed"
    },
    "tags": []
   },
   "outputs": [],
   "source": [
    "#hide\n",
    "def get_template(path):\n",
    "    from urllib.parse import urlparse\n",
    "    if bool(urlparse(path).netloc):\n",
    "        from urllib.request import urlopen\n",
    "        return urlopen(path).read().decode('utf8')\n",
    "    return open(path).read()"
   ]
  },
  {
   "cell_type": "code",
   "execution_count": 7,
   "id": "realistic-blast",
   "metadata": {
    "execution": {
     "iopub.execute_input": "2022-09-08T12:18:58.222072Z",
     "iopub.status.busy": "2022-09-08T12:18:58.221277Z",
     "iopub.status.idle": "2022-09-08T12:18:58.224811Z",
     "shell.execute_reply": "2022-09-08T12:18:58.223858Z"
    },
    "papermill": {
     "duration": 0.0504,
     "end_time": "2022-09-08T12:18:58.224965",
     "exception": false,
     "start_time": "2022-09-08T12:18:58.174565",
     "status": "completed"
    },
    "tags": []
   },
   "outputs": [],
   "source": [
    "#hide\n",
    "def get_frame(name):\n",
    "    url = (\n",
    "        'https://raw.githubusercontent.com/CSSEGISandData/COVID-19/master/csse_covid_19_data/'\n",
    "        f'csse_covid_19_time_series/time_series_covid19_{name}_global.csv')\n",
    "    df = pd.read_csv(url)\n",
    "    # rename countries\n",
    "    df['Country/Region'] = df['Country/Region'].replace(mapping['replace.country'])\n",
    "    return df"
   ]
  },
  {
   "cell_type": "code",
   "execution_count": 8,
   "id": "affiliated-characterization",
   "metadata": {
    "execution": {
     "iopub.execute_input": "2022-09-08T12:18:58.317828Z",
     "iopub.status.busy": "2022-09-08T12:18:58.316921Z",
     "iopub.status.idle": "2022-09-08T12:18:58.321872Z",
     "shell.execute_reply": "2022-09-08T12:18:58.322485Z"
    },
    "papermill": {
     "duration": 0.056526,
     "end_time": "2022-09-08T12:18:58.322666",
     "exception": false,
     "start_time": "2022-09-08T12:18:58.266140",
     "status": "completed"
    },
    "tags": []
   },
   "outputs": [],
   "source": [
    "#hide\n",
    "def get_dates(df):\n",
    "    dt_cols = df.columns[~df.columns.isin(['Province/State', 'Country/Region', 'Lat', 'Long'])]\n",
    "    LAST_DATE_I = -1\n",
    "    # sometimes last column may be empty, then go backwards\n",
    "    for i in range(-1, -len(dt_cols), -1):\n",
    "        if not df[dt_cols[i]].fillna(0).eq(0).all():\n",
    "            LAST_DATE_I = i\n",
    "            break\n",
    "    return LAST_DATE_I, dt_cols"
   ]
  },
  {
   "cell_type": "code",
   "execution_count": 9,
   "id": "recent-optimization",
   "metadata": {
    "execution": {
     "iopub.execute_input": "2022-09-08T12:18:58.413602Z",
     "iopub.status.busy": "2022-09-08T12:18:58.412738Z",
     "iopub.status.idle": "2022-09-08T12:18:58.911039Z",
     "shell.execute_reply": "2022-09-08T12:18:58.909648Z"
    },
    "papermill": {
     "duration": 0.548777,
     "end_time": "2022-09-08T12:18:58.911211",
     "exception": false,
     "start_time": "2022-09-08T12:18:58.362434",
     "status": "completed"
    },
    "tags": []
   },
   "outputs": [],
   "source": [
    "#hide\n",
    "COL_REGION = 'Country/Region'\n",
    "# Confirmed, Recovered, Deaths\n",
    "df = get_frame('confirmed')\n",
    "# dft_: timeseries, dfc_: today country agg\n",
    "dft_cases = df\n",
    "dft_deaths = get_frame('deaths')\n",
    "dft_recovered = get_frame('recovered')\n",
    "LAST_DATE_I, dt_cols = get_dates(df)"
   ]
  },
  {
   "cell_type": "code",
   "execution_count": 10,
   "id": "absolute-copper",
   "metadata": {
    "execution": {
     "iopub.execute_input": "2022-09-08T12:18:59.004233Z",
     "iopub.status.busy": "2022-09-08T12:18:59.002127Z",
     "iopub.status.idle": "2022-09-08T12:18:59.005160Z",
     "shell.execute_reply": "2022-09-08T12:18:59.005820Z"
    },
    "papermill": {
     "duration": 0.053,
     "end_time": "2022-09-08T12:18:59.005992",
     "exception": false,
     "start_time": "2022-09-08T12:18:58.952992",
     "status": "completed"
    },
    "tags": []
   },
   "outputs": [],
   "source": [
    "#hide\n",
    "LAST_DATE_I, dt_cols = get_dates(df)\n",
    "dt_today =dt_cols[LAST_DATE_I]\n",
    "# dt_5day = dt_cols[LAST_DATE_I - 5]\n",
    "dt_yday = dt_cols[LAST_DATE_I - 1]"
   ]
  },
  {
   "cell_type": "code",
   "execution_count": 11,
   "id": "restricted-sheriff",
   "metadata": {
    "execution": {
     "iopub.execute_input": "2022-09-08T12:18:59.095001Z",
     "iopub.status.busy": "2022-09-08T12:18:59.093296Z",
     "iopub.status.idle": "2022-09-08T12:18:59.103643Z",
     "shell.execute_reply": "2022-09-08T12:18:59.102903Z"
    },
    "papermill": {
     "duration": 0.058258,
     "end_time": "2022-09-08T12:18:59.103782",
     "exception": false,
     "start_time": "2022-09-08T12:18:59.045524",
     "status": "completed"
    },
    "tags": []
   },
   "outputs": [],
   "source": [
    "#hide\n",
    "dfc_cases = dft_cases.groupby(COL_REGION)[dt_today].sum()\n",
    "dfc_deaths = dft_deaths.groupby(COL_REGION)[dt_today].sum()\n",
    "# dfp_cases = dft_cases.groupby(COL_REGION)[dt_5day].sum()\n",
    "# dfp_deaths = dft_deaths.groupby(COL_REGION)[dt_5day].sum()\n",
    "dfp_cases = dft_cases.groupby(COL_REGION)[dt_yday].sum()\n",
    "dfp_deaths = dft_deaths.groupby(COL_REGION)[dt_yday].sum()"
   ]
  },
  {
   "cell_type": "code",
   "execution_count": 12,
   "id": "deluxe-hepatitis",
   "metadata": {
    "execution": {
     "iopub.execute_input": "2022-09-08T12:18:59.191907Z",
     "iopub.status.busy": "2022-09-08T12:18:59.191043Z",
     "iopub.status.idle": "2022-09-08T12:18:59.196814Z",
     "shell.execute_reply": "2022-09-08T12:18:59.197541Z"
    },
    "papermill": {
     "duration": 0.054486,
     "end_time": "2022-09-08T12:18:59.197855",
     "exception": false,
     "start_time": "2022-09-08T12:18:59.143369",
     "status": "completed"
    },
    "tags": []
   },
   "outputs": [],
   "source": [
    "#hide\n",
    "df_table = (pd.DataFrame(dict(Cases = dfc_cases, Deaths = dfc_deaths, PCases = dfp_cases, PDeaths = dfp_deaths))\n",
    "            .sort_values(by = ['Cases','Deaths'], ascending = [False, False])\n",
    "            .reset_index())"
   ]
  },
  {
   "cell_type": "code",
   "execution_count": 13,
   "id": "educational-chancellor",
   "metadata": {
    "execution": {
     "iopub.execute_input": "2022-09-08T12:18:59.287315Z",
     "iopub.status.busy": "2022-09-08T12:18:59.286534Z",
     "iopub.status.idle": "2022-09-08T12:18:59.311997Z",
     "shell.execute_reply": "2022-09-08T12:18:59.311304Z"
    },
    "papermill": {
     "duration": 0.0747,
     "end_time": "2022-09-08T12:18:59.312160",
     "exception": false,
     "start_time": "2022-09-08T12:18:59.237460",
     "status": "completed"
    },
    "tags": []
   },
   "outputs": [
    {
     "data": {
      "text/html": [
       "<div>\n",
       "<style scoped>\n",
       "    .dataframe tbody tr th:only-of-type {\n",
       "        vertical-align: middle;\n",
       "    }\n",
       "\n",
       "    .dataframe tbody tr th {\n",
       "        vertical-align: top;\n",
       "    }\n",
       "\n",
       "    .dataframe thead th {\n",
       "        text-align: right;\n",
       "    }\n",
       "</style>\n",
       "<table border=\"1\" class=\"dataframe\">\n",
       "  <thead>\n",
       "    <tr style=\"text-align: right;\">\n",
       "      <th></th>\n",
       "      <th>Country/Region</th>\n",
       "      <th>Cases</th>\n",
       "      <th>Deaths</th>\n",
       "      <th>PCases</th>\n",
       "      <th>PDeaths</th>\n",
       "      <th>Cases (+)</th>\n",
       "      <th>Deaths (+)</th>\n",
       "      <th>Fatality Rate</th>\n",
       "      <th>Continent</th>\n",
       "    </tr>\n",
       "  </thead>\n",
       "  <tbody>\n",
       "    <tr>\n",
       "      <th>0</th>\n",
       "      <td>US</td>\n",
       "      <td>95020834</td>\n",
       "      <td>1048989</td>\n",
       "      <td>94898118</td>\n",
       "      <td>1048201</td>\n",
       "      <td>122716</td>\n",
       "      <td>788</td>\n",
       "      <td>1.10</td>\n",
       "      <td>North America</td>\n",
       "    </tr>\n",
       "    <tr>\n",
       "      <th>1</th>\n",
       "      <td>India</td>\n",
       "      <td>44478636</td>\n",
       "      <td>528090</td>\n",
       "      <td>44469661</td>\n",
       "      <td>528057</td>\n",
       "      <td>8975</td>\n",
       "      <td>33</td>\n",
       "      <td>1.19</td>\n",
       "      <td>Asia</td>\n",
       "    </tr>\n",
       "    <tr>\n",
       "      <th>2</th>\n",
       "      <td>France</td>\n",
       "      <td>34859956</td>\n",
       "      <td>155419</td>\n",
       "      <td>34839791</td>\n",
       "      <td>155373</td>\n",
       "      <td>20165</td>\n",
       "      <td>46</td>\n",
       "      <td>0.45</td>\n",
       "      <td>Europe</td>\n",
       "    </tr>\n",
       "    <tr>\n",
       "      <th>3</th>\n",
       "      <td>Brazil</td>\n",
       "      <td>34477539</td>\n",
       "      <td>684425</td>\n",
       "      <td>34477539</td>\n",
       "      <td>684425</td>\n",
       "      <td>0</td>\n",
       "      <td>0</td>\n",
       "      <td>1.99</td>\n",
       "      <td>South America</td>\n",
       "    </tr>\n",
       "    <tr>\n",
       "      <th>4</th>\n",
       "      <td>Germany</td>\n",
       "      <td>32386089</td>\n",
       "      <td>148098</td>\n",
       "      <td>32344032</td>\n",
       "      <td>147981</td>\n",
       "      <td>42057</td>\n",
       "      <td>117</td>\n",
       "      <td>0.46</td>\n",
       "      <td>Europe</td>\n",
       "    </tr>\n",
       "  </tbody>\n",
       "</table>\n",
       "</div>"
      ],
      "text/plain": [
       "  Country/Region     Cases   Deaths    PCases  PDeaths  Cases (+)  Deaths (+)  \\\n",
       "0             US  95020834  1048989  94898118  1048201     122716         788   \n",
       "1          India  44478636   528090  44469661   528057       8975          33   \n",
       "2         France  34859956   155419  34839791   155373      20165          46   \n",
       "3         Brazil  34477539   684425  34477539   684425          0           0   \n",
       "4        Germany  32386089   148098  32344032   147981      42057         117   \n",
       "\n",
       "   Fatality Rate      Continent  \n",
       "0           1.10  North America  \n",
       "1           1.19           Asia  \n",
       "2           0.45         Europe  \n",
       "3           1.99  South America  \n",
       "4           0.46         Europe  "
      ]
     },
     "execution_count": 13,
     "metadata": {},
     "output_type": "execute_result"
    }
   ],
   "source": [
    "#hide\n",
    "for c in 'Cases, Deaths'.split(', '):\n",
    "    df_table[f'{c} (+)'] = (df_table[c] - df_table[f'P{c}']).clip(0)\n",
    "    #Clip ça veut dire, les chiffres negatif sont interdit\n",
    "df_table['Fatality Rate'] = (100* df_table['Deaths']/ df_table['Cases']).round(2)\n",
    "df_table['Continent'] = df_table['Country/Region'].map(mapping['map.continent'])\n",
    "df_table.head(5)"
   ]
  },
  {
   "cell_type": "code",
   "execution_count": 14,
   "id": "aboriginal-bulgaria",
   "metadata": {
    "execution": {
     "iopub.execute_input": "2022-09-08T12:18:59.403767Z",
     "iopub.status.busy": "2022-09-08T12:18:59.402948Z",
     "iopub.status.idle": "2022-09-08T12:18:59.407657Z",
     "shell.execute_reply": "2022-09-08T12:18:59.406983Z"
    },
    "papermill": {
     "duration": 0.054269,
     "end_time": "2022-09-08T12:18:59.407809",
     "exception": false,
     "start_time": "2022-09-08T12:18:59.353540",
     "status": "completed"
    },
    "tags": []
   },
   "outputs": [],
   "source": [
    "#hide\n",
    "#delete problematic countries from table\n",
    "df_table = df_table[~df_table['Country/Region'].isin(['Cape Verde', 'Cruise Ship', 'Kosovo'])]"
   ]
  },
  {
   "cell_type": "code",
   "execution_count": 15,
   "id": "fantastic-effect",
   "metadata": {
    "execution": {
     "iopub.execute_input": "2022-09-08T12:18:59.503137Z",
     "iopub.status.busy": "2022-09-08T12:18:59.502308Z",
     "iopub.status.idle": "2022-09-08T12:18:59.528050Z",
     "shell.execute_reply": "2022-09-08T12:18:59.527354Z"
    },
    "papermill": {
     "duration": 0.077727,
     "end_time": "2022-09-08T12:18:59.528199",
     "exception": false,
     "start_time": "2022-09-08T12:18:59.450472",
     "status": "completed"
    },
    "tags": []
   },
   "outputs": [
    {
     "data": {
      "text/html": [
       "<div>\n",
       "<style scoped>\n",
       "    .dataframe tbody tr th:only-of-type {\n",
       "        vertical-align: middle;\n",
       "    }\n",
       "\n",
       "    .dataframe tbody tr th {\n",
       "        vertical-align: top;\n",
       "    }\n",
       "\n",
       "    .dataframe thead th {\n",
       "        text-align: right;\n",
       "    }\n",
       "</style>\n",
       "<table border=\"1\" class=\"dataframe\">\n",
       "  <thead>\n",
       "    <tr style=\"text-align: right;\">\n",
       "      <th></th>\n",
       "      <th>Country/Region</th>\n",
       "      <th>Cases</th>\n",
       "      <th>Deaths</th>\n",
       "      <th>PCases</th>\n",
       "      <th>PDeaths</th>\n",
       "      <th>Cases (+)</th>\n",
       "      <th>Deaths (+)</th>\n",
       "      <th>Fatality Rate</th>\n",
       "      <th>Continent</th>\n",
       "    </tr>\n",
       "  </thead>\n",
       "  <tbody>\n",
       "    <tr>\n",
       "      <th>0</th>\n",
       "      <td>US</td>\n",
       "      <td>95020834</td>\n",
       "      <td>1048989</td>\n",
       "      <td>94898118</td>\n",
       "      <td>1048201</td>\n",
       "      <td>122716</td>\n",
       "      <td>788</td>\n",
       "      <td>1.1</td>\n",
       "      <td>North America</td>\n",
       "    </tr>\n",
       "    <tr>\n",
       "      <th>1</th>\n",
       "      <td>India</td>\n",
       "      <td>44478636</td>\n",
       "      <td>528090</td>\n",
       "      <td>44469661</td>\n",
       "      <td>528057</td>\n",
       "      <td>8975</td>\n",
       "      <td>33</td>\n",
       "      <td>1.2</td>\n",
       "      <td>Asia</td>\n",
       "    </tr>\n",
       "    <tr>\n",
       "      <th>2</th>\n",
       "      <td>France</td>\n",
       "      <td>34859956</td>\n",
       "      <td>155419</td>\n",
       "      <td>34839791</td>\n",
       "      <td>155373</td>\n",
       "      <td>20165</td>\n",
       "      <td>46</td>\n",
       "      <td>0.4</td>\n",
       "      <td>Europe</td>\n",
       "    </tr>\n",
       "    <tr>\n",
       "      <th>3</th>\n",
       "      <td>Brazil</td>\n",
       "      <td>34477539</td>\n",
       "      <td>684425</td>\n",
       "      <td>34477539</td>\n",
       "      <td>684425</td>\n",
       "      <td>0</td>\n",
       "      <td>0</td>\n",
       "      <td>2.0</td>\n",
       "      <td>South America</td>\n",
       "    </tr>\n",
       "    <tr>\n",
       "      <th>4</th>\n",
       "      <td>Germany</td>\n",
       "      <td>32386089</td>\n",
       "      <td>148098</td>\n",
       "      <td>32344032</td>\n",
       "      <td>147981</td>\n",
       "      <td>42057</td>\n",
       "      <td>117</td>\n",
       "      <td>0.5</td>\n",
       "      <td>Europe</td>\n",
       "    </tr>\n",
       "  </tbody>\n",
       "</table>\n",
       "</div>"
      ],
      "text/plain": [
       "  Country/Region     Cases   Deaths    PCases  PDeaths  Cases (+)  Deaths (+)  \\\n",
       "0             US  95020834  1048989  94898118  1048201     122716         788   \n",
       "1          India  44478636   528090  44469661   528057       8975          33   \n",
       "2         France  34859956   155419  34839791   155373      20165          46   \n",
       "3         Brazil  34477539   684425  34477539   684425          0           0   \n",
       "4        Germany  32386089   148098  32344032   147981      42057         117   \n",
       "\n",
       "   Fatality Rate      Continent  \n",
       "0            1.1  North America  \n",
       "1            1.2           Asia  \n",
       "2            0.4         Europe  \n",
       "3            2.0  South America  \n",
       "4            0.5         Europe  "
      ]
     },
     "execution_count": 15,
     "metadata": {},
     "output_type": "execute_result"
    }
   ],
   "source": [
    "#hide\n",
    "df_table = (pd.DataFrame(dict(Cases=dfc_cases, Deaths=dfc_deaths, PCases=dfp_cases, PDeaths=dfp_deaths))\n",
    "             .sort_values(by=['Cases', 'Deaths'], ascending=[False, False])\n",
    "             .reset_index())\n",
    "df_table.rename(columns={'index': 'Country/Region'}, inplace=True)\n",
    "for c in 'Cases, Deaths'.split(', '):\n",
    "    df_table[f'{c} (+)'] = (df_table[c] - df_table[f'P{c}']).clip(0)  # DATA BUG\n",
    "df_table['Fatality Rate'] = (100 * df_table['Deaths'] / df_table['Cases']).round(1)\n",
    "df_table['Continent'] = df_table['Country/Region'].map(mapping['map.continent'])\n",
    "df_table.head(5)"
   ]
  },
  {
   "cell_type": "code",
   "execution_count": 16,
   "id": "fewer-occasion",
   "metadata": {
    "execution": {
     "iopub.execute_input": "2022-09-08T12:18:59.622057Z",
     "iopub.status.busy": "2022-09-08T12:18:59.621140Z",
     "iopub.status.idle": "2022-09-08T12:18:59.624303Z",
     "shell.execute_reply": "2022-09-08T12:18:59.625151Z"
    },
    "papermill": {
     "duration": 0.054176,
     "end_time": "2022-09-08T12:18:59.625346",
     "exception": false,
     "start_time": "2022-09-08T12:18:59.571170",
     "status": "completed"
    },
    "tags": []
   },
   "outputs": [],
   "source": [
    "#hide\n",
    "#delete problematic countries from table\n",
    "df_table = df_table[~df_table['Country/Region'].isin(['Cape Verde', 'Cruise Ship', 'Kosovo'])]"
   ]
  },
  {
   "cell_type": "code",
   "execution_count": 17,
   "id": "related-center",
   "metadata": {
    "execution": {
     "iopub.execute_input": "2022-09-08T12:18:59.735190Z",
     "iopub.status.busy": "2022-09-08T12:18:59.734191Z",
     "iopub.status.idle": "2022-09-08T12:18:59.738711Z",
     "shell.execute_reply": "2022-09-08T12:18:59.739378Z"
    },
    "papermill": {
     "duration": 0.071737,
     "end_time": "2022-09-08T12:18:59.739570",
     "exception": false,
     "start_time": "2022-09-08T12:18:59.667833",
     "status": "completed"
    },
    "tags": []
   },
   "outputs": [],
   "source": [
    "#hide\n",
    "metrics = [df_table.columns[index] for index in [1,2,5,6]]\n",
    "# s_china = df_table[df_table['Country/Region'].eq('China')][metrics].sum().add_prefix('China ')\n",
    "s_us = df_table[df_table['Country/Region'].eq('US')][metrics].sum().add_prefix('US ')\n",
    "s_eu = df_table[df_table['Continent'].eq('Europe')][metrics].sum().add_prefix('EU ')\n",
    "s_ind = df_table[df_table['Country/Region'].eq('India')][metrics].sum().add_prefix('India ')\n",
    "summary = {'updated': pd.to_datetime(dt_today), 'since': pd.to_datetime(dt_yday)}\n",
    "summary = {'updated': pd.to_datetime(dt_today), 'since': pd.to_datetime(dt_yday)}\n",
    "summary = {**summary, **df_table[metrics].sum(), **s_ind, **s_us, **s_eu}"
   ]
  },
  {
   "cell_type": "code",
   "execution_count": 18,
   "id": "engaging-syndrome",
   "metadata": {
    "execution": {
     "iopub.execute_input": "2022-09-08T12:18:59.830017Z",
     "iopub.status.busy": "2022-09-08T12:18:59.829164Z",
     "iopub.status.idle": "2022-09-08T12:18:59.853019Z",
     "shell.execute_reply": "2022-09-08T12:18:59.852400Z"
    },
    "papermill": {
     "duration": 0.072052,
     "end_time": "2022-09-08T12:18:59.853175",
     "exception": false,
     "start_time": "2022-09-08T12:18:59.781123",
     "status": "completed"
    },
    "tags": []
   },
   "outputs": [],
   "source": [
    "#hide\n",
    "dft_ct_new_cases = dft_cases.groupby(COL_REGION)[dt_cols].sum().diff(axis=1).fillna(0).astype(int)"
   ]
  },
  {
   "cell_type": "code",
   "execution_count": 19,
   "id": "neutral-assignment",
   "metadata": {
    "execution": {
     "iopub.execute_input": "2022-09-08T12:18:59.943372Z",
     "iopub.status.busy": "2022-09-08T12:18:59.942593Z",
     "iopub.status.idle": "2022-09-08T12:18:59.945928Z",
     "shell.execute_reply": "2022-09-08T12:18:59.946487Z"
    },
    "papermill": {
     "duration": 0.052067,
     "end_time": "2022-09-08T12:18:59.946640",
     "exception": false,
     "start_time": "2022-09-08T12:18:59.894573",
     "status": "completed"
    },
    "tags": []
   },
   "outputs": [],
   "source": [
    "#hide\n",
    "everydaycases = dft_ct_new_cases.cumsum(axis=1)"
   ]
  },
  {
   "cell_type": "code",
   "execution_count": 20,
   "id": "parliamentary-calgary",
   "metadata": {
    "execution": {
     "iopub.execute_input": "2022-09-08T12:19:00.040184Z",
     "iopub.status.busy": "2022-09-08T12:19:00.039309Z",
     "iopub.status.idle": "2022-09-08T12:19:00.737847Z",
     "shell.execute_reply": "2022-09-08T12:19:00.737209Z"
    },
    "papermill": {
     "duration": 0.750161,
     "end_time": "2022-09-08T12:19:00.738002",
     "exception": false,
     "start_time": "2022-09-08T12:18:59.987841",
     "status": "completed"
    },
    "tags": []
   },
   "outputs": [],
   "source": [
    "#hide\n",
    "import pandas as pd\n",
    "import matplotlib.pyplot as plt\n",
    "import matplotlib.ticker as ticker\n",
    "import matplotlib.animation as animation\n",
    "from IPython.display import HTML"
   ]
  },
  {
   "cell_type": "code",
   "execution_count": 21,
   "id": "lasting-extraction",
   "metadata": {
    "execution": {
     "iopub.execute_input": "2022-09-08T12:19:00.832017Z",
     "iopub.status.busy": "2022-09-08T12:19:00.831253Z",
     "iopub.status.idle": "2022-09-08T12:19:00.839645Z",
     "shell.execute_reply": "2022-09-08T12:19:00.840337Z"
    },
    "papermill": {
     "duration": 0.059383,
     "end_time": "2022-09-08T12:19:00.840533",
     "exception": false,
     "start_time": "2022-09-08T12:19:00.781150",
     "status": "completed"
    },
    "tags": []
   },
   "outputs": [],
   "source": [
    "#hide\n",
    "t = everydaycases.stack()"
   ]
  },
  {
   "cell_type": "code",
   "execution_count": 22,
   "id": "premier-sleeve",
   "metadata": {
    "execution": {
     "iopub.execute_input": "2022-09-08T12:19:00.927922Z",
     "iopub.status.busy": "2022-09-08T12:19:00.927174Z",
     "iopub.status.idle": "2022-09-08T12:19:00.941231Z",
     "shell.execute_reply": "2022-09-08T12:19:00.941889Z"
    },
    "papermill": {
     "duration": 0.059944,
     "end_time": "2022-09-08T12:19:00.942064",
     "exception": false,
     "start_time": "2022-09-08T12:19:00.882120",
     "status": "completed"
    },
    "tags": []
   },
   "outputs": [],
   "source": [
    "#hide\n",
    "g = t.reset_index(['Country/Region'])"
   ]
  },
  {
   "cell_type": "code",
   "execution_count": 23,
   "id": "distributed-pittsburgh",
   "metadata": {
    "execution": {
     "iopub.execute_input": "2022-09-08T12:19:01.032606Z",
     "iopub.status.busy": "2022-09-08T12:19:01.031768Z",
     "iopub.status.idle": "2022-09-08T12:19:01.036240Z",
     "shell.execute_reply": "2022-09-08T12:19:01.036852Z"
    },
    "papermill": {
     "duration": 0.052119,
     "end_time": "2022-09-08T12:19:01.037016",
     "exception": false,
     "start_time": "2022-09-08T12:19:00.984897",
     "status": "completed"
    },
    "tags": []
   },
   "outputs": [],
   "source": [
    "#hide\n",
    "g.index.name = 'date'"
   ]
  },
  {
   "cell_type": "code",
   "execution_count": 24,
   "id": "naked-donor",
   "metadata": {
    "execution": {
     "iopub.execute_input": "2022-09-08T12:19:01.127006Z",
     "iopub.status.busy": "2022-09-08T12:19:01.126091Z",
     "iopub.status.idle": "2022-09-08T12:19:01.130571Z",
     "shell.execute_reply": "2022-09-08T12:19:01.129669Z"
    },
    "papermill": {
     "duration": 0.051109,
     "end_time": "2022-09-08T12:19:01.130737",
     "exception": false,
     "start_time": "2022-09-08T12:19:01.079628",
     "status": "completed"
    },
    "tags": []
   },
   "outputs": [],
   "source": [
    "# #hide\n",
    "# g = g.reset_index(['date'])"
   ]
  },
  {
   "cell_type": "code",
   "execution_count": 25,
   "id": "incomplete-mustang",
   "metadata": {
    "execution": {
     "iopub.execute_input": "2022-09-08T12:19:01.222556Z",
     "iopub.status.busy": "2022-09-08T12:19:01.221614Z",
     "iopub.status.idle": "2022-09-08T12:19:01.225849Z",
     "shell.execute_reply": "2022-09-08T12:19:01.226462Z"
    },
    "papermill": {
     "duration": 0.052657,
     "end_time": "2022-09-08T12:19:01.226640",
     "exception": false,
     "start_time": "2022-09-08T12:19:01.173983",
     "status": "completed"
    },
    "tags": []
   },
   "outputs": [],
   "source": [
    "#hide\n",
    "# g.head()"
   ]
  },
  {
   "cell_type": "code",
   "execution_count": 26,
   "id": "specific-kruger",
   "metadata": {
    "execution": {
     "iopub.execute_input": "2022-09-08T12:19:01.315911Z",
     "iopub.status.busy": "2022-09-08T12:19:01.315017Z",
     "iopub.status.idle": "2022-09-08T12:19:01.318479Z",
     "shell.execute_reply": "2022-09-08T12:19:01.317679Z"
    },
    "papermill": {
     "duration": 0.050718,
     "end_time": "2022-09-08T12:19:01.318727",
     "exception": false,
     "start_time": "2022-09-08T12:19:01.268009",
     "status": "completed"
    },
    "tags": []
   },
   "outputs": [],
   "source": [
    "#hide\n",
    "# g.columns = ['date','country','cases']"
   ]
  },
  {
   "cell_type": "code",
   "execution_count": 27,
   "id": "tender-conversion",
   "metadata": {
    "execution": {
     "iopub.execute_input": "2022-09-08T12:19:01.411267Z",
     "iopub.status.busy": "2022-09-08T12:19:01.410474Z",
     "iopub.status.idle": "2022-09-08T12:19:01.413978Z",
     "shell.execute_reply": "2022-09-08T12:19:01.414612Z"
    },
    "papermill": {
     "duration": 0.05218,
     "end_time": "2022-09-08T12:19:01.414776",
     "exception": false,
     "start_time": "2022-09-08T12:19:01.362596",
     "status": "completed"
    },
    "tags": []
   },
   "outputs": [],
   "source": [
    "#hide\n",
    "# g['continent'] = g.country"
   ]
  },
  {
   "cell_type": "code",
   "execution_count": 28,
   "id": "substantial-wilderness",
   "metadata": {
    "execution": {
     "iopub.execute_input": "2022-09-08T12:19:01.506661Z",
     "iopub.status.busy": "2022-09-08T12:19:01.505696Z",
     "iopub.status.idle": "2022-09-08T12:19:01.509338Z",
     "shell.execute_reply": "2022-09-08T12:19:01.508625Z"
    },
    "papermill": {
     "duration": 0.050984,
     "end_time": "2022-09-08T12:19:01.509505",
     "exception": false,
     "start_time": "2022-09-08T12:19:01.458521",
     "status": "completed"
    },
    "tags": []
   },
   "outputs": [],
   "source": [
    "#hide\n",
    "# cols = list(g.columns.values)"
   ]
  },
  {
   "cell_type": "code",
   "execution_count": 29,
   "id": "solved-farming",
   "metadata": {
    "execution": {
     "iopub.execute_input": "2022-09-08T12:19:01.598864Z",
     "iopub.status.busy": "2022-09-08T12:19:01.598041Z",
     "iopub.status.idle": "2022-09-08T12:19:01.602433Z",
     "shell.execute_reply": "2022-09-08T12:19:01.601736Z"
    },
    "papermill": {
     "duration": 0.049475,
     "end_time": "2022-09-08T12:19:01.602613",
     "exception": false,
     "start_time": "2022-09-08T12:19:01.553138",
     "status": "completed"
    },
    "tags": []
   },
   "outputs": [],
   "source": [
    "#hide\n",
    "# cols.insert(0, cols.pop())"
   ]
  },
  {
   "cell_type": "code",
   "execution_count": 30,
   "id": "executed-adoption",
   "metadata": {
    "execution": {
     "iopub.execute_input": "2022-09-08T12:19:01.692854Z",
     "iopub.status.busy": "2022-09-08T12:19:01.691945Z",
     "iopub.status.idle": "2022-09-08T12:19:01.695651Z",
     "shell.execute_reply": "2022-09-08T12:19:01.694981Z"
    },
    "papermill": {
     "duration": 0.050127,
     "end_time": "2022-09-08T12:19:01.695787",
     "exception": false,
     "start_time": "2022-09-08T12:19:01.645660",
     "status": "completed"
    },
    "tags": []
   },
   "outputs": [],
   "source": [
    "#hide\n",
    "# g = g[cols]"
   ]
  },
  {
   "cell_type": "code",
   "execution_count": 31,
   "id": "subject-dublin",
   "metadata": {
    "execution": {
     "iopub.execute_input": "2022-09-08T12:19:01.784230Z",
     "iopub.status.busy": "2022-09-08T12:19:01.783313Z",
     "iopub.status.idle": "2022-09-08T12:19:01.786949Z",
     "shell.execute_reply": "2022-09-08T12:19:01.786306Z"
    },
    "papermill": {
     "duration": 0.049261,
     "end_time": "2022-09-08T12:19:01.787083",
     "exception": false,
     "start_time": "2022-09-08T12:19:01.737822",
     "status": "completed"
    },
    "tags": []
   },
   "outputs": [],
   "source": [
    "#hide\n",
    "# g['continent'] = g['continent'].map(mapping['map.continent'])"
   ]
  },
  {
   "cell_type": "code",
   "execution_count": 32,
   "id": "freelance-scout",
   "metadata": {
    "execution": {
     "iopub.execute_input": "2022-09-08T12:19:01.877078Z",
     "iopub.status.busy": "2022-09-08T12:19:01.876297Z",
     "iopub.status.idle": "2022-09-08T12:19:01.879699Z",
     "shell.execute_reply": "2022-09-08T12:19:01.879013Z"
    },
    "papermill": {
     "duration": 0.050417,
     "end_time": "2022-09-08T12:19:01.879842",
     "exception": false,
     "start_time": "2022-09-08T12:19:01.829425",
     "status": "completed"
    },
    "tags": []
   },
   "outputs": [],
   "source": [
    "#hide\n",
    "# g.head()"
   ]
  },
  {
   "cell_type": "code",
   "execution_count": 33,
   "id": "limited-engine",
   "metadata": {
    "execution": {
     "iopub.execute_input": "2022-09-08T12:19:01.968794Z",
     "iopub.status.busy": "2022-09-08T12:19:01.967825Z",
     "iopub.status.idle": "2022-09-08T12:19:01.971288Z",
     "shell.execute_reply": "2022-09-08T12:19:01.970543Z"
    },
    "papermill": {
     "duration": 0.049939,
     "end_time": "2022-09-08T12:19:01.971428",
     "exception": false,
     "start_time": "2022-09-08T12:19:01.921489",
     "status": "completed"
    },
    "tags": []
   },
   "outputs": [],
   "source": [
    "# hide\n",
    "# g['date'] = g['date'].astype('datetime64[ns]')"
   ]
  },
  {
   "cell_type": "code",
   "execution_count": 34,
   "id": "sophisticated-supervisor",
   "metadata": {
    "execution": {
     "iopub.execute_input": "2022-09-08T12:19:02.060854Z",
     "iopub.status.busy": "2022-09-08T12:19:02.060034Z",
     "iopub.status.idle": "2022-09-08T12:19:02.063444Z",
     "shell.execute_reply": "2022-09-08T12:19:02.062687Z"
    },
    "papermill": {
     "duration": 0.049304,
     "end_time": "2022-09-08T12:19:02.063586",
     "exception": false,
     "start_time": "2022-09-08T12:19:02.014282",
     "status": "completed"
    },
    "tags": []
   },
   "outputs": [],
   "source": [
    "#hide\n",
    "# g['date'] = g.date.dt.dayofyear"
   ]
  },
  {
   "cell_type": "code",
   "execution_count": 35,
   "id": "inside-dubai",
   "metadata": {
    "execution": {
     "iopub.execute_input": "2022-09-08T12:19:02.154775Z",
     "iopub.status.busy": "2022-09-08T12:19:02.153950Z",
     "iopub.status.idle": "2022-09-08T12:19:02.157192Z",
     "shell.execute_reply": "2022-09-08T12:19:02.156422Z"
    },
    "papermill": {
     "duration": 0.051721,
     "end_time": "2022-09-08T12:19:02.157431",
     "exception": false,
     "start_time": "2022-09-08T12:19:02.105710",
     "status": "completed"
    },
    "tags": []
   },
   "outputs": [],
   "source": [
    "#hide\n",
    "# g = g.rename(columns= {'continent':'group','country':'name','cases':'value'})"
   ]
  },
  {
   "cell_type": "code",
   "execution_count": 36,
   "id": "fleet-motorcycle",
   "metadata": {
    "execution": {
     "iopub.execute_input": "2022-09-08T12:19:02.247719Z",
     "iopub.status.busy": "2022-09-08T12:19:02.246869Z",
     "iopub.status.idle": "2022-09-08T12:19:02.250076Z",
     "shell.execute_reply": "2022-09-08T12:19:02.250681Z"
    },
    "papermill": {
     "duration": 0.05137,
     "end_time": "2022-09-08T12:19:02.250853",
     "exception": false,
     "start_time": "2022-09-08T12:19:02.199483",
     "status": "completed"
    },
    "tags": []
   },
   "outputs": [],
   "source": [
    "#hide\n",
    "# cols = ['name','group','day','value']"
   ]
  },
  {
   "cell_type": "code",
   "execution_count": 37,
   "id": "continued-sleeping",
   "metadata": {
    "execution": {
     "iopub.execute_input": "2022-09-08T12:19:02.341739Z",
     "iopub.status.busy": "2022-09-08T12:19:02.340939Z",
     "iopub.status.idle": "2022-09-08T12:19:02.345654Z",
     "shell.execute_reply": "2022-09-08T12:19:02.346233Z"
    },
    "papermill": {
     "duration": 0.053272,
     "end_time": "2022-09-08T12:19:02.346507",
     "exception": false,
     "start_time": "2022-09-08T12:19:02.293235",
     "status": "completed"
    },
    "tags": []
   },
   "outputs": [],
   "source": [
    "#hide\n",
    "# g.rename(columns= {'date':'day'},inplace = True)"
   ]
  },
  {
   "cell_type": "code",
   "execution_count": 38,
   "id": "major-fight",
   "metadata": {
    "execution": {
     "iopub.execute_input": "2022-09-08T12:19:02.436818Z",
     "iopub.status.busy": "2022-09-08T12:19:02.436043Z",
     "iopub.status.idle": "2022-09-08T12:19:02.439459Z",
     "shell.execute_reply": "2022-09-08T12:19:02.438760Z"
    },
    "papermill": {
     "duration": 0.050485,
     "end_time": "2022-09-08T12:19:02.439601",
     "exception": false,
     "start_time": "2022-09-08T12:19:02.389116",
     "status": "completed"
    },
    "tags": []
   },
   "outputs": [],
   "source": [
    "#hide\n",
    "# g = g[cols]"
   ]
  },
  {
   "cell_type": "code",
   "execution_count": 39,
   "id": "structured-mobile",
   "metadata": {
    "execution": {
     "iopub.execute_input": "2022-09-08T12:19:02.529970Z",
     "iopub.status.busy": "2022-09-08T12:19:02.529169Z",
     "iopub.status.idle": "2022-09-08T12:19:02.532913Z",
     "shell.execute_reply": "2022-09-08T12:19:02.532145Z"
    },
    "papermill": {
     "duration": 0.051159,
     "end_time": "2022-09-08T12:19:02.533060",
     "exception": false,
     "start_time": "2022-09-08T12:19:02.481901",
     "status": "completed"
    },
    "tags": []
   },
   "outputs": [],
   "source": [
    "# #hide\n",
    "# g = g[g.group.notna()]"
   ]
  },
  {
   "cell_type": "code",
   "execution_count": 40,
   "id": "determined-closing",
   "metadata": {
    "execution": {
     "iopub.execute_input": "2022-09-08T12:19:02.625418Z",
     "iopub.status.busy": "2022-09-08T12:19:02.624615Z",
     "iopub.status.idle": "2022-09-08T12:19:02.627941Z",
     "shell.execute_reply": "2022-09-08T12:19:02.627114Z"
    },
    "papermill": {
     "duration": 0.051133,
     "end_time": "2022-09-08T12:19:02.628123",
     "exception": false,
     "start_time": "2022-09-08T12:19:02.576990",
     "status": "completed"
    },
    "tags": []
   },
   "outputs": [],
   "source": [
    "# #hide\n",
    "# colors = dict(zip(\n",
    "#     [\"Oceania\", \"Europe\", \"Asia\", \"South America\", \"Middle East\", \"North America\", \"Africa\"],\n",
    "#     [\"#adb0ff\", \"#ffb3ff\", \"#90d595\", \"#e48381\", \"#aafbff\", \"#f7bb5f\", \"#eafb50\"]\n",
    "# ))\n",
    "# group_lk = g.set_index('name')['group'].to_dict()"
   ]
  },
  {
   "cell_type": "code",
   "execution_count": null,
   "id": "gross-drinking",
   "metadata": {
    "papermill": {
     "duration": 0.044243,
     "end_time": "2022-09-08T12:19:02.717976",
     "exception": false,
     "start_time": "2022-09-08T12:19:02.673733",
     "status": "completed"
    },
    "tags": []
   },
   "outputs": [],
   "source": []
  },
  {
   "cell_type": "code",
   "execution_count": 41,
   "id": "subject-macintosh",
   "metadata": {
    "execution": {
     "iopub.execute_input": "2022-09-08T12:19:02.813656Z",
     "iopub.status.busy": "2022-09-08T12:19:02.812829Z",
     "iopub.status.idle": "2022-09-08T12:19:02.816784Z",
     "shell.execute_reply": "2022-09-08T12:19:02.815869Z"
    },
    "papermill": {
     "duration": 0.056703,
     "end_time": "2022-09-08T12:19:02.818707",
     "exception": false,
     "start_time": "2022-09-08T12:19:02.762004",
     "status": "completed"
    },
    "tags": []
   },
   "outputs": [],
   "source": [
    "# #hide\n",
    "# fig, ax = plt.subplots(figsize=(15, 8))\n",
    "\n",
    "# def draw_barchart(current_day):\n",
    "#     dff = g[g['day'].eq(current_day)].sort_values(by='value', ascending=True).tail(10)\n",
    "#     ax.clear()\n",
    "#     ax.barh(dff['name'], dff['value'], color=[colors[group_lk[x]] for x in dff['name']])\n",
    "#     dx = dff['value'].max() / 200\n",
    "    \n",
    "#     for i, (value, name) in enumerate(zip(dff['value'], dff['name'])):\n",
    "#         ax.text(value-dx, i,     name,           size=14, weight=600, ha='right', va='bottom')\n",
    "#         ax.text(value-dx, i-.25, group_lk[name], size=10, color='#444444', ha='right', va='baseline')\n",
    "#         ax.text(value+dx, i,     f'{value:,.0f}',  size=14, ha='left',  va='center')\n",
    "#     ax.text(1, 0.4, current_day, transform=ax.transAxes, color='#777777', size=46, ha='right', weight=800)\n",
    "#     ax.text(0, 1.06, 'Population (thousands)', transform=ax.transAxes, size=12, color='#777777')\n",
    "#     ax.xaxis.set_major_formatter(ticker.StrMethodFormatter('{x:,.0f}'))\n",
    "#     ax.xaxis.set_ticks_position('top')\n",
    "#     ax.tick_params(axis='x', colors='#777777', labelsize=12)\n",
    "#     ax.set_yticks([])\n",
    "#     ax.margins(0, 0.01)\n",
    "#     ax.grid(which='major', axis='x', linestyle='-')\n",
    "#     ax.set_axisbelow(True)\n",
    "    \n",
    "#     ax.text(0, 1.15, 'Coronavirus',\n",
    "#             transform=ax.transAxes, size=24, weight=600, ha='left', va='top')\n",
    "# #     ax.text(1, 0, 'by @pratapvardhan; credit @jburnmurdoch', transform=ax.transAxes, color='#777777', ha='right',\n",
    "# #             bbox=dict(facecolor='white', alpha=0.8, edgecolor='white'))\n",
    "#     plt.box(False)"
   ]
  },
  {
   "cell_type": "code",
   "execution_count": 42,
   "id": "sexual-wages",
   "metadata": {
    "execution": {
     "iopub.execute_input": "2022-09-08T12:19:02.911888Z",
     "iopub.status.busy": "2022-09-08T12:19:02.911087Z",
     "iopub.status.idle": "2022-09-08T12:19:02.914550Z",
     "shell.execute_reply": "2022-09-08T12:19:02.913669Z"
    },
    "papermill": {
     "duration": 0.048892,
     "end_time": "2022-09-08T12:19:02.914700",
     "exception": false,
     "start_time": "2022-09-08T12:19:02.865808",
     "status": "completed"
    },
    "tags": []
   },
   "outputs": [],
   "source": [
    "# #hide_input\n",
    "# fig, ax = plt.subplots(figsize=(15, 8))\n",
    "# animator = animation.FuncAnimation(fig, draw_barchart, frames=range(g.day.values.min(), g.day.values.max()))\n",
    "# HTML(animator.to_jshtml())\n",
    "# # or use animator.to_html5_video() or animator.save() "
   ]
  },
  {
   "cell_type": "code",
   "execution_count": null,
   "id": "australian-container",
   "metadata": {
    "papermill": {
     "duration": 0.041299,
     "end_time": "2022-09-08T12:19:02.999004",
     "exception": false,
     "start_time": "2022-09-08T12:19:02.957705",
     "status": "completed"
    },
    "tags": []
   },
   "outputs": [],
   "source": []
  },
  {
   "cell_type": "code",
   "execution_count": null,
   "id": "mediterranean-pontiac",
   "metadata": {
    "papermill": {
     "duration": 0.042719,
     "end_time": "2022-09-08T12:19:03.081327",
     "exception": false,
     "start_time": "2022-09-08T12:19:03.038608",
     "status": "completed"
    },
    "tags": []
   },
   "outputs": [],
   "source": []
  },
  {
   "cell_type": "code",
   "execution_count": null,
   "id": "aging-legislature",
   "metadata": {
    "papermill": {
     "duration": 0.041734,
     "end_time": "2022-09-08T12:19:03.164610",
     "exception": false,
     "start_time": "2022-09-08T12:19:03.122876",
     "status": "completed"
    },
    "tags": []
   },
   "outputs": [],
   "source": []
  }
 ],
 "metadata": {
  "kernelspec": {
   "display_name": "Python 3",
   "language": "python",
   "name": "python3"
  },
  "language_info": {
   "codemirror_mode": {
    "name": "ipython",
    "version": 3
   },
   "file_extension": ".py",
   "mimetype": "text/x-python",
   "name": "python",
   "nbconvert_exporter": "python",
   "pygments_lexer": "ipython3",
   "version": "3.6.15"
  },
  "papermill": {
   "duration": 7.855408,
   "end_time": "2022-09-08T12:19:03.626998",
   "environment_variables": {},
   "exception": null,
   "input_path": "2020-03-21-covid19exp.ipynb",
   "output_path": "2020-03-21-covid19exp.ipynb",
   "parameters": {},
   "start_time": "2022-09-08T12:18:55.771590",
   "version": "2.0.0"
  }
 },
 "nbformat": 4,
 "nbformat_minor": 5
}