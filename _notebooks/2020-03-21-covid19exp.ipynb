{
 "cells": [
  {
   "cell_type": "markdown",
   "id": "muslim-click",
   "metadata": {
    "papermill": {
     "duration": 0.042537,
     "end_time": "2021-08-30T00:23:03.225039",
     "exception": false,
     "start_time": "2021-08-30T00:23:03.182502",
     "status": "completed"
    },
    "tags": []
   },
   "source": [
    "# COVID-19 Case Race\n",
    "> A race chart to see rising cases around the world\n",
    "\n",
    "- author: Hargun Oberoi\n",
    "- image: images/covid-overview.png\n",
    "- hide: false\n",
    "- badges: false"
   ]
  },
  {
   "cell_type": "code",
   "execution_count": 1,
   "id": "proof-material",
   "metadata": {
    "execution": {
     "iopub.execute_input": "2021-08-30T00:23:03.308888Z",
     "iopub.status.busy": "2021-08-30T00:23:03.308241Z",
     "iopub.status.idle": "2021-08-30T00:23:03.689839Z",
     "shell.execute_reply": "2021-08-30T00:23:03.689233Z"
    },
    "papermill": {
     "duration": 0.428663,
     "end_time": "2021-08-30T00:23:03.689994",
     "exception": false,
     "start_time": "2021-08-30T00:23:03.261331",
     "status": "completed"
    },
    "tags": []
   },
   "outputs": [],
   "source": [
    "#hide\n",
    "import numpy as np\n",
    "import pandas as pd\n",
    "from jinja2 import Template\n",
    "from IPython.display import HTML"
   ]
  },
  {
   "cell_type": "code",
   "execution_count": 2,
   "id": "developed-terminology",
   "metadata": {
    "execution": {
     "iopub.execute_input": "2021-08-30T00:23:03.770012Z",
     "iopub.status.busy": "2021-08-30T00:23:03.769316Z",
     "iopub.status.idle": "2021-08-30T00:23:03.771187Z",
     "shell.execute_reply": "2021-08-30T00:23:03.771810Z"
    },
    "papermill": {
     "duration": 0.044478,
     "end_time": "2021-08-30T00:23:03.772022",
     "exception": false,
     "start_time": "2021-08-30T00:23:03.727544",
     "status": "completed"
    },
    "tags": []
   },
   "outputs": [],
   "source": [
    "#hide\n",
    "\n",
    "# FETCH\n",
    "base_url = 'https://raw.githubusercontent.com/pratapvardhan/notebooks/master/covid19/'\n",
    "paths = {\n",
    "    'mapping': base_url + 'mapping_countries.csv',\n",
    "    'overview': base_url + 'overview.tpl'\n",
    "}"
   ]
  },
  {
   "cell_type": "code",
   "execution_count": 3,
   "id": "dynamic-saver",
   "metadata": {
    "execution": {
     "iopub.execute_input": "2021-08-30T00:23:03.856868Z",
     "iopub.status.busy": "2021-08-30T00:23:03.856127Z",
     "iopub.status.idle": "2021-08-30T00:23:03.858845Z",
     "shell.execute_reply": "2021-08-30T00:23:03.859456Z"
    },
    "papermill": {
     "duration": 0.05082,
     "end_time": "2021-08-30T00:23:03.859591",
     "exception": false,
     "start_time": "2021-08-30T00:23:03.808771",
     "status": "completed"
    },
    "tags": []
   },
   "outputs": [
    {
     "data": {
      "text/plain": [
       "'https://raw.githubusercontent.com/pratapvardhan/notebooks/master/covid19/mapping_countries.csv'"
      ]
     },
     "execution_count": 3,
     "metadata": {},
     "output_type": "execute_result"
    }
   ],
   "source": [
    "#hide\n",
    "paths['mapping']"
   ]
  },
  {
   "cell_type": "code",
   "execution_count": 4,
   "id": "urban-software",
   "metadata": {
    "execution": {
     "iopub.execute_input": "2021-08-30T00:23:03.943386Z",
     "iopub.status.busy": "2021-08-30T00:23:03.942642Z",
     "iopub.status.idle": "2021-08-30T00:23:03.945387Z",
     "shell.execute_reply": "2021-08-30T00:23:03.944852Z"
    },
    "papermill": {
     "duration": 0.047265,
     "end_time": "2021-08-30T00:23:03.945536",
     "exception": false,
     "start_time": "2021-08-30T00:23:03.898271",
     "status": "completed"
    },
    "tags": []
   },
   "outputs": [],
   "source": [
    "#hide\n",
    "def get_mappings(url):\n",
    "    df = pd.read_csv(url)\n",
    "    return {\n",
    "        'df': df,\n",
    "        'replace.country': dict(df.dropna(subset=['Name']).set_index('Country')['Name']),\n",
    "        'map.continent': dict(df.set_index('Name')['Continent'])\n",
    "    }"
   ]
  },
  {
   "cell_type": "code",
   "execution_count": 5,
   "id": "intimate-machinery",
   "metadata": {
    "execution": {
     "iopub.execute_input": "2021-08-30T00:23:04.028749Z",
     "iopub.status.busy": "2021-08-30T00:23:04.027961Z",
     "iopub.status.idle": "2021-08-30T00:23:04.083523Z",
     "shell.execute_reply": "2021-08-30T00:23:04.084057Z"
    },
    "papermill": {
     "duration": 0.100051,
     "end_time": "2021-08-30T00:23:04.084226",
     "exception": false,
     "start_time": "2021-08-30T00:23:03.984175",
     "status": "completed"
    },
    "tags": []
   },
   "outputs": [],
   "source": [
    "#hide\n",
    "mapping = get_mappings(paths['mapping'])"
   ]
  },
  {
   "cell_type": "code",
   "execution_count": 6,
   "id": "certified-tactics",
   "metadata": {
    "execution": {
     "iopub.execute_input": "2021-08-30T00:23:04.166306Z",
     "iopub.status.busy": "2021-08-30T00:23:04.165505Z",
     "iopub.status.idle": "2021-08-30T00:23:04.168122Z",
     "shell.execute_reply": "2021-08-30T00:23:04.167415Z"
    },
    "papermill": {
     "duration": 0.046641,
     "end_time": "2021-08-30T00:23:04.168257",
     "exception": false,
     "start_time": "2021-08-30T00:23:04.121616",
     "status": "completed"
    },
    "tags": []
   },
   "outputs": [],
   "source": [
    "#hide\n",
    "def get_template(path):\n",
    "    from urllib.parse import urlparse\n",
    "    if bool(urlparse(path).netloc):\n",
    "        from urllib.request import urlopen\n",
    "        return urlopen(path).read().decode('utf8')\n",
    "    return open(path).read()"
   ]
  },
  {
   "cell_type": "code",
   "execution_count": 7,
   "id": "realistic-blast",
   "metadata": {
    "execution": {
     "iopub.execute_input": "2021-08-30T00:23:04.247596Z",
     "iopub.status.busy": "2021-08-30T00:23:04.246733Z",
     "iopub.status.idle": "2021-08-30T00:23:04.249342Z",
     "shell.execute_reply": "2021-08-30T00:23:04.248787Z"
    },
    "papermill": {
     "duration": 0.044737,
     "end_time": "2021-08-30T00:23:04.249504",
     "exception": false,
     "start_time": "2021-08-30T00:23:04.204767",
     "status": "completed"
    },
    "tags": []
   },
   "outputs": [],
   "source": [
    "#hide\n",
    "def get_frame(name):\n",
    "    url = (\n",
    "        'https://raw.githubusercontent.com/CSSEGISandData/COVID-19/master/csse_covid_19_data/'\n",
    "        f'csse_covid_19_time_series/time_series_covid19_{name}_global.csv')\n",
    "    df = pd.read_csv(url)\n",
    "    # rename countries\n",
    "    df['Country/Region'] = df['Country/Region'].replace(mapping['replace.country'])\n",
    "    return df"
   ]
  },
  {
   "cell_type": "code",
   "execution_count": 8,
   "id": "affiliated-characterization",
   "metadata": {
    "execution": {
     "iopub.execute_input": "2021-08-30T00:23:04.330831Z",
     "iopub.status.busy": "2021-08-30T00:23:04.330116Z",
     "iopub.status.idle": "2021-08-30T00:23:04.331946Z",
     "shell.execute_reply": "2021-08-30T00:23:04.332500Z"
    },
    "papermill": {
     "duration": 0.045614,
     "end_time": "2021-08-30T00:23:04.332638",
     "exception": false,
     "start_time": "2021-08-30T00:23:04.287024",
     "status": "completed"
    },
    "tags": []
   },
   "outputs": [],
   "source": [
    "#hide\n",
    "def get_dates(df):\n",
    "    dt_cols = df.columns[~df.columns.isin(['Province/State', 'Country/Region', 'Lat', 'Long'])]\n",
    "    LAST_DATE_I = -1\n",
    "    # sometimes last column may be empty, then go backwards\n",
    "    for i in range(-1, -len(dt_cols), -1):\n",
    "        if not df[dt_cols[i]].fillna(0).eq(0).all():\n",
    "            LAST_DATE_I = i\n",
    "            break\n",
    "    return LAST_DATE_I, dt_cols"
   ]
  },
  {
   "cell_type": "code",
   "execution_count": 9,
   "id": "recent-optimization",
   "metadata": {
    "execution": {
     "iopub.execute_input": "2021-08-30T00:23:04.414867Z",
     "iopub.status.busy": "2021-08-30T00:23:04.414044Z",
     "iopub.status.idle": "2021-08-30T00:23:04.841356Z",
     "shell.execute_reply": "2021-08-30T00:23:04.841997Z"
    },
    "papermill": {
     "duration": 0.470804,
     "end_time": "2021-08-30T00:23:04.842149",
     "exception": false,
     "start_time": "2021-08-30T00:23:04.371345",
     "status": "completed"
    },
    "tags": []
   },
   "outputs": [],
   "source": [
    "#hide\n",
    "COL_REGION = 'Country/Region'\n",
    "# Confirmed, Recovered, Deaths\n",
    "df = get_frame('confirmed')\n",
    "# dft_: timeseries, dfc_: today country agg\n",
    "dft_cases = df\n",
    "dft_deaths = get_frame('deaths')\n",
    "dft_recovered = get_frame('recovered')\n",
    "LAST_DATE_I, dt_cols = get_dates(df)"
   ]
  },
  {
   "cell_type": "code",
   "execution_count": 10,
   "id": "absolute-copper",
   "metadata": {
    "execution": {
     "iopub.execute_input": "2021-08-30T00:23:04.924974Z",
     "iopub.status.busy": "2021-08-30T00:23:04.924118Z",
     "iopub.status.idle": "2021-08-30T00:23:04.926837Z",
     "shell.execute_reply": "2021-08-30T00:23:04.926290Z"
    },
    "papermill": {
     "duration": 0.046607,
     "end_time": "2021-08-30T00:23:04.926955",
     "exception": false,
     "start_time": "2021-08-30T00:23:04.880348",
     "status": "completed"
    },
    "tags": []
   },
   "outputs": [],
   "source": [
    "#hide\n",
    "LAST_DATE_I, dt_cols = get_dates(df)\n",
    "dt_today =dt_cols[LAST_DATE_I]\n",
    "# dt_5day = dt_cols[LAST_DATE_I - 5]\n",
    "dt_yday = dt_cols[LAST_DATE_I - 1]"
   ]
  },
  {
   "cell_type": "code",
   "execution_count": 11,
   "id": "restricted-sheriff",
   "metadata": {
    "execution": {
     "iopub.execute_input": "2021-08-30T00:23:05.005444Z",
     "iopub.status.busy": "2021-08-30T00:23:05.004620Z",
     "iopub.status.idle": "2021-08-30T00:23:05.014561Z",
     "shell.execute_reply": "2021-08-30T00:23:05.013984Z"
    },
    "papermill": {
     "duration": 0.05135,
     "end_time": "2021-08-30T00:23:05.014694",
     "exception": false,
     "start_time": "2021-08-30T00:23:04.963344",
     "status": "completed"
    },
    "tags": []
   },
   "outputs": [],
   "source": [
    "#hide\n",
    "dfc_cases = dft_cases.groupby(COL_REGION)[dt_today].sum()\n",
    "dfc_deaths = dft_deaths.groupby(COL_REGION)[dt_today].sum()\n",
    "# dfp_cases = dft_cases.groupby(COL_REGION)[dt_5day].sum()\n",
    "# dfp_deaths = dft_deaths.groupby(COL_REGION)[dt_5day].sum()\n",
    "dfp_cases = dft_cases.groupby(COL_REGION)[dt_yday].sum()\n",
    "dfp_deaths = dft_deaths.groupby(COL_REGION)[dt_yday].sum()"
   ]
  },
  {
   "cell_type": "code",
   "execution_count": 12,
   "id": "deluxe-hepatitis",
   "metadata": {
    "execution": {
     "iopub.execute_input": "2021-08-30T00:23:05.096536Z",
     "iopub.status.busy": "2021-08-30T00:23:05.095696Z",
     "iopub.status.idle": "2021-08-30T00:23:05.101977Z",
     "shell.execute_reply": "2021-08-30T00:23:05.101370Z"
    },
    "papermill": {
     "duration": 0.050096,
     "end_time": "2021-08-30T00:23:05.102122",
     "exception": false,
     "start_time": "2021-08-30T00:23:05.052026",
     "status": "completed"
    },
    "tags": []
   },
   "outputs": [],
   "source": [
    "#hide\n",
    "df_table = (pd.DataFrame(dict(Cases = dfc_cases, Deaths = dfc_deaths, PCases = dfp_cases, PDeaths = dfp_deaths))\n",
    "            .sort_values(by = ['Cases','Deaths'], ascending = [False, False])\n",
    "            .reset_index())"
   ]
  },
  {
   "cell_type": "code",
   "execution_count": 13,
   "id": "educational-chancellor",
   "metadata": {
    "execution": {
     "iopub.execute_input": "2021-08-30T00:23:05.197496Z",
     "iopub.status.busy": "2021-08-30T00:23:05.196716Z",
     "iopub.status.idle": "2021-08-30T00:23:05.205813Z",
     "shell.execute_reply": "2021-08-30T00:23:05.206547Z"
    },
    "papermill": {
     "duration": 0.066677,
     "end_time": "2021-08-30T00:23:05.206682",
     "exception": false,
     "start_time": "2021-08-30T00:23:05.140005",
     "status": "completed"
    },
    "tags": []
   },
   "outputs": [
    {
     "data": {
      "text/html": [
       "<div>\n",
       "<style scoped>\n",
       "    .dataframe tbody tr th:only-of-type {\n",
       "        vertical-align: middle;\n",
       "    }\n",
       "\n",
       "    .dataframe tbody tr th {\n",
       "        vertical-align: top;\n",
       "    }\n",
       "\n",
       "    .dataframe thead th {\n",
       "        text-align: right;\n",
       "    }\n",
       "</style>\n",
       "<table border=\"1\" class=\"dataframe\">\n",
       "  <thead>\n",
       "    <tr style=\"text-align: right;\">\n",
       "      <th></th>\n",
       "      <th>Country/Region</th>\n",
       "      <th>Cases</th>\n",
       "      <th>Deaths</th>\n",
       "      <th>PCases</th>\n",
       "      <th>PDeaths</th>\n",
       "      <th>Cases (+)</th>\n",
       "      <th>Deaths (+)</th>\n",
       "      <th>Fatality Rate</th>\n",
       "      <th>Continent</th>\n",
       "    </tr>\n",
       "  </thead>\n",
       "  <tbody>\n",
       "    <tr>\n",
       "      <th>0</th>\n",
       "      <td>US</td>\n",
       "      <td>38760363</td>\n",
       "      <td>637254</td>\n",
       "      <td>38707294</td>\n",
       "      <td>636720</td>\n",
       "      <td>53069</td>\n",
       "      <td>534</td>\n",
       "      <td>1.64</td>\n",
       "      <td>North America</td>\n",
       "    </tr>\n",
       "    <tr>\n",
       "      <th>1</th>\n",
       "      <td>India</td>\n",
       "      <td>32695030</td>\n",
       "      <td>437830</td>\n",
       "      <td>32649947</td>\n",
       "      <td>437370</td>\n",
       "      <td>45083</td>\n",
       "      <td>460</td>\n",
       "      <td>1.34</td>\n",
       "      <td>Asia</td>\n",
       "    </tr>\n",
       "    <tr>\n",
       "      <th>2</th>\n",
       "      <td>Brazil</td>\n",
       "      <td>20728605</td>\n",
       "      <td>579010</td>\n",
       "      <td>20703906</td>\n",
       "      <td>578326</td>\n",
       "      <td>24699</td>\n",
       "      <td>684</td>\n",
       "      <td>2.79</td>\n",
       "      <td>South America</td>\n",
       "    </tr>\n",
       "    <tr>\n",
       "      <th>3</th>\n",
       "      <td>France</td>\n",
       "      <td>6813516</td>\n",
       "      <td>114453</td>\n",
       "      <td>6778133</td>\n",
       "      <td>114291</td>\n",
       "      <td>35383</td>\n",
       "      <td>162</td>\n",
       "      <td>1.68</td>\n",
       "      <td>Europe</td>\n",
       "    </tr>\n",
       "    <tr>\n",
       "      <th>4</th>\n",
       "      <td>Russia</td>\n",
       "      <td>6766667</td>\n",
       "      <td>177679</td>\n",
       "      <td>6747681</td>\n",
       "      <td>176904</td>\n",
       "      <td>18986</td>\n",
       "      <td>775</td>\n",
       "      <td>2.63</td>\n",
       "      <td>Europe</td>\n",
       "    </tr>\n",
       "  </tbody>\n",
       "</table>\n",
       "</div>"
      ],
      "text/plain": [
       "  Country/Region     Cases  Deaths    PCases  PDeaths  Cases (+)  Deaths (+)  \\\n",
       "0             US  38760363  637254  38707294   636720      53069         534   \n",
       "1          India  32695030  437830  32649947   437370      45083         460   \n",
       "2         Brazil  20728605  579010  20703906   578326      24699         684   \n",
       "3         France   6813516  114453   6778133   114291      35383         162   \n",
       "4         Russia   6766667  177679   6747681   176904      18986         775   \n",
       "\n",
       "   Fatality Rate      Continent  \n",
       "0           1.64  North America  \n",
       "1           1.34           Asia  \n",
       "2           2.79  South America  \n",
       "3           1.68         Europe  \n",
       "4           2.63         Europe  "
      ]
     },
     "execution_count": 13,
     "metadata": {},
     "output_type": "execute_result"
    }
   ],
   "source": [
    "#hide\n",
    "for c in 'Cases, Deaths'.split(', '):\n",
    "    df_table[f'{c} (+)'] = (df_table[c] - df_table[f'P{c}']).clip(0)\n",
    "    #Clip ça veut dire, les chiffres negatif sont interdit\n",
    "df_table['Fatality Rate'] = (100* df_table['Deaths']/ df_table['Cases']).round(2)\n",
    "df_table['Continent'] = df_table['Country/Region'].map(mapping['map.continent'])\n",
    "df_table.head(5)"
   ]
  },
  {
   "cell_type": "code",
   "execution_count": 14,
   "id": "aboriginal-bulgaria",
   "metadata": {
    "execution": {
     "iopub.execute_input": "2021-08-30T00:23:05.284757Z",
     "iopub.status.busy": "2021-08-30T00:23:05.284003Z",
     "iopub.status.idle": "2021-08-30T00:23:05.287923Z",
     "shell.execute_reply": "2021-08-30T00:23:05.287387Z"
    },
    "papermill": {
     "duration": 0.045257,
     "end_time": "2021-08-30T00:23:05.288190",
     "exception": false,
     "start_time": "2021-08-30T00:23:05.242933",
     "status": "completed"
    },
    "tags": []
   },
   "outputs": [],
   "source": [
    "#hide\n",
    "#delete problematic countries from table\n",
    "df_table = df_table[~df_table['Country/Region'].isin(['Cape Verde', 'Cruise Ship', 'Kosovo'])]"
   ]
  },
  {
   "cell_type": "code",
   "execution_count": 15,
   "id": "fantastic-effect",
   "metadata": {
    "execution": {
     "iopub.execute_input": "2021-08-30T00:23:05.372373Z",
     "iopub.status.busy": "2021-08-30T00:23:05.370385Z",
     "iopub.status.idle": "2021-08-30T00:23:05.395116Z",
     "shell.execute_reply": "2021-08-30T00:23:05.395669Z"
    },
    "papermill": {
     "duration": 0.070382,
     "end_time": "2021-08-30T00:23:05.395828",
     "exception": false,
     "start_time": "2021-08-30T00:23:05.325446",
     "status": "completed"
    },
    "tags": []
   },
   "outputs": [
    {
     "data": {
      "text/html": [
       "<div>\n",
       "<style scoped>\n",
       "    .dataframe tbody tr th:only-of-type {\n",
       "        vertical-align: middle;\n",
       "    }\n",
       "\n",
       "    .dataframe tbody tr th {\n",
       "        vertical-align: top;\n",
       "    }\n",
       "\n",
       "    .dataframe thead th {\n",
       "        text-align: right;\n",
       "    }\n",
       "</style>\n",
       "<table border=\"1\" class=\"dataframe\">\n",
       "  <thead>\n",
       "    <tr style=\"text-align: right;\">\n",
       "      <th></th>\n",
       "      <th>Country/Region</th>\n",
       "      <th>Cases</th>\n",
       "      <th>Deaths</th>\n",
       "      <th>PCases</th>\n",
       "      <th>PDeaths</th>\n",
       "      <th>Cases (+)</th>\n",
       "      <th>Deaths (+)</th>\n",
       "      <th>Fatality Rate</th>\n",
       "      <th>Continent</th>\n",
       "    </tr>\n",
       "  </thead>\n",
       "  <tbody>\n",
       "    <tr>\n",
       "      <th>0</th>\n",
       "      <td>US</td>\n",
       "      <td>38760363</td>\n",
       "      <td>637254</td>\n",
       "      <td>38707294</td>\n",
       "      <td>636720</td>\n",
       "      <td>53069</td>\n",
       "      <td>534</td>\n",
       "      <td>1.6</td>\n",
       "      <td>North America</td>\n",
       "    </tr>\n",
       "    <tr>\n",
       "      <th>1</th>\n",
       "      <td>India</td>\n",
       "      <td>32695030</td>\n",
       "      <td>437830</td>\n",
       "      <td>32649947</td>\n",
       "      <td>437370</td>\n",
       "      <td>45083</td>\n",
       "      <td>460</td>\n",
       "      <td>1.3</td>\n",
       "      <td>Asia</td>\n",
       "    </tr>\n",
       "    <tr>\n",
       "      <th>2</th>\n",
       "      <td>Brazil</td>\n",
       "      <td>20728605</td>\n",
       "      <td>579010</td>\n",
       "      <td>20703906</td>\n",
       "      <td>578326</td>\n",
       "      <td>24699</td>\n",
       "      <td>684</td>\n",
       "      <td>2.8</td>\n",
       "      <td>South America</td>\n",
       "    </tr>\n",
       "    <tr>\n",
       "      <th>3</th>\n",
       "      <td>France</td>\n",
       "      <td>6813516</td>\n",
       "      <td>114453</td>\n",
       "      <td>6778133</td>\n",
       "      <td>114291</td>\n",
       "      <td>35383</td>\n",
       "      <td>162</td>\n",
       "      <td>1.7</td>\n",
       "      <td>Europe</td>\n",
       "    </tr>\n",
       "    <tr>\n",
       "      <th>4</th>\n",
       "      <td>Russia</td>\n",
       "      <td>6766667</td>\n",
       "      <td>177679</td>\n",
       "      <td>6747681</td>\n",
       "      <td>176904</td>\n",
       "      <td>18986</td>\n",
       "      <td>775</td>\n",
       "      <td>2.6</td>\n",
       "      <td>Europe</td>\n",
       "    </tr>\n",
       "  </tbody>\n",
       "</table>\n",
       "</div>"
      ],
      "text/plain": [
       "  Country/Region     Cases  Deaths    PCases  PDeaths  Cases (+)  Deaths (+)  \\\n",
       "0             US  38760363  637254  38707294   636720      53069         534   \n",
       "1          India  32695030  437830  32649947   437370      45083         460   \n",
       "2         Brazil  20728605  579010  20703906   578326      24699         684   \n",
       "3         France   6813516  114453   6778133   114291      35383         162   \n",
       "4         Russia   6766667  177679   6747681   176904      18986         775   \n",
       "\n",
       "   Fatality Rate      Continent  \n",
       "0            1.6  North America  \n",
       "1            1.3           Asia  \n",
       "2            2.8  South America  \n",
       "3            1.7         Europe  \n",
       "4            2.6         Europe  "
      ]
     },
     "execution_count": 15,
     "metadata": {},
     "output_type": "execute_result"
    }
   ],
   "source": [
    "#hide\n",
    "df_table = (pd.DataFrame(dict(Cases=dfc_cases, Deaths=dfc_deaths, PCases=dfp_cases, PDeaths=dfp_deaths))\n",
    "             .sort_values(by=['Cases', 'Deaths'], ascending=[False, False])\n",
    "             .reset_index())\n",
    "df_table.rename(columns={'index': 'Country/Region'}, inplace=True)\n",
    "for c in 'Cases, Deaths'.split(', '):\n",
    "    df_table[f'{c} (+)'] = (df_table[c] - df_table[f'P{c}']).clip(0)  # DATA BUG\n",
    "df_table['Fatality Rate'] = (100 * df_table['Deaths'] / df_table['Cases']).round(1)\n",
    "df_table['Continent'] = df_table['Country/Region'].map(mapping['map.continent'])\n",
    "df_table.head(5)"
   ]
  },
  {
   "cell_type": "code",
   "execution_count": 16,
   "id": "fewer-occasion",
   "metadata": {
    "execution": {
     "iopub.execute_input": "2021-08-30T00:23:05.478620Z",
     "iopub.status.busy": "2021-08-30T00:23:05.478039Z",
     "iopub.status.idle": "2021-08-30T00:23:05.480744Z",
     "shell.execute_reply": "2021-08-30T00:23:05.481230Z"
    },
    "papermill": {
     "duration": 0.046829,
     "end_time": "2021-08-30T00:23:05.481364",
     "exception": false,
     "start_time": "2021-08-30T00:23:05.434535",
     "status": "completed"
    },
    "tags": []
   },
   "outputs": [],
   "source": [
    "#hide\n",
    "#delete problematic countries from table\n",
    "df_table = df_table[~df_table['Country/Region'].isin(['Cape Verde', 'Cruise Ship', 'Kosovo'])]"
   ]
  },
  {
   "cell_type": "code",
   "execution_count": 17,
   "id": "related-center",
   "metadata": {
    "execution": {
     "iopub.execute_input": "2021-08-30T00:23:05.576544Z",
     "iopub.status.busy": "2021-08-30T00:23:05.575879Z",
     "iopub.status.idle": "2021-08-30T00:23:05.577845Z",
     "shell.execute_reply": "2021-08-30T00:23:05.578309Z"
    },
    "papermill": {
     "duration": 0.060545,
     "end_time": "2021-08-30T00:23:05.578443",
     "exception": false,
     "start_time": "2021-08-30T00:23:05.517898",
     "status": "completed"
    },
    "tags": []
   },
   "outputs": [],
   "source": [
    "#hide\n",
    "metrics = [df_table.columns[index] for index in [1,2,5,6]]\n",
    "# s_china = df_table[df_table['Country/Region'].eq('China')][metrics].sum().add_prefix('China ')\n",
    "s_us = df_table[df_table['Country/Region'].eq('US')][metrics].sum().add_prefix('US ')\n",
    "s_eu = df_table[df_table['Continent'].eq('Europe')][metrics].sum().add_prefix('EU ')\n",
    "s_ind = df_table[df_table['Country/Region'].eq('India')][metrics].sum().add_prefix('India ')\n",
    "summary = {'updated': pd.to_datetime(dt_today), 'since': pd.to_datetime(dt_yday)}\n",
    "summary = {'updated': pd.to_datetime(dt_today), 'since': pd.to_datetime(dt_yday)}\n",
    "summary = {**summary, **df_table[metrics].sum(), **s_ind, **s_us, **s_eu}"
   ]
  },
  {
   "cell_type": "code",
   "execution_count": 18,
   "id": "engaging-syndrome",
   "metadata": {
    "execution": {
     "iopub.execute_input": "2021-08-30T00:23:05.665113Z",
     "iopub.status.busy": "2021-08-30T00:23:05.664415Z",
     "iopub.status.idle": "2021-08-30T00:23:05.682582Z",
     "shell.execute_reply": "2021-08-30T00:23:05.681877Z"
    },
    "papermill": {
     "duration": 0.063573,
     "end_time": "2021-08-30T00:23:05.682772",
     "exception": false,
     "start_time": "2021-08-30T00:23:05.619199",
     "status": "completed"
    },
    "tags": []
   },
   "outputs": [],
   "source": [
    "#hide\n",
    "dft_ct_new_cases = dft_cases.groupby(COL_REGION)[dt_cols].sum().diff(axis=1).fillna(0).astype(int)"
   ]
  },
  {
   "cell_type": "code",
   "execution_count": 19,
   "id": "neutral-assignment",
   "metadata": {
    "execution": {
     "iopub.execute_input": "2021-08-30T00:23:05.770623Z",
     "iopub.status.busy": "2021-08-30T00:23:05.769965Z",
     "iopub.status.idle": "2021-08-30T00:23:05.771910Z",
     "shell.execute_reply": "2021-08-30T00:23:05.772512Z"
    },
    "papermill": {
     "duration": 0.049549,
     "end_time": "2021-08-30T00:23:05.772665",
     "exception": false,
     "start_time": "2021-08-30T00:23:05.723116",
     "status": "completed"
    },
    "tags": []
   },
   "outputs": [],
   "source": [
    "#hide\n",
    "everydaycases = dft_ct_new_cases.cumsum(axis=1)"
   ]
  },
  {
   "cell_type": "code",
   "execution_count": 20,
   "id": "parliamentary-calgary",
   "metadata": {
    "execution": {
     "iopub.execute_input": "2021-08-30T00:23:05.857814Z",
     "iopub.status.busy": "2021-08-30T00:23:05.857101Z",
     "iopub.status.idle": "2021-08-30T00:23:06.511683Z",
     "shell.execute_reply": "2021-08-30T00:23:06.511155Z"
    },
    "papermill": {
     "duration": 0.697709,
     "end_time": "2021-08-30T00:23:06.511821",
     "exception": false,
     "start_time": "2021-08-30T00:23:05.814112",
     "status": "completed"
    },
    "tags": []
   },
   "outputs": [],
   "source": [
    "#hide\n",
    "import pandas as pd\n",
    "import matplotlib.pyplot as plt\n",
    "import matplotlib.ticker as ticker\n",
    "import matplotlib.animation as animation\n",
    "from IPython.display import HTML"
   ]
  },
  {
   "cell_type": "code",
   "execution_count": 21,
   "id": "lasting-extraction",
   "metadata": {
    "execution": {
     "iopub.execute_input": "2021-08-30T00:23:06.599565Z",
     "iopub.status.busy": "2021-08-30T00:23:06.598855Z",
     "iopub.status.idle": "2021-08-30T00:23:06.605463Z",
     "shell.execute_reply": "2021-08-30T00:23:06.604896Z"
    },
    "papermill": {
     "duration": 0.051246,
     "end_time": "2021-08-30T00:23:06.605598",
     "exception": false,
     "start_time": "2021-08-30T00:23:06.554352",
     "status": "completed"
    },
    "tags": []
   },
   "outputs": [],
   "source": [
    "#hide\n",
    "t = everydaycases.stack()"
   ]
  },
  {
   "cell_type": "code",
   "execution_count": 22,
   "id": "premier-sleeve",
   "metadata": {
    "execution": {
     "iopub.execute_input": "2021-08-30T00:23:06.689228Z",
     "iopub.status.busy": "2021-08-30T00:23:06.688595Z",
     "iopub.status.idle": "2021-08-30T00:23:06.697447Z",
     "shell.execute_reply": "2021-08-30T00:23:06.698043Z"
    },
    "papermill": {
     "duration": 0.053367,
     "end_time": "2021-08-30T00:23:06.698193",
     "exception": false,
     "start_time": "2021-08-30T00:23:06.644826",
     "status": "completed"
    },
    "tags": []
   },
   "outputs": [],
   "source": [
    "#hide\n",
    "g = t.reset_index(['Country/Region'])"
   ]
  },
  {
   "cell_type": "code",
   "execution_count": 23,
   "id": "distributed-pittsburgh",
   "metadata": {
    "execution": {
     "iopub.execute_input": "2021-08-30T00:23:06.783376Z",
     "iopub.status.busy": "2021-08-30T00:23:06.782764Z",
     "iopub.status.idle": "2021-08-30T00:23:06.785478Z",
     "shell.execute_reply": "2021-08-30T00:23:06.784870Z"
    },
    "papermill": {
     "duration": 0.046018,
     "end_time": "2021-08-30T00:23:06.785614",
     "exception": false,
     "start_time": "2021-08-30T00:23:06.739596",
     "status": "completed"
    },
    "tags": []
   },
   "outputs": [],
   "source": [
    "#hide\n",
    "g.index.name = 'date'"
   ]
  },
  {
   "cell_type": "code",
   "execution_count": 24,
   "id": "naked-donor",
   "metadata": {
    "execution": {
     "iopub.execute_input": "2021-08-30T00:23:06.865251Z",
     "iopub.status.busy": "2021-08-30T00:23:06.864576Z",
     "iopub.status.idle": "2021-08-30T00:23:06.867241Z",
     "shell.execute_reply": "2021-08-30T00:23:06.866711Z"
    },
    "papermill": {
     "duration": 0.044194,
     "end_time": "2021-08-30T00:23:06.867357",
     "exception": false,
     "start_time": "2021-08-30T00:23:06.823163",
     "status": "completed"
    },
    "tags": []
   },
   "outputs": [],
   "source": [
    "# #hide\n",
    "# g = g.reset_index(['date'])"
   ]
  },
  {
   "cell_type": "code",
   "execution_count": 25,
   "id": "incomplete-mustang",
   "metadata": {
    "execution": {
     "iopub.execute_input": "2021-08-30T00:23:06.946322Z",
     "iopub.status.busy": "2021-08-30T00:23:06.945703Z",
     "iopub.status.idle": "2021-08-30T00:23:06.948275Z",
     "shell.execute_reply": "2021-08-30T00:23:06.947739Z"
    },
    "papermill": {
     "duration": 0.04361,
     "end_time": "2021-08-30T00:23:06.948383",
     "exception": false,
     "start_time": "2021-08-30T00:23:06.904773",
     "status": "completed"
    },
    "tags": []
   },
   "outputs": [],
   "source": [
    "#hide\n",
    "# g.head()"
   ]
  },
  {
   "cell_type": "code",
   "execution_count": 26,
   "id": "specific-kruger",
   "metadata": {
    "execution": {
     "iopub.execute_input": "2021-08-30T00:23:07.028627Z",
     "iopub.status.busy": "2021-08-30T00:23:07.027868Z",
     "iopub.status.idle": "2021-08-30T00:23:07.030545Z",
     "shell.execute_reply": "2021-08-30T00:23:07.030062Z"
    },
    "papermill": {
     "duration": 0.045114,
     "end_time": "2021-08-30T00:23:07.030664",
     "exception": false,
     "start_time": "2021-08-30T00:23:06.985550",
     "status": "completed"
    },
    "tags": []
   },
   "outputs": [],
   "source": [
    "#hide\n",
    "# g.columns = ['date','country','cases']"
   ]
  },
  {
   "cell_type": "code",
   "execution_count": 27,
   "id": "tender-conversion",
   "metadata": {
    "execution": {
     "iopub.execute_input": "2021-08-30T00:23:07.111607Z",
     "iopub.status.busy": "2021-08-30T00:23:07.110854Z",
     "iopub.status.idle": "2021-08-30T00:23:07.113732Z",
     "shell.execute_reply": "2021-08-30T00:23:07.112999Z"
    },
    "papermill": {
     "duration": 0.045683,
     "end_time": "2021-08-30T00:23:07.113921",
     "exception": false,
     "start_time": "2021-08-30T00:23:07.068238",
     "status": "completed"
    },
    "tags": []
   },
   "outputs": [],
   "source": [
    "#hide\n",
    "# g['continent'] = g.country"
   ]
  },
  {
   "cell_type": "code",
   "execution_count": 28,
   "id": "substantial-wilderness",
   "metadata": {
    "execution": {
     "iopub.execute_input": "2021-08-30T00:23:07.194048Z",
     "iopub.status.busy": "2021-08-30T00:23:07.193278Z",
     "iopub.status.idle": "2021-08-30T00:23:07.195451Z",
     "shell.execute_reply": "2021-08-30T00:23:07.195937Z"
    },
    "papermill": {
     "duration": 0.044173,
     "end_time": "2021-08-30T00:23:07.196102",
     "exception": false,
     "start_time": "2021-08-30T00:23:07.151929",
     "status": "completed"
    },
    "tags": []
   },
   "outputs": [],
   "source": [
    "#hide\n",
    "# cols = list(g.columns.values)"
   ]
  },
  {
   "cell_type": "code",
   "execution_count": 29,
   "id": "solved-farming",
   "metadata": {
    "execution": {
     "iopub.execute_input": "2021-08-30T00:23:07.278392Z",
     "iopub.status.busy": "2021-08-30T00:23:07.277769Z",
     "iopub.status.idle": "2021-08-30T00:23:07.279795Z",
     "shell.execute_reply": "2021-08-30T00:23:07.280402Z"
    },
    "papermill": {
     "duration": 0.045364,
     "end_time": "2021-08-30T00:23:07.280546",
     "exception": false,
     "start_time": "2021-08-30T00:23:07.235182",
     "status": "completed"
    },
    "tags": []
   },
   "outputs": [],
   "source": [
    "#hide\n",
    "# cols.insert(0, cols.pop())"
   ]
  },
  {
   "cell_type": "code",
   "execution_count": 30,
   "id": "executed-adoption",
   "metadata": {
    "execution": {
     "iopub.execute_input": "2021-08-30T00:23:07.366261Z",
     "iopub.status.busy": "2021-08-30T00:23:07.365500Z",
     "iopub.status.idle": "2021-08-30T00:23:07.367519Z",
     "shell.execute_reply": "2021-08-30T00:23:07.368130Z"
    },
    "papermill": {
     "duration": 0.048699,
     "end_time": "2021-08-30T00:23:07.368276",
     "exception": false,
     "start_time": "2021-08-30T00:23:07.319577",
     "status": "completed"
    },
    "tags": []
   },
   "outputs": [],
   "source": [
    "#hide\n",
    "# g = g[cols]"
   ]
  },
  {
   "cell_type": "code",
   "execution_count": 31,
   "id": "subject-dublin",
   "metadata": {
    "execution": {
     "iopub.execute_input": "2021-08-30T00:23:07.452538Z",
     "iopub.status.busy": "2021-08-30T00:23:07.451930Z",
     "iopub.status.idle": "2021-08-30T00:23:07.454633Z",
     "shell.execute_reply": "2021-08-30T00:23:07.454134Z"
    },
    "papermill": {
     "duration": 0.045252,
     "end_time": "2021-08-30T00:23:07.454747",
     "exception": false,
     "start_time": "2021-08-30T00:23:07.409495",
     "status": "completed"
    },
    "tags": []
   },
   "outputs": [],
   "source": [
    "#hide\n",
    "# g['continent'] = g['continent'].map(mapping['map.continent'])"
   ]
  },
  {
   "cell_type": "code",
   "execution_count": 32,
   "id": "freelance-scout",
   "metadata": {
    "execution": {
     "iopub.execute_input": "2021-08-30T00:23:07.533027Z",
     "iopub.status.busy": "2021-08-30T00:23:07.532390Z",
     "iopub.status.idle": "2021-08-30T00:23:07.534975Z",
     "shell.execute_reply": "2021-08-30T00:23:07.534438Z"
    },
    "papermill": {
     "duration": 0.042941,
     "end_time": "2021-08-30T00:23:07.535100",
     "exception": false,
     "start_time": "2021-08-30T00:23:07.492159",
     "status": "completed"
    },
    "tags": []
   },
   "outputs": [],
   "source": [
    "#hide\n",
    "# g.head()"
   ]
  },
  {
   "cell_type": "code",
   "execution_count": 33,
   "id": "limited-engine",
   "metadata": {
    "execution": {
     "iopub.execute_input": "2021-08-30T00:23:07.612998Z",
     "iopub.status.busy": "2021-08-30T00:23:07.612333Z",
     "iopub.status.idle": "2021-08-30T00:23:07.614171Z",
     "shell.execute_reply": "2021-08-30T00:23:07.614660Z"
    },
    "papermill": {
     "duration": 0.043811,
     "end_time": "2021-08-30T00:23:07.615842",
     "exception": false,
     "start_time": "2021-08-30T00:23:07.572031",
     "status": "completed"
    },
    "tags": []
   },
   "outputs": [],
   "source": [
    "# hide\n",
    "# g['date'] = g['date'].astype('datetime64[ns]')"
   ]
  },
  {
   "cell_type": "code",
   "execution_count": 34,
   "id": "sophisticated-supervisor",
   "metadata": {
    "execution": {
     "iopub.execute_input": "2021-08-30T00:23:07.694386Z",
     "iopub.status.busy": "2021-08-30T00:23:07.693709Z",
     "iopub.status.idle": "2021-08-30T00:23:07.696346Z",
     "shell.execute_reply": "2021-08-30T00:23:07.695604Z"
    },
    "papermill": {
     "duration": 0.043442,
     "end_time": "2021-08-30T00:23:07.696503",
     "exception": false,
     "start_time": "2021-08-30T00:23:07.653061",
     "status": "completed"
    },
    "tags": []
   },
   "outputs": [],
   "source": [
    "#hide\n",
    "# g['date'] = g.date.dt.dayofyear"
   ]
  },
  {
   "cell_type": "code",
   "execution_count": 35,
   "id": "inside-dubai",
   "metadata": {
    "execution": {
     "iopub.execute_input": "2021-08-30T00:23:07.778033Z",
     "iopub.status.busy": "2021-08-30T00:23:07.777318Z",
     "iopub.status.idle": "2021-08-30T00:23:07.779939Z",
     "shell.execute_reply": "2021-08-30T00:23:07.779297Z"
    },
    "papermill": {
     "duration": 0.045317,
     "end_time": "2021-08-30T00:23:07.780104",
     "exception": false,
     "start_time": "2021-08-30T00:23:07.734787",
     "status": "completed"
    },
    "tags": []
   },
   "outputs": [],
   "source": [
    "#hide\n",
    "# g = g.rename(columns= {'continent':'group','country':'name','cases':'value'})"
   ]
  },
  {
   "cell_type": "code",
   "execution_count": 36,
   "id": "fleet-motorcycle",
   "metadata": {
    "execution": {
     "iopub.execute_input": "2021-08-30T00:23:07.860871Z",
     "iopub.status.busy": "2021-08-30T00:23:07.860214Z",
     "iopub.status.idle": "2021-08-30T00:23:07.862742Z",
     "shell.execute_reply": "2021-08-30T00:23:07.862103Z"
    },
    "papermill": {
     "duration": 0.044831,
     "end_time": "2021-08-30T00:23:07.862867",
     "exception": false,
     "start_time": "2021-08-30T00:23:07.818036",
     "status": "completed"
    },
    "tags": []
   },
   "outputs": [],
   "source": [
    "#hide\n",
    "# cols = ['name','group','day','value']"
   ]
  },
  {
   "cell_type": "code",
   "execution_count": 37,
   "id": "continued-sleeping",
   "metadata": {
    "execution": {
     "iopub.execute_input": "2021-08-30T00:23:07.943595Z",
     "iopub.status.busy": "2021-08-30T00:23:07.943026Z",
     "iopub.status.idle": "2021-08-30T00:23:07.945730Z",
     "shell.execute_reply": "2021-08-30T00:23:07.945150Z"
    },
    "papermill": {
     "duration": 0.043372,
     "end_time": "2021-08-30T00:23:07.945877",
     "exception": false,
     "start_time": "2021-08-30T00:23:07.902505",
     "status": "completed"
    },
    "tags": []
   },
   "outputs": [],
   "source": [
    "#hide\n",
    "# g.rename(columns= {'date':'day'},inplace = True)"
   ]
  },
  {
   "cell_type": "code",
   "execution_count": 38,
   "id": "major-fight",
   "metadata": {
    "execution": {
     "iopub.execute_input": "2021-08-30T00:23:08.028099Z",
     "iopub.status.busy": "2021-08-30T00:23:08.027390Z",
     "iopub.status.idle": "2021-08-30T00:23:08.030210Z",
     "shell.execute_reply": "2021-08-30T00:23:08.029581Z"
    },
    "papermill": {
     "duration": 0.046164,
     "end_time": "2021-08-30T00:23:08.030338",
     "exception": false,
     "start_time": "2021-08-30T00:23:07.984174",
     "status": "completed"
    },
    "tags": []
   },
   "outputs": [],
   "source": [
    "#hide\n",
    "# g = g[cols]"
   ]
  },
  {
   "cell_type": "code",
   "execution_count": 39,
   "id": "structured-mobile",
   "metadata": {
    "execution": {
     "iopub.execute_input": "2021-08-30T00:23:08.118450Z",
     "iopub.status.busy": "2021-08-30T00:23:08.117738Z",
     "iopub.status.idle": "2021-08-30T00:23:08.120453Z",
     "shell.execute_reply": "2021-08-30T00:23:08.119582Z"
    },
    "papermill": {
     "duration": 0.047263,
     "end_time": "2021-08-30T00:23:08.120596",
     "exception": false,
     "start_time": "2021-08-30T00:23:08.073333",
     "status": "completed"
    },
    "tags": []
   },
   "outputs": [],
   "source": [
    "# #hide\n",
    "# g = g[g.group.notna()]"
   ]
  },
  {
   "cell_type": "code",
   "execution_count": 40,
   "id": "determined-closing",
   "metadata": {
    "execution": {
     "iopub.execute_input": "2021-08-30T00:23:08.205963Z",
     "iopub.status.busy": "2021-08-30T00:23:08.205230Z",
     "iopub.status.idle": "2021-08-30T00:23:08.207747Z",
     "shell.execute_reply": "2021-08-30T00:23:08.207121Z"
    },
    "papermill": {
     "duration": 0.047028,
     "end_time": "2021-08-30T00:23:08.207871",
     "exception": false,
     "start_time": "2021-08-30T00:23:08.160843",
     "status": "completed"
    },
    "tags": []
   },
   "outputs": [],
   "source": [
    "# #hide\n",
    "# colors = dict(zip(\n",
    "#     [\"Oceania\", \"Europe\", \"Asia\", \"South America\", \"Middle East\", \"North America\", \"Africa\"],\n",
    "#     [\"#adb0ff\", \"#ffb3ff\", \"#90d595\", \"#e48381\", \"#aafbff\", \"#f7bb5f\", \"#eafb50\"]\n",
    "# ))\n",
    "# group_lk = g.set_index('name')['group'].to_dict()"
   ]
  },
  {
   "cell_type": "code",
   "execution_count": null,
   "id": "gross-drinking",
   "metadata": {
    "papermill": {
     "duration": 0.036674,
     "end_time": "2021-08-30T00:23:08.282934",
     "exception": false,
     "start_time": "2021-08-30T00:23:08.246260",
     "status": "completed"
    },
    "tags": []
   },
   "outputs": [],
   "source": []
  },
  {
   "cell_type": "code",
   "execution_count": 41,
   "id": "subject-macintosh",
   "metadata": {
    "execution": {
     "iopub.execute_input": "2021-08-30T00:23:08.363255Z",
     "iopub.status.busy": "2021-08-30T00:23:08.362359Z",
     "iopub.status.idle": "2021-08-30T00:23:08.364457Z",
     "shell.execute_reply": "2021-08-30T00:23:08.365217Z"
    },
    "papermill": {
     "duration": 0.045375,
     "end_time": "2021-08-30T00:23:08.365369",
     "exception": false,
     "start_time": "2021-08-30T00:23:08.319994",
     "status": "completed"
    },
    "tags": []
   },
   "outputs": [],
   "source": [
    "# #hide\n",
    "# fig, ax = plt.subplots(figsize=(15, 8))\n",
    "\n",
    "# def draw_barchart(current_day):\n",
    "#     dff = g[g['day'].eq(current_day)].sort_values(by='value', ascending=True).tail(10)\n",
    "#     ax.clear()\n",
    "#     ax.barh(dff['name'], dff['value'], color=[colors[group_lk[x]] for x in dff['name']])\n",
    "#     dx = dff['value'].max() / 200\n",
    "    \n",
    "#     for i, (value, name) in enumerate(zip(dff['value'], dff['name'])):\n",
    "#         ax.text(value-dx, i,     name,           size=14, weight=600, ha='right', va='bottom')\n",
    "#         ax.text(value-dx, i-.25, group_lk[name], size=10, color='#444444', ha='right', va='baseline')\n",
    "#         ax.text(value+dx, i,     f'{value:,.0f}',  size=14, ha='left',  va='center')\n",
    "#     ax.text(1, 0.4, current_day, transform=ax.transAxes, color='#777777', size=46, ha='right', weight=800)\n",
    "#     ax.text(0, 1.06, 'Population (thousands)', transform=ax.transAxes, size=12, color='#777777')\n",
    "#     ax.xaxis.set_major_formatter(ticker.StrMethodFormatter('{x:,.0f}'))\n",
    "#     ax.xaxis.set_ticks_position('top')\n",
    "#     ax.tick_params(axis='x', colors='#777777', labelsize=12)\n",
    "#     ax.set_yticks([])\n",
    "#     ax.margins(0, 0.01)\n",
    "#     ax.grid(which='major', axis='x', linestyle='-')\n",
    "#     ax.set_axisbelow(True)\n",
    "    \n",
    "#     ax.text(0, 1.15, 'Coronavirus',\n",
    "#             transform=ax.transAxes, size=24, weight=600, ha='left', va='top')\n",
    "# #     ax.text(1, 0, 'by @pratapvardhan; credit @jburnmurdoch', transform=ax.transAxes, color='#777777', ha='right',\n",
    "# #             bbox=dict(facecolor='white', alpha=0.8, edgecolor='white'))\n",
    "#     plt.box(False)"
   ]
  },
  {
   "cell_type": "code",
   "execution_count": 42,
   "id": "sexual-wages",
   "metadata": {
    "execution": {
     "iopub.execute_input": "2021-08-30T00:23:08.444946Z",
     "iopub.status.busy": "2021-08-30T00:23:08.444320Z",
     "iopub.status.idle": "2021-08-30T00:23:08.446196Z",
     "shell.execute_reply": "2021-08-30T00:23:08.446714Z"
    },
    "papermill": {
     "duration": 0.042271,
     "end_time": "2021-08-30T00:23:08.446840",
     "exception": false,
     "start_time": "2021-08-30T00:23:08.404569",
     "status": "completed"
    },
    "tags": []
   },
   "outputs": [],
   "source": [
    "# #hide_input\n",
    "# fig, ax = plt.subplots(figsize=(15, 8))\n",
    "# animator = animation.FuncAnimation(fig, draw_barchart, frames=range(g.day.values.min(), g.day.values.max()))\n",
    "# HTML(animator.to_jshtml())\n",
    "# # or use animator.to_html5_video() or animator.save() "
   ]
  },
  {
   "cell_type": "code",
   "execution_count": null,
   "id": "australian-container",
   "metadata": {
    "papermill": {
     "duration": 0.038629,
     "end_time": "2021-08-30T00:23:08.524479",
     "exception": false,
     "start_time": "2021-08-30T00:23:08.485850",
     "status": "completed"
    },
    "tags": []
   },
   "outputs": [],
   "source": []
  },
  {
   "cell_type": "code",
   "execution_count": null,
   "id": "mediterranean-pontiac",
   "metadata": {
    "papermill": {
     "duration": 0.039258,
     "end_time": "2021-08-30T00:23:08.602421",
     "exception": false,
     "start_time": "2021-08-30T00:23:08.563163",
     "status": "completed"
    },
    "tags": []
   },
   "outputs": [],
   "source": []
  },
  {
   "cell_type": "code",
   "execution_count": null,
   "id": "aging-legislature",
   "metadata": {
    "papermill": {
     "duration": 0.038099,
     "end_time": "2021-08-30T00:23:08.678292",
     "exception": false,
     "start_time": "2021-08-30T00:23:08.640193",
     "status": "completed"
    },
    "tags": []
   },
   "outputs": [],
   "source": []
  }
 ],
 "metadata": {
  "kernelspec": {
   "display_name": "Python 3",
   "language": "python",
   "name": "python3"
  },
  "language_info": {
   "codemirror_mode": {
    "name": "ipython",
    "version": 3
   },
   "file_extension": ".py",
   "mimetype": "text/x-python",
   "name": "python",
   "nbconvert_exporter": "python",
   "pygments_lexer": "ipython3",
   "version": "3.6.14"
  },
  "papermill": {
   "duration": 7.055537,
   "end_time": "2021-08-30T00:23:09.129938",
   "environment_variables": {},
   "exception": null,
   "input_path": "2020-03-21-covid19exp.ipynb",
   "output_path": "2020-03-21-covid19exp.ipynb",
   "parameters": {},
   "start_time": "2021-08-30T00:23:02.074401",
   "version": "2.0.0"
  }
 },
 "nbformat": 4,
 "nbformat_minor": 5
}