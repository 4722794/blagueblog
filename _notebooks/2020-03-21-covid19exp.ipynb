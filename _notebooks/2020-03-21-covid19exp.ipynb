{
 "cells": [
  {
   "cell_type": "markdown",
   "id": "muslim-click",
   "metadata": {
    "papermill": {
     "duration": 0.034541,
     "end_time": "2022-05-04T00:40:33.831468",
     "exception": false,
     "start_time": "2022-05-04T00:40:33.796927",
     "status": "completed"
    },
    "tags": []
   },
   "source": [
    "# COVID-19 Case Race\n",
    "> A race chart to see rising cases around the world\n",
    "\n",
    "- author: Hargun Oberoi\n",
    "- image: images/covid-overview.png\n",
    "- hide: false\n",
    "- badges: false"
   ]
  },
  {
   "cell_type": "code",
   "execution_count": 1,
   "id": "proof-material",
   "metadata": {
    "execution": {
     "iopub.execute_input": "2022-05-04T00:40:33.903615Z",
     "iopub.status.busy": "2022-05-04T00:40:33.903087Z",
     "iopub.status.idle": "2022-05-04T00:40:34.209406Z",
     "shell.execute_reply": "2022-05-04T00:40:34.208952Z"
    },
    "papermill": {
     "duration": 0.345889,
     "end_time": "2022-05-04T00:40:34.209527",
     "exception": false,
     "start_time": "2022-05-04T00:40:33.863638",
     "status": "completed"
    },
    "tags": []
   },
   "outputs": [],
   "source": [
    "#hide\n",
    "import numpy as np\n",
    "import pandas as pd\n",
    "from jinja2 import Template\n",
    "from IPython.display import HTML"
   ]
  },
  {
   "cell_type": "code",
   "execution_count": 2,
   "id": "developed-terminology",
   "metadata": {
    "execution": {
     "iopub.execute_input": "2022-05-04T00:40:34.275358Z",
     "iopub.status.busy": "2022-05-04T00:40:34.274848Z",
     "iopub.status.idle": "2022-05-04T00:40:34.276355Z",
     "shell.execute_reply": "2022-05-04T00:40:34.276754Z"
    },
    "papermill": {
     "duration": 0.036662,
     "end_time": "2022-05-04T00:40:34.276865",
     "exception": false,
     "start_time": "2022-05-04T00:40:34.240203",
     "status": "completed"
    },
    "tags": []
   },
   "outputs": [],
   "source": [
    "#hide\n",
    "\n",
    "# FETCH\n",
    "base_url = 'https://raw.githubusercontent.com/pratapvardhan/notebooks/master/covid19/'\n",
    "paths = {\n",
    "    'mapping': base_url + 'mapping_countries.csv',\n",
    "    'overview': base_url + 'overview.tpl'\n",
    "}"
   ]
  },
  {
   "cell_type": "code",
   "execution_count": 3,
   "id": "dynamic-saver",
   "metadata": {
    "execution": {
     "iopub.execute_input": "2022-05-04T00:40:34.346440Z",
     "iopub.status.busy": "2022-05-04T00:40:34.345908Z",
     "iopub.status.idle": "2022-05-04T00:40:34.348680Z",
     "shell.execute_reply": "2022-05-04T00:40:34.349094Z"
    },
    "papermill": {
     "duration": 0.041913,
     "end_time": "2022-05-04T00:40:34.349206",
     "exception": false,
     "start_time": "2022-05-04T00:40:34.307293",
     "status": "completed"
    },
    "tags": []
   },
   "outputs": [
    {
     "data": {
      "text/plain": [
       "'https://raw.githubusercontent.com/pratapvardhan/notebooks/master/covid19/mapping_countries.csv'"
      ]
     },
     "execution_count": 3,
     "metadata": {},
     "output_type": "execute_result"
    }
   ],
   "source": [
    "#hide\n",
    "paths['mapping']"
   ]
  },
  {
   "cell_type": "code",
   "execution_count": 4,
   "id": "urban-software",
   "metadata": {
    "execution": {
     "iopub.execute_input": "2022-05-04T00:40:34.415051Z",
     "iopub.status.busy": "2022-05-04T00:40:34.414557Z",
     "iopub.status.idle": "2022-05-04T00:40:34.416246Z",
     "shell.execute_reply": "2022-05-04T00:40:34.416617Z"
    },
    "papermill": {
     "duration": 0.03678,
     "end_time": "2022-05-04T00:40:34.416730",
     "exception": false,
     "start_time": "2022-05-04T00:40:34.379950",
     "status": "completed"
    },
    "tags": []
   },
   "outputs": [],
   "source": [
    "#hide\n",
    "def get_mappings(url):\n",
    "    df = pd.read_csv(url)\n",
    "    return {\n",
    "        'df': df,\n",
    "        'replace.country': dict(df.dropna(subset=['Name']).set_index('Country')['Name']),\n",
    "        'map.continent': dict(df.set_index('Name')['Continent'])\n",
    "    }"
   ]
  },
  {
   "cell_type": "code",
   "execution_count": 5,
   "id": "intimate-machinery",
   "metadata": {
    "execution": {
     "iopub.execute_input": "2022-05-04T00:40:34.482868Z",
     "iopub.status.busy": "2022-05-04T00:40:34.482365Z",
     "iopub.status.idle": "2022-05-04T00:40:34.546521Z",
     "shell.execute_reply": "2022-05-04T00:40:34.546101Z"
    },
    "papermill": {
     "duration": 0.099225,
     "end_time": "2022-05-04T00:40:34.546626",
     "exception": false,
     "start_time": "2022-05-04T00:40:34.447401",
     "status": "completed"
    },
    "tags": []
   },
   "outputs": [],
   "source": [
    "#hide\n",
    "mapping = get_mappings(paths['mapping'])"
   ]
  },
  {
   "cell_type": "code",
   "execution_count": 6,
   "id": "certified-tactics",
   "metadata": {
    "execution": {
     "iopub.execute_input": "2022-05-04T00:40:34.612589Z",
     "iopub.status.busy": "2022-05-04T00:40:34.612095Z",
     "iopub.status.idle": "2022-05-04T00:40:34.613937Z",
     "shell.execute_reply": "2022-05-04T00:40:34.614369Z"
    },
    "papermill": {
     "duration": 0.037068,
     "end_time": "2022-05-04T00:40:34.614481",
     "exception": false,
     "start_time": "2022-05-04T00:40:34.577413",
     "status": "completed"
    },
    "tags": []
   },
   "outputs": [],
   "source": [
    "#hide\n",
    "def get_template(path):\n",
    "    from urllib.parse import urlparse\n",
    "    if bool(urlparse(path).netloc):\n",
    "        from urllib.request import urlopen\n",
    "        return urlopen(path).read().decode('utf8')\n",
    "    return open(path).read()"
   ]
  },
  {
   "cell_type": "code",
   "execution_count": 7,
   "id": "realistic-blast",
   "metadata": {
    "execution": {
     "iopub.execute_input": "2022-05-04T00:40:34.680842Z",
     "iopub.status.busy": "2022-05-04T00:40:34.680324Z",
     "iopub.status.idle": "2022-05-04T00:40:34.682382Z",
     "shell.execute_reply": "2022-05-04T00:40:34.681986Z"
    },
    "papermill": {
     "duration": 0.037149,
     "end_time": "2022-05-04T00:40:34.682479",
     "exception": false,
     "start_time": "2022-05-04T00:40:34.645330",
     "status": "completed"
    },
    "tags": []
   },
   "outputs": [],
   "source": [
    "#hide\n",
    "def get_frame(name):\n",
    "    url = (\n",
    "        'https://raw.githubusercontent.com/CSSEGISandData/COVID-19/master/csse_covid_19_data/'\n",
    "        f'csse_covid_19_time_series/time_series_covid19_{name}_global.csv')\n",
    "    df = pd.read_csv(url)\n",
    "    # rename countries\n",
    "    df['Country/Region'] = df['Country/Region'].replace(mapping['replace.country'])\n",
    "    return df"
   ]
  },
  {
   "cell_type": "code",
   "execution_count": 8,
   "id": "affiliated-characterization",
   "metadata": {
    "execution": {
     "iopub.execute_input": "2022-05-04T00:40:34.749534Z",
     "iopub.status.busy": "2022-05-04T00:40:34.749028Z",
     "iopub.status.idle": "2022-05-04T00:40:34.750790Z",
     "shell.execute_reply": "2022-05-04T00:40:34.751171Z"
    },
    "papermill": {
     "duration": 0.037952,
     "end_time": "2022-05-04T00:40:34.751280",
     "exception": false,
     "start_time": "2022-05-04T00:40:34.713328",
     "status": "completed"
    },
    "tags": []
   },
   "outputs": [],
   "source": [
    "#hide\n",
    "def get_dates(df):\n",
    "    dt_cols = df.columns[~df.columns.isin(['Province/State', 'Country/Region', 'Lat', 'Long'])]\n",
    "    LAST_DATE_I = -1\n",
    "    # sometimes last column may be empty, then go backwards\n",
    "    for i in range(-1, -len(dt_cols), -1):\n",
    "        if not df[dt_cols[i]].fillna(0).eq(0).all():\n",
    "            LAST_DATE_I = i\n",
    "            break\n",
    "    return LAST_DATE_I, dt_cols"
   ]
  },
  {
   "cell_type": "code",
   "execution_count": 9,
   "id": "recent-optimization",
   "metadata": {
    "execution": {
     "iopub.execute_input": "2022-05-04T00:40:34.817534Z",
     "iopub.status.busy": "2022-05-04T00:40:34.817024Z",
     "iopub.status.idle": "2022-05-04T00:40:35.422786Z",
     "shell.execute_reply": "2022-05-04T00:40:35.423230Z"
    },
    "papermill": {
     "duration": 0.641484,
     "end_time": "2022-05-04T00:40:35.423365",
     "exception": false,
     "start_time": "2022-05-04T00:40:34.781881",
     "status": "completed"
    },
    "tags": []
   },
   "outputs": [],
   "source": [
    "#hide\n",
    "COL_REGION = 'Country/Region'\n",
    "# Confirmed, Recovered, Deaths\n",
    "df = get_frame('confirmed')\n",
    "# dft_: timeseries, dfc_: today country agg\n",
    "dft_cases = df\n",
    "dft_deaths = get_frame('deaths')\n",
    "dft_recovered = get_frame('recovered')\n",
    "LAST_DATE_I, dt_cols = get_dates(df)"
   ]
  },
  {
   "cell_type": "code",
   "execution_count": 10,
   "id": "absolute-copper",
   "metadata": {
    "execution": {
     "iopub.execute_input": "2022-05-04T00:40:35.490395Z",
     "iopub.status.busy": "2022-05-04T00:40:35.489826Z",
     "iopub.status.idle": "2022-05-04T00:40:35.491815Z",
     "shell.execute_reply": "2022-05-04T00:40:35.491401Z"
    },
    "papermill": {
     "duration": 0.037245,
     "end_time": "2022-05-04T00:40:35.491913",
     "exception": false,
     "start_time": "2022-05-04T00:40:35.454668",
     "status": "completed"
    },
    "tags": []
   },
   "outputs": [],
   "source": [
    "#hide\n",
    "LAST_DATE_I, dt_cols = get_dates(df)\n",
    "dt_today =dt_cols[LAST_DATE_I]\n",
    "# dt_5day = dt_cols[LAST_DATE_I - 5]\n",
    "dt_yday = dt_cols[LAST_DATE_I - 1]"
   ]
  },
  {
   "cell_type": "code",
   "execution_count": 11,
   "id": "restricted-sheriff",
   "metadata": {
    "execution": {
     "iopub.execute_input": "2022-05-04T00:40:35.558024Z",
     "iopub.status.busy": "2022-05-04T00:40:35.557516Z",
     "iopub.status.idle": "2022-05-04T00:40:35.564006Z",
     "shell.execute_reply": "2022-05-04T00:40:35.564424Z"
    },
    "papermill": {
     "duration": 0.041797,
     "end_time": "2022-05-04T00:40:35.564534",
     "exception": false,
     "start_time": "2022-05-04T00:40:35.522737",
     "status": "completed"
    },
    "tags": []
   },
   "outputs": [],
   "source": [
    "#hide\n",
    "dfc_cases = dft_cases.groupby(COL_REGION)[dt_today].sum()\n",
    "dfc_deaths = dft_deaths.groupby(COL_REGION)[dt_today].sum()\n",
    "# dfp_cases = dft_cases.groupby(COL_REGION)[dt_5day].sum()\n",
    "# dfp_deaths = dft_deaths.groupby(COL_REGION)[dt_5day].sum()\n",
    "dfp_cases = dft_cases.groupby(COL_REGION)[dt_yday].sum()\n",
    "dfp_deaths = dft_deaths.groupby(COL_REGION)[dt_yday].sum()"
   ]
  },
  {
   "cell_type": "code",
   "execution_count": 12,
   "id": "deluxe-hepatitis",
   "metadata": {
    "execution": {
     "iopub.execute_input": "2022-05-04T00:40:35.631121Z",
     "iopub.status.busy": "2022-05-04T00:40:35.630629Z",
     "iopub.status.idle": "2022-05-04T00:40:35.634756Z",
     "shell.execute_reply": "2022-05-04T00:40:35.634355Z"
    },
    "papermill": {
     "duration": 0.039466,
     "end_time": "2022-05-04T00:40:35.634854",
     "exception": false,
     "start_time": "2022-05-04T00:40:35.595388",
     "status": "completed"
    },
    "tags": []
   },
   "outputs": [],
   "source": [
    "#hide\n",
    "df_table = (pd.DataFrame(dict(Cases = dfc_cases, Deaths = dfc_deaths, PCases = dfp_cases, PDeaths = dfp_deaths))\n",
    "            .sort_values(by = ['Cases','Deaths'], ascending = [False, False])\n",
    "            .reset_index())"
   ]
  },
  {
   "cell_type": "code",
   "execution_count": 13,
   "id": "educational-chancellor",
   "metadata": {
    "execution": {
     "iopub.execute_input": "2022-05-04T00:40:35.712179Z",
     "iopub.status.busy": "2022-05-04T00:40:35.698593Z",
     "iopub.status.idle": "2022-05-04T00:40:35.719985Z",
     "shell.execute_reply": "2022-05-04T00:40:35.719584Z"
    },
    "papermill": {
     "duration": 0.054472,
     "end_time": "2022-05-04T00:40:35.720088",
     "exception": false,
     "start_time": "2022-05-04T00:40:35.665616",
     "status": "completed"
    },
    "tags": []
   },
   "outputs": [
    {
     "data": {
      "text/html": [
       "<div>\n",
       "<style scoped>\n",
       "    .dataframe tbody tr th:only-of-type {\n",
       "        vertical-align: middle;\n",
       "    }\n",
       "\n",
       "    .dataframe tbody tr th {\n",
       "        vertical-align: top;\n",
       "    }\n",
       "\n",
       "    .dataframe thead th {\n",
       "        text-align: right;\n",
       "    }\n",
       "</style>\n",
       "<table border=\"1\" class=\"dataframe\">\n",
       "  <thead>\n",
       "    <tr style=\"text-align: right;\">\n",
       "      <th></th>\n",
       "      <th>Country/Region</th>\n",
       "      <th>Cases</th>\n",
       "      <th>Deaths</th>\n",
       "      <th>PCases</th>\n",
       "      <th>PDeaths</th>\n",
       "      <th>Cases (+)</th>\n",
       "      <th>Deaths (+)</th>\n",
       "      <th>Fatality Rate</th>\n",
       "      <th>Continent</th>\n",
       "    </tr>\n",
       "  </thead>\n",
       "  <tbody>\n",
       "    <tr>\n",
       "      <th>0</th>\n",
       "      <td>US</td>\n",
       "      <td>81444332</td>\n",
       "      <td>993999</td>\n",
       "      <td>81362688</td>\n",
       "      <td>993733</td>\n",
       "      <td>81644</td>\n",
       "      <td>266</td>\n",
       "      <td>1.22</td>\n",
       "      <td>North America</td>\n",
       "    </tr>\n",
       "    <tr>\n",
       "      <th>1</th>\n",
       "      <td>India</td>\n",
       "      <td>43084913</td>\n",
       "      <td>523889</td>\n",
       "      <td>43082345</td>\n",
       "      <td>523869</td>\n",
       "      <td>2568</td>\n",
       "      <td>20</td>\n",
       "      <td>1.22</td>\n",
       "      <td>Asia</td>\n",
       "    </tr>\n",
       "    <tr>\n",
       "      <th>2</th>\n",
       "      <td>Brazil</td>\n",
       "      <td>30460997</td>\n",
       "      <td>663838</td>\n",
       "      <td>30454499</td>\n",
       "      <td>663752</td>\n",
       "      <td>6498</td>\n",
       "      <td>86</td>\n",
       "      <td>2.18</td>\n",
       "      <td>South America</td>\n",
       "    </tr>\n",
       "    <tr>\n",
       "      <th>3</th>\n",
       "      <td>France</td>\n",
       "      <td>28881384</td>\n",
       "      <td>147179</td>\n",
       "      <td>28872621</td>\n",
       "      <td>146999</td>\n",
       "      <td>8763</td>\n",
       "      <td>180</td>\n",
       "      <td>0.51</td>\n",
       "      <td>Europe</td>\n",
       "    </tr>\n",
       "    <tr>\n",
       "      <th>4</th>\n",
       "      <td>Germany</td>\n",
       "      <td>24927339</td>\n",
       "      <td>135701</td>\n",
       "      <td>24813817</td>\n",
       "      <td>135461</td>\n",
       "      <td>113522</td>\n",
       "      <td>240</td>\n",
       "      <td>0.54</td>\n",
       "      <td>Europe</td>\n",
       "    </tr>\n",
       "  </tbody>\n",
       "</table>\n",
       "</div>"
      ],
      "text/plain": [
       "  Country/Region     Cases  Deaths    PCases  PDeaths  Cases (+)  Deaths (+)  \\\n",
       "0             US  81444332  993999  81362688   993733      81644         266   \n",
       "1          India  43084913  523889  43082345   523869       2568          20   \n",
       "2         Brazil  30460997  663838  30454499   663752       6498          86   \n",
       "3         France  28881384  147179  28872621   146999       8763         180   \n",
       "4        Germany  24927339  135701  24813817   135461     113522         240   \n",
       "\n",
       "   Fatality Rate      Continent  \n",
       "0           1.22  North America  \n",
       "1           1.22           Asia  \n",
       "2           2.18  South America  \n",
       "3           0.51         Europe  \n",
       "4           0.54         Europe  "
      ]
     },
     "execution_count": 13,
     "metadata": {},
     "output_type": "execute_result"
    }
   ],
   "source": [
    "#hide\n",
    "for c in 'Cases, Deaths'.split(', '):\n",
    "    df_table[f'{c} (+)'] = (df_table[c] - df_table[f'P{c}']).clip(0)\n",
    "    #Clip ça veut dire, les chiffres negatif sont interdit\n",
    "df_table['Fatality Rate'] = (100* df_table['Deaths']/ df_table['Cases']).round(2)\n",
    "df_table['Continent'] = df_table['Country/Region'].map(mapping['map.continent'])\n",
    "df_table.head(5)"
   ]
  },
  {
   "cell_type": "code",
   "execution_count": 14,
   "id": "aboriginal-bulgaria",
   "metadata": {
    "execution": {
     "iopub.execute_input": "2022-05-04T00:40:35.787879Z",
     "iopub.status.busy": "2022-05-04T00:40:35.787365Z",
     "iopub.status.idle": "2022-05-04T00:40:35.789057Z",
     "shell.execute_reply": "2022-05-04T00:40:35.789430Z"
    },
    "papermill": {
     "duration": 0.037901,
     "end_time": "2022-05-04T00:40:35.789545",
     "exception": false,
     "start_time": "2022-05-04T00:40:35.751644",
     "status": "completed"
    },
    "tags": []
   },
   "outputs": [],
   "source": [
    "#hide\n",
    "#delete problematic countries from table\n",
    "df_table = df_table[~df_table['Country/Region'].isin(['Cape Verde', 'Cruise Ship', 'Kosovo'])]"
   ]
  },
  {
   "cell_type": "code",
   "execution_count": 15,
   "id": "fantastic-effect",
   "metadata": {
    "execution": {
     "iopub.execute_input": "2022-05-04T00:40:35.859016Z",
     "iopub.status.busy": "2022-05-04T00:40:35.858514Z",
     "iopub.status.idle": "2022-05-04T00:40:35.874616Z",
     "shell.execute_reply": "2022-05-04T00:40:35.875067Z"
    },
    "papermill": {
     "duration": 0.054566,
     "end_time": "2022-05-04T00:40:35.875179",
     "exception": false,
     "start_time": "2022-05-04T00:40:35.820613",
     "status": "completed"
    },
    "tags": []
   },
   "outputs": [
    {
     "data": {
      "text/html": [
       "<div>\n",
       "<style scoped>\n",
       "    .dataframe tbody tr th:only-of-type {\n",
       "        vertical-align: middle;\n",
       "    }\n",
       "\n",
       "    .dataframe tbody tr th {\n",
       "        vertical-align: top;\n",
       "    }\n",
       "\n",
       "    .dataframe thead th {\n",
       "        text-align: right;\n",
       "    }\n",
       "</style>\n",
       "<table border=\"1\" class=\"dataframe\">\n",
       "  <thead>\n",
       "    <tr style=\"text-align: right;\">\n",
       "      <th></th>\n",
       "      <th>Country/Region</th>\n",
       "      <th>Cases</th>\n",
       "      <th>Deaths</th>\n",
       "      <th>PCases</th>\n",
       "      <th>PDeaths</th>\n",
       "      <th>Cases (+)</th>\n",
       "      <th>Deaths (+)</th>\n",
       "      <th>Fatality Rate</th>\n",
       "      <th>Continent</th>\n",
       "    </tr>\n",
       "  </thead>\n",
       "  <tbody>\n",
       "    <tr>\n",
       "      <th>0</th>\n",
       "      <td>US</td>\n",
       "      <td>81444332</td>\n",
       "      <td>993999</td>\n",
       "      <td>81362688</td>\n",
       "      <td>993733</td>\n",
       "      <td>81644</td>\n",
       "      <td>266</td>\n",
       "      <td>1.2</td>\n",
       "      <td>North America</td>\n",
       "    </tr>\n",
       "    <tr>\n",
       "      <th>1</th>\n",
       "      <td>India</td>\n",
       "      <td>43084913</td>\n",
       "      <td>523889</td>\n",
       "      <td>43082345</td>\n",
       "      <td>523869</td>\n",
       "      <td>2568</td>\n",
       "      <td>20</td>\n",
       "      <td>1.2</td>\n",
       "      <td>Asia</td>\n",
       "    </tr>\n",
       "    <tr>\n",
       "      <th>2</th>\n",
       "      <td>Brazil</td>\n",
       "      <td>30460997</td>\n",
       "      <td>663838</td>\n",
       "      <td>30454499</td>\n",
       "      <td>663752</td>\n",
       "      <td>6498</td>\n",
       "      <td>86</td>\n",
       "      <td>2.2</td>\n",
       "      <td>South America</td>\n",
       "    </tr>\n",
       "    <tr>\n",
       "      <th>3</th>\n",
       "      <td>France</td>\n",
       "      <td>28881384</td>\n",
       "      <td>147179</td>\n",
       "      <td>28872621</td>\n",
       "      <td>146999</td>\n",
       "      <td>8763</td>\n",
       "      <td>180</td>\n",
       "      <td>0.5</td>\n",
       "      <td>Europe</td>\n",
       "    </tr>\n",
       "    <tr>\n",
       "      <th>4</th>\n",
       "      <td>Germany</td>\n",
       "      <td>24927339</td>\n",
       "      <td>135701</td>\n",
       "      <td>24813817</td>\n",
       "      <td>135461</td>\n",
       "      <td>113522</td>\n",
       "      <td>240</td>\n",
       "      <td>0.5</td>\n",
       "      <td>Europe</td>\n",
       "    </tr>\n",
       "  </tbody>\n",
       "</table>\n",
       "</div>"
      ],
      "text/plain": [
       "  Country/Region     Cases  Deaths    PCases  PDeaths  Cases (+)  Deaths (+)  \\\n",
       "0             US  81444332  993999  81362688   993733      81644         266   \n",
       "1          India  43084913  523889  43082345   523869       2568          20   \n",
       "2         Brazil  30460997  663838  30454499   663752       6498          86   \n",
       "3         France  28881384  147179  28872621   146999       8763         180   \n",
       "4        Germany  24927339  135701  24813817   135461     113522         240   \n",
       "\n",
       "   Fatality Rate      Continent  \n",
       "0            1.2  North America  \n",
       "1            1.2           Asia  \n",
       "2            2.2  South America  \n",
       "3            0.5         Europe  \n",
       "4            0.5         Europe  "
      ]
     },
     "execution_count": 15,
     "metadata": {},
     "output_type": "execute_result"
    }
   ],
   "source": [
    "#hide\n",
    "df_table = (pd.DataFrame(dict(Cases=dfc_cases, Deaths=dfc_deaths, PCases=dfp_cases, PDeaths=dfp_deaths))\n",
    "             .sort_values(by=['Cases', 'Deaths'], ascending=[False, False])\n",
    "             .reset_index())\n",
    "df_table.rename(columns={'index': 'Country/Region'}, inplace=True)\n",
    "for c in 'Cases, Deaths'.split(', '):\n",
    "    df_table[f'{c} (+)'] = (df_table[c] - df_table[f'P{c}']).clip(0)  # DATA BUG\n",
    "df_table['Fatality Rate'] = (100 * df_table['Deaths'] / df_table['Cases']).round(1)\n",
    "df_table['Continent'] = df_table['Country/Region'].map(mapping['map.continent'])\n",
    "df_table.head(5)"
   ]
  },
  {
   "cell_type": "code",
   "execution_count": 16,
   "id": "fewer-occasion",
   "metadata": {
    "execution": {
     "iopub.execute_input": "2022-05-04T00:40:35.943539Z",
     "iopub.status.busy": "2022-05-04T00:40:35.943032Z",
     "iopub.status.idle": "2022-05-04T00:40:35.944815Z",
     "shell.execute_reply": "2022-05-04T00:40:35.945196Z"
    },
    "papermill": {
     "duration": 0.038323,
     "end_time": "2022-05-04T00:40:35.945306",
     "exception": false,
     "start_time": "2022-05-04T00:40:35.906983",
     "status": "completed"
    },
    "tags": []
   },
   "outputs": [],
   "source": [
    "#hide\n",
    "#delete problematic countries from table\n",
    "df_table = df_table[~df_table['Country/Region'].isin(['Cape Verde', 'Cruise Ship', 'Kosovo'])]"
   ]
  },
  {
   "cell_type": "code",
   "execution_count": 17,
   "id": "related-center",
   "metadata": {
    "execution": {
     "iopub.execute_input": "2022-05-04T00:40:36.024906Z",
     "iopub.status.busy": "2022-05-04T00:40:36.024395Z",
     "iopub.status.idle": "2022-05-04T00:40:36.026469Z",
     "shell.execute_reply": "2022-05-04T00:40:36.025986Z"
    },
    "papermill": {
     "duration": 0.049632,
     "end_time": "2022-05-04T00:40:36.026567",
     "exception": false,
     "start_time": "2022-05-04T00:40:35.976935",
     "status": "completed"
    },
    "tags": []
   },
   "outputs": [],
   "source": [
    "#hide\n",
    "metrics = [df_table.columns[index] for index in [1,2,5,6]]\n",
    "# s_china = df_table[df_table['Country/Region'].eq('China')][metrics].sum().add_prefix('China ')\n",
    "s_us = df_table[df_table['Country/Region'].eq('US')][metrics].sum().add_prefix('US ')\n",
    "s_eu = df_table[df_table['Continent'].eq('Europe')][metrics].sum().add_prefix('EU ')\n",
    "s_ind = df_table[df_table['Country/Region'].eq('India')][metrics].sum().add_prefix('India ')\n",
    "summary = {'updated': pd.to_datetime(dt_today), 'since': pd.to_datetime(dt_yday)}\n",
    "summary = {'updated': pd.to_datetime(dt_today), 'since': pd.to_datetime(dt_yday)}\n",
    "summary = {**summary, **df_table[metrics].sum(), **s_ind, **s_us, **s_eu}"
   ]
  },
  {
   "cell_type": "code",
   "execution_count": 18,
   "id": "engaging-syndrome",
   "metadata": {
    "execution": {
     "iopub.execute_input": "2022-05-04T00:40:36.096086Z",
     "iopub.status.busy": "2022-05-04T00:40:36.095590Z",
     "iopub.status.idle": "2022-05-04T00:40:36.111854Z",
     "shell.execute_reply": "2022-05-04T00:40:36.111465Z"
    },
    "papermill": {
     "duration": 0.052004,
     "end_time": "2022-05-04T00:40:36.111953",
     "exception": false,
     "start_time": "2022-05-04T00:40:36.059949",
     "status": "completed"
    },
    "tags": []
   },
   "outputs": [],
   "source": [
    "#hide\n",
    "dft_ct_new_cases = dft_cases.groupby(COL_REGION)[dt_cols].sum().diff(axis=1).fillna(0).astype(int)"
   ]
  },
  {
   "cell_type": "code",
   "execution_count": 19,
   "id": "neutral-assignment",
   "metadata": {
    "execution": {
     "iopub.execute_input": "2022-05-04T00:40:36.180852Z",
     "iopub.status.busy": "2022-05-04T00:40:36.180364Z",
     "iopub.status.idle": "2022-05-04T00:40:36.182276Z",
     "shell.execute_reply": "2022-05-04T00:40:36.182644Z"
    },
    "papermill": {
     "duration": 0.038805,
     "end_time": "2022-05-04T00:40:36.182758",
     "exception": false,
     "start_time": "2022-05-04T00:40:36.143953",
     "status": "completed"
    },
    "tags": []
   },
   "outputs": [],
   "source": [
    "#hide\n",
    "everydaycases = dft_ct_new_cases.cumsum(axis=1)"
   ]
  },
  {
   "cell_type": "code",
   "execution_count": 20,
   "id": "parliamentary-calgary",
   "metadata": {
    "execution": {
     "iopub.execute_input": "2022-05-04T00:40:36.249516Z",
     "iopub.status.busy": "2022-05-04T00:40:36.249019Z",
     "iopub.status.idle": "2022-05-04T00:40:36.813192Z",
     "shell.execute_reply": "2022-05-04T00:40:36.812743Z"
    },
    "papermill": {
     "duration": 0.598995,
     "end_time": "2022-05-04T00:40:36.813307",
     "exception": false,
     "start_time": "2022-05-04T00:40:36.214312",
     "status": "completed"
    },
    "tags": []
   },
   "outputs": [],
   "source": [
    "#hide\n",
    "import pandas as pd\n",
    "import matplotlib.pyplot as plt\n",
    "import matplotlib.ticker as ticker\n",
    "import matplotlib.animation as animation\n",
    "from IPython.display import HTML"
   ]
  },
  {
   "cell_type": "code",
   "execution_count": 21,
   "id": "lasting-extraction",
   "metadata": {
    "execution": {
     "iopub.execute_input": "2022-05-04T00:40:36.882612Z",
     "iopub.status.busy": "2022-05-04T00:40:36.882109Z",
     "iopub.status.idle": "2022-05-04T00:40:36.887452Z",
     "shell.execute_reply": "2022-05-04T00:40:36.887839Z"
    },
    "papermill": {
     "duration": 0.042705,
     "end_time": "2022-05-04T00:40:36.887953",
     "exception": false,
     "start_time": "2022-05-04T00:40:36.845248",
     "status": "completed"
    },
    "tags": []
   },
   "outputs": [],
   "source": [
    "#hide\n",
    "t = everydaycases.stack()"
   ]
  },
  {
   "cell_type": "code",
   "execution_count": 22,
   "id": "premier-sleeve",
   "metadata": {
    "execution": {
     "iopub.execute_input": "2022-05-04T00:40:36.955037Z",
     "iopub.status.busy": "2022-05-04T00:40:36.954545Z",
     "iopub.status.idle": "2022-05-04T00:40:36.964148Z",
     "shell.execute_reply": "2022-05-04T00:40:36.963755Z"
    },
    "papermill": {
     "duration": 0.044512,
     "end_time": "2022-05-04T00:40:36.964248",
     "exception": false,
     "start_time": "2022-05-04T00:40:36.919736",
     "status": "completed"
    },
    "tags": []
   },
   "outputs": [],
   "source": [
    "#hide\n",
    "g = t.reset_index(['Country/Region'])"
   ]
  },
  {
   "cell_type": "code",
   "execution_count": 23,
   "id": "distributed-pittsburgh",
   "metadata": {
    "execution": {
     "iopub.execute_input": "2022-05-04T00:40:37.030995Z",
     "iopub.status.busy": "2022-05-04T00:40:37.030501Z",
     "iopub.status.idle": "2022-05-04T00:40:37.032162Z",
     "shell.execute_reply": "2022-05-04T00:40:37.032526Z"
    },
    "papermill": {
     "duration": 0.036708,
     "end_time": "2022-05-04T00:40:37.032639",
     "exception": false,
     "start_time": "2022-05-04T00:40:36.995931",
     "status": "completed"
    },
    "tags": []
   },
   "outputs": [],
   "source": [
    "#hide\n",
    "g.index.name = 'date'"
   ]
  },
  {
   "cell_type": "code",
   "execution_count": 24,
   "id": "naked-donor",
   "metadata": {
    "execution": {
     "iopub.execute_input": "2022-05-04T00:40:37.099165Z",
     "iopub.status.busy": "2022-05-04T00:40:37.098651Z",
     "iopub.status.idle": "2022-05-04T00:40:37.101907Z",
     "shell.execute_reply": "2022-05-04T00:40:37.101501Z"
    },
    "papermill": {
     "duration": 0.037642,
     "end_time": "2022-05-04T00:40:37.102025",
     "exception": false,
     "start_time": "2022-05-04T00:40:37.064383",
     "status": "completed"
    },
    "tags": []
   },
   "outputs": [],
   "source": [
    "# #hide\n",
    "# g = g.reset_index(['date'])"
   ]
  },
  {
   "cell_type": "code",
   "execution_count": 25,
   "id": "incomplete-mustang",
   "metadata": {
    "execution": {
     "iopub.execute_input": "2022-05-04T00:40:37.168381Z",
     "iopub.status.busy": "2022-05-04T00:40:37.167872Z",
     "iopub.status.idle": "2022-05-04T00:40:37.170848Z",
     "shell.execute_reply": "2022-05-04T00:40:37.171228Z"
    },
    "papermill": {
     "duration": 0.037629,
     "end_time": "2022-05-04T00:40:37.171342",
     "exception": false,
     "start_time": "2022-05-04T00:40:37.133713",
     "status": "completed"
    },
    "tags": []
   },
   "outputs": [],
   "source": [
    "#hide\n",
    "# g.head()"
   ]
  },
  {
   "cell_type": "code",
   "execution_count": 26,
   "id": "specific-kruger",
   "metadata": {
    "execution": {
     "iopub.execute_input": "2022-05-04T00:40:37.238341Z",
     "iopub.status.busy": "2022-05-04T00:40:37.237811Z",
     "iopub.status.idle": "2022-05-04T00:40:37.239471Z",
     "shell.execute_reply": "2022-05-04T00:40:37.239874Z"
    },
    "papermill": {
     "duration": 0.036393,
     "end_time": "2022-05-04T00:40:37.239984",
     "exception": false,
     "start_time": "2022-05-04T00:40:37.203591",
     "status": "completed"
    },
    "tags": []
   },
   "outputs": [],
   "source": [
    "#hide\n",
    "# g.columns = ['date','country','cases']"
   ]
  },
  {
   "cell_type": "code",
   "execution_count": 27,
   "id": "tender-conversion",
   "metadata": {
    "execution": {
     "iopub.execute_input": "2022-05-04T00:40:37.306894Z",
     "iopub.status.busy": "2022-05-04T00:40:37.306378Z",
     "iopub.status.idle": "2022-05-04T00:40:37.308327Z",
     "shell.execute_reply": "2022-05-04T00:40:37.307941Z"
    },
    "papermill": {
     "duration": 0.036502,
     "end_time": "2022-05-04T00:40:37.308428",
     "exception": false,
     "start_time": "2022-05-04T00:40:37.271926",
     "status": "completed"
    },
    "tags": []
   },
   "outputs": [],
   "source": [
    "#hide\n",
    "# g['continent'] = g.country"
   ]
  },
  {
   "cell_type": "code",
   "execution_count": 28,
   "id": "substantial-wilderness",
   "metadata": {
    "execution": {
     "iopub.execute_input": "2022-05-04T00:40:37.375156Z",
     "iopub.status.busy": "2022-05-04T00:40:37.374663Z",
     "iopub.status.idle": "2022-05-04T00:40:37.376345Z",
     "shell.execute_reply": "2022-05-04T00:40:37.376711Z"
    },
    "papermill": {
     "duration": 0.036344,
     "end_time": "2022-05-04T00:40:37.376823",
     "exception": false,
     "start_time": "2022-05-04T00:40:37.340479",
     "status": "completed"
    },
    "tags": []
   },
   "outputs": [],
   "source": [
    "#hide\n",
    "# cols = list(g.columns.values)"
   ]
  },
  {
   "cell_type": "code",
   "execution_count": 29,
   "id": "solved-farming",
   "metadata": {
    "execution": {
     "iopub.execute_input": "2022-05-04T00:40:37.443026Z",
     "iopub.status.busy": "2022-05-04T00:40:37.442522Z",
     "iopub.status.idle": "2022-05-04T00:40:37.444207Z",
     "shell.execute_reply": "2022-05-04T00:40:37.444579Z"
    },
    "papermill": {
     "duration": 0.036321,
     "end_time": "2022-05-04T00:40:37.444695",
     "exception": false,
     "start_time": "2022-05-04T00:40:37.408374",
     "status": "completed"
    },
    "tags": []
   },
   "outputs": [],
   "source": [
    "#hide\n",
    "# cols.insert(0, cols.pop())"
   ]
  },
  {
   "cell_type": "code",
   "execution_count": 30,
   "id": "executed-adoption",
   "metadata": {
    "execution": {
     "iopub.execute_input": "2022-05-04T00:40:37.511194Z",
     "iopub.status.busy": "2022-05-04T00:40:37.510690Z",
     "iopub.status.idle": "2022-05-04T00:40:37.512326Z",
     "shell.execute_reply": "2022-05-04T00:40:37.512693Z"
    },
    "papermill": {
     "duration": 0.036361,
     "end_time": "2022-05-04T00:40:37.512805",
     "exception": false,
     "start_time": "2022-05-04T00:40:37.476444",
     "status": "completed"
    },
    "tags": []
   },
   "outputs": [],
   "source": [
    "#hide\n",
    "# g = g[cols]"
   ]
  },
  {
   "cell_type": "code",
   "execution_count": 31,
   "id": "subject-dublin",
   "metadata": {
    "execution": {
     "iopub.execute_input": "2022-05-04T00:40:37.579853Z",
     "iopub.status.busy": "2022-05-04T00:40:37.579343Z",
     "iopub.status.idle": "2022-05-04T00:40:37.582282Z",
     "shell.execute_reply": "2022-05-04T00:40:37.582667Z"
    },
    "papermill": {
     "duration": 0.038215,
     "end_time": "2022-05-04T00:40:37.582785",
     "exception": false,
     "start_time": "2022-05-04T00:40:37.544570",
     "status": "completed"
    },
    "tags": []
   },
   "outputs": [],
   "source": [
    "#hide\n",
    "# g['continent'] = g['continent'].map(mapping['map.continent'])"
   ]
  },
  {
   "cell_type": "code",
   "execution_count": 32,
   "id": "freelance-scout",
   "metadata": {
    "execution": {
     "iopub.execute_input": "2022-05-04T00:40:37.649851Z",
     "iopub.status.busy": "2022-05-04T00:40:37.648835Z",
     "iopub.status.idle": "2022-05-04T00:40:37.650412Z",
     "shell.execute_reply": "2022-05-04T00:40:37.650807Z"
    },
    "papermill": {
     "duration": 0.036535,
     "end_time": "2022-05-04T00:40:37.650917",
     "exception": false,
     "start_time": "2022-05-04T00:40:37.614382",
     "status": "completed"
    },
    "tags": []
   },
   "outputs": [],
   "source": [
    "#hide\n",
    "# g.head()"
   ]
  },
  {
   "cell_type": "code",
   "execution_count": 33,
   "id": "limited-engine",
   "metadata": {
    "execution": {
     "iopub.execute_input": "2022-05-04T00:40:37.717067Z",
     "iopub.status.busy": "2022-05-04T00:40:37.716561Z",
     "iopub.status.idle": "2022-05-04T00:40:37.719935Z",
     "shell.execute_reply": "2022-05-04T00:40:37.719534Z"
    },
    "papermill": {
     "duration": 0.037574,
     "end_time": "2022-05-04T00:40:37.720034",
     "exception": false,
     "start_time": "2022-05-04T00:40:37.682460",
     "status": "completed"
    },
    "tags": []
   },
   "outputs": [],
   "source": [
    "# hide\n",
    "# g['date'] = g['date'].astype('datetime64[ns]')"
   ]
  },
  {
   "cell_type": "code",
   "execution_count": 34,
   "id": "sophisticated-supervisor",
   "metadata": {
    "execution": {
     "iopub.execute_input": "2022-05-04T00:40:37.786561Z",
     "iopub.status.busy": "2022-05-04T00:40:37.786032Z",
     "iopub.status.idle": "2022-05-04T00:40:37.787462Z",
     "shell.execute_reply": "2022-05-04T00:40:37.788019Z"
    },
    "papermill": {
     "duration": 0.036274,
     "end_time": "2022-05-04T00:40:37.788131",
     "exception": false,
     "start_time": "2022-05-04T00:40:37.751857",
     "status": "completed"
    },
    "tags": []
   },
   "outputs": [],
   "source": [
    "#hide\n",
    "# g['date'] = g.date.dt.dayofyear"
   ]
  },
  {
   "cell_type": "code",
   "execution_count": 35,
   "id": "inside-dubai",
   "metadata": {
    "execution": {
     "iopub.execute_input": "2022-05-04T00:40:37.854902Z",
     "iopub.status.busy": "2022-05-04T00:40:37.854389Z",
     "iopub.status.idle": "2022-05-04T00:40:37.856430Z",
     "shell.execute_reply": "2022-05-04T00:40:37.856043Z"
    },
    "papermill": {
     "duration": 0.036751,
     "end_time": "2022-05-04T00:40:37.856526",
     "exception": false,
     "start_time": "2022-05-04T00:40:37.819775",
     "status": "completed"
    },
    "tags": []
   },
   "outputs": [],
   "source": [
    "#hide\n",
    "# g = g.rename(columns= {'continent':'group','country':'name','cases':'value'})"
   ]
  },
  {
   "cell_type": "code",
   "execution_count": 36,
   "id": "fleet-motorcycle",
   "metadata": {
    "execution": {
     "iopub.execute_input": "2022-05-04T00:40:37.922985Z",
     "iopub.status.busy": "2022-05-04T00:40:37.922468Z",
     "iopub.status.idle": "2022-05-04T00:40:37.924129Z",
     "shell.execute_reply": "2022-05-04T00:40:37.924499Z"
    },
    "papermill": {
     "duration": 0.036249,
     "end_time": "2022-05-04T00:40:37.924613",
     "exception": false,
     "start_time": "2022-05-04T00:40:37.888364",
     "status": "completed"
    },
    "tags": []
   },
   "outputs": [],
   "source": [
    "#hide\n",
    "# cols = ['name','group','day','value']"
   ]
  },
  {
   "cell_type": "code",
   "execution_count": 37,
   "id": "continued-sleeping",
   "metadata": {
    "execution": {
     "iopub.execute_input": "2022-05-04T00:40:37.991256Z",
     "iopub.status.busy": "2022-05-04T00:40:37.990735Z",
     "iopub.status.idle": "2022-05-04T00:40:37.992719Z",
     "shell.execute_reply": "2022-05-04T00:40:37.992245Z"
    },
    "papermill": {
     "duration": 0.036194,
     "end_time": "2022-05-04T00:40:37.992813",
     "exception": false,
     "start_time": "2022-05-04T00:40:37.956619",
     "status": "completed"
    },
    "tags": []
   },
   "outputs": [],
   "source": [
    "#hide\n",
    "# g.rename(columns= {'date':'day'},inplace = True)"
   ]
  },
  {
   "cell_type": "code",
   "execution_count": 38,
   "id": "major-fight",
   "metadata": {
    "execution": {
     "iopub.execute_input": "2022-05-04T00:40:38.059217Z",
     "iopub.status.busy": "2022-05-04T00:40:38.058721Z",
     "iopub.status.idle": "2022-05-04T00:40:38.060737Z",
     "shell.execute_reply": "2022-05-04T00:40:38.060331Z"
    },
    "papermill": {
     "duration": 0.036386,
     "end_time": "2022-05-04T00:40:38.060829",
     "exception": false,
     "start_time": "2022-05-04T00:40:38.024443",
     "status": "completed"
    },
    "tags": []
   },
   "outputs": [],
   "source": [
    "#hide\n",
    "# g = g[cols]"
   ]
  },
  {
   "cell_type": "code",
   "execution_count": 39,
   "id": "structured-mobile",
   "metadata": {
    "execution": {
     "iopub.execute_input": "2022-05-04T00:40:38.127107Z",
     "iopub.status.busy": "2022-05-04T00:40:38.126610Z",
     "iopub.status.idle": "2022-05-04T00:40:38.128544Z",
     "shell.execute_reply": "2022-05-04T00:40:38.128130Z"
    },
    "papermill": {
     "duration": 0.036324,
     "end_time": "2022-05-04T00:40:38.128640",
     "exception": false,
     "start_time": "2022-05-04T00:40:38.092316",
     "status": "completed"
    },
    "tags": []
   },
   "outputs": [],
   "source": [
    "# #hide\n",
    "# g = g[g.group.notna()]"
   ]
  },
  {
   "cell_type": "code",
   "execution_count": 40,
   "id": "determined-closing",
   "metadata": {
    "execution": {
     "iopub.execute_input": "2022-05-04T00:40:38.195348Z",
     "iopub.status.busy": "2022-05-04T00:40:38.194829Z",
     "iopub.status.idle": "2022-05-04T00:40:38.196846Z",
     "shell.execute_reply": "2022-05-04T00:40:38.196454Z"
    },
    "papermill": {
     "duration": 0.03664,
     "end_time": "2022-05-04T00:40:38.196944",
     "exception": false,
     "start_time": "2022-05-04T00:40:38.160304",
     "status": "completed"
    },
    "tags": []
   },
   "outputs": [],
   "source": [
    "# #hide\n",
    "# colors = dict(zip(\n",
    "#     [\"Oceania\", \"Europe\", \"Asia\", \"South America\", \"Middle East\", \"North America\", \"Africa\"],\n",
    "#     [\"#adb0ff\", \"#ffb3ff\", \"#90d595\", \"#e48381\", \"#aafbff\", \"#f7bb5f\", \"#eafb50\"]\n",
    "# ))\n",
    "# group_lk = g.set_index('name')['group'].to_dict()"
   ]
  },
  {
   "cell_type": "code",
   "execution_count": null,
   "id": "gross-drinking",
   "metadata": {
    "papermill": {
     "duration": 0.031541,
     "end_time": "2022-05-04T00:40:38.259985",
     "exception": false,
     "start_time": "2022-05-04T00:40:38.228444",
     "status": "completed"
    },
    "tags": []
   },
   "outputs": [],
   "source": []
  },
  {
   "cell_type": "code",
   "execution_count": 41,
   "id": "subject-macintosh",
   "metadata": {
    "execution": {
     "iopub.execute_input": "2022-05-04T00:40:38.327022Z",
     "iopub.status.busy": "2022-05-04T00:40:38.326507Z",
     "iopub.status.idle": "2022-05-04T00:40:38.329547Z",
     "shell.execute_reply": "2022-05-04T00:40:38.329924Z"
    },
    "papermill": {
     "duration": 0.038414,
     "end_time": "2022-05-04T00:40:38.330060",
     "exception": false,
     "start_time": "2022-05-04T00:40:38.291646",
     "status": "completed"
    },
    "tags": []
   },
   "outputs": [],
   "source": [
    "# #hide\n",
    "# fig, ax = plt.subplots(figsize=(15, 8))\n",
    "\n",
    "# def draw_barchart(current_day):\n",
    "#     dff = g[g['day'].eq(current_day)].sort_values(by='value', ascending=True).tail(10)\n",
    "#     ax.clear()\n",
    "#     ax.barh(dff['name'], dff['value'], color=[colors[group_lk[x]] for x in dff['name']])\n",
    "#     dx = dff['value'].max() / 200\n",
    "    \n",
    "#     for i, (value, name) in enumerate(zip(dff['value'], dff['name'])):\n",
    "#         ax.text(value-dx, i,     name,           size=14, weight=600, ha='right', va='bottom')\n",
    "#         ax.text(value-dx, i-.25, group_lk[name], size=10, color='#444444', ha='right', va='baseline')\n",
    "#         ax.text(value+dx, i,     f'{value:,.0f}',  size=14, ha='left',  va='center')\n",
    "#     ax.text(1, 0.4, current_day, transform=ax.transAxes, color='#777777', size=46, ha='right', weight=800)\n",
    "#     ax.text(0, 1.06, 'Population (thousands)', transform=ax.transAxes, size=12, color='#777777')\n",
    "#     ax.xaxis.set_major_formatter(ticker.StrMethodFormatter('{x:,.0f}'))\n",
    "#     ax.xaxis.set_ticks_position('top')\n",
    "#     ax.tick_params(axis='x', colors='#777777', labelsize=12)\n",
    "#     ax.set_yticks([])\n",
    "#     ax.margins(0, 0.01)\n",
    "#     ax.grid(which='major', axis='x', linestyle='-')\n",
    "#     ax.set_axisbelow(True)\n",
    "    \n",
    "#     ax.text(0, 1.15, 'Coronavirus',\n",
    "#             transform=ax.transAxes, size=24, weight=600, ha='left', va='top')\n",
    "# #     ax.text(1, 0, 'by @pratapvardhan; credit @jburnmurdoch', transform=ax.transAxes, color='#777777', ha='right',\n",
    "# #             bbox=dict(facecolor='white', alpha=0.8, edgecolor='white'))\n",
    "#     plt.box(False)"
   ]
  },
  {
   "cell_type": "code",
   "execution_count": 42,
   "id": "sexual-wages",
   "metadata": {
    "execution": {
     "iopub.execute_input": "2022-05-04T00:40:38.396384Z",
     "iopub.status.busy": "2022-05-04T00:40:38.395888Z",
     "iopub.status.idle": "2022-05-04T00:40:38.397983Z",
     "shell.execute_reply": "2022-05-04T00:40:38.397571Z"
    },
    "papermill": {
     "duration": 0.036455,
     "end_time": "2022-05-04T00:40:38.398083",
     "exception": false,
     "start_time": "2022-05-04T00:40:38.361628",
     "status": "completed"
    },
    "tags": []
   },
   "outputs": [],
   "source": [
    "# #hide_input\n",
    "# fig, ax = plt.subplots(figsize=(15, 8))\n",
    "# animator = animation.FuncAnimation(fig, draw_barchart, frames=range(g.day.values.min(), g.day.values.max()))\n",
    "# HTML(animator.to_jshtml())\n",
    "# # or use animator.to_html5_video() or animator.save() "
   ]
  },
  {
   "cell_type": "code",
   "execution_count": null,
   "id": "australian-container",
   "metadata": {
    "papermill": {
     "duration": 0.031461,
     "end_time": "2022-05-04T00:40:38.461088",
     "exception": false,
     "start_time": "2022-05-04T00:40:38.429627",
     "status": "completed"
    },
    "tags": []
   },
   "outputs": [],
   "source": []
  },
  {
   "cell_type": "code",
   "execution_count": null,
   "id": "mediterranean-pontiac",
   "metadata": {
    "papermill": {
     "duration": 0.031312,
     "end_time": "2022-05-04T00:40:38.523795",
     "exception": false,
     "start_time": "2022-05-04T00:40:38.492483",
     "status": "completed"
    },
    "tags": []
   },
   "outputs": [],
   "source": []
  },
  {
   "cell_type": "code",
   "execution_count": null,
   "id": "aging-legislature",
   "metadata": {
    "papermill": {
     "duration": 0.031443,
     "end_time": "2022-05-04T00:40:38.586915",
     "exception": false,
     "start_time": "2022-05-04T00:40:38.555472",
     "status": "completed"
    },
    "tags": []
   },
   "outputs": [],
   "source": []
  }
 ],
 "metadata": {
  "kernelspec": {
   "display_name": "Python 3",
   "language": "python",
   "name": "python3"
  },
  "language_info": {
   "codemirror_mode": {
    "name": "ipython",
    "version": 3
   },
   "file_extension": ".py",
   "mimetype": "text/x-python",
   "name": "python",
   "nbconvert_exporter": "python",
   "pygments_lexer": "ipython3",
   "version": "3.6.15"
  },
  "papermill": {
   "duration": 6.052619,
   "end_time": "2022-05-04T00:40:38.935877",
   "environment_variables": {},
   "exception": null,
   "input_path": "2020-03-21-covid19exp.ipynb",
   "output_path": "2020-03-21-covid19exp.ipynb",
   "parameters": {},
   "start_time": "2022-05-04T00:40:32.883258",
   "version": "2.0.0"
  }
 },
 "nbformat": 4,
 "nbformat_minor": 5
}