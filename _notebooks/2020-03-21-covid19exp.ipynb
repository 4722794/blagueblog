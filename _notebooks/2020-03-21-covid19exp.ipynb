{
 "cells": [
  {
   "cell_type": "markdown",
   "id": "muslim-click",
   "metadata": {
    "papermill": {
     "duration": 0.041926,
     "end_time": "2022-02-23T00:34:49.617412",
     "exception": false,
     "start_time": "2022-02-23T00:34:49.575486",
     "status": "completed"
    },
    "tags": []
   },
   "source": [
    "# COVID-19 Case Race\n",
    "> A race chart to see rising cases around the world\n",
    "\n",
    "- author: Hargun Oberoi\n",
    "- image: images/covid-overview.png\n",
    "- hide: false\n",
    "- badges: false"
   ]
  },
  {
   "cell_type": "code",
   "execution_count": 1,
   "id": "proof-material",
   "metadata": {
    "execution": {
     "iopub.execute_input": "2022-02-23T00:34:49.700806Z",
     "iopub.status.busy": "2022-02-23T00:34:49.700183Z",
     "iopub.status.idle": "2022-02-23T00:34:50.077197Z",
     "shell.execute_reply": "2022-02-23T00:34:50.076271Z"
    },
    "papermill": {
     "duration": 0.424794,
     "end_time": "2022-02-23T00:34:50.077442",
     "exception": false,
     "start_time": "2022-02-23T00:34:49.652648",
     "status": "completed"
    },
    "tags": []
   },
   "outputs": [],
   "source": [
    "#hide\n",
    "import numpy as np\n",
    "import pandas as pd\n",
    "from jinja2 import Template\n",
    "from IPython.display import HTML"
   ]
  },
  {
   "cell_type": "code",
   "execution_count": 2,
   "id": "developed-terminology",
   "metadata": {
    "execution": {
     "iopub.execute_input": "2022-02-23T00:34:50.153939Z",
     "iopub.status.busy": "2022-02-23T00:34:50.153314Z",
     "iopub.status.idle": "2022-02-23T00:34:50.156878Z",
     "shell.execute_reply": "2022-02-23T00:34:50.157327Z"
    },
    "papermill": {
     "duration": 0.044813,
     "end_time": "2022-02-23T00:34:50.157476",
     "exception": false,
     "start_time": "2022-02-23T00:34:50.112663",
     "status": "completed"
    },
    "tags": []
   },
   "outputs": [],
   "source": [
    "#hide\n",
    "\n",
    "# FETCH\n",
    "base_url = 'https://raw.githubusercontent.com/pratapvardhan/notebooks/master/covid19/'\n",
    "paths = {\n",
    "    'mapping': base_url + 'mapping_countries.csv',\n",
    "    'overview': base_url + 'overview.tpl'\n",
    "}"
   ]
  },
  {
   "cell_type": "code",
   "execution_count": 3,
   "id": "dynamic-saver",
   "metadata": {
    "execution": {
     "iopub.execute_input": "2022-02-23T00:34:50.237639Z",
     "iopub.status.busy": "2022-02-23T00:34:50.237019Z",
     "iopub.status.idle": "2022-02-23T00:34:50.239687Z",
     "shell.execute_reply": "2022-02-23T00:34:50.240191Z"
    },
    "papermill": {
     "duration": 0.049752,
     "end_time": "2022-02-23T00:34:50.240340",
     "exception": false,
     "start_time": "2022-02-23T00:34:50.190588",
     "status": "completed"
    },
    "tags": []
   },
   "outputs": [
    {
     "data": {
      "text/plain": [
       "'https://raw.githubusercontent.com/pratapvardhan/notebooks/master/covid19/mapping_countries.csv'"
      ]
     },
     "execution_count": 3,
     "metadata": {},
     "output_type": "execute_result"
    }
   ],
   "source": [
    "#hide\n",
    "paths['mapping']"
   ]
  },
  {
   "cell_type": "code",
   "execution_count": 4,
   "id": "urban-software",
   "metadata": {
    "execution": {
     "iopub.execute_input": "2022-02-23T00:34:50.316158Z",
     "iopub.status.busy": "2022-02-23T00:34:50.315091Z",
     "iopub.status.idle": "2022-02-23T00:34:50.318159Z",
     "shell.execute_reply": "2022-02-23T00:34:50.317676Z"
    },
    "papermill": {
     "duration": 0.044412,
     "end_time": "2022-02-23T00:34:50.318283",
     "exception": false,
     "start_time": "2022-02-23T00:34:50.273871",
     "status": "completed"
    },
    "tags": []
   },
   "outputs": [],
   "source": [
    "#hide\n",
    "def get_mappings(url):\n",
    "    df = pd.read_csv(url)\n",
    "    return {\n",
    "        'df': df,\n",
    "        'replace.country': dict(df.dropna(subset=['Name']).set_index('Country')['Name']),\n",
    "        'map.continent': dict(df.set_index('Name')['Continent'])\n",
    "    }"
   ]
  },
  {
   "cell_type": "code",
   "execution_count": 5,
   "id": "intimate-machinery",
   "metadata": {
    "execution": {
     "iopub.execute_input": "2022-02-23T00:34:50.391449Z",
     "iopub.status.busy": "2022-02-23T00:34:50.390814Z",
     "iopub.status.idle": "2022-02-23T00:34:50.422350Z",
     "shell.execute_reply": "2022-02-23T00:34:50.421508Z"
    },
    "papermill": {
     "duration": 0.070788,
     "end_time": "2022-02-23T00:34:50.422561",
     "exception": false,
     "start_time": "2022-02-23T00:34:50.351773",
     "status": "completed"
    },
    "tags": []
   },
   "outputs": [],
   "source": [
    "#hide\n",
    "mapping = get_mappings(paths['mapping'])"
   ]
  },
  {
   "cell_type": "code",
   "execution_count": 6,
   "id": "certified-tactics",
   "metadata": {
    "execution": {
     "iopub.execute_input": "2022-02-23T00:34:50.500125Z",
     "iopub.status.busy": "2022-02-23T00:34:50.499492Z",
     "iopub.status.idle": "2022-02-23T00:34:50.503649Z",
     "shell.execute_reply": "2022-02-23T00:34:50.503157Z"
    },
    "papermill": {
     "duration": 0.045191,
     "end_time": "2022-02-23T00:34:50.503776",
     "exception": false,
     "start_time": "2022-02-23T00:34:50.458585",
     "status": "completed"
    },
    "tags": []
   },
   "outputs": [],
   "source": [
    "#hide\n",
    "def get_template(path):\n",
    "    from urllib.parse import urlparse\n",
    "    if bool(urlparse(path).netloc):\n",
    "        from urllib.request import urlopen\n",
    "        return urlopen(path).read().decode('utf8')\n",
    "    return open(path).read()"
   ]
  },
  {
   "cell_type": "code",
   "execution_count": 7,
   "id": "realistic-blast",
   "metadata": {
    "execution": {
     "iopub.execute_input": "2022-02-23T00:34:50.579141Z",
     "iopub.status.busy": "2022-02-23T00:34:50.578048Z",
     "iopub.status.idle": "2022-02-23T00:34:50.582187Z",
     "shell.execute_reply": "2022-02-23T00:34:50.581695Z"
    },
    "papermill": {
     "duration": 0.044802,
     "end_time": "2022-02-23T00:34:50.582314",
     "exception": false,
     "start_time": "2022-02-23T00:34:50.537512",
     "status": "completed"
    },
    "tags": []
   },
   "outputs": [],
   "source": [
    "#hide\n",
    "def get_frame(name):\n",
    "    url = (\n",
    "        'https://raw.githubusercontent.com/CSSEGISandData/COVID-19/master/csse_covid_19_data/'\n",
    "        f'csse_covid_19_time_series/time_series_covid19_{name}_global.csv')\n",
    "    df = pd.read_csv(url)\n",
    "    # rename countries\n",
    "    df['Country/Region'] = df['Country/Region'].replace(mapping['replace.country'])\n",
    "    return df"
   ]
  },
  {
   "cell_type": "code",
   "execution_count": 8,
   "id": "affiliated-characterization",
   "metadata": {
    "execution": {
     "iopub.execute_input": "2022-02-23T00:34:50.656985Z",
     "iopub.status.busy": "2022-02-23T00:34:50.656291Z",
     "iopub.status.idle": "2022-02-23T00:34:50.657921Z",
     "shell.execute_reply": "2022-02-23T00:34:50.658449Z"
    },
    "papermill": {
     "duration": 0.042719,
     "end_time": "2022-02-23T00:34:50.658605",
     "exception": false,
     "start_time": "2022-02-23T00:34:50.615886",
     "status": "completed"
    },
    "tags": []
   },
   "outputs": [],
   "source": [
    "#hide\n",
    "def get_dates(df):\n",
    "    dt_cols = df.columns[~df.columns.isin(['Province/State', 'Country/Region', 'Lat', 'Long'])]\n",
    "    LAST_DATE_I = -1\n",
    "    # sometimes last column may be empty, then go backwards\n",
    "    for i in range(-1, -len(dt_cols), -1):\n",
    "        if not df[dt_cols[i]].fillna(0).eq(0).all():\n",
    "            LAST_DATE_I = i\n",
    "            break\n",
    "    return LAST_DATE_I, dt_cols"
   ]
  },
  {
   "cell_type": "code",
   "execution_count": 9,
   "id": "recent-optimization",
   "metadata": {
    "execution": {
     "iopub.execute_input": "2022-02-23T00:34:50.732373Z",
     "iopub.status.busy": "2022-02-23T00:34:50.731619Z",
     "iopub.status.idle": "2022-02-23T00:34:51.133014Z",
     "shell.execute_reply": "2022-02-23T00:34:51.131739Z"
    },
    "papermill": {
     "duration": 0.440857,
     "end_time": "2022-02-23T00:34:51.133166",
     "exception": false,
     "start_time": "2022-02-23T00:34:50.692309",
     "status": "completed"
    },
    "tags": []
   },
   "outputs": [],
   "source": [
    "#hide\n",
    "COL_REGION = 'Country/Region'\n",
    "# Confirmed, Recovered, Deaths\n",
    "df = get_frame('confirmed')\n",
    "# dft_: timeseries, dfc_: today country agg\n",
    "dft_cases = df\n",
    "dft_deaths = get_frame('deaths')\n",
    "dft_recovered = get_frame('recovered')\n",
    "LAST_DATE_I, dt_cols = get_dates(df)"
   ]
  },
  {
   "cell_type": "code",
   "execution_count": 10,
   "id": "absolute-copper",
   "metadata": {
    "execution": {
     "iopub.execute_input": "2022-02-23T00:34:51.206433Z",
     "iopub.status.busy": "2022-02-23T00:34:51.205389Z",
     "iopub.status.idle": "2022-02-23T00:34:51.207597Z",
     "shell.execute_reply": "2022-02-23T00:34:51.208417Z"
    },
    "papermill": {
     "duration": 0.04251,
     "end_time": "2022-02-23T00:34:51.208649",
     "exception": false,
     "start_time": "2022-02-23T00:34:51.166139",
     "status": "completed"
    },
    "tags": []
   },
   "outputs": [],
   "source": [
    "#hide\n",
    "LAST_DATE_I, dt_cols = get_dates(df)\n",
    "dt_today =dt_cols[LAST_DATE_I]\n",
    "# dt_5day = dt_cols[LAST_DATE_I - 5]\n",
    "dt_yday = dt_cols[LAST_DATE_I - 1]"
   ]
  },
  {
   "cell_type": "code",
   "execution_count": 11,
   "id": "restricted-sheriff",
   "metadata": {
    "execution": {
     "iopub.execute_input": "2022-02-23T00:34:51.284261Z",
     "iopub.status.busy": "2022-02-23T00:34:51.283622Z",
     "iopub.status.idle": "2022-02-23T00:34:51.290955Z",
     "shell.execute_reply": "2022-02-23T00:34:51.291447Z"
    },
    "papermill": {
     "duration": 0.04946,
     "end_time": "2022-02-23T00:34:51.291601",
     "exception": false,
     "start_time": "2022-02-23T00:34:51.242141",
     "status": "completed"
    },
    "tags": []
   },
   "outputs": [],
   "source": [
    "#hide\n",
    "dfc_cases = dft_cases.groupby(COL_REGION)[dt_today].sum()\n",
    "dfc_deaths = dft_deaths.groupby(COL_REGION)[dt_today].sum()\n",
    "# dfp_cases = dft_cases.groupby(COL_REGION)[dt_5day].sum()\n",
    "# dfp_deaths = dft_deaths.groupby(COL_REGION)[dt_5day].sum()\n",
    "dfp_cases = dft_cases.groupby(COL_REGION)[dt_yday].sum()\n",
    "dfp_deaths = dft_deaths.groupby(COL_REGION)[dt_yday].sum()"
   ]
  },
  {
   "cell_type": "code",
   "execution_count": 12,
   "id": "deluxe-hepatitis",
   "metadata": {
    "execution": {
     "iopub.execute_input": "2022-02-23T00:34:51.366349Z",
     "iopub.status.busy": "2022-02-23T00:34:51.365757Z",
     "iopub.status.idle": "2022-02-23T00:34:51.370250Z",
     "shell.execute_reply": "2022-02-23T00:34:51.370754Z"
    },
    "papermill": {
     "duration": 0.045603,
     "end_time": "2022-02-23T00:34:51.370887",
     "exception": false,
     "start_time": "2022-02-23T00:34:51.325284",
     "status": "completed"
    },
    "tags": []
   },
   "outputs": [],
   "source": [
    "#hide\n",
    "df_table = (pd.DataFrame(dict(Cases = dfc_cases, Deaths = dfc_deaths, PCases = dfp_cases, PDeaths = dfp_deaths))\n",
    "            .sort_values(by = ['Cases','Deaths'], ascending = [False, False])\n",
    "            .reset_index())"
   ]
  },
  {
   "cell_type": "code",
   "execution_count": 13,
   "id": "educational-chancellor",
   "metadata": {
    "execution": {
     "iopub.execute_input": "2022-02-23T00:34:51.446008Z",
     "iopub.status.busy": "2022-02-23T00:34:51.445248Z",
     "iopub.status.idle": "2022-02-23T00:34:51.465224Z",
     "shell.execute_reply": "2022-02-23T00:34:51.464740Z"
    },
    "papermill": {
     "duration": 0.061241,
     "end_time": "2022-02-23T00:34:51.465352",
     "exception": false,
     "start_time": "2022-02-23T00:34:51.404111",
     "status": "completed"
    },
    "tags": []
   },
   "outputs": [
    {
     "data": {
      "text/html": [
       "<div>\n",
       "<style scoped>\n",
       "    .dataframe tbody tr th:only-of-type {\n",
       "        vertical-align: middle;\n",
       "    }\n",
       "\n",
       "    .dataframe tbody tr th {\n",
       "        vertical-align: top;\n",
       "    }\n",
       "\n",
       "    .dataframe thead th {\n",
       "        text-align: right;\n",
       "    }\n",
       "</style>\n",
       "<table border=\"1\" class=\"dataframe\">\n",
       "  <thead>\n",
       "    <tr style=\"text-align: right;\">\n",
       "      <th></th>\n",
       "      <th>Country/Region</th>\n",
       "      <th>Cases</th>\n",
       "      <th>Deaths</th>\n",
       "      <th>PCases</th>\n",
       "      <th>PDeaths</th>\n",
       "      <th>Cases (+)</th>\n",
       "      <th>Deaths (+)</th>\n",
       "      <th>Fatality Rate</th>\n",
       "      <th>Continent</th>\n",
       "    </tr>\n",
       "  </thead>\n",
       "  <tbody>\n",
       "    <tr>\n",
       "      <th>0</th>\n",
       "      <td>US</td>\n",
       "      <td>78529099</td>\n",
       "      <td>936764</td>\n",
       "      <td>78479134</td>\n",
       "      <td>936109</td>\n",
       "      <td>49965</td>\n",
       "      <td>655</td>\n",
       "      <td>1.19</td>\n",
       "      <td>North America</td>\n",
       "    </tr>\n",
       "    <tr>\n",
       "      <th>1</th>\n",
       "      <td>India</td>\n",
       "      <td>42851929</td>\n",
       "      <td>512344</td>\n",
       "      <td>42838524</td>\n",
       "      <td>512109</td>\n",
       "      <td>13405</td>\n",
       "      <td>235</td>\n",
       "      <td>1.20</td>\n",
       "      <td>Asia</td>\n",
       "    </tr>\n",
       "    <tr>\n",
       "      <th>2</th>\n",
       "      <td>Brazil</td>\n",
       "      <td>28258458</td>\n",
       "      <td>644918</td>\n",
       "      <td>28218180</td>\n",
       "      <td>644592</td>\n",
       "      <td>40278</td>\n",
       "      <td>326</td>\n",
       "      <td>2.28</td>\n",
       "      <td>South America</td>\n",
       "    </tr>\n",
       "    <tr>\n",
       "      <th>3</th>\n",
       "      <td>France</td>\n",
       "      <td>22466076</td>\n",
       "      <td>133663</td>\n",
       "      <td>22445580</td>\n",
       "      <td>137596</td>\n",
       "      <td>20496</td>\n",
       "      <td>0</td>\n",
       "      <td>0.59</td>\n",
       "      <td>Europe</td>\n",
       "    </tr>\n",
       "    <tr>\n",
       "      <th>4</th>\n",
       "      <td>United Kingdom</td>\n",
       "      <td>18785333</td>\n",
       "      <td>161179</td>\n",
       "      <td>18746592</td>\n",
       "      <td>161148</td>\n",
       "      <td>38741</td>\n",
       "      <td>31</td>\n",
       "      <td>0.86</td>\n",
       "      <td>Europe</td>\n",
       "    </tr>\n",
       "  </tbody>\n",
       "</table>\n",
       "</div>"
      ],
      "text/plain": [
       "   Country/Region     Cases  Deaths    PCases  PDeaths  Cases (+)  Deaths (+)  \\\n",
       "0              US  78529099  936764  78479134   936109      49965         655   \n",
       "1           India  42851929  512344  42838524   512109      13405         235   \n",
       "2          Brazil  28258458  644918  28218180   644592      40278         326   \n",
       "3          France  22466076  133663  22445580   137596      20496           0   \n",
       "4  United Kingdom  18785333  161179  18746592   161148      38741          31   \n",
       "\n",
       "   Fatality Rate      Continent  \n",
       "0           1.19  North America  \n",
       "1           1.20           Asia  \n",
       "2           2.28  South America  \n",
       "3           0.59         Europe  \n",
       "4           0.86         Europe  "
      ]
     },
     "execution_count": 13,
     "metadata": {},
     "output_type": "execute_result"
    }
   ],
   "source": [
    "#hide\n",
    "for c in 'Cases, Deaths'.split(', '):\n",
    "    df_table[f'{c} (+)'] = (df_table[c] - df_table[f'P{c}']).clip(0)\n",
    "    #Clip ça veut dire, les chiffres negatif sont interdit\n",
    "df_table['Fatality Rate'] = (100* df_table['Deaths']/ df_table['Cases']).round(2)\n",
    "df_table['Continent'] = df_table['Country/Region'].map(mapping['map.continent'])\n",
    "df_table.head(5)"
   ]
  },
  {
   "cell_type": "code",
   "execution_count": 14,
   "id": "aboriginal-bulgaria",
   "metadata": {
    "execution": {
     "iopub.execute_input": "2022-02-23T00:34:51.542294Z",
     "iopub.status.busy": "2022-02-23T00:34:51.541235Z",
     "iopub.status.idle": "2022-02-23T00:34:51.546143Z",
     "shell.execute_reply": "2022-02-23T00:34:51.545668Z"
    },
    "papermill": {
     "duration": 0.047183,
     "end_time": "2022-02-23T00:34:51.546265",
     "exception": false,
     "start_time": "2022-02-23T00:34:51.499082",
     "status": "completed"
    },
    "tags": []
   },
   "outputs": [],
   "source": [
    "#hide\n",
    "#delete problematic countries from table\n",
    "df_table = df_table[~df_table['Country/Region'].isin(['Cape Verde', 'Cruise Ship', 'Kosovo'])]"
   ]
  },
  {
   "cell_type": "code",
   "execution_count": 15,
   "id": "fantastic-effect",
   "metadata": {
    "execution": {
     "iopub.execute_input": "2022-02-23T00:34:51.623035Z",
     "iopub.status.busy": "2022-02-23T00:34:51.621986Z",
     "iopub.status.idle": "2022-02-23T00:34:51.640443Z",
     "shell.execute_reply": "2022-02-23T00:34:51.640952Z"
    },
    "papermill": {
     "duration": 0.06098,
     "end_time": "2022-02-23T00:34:51.641096",
     "exception": false,
     "start_time": "2022-02-23T00:34:51.580116",
     "status": "completed"
    },
    "tags": []
   },
   "outputs": [
    {
     "data": {
      "text/html": [
       "<div>\n",
       "<style scoped>\n",
       "    .dataframe tbody tr th:only-of-type {\n",
       "        vertical-align: middle;\n",
       "    }\n",
       "\n",
       "    .dataframe tbody tr th {\n",
       "        vertical-align: top;\n",
       "    }\n",
       "\n",
       "    .dataframe thead th {\n",
       "        text-align: right;\n",
       "    }\n",
       "</style>\n",
       "<table border=\"1\" class=\"dataframe\">\n",
       "  <thead>\n",
       "    <tr style=\"text-align: right;\">\n",
       "      <th></th>\n",
       "      <th>Country/Region</th>\n",
       "      <th>Cases</th>\n",
       "      <th>Deaths</th>\n",
       "      <th>PCases</th>\n",
       "      <th>PDeaths</th>\n",
       "      <th>Cases (+)</th>\n",
       "      <th>Deaths (+)</th>\n",
       "      <th>Fatality Rate</th>\n",
       "      <th>Continent</th>\n",
       "    </tr>\n",
       "  </thead>\n",
       "  <tbody>\n",
       "    <tr>\n",
       "      <th>0</th>\n",
       "      <td>US</td>\n",
       "      <td>78529099</td>\n",
       "      <td>936764</td>\n",
       "      <td>78479134</td>\n",
       "      <td>936109</td>\n",
       "      <td>49965</td>\n",
       "      <td>655</td>\n",
       "      <td>1.2</td>\n",
       "      <td>North America</td>\n",
       "    </tr>\n",
       "    <tr>\n",
       "      <th>1</th>\n",
       "      <td>India</td>\n",
       "      <td>42851929</td>\n",
       "      <td>512344</td>\n",
       "      <td>42838524</td>\n",
       "      <td>512109</td>\n",
       "      <td>13405</td>\n",
       "      <td>235</td>\n",
       "      <td>1.2</td>\n",
       "      <td>Asia</td>\n",
       "    </tr>\n",
       "    <tr>\n",
       "      <th>2</th>\n",
       "      <td>Brazil</td>\n",
       "      <td>28258458</td>\n",
       "      <td>644918</td>\n",
       "      <td>28218180</td>\n",
       "      <td>644592</td>\n",
       "      <td>40278</td>\n",
       "      <td>326</td>\n",
       "      <td>2.3</td>\n",
       "      <td>South America</td>\n",
       "    </tr>\n",
       "    <tr>\n",
       "      <th>3</th>\n",
       "      <td>France</td>\n",
       "      <td>22466076</td>\n",
       "      <td>133663</td>\n",
       "      <td>22445580</td>\n",
       "      <td>137596</td>\n",
       "      <td>20496</td>\n",
       "      <td>0</td>\n",
       "      <td>0.6</td>\n",
       "      <td>Europe</td>\n",
       "    </tr>\n",
       "    <tr>\n",
       "      <th>4</th>\n",
       "      <td>United Kingdom</td>\n",
       "      <td>18785333</td>\n",
       "      <td>161179</td>\n",
       "      <td>18746592</td>\n",
       "      <td>161148</td>\n",
       "      <td>38741</td>\n",
       "      <td>31</td>\n",
       "      <td>0.9</td>\n",
       "      <td>Europe</td>\n",
       "    </tr>\n",
       "  </tbody>\n",
       "</table>\n",
       "</div>"
      ],
      "text/plain": [
       "   Country/Region     Cases  Deaths    PCases  PDeaths  Cases (+)  Deaths (+)  \\\n",
       "0              US  78529099  936764  78479134   936109      49965         655   \n",
       "1           India  42851929  512344  42838524   512109      13405         235   \n",
       "2          Brazil  28258458  644918  28218180   644592      40278         326   \n",
       "3          France  22466076  133663  22445580   137596      20496           0   \n",
       "4  United Kingdom  18785333  161179  18746592   161148      38741          31   \n",
       "\n",
       "   Fatality Rate      Continent  \n",
       "0            1.2  North America  \n",
       "1            1.2           Asia  \n",
       "2            2.3  South America  \n",
       "3            0.6         Europe  \n",
       "4            0.9         Europe  "
      ]
     },
     "execution_count": 15,
     "metadata": {},
     "output_type": "execute_result"
    }
   ],
   "source": [
    "#hide\n",
    "df_table = (pd.DataFrame(dict(Cases=dfc_cases, Deaths=dfc_deaths, PCases=dfp_cases, PDeaths=dfp_deaths))\n",
    "             .sort_values(by=['Cases', 'Deaths'], ascending=[False, False])\n",
    "             .reset_index())\n",
    "df_table.rename(columns={'index': 'Country/Region'}, inplace=True)\n",
    "for c in 'Cases, Deaths'.split(', '):\n",
    "    df_table[f'{c} (+)'] = (df_table[c] - df_table[f'P{c}']).clip(0)  # DATA BUG\n",
    "df_table['Fatality Rate'] = (100 * df_table['Deaths'] / df_table['Cases']).round(1)\n",
    "df_table['Continent'] = df_table['Country/Region'].map(mapping['map.continent'])\n",
    "df_table.head(5)"
   ]
  },
  {
   "cell_type": "code",
   "execution_count": 16,
   "id": "fewer-occasion",
   "metadata": {
    "execution": {
     "iopub.execute_input": "2022-02-23T00:34:51.717686Z",
     "iopub.status.busy": "2022-02-23T00:34:51.717084Z",
     "iopub.status.idle": "2022-02-23T00:34:51.719330Z",
     "shell.execute_reply": "2022-02-23T00:34:51.719813Z"
    },
    "papermill": {
     "duration": 0.044443,
     "end_time": "2022-02-23T00:34:51.719952",
     "exception": false,
     "start_time": "2022-02-23T00:34:51.675509",
     "status": "completed"
    },
    "tags": []
   },
   "outputs": [],
   "source": [
    "#hide\n",
    "#delete problematic countries from table\n",
    "df_table = df_table[~df_table['Country/Region'].isin(['Cape Verde', 'Cruise Ship', 'Kosovo'])]"
   ]
  },
  {
   "cell_type": "code",
   "execution_count": 17,
   "id": "related-center",
   "metadata": {
    "execution": {
     "iopub.execute_input": "2022-02-23T00:34:51.811493Z",
     "iopub.status.busy": "2022-02-23T00:34:51.796986Z",
     "iopub.status.idle": "2022-02-23T00:34:51.814071Z",
     "shell.execute_reply": "2022-02-23T00:34:51.813596Z"
    },
    "papermill": {
     "duration": 0.060119,
     "end_time": "2022-02-23T00:34:51.814198",
     "exception": false,
     "start_time": "2022-02-23T00:34:51.754079",
     "status": "completed"
    },
    "tags": []
   },
   "outputs": [],
   "source": [
    "#hide\n",
    "metrics = [df_table.columns[index] for index in [1,2,5,6]]\n",
    "# s_china = df_table[df_table['Country/Region'].eq('China')][metrics].sum().add_prefix('China ')\n",
    "s_us = df_table[df_table['Country/Region'].eq('US')][metrics].sum().add_prefix('US ')\n",
    "s_eu = df_table[df_table['Continent'].eq('Europe')][metrics].sum().add_prefix('EU ')\n",
    "s_ind = df_table[df_table['Country/Region'].eq('India')][metrics].sum().add_prefix('India ')\n",
    "summary = {'updated': pd.to_datetime(dt_today), 'since': pd.to_datetime(dt_yday)}\n",
    "summary = {'updated': pd.to_datetime(dt_today), 'since': pd.to_datetime(dt_yday)}\n",
    "summary = {**summary, **df_table[metrics].sum(), **s_ind, **s_us, **s_eu}"
   ]
  },
  {
   "cell_type": "code",
   "execution_count": 18,
   "id": "engaging-syndrome",
   "metadata": {
    "execution": {
     "iopub.execute_input": "2022-02-23T00:34:51.891148Z",
     "iopub.status.busy": "2022-02-23T00:34:51.887500Z",
     "iopub.status.idle": "2022-02-23T00:34:51.905674Z",
     "shell.execute_reply": "2022-02-23T00:34:51.906153Z"
    },
    "papermill": {
     "duration": 0.057565,
     "end_time": "2022-02-23T00:34:51.906307",
     "exception": false,
     "start_time": "2022-02-23T00:34:51.848742",
     "status": "completed"
    },
    "tags": []
   },
   "outputs": [],
   "source": [
    "#hide\n",
    "dft_ct_new_cases = dft_cases.groupby(COL_REGION)[dt_cols].sum().diff(axis=1).fillna(0).astype(int)"
   ]
  },
  {
   "cell_type": "code",
   "execution_count": 19,
   "id": "neutral-assignment",
   "metadata": {
    "execution": {
     "iopub.execute_input": "2022-02-23T00:34:51.983421Z",
     "iopub.status.busy": "2022-02-23T00:34:51.982796Z",
     "iopub.status.idle": "2022-02-23T00:34:51.985501Z",
     "shell.execute_reply": "2022-02-23T00:34:51.985025Z"
    },
    "papermill": {
     "duration": 0.045119,
     "end_time": "2022-02-23T00:34:51.985633",
     "exception": false,
     "start_time": "2022-02-23T00:34:51.940514",
     "status": "completed"
    },
    "tags": []
   },
   "outputs": [],
   "source": [
    "#hide\n",
    "everydaycases = dft_ct_new_cases.cumsum(axis=1)"
   ]
  },
  {
   "cell_type": "code",
   "execution_count": 20,
   "id": "parliamentary-calgary",
   "metadata": {
    "execution": {
     "iopub.execute_input": "2022-02-23T00:34:52.059739Z",
     "iopub.status.busy": "2022-02-23T00:34:52.059114Z",
     "iopub.status.idle": "2022-02-23T00:34:52.781588Z",
     "shell.execute_reply": "2022-02-23T00:34:52.780695Z"
    },
    "papermill": {
     "duration": 0.761965,
     "end_time": "2022-02-23T00:34:52.781805",
     "exception": false,
     "start_time": "2022-02-23T00:34:52.019840",
     "status": "completed"
    },
    "tags": []
   },
   "outputs": [],
   "source": [
    "#hide\n",
    "import pandas as pd\n",
    "import matplotlib.pyplot as plt\n",
    "import matplotlib.ticker as ticker\n",
    "import matplotlib.animation as animation\n",
    "from IPython.display import HTML"
   ]
  },
  {
   "cell_type": "code",
   "execution_count": 21,
   "id": "lasting-extraction",
   "metadata": {
    "execution": {
     "iopub.execute_input": "2022-02-23T00:34:52.859313Z",
     "iopub.status.busy": "2022-02-23T00:34:52.858684Z",
     "iopub.status.idle": "2022-02-23T00:34:52.865004Z",
     "shell.execute_reply": "2022-02-23T00:34:52.865477Z"
    },
    "papermill": {
     "duration": 0.047875,
     "end_time": "2022-02-23T00:34:52.865629",
     "exception": false,
     "start_time": "2022-02-23T00:34:52.817754",
     "status": "completed"
    },
    "tags": []
   },
   "outputs": [],
   "source": [
    "#hide\n",
    "t = everydaycases.stack()"
   ]
  },
  {
   "cell_type": "code",
   "execution_count": 22,
   "id": "premier-sleeve",
   "metadata": {
    "execution": {
     "iopub.execute_input": "2022-02-23T00:34:52.939675Z",
     "iopub.status.busy": "2022-02-23T00:34:52.939008Z",
     "iopub.status.idle": "2022-02-23T00:34:52.953619Z",
     "shell.execute_reply": "2022-02-23T00:34:52.953137Z"
    },
    "papermill": {
     "duration": 0.054361,
     "end_time": "2022-02-23T00:34:52.953747",
     "exception": false,
     "start_time": "2022-02-23T00:34:52.899386",
     "status": "completed"
    },
    "tags": []
   },
   "outputs": [],
   "source": [
    "#hide\n",
    "g = t.reset_index(['Country/Region'])"
   ]
  },
  {
   "cell_type": "code",
   "execution_count": 23,
   "id": "distributed-pittsburgh",
   "metadata": {
    "execution": {
     "iopub.execute_input": "2022-02-23T00:34:53.028444Z",
     "iopub.status.busy": "2022-02-23T00:34:53.027837Z",
     "iopub.status.idle": "2022-02-23T00:34:53.031908Z",
     "shell.execute_reply": "2022-02-23T00:34:53.031429Z"
    },
    "papermill": {
     "duration": 0.043878,
     "end_time": "2022-02-23T00:34:53.032035",
     "exception": false,
     "start_time": "2022-02-23T00:34:52.988157",
     "status": "completed"
    },
    "tags": []
   },
   "outputs": [],
   "source": [
    "#hide\n",
    "g.index.name = 'date'"
   ]
  },
  {
   "cell_type": "code",
   "execution_count": 24,
   "id": "naked-donor",
   "metadata": {
    "execution": {
     "iopub.execute_input": "2022-02-23T00:34:53.104888Z",
     "iopub.status.busy": "2022-02-23T00:34:53.104279Z",
     "iopub.status.idle": "2022-02-23T00:34:53.106559Z",
     "shell.execute_reply": "2022-02-23T00:34:53.105972Z"
    },
    "papermill": {
     "duration": 0.04019,
     "end_time": "2022-02-23T00:34:53.106684",
     "exception": false,
     "start_time": "2022-02-23T00:34:53.066494",
     "status": "completed"
    },
    "tags": []
   },
   "outputs": [],
   "source": [
    "# #hide\n",
    "# g = g.reset_index(['date'])"
   ]
  },
  {
   "cell_type": "code",
   "execution_count": 25,
   "id": "incomplete-mustang",
   "metadata": {
    "execution": {
     "iopub.execute_input": "2022-02-23T00:34:53.180536Z",
     "iopub.status.busy": "2022-02-23T00:34:53.179932Z",
     "iopub.status.idle": "2022-02-23T00:34:53.181711Z",
     "shell.execute_reply": "2022-02-23T00:34:53.182154Z"
    },
    "papermill": {
     "duration": 0.040939,
     "end_time": "2022-02-23T00:34:53.182298",
     "exception": false,
     "start_time": "2022-02-23T00:34:53.141359",
     "status": "completed"
    },
    "tags": []
   },
   "outputs": [],
   "source": [
    "#hide\n",
    "# g.head()"
   ]
  },
  {
   "cell_type": "code",
   "execution_count": 26,
   "id": "specific-kruger",
   "metadata": {
    "execution": {
     "iopub.execute_input": "2022-02-23T00:34:53.257009Z",
     "iopub.status.busy": "2022-02-23T00:34:53.255746Z",
     "iopub.status.idle": "2022-02-23T00:34:53.258131Z",
     "shell.execute_reply": "2022-02-23T00:34:53.258937Z"
    },
    "papermill": {
     "duration": 0.042454,
     "end_time": "2022-02-23T00:34:53.259193",
     "exception": false,
     "start_time": "2022-02-23T00:34:53.216739",
     "status": "completed"
    },
    "tags": []
   },
   "outputs": [],
   "source": [
    "#hide\n",
    "# g.columns = ['date','country','cases']"
   ]
  },
  {
   "cell_type": "code",
   "execution_count": 27,
   "id": "tender-conversion",
   "metadata": {
    "execution": {
     "iopub.execute_input": "2022-02-23T00:34:53.333705Z",
     "iopub.status.busy": "2022-02-23T00:34:53.333090Z",
     "iopub.status.idle": "2022-02-23T00:34:53.335501Z",
     "shell.execute_reply": "2022-02-23T00:34:53.334958Z"
    },
    "papermill": {
     "duration": 0.041442,
     "end_time": "2022-02-23T00:34:53.335622",
     "exception": false,
     "start_time": "2022-02-23T00:34:53.294180",
     "status": "completed"
    },
    "tags": []
   },
   "outputs": [],
   "source": [
    "#hide\n",
    "# g['continent'] = g.country"
   ]
  },
  {
   "cell_type": "code",
   "execution_count": 28,
   "id": "substantial-wilderness",
   "metadata": {
    "execution": {
     "iopub.execute_input": "2022-02-23T00:34:53.409687Z",
     "iopub.status.busy": "2022-02-23T00:34:53.409098Z",
     "iopub.status.idle": "2022-02-23T00:34:53.411637Z",
     "shell.execute_reply": "2022-02-23T00:34:53.412223Z"
    },
    "papermill": {
     "duration": 0.04188,
     "end_time": "2022-02-23T00:34:53.412372",
     "exception": false,
     "start_time": "2022-02-23T00:34:53.370492",
     "status": "completed"
    },
    "tags": []
   },
   "outputs": [],
   "source": [
    "#hide\n",
    "# cols = list(g.columns.values)"
   ]
  },
  {
   "cell_type": "code",
   "execution_count": 29,
   "id": "solved-farming",
   "metadata": {
    "execution": {
     "iopub.execute_input": "2022-02-23T00:34:53.486271Z",
     "iopub.status.busy": "2022-02-23T00:34:53.485650Z",
     "iopub.status.idle": "2022-02-23T00:34:53.487864Z",
     "shell.execute_reply": "2022-02-23T00:34:53.487297Z"
    },
    "papermill": {
     "duration": 0.041378,
     "end_time": "2022-02-23T00:34:53.487980",
     "exception": false,
     "start_time": "2022-02-23T00:34:53.446602",
     "status": "completed"
    },
    "tags": []
   },
   "outputs": [],
   "source": [
    "#hide\n",
    "# cols.insert(0, cols.pop())"
   ]
  },
  {
   "cell_type": "code",
   "execution_count": 30,
   "id": "executed-adoption",
   "metadata": {
    "execution": {
     "iopub.execute_input": "2022-02-23T00:34:53.563193Z",
     "iopub.status.busy": "2022-02-23T00:34:53.562112Z",
     "iopub.status.idle": "2022-02-23T00:34:53.566855Z",
     "shell.execute_reply": "2022-02-23T00:34:53.566247Z"
    },
    "papermill": {
     "duration": 0.044216,
     "end_time": "2022-02-23T00:34:53.566977",
     "exception": false,
     "start_time": "2022-02-23T00:34:53.522761",
     "status": "completed"
    },
    "tags": []
   },
   "outputs": [],
   "source": [
    "#hide\n",
    "# g = g[cols]"
   ]
  },
  {
   "cell_type": "code",
   "execution_count": 31,
   "id": "subject-dublin",
   "metadata": {
    "execution": {
     "iopub.execute_input": "2022-02-23T00:34:53.640798Z",
     "iopub.status.busy": "2022-02-23T00:34:53.640140Z",
     "iopub.status.idle": "2022-02-23T00:34:53.644219Z",
     "shell.execute_reply": "2022-02-23T00:34:53.643737Z"
    },
    "papermill": {
     "duration": 0.042586,
     "end_time": "2022-02-23T00:34:53.644343",
     "exception": false,
     "start_time": "2022-02-23T00:34:53.601757",
     "status": "completed"
    },
    "tags": []
   },
   "outputs": [],
   "source": [
    "#hide\n",
    "# g['continent'] = g['continent'].map(mapping['map.continent'])"
   ]
  },
  {
   "cell_type": "code",
   "execution_count": 32,
   "id": "freelance-scout",
   "metadata": {
    "execution": {
     "iopub.execute_input": "2022-02-23T00:34:53.718693Z",
     "iopub.status.busy": "2022-02-23T00:34:53.718077Z",
     "iopub.status.idle": "2022-02-23T00:34:53.721666Z",
     "shell.execute_reply": "2022-02-23T00:34:53.722116Z"
    },
    "papermill": {
     "duration": 0.043186,
     "end_time": "2022-02-23T00:34:53.722267",
     "exception": false,
     "start_time": "2022-02-23T00:34:53.679081",
     "status": "completed"
    },
    "tags": []
   },
   "outputs": [],
   "source": [
    "#hide\n",
    "# g.head()"
   ]
  },
  {
   "cell_type": "code",
   "execution_count": 33,
   "id": "limited-engine",
   "metadata": {
    "execution": {
     "iopub.execute_input": "2022-02-23T00:34:53.796440Z",
     "iopub.status.busy": "2022-02-23T00:34:53.795375Z",
     "iopub.status.idle": "2022-02-23T00:34:53.797532Z",
     "shell.execute_reply": "2022-02-23T00:34:53.798379Z"
    },
    "papermill": {
     "duration": 0.041572,
     "end_time": "2022-02-23T00:34:53.798622",
     "exception": false,
     "start_time": "2022-02-23T00:34:53.757050",
     "status": "completed"
    },
    "tags": []
   },
   "outputs": [],
   "source": [
    "# hide\n",
    "# g['date'] = g['date'].astype('datetime64[ns]')"
   ]
  },
  {
   "cell_type": "code",
   "execution_count": 34,
   "id": "sophisticated-supervisor",
   "metadata": {
    "execution": {
     "iopub.execute_input": "2022-02-23T00:34:53.872352Z",
     "iopub.status.busy": "2022-02-23T00:34:53.871758Z",
     "iopub.status.idle": "2022-02-23T00:34:53.874367Z",
     "shell.execute_reply": "2022-02-23T00:34:53.874817Z"
    },
    "papermill": {
     "duration": 0.04104,
     "end_time": "2022-02-23T00:34:53.874963",
     "exception": false,
     "start_time": "2022-02-23T00:34:53.833923",
     "status": "completed"
    },
    "tags": []
   },
   "outputs": [],
   "source": [
    "#hide\n",
    "# g['date'] = g.date.dt.dayofyear"
   ]
  },
  {
   "cell_type": "code",
   "execution_count": 35,
   "id": "inside-dubai",
   "metadata": {
    "execution": {
     "iopub.execute_input": "2022-02-23T00:34:53.948451Z",
     "iopub.status.busy": "2022-02-23T00:34:53.947854Z",
     "iopub.status.idle": "2022-02-23T00:34:53.950350Z",
     "shell.execute_reply": "2022-02-23T00:34:53.950862Z"
    },
    "papermill": {
     "duration": 0.041438,
     "end_time": "2022-02-23T00:34:53.951006",
     "exception": false,
     "start_time": "2022-02-23T00:34:53.909568",
     "status": "completed"
    },
    "tags": []
   },
   "outputs": [],
   "source": [
    "#hide\n",
    "# g = g.rename(columns= {'continent':'group','country':'name','cases':'value'})"
   ]
  },
  {
   "cell_type": "code",
   "execution_count": 36,
   "id": "fleet-motorcycle",
   "metadata": {
    "execution": {
     "iopub.execute_input": "2022-02-23T00:34:54.024681Z",
     "iopub.status.busy": "2022-02-23T00:34:54.024059Z",
     "iopub.status.idle": "2022-02-23T00:34:54.026312Z",
     "shell.execute_reply": "2022-02-23T00:34:54.025718Z"
    },
    "papermill": {
     "duration": 0.041155,
     "end_time": "2022-02-23T00:34:54.026436",
     "exception": false,
     "start_time": "2022-02-23T00:34:53.985281",
     "status": "completed"
    },
    "tags": []
   },
   "outputs": [],
   "source": [
    "#hide\n",
    "# cols = ['name','group','day','value']"
   ]
  },
  {
   "cell_type": "code",
   "execution_count": 37,
   "id": "continued-sleeping",
   "metadata": {
    "execution": {
     "iopub.execute_input": "2022-02-23T00:34:54.101418Z",
     "iopub.status.busy": "2022-02-23T00:34:54.100379Z",
     "iopub.status.idle": "2022-02-23T00:34:54.105305Z",
     "shell.execute_reply": "2022-02-23T00:34:54.105788Z"
    },
    "papermill": {
     "duration": 0.044604,
     "end_time": "2022-02-23T00:34:54.105932",
     "exception": false,
     "start_time": "2022-02-23T00:34:54.061328",
     "status": "completed"
    },
    "tags": []
   },
   "outputs": [],
   "source": [
    "#hide\n",
    "# g.rename(columns= {'date':'day'},inplace = True)"
   ]
  },
  {
   "cell_type": "code",
   "execution_count": 38,
   "id": "major-fight",
   "metadata": {
    "execution": {
     "iopub.execute_input": "2022-02-23T00:34:54.180684Z",
     "iopub.status.busy": "2022-02-23T00:34:54.179615Z",
     "iopub.status.idle": "2022-02-23T00:34:54.181779Z",
     "shell.execute_reply": "2022-02-23T00:34:54.182583Z"
    },
    "papermill": {
     "duration": 0.042025,
     "end_time": "2022-02-23T00:34:54.182807",
     "exception": false,
     "start_time": "2022-02-23T00:34:54.140782",
     "status": "completed"
    },
    "tags": []
   },
   "outputs": [],
   "source": [
    "#hide\n",
    "# g = g[cols]"
   ]
  },
  {
   "cell_type": "code",
   "execution_count": 39,
   "id": "structured-mobile",
   "metadata": {
    "execution": {
     "iopub.execute_input": "2022-02-23T00:34:54.257713Z",
     "iopub.status.busy": "2022-02-23T00:34:54.257107Z",
     "iopub.status.idle": "2022-02-23T00:34:54.260592Z",
     "shell.execute_reply": "2022-02-23T00:34:54.261047Z"
    },
    "papermill": {
     "duration": 0.042645,
     "end_time": "2022-02-23T00:34:54.261203",
     "exception": false,
     "start_time": "2022-02-23T00:34:54.218558",
     "status": "completed"
    },
    "tags": []
   },
   "outputs": [],
   "source": [
    "# #hide\n",
    "# g = g[g.group.notna()]"
   ]
  },
  {
   "cell_type": "code",
   "execution_count": 40,
   "id": "determined-closing",
   "metadata": {
    "execution": {
     "iopub.execute_input": "2022-02-23T00:34:54.338053Z",
     "iopub.status.busy": "2022-02-23T00:34:54.337438Z",
     "iopub.status.idle": "2022-02-23T00:34:54.339779Z",
     "shell.execute_reply": "2022-02-23T00:34:54.340252Z"
    },
    "papermill": {
     "duration": 0.043453,
     "end_time": "2022-02-23T00:34:54.340394",
     "exception": false,
     "start_time": "2022-02-23T00:34:54.296941",
     "status": "completed"
    },
    "tags": []
   },
   "outputs": [],
   "source": [
    "# #hide\n",
    "# colors = dict(zip(\n",
    "#     [\"Oceania\", \"Europe\", \"Asia\", \"South America\", \"Middle East\", \"North America\", \"Africa\"],\n",
    "#     [\"#adb0ff\", \"#ffb3ff\", \"#90d595\", \"#e48381\", \"#aafbff\", \"#f7bb5f\", \"#eafb50\"]\n",
    "# ))\n",
    "# group_lk = g.set_index('name')['group'].to_dict()"
   ]
  },
  {
   "cell_type": "code",
   "execution_count": null,
   "id": "gross-drinking",
   "metadata": {
    "papermill": {
     "duration": 0.034413,
     "end_time": "2022-02-23T00:34:54.409855",
     "exception": false,
     "start_time": "2022-02-23T00:34:54.375442",
     "status": "completed"
    },
    "tags": []
   },
   "outputs": [],
   "source": []
  },
  {
   "cell_type": "code",
   "execution_count": 41,
   "id": "subject-macintosh",
   "metadata": {
    "execution": {
     "iopub.execute_input": "2022-02-23T00:34:54.489084Z",
     "iopub.status.busy": "2022-02-23T00:34:54.488283Z",
     "iopub.status.idle": "2022-02-23T00:34:54.492272Z",
     "shell.execute_reply": "2022-02-23T00:34:54.492716Z"
    },
    "papermill": {
     "duration": 0.044501,
     "end_time": "2022-02-23T00:34:54.492855",
     "exception": false,
     "start_time": "2022-02-23T00:34:54.448354",
     "status": "completed"
    },
    "tags": []
   },
   "outputs": [],
   "source": [
    "# #hide\n",
    "# fig, ax = plt.subplots(figsize=(15, 8))\n",
    "\n",
    "# def draw_barchart(current_day):\n",
    "#     dff = g[g['day'].eq(current_day)].sort_values(by='value', ascending=True).tail(10)\n",
    "#     ax.clear()\n",
    "#     ax.barh(dff['name'], dff['value'], color=[colors[group_lk[x]] for x in dff['name']])\n",
    "#     dx = dff['value'].max() / 200\n",
    "    \n",
    "#     for i, (value, name) in enumerate(zip(dff['value'], dff['name'])):\n",
    "#         ax.text(value-dx, i,     name,           size=14, weight=600, ha='right', va='bottom')\n",
    "#         ax.text(value-dx, i-.25, group_lk[name], size=10, color='#444444', ha='right', va='baseline')\n",
    "#         ax.text(value+dx, i,     f'{value:,.0f}',  size=14, ha='left',  va='center')\n",
    "#     ax.text(1, 0.4, current_day, transform=ax.transAxes, color='#777777', size=46, ha='right', weight=800)\n",
    "#     ax.text(0, 1.06, 'Population (thousands)', transform=ax.transAxes, size=12, color='#777777')\n",
    "#     ax.xaxis.set_major_formatter(ticker.StrMethodFormatter('{x:,.0f}'))\n",
    "#     ax.xaxis.set_ticks_position('top')\n",
    "#     ax.tick_params(axis='x', colors='#777777', labelsize=12)\n",
    "#     ax.set_yticks([])\n",
    "#     ax.margins(0, 0.01)\n",
    "#     ax.grid(which='major', axis='x', linestyle='-')\n",
    "#     ax.set_axisbelow(True)\n",
    "    \n",
    "#     ax.text(0, 1.15, 'Coronavirus',\n",
    "#             transform=ax.transAxes, size=24, weight=600, ha='left', va='top')\n",
    "# #     ax.text(1, 0, 'by @pratapvardhan; credit @jburnmurdoch', transform=ax.transAxes, color='#777777', ha='right',\n",
    "# #             bbox=dict(facecolor='white', alpha=0.8, edgecolor='white'))\n",
    "#     plt.box(False)"
   ]
  },
  {
   "cell_type": "code",
   "execution_count": 42,
   "id": "sexual-wages",
   "metadata": {
    "execution": {
     "iopub.execute_input": "2022-02-23T00:34:54.568426Z",
     "iopub.status.busy": "2022-02-23T00:34:54.567160Z",
     "iopub.status.idle": "2022-02-23T00:34:54.570043Z",
     "shell.execute_reply": "2022-02-23T00:34:54.570869Z"
    },
    "papermill": {
     "duration": 0.043683,
     "end_time": "2022-02-23T00:34:54.571141",
     "exception": false,
     "start_time": "2022-02-23T00:34:54.527458",
     "status": "completed"
    },
    "tags": []
   },
   "outputs": [],
   "source": [
    "# #hide_input\n",
    "# fig, ax = plt.subplots(figsize=(15, 8))\n",
    "# animator = animation.FuncAnimation(fig, draw_barchart, frames=range(g.day.values.min(), g.day.values.max()))\n",
    "# HTML(animator.to_jshtml())\n",
    "# # or use animator.to_html5_video() or animator.save() "
   ]
  },
  {
   "cell_type": "code",
   "execution_count": null,
   "id": "australian-container",
   "metadata": {
    "papermill": {
     "duration": 0.037116,
     "end_time": "2022-02-23T00:34:54.644091",
     "exception": false,
     "start_time": "2022-02-23T00:34:54.606975",
     "status": "completed"
    },
    "tags": []
   },
   "outputs": [],
   "source": []
  },
  {
   "cell_type": "code",
   "execution_count": null,
   "id": "mediterranean-pontiac",
   "metadata": {
    "papermill": {
     "duration": 0.035021,
     "end_time": "2022-02-23T00:34:54.714436",
     "exception": false,
     "start_time": "2022-02-23T00:34:54.679415",
     "status": "completed"
    },
    "tags": []
   },
   "outputs": [],
   "source": []
  },
  {
   "cell_type": "code",
   "execution_count": null,
   "id": "aging-legislature",
   "metadata": {
    "papermill": {
     "duration": 0.036443,
     "end_time": "2022-02-23T00:34:54.787529",
     "exception": false,
     "start_time": "2022-02-23T00:34:54.751086",
     "status": "completed"
    },
    "tags": []
   },
   "outputs": [],
   "source": []
  }
 ],
 "metadata": {
  "kernelspec": {
   "display_name": "Python 3",
   "language": "python",
   "name": "python3"
  },
  "language_info": {
   "codemirror_mode": {
    "name": "ipython",
    "version": 3
   },
   "file_extension": ".py",
   "mimetype": "text/x-python",
   "name": "python",
   "nbconvert_exporter": "python",
   "pygments_lexer": "ipython3",
   "version": "3.6.15"
  },
  "papermill": {
   "duration": 6.96898,
   "end_time": "2022-02-23T00:34:55.247816",
   "environment_variables": {},
   "exception": null,
   "input_path": "2020-03-21-covid19exp.ipynb",
   "output_path": "2020-03-21-covid19exp.ipynb",
   "parameters": {},
   "start_time": "2022-02-23T00:34:48.278836",
   "version": "2.0.0"
  }
 },
 "nbformat": 4,
 "nbformat_minor": 5
}