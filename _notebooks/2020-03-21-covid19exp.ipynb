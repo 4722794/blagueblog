{
 "cells": [
  {
   "cell_type": "markdown",
   "id": "muslim-click",
   "metadata": {
    "papermill": {
     "duration": 0.043247,
     "end_time": "2022-04-27T00:44:35.945330",
     "exception": false,
     "start_time": "2022-04-27T00:44:35.902083",
     "status": "completed"
    },
    "tags": []
   },
   "source": [
    "# COVID-19 Case Race\n",
    "> A race chart to see rising cases around the world\n",
    "\n",
    "- author: Hargun Oberoi\n",
    "- image: images/covid-overview.png\n",
    "- hide: false\n",
    "- badges: false"
   ]
  },
  {
   "cell_type": "code",
   "execution_count": 1,
   "id": "proof-material",
   "metadata": {
    "execution": {
     "iopub.execute_input": "2022-04-27T00:44:36.029411Z",
     "iopub.status.busy": "2022-04-27T00:44:36.026615Z",
     "iopub.status.idle": "2022-04-27T00:44:36.418213Z",
     "shell.execute_reply": "2022-04-27T00:44:36.418687Z"
    },
    "papermill": {
     "duration": 0.436091,
     "end_time": "2022-04-27T00:44:36.418869",
     "exception": false,
     "start_time": "2022-04-27T00:44:35.982778",
     "status": "completed"
    },
    "tags": []
   },
   "outputs": [],
   "source": [
    "#hide\n",
    "import numpy as np\n",
    "import pandas as pd\n",
    "from jinja2 import Template\n",
    "from IPython.display import HTML"
   ]
  },
  {
   "cell_type": "code",
   "execution_count": 2,
   "id": "developed-terminology",
   "metadata": {
    "execution": {
     "iopub.execute_input": "2022-04-27T00:44:36.496207Z",
     "iopub.status.busy": "2022-04-27T00:44:36.495615Z",
     "iopub.status.idle": "2022-04-27T00:44:36.498222Z",
     "shell.execute_reply": "2022-04-27T00:44:36.497297Z"
    },
    "papermill": {
     "duration": 0.043796,
     "end_time": "2022-04-27T00:44:36.498406",
     "exception": false,
     "start_time": "2022-04-27T00:44:36.454610",
     "status": "completed"
    },
    "tags": []
   },
   "outputs": [],
   "source": [
    "#hide\n",
    "\n",
    "# FETCH\n",
    "base_url = 'https://raw.githubusercontent.com/pratapvardhan/notebooks/master/covid19/'\n",
    "paths = {\n",
    "    'mapping': base_url + 'mapping_countries.csv',\n",
    "    'overview': base_url + 'overview.tpl'\n",
    "}"
   ]
  },
  {
   "cell_type": "code",
   "execution_count": 3,
   "id": "dynamic-saver",
   "metadata": {
    "execution": {
     "iopub.execute_input": "2022-04-27T00:44:36.573903Z",
     "iopub.status.busy": "2022-04-27T00:44:36.573364Z",
     "iopub.status.idle": "2022-04-27T00:44:36.593812Z",
     "shell.execute_reply": "2022-04-27T00:44:36.593294Z"
    },
    "papermill": {
     "duration": 0.061115,
     "end_time": "2022-04-27T00:44:36.593937",
     "exception": false,
     "start_time": "2022-04-27T00:44:36.532822",
     "status": "completed"
    },
    "tags": []
   },
   "outputs": [
    {
     "data": {
      "text/plain": [
       "'https://raw.githubusercontent.com/pratapvardhan/notebooks/master/covid19/mapping_countries.csv'"
      ]
     },
     "execution_count": 3,
     "metadata": {},
     "output_type": "execute_result"
    }
   ],
   "source": [
    "#hide\n",
    "paths['mapping']"
   ]
  },
  {
   "cell_type": "code",
   "execution_count": 4,
   "id": "urban-software",
   "metadata": {
    "execution": {
     "iopub.execute_input": "2022-04-27T00:44:36.673011Z",
     "iopub.status.busy": "2022-04-27T00:44:36.672294Z",
     "iopub.status.idle": "2022-04-27T00:44:36.674336Z",
     "shell.execute_reply": "2022-04-27T00:44:36.674798Z"
    },
    "papermill": {
     "duration": 0.045274,
     "end_time": "2022-04-27T00:44:36.674955",
     "exception": false,
     "start_time": "2022-04-27T00:44:36.629681",
     "status": "completed"
    },
    "tags": []
   },
   "outputs": [],
   "source": [
    "#hide\n",
    "def get_mappings(url):\n",
    "    df = pd.read_csv(url)\n",
    "    return {\n",
    "        'df': df,\n",
    "        'replace.country': dict(df.dropna(subset=['Name']).set_index('Country')['Name']),\n",
    "        'map.continent': dict(df.set_index('Name')['Continent'])\n",
    "    }"
   ]
  },
  {
   "cell_type": "code",
   "execution_count": 5,
   "id": "intimate-machinery",
   "metadata": {
    "execution": {
     "iopub.execute_input": "2022-04-27T00:44:36.752034Z",
     "iopub.status.busy": "2022-04-27T00:44:36.751420Z",
     "iopub.status.idle": "2022-04-27T00:44:36.782545Z",
     "shell.execute_reply": "2022-04-27T00:44:36.781850Z"
    },
    "papermill": {
     "duration": 0.071345,
     "end_time": "2022-04-27T00:44:36.782690",
     "exception": false,
     "start_time": "2022-04-27T00:44:36.711345",
     "status": "completed"
    },
    "tags": []
   },
   "outputs": [],
   "source": [
    "#hide\n",
    "mapping = get_mappings(paths['mapping'])"
   ]
  },
  {
   "cell_type": "code",
   "execution_count": 6,
   "id": "certified-tactics",
   "metadata": {
    "execution": {
     "iopub.execute_input": "2022-04-27T00:44:36.861563Z",
     "iopub.status.busy": "2022-04-27T00:44:36.860677Z",
     "iopub.status.idle": "2022-04-27T00:44:36.864827Z",
     "shell.execute_reply": "2022-04-27T00:44:36.865252Z"
    },
    "papermill": {
     "duration": 0.046386,
     "end_time": "2022-04-27T00:44:36.865406",
     "exception": false,
     "start_time": "2022-04-27T00:44:36.819020",
     "status": "completed"
    },
    "tags": []
   },
   "outputs": [],
   "source": [
    "#hide\n",
    "def get_template(path):\n",
    "    from urllib.parse import urlparse\n",
    "    if bool(urlparse(path).netloc):\n",
    "        from urllib.request import urlopen\n",
    "        return urlopen(path).read().decode('utf8')\n",
    "    return open(path).read()"
   ]
  },
  {
   "cell_type": "code",
   "execution_count": 7,
   "id": "realistic-blast",
   "metadata": {
    "execution": {
     "iopub.execute_input": "2022-04-27T00:44:36.957099Z",
     "iopub.status.busy": "2022-04-27T00:44:36.956379Z",
     "iopub.status.idle": "2022-04-27T00:44:36.959100Z",
     "shell.execute_reply": "2022-04-27T00:44:36.958495Z"
    },
    "papermill": {
     "duration": 0.048325,
     "end_time": "2022-04-27T00:44:36.959282",
     "exception": false,
     "start_time": "2022-04-27T00:44:36.910957",
     "status": "completed"
    },
    "tags": []
   },
   "outputs": [],
   "source": [
    "#hide\n",
    "def get_frame(name):\n",
    "    url = (\n",
    "        'https://raw.githubusercontent.com/CSSEGISandData/COVID-19/master/csse_covid_19_data/'\n",
    "        f'csse_covid_19_time_series/time_series_covid19_{name}_global.csv')\n",
    "    df = pd.read_csv(url)\n",
    "    # rename countries\n",
    "    df['Country/Region'] = df['Country/Region'].replace(mapping['replace.country'])\n",
    "    return df"
   ]
  },
  {
   "cell_type": "code",
   "execution_count": 8,
   "id": "affiliated-characterization",
   "metadata": {
    "execution": {
     "iopub.execute_input": "2022-04-27T00:44:37.040231Z",
     "iopub.status.busy": "2022-04-27T00:44:37.039655Z",
     "iopub.status.idle": "2022-04-27T00:44:37.042423Z",
     "shell.execute_reply": "2022-04-27T00:44:37.041976Z"
    },
    "papermill": {
     "duration": 0.045918,
     "end_time": "2022-04-27T00:44:37.042542",
     "exception": false,
     "start_time": "2022-04-27T00:44:36.996624",
     "status": "completed"
    },
    "tags": []
   },
   "outputs": [],
   "source": [
    "#hide\n",
    "def get_dates(df):\n",
    "    dt_cols = df.columns[~df.columns.isin(['Province/State', 'Country/Region', 'Lat', 'Long'])]\n",
    "    LAST_DATE_I = -1\n",
    "    # sometimes last column may be empty, then go backwards\n",
    "    for i in range(-1, -len(dt_cols), -1):\n",
    "        if not df[dt_cols[i]].fillna(0).eq(0).all():\n",
    "            LAST_DATE_I = i\n",
    "            break\n",
    "    return LAST_DATE_I, dt_cols"
   ]
  },
  {
   "cell_type": "code",
   "execution_count": 9,
   "id": "recent-optimization",
   "metadata": {
    "execution": {
     "iopub.execute_input": "2022-04-27T00:44:37.126946Z",
     "iopub.status.busy": "2022-04-27T00:44:37.125671Z",
     "iopub.status.idle": "2022-04-27T00:44:37.555750Z",
     "shell.execute_reply": "2022-04-27T00:44:37.555028Z"
    },
    "papermill": {
     "duration": 0.47755,
     "end_time": "2022-04-27T00:44:37.555907",
     "exception": false,
     "start_time": "2022-04-27T00:44:37.078357",
     "status": "completed"
    },
    "tags": []
   },
   "outputs": [],
   "source": [
    "#hide\n",
    "COL_REGION = 'Country/Region'\n",
    "# Confirmed, Recovered, Deaths\n",
    "df = get_frame('confirmed')\n",
    "# dft_: timeseries, dfc_: today country agg\n",
    "dft_cases = df\n",
    "dft_deaths = get_frame('deaths')\n",
    "dft_recovered = get_frame('recovered')\n",
    "LAST_DATE_I, dt_cols = get_dates(df)"
   ]
  },
  {
   "cell_type": "code",
   "execution_count": 10,
   "id": "absolute-copper",
   "metadata": {
    "execution": {
     "iopub.execute_input": "2022-04-27T00:44:37.636408Z",
     "iopub.status.busy": "2022-04-27T00:44:37.635818Z",
     "iopub.status.idle": "2022-04-27T00:44:37.638483Z",
     "shell.execute_reply": "2022-04-27T00:44:37.637720Z"
    },
    "papermill": {
     "duration": 0.043798,
     "end_time": "2022-04-27T00:44:37.638654",
     "exception": false,
     "start_time": "2022-04-27T00:44:37.594856",
     "status": "completed"
    },
    "tags": []
   },
   "outputs": [],
   "source": [
    "#hide\n",
    "LAST_DATE_I, dt_cols = get_dates(df)\n",
    "dt_today =dt_cols[LAST_DATE_I]\n",
    "# dt_5day = dt_cols[LAST_DATE_I - 5]\n",
    "dt_yday = dt_cols[LAST_DATE_I - 1]"
   ]
  },
  {
   "cell_type": "code",
   "execution_count": 11,
   "id": "restricted-sheriff",
   "metadata": {
    "execution": {
     "iopub.execute_input": "2022-04-27T00:44:37.728184Z",
     "iopub.status.busy": "2022-04-27T00:44:37.727487Z",
     "iopub.status.idle": "2022-04-27T00:44:37.736235Z",
     "shell.execute_reply": "2022-04-27T00:44:37.736779Z"
    },
    "papermill": {
     "duration": 0.060813,
     "end_time": "2022-04-27T00:44:37.736913",
     "exception": false,
     "start_time": "2022-04-27T00:44:37.676100",
     "status": "completed"
    },
    "tags": []
   },
   "outputs": [],
   "source": [
    "#hide\n",
    "dfc_cases = dft_cases.groupby(COL_REGION)[dt_today].sum()\n",
    "dfc_deaths = dft_deaths.groupby(COL_REGION)[dt_today].sum()\n",
    "# dfp_cases = dft_cases.groupby(COL_REGION)[dt_5day].sum()\n",
    "# dfp_deaths = dft_deaths.groupby(COL_REGION)[dt_5day].sum()\n",
    "dfp_cases = dft_cases.groupby(COL_REGION)[dt_yday].sum()\n",
    "dfp_deaths = dft_deaths.groupby(COL_REGION)[dt_yday].sum()"
   ]
  },
  {
   "cell_type": "code",
   "execution_count": 12,
   "id": "deluxe-hepatitis",
   "metadata": {
    "execution": {
     "iopub.execute_input": "2022-04-27T00:44:37.817710Z",
     "iopub.status.busy": "2022-04-27T00:44:37.817145Z",
     "iopub.status.idle": "2022-04-27T00:44:37.821036Z",
     "shell.execute_reply": "2022-04-27T00:44:37.820586Z"
    },
    "papermill": {
     "duration": 0.047109,
     "end_time": "2022-04-27T00:44:37.821173",
     "exception": false,
     "start_time": "2022-04-27T00:44:37.774064",
     "status": "completed"
    },
    "tags": []
   },
   "outputs": [],
   "source": [
    "#hide\n",
    "df_table = (pd.DataFrame(dict(Cases = dfc_cases, Deaths = dfc_deaths, PCases = dfp_cases, PDeaths = dfp_deaths))\n",
    "            .sort_values(by = ['Cases','Deaths'], ascending = [False, False])\n",
    "            .reset_index())"
   ]
  },
  {
   "cell_type": "code",
   "execution_count": 13,
   "id": "educational-chancellor",
   "metadata": {
    "execution": {
     "iopub.execute_input": "2022-04-27T00:44:37.901412Z",
     "iopub.status.busy": "2022-04-27T00:44:37.900740Z",
     "iopub.status.idle": "2022-04-27T00:44:37.922272Z",
     "shell.execute_reply": "2022-04-27T00:44:37.922708Z"
    },
    "papermill": {
     "duration": 0.065442,
     "end_time": "2022-04-27T00:44:37.922862",
     "exception": false,
     "start_time": "2022-04-27T00:44:37.857420",
     "status": "completed"
    },
    "tags": []
   },
   "outputs": [
    {
     "data": {
      "text/html": [
       "<div>\n",
       "<style scoped>\n",
       "    .dataframe tbody tr th:only-of-type {\n",
       "        vertical-align: middle;\n",
       "    }\n",
       "\n",
       "    .dataframe tbody tr th {\n",
       "        vertical-align: top;\n",
       "    }\n",
       "\n",
       "    .dataframe thead th {\n",
       "        text-align: right;\n",
       "    }\n",
       "</style>\n",
       "<table border=\"1\" class=\"dataframe\">\n",
       "  <thead>\n",
       "    <tr style=\"text-align: right;\">\n",
       "      <th></th>\n",
       "      <th>Country/Region</th>\n",
       "      <th>Cases</th>\n",
       "      <th>Deaths</th>\n",
       "      <th>PCases</th>\n",
       "      <th>PDeaths</th>\n",
       "      <th>Cases (+)</th>\n",
       "      <th>Deaths (+)</th>\n",
       "      <th>Fatality Rate</th>\n",
       "      <th>Continent</th>\n",
       "    </tr>\n",
       "  </thead>\n",
       "  <tbody>\n",
       "    <tr>\n",
       "      <th>0</th>\n",
       "      <td>US</td>\n",
       "      <td>81043315</td>\n",
       "      <td>991609</td>\n",
       "      <td>80984214</td>\n",
       "      <td>991326</td>\n",
       "      <td>59101</td>\n",
       "      <td>283</td>\n",
       "      <td>1.22</td>\n",
       "      <td>North America</td>\n",
       "    </tr>\n",
       "    <tr>\n",
       "      <th>1</th>\n",
       "      <td>India</td>\n",
       "      <td>43060097</td>\n",
       "      <td>522223</td>\n",
       "      <td>43060086</td>\n",
       "      <td>522223</td>\n",
       "      <td>11</td>\n",
       "      <td>0</td>\n",
       "      <td>1.21</td>\n",
       "      <td>Asia</td>\n",
       "    </tr>\n",
       "    <tr>\n",
       "      <th>2</th>\n",
       "      <td>Brazil</td>\n",
       "      <td>30355919</td>\n",
       "      <td>662964</td>\n",
       "      <td>30349463</td>\n",
       "      <td>662891</td>\n",
       "      <td>6456</td>\n",
       "      <td>73</td>\n",
       "      <td>2.18</td>\n",
       "      <td>South America</td>\n",
       "    </tr>\n",
       "    <tr>\n",
       "      <th>3</th>\n",
       "      <td>France</td>\n",
       "      <td>28508116</td>\n",
       "      <td>146294</td>\n",
       "      <td>28494054</td>\n",
       "      <td>146097</td>\n",
       "      <td>14062</td>\n",
       "      <td>197</td>\n",
       "      <td>0.51</td>\n",
       "      <td>Europe</td>\n",
       "    </tr>\n",
       "    <tr>\n",
       "      <th>4</th>\n",
       "      <td>Germany</td>\n",
       "      <td>24337394</td>\n",
       "      <td>134489</td>\n",
       "      <td>24200596</td>\n",
       "      <td>134185</td>\n",
       "      <td>136798</td>\n",
       "      <td>304</td>\n",
       "      <td>0.55</td>\n",
       "      <td>Europe</td>\n",
       "    </tr>\n",
       "  </tbody>\n",
       "</table>\n",
       "</div>"
      ],
      "text/plain": [
       "  Country/Region     Cases  Deaths    PCases  PDeaths  Cases (+)  Deaths (+)  \\\n",
       "0             US  81043315  991609  80984214   991326      59101         283   \n",
       "1          India  43060097  522223  43060086   522223         11           0   \n",
       "2         Brazil  30355919  662964  30349463   662891       6456          73   \n",
       "3         France  28508116  146294  28494054   146097      14062         197   \n",
       "4        Germany  24337394  134489  24200596   134185     136798         304   \n",
       "\n",
       "   Fatality Rate      Continent  \n",
       "0           1.22  North America  \n",
       "1           1.21           Asia  \n",
       "2           2.18  South America  \n",
       "3           0.51         Europe  \n",
       "4           0.55         Europe  "
      ]
     },
     "execution_count": 13,
     "metadata": {},
     "output_type": "execute_result"
    }
   ],
   "source": [
    "#hide\n",
    "for c in 'Cases, Deaths'.split(', '):\n",
    "    df_table[f'{c} (+)'] = (df_table[c] - df_table[f'P{c}']).clip(0)\n",
    "    #Clip ça veut dire, les chiffres negatif sont interdit\n",
    "df_table['Fatality Rate'] = (100* df_table['Deaths']/ df_table['Cases']).round(2)\n",
    "df_table['Continent'] = df_table['Country/Region'].map(mapping['map.continent'])\n",
    "df_table.head(5)"
   ]
  },
  {
   "cell_type": "code",
   "execution_count": 14,
   "id": "aboriginal-bulgaria",
   "metadata": {
    "execution": {
     "iopub.execute_input": "2022-04-27T00:44:38.008652Z",
     "iopub.status.busy": "2022-04-27T00:44:38.008099Z",
     "iopub.status.idle": "2022-04-27T00:44:38.010623Z",
     "shell.execute_reply": "2022-04-27T00:44:38.010161Z"
    },
    "papermill": {
     "duration": 0.043002,
     "end_time": "2022-04-27T00:44:38.010736",
     "exception": false,
     "start_time": "2022-04-27T00:44:37.967734",
     "status": "completed"
    },
    "tags": []
   },
   "outputs": [],
   "source": [
    "#hide\n",
    "#delete problematic countries from table\n",
    "df_table = df_table[~df_table['Country/Region'].isin(['Cape Verde', 'Cruise Ship', 'Kosovo'])]"
   ]
  },
  {
   "cell_type": "code",
   "execution_count": 15,
   "id": "fantastic-effect",
   "metadata": {
    "execution": {
     "iopub.execute_input": "2022-04-27T00:44:38.093311Z",
     "iopub.status.busy": "2022-04-27T00:44:38.092625Z",
     "iopub.status.idle": "2022-04-27T00:44:38.113899Z",
     "shell.execute_reply": "2022-04-27T00:44:38.113368Z"
    },
    "papermill": {
     "duration": 0.065894,
     "end_time": "2022-04-27T00:44:38.114034",
     "exception": false,
     "start_time": "2022-04-27T00:44:38.048140",
     "status": "completed"
    },
    "tags": []
   },
   "outputs": [
    {
     "data": {
      "text/html": [
       "<div>\n",
       "<style scoped>\n",
       "    .dataframe tbody tr th:only-of-type {\n",
       "        vertical-align: middle;\n",
       "    }\n",
       "\n",
       "    .dataframe tbody tr th {\n",
       "        vertical-align: top;\n",
       "    }\n",
       "\n",
       "    .dataframe thead th {\n",
       "        text-align: right;\n",
       "    }\n",
       "</style>\n",
       "<table border=\"1\" class=\"dataframe\">\n",
       "  <thead>\n",
       "    <tr style=\"text-align: right;\">\n",
       "      <th></th>\n",
       "      <th>Country/Region</th>\n",
       "      <th>Cases</th>\n",
       "      <th>Deaths</th>\n",
       "      <th>PCases</th>\n",
       "      <th>PDeaths</th>\n",
       "      <th>Cases (+)</th>\n",
       "      <th>Deaths (+)</th>\n",
       "      <th>Fatality Rate</th>\n",
       "      <th>Continent</th>\n",
       "    </tr>\n",
       "  </thead>\n",
       "  <tbody>\n",
       "    <tr>\n",
       "      <th>0</th>\n",
       "      <td>US</td>\n",
       "      <td>81043315</td>\n",
       "      <td>991609</td>\n",
       "      <td>80984214</td>\n",
       "      <td>991326</td>\n",
       "      <td>59101</td>\n",
       "      <td>283</td>\n",
       "      <td>1.2</td>\n",
       "      <td>North America</td>\n",
       "    </tr>\n",
       "    <tr>\n",
       "      <th>1</th>\n",
       "      <td>India</td>\n",
       "      <td>43060097</td>\n",
       "      <td>522223</td>\n",
       "      <td>43060086</td>\n",
       "      <td>522223</td>\n",
       "      <td>11</td>\n",
       "      <td>0</td>\n",
       "      <td>1.2</td>\n",
       "      <td>Asia</td>\n",
       "    </tr>\n",
       "    <tr>\n",
       "      <th>2</th>\n",
       "      <td>Brazil</td>\n",
       "      <td>30355919</td>\n",
       "      <td>662964</td>\n",
       "      <td>30349463</td>\n",
       "      <td>662891</td>\n",
       "      <td>6456</td>\n",
       "      <td>73</td>\n",
       "      <td>2.2</td>\n",
       "      <td>South America</td>\n",
       "    </tr>\n",
       "    <tr>\n",
       "      <th>3</th>\n",
       "      <td>France</td>\n",
       "      <td>28508116</td>\n",
       "      <td>146294</td>\n",
       "      <td>28494054</td>\n",
       "      <td>146097</td>\n",
       "      <td>14062</td>\n",
       "      <td>197</td>\n",
       "      <td>0.5</td>\n",
       "      <td>Europe</td>\n",
       "    </tr>\n",
       "    <tr>\n",
       "      <th>4</th>\n",
       "      <td>Germany</td>\n",
       "      <td>24337394</td>\n",
       "      <td>134489</td>\n",
       "      <td>24200596</td>\n",
       "      <td>134185</td>\n",
       "      <td>136798</td>\n",
       "      <td>304</td>\n",
       "      <td>0.6</td>\n",
       "      <td>Europe</td>\n",
       "    </tr>\n",
       "  </tbody>\n",
       "</table>\n",
       "</div>"
      ],
      "text/plain": [
       "  Country/Region     Cases  Deaths    PCases  PDeaths  Cases (+)  Deaths (+)  \\\n",
       "0             US  81043315  991609  80984214   991326      59101         283   \n",
       "1          India  43060097  522223  43060086   522223         11           0   \n",
       "2         Brazil  30355919  662964  30349463   662891       6456          73   \n",
       "3         France  28508116  146294  28494054   146097      14062         197   \n",
       "4        Germany  24337394  134489  24200596   134185     136798         304   \n",
       "\n",
       "   Fatality Rate      Continent  \n",
       "0            1.2  North America  \n",
       "1            1.2           Asia  \n",
       "2            2.2  South America  \n",
       "3            0.5         Europe  \n",
       "4            0.6         Europe  "
      ]
     },
     "execution_count": 15,
     "metadata": {},
     "output_type": "execute_result"
    }
   ],
   "source": [
    "#hide\n",
    "df_table = (pd.DataFrame(dict(Cases=dfc_cases, Deaths=dfc_deaths, PCases=dfp_cases, PDeaths=dfp_deaths))\n",
    "             .sort_values(by=['Cases', 'Deaths'], ascending=[False, False])\n",
    "             .reset_index())\n",
    "df_table.rename(columns={'index': 'Country/Region'}, inplace=True)\n",
    "for c in 'Cases, Deaths'.split(', '):\n",
    "    df_table[f'{c} (+)'] = (df_table[c] - df_table[f'P{c}']).clip(0)  # DATA BUG\n",
    "df_table['Fatality Rate'] = (100 * df_table['Deaths'] / df_table['Cases']).round(1)\n",
    "df_table['Continent'] = df_table['Country/Region'].map(mapping['map.continent'])\n",
    "df_table.head(5)"
   ]
  },
  {
   "cell_type": "code",
   "execution_count": 16,
   "id": "fewer-occasion",
   "metadata": {
    "execution": {
     "iopub.execute_input": "2022-04-27T00:44:38.197609Z",
     "iopub.status.busy": "2022-04-27T00:44:38.196915Z",
     "iopub.status.idle": "2022-04-27T00:44:38.200224Z",
     "shell.execute_reply": "2022-04-27T00:44:38.200655Z"
    },
    "papermill": {
     "duration": 0.045323,
     "end_time": "2022-04-27T00:44:38.200840",
     "exception": false,
     "start_time": "2022-04-27T00:44:38.155517",
     "status": "completed"
    },
    "tags": []
   },
   "outputs": [],
   "source": [
    "#hide\n",
    "#delete problematic countries from table\n",
    "df_table = df_table[~df_table['Country/Region'].isin(['Cape Verde', 'Cruise Ship', 'Kosovo'])]"
   ]
  },
  {
   "cell_type": "code",
   "execution_count": 17,
   "id": "related-center",
   "metadata": {
    "execution": {
     "iopub.execute_input": "2022-04-27T00:44:38.283001Z",
     "iopub.status.busy": "2022-04-27T00:44:38.282189Z",
     "iopub.status.idle": "2022-04-27T00:44:38.296186Z",
     "shell.execute_reply": "2022-04-27T00:44:38.296806Z"
    },
    "papermill": {
     "duration": 0.06053,
     "end_time": "2022-04-27T00:44:38.296995",
     "exception": false,
     "start_time": "2022-04-27T00:44:38.236465",
     "status": "completed"
    },
    "tags": []
   },
   "outputs": [],
   "source": [
    "#hide\n",
    "metrics = [df_table.columns[index] for index in [1,2,5,6]]\n",
    "# s_china = df_table[df_table['Country/Region'].eq('China')][metrics].sum().add_prefix('China ')\n",
    "s_us = df_table[df_table['Country/Region'].eq('US')][metrics].sum().add_prefix('US ')\n",
    "s_eu = df_table[df_table['Continent'].eq('Europe')][metrics].sum().add_prefix('EU ')\n",
    "s_ind = df_table[df_table['Country/Region'].eq('India')][metrics].sum().add_prefix('India ')\n",
    "summary = {'updated': pd.to_datetime(dt_today), 'since': pd.to_datetime(dt_yday)}\n",
    "summary = {'updated': pd.to_datetime(dt_today), 'since': pd.to_datetime(dt_yday)}\n",
    "summary = {**summary, **df_table[metrics].sum(), **s_ind, **s_us, **s_eu}"
   ]
  },
  {
   "cell_type": "code",
   "execution_count": 18,
   "id": "engaging-syndrome",
   "metadata": {
    "execution": {
     "iopub.execute_input": "2022-04-27T00:44:38.378198Z",
     "iopub.status.busy": "2022-04-27T00:44:38.377637Z",
     "iopub.status.idle": "2022-04-27T00:44:38.396241Z",
     "shell.execute_reply": "2022-04-27T00:44:38.396805Z"
    },
    "papermill": {
     "duration": 0.064747,
     "end_time": "2022-04-27T00:44:38.397001",
     "exception": false,
     "start_time": "2022-04-27T00:44:38.332254",
     "status": "completed"
    },
    "tags": []
   },
   "outputs": [],
   "source": [
    "#hide\n",
    "dft_ct_new_cases = dft_cases.groupby(COL_REGION)[dt_cols].sum().diff(axis=1).fillna(0).astype(int)"
   ]
  },
  {
   "cell_type": "code",
   "execution_count": 19,
   "id": "neutral-assignment",
   "metadata": {
    "execution": {
     "iopub.execute_input": "2022-04-27T00:44:38.481604Z",
     "iopub.status.busy": "2022-04-27T00:44:38.480690Z",
     "iopub.status.idle": "2022-04-27T00:44:38.483546Z",
     "shell.execute_reply": "2022-04-27T00:44:38.483048Z"
    },
    "papermill": {
     "duration": 0.049498,
     "end_time": "2022-04-27T00:44:38.483674",
     "exception": false,
     "start_time": "2022-04-27T00:44:38.434176",
     "status": "completed"
    },
    "tags": []
   },
   "outputs": [],
   "source": [
    "#hide\n",
    "everydaycases = dft_ct_new_cases.cumsum(axis=1)"
   ]
  },
  {
   "cell_type": "code",
   "execution_count": 20,
   "id": "parliamentary-calgary",
   "metadata": {
    "execution": {
     "iopub.execute_input": "2022-04-27T00:44:38.565106Z",
     "iopub.status.busy": "2022-04-27T00:44:38.564252Z",
     "iopub.status.idle": "2022-04-27T00:44:39.231908Z",
     "shell.execute_reply": "2022-04-27T00:44:39.232373Z"
    },
    "papermill": {
     "duration": 0.709675,
     "end_time": "2022-04-27T00:44:39.232529",
     "exception": false,
     "start_time": "2022-04-27T00:44:38.522854",
     "status": "completed"
    },
    "tags": []
   },
   "outputs": [],
   "source": [
    "#hide\n",
    "import pandas as pd\n",
    "import matplotlib.pyplot as plt\n",
    "import matplotlib.ticker as ticker\n",
    "import matplotlib.animation as animation\n",
    "from IPython.display import HTML"
   ]
  },
  {
   "cell_type": "code",
   "execution_count": 21,
   "id": "lasting-extraction",
   "metadata": {
    "execution": {
     "iopub.execute_input": "2022-04-27T00:44:39.313211Z",
     "iopub.status.busy": "2022-04-27T00:44:39.312409Z",
     "iopub.status.idle": "2022-04-27T00:44:39.320632Z",
     "shell.execute_reply": "2022-04-27T00:44:39.321207Z"
    },
    "papermill": {
     "duration": 0.050669,
     "end_time": "2022-04-27T00:44:39.321340",
     "exception": false,
     "start_time": "2022-04-27T00:44:39.270671",
     "status": "completed"
    },
    "tags": []
   },
   "outputs": [],
   "source": [
    "#hide\n",
    "t = everydaycases.stack()"
   ]
  },
  {
   "cell_type": "code",
   "execution_count": 22,
   "id": "premier-sleeve",
   "metadata": {
    "execution": {
     "iopub.execute_input": "2022-04-27T00:44:39.401638Z",
     "iopub.status.busy": "2022-04-27T00:44:39.401050Z",
     "iopub.status.idle": "2022-04-27T00:44:39.411675Z",
     "shell.execute_reply": "2022-04-27T00:44:39.412619Z"
    },
    "papermill": {
     "duration": 0.055018,
     "end_time": "2022-04-27T00:44:39.412769",
     "exception": false,
     "start_time": "2022-04-27T00:44:39.357751",
     "status": "completed"
    },
    "tags": []
   },
   "outputs": [],
   "source": [
    "#hide\n",
    "g = t.reset_index(['Country/Region'])"
   ]
  },
  {
   "cell_type": "code",
   "execution_count": 23,
   "id": "distributed-pittsburgh",
   "metadata": {
    "execution": {
     "iopub.execute_input": "2022-04-27T00:44:39.497951Z",
     "iopub.status.busy": "2022-04-27T00:44:39.497282Z",
     "iopub.status.idle": "2022-04-27T00:44:39.499890Z",
     "shell.execute_reply": "2022-04-27T00:44:39.499309Z"
    },
    "papermill": {
     "duration": 0.048108,
     "end_time": "2022-04-27T00:44:39.500017",
     "exception": false,
     "start_time": "2022-04-27T00:44:39.451909",
     "status": "completed"
    },
    "tags": []
   },
   "outputs": [],
   "source": [
    "#hide\n",
    "g.index.name = 'date'"
   ]
  },
  {
   "cell_type": "code",
   "execution_count": 24,
   "id": "naked-donor",
   "metadata": {
    "execution": {
     "iopub.execute_input": "2022-04-27T00:44:39.593260Z",
     "iopub.status.busy": "2022-04-27T00:44:39.591828Z",
     "iopub.status.idle": "2022-04-27T00:44:39.593990Z",
     "shell.execute_reply": "2022-04-27T00:44:39.594564Z"
    },
    "papermill": {
     "duration": 0.052024,
     "end_time": "2022-04-27T00:44:39.594709",
     "exception": false,
     "start_time": "2022-04-27T00:44:39.542685",
     "status": "completed"
    },
    "tags": []
   },
   "outputs": [],
   "source": [
    "# #hide\n",
    "# g = g.reset_index(['date'])"
   ]
  },
  {
   "cell_type": "code",
   "execution_count": 25,
   "id": "incomplete-mustang",
   "metadata": {
    "execution": {
     "iopub.execute_input": "2022-04-27T00:44:39.684872Z",
     "iopub.status.busy": "2022-04-27T00:44:39.684143Z",
     "iopub.status.idle": "2022-04-27T00:44:39.687269Z",
     "shell.execute_reply": "2022-04-27T00:44:39.686574Z"
    },
    "papermill": {
     "duration": 0.052985,
     "end_time": "2022-04-27T00:44:39.687400",
     "exception": false,
     "start_time": "2022-04-27T00:44:39.634415",
     "status": "completed"
    },
    "tags": []
   },
   "outputs": [],
   "source": [
    "#hide\n",
    "# g.head()"
   ]
  },
  {
   "cell_type": "code",
   "execution_count": 26,
   "id": "specific-kruger",
   "metadata": {
    "execution": {
     "iopub.execute_input": "2022-04-27T00:44:39.771167Z",
     "iopub.status.busy": "2022-04-27T00:44:39.770512Z",
     "iopub.status.idle": "2022-04-27T00:44:39.772453Z",
     "shell.execute_reply": "2022-04-27T00:44:39.772896Z"
    },
    "papermill": {
     "duration": 0.046491,
     "end_time": "2022-04-27T00:44:39.773057",
     "exception": false,
     "start_time": "2022-04-27T00:44:39.726566",
     "status": "completed"
    },
    "tags": []
   },
   "outputs": [],
   "source": [
    "#hide\n",
    "# g.columns = ['date','country','cases']"
   ]
  },
  {
   "cell_type": "code",
   "execution_count": 27,
   "id": "tender-conversion",
   "metadata": {
    "execution": {
     "iopub.execute_input": "2022-04-27T00:44:39.852010Z",
     "iopub.status.busy": "2022-04-27T00:44:39.851439Z",
     "iopub.status.idle": "2022-04-27T00:44:39.853733Z",
     "shell.execute_reply": "2022-04-27T00:44:39.853165Z"
    },
    "papermill": {
     "duration": 0.040798,
     "end_time": "2022-04-27T00:44:39.853864",
     "exception": false,
     "start_time": "2022-04-27T00:44:39.813066",
     "status": "completed"
    },
    "tags": []
   },
   "outputs": [],
   "source": [
    "#hide\n",
    "# g['continent'] = g.country"
   ]
  },
  {
   "cell_type": "code",
   "execution_count": 28,
   "id": "substantial-wilderness",
   "metadata": {
    "execution": {
     "iopub.execute_input": "2022-04-27T00:44:39.930122Z",
     "iopub.status.busy": "2022-04-27T00:44:39.929248Z",
     "iopub.status.idle": "2022-04-27T00:44:39.931219Z",
     "shell.execute_reply": "2022-04-27T00:44:39.931784Z"
    },
    "papermill": {
     "duration": 0.041953,
     "end_time": "2022-04-27T00:44:39.931957",
     "exception": false,
     "start_time": "2022-04-27T00:44:39.890004",
     "status": "completed"
    },
    "tags": []
   },
   "outputs": [],
   "source": [
    "#hide\n",
    "# cols = list(g.columns.values)"
   ]
  },
  {
   "cell_type": "code",
   "execution_count": 29,
   "id": "solved-farming",
   "metadata": {
    "execution": {
     "iopub.execute_input": "2022-04-27T00:44:40.013760Z",
     "iopub.status.busy": "2022-04-27T00:44:40.013136Z",
     "iopub.status.idle": "2022-04-27T00:44:40.015035Z",
     "shell.execute_reply": "2022-04-27T00:44:40.015513Z"
    },
    "papermill": {
     "duration": 0.045884,
     "end_time": "2022-04-27T00:44:40.015666",
     "exception": false,
     "start_time": "2022-04-27T00:44:39.969782",
     "status": "completed"
    },
    "tags": []
   },
   "outputs": [],
   "source": [
    "#hide\n",
    "# cols.insert(0, cols.pop())"
   ]
  },
  {
   "cell_type": "code",
   "execution_count": 30,
   "id": "executed-adoption",
   "metadata": {
    "execution": {
     "iopub.execute_input": "2022-04-27T00:44:40.097439Z",
     "iopub.status.busy": "2022-04-27T00:44:40.096877Z",
     "iopub.status.idle": "2022-04-27T00:44:40.099599Z",
     "shell.execute_reply": "2022-04-27T00:44:40.100089Z"
    },
    "papermill": {
     "duration": 0.045753,
     "end_time": "2022-04-27T00:44:40.100222",
     "exception": false,
     "start_time": "2022-04-27T00:44:40.054469",
     "status": "completed"
    },
    "tags": []
   },
   "outputs": [],
   "source": [
    "#hide\n",
    "# g = g[cols]"
   ]
  },
  {
   "cell_type": "code",
   "execution_count": 31,
   "id": "subject-dublin",
   "metadata": {
    "execution": {
     "iopub.execute_input": "2022-04-27T00:44:40.172486Z",
     "iopub.status.busy": "2022-04-27T00:44:40.171924Z",
     "iopub.status.idle": "2022-04-27T00:44:40.174309Z",
     "shell.execute_reply": "2022-04-27T00:44:40.174849Z"
    },
    "papermill": {
     "duration": 0.040507,
     "end_time": "2022-04-27T00:44:40.174975",
     "exception": false,
     "start_time": "2022-04-27T00:44:40.134468",
     "status": "completed"
    },
    "tags": []
   },
   "outputs": [],
   "source": [
    "#hide\n",
    "# g['continent'] = g['continent'].map(mapping['map.continent'])"
   ]
  },
  {
   "cell_type": "code",
   "execution_count": 32,
   "id": "freelance-scout",
   "metadata": {
    "execution": {
     "iopub.execute_input": "2022-04-27T00:44:40.254788Z",
     "iopub.status.busy": "2022-04-27T00:44:40.254161Z",
     "iopub.status.idle": "2022-04-27T00:44:40.257098Z",
     "shell.execute_reply": "2022-04-27T00:44:40.256570Z"
    },
    "papermill": {
     "duration": 0.045418,
     "end_time": "2022-04-27T00:44:40.257239",
     "exception": false,
     "start_time": "2022-04-27T00:44:40.211821",
     "status": "completed"
    },
    "tags": []
   },
   "outputs": [],
   "source": [
    "#hide\n",
    "# g.head()"
   ]
  },
  {
   "cell_type": "code",
   "execution_count": 33,
   "id": "limited-engine",
   "metadata": {
    "execution": {
     "iopub.execute_input": "2022-04-27T00:44:40.336756Z",
     "iopub.status.busy": "2022-04-27T00:44:40.335976Z",
     "iopub.status.idle": "2022-04-27T00:44:40.338503Z",
     "shell.execute_reply": "2022-04-27T00:44:40.337978Z"
    },
    "papermill": {
     "duration": 0.04286,
     "end_time": "2022-04-27T00:44:40.338660",
     "exception": false,
     "start_time": "2022-04-27T00:44:40.295800",
     "status": "completed"
    },
    "tags": []
   },
   "outputs": [],
   "source": [
    "# hide\n",
    "# g['date'] = g['date'].astype('datetime64[ns]')"
   ]
  },
  {
   "cell_type": "code",
   "execution_count": 34,
   "id": "sophisticated-supervisor",
   "metadata": {
    "execution": {
     "iopub.execute_input": "2022-04-27T00:44:40.419744Z",
     "iopub.status.busy": "2022-04-27T00:44:40.418866Z",
     "iopub.status.idle": "2022-04-27T00:44:40.421634Z",
     "shell.execute_reply": "2022-04-27T00:44:40.421057Z"
    },
    "papermill": {
     "duration": 0.045795,
     "end_time": "2022-04-27T00:44:40.421750",
     "exception": false,
     "start_time": "2022-04-27T00:44:40.375955",
     "status": "completed"
    },
    "tags": []
   },
   "outputs": [],
   "source": [
    "#hide\n",
    "# g['date'] = g.date.dt.dayofyear"
   ]
  },
  {
   "cell_type": "code",
   "execution_count": 35,
   "id": "inside-dubai",
   "metadata": {
    "execution": {
     "iopub.execute_input": "2022-04-27T00:44:40.499735Z",
     "iopub.status.busy": "2022-04-27T00:44:40.499106Z",
     "iopub.status.idle": "2022-04-27T00:44:40.501465Z",
     "shell.execute_reply": "2022-04-27T00:44:40.500970Z"
    },
    "papermill": {
     "duration": 0.047053,
     "end_time": "2022-04-27T00:44:40.501583",
     "exception": false,
     "start_time": "2022-04-27T00:44:40.454530",
     "status": "completed"
    },
    "tags": []
   },
   "outputs": [],
   "source": [
    "#hide\n",
    "# g = g.rename(columns= {'continent':'group','country':'name','cases':'value'})"
   ]
  },
  {
   "cell_type": "code",
   "execution_count": 36,
   "id": "fleet-motorcycle",
   "metadata": {
    "execution": {
     "iopub.execute_input": "2022-04-27T00:44:40.585735Z",
     "iopub.status.busy": "2022-04-27T00:44:40.584497Z",
     "iopub.status.idle": "2022-04-27T00:44:40.588051Z",
     "shell.execute_reply": "2022-04-27T00:44:40.588700Z"
    },
    "papermill": {
     "duration": 0.048009,
     "end_time": "2022-04-27T00:44:40.588851",
     "exception": false,
     "start_time": "2022-04-27T00:44:40.540842",
     "status": "completed"
    },
    "tags": []
   },
   "outputs": [],
   "source": [
    "#hide\n",
    "# cols = ['name','group','day','value']"
   ]
  },
  {
   "cell_type": "code",
   "execution_count": 37,
   "id": "continued-sleeping",
   "metadata": {
    "execution": {
     "iopub.execute_input": "2022-04-27T00:44:40.665668Z",
     "iopub.status.busy": "2022-04-27T00:44:40.665114Z",
     "iopub.status.idle": "2022-04-27T00:44:40.667932Z",
     "shell.execute_reply": "2022-04-27T00:44:40.667307Z"
    },
    "papermill": {
     "duration": 0.043523,
     "end_time": "2022-04-27T00:44:40.668050",
     "exception": false,
     "start_time": "2022-04-27T00:44:40.624527",
     "status": "completed"
    },
    "tags": []
   },
   "outputs": [],
   "source": [
    "#hide\n",
    "# g.rename(columns= {'date':'day'},inplace = True)"
   ]
  },
  {
   "cell_type": "code",
   "execution_count": 38,
   "id": "major-fight",
   "metadata": {
    "execution": {
     "iopub.execute_input": "2022-04-27T00:44:40.744989Z",
     "iopub.status.busy": "2022-04-27T00:44:40.744301Z",
     "iopub.status.idle": "2022-04-27T00:44:40.747019Z",
     "shell.execute_reply": "2022-04-27T00:44:40.746262Z"
    },
    "papermill": {
     "duration": 0.043911,
     "end_time": "2022-04-27T00:44:40.747173",
     "exception": false,
     "start_time": "2022-04-27T00:44:40.703262",
     "status": "completed"
    },
    "tags": []
   },
   "outputs": [],
   "source": [
    "#hide\n",
    "# g = g[cols]"
   ]
  },
  {
   "cell_type": "code",
   "execution_count": 39,
   "id": "structured-mobile",
   "metadata": {
    "execution": {
     "iopub.execute_input": "2022-04-27T00:44:40.827093Z",
     "iopub.status.busy": "2022-04-27T00:44:40.826382Z",
     "iopub.status.idle": "2022-04-27T00:44:40.829652Z",
     "shell.execute_reply": "2022-04-27T00:44:40.828292Z"
    },
    "papermill": {
     "duration": 0.045246,
     "end_time": "2022-04-27T00:44:40.830007",
     "exception": false,
     "start_time": "2022-04-27T00:44:40.784761",
     "status": "completed"
    },
    "tags": []
   },
   "outputs": [],
   "source": [
    "# #hide\n",
    "# g = g[g.group.notna()]"
   ]
  },
  {
   "cell_type": "code",
   "execution_count": 40,
   "id": "determined-closing",
   "metadata": {
    "execution": {
     "iopub.execute_input": "2022-04-27T00:44:40.917694Z",
     "iopub.status.busy": "2022-04-27T00:44:40.916985Z",
     "iopub.status.idle": "2022-04-27T00:44:40.919491Z",
     "shell.execute_reply": "2022-04-27T00:44:40.918917Z"
    },
    "papermill": {
     "duration": 0.04868,
     "end_time": "2022-04-27T00:44:40.919635",
     "exception": false,
     "start_time": "2022-04-27T00:44:40.870955",
     "status": "completed"
    },
    "tags": []
   },
   "outputs": [],
   "source": [
    "# #hide\n",
    "# colors = dict(zip(\n",
    "#     [\"Oceania\", \"Europe\", \"Asia\", \"South America\", \"Middle East\", \"North America\", \"Africa\"],\n",
    "#     [\"#adb0ff\", \"#ffb3ff\", \"#90d595\", \"#e48381\", \"#aafbff\", \"#f7bb5f\", \"#eafb50\"]\n",
    "# ))\n",
    "# group_lk = g.set_index('name')['group'].to_dict()"
   ]
  },
  {
   "cell_type": "code",
   "execution_count": null,
   "id": "gross-drinking",
   "metadata": {
    "papermill": {
     "duration": 0.040291,
     "end_time": "2022-04-27T00:44:40.996389",
     "exception": false,
     "start_time": "2022-04-27T00:44:40.956098",
     "status": "completed"
    },
    "tags": []
   },
   "outputs": [],
   "source": []
  },
  {
   "cell_type": "code",
   "execution_count": 41,
   "id": "subject-macintosh",
   "metadata": {
    "execution": {
     "iopub.execute_input": "2022-04-27T00:44:41.075144Z",
     "iopub.status.busy": "2022-04-27T00:44:41.074436Z",
     "iopub.status.idle": "2022-04-27T00:44:41.077388Z",
     "shell.execute_reply": "2022-04-27T00:44:41.076710Z"
    },
    "papermill": {
     "duration": 0.045344,
     "end_time": "2022-04-27T00:44:41.077507",
     "exception": false,
     "start_time": "2022-04-27T00:44:41.032163",
     "status": "completed"
    },
    "tags": []
   },
   "outputs": [],
   "source": [
    "# #hide\n",
    "# fig, ax = plt.subplots(figsize=(15, 8))\n",
    "\n",
    "# def draw_barchart(current_day):\n",
    "#     dff = g[g['day'].eq(current_day)].sort_values(by='value', ascending=True).tail(10)\n",
    "#     ax.clear()\n",
    "#     ax.barh(dff['name'], dff['value'], color=[colors[group_lk[x]] for x in dff['name']])\n",
    "#     dx = dff['value'].max() / 200\n",
    "    \n",
    "#     for i, (value, name) in enumerate(zip(dff['value'], dff['name'])):\n",
    "#         ax.text(value-dx, i,     name,           size=14, weight=600, ha='right', va='bottom')\n",
    "#         ax.text(value-dx, i-.25, group_lk[name], size=10, color='#444444', ha='right', va='baseline')\n",
    "#         ax.text(value+dx, i,     f'{value:,.0f}',  size=14, ha='left',  va='center')\n",
    "#     ax.text(1, 0.4, current_day, transform=ax.transAxes, color='#777777', size=46, ha='right', weight=800)\n",
    "#     ax.text(0, 1.06, 'Population (thousands)', transform=ax.transAxes, size=12, color='#777777')\n",
    "#     ax.xaxis.set_major_formatter(ticker.StrMethodFormatter('{x:,.0f}'))\n",
    "#     ax.xaxis.set_ticks_position('top')\n",
    "#     ax.tick_params(axis='x', colors='#777777', labelsize=12)\n",
    "#     ax.set_yticks([])\n",
    "#     ax.margins(0, 0.01)\n",
    "#     ax.grid(which='major', axis='x', linestyle='-')\n",
    "#     ax.set_axisbelow(True)\n",
    "    \n",
    "#     ax.text(0, 1.15, 'Coronavirus',\n",
    "#             transform=ax.transAxes, size=24, weight=600, ha='left', va='top')\n",
    "# #     ax.text(1, 0, 'by @pratapvardhan; credit @jburnmurdoch', transform=ax.transAxes, color='#777777', ha='right',\n",
    "# #             bbox=dict(facecolor='white', alpha=0.8, edgecolor='white'))\n",
    "#     plt.box(False)"
   ]
  },
  {
   "cell_type": "code",
   "execution_count": 42,
   "id": "sexual-wages",
   "metadata": {
    "execution": {
     "iopub.execute_input": "2022-04-27T00:44:41.153703Z",
     "iopub.status.busy": "2022-04-27T00:44:41.153149Z",
     "iopub.status.idle": "2022-04-27T00:44:41.156585Z",
     "shell.execute_reply": "2022-04-27T00:44:41.157026Z"
    },
    "papermill": {
     "duration": 0.043736,
     "end_time": "2022-04-27T00:44:41.157162",
     "exception": false,
     "start_time": "2022-04-27T00:44:41.113426",
     "status": "completed"
    },
    "tags": []
   },
   "outputs": [],
   "source": [
    "# #hide_input\n",
    "# fig, ax = plt.subplots(figsize=(15, 8))\n",
    "# animator = animation.FuncAnimation(fig, draw_barchart, frames=range(g.day.values.min(), g.day.values.max()))\n",
    "# HTML(animator.to_jshtml())\n",
    "# # or use animator.to_html5_video() or animator.save() "
   ]
  },
  {
   "cell_type": "code",
   "execution_count": null,
   "id": "australian-container",
   "metadata": {
    "papermill": {
     "duration": 0.039628,
     "end_time": "2022-04-27T00:44:41.231577",
     "exception": false,
     "start_time": "2022-04-27T00:44:41.191949",
     "status": "completed"
    },
    "tags": []
   },
   "outputs": [],
   "source": []
  },
  {
   "cell_type": "code",
   "execution_count": null,
   "id": "mediterranean-pontiac",
   "metadata": {
    "papermill": {
     "duration": 0.036404,
     "end_time": "2022-04-27T00:44:41.301532",
     "exception": false,
     "start_time": "2022-04-27T00:44:41.265128",
     "status": "completed"
    },
    "tags": []
   },
   "outputs": [],
   "source": []
  },
  {
   "cell_type": "code",
   "execution_count": null,
   "id": "aging-legislature",
   "metadata": {
    "papermill": {
     "duration": 0.036932,
     "end_time": "2022-04-27T00:44:41.373371",
     "exception": false,
     "start_time": "2022-04-27T00:44:41.336439",
     "status": "completed"
    },
    "tags": []
   },
   "outputs": [],
   "source": []
  }
 ],
 "metadata": {
  "kernelspec": {
   "display_name": "Python 3",
   "language": "python",
   "name": "python3"
  },
  "language_info": {
   "codemirror_mode": {
    "name": "ipython",
    "version": 3
   },
   "file_extension": ".py",
   "mimetype": "text/x-python",
   "name": "python",
   "nbconvert_exporter": "python",
   "pygments_lexer": "ipython3",
   "version": "3.6.15"
  },
  "papermill": {
   "duration": 7.145861,
   "end_time": "2022-04-27T00:44:41.731641",
   "environment_variables": {},
   "exception": null,
   "input_path": "2020-03-21-covid19exp.ipynb",
   "output_path": "2020-03-21-covid19exp.ipynb",
   "parameters": {},
   "start_time": "2022-04-27T00:44:34.585780",
   "version": "2.0.0"
  }
 },
 "nbformat": 4,
 "nbformat_minor": 5
}