{
 "cells": [
  {
   "cell_type": "markdown",
   "id": "muslim-click",
   "metadata": {
    "papermill": {
     "duration": 0.043997,
     "end_time": "2022-01-19T00:25:16.253561",
     "exception": false,
     "start_time": "2022-01-19T00:25:16.209564",
     "status": "completed"
    },
    "tags": []
   },
   "source": [
    "# COVID-19 Case Race\n",
    "> A race chart to see rising cases around the world\n",
    "\n",
    "- author: Hargun Oberoi\n",
    "- image: images/covid-overview.png\n",
    "- hide: false\n",
    "- badges: false"
   ]
  },
  {
   "cell_type": "code",
   "execution_count": 1,
   "id": "proof-material",
   "metadata": {
    "execution": {
     "iopub.execute_input": "2022-01-19T00:25:16.346933Z",
     "iopub.status.busy": "2022-01-19T00:25:16.346283Z",
     "iopub.status.idle": "2022-01-19T00:25:16.753559Z",
     "shell.execute_reply": "2022-01-19T00:25:16.752775Z"
    },
    "papermill": {
     "duration": 0.458403,
     "end_time": "2022-01-19T00:25:16.753855",
     "exception": false,
     "start_time": "2022-01-19T00:25:16.295452",
     "status": "completed"
    },
    "tags": []
   },
   "outputs": [],
   "source": [
    "#hide\n",
    "import numpy as np\n",
    "import pandas as pd\n",
    "from jinja2 import Template\n",
    "from IPython.display import HTML"
   ]
  },
  {
   "cell_type": "code",
   "execution_count": 2,
   "id": "developed-terminology",
   "metadata": {
    "execution": {
     "iopub.execute_input": "2022-01-19T00:25:16.834693Z",
     "iopub.status.busy": "2022-01-19T00:25:16.833839Z",
     "iopub.status.idle": "2022-01-19T00:25:16.835842Z",
     "shell.execute_reply": "2022-01-19T00:25:16.836367Z"
    },
    "papermill": {
     "duration": 0.044544,
     "end_time": "2022-01-19T00:25:16.836503",
     "exception": false,
     "start_time": "2022-01-19T00:25:16.791959",
     "status": "completed"
    },
    "tags": []
   },
   "outputs": [],
   "source": [
    "#hide\n",
    "\n",
    "# FETCH\n",
    "base_url = 'https://raw.githubusercontent.com/pratapvardhan/notebooks/master/covid19/'\n",
    "paths = {\n",
    "    'mapping': base_url + 'mapping_countries.csv',\n",
    "    'overview': base_url + 'overview.tpl'\n",
    "}"
   ]
  },
  {
   "cell_type": "code",
   "execution_count": 3,
   "id": "dynamic-saver",
   "metadata": {
    "execution": {
     "iopub.execute_input": "2022-01-19T00:25:16.919644Z",
     "iopub.status.busy": "2022-01-19T00:25:16.918937Z",
     "iopub.status.idle": "2022-01-19T00:25:16.922177Z",
     "shell.execute_reply": "2022-01-19T00:25:16.921573Z"
    },
    "papermill": {
     "duration": 0.047802,
     "end_time": "2022-01-19T00:25:16.922342",
     "exception": false,
     "start_time": "2022-01-19T00:25:16.874540",
     "status": "completed"
    },
    "tags": []
   },
   "outputs": [
    {
     "data": {
      "text/plain": [
       "'https://raw.githubusercontent.com/pratapvardhan/notebooks/master/covid19/mapping_countries.csv'"
      ]
     },
     "execution_count": 3,
     "metadata": {},
     "output_type": "execute_result"
    }
   ],
   "source": [
    "#hide\n",
    "paths['mapping']"
   ]
  },
  {
   "cell_type": "code",
   "execution_count": 4,
   "id": "urban-software",
   "metadata": {
    "execution": {
     "iopub.execute_input": "2022-01-19T00:25:16.992186Z",
     "iopub.status.busy": "2022-01-19T00:25:16.991548Z",
     "iopub.status.idle": "2022-01-19T00:25:16.993802Z",
     "shell.execute_reply": "2022-01-19T00:25:16.993219Z"
    },
    "papermill": {
     "duration": 0.038054,
     "end_time": "2022-01-19T00:25:16.993912",
     "exception": false,
     "start_time": "2022-01-19T00:25:16.955858",
     "status": "completed"
    },
    "tags": []
   },
   "outputs": [],
   "source": [
    "#hide\n",
    "def get_mappings(url):\n",
    "    df = pd.read_csv(url)\n",
    "    return {\n",
    "        'df': df,\n",
    "        'replace.country': dict(df.dropna(subset=['Name']).set_index('Country')['Name']),\n",
    "        'map.continent': dict(df.set_index('Name')['Continent'])\n",
    "    }"
   ]
  },
  {
   "cell_type": "code",
   "execution_count": 5,
   "id": "intimate-machinery",
   "metadata": {
    "execution": {
     "iopub.execute_input": "2022-01-19T00:25:17.070302Z",
     "iopub.status.busy": "2022-01-19T00:25:17.069702Z",
     "iopub.status.idle": "2022-01-19T00:25:17.100462Z",
     "shell.execute_reply": "2022-01-19T00:25:17.100966Z"
    },
    "papermill": {
     "duration": 0.073611,
     "end_time": "2022-01-19T00:25:17.101084",
     "exception": false,
     "start_time": "2022-01-19T00:25:17.027473",
     "status": "completed"
    },
    "tags": []
   },
   "outputs": [],
   "source": [
    "#hide\n",
    "mapping = get_mappings(paths['mapping'])"
   ]
  },
  {
   "cell_type": "code",
   "execution_count": 6,
   "id": "certified-tactics",
   "metadata": {
    "execution": {
     "iopub.execute_input": "2022-01-19T00:25:17.176860Z",
     "iopub.status.busy": "2022-01-19T00:25:17.176123Z",
     "iopub.status.idle": "2022-01-19T00:25:17.178628Z",
     "shell.execute_reply": "2022-01-19T00:25:17.179075Z"
    },
    "papermill": {
     "duration": 0.042624,
     "end_time": "2022-01-19T00:25:17.179254",
     "exception": false,
     "start_time": "2022-01-19T00:25:17.136630",
     "status": "completed"
    },
    "tags": []
   },
   "outputs": [],
   "source": [
    "#hide\n",
    "def get_template(path):\n",
    "    from urllib.parse import urlparse\n",
    "    if bool(urlparse(path).netloc):\n",
    "        from urllib.request import urlopen\n",
    "        return urlopen(path).read().decode('utf8')\n",
    "    return open(path).read()"
   ]
  },
  {
   "cell_type": "code",
   "execution_count": 7,
   "id": "realistic-blast",
   "metadata": {
    "execution": {
     "iopub.execute_input": "2022-01-19T00:25:17.257844Z",
     "iopub.status.busy": "2022-01-19T00:25:17.257276Z",
     "iopub.status.idle": "2022-01-19T00:25:17.259858Z",
     "shell.execute_reply": "2022-01-19T00:25:17.259340Z"
    },
    "papermill": {
     "duration": 0.044974,
     "end_time": "2022-01-19T00:25:17.259971",
     "exception": false,
     "start_time": "2022-01-19T00:25:17.214997",
     "status": "completed"
    },
    "tags": []
   },
   "outputs": [],
   "source": [
    "#hide\n",
    "def get_frame(name):\n",
    "    url = (\n",
    "        'https://raw.githubusercontent.com/CSSEGISandData/COVID-19/master/csse_covid_19_data/'\n",
    "        f'csse_covid_19_time_series/time_series_covid19_{name}_global.csv')\n",
    "    df = pd.read_csv(url)\n",
    "    # rename countries\n",
    "    df['Country/Region'] = df['Country/Region'].replace(mapping['replace.country'])\n",
    "    return df"
   ]
  },
  {
   "cell_type": "code",
   "execution_count": 8,
   "id": "affiliated-characterization",
   "metadata": {
    "execution": {
     "iopub.execute_input": "2022-01-19T00:25:17.341061Z",
     "iopub.status.busy": "2022-01-19T00:25:17.340418Z",
     "iopub.status.idle": "2022-01-19T00:25:17.342760Z",
     "shell.execute_reply": "2022-01-19T00:25:17.342145Z"
    },
    "papermill": {
     "duration": 0.04807,
     "end_time": "2022-01-19T00:25:17.342898",
     "exception": false,
     "start_time": "2022-01-19T00:25:17.294828",
     "status": "completed"
    },
    "tags": []
   },
   "outputs": [],
   "source": [
    "#hide\n",
    "def get_dates(df):\n",
    "    dt_cols = df.columns[~df.columns.isin(['Province/State', 'Country/Region', 'Lat', 'Long'])]\n",
    "    LAST_DATE_I = -1\n",
    "    # sometimes last column may be empty, then go backwards\n",
    "    for i in range(-1, -len(dt_cols), -1):\n",
    "        if not df[dt_cols[i]].fillna(0).eq(0).all():\n",
    "            LAST_DATE_I = i\n",
    "            break\n",
    "    return LAST_DATE_I, dt_cols"
   ]
  },
  {
   "cell_type": "code",
   "execution_count": 9,
   "id": "recent-optimization",
   "metadata": {
    "execution": {
     "iopub.execute_input": "2022-01-19T00:25:17.423440Z",
     "iopub.status.busy": "2022-01-19T00:25:17.422502Z",
     "iopub.status.idle": "2022-01-19T00:25:17.805007Z",
     "shell.execute_reply": "2022-01-19T00:25:17.805512Z"
    },
    "papermill": {
     "duration": 0.424856,
     "end_time": "2022-01-19T00:25:17.805674",
     "exception": false,
     "start_time": "2022-01-19T00:25:17.380818",
     "status": "completed"
    },
    "tags": []
   },
   "outputs": [],
   "source": [
    "#hide\n",
    "COL_REGION = 'Country/Region'\n",
    "# Confirmed, Recovered, Deaths\n",
    "df = get_frame('confirmed')\n",
    "# dft_: timeseries, dfc_: today country agg\n",
    "dft_cases = df\n",
    "dft_deaths = get_frame('deaths')\n",
    "dft_recovered = get_frame('recovered')\n",
    "LAST_DATE_I, dt_cols = get_dates(df)"
   ]
  },
  {
   "cell_type": "code",
   "execution_count": 10,
   "id": "absolute-copper",
   "metadata": {
    "execution": {
     "iopub.execute_input": "2022-01-19T00:25:17.884459Z",
     "iopub.status.busy": "2022-01-19T00:25:17.883836Z",
     "iopub.status.idle": "2022-01-19T00:25:17.886836Z",
     "shell.execute_reply": "2022-01-19T00:25:17.887301Z"
    },
    "papermill": {
     "duration": 0.045902,
     "end_time": "2022-01-19T00:25:17.887472",
     "exception": false,
     "start_time": "2022-01-19T00:25:17.841570",
     "status": "completed"
    },
    "tags": []
   },
   "outputs": [],
   "source": [
    "#hide\n",
    "LAST_DATE_I, dt_cols = get_dates(df)\n",
    "dt_today =dt_cols[LAST_DATE_I]\n",
    "# dt_5day = dt_cols[LAST_DATE_I - 5]\n",
    "dt_yday = dt_cols[LAST_DATE_I - 1]"
   ]
  },
  {
   "cell_type": "code",
   "execution_count": 11,
   "id": "restricted-sheriff",
   "metadata": {
    "execution": {
     "iopub.execute_input": "2022-01-19T00:25:17.968134Z",
     "iopub.status.busy": "2022-01-19T00:25:17.967553Z",
     "iopub.status.idle": "2022-01-19T00:25:17.976892Z",
     "shell.execute_reply": "2022-01-19T00:25:17.977529Z"
    },
    "papermill": {
     "duration": 0.050634,
     "end_time": "2022-01-19T00:25:17.977689",
     "exception": false,
     "start_time": "2022-01-19T00:25:17.927055",
     "status": "completed"
    },
    "tags": []
   },
   "outputs": [],
   "source": [
    "#hide\n",
    "dfc_cases = dft_cases.groupby(COL_REGION)[dt_today].sum()\n",
    "dfc_deaths = dft_deaths.groupby(COL_REGION)[dt_today].sum()\n",
    "# dfp_cases = dft_cases.groupby(COL_REGION)[dt_5day].sum()\n",
    "# dfp_deaths = dft_deaths.groupby(COL_REGION)[dt_5day].sum()\n",
    "dfp_cases = dft_cases.groupby(COL_REGION)[dt_yday].sum()\n",
    "dfp_deaths = dft_deaths.groupby(COL_REGION)[dt_yday].sum()"
   ]
  },
  {
   "cell_type": "code",
   "execution_count": 12,
   "id": "deluxe-hepatitis",
   "metadata": {
    "execution": {
     "iopub.execute_input": "2022-01-19T00:25:18.058583Z",
     "iopub.status.busy": "2022-01-19T00:25:18.057914Z",
     "iopub.status.idle": "2022-01-19T00:25:18.062902Z",
     "shell.execute_reply": "2022-01-19T00:25:18.063421Z"
    },
    "papermill": {
     "duration": 0.04833,
     "end_time": "2022-01-19T00:25:18.063577",
     "exception": false,
     "start_time": "2022-01-19T00:25:18.015247",
     "status": "completed"
    },
    "tags": []
   },
   "outputs": [],
   "source": [
    "#hide\n",
    "df_table = (pd.DataFrame(dict(Cases = dfc_cases, Deaths = dfc_deaths, PCases = dfp_cases, PDeaths = dfp_deaths))\n",
    "            .sort_values(by = ['Cases','Deaths'], ascending = [False, False])\n",
    "            .reset_index())"
   ]
  },
  {
   "cell_type": "code",
   "execution_count": 13,
   "id": "educational-chancellor",
   "metadata": {
    "execution": {
     "iopub.execute_input": "2022-01-19T00:25:18.155020Z",
     "iopub.status.busy": "2022-01-19T00:25:18.154407Z",
     "iopub.status.idle": "2022-01-19T00:25:18.166102Z",
     "shell.execute_reply": "2022-01-19T00:25:18.165193Z"
    },
    "papermill": {
     "duration": 0.07047,
     "end_time": "2022-01-19T00:25:18.166309",
     "exception": false,
     "start_time": "2022-01-19T00:25:18.095839",
     "status": "completed"
    },
    "tags": []
   },
   "outputs": [
    {
     "data": {
      "text/html": [
       "<div>\n",
       "<style scoped>\n",
       "    .dataframe tbody tr th:only-of-type {\n",
       "        vertical-align: middle;\n",
       "    }\n",
       "\n",
       "    .dataframe tbody tr th {\n",
       "        vertical-align: top;\n",
       "    }\n",
       "\n",
       "    .dataframe thead th {\n",
       "        text-align: right;\n",
       "    }\n",
       "</style>\n",
       "<table border=\"1\" class=\"dataframe\">\n",
       "  <thead>\n",
       "    <tr style=\"text-align: right;\">\n",
       "      <th></th>\n",
       "      <th>Country/Region</th>\n",
       "      <th>Cases</th>\n",
       "      <th>Deaths</th>\n",
       "      <th>PCases</th>\n",
       "      <th>PDeaths</th>\n",
       "      <th>Cases (+)</th>\n",
       "      <th>Deaths (+)</th>\n",
       "      <th>Fatality Rate</th>\n",
       "      <th>Continent</th>\n",
       "    </tr>\n",
       "  </thead>\n",
       "  <tbody>\n",
       "    <tr>\n",
       "      <th>0</th>\n",
       "      <td>US</td>\n",
       "      <td>66529283</td>\n",
       "      <td>852055</td>\n",
       "      <td>65703875</td>\n",
       "      <td>850931</td>\n",
       "      <td>825408</td>\n",
       "      <td>1124</td>\n",
       "      <td>1.28</td>\n",
       "      <td>North America</td>\n",
       "    </tr>\n",
       "    <tr>\n",
       "      <th>1</th>\n",
       "      <td>India</td>\n",
       "      <td>37618271</td>\n",
       "      <td>486761</td>\n",
       "      <td>37380253</td>\n",
       "      <td>486451</td>\n",
       "      <td>238018</td>\n",
       "      <td>310</td>\n",
       "      <td>1.29</td>\n",
       "      <td>Asia</td>\n",
       "    </tr>\n",
       "    <tr>\n",
       "      <th>2</th>\n",
       "      <td>Brazil</td>\n",
       "      <td>23089509</td>\n",
       "      <td>621478</td>\n",
       "      <td>23015128</td>\n",
       "      <td>621327</td>\n",
       "      <td>74381</td>\n",
       "      <td>151</td>\n",
       "      <td>2.69</td>\n",
       "      <td>South America</td>\n",
       "    </tr>\n",
       "    <tr>\n",
       "      <th>3</th>\n",
       "      <td>United Kingdom</td>\n",
       "      <td>15407216</td>\n",
       "      <td>152577</td>\n",
       "      <td>15316611</td>\n",
       "      <td>152484</td>\n",
       "      <td>90605</td>\n",
       "      <td>93</td>\n",
       "      <td>0.99</td>\n",
       "      <td>Europe</td>\n",
       "    </tr>\n",
       "    <tr>\n",
       "      <th>4</th>\n",
       "      <td>France</td>\n",
       "      <td>14284034</td>\n",
       "      <td>128251</td>\n",
       "      <td>14270472</td>\n",
       "      <td>127940</td>\n",
       "      <td>13562</td>\n",
       "      <td>311</td>\n",
       "      <td>0.90</td>\n",
       "      <td>Europe</td>\n",
       "    </tr>\n",
       "  </tbody>\n",
       "</table>\n",
       "</div>"
      ],
      "text/plain": [
       "   Country/Region     Cases  Deaths    PCases  PDeaths  Cases (+)  Deaths (+)  \\\n",
       "0              US  66529283  852055  65703875   850931     825408        1124   \n",
       "1           India  37618271  486761  37380253   486451     238018         310   \n",
       "2          Brazil  23089509  621478  23015128   621327      74381         151   \n",
       "3  United Kingdom  15407216  152577  15316611   152484      90605          93   \n",
       "4          France  14284034  128251  14270472   127940      13562         311   \n",
       "\n",
       "   Fatality Rate      Continent  \n",
       "0           1.28  North America  \n",
       "1           1.29           Asia  \n",
       "2           2.69  South America  \n",
       "3           0.99         Europe  \n",
       "4           0.90         Europe  "
      ]
     },
     "execution_count": 13,
     "metadata": {},
     "output_type": "execute_result"
    }
   ],
   "source": [
    "#hide\n",
    "for c in 'Cases, Deaths'.split(', '):\n",
    "    df_table[f'{c} (+)'] = (df_table[c] - df_table[f'P{c}']).clip(0)\n",
    "    #Clip ça veut dire, les chiffres negatif sont interdit\n",
    "df_table['Fatality Rate'] = (100* df_table['Deaths']/ df_table['Cases']).round(2)\n",
    "df_table['Continent'] = df_table['Country/Region'].map(mapping['map.continent'])\n",
    "df_table.head(5)"
   ]
  },
  {
   "cell_type": "code",
   "execution_count": 14,
   "id": "aboriginal-bulgaria",
   "metadata": {
    "execution": {
     "iopub.execute_input": "2022-01-19T00:25:18.247561Z",
     "iopub.status.busy": "2022-01-19T00:25:18.246861Z",
     "iopub.status.idle": "2022-01-19T00:25:18.250017Z",
     "shell.execute_reply": "2022-01-19T00:25:18.250779Z"
    },
    "papermill": {
     "duration": 0.045208,
     "end_time": "2022-01-19T00:25:18.250934",
     "exception": false,
     "start_time": "2022-01-19T00:25:18.205726",
     "status": "completed"
    },
    "tags": []
   },
   "outputs": [],
   "source": [
    "#hide\n",
    "#delete problematic countries from table\n",
    "df_table = df_table[~df_table['Country/Region'].isin(['Cape Verde', 'Cruise Ship', 'Kosovo'])]"
   ]
  },
  {
   "cell_type": "code",
   "execution_count": 15,
   "id": "fantastic-effect",
   "metadata": {
    "execution": {
     "iopub.execute_input": "2022-01-19T00:25:18.334761Z",
     "iopub.status.busy": "2022-01-19T00:25:18.333871Z",
     "iopub.status.idle": "2022-01-19T00:25:18.360305Z",
     "shell.execute_reply": "2022-01-19T00:25:18.359453Z"
    },
    "papermill": {
     "duration": 0.070617,
     "end_time": "2022-01-19T00:25:18.360484",
     "exception": false,
     "start_time": "2022-01-19T00:25:18.289867",
     "status": "completed"
    },
    "tags": []
   },
   "outputs": [
    {
     "data": {
      "text/html": [
       "<div>\n",
       "<style scoped>\n",
       "    .dataframe tbody tr th:only-of-type {\n",
       "        vertical-align: middle;\n",
       "    }\n",
       "\n",
       "    .dataframe tbody tr th {\n",
       "        vertical-align: top;\n",
       "    }\n",
       "\n",
       "    .dataframe thead th {\n",
       "        text-align: right;\n",
       "    }\n",
       "</style>\n",
       "<table border=\"1\" class=\"dataframe\">\n",
       "  <thead>\n",
       "    <tr style=\"text-align: right;\">\n",
       "      <th></th>\n",
       "      <th>Country/Region</th>\n",
       "      <th>Cases</th>\n",
       "      <th>Deaths</th>\n",
       "      <th>PCases</th>\n",
       "      <th>PDeaths</th>\n",
       "      <th>Cases (+)</th>\n",
       "      <th>Deaths (+)</th>\n",
       "      <th>Fatality Rate</th>\n",
       "      <th>Continent</th>\n",
       "    </tr>\n",
       "  </thead>\n",
       "  <tbody>\n",
       "    <tr>\n",
       "      <th>0</th>\n",
       "      <td>US</td>\n",
       "      <td>66529283</td>\n",
       "      <td>852055</td>\n",
       "      <td>65703875</td>\n",
       "      <td>850931</td>\n",
       "      <td>825408</td>\n",
       "      <td>1124</td>\n",
       "      <td>1.3</td>\n",
       "      <td>North America</td>\n",
       "    </tr>\n",
       "    <tr>\n",
       "      <th>1</th>\n",
       "      <td>India</td>\n",
       "      <td>37618271</td>\n",
       "      <td>486761</td>\n",
       "      <td>37380253</td>\n",
       "      <td>486451</td>\n",
       "      <td>238018</td>\n",
       "      <td>310</td>\n",
       "      <td>1.3</td>\n",
       "      <td>Asia</td>\n",
       "    </tr>\n",
       "    <tr>\n",
       "      <th>2</th>\n",
       "      <td>Brazil</td>\n",
       "      <td>23089509</td>\n",
       "      <td>621478</td>\n",
       "      <td>23015128</td>\n",
       "      <td>621327</td>\n",
       "      <td>74381</td>\n",
       "      <td>151</td>\n",
       "      <td>2.7</td>\n",
       "      <td>South America</td>\n",
       "    </tr>\n",
       "    <tr>\n",
       "      <th>3</th>\n",
       "      <td>United Kingdom</td>\n",
       "      <td>15407216</td>\n",
       "      <td>152577</td>\n",
       "      <td>15316611</td>\n",
       "      <td>152484</td>\n",
       "      <td>90605</td>\n",
       "      <td>93</td>\n",
       "      <td>1.0</td>\n",
       "      <td>Europe</td>\n",
       "    </tr>\n",
       "    <tr>\n",
       "      <th>4</th>\n",
       "      <td>France</td>\n",
       "      <td>14284034</td>\n",
       "      <td>128251</td>\n",
       "      <td>14270472</td>\n",
       "      <td>127940</td>\n",
       "      <td>13562</td>\n",
       "      <td>311</td>\n",
       "      <td>0.9</td>\n",
       "      <td>Europe</td>\n",
       "    </tr>\n",
       "  </tbody>\n",
       "</table>\n",
       "</div>"
      ],
      "text/plain": [
       "   Country/Region     Cases  Deaths    PCases  PDeaths  Cases (+)  Deaths (+)  \\\n",
       "0              US  66529283  852055  65703875   850931     825408        1124   \n",
       "1           India  37618271  486761  37380253   486451     238018         310   \n",
       "2          Brazil  23089509  621478  23015128   621327      74381         151   \n",
       "3  United Kingdom  15407216  152577  15316611   152484      90605          93   \n",
       "4          France  14284034  128251  14270472   127940      13562         311   \n",
       "\n",
       "   Fatality Rate      Continent  \n",
       "0            1.3  North America  \n",
       "1            1.3           Asia  \n",
       "2            2.7  South America  \n",
       "3            1.0         Europe  \n",
       "4            0.9         Europe  "
      ]
     },
     "execution_count": 15,
     "metadata": {},
     "output_type": "execute_result"
    }
   ],
   "source": [
    "#hide\n",
    "df_table = (pd.DataFrame(dict(Cases=dfc_cases, Deaths=dfc_deaths, PCases=dfp_cases, PDeaths=dfp_deaths))\n",
    "             .sort_values(by=['Cases', 'Deaths'], ascending=[False, False])\n",
    "             .reset_index())\n",
    "df_table.rename(columns={'index': 'Country/Region'}, inplace=True)\n",
    "for c in 'Cases, Deaths'.split(', '):\n",
    "    df_table[f'{c} (+)'] = (df_table[c] - df_table[f'P{c}']).clip(0)  # DATA BUG\n",
    "df_table['Fatality Rate'] = (100 * df_table['Deaths'] / df_table['Cases']).round(1)\n",
    "df_table['Continent'] = df_table['Country/Region'].map(mapping['map.continent'])\n",
    "df_table.head(5)"
   ]
  },
  {
   "cell_type": "code",
   "execution_count": 16,
   "id": "fewer-occasion",
   "metadata": {
    "execution": {
     "iopub.execute_input": "2022-01-19T00:25:18.445559Z",
     "iopub.status.busy": "2022-01-19T00:25:18.444942Z",
     "iopub.status.idle": "2022-01-19T00:25:18.447421Z",
     "shell.execute_reply": "2022-01-19T00:25:18.448172Z"
    },
    "papermill": {
     "duration": 0.047919,
     "end_time": "2022-01-19T00:25:18.448337",
     "exception": false,
     "start_time": "2022-01-19T00:25:18.400418",
     "status": "completed"
    },
    "tags": []
   },
   "outputs": [],
   "source": [
    "#hide\n",
    "#delete problematic countries from table\n",
    "df_table = df_table[~df_table['Country/Region'].isin(['Cape Verde', 'Cruise Ship', 'Kosovo'])]"
   ]
  },
  {
   "cell_type": "code",
   "execution_count": 17,
   "id": "related-center",
   "metadata": {
    "execution": {
     "iopub.execute_input": "2022-01-19T00:25:18.536835Z",
     "iopub.status.busy": "2022-01-19T00:25:18.536000Z",
     "iopub.status.idle": "2022-01-19T00:25:18.548862Z",
     "shell.execute_reply": "2022-01-19T00:25:18.549456Z"
    },
    "papermill": {
     "duration": 0.063357,
     "end_time": "2022-01-19T00:25:18.549631",
     "exception": false,
     "start_time": "2022-01-19T00:25:18.486274",
     "status": "completed"
    },
    "tags": []
   },
   "outputs": [],
   "source": [
    "#hide\n",
    "metrics = [df_table.columns[index] for index in [1,2,5,6]]\n",
    "# s_china = df_table[df_table['Country/Region'].eq('China')][metrics].sum().add_prefix('China ')\n",
    "s_us = df_table[df_table['Country/Region'].eq('US')][metrics].sum().add_prefix('US ')\n",
    "s_eu = df_table[df_table['Continent'].eq('Europe')][metrics].sum().add_prefix('EU ')\n",
    "s_ind = df_table[df_table['Country/Region'].eq('India')][metrics].sum().add_prefix('India ')\n",
    "summary = {'updated': pd.to_datetime(dt_today), 'since': pd.to_datetime(dt_yday)}\n",
    "summary = {'updated': pd.to_datetime(dt_today), 'since': pd.to_datetime(dt_yday)}\n",
    "summary = {**summary, **df_table[metrics].sum(), **s_ind, **s_us, **s_eu}"
   ]
  },
  {
   "cell_type": "code",
   "execution_count": 18,
   "id": "engaging-syndrome",
   "metadata": {
    "execution": {
     "iopub.execute_input": "2022-01-19T00:25:18.642582Z",
     "iopub.status.busy": "2022-01-19T00:25:18.641987Z",
     "iopub.status.idle": "2022-01-19T00:25:18.656351Z",
     "shell.execute_reply": "2022-01-19T00:25:18.656808Z"
    },
    "papermill": {
     "duration": 0.061987,
     "end_time": "2022-01-19T00:25:18.656942",
     "exception": false,
     "start_time": "2022-01-19T00:25:18.594955",
     "status": "completed"
    },
    "tags": []
   },
   "outputs": [],
   "source": [
    "#hide\n",
    "dft_ct_new_cases = dft_cases.groupby(COL_REGION)[dt_cols].sum().diff(axis=1).fillna(0).astype(int)"
   ]
  },
  {
   "cell_type": "code",
   "execution_count": 19,
   "id": "neutral-assignment",
   "metadata": {
    "execution": {
     "iopub.execute_input": "2022-01-19T00:25:18.739698Z",
     "iopub.status.busy": "2022-01-19T00:25:18.739012Z",
     "iopub.status.idle": "2022-01-19T00:25:18.743596Z",
     "shell.execute_reply": "2022-01-19T00:25:18.744158Z"
    },
    "papermill": {
     "duration": 0.047872,
     "end_time": "2022-01-19T00:25:18.744378",
     "exception": false,
     "start_time": "2022-01-19T00:25:18.696506",
     "status": "completed"
    },
    "tags": []
   },
   "outputs": [],
   "source": [
    "#hide\n",
    "everydaycases = dft_ct_new_cases.cumsum(axis=1)"
   ]
  },
  {
   "cell_type": "code",
   "execution_count": 20,
   "id": "parliamentary-calgary",
   "metadata": {
    "execution": {
     "iopub.execute_input": "2022-01-19T00:25:18.822764Z",
     "iopub.status.busy": "2022-01-19T00:25:18.822145Z",
     "iopub.status.idle": "2022-01-19T00:25:19.524645Z",
     "shell.execute_reply": "2022-01-19T00:25:19.525181Z"
    },
    "papermill": {
     "duration": 0.744599,
     "end_time": "2022-01-19T00:25:19.525399",
     "exception": false,
     "start_time": "2022-01-19T00:25:18.780800",
     "status": "completed"
    },
    "tags": []
   },
   "outputs": [],
   "source": [
    "#hide\n",
    "import pandas as pd\n",
    "import matplotlib.pyplot as plt\n",
    "import matplotlib.ticker as ticker\n",
    "import matplotlib.animation as animation\n",
    "from IPython.display import HTML"
   ]
  },
  {
   "cell_type": "code",
   "execution_count": 21,
   "id": "lasting-extraction",
   "metadata": {
    "execution": {
     "iopub.execute_input": "2022-01-19T00:25:19.613775Z",
     "iopub.status.busy": "2022-01-19T00:25:19.612875Z",
     "iopub.status.idle": "2022-01-19T00:25:19.619202Z",
     "shell.execute_reply": "2022-01-19T00:25:19.619707Z"
    },
    "papermill": {
     "duration": 0.053591,
     "end_time": "2022-01-19T00:25:19.619853",
     "exception": false,
     "start_time": "2022-01-19T00:25:19.566262",
     "status": "completed"
    },
    "tags": []
   },
   "outputs": [],
   "source": [
    "#hide\n",
    "t = everydaycases.stack()"
   ]
  },
  {
   "cell_type": "code",
   "execution_count": 22,
   "id": "premier-sleeve",
   "metadata": {
    "execution": {
     "iopub.execute_input": "2022-01-19T00:25:19.705854Z",
     "iopub.status.busy": "2022-01-19T00:25:19.705159Z",
     "iopub.status.idle": "2022-01-19T00:25:19.715823Z",
     "shell.execute_reply": "2022-01-19T00:25:19.716510Z"
    },
    "papermill": {
     "duration": 0.057078,
     "end_time": "2022-01-19T00:25:19.716708",
     "exception": false,
     "start_time": "2022-01-19T00:25:19.659630",
     "status": "completed"
    },
    "tags": []
   },
   "outputs": [],
   "source": [
    "#hide\n",
    "g = t.reset_index(['Country/Region'])"
   ]
  },
  {
   "cell_type": "code",
   "execution_count": 23,
   "id": "distributed-pittsburgh",
   "metadata": {
    "execution": {
     "iopub.execute_input": "2022-01-19T00:25:19.799654Z",
     "iopub.status.busy": "2022-01-19T00:25:19.798918Z",
     "iopub.status.idle": "2022-01-19T00:25:19.801725Z",
     "shell.execute_reply": "2022-01-19T00:25:19.801110Z"
    },
    "papermill": {
     "duration": 0.046806,
     "end_time": "2022-01-19T00:25:19.801851",
     "exception": false,
     "start_time": "2022-01-19T00:25:19.755045",
     "status": "completed"
    },
    "tags": []
   },
   "outputs": [],
   "source": [
    "#hide\n",
    "g.index.name = 'date'"
   ]
  },
  {
   "cell_type": "code",
   "execution_count": 24,
   "id": "naked-donor",
   "metadata": {
    "execution": {
     "iopub.execute_input": "2022-01-19T00:25:19.884800Z",
     "iopub.status.busy": "2022-01-19T00:25:19.884161Z",
     "iopub.status.idle": "2022-01-19T00:25:19.887286Z",
     "shell.execute_reply": "2022-01-19T00:25:19.887810Z"
    },
    "papermill": {
     "duration": 0.046576,
     "end_time": "2022-01-19T00:25:19.887960",
     "exception": false,
     "start_time": "2022-01-19T00:25:19.841384",
     "status": "completed"
    },
    "tags": []
   },
   "outputs": [],
   "source": [
    "# #hide\n",
    "# g = g.reset_index(['date'])"
   ]
  },
  {
   "cell_type": "code",
   "execution_count": 25,
   "id": "incomplete-mustang",
   "metadata": {
    "execution": {
     "iopub.execute_input": "2022-01-19T00:25:19.973342Z",
     "iopub.status.busy": "2022-01-19T00:25:19.972726Z",
     "iopub.status.idle": "2022-01-19T00:25:19.976728Z",
     "shell.execute_reply": "2022-01-19T00:25:19.977245Z"
    },
    "papermill": {
     "duration": 0.049458,
     "end_time": "2022-01-19T00:25:19.977413",
     "exception": false,
     "start_time": "2022-01-19T00:25:19.927955",
     "status": "completed"
    },
    "tags": []
   },
   "outputs": [],
   "source": [
    "#hide\n",
    "# g.head()"
   ]
  },
  {
   "cell_type": "code",
   "execution_count": 26,
   "id": "specific-kruger",
   "metadata": {
    "execution": {
     "iopub.execute_input": "2022-01-19T00:25:20.058894Z",
     "iopub.status.busy": "2022-01-19T00:25:20.058191Z",
     "iopub.status.idle": "2022-01-19T00:25:20.060220Z",
     "shell.execute_reply": "2022-01-19T00:25:20.060964Z"
    },
    "papermill": {
     "duration": 0.044826,
     "end_time": "2022-01-19T00:25:20.061134",
     "exception": false,
     "start_time": "2022-01-19T00:25:20.016308",
     "status": "completed"
    },
    "tags": []
   },
   "outputs": [],
   "source": [
    "#hide\n",
    "# g.columns = ['date','country','cases']"
   ]
  },
  {
   "cell_type": "code",
   "execution_count": 27,
   "id": "tender-conversion",
   "metadata": {
    "execution": {
     "iopub.execute_input": "2022-01-19T00:25:20.144578Z",
     "iopub.status.busy": "2022-01-19T00:25:20.143910Z",
     "iopub.status.idle": "2022-01-19T00:25:20.148037Z",
     "shell.execute_reply": "2022-01-19T00:25:20.147376Z"
    },
    "papermill": {
     "duration": 0.048089,
     "end_time": "2022-01-19T00:25:20.148185",
     "exception": false,
     "start_time": "2022-01-19T00:25:20.100096",
     "status": "completed"
    },
    "tags": []
   },
   "outputs": [],
   "source": [
    "#hide\n",
    "# g['continent'] = g.country"
   ]
  },
  {
   "cell_type": "code",
   "execution_count": 28,
   "id": "substantial-wilderness",
   "metadata": {
    "execution": {
     "iopub.execute_input": "2022-01-19T00:25:20.232854Z",
     "iopub.status.busy": "2022-01-19T00:25:20.232287Z",
     "iopub.status.idle": "2022-01-19T00:25:20.236731Z",
     "shell.execute_reply": "2022-01-19T00:25:20.237304Z"
    },
    "papermill": {
     "duration": 0.047052,
     "end_time": "2022-01-19T00:25:20.237672",
     "exception": false,
     "start_time": "2022-01-19T00:25:20.190620",
     "status": "completed"
    },
    "tags": []
   },
   "outputs": [],
   "source": [
    "#hide\n",
    "# cols = list(g.columns.values)"
   ]
  },
  {
   "cell_type": "code",
   "execution_count": 29,
   "id": "solved-farming",
   "metadata": {
    "execution": {
     "iopub.execute_input": "2022-01-19T00:25:20.321436Z",
     "iopub.status.busy": "2022-01-19T00:25:20.320733Z",
     "iopub.status.idle": "2022-01-19T00:25:20.323037Z",
     "shell.execute_reply": "2022-01-19T00:25:20.322480Z"
    },
    "papermill": {
     "duration": 0.043915,
     "end_time": "2022-01-19T00:25:20.323148",
     "exception": false,
     "start_time": "2022-01-19T00:25:20.279233",
     "status": "completed"
    },
    "tags": []
   },
   "outputs": [],
   "source": [
    "#hide\n",
    "# cols.insert(0, cols.pop())"
   ]
  },
  {
   "cell_type": "code",
   "execution_count": 30,
   "id": "executed-adoption",
   "metadata": {
    "execution": {
     "iopub.execute_input": "2022-01-19T00:25:20.401610Z",
     "iopub.status.busy": "2022-01-19T00:25:20.401051Z",
     "iopub.status.idle": "2022-01-19T00:25:20.404927Z",
     "shell.execute_reply": "2022-01-19T00:25:20.405430Z"
    },
    "papermill": {
     "duration": 0.045597,
     "end_time": "2022-01-19T00:25:20.405559",
     "exception": false,
     "start_time": "2022-01-19T00:25:20.359962",
     "status": "completed"
    },
    "tags": []
   },
   "outputs": [],
   "source": [
    "#hide\n",
    "# g = g[cols]"
   ]
  },
  {
   "cell_type": "code",
   "execution_count": 31,
   "id": "subject-dublin",
   "metadata": {
    "execution": {
     "iopub.execute_input": "2022-01-19T00:25:20.493677Z",
     "iopub.status.busy": "2022-01-19T00:25:20.492827Z",
     "iopub.status.idle": "2022-01-19T00:25:20.495379Z",
     "shell.execute_reply": "2022-01-19T00:25:20.494666Z"
    },
    "papermill": {
     "duration": 0.047955,
     "end_time": "2022-01-19T00:25:20.495529",
     "exception": false,
     "start_time": "2022-01-19T00:25:20.447574",
     "status": "completed"
    },
    "tags": []
   },
   "outputs": [],
   "source": [
    "#hide\n",
    "# g['continent'] = g['continent'].map(mapping['map.continent'])"
   ]
  },
  {
   "cell_type": "code",
   "execution_count": 32,
   "id": "freelance-scout",
   "metadata": {
    "execution": {
     "iopub.execute_input": "2022-01-19T00:25:20.579157Z",
     "iopub.status.busy": "2022-01-19T00:25:20.578504Z",
     "iopub.status.idle": "2022-01-19T00:25:20.581269Z",
     "shell.execute_reply": "2022-01-19T00:25:20.580729Z"
    },
    "papermill": {
     "duration": 0.045776,
     "end_time": "2022-01-19T00:25:20.581399",
     "exception": false,
     "start_time": "2022-01-19T00:25:20.535623",
     "status": "completed"
    },
    "tags": []
   },
   "outputs": [],
   "source": [
    "#hide\n",
    "# g.head()"
   ]
  },
  {
   "cell_type": "code",
   "execution_count": 33,
   "id": "limited-engine",
   "metadata": {
    "execution": {
     "iopub.execute_input": "2022-01-19T00:25:20.662175Z",
     "iopub.status.busy": "2022-01-19T00:25:20.661319Z",
     "iopub.status.idle": "2022-01-19T00:25:20.667893Z",
     "shell.execute_reply": "2022-01-19T00:25:20.668495Z"
    },
    "papermill": {
     "duration": 0.048251,
     "end_time": "2022-01-19T00:25:20.668669",
     "exception": false,
     "start_time": "2022-01-19T00:25:20.620418",
     "status": "completed"
    },
    "tags": []
   },
   "outputs": [],
   "source": [
    "# hide\n",
    "# g['date'] = g['date'].astype('datetime64[ns]')"
   ]
  },
  {
   "cell_type": "code",
   "execution_count": 34,
   "id": "sophisticated-supervisor",
   "metadata": {
    "execution": {
     "iopub.execute_input": "2022-01-19T00:25:20.751830Z",
     "iopub.status.busy": "2022-01-19T00:25:20.751221Z",
     "iopub.status.idle": "2022-01-19T00:25:20.753550Z",
     "shell.execute_reply": "2022-01-19T00:25:20.753088Z"
    },
    "papermill": {
     "duration": 0.042528,
     "end_time": "2022-01-19T00:25:20.753687",
     "exception": false,
     "start_time": "2022-01-19T00:25:20.711159",
     "status": "completed"
    },
    "tags": []
   },
   "outputs": [],
   "source": [
    "#hide\n",
    "# g['date'] = g.date.dt.dayofyear"
   ]
  },
  {
   "cell_type": "code",
   "execution_count": 35,
   "id": "inside-dubai",
   "metadata": {
    "execution": {
     "iopub.execute_input": "2022-01-19T00:25:20.839962Z",
     "iopub.status.busy": "2022-01-19T00:25:20.839397Z",
     "iopub.status.idle": "2022-01-19T00:25:20.843565Z",
     "shell.execute_reply": "2022-01-19T00:25:20.843059Z"
    },
    "papermill": {
     "duration": 0.049149,
     "end_time": "2022-01-19T00:25:20.843681",
     "exception": false,
     "start_time": "2022-01-19T00:25:20.794532",
     "status": "completed"
    },
    "tags": []
   },
   "outputs": [],
   "source": [
    "#hide\n",
    "# g = g.rename(columns= {'continent':'group','country':'name','cases':'value'})"
   ]
  },
  {
   "cell_type": "code",
   "execution_count": 36,
   "id": "fleet-motorcycle",
   "metadata": {
    "execution": {
     "iopub.execute_input": "2022-01-19T00:25:20.920215Z",
     "iopub.status.busy": "2022-01-19T00:25:20.919617Z",
     "iopub.status.idle": "2022-01-19T00:25:20.921820Z",
     "shell.execute_reply": "2022-01-19T00:25:20.922420Z"
    },
    "papermill": {
     "duration": 0.041335,
     "end_time": "2022-01-19T00:25:20.922582",
     "exception": false,
     "start_time": "2022-01-19T00:25:20.881247",
     "status": "completed"
    },
    "tags": []
   },
   "outputs": [],
   "source": [
    "#hide\n",
    "# cols = ['name','group','day','value']"
   ]
  },
  {
   "cell_type": "code",
   "execution_count": 37,
   "id": "continued-sleeping",
   "metadata": {
    "execution": {
     "iopub.execute_input": "2022-01-19T00:25:20.998519Z",
     "iopub.status.busy": "2022-01-19T00:25:20.997888Z",
     "iopub.status.idle": "2022-01-19T00:25:21.000605Z",
     "shell.execute_reply": "2022-01-19T00:25:21.001155Z"
    },
    "papermill": {
     "duration": 0.042457,
     "end_time": "2022-01-19T00:25:21.001352",
     "exception": false,
     "start_time": "2022-01-19T00:25:20.958895",
     "status": "completed"
    },
    "tags": []
   },
   "outputs": [],
   "source": [
    "#hide\n",
    "# g.rename(columns= {'date':'day'},inplace = True)"
   ]
  },
  {
   "cell_type": "code",
   "execution_count": 38,
   "id": "major-fight",
   "metadata": {
    "execution": {
     "iopub.execute_input": "2022-01-19T00:25:21.083705Z",
     "iopub.status.busy": "2022-01-19T00:25:21.082998Z",
     "iopub.status.idle": "2022-01-19T00:25:21.086527Z",
     "shell.execute_reply": "2022-01-19T00:25:21.086998Z"
    },
    "papermill": {
     "duration": 0.045403,
     "end_time": "2022-01-19T00:25:21.087129",
     "exception": false,
     "start_time": "2022-01-19T00:25:21.041726",
     "status": "completed"
    },
    "tags": []
   },
   "outputs": [],
   "source": [
    "#hide\n",
    "# g = g[cols]"
   ]
  },
  {
   "cell_type": "code",
   "execution_count": 39,
   "id": "structured-mobile",
   "metadata": {
    "execution": {
     "iopub.execute_input": "2022-01-19T00:25:21.170821Z",
     "iopub.status.busy": "2022-01-19T00:25:21.170203Z",
     "iopub.status.idle": "2022-01-19T00:25:21.173941Z",
     "shell.execute_reply": "2022-01-19T00:25:21.174419Z"
    },
    "papermill": {
     "duration": 0.046959,
     "end_time": "2022-01-19T00:25:21.174561",
     "exception": false,
     "start_time": "2022-01-19T00:25:21.127602",
     "status": "completed"
    },
    "tags": []
   },
   "outputs": [],
   "source": [
    "# #hide\n",
    "# g = g[g.group.notna()]"
   ]
  },
  {
   "cell_type": "code",
   "execution_count": 40,
   "id": "determined-closing",
   "metadata": {
    "execution": {
     "iopub.execute_input": "2022-01-19T00:25:21.257222Z",
     "iopub.status.busy": "2022-01-19T00:25:21.256608Z",
     "iopub.status.idle": "2022-01-19T00:25:21.259210Z",
     "shell.execute_reply": "2022-01-19T00:25:21.258713Z"
    },
    "papermill": {
     "duration": 0.045282,
     "end_time": "2022-01-19T00:25:21.259374",
     "exception": false,
     "start_time": "2022-01-19T00:25:21.214092",
     "status": "completed"
    },
    "tags": []
   },
   "outputs": [],
   "source": [
    "# #hide\n",
    "# colors = dict(zip(\n",
    "#     [\"Oceania\", \"Europe\", \"Asia\", \"South America\", \"Middle East\", \"North America\", \"Africa\"],\n",
    "#     [\"#adb0ff\", \"#ffb3ff\", \"#90d595\", \"#e48381\", \"#aafbff\", \"#f7bb5f\", \"#eafb50\"]\n",
    "# ))\n",
    "# group_lk = g.set_index('name')['group'].to_dict()"
   ]
  },
  {
   "cell_type": "code",
   "execution_count": null,
   "id": "gross-drinking",
   "metadata": {
    "papermill": {
     "duration": 0.04039,
     "end_time": "2022-01-19T00:25:21.340975",
     "exception": false,
     "start_time": "2022-01-19T00:25:21.300585",
     "status": "completed"
    },
    "tags": []
   },
   "outputs": [],
   "source": []
  },
  {
   "cell_type": "code",
   "execution_count": 41,
   "id": "subject-macintosh",
   "metadata": {
    "execution": {
     "iopub.execute_input": "2022-01-19T00:25:21.419226Z",
     "iopub.status.busy": "2022-01-19T00:25:21.418589Z",
     "iopub.status.idle": "2022-01-19T00:25:21.421013Z",
     "shell.execute_reply": "2022-01-19T00:25:21.420332Z"
    },
    "papermill": {
     "duration": 0.043767,
     "end_time": "2022-01-19T00:25:21.421143",
     "exception": false,
     "start_time": "2022-01-19T00:25:21.377376",
     "status": "completed"
    },
    "tags": []
   },
   "outputs": [],
   "source": [
    "# #hide\n",
    "# fig, ax = plt.subplots(figsize=(15, 8))\n",
    "\n",
    "# def draw_barchart(current_day):\n",
    "#     dff = g[g['day'].eq(current_day)].sort_values(by='value', ascending=True).tail(10)\n",
    "#     ax.clear()\n",
    "#     ax.barh(dff['name'], dff['value'], color=[colors[group_lk[x]] for x in dff['name']])\n",
    "#     dx = dff['value'].max() / 200\n",
    "    \n",
    "#     for i, (value, name) in enumerate(zip(dff['value'], dff['name'])):\n",
    "#         ax.text(value-dx, i,     name,           size=14, weight=600, ha='right', va='bottom')\n",
    "#         ax.text(value-dx, i-.25, group_lk[name], size=10, color='#444444', ha='right', va='baseline')\n",
    "#         ax.text(value+dx, i,     f'{value:,.0f}',  size=14, ha='left',  va='center')\n",
    "#     ax.text(1, 0.4, current_day, transform=ax.transAxes, color='#777777', size=46, ha='right', weight=800)\n",
    "#     ax.text(0, 1.06, 'Population (thousands)', transform=ax.transAxes, size=12, color='#777777')\n",
    "#     ax.xaxis.set_major_formatter(ticker.StrMethodFormatter('{x:,.0f}'))\n",
    "#     ax.xaxis.set_ticks_position('top')\n",
    "#     ax.tick_params(axis='x', colors='#777777', labelsize=12)\n",
    "#     ax.set_yticks([])\n",
    "#     ax.margins(0, 0.01)\n",
    "#     ax.grid(which='major', axis='x', linestyle='-')\n",
    "#     ax.set_axisbelow(True)\n",
    "    \n",
    "#     ax.text(0, 1.15, 'Coronavirus',\n",
    "#             transform=ax.transAxes, size=24, weight=600, ha='left', va='top')\n",
    "# #     ax.text(1, 0, 'by @pratapvardhan; credit @jburnmurdoch', transform=ax.transAxes, color='#777777', ha='right',\n",
    "# #             bbox=dict(facecolor='white', alpha=0.8, edgecolor='white'))\n",
    "#     plt.box(False)"
   ]
  },
  {
   "cell_type": "code",
   "execution_count": 42,
   "id": "sexual-wages",
   "metadata": {
    "execution": {
     "iopub.execute_input": "2022-01-19T00:25:21.501797Z",
     "iopub.status.busy": "2022-01-19T00:25:21.501209Z",
     "iopub.status.idle": "2022-01-19T00:25:21.503260Z",
     "shell.execute_reply": "2022-01-19T00:25:21.503802Z"
    },
    "papermill": {
     "duration": 0.045715,
     "end_time": "2022-01-19T00:25:21.503929",
     "exception": false,
     "start_time": "2022-01-19T00:25:21.458214",
     "status": "completed"
    },
    "tags": []
   },
   "outputs": [],
   "source": [
    "# #hide_input\n",
    "# fig, ax = plt.subplots(figsize=(15, 8))\n",
    "# animator = animation.FuncAnimation(fig, draw_barchart, frames=range(g.day.values.min(), g.day.values.max()))\n",
    "# HTML(animator.to_jshtml())\n",
    "# # or use animator.to_html5_video() or animator.save() "
   ]
  },
  {
   "cell_type": "code",
   "execution_count": null,
   "id": "australian-container",
   "metadata": {
    "papermill": {
     "duration": 0.038318,
     "end_time": "2022-01-19T00:25:21.578253",
     "exception": false,
     "start_time": "2022-01-19T00:25:21.539935",
     "status": "completed"
    },
    "tags": []
   },
   "outputs": [],
   "source": []
  },
  {
   "cell_type": "code",
   "execution_count": null,
   "id": "mediterranean-pontiac",
   "metadata": {
    "papermill": {
     "duration": 0.04067,
     "end_time": "2022-01-19T00:25:21.659268",
     "exception": false,
     "start_time": "2022-01-19T00:25:21.618598",
     "status": "completed"
    },
    "tags": []
   },
   "outputs": [],
   "source": []
  },
  {
   "cell_type": "code",
   "execution_count": null,
   "id": "aging-legislature",
   "metadata": {
    "papermill": {
     "duration": 0.040654,
     "end_time": "2022-01-19T00:25:21.737386",
     "exception": false,
     "start_time": "2022-01-19T00:25:21.696732",
     "status": "completed"
    },
    "tags": []
   },
   "outputs": [],
   "source": []
  }
 ],
 "metadata": {
  "kernelspec": {
   "display_name": "Python 3",
   "language": "python",
   "name": "python3"
  },
  "language_info": {
   "codemirror_mode": {
    "name": "ipython",
    "version": 3
   },
   "file_extension": ".py",
   "mimetype": "text/x-python",
   "name": "python",
   "nbconvert_exporter": "python",
   "pygments_lexer": "ipython3",
   "version": "3.6.15"
  },
  "papermill": {
   "duration": 7.236623,
   "end_time": "2022-01-19T00:25:22.096729",
   "environment_variables": {},
   "exception": null,
   "input_path": "2020-03-21-covid19exp.ipynb",
   "output_path": "2020-03-21-covid19exp.ipynb",
   "parameters": {},
   "start_time": "2022-01-19T00:25:14.860106",
   "version": "2.0.0"
  }
 },
 "nbformat": 4,
 "nbformat_minor": 5
}