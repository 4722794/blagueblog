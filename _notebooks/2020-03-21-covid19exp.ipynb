{
 "cells": [
  {
   "cell_type": "markdown",
   "id": "muslim-click",
   "metadata": {
    "papermill": {
     "duration": 0.040412,
     "end_time": "2021-07-31T00:21:34.073393",
     "exception": false,
     "start_time": "2021-07-31T00:21:34.032981",
     "status": "completed"
    },
    "tags": []
   },
   "source": [
    "# COVID-19 Case Race\n",
    "> A race chart to see rising cases around the world\n",
    "\n",
    "- author: Hargun Oberoi\n",
    "- image: images/covid-overview.png\n",
    "- hide: false\n",
    "- badges: false"
   ]
  },
  {
   "cell_type": "code",
   "execution_count": 1,
   "id": "proof-material",
   "metadata": {
    "execution": {
     "iopub.execute_input": "2021-07-31T00:21:34.158809Z",
     "iopub.status.busy": "2021-07-31T00:21:34.158131Z",
     "iopub.status.idle": "2021-07-31T00:21:34.584084Z",
     "shell.execute_reply": "2021-07-31T00:21:34.582561Z"
    },
    "papermill": {
     "duration": 0.475554,
     "end_time": "2021-07-31T00:21:34.584345",
     "exception": false,
     "start_time": "2021-07-31T00:21:34.108791",
     "status": "completed"
    },
    "tags": []
   },
   "outputs": [],
   "source": [
    "#hide\n",
    "import numpy as np\n",
    "import pandas as pd\n",
    "from jinja2 import Template\n",
    "from IPython.display import HTML"
   ]
  },
  {
   "cell_type": "code",
   "execution_count": 2,
   "id": "developed-terminology",
   "metadata": {
    "execution": {
     "iopub.execute_input": "2021-07-31T00:21:34.667527Z",
     "iopub.status.busy": "2021-07-31T00:21:34.666421Z",
     "iopub.status.idle": "2021-07-31T00:21:34.671914Z",
     "shell.execute_reply": "2021-07-31T00:21:34.671299Z"
    },
    "papermill": {
     "duration": 0.04849,
     "end_time": "2021-07-31T00:21:34.672059",
     "exception": false,
     "start_time": "2021-07-31T00:21:34.623569",
     "status": "completed"
    },
    "tags": []
   },
   "outputs": [],
   "source": [
    "#hide\n",
    "\n",
    "# FETCH\n",
    "base_url = 'https://raw.githubusercontent.com/pratapvardhan/notebooks/master/covid19/'\n",
    "paths = {\n",
    "    'mapping': base_url + 'mapping_countries.csv',\n",
    "    'overview': base_url + 'overview.tpl'\n",
    "}"
   ]
  },
  {
   "cell_type": "code",
   "execution_count": 3,
   "id": "dynamic-saver",
   "metadata": {
    "execution": {
     "iopub.execute_input": "2021-07-31T00:21:34.753193Z",
     "iopub.status.busy": "2021-07-31T00:21:34.752388Z",
     "iopub.status.idle": "2021-07-31T00:21:34.754846Z",
     "shell.execute_reply": "2021-07-31T00:21:34.755317Z"
    },
    "papermill": {
     "duration": 0.04883,
     "end_time": "2021-07-31T00:21:34.755472",
     "exception": false,
     "start_time": "2021-07-31T00:21:34.706642",
     "status": "completed"
    },
    "tags": []
   },
   "outputs": [
    {
     "data": {
      "text/plain": [
       "'https://raw.githubusercontent.com/pratapvardhan/notebooks/master/covid19/mapping_countries.csv'"
      ]
     },
     "execution_count": 3,
     "metadata": {},
     "output_type": "execute_result"
    }
   ],
   "source": [
    "#hide\n",
    "paths['mapping']"
   ]
  },
  {
   "cell_type": "code",
   "execution_count": 4,
   "id": "urban-software",
   "metadata": {
    "execution": {
     "iopub.execute_input": "2021-07-31T00:21:34.833098Z",
     "iopub.status.busy": "2021-07-31T00:21:34.832440Z",
     "iopub.status.idle": "2021-07-31T00:21:34.835353Z",
     "shell.execute_reply": "2021-07-31T00:21:34.834825Z"
    },
    "papermill": {
     "duration": 0.045024,
     "end_time": "2021-07-31T00:21:34.835485",
     "exception": false,
     "start_time": "2021-07-31T00:21:34.790461",
     "status": "completed"
    },
    "tags": []
   },
   "outputs": [],
   "source": [
    "#hide\n",
    "def get_mappings(url):\n",
    "    df = pd.read_csv(url)\n",
    "    return {\n",
    "        'df': df,\n",
    "        'replace.country': dict(df.dropna(subset=['Name']).set_index('Country')['Name']),\n",
    "        'map.continent': dict(df.set_index('Name')['Continent'])\n",
    "    }"
   ]
  },
  {
   "cell_type": "code",
   "execution_count": 5,
   "id": "intimate-machinery",
   "metadata": {
    "execution": {
     "iopub.execute_input": "2021-07-31T00:21:34.915672Z",
     "iopub.status.busy": "2021-07-31T00:21:34.915032Z",
     "iopub.status.idle": "2021-07-31T00:21:34.949903Z",
     "shell.execute_reply": "2021-07-31T00:21:34.953149Z"
    },
    "papermill": {
     "duration": 0.080966,
     "end_time": "2021-07-31T00:21:34.954220",
     "exception": false,
     "start_time": "2021-07-31T00:21:34.873254",
     "status": "completed"
    },
    "tags": []
   },
   "outputs": [],
   "source": [
    "#hide\n",
    "mapping = get_mappings(paths['mapping'])"
   ]
  },
  {
   "cell_type": "code",
   "execution_count": 6,
   "id": "certified-tactics",
   "metadata": {
    "execution": {
     "iopub.execute_input": "2021-07-31T00:21:35.032146Z",
     "iopub.status.busy": "2021-07-31T00:21:35.031517Z",
     "iopub.status.idle": "2021-07-31T00:21:35.033427Z",
     "shell.execute_reply": "2021-07-31T00:21:35.033941Z"
    },
    "papermill": {
     "duration": 0.042202,
     "end_time": "2021-07-31T00:21:35.034099",
     "exception": false,
     "start_time": "2021-07-31T00:21:34.991897",
     "status": "completed"
    },
    "tags": []
   },
   "outputs": [],
   "source": [
    "#hide\n",
    "def get_template(path):\n",
    "    from urllib.parse import urlparse\n",
    "    if bool(urlparse(path).netloc):\n",
    "        from urllib.request import urlopen\n",
    "        return urlopen(path).read().decode('utf8')\n",
    "    return open(path).read()"
   ]
  },
  {
   "cell_type": "code",
   "execution_count": 7,
   "id": "realistic-blast",
   "metadata": {
    "execution": {
     "iopub.execute_input": "2021-07-31T00:21:35.107412Z",
     "iopub.status.busy": "2021-07-31T00:21:35.106787Z",
     "iopub.status.idle": "2021-07-31T00:21:35.109254Z",
     "shell.execute_reply": "2021-07-31T00:21:35.108736Z"
    },
    "papermill": {
     "duration": 0.041583,
     "end_time": "2021-07-31T00:21:35.109394",
     "exception": false,
     "start_time": "2021-07-31T00:21:35.067811",
     "status": "completed"
    },
    "tags": []
   },
   "outputs": [],
   "source": [
    "#hide\n",
    "def get_frame(name):\n",
    "    url = (\n",
    "        'https://raw.githubusercontent.com/CSSEGISandData/COVID-19/master/csse_covid_19_data/'\n",
    "        f'csse_covid_19_time_series/time_series_covid19_{name}_global.csv')\n",
    "    df = pd.read_csv(url)\n",
    "    # rename countries\n",
    "    df['Country/Region'] = df['Country/Region'].replace(mapping['replace.country'])\n",
    "    return df"
   ]
  },
  {
   "cell_type": "code",
   "execution_count": 8,
   "id": "affiliated-characterization",
   "metadata": {
    "execution": {
     "iopub.execute_input": "2021-07-31T00:21:35.184202Z",
     "iopub.status.busy": "2021-07-31T00:21:35.183573Z",
     "iopub.status.idle": "2021-07-31T00:21:35.185625Z",
     "shell.execute_reply": "2021-07-31T00:21:35.186078Z"
    },
    "papermill": {
     "duration": 0.043063,
     "end_time": "2021-07-31T00:21:35.186239",
     "exception": false,
     "start_time": "2021-07-31T00:21:35.143176",
     "status": "completed"
    },
    "tags": []
   },
   "outputs": [],
   "source": [
    "#hide\n",
    "def get_dates(df):\n",
    "    dt_cols = df.columns[~df.columns.isin(['Province/State', 'Country/Region', 'Lat', 'Long'])]\n",
    "    LAST_DATE_I = -1\n",
    "    # sometimes last column may be empty, then go backwards\n",
    "    for i in range(-1, -len(dt_cols), -1):\n",
    "        if not df[dt_cols[i]].fillna(0).eq(0).all():\n",
    "            LAST_DATE_I = i\n",
    "            break\n",
    "    return LAST_DATE_I, dt_cols"
   ]
  },
  {
   "cell_type": "code",
   "execution_count": 9,
   "id": "recent-optimization",
   "metadata": {
    "execution": {
     "iopub.execute_input": "2021-07-31T00:21:35.261076Z",
     "iopub.status.busy": "2021-07-31T00:21:35.260334Z",
     "iopub.status.idle": "2021-07-31T00:21:35.593203Z",
     "shell.execute_reply": "2021-07-31T00:21:35.592558Z"
    },
    "papermill": {
     "duration": 0.373566,
     "end_time": "2021-07-31T00:21:35.593357",
     "exception": false,
     "start_time": "2021-07-31T00:21:35.219791",
     "status": "completed"
    },
    "tags": []
   },
   "outputs": [],
   "source": [
    "#hide\n",
    "COL_REGION = 'Country/Region'\n",
    "# Confirmed, Recovered, Deaths\n",
    "df = get_frame('confirmed')\n",
    "# dft_: timeseries, dfc_: today country agg\n",
    "dft_cases = df\n",
    "dft_deaths = get_frame('deaths')\n",
    "dft_recovered = get_frame('recovered')\n",
    "LAST_DATE_I, dt_cols = get_dates(df)"
   ]
  },
  {
   "cell_type": "code",
   "execution_count": 10,
   "id": "absolute-copper",
   "metadata": {
    "execution": {
     "iopub.execute_input": "2021-07-31T00:21:35.680308Z",
     "iopub.status.busy": "2021-07-31T00:21:35.679632Z",
     "iopub.status.idle": "2021-07-31T00:21:35.692335Z",
     "shell.execute_reply": "2021-07-31T00:21:35.692855Z"
    },
    "papermill": {
     "duration": 0.064449,
     "end_time": "2021-07-31T00:21:35.693021",
     "exception": false,
     "start_time": "2021-07-31T00:21:35.628572",
     "status": "completed"
    },
    "tags": []
   },
   "outputs": [],
   "source": [
    "#hide\n",
    "LAST_DATE_I, dt_cols = get_dates(df)\n",
    "dt_today =dt_cols[LAST_DATE_I]\n",
    "# dt_5day = dt_cols[LAST_DATE_I - 5]\n",
    "dt_yday = dt_cols[LAST_DATE_I - 1]"
   ]
  },
  {
   "cell_type": "code",
   "execution_count": 11,
   "id": "restricted-sheriff",
   "metadata": {
    "execution": {
     "iopub.execute_input": "2021-07-31T00:21:35.771804Z",
     "iopub.status.busy": "2021-07-31T00:21:35.771141Z",
     "iopub.status.idle": "2021-07-31T00:21:35.778015Z",
     "shell.execute_reply": "2021-07-31T00:21:35.777499Z"
    },
    "papermill": {
     "duration": 0.05015,
     "end_time": "2021-07-31T00:21:35.778158",
     "exception": false,
     "start_time": "2021-07-31T00:21:35.728008",
     "status": "completed"
    },
    "tags": []
   },
   "outputs": [],
   "source": [
    "#hide\n",
    "dfc_cases = dft_cases.groupby(COL_REGION)[dt_today].sum()\n",
    "dfc_deaths = dft_deaths.groupby(COL_REGION)[dt_today].sum()\n",
    "# dfp_cases = dft_cases.groupby(COL_REGION)[dt_5day].sum()\n",
    "# dfp_deaths = dft_deaths.groupby(COL_REGION)[dt_5day].sum()\n",
    "dfp_cases = dft_cases.groupby(COL_REGION)[dt_yday].sum()\n",
    "dfp_deaths = dft_deaths.groupby(COL_REGION)[dt_yday].sum()"
   ]
  },
  {
   "cell_type": "code",
   "execution_count": 12,
   "id": "deluxe-hepatitis",
   "metadata": {
    "execution": {
     "iopub.execute_input": "2021-07-31T00:21:35.866414Z",
     "iopub.status.busy": "2021-07-31T00:21:35.865784Z",
     "iopub.status.idle": "2021-07-31T00:21:35.870979Z",
     "shell.execute_reply": "2021-07-31T00:21:35.870484Z"
    },
    "papermill": {
     "duration": 0.0513,
     "end_time": "2021-07-31T00:21:35.871116",
     "exception": false,
     "start_time": "2021-07-31T00:21:35.819816",
     "status": "completed"
    },
    "tags": []
   },
   "outputs": [],
   "source": [
    "#hide\n",
    "df_table = (pd.DataFrame(dict(Cases = dfc_cases, Deaths = dfc_deaths, PCases = dfp_cases, PDeaths = dfp_deaths))\n",
    "            .sort_values(by = ['Cases','Deaths'], ascending = [False, False])\n",
    "            .reset_index())"
   ]
  },
  {
   "cell_type": "code",
   "execution_count": 13,
   "id": "educational-chancellor",
   "metadata": {
    "execution": {
     "iopub.execute_input": "2021-07-31T00:21:35.965740Z",
     "iopub.status.busy": "2021-07-31T00:21:35.964594Z",
     "iopub.status.idle": "2021-07-31T00:21:35.974127Z",
     "shell.execute_reply": "2021-07-31T00:21:35.973607Z"
    },
    "papermill": {
     "duration": 0.067104,
     "end_time": "2021-07-31T00:21:35.974460",
     "exception": false,
     "start_time": "2021-07-31T00:21:35.907356",
     "status": "completed"
    },
    "tags": []
   },
   "outputs": [
    {
     "data": {
      "text/html": [
       "<div>\n",
       "<style scoped>\n",
       "    .dataframe tbody tr th:only-of-type {\n",
       "        vertical-align: middle;\n",
       "    }\n",
       "\n",
       "    .dataframe tbody tr th {\n",
       "        vertical-align: top;\n",
       "    }\n",
       "\n",
       "    .dataframe thead th {\n",
       "        text-align: right;\n",
       "    }\n",
       "</style>\n",
       "<table border=\"1\" class=\"dataframe\">\n",
       "  <thead>\n",
       "    <tr style=\"text-align: right;\">\n",
       "      <th></th>\n",
       "      <th>Country/Region</th>\n",
       "      <th>Cases</th>\n",
       "      <th>Deaths</th>\n",
       "      <th>PCases</th>\n",
       "      <th>PDeaths</th>\n",
       "      <th>Cases (+)</th>\n",
       "      <th>Deaths (+)</th>\n",
       "      <th>Fatality Rate</th>\n",
       "      <th>Continent</th>\n",
       "    </tr>\n",
       "  </thead>\n",
       "  <tbody>\n",
       "    <tr>\n",
       "      <th>0</th>\n",
       "      <td>US</td>\n",
       "      <td>34750860</td>\n",
       "      <td>612122</td>\n",
       "      <td>34672690</td>\n",
       "      <td>611801</td>\n",
       "      <td>78170</td>\n",
       "      <td>321</td>\n",
       "      <td>1.76</td>\n",
       "      <td>North America</td>\n",
       "    </tr>\n",
       "    <tr>\n",
       "      <th>1</th>\n",
       "      <td>India</td>\n",
       "      <td>31572344</td>\n",
       "      <td>423217</td>\n",
       "      <td>31528114</td>\n",
       "      <td>422662</td>\n",
       "      <td>44230</td>\n",
       "      <td>555</td>\n",
       "      <td>1.34</td>\n",
       "      <td>Asia</td>\n",
       "    </tr>\n",
       "    <tr>\n",
       "      <th>2</th>\n",
       "      <td>Brazil</td>\n",
       "      <td>19839369</td>\n",
       "      <td>554497</td>\n",
       "      <td>19797086</td>\n",
       "      <td>553179</td>\n",
       "      <td>42283</td>\n",
       "      <td>1318</td>\n",
       "      <td>2.79</td>\n",
       "      <td>South America</td>\n",
       "    </tr>\n",
       "    <tr>\n",
       "      <th>3</th>\n",
       "      <td>France</td>\n",
       "      <td>6142282</td>\n",
       "      <td>111951</td>\n",
       "      <td>6116853</td>\n",
       "      <td>111923</td>\n",
       "      <td>25429</td>\n",
       "      <td>28</td>\n",
       "      <td>1.82</td>\n",
       "      <td>Europe</td>\n",
       "    </tr>\n",
       "    <tr>\n",
       "      <th>4</th>\n",
       "      <td>Russia</td>\n",
       "      <td>6138969</td>\n",
       "      <td>154404</td>\n",
       "      <td>6116249</td>\n",
       "      <td>153620</td>\n",
       "      <td>22720</td>\n",
       "      <td>784</td>\n",
       "      <td>2.52</td>\n",
       "      <td>Europe</td>\n",
       "    </tr>\n",
       "  </tbody>\n",
       "</table>\n",
       "</div>"
      ],
      "text/plain": [
       "  Country/Region     Cases  Deaths    PCases  PDeaths  Cases (+)  Deaths (+)  \\\n",
       "0             US  34750860  612122  34672690   611801      78170         321   \n",
       "1          India  31572344  423217  31528114   422662      44230         555   \n",
       "2         Brazil  19839369  554497  19797086   553179      42283        1318   \n",
       "3         France   6142282  111951   6116853   111923      25429          28   \n",
       "4         Russia   6138969  154404   6116249   153620      22720         784   \n",
       "\n",
       "   Fatality Rate      Continent  \n",
       "0           1.76  North America  \n",
       "1           1.34           Asia  \n",
       "2           2.79  South America  \n",
       "3           1.82         Europe  \n",
       "4           2.52         Europe  "
      ]
     },
     "execution_count": 13,
     "metadata": {},
     "output_type": "execute_result"
    }
   ],
   "source": [
    "#hide\n",
    "for c in 'Cases, Deaths'.split(', '):\n",
    "    df_table[f'{c} (+)'] = (df_table[c] - df_table[f'P{c}']).clip(0)\n",
    "    #Clip ça veut dire, les chiffres negatif sont interdit\n",
    "df_table['Fatality Rate'] = (100* df_table['Deaths']/ df_table['Cases']).round(2)\n",
    "df_table['Continent'] = df_table['Country/Region'].map(mapping['map.continent'])\n",
    "df_table.head(5)"
   ]
  },
  {
   "cell_type": "code",
   "execution_count": 14,
   "id": "aboriginal-bulgaria",
   "metadata": {
    "execution": {
     "iopub.execute_input": "2021-07-31T00:21:36.056189Z",
     "iopub.status.busy": "2021-07-31T00:21:36.055381Z",
     "iopub.status.idle": "2021-07-31T00:21:36.058149Z",
     "shell.execute_reply": "2021-07-31T00:21:36.057628Z"
    },
    "papermill": {
     "duration": 0.047742,
     "end_time": "2021-07-31T00:21:36.058289",
     "exception": false,
     "start_time": "2021-07-31T00:21:36.010547",
     "status": "completed"
    },
    "tags": []
   },
   "outputs": [],
   "source": [
    "#hide\n",
    "#delete problematic countries from table\n",
    "df_table = df_table[~df_table['Country/Region'].isin(['Cape Verde', 'Cruise Ship', 'Kosovo'])]"
   ]
  },
  {
   "cell_type": "code",
   "execution_count": 15,
   "id": "fantastic-effect",
   "metadata": {
    "execution": {
     "iopub.execute_input": "2021-07-31T00:21:36.139879Z",
     "iopub.status.busy": "2021-07-31T00:21:36.139080Z",
     "iopub.status.idle": "2021-07-31T00:21:36.159425Z",
     "shell.execute_reply": "2021-07-31T00:21:36.159885Z"
    },
    "papermill": {
     "duration": 0.066602,
     "end_time": "2021-07-31T00:21:36.160049",
     "exception": false,
     "start_time": "2021-07-31T00:21:36.093447",
     "status": "completed"
    },
    "tags": []
   },
   "outputs": [
    {
     "data": {
      "text/html": [
       "<div>\n",
       "<style scoped>\n",
       "    .dataframe tbody tr th:only-of-type {\n",
       "        vertical-align: middle;\n",
       "    }\n",
       "\n",
       "    .dataframe tbody tr th {\n",
       "        vertical-align: top;\n",
       "    }\n",
       "\n",
       "    .dataframe thead th {\n",
       "        text-align: right;\n",
       "    }\n",
       "</style>\n",
       "<table border=\"1\" class=\"dataframe\">\n",
       "  <thead>\n",
       "    <tr style=\"text-align: right;\">\n",
       "      <th></th>\n",
       "      <th>Country/Region</th>\n",
       "      <th>Cases</th>\n",
       "      <th>Deaths</th>\n",
       "      <th>PCases</th>\n",
       "      <th>PDeaths</th>\n",
       "      <th>Cases (+)</th>\n",
       "      <th>Deaths (+)</th>\n",
       "      <th>Fatality Rate</th>\n",
       "      <th>Continent</th>\n",
       "    </tr>\n",
       "  </thead>\n",
       "  <tbody>\n",
       "    <tr>\n",
       "      <th>0</th>\n",
       "      <td>US</td>\n",
       "      <td>34750860</td>\n",
       "      <td>612122</td>\n",
       "      <td>34672690</td>\n",
       "      <td>611801</td>\n",
       "      <td>78170</td>\n",
       "      <td>321</td>\n",
       "      <td>1.8</td>\n",
       "      <td>North America</td>\n",
       "    </tr>\n",
       "    <tr>\n",
       "      <th>1</th>\n",
       "      <td>India</td>\n",
       "      <td>31572344</td>\n",
       "      <td>423217</td>\n",
       "      <td>31528114</td>\n",
       "      <td>422662</td>\n",
       "      <td>44230</td>\n",
       "      <td>555</td>\n",
       "      <td>1.3</td>\n",
       "      <td>Asia</td>\n",
       "    </tr>\n",
       "    <tr>\n",
       "      <th>2</th>\n",
       "      <td>Brazil</td>\n",
       "      <td>19839369</td>\n",
       "      <td>554497</td>\n",
       "      <td>19797086</td>\n",
       "      <td>553179</td>\n",
       "      <td>42283</td>\n",
       "      <td>1318</td>\n",
       "      <td>2.8</td>\n",
       "      <td>South America</td>\n",
       "    </tr>\n",
       "    <tr>\n",
       "      <th>3</th>\n",
       "      <td>France</td>\n",
       "      <td>6142282</td>\n",
       "      <td>111951</td>\n",
       "      <td>6116853</td>\n",
       "      <td>111923</td>\n",
       "      <td>25429</td>\n",
       "      <td>28</td>\n",
       "      <td>1.8</td>\n",
       "      <td>Europe</td>\n",
       "    </tr>\n",
       "    <tr>\n",
       "      <th>4</th>\n",
       "      <td>Russia</td>\n",
       "      <td>6138969</td>\n",
       "      <td>154404</td>\n",
       "      <td>6116249</td>\n",
       "      <td>153620</td>\n",
       "      <td>22720</td>\n",
       "      <td>784</td>\n",
       "      <td>2.5</td>\n",
       "      <td>Europe</td>\n",
       "    </tr>\n",
       "  </tbody>\n",
       "</table>\n",
       "</div>"
      ],
      "text/plain": [
       "  Country/Region     Cases  Deaths    PCases  PDeaths  Cases (+)  Deaths (+)  \\\n",
       "0             US  34750860  612122  34672690   611801      78170         321   \n",
       "1          India  31572344  423217  31528114   422662      44230         555   \n",
       "2         Brazil  19839369  554497  19797086   553179      42283        1318   \n",
       "3         France   6142282  111951   6116853   111923      25429          28   \n",
       "4         Russia   6138969  154404   6116249   153620      22720         784   \n",
       "\n",
       "   Fatality Rate      Continent  \n",
       "0            1.8  North America  \n",
       "1            1.3           Asia  \n",
       "2            2.8  South America  \n",
       "3            1.8         Europe  \n",
       "4            2.5         Europe  "
      ]
     },
     "execution_count": 15,
     "metadata": {},
     "output_type": "execute_result"
    }
   ],
   "source": [
    "#hide\n",
    "df_table = (pd.DataFrame(dict(Cases=dfc_cases, Deaths=dfc_deaths, PCases=dfp_cases, PDeaths=dfp_deaths))\n",
    "             .sort_values(by=['Cases', 'Deaths'], ascending=[False, False])\n",
    "             .reset_index())\n",
    "df_table.rename(columns={'index': 'Country/Region'}, inplace=True)\n",
    "for c in 'Cases, Deaths'.split(', '):\n",
    "    df_table[f'{c} (+)'] = (df_table[c] - df_table[f'P{c}']).clip(0)  # DATA BUG\n",
    "df_table['Fatality Rate'] = (100 * df_table['Deaths'] / df_table['Cases']).round(1)\n",
    "df_table['Continent'] = df_table['Country/Region'].map(mapping['map.continent'])\n",
    "df_table.head(5)"
   ]
  },
  {
   "cell_type": "code",
   "execution_count": 16,
   "id": "fewer-occasion",
   "metadata": {
    "execution": {
     "iopub.execute_input": "2021-07-31T00:21:36.244537Z",
     "iopub.status.busy": "2021-07-31T00:21:36.243888Z",
     "iopub.status.idle": "2021-07-31T00:21:36.246999Z",
     "shell.execute_reply": "2021-07-31T00:21:36.246509Z"
    },
    "papermill": {
     "duration": 0.047925,
     "end_time": "2021-07-31T00:21:36.247134",
     "exception": false,
     "start_time": "2021-07-31T00:21:36.199209",
     "status": "completed"
    },
    "tags": []
   },
   "outputs": [],
   "source": [
    "#hide\n",
    "#delete problematic countries from table\n",
    "df_table = df_table[~df_table['Country/Region'].isin(['Cape Verde', 'Cruise Ship', 'Kosovo'])]"
   ]
  },
  {
   "cell_type": "code",
   "execution_count": 17,
   "id": "related-center",
   "metadata": {
    "execution": {
     "iopub.execute_input": "2021-07-31T00:21:36.342607Z",
     "iopub.status.busy": "2021-07-31T00:21:36.341955Z",
     "iopub.status.idle": "2021-07-31T00:21:36.344650Z",
     "shell.execute_reply": "2021-07-31T00:21:36.344136Z"
    },
    "papermill": {
     "duration": 0.059765,
     "end_time": "2021-07-31T00:21:36.344783",
     "exception": false,
     "start_time": "2021-07-31T00:21:36.285018",
     "status": "completed"
    },
    "tags": []
   },
   "outputs": [],
   "source": [
    "#hide\n",
    "metrics = [df_table.columns[index] for index in [1,2,5,6]]\n",
    "# s_china = df_table[df_table['Country/Region'].eq('China')][metrics].sum().add_prefix('China ')\n",
    "s_us = df_table[df_table['Country/Region'].eq('US')][metrics].sum().add_prefix('US ')\n",
    "s_eu = df_table[df_table['Continent'].eq('Europe')][metrics].sum().add_prefix('EU ')\n",
    "s_ind = df_table[df_table['Country/Region'].eq('India')][metrics].sum().add_prefix('India ')\n",
    "summary = {'updated': pd.to_datetime(dt_today), 'since': pd.to_datetime(dt_yday)}\n",
    "summary = {'updated': pd.to_datetime(dt_today), 'since': pd.to_datetime(dt_yday)}\n",
    "summary = {**summary, **df_table[metrics].sum(), **s_ind, **s_us, **s_eu}"
   ]
  },
  {
   "cell_type": "code",
   "execution_count": 18,
   "id": "engaging-syndrome",
   "metadata": {
    "execution": {
     "iopub.execute_input": "2021-07-31T00:21:36.423768Z",
     "iopub.status.busy": "2021-07-31T00:21:36.423143Z",
     "iopub.status.idle": "2021-07-31T00:21:36.440764Z",
     "shell.execute_reply": "2021-07-31T00:21:36.439962Z"
    },
    "papermill": {
     "duration": 0.059621,
     "end_time": "2021-07-31T00:21:36.440919",
     "exception": false,
     "start_time": "2021-07-31T00:21:36.381298",
     "status": "completed"
    },
    "tags": []
   },
   "outputs": [],
   "source": [
    "#hide\n",
    "dft_ct_new_cases = dft_cases.groupby(COL_REGION)[dt_cols].sum().diff(axis=1).fillna(0).astype(int)"
   ]
  },
  {
   "cell_type": "code",
   "execution_count": 19,
   "id": "neutral-assignment",
   "metadata": {
    "execution": {
     "iopub.execute_input": "2021-07-31T00:21:36.529995Z",
     "iopub.status.busy": "2021-07-31T00:21:36.529334Z",
     "iopub.status.idle": "2021-07-31T00:21:36.531659Z",
     "shell.execute_reply": "2021-07-31T00:21:36.531173Z"
    },
    "papermill": {
     "duration": 0.053984,
     "end_time": "2021-07-31T00:21:36.531793",
     "exception": false,
     "start_time": "2021-07-31T00:21:36.477809",
     "status": "completed"
    },
    "tags": []
   },
   "outputs": [],
   "source": [
    "#hide\n",
    "everydaycases = dft_ct_new_cases.cumsum(axis=1)"
   ]
  },
  {
   "cell_type": "code",
   "execution_count": 20,
   "id": "parliamentary-calgary",
   "metadata": {
    "execution": {
     "iopub.execute_input": "2021-07-31T00:21:36.611656Z",
     "iopub.status.busy": "2021-07-31T00:21:36.611016Z",
     "iopub.status.idle": "2021-07-31T00:21:37.346936Z",
     "shell.execute_reply": "2021-07-31T00:21:37.346386Z"
    },
    "papermill": {
     "duration": 0.778885,
     "end_time": "2021-07-31T00:21:37.347082",
     "exception": false,
     "start_time": "2021-07-31T00:21:36.568197",
     "status": "completed"
    },
    "tags": []
   },
   "outputs": [],
   "source": [
    "#hide\n",
    "import pandas as pd\n",
    "import matplotlib.pyplot as plt\n",
    "import matplotlib.ticker as ticker\n",
    "import matplotlib.animation as animation\n",
    "from IPython.display import HTML"
   ]
  },
  {
   "cell_type": "code",
   "execution_count": 21,
   "id": "lasting-extraction",
   "metadata": {
    "execution": {
     "iopub.execute_input": "2021-07-31T00:21:37.426257Z",
     "iopub.status.busy": "2021-07-31T00:21:37.425613Z",
     "iopub.status.idle": "2021-07-31T00:21:37.435459Z",
     "shell.execute_reply": "2021-07-31T00:21:37.434907Z"
    },
    "papermill": {
     "duration": 0.052634,
     "end_time": "2021-07-31T00:21:37.435595",
     "exception": false,
     "start_time": "2021-07-31T00:21:37.382961",
     "status": "completed"
    },
    "tags": []
   },
   "outputs": [],
   "source": [
    "#hide\n",
    "t = everydaycases.stack()"
   ]
  },
  {
   "cell_type": "code",
   "execution_count": 22,
   "id": "premier-sleeve",
   "metadata": {
    "execution": {
     "iopub.execute_input": "2021-07-31T00:21:37.515365Z",
     "iopub.status.busy": "2021-07-31T00:21:37.514716Z",
     "iopub.status.idle": "2021-07-31T00:21:37.524934Z",
     "shell.execute_reply": "2021-07-31T00:21:37.524387Z"
    },
    "papermill": {
     "duration": 0.053629,
     "end_time": "2021-07-31T00:21:37.525108",
     "exception": false,
     "start_time": "2021-07-31T00:21:37.471479",
     "status": "completed"
    },
    "tags": []
   },
   "outputs": [],
   "source": [
    "#hide\n",
    "g = t.reset_index(['Country/Region'])"
   ]
  },
  {
   "cell_type": "code",
   "execution_count": 23,
   "id": "distributed-pittsburgh",
   "metadata": {
    "execution": {
     "iopub.execute_input": "2021-07-31T00:21:37.605319Z",
     "iopub.status.busy": "2021-07-31T00:21:37.604662Z",
     "iopub.status.idle": "2021-07-31T00:21:37.606848Z",
     "shell.execute_reply": "2021-07-31T00:21:37.607414Z"
    },
    "papermill": {
     "duration": 0.044476,
     "end_time": "2021-07-31T00:21:37.607572",
     "exception": false,
     "start_time": "2021-07-31T00:21:37.563096",
     "status": "completed"
    },
    "tags": []
   },
   "outputs": [],
   "source": [
    "#hide\n",
    "g.index.name = 'date'"
   ]
  },
  {
   "cell_type": "code",
   "execution_count": 24,
   "id": "naked-donor",
   "metadata": {
    "execution": {
     "iopub.execute_input": "2021-07-31T00:21:37.691010Z",
     "iopub.status.busy": "2021-07-31T00:21:37.690406Z",
     "iopub.status.idle": "2021-07-31T00:21:37.692241Z",
     "shell.execute_reply": "2021-07-31T00:21:37.692750Z"
    },
    "papermill": {
     "duration": 0.049624,
     "end_time": "2021-07-31T00:21:37.692910",
     "exception": false,
     "start_time": "2021-07-31T00:21:37.643286",
     "status": "completed"
    },
    "tags": []
   },
   "outputs": [],
   "source": [
    "# #hide\n",
    "# g = g.reset_index(['date'])"
   ]
  },
  {
   "cell_type": "code",
   "execution_count": 25,
   "id": "incomplete-mustang",
   "metadata": {
    "execution": {
     "iopub.execute_input": "2021-07-31T00:21:37.770405Z",
     "iopub.status.busy": "2021-07-31T00:21:37.769632Z",
     "iopub.status.idle": "2021-07-31T00:21:37.771075Z",
     "shell.execute_reply": "2021-07-31T00:21:37.771606Z"
    },
    "papermill": {
     "duration": 0.043297,
     "end_time": "2021-07-31T00:21:37.771814",
     "exception": false,
     "start_time": "2021-07-31T00:21:37.728517",
     "status": "completed"
    },
    "tags": []
   },
   "outputs": [],
   "source": [
    "#hide\n",
    "# g.head()"
   ]
  },
  {
   "cell_type": "code",
   "execution_count": 26,
   "id": "specific-kruger",
   "metadata": {
    "execution": {
     "iopub.execute_input": "2021-07-31T00:21:37.848656Z",
     "iopub.status.busy": "2021-07-31T00:21:37.848049Z",
     "iopub.status.idle": "2021-07-31T00:21:37.850380Z",
     "shell.execute_reply": "2021-07-31T00:21:37.849895Z"
    },
    "papermill": {
     "duration": 0.041351,
     "end_time": "2021-07-31T00:21:37.850512",
     "exception": false,
     "start_time": "2021-07-31T00:21:37.809161",
     "status": "completed"
    },
    "tags": []
   },
   "outputs": [],
   "source": [
    "#hide\n",
    "# g.columns = ['date','country','cases']"
   ]
  },
  {
   "cell_type": "code",
   "execution_count": 27,
   "id": "tender-conversion",
   "metadata": {
    "execution": {
     "iopub.execute_input": "2021-07-31T00:21:37.929720Z",
     "iopub.status.busy": "2021-07-31T00:21:37.929099Z",
     "iopub.status.idle": "2021-07-31T00:21:37.931491Z",
     "shell.execute_reply": "2021-07-31T00:21:37.930985Z"
    },
    "papermill": {
     "duration": 0.044358,
     "end_time": "2021-07-31T00:21:37.931616",
     "exception": false,
     "start_time": "2021-07-31T00:21:37.887258",
     "status": "completed"
    },
    "tags": []
   },
   "outputs": [],
   "source": [
    "#hide\n",
    "# g['continent'] = g.country"
   ]
  },
  {
   "cell_type": "code",
   "execution_count": 28,
   "id": "substantial-wilderness",
   "metadata": {
    "execution": {
     "iopub.execute_input": "2021-07-31T00:21:38.007156Z",
     "iopub.status.busy": "2021-07-31T00:21:38.006553Z",
     "iopub.status.idle": "2021-07-31T00:21:38.008909Z",
     "shell.execute_reply": "2021-07-31T00:21:38.008398Z"
    },
    "papermill": {
     "duration": 0.041789,
     "end_time": "2021-07-31T00:21:38.009135",
     "exception": false,
     "start_time": "2021-07-31T00:21:37.967346",
     "status": "completed"
    },
    "tags": []
   },
   "outputs": [],
   "source": [
    "#hide\n",
    "# cols = list(g.columns.values)"
   ]
  },
  {
   "cell_type": "code",
   "execution_count": 29,
   "id": "solved-farming",
   "metadata": {
    "execution": {
     "iopub.execute_input": "2021-07-31T00:21:38.086543Z",
     "iopub.status.busy": "2021-07-31T00:21:38.085940Z",
     "iopub.status.idle": "2021-07-31T00:21:38.088299Z",
     "shell.execute_reply": "2021-07-31T00:21:38.087789Z"
    },
    "papermill": {
     "duration": 0.042514,
     "end_time": "2021-07-31T00:21:38.088430",
     "exception": false,
     "start_time": "2021-07-31T00:21:38.045916",
     "status": "completed"
    },
    "tags": []
   },
   "outputs": [],
   "source": [
    "#hide\n",
    "# cols.insert(0, cols.pop())"
   ]
  },
  {
   "cell_type": "code",
   "execution_count": 30,
   "id": "executed-adoption",
   "metadata": {
    "execution": {
     "iopub.execute_input": "2021-07-31T00:21:38.167032Z",
     "iopub.status.busy": "2021-07-31T00:21:38.166348Z",
     "iopub.status.idle": "2021-07-31T00:21:38.167878Z",
     "shell.execute_reply": "2021-07-31T00:21:38.168380Z"
    },
    "papermill": {
     "duration": 0.043067,
     "end_time": "2021-07-31T00:21:38.168543",
     "exception": false,
     "start_time": "2021-07-31T00:21:38.125476",
     "status": "completed"
    },
    "tags": []
   },
   "outputs": [],
   "source": [
    "#hide\n",
    "# g = g[cols]"
   ]
  },
  {
   "cell_type": "code",
   "execution_count": 31,
   "id": "subject-dublin",
   "metadata": {
    "execution": {
     "iopub.execute_input": "2021-07-31T00:21:38.256193Z",
     "iopub.status.busy": "2021-07-31T00:21:38.255546Z",
     "iopub.status.idle": "2021-07-31T00:21:38.257246Z",
     "shell.execute_reply": "2021-07-31T00:21:38.257730Z"
    },
    "papermill": {
     "duration": 0.051097,
     "end_time": "2021-07-31T00:21:38.257882",
     "exception": false,
     "start_time": "2021-07-31T00:21:38.206785",
     "status": "completed"
    },
    "tags": []
   },
   "outputs": [],
   "source": [
    "#hide\n",
    "# g['continent'] = g['continent'].map(mapping['map.continent'])"
   ]
  },
  {
   "cell_type": "code",
   "execution_count": 32,
   "id": "freelance-scout",
   "metadata": {
    "execution": {
     "iopub.execute_input": "2021-07-31T00:21:38.334359Z",
     "iopub.status.busy": "2021-07-31T00:21:38.333748Z",
     "iopub.status.idle": "2021-07-31T00:21:38.335798Z",
     "shell.execute_reply": "2021-07-31T00:21:38.336253Z"
    },
    "papermill": {
     "duration": 0.042325,
     "end_time": "2021-07-31T00:21:38.336410",
     "exception": false,
     "start_time": "2021-07-31T00:21:38.294085",
     "status": "completed"
    },
    "tags": []
   },
   "outputs": [],
   "source": [
    "#hide\n",
    "# g.head()"
   ]
  },
  {
   "cell_type": "code",
   "execution_count": 33,
   "id": "limited-engine",
   "metadata": {
    "execution": {
     "iopub.execute_input": "2021-07-31T00:21:38.413521Z",
     "iopub.status.busy": "2021-07-31T00:21:38.412850Z",
     "iopub.status.idle": "2021-07-31T00:21:38.415272Z",
     "shell.execute_reply": "2021-07-31T00:21:38.414761Z"
    },
    "papermill": {
     "duration": 0.042188,
     "end_time": "2021-07-31T00:21:38.415402",
     "exception": false,
     "start_time": "2021-07-31T00:21:38.373214",
     "status": "completed"
    },
    "tags": []
   },
   "outputs": [],
   "source": [
    "# hide\n",
    "# g['date'] = g['date'].astype('datetime64[ns]')"
   ]
  },
  {
   "cell_type": "code",
   "execution_count": 34,
   "id": "sophisticated-supervisor",
   "metadata": {
    "execution": {
     "iopub.execute_input": "2021-07-31T00:21:38.495160Z",
     "iopub.status.busy": "2021-07-31T00:21:38.494539Z",
     "iopub.status.idle": "2021-07-31T00:21:38.497183Z",
     "shell.execute_reply": "2021-07-31T00:21:38.497652Z"
    },
    "papermill": {
     "duration": 0.044685,
     "end_time": "2021-07-31T00:21:38.497901",
     "exception": false,
     "start_time": "2021-07-31T00:21:38.453216",
     "status": "completed"
    },
    "tags": []
   },
   "outputs": [],
   "source": [
    "#hide\n",
    "# g['date'] = g.date.dt.dayofyear"
   ]
  },
  {
   "cell_type": "code",
   "execution_count": 35,
   "id": "inside-dubai",
   "metadata": {
    "execution": {
     "iopub.execute_input": "2021-07-31T00:21:38.575075Z",
     "iopub.status.busy": "2021-07-31T00:21:38.574439Z",
     "iopub.status.idle": "2021-07-31T00:21:38.576775Z",
     "shell.execute_reply": "2021-07-31T00:21:38.576290Z"
    },
    "papermill": {
     "duration": 0.043048,
     "end_time": "2021-07-31T00:21:38.576911",
     "exception": false,
     "start_time": "2021-07-31T00:21:38.533863",
     "status": "completed"
    },
    "tags": []
   },
   "outputs": [],
   "source": [
    "#hide\n",
    "# g = g.rename(columns= {'continent':'group','country':'name','cases':'value'})"
   ]
  },
  {
   "cell_type": "code",
   "execution_count": 36,
   "id": "fleet-motorcycle",
   "metadata": {
    "execution": {
     "iopub.execute_input": "2021-07-31T00:21:38.663573Z",
     "iopub.status.busy": "2021-07-31T00:21:38.662939Z",
     "iopub.status.idle": "2021-07-31T00:21:38.665360Z",
     "shell.execute_reply": "2021-07-31T00:21:38.664833Z"
    },
    "papermill": {
     "duration": 0.044031,
     "end_time": "2021-07-31T00:21:38.665501",
     "exception": false,
     "start_time": "2021-07-31T00:21:38.621470",
     "status": "completed"
    },
    "tags": []
   },
   "outputs": [],
   "source": [
    "#hide\n",
    "# cols = ['name','group','day','value']"
   ]
  },
  {
   "cell_type": "code",
   "execution_count": 37,
   "id": "continued-sleeping",
   "metadata": {
    "execution": {
     "iopub.execute_input": "2021-07-31T00:21:38.745918Z",
     "iopub.status.busy": "2021-07-31T00:21:38.745066Z",
     "iopub.status.idle": "2021-07-31T00:21:38.746770Z",
     "shell.execute_reply": "2021-07-31T00:21:38.747431Z"
    },
    "papermill": {
     "duration": 0.044205,
     "end_time": "2021-07-31T00:21:38.747607",
     "exception": false,
     "start_time": "2021-07-31T00:21:38.703402",
     "status": "completed"
    },
    "tags": []
   },
   "outputs": [],
   "source": [
    "#hide\n",
    "# g.rename(columns= {'date':'day'},inplace = True)"
   ]
  },
  {
   "cell_type": "code",
   "execution_count": 38,
   "id": "major-fight",
   "metadata": {
    "execution": {
     "iopub.execute_input": "2021-07-31T00:21:38.839681Z",
     "iopub.status.busy": "2021-07-31T00:21:38.839055Z",
     "iopub.status.idle": "2021-07-31T00:21:38.841923Z",
     "shell.execute_reply": "2021-07-31T00:21:38.841375Z"
    },
    "papermill": {
     "duration": 0.057813,
     "end_time": "2021-07-31T00:21:38.842056",
     "exception": false,
     "start_time": "2021-07-31T00:21:38.784243",
     "status": "completed"
    },
    "tags": []
   },
   "outputs": [],
   "source": [
    "#hide\n",
    "# g = g[cols]"
   ]
  },
  {
   "cell_type": "code",
   "execution_count": 39,
   "id": "structured-mobile",
   "metadata": {
    "execution": {
     "iopub.execute_input": "2021-07-31T00:21:38.921549Z",
     "iopub.status.busy": "2021-07-31T00:21:38.920887Z",
     "iopub.status.idle": "2021-07-31T00:21:38.923471Z",
     "shell.execute_reply": "2021-07-31T00:21:38.922974Z"
    },
    "papermill": {
     "duration": 0.045155,
     "end_time": "2021-07-31T00:21:38.923603",
     "exception": false,
     "start_time": "2021-07-31T00:21:38.878448",
     "status": "completed"
    },
    "tags": []
   },
   "outputs": [],
   "source": [
    "# #hide\n",
    "# g = g[g.group.notna()]"
   ]
  },
  {
   "cell_type": "code",
   "execution_count": 40,
   "id": "determined-closing",
   "metadata": {
    "execution": {
     "iopub.execute_input": "2021-07-31T00:21:39.006302Z",
     "iopub.status.busy": "2021-07-31T00:21:39.005528Z",
     "iopub.status.idle": "2021-07-31T00:21:39.007988Z",
     "shell.execute_reply": "2021-07-31T00:21:39.008477Z"
    },
    "papermill": {
     "duration": 0.04618,
     "end_time": "2021-07-31T00:21:39.008854",
     "exception": false,
     "start_time": "2021-07-31T00:21:38.962674",
     "status": "completed"
    },
    "tags": []
   },
   "outputs": [],
   "source": [
    "# #hide\n",
    "# colors = dict(zip(\n",
    "#     [\"Oceania\", \"Europe\", \"Asia\", \"South America\", \"Middle East\", \"North America\", \"Africa\"],\n",
    "#     [\"#adb0ff\", \"#ffb3ff\", \"#90d595\", \"#e48381\", \"#aafbff\", \"#f7bb5f\", \"#eafb50\"]\n",
    "# ))\n",
    "# group_lk = g.set_index('name')['group'].to_dict()"
   ]
  },
  {
   "cell_type": "code",
   "execution_count": null,
   "id": "gross-drinking",
   "metadata": {
    "papermill": {
     "duration": 0.040184,
     "end_time": "2021-07-31T00:21:39.088784",
     "exception": false,
     "start_time": "2021-07-31T00:21:39.048600",
     "status": "completed"
    },
    "tags": []
   },
   "outputs": [],
   "source": []
  },
  {
   "cell_type": "code",
   "execution_count": 41,
   "id": "subject-macintosh",
   "metadata": {
    "execution": {
     "iopub.execute_input": "2021-07-31T00:21:39.174631Z",
     "iopub.status.busy": "2021-07-31T00:21:39.173991Z",
     "iopub.status.idle": "2021-07-31T00:21:39.176362Z",
     "shell.execute_reply": "2021-07-31T00:21:39.175850Z"
    },
    "papermill": {
     "duration": 0.043726,
     "end_time": "2021-07-31T00:21:39.176492",
     "exception": false,
     "start_time": "2021-07-31T00:21:39.132766",
     "status": "completed"
    },
    "tags": []
   },
   "outputs": [],
   "source": [
    "# #hide\n",
    "# fig, ax = plt.subplots(figsize=(15, 8))\n",
    "\n",
    "# def draw_barchart(current_day):\n",
    "#     dff = g[g['day'].eq(current_day)].sort_values(by='value', ascending=True).tail(10)\n",
    "#     ax.clear()\n",
    "#     ax.barh(dff['name'], dff['value'], color=[colors[group_lk[x]] for x in dff['name']])\n",
    "#     dx = dff['value'].max() / 200\n",
    "    \n",
    "#     for i, (value, name) in enumerate(zip(dff['value'], dff['name'])):\n",
    "#         ax.text(value-dx, i,     name,           size=14, weight=600, ha='right', va='bottom')\n",
    "#         ax.text(value-dx, i-.25, group_lk[name], size=10, color='#444444', ha='right', va='baseline')\n",
    "#         ax.text(value+dx, i,     f'{value:,.0f}',  size=14, ha='left',  va='center')\n",
    "#     ax.text(1, 0.4, current_day, transform=ax.transAxes, color='#777777', size=46, ha='right', weight=800)\n",
    "#     ax.text(0, 1.06, 'Population (thousands)', transform=ax.transAxes, size=12, color='#777777')\n",
    "#     ax.xaxis.set_major_formatter(ticker.StrMethodFormatter('{x:,.0f}'))\n",
    "#     ax.xaxis.set_ticks_position('top')\n",
    "#     ax.tick_params(axis='x', colors='#777777', labelsize=12)\n",
    "#     ax.set_yticks([])\n",
    "#     ax.margins(0, 0.01)\n",
    "#     ax.grid(which='major', axis='x', linestyle='-')\n",
    "#     ax.set_axisbelow(True)\n",
    "    \n",
    "#     ax.text(0, 1.15, 'Coronavirus',\n",
    "#             transform=ax.transAxes, size=24, weight=600, ha='left', va='top')\n",
    "# #     ax.text(1, 0, 'by @pratapvardhan; credit @jburnmurdoch', transform=ax.transAxes, color='#777777', ha='right',\n",
    "# #             bbox=dict(facecolor='white', alpha=0.8, edgecolor='white'))\n",
    "#     plt.box(False)"
   ]
  },
  {
   "cell_type": "code",
   "execution_count": 42,
   "id": "sexual-wages",
   "metadata": {
    "execution": {
     "iopub.execute_input": "2021-07-31T00:21:39.256515Z",
     "iopub.status.busy": "2021-07-31T00:21:39.255894Z",
     "iopub.status.idle": "2021-07-31T00:21:39.258569Z",
     "shell.execute_reply": "2021-07-31T00:21:39.258026Z"
    },
    "papermill": {
     "duration": 0.042939,
     "end_time": "2021-07-31T00:21:39.258701",
     "exception": false,
     "start_time": "2021-07-31T00:21:39.215762",
     "status": "completed"
    },
    "tags": []
   },
   "outputs": [],
   "source": [
    "# #hide_input\n",
    "# fig, ax = plt.subplots(figsize=(15, 8))\n",
    "# animator = animation.FuncAnimation(fig, draw_barchart, frames=range(g.day.values.min(), g.day.values.max()))\n",
    "# HTML(animator.to_jshtml())\n",
    "# # or use animator.to_html5_video() or animator.save() "
   ]
  },
  {
   "cell_type": "code",
   "execution_count": null,
   "id": "australian-container",
   "metadata": {
    "papermill": {
     "duration": 0.040137,
     "end_time": "2021-07-31T00:21:39.337220",
     "exception": false,
     "start_time": "2021-07-31T00:21:39.297083",
     "status": "completed"
    },
    "tags": []
   },
   "outputs": [],
   "source": []
  },
  {
   "cell_type": "code",
   "execution_count": null,
   "id": "mediterranean-pontiac",
   "metadata": {
    "papermill": {
     "duration": 0.039122,
     "end_time": "2021-07-31T00:21:39.414760",
     "exception": false,
     "start_time": "2021-07-31T00:21:39.375638",
     "status": "completed"
    },
    "tags": []
   },
   "outputs": [],
   "source": []
  },
  {
   "cell_type": "code",
   "execution_count": null,
   "id": "aging-legislature",
   "metadata": {
    "papermill": {
     "duration": 0.036279,
     "end_time": "2021-07-31T00:21:39.488156",
     "exception": false,
     "start_time": "2021-07-31T00:21:39.451877",
     "status": "completed"
    },
    "tags": []
   },
   "outputs": [],
   "source": []
  }
 ],
 "metadata": {
  "kernelspec": {
   "display_name": "Python 3",
   "language": "python",
   "name": "python3"
  },
  "language_info": {
   "codemirror_mode": {
    "name": "ipython",
    "version": 3
   },
   "file_extension": ".py",
   "mimetype": "text/x-python",
   "name": "python",
   "nbconvert_exporter": "python",
   "pygments_lexer": "ipython3",
   "version": "3.6.14"
  },
  "papermill": {
   "duration": 7.0328,
   "end_time": "2021-07-31T00:21:39.933415",
   "environment_variables": {},
   "exception": null,
   "input_path": "2020-03-21-covid19exp.ipynb",
   "output_path": "2020-03-21-covid19exp.ipynb",
   "parameters": {},
   "start_time": "2021-07-31T00:21:32.900615",
   "version": "2.0.0"
  }
 },
 "nbformat": 4,
 "nbformat_minor": 5
}