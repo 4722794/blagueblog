{
 "cells": [
  {
   "cell_type": "markdown",
   "id": "muslim-click",
   "metadata": {
    "papermill": {
     "duration": 0.033119,
     "end_time": "2022-01-07T00:28:43.586586",
     "exception": false,
     "start_time": "2022-01-07T00:28:43.553467",
     "status": "completed"
    },
    "tags": []
   },
   "source": [
    "# COVID-19 Case Race\n",
    "> A race chart to see rising cases around the world\n",
    "\n",
    "- author: Hargun Oberoi\n",
    "- image: images/covid-overview.png\n",
    "- hide: false\n",
    "- badges: false"
   ]
  },
  {
   "cell_type": "code",
   "execution_count": 1,
   "id": "proof-material",
   "metadata": {
    "execution": {
     "iopub.execute_input": "2022-01-07T00:28:43.657730Z",
     "iopub.status.busy": "2022-01-07T00:28:43.657195Z",
     "iopub.status.idle": "2022-01-07T00:28:43.981436Z",
     "shell.execute_reply": "2022-01-07T00:28:43.980507Z"
    },
    "papermill": {
     "duration": 0.365061,
     "end_time": "2022-01-07T00:28:43.981600",
     "exception": false,
     "start_time": "2022-01-07T00:28:43.616539",
     "status": "completed"
    },
    "tags": []
   },
   "outputs": [],
   "source": [
    "#hide\n",
    "import numpy as np\n",
    "import pandas as pd\n",
    "from jinja2 import Template\n",
    "from IPython.display import HTML"
   ]
  },
  {
   "cell_type": "code",
   "execution_count": 2,
   "id": "developed-terminology",
   "metadata": {
    "execution": {
     "iopub.execute_input": "2022-01-07T00:28:44.045846Z",
     "iopub.status.busy": "2022-01-07T00:28:44.045214Z",
     "iopub.status.idle": "2022-01-07T00:28:44.046699Z",
     "shell.execute_reply": "2022-01-07T00:28:44.047187Z"
    },
    "papermill": {
     "duration": 0.035936,
     "end_time": "2022-01-07T00:28:44.047328",
     "exception": false,
     "start_time": "2022-01-07T00:28:44.011392",
     "status": "completed"
    },
    "tags": []
   },
   "outputs": [],
   "source": [
    "#hide\n",
    "\n",
    "# FETCH\n",
    "base_url = 'https://raw.githubusercontent.com/pratapvardhan/notebooks/master/covid19/'\n",
    "paths = {\n",
    "    'mapping': base_url + 'mapping_countries.csv',\n",
    "    'overview': base_url + 'overview.tpl'\n",
    "}"
   ]
  },
  {
   "cell_type": "code",
   "execution_count": 3,
   "id": "dynamic-saver",
   "metadata": {
    "execution": {
     "iopub.execute_input": "2022-01-07T00:28:44.116686Z",
     "iopub.status.busy": "2022-01-07T00:28:44.116163Z",
     "iopub.status.idle": "2022-01-07T00:28:44.118977Z",
     "shell.execute_reply": "2022-01-07T00:28:44.118548Z"
    },
    "papermill": {
     "duration": 0.041641,
     "end_time": "2022-01-07T00:28:44.119084",
     "exception": false,
     "start_time": "2022-01-07T00:28:44.077443",
     "status": "completed"
    },
    "tags": []
   },
   "outputs": [
    {
     "data": {
      "text/plain": [
       "'https://raw.githubusercontent.com/pratapvardhan/notebooks/master/covid19/mapping_countries.csv'"
      ]
     },
     "execution_count": 3,
     "metadata": {},
     "output_type": "execute_result"
    }
   ],
   "source": [
    "#hide\n",
    "paths['mapping']"
   ]
  },
  {
   "cell_type": "code",
   "execution_count": 4,
   "id": "urban-software",
   "metadata": {
    "execution": {
     "iopub.execute_input": "2022-01-07T00:28:44.183186Z",
     "iopub.status.busy": "2022-01-07T00:28:44.182665Z",
     "iopub.status.idle": "2022-01-07T00:28:44.184459Z",
     "shell.execute_reply": "2022-01-07T00:28:44.184895Z"
    },
    "papermill": {
     "duration": 0.036258,
     "end_time": "2022-01-07T00:28:44.185017",
     "exception": false,
     "start_time": "2022-01-07T00:28:44.148759",
     "status": "completed"
    },
    "tags": []
   },
   "outputs": [],
   "source": [
    "#hide\n",
    "def get_mappings(url):\n",
    "    df = pd.read_csv(url)\n",
    "    return {\n",
    "        'df': df,\n",
    "        'replace.country': dict(df.dropna(subset=['Name']).set_index('Country')['Name']),\n",
    "        'map.continent': dict(df.set_index('Name')['Continent'])\n",
    "    }"
   ]
  },
  {
   "cell_type": "code",
   "execution_count": 5,
   "id": "intimate-machinery",
   "metadata": {
    "execution": {
     "iopub.execute_input": "2022-01-07T00:28:44.249374Z",
     "iopub.status.busy": "2022-01-07T00:28:44.248862Z",
     "iopub.status.idle": "2022-01-07T00:28:44.317336Z",
     "shell.execute_reply": "2022-01-07T00:28:44.316896Z"
    },
    "papermill": {
     "duration": 0.102784,
     "end_time": "2022-01-07T00:28:44.317447",
     "exception": false,
     "start_time": "2022-01-07T00:28:44.214663",
     "status": "completed"
    },
    "tags": []
   },
   "outputs": [],
   "source": [
    "#hide\n",
    "mapping = get_mappings(paths['mapping'])"
   ]
  },
  {
   "cell_type": "code",
   "execution_count": 6,
   "id": "certified-tactics",
   "metadata": {
    "execution": {
     "iopub.execute_input": "2022-01-07T00:28:44.381512Z",
     "iopub.status.busy": "2022-01-07T00:28:44.380914Z",
     "iopub.status.idle": "2022-01-07T00:28:44.383039Z",
     "shell.execute_reply": "2022-01-07T00:28:44.382554Z"
    },
    "papermill": {
     "duration": 0.036041,
     "end_time": "2022-01-07T00:28:44.383154",
     "exception": false,
     "start_time": "2022-01-07T00:28:44.347113",
     "status": "completed"
    },
    "tags": []
   },
   "outputs": [],
   "source": [
    "#hide\n",
    "def get_template(path):\n",
    "    from urllib.parse import urlparse\n",
    "    if bool(urlparse(path).netloc):\n",
    "        from urllib.request import urlopen\n",
    "        return urlopen(path).read().decode('utf8')\n",
    "    return open(path).read()"
   ]
  },
  {
   "cell_type": "code",
   "execution_count": 7,
   "id": "realistic-blast",
   "metadata": {
    "execution": {
     "iopub.execute_input": "2022-01-07T00:28:44.447299Z",
     "iopub.status.busy": "2022-01-07T00:28:44.446717Z",
     "iopub.status.idle": "2022-01-07T00:28:44.448795Z",
     "shell.execute_reply": "2022-01-07T00:28:44.448352Z"
    },
    "papermill": {
     "duration": 0.035649,
     "end_time": "2022-01-07T00:28:44.448895",
     "exception": false,
     "start_time": "2022-01-07T00:28:44.413246",
     "status": "completed"
    },
    "tags": []
   },
   "outputs": [],
   "source": [
    "#hide\n",
    "def get_frame(name):\n",
    "    url = (\n",
    "        'https://raw.githubusercontent.com/CSSEGISandData/COVID-19/master/csse_covid_19_data/'\n",
    "        f'csse_covid_19_time_series/time_series_covid19_{name}_global.csv')\n",
    "    df = pd.read_csv(url)\n",
    "    # rename countries\n",
    "    df['Country/Region'] = df['Country/Region'].replace(mapping['replace.country'])\n",
    "    return df"
   ]
  },
  {
   "cell_type": "code",
   "execution_count": 8,
   "id": "affiliated-characterization",
   "metadata": {
    "execution": {
     "iopub.execute_input": "2022-01-07T00:28:44.512931Z",
     "iopub.status.busy": "2022-01-07T00:28:44.512419Z",
     "iopub.status.idle": "2022-01-07T00:28:44.514617Z",
     "shell.execute_reply": "2022-01-07T00:28:44.514201Z"
    },
    "papermill": {
     "duration": 0.036295,
     "end_time": "2022-01-07T00:28:44.514721",
     "exception": false,
     "start_time": "2022-01-07T00:28:44.478426",
     "status": "completed"
    },
    "tags": []
   },
   "outputs": [],
   "source": [
    "#hide\n",
    "def get_dates(df):\n",
    "    dt_cols = df.columns[~df.columns.isin(['Province/State', 'Country/Region', 'Lat', 'Long'])]\n",
    "    LAST_DATE_I = -1\n",
    "    # sometimes last column may be empty, then go backwards\n",
    "    for i in range(-1, -len(dt_cols), -1):\n",
    "        if not df[dt_cols[i]].fillna(0).eq(0).all():\n",
    "            LAST_DATE_I = i\n",
    "            break\n",
    "    return LAST_DATE_I, dt_cols"
   ]
  },
  {
   "cell_type": "code",
   "execution_count": 9,
   "id": "recent-optimization",
   "metadata": {
    "execution": {
     "iopub.execute_input": "2022-01-07T00:28:44.581558Z",
     "iopub.status.busy": "2022-01-07T00:28:44.581051Z",
     "iopub.status.idle": "2022-01-07T00:28:45.125392Z",
     "shell.execute_reply": "2022-01-07T00:28:45.125867Z"
    },
    "papermill": {
     "duration": 0.581038,
     "end_time": "2022-01-07T00:28:45.126014",
     "exception": false,
     "start_time": "2022-01-07T00:28:44.544976",
     "status": "completed"
    },
    "tags": []
   },
   "outputs": [],
   "source": [
    "#hide\n",
    "COL_REGION = 'Country/Region'\n",
    "# Confirmed, Recovered, Deaths\n",
    "df = get_frame('confirmed')\n",
    "# dft_: timeseries, dfc_: today country agg\n",
    "dft_cases = df\n",
    "dft_deaths = get_frame('deaths')\n",
    "dft_recovered = get_frame('recovered')\n",
    "LAST_DATE_I, dt_cols = get_dates(df)"
   ]
  },
  {
   "cell_type": "code",
   "execution_count": 10,
   "id": "absolute-copper",
   "metadata": {
    "execution": {
     "iopub.execute_input": "2022-01-07T00:28:45.191088Z",
     "iopub.status.busy": "2022-01-07T00:28:45.190571Z",
     "iopub.status.idle": "2022-01-07T00:28:45.192600Z",
     "shell.execute_reply": "2022-01-07T00:28:45.192978Z"
    },
    "papermill": {
     "duration": 0.036841,
     "end_time": "2022-01-07T00:28:45.193109",
     "exception": false,
     "start_time": "2022-01-07T00:28:45.156268",
     "status": "completed"
    },
    "tags": []
   },
   "outputs": [],
   "source": [
    "#hide\n",
    "LAST_DATE_I, dt_cols = get_dates(df)\n",
    "dt_today =dt_cols[LAST_DATE_I]\n",
    "# dt_5day = dt_cols[LAST_DATE_I - 5]\n",
    "dt_yday = dt_cols[LAST_DATE_I - 1]"
   ]
  },
  {
   "cell_type": "code",
   "execution_count": 11,
   "id": "restricted-sheriff",
   "metadata": {
    "execution": {
     "iopub.execute_input": "2022-01-07T00:28:45.260306Z",
     "iopub.status.busy": "2022-01-07T00:28:45.259764Z",
     "iopub.status.idle": "2022-01-07T00:28:45.264500Z",
     "shell.execute_reply": "2022-01-07T00:28:45.264087Z"
    },
    "papermill": {
     "duration": 0.042132,
     "end_time": "2022-01-07T00:28:45.264608",
     "exception": false,
     "start_time": "2022-01-07T00:28:45.222476",
     "status": "completed"
    },
    "tags": []
   },
   "outputs": [],
   "source": [
    "#hide\n",
    "dfc_cases = dft_cases.groupby(COL_REGION)[dt_today].sum()\n",
    "dfc_deaths = dft_deaths.groupby(COL_REGION)[dt_today].sum()\n",
    "# dfp_cases = dft_cases.groupby(COL_REGION)[dt_5day].sum()\n",
    "# dfp_deaths = dft_deaths.groupby(COL_REGION)[dt_5day].sum()\n",
    "dfp_cases = dft_cases.groupby(COL_REGION)[dt_yday].sum()\n",
    "dfp_deaths = dft_deaths.groupby(COL_REGION)[dt_yday].sum()"
   ]
  },
  {
   "cell_type": "code",
   "execution_count": 12,
   "id": "deluxe-hepatitis",
   "metadata": {
    "execution": {
     "iopub.execute_input": "2022-01-07T00:28:45.329010Z",
     "iopub.status.busy": "2022-01-07T00:28:45.328510Z",
     "iopub.status.idle": "2022-01-07T00:28:45.332678Z",
     "shell.execute_reply": "2022-01-07T00:28:45.333160Z"
    },
    "papermill": {
     "duration": 0.039127,
     "end_time": "2022-01-07T00:28:45.333278",
     "exception": false,
     "start_time": "2022-01-07T00:28:45.294151",
     "status": "completed"
    },
    "tags": []
   },
   "outputs": [],
   "source": [
    "#hide\n",
    "df_table = (pd.DataFrame(dict(Cases = dfc_cases, Deaths = dfc_deaths, PCases = dfp_cases, PDeaths = dfp_deaths))\n",
    "            .sort_values(by = ['Cases','Deaths'], ascending = [False, False])\n",
    "            .reset_index())"
   ]
  },
  {
   "cell_type": "code",
   "execution_count": 13,
   "id": "educational-chancellor",
   "metadata": {
    "execution": {
     "iopub.execute_input": "2022-01-07T00:28:45.409444Z",
     "iopub.status.busy": "2022-01-07T00:28:45.408930Z",
     "iopub.status.idle": "2022-01-07T00:28:45.415736Z",
     "shell.execute_reply": "2022-01-07T00:28:45.416145Z"
    },
    "papermill": {
     "duration": 0.053644,
     "end_time": "2022-01-07T00:28:45.416266",
     "exception": false,
     "start_time": "2022-01-07T00:28:45.362622",
     "status": "completed"
    },
    "tags": []
   },
   "outputs": [
    {
     "data": {
      "text/html": [
       "<div>\n",
       "<style scoped>\n",
       "    .dataframe tbody tr th:only-of-type {\n",
       "        vertical-align: middle;\n",
       "    }\n",
       "\n",
       "    .dataframe tbody tr th {\n",
       "        vertical-align: top;\n",
       "    }\n",
       "\n",
       "    .dataframe thead th {\n",
       "        text-align: right;\n",
       "    }\n",
       "</style>\n",
       "<table border=\"1\" class=\"dataframe\">\n",
       "  <thead>\n",
       "    <tr style=\"text-align: right;\">\n",
       "      <th></th>\n",
       "      <th>Country/Region</th>\n",
       "      <th>Cases</th>\n",
       "      <th>Deaths</th>\n",
       "      <th>PCases</th>\n",
       "      <th>PDeaths</th>\n",
       "      <th>Cases (+)</th>\n",
       "      <th>Deaths (+)</th>\n",
       "      <th>Fatality Rate</th>\n",
       "      <th>Continent</th>\n",
       "    </tr>\n",
       "  </thead>\n",
       "  <tbody>\n",
       "    <tr>\n",
       "      <th>0</th>\n",
       "      <td>US</td>\n",
       "      <td>57700873</td>\n",
       "      <td>832118</td>\n",
       "      <td>57077565</td>\n",
       "      <td>830132</td>\n",
       "      <td>623308</td>\n",
       "      <td>1986</td>\n",
       "      <td>1.44</td>\n",
       "      <td>North America</td>\n",
       "    </tr>\n",
       "    <tr>\n",
       "      <th>1</th>\n",
       "      <td>India</td>\n",
       "      <td>35109286</td>\n",
       "      <td>482876</td>\n",
       "      <td>35018358</td>\n",
       "      <td>482551</td>\n",
       "      <td>90928</td>\n",
       "      <td>325</td>\n",
       "      <td>1.38</td>\n",
       "      <td>Asia</td>\n",
       "    </tr>\n",
       "    <tr>\n",
       "      <th>2</th>\n",
       "      <td>Brazil</td>\n",
       "      <td>22328252</td>\n",
       "      <td>619654</td>\n",
       "      <td>22328252</td>\n",
       "      <td>619654</td>\n",
       "      <td>0</td>\n",
       "      <td>0</td>\n",
       "      <td>2.78</td>\n",
       "      <td>South America</td>\n",
       "    </tr>\n",
       "    <tr>\n",
       "      <th>3</th>\n",
       "      <td>United Kingdom</td>\n",
       "      <td>13918510</td>\n",
       "      <td>149761</td>\n",
       "      <td>13723275</td>\n",
       "      <td>149417</td>\n",
       "      <td>195235</td>\n",
       "      <td>344</td>\n",
       "      <td>1.08</td>\n",
       "      <td>Europe</td>\n",
       "    </tr>\n",
       "    <tr>\n",
       "      <th>4</th>\n",
       "      <td>France</td>\n",
       "      <td>11027112</td>\n",
       "      <td>125797</td>\n",
       "      <td>10694804</td>\n",
       "      <td>125551</td>\n",
       "      <td>332308</td>\n",
       "      <td>246</td>\n",
       "      <td>1.14</td>\n",
       "      <td>Europe</td>\n",
       "    </tr>\n",
       "  </tbody>\n",
       "</table>\n",
       "</div>"
      ],
      "text/plain": [
       "   Country/Region     Cases  Deaths    PCases  PDeaths  Cases (+)  Deaths (+)  \\\n",
       "0              US  57700873  832118  57077565   830132     623308        1986   \n",
       "1           India  35109286  482876  35018358   482551      90928         325   \n",
       "2          Brazil  22328252  619654  22328252   619654          0           0   \n",
       "3  United Kingdom  13918510  149761  13723275   149417     195235         344   \n",
       "4          France  11027112  125797  10694804   125551     332308         246   \n",
       "\n",
       "   Fatality Rate      Continent  \n",
       "0           1.44  North America  \n",
       "1           1.38           Asia  \n",
       "2           2.78  South America  \n",
       "3           1.08         Europe  \n",
       "4           1.14         Europe  "
      ]
     },
     "execution_count": 13,
     "metadata": {},
     "output_type": "execute_result"
    }
   ],
   "source": [
    "#hide\n",
    "for c in 'Cases, Deaths'.split(', '):\n",
    "    df_table[f'{c} (+)'] = (df_table[c] - df_table[f'P{c}']).clip(0)\n",
    "    #Clip ça veut dire, les chiffres negatif sont interdit\n",
    "df_table['Fatality Rate'] = (100* df_table['Deaths']/ df_table['Cases']).round(2)\n",
    "df_table['Continent'] = df_table['Country/Region'].map(mapping['map.continent'])\n",
    "df_table.head(5)"
   ]
  },
  {
   "cell_type": "code",
   "execution_count": 14,
   "id": "aboriginal-bulgaria",
   "metadata": {
    "execution": {
     "iopub.execute_input": "2022-01-07T00:28:45.481266Z",
     "iopub.status.busy": "2022-01-07T00:28:45.480768Z",
     "iopub.status.idle": "2022-01-07T00:28:45.482762Z",
     "shell.execute_reply": "2022-01-07T00:28:45.483247Z"
    },
    "papermill": {
     "duration": 0.037109,
     "end_time": "2022-01-07T00:28:45.483361",
     "exception": false,
     "start_time": "2022-01-07T00:28:45.446252",
     "status": "completed"
    },
    "tags": []
   },
   "outputs": [],
   "source": [
    "#hide\n",
    "#delete problematic countries from table\n",
    "df_table = df_table[~df_table['Country/Region'].isin(['Cape Verde', 'Cruise Ship', 'Kosovo'])]"
   ]
  },
  {
   "cell_type": "code",
   "execution_count": 15,
   "id": "fantastic-effect",
   "metadata": {
    "execution": {
     "iopub.execute_input": "2022-01-07T00:28:45.552052Z",
     "iopub.status.busy": "2022-01-07T00:28:45.551500Z",
     "iopub.status.idle": "2022-01-07T00:28:45.569604Z",
     "shell.execute_reply": "2022-01-07T00:28:45.568902Z"
    },
    "papermill": {
     "duration": 0.056456,
     "end_time": "2022-01-07T00:28:45.569712",
     "exception": false,
     "start_time": "2022-01-07T00:28:45.513256",
     "status": "completed"
    },
    "tags": []
   },
   "outputs": [
    {
     "data": {
      "text/html": [
       "<div>\n",
       "<style scoped>\n",
       "    .dataframe tbody tr th:only-of-type {\n",
       "        vertical-align: middle;\n",
       "    }\n",
       "\n",
       "    .dataframe tbody tr th {\n",
       "        vertical-align: top;\n",
       "    }\n",
       "\n",
       "    .dataframe thead th {\n",
       "        text-align: right;\n",
       "    }\n",
       "</style>\n",
       "<table border=\"1\" class=\"dataframe\">\n",
       "  <thead>\n",
       "    <tr style=\"text-align: right;\">\n",
       "      <th></th>\n",
       "      <th>Country/Region</th>\n",
       "      <th>Cases</th>\n",
       "      <th>Deaths</th>\n",
       "      <th>PCases</th>\n",
       "      <th>PDeaths</th>\n",
       "      <th>Cases (+)</th>\n",
       "      <th>Deaths (+)</th>\n",
       "      <th>Fatality Rate</th>\n",
       "      <th>Continent</th>\n",
       "    </tr>\n",
       "  </thead>\n",
       "  <tbody>\n",
       "    <tr>\n",
       "      <th>0</th>\n",
       "      <td>US</td>\n",
       "      <td>57700873</td>\n",
       "      <td>832118</td>\n",
       "      <td>57077565</td>\n",
       "      <td>830132</td>\n",
       "      <td>623308</td>\n",
       "      <td>1986</td>\n",
       "      <td>1.4</td>\n",
       "      <td>North America</td>\n",
       "    </tr>\n",
       "    <tr>\n",
       "      <th>1</th>\n",
       "      <td>India</td>\n",
       "      <td>35109286</td>\n",
       "      <td>482876</td>\n",
       "      <td>35018358</td>\n",
       "      <td>482551</td>\n",
       "      <td>90928</td>\n",
       "      <td>325</td>\n",
       "      <td>1.4</td>\n",
       "      <td>Asia</td>\n",
       "    </tr>\n",
       "    <tr>\n",
       "      <th>2</th>\n",
       "      <td>Brazil</td>\n",
       "      <td>22328252</td>\n",
       "      <td>619654</td>\n",
       "      <td>22328252</td>\n",
       "      <td>619654</td>\n",
       "      <td>0</td>\n",
       "      <td>0</td>\n",
       "      <td>2.8</td>\n",
       "      <td>South America</td>\n",
       "    </tr>\n",
       "    <tr>\n",
       "      <th>3</th>\n",
       "      <td>United Kingdom</td>\n",
       "      <td>13918510</td>\n",
       "      <td>149761</td>\n",
       "      <td>13723275</td>\n",
       "      <td>149417</td>\n",
       "      <td>195235</td>\n",
       "      <td>344</td>\n",
       "      <td>1.1</td>\n",
       "      <td>Europe</td>\n",
       "    </tr>\n",
       "    <tr>\n",
       "      <th>4</th>\n",
       "      <td>France</td>\n",
       "      <td>11027112</td>\n",
       "      <td>125797</td>\n",
       "      <td>10694804</td>\n",
       "      <td>125551</td>\n",
       "      <td>332308</td>\n",
       "      <td>246</td>\n",
       "      <td>1.1</td>\n",
       "      <td>Europe</td>\n",
       "    </tr>\n",
       "  </tbody>\n",
       "</table>\n",
       "</div>"
      ],
      "text/plain": [
       "   Country/Region     Cases  Deaths    PCases  PDeaths  Cases (+)  Deaths (+)  \\\n",
       "0              US  57700873  832118  57077565   830132     623308        1986   \n",
       "1           India  35109286  482876  35018358   482551      90928         325   \n",
       "2          Brazil  22328252  619654  22328252   619654          0           0   \n",
       "3  United Kingdom  13918510  149761  13723275   149417     195235         344   \n",
       "4          France  11027112  125797  10694804   125551     332308         246   \n",
       "\n",
       "   Fatality Rate      Continent  \n",
       "0            1.4  North America  \n",
       "1            1.4           Asia  \n",
       "2            2.8  South America  \n",
       "3            1.1         Europe  \n",
       "4            1.1         Europe  "
      ]
     },
     "execution_count": 15,
     "metadata": {},
     "output_type": "execute_result"
    }
   ],
   "source": [
    "#hide\n",
    "df_table = (pd.DataFrame(dict(Cases=dfc_cases, Deaths=dfc_deaths, PCases=dfp_cases, PDeaths=dfp_deaths))\n",
    "             .sort_values(by=['Cases', 'Deaths'], ascending=[False, False])\n",
    "             .reset_index())\n",
    "df_table.rename(columns={'index': 'Country/Region'}, inplace=True)\n",
    "for c in 'Cases, Deaths'.split(', '):\n",
    "    df_table[f'{c} (+)'] = (df_table[c] - df_table[f'P{c}']).clip(0)  # DATA BUG\n",
    "df_table['Fatality Rate'] = (100 * df_table['Deaths'] / df_table['Cases']).round(1)\n",
    "df_table['Continent'] = df_table['Country/Region'].map(mapping['map.continent'])\n",
    "df_table.head(5)"
   ]
  },
  {
   "cell_type": "code",
   "execution_count": 16,
   "id": "fewer-occasion",
   "metadata": {
    "execution": {
     "iopub.execute_input": "2022-01-07T00:28:45.636521Z",
     "iopub.status.busy": "2022-01-07T00:28:45.636010Z",
     "iopub.status.idle": "2022-01-07T00:28:45.638383Z",
     "shell.execute_reply": "2022-01-07T00:28:45.638872Z"
    },
    "papermill": {
     "duration": 0.038529,
     "end_time": "2022-01-07T00:28:45.638994",
     "exception": false,
     "start_time": "2022-01-07T00:28:45.600465",
     "status": "completed"
    },
    "tags": []
   },
   "outputs": [],
   "source": [
    "#hide\n",
    "#delete problematic countries from table\n",
    "df_table = df_table[~df_table['Country/Region'].isin(['Cape Verde', 'Cruise Ship', 'Kosovo'])]"
   ]
  },
  {
   "cell_type": "code",
   "execution_count": 17,
   "id": "related-center",
   "metadata": {
    "execution": {
     "iopub.execute_input": "2022-01-07T00:28:45.717713Z",
     "iopub.status.busy": "2022-01-07T00:28:45.717184Z",
     "iopub.status.idle": "2022-01-07T00:28:45.719884Z",
     "shell.execute_reply": "2022-01-07T00:28:45.719420Z"
    },
    "papermill": {
     "duration": 0.050517,
     "end_time": "2022-01-07T00:28:45.719997",
     "exception": false,
     "start_time": "2022-01-07T00:28:45.669480",
     "status": "completed"
    },
    "tags": []
   },
   "outputs": [],
   "source": [
    "#hide\n",
    "metrics = [df_table.columns[index] for index in [1,2,5,6]]\n",
    "# s_china = df_table[df_table['Country/Region'].eq('China')][metrics].sum().add_prefix('China ')\n",
    "s_us = df_table[df_table['Country/Region'].eq('US')][metrics].sum().add_prefix('US ')\n",
    "s_eu = df_table[df_table['Continent'].eq('Europe')][metrics].sum().add_prefix('EU ')\n",
    "s_ind = df_table[df_table['Country/Region'].eq('India')][metrics].sum().add_prefix('India ')\n",
    "summary = {'updated': pd.to_datetime(dt_today), 'since': pd.to_datetime(dt_yday)}\n",
    "summary = {'updated': pd.to_datetime(dt_today), 'since': pd.to_datetime(dt_yday)}\n",
    "summary = {**summary, **df_table[metrics].sum(), **s_ind, **s_us, **s_eu}"
   ]
  },
  {
   "cell_type": "code",
   "execution_count": 18,
   "id": "engaging-syndrome",
   "metadata": {
    "execution": {
     "iopub.execute_input": "2022-01-07T00:28:45.786668Z",
     "iopub.status.busy": "2022-01-07T00:28:45.786142Z",
     "iopub.status.idle": "2022-01-07T00:28:45.800527Z",
     "shell.execute_reply": "2022-01-07T00:28:45.800093Z"
    },
    "papermill": {
     "duration": 0.049844,
     "end_time": "2022-01-07T00:28:45.800646",
     "exception": false,
     "start_time": "2022-01-07T00:28:45.750802",
     "status": "completed"
    },
    "tags": []
   },
   "outputs": [],
   "source": [
    "#hide\n",
    "dft_ct_new_cases = dft_cases.groupby(COL_REGION)[dt_cols].sum().diff(axis=1).fillna(0).astype(int)"
   ]
  },
  {
   "cell_type": "code",
   "execution_count": 19,
   "id": "neutral-assignment",
   "metadata": {
    "execution": {
     "iopub.execute_input": "2022-01-07T00:28:45.868601Z",
     "iopub.status.busy": "2022-01-07T00:28:45.868048Z",
     "iopub.status.idle": "2022-01-07T00:28:45.870636Z",
     "shell.execute_reply": "2022-01-07T00:28:45.870117Z"
    },
    "papermill": {
     "duration": 0.039425,
     "end_time": "2022-01-07T00:28:45.870747",
     "exception": false,
     "start_time": "2022-01-07T00:28:45.831322",
     "status": "completed"
    },
    "tags": []
   },
   "outputs": [],
   "source": [
    "#hide\n",
    "everydaycases = dft_ct_new_cases.cumsum(axis=1)"
   ]
  },
  {
   "cell_type": "code",
   "execution_count": 20,
   "id": "parliamentary-calgary",
   "metadata": {
    "execution": {
     "iopub.execute_input": "2022-01-07T00:28:45.936389Z",
     "iopub.status.busy": "2022-01-07T00:28:45.935868Z",
     "iopub.status.idle": "2022-01-07T00:28:46.585511Z",
     "shell.execute_reply": "2022-01-07T00:28:46.584434Z"
    },
    "papermill": {
     "duration": 0.683997,
     "end_time": "2022-01-07T00:28:46.585642",
     "exception": false,
     "start_time": "2022-01-07T00:28:45.901645",
     "status": "completed"
    },
    "tags": []
   },
   "outputs": [],
   "source": [
    "#hide\n",
    "import pandas as pd\n",
    "import matplotlib.pyplot as plt\n",
    "import matplotlib.ticker as ticker\n",
    "import matplotlib.animation as animation\n",
    "from IPython.display import HTML"
   ]
  },
  {
   "cell_type": "code",
   "execution_count": 21,
   "id": "lasting-extraction",
   "metadata": {
    "execution": {
     "iopub.execute_input": "2022-01-07T00:28:46.652735Z",
     "iopub.status.busy": "2022-01-07T00:28:46.652015Z",
     "iopub.status.idle": "2022-01-07T00:28:46.658576Z",
     "shell.execute_reply": "2022-01-07T00:28:46.658093Z"
    },
    "papermill": {
     "duration": 0.04245,
     "end_time": "2022-01-07T00:28:46.658704",
     "exception": false,
     "start_time": "2022-01-07T00:28:46.616254",
     "status": "completed"
    },
    "tags": []
   },
   "outputs": [],
   "source": [
    "#hide\n",
    "t = everydaycases.stack()"
   ]
  },
  {
   "cell_type": "code",
   "execution_count": 22,
   "id": "premier-sleeve",
   "metadata": {
    "execution": {
     "iopub.execute_input": "2022-01-07T00:28:46.725404Z",
     "iopub.status.busy": "2022-01-07T00:28:46.724894Z",
     "iopub.status.idle": "2022-01-07T00:28:46.734981Z",
     "shell.execute_reply": "2022-01-07T00:28:46.734571Z"
    },
    "papermill": {
     "duration": 0.044671,
     "end_time": "2022-01-07T00:28:46.735091",
     "exception": false,
     "start_time": "2022-01-07T00:28:46.690420",
     "status": "completed"
    },
    "tags": []
   },
   "outputs": [],
   "source": [
    "#hide\n",
    "g = t.reset_index(['Country/Region'])"
   ]
  },
  {
   "cell_type": "code",
   "execution_count": 23,
   "id": "distributed-pittsburgh",
   "metadata": {
    "execution": {
     "iopub.execute_input": "2022-01-07T00:28:46.800318Z",
     "iopub.status.busy": "2022-01-07T00:28:46.799781Z",
     "iopub.status.idle": "2022-01-07T00:28:46.802015Z",
     "shell.execute_reply": "2022-01-07T00:28:46.801611Z"
    },
    "papermill": {
     "duration": 0.036003,
     "end_time": "2022-01-07T00:28:46.802121",
     "exception": false,
     "start_time": "2022-01-07T00:28:46.766118",
     "status": "completed"
    },
    "tags": []
   },
   "outputs": [],
   "source": [
    "#hide\n",
    "g.index.name = 'date'"
   ]
  },
  {
   "cell_type": "code",
   "execution_count": 24,
   "id": "naked-donor",
   "metadata": {
    "execution": {
     "iopub.execute_input": "2022-01-07T00:28:46.867027Z",
     "iopub.status.busy": "2022-01-07T00:28:46.866421Z",
     "iopub.status.idle": "2022-01-07T00:28:46.867969Z",
     "shell.execute_reply": "2022-01-07T00:28:46.868414Z"
    },
    "papermill": {
     "duration": 0.0359,
     "end_time": "2022-01-07T00:28:46.868559",
     "exception": false,
     "start_time": "2022-01-07T00:28:46.832659",
     "status": "completed"
    },
    "tags": []
   },
   "outputs": [],
   "source": [
    "# #hide\n",
    "# g = g.reset_index(['date'])"
   ]
  },
  {
   "cell_type": "code",
   "execution_count": 25,
   "id": "incomplete-mustang",
   "metadata": {
    "execution": {
     "iopub.execute_input": "2022-01-07T00:28:46.937040Z",
     "iopub.status.busy": "2022-01-07T00:28:46.936537Z",
     "iopub.status.idle": "2022-01-07T00:28:46.938310Z",
     "shell.execute_reply": "2022-01-07T00:28:46.938726Z"
    },
    "papermill": {
     "duration": 0.039369,
     "end_time": "2022-01-07T00:28:46.938846",
     "exception": false,
     "start_time": "2022-01-07T00:28:46.899477",
     "status": "completed"
    },
    "tags": []
   },
   "outputs": [],
   "source": [
    "#hide\n",
    "# g.head()"
   ]
  },
  {
   "cell_type": "code",
   "execution_count": 26,
   "id": "specific-kruger",
   "metadata": {
    "execution": {
     "iopub.execute_input": "2022-01-07T00:28:47.003259Z",
     "iopub.status.busy": "2022-01-07T00:28:47.002661Z",
     "iopub.status.idle": "2022-01-07T00:28:47.006265Z",
     "shell.execute_reply": "2022-01-07T00:28:47.006820Z"
    },
    "papermill": {
     "duration": 0.037707,
     "end_time": "2022-01-07T00:28:47.006956",
     "exception": false,
     "start_time": "2022-01-07T00:28:46.969249",
     "status": "completed"
    },
    "tags": []
   },
   "outputs": [],
   "source": [
    "#hide\n",
    "# g.columns = ['date','country','cases']"
   ]
  },
  {
   "cell_type": "code",
   "execution_count": 27,
   "id": "tender-conversion",
   "metadata": {
    "execution": {
     "iopub.execute_input": "2022-01-07T00:28:47.076719Z",
     "iopub.status.busy": "2022-01-07T00:28:47.076123Z",
     "iopub.status.idle": "2022-01-07T00:28:47.078208Z",
     "shell.execute_reply": "2022-01-07T00:28:47.077709Z"
    },
    "papermill": {
     "duration": 0.039848,
     "end_time": "2022-01-07T00:28:47.078313",
     "exception": false,
     "start_time": "2022-01-07T00:28:47.038465",
     "status": "completed"
    },
    "tags": []
   },
   "outputs": [],
   "source": [
    "#hide\n",
    "# g['continent'] = g.country"
   ]
  },
  {
   "cell_type": "code",
   "execution_count": 28,
   "id": "substantial-wilderness",
   "metadata": {
    "execution": {
     "iopub.execute_input": "2022-01-07T00:28:47.142786Z",
     "iopub.status.busy": "2022-01-07T00:28:47.142200Z",
     "iopub.status.idle": "2022-01-07T00:28:47.146203Z",
     "shell.execute_reply": "2022-01-07T00:28:47.145736Z"
    },
    "papermill": {
     "duration": 0.037522,
     "end_time": "2022-01-07T00:28:47.146324",
     "exception": false,
     "start_time": "2022-01-07T00:28:47.108802",
     "status": "completed"
    },
    "tags": []
   },
   "outputs": [],
   "source": [
    "#hide\n",
    "# cols = list(g.columns.values)"
   ]
  },
  {
   "cell_type": "code",
   "execution_count": 29,
   "id": "solved-farming",
   "metadata": {
    "execution": {
     "iopub.execute_input": "2022-01-07T00:28:47.210663Z",
     "iopub.status.busy": "2022-01-07T00:28:47.210085Z",
     "iopub.status.idle": "2022-01-07T00:28:47.212199Z",
     "shell.execute_reply": "2022-01-07T00:28:47.211604Z"
    },
    "papermill": {
     "duration": 0.035351,
     "end_time": "2022-01-07T00:28:47.212317",
     "exception": false,
     "start_time": "2022-01-07T00:28:47.176966",
     "status": "completed"
    },
    "tags": []
   },
   "outputs": [],
   "source": [
    "#hide\n",
    "# cols.insert(0, cols.pop())"
   ]
  },
  {
   "cell_type": "code",
   "execution_count": 30,
   "id": "executed-adoption",
   "metadata": {
    "execution": {
     "iopub.execute_input": "2022-01-07T00:28:47.277683Z",
     "iopub.status.busy": "2022-01-07T00:28:47.277094Z",
     "iopub.status.idle": "2022-01-07T00:28:47.279293Z",
     "shell.execute_reply": "2022-01-07T00:28:47.278832Z"
    },
    "papermill": {
     "duration": 0.035581,
     "end_time": "2022-01-07T00:28:47.279415",
     "exception": false,
     "start_time": "2022-01-07T00:28:47.243834",
     "status": "completed"
    },
    "tags": []
   },
   "outputs": [],
   "source": [
    "#hide\n",
    "# g = g[cols]"
   ]
  },
  {
   "cell_type": "code",
   "execution_count": 31,
   "id": "subject-dublin",
   "metadata": {
    "execution": {
     "iopub.execute_input": "2022-01-07T00:28:47.343050Z",
     "iopub.status.busy": "2022-01-07T00:28:47.342537Z",
     "iopub.status.idle": "2022-01-07T00:28:47.346510Z",
     "shell.execute_reply": "2022-01-07T00:28:47.346104Z"
    },
    "papermill": {
     "duration": 0.036825,
     "end_time": "2022-01-07T00:28:47.346616",
     "exception": false,
     "start_time": "2022-01-07T00:28:47.309791",
     "status": "completed"
    },
    "tags": []
   },
   "outputs": [],
   "source": [
    "#hide\n",
    "# g['continent'] = g['continent'].map(mapping['map.continent'])"
   ]
  },
  {
   "cell_type": "code",
   "execution_count": 32,
   "id": "freelance-scout",
   "metadata": {
    "execution": {
     "iopub.execute_input": "2022-01-07T00:28:47.410735Z",
     "iopub.status.busy": "2022-01-07T00:28:47.410136Z",
     "iopub.status.idle": "2022-01-07T00:28:47.412280Z",
     "shell.execute_reply": "2022-01-07T00:28:47.411830Z"
    },
    "papermill": {
     "duration": 0.035368,
     "end_time": "2022-01-07T00:28:47.412385",
     "exception": false,
     "start_time": "2022-01-07T00:28:47.377017",
     "status": "completed"
    },
    "tags": []
   },
   "outputs": [],
   "source": [
    "#hide\n",
    "# g.head()"
   ]
  },
  {
   "cell_type": "code",
   "execution_count": 33,
   "id": "limited-engine",
   "metadata": {
    "execution": {
     "iopub.execute_input": "2022-01-07T00:28:47.476133Z",
     "iopub.status.busy": "2022-01-07T00:28:47.475507Z",
     "iopub.status.idle": "2022-01-07T00:28:47.477676Z",
     "shell.execute_reply": "2022-01-07T00:28:47.477220Z"
    },
    "papermill": {
     "duration": 0.035182,
     "end_time": "2022-01-07T00:28:47.477792",
     "exception": false,
     "start_time": "2022-01-07T00:28:47.442610",
     "status": "completed"
    },
    "tags": []
   },
   "outputs": [],
   "source": [
    "# hide\n",
    "# g['date'] = g['date'].astype('datetime64[ns]')"
   ]
  },
  {
   "cell_type": "code",
   "execution_count": 34,
   "id": "sophisticated-supervisor",
   "metadata": {
    "execution": {
     "iopub.execute_input": "2022-01-07T00:28:47.542907Z",
     "iopub.status.busy": "2022-01-07T00:28:47.542335Z",
     "iopub.status.idle": "2022-01-07T00:28:47.545969Z",
     "shell.execute_reply": "2022-01-07T00:28:47.545561Z"
    },
    "papermill": {
     "duration": 0.037048,
     "end_time": "2022-01-07T00:28:47.546075",
     "exception": false,
     "start_time": "2022-01-07T00:28:47.509027",
     "status": "completed"
    },
    "tags": []
   },
   "outputs": [],
   "source": [
    "#hide\n",
    "# g['date'] = g.date.dt.dayofyear"
   ]
  },
  {
   "cell_type": "code",
   "execution_count": 35,
   "id": "inside-dubai",
   "metadata": {
    "execution": {
     "iopub.execute_input": "2022-01-07T00:28:47.609732Z",
     "iopub.status.busy": "2022-01-07T00:28:47.609164Z",
     "iopub.status.idle": "2022-01-07T00:28:47.611240Z",
     "shell.execute_reply": "2022-01-07T00:28:47.610761Z"
    },
    "papermill": {
     "duration": 0.034987,
     "end_time": "2022-01-07T00:28:47.611350",
     "exception": false,
     "start_time": "2022-01-07T00:28:47.576363",
     "status": "completed"
    },
    "tags": []
   },
   "outputs": [],
   "source": [
    "#hide\n",
    "# g = g.rename(columns= {'continent':'group','country':'name','cases':'value'})"
   ]
  },
  {
   "cell_type": "code",
   "execution_count": 36,
   "id": "fleet-motorcycle",
   "metadata": {
    "execution": {
     "iopub.execute_input": "2022-01-07T00:28:47.676078Z",
     "iopub.status.busy": "2022-01-07T00:28:47.675457Z",
     "iopub.status.idle": "2022-01-07T00:28:47.677067Z",
     "shell.execute_reply": "2022-01-07T00:28:47.677448Z"
    },
    "papermill": {
     "duration": 0.035333,
     "end_time": "2022-01-07T00:28:47.677562",
     "exception": false,
     "start_time": "2022-01-07T00:28:47.642229",
     "status": "completed"
    },
    "tags": []
   },
   "outputs": [],
   "source": [
    "#hide\n",
    "# cols = ['name','group','day','value']"
   ]
  },
  {
   "cell_type": "code",
   "execution_count": 37,
   "id": "continued-sleeping",
   "metadata": {
    "execution": {
     "iopub.execute_input": "2022-01-07T00:28:47.741556Z",
     "iopub.status.busy": "2022-01-07T00:28:47.740978Z",
     "iopub.status.idle": "2022-01-07T00:28:47.744606Z",
     "shell.execute_reply": "2022-01-07T00:28:47.745041Z"
    },
    "papermill": {
     "duration": 0.037214,
     "end_time": "2022-01-07T00:28:47.745169",
     "exception": false,
     "start_time": "2022-01-07T00:28:47.707955",
     "status": "completed"
    },
    "tags": []
   },
   "outputs": [],
   "source": [
    "#hide\n",
    "# g.rename(columns= {'date':'day'},inplace = True)"
   ]
  },
  {
   "cell_type": "code",
   "execution_count": 38,
   "id": "major-fight",
   "metadata": {
    "execution": {
     "iopub.execute_input": "2022-01-07T00:28:47.809637Z",
     "iopub.status.busy": "2022-01-07T00:28:47.809059Z",
     "iopub.status.idle": "2022-01-07T00:28:47.811100Z",
     "shell.execute_reply": "2022-01-07T00:28:47.810551Z"
    },
    "papermill": {
     "duration": 0.03515,
     "end_time": "2022-01-07T00:28:47.811210",
     "exception": false,
     "start_time": "2022-01-07T00:28:47.776060",
     "status": "completed"
    },
    "tags": []
   },
   "outputs": [],
   "source": [
    "#hide\n",
    "# g = g[cols]"
   ]
  },
  {
   "cell_type": "code",
   "execution_count": 39,
   "id": "structured-mobile",
   "metadata": {
    "execution": {
     "iopub.execute_input": "2022-01-07T00:28:47.881305Z",
     "iopub.status.busy": "2022-01-07T00:28:47.880795Z",
     "iopub.status.idle": "2022-01-07T00:28:47.882829Z",
     "shell.execute_reply": "2022-01-07T00:28:47.883211Z"
    },
    "papermill": {
     "duration": 0.039164,
     "end_time": "2022-01-07T00:28:47.883332",
     "exception": false,
     "start_time": "2022-01-07T00:28:47.844168",
     "status": "completed"
    },
    "tags": []
   },
   "outputs": [],
   "source": [
    "# #hide\n",
    "# g = g[g.group.notna()]"
   ]
  },
  {
   "cell_type": "code",
   "execution_count": 40,
   "id": "determined-closing",
   "metadata": {
    "execution": {
     "iopub.execute_input": "2022-01-07T00:28:47.950682Z",
     "iopub.status.busy": "2022-01-07T00:28:47.950128Z",
     "iopub.status.idle": "2022-01-07T00:28:47.951993Z",
     "shell.execute_reply": "2022-01-07T00:28:47.951470Z"
    },
    "papermill": {
     "duration": 0.037032,
     "end_time": "2022-01-07T00:28:47.952096",
     "exception": false,
     "start_time": "2022-01-07T00:28:47.915064",
     "status": "completed"
    },
    "tags": []
   },
   "outputs": [],
   "source": [
    "# #hide\n",
    "# colors = dict(zip(\n",
    "#     [\"Oceania\", \"Europe\", \"Asia\", \"South America\", \"Middle East\", \"North America\", \"Africa\"],\n",
    "#     [\"#adb0ff\", \"#ffb3ff\", \"#90d595\", \"#e48381\", \"#aafbff\", \"#f7bb5f\", \"#eafb50\"]\n",
    "# ))\n",
    "# group_lk = g.set_index('name')['group'].to_dict()"
   ]
  },
  {
   "cell_type": "code",
   "execution_count": null,
   "id": "gross-drinking",
   "metadata": {
    "papermill": {
     "duration": 0.030347,
     "end_time": "2022-01-07T00:28:48.012801",
     "exception": false,
     "start_time": "2022-01-07T00:28:47.982454",
     "status": "completed"
    },
    "tags": []
   },
   "outputs": [],
   "source": []
  },
  {
   "cell_type": "code",
   "execution_count": 41,
   "id": "subject-macintosh",
   "metadata": {
    "execution": {
     "iopub.execute_input": "2022-01-07T00:28:48.077995Z",
     "iopub.status.busy": "2022-01-07T00:28:48.077387Z",
     "iopub.status.idle": "2022-01-07T00:28:48.079606Z",
     "shell.execute_reply": "2022-01-07T00:28:48.079113Z"
    },
    "papermill": {
     "duration": 0.036338,
     "end_time": "2022-01-07T00:28:48.079719",
     "exception": false,
     "start_time": "2022-01-07T00:28:48.043381",
     "status": "completed"
    },
    "tags": []
   },
   "outputs": [],
   "source": [
    "# #hide\n",
    "# fig, ax = plt.subplots(figsize=(15, 8))\n",
    "\n",
    "# def draw_barchart(current_day):\n",
    "#     dff = g[g['day'].eq(current_day)].sort_values(by='value', ascending=True).tail(10)\n",
    "#     ax.clear()\n",
    "#     ax.barh(dff['name'], dff['value'], color=[colors[group_lk[x]] for x in dff['name']])\n",
    "#     dx = dff['value'].max() / 200\n",
    "    \n",
    "#     for i, (value, name) in enumerate(zip(dff['value'], dff['name'])):\n",
    "#         ax.text(value-dx, i,     name,           size=14, weight=600, ha='right', va='bottom')\n",
    "#         ax.text(value-dx, i-.25, group_lk[name], size=10, color='#444444', ha='right', va='baseline')\n",
    "#         ax.text(value+dx, i,     f'{value:,.0f}',  size=14, ha='left',  va='center')\n",
    "#     ax.text(1, 0.4, current_day, transform=ax.transAxes, color='#777777', size=46, ha='right', weight=800)\n",
    "#     ax.text(0, 1.06, 'Population (thousands)', transform=ax.transAxes, size=12, color='#777777')\n",
    "#     ax.xaxis.set_major_formatter(ticker.StrMethodFormatter('{x:,.0f}'))\n",
    "#     ax.xaxis.set_ticks_position('top')\n",
    "#     ax.tick_params(axis='x', colors='#777777', labelsize=12)\n",
    "#     ax.set_yticks([])\n",
    "#     ax.margins(0, 0.01)\n",
    "#     ax.grid(which='major', axis='x', linestyle='-')\n",
    "#     ax.set_axisbelow(True)\n",
    "    \n",
    "#     ax.text(0, 1.15, 'Coronavirus',\n",
    "#             transform=ax.transAxes, size=24, weight=600, ha='left', va='top')\n",
    "# #     ax.text(1, 0, 'by @pratapvardhan; credit @jburnmurdoch', transform=ax.transAxes, color='#777777', ha='right',\n",
    "# #             bbox=dict(facecolor='white', alpha=0.8, edgecolor='white'))\n",
    "#     plt.box(False)"
   ]
  },
  {
   "cell_type": "code",
   "execution_count": 42,
   "id": "sexual-wages",
   "metadata": {
    "execution": {
     "iopub.execute_input": "2022-01-07T00:28:48.150469Z",
     "iopub.status.busy": "2022-01-07T00:28:48.149865Z",
     "iopub.status.idle": "2022-01-07T00:28:48.151924Z",
     "shell.execute_reply": "2022-01-07T00:28:48.151331Z"
    },
    "papermill": {
     "duration": 0.036544,
     "end_time": "2022-01-07T00:28:48.152044",
     "exception": false,
     "start_time": "2022-01-07T00:28:48.115500",
     "status": "completed"
    },
    "tags": []
   },
   "outputs": [],
   "source": [
    "# #hide_input\n",
    "# fig, ax = plt.subplots(figsize=(15, 8))\n",
    "# animator = animation.FuncAnimation(fig, draw_barchart, frames=range(g.day.values.min(), g.day.values.max()))\n",
    "# HTML(animator.to_jshtml())\n",
    "# # or use animator.to_html5_video() or animator.save() "
   ]
  },
  {
   "cell_type": "code",
   "execution_count": null,
   "id": "australian-container",
   "metadata": {
    "papermill": {
     "duration": 0.030277,
     "end_time": "2022-01-07T00:28:48.213066",
     "exception": false,
     "start_time": "2022-01-07T00:28:48.182789",
     "status": "completed"
    },
    "tags": []
   },
   "outputs": [],
   "source": []
  },
  {
   "cell_type": "code",
   "execution_count": null,
   "id": "mediterranean-pontiac",
   "metadata": {
    "papermill": {
     "duration": 0.030241,
     "end_time": "2022-01-07T00:28:48.273538",
     "exception": false,
     "start_time": "2022-01-07T00:28:48.243297",
     "status": "completed"
    },
    "tags": []
   },
   "outputs": [],
   "source": []
  },
  {
   "cell_type": "code",
   "execution_count": null,
   "id": "aging-legislature",
   "metadata": {
    "papermill": {
     "duration": 0.030233,
     "end_time": "2022-01-07T00:28:48.334394",
     "exception": false,
     "start_time": "2022-01-07T00:28:48.304161",
     "status": "completed"
    },
    "tags": []
   },
   "outputs": [],
   "source": []
  }
 ],
 "metadata": {
  "kernelspec": {
   "display_name": "Python 3",
   "language": "python",
   "name": "python3"
  },
  "language_info": {
   "codemirror_mode": {
    "name": "ipython",
    "version": 3
   },
   "file_extension": ".py",
   "mimetype": "text/x-python",
   "name": "python",
   "nbconvert_exporter": "python",
   "pygments_lexer": "ipython3",
   "version": "3.6.15"
  },
  "papermill": {
   "duration": 6.056039,
   "end_time": "2022-01-07T00:28:48.672689",
   "environment_variables": {},
   "exception": null,
   "input_path": "2020-03-21-covid19exp.ipynb",
   "output_path": "2020-03-21-covid19exp.ipynb",
   "parameters": {},
   "start_time": "2022-01-07T00:28:42.616650",
   "version": "2.0.0"
  }
 },
 "nbformat": 4,
 "nbformat_minor": 5
}