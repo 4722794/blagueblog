{
 "cells": [
  {
   "cell_type": "markdown",
   "id": "muslim-click",
   "metadata": {
    "papermill": {
     "duration": 0.038736,
     "end_time": "2021-10-22T00:27:27.604894",
     "exception": false,
     "start_time": "2021-10-22T00:27:27.566158",
     "status": "completed"
    },
    "tags": []
   },
   "source": [
    "# COVID-19 Case Race\n",
    "> A race chart to see rising cases around the world\n",
    "\n",
    "- author: Hargun Oberoi\n",
    "- image: images/covid-overview.png\n",
    "- hide: false\n",
    "- badges: false"
   ]
  },
  {
   "cell_type": "code",
   "execution_count": 1,
   "id": "proof-material",
   "metadata": {
    "execution": {
     "iopub.execute_input": "2021-10-22T00:27:27.688403Z",
     "iopub.status.busy": "2021-10-22T00:27:27.687474Z",
     "iopub.status.idle": "2021-10-22T00:27:28.070515Z",
     "shell.execute_reply": "2021-10-22T00:27:28.069834Z"
    },
    "papermill": {
     "duration": 0.431424,
     "end_time": "2021-10-22T00:27:28.070691",
     "exception": false,
     "start_time": "2021-10-22T00:27:27.639267",
     "status": "completed"
    },
    "tags": []
   },
   "outputs": [],
   "source": [
    "#hide\n",
    "import numpy as np\n",
    "import pandas as pd\n",
    "from jinja2 import Template\n",
    "from IPython.display import HTML"
   ]
  },
  {
   "cell_type": "code",
   "execution_count": 2,
   "id": "developed-terminology",
   "metadata": {
    "execution": {
     "iopub.execute_input": "2021-10-22T00:27:28.150654Z",
     "iopub.status.busy": "2021-10-22T00:27:28.149959Z",
     "iopub.status.idle": "2021-10-22T00:27:28.152714Z",
     "shell.execute_reply": "2021-10-22T00:27:28.152223Z"
    },
    "papermill": {
     "duration": 0.043089,
     "end_time": "2021-10-22T00:27:28.152841",
     "exception": false,
     "start_time": "2021-10-22T00:27:28.109752",
     "status": "completed"
    },
    "tags": []
   },
   "outputs": [],
   "source": [
    "#hide\n",
    "\n",
    "# FETCH\n",
    "base_url = 'https://raw.githubusercontent.com/pratapvardhan/notebooks/master/covid19/'\n",
    "paths = {\n",
    "    'mapping': base_url + 'mapping_countries.csv',\n",
    "    'overview': base_url + 'overview.tpl'\n",
    "}"
   ]
  },
  {
   "cell_type": "code",
   "execution_count": 3,
   "id": "dynamic-saver",
   "metadata": {
    "execution": {
     "iopub.execute_input": "2021-10-22T00:27:28.235789Z",
     "iopub.status.busy": "2021-10-22T00:27:28.235126Z",
     "iopub.status.idle": "2021-10-22T00:27:28.238761Z",
     "shell.execute_reply": "2021-10-22T00:27:28.237940Z"
    },
    "papermill": {
     "duration": 0.050021,
     "end_time": "2021-10-22T00:27:28.238886",
     "exception": false,
     "start_time": "2021-10-22T00:27:28.188865",
     "status": "completed"
    },
    "tags": []
   },
   "outputs": [
    {
     "data": {
      "text/plain": [
       "'https://raw.githubusercontent.com/pratapvardhan/notebooks/master/covid19/mapping_countries.csv'"
      ]
     },
     "execution_count": 3,
     "metadata": {},
     "output_type": "execute_result"
    }
   ],
   "source": [
    "#hide\n",
    "paths['mapping']"
   ]
  },
  {
   "cell_type": "code",
   "execution_count": 4,
   "id": "urban-software",
   "metadata": {
    "execution": {
     "iopub.execute_input": "2021-10-22T00:27:28.316987Z",
     "iopub.status.busy": "2021-10-22T00:27:28.316372Z",
     "iopub.status.idle": "2021-10-22T00:27:28.319067Z",
     "shell.execute_reply": "2021-10-22T00:27:28.318053Z"
    },
    "papermill": {
     "duration": 0.04487,
     "end_time": "2021-10-22T00:27:28.319236",
     "exception": false,
     "start_time": "2021-10-22T00:27:28.274366",
     "status": "completed"
    },
    "tags": []
   },
   "outputs": [],
   "source": [
    "#hide\n",
    "def get_mappings(url):\n",
    "    df = pd.read_csv(url)\n",
    "    return {\n",
    "        'df': df,\n",
    "        'replace.country': dict(df.dropna(subset=['Name']).set_index('Country')['Name']),\n",
    "        'map.continent': dict(df.set_index('Name')['Continent'])\n",
    "    }"
   ]
  },
  {
   "cell_type": "code",
   "execution_count": 5,
   "id": "intimate-machinery",
   "metadata": {
    "execution": {
     "iopub.execute_input": "2021-10-22T00:27:28.395624Z",
     "iopub.status.busy": "2021-10-22T00:27:28.395023Z",
     "iopub.status.idle": "2021-10-22T00:27:28.450894Z",
     "shell.execute_reply": "2021-10-22T00:27:28.451361Z"
    },
    "papermill": {
     "duration": 0.097619,
     "end_time": "2021-10-22T00:27:28.451518",
     "exception": false,
     "start_time": "2021-10-22T00:27:28.353899",
     "status": "completed"
    },
    "tags": []
   },
   "outputs": [],
   "source": [
    "#hide\n",
    "mapping = get_mappings(paths['mapping'])"
   ]
  },
  {
   "cell_type": "code",
   "execution_count": 6,
   "id": "certified-tactics",
   "metadata": {
    "execution": {
     "iopub.execute_input": "2021-10-22T00:27:28.531484Z",
     "iopub.status.busy": "2021-10-22T00:27:28.530681Z",
     "iopub.status.idle": "2021-10-22T00:27:28.532904Z",
     "shell.execute_reply": "2021-10-22T00:27:28.533575Z"
    },
    "papermill": {
     "duration": 0.045159,
     "end_time": "2021-10-22T00:27:28.533708",
     "exception": false,
     "start_time": "2021-10-22T00:27:28.488549",
     "status": "completed"
    },
    "tags": []
   },
   "outputs": [],
   "source": [
    "#hide\n",
    "def get_template(path):\n",
    "    from urllib.parse import urlparse\n",
    "    if bool(urlparse(path).netloc):\n",
    "        from urllib.request import urlopen\n",
    "        return urlopen(path).read().decode('utf8')\n",
    "    return open(path).read()"
   ]
  },
  {
   "cell_type": "code",
   "execution_count": 7,
   "id": "realistic-blast",
   "metadata": {
    "execution": {
     "iopub.execute_input": "2021-10-22T00:27:28.616258Z",
     "iopub.status.busy": "2021-10-22T00:27:28.615632Z",
     "iopub.status.idle": "2021-10-22T00:27:28.617811Z",
     "shell.execute_reply": "2021-10-22T00:27:28.618347Z"
    },
    "papermill": {
     "duration": 0.046961,
     "end_time": "2021-10-22T00:27:28.618475",
     "exception": false,
     "start_time": "2021-10-22T00:27:28.571514",
     "status": "completed"
    },
    "tags": []
   },
   "outputs": [],
   "source": [
    "#hide\n",
    "def get_frame(name):\n",
    "    url = (\n",
    "        'https://raw.githubusercontent.com/CSSEGISandData/COVID-19/master/csse_covid_19_data/'\n",
    "        f'csse_covid_19_time_series/time_series_covid19_{name}_global.csv')\n",
    "    df = pd.read_csv(url)\n",
    "    # rename countries\n",
    "    df['Country/Region'] = df['Country/Region'].replace(mapping['replace.country'])\n",
    "    return df"
   ]
  },
  {
   "cell_type": "code",
   "execution_count": 8,
   "id": "affiliated-characterization",
   "metadata": {
    "execution": {
     "iopub.execute_input": "2021-10-22T00:27:28.702944Z",
     "iopub.status.busy": "2021-10-22T00:27:28.702192Z",
     "iopub.status.idle": "2021-10-22T00:27:28.705484Z",
     "shell.execute_reply": "2021-10-22T00:27:28.704958Z"
    },
    "papermill": {
     "duration": 0.04685,
     "end_time": "2021-10-22T00:27:28.705599",
     "exception": false,
     "start_time": "2021-10-22T00:27:28.658749",
     "status": "completed"
    },
    "tags": []
   },
   "outputs": [],
   "source": [
    "#hide\n",
    "def get_dates(df):\n",
    "    dt_cols = df.columns[~df.columns.isin(['Province/State', 'Country/Region', 'Lat', 'Long'])]\n",
    "    LAST_DATE_I = -1\n",
    "    # sometimes last column may be empty, then go backwards\n",
    "    for i in range(-1, -len(dt_cols), -1):\n",
    "        if not df[dt_cols[i]].fillna(0).eq(0).all():\n",
    "            LAST_DATE_I = i\n",
    "            break\n",
    "    return LAST_DATE_I, dt_cols"
   ]
  },
  {
   "cell_type": "code",
   "execution_count": 9,
   "id": "recent-optimization",
   "metadata": {
    "execution": {
     "iopub.execute_input": "2021-10-22T00:27:28.782441Z",
     "iopub.status.busy": "2021-10-22T00:27:28.781612Z",
     "iopub.status.idle": "2021-10-22T00:27:29.202310Z",
     "shell.execute_reply": "2021-10-22T00:27:29.202833Z"
    },
    "papermill": {
     "duration": 0.462812,
     "end_time": "2021-10-22T00:27:29.203048",
     "exception": false,
     "start_time": "2021-10-22T00:27:28.740236",
     "status": "completed"
    },
    "tags": []
   },
   "outputs": [],
   "source": [
    "#hide\n",
    "COL_REGION = 'Country/Region'\n",
    "# Confirmed, Recovered, Deaths\n",
    "df = get_frame('confirmed')\n",
    "# dft_: timeseries, dfc_: today country agg\n",
    "dft_cases = df\n",
    "dft_deaths = get_frame('deaths')\n",
    "dft_recovered = get_frame('recovered')\n",
    "LAST_DATE_I, dt_cols = get_dates(df)"
   ]
  },
  {
   "cell_type": "code",
   "execution_count": 10,
   "id": "absolute-copper",
   "metadata": {
    "execution": {
     "iopub.execute_input": "2021-10-22T00:27:29.283188Z",
     "iopub.status.busy": "2021-10-22T00:27:29.282607Z",
     "iopub.status.idle": "2021-10-22T00:27:29.285327Z",
     "shell.execute_reply": "2021-10-22T00:27:29.284809Z"
    },
    "papermill": {
     "duration": 0.04541,
     "end_time": "2021-10-22T00:27:29.285471",
     "exception": false,
     "start_time": "2021-10-22T00:27:29.240061",
     "status": "completed"
    },
    "tags": []
   },
   "outputs": [],
   "source": [
    "#hide\n",
    "LAST_DATE_I, dt_cols = get_dates(df)\n",
    "dt_today =dt_cols[LAST_DATE_I]\n",
    "# dt_5day = dt_cols[LAST_DATE_I - 5]\n",
    "dt_yday = dt_cols[LAST_DATE_I - 1]"
   ]
  },
  {
   "cell_type": "code",
   "execution_count": 11,
   "id": "restricted-sheriff",
   "metadata": {
    "execution": {
     "iopub.execute_input": "2021-10-22T00:27:29.368888Z",
     "iopub.status.busy": "2021-10-22T00:27:29.368238Z",
     "iopub.status.idle": "2021-10-22T00:27:29.377051Z",
     "shell.execute_reply": "2021-10-22T00:27:29.377537Z"
    },
    "papermill": {
     "duration": 0.056903,
     "end_time": "2021-10-22T00:27:29.377667",
     "exception": false,
     "start_time": "2021-10-22T00:27:29.320764",
     "status": "completed"
    },
    "tags": []
   },
   "outputs": [],
   "source": [
    "#hide\n",
    "dfc_cases = dft_cases.groupby(COL_REGION)[dt_today].sum()\n",
    "dfc_deaths = dft_deaths.groupby(COL_REGION)[dt_today].sum()\n",
    "# dfp_cases = dft_cases.groupby(COL_REGION)[dt_5day].sum()\n",
    "# dfp_deaths = dft_deaths.groupby(COL_REGION)[dt_5day].sum()\n",
    "dfp_cases = dft_cases.groupby(COL_REGION)[dt_yday].sum()\n",
    "dfp_deaths = dft_deaths.groupby(COL_REGION)[dt_yday].sum()"
   ]
  },
  {
   "cell_type": "code",
   "execution_count": 12,
   "id": "deluxe-hepatitis",
   "metadata": {
    "execution": {
     "iopub.execute_input": "2021-10-22T00:27:29.455525Z",
     "iopub.status.busy": "2021-10-22T00:27:29.454912Z",
     "iopub.status.idle": "2021-10-22T00:27:29.459945Z",
     "shell.execute_reply": "2021-10-22T00:27:29.459366Z"
    },
    "papermill": {
     "duration": 0.047624,
     "end_time": "2021-10-22T00:27:29.460061",
     "exception": false,
     "start_time": "2021-10-22T00:27:29.412437",
     "status": "completed"
    },
    "tags": []
   },
   "outputs": [],
   "source": [
    "#hide\n",
    "df_table = (pd.DataFrame(dict(Cases = dfc_cases, Deaths = dfc_deaths, PCases = dfp_cases, PDeaths = dfp_deaths))\n",
    "            .sort_values(by = ['Cases','Deaths'], ascending = [False, False])\n",
    "            .reset_index())"
   ]
  },
  {
   "cell_type": "code",
   "execution_count": 13,
   "id": "educational-chancellor",
   "metadata": {
    "execution": {
     "iopub.execute_input": "2021-10-22T00:27:29.543306Z",
     "iopub.status.busy": "2021-10-22T00:27:29.542619Z",
     "iopub.status.idle": "2021-10-22T00:27:29.562003Z",
     "shell.execute_reply": "2021-10-22T00:27:29.562525Z"
    },
    "papermill": {
     "duration": 0.06555,
     "end_time": "2021-10-22T00:27:29.562668",
     "exception": false,
     "start_time": "2021-10-22T00:27:29.497118",
     "status": "completed"
    },
    "tags": []
   },
   "outputs": [
    {
     "data": {
      "text/html": [
       "<div>\n",
       "<style scoped>\n",
       "    .dataframe tbody tr th:only-of-type {\n",
       "        vertical-align: middle;\n",
       "    }\n",
       "\n",
       "    .dataframe tbody tr th {\n",
       "        vertical-align: top;\n",
       "    }\n",
       "\n",
       "    .dataframe thead th {\n",
       "        text-align: right;\n",
       "    }\n",
       "</style>\n",
       "<table border=\"1\" class=\"dataframe\">\n",
       "  <thead>\n",
       "    <tr style=\"text-align: right;\">\n",
       "      <th></th>\n",
       "      <th>Country/Region</th>\n",
       "      <th>Cases</th>\n",
       "      <th>Deaths</th>\n",
       "      <th>PCases</th>\n",
       "      <th>PDeaths</th>\n",
       "      <th>Cases (+)</th>\n",
       "      <th>Deaths (+)</th>\n",
       "      <th>Fatality Rate</th>\n",
       "      <th>Continent</th>\n",
       "    </tr>\n",
       "  </thead>\n",
       "  <tbody>\n",
       "    <tr>\n",
       "      <th>0</th>\n",
       "      <td>US</td>\n",
       "      <td>45218907</td>\n",
       "      <td>731263</td>\n",
       "      <td>45132148</td>\n",
       "      <td>728192</td>\n",
       "      <td>86759</td>\n",
       "      <td>3071</td>\n",
       "      <td>1.62</td>\n",
       "      <td>North America</td>\n",
       "    </tr>\n",
       "    <tr>\n",
       "      <th>1</th>\n",
       "      <td>India</td>\n",
       "      <td>34127450</td>\n",
       "      <td>452811</td>\n",
       "      <td>34108996</td>\n",
       "      <td>452651</td>\n",
       "      <td>18454</td>\n",
       "      <td>160</td>\n",
       "      <td>1.33</td>\n",
       "      <td>Asia</td>\n",
       "    </tr>\n",
       "    <tr>\n",
       "      <th>2</th>\n",
       "      <td>Brazil</td>\n",
       "      <td>21680488</td>\n",
       "      <td>604228</td>\n",
       "      <td>21664879</td>\n",
       "      <td>603855</td>\n",
       "      <td>15609</td>\n",
       "      <td>373</td>\n",
       "      <td>2.79</td>\n",
       "      <td>South America</td>\n",
       "    </tr>\n",
       "    <tr>\n",
       "      <th>3</th>\n",
       "      <td>United Kingdom</td>\n",
       "      <td>8630076</td>\n",
       "      <td>139444</td>\n",
       "      <td>8581278</td>\n",
       "      <td>139265</td>\n",
       "      <td>48798</td>\n",
       "      <td>179</td>\n",
       "      <td>1.62</td>\n",
       "      <td>Europe</td>\n",
       "    </tr>\n",
       "    <tr>\n",
       "      <th>4</th>\n",
       "      <td>Russia</td>\n",
       "      <td>7969960</td>\n",
       "      <td>222320</td>\n",
       "      <td>7936798</td>\n",
       "      <td>221314</td>\n",
       "      <td>33162</td>\n",
       "      <td>1006</td>\n",
       "      <td>2.79</td>\n",
       "      <td>Europe</td>\n",
       "    </tr>\n",
       "  </tbody>\n",
       "</table>\n",
       "</div>"
      ],
      "text/plain": [
       "   Country/Region     Cases  Deaths    PCases  PDeaths  Cases (+)  Deaths (+)  \\\n",
       "0              US  45218907  731263  45132148   728192      86759        3071   \n",
       "1           India  34127450  452811  34108996   452651      18454         160   \n",
       "2          Brazil  21680488  604228  21664879   603855      15609         373   \n",
       "3  United Kingdom   8630076  139444   8581278   139265      48798         179   \n",
       "4          Russia   7969960  222320   7936798   221314      33162        1006   \n",
       "\n",
       "   Fatality Rate      Continent  \n",
       "0           1.62  North America  \n",
       "1           1.33           Asia  \n",
       "2           2.79  South America  \n",
       "3           1.62         Europe  \n",
       "4           2.79         Europe  "
      ]
     },
     "execution_count": 13,
     "metadata": {},
     "output_type": "execute_result"
    }
   ],
   "source": [
    "#hide\n",
    "for c in 'Cases, Deaths'.split(', '):\n",
    "    df_table[f'{c} (+)'] = (df_table[c] - df_table[f'P{c}']).clip(0)\n",
    "    #Clip ça veut dire, les chiffres negatif sont interdit\n",
    "df_table['Fatality Rate'] = (100* df_table['Deaths']/ df_table['Cases']).round(2)\n",
    "df_table['Continent'] = df_table['Country/Region'].map(mapping['map.continent'])\n",
    "df_table.head(5)"
   ]
  },
  {
   "cell_type": "code",
   "execution_count": 14,
   "id": "aboriginal-bulgaria",
   "metadata": {
    "execution": {
     "iopub.execute_input": "2021-10-22T00:27:29.644759Z",
     "iopub.status.busy": "2021-10-22T00:27:29.644064Z",
     "iopub.status.idle": "2021-10-22T00:27:29.647347Z",
     "shell.execute_reply": "2021-10-22T00:27:29.646687Z"
    },
    "papermill": {
     "duration": 0.047052,
     "end_time": "2021-10-22T00:27:29.647463",
     "exception": false,
     "start_time": "2021-10-22T00:27:29.600411",
     "status": "completed"
    },
    "tags": []
   },
   "outputs": [],
   "source": [
    "#hide\n",
    "#delete problematic countries from table\n",
    "df_table = df_table[~df_table['Country/Region'].isin(['Cape Verde', 'Cruise Ship', 'Kosovo'])]"
   ]
  },
  {
   "cell_type": "code",
   "execution_count": 15,
   "id": "fantastic-effect",
   "metadata": {
    "execution": {
     "iopub.execute_input": "2021-10-22T00:27:29.728954Z",
     "iopub.status.busy": "2021-10-22T00:27:29.728317Z",
     "iopub.status.idle": "2021-10-22T00:27:29.749416Z",
     "shell.execute_reply": "2021-10-22T00:27:29.750011Z"
    },
    "papermill": {
     "duration": 0.066653,
     "end_time": "2021-10-22T00:27:29.750173",
     "exception": false,
     "start_time": "2021-10-22T00:27:29.683520",
     "status": "completed"
    },
    "tags": []
   },
   "outputs": [
    {
     "data": {
      "text/html": [
       "<div>\n",
       "<style scoped>\n",
       "    .dataframe tbody tr th:only-of-type {\n",
       "        vertical-align: middle;\n",
       "    }\n",
       "\n",
       "    .dataframe tbody tr th {\n",
       "        vertical-align: top;\n",
       "    }\n",
       "\n",
       "    .dataframe thead th {\n",
       "        text-align: right;\n",
       "    }\n",
       "</style>\n",
       "<table border=\"1\" class=\"dataframe\">\n",
       "  <thead>\n",
       "    <tr style=\"text-align: right;\">\n",
       "      <th></th>\n",
       "      <th>Country/Region</th>\n",
       "      <th>Cases</th>\n",
       "      <th>Deaths</th>\n",
       "      <th>PCases</th>\n",
       "      <th>PDeaths</th>\n",
       "      <th>Cases (+)</th>\n",
       "      <th>Deaths (+)</th>\n",
       "      <th>Fatality Rate</th>\n",
       "      <th>Continent</th>\n",
       "    </tr>\n",
       "  </thead>\n",
       "  <tbody>\n",
       "    <tr>\n",
       "      <th>0</th>\n",
       "      <td>US</td>\n",
       "      <td>45218907</td>\n",
       "      <td>731263</td>\n",
       "      <td>45132148</td>\n",
       "      <td>728192</td>\n",
       "      <td>86759</td>\n",
       "      <td>3071</td>\n",
       "      <td>1.6</td>\n",
       "      <td>North America</td>\n",
       "    </tr>\n",
       "    <tr>\n",
       "      <th>1</th>\n",
       "      <td>India</td>\n",
       "      <td>34127450</td>\n",
       "      <td>452811</td>\n",
       "      <td>34108996</td>\n",
       "      <td>452651</td>\n",
       "      <td>18454</td>\n",
       "      <td>160</td>\n",
       "      <td>1.3</td>\n",
       "      <td>Asia</td>\n",
       "    </tr>\n",
       "    <tr>\n",
       "      <th>2</th>\n",
       "      <td>Brazil</td>\n",
       "      <td>21680488</td>\n",
       "      <td>604228</td>\n",
       "      <td>21664879</td>\n",
       "      <td>603855</td>\n",
       "      <td>15609</td>\n",
       "      <td>373</td>\n",
       "      <td>2.8</td>\n",
       "      <td>South America</td>\n",
       "    </tr>\n",
       "    <tr>\n",
       "      <th>3</th>\n",
       "      <td>United Kingdom</td>\n",
       "      <td>8630076</td>\n",
       "      <td>139444</td>\n",
       "      <td>8581278</td>\n",
       "      <td>139265</td>\n",
       "      <td>48798</td>\n",
       "      <td>179</td>\n",
       "      <td>1.6</td>\n",
       "      <td>Europe</td>\n",
       "    </tr>\n",
       "    <tr>\n",
       "      <th>4</th>\n",
       "      <td>Russia</td>\n",
       "      <td>7969960</td>\n",
       "      <td>222320</td>\n",
       "      <td>7936798</td>\n",
       "      <td>221314</td>\n",
       "      <td>33162</td>\n",
       "      <td>1006</td>\n",
       "      <td>2.8</td>\n",
       "      <td>Europe</td>\n",
       "    </tr>\n",
       "  </tbody>\n",
       "</table>\n",
       "</div>"
      ],
      "text/plain": [
       "   Country/Region     Cases  Deaths    PCases  PDeaths  Cases (+)  Deaths (+)  \\\n",
       "0              US  45218907  731263  45132148   728192      86759        3071   \n",
       "1           India  34127450  452811  34108996   452651      18454         160   \n",
       "2          Brazil  21680488  604228  21664879   603855      15609         373   \n",
       "3  United Kingdom   8630076  139444   8581278   139265      48798         179   \n",
       "4          Russia   7969960  222320   7936798   221314      33162        1006   \n",
       "\n",
       "   Fatality Rate      Continent  \n",
       "0            1.6  North America  \n",
       "1            1.3           Asia  \n",
       "2            2.8  South America  \n",
       "3            1.6         Europe  \n",
       "4            2.8         Europe  "
      ]
     },
     "execution_count": 15,
     "metadata": {},
     "output_type": "execute_result"
    }
   ],
   "source": [
    "#hide\n",
    "df_table = (pd.DataFrame(dict(Cases=dfc_cases, Deaths=dfc_deaths, PCases=dfp_cases, PDeaths=dfp_deaths))\n",
    "             .sort_values(by=['Cases', 'Deaths'], ascending=[False, False])\n",
    "             .reset_index())\n",
    "df_table.rename(columns={'index': 'Country/Region'}, inplace=True)\n",
    "for c in 'Cases, Deaths'.split(', '):\n",
    "    df_table[f'{c} (+)'] = (df_table[c] - df_table[f'P{c}']).clip(0)  # DATA BUG\n",
    "df_table['Fatality Rate'] = (100 * df_table['Deaths'] / df_table['Cases']).round(1)\n",
    "df_table['Continent'] = df_table['Country/Region'].map(mapping['map.continent'])\n",
    "df_table.head(5)"
   ]
  },
  {
   "cell_type": "code",
   "execution_count": 16,
   "id": "fewer-occasion",
   "metadata": {
    "execution": {
     "iopub.execute_input": "2021-10-22T00:27:29.831819Z",
     "iopub.status.busy": "2021-10-22T00:27:29.831153Z",
     "iopub.status.idle": "2021-10-22T00:27:29.834074Z",
     "shell.execute_reply": "2021-10-22T00:27:29.834796Z"
    },
    "papermill": {
     "duration": 0.046848,
     "end_time": "2021-10-22T00:27:29.834956",
     "exception": false,
     "start_time": "2021-10-22T00:27:29.788108",
     "status": "completed"
    },
    "tags": []
   },
   "outputs": [],
   "source": [
    "#hide\n",
    "#delete problematic countries from table\n",
    "df_table = df_table[~df_table['Country/Region'].isin(['Cape Verde', 'Cruise Ship', 'Kosovo'])]"
   ]
  },
  {
   "cell_type": "code",
   "execution_count": 17,
   "id": "related-center",
   "metadata": {
    "execution": {
     "iopub.execute_input": "2021-10-22T00:27:29.936482Z",
     "iopub.status.busy": "2021-10-22T00:27:29.935585Z",
     "iopub.status.idle": "2021-10-22T00:27:29.937870Z",
     "shell.execute_reply": "2021-10-22T00:27:29.938485Z"
    },
    "papermill": {
     "duration": 0.066042,
     "end_time": "2021-10-22T00:27:29.938631",
     "exception": false,
     "start_time": "2021-10-22T00:27:29.872589",
     "status": "completed"
    },
    "tags": []
   },
   "outputs": [],
   "source": [
    "#hide\n",
    "metrics = [df_table.columns[index] for index in [1,2,5,6]]\n",
    "# s_china = df_table[df_table['Country/Region'].eq('China')][metrics].sum().add_prefix('China ')\n",
    "s_us = df_table[df_table['Country/Region'].eq('US')][metrics].sum().add_prefix('US ')\n",
    "s_eu = df_table[df_table['Continent'].eq('Europe')][metrics].sum().add_prefix('EU ')\n",
    "s_ind = df_table[df_table['Country/Region'].eq('India')][metrics].sum().add_prefix('India ')\n",
    "summary = {'updated': pd.to_datetime(dt_today), 'since': pd.to_datetime(dt_yday)}\n",
    "summary = {'updated': pd.to_datetime(dt_today), 'since': pd.to_datetime(dt_yday)}\n",
    "summary = {**summary, **df_table[metrics].sum(), **s_ind, **s_us, **s_eu}"
   ]
  },
  {
   "cell_type": "code",
   "execution_count": 18,
   "id": "engaging-syndrome",
   "metadata": {
    "execution": {
     "iopub.execute_input": "2021-10-22T00:27:30.017621Z",
     "iopub.status.busy": "2021-10-22T00:27:30.016763Z",
     "iopub.status.idle": "2021-10-22T00:27:30.032140Z",
     "shell.execute_reply": "2021-10-22T00:27:30.031550Z"
    },
    "papermill": {
     "duration": 0.056634,
     "end_time": "2021-10-22T00:27:30.032314",
     "exception": false,
     "start_time": "2021-10-22T00:27:29.975680",
     "status": "completed"
    },
    "tags": []
   },
   "outputs": [],
   "source": [
    "#hide\n",
    "dft_ct_new_cases = dft_cases.groupby(COL_REGION)[dt_cols].sum().diff(axis=1).fillna(0).astype(int)"
   ]
  },
  {
   "cell_type": "code",
   "execution_count": 19,
   "id": "neutral-assignment",
   "metadata": {
    "execution": {
     "iopub.execute_input": "2021-10-22T00:27:30.113486Z",
     "iopub.status.busy": "2021-10-22T00:27:30.112804Z",
     "iopub.status.idle": "2021-10-22T00:27:30.114660Z",
     "shell.execute_reply": "2021-10-22T00:27:30.115168Z"
    },
    "papermill": {
     "duration": 0.046425,
     "end_time": "2021-10-22T00:27:30.115306",
     "exception": false,
     "start_time": "2021-10-22T00:27:30.068881",
     "status": "completed"
    },
    "tags": []
   },
   "outputs": [],
   "source": [
    "#hide\n",
    "everydaycases = dft_ct_new_cases.cumsum(axis=1)"
   ]
  },
  {
   "cell_type": "code",
   "execution_count": 20,
   "id": "parliamentary-calgary",
   "metadata": {
    "execution": {
     "iopub.execute_input": "2021-10-22T00:27:30.193513Z",
     "iopub.status.busy": "2021-10-22T00:27:30.192892Z",
     "iopub.status.idle": "2021-10-22T00:27:30.863721Z",
     "shell.execute_reply": "2021-10-22T00:27:30.862684Z"
    },
    "papermill": {
     "duration": 0.711057,
     "end_time": "2021-10-22T00:27:30.863880",
     "exception": false,
     "start_time": "2021-10-22T00:27:30.152823",
     "status": "completed"
    },
    "tags": []
   },
   "outputs": [],
   "source": [
    "#hide\n",
    "import pandas as pd\n",
    "import matplotlib.pyplot as plt\n",
    "import matplotlib.ticker as ticker\n",
    "import matplotlib.animation as animation\n",
    "from IPython.display import HTML"
   ]
  },
  {
   "cell_type": "code",
   "execution_count": 21,
   "id": "lasting-extraction",
   "metadata": {
    "execution": {
     "iopub.execute_input": "2021-10-22T00:27:30.949672Z",
     "iopub.status.busy": "2021-10-22T00:27:30.948973Z",
     "iopub.status.idle": "2021-10-22T00:27:30.955204Z",
     "shell.execute_reply": "2021-10-22T00:27:30.954647Z"
    },
    "papermill": {
     "duration": 0.051443,
     "end_time": "2021-10-22T00:27:30.955317",
     "exception": false,
     "start_time": "2021-10-22T00:27:30.903874",
     "status": "completed"
    },
    "tags": []
   },
   "outputs": [],
   "source": [
    "#hide\n",
    "t = everydaycases.stack()"
   ]
  },
  {
   "cell_type": "code",
   "execution_count": 22,
   "id": "premier-sleeve",
   "metadata": {
    "execution": {
     "iopub.execute_input": "2021-10-22T00:27:31.034807Z",
     "iopub.status.busy": "2021-10-22T00:27:31.034097Z",
     "iopub.status.idle": "2021-10-22T00:27:31.043857Z",
     "shell.execute_reply": "2021-10-22T00:27:31.044537Z"
    },
    "papermill": {
     "duration": 0.05237,
     "end_time": "2021-10-22T00:27:31.044674",
     "exception": false,
     "start_time": "2021-10-22T00:27:30.992304",
     "status": "completed"
    },
    "tags": []
   },
   "outputs": [],
   "source": [
    "#hide\n",
    "g = t.reset_index(['Country/Region'])"
   ]
  },
  {
   "cell_type": "code",
   "execution_count": 23,
   "id": "distributed-pittsburgh",
   "metadata": {
    "execution": {
     "iopub.execute_input": "2021-10-22T00:27:31.126642Z",
     "iopub.status.busy": "2021-10-22T00:27:31.125923Z",
     "iopub.status.idle": "2021-10-22T00:27:31.128386Z",
     "shell.execute_reply": "2021-10-22T00:27:31.127713Z"
    },
    "papermill": {
     "duration": 0.04401,
     "end_time": "2021-10-22T00:27:31.128503",
     "exception": false,
     "start_time": "2021-10-22T00:27:31.084493",
     "status": "completed"
    },
    "tags": []
   },
   "outputs": [],
   "source": [
    "#hide\n",
    "g.index.name = 'date'"
   ]
  },
  {
   "cell_type": "code",
   "execution_count": 24,
   "id": "naked-donor",
   "metadata": {
    "execution": {
     "iopub.execute_input": "2021-10-22T00:27:31.211378Z",
     "iopub.status.busy": "2021-10-22T00:27:31.210670Z",
     "iopub.status.idle": "2021-10-22T00:27:31.212236Z",
     "shell.execute_reply": "2021-10-22T00:27:31.212821Z"
    },
    "papermill": {
     "duration": 0.045261,
     "end_time": "2021-10-22T00:27:31.212955",
     "exception": false,
     "start_time": "2021-10-22T00:27:31.167694",
     "status": "completed"
    },
    "tags": []
   },
   "outputs": [],
   "source": [
    "# #hide\n",
    "# g = g.reset_index(['date'])"
   ]
  },
  {
   "cell_type": "code",
   "execution_count": 25,
   "id": "incomplete-mustang",
   "metadata": {
    "execution": {
     "iopub.execute_input": "2021-10-22T00:27:31.292021Z",
     "iopub.status.busy": "2021-10-22T00:27:31.291152Z",
     "iopub.status.idle": "2021-10-22T00:27:31.293329Z",
     "shell.execute_reply": "2021-10-22T00:27:31.293980Z"
    },
    "papermill": {
     "duration": 0.04465,
     "end_time": "2021-10-22T00:27:31.294112",
     "exception": false,
     "start_time": "2021-10-22T00:27:31.249462",
     "status": "completed"
    },
    "tags": []
   },
   "outputs": [],
   "source": [
    "#hide\n",
    "# g.head()"
   ]
  },
  {
   "cell_type": "code",
   "execution_count": 26,
   "id": "specific-kruger",
   "metadata": {
    "execution": {
     "iopub.execute_input": "2021-10-22T00:27:31.372820Z",
     "iopub.status.busy": "2021-10-22T00:27:31.371949Z",
     "iopub.status.idle": "2021-10-22T00:27:31.374199Z",
     "shell.execute_reply": "2021-10-22T00:27:31.374828Z"
    },
    "papermill": {
     "duration": 0.044554,
     "end_time": "2021-10-22T00:27:31.374970",
     "exception": false,
     "start_time": "2021-10-22T00:27:31.330416",
     "status": "completed"
    },
    "tags": []
   },
   "outputs": [],
   "source": [
    "#hide\n",
    "# g.columns = ['date','country','cases']"
   ]
  },
  {
   "cell_type": "code",
   "execution_count": 27,
   "id": "tender-conversion",
   "metadata": {
    "execution": {
     "iopub.execute_input": "2021-10-22T00:27:31.450968Z",
     "iopub.status.busy": "2021-10-22T00:27:31.450269Z",
     "iopub.status.idle": "2021-10-22T00:27:31.452329Z",
     "shell.execute_reply": "2021-10-22T00:27:31.452923Z"
    },
    "papermill": {
     "duration": 0.04412,
     "end_time": "2021-10-22T00:27:31.453050",
     "exception": false,
     "start_time": "2021-10-22T00:27:31.408930",
     "status": "completed"
    },
    "tags": []
   },
   "outputs": [],
   "source": [
    "#hide\n",
    "# g['continent'] = g.country"
   ]
  },
  {
   "cell_type": "code",
   "execution_count": 28,
   "id": "substantial-wilderness",
   "metadata": {
    "execution": {
     "iopub.execute_input": "2021-10-22T00:27:31.530122Z",
     "iopub.status.busy": "2021-10-22T00:27:31.529415Z",
     "iopub.status.idle": "2021-10-22T00:27:31.531766Z",
     "shell.execute_reply": "2021-10-22T00:27:31.531177Z"
    },
    "papermill": {
     "duration": 0.042805,
     "end_time": "2021-10-22T00:27:31.531877",
     "exception": false,
     "start_time": "2021-10-22T00:27:31.489072",
     "status": "completed"
    },
    "tags": []
   },
   "outputs": [],
   "source": [
    "#hide\n",
    "# cols = list(g.columns.values)"
   ]
  },
  {
   "cell_type": "code",
   "execution_count": 29,
   "id": "solved-farming",
   "metadata": {
    "execution": {
     "iopub.execute_input": "2021-10-22T00:27:31.611297Z",
     "iopub.status.busy": "2021-10-22T00:27:31.610644Z",
     "iopub.status.idle": "2021-10-22T00:27:31.613217Z",
     "shell.execute_reply": "2021-10-22T00:27:31.612691Z"
    },
    "papermill": {
     "duration": 0.043137,
     "end_time": "2021-10-22T00:27:31.613324",
     "exception": false,
     "start_time": "2021-10-22T00:27:31.570187",
     "status": "completed"
    },
    "tags": []
   },
   "outputs": [],
   "source": [
    "#hide\n",
    "# cols.insert(0, cols.pop())"
   ]
  },
  {
   "cell_type": "code",
   "execution_count": 30,
   "id": "executed-adoption",
   "metadata": {
    "execution": {
     "iopub.execute_input": "2021-10-22T00:27:31.694721Z",
     "iopub.status.busy": "2021-10-22T00:27:31.694061Z",
     "iopub.status.idle": "2021-10-22T00:27:31.696891Z",
     "shell.execute_reply": "2021-10-22T00:27:31.696334Z"
    },
    "papermill": {
     "duration": 0.048153,
     "end_time": "2021-10-22T00:27:31.697005",
     "exception": false,
     "start_time": "2021-10-22T00:27:31.648852",
     "status": "completed"
    },
    "tags": []
   },
   "outputs": [],
   "source": [
    "#hide\n",
    "# g = g[cols]"
   ]
  },
  {
   "cell_type": "code",
   "execution_count": 31,
   "id": "subject-dublin",
   "metadata": {
    "execution": {
     "iopub.execute_input": "2021-10-22T00:27:31.774290Z",
     "iopub.status.busy": "2021-10-22T00:27:31.773591Z",
     "iopub.status.idle": "2021-10-22T00:27:31.775774Z",
     "shell.execute_reply": "2021-10-22T00:27:31.776342Z"
    },
    "papermill": {
     "duration": 0.042528,
     "end_time": "2021-10-22T00:27:31.776511",
     "exception": false,
     "start_time": "2021-10-22T00:27:31.733983",
     "status": "completed"
    },
    "tags": []
   },
   "outputs": [],
   "source": [
    "#hide\n",
    "# g['continent'] = g['continent'].map(mapping['map.continent'])"
   ]
  },
  {
   "cell_type": "code",
   "execution_count": 32,
   "id": "freelance-scout",
   "metadata": {
    "execution": {
     "iopub.execute_input": "2021-10-22T00:27:31.852992Z",
     "iopub.status.busy": "2021-10-22T00:27:31.852362Z",
     "iopub.status.idle": "2021-10-22T00:27:31.855164Z",
     "shell.execute_reply": "2021-10-22T00:27:31.854614Z"
    },
    "papermill": {
     "duration": 0.041948,
     "end_time": "2021-10-22T00:27:31.855276",
     "exception": false,
     "start_time": "2021-10-22T00:27:31.813328",
     "status": "completed"
    },
    "tags": []
   },
   "outputs": [],
   "source": [
    "#hide\n",
    "# g.head()"
   ]
  },
  {
   "cell_type": "code",
   "execution_count": 33,
   "id": "limited-engine",
   "metadata": {
    "execution": {
     "iopub.execute_input": "2021-10-22T00:27:31.933563Z",
     "iopub.status.busy": "2021-10-22T00:27:31.931855Z",
     "iopub.status.idle": "2021-10-22T00:27:31.934381Z",
     "shell.execute_reply": "2021-10-22T00:27:31.934883Z"
    },
    "papermill": {
     "duration": 0.043233,
     "end_time": "2021-10-22T00:27:31.935005",
     "exception": false,
     "start_time": "2021-10-22T00:27:31.891772",
     "status": "completed"
    },
    "tags": []
   },
   "outputs": [],
   "source": [
    "# hide\n",
    "# g['date'] = g['date'].astype('datetime64[ns]')"
   ]
  },
  {
   "cell_type": "code",
   "execution_count": 34,
   "id": "sophisticated-supervisor",
   "metadata": {
    "execution": {
     "iopub.execute_input": "2021-10-22T00:27:32.012239Z",
     "iopub.status.busy": "2021-10-22T00:27:32.010824Z",
     "iopub.status.idle": "2021-10-22T00:27:32.012951Z",
     "shell.execute_reply": "2021-10-22T00:27:32.013466Z"
    },
    "papermill": {
     "duration": 0.043359,
     "end_time": "2021-10-22T00:27:32.013593",
     "exception": false,
     "start_time": "2021-10-22T00:27:31.970234",
     "status": "completed"
    },
    "tags": []
   },
   "outputs": [],
   "source": [
    "#hide\n",
    "# g['date'] = g.date.dt.dayofyear"
   ]
  },
  {
   "cell_type": "code",
   "execution_count": 35,
   "id": "inside-dubai",
   "metadata": {
    "execution": {
     "iopub.execute_input": "2021-10-22T00:27:32.090641Z",
     "iopub.status.busy": "2021-10-22T00:27:32.089978Z",
     "iopub.status.idle": "2021-10-22T00:27:32.092742Z",
     "shell.execute_reply": "2021-10-22T00:27:32.092217Z"
    },
    "papermill": {
     "duration": 0.042794,
     "end_time": "2021-10-22T00:27:32.092858",
     "exception": false,
     "start_time": "2021-10-22T00:27:32.050064",
     "status": "completed"
    },
    "tags": []
   },
   "outputs": [],
   "source": [
    "#hide\n",
    "# g = g.rename(columns= {'continent':'group','country':'name','cases':'value'})"
   ]
  },
  {
   "cell_type": "code",
   "execution_count": 36,
   "id": "fleet-motorcycle",
   "metadata": {
    "execution": {
     "iopub.execute_input": "2021-10-22T00:27:32.172827Z",
     "iopub.status.busy": "2021-10-22T00:27:32.172069Z",
     "iopub.status.idle": "2021-10-22T00:27:32.173731Z",
     "shell.execute_reply": "2021-10-22T00:27:32.174375Z"
    },
    "papermill": {
     "duration": 0.044007,
     "end_time": "2021-10-22T00:27:32.174502",
     "exception": false,
     "start_time": "2021-10-22T00:27:32.130495",
     "status": "completed"
    },
    "tags": []
   },
   "outputs": [],
   "source": [
    "#hide\n",
    "# cols = ['name','group','day','value']"
   ]
  },
  {
   "cell_type": "code",
   "execution_count": 37,
   "id": "continued-sleeping",
   "metadata": {
    "execution": {
     "iopub.execute_input": "2021-10-22T00:27:32.251567Z",
     "iopub.status.busy": "2021-10-22T00:27:32.250900Z",
     "iopub.status.idle": "2021-10-22T00:27:32.253648Z",
     "shell.execute_reply": "2021-10-22T00:27:32.252883Z"
    },
    "papermill": {
     "duration": 0.043457,
     "end_time": "2021-10-22T00:27:32.253761",
     "exception": false,
     "start_time": "2021-10-22T00:27:32.210304",
     "status": "completed"
    },
    "tags": []
   },
   "outputs": [],
   "source": [
    "#hide\n",
    "# g.rename(columns= {'date':'day'},inplace = True)"
   ]
  },
  {
   "cell_type": "code",
   "execution_count": 38,
   "id": "major-fight",
   "metadata": {
    "execution": {
     "iopub.execute_input": "2021-10-22T00:27:32.332509Z",
     "iopub.status.busy": "2021-10-22T00:27:32.331755Z",
     "iopub.status.idle": "2021-10-22T00:27:32.334424Z",
     "shell.execute_reply": "2021-10-22T00:27:32.333691Z"
    },
    "papermill": {
     "duration": 0.043589,
     "end_time": "2021-10-22T00:27:32.334604",
     "exception": false,
     "start_time": "2021-10-22T00:27:32.291015",
     "status": "completed"
    },
    "tags": []
   },
   "outputs": [],
   "source": [
    "#hide\n",
    "# g = g[cols]"
   ]
  },
  {
   "cell_type": "code",
   "execution_count": 39,
   "id": "structured-mobile",
   "metadata": {
    "execution": {
     "iopub.execute_input": "2021-10-22T00:27:32.410549Z",
     "iopub.status.busy": "2021-10-22T00:27:32.409790Z",
     "iopub.status.idle": "2021-10-22T00:27:32.412426Z",
     "shell.execute_reply": "2021-10-22T00:27:32.411759Z"
    },
    "papermill": {
     "duration": 0.041967,
     "end_time": "2021-10-22T00:27:32.412555",
     "exception": false,
     "start_time": "2021-10-22T00:27:32.370588",
     "status": "completed"
    },
    "tags": []
   },
   "outputs": [],
   "source": [
    "# #hide\n",
    "# g = g[g.group.notna()]"
   ]
  },
  {
   "cell_type": "code",
   "execution_count": 40,
   "id": "determined-closing",
   "metadata": {
    "execution": {
     "iopub.execute_input": "2021-10-22T00:27:32.492155Z",
     "iopub.status.busy": "2021-10-22T00:27:32.491469Z",
     "iopub.status.idle": "2021-10-22T00:27:32.494479Z",
     "shell.execute_reply": "2021-10-22T00:27:32.494934Z"
    },
    "papermill": {
     "duration": 0.045085,
     "end_time": "2021-10-22T00:27:32.495067",
     "exception": false,
     "start_time": "2021-10-22T00:27:32.449982",
     "status": "completed"
    },
    "tags": []
   },
   "outputs": [],
   "source": [
    "# #hide\n",
    "# colors = dict(zip(\n",
    "#     [\"Oceania\", \"Europe\", \"Asia\", \"South America\", \"Middle East\", \"North America\", \"Africa\"],\n",
    "#     [\"#adb0ff\", \"#ffb3ff\", \"#90d595\", \"#e48381\", \"#aafbff\", \"#f7bb5f\", \"#eafb50\"]\n",
    "# ))\n",
    "# group_lk = g.set_index('name')['group'].to_dict()"
   ]
  },
  {
   "cell_type": "code",
   "execution_count": null,
   "id": "gross-drinking",
   "metadata": {
    "papermill": {
     "duration": 0.036733,
     "end_time": "2021-10-22T00:27:32.568818",
     "exception": false,
     "start_time": "2021-10-22T00:27:32.532085",
     "status": "completed"
    },
    "tags": []
   },
   "outputs": [],
   "source": []
  },
  {
   "cell_type": "code",
   "execution_count": 41,
   "id": "subject-macintosh",
   "metadata": {
    "execution": {
     "iopub.execute_input": "2021-10-22T00:27:32.641602Z",
     "iopub.status.busy": "2021-10-22T00:27:32.640790Z",
     "iopub.status.idle": "2021-10-22T00:27:32.643832Z",
     "shell.execute_reply": "2021-10-22T00:27:32.642927Z"
    },
    "papermill": {
     "duration": 0.04198,
     "end_time": "2021-10-22T00:27:32.643987",
     "exception": false,
     "start_time": "2021-10-22T00:27:32.602007",
     "status": "completed"
    },
    "tags": []
   },
   "outputs": [],
   "source": [
    "# #hide\n",
    "# fig, ax = plt.subplots(figsize=(15, 8))\n",
    "\n",
    "# def draw_barchart(current_day):\n",
    "#     dff = g[g['day'].eq(current_day)].sort_values(by='value', ascending=True).tail(10)\n",
    "#     ax.clear()\n",
    "#     ax.barh(dff['name'], dff['value'], color=[colors[group_lk[x]] for x in dff['name']])\n",
    "#     dx = dff['value'].max() / 200\n",
    "    \n",
    "#     for i, (value, name) in enumerate(zip(dff['value'], dff['name'])):\n",
    "#         ax.text(value-dx, i,     name,           size=14, weight=600, ha='right', va='bottom')\n",
    "#         ax.text(value-dx, i-.25, group_lk[name], size=10, color='#444444', ha='right', va='baseline')\n",
    "#         ax.text(value+dx, i,     f'{value:,.0f}',  size=14, ha='left',  va='center')\n",
    "#     ax.text(1, 0.4, current_day, transform=ax.transAxes, color='#777777', size=46, ha='right', weight=800)\n",
    "#     ax.text(0, 1.06, 'Population (thousands)', transform=ax.transAxes, size=12, color='#777777')\n",
    "#     ax.xaxis.set_major_formatter(ticker.StrMethodFormatter('{x:,.0f}'))\n",
    "#     ax.xaxis.set_ticks_position('top')\n",
    "#     ax.tick_params(axis='x', colors='#777777', labelsize=12)\n",
    "#     ax.set_yticks([])\n",
    "#     ax.margins(0, 0.01)\n",
    "#     ax.grid(which='major', axis='x', linestyle='-')\n",
    "#     ax.set_axisbelow(True)\n",
    "    \n",
    "#     ax.text(0, 1.15, 'Coronavirus',\n",
    "#             transform=ax.transAxes, size=24, weight=600, ha='left', va='top')\n",
    "# #     ax.text(1, 0, 'by @pratapvardhan; credit @jburnmurdoch', transform=ax.transAxes, color='#777777', ha='right',\n",
    "# #             bbox=dict(facecolor='white', alpha=0.8, edgecolor='white'))\n",
    "#     plt.box(False)"
   ]
  },
  {
   "cell_type": "code",
   "execution_count": 42,
   "id": "sexual-wages",
   "metadata": {
    "execution": {
     "iopub.execute_input": "2021-10-22T00:27:32.754230Z",
     "iopub.status.busy": "2021-10-22T00:27:32.753453Z",
     "iopub.status.idle": "2021-10-22T00:27:32.757622Z",
     "shell.execute_reply": "2021-10-22T00:27:32.758342Z"
    },
    "papermill": {
     "duration": 0.073787,
     "end_time": "2021-10-22T00:27:32.758613",
     "exception": false,
     "start_time": "2021-10-22T00:27:32.684826",
     "status": "completed"
    },
    "tags": []
   },
   "outputs": [],
   "source": [
    "# #hide_input\n",
    "# fig, ax = plt.subplots(figsize=(15, 8))\n",
    "# animator = animation.FuncAnimation(fig, draw_barchart, frames=range(g.day.values.min(), g.day.values.max()))\n",
    "# HTML(animator.to_jshtml())\n",
    "# # or use animator.to_html5_video() or animator.save() "
   ]
  },
  {
   "cell_type": "code",
   "execution_count": null,
   "id": "australian-container",
   "metadata": {
    "papermill": {
     "duration": 0.036234,
     "end_time": "2021-10-22T00:27:32.834337",
     "exception": false,
     "start_time": "2021-10-22T00:27:32.798103",
     "status": "completed"
    },
    "tags": []
   },
   "outputs": [],
   "source": []
  },
  {
   "cell_type": "code",
   "execution_count": null,
   "id": "mediterranean-pontiac",
   "metadata": {
    "papermill": {
     "duration": 0.036871,
     "end_time": "2021-10-22T00:27:32.907510",
     "exception": false,
     "start_time": "2021-10-22T00:27:32.870639",
     "status": "completed"
    },
    "tags": []
   },
   "outputs": [],
   "source": []
  },
  {
   "cell_type": "code",
   "execution_count": null,
   "id": "aging-legislature",
   "metadata": {
    "papermill": {
     "duration": 0.037877,
     "end_time": "2021-10-22T00:27:32.983439",
     "exception": false,
     "start_time": "2021-10-22T00:27:32.945562",
     "status": "completed"
    },
    "tags": []
   },
   "outputs": [],
   "source": []
  }
 ],
 "metadata": {
  "kernelspec": {
   "display_name": "Python 3",
   "language": "python",
   "name": "python3"
  },
  "language_info": {
   "codemirror_mode": {
    "name": "ipython",
    "version": 3
   },
   "file_extension": ".py",
   "mimetype": "text/x-python",
   "name": "python",
   "nbconvert_exporter": "python",
   "pygments_lexer": "ipython3",
   "version": "3.6.15"
  },
  "papermill": {
   "duration": 6.879748,
   "end_time": "2021-10-22T00:27:33.330391",
   "environment_variables": {},
   "exception": null,
   "input_path": "2020-03-21-covid19exp.ipynb",
   "output_path": "2020-03-21-covid19exp.ipynb",
   "parameters": {},
   "start_time": "2021-10-22T00:27:26.450643",
   "version": "2.0.0"
  }
 },
 "nbformat": 4,
 "nbformat_minor": 5
}