{
 "cells": [
  {
   "cell_type": "markdown",
   "id": "muslim-click",
   "metadata": {
    "papermill": {
     "duration": 0.039555,
     "end_time": "2021-09-28T00:23:32.769093",
     "exception": false,
     "start_time": "2021-09-28T00:23:32.729538",
     "status": "completed"
    },
    "tags": []
   },
   "source": [
    "# COVID-19 Case Race\n",
    "> A race chart to see rising cases around the world\n",
    "\n",
    "- author: Hargun Oberoi\n",
    "- image: images/covid-overview.png\n",
    "- hide: false\n",
    "- badges: false"
   ]
  },
  {
   "cell_type": "code",
   "execution_count": 1,
   "id": "proof-material",
   "metadata": {
    "execution": {
     "iopub.execute_input": "2021-09-28T00:23:32.851612Z",
     "iopub.status.busy": "2021-09-28T00:23:32.850923Z",
     "iopub.status.idle": "2021-09-28T00:23:33.241959Z",
     "shell.execute_reply": "2021-09-28T00:23:33.241012Z"
    },
    "papermill": {
     "duration": 0.436482,
     "end_time": "2021-09-28T00:23:33.242147",
     "exception": false,
     "start_time": "2021-09-28T00:23:32.805665",
     "status": "completed"
    },
    "tags": []
   },
   "outputs": [],
   "source": [
    "#hide\n",
    "import numpy as np\n",
    "import pandas as pd\n",
    "from jinja2 import Template\n",
    "from IPython.display import HTML"
   ]
  },
  {
   "cell_type": "code",
   "execution_count": 2,
   "id": "developed-terminology",
   "metadata": {
    "execution": {
     "iopub.execute_input": "2021-09-28T00:23:33.325890Z",
     "iopub.status.busy": "2021-09-28T00:23:33.325192Z",
     "iopub.status.idle": "2021-09-28T00:23:33.329577Z",
     "shell.execute_reply": "2021-09-28T00:23:33.328889Z"
    },
    "papermill": {
     "duration": 0.04945,
     "end_time": "2021-09-28T00:23:33.329700",
     "exception": false,
     "start_time": "2021-09-28T00:23:33.280250",
     "status": "completed"
    },
    "tags": []
   },
   "outputs": [],
   "source": [
    "#hide\n",
    "\n",
    "# FETCH\n",
    "base_url = 'https://raw.githubusercontent.com/pratapvardhan/notebooks/master/covid19/'\n",
    "paths = {\n",
    "    'mapping': base_url + 'mapping_countries.csv',\n",
    "    'overview': base_url + 'overview.tpl'\n",
    "}"
   ]
  },
  {
   "cell_type": "code",
   "execution_count": 3,
   "id": "dynamic-saver",
   "metadata": {
    "execution": {
     "iopub.execute_input": "2021-09-28T00:23:33.415458Z",
     "iopub.status.busy": "2021-09-28T00:23:33.414808Z",
     "iopub.status.idle": "2021-09-28T00:23:33.418551Z",
     "shell.execute_reply": "2021-09-28T00:23:33.417837Z"
    },
    "papermill": {
     "duration": 0.052176,
     "end_time": "2021-09-28T00:23:33.418688",
     "exception": false,
     "start_time": "2021-09-28T00:23:33.366512",
     "status": "completed"
    },
    "tags": []
   },
   "outputs": [
    {
     "data": {
      "text/plain": [
       "'https://raw.githubusercontent.com/pratapvardhan/notebooks/master/covid19/mapping_countries.csv'"
      ]
     },
     "execution_count": 3,
     "metadata": {},
     "output_type": "execute_result"
    }
   ],
   "source": [
    "#hide\n",
    "paths['mapping']"
   ]
  },
  {
   "cell_type": "code",
   "execution_count": 4,
   "id": "urban-software",
   "metadata": {
    "execution": {
     "iopub.execute_input": "2021-09-28T00:23:33.499948Z",
     "iopub.status.busy": "2021-09-28T00:23:33.499271Z",
     "iopub.status.idle": "2021-09-28T00:23:33.501693Z",
     "shell.execute_reply": "2021-09-28T00:23:33.501199Z"
    },
    "papermill": {
     "duration": 0.045329,
     "end_time": "2021-09-28T00:23:33.501809",
     "exception": false,
     "start_time": "2021-09-28T00:23:33.456480",
     "status": "completed"
    },
    "tags": []
   },
   "outputs": [],
   "source": [
    "#hide\n",
    "def get_mappings(url):\n",
    "    df = pd.read_csv(url)\n",
    "    return {\n",
    "        'df': df,\n",
    "        'replace.country': dict(df.dropna(subset=['Name']).set_index('Country')['Name']),\n",
    "        'map.continent': dict(df.set_index('Name')['Continent'])\n",
    "    }"
   ]
  },
  {
   "cell_type": "code",
   "execution_count": 5,
   "id": "intimate-machinery",
   "metadata": {
    "execution": {
     "iopub.execute_input": "2021-09-28T00:23:33.580928Z",
     "iopub.status.busy": "2021-09-28T00:23:33.580324Z",
     "iopub.status.idle": "2021-09-28T00:23:33.612682Z",
     "shell.execute_reply": "2021-09-28T00:23:33.613219Z"
    },
    "papermill": {
     "duration": 0.075008,
     "end_time": "2021-09-28T00:23:33.613375",
     "exception": false,
     "start_time": "2021-09-28T00:23:33.538367",
     "status": "completed"
    },
    "tags": []
   },
   "outputs": [],
   "source": [
    "#hide\n",
    "mapping = get_mappings(paths['mapping'])"
   ]
  },
  {
   "cell_type": "code",
   "execution_count": 6,
   "id": "certified-tactics",
   "metadata": {
    "execution": {
     "iopub.execute_input": "2021-09-28T00:23:33.697525Z",
     "iopub.status.busy": "2021-09-28T00:23:33.696856Z",
     "iopub.status.idle": "2021-09-28T00:23:33.699004Z",
     "shell.execute_reply": "2021-09-28T00:23:33.699612Z"
    },
    "papermill": {
     "duration": 0.048804,
     "end_time": "2021-09-28T00:23:33.699753",
     "exception": false,
     "start_time": "2021-09-28T00:23:33.650949",
     "status": "completed"
    },
    "tags": []
   },
   "outputs": [],
   "source": [
    "#hide\n",
    "def get_template(path):\n",
    "    from urllib.parse import urlparse\n",
    "    if bool(urlparse(path).netloc):\n",
    "        from urllib.request import urlopen\n",
    "        return urlopen(path).read().decode('utf8')\n",
    "    return open(path).read()"
   ]
  },
  {
   "cell_type": "code",
   "execution_count": 7,
   "id": "realistic-blast",
   "metadata": {
    "execution": {
     "iopub.execute_input": "2021-09-28T00:23:33.783515Z",
     "iopub.status.busy": "2021-09-28T00:23:33.782863Z",
     "iopub.status.idle": "2021-09-28T00:23:33.785108Z",
     "shell.execute_reply": "2021-09-28T00:23:33.785719Z"
    },
    "papermill": {
     "duration": 0.048007,
     "end_time": "2021-09-28T00:23:33.785915",
     "exception": false,
     "start_time": "2021-09-28T00:23:33.737908",
     "status": "completed"
    },
    "tags": []
   },
   "outputs": [],
   "source": [
    "#hide\n",
    "def get_frame(name):\n",
    "    url = (\n",
    "        'https://raw.githubusercontent.com/CSSEGISandData/COVID-19/master/csse_covid_19_data/'\n",
    "        f'csse_covid_19_time_series/time_series_covid19_{name}_global.csv')\n",
    "    df = pd.read_csv(url)\n",
    "    # rename countries\n",
    "    df['Country/Region'] = df['Country/Region'].replace(mapping['replace.country'])\n",
    "    return df"
   ]
  },
  {
   "cell_type": "code",
   "execution_count": 8,
   "id": "affiliated-characterization",
   "metadata": {
    "execution": {
     "iopub.execute_input": "2021-09-28T00:23:33.868667Z",
     "iopub.status.busy": "2021-09-28T00:23:33.868031Z",
     "iopub.status.idle": "2021-09-28T00:23:33.870622Z",
     "shell.execute_reply": "2021-09-28T00:23:33.869850Z"
    },
    "papermill": {
     "duration": 0.046148,
     "end_time": "2021-09-28T00:23:33.870740",
     "exception": false,
     "start_time": "2021-09-28T00:23:33.824592",
     "status": "completed"
    },
    "tags": []
   },
   "outputs": [],
   "source": [
    "#hide\n",
    "def get_dates(df):\n",
    "    dt_cols = df.columns[~df.columns.isin(['Province/State', 'Country/Region', 'Lat', 'Long'])]\n",
    "    LAST_DATE_I = -1\n",
    "    # sometimes last column may be empty, then go backwards\n",
    "    for i in range(-1, -len(dt_cols), -1):\n",
    "        if not df[dt_cols[i]].fillna(0).eq(0).all():\n",
    "            LAST_DATE_I = i\n",
    "            break\n",
    "    return LAST_DATE_I, dt_cols"
   ]
  },
  {
   "cell_type": "code",
   "execution_count": 9,
   "id": "recent-optimization",
   "metadata": {
    "execution": {
     "iopub.execute_input": "2021-09-28T00:23:33.952114Z",
     "iopub.status.busy": "2021-09-28T00:23:33.951478Z",
     "iopub.status.idle": "2021-09-28T00:23:34.336839Z",
     "shell.execute_reply": "2021-09-28T00:23:34.336152Z"
    },
    "papermill": {
     "duration": 0.430436,
     "end_time": "2021-09-28T00:23:34.337001",
     "exception": false,
     "start_time": "2021-09-28T00:23:33.906565",
     "status": "completed"
    },
    "tags": []
   },
   "outputs": [],
   "source": [
    "#hide\n",
    "COL_REGION = 'Country/Region'\n",
    "# Confirmed, Recovered, Deaths\n",
    "df = get_frame('confirmed')\n",
    "# dft_: timeseries, dfc_: today country agg\n",
    "dft_cases = df\n",
    "dft_deaths = get_frame('deaths')\n",
    "dft_recovered = get_frame('recovered')\n",
    "LAST_DATE_I, dt_cols = get_dates(df)"
   ]
  },
  {
   "cell_type": "code",
   "execution_count": 10,
   "id": "absolute-copper",
   "metadata": {
    "execution": {
     "iopub.execute_input": "2021-09-28T00:23:34.424187Z",
     "iopub.status.busy": "2021-09-28T00:23:34.423492Z",
     "iopub.status.idle": "2021-09-28T00:23:34.426570Z",
     "shell.execute_reply": "2021-09-28T00:23:34.425863Z"
    },
    "papermill": {
     "duration": 0.0481,
     "end_time": "2021-09-28T00:23:34.426745",
     "exception": false,
     "start_time": "2021-09-28T00:23:34.378645",
     "status": "completed"
    },
    "tags": []
   },
   "outputs": [],
   "source": [
    "#hide\n",
    "LAST_DATE_I, dt_cols = get_dates(df)\n",
    "dt_today =dt_cols[LAST_DATE_I]\n",
    "# dt_5day = dt_cols[LAST_DATE_I - 5]\n",
    "dt_yday = dt_cols[LAST_DATE_I - 1]"
   ]
  },
  {
   "cell_type": "code",
   "execution_count": 11,
   "id": "restricted-sheriff",
   "metadata": {
    "execution": {
     "iopub.execute_input": "2021-09-28T00:23:34.515406Z",
     "iopub.status.busy": "2021-09-28T00:23:34.514757Z",
     "iopub.status.idle": "2021-09-28T00:23:34.522668Z",
     "shell.execute_reply": "2021-09-28T00:23:34.521968Z"
    },
    "papermill": {
     "duration": 0.055433,
     "end_time": "2021-09-28T00:23:34.522856",
     "exception": false,
     "start_time": "2021-09-28T00:23:34.467423",
     "status": "completed"
    },
    "tags": []
   },
   "outputs": [],
   "source": [
    "#hide\n",
    "dfc_cases = dft_cases.groupby(COL_REGION)[dt_today].sum()\n",
    "dfc_deaths = dft_deaths.groupby(COL_REGION)[dt_today].sum()\n",
    "# dfp_cases = dft_cases.groupby(COL_REGION)[dt_5day].sum()\n",
    "# dfp_deaths = dft_deaths.groupby(COL_REGION)[dt_5day].sum()\n",
    "dfp_cases = dft_cases.groupby(COL_REGION)[dt_yday].sum()\n",
    "dfp_deaths = dft_deaths.groupby(COL_REGION)[dt_yday].sum()"
   ]
  },
  {
   "cell_type": "code",
   "execution_count": 12,
   "id": "deluxe-hepatitis",
   "metadata": {
    "execution": {
     "iopub.execute_input": "2021-09-28T00:23:34.608140Z",
     "iopub.status.busy": "2021-09-28T00:23:34.607527Z",
     "iopub.status.idle": "2021-09-28T00:23:34.612478Z",
     "shell.execute_reply": "2021-09-28T00:23:34.613059Z"
    },
    "papermill": {
     "duration": 0.051571,
     "end_time": "2021-09-28T00:23:34.613195",
     "exception": false,
     "start_time": "2021-09-28T00:23:34.561624",
     "status": "completed"
    },
    "tags": []
   },
   "outputs": [],
   "source": [
    "#hide\n",
    "df_table = (pd.DataFrame(dict(Cases = dfc_cases, Deaths = dfc_deaths, PCases = dfp_cases, PDeaths = dfp_deaths))\n",
    "            .sort_values(by = ['Cases','Deaths'], ascending = [False, False])\n",
    "            .reset_index())"
   ]
  },
  {
   "cell_type": "code",
   "execution_count": 13,
   "id": "educational-chancellor",
   "metadata": {
    "execution": {
     "iopub.execute_input": "2021-09-28T00:23:34.711750Z",
     "iopub.status.busy": "2021-09-28T00:23:34.706134Z",
     "iopub.status.idle": "2021-09-28T00:23:34.720969Z",
     "shell.execute_reply": "2021-09-28T00:23:34.720440Z"
    },
    "papermill": {
     "duration": 0.070322,
     "end_time": "2021-09-28T00:23:34.721096",
     "exception": false,
     "start_time": "2021-09-28T00:23:34.650774",
     "status": "completed"
    },
    "tags": []
   },
   "outputs": [
    {
     "data": {
      "text/html": [
       "<div>\n",
       "<style scoped>\n",
       "    .dataframe tbody tr th:only-of-type {\n",
       "        vertical-align: middle;\n",
       "    }\n",
       "\n",
       "    .dataframe tbody tr th {\n",
       "        vertical-align: top;\n",
       "    }\n",
       "\n",
       "    .dataframe thead th {\n",
       "        text-align: right;\n",
       "    }\n",
       "</style>\n",
       "<table border=\"1\" class=\"dataframe\">\n",
       "  <thead>\n",
       "    <tr style=\"text-align: right;\">\n",
       "      <th></th>\n",
       "      <th>Country/Region</th>\n",
       "      <th>Cases</th>\n",
       "      <th>Deaths</th>\n",
       "      <th>PCases</th>\n",
       "      <th>PDeaths</th>\n",
       "      <th>Cases (+)</th>\n",
       "      <th>Deaths (+)</th>\n",
       "      <th>Fatality Rate</th>\n",
       "      <th>Continent</th>\n",
       "    </tr>\n",
       "  </thead>\n",
       "  <tbody>\n",
       "    <tr>\n",
       "      <th>0</th>\n",
       "      <td>US</td>\n",
       "      <td>42931354</td>\n",
       "      <td>688032</td>\n",
       "      <td>42900402</td>\n",
       "      <td>687746</td>\n",
       "      <td>30952</td>\n",
       "      <td>286</td>\n",
       "      <td>1.60</td>\n",
       "      <td>North America</td>\n",
       "    </tr>\n",
       "    <tr>\n",
       "      <th>1</th>\n",
       "      <td>India</td>\n",
       "      <td>33678786</td>\n",
       "      <td>447194</td>\n",
       "      <td>33652745</td>\n",
       "      <td>446918</td>\n",
       "      <td>26041</td>\n",
       "      <td>276</td>\n",
       "      <td>1.33</td>\n",
       "      <td>Asia</td>\n",
       "    </tr>\n",
       "    <tr>\n",
       "      <th>2</th>\n",
       "      <td>Brazil</td>\n",
       "      <td>21351972</td>\n",
       "      <td>594443</td>\n",
       "      <td>21343304</td>\n",
       "      <td>594200</td>\n",
       "      <td>8668</td>\n",
       "      <td>243</td>\n",
       "      <td>2.78</td>\n",
       "      <td>South America</td>\n",
       "    </tr>\n",
       "    <tr>\n",
       "      <th>3</th>\n",
       "      <td>United Kingdom</td>\n",
       "      <td>7700358</td>\n",
       "      <td>136529</td>\n",
       "      <td>7667290</td>\n",
       "      <td>136465</td>\n",
       "      <td>33068</td>\n",
       "      <td>64</td>\n",
       "      <td>1.77</td>\n",
       "      <td>Europe</td>\n",
       "    </tr>\n",
       "    <tr>\n",
       "      <th>4</th>\n",
       "      <td>Russia</td>\n",
       "      <td>7313112</td>\n",
       "      <td>200245</td>\n",
       "      <td>7291097</td>\n",
       "      <td>199450</td>\n",
       "      <td>22015</td>\n",
       "      <td>795</td>\n",
       "      <td>2.74</td>\n",
       "      <td>Europe</td>\n",
       "    </tr>\n",
       "  </tbody>\n",
       "</table>\n",
       "</div>"
      ],
      "text/plain": [
       "   Country/Region     Cases  Deaths    PCases  PDeaths  Cases (+)  Deaths (+)  \\\n",
       "0              US  42931354  688032  42900402   687746      30952         286   \n",
       "1           India  33678786  447194  33652745   446918      26041         276   \n",
       "2          Brazil  21351972  594443  21343304   594200       8668         243   \n",
       "3  United Kingdom   7700358  136529   7667290   136465      33068          64   \n",
       "4          Russia   7313112  200245   7291097   199450      22015         795   \n",
       "\n",
       "   Fatality Rate      Continent  \n",
       "0           1.60  North America  \n",
       "1           1.33           Asia  \n",
       "2           2.78  South America  \n",
       "3           1.77         Europe  \n",
       "4           2.74         Europe  "
      ]
     },
     "execution_count": 13,
     "metadata": {},
     "output_type": "execute_result"
    }
   ],
   "source": [
    "#hide\n",
    "for c in 'Cases, Deaths'.split(', '):\n",
    "    df_table[f'{c} (+)'] = (df_table[c] - df_table[f'P{c}']).clip(0)\n",
    "    #Clip ça veut dire, les chiffres negatif sont interdit\n",
    "df_table['Fatality Rate'] = (100* df_table['Deaths']/ df_table['Cases']).round(2)\n",
    "df_table['Continent'] = df_table['Country/Region'].map(mapping['map.continent'])\n",
    "df_table.head(5)"
   ]
  },
  {
   "cell_type": "code",
   "execution_count": 14,
   "id": "aboriginal-bulgaria",
   "metadata": {
    "execution": {
     "iopub.execute_input": "2021-09-28T00:23:34.803768Z",
     "iopub.status.busy": "2021-09-28T00:23:34.803152Z",
     "iopub.status.idle": "2021-09-28T00:23:34.806900Z",
     "shell.execute_reply": "2021-09-28T00:23:34.805991Z"
    },
    "papermill": {
     "duration": 0.047047,
     "end_time": "2021-09-28T00:23:34.807042",
     "exception": false,
     "start_time": "2021-09-28T00:23:34.759995",
     "status": "completed"
    },
    "tags": []
   },
   "outputs": [],
   "source": [
    "#hide\n",
    "#delete problematic countries from table\n",
    "df_table = df_table[~df_table['Country/Region'].isin(['Cape Verde', 'Cruise Ship', 'Kosovo'])]"
   ]
  },
  {
   "cell_type": "code",
   "execution_count": 15,
   "id": "fantastic-effect",
   "metadata": {
    "execution": {
     "iopub.execute_input": "2021-09-28T00:23:34.891629Z",
     "iopub.status.busy": "2021-09-28T00:23:34.891027Z",
     "iopub.status.idle": "2021-09-28T00:23:34.913455Z",
     "shell.execute_reply": "2021-09-28T00:23:34.914038Z"
    },
    "papermill": {
     "duration": 0.069125,
     "end_time": "2021-09-28T00:23:34.914217",
     "exception": false,
     "start_time": "2021-09-28T00:23:34.845092",
     "status": "completed"
    },
    "tags": []
   },
   "outputs": [
    {
     "data": {
      "text/html": [
       "<div>\n",
       "<style scoped>\n",
       "    .dataframe tbody tr th:only-of-type {\n",
       "        vertical-align: middle;\n",
       "    }\n",
       "\n",
       "    .dataframe tbody tr th {\n",
       "        vertical-align: top;\n",
       "    }\n",
       "\n",
       "    .dataframe thead th {\n",
       "        text-align: right;\n",
       "    }\n",
       "</style>\n",
       "<table border=\"1\" class=\"dataframe\">\n",
       "  <thead>\n",
       "    <tr style=\"text-align: right;\">\n",
       "      <th></th>\n",
       "      <th>Country/Region</th>\n",
       "      <th>Cases</th>\n",
       "      <th>Deaths</th>\n",
       "      <th>PCases</th>\n",
       "      <th>PDeaths</th>\n",
       "      <th>Cases (+)</th>\n",
       "      <th>Deaths (+)</th>\n",
       "      <th>Fatality Rate</th>\n",
       "      <th>Continent</th>\n",
       "    </tr>\n",
       "  </thead>\n",
       "  <tbody>\n",
       "    <tr>\n",
       "      <th>0</th>\n",
       "      <td>US</td>\n",
       "      <td>42931354</td>\n",
       "      <td>688032</td>\n",
       "      <td>42900402</td>\n",
       "      <td>687746</td>\n",
       "      <td>30952</td>\n",
       "      <td>286</td>\n",
       "      <td>1.6</td>\n",
       "      <td>North America</td>\n",
       "    </tr>\n",
       "    <tr>\n",
       "      <th>1</th>\n",
       "      <td>India</td>\n",
       "      <td>33678786</td>\n",
       "      <td>447194</td>\n",
       "      <td>33652745</td>\n",
       "      <td>446918</td>\n",
       "      <td>26041</td>\n",
       "      <td>276</td>\n",
       "      <td>1.3</td>\n",
       "      <td>Asia</td>\n",
       "    </tr>\n",
       "    <tr>\n",
       "      <th>2</th>\n",
       "      <td>Brazil</td>\n",
       "      <td>21351972</td>\n",
       "      <td>594443</td>\n",
       "      <td>21343304</td>\n",
       "      <td>594200</td>\n",
       "      <td>8668</td>\n",
       "      <td>243</td>\n",
       "      <td>2.8</td>\n",
       "      <td>South America</td>\n",
       "    </tr>\n",
       "    <tr>\n",
       "      <th>3</th>\n",
       "      <td>United Kingdom</td>\n",
       "      <td>7700358</td>\n",
       "      <td>136529</td>\n",
       "      <td>7667290</td>\n",
       "      <td>136465</td>\n",
       "      <td>33068</td>\n",
       "      <td>64</td>\n",
       "      <td>1.8</td>\n",
       "      <td>Europe</td>\n",
       "    </tr>\n",
       "    <tr>\n",
       "      <th>4</th>\n",
       "      <td>Russia</td>\n",
       "      <td>7313112</td>\n",
       "      <td>200245</td>\n",
       "      <td>7291097</td>\n",
       "      <td>199450</td>\n",
       "      <td>22015</td>\n",
       "      <td>795</td>\n",
       "      <td>2.7</td>\n",
       "      <td>Europe</td>\n",
       "    </tr>\n",
       "  </tbody>\n",
       "</table>\n",
       "</div>"
      ],
      "text/plain": [
       "   Country/Region     Cases  Deaths    PCases  PDeaths  Cases (+)  Deaths (+)  \\\n",
       "0              US  42931354  688032  42900402   687746      30952         286   \n",
       "1           India  33678786  447194  33652745   446918      26041         276   \n",
       "2          Brazil  21351972  594443  21343304   594200       8668         243   \n",
       "3  United Kingdom   7700358  136529   7667290   136465      33068          64   \n",
       "4          Russia   7313112  200245   7291097   199450      22015         795   \n",
       "\n",
       "   Fatality Rate      Continent  \n",
       "0            1.6  North America  \n",
       "1            1.3           Asia  \n",
       "2            2.8  South America  \n",
       "3            1.8         Europe  \n",
       "4            2.7         Europe  "
      ]
     },
     "execution_count": 15,
     "metadata": {},
     "output_type": "execute_result"
    }
   ],
   "source": [
    "#hide\n",
    "df_table = (pd.DataFrame(dict(Cases=dfc_cases, Deaths=dfc_deaths, PCases=dfp_cases, PDeaths=dfp_deaths))\n",
    "             .sort_values(by=['Cases', 'Deaths'], ascending=[False, False])\n",
    "             .reset_index())\n",
    "df_table.rename(columns={'index': 'Country/Region'}, inplace=True)\n",
    "for c in 'Cases, Deaths'.split(', '):\n",
    "    df_table[f'{c} (+)'] = (df_table[c] - df_table[f'P{c}']).clip(0)  # DATA BUG\n",
    "df_table['Fatality Rate'] = (100 * df_table['Deaths'] / df_table['Cases']).round(1)\n",
    "df_table['Continent'] = df_table['Country/Region'].map(mapping['map.continent'])\n",
    "df_table.head(5)"
   ]
  },
  {
   "cell_type": "code",
   "execution_count": 16,
   "id": "fewer-occasion",
   "metadata": {
    "execution": {
     "iopub.execute_input": "2021-09-28T00:23:34.999030Z",
     "iopub.status.busy": "2021-09-28T00:23:34.998230Z",
     "iopub.status.idle": "2021-09-28T00:23:35.000724Z",
     "shell.execute_reply": "2021-09-28T00:23:35.000117Z"
    },
    "papermill": {
     "duration": 0.047064,
     "end_time": "2021-09-28T00:23:35.000862",
     "exception": false,
     "start_time": "2021-09-28T00:23:34.953798",
     "status": "completed"
    },
    "tags": []
   },
   "outputs": [],
   "source": [
    "#hide\n",
    "#delete problematic countries from table\n",
    "df_table = df_table[~df_table['Country/Region'].isin(['Cape Verde', 'Cruise Ship', 'Kosovo'])]"
   ]
  },
  {
   "cell_type": "code",
   "execution_count": 17,
   "id": "related-center",
   "metadata": {
    "execution": {
     "iopub.execute_input": "2021-09-28T00:23:35.093524Z",
     "iopub.status.busy": "2021-09-28T00:23:35.092849Z",
     "iopub.status.idle": "2021-09-28T00:23:35.101538Z",
     "shell.execute_reply": "2021-09-28T00:23:35.102207Z"
    },
    "papermill": {
     "duration": 0.063928,
     "end_time": "2021-09-28T00:23:35.102409",
     "exception": false,
     "start_time": "2021-09-28T00:23:35.038481",
     "status": "completed"
    },
    "tags": []
   },
   "outputs": [],
   "source": [
    "#hide\n",
    "metrics = [df_table.columns[index] for index in [1,2,5,6]]\n",
    "# s_china = df_table[df_table['Country/Region'].eq('China')][metrics].sum().add_prefix('China ')\n",
    "s_us = df_table[df_table['Country/Region'].eq('US')][metrics].sum().add_prefix('US ')\n",
    "s_eu = df_table[df_table['Continent'].eq('Europe')][metrics].sum().add_prefix('EU ')\n",
    "s_ind = df_table[df_table['Country/Region'].eq('India')][metrics].sum().add_prefix('India ')\n",
    "summary = {'updated': pd.to_datetime(dt_today), 'since': pd.to_datetime(dt_yday)}\n",
    "summary = {'updated': pd.to_datetime(dt_today), 'since': pd.to_datetime(dt_yday)}\n",
    "summary = {**summary, **df_table[metrics].sum(), **s_ind, **s_us, **s_eu}"
   ]
  },
  {
   "cell_type": "code",
   "execution_count": 18,
   "id": "engaging-syndrome",
   "metadata": {
    "execution": {
     "iopub.execute_input": "2021-09-28T00:23:35.192359Z",
     "iopub.status.busy": "2021-09-28T00:23:35.191576Z",
     "iopub.status.idle": "2021-09-28T00:23:35.207594Z",
     "shell.execute_reply": "2021-09-28T00:23:35.207062Z"
    },
    "papermill": {
     "duration": 0.062488,
     "end_time": "2021-09-28T00:23:35.207725",
     "exception": false,
     "start_time": "2021-09-28T00:23:35.145237",
     "status": "completed"
    },
    "tags": []
   },
   "outputs": [],
   "source": [
    "#hide\n",
    "dft_ct_new_cases = dft_cases.groupby(COL_REGION)[dt_cols].sum().diff(axis=1).fillna(0).astype(int)"
   ]
  },
  {
   "cell_type": "code",
   "execution_count": 19,
   "id": "neutral-assignment",
   "metadata": {
    "execution": {
     "iopub.execute_input": "2021-09-28T00:23:35.294381Z",
     "iopub.status.busy": "2021-09-28T00:23:35.293524Z",
     "iopub.status.idle": "2021-09-28T00:23:35.295804Z",
     "shell.execute_reply": "2021-09-28T00:23:35.296371Z"
    },
    "papermill": {
     "duration": 0.049362,
     "end_time": "2021-09-28T00:23:35.296513",
     "exception": false,
     "start_time": "2021-09-28T00:23:35.247151",
     "status": "completed"
    },
    "tags": []
   },
   "outputs": [],
   "source": [
    "#hide\n",
    "everydaycases = dft_ct_new_cases.cumsum(axis=1)"
   ]
  },
  {
   "cell_type": "code",
   "execution_count": 20,
   "id": "parliamentary-calgary",
   "metadata": {
    "execution": {
     "iopub.execute_input": "2021-09-28T00:23:35.381391Z",
     "iopub.status.busy": "2021-09-28T00:23:35.380637Z",
     "iopub.status.idle": "2021-09-28T00:23:36.023941Z",
     "shell.execute_reply": "2021-09-28T00:23:36.023301Z"
    },
    "papermill": {
     "duration": 0.68831,
     "end_time": "2021-09-28T00:23:36.024079",
     "exception": false,
     "start_time": "2021-09-28T00:23:35.335769",
     "status": "completed"
    },
    "tags": []
   },
   "outputs": [],
   "source": [
    "#hide\n",
    "import pandas as pd\n",
    "import matplotlib.pyplot as plt\n",
    "import matplotlib.ticker as ticker\n",
    "import matplotlib.animation as animation\n",
    "from IPython.display import HTML"
   ]
  },
  {
   "cell_type": "code",
   "execution_count": 21,
   "id": "lasting-extraction",
   "metadata": {
    "execution": {
     "iopub.execute_input": "2021-09-28T00:23:36.111130Z",
     "iopub.status.busy": "2021-09-28T00:23:36.110430Z",
     "iopub.status.idle": "2021-09-28T00:23:36.116362Z",
     "shell.execute_reply": "2021-09-28T00:23:36.115850Z"
    },
    "papermill": {
     "duration": 0.050728,
     "end_time": "2021-09-28T00:23:36.116487",
     "exception": false,
     "start_time": "2021-09-28T00:23:36.065759",
     "status": "completed"
    },
    "tags": []
   },
   "outputs": [],
   "source": [
    "#hide\n",
    "t = everydaycases.stack()"
   ]
  },
  {
   "cell_type": "code",
   "execution_count": 22,
   "id": "premier-sleeve",
   "metadata": {
    "execution": {
     "iopub.execute_input": "2021-09-28T00:23:36.200467Z",
     "iopub.status.busy": "2021-09-28T00:23:36.199702Z",
     "iopub.status.idle": "2021-09-28T00:23:36.210571Z",
     "shell.execute_reply": "2021-09-28T00:23:36.209915Z"
    },
    "papermill": {
     "duration": 0.055355,
     "end_time": "2021-09-28T00:23:36.210746",
     "exception": false,
     "start_time": "2021-09-28T00:23:36.155391",
     "status": "completed"
    },
    "tags": []
   },
   "outputs": [],
   "source": [
    "#hide\n",
    "g = t.reset_index(['Country/Region'])"
   ]
  },
  {
   "cell_type": "code",
   "execution_count": 23,
   "id": "distributed-pittsburgh",
   "metadata": {
    "execution": {
     "iopub.execute_input": "2021-09-28T00:23:36.295722Z",
     "iopub.status.busy": "2021-09-28T00:23:36.295049Z",
     "iopub.status.idle": "2021-09-28T00:23:36.297126Z",
     "shell.execute_reply": "2021-09-28T00:23:36.297644Z"
    },
    "papermill": {
     "duration": 0.046132,
     "end_time": "2021-09-28T00:23:36.297790",
     "exception": false,
     "start_time": "2021-09-28T00:23:36.251658",
     "status": "completed"
    },
    "tags": []
   },
   "outputs": [],
   "source": [
    "#hide\n",
    "g.index.name = 'date'"
   ]
  },
  {
   "cell_type": "code",
   "execution_count": 24,
   "id": "naked-donor",
   "metadata": {
    "execution": {
     "iopub.execute_input": "2021-09-28T00:23:36.382681Z",
     "iopub.status.busy": "2021-09-28T00:23:36.381924Z",
     "iopub.status.idle": "2021-09-28T00:23:36.383484Z",
     "shell.execute_reply": "2021-09-28T00:23:36.384134Z"
    },
    "papermill": {
     "duration": 0.046016,
     "end_time": "2021-09-28T00:23:36.384315",
     "exception": false,
     "start_time": "2021-09-28T00:23:36.338299",
     "status": "completed"
    },
    "tags": []
   },
   "outputs": [],
   "source": [
    "# #hide\n",
    "# g = g.reset_index(['date'])"
   ]
  },
  {
   "cell_type": "code",
   "execution_count": 25,
   "id": "incomplete-mustang",
   "metadata": {
    "execution": {
     "iopub.execute_input": "2021-09-28T00:23:36.470749Z",
     "iopub.status.busy": "2021-09-28T00:23:36.470035Z",
     "iopub.status.idle": "2021-09-28T00:23:36.472490Z",
     "shell.execute_reply": "2021-09-28T00:23:36.471760Z"
    },
    "papermill": {
     "duration": 0.046894,
     "end_time": "2021-09-28T00:23:36.472631",
     "exception": false,
     "start_time": "2021-09-28T00:23:36.425737",
     "status": "completed"
    },
    "tags": []
   },
   "outputs": [],
   "source": [
    "#hide\n",
    "# g.head()"
   ]
  },
  {
   "cell_type": "code",
   "execution_count": 26,
   "id": "specific-kruger",
   "metadata": {
    "execution": {
     "iopub.execute_input": "2021-09-28T00:23:36.557423Z",
     "iopub.status.busy": "2021-09-28T00:23:36.556723Z",
     "iopub.status.idle": "2021-09-28T00:23:36.558824Z",
     "shell.execute_reply": "2021-09-28T00:23:36.559400Z"
    },
    "papermill": {
     "duration": 0.047547,
     "end_time": "2021-09-28T00:23:36.559530",
     "exception": false,
     "start_time": "2021-09-28T00:23:36.511983",
     "status": "completed"
    },
    "tags": []
   },
   "outputs": [],
   "source": [
    "#hide\n",
    "# g.columns = ['date','country','cases']"
   ]
  },
  {
   "cell_type": "code",
   "execution_count": 27,
   "id": "tender-conversion",
   "metadata": {
    "execution": {
     "iopub.execute_input": "2021-09-28T00:23:36.646220Z",
     "iopub.status.busy": "2021-09-28T00:23:36.645455Z",
     "iopub.status.idle": "2021-09-28T00:23:36.646906Z",
     "shell.execute_reply": "2021-09-28T00:23:36.647414Z"
    },
    "papermill": {
     "duration": 0.045462,
     "end_time": "2021-09-28T00:23:36.647559",
     "exception": false,
     "start_time": "2021-09-28T00:23:36.602097",
     "status": "completed"
    },
    "tags": []
   },
   "outputs": [],
   "source": [
    "#hide\n",
    "# g['continent'] = g.country"
   ]
  },
  {
   "cell_type": "code",
   "execution_count": 28,
   "id": "substantial-wilderness",
   "metadata": {
    "execution": {
     "iopub.execute_input": "2021-09-28T00:23:36.732179Z",
     "iopub.status.busy": "2021-09-28T00:23:36.731543Z",
     "iopub.status.idle": "2021-09-28T00:23:36.734410Z",
     "shell.execute_reply": "2021-09-28T00:23:36.733826Z"
    },
    "papermill": {
     "duration": 0.045828,
     "end_time": "2021-09-28T00:23:36.734530",
     "exception": false,
     "start_time": "2021-09-28T00:23:36.688702",
     "status": "completed"
    },
    "tags": []
   },
   "outputs": [],
   "source": [
    "#hide\n",
    "# cols = list(g.columns.values)"
   ]
  },
  {
   "cell_type": "code",
   "execution_count": 29,
   "id": "solved-farming",
   "metadata": {
    "execution": {
     "iopub.execute_input": "2021-09-28T00:23:36.813454Z",
     "iopub.status.busy": "2021-09-28T00:23:36.812858Z",
     "iopub.status.idle": "2021-09-28T00:23:36.814926Z",
     "shell.execute_reply": "2021-09-28T00:23:36.815376Z"
    },
    "papermill": {
     "duration": 0.043769,
     "end_time": "2021-09-28T00:23:36.815624",
     "exception": false,
     "start_time": "2021-09-28T00:23:36.771855",
     "status": "completed"
    },
    "tags": []
   },
   "outputs": [],
   "source": [
    "#hide\n",
    "# cols.insert(0, cols.pop())"
   ]
  },
  {
   "cell_type": "code",
   "execution_count": 30,
   "id": "executed-adoption",
   "metadata": {
    "execution": {
     "iopub.execute_input": "2021-09-28T00:23:36.896114Z",
     "iopub.status.busy": "2021-09-28T00:23:36.895350Z",
     "iopub.status.idle": "2021-09-28T00:23:36.898534Z",
     "shell.execute_reply": "2021-09-28T00:23:36.897716Z"
    },
    "papermill": {
     "duration": 0.045338,
     "end_time": "2021-09-28T00:23:36.898654",
     "exception": false,
     "start_time": "2021-09-28T00:23:36.853316",
     "status": "completed"
    },
    "tags": []
   },
   "outputs": [],
   "source": [
    "#hide\n",
    "# g = g[cols]"
   ]
  },
  {
   "cell_type": "code",
   "execution_count": 31,
   "id": "subject-dublin",
   "metadata": {
    "execution": {
     "iopub.execute_input": "2021-09-28T00:23:36.979870Z",
     "iopub.status.busy": "2021-09-28T00:23:36.979259Z",
     "iopub.status.idle": "2021-09-28T00:23:36.981391Z",
     "shell.execute_reply": "2021-09-28T00:23:36.981911Z"
    },
    "papermill": {
     "duration": 0.045022,
     "end_time": "2021-09-28T00:23:36.982048",
     "exception": false,
     "start_time": "2021-09-28T00:23:36.937026",
     "status": "completed"
    },
    "tags": []
   },
   "outputs": [],
   "source": [
    "#hide\n",
    "# g['continent'] = g['continent'].map(mapping['map.continent'])"
   ]
  },
  {
   "cell_type": "code",
   "execution_count": 32,
   "id": "freelance-scout",
   "metadata": {
    "execution": {
     "iopub.execute_input": "2021-09-28T00:23:37.062651Z",
     "iopub.status.busy": "2021-09-28T00:23:37.061897Z",
     "iopub.status.idle": "2021-09-28T00:23:37.064075Z",
     "shell.execute_reply": "2021-09-28T00:23:37.064587Z"
    },
    "papermill": {
     "duration": 0.044921,
     "end_time": "2021-09-28T00:23:37.064736",
     "exception": false,
     "start_time": "2021-09-28T00:23:37.019815",
     "status": "completed"
    },
    "tags": []
   },
   "outputs": [],
   "source": [
    "#hide\n",
    "# g.head()"
   ]
  },
  {
   "cell_type": "code",
   "execution_count": 33,
   "id": "limited-engine",
   "metadata": {
    "execution": {
     "iopub.execute_input": "2021-09-28T00:23:37.146240Z",
     "iopub.status.busy": "2021-09-28T00:23:37.145413Z",
     "iopub.status.idle": "2021-09-28T00:23:37.148143Z",
     "shell.execute_reply": "2021-09-28T00:23:37.147557Z"
    },
    "papermill": {
     "duration": 0.045167,
     "end_time": "2021-09-28T00:23:37.148260",
     "exception": false,
     "start_time": "2021-09-28T00:23:37.103093",
     "status": "completed"
    },
    "tags": []
   },
   "outputs": [],
   "source": [
    "# hide\n",
    "# g['date'] = g['date'].astype('datetime64[ns]')"
   ]
  },
  {
   "cell_type": "code",
   "execution_count": 34,
   "id": "sophisticated-supervisor",
   "metadata": {
    "execution": {
     "iopub.execute_input": "2021-09-28T00:23:37.232400Z",
     "iopub.status.busy": "2021-09-28T00:23:37.231587Z",
     "iopub.status.idle": "2021-09-28T00:23:37.234351Z",
     "shell.execute_reply": "2021-09-28T00:23:37.233653Z"
    },
    "papermill": {
     "duration": 0.046527,
     "end_time": "2021-09-28T00:23:37.234486",
     "exception": false,
     "start_time": "2021-09-28T00:23:37.187959",
     "status": "completed"
    },
    "tags": []
   },
   "outputs": [],
   "source": [
    "#hide\n",
    "# g['date'] = g.date.dt.dayofyear"
   ]
  },
  {
   "cell_type": "code",
   "execution_count": 35,
   "id": "inside-dubai",
   "metadata": {
    "execution": {
     "iopub.execute_input": "2021-09-28T00:23:37.316934Z",
     "iopub.status.busy": "2021-09-28T00:23:37.316300Z",
     "iopub.status.idle": "2021-09-28T00:23:37.318936Z",
     "shell.execute_reply": "2021-09-28T00:23:37.318392Z"
    },
    "papermill": {
     "duration": 0.046002,
     "end_time": "2021-09-28T00:23:37.319061",
     "exception": false,
     "start_time": "2021-09-28T00:23:37.273059",
     "status": "completed"
    },
    "tags": []
   },
   "outputs": [],
   "source": [
    "#hide\n",
    "# g = g.rename(columns= {'continent':'group','country':'name','cases':'value'})"
   ]
  },
  {
   "cell_type": "code",
   "execution_count": 36,
   "id": "fleet-motorcycle",
   "metadata": {
    "execution": {
     "iopub.execute_input": "2021-09-28T00:23:37.399885Z",
     "iopub.status.busy": "2021-09-28T00:23:37.399179Z",
     "iopub.status.idle": "2021-09-28T00:23:37.401635Z",
     "shell.execute_reply": "2021-09-28T00:23:37.400854Z"
    },
    "papermill": {
     "duration": 0.044849,
     "end_time": "2021-09-28T00:23:37.401761",
     "exception": false,
     "start_time": "2021-09-28T00:23:37.356912",
     "status": "completed"
    },
    "tags": []
   },
   "outputs": [],
   "source": [
    "#hide\n",
    "# cols = ['name','group','day','value']"
   ]
  },
  {
   "cell_type": "code",
   "execution_count": 37,
   "id": "continued-sleeping",
   "metadata": {
    "execution": {
     "iopub.execute_input": "2021-09-28T00:23:37.484360Z",
     "iopub.status.busy": "2021-09-28T00:23:37.483676Z",
     "iopub.status.idle": "2021-09-28T00:23:37.486056Z",
     "shell.execute_reply": "2021-09-28T00:23:37.485416Z"
    },
    "papermill": {
     "duration": 0.045498,
     "end_time": "2021-09-28T00:23:37.486249",
     "exception": false,
     "start_time": "2021-09-28T00:23:37.440751",
     "status": "completed"
    },
    "tags": []
   },
   "outputs": [],
   "source": [
    "#hide\n",
    "# g.rename(columns= {'date':'day'},inplace = True)"
   ]
  },
  {
   "cell_type": "code",
   "execution_count": 38,
   "id": "major-fight",
   "metadata": {
    "execution": {
     "iopub.execute_input": "2021-09-28T00:23:37.570034Z",
     "iopub.status.busy": "2021-09-28T00:23:37.569358Z",
     "iopub.status.idle": "2021-09-28T00:23:37.571461Z",
     "shell.execute_reply": "2021-09-28T00:23:37.572141Z"
    },
    "papermill": {
     "duration": 0.045189,
     "end_time": "2021-09-28T00:23:37.572357",
     "exception": false,
     "start_time": "2021-09-28T00:23:37.527168",
     "status": "completed"
    },
    "tags": []
   },
   "outputs": [],
   "source": [
    "#hide\n",
    "# g = g[cols]"
   ]
  },
  {
   "cell_type": "code",
   "execution_count": 39,
   "id": "structured-mobile",
   "metadata": {
    "execution": {
     "iopub.execute_input": "2021-09-28T00:23:37.656964Z",
     "iopub.status.busy": "2021-09-28T00:23:37.656316Z",
     "iopub.status.idle": "2021-09-28T00:23:37.658673Z",
     "shell.execute_reply": "2021-09-28T00:23:37.658051Z"
    },
    "papermill": {
     "duration": 0.046289,
     "end_time": "2021-09-28T00:23:37.658798",
     "exception": false,
     "start_time": "2021-09-28T00:23:37.612509",
     "status": "completed"
    },
    "tags": []
   },
   "outputs": [],
   "source": [
    "# #hide\n",
    "# g = g[g.group.notna()]"
   ]
  },
  {
   "cell_type": "code",
   "execution_count": 40,
   "id": "determined-closing",
   "metadata": {
    "execution": {
     "iopub.execute_input": "2021-09-28T00:23:37.746996Z",
     "iopub.status.busy": "2021-09-28T00:23:37.746295Z",
     "iopub.status.idle": "2021-09-28T00:23:37.748614Z",
     "shell.execute_reply": "2021-09-28T00:23:37.748019Z"
    },
    "papermill": {
     "duration": 0.047385,
     "end_time": "2021-09-28T00:23:37.748736",
     "exception": false,
     "start_time": "2021-09-28T00:23:37.701351",
     "status": "completed"
    },
    "tags": []
   },
   "outputs": [],
   "source": [
    "# #hide\n",
    "# colors = dict(zip(\n",
    "#     [\"Oceania\", \"Europe\", \"Asia\", \"South America\", \"Middle East\", \"North America\", \"Africa\"],\n",
    "#     [\"#adb0ff\", \"#ffb3ff\", \"#90d595\", \"#e48381\", \"#aafbff\", \"#f7bb5f\", \"#eafb50\"]\n",
    "# ))\n",
    "# group_lk = g.set_index('name')['group'].to_dict()"
   ]
  },
  {
   "cell_type": "code",
   "execution_count": null,
   "id": "gross-drinking",
   "metadata": {
    "papermill": {
     "duration": 0.040791,
     "end_time": "2021-09-28T00:23:37.829348",
     "exception": false,
     "start_time": "2021-09-28T00:23:37.788557",
     "status": "completed"
    },
    "tags": []
   },
   "outputs": [],
   "source": []
  },
  {
   "cell_type": "code",
   "execution_count": 41,
   "id": "subject-macintosh",
   "metadata": {
    "execution": {
     "iopub.execute_input": "2021-09-28T00:23:37.914264Z",
     "iopub.status.busy": "2021-09-28T00:23:37.913452Z",
     "iopub.status.idle": "2021-09-28T00:23:37.916243Z",
     "shell.execute_reply": "2021-09-28T00:23:37.915681Z"
    },
    "papermill": {
     "duration": 0.048722,
     "end_time": "2021-09-28T00:23:37.916373",
     "exception": false,
     "start_time": "2021-09-28T00:23:37.867651",
     "status": "completed"
    },
    "tags": []
   },
   "outputs": [],
   "source": [
    "# #hide\n",
    "# fig, ax = plt.subplots(figsize=(15, 8))\n",
    "\n",
    "# def draw_barchart(current_day):\n",
    "#     dff = g[g['day'].eq(current_day)].sort_values(by='value', ascending=True).tail(10)\n",
    "#     ax.clear()\n",
    "#     ax.barh(dff['name'], dff['value'], color=[colors[group_lk[x]] for x in dff['name']])\n",
    "#     dx = dff['value'].max() / 200\n",
    "    \n",
    "#     for i, (value, name) in enumerate(zip(dff['value'], dff['name'])):\n",
    "#         ax.text(value-dx, i,     name,           size=14, weight=600, ha='right', va='bottom')\n",
    "#         ax.text(value-dx, i-.25, group_lk[name], size=10, color='#444444', ha='right', va='baseline')\n",
    "#         ax.text(value+dx, i,     f'{value:,.0f}',  size=14, ha='left',  va='center')\n",
    "#     ax.text(1, 0.4, current_day, transform=ax.transAxes, color='#777777', size=46, ha='right', weight=800)\n",
    "#     ax.text(0, 1.06, 'Population (thousands)', transform=ax.transAxes, size=12, color='#777777')\n",
    "#     ax.xaxis.set_major_formatter(ticker.StrMethodFormatter('{x:,.0f}'))\n",
    "#     ax.xaxis.set_ticks_position('top')\n",
    "#     ax.tick_params(axis='x', colors='#777777', labelsize=12)\n",
    "#     ax.set_yticks([])\n",
    "#     ax.margins(0, 0.01)\n",
    "#     ax.grid(which='major', axis='x', linestyle='-')\n",
    "#     ax.set_axisbelow(True)\n",
    "    \n",
    "#     ax.text(0, 1.15, 'Coronavirus',\n",
    "#             transform=ax.transAxes, size=24, weight=600, ha='left', va='top')\n",
    "# #     ax.text(1, 0, 'by @pratapvardhan; credit @jburnmurdoch', transform=ax.transAxes, color='#777777', ha='right',\n",
    "# #             bbox=dict(facecolor='white', alpha=0.8, edgecolor='white'))\n",
    "#     plt.box(False)"
   ]
  },
  {
   "cell_type": "code",
   "execution_count": 42,
   "id": "sexual-wages",
   "metadata": {
    "execution": {
     "iopub.execute_input": "2021-09-28T00:23:38.001167Z",
     "iopub.status.busy": "2021-09-28T00:23:38.000524Z",
     "iopub.status.idle": "2021-09-28T00:23:38.002533Z",
     "shell.execute_reply": "2021-09-28T00:23:38.003060Z"
    },
    "papermill": {
     "duration": 0.046394,
     "end_time": "2021-09-28T00:23:38.003300",
     "exception": false,
     "start_time": "2021-09-28T00:23:37.956906",
     "status": "completed"
    },
    "tags": []
   },
   "outputs": [],
   "source": [
    "# #hide_input\n",
    "# fig, ax = plt.subplots(figsize=(15, 8))\n",
    "# animator = animation.FuncAnimation(fig, draw_barchart, frames=range(g.day.values.min(), g.day.values.max()))\n",
    "# HTML(animator.to_jshtml())\n",
    "# # or use animator.to_html5_video() or animator.save() "
   ]
  },
  {
   "cell_type": "code",
   "execution_count": null,
   "id": "australian-container",
   "metadata": {
    "papermill": {
     "duration": 0.038964,
     "end_time": "2021-09-28T00:23:38.081391",
     "exception": false,
     "start_time": "2021-09-28T00:23:38.042427",
     "status": "completed"
    },
    "tags": []
   },
   "outputs": [],
   "source": []
  },
  {
   "cell_type": "code",
   "execution_count": null,
   "id": "mediterranean-pontiac",
   "metadata": {
    "papermill": {
     "duration": 0.038036,
     "end_time": "2021-09-28T00:23:38.157729",
     "exception": false,
     "start_time": "2021-09-28T00:23:38.119693",
     "status": "completed"
    },
    "tags": []
   },
   "outputs": [],
   "source": []
  },
  {
   "cell_type": "code",
   "execution_count": null,
   "id": "aging-legislature",
   "metadata": {
    "papermill": {
     "duration": 0.039865,
     "end_time": "2021-09-28T00:23:38.235237",
     "exception": false,
     "start_time": "2021-09-28T00:23:38.195372",
     "status": "completed"
    },
    "tags": []
   },
   "outputs": [],
   "source": []
  }
 ],
 "metadata": {
  "kernelspec": {
   "display_name": "Python 3",
   "language": "python",
   "name": "python3"
  },
  "language_info": {
   "codemirror_mode": {
    "name": "ipython",
    "version": 3
   },
   "file_extension": ".py",
   "mimetype": "text/x-python",
   "name": "python",
   "nbconvert_exporter": "python",
   "pygments_lexer": "ipython3",
   "version": "3.6.15"
  },
  "papermill": {
   "duration": 6.998908,
   "end_time": "2021-09-28T00:23:38.582316",
   "environment_variables": {},
   "exception": null,
   "input_path": "2020-03-21-covid19exp.ipynb",
   "output_path": "2020-03-21-covid19exp.ipynb",
   "parameters": {},
   "start_time": "2021-09-28T00:23:31.583408",
   "version": "2.0.0"
  }
 },
 "nbformat": 4,
 "nbformat_minor": 5
}