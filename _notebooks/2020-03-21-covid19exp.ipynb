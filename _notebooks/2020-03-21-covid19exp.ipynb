{
 "cells": [
  {
   "cell_type": "markdown",
   "id": "muslim-click",
   "metadata": {
    "papermill": {
     "duration": 0.035995,
     "end_time": "2022-01-29T12:11:18.514335",
     "exception": false,
     "start_time": "2022-01-29T12:11:18.478340",
     "status": "completed"
    },
    "tags": []
   },
   "source": [
    "# COVID-19 Case Race\n",
    "> A race chart to see rising cases around the world\n",
    "\n",
    "- author: Hargun Oberoi\n",
    "- image: images/covid-overview.png\n",
    "- hide: false\n",
    "- badges: false"
   ]
  },
  {
   "cell_type": "code",
   "execution_count": 1,
   "id": "proof-material",
   "metadata": {
    "execution": {
     "iopub.execute_input": "2022-01-29T12:11:18.591144Z",
     "iopub.status.busy": "2022-01-29T12:11:18.590546Z",
     "iopub.status.idle": "2022-01-29T12:11:18.947896Z",
     "shell.execute_reply": "2022-01-29T12:11:18.947327Z"
    },
    "papermill": {
     "duration": 0.401927,
     "end_time": "2022-01-29T12:11:18.948052",
     "exception": false,
     "start_time": "2022-01-29T12:11:18.546125",
     "status": "completed"
    },
    "tags": []
   },
   "outputs": [],
   "source": [
    "#hide\n",
    "import numpy as np\n",
    "import pandas as pd\n",
    "from jinja2 import Template\n",
    "from IPython.display import HTML"
   ]
  },
  {
   "cell_type": "code",
   "execution_count": 2,
   "id": "developed-terminology",
   "metadata": {
    "execution": {
     "iopub.execute_input": "2022-01-29T12:11:19.021465Z",
     "iopub.status.busy": "2022-01-29T12:11:19.020857Z",
     "iopub.status.idle": "2022-01-29T12:11:19.023005Z",
     "shell.execute_reply": "2022-01-29T12:11:19.022500Z"
    },
    "papermill": {
     "duration": 0.041031,
     "end_time": "2022-01-29T12:11:19.023121",
     "exception": false,
     "start_time": "2022-01-29T12:11:18.982090",
     "status": "completed"
    },
    "tags": []
   },
   "outputs": [],
   "source": [
    "#hide\n",
    "\n",
    "# FETCH\n",
    "base_url = 'https://raw.githubusercontent.com/pratapvardhan/notebooks/master/covid19/'\n",
    "paths = {\n",
    "    'mapping': base_url + 'mapping_countries.csv',\n",
    "    'overview': base_url + 'overview.tpl'\n",
    "}"
   ]
  },
  {
   "cell_type": "code",
   "execution_count": 3,
   "id": "dynamic-saver",
   "metadata": {
    "execution": {
     "iopub.execute_input": "2022-01-29T12:11:19.110172Z",
     "iopub.status.busy": "2022-01-29T12:11:19.109608Z",
     "iopub.status.idle": "2022-01-29T12:11:19.112738Z",
     "shell.execute_reply": "2022-01-29T12:11:19.112221Z"
    },
    "papermill": {
     "duration": 0.057288,
     "end_time": "2022-01-29T12:11:19.112875",
     "exception": false,
     "start_time": "2022-01-29T12:11:19.055587",
     "status": "completed"
    },
    "tags": []
   },
   "outputs": [
    {
     "data": {
      "text/plain": [
       "'https://raw.githubusercontent.com/pratapvardhan/notebooks/master/covid19/mapping_countries.csv'"
      ]
     },
     "execution_count": 3,
     "metadata": {},
     "output_type": "execute_result"
    }
   ],
   "source": [
    "#hide\n",
    "paths['mapping']"
   ]
  },
  {
   "cell_type": "code",
   "execution_count": 4,
   "id": "urban-software",
   "metadata": {
    "execution": {
     "iopub.execute_input": "2022-01-29T12:11:19.194794Z",
     "iopub.status.busy": "2022-01-29T12:11:19.194125Z",
     "iopub.status.idle": "2022-01-29T12:11:19.196492Z",
     "shell.execute_reply": "2022-01-29T12:11:19.195863Z"
    },
    "papermill": {
     "duration": 0.046884,
     "end_time": "2022-01-29T12:11:19.196618",
     "exception": false,
     "start_time": "2022-01-29T12:11:19.149734",
     "status": "completed"
    },
    "tags": []
   },
   "outputs": [],
   "source": [
    "#hide\n",
    "def get_mappings(url):\n",
    "    df = pd.read_csv(url)\n",
    "    return {\n",
    "        'df': df,\n",
    "        'replace.country': dict(df.dropna(subset=['Name']).set_index('Country')['Name']),\n",
    "        'map.continent': dict(df.set_index('Name')['Continent'])\n",
    "    }"
   ]
  },
  {
   "cell_type": "code",
   "execution_count": 5,
   "id": "intimate-machinery",
   "metadata": {
    "execution": {
     "iopub.execute_input": "2022-01-29T12:11:19.272118Z",
     "iopub.status.busy": "2022-01-29T12:11:19.270065Z",
     "iopub.status.idle": "2022-01-29T12:11:19.308736Z",
     "shell.execute_reply": "2022-01-29T12:11:19.308087Z"
    },
    "papermill": {
     "duration": 0.077947,
     "end_time": "2022-01-29T12:11:19.308934",
     "exception": false,
     "start_time": "2022-01-29T12:11:19.230987",
     "status": "completed"
    },
    "tags": []
   },
   "outputs": [],
   "source": [
    "#hide\n",
    "mapping = get_mappings(paths['mapping'])"
   ]
  },
  {
   "cell_type": "code",
   "execution_count": 6,
   "id": "certified-tactics",
   "metadata": {
    "execution": {
     "iopub.execute_input": "2022-01-29T12:11:19.376374Z",
     "iopub.status.busy": "2022-01-29T12:11:19.375827Z",
     "iopub.status.idle": "2022-01-29T12:11:19.378120Z",
     "shell.execute_reply": "2022-01-29T12:11:19.377658Z"
    },
    "papermill": {
     "duration": 0.03747,
     "end_time": "2022-01-29T12:11:19.378228",
     "exception": false,
     "start_time": "2022-01-29T12:11:19.340758",
     "status": "completed"
    },
    "tags": []
   },
   "outputs": [],
   "source": [
    "#hide\n",
    "def get_template(path):\n",
    "    from urllib.parse import urlparse\n",
    "    if bool(urlparse(path).netloc):\n",
    "        from urllib.request import urlopen\n",
    "        return urlopen(path).read().decode('utf8')\n",
    "    return open(path).read()"
   ]
  },
  {
   "cell_type": "code",
   "execution_count": 7,
   "id": "realistic-blast",
   "metadata": {
    "execution": {
     "iopub.execute_input": "2022-01-29T12:11:19.457087Z",
     "iopub.status.busy": "2022-01-29T12:11:19.456436Z",
     "iopub.status.idle": "2022-01-29T12:11:19.458971Z",
     "shell.execute_reply": "2022-01-29T12:11:19.458335Z"
    },
    "papermill": {
     "duration": 0.04426,
     "end_time": "2022-01-29T12:11:19.459090",
     "exception": false,
     "start_time": "2022-01-29T12:11:19.414830",
     "status": "completed"
    },
    "tags": []
   },
   "outputs": [],
   "source": [
    "#hide\n",
    "def get_frame(name):\n",
    "    url = (\n",
    "        'https://raw.githubusercontent.com/CSSEGISandData/COVID-19/master/csse_covid_19_data/'\n",
    "        f'csse_covid_19_time_series/time_series_covid19_{name}_global.csv')\n",
    "    df = pd.read_csv(url)\n",
    "    # rename countries\n",
    "    df['Country/Region'] = df['Country/Region'].replace(mapping['replace.country'])\n",
    "    return df"
   ]
  },
  {
   "cell_type": "code",
   "execution_count": 8,
   "id": "affiliated-characterization",
   "metadata": {
    "execution": {
     "iopub.execute_input": "2022-01-29T12:11:19.531447Z",
     "iopub.status.busy": "2022-01-29T12:11:19.530925Z",
     "iopub.status.idle": "2022-01-29T12:11:19.532644Z",
     "shell.execute_reply": "2022-01-29T12:11:19.533395Z"
    },
    "papermill": {
     "duration": 0.039491,
     "end_time": "2022-01-29T12:11:19.533556",
     "exception": false,
     "start_time": "2022-01-29T12:11:19.494065",
     "status": "completed"
    },
    "tags": []
   },
   "outputs": [],
   "source": [
    "#hide\n",
    "def get_dates(df):\n",
    "    dt_cols = df.columns[~df.columns.isin(['Province/State', 'Country/Region', 'Lat', 'Long'])]\n",
    "    LAST_DATE_I = -1\n",
    "    # sometimes last column may be empty, then go backwards\n",
    "    for i in range(-1, -len(dt_cols), -1):\n",
    "        if not df[dt_cols[i]].fillna(0).eq(0).all():\n",
    "            LAST_DATE_I = i\n",
    "            break\n",
    "    return LAST_DATE_I, dt_cols"
   ]
  },
  {
   "cell_type": "code",
   "execution_count": 9,
   "id": "recent-optimization",
   "metadata": {
    "execution": {
     "iopub.execute_input": "2022-01-29T12:11:19.603389Z",
     "iopub.status.busy": "2022-01-29T12:11:19.602811Z",
     "iopub.status.idle": "2022-01-29T12:11:20.017263Z",
     "shell.execute_reply": "2022-01-29T12:11:20.016778Z"
    },
    "papermill": {
     "duration": 0.452492,
     "end_time": "2022-01-29T12:11:20.017382",
     "exception": false,
     "start_time": "2022-01-29T12:11:19.564890",
     "status": "completed"
    },
    "tags": []
   },
   "outputs": [],
   "source": [
    "#hide\n",
    "COL_REGION = 'Country/Region'\n",
    "# Confirmed, Recovered, Deaths\n",
    "df = get_frame('confirmed')\n",
    "# dft_: timeseries, dfc_: today country agg\n",
    "dft_cases = df\n",
    "dft_deaths = get_frame('deaths')\n",
    "dft_recovered = get_frame('recovered')\n",
    "LAST_DATE_I, dt_cols = get_dates(df)"
   ]
  },
  {
   "cell_type": "code",
   "execution_count": 10,
   "id": "absolute-copper",
   "metadata": {
    "execution": {
     "iopub.execute_input": "2022-01-29T12:11:20.093173Z",
     "iopub.status.busy": "2022-01-29T12:11:20.092556Z",
     "iopub.status.idle": "2022-01-29T12:11:20.096815Z",
     "shell.execute_reply": "2022-01-29T12:11:20.096375Z"
    },
    "papermill": {
     "duration": 0.041939,
     "end_time": "2022-01-29T12:11:20.096925",
     "exception": false,
     "start_time": "2022-01-29T12:11:20.054986",
     "status": "completed"
    },
    "tags": []
   },
   "outputs": [],
   "source": [
    "#hide\n",
    "LAST_DATE_I, dt_cols = get_dates(df)\n",
    "dt_today =dt_cols[LAST_DATE_I]\n",
    "# dt_5day = dt_cols[LAST_DATE_I - 5]\n",
    "dt_yday = dt_cols[LAST_DATE_I - 1]"
   ]
  },
  {
   "cell_type": "code",
   "execution_count": 11,
   "id": "restricted-sheriff",
   "metadata": {
    "execution": {
     "iopub.execute_input": "2022-01-29T12:11:20.172576Z",
     "iopub.status.busy": "2022-01-29T12:11:20.172008Z",
     "iopub.status.idle": "2022-01-29T12:11:20.175660Z",
     "shell.execute_reply": "2022-01-29T12:11:20.175238Z"
    },
    "papermill": {
     "duration": 0.047848,
     "end_time": "2022-01-29T12:11:20.175765",
     "exception": false,
     "start_time": "2022-01-29T12:11:20.127917",
     "status": "completed"
    },
    "tags": []
   },
   "outputs": [],
   "source": [
    "#hide\n",
    "dfc_cases = dft_cases.groupby(COL_REGION)[dt_today].sum()\n",
    "dfc_deaths = dft_deaths.groupby(COL_REGION)[dt_today].sum()\n",
    "# dfp_cases = dft_cases.groupby(COL_REGION)[dt_5day].sum()\n",
    "# dfp_deaths = dft_deaths.groupby(COL_REGION)[dt_5day].sum()\n",
    "dfp_cases = dft_cases.groupby(COL_REGION)[dt_yday].sum()\n",
    "dfp_deaths = dft_deaths.groupby(COL_REGION)[dt_yday].sum()"
   ]
  },
  {
   "cell_type": "code",
   "execution_count": 12,
   "id": "deluxe-hepatitis",
   "metadata": {
    "execution": {
     "iopub.execute_input": "2022-01-29T12:11:20.251386Z",
     "iopub.status.busy": "2022-01-29T12:11:20.250863Z",
     "iopub.status.idle": "2022-01-29T12:11:20.255392Z",
     "shell.execute_reply": "2022-01-29T12:11:20.255990Z"
    },
    "papermill": {
     "duration": 0.050321,
     "end_time": "2022-01-29T12:11:20.256119",
     "exception": false,
     "start_time": "2022-01-29T12:11:20.205798",
     "status": "completed"
    },
    "tags": []
   },
   "outputs": [],
   "source": [
    "#hide\n",
    "df_table = (pd.DataFrame(dict(Cases = dfc_cases, Deaths = dfc_deaths, PCases = dfp_cases, PDeaths = dfp_deaths))\n",
    "            .sort_values(by = ['Cases','Deaths'], ascending = [False, False])\n",
    "            .reset_index())"
   ]
  },
  {
   "cell_type": "code",
   "execution_count": 13,
   "id": "educational-chancellor",
   "metadata": {
    "execution": {
     "iopub.execute_input": "2022-01-29T12:11:20.337205Z",
     "iopub.status.busy": "2022-01-29T12:11:20.336548Z",
     "iopub.status.idle": "2022-01-29T12:11:20.346367Z",
     "shell.execute_reply": "2022-01-29T12:11:20.346825Z"
    },
    "papermill": {
     "duration": 0.060865,
     "end_time": "2022-01-29T12:11:20.346956",
     "exception": false,
     "start_time": "2022-01-29T12:11:20.286091",
     "status": "completed"
    },
    "tags": []
   },
   "outputs": [
    {
     "data": {
      "text/html": [
       "<div>\n",
       "<style scoped>\n",
       "    .dataframe tbody tr th:only-of-type {\n",
       "        vertical-align: middle;\n",
       "    }\n",
       "\n",
       "    .dataframe tbody tr th {\n",
       "        vertical-align: top;\n",
       "    }\n",
       "\n",
       "    .dataframe thead th {\n",
       "        text-align: right;\n",
       "    }\n",
       "</style>\n",
       "<table border=\"1\" class=\"dataframe\">\n",
       "  <thead>\n",
       "    <tr style=\"text-align: right;\">\n",
       "      <th></th>\n",
       "      <th>Country/Region</th>\n",
       "      <th>Cases</th>\n",
       "      <th>Deaths</th>\n",
       "      <th>PCases</th>\n",
       "      <th>PDeaths</th>\n",
       "      <th>Cases (+)</th>\n",
       "      <th>Deaths (+)</th>\n",
       "      <th>Fatality Rate</th>\n",
       "      <th>Continent</th>\n",
       "    </tr>\n",
       "  </thead>\n",
       "  <tbody>\n",
       "    <tr>\n",
       "      <th>0</th>\n",
       "      <td>US</td>\n",
       "      <td>74067112</td>\n",
       "      <td>882881</td>\n",
       "      <td>73424255</td>\n",
       "      <td>879006</td>\n",
       "      <td>642857</td>\n",
       "      <td>3875</td>\n",
       "      <td>1.19</td>\n",
       "      <td>North America</td>\n",
       "    </tr>\n",
       "    <tr>\n",
       "      <th>1</th>\n",
       "      <td>India</td>\n",
       "      <td>40858241</td>\n",
       "      <td>493198</td>\n",
       "      <td>40622709</td>\n",
       "      <td>492327</td>\n",
       "      <td>235532</td>\n",
       "      <td>871</td>\n",
       "      <td>1.21</td>\n",
       "      <td>Asia</td>\n",
       "    </tr>\n",
       "    <tr>\n",
       "      <th>2</th>\n",
       "      <td>Brazil</td>\n",
       "      <td>25050601</td>\n",
       "      <td>626170</td>\n",
       "      <td>24789795</td>\n",
       "      <td>625390</td>\n",
       "      <td>260806</td>\n",
       "      <td>780</td>\n",
       "      <td>2.50</td>\n",
       "      <td>South America</td>\n",
       "    </tr>\n",
       "    <tr>\n",
       "      <th>3</th>\n",
       "      <td>France</td>\n",
       "      <td>18596157</td>\n",
       "      <td>131271</td>\n",
       "      <td>18241888</td>\n",
       "      <td>131008</td>\n",
       "      <td>354269</td>\n",
       "      <td>263</td>\n",
       "      <td>0.71</td>\n",
       "      <td>Europe</td>\n",
       "    </tr>\n",
       "    <tr>\n",
       "      <th>4</th>\n",
       "      <td>United Kingdom</td>\n",
       "      <td>16447363</td>\n",
       "      <td>155841</td>\n",
       "      <td>16358047</td>\n",
       "      <td>155561</td>\n",
       "      <td>89316</td>\n",
       "      <td>280</td>\n",
       "      <td>0.95</td>\n",
       "      <td>Europe</td>\n",
       "    </tr>\n",
       "  </tbody>\n",
       "</table>\n",
       "</div>"
      ],
      "text/plain": [
       "   Country/Region     Cases  Deaths    PCases  PDeaths  Cases (+)  Deaths (+)  \\\n",
       "0              US  74067112  882881  73424255   879006     642857        3875   \n",
       "1           India  40858241  493198  40622709   492327     235532         871   \n",
       "2          Brazil  25050601  626170  24789795   625390     260806         780   \n",
       "3          France  18596157  131271  18241888   131008     354269         263   \n",
       "4  United Kingdom  16447363  155841  16358047   155561      89316         280   \n",
       "\n",
       "   Fatality Rate      Continent  \n",
       "0           1.19  North America  \n",
       "1           1.21           Asia  \n",
       "2           2.50  South America  \n",
       "3           0.71         Europe  \n",
       "4           0.95         Europe  "
      ]
     },
     "execution_count": 13,
     "metadata": {},
     "output_type": "execute_result"
    }
   ],
   "source": [
    "#hide\n",
    "for c in 'Cases, Deaths'.split(', '):\n",
    "    df_table[f'{c} (+)'] = (df_table[c] - df_table[f'P{c}']).clip(0)\n",
    "    #Clip ça veut dire, les chiffres negatif sont interdit\n",
    "df_table['Fatality Rate'] = (100* df_table['Deaths']/ df_table['Cases']).round(2)\n",
    "df_table['Continent'] = df_table['Country/Region'].map(mapping['map.continent'])\n",
    "df_table.head(5)"
   ]
  },
  {
   "cell_type": "code",
   "execution_count": 14,
   "id": "aboriginal-bulgaria",
   "metadata": {
    "execution": {
     "iopub.execute_input": "2022-01-29T12:11:20.413811Z",
     "iopub.status.busy": "2022-01-29T12:11:20.413291Z",
     "iopub.status.idle": "2022-01-29T12:11:20.416080Z",
     "shell.execute_reply": "2022-01-29T12:11:20.415658Z"
    },
    "papermill": {
     "duration": 0.037791,
     "end_time": "2022-01-29T12:11:20.416184",
     "exception": false,
     "start_time": "2022-01-29T12:11:20.378393",
     "status": "completed"
    },
    "tags": []
   },
   "outputs": [],
   "source": [
    "#hide\n",
    "#delete problematic countries from table\n",
    "df_table = df_table[~df_table['Country/Region'].isin(['Cape Verde', 'Cruise Ship', 'Kosovo'])]"
   ]
  },
  {
   "cell_type": "code",
   "execution_count": 15,
   "id": "fantastic-effect",
   "metadata": {
    "execution": {
     "iopub.execute_input": "2022-01-29T12:11:20.490140Z",
     "iopub.status.busy": "2022-01-29T12:11:20.489599Z",
     "iopub.status.idle": "2022-01-29T12:11:20.508560Z",
     "shell.execute_reply": "2022-01-29T12:11:20.509013Z"
    },
    "papermill": {
     "duration": 0.060058,
     "end_time": "2022-01-29T12:11:20.509131",
     "exception": false,
     "start_time": "2022-01-29T12:11:20.449073",
     "status": "completed"
    },
    "tags": []
   },
   "outputs": [
    {
     "data": {
      "text/html": [
       "<div>\n",
       "<style scoped>\n",
       "    .dataframe tbody tr th:only-of-type {\n",
       "        vertical-align: middle;\n",
       "    }\n",
       "\n",
       "    .dataframe tbody tr th {\n",
       "        vertical-align: top;\n",
       "    }\n",
       "\n",
       "    .dataframe thead th {\n",
       "        text-align: right;\n",
       "    }\n",
       "</style>\n",
       "<table border=\"1\" class=\"dataframe\">\n",
       "  <thead>\n",
       "    <tr style=\"text-align: right;\">\n",
       "      <th></th>\n",
       "      <th>Country/Region</th>\n",
       "      <th>Cases</th>\n",
       "      <th>Deaths</th>\n",
       "      <th>PCases</th>\n",
       "      <th>PDeaths</th>\n",
       "      <th>Cases (+)</th>\n",
       "      <th>Deaths (+)</th>\n",
       "      <th>Fatality Rate</th>\n",
       "      <th>Continent</th>\n",
       "    </tr>\n",
       "  </thead>\n",
       "  <tbody>\n",
       "    <tr>\n",
       "      <th>0</th>\n",
       "      <td>US</td>\n",
       "      <td>74067112</td>\n",
       "      <td>882881</td>\n",
       "      <td>73424255</td>\n",
       "      <td>879006</td>\n",
       "      <td>642857</td>\n",
       "      <td>3875</td>\n",
       "      <td>1.2</td>\n",
       "      <td>North America</td>\n",
       "    </tr>\n",
       "    <tr>\n",
       "      <th>1</th>\n",
       "      <td>India</td>\n",
       "      <td>40858241</td>\n",
       "      <td>493198</td>\n",
       "      <td>40622709</td>\n",
       "      <td>492327</td>\n",
       "      <td>235532</td>\n",
       "      <td>871</td>\n",
       "      <td>1.2</td>\n",
       "      <td>Asia</td>\n",
       "    </tr>\n",
       "    <tr>\n",
       "      <th>2</th>\n",
       "      <td>Brazil</td>\n",
       "      <td>25050601</td>\n",
       "      <td>626170</td>\n",
       "      <td>24789795</td>\n",
       "      <td>625390</td>\n",
       "      <td>260806</td>\n",
       "      <td>780</td>\n",
       "      <td>2.5</td>\n",
       "      <td>South America</td>\n",
       "    </tr>\n",
       "    <tr>\n",
       "      <th>3</th>\n",
       "      <td>France</td>\n",
       "      <td>18596157</td>\n",
       "      <td>131271</td>\n",
       "      <td>18241888</td>\n",
       "      <td>131008</td>\n",
       "      <td>354269</td>\n",
       "      <td>263</td>\n",
       "      <td>0.7</td>\n",
       "      <td>Europe</td>\n",
       "    </tr>\n",
       "    <tr>\n",
       "      <th>4</th>\n",
       "      <td>United Kingdom</td>\n",
       "      <td>16447363</td>\n",
       "      <td>155841</td>\n",
       "      <td>16358047</td>\n",
       "      <td>155561</td>\n",
       "      <td>89316</td>\n",
       "      <td>280</td>\n",
       "      <td>0.9</td>\n",
       "      <td>Europe</td>\n",
       "    </tr>\n",
       "  </tbody>\n",
       "</table>\n",
       "</div>"
      ],
      "text/plain": [
       "   Country/Region     Cases  Deaths    PCases  PDeaths  Cases (+)  Deaths (+)  \\\n",
       "0              US  74067112  882881  73424255   879006     642857        3875   \n",
       "1           India  40858241  493198  40622709   492327     235532         871   \n",
       "2          Brazil  25050601  626170  24789795   625390     260806         780   \n",
       "3          France  18596157  131271  18241888   131008     354269         263   \n",
       "4  United Kingdom  16447363  155841  16358047   155561      89316         280   \n",
       "\n",
       "   Fatality Rate      Continent  \n",
       "0            1.2  North America  \n",
       "1            1.2           Asia  \n",
       "2            2.5  South America  \n",
       "3            0.7         Europe  \n",
       "4            0.9         Europe  "
      ]
     },
     "execution_count": 15,
     "metadata": {},
     "output_type": "execute_result"
    }
   ],
   "source": [
    "#hide\n",
    "df_table = (pd.DataFrame(dict(Cases=dfc_cases, Deaths=dfc_deaths, PCases=dfp_cases, PDeaths=dfp_deaths))\n",
    "             .sort_values(by=['Cases', 'Deaths'], ascending=[False, False])\n",
    "             .reset_index())\n",
    "df_table.rename(columns={'index': 'Country/Region'}, inplace=True)\n",
    "for c in 'Cases, Deaths'.split(', '):\n",
    "    df_table[f'{c} (+)'] = (df_table[c] - df_table[f'P{c}']).clip(0)  # DATA BUG\n",
    "df_table['Fatality Rate'] = (100 * df_table['Deaths'] / df_table['Cases']).round(1)\n",
    "df_table['Continent'] = df_table['Country/Region'].map(mapping['map.continent'])\n",
    "df_table.head(5)"
   ]
  },
  {
   "cell_type": "code",
   "execution_count": 16,
   "id": "fewer-occasion",
   "metadata": {
    "execution": {
     "iopub.execute_input": "2022-01-29T12:11:20.584272Z",
     "iopub.status.busy": "2022-01-29T12:11:20.583726Z",
     "iopub.status.idle": "2022-01-29T12:11:20.585731Z",
     "shell.execute_reply": "2022-01-29T12:11:20.586312Z"
    },
    "papermill": {
     "duration": 0.044699,
     "end_time": "2022-01-29T12:11:20.586434",
     "exception": false,
     "start_time": "2022-01-29T12:11:20.541735",
     "status": "completed"
    },
    "tags": []
   },
   "outputs": [],
   "source": [
    "#hide\n",
    "#delete problematic countries from table\n",
    "df_table = df_table[~df_table['Country/Region'].isin(['Cape Verde', 'Cruise Ship', 'Kosovo'])]"
   ]
  },
  {
   "cell_type": "code",
   "execution_count": 17,
   "id": "related-center",
   "metadata": {
    "execution": {
     "iopub.execute_input": "2022-01-29T12:11:20.674032Z",
     "iopub.status.busy": "2022-01-29T12:11:20.673379Z",
     "iopub.status.idle": "2022-01-29T12:11:20.675645Z",
     "shell.execute_reply": "2022-01-29T12:11:20.676092Z"
    },
    "papermill": {
     "duration": 0.058415,
     "end_time": "2022-01-29T12:11:20.676208",
     "exception": false,
     "start_time": "2022-01-29T12:11:20.617793",
     "status": "completed"
    },
    "tags": []
   },
   "outputs": [],
   "source": [
    "#hide\n",
    "metrics = [df_table.columns[index] for index in [1,2,5,6]]\n",
    "# s_china = df_table[df_table['Country/Region'].eq('China')][metrics].sum().add_prefix('China ')\n",
    "s_us = df_table[df_table['Country/Region'].eq('US')][metrics].sum().add_prefix('US ')\n",
    "s_eu = df_table[df_table['Continent'].eq('Europe')][metrics].sum().add_prefix('EU ')\n",
    "s_ind = df_table[df_table['Country/Region'].eq('India')][metrics].sum().add_prefix('India ')\n",
    "summary = {'updated': pd.to_datetime(dt_today), 'since': pd.to_datetime(dt_yday)}\n",
    "summary = {'updated': pd.to_datetime(dt_today), 'since': pd.to_datetime(dt_yday)}\n",
    "summary = {**summary, **df_table[metrics].sum(), **s_ind, **s_us, **s_eu}"
   ]
  },
  {
   "cell_type": "code",
   "execution_count": 18,
   "id": "engaging-syndrome",
   "metadata": {
    "execution": {
     "iopub.execute_input": "2022-01-29T12:11:20.743600Z",
     "iopub.status.busy": "2022-01-29T12:11:20.743079Z",
     "iopub.status.idle": "2022-01-29T12:11:20.759608Z",
     "shell.execute_reply": "2022-01-29T12:11:20.759073Z"
    },
    "papermill": {
     "duration": 0.052811,
     "end_time": "2022-01-29T12:11:20.759710",
     "exception": false,
     "start_time": "2022-01-29T12:11:20.706899",
     "status": "completed"
    },
    "tags": []
   },
   "outputs": [],
   "source": [
    "#hide\n",
    "dft_ct_new_cases = dft_cases.groupby(COL_REGION)[dt_cols].sum().diff(axis=1).fillna(0).astype(int)"
   ]
  },
  {
   "cell_type": "code",
   "execution_count": 19,
   "id": "neutral-assignment",
   "metadata": {
    "execution": {
     "iopub.execute_input": "2022-01-29T12:11:20.829101Z",
     "iopub.status.busy": "2022-01-29T12:11:20.828518Z",
     "iopub.status.idle": "2022-01-29T12:11:20.830361Z",
     "shell.execute_reply": "2022-01-29T12:11:20.830839Z"
    },
    "papermill": {
     "duration": 0.040435,
     "end_time": "2022-01-29T12:11:20.831037",
     "exception": false,
     "start_time": "2022-01-29T12:11:20.790602",
     "status": "completed"
    },
    "tags": []
   },
   "outputs": [],
   "source": [
    "#hide\n",
    "everydaycases = dft_ct_new_cases.cumsum(axis=1)"
   ]
  },
  {
   "cell_type": "code",
   "execution_count": 20,
   "id": "parliamentary-calgary",
   "metadata": {
    "execution": {
     "iopub.execute_input": "2022-01-29T12:11:20.901104Z",
     "iopub.status.busy": "2022-01-29T12:11:20.900532Z",
     "iopub.status.idle": "2022-01-29T12:11:21.517365Z",
     "shell.execute_reply": "2022-01-29T12:11:21.516897Z"
    },
    "papermill": {
     "duration": 0.652012,
     "end_time": "2022-01-29T12:11:21.517491",
     "exception": false,
     "start_time": "2022-01-29T12:11:20.865479",
     "status": "completed"
    },
    "tags": []
   },
   "outputs": [],
   "source": [
    "#hide\n",
    "import pandas as pd\n",
    "import matplotlib.pyplot as plt\n",
    "import matplotlib.ticker as ticker\n",
    "import matplotlib.animation as animation\n",
    "from IPython.display import HTML"
   ]
  },
  {
   "cell_type": "code",
   "execution_count": 21,
   "id": "lasting-extraction",
   "metadata": {
    "execution": {
     "iopub.execute_input": "2022-01-29T12:11:21.584085Z",
     "iopub.status.busy": "2022-01-29T12:11:21.583538Z",
     "iopub.status.idle": "2022-01-29T12:11:21.592291Z",
     "shell.execute_reply": "2022-01-29T12:11:21.592693Z"
    },
    "papermill": {
     "duration": 0.042972,
     "end_time": "2022-01-29T12:11:21.592812",
     "exception": false,
     "start_time": "2022-01-29T12:11:21.549840",
     "status": "completed"
    },
    "tags": []
   },
   "outputs": [],
   "source": [
    "#hide\n",
    "t = everydaycases.stack()"
   ]
  },
  {
   "cell_type": "code",
   "execution_count": 22,
   "id": "premier-sleeve",
   "metadata": {
    "execution": {
     "iopub.execute_input": "2022-01-29T12:11:21.673426Z",
     "iopub.status.busy": "2022-01-29T12:11:21.672846Z",
     "iopub.status.idle": "2022-01-29T12:11:21.682652Z",
     "shell.execute_reply": "2022-01-29T12:11:21.683203Z"
    },
    "papermill": {
     "duration": 0.054902,
     "end_time": "2022-01-29T12:11:21.683327",
     "exception": false,
     "start_time": "2022-01-29T12:11:21.628425",
     "status": "completed"
    },
    "tags": []
   },
   "outputs": [],
   "source": [
    "#hide\n",
    "g = t.reset_index(['Country/Region'])"
   ]
  },
  {
   "cell_type": "code",
   "execution_count": 23,
   "id": "distributed-pittsburgh",
   "metadata": {
    "execution": {
     "iopub.execute_input": "2022-01-29T12:11:21.750825Z",
     "iopub.status.busy": "2022-01-29T12:11:21.750272Z",
     "iopub.status.idle": "2022-01-29T12:11:21.753842Z",
     "shell.execute_reply": "2022-01-29T12:11:21.753354Z"
    },
    "papermill": {
     "duration": 0.039065,
     "end_time": "2022-01-29T12:11:21.753977",
     "exception": false,
     "start_time": "2022-01-29T12:11:21.714912",
     "status": "completed"
    },
    "tags": []
   },
   "outputs": [],
   "source": [
    "#hide\n",
    "g.index.name = 'date'"
   ]
  },
  {
   "cell_type": "code",
   "execution_count": 24,
   "id": "naked-donor",
   "metadata": {
    "execution": {
     "iopub.execute_input": "2022-01-29T12:11:21.826195Z",
     "iopub.status.busy": "2022-01-29T12:11:21.825648Z",
     "iopub.status.idle": "2022-01-29T12:11:21.829438Z",
     "shell.execute_reply": "2022-01-29T12:11:21.828964Z"
    },
    "papermill": {
     "duration": 0.038336,
     "end_time": "2022-01-29T12:11:21.829542",
     "exception": false,
     "start_time": "2022-01-29T12:11:21.791206",
     "status": "completed"
    },
    "tags": []
   },
   "outputs": [],
   "source": [
    "# #hide\n",
    "# g = g.reset_index(['date'])"
   ]
  },
  {
   "cell_type": "code",
   "execution_count": 25,
   "id": "incomplete-mustang",
   "metadata": {
    "execution": {
     "iopub.execute_input": "2022-01-29T12:11:21.901509Z",
     "iopub.status.busy": "2022-01-29T12:11:21.900950Z",
     "iopub.status.idle": "2022-01-29T12:11:21.902599Z",
     "shell.execute_reply": "2022-01-29T12:11:21.903084Z"
    },
    "papermill": {
     "duration": 0.041246,
     "end_time": "2022-01-29T12:11:21.903224",
     "exception": false,
     "start_time": "2022-01-29T12:11:21.861978",
     "status": "completed"
    },
    "tags": []
   },
   "outputs": [],
   "source": [
    "#hide\n",
    "# g.head()"
   ]
  },
  {
   "cell_type": "code",
   "execution_count": 26,
   "id": "specific-kruger",
   "metadata": {
    "execution": {
     "iopub.execute_input": "2022-01-29T12:11:21.974441Z",
     "iopub.status.busy": "2022-01-29T12:11:21.973787Z",
     "iopub.status.idle": "2022-01-29T12:11:21.975688Z",
     "shell.execute_reply": "2022-01-29T12:11:21.976143Z"
    },
    "papermill": {
     "duration": 0.041827,
     "end_time": "2022-01-29T12:11:21.976302",
     "exception": false,
     "start_time": "2022-01-29T12:11:21.934475",
     "status": "completed"
    },
    "tags": []
   },
   "outputs": [],
   "source": [
    "#hide\n",
    "# g.columns = ['date','country','cases']"
   ]
  },
  {
   "cell_type": "code",
   "execution_count": 27,
   "id": "tender-conversion",
   "metadata": {
    "execution": {
     "iopub.execute_input": "2022-01-29T12:11:22.047138Z",
     "iopub.status.busy": "2022-01-29T12:11:22.046525Z",
     "iopub.status.idle": "2022-01-29T12:11:22.049778Z",
     "shell.execute_reply": "2022-01-29T12:11:22.049271Z"
    },
    "papermill": {
     "duration": 0.03906,
     "end_time": "2022-01-29T12:11:22.049930",
     "exception": false,
     "start_time": "2022-01-29T12:11:22.010870",
     "status": "completed"
    },
    "tags": []
   },
   "outputs": [],
   "source": [
    "#hide\n",
    "# g['continent'] = g.country"
   ]
  },
  {
   "cell_type": "code",
   "execution_count": 28,
   "id": "substantial-wilderness",
   "metadata": {
    "execution": {
     "iopub.execute_input": "2022-01-29T12:11:22.127866Z",
     "iopub.status.busy": "2022-01-29T12:11:22.127308Z",
     "iopub.status.idle": "2022-01-29T12:11:22.129380Z",
     "shell.execute_reply": "2022-01-29T12:11:22.129899Z"
    },
    "papermill": {
     "duration": 0.040991,
     "end_time": "2022-01-29T12:11:22.130016",
     "exception": false,
     "start_time": "2022-01-29T12:11:22.089025",
     "status": "completed"
    },
    "tags": []
   },
   "outputs": [],
   "source": [
    "#hide\n",
    "# cols = list(g.columns.values)"
   ]
  },
  {
   "cell_type": "code",
   "execution_count": 29,
   "id": "solved-farming",
   "metadata": {
    "execution": {
     "iopub.execute_input": "2022-01-29T12:11:22.203572Z",
     "iopub.status.busy": "2022-01-29T12:11:22.203020Z",
     "iopub.status.idle": "2022-01-29T12:11:22.204351Z",
     "shell.execute_reply": "2022-01-29T12:11:22.204797Z"
    },
    "papermill": {
     "duration": 0.038537,
     "end_time": "2022-01-29T12:11:22.204919",
     "exception": false,
     "start_time": "2022-01-29T12:11:22.166382",
     "status": "completed"
    },
    "tags": []
   },
   "outputs": [],
   "source": [
    "#hide\n",
    "# cols.insert(0, cols.pop())"
   ]
  },
  {
   "cell_type": "code",
   "execution_count": 30,
   "id": "executed-adoption",
   "metadata": {
    "execution": {
     "iopub.execute_input": "2022-01-29T12:11:22.286464Z",
     "iopub.status.busy": "2022-01-29T12:11:22.285692Z",
     "iopub.status.idle": "2022-01-29T12:11:22.289912Z",
     "shell.execute_reply": "2022-01-29T12:11:22.289403Z"
    },
    "papermill": {
     "duration": 0.052282,
     "end_time": "2022-01-29T12:11:22.290027",
     "exception": false,
     "start_time": "2022-01-29T12:11:22.237745",
     "status": "completed"
    },
    "tags": []
   },
   "outputs": [],
   "source": [
    "#hide\n",
    "# g = g[cols]"
   ]
  },
  {
   "cell_type": "code",
   "execution_count": 31,
   "id": "subject-dublin",
   "metadata": {
    "execution": {
     "iopub.execute_input": "2022-01-29T12:11:22.365660Z",
     "iopub.status.busy": "2022-01-29T12:11:22.364902Z",
     "iopub.status.idle": "2022-01-29T12:11:22.366573Z",
     "shell.execute_reply": "2022-01-29T12:11:22.367190Z"
    },
    "papermill": {
     "duration": 0.042199,
     "end_time": "2022-01-29T12:11:22.367326",
     "exception": false,
     "start_time": "2022-01-29T12:11:22.325127",
     "status": "completed"
    },
    "tags": []
   },
   "outputs": [],
   "source": [
    "#hide\n",
    "# g['continent'] = g['continent'].map(mapping['map.continent'])"
   ]
  },
  {
   "cell_type": "code",
   "execution_count": 32,
   "id": "freelance-scout",
   "metadata": {
    "execution": {
     "iopub.execute_input": "2022-01-29T12:11:22.440721Z",
     "iopub.status.busy": "2022-01-29T12:11:22.440154Z",
     "iopub.status.idle": "2022-01-29T12:11:22.442164Z",
     "shell.execute_reply": "2022-01-29T12:11:22.442607Z"
    },
    "papermill": {
     "duration": 0.039618,
     "end_time": "2022-01-29T12:11:22.442764",
     "exception": false,
     "start_time": "2022-01-29T12:11:22.403146",
     "status": "completed"
    },
    "tags": []
   },
   "outputs": [],
   "source": [
    "#hide\n",
    "# g.head()"
   ]
  },
  {
   "cell_type": "code",
   "execution_count": 33,
   "id": "limited-engine",
   "metadata": {
    "execution": {
     "iopub.execute_input": "2022-01-29T12:11:22.517176Z",
     "iopub.status.busy": "2022-01-29T12:11:22.516510Z",
     "iopub.status.idle": "2022-01-29T12:11:22.519941Z",
     "shell.execute_reply": "2022-01-29T12:11:22.520363Z"
    },
    "papermill": {
     "duration": 0.04254,
     "end_time": "2022-01-29T12:11:22.520480",
     "exception": false,
     "start_time": "2022-01-29T12:11:22.477940",
     "status": "completed"
    },
    "tags": []
   },
   "outputs": [],
   "source": [
    "# hide\n",
    "# g['date'] = g['date'].astype('datetime64[ns]')"
   ]
  },
  {
   "cell_type": "code",
   "execution_count": 34,
   "id": "sophisticated-supervisor",
   "metadata": {
    "execution": {
     "iopub.execute_input": "2022-01-29T12:11:22.589918Z",
     "iopub.status.busy": "2022-01-29T12:11:22.589158Z",
     "iopub.status.idle": "2022-01-29T12:11:22.593712Z",
     "shell.execute_reply": "2022-01-29T12:11:22.593184Z"
    },
    "papermill": {
     "duration": 0.040228,
     "end_time": "2022-01-29T12:11:22.593833",
     "exception": false,
     "start_time": "2022-01-29T12:11:22.553605",
     "status": "completed"
    },
    "tags": []
   },
   "outputs": [],
   "source": [
    "#hide\n",
    "# g['date'] = g.date.dt.dayofyear"
   ]
  },
  {
   "cell_type": "code",
   "execution_count": 35,
   "id": "inside-dubai",
   "metadata": {
    "execution": {
     "iopub.execute_input": "2022-01-29T12:11:22.664835Z",
     "iopub.status.busy": "2022-01-29T12:11:22.664315Z",
     "iopub.status.idle": "2022-01-29T12:11:22.666480Z",
     "shell.execute_reply": "2022-01-29T12:11:22.665968Z"
    },
    "papermill": {
     "duration": 0.036565,
     "end_time": "2022-01-29T12:11:22.666581",
     "exception": false,
     "start_time": "2022-01-29T12:11:22.630016",
     "status": "completed"
    },
    "tags": []
   },
   "outputs": [],
   "source": [
    "#hide\n",
    "# g = g.rename(columns= {'continent':'group','country':'name','cases':'value'})"
   ]
  },
  {
   "cell_type": "code",
   "execution_count": 36,
   "id": "fleet-motorcycle",
   "metadata": {
    "execution": {
     "iopub.execute_input": "2022-01-29T12:11:22.763925Z",
     "iopub.status.busy": "2022-01-29T12:11:22.762971Z",
     "iopub.status.idle": "2022-01-29T12:11:22.767588Z",
     "shell.execute_reply": "2022-01-29T12:11:22.766950Z"
    },
    "papermill": {
     "duration": 0.064479,
     "end_time": "2022-01-29T12:11:22.767726",
     "exception": false,
     "start_time": "2022-01-29T12:11:22.703247",
     "status": "completed"
    },
    "tags": []
   },
   "outputs": [],
   "source": [
    "#hide\n",
    "# cols = ['name','group','day','value']"
   ]
  },
  {
   "cell_type": "code",
   "execution_count": 37,
   "id": "continued-sleeping",
   "metadata": {
    "execution": {
     "iopub.execute_input": "2022-01-29T12:11:22.851211Z",
     "iopub.status.busy": "2022-01-29T12:11:22.850614Z",
     "iopub.status.idle": "2022-01-29T12:11:22.852818Z",
     "shell.execute_reply": "2022-01-29T12:11:22.852192Z"
    },
    "papermill": {
     "duration": 0.042012,
     "end_time": "2022-01-29T12:11:22.852968",
     "exception": false,
     "start_time": "2022-01-29T12:11:22.810956",
     "status": "completed"
    },
    "tags": []
   },
   "outputs": [],
   "source": [
    "#hide\n",
    "# g.rename(columns= {'date':'day'},inplace = True)"
   ]
  },
  {
   "cell_type": "code",
   "execution_count": 38,
   "id": "major-fight",
   "metadata": {
    "execution": {
     "iopub.execute_input": "2022-01-29T12:11:22.922497Z",
     "iopub.status.busy": "2022-01-29T12:11:22.921958Z",
     "iopub.status.idle": "2022-01-29T12:11:22.923963Z",
     "shell.execute_reply": "2022-01-29T12:11:22.924403Z"
    },
    "papermill": {
     "duration": 0.03873,
     "end_time": "2022-01-29T12:11:22.924527",
     "exception": false,
     "start_time": "2022-01-29T12:11:22.885797",
     "status": "completed"
    },
    "tags": []
   },
   "outputs": [],
   "source": [
    "#hide\n",
    "# g = g[cols]"
   ]
  },
  {
   "cell_type": "code",
   "execution_count": 39,
   "id": "structured-mobile",
   "metadata": {
    "execution": {
     "iopub.execute_input": "2022-01-29T12:11:22.998126Z",
     "iopub.status.busy": "2022-01-29T12:11:22.997385Z",
     "iopub.status.idle": "2022-01-29T12:11:23.001730Z",
     "shell.execute_reply": "2022-01-29T12:11:23.001087Z"
    },
    "papermill": {
     "duration": 0.045489,
     "end_time": "2022-01-29T12:11:23.001868",
     "exception": false,
     "start_time": "2022-01-29T12:11:22.956379",
     "status": "completed"
    },
    "tags": []
   },
   "outputs": [],
   "source": [
    "# #hide\n",
    "# g = g[g.group.notna()]"
   ]
  },
  {
   "cell_type": "code",
   "execution_count": 40,
   "id": "determined-closing",
   "metadata": {
    "execution": {
     "iopub.execute_input": "2022-01-29T12:11:23.089059Z",
     "iopub.status.busy": "2022-01-29T12:11:23.088393Z",
     "iopub.status.idle": "2022-01-29T12:11:23.090530Z",
     "shell.execute_reply": "2022-01-29T12:11:23.091122Z"
    },
    "papermill": {
     "duration": 0.05062,
     "end_time": "2022-01-29T12:11:23.091261",
     "exception": false,
     "start_time": "2022-01-29T12:11:23.040641",
     "status": "completed"
    },
    "tags": []
   },
   "outputs": [],
   "source": [
    "# #hide\n",
    "# colors = dict(zip(\n",
    "#     [\"Oceania\", \"Europe\", \"Asia\", \"South America\", \"Middle East\", \"North America\", \"Africa\"],\n",
    "#     [\"#adb0ff\", \"#ffb3ff\", \"#90d595\", \"#e48381\", \"#aafbff\", \"#f7bb5f\", \"#eafb50\"]\n",
    "# ))\n",
    "# group_lk = g.set_index('name')['group'].to_dict()"
   ]
  },
  {
   "cell_type": "code",
   "execution_count": null,
   "id": "gross-drinking",
   "metadata": {
    "papermill": {
     "duration": 0.034565,
     "end_time": "2022-01-29T12:11:23.163899",
     "exception": false,
     "start_time": "2022-01-29T12:11:23.129334",
     "status": "completed"
    },
    "tags": []
   },
   "outputs": [],
   "source": []
  },
  {
   "cell_type": "code",
   "execution_count": 41,
   "id": "subject-macintosh",
   "metadata": {
    "execution": {
     "iopub.execute_input": "2022-01-29T12:11:23.237023Z",
     "iopub.status.busy": "2022-01-29T12:11:23.236480Z",
     "iopub.status.idle": "2022-01-29T12:11:23.238759Z",
     "shell.execute_reply": "2022-01-29T12:11:23.238314Z"
    },
    "papermill": {
     "duration": 0.040238,
     "end_time": "2022-01-29T12:11:23.238870",
     "exception": false,
     "start_time": "2022-01-29T12:11:23.198632",
     "status": "completed"
    },
    "tags": []
   },
   "outputs": [],
   "source": [
    "# #hide\n",
    "# fig, ax = plt.subplots(figsize=(15, 8))\n",
    "\n",
    "# def draw_barchart(current_day):\n",
    "#     dff = g[g['day'].eq(current_day)].sort_values(by='value', ascending=True).tail(10)\n",
    "#     ax.clear()\n",
    "#     ax.barh(dff['name'], dff['value'], color=[colors[group_lk[x]] for x in dff['name']])\n",
    "#     dx = dff['value'].max() / 200\n",
    "    \n",
    "#     for i, (value, name) in enumerate(zip(dff['value'], dff['name'])):\n",
    "#         ax.text(value-dx, i,     name,           size=14, weight=600, ha='right', va='bottom')\n",
    "#         ax.text(value-dx, i-.25, group_lk[name], size=10, color='#444444', ha='right', va='baseline')\n",
    "#         ax.text(value+dx, i,     f'{value:,.0f}',  size=14, ha='left',  va='center')\n",
    "#     ax.text(1, 0.4, current_day, transform=ax.transAxes, color='#777777', size=46, ha='right', weight=800)\n",
    "#     ax.text(0, 1.06, 'Population (thousands)', transform=ax.transAxes, size=12, color='#777777')\n",
    "#     ax.xaxis.set_major_formatter(ticker.StrMethodFormatter('{x:,.0f}'))\n",
    "#     ax.xaxis.set_ticks_position('top')\n",
    "#     ax.tick_params(axis='x', colors='#777777', labelsize=12)\n",
    "#     ax.set_yticks([])\n",
    "#     ax.margins(0, 0.01)\n",
    "#     ax.grid(which='major', axis='x', linestyle='-')\n",
    "#     ax.set_axisbelow(True)\n",
    "    \n",
    "#     ax.text(0, 1.15, 'Coronavirus',\n",
    "#             transform=ax.transAxes, size=24, weight=600, ha='left', va='top')\n",
    "# #     ax.text(1, 0, 'by @pratapvardhan; credit @jburnmurdoch', transform=ax.transAxes, color='#777777', ha='right',\n",
    "# #             bbox=dict(facecolor='white', alpha=0.8, edgecolor='white'))\n",
    "#     plt.box(False)"
   ]
  },
  {
   "cell_type": "code",
   "execution_count": 42,
   "id": "sexual-wages",
   "metadata": {
    "execution": {
     "iopub.execute_input": "2022-01-29T12:11:23.314026Z",
     "iopub.status.busy": "2022-01-29T12:11:23.313406Z",
     "iopub.status.idle": "2022-01-29T12:11:23.315678Z",
     "shell.execute_reply": "2022-01-29T12:11:23.316174Z"
    },
    "papermill": {
     "duration": 0.042417,
     "end_time": "2022-01-29T12:11:23.316293",
     "exception": false,
     "start_time": "2022-01-29T12:11:23.273876",
     "status": "completed"
    },
    "tags": []
   },
   "outputs": [],
   "source": [
    "# #hide_input\n",
    "# fig, ax = plt.subplots(figsize=(15, 8))\n",
    "# animator = animation.FuncAnimation(fig, draw_barchart, frames=range(g.day.values.min(), g.day.values.max()))\n",
    "# HTML(animator.to_jshtml())\n",
    "# # or use animator.to_html5_video() or animator.save() "
   ]
  },
  {
   "cell_type": "code",
   "execution_count": null,
   "id": "australian-container",
   "metadata": {
    "papermill": {
     "duration": 0.032766,
     "end_time": "2022-01-29T12:11:23.379966",
     "exception": false,
     "start_time": "2022-01-29T12:11:23.347200",
     "status": "completed"
    },
    "tags": []
   },
   "outputs": [],
   "source": []
  },
  {
   "cell_type": "code",
   "execution_count": null,
   "id": "mediterranean-pontiac",
   "metadata": {
    "papermill": {
     "duration": 0.03483,
     "end_time": "2022-01-29T12:11:23.446948",
     "exception": false,
     "start_time": "2022-01-29T12:11:23.412118",
     "status": "completed"
    },
    "tags": []
   },
   "outputs": [],
   "source": []
  },
  {
   "cell_type": "code",
   "execution_count": null,
   "id": "aging-legislature",
   "metadata": {
    "papermill": {
     "duration": 0.037283,
     "end_time": "2022-01-29T12:11:23.522111",
     "exception": false,
     "start_time": "2022-01-29T12:11:23.484828",
     "status": "completed"
    },
    "tags": []
   },
   "outputs": [],
   "source": []
  }
 ],
 "metadata": {
  "kernelspec": {
   "display_name": "Python 3",
   "language": "python",
   "name": "python3"
  },
  "language_info": {
   "codemirror_mode": {
    "name": "ipython",
    "version": 3
   },
   "file_extension": ".py",
   "mimetype": "text/x-python",
   "name": "python",
   "nbconvert_exporter": "python",
   "pygments_lexer": "ipython3",
   "version": "3.6.15"
  },
  "papermill": {
   "duration": 6.653327,
   "end_time": "2022-01-29T12:11:23.872689",
   "environment_variables": {},
   "exception": null,
   "input_path": "2020-03-21-covid19exp.ipynb",
   "output_path": "2020-03-21-covid19exp.ipynb",
   "parameters": {},
   "start_time": "2022-01-29T12:11:17.219362",
   "version": "2.0.0"
  }
 },
 "nbformat": 4,
 "nbformat_minor": 5
}