{
 "cells": [
  {
   "cell_type": "markdown",
   "metadata": {
    "papermill": {
     "duration": 0.029756,
     "end_time": "2021-01-02T00:20:53.480045",
     "exception": false,
     "start_time": "2021-01-02T00:20:53.450289",
     "status": "completed"
    },
    "tags": []
   },
   "source": [
    "# COVID-19 Case Race\n",
    "> A race chart to see rising cases around the world\n",
    "\n",
    "- author: Hargun Oberoi\n",
    "- image: images/covid-overview.png\n",
    "- hide: false\n",
    "- badges: false"
   ]
  },
  {
   "cell_type": "code",
   "execution_count": 1,
   "metadata": {
    "execution": {
     "iopub.execute_input": "2021-01-02T00:20:53.544264Z",
     "iopub.status.busy": "2021-01-02T00:20:53.543750Z",
     "iopub.status.idle": "2021-01-02T00:20:53.836269Z",
     "shell.execute_reply": "2021-01-02T00:20:53.835747Z"
    },
    "papermill": {
     "duration": 0.329579,
     "end_time": "2021-01-02T00:20:53.836421",
     "exception": false,
     "start_time": "2021-01-02T00:20:53.506842",
     "status": "completed"
    },
    "tags": []
   },
   "outputs": [],
   "source": [
    "#hide\n",
    "import numpy as np\n",
    "import pandas as pd\n",
    "from jinja2 import Template\n",
    "from IPython.display import HTML"
   ]
  },
  {
   "cell_type": "code",
   "execution_count": 2,
   "metadata": {
    "execution": {
     "iopub.execute_input": "2021-01-02T00:20:53.894237Z",
     "iopub.status.busy": "2021-01-02T00:20:53.893615Z",
     "iopub.status.idle": "2021-01-02T00:20:53.894995Z",
     "shell.execute_reply": "2021-01-02T00:20:53.895482Z"
    },
    "papermill": {
     "duration": 0.032541,
     "end_time": "2021-01-02T00:20:53.895626",
     "exception": false,
     "start_time": "2021-01-02T00:20:53.863085",
     "status": "completed"
    },
    "tags": []
   },
   "outputs": [],
   "source": [
    "#hide\n",
    "\n",
    "# FETCH\n",
    "base_url = 'https://raw.githubusercontent.com/pratapvardhan/notebooks/master/covid19/'\n",
    "paths = {\n",
    "    'mapping': base_url + 'mapping_countries.csv',\n",
    "    'overview': base_url + 'overview.tpl'\n",
    "}"
   ]
  },
  {
   "cell_type": "code",
   "execution_count": 3,
   "metadata": {
    "execution": {
     "iopub.execute_input": "2021-01-02T00:20:53.958607Z",
     "iopub.status.busy": "2021-01-02T00:20:53.958021Z",
     "iopub.status.idle": "2021-01-02T00:20:53.960040Z",
     "shell.execute_reply": "2021-01-02T00:20:53.960438Z"
    },
    "papermill": {
     "duration": 0.03817,
     "end_time": "2021-01-02T00:20:53.960566",
     "exception": false,
     "start_time": "2021-01-02T00:20:53.922396",
     "status": "completed"
    },
    "tags": []
   },
   "outputs": [
    {
     "data": {
      "text/plain": [
       "'https://raw.githubusercontent.com/pratapvardhan/notebooks/master/covid19/mapping_countries.csv'"
      ]
     },
     "execution_count": 3,
     "metadata": {},
     "output_type": "execute_result"
    }
   ],
   "source": [
    "#hide\n",
    "paths['mapping']"
   ]
  },
  {
   "cell_type": "code",
   "execution_count": 4,
   "metadata": {
    "execution": {
     "iopub.execute_input": "2021-01-02T00:20:54.019741Z",
     "iopub.status.busy": "2021-01-02T00:20:54.019225Z",
     "iopub.status.idle": "2021-01-02T00:20:54.021431Z",
     "shell.execute_reply": "2021-01-02T00:20:54.021001Z"
    },
    "papermill": {
     "duration": 0.034083,
     "end_time": "2021-01-02T00:20:54.021550",
     "exception": false,
     "start_time": "2021-01-02T00:20:53.987467",
     "status": "completed"
    },
    "tags": []
   },
   "outputs": [],
   "source": [
    "#hide\n",
    "def get_mappings(url):\n",
    "    df = pd.read_csv(url)\n",
    "    return {\n",
    "        'df': df,\n",
    "        'replace.country': dict(df.dropna(subset=['Name']).set_index('Country')['Name']),\n",
    "        'map.continent': dict(df.set_index('Name')['Continent'])\n",
    "    }"
   ]
  },
  {
   "cell_type": "code",
   "execution_count": 5,
   "metadata": {
    "execution": {
     "iopub.execute_input": "2021-01-02T00:20:54.079651Z",
     "iopub.status.busy": "2021-01-02T00:20:54.079144Z",
     "iopub.status.idle": "2021-01-02T00:20:54.128969Z",
     "shell.execute_reply": "2021-01-02T00:20:54.128496Z"
    },
    "papermill": {
     "duration": 0.080995,
     "end_time": "2021-01-02T00:20:54.129100",
     "exception": false,
     "start_time": "2021-01-02T00:20:54.048105",
     "status": "completed"
    },
    "tags": []
   },
   "outputs": [],
   "source": [
    "#hide\n",
    "mapping = get_mappings(paths['mapping'])"
   ]
  },
  {
   "cell_type": "code",
   "execution_count": 6,
   "metadata": {
    "execution": {
     "iopub.execute_input": "2021-01-02T00:20:54.187430Z",
     "iopub.status.busy": "2021-01-02T00:20:54.186899Z",
     "iopub.status.idle": "2021-01-02T00:20:54.189006Z",
     "shell.execute_reply": "2021-01-02T00:20:54.188577Z"
    },
    "papermill": {
     "duration": 0.032942,
     "end_time": "2021-01-02T00:20:54.189117",
     "exception": false,
     "start_time": "2021-01-02T00:20:54.156175",
     "status": "completed"
    },
    "tags": []
   },
   "outputs": [],
   "source": [
    "#hide\n",
    "def get_template(path):\n",
    "    from urllib.parse import urlparse\n",
    "    if bool(urlparse(path).netloc):\n",
    "        from urllib.request import urlopen\n",
    "        return urlopen(path).read().decode('utf8')\n",
    "    return open(path).read()"
   ]
  },
  {
   "cell_type": "code",
   "execution_count": 7,
   "metadata": {
    "execution": {
     "iopub.execute_input": "2021-01-02T00:20:54.246395Z",
     "iopub.status.busy": "2021-01-02T00:20:54.245876Z",
     "iopub.status.idle": "2021-01-02T00:20:54.247962Z",
     "shell.execute_reply": "2021-01-02T00:20:54.247542Z"
    },
    "papermill": {
     "duration": 0.032617,
     "end_time": "2021-01-02T00:20:54.248068",
     "exception": false,
     "start_time": "2021-01-02T00:20:54.215451",
     "status": "completed"
    },
    "tags": []
   },
   "outputs": [],
   "source": [
    "#hide\n",
    "def get_frame(name):\n",
    "    url = (\n",
    "        'https://raw.githubusercontent.com/CSSEGISandData/COVID-19/master/csse_covid_19_data/'\n",
    "        f'csse_covid_19_time_series/time_series_covid19_{name}_global.csv')\n",
    "    df = pd.read_csv(url)\n",
    "    # rename countries\n",
    "    df['Country/Region'] = df['Country/Region'].replace(mapping['replace.country'])\n",
    "    return df"
   ]
  },
  {
   "cell_type": "code",
   "execution_count": 8,
   "metadata": {
    "execution": {
     "iopub.execute_input": "2021-01-02T00:20:54.306949Z",
     "iopub.status.busy": "2021-01-02T00:20:54.306351Z",
     "iopub.status.idle": "2021-01-02T00:20:54.307725Z",
     "shell.execute_reply": "2021-01-02T00:20:54.308151Z"
    },
    "papermill": {
     "duration": 0.033652,
     "end_time": "2021-01-02T00:20:54.308275",
     "exception": false,
     "start_time": "2021-01-02T00:20:54.274623",
     "status": "completed"
    },
    "tags": []
   },
   "outputs": [],
   "source": [
    "#hide\n",
    "def get_dates(df):\n",
    "    dt_cols = df.columns[~df.columns.isin(['Province/State', 'Country/Region', 'Lat', 'Long'])]\n",
    "    LAST_DATE_I = -1\n",
    "    # sometimes last column may be empty, then go backwards\n",
    "    for i in range(-1, -len(dt_cols), -1):\n",
    "        if not df[dt_cols[i]].fillna(0).eq(0).all():\n",
    "            LAST_DATE_I = i\n",
    "            break\n",
    "    return LAST_DATE_I, dt_cols"
   ]
  },
  {
   "cell_type": "code",
   "execution_count": 9,
   "metadata": {
    "execution": {
     "iopub.execute_input": "2021-01-02T00:20:54.365561Z",
     "iopub.status.busy": "2021-01-02T00:20:54.365006Z",
     "iopub.status.idle": "2021-01-02T00:20:54.724461Z",
     "shell.execute_reply": "2021-01-02T00:20:54.723976Z"
    },
    "papermill": {
     "duration": 0.390065,
     "end_time": "2021-01-02T00:20:54.724584",
     "exception": false,
     "start_time": "2021-01-02T00:20:54.334519",
     "status": "completed"
    },
    "tags": []
   },
   "outputs": [],
   "source": [
    "#hide\n",
    "COL_REGION = 'Country/Region'\n",
    "# Confirmed, Recovered, Deaths\n",
    "df = get_frame('confirmed')\n",
    "# dft_: timeseries, dfc_: today country agg\n",
    "dft_cases = df\n",
    "dft_deaths = get_frame('deaths')\n",
    "dft_recovered = get_frame('recovered')\n",
    "LAST_DATE_I, dt_cols = get_dates(df)"
   ]
  },
  {
   "cell_type": "code",
   "execution_count": 10,
   "metadata": {
    "execution": {
     "iopub.execute_input": "2021-01-02T00:20:54.783708Z",
     "iopub.status.busy": "2021-01-02T00:20:54.783095Z",
     "iopub.status.idle": "2021-01-02T00:20:54.784562Z",
     "shell.execute_reply": "2021-01-02T00:20:54.784942Z"
    },
    "papermill": {
     "duration": 0.033474,
     "end_time": "2021-01-02T00:20:54.785079",
     "exception": false,
     "start_time": "2021-01-02T00:20:54.751605",
     "status": "completed"
    },
    "tags": []
   },
   "outputs": [],
   "source": [
    "#hide\n",
    "LAST_DATE_I, dt_cols = get_dates(df)\n",
    "dt_today =dt_cols[LAST_DATE_I]\n",
    "# dt_5day = dt_cols[LAST_DATE_I - 5]\n",
    "dt_yday = dt_cols[LAST_DATE_I - 1]"
   ]
  },
  {
   "cell_type": "code",
   "execution_count": 11,
   "metadata": {
    "execution": {
     "iopub.execute_input": "2021-01-02T00:20:54.844293Z",
     "iopub.status.busy": "2021-01-02T00:20:54.843787Z",
     "iopub.status.idle": "2021-01-02T00:20:54.850556Z",
     "shell.execute_reply": "2021-01-02T00:20:54.850985Z"
    },
    "papermill": {
     "duration": 0.03933,
     "end_time": "2021-01-02T00:20:54.851112",
     "exception": false,
     "start_time": "2021-01-02T00:20:54.811782",
     "status": "completed"
    },
    "tags": []
   },
   "outputs": [],
   "source": [
    "#hide\n",
    "dfc_cases = dft_cases.groupby(COL_REGION)[dt_today].sum()\n",
    "dfc_deaths = dft_deaths.groupby(COL_REGION)[dt_today].sum()\n",
    "# dfp_cases = dft_cases.groupby(COL_REGION)[dt_5day].sum()\n",
    "# dfp_deaths = dft_deaths.groupby(COL_REGION)[dt_5day].sum()\n",
    "dfp_cases = dft_cases.groupby(COL_REGION)[dt_yday].sum()\n",
    "dfp_deaths = dft_deaths.groupby(COL_REGION)[dt_yday].sum()"
   ]
  },
  {
   "cell_type": "code",
   "execution_count": 12,
   "metadata": {
    "execution": {
     "iopub.execute_input": "2021-01-02T00:20:54.909919Z",
     "iopub.status.busy": "2021-01-02T00:20:54.909415Z",
     "iopub.status.idle": "2021-01-02T00:20:54.912852Z",
     "shell.execute_reply": "2021-01-02T00:20:54.913343Z"
    },
    "papermill": {
     "duration": 0.035917,
     "end_time": "2021-01-02T00:20:54.913472",
     "exception": false,
     "start_time": "2021-01-02T00:20:54.877555",
     "status": "completed"
    },
    "tags": []
   },
   "outputs": [],
   "source": [
    "#hide\n",
    "df_table = (pd.DataFrame(dict(Cases = dfc_cases, Deaths = dfc_deaths, PCases = dfp_cases, PDeaths = dfp_deaths))\n",
    "            .sort_values(by = ['Cases','Deaths'], ascending = [False, False])\n",
    "            .reset_index())"
   ]
  },
  {
   "cell_type": "code",
   "execution_count": 13,
   "metadata": {
    "execution": {
     "iopub.execute_input": "2021-01-02T00:20:54.983089Z",
     "iopub.status.busy": "2021-01-02T00:20:54.982592Z",
     "iopub.status.idle": "2021-01-02T00:20:54.989025Z",
     "shell.execute_reply": "2021-01-02T00:20:54.989509Z"
    },
    "papermill": {
     "duration": 0.049844,
     "end_time": "2021-01-02T00:20:54.989635",
     "exception": false,
     "start_time": "2021-01-02T00:20:54.939791",
     "status": "completed"
    },
    "tags": []
   },
   "outputs": [
    {
     "data": {
      "text/html": [
       "<div>\n",
       "<style scoped>\n",
       "    .dataframe tbody tr th:only-of-type {\n",
       "        vertical-align: middle;\n",
       "    }\n",
       "\n",
       "    .dataframe tbody tr th {\n",
       "        vertical-align: top;\n",
       "    }\n",
       "\n",
       "    .dataframe thead th {\n",
       "        text-align: right;\n",
       "    }\n",
       "</style>\n",
       "<table border=\"1\" class=\"dataframe\">\n",
       "  <thead>\n",
       "    <tr style=\"text-align: right;\">\n",
       "      <th></th>\n",
       "      <th>Country/Region</th>\n",
       "      <th>Cases</th>\n",
       "      <th>Deaths</th>\n",
       "      <th>PCases</th>\n",
       "      <th>PDeaths</th>\n",
       "      <th>Cases (+)</th>\n",
       "      <th>Deaths (+)</th>\n",
       "      <th>Fatality Rate</th>\n",
       "      <th>Continent</th>\n",
       "    </tr>\n",
       "  </thead>\n",
       "  <tbody>\n",
       "    <tr>\n",
       "      <th>0</th>\n",
       "      <td>US</td>\n",
       "      <td>19968087</td>\n",
       "      <td>345737</td>\n",
       "      <td>19740772</td>\n",
       "      <td>342318</td>\n",
       "      <td>227315</td>\n",
       "      <td>3419</td>\n",
       "      <td>1.73</td>\n",
       "      <td>North America</td>\n",
       "    </tr>\n",
       "    <tr>\n",
       "      <th>1</th>\n",
       "      <td>India</td>\n",
       "      <td>10266674</td>\n",
       "      <td>148738</td>\n",
       "      <td>10266674</td>\n",
       "      <td>148738</td>\n",
       "      <td>0</td>\n",
       "      <td>0</td>\n",
       "      <td>1.45</td>\n",
       "      <td>Asia</td>\n",
       "    </tr>\n",
       "    <tr>\n",
       "      <th>2</th>\n",
       "      <td>Brazil</td>\n",
       "      <td>7675973</td>\n",
       "      <td>194949</td>\n",
       "      <td>7619200</td>\n",
       "      <td>193875</td>\n",
       "      <td>56773</td>\n",
       "      <td>1074</td>\n",
       "      <td>2.54</td>\n",
       "      <td>South America</td>\n",
       "    </tr>\n",
       "    <tr>\n",
       "      <th>3</th>\n",
       "      <td>Russia</td>\n",
       "      <td>3127347</td>\n",
       "      <td>56271</td>\n",
       "      <td>3100018</td>\n",
       "      <td>55692</td>\n",
       "      <td>27329</td>\n",
       "      <td>579</td>\n",
       "      <td>1.80</td>\n",
       "      <td>Europe</td>\n",
       "    </tr>\n",
       "    <tr>\n",
       "      <th>4</th>\n",
       "      <td>France</td>\n",
       "      <td>2677666</td>\n",
       "      <td>64759</td>\n",
       "      <td>2657624</td>\n",
       "      <td>64508</td>\n",
       "      <td>20042</td>\n",
       "      <td>251</td>\n",
       "      <td>2.42</td>\n",
       "      <td>Europe</td>\n",
       "    </tr>\n",
       "  </tbody>\n",
       "</table>\n",
       "</div>"
      ],
      "text/plain": [
       "  Country/Region     Cases  Deaths    PCases  PDeaths  Cases (+)  Deaths (+)  \\\n",
       "0             US  19968087  345737  19740772   342318     227315        3419   \n",
       "1          India  10266674  148738  10266674   148738          0           0   \n",
       "2         Brazil   7675973  194949   7619200   193875      56773        1074   \n",
       "3         Russia   3127347   56271   3100018    55692      27329         579   \n",
       "4         France   2677666   64759   2657624    64508      20042         251   \n",
       "\n",
       "   Fatality Rate      Continent  \n",
       "0           1.73  North America  \n",
       "1           1.45           Asia  \n",
       "2           2.54  South America  \n",
       "3           1.80         Europe  \n",
       "4           2.42         Europe  "
      ]
     },
     "execution_count": 13,
     "metadata": {},
     "output_type": "execute_result"
    }
   ],
   "source": [
    "#hide\n",
    "for c in 'Cases, Deaths'.split(', '):\n",
    "    df_table[f'{c} (+)'] = (df_table[c] - df_table[f'P{c}']).clip(0)\n",
    "    #Clip ça veut dire, les chiffres negatif sont interdit\n",
    "df_table['Fatality Rate'] = (100* df_table['Deaths']/ df_table['Cases']).round(2)\n",
    "df_table['Continent'] = df_table['Country/Region'].map(mapping['map.continent'])\n",
    "df_table.head(5)"
   ]
  },
  {
   "cell_type": "code",
   "execution_count": 14,
   "metadata": {
    "execution": {
     "iopub.execute_input": "2021-01-02T00:20:55.047903Z",
     "iopub.status.busy": "2021-01-02T00:20:55.047410Z",
     "iopub.status.idle": "2021-01-02T00:20:55.049776Z",
     "shell.execute_reply": "2021-01-02T00:20:55.050174Z"
    },
    "papermill": {
     "duration": 0.033823,
     "end_time": "2021-01-02T00:20:55.050295",
     "exception": false,
     "start_time": "2021-01-02T00:20:55.016472",
     "status": "completed"
    },
    "tags": []
   },
   "outputs": [],
   "source": [
    "#hide\n",
    "#delete problematic countries from table\n",
    "df_table = df_table[~df_table['Country/Region'].isin(['Cape Verde', 'Cruise Ship', 'Kosovo'])]"
   ]
  },
  {
   "cell_type": "code",
   "execution_count": 15,
   "metadata": {
    "execution": {
     "iopub.execute_input": "2021-01-02T00:20:55.111441Z",
     "iopub.status.busy": "2021-01-02T00:20:55.110932Z",
     "iopub.status.idle": "2021-01-02T00:20:55.127121Z",
     "shell.execute_reply": "2021-01-02T00:20:55.126719Z"
    },
    "papermill": {
     "duration": 0.050262,
     "end_time": "2021-01-02T00:20:55.127234",
     "exception": false,
     "start_time": "2021-01-02T00:20:55.076972",
     "status": "completed"
    },
    "tags": []
   },
   "outputs": [
    {
     "data": {
      "text/html": [
       "<div>\n",
       "<style scoped>\n",
       "    .dataframe tbody tr th:only-of-type {\n",
       "        vertical-align: middle;\n",
       "    }\n",
       "\n",
       "    .dataframe tbody tr th {\n",
       "        vertical-align: top;\n",
       "    }\n",
       "\n",
       "    .dataframe thead th {\n",
       "        text-align: right;\n",
       "    }\n",
       "</style>\n",
       "<table border=\"1\" class=\"dataframe\">\n",
       "  <thead>\n",
       "    <tr style=\"text-align: right;\">\n",
       "      <th></th>\n",
       "      <th>Country/Region</th>\n",
       "      <th>Cases</th>\n",
       "      <th>Deaths</th>\n",
       "      <th>PCases</th>\n",
       "      <th>PDeaths</th>\n",
       "      <th>Cases (+)</th>\n",
       "      <th>Deaths (+)</th>\n",
       "      <th>Fatality Rate</th>\n",
       "      <th>Continent</th>\n",
       "    </tr>\n",
       "  </thead>\n",
       "  <tbody>\n",
       "    <tr>\n",
       "      <th>0</th>\n",
       "      <td>US</td>\n",
       "      <td>19968087</td>\n",
       "      <td>345737</td>\n",
       "      <td>19740772</td>\n",
       "      <td>342318</td>\n",
       "      <td>227315</td>\n",
       "      <td>3419</td>\n",
       "      <td>1.7</td>\n",
       "      <td>North America</td>\n",
       "    </tr>\n",
       "    <tr>\n",
       "      <th>1</th>\n",
       "      <td>India</td>\n",
       "      <td>10266674</td>\n",
       "      <td>148738</td>\n",
       "      <td>10266674</td>\n",
       "      <td>148738</td>\n",
       "      <td>0</td>\n",
       "      <td>0</td>\n",
       "      <td>1.4</td>\n",
       "      <td>Asia</td>\n",
       "    </tr>\n",
       "    <tr>\n",
       "      <th>2</th>\n",
       "      <td>Brazil</td>\n",
       "      <td>7675973</td>\n",
       "      <td>194949</td>\n",
       "      <td>7619200</td>\n",
       "      <td>193875</td>\n",
       "      <td>56773</td>\n",
       "      <td>1074</td>\n",
       "      <td>2.5</td>\n",
       "      <td>South America</td>\n",
       "    </tr>\n",
       "    <tr>\n",
       "      <th>3</th>\n",
       "      <td>Russia</td>\n",
       "      <td>3127347</td>\n",
       "      <td>56271</td>\n",
       "      <td>3100018</td>\n",
       "      <td>55692</td>\n",
       "      <td>27329</td>\n",
       "      <td>579</td>\n",
       "      <td>1.8</td>\n",
       "      <td>Europe</td>\n",
       "    </tr>\n",
       "    <tr>\n",
       "      <th>4</th>\n",
       "      <td>France</td>\n",
       "      <td>2677666</td>\n",
       "      <td>64759</td>\n",
       "      <td>2657624</td>\n",
       "      <td>64508</td>\n",
       "      <td>20042</td>\n",
       "      <td>251</td>\n",
       "      <td>2.4</td>\n",
       "      <td>Europe</td>\n",
       "    </tr>\n",
       "  </tbody>\n",
       "</table>\n",
       "</div>"
      ],
      "text/plain": [
       "  Country/Region     Cases  Deaths    PCases  PDeaths  Cases (+)  Deaths (+)  \\\n",
       "0             US  19968087  345737  19740772   342318     227315        3419   \n",
       "1          India  10266674  148738  10266674   148738          0           0   \n",
       "2         Brazil   7675973  194949   7619200   193875      56773        1074   \n",
       "3         Russia   3127347   56271   3100018    55692      27329         579   \n",
       "4         France   2677666   64759   2657624    64508      20042         251   \n",
       "\n",
       "   Fatality Rate      Continent  \n",
       "0            1.7  North America  \n",
       "1            1.4           Asia  \n",
       "2            2.5  South America  \n",
       "3            1.8         Europe  \n",
       "4            2.4         Europe  "
      ]
     },
     "execution_count": 15,
     "metadata": {},
     "output_type": "execute_result"
    }
   ],
   "source": [
    "#hide\n",
    "df_table = (pd.DataFrame(dict(Cases=dfc_cases, Deaths=dfc_deaths, PCases=dfp_cases, PDeaths=dfp_deaths))\n",
    "             .sort_values(by=['Cases', 'Deaths'], ascending=[False, False])\n",
    "             .reset_index())\n",
    "df_table.rename(columns={'index': 'Country/Region'}, inplace=True)\n",
    "for c in 'Cases, Deaths'.split(', '):\n",
    "    df_table[f'{c} (+)'] = (df_table[c] - df_table[f'P{c}']).clip(0)  # DATA BUG\n",
    "df_table['Fatality Rate'] = (100 * df_table['Deaths'] / df_table['Cases']).round(1)\n",
    "df_table['Continent'] = df_table['Country/Region'].map(mapping['map.continent'])\n",
    "df_table.head(5)"
   ]
  },
  {
   "cell_type": "code",
   "execution_count": 16,
   "metadata": {
    "execution": {
     "iopub.execute_input": "2021-01-02T00:20:55.187635Z",
     "iopub.status.busy": "2021-01-02T00:20:55.187130Z",
     "iopub.status.idle": "2021-01-02T00:20:55.189184Z",
     "shell.execute_reply": "2021-01-02T00:20:55.189641Z"
    },
    "papermill": {
     "duration": 0.034951,
     "end_time": "2021-01-02T00:20:55.189769",
     "exception": false,
     "start_time": "2021-01-02T00:20:55.154818",
     "status": "completed"
    },
    "tags": []
   },
   "outputs": [],
   "source": [
    "#hide\n",
    "#delete problematic countries from table\n",
    "df_table = df_table[~df_table['Country/Region'].isin(['Cape Verde', 'Cruise Ship', 'Kosovo'])]"
   ]
  },
  {
   "cell_type": "code",
   "execution_count": 17,
   "metadata": {
    "execution": {
     "iopub.execute_input": "2021-01-02T00:20:55.261574Z",
     "iopub.status.busy": "2021-01-02T00:20:55.261022Z",
     "iopub.status.idle": "2021-01-02T00:20:55.263387Z",
     "shell.execute_reply": "2021-01-02T00:20:55.262982Z"
    },
    "papermill": {
     "duration": 0.046597,
     "end_time": "2021-01-02T00:20:55.263503",
     "exception": false,
     "start_time": "2021-01-02T00:20:55.216906",
     "status": "completed"
    },
    "tags": []
   },
   "outputs": [],
   "source": [
    "#hide\n",
    "metrics = [df_table.columns[index] for index in [1,2,5,6]]\n",
    "# s_china = df_table[df_table['Country/Region'].eq('China')][metrics].sum().add_prefix('China ')\n",
    "s_us = df_table[df_table['Country/Region'].eq('US')][metrics].sum().add_prefix('US ')\n",
    "s_eu = df_table[df_table['Continent'].eq('Europe')][metrics].sum().add_prefix('EU ')\n",
    "s_ind = df_table[df_table['Country/Region'].eq('India')][metrics].sum().add_prefix('India ')\n",
    "summary = {'updated': pd.to_datetime(dt_today), 'since': pd.to_datetime(dt_yday)}\n",
    "summary = {'updated': pd.to_datetime(dt_today), 'since': pd.to_datetime(dt_yday)}\n",
    "summary = {**summary, **df_table[metrics].sum(), **s_ind, **s_us, **s_eu}"
   ]
  },
  {
   "cell_type": "code",
   "execution_count": 18,
   "metadata": {
    "execution": {
     "iopub.execute_input": "2021-01-02T00:20:55.322354Z",
     "iopub.status.busy": "2021-01-02T00:20:55.321862Z",
     "iopub.status.idle": "2021-01-02T00:20:55.331057Z",
     "shell.execute_reply": "2021-01-02T00:20:55.331487Z"
    },
    "papermill": {
     "duration": 0.040928,
     "end_time": "2021-01-02T00:20:55.331613",
     "exception": false,
     "start_time": "2021-01-02T00:20:55.290685",
     "status": "completed"
    },
    "tags": []
   },
   "outputs": [],
   "source": [
    "#hide\n",
    "dft_ct_new_cases = dft_cases.groupby(COL_REGION)[dt_cols].sum().diff(axis=1).fillna(0).astype(int)"
   ]
  },
  {
   "cell_type": "code",
   "execution_count": 19,
   "metadata": {
    "execution": {
     "iopub.execute_input": "2021-01-02T00:20:55.390300Z",
     "iopub.status.busy": "2021-01-02T00:20:55.389806Z",
     "iopub.status.idle": "2021-01-02T00:20:55.393362Z",
     "shell.execute_reply": "2021-01-02T00:20:55.392942Z"
    },
    "papermill": {
     "duration": 0.034755,
     "end_time": "2021-01-02T00:20:55.393473",
     "exception": false,
     "start_time": "2021-01-02T00:20:55.358718",
     "status": "completed"
    },
    "tags": []
   },
   "outputs": [],
   "source": [
    "#hide\n",
    "everydaycases = dft_ct_new_cases.cumsum(axis=1)"
   ]
  },
  {
   "cell_type": "code",
   "execution_count": 20,
   "metadata": {
    "execution": {
     "iopub.execute_input": "2021-01-02T00:20:55.451473Z",
     "iopub.status.busy": "2021-01-02T00:20:55.450980Z",
     "iopub.status.idle": "2021-01-02T00:20:56.308812Z",
     "shell.execute_reply": "2021-01-02T00:20:56.309246Z"
    },
    "papermill": {
     "duration": 0.88885,
     "end_time": "2021-01-02T00:20:56.309399",
     "exception": false,
     "start_time": "2021-01-02T00:20:55.420549",
     "status": "completed"
    },
    "tags": []
   },
   "outputs": [],
   "source": [
    "#hide\n",
    "import pandas as pd\n",
    "import matplotlib.pyplot as plt\n",
    "import matplotlib.ticker as ticker\n",
    "import matplotlib.animation as animation\n",
    "from IPython.display import HTML"
   ]
  },
  {
   "cell_type": "code",
   "execution_count": 21,
   "metadata": {
    "execution": {
     "iopub.execute_input": "2021-01-02T00:20:56.369205Z",
     "iopub.status.busy": "2021-01-02T00:20:56.368691Z",
     "iopub.status.idle": "2021-01-02T00:20:56.372946Z",
     "shell.execute_reply": "2021-01-02T00:20:56.373371Z"
    },
    "papermill": {
     "duration": 0.036755,
     "end_time": "2021-01-02T00:20:56.373506",
     "exception": false,
     "start_time": "2021-01-02T00:20:56.336751",
     "status": "completed"
    },
    "tags": []
   },
   "outputs": [],
   "source": [
    "#hide\n",
    "t = everydaycases.stack()"
   ]
  },
  {
   "cell_type": "code",
   "execution_count": 22,
   "metadata": {
    "execution": {
     "iopub.execute_input": "2021-01-02T00:20:56.432365Z",
     "iopub.status.busy": "2021-01-02T00:20:56.431861Z",
     "iopub.status.idle": "2021-01-02T00:20:56.437281Z",
     "shell.execute_reply": "2021-01-02T00:20:56.437692Z"
    },
    "papermill": {
     "duration": 0.036931,
     "end_time": "2021-01-02T00:20:56.437820",
     "exception": false,
     "start_time": "2021-01-02T00:20:56.400889",
     "status": "completed"
    },
    "tags": []
   },
   "outputs": [],
   "source": [
    "#hide\n",
    "g = t.reset_index(['Country/Region'])"
   ]
  },
  {
   "cell_type": "code",
   "execution_count": 23,
   "metadata": {
    "execution": {
     "iopub.execute_input": "2021-01-02T00:20:56.495839Z",
     "iopub.status.busy": "2021-01-02T00:20:56.495333Z",
     "iopub.status.idle": "2021-01-02T00:20:56.497564Z",
     "shell.execute_reply": "2021-01-02T00:20:56.497139Z"
    },
    "papermill": {
     "duration": 0.032815,
     "end_time": "2021-01-02T00:20:56.497678",
     "exception": false,
     "start_time": "2021-01-02T00:20:56.464863",
     "status": "completed"
    },
    "tags": []
   },
   "outputs": [],
   "source": [
    "#hide\n",
    "g.index.name = 'date'"
   ]
  },
  {
   "cell_type": "code",
   "execution_count": 24,
   "metadata": {
    "execution": {
     "iopub.execute_input": "2021-01-02T00:20:56.555708Z",
     "iopub.status.busy": "2021-01-02T00:20:56.555206Z",
     "iopub.status.idle": "2021-01-02T00:20:56.557009Z",
     "shell.execute_reply": "2021-01-02T00:20:56.557407Z"
    },
    "papermill": {
     "duration": 0.032725,
     "end_time": "2021-01-02T00:20:56.557539",
     "exception": false,
     "start_time": "2021-01-02T00:20:56.524814",
     "status": "completed"
    },
    "tags": []
   },
   "outputs": [],
   "source": [
    "# #hide\n",
    "# g = g.reset_index(['date'])"
   ]
  },
  {
   "cell_type": "code",
   "execution_count": 25,
   "metadata": {
    "execution": {
     "iopub.execute_input": "2021-01-02T00:20:56.615281Z",
     "iopub.status.busy": "2021-01-02T00:20:56.614785Z",
     "iopub.status.idle": "2021-01-02T00:20:56.616739Z",
     "shell.execute_reply": "2021-01-02T00:20:56.617165Z"
    },
    "papermill": {
     "duration": 0.032667,
     "end_time": "2021-01-02T00:20:56.617308",
     "exception": false,
     "start_time": "2021-01-02T00:20:56.584641",
     "status": "completed"
    },
    "tags": []
   },
   "outputs": [],
   "source": [
    "#hide\n",
    "# g.head()"
   ]
  },
  {
   "cell_type": "code",
   "execution_count": 26,
   "metadata": {
    "execution": {
     "iopub.execute_input": "2021-01-02T00:20:56.675200Z",
     "iopub.status.busy": "2021-01-02T00:20:56.674697Z",
     "iopub.status.idle": "2021-01-02T00:20:56.676759Z",
     "shell.execute_reply": "2021-01-02T00:20:56.676355Z"
    },
    "papermill": {
     "duration": 0.032364,
     "end_time": "2021-01-02T00:20:56.676871",
     "exception": false,
     "start_time": "2021-01-02T00:20:56.644507",
     "status": "completed"
    },
    "tags": []
   },
   "outputs": [],
   "source": [
    "#hide\n",
    "# g.columns = ['date','country','cases']"
   ]
  },
  {
   "cell_type": "code",
   "execution_count": 27,
   "metadata": {
    "execution": {
     "iopub.execute_input": "2021-01-02T00:20:56.735245Z",
     "iopub.status.busy": "2021-01-02T00:20:56.734745Z",
     "iopub.status.idle": "2021-01-02T00:20:56.736888Z",
     "shell.execute_reply": "2021-01-02T00:20:56.736488Z"
    },
    "papermill": {
     "duration": 0.032662,
     "end_time": "2021-01-02T00:20:56.736998",
     "exception": false,
     "start_time": "2021-01-02T00:20:56.704336",
     "status": "completed"
    },
    "tags": []
   },
   "outputs": [],
   "source": [
    "#hide\n",
    "# g['continent'] = g.country"
   ]
  },
  {
   "cell_type": "code",
   "execution_count": 28,
   "metadata": {
    "execution": {
     "iopub.execute_input": "2021-01-02T00:20:56.794579Z",
     "iopub.status.busy": "2021-01-02T00:20:56.794001Z",
     "iopub.status.idle": "2021-01-02T00:20:56.796119Z",
     "shell.execute_reply": "2021-01-02T00:20:56.795572Z"
    },
    "papermill": {
     "duration": 0.032098,
     "end_time": "2021-01-02T00:20:56.796242",
     "exception": false,
     "start_time": "2021-01-02T00:20:56.764144",
     "status": "completed"
    },
    "tags": []
   },
   "outputs": [],
   "source": [
    "#hide\n",
    "# cols = list(g.columns.values)"
   ]
  },
  {
   "cell_type": "code",
   "execution_count": 29,
   "metadata": {
    "execution": {
     "iopub.execute_input": "2021-01-02T00:20:56.853676Z",
     "iopub.status.busy": "2021-01-02T00:20:56.853130Z",
     "iopub.status.idle": "2021-01-02T00:20:56.855286Z",
     "shell.execute_reply": "2021-01-02T00:20:56.854882Z"
    },
    "papermill": {
     "duration": 0.032013,
     "end_time": "2021-01-02T00:20:56.855399",
     "exception": false,
     "start_time": "2021-01-02T00:20:56.823386",
     "status": "completed"
    },
    "tags": []
   },
   "outputs": [],
   "source": [
    "#hide\n",
    "# cols.insert(0, cols.pop())"
   ]
  },
  {
   "cell_type": "code",
   "execution_count": 30,
   "metadata": {
    "execution": {
     "iopub.execute_input": "2021-01-02T00:20:57.061062Z",
     "iopub.status.busy": "2021-01-02T00:20:57.060557Z",
     "iopub.status.idle": "2021-01-02T00:20:57.062587Z",
     "shell.execute_reply": "2021-01-02T00:20:57.062162Z"
    },
    "papermill": {
     "duration": 0.034305,
     "end_time": "2021-01-02T00:20:57.062699",
     "exception": false,
     "start_time": "2021-01-02T00:20:57.028394",
     "status": "completed"
    },
    "tags": []
   },
   "outputs": [],
   "source": [
    "#hide\n",
    "# g = g[cols]"
   ]
  },
  {
   "cell_type": "code",
   "execution_count": 31,
   "metadata": {
    "execution": {
     "iopub.execute_input": "2021-01-02T00:20:57.120396Z",
     "iopub.status.busy": "2021-01-02T00:20:57.119840Z",
     "iopub.status.idle": "2021-01-02T00:20:57.122092Z",
     "shell.execute_reply": "2021-01-02T00:20:57.121672Z"
    },
    "papermill": {
     "duration": 0.03231,
     "end_time": "2021-01-02T00:20:57.122201",
     "exception": false,
     "start_time": "2021-01-02T00:20:57.089891",
     "status": "completed"
    },
    "tags": []
   },
   "outputs": [],
   "source": [
    "#hide\n",
    "# g['continent'] = g['continent'].map(mapping['map.continent'])"
   ]
  },
  {
   "cell_type": "code",
   "execution_count": 32,
   "metadata": {
    "execution": {
     "iopub.execute_input": "2021-01-02T00:20:57.179746Z",
     "iopub.status.busy": "2021-01-02T00:20:57.179250Z",
     "iopub.status.idle": "2021-01-02T00:20:57.181014Z",
     "shell.execute_reply": "2021-01-02T00:20:57.181513Z"
    },
    "papermill": {
     "duration": 0.032328,
     "end_time": "2021-01-02T00:20:57.181641",
     "exception": false,
     "start_time": "2021-01-02T00:20:57.149313",
     "status": "completed"
    },
    "tags": []
   },
   "outputs": [],
   "source": [
    "#hide\n",
    "# g.head()"
   ]
  },
  {
   "cell_type": "code",
   "execution_count": 33,
   "metadata": {
    "execution": {
     "iopub.execute_input": "2021-01-02T00:20:57.239399Z",
     "iopub.status.busy": "2021-01-02T00:20:57.238821Z",
     "iopub.status.idle": "2021-01-02T00:20:57.240994Z",
     "shell.execute_reply": "2021-01-02T00:20:57.240510Z"
    },
    "papermill": {
     "duration": 0.032261,
     "end_time": "2021-01-02T00:20:57.241113",
     "exception": false,
     "start_time": "2021-01-02T00:20:57.208852",
     "status": "completed"
    },
    "tags": []
   },
   "outputs": [],
   "source": [
    "# hide\n",
    "# g['date'] = g['date'].astype('datetime64[ns]')"
   ]
  },
  {
   "cell_type": "code",
   "execution_count": 34,
   "metadata": {
    "execution": {
     "iopub.execute_input": "2021-01-02T00:20:57.300007Z",
     "iopub.status.busy": "2021-01-02T00:20:57.299440Z",
     "iopub.status.idle": "2021-01-02T00:20:57.301446Z",
     "shell.execute_reply": "2021-01-02T00:20:57.301830Z"
    },
    "papermill": {
     "duration": 0.033024,
     "end_time": "2021-01-02T00:20:57.302004",
     "exception": false,
     "start_time": "2021-01-02T00:20:57.268980",
     "status": "completed"
    },
    "tags": []
   },
   "outputs": [],
   "source": [
    "#hide\n",
    "# g['date'] = g.date.dt.dayofyear"
   ]
  },
  {
   "cell_type": "code",
   "execution_count": 35,
   "metadata": {
    "execution": {
     "iopub.execute_input": "2021-01-02T00:20:57.360008Z",
     "iopub.status.busy": "2021-01-02T00:20:57.359292Z",
     "iopub.status.idle": "2021-01-02T00:20:57.362552Z",
     "shell.execute_reply": "2021-01-02T00:20:57.362986Z"
    },
    "papermill": {
     "duration": 0.033829,
     "end_time": "2021-01-02T00:20:57.363128",
     "exception": false,
     "start_time": "2021-01-02T00:20:57.329299",
     "status": "completed"
    },
    "tags": []
   },
   "outputs": [],
   "source": [
    "#hide\n",
    "# g = g.rename(columns= {'continent':'group','country':'name','cases':'value'})"
   ]
  },
  {
   "cell_type": "code",
   "execution_count": 36,
   "metadata": {
    "execution": {
     "iopub.execute_input": "2021-01-02T00:20:57.421015Z",
     "iopub.status.busy": "2021-01-02T00:20:57.420508Z",
     "iopub.status.idle": "2021-01-02T00:20:57.422953Z",
     "shell.execute_reply": "2021-01-02T00:20:57.422550Z"
    },
    "papermill": {
     "duration": 0.032589,
     "end_time": "2021-01-02T00:20:57.423065",
     "exception": false,
     "start_time": "2021-01-02T00:20:57.390476",
     "status": "completed"
    },
    "tags": []
   },
   "outputs": [],
   "source": [
    "#hide\n",
    "# cols = ['name','group','day','value']"
   ]
  },
  {
   "cell_type": "code",
   "execution_count": 37,
   "metadata": {
    "execution": {
     "iopub.execute_input": "2021-01-02T00:20:57.480078Z",
     "iopub.status.busy": "2021-01-02T00:20:57.479526Z",
     "iopub.status.idle": "2021-01-02T00:20:57.481811Z",
     "shell.execute_reply": "2021-01-02T00:20:57.481386Z"
    },
    "papermill": {
     "duration": 0.032017,
     "end_time": "2021-01-02T00:20:57.481979",
     "exception": false,
     "start_time": "2021-01-02T00:20:57.449962",
     "status": "completed"
    },
    "tags": []
   },
   "outputs": [],
   "source": [
    "#hide\n",
    "# g.rename(columns= {'date':'day'},inplace = True)"
   ]
  },
  {
   "cell_type": "code",
   "execution_count": 38,
   "metadata": {
    "execution": {
     "iopub.execute_input": "2021-01-02T00:20:57.539477Z",
     "iopub.status.busy": "2021-01-02T00:20:57.538962Z",
     "iopub.status.idle": "2021-01-02T00:20:57.541311Z",
     "shell.execute_reply": "2021-01-02T00:20:57.540878Z"
    },
    "papermill": {
     "duration": 0.032179,
     "end_time": "2021-01-02T00:20:57.541426",
     "exception": false,
     "start_time": "2021-01-02T00:20:57.509247",
     "status": "completed"
    },
    "tags": []
   },
   "outputs": [],
   "source": [
    "#hide\n",
    "# g = g[cols]"
   ]
  },
  {
   "cell_type": "code",
   "execution_count": 39,
   "metadata": {
    "execution": {
     "iopub.execute_input": "2021-01-02T00:20:57.599191Z",
     "iopub.status.busy": "2021-01-02T00:20:57.598696Z",
     "iopub.status.idle": "2021-01-02T00:20:57.600314Z",
     "shell.execute_reply": "2021-01-02T00:20:57.600690Z"
    },
    "papermill": {
     "duration": 0.032138,
     "end_time": "2021-01-02T00:20:57.600818",
     "exception": false,
     "start_time": "2021-01-02T00:20:57.568680",
     "status": "completed"
    },
    "tags": []
   },
   "outputs": [],
   "source": [
    "# #hide\n",
    "# g = g[g.group.notna()]"
   ]
  },
  {
   "cell_type": "code",
   "execution_count": 40,
   "metadata": {
    "execution": {
     "iopub.execute_input": "2021-01-02T00:20:57.658400Z",
     "iopub.status.busy": "2021-01-02T00:20:57.657868Z",
     "iopub.status.idle": "2021-01-02T00:20:57.660116Z",
     "shell.execute_reply": "2021-01-02T00:20:57.659713Z"
    },
    "papermill": {
     "duration": 0.032185,
     "end_time": "2021-01-02T00:20:57.660227",
     "exception": false,
     "start_time": "2021-01-02T00:20:57.628042",
     "status": "completed"
    },
    "tags": []
   },
   "outputs": [],
   "source": [
    "# #hide\n",
    "# colors = dict(zip(\n",
    "#     [\"Oceania\", \"Europe\", \"Asia\", \"South America\", \"Middle East\", \"North America\", \"Africa\"],\n",
    "#     [\"#adb0ff\", \"#ffb3ff\", \"#90d595\", \"#e48381\", \"#aafbff\", \"#f7bb5f\", \"#eafb50\"]\n",
    "# ))\n",
    "# group_lk = g.set_index('name')['group'].to_dict()"
   ]
  },
  {
   "cell_type": "code",
   "execution_count": null,
   "metadata": {
    "papermill": {
     "duration": 0.027551,
     "end_time": "2021-01-02T00:20:57.714837",
     "exception": false,
     "start_time": "2021-01-02T00:20:57.687286",
     "status": "completed"
    },
    "tags": []
   },
   "outputs": [],
   "source": []
  },
  {
   "cell_type": "code",
   "execution_count": 41,
   "metadata": {
    "execution": {
     "iopub.execute_input": "2021-01-02T00:20:57.773345Z",
     "iopub.status.busy": "2021-01-02T00:20:57.772797Z",
     "iopub.status.idle": "2021-01-02T00:20:57.774736Z",
     "shell.execute_reply": "2021-01-02T00:20:57.774237Z"
    },
    "papermill": {
     "duration": 0.032723,
     "end_time": "2021-01-02T00:20:57.774844",
     "exception": false,
     "start_time": "2021-01-02T00:20:57.742121",
     "status": "completed"
    },
    "tags": []
   },
   "outputs": [],
   "source": [
    "# #hide\n",
    "# fig, ax = plt.subplots(figsize=(15, 8))\n",
    "\n",
    "# def draw_barchart(current_day):\n",
    "#     dff = g[g['day'].eq(current_day)].sort_values(by='value', ascending=True).tail(10)\n",
    "#     ax.clear()\n",
    "#     ax.barh(dff['name'], dff['value'], color=[colors[group_lk[x]] for x in dff['name']])\n",
    "#     dx = dff['value'].max() / 200\n",
    "    \n",
    "#     for i, (value, name) in enumerate(zip(dff['value'], dff['name'])):\n",
    "#         ax.text(value-dx, i,     name,           size=14, weight=600, ha='right', va='bottom')\n",
    "#         ax.text(value-dx, i-.25, group_lk[name], size=10, color='#444444', ha='right', va='baseline')\n",
    "#         ax.text(value+dx, i,     f'{value:,.0f}',  size=14, ha='left',  va='center')\n",
    "#     ax.text(1, 0.4, current_day, transform=ax.transAxes, color='#777777', size=46, ha='right', weight=800)\n",
    "#     ax.text(0, 1.06, 'Population (thousands)', transform=ax.transAxes, size=12, color='#777777')\n",
    "#     ax.xaxis.set_major_formatter(ticker.StrMethodFormatter('{x:,.0f}'))\n",
    "#     ax.xaxis.set_ticks_position('top')\n",
    "#     ax.tick_params(axis='x', colors='#777777', labelsize=12)\n",
    "#     ax.set_yticks([])\n",
    "#     ax.margins(0, 0.01)\n",
    "#     ax.grid(which='major', axis='x', linestyle='-')\n",
    "#     ax.set_axisbelow(True)\n",
    "    \n",
    "#     ax.text(0, 1.15, 'Coronavirus',\n",
    "#             transform=ax.transAxes, size=24, weight=600, ha='left', va='top')\n",
    "# #     ax.text(1, 0, 'by @pratapvardhan; credit @jburnmurdoch', transform=ax.transAxes, color='#777777', ha='right',\n",
    "# #             bbox=dict(facecolor='white', alpha=0.8, edgecolor='white'))\n",
    "#     plt.box(False)"
   ]
  },
  {
   "cell_type": "code",
   "execution_count": 42,
   "metadata": {
    "execution": {
     "iopub.execute_input": "2021-01-02T00:20:57.832576Z",
     "iopub.status.busy": "2021-01-02T00:20:57.832063Z",
     "iopub.status.idle": "2021-01-02T00:20:57.833665Z",
     "shell.execute_reply": "2021-01-02T00:20:57.834049Z"
    },
    "papermill": {
     "duration": 0.032215,
     "end_time": "2021-01-02T00:20:57.834175",
     "exception": false,
     "start_time": "2021-01-02T00:20:57.801960",
     "status": "completed"
    },
    "tags": []
   },
   "outputs": [],
   "source": [
    "# #hide_input\n",
    "# fig, ax = plt.subplots(figsize=(15, 8))\n",
    "# animator = animation.FuncAnimation(fig, draw_barchart, frames=range(g.day.values.min(), g.day.values.max()))\n",
    "# HTML(animator.to_jshtml())\n",
    "# # or use animator.to_html5_video() or animator.save() "
   ]
  },
  {
   "cell_type": "code",
   "execution_count": null,
   "metadata": {
    "papermill": {
     "duration": 0.02726,
     "end_time": "2021-01-02T00:20:57.888725",
     "exception": false,
     "start_time": "2021-01-02T00:20:57.861465",
     "status": "completed"
    },
    "tags": []
   },
   "outputs": [],
   "source": []
  },
  {
   "cell_type": "code",
   "execution_count": null,
   "metadata": {
    "papermill": {
     "duration": 0.027131,
     "end_time": "2021-01-02T00:20:57.942936",
     "exception": false,
     "start_time": "2021-01-02T00:20:57.915805",
     "status": "completed"
    },
    "tags": []
   },
   "outputs": [],
   "source": []
  },
  {
   "cell_type": "code",
   "execution_count": null,
   "metadata": {
    "papermill": {
     "duration": 0.026984,
     "end_time": "2021-01-02T00:20:57.997184",
     "exception": false,
     "start_time": "2021-01-02T00:20:57.970200",
     "status": "completed"
    },
    "tags": []
   },
   "outputs": [],
   "source": []
  }
 ],
 "metadata": {
  "kernelspec": {
   "display_name": "Python 3",
   "language": "python",
   "name": "python3"
  },
  "language_info": {
   "codemirror_mode": {
    "name": "ipython",
    "version": 3
   },
   "file_extension": ".py",
   "mimetype": "text/x-python",
   "name": "python",
   "nbconvert_exporter": "python",
   "pygments_lexer": "ipython3",
   "version": "3.6.12"
  },
  "papermill": {
   "duration": 5.92812,
   "end_time": "2021-01-02T00:20:58.331493",
   "environment_variables": {},
   "exception": null,
   "input_path": "2020-03-21-covid19exp.ipynb",
   "output_path": "2020-03-21-covid19exp.ipynb",
   "parameters": {},
   "start_time": "2021-01-02T00:20:52.403373",
   "version": "2.0.0"
  }
 },
 "nbformat": 4,
 "nbformat_minor": 4
}