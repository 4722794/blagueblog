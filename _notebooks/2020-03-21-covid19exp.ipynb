{
 "cells": [
  {
   "cell_type": "markdown",
   "id": "muslim-click",
   "metadata": {
    "papermill": {
     "duration": 0.037331,
     "end_time": "2021-12-25T00:25:24.213759",
     "exception": false,
     "start_time": "2021-12-25T00:25:24.176428",
     "status": "completed"
    },
    "tags": []
   },
   "source": [
    "# COVID-19 Case Race\n",
    "> A race chart to see rising cases around the world\n",
    "\n",
    "- author: Hargun Oberoi\n",
    "- image: images/covid-overview.png\n",
    "- hide: false\n",
    "- badges: false"
   ]
  },
  {
   "cell_type": "code",
   "execution_count": 1,
   "id": "proof-material",
   "metadata": {
    "execution": {
     "iopub.execute_input": "2021-12-25T00:25:24.290968Z",
     "iopub.status.busy": "2021-12-25T00:25:24.290359Z",
     "iopub.status.idle": "2021-12-25T00:25:24.643487Z",
     "shell.execute_reply": "2021-12-25T00:25:24.642598Z"
    },
    "papermill": {
     "duration": 0.398005,
     "end_time": "2021-12-25T00:25:24.643633",
     "exception": false,
     "start_time": "2021-12-25T00:25:24.245628",
     "status": "completed"
    },
    "tags": []
   },
   "outputs": [],
   "source": [
    "#hide\n",
    "import numpy as np\n",
    "import pandas as pd\n",
    "from jinja2 import Template\n",
    "from IPython.display import HTML"
   ]
  },
  {
   "cell_type": "code",
   "execution_count": 2,
   "id": "developed-terminology",
   "metadata": {
    "execution": {
     "iopub.execute_input": "2021-12-25T00:25:24.715584Z",
     "iopub.status.busy": "2021-12-25T00:25:24.714943Z",
     "iopub.status.idle": "2021-12-25T00:25:24.717305Z",
     "shell.execute_reply": "2021-12-25T00:25:24.716719Z"
    },
    "papermill": {
     "duration": 0.042563,
     "end_time": "2021-12-25T00:25:24.717422",
     "exception": false,
     "start_time": "2021-12-25T00:25:24.674859",
     "status": "completed"
    },
    "tags": []
   },
   "outputs": [],
   "source": [
    "#hide\n",
    "\n",
    "# FETCH\n",
    "base_url = 'https://raw.githubusercontent.com/pratapvardhan/notebooks/master/covid19/'\n",
    "paths = {\n",
    "    'mapping': base_url + 'mapping_countries.csv',\n",
    "    'overview': base_url + 'overview.tpl'\n",
    "}"
   ]
  },
  {
   "cell_type": "code",
   "execution_count": 3,
   "id": "dynamic-saver",
   "metadata": {
    "execution": {
     "iopub.execute_input": "2021-12-25T00:25:24.793263Z",
     "iopub.status.busy": "2021-12-25T00:25:24.792653Z",
     "iopub.status.idle": "2021-12-25T00:25:24.795425Z",
     "shell.execute_reply": "2021-12-25T00:25:24.795929Z"
    },
    "papermill": {
     "duration": 0.046764,
     "end_time": "2021-12-25T00:25:24.796076",
     "exception": false,
     "start_time": "2021-12-25T00:25:24.749312",
     "status": "completed"
    },
    "tags": []
   },
   "outputs": [
    {
     "data": {
      "text/plain": [
       "'https://raw.githubusercontent.com/pratapvardhan/notebooks/master/covid19/mapping_countries.csv'"
      ]
     },
     "execution_count": 3,
     "metadata": {},
     "output_type": "execute_result"
    }
   ],
   "source": [
    "#hide\n",
    "paths['mapping']"
   ]
  },
  {
   "cell_type": "code",
   "execution_count": 4,
   "id": "urban-software",
   "metadata": {
    "execution": {
     "iopub.execute_input": "2021-12-25T00:25:24.869611Z",
     "iopub.status.busy": "2021-12-25T00:25:24.868977Z",
     "iopub.status.idle": "2021-12-25T00:25:24.871307Z",
     "shell.execute_reply": "2021-12-25T00:25:24.870690Z"
    },
    "papermill": {
     "duration": 0.041983,
     "end_time": "2021-12-25T00:25:24.871432",
     "exception": false,
     "start_time": "2021-12-25T00:25:24.829449",
     "status": "completed"
    },
    "tags": []
   },
   "outputs": [],
   "source": [
    "#hide\n",
    "def get_mappings(url):\n",
    "    df = pd.read_csv(url)\n",
    "    return {\n",
    "        'df': df,\n",
    "        'replace.country': dict(df.dropna(subset=['Name']).set_index('Country')['Name']),\n",
    "        'map.continent': dict(df.set_index('Name')['Continent'])\n",
    "    }"
   ]
  },
  {
   "cell_type": "code",
   "execution_count": 5,
   "id": "intimate-machinery",
   "metadata": {
    "execution": {
     "iopub.execute_input": "2021-12-25T00:25:24.943339Z",
     "iopub.status.busy": "2021-12-25T00:25:24.942720Z",
     "iopub.status.idle": "2021-12-25T00:25:24.970887Z",
     "shell.execute_reply": "2021-12-25T00:25:24.970292Z"
    },
    "papermill": {
     "duration": 0.066673,
     "end_time": "2021-12-25T00:25:24.971021",
     "exception": false,
     "start_time": "2021-12-25T00:25:24.904348",
     "status": "completed"
    },
    "tags": []
   },
   "outputs": [],
   "source": [
    "#hide\n",
    "mapping = get_mappings(paths['mapping'])"
   ]
  },
  {
   "cell_type": "code",
   "execution_count": 6,
   "id": "certified-tactics",
   "metadata": {
    "execution": {
     "iopub.execute_input": "2021-12-25T00:25:25.042222Z",
     "iopub.status.busy": "2021-12-25T00:25:25.041588Z",
     "iopub.status.idle": "2021-12-25T00:25:25.043911Z",
     "shell.execute_reply": "2021-12-25T00:25:25.043417Z"
    },
    "papermill": {
     "duration": 0.04101,
     "end_time": "2021-12-25T00:25:25.044049",
     "exception": false,
     "start_time": "2021-12-25T00:25:25.003039",
     "status": "completed"
    },
    "tags": []
   },
   "outputs": [],
   "source": [
    "#hide\n",
    "def get_template(path):\n",
    "    from urllib.parse import urlparse\n",
    "    if bool(urlparse(path).netloc):\n",
    "        from urllib.request import urlopen\n",
    "        return urlopen(path).read().decode('utf8')\n",
    "    return open(path).read()"
   ]
  },
  {
   "cell_type": "code",
   "execution_count": 7,
   "id": "realistic-blast",
   "metadata": {
    "execution": {
     "iopub.execute_input": "2021-12-25T00:25:25.111192Z",
     "iopub.status.busy": "2021-12-25T00:25:25.110622Z",
     "iopub.status.idle": "2021-12-25T00:25:25.113072Z",
     "shell.execute_reply": "2021-12-25T00:25:25.113628Z"
    },
    "papermill": {
     "duration": 0.037785,
     "end_time": "2021-12-25T00:25:25.113759",
     "exception": false,
     "start_time": "2021-12-25T00:25:25.075974",
     "status": "completed"
    },
    "tags": []
   },
   "outputs": [],
   "source": [
    "#hide\n",
    "def get_frame(name):\n",
    "    url = (\n",
    "        'https://raw.githubusercontent.com/CSSEGISandData/COVID-19/master/csse_covid_19_data/'\n",
    "        f'csse_covid_19_time_series/time_series_covid19_{name}_global.csv')\n",
    "    df = pd.read_csv(url)\n",
    "    # rename countries\n",
    "    df['Country/Region'] = df['Country/Region'].replace(mapping['replace.country'])\n",
    "    return df"
   ]
  },
  {
   "cell_type": "code",
   "execution_count": 8,
   "id": "affiliated-characterization",
   "metadata": {
    "execution": {
     "iopub.execute_input": "2021-12-25T00:25:25.183507Z",
     "iopub.status.busy": "2021-12-25T00:25:25.182904Z",
     "iopub.status.idle": "2021-12-25T00:25:25.184744Z",
     "shell.execute_reply": "2021-12-25T00:25:25.185186Z"
    },
    "papermill": {
     "duration": 0.040338,
     "end_time": "2021-12-25T00:25:25.185312",
     "exception": false,
     "start_time": "2021-12-25T00:25:25.144974",
     "status": "completed"
    },
    "tags": []
   },
   "outputs": [],
   "source": [
    "#hide\n",
    "def get_dates(df):\n",
    "    dt_cols = df.columns[~df.columns.isin(['Province/State', 'Country/Region', 'Lat', 'Long'])]\n",
    "    LAST_DATE_I = -1\n",
    "    # sometimes last column may be empty, then go backwards\n",
    "    for i in range(-1, -len(dt_cols), -1):\n",
    "        if not df[dt_cols[i]].fillna(0).eq(0).all():\n",
    "            LAST_DATE_I = i\n",
    "            break\n",
    "    return LAST_DATE_I, dt_cols"
   ]
  },
  {
   "cell_type": "code",
   "execution_count": 9,
   "id": "recent-optimization",
   "metadata": {
    "execution": {
     "iopub.execute_input": "2021-12-25T00:25:25.254273Z",
     "iopub.status.busy": "2021-12-25T00:25:25.253716Z",
     "iopub.status.idle": "2021-12-25T00:25:25.586441Z",
     "shell.execute_reply": "2021-12-25T00:25:25.585551Z"
    },
    "papermill": {
     "duration": 0.370047,
     "end_time": "2021-12-25T00:25:25.586585",
     "exception": false,
     "start_time": "2021-12-25T00:25:25.216538",
     "status": "completed"
    },
    "tags": []
   },
   "outputs": [],
   "source": [
    "#hide\n",
    "COL_REGION = 'Country/Region'\n",
    "# Confirmed, Recovered, Deaths\n",
    "df = get_frame('confirmed')\n",
    "# dft_: timeseries, dfc_: today country agg\n",
    "dft_cases = df\n",
    "dft_deaths = get_frame('deaths')\n",
    "dft_recovered = get_frame('recovered')\n",
    "LAST_DATE_I, dt_cols = get_dates(df)"
   ]
  },
  {
   "cell_type": "code",
   "execution_count": 10,
   "id": "absolute-copper",
   "metadata": {
    "execution": {
     "iopub.execute_input": "2021-12-25T00:25:25.657351Z",
     "iopub.status.busy": "2021-12-25T00:25:25.656785Z",
     "iopub.status.idle": "2021-12-25T00:25:25.659008Z",
     "shell.execute_reply": "2021-12-25T00:25:25.658536Z"
    },
    "papermill": {
     "duration": 0.040596,
     "end_time": "2021-12-25T00:25:25.659122",
     "exception": false,
     "start_time": "2021-12-25T00:25:25.618526",
     "status": "completed"
    },
    "tags": []
   },
   "outputs": [],
   "source": [
    "#hide\n",
    "LAST_DATE_I, dt_cols = get_dates(df)\n",
    "dt_today =dt_cols[LAST_DATE_I]\n",
    "# dt_5day = dt_cols[LAST_DATE_I - 5]\n",
    "dt_yday = dt_cols[LAST_DATE_I - 1]"
   ]
  },
  {
   "cell_type": "code",
   "execution_count": 11,
   "id": "restricted-sheriff",
   "metadata": {
    "execution": {
     "iopub.execute_input": "2021-12-25T00:25:25.728516Z",
     "iopub.status.busy": "2021-12-25T00:25:25.727966Z",
     "iopub.status.idle": "2021-12-25T00:25:25.735947Z",
     "shell.execute_reply": "2021-12-25T00:25:25.735506Z"
    },
    "papermill": {
     "duration": 0.045898,
     "end_time": "2021-12-25T00:25:25.736060",
     "exception": false,
     "start_time": "2021-12-25T00:25:25.690162",
     "status": "completed"
    },
    "tags": []
   },
   "outputs": [],
   "source": [
    "#hide\n",
    "dfc_cases = dft_cases.groupby(COL_REGION)[dt_today].sum()\n",
    "dfc_deaths = dft_deaths.groupby(COL_REGION)[dt_today].sum()\n",
    "# dfp_cases = dft_cases.groupby(COL_REGION)[dt_5day].sum()\n",
    "# dfp_deaths = dft_deaths.groupby(COL_REGION)[dt_5day].sum()\n",
    "dfp_cases = dft_cases.groupby(COL_REGION)[dt_yday].sum()\n",
    "dfp_deaths = dft_deaths.groupby(COL_REGION)[dt_yday].sum()"
   ]
  },
  {
   "cell_type": "code",
   "execution_count": 12,
   "id": "deluxe-hepatitis",
   "metadata": {
    "execution": {
     "iopub.execute_input": "2021-12-25T00:25:25.807653Z",
     "iopub.status.busy": "2021-12-25T00:25:25.807103Z",
     "iopub.status.idle": "2021-12-25T00:25:25.808894Z",
     "shell.execute_reply": "2021-12-25T00:25:25.809596Z"
    },
    "papermill": {
     "duration": 0.042383,
     "end_time": "2021-12-25T00:25:25.809731",
     "exception": false,
     "start_time": "2021-12-25T00:25:25.767348",
     "status": "completed"
    },
    "tags": []
   },
   "outputs": [],
   "source": [
    "#hide\n",
    "df_table = (pd.DataFrame(dict(Cases = dfc_cases, Deaths = dfc_deaths, PCases = dfp_cases, PDeaths = dfp_deaths))\n",
    "            .sort_values(by = ['Cases','Deaths'], ascending = [False, False])\n",
    "            .reset_index())"
   ]
  },
  {
   "cell_type": "code",
   "execution_count": 13,
   "id": "educational-chancellor",
   "metadata": {
    "execution": {
     "iopub.execute_input": "2021-12-25T00:25:25.888590Z",
     "iopub.status.busy": "2021-12-25T00:25:25.888025Z",
     "iopub.status.idle": "2021-12-25T00:25:25.900568Z",
     "shell.execute_reply": "2021-12-25T00:25:25.900124Z"
    },
    "papermill": {
     "duration": 0.059546,
     "end_time": "2021-12-25T00:25:25.900681",
     "exception": false,
     "start_time": "2021-12-25T00:25:25.841135",
     "status": "completed"
    },
    "tags": []
   },
   "outputs": [
    {
     "data": {
      "text/html": [
       "<div>\n",
       "<style scoped>\n",
       "    .dataframe tbody tr th:only-of-type {\n",
       "        vertical-align: middle;\n",
       "    }\n",
       "\n",
       "    .dataframe tbody tr th {\n",
       "        vertical-align: top;\n",
       "    }\n",
       "\n",
       "    .dataframe thead th {\n",
       "        text-align: right;\n",
       "    }\n",
       "</style>\n",
       "<table border=\"1\" class=\"dataframe\">\n",
       "  <thead>\n",
       "    <tr style=\"text-align: right;\">\n",
       "      <th></th>\n",
       "      <th>Country/Region</th>\n",
       "      <th>Cases</th>\n",
       "      <th>Deaths</th>\n",
       "      <th>PCases</th>\n",
       "      <th>PDeaths</th>\n",
       "      <th>Cases (+)</th>\n",
       "      <th>Deaths (+)</th>\n",
       "      <th>Fatality Rate</th>\n",
       "      <th>Continent</th>\n",
       "    </tr>\n",
       "  </thead>\n",
       "  <tbody>\n",
       "    <tr>\n",
       "      <th>0</th>\n",
       "      <td>US</td>\n",
       "      <td>51814820</td>\n",
       "      <td>815423</td>\n",
       "      <td>51553481</td>\n",
       "      <td>812069</td>\n",
       "      <td>261339</td>\n",
       "      <td>3354</td>\n",
       "      <td>1.57</td>\n",
       "      <td>North America</td>\n",
       "    </tr>\n",
       "    <tr>\n",
       "      <th>1</th>\n",
       "      <td>India</td>\n",
       "      <td>34772626</td>\n",
       "      <td>479133</td>\n",
       "      <td>34765976</td>\n",
       "      <td>478759</td>\n",
       "      <td>6650</td>\n",
       "      <td>374</td>\n",
       "      <td>1.38</td>\n",
       "      <td>Asia</td>\n",
       "    </tr>\n",
       "    <tr>\n",
       "      <th>2</th>\n",
       "      <td>Brazil</td>\n",
       "      <td>22230943</td>\n",
       "      <td>618492</td>\n",
       "      <td>22227169</td>\n",
       "      <td>618366</td>\n",
       "      <td>3774</td>\n",
       "      <td>126</td>\n",
       "      <td>2.78</td>\n",
       "      <td>South America</td>\n",
       "    </tr>\n",
       "    <tr>\n",
       "      <th>3</th>\n",
       "      <td>United Kingdom</td>\n",
       "      <td>11836909</td>\n",
       "      <td>148187</td>\n",
       "      <td>11713654</td>\n",
       "      <td>148038</td>\n",
       "      <td>123255</td>\n",
       "      <td>149</td>\n",
       "      <td>1.25</td>\n",
       "      <td>Europe</td>\n",
       "    </tr>\n",
       "    <tr>\n",
       "      <th>4</th>\n",
       "      <td>Russia</td>\n",
       "      <td>10140429</td>\n",
       "      <td>295296</td>\n",
       "      <td>10114983</td>\n",
       "      <td>294322</td>\n",
       "      <td>25446</td>\n",
       "      <td>974</td>\n",
       "      <td>2.91</td>\n",
       "      <td>Europe</td>\n",
       "    </tr>\n",
       "  </tbody>\n",
       "</table>\n",
       "</div>"
      ],
      "text/plain": [
       "   Country/Region     Cases  Deaths    PCases  PDeaths  Cases (+)  Deaths (+)  \\\n",
       "0              US  51814820  815423  51553481   812069     261339        3354   \n",
       "1           India  34772626  479133  34765976   478759       6650         374   \n",
       "2          Brazil  22230943  618492  22227169   618366       3774         126   \n",
       "3  United Kingdom  11836909  148187  11713654   148038     123255         149   \n",
       "4          Russia  10140429  295296  10114983   294322      25446         974   \n",
       "\n",
       "   Fatality Rate      Continent  \n",
       "0           1.57  North America  \n",
       "1           1.38           Asia  \n",
       "2           2.78  South America  \n",
       "3           1.25         Europe  \n",
       "4           2.91         Europe  "
      ]
     },
     "execution_count": 13,
     "metadata": {},
     "output_type": "execute_result"
    }
   ],
   "source": [
    "#hide\n",
    "for c in 'Cases, Deaths'.split(', '):\n",
    "    df_table[f'{c} (+)'] = (df_table[c] - df_table[f'P{c}']).clip(0)\n",
    "    #Clip ça veut dire, les chiffres negatif sont interdit\n",
    "df_table['Fatality Rate'] = (100* df_table['Deaths']/ df_table['Cases']).round(2)\n",
    "df_table['Continent'] = df_table['Country/Region'].map(mapping['map.continent'])\n",
    "df_table.head(5)"
   ]
  },
  {
   "cell_type": "code",
   "execution_count": 14,
   "id": "aboriginal-bulgaria",
   "metadata": {
    "execution": {
     "iopub.execute_input": "2021-12-25T00:25:25.970577Z",
     "iopub.status.busy": "2021-12-25T00:25:25.969992Z",
     "iopub.status.idle": "2021-12-25T00:25:25.972346Z",
     "shell.execute_reply": "2021-12-25T00:25:25.971882Z"
    },
    "papermill": {
     "duration": 0.039229,
     "end_time": "2021-12-25T00:25:25.972462",
     "exception": false,
     "start_time": "2021-12-25T00:25:25.933233",
     "status": "completed"
    },
    "tags": []
   },
   "outputs": [],
   "source": [
    "#hide\n",
    "#delete problematic countries from table\n",
    "df_table = df_table[~df_table['Country/Region'].isin(['Cape Verde', 'Cruise Ship', 'Kosovo'])]"
   ]
  },
  {
   "cell_type": "code",
   "execution_count": 15,
   "id": "fantastic-effect",
   "metadata": {
    "execution": {
     "iopub.execute_input": "2021-12-25T00:25:26.046650Z",
     "iopub.status.busy": "2021-12-25T00:25:26.046016Z",
     "iopub.status.idle": "2021-12-25T00:25:26.064730Z",
     "shell.execute_reply": "2021-12-25T00:25:26.065386Z"
    },
    "papermill": {
     "duration": 0.060699,
     "end_time": "2021-12-25T00:25:26.065572",
     "exception": false,
     "start_time": "2021-12-25T00:25:26.004873",
     "status": "completed"
    },
    "tags": []
   },
   "outputs": [
    {
     "data": {
      "text/html": [
       "<div>\n",
       "<style scoped>\n",
       "    .dataframe tbody tr th:only-of-type {\n",
       "        vertical-align: middle;\n",
       "    }\n",
       "\n",
       "    .dataframe tbody tr th {\n",
       "        vertical-align: top;\n",
       "    }\n",
       "\n",
       "    .dataframe thead th {\n",
       "        text-align: right;\n",
       "    }\n",
       "</style>\n",
       "<table border=\"1\" class=\"dataframe\">\n",
       "  <thead>\n",
       "    <tr style=\"text-align: right;\">\n",
       "      <th></th>\n",
       "      <th>Country/Region</th>\n",
       "      <th>Cases</th>\n",
       "      <th>Deaths</th>\n",
       "      <th>PCases</th>\n",
       "      <th>PDeaths</th>\n",
       "      <th>Cases (+)</th>\n",
       "      <th>Deaths (+)</th>\n",
       "      <th>Fatality Rate</th>\n",
       "      <th>Continent</th>\n",
       "    </tr>\n",
       "  </thead>\n",
       "  <tbody>\n",
       "    <tr>\n",
       "      <th>0</th>\n",
       "      <td>US</td>\n",
       "      <td>51814820</td>\n",
       "      <td>815423</td>\n",
       "      <td>51553481</td>\n",
       "      <td>812069</td>\n",
       "      <td>261339</td>\n",
       "      <td>3354</td>\n",
       "      <td>1.6</td>\n",
       "      <td>North America</td>\n",
       "    </tr>\n",
       "    <tr>\n",
       "      <th>1</th>\n",
       "      <td>India</td>\n",
       "      <td>34772626</td>\n",
       "      <td>479133</td>\n",
       "      <td>34765976</td>\n",
       "      <td>478759</td>\n",
       "      <td>6650</td>\n",
       "      <td>374</td>\n",
       "      <td>1.4</td>\n",
       "      <td>Asia</td>\n",
       "    </tr>\n",
       "    <tr>\n",
       "      <th>2</th>\n",
       "      <td>Brazil</td>\n",
       "      <td>22230943</td>\n",
       "      <td>618492</td>\n",
       "      <td>22227169</td>\n",
       "      <td>618366</td>\n",
       "      <td>3774</td>\n",
       "      <td>126</td>\n",
       "      <td>2.8</td>\n",
       "      <td>South America</td>\n",
       "    </tr>\n",
       "    <tr>\n",
       "      <th>3</th>\n",
       "      <td>United Kingdom</td>\n",
       "      <td>11836909</td>\n",
       "      <td>148187</td>\n",
       "      <td>11713654</td>\n",
       "      <td>148038</td>\n",
       "      <td>123255</td>\n",
       "      <td>149</td>\n",
       "      <td>1.3</td>\n",
       "      <td>Europe</td>\n",
       "    </tr>\n",
       "    <tr>\n",
       "      <th>4</th>\n",
       "      <td>Russia</td>\n",
       "      <td>10140429</td>\n",
       "      <td>295296</td>\n",
       "      <td>10114983</td>\n",
       "      <td>294322</td>\n",
       "      <td>25446</td>\n",
       "      <td>974</td>\n",
       "      <td>2.9</td>\n",
       "      <td>Europe</td>\n",
       "    </tr>\n",
       "  </tbody>\n",
       "</table>\n",
       "</div>"
      ],
      "text/plain": [
       "   Country/Region     Cases  Deaths    PCases  PDeaths  Cases (+)  Deaths (+)  \\\n",
       "0              US  51814820  815423  51553481   812069     261339        3354   \n",
       "1           India  34772626  479133  34765976   478759       6650         374   \n",
       "2          Brazil  22230943  618492  22227169   618366       3774         126   \n",
       "3  United Kingdom  11836909  148187  11713654   148038     123255         149   \n",
       "4          Russia  10140429  295296  10114983   294322      25446         974   \n",
       "\n",
       "   Fatality Rate      Continent  \n",
       "0            1.6  North America  \n",
       "1            1.4           Asia  \n",
       "2            2.8  South America  \n",
       "3            1.3         Europe  \n",
       "4            2.9         Europe  "
      ]
     },
     "execution_count": 15,
     "metadata": {},
     "output_type": "execute_result"
    }
   ],
   "source": [
    "#hide\n",
    "df_table = (pd.DataFrame(dict(Cases=dfc_cases, Deaths=dfc_deaths, PCases=dfp_cases, PDeaths=dfp_deaths))\n",
    "             .sort_values(by=['Cases', 'Deaths'], ascending=[False, False])\n",
    "             .reset_index())\n",
    "df_table.rename(columns={'index': 'Country/Region'}, inplace=True)\n",
    "for c in 'Cases, Deaths'.split(', '):\n",
    "    df_table[f'{c} (+)'] = (df_table[c] - df_table[f'P{c}']).clip(0)  # DATA BUG\n",
    "df_table['Fatality Rate'] = (100 * df_table['Deaths'] / df_table['Cases']).round(1)\n",
    "df_table['Continent'] = df_table['Country/Region'].map(mapping['map.continent'])\n",
    "df_table.head(5)"
   ]
  },
  {
   "cell_type": "code",
   "execution_count": 16,
   "id": "fewer-occasion",
   "metadata": {
    "execution": {
     "iopub.execute_input": "2021-12-25T00:25:26.142444Z",
     "iopub.status.busy": "2021-12-25T00:25:26.141795Z",
     "iopub.status.idle": "2021-12-25T00:25:26.145496Z",
     "shell.execute_reply": "2021-12-25T00:25:26.145965Z"
    },
    "papermill": {
     "duration": 0.045752,
     "end_time": "2021-12-25T00:25:26.146108",
     "exception": false,
     "start_time": "2021-12-25T00:25:26.100356",
     "status": "completed"
    },
    "tags": []
   },
   "outputs": [],
   "source": [
    "#hide\n",
    "#delete problematic countries from table\n",
    "df_table = df_table[~df_table['Country/Region'].isin(['Cape Verde', 'Cruise Ship', 'Kosovo'])]"
   ]
  },
  {
   "cell_type": "code",
   "execution_count": 17,
   "id": "related-center",
   "metadata": {
    "execution": {
     "iopub.execute_input": "2021-12-25T00:25:26.219711Z",
     "iopub.status.busy": "2021-12-25T00:25:26.219112Z",
     "iopub.status.idle": "2021-12-25T00:25:26.236058Z",
     "shell.execute_reply": "2021-12-25T00:25:26.235441Z"
    },
    "papermill": {
     "duration": 0.057517,
     "end_time": "2021-12-25T00:25:26.236200",
     "exception": false,
     "start_time": "2021-12-25T00:25:26.178683",
     "status": "completed"
    },
    "tags": []
   },
   "outputs": [],
   "source": [
    "#hide\n",
    "metrics = [df_table.columns[index] for index in [1,2,5,6]]\n",
    "# s_china = df_table[df_table['Country/Region'].eq('China')][metrics].sum().add_prefix('China ')\n",
    "s_us = df_table[df_table['Country/Region'].eq('US')][metrics].sum().add_prefix('US ')\n",
    "s_eu = df_table[df_table['Continent'].eq('Europe')][metrics].sum().add_prefix('EU ')\n",
    "s_ind = df_table[df_table['Country/Region'].eq('India')][metrics].sum().add_prefix('India ')\n",
    "summary = {'updated': pd.to_datetime(dt_today), 'since': pd.to_datetime(dt_yday)}\n",
    "summary = {'updated': pd.to_datetime(dt_today), 'since': pd.to_datetime(dt_yday)}\n",
    "summary = {**summary, **df_table[metrics].sum(), **s_ind, **s_us, **s_eu}"
   ]
  },
  {
   "cell_type": "code",
   "execution_count": 18,
   "id": "engaging-syndrome",
   "metadata": {
    "execution": {
     "iopub.execute_input": "2021-12-25T00:25:26.308413Z",
     "iopub.status.busy": "2021-12-25T00:25:26.307805Z",
     "iopub.status.idle": "2021-12-25T00:25:26.322460Z",
     "shell.execute_reply": "2021-12-25T00:25:26.322917Z"
    },
    "papermill": {
     "duration": 0.052741,
     "end_time": "2021-12-25T00:25:26.323063",
     "exception": false,
     "start_time": "2021-12-25T00:25:26.270322",
     "status": "completed"
    },
    "tags": []
   },
   "outputs": [],
   "source": [
    "#hide\n",
    "dft_ct_new_cases = dft_cases.groupby(COL_REGION)[dt_cols].sum().diff(axis=1).fillna(0).astype(int)"
   ]
  },
  {
   "cell_type": "code",
   "execution_count": 19,
   "id": "neutral-assignment",
   "metadata": {
    "execution": {
     "iopub.execute_input": "2021-12-25T00:25:26.397798Z",
     "iopub.status.busy": "2021-12-25T00:25:26.397242Z",
     "iopub.status.idle": "2021-12-25T00:25:26.399806Z",
     "shell.execute_reply": "2021-12-25T00:25:26.399357Z"
    },
    "papermill": {
     "duration": 0.043423,
     "end_time": "2021-12-25T00:25:26.399923",
     "exception": false,
     "start_time": "2021-12-25T00:25:26.356500",
     "status": "completed"
    },
    "tags": []
   },
   "outputs": [],
   "source": [
    "#hide\n",
    "everydaycases = dft_ct_new_cases.cumsum(axis=1)"
   ]
  },
  {
   "cell_type": "code",
   "execution_count": 20,
   "id": "parliamentary-calgary",
   "metadata": {
    "execution": {
     "iopub.execute_input": "2021-12-25T00:25:26.469909Z",
     "iopub.status.busy": "2021-12-25T00:25:26.469346Z",
     "iopub.status.idle": "2021-12-25T00:25:27.107255Z",
     "shell.execute_reply": "2021-12-25T00:25:27.106707Z"
    },
    "papermill": {
     "duration": 0.674879,
     "end_time": "2021-12-25T00:25:27.107400",
     "exception": false,
     "start_time": "2021-12-25T00:25:26.432521",
     "status": "completed"
    },
    "tags": []
   },
   "outputs": [],
   "source": [
    "#hide\n",
    "import pandas as pd\n",
    "import matplotlib.pyplot as plt\n",
    "import matplotlib.ticker as ticker\n",
    "import matplotlib.animation as animation\n",
    "from IPython.display import HTML"
   ]
  },
  {
   "cell_type": "code",
   "execution_count": 21,
   "id": "lasting-extraction",
   "metadata": {
    "execution": {
     "iopub.execute_input": "2021-12-25T00:25:27.182066Z",
     "iopub.status.busy": "2021-12-25T00:25:27.181462Z",
     "iopub.status.idle": "2021-12-25T00:25:27.189695Z",
     "shell.execute_reply": "2021-12-25T00:25:27.188652Z"
    },
    "papermill": {
     "duration": 0.048198,
     "end_time": "2021-12-25T00:25:27.189824",
     "exception": false,
     "start_time": "2021-12-25T00:25:27.141626",
     "status": "completed"
    },
    "tags": []
   },
   "outputs": [],
   "source": [
    "#hide\n",
    "t = everydaycases.stack()"
   ]
  },
  {
   "cell_type": "code",
   "execution_count": 22,
   "id": "premier-sleeve",
   "metadata": {
    "execution": {
     "iopub.execute_input": "2021-12-25T00:25:27.264007Z",
     "iopub.status.busy": "2021-12-25T00:25:27.262931Z",
     "iopub.status.idle": "2021-12-25T00:25:27.273533Z",
     "shell.execute_reply": "2021-12-25T00:25:27.272929Z"
    },
    "papermill": {
     "duration": 0.04957,
     "end_time": "2021-12-25T00:25:27.273659",
     "exception": false,
     "start_time": "2021-12-25T00:25:27.224089",
     "status": "completed"
    },
    "tags": []
   },
   "outputs": [],
   "source": [
    "#hide\n",
    "g = t.reset_index(['Country/Region'])"
   ]
  },
  {
   "cell_type": "code",
   "execution_count": 23,
   "id": "distributed-pittsburgh",
   "metadata": {
    "execution": {
     "iopub.execute_input": "2021-12-25T00:25:27.347759Z",
     "iopub.status.busy": "2021-12-25T00:25:27.346698Z",
     "iopub.status.idle": "2021-12-25T00:25:27.348856Z",
     "shell.execute_reply": "2021-12-25T00:25:27.349613Z"
    },
    "papermill": {
     "duration": 0.042291,
     "end_time": "2021-12-25T00:25:27.349742",
     "exception": false,
     "start_time": "2021-12-25T00:25:27.307451",
     "status": "completed"
    },
    "tags": []
   },
   "outputs": [],
   "source": [
    "#hide\n",
    "g.index.name = 'date'"
   ]
  },
  {
   "cell_type": "code",
   "execution_count": 24,
   "id": "naked-donor",
   "metadata": {
    "execution": {
     "iopub.execute_input": "2021-12-25T00:25:27.420885Z",
     "iopub.status.busy": "2021-12-25T00:25:27.420283Z",
     "iopub.status.idle": "2021-12-25T00:25:27.422649Z",
     "shell.execute_reply": "2021-12-25T00:25:27.423217Z"
    },
    "papermill": {
     "duration": 0.039853,
     "end_time": "2021-12-25T00:25:27.423358",
     "exception": false,
     "start_time": "2021-12-25T00:25:27.383505",
     "status": "completed"
    },
    "tags": []
   },
   "outputs": [],
   "source": [
    "# #hide\n",
    "# g = g.reset_index(['date'])"
   ]
  },
  {
   "cell_type": "code",
   "execution_count": 25,
   "id": "incomplete-mustang",
   "metadata": {
    "execution": {
     "iopub.execute_input": "2021-12-25T00:25:27.492310Z",
     "iopub.status.busy": "2021-12-25T00:25:27.491595Z",
     "iopub.status.idle": "2021-12-25T00:25:27.493124Z",
     "shell.execute_reply": "2021-12-25T00:25:27.493627Z"
    },
    "papermill": {
     "duration": 0.038473,
     "end_time": "2021-12-25T00:25:27.493758",
     "exception": false,
     "start_time": "2021-12-25T00:25:27.455285",
     "status": "completed"
    },
    "tags": []
   },
   "outputs": [],
   "source": [
    "#hide\n",
    "# g.head()"
   ]
  },
  {
   "cell_type": "code",
   "execution_count": 26,
   "id": "specific-kruger",
   "metadata": {
    "execution": {
     "iopub.execute_input": "2021-12-25T00:25:27.562475Z",
     "iopub.status.busy": "2021-12-25T00:25:27.561852Z",
     "iopub.status.idle": "2021-12-25T00:25:27.564616Z",
     "shell.execute_reply": "2021-12-25T00:25:27.565085Z"
    },
    "papermill": {
     "duration": 0.039375,
     "end_time": "2021-12-25T00:25:27.565214",
     "exception": false,
     "start_time": "2021-12-25T00:25:27.525839",
     "status": "completed"
    },
    "tags": []
   },
   "outputs": [],
   "source": [
    "#hide\n",
    "# g.columns = ['date','country','cases']"
   ]
  },
  {
   "cell_type": "code",
   "execution_count": 27,
   "id": "tender-conversion",
   "metadata": {
    "execution": {
     "iopub.execute_input": "2021-12-25T00:25:27.634686Z",
     "iopub.status.busy": "2021-12-25T00:25:27.633596Z",
     "iopub.status.idle": "2021-12-25T00:25:27.637317Z",
     "shell.execute_reply": "2021-12-25T00:25:27.636853Z"
    },
    "papermill": {
     "duration": 0.040101,
     "end_time": "2021-12-25T00:25:27.637427",
     "exception": false,
     "start_time": "2021-12-25T00:25:27.597326",
     "status": "completed"
    },
    "tags": []
   },
   "outputs": [],
   "source": [
    "#hide\n",
    "# g['continent'] = g.country"
   ]
  },
  {
   "cell_type": "code",
   "execution_count": 28,
   "id": "substantial-wilderness",
   "metadata": {
    "execution": {
     "iopub.execute_input": "2021-12-25T00:25:27.706480Z",
     "iopub.status.busy": "2021-12-25T00:25:27.705432Z",
     "iopub.status.idle": "2021-12-25T00:25:27.708821Z",
     "shell.execute_reply": "2021-12-25T00:25:27.709292Z"
    },
    "papermill": {
     "duration": 0.039901,
     "end_time": "2021-12-25T00:25:27.709425",
     "exception": false,
     "start_time": "2021-12-25T00:25:27.669524",
     "status": "completed"
    },
    "tags": []
   },
   "outputs": [],
   "source": [
    "#hide\n",
    "# cols = list(g.columns.values)"
   ]
  },
  {
   "cell_type": "code",
   "execution_count": 29,
   "id": "solved-farming",
   "metadata": {
    "execution": {
     "iopub.execute_input": "2021-12-25T00:25:27.778220Z",
     "iopub.status.busy": "2021-12-25T00:25:27.777628Z",
     "iopub.status.idle": "2021-12-25T00:25:27.781178Z",
     "shell.execute_reply": "2021-12-25T00:25:27.781602Z"
    },
    "papermill": {
     "duration": 0.039878,
     "end_time": "2021-12-25T00:25:27.781729",
     "exception": false,
     "start_time": "2021-12-25T00:25:27.741851",
     "status": "completed"
    },
    "tags": []
   },
   "outputs": [],
   "source": [
    "#hide\n",
    "# cols.insert(0, cols.pop())"
   ]
  },
  {
   "cell_type": "code",
   "execution_count": 30,
   "id": "executed-adoption",
   "metadata": {
    "execution": {
     "iopub.execute_input": "2021-12-25T00:25:27.849840Z",
     "iopub.status.busy": "2021-12-25T00:25:27.849275Z",
     "iopub.status.idle": "2021-12-25T00:25:27.851458Z",
     "shell.execute_reply": "2021-12-25T00:25:27.851020Z"
    },
    "papermill": {
     "duration": 0.037457,
     "end_time": "2021-12-25T00:25:27.851569",
     "exception": false,
     "start_time": "2021-12-25T00:25:27.814112",
     "status": "completed"
    },
    "tags": []
   },
   "outputs": [],
   "source": [
    "#hide\n",
    "# g = g[cols]"
   ]
  },
  {
   "cell_type": "code",
   "execution_count": 31,
   "id": "subject-dublin",
   "metadata": {
    "execution": {
     "iopub.execute_input": "2021-12-25T00:25:27.920541Z",
     "iopub.status.busy": "2021-12-25T00:25:27.919953Z",
     "iopub.status.idle": "2021-12-25T00:25:27.921279Z",
     "shell.execute_reply": "2021-12-25T00:25:27.921774Z"
    },
    "papermill": {
     "duration": 0.038321,
     "end_time": "2021-12-25T00:25:27.921901",
     "exception": false,
     "start_time": "2021-12-25T00:25:27.883580",
     "status": "completed"
    },
    "tags": []
   },
   "outputs": [],
   "source": [
    "#hide\n",
    "# g['continent'] = g['continent'].map(mapping['map.continent'])"
   ]
  },
  {
   "cell_type": "code",
   "execution_count": 32,
   "id": "freelance-scout",
   "metadata": {
    "execution": {
     "iopub.execute_input": "2021-12-25T00:25:27.992972Z",
     "iopub.status.busy": "2021-12-25T00:25:27.992378Z",
     "iopub.status.idle": "2021-12-25T00:25:27.994242Z",
     "shell.execute_reply": "2021-12-25T00:25:27.994721Z"
    },
    "papermill": {
     "duration": 0.039355,
     "end_time": "2021-12-25T00:25:27.994862",
     "exception": false,
     "start_time": "2021-12-25T00:25:27.955507",
     "status": "completed"
    },
    "tags": []
   },
   "outputs": [],
   "source": [
    "#hide\n",
    "# g.head()"
   ]
  },
  {
   "cell_type": "code",
   "execution_count": 33,
   "id": "limited-engine",
   "metadata": {
    "execution": {
     "iopub.execute_input": "2021-12-25T00:25:28.065994Z",
     "iopub.status.busy": "2021-12-25T00:25:28.064956Z",
     "iopub.status.idle": "2021-12-25T00:25:28.069931Z",
     "shell.execute_reply": "2021-12-25T00:25:28.070774Z"
    },
    "papermill": {
     "duration": 0.042553,
     "end_time": "2021-12-25T00:25:28.071007",
     "exception": false,
     "start_time": "2021-12-25T00:25:28.028454",
     "status": "completed"
    },
    "tags": []
   },
   "outputs": [],
   "source": [
    "# hide\n",
    "# g['date'] = g['date'].astype('datetime64[ns]')"
   ]
  },
  {
   "cell_type": "code",
   "execution_count": 34,
   "id": "sophisticated-supervisor",
   "metadata": {
    "execution": {
     "iopub.execute_input": "2021-12-25T00:25:28.142833Z",
     "iopub.status.busy": "2021-12-25T00:25:28.141986Z",
     "iopub.status.idle": "2021-12-25T00:25:28.145299Z",
     "shell.execute_reply": "2021-12-25T00:25:28.144741Z"
    },
    "papermill": {
     "duration": 0.040031,
     "end_time": "2021-12-25T00:25:28.145406",
     "exception": false,
     "start_time": "2021-12-25T00:25:28.105375",
     "status": "completed"
    },
    "tags": []
   },
   "outputs": [],
   "source": [
    "#hide\n",
    "# g['date'] = g.date.dt.dayofyear"
   ]
  },
  {
   "cell_type": "code",
   "execution_count": 35,
   "id": "inside-dubai",
   "metadata": {
    "execution": {
     "iopub.execute_input": "2021-12-25T00:25:28.213899Z",
     "iopub.status.busy": "2021-12-25T00:25:28.213308Z",
     "iopub.status.idle": "2021-12-25T00:25:28.217088Z",
     "shell.execute_reply": "2021-12-25T00:25:28.216646Z"
    },
    "papermill": {
     "duration": 0.039706,
     "end_time": "2021-12-25T00:25:28.217198",
     "exception": false,
     "start_time": "2021-12-25T00:25:28.177492",
     "status": "completed"
    },
    "tags": []
   },
   "outputs": [],
   "source": [
    "#hide\n",
    "# g = g.rename(columns= {'continent':'group','country':'name','cases':'value'})"
   ]
  },
  {
   "cell_type": "code",
   "execution_count": 36,
   "id": "fleet-motorcycle",
   "metadata": {
    "execution": {
     "iopub.execute_input": "2021-12-25T00:25:28.287133Z",
     "iopub.status.busy": "2021-12-25T00:25:28.286047Z",
     "iopub.status.idle": "2021-12-25T00:25:28.288229Z",
     "shell.execute_reply": "2021-12-25T00:25:28.289038Z"
    },
    "papermill": {
     "duration": 0.039157,
     "end_time": "2021-12-25T00:25:28.289250",
     "exception": false,
     "start_time": "2021-12-25T00:25:28.250093",
     "status": "completed"
    },
    "tags": []
   },
   "outputs": [],
   "source": [
    "#hide\n",
    "# cols = ['name','group','day','value']"
   ]
  },
  {
   "cell_type": "code",
   "execution_count": 37,
   "id": "continued-sleeping",
   "metadata": {
    "execution": {
     "iopub.execute_input": "2021-12-25T00:25:28.360969Z",
     "iopub.status.busy": "2021-12-25T00:25:28.359937Z",
     "iopub.status.idle": "2021-12-25T00:25:28.365164Z",
     "shell.execute_reply": "2021-12-25T00:25:28.365764Z"
    },
    "papermill": {
     "duration": 0.041989,
     "end_time": "2021-12-25T00:25:28.365902",
     "exception": false,
     "start_time": "2021-12-25T00:25:28.323913",
     "status": "completed"
    },
    "tags": []
   },
   "outputs": [],
   "source": [
    "#hide\n",
    "# g.rename(columns= {'date':'day'},inplace = True)"
   ]
  },
  {
   "cell_type": "code",
   "execution_count": 38,
   "id": "major-fight",
   "metadata": {
    "execution": {
     "iopub.execute_input": "2021-12-25T00:25:28.434562Z",
     "iopub.status.busy": "2021-12-25T00:25:28.433935Z",
     "iopub.status.idle": "2021-12-25T00:25:28.436552Z",
     "shell.execute_reply": "2021-12-25T00:25:28.437031Z"
    },
    "papermill": {
     "duration": 0.038604,
     "end_time": "2021-12-25T00:25:28.437160",
     "exception": false,
     "start_time": "2021-12-25T00:25:28.398556",
     "status": "completed"
    },
    "tags": []
   },
   "outputs": [],
   "source": [
    "#hide\n",
    "# g = g[cols]"
   ]
  },
  {
   "cell_type": "code",
   "execution_count": 39,
   "id": "structured-mobile",
   "metadata": {
    "execution": {
     "iopub.execute_input": "2021-12-25T00:25:28.506839Z",
     "iopub.status.busy": "2021-12-25T00:25:28.505752Z",
     "iopub.status.idle": "2021-12-25T00:25:28.509933Z",
     "shell.execute_reply": "2021-12-25T00:25:28.509491Z"
    },
    "papermill": {
     "duration": 0.040644,
     "end_time": "2021-12-25T00:25:28.510043",
     "exception": false,
     "start_time": "2021-12-25T00:25:28.469399",
     "status": "completed"
    },
    "tags": []
   },
   "outputs": [],
   "source": [
    "# #hide\n",
    "# g = g[g.group.notna()]"
   ]
  },
  {
   "cell_type": "code",
   "execution_count": 40,
   "id": "determined-closing",
   "metadata": {
    "execution": {
     "iopub.execute_input": "2021-12-25T00:25:28.579625Z",
     "iopub.status.busy": "2021-12-25T00:25:28.579041Z",
     "iopub.status.idle": "2021-12-25T00:25:28.580752Z",
     "shell.execute_reply": "2021-12-25T00:25:28.581170Z"
    },
    "papermill": {
     "duration": 0.038459,
     "end_time": "2021-12-25T00:25:28.581293",
     "exception": false,
     "start_time": "2021-12-25T00:25:28.542834",
     "status": "completed"
    },
    "tags": []
   },
   "outputs": [],
   "source": [
    "# #hide\n",
    "# colors = dict(zip(\n",
    "#     [\"Oceania\", \"Europe\", \"Asia\", \"South America\", \"Middle East\", \"North America\", \"Africa\"],\n",
    "#     [\"#adb0ff\", \"#ffb3ff\", \"#90d595\", \"#e48381\", \"#aafbff\", \"#f7bb5f\", \"#eafb50\"]\n",
    "# ))\n",
    "# group_lk = g.set_index('name')['group'].to_dict()"
   ]
  },
  {
   "cell_type": "code",
   "execution_count": null,
   "id": "gross-drinking",
   "metadata": {
    "papermill": {
     "duration": 0.03256,
     "end_time": "2021-12-25T00:25:28.645475",
     "exception": false,
     "start_time": "2021-12-25T00:25:28.612915",
     "status": "completed"
    },
    "tags": []
   },
   "outputs": [],
   "source": []
  },
  {
   "cell_type": "code",
   "execution_count": 41,
   "id": "subject-macintosh",
   "metadata": {
    "execution": {
     "iopub.execute_input": "2021-12-25T00:25:28.713825Z",
     "iopub.status.busy": "2021-12-25T00:25:28.713250Z",
     "iopub.status.idle": "2021-12-25T00:25:28.715624Z",
     "shell.execute_reply": "2021-12-25T00:25:28.716151Z"
    },
    "papermill": {
     "duration": 0.038597,
     "end_time": "2021-12-25T00:25:28.716274",
     "exception": false,
     "start_time": "2021-12-25T00:25:28.677677",
     "status": "completed"
    },
    "tags": []
   },
   "outputs": [],
   "source": [
    "# #hide\n",
    "# fig, ax = plt.subplots(figsize=(15, 8))\n",
    "\n",
    "# def draw_barchart(current_day):\n",
    "#     dff = g[g['day'].eq(current_day)].sort_values(by='value', ascending=True).tail(10)\n",
    "#     ax.clear()\n",
    "#     ax.barh(dff['name'], dff['value'], color=[colors[group_lk[x]] for x in dff['name']])\n",
    "#     dx = dff['value'].max() / 200\n",
    "    \n",
    "#     for i, (value, name) in enumerate(zip(dff['value'], dff['name'])):\n",
    "#         ax.text(value-dx, i,     name,           size=14, weight=600, ha='right', va='bottom')\n",
    "#         ax.text(value-dx, i-.25, group_lk[name], size=10, color='#444444', ha='right', va='baseline')\n",
    "#         ax.text(value+dx, i,     f'{value:,.0f}',  size=14, ha='left',  va='center')\n",
    "#     ax.text(1, 0.4, current_day, transform=ax.transAxes, color='#777777', size=46, ha='right', weight=800)\n",
    "#     ax.text(0, 1.06, 'Population (thousands)', transform=ax.transAxes, size=12, color='#777777')\n",
    "#     ax.xaxis.set_major_formatter(ticker.StrMethodFormatter('{x:,.0f}'))\n",
    "#     ax.xaxis.set_ticks_position('top')\n",
    "#     ax.tick_params(axis='x', colors='#777777', labelsize=12)\n",
    "#     ax.set_yticks([])\n",
    "#     ax.margins(0, 0.01)\n",
    "#     ax.grid(which='major', axis='x', linestyle='-')\n",
    "#     ax.set_axisbelow(True)\n",
    "    \n",
    "#     ax.text(0, 1.15, 'Coronavirus',\n",
    "#             transform=ax.transAxes, size=24, weight=600, ha='left', va='top')\n",
    "# #     ax.text(1, 0, 'by @pratapvardhan; credit @jburnmurdoch', transform=ax.transAxes, color='#777777', ha='right',\n",
    "# #             bbox=dict(facecolor='white', alpha=0.8, edgecolor='white'))\n",
    "#     plt.box(False)"
   ]
  },
  {
   "cell_type": "code",
   "execution_count": 42,
   "id": "sexual-wages",
   "metadata": {
    "execution": {
     "iopub.execute_input": "2021-12-25T00:25:28.785247Z",
     "iopub.status.busy": "2021-12-25T00:25:28.784283Z",
     "iopub.status.idle": "2021-12-25T00:25:28.789148Z",
     "shell.execute_reply": "2021-12-25T00:25:28.789890Z"
    },
    "papermill": {
     "duration": 0.041891,
     "end_time": "2021-12-25T00:25:28.790097",
     "exception": false,
     "start_time": "2021-12-25T00:25:28.748206",
     "status": "completed"
    },
    "tags": []
   },
   "outputs": [],
   "source": [
    "# #hide_input\n",
    "# fig, ax = plt.subplots(figsize=(15, 8))\n",
    "# animator = animation.FuncAnimation(fig, draw_barchart, frames=range(g.day.values.min(), g.day.values.max()))\n",
    "# HTML(animator.to_jshtml())\n",
    "# # or use animator.to_html5_video() or animator.save() "
   ]
  },
  {
   "cell_type": "code",
   "execution_count": null,
   "id": "australian-container",
   "metadata": {
    "papermill": {
     "duration": 0.031951,
     "end_time": "2021-12-25T00:25:28.854848",
     "exception": false,
     "start_time": "2021-12-25T00:25:28.822897",
     "status": "completed"
    },
    "tags": []
   },
   "outputs": [],
   "source": []
  },
  {
   "cell_type": "code",
   "execution_count": null,
   "id": "mediterranean-pontiac",
   "metadata": {
    "papermill": {
     "duration": 0.031549,
     "end_time": "2021-12-25T00:25:28.918095",
     "exception": false,
     "start_time": "2021-12-25T00:25:28.886546",
     "status": "completed"
    },
    "tags": []
   },
   "outputs": [],
   "source": []
  },
  {
   "cell_type": "code",
   "execution_count": null,
   "id": "aging-legislature",
   "metadata": {
    "papermill": {
     "duration": 0.032289,
     "end_time": "2021-12-25T00:25:28.982883",
     "exception": false,
     "start_time": "2021-12-25T00:25:28.950594",
     "status": "completed"
    },
    "tags": []
   },
   "outputs": [],
   "source": []
  }
 ],
 "metadata": {
  "kernelspec": {
   "display_name": "Python 3",
   "language": "python",
   "name": "python3"
  },
  "language_info": {
   "codemirror_mode": {
    "name": "ipython",
    "version": 3
   },
   "file_extension": ".py",
   "mimetype": "text/x-python",
   "name": "python",
   "nbconvert_exporter": "python",
   "pygments_lexer": "ipython3",
   "version": "3.6.15"
  },
  "papermill": {
   "duration": 6.430416,
   "end_time": "2021-12-25T00:25:29.325620",
   "environment_variables": {},
   "exception": null,
   "input_path": "2020-03-21-covid19exp.ipynb",
   "output_path": "2020-03-21-covid19exp.ipynb",
   "parameters": {},
   "start_time": "2021-12-25T00:25:22.895204",
   "version": "2.0.0"
  }
 },
 "nbformat": 4,
 "nbformat_minor": 5
}