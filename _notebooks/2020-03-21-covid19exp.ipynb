{
 "cells": [
  {
   "cell_type": "markdown",
   "id": "muslim-click",
   "metadata": {
    "papermill": {
     "duration": 0.04286,
     "end_time": "2021-01-27T12:07:56.505262",
     "exception": false,
     "start_time": "2021-01-27T12:07:56.462402",
     "status": "completed"
    },
    "tags": []
   },
   "source": [
    "# COVID-19 Case Race\n",
    "> A race chart to see rising cases around the world\n",
    "\n",
    "- author: Hargun Oberoi\n",
    "- image: images/covid-overview.png\n",
    "- hide: false\n",
    "- badges: false"
   ]
  },
  {
   "cell_type": "code",
   "execution_count": 1,
   "id": "proof-material",
   "metadata": {
    "execution": {
     "iopub.execute_input": "2021-01-27T12:07:56.592347Z",
     "iopub.status.busy": "2021-01-27T12:07:56.591746Z",
     "iopub.status.idle": "2021-01-27T12:07:56.949288Z",
     "shell.execute_reply": "2021-01-27T12:07:56.948578Z"
    },
    "papermill": {
     "duration": 0.406846,
     "end_time": "2021-01-27T12:07:56.949479",
     "exception": false,
     "start_time": "2021-01-27T12:07:56.542633",
     "status": "completed"
    },
    "tags": []
   },
   "outputs": [],
   "source": [
    "#hide\n",
    "import numpy as np\n",
    "import pandas as pd\n",
    "from jinja2 import Template\n",
    "from IPython.display import HTML"
   ]
  },
  {
   "cell_type": "code",
   "execution_count": 2,
   "id": "developed-terminology",
   "metadata": {
    "execution": {
     "iopub.execute_input": "2021-01-27T12:07:57.028242Z",
     "iopub.status.busy": "2021-01-27T12:07:57.027596Z",
     "iopub.status.idle": "2021-01-27T12:07:57.029533Z",
     "shell.execute_reply": "2021-01-27T12:07:57.030182Z"
    },
    "papermill": {
     "duration": 0.042555,
     "end_time": "2021-01-27T12:07:57.030323",
     "exception": false,
     "start_time": "2021-01-27T12:07:56.987768",
     "status": "completed"
    },
    "tags": []
   },
   "outputs": [],
   "source": [
    "#hide\n",
    "\n",
    "# FETCH\n",
    "base_url = 'https://raw.githubusercontent.com/pratapvardhan/notebooks/master/covid19/'\n",
    "paths = {\n",
    "    'mapping': base_url + 'mapping_countries.csv',\n",
    "    'overview': base_url + 'overview.tpl'\n",
    "}"
   ]
  },
  {
   "cell_type": "code",
   "execution_count": 3,
   "id": "dynamic-saver",
   "metadata": {
    "execution": {
     "iopub.execute_input": "2021-01-27T12:07:57.116937Z",
     "iopub.status.busy": "2021-01-27T12:07:57.113902Z",
     "iopub.status.idle": "2021-01-27T12:07:57.120776Z",
     "shell.execute_reply": "2021-01-27T12:07:57.120046Z"
    },
    "papermill": {
     "duration": 0.051901,
     "end_time": "2021-01-27T12:07:57.120933",
     "exception": false,
     "start_time": "2021-01-27T12:07:57.069032",
     "status": "completed"
    },
    "tags": []
   },
   "outputs": [
    {
     "data": {
      "text/plain": [
       "'https://raw.githubusercontent.com/pratapvardhan/notebooks/master/covid19/mapping_countries.csv'"
      ]
     },
     "execution_count": 3,
     "metadata": {},
     "output_type": "execute_result"
    }
   ],
   "source": [
    "#hide\n",
    "paths['mapping']"
   ]
  },
  {
   "cell_type": "code",
   "execution_count": 4,
   "id": "urban-software",
   "metadata": {
    "execution": {
     "iopub.execute_input": "2021-01-27T12:07:57.202391Z",
     "iopub.status.busy": "2021-01-27T12:07:57.201546Z",
     "iopub.status.idle": "2021-01-27T12:07:57.205161Z",
     "shell.execute_reply": "2021-01-27T12:07:57.204592Z"
    },
    "papermill": {
     "duration": 0.047594,
     "end_time": "2021-01-27T12:07:57.205282",
     "exception": false,
     "start_time": "2021-01-27T12:07:57.157688",
     "status": "completed"
    },
    "tags": []
   },
   "outputs": [],
   "source": [
    "#hide\n",
    "def get_mappings(url):\n",
    "    df = pd.read_csv(url)\n",
    "    return {\n",
    "        'df': df,\n",
    "        'replace.country': dict(df.dropna(subset=['Name']).set_index('Country')['Name']),\n",
    "        'map.continent': dict(df.set_index('Name')['Continent'])\n",
    "    }"
   ]
  },
  {
   "cell_type": "code",
   "execution_count": 5,
   "id": "intimate-machinery",
   "metadata": {
    "execution": {
     "iopub.execute_input": "2021-01-27T12:07:57.290389Z",
     "iopub.status.busy": "2021-01-27T12:07:57.289625Z",
     "iopub.status.idle": "2021-01-27T12:07:57.339584Z",
     "shell.execute_reply": "2021-01-27T12:07:57.340248Z"
    },
    "papermill": {
     "duration": 0.094361,
     "end_time": "2021-01-27T12:07:57.340474",
     "exception": false,
     "start_time": "2021-01-27T12:07:57.246113",
     "status": "completed"
    },
    "tags": []
   },
   "outputs": [],
   "source": [
    "#hide\n",
    "mapping = get_mappings(paths['mapping'])"
   ]
  },
  {
   "cell_type": "code",
   "execution_count": 6,
   "id": "certified-tactics",
   "metadata": {
    "execution": {
     "iopub.execute_input": "2021-01-27T12:07:57.422866Z",
     "iopub.status.busy": "2021-01-27T12:07:57.421735Z",
     "iopub.status.idle": "2021-01-27T12:07:57.424971Z",
     "shell.execute_reply": "2021-01-27T12:07:57.427024Z"
    },
    "papermill": {
     "duration": 0.049839,
     "end_time": "2021-01-27T12:07:57.427473",
     "exception": false,
     "start_time": "2021-01-27T12:07:57.377634",
     "status": "completed"
    },
    "tags": []
   },
   "outputs": [],
   "source": [
    "#hide\n",
    "def get_template(path):\n",
    "    from urllib.parse import urlparse\n",
    "    if bool(urlparse(path).netloc):\n",
    "        from urllib.request import urlopen\n",
    "        return urlopen(path).read().decode('utf8')\n",
    "    return open(path).read()"
   ]
  },
  {
   "cell_type": "code",
   "execution_count": 7,
   "id": "realistic-blast",
   "metadata": {
    "execution": {
     "iopub.execute_input": "2021-01-27T12:07:57.507461Z",
     "iopub.status.busy": "2021-01-27T12:07:57.506845Z",
     "iopub.status.idle": "2021-01-27T12:07:57.508990Z",
     "shell.execute_reply": "2021-01-27T12:07:57.509479Z"
    },
    "papermill": {
     "duration": 0.045944,
     "end_time": "2021-01-27T12:07:57.509619",
     "exception": false,
     "start_time": "2021-01-27T12:07:57.463675",
     "status": "completed"
    },
    "tags": []
   },
   "outputs": [],
   "source": [
    "#hide\n",
    "def get_frame(name):\n",
    "    url = (\n",
    "        'https://raw.githubusercontent.com/CSSEGISandData/COVID-19/master/csse_covid_19_data/'\n",
    "        f'csse_covid_19_time_series/time_series_covid19_{name}_global.csv')\n",
    "    df = pd.read_csv(url)\n",
    "    # rename countries\n",
    "    df['Country/Region'] = df['Country/Region'].replace(mapping['replace.country'])\n",
    "    return df"
   ]
  },
  {
   "cell_type": "code",
   "execution_count": 8,
   "id": "affiliated-characterization",
   "metadata": {
    "execution": {
     "iopub.execute_input": "2021-01-27T12:07:57.587199Z",
     "iopub.status.busy": "2021-01-27T12:07:57.586485Z",
     "iopub.status.idle": "2021-01-27T12:07:57.588865Z",
     "shell.execute_reply": "2021-01-27T12:07:57.588334Z"
    },
    "papermill": {
     "duration": 0.045054,
     "end_time": "2021-01-27T12:07:57.589037",
     "exception": false,
     "start_time": "2021-01-27T12:07:57.543983",
     "status": "completed"
    },
    "tags": []
   },
   "outputs": [],
   "source": [
    "#hide\n",
    "def get_dates(df):\n",
    "    dt_cols = df.columns[~df.columns.isin(['Province/State', 'Country/Region', 'Lat', 'Long'])]\n",
    "    LAST_DATE_I = -1\n",
    "    # sometimes last column may be empty, then go backwards\n",
    "    for i in range(-1, -len(dt_cols), -1):\n",
    "        if not df[dt_cols[i]].fillna(0).eq(0).all():\n",
    "            LAST_DATE_I = i\n",
    "            break\n",
    "    return LAST_DATE_I, dt_cols"
   ]
  },
  {
   "cell_type": "code",
   "execution_count": 9,
   "id": "recent-optimization",
   "metadata": {
    "execution": {
     "iopub.execute_input": "2021-01-27T12:07:57.664366Z",
     "iopub.status.busy": "2021-01-27T12:07:57.663693Z",
     "iopub.status.idle": "2021-01-27T12:07:58.051938Z",
     "shell.execute_reply": "2021-01-27T12:07:58.049441Z"
    },
    "papermill": {
     "duration": 0.427691,
     "end_time": "2021-01-27T12:07:58.052090",
     "exception": false,
     "start_time": "2021-01-27T12:07:57.624399",
     "status": "completed"
    },
    "tags": []
   },
   "outputs": [],
   "source": [
    "#hide\n",
    "COL_REGION = 'Country/Region'\n",
    "# Confirmed, Recovered, Deaths\n",
    "df = get_frame('confirmed')\n",
    "# dft_: timeseries, dfc_: today country agg\n",
    "dft_cases = df\n",
    "dft_deaths = get_frame('deaths')\n",
    "dft_recovered = get_frame('recovered')\n",
    "LAST_DATE_I, dt_cols = get_dates(df)"
   ]
  },
  {
   "cell_type": "code",
   "execution_count": 10,
   "id": "absolute-copper",
   "metadata": {
    "execution": {
     "iopub.execute_input": "2021-01-27T12:07:58.132403Z",
     "iopub.status.busy": "2021-01-27T12:07:58.131756Z",
     "iopub.status.idle": "2021-01-27T12:07:58.134587Z",
     "shell.execute_reply": "2021-01-27T12:07:58.133866Z"
    },
    "papermill": {
     "duration": 0.045271,
     "end_time": "2021-01-27T12:07:58.134755",
     "exception": false,
     "start_time": "2021-01-27T12:07:58.089484",
     "status": "completed"
    },
    "tags": []
   },
   "outputs": [],
   "source": [
    "#hide\n",
    "LAST_DATE_I, dt_cols = get_dates(df)\n",
    "dt_today =dt_cols[LAST_DATE_I]\n",
    "# dt_5day = dt_cols[LAST_DATE_I - 5]\n",
    "dt_yday = dt_cols[LAST_DATE_I - 1]"
   ]
  },
  {
   "cell_type": "code",
   "execution_count": 11,
   "id": "restricted-sheriff",
   "metadata": {
    "execution": {
     "iopub.execute_input": "2021-01-27T12:07:58.214146Z",
     "iopub.status.busy": "2021-01-27T12:07:58.213463Z",
     "iopub.status.idle": "2021-01-27T12:07:58.223334Z",
     "shell.execute_reply": "2021-01-27T12:07:58.222774Z"
    },
    "papermill": {
     "duration": 0.052715,
     "end_time": "2021-01-27T12:07:58.223471",
     "exception": false,
     "start_time": "2021-01-27T12:07:58.170756",
     "status": "completed"
    },
    "tags": []
   },
   "outputs": [],
   "source": [
    "#hide\n",
    "dfc_cases = dft_cases.groupby(COL_REGION)[dt_today].sum()\n",
    "dfc_deaths = dft_deaths.groupby(COL_REGION)[dt_today].sum()\n",
    "# dfp_cases = dft_cases.groupby(COL_REGION)[dt_5day].sum()\n",
    "# dfp_deaths = dft_deaths.groupby(COL_REGION)[dt_5day].sum()\n",
    "dfp_cases = dft_cases.groupby(COL_REGION)[dt_yday].sum()\n",
    "dfp_deaths = dft_deaths.groupby(COL_REGION)[dt_yday].sum()"
   ]
  },
  {
   "cell_type": "code",
   "execution_count": 12,
   "id": "deluxe-hepatitis",
   "metadata": {
    "execution": {
     "iopub.execute_input": "2021-01-27T12:07:58.306331Z",
     "iopub.status.busy": "2021-01-27T12:07:58.305694Z",
     "iopub.status.idle": "2021-01-27T12:07:58.310967Z",
     "shell.execute_reply": "2021-01-27T12:07:58.311574Z"
    },
    "papermill": {
     "duration": 0.049222,
     "end_time": "2021-01-27T12:07:58.311725",
     "exception": false,
     "start_time": "2021-01-27T12:07:58.262503",
     "status": "completed"
    },
    "tags": []
   },
   "outputs": [],
   "source": [
    "#hide\n",
    "df_table = (pd.DataFrame(dict(Cases = dfc_cases, Deaths = dfc_deaths, PCases = dfp_cases, PDeaths = dfp_deaths))\n",
    "            .sort_values(by = ['Cases','Deaths'], ascending = [False, False])\n",
    "            .reset_index())"
   ]
  },
  {
   "cell_type": "code",
   "execution_count": 13,
   "id": "educational-chancellor",
   "metadata": {
    "execution": {
     "iopub.execute_input": "2021-01-27T12:07:58.411696Z",
     "iopub.status.busy": "2021-01-27T12:07:58.411052Z",
     "iopub.status.idle": "2021-01-27T12:07:58.420176Z",
     "shell.execute_reply": "2021-01-27T12:07:58.419275Z"
    },
    "papermill": {
     "duration": 0.068634,
     "end_time": "2021-01-27T12:07:58.420344",
     "exception": false,
     "start_time": "2021-01-27T12:07:58.351710",
     "status": "completed"
    },
    "tags": []
   },
   "outputs": [
    {
     "data": {
      "text/html": [
       "<div>\n",
       "<style scoped>\n",
       "    .dataframe tbody tr th:only-of-type {\n",
       "        vertical-align: middle;\n",
       "    }\n",
       "\n",
       "    .dataframe tbody tr th {\n",
       "        vertical-align: top;\n",
       "    }\n",
       "\n",
       "    .dataframe thead th {\n",
       "        text-align: right;\n",
       "    }\n",
       "</style>\n",
       "<table border=\"1\" class=\"dataframe\">\n",
       "  <thead>\n",
       "    <tr style=\"text-align: right;\">\n",
       "      <th></th>\n",
       "      <th>Country/Region</th>\n",
       "      <th>Cases</th>\n",
       "      <th>Deaths</th>\n",
       "      <th>PCases</th>\n",
       "      <th>PDeaths</th>\n",
       "      <th>Cases (+)</th>\n",
       "      <th>Deaths (+)</th>\n",
       "      <th>Fatality Rate</th>\n",
       "      <th>Continent</th>\n",
       "    </tr>\n",
       "  </thead>\n",
       "  <tbody>\n",
       "    <tr>\n",
       "      <th>0</th>\n",
       "      <td>US</td>\n",
       "      <td>25443699</td>\n",
       "      <td>425216</td>\n",
       "      <td>25297059</td>\n",
       "      <td>421129</td>\n",
       "      <td>146640</td>\n",
       "      <td>4087</td>\n",
       "      <td>1.67</td>\n",
       "      <td>North America</td>\n",
       "    </tr>\n",
       "    <tr>\n",
       "      <th>1</th>\n",
       "      <td>India</td>\n",
       "      <td>10689527</td>\n",
       "      <td>153724</td>\n",
       "      <td>10676838</td>\n",
       "      <td>153587</td>\n",
       "      <td>12689</td>\n",
       "      <td>137</td>\n",
       "      <td>1.44</td>\n",
       "      <td>Asia</td>\n",
       "    </tr>\n",
       "    <tr>\n",
       "      <th>2</th>\n",
       "      <td>Brazil</td>\n",
       "      <td>8933356</td>\n",
       "      <td>218878</td>\n",
       "      <td>8871393</td>\n",
       "      <td>217664</td>\n",
       "      <td>61963</td>\n",
       "      <td>1214</td>\n",
       "      <td>2.45</td>\n",
       "      <td>South America</td>\n",
       "    </tr>\n",
       "    <tr>\n",
       "      <th>3</th>\n",
       "      <td>Russia</td>\n",
       "      <td>3716228</td>\n",
       "      <td>69391</td>\n",
       "      <td>3698246</td>\n",
       "      <td>68841</td>\n",
       "      <td>17982</td>\n",
       "      <td>550</td>\n",
       "      <td>1.87</td>\n",
       "      <td>Europe</td>\n",
       "    </tr>\n",
       "    <tr>\n",
       "      <th>4</th>\n",
       "      <td>United Kingdom</td>\n",
       "      <td>3700268</td>\n",
       "      <td>100359</td>\n",
       "      <td>3680101</td>\n",
       "      <td>98723</td>\n",
       "      <td>20167</td>\n",
       "      <td>1636</td>\n",
       "      <td>2.71</td>\n",
       "      <td>Europe</td>\n",
       "    </tr>\n",
       "  </tbody>\n",
       "</table>\n",
       "</div>"
      ],
      "text/plain": [
       "   Country/Region     Cases  Deaths    PCases  PDeaths  Cases (+)  Deaths (+)  \\\n",
       "0              US  25443699  425216  25297059   421129     146640        4087   \n",
       "1           India  10689527  153724  10676838   153587      12689         137   \n",
       "2          Brazil   8933356  218878   8871393   217664      61963        1214   \n",
       "3          Russia   3716228   69391   3698246    68841      17982         550   \n",
       "4  United Kingdom   3700268  100359   3680101    98723      20167        1636   \n",
       "\n",
       "   Fatality Rate      Continent  \n",
       "0           1.67  North America  \n",
       "1           1.44           Asia  \n",
       "2           2.45  South America  \n",
       "3           1.87         Europe  \n",
       "4           2.71         Europe  "
      ]
     },
     "execution_count": 13,
     "metadata": {},
     "output_type": "execute_result"
    }
   ],
   "source": [
    "#hide\n",
    "for c in 'Cases, Deaths'.split(', '):\n",
    "    df_table[f'{c} (+)'] = (df_table[c] - df_table[f'P{c}']).clip(0)\n",
    "    #Clip ça veut dire, les chiffres negatif sont interdit\n",
    "df_table['Fatality Rate'] = (100* df_table['Deaths']/ df_table['Cases']).round(2)\n",
    "df_table['Continent'] = df_table['Country/Region'].map(mapping['map.continent'])\n",
    "df_table.head(5)"
   ]
  },
  {
   "cell_type": "code",
   "execution_count": 14,
   "id": "aboriginal-bulgaria",
   "metadata": {
    "execution": {
     "iopub.execute_input": "2021-01-27T12:07:58.506771Z",
     "iopub.status.busy": "2021-01-27T12:07:58.505935Z",
     "iopub.status.idle": "2021-01-27T12:07:58.508775Z",
     "shell.execute_reply": "2021-01-27T12:07:58.508223Z"
    },
    "papermill": {
     "duration": 0.046599,
     "end_time": "2021-01-27T12:07:58.508911",
     "exception": false,
     "start_time": "2021-01-27T12:07:58.462312",
     "status": "completed"
    },
    "tags": []
   },
   "outputs": [],
   "source": [
    "#hide\n",
    "#delete problematic countries from table\n",
    "df_table = df_table[~df_table['Country/Region'].isin(['Cape Verde', 'Cruise Ship', 'Kosovo'])]"
   ]
  },
  {
   "cell_type": "code",
   "execution_count": 15,
   "id": "fantastic-effect",
   "metadata": {
    "execution": {
     "iopub.execute_input": "2021-01-27T12:07:58.595072Z",
     "iopub.status.busy": "2021-01-27T12:07:58.594321Z",
     "iopub.status.idle": "2021-01-27T12:07:58.616419Z",
     "shell.execute_reply": "2021-01-27T12:07:58.615879Z"
    },
    "papermill": {
     "duration": 0.069479,
     "end_time": "2021-01-27T12:07:58.616548",
     "exception": false,
     "start_time": "2021-01-27T12:07:58.547069",
     "status": "completed"
    },
    "tags": []
   },
   "outputs": [
    {
     "data": {
      "text/html": [
       "<div>\n",
       "<style scoped>\n",
       "    .dataframe tbody tr th:only-of-type {\n",
       "        vertical-align: middle;\n",
       "    }\n",
       "\n",
       "    .dataframe tbody tr th {\n",
       "        vertical-align: top;\n",
       "    }\n",
       "\n",
       "    .dataframe thead th {\n",
       "        text-align: right;\n",
       "    }\n",
       "</style>\n",
       "<table border=\"1\" class=\"dataframe\">\n",
       "  <thead>\n",
       "    <tr style=\"text-align: right;\">\n",
       "      <th></th>\n",
       "      <th>Country/Region</th>\n",
       "      <th>Cases</th>\n",
       "      <th>Deaths</th>\n",
       "      <th>PCases</th>\n",
       "      <th>PDeaths</th>\n",
       "      <th>Cases (+)</th>\n",
       "      <th>Deaths (+)</th>\n",
       "      <th>Fatality Rate</th>\n",
       "      <th>Continent</th>\n",
       "    </tr>\n",
       "  </thead>\n",
       "  <tbody>\n",
       "    <tr>\n",
       "      <th>0</th>\n",
       "      <td>US</td>\n",
       "      <td>25443699</td>\n",
       "      <td>425216</td>\n",
       "      <td>25297059</td>\n",
       "      <td>421129</td>\n",
       "      <td>146640</td>\n",
       "      <td>4087</td>\n",
       "      <td>1.7</td>\n",
       "      <td>North America</td>\n",
       "    </tr>\n",
       "    <tr>\n",
       "      <th>1</th>\n",
       "      <td>India</td>\n",
       "      <td>10689527</td>\n",
       "      <td>153724</td>\n",
       "      <td>10676838</td>\n",
       "      <td>153587</td>\n",
       "      <td>12689</td>\n",
       "      <td>137</td>\n",
       "      <td>1.4</td>\n",
       "      <td>Asia</td>\n",
       "    </tr>\n",
       "    <tr>\n",
       "      <th>2</th>\n",
       "      <td>Brazil</td>\n",
       "      <td>8933356</td>\n",
       "      <td>218878</td>\n",
       "      <td>8871393</td>\n",
       "      <td>217664</td>\n",
       "      <td>61963</td>\n",
       "      <td>1214</td>\n",
       "      <td>2.5</td>\n",
       "      <td>South America</td>\n",
       "    </tr>\n",
       "    <tr>\n",
       "      <th>3</th>\n",
       "      <td>Russia</td>\n",
       "      <td>3716228</td>\n",
       "      <td>69391</td>\n",
       "      <td>3698246</td>\n",
       "      <td>68841</td>\n",
       "      <td>17982</td>\n",
       "      <td>550</td>\n",
       "      <td>1.9</td>\n",
       "      <td>Europe</td>\n",
       "    </tr>\n",
       "    <tr>\n",
       "      <th>4</th>\n",
       "      <td>United Kingdom</td>\n",
       "      <td>3700268</td>\n",
       "      <td>100359</td>\n",
       "      <td>3680101</td>\n",
       "      <td>98723</td>\n",
       "      <td>20167</td>\n",
       "      <td>1636</td>\n",
       "      <td>2.7</td>\n",
       "      <td>Europe</td>\n",
       "    </tr>\n",
       "  </tbody>\n",
       "</table>\n",
       "</div>"
      ],
      "text/plain": [
       "   Country/Region     Cases  Deaths    PCases  PDeaths  Cases (+)  Deaths (+)  \\\n",
       "0              US  25443699  425216  25297059   421129     146640        4087   \n",
       "1           India  10689527  153724  10676838   153587      12689         137   \n",
       "2          Brazil   8933356  218878   8871393   217664      61963        1214   \n",
       "3          Russia   3716228   69391   3698246    68841      17982         550   \n",
       "4  United Kingdom   3700268  100359   3680101    98723      20167        1636   \n",
       "\n",
       "   Fatality Rate      Continent  \n",
       "0            1.7  North America  \n",
       "1            1.4           Asia  \n",
       "2            2.5  South America  \n",
       "3            1.9         Europe  \n",
       "4            2.7         Europe  "
      ]
     },
     "execution_count": 15,
     "metadata": {},
     "output_type": "execute_result"
    }
   ],
   "source": [
    "#hide\n",
    "df_table = (pd.DataFrame(dict(Cases=dfc_cases, Deaths=dfc_deaths, PCases=dfp_cases, PDeaths=dfp_deaths))\n",
    "             .sort_values(by=['Cases', 'Deaths'], ascending=[False, False])\n",
    "             .reset_index())\n",
    "df_table.rename(columns={'index': 'Country/Region'}, inplace=True)\n",
    "for c in 'Cases, Deaths'.split(', '):\n",
    "    df_table[f'{c} (+)'] = (df_table[c] - df_table[f'P{c}']).clip(0)  # DATA BUG\n",
    "df_table['Fatality Rate'] = (100 * df_table['Deaths'] / df_table['Cases']).round(1)\n",
    "df_table['Continent'] = df_table['Country/Region'].map(mapping['map.continent'])\n",
    "df_table.head(5)"
   ]
  },
  {
   "cell_type": "code",
   "execution_count": 16,
   "id": "fewer-occasion",
   "metadata": {
    "execution": {
     "iopub.execute_input": "2021-01-27T12:07:58.698516Z",
     "iopub.status.busy": "2021-01-27T12:07:58.697830Z",
     "iopub.status.idle": "2021-01-27T12:07:58.700672Z",
     "shell.execute_reply": "2021-01-27T12:07:58.699943Z"
    },
    "papermill": {
     "duration": 0.046995,
     "end_time": "2021-01-27T12:07:58.700795",
     "exception": false,
     "start_time": "2021-01-27T12:07:58.653800",
     "status": "completed"
    },
    "tags": []
   },
   "outputs": [],
   "source": [
    "#hide\n",
    "#delete problematic countries from table\n",
    "df_table = df_table[~df_table['Country/Region'].isin(['Cape Verde', 'Cruise Ship', 'Kosovo'])]"
   ]
  },
  {
   "cell_type": "code",
   "execution_count": 17,
   "id": "related-center",
   "metadata": {
    "execution": {
     "iopub.execute_input": "2021-01-27T12:07:58.792666Z",
     "iopub.status.busy": "2021-01-27T12:07:58.792069Z",
     "iopub.status.idle": "2021-01-27T12:07:58.794985Z",
     "shell.execute_reply": "2021-01-27T12:07:58.794410Z"
    },
    "papermill": {
     "duration": 0.059399,
     "end_time": "2021-01-27T12:07:58.795131",
     "exception": false,
     "start_time": "2021-01-27T12:07:58.735732",
     "status": "completed"
    },
    "tags": []
   },
   "outputs": [],
   "source": [
    "#hide\n",
    "metrics = [df_table.columns[index] for index in [1,2,5,6]]\n",
    "# s_china = df_table[df_table['Country/Region'].eq('China')][metrics].sum().add_prefix('China ')\n",
    "s_us = df_table[df_table['Country/Region'].eq('US')][metrics].sum().add_prefix('US ')\n",
    "s_eu = df_table[df_table['Continent'].eq('Europe')][metrics].sum().add_prefix('EU ')\n",
    "s_ind = df_table[df_table['Country/Region'].eq('India')][metrics].sum().add_prefix('India ')\n",
    "summary = {'updated': pd.to_datetime(dt_today), 'since': pd.to_datetime(dt_yday)}\n",
    "summary = {'updated': pd.to_datetime(dt_today), 'since': pd.to_datetime(dt_yday)}\n",
    "summary = {**summary, **df_table[metrics].sum(), **s_ind, **s_us, **s_eu}"
   ]
  },
  {
   "cell_type": "code",
   "execution_count": 18,
   "id": "engaging-syndrome",
   "metadata": {
    "execution": {
     "iopub.execute_input": "2021-01-27T12:07:58.874532Z",
     "iopub.status.busy": "2021-01-27T12:07:58.873747Z",
     "iopub.status.idle": "2021-01-27T12:07:58.885547Z",
     "shell.execute_reply": "2021-01-27T12:07:58.886071Z"
    },
    "papermill": {
     "duration": 0.055409,
     "end_time": "2021-01-27T12:07:58.886215",
     "exception": false,
     "start_time": "2021-01-27T12:07:58.830806",
     "status": "completed"
    },
    "tags": []
   },
   "outputs": [],
   "source": [
    "#hide\n",
    "dft_ct_new_cases = dft_cases.groupby(COL_REGION)[dt_cols].sum().diff(axis=1).fillna(0).astype(int)"
   ]
  },
  {
   "cell_type": "code",
   "execution_count": 19,
   "id": "neutral-assignment",
   "metadata": {
    "execution": {
     "iopub.execute_input": "2021-01-27T12:07:58.966145Z",
     "iopub.status.busy": "2021-01-27T12:07:58.965543Z",
     "iopub.status.idle": "2021-01-27T12:07:58.968274Z",
     "shell.execute_reply": "2021-01-27T12:07:58.967763Z"
    },
    "papermill": {
     "duration": 0.044973,
     "end_time": "2021-01-27T12:07:58.968405",
     "exception": false,
     "start_time": "2021-01-27T12:07:58.923432",
     "status": "completed"
    },
    "tags": []
   },
   "outputs": [],
   "source": [
    "#hide\n",
    "everydaycases = dft_ct_new_cases.cumsum(axis=1)"
   ]
  },
  {
   "cell_type": "code",
   "execution_count": 20,
   "id": "parliamentary-calgary",
   "metadata": {
    "execution": {
     "iopub.execute_input": "2021-01-27T12:07:59.052252Z",
     "iopub.status.busy": "2021-01-27T12:07:59.051577Z",
     "iopub.status.idle": "2021-01-27T12:08:01.147842Z",
     "shell.execute_reply": "2021-01-27T12:08:01.147237Z"
    },
    "papermill": {
     "duration": 2.137363,
     "end_time": "2021-01-27T12:08:01.147995",
     "exception": false,
     "start_time": "2021-01-27T12:07:59.010632",
     "status": "completed"
    },
    "tags": []
   },
   "outputs": [],
   "source": [
    "#hide\n",
    "import pandas as pd\n",
    "import matplotlib.pyplot as plt\n",
    "import matplotlib.ticker as ticker\n",
    "import matplotlib.animation as animation\n",
    "from IPython.display import HTML"
   ]
  },
  {
   "cell_type": "code",
   "execution_count": 21,
   "id": "lasting-extraction",
   "metadata": {
    "execution": {
     "iopub.execute_input": "2021-01-27T12:08:01.238161Z",
     "iopub.status.busy": "2021-01-27T12:08:01.237460Z",
     "iopub.status.idle": "2021-01-27T12:08:01.242908Z",
     "shell.execute_reply": "2021-01-27T12:08:01.242251Z"
    },
    "papermill": {
     "duration": 0.056275,
     "end_time": "2021-01-27T12:08:01.243044",
     "exception": false,
     "start_time": "2021-01-27T12:08:01.186769",
     "status": "completed"
    },
    "tags": []
   },
   "outputs": [],
   "source": [
    "#hide\n",
    "t = everydaycases.stack()"
   ]
  },
  {
   "cell_type": "code",
   "execution_count": 22,
   "id": "premier-sleeve",
   "metadata": {
    "execution": {
     "iopub.execute_input": "2021-01-27T12:08:01.324268Z",
     "iopub.status.busy": "2021-01-27T12:08:01.323591Z",
     "iopub.status.idle": "2021-01-27T12:08:01.331843Z",
     "shell.execute_reply": "2021-01-27T12:08:01.330972Z"
    },
    "papermill": {
     "duration": 0.051526,
     "end_time": "2021-01-27T12:08:01.332099",
     "exception": false,
     "start_time": "2021-01-27T12:08:01.280573",
     "status": "completed"
    },
    "tags": []
   },
   "outputs": [],
   "source": [
    "#hide\n",
    "g = t.reset_index(['Country/Region'])"
   ]
  },
  {
   "cell_type": "code",
   "execution_count": 23,
   "id": "distributed-pittsburgh",
   "metadata": {
    "execution": {
     "iopub.execute_input": "2021-01-27T12:08:01.413797Z",
     "iopub.status.busy": "2021-01-27T12:08:01.413105Z",
     "iopub.status.idle": "2021-01-27T12:08:01.415190Z",
     "shell.execute_reply": "2021-01-27T12:08:01.415877Z"
    },
    "papermill": {
     "duration": 0.045152,
     "end_time": "2021-01-27T12:08:01.416019",
     "exception": false,
     "start_time": "2021-01-27T12:08:01.370867",
     "status": "completed"
    },
    "tags": []
   },
   "outputs": [],
   "source": [
    "#hide\n",
    "g.index.name = 'date'"
   ]
  },
  {
   "cell_type": "code",
   "execution_count": 24,
   "id": "naked-donor",
   "metadata": {
    "execution": {
     "iopub.execute_input": "2021-01-27T12:08:01.498905Z",
     "iopub.status.busy": "2021-01-27T12:08:01.498262Z",
     "iopub.status.idle": "2021-01-27T12:08:01.500306Z",
     "shell.execute_reply": "2021-01-27T12:08:01.500956Z"
    },
    "papermill": {
     "duration": 0.045779,
     "end_time": "2021-01-27T12:08:01.501107",
     "exception": false,
     "start_time": "2021-01-27T12:08:01.455328",
     "status": "completed"
    },
    "tags": []
   },
   "outputs": [],
   "source": [
    "# #hide\n",
    "# g = g.reset_index(['date'])"
   ]
  },
  {
   "cell_type": "code",
   "execution_count": 25,
   "id": "incomplete-mustang",
   "metadata": {
    "execution": {
     "iopub.execute_input": "2021-01-27T12:08:01.580705Z",
     "iopub.status.busy": "2021-01-27T12:08:01.579848Z",
     "iopub.status.idle": "2021-01-27T12:08:01.582823Z",
     "shell.execute_reply": "2021-01-27T12:08:01.582281Z"
    },
    "papermill": {
     "duration": 0.043324,
     "end_time": "2021-01-27T12:08:01.582948",
     "exception": false,
     "start_time": "2021-01-27T12:08:01.539624",
     "status": "completed"
    },
    "tags": []
   },
   "outputs": [],
   "source": [
    "#hide\n",
    "# g.head()"
   ]
  },
  {
   "cell_type": "code",
   "execution_count": 26,
   "id": "specific-kruger",
   "metadata": {
    "execution": {
     "iopub.execute_input": "2021-01-27T12:08:01.662940Z",
     "iopub.status.busy": "2021-01-27T12:08:01.662260Z",
     "iopub.status.idle": "2021-01-27T12:08:01.664460Z",
     "shell.execute_reply": "2021-01-27T12:08:01.664969Z"
    },
    "papermill": {
     "duration": 0.043949,
     "end_time": "2021-01-27T12:08:01.665105",
     "exception": false,
     "start_time": "2021-01-27T12:08:01.621156",
     "status": "completed"
    },
    "tags": []
   },
   "outputs": [],
   "source": [
    "#hide\n",
    "# g.columns = ['date','country','cases']"
   ]
  },
  {
   "cell_type": "code",
   "execution_count": 27,
   "id": "tender-conversion",
   "metadata": {
    "execution": {
     "iopub.execute_input": "2021-01-27T12:08:01.744400Z",
     "iopub.status.busy": "2021-01-27T12:08:01.743808Z",
     "iopub.status.idle": "2021-01-27T12:08:01.745925Z",
     "shell.execute_reply": "2021-01-27T12:08:01.746573Z"
    },
    "papermill": {
     "duration": 0.042907,
     "end_time": "2021-01-27T12:08:01.746702",
     "exception": false,
     "start_time": "2021-01-27T12:08:01.703795",
     "status": "completed"
    },
    "tags": []
   },
   "outputs": [],
   "source": [
    "#hide\n",
    "# g['continent'] = g.country"
   ]
  },
  {
   "cell_type": "code",
   "execution_count": 28,
   "id": "substantial-wilderness",
   "metadata": {
    "execution": {
     "iopub.execute_input": "2021-01-27T12:08:01.827435Z",
     "iopub.status.busy": "2021-01-27T12:08:01.826617Z",
     "iopub.status.idle": "2021-01-27T12:08:01.828623Z",
     "shell.execute_reply": "2021-01-27T12:08:01.829071Z"
    },
    "papermill": {
     "duration": 0.0424,
     "end_time": "2021-01-27T12:08:01.829251",
     "exception": false,
     "start_time": "2021-01-27T12:08:01.786851",
     "status": "completed"
    },
    "tags": []
   },
   "outputs": [],
   "source": [
    "#hide\n",
    "# cols = list(g.columns.values)"
   ]
  },
  {
   "cell_type": "code",
   "execution_count": 29,
   "id": "solved-farming",
   "metadata": {
    "execution": {
     "iopub.execute_input": "2021-01-27T12:08:01.908028Z",
     "iopub.status.busy": "2021-01-27T12:08:01.907346Z",
     "iopub.status.idle": "2021-01-27T12:08:01.910310Z",
     "shell.execute_reply": "2021-01-27T12:08:01.910963Z"
    },
    "papermill": {
     "duration": 0.043398,
     "end_time": "2021-01-27T12:08:01.911122",
     "exception": false,
     "start_time": "2021-01-27T12:08:01.867724",
     "status": "completed"
    },
    "tags": []
   },
   "outputs": [],
   "source": [
    "#hide\n",
    "# cols.insert(0, cols.pop())"
   ]
  },
  {
   "cell_type": "code",
   "execution_count": 30,
   "id": "executed-adoption",
   "metadata": {
    "execution": {
     "iopub.execute_input": "2021-01-27T12:08:01.990359Z",
     "iopub.status.busy": "2021-01-27T12:08:01.989654Z",
     "iopub.status.idle": "2021-01-27T12:08:01.992128Z",
     "shell.execute_reply": "2021-01-27T12:08:01.991590Z"
    },
    "papermill": {
     "duration": 0.044404,
     "end_time": "2021-01-27T12:08:01.992263",
     "exception": false,
     "start_time": "2021-01-27T12:08:01.947859",
     "status": "completed"
    },
    "tags": []
   },
   "outputs": [],
   "source": [
    "#hide\n",
    "# g = g[cols]"
   ]
  },
  {
   "cell_type": "code",
   "execution_count": 31,
   "id": "subject-dublin",
   "metadata": {
    "execution": {
     "iopub.execute_input": "2021-01-27T12:08:02.071561Z",
     "iopub.status.busy": "2021-01-27T12:08:02.070815Z",
     "iopub.status.idle": "2021-01-27T12:08:02.072900Z",
     "shell.execute_reply": "2021-01-27T12:08:02.073466Z"
    },
    "papermill": {
     "duration": 0.045549,
     "end_time": "2021-01-27T12:08:02.073619",
     "exception": false,
     "start_time": "2021-01-27T12:08:02.028070",
     "status": "completed"
    },
    "tags": []
   },
   "outputs": [],
   "source": [
    "#hide\n",
    "# g['continent'] = g['continent'].map(mapping['map.continent'])"
   ]
  },
  {
   "cell_type": "code",
   "execution_count": 32,
   "id": "freelance-scout",
   "metadata": {
    "execution": {
     "iopub.execute_input": "2021-01-27T12:08:02.151451Z",
     "iopub.status.busy": "2021-01-27T12:08:02.150683Z",
     "iopub.status.idle": "2021-01-27T12:08:02.153001Z",
     "shell.execute_reply": "2021-01-27T12:08:02.152488Z"
    },
    "papermill": {
     "duration": 0.04224,
     "end_time": "2021-01-27T12:08:02.153123",
     "exception": false,
     "start_time": "2021-01-27T12:08:02.110883",
     "status": "completed"
    },
    "tags": []
   },
   "outputs": [],
   "source": [
    "#hide\n",
    "# g.head()"
   ]
  },
  {
   "cell_type": "code",
   "execution_count": 33,
   "id": "limited-engine",
   "metadata": {
    "execution": {
     "iopub.execute_input": "2021-01-27T12:08:02.232815Z",
     "iopub.status.busy": "2021-01-27T12:08:02.232145Z",
     "iopub.status.idle": "2021-01-27T12:08:02.234569Z",
     "shell.execute_reply": "2021-01-27T12:08:02.233999Z"
    },
    "papermill": {
     "duration": 0.045468,
     "end_time": "2021-01-27T12:08:02.234708",
     "exception": false,
     "start_time": "2021-01-27T12:08:02.189240",
     "status": "completed"
    },
    "tags": []
   },
   "outputs": [],
   "source": [
    "# hide\n",
    "# g['date'] = g['date'].astype('datetime64[ns]')"
   ]
  },
  {
   "cell_type": "code",
   "execution_count": 34,
   "id": "sophisticated-supervisor",
   "metadata": {
    "execution": {
     "iopub.execute_input": "2021-01-27T12:08:02.313078Z",
     "iopub.status.busy": "2021-01-27T12:08:02.312506Z",
     "iopub.status.idle": "2021-01-27T12:08:02.315733Z",
     "shell.execute_reply": "2021-01-27T12:08:02.314701Z"
    },
    "papermill": {
     "duration": 0.045018,
     "end_time": "2021-01-27T12:08:02.315858",
     "exception": false,
     "start_time": "2021-01-27T12:08:02.270840",
     "status": "completed"
    },
    "tags": []
   },
   "outputs": [],
   "source": [
    "#hide\n",
    "# g['date'] = g.date.dt.dayofyear"
   ]
  },
  {
   "cell_type": "code",
   "execution_count": 35,
   "id": "inside-dubai",
   "metadata": {
    "execution": {
     "iopub.execute_input": "2021-01-27T12:08:02.393906Z",
     "iopub.status.busy": "2021-01-27T12:08:02.393123Z",
     "iopub.status.idle": "2021-01-27T12:08:02.395844Z",
     "shell.execute_reply": "2021-01-27T12:08:02.395310Z"
    },
    "papermill": {
     "duration": 0.042838,
     "end_time": "2021-01-27T12:08:02.395953",
     "exception": false,
     "start_time": "2021-01-27T12:08:02.353115",
     "status": "completed"
    },
    "tags": []
   },
   "outputs": [],
   "source": [
    "#hide\n",
    "# g = g.rename(columns= {'continent':'group','country':'name','cases':'value'})"
   ]
  },
  {
   "cell_type": "code",
   "execution_count": 36,
   "id": "fleet-motorcycle",
   "metadata": {
    "execution": {
     "iopub.execute_input": "2021-01-27T12:08:02.479823Z",
     "iopub.status.busy": "2021-01-27T12:08:02.479152Z",
     "iopub.status.idle": "2021-01-27T12:08:02.481464Z",
     "shell.execute_reply": "2021-01-27T12:08:02.482003Z"
    },
    "papermill": {
     "duration": 0.043774,
     "end_time": "2021-01-27T12:08:02.482134",
     "exception": false,
     "start_time": "2021-01-27T12:08:02.438360",
     "status": "completed"
    },
    "tags": []
   },
   "outputs": [],
   "source": [
    "#hide\n",
    "# cols = ['name','group','day','value']"
   ]
  },
  {
   "cell_type": "code",
   "execution_count": 37,
   "id": "continued-sleeping",
   "metadata": {
    "execution": {
     "iopub.execute_input": "2021-01-27T12:08:02.563720Z",
     "iopub.status.busy": "2021-01-27T12:08:02.563124Z",
     "iopub.status.idle": "2021-01-27T12:08:02.565479Z",
     "shell.execute_reply": "2021-01-27T12:08:02.566105Z"
    },
    "papermill": {
     "duration": 0.048567,
     "end_time": "2021-01-27T12:08:02.566351",
     "exception": false,
     "start_time": "2021-01-27T12:08:02.517784",
     "status": "completed"
    },
    "tags": []
   },
   "outputs": [],
   "source": [
    "#hide\n",
    "# g.rename(columns= {'date':'day'},inplace = True)"
   ]
  },
  {
   "cell_type": "code",
   "execution_count": 38,
   "id": "major-fight",
   "metadata": {
    "execution": {
     "iopub.execute_input": "2021-01-27T12:08:02.645796Z",
     "iopub.status.busy": "2021-01-27T12:08:02.645060Z",
     "iopub.status.idle": "2021-01-27T12:08:02.647787Z",
     "shell.execute_reply": "2021-01-27T12:08:02.647219Z"
    },
    "papermill": {
     "duration": 0.045257,
     "end_time": "2021-01-27T12:08:02.647966",
     "exception": false,
     "start_time": "2021-01-27T12:08:02.602709",
     "status": "completed"
    },
    "tags": []
   },
   "outputs": [],
   "source": [
    "#hide\n",
    "# g = g[cols]"
   ]
  },
  {
   "cell_type": "code",
   "execution_count": 39,
   "id": "structured-mobile",
   "metadata": {
    "execution": {
     "iopub.execute_input": "2021-01-27T12:08:02.724479Z",
     "iopub.status.busy": "2021-01-27T12:08:02.723875Z",
     "iopub.status.idle": "2021-01-27T12:08:02.726278Z",
     "shell.execute_reply": "2021-01-27T12:08:02.725648Z"
    },
    "papermill": {
     "duration": 0.042413,
     "end_time": "2021-01-27T12:08:02.726403",
     "exception": false,
     "start_time": "2021-01-27T12:08:02.683990",
     "status": "completed"
    },
    "tags": []
   },
   "outputs": [],
   "source": [
    "# #hide\n",
    "# g = g[g.group.notna()]"
   ]
  },
  {
   "cell_type": "code",
   "execution_count": 40,
   "id": "determined-closing",
   "metadata": {
    "execution": {
     "iopub.execute_input": "2021-01-27T12:08:02.805947Z",
     "iopub.status.busy": "2021-01-27T12:08:02.805264Z",
     "iopub.status.idle": "2021-01-27T12:08:02.807781Z",
     "shell.execute_reply": "2021-01-27T12:08:02.807225Z"
    },
    "papermill": {
     "duration": 0.043035,
     "end_time": "2021-01-27T12:08:02.807908",
     "exception": false,
     "start_time": "2021-01-27T12:08:02.764873",
     "status": "completed"
    },
    "tags": []
   },
   "outputs": [],
   "source": [
    "# #hide\n",
    "# colors = dict(zip(\n",
    "#     [\"Oceania\", \"Europe\", \"Asia\", \"South America\", \"Middle East\", \"North America\", \"Africa\"],\n",
    "#     [\"#adb0ff\", \"#ffb3ff\", \"#90d595\", \"#e48381\", \"#aafbff\", \"#f7bb5f\", \"#eafb50\"]\n",
    "# ))\n",
    "# group_lk = g.set_index('name')['group'].to_dict()"
   ]
  },
  {
   "cell_type": "code",
   "execution_count": null,
   "id": "gross-drinking",
   "metadata": {
    "papermill": {
     "duration": 0.03722,
     "end_time": "2021-01-27T12:08:02.880671",
     "exception": false,
     "start_time": "2021-01-27T12:08:02.843451",
     "status": "completed"
    },
    "tags": []
   },
   "outputs": [],
   "source": []
  },
  {
   "cell_type": "code",
   "execution_count": 41,
   "id": "subject-macintosh",
   "metadata": {
    "execution": {
     "iopub.execute_input": "2021-01-27T12:08:02.964713Z",
     "iopub.status.busy": "2021-01-27T12:08:02.964063Z",
     "iopub.status.idle": "2021-01-27T12:08:02.966594Z",
     "shell.execute_reply": "2021-01-27T12:08:02.966082Z"
    },
    "papermill": {
     "duration": 0.045192,
     "end_time": "2021-01-27T12:08:02.966739",
     "exception": false,
     "start_time": "2021-01-27T12:08:02.921547",
     "status": "completed"
    },
    "tags": []
   },
   "outputs": [],
   "source": [
    "# #hide\n",
    "# fig, ax = plt.subplots(figsize=(15, 8))\n",
    "\n",
    "# def draw_barchart(current_day):\n",
    "#     dff = g[g['day'].eq(current_day)].sort_values(by='value', ascending=True).tail(10)\n",
    "#     ax.clear()\n",
    "#     ax.barh(dff['name'], dff['value'], color=[colors[group_lk[x]] for x in dff['name']])\n",
    "#     dx = dff['value'].max() / 200\n",
    "    \n",
    "#     for i, (value, name) in enumerate(zip(dff['value'], dff['name'])):\n",
    "#         ax.text(value-dx, i,     name,           size=14, weight=600, ha='right', va='bottom')\n",
    "#         ax.text(value-dx, i-.25, group_lk[name], size=10, color='#444444', ha='right', va='baseline')\n",
    "#         ax.text(value+dx, i,     f'{value:,.0f}',  size=14, ha='left',  va='center')\n",
    "#     ax.text(1, 0.4, current_day, transform=ax.transAxes, color='#777777', size=46, ha='right', weight=800)\n",
    "#     ax.text(0, 1.06, 'Population (thousands)', transform=ax.transAxes, size=12, color='#777777')\n",
    "#     ax.xaxis.set_major_formatter(ticker.StrMethodFormatter('{x:,.0f}'))\n",
    "#     ax.xaxis.set_ticks_position('top')\n",
    "#     ax.tick_params(axis='x', colors='#777777', labelsize=12)\n",
    "#     ax.set_yticks([])\n",
    "#     ax.margins(0, 0.01)\n",
    "#     ax.grid(which='major', axis='x', linestyle='-')\n",
    "#     ax.set_axisbelow(True)\n",
    "    \n",
    "#     ax.text(0, 1.15, 'Coronavirus',\n",
    "#             transform=ax.transAxes, size=24, weight=600, ha='left', va='top')\n",
    "# #     ax.text(1, 0, 'by @pratapvardhan; credit @jburnmurdoch', transform=ax.transAxes, color='#777777', ha='right',\n",
    "# #             bbox=dict(facecolor='white', alpha=0.8, edgecolor='white'))\n",
    "#     plt.box(False)"
   ]
  },
  {
   "cell_type": "code",
   "execution_count": 42,
   "id": "sexual-wages",
   "metadata": {
    "execution": {
     "iopub.execute_input": "2021-01-27T12:08:03.051021Z",
     "iopub.status.busy": "2021-01-27T12:08:03.050116Z",
     "iopub.status.idle": "2021-01-27T12:08:03.052318Z",
     "shell.execute_reply": "2021-01-27T12:08:03.053656Z"
    },
    "papermill": {
     "duration": 0.050376,
     "end_time": "2021-01-27T12:08:03.054005",
     "exception": false,
     "start_time": "2021-01-27T12:08:03.003629",
     "status": "completed"
    },
    "tags": []
   },
   "outputs": [],
   "source": [
    "# #hide_input\n",
    "# fig, ax = plt.subplots(figsize=(15, 8))\n",
    "# animator = animation.FuncAnimation(fig, draw_barchart, frames=range(g.day.values.min(), g.day.values.max()))\n",
    "# HTML(animator.to_jshtml())\n",
    "# # or use animator.to_html5_video() or animator.save() "
   ]
  },
  {
   "cell_type": "code",
   "execution_count": null,
   "id": "australian-container",
   "metadata": {
    "papermill": {
     "duration": 0.036265,
     "end_time": "2021-01-27T12:08:03.139968",
     "exception": false,
     "start_time": "2021-01-27T12:08:03.103703",
     "status": "completed"
    },
    "tags": []
   },
   "outputs": [],
   "source": []
  },
  {
   "cell_type": "code",
   "execution_count": null,
   "id": "mediterranean-pontiac",
   "metadata": {
    "papermill": {
     "duration": 0.03678,
     "end_time": "2021-01-27T12:08:03.214936",
     "exception": false,
     "start_time": "2021-01-27T12:08:03.178156",
     "status": "completed"
    },
    "tags": []
   },
   "outputs": [],
   "source": []
  },
  {
   "cell_type": "code",
   "execution_count": null,
   "id": "aging-legislature",
   "metadata": {
    "papermill": {
     "duration": 0.038907,
     "end_time": "2021-01-27T12:08:03.294288",
     "exception": false,
     "start_time": "2021-01-27T12:08:03.255381",
     "status": "completed"
    },
    "tags": []
   },
   "outputs": [],
   "source": []
  }
 ],
 "metadata": {
  "kernelspec": {
   "display_name": "Python 3",
   "language": "python",
   "name": "python3"
  },
  "language_info": {
   "codemirror_mode": {
    "name": "ipython",
    "version": 3
   },
   "file_extension": ".py",
   "mimetype": "text/x-python",
   "name": "python",
   "nbconvert_exporter": "python",
   "pygments_lexer": "ipython3",
   "version": "3.6.12"
  },
  "papermill": {
   "duration": 8.318486,
   "end_time": "2021-01-27T12:08:03.641677",
   "environment_variables": {},
   "exception": null,
   "input_path": "2020-03-21-covid19exp.ipynb",
   "output_path": "2020-03-21-covid19exp.ipynb",
   "parameters": {},
   "start_time": "2021-01-27T12:07:55.323191",
   "version": "2.0.0"
  }
 },
 "nbformat": 4,
 "nbformat_minor": 5
}