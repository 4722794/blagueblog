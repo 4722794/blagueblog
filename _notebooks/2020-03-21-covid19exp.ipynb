{
 "cells": [
  {
   "cell_type": "markdown",
   "id": "muslim-click",
   "metadata": {
    "papermill": {
     "duration": 0.04118,
     "end_time": "2022-03-09T12:14:21.723301",
     "exception": false,
     "start_time": "2022-03-09T12:14:21.682121",
     "status": "completed"
    },
    "tags": []
   },
   "source": [
    "# COVID-19 Case Race\n",
    "> A race chart to see rising cases around the world\n",
    "\n",
    "- author: Hargun Oberoi\n",
    "- image: images/covid-overview.png\n",
    "- hide: false\n",
    "- badges: false"
   ]
  },
  {
   "cell_type": "code",
   "execution_count": 1,
   "id": "proof-material",
   "metadata": {
    "execution": {
     "iopub.execute_input": "2022-03-09T12:14:21.802082Z",
     "iopub.status.busy": "2022-03-09T12:14:21.801452Z",
     "iopub.status.idle": "2022-03-09T12:14:22.190745Z",
     "shell.execute_reply": "2022-03-09T12:14:22.189757Z"
    },
    "papermill": {
     "duration": 0.432917,
     "end_time": "2022-03-09T12:14:22.190938",
     "exception": false,
     "start_time": "2022-03-09T12:14:21.758021",
     "status": "completed"
    },
    "tags": []
   },
   "outputs": [],
   "source": [
    "#hide\n",
    "import numpy as np\n",
    "import pandas as pd\n",
    "from jinja2 import Template\n",
    "from IPython.display import HTML"
   ]
  },
  {
   "cell_type": "code",
   "execution_count": 2,
   "id": "developed-terminology",
   "metadata": {
    "execution": {
     "iopub.execute_input": "2022-03-09T12:14:22.264417Z",
     "iopub.status.busy": "2022-03-09T12:14:22.263673Z",
     "iopub.status.idle": "2022-03-09T12:14:22.267799Z",
     "shell.execute_reply": "2022-03-09T12:14:22.268334Z"
    },
    "papermill": {
     "duration": 0.043787,
     "end_time": "2022-03-09T12:14:22.268505",
     "exception": false,
     "start_time": "2022-03-09T12:14:22.224718",
     "status": "completed"
    },
    "tags": []
   },
   "outputs": [],
   "source": [
    "#hide\n",
    "\n",
    "# FETCH\n",
    "base_url = 'https://raw.githubusercontent.com/pratapvardhan/notebooks/master/covid19/'\n",
    "paths = {\n",
    "    'mapping': base_url + 'mapping_countries.csv',\n",
    "    'overview': base_url + 'overview.tpl'\n",
    "}"
   ]
  },
  {
   "cell_type": "code",
   "execution_count": 3,
   "id": "dynamic-saver",
   "metadata": {
    "execution": {
     "iopub.execute_input": "2022-03-09T12:14:22.349160Z",
     "iopub.status.busy": "2022-03-09T12:14:22.348531Z",
     "iopub.status.idle": "2022-03-09T12:14:22.351357Z",
     "shell.execute_reply": "2022-03-09T12:14:22.351779Z"
    },
    "papermill": {
     "duration": 0.049657,
     "end_time": "2022-03-09T12:14:22.351926",
     "exception": false,
     "start_time": "2022-03-09T12:14:22.302269",
     "status": "completed"
    },
    "tags": []
   },
   "outputs": [
    {
     "data": {
      "text/plain": [
       "'https://raw.githubusercontent.com/pratapvardhan/notebooks/master/covid19/mapping_countries.csv'"
      ]
     },
     "execution_count": 3,
     "metadata": {},
     "output_type": "execute_result"
    }
   ],
   "source": [
    "#hide\n",
    "paths['mapping']"
   ]
  },
  {
   "cell_type": "code",
   "execution_count": 4,
   "id": "urban-software",
   "metadata": {
    "execution": {
     "iopub.execute_input": "2022-03-09T12:14:22.431971Z",
     "iopub.status.busy": "2022-03-09T12:14:22.431257Z",
     "iopub.status.idle": "2022-03-09T12:14:22.434394Z",
     "shell.execute_reply": "2022-03-09T12:14:22.433880Z"
    },
    "papermill": {
     "duration": 0.04636,
     "end_time": "2022-03-09T12:14:22.434531",
     "exception": false,
     "start_time": "2022-03-09T12:14:22.388171",
     "status": "completed"
    },
    "tags": []
   },
   "outputs": [],
   "source": [
    "#hide\n",
    "def get_mappings(url):\n",
    "    df = pd.read_csv(url)\n",
    "    return {\n",
    "        'df': df,\n",
    "        'replace.country': dict(df.dropna(subset=['Name']).set_index('Country')['Name']),\n",
    "        'map.continent': dict(df.set_index('Name')['Continent'])\n",
    "    }"
   ]
  },
  {
   "cell_type": "code",
   "execution_count": 5,
   "id": "intimate-machinery",
   "metadata": {
    "execution": {
     "iopub.execute_input": "2022-03-09T12:14:22.515296Z",
     "iopub.status.busy": "2022-03-09T12:14:22.514645Z",
     "iopub.status.idle": "2022-03-09T12:14:22.562456Z",
     "shell.execute_reply": "2022-03-09T12:14:22.561917Z"
    },
    "papermill": {
     "duration": 0.092623,
     "end_time": "2022-03-09T12:14:22.562598",
     "exception": false,
     "start_time": "2022-03-09T12:14:22.469975",
     "status": "completed"
    },
    "tags": []
   },
   "outputs": [],
   "source": [
    "#hide\n",
    "mapping = get_mappings(paths['mapping'])"
   ]
  },
  {
   "cell_type": "code",
   "execution_count": 6,
   "id": "certified-tactics",
   "metadata": {
    "execution": {
     "iopub.execute_input": "2022-03-09T12:14:22.637485Z",
     "iopub.status.busy": "2022-03-09T12:14:22.636841Z",
     "iopub.status.idle": "2022-03-09T12:14:22.640743Z",
     "shell.execute_reply": "2022-03-09T12:14:22.640195Z"
    },
    "papermill": {
     "duration": 0.04386,
     "end_time": "2022-03-09T12:14:22.640873",
     "exception": false,
     "start_time": "2022-03-09T12:14:22.597013",
     "status": "completed"
    },
    "tags": []
   },
   "outputs": [],
   "source": [
    "#hide\n",
    "def get_template(path):\n",
    "    from urllib.parse import urlparse\n",
    "    if bool(urlparse(path).netloc):\n",
    "        from urllib.request import urlopen\n",
    "        return urlopen(path).read().decode('utf8')\n",
    "    return open(path).read()"
   ]
  },
  {
   "cell_type": "code",
   "execution_count": 7,
   "id": "realistic-blast",
   "metadata": {
    "execution": {
     "iopub.execute_input": "2022-03-09T12:14:22.718502Z",
     "iopub.status.busy": "2022-03-09T12:14:22.717890Z",
     "iopub.status.idle": "2022-03-09T12:14:22.720116Z",
     "shell.execute_reply": "2022-03-09T12:14:22.720594Z"
    },
    "papermill": {
     "duration": 0.04397,
     "end_time": "2022-03-09T12:14:22.720740",
     "exception": false,
     "start_time": "2022-03-09T12:14:22.676770",
     "status": "completed"
    },
    "tags": []
   },
   "outputs": [],
   "source": [
    "#hide\n",
    "def get_frame(name):\n",
    "    url = (\n",
    "        'https://raw.githubusercontent.com/CSSEGISandData/COVID-19/master/csse_covid_19_data/'\n",
    "        f'csse_covid_19_time_series/time_series_covid19_{name}_global.csv')\n",
    "    df = pd.read_csv(url)\n",
    "    # rename countries\n",
    "    df['Country/Region'] = df['Country/Region'].replace(mapping['replace.country'])\n",
    "    return df"
   ]
  },
  {
   "cell_type": "code",
   "execution_count": 8,
   "id": "affiliated-characterization",
   "metadata": {
    "execution": {
     "iopub.execute_input": "2022-03-09T12:14:22.809558Z",
     "iopub.status.busy": "2022-03-09T12:14:22.808761Z",
     "iopub.status.idle": "2022-03-09T12:14:22.810314Z",
     "shell.execute_reply": "2022-03-09T12:14:22.810862Z"
    },
    "papermill": {
     "duration": 0.053109,
     "end_time": "2022-03-09T12:14:22.811032",
     "exception": false,
     "start_time": "2022-03-09T12:14:22.757923",
     "status": "completed"
    },
    "tags": []
   },
   "outputs": [],
   "source": [
    "#hide\n",
    "def get_dates(df):\n",
    "    dt_cols = df.columns[~df.columns.isin(['Province/State', 'Country/Region', 'Lat', 'Long'])]\n",
    "    LAST_DATE_I = -1\n",
    "    # sometimes last column may be empty, then go backwards\n",
    "    for i in range(-1, -len(dt_cols), -1):\n",
    "        if not df[dt_cols[i]].fillna(0).eq(0).all():\n",
    "            LAST_DATE_I = i\n",
    "            break\n",
    "    return LAST_DATE_I, dt_cols"
   ]
  },
  {
   "cell_type": "code",
   "execution_count": 9,
   "id": "recent-optimization",
   "metadata": {
    "execution": {
     "iopub.execute_input": "2022-03-09T12:14:22.890049Z",
     "iopub.status.busy": "2022-03-09T12:14:22.889383Z",
     "iopub.status.idle": "2022-03-09T12:14:23.279868Z",
     "shell.execute_reply": "2022-03-09T12:14:23.280370Z"
    },
    "papermill": {
     "duration": 0.432427,
     "end_time": "2022-03-09T12:14:23.280540",
     "exception": false,
     "start_time": "2022-03-09T12:14:22.848113",
     "status": "completed"
    },
    "tags": []
   },
   "outputs": [],
   "source": [
    "#hide\n",
    "COL_REGION = 'Country/Region'\n",
    "# Confirmed, Recovered, Deaths\n",
    "df = get_frame('confirmed')\n",
    "# dft_: timeseries, dfc_: today country agg\n",
    "dft_cases = df\n",
    "dft_deaths = get_frame('deaths')\n",
    "dft_recovered = get_frame('recovered')\n",
    "LAST_DATE_I, dt_cols = get_dates(df)"
   ]
  },
  {
   "cell_type": "code",
   "execution_count": 10,
   "id": "absolute-copper",
   "metadata": {
    "execution": {
     "iopub.execute_input": "2022-03-09T12:14:23.358542Z",
     "iopub.status.busy": "2022-03-09T12:14:23.357832Z",
     "iopub.status.idle": "2022-03-09T12:14:23.361808Z",
     "shell.execute_reply": "2022-03-09T12:14:23.361248Z"
    },
    "papermill": {
     "duration": 0.0451,
     "end_time": "2022-03-09T12:14:23.361921",
     "exception": false,
     "start_time": "2022-03-09T12:14:23.316821",
     "status": "completed"
    },
    "tags": []
   },
   "outputs": [],
   "source": [
    "#hide\n",
    "LAST_DATE_I, dt_cols = get_dates(df)\n",
    "dt_today =dt_cols[LAST_DATE_I]\n",
    "# dt_5day = dt_cols[LAST_DATE_I - 5]\n",
    "dt_yday = dt_cols[LAST_DATE_I - 1]"
   ]
  },
  {
   "cell_type": "code",
   "execution_count": 11,
   "id": "restricted-sheriff",
   "metadata": {
    "execution": {
     "iopub.execute_input": "2022-03-09T12:14:23.432753Z",
     "iopub.status.busy": "2022-03-09T12:14:23.432153Z",
     "iopub.status.idle": "2022-03-09T12:14:23.445388Z",
     "shell.execute_reply": "2022-03-09T12:14:23.444480Z"
    },
    "papermill": {
     "duration": 0.049388,
     "end_time": "2022-03-09T12:14:23.445521",
     "exception": false,
     "start_time": "2022-03-09T12:14:23.396133",
     "status": "completed"
    },
    "tags": []
   },
   "outputs": [],
   "source": [
    "#hide\n",
    "dfc_cases = dft_cases.groupby(COL_REGION)[dt_today].sum()\n",
    "dfc_deaths = dft_deaths.groupby(COL_REGION)[dt_today].sum()\n",
    "# dfp_cases = dft_cases.groupby(COL_REGION)[dt_5day].sum()\n",
    "# dfp_deaths = dft_deaths.groupby(COL_REGION)[dt_5day].sum()\n",
    "dfp_cases = dft_cases.groupby(COL_REGION)[dt_yday].sum()\n",
    "dfp_deaths = dft_deaths.groupby(COL_REGION)[dt_yday].sum()"
   ]
  },
  {
   "cell_type": "code",
   "execution_count": 12,
   "id": "deluxe-hepatitis",
   "metadata": {
    "execution": {
     "iopub.execute_input": "2022-03-09T12:14:23.539912Z",
     "iopub.status.busy": "2022-03-09T12:14:23.539207Z",
     "iopub.status.idle": "2022-03-09T12:14:23.543365Z",
     "shell.execute_reply": "2022-03-09T12:14:23.544006Z"
    },
    "papermill": {
     "duration": 0.057776,
     "end_time": "2022-03-09T12:14:23.544157",
     "exception": false,
     "start_time": "2022-03-09T12:14:23.486381",
     "status": "completed"
    },
    "tags": []
   },
   "outputs": [],
   "source": [
    "#hide\n",
    "df_table = (pd.DataFrame(dict(Cases = dfc_cases, Deaths = dfc_deaths, PCases = dfp_cases, PDeaths = dfp_deaths))\n",
    "            .sort_values(by = ['Cases','Deaths'], ascending = [False, False])\n",
    "            .reset_index())"
   ]
  },
  {
   "cell_type": "code",
   "execution_count": 13,
   "id": "educational-chancellor",
   "metadata": {
    "execution": {
     "iopub.execute_input": "2022-03-09T12:14:23.631897Z",
     "iopub.status.busy": "2022-03-09T12:14:23.631256Z",
     "iopub.status.idle": "2022-03-09T12:14:23.655710Z",
     "shell.execute_reply": "2022-03-09T12:14:23.656254Z"
    },
    "papermill": {
     "duration": 0.070691,
     "end_time": "2022-03-09T12:14:23.656421",
     "exception": false,
     "start_time": "2022-03-09T12:14:23.585730",
     "status": "completed"
    },
    "tags": []
   },
   "outputs": [
    {
     "data": {
      "text/html": [
       "<div>\n",
       "<style scoped>\n",
       "    .dataframe tbody tr th:only-of-type {\n",
       "        vertical-align: middle;\n",
       "    }\n",
       "\n",
       "    .dataframe tbody tr th {\n",
       "        vertical-align: top;\n",
       "    }\n",
       "\n",
       "    .dataframe thead th {\n",
       "        text-align: right;\n",
       "    }\n",
       "</style>\n",
       "<table border=\"1\" class=\"dataframe\">\n",
       "  <thead>\n",
       "    <tr style=\"text-align: right;\">\n",
       "      <th></th>\n",
       "      <th>Country/Region</th>\n",
       "      <th>Cases</th>\n",
       "      <th>Deaths</th>\n",
       "      <th>PCases</th>\n",
       "      <th>PDeaths</th>\n",
       "      <th>Cases (+)</th>\n",
       "      <th>Deaths (+)</th>\n",
       "      <th>Fatality Rate</th>\n",
       "      <th>Continent</th>\n",
       "    </tr>\n",
       "  </thead>\n",
       "  <tbody>\n",
       "    <tr>\n",
       "      <th>0</th>\n",
       "      <td>US</td>\n",
       "      <td>79369007</td>\n",
       "      <td>961843</td>\n",
       "      <td>79339202</td>\n",
       "      <td>960311</td>\n",
       "      <td>29805</td>\n",
       "      <td>1532</td>\n",
       "      <td>1.21</td>\n",
       "      <td>North America</td>\n",
       "    </tr>\n",
       "    <tr>\n",
       "      <th>1</th>\n",
       "      <td>India</td>\n",
       "      <td>42975883</td>\n",
       "      <td>515355</td>\n",
       "      <td>42971308</td>\n",
       "      <td>515210</td>\n",
       "      <td>4575</td>\n",
       "      <td>145</td>\n",
       "      <td>1.20</td>\n",
       "      <td>Asia</td>\n",
       "    </tr>\n",
       "    <tr>\n",
       "      <th>2</th>\n",
       "      <td>Brazil</td>\n",
       "      <td>29152318</td>\n",
       "      <td>653134</td>\n",
       "      <td>29077831</td>\n",
       "      <td>652648</td>\n",
       "      <td>74487</td>\n",
       "      <td>486</td>\n",
       "      <td>2.24</td>\n",
       "      <td>South America</td>\n",
       "    </tr>\n",
       "    <tr>\n",
       "      <th>3</th>\n",
       "      <td>France</td>\n",
       "      <td>23346927</td>\n",
       "      <td>140642</td>\n",
       "      <td>23253235</td>\n",
       "      <td>140473</td>\n",
       "      <td>93692</td>\n",
       "      <td>169</td>\n",
       "      <td>0.60</td>\n",
       "      <td>Europe</td>\n",
       "    </tr>\n",
       "    <tr>\n",
       "      <th>4</th>\n",
       "      <td>United Kingdom</td>\n",
       "      <td>19446892</td>\n",
       "      <td>162936</td>\n",
       "      <td>19383743</td>\n",
       "      <td>162722</td>\n",
       "      <td>63149</td>\n",
       "      <td>214</td>\n",
       "      <td>0.84</td>\n",
       "      <td>Europe</td>\n",
       "    </tr>\n",
       "  </tbody>\n",
       "</table>\n",
       "</div>"
      ],
      "text/plain": [
       "   Country/Region     Cases  Deaths    PCases  PDeaths  Cases (+)  Deaths (+)  \\\n",
       "0              US  79369007  961843  79339202   960311      29805        1532   \n",
       "1           India  42975883  515355  42971308   515210       4575         145   \n",
       "2          Brazil  29152318  653134  29077831   652648      74487         486   \n",
       "3          France  23346927  140642  23253235   140473      93692         169   \n",
       "4  United Kingdom  19446892  162936  19383743   162722      63149         214   \n",
       "\n",
       "   Fatality Rate      Continent  \n",
       "0           1.21  North America  \n",
       "1           1.20           Asia  \n",
       "2           2.24  South America  \n",
       "3           0.60         Europe  \n",
       "4           0.84         Europe  "
      ]
     },
     "execution_count": 13,
     "metadata": {},
     "output_type": "execute_result"
    }
   ],
   "source": [
    "#hide\n",
    "for c in 'Cases, Deaths'.split(', '):\n",
    "    df_table[f'{c} (+)'] = (df_table[c] - df_table[f'P{c}']).clip(0)\n",
    "    #Clip ça veut dire, les chiffres negatif sont interdit\n",
    "df_table['Fatality Rate'] = (100* df_table['Deaths']/ df_table['Cases']).round(2)\n",
    "df_table['Continent'] = df_table['Country/Region'].map(mapping['map.continent'])\n",
    "df_table.head(5)"
   ]
  },
  {
   "cell_type": "code",
   "execution_count": 14,
   "id": "aboriginal-bulgaria",
   "metadata": {
    "execution": {
     "iopub.execute_input": "2022-03-09T12:14:23.836600Z",
     "iopub.status.busy": "2022-03-09T12:14:23.835945Z",
     "iopub.status.idle": "2022-03-09T12:14:23.842559Z",
     "shell.execute_reply": "2022-03-09T12:14:23.843011Z"
    },
    "papermill": {
     "duration": 0.128767,
     "end_time": "2022-03-09T12:14:23.843184",
     "exception": false,
     "start_time": "2022-03-09T12:14:23.714417",
     "status": "completed"
    },
    "tags": []
   },
   "outputs": [],
   "source": [
    "#hide\n",
    "#delete problematic countries from table\n",
    "df_table = df_table[~df_table['Country/Region'].isin(['Cape Verde', 'Cruise Ship', 'Kosovo'])]"
   ]
  },
  {
   "cell_type": "code",
   "execution_count": 15,
   "id": "fantastic-effect",
   "metadata": {
    "execution": {
     "iopub.execute_input": "2022-03-09T12:14:23.966906Z",
     "iopub.status.busy": "2022-03-09T12:14:23.966292Z",
     "iopub.status.idle": "2022-03-09T12:14:23.985551Z",
     "shell.execute_reply": "2022-03-09T12:14:23.985104Z"
    },
    "papermill": {
     "duration": 0.064411,
     "end_time": "2022-03-09T12:14:23.985673",
     "exception": false,
     "start_time": "2022-03-09T12:14:23.921262",
     "status": "completed"
    },
    "tags": []
   },
   "outputs": [
    {
     "data": {
      "text/html": [
       "<div>\n",
       "<style scoped>\n",
       "    .dataframe tbody tr th:only-of-type {\n",
       "        vertical-align: middle;\n",
       "    }\n",
       "\n",
       "    .dataframe tbody tr th {\n",
       "        vertical-align: top;\n",
       "    }\n",
       "\n",
       "    .dataframe thead th {\n",
       "        text-align: right;\n",
       "    }\n",
       "</style>\n",
       "<table border=\"1\" class=\"dataframe\">\n",
       "  <thead>\n",
       "    <tr style=\"text-align: right;\">\n",
       "      <th></th>\n",
       "      <th>Country/Region</th>\n",
       "      <th>Cases</th>\n",
       "      <th>Deaths</th>\n",
       "      <th>PCases</th>\n",
       "      <th>PDeaths</th>\n",
       "      <th>Cases (+)</th>\n",
       "      <th>Deaths (+)</th>\n",
       "      <th>Fatality Rate</th>\n",
       "      <th>Continent</th>\n",
       "    </tr>\n",
       "  </thead>\n",
       "  <tbody>\n",
       "    <tr>\n",
       "      <th>0</th>\n",
       "      <td>US</td>\n",
       "      <td>79369007</td>\n",
       "      <td>961843</td>\n",
       "      <td>79339202</td>\n",
       "      <td>960311</td>\n",
       "      <td>29805</td>\n",
       "      <td>1532</td>\n",
       "      <td>1.2</td>\n",
       "      <td>North America</td>\n",
       "    </tr>\n",
       "    <tr>\n",
       "      <th>1</th>\n",
       "      <td>India</td>\n",
       "      <td>42975883</td>\n",
       "      <td>515355</td>\n",
       "      <td>42971308</td>\n",
       "      <td>515210</td>\n",
       "      <td>4575</td>\n",
       "      <td>145</td>\n",
       "      <td>1.2</td>\n",
       "      <td>Asia</td>\n",
       "    </tr>\n",
       "    <tr>\n",
       "      <th>2</th>\n",
       "      <td>Brazil</td>\n",
       "      <td>29152318</td>\n",
       "      <td>653134</td>\n",
       "      <td>29077831</td>\n",
       "      <td>652648</td>\n",
       "      <td>74487</td>\n",
       "      <td>486</td>\n",
       "      <td>2.2</td>\n",
       "      <td>South America</td>\n",
       "    </tr>\n",
       "    <tr>\n",
       "      <th>3</th>\n",
       "      <td>France</td>\n",
       "      <td>23346927</td>\n",
       "      <td>140642</td>\n",
       "      <td>23253235</td>\n",
       "      <td>140473</td>\n",
       "      <td>93692</td>\n",
       "      <td>169</td>\n",
       "      <td>0.6</td>\n",
       "      <td>Europe</td>\n",
       "    </tr>\n",
       "    <tr>\n",
       "      <th>4</th>\n",
       "      <td>United Kingdom</td>\n",
       "      <td>19446892</td>\n",
       "      <td>162936</td>\n",
       "      <td>19383743</td>\n",
       "      <td>162722</td>\n",
       "      <td>63149</td>\n",
       "      <td>214</td>\n",
       "      <td>0.8</td>\n",
       "      <td>Europe</td>\n",
       "    </tr>\n",
       "  </tbody>\n",
       "</table>\n",
       "</div>"
      ],
      "text/plain": [
       "   Country/Region     Cases  Deaths    PCases  PDeaths  Cases (+)  Deaths (+)  \\\n",
       "0              US  79369007  961843  79339202   960311      29805        1532   \n",
       "1           India  42975883  515355  42971308   515210       4575         145   \n",
       "2          Brazil  29152318  653134  29077831   652648      74487         486   \n",
       "3          France  23346927  140642  23253235   140473      93692         169   \n",
       "4  United Kingdom  19446892  162936  19383743   162722      63149         214   \n",
       "\n",
       "   Fatality Rate      Continent  \n",
       "0            1.2  North America  \n",
       "1            1.2           Asia  \n",
       "2            2.2  South America  \n",
       "3            0.6         Europe  \n",
       "4            0.8         Europe  "
      ]
     },
     "execution_count": 15,
     "metadata": {},
     "output_type": "execute_result"
    }
   ],
   "source": [
    "#hide\n",
    "df_table = (pd.DataFrame(dict(Cases=dfc_cases, Deaths=dfc_deaths, PCases=dfp_cases, PDeaths=dfp_deaths))\n",
    "             .sort_values(by=['Cases', 'Deaths'], ascending=[False, False])\n",
    "             .reset_index())\n",
    "df_table.rename(columns={'index': 'Country/Region'}, inplace=True)\n",
    "for c in 'Cases, Deaths'.split(', '):\n",
    "    df_table[f'{c} (+)'] = (df_table[c] - df_table[f'P{c}']).clip(0)  # DATA BUG\n",
    "df_table['Fatality Rate'] = (100 * df_table['Deaths'] / df_table['Cases']).round(1)\n",
    "df_table['Continent'] = df_table['Country/Region'].map(mapping['map.continent'])\n",
    "df_table.head(5)"
   ]
  },
  {
   "cell_type": "code",
   "execution_count": 16,
   "id": "fewer-occasion",
   "metadata": {
    "execution": {
     "iopub.execute_input": "2022-03-09T12:14:24.063254Z",
     "iopub.status.busy": "2022-03-09T12:14:24.062601Z",
     "iopub.status.idle": "2022-03-09T12:14:24.065078Z",
     "shell.execute_reply": "2022-03-09T12:14:24.065636Z"
    },
    "papermill": {
     "duration": 0.045814,
     "end_time": "2022-03-09T12:14:24.065779",
     "exception": false,
     "start_time": "2022-03-09T12:14:24.019965",
     "status": "completed"
    },
    "tags": []
   },
   "outputs": [],
   "source": [
    "#hide\n",
    "#delete problematic countries from table\n",
    "df_table = df_table[~df_table['Country/Region'].isin(['Cape Verde', 'Cruise Ship', 'Kosovo'])]"
   ]
  },
  {
   "cell_type": "code",
   "execution_count": 17,
   "id": "related-center",
   "metadata": {
    "execution": {
     "iopub.execute_input": "2022-03-09T12:14:24.151521Z",
     "iopub.status.busy": "2022-03-09T12:14:24.144391Z",
     "iopub.status.idle": "2022-03-09T12:14:24.162308Z",
     "shell.execute_reply": "2022-03-09T12:14:24.161818Z"
    },
    "papermill": {
     "duration": 0.06181,
     "end_time": "2022-03-09T12:14:24.162442",
     "exception": false,
     "start_time": "2022-03-09T12:14:24.100632",
     "status": "completed"
    },
    "tags": []
   },
   "outputs": [],
   "source": [
    "#hide\n",
    "metrics = [df_table.columns[index] for index in [1,2,5,6]]\n",
    "# s_china = df_table[df_table['Country/Region'].eq('China')][metrics].sum().add_prefix('China ')\n",
    "s_us = df_table[df_table['Country/Region'].eq('US')][metrics].sum().add_prefix('US ')\n",
    "s_eu = df_table[df_table['Continent'].eq('Europe')][metrics].sum().add_prefix('EU ')\n",
    "s_ind = df_table[df_table['Country/Region'].eq('India')][metrics].sum().add_prefix('India ')\n",
    "summary = {'updated': pd.to_datetime(dt_today), 'since': pd.to_datetime(dt_yday)}\n",
    "summary = {'updated': pd.to_datetime(dt_today), 'since': pd.to_datetime(dt_yday)}\n",
    "summary = {**summary, **df_table[metrics].sum(), **s_ind, **s_us, **s_eu}"
   ]
  },
  {
   "cell_type": "code",
   "execution_count": 18,
   "id": "engaging-syndrome",
   "metadata": {
    "execution": {
     "iopub.execute_input": "2022-03-09T12:14:24.239716Z",
     "iopub.status.busy": "2022-03-09T12:14:24.239056Z",
     "iopub.status.idle": "2022-03-09T12:14:24.256274Z",
     "shell.execute_reply": "2022-03-09T12:14:24.256698Z"
    },
    "papermill": {
     "duration": 0.059737,
     "end_time": "2022-03-09T12:14:24.256847",
     "exception": false,
     "start_time": "2022-03-09T12:14:24.197110",
     "status": "completed"
    },
    "tags": []
   },
   "outputs": [],
   "source": [
    "#hide\n",
    "dft_ct_new_cases = dft_cases.groupby(COL_REGION)[dt_cols].sum().diff(axis=1).fillna(0).astype(int)"
   ]
  },
  {
   "cell_type": "code",
   "execution_count": 19,
   "id": "neutral-assignment",
   "metadata": {
    "execution": {
     "iopub.execute_input": "2022-03-09T12:14:24.333667Z",
     "iopub.status.busy": "2022-03-09T12:14:24.333047Z",
     "iopub.status.idle": "2022-03-09T12:14:24.335968Z",
     "shell.execute_reply": "2022-03-09T12:14:24.335365Z"
    },
    "papermill": {
     "duration": 0.045369,
     "end_time": "2022-03-09T12:14:24.336093",
     "exception": false,
     "start_time": "2022-03-09T12:14:24.290724",
     "status": "completed"
    },
    "tags": []
   },
   "outputs": [],
   "source": [
    "#hide\n",
    "everydaycases = dft_ct_new_cases.cumsum(axis=1)"
   ]
  },
  {
   "cell_type": "code",
   "execution_count": 20,
   "id": "parliamentary-calgary",
   "metadata": {
    "execution": {
     "iopub.execute_input": "2022-03-09T12:14:24.413161Z",
     "iopub.status.busy": "2022-03-09T12:14:24.412515Z",
     "iopub.status.idle": "2022-03-09T12:14:25.118740Z",
     "shell.execute_reply": "2022-03-09T12:14:25.117718Z"
    },
    "papermill": {
     "duration": 0.747185,
     "end_time": "2022-03-09T12:14:25.118897",
     "exception": false,
     "start_time": "2022-03-09T12:14:24.371712",
     "status": "completed"
    },
    "tags": []
   },
   "outputs": [],
   "source": [
    "#hide\n",
    "import pandas as pd\n",
    "import matplotlib.pyplot as plt\n",
    "import matplotlib.ticker as ticker\n",
    "import matplotlib.animation as animation\n",
    "from IPython.display import HTML"
   ]
  },
  {
   "cell_type": "code",
   "execution_count": 21,
   "id": "lasting-extraction",
   "metadata": {
    "execution": {
     "iopub.execute_input": "2022-03-09T12:14:25.196607Z",
     "iopub.status.busy": "2022-03-09T12:14:25.195782Z",
     "iopub.status.idle": "2022-03-09T12:14:25.203062Z",
     "shell.execute_reply": "2022-03-09T12:14:25.202478Z"
    },
    "papermill": {
     "duration": 0.049102,
     "end_time": "2022-03-09T12:14:25.203251",
     "exception": false,
     "start_time": "2022-03-09T12:14:25.154149",
     "status": "completed"
    },
    "tags": []
   },
   "outputs": [],
   "source": [
    "#hide\n",
    "t = everydaycases.stack()"
   ]
  },
  {
   "cell_type": "code",
   "execution_count": 22,
   "id": "premier-sleeve",
   "metadata": {
    "execution": {
     "iopub.execute_input": "2022-03-09T12:14:25.279374Z",
     "iopub.status.busy": "2022-03-09T12:14:25.278705Z",
     "iopub.status.idle": "2022-03-09T12:14:25.294581Z",
     "shell.execute_reply": "2022-03-09T12:14:25.294087Z"
    },
    "papermill": {
     "duration": 0.05592,
     "end_time": "2022-03-09T12:14:25.294716",
     "exception": false,
     "start_time": "2022-03-09T12:14:25.238796",
     "status": "completed"
    },
    "tags": []
   },
   "outputs": [],
   "source": [
    "#hide\n",
    "g = t.reset_index(['Country/Region'])"
   ]
  },
  {
   "cell_type": "code",
   "execution_count": 23,
   "id": "distributed-pittsburgh",
   "metadata": {
    "execution": {
     "iopub.execute_input": "2022-03-09T12:14:25.373183Z",
     "iopub.status.busy": "2022-03-09T12:14:25.372110Z",
     "iopub.status.idle": "2022-03-09T12:14:25.374283Z",
     "shell.execute_reply": "2022-03-09T12:14:25.374847Z"
    },
    "papermill": {
     "duration": 0.044366,
     "end_time": "2022-03-09T12:14:25.374995",
     "exception": false,
     "start_time": "2022-03-09T12:14:25.330629",
     "status": "completed"
    },
    "tags": []
   },
   "outputs": [],
   "source": [
    "#hide\n",
    "g.index.name = 'date'"
   ]
  },
  {
   "cell_type": "code",
   "execution_count": 24,
   "id": "naked-donor",
   "metadata": {
    "execution": {
     "iopub.execute_input": "2022-03-09T12:14:25.448613Z",
     "iopub.status.busy": "2022-03-09T12:14:25.448031Z",
     "iopub.status.idle": "2022-03-09T12:14:25.451629Z",
     "shell.execute_reply": "2022-03-09T12:14:25.452068Z"
    },
    "papermill": {
     "duration": 0.041713,
     "end_time": "2022-03-09T12:14:25.452238",
     "exception": false,
     "start_time": "2022-03-09T12:14:25.410525",
     "status": "completed"
    },
    "tags": []
   },
   "outputs": [],
   "source": [
    "# #hide\n",
    "# g = g.reset_index(['date'])"
   ]
  },
  {
   "cell_type": "code",
   "execution_count": 25,
   "id": "incomplete-mustang",
   "metadata": {
    "execution": {
     "iopub.execute_input": "2022-03-09T12:14:25.534109Z",
     "iopub.status.busy": "2022-03-09T12:14:25.533508Z",
     "iopub.status.idle": "2022-03-09T12:14:25.535435Z",
     "shell.execute_reply": "2022-03-09T12:14:25.535930Z"
    },
    "papermill": {
     "duration": 0.039358,
     "end_time": "2022-03-09T12:14:25.536065",
     "exception": false,
     "start_time": "2022-03-09T12:14:25.496707",
     "status": "completed"
    },
    "tags": []
   },
   "outputs": [],
   "source": [
    "#hide\n",
    "# g.head()"
   ]
  },
  {
   "cell_type": "code",
   "execution_count": 26,
   "id": "specific-kruger",
   "metadata": {
    "execution": {
     "iopub.execute_input": "2022-03-09T12:14:25.610977Z",
     "iopub.status.busy": "2022-03-09T12:14:25.610285Z",
     "iopub.status.idle": "2022-03-09T12:14:25.611998Z",
     "shell.execute_reply": "2022-03-09T12:14:25.611531Z"
    },
    "papermill": {
     "duration": 0.041973,
     "end_time": "2022-03-09T12:14:25.612115",
     "exception": false,
     "start_time": "2022-03-09T12:14:25.570142",
     "status": "completed"
    },
    "tags": []
   },
   "outputs": [],
   "source": [
    "#hide\n",
    "# g.columns = ['date','country','cases']"
   ]
  },
  {
   "cell_type": "code",
   "execution_count": 27,
   "id": "tender-conversion",
   "metadata": {
    "execution": {
     "iopub.execute_input": "2022-03-09T12:14:25.688632Z",
     "iopub.status.busy": "2022-03-09T12:14:25.688034Z",
     "iopub.status.idle": "2022-03-09T12:14:25.690417Z",
     "shell.execute_reply": "2022-03-09T12:14:25.690862Z"
    },
    "papermill": {
     "duration": 0.042445,
     "end_time": "2022-03-09T12:14:25.691010",
     "exception": false,
     "start_time": "2022-03-09T12:14:25.648565",
     "status": "completed"
    },
    "tags": []
   },
   "outputs": [],
   "source": [
    "#hide\n",
    "# g['continent'] = g.country"
   ]
  },
  {
   "cell_type": "code",
   "execution_count": 28,
   "id": "substantial-wilderness",
   "metadata": {
    "execution": {
     "iopub.execute_input": "2022-03-09T12:14:25.770945Z",
     "iopub.status.busy": "2022-03-09T12:14:25.770091Z",
     "iopub.status.idle": "2022-03-09T12:14:25.771613Z",
     "shell.execute_reply": "2022-03-09T12:14:25.772072Z"
    },
    "papermill": {
     "duration": 0.043843,
     "end_time": "2022-03-09T12:14:25.772217",
     "exception": false,
     "start_time": "2022-03-09T12:14:25.728374",
     "status": "completed"
    },
    "tags": []
   },
   "outputs": [],
   "source": [
    "#hide\n",
    "# cols = list(g.columns.values)"
   ]
  },
  {
   "cell_type": "code",
   "execution_count": 29,
   "id": "solved-farming",
   "metadata": {
    "execution": {
     "iopub.execute_input": "2022-03-09T12:14:25.848697Z",
     "iopub.status.busy": "2022-03-09T12:14:25.848113Z",
     "iopub.status.idle": "2022-03-09T12:14:25.850771Z",
     "shell.execute_reply": "2022-03-09T12:14:25.850272Z"
    },
    "papermill": {
     "duration": 0.042146,
     "end_time": "2022-03-09T12:14:25.850893",
     "exception": false,
     "start_time": "2022-03-09T12:14:25.808747",
     "status": "completed"
    },
    "tags": []
   },
   "outputs": [],
   "source": [
    "#hide\n",
    "# cols.insert(0, cols.pop())"
   ]
  },
  {
   "cell_type": "code",
   "execution_count": 30,
   "id": "executed-adoption",
   "metadata": {
    "execution": {
     "iopub.execute_input": "2022-03-09T12:14:25.926924Z",
     "iopub.status.busy": "2022-03-09T12:14:25.926279Z",
     "iopub.status.idle": "2022-03-09T12:14:25.930765Z",
     "shell.execute_reply": "2022-03-09T12:14:25.930279Z"
    },
    "papermill": {
     "duration": 0.044892,
     "end_time": "2022-03-09T12:14:25.930892",
     "exception": false,
     "start_time": "2022-03-09T12:14:25.886000",
     "status": "completed"
    },
    "tags": []
   },
   "outputs": [],
   "source": [
    "#hide\n",
    "# g = g[cols]"
   ]
  },
  {
   "cell_type": "code",
   "execution_count": 31,
   "id": "subject-dublin",
   "metadata": {
    "execution": {
     "iopub.execute_input": "2022-03-09T12:14:26.013266Z",
     "iopub.status.busy": "2022-03-09T12:14:26.012203Z",
     "iopub.status.idle": "2022-03-09T12:14:26.014363Z",
     "shell.execute_reply": "2022-03-09T12:14:26.015191Z"
    },
    "papermill": {
     "duration": 0.042164,
     "end_time": "2022-03-09T12:14:26.015362",
     "exception": false,
     "start_time": "2022-03-09T12:14:25.973198",
     "status": "completed"
    },
    "tags": []
   },
   "outputs": [],
   "source": [
    "#hide\n",
    "# g['continent'] = g['continent'].map(mapping['map.continent'])"
   ]
  },
  {
   "cell_type": "code",
   "execution_count": 32,
   "id": "freelance-scout",
   "metadata": {
    "execution": {
     "iopub.execute_input": "2022-03-09T12:14:26.093124Z",
     "iopub.status.busy": "2022-03-09T12:14:26.092402Z",
     "iopub.status.idle": "2022-03-09T12:14:26.093947Z",
     "shell.execute_reply": "2022-03-09T12:14:26.094601Z"
    },
    "papermill": {
     "duration": 0.043993,
     "end_time": "2022-03-09T12:14:26.094764",
     "exception": false,
     "start_time": "2022-03-09T12:14:26.050771",
     "status": "completed"
    },
    "tags": []
   },
   "outputs": [],
   "source": [
    "#hide\n",
    "# g.head()"
   ]
  },
  {
   "cell_type": "code",
   "execution_count": 33,
   "id": "limited-engine",
   "metadata": {
    "execution": {
     "iopub.execute_input": "2022-03-09T12:14:26.175409Z",
     "iopub.status.busy": "2022-03-09T12:14:26.174177Z",
     "iopub.status.idle": "2022-03-09T12:14:26.179952Z",
     "shell.execute_reply": "2022-03-09T12:14:26.179452Z"
    },
    "papermill": {
     "duration": 0.0473,
     "end_time": "2022-03-09T12:14:26.180084",
     "exception": false,
     "start_time": "2022-03-09T12:14:26.132784",
     "status": "completed"
    },
    "tags": []
   },
   "outputs": [],
   "source": [
    "# hide\n",
    "# g['date'] = g['date'].astype('datetime64[ns]')"
   ]
  },
  {
   "cell_type": "code",
   "execution_count": 34,
   "id": "sophisticated-supervisor",
   "metadata": {
    "execution": {
     "iopub.execute_input": "2022-03-09T12:14:26.255348Z",
     "iopub.status.busy": "2022-03-09T12:14:26.254729Z",
     "iopub.status.idle": "2022-03-09T12:14:26.257635Z",
     "shell.execute_reply": "2022-03-09T12:14:26.257136Z"
    },
    "papermill": {
     "duration": 0.041695,
     "end_time": "2022-03-09T12:14:26.257760",
     "exception": false,
     "start_time": "2022-03-09T12:14:26.216065",
     "status": "completed"
    },
    "tags": []
   },
   "outputs": [],
   "source": [
    "#hide\n",
    "# g['date'] = g.date.dt.dayofyear"
   ]
  },
  {
   "cell_type": "code",
   "execution_count": 35,
   "id": "inside-dubai",
   "metadata": {
    "execution": {
     "iopub.execute_input": "2022-03-09T12:14:26.336436Z",
     "iopub.status.busy": "2022-03-09T12:14:26.335706Z",
     "iopub.status.idle": "2022-03-09T12:14:26.337230Z",
     "shell.execute_reply": "2022-03-09T12:14:26.337879Z"
    },
    "papermill": {
     "duration": 0.042349,
     "end_time": "2022-03-09T12:14:26.338043",
     "exception": false,
     "start_time": "2022-03-09T12:14:26.295694",
     "status": "completed"
    },
    "tags": []
   },
   "outputs": [],
   "source": [
    "#hide\n",
    "# g = g.rename(columns= {'continent':'group','country':'name','cases':'value'})"
   ]
  },
  {
   "cell_type": "code",
   "execution_count": 36,
   "id": "fleet-motorcycle",
   "metadata": {
    "execution": {
     "iopub.execute_input": "2022-03-09T12:14:26.413024Z",
     "iopub.status.busy": "2022-03-09T12:14:26.412386Z",
     "iopub.status.idle": "2022-03-09T12:14:26.416601Z",
     "shell.execute_reply": "2022-03-09T12:14:26.416132Z"
    },
    "papermill": {
     "duration": 0.044116,
     "end_time": "2022-03-09T12:14:26.416727",
     "exception": false,
     "start_time": "2022-03-09T12:14:26.372611",
     "status": "completed"
    },
    "tags": []
   },
   "outputs": [],
   "source": [
    "#hide\n",
    "# cols = ['name','group','day','value']"
   ]
  },
  {
   "cell_type": "code",
   "execution_count": 37,
   "id": "continued-sleeping",
   "metadata": {
    "execution": {
     "iopub.execute_input": "2022-03-09T12:14:26.495821Z",
     "iopub.status.busy": "2022-03-09T12:14:26.495197Z",
     "iopub.status.idle": "2022-03-09T12:14:26.497238Z",
     "shell.execute_reply": "2022-03-09T12:14:26.496658Z"
    },
    "papermill": {
     "duration": 0.045434,
     "end_time": "2022-03-09T12:14:26.497361",
     "exception": false,
     "start_time": "2022-03-09T12:14:26.451927",
     "status": "completed"
    },
    "tags": []
   },
   "outputs": [],
   "source": [
    "#hide\n",
    "# g.rename(columns= {'date':'day'},inplace = True)"
   ]
  },
  {
   "cell_type": "code",
   "execution_count": 38,
   "id": "major-fight",
   "metadata": {
    "execution": {
     "iopub.execute_input": "2022-03-09T12:14:26.572316Z",
     "iopub.status.busy": "2022-03-09T12:14:26.571653Z",
     "iopub.status.idle": "2022-03-09T12:14:26.575755Z",
     "shell.execute_reply": "2022-03-09T12:14:26.575269Z"
    },
    "papermill": {
     "duration": 0.043262,
     "end_time": "2022-03-09T12:14:26.575939",
     "exception": false,
     "start_time": "2022-03-09T12:14:26.532677",
     "status": "completed"
    },
    "tags": []
   },
   "outputs": [],
   "source": [
    "#hide\n",
    "# g = g[cols]"
   ]
  },
  {
   "cell_type": "code",
   "execution_count": 39,
   "id": "structured-mobile",
   "metadata": {
    "execution": {
     "iopub.execute_input": "2022-03-09T12:14:26.648962Z",
     "iopub.status.busy": "2022-03-09T12:14:26.648237Z",
     "iopub.status.idle": "2022-03-09T12:14:26.650359Z",
     "shell.execute_reply": "2022-03-09T12:14:26.649694Z"
    },
    "papermill": {
     "duration": 0.040268,
     "end_time": "2022-03-09T12:14:26.650500",
     "exception": false,
     "start_time": "2022-03-09T12:14:26.610232",
     "status": "completed"
    },
    "tags": []
   },
   "outputs": [],
   "source": [
    "# #hide\n",
    "# g = g[g.group.notna()]"
   ]
  },
  {
   "cell_type": "code",
   "execution_count": 40,
   "id": "determined-closing",
   "metadata": {
    "execution": {
     "iopub.execute_input": "2022-03-09T12:14:26.726162Z",
     "iopub.status.busy": "2022-03-09T12:14:26.725541Z",
     "iopub.status.idle": "2022-03-09T12:14:26.728376Z",
     "shell.execute_reply": "2022-03-09T12:14:26.728825Z"
    },
    "papermill": {
     "duration": 0.042698,
     "end_time": "2022-03-09T12:14:26.728978",
     "exception": false,
     "start_time": "2022-03-09T12:14:26.686280",
     "status": "completed"
    },
    "tags": []
   },
   "outputs": [],
   "source": [
    "# #hide\n",
    "# colors = dict(zip(\n",
    "#     [\"Oceania\", \"Europe\", \"Asia\", \"South America\", \"Middle East\", \"North America\", \"Africa\"],\n",
    "#     [\"#adb0ff\", \"#ffb3ff\", \"#90d595\", \"#e48381\", \"#aafbff\", \"#f7bb5f\", \"#eafb50\"]\n",
    "# ))\n",
    "# group_lk = g.set_index('name')['group'].to_dict()"
   ]
  },
  {
   "cell_type": "code",
   "execution_count": null,
   "id": "gross-drinking",
   "metadata": {
    "papermill": {
     "duration": 0.037647,
     "end_time": "2022-03-09T12:14:26.801524",
     "exception": false,
     "start_time": "2022-03-09T12:14:26.763877",
     "status": "completed"
    },
    "tags": []
   },
   "outputs": [],
   "source": []
  },
  {
   "cell_type": "code",
   "execution_count": 41,
   "id": "subject-macintosh",
   "metadata": {
    "execution": {
     "iopub.execute_input": "2022-03-09T12:14:26.880067Z",
     "iopub.status.busy": "2022-03-09T12:14:26.879433Z",
     "iopub.status.idle": "2022-03-09T12:14:26.882110Z",
     "shell.execute_reply": "2022-03-09T12:14:26.882584Z"
    },
    "papermill": {
     "duration": 0.043551,
     "end_time": "2022-03-09T12:14:26.882731",
     "exception": false,
     "start_time": "2022-03-09T12:14:26.839180",
     "status": "completed"
    },
    "tags": []
   },
   "outputs": [],
   "source": [
    "# #hide\n",
    "# fig, ax = plt.subplots(figsize=(15, 8))\n",
    "\n",
    "# def draw_barchart(current_day):\n",
    "#     dff = g[g['day'].eq(current_day)].sort_values(by='value', ascending=True).tail(10)\n",
    "#     ax.clear()\n",
    "#     ax.barh(dff['name'], dff['value'], color=[colors[group_lk[x]] for x in dff['name']])\n",
    "#     dx = dff['value'].max() / 200\n",
    "    \n",
    "#     for i, (value, name) in enumerate(zip(dff['value'], dff['name'])):\n",
    "#         ax.text(value-dx, i,     name,           size=14, weight=600, ha='right', va='bottom')\n",
    "#         ax.text(value-dx, i-.25, group_lk[name], size=10, color='#444444', ha='right', va='baseline')\n",
    "#         ax.text(value+dx, i,     f'{value:,.0f}',  size=14, ha='left',  va='center')\n",
    "#     ax.text(1, 0.4, current_day, transform=ax.transAxes, color='#777777', size=46, ha='right', weight=800)\n",
    "#     ax.text(0, 1.06, 'Population (thousands)', transform=ax.transAxes, size=12, color='#777777')\n",
    "#     ax.xaxis.set_major_formatter(ticker.StrMethodFormatter('{x:,.0f}'))\n",
    "#     ax.xaxis.set_ticks_position('top')\n",
    "#     ax.tick_params(axis='x', colors='#777777', labelsize=12)\n",
    "#     ax.set_yticks([])\n",
    "#     ax.margins(0, 0.01)\n",
    "#     ax.grid(which='major', axis='x', linestyle='-')\n",
    "#     ax.set_axisbelow(True)\n",
    "    \n",
    "#     ax.text(0, 1.15, 'Coronavirus',\n",
    "#             transform=ax.transAxes, size=24, weight=600, ha='left', va='top')\n",
    "# #     ax.text(1, 0, 'by @pratapvardhan; credit @jburnmurdoch', transform=ax.transAxes, color='#777777', ha='right',\n",
    "# #             bbox=dict(facecolor='white', alpha=0.8, edgecolor='white'))\n",
    "#     plt.box(False)"
   ]
  },
  {
   "cell_type": "code",
   "execution_count": 42,
   "id": "sexual-wages",
   "metadata": {
    "execution": {
     "iopub.execute_input": "2022-03-09T12:14:26.959668Z",
     "iopub.status.busy": "2022-03-09T12:14:26.958979Z",
     "iopub.status.idle": "2022-03-09T12:14:26.961156Z",
     "shell.execute_reply": "2022-03-09T12:14:26.960562Z"
    },
    "papermill": {
     "duration": 0.04284,
     "end_time": "2022-03-09T12:14:26.961281",
     "exception": false,
     "start_time": "2022-03-09T12:14:26.918441",
     "status": "completed"
    },
    "tags": []
   },
   "outputs": [],
   "source": [
    "# #hide_input\n",
    "# fig, ax = plt.subplots(figsize=(15, 8))\n",
    "# animator = animation.FuncAnimation(fig, draw_barchart, frames=range(g.day.values.min(), g.day.values.max()))\n",
    "# HTML(animator.to_jshtml())\n",
    "# # or use animator.to_html5_video() or animator.save() "
   ]
  },
  {
   "cell_type": "code",
   "execution_count": null,
   "id": "australian-container",
   "metadata": {
    "papermill": {
     "duration": 0.035028,
     "end_time": "2022-03-09T12:14:27.039166",
     "exception": false,
     "start_time": "2022-03-09T12:14:27.004138",
     "status": "completed"
    },
    "tags": []
   },
   "outputs": [],
   "source": []
  },
  {
   "cell_type": "code",
   "execution_count": null,
   "id": "mediterranean-pontiac",
   "metadata": {
    "papermill": {
     "duration": 0.034968,
     "end_time": "2022-03-09T12:14:27.109376",
     "exception": false,
     "start_time": "2022-03-09T12:14:27.074408",
     "status": "completed"
    },
    "tags": []
   },
   "outputs": [],
   "source": []
  },
  {
   "cell_type": "code",
   "execution_count": null,
   "id": "aging-legislature",
   "metadata": {
    "papermill": {
     "duration": 0.035061,
     "end_time": "2022-03-09T12:14:27.178903",
     "exception": false,
     "start_time": "2022-03-09T12:14:27.143842",
     "status": "completed"
    },
    "tags": []
   },
   "outputs": [],
   "source": []
  }
 ],
 "metadata": {
  "kernelspec": {
   "display_name": "Python 3",
   "language": "python",
   "name": "python3"
  },
  "language_info": {
   "codemirror_mode": {
    "name": "ipython",
    "version": 3
   },
   "file_extension": ".py",
   "mimetype": "text/x-python",
   "name": "python",
   "nbconvert_exporter": "python",
   "pygments_lexer": "ipython3",
   "version": "3.6.15"
  },
  "papermill": {
   "duration": 7.14482,
   "end_time": "2022-03-09T12:14:27.532484",
   "environment_variables": {},
   "exception": null,
   "input_path": "2020-03-21-covid19exp.ipynb",
   "output_path": "2020-03-21-covid19exp.ipynb",
   "parameters": {},
   "start_time": "2022-03-09T12:14:20.387664",
   "version": "2.0.0"
  }
 },
 "nbformat": 4,
 "nbformat_minor": 5
}