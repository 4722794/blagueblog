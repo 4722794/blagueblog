{
 "cells": [
  {
   "cell_type": "markdown",
   "id": "muslim-click",
   "metadata": {
    "papermill": {
     "duration": 0.034376,
     "end_time": "2021-11-26T00:24:37.357519",
     "exception": false,
     "start_time": "2021-11-26T00:24:37.323143",
     "status": "completed"
    },
    "tags": []
   },
   "source": [
    "# COVID-19 Case Race\n",
    "> A race chart to see rising cases around the world\n",
    "\n",
    "- author: Hargun Oberoi\n",
    "- image: images/covid-overview.png\n",
    "- hide: false\n",
    "- badges: false"
   ]
  },
  {
   "cell_type": "code",
   "execution_count": 1,
   "id": "proof-material",
   "metadata": {
    "execution": {
     "iopub.execute_input": "2021-11-26T00:24:37.433131Z",
     "iopub.status.busy": "2021-11-26T00:24:37.432515Z",
     "iopub.status.idle": "2021-11-26T00:24:37.792966Z",
     "shell.execute_reply": "2021-11-26T00:24:37.792374Z"
    },
    "papermill": {
     "duration": 0.405585,
     "end_time": "2021-11-26T00:24:37.793112",
     "exception": false,
     "start_time": "2021-11-26T00:24:37.387527",
     "status": "completed"
    },
    "tags": []
   },
   "outputs": [],
   "source": [
    "#hide\n",
    "import numpy as np\n",
    "import pandas as pd\n",
    "from jinja2 import Template\n",
    "from IPython.display import HTML"
   ]
  },
  {
   "cell_type": "code",
   "execution_count": 2,
   "id": "developed-terminology",
   "metadata": {
    "execution": {
     "iopub.execute_input": "2021-11-26T00:24:37.864239Z",
     "iopub.status.busy": "2021-11-26T00:24:37.863667Z",
     "iopub.status.idle": "2021-11-26T00:24:37.866733Z",
     "shell.execute_reply": "2021-11-26T00:24:37.867422Z"
    },
    "papermill": {
     "duration": 0.04026,
     "end_time": "2021-11-26T00:24:37.867553",
     "exception": false,
     "start_time": "2021-11-26T00:24:37.827293",
     "status": "completed"
    },
    "tags": []
   },
   "outputs": [],
   "source": [
    "#hide\n",
    "\n",
    "# FETCH\n",
    "base_url = 'https://raw.githubusercontent.com/pratapvardhan/notebooks/master/covid19/'\n",
    "paths = {\n",
    "    'mapping': base_url + 'mapping_countries.csv',\n",
    "    'overview': base_url + 'overview.tpl'\n",
    "}"
   ]
  },
  {
   "cell_type": "code",
   "execution_count": 3,
   "id": "dynamic-saver",
   "metadata": {
    "execution": {
     "iopub.execute_input": "2021-11-26T00:24:37.937492Z",
     "iopub.status.busy": "2021-11-26T00:24:37.936756Z",
     "iopub.status.idle": "2021-11-26T00:24:37.939809Z",
     "shell.execute_reply": "2021-11-26T00:24:37.940124Z"
    },
    "papermill": {
     "duration": 0.043622,
     "end_time": "2021-11-26T00:24:37.940229",
     "exception": false,
     "start_time": "2021-11-26T00:24:37.896607",
     "status": "completed"
    },
    "tags": []
   },
   "outputs": [
    {
     "data": {
      "text/plain": [
       "'https://raw.githubusercontent.com/pratapvardhan/notebooks/master/covid19/mapping_countries.csv'"
      ]
     },
     "execution_count": 3,
     "metadata": {},
     "output_type": "execute_result"
    }
   ],
   "source": [
    "#hide\n",
    "paths['mapping']"
   ]
  },
  {
   "cell_type": "code",
   "execution_count": 4,
   "id": "urban-software",
   "metadata": {
    "execution": {
     "iopub.execute_input": "2021-11-26T00:24:38.008145Z",
     "iopub.status.busy": "2021-11-26T00:24:38.007574Z",
     "iopub.status.idle": "2021-11-26T00:24:38.011284Z",
     "shell.execute_reply": "2021-11-26T00:24:38.010814Z"
    },
    "papermill": {
     "duration": 0.040829,
     "end_time": "2021-11-26T00:24:38.011410",
     "exception": false,
     "start_time": "2021-11-26T00:24:37.970581",
     "status": "completed"
    },
    "tags": []
   },
   "outputs": [],
   "source": [
    "#hide\n",
    "def get_mappings(url):\n",
    "    df = pd.read_csv(url)\n",
    "    return {\n",
    "        'df': df,\n",
    "        'replace.country': dict(df.dropna(subset=['Name']).set_index('Country')['Name']),\n",
    "        'map.continent': dict(df.set_index('Name')['Continent'])\n",
    "    }"
   ]
  },
  {
   "cell_type": "code",
   "execution_count": 5,
   "id": "intimate-machinery",
   "metadata": {
    "execution": {
     "iopub.execute_input": "2021-11-26T00:24:38.083585Z",
     "iopub.status.busy": "2021-11-26T00:24:38.083060Z",
     "iopub.status.idle": "2021-11-26T00:24:38.123222Z",
     "shell.execute_reply": "2021-11-26T00:24:38.122821Z"
    },
    "papermill": {
     "duration": 0.079427,
     "end_time": "2021-11-26T00:24:38.123338",
     "exception": false,
     "start_time": "2021-11-26T00:24:38.043911",
     "status": "completed"
    },
    "tags": []
   },
   "outputs": [],
   "source": [
    "#hide\n",
    "mapping = get_mappings(paths['mapping'])"
   ]
  },
  {
   "cell_type": "code",
   "execution_count": 6,
   "id": "certified-tactics",
   "metadata": {
    "execution": {
     "iopub.execute_input": "2021-11-26T00:24:38.191470Z",
     "iopub.status.busy": "2021-11-26T00:24:38.190866Z",
     "iopub.status.idle": "2021-11-26T00:24:38.192236Z",
     "shell.execute_reply": "2021-11-26T00:24:38.192960Z"
    },
    "papermill": {
     "duration": 0.035882,
     "end_time": "2021-11-26T00:24:38.193107",
     "exception": false,
     "start_time": "2021-11-26T00:24:38.157225",
     "status": "completed"
    },
    "tags": []
   },
   "outputs": [],
   "source": [
    "#hide\n",
    "def get_template(path):\n",
    "    from urllib.parse import urlparse\n",
    "    if bool(urlparse(path).netloc):\n",
    "        from urllib.request import urlopen\n",
    "        return urlopen(path).read().decode('utf8')\n",
    "    return open(path).read()"
   ]
  },
  {
   "cell_type": "code",
   "execution_count": 7,
   "id": "realistic-blast",
   "metadata": {
    "execution": {
     "iopub.execute_input": "2021-11-26T00:24:38.262661Z",
     "iopub.status.busy": "2021-11-26T00:24:38.262196Z",
     "iopub.status.idle": "2021-11-26T00:24:38.264473Z",
     "shell.execute_reply": "2021-11-26T00:24:38.263979Z"
    },
    "papermill": {
     "duration": 0.036955,
     "end_time": "2021-11-26T00:24:38.264596",
     "exception": false,
     "start_time": "2021-11-26T00:24:38.227641",
     "status": "completed"
    },
    "tags": []
   },
   "outputs": [],
   "source": [
    "#hide\n",
    "def get_frame(name):\n",
    "    url = (\n",
    "        'https://raw.githubusercontent.com/CSSEGISandData/COVID-19/master/csse_covid_19_data/'\n",
    "        f'csse_covid_19_time_series/time_series_covid19_{name}_global.csv')\n",
    "    df = pd.read_csv(url)\n",
    "    # rename countries\n",
    "    df['Country/Region'] = df['Country/Region'].replace(mapping['replace.country'])\n",
    "    return df"
   ]
  },
  {
   "cell_type": "code",
   "execution_count": 8,
   "id": "affiliated-characterization",
   "metadata": {
    "execution": {
     "iopub.execute_input": "2021-11-26T00:24:38.330812Z",
     "iopub.status.busy": "2021-11-26T00:24:38.330299Z",
     "iopub.status.idle": "2021-11-26T00:24:38.333378Z",
     "shell.execute_reply": "2021-11-26T00:24:38.333723Z"
    },
    "papermill": {
     "duration": 0.041749,
     "end_time": "2021-11-26T00:24:38.333827",
     "exception": false,
     "start_time": "2021-11-26T00:24:38.292078",
     "status": "completed"
    },
    "tags": []
   },
   "outputs": [],
   "source": [
    "#hide\n",
    "def get_dates(df):\n",
    "    dt_cols = df.columns[~df.columns.isin(['Province/State', 'Country/Region', 'Lat', 'Long'])]\n",
    "    LAST_DATE_I = -1\n",
    "    # sometimes last column may be empty, then go backwards\n",
    "    for i in range(-1, -len(dt_cols), -1):\n",
    "        if not df[dt_cols[i]].fillna(0).eq(0).all():\n",
    "            LAST_DATE_I = i\n",
    "            break\n",
    "    return LAST_DATE_I, dt_cols"
   ]
  },
  {
   "cell_type": "code",
   "execution_count": 9,
   "id": "recent-optimization",
   "metadata": {
    "execution": {
     "iopub.execute_input": "2021-11-26T00:24:38.403516Z",
     "iopub.status.busy": "2021-11-26T00:24:38.402879Z",
     "iopub.status.idle": "2021-11-26T00:24:38.812181Z",
     "shell.execute_reply": "2021-11-26T00:24:38.811076Z"
    },
    "papermill": {
     "duration": 0.447284,
     "end_time": "2021-11-26T00:24:38.812321",
     "exception": false,
     "start_time": "2021-11-26T00:24:38.365037",
     "status": "completed"
    },
    "tags": []
   },
   "outputs": [],
   "source": [
    "#hide\n",
    "COL_REGION = 'Country/Region'\n",
    "# Confirmed, Recovered, Deaths\n",
    "df = get_frame('confirmed')\n",
    "# dft_: timeseries, dfc_: today country agg\n",
    "dft_cases = df\n",
    "dft_deaths = get_frame('deaths')\n",
    "dft_recovered = get_frame('recovered')\n",
    "LAST_DATE_I, dt_cols = get_dates(df)"
   ]
  },
  {
   "cell_type": "code",
   "execution_count": 10,
   "id": "absolute-copper",
   "metadata": {
    "execution": {
     "iopub.execute_input": "2021-11-26T00:24:38.878994Z",
     "iopub.status.busy": "2021-11-26T00:24:38.878393Z",
     "iopub.status.idle": "2021-11-26T00:24:38.880321Z",
     "shell.execute_reply": "2021-11-26T00:24:38.879829Z"
    },
    "papermill": {
     "duration": 0.03769,
     "end_time": "2021-11-26T00:24:38.880424",
     "exception": false,
     "start_time": "2021-11-26T00:24:38.842734",
     "status": "completed"
    },
    "tags": []
   },
   "outputs": [],
   "source": [
    "#hide\n",
    "LAST_DATE_I, dt_cols = get_dates(df)\n",
    "dt_today =dt_cols[LAST_DATE_I]\n",
    "# dt_5day = dt_cols[LAST_DATE_I - 5]\n",
    "dt_yday = dt_cols[LAST_DATE_I - 1]"
   ]
  },
  {
   "cell_type": "code",
   "execution_count": 11,
   "id": "restricted-sheriff",
   "metadata": {
    "execution": {
     "iopub.execute_input": "2021-11-26T00:24:38.969140Z",
     "iopub.status.busy": "2021-11-26T00:24:38.968391Z",
     "iopub.status.idle": "2021-11-26T00:24:38.974837Z",
     "shell.execute_reply": "2021-11-26T00:24:38.974377Z"
    },
    "papermill": {
     "duration": 0.059696,
     "end_time": "2021-11-26T00:24:38.974939",
     "exception": false,
     "start_time": "2021-11-26T00:24:38.915243",
     "status": "completed"
    },
    "tags": []
   },
   "outputs": [],
   "source": [
    "#hide\n",
    "dfc_cases = dft_cases.groupby(COL_REGION)[dt_today].sum()\n",
    "dfc_deaths = dft_deaths.groupby(COL_REGION)[dt_today].sum()\n",
    "# dfp_cases = dft_cases.groupby(COL_REGION)[dt_5day].sum()\n",
    "# dfp_deaths = dft_deaths.groupby(COL_REGION)[dt_5day].sum()\n",
    "dfp_cases = dft_cases.groupby(COL_REGION)[dt_yday].sum()\n",
    "dfp_deaths = dft_deaths.groupby(COL_REGION)[dt_yday].sum()"
   ]
  },
  {
   "cell_type": "code",
   "execution_count": 12,
   "id": "deluxe-hepatitis",
   "metadata": {
    "execution": {
     "iopub.execute_input": "2021-11-26T00:24:39.048372Z",
     "iopub.status.busy": "2021-11-26T00:24:39.046662Z",
     "iopub.status.idle": "2021-11-26T00:24:39.050960Z",
     "shell.execute_reply": "2021-11-26T00:24:39.050460Z"
    },
    "papermill": {
     "duration": 0.044463,
     "end_time": "2021-11-26T00:24:39.051079",
     "exception": false,
     "start_time": "2021-11-26T00:24:39.006616",
     "status": "completed"
    },
    "tags": []
   },
   "outputs": [],
   "source": [
    "#hide\n",
    "df_table = (pd.DataFrame(dict(Cases = dfc_cases, Deaths = dfc_deaths, PCases = dfp_cases, PDeaths = dfp_deaths))\n",
    "            .sort_values(by = ['Cases','Deaths'], ascending = [False, False])\n",
    "            .reset_index())"
   ]
  },
  {
   "cell_type": "code",
   "execution_count": 13,
   "id": "educational-chancellor",
   "metadata": {
    "execution": {
     "iopub.execute_input": "2021-11-26T00:24:39.129979Z",
     "iopub.status.busy": "2021-11-26T00:24:39.128789Z",
     "iopub.status.idle": "2021-11-26T00:24:39.146719Z",
     "shell.execute_reply": "2021-11-26T00:24:39.146157Z"
    },
    "papermill": {
     "duration": 0.06273,
     "end_time": "2021-11-26T00:24:39.146841",
     "exception": false,
     "start_time": "2021-11-26T00:24:39.084111",
     "status": "completed"
    },
    "tags": []
   },
   "outputs": [
    {
     "data": {
      "text/html": [
       "<div>\n",
       "<style scoped>\n",
       "    .dataframe tbody tr th:only-of-type {\n",
       "        vertical-align: middle;\n",
       "    }\n",
       "\n",
       "    .dataframe tbody tr th {\n",
       "        vertical-align: top;\n",
       "    }\n",
       "\n",
       "    .dataframe thead th {\n",
       "        text-align: right;\n",
       "    }\n",
       "</style>\n",
       "<table border=\"1\" class=\"dataframe\">\n",
       "  <thead>\n",
       "    <tr style=\"text-align: right;\">\n",
       "      <th></th>\n",
       "      <th>Country/Region</th>\n",
       "      <th>Cases</th>\n",
       "      <th>Deaths</th>\n",
       "      <th>PCases</th>\n",
       "      <th>PDeaths</th>\n",
       "      <th>Cases (+)</th>\n",
       "      <th>Deaths (+)</th>\n",
       "      <th>Fatality Rate</th>\n",
       "      <th>Continent</th>\n",
       "    </tr>\n",
       "  </thead>\n",
       "  <tbody>\n",
       "    <tr>\n",
       "      <th>0</th>\n",
       "      <td>US</td>\n",
       "      <td>48092052</td>\n",
       "      <td>775403</td>\n",
       "      <td>47980780</td>\n",
       "      <td>773770</td>\n",
       "      <td>111272</td>\n",
       "      <td>1633</td>\n",
       "      <td>1.61</td>\n",
       "      <td>North America</td>\n",
       "    </tr>\n",
       "    <tr>\n",
       "      <th>1</th>\n",
       "      <td>India</td>\n",
       "      <td>34544882</td>\n",
       "      <td>466980</td>\n",
       "      <td>34535763</td>\n",
       "      <td>466584</td>\n",
       "      <td>9119</td>\n",
       "      <td>396</td>\n",
       "      <td>1.35</td>\n",
       "      <td>Asia</td>\n",
       "    </tr>\n",
       "    <tr>\n",
       "      <th>2</th>\n",
       "      <td>Brazil</td>\n",
       "      <td>22043112</td>\n",
       "      <td>613339</td>\n",
       "      <td>22030182</td>\n",
       "      <td>613066</td>\n",
       "      <td>12930</td>\n",
       "      <td>273</td>\n",
       "      <td>2.78</td>\n",
       "      <td>South America</td>\n",
       "    </tr>\n",
       "    <tr>\n",
       "      <th>3</th>\n",
       "      <td>United Kingdom</td>\n",
       "      <td>10028829</td>\n",
       "      <td>144728</td>\n",
       "      <td>9985879</td>\n",
       "      <td>144579</td>\n",
       "      <td>42950</td>\n",
       "      <td>149</td>\n",
       "      <td>1.44</td>\n",
       "      <td>Europe</td>\n",
       "    </tr>\n",
       "    <tr>\n",
       "      <th>4</th>\n",
       "      <td>Russia</td>\n",
       "      <td>9270885</td>\n",
       "      <td>262733</td>\n",
       "      <td>9238330</td>\n",
       "      <td>261526</td>\n",
       "      <td>32555</td>\n",
       "      <td>1207</td>\n",
       "      <td>2.83</td>\n",
       "      <td>Europe</td>\n",
       "    </tr>\n",
       "  </tbody>\n",
       "</table>\n",
       "</div>"
      ],
      "text/plain": [
       "   Country/Region     Cases  Deaths    PCases  PDeaths  Cases (+)  Deaths (+)  \\\n",
       "0              US  48092052  775403  47980780   773770     111272        1633   \n",
       "1           India  34544882  466980  34535763   466584       9119         396   \n",
       "2          Brazil  22043112  613339  22030182   613066      12930         273   \n",
       "3  United Kingdom  10028829  144728   9985879   144579      42950         149   \n",
       "4          Russia   9270885  262733   9238330   261526      32555        1207   \n",
       "\n",
       "   Fatality Rate      Continent  \n",
       "0           1.61  North America  \n",
       "1           1.35           Asia  \n",
       "2           2.78  South America  \n",
       "3           1.44         Europe  \n",
       "4           2.83         Europe  "
      ]
     },
     "execution_count": 13,
     "metadata": {},
     "output_type": "execute_result"
    }
   ],
   "source": [
    "#hide\n",
    "for c in 'Cases, Deaths'.split(', '):\n",
    "    df_table[f'{c} (+)'] = (df_table[c] - df_table[f'P{c}']).clip(0)\n",
    "    #Clip ça veut dire, les chiffres negatif sont interdit\n",
    "df_table['Fatality Rate'] = (100* df_table['Deaths']/ df_table['Cases']).round(2)\n",
    "df_table['Continent'] = df_table['Country/Region'].map(mapping['map.continent'])\n",
    "df_table.head(5)"
   ]
  },
  {
   "cell_type": "code",
   "execution_count": 14,
   "id": "aboriginal-bulgaria",
   "metadata": {
    "execution": {
     "iopub.execute_input": "2021-11-26T00:24:39.217156Z",
     "iopub.status.busy": "2021-11-26T00:24:39.216617Z",
     "iopub.status.idle": "2021-11-26T00:24:39.218980Z",
     "shell.execute_reply": "2021-11-26T00:24:39.218509Z"
    },
    "papermill": {
     "duration": 0.040789,
     "end_time": "2021-11-26T00:24:39.219080",
     "exception": false,
     "start_time": "2021-11-26T00:24:39.178291",
     "status": "completed"
    },
    "tags": []
   },
   "outputs": [],
   "source": [
    "#hide\n",
    "#delete problematic countries from table\n",
    "df_table = df_table[~df_table['Country/Region'].isin(['Cape Verde', 'Cruise Ship', 'Kosovo'])]"
   ]
  },
  {
   "cell_type": "code",
   "execution_count": 15,
   "id": "fantastic-effect",
   "metadata": {
    "execution": {
     "iopub.execute_input": "2021-11-26T00:24:39.299072Z",
     "iopub.status.busy": "2021-11-26T00:24:39.298470Z",
     "iopub.status.idle": "2021-11-26T00:24:39.317432Z",
     "shell.execute_reply": "2021-11-26T00:24:39.317944Z"
    },
    "papermill": {
     "duration": 0.065041,
     "end_time": "2021-11-26T00:24:39.318083",
     "exception": false,
     "start_time": "2021-11-26T00:24:39.253042",
     "status": "completed"
    },
    "tags": []
   },
   "outputs": [
    {
     "data": {
      "text/html": [
       "<div>\n",
       "<style scoped>\n",
       "    .dataframe tbody tr th:only-of-type {\n",
       "        vertical-align: middle;\n",
       "    }\n",
       "\n",
       "    .dataframe tbody tr th {\n",
       "        vertical-align: top;\n",
       "    }\n",
       "\n",
       "    .dataframe thead th {\n",
       "        text-align: right;\n",
       "    }\n",
       "</style>\n",
       "<table border=\"1\" class=\"dataframe\">\n",
       "  <thead>\n",
       "    <tr style=\"text-align: right;\">\n",
       "      <th></th>\n",
       "      <th>Country/Region</th>\n",
       "      <th>Cases</th>\n",
       "      <th>Deaths</th>\n",
       "      <th>PCases</th>\n",
       "      <th>PDeaths</th>\n",
       "      <th>Cases (+)</th>\n",
       "      <th>Deaths (+)</th>\n",
       "      <th>Fatality Rate</th>\n",
       "      <th>Continent</th>\n",
       "    </tr>\n",
       "  </thead>\n",
       "  <tbody>\n",
       "    <tr>\n",
       "      <th>0</th>\n",
       "      <td>US</td>\n",
       "      <td>48092052</td>\n",
       "      <td>775403</td>\n",
       "      <td>47980780</td>\n",
       "      <td>773770</td>\n",
       "      <td>111272</td>\n",
       "      <td>1633</td>\n",
       "      <td>1.6</td>\n",
       "      <td>North America</td>\n",
       "    </tr>\n",
       "    <tr>\n",
       "      <th>1</th>\n",
       "      <td>India</td>\n",
       "      <td>34544882</td>\n",
       "      <td>466980</td>\n",
       "      <td>34535763</td>\n",
       "      <td>466584</td>\n",
       "      <td>9119</td>\n",
       "      <td>396</td>\n",
       "      <td>1.4</td>\n",
       "      <td>Asia</td>\n",
       "    </tr>\n",
       "    <tr>\n",
       "      <th>2</th>\n",
       "      <td>Brazil</td>\n",
       "      <td>22043112</td>\n",
       "      <td>613339</td>\n",
       "      <td>22030182</td>\n",
       "      <td>613066</td>\n",
       "      <td>12930</td>\n",
       "      <td>273</td>\n",
       "      <td>2.8</td>\n",
       "      <td>South America</td>\n",
       "    </tr>\n",
       "    <tr>\n",
       "      <th>3</th>\n",
       "      <td>United Kingdom</td>\n",
       "      <td>10028829</td>\n",
       "      <td>144728</td>\n",
       "      <td>9985879</td>\n",
       "      <td>144579</td>\n",
       "      <td>42950</td>\n",
       "      <td>149</td>\n",
       "      <td>1.4</td>\n",
       "      <td>Europe</td>\n",
       "    </tr>\n",
       "    <tr>\n",
       "      <th>4</th>\n",
       "      <td>Russia</td>\n",
       "      <td>9270885</td>\n",
       "      <td>262733</td>\n",
       "      <td>9238330</td>\n",
       "      <td>261526</td>\n",
       "      <td>32555</td>\n",
       "      <td>1207</td>\n",
       "      <td>2.8</td>\n",
       "      <td>Europe</td>\n",
       "    </tr>\n",
       "  </tbody>\n",
       "</table>\n",
       "</div>"
      ],
      "text/plain": [
       "   Country/Region     Cases  Deaths    PCases  PDeaths  Cases (+)  Deaths (+)  \\\n",
       "0              US  48092052  775403  47980780   773770     111272        1633   \n",
       "1           India  34544882  466980  34535763   466584       9119         396   \n",
       "2          Brazil  22043112  613339  22030182   613066      12930         273   \n",
       "3  United Kingdom  10028829  144728   9985879   144579      42950         149   \n",
       "4          Russia   9270885  262733   9238330   261526      32555        1207   \n",
       "\n",
       "   Fatality Rate      Continent  \n",
       "0            1.6  North America  \n",
       "1            1.4           Asia  \n",
       "2            2.8  South America  \n",
       "3            1.4         Europe  \n",
       "4            2.8         Europe  "
      ]
     },
     "execution_count": 15,
     "metadata": {},
     "output_type": "execute_result"
    }
   ],
   "source": [
    "#hide\n",
    "df_table = (pd.DataFrame(dict(Cases=dfc_cases, Deaths=dfc_deaths, PCases=dfp_cases, PDeaths=dfp_deaths))\n",
    "             .sort_values(by=['Cases', 'Deaths'], ascending=[False, False])\n",
    "             .reset_index())\n",
    "df_table.rename(columns={'index': 'Country/Region'}, inplace=True)\n",
    "for c in 'Cases, Deaths'.split(', '):\n",
    "    df_table[f'{c} (+)'] = (df_table[c] - df_table[f'P{c}']).clip(0)  # DATA BUG\n",
    "df_table['Fatality Rate'] = (100 * df_table['Deaths'] / df_table['Cases']).round(1)\n",
    "df_table['Continent'] = df_table['Country/Region'].map(mapping['map.continent'])\n",
    "df_table.head(5)"
   ]
  },
  {
   "cell_type": "code",
   "execution_count": 16,
   "id": "fewer-occasion",
   "metadata": {
    "execution": {
     "iopub.execute_input": "2021-11-26T00:24:39.387736Z",
     "iopub.status.busy": "2021-11-26T00:24:39.387180Z",
     "iopub.status.idle": "2021-11-26T00:24:39.389827Z",
     "shell.execute_reply": "2021-11-26T00:24:39.389436Z"
    },
    "papermill": {
     "duration": 0.041234,
     "end_time": "2021-11-26T00:24:39.389930",
     "exception": false,
     "start_time": "2021-11-26T00:24:39.348696",
     "status": "completed"
    },
    "tags": []
   },
   "outputs": [],
   "source": [
    "#hide\n",
    "#delete problematic countries from table\n",
    "df_table = df_table[~df_table['Country/Region'].isin(['Cape Verde', 'Cruise Ship', 'Kosovo'])]"
   ]
  },
  {
   "cell_type": "code",
   "execution_count": 17,
   "id": "related-center",
   "metadata": {
    "execution": {
     "iopub.execute_input": "2021-11-26T00:24:39.472293Z",
     "iopub.status.busy": "2021-11-26T00:24:39.471730Z",
     "iopub.status.idle": "2021-11-26T00:24:39.474107Z",
     "shell.execute_reply": "2021-11-26T00:24:39.473717Z"
    },
    "papermill": {
     "duration": 0.051722,
     "end_time": "2021-11-26T00:24:39.474213",
     "exception": false,
     "start_time": "2021-11-26T00:24:39.422491",
     "status": "completed"
    },
    "tags": []
   },
   "outputs": [],
   "source": [
    "#hide\n",
    "metrics = [df_table.columns[index] for index in [1,2,5,6]]\n",
    "# s_china = df_table[df_table['Country/Region'].eq('China')][metrics].sum().add_prefix('China ')\n",
    "s_us = df_table[df_table['Country/Region'].eq('US')][metrics].sum().add_prefix('US ')\n",
    "s_eu = df_table[df_table['Continent'].eq('Europe')][metrics].sum().add_prefix('EU ')\n",
    "s_ind = df_table[df_table['Country/Region'].eq('India')][metrics].sum().add_prefix('India ')\n",
    "summary = {'updated': pd.to_datetime(dt_today), 'since': pd.to_datetime(dt_yday)}\n",
    "summary = {'updated': pd.to_datetime(dt_today), 'since': pd.to_datetime(dt_yday)}\n",
    "summary = {**summary, **df_table[metrics].sum(), **s_ind, **s_us, **s_eu}"
   ]
  },
  {
   "cell_type": "code",
   "execution_count": 18,
   "id": "engaging-syndrome",
   "metadata": {
    "execution": {
     "iopub.execute_input": "2021-11-26T00:24:39.539519Z",
     "iopub.status.busy": "2021-11-26T00:24:39.539033Z",
     "iopub.status.idle": "2021-11-26T00:24:39.556578Z",
     "shell.execute_reply": "2021-11-26T00:24:39.556183Z"
    },
    "papermill": {
     "duration": 0.052001,
     "end_time": "2021-11-26T00:24:39.556685",
     "exception": false,
     "start_time": "2021-11-26T00:24:39.504684",
     "status": "completed"
    },
    "tags": []
   },
   "outputs": [],
   "source": [
    "#hide\n",
    "dft_ct_new_cases = dft_cases.groupby(COL_REGION)[dt_cols].sum().diff(axis=1).fillna(0).astype(int)"
   ]
  },
  {
   "cell_type": "code",
   "execution_count": 19,
   "id": "neutral-assignment",
   "metadata": {
    "execution": {
     "iopub.execute_input": "2021-11-26T00:24:39.625352Z",
     "iopub.status.busy": "2021-11-26T00:24:39.624732Z",
     "iopub.status.idle": "2021-11-26T00:24:39.627588Z",
     "shell.execute_reply": "2021-11-26T00:24:39.627134Z"
    },
    "papermill": {
     "duration": 0.040107,
     "end_time": "2021-11-26T00:24:39.627701",
     "exception": false,
     "start_time": "2021-11-26T00:24:39.587594",
     "status": "completed"
    },
    "tags": []
   },
   "outputs": [],
   "source": [
    "#hide\n",
    "everydaycases = dft_ct_new_cases.cumsum(axis=1)"
   ]
  },
  {
   "cell_type": "code",
   "execution_count": 20,
   "id": "parliamentary-calgary",
   "metadata": {
    "execution": {
     "iopub.execute_input": "2021-11-26T00:24:39.691528Z",
     "iopub.status.busy": "2021-11-26T00:24:39.691034Z",
     "iopub.status.idle": "2021-11-26T00:24:40.318930Z",
     "shell.execute_reply": "2021-11-26T00:24:40.319397Z"
    },
    "papermill": {
     "duration": 0.663929,
     "end_time": "2021-11-26T00:24:40.319549",
     "exception": false,
     "start_time": "2021-11-26T00:24:39.655620",
     "status": "completed"
    },
    "tags": []
   },
   "outputs": [],
   "source": [
    "#hide\n",
    "import pandas as pd\n",
    "import matplotlib.pyplot as plt\n",
    "import matplotlib.ticker as ticker\n",
    "import matplotlib.animation as animation\n",
    "from IPython.display import HTML"
   ]
  },
  {
   "cell_type": "code",
   "execution_count": 21,
   "id": "lasting-extraction",
   "metadata": {
    "execution": {
     "iopub.execute_input": "2021-11-26T00:24:40.391218Z",
     "iopub.status.busy": "2021-11-26T00:24:40.390719Z",
     "iopub.status.idle": "2021-11-26T00:24:40.397170Z",
     "shell.execute_reply": "2021-11-26T00:24:40.396733Z"
    },
    "papermill": {
     "duration": 0.046729,
     "end_time": "2021-11-26T00:24:40.397282",
     "exception": false,
     "start_time": "2021-11-26T00:24:40.350553",
     "status": "completed"
    },
    "tags": []
   },
   "outputs": [],
   "source": [
    "#hide\n",
    "t = everydaycases.stack()"
   ]
  },
  {
   "cell_type": "code",
   "execution_count": 22,
   "id": "premier-sleeve",
   "metadata": {
    "execution": {
     "iopub.execute_input": "2021-11-26T00:24:40.466711Z",
     "iopub.status.busy": "2021-11-26T00:24:40.466136Z",
     "iopub.status.idle": "2021-11-26T00:24:40.476953Z",
     "shell.execute_reply": "2021-11-26T00:24:40.476486Z"
    },
    "papermill": {
     "duration": 0.047487,
     "end_time": "2021-11-26T00:24:40.477064",
     "exception": false,
     "start_time": "2021-11-26T00:24:40.429577",
     "status": "completed"
    },
    "tags": []
   },
   "outputs": [],
   "source": [
    "#hide\n",
    "g = t.reset_index(['Country/Region'])"
   ]
  },
  {
   "cell_type": "code",
   "execution_count": 23,
   "id": "distributed-pittsburgh",
   "metadata": {
    "execution": {
     "iopub.execute_input": "2021-11-26T00:24:40.545360Z",
     "iopub.status.busy": "2021-11-26T00:24:40.544824Z",
     "iopub.status.idle": "2021-11-26T00:24:40.547350Z",
     "shell.execute_reply": "2021-11-26T00:24:40.547810Z"
    },
    "papermill": {
     "duration": 0.037874,
     "end_time": "2021-11-26T00:24:40.547951",
     "exception": false,
     "start_time": "2021-11-26T00:24:40.510077",
     "status": "completed"
    },
    "tags": []
   },
   "outputs": [],
   "source": [
    "#hide\n",
    "g.index.name = 'date'"
   ]
  },
  {
   "cell_type": "code",
   "execution_count": 24,
   "id": "naked-donor",
   "metadata": {
    "execution": {
     "iopub.execute_input": "2021-11-26T00:24:40.616144Z",
     "iopub.status.busy": "2021-11-26T00:24:40.615426Z",
     "iopub.status.idle": "2021-11-26T00:24:40.619918Z",
     "shell.execute_reply": "2021-11-26T00:24:40.620449Z"
    },
    "papermill": {
     "duration": 0.040538,
     "end_time": "2021-11-26T00:24:40.620613",
     "exception": false,
     "start_time": "2021-11-26T00:24:40.580075",
     "status": "completed"
    },
    "tags": []
   },
   "outputs": [],
   "source": [
    "# #hide\n",
    "# g = g.reset_index(['date'])"
   ]
  },
  {
   "cell_type": "code",
   "execution_count": 25,
   "id": "incomplete-mustang",
   "metadata": {
    "execution": {
     "iopub.execute_input": "2021-11-26T00:24:40.683984Z",
     "iopub.status.busy": "2021-11-26T00:24:40.683435Z",
     "iopub.status.idle": "2021-11-26T00:24:40.685705Z",
     "shell.execute_reply": "2021-11-26T00:24:40.685184Z"
    },
    "papermill": {
     "duration": 0.033944,
     "end_time": "2021-11-26T00:24:40.685835",
     "exception": false,
     "start_time": "2021-11-26T00:24:40.651891",
     "status": "completed"
    },
    "tags": []
   },
   "outputs": [],
   "source": [
    "#hide\n",
    "# g.head()"
   ]
  },
  {
   "cell_type": "code",
   "execution_count": 26,
   "id": "specific-kruger",
   "metadata": {
    "execution": {
     "iopub.execute_input": "2021-11-26T00:24:40.757967Z",
     "iopub.status.busy": "2021-11-26T00:24:40.757350Z",
     "iopub.status.idle": "2021-11-26T00:24:40.759672Z",
     "shell.execute_reply": "2021-11-26T00:24:40.760201Z"
    },
    "papermill": {
     "duration": 0.039293,
     "end_time": "2021-11-26T00:24:40.760345",
     "exception": false,
     "start_time": "2021-11-26T00:24:40.721052",
     "status": "completed"
    },
    "tags": []
   },
   "outputs": [],
   "source": [
    "#hide\n",
    "# g.columns = ['date','country','cases']"
   ]
  },
  {
   "cell_type": "code",
   "execution_count": 27,
   "id": "tender-conversion",
   "metadata": {
    "execution": {
     "iopub.execute_input": "2021-11-26T00:24:40.826533Z",
     "iopub.status.busy": "2021-11-26T00:24:40.825995Z",
     "iopub.status.idle": "2021-11-26T00:24:40.828324Z",
     "shell.execute_reply": "2021-11-26T00:24:40.828932Z"
    },
    "papermill": {
     "duration": 0.039298,
     "end_time": "2021-11-26T00:24:40.829081",
     "exception": false,
     "start_time": "2021-11-26T00:24:40.789783",
     "status": "completed"
    },
    "tags": []
   },
   "outputs": [],
   "source": [
    "#hide\n",
    "# g['continent'] = g.country"
   ]
  },
  {
   "cell_type": "code",
   "execution_count": 28,
   "id": "substantial-wilderness",
   "metadata": {
    "execution": {
     "iopub.execute_input": "2021-11-26T00:24:40.898466Z",
     "iopub.status.busy": "2021-11-26T00:24:40.897855Z",
     "iopub.status.idle": "2021-11-26T00:24:40.909614Z",
     "shell.execute_reply": "2021-11-26T00:24:40.909176Z"
    },
    "papermill": {
     "duration": 0.048686,
     "end_time": "2021-11-26T00:24:40.909717",
     "exception": false,
     "start_time": "2021-11-26T00:24:40.861031",
     "status": "completed"
    },
    "tags": []
   },
   "outputs": [],
   "source": [
    "#hide\n",
    "# cols = list(g.columns.values)"
   ]
  },
  {
   "cell_type": "code",
   "execution_count": 29,
   "id": "solved-farming",
   "metadata": {
    "execution": {
     "iopub.execute_input": "2021-11-26T00:24:40.999260Z",
     "iopub.status.busy": "2021-11-26T00:24:40.998670Z",
     "iopub.status.idle": "2021-11-26T00:24:41.000747Z",
     "shell.execute_reply": "2021-11-26T00:24:41.000204Z"
    },
    "papermill": {
     "duration": 0.053354,
     "end_time": "2021-11-26T00:24:41.000862",
     "exception": false,
     "start_time": "2021-11-26T00:24:40.947508",
     "status": "completed"
    },
    "tags": []
   },
   "outputs": [],
   "source": [
    "#hide\n",
    "# cols.insert(0, cols.pop())"
   ]
  },
  {
   "cell_type": "code",
   "execution_count": 30,
   "id": "executed-adoption",
   "metadata": {
    "execution": {
     "iopub.execute_input": "2021-11-26T00:24:41.067244Z",
     "iopub.status.busy": "2021-11-26T00:24:41.066636Z",
     "iopub.status.idle": "2021-11-26T00:24:41.068951Z",
     "shell.execute_reply": "2021-11-26T00:24:41.068456Z"
    },
    "papermill": {
     "duration": 0.037244,
     "end_time": "2021-11-26T00:24:41.069069",
     "exception": false,
     "start_time": "2021-11-26T00:24:41.031825",
     "status": "completed"
    },
    "tags": []
   },
   "outputs": [],
   "source": [
    "#hide\n",
    "# g = g[cols]"
   ]
  },
  {
   "cell_type": "code",
   "execution_count": 31,
   "id": "subject-dublin",
   "metadata": {
    "execution": {
     "iopub.execute_input": "2021-11-26T00:24:41.133648Z",
     "iopub.status.busy": "2021-11-26T00:24:41.133121Z",
     "iopub.status.idle": "2021-11-26T00:24:41.135980Z",
     "shell.execute_reply": "2021-11-26T00:24:41.136381Z"
    },
    "papermill": {
     "duration": 0.035447,
     "end_time": "2021-11-26T00:24:41.136484",
     "exception": false,
     "start_time": "2021-11-26T00:24:41.101037",
     "status": "completed"
    },
    "tags": []
   },
   "outputs": [],
   "source": [
    "#hide\n",
    "# g['continent'] = g['continent'].map(mapping['map.continent'])"
   ]
  },
  {
   "cell_type": "code",
   "execution_count": 32,
   "id": "freelance-scout",
   "metadata": {
    "execution": {
     "iopub.execute_input": "2021-11-26T00:24:41.200757Z",
     "iopub.status.busy": "2021-11-26T00:24:41.200180Z",
     "iopub.status.idle": "2021-11-26T00:24:41.204013Z",
     "shell.execute_reply": "2021-11-26T00:24:41.203523Z"
    },
    "papermill": {
     "duration": 0.038606,
     "end_time": "2021-11-26T00:24:41.204150",
     "exception": false,
     "start_time": "2021-11-26T00:24:41.165544",
     "status": "completed"
    },
    "tags": []
   },
   "outputs": [],
   "source": [
    "#hide\n",
    "# g.head()"
   ]
  },
  {
   "cell_type": "code",
   "execution_count": 33,
   "id": "limited-engine",
   "metadata": {
    "execution": {
     "iopub.execute_input": "2021-11-26T00:24:41.269231Z",
     "iopub.status.busy": "2021-11-26T00:24:41.268382Z",
     "iopub.status.idle": "2021-11-26T00:24:41.269943Z",
     "shell.execute_reply": "2021-11-26T00:24:41.270363Z"
    },
    "papermill": {
     "duration": 0.035734,
     "end_time": "2021-11-26T00:24:41.270484",
     "exception": false,
     "start_time": "2021-11-26T00:24:41.234750",
     "status": "completed"
    },
    "tags": []
   },
   "outputs": [],
   "source": [
    "# hide\n",
    "# g['date'] = g['date'].astype('datetime64[ns]')"
   ]
  },
  {
   "cell_type": "code",
   "execution_count": 34,
   "id": "sophisticated-supervisor",
   "metadata": {
    "execution": {
     "iopub.execute_input": "2021-11-26T00:24:41.337992Z",
     "iopub.status.busy": "2021-11-26T00:24:41.337147Z",
     "iopub.status.idle": "2021-11-26T00:24:41.340420Z",
     "shell.execute_reply": "2021-11-26T00:24:41.339625Z"
    },
    "papermill": {
     "duration": 0.038368,
     "end_time": "2021-11-26T00:24:41.340578",
     "exception": false,
     "start_time": "2021-11-26T00:24:41.302210",
     "status": "completed"
    },
    "tags": []
   },
   "outputs": [],
   "source": [
    "#hide\n",
    "# g['date'] = g.date.dt.dayofyear"
   ]
  },
  {
   "cell_type": "code",
   "execution_count": 35,
   "id": "inside-dubai",
   "metadata": {
    "execution": {
     "iopub.execute_input": "2021-11-26T00:24:41.407634Z",
     "iopub.status.busy": "2021-11-26T00:24:41.406831Z",
     "iopub.status.idle": "2021-11-26T00:24:41.408446Z",
     "shell.execute_reply": "2021-11-26T00:24:41.409078Z"
    },
    "papermill": {
     "duration": 0.037337,
     "end_time": "2021-11-26T00:24:41.409252",
     "exception": false,
     "start_time": "2021-11-26T00:24:41.371915",
     "status": "completed"
    },
    "tags": []
   },
   "outputs": [],
   "source": [
    "#hide\n",
    "# g = g.rename(columns= {'continent':'group','country':'name','cases':'value'})"
   ]
  },
  {
   "cell_type": "code",
   "execution_count": 36,
   "id": "fleet-motorcycle",
   "metadata": {
    "execution": {
     "iopub.execute_input": "2021-11-26T00:24:41.477430Z",
     "iopub.status.busy": "2021-11-26T00:24:41.476842Z",
     "iopub.status.idle": "2021-11-26T00:24:41.479509Z",
     "shell.execute_reply": "2021-11-26T00:24:41.479920Z"
    },
    "papermill": {
     "duration": 0.038878,
     "end_time": "2021-11-26T00:24:41.480034",
     "exception": false,
     "start_time": "2021-11-26T00:24:41.441156",
     "status": "completed"
    },
    "tags": []
   },
   "outputs": [],
   "source": [
    "#hide\n",
    "# cols = ['name','group','day','value']"
   ]
  },
  {
   "cell_type": "code",
   "execution_count": 37,
   "id": "continued-sleeping",
   "metadata": {
    "execution": {
     "iopub.execute_input": "2021-11-26T00:24:41.542808Z",
     "iopub.status.busy": "2021-11-26T00:24:41.542205Z",
     "iopub.status.idle": "2021-11-26T00:24:41.544918Z",
     "shell.execute_reply": "2021-11-26T00:24:41.545404Z"
    },
    "papermill": {
     "duration": 0.035256,
     "end_time": "2021-11-26T00:24:41.545519",
     "exception": false,
     "start_time": "2021-11-26T00:24:41.510263",
     "status": "completed"
    },
    "tags": []
   },
   "outputs": [],
   "source": [
    "#hide\n",
    "# g.rename(columns= {'date':'day'},inplace = True)"
   ]
  },
  {
   "cell_type": "code",
   "execution_count": 38,
   "id": "major-fight",
   "metadata": {
    "execution": {
     "iopub.execute_input": "2021-11-26T00:24:41.613163Z",
     "iopub.status.busy": "2021-11-26T00:24:41.611944Z",
     "iopub.status.idle": "2021-11-26T00:24:41.616121Z",
     "shell.execute_reply": "2021-11-26T00:24:41.615570Z"
    },
    "papermill": {
     "duration": 0.040354,
     "end_time": "2021-11-26T00:24:41.616235",
     "exception": false,
     "start_time": "2021-11-26T00:24:41.575881",
     "status": "completed"
    },
    "tags": []
   },
   "outputs": [],
   "source": [
    "#hide\n",
    "# g = g[cols]"
   ]
  },
  {
   "cell_type": "code",
   "execution_count": 39,
   "id": "structured-mobile",
   "metadata": {
    "execution": {
     "iopub.execute_input": "2021-11-26T00:24:41.682602Z",
     "iopub.status.busy": "2021-11-26T00:24:41.682115Z",
     "iopub.status.idle": "2021-11-26T00:24:41.685083Z",
     "shell.execute_reply": "2021-11-26T00:24:41.685538Z"
    },
    "papermill": {
     "duration": 0.038084,
     "end_time": "2021-11-26T00:24:41.685677",
     "exception": false,
     "start_time": "2021-11-26T00:24:41.647593",
     "status": "completed"
    },
    "tags": []
   },
   "outputs": [],
   "source": [
    "# #hide\n",
    "# g = g[g.group.notna()]"
   ]
  },
  {
   "cell_type": "code",
   "execution_count": 40,
   "id": "determined-closing",
   "metadata": {
    "execution": {
     "iopub.execute_input": "2021-11-26T00:24:41.751614Z",
     "iopub.status.busy": "2021-11-26T00:24:41.750979Z",
     "iopub.status.idle": "2021-11-26T00:24:41.753200Z",
     "shell.execute_reply": "2021-11-26T00:24:41.752765Z"
    },
    "papermill": {
     "duration": 0.035758,
     "end_time": "2021-11-26T00:24:41.753303",
     "exception": false,
     "start_time": "2021-11-26T00:24:41.717545",
     "status": "completed"
    },
    "tags": []
   },
   "outputs": [],
   "source": [
    "# #hide\n",
    "# colors = dict(zip(\n",
    "#     [\"Oceania\", \"Europe\", \"Asia\", \"South America\", \"Middle East\", \"North America\", \"Africa\"],\n",
    "#     [\"#adb0ff\", \"#ffb3ff\", \"#90d595\", \"#e48381\", \"#aafbff\", \"#f7bb5f\", \"#eafb50\"]\n",
    "# ))\n",
    "# group_lk = g.set_index('name')['group'].to_dict()"
   ]
  },
  {
   "cell_type": "code",
   "execution_count": null,
   "id": "gross-drinking",
   "metadata": {
    "papermill": {
     "duration": 0.03037,
     "end_time": "2021-11-26T00:24:41.815398",
     "exception": false,
     "start_time": "2021-11-26T00:24:41.785028",
     "status": "completed"
    },
    "tags": []
   },
   "outputs": [],
   "source": []
  },
  {
   "cell_type": "code",
   "execution_count": 41,
   "id": "subject-macintosh",
   "metadata": {
    "execution": {
     "iopub.execute_input": "2021-11-26T00:24:41.885585Z",
     "iopub.status.busy": "2021-11-26T00:24:41.884452Z",
     "iopub.status.idle": "2021-11-26T00:24:41.889444Z",
     "shell.execute_reply": "2021-11-26T00:24:41.888511Z"
    },
    "papermill": {
     "duration": 0.04238,
     "end_time": "2021-11-26T00:24:41.889659",
     "exception": false,
     "start_time": "2021-11-26T00:24:41.847279",
     "status": "completed"
    },
    "tags": []
   },
   "outputs": [],
   "source": [
    "# #hide\n",
    "# fig, ax = plt.subplots(figsize=(15, 8))\n",
    "\n",
    "# def draw_barchart(current_day):\n",
    "#     dff = g[g['day'].eq(current_day)].sort_values(by='value', ascending=True).tail(10)\n",
    "#     ax.clear()\n",
    "#     ax.barh(dff['name'], dff['value'], color=[colors[group_lk[x]] for x in dff['name']])\n",
    "#     dx = dff['value'].max() / 200\n",
    "    \n",
    "#     for i, (value, name) in enumerate(zip(dff['value'], dff['name'])):\n",
    "#         ax.text(value-dx, i,     name,           size=14, weight=600, ha='right', va='bottom')\n",
    "#         ax.text(value-dx, i-.25, group_lk[name], size=10, color='#444444', ha='right', va='baseline')\n",
    "#         ax.text(value+dx, i,     f'{value:,.0f}',  size=14, ha='left',  va='center')\n",
    "#     ax.text(1, 0.4, current_day, transform=ax.transAxes, color='#777777', size=46, ha='right', weight=800)\n",
    "#     ax.text(0, 1.06, 'Population (thousands)', transform=ax.transAxes, size=12, color='#777777')\n",
    "#     ax.xaxis.set_major_formatter(ticker.StrMethodFormatter('{x:,.0f}'))\n",
    "#     ax.xaxis.set_ticks_position('top')\n",
    "#     ax.tick_params(axis='x', colors='#777777', labelsize=12)\n",
    "#     ax.set_yticks([])\n",
    "#     ax.margins(0, 0.01)\n",
    "#     ax.grid(which='major', axis='x', linestyle='-')\n",
    "#     ax.set_axisbelow(True)\n",
    "    \n",
    "#     ax.text(0, 1.15, 'Coronavirus',\n",
    "#             transform=ax.transAxes, size=24, weight=600, ha='left', va='top')\n",
    "# #     ax.text(1, 0, 'by @pratapvardhan; credit @jburnmurdoch', transform=ax.transAxes, color='#777777', ha='right',\n",
    "# #             bbox=dict(facecolor='white', alpha=0.8, edgecolor='white'))\n",
    "#     plt.box(False)"
   ]
  },
  {
   "cell_type": "code",
   "execution_count": 42,
   "id": "sexual-wages",
   "metadata": {
    "execution": {
     "iopub.execute_input": "2021-11-26T00:24:41.956474Z",
     "iopub.status.busy": "2021-11-26T00:24:41.955869Z",
     "iopub.status.idle": "2021-11-26T00:24:41.958498Z",
     "shell.execute_reply": "2021-11-26T00:24:41.958930Z"
    },
    "papermill": {
     "duration": 0.037423,
     "end_time": "2021-11-26T00:24:41.959045",
     "exception": false,
     "start_time": "2021-11-26T00:24:41.921622",
     "status": "completed"
    },
    "tags": []
   },
   "outputs": [],
   "source": [
    "# #hide_input\n",
    "# fig, ax = plt.subplots(figsize=(15, 8))\n",
    "# animator = animation.FuncAnimation(fig, draw_barchart, frames=range(g.day.values.min(), g.day.values.max()))\n",
    "# HTML(animator.to_jshtml())\n",
    "# # or use animator.to_html5_video() or animator.save() "
   ]
  },
  {
   "cell_type": "code",
   "execution_count": null,
   "id": "australian-container",
   "metadata": {
    "papermill": {
     "duration": 0.033865,
     "end_time": "2021-11-26T00:24:42.026058",
     "exception": false,
     "start_time": "2021-11-26T00:24:41.992193",
     "status": "completed"
    },
    "tags": []
   },
   "outputs": [],
   "source": []
  },
  {
   "cell_type": "code",
   "execution_count": null,
   "id": "mediterranean-pontiac",
   "metadata": {
    "papermill": {
     "duration": 0.033273,
     "end_time": "2021-11-26T00:24:42.097269",
     "exception": false,
     "start_time": "2021-11-26T00:24:42.063996",
     "status": "completed"
    },
    "tags": []
   },
   "outputs": [],
   "source": []
  },
  {
   "cell_type": "code",
   "execution_count": null,
   "id": "aging-legislature",
   "metadata": {
    "papermill": {
     "duration": 0.035652,
     "end_time": "2021-11-26T00:24:42.165226",
     "exception": false,
     "start_time": "2021-11-26T00:24:42.129574",
     "status": "completed"
    },
    "tags": []
   },
   "outputs": [],
   "source": []
  }
 ],
 "metadata": {
  "kernelspec": {
   "display_name": "Python 3",
   "language": "python",
   "name": "python3"
  },
  "language_info": {
   "codemirror_mode": {
    "name": "ipython",
    "version": 3
   },
   "file_extension": ".py",
   "mimetype": "text/x-python",
   "name": "python",
   "nbconvert_exporter": "python",
   "pygments_lexer": "ipython3",
   "version": "3.6.15"
  },
  "papermill": {
   "duration": 6.579508,
   "end_time": "2021-11-26T00:24:42.605825",
   "environment_variables": {},
   "exception": null,
   "input_path": "2020-03-21-covid19exp.ipynb",
   "output_path": "2020-03-21-covid19exp.ipynb",
   "parameters": {},
   "start_time": "2021-11-26T00:24:36.026317",
   "version": "2.0.0"
  }
 },
 "nbformat": 4,
 "nbformat_minor": 5
}