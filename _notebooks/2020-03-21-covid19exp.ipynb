{
 "cells": [
  {
   "cell_type": "markdown",
   "id": "muslim-click",
   "metadata": {
    "papermill": {
     "duration": 0.036575,
     "end_time": "2021-04-27T12:04:39.072263",
     "exception": false,
     "start_time": "2021-04-27T12:04:39.035688",
     "status": "completed"
    },
    "tags": []
   },
   "source": [
    "# COVID-19 Case Race\n",
    "> A race chart to see rising cases around the world\n",
    "\n",
    "- author: Hargun Oberoi\n",
    "- image: images/covid-overview.png\n",
    "- hide: false\n",
    "- badges: false"
   ]
  },
  {
   "cell_type": "code",
   "execution_count": 1,
   "id": "proof-material",
   "metadata": {
    "execution": {
     "iopub.execute_input": "2021-04-27T12:04:39.142023Z",
     "iopub.status.busy": "2021-04-27T12:04:39.141510Z",
     "iopub.status.idle": "2021-04-27T12:04:39.443525Z",
     "shell.execute_reply": "2021-04-27T12:04:39.442995Z"
    },
    "papermill": {
     "duration": 0.341054,
     "end_time": "2021-04-27T12:04:39.443698",
     "exception": false,
     "start_time": "2021-04-27T12:04:39.102644",
     "status": "completed"
    },
    "tags": []
   },
   "outputs": [],
   "source": [
    "#hide\n",
    "import numpy as np\n",
    "import pandas as pd\n",
    "from jinja2 import Template\n",
    "from IPython.display import HTML"
   ]
  },
  {
   "cell_type": "code",
   "execution_count": 2,
   "id": "developed-terminology",
   "metadata": {
    "execution": {
     "iopub.execute_input": "2021-04-27T12:04:39.508795Z",
     "iopub.status.busy": "2021-04-27T12:04:39.508199Z",
     "iopub.status.idle": "2021-04-27T12:04:39.511304Z",
     "shell.execute_reply": "2021-04-27T12:04:39.511707Z"
    },
    "papermill": {
     "duration": 0.037507,
     "end_time": "2021-04-27T12:04:39.511835",
     "exception": false,
     "start_time": "2021-04-27T12:04:39.474328",
     "status": "completed"
    },
    "tags": []
   },
   "outputs": [],
   "source": [
    "#hide\n",
    "\n",
    "# FETCH\n",
    "base_url = 'https://raw.githubusercontent.com/pratapvardhan/notebooks/master/covid19/'\n",
    "paths = {\n",
    "    'mapping': base_url + 'mapping_countries.csv',\n",
    "    'overview': base_url + 'overview.tpl'\n",
    "}"
   ]
  },
  {
   "cell_type": "code",
   "execution_count": 3,
   "id": "dynamic-saver",
   "metadata": {
    "execution": {
     "iopub.execute_input": "2021-04-27T12:04:39.581009Z",
     "iopub.status.busy": "2021-04-27T12:04:39.580518Z",
     "iopub.status.idle": "2021-04-27T12:04:39.583714Z",
     "shell.execute_reply": "2021-04-27T12:04:39.583271Z"
    },
    "papermill": {
     "duration": 0.042447,
     "end_time": "2021-04-27T12:04:39.583821",
     "exception": false,
     "start_time": "2021-04-27T12:04:39.541374",
     "status": "completed"
    },
    "tags": []
   },
   "outputs": [
    {
     "data": {
      "text/plain": [
       "'https://raw.githubusercontent.com/pratapvardhan/notebooks/master/covid19/mapping_countries.csv'"
      ]
     },
     "execution_count": 3,
     "metadata": {},
     "output_type": "execute_result"
    }
   ],
   "source": [
    "#hide\n",
    "paths['mapping']"
   ]
  },
  {
   "cell_type": "code",
   "execution_count": 4,
   "id": "urban-software",
   "metadata": {
    "execution": {
     "iopub.execute_input": "2021-04-27T12:04:39.648243Z",
     "iopub.status.busy": "2021-04-27T12:04:39.647743Z",
     "iopub.status.idle": "2021-04-27T12:04:39.649739Z",
     "shell.execute_reply": "2021-04-27T12:04:39.650208Z"
    },
    "papermill": {
     "duration": 0.036639,
     "end_time": "2021-04-27T12:04:39.650319",
     "exception": false,
     "start_time": "2021-04-27T12:04:39.613680",
     "status": "completed"
    },
    "tags": []
   },
   "outputs": [],
   "source": [
    "#hide\n",
    "def get_mappings(url):\n",
    "    df = pd.read_csv(url)\n",
    "    return {\n",
    "        'df': df,\n",
    "        'replace.country': dict(df.dropna(subset=['Name']).set_index('Country')['Name']),\n",
    "        'map.continent': dict(df.set_index('Name')['Continent'])\n",
    "    }"
   ]
  },
  {
   "cell_type": "code",
   "execution_count": 5,
   "id": "intimate-machinery",
   "metadata": {
    "execution": {
     "iopub.execute_input": "2021-04-27T12:04:39.714674Z",
     "iopub.status.busy": "2021-04-27T12:04:39.714178Z",
     "iopub.status.idle": "2021-04-27T12:04:39.782391Z",
     "shell.execute_reply": "2021-04-27T12:04:39.781911Z"
    },
    "papermill": {
     "duration": 0.102677,
     "end_time": "2021-04-27T12:04:39.782518",
     "exception": false,
     "start_time": "2021-04-27T12:04:39.679841",
     "status": "completed"
    },
    "tags": []
   },
   "outputs": [],
   "source": [
    "#hide\n",
    "mapping = get_mappings(paths['mapping'])"
   ]
  },
  {
   "cell_type": "code",
   "execution_count": 6,
   "id": "certified-tactics",
   "metadata": {
    "execution": {
     "iopub.execute_input": "2021-04-27T12:04:39.847653Z",
     "iopub.status.busy": "2021-04-27T12:04:39.847132Z",
     "iopub.status.idle": "2021-04-27T12:04:39.849208Z",
     "shell.execute_reply": "2021-04-27T12:04:39.848795Z"
    },
    "papermill": {
     "duration": 0.03654,
     "end_time": "2021-04-27T12:04:39.849312",
     "exception": false,
     "start_time": "2021-04-27T12:04:39.812772",
     "status": "completed"
    },
    "tags": []
   },
   "outputs": [],
   "source": [
    "#hide\n",
    "def get_template(path):\n",
    "    from urllib.parse import urlparse\n",
    "    if bool(urlparse(path).netloc):\n",
    "        from urllib.request import urlopen\n",
    "        return urlopen(path).read().decode('utf8')\n",
    "    return open(path).read()"
   ]
  },
  {
   "cell_type": "code",
   "execution_count": 7,
   "id": "realistic-blast",
   "metadata": {
    "execution": {
     "iopub.execute_input": "2021-04-27T12:04:39.913881Z",
     "iopub.status.busy": "2021-04-27T12:04:39.913386Z",
     "iopub.status.idle": "2021-04-27T12:04:39.915142Z",
     "shell.execute_reply": "2021-04-27T12:04:39.915628Z"
    },
    "papermill": {
     "duration": 0.036717,
     "end_time": "2021-04-27T12:04:39.915755",
     "exception": false,
     "start_time": "2021-04-27T12:04:39.879038",
     "status": "completed"
    },
    "tags": []
   },
   "outputs": [],
   "source": [
    "#hide\n",
    "def get_frame(name):\n",
    "    url = (\n",
    "        'https://raw.githubusercontent.com/CSSEGISandData/COVID-19/master/csse_covid_19_data/'\n",
    "        f'csse_covid_19_time_series/time_series_covid19_{name}_global.csv')\n",
    "    df = pd.read_csv(url)\n",
    "    # rename countries\n",
    "    df['Country/Region'] = df['Country/Region'].replace(mapping['replace.country'])\n",
    "    return df"
   ]
  },
  {
   "cell_type": "code",
   "execution_count": 8,
   "id": "affiliated-characterization",
   "metadata": {
    "execution": {
     "iopub.execute_input": "2021-04-27T12:04:39.982043Z",
     "iopub.status.busy": "2021-04-27T12:04:39.981450Z",
     "iopub.status.idle": "2021-04-27T12:04:39.983598Z",
     "shell.execute_reply": "2021-04-27T12:04:39.983109Z"
    },
    "papermill": {
     "duration": 0.038137,
     "end_time": "2021-04-27T12:04:39.983737",
     "exception": false,
     "start_time": "2021-04-27T12:04:39.945600",
     "status": "completed"
    },
    "tags": []
   },
   "outputs": [],
   "source": [
    "#hide\n",
    "def get_dates(df):\n",
    "    dt_cols = df.columns[~df.columns.isin(['Province/State', 'Country/Region', 'Lat', 'Long'])]\n",
    "    LAST_DATE_I = -1\n",
    "    # sometimes last column may be empty, then go backwards\n",
    "    for i in range(-1, -len(dt_cols), -1):\n",
    "        if not df[dt_cols[i]].fillna(0).eq(0).all():\n",
    "            LAST_DATE_I = i\n",
    "            break\n",
    "    return LAST_DATE_I, dt_cols"
   ]
  },
  {
   "cell_type": "code",
   "execution_count": 9,
   "id": "recent-optimization",
   "metadata": {
    "execution": {
     "iopub.execute_input": "2021-04-27T12:04:40.049244Z",
     "iopub.status.busy": "2021-04-27T12:04:40.048730Z",
     "iopub.status.idle": "2021-04-27T12:04:40.477991Z",
     "shell.execute_reply": "2021-04-27T12:04:40.477486Z"
    },
    "papermill": {
     "duration": 0.463983,
     "end_time": "2021-04-27T12:04:40.478126",
     "exception": false,
     "start_time": "2021-04-27T12:04:40.014143",
     "status": "completed"
    },
    "tags": []
   },
   "outputs": [],
   "source": [
    "#hide\n",
    "COL_REGION = 'Country/Region'\n",
    "# Confirmed, Recovered, Deaths\n",
    "df = get_frame('confirmed')\n",
    "# dft_: timeseries, dfc_: today country agg\n",
    "dft_cases = df\n",
    "dft_deaths = get_frame('deaths')\n",
    "dft_recovered = get_frame('recovered')\n",
    "LAST_DATE_I, dt_cols = get_dates(df)"
   ]
  },
  {
   "cell_type": "code",
   "execution_count": 10,
   "id": "absolute-copper",
   "metadata": {
    "execution": {
     "iopub.execute_input": "2021-04-27T12:04:40.545108Z",
     "iopub.status.busy": "2021-04-27T12:04:40.544514Z",
     "iopub.status.idle": "2021-04-27T12:04:40.548145Z",
     "shell.execute_reply": "2021-04-27T12:04:40.547734Z"
    },
    "papermill": {
     "duration": 0.039061,
     "end_time": "2021-04-27T12:04:40.548254",
     "exception": false,
     "start_time": "2021-04-27T12:04:40.509193",
     "status": "completed"
    },
    "tags": []
   },
   "outputs": [],
   "source": [
    "#hide\n",
    "LAST_DATE_I, dt_cols = get_dates(df)\n",
    "dt_today =dt_cols[LAST_DATE_I]\n",
    "# dt_5day = dt_cols[LAST_DATE_I - 5]\n",
    "dt_yday = dt_cols[LAST_DATE_I - 1]"
   ]
  },
  {
   "cell_type": "code",
   "execution_count": 11,
   "id": "restricted-sheriff",
   "metadata": {
    "execution": {
     "iopub.execute_input": "2021-04-27T12:04:40.613280Z",
     "iopub.status.busy": "2021-04-27T12:04:40.612789Z",
     "iopub.status.idle": "2021-04-27T12:04:40.619089Z",
     "shell.execute_reply": "2021-04-27T12:04:40.619566Z"
    },
    "papermill": {
     "duration": 0.041757,
     "end_time": "2021-04-27T12:04:40.619715",
     "exception": false,
     "start_time": "2021-04-27T12:04:40.577958",
     "status": "completed"
    },
    "tags": []
   },
   "outputs": [],
   "source": [
    "#hide\n",
    "dfc_cases = dft_cases.groupby(COL_REGION)[dt_today].sum()\n",
    "dfc_deaths = dft_deaths.groupby(COL_REGION)[dt_today].sum()\n",
    "# dfp_cases = dft_cases.groupby(COL_REGION)[dt_5day].sum()\n",
    "# dfp_deaths = dft_deaths.groupby(COL_REGION)[dt_5day].sum()\n",
    "dfp_cases = dft_cases.groupby(COL_REGION)[dt_yday].sum()\n",
    "dfp_deaths = dft_deaths.groupby(COL_REGION)[dt_yday].sum()"
   ]
  },
  {
   "cell_type": "code",
   "execution_count": 12,
   "id": "deluxe-hepatitis",
   "metadata": {
    "execution": {
     "iopub.execute_input": "2021-04-27T12:04:40.685895Z",
     "iopub.status.busy": "2021-04-27T12:04:40.685386Z",
     "iopub.status.idle": "2021-04-27T12:04:40.689617Z",
     "shell.execute_reply": "2021-04-27T12:04:40.690080Z"
    },
    "papermill": {
     "duration": 0.040522,
     "end_time": "2021-04-27T12:04:40.690209",
     "exception": false,
     "start_time": "2021-04-27T12:04:40.649687",
     "status": "completed"
    },
    "tags": []
   },
   "outputs": [],
   "source": [
    "#hide\n",
    "df_table = (pd.DataFrame(dict(Cases = dfc_cases, Deaths = dfc_deaths, PCases = dfp_cases, PDeaths = dfp_deaths))\n",
    "            .sort_values(by = ['Cases','Deaths'], ascending = [False, False])\n",
    "            .reset_index())"
   ]
  },
  {
   "cell_type": "code",
   "execution_count": 13,
   "id": "educational-chancellor",
   "metadata": {
    "execution": {
     "iopub.execute_input": "2021-04-27T12:04:40.768321Z",
     "iopub.status.busy": "2021-04-27T12:04:40.767791Z",
     "iopub.status.idle": "2021-04-27T12:04:40.774533Z",
     "shell.execute_reply": "2021-04-27T12:04:40.774997Z"
    },
    "papermill": {
     "duration": 0.055027,
     "end_time": "2021-04-27T12:04:40.775127",
     "exception": false,
     "start_time": "2021-04-27T12:04:40.720100",
     "status": "completed"
    },
    "tags": []
   },
   "outputs": [
    {
     "data": {
      "text/html": [
       "<div>\n",
       "<style scoped>\n",
       "    .dataframe tbody tr th:only-of-type {\n",
       "        vertical-align: middle;\n",
       "    }\n",
       "\n",
       "    .dataframe tbody tr th {\n",
       "        vertical-align: top;\n",
       "    }\n",
       "\n",
       "    .dataframe thead th {\n",
       "        text-align: right;\n",
       "    }\n",
       "</style>\n",
       "<table border=\"1\" class=\"dataframe\">\n",
       "  <thead>\n",
       "    <tr style=\"text-align: right;\">\n",
       "      <th></th>\n",
       "      <th>Country/Region</th>\n",
       "      <th>Cases</th>\n",
       "      <th>Deaths</th>\n",
       "      <th>PCases</th>\n",
       "      <th>PDeaths</th>\n",
       "      <th>Cases (+)</th>\n",
       "      <th>Deaths (+)</th>\n",
       "      <th>Fatality Rate</th>\n",
       "      <th>Continent</th>\n",
       "    </tr>\n",
       "  </thead>\n",
       "  <tbody>\n",
       "    <tr>\n",
       "      <th>0</th>\n",
       "      <td>US</td>\n",
       "      <td>32124869</td>\n",
       "      <td>572674</td>\n",
       "      <td>32077178</td>\n",
       "      <td>572200</td>\n",
       "      <td>47691</td>\n",
       "      <td>474</td>\n",
       "      <td>1.78</td>\n",
       "      <td>North America</td>\n",
       "    </tr>\n",
       "    <tr>\n",
       "      <th>1</th>\n",
       "      <td>India</td>\n",
       "      <td>17636186</td>\n",
       "      <td>197894</td>\n",
       "      <td>17313163</td>\n",
       "      <td>195123</td>\n",
       "      <td>323023</td>\n",
       "      <td>2771</td>\n",
       "      <td>1.12</td>\n",
       "      <td>Asia</td>\n",
       "    </tr>\n",
       "    <tr>\n",
       "      <th>2</th>\n",
       "      <td>Brazil</td>\n",
       "      <td>14369423</td>\n",
       "      <td>391936</td>\n",
       "      <td>14340787</td>\n",
       "      <td>390797</td>\n",
       "      <td>28636</td>\n",
       "      <td>1139</td>\n",
       "      <td>2.73</td>\n",
       "      <td>South America</td>\n",
       "    </tr>\n",
       "    <tr>\n",
       "      <th>3</th>\n",
       "      <td>France</td>\n",
       "      <td>5565080</td>\n",
       "      <td>103415</td>\n",
       "      <td>5559121</td>\n",
       "      <td>103017</td>\n",
       "      <td>5959</td>\n",
       "      <td>398</td>\n",
       "      <td>1.86</td>\n",
       "      <td>Europe</td>\n",
       "    </tr>\n",
       "    <tr>\n",
       "      <th>4</th>\n",
       "      <td>Russia</td>\n",
       "      <td>4717321</td>\n",
       "      <td>106783</td>\n",
       "      <td>4708640</td>\n",
       "      <td>106434</td>\n",
       "      <td>8681</td>\n",
       "      <td>349</td>\n",
       "      <td>2.26</td>\n",
       "      <td>Europe</td>\n",
       "    </tr>\n",
       "  </tbody>\n",
       "</table>\n",
       "</div>"
      ],
      "text/plain": [
       "  Country/Region     Cases  Deaths    PCases  PDeaths  Cases (+)  Deaths (+)  \\\n",
       "0             US  32124869  572674  32077178   572200      47691         474   \n",
       "1          India  17636186  197894  17313163   195123     323023        2771   \n",
       "2         Brazil  14369423  391936  14340787   390797      28636        1139   \n",
       "3         France   5565080  103415   5559121   103017       5959         398   \n",
       "4         Russia   4717321  106783   4708640   106434       8681         349   \n",
       "\n",
       "   Fatality Rate      Continent  \n",
       "0           1.78  North America  \n",
       "1           1.12           Asia  \n",
       "2           2.73  South America  \n",
       "3           1.86         Europe  \n",
       "4           2.26         Europe  "
      ]
     },
     "execution_count": 13,
     "metadata": {},
     "output_type": "execute_result"
    }
   ],
   "source": [
    "#hide\n",
    "for c in 'Cases, Deaths'.split(', '):\n",
    "    df_table[f'{c} (+)'] = (df_table[c] - df_table[f'P{c}']).clip(0)\n",
    "    #Clip ça veut dire, les chiffres negatif sont interdit\n",
    "df_table['Fatality Rate'] = (100* df_table['Deaths']/ df_table['Cases']).round(2)\n",
    "df_table['Continent'] = df_table['Country/Region'].map(mapping['map.continent'])\n",
    "df_table.head(5)"
   ]
  },
  {
   "cell_type": "code",
   "execution_count": 14,
   "id": "aboriginal-bulgaria",
   "metadata": {
    "execution": {
     "iopub.execute_input": "2021-04-27T12:04:40.841283Z",
     "iopub.status.busy": "2021-04-27T12:04:40.840774Z",
     "iopub.status.idle": "2021-04-27T12:04:40.843742Z",
     "shell.execute_reply": "2021-04-27T12:04:40.843317Z"
    },
    "papermill": {
     "duration": 0.038226,
     "end_time": "2021-04-27T12:04:40.843859",
     "exception": false,
     "start_time": "2021-04-27T12:04:40.805633",
     "status": "completed"
    },
    "tags": []
   },
   "outputs": [],
   "source": [
    "#hide\n",
    "#delete problematic countries from table\n",
    "df_table = df_table[~df_table['Country/Region'].isin(['Cape Verde', 'Cruise Ship', 'Kosovo'])]"
   ]
  },
  {
   "cell_type": "code",
   "execution_count": 15,
   "id": "fantastic-effect",
   "metadata": {
    "execution": {
     "iopub.execute_input": "2021-04-27T12:04:40.913455Z",
     "iopub.status.busy": "2021-04-27T12:04:40.912952Z",
     "iopub.status.idle": "2021-04-27T12:04:40.929574Z",
     "shell.execute_reply": "2021-04-27T12:04:40.929167Z"
    },
    "papermill": {
     "duration": 0.05547,
     "end_time": "2021-04-27T12:04:40.929689",
     "exception": false,
     "start_time": "2021-04-27T12:04:40.874219",
     "status": "completed"
    },
    "tags": []
   },
   "outputs": [
    {
     "data": {
      "text/html": [
       "<div>\n",
       "<style scoped>\n",
       "    .dataframe tbody tr th:only-of-type {\n",
       "        vertical-align: middle;\n",
       "    }\n",
       "\n",
       "    .dataframe tbody tr th {\n",
       "        vertical-align: top;\n",
       "    }\n",
       "\n",
       "    .dataframe thead th {\n",
       "        text-align: right;\n",
       "    }\n",
       "</style>\n",
       "<table border=\"1\" class=\"dataframe\">\n",
       "  <thead>\n",
       "    <tr style=\"text-align: right;\">\n",
       "      <th></th>\n",
       "      <th>Country/Region</th>\n",
       "      <th>Cases</th>\n",
       "      <th>Deaths</th>\n",
       "      <th>PCases</th>\n",
       "      <th>PDeaths</th>\n",
       "      <th>Cases (+)</th>\n",
       "      <th>Deaths (+)</th>\n",
       "      <th>Fatality Rate</th>\n",
       "      <th>Continent</th>\n",
       "    </tr>\n",
       "  </thead>\n",
       "  <tbody>\n",
       "    <tr>\n",
       "      <th>0</th>\n",
       "      <td>US</td>\n",
       "      <td>32124869</td>\n",
       "      <td>572674</td>\n",
       "      <td>32077178</td>\n",
       "      <td>572200</td>\n",
       "      <td>47691</td>\n",
       "      <td>474</td>\n",
       "      <td>1.8</td>\n",
       "      <td>North America</td>\n",
       "    </tr>\n",
       "    <tr>\n",
       "      <th>1</th>\n",
       "      <td>India</td>\n",
       "      <td>17636186</td>\n",
       "      <td>197894</td>\n",
       "      <td>17313163</td>\n",
       "      <td>195123</td>\n",
       "      <td>323023</td>\n",
       "      <td>2771</td>\n",
       "      <td>1.1</td>\n",
       "      <td>Asia</td>\n",
       "    </tr>\n",
       "    <tr>\n",
       "      <th>2</th>\n",
       "      <td>Brazil</td>\n",
       "      <td>14369423</td>\n",
       "      <td>391936</td>\n",
       "      <td>14340787</td>\n",
       "      <td>390797</td>\n",
       "      <td>28636</td>\n",
       "      <td>1139</td>\n",
       "      <td>2.7</td>\n",
       "      <td>South America</td>\n",
       "    </tr>\n",
       "    <tr>\n",
       "      <th>3</th>\n",
       "      <td>France</td>\n",
       "      <td>5565080</td>\n",
       "      <td>103415</td>\n",
       "      <td>5559121</td>\n",
       "      <td>103017</td>\n",
       "      <td>5959</td>\n",
       "      <td>398</td>\n",
       "      <td>1.9</td>\n",
       "      <td>Europe</td>\n",
       "    </tr>\n",
       "    <tr>\n",
       "      <th>4</th>\n",
       "      <td>Russia</td>\n",
       "      <td>4717321</td>\n",
       "      <td>106783</td>\n",
       "      <td>4708640</td>\n",
       "      <td>106434</td>\n",
       "      <td>8681</td>\n",
       "      <td>349</td>\n",
       "      <td>2.3</td>\n",
       "      <td>Europe</td>\n",
       "    </tr>\n",
       "  </tbody>\n",
       "</table>\n",
       "</div>"
      ],
      "text/plain": [
       "  Country/Region     Cases  Deaths    PCases  PDeaths  Cases (+)  Deaths (+)  \\\n",
       "0             US  32124869  572674  32077178   572200      47691         474   \n",
       "1          India  17636186  197894  17313163   195123     323023        2771   \n",
       "2         Brazil  14369423  391936  14340787   390797      28636        1139   \n",
       "3         France   5565080  103415   5559121   103017       5959         398   \n",
       "4         Russia   4717321  106783   4708640   106434       8681         349   \n",
       "\n",
       "   Fatality Rate      Continent  \n",
       "0            1.8  North America  \n",
       "1            1.1           Asia  \n",
       "2            2.7  South America  \n",
       "3            1.9         Europe  \n",
       "4            2.3         Europe  "
      ]
     },
     "execution_count": 15,
     "metadata": {},
     "output_type": "execute_result"
    }
   ],
   "source": [
    "#hide\n",
    "df_table = (pd.DataFrame(dict(Cases=dfc_cases, Deaths=dfc_deaths, PCases=dfp_cases, PDeaths=dfp_deaths))\n",
    "             .sort_values(by=['Cases', 'Deaths'], ascending=[False, False])\n",
    "             .reset_index())\n",
    "df_table.rename(columns={'index': 'Country/Region'}, inplace=True)\n",
    "for c in 'Cases, Deaths'.split(', '):\n",
    "    df_table[f'{c} (+)'] = (df_table[c] - df_table[f'P{c}']).clip(0)  # DATA BUG\n",
    "df_table['Fatality Rate'] = (100 * df_table['Deaths'] / df_table['Cases']).round(1)\n",
    "df_table['Continent'] = df_table['Country/Region'].map(mapping['map.continent'])\n",
    "df_table.head(5)"
   ]
  },
  {
   "cell_type": "code",
   "execution_count": 16,
   "id": "fewer-occasion",
   "metadata": {
    "execution": {
     "iopub.execute_input": "2021-04-27T12:04:40.996807Z",
     "iopub.status.busy": "2021-04-27T12:04:40.996308Z",
     "iopub.status.idle": "2021-04-27T12:04:40.998913Z",
     "shell.execute_reply": "2021-04-27T12:04:40.999335Z"
    },
    "papermill": {
     "duration": 0.038736,
     "end_time": "2021-04-27T12:04:40.999460",
     "exception": false,
     "start_time": "2021-04-27T12:04:40.960724",
     "status": "completed"
    },
    "tags": []
   },
   "outputs": [],
   "source": [
    "#hide\n",
    "#delete problematic countries from table\n",
    "df_table = df_table[~df_table['Country/Region'].isin(['Cape Verde', 'Cruise Ship', 'Kosovo'])]"
   ]
  },
  {
   "cell_type": "code",
   "execution_count": 17,
   "id": "related-center",
   "metadata": {
    "execution": {
     "iopub.execute_input": "2021-04-27T12:04:41.078791Z",
     "iopub.status.busy": "2021-04-27T12:04:41.078254Z",
     "iopub.status.idle": "2021-04-27T12:04:41.080467Z",
     "shell.execute_reply": "2021-04-27T12:04:41.080059Z"
    },
    "papermill": {
     "duration": 0.050456,
     "end_time": "2021-04-27T12:04:41.080580",
     "exception": false,
     "start_time": "2021-04-27T12:04:41.030124",
     "status": "completed"
    },
    "tags": []
   },
   "outputs": [],
   "source": [
    "#hide\n",
    "metrics = [df_table.columns[index] for index in [1,2,5,6]]\n",
    "# s_china = df_table[df_table['Country/Region'].eq('China')][metrics].sum().add_prefix('China ')\n",
    "s_us = df_table[df_table['Country/Region'].eq('US')][metrics].sum().add_prefix('US ')\n",
    "s_eu = df_table[df_table['Continent'].eq('Europe')][metrics].sum().add_prefix('EU ')\n",
    "s_ind = df_table[df_table['Country/Region'].eq('India')][metrics].sum().add_prefix('India ')\n",
    "summary = {'updated': pd.to_datetime(dt_today), 'since': pd.to_datetime(dt_yday)}\n",
    "summary = {'updated': pd.to_datetime(dt_today), 'since': pd.to_datetime(dt_yday)}\n",
    "summary = {**summary, **df_table[metrics].sum(), **s_ind, **s_us, **s_eu}"
   ]
  },
  {
   "cell_type": "code",
   "execution_count": 18,
   "id": "engaging-syndrome",
   "metadata": {
    "execution": {
     "iopub.execute_input": "2021-04-27T12:04:41.147418Z",
     "iopub.status.busy": "2021-04-27T12:04:41.146912Z",
     "iopub.status.idle": "2021-04-27T12:04:41.158163Z",
     "shell.execute_reply": "2021-04-27T12:04:41.158567Z"
    },
    "papermill": {
     "duration": 0.047161,
     "end_time": "2021-04-27T12:04:41.158703",
     "exception": false,
     "start_time": "2021-04-27T12:04:41.111542",
     "status": "completed"
    },
    "tags": []
   },
   "outputs": [],
   "source": [
    "#hide\n",
    "dft_ct_new_cases = dft_cases.groupby(COL_REGION)[dt_cols].sum().diff(axis=1).fillna(0).astype(int)"
   ]
  },
  {
   "cell_type": "code",
   "execution_count": 19,
   "id": "neutral-assignment",
   "metadata": {
    "execution": {
     "iopub.execute_input": "2021-04-27T12:04:41.226712Z",
     "iopub.status.busy": "2021-04-27T12:04:41.226169Z",
     "iopub.status.idle": "2021-04-27T12:04:41.229784Z",
     "shell.execute_reply": "2021-04-27T12:04:41.229374Z"
    },
    "papermill": {
     "duration": 0.040202,
     "end_time": "2021-04-27T12:04:41.229897",
     "exception": false,
     "start_time": "2021-04-27T12:04:41.189695",
     "status": "completed"
    },
    "tags": []
   },
   "outputs": [],
   "source": [
    "#hide\n",
    "everydaycases = dft_ct_new_cases.cumsum(axis=1)"
   ]
  },
  {
   "cell_type": "code",
   "execution_count": 20,
   "id": "parliamentary-calgary",
   "metadata": {
    "execution": {
     "iopub.execute_input": "2021-04-27T12:04:41.300390Z",
     "iopub.status.busy": "2021-04-27T12:04:41.296140Z",
     "iopub.status.idle": "2021-04-27T12:04:41.760629Z",
     "shell.execute_reply": "2021-04-27T12:04:41.760145Z"
    },
    "papermill": {
     "duration": 0.499954,
     "end_time": "2021-04-27T12:04:41.760749",
     "exception": false,
     "start_time": "2021-04-27T12:04:41.260795",
     "status": "completed"
    },
    "tags": []
   },
   "outputs": [],
   "source": [
    "#hide\n",
    "import pandas as pd\n",
    "import matplotlib.pyplot as plt\n",
    "import matplotlib.ticker as ticker\n",
    "import matplotlib.animation as animation\n",
    "from IPython.display import HTML"
   ]
  },
  {
   "cell_type": "code",
   "execution_count": 21,
   "id": "lasting-extraction",
   "metadata": {
    "execution": {
     "iopub.execute_input": "2021-04-27T12:04:41.828286Z",
     "iopub.status.busy": "2021-04-27T12:04:41.827767Z",
     "iopub.status.idle": "2021-04-27T12:04:41.833000Z",
     "shell.execute_reply": "2021-04-27T12:04:41.833466Z"
    },
    "papermill": {
     "duration": 0.041973,
     "end_time": "2021-04-27T12:04:41.833599",
     "exception": false,
     "start_time": "2021-04-27T12:04:41.791626",
     "status": "completed"
    },
    "tags": []
   },
   "outputs": [],
   "source": [
    "#hide\n",
    "t = everydaycases.stack()"
   ]
  },
  {
   "cell_type": "code",
   "execution_count": 22,
   "id": "premier-sleeve",
   "metadata": {
    "execution": {
     "iopub.execute_input": "2021-04-27T12:04:41.899810Z",
     "iopub.status.busy": "2021-04-27T12:04:41.899282Z",
     "iopub.status.idle": "2021-04-27T12:04:41.907228Z",
     "shell.execute_reply": "2021-04-27T12:04:41.906825Z"
    },
    "papermill": {
     "duration": 0.04271,
     "end_time": "2021-04-27T12:04:41.907342",
     "exception": false,
     "start_time": "2021-04-27T12:04:41.864632",
     "status": "completed"
    },
    "tags": []
   },
   "outputs": [],
   "source": [
    "#hide\n",
    "g = t.reset_index(['Country/Region'])"
   ]
  },
  {
   "cell_type": "code",
   "execution_count": 23,
   "id": "distributed-pittsburgh",
   "metadata": {
    "execution": {
     "iopub.execute_input": "2021-04-27T12:04:41.973062Z",
     "iopub.status.busy": "2021-04-27T12:04:41.972471Z",
     "iopub.status.idle": "2021-04-27T12:04:41.974626Z",
     "shell.execute_reply": "2021-04-27T12:04:41.974082Z"
    },
    "papermill": {
     "duration": 0.036637,
     "end_time": "2021-04-27T12:04:41.974744",
     "exception": false,
     "start_time": "2021-04-27T12:04:41.938107",
     "status": "completed"
    },
    "tags": []
   },
   "outputs": [],
   "source": [
    "#hide\n",
    "g.index.name = 'date'"
   ]
  },
  {
   "cell_type": "code",
   "execution_count": 24,
   "id": "naked-donor",
   "metadata": {
    "execution": {
     "iopub.execute_input": "2021-04-27T12:04:42.040253Z",
     "iopub.status.busy": "2021-04-27T12:04:42.039740Z",
     "iopub.status.idle": "2021-04-27T12:04:42.041467Z",
     "shell.execute_reply": "2021-04-27T12:04:42.041942Z"
    },
    "papermill": {
     "duration": 0.036403,
     "end_time": "2021-04-27T12:04:42.042065",
     "exception": false,
     "start_time": "2021-04-27T12:04:42.005662",
     "status": "completed"
    },
    "tags": []
   },
   "outputs": [],
   "source": [
    "# #hide\n",
    "# g = g.reset_index(['date'])"
   ]
  },
  {
   "cell_type": "code",
   "execution_count": 25,
   "id": "incomplete-mustang",
   "metadata": {
    "execution": {
     "iopub.execute_input": "2021-04-27T12:04:42.107390Z",
     "iopub.status.busy": "2021-04-27T12:04:42.106895Z",
     "iopub.status.idle": "2021-04-27T12:04:42.108722Z",
     "shell.execute_reply": "2021-04-27T12:04:42.109179Z"
    },
    "papermill": {
     "duration": 0.0365,
     "end_time": "2021-04-27T12:04:42.109302",
     "exception": false,
     "start_time": "2021-04-27T12:04:42.072802",
     "status": "completed"
    },
    "tags": []
   },
   "outputs": [],
   "source": [
    "#hide\n",
    "# g.head()"
   ]
  },
  {
   "cell_type": "code",
   "execution_count": 26,
   "id": "specific-kruger",
   "metadata": {
    "execution": {
     "iopub.execute_input": "2021-04-27T12:04:42.174454Z",
     "iopub.status.busy": "2021-04-27T12:04:42.173958Z",
     "iopub.status.idle": "2021-04-27T12:04:42.175764Z",
     "shell.execute_reply": "2021-04-27T12:04:42.176189Z"
    },
    "papermill": {
     "duration": 0.03623,
     "end_time": "2021-04-27T12:04:42.176310",
     "exception": false,
     "start_time": "2021-04-27T12:04:42.140080",
     "status": "completed"
    },
    "tags": []
   },
   "outputs": [],
   "source": [
    "#hide\n",
    "# g.columns = ['date','country','cases']"
   ]
  },
  {
   "cell_type": "code",
   "execution_count": 27,
   "id": "tender-conversion",
   "metadata": {
    "execution": {
     "iopub.execute_input": "2021-04-27T12:04:42.241191Z",
     "iopub.status.busy": "2021-04-27T12:04:42.240700Z",
     "iopub.status.idle": "2021-04-27T12:04:42.242790Z",
     "shell.execute_reply": "2021-04-27T12:04:42.242391Z"
    },
    "papermill": {
     "duration": 0.036068,
     "end_time": "2021-04-27T12:04:42.242898",
     "exception": false,
     "start_time": "2021-04-27T12:04:42.206830",
     "status": "completed"
    },
    "tags": []
   },
   "outputs": [],
   "source": [
    "#hide\n",
    "# g['continent'] = g.country"
   ]
  },
  {
   "cell_type": "code",
   "execution_count": 28,
   "id": "substantial-wilderness",
   "metadata": {
    "execution": {
     "iopub.execute_input": "2021-04-27T12:04:42.308501Z",
     "iopub.status.busy": "2021-04-27T12:04:42.307999Z",
     "iopub.status.idle": "2021-04-27T12:04:42.309873Z",
     "shell.execute_reply": "2021-04-27T12:04:42.310245Z"
    },
    "papermill": {
     "duration": 0.036704,
     "end_time": "2021-04-27T12:04:42.310369",
     "exception": false,
     "start_time": "2021-04-27T12:04:42.273665",
     "status": "completed"
    },
    "tags": []
   },
   "outputs": [],
   "source": [
    "#hide\n",
    "# cols = list(g.columns.values)"
   ]
  },
  {
   "cell_type": "code",
   "execution_count": 29,
   "id": "solved-farming",
   "metadata": {
    "execution": {
     "iopub.execute_input": "2021-04-27T12:04:42.375792Z",
     "iopub.status.busy": "2021-04-27T12:04:42.375176Z",
     "iopub.status.idle": "2021-04-27T12:04:42.376986Z",
     "shell.execute_reply": "2021-04-27T12:04:42.377410Z"
    },
    "papermill": {
     "duration": 0.03637,
     "end_time": "2021-04-27T12:04:42.377533",
     "exception": false,
     "start_time": "2021-04-27T12:04:42.341163",
     "status": "completed"
    },
    "tags": []
   },
   "outputs": [],
   "source": [
    "#hide\n",
    "# cols.insert(0, cols.pop())"
   ]
  },
  {
   "cell_type": "code",
   "execution_count": 30,
   "id": "executed-adoption",
   "metadata": {
    "execution": {
     "iopub.execute_input": "2021-04-27T12:04:42.443030Z",
     "iopub.status.busy": "2021-04-27T12:04:42.442433Z",
     "iopub.status.idle": "2021-04-27T12:04:42.444479Z",
     "shell.execute_reply": "2021-04-27T12:04:42.444053Z"
    },
    "papermill": {
     "duration": 0.036129,
     "end_time": "2021-04-27T12:04:42.444585",
     "exception": false,
     "start_time": "2021-04-27T12:04:42.408456",
     "status": "completed"
    },
    "tags": []
   },
   "outputs": [],
   "source": [
    "#hide\n",
    "# g = g[cols]"
   ]
  },
  {
   "cell_type": "code",
   "execution_count": 31,
   "id": "subject-dublin",
   "metadata": {
    "execution": {
     "iopub.execute_input": "2021-04-27T12:04:42.509916Z",
     "iopub.status.busy": "2021-04-27T12:04:42.509421Z",
     "iopub.status.idle": "2021-04-27T12:04:42.511689Z",
     "shell.execute_reply": "2021-04-27T12:04:42.511268Z"
    },
    "papermill": {
     "duration": 0.036484,
     "end_time": "2021-04-27T12:04:42.511797",
     "exception": false,
     "start_time": "2021-04-27T12:04:42.475313",
     "status": "completed"
    },
    "tags": []
   },
   "outputs": [],
   "source": [
    "#hide\n",
    "# g['continent'] = g['continent'].map(mapping['map.continent'])"
   ]
  },
  {
   "cell_type": "code",
   "execution_count": 32,
   "id": "freelance-scout",
   "metadata": {
    "execution": {
     "iopub.execute_input": "2021-04-27T12:04:42.576611Z",
     "iopub.status.busy": "2021-04-27T12:04:42.576119Z",
     "iopub.status.idle": "2021-04-27T12:04:42.578144Z",
     "shell.execute_reply": "2021-04-27T12:04:42.577727Z"
    },
    "papermill": {
     "duration": 0.035808,
     "end_time": "2021-04-27T12:04:42.578247",
     "exception": false,
     "start_time": "2021-04-27T12:04:42.542439",
     "status": "completed"
    },
    "tags": []
   },
   "outputs": [],
   "source": [
    "#hide\n",
    "# g.head()"
   ]
  },
  {
   "cell_type": "code",
   "execution_count": 33,
   "id": "limited-engine",
   "metadata": {
    "execution": {
     "iopub.execute_input": "2021-04-27T12:04:42.643387Z",
     "iopub.status.busy": "2021-04-27T12:04:42.642792Z",
     "iopub.status.idle": "2021-04-27T12:04:42.644896Z",
     "shell.execute_reply": "2021-04-27T12:04:42.644332Z"
    },
    "papermill": {
     "duration": 0.036133,
     "end_time": "2021-04-27T12:04:42.645017",
     "exception": false,
     "start_time": "2021-04-27T12:04:42.608884",
     "status": "completed"
    },
    "tags": []
   },
   "outputs": [],
   "source": [
    "# hide\n",
    "# g['date'] = g['date'].astype('datetime64[ns]')"
   ]
  },
  {
   "cell_type": "code",
   "execution_count": 34,
   "id": "sophisticated-supervisor",
   "metadata": {
    "execution": {
     "iopub.execute_input": "2021-04-27T12:04:42.710309Z",
     "iopub.status.busy": "2021-04-27T12:04:42.709797Z",
     "iopub.status.idle": "2021-04-27T12:04:42.711938Z",
     "shell.execute_reply": "2021-04-27T12:04:42.711513Z"
    },
    "papermill": {
     "duration": 0.035984,
     "end_time": "2021-04-27T12:04:42.712047",
     "exception": false,
     "start_time": "2021-04-27T12:04:42.676063",
     "status": "completed"
    },
    "tags": []
   },
   "outputs": [],
   "source": [
    "#hide\n",
    "# g['date'] = g.date.dt.dayofyear"
   ]
  },
  {
   "cell_type": "code",
   "execution_count": 35,
   "id": "inside-dubai",
   "metadata": {
    "execution": {
     "iopub.execute_input": "2021-04-27T12:04:42.776889Z",
     "iopub.status.busy": "2021-04-27T12:04:42.776314Z",
     "iopub.status.idle": "2021-04-27T12:04:42.778384Z",
     "shell.execute_reply": "2021-04-27T12:04:42.777827Z"
    },
    "papermill": {
     "duration": 0.035899,
     "end_time": "2021-04-27T12:04:42.778499",
     "exception": false,
     "start_time": "2021-04-27T12:04:42.742600",
     "status": "completed"
    },
    "tags": []
   },
   "outputs": [],
   "source": [
    "#hide\n",
    "# g = g.rename(columns= {'continent':'group','country':'name','cases':'value'})"
   ]
  },
  {
   "cell_type": "code",
   "execution_count": 36,
   "id": "fleet-motorcycle",
   "metadata": {
    "execution": {
     "iopub.execute_input": "2021-04-27T12:04:42.843412Z",
     "iopub.status.busy": "2021-04-27T12:04:42.842833Z",
     "iopub.status.idle": "2021-04-27T12:04:42.845008Z",
     "shell.execute_reply": "2021-04-27T12:04:42.844526Z"
    },
    "papermill": {
     "duration": 0.035771,
     "end_time": "2021-04-27T12:04:42.845126",
     "exception": false,
     "start_time": "2021-04-27T12:04:42.809355",
     "status": "completed"
    },
    "tags": []
   },
   "outputs": [],
   "source": [
    "#hide\n",
    "# cols = ['name','group','day','value']"
   ]
  },
  {
   "cell_type": "code",
   "execution_count": 37,
   "id": "continued-sleeping",
   "metadata": {
    "execution": {
     "iopub.execute_input": "2021-04-27T12:04:42.910669Z",
     "iopub.status.busy": "2021-04-27T12:04:42.910172Z",
     "iopub.status.idle": "2021-04-27T12:04:42.912317Z",
     "shell.execute_reply": "2021-04-27T12:04:42.911898Z"
    },
    "papermill": {
     "duration": 0.035975,
     "end_time": "2021-04-27T12:04:42.912422",
     "exception": false,
     "start_time": "2021-04-27T12:04:42.876447",
     "status": "completed"
    },
    "tags": []
   },
   "outputs": [],
   "source": [
    "#hide\n",
    "# g.rename(columns= {'date':'day'},inplace = True)"
   ]
  },
  {
   "cell_type": "code",
   "execution_count": 38,
   "id": "major-fight",
   "metadata": {
    "execution": {
     "iopub.execute_input": "2021-04-27T12:04:42.976948Z",
     "iopub.status.busy": "2021-04-27T12:04:42.976366Z",
     "iopub.status.idle": "2021-04-27T12:04:42.978101Z",
     "shell.execute_reply": "2021-04-27T12:04:42.978525Z"
    },
    "papermill": {
     "duration": 0.035738,
     "end_time": "2021-04-27T12:04:42.978658",
     "exception": false,
     "start_time": "2021-04-27T12:04:42.942920",
     "status": "completed"
    },
    "tags": []
   },
   "outputs": [],
   "source": [
    "#hide\n",
    "# g = g[cols]"
   ]
  },
  {
   "cell_type": "code",
   "execution_count": 39,
   "id": "structured-mobile",
   "metadata": {
    "execution": {
     "iopub.execute_input": "2021-04-27T12:04:43.043934Z",
     "iopub.status.busy": "2021-04-27T12:04:43.043408Z",
     "iopub.status.idle": "2021-04-27T12:04:43.045504Z",
     "shell.execute_reply": "2021-04-27T12:04:43.045113Z"
    },
    "papermill": {
     "duration": 0.035777,
     "end_time": "2021-04-27T12:04:43.045609",
     "exception": false,
     "start_time": "2021-04-27T12:04:43.009832",
     "status": "completed"
    },
    "tags": []
   },
   "outputs": [],
   "source": [
    "# #hide\n",
    "# g = g[g.group.notna()]"
   ]
  },
  {
   "cell_type": "code",
   "execution_count": 40,
   "id": "determined-closing",
   "metadata": {
    "execution": {
     "iopub.execute_input": "2021-04-27T12:04:43.110400Z",
     "iopub.status.busy": "2021-04-27T12:04:43.109903Z",
     "iopub.status.idle": "2021-04-27T12:04:43.112163Z",
     "shell.execute_reply": "2021-04-27T12:04:43.111761Z"
    },
    "papermill": {
     "duration": 0.036026,
     "end_time": "2021-04-27T12:04:43.112268",
     "exception": false,
     "start_time": "2021-04-27T12:04:43.076242",
     "status": "completed"
    },
    "tags": []
   },
   "outputs": [],
   "source": [
    "# #hide\n",
    "# colors = dict(zip(\n",
    "#     [\"Oceania\", \"Europe\", \"Asia\", \"South America\", \"Middle East\", \"North America\", \"Africa\"],\n",
    "#     [\"#adb0ff\", \"#ffb3ff\", \"#90d595\", \"#e48381\", \"#aafbff\", \"#f7bb5f\", \"#eafb50\"]\n",
    "# ))\n",
    "# group_lk = g.set_index('name')['group'].to_dict()"
   ]
  },
  {
   "cell_type": "code",
   "execution_count": null,
   "id": "gross-drinking",
   "metadata": {
    "papermill": {
     "duration": 0.030586,
     "end_time": "2021-04-27T12:04:43.173276",
     "exception": false,
     "start_time": "2021-04-27T12:04:43.142690",
     "status": "completed"
    },
    "tags": []
   },
   "outputs": [],
   "source": []
  },
  {
   "cell_type": "code",
   "execution_count": 41,
   "id": "subject-macintosh",
   "metadata": {
    "execution": {
     "iopub.execute_input": "2021-04-27T12:04:43.238278Z",
     "iopub.status.busy": "2021-04-27T12:04:43.237746Z",
     "iopub.status.idle": "2021-04-27T12:04:43.239499Z",
     "shell.execute_reply": "2021-04-27T12:04:43.239897Z"
    },
    "papermill": {
     "duration": 0.036161,
     "end_time": "2021-04-27T12:04:43.240020",
     "exception": false,
     "start_time": "2021-04-27T12:04:43.203859",
     "status": "completed"
    },
    "tags": []
   },
   "outputs": [],
   "source": [
    "# #hide\n",
    "# fig, ax = plt.subplots(figsize=(15, 8))\n",
    "\n",
    "# def draw_barchart(current_day):\n",
    "#     dff = g[g['day'].eq(current_day)].sort_values(by='value', ascending=True).tail(10)\n",
    "#     ax.clear()\n",
    "#     ax.barh(dff['name'], dff['value'], color=[colors[group_lk[x]] for x in dff['name']])\n",
    "#     dx = dff['value'].max() / 200\n",
    "    \n",
    "#     for i, (value, name) in enumerate(zip(dff['value'], dff['name'])):\n",
    "#         ax.text(value-dx, i,     name,           size=14, weight=600, ha='right', va='bottom')\n",
    "#         ax.text(value-dx, i-.25, group_lk[name], size=10, color='#444444', ha='right', va='baseline')\n",
    "#         ax.text(value+dx, i,     f'{value:,.0f}',  size=14, ha='left',  va='center')\n",
    "#     ax.text(1, 0.4, current_day, transform=ax.transAxes, color='#777777', size=46, ha='right', weight=800)\n",
    "#     ax.text(0, 1.06, 'Population (thousands)', transform=ax.transAxes, size=12, color='#777777')\n",
    "#     ax.xaxis.set_major_formatter(ticker.StrMethodFormatter('{x:,.0f}'))\n",
    "#     ax.xaxis.set_ticks_position('top')\n",
    "#     ax.tick_params(axis='x', colors='#777777', labelsize=12)\n",
    "#     ax.set_yticks([])\n",
    "#     ax.margins(0, 0.01)\n",
    "#     ax.grid(which='major', axis='x', linestyle='-')\n",
    "#     ax.set_axisbelow(True)\n",
    "    \n",
    "#     ax.text(0, 1.15, 'Coronavirus',\n",
    "#             transform=ax.transAxes, size=24, weight=600, ha='left', va='top')\n",
    "# #     ax.text(1, 0, 'by @pratapvardhan; credit @jburnmurdoch', transform=ax.transAxes, color='#777777', ha='right',\n",
    "# #             bbox=dict(facecolor='white', alpha=0.8, edgecolor='white'))\n",
    "#     plt.box(False)"
   ]
  },
  {
   "cell_type": "code",
   "execution_count": 42,
   "id": "sexual-wages",
   "metadata": {
    "execution": {
     "iopub.execute_input": "2021-04-27T12:04:43.304901Z",
     "iopub.status.busy": "2021-04-27T12:04:43.304334Z",
     "iopub.status.idle": "2021-04-27T12:04:43.306066Z",
     "shell.execute_reply": "2021-04-27T12:04:43.306487Z"
    },
    "papermill": {
     "duration": 0.036006,
     "end_time": "2021-04-27T12:04:43.306607",
     "exception": false,
     "start_time": "2021-04-27T12:04:43.270601",
     "status": "completed"
    },
    "tags": []
   },
   "outputs": [],
   "source": [
    "# #hide_input\n",
    "# fig, ax = plt.subplots(figsize=(15, 8))\n",
    "# animator = animation.FuncAnimation(fig, draw_barchart, frames=range(g.day.values.min(), g.day.values.max()))\n",
    "# HTML(animator.to_jshtml())\n",
    "# # or use animator.to_html5_video() or animator.save() "
   ]
  },
  {
   "cell_type": "code",
   "execution_count": null,
   "id": "australian-container",
   "metadata": {
    "papermill": {
     "duration": 0.03052,
     "end_time": "2021-04-27T12:04:43.367856",
     "exception": false,
     "start_time": "2021-04-27T12:04:43.337336",
     "status": "completed"
    },
    "tags": []
   },
   "outputs": [],
   "source": []
  },
  {
   "cell_type": "code",
   "execution_count": null,
   "id": "mediterranean-pontiac",
   "metadata": {
    "papermill": {
     "duration": 0.030578,
     "end_time": "2021-04-27T12:04:43.428866",
     "exception": false,
     "start_time": "2021-04-27T12:04:43.398288",
     "status": "completed"
    },
    "tags": []
   },
   "outputs": [],
   "source": []
  },
  {
   "cell_type": "code",
   "execution_count": null,
   "id": "aging-legislature",
   "metadata": {
    "papermill": {
     "duration": 0.030317,
     "end_time": "2021-04-27T12:04:43.489873",
     "exception": false,
     "start_time": "2021-04-27T12:04:43.459556",
     "status": "completed"
    },
    "tags": []
   },
   "outputs": [],
   "source": []
  }
 ],
 "metadata": {
  "kernelspec": {
   "display_name": "Python 3",
   "language": "python",
   "name": "python3"
  },
  "language_info": {
   "codemirror_mode": {
    "name": "ipython",
    "version": 3
   },
   "file_extension": ".py",
   "mimetype": "text/x-python",
   "name": "python",
   "nbconvert_exporter": "python",
   "pygments_lexer": "ipython3",
   "version": "3.6.13"
  },
  "papermill": {
   "duration": 5.839452,
   "end_time": "2021-04-27T12:04:43.827468",
   "environment_variables": {},
   "exception": null,
   "input_path": "2020-03-21-covid19exp.ipynb",
   "output_path": "2020-03-21-covid19exp.ipynb",
   "parameters": {},
   "start_time": "2021-04-27T12:04:37.988016",
   "version": "2.0.0"
  }
 },
 "nbformat": 4,
 "nbformat_minor": 5
}