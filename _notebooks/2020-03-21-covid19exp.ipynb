{
 "cells": [
  {
   "cell_type": "markdown",
   "id": "muslim-click",
   "metadata": {
    "papermill": {
     "duration": 0.045926,
     "end_time": "2021-05-11T00:14:00.491245",
     "exception": false,
     "start_time": "2021-05-11T00:14:00.445319",
     "status": "completed"
    },
    "tags": []
   },
   "source": [
    "# COVID-19 Case Race\n",
    "> A race chart to see rising cases around the world\n",
    "\n",
    "- author: Hargun Oberoi\n",
    "- image: images/covid-overview.png\n",
    "- hide: false\n",
    "- badges: false"
   ]
  },
  {
   "cell_type": "code",
   "execution_count": 1,
   "id": "proof-material",
   "metadata": {
    "execution": {
     "iopub.execute_input": "2021-05-11T00:14:00.584613Z",
     "iopub.status.busy": "2021-05-11T00:14:00.583905Z",
     "iopub.status.idle": "2021-05-11T00:14:00.961746Z",
     "shell.execute_reply": "2021-05-11T00:14:00.961089Z"
    },
    "papermill": {
     "duration": 0.430186,
     "end_time": "2021-05-11T00:14:00.961922",
     "exception": false,
     "start_time": "2021-05-11T00:14:00.531736",
     "status": "completed"
    },
    "tags": []
   },
   "outputs": [],
   "source": [
    "#hide\n",
    "import numpy as np\n",
    "import pandas as pd\n",
    "from jinja2 import Template\n",
    "from IPython.display import HTML"
   ]
  },
  {
   "cell_type": "code",
   "execution_count": 2,
   "id": "developed-terminology",
   "metadata": {
    "execution": {
     "iopub.execute_input": "2021-05-11T00:14:01.048560Z",
     "iopub.status.busy": "2021-05-11T00:14:01.047832Z",
     "iopub.status.idle": "2021-05-11T00:14:01.050530Z",
     "shell.execute_reply": "2021-05-11T00:14:01.049976Z"
    },
    "papermill": {
     "duration": 0.045987,
     "end_time": "2021-05-11T00:14:01.050649",
     "exception": false,
     "start_time": "2021-05-11T00:14:01.004662",
     "status": "completed"
    },
    "tags": []
   },
   "outputs": [],
   "source": [
    "#hide\n",
    "\n",
    "# FETCH\n",
    "base_url = 'https://raw.githubusercontent.com/pratapvardhan/notebooks/master/covid19/'\n",
    "paths = {\n",
    "    'mapping': base_url + 'mapping_countries.csv',\n",
    "    'overview': base_url + 'overview.tpl'\n",
    "}"
   ]
  },
  {
   "cell_type": "code",
   "execution_count": 3,
   "id": "dynamic-saver",
   "metadata": {
    "execution": {
     "iopub.execute_input": "2021-05-11T00:14:01.142837Z",
     "iopub.status.busy": "2021-05-11T00:14:01.142156Z",
     "iopub.status.idle": "2021-05-11T00:14:01.145070Z",
     "shell.execute_reply": "2021-05-11T00:14:01.145704Z"
    },
    "papermill": {
     "duration": 0.052821,
     "end_time": "2021-05-11T00:14:01.145888",
     "exception": false,
     "start_time": "2021-05-11T00:14:01.093067",
     "status": "completed"
    },
    "tags": []
   },
   "outputs": [
    {
     "data": {
      "text/plain": [
       "'https://raw.githubusercontent.com/pratapvardhan/notebooks/master/covid19/mapping_countries.csv'"
      ]
     },
     "execution_count": 3,
     "metadata": {},
     "output_type": "execute_result"
    }
   ],
   "source": [
    "#hide\n",
    "paths['mapping']"
   ]
  },
  {
   "cell_type": "code",
   "execution_count": 4,
   "id": "urban-software",
   "metadata": {
    "execution": {
     "iopub.execute_input": "2021-05-11T00:14:01.232121Z",
     "iopub.status.busy": "2021-05-11T00:14:01.231402Z",
     "iopub.status.idle": "2021-05-11T00:14:01.234056Z",
     "shell.execute_reply": "2021-05-11T00:14:01.233424Z"
    },
    "papermill": {
     "duration": 0.047573,
     "end_time": "2021-05-11T00:14:01.234184",
     "exception": false,
     "start_time": "2021-05-11T00:14:01.186611",
     "status": "completed"
    },
    "tags": []
   },
   "outputs": [],
   "source": [
    "#hide\n",
    "def get_mappings(url):\n",
    "    df = pd.read_csv(url)\n",
    "    return {\n",
    "        'df': df,\n",
    "        'replace.country': dict(df.dropna(subset=['Name']).set_index('Country')['Name']),\n",
    "        'map.continent': dict(df.set_index('Name')['Continent'])\n",
    "    }"
   ]
  },
  {
   "cell_type": "code",
   "execution_count": 5,
   "id": "intimate-machinery",
   "metadata": {
    "execution": {
     "iopub.execute_input": "2021-05-11T00:14:01.322315Z",
     "iopub.status.busy": "2021-05-11T00:14:01.321627Z",
     "iopub.status.idle": "2021-05-11T00:14:01.352759Z",
     "shell.execute_reply": "2021-05-11T00:14:01.352238Z"
    },
    "papermill": {
     "duration": 0.077922,
     "end_time": "2021-05-11T00:14:01.352893",
     "exception": false,
     "start_time": "2021-05-11T00:14:01.274971",
     "status": "completed"
    },
    "tags": []
   },
   "outputs": [],
   "source": [
    "#hide\n",
    "mapping = get_mappings(paths['mapping'])"
   ]
  },
  {
   "cell_type": "code",
   "execution_count": 6,
   "id": "certified-tactics",
   "metadata": {
    "execution": {
     "iopub.execute_input": "2021-05-11T00:14:01.440460Z",
     "iopub.status.busy": "2021-05-11T00:14:01.439761Z",
     "iopub.status.idle": "2021-05-11T00:14:01.441787Z",
     "shell.execute_reply": "2021-05-11T00:14:01.442422Z"
    },
    "papermill": {
     "duration": 0.048207,
     "end_time": "2021-05-11T00:14:01.442585",
     "exception": false,
     "start_time": "2021-05-11T00:14:01.394378",
     "status": "completed"
    },
    "tags": []
   },
   "outputs": [],
   "source": [
    "#hide\n",
    "def get_template(path):\n",
    "    from urllib.parse import urlparse\n",
    "    if bool(urlparse(path).netloc):\n",
    "        from urllib.request import urlopen\n",
    "        return urlopen(path).read().decode('utf8')\n",
    "    return open(path).read()"
   ]
  },
  {
   "cell_type": "code",
   "execution_count": 7,
   "id": "realistic-blast",
   "metadata": {
    "execution": {
     "iopub.execute_input": "2021-05-11T00:14:01.529538Z",
     "iopub.status.busy": "2021-05-11T00:14:01.528866Z",
     "iopub.status.idle": "2021-05-11T00:14:01.531430Z",
     "shell.execute_reply": "2021-05-11T00:14:01.530688Z"
    },
    "papermill": {
     "duration": 0.048554,
     "end_time": "2021-05-11T00:14:01.531574",
     "exception": false,
     "start_time": "2021-05-11T00:14:01.483020",
     "status": "completed"
    },
    "tags": []
   },
   "outputs": [],
   "source": [
    "#hide\n",
    "def get_frame(name):\n",
    "    url = (\n",
    "        'https://raw.githubusercontent.com/CSSEGISandData/COVID-19/master/csse_covid_19_data/'\n",
    "        f'csse_covid_19_time_series/time_series_covid19_{name}_global.csv')\n",
    "    df = pd.read_csv(url)\n",
    "    # rename countries\n",
    "    df['Country/Region'] = df['Country/Region'].replace(mapping['replace.country'])\n",
    "    return df"
   ]
  },
  {
   "cell_type": "code",
   "execution_count": 8,
   "id": "affiliated-characterization",
   "metadata": {
    "execution": {
     "iopub.execute_input": "2021-05-11T00:14:01.625654Z",
     "iopub.status.busy": "2021-05-11T00:14:01.624940Z",
     "iopub.status.idle": "2021-05-11T00:14:01.627763Z",
     "shell.execute_reply": "2021-05-11T00:14:01.627209Z"
    },
    "papermill": {
     "duration": 0.055915,
     "end_time": "2021-05-11T00:14:01.627888",
     "exception": false,
     "start_time": "2021-05-11T00:14:01.571973",
     "status": "completed"
    },
    "tags": []
   },
   "outputs": [],
   "source": [
    "#hide\n",
    "def get_dates(df):\n",
    "    dt_cols = df.columns[~df.columns.isin(['Province/State', 'Country/Region', 'Lat', 'Long'])]\n",
    "    LAST_DATE_I = -1\n",
    "    # sometimes last column may be empty, then go backwards\n",
    "    for i in range(-1, -len(dt_cols), -1):\n",
    "        if not df[dt_cols[i]].fillna(0).eq(0).all():\n",
    "            LAST_DATE_I = i\n",
    "            break\n",
    "    return LAST_DATE_I, dt_cols"
   ]
  },
  {
   "cell_type": "code",
   "execution_count": 9,
   "id": "recent-optimization",
   "metadata": {
    "execution": {
     "iopub.execute_input": "2021-05-11T00:14:01.715030Z",
     "iopub.status.busy": "2021-05-11T00:14:01.714369Z",
     "iopub.status.idle": "2021-05-11T00:14:02.018610Z",
     "shell.execute_reply": "2021-05-11T00:14:02.017971Z"
    },
    "papermill": {
     "duration": 0.350648,
     "end_time": "2021-05-11T00:14:02.018757",
     "exception": false,
     "start_time": "2021-05-11T00:14:01.668109",
     "status": "completed"
    },
    "tags": []
   },
   "outputs": [],
   "source": [
    "#hide\n",
    "COL_REGION = 'Country/Region'\n",
    "# Confirmed, Recovered, Deaths\n",
    "df = get_frame('confirmed')\n",
    "# dft_: timeseries, dfc_: today country agg\n",
    "dft_cases = df\n",
    "dft_deaths = get_frame('deaths')\n",
    "dft_recovered = get_frame('recovered')\n",
    "LAST_DATE_I, dt_cols = get_dates(df)"
   ]
  },
  {
   "cell_type": "code",
   "execution_count": 10,
   "id": "absolute-copper",
   "metadata": {
    "execution": {
     "iopub.execute_input": "2021-05-11T00:14:02.108583Z",
     "iopub.status.busy": "2021-05-11T00:14:02.107855Z",
     "iopub.status.idle": "2021-05-11T00:14:02.112665Z",
     "shell.execute_reply": "2021-05-11T00:14:02.111909Z"
    },
    "papermill": {
     "duration": 0.053388,
     "end_time": "2021-05-11T00:14:02.112804",
     "exception": false,
     "start_time": "2021-05-11T00:14:02.059416",
     "status": "completed"
    },
    "tags": []
   },
   "outputs": [],
   "source": [
    "#hide\n",
    "LAST_DATE_I, dt_cols = get_dates(df)\n",
    "dt_today =dt_cols[LAST_DATE_I]\n",
    "# dt_5day = dt_cols[LAST_DATE_I - 5]\n",
    "dt_yday = dt_cols[LAST_DATE_I - 1]"
   ]
  },
  {
   "cell_type": "code",
   "execution_count": 11,
   "id": "restricted-sheriff",
   "metadata": {
    "execution": {
     "iopub.execute_input": "2021-05-11T00:14:02.204337Z",
     "iopub.status.busy": "2021-05-11T00:14:02.202548Z",
     "iopub.status.idle": "2021-05-11T00:14:02.210045Z",
     "shell.execute_reply": "2021-05-11T00:14:02.210652Z"
    },
    "papermill": {
     "duration": 0.056185,
     "end_time": "2021-05-11T00:14:02.210797",
     "exception": false,
     "start_time": "2021-05-11T00:14:02.154612",
     "status": "completed"
    },
    "tags": []
   },
   "outputs": [],
   "source": [
    "#hide\n",
    "dfc_cases = dft_cases.groupby(COL_REGION)[dt_today].sum()\n",
    "dfc_deaths = dft_deaths.groupby(COL_REGION)[dt_today].sum()\n",
    "# dfp_cases = dft_cases.groupby(COL_REGION)[dt_5day].sum()\n",
    "# dfp_deaths = dft_deaths.groupby(COL_REGION)[dt_5day].sum()\n",
    "dfp_cases = dft_cases.groupby(COL_REGION)[dt_yday].sum()\n",
    "dfp_deaths = dft_deaths.groupby(COL_REGION)[dt_yday].sum()"
   ]
  },
  {
   "cell_type": "code",
   "execution_count": 12,
   "id": "deluxe-hepatitis",
   "metadata": {
    "execution": {
     "iopub.execute_input": "2021-05-11T00:14:02.298680Z",
     "iopub.status.busy": "2021-05-11T00:14:02.297780Z",
     "iopub.status.idle": "2021-05-11T00:14:02.302486Z",
     "shell.execute_reply": "2021-05-11T00:14:02.303080Z"
    },
    "papermill": {
     "duration": 0.051112,
     "end_time": "2021-05-11T00:14:02.303300",
     "exception": false,
     "start_time": "2021-05-11T00:14:02.252188",
     "status": "completed"
    },
    "tags": []
   },
   "outputs": [],
   "source": [
    "#hide\n",
    "df_table = (pd.DataFrame(dict(Cases = dfc_cases, Deaths = dfc_deaths, PCases = dfp_cases, PDeaths = dfp_deaths))\n",
    "            .sort_values(by = ['Cases','Deaths'], ascending = [False, False])\n",
    "            .reset_index())"
   ]
  },
  {
   "cell_type": "code",
   "execution_count": 13,
   "id": "educational-chancellor",
   "metadata": {
    "execution": {
     "iopub.execute_input": "2021-05-11T00:14:02.403874Z",
     "iopub.status.busy": "2021-05-11T00:14:02.403246Z",
     "iopub.status.idle": "2021-05-11T00:14:02.412404Z",
     "shell.execute_reply": "2021-05-11T00:14:02.413083Z"
    },
    "papermill": {
     "duration": 0.069278,
     "end_time": "2021-05-11T00:14:02.413233",
     "exception": false,
     "start_time": "2021-05-11T00:14:02.343955",
     "status": "completed"
    },
    "tags": []
   },
   "outputs": [
    {
     "data": {
      "text/html": [
       "<div>\n",
       "<style scoped>\n",
       "    .dataframe tbody tr th:only-of-type {\n",
       "        vertical-align: middle;\n",
       "    }\n",
       "\n",
       "    .dataframe tbody tr th {\n",
       "        vertical-align: top;\n",
       "    }\n",
       "\n",
       "    .dataframe thead th {\n",
       "        text-align: right;\n",
       "    }\n",
       "</style>\n",
       "<table border=\"1\" class=\"dataframe\">\n",
       "  <thead>\n",
       "    <tr style=\"text-align: right;\">\n",
       "      <th></th>\n",
       "      <th>Country/Region</th>\n",
       "      <th>Cases</th>\n",
       "      <th>Deaths</th>\n",
       "      <th>PCases</th>\n",
       "      <th>PDeaths</th>\n",
       "      <th>Cases (+)</th>\n",
       "      <th>Deaths (+)</th>\n",
       "      <th>Fatality Rate</th>\n",
       "      <th>Continent</th>\n",
       "    </tr>\n",
       "  </thead>\n",
       "  <tbody>\n",
       "    <tr>\n",
       "      <th>0</th>\n",
       "      <td>US</td>\n",
       "      <td>32707750</td>\n",
       "      <td>581754</td>\n",
       "      <td>32686358</td>\n",
       "      <td>581516</td>\n",
       "      <td>21392</td>\n",
       "      <td>238</td>\n",
       "      <td>1.78</td>\n",
       "      <td>North America</td>\n",
       "    </tr>\n",
       "    <tr>\n",
       "      <th>1</th>\n",
       "      <td>India</td>\n",
       "      <td>22662575</td>\n",
       "      <td>246116</td>\n",
       "      <td>22296081</td>\n",
       "      <td>242347</td>\n",
       "      <td>366494</td>\n",
       "      <td>3769</td>\n",
       "      <td>1.09</td>\n",
       "      <td>Asia</td>\n",
       "    </tr>\n",
       "    <tr>\n",
       "      <th>2</th>\n",
       "      <td>Brazil</td>\n",
       "      <td>15184790</td>\n",
       "      <td>422340</td>\n",
       "      <td>15145879</td>\n",
       "      <td>421316</td>\n",
       "      <td>38911</td>\n",
       "      <td>1024</td>\n",
       "      <td>2.78</td>\n",
       "      <td>South America</td>\n",
       "    </tr>\n",
       "    <tr>\n",
       "      <th>3</th>\n",
       "      <td>France</td>\n",
       "      <td>5838294</td>\n",
       "      <td>106553</td>\n",
       "      <td>5829166</td>\n",
       "      <td>106438</td>\n",
       "      <td>9128</td>\n",
       "      <td>115</td>\n",
       "      <td>1.83</td>\n",
       "      <td>Europe</td>\n",
       "    </tr>\n",
       "    <tr>\n",
       "      <th>4</th>\n",
       "      <td>Turkey</td>\n",
       "      <td>5031332</td>\n",
       "      <td>43029</td>\n",
       "      <td>5016141</td>\n",
       "      <td>42746</td>\n",
       "      <td>15191</td>\n",
       "      <td>283</td>\n",
       "      <td>0.86</td>\n",
       "      <td>Asia</td>\n",
       "    </tr>\n",
       "  </tbody>\n",
       "</table>\n",
       "</div>"
      ],
      "text/plain": [
       "  Country/Region     Cases  Deaths    PCases  PDeaths  Cases (+)  Deaths (+)  \\\n",
       "0             US  32707750  581754  32686358   581516      21392         238   \n",
       "1          India  22662575  246116  22296081   242347     366494        3769   \n",
       "2         Brazil  15184790  422340  15145879   421316      38911        1024   \n",
       "3         France   5838294  106553   5829166   106438       9128         115   \n",
       "4         Turkey   5031332   43029   5016141    42746      15191         283   \n",
       "\n",
       "   Fatality Rate      Continent  \n",
       "0           1.78  North America  \n",
       "1           1.09           Asia  \n",
       "2           2.78  South America  \n",
       "3           1.83         Europe  \n",
       "4           0.86           Asia  "
      ]
     },
     "execution_count": 13,
     "metadata": {},
     "output_type": "execute_result"
    }
   ],
   "source": [
    "#hide\n",
    "for c in 'Cases, Deaths'.split(', '):\n",
    "    df_table[f'{c} (+)'] = (df_table[c] - df_table[f'P{c}']).clip(0)\n",
    "    #Clip ça veut dire, les chiffres negatif sont interdit\n",
    "df_table['Fatality Rate'] = (100* df_table['Deaths']/ df_table['Cases']).round(2)\n",
    "df_table['Continent'] = df_table['Country/Region'].map(mapping['map.continent'])\n",
    "df_table.head(5)"
   ]
  },
  {
   "cell_type": "code",
   "execution_count": 14,
   "id": "aboriginal-bulgaria",
   "metadata": {
    "execution": {
     "iopub.execute_input": "2021-05-11T00:14:02.500760Z",
     "iopub.status.busy": "2021-05-11T00:14:02.499890Z",
     "iopub.status.idle": "2021-05-11T00:14:02.502744Z",
     "shell.execute_reply": "2021-05-11T00:14:02.502267Z"
    },
    "papermill": {
     "duration": 0.049078,
     "end_time": "2021-05-11T00:14:02.502895",
     "exception": false,
     "start_time": "2021-05-11T00:14:02.453817",
     "status": "completed"
    },
    "tags": []
   },
   "outputs": [],
   "source": [
    "#hide\n",
    "#delete problematic countries from table\n",
    "df_table = df_table[~df_table['Country/Region'].isin(['Cape Verde', 'Cruise Ship', 'Kosovo'])]"
   ]
  },
  {
   "cell_type": "code",
   "execution_count": 15,
   "id": "fantastic-effect",
   "metadata": {
    "execution": {
     "iopub.execute_input": "2021-05-11T00:14:02.588991Z",
     "iopub.status.busy": "2021-05-11T00:14:02.588274Z",
     "iopub.status.idle": "2021-05-11T00:14:02.612509Z",
     "shell.execute_reply": "2021-05-11T00:14:02.611729Z"
    },
    "papermill": {
     "duration": 0.071321,
     "end_time": "2021-05-11T00:14:02.612638",
     "exception": false,
     "start_time": "2021-05-11T00:14:02.541317",
     "status": "completed"
    },
    "tags": []
   },
   "outputs": [
    {
     "data": {
      "text/html": [
       "<div>\n",
       "<style scoped>\n",
       "    .dataframe tbody tr th:only-of-type {\n",
       "        vertical-align: middle;\n",
       "    }\n",
       "\n",
       "    .dataframe tbody tr th {\n",
       "        vertical-align: top;\n",
       "    }\n",
       "\n",
       "    .dataframe thead th {\n",
       "        text-align: right;\n",
       "    }\n",
       "</style>\n",
       "<table border=\"1\" class=\"dataframe\">\n",
       "  <thead>\n",
       "    <tr style=\"text-align: right;\">\n",
       "      <th></th>\n",
       "      <th>Country/Region</th>\n",
       "      <th>Cases</th>\n",
       "      <th>Deaths</th>\n",
       "      <th>PCases</th>\n",
       "      <th>PDeaths</th>\n",
       "      <th>Cases (+)</th>\n",
       "      <th>Deaths (+)</th>\n",
       "      <th>Fatality Rate</th>\n",
       "      <th>Continent</th>\n",
       "    </tr>\n",
       "  </thead>\n",
       "  <tbody>\n",
       "    <tr>\n",
       "      <th>0</th>\n",
       "      <td>US</td>\n",
       "      <td>32707750</td>\n",
       "      <td>581754</td>\n",
       "      <td>32686358</td>\n",
       "      <td>581516</td>\n",
       "      <td>21392</td>\n",
       "      <td>238</td>\n",
       "      <td>1.8</td>\n",
       "      <td>North America</td>\n",
       "    </tr>\n",
       "    <tr>\n",
       "      <th>1</th>\n",
       "      <td>India</td>\n",
       "      <td>22662575</td>\n",
       "      <td>246116</td>\n",
       "      <td>22296081</td>\n",
       "      <td>242347</td>\n",
       "      <td>366494</td>\n",
       "      <td>3769</td>\n",
       "      <td>1.1</td>\n",
       "      <td>Asia</td>\n",
       "    </tr>\n",
       "    <tr>\n",
       "      <th>2</th>\n",
       "      <td>Brazil</td>\n",
       "      <td>15184790</td>\n",
       "      <td>422340</td>\n",
       "      <td>15145879</td>\n",
       "      <td>421316</td>\n",
       "      <td>38911</td>\n",
       "      <td>1024</td>\n",
       "      <td>2.8</td>\n",
       "      <td>South America</td>\n",
       "    </tr>\n",
       "    <tr>\n",
       "      <th>3</th>\n",
       "      <td>France</td>\n",
       "      <td>5838294</td>\n",
       "      <td>106553</td>\n",
       "      <td>5829166</td>\n",
       "      <td>106438</td>\n",
       "      <td>9128</td>\n",
       "      <td>115</td>\n",
       "      <td>1.8</td>\n",
       "      <td>Europe</td>\n",
       "    </tr>\n",
       "    <tr>\n",
       "      <th>4</th>\n",
       "      <td>Turkey</td>\n",
       "      <td>5031332</td>\n",
       "      <td>43029</td>\n",
       "      <td>5016141</td>\n",
       "      <td>42746</td>\n",
       "      <td>15191</td>\n",
       "      <td>283</td>\n",
       "      <td>0.9</td>\n",
       "      <td>Asia</td>\n",
       "    </tr>\n",
       "  </tbody>\n",
       "</table>\n",
       "</div>"
      ],
      "text/plain": [
       "  Country/Region     Cases  Deaths    PCases  PDeaths  Cases (+)  Deaths (+)  \\\n",
       "0             US  32707750  581754  32686358   581516      21392         238   \n",
       "1          India  22662575  246116  22296081   242347     366494        3769   \n",
       "2         Brazil  15184790  422340  15145879   421316      38911        1024   \n",
       "3         France   5838294  106553   5829166   106438       9128         115   \n",
       "4         Turkey   5031332   43029   5016141    42746      15191         283   \n",
       "\n",
       "   Fatality Rate      Continent  \n",
       "0            1.8  North America  \n",
       "1            1.1           Asia  \n",
       "2            2.8  South America  \n",
       "3            1.8         Europe  \n",
       "4            0.9           Asia  "
      ]
     },
     "execution_count": 15,
     "metadata": {},
     "output_type": "execute_result"
    }
   ],
   "source": [
    "#hide\n",
    "df_table = (pd.DataFrame(dict(Cases=dfc_cases, Deaths=dfc_deaths, PCases=dfp_cases, PDeaths=dfp_deaths))\n",
    "             .sort_values(by=['Cases', 'Deaths'], ascending=[False, False])\n",
    "             .reset_index())\n",
    "df_table.rename(columns={'index': 'Country/Region'}, inplace=True)\n",
    "for c in 'Cases, Deaths'.split(', '):\n",
    "    df_table[f'{c} (+)'] = (df_table[c] - df_table[f'P{c}']).clip(0)  # DATA BUG\n",
    "df_table['Fatality Rate'] = (100 * df_table['Deaths'] / df_table['Cases']).round(1)\n",
    "df_table['Continent'] = df_table['Country/Region'].map(mapping['map.continent'])\n",
    "df_table.head(5)"
   ]
  },
  {
   "cell_type": "code",
   "execution_count": 16,
   "id": "fewer-occasion",
   "metadata": {
    "execution": {
     "iopub.execute_input": "2021-05-11T00:14:02.700119Z",
     "iopub.status.busy": "2021-05-11T00:14:02.699399Z",
     "iopub.status.idle": "2021-05-11T00:14:02.703238Z",
     "shell.execute_reply": "2021-05-11T00:14:02.702709Z"
    },
    "papermill": {
     "duration": 0.04978,
     "end_time": "2021-05-11T00:14:02.703371",
     "exception": false,
     "start_time": "2021-05-11T00:14:02.653591",
     "status": "completed"
    },
    "tags": []
   },
   "outputs": [],
   "source": [
    "#hide\n",
    "#delete problematic countries from table\n",
    "df_table = df_table[~df_table['Country/Region'].isin(['Cape Verde', 'Cruise Ship', 'Kosovo'])]"
   ]
  },
  {
   "cell_type": "code",
   "execution_count": 17,
   "id": "related-center",
   "metadata": {
    "execution": {
     "iopub.execute_input": "2021-05-11T00:14:02.795843Z",
     "iopub.status.busy": "2021-05-11T00:14:02.795115Z",
     "iopub.status.idle": "2021-05-11T00:14:02.807093Z",
     "shell.execute_reply": "2021-05-11T00:14:02.807715Z"
    },
    "papermill": {
     "duration": 0.064856,
     "end_time": "2021-05-11T00:14:02.807862",
     "exception": false,
     "start_time": "2021-05-11T00:14:02.743006",
     "status": "completed"
    },
    "tags": []
   },
   "outputs": [],
   "source": [
    "#hide\n",
    "metrics = [df_table.columns[index] for index in [1,2,5,6]]\n",
    "# s_china = df_table[df_table['Country/Region'].eq('China')][metrics].sum().add_prefix('China ')\n",
    "s_us = df_table[df_table['Country/Region'].eq('US')][metrics].sum().add_prefix('US ')\n",
    "s_eu = df_table[df_table['Continent'].eq('Europe')][metrics].sum().add_prefix('EU ')\n",
    "s_ind = df_table[df_table['Country/Region'].eq('India')][metrics].sum().add_prefix('India ')\n",
    "summary = {'updated': pd.to_datetime(dt_today), 'since': pd.to_datetime(dt_yday)}\n",
    "summary = {'updated': pd.to_datetime(dt_today), 'since': pd.to_datetime(dt_yday)}\n",
    "summary = {**summary, **df_table[metrics].sum(), **s_ind, **s_us, **s_eu}"
   ]
  },
  {
   "cell_type": "code",
   "execution_count": 18,
   "id": "engaging-syndrome",
   "metadata": {
    "execution": {
     "iopub.execute_input": "2021-05-11T00:14:02.895796Z",
     "iopub.status.busy": "2021-05-11T00:14:02.895129Z",
     "iopub.status.idle": "2021-05-11T00:14:02.909040Z",
     "shell.execute_reply": "2021-05-11T00:14:02.908429Z"
    },
    "papermill": {
     "duration": 0.060641,
     "end_time": "2021-05-11T00:14:02.909174",
     "exception": false,
     "start_time": "2021-05-11T00:14:02.848533",
     "status": "completed"
    },
    "tags": []
   },
   "outputs": [],
   "source": [
    "#hide\n",
    "dft_ct_new_cases = dft_cases.groupby(COL_REGION)[dt_cols].sum().diff(axis=1).fillna(0).astype(int)"
   ]
  },
  {
   "cell_type": "code",
   "execution_count": 19,
   "id": "neutral-assignment",
   "metadata": {
    "execution": {
     "iopub.execute_input": "2021-05-11T00:14:02.999548Z",
     "iopub.status.busy": "2021-05-11T00:14:02.998882Z",
     "iopub.status.idle": "2021-05-11T00:14:03.001091Z",
     "shell.execute_reply": "2021-05-11T00:14:03.001641Z"
    },
    "papermill": {
     "duration": 0.050477,
     "end_time": "2021-05-11T00:14:03.001792",
     "exception": false,
     "start_time": "2021-05-11T00:14:02.951315",
     "status": "completed"
    },
    "tags": []
   },
   "outputs": [],
   "source": [
    "#hide\n",
    "everydaycases = dft_ct_new_cases.cumsum(axis=1)"
   ]
  },
  {
   "cell_type": "code",
   "execution_count": 20,
   "id": "parliamentary-calgary",
   "metadata": {
    "execution": {
     "iopub.execute_input": "2021-05-11T00:14:03.100781Z",
     "iopub.status.busy": "2021-05-11T00:14:03.100066Z",
     "iopub.status.idle": "2021-05-11T00:14:03.717212Z",
     "shell.execute_reply": "2021-05-11T00:14:03.716648Z"
    },
    "papermill": {
     "duration": 0.674081,
     "end_time": "2021-05-11T00:14:03.717391",
     "exception": false,
     "start_time": "2021-05-11T00:14:03.043310",
     "status": "completed"
    },
    "tags": []
   },
   "outputs": [],
   "source": [
    "#hide\n",
    "import pandas as pd\n",
    "import matplotlib.pyplot as plt\n",
    "import matplotlib.ticker as ticker\n",
    "import matplotlib.animation as animation\n",
    "from IPython.display import HTML"
   ]
  },
  {
   "cell_type": "code",
   "execution_count": 21,
   "id": "lasting-extraction",
   "metadata": {
    "execution": {
     "iopub.execute_input": "2021-05-11T00:14:03.814652Z",
     "iopub.status.busy": "2021-05-11T00:14:03.813960Z",
     "iopub.status.idle": "2021-05-11T00:14:03.819542Z",
     "shell.execute_reply": "2021-05-11T00:14:03.820241Z"
    },
    "papermill": {
     "duration": 0.059951,
     "end_time": "2021-05-11T00:14:03.820389",
     "exception": false,
     "start_time": "2021-05-11T00:14:03.760438",
     "status": "completed"
    },
    "tags": []
   },
   "outputs": [],
   "source": [
    "#hide\n",
    "t = everydaycases.stack()"
   ]
  },
  {
   "cell_type": "code",
   "execution_count": 22,
   "id": "premier-sleeve",
   "metadata": {
    "execution": {
     "iopub.execute_input": "2021-05-11T00:14:03.905524Z",
     "iopub.status.busy": "2021-05-11T00:14:03.904870Z",
     "iopub.status.idle": "2021-05-11T00:14:03.913358Z",
     "shell.execute_reply": "2021-05-11T00:14:03.912748Z"
    },
    "papermill": {
     "duration": 0.052533,
     "end_time": "2021-05-11T00:14:03.913527",
     "exception": false,
     "start_time": "2021-05-11T00:14:03.860994",
     "status": "completed"
    },
    "tags": []
   },
   "outputs": [],
   "source": [
    "#hide\n",
    "g = t.reset_index(['Country/Region'])"
   ]
  },
  {
   "cell_type": "code",
   "execution_count": 23,
   "id": "distributed-pittsburgh",
   "metadata": {
    "execution": {
     "iopub.execute_input": "2021-05-11T00:14:04.004340Z",
     "iopub.status.busy": "2021-05-11T00:14:04.003621Z",
     "iopub.status.idle": "2021-05-11T00:14:04.006221Z",
     "shell.execute_reply": "2021-05-11T00:14:04.005698Z"
    },
    "papermill": {
     "duration": 0.052929,
     "end_time": "2021-05-11T00:14:04.006347",
     "exception": false,
     "start_time": "2021-05-11T00:14:03.953418",
     "status": "completed"
    },
    "tags": []
   },
   "outputs": [],
   "source": [
    "#hide\n",
    "g.index.name = 'date'"
   ]
  },
  {
   "cell_type": "code",
   "execution_count": 24,
   "id": "naked-donor",
   "metadata": {
    "execution": {
     "iopub.execute_input": "2021-05-11T00:14:04.091872Z",
     "iopub.status.busy": "2021-05-11T00:14:04.090989Z",
     "iopub.status.idle": "2021-05-11T00:14:04.093876Z",
     "shell.execute_reply": "2021-05-11T00:14:04.093261Z"
    },
    "papermill": {
     "duration": 0.047101,
     "end_time": "2021-05-11T00:14:04.094025",
     "exception": false,
     "start_time": "2021-05-11T00:14:04.046924",
     "status": "completed"
    },
    "tags": []
   },
   "outputs": [],
   "source": [
    "# #hide\n",
    "# g = g.reset_index(['date'])"
   ]
  },
  {
   "cell_type": "code",
   "execution_count": 25,
   "id": "incomplete-mustang",
   "metadata": {
    "execution": {
     "iopub.execute_input": "2021-05-11T00:14:04.184120Z",
     "iopub.status.busy": "2021-05-11T00:14:04.182679Z",
     "iopub.status.idle": "2021-05-11T00:14:04.184896Z",
     "shell.execute_reply": "2021-05-11T00:14:04.185457Z"
    },
    "papermill": {
     "duration": 0.049838,
     "end_time": "2021-05-11T00:14:04.185603",
     "exception": false,
     "start_time": "2021-05-11T00:14:04.135765",
     "status": "completed"
    },
    "tags": []
   },
   "outputs": [],
   "source": [
    "#hide\n",
    "# g.head()"
   ]
  },
  {
   "cell_type": "code",
   "execution_count": 26,
   "id": "specific-kruger",
   "metadata": {
    "execution": {
     "iopub.execute_input": "2021-05-11T00:14:04.273540Z",
     "iopub.status.busy": "2021-05-11T00:14:04.272224Z",
     "iopub.status.idle": "2021-05-11T00:14:04.274268Z",
     "shell.execute_reply": "2021-05-11T00:14:04.274885Z"
    },
    "papermill": {
     "duration": 0.047712,
     "end_time": "2021-05-11T00:14:04.275152",
     "exception": false,
     "start_time": "2021-05-11T00:14:04.227440",
     "status": "completed"
    },
    "tags": []
   },
   "outputs": [],
   "source": [
    "#hide\n",
    "# g.columns = ['date','country','cases']"
   ]
  },
  {
   "cell_type": "code",
   "execution_count": 27,
   "id": "tender-conversion",
   "metadata": {
    "execution": {
     "iopub.execute_input": "2021-05-11T00:14:04.362359Z",
     "iopub.status.busy": "2021-05-11T00:14:04.361620Z",
     "iopub.status.idle": "2021-05-11T00:14:04.367748Z",
     "shell.execute_reply": "2021-05-11T00:14:04.368398Z"
    },
    "papermill": {
     "duration": 0.053095,
     "end_time": "2021-05-11T00:14:04.368553",
     "exception": false,
     "start_time": "2021-05-11T00:14:04.315458",
     "status": "completed"
    },
    "tags": []
   },
   "outputs": [],
   "source": [
    "#hide\n",
    "# g['continent'] = g.country"
   ]
  },
  {
   "cell_type": "code",
   "execution_count": 28,
   "id": "substantial-wilderness",
   "metadata": {
    "execution": {
     "iopub.execute_input": "2021-05-11T00:14:04.453547Z",
     "iopub.status.busy": "2021-05-11T00:14:04.452791Z",
     "iopub.status.idle": "2021-05-11T00:14:04.455433Z",
     "shell.execute_reply": "2021-05-11T00:14:04.454867Z"
    },
    "papermill": {
     "duration": 0.04642,
     "end_time": "2021-05-11T00:14:04.455563",
     "exception": false,
     "start_time": "2021-05-11T00:14:04.409143",
     "status": "completed"
    },
    "tags": []
   },
   "outputs": [],
   "source": [
    "#hide\n",
    "# cols = list(g.columns.values)"
   ]
  },
  {
   "cell_type": "code",
   "execution_count": 29,
   "id": "solved-farming",
   "metadata": {
    "execution": {
     "iopub.execute_input": "2021-05-11T00:14:04.539697Z",
     "iopub.status.busy": "2021-05-11T00:14:04.539116Z",
     "iopub.status.idle": "2021-05-11T00:14:04.541413Z",
     "shell.execute_reply": "2021-05-11T00:14:04.542156Z"
    },
    "papermill": {
     "duration": 0.045198,
     "end_time": "2021-05-11T00:14:04.542312",
     "exception": false,
     "start_time": "2021-05-11T00:14:04.497114",
     "status": "completed"
    },
    "tags": []
   },
   "outputs": [],
   "source": [
    "#hide\n",
    "# cols.insert(0, cols.pop())"
   ]
  },
  {
   "cell_type": "code",
   "execution_count": 30,
   "id": "executed-adoption",
   "metadata": {
    "execution": {
     "iopub.execute_input": "2021-05-11T00:14:04.636228Z",
     "iopub.status.busy": "2021-05-11T00:14:04.635455Z",
     "iopub.status.idle": "2021-05-11T00:14:04.638457Z",
     "shell.execute_reply": "2021-05-11T00:14:04.637875Z"
    },
    "papermill": {
     "duration": 0.050014,
     "end_time": "2021-05-11T00:14:04.638592",
     "exception": false,
     "start_time": "2021-05-11T00:14:04.588578",
     "status": "completed"
    },
    "tags": []
   },
   "outputs": [],
   "source": [
    "#hide\n",
    "# g = g[cols]"
   ]
  },
  {
   "cell_type": "code",
   "execution_count": 31,
   "id": "subject-dublin",
   "metadata": {
    "execution": {
     "iopub.execute_input": "2021-05-11T00:14:04.733701Z",
     "iopub.status.busy": "2021-05-11T00:14:04.732947Z",
     "iopub.status.idle": "2021-05-11T00:14:04.735748Z",
     "shell.execute_reply": "2021-05-11T00:14:04.735222Z"
    },
    "papermill": {
     "duration": 0.053573,
     "end_time": "2021-05-11T00:14:04.735880",
     "exception": false,
     "start_time": "2021-05-11T00:14:04.682307",
     "status": "completed"
    },
    "tags": []
   },
   "outputs": [],
   "source": [
    "#hide\n",
    "# g['continent'] = g['continent'].map(mapping['map.continent'])"
   ]
  },
  {
   "cell_type": "code",
   "execution_count": 32,
   "id": "freelance-scout",
   "metadata": {
    "execution": {
     "iopub.execute_input": "2021-05-11T00:14:04.820363Z",
     "iopub.status.busy": "2021-05-11T00:14:04.819599Z",
     "iopub.status.idle": "2021-05-11T00:14:04.822392Z",
     "shell.execute_reply": "2021-05-11T00:14:04.821755Z"
    },
    "papermill": {
     "duration": 0.047111,
     "end_time": "2021-05-11T00:14:04.822524",
     "exception": false,
     "start_time": "2021-05-11T00:14:04.775413",
     "status": "completed"
    },
    "tags": []
   },
   "outputs": [],
   "source": [
    "#hide\n",
    "# g.head()"
   ]
  },
  {
   "cell_type": "code",
   "execution_count": 33,
   "id": "limited-engine",
   "metadata": {
    "execution": {
     "iopub.execute_input": "2021-05-11T00:14:04.907925Z",
     "iopub.status.busy": "2021-05-11T00:14:04.907312Z",
     "iopub.status.idle": "2021-05-11T00:14:04.909178Z",
     "shell.execute_reply": "2021-05-11T00:14:04.909816Z"
    },
    "papermill": {
     "duration": 0.046896,
     "end_time": "2021-05-11T00:14:04.909978",
     "exception": false,
     "start_time": "2021-05-11T00:14:04.863082",
     "status": "completed"
    },
    "tags": []
   },
   "outputs": [],
   "source": [
    "# hide\n",
    "# g['date'] = g['date'].astype('datetime64[ns]')"
   ]
  },
  {
   "cell_type": "code",
   "execution_count": 34,
   "id": "sophisticated-supervisor",
   "metadata": {
    "execution": {
     "iopub.execute_input": "2021-05-11T00:14:04.994268Z",
     "iopub.status.busy": "2021-05-11T00:14:04.993602Z",
     "iopub.status.idle": "2021-05-11T00:14:04.997684Z",
     "shell.execute_reply": "2021-05-11T00:14:04.997135Z"
    },
    "papermill": {
     "duration": 0.046793,
     "end_time": "2021-05-11T00:14:04.997818",
     "exception": false,
     "start_time": "2021-05-11T00:14:04.951025",
     "status": "completed"
    },
    "tags": []
   },
   "outputs": [],
   "source": [
    "#hide\n",
    "# g['date'] = g.date.dt.dayofyear"
   ]
  },
  {
   "cell_type": "code",
   "execution_count": 35,
   "id": "inside-dubai",
   "metadata": {
    "execution": {
     "iopub.execute_input": "2021-05-11T00:14:05.094595Z",
     "iopub.status.busy": "2021-05-11T00:14:05.093869Z",
     "iopub.status.idle": "2021-05-11T00:14:05.096731Z",
     "shell.execute_reply": "2021-05-11T00:14:05.096052Z"
    },
    "papermill": {
     "duration": 0.057852,
     "end_time": "2021-05-11T00:14:05.096875",
     "exception": false,
     "start_time": "2021-05-11T00:14:05.039023",
     "status": "completed"
    },
    "tags": []
   },
   "outputs": [],
   "source": [
    "#hide\n",
    "# g = g.rename(columns= {'continent':'group','country':'name','cases':'value'})"
   ]
  },
  {
   "cell_type": "code",
   "execution_count": 36,
   "id": "fleet-motorcycle",
   "metadata": {
    "execution": {
     "iopub.execute_input": "2021-05-11T00:14:05.183658Z",
     "iopub.status.busy": "2021-05-11T00:14:05.183003Z",
     "iopub.status.idle": "2021-05-11T00:14:05.184990Z",
     "shell.execute_reply": "2021-05-11T00:14:05.185549Z"
    },
    "papermill": {
     "duration": 0.047714,
     "end_time": "2021-05-11T00:14:05.185728",
     "exception": false,
     "start_time": "2021-05-11T00:14:05.138014",
     "status": "completed"
    },
    "tags": []
   },
   "outputs": [],
   "source": [
    "#hide\n",
    "# cols = ['name','group','day','value']"
   ]
  },
  {
   "cell_type": "code",
   "execution_count": 37,
   "id": "continued-sleeping",
   "metadata": {
    "execution": {
     "iopub.execute_input": "2021-05-11T00:14:05.272322Z",
     "iopub.status.busy": "2021-05-11T00:14:05.271487Z",
     "iopub.status.idle": "2021-05-11T00:14:05.274120Z",
     "shell.execute_reply": "2021-05-11T00:14:05.273458Z"
    },
    "papermill": {
     "duration": 0.048044,
     "end_time": "2021-05-11T00:14:05.274333",
     "exception": false,
     "start_time": "2021-05-11T00:14:05.226289",
     "status": "completed"
    },
    "tags": []
   },
   "outputs": [],
   "source": [
    "#hide\n",
    "# g.rename(columns= {'date':'day'},inplace = True)"
   ]
  },
  {
   "cell_type": "code",
   "execution_count": 38,
   "id": "major-fight",
   "metadata": {
    "execution": {
     "iopub.execute_input": "2021-05-11T00:14:05.365470Z",
     "iopub.status.busy": "2021-05-11T00:14:05.364825Z",
     "iopub.status.idle": "2021-05-11T00:14:05.367340Z",
     "shell.execute_reply": "2021-05-11T00:14:05.366671Z"
    },
    "papermill": {
     "duration": 0.047303,
     "end_time": "2021-05-11T00:14:05.367507",
     "exception": false,
     "start_time": "2021-05-11T00:14:05.320204",
     "status": "completed"
    },
    "tags": []
   },
   "outputs": [],
   "source": [
    "#hide\n",
    "# g = g[cols]"
   ]
  },
  {
   "cell_type": "code",
   "execution_count": 39,
   "id": "structured-mobile",
   "metadata": {
    "execution": {
     "iopub.execute_input": "2021-05-11T00:14:05.459623Z",
     "iopub.status.busy": "2021-05-11T00:14:05.458950Z",
     "iopub.status.idle": "2021-05-11T00:14:05.461603Z",
     "shell.execute_reply": "2021-05-11T00:14:05.461063Z"
    },
    "papermill": {
     "duration": 0.04924,
     "end_time": "2021-05-11T00:14:05.461731",
     "exception": false,
     "start_time": "2021-05-11T00:14:05.412491",
     "status": "completed"
    },
    "tags": []
   },
   "outputs": [],
   "source": [
    "# #hide\n",
    "# g = g[g.group.notna()]"
   ]
  },
  {
   "cell_type": "code",
   "execution_count": 40,
   "id": "determined-closing",
   "metadata": {
    "execution": {
     "iopub.execute_input": "2021-05-11T00:14:05.557925Z",
     "iopub.status.busy": "2021-05-11T00:14:05.557040Z",
     "iopub.status.idle": "2021-05-11T00:14:05.560663Z",
     "shell.execute_reply": "2021-05-11T00:14:05.561213Z"
    },
    "papermill": {
     "duration": 0.054166,
     "end_time": "2021-05-11T00:14:05.561395",
     "exception": false,
     "start_time": "2021-05-11T00:14:05.507229",
     "status": "completed"
    },
    "tags": []
   },
   "outputs": [],
   "source": [
    "# #hide\n",
    "# colors = dict(zip(\n",
    "#     [\"Oceania\", \"Europe\", \"Asia\", \"South America\", \"Middle East\", \"North America\", \"Africa\"],\n",
    "#     [\"#adb0ff\", \"#ffb3ff\", \"#90d595\", \"#e48381\", \"#aafbff\", \"#f7bb5f\", \"#eafb50\"]\n",
    "# ))\n",
    "# group_lk = g.set_index('name')['group'].to_dict()"
   ]
  },
  {
   "cell_type": "code",
   "execution_count": null,
   "id": "gross-drinking",
   "metadata": {
    "papermill": {
     "duration": 0.042264,
     "end_time": "2021-05-11T00:14:05.651735",
     "exception": false,
     "start_time": "2021-05-11T00:14:05.609471",
     "status": "completed"
    },
    "tags": []
   },
   "outputs": [],
   "source": []
  },
  {
   "cell_type": "code",
   "execution_count": 41,
   "id": "subject-macintosh",
   "metadata": {
    "execution": {
     "iopub.execute_input": "2021-05-11T00:14:05.741706Z",
     "iopub.status.busy": "2021-05-11T00:14:05.741003Z",
     "iopub.status.idle": "2021-05-11T00:14:05.743617Z",
     "shell.execute_reply": "2021-05-11T00:14:05.742954Z"
    },
    "papermill": {
     "duration": 0.048797,
     "end_time": "2021-05-11T00:14:05.743754",
     "exception": false,
     "start_time": "2021-05-11T00:14:05.694957",
     "status": "completed"
    },
    "tags": []
   },
   "outputs": [],
   "source": [
    "# #hide\n",
    "# fig, ax = plt.subplots(figsize=(15, 8))\n",
    "\n",
    "# def draw_barchart(current_day):\n",
    "#     dff = g[g['day'].eq(current_day)].sort_values(by='value', ascending=True).tail(10)\n",
    "#     ax.clear()\n",
    "#     ax.barh(dff['name'], dff['value'], color=[colors[group_lk[x]] for x in dff['name']])\n",
    "#     dx = dff['value'].max() / 200\n",
    "    \n",
    "#     for i, (value, name) in enumerate(zip(dff['value'], dff['name'])):\n",
    "#         ax.text(value-dx, i,     name,           size=14, weight=600, ha='right', va='bottom')\n",
    "#         ax.text(value-dx, i-.25, group_lk[name], size=10, color='#444444', ha='right', va='baseline')\n",
    "#         ax.text(value+dx, i,     f'{value:,.0f}',  size=14, ha='left',  va='center')\n",
    "#     ax.text(1, 0.4, current_day, transform=ax.transAxes, color='#777777', size=46, ha='right', weight=800)\n",
    "#     ax.text(0, 1.06, 'Population (thousands)', transform=ax.transAxes, size=12, color='#777777')\n",
    "#     ax.xaxis.set_major_formatter(ticker.StrMethodFormatter('{x:,.0f}'))\n",
    "#     ax.xaxis.set_ticks_position('top')\n",
    "#     ax.tick_params(axis='x', colors='#777777', labelsize=12)\n",
    "#     ax.set_yticks([])\n",
    "#     ax.margins(0, 0.01)\n",
    "#     ax.grid(which='major', axis='x', linestyle='-')\n",
    "#     ax.set_axisbelow(True)\n",
    "    \n",
    "#     ax.text(0, 1.15, 'Coronavirus',\n",
    "#             transform=ax.transAxes, size=24, weight=600, ha='left', va='top')\n",
    "# #     ax.text(1, 0, 'by @pratapvardhan; credit @jburnmurdoch', transform=ax.transAxes, color='#777777', ha='right',\n",
    "# #             bbox=dict(facecolor='white', alpha=0.8, edgecolor='white'))\n",
    "#     plt.box(False)"
   ]
  },
  {
   "cell_type": "code",
   "execution_count": 42,
   "id": "sexual-wages",
   "metadata": {
    "execution": {
     "iopub.execute_input": "2021-05-11T00:14:05.834459Z",
     "iopub.status.busy": "2021-05-11T00:14:05.833727Z",
     "iopub.status.idle": "2021-05-11T00:14:05.836201Z",
     "shell.execute_reply": "2021-05-11T00:14:05.835503Z"
    },
    "papermill": {
     "duration": 0.048525,
     "end_time": "2021-05-11T00:14:05.836341",
     "exception": false,
     "start_time": "2021-05-11T00:14:05.787816",
     "status": "completed"
    },
    "tags": []
   },
   "outputs": [],
   "source": [
    "# #hide_input\n",
    "# fig, ax = plt.subplots(figsize=(15, 8))\n",
    "# animator = animation.FuncAnimation(fig, draw_barchart, frames=range(g.day.values.min(), g.day.values.max()))\n",
    "# HTML(animator.to_jshtml())\n",
    "# # or use animator.to_html5_video() or animator.save() "
   ]
  },
  {
   "cell_type": "code",
   "execution_count": null,
   "id": "australian-container",
   "metadata": {
    "papermill": {
     "duration": 0.043788,
     "end_time": "2021-05-11T00:14:05.923472",
     "exception": false,
     "start_time": "2021-05-11T00:14:05.879684",
     "status": "completed"
    },
    "tags": []
   },
   "outputs": [],
   "source": []
  },
  {
   "cell_type": "code",
   "execution_count": null,
   "id": "mediterranean-pontiac",
   "metadata": {
    "papermill": {
     "duration": 0.043116,
     "end_time": "2021-05-11T00:14:06.008401",
     "exception": false,
     "start_time": "2021-05-11T00:14:05.965285",
     "status": "completed"
    },
    "tags": []
   },
   "outputs": [],
   "source": []
  },
  {
   "cell_type": "code",
   "execution_count": null,
   "id": "aging-legislature",
   "metadata": {
    "papermill": {
     "duration": 0.047482,
     "end_time": "2021-05-11T00:14:06.096957",
     "exception": false,
     "start_time": "2021-05-11T00:14:06.049475",
     "status": "completed"
    },
    "tags": []
   },
   "outputs": [],
   "source": []
  }
 ],
 "metadata": {
  "kernelspec": {
   "display_name": "Python 3",
   "language": "python",
   "name": "python3"
  },
  "language_info": {
   "codemirror_mode": {
    "name": "ipython",
    "version": 3
   },
   "file_extension": ".py",
   "mimetype": "text/x-python",
   "name": "python",
   "nbconvert_exporter": "python",
   "pygments_lexer": "ipython3",
   "version": "3.6.13"
  },
  "papermill": {
   "duration": 7.365629,
   "end_time": "2021-05-11T00:14:06.452906",
   "environment_variables": {},
   "exception": null,
   "input_path": "2020-03-21-covid19exp.ipynb",
   "output_path": "2020-03-21-covid19exp.ipynb",
   "parameters": {},
   "start_time": "2021-05-11T00:13:59.087277",
   "version": "2.0.0"
  }
 },
 "nbformat": 4,
 "nbformat_minor": 5
}