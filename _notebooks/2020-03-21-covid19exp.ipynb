{
 "cells": [
  {
   "cell_type": "markdown",
   "id": "muslim-click",
   "metadata": {
    "papermill": {
     "duration": 0.033767,
     "end_time": "2022-06-30T00:41:19.693918",
     "exception": false,
     "start_time": "2022-06-30T00:41:19.660151",
     "status": "completed"
    },
    "tags": []
   },
   "source": [
    "# COVID-19 Case Race\n",
    "> A race chart to see rising cases around the world\n",
    "\n",
    "- author: Hargun Oberoi\n",
    "- image: images/covid-overview.png\n",
    "- hide: false\n",
    "- badges: false"
   ]
  },
  {
   "cell_type": "code",
   "execution_count": 1,
   "id": "proof-material",
   "metadata": {
    "execution": {
     "iopub.execute_input": "2022-06-30T00:41:19.765349Z",
     "iopub.status.busy": "2022-06-30T00:41:19.763653Z",
     "iopub.status.idle": "2022-06-30T00:41:20.074367Z",
     "shell.execute_reply": "2022-06-30T00:41:20.073492Z"
    },
    "papermill": {
     "duration": 0.348531,
     "end_time": "2022-06-30T00:41:20.074503",
     "exception": false,
     "start_time": "2022-06-30T00:41:19.725972",
     "status": "completed"
    },
    "tags": []
   },
   "outputs": [],
   "source": [
    "#hide\n",
    "import numpy as np\n",
    "import pandas as pd\n",
    "from jinja2 import Template\n",
    "from IPython.display import HTML"
   ]
  },
  {
   "cell_type": "code",
   "execution_count": 2,
   "id": "developed-terminology",
   "metadata": {
    "execution": {
     "iopub.execute_input": "2022-06-30T00:41:20.140094Z",
     "iopub.status.busy": "2022-06-30T00:41:20.139436Z",
     "iopub.status.idle": "2022-06-30T00:41:20.141524Z",
     "shell.execute_reply": "2022-06-30T00:41:20.143956Z"
    },
    "papermill": {
     "duration": 0.039253,
     "end_time": "2022-06-30T00:41:20.144094",
     "exception": false,
     "start_time": "2022-06-30T00:41:20.104841",
     "status": "completed"
    },
    "tags": []
   },
   "outputs": [],
   "source": [
    "#hide\n",
    "\n",
    "# FETCH\n",
    "base_url = 'https://raw.githubusercontent.com/pratapvardhan/notebooks/master/covid19/'\n",
    "paths = {\n",
    "    'mapping': base_url + 'mapping_countries.csv',\n",
    "    'overview': base_url + 'overview.tpl'\n",
    "}"
   ]
  },
  {
   "cell_type": "code",
   "execution_count": 3,
   "id": "dynamic-saver",
   "metadata": {
    "execution": {
     "iopub.execute_input": "2022-06-30T00:41:20.213850Z",
     "iopub.status.busy": "2022-06-30T00:41:20.213253Z",
     "iopub.status.idle": "2022-06-30T00:41:20.215904Z",
     "shell.execute_reply": "2022-06-30T00:41:20.216331Z"
    },
    "papermill": {
     "duration": 0.042266,
     "end_time": "2022-06-30T00:41:20.216450",
     "exception": false,
     "start_time": "2022-06-30T00:41:20.174184",
     "status": "completed"
    },
    "tags": []
   },
   "outputs": [
    {
     "data": {
      "text/plain": [
       "'https://raw.githubusercontent.com/pratapvardhan/notebooks/master/covid19/mapping_countries.csv'"
      ]
     },
     "execution_count": 3,
     "metadata": {},
     "output_type": "execute_result"
    }
   ],
   "source": [
    "#hide\n",
    "paths['mapping']"
   ]
  },
  {
   "cell_type": "code",
   "execution_count": 4,
   "id": "urban-software",
   "metadata": {
    "execution": {
     "iopub.execute_input": "2022-06-30T00:41:20.282447Z",
     "iopub.status.busy": "2022-06-30T00:41:20.281868Z",
     "iopub.status.idle": "2022-06-30T00:41:20.284597Z",
     "shell.execute_reply": "2022-06-30T00:41:20.284151Z"
    },
    "papermill": {
     "duration": 0.037796,
     "end_time": "2022-06-30T00:41:20.284695",
     "exception": false,
     "start_time": "2022-06-30T00:41:20.246899",
     "status": "completed"
    },
    "tags": []
   },
   "outputs": [],
   "source": [
    "#hide\n",
    "def get_mappings(url):\n",
    "    df = pd.read_csv(url)\n",
    "    return {\n",
    "        'df': df,\n",
    "        'replace.country': dict(df.dropna(subset=['Name']).set_index('Country')['Name']),\n",
    "        'map.continent': dict(df.set_index('Name')['Continent'])\n",
    "    }"
   ]
  },
  {
   "cell_type": "code",
   "execution_count": 5,
   "id": "intimate-machinery",
   "metadata": {
    "execution": {
     "iopub.execute_input": "2022-06-30T00:41:20.350618Z",
     "iopub.status.busy": "2022-06-30T00:41:20.350050Z",
     "iopub.status.idle": "2022-06-30T00:41:20.399971Z",
     "shell.execute_reply": "2022-06-30T00:41:20.399451Z"
    },
    "papermill": {
     "duration": 0.084846,
     "end_time": "2022-06-30T00:41:20.400081",
     "exception": false,
     "start_time": "2022-06-30T00:41:20.315235",
     "status": "completed"
    },
    "tags": []
   },
   "outputs": [],
   "source": [
    "#hide\n",
    "mapping = get_mappings(paths['mapping'])"
   ]
  },
  {
   "cell_type": "code",
   "execution_count": 6,
   "id": "certified-tactics",
   "metadata": {
    "execution": {
     "iopub.execute_input": "2022-06-30T00:41:20.476047Z",
     "iopub.status.busy": "2022-06-30T00:41:20.475458Z",
     "iopub.status.idle": "2022-06-30T00:41:20.477794Z",
     "shell.execute_reply": "2022-06-30T00:41:20.477324Z"
    },
    "papermill": {
     "duration": 0.04125,
     "end_time": "2022-06-30T00:41:20.477896",
     "exception": false,
     "start_time": "2022-06-30T00:41:20.436646",
     "status": "completed"
    },
    "tags": []
   },
   "outputs": [],
   "source": [
    "#hide\n",
    "def get_template(path):\n",
    "    from urllib.parse import urlparse\n",
    "    if bool(urlparse(path).netloc):\n",
    "        from urllib.request import urlopen\n",
    "        return urlopen(path).read().decode('utf8')\n",
    "    return open(path).read()"
   ]
  },
  {
   "cell_type": "code",
   "execution_count": 7,
   "id": "realistic-blast",
   "metadata": {
    "execution": {
     "iopub.execute_input": "2022-06-30T00:41:20.543482Z",
     "iopub.status.busy": "2022-06-30T00:41:20.542749Z",
     "iopub.status.idle": "2022-06-30T00:41:20.544667Z",
     "shell.execute_reply": "2022-06-30T00:41:20.544980Z"
    },
    "papermill": {
     "duration": 0.03707,
     "end_time": "2022-06-30T00:41:20.545097",
     "exception": false,
     "start_time": "2022-06-30T00:41:20.508027",
     "status": "completed"
    },
    "tags": []
   },
   "outputs": [],
   "source": [
    "#hide\n",
    "def get_frame(name):\n",
    "    url = (\n",
    "        'https://raw.githubusercontent.com/CSSEGISandData/COVID-19/master/csse_covid_19_data/'\n",
    "        f'csse_covid_19_time_series/time_series_covid19_{name}_global.csv')\n",
    "    df = pd.read_csv(url)\n",
    "    # rename countries\n",
    "    df['Country/Region'] = df['Country/Region'].replace(mapping['replace.country'])\n",
    "    return df"
   ]
  },
  {
   "cell_type": "code",
   "execution_count": 8,
   "id": "affiliated-characterization",
   "metadata": {
    "execution": {
     "iopub.execute_input": "2022-06-30T00:41:20.617764Z",
     "iopub.status.busy": "2022-06-30T00:41:20.617131Z",
     "iopub.status.idle": "2022-06-30T00:41:20.619781Z",
     "shell.execute_reply": "2022-06-30T00:41:20.619314Z"
    },
    "papermill": {
     "duration": 0.040107,
     "end_time": "2022-06-30T00:41:20.619984",
     "exception": false,
     "start_time": "2022-06-30T00:41:20.579877",
     "status": "completed"
    },
    "tags": []
   },
   "outputs": [],
   "source": [
    "#hide\n",
    "def get_dates(df):\n",
    "    dt_cols = df.columns[~df.columns.isin(['Province/State', 'Country/Region', 'Lat', 'Long'])]\n",
    "    LAST_DATE_I = -1\n",
    "    # sometimes last column may be empty, then go backwards\n",
    "    for i in range(-1, -len(dt_cols), -1):\n",
    "        if not df[dt_cols[i]].fillna(0).eq(0).all():\n",
    "            LAST_DATE_I = i\n",
    "            break\n",
    "    return LAST_DATE_I, dt_cols"
   ]
  },
  {
   "cell_type": "code",
   "execution_count": 9,
   "id": "recent-optimization",
   "metadata": {
    "execution": {
     "iopub.execute_input": "2022-06-30T00:41:20.685287Z",
     "iopub.status.busy": "2022-06-30T00:41:20.684724Z",
     "iopub.status.idle": "2022-06-30T00:41:21.197457Z",
     "shell.execute_reply": "2022-06-30T00:41:21.196912Z"
    },
    "papermill": {
     "duration": 0.546914,
     "end_time": "2022-06-30T00:41:21.197621",
     "exception": false,
     "start_time": "2022-06-30T00:41:20.650707",
     "status": "completed"
    },
    "tags": []
   },
   "outputs": [],
   "source": [
    "#hide\n",
    "COL_REGION = 'Country/Region'\n",
    "# Confirmed, Recovered, Deaths\n",
    "df = get_frame('confirmed')\n",
    "# dft_: timeseries, dfc_: today country agg\n",
    "dft_cases = df\n",
    "dft_deaths = get_frame('deaths')\n",
    "dft_recovered = get_frame('recovered')\n",
    "LAST_DATE_I, dt_cols = get_dates(df)"
   ]
  },
  {
   "cell_type": "code",
   "execution_count": 10,
   "id": "absolute-copper",
   "metadata": {
    "execution": {
     "iopub.execute_input": "2022-06-30T00:41:21.264963Z",
     "iopub.status.busy": "2022-06-30T00:41:21.264311Z",
     "iopub.status.idle": "2022-06-30T00:41:21.266643Z",
     "shell.execute_reply": "2022-06-30T00:41:21.266212Z"
    },
    "papermill": {
     "duration": 0.038186,
     "end_time": "2022-06-30T00:41:21.266745",
     "exception": false,
     "start_time": "2022-06-30T00:41:21.228559",
     "status": "completed"
    },
    "tags": []
   },
   "outputs": [],
   "source": [
    "#hide\n",
    "LAST_DATE_I, dt_cols = get_dates(df)\n",
    "dt_today =dt_cols[LAST_DATE_I]\n",
    "# dt_5day = dt_cols[LAST_DATE_I - 5]\n",
    "dt_yday = dt_cols[LAST_DATE_I - 1]"
   ]
  },
  {
   "cell_type": "code",
   "execution_count": 11,
   "id": "restricted-sheriff",
   "metadata": {
    "execution": {
     "iopub.execute_input": "2022-06-30T00:41:21.360108Z",
     "iopub.status.busy": "2022-06-30T00:41:21.359523Z",
     "iopub.status.idle": "2022-06-30T00:41:21.366303Z",
     "shell.execute_reply": "2022-06-30T00:41:21.365607Z"
    },
    "papermill": {
     "duration": 0.056133,
     "end_time": "2022-06-30T00:41:21.366479",
     "exception": false,
     "start_time": "2022-06-30T00:41:21.310346",
     "status": "completed"
    },
    "tags": []
   },
   "outputs": [],
   "source": [
    "#hide\n",
    "dfc_cases = dft_cases.groupby(COL_REGION)[dt_today].sum()\n",
    "dfc_deaths = dft_deaths.groupby(COL_REGION)[dt_today].sum()\n",
    "# dfp_cases = dft_cases.groupby(COL_REGION)[dt_5day].sum()\n",
    "# dfp_deaths = dft_deaths.groupby(COL_REGION)[dt_5day].sum()\n",
    "dfp_cases = dft_cases.groupby(COL_REGION)[dt_yday].sum()\n",
    "dfp_deaths = dft_deaths.groupby(COL_REGION)[dt_yday].sum()"
   ]
  },
  {
   "cell_type": "code",
   "execution_count": 12,
   "id": "deluxe-hepatitis",
   "metadata": {
    "execution": {
     "iopub.execute_input": "2022-06-30T00:41:21.443790Z",
     "iopub.status.busy": "2022-06-30T00:41:21.443220Z",
     "iopub.status.idle": "2022-06-30T00:41:21.447698Z",
     "shell.execute_reply": "2022-06-30T00:41:21.447233Z"
    },
    "papermill": {
     "duration": 0.045165,
     "end_time": "2022-06-30T00:41:21.447800",
     "exception": false,
     "start_time": "2022-06-30T00:41:21.402635",
     "status": "completed"
    },
    "tags": []
   },
   "outputs": [],
   "source": [
    "#hide\n",
    "df_table = (pd.DataFrame(dict(Cases = dfc_cases, Deaths = dfc_deaths, PCases = dfp_cases, PDeaths = dfp_deaths))\n",
    "            .sort_values(by = ['Cases','Deaths'], ascending = [False, False])\n",
    "            .reset_index())"
   ]
  },
  {
   "cell_type": "code",
   "execution_count": 13,
   "id": "educational-chancellor",
   "metadata": {
    "execution": {
     "iopub.execute_input": "2022-06-30T00:41:21.529479Z",
     "iopub.status.busy": "2022-06-30T00:41:21.528850Z",
     "iopub.status.idle": "2022-06-30T00:41:21.536788Z",
     "shell.execute_reply": "2022-06-30T00:41:21.536309Z"
    },
    "papermill": {
     "duration": 0.056046,
     "end_time": "2022-06-30T00:41:21.536895",
     "exception": false,
     "start_time": "2022-06-30T00:41:21.480849",
     "status": "completed"
    },
    "tags": []
   },
   "outputs": [
    {
     "data": {
      "text/html": [
       "<div>\n",
       "<style scoped>\n",
       "    .dataframe tbody tr th:only-of-type {\n",
       "        vertical-align: middle;\n",
       "    }\n",
       "\n",
       "    .dataframe tbody tr th {\n",
       "        vertical-align: top;\n",
       "    }\n",
       "\n",
       "    .dataframe thead th {\n",
       "        text-align: right;\n",
       "    }\n",
       "</style>\n",
       "<table border=\"1\" class=\"dataframe\">\n",
       "  <thead>\n",
       "    <tr style=\"text-align: right;\">\n",
       "      <th></th>\n",
       "      <th>Country/Region</th>\n",
       "      <th>Cases</th>\n",
       "      <th>Deaths</th>\n",
       "      <th>PCases</th>\n",
       "      <th>PDeaths</th>\n",
       "      <th>Cases (+)</th>\n",
       "      <th>Deaths (+)</th>\n",
       "      <th>Fatality Rate</th>\n",
       "      <th>Continent</th>\n",
       "    </tr>\n",
       "  </thead>\n",
       "  <tbody>\n",
       "    <tr>\n",
       "      <th>0</th>\n",
       "      <td>US</td>\n",
       "      <td>87217673</td>\n",
       "      <td>1016757</td>\n",
       "      <td>87092233</td>\n",
       "      <td>1016208</td>\n",
       "      <td>125440</td>\n",
       "      <td>549</td>\n",
       "      <td>1.17</td>\n",
       "      <td>North America</td>\n",
       "    </tr>\n",
       "    <tr>\n",
       "      <th>1</th>\n",
       "      <td>India</td>\n",
       "      <td>43433345</td>\n",
       "      <td>525077</td>\n",
       "      <td>43418839</td>\n",
       "      <td>525047</td>\n",
       "      <td>14506</td>\n",
       "      <td>30</td>\n",
       "      <td>1.21</td>\n",
       "      <td>Asia</td>\n",
       "    </tr>\n",
       "    <tr>\n",
       "      <th>2</th>\n",
       "      <td>Brazil</td>\n",
       "      <td>32206954</td>\n",
       "      <td>670848</td>\n",
       "      <td>32130316</td>\n",
       "      <td>670532</td>\n",
       "      <td>76638</td>\n",
       "      <td>316</td>\n",
       "      <td>2.08</td>\n",
       "      <td>South America</td>\n",
       "    </tr>\n",
       "    <tr>\n",
       "      <th>3</th>\n",
       "      <td>France</td>\n",
       "      <td>31027099</td>\n",
       "      <td>150482</td>\n",
       "      <td>30879062</td>\n",
       "      <td>150445</td>\n",
       "      <td>148037</td>\n",
       "      <td>37</td>\n",
       "      <td>0.49</td>\n",
       "      <td>Europe</td>\n",
       "    </tr>\n",
       "    <tr>\n",
       "      <th>4</th>\n",
       "      <td>Germany</td>\n",
       "      <td>28048190</td>\n",
       "      <td>141022</td>\n",
       "      <td>27914240</td>\n",
       "      <td>140847</td>\n",
       "      <td>133950</td>\n",
       "      <td>175</td>\n",
       "      <td>0.50</td>\n",
       "      <td>Europe</td>\n",
       "    </tr>\n",
       "  </tbody>\n",
       "</table>\n",
       "</div>"
      ],
      "text/plain": [
       "  Country/Region     Cases   Deaths    PCases  PDeaths  Cases (+)  Deaths (+)  \\\n",
       "0             US  87217673  1016757  87092233  1016208     125440         549   \n",
       "1          India  43433345   525077  43418839   525047      14506          30   \n",
       "2         Brazil  32206954   670848  32130316   670532      76638         316   \n",
       "3         France  31027099   150482  30879062   150445     148037          37   \n",
       "4        Germany  28048190   141022  27914240   140847     133950         175   \n",
       "\n",
       "   Fatality Rate      Continent  \n",
       "0           1.17  North America  \n",
       "1           1.21           Asia  \n",
       "2           2.08  South America  \n",
       "3           0.49         Europe  \n",
       "4           0.50         Europe  "
      ]
     },
     "execution_count": 13,
     "metadata": {},
     "output_type": "execute_result"
    }
   ],
   "source": [
    "#hide\n",
    "for c in 'Cases, Deaths'.split(', '):\n",
    "    df_table[f'{c} (+)'] = (df_table[c] - df_table[f'P{c}']).clip(0)\n",
    "    #Clip ça veut dire, les chiffres negatif sont interdit\n",
    "df_table['Fatality Rate'] = (100* df_table['Deaths']/ df_table['Cases']).round(2)\n",
    "df_table['Continent'] = df_table['Country/Region'].map(mapping['map.continent'])\n",
    "df_table.head(5)"
   ]
  },
  {
   "cell_type": "code",
   "execution_count": 14,
   "id": "aboriginal-bulgaria",
   "metadata": {
    "execution": {
     "iopub.execute_input": "2022-06-30T00:41:21.604516Z",
     "iopub.status.busy": "2022-06-30T00:41:21.603957Z",
     "iopub.status.idle": "2022-06-30T00:41:21.605840Z",
     "shell.execute_reply": "2022-06-30T00:41:21.606277Z"
    },
    "papermill": {
     "duration": 0.038622,
     "end_time": "2022-06-30T00:41:21.606392",
     "exception": false,
     "start_time": "2022-06-30T00:41:21.567770",
     "status": "completed"
    },
    "tags": []
   },
   "outputs": [],
   "source": [
    "#hide\n",
    "#delete problematic countries from table\n",
    "df_table = df_table[~df_table['Country/Region'].isin(['Cape Verde', 'Cruise Ship', 'Kosovo'])]"
   ]
  },
  {
   "cell_type": "code",
   "execution_count": 15,
   "id": "fantastic-effect",
   "metadata": {
    "execution": {
     "iopub.execute_input": "2022-06-30T00:41:21.675427Z",
     "iopub.status.busy": "2022-06-30T00:41:21.674754Z",
     "iopub.status.idle": "2022-06-30T00:41:21.694543Z",
     "shell.execute_reply": "2022-06-30T00:41:21.694958Z"
    },
    "papermill": {
     "duration": 0.058189,
     "end_time": "2022-06-30T00:41:21.695091",
     "exception": false,
     "start_time": "2022-06-30T00:41:21.636902",
     "status": "completed"
    },
    "tags": []
   },
   "outputs": [
    {
     "data": {
      "text/html": [
       "<div>\n",
       "<style scoped>\n",
       "    .dataframe tbody tr th:only-of-type {\n",
       "        vertical-align: middle;\n",
       "    }\n",
       "\n",
       "    .dataframe tbody tr th {\n",
       "        vertical-align: top;\n",
       "    }\n",
       "\n",
       "    .dataframe thead th {\n",
       "        text-align: right;\n",
       "    }\n",
       "</style>\n",
       "<table border=\"1\" class=\"dataframe\">\n",
       "  <thead>\n",
       "    <tr style=\"text-align: right;\">\n",
       "      <th></th>\n",
       "      <th>Country/Region</th>\n",
       "      <th>Cases</th>\n",
       "      <th>Deaths</th>\n",
       "      <th>PCases</th>\n",
       "      <th>PDeaths</th>\n",
       "      <th>Cases (+)</th>\n",
       "      <th>Deaths (+)</th>\n",
       "      <th>Fatality Rate</th>\n",
       "      <th>Continent</th>\n",
       "    </tr>\n",
       "  </thead>\n",
       "  <tbody>\n",
       "    <tr>\n",
       "      <th>0</th>\n",
       "      <td>US</td>\n",
       "      <td>87217673</td>\n",
       "      <td>1016757</td>\n",
       "      <td>87092233</td>\n",
       "      <td>1016208</td>\n",
       "      <td>125440</td>\n",
       "      <td>549</td>\n",
       "      <td>1.2</td>\n",
       "      <td>North America</td>\n",
       "    </tr>\n",
       "    <tr>\n",
       "      <th>1</th>\n",
       "      <td>India</td>\n",
       "      <td>43433345</td>\n",
       "      <td>525077</td>\n",
       "      <td>43418839</td>\n",
       "      <td>525047</td>\n",
       "      <td>14506</td>\n",
       "      <td>30</td>\n",
       "      <td>1.2</td>\n",
       "      <td>Asia</td>\n",
       "    </tr>\n",
       "    <tr>\n",
       "      <th>2</th>\n",
       "      <td>Brazil</td>\n",
       "      <td>32206954</td>\n",
       "      <td>670848</td>\n",
       "      <td>32130316</td>\n",
       "      <td>670532</td>\n",
       "      <td>76638</td>\n",
       "      <td>316</td>\n",
       "      <td>2.1</td>\n",
       "      <td>South America</td>\n",
       "    </tr>\n",
       "    <tr>\n",
       "      <th>3</th>\n",
       "      <td>France</td>\n",
       "      <td>31027099</td>\n",
       "      <td>150482</td>\n",
       "      <td>30879062</td>\n",
       "      <td>150445</td>\n",
       "      <td>148037</td>\n",
       "      <td>37</td>\n",
       "      <td>0.5</td>\n",
       "      <td>Europe</td>\n",
       "    </tr>\n",
       "    <tr>\n",
       "      <th>4</th>\n",
       "      <td>Germany</td>\n",
       "      <td>28048190</td>\n",
       "      <td>141022</td>\n",
       "      <td>27914240</td>\n",
       "      <td>140847</td>\n",
       "      <td>133950</td>\n",
       "      <td>175</td>\n",
       "      <td>0.5</td>\n",
       "      <td>Europe</td>\n",
       "    </tr>\n",
       "  </tbody>\n",
       "</table>\n",
       "</div>"
      ],
      "text/plain": [
       "  Country/Region     Cases   Deaths    PCases  PDeaths  Cases (+)  Deaths (+)  \\\n",
       "0             US  87217673  1016757  87092233  1016208     125440         549   \n",
       "1          India  43433345   525077  43418839   525047      14506          30   \n",
       "2         Brazil  32206954   670848  32130316   670532      76638         316   \n",
       "3         France  31027099   150482  30879062   150445     148037          37   \n",
       "4        Germany  28048190   141022  27914240   140847     133950         175   \n",
       "\n",
       "   Fatality Rate      Continent  \n",
       "0            1.2  North America  \n",
       "1            1.2           Asia  \n",
       "2            2.1  South America  \n",
       "3            0.5         Europe  \n",
       "4            0.5         Europe  "
      ]
     },
     "execution_count": 15,
     "metadata": {},
     "output_type": "execute_result"
    }
   ],
   "source": [
    "#hide\n",
    "df_table = (pd.DataFrame(dict(Cases=dfc_cases, Deaths=dfc_deaths, PCases=dfp_cases, PDeaths=dfp_deaths))\n",
    "             .sort_values(by=['Cases', 'Deaths'], ascending=[False, False])\n",
    "             .reset_index())\n",
    "df_table.rename(columns={'index': 'Country/Region'}, inplace=True)\n",
    "for c in 'Cases, Deaths'.split(', '):\n",
    "    df_table[f'{c} (+)'] = (df_table[c] - df_table[f'P{c}']).clip(0)  # DATA BUG\n",
    "df_table['Fatality Rate'] = (100 * df_table['Deaths'] / df_table['Cases']).round(1)\n",
    "df_table['Continent'] = df_table['Country/Region'].map(mapping['map.continent'])\n",
    "df_table.head(5)"
   ]
  },
  {
   "cell_type": "code",
   "execution_count": 16,
   "id": "fewer-occasion",
   "metadata": {
    "execution": {
     "iopub.execute_input": "2022-06-30T00:41:21.763521Z",
     "iopub.status.busy": "2022-06-30T00:41:21.762934Z",
     "iopub.status.idle": "2022-06-30T00:41:21.765359Z",
     "shell.execute_reply": "2022-06-30T00:41:21.764910Z"
    },
    "papermill": {
     "duration": 0.038973,
     "end_time": "2022-06-30T00:41:21.765477",
     "exception": false,
     "start_time": "2022-06-30T00:41:21.726504",
     "status": "completed"
    },
    "tags": []
   },
   "outputs": [],
   "source": [
    "#hide\n",
    "#delete problematic countries from table\n",
    "df_table = df_table[~df_table['Country/Region'].isin(['Cape Verde', 'Cruise Ship', 'Kosovo'])]"
   ]
  },
  {
   "cell_type": "code",
   "execution_count": 17,
   "id": "related-center",
   "metadata": {
    "execution": {
     "iopub.execute_input": "2022-06-30T00:41:21.839127Z",
     "iopub.status.busy": "2022-06-30T00:41:21.838550Z",
     "iopub.status.idle": "2022-06-30T00:41:21.849732Z",
     "shell.execute_reply": "2022-06-30T00:41:21.849171Z"
    },
    "papermill": {
     "duration": 0.053173,
     "end_time": "2022-06-30T00:41:21.849838",
     "exception": false,
     "start_time": "2022-06-30T00:41:21.796665",
     "status": "completed"
    },
    "tags": []
   },
   "outputs": [],
   "source": [
    "#hide\n",
    "metrics = [df_table.columns[index] for index in [1,2,5,6]]\n",
    "# s_china = df_table[df_table['Country/Region'].eq('China')][metrics].sum().add_prefix('China ')\n",
    "s_us = df_table[df_table['Country/Region'].eq('US')][metrics].sum().add_prefix('US ')\n",
    "s_eu = df_table[df_table['Continent'].eq('Europe')][metrics].sum().add_prefix('EU ')\n",
    "s_ind = df_table[df_table['Country/Region'].eq('India')][metrics].sum().add_prefix('India ')\n",
    "summary = {'updated': pd.to_datetime(dt_today), 'since': pd.to_datetime(dt_yday)}\n",
    "summary = {'updated': pd.to_datetime(dt_today), 'since': pd.to_datetime(dt_yday)}\n",
    "summary = {**summary, **df_table[metrics].sum(), **s_ind, **s_us, **s_eu}"
   ]
  },
  {
   "cell_type": "code",
   "execution_count": 18,
   "id": "engaging-syndrome",
   "metadata": {
    "execution": {
     "iopub.execute_input": "2022-06-30T00:41:21.918386Z",
     "iopub.status.busy": "2022-06-30T00:41:21.917739Z",
     "iopub.status.idle": "2022-06-30T00:41:21.935081Z",
     "shell.execute_reply": "2022-06-30T00:41:21.934609Z"
    },
    "papermill": {
     "duration": 0.053924,
     "end_time": "2022-06-30T00:41:21.935229",
     "exception": false,
     "start_time": "2022-06-30T00:41:21.881305",
     "status": "completed"
    },
    "tags": []
   },
   "outputs": [],
   "source": [
    "#hide\n",
    "dft_ct_new_cases = dft_cases.groupby(COL_REGION)[dt_cols].sum().diff(axis=1).fillna(0).astype(int)"
   ]
  },
  {
   "cell_type": "code",
   "execution_count": 19,
   "id": "neutral-assignment",
   "metadata": {
    "execution": {
     "iopub.execute_input": "2022-06-30T00:41:22.011481Z",
     "iopub.status.busy": "2022-06-30T00:41:22.010888Z",
     "iopub.status.idle": "2022-06-30T00:41:22.013548Z",
     "shell.execute_reply": "2022-06-30T00:41:22.012989Z"
    },
    "papermill": {
     "duration": 0.044892,
     "end_time": "2022-06-30T00:41:22.013655",
     "exception": false,
     "start_time": "2022-06-30T00:41:21.968763",
     "status": "completed"
    },
    "tags": []
   },
   "outputs": [],
   "source": [
    "#hide\n",
    "everydaycases = dft_ct_new_cases.cumsum(axis=1)"
   ]
  },
  {
   "cell_type": "code",
   "execution_count": 20,
   "id": "parliamentary-calgary",
   "metadata": {
    "execution": {
     "iopub.execute_input": "2022-06-30T00:41:22.081211Z",
     "iopub.status.busy": "2022-06-30T00:41:22.080645Z",
     "iopub.status.idle": "2022-06-30T00:41:22.635566Z",
     "shell.execute_reply": "2022-06-30T00:41:22.636702Z"
    },
    "papermill": {
     "duration": 0.591623,
     "end_time": "2022-06-30T00:41:22.636839",
     "exception": false,
     "start_time": "2022-06-30T00:41:22.045216",
     "status": "completed"
    },
    "tags": []
   },
   "outputs": [],
   "source": [
    "#hide\n",
    "import pandas as pd\n",
    "import matplotlib.pyplot as plt\n",
    "import matplotlib.ticker as ticker\n",
    "import matplotlib.animation as animation\n",
    "from IPython.display import HTML"
   ]
  },
  {
   "cell_type": "code",
   "execution_count": 21,
   "id": "lasting-extraction",
   "metadata": {
    "execution": {
     "iopub.execute_input": "2022-06-30T00:41:22.706000Z",
     "iopub.status.busy": "2022-06-30T00:41:22.705429Z",
     "iopub.status.idle": "2022-06-30T00:41:22.711709Z",
     "shell.execute_reply": "2022-06-30T00:41:22.712156Z"
    },
    "papermill": {
     "duration": 0.043834,
     "end_time": "2022-06-30T00:41:22.712281",
     "exception": false,
     "start_time": "2022-06-30T00:41:22.668447",
     "status": "completed"
    },
    "tags": []
   },
   "outputs": [],
   "source": [
    "#hide\n",
    "t = everydaycases.stack()"
   ]
  },
  {
   "cell_type": "code",
   "execution_count": 22,
   "id": "premier-sleeve",
   "metadata": {
    "execution": {
     "iopub.execute_input": "2022-06-30T00:41:22.779402Z",
     "iopub.status.busy": "2022-06-30T00:41:22.778828Z",
     "iopub.status.idle": "2022-06-30T00:41:22.790197Z",
     "shell.execute_reply": "2022-06-30T00:41:22.789708Z"
    },
    "papermill": {
     "duration": 0.046604,
     "end_time": "2022-06-30T00:41:22.790308",
     "exception": false,
     "start_time": "2022-06-30T00:41:22.743704",
     "status": "completed"
    },
    "tags": []
   },
   "outputs": [],
   "source": [
    "#hide\n",
    "g = t.reset_index(['Country/Region'])"
   ]
  },
  {
   "cell_type": "code",
   "execution_count": 23,
   "id": "distributed-pittsburgh",
   "metadata": {
    "execution": {
     "iopub.execute_input": "2022-06-30T00:41:22.857242Z",
     "iopub.status.busy": "2022-06-30T00:41:22.856550Z",
     "iopub.status.idle": "2022-06-30T00:41:22.859017Z",
     "shell.execute_reply": "2022-06-30T00:41:22.858528Z"
    },
    "papermill": {
     "duration": 0.037212,
     "end_time": "2022-06-30T00:41:22.859117",
     "exception": false,
     "start_time": "2022-06-30T00:41:22.821905",
     "status": "completed"
    },
    "tags": []
   },
   "outputs": [],
   "source": [
    "#hide\n",
    "g.index.name = 'date'"
   ]
  },
  {
   "cell_type": "code",
   "execution_count": 24,
   "id": "naked-donor",
   "metadata": {
    "execution": {
     "iopub.execute_input": "2022-06-30T00:41:22.931152Z",
     "iopub.status.busy": "2022-06-30T00:41:22.930581Z",
     "iopub.status.idle": "2022-06-30T00:41:22.932374Z",
     "shell.execute_reply": "2022-06-30T00:41:22.932774Z"
    },
    "papermill": {
     "duration": 0.04038,
     "end_time": "2022-06-30T00:41:22.932892",
     "exception": false,
     "start_time": "2022-06-30T00:41:22.892512",
     "status": "completed"
    },
    "tags": []
   },
   "outputs": [],
   "source": [
    "# #hide\n",
    "# g = g.reset_index(['date'])"
   ]
  },
  {
   "cell_type": "code",
   "execution_count": 25,
   "id": "incomplete-mustang",
   "metadata": {
    "execution": {
     "iopub.execute_input": "2022-06-30T00:41:22.999057Z",
     "iopub.status.busy": "2022-06-30T00:41:22.998471Z",
     "iopub.status.idle": "2022-06-30T00:41:23.001227Z",
     "shell.execute_reply": "2022-06-30T00:41:23.000722Z"
    },
    "papermill": {
     "duration": 0.037287,
     "end_time": "2022-06-30T00:41:23.001335",
     "exception": false,
     "start_time": "2022-06-30T00:41:22.964048",
     "status": "completed"
    },
    "tags": []
   },
   "outputs": [],
   "source": [
    "#hide\n",
    "# g.head()"
   ]
  },
  {
   "cell_type": "code",
   "execution_count": 26,
   "id": "specific-kruger",
   "metadata": {
    "execution": {
     "iopub.execute_input": "2022-06-30T00:41:23.081678Z",
     "iopub.status.busy": "2022-06-30T00:41:23.081072Z",
     "iopub.status.idle": "2022-06-30T00:41:23.082723Z",
     "shell.execute_reply": "2022-06-30T00:41:23.086014Z"
    },
    "papermill": {
     "duration": 0.048425,
     "end_time": "2022-06-30T00:41:23.086138",
     "exception": false,
     "start_time": "2022-06-30T00:41:23.037713",
     "status": "completed"
    },
    "tags": []
   },
   "outputs": [],
   "source": [
    "#hide\n",
    "# g.columns = ['date','country','cases']"
   ]
  },
  {
   "cell_type": "code",
   "execution_count": 27,
   "id": "tender-conversion",
   "metadata": {
    "execution": {
     "iopub.execute_input": "2022-06-30T00:41:23.151923Z",
     "iopub.status.busy": "2022-06-30T00:41:23.151310Z",
     "iopub.status.idle": "2022-06-30T00:41:23.153600Z",
     "shell.execute_reply": "2022-06-30T00:41:23.152979Z"
    },
    "papermill": {
     "duration": 0.036571,
     "end_time": "2022-06-30T00:41:23.153706",
     "exception": false,
     "start_time": "2022-06-30T00:41:23.117135",
     "status": "completed"
    },
    "tags": []
   },
   "outputs": [],
   "source": [
    "#hide\n",
    "# g['continent'] = g.country"
   ]
  },
  {
   "cell_type": "code",
   "execution_count": 28,
   "id": "substantial-wilderness",
   "metadata": {
    "execution": {
     "iopub.execute_input": "2022-06-30T00:41:23.229465Z",
     "iopub.status.busy": "2022-06-30T00:41:23.228872Z",
     "iopub.status.idle": "2022-06-30T00:41:23.231252Z",
     "shell.execute_reply": "2022-06-30T00:41:23.230719Z"
    },
    "papermill": {
     "duration": 0.039963,
     "end_time": "2022-06-30T00:41:23.231355",
     "exception": false,
     "start_time": "2022-06-30T00:41:23.191392",
     "status": "completed"
    },
    "tags": []
   },
   "outputs": [],
   "source": [
    "#hide\n",
    "# cols = list(g.columns.values)"
   ]
  },
  {
   "cell_type": "code",
   "execution_count": 29,
   "id": "solved-farming",
   "metadata": {
    "execution": {
     "iopub.execute_input": "2022-06-30T00:41:23.297424Z",
     "iopub.status.busy": "2022-06-30T00:41:23.296829Z",
     "iopub.status.idle": "2022-06-30T00:41:23.299292Z",
     "shell.execute_reply": "2022-06-30T00:41:23.298825Z"
    },
    "papermill": {
     "duration": 0.036837,
     "end_time": "2022-06-30T00:41:23.299397",
     "exception": false,
     "start_time": "2022-06-30T00:41:23.262560",
     "status": "completed"
    },
    "tags": []
   },
   "outputs": [],
   "source": [
    "#hide\n",
    "# cols.insert(0, cols.pop())"
   ]
  },
  {
   "cell_type": "code",
   "execution_count": 30,
   "id": "executed-adoption",
   "metadata": {
    "execution": {
     "iopub.execute_input": "2022-06-30T00:41:23.366170Z",
     "iopub.status.busy": "2022-06-30T00:41:23.365590Z",
     "iopub.status.idle": "2022-06-30T00:41:23.368010Z",
     "shell.execute_reply": "2022-06-30T00:41:23.367569Z"
    },
    "papermill": {
     "duration": 0.037417,
     "end_time": "2022-06-30T00:41:23.368110",
     "exception": false,
     "start_time": "2022-06-30T00:41:23.330693",
     "status": "completed"
    },
    "tags": []
   },
   "outputs": [],
   "source": [
    "#hide\n",
    "# g = g[cols]"
   ]
  },
  {
   "cell_type": "code",
   "execution_count": 31,
   "id": "subject-dublin",
   "metadata": {
    "execution": {
     "iopub.execute_input": "2022-06-30T00:41:23.433968Z",
     "iopub.status.busy": "2022-06-30T00:41:23.433388Z",
     "iopub.status.idle": "2022-06-30T00:41:23.435739Z",
     "shell.execute_reply": "2022-06-30T00:41:23.435303Z"
    },
    "papermill": {
     "duration": 0.03671,
     "end_time": "2022-06-30T00:41:23.435837",
     "exception": false,
     "start_time": "2022-06-30T00:41:23.399127",
     "status": "completed"
    },
    "tags": []
   },
   "outputs": [],
   "source": [
    "#hide\n",
    "# g['continent'] = g['continent'].map(mapping['map.continent'])"
   ]
  },
  {
   "cell_type": "code",
   "execution_count": 32,
   "id": "freelance-scout",
   "metadata": {
    "execution": {
     "iopub.execute_input": "2022-06-30T00:41:23.502034Z",
     "iopub.status.busy": "2022-06-30T00:41:23.501442Z",
     "iopub.status.idle": "2022-06-30T00:41:23.503769Z",
     "shell.execute_reply": "2022-06-30T00:41:23.503237Z"
    },
    "papermill": {
     "duration": 0.036816,
     "end_time": "2022-06-30T00:41:23.503868",
     "exception": false,
     "start_time": "2022-06-30T00:41:23.467052",
     "status": "completed"
    },
    "tags": []
   },
   "outputs": [],
   "source": [
    "#hide\n",
    "# g.head()"
   ]
  },
  {
   "cell_type": "code",
   "execution_count": 33,
   "id": "limited-engine",
   "metadata": {
    "execution": {
     "iopub.execute_input": "2022-06-30T00:41:23.569997Z",
     "iopub.status.busy": "2022-06-30T00:41:23.569406Z",
     "iopub.status.idle": "2022-06-30T00:41:23.572631Z",
     "shell.execute_reply": "2022-06-30T00:41:23.572012Z"
    },
    "papermill": {
     "duration": 0.037671,
     "end_time": "2022-06-30T00:41:23.572737",
     "exception": false,
     "start_time": "2022-06-30T00:41:23.535066",
     "status": "completed"
    },
    "tags": []
   },
   "outputs": [],
   "source": [
    "# hide\n",
    "# g['date'] = g['date'].astype('datetime64[ns]')"
   ]
  },
  {
   "cell_type": "code",
   "execution_count": 34,
   "id": "sophisticated-supervisor",
   "metadata": {
    "execution": {
     "iopub.execute_input": "2022-06-30T00:41:23.644436Z",
     "iopub.status.busy": "2022-06-30T00:41:23.643850Z",
     "iopub.status.idle": "2022-06-30T00:41:23.646357Z",
     "shell.execute_reply": "2022-06-30T00:41:23.645911Z"
    },
    "papermill": {
     "duration": 0.040043,
     "end_time": "2022-06-30T00:41:23.646457",
     "exception": false,
     "start_time": "2022-06-30T00:41:23.606414",
     "status": "completed"
    },
    "tags": []
   },
   "outputs": [],
   "source": [
    "#hide\n",
    "# g['date'] = g.date.dt.dayofyear"
   ]
  },
  {
   "cell_type": "code",
   "execution_count": 35,
   "id": "inside-dubai",
   "metadata": {
    "execution": {
     "iopub.execute_input": "2022-06-30T00:41:23.712840Z",
     "iopub.status.busy": "2022-06-30T00:41:23.712256Z",
     "iopub.status.idle": "2022-06-30T00:41:23.714736Z",
     "shell.execute_reply": "2022-06-30T00:41:23.714275Z"
    },
    "papermill": {
     "duration": 0.036834,
     "end_time": "2022-06-30T00:41:23.714837",
     "exception": false,
     "start_time": "2022-06-30T00:41:23.678003",
     "status": "completed"
    },
    "tags": []
   },
   "outputs": [],
   "source": [
    "#hide\n",
    "# g = g.rename(columns= {'continent':'group','country':'name','cases':'value'})"
   ]
  },
  {
   "cell_type": "code",
   "execution_count": 36,
   "id": "fleet-motorcycle",
   "metadata": {
    "execution": {
     "iopub.execute_input": "2022-06-30T00:41:23.781066Z",
     "iopub.status.busy": "2022-06-30T00:41:23.780483Z",
     "iopub.status.idle": "2022-06-30T00:41:23.782831Z",
     "shell.execute_reply": "2022-06-30T00:41:23.782300Z"
    },
    "papermill": {
     "duration": 0.036783,
     "end_time": "2022-06-30T00:41:23.782930",
     "exception": false,
     "start_time": "2022-06-30T00:41:23.746147",
     "status": "completed"
    },
    "tags": []
   },
   "outputs": [],
   "source": [
    "#hide\n",
    "# cols = ['name','group','day','value']"
   ]
  },
  {
   "cell_type": "code",
   "execution_count": 37,
   "id": "continued-sleeping",
   "metadata": {
    "execution": {
     "iopub.execute_input": "2022-06-30T00:41:23.849736Z",
     "iopub.status.busy": "2022-06-30T00:41:23.849117Z",
     "iopub.status.idle": "2022-06-30T00:41:23.851811Z",
     "shell.execute_reply": "2022-06-30T00:41:23.851121Z"
    },
    "papermill": {
     "duration": 0.037641,
     "end_time": "2022-06-30T00:41:23.851921",
     "exception": false,
     "start_time": "2022-06-30T00:41:23.814280",
     "status": "completed"
    },
    "tags": []
   },
   "outputs": [],
   "source": [
    "#hide\n",
    "# g.rename(columns= {'date':'day'},inplace = True)"
   ]
  },
  {
   "cell_type": "code",
   "execution_count": 38,
   "id": "major-fight",
   "metadata": {
    "execution": {
     "iopub.execute_input": "2022-06-30T00:41:23.924078Z",
     "iopub.status.busy": "2022-06-30T00:41:23.923498Z",
     "iopub.status.idle": "2022-06-30T00:41:23.928127Z",
     "shell.execute_reply": "2022-06-30T00:41:23.927706Z"
    },
    "papermill": {
     "duration": 0.042126,
     "end_time": "2022-06-30T00:41:23.928230",
     "exception": false,
     "start_time": "2022-06-30T00:41:23.886104",
     "status": "completed"
    },
    "tags": []
   },
   "outputs": [],
   "source": [
    "#hide\n",
    "# g = g[cols]"
   ]
  },
  {
   "cell_type": "code",
   "execution_count": 39,
   "id": "structured-mobile",
   "metadata": {
    "execution": {
     "iopub.execute_input": "2022-06-30T00:41:23.994107Z",
     "iopub.status.busy": "2022-06-30T00:41:23.993349Z",
     "iopub.status.idle": "2022-06-30T00:41:23.995812Z",
     "shell.execute_reply": "2022-06-30T00:41:23.995365Z"
    },
    "papermill": {
     "duration": 0.036674,
     "end_time": "2022-06-30T00:41:23.995911",
     "exception": false,
     "start_time": "2022-06-30T00:41:23.959237",
     "status": "completed"
    },
    "tags": []
   },
   "outputs": [],
   "source": [
    "# #hide\n",
    "# g = g[g.group.notna()]"
   ]
  },
  {
   "cell_type": "code",
   "execution_count": 40,
   "id": "determined-closing",
   "metadata": {
    "execution": {
     "iopub.execute_input": "2022-06-30T00:41:24.074488Z",
     "iopub.status.busy": "2022-06-30T00:41:24.073885Z",
     "iopub.status.idle": "2022-06-30T00:41:24.076159Z",
     "shell.execute_reply": "2022-06-30T00:41:24.075610Z"
    },
    "papermill": {
     "duration": 0.04492,
     "end_time": "2022-06-30T00:41:24.076263",
     "exception": false,
     "start_time": "2022-06-30T00:41:24.031343",
     "status": "completed"
    },
    "tags": []
   },
   "outputs": [],
   "source": [
    "# #hide\n",
    "# colors = dict(zip(\n",
    "#     [\"Oceania\", \"Europe\", \"Asia\", \"South America\", \"Middle East\", \"North America\", \"Africa\"],\n",
    "#     [\"#adb0ff\", \"#ffb3ff\", \"#90d595\", \"#e48381\", \"#aafbff\", \"#f7bb5f\", \"#eafb50\"]\n",
    "# ))\n",
    "# group_lk = g.set_index('name')['group'].to_dict()"
   ]
  },
  {
   "cell_type": "code",
   "execution_count": null,
   "id": "gross-drinking",
   "metadata": {
    "papermill": {
     "duration": 0.031031,
     "end_time": "2022-06-30T00:41:24.138495",
     "exception": false,
     "start_time": "2022-06-30T00:41:24.107464",
     "status": "completed"
    },
    "tags": []
   },
   "outputs": [],
   "source": []
  },
  {
   "cell_type": "code",
   "execution_count": 41,
   "id": "subject-macintosh",
   "metadata": {
    "execution": {
     "iopub.execute_input": "2022-06-30T00:41:24.207966Z",
     "iopub.status.busy": "2022-06-30T00:41:24.207377Z",
     "iopub.status.idle": "2022-06-30T00:41:24.209720Z",
     "shell.execute_reply": "2022-06-30T00:41:24.209205Z"
    },
    "papermill": {
     "duration": 0.040084,
     "end_time": "2022-06-30T00:41:24.209825",
     "exception": false,
     "start_time": "2022-06-30T00:41:24.169741",
     "status": "completed"
    },
    "tags": []
   },
   "outputs": [],
   "source": [
    "# #hide\n",
    "# fig, ax = plt.subplots(figsize=(15, 8))\n",
    "\n",
    "# def draw_barchart(current_day):\n",
    "#     dff = g[g['day'].eq(current_day)].sort_values(by='value', ascending=True).tail(10)\n",
    "#     ax.clear()\n",
    "#     ax.barh(dff['name'], dff['value'], color=[colors[group_lk[x]] for x in dff['name']])\n",
    "#     dx = dff['value'].max() / 200\n",
    "    \n",
    "#     for i, (value, name) in enumerate(zip(dff['value'], dff['name'])):\n",
    "#         ax.text(value-dx, i,     name,           size=14, weight=600, ha='right', va='bottom')\n",
    "#         ax.text(value-dx, i-.25, group_lk[name], size=10, color='#444444', ha='right', va='baseline')\n",
    "#         ax.text(value+dx, i,     f'{value:,.0f}',  size=14, ha='left',  va='center')\n",
    "#     ax.text(1, 0.4, current_day, transform=ax.transAxes, color='#777777', size=46, ha='right', weight=800)\n",
    "#     ax.text(0, 1.06, 'Population (thousands)', transform=ax.transAxes, size=12, color='#777777')\n",
    "#     ax.xaxis.set_major_formatter(ticker.StrMethodFormatter('{x:,.0f}'))\n",
    "#     ax.xaxis.set_ticks_position('top')\n",
    "#     ax.tick_params(axis='x', colors='#777777', labelsize=12)\n",
    "#     ax.set_yticks([])\n",
    "#     ax.margins(0, 0.01)\n",
    "#     ax.grid(which='major', axis='x', linestyle='-')\n",
    "#     ax.set_axisbelow(True)\n",
    "    \n",
    "#     ax.text(0, 1.15, 'Coronavirus',\n",
    "#             transform=ax.transAxes, size=24, weight=600, ha='left', va='top')\n",
    "# #     ax.text(1, 0, 'by @pratapvardhan; credit @jburnmurdoch', transform=ax.transAxes, color='#777777', ha='right',\n",
    "# #             bbox=dict(facecolor='white', alpha=0.8, edgecolor='white'))\n",
    "#     plt.box(False)"
   ]
  },
  {
   "cell_type": "code",
   "execution_count": 42,
   "id": "sexual-wages",
   "metadata": {
    "execution": {
     "iopub.execute_input": "2022-06-30T00:41:24.277305Z",
     "iopub.status.busy": "2022-06-30T00:41:24.276714Z",
     "iopub.status.idle": "2022-06-30T00:41:24.278994Z",
     "shell.execute_reply": "2022-06-30T00:41:24.279404Z"
    },
    "papermill": {
     "duration": 0.038439,
     "end_time": "2022-06-30T00:41:24.279527",
     "exception": false,
     "start_time": "2022-06-30T00:41:24.241088",
     "status": "completed"
    },
    "tags": []
   },
   "outputs": [],
   "source": [
    "# #hide_input\n",
    "# fig, ax = plt.subplots(figsize=(15, 8))\n",
    "# animator = animation.FuncAnimation(fig, draw_barchart, frames=range(g.day.values.min(), g.day.values.max()))\n",
    "# HTML(animator.to_jshtml())\n",
    "# # or use animator.to_html5_video() or animator.save() "
   ]
  },
  {
   "cell_type": "code",
   "execution_count": null,
   "id": "australian-container",
   "metadata": {
    "papermill": {
     "duration": 0.031488,
     "end_time": "2022-06-30T00:41:24.342497",
     "exception": false,
     "start_time": "2022-06-30T00:41:24.311009",
     "status": "completed"
    },
    "tags": []
   },
   "outputs": [],
   "source": []
  },
  {
   "cell_type": "code",
   "execution_count": null,
   "id": "mediterranean-pontiac",
   "metadata": {
    "papermill": {
     "duration": 0.031161,
     "end_time": "2022-06-30T00:41:24.404778",
     "exception": false,
     "start_time": "2022-06-30T00:41:24.373617",
     "status": "completed"
    },
    "tags": []
   },
   "outputs": [],
   "source": []
  },
  {
   "cell_type": "code",
   "execution_count": null,
   "id": "aging-legislature",
   "metadata": {
    "papermill": {
     "duration": 0.031215,
     "end_time": "2022-06-30T00:41:24.467383",
     "exception": false,
     "start_time": "2022-06-30T00:41:24.436168",
     "status": "completed"
    },
    "tags": []
   },
   "outputs": [],
   "source": []
  }
 ],
 "metadata": {
  "kernelspec": {
   "display_name": "Python 3",
   "language": "python",
   "name": "python3"
  },
  "language_info": {
   "codemirror_mode": {
    "name": "ipython",
    "version": 3
   },
   "file_extension": ".py",
   "mimetype": "text/x-python",
   "name": "python",
   "nbconvert_exporter": "python",
   "pygments_lexer": "ipython3",
   "version": "3.6.15"
  },
  "papermill": {
   "duration": 6.088374,
   "end_time": "2022-06-30T00:41:24.816284",
   "environment_variables": {},
   "exception": null,
   "input_path": "2020-03-21-covid19exp.ipynb",
   "output_path": "2020-03-21-covid19exp.ipynb",
   "parameters": {},
   "start_time": "2022-06-30T00:41:18.727910",
   "version": "2.0.0"
  }
 },
 "nbformat": 4,
 "nbformat_minor": 5
}