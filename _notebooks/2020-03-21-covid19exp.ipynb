{
 "cells": [
  {
   "cell_type": "markdown",
   "id": "muslim-click",
   "metadata": {
    "papermill": {
     "duration": 0.043938,
     "end_time": "2022-08-22T00:46:33.136837",
     "exception": false,
     "start_time": "2022-08-22T00:46:33.092899",
     "status": "completed"
    },
    "tags": []
   },
   "source": [
    "# COVID-19 Case Race\n",
    "> A race chart to see rising cases around the world\n",
    "\n",
    "- author: Hargun Oberoi\n",
    "- image: images/covid-overview.png\n",
    "- hide: false\n",
    "- badges: false"
   ]
  },
  {
   "cell_type": "code",
   "execution_count": 1,
   "id": "proof-material",
   "metadata": {
    "execution": {
     "iopub.execute_input": "2022-08-22T00:46:33.219201Z",
     "iopub.status.busy": "2022-08-22T00:46:33.218416Z",
     "iopub.status.idle": "2022-08-22T00:46:33.602033Z",
     "shell.execute_reply": "2022-08-22T00:46:33.601445Z"
    },
    "papermill": {
     "duration": 0.431225,
     "end_time": "2022-08-22T00:46:33.602189",
     "exception": false,
     "start_time": "2022-08-22T00:46:33.170964",
     "status": "completed"
    },
    "tags": []
   },
   "outputs": [],
   "source": [
    "#hide\n",
    "import numpy as np\n",
    "import pandas as pd\n",
    "from jinja2 import Template\n",
    "from IPython.display import HTML"
   ]
  },
  {
   "cell_type": "code",
   "execution_count": 2,
   "id": "developed-terminology",
   "metadata": {
    "execution": {
     "iopub.execute_input": "2022-08-22T00:46:33.676303Z",
     "iopub.status.busy": "2022-08-22T00:46:33.675564Z",
     "iopub.status.idle": "2022-08-22T00:46:33.678270Z",
     "shell.execute_reply": "2022-08-22T00:46:33.677591Z"
    },
    "papermill": {
     "duration": 0.042249,
     "end_time": "2022-08-22T00:46:33.678399",
     "exception": false,
     "start_time": "2022-08-22T00:46:33.636150",
     "status": "completed"
    },
    "tags": []
   },
   "outputs": [],
   "source": [
    "#hide\n",
    "\n",
    "# FETCH\n",
    "base_url = 'https://raw.githubusercontent.com/pratapvardhan/notebooks/master/covid19/'\n",
    "paths = {\n",
    "    'mapping': base_url + 'mapping_countries.csv',\n",
    "    'overview': base_url + 'overview.tpl'\n",
    "}"
   ]
  },
  {
   "cell_type": "code",
   "execution_count": 3,
   "id": "dynamic-saver",
   "metadata": {
    "execution": {
     "iopub.execute_input": "2022-08-22T00:46:33.759727Z",
     "iopub.status.busy": "2022-08-22T00:46:33.754999Z",
     "iopub.status.idle": "2022-08-22T00:46:33.763545Z",
     "shell.execute_reply": "2022-08-22T00:46:33.762869Z"
    },
    "papermill": {
     "duration": 0.051634,
     "end_time": "2022-08-22T00:46:33.763678",
     "exception": false,
     "start_time": "2022-08-22T00:46:33.712044",
     "status": "completed"
    },
    "tags": []
   },
   "outputs": [
    {
     "data": {
      "text/plain": [
       "'https://raw.githubusercontent.com/pratapvardhan/notebooks/master/covid19/mapping_countries.csv'"
      ]
     },
     "execution_count": 3,
     "metadata": {},
     "output_type": "execute_result"
    }
   ],
   "source": [
    "#hide\n",
    "paths['mapping']"
   ]
  },
  {
   "cell_type": "code",
   "execution_count": 4,
   "id": "urban-software",
   "metadata": {
    "execution": {
     "iopub.execute_input": "2022-08-22T00:46:33.838379Z",
     "iopub.status.busy": "2022-08-22T00:46:33.837659Z",
     "iopub.status.idle": "2022-08-22T00:46:33.840461Z",
     "shell.execute_reply": "2022-08-22T00:46:33.839782Z"
    },
    "papermill": {
     "duration": 0.042996,
     "end_time": "2022-08-22T00:46:33.840592",
     "exception": false,
     "start_time": "2022-08-22T00:46:33.797596",
     "status": "completed"
    },
    "tags": []
   },
   "outputs": [],
   "source": [
    "#hide\n",
    "def get_mappings(url):\n",
    "    df = pd.read_csv(url)\n",
    "    return {\n",
    "        'df': df,\n",
    "        'replace.country': dict(df.dropna(subset=['Name']).set_index('Country')['Name']),\n",
    "        'map.continent': dict(df.set_index('Name')['Continent'])\n",
    "    }"
   ]
  },
  {
   "cell_type": "code",
   "execution_count": 5,
   "id": "intimate-machinery",
   "metadata": {
    "execution": {
     "iopub.execute_input": "2022-08-22T00:46:33.914475Z",
     "iopub.status.busy": "2022-08-22T00:46:33.913768Z",
     "iopub.status.idle": "2022-08-22T00:46:33.945361Z",
     "shell.execute_reply": "2022-08-22T00:46:33.944753Z"
    },
    "papermill": {
     "duration": 0.071252,
     "end_time": "2022-08-22T00:46:33.945500",
     "exception": false,
     "start_time": "2022-08-22T00:46:33.874248",
     "status": "completed"
    },
    "tags": []
   },
   "outputs": [],
   "source": [
    "#hide\n",
    "mapping = get_mappings(paths['mapping'])"
   ]
  },
  {
   "cell_type": "code",
   "execution_count": 6,
   "id": "certified-tactics",
   "metadata": {
    "execution": {
     "iopub.execute_input": "2022-08-22T00:46:34.020724Z",
     "iopub.status.busy": "2022-08-22T00:46:34.020030Z",
     "iopub.status.idle": "2022-08-22T00:46:34.022790Z",
     "shell.execute_reply": "2022-08-22T00:46:34.023329Z"
    },
    "papermill": {
     "duration": 0.044271,
     "end_time": "2022-08-22T00:46:34.023481",
     "exception": false,
     "start_time": "2022-08-22T00:46:33.979210",
     "status": "completed"
    },
    "tags": []
   },
   "outputs": [],
   "source": [
    "#hide\n",
    "def get_template(path):\n",
    "    from urllib.parse import urlparse\n",
    "    if bool(urlparse(path).netloc):\n",
    "        from urllib.request import urlopen\n",
    "        return urlopen(path).read().decode('utf8')\n",
    "    return open(path).read()"
   ]
  },
  {
   "cell_type": "code",
   "execution_count": 7,
   "id": "realistic-blast",
   "metadata": {
    "execution": {
     "iopub.execute_input": "2022-08-22T00:46:34.099200Z",
     "iopub.status.busy": "2022-08-22T00:46:34.098461Z",
     "iopub.status.idle": "2022-08-22T00:46:34.100766Z",
     "shell.execute_reply": "2022-08-22T00:46:34.101324Z"
    },
    "papermill": {
     "duration": 0.044287,
     "end_time": "2022-08-22T00:46:34.101473",
     "exception": false,
     "start_time": "2022-08-22T00:46:34.057186",
     "status": "completed"
    },
    "tags": []
   },
   "outputs": [],
   "source": [
    "#hide\n",
    "def get_frame(name):\n",
    "    url = (\n",
    "        'https://raw.githubusercontent.com/CSSEGISandData/COVID-19/master/csse_covid_19_data/'\n",
    "        f'csse_covid_19_time_series/time_series_covid19_{name}_global.csv')\n",
    "    df = pd.read_csv(url)\n",
    "    # rename countries\n",
    "    df['Country/Region'] = df['Country/Region'].replace(mapping['replace.country'])\n",
    "    return df"
   ]
  },
  {
   "cell_type": "code",
   "execution_count": 8,
   "id": "affiliated-characterization",
   "metadata": {
    "execution": {
     "iopub.execute_input": "2022-08-22T00:46:34.179201Z",
     "iopub.status.busy": "2022-08-22T00:46:34.178447Z",
     "iopub.status.idle": "2022-08-22T00:46:34.182263Z",
     "shell.execute_reply": "2022-08-22T00:46:34.181710Z"
    },
    "papermill": {
     "duration": 0.047066,
     "end_time": "2022-08-22T00:46:34.182392",
     "exception": false,
     "start_time": "2022-08-22T00:46:34.135326",
     "status": "completed"
    },
    "tags": []
   },
   "outputs": [],
   "source": [
    "#hide\n",
    "def get_dates(df):\n",
    "    dt_cols = df.columns[~df.columns.isin(['Province/State', 'Country/Region', 'Lat', 'Long'])]\n",
    "    LAST_DATE_I = -1\n",
    "    # sometimes last column may be empty, then go backwards\n",
    "    for i in range(-1, -len(dt_cols), -1):\n",
    "        if not df[dt_cols[i]].fillna(0).eq(0).all():\n",
    "            LAST_DATE_I = i\n",
    "            break\n",
    "    return LAST_DATE_I, dt_cols"
   ]
  },
  {
   "cell_type": "code",
   "execution_count": 9,
   "id": "recent-optimization",
   "metadata": {
    "execution": {
     "iopub.execute_input": "2022-08-22T00:46:34.257822Z",
     "iopub.status.busy": "2022-08-22T00:46:34.257117Z",
     "iopub.status.idle": "2022-08-22T00:46:34.718005Z",
     "shell.execute_reply": "2022-08-22T00:46:34.717047Z"
    },
    "papermill": {
     "duration": 0.502277,
     "end_time": "2022-08-22T00:46:34.718232",
     "exception": false,
     "start_time": "2022-08-22T00:46:34.215955",
     "status": "completed"
    },
    "tags": []
   },
   "outputs": [],
   "source": [
    "#hide\n",
    "COL_REGION = 'Country/Region'\n",
    "# Confirmed, Recovered, Deaths\n",
    "df = get_frame('confirmed')\n",
    "# dft_: timeseries, dfc_: today country agg\n",
    "dft_cases = df\n",
    "dft_deaths = get_frame('deaths')\n",
    "dft_recovered = get_frame('recovered')\n",
    "LAST_DATE_I, dt_cols = get_dates(df)"
   ]
  },
  {
   "cell_type": "code",
   "execution_count": 10,
   "id": "absolute-copper",
   "metadata": {
    "execution": {
     "iopub.execute_input": "2022-08-22T00:46:34.794904Z",
     "iopub.status.busy": "2022-08-22T00:46:34.794171Z",
     "iopub.status.idle": "2022-08-22T00:46:34.796856Z",
     "shell.execute_reply": "2022-08-22T00:46:34.797405Z"
    },
    "papermill": {
     "duration": 0.043839,
     "end_time": "2022-08-22T00:46:34.797555",
     "exception": false,
     "start_time": "2022-08-22T00:46:34.753716",
     "status": "completed"
    },
    "tags": []
   },
   "outputs": [],
   "source": [
    "#hide\n",
    "LAST_DATE_I, dt_cols = get_dates(df)\n",
    "dt_today =dt_cols[LAST_DATE_I]\n",
    "# dt_5day = dt_cols[LAST_DATE_I - 5]\n",
    "dt_yday = dt_cols[LAST_DATE_I - 1]"
   ]
  },
  {
   "cell_type": "code",
   "execution_count": 11,
   "id": "restricted-sheriff",
   "metadata": {
    "execution": {
     "iopub.execute_input": "2022-08-22T00:46:34.874505Z",
     "iopub.status.busy": "2022-08-22T00:46:34.873804Z",
     "iopub.status.idle": "2022-08-22T00:46:34.882279Z",
     "shell.execute_reply": "2022-08-22T00:46:34.881606Z"
    },
    "papermill": {
     "duration": 0.051291,
     "end_time": "2022-08-22T00:46:34.882413",
     "exception": false,
     "start_time": "2022-08-22T00:46:34.831122",
     "status": "completed"
    },
    "tags": []
   },
   "outputs": [],
   "source": [
    "#hide\n",
    "dfc_cases = dft_cases.groupby(COL_REGION)[dt_today].sum()\n",
    "dfc_deaths = dft_deaths.groupby(COL_REGION)[dt_today].sum()\n",
    "# dfp_cases = dft_cases.groupby(COL_REGION)[dt_5day].sum()\n",
    "# dfp_deaths = dft_deaths.groupby(COL_REGION)[dt_5day].sum()\n",
    "dfp_cases = dft_cases.groupby(COL_REGION)[dt_yday].sum()\n",
    "dfp_deaths = dft_deaths.groupby(COL_REGION)[dt_yday].sum()"
   ]
  },
  {
   "cell_type": "code",
   "execution_count": 12,
   "id": "deluxe-hepatitis",
   "metadata": {
    "execution": {
     "iopub.execute_input": "2022-08-22T00:46:34.958011Z",
     "iopub.status.busy": "2022-08-22T00:46:34.957319Z",
     "iopub.status.idle": "2022-08-22T00:46:34.962213Z",
     "shell.execute_reply": "2022-08-22T00:46:34.962895Z"
    },
    "papermill": {
     "duration": 0.046842,
     "end_time": "2022-08-22T00:46:34.963053",
     "exception": false,
     "start_time": "2022-08-22T00:46:34.916211",
     "status": "completed"
    },
    "tags": []
   },
   "outputs": [],
   "source": [
    "#hide\n",
    "df_table = (pd.DataFrame(dict(Cases = dfc_cases, Deaths = dfc_deaths, PCases = dfp_cases, PDeaths = dfp_deaths))\n",
    "            .sort_values(by = ['Cases','Deaths'], ascending = [False, False])\n",
    "            .reset_index())"
   ]
  },
  {
   "cell_type": "code",
   "execution_count": 13,
   "id": "educational-chancellor",
   "metadata": {
    "execution": {
     "iopub.execute_input": "2022-08-22T00:46:35.051440Z",
     "iopub.status.busy": "2022-08-22T00:46:35.050718Z",
     "iopub.status.idle": "2022-08-22T00:46:35.060939Z",
     "shell.execute_reply": "2022-08-22T00:46:35.060378Z"
    },
    "papermill": {
     "duration": 0.06445,
     "end_time": "2022-08-22T00:46:35.061075",
     "exception": false,
     "start_time": "2022-08-22T00:46:34.996625",
     "status": "completed"
    },
    "tags": []
   },
   "outputs": [
    {
     "data": {
      "text/html": [
       "<div>\n",
       "<style scoped>\n",
       "    .dataframe tbody tr th:only-of-type {\n",
       "        vertical-align: middle;\n",
       "    }\n",
       "\n",
       "    .dataframe tbody tr th {\n",
       "        vertical-align: top;\n",
       "    }\n",
       "\n",
       "    .dataframe thead th {\n",
       "        text-align: right;\n",
       "    }\n",
       "</style>\n",
       "<table border=\"1\" class=\"dataframe\">\n",
       "  <thead>\n",
       "    <tr style=\"text-align: right;\">\n",
       "      <th></th>\n",
       "      <th>Country/Region</th>\n",
       "      <th>Cases</th>\n",
       "      <th>Deaths</th>\n",
       "      <th>PCases</th>\n",
       "      <th>PDeaths</th>\n",
       "      <th>Cases (+)</th>\n",
       "      <th>Deaths (+)</th>\n",
       "      <th>Fatality Rate</th>\n",
       "      <th>Continent</th>\n",
       "    </tr>\n",
       "  </thead>\n",
       "  <tbody>\n",
       "    <tr>\n",
       "      <th>0</th>\n",
       "      <td>US</td>\n",
       "      <td>93509836</td>\n",
       "      <td>1040379</td>\n",
       "      <td>93500945</td>\n",
       "      <td>1040355</td>\n",
       "      <td>8891</td>\n",
       "      <td>24</td>\n",
       "      <td>1.11</td>\n",
       "      <td>North America</td>\n",
       "    </tr>\n",
       "    <tr>\n",
       "      <th>1</th>\n",
       "      <td>India</td>\n",
       "      <td>44339429</td>\n",
       "      <td>527332</td>\n",
       "      <td>44327890</td>\n",
       "      <td>527289</td>\n",
       "      <td>11539</td>\n",
       "      <td>43</td>\n",
       "      <td>1.19</td>\n",
       "      <td>Asia</td>\n",
       "    </tr>\n",
       "    <tr>\n",
       "      <th>2</th>\n",
       "      <td>France</td>\n",
       "      <td>34535255</td>\n",
       "      <td>154541</td>\n",
       "      <td>34535255</td>\n",
       "      <td>154541</td>\n",
       "      <td>0</td>\n",
       "      <td>0</td>\n",
       "      <td>0.45</td>\n",
       "      <td>Europe</td>\n",
       "    </tr>\n",
       "    <tr>\n",
       "      <th>3</th>\n",
       "      <td>Brazil</td>\n",
       "      <td>34264237</td>\n",
       "      <td>682358</td>\n",
       "      <td>34264237</td>\n",
       "      <td>682358</td>\n",
       "      <td>0</td>\n",
       "      <td>0</td>\n",
       "      <td>1.99</td>\n",
       "      <td>South America</td>\n",
       "    </tr>\n",
       "    <tr>\n",
       "      <th>4</th>\n",
       "      <td>Germany</td>\n",
       "      <td>31808179</td>\n",
       "      <td>146504</td>\n",
       "      <td>31808179</td>\n",
       "      <td>146504</td>\n",
       "      <td>0</td>\n",
       "      <td>0</td>\n",
       "      <td>0.46</td>\n",
       "      <td>Europe</td>\n",
       "    </tr>\n",
       "  </tbody>\n",
       "</table>\n",
       "</div>"
      ],
      "text/plain": [
       "  Country/Region     Cases   Deaths    PCases  PDeaths  Cases (+)  Deaths (+)  \\\n",
       "0             US  93509836  1040379  93500945  1040355       8891          24   \n",
       "1          India  44339429   527332  44327890   527289      11539          43   \n",
       "2         France  34535255   154541  34535255   154541          0           0   \n",
       "3         Brazil  34264237   682358  34264237   682358          0           0   \n",
       "4        Germany  31808179   146504  31808179   146504          0           0   \n",
       "\n",
       "   Fatality Rate      Continent  \n",
       "0           1.11  North America  \n",
       "1           1.19           Asia  \n",
       "2           0.45         Europe  \n",
       "3           1.99  South America  \n",
       "4           0.46         Europe  "
      ]
     },
     "execution_count": 13,
     "metadata": {},
     "output_type": "execute_result"
    }
   ],
   "source": [
    "#hide\n",
    "for c in 'Cases, Deaths'.split(', '):\n",
    "    df_table[f'{c} (+)'] = (df_table[c] - df_table[f'P{c}']).clip(0)\n",
    "    #Clip ça veut dire, les chiffres negatif sont interdit\n",
    "df_table['Fatality Rate'] = (100* df_table['Deaths']/ df_table['Cases']).round(2)\n",
    "df_table['Continent'] = df_table['Country/Region'].map(mapping['map.continent'])\n",
    "df_table.head(5)"
   ]
  },
  {
   "cell_type": "code",
   "execution_count": 14,
   "id": "aboriginal-bulgaria",
   "metadata": {
    "execution": {
     "iopub.execute_input": "2022-08-22T00:46:35.139026Z",
     "iopub.status.busy": "2022-08-22T00:46:35.138261Z",
     "iopub.status.idle": "2022-08-22T00:46:35.141091Z",
     "shell.execute_reply": "2022-08-22T00:46:35.140425Z"
    },
    "papermill": {
     "duration": 0.045154,
     "end_time": "2022-08-22T00:46:35.141222",
     "exception": false,
     "start_time": "2022-08-22T00:46:35.096068",
     "status": "completed"
    },
    "tags": []
   },
   "outputs": [],
   "source": [
    "#hide\n",
    "#delete problematic countries from table\n",
    "df_table = df_table[~df_table['Country/Region'].isin(['Cape Verde', 'Cruise Ship', 'Kosovo'])]"
   ]
  },
  {
   "cell_type": "code",
   "execution_count": 15,
   "id": "fantastic-effect",
   "metadata": {
    "execution": {
     "iopub.execute_input": "2022-08-22T00:46:35.221309Z",
     "iopub.status.busy": "2022-08-22T00:46:35.218734Z",
     "iopub.status.idle": "2022-08-22T00:46:35.240946Z",
     "shell.execute_reply": "2022-08-22T00:46:35.241504Z"
    },
    "papermill": {
     "duration": 0.065869,
     "end_time": "2022-08-22T00:46:35.241658",
     "exception": false,
     "start_time": "2022-08-22T00:46:35.175789",
     "status": "completed"
    },
    "tags": []
   },
   "outputs": [
    {
     "data": {
      "text/html": [
       "<div>\n",
       "<style scoped>\n",
       "    .dataframe tbody tr th:only-of-type {\n",
       "        vertical-align: middle;\n",
       "    }\n",
       "\n",
       "    .dataframe tbody tr th {\n",
       "        vertical-align: top;\n",
       "    }\n",
       "\n",
       "    .dataframe thead th {\n",
       "        text-align: right;\n",
       "    }\n",
       "</style>\n",
       "<table border=\"1\" class=\"dataframe\">\n",
       "  <thead>\n",
       "    <tr style=\"text-align: right;\">\n",
       "      <th></th>\n",
       "      <th>Country/Region</th>\n",
       "      <th>Cases</th>\n",
       "      <th>Deaths</th>\n",
       "      <th>PCases</th>\n",
       "      <th>PDeaths</th>\n",
       "      <th>Cases (+)</th>\n",
       "      <th>Deaths (+)</th>\n",
       "      <th>Fatality Rate</th>\n",
       "      <th>Continent</th>\n",
       "    </tr>\n",
       "  </thead>\n",
       "  <tbody>\n",
       "    <tr>\n",
       "      <th>0</th>\n",
       "      <td>US</td>\n",
       "      <td>93509836</td>\n",
       "      <td>1040379</td>\n",
       "      <td>93500945</td>\n",
       "      <td>1040355</td>\n",
       "      <td>8891</td>\n",
       "      <td>24</td>\n",
       "      <td>1.1</td>\n",
       "      <td>North America</td>\n",
       "    </tr>\n",
       "    <tr>\n",
       "      <th>1</th>\n",
       "      <td>India</td>\n",
       "      <td>44339429</td>\n",
       "      <td>527332</td>\n",
       "      <td>44327890</td>\n",
       "      <td>527289</td>\n",
       "      <td>11539</td>\n",
       "      <td>43</td>\n",
       "      <td>1.2</td>\n",
       "      <td>Asia</td>\n",
       "    </tr>\n",
       "    <tr>\n",
       "      <th>2</th>\n",
       "      <td>France</td>\n",
       "      <td>34535255</td>\n",
       "      <td>154541</td>\n",
       "      <td>34535255</td>\n",
       "      <td>154541</td>\n",
       "      <td>0</td>\n",
       "      <td>0</td>\n",
       "      <td>0.4</td>\n",
       "      <td>Europe</td>\n",
       "    </tr>\n",
       "    <tr>\n",
       "      <th>3</th>\n",
       "      <td>Brazil</td>\n",
       "      <td>34264237</td>\n",
       "      <td>682358</td>\n",
       "      <td>34264237</td>\n",
       "      <td>682358</td>\n",
       "      <td>0</td>\n",
       "      <td>0</td>\n",
       "      <td>2.0</td>\n",
       "      <td>South America</td>\n",
       "    </tr>\n",
       "    <tr>\n",
       "      <th>4</th>\n",
       "      <td>Germany</td>\n",
       "      <td>31808179</td>\n",
       "      <td>146504</td>\n",
       "      <td>31808179</td>\n",
       "      <td>146504</td>\n",
       "      <td>0</td>\n",
       "      <td>0</td>\n",
       "      <td>0.5</td>\n",
       "      <td>Europe</td>\n",
       "    </tr>\n",
       "  </tbody>\n",
       "</table>\n",
       "</div>"
      ],
      "text/plain": [
       "  Country/Region     Cases   Deaths    PCases  PDeaths  Cases (+)  Deaths (+)  \\\n",
       "0             US  93509836  1040379  93500945  1040355       8891          24   \n",
       "1          India  44339429   527332  44327890   527289      11539          43   \n",
       "2         France  34535255   154541  34535255   154541          0           0   \n",
       "3         Brazil  34264237   682358  34264237   682358          0           0   \n",
       "4        Germany  31808179   146504  31808179   146504          0           0   \n",
       "\n",
       "   Fatality Rate      Continent  \n",
       "0            1.1  North America  \n",
       "1            1.2           Asia  \n",
       "2            0.4         Europe  \n",
       "3            2.0  South America  \n",
       "4            0.5         Europe  "
      ]
     },
     "execution_count": 15,
     "metadata": {},
     "output_type": "execute_result"
    }
   ],
   "source": [
    "#hide\n",
    "df_table = (pd.DataFrame(dict(Cases=dfc_cases, Deaths=dfc_deaths, PCases=dfp_cases, PDeaths=dfp_deaths))\n",
    "             .sort_values(by=['Cases', 'Deaths'], ascending=[False, False])\n",
    "             .reset_index())\n",
    "df_table.rename(columns={'index': 'Country/Region'}, inplace=True)\n",
    "for c in 'Cases, Deaths'.split(', '):\n",
    "    df_table[f'{c} (+)'] = (df_table[c] - df_table[f'P{c}']).clip(0)  # DATA BUG\n",
    "df_table['Fatality Rate'] = (100 * df_table['Deaths'] / df_table['Cases']).round(1)\n",
    "df_table['Continent'] = df_table['Country/Region'].map(mapping['map.continent'])\n",
    "df_table.head(5)"
   ]
  },
  {
   "cell_type": "code",
   "execution_count": 16,
   "id": "fewer-occasion",
   "metadata": {
    "execution": {
     "iopub.execute_input": "2022-08-22T00:46:35.321205Z",
     "iopub.status.busy": "2022-08-22T00:46:35.320488Z",
     "iopub.status.idle": "2022-08-22T00:46:35.323285Z",
     "shell.execute_reply": "2022-08-22T00:46:35.322581Z"
    },
    "papermill": {
     "duration": 0.046767,
     "end_time": "2022-08-22T00:46:35.323417",
     "exception": false,
     "start_time": "2022-08-22T00:46:35.276650",
     "status": "completed"
    },
    "tags": []
   },
   "outputs": [],
   "source": [
    "#hide\n",
    "#delete problematic countries from table\n",
    "df_table = df_table[~df_table['Country/Region'].isin(['Cape Verde', 'Cruise Ship', 'Kosovo'])]"
   ]
  },
  {
   "cell_type": "code",
   "execution_count": 17,
   "id": "related-center",
   "metadata": {
    "execution": {
     "iopub.execute_input": "2022-08-22T00:46:35.403389Z",
     "iopub.status.busy": "2022-08-22T00:46:35.402670Z",
     "iopub.status.idle": "2022-08-22T00:46:35.417887Z",
     "shell.execute_reply": "2022-08-22T00:46:35.417318Z"
    },
    "papermill": {
     "duration": 0.059909,
     "end_time": "2022-08-22T00:46:35.418017",
     "exception": false,
     "start_time": "2022-08-22T00:46:35.358108",
     "status": "completed"
    },
    "tags": []
   },
   "outputs": [],
   "source": [
    "#hide\n",
    "metrics = [df_table.columns[index] for index in [1,2,5,6]]\n",
    "# s_china = df_table[df_table['Country/Region'].eq('China')][metrics].sum().add_prefix('China ')\n",
    "s_us = df_table[df_table['Country/Region'].eq('US')][metrics].sum().add_prefix('US ')\n",
    "s_eu = df_table[df_table['Continent'].eq('Europe')][metrics].sum().add_prefix('EU ')\n",
    "s_ind = df_table[df_table['Country/Region'].eq('India')][metrics].sum().add_prefix('India ')\n",
    "summary = {'updated': pd.to_datetime(dt_today), 'since': pd.to_datetime(dt_yday)}\n",
    "summary = {'updated': pd.to_datetime(dt_today), 'since': pd.to_datetime(dt_yday)}\n",
    "summary = {**summary, **df_table[metrics].sum(), **s_ind, **s_us, **s_eu}"
   ]
  },
  {
   "cell_type": "code",
   "execution_count": 18,
   "id": "engaging-syndrome",
   "metadata": {
    "execution": {
     "iopub.execute_input": "2022-08-22T00:46:35.494954Z",
     "iopub.status.busy": "2022-08-22T00:46:35.494240Z",
     "iopub.status.idle": "2022-08-22T00:46:35.517791Z",
     "shell.execute_reply": "2022-08-22T00:46:35.517027Z"
    },
    "papermill": {
     "duration": 0.065142,
     "end_time": "2022-08-22T00:46:35.517967",
     "exception": false,
     "start_time": "2022-08-22T00:46:35.452825",
     "status": "completed"
    },
    "tags": []
   },
   "outputs": [],
   "source": [
    "#hide\n",
    "dft_ct_new_cases = dft_cases.groupby(COL_REGION)[dt_cols].sum().diff(axis=1).fillna(0).astype(int)"
   ]
  },
  {
   "cell_type": "code",
   "execution_count": 19,
   "id": "neutral-assignment",
   "metadata": {
    "execution": {
     "iopub.execute_input": "2022-08-22T00:46:35.597138Z",
     "iopub.status.busy": "2022-08-22T00:46:35.596421Z",
     "iopub.status.idle": "2022-08-22T00:46:35.599203Z",
     "shell.execute_reply": "2022-08-22T00:46:35.598636Z"
    },
    "papermill": {
     "duration": 0.045484,
     "end_time": "2022-08-22T00:46:35.599330",
     "exception": false,
     "start_time": "2022-08-22T00:46:35.553846",
     "status": "completed"
    },
    "tags": []
   },
   "outputs": [],
   "source": [
    "#hide\n",
    "everydaycases = dft_ct_new_cases.cumsum(axis=1)"
   ]
  },
  {
   "cell_type": "code",
   "execution_count": 20,
   "id": "parliamentary-calgary",
   "metadata": {
    "execution": {
     "iopub.execute_input": "2022-08-22T00:46:35.675202Z",
     "iopub.status.busy": "2022-08-22T00:46:35.674446Z",
     "iopub.status.idle": "2022-08-22T00:46:36.404846Z",
     "shell.execute_reply": "2022-08-22T00:46:36.404261Z"
    },
    "papermill": {
     "duration": 0.770738,
     "end_time": "2022-08-22T00:46:36.404993",
     "exception": false,
     "start_time": "2022-08-22T00:46:35.634255",
     "status": "completed"
    },
    "tags": []
   },
   "outputs": [],
   "source": [
    "#hide\n",
    "import pandas as pd\n",
    "import matplotlib.pyplot as plt\n",
    "import matplotlib.ticker as ticker\n",
    "import matplotlib.animation as animation\n",
    "from IPython.display import HTML"
   ]
  },
  {
   "cell_type": "code",
   "execution_count": 21,
   "id": "lasting-extraction",
   "metadata": {
    "execution": {
     "iopub.execute_input": "2022-08-22T00:46:36.484056Z",
     "iopub.status.busy": "2022-08-22T00:46:36.483343Z",
     "iopub.status.idle": "2022-08-22T00:46:36.492329Z",
     "shell.execute_reply": "2022-08-22T00:46:36.491798Z"
    },
    "papermill": {
     "duration": 0.052786,
     "end_time": "2022-08-22T00:46:36.492462",
     "exception": false,
     "start_time": "2022-08-22T00:46:36.439676",
     "status": "completed"
    },
    "tags": []
   },
   "outputs": [],
   "source": [
    "#hide\n",
    "t = everydaycases.stack()"
   ]
  },
  {
   "cell_type": "code",
   "execution_count": 22,
   "id": "premier-sleeve",
   "metadata": {
    "execution": {
     "iopub.execute_input": "2022-08-22T00:46:36.568275Z",
     "iopub.status.busy": "2022-08-22T00:46:36.567586Z",
     "iopub.status.idle": "2022-08-22T00:46:36.581308Z",
     "shell.execute_reply": "2022-08-22T00:46:36.580749Z"
    },
    "papermill": {
     "duration": 0.053999,
     "end_time": "2022-08-22T00:46:36.581440",
     "exception": false,
     "start_time": "2022-08-22T00:46:36.527441",
     "status": "completed"
    },
    "tags": []
   },
   "outputs": [],
   "source": [
    "#hide\n",
    "g = t.reset_index(['Country/Region'])"
   ]
  },
  {
   "cell_type": "code",
   "execution_count": 23,
   "id": "distributed-pittsburgh",
   "metadata": {
    "execution": {
     "iopub.execute_input": "2022-08-22T00:46:36.656438Z",
     "iopub.status.busy": "2022-08-22T00:46:36.655480Z",
     "iopub.status.idle": "2022-08-22T00:46:36.660087Z",
     "shell.execute_reply": "2022-08-22T00:46:36.660612Z"
    },
    "papermill": {
     "duration": 0.04483,
     "end_time": "2022-08-22T00:46:36.660761",
     "exception": false,
     "start_time": "2022-08-22T00:46:36.615931",
     "status": "completed"
    },
    "tags": []
   },
   "outputs": [],
   "source": [
    "#hide\n",
    "g.index.name = 'date'"
   ]
  },
  {
   "cell_type": "code",
   "execution_count": 24,
   "id": "naked-donor",
   "metadata": {
    "execution": {
     "iopub.execute_input": "2022-08-22T00:46:36.735973Z",
     "iopub.status.busy": "2022-08-22T00:46:36.735292Z",
     "iopub.status.idle": "2022-08-22T00:46:36.738708Z",
     "shell.execute_reply": "2022-08-22T00:46:36.739373Z"
    },
    "papermill": {
     "duration": 0.044021,
     "end_time": "2022-08-22T00:46:36.739519",
     "exception": false,
     "start_time": "2022-08-22T00:46:36.695498",
     "status": "completed"
    },
    "tags": []
   },
   "outputs": [],
   "source": [
    "# #hide\n",
    "# g = g.reset_index(['date'])"
   ]
  },
  {
   "cell_type": "code",
   "execution_count": 25,
   "id": "incomplete-mustang",
   "metadata": {
    "execution": {
     "iopub.execute_input": "2022-08-22T00:46:36.816467Z",
     "iopub.status.busy": "2022-08-22T00:46:36.815467Z",
     "iopub.status.idle": "2022-08-22T00:46:36.817536Z",
     "shell.execute_reply": "2022-08-22T00:46:36.818269Z"
    },
    "papermill": {
     "duration": 0.044331,
     "end_time": "2022-08-22T00:46:36.818468",
     "exception": false,
     "start_time": "2022-08-22T00:46:36.774137",
     "status": "completed"
    },
    "tags": []
   },
   "outputs": [],
   "source": [
    "#hide\n",
    "# g.head()"
   ]
  },
  {
   "cell_type": "code",
   "execution_count": 26,
   "id": "specific-kruger",
   "metadata": {
    "execution": {
     "iopub.execute_input": "2022-08-22T00:46:36.894574Z",
     "iopub.status.busy": "2022-08-22T00:46:36.893872Z",
     "iopub.status.idle": "2022-08-22T00:46:36.896736Z",
     "shell.execute_reply": "2022-08-22T00:46:36.896185Z"
    },
    "papermill": {
     "duration": 0.042728,
     "end_time": "2022-08-22T00:46:36.896864",
     "exception": false,
     "start_time": "2022-08-22T00:46:36.854136",
     "status": "completed"
    },
    "tags": []
   },
   "outputs": [],
   "source": [
    "#hide\n",
    "# g.columns = ['date','country','cases']"
   ]
  },
  {
   "cell_type": "code",
   "execution_count": 27,
   "id": "tender-conversion",
   "metadata": {
    "execution": {
     "iopub.execute_input": "2022-08-22T00:46:36.972827Z",
     "iopub.status.busy": "2022-08-22T00:46:36.971634Z",
     "iopub.status.idle": "2022-08-22T00:46:36.973861Z",
     "shell.execute_reply": "2022-08-22T00:46:36.974366Z"
    },
    "papermill": {
     "duration": 0.043186,
     "end_time": "2022-08-22T00:46:36.974513",
     "exception": false,
     "start_time": "2022-08-22T00:46:36.931327",
     "status": "completed"
    },
    "tags": []
   },
   "outputs": [],
   "source": [
    "#hide\n",
    "# g['continent'] = g.country"
   ]
  },
  {
   "cell_type": "code",
   "execution_count": 28,
   "id": "substantial-wilderness",
   "metadata": {
    "execution": {
     "iopub.execute_input": "2022-08-22T00:46:37.049339Z",
     "iopub.status.busy": "2022-08-22T00:46:37.048642Z",
     "iopub.status.idle": "2022-08-22T00:46:37.052087Z",
     "shell.execute_reply": "2022-08-22T00:46:37.052734Z"
    },
    "papermill": {
     "duration": 0.043485,
     "end_time": "2022-08-22T00:46:37.052886",
     "exception": false,
     "start_time": "2022-08-22T00:46:37.009401",
     "status": "completed"
    },
    "tags": []
   },
   "outputs": [],
   "source": [
    "#hide\n",
    "# cols = list(g.columns.values)"
   ]
  },
  {
   "cell_type": "code",
   "execution_count": 29,
   "id": "solved-farming",
   "metadata": {
    "execution": {
     "iopub.execute_input": "2022-08-22T00:46:37.127960Z",
     "iopub.status.busy": "2022-08-22T00:46:37.127253Z",
     "iopub.status.idle": "2022-08-22T00:46:37.130070Z",
     "shell.execute_reply": "2022-08-22T00:46:37.129517Z"
    },
    "papermill": {
     "duration": 0.042675,
     "end_time": "2022-08-22T00:46:37.130199",
     "exception": false,
     "start_time": "2022-08-22T00:46:37.087524",
     "status": "completed"
    },
    "tags": []
   },
   "outputs": [],
   "source": [
    "#hide\n",
    "# cols.insert(0, cols.pop())"
   ]
  },
  {
   "cell_type": "code",
   "execution_count": 30,
   "id": "executed-adoption",
   "metadata": {
    "execution": {
     "iopub.execute_input": "2022-08-22T00:46:37.207310Z",
     "iopub.status.busy": "2022-08-22T00:46:37.206123Z",
     "iopub.status.idle": "2022-08-22T00:46:37.208053Z",
     "shell.execute_reply": "2022-08-22T00:46:37.208554Z"
    },
    "papermill": {
     "duration": 0.043329,
     "end_time": "2022-08-22T00:46:37.208699",
     "exception": false,
     "start_time": "2022-08-22T00:46:37.165370",
     "status": "completed"
    },
    "tags": []
   },
   "outputs": [],
   "source": [
    "#hide\n",
    "# g = g[cols]"
   ]
  },
  {
   "cell_type": "code",
   "execution_count": 31,
   "id": "subject-dublin",
   "metadata": {
    "execution": {
     "iopub.execute_input": "2022-08-22T00:46:37.285021Z",
     "iopub.status.busy": "2022-08-22T00:46:37.283835Z",
     "iopub.status.idle": "2022-08-22T00:46:37.286307Z",
     "shell.execute_reply": "2022-08-22T00:46:37.287239Z"
    },
    "papermill": {
     "duration": 0.044186,
     "end_time": "2022-08-22T00:46:37.287480",
     "exception": false,
     "start_time": "2022-08-22T00:46:37.243294",
     "status": "completed"
    },
    "tags": []
   },
   "outputs": [],
   "source": [
    "#hide\n",
    "# g['continent'] = g['continent'].map(mapping['map.continent'])"
   ]
  },
  {
   "cell_type": "code",
   "execution_count": 32,
   "id": "freelance-scout",
   "metadata": {
    "execution": {
     "iopub.execute_input": "2022-08-22T00:46:37.362730Z",
     "iopub.status.busy": "2022-08-22T00:46:37.362005Z",
     "iopub.status.idle": "2022-08-22T00:46:37.366982Z",
     "shell.execute_reply": "2022-08-22T00:46:37.366398Z"
    },
    "papermill": {
     "duration": 0.044438,
     "end_time": "2022-08-22T00:46:37.367115",
     "exception": false,
     "start_time": "2022-08-22T00:46:37.322677",
     "status": "completed"
    },
    "tags": []
   },
   "outputs": [],
   "source": [
    "#hide\n",
    "# g.head()"
   ]
  },
  {
   "cell_type": "code",
   "execution_count": 33,
   "id": "limited-engine",
   "metadata": {
    "execution": {
     "iopub.execute_input": "2022-08-22T00:46:37.442428Z",
     "iopub.status.busy": "2022-08-22T00:46:37.441587Z",
     "iopub.status.idle": "2022-08-22T00:46:37.446135Z",
     "shell.execute_reply": "2022-08-22T00:46:37.446656Z"
    },
    "papermill": {
     "duration": 0.045137,
     "end_time": "2022-08-22T00:46:37.446811",
     "exception": false,
     "start_time": "2022-08-22T00:46:37.401674",
     "status": "completed"
    },
    "tags": []
   },
   "outputs": [],
   "source": [
    "# hide\n",
    "# g['date'] = g['date'].astype('datetime64[ns]')"
   ]
  },
  {
   "cell_type": "code",
   "execution_count": 34,
   "id": "sophisticated-supervisor",
   "metadata": {
    "execution": {
     "iopub.execute_input": "2022-08-22T00:46:37.522990Z",
     "iopub.status.busy": "2022-08-22T00:46:37.522273Z",
     "iopub.status.idle": "2022-08-22T00:46:37.524435Z",
     "shell.execute_reply": "2022-08-22T00:46:37.524957Z"
    },
    "papermill": {
     "duration": 0.043478,
     "end_time": "2022-08-22T00:46:37.525104",
     "exception": false,
     "start_time": "2022-08-22T00:46:37.481626",
     "status": "completed"
    },
    "tags": []
   },
   "outputs": [],
   "source": [
    "#hide\n",
    "# g['date'] = g.date.dt.dayofyear"
   ]
  },
  {
   "cell_type": "code",
   "execution_count": 35,
   "id": "inside-dubai",
   "metadata": {
    "execution": {
     "iopub.execute_input": "2022-08-22T00:46:37.599927Z",
     "iopub.status.busy": "2022-08-22T00:46:37.599245Z",
     "iopub.status.idle": "2022-08-22T00:46:37.603590Z",
     "shell.execute_reply": "2022-08-22T00:46:37.603043Z"
    },
    "papermill": {
     "duration": 0.044053,
     "end_time": "2022-08-22T00:46:37.603725",
     "exception": false,
     "start_time": "2022-08-22T00:46:37.559672",
     "status": "completed"
    },
    "tags": []
   },
   "outputs": [],
   "source": [
    "#hide\n",
    "# g = g.rename(columns= {'continent':'group','country':'name','cases':'value'})"
   ]
  },
  {
   "cell_type": "code",
   "execution_count": 36,
   "id": "fleet-motorcycle",
   "metadata": {
    "execution": {
     "iopub.execute_input": "2022-08-22T00:46:37.678277Z",
     "iopub.status.busy": "2022-08-22T00:46:37.677605Z",
     "iopub.status.idle": "2022-08-22T00:46:37.679788Z",
     "shell.execute_reply": "2022-08-22T00:46:37.680338Z"
    },
    "papermill": {
     "duration": 0.041902,
     "end_time": "2022-08-22T00:46:37.680481",
     "exception": false,
     "start_time": "2022-08-22T00:46:37.638579",
     "status": "completed"
    },
    "tags": []
   },
   "outputs": [],
   "source": [
    "#hide\n",
    "# cols = ['name','group','day','value']"
   ]
  },
  {
   "cell_type": "code",
   "execution_count": 37,
   "id": "continued-sleeping",
   "metadata": {
    "execution": {
     "iopub.execute_input": "2022-08-22T00:46:37.755857Z",
     "iopub.status.busy": "2022-08-22T00:46:37.754736Z",
     "iopub.status.idle": "2022-08-22T00:46:37.756602Z",
     "shell.execute_reply": "2022-08-22T00:46:37.757108Z"
    },
    "papermill": {
     "duration": 0.042291,
     "end_time": "2022-08-22T00:46:37.757254",
     "exception": false,
     "start_time": "2022-08-22T00:46:37.714963",
     "status": "completed"
    },
    "tags": []
   },
   "outputs": [],
   "source": [
    "#hide\n",
    "# g.rename(columns= {'date':'day'},inplace = True)"
   ]
  },
  {
   "cell_type": "code",
   "execution_count": 38,
   "id": "major-fight",
   "metadata": {
    "execution": {
     "iopub.execute_input": "2022-08-22T00:46:37.833263Z",
     "iopub.status.busy": "2022-08-22T00:46:37.832075Z",
     "iopub.status.idle": "2022-08-22T00:46:37.837408Z",
     "shell.execute_reply": "2022-08-22T00:46:37.837933Z"
    },
    "papermill": {
     "duration": 0.04605,
     "end_time": "2022-08-22T00:46:37.838084",
     "exception": false,
     "start_time": "2022-08-22T00:46:37.792034",
     "status": "completed"
    },
    "tags": []
   },
   "outputs": [],
   "source": [
    "#hide\n",
    "# g = g[cols]"
   ]
  },
  {
   "cell_type": "code",
   "execution_count": 39,
   "id": "structured-mobile",
   "metadata": {
    "execution": {
     "iopub.execute_input": "2022-08-22T00:46:37.913788Z",
     "iopub.status.busy": "2022-08-22T00:46:37.912589Z",
     "iopub.status.idle": "2022-08-22T00:46:37.918465Z",
     "shell.execute_reply": "2022-08-22T00:46:37.918994Z"
    },
    "papermill": {
     "duration": 0.046542,
     "end_time": "2022-08-22T00:46:37.919152",
     "exception": false,
     "start_time": "2022-08-22T00:46:37.872610",
     "status": "completed"
    },
    "tags": []
   },
   "outputs": [],
   "source": [
    "# #hide\n",
    "# g = g[g.group.notna()]"
   ]
  },
  {
   "cell_type": "code",
   "execution_count": 40,
   "id": "determined-closing",
   "metadata": {
    "execution": {
     "iopub.execute_input": "2022-08-22T00:46:37.995728Z",
     "iopub.status.busy": "2022-08-22T00:46:37.994427Z",
     "iopub.status.idle": "2022-08-22T00:46:37.997029Z",
     "shell.execute_reply": "2022-08-22T00:46:37.997932Z"
    },
    "papermill": {
     "duration": 0.043987,
     "end_time": "2022-08-22T00:46:37.998173",
     "exception": false,
     "start_time": "2022-08-22T00:46:37.954186",
     "status": "completed"
    },
    "tags": []
   },
   "outputs": [],
   "source": [
    "# #hide\n",
    "# colors = dict(zip(\n",
    "#     [\"Oceania\", \"Europe\", \"Asia\", \"South America\", \"Middle East\", \"North America\", \"Africa\"],\n",
    "#     [\"#adb0ff\", \"#ffb3ff\", \"#90d595\", \"#e48381\", \"#aafbff\", \"#f7bb5f\", \"#eafb50\"]\n",
    "# ))\n",
    "# group_lk = g.set_index('name')['group'].to_dict()"
   ]
  },
  {
   "cell_type": "code",
   "execution_count": null,
   "id": "gross-drinking",
   "metadata": {
    "papermill": {
     "duration": 0.03455,
     "end_time": "2022-08-22T00:46:38.067863",
     "exception": false,
     "start_time": "2022-08-22T00:46:38.033313",
     "status": "completed"
    },
    "tags": []
   },
   "outputs": [],
   "source": []
  },
  {
   "cell_type": "code",
   "execution_count": 41,
   "id": "subject-macintosh",
   "metadata": {
    "execution": {
     "iopub.execute_input": "2022-08-22T00:46:38.144255Z",
     "iopub.status.busy": "2022-08-22T00:46:38.143521Z",
     "iopub.status.idle": "2022-08-22T00:46:38.146159Z",
     "shell.execute_reply": "2022-08-22T00:46:38.145606Z"
    },
    "papermill": {
     "duration": 0.043778,
     "end_time": "2022-08-22T00:46:38.146286",
     "exception": false,
     "start_time": "2022-08-22T00:46:38.102508",
     "status": "completed"
    },
    "tags": []
   },
   "outputs": [],
   "source": [
    "# #hide\n",
    "# fig, ax = plt.subplots(figsize=(15, 8))\n",
    "\n",
    "# def draw_barchart(current_day):\n",
    "#     dff = g[g['day'].eq(current_day)].sort_values(by='value', ascending=True).tail(10)\n",
    "#     ax.clear()\n",
    "#     ax.barh(dff['name'], dff['value'], color=[colors[group_lk[x]] for x in dff['name']])\n",
    "#     dx = dff['value'].max() / 200\n",
    "    \n",
    "#     for i, (value, name) in enumerate(zip(dff['value'], dff['name'])):\n",
    "#         ax.text(value-dx, i,     name,           size=14, weight=600, ha='right', va='bottom')\n",
    "#         ax.text(value-dx, i-.25, group_lk[name], size=10, color='#444444', ha='right', va='baseline')\n",
    "#         ax.text(value+dx, i,     f'{value:,.0f}',  size=14, ha='left',  va='center')\n",
    "#     ax.text(1, 0.4, current_day, transform=ax.transAxes, color='#777777', size=46, ha='right', weight=800)\n",
    "#     ax.text(0, 1.06, 'Population (thousands)', transform=ax.transAxes, size=12, color='#777777')\n",
    "#     ax.xaxis.set_major_formatter(ticker.StrMethodFormatter('{x:,.0f}'))\n",
    "#     ax.xaxis.set_ticks_position('top')\n",
    "#     ax.tick_params(axis='x', colors='#777777', labelsize=12)\n",
    "#     ax.set_yticks([])\n",
    "#     ax.margins(0, 0.01)\n",
    "#     ax.grid(which='major', axis='x', linestyle='-')\n",
    "#     ax.set_axisbelow(True)\n",
    "    \n",
    "#     ax.text(0, 1.15, 'Coronavirus',\n",
    "#             transform=ax.transAxes, size=24, weight=600, ha='left', va='top')\n",
    "# #     ax.text(1, 0, 'by @pratapvardhan; credit @jburnmurdoch', transform=ax.transAxes, color='#777777', ha='right',\n",
    "# #             bbox=dict(facecolor='white', alpha=0.8, edgecolor='white'))\n",
    "#     plt.box(False)"
   ]
  },
  {
   "cell_type": "code",
   "execution_count": 42,
   "id": "sexual-wages",
   "metadata": {
    "execution": {
     "iopub.execute_input": "2022-08-22T00:46:38.223023Z",
     "iopub.status.busy": "2022-08-22T00:46:38.221682Z",
     "iopub.status.idle": "2022-08-22T00:46:38.224196Z",
     "shell.execute_reply": "2022-08-22T00:46:38.224705Z"
    },
    "papermill": {
     "duration": 0.043973,
     "end_time": "2022-08-22T00:46:38.224853",
     "exception": false,
     "start_time": "2022-08-22T00:46:38.180880",
     "status": "completed"
    },
    "tags": []
   },
   "outputs": [],
   "source": [
    "# #hide_input\n",
    "# fig, ax = plt.subplots(figsize=(15, 8))\n",
    "# animator = animation.FuncAnimation(fig, draw_barchart, frames=range(g.day.values.min(), g.day.values.max()))\n",
    "# HTML(animator.to_jshtml())\n",
    "# # or use animator.to_html5_video() or animator.save() "
   ]
  },
  {
   "cell_type": "code",
   "execution_count": null,
   "id": "australian-container",
   "metadata": {
    "papermill": {
     "duration": 0.034782,
     "end_time": "2022-08-22T00:46:38.294405",
     "exception": false,
     "start_time": "2022-08-22T00:46:38.259623",
     "status": "completed"
    },
    "tags": []
   },
   "outputs": [],
   "source": []
  },
  {
   "cell_type": "code",
   "execution_count": null,
   "id": "mediterranean-pontiac",
   "metadata": {
    "papermill": {
     "duration": 0.034914,
     "end_time": "2022-08-22T00:46:38.364188",
     "exception": false,
     "start_time": "2022-08-22T00:46:38.329274",
     "status": "completed"
    },
    "tags": []
   },
   "outputs": [],
   "source": []
  },
  {
   "cell_type": "code",
   "execution_count": null,
   "id": "aging-legislature",
   "metadata": {
    "papermill": {
     "duration": 0.034612,
     "end_time": "2022-08-22T00:46:38.434108",
     "exception": false,
     "start_time": "2022-08-22T00:46:38.399496",
     "status": "completed"
    },
    "tags": []
   },
   "outputs": [],
   "source": []
  }
 ],
 "metadata": {
  "kernelspec": {
   "display_name": "Python 3",
   "language": "python",
   "name": "python3"
  },
  "language_info": {
   "codemirror_mode": {
    "name": "ipython",
    "version": 3
   },
   "file_extension": ".py",
   "mimetype": "text/x-python",
   "name": "python",
   "nbconvert_exporter": "python",
   "pygments_lexer": "ipython3",
   "version": "3.6.15"
  },
  "papermill": {
   "duration": 7.101354,
   "end_time": "2022-08-22T00:46:38.889842",
   "environment_variables": {},
   "exception": null,
   "input_path": "2020-03-21-covid19exp.ipynb",
   "output_path": "2020-03-21-covid19exp.ipynb",
   "parameters": {},
   "start_time": "2022-08-22T00:46:31.788488",
   "version": "2.0.0"
  }
 },
 "nbformat": 4,
 "nbformat_minor": 5
}