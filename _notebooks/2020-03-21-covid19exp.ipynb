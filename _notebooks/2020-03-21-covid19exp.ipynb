{
 "cells": [
  {
   "cell_type": "markdown",
   "metadata": {
    "papermill": {
     "duration": 0.037114,
     "end_time": "2021-01-17T12:21:40.620183",
     "exception": false,
     "start_time": "2021-01-17T12:21:40.583069",
     "status": "completed"
    },
    "tags": []
   },
   "source": [
    "# COVID-19 Case Race\n",
    "> A race chart to see rising cases around the world\n",
    "\n",
    "- author: Hargun Oberoi\n",
    "- image: images/covid-overview.png\n",
    "- hide: false\n",
    "- badges: false"
   ]
  },
  {
   "cell_type": "code",
   "execution_count": 1,
   "metadata": {
    "execution": {
     "iopub.execute_input": "2021-01-17T12:21:40.702790Z",
     "iopub.status.busy": "2021-01-17T12:21:40.699508Z",
     "iopub.status.idle": "2021-01-17T12:21:41.073755Z",
     "shell.execute_reply": "2021-01-17T12:21:41.072927Z"
    },
    "papermill": {
     "duration": 0.418746,
     "end_time": "2021-01-17T12:21:41.073925",
     "exception": false,
     "start_time": "2021-01-17T12:21:40.655179",
     "status": "completed"
    },
    "tags": []
   },
   "outputs": [],
   "source": [
    "#hide\n",
    "import numpy as np\n",
    "import pandas as pd\n",
    "from jinja2 import Template\n",
    "from IPython.display import HTML"
   ]
  },
  {
   "cell_type": "code",
   "execution_count": 2,
   "metadata": {
    "execution": {
     "iopub.execute_input": "2021-01-17T12:21:41.147893Z",
     "iopub.status.busy": "2021-01-17T12:21:41.147205Z",
     "iopub.status.idle": "2021-01-17T12:21:41.149712Z",
     "shell.execute_reply": "2021-01-17T12:21:41.149149Z"
    },
    "papermill": {
     "duration": 0.042886,
     "end_time": "2021-01-17T12:21:41.149844",
     "exception": false,
     "start_time": "2021-01-17T12:21:41.106958",
     "status": "completed"
    },
    "tags": []
   },
   "outputs": [],
   "source": [
    "#hide\n",
    "\n",
    "# FETCH\n",
    "base_url = 'https://raw.githubusercontent.com/pratapvardhan/notebooks/master/covid19/'\n",
    "paths = {\n",
    "    'mapping': base_url + 'mapping_countries.csv',\n",
    "    'overview': base_url + 'overview.tpl'\n",
    "}"
   ]
  },
  {
   "cell_type": "code",
   "execution_count": 3,
   "metadata": {
    "execution": {
     "iopub.execute_input": "2021-01-17T12:21:41.228827Z",
     "iopub.status.busy": "2021-01-17T12:21:41.225449Z",
     "iopub.status.idle": "2021-01-17T12:21:41.232739Z",
     "shell.execute_reply": "2021-01-17T12:21:41.233373Z"
    },
    "papermill": {
     "duration": 0.049637,
     "end_time": "2021-01-17T12:21:41.233537",
     "exception": false,
     "start_time": "2021-01-17T12:21:41.183900",
     "status": "completed"
    },
    "tags": []
   },
   "outputs": [
    {
     "data": {
      "text/plain": [
       "'https://raw.githubusercontent.com/pratapvardhan/notebooks/master/covid19/mapping_countries.csv'"
      ]
     },
     "execution_count": 3,
     "metadata": {},
     "output_type": "execute_result"
    }
   ],
   "source": [
    "#hide\n",
    "paths['mapping']"
   ]
  },
  {
   "cell_type": "code",
   "execution_count": 4,
   "metadata": {
    "execution": {
     "iopub.execute_input": "2021-01-17T12:21:41.308414Z",
     "iopub.status.busy": "2021-01-17T12:21:41.307751Z",
     "iopub.status.idle": "2021-01-17T12:21:41.310236Z",
     "shell.execute_reply": "2021-01-17T12:21:41.309532Z"
    },
    "papermill": {
     "duration": 0.042949,
     "end_time": "2021-01-17T12:21:41.310382",
     "exception": false,
     "start_time": "2021-01-17T12:21:41.267433",
     "status": "completed"
    },
    "tags": []
   },
   "outputs": [],
   "source": [
    "#hide\n",
    "def get_mappings(url):\n",
    "    df = pd.read_csv(url)\n",
    "    return {\n",
    "        'df': df,\n",
    "        'replace.country': dict(df.dropna(subset=['Name']).set_index('Country')['Name']),\n",
    "        'map.continent': dict(df.set_index('Name')['Continent'])\n",
    "    }"
   ]
  },
  {
   "cell_type": "code",
   "execution_count": 5,
   "metadata": {
    "execution": {
     "iopub.execute_input": "2021-01-17T12:21:41.382409Z",
     "iopub.status.busy": "2021-01-17T12:21:41.379841Z",
     "iopub.status.idle": "2021-01-17T12:21:41.422491Z",
     "shell.execute_reply": "2021-01-17T12:21:41.421904Z"
    },
    "papermill": {
     "duration": 0.079011,
     "end_time": "2021-01-17T12:21:41.422640",
     "exception": false,
     "start_time": "2021-01-17T12:21:41.343629",
     "status": "completed"
    },
    "tags": []
   },
   "outputs": [],
   "source": [
    "#hide\n",
    "mapping = get_mappings(paths['mapping'])"
   ]
  },
  {
   "cell_type": "code",
   "execution_count": 6,
   "metadata": {
    "execution": {
     "iopub.execute_input": "2021-01-17T12:21:41.496193Z",
     "iopub.status.busy": "2021-01-17T12:21:41.495501Z",
     "iopub.status.idle": "2021-01-17T12:21:41.498751Z",
     "shell.execute_reply": "2021-01-17T12:21:41.498173Z"
    },
    "papermill": {
     "duration": 0.042212,
     "end_time": "2021-01-17T12:21:41.498893",
     "exception": false,
     "start_time": "2021-01-17T12:21:41.456681",
     "status": "completed"
    },
    "tags": []
   },
   "outputs": [],
   "source": [
    "#hide\n",
    "def get_template(path):\n",
    "    from urllib.parse import urlparse\n",
    "    if bool(urlparse(path).netloc):\n",
    "        from urllib.request import urlopen\n",
    "        return urlopen(path).read().decode('utf8')\n",
    "    return open(path).read()"
   ]
  },
  {
   "cell_type": "code",
   "execution_count": 7,
   "metadata": {
    "execution": {
     "iopub.execute_input": "2021-01-17T12:21:41.571240Z",
     "iopub.status.busy": "2021-01-17T12:21:41.570555Z",
     "iopub.status.idle": "2021-01-17T12:21:41.573043Z",
     "shell.execute_reply": "2021-01-17T12:21:41.572475Z"
    },
    "papermill": {
     "duration": 0.040952,
     "end_time": "2021-01-17T12:21:41.573181",
     "exception": false,
     "start_time": "2021-01-17T12:21:41.532229",
     "status": "completed"
    },
    "tags": []
   },
   "outputs": [],
   "source": [
    "#hide\n",
    "def get_frame(name):\n",
    "    url = (\n",
    "        'https://raw.githubusercontent.com/CSSEGISandData/COVID-19/master/csse_covid_19_data/'\n",
    "        f'csse_covid_19_time_series/time_series_covid19_{name}_global.csv')\n",
    "    df = pd.read_csv(url)\n",
    "    # rename countries\n",
    "    df['Country/Region'] = df['Country/Region'].replace(mapping['replace.country'])\n",
    "    return df"
   ]
  },
  {
   "cell_type": "code",
   "execution_count": 8,
   "metadata": {
    "execution": {
     "iopub.execute_input": "2021-01-17T12:21:41.647907Z",
     "iopub.status.busy": "2021-01-17T12:21:41.647249Z",
     "iopub.status.idle": "2021-01-17T12:21:41.649593Z",
     "shell.execute_reply": "2021-01-17T12:21:41.648937Z"
    },
    "papermill": {
     "duration": 0.041991,
     "end_time": "2021-01-17T12:21:41.649744",
     "exception": false,
     "start_time": "2021-01-17T12:21:41.607753",
     "status": "completed"
    },
    "tags": []
   },
   "outputs": [],
   "source": [
    "#hide\n",
    "def get_dates(df):\n",
    "    dt_cols = df.columns[~df.columns.isin(['Province/State', 'Country/Region', 'Lat', 'Long'])]\n",
    "    LAST_DATE_I = -1\n",
    "    # sometimes last column may be empty, then go backwards\n",
    "    for i in range(-1, -len(dt_cols), -1):\n",
    "        if not df[dt_cols[i]].fillna(0).eq(0).all():\n",
    "            LAST_DATE_I = i\n",
    "            break\n",
    "    return LAST_DATE_I, dt_cols"
   ]
  },
  {
   "cell_type": "code",
   "execution_count": 9,
   "metadata": {
    "execution": {
     "iopub.execute_input": "2021-01-17T12:21:41.728508Z",
     "iopub.status.busy": "2021-01-17T12:21:41.727857Z",
     "iopub.status.idle": "2021-01-17T12:21:42.038616Z",
     "shell.execute_reply": "2021-01-17T12:21:42.039159Z"
    },
    "papermill": {
     "duration": 0.354823,
     "end_time": "2021-01-17T12:21:42.039337",
     "exception": false,
     "start_time": "2021-01-17T12:21:41.684514",
     "status": "completed"
    },
    "tags": []
   },
   "outputs": [],
   "source": [
    "#hide\n",
    "COL_REGION = 'Country/Region'\n",
    "# Confirmed, Recovered, Deaths\n",
    "df = get_frame('confirmed')\n",
    "# dft_: timeseries, dfc_: today country agg\n",
    "dft_cases = df\n",
    "dft_deaths = get_frame('deaths')\n",
    "dft_recovered = get_frame('recovered')\n",
    "LAST_DATE_I, dt_cols = get_dates(df)"
   ]
  },
  {
   "cell_type": "code",
   "execution_count": 10,
   "metadata": {
    "execution": {
     "iopub.execute_input": "2021-01-17T12:21:42.119002Z",
     "iopub.status.busy": "2021-01-17T12:21:42.118345Z",
     "iopub.status.idle": "2021-01-17T12:21:42.120797Z",
     "shell.execute_reply": "2021-01-17T12:21:42.120152Z"
    },
    "papermill": {
     "duration": 0.041708,
     "end_time": "2021-01-17T12:21:42.120928",
     "exception": false,
     "start_time": "2021-01-17T12:21:42.079220",
     "status": "completed"
    },
    "tags": []
   },
   "outputs": [],
   "source": [
    "#hide\n",
    "LAST_DATE_I, dt_cols = get_dates(df)\n",
    "dt_today =dt_cols[LAST_DATE_I]\n",
    "# dt_5day = dt_cols[LAST_DATE_I - 5]\n",
    "dt_yday = dt_cols[LAST_DATE_I - 1]"
   ]
  },
  {
   "cell_type": "code",
   "execution_count": 11,
   "metadata": {
    "execution": {
     "iopub.execute_input": "2021-01-17T12:21:42.196397Z",
     "iopub.status.busy": "2021-01-17T12:21:42.195742Z",
     "iopub.status.idle": "2021-01-17T12:21:42.205007Z",
     "shell.execute_reply": "2021-01-17T12:21:42.204438Z"
    },
    "papermill": {
     "duration": 0.048471,
     "end_time": "2021-01-17T12:21:42.205149",
     "exception": false,
     "start_time": "2021-01-17T12:21:42.156678",
     "status": "completed"
    },
    "tags": []
   },
   "outputs": [],
   "source": [
    "#hide\n",
    "dfc_cases = dft_cases.groupby(COL_REGION)[dt_today].sum()\n",
    "dfc_deaths = dft_deaths.groupby(COL_REGION)[dt_today].sum()\n",
    "# dfp_cases = dft_cases.groupby(COL_REGION)[dt_5day].sum()\n",
    "# dfp_deaths = dft_deaths.groupby(COL_REGION)[dt_5day].sum()\n",
    "dfp_cases = dft_cases.groupby(COL_REGION)[dt_yday].sum()\n",
    "dfp_deaths = dft_deaths.groupby(COL_REGION)[dt_yday].sum()"
   ]
  },
  {
   "cell_type": "code",
   "execution_count": 12,
   "metadata": {
    "execution": {
     "iopub.execute_input": "2021-01-17T12:21:42.280800Z",
     "iopub.status.busy": "2021-01-17T12:21:42.280149Z",
     "iopub.status.idle": "2021-01-17T12:21:42.285324Z",
     "shell.execute_reply": "2021-01-17T12:21:42.284796Z"
    },
    "papermill": {
     "duration": 0.046234,
     "end_time": "2021-01-17T12:21:42.285482",
     "exception": false,
     "start_time": "2021-01-17T12:21:42.239248",
     "status": "completed"
    },
    "tags": []
   },
   "outputs": [],
   "source": [
    "#hide\n",
    "df_table = (pd.DataFrame(dict(Cases = dfc_cases, Deaths = dfc_deaths, PCases = dfp_cases, PDeaths = dfp_deaths))\n",
    "            .sort_values(by = ['Cases','Deaths'], ascending = [False, False])\n",
    "            .reset_index())"
   ]
  },
  {
   "cell_type": "code",
   "execution_count": 13,
   "metadata": {
    "execution": {
     "iopub.execute_input": "2021-01-17T12:21:42.356212Z",
     "iopub.status.busy": "2021-01-17T12:21:42.355532Z",
     "iopub.status.idle": "2021-01-17T12:21:42.383785Z",
     "shell.execute_reply": "2021-01-17T12:21:42.383131Z"
    },
    "papermill": {
     "duration": 0.064911,
     "end_time": "2021-01-17T12:21:42.383929",
     "exception": false,
     "start_time": "2021-01-17T12:21:42.319018",
     "status": "completed"
    },
    "tags": []
   },
   "outputs": [
    {
     "data": {
      "text/html": [
       "<div>\n",
       "<style scoped>\n",
       "    .dataframe tbody tr th:only-of-type {\n",
       "        vertical-align: middle;\n",
       "    }\n",
       "\n",
       "    .dataframe tbody tr th {\n",
       "        vertical-align: top;\n",
       "    }\n",
       "\n",
       "    .dataframe thead th {\n",
       "        text-align: right;\n",
       "    }\n",
       "</style>\n",
       "<table border=\"1\" class=\"dataframe\">\n",
       "  <thead>\n",
       "    <tr style=\"text-align: right;\">\n",
       "      <th></th>\n",
       "      <th>Country/Region</th>\n",
       "      <th>Cases</th>\n",
       "      <th>Deaths</th>\n",
       "      <th>PCases</th>\n",
       "      <th>PDeaths</th>\n",
       "      <th>Cases (+)</th>\n",
       "      <th>Deaths (+)</th>\n",
       "      <th>Fatality Rate</th>\n",
       "      <th>Continent</th>\n",
       "    </tr>\n",
       "  </thead>\n",
       "  <tbody>\n",
       "    <tr>\n",
       "      <th>0</th>\n",
       "      <td>US</td>\n",
       "      <td>23758855</td>\n",
       "      <td>395851</td>\n",
       "      <td>23556097</td>\n",
       "      <td>392499</td>\n",
       "      <td>202758</td>\n",
       "      <td>3352</td>\n",
       "      <td>1.67</td>\n",
       "      <td>North America</td>\n",
       "    </tr>\n",
       "    <tr>\n",
       "      <th>1</th>\n",
       "      <td>India</td>\n",
       "      <td>10557985</td>\n",
       "      <td>152274</td>\n",
       "      <td>10542841</td>\n",
       "      <td>152093</td>\n",
       "      <td>15144</td>\n",
       "      <td>181</td>\n",
       "      <td>1.44</td>\n",
       "      <td>Asia</td>\n",
       "    </tr>\n",
       "    <tr>\n",
       "      <th>2</th>\n",
       "      <td>Brazil</td>\n",
       "      <td>8455059</td>\n",
       "      <td>209296</td>\n",
       "      <td>8393492</td>\n",
       "      <td>208246</td>\n",
       "      <td>61567</td>\n",
       "      <td>1050</td>\n",
       "      <td>2.48</td>\n",
       "      <td>South America</td>\n",
       "    </tr>\n",
       "    <tr>\n",
       "      <th>3</th>\n",
       "      <td>Russia</td>\n",
       "      <td>3507201</td>\n",
       "      <td>64134</td>\n",
       "      <td>3483531</td>\n",
       "      <td>63558</td>\n",
       "      <td>23670</td>\n",
       "      <td>576</td>\n",
       "      <td>1.83</td>\n",
       "      <td>Europe</td>\n",
       "    </tr>\n",
       "    <tr>\n",
       "      <th>4</th>\n",
       "      <td>United Kingdom</td>\n",
       "      <td>3367070</td>\n",
       "      <td>88747</td>\n",
       "      <td>3325642</td>\n",
       "      <td>87448</td>\n",
       "      <td>41428</td>\n",
       "      <td>1299</td>\n",
       "      <td>2.64</td>\n",
       "      <td>Europe</td>\n",
       "    </tr>\n",
       "  </tbody>\n",
       "</table>\n",
       "</div>"
      ],
      "text/plain": [
       "   Country/Region     Cases  Deaths    PCases  PDeaths  Cases (+)  Deaths (+)  \\\n",
       "0              US  23758855  395851  23556097   392499     202758        3352   \n",
       "1           India  10557985  152274  10542841   152093      15144         181   \n",
       "2          Brazil   8455059  209296   8393492   208246      61567        1050   \n",
       "3          Russia   3507201   64134   3483531    63558      23670         576   \n",
       "4  United Kingdom   3367070   88747   3325642    87448      41428        1299   \n",
       "\n",
       "   Fatality Rate      Continent  \n",
       "0           1.67  North America  \n",
       "1           1.44           Asia  \n",
       "2           2.48  South America  \n",
       "3           1.83         Europe  \n",
       "4           2.64         Europe  "
      ]
     },
     "execution_count": 13,
     "metadata": {},
     "output_type": "execute_result"
    }
   ],
   "source": [
    "#hide\n",
    "for c in 'Cases, Deaths'.split(', '):\n",
    "    df_table[f'{c} (+)'] = (df_table[c] - df_table[f'P{c}']).clip(0)\n",
    "    #Clip ça veut dire, les chiffres negatif sont interdit\n",
    "df_table['Fatality Rate'] = (100* df_table['Deaths']/ df_table['Cases']).round(2)\n",
    "df_table['Continent'] = df_table['Country/Region'].map(mapping['map.continent'])\n",
    "df_table.head(5)"
   ]
  },
  {
   "cell_type": "code",
   "execution_count": 14,
   "metadata": {
    "execution": {
     "iopub.execute_input": "2021-01-17T12:21:42.459173Z",
     "iopub.status.busy": "2021-01-17T12:21:42.458479Z",
     "iopub.status.idle": "2021-01-17T12:21:42.461413Z",
     "shell.execute_reply": "2021-01-17T12:21:42.461946Z"
    },
    "papermill": {
     "duration": 0.043904,
     "end_time": "2021-01-17T12:21:42.462103",
     "exception": false,
     "start_time": "2021-01-17T12:21:42.418199",
     "status": "completed"
    },
    "tags": []
   },
   "outputs": [],
   "source": [
    "#hide\n",
    "#delete problematic countries from table\n",
    "df_table = df_table[~df_table['Country/Region'].isin(['Cape Verde', 'Cruise Ship', 'Kosovo'])]"
   ]
  },
  {
   "cell_type": "code",
   "execution_count": 15,
   "metadata": {
    "execution": {
     "iopub.execute_input": "2021-01-17T12:21:42.539881Z",
     "iopub.status.busy": "2021-01-17T12:21:42.539221Z",
     "iopub.status.idle": "2021-01-17T12:21:42.559683Z",
     "shell.execute_reply": "2021-01-17T12:21:42.560545Z"
    },
    "papermill": {
     "duration": 0.063896,
     "end_time": "2021-01-17T12:21:42.560717",
     "exception": false,
     "start_time": "2021-01-17T12:21:42.496821",
     "status": "completed"
    },
    "tags": []
   },
   "outputs": [
    {
     "data": {
      "text/html": [
       "<div>\n",
       "<style scoped>\n",
       "    .dataframe tbody tr th:only-of-type {\n",
       "        vertical-align: middle;\n",
       "    }\n",
       "\n",
       "    .dataframe tbody tr th {\n",
       "        vertical-align: top;\n",
       "    }\n",
       "\n",
       "    .dataframe thead th {\n",
       "        text-align: right;\n",
       "    }\n",
       "</style>\n",
       "<table border=\"1\" class=\"dataframe\">\n",
       "  <thead>\n",
       "    <tr style=\"text-align: right;\">\n",
       "      <th></th>\n",
       "      <th>Country/Region</th>\n",
       "      <th>Cases</th>\n",
       "      <th>Deaths</th>\n",
       "      <th>PCases</th>\n",
       "      <th>PDeaths</th>\n",
       "      <th>Cases (+)</th>\n",
       "      <th>Deaths (+)</th>\n",
       "      <th>Fatality Rate</th>\n",
       "      <th>Continent</th>\n",
       "    </tr>\n",
       "  </thead>\n",
       "  <tbody>\n",
       "    <tr>\n",
       "      <th>0</th>\n",
       "      <td>US</td>\n",
       "      <td>23758855</td>\n",
       "      <td>395851</td>\n",
       "      <td>23556097</td>\n",
       "      <td>392499</td>\n",
       "      <td>202758</td>\n",
       "      <td>3352</td>\n",
       "      <td>1.7</td>\n",
       "      <td>North America</td>\n",
       "    </tr>\n",
       "    <tr>\n",
       "      <th>1</th>\n",
       "      <td>India</td>\n",
       "      <td>10557985</td>\n",
       "      <td>152274</td>\n",
       "      <td>10542841</td>\n",
       "      <td>152093</td>\n",
       "      <td>15144</td>\n",
       "      <td>181</td>\n",
       "      <td>1.4</td>\n",
       "      <td>Asia</td>\n",
       "    </tr>\n",
       "    <tr>\n",
       "      <th>2</th>\n",
       "      <td>Brazil</td>\n",
       "      <td>8455059</td>\n",
       "      <td>209296</td>\n",
       "      <td>8393492</td>\n",
       "      <td>208246</td>\n",
       "      <td>61567</td>\n",
       "      <td>1050</td>\n",
       "      <td>2.5</td>\n",
       "      <td>South America</td>\n",
       "    </tr>\n",
       "    <tr>\n",
       "      <th>3</th>\n",
       "      <td>Russia</td>\n",
       "      <td>3507201</td>\n",
       "      <td>64134</td>\n",
       "      <td>3483531</td>\n",
       "      <td>63558</td>\n",
       "      <td>23670</td>\n",
       "      <td>576</td>\n",
       "      <td>1.8</td>\n",
       "      <td>Europe</td>\n",
       "    </tr>\n",
       "    <tr>\n",
       "      <th>4</th>\n",
       "      <td>United Kingdom</td>\n",
       "      <td>3367070</td>\n",
       "      <td>88747</td>\n",
       "      <td>3325642</td>\n",
       "      <td>87448</td>\n",
       "      <td>41428</td>\n",
       "      <td>1299</td>\n",
       "      <td>2.6</td>\n",
       "      <td>Europe</td>\n",
       "    </tr>\n",
       "  </tbody>\n",
       "</table>\n",
       "</div>"
      ],
      "text/plain": [
       "   Country/Region     Cases  Deaths    PCases  PDeaths  Cases (+)  Deaths (+)  \\\n",
       "0              US  23758855  395851  23556097   392499     202758        3352   \n",
       "1           India  10557985  152274  10542841   152093      15144         181   \n",
       "2          Brazil   8455059  209296   8393492   208246      61567        1050   \n",
       "3          Russia   3507201   64134   3483531    63558      23670         576   \n",
       "4  United Kingdom   3367070   88747   3325642    87448      41428        1299   \n",
       "\n",
       "   Fatality Rate      Continent  \n",
       "0            1.7  North America  \n",
       "1            1.4           Asia  \n",
       "2            2.5  South America  \n",
       "3            1.8         Europe  \n",
       "4            2.6         Europe  "
      ]
     },
     "execution_count": 15,
     "metadata": {},
     "output_type": "execute_result"
    }
   ],
   "source": [
    "#hide\n",
    "df_table = (pd.DataFrame(dict(Cases=dfc_cases, Deaths=dfc_deaths, PCases=dfp_cases, PDeaths=dfp_deaths))\n",
    "             .sort_values(by=['Cases', 'Deaths'], ascending=[False, False])\n",
    "             .reset_index())\n",
    "df_table.rename(columns={'index': 'Country/Region'}, inplace=True)\n",
    "for c in 'Cases, Deaths'.split(', '):\n",
    "    df_table[f'{c} (+)'] = (df_table[c] - df_table[f'P{c}']).clip(0)  # DATA BUG\n",
    "df_table['Fatality Rate'] = (100 * df_table['Deaths'] / df_table['Cases']).round(1)\n",
    "df_table['Continent'] = df_table['Country/Region'].map(mapping['map.continent'])\n",
    "df_table.head(5)"
   ]
  },
  {
   "cell_type": "code",
   "execution_count": 16,
   "metadata": {
    "execution": {
     "iopub.execute_input": "2021-01-17T12:21:42.637725Z",
     "iopub.status.busy": "2021-01-17T12:21:42.637083Z",
     "iopub.status.idle": "2021-01-17T12:21:42.640437Z",
     "shell.execute_reply": "2021-01-17T12:21:42.639884Z"
    },
    "papermill": {
     "duration": 0.043791,
     "end_time": "2021-01-17T12:21:42.640584",
     "exception": false,
     "start_time": "2021-01-17T12:21:42.596793",
     "status": "completed"
    },
    "tags": []
   },
   "outputs": [],
   "source": [
    "#hide\n",
    "#delete problematic countries from table\n",
    "df_table = df_table[~df_table['Country/Region'].isin(['Cape Verde', 'Cruise Ship', 'Kosovo'])]"
   ]
  },
  {
   "cell_type": "code",
   "execution_count": 17,
   "metadata": {
    "execution": {
     "iopub.execute_input": "2021-01-17T12:21:42.731673Z",
     "iopub.status.busy": "2021-01-17T12:21:42.730964Z",
     "iopub.status.idle": "2021-01-17T12:21:42.733009Z",
     "shell.execute_reply": "2021-01-17T12:21:42.733594Z"
    },
    "papermill": {
     "duration": 0.058703,
     "end_time": "2021-01-17T12:21:42.733769",
     "exception": false,
     "start_time": "2021-01-17T12:21:42.675066",
     "status": "completed"
    },
    "tags": []
   },
   "outputs": [],
   "source": [
    "#hide\n",
    "metrics = [df_table.columns[index] for index in [1,2,5,6]]\n",
    "# s_china = df_table[df_table['Country/Region'].eq('China')][metrics].sum().add_prefix('China ')\n",
    "s_us = df_table[df_table['Country/Region'].eq('US')][metrics].sum().add_prefix('US ')\n",
    "s_eu = df_table[df_table['Continent'].eq('Europe')][metrics].sum().add_prefix('EU ')\n",
    "s_ind = df_table[df_table['Country/Region'].eq('India')][metrics].sum().add_prefix('India ')\n",
    "summary = {'updated': pd.to_datetime(dt_today), 'since': pd.to_datetime(dt_yday)}\n",
    "summary = {'updated': pd.to_datetime(dt_today), 'since': pd.to_datetime(dt_yday)}\n",
    "summary = {**summary, **df_table[metrics].sum(), **s_ind, **s_us, **s_eu}"
   ]
  },
  {
   "cell_type": "code",
   "execution_count": 18,
   "metadata": {
    "execution": {
     "iopub.execute_input": "2021-01-17T12:21:42.808129Z",
     "iopub.status.busy": "2021-01-17T12:21:42.807483Z",
     "iopub.status.idle": "2021-01-17T12:21:42.823839Z",
     "shell.execute_reply": "2021-01-17T12:21:42.823244Z"
    },
    "papermill": {
     "duration": 0.05632,
     "end_time": "2021-01-17T12:21:42.823998",
     "exception": false,
     "start_time": "2021-01-17T12:21:42.767678",
     "status": "completed"
    },
    "tags": []
   },
   "outputs": [],
   "source": [
    "#hide\n",
    "dft_ct_new_cases = dft_cases.groupby(COL_REGION)[dt_cols].sum().diff(axis=1).fillna(0).astype(int)"
   ]
  },
  {
   "cell_type": "code",
   "execution_count": 19,
   "metadata": {
    "execution": {
     "iopub.execute_input": "2021-01-17T12:21:42.900785Z",
     "iopub.status.busy": "2021-01-17T12:21:42.900131Z",
     "iopub.status.idle": "2021-01-17T12:21:42.901538Z",
     "shell.execute_reply": "2021-01-17T12:21:42.902149Z"
    },
    "papermill": {
     "duration": 0.04365,
     "end_time": "2021-01-17T12:21:42.902303",
     "exception": false,
     "start_time": "2021-01-17T12:21:42.858653",
     "status": "completed"
    },
    "tags": []
   },
   "outputs": [],
   "source": [
    "#hide\n",
    "everydaycases = dft_ct_new_cases.cumsum(axis=1)"
   ]
  },
  {
   "cell_type": "code",
   "execution_count": 20,
   "metadata": {
    "execution": {
     "iopub.execute_input": "2021-01-17T12:21:42.978739Z",
     "iopub.status.busy": "2021-01-17T12:21:42.978085Z",
     "iopub.status.idle": "2021-01-17T12:21:44.744899Z",
     "shell.execute_reply": "2021-01-17T12:21:44.744314Z"
    },
    "papermill": {
     "duration": 1.806599,
     "end_time": "2021-01-17T12:21:44.745048",
     "exception": false,
     "start_time": "2021-01-17T12:21:42.938449",
     "status": "completed"
    },
    "tags": []
   },
   "outputs": [],
   "source": [
    "#hide\n",
    "import pandas as pd\n",
    "import matplotlib.pyplot as plt\n",
    "import matplotlib.ticker as ticker\n",
    "import matplotlib.animation as animation\n",
    "from IPython.display import HTML"
   ]
  },
  {
   "cell_type": "code",
   "execution_count": 21,
   "metadata": {
    "execution": {
     "iopub.execute_input": "2021-01-17T12:21:44.821035Z",
     "iopub.status.busy": "2021-01-17T12:21:44.820378Z",
     "iopub.status.idle": "2021-01-17T12:21:44.824969Z",
     "shell.execute_reply": "2021-01-17T12:21:44.825508Z"
    },
    "papermill": {
     "duration": 0.045168,
     "end_time": "2021-01-17T12:21:44.825782",
     "exception": false,
     "start_time": "2021-01-17T12:21:44.780614",
     "status": "completed"
    },
    "tags": []
   },
   "outputs": [],
   "source": [
    "#hide\n",
    "t = everydaycases.stack()"
   ]
  },
  {
   "cell_type": "code",
   "execution_count": 22,
   "metadata": {
    "execution": {
     "iopub.execute_input": "2021-01-17T12:21:44.902071Z",
     "iopub.status.busy": "2021-01-17T12:21:44.901429Z",
     "iopub.status.idle": "2021-01-17T12:21:44.907863Z",
     "shell.execute_reply": "2021-01-17T12:21:44.908468Z"
    },
    "papermill": {
     "duration": 0.048366,
     "end_time": "2021-01-17T12:21:44.908628",
     "exception": false,
     "start_time": "2021-01-17T12:21:44.860262",
     "status": "completed"
    },
    "tags": []
   },
   "outputs": [],
   "source": [
    "#hide\n",
    "g = t.reset_index(['Country/Region'])"
   ]
  },
  {
   "cell_type": "code",
   "execution_count": 23,
   "metadata": {
    "execution": {
     "iopub.execute_input": "2021-01-17T12:21:44.981641Z",
     "iopub.status.busy": "2021-01-17T12:21:44.980951Z",
     "iopub.status.idle": "2021-01-17T12:21:44.983118Z",
     "shell.execute_reply": "2021-01-17T12:21:44.983740Z"
    },
    "papermill": {
     "duration": 0.041422,
     "end_time": "2021-01-17T12:21:44.983902",
     "exception": false,
     "start_time": "2021-01-17T12:21:44.942480",
     "status": "completed"
    },
    "tags": []
   },
   "outputs": [],
   "source": [
    "#hide\n",
    "g.index.name = 'date'"
   ]
  },
  {
   "cell_type": "code",
   "execution_count": 24,
   "metadata": {
    "execution": {
     "iopub.execute_input": "2021-01-17T12:21:45.062743Z",
     "iopub.status.busy": "2021-01-17T12:21:45.062097Z",
     "iopub.status.idle": "2021-01-17T12:21:45.064780Z",
     "shell.execute_reply": "2021-01-17T12:21:45.064232Z"
    },
    "papermill": {
     "duration": 0.041543,
     "end_time": "2021-01-17T12:21:45.064919",
     "exception": false,
     "start_time": "2021-01-17T12:21:45.023376",
     "status": "completed"
    },
    "tags": []
   },
   "outputs": [],
   "source": [
    "# #hide\n",
    "# g = g.reset_index(['date'])"
   ]
  },
  {
   "cell_type": "code",
   "execution_count": 25,
   "metadata": {
    "execution": {
     "iopub.execute_input": "2021-01-17T12:21:45.137941Z",
     "iopub.status.busy": "2021-01-17T12:21:45.137297Z",
     "iopub.status.idle": "2021-01-17T12:21:45.140018Z",
     "shell.execute_reply": "2021-01-17T12:21:45.139477Z"
    },
    "papermill": {
     "duration": 0.040686,
     "end_time": "2021-01-17T12:21:45.140155",
     "exception": false,
     "start_time": "2021-01-17T12:21:45.099469",
     "status": "completed"
    },
    "tags": []
   },
   "outputs": [],
   "source": [
    "#hide\n",
    "# g.head()"
   ]
  },
  {
   "cell_type": "code",
   "execution_count": 26,
   "metadata": {
    "execution": {
     "iopub.execute_input": "2021-01-17T12:21:45.213426Z",
     "iopub.status.busy": "2021-01-17T12:21:45.212763Z",
     "iopub.status.idle": "2021-01-17T12:21:45.215186Z",
     "shell.execute_reply": "2021-01-17T12:21:45.214588Z"
    },
    "papermill": {
     "duration": 0.041026,
     "end_time": "2021-01-17T12:21:45.215338",
     "exception": false,
     "start_time": "2021-01-17T12:21:45.174312",
     "status": "completed"
    },
    "tags": []
   },
   "outputs": [],
   "source": [
    "#hide\n",
    "# g.columns = ['date','country','cases']"
   ]
  },
  {
   "cell_type": "code",
   "execution_count": 27,
   "metadata": {
    "execution": {
     "iopub.execute_input": "2021-01-17T12:21:45.292326Z",
     "iopub.status.busy": "2021-01-17T12:21:45.291681Z",
     "iopub.status.idle": "2021-01-17T12:21:45.293766Z",
     "shell.execute_reply": "2021-01-17T12:21:45.294473Z"
    },
    "papermill": {
     "duration": 0.040713,
     "end_time": "2021-01-17T12:21:45.294631",
     "exception": false,
     "start_time": "2021-01-17T12:21:45.253918",
     "status": "completed"
    },
    "tags": []
   },
   "outputs": [],
   "source": [
    "#hide\n",
    "# g['continent'] = g.country"
   ]
  },
  {
   "cell_type": "code",
   "execution_count": 28,
   "metadata": {
    "execution": {
     "iopub.execute_input": "2021-01-17T12:21:45.372446Z",
     "iopub.status.busy": "2021-01-17T12:21:45.371788Z",
     "iopub.status.idle": "2021-01-17T12:21:45.374514Z",
     "shell.execute_reply": "2021-01-17T12:21:45.373957Z"
    },
    "papermill": {
     "duration": 0.040342,
     "end_time": "2021-01-17T12:21:45.374651",
     "exception": false,
     "start_time": "2021-01-17T12:21:45.334309",
     "status": "completed"
    },
    "tags": []
   },
   "outputs": [],
   "source": [
    "#hide\n",
    "# cols = list(g.columns.values)"
   ]
  },
  {
   "cell_type": "code",
   "execution_count": 29,
   "metadata": {
    "execution": {
     "iopub.execute_input": "2021-01-17T12:21:45.448222Z",
     "iopub.status.busy": "2021-01-17T12:21:45.447578Z",
     "iopub.status.idle": "2021-01-17T12:21:45.450168Z",
     "shell.execute_reply": "2021-01-17T12:21:45.449574Z"
    },
    "papermill": {
     "duration": 0.041314,
     "end_time": "2021-01-17T12:21:45.450307",
     "exception": false,
     "start_time": "2021-01-17T12:21:45.408993",
     "status": "completed"
    },
    "tags": []
   },
   "outputs": [],
   "source": [
    "#hide\n",
    "# cols.insert(0, cols.pop())"
   ]
  },
  {
   "cell_type": "code",
   "execution_count": 30,
   "metadata": {
    "execution": {
     "iopub.execute_input": "2021-01-17T12:21:45.524598Z",
     "iopub.status.busy": "2021-01-17T12:21:45.523944Z",
     "iopub.status.idle": "2021-01-17T12:21:45.526432Z",
     "shell.execute_reply": "2021-01-17T12:21:45.525881Z"
    },
    "papermill": {
     "duration": 0.040416,
     "end_time": "2021-01-17T12:21:45.526572",
     "exception": false,
     "start_time": "2021-01-17T12:21:45.486156",
     "status": "completed"
    },
    "tags": []
   },
   "outputs": [],
   "source": [
    "#hide\n",
    "# g = g[cols]"
   ]
  },
  {
   "cell_type": "code",
   "execution_count": 31,
   "metadata": {
    "execution": {
     "iopub.execute_input": "2021-01-17T12:21:45.605927Z",
     "iopub.status.busy": "2021-01-17T12:21:45.605282Z",
     "iopub.status.idle": "2021-01-17T12:21:45.607929Z",
     "shell.execute_reply": "2021-01-17T12:21:45.607380Z"
    },
    "papermill": {
     "duration": 0.042445,
     "end_time": "2021-01-17T12:21:45.608059",
     "exception": false,
     "start_time": "2021-01-17T12:21:45.565614",
     "status": "completed"
    },
    "tags": []
   },
   "outputs": [],
   "source": [
    "#hide\n",
    "# g['continent'] = g['continent'].map(mapping['map.continent'])"
   ]
  },
  {
   "cell_type": "code",
   "execution_count": 32,
   "metadata": {
    "execution": {
     "iopub.execute_input": "2021-01-17T12:21:45.684515Z",
     "iopub.status.busy": "2021-01-17T12:21:45.683866Z",
     "iopub.status.idle": "2021-01-17T12:21:45.685864Z",
     "shell.execute_reply": "2021-01-17T12:21:45.686403Z"
    },
    "papermill": {
     "duration": 0.043838,
     "end_time": "2021-01-17T12:21:45.686555",
     "exception": false,
     "start_time": "2021-01-17T12:21:45.642717",
     "status": "completed"
    },
    "tags": []
   },
   "outputs": [],
   "source": [
    "#hide\n",
    "# g.head()"
   ]
  },
  {
   "cell_type": "code",
   "execution_count": 33,
   "metadata": {
    "execution": {
     "iopub.execute_input": "2021-01-17T12:21:45.760322Z",
     "iopub.status.busy": "2021-01-17T12:21:45.759673Z",
     "iopub.status.idle": "2021-01-17T12:21:45.761626Z",
     "shell.execute_reply": "2021-01-17T12:21:45.762151Z"
    },
    "papermill": {
     "duration": 0.042021,
     "end_time": "2021-01-17T12:21:45.762308",
     "exception": false,
     "start_time": "2021-01-17T12:21:45.720287",
     "status": "completed"
    },
    "tags": []
   },
   "outputs": [],
   "source": [
    "# hide\n",
    "# g['date'] = g['date'].astype('datetime64[ns]')"
   ]
  },
  {
   "cell_type": "code",
   "execution_count": 34,
   "metadata": {
    "execution": {
     "iopub.execute_input": "2021-01-17T12:21:45.840650Z",
     "iopub.status.busy": "2021-01-17T12:21:45.840003Z",
     "iopub.status.idle": "2021-01-17T12:21:45.841967Z",
     "shell.execute_reply": "2021-01-17T12:21:45.842585Z"
    },
    "papermill": {
     "duration": 0.040765,
     "end_time": "2021-01-17T12:21:45.842759",
     "exception": false,
     "start_time": "2021-01-17T12:21:45.801994",
     "status": "completed"
    },
    "tags": []
   },
   "outputs": [],
   "source": [
    "#hide\n",
    "# g['date'] = g.date.dt.dayofyear"
   ]
  },
  {
   "cell_type": "code",
   "execution_count": 35,
   "metadata": {
    "execution": {
     "iopub.execute_input": "2021-01-17T12:21:45.915345Z",
     "iopub.status.busy": "2021-01-17T12:21:45.914676Z",
     "iopub.status.idle": "2021-01-17T12:21:45.917072Z",
     "shell.execute_reply": "2021-01-17T12:21:45.916547Z"
    },
    "papermill": {
     "duration": 0.040128,
     "end_time": "2021-01-17T12:21:45.917212",
     "exception": false,
     "start_time": "2021-01-17T12:21:45.877084",
     "status": "completed"
    },
    "tags": []
   },
   "outputs": [],
   "source": [
    "#hide\n",
    "# g = g.rename(columns= {'continent':'group','country':'name','cases':'value'})"
   ]
  },
  {
   "cell_type": "code",
   "execution_count": 36,
   "metadata": {
    "execution": {
     "iopub.execute_input": "2021-01-17T12:21:45.998951Z",
     "iopub.status.busy": "2021-01-17T12:21:45.998309Z",
     "iopub.status.idle": "2021-01-17T12:21:46.000714Z",
     "shell.execute_reply": "2021-01-17T12:21:46.000163Z"
    },
    "papermill": {
     "duration": 0.041548,
     "end_time": "2021-01-17T12:21:46.000859",
     "exception": false,
     "start_time": "2021-01-17T12:21:45.959311",
     "status": "completed"
    },
    "tags": []
   },
   "outputs": [],
   "source": [
    "#hide\n",
    "# cols = ['name','group','day','value']"
   ]
  },
  {
   "cell_type": "code",
   "execution_count": 37,
   "metadata": {
    "execution": {
     "iopub.execute_input": "2021-01-17T12:21:46.074509Z",
     "iopub.status.busy": "2021-01-17T12:21:46.073872Z",
     "iopub.status.idle": "2021-01-17T12:21:46.076319Z",
     "shell.execute_reply": "2021-01-17T12:21:46.075592Z"
    },
    "papermill": {
     "duration": 0.040542,
     "end_time": "2021-01-17T12:21:46.076456",
     "exception": false,
     "start_time": "2021-01-17T12:21:46.035914",
     "status": "completed"
    },
    "tags": []
   },
   "outputs": [],
   "source": [
    "#hide\n",
    "# g.rename(columns= {'date':'day'},inplace = True)"
   ]
  },
  {
   "cell_type": "code",
   "execution_count": 38,
   "metadata": {
    "execution": {
     "iopub.execute_input": "2021-01-17T12:21:46.149215Z",
     "iopub.status.busy": "2021-01-17T12:21:46.148520Z",
     "iopub.status.idle": "2021-01-17T12:21:46.151177Z",
     "shell.execute_reply": "2021-01-17T12:21:46.150565Z"
    },
    "papermill": {
     "duration": 0.040445,
     "end_time": "2021-01-17T12:21:46.151319",
     "exception": false,
     "start_time": "2021-01-17T12:21:46.110874",
     "status": "completed"
    },
    "tags": []
   },
   "outputs": [],
   "source": [
    "#hide\n",
    "# g = g[cols]"
   ]
  },
  {
   "cell_type": "code",
   "execution_count": 39,
   "metadata": {
    "execution": {
     "iopub.execute_input": "2021-01-17T12:21:46.225080Z",
     "iopub.status.busy": "2021-01-17T12:21:46.224434Z",
     "iopub.status.idle": "2021-01-17T12:21:46.226346Z",
     "shell.execute_reply": "2021-01-17T12:21:46.226906Z"
    },
    "papermill": {
     "duration": 0.041043,
     "end_time": "2021-01-17T12:21:46.227055",
     "exception": false,
     "start_time": "2021-01-17T12:21:46.186012",
     "status": "completed"
    },
    "tags": []
   },
   "outputs": [],
   "source": [
    "# #hide\n",
    "# g = g[g.group.notna()]"
   ]
  },
  {
   "cell_type": "code",
   "execution_count": 40,
   "metadata": {
    "execution": {
     "iopub.execute_input": "2021-01-17T12:21:46.302390Z",
     "iopub.status.busy": "2021-01-17T12:21:46.301744Z",
     "iopub.status.idle": "2021-01-17T12:21:46.304344Z",
     "shell.execute_reply": "2021-01-17T12:21:46.303794Z"
    },
    "papermill": {
     "duration": 0.040871,
     "end_time": "2021-01-17T12:21:46.304481",
     "exception": false,
     "start_time": "2021-01-17T12:21:46.263610",
     "status": "completed"
    },
    "tags": []
   },
   "outputs": [],
   "source": [
    "# #hide\n",
    "# colors = dict(zip(\n",
    "#     [\"Oceania\", \"Europe\", \"Asia\", \"South America\", \"Middle East\", \"North America\", \"Africa\"],\n",
    "#     [\"#adb0ff\", \"#ffb3ff\", \"#90d595\", \"#e48381\", \"#aafbff\", \"#f7bb5f\", \"#eafb50\"]\n",
    "# ))\n",
    "# group_lk = g.set_index('name')['group'].to_dict()"
   ]
  },
  {
   "cell_type": "code",
   "execution_count": null,
   "metadata": {
    "papermill": {
     "duration": 0.035154,
     "end_time": "2021-01-17T12:21:46.375480",
     "exception": false,
     "start_time": "2021-01-17T12:21:46.340326",
     "status": "completed"
    },
    "tags": []
   },
   "outputs": [],
   "source": []
  },
  {
   "cell_type": "code",
   "execution_count": 41,
   "metadata": {
    "execution": {
     "iopub.execute_input": "2021-01-17T12:21:46.463566Z",
     "iopub.status.busy": "2021-01-17T12:21:46.462861Z",
     "iopub.status.idle": "2021-01-17T12:21:46.465772Z",
     "shell.execute_reply": "2021-01-17T12:21:46.465215Z"
    },
    "papermill": {
     "duration": 0.052024,
     "end_time": "2021-01-17T12:21:46.465910",
     "exception": false,
     "start_time": "2021-01-17T12:21:46.413886",
     "status": "completed"
    },
    "tags": []
   },
   "outputs": [],
   "source": [
    "# #hide\n",
    "# fig, ax = plt.subplots(figsize=(15, 8))\n",
    "\n",
    "# def draw_barchart(current_day):\n",
    "#     dff = g[g['day'].eq(current_day)].sort_values(by='value', ascending=True).tail(10)\n",
    "#     ax.clear()\n",
    "#     ax.barh(dff['name'], dff['value'], color=[colors[group_lk[x]] for x in dff['name']])\n",
    "#     dx = dff['value'].max() / 200\n",
    "    \n",
    "#     for i, (value, name) in enumerate(zip(dff['value'], dff['name'])):\n",
    "#         ax.text(value-dx, i,     name,           size=14, weight=600, ha='right', va='bottom')\n",
    "#         ax.text(value-dx, i-.25, group_lk[name], size=10, color='#444444', ha='right', va='baseline')\n",
    "#         ax.text(value+dx, i,     f'{value:,.0f}',  size=14, ha='left',  va='center')\n",
    "#     ax.text(1, 0.4, current_day, transform=ax.transAxes, color='#777777', size=46, ha='right', weight=800)\n",
    "#     ax.text(0, 1.06, 'Population (thousands)', transform=ax.transAxes, size=12, color='#777777')\n",
    "#     ax.xaxis.set_major_formatter(ticker.StrMethodFormatter('{x:,.0f}'))\n",
    "#     ax.xaxis.set_ticks_position('top')\n",
    "#     ax.tick_params(axis='x', colors='#777777', labelsize=12)\n",
    "#     ax.set_yticks([])\n",
    "#     ax.margins(0, 0.01)\n",
    "#     ax.grid(which='major', axis='x', linestyle='-')\n",
    "#     ax.set_axisbelow(True)\n",
    "    \n",
    "#     ax.text(0, 1.15, 'Coronavirus',\n",
    "#             transform=ax.transAxes, size=24, weight=600, ha='left', va='top')\n",
    "# #     ax.text(1, 0, 'by @pratapvardhan; credit @jburnmurdoch', transform=ax.transAxes, color='#777777', ha='right',\n",
    "# #             bbox=dict(facecolor='white', alpha=0.8, edgecolor='white'))\n",
    "#     plt.box(False)"
   ]
  },
  {
   "cell_type": "code",
   "execution_count": 42,
   "metadata": {
    "execution": {
     "iopub.execute_input": "2021-01-17T12:21:46.539702Z",
     "iopub.status.busy": "2021-01-17T12:21:46.539031Z",
     "iopub.status.idle": "2021-01-17T12:21:46.540838Z",
     "shell.execute_reply": "2021-01-17T12:21:46.541393Z"
    },
    "papermill": {
     "duration": 0.04084,
     "end_time": "2021-01-17T12:21:46.541547",
     "exception": false,
     "start_time": "2021-01-17T12:21:46.500707",
     "status": "completed"
    },
    "tags": []
   },
   "outputs": [],
   "source": [
    "# #hide_input\n",
    "# fig, ax = plt.subplots(figsize=(15, 8))\n",
    "# animator = animation.FuncAnimation(fig, draw_barchart, frames=range(g.day.values.min(), g.day.values.max()))\n",
    "# HTML(animator.to_jshtml())\n",
    "# # or use animator.to_html5_video() or animator.save() "
   ]
  },
  {
   "cell_type": "code",
   "execution_count": null,
   "metadata": {
    "papermill": {
     "duration": 0.034207,
     "end_time": "2021-01-17T12:21:46.610367",
     "exception": false,
     "start_time": "2021-01-17T12:21:46.576160",
     "status": "completed"
    },
    "tags": []
   },
   "outputs": [],
   "source": []
  },
  {
   "cell_type": "code",
   "execution_count": null,
   "metadata": {
    "papermill": {
     "duration": 0.034546,
     "end_time": "2021-01-17T12:21:46.682501",
     "exception": false,
     "start_time": "2021-01-17T12:21:46.647955",
     "status": "completed"
    },
    "tags": []
   },
   "outputs": [],
   "source": []
  },
  {
   "cell_type": "code",
   "execution_count": null,
   "metadata": {
    "papermill": {
     "duration": 0.035396,
     "end_time": "2021-01-17T12:21:46.752557",
     "exception": false,
     "start_time": "2021-01-17T12:21:46.717161",
     "status": "completed"
    },
    "tags": []
   },
   "outputs": [],
   "source": []
  }
 ],
 "metadata": {
  "kernelspec": {
   "display_name": "Python 3",
   "language": "python",
   "name": "python3"
  },
  "language_info": {
   "codemirror_mode": {
    "name": "ipython",
    "version": 3
   },
   "file_extension": ".py",
   "mimetype": "text/x-python",
   "name": "python",
   "nbconvert_exporter": "python",
   "pygments_lexer": "ipython3",
   "version": "3.6.12"
  },
  "papermill": {
   "duration": 7.782963,
   "end_time": "2021-01-17T12:21:47.193821",
   "environment_variables": {},
   "exception": null,
   "input_path": "2020-03-21-covid19exp.ipynb",
   "output_path": "2020-03-21-covid19exp.ipynb",
   "parameters": {},
   "start_time": "2021-01-17T12:21:39.410858",
   "version": "2.0.0"
  }
 },
 "nbformat": 4,
 "nbformat_minor": 4
}