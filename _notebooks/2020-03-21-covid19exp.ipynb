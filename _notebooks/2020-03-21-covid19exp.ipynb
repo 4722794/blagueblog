{
 "cells": [
  {
   "cell_type": "markdown",
   "id": "muslim-click",
   "metadata": {
    "papermill": {
     "duration": 0.032406,
     "end_time": "2022-06-08T12:34:44.386053",
     "exception": false,
     "start_time": "2022-06-08T12:34:44.353647",
     "status": "completed"
    },
    "tags": []
   },
   "source": [
    "# COVID-19 Case Race\n",
    "> A race chart to see rising cases around the world\n",
    "\n",
    "- author: Hargun Oberoi\n",
    "- image: images/covid-overview.png\n",
    "- hide: false\n",
    "- badges: false"
   ]
  },
  {
   "cell_type": "code",
   "execution_count": 1,
   "id": "proof-material",
   "metadata": {
    "execution": {
     "iopub.execute_input": "2022-06-08T12:34:44.448419Z",
     "iopub.status.busy": "2022-06-08T12:34:44.447856Z",
     "iopub.status.idle": "2022-06-08T12:34:44.738152Z",
     "shell.execute_reply": "2022-06-08T12:34:44.737541Z"
    },
    "papermill": {
     "duration": 0.325546,
     "end_time": "2022-06-08T12:34:44.738299",
     "exception": false,
     "start_time": "2022-06-08T12:34:44.412753",
     "status": "completed"
    },
    "tags": []
   },
   "outputs": [],
   "source": [
    "#hide\n",
    "import numpy as np\n",
    "import pandas as pd\n",
    "from jinja2 import Template\n",
    "from IPython.display import HTML"
   ]
  },
  {
   "cell_type": "code",
   "execution_count": 2,
   "id": "developed-terminology",
   "metadata": {
    "execution": {
     "iopub.execute_input": "2022-06-08T12:34:44.803518Z",
     "iopub.status.busy": "2022-06-08T12:34:44.802945Z",
     "iopub.status.idle": "2022-06-08T12:34:44.805058Z",
     "shell.execute_reply": "2022-06-08T12:34:44.805461Z"
    },
    "papermill": {
     "duration": 0.037137,
     "end_time": "2022-06-08T12:34:44.805580",
     "exception": false,
     "start_time": "2022-06-08T12:34:44.768443",
     "status": "completed"
    },
    "tags": []
   },
   "outputs": [],
   "source": [
    "#hide\n",
    "\n",
    "# FETCH\n",
    "base_url = 'https://raw.githubusercontent.com/pratapvardhan/notebooks/master/covid19/'\n",
    "paths = {\n",
    "    'mapping': base_url + 'mapping_countries.csv',\n",
    "    'overview': base_url + 'overview.tpl'\n",
    "}"
   ]
  },
  {
   "cell_type": "code",
   "execution_count": 3,
   "id": "dynamic-saver",
   "metadata": {
    "execution": {
     "iopub.execute_input": "2022-06-08T12:34:44.867921Z",
     "iopub.status.busy": "2022-06-08T12:34:44.867352Z",
     "iopub.status.idle": "2022-06-08T12:34:44.870333Z",
     "shell.execute_reply": "2022-06-08T12:34:44.870817Z"
    },
    "papermill": {
     "duration": 0.039054,
     "end_time": "2022-06-08T12:34:44.870936",
     "exception": false,
     "start_time": "2022-06-08T12:34:44.831882",
     "status": "completed"
    },
    "tags": []
   },
   "outputs": [
    {
     "data": {
      "text/plain": [
       "'https://raw.githubusercontent.com/pratapvardhan/notebooks/master/covid19/mapping_countries.csv'"
      ]
     },
     "execution_count": 3,
     "metadata": {},
     "output_type": "execute_result"
    }
   ],
   "source": [
    "#hide\n",
    "paths['mapping']"
   ]
  },
  {
   "cell_type": "code",
   "execution_count": 4,
   "id": "urban-software",
   "metadata": {
    "execution": {
     "iopub.execute_input": "2022-06-08T12:34:44.929882Z",
     "iopub.status.busy": "2022-06-08T12:34:44.929140Z",
     "iopub.status.idle": "2022-06-08T12:34:44.930610Z",
     "shell.execute_reply": "2022-06-08T12:34:44.931240Z"
    },
    "papermill": {
     "duration": 0.033811,
     "end_time": "2022-06-08T12:34:44.931389",
     "exception": false,
     "start_time": "2022-06-08T12:34:44.897578",
     "status": "completed"
    },
    "tags": []
   },
   "outputs": [],
   "source": [
    "#hide\n",
    "def get_mappings(url):\n",
    "    df = pd.read_csv(url)\n",
    "    return {\n",
    "        'df': df,\n",
    "        'replace.country': dict(df.dropna(subset=['Name']).set_index('Country')['Name']),\n",
    "        'map.continent': dict(df.set_index('Name')['Continent'])\n",
    "    }"
   ]
  },
  {
   "cell_type": "code",
   "execution_count": 5,
   "id": "intimate-machinery",
   "metadata": {
    "execution": {
     "iopub.execute_input": "2022-06-08T12:34:44.996666Z",
     "iopub.status.busy": "2022-06-08T12:34:44.996063Z",
     "iopub.status.idle": "2022-06-08T12:34:45.056015Z",
     "shell.execute_reply": "2022-06-08T12:34:45.055468Z"
    },
    "papermill": {
     "duration": 0.094801,
     "end_time": "2022-06-08T12:34:45.056139",
     "exception": false,
     "start_time": "2022-06-08T12:34:44.961338",
     "status": "completed"
    },
    "tags": []
   },
   "outputs": [],
   "source": [
    "#hide\n",
    "mapping = get_mappings(paths['mapping'])"
   ]
  },
  {
   "cell_type": "code",
   "execution_count": 6,
   "id": "certified-tactics",
   "metadata": {
    "execution": {
     "iopub.execute_input": "2022-06-08T12:34:45.122214Z",
     "iopub.status.busy": "2022-06-08T12:34:45.121586Z",
     "iopub.status.idle": "2022-06-08T12:34:45.124284Z",
     "shell.execute_reply": "2022-06-08T12:34:45.124773Z"
    },
    "papermill": {
     "duration": 0.038264,
     "end_time": "2022-06-08T12:34:45.124913",
     "exception": false,
     "start_time": "2022-06-08T12:34:45.086649",
     "status": "completed"
    },
    "tags": []
   },
   "outputs": [],
   "source": [
    "#hide\n",
    "def get_template(path):\n",
    "    from urllib.parse import urlparse\n",
    "    if bool(urlparse(path).netloc):\n",
    "        from urllib.request import urlopen\n",
    "        return urlopen(path).read().decode('utf8')\n",
    "    return open(path).read()"
   ]
  },
  {
   "cell_type": "code",
   "execution_count": 7,
   "id": "realistic-blast",
   "metadata": {
    "execution": {
     "iopub.execute_input": "2022-06-08T12:34:45.191996Z",
     "iopub.status.busy": "2022-06-08T12:34:45.191351Z",
     "iopub.status.idle": "2022-06-08T12:34:45.193621Z",
     "shell.execute_reply": "2022-06-08T12:34:45.193147Z"
    },
    "papermill": {
     "duration": 0.038679,
     "end_time": "2022-06-08T12:34:45.193735",
     "exception": false,
     "start_time": "2022-06-08T12:34:45.155056",
     "status": "completed"
    },
    "tags": []
   },
   "outputs": [],
   "source": [
    "#hide\n",
    "def get_frame(name):\n",
    "    url = (\n",
    "        'https://raw.githubusercontent.com/CSSEGISandData/COVID-19/master/csse_covid_19_data/'\n",
    "        f'csse_covid_19_time_series/time_series_covid19_{name}_global.csv')\n",
    "    df = pd.read_csv(url)\n",
    "    # rename countries\n",
    "    df['Country/Region'] = df['Country/Region'].replace(mapping['replace.country'])\n",
    "    return df"
   ]
  },
  {
   "cell_type": "code",
   "execution_count": 8,
   "id": "affiliated-characterization",
   "metadata": {
    "execution": {
     "iopub.execute_input": "2022-06-08T12:34:45.261298Z",
     "iopub.status.busy": "2022-06-08T12:34:45.260727Z",
     "iopub.status.idle": "2022-06-08T12:34:45.263036Z",
     "shell.execute_reply": "2022-06-08T12:34:45.262611Z"
    },
    "papermill": {
     "duration": 0.039373,
     "end_time": "2022-06-08T12:34:45.263137",
     "exception": false,
     "start_time": "2022-06-08T12:34:45.223764",
     "status": "completed"
    },
    "tags": []
   },
   "outputs": [],
   "source": [
    "#hide\n",
    "def get_dates(df):\n",
    "    dt_cols = df.columns[~df.columns.isin(['Province/State', 'Country/Region', 'Lat', 'Long'])]\n",
    "    LAST_DATE_I = -1\n",
    "    # sometimes last column may be empty, then go backwards\n",
    "    for i in range(-1, -len(dt_cols), -1):\n",
    "        if not df[dt_cols[i]].fillna(0).eq(0).all():\n",
    "            LAST_DATE_I = i\n",
    "            break\n",
    "    return LAST_DATE_I, dt_cols"
   ]
  },
  {
   "cell_type": "code",
   "execution_count": 9,
   "id": "recent-optimization",
   "metadata": {
    "execution": {
     "iopub.execute_input": "2022-06-08T12:34:45.320286Z",
     "iopub.status.busy": "2022-06-08T12:34:45.319729Z",
     "iopub.status.idle": "2022-06-08T12:34:45.906811Z",
     "shell.execute_reply": "2022-06-08T12:34:45.905551Z"
    },
    "papermill": {
     "duration": 0.617426,
     "end_time": "2022-06-08T12:34:45.906952",
     "exception": false,
     "start_time": "2022-06-08T12:34:45.289526",
     "status": "completed"
    },
    "tags": []
   },
   "outputs": [],
   "source": [
    "#hide\n",
    "COL_REGION = 'Country/Region'\n",
    "# Confirmed, Recovered, Deaths\n",
    "df = get_frame('confirmed')\n",
    "# dft_: timeseries, dfc_: today country agg\n",
    "dft_cases = df\n",
    "dft_deaths = get_frame('deaths')\n",
    "dft_recovered = get_frame('recovered')\n",
    "LAST_DATE_I, dt_cols = get_dates(df)"
   ]
  },
  {
   "cell_type": "code",
   "execution_count": 10,
   "id": "absolute-copper",
   "metadata": {
    "execution": {
     "iopub.execute_input": "2022-06-08T12:34:45.974276Z",
     "iopub.status.busy": "2022-06-08T12:34:45.973568Z",
     "iopub.status.idle": "2022-06-08T12:34:45.975505Z",
     "shell.execute_reply": "2022-06-08T12:34:45.975951Z"
    },
    "papermill": {
     "duration": 0.038205,
     "end_time": "2022-06-08T12:34:45.976084",
     "exception": false,
     "start_time": "2022-06-08T12:34:45.937879",
     "status": "completed"
    },
    "tags": []
   },
   "outputs": [],
   "source": [
    "#hide\n",
    "LAST_DATE_I, dt_cols = get_dates(df)\n",
    "dt_today =dt_cols[LAST_DATE_I]\n",
    "# dt_5day = dt_cols[LAST_DATE_I - 5]\n",
    "dt_yday = dt_cols[LAST_DATE_I - 1]"
   ]
  },
  {
   "cell_type": "code",
   "execution_count": 11,
   "id": "restricted-sheriff",
   "metadata": {
    "execution": {
     "iopub.execute_input": "2022-06-08T12:34:46.034610Z",
     "iopub.status.busy": "2022-06-08T12:34:46.034065Z",
     "iopub.status.idle": "2022-06-08T12:34:46.041965Z",
     "shell.execute_reply": "2022-06-08T12:34:46.042473Z"
    },
    "papermill": {
     "duration": 0.040111,
     "end_time": "2022-06-08T12:34:46.042594",
     "exception": false,
     "start_time": "2022-06-08T12:34:46.002483",
     "status": "completed"
    },
    "tags": []
   },
   "outputs": [],
   "source": [
    "#hide\n",
    "dfc_cases = dft_cases.groupby(COL_REGION)[dt_today].sum()\n",
    "dfc_deaths = dft_deaths.groupby(COL_REGION)[dt_today].sum()\n",
    "# dfp_cases = dft_cases.groupby(COL_REGION)[dt_5day].sum()\n",
    "# dfp_deaths = dft_deaths.groupby(COL_REGION)[dt_5day].sum()\n",
    "dfp_cases = dft_cases.groupby(COL_REGION)[dt_yday].sum()\n",
    "dfp_deaths = dft_deaths.groupby(COL_REGION)[dt_yday].sum()"
   ]
  },
  {
   "cell_type": "code",
   "execution_count": 12,
   "id": "deluxe-hepatitis",
   "metadata": {
    "execution": {
     "iopub.execute_input": "2022-06-08T12:34:46.100456Z",
     "iopub.status.busy": "2022-06-08T12:34:46.099934Z",
     "iopub.status.idle": "2022-06-08T12:34:46.104661Z",
     "shell.execute_reply": "2022-06-08T12:34:46.105151Z"
    },
    "papermill": {
     "duration": 0.036122,
     "end_time": "2022-06-08T12:34:46.105268",
     "exception": false,
     "start_time": "2022-06-08T12:34:46.069146",
     "status": "completed"
    },
    "tags": []
   },
   "outputs": [],
   "source": [
    "#hide\n",
    "df_table = (pd.DataFrame(dict(Cases = dfc_cases, Deaths = dfc_deaths, PCases = dfp_cases, PDeaths = dfp_deaths))\n",
    "            .sort_values(by = ['Cases','Deaths'], ascending = [False, False])\n",
    "            .reset_index())"
   ]
  },
  {
   "cell_type": "code",
   "execution_count": 13,
   "id": "educational-chancellor",
   "metadata": {
    "execution": {
     "iopub.execute_input": "2022-06-08T12:34:46.176368Z",
     "iopub.status.busy": "2022-06-08T12:34:46.175783Z",
     "iopub.status.idle": "2022-06-08T12:34:46.183162Z",
     "shell.execute_reply": "2022-06-08T12:34:46.183654Z"
    },
    "papermill": {
     "duration": 0.0523,
     "end_time": "2022-06-08T12:34:46.183774",
     "exception": false,
     "start_time": "2022-06-08T12:34:46.131474",
     "status": "completed"
    },
    "tags": []
   },
   "outputs": [
    {
     "data": {
      "text/html": [
       "<div>\n",
       "<style scoped>\n",
       "    .dataframe tbody tr th:only-of-type {\n",
       "        vertical-align: middle;\n",
       "    }\n",
       "\n",
       "    .dataframe tbody tr th {\n",
       "        vertical-align: top;\n",
       "    }\n",
       "\n",
       "    .dataframe thead th {\n",
       "        text-align: right;\n",
       "    }\n",
       "</style>\n",
       "<table border=\"1\" class=\"dataframe\">\n",
       "  <thead>\n",
       "    <tr style=\"text-align: right;\">\n",
       "      <th></th>\n",
       "      <th>Country/Region</th>\n",
       "      <th>Cases</th>\n",
       "      <th>Deaths</th>\n",
       "      <th>PCases</th>\n",
       "      <th>PDeaths</th>\n",
       "      <th>Cases (+)</th>\n",
       "      <th>Deaths (+)</th>\n",
       "      <th>Fatality Rate</th>\n",
       "      <th>Continent</th>\n",
       "    </tr>\n",
       "  </thead>\n",
       "  <tbody>\n",
       "    <tr>\n",
       "      <th>0</th>\n",
       "      <td>US</td>\n",
       "      <td>85003945</td>\n",
       "      <td>1009326</td>\n",
       "      <td>84882287</td>\n",
       "      <td>1008857</td>\n",
       "      <td>121658</td>\n",
       "      <td>469</td>\n",
       "      <td>1.19</td>\n",
       "      <td>North America</td>\n",
       "    </tr>\n",
       "    <tr>\n",
       "      <th>1</th>\n",
       "      <td>India</td>\n",
       "      <td>43190282</td>\n",
       "      <td>524715</td>\n",
       "      <td>43185049</td>\n",
       "      <td>524708</td>\n",
       "      <td>5233</td>\n",
       "      <td>7</td>\n",
       "      <td>1.21</td>\n",
       "      <td>Asia</td>\n",
       "    </tr>\n",
       "    <tr>\n",
       "      <th>2</th>\n",
       "      <td>Brazil</td>\n",
       "      <td>31266163</td>\n",
       "      <td>667348</td>\n",
       "      <td>31195118</td>\n",
       "      <td>667041</td>\n",
       "      <td>71045</td>\n",
       "      <td>307</td>\n",
       "      <td>2.13</td>\n",
       "      <td>South America</td>\n",
       "    </tr>\n",
       "    <tr>\n",
       "      <th>3</th>\n",
       "      <td>France</td>\n",
       "      <td>29852463</td>\n",
       "      <td>149630</td>\n",
       "      <td>29840626</td>\n",
       "      <td>149509</td>\n",
       "      <td>11837</td>\n",
       "      <td>121</td>\n",
       "      <td>0.50</td>\n",
       "      <td>Europe</td>\n",
       "    </tr>\n",
       "    <tr>\n",
       "      <th>4</th>\n",
       "      <td>Germany</td>\n",
       "      <td>26583016</td>\n",
       "      <td>139533</td>\n",
       "      <td>26498361</td>\n",
       "      <td>139388</td>\n",
       "      <td>84655</td>\n",
       "      <td>145</td>\n",
       "      <td>0.52</td>\n",
       "      <td>Europe</td>\n",
       "    </tr>\n",
       "  </tbody>\n",
       "</table>\n",
       "</div>"
      ],
      "text/plain": [
       "  Country/Region     Cases   Deaths    PCases  PDeaths  Cases (+)  Deaths (+)  \\\n",
       "0             US  85003945  1009326  84882287  1008857     121658         469   \n",
       "1          India  43190282   524715  43185049   524708       5233           7   \n",
       "2         Brazil  31266163   667348  31195118   667041      71045         307   \n",
       "3         France  29852463   149630  29840626   149509      11837         121   \n",
       "4        Germany  26583016   139533  26498361   139388      84655         145   \n",
       "\n",
       "   Fatality Rate      Continent  \n",
       "0           1.19  North America  \n",
       "1           1.21           Asia  \n",
       "2           2.13  South America  \n",
       "3           0.50         Europe  \n",
       "4           0.52         Europe  "
      ]
     },
     "execution_count": 13,
     "metadata": {},
     "output_type": "execute_result"
    }
   ],
   "source": [
    "#hide\n",
    "for c in 'Cases, Deaths'.split(', '):\n",
    "    df_table[f'{c} (+)'] = (df_table[c] - df_table[f'P{c}']).clip(0)\n",
    "    #Clip ça veut dire, les chiffres negatif sont interdit\n",
    "df_table['Fatality Rate'] = (100* df_table['Deaths']/ df_table['Cases']).round(2)\n",
    "df_table['Continent'] = df_table['Country/Region'].map(mapping['map.continent'])\n",
    "df_table.head(5)"
   ]
  },
  {
   "cell_type": "code",
   "execution_count": 14,
   "id": "aboriginal-bulgaria",
   "metadata": {
    "execution": {
     "iopub.execute_input": "2022-06-08T12:34:46.243011Z",
     "iopub.status.busy": "2022-06-08T12:34:46.242463Z",
     "iopub.status.idle": "2022-06-08T12:34:46.245388Z",
     "shell.execute_reply": "2022-06-08T12:34:46.245816Z"
    },
    "papermill": {
     "duration": 0.035293,
     "end_time": "2022-06-08T12:34:46.245938",
     "exception": false,
     "start_time": "2022-06-08T12:34:46.210645",
     "status": "completed"
    },
    "tags": []
   },
   "outputs": [],
   "source": [
    "#hide\n",
    "#delete problematic countries from table\n",
    "df_table = df_table[~df_table['Country/Region'].isin(['Cape Verde', 'Cruise Ship', 'Kosovo'])]"
   ]
  },
  {
   "cell_type": "code",
   "execution_count": 15,
   "id": "fantastic-effect",
   "metadata": {
    "execution": {
     "iopub.execute_input": "2022-06-08T12:34:46.307673Z",
     "iopub.status.busy": "2022-06-08T12:34:46.307143Z",
     "iopub.status.idle": "2022-06-08T12:34:46.323646Z",
     "shell.execute_reply": "2022-06-08T12:34:46.323225Z"
    },
    "papermill": {
     "duration": 0.050911,
     "end_time": "2022-06-08T12:34:46.323749",
     "exception": false,
     "start_time": "2022-06-08T12:34:46.272838",
     "status": "completed"
    },
    "tags": []
   },
   "outputs": [
    {
     "data": {
      "text/html": [
       "<div>\n",
       "<style scoped>\n",
       "    .dataframe tbody tr th:only-of-type {\n",
       "        vertical-align: middle;\n",
       "    }\n",
       "\n",
       "    .dataframe tbody tr th {\n",
       "        vertical-align: top;\n",
       "    }\n",
       "\n",
       "    .dataframe thead th {\n",
       "        text-align: right;\n",
       "    }\n",
       "</style>\n",
       "<table border=\"1\" class=\"dataframe\">\n",
       "  <thead>\n",
       "    <tr style=\"text-align: right;\">\n",
       "      <th></th>\n",
       "      <th>Country/Region</th>\n",
       "      <th>Cases</th>\n",
       "      <th>Deaths</th>\n",
       "      <th>PCases</th>\n",
       "      <th>PDeaths</th>\n",
       "      <th>Cases (+)</th>\n",
       "      <th>Deaths (+)</th>\n",
       "      <th>Fatality Rate</th>\n",
       "      <th>Continent</th>\n",
       "    </tr>\n",
       "  </thead>\n",
       "  <tbody>\n",
       "    <tr>\n",
       "      <th>0</th>\n",
       "      <td>US</td>\n",
       "      <td>85003945</td>\n",
       "      <td>1009326</td>\n",
       "      <td>84882287</td>\n",
       "      <td>1008857</td>\n",
       "      <td>121658</td>\n",
       "      <td>469</td>\n",
       "      <td>1.2</td>\n",
       "      <td>North America</td>\n",
       "    </tr>\n",
       "    <tr>\n",
       "      <th>1</th>\n",
       "      <td>India</td>\n",
       "      <td>43190282</td>\n",
       "      <td>524715</td>\n",
       "      <td>43185049</td>\n",
       "      <td>524708</td>\n",
       "      <td>5233</td>\n",
       "      <td>7</td>\n",
       "      <td>1.2</td>\n",
       "      <td>Asia</td>\n",
       "    </tr>\n",
       "    <tr>\n",
       "      <th>2</th>\n",
       "      <td>Brazil</td>\n",
       "      <td>31266163</td>\n",
       "      <td>667348</td>\n",
       "      <td>31195118</td>\n",
       "      <td>667041</td>\n",
       "      <td>71045</td>\n",
       "      <td>307</td>\n",
       "      <td>2.1</td>\n",
       "      <td>South America</td>\n",
       "    </tr>\n",
       "    <tr>\n",
       "      <th>3</th>\n",
       "      <td>France</td>\n",
       "      <td>29852463</td>\n",
       "      <td>149630</td>\n",
       "      <td>29840626</td>\n",
       "      <td>149509</td>\n",
       "      <td>11837</td>\n",
       "      <td>121</td>\n",
       "      <td>0.5</td>\n",
       "      <td>Europe</td>\n",
       "    </tr>\n",
       "    <tr>\n",
       "      <th>4</th>\n",
       "      <td>Germany</td>\n",
       "      <td>26583016</td>\n",
       "      <td>139533</td>\n",
       "      <td>26498361</td>\n",
       "      <td>139388</td>\n",
       "      <td>84655</td>\n",
       "      <td>145</td>\n",
       "      <td>0.5</td>\n",
       "      <td>Europe</td>\n",
       "    </tr>\n",
       "  </tbody>\n",
       "</table>\n",
       "</div>"
      ],
      "text/plain": [
       "  Country/Region     Cases   Deaths    PCases  PDeaths  Cases (+)  Deaths (+)  \\\n",
       "0             US  85003945  1009326  84882287  1008857     121658         469   \n",
       "1          India  43190282   524715  43185049   524708       5233           7   \n",
       "2         Brazil  31266163   667348  31195118   667041      71045         307   \n",
       "3         France  29852463   149630  29840626   149509      11837         121   \n",
       "4        Germany  26583016   139533  26498361   139388      84655         145   \n",
       "\n",
       "   Fatality Rate      Continent  \n",
       "0            1.2  North America  \n",
       "1            1.2           Asia  \n",
       "2            2.1  South America  \n",
       "3            0.5         Europe  \n",
       "4            0.5         Europe  "
      ]
     },
     "execution_count": 15,
     "metadata": {},
     "output_type": "execute_result"
    }
   ],
   "source": [
    "#hide\n",
    "df_table = (pd.DataFrame(dict(Cases=dfc_cases, Deaths=dfc_deaths, PCases=dfp_cases, PDeaths=dfp_deaths))\n",
    "             .sort_values(by=['Cases', 'Deaths'], ascending=[False, False])\n",
    "             .reset_index())\n",
    "df_table.rename(columns={'index': 'Country/Region'}, inplace=True)\n",
    "for c in 'Cases, Deaths'.split(', '):\n",
    "    df_table[f'{c} (+)'] = (df_table[c] - df_table[f'P{c}']).clip(0)  # DATA BUG\n",
    "df_table['Fatality Rate'] = (100 * df_table['Deaths'] / df_table['Cases']).round(1)\n",
    "df_table['Continent'] = df_table['Country/Region'].map(mapping['map.continent'])\n",
    "df_table.head(5)"
   ]
  },
  {
   "cell_type": "code",
   "execution_count": 16,
   "id": "fewer-occasion",
   "metadata": {
    "execution": {
     "iopub.execute_input": "2022-06-08T12:34:46.383226Z",
     "iopub.status.busy": "2022-06-08T12:34:46.382682Z",
     "iopub.status.idle": "2022-06-08T12:34:46.385055Z",
     "shell.execute_reply": "2022-06-08T12:34:46.384667Z"
    },
    "papermill": {
     "duration": 0.034062,
     "end_time": "2022-06-08T12:34:46.385148",
     "exception": false,
     "start_time": "2022-06-08T12:34:46.351086",
     "status": "completed"
    },
    "tags": []
   },
   "outputs": [],
   "source": [
    "#hide\n",
    "#delete problematic countries from table\n",
    "df_table = df_table[~df_table['Country/Region'].isin(['Cape Verde', 'Cruise Ship', 'Kosovo'])]"
   ]
  },
  {
   "cell_type": "code",
   "execution_count": 17,
   "id": "related-center",
   "metadata": {
    "execution": {
     "iopub.execute_input": "2022-06-08T12:34:46.447046Z",
     "iopub.status.busy": "2022-06-08T12:34:46.446511Z",
     "iopub.status.idle": "2022-06-08T12:34:46.460667Z",
     "shell.execute_reply": "2022-06-08T12:34:46.460171Z"
    },
    "papermill": {
     "duration": 0.048758,
     "end_time": "2022-06-08T12:34:46.460776",
     "exception": false,
     "start_time": "2022-06-08T12:34:46.412018",
     "status": "completed"
    },
    "tags": []
   },
   "outputs": [],
   "source": [
    "#hide\n",
    "metrics = [df_table.columns[index] for index in [1,2,5,6]]\n",
    "# s_china = df_table[df_table['Country/Region'].eq('China')][metrics].sum().add_prefix('China ')\n",
    "s_us = df_table[df_table['Country/Region'].eq('US')][metrics].sum().add_prefix('US ')\n",
    "s_eu = df_table[df_table['Continent'].eq('Europe')][metrics].sum().add_prefix('EU ')\n",
    "s_ind = df_table[df_table['Country/Region'].eq('India')][metrics].sum().add_prefix('India ')\n",
    "summary = {'updated': pd.to_datetime(dt_today), 'since': pd.to_datetime(dt_yday)}\n",
    "summary = {'updated': pd.to_datetime(dt_today), 'since': pd.to_datetime(dt_yday)}\n",
    "summary = {**summary, **df_table[metrics].sum(), **s_ind, **s_us, **s_eu}"
   ]
  },
  {
   "cell_type": "code",
   "execution_count": 18,
   "id": "engaging-syndrome",
   "metadata": {
    "execution": {
     "iopub.execute_input": "2022-06-08T12:34:46.528625Z",
     "iopub.status.busy": "2022-06-08T12:34:46.528053Z",
     "iopub.status.idle": "2022-06-08T12:34:46.548123Z",
     "shell.execute_reply": "2022-06-08T12:34:46.547609Z"
    },
    "papermill": {
     "duration": 0.056367,
     "end_time": "2022-06-08T12:34:46.548237",
     "exception": false,
     "start_time": "2022-06-08T12:34:46.491870",
     "status": "completed"
    },
    "tags": []
   },
   "outputs": [],
   "source": [
    "#hide\n",
    "dft_ct_new_cases = dft_cases.groupby(COL_REGION)[dt_cols].sum().diff(axis=1).fillna(0).astype(int)"
   ]
  },
  {
   "cell_type": "code",
   "execution_count": 19,
   "id": "neutral-assignment",
   "metadata": {
    "execution": {
     "iopub.execute_input": "2022-06-08T12:34:46.607587Z",
     "iopub.status.busy": "2022-06-08T12:34:46.606896Z",
     "iopub.status.idle": "2022-06-08T12:34:46.611408Z",
     "shell.execute_reply": "2022-06-08T12:34:46.610831Z"
    },
    "papermill": {
     "duration": 0.035568,
     "end_time": "2022-06-08T12:34:46.611521",
     "exception": false,
     "start_time": "2022-06-08T12:34:46.575953",
     "status": "completed"
    },
    "tags": []
   },
   "outputs": [],
   "source": [
    "#hide\n",
    "everydaycases = dft_ct_new_cases.cumsum(axis=1)"
   ]
  },
  {
   "cell_type": "code",
   "execution_count": 20,
   "id": "parliamentary-calgary",
   "metadata": {
    "execution": {
     "iopub.execute_input": "2022-06-08T12:34:46.677751Z",
     "iopub.status.busy": "2022-06-08T12:34:46.677162Z",
     "iopub.status.idle": "2022-06-08T12:34:47.196957Z",
     "shell.execute_reply": "2022-06-08T12:34:47.196232Z"
    },
    "papermill": {
     "duration": 0.554694,
     "end_time": "2022-06-08T12:34:47.197091",
     "exception": false,
     "start_time": "2022-06-08T12:34:46.642397",
     "status": "completed"
    },
    "tags": []
   },
   "outputs": [],
   "source": [
    "#hide\n",
    "import pandas as pd\n",
    "import matplotlib.pyplot as plt\n",
    "import matplotlib.ticker as ticker\n",
    "import matplotlib.animation as animation\n",
    "from IPython.display import HTML"
   ]
  },
  {
   "cell_type": "code",
   "execution_count": 21,
   "id": "lasting-extraction",
   "metadata": {
    "execution": {
     "iopub.execute_input": "2022-06-08T12:34:47.258605Z",
     "iopub.status.busy": "2022-06-08T12:34:47.258075Z",
     "iopub.status.idle": "2022-06-08T12:34:47.264354Z",
     "shell.execute_reply": "2022-06-08T12:34:47.264858Z"
    },
    "papermill": {
     "duration": 0.040206,
     "end_time": "2022-06-08T12:34:47.264979",
     "exception": false,
     "start_time": "2022-06-08T12:34:47.224773",
     "status": "completed"
    },
    "tags": []
   },
   "outputs": [],
   "source": [
    "#hide\n",
    "t = everydaycases.stack()"
   ]
  },
  {
   "cell_type": "code",
   "execution_count": 22,
   "id": "premier-sleeve",
   "metadata": {
    "execution": {
     "iopub.execute_input": "2022-06-08T12:34:47.324567Z",
     "iopub.status.busy": "2022-06-08T12:34:47.324007Z",
     "iopub.status.idle": "2022-06-08T12:34:47.334295Z",
     "shell.execute_reply": "2022-06-08T12:34:47.333859Z"
    },
    "papermill": {
     "duration": 0.042055,
     "end_time": "2022-06-08T12:34:47.334407",
     "exception": false,
     "start_time": "2022-06-08T12:34:47.292352",
     "status": "completed"
    },
    "tags": []
   },
   "outputs": [],
   "source": [
    "#hide\n",
    "g = t.reset_index(['Country/Region'])"
   ]
  },
  {
   "cell_type": "code",
   "execution_count": 23,
   "id": "distributed-pittsburgh",
   "metadata": {
    "execution": {
     "iopub.execute_input": "2022-06-08T12:34:47.393284Z",
     "iopub.status.busy": "2022-06-08T12:34:47.392716Z",
     "iopub.status.idle": "2022-06-08T12:34:47.395167Z",
     "shell.execute_reply": "2022-06-08T12:34:47.394758Z"
    },
    "papermill": {
     "duration": 0.033292,
     "end_time": "2022-06-08T12:34:47.395269",
     "exception": false,
     "start_time": "2022-06-08T12:34:47.361977",
     "status": "completed"
    },
    "tags": []
   },
   "outputs": [],
   "source": [
    "#hide\n",
    "g.index.name = 'date'"
   ]
  },
  {
   "cell_type": "code",
   "execution_count": 24,
   "id": "naked-donor",
   "metadata": {
    "execution": {
     "iopub.execute_input": "2022-06-08T12:34:47.453065Z",
     "iopub.status.busy": "2022-06-08T12:34:47.452531Z",
     "iopub.status.idle": "2022-06-08T12:34:47.454923Z",
     "shell.execute_reply": "2022-06-08T12:34:47.454503Z"
    },
    "papermill": {
     "duration": 0.032546,
     "end_time": "2022-06-08T12:34:47.455024",
     "exception": false,
     "start_time": "2022-06-08T12:34:47.422478",
     "status": "completed"
    },
    "tags": []
   },
   "outputs": [],
   "source": [
    "# #hide\n",
    "# g = g.reset_index(['date'])"
   ]
  },
  {
   "cell_type": "code",
   "execution_count": 25,
   "id": "incomplete-mustang",
   "metadata": {
    "execution": {
     "iopub.execute_input": "2022-06-08T12:34:47.512409Z",
     "iopub.status.busy": "2022-06-08T12:34:47.511698Z",
     "iopub.status.idle": "2022-06-08T12:34:47.513356Z",
     "shell.execute_reply": "2022-06-08T12:34:47.513888Z"
    },
    "papermill": {
     "duration": 0.032145,
     "end_time": "2022-06-08T12:34:47.514024",
     "exception": false,
     "start_time": "2022-06-08T12:34:47.481879",
     "status": "completed"
    },
    "tags": []
   },
   "outputs": [],
   "source": [
    "#hide\n",
    "# g.head()"
   ]
  },
  {
   "cell_type": "code",
   "execution_count": 26,
   "id": "specific-kruger",
   "metadata": {
    "execution": {
     "iopub.execute_input": "2022-06-08T12:34:47.573840Z",
     "iopub.status.busy": "2022-06-08T12:34:47.573111Z",
     "iopub.status.idle": "2022-06-08T12:34:47.574567Z",
     "shell.execute_reply": "2022-06-08T12:34:47.575063Z"
    },
    "papermill": {
     "duration": 0.033215,
     "end_time": "2022-06-08T12:34:47.575207",
     "exception": false,
     "start_time": "2022-06-08T12:34:47.541992",
     "status": "completed"
    },
    "tags": []
   },
   "outputs": [],
   "source": [
    "#hide\n",
    "# g.columns = ['date','country','cases']"
   ]
  },
  {
   "cell_type": "code",
   "execution_count": 27,
   "id": "tender-conversion",
   "metadata": {
    "execution": {
     "iopub.execute_input": "2022-06-08T12:34:47.634210Z",
     "iopub.status.busy": "2022-06-08T12:34:47.633522Z",
     "iopub.status.idle": "2022-06-08T12:34:47.637449Z",
     "shell.execute_reply": "2022-06-08T12:34:47.637020Z"
    },
    "papermill": {
     "duration": 0.035035,
     "end_time": "2022-06-08T12:34:47.637547",
     "exception": false,
     "start_time": "2022-06-08T12:34:47.602512",
     "status": "completed"
    },
    "tags": []
   },
   "outputs": [],
   "source": [
    "#hide\n",
    "# g['continent'] = g.country"
   ]
  },
  {
   "cell_type": "code",
   "execution_count": 28,
   "id": "substantial-wilderness",
   "metadata": {
    "execution": {
     "iopub.execute_input": "2022-06-08T12:34:47.696494Z",
     "iopub.status.busy": "2022-06-08T12:34:47.695734Z",
     "iopub.status.idle": "2022-06-08T12:34:47.698879Z",
     "shell.execute_reply": "2022-06-08T12:34:47.698455Z"
    },
    "papermill": {
     "duration": 0.033959,
     "end_time": "2022-06-08T12:34:47.698980",
     "exception": false,
     "start_time": "2022-06-08T12:34:47.665021",
     "status": "completed"
    },
    "tags": []
   },
   "outputs": [],
   "source": [
    "#hide\n",
    "# cols = list(g.columns.values)"
   ]
  },
  {
   "cell_type": "code",
   "execution_count": 29,
   "id": "solved-farming",
   "metadata": {
    "execution": {
     "iopub.execute_input": "2022-06-08T12:34:47.757304Z",
     "iopub.status.busy": "2022-06-08T12:34:47.756618Z",
     "iopub.status.idle": "2022-06-08T12:34:47.758289Z",
     "shell.execute_reply": "2022-06-08T12:34:47.758782Z"
    },
    "papermill": {
     "duration": 0.032845,
     "end_time": "2022-06-08T12:34:47.758895",
     "exception": false,
     "start_time": "2022-06-08T12:34:47.726050",
     "status": "completed"
    },
    "tags": []
   },
   "outputs": [],
   "source": [
    "#hide\n",
    "# cols.insert(0, cols.pop())"
   ]
  },
  {
   "cell_type": "code",
   "execution_count": 30,
   "id": "executed-adoption",
   "metadata": {
    "execution": {
     "iopub.execute_input": "2022-06-08T12:34:47.817071Z",
     "iopub.status.busy": "2022-06-08T12:34:47.816407Z",
     "iopub.status.idle": "2022-06-08T12:34:47.820911Z",
     "shell.execute_reply": "2022-06-08T12:34:47.820438Z"
    },
    "papermill": {
     "duration": 0.035013,
     "end_time": "2022-06-08T12:34:47.821011",
     "exception": false,
     "start_time": "2022-06-08T12:34:47.785998",
     "status": "completed"
    },
    "tags": []
   },
   "outputs": [],
   "source": [
    "#hide\n",
    "# g = g[cols]"
   ]
  },
  {
   "cell_type": "code",
   "execution_count": 31,
   "id": "subject-dublin",
   "metadata": {
    "execution": {
     "iopub.execute_input": "2022-06-08T12:34:47.879638Z",
     "iopub.status.busy": "2022-06-08T12:34:47.878926Z",
     "iopub.status.idle": "2022-06-08T12:34:47.881154Z",
     "shell.execute_reply": "2022-06-08T12:34:47.880576Z"
    },
    "papermill": {
     "duration": 0.033122,
     "end_time": "2022-06-08T12:34:47.881280",
     "exception": false,
     "start_time": "2022-06-08T12:34:47.848158",
     "status": "completed"
    },
    "tags": []
   },
   "outputs": [],
   "source": [
    "#hide\n",
    "# g['continent'] = g['continent'].map(mapping['map.continent'])"
   ]
  },
  {
   "cell_type": "code",
   "execution_count": 32,
   "id": "freelance-scout",
   "metadata": {
    "execution": {
     "iopub.execute_input": "2022-06-08T12:34:47.940582Z",
     "iopub.status.busy": "2022-06-08T12:34:47.939855Z",
     "iopub.status.idle": "2022-06-08T12:34:47.943060Z",
     "shell.execute_reply": "2022-06-08T12:34:47.942426Z"
    },
    "papermill": {
     "duration": 0.034197,
     "end_time": "2022-06-08T12:34:47.943193",
     "exception": false,
     "start_time": "2022-06-08T12:34:47.908996",
     "status": "completed"
    },
    "tags": []
   },
   "outputs": [],
   "source": [
    "#hide\n",
    "# g.head()"
   ]
  },
  {
   "cell_type": "code",
   "execution_count": 33,
   "id": "limited-engine",
   "metadata": {
    "execution": {
     "iopub.execute_input": "2022-06-08T12:34:48.001748Z",
     "iopub.status.busy": "2022-06-08T12:34:48.001057Z",
     "iopub.status.idle": "2022-06-08T12:34:48.002614Z",
     "shell.execute_reply": "2022-06-08T12:34:48.003229Z"
    },
    "papermill": {
     "duration": 0.033028,
     "end_time": "2022-06-08T12:34:48.003372",
     "exception": false,
     "start_time": "2022-06-08T12:34:47.970344",
     "status": "completed"
    },
    "tags": []
   },
   "outputs": [],
   "source": [
    "# hide\n",
    "# g['date'] = g['date'].astype('datetime64[ns]')"
   ]
  },
  {
   "cell_type": "code",
   "execution_count": 34,
   "id": "sophisticated-supervisor",
   "metadata": {
    "execution": {
     "iopub.execute_input": "2022-06-08T12:34:48.062455Z",
     "iopub.status.busy": "2022-06-08T12:34:48.061759Z",
     "iopub.status.idle": "2022-06-08T12:34:48.065632Z",
     "shell.execute_reply": "2022-06-08T12:34:48.066091Z"
    },
    "papermill": {
     "duration": 0.03525,
     "end_time": "2022-06-08T12:34:48.066214",
     "exception": false,
     "start_time": "2022-06-08T12:34:48.030964",
     "status": "completed"
    },
    "tags": []
   },
   "outputs": [],
   "source": [
    "#hide\n",
    "# g['date'] = g.date.dt.dayofyear"
   ]
  },
  {
   "cell_type": "code",
   "execution_count": 35,
   "id": "inside-dubai",
   "metadata": {
    "execution": {
     "iopub.execute_input": "2022-06-08T12:34:48.125270Z",
     "iopub.status.busy": "2022-06-08T12:34:48.124586Z",
     "iopub.status.idle": "2022-06-08T12:34:48.126285Z",
     "shell.execute_reply": "2022-06-08T12:34:48.126792Z"
    },
    "papermill": {
     "duration": 0.032997,
     "end_time": "2022-06-08T12:34:48.126931",
     "exception": false,
     "start_time": "2022-06-08T12:34:48.093934",
     "status": "completed"
    },
    "tags": []
   },
   "outputs": [],
   "source": [
    "#hide\n",
    "# g = g.rename(columns= {'continent':'group','country':'name','cases':'value'})"
   ]
  },
  {
   "cell_type": "code",
   "execution_count": 36,
   "id": "fleet-motorcycle",
   "metadata": {
    "execution": {
     "iopub.execute_input": "2022-06-08T12:34:48.192953Z",
     "iopub.status.busy": "2022-06-08T12:34:48.192251Z",
     "iopub.status.idle": "2022-06-08T12:34:48.194777Z",
     "shell.execute_reply": "2022-06-08T12:34:48.194134Z"
    },
    "papermill": {
     "duration": 0.037063,
     "end_time": "2022-06-08T12:34:48.194901",
     "exception": false,
     "start_time": "2022-06-08T12:34:48.157838",
     "status": "completed"
    },
    "tags": []
   },
   "outputs": [],
   "source": [
    "#hide\n",
    "# cols = ['name','group','day','value']"
   ]
  },
  {
   "cell_type": "code",
   "execution_count": 37,
   "id": "continued-sleeping",
   "metadata": {
    "execution": {
     "iopub.execute_input": "2022-06-08T12:34:48.254635Z",
     "iopub.status.busy": "2022-06-08T12:34:48.253950Z",
     "iopub.status.idle": "2022-06-08T12:34:48.256426Z",
     "shell.execute_reply": "2022-06-08T12:34:48.256907Z"
    },
    "papermill": {
     "duration": 0.034088,
     "end_time": "2022-06-08T12:34:48.257050",
     "exception": false,
     "start_time": "2022-06-08T12:34:48.222962",
     "status": "completed"
    },
    "tags": []
   },
   "outputs": [],
   "source": [
    "#hide\n",
    "# g.rename(columns= {'date':'day'},inplace = True)"
   ]
  },
  {
   "cell_type": "code",
   "execution_count": 38,
   "id": "major-fight",
   "metadata": {
    "execution": {
     "iopub.execute_input": "2022-06-08T12:34:48.315770Z",
     "iopub.status.busy": "2022-06-08T12:34:48.315188Z",
     "iopub.status.idle": "2022-06-08T12:34:48.317454Z",
     "shell.execute_reply": "2022-06-08T12:34:48.317876Z"
    },
    "papermill": {
     "duration": 0.033444,
     "end_time": "2022-06-08T12:34:48.318004",
     "exception": false,
     "start_time": "2022-06-08T12:34:48.284560",
     "status": "completed"
    },
    "tags": []
   },
   "outputs": [],
   "source": [
    "#hide\n",
    "# g = g[cols]"
   ]
  },
  {
   "cell_type": "code",
   "execution_count": 39,
   "id": "structured-mobile",
   "metadata": {
    "execution": {
     "iopub.execute_input": "2022-06-08T12:34:48.383237Z",
     "iopub.status.busy": "2022-06-08T12:34:48.382688Z",
     "iopub.status.idle": "2022-06-08T12:34:48.384470Z",
     "shell.execute_reply": "2022-06-08T12:34:48.383957Z"
    },
    "papermill": {
     "duration": 0.036163,
     "end_time": "2022-06-08T12:34:48.384572",
     "exception": false,
     "start_time": "2022-06-08T12:34:48.348409",
     "status": "completed"
    },
    "tags": []
   },
   "outputs": [],
   "source": [
    "# #hide\n",
    "# g = g[g.group.notna()]"
   ]
  },
  {
   "cell_type": "code",
   "execution_count": 40,
   "id": "determined-closing",
   "metadata": {
    "execution": {
     "iopub.execute_input": "2022-06-08T12:34:48.449520Z",
     "iopub.status.busy": "2022-06-08T12:34:48.448782Z",
     "iopub.status.idle": "2022-06-08T12:34:48.451144Z",
     "shell.execute_reply": "2022-06-08T12:34:48.450489Z"
    },
    "papermill": {
     "duration": 0.039249,
     "end_time": "2022-06-08T12:34:48.451274",
     "exception": false,
     "start_time": "2022-06-08T12:34:48.412025",
     "status": "completed"
    },
    "tags": []
   },
   "outputs": [],
   "source": [
    "# #hide\n",
    "# colors = dict(zip(\n",
    "#     [\"Oceania\", \"Europe\", \"Asia\", \"South America\", \"Middle East\", \"North America\", \"Africa\"],\n",
    "#     [\"#adb0ff\", \"#ffb3ff\", \"#90d595\", \"#e48381\", \"#aafbff\", \"#f7bb5f\", \"#eafb50\"]\n",
    "# ))\n",
    "# group_lk = g.set_index('name')['group'].to_dict()"
   ]
  },
  {
   "cell_type": "code",
   "execution_count": null,
   "id": "gross-drinking",
   "metadata": {
    "papermill": {
     "duration": 0.027098,
     "end_time": "2022-06-08T12:34:48.506128",
     "exception": false,
     "start_time": "2022-06-08T12:34:48.479030",
     "status": "completed"
    },
    "tags": []
   },
   "outputs": [],
   "source": []
  },
  {
   "cell_type": "code",
   "execution_count": 41,
   "id": "subject-macintosh",
   "metadata": {
    "execution": {
     "iopub.execute_input": "2022-06-08T12:34:48.565913Z",
     "iopub.status.busy": "2022-06-08T12:34:48.565198Z",
     "iopub.status.idle": "2022-06-08T12:34:48.566892Z",
     "shell.execute_reply": "2022-06-08T12:34:48.567373Z"
    },
    "papermill": {
     "duration": 0.03424,
     "end_time": "2022-06-08T12:34:48.567501",
     "exception": false,
     "start_time": "2022-06-08T12:34:48.533261",
     "status": "completed"
    },
    "tags": []
   },
   "outputs": [],
   "source": [
    "# #hide\n",
    "# fig, ax = plt.subplots(figsize=(15, 8))\n",
    "\n",
    "# def draw_barchart(current_day):\n",
    "#     dff = g[g['day'].eq(current_day)].sort_values(by='value', ascending=True).tail(10)\n",
    "#     ax.clear()\n",
    "#     ax.barh(dff['name'], dff['value'], color=[colors[group_lk[x]] for x in dff['name']])\n",
    "#     dx = dff['value'].max() / 200\n",
    "    \n",
    "#     for i, (value, name) in enumerate(zip(dff['value'], dff['name'])):\n",
    "#         ax.text(value-dx, i,     name,           size=14, weight=600, ha='right', va='bottom')\n",
    "#         ax.text(value-dx, i-.25, group_lk[name], size=10, color='#444444', ha='right', va='baseline')\n",
    "#         ax.text(value+dx, i,     f'{value:,.0f}',  size=14, ha='left',  va='center')\n",
    "#     ax.text(1, 0.4, current_day, transform=ax.transAxes, color='#777777', size=46, ha='right', weight=800)\n",
    "#     ax.text(0, 1.06, 'Population (thousands)', transform=ax.transAxes, size=12, color='#777777')\n",
    "#     ax.xaxis.set_major_formatter(ticker.StrMethodFormatter('{x:,.0f}'))\n",
    "#     ax.xaxis.set_ticks_position('top')\n",
    "#     ax.tick_params(axis='x', colors='#777777', labelsize=12)\n",
    "#     ax.set_yticks([])\n",
    "#     ax.margins(0, 0.01)\n",
    "#     ax.grid(which='major', axis='x', linestyle='-')\n",
    "#     ax.set_axisbelow(True)\n",
    "    \n",
    "#     ax.text(0, 1.15, 'Coronavirus',\n",
    "#             transform=ax.transAxes, size=24, weight=600, ha='left', va='top')\n",
    "# #     ax.text(1, 0, 'by @pratapvardhan; credit @jburnmurdoch', transform=ax.transAxes, color='#777777', ha='right',\n",
    "# #             bbox=dict(facecolor='white', alpha=0.8, edgecolor='white'))\n",
    "#     plt.box(False)"
   ]
  },
  {
   "cell_type": "code",
   "execution_count": 42,
   "id": "sexual-wages",
   "metadata": {
    "execution": {
     "iopub.execute_input": "2022-06-08T12:34:48.632247Z",
     "iopub.status.busy": "2022-06-08T12:34:48.631613Z",
     "iopub.status.idle": "2022-06-08T12:34:48.633827Z",
     "shell.execute_reply": "2022-06-08T12:34:48.634377Z"
    },
    "papermill": {
     "duration": 0.036546,
     "end_time": "2022-06-08T12:34:48.634499",
     "exception": false,
     "start_time": "2022-06-08T12:34:48.597953",
     "status": "completed"
    },
    "tags": []
   },
   "outputs": [],
   "source": [
    "# #hide_input\n",
    "# fig, ax = plt.subplots(figsize=(15, 8))\n",
    "# animator = animation.FuncAnimation(fig, draw_barchart, frames=range(g.day.values.min(), g.day.values.max()))\n",
    "# HTML(animator.to_jshtml())\n",
    "# # or use animator.to_html5_video() or animator.save() "
   ]
  },
  {
   "cell_type": "code",
   "execution_count": null,
   "id": "australian-container",
   "metadata": {
    "papermill": {
     "duration": 0.030625,
     "end_time": "2022-06-08T12:34:48.695762",
     "exception": false,
     "start_time": "2022-06-08T12:34:48.665137",
     "status": "completed"
    },
    "tags": []
   },
   "outputs": [],
   "source": []
  },
  {
   "cell_type": "code",
   "execution_count": null,
   "id": "mediterranean-pontiac",
   "metadata": {
    "papermill": {
     "duration": 0.030657,
     "end_time": "2022-06-08T12:34:48.757124",
     "exception": false,
     "start_time": "2022-06-08T12:34:48.726467",
     "status": "completed"
    },
    "tags": []
   },
   "outputs": [],
   "source": []
  },
  {
   "cell_type": "code",
   "execution_count": null,
   "id": "aging-legislature",
   "metadata": {
    "papermill": {
     "duration": 0.030582,
     "end_time": "2022-06-08T12:34:48.818736",
     "exception": false,
     "start_time": "2022-06-08T12:34:48.788154",
     "status": "completed"
    },
    "tags": []
   },
   "outputs": [],
   "source": []
  }
 ],
 "metadata": {
  "kernelspec": {
   "display_name": "Python 3",
   "language": "python",
   "name": "python3"
  },
  "language_info": {
   "codemirror_mode": {
    "name": "ipython",
    "version": 3
   },
   "file_extension": ".py",
   "mimetype": "text/x-python",
   "name": "python",
   "nbconvert_exporter": "python",
   "pygments_lexer": "ipython3",
   "version": "3.6.15"
  },
  "papermill": {
   "duration": 6.010503,
   "end_time": "2022-06-08T12:34:49.269547",
   "environment_variables": {},
   "exception": null,
   "input_path": "2020-03-21-covid19exp.ipynb",
   "output_path": "2020-03-21-covid19exp.ipynb",
   "parameters": {},
   "start_time": "2022-06-08T12:34:43.259044",
   "version": "2.0.0"
  }
 },
 "nbformat": 4,
 "nbformat_minor": 5
}