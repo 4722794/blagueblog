{
 "cells": [
  {
   "cell_type": "markdown",
   "id": "muslim-click",
   "metadata": {
    "papermill": {
     "duration": 0.032769,
     "end_time": "2022-11-10T12:18:32.917596",
     "exception": false,
     "start_time": "2022-11-10T12:18:32.884827",
     "status": "completed"
    },
    "tags": []
   },
   "source": [
    "# COVID-19 Case Race\n",
    "> A race chart to see rising cases around the world\n",
    "\n",
    "- author: Hargun Oberoi\n",
    "- image: images/covid-overview.png\n",
    "- hide: false\n",
    "- badges: false"
   ]
  },
  {
   "cell_type": "code",
   "execution_count": 1,
   "id": "proof-material",
   "metadata": {
    "execution": {
     "iopub.execute_input": "2022-11-10T12:18:32.980510Z",
     "iopub.status.busy": "2022-11-10T12:18:32.979925Z",
     "iopub.status.idle": "2022-11-10T12:18:33.295198Z",
     "shell.execute_reply": "2022-11-10T12:18:33.295742Z"
    },
    "papermill": {
     "duration": 0.351414,
     "end_time": "2022-11-10T12:18:33.295940",
     "exception": false,
     "start_time": "2022-11-10T12:18:32.944526",
     "status": "completed"
    },
    "tags": []
   },
   "outputs": [],
   "source": [
    "#hide\n",
    "import numpy as np\n",
    "import pandas as pd\n",
    "from jinja2 import Template\n",
    "from IPython.display import HTML"
   ]
  },
  {
   "cell_type": "code",
   "execution_count": 2,
   "id": "developed-terminology",
   "metadata": {
    "execution": {
     "iopub.execute_input": "2022-11-10T12:18:33.354403Z",
     "iopub.status.busy": "2022-11-10T12:18:33.353650Z",
     "iopub.status.idle": "2022-11-10T12:18:33.355278Z",
     "shell.execute_reply": "2022-11-10T12:18:33.355805Z"
    },
    "papermill": {
     "duration": 0.033014,
     "end_time": "2022-11-10T12:18:33.355946",
     "exception": false,
     "start_time": "2022-11-10T12:18:33.322932",
     "status": "completed"
    },
    "tags": []
   },
   "outputs": [],
   "source": [
    "#hide\n",
    "\n",
    "# FETCH\n",
    "base_url = 'https://raw.githubusercontent.com/pratapvardhan/notebooks/master/covid19/'\n",
    "paths = {\n",
    "    'mapping': base_url + 'mapping_countries.csv',\n",
    "    'overview': base_url + 'overview.tpl'\n",
    "}"
   ]
  },
  {
   "cell_type": "code",
   "execution_count": 3,
   "id": "dynamic-saver",
   "metadata": {
    "execution": {
     "iopub.execute_input": "2022-11-10T12:18:33.416762Z",
     "iopub.status.busy": "2022-11-10T12:18:33.416243Z",
     "iopub.status.idle": "2022-11-10T12:18:33.418800Z",
     "shell.execute_reply": "2022-11-10T12:18:33.419296Z"
    },
    "papermill": {
     "duration": 0.036938,
     "end_time": "2022-11-10T12:18:33.419416",
     "exception": false,
     "start_time": "2022-11-10T12:18:33.382478",
     "status": "completed"
    },
    "tags": []
   },
   "outputs": [
    {
     "data": {
      "text/plain": [
       "'https://raw.githubusercontent.com/pratapvardhan/notebooks/master/covid19/mapping_countries.csv'"
      ]
     },
     "execution_count": 3,
     "metadata": {},
     "output_type": "execute_result"
    }
   ],
   "source": [
    "#hide\n",
    "paths['mapping']"
   ]
  },
  {
   "cell_type": "code",
   "execution_count": 4,
   "id": "urban-software",
   "metadata": {
    "execution": {
     "iopub.execute_input": "2022-11-10T12:18:33.477841Z",
     "iopub.status.busy": "2022-11-10T12:18:33.477118Z",
     "iopub.status.idle": "2022-11-10T12:18:33.478722Z",
     "shell.execute_reply": "2022-11-10T12:18:33.479350Z"
    },
    "papermill": {
     "duration": 0.033977,
     "end_time": "2022-11-10T12:18:33.479500",
     "exception": false,
     "start_time": "2022-11-10T12:18:33.445523",
     "status": "completed"
    },
    "tags": []
   },
   "outputs": [],
   "source": [
    "#hide\n",
    "def get_mappings(url):\n",
    "    df = pd.read_csv(url)\n",
    "    return {\n",
    "        'df': df,\n",
    "        'replace.country': dict(df.dropna(subset=['Name']).set_index('Country')['Name']),\n",
    "        'map.continent': dict(df.set_index('Name')['Continent'])\n",
    "    }"
   ]
  },
  {
   "cell_type": "code",
   "execution_count": 5,
   "id": "intimate-machinery",
   "metadata": {
    "execution": {
     "iopub.execute_input": "2022-11-10T12:18:33.537035Z",
     "iopub.status.busy": "2022-11-10T12:18:33.536509Z",
     "iopub.status.idle": "2022-11-10T12:18:33.583541Z",
     "shell.execute_reply": "2022-11-10T12:18:33.582990Z"
    },
    "papermill": {
     "duration": 0.077645,
     "end_time": "2022-11-10T12:18:33.583675",
     "exception": false,
     "start_time": "2022-11-10T12:18:33.506030",
     "status": "completed"
    },
    "tags": []
   },
   "outputs": [],
   "source": [
    "#hide\n",
    "mapping = get_mappings(paths['mapping'])"
   ]
  },
  {
   "cell_type": "code",
   "execution_count": 6,
   "id": "certified-tactics",
   "metadata": {
    "execution": {
     "iopub.execute_input": "2022-11-10T12:18:33.640915Z",
     "iopub.status.busy": "2022-11-10T12:18:33.640393Z",
     "iopub.status.idle": "2022-11-10T12:18:33.642758Z",
     "shell.execute_reply": "2022-11-10T12:18:33.643252Z"
    },
    "papermill": {
     "duration": 0.033358,
     "end_time": "2022-11-10T12:18:33.643376",
     "exception": false,
     "start_time": "2022-11-10T12:18:33.610018",
     "status": "completed"
    },
    "tags": []
   },
   "outputs": [],
   "source": [
    "#hide\n",
    "def get_template(path):\n",
    "    from urllib.parse import urlparse\n",
    "    if bool(urlparse(path).netloc):\n",
    "        from urllib.request import urlopen\n",
    "        return urlopen(path).read().decode('utf8')\n",
    "    return open(path).read()"
   ]
  },
  {
   "cell_type": "code",
   "execution_count": 7,
   "id": "realistic-blast",
   "metadata": {
    "execution": {
     "iopub.execute_input": "2022-11-10T12:18:33.700218Z",
     "iopub.status.busy": "2022-11-10T12:18:33.699661Z",
     "iopub.status.idle": "2022-11-10T12:18:33.702063Z",
     "shell.execute_reply": "2022-11-10T12:18:33.701550Z"
    },
    "papermill": {
     "duration": 0.03295,
     "end_time": "2022-11-10T12:18:33.702186",
     "exception": false,
     "start_time": "2022-11-10T12:18:33.669236",
     "status": "completed"
    },
    "tags": []
   },
   "outputs": [],
   "source": [
    "#hide\n",
    "def get_frame(name):\n",
    "    url = (\n",
    "        'https://raw.githubusercontent.com/CSSEGISandData/COVID-19/master/csse_covid_19_data/'\n",
    "        f'csse_covid_19_time_series/time_series_covid19_{name}_global.csv')\n",
    "    df = pd.read_csv(url)\n",
    "    # rename countries\n",
    "    df['Country/Region'] = df['Country/Region'].replace(mapping['replace.country'])\n",
    "    return df"
   ]
  },
  {
   "cell_type": "code",
   "execution_count": 8,
   "id": "affiliated-characterization",
   "metadata": {
    "execution": {
     "iopub.execute_input": "2022-11-10T12:18:33.760638Z",
     "iopub.status.busy": "2022-11-10T12:18:33.760039Z",
     "iopub.status.idle": "2022-11-10T12:18:33.762398Z",
     "shell.execute_reply": "2022-11-10T12:18:33.761936Z"
    },
    "papermill": {
     "duration": 0.034268,
     "end_time": "2022-11-10T12:18:33.762511",
     "exception": false,
     "start_time": "2022-11-10T12:18:33.728243",
     "status": "completed"
    },
    "tags": []
   },
   "outputs": [],
   "source": [
    "#hide\n",
    "def get_dates(df):\n",
    "    dt_cols = df.columns[~df.columns.isin(['Province/State', 'Country/Region', 'Lat', 'Long'])]\n",
    "    LAST_DATE_I = -1\n",
    "    # sometimes last column may be empty, then go backwards\n",
    "    for i in range(-1, -len(dt_cols), -1):\n",
    "        if not df[dt_cols[i]].fillna(0).eq(0).all():\n",
    "            LAST_DATE_I = i\n",
    "            break\n",
    "    return LAST_DATE_I, dt_cols"
   ]
  },
  {
   "cell_type": "code",
   "execution_count": 9,
   "id": "recent-optimization",
   "metadata": {
    "execution": {
     "iopub.execute_input": "2022-11-10T12:18:33.819755Z",
     "iopub.status.busy": "2022-11-10T12:18:33.819199Z",
     "iopub.status.idle": "2022-11-10T12:18:34.261110Z",
     "shell.execute_reply": "2022-11-10T12:18:34.260532Z"
    },
    "papermill": {
     "duration": 0.472873,
     "end_time": "2022-11-10T12:18:34.261259",
     "exception": false,
     "start_time": "2022-11-10T12:18:33.788386",
     "status": "completed"
    },
    "tags": []
   },
   "outputs": [],
   "source": [
    "#hide\n",
    "COL_REGION = 'Country/Region'\n",
    "# Confirmed, Recovered, Deaths\n",
    "df = get_frame('confirmed')\n",
    "# dft_: timeseries, dfc_: today country agg\n",
    "dft_cases = df\n",
    "dft_deaths = get_frame('deaths')\n",
    "dft_recovered = get_frame('recovered')\n",
    "LAST_DATE_I, dt_cols = get_dates(df)"
   ]
  },
  {
   "cell_type": "code",
   "execution_count": 10,
   "id": "absolute-copper",
   "metadata": {
    "execution": {
     "iopub.execute_input": "2022-11-10T12:18:34.320569Z",
     "iopub.status.busy": "2022-11-10T12:18:34.320008Z",
     "iopub.status.idle": "2022-11-10T12:18:34.322345Z",
     "shell.execute_reply": "2022-11-10T12:18:34.321811Z"
    },
    "papermill": {
     "duration": 0.033588,
     "end_time": "2022-11-10T12:18:34.322453",
     "exception": false,
     "start_time": "2022-11-10T12:18:34.288865",
     "status": "completed"
    },
    "tags": []
   },
   "outputs": [],
   "source": [
    "#hide\n",
    "LAST_DATE_I, dt_cols = get_dates(df)\n",
    "dt_today =dt_cols[LAST_DATE_I]\n",
    "# dt_5day = dt_cols[LAST_DATE_I - 5]\n",
    "dt_yday = dt_cols[LAST_DATE_I - 1]"
   ]
  },
  {
   "cell_type": "code",
   "execution_count": 11,
   "id": "restricted-sheriff",
   "metadata": {
    "execution": {
     "iopub.execute_input": "2022-11-10T12:18:34.380340Z",
     "iopub.status.busy": "2022-11-10T12:18:34.379796Z",
     "iopub.status.idle": "2022-11-10T12:18:34.387178Z",
     "shell.execute_reply": "2022-11-10T12:18:34.386774Z"
    },
    "papermill": {
     "duration": 0.039146,
     "end_time": "2022-11-10T12:18:34.387288",
     "exception": false,
     "start_time": "2022-11-10T12:18:34.348142",
     "status": "completed"
    },
    "tags": []
   },
   "outputs": [],
   "source": [
    "#hide\n",
    "dfc_cases = dft_cases.groupby(COL_REGION)[dt_today].sum()\n",
    "dfc_deaths = dft_deaths.groupby(COL_REGION)[dt_today].sum()\n",
    "# dfp_cases = dft_cases.groupby(COL_REGION)[dt_5day].sum()\n",
    "# dfp_deaths = dft_deaths.groupby(COL_REGION)[dt_5day].sum()\n",
    "dfp_cases = dft_cases.groupby(COL_REGION)[dt_yday].sum()\n",
    "dfp_deaths = dft_deaths.groupby(COL_REGION)[dt_yday].sum()"
   ]
  },
  {
   "cell_type": "code",
   "execution_count": 12,
   "id": "deluxe-hepatitis",
   "metadata": {
    "execution": {
     "iopub.execute_input": "2022-11-10T12:18:34.445043Z",
     "iopub.status.busy": "2022-11-10T12:18:34.444506Z",
     "iopub.status.idle": "2022-11-10T12:18:34.448580Z",
     "shell.execute_reply": "2022-11-10T12:18:34.448954Z"
    },
    "papermill": {
     "duration": 0.035841,
     "end_time": "2022-11-10T12:18:34.449075",
     "exception": false,
     "start_time": "2022-11-10T12:18:34.413234",
     "status": "completed"
    },
    "tags": []
   },
   "outputs": [],
   "source": [
    "#hide\n",
    "df_table = (pd.DataFrame(dict(Cases = dfc_cases, Deaths = dfc_deaths, PCases = dfp_cases, PDeaths = dfp_deaths))\n",
    "            .sort_values(by = ['Cases','Deaths'], ascending = [False, False])\n",
    "            .reset_index())"
   ]
  },
  {
   "cell_type": "code",
   "execution_count": 13,
   "id": "educational-chancellor",
   "metadata": {
    "execution": {
     "iopub.execute_input": "2022-11-10T12:18:34.519072Z",
     "iopub.status.busy": "2022-11-10T12:18:34.518532Z",
     "iopub.status.idle": "2022-11-10T12:18:34.525841Z",
     "shell.execute_reply": "2022-11-10T12:18:34.525414Z"
    },
    "papermill": {
     "duration": 0.051217,
     "end_time": "2022-11-10T12:18:34.525947",
     "exception": false,
     "start_time": "2022-11-10T12:18:34.474730",
     "status": "completed"
    },
    "tags": []
   },
   "outputs": [
    {
     "data": {
      "text/html": [
       "<div>\n",
       "<style scoped>\n",
       "    .dataframe tbody tr th:only-of-type {\n",
       "        vertical-align: middle;\n",
       "    }\n",
       "\n",
       "    .dataframe tbody tr th {\n",
       "        vertical-align: top;\n",
       "    }\n",
       "\n",
       "    .dataframe thead th {\n",
       "        text-align: right;\n",
       "    }\n",
       "</style>\n",
       "<table border=\"1\" class=\"dataframe\">\n",
       "  <thead>\n",
       "    <tr style=\"text-align: right;\">\n",
       "      <th></th>\n",
       "      <th>Country/Region</th>\n",
       "      <th>Cases</th>\n",
       "      <th>Deaths</th>\n",
       "      <th>PCases</th>\n",
       "      <th>PDeaths</th>\n",
       "      <th>Cases (+)</th>\n",
       "      <th>Deaths (+)</th>\n",
       "      <th>Fatality Rate</th>\n",
       "      <th>Continent</th>\n",
       "    </tr>\n",
       "  </thead>\n",
       "  <tbody>\n",
       "    <tr>\n",
       "      <th>0</th>\n",
       "      <td>US</td>\n",
       "      <td>97900497</td>\n",
       "      <td>1073932</td>\n",
       "      <td>97804801</td>\n",
       "      <td>1072995</td>\n",
       "      <td>95696</td>\n",
       "      <td>937</td>\n",
       "      <td>1.10</td>\n",
       "      <td>North America</td>\n",
       "    </tr>\n",
       "    <tr>\n",
       "      <th>1</th>\n",
       "      <td>India</td>\n",
       "      <td>44660293</td>\n",
       "      <td>530509</td>\n",
       "      <td>44660293</td>\n",
       "      <td>530509</td>\n",
       "      <td>0</td>\n",
       "      <td>0</td>\n",
       "      <td>1.19</td>\n",
       "      <td>Asia</td>\n",
       "    </tr>\n",
       "    <tr>\n",
       "      <th>2</th>\n",
       "      <td>France</td>\n",
       "      <td>37261364</td>\n",
       "      <td>158658</td>\n",
       "      <td>37232493</td>\n",
       "      <td>158586</td>\n",
       "      <td>28871</td>\n",
       "      <td>72</td>\n",
       "      <td>0.43</td>\n",
       "      <td>Europe</td>\n",
       "    </tr>\n",
       "    <tr>\n",
       "      <th>3</th>\n",
       "      <td>Germany</td>\n",
       "      <td>35971322</td>\n",
       "      <td>155187</td>\n",
       "      <td>35932654</td>\n",
       "      <td>155012</td>\n",
       "      <td>38668</td>\n",
       "      <td>175</td>\n",
       "      <td>0.43</td>\n",
       "      <td>Europe</td>\n",
       "    </tr>\n",
       "    <tr>\n",
       "      <th>4</th>\n",
       "      <td>Brazil</td>\n",
       "      <td>34855492</td>\n",
       "      <td>688395</td>\n",
       "      <td>34855492</td>\n",
       "      <td>688395</td>\n",
       "      <td>0</td>\n",
       "      <td>0</td>\n",
       "      <td>1.97</td>\n",
       "      <td>South America</td>\n",
       "    </tr>\n",
       "  </tbody>\n",
       "</table>\n",
       "</div>"
      ],
      "text/plain": [
       "  Country/Region     Cases   Deaths    PCases  PDeaths  Cases (+)  Deaths (+)  \\\n",
       "0             US  97900497  1073932  97804801  1072995      95696         937   \n",
       "1          India  44660293   530509  44660293   530509          0           0   \n",
       "2         France  37261364   158658  37232493   158586      28871          72   \n",
       "3        Germany  35971322   155187  35932654   155012      38668         175   \n",
       "4         Brazil  34855492   688395  34855492   688395          0           0   \n",
       "\n",
       "   Fatality Rate      Continent  \n",
       "0           1.10  North America  \n",
       "1           1.19           Asia  \n",
       "2           0.43         Europe  \n",
       "3           0.43         Europe  \n",
       "4           1.97  South America  "
      ]
     },
     "execution_count": 13,
     "metadata": {},
     "output_type": "execute_result"
    }
   ],
   "source": [
    "#hide\n",
    "for c in 'Cases, Deaths'.split(', '):\n",
    "    df_table[f'{c} (+)'] = (df_table[c] - df_table[f'P{c}']).clip(0)\n",
    "    #Clip ça veut dire, les chiffres negatif sont interdit\n",
    "df_table['Fatality Rate'] = (100* df_table['Deaths']/ df_table['Cases']).round(2)\n",
    "df_table['Continent'] = df_table['Country/Region'].map(mapping['map.continent'])\n",
    "df_table.head(5)"
   ]
  },
  {
   "cell_type": "code",
   "execution_count": 14,
   "id": "aboriginal-bulgaria",
   "metadata": {
    "execution": {
     "iopub.execute_input": "2022-11-10T12:18:34.584590Z",
     "iopub.status.busy": "2022-11-10T12:18:34.584060Z",
     "iopub.status.idle": "2022-11-10T12:18:34.586727Z",
     "shell.execute_reply": "2022-11-10T12:18:34.586292Z"
    },
    "papermill": {
     "duration": 0.034382,
     "end_time": "2022-11-10T12:18:34.586829",
     "exception": false,
     "start_time": "2022-11-10T12:18:34.552447",
     "status": "completed"
    },
    "tags": []
   },
   "outputs": [],
   "source": [
    "#hide\n",
    "#delete problematic countries from table\n",
    "df_table = df_table[~df_table['Country/Region'].isin(['Cape Verde', 'Cruise Ship', 'Kosovo'])]"
   ]
  },
  {
   "cell_type": "code",
   "execution_count": 15,
   "id": "fantastic-effect",
   "metadata": {
    "execution": {
     "iopub.execute_input": "2022-11-10T12:18:34.647775Z",
     "iopub.status.busy": "2022-11-10T12:18:34.647257Z",
     "iopub.status.idle": "2022-11-10T12:18:34.663635Z",
     "shell.execute_reply": "2022-11-10T12:18:34.664059Z"
    },
    "papermill": {
     "duration": 0.051005,
     "end_time": "2022-11-10T12:18:34.664184",
     "exception": false,
     "start_time": "2022-11-10T12:18:34.613179",
     "status": "completed"
    },
    "tags": []
   },
   "outputs": [
    {
     "data": {
      "text/html": [
       "<div>\n",
       "<style scoped>\n",
       "    .dataframe tbody tr th:only-of-type {\n",
       "        vertical-align: middle;\n",
       "    }\n",
       "\n",
       "    .dataframe tbody tr th {\n",
       "        vertical-align: top;\n",
       "    }\n",
       "\n",
       "    .dataframe thead th {\n",
       "        text-align: right;\n",
       "    }\n",
       "</style>\n",
       "<table border=\"1\" class=\"dataframe\">\n",
       "  <thead>\n",
       "    <tr style=\"text-align: right;\">\n",
       "      <th></th>\n",
       "      <th>Country/Region</th>\n",
       "      <th>Cases</th>\n",
       "      <th>Deaths</th>\n",
       "      <th>PCases</th>\n",
       "      <th>PDeaths</th>\n",
       "      <th>Cases (+)</th>\n",
       "      <th>Deaths (+)</th>\n",
       "      <th>Fatality Rate</th>\n",
       "      <th>Continent</th>\n",
       "    </tr>\n",
       "  </thead>\n",
       "  <tbody>\n",
       "    <tr>\n",
       "      <th>0</th>\n",
       "      <td>US</td>\n",
       "      <td>97900497</td>\n",
       "      <td>1073932</td>\n",
       "      <td>97804801</td>\n",
       "      <td>1072995</td>\n",
       "      <td>95696</td>\n",
       "      <td>937</td>\n",
       "      <td>1.1</td>\n",
       "      <td>North America</td>\n",
       "    </tr>\n",
       "    <tr>\n",
       "      <th>1</th>\n",
       "      <td>India</td>\n",
       "      <td>44660293</td>\n",
       "      <td>530509</td>\n",
       "      <td>44660293</td>\n",
       "      <td>530509</td>\n",
       "      <td>0</td>\n",
       "      <td>0</td>\n",
       "      <td>1.2</td>\n",
       "      <td>Asia</td>\n",
       "    </tr>\n",
       "    <tr>\n",
       "      <th>2</th>\n",
       "      <td>France</td>\n",
       "      <td>37261364</td>\n",
       "      <td>158658</td>\n",
       "      <td>37232493</td>\n",
       "      <td>158586</td>\n",
       "      <td>28871</td>\n",
       "      <td>72</td>\n",
       "      <td>0.4</td>\n",
       "      <td>Europe</td>\n",
       "    </tr>\n",
       "    <tr>\n",
       "      <th>3</th>\n",
       "      <td>Germany</td>\n",
       "      <td>35971322</td>\n",
       "      <td>155187</td>\n",
       "      <td>35932654</td>\n",
       "      <td>155012</td>\n",
       "      <td>38668</td>\n",
       "      <td>175</td>\n",
       "      <td>0.4</td>\n",
       "      <td>Europe</td>\n",
       "    </tr>\n",
       "    <tr>\n",
       "      <th>4</th>\n",
       "      <td>Brazil</td>\n",
       "      <td>34855492</td>\n",
       "      <td>688395</td>\n",
       "      <td>34855492</td>\n",
       "      <td>688395</td>\n",
       "      <td>0</td>\n",
       "      <td>0</td>\n",
       "      <td>2.0</td>\n",
       "      <td>South America</td>\n",
       "    </tr>\n",
       "  </tbody>\n",
       "</table>\n",
       "</div>"
      ],
      "text/plain": [
       "  Country/Region     Cases   Deaths    PCases  PDeaths  Cases (+)  Deaths (+)  \\\n",
       "0             US  97900497  1073932  97804801  1072995      95696         937   \n",
       "1          India  44660293   530509  44660293   530509          0           0   \n",
       "2         France  37261364   158658  37232493   158586      28871          72   \n",
       "3        Germany  35971322   155187  35932654   155012      38668         175   \n",
       "4         Brazil  34855492   688395  34855492   688395          0           0   \n",
       "\n",
       "   Fatality Rate      Continent  \n",
       "0            1.1  North America  \n",
       "1            1.2           Asia  \n",
       "2            0.4         Europe  \n",
       "3            0.4         Europe  \n",
       "4            2.0  South America  "
      ]
     },
     "execution_count": 15,
     "metadata": {},
     "output_type": "execute_result"
    }
   ],
   "source": [
    "#hide\n",
    "df_table = (pd.DataFrame(dict(Cases=dfc_cases, Deaths=dfc_deaths, PCases=dfp_cases, PDeaths=dfp_deaths))\n",
    "             .sort_values(by=['Cases', 'Deaths'], ascending=[False, False])\n",
    "             .reset_index())\n",
    "df_table.rename(columns={'index': 'Country/Region'}, inplace=True)\n",
    "for c in 'Cases, Deaths'.split(', '):\n",
    "    df_table[f'{c} (+)'] = (df_table[c] - df_table[f'P{c}']).clip(0)  # DATA BUG\n",
    "df_table['Fatality Rate'] = (100 * df_table['Deaths'] / df_table['Cases']).round(1)\n",
    "df_table['Continent'] = df_table['Country/Region'].map(mapping['map.continent'])\n",
    "df_table.head(5)"
   ]
  },
  {
   "cell_type": "code",
   "execution_count": 16,
   "id": "fewer-occasion",
   "metadata": {
    "execution": {
     "iopub.execute_input": "2022-11-10T12:18:34.723838Z",
     "iopub.status.busy": "2022-11-10T12:18:34.723316Z",
     "iopub.status.idle": "2022-11-10T12:18:34.726486Z",
     "shell.execute_reply": "2022-11-10T12:18:34.726887Z"
    },
    "papermill": {
     "duration": 0.035748,
     "end_time": "2022-11-10T12:18:34.727010",
     "exception": false,
     "start_time": "2022-11-10T12:18:34.691262",
     "status": "completed"
    },
    "tags": []
   },
   "outputs": [],
   "source": [
    "#hide\n",
    "#delete problematic countries from table\n",
    "df_table = df_table[~df_table['Country/Region'].isin(['Cape Verde', 'Cruise Ship', 'Kosovo'])]"
   ]
  },
  {
   "cell_type": "code",
   "execution_count": 17,
   "id": "related-center",
   "metadata": {
    "execution": {
     "iopub.execute_input": "2022-11-10T12:18:34.789101Z",
     "iopub.status.busy": "2022-11-10T12:18:34.788578Z",
     "iopub.status.idle": "2022-11-10T12:18:34.800379Z",
     "shell.execute_reply": "2022-11-10T12:18:34.799864Z"
    },
    "papermill": {
     "duration": 0.046817,
     "end_time": "2022-11-10T12:18:34.800488",
     "exception": false,
     "start_time": "2022-11-10T12:18:34.753671",
     "status": "completed"
    },
    "tags": []
   },
   "outputs": [],
   "source": [
    "#hide\n",
    "metrics = [df_table.columns[index] for index in [1,2,5,6]]\n",
    "# s_china = df_table[df_table['Country/Region'].eq('China')][metrics].sum().add_prefix('China ')\n",
    "s_us = df_table[df_table['Country/Region'].eq('US')][metrics].sum().add_prefix('US ')\n",
    "s_eu = df_table[df_table['Continent'].eq('Europe')][metrics].sum().add_prefix('EU ')\n",
    "s_ind = df_table[df_table['Country/Region'].eq('India')][metrics].sum().add_prefix('India ')\n",
    "summary = {'updated': pd.to_datetime(dt_today), 'since': pd.to_datetime(dt_yday)}\n",
    "summary = {'updated': pd.to_datetime(dt_today), 'since': pd.to_datetime(dt_yday)}\n",
    "summary = {**summary, **df_table[metrics].sum(), **s_ind, **s_us, **s_eu}"
   ]
  },
  {
   "cell_type": "code",
   "execution_count": 18,
   "id": "engaging-syndrome",
   "metadata": {
    "execution": {
     "iopub.execute_input": "2022-11-10T12:18:34.860665Z",
     "iopub.status.busy": "2022-11-10T12:18:34.860131Z",
     "iopub.status.idle": "2022-11-10T12:18:34.880582Z",
     "shell.execute_reply": "2022-11-10T12:18:34.880142Z"
    },
    "papermill": {
     "duration": 0.053211,
     "end_time": "2022-11-10T12:18:34.880692",
     "exception": false,
     "start_time": "2022-11-10T12:18:34.827481",
     "status": "completed"
    },
    "tags": []
   },
   "outputs": [],
   "source": [
    "#hide\n",
    "dft_ct_new_cases = dft_cases.groupby(COL_REGION)[dt_cols].sum().diff(axis=1).fillna(0).astype(int)"
   ]
  },
  {
   "cell_type": "code",
   "execution_count": 19,
   "id": "neutral-assignment",
   "metadata": {
    "execution": {
     "iopub.execute_input": "2022-11-10T12:18:34.941743Z",
     "iopub.status.busy": "2022-11-10T12:18:34.941220Z",
     "iopub.status.idle": "2022-11-10T12:18:34.943895Z",
     "shell.execute_reply": "2022-11-10T12:18:34.943482Z"
    },
    "papermill": {
     "duration": 0.036261,
     "end_time": "2022-11-10T12:18:34.944002",
     "exception": false,
     "start_time": "2022-11-10T12:18:34.907741",
     "status": "completed"
    },
    "tags": []
   },
   "outputs": [],
   "source": [
    "#hide\n",
    "everydaycases = dft_ct_new_cases.cumsum(axis=1)"
   ]
  },
  {
   "cell_type": "code",
   "execution_count": 20,
   "id": "parliamentary-calgary",
   "metadata": {
    "execution": {
     "iopub.execute_input": "2022-11-10T12:18:35.002445Z",
     "iopub.status.busy": "2022-11-10T12:18:35.001873Z",
     "iopub.status.idle": "2022-11-10T12:18:35.490773Z",
     "shell.execute_reply": "2022-11-10T12:18:35.491276Z"
    },
    "papermill": {
     "duration": 0.520574,
     "end_time": "2022-11-10T12:18:35.491429",
     "exception": false,
     "start_time": "2022-11-10T12:18:34.970855",
     "status": "completed"
    },
    "tags": []
   },
   "outputs": [],
   "source": [
    "#hide\n",
    "import pandas as pd\n",
    "import matplotlib.pyplot as plt\n",
    "import matplotlib.ticker as ticker\n",
    "import matplotlib.animation as animation\n",
    "from IPython.display import HTML"
   ]
  },
  {
   "cell_type": "code",
   "execution_count": 21,
   "id": "lasting-extraction",
   "metadata": {
    "execution": {
     "iopub.execute_input": "2022-11-10T12:18:35.552153Z",
     "iopub.status.busy": "2022-11-10T12:18:35.551615Z",
     "iopub.status.idle": "2022-11-10T12:18:35.558655Z",
     "shell.execute_reply": "2022-11-10T12:18:35.559158Z"
    },
    "papermill": {
     "duration": 0.040959,
     "end_time": "2022-11-10T12:18:35.559288",
     "exception": false,
     "start_time": "2022-11-10T12:18:35.518329",
     "status": "completed"
    },
    "tags": []
   },
   "outputs": [],
   "source": [
    "#hide\n",
    "t = everydaycases.stack()"
   ]
  },
  {
   "cell_type": "code",
   "execution_count": 22,
   "id": "premier-sleeve",
   "metadata": {
    "execution": {
     "iopub.execute_input": "2022-11-10T12:18:35.617685Z",
     "iopub.status.busy": "2022-11-10T12:18:35.617157Z",
     "iopub.status.idle": "2022-11-10T12:18:35.633499Z",
     "shell.execute_reply": "2022-11-10T12:18:35.633895Z"
    },
    "papermill": {
     "duration": 0.047751,
     "end_time": "2022-11-10T12:18:35.634030",
     "exception": false,
     "start_time": "2022-11-10T12:18:35.586279",
     "status": "completed"
    },
    "tags": []
   },
   "outputs": [],
   "source": [
    "#hide\n",
    "g = t.reset_index(['Country/Region'])"
   ]
  },
  {
   "cell_type": "code",
   "execution_count": 23,
   "id": "distributed-pittsburgh",
   "metadata": {
    "execution": {
     "iopub.execute_input": "2022-11-10T12:18:35.692149Z",
     "iopub.status.busy": "2022-11-10T12:18:35.691618Z",
     "iopub.status.idle": "2022-11-10T12:18:35.693992Z",
     "shell.execute_reply": "2022-11-10T12:18:35.694518Z"
    },
    "papermill": {
     "duration": 0.033711,
     "end_time": "2022-11-10T12:18:35.694644",
     "exception": false,
     "start_time": "2022-11-10T12:18:35.660933",
     "status": "completed"
    },
    "tags": []
   },
   "outputs": [],
   "source": [
    "#hide\n",
    "g.index.name = 'date'"
   ]
  },
  {
   "cell_type": "code",
   "execution_count": 24,
   "id": "naked-donor",
   "metadata": {
    "execution": {
     "iopub.execute_input": "2022-11-10T12:18:35.752473Z",
     "iopub.status.busy": "2022-11-10T12:18:35.751887Z",
     "iopub.status.idle": "2022-11-10T12:18:35.755304Z",
     "shell.execute_reply": "2022-11-10T12:18:35.755679Z"
    },
    "papermill": {
     "duration": 0.03417,
     "end_time": "2022-11-10T12:18:35.755805",
     "exception": false,
     "start_time": "2022-11-10T12:18:35.721635",
     "status": "completed"
    },
    "tags": []
   },
   "outputs": [],
   "source": [
    "# #hide\n",
    "# g = g.reset_index(['date'])"
   ]
  },
  {
   "cell_type": "code",
   "execution_count": 25,
   "id": "incomplete-mustang",
   "metadata": {
    "execution": {
     "iopub.execute_input": "2022-11-10T12:18:35.812963Z",
     "iopub.status.busy": "2022-11-10T12:18:35.812414Z",
     "iopub.status.idle": "2022-11-10T12:18:35.816253Z",
     "shell.execute_reply": "2022-11-10T12:18:35.815736Z"
    },
    "papermill": {
     "duration": 0.033803,
     "end_time": "2022-11-10T12:18:35.816359",
     "exception": false,
     "start_time": "2022-11-10T12:18:35.782556",
     "status": "completed"
    },
    "tags": []
   },
   "outputs": [],
   "source": [
    "#hide\n",
    "# g.head()"
   ]
  },
  {
   "cell_type": "code",
   "execution_count": 26,
   "id": "specific-kruger",
   "metadata": {
    "execution": {
     "iopub.execute_input": "2022-11-10T12:18:35.874602Z",
     "iopub.status.busy": "2022-11-10T12:18:35.873878Z",
     "iopub.status.idle": "2022-11-10T12:18:35.875927Z",
     "shell.execute_reply": "2022-11-10T12:18:35.875304Z"
    },
    "papermill": {
     "duration": 0.032656,
     "end_time": "2022-11-10T12:18:35.876054",
     "exception": false,
     "start_time": "2022-11-10T12:18:35.843398",
     "status": "completed"
    },
    "tags": []
   },
   "outputs": [],
   "source": [
    "#hide\n",
    "# g.columns = ['date','country','cases']"
   ]
  },
  {
   "cell_type": "code",
   "execution_count": 27,
   "id": "tender-conversion",
   "metadata": {
    "execution": {
     "iopub.execute_input": "2022-11-10T12:18:35.933074Z",
     "iopub.status.busy": "2022-11-10T12:18:35.932526Z",
     "iopub.status.idle": "2022-11-10T12:18:35.936269Z",
     "shell.execute_reply": "2022-11-10T12:18:35.935743Z"
    },
    "papermill": {
     "duration": 0.033292,
     "end_time": "2022-11-10T12:18:35.936376",
     "exception": false,
     "start_time": "2022-11-10T12:18:35.903084",
     "status": "completed"
    },
    "tags": []
   },
   "outputs": [],
   "source": [
    "#hide\n",
    "# g['continent'] = g.country"
   ]
  },
  {
   "cell_type": "code",
   "execution_count": 28,
   "id": "substantial-wilderness",
   "metadata": {
    "execution": {
     "iopub.execute_input": "2022-11-10T12:18:35.994380Z",
     "iopub.status.busy": "2022-11-10T12:18:35.993646Z",
     "iopub.status.idle": "2022-11-10T12:18:35.997479Z",
     "shell.execute_reply": "2022-11-10T12:18:35.996940Z"
    },
    "papermill": {
     "duration": 0.034385,
     "end_time": "2022-11-10T12:18:35.997606",
     "exception": false,
     "start_time": "2022-11-10T12:18:35.963221",
     "status": "completed"
    },
    "tags": []
   },
   "outputs": [],
   "source": [
    "#hide\n",
    "# cols = list(g.columns.values)"
   ]
  },
  {
   "cell_type": "code",
   "execution_count": 29,
   "id": "solved-farming",
   "metadata": {
    "execution": {
     "iopub.execute_input": "2022-11-10T12:18:36.055197Z",
     "iopub.status.busy": "2022-11-10T12:18:36.054680Z",
     "iopub.status.idle": "2022-11-10T12:18:36.056762Z",
     "shell.execute_reply": "2022-11-10T12:18:36.057261Z"
    },
    "papermill": {
     "duration": 0.032716,
     "end_time": "2022-11-10T12:18:36.057384",
     "exception": false,
     "start_time": "2022-11-10T12:18:36.024668",
     "status": "completed"
    },
    "tags": []
   },
   "outputs": [],
   "source": [
    "#hide\n",
    "# cols.insert(0, cols.pop())"
   ]
  },
  {
   "cell_type": "code",
   "execution_count": 30,
   "id": "executed-adoption",
   "metadata": {
    "execution": {
     "iopub.execute_input": "2022-11-10T12:18:36.114779Z",
     "iopub.status.busy": "2022-11-10T12:18:36.114199Z",
     "iopub.status.idle": "2022-11-10T12:18:36.116622Z",
     "shell.execute_reply": "2022-11-10T12:18:36.116193Z"
    },
    "papermill": {
     "duration": 0.032527,
     "end_time": "2022-11-10T12:18:36.116727",
     "exception": false,
     "start_time": "2022-11-10T12:18:36.084200",
     "status": "completed"
    },
    "tags": []
   },
   "outputs": [],
   "source": [
    "#hide\n",
    "# g = g[cols]"
   ]
  },
  {
   "cell_type": "code",
   "execution_count": 31,
   "id": "subject-dublin",
   "metadata": {
    "execution": {
     "iopub.execute_input": "2022-11-10T12:18:36.174344Z",
     "iopub.status.busy": "2022-11-10T12:18:36.173741Z",
     "iopub.status.idle": "2022-11-10T12:18:36.175896Z",
     "shell.execute_reply": "2022-11-10T12:18:36.175378Z"
    },
    "papermill": {
     "duration": 0.032681,
     "end_time": "2022-11-10T12:18:36.176006",
     "exception": false,
     "start_time": "2022-11-10T12:18:36.143325",
     "status": "completed"
    },
    "tags": []
   },
   "outputs": [],
   "source": [
    "#hide\n",
    "# g['continent'] = g['continent'].map(mapping['map.continent'])"
   ]
  },
  {
   "cell_type": "code",
   "execution_count": 32,
   "id": "freelance-scout",
   "metadata": {
    "execution": {
     "iopub.execute_input": "2022-11-10T12:18:36.234285Z",
     "iopub.status.busy": "2022-11-10T12:18:36.233519Z",
     "iopub.status.idle": "2022-11-10T12:18:36.237212Z",
     "shell.execute_reply": "2022-11-10T12:18:36.236787Z"
    },
    "papermill": {
     "duration": 0.034246,
     "end_time": "2022-11-10T12:18:36.237320",
     "exception": false,
     "start_time": "2022-11-10T12:18:36.203074",
     "status": "completed"
    },
    "tags": []
   },
   "outputs": [],
   "source": [
    "#hide\n",
    "# g.head()"
   ]
  },
  {
   "cell_type": "code",
   "execution_count": 33,
   "id": "limited-engine",
   "metadata": {
    "execution": {
     "iopub.execute_input": "2022-11-10T12:18:36.295184Z",
     "iopub.status.busy": "2022-11-10T12:18:36.294463Z",
     "iopub.status.idle": "2022-11-10T12:18:36.296132Z",
     "shell.execute_reply": "2022-11-10T12:18:36.296530Z"
    },
    "papermill": {
     "duration": 0.032565,
     "end_time": "2022-11-10T12:18:36.296656",
     "exception": false,
     "start_time": "2022-11-10T12:18:36.264091",
     "status": "completed"
    },
    "tags": []
   },
   "outputs": [],
   "source": [
    "# hide\n",
    "# g['date'] = g['date'].astype('datetime64[ns]')"
   ]
  },
  {
   "cell_type": "code",
   "execution_count": 34,
   "id": "sophisticated-supervisor",
   "metadata": {
    "execution": {
     "iopub.execute_input": "2022-11-10T12:18:36.355011Z",
     "iopub.status.busy": "2022-11-10T12:18:36.354283Z",
     "iopub.status.idle": "2022-11-10T12:18:36.355969Z",
     "shell.execute_reply": "2022-11-10T12:18:36.356507Z"
    },
    "papermill": {
     "duration": 0.032959,
     "end_time": "2022-11-10T12:18:36.356660",
     "exception": false,
     "start_time": "2022-11-10T12:18:36.323701",
     "status": "completed"
    },
    "tags": []
   },
   "outputs": [],
   "source": [
    "#hide\n",
    "# g['date'] = g.date.dt.dayofyear"
   ]
  },
  {
   "cell_type": "code",
   "execution_count": 35,
   "id": "inside-dubai",
   "metadata": {
    "execution": {
     "iopub.execute_input": "2022-11-10T12:18:36.415140Z",
     "iopub.status.busy": "2022-11-10T12:18:36.414392Z",
     "iopub.status.idle": "2022-11-10T12:18:36.417499Z",
     "shell.execute_reply": "2022-11-10T12:18:36.416836Z"
    },
    "papermill": {
     "duration": 0.034047,
     "end_time": "2022-11-10T12:18:36.417632",
     "exception": false,
     "start_time": "2022-11-10T12:18:36.383585",
     "status": "completed"
    },
    "tags": []
   },
   "outputs": [],
   "source": [
    "#hide\n",
    "# g = g.rename(columns= {'continent':'group','country':'name','cases':'value'})"
   ]
  },
  {
   "cell_type": "code",
   "execution_count": 36,
   "id": "fleet-motorcycle",
   "metadata": {
    "execution": {
     "iopub.execute_input": "2022-11-10T12:18:36.476563Z",
     "iopub.status.busy": "2022-11-10T12:18:36.475841Z",
     "iopub.status.idle": "2022-11-10T12:18:36.477534Z",
     "shell.execute_reply": "2022-11-10T12:18:36.478043Z"
    },
    "papermill": {
     "duration": 0.033227,
     "end_time": "2022-11-10T12:18:36.478225",
     "exception": false,
     "start_time": "2022-11-10T12:18:36.444998",
     "status": "completed"
    },
    "tags": []
   },
   "outputs": [],
   "source": [
    "#hide\n",
    "# cols = ['name','group','day','value']"
   ]
  },
  {
   "cell_type": "code",
   "execution_count": 37,
   "id": "continued-sleeping",
   "metadata": {
    "execution": {
     "iopub.execute_input": "2022-11-10T12:18:36.537106Z",
     "iopub.status.busy": "2022-11-10T12:18:36.536383Z",
     "iopub.status.idle": "2022-11-10T12:18:36.538086Z",
     "shell.execute_reply": "2022-11-10T12:18:36.538636Z"
    },
    "papermill": {
     "duration": 0.033346,
     "end_time": "2022-11-10T12:18:36.538791",
     "exception": false,
     "start_time": "2022-11-10T12:18:36.505445",
     "status": "completed"
    },
    "tags": []
   },
   "outputs": [],
   "source": [
    "#hide\n",
    "# g.rename(columns= {'date':'day'},inplace = True)"
   ]
  },
  {
   "cell_type": "code",
   "execution_count": 38,
   "id": "major-fight",
   "metadata": {
    "execution": {
     "iopub.execute_input": "2022-11-10T12:18:36.597310Z",
     "iopub.status.busy": "2022-11-10T12:18:36.596584Z",
     "iopub.status.idle": "2022-11-10T12:18:36.598296Z",
     "shell.execute_reply": "2022-11-10T12:18:36.598808Z"
    },
    "papermill": {
     "duration": 0.032943,
     "end_time": "2022-11-10T12:18:36.598959",
     "exception": false,
     "start_time": "2022-11-10T12:18:36.566016",
     "status": "completed"
    },
    "tags": []
   },
   "outputs": [],
   "source": [
    "#hide\n",
    "# g = g[cols]"
   ]
  },
  {
   "cell_type": "code",
   "execution_count": 39,
   "id": "structured-mobile",
   "metadata": {
    "execution": {
     "iopub.execute_input": "2022-11-10T12:18:36.657485Z",
     "iopub.status.busy": "2022-11-10T12:18:36.656951Z",
     "iopub.status.idle": "2022-11-10T12:18:36.659486Z",
     "shell.execute_reply": "2022-11-10T12:18:36.659058Z"
    },
    "papermill": {
     "duration": 0.032793,
     "end_time": "2022-11-10T12:18:36.659594",
     "exception": false,
     "start_time": "2022-11-10T12:18:36.626801",
     "status": "completed"
    },
    "tags": []
   },
   "outputs": [],
   "source": [
    "# #hide\n",
    "# g = g[g.group.notna()]"
   ]
  },
  {
   "cell_type": "code",
   "execution_count": 40,
   "id": "determined-closing",
   "metadata": {
    "execution": {
     "iopub.execute_input": "2022-11-10T12:18:36.718283Z",
     "iopub.status.busy": "2022-11-10T12:18:36.717525Z",
     "iopub.status.idle": "2022-11-10T12:18:36.719265Z",
     "shell.execute_reply": "2022-11-10T12:18:36.719803Z"
    },
    "papermill": {
     "duration": 0.033159,
     "end_time": "2022-11-10T12:18:36.719953",
     "exception": false,
     "start_time": "2022-11-10T12:18:36.686794",
     "status": "completed"
    },
    "tags": []
   },
   "outputs": [],
   "source": [
    "# #hide\n",
    "# colors = dict(zip(\n",
    "#     [\"Oceania\", \"Europe\", \"Asia\", \"South America\", \"Middle East\", \"North America\", \"Africa\"],\n",
    "#     [\"#adb0ff\", \"#ffb3ff\", \"#90d595\", \"#e48381\", \"#aafbff\", \"#f7bb5f\", \"#eafb50\"]\n",
    "# ))\n",
    "# group_lk = g.set_index('name')['group'].to_dict()"
   ]
  },
  {
   "cell_type": "code",
   "execution_count": null,
   "id": "gross-drinking",
   "metadata": {
    "papermill": {
     "duration": 0.026815,
     "end_time": "2022-11-10T12:18:36.774452",
     "exception": false,
     "start_time": "2022-11-10T12:18:36.747637",
     "status": "completed"
    },
    "tags": []
   },
   "outputs": [],
   "source": []
  },
  {
   "cell_type": "code",
   "execution_count": 41,
   "id": "subject-macintosh",
   "metadata": {
    "execution": {
     "iopub.execute_input": "2022-11-10T12:18:36.833406Z",
     "iopub.status.busy": "2022-11-10T12:18:36.832643Z",
     "iopub.status.idle": "2022-11-10T12:18:36.834254Z",
     "shell.execute_reply": "2022-11-10T12:18:36.834890Z"
    },
    "papermill": {
     "duration": 0.033771,
     "end_time": "2022-11-10T12:18:36.835050",
     "exception": false,
     "start_time": "2022-11-10T12:18:36.801279",
     "status": "completed"
    },
    "tags": []
   },
   "outputs": [],
   "source": [
    "# #hide\n",
    "# fig, ax = plt.subplots(figsize=(15, 8))\n",
    "\n",
    "# def draw_barchart(current_day):\n",
    "#     dff = g[g['day'].eq(current_day)].sort_values(by='value', ascending=True).tail(10)\n",
    "#     ax.clear()\n",
    "#     ax.barh(dff['name'], dff['value'], color=[colors[group_lk[x]] for x in dff['name']])\n",
    "#     dx = dff['value'].max() / 200\n",
    "    \n",
    "#     for i, (value, name) in enumerate(zip(dff['value'], dff['name'])):\n",
    "#         ax.text(value-dx, i,     name,           size=14, weight=600, ha='right', va='bottom')\n",
    "#         ax.text(value-dx, i-.25, group_lk[name], size=10, color='#444444', ha='right', va='baseline')\n",
    "#         ax.text(value+dx, i,     f'{value:,.0f}',  size=14, ha='left',  va='center')\n",
    "#     ax.text(1, 0.4, current_day, transform=ax.transAxes, color='#777777', size=46, ha='right', weight=800)\n",
    "#     ax.text(0, 1.06, 'Population (thousands)', transform=ax.transAxes, size=12, color='#777777')\n",
    "#     ax.xaxis.set_major_formatter(ticker.StrMethodFormatter('{x:,.0f}'))\n",
    "#     ax.xaxis.set_ticks_position('top')\n",
    "#     ax.tick_params(axis='x', colors='#777777', labelsize=12)\n",
    "#     ax.set_yticks([])\n",
    "#     ax.margins(0, 0.01)\n",
    "#     ax.grid(which='major', axis='x', linestyle='-')\n",
    "#     ax.set_axisbelow(True)\n",
    "    \n",
    "#     ax.text(0, 1.15, 'Coronavirus',\n",
    "#             transform=ax.transAxes, size=24, weight=600, ha='left', va='top')\n",
    "# #     ax.text(1, 0, 'by @pratapvardhan; credit @jburnmurdoch', transform=ax.transAxes, color='#777777', ha='right',\n",
    "# #             bbox=dict(facecolor='white', alpha=0.8, edgecolor='white'))\n",
    "#     plt.box(False)"
   ]
  },
  {
   "cell_type": "code",
   "execution_count": 42,
   "id": "sexual-wages",
   "metadata": {
    "execution": {
     "iopub.execute_input": "2022-11-10T12:18:36.893113Z",
     "iopub.status.busy": "2022-11-10T12:18:36.892400Z",
     "iopub.status.idle": "2022-11-10T12:18:36.896079Z",
     "shell.execute_reply": "2022-11-10T12:18:36.896590Z"
    },
    "papermill": {
     "duration": 0.034767,
     "end_time": "2022-11-10T12:18:36.896742",
     "exception": false,
     "start_time": "2022-11-10T12:18:36.861975",
     "status": "completed"
    },
    "tags": []
   },
   "outputs": [],
   "source": [
    "# #hide_input\n",
    "# fig, ax = plt.subplots(figsize=(15, 8))\n",
    "# animator = animation.FuncAnimation(fig, draw_barchart, frames=range(g.day.values.min(), g.day.values.max()))\n",
    "# HTML(animator.to_jshtml())\n",
    "# # or use animator.to_html5_video() or animator.save() "
   ]
  },
  {
   "cell_type": "code",
   "execution_count": null,
   "id": "australian-container",
   "metadata": {
    "papermill": {
     "duration": 0.027043,
     "end_time": "2022-11-10T12:18:36.950778",
     "exception": false,
     "start_time": "2022-11-10T12:18:36.923735",
     "status": "completed"
    },
    "tags": []
   },
   "outputs": [],
   "source": []
  },
  {
   "cell_type": "code",
   "execution_count": null,
   "id": "mediterranean-pontiac",
   "metadata": {
    "papermill": {
     "duration": 0.026749,
     "end_time": "2022-11-10T12:18:37.004354",
     "exception": false,
     "start_time": "2022-11-10T12:18:36.977605",
     "status": "completed"
    },
    "tags": []
   },
   "outputs": [],
   "source": []
  },
  {
   "cell_type": "code",
   "execution_count": null,
   "id": "aging-legislature",
   "metadata": {
    "papermill": {
     "duration": 0.027251,
     "end_time": "2022-11-10T12:18:37.058687",
     "exception": false,
     "start_time": "2022-11-10T12:18:37.031436",
     "status": "completed"
    },
    "tags": []
   },
   "outputs": [],
   "source": []
  }
 ],
 "metadata": {
  "kernelspec": {
   "display_name": "Python 3",
   "language": "python",
   "name": "python3"
  },
  "language_info": {
   "codemirror_mode": {
    "name": "ipython",
    "version": 3
   },
   "file_extension": ".py",
   "mimetype": "text/x-python",
   "name": "python",
   "nbconvert_exporter": "python",
   "pygments_lexer": "ipython3",
   "version": "3.6.15"
  },
  "papermill": {
   "duration": 5.711472,
   "end_time": "2022-11-10T12:18:37.504647",
   "environment_variables": {},
   "exception": null,
   "input_path": "2020-03-21-covid19exp.ipynb",
   "output_path": "2020-03-21-covid19exp.ipynb",
   "parameters": {},
   "start_time": "2022-11-10T12:18:31.793175",
   "version": "2.0.0"
  }
 },
 "nbformat": 4,
 "nbformat_minor": 5
}