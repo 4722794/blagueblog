{
 "cells": [
  {
   "cell_type": "markdown",
   "metadata": {
    "papermill": {
     "duration": 0.048782,
     "end_time": "2021-01-13T00:37:33.303693",
     "exception": false,
     "start_time": "2021-01-13T00:37:33.254911",
     "status": "completed"
    },
    "tags": []
   },
   "source": [
    "# COVID-19 Case Race\n",
    "> A race chart to see rising cases around the world\n",
    "\n",
    "- author: Hargun Oberoi\n",
    "- image: images/covid-overview.png\n",
    "- hide: false\n",
    "- badges: false"
   ]
  },
  {
   "cell_type": "code",
   "execution_count": 1,
   "metadata": {
    "execution": {
     "iopub.execute_input": "2021-01-13T00:37:33.377061Z",
     "iopub.status.busy": "2021-01-13T00:37:33.376195Z",
     "iopub.status.idle": "2021-01-13T00:37:33.743411Z",
     "shell.execute_reply": "2021-01-13T00:37:33.742791Z"
    },
    "papermill": {
     "duration": 0.40907,
     "end_time": "2021-01-13T00:37:33.743581",
     "exception": false,
     "start_time": "2021-01-13T00:37:33.334511",
     "status": "completed"
    },
    "tags": []
   },
   "outputs": [],
   "source": [
    "#hide\n",
    "import numpy as np\n",
    "import pandas as pd\n",
    "from jinja2 import Template\n",
    "from IPython.display import HTML"
   ]
  },
  {
   "cell_type": "code",
   "execution_count": 2,
   "metadata": {
    "execution": {
     "iopub.execute_input": "2021-01-13T00:37:33.813963Z",
     "iopub.status.busy": "2021-01-13T00:37:33.813257Z",
     "iopub.status.idle": "2021-01-13T00:37:33.815478Z",
     "shell.execute_reply": "2021-01-13T00:37:33.816110Z"
    },
    "papermill": {
     "duration": 0.039432,
     "end_time": "2021-01-13T00:37:33.816241",
     "exception": false,
     "start_time": "2021-01-13T00:37:33.776809",
     "status": "completed"
    },
    "tags": []
   },
   "outputs": [],
   "source": [
    "#hide\n",
    "\n",
    "# FETCH\n",
    "base_url = 'https://raw.githubusercontent.com/pratapvardhan/notebooks/master/covid19/'\n",
    "paths = {\n",
    "    'mapping': base_url + 'mapping_countries.csv',\n",
    "    'overview': base_url + 'overview.tpl'\n",
    "}"
   ]
  },
  {
   "cell_type": "code",
   "execution_count": 3,
   "metadata": {
    "execution": {
     "iopub.execute_input": "2021-01-13T00:37:33.890167Z",
     "iopub.status.busy": "2021-01-13T00:37:33.889545Z",
     "iopub.status.idle": "2021-01-13T00:37:33.892156Z",
     "shell.execute_reply": "2021-01-13T00:37:33.892780Z"
    },
    "papermill": {
     "duration": 0.044602,
     "end_time": "2021-01-13T00:37:33.892932",
     "exception": false,
     "start_time": "2021-01-13T00:37:33.848330",
     "status": "completed"
    },
    "tags": []
   },
   "outputs": [
    {
     "data": {
      "text/plain": [
       "'https://raw.githubusercontent.com/pratapvardhan/notebooks/master/covid19/mapping_countries.csv'"
      ]
     },
     "execution_count": 3,
     "metadata": {},
     "output_type": "execute_result"
    }
   ],
   "source": [
    "#hide\n",
    "paths['mapping']"
   ]
  },
  {
   "cell_type": "code",
   "execution_count": 4,
   "metadata": {
    "execution": {
     "iopub.execute_input": "2021-01-13T00:37:33.965852Z",
     "iopub.status.busy": "2021-01-13T00:37:33.965253Z",
     "iopub.status.idle": "2021-01-13T00:37:33.967345Z",
     "shell.execute_reply": "2021-01-13T00:37:33.967874Z"
    },
    "papermill": {
     "duration": 0.043946,
     "end_time": "2021-01-13T00:37:33.968008",
     "exception": false,
     "start_time": "2021-01-13T00:37:33.924062",
     "status": "completed"
    },
    "tags": []
   },
   "outputs": [],
   "source": [
    "#hide\n",
    "def get_mappings(url):\n",
    "    df = pd.read_csv(url)\n",
    "    return {\n",
    "        'df': df,\n",
    "        'replace.country': dict(df.dropna(subset=['Name']).set_index('Country')['Name']),\n",
    "        'map.continent': dict(df.set_index('Name')['Continent'])\n",
    "    }"
   ]
  },
  {
   "cell_type": "code",
   "execution_count": 5,
   "metadata": {
    "execution": {
     "iopub.execute_input": "2021-01-13T00:37:34.040908Z",
     "iopub.status.busy": "2021-01-13T00:37:34.040224Z",
     "iopub.status.idle": "2021-01-13T00:37:34.122352Z",
     "shell.execute_reply": "2021-01-13T00:37:34.121875Z"
    },
    "papermill": {
     "duration": 0.120027,
     "end_time": "2021-01-13T00:37:34.122493",
     "exception": false,
     "start_time": "2021-01-13T00:37:34.002466",
     "status": "completed"
    },
    "tags": []
   },
   "outputs": [],
   "source": [
    "#hide\n",
    "mapping = get_mappings(paths['mapping'])"
   ]
  },
  {
   "cell_type": "code",
   "execution_count": 6,
   "metadata": {
    "execution": {
     "iopub.execute_input": "2021-01-13T00:37:34.193971Z",
     "iopub.status.busy": "2021-01-13T00:37:34.193313Z",
     "iopub.status.idle": "2021-01-13T00:37:34.196142Z",
     "shell.execute_reply": "2021-01-13T00:37:34.195458Z"
    },
    "papermill": {
     "duration": 0.041164,
     "end_time": "2021-01-13T00:37:34.196277",
     "exception": false,
     "start_time": "2021-01-13T00:37:34.155113",
     "status": "completed"
    },
    "tags": []
   },
   "outputs": [],
   "source": [
    "#hide\n",
    "def get_template(path):\n",
    "    from urllib.parse import urlparse\n",
    "    if bool(urlparse(path).netloc):\n",
    "        from urllib.request import urlopen\n",
    "        return urlopen(path).read().decode('utf8')\n",
    "    return open(path).read()"
   ]
  },
  {
   "cell_type": "code",
   "execution_count": 7,
   "metadata": {
    "execution": {
     "iopub.execute_input": "2021-01-13T00:37:34.263514Z",
     "iopub.status.busy": "2021-01-13T00:37:34.262890Z",
     "iopub.status.idle": "2021-01-13T00:37:34.265433Z",
     "shell.execute_reply": "2021-01-13T00:37:34.264987Z"
    },
    "papermill": {
     "duration": 0.037461,
     "end_time": "2021-01-13T00:37:34.265537",
     "exception": false,
     "start_time": "2021-01-13T00:37:34.228076",
     "status": "completed"
    },
    "tags": []
   },
   "outputs": [],
   "source": [
    "#hide\n",
    "def get_frame(name):\n",
    "    url = (\n",
    "        'https://raw.githubusercontent.com/CSSEGISandData/COVID-19/master/csse_covid_19_data/'\n",
    "        f'csse_covid_19_time_series/time_series_covid19_{name}_global.csv')\n",
    "    df = pd.read_csv(url)\n",
    "    # rename countries\n",
    "    df['Country/Region'] = df['Country/Region'].replace(mapping['replace.country'])\n",
    "    return df"
   ]
  },
  {
   "cell_type": "code",
   "execution_count": 8,
   "metadata": {
    "execution": {
     "iopub.execute_input": "2021-01-13T00:37:34.336763Z",
     "iopub.status.busy": "2021-01-13T00:37:34.336152Z",
     "iopub.status.idle": "2021-01-13T00:37:34.338084Z",
     "shell.execute_reply": "2021-01-13T00:37:34.338716Z"
    },
    "papermill": {
     "duration": 0.040929,
     "end_time": "2021-01-13T00:37:34.338851",
     "exception": false,
     "start_time": "2021-01-13T00:37:34.297922",
     "status": "completed"
    },
    "tags": []
   },
   "outputs": [],
   "source": [
    "#hide\n",
    "def get_dates(df):\n",
    "    dt_cols = df.columns[~df.columns.isin(['Province/State', 'Country/Region', 'Lat', 'Long'])]\n",
    "    LAST_DATE_I = -1\n",
    "    # sometimes last column may be empty, then go backwards\n",
    "    for i in range(-1, -len(dt_cols), -1):\n",
    "        if not df[dt_cols[i]].fillna(0).eq(0).all():\n",
    "            LAST_DATE_I = i\n",
    "            break\n",
    "    return LAST_DATE_I, dt_cols"
   ]
  },
  {
   "cell_type": "code",
   "execution_count": 9,
   "metadata": {
    "execution": {
     "iopub.execute_input": "2021-01-13T00:37:34.411659Z",
     "iopub.status.busy": "2021-01-13T00:37:34.410913Z",
     "iopub.status.idle": "2021-01-13T00:37:34.908339Z",
     "shell.execute_reply": "2021-01-13T00:37:34.907786Z"
    },
    "papermill": {
     "duration": 0.537997,
     "end_time": "2021-01-13T00:37:34.908493",
     "exception": false,
     "start_time": "2021-01-13T00:37:34.370496",
     "status": "completed"
    },
    "tags": []
   },
   "outputs": [],
   "source": [
    "#hide\n",
    "COL_REGION = 'Country/Region'\n",
    "# Confirmed, Recovered, Deaths\n",
    "df = get_frame('confirmed')\n",
    "# dft_: timeseries, dfc_: today country agg\n",
    "dft_cases = df\n",
    "dft_deaths = get_frame('deaths')\n",
    "dft_recovered = get_frame('recovered')\n",
    "LAST_DATE_I, dt_cols = get_dates(df)"
   ]
  },
  {
   "cell_type": "code",
   "execution_count": 10,
   "metadata": {
    "execution": {
     "iopub.execute_input": "2021-01-13T00:37:34.980838Z",
     "iopub.status.busy": "2021-01-13T00:37:34.980188Z",
     "iopub.status.idle": "2021-01-13T00:37:34.983181Z",
     "shell.execute_reply": "2021-01-13T00:37:34.982635Z"
    },
    "papermill": {
     "duration": 0.040763,
     "end_time": "2021-01-13T00:37:34.983306",
     "exception": false,
     "start_time": "2021-01-13T00:37:34.942543",
     "status": "completed"
    },
    "tags": []
   },
   "outputs": [],
   "source": [
    "#hide\n",
    "LAST_DATE_I, dt_cols = get_dates(df)\n",
    "dt_today =dt_cols[LAST_DATE_I]\n",
    "# dt_5day = dt_cols[LAST_DATE_I - 5]\n",
    "dt_yday = dt_cols[LAST_DATE_I - 1]"
   ]
  },
  {
   "cell_type": "code",
   "execution_count": 11,
   "metadata": {
    "execution": {
     "iopub.execute_input": "2021-01-13T00:37:35.064479Z",
     "iopub.status.busy": "2021-01-13T00:37:35.063859Z",
     "iopub.status.idle": "2021-01-13T00:37:35.066596Z",
     "shell.execute_reply": "2021-01-13T00:37:35.065960Z"
    },
    "papermill": {
     "duration": 0.049418,
     "end_time": "2021-01-13T00:37:35.066715",
     "exception": false,
     "start_time": "2021-01-13T00:37:35.017297",
     "status": "completed"
    },
    "tags": []
   },
   "outputs": [],
   "source": [
    "#hide\n",
    "dfc_cases = dft_cases.groupby(COL_REGION)[dt_today].sum()\n",
    "dfc_deaths = dft_deaths.groupby(COL_REGION)[dt_today].sum()\n",
    "# dfp_cases = dft_cases.groupby(COL_REGION)[dt_5day].sum()\n",
    "# dfp_deaths = dft_deaths.groupby(COL_REGION)[dt_5day].sum()\n",
    "dfp_cases = dft_cases.groupby(COL_REGION)[dt_yday].sum()\n",
    "dfp_deaths = dft_deaths.groupby(COL_REGION)[dt_yday].sum()"
   ]
  },
  {
   "cell_type": "code",
   "execution_count": 12,
   "metadata": {
    "execution": {
     "iopub.execute_input": "2021-01-13T00:37:35.135188Z",
     "iopub.status.busy": "2021-01-13T00:37:35.134543Z",
     "iopub.status.idle": "2021-01-13T00:37:35.139945Z",
     "shell.execute_reply": "2021-01-13T00:37:35.139468Z"
    },
    "papermill": {
     "duration": 0.042577,
     "end_time": "2021-01-13T00:37:35.140095",
     "exception": false,
     "start_time": "2021-01-13T00:37:35.097518",
     "status": "completed"
    },
    "tags": []
   },
   "outputs": [],
   "source": [
    "#hide\n",
    "df_table = (pd.DataFrame(dict(Cases = dfc_cases, Deaths = dfc_deaths, PCases = dfp_cases, PDeaths = dfp_deaths))\n",
    "            .sort_values(by = ['Cases','Deaths'], ascending = [False, False])\n",
    "            .reset_index())"
   ]
  },
  {
   "cell_type": "code",
   "execution_count": 13,
   "metadata": {
    "execution": {
     "iopub.execute_input": "2021-01-13T00:37:35.226102Z",
     "iopub.status.busy": "2021-01-13T00:37:35.225432Z",
     "iopub.status.idle": "2021-01-13T00:37:35.233619Z",
     "shell.execute_reply": "2021-01-13T00:37:35.234084Z"
    },
    "papermill": {
     "duration": 0.062114,
     "end_time": "2021-01-13T00:37:35.234257",
     "exception": false,
     "start_time": "2021-01-13T00:37:35.172143",
     "status": "completed"
    },
    "tags": []
   },
   "outputs": [
    {
     "data": {
      "text/html": [
       "<div>\n",
       "<style scoped>\n",
       "    .dataframe tbody tr th:only-of-type {\n",
       "        vertical-align: middle;\n",
       "    }\n",
       "\n",
       "    .dataframe tbody tr th {\n",
       "        vertical-align: top;\n",
       "    }\n",
       "\n",
       "    .dataframe thead th {\n",
       "        text-align: right;\n",
       "    }\n",
       "</style>\n",
       "<table border=\"1\" class=\"dataframe\">\n",
       "  <thead>\n",
       "    <tr style=\"text-align: right;\">\n",
       "      <th></th>\n",
       "      <th>Country/Region</th>\n",
       "      <th>Cases</th>\n",
       "      <th>Deaths</th>\n",
       "      <th>PCases</th>\n",
       "      <th>PDeaths</th>\n",
       "      <th>Cases (+)</th>\n",
       "      <th>Deaths (+)</th>\n",
       "      <th>Fatality Rate</th>\n",
       "      <th>Continent</th>\n",
       "    </tr>\n",
       "  </thead>\n",
       "  <tbody>\n",
       "    <tr>\n",
       "      <th>0</th>\n",
       "      <td>US</td>\n",
       "      <td>22622305</td>\n",
       "      <td>376343</td>\n",
       "      <td>22409132</td>\n",
       "      <td>374337</td>\n",
       "      <td>213173</td>\n",
       "      <td>2006</td>\n",
       "      <td>1.66</td>\n",
       "      <td>North America</td>\n",
       "    </tr>\n",
       "    <tr>\n",
       "      <th>1</th>\n",
       "      <td>India</td>\n",
       "      <td>10479179</td>\n",
       "      <td>151327</td>\n",
       "      <td>10466595</td>\n",
       "      <td>151160</td>\n",
       "      <td>12584</td>\n",
       "      <td>167</td>\n",
       "      <td>1.44</td>\n",
       "      <td>Asia</td>\n",
       "    </tr>\n",
       "    <tr>\n",
       "      <th>2</th>\n",
       "      <td>Brazil</td>\n",
       "      <td>8131612</td>\n",
       "      <td>203580</td>\n",
       "      <td>8105790</td>\n",
       "      <td>203100</td>\n",
       "      <td>25822</td>\n",
       "      <td>480</td>\n",
       "      <td>2.50</td>\n",
       "      <td>South America</td>\n",
       "    </tr>\n",
       "    <tr>\n",
       "      <th>3</th>\n",
       "      <td>Russia</td>\n",
       "      <td>3389733</td>\n",
       "      <td>61389</td>\n",
       "      <td>3366715</td>\n",
       "      <td>60963</td>\n",
       "      <td>23018</td>\n",
       "      <td>426</td>\n",
       "      <td>1.81</td>\n",
       "      <td>Europe</td>\n",
       "    </tr>\n",
       "    <tr>\n",
       "      <th>4</th>\n",
       "      <td>United Kingdom</td>\n",
       "      <td>3127643</td>\n",
       "      <td>82096</td>\n",
       "      <td>3081368</td>\n",
       "      <td>81567</td>\n",
       "      <td>46275</td>\n",
       "      <td>529</td>\n",
       "      <td>2.62</td>\n",
       "      <td>Europe</td>\n",
       "    </tr>\n",
       "  </tbody>\n",
       "</table>\n",
       "</div>"
      ],
      "text/plain": [
       "   Country/Region     Cases  Deaths    PCases  PDeaths  Cases (+)  Deaths (+)  \\\n",
       "0              US  22622305  376343  22409132   374337     213173        2006   \n",
       "1           India  10479179  151327  10466595   151160      12584         167   \n",
       "2          Brazil   8131612  203580   8105790   203100      25822         480   \n",
       "3          Russia   3389733   61389   3366715    60963      23018         426   \n",
       "4  United Kingdom   3127643   82096   3081368    81567      46275         529   \n",
       "\n",
       "   Fatality Rate      Continent  \n",
       "0           1.66  North America  \n",
       "1           1.44           Asia  \n",
       "2           2.50  South America  \n",
       "3           1.81         Europe  \n",
       "4           2.62         Europe  "
      ]
     },
     "execution_count": 13,
     "metadata": {},
     "output_type": "execute_result"
    }
   ],
   "source": [
    "#hide\n",
    "for c in 'Cases, Deaths'.split(', '):\n",
    "    df_table[f'{c} (+)'] = (df_table[c] - df_table[f'P{c}']).clip(0)\n",
    "    #Clip ça veut dire, les chiffres negatif sont interdit\n",
    "df_table['Fatality Rate'] = (100* df_table['Deaths']/ df_table['Cases']).round(2)\n",
    "df_table['Continent'] = df_table['Country/Region'].map(mapping['map.continent'])\n",
    "df_table.head(5)"
   ]
  },
  {
   "cell_type": "code",
   "execution_count": 14,
   "metadata": {
    "execution": {
     "iopub.execute_input": "2021-01-13T00:37:35.305462Z",
     "iopub.status.busy": "2021-01-13T00:37:35.304840Z",
     "iopub.status.idle": "2021-01-13T00:37:35.308403Z",
     "shell.execute_reply": "2021-01-13T00:37:35.307929Z"
    },
    "papermill": {
     "duration": 0.04022,
     "end_time": "2021-01-13T00:37:35.308536",
     "exception": false,
     "start_time": "2021-01-13T00:37:35.268316",
     "status": "completed"
    },
    "tags": []
   },
   "outputs": [],
   "source": [
    "#hide\n",
    "#delete problematic countries from table\n",
    "df_table = df_table[~df_table['Country/Region'].isin(['Cape Verde', 'Cruise Ship', 'Kosovo'])]"
   ]
  },
  {
   "cell_type": "code",
   "execution_count": 15,
   "metadata": {
    "execution": {
     "iopub.execute_input": "2021-01-13T00:37:35.381078Z",
     "iopub.status.busy": "2021-01-13T00:37:35.380309Z",
     "iopub.status.idle": "2021-01-13T00:37:35.401211Z",
     "shell.execute_reply": "2021-01-13T00:37:35.400717Z"
    },
    "papermill": {
     "duration": 0.060847,
     "end_time": "2021-01-13T00:37:35.401323",
     "exception": false,
     "start_time": "2021-01-13T00:37:35.340476",
     "status": "completed"
    },
    "tags": []
   },
   "outputs": [
    {
     "data": {
      "text/html": [
       "<div>\n",
       "<style scoped>\n",
       "    .dataframe tbody tr th:only-of-type {\n",
       "        vertical-align: middle;\n",
       "    }\n",
       "\n",
       "    .dataframe tbody tr th {\n",
       "        vertical-align: top;\n",
       "    }\n",
       "\n",
       "    .dataframe thead th {\n",
       "        text-align: right;\n",
       "    }\n",
       "</style>\n",
       "<table border=\"1\" class=\"dataframe\">\n",
       "  <thead>\n",
       "    <tr style=\"text-align: right;\">\n",
       "      <th></th>\n",
       "      <th>Country/Region</th>\n",
       "      <th>Cases</th>\n",
       "      <th>Deaths</th>\n",
       "      <th>PCases</th>\n",
       "      <th>PDeaths</th>\n",
       "      <th>Cases (+)</th>\n",
       "      <th>Deaths (+)</th>\n",
       "      <th>Fatality Rate</th>\n",
       "      <th>Continent</th>\n",
       "    </tr>\n",
       "  </thead>\n",
       "  <tbody>\n",
       "    <tr>\n",
       "      <th>0</th>\n",
       "      <td>US</td>\n",
       "      <td>22622305</td>\n",
       "      <td>376343</td>\n",
       "      <td>22409132</td>\n",
       "      <td>374337</td>\n",
       "      <td>213173</td>\n",
       "      <td>2006</td>\n",
       "      <td>1.7</td>\n",
       "      <td>North America</td>\n",
       "    </tr>\n",
       "    <tr>\n",
       "      <th>1</th>\n",
       "      <td>India</td>\n",
       "      <td>10479179</td>\n",
       "      <td>151327</td>\n",
       "      <td>10466595</td>\n",
       "      <td>151160</td>\n",
       "      <td>12584</td>\n",
       "      <td>167</td>\n",
       "      <td>1.4</td>\n",
       "      <td>Asia</td>\n",
       "    </tr>\n",
       "    <tr>\n",
       "      <th>2</th>\n",
       "      <td>Brazil</td>\n",
       "      <td>8131612</td>\n",
       "      <td>203580</td>\n",
       "      <td>8105790</td>\n",
       "      <td>203100</td>\n",
       "      <td>25822</td>\n",
       "      <td>480</td>\n",
       "      <td>2.5</td>\n",
       "      <td>South America</td>\n",
       "    </tr>\n",
       "    <tr>\n",
       "      <th>3</th>\n",
       "      <td>Russia</td>\n",
       "      <td>3389733</td>\n",
       "      <td>61389</td>\n",
       "      <td>3366715</td>\n",
       "      <td>60963</td>\n",
       "      <td>23018</td>\n",
       "      <td>426</td>\n",
       "      <td>1.8</td>\n",
       "      <td>Europe</td>\n",
       "    </tr>\n",
       "    <tr>\n",
       "      <th>4</th>\n",
       "      <td>United Kingdom</td>\n",
       "      <td>3127643</td>\n",
       "      <td>82096</td>\n",
       "      <td>3081368</td>\n",
       "      <td>81567</td>\n",
       "      <td>46275</td>\n",
       "      <td>529</td>\n",
       "      <td>2.6</td>\n",
       "      <td>Europe</td>\n",
       "    </tr>\n",
       "  </tbody>\n",
       "</table>\n",
       "</div>"
      ],
      "text/plain": [
       "   Country/Region     Cases  Deaths    PCases  PDeaths  Cases (+)  Deaths (+)  \\\n",
       "0              US  22622305  376343  22409132   374337     213173        2006   \n",
       "1           India  10479179  151327  10466595   151160      12584         167   \n",
       "2          Brazil   8131612  203580   8105790   203100      25822         480   \n",
       "3          Russia   3389733   61389   3366715    60963      23018         426   \n",
       "4  United Kingdom   3127643   82096   3081368    81567      46275         529   \n",
       "\n",
       "   Fatality Rate      Continent  \n",
       "0            1.7  North America  \n",
       "1            1.4           Asia  \n",
       "2            2.5  South America  \n",
       "3            1.8         Europe  \n",
       "4            2.6         Europe  "
      ]
     },
     "execution_count": 15,
     "metadata": {},
     "output_type": "execute_result"
    }
   ],
   "source": [
    "#hide\n",
    "df_table = (pd.DataFrame(dict(Cases=dfc_cases, Deaths=dfc_deaths, PCases=dfp_cases, PDeaths=dfp_deaths))\n",
    "             .sort_values(by=['Cases', 'Deaths'], ascending=[False, False])\n",
    "             .reset_index())\n",
    "df_table.rename(columns={'index': 'Country/Region'}, inplace=True)\n",
    "for c in 'Cases, Deaths'.split(', '):\n",
    "    df_table[f'{c} (+)'] = (df_table[c] - df_table[f'P{c}']).clip(0)  # DATA BUG\n",
    "df_table['Fatality Rate'] = (100 * df_table['Deaths'] / df_table['Cases']).round(1)\n",
    "df_table['Continent'] = df_table['Country/Region'].map(mapping['map.continent'])\n",
    "df_table.head(5)"
   ]
  },
  {
   "cell_type": "code",
   "execution_count": 16,
   "metadata": {
    "execution": {
     "iopub.execute_input": "2021-01-13T00:37:35.471320Z",
     "iopub.status.busy": "2021-01-13T00:37:35.470665Z",
     "iopub.status.idle": "2021-01-13T00:37:35.473128Z",
     "shell.execute_reply": "2021-01-13T00:37:35.473778Z"
    },
    "papermill": {
     "duration": 0.040326,
     "end_time": "2021-01-13T00:37:35.473935",
     "exception": false,
     "start_time": "2021-01-13T00:37:35.433609",
     "status": "completed"
    },
    "tags": []
   },
   "outputs": [],
   "source": [
    "#hide\n",
    "#delete problematic countries from table\n",
    "df_table = df_table[~df_table['Country/Region'].isin(['Cape Verde', 'Cruise Ship', 'Kosovo'])]"
   ]
  },
  {
   "cell_type": "code",
   "execution_count": 17,
   "metadata": {
    "execution": {
     "iopub.execute_input": "2021-01-13T00:37:35.566724Z",
     "iopub.status.busy": "2021-01-13T00:37:35.565962Z",
     "iopub.status.idle": "2021-01-13T00:37:35.568195Z",
     "shell.execute_reply": "2021-01-13T00:37:35.568706Z"
    },
    "papermill": {
     "duration": 0.062662,
     "end_time": "2021-01-13T00:37:35.568838",
     "exception": false,
     "start_time": "2021-01-13T00:37:35.506176",
     "status": "completed"
    },
    "tags": []
   },
   "outputs": [],
   "source": [
    "#hide\n",
    "metrics = [df_table.columns[index] for index in [1,2,5,6]]\n",
    "# s_china = df_table[df_table['Country/Region'].eq('China')][metrics].sum().add_prefix('China ')\n",
    "s_us = df_table[df_table['Country/Region'].eq('US')][metrics].sum().add_prefix('US ')\n",
    "s_eu = df_table[df_table['Continent'].eq('Europe')][metrics].sum().add_prefix('EU ')\n",
    "s_ind = df_table[df_table['Country/Region'].eq('India')][metrics].sum().add_prefix('India ')\n",
    "summary = {'updated': pd.to_datetime(dt_today), 'since': pd.to_datetime(dt_yday)}\n",
    "summary = {'updated': pd.to_datetime(dt_today), 'since': pd.to_datetime(dt_yday)}\n",
    "summary = {**summary, **df_table[metrics].sum(), **s_ind, **s_us, **s_eu}"
   ]
  },
  {
   "cell_type": "code",
   "execution_count": 18,
   "metadata": {
    "execution": {
     "iopub.execute_input": "2021-01-13T00:37:35.641216Z",
     "iopub.status.busy": "2021-01-13T00:37:35.640512Z",
     "iopub.status.idle": "2021-01-13T00:37:35.651671Z",
     "shell.execute_reply": "2021-01-13T00:37:35.652331Z"
    },
    "papermill": {
     "duration": 0.050474,
     "end_time": "2021-01-13T00:37:35.652466",
     "exception": false,
     "start_time": "2021-01-13T00:37:35.601992",
     "status": "completed"
    },
    "tags": []
   },
   "outputs": [],
   "source": [
    "#hide\n",
    "dft_ct_new_cases = dft_cases.groupby(COL_REGION)[dt_cols].sum().diff(axis=1).fillna(0).astype(int)"
   ]
  },
  {
   "cell_type": "code",
   "execution_count": 19,
   "metadata": {
    "execution": {
     "iopub.execute_input": "2021-01-13T00:37:35.722881Z",
     "iopub.status.busy": "2021-01-13T00:37:35.722226Z",
     "iopub.status.idle": "2021-01-13T00:37:35.725150Z",
     "shell.execute_reply": "2021-01-13T00:37:35.724508Z"
    },
    "papermill": {
     "duration": 0.041119,
     "end_time": "2021-01-13T00:37:35.725282",
     "exception": false,
     "start_time": "2021-01-13T00:37:35.684163",
     "status": "completed"
    },
    "tags": []
   },
   "outputs": [],
   "source": [
    "#hide\n",
    "everydaycases = dft_ct_new_cases.cumsum(axis=1)"
   ]
  },
  {
   "cell_type": "code",
   "execution_count": 20,
   "metadata": {
    "execution": {
     "iopub.execute_input": "2021-01-13T00:37:35.793876Z",
     "iopub.status.busy": "2021-01-13T00:37:35.793238Z",
     "iopub.status.idle": "2021-01-13T00:37:37.441934Z",
     "shell.execute_reply": "2021-01-13T00:37:37.440623Z"
    },
    "papermill": {
     "duration": 1.685864,
     "end_time": "2021-01-13T00:37:37.443198",
     "exception": false,
     "start_time": "2021-01-13T00:37:35.757334",
     "status": "completed"
    },
    "tags": []
   },
   "outputs": [],
   "source": [
    "#hide\n",
    "import pandas as pd\n",
    "import matplotlib.pyplot as plt\n",
    "import matplotlib.ticker as ticker\n",
    "import matplotlib.animation as animation\n",
    "from IPython.display import HTML"
   ]
  },
  {
   "cell_type": "code",
   "execution_count": 21,
   "metadata": {
    "execution": {
     "iopub.execute_input": "2021-01-13T00:37:37.514235Z",
     "iopub.status.busy": "2021-01-13T00:37:37.513605Z",
     "iopub.status.idle": "2021-01-13T00:37:37.518217Z",
     "shell.execute_reply": "2021-01-13T00:37:37.518697Z"
    },
    "papermill": {
     "duration": 0.043145,
     "end_time": "2021-01-13T00:37:37.518843",
     "exception": false,
     "start_time": "2021-01-13T00:37:37.475698",
     "status": "completed"
    },
    "tags": []
   },
   "outputs": [],
   "source": [
    "#hide\n",
    "t = everydaycases.stack()"
   ]
  },
  {
   "cell_type": "code",
   "execution_count": 22,
   "metadata": {
    "execution": {
     "iopub.execute_input": "2021-01-13T00:37:37.595344Z",
     "iopub.status.busy": "2021-01-13T00:37:37.594697Z",
     "iopub.status.idle": "2021-01-13T00:37:37.601965Z",
     "shell.execute_reply": "2021-01-13T00:37:37.601476Z"
    },
    "papermill": {
     "duration": 0.049132,
     "end_time": "2021-01-13T00:37:37.602116",
     "exception": false,
     "start_time": "2021-01-13T00:37:37.552984",
     "status": "completed"
    },
    "tags": []
   },
   "outputs": [],
   "source": [
    "#hide\n",
    "g = t.reset_index(['Country/Region'])"
   ]
  },
  {
   "cell_type": "code",
   "execution_count": 23,
   "metadata": {
    "execution": {
     "iopub.execute_input": "2021-01-13T00:37:37.669883Z",
     "iopub.status.busy": "2021-01-13T00:37:37.669181Z",
     "iopub.status.idle": "2021-01-13T00:37:37.671912Z",
     "shell.execute_reply": "2021-01-13T00:37:37.671377Z"
    },
    "papermill": {
     "duration": 0.038555,
     "end_time": "2021-01-13T00:37:37.672072",
     "exception": false,
     "start_time": "2021-01-13T00:37:37.633517",
     "status": "completed"
    },
    "tags": []
   },
   "outputs": [],
   "source": [
    "#hide\n",
    "g.index.name = 'date'"
   ]
  },
  {
   "cell_type": "code",
   "execution_count": 24,
   "metadata": {
    "execution": {
     "iopub.execute_input": "2021-01-13T00:37:37.740509Z",
     "iopub.status.busy": "2021-01-13T00:37:37.739945Z",
     "iopub.status.idle": "2021-01-13T00:37:37.742702Z",
     "shell.execute_reply": "2021-01-13T00:37:37.743149Z"
    },
    "papermill": {
     "duration": 0.039325,
     "end_time": "2021-01-13T00:37:37.743292",
     "exception": false,
     "start_time": "2021-01-13T00:37:37.703967",
     "status": "completed"
    },
    "tags": []
   },
   "outputs": [],
   "source": [
    "# #hide\n",
    "# g = g.reset_index(['date'])"
   ]
  },
  {
   "cell_type": "code",
   "execution_count": 25,
   "metadata": {
    "execution": {
     "iopub.execute_input": "2021-01-13T00:37:37.812901Z",
     "iopub.status.busy": "2021-01-13T00:37:37.812169Z",
     "iopub.status.idle": "2021-01-13T00:37:37.814750Z",
     "shell.execute_reply": "2021-01-13T00:37:37.814084Z"
    },
    "papermill": {
     "duration": 0.039187,
     "end_time": "2021-01-13T00:37:37.814901",
     "exception": false,
     "start_time": "2021-01-13T00:37:37.775714",
     "status": "completed"
    },
    "tags": []
   },
   "outputs": [],
   "source": [
    "#hide\n",
    "# g.head()"
   ]
  },
  {
   "cell_type": "code",
   "execution_count": 26,
   "metadata": {
    "execution": {
     "iopub.execute_input": "2021-01-13T00:37:37.884111Z",
     "iopub.status.busy": "2021-01-13T00:37:37.883491Z",
     "iopub.status.idle": "2021-01-13T00:37:37.886159Z",
     "shell.execute_reply": "2021-01-13T00:37:37.885446Z"
    },
    "papermill": {
     "duration": 0.039294,
     "end_time": "2021-01-13T00:37:37.886474",
     "exception": false,
     "start_time": "2021-01-13T00:37:37.847180",
     "status": "completed"
    },
    "tags": []
   },
   "outputs": [],
   "source": [
    "#hide\n",
    "# g.columns = ['date','country','cases']"
   ]
  },
  {
   "cell_type": "code",
   "execution_count": 27,
   "metadata": {
    "execution": {
     "iopub.execute_input": "2021-01-13T00:37:37.957029Z",
     "iopub.status.busy": "2021-01-13T00:37:37.956416Z",
     "iopub.status.idle": "2021-01-13T00:37:37.958883Z",
     "shell.execute_reply": "2021-01-13T00:37:37.958305Z"
    },
    "papermill": {
     "duration": 0.039761,
     "end_time": "2021-01-13T00:37:37.958995",
     "exception": false,
     "start_time": "2021-01-13T00:37:37.919234",
     "status": "completed"
    },
    "tags": []
   },
   "outputs": [],
   "source": [
    "#hide\n",
    "# g['continent'] = g.country"
   ]
  },
  {
   "cell_type": "code",
   "execution_count": 28,
   "metadata": {
    "execution": {
     "iopub.execute_input": "2021-01-13T00:37:38.032121Z",
     "iopub.status.busy": "2021-01-13T00:37:38.031534Z",
     "iopub.status.idle": "2021-01-13T00:37:38.033129Z",
     "shell.execute_reply": "2021-01-13T00:37:38.033650Z"
    },
    "papermill": {
     "duration": 0.038202,
     "end_time": "2021-01-13T00:37:38.033781",
     "exception": false,
     "start_time": "2021-01-13T00:37:37.995579",
     "status": "completed"
    },
    "tags": []
   },
   "outputs": [],
   "source": [
    "#hide\n",
    "# cols = list(g.columns.values)"
   ]
  },
  {
   "cell_type": "code",
   "execution_count": 29,
   "metadata": {
    "execution": {
     "iopub.execute_input": "2021-01-13T00:37:38.110574Z",
     "iopub.status.busy": "2021-01-13T00:37:38.109937Z",
     "iopub.status.idle": "2021-01-13T00:37:38.112287Z",
     "shell.execute_reply": "2021-01-13T00:37:38.111763Z"
    },
    "papermill": {
     "duration": 0.047033,
     "end_time": "2021-01-13T00:37:38.112413",
     "exception": false,
     "start_time": "2021-01-13T00:37:38.065380",
     "status": "completed"
    },
    "tags": []
   },
   "outputs": [],
   "source": [
    "#hide\n",
    "# cols.insert(0, cols.pop())"
   ]
  },
  {
   "cell_type": "code",
   "execution_count": 30,
   "metadata": {
    "execution": {
     "iopub.execute_input": "2021-01-13T00:37:38.182168Z",
     "iopub.status.busy": "2021-01-13T00:37:38.181434Z",
     "iopub.status.idle": "2021-01-13T00:37:38.183927Z",
     "shell.execute_reply": "2021-01-13T00:37:38.183240Z"
    },
    "papermill": {
     "duration": 0.038049,
     "end_time": "2021-01-13T00:37:38.184047",
     "exception": false,
     "start_time": "2021-01-13T00:37:38.145998",
     "status": "completed"
    },
    "tags": []
   },
   "outputs": [],
   "source": [
    "#hide\n",
    "# g = g[cols]"
   ]
  },
  {
   "cell_type": "code",
   "execution_count": 31,
   "metadata": {
    "execution": {
     "iopub.execute_input": "2021-01-13T00:37:38.255109Z",
     "iopub.status.busy": "2021-01-13T00:37:38.254290Z",
     "iopub.status.idle": "2021-01-13T00:37:38.257029Z",
     "shell.execute_reply": "2021-01-13T00:37:38.256342Z"
    },
    "papermill": {
     "duration": 0.039816,
     "end_time": "2021-01-13T00:37:38.257146",
     "exception": false,
     "start_time": "2021-01-13T00:37:38.217330",
     "status": "completed"
    },
    "tags": []
   },
   "outputs": [],
   "source": [
    "#hide\n",
    "# g['continent'] = g['continent'].map(mapping['map.continent'])"
   ]
  },
  {
   "cell_type": "code",
   "execution_count": 32,
   "metadata": {
    "execution": {
     "iopub.execute_input": "2021-01-13T00:37:38.325812Z",
     "iopub.status.busy": "2021-01-13T00:37:38.325097Z",
     "iopub.status.idle": "2021-01-13T00:37:38.327274Z",
     "shell.execute_reply": "2021-01-13T00:37:38.327990Z"
    },
    "papermill": {
     "duration": 0.038249,
     "end_time": "2021-01-13T00:37:38.328115",
     "exception": false,
     "start_time": "2021-01-13T00:37:38.289866",
     "status": "completed"
    },
    "tags": []
   },
   "outputs": [],
   "source": [
    "#hide\n",
    "# g.head()"
   ]
  },
  {
   "cell_type": "code",
   "execution_count": 33,
   "metadata": {
    "execution": {
     "iopub.execute_input": "2021-01-13T00:37:38.394510Z",
     "iopub.status.busy": "2021-01-13T00:37:38.393873Z",
     "iopub.status.idle": "2021-01-13T00:37:38.396756Z",
     "shell.execute_reply": "2021-01-13T00:37:38.397280Z"
    },
    "papermill": {
     "duration": 0.038552,
     "end_time": "2021-01-13T00:37:38.397482",
     "exception": false,
     "start_time": "2021-01-13T00:37:38.358930",
     "status": "completed"
    },
    "tags": []
   },
   "outputs": [],
   "source": [
    "# hide\n",
    "# g['date'] = g['date'].astype('datetime64[ns]')"
   ]
  },
  {
   "cell_type": "code",
   "execution_count": 34,
   "metadata": {
    "execution": {
     "iopub.execute_input": "2021-01-13T00:37:38.464880Z",
     "iopub.status.busy": "2021-01-13T00:37:38.464246Z",
     "iopub.status.idle": "2021-01-13T00:37:38.467181Z",
     "shell.execute_reply": "2021-01-13T00:37:38.466615Z"
    },
    "papermill": {
     "duration": 0.037364,
     "end_time": "2021-01-13T00:37:38.467302",
     "exception": false,
     "start_time": "2021-01-13T00:37:38.429938",
     "status": "completed"
    },
    "tags": []
   },
   "outputs": [],
   "source": [
    "#hide\n",
    "# g['date'] = g.date.dt.dayofyear"
   ]
  },
  {
   "cell_type": "code",
   "execution_count": 35,
   "metadata": {
    "execution": {
     "iopub.execute_input": "2021-01-13T00:37:38.574883Z",
     "iopub.status.busy": "2021-01-13T00:37:38.573632Z",
     "iopub.status.idle": "2021-01-13T00:37:38.575991Z",
     "shell.execute_reply": "2021-01-13T00:37:38.576772Z"
    },
    "papermill": {
     "duration": 0.075821,
     "end_time": "2021-01-13T00:37:38.576946",
     "exception": false,
     "start_time": "2021-01-13T00:37:38.501125",
     "status": "completed"
    },
    "tags": []
   },
   "outputs": [],
   "source": [
    "#hide\n",
    "# g = g.rename(columns= {'continent':'group','country':'name','cases':'value'})"
   ]
  },
  {
   "cell_type": "code",
   "execution_count": 36,
   "metadata": {
    "execution": {
     "iopub.execute_input": "2021-01-13T00:37:38.647349Z",
     "iopub.status.busy": "2021-01-13T00:37:38.646726Z",
     "iopub.status.idle": "2021-01-13T00:37:38.649200Z",
     "shell.execute_reply": "2021-01-13T00:37:38.648463Z"
    },
    "papermill": {
     "duration": 0.038072,
     "end_time": "2021-01-13T00:37:38.649317",
     "exception": false,
     "start_time": "2021-01-13T00:37:38.611245",
     "status": "completed"
    },
    "tags": []
   },
   "outputs": [],
   "source": [
    "#hide\n",
    "# cols = ['name','group','day','value']"
   ]
  },
  {
   "cell_type": "code",
   "execution_count": 37,
   "metadata": {
    "execution": {
     "iopub.execute_input": "2021-01-13T00:37:38.719452Z",
     "iopub.status.busy": "2021-01-13T00:37:38.718729Z",
     "iopub.status.idle": "2021-01-13T00:37:38.721147Z",
     "shell.execute_reply": "2021-01-13T00:37:38.720515Z"
    },
    "papermill": {
     "duration": 0.038519,
     "end_time": "2021-01-13T00:37:38.721268",
     "exception": false,
     "start_time": "2021-01-13T00:37:38.682749",
     "status": "completed"
    },
    "tags": []
   },
   "outputs": [],
   "source": [
    "#hide\n",
    "# g.rename(columns= {'date':'day'},inplace = True)"
   ]
  },
  {
   "cell_type": "code",
   "execution_count": 38,
   "metadata": {
    "execution": {
     "iopub.execute_input": "2021-01-13T00:37:38.790740Z",
     "iopub.status.busy": "2021-01-13T00:37:38.789973Z",
     "iopub.status.idle": "2021-01-13T00:37:38.792746Z",
     "shell.execute_reply": "2021-01-13T00:37:38.792139Z"
    },
    "papermill": {
     "duration": 0.039252,
     "end_time": "2021-01-13T00:37:38.792871",
     "exception": false,
     "start_time": "2021-01-13T00:37:38.753619",
     "status": "completed"
    },
    "tags": []
   },
   "outputs": [],
   "source": [
    "#hide\n",
    "# g = g[cols]"
   ]
  },
  {
   "cell_type": "code",
   "execution_count": 39,
   "metadata": {
    "execution": {
     "iopub.execute_input": "2021-01-13T00:37:38.860837Z",
     "iopub.status.busy": "2021-01-13T00:37:38.860157Z",
     "iopub.status.idle": "2021-01-13T00:37:38.864826Z",
     "shell.execute_reply": "2021-01-13T00:37:38.864256Z"
    },
    "papermill": {
     "duration": 0.040064,
     "end_time": "2021-01-13T00:37:38.865061",
     "exception": false,
     "start_time": "2021-01-13T00:37:38.824997",
     "status": "completed"
    },
    "tags": []
   },
   "outputs": [],
   "source": [
    "# #hide\n",
    "# g = g[g.group.notna()]"
   ]
  },
  {
   "cell_type": "code",
   "execution_count": 40,
   "metadata": {
    "execution": {
     "iopub.execute_input": "2021-01-13T00:37:38.935304Z",
     "iopub.status.busy": "2021-01-13T00:37:38.934650Z",
     "iopub.status.idle": "2021-01-13T00:37:38.937340Z",
     "shell.execute_reply": "2021-01-13T00:37:38.937803Z"
    },
    "papermill": {
     "duration": 0.039605,
     "end_time": "2021-01-13T00:37:38.937930",
     "exception": false,
     "start_time": "2021-01-13T00:37:38.898325",
     "status": "completed"
    },
    "tags": []
   },
   "outputs": [],
   "source": [
    "# #hide\n",
    "# colors = dict(zip(\n",
    "#     [\"Oceania\", \"Europe\", \"Asia\", \"South America\", \"Middle East\", \"North America\", \"Africa\"],\n",
    "#     [\"#adb0ff\", \"#ffb3ff\", \"#90d595\", \"#e48381\", \"#aafbff\", \"#f7bb5f\", \"#eafb50\"]\n",
    "# ))\n",
    "# group_lk = g.set_index('name')['group'].to_dict()"
   ]
  },
  {
   "cell_type": "code",
   "execution_count": null,
   "metadata": {
    "papermill": {
     "duration": 0.033945,
     "end_time": "2021-01-13T00:37:39.002794",
     "exception": false,
     "start_time": "2021-01-13T00:37:38.968849",
     "status": "completed"
    },
    "tags": []
   },
   "outputs": [],
   "source": []
  },
  {
   "cell_type": "code",
   "execution_count": 41,
   "metadata": {
    "execution": {
     "iopub.execute_input": "2021-01-13T00:37:39.074788Z",
     "iopub.status.busy": "2021-01-13T00:37:39.074185Z",
     "iopub.status.idle": "2021-01-13T00:37:39.076122Z",
     "shell.execute_reply": "2021-01-13T00:37:39.076617Z"
    },
    "papermill": {
     "duration": 0.039679,
     "end_time": "2021-01-13T00:37:39.076755",
     "exception": false,
     "start_time": "2021-01-13T00:37:39.037076",
     "status": "completed"
    },
    "tags": []
   },
   "outputs": [],
   "source": [
    "# #hide\n",
    "# fig, ax = plt.subplots(figsize=(15, 8))\n",
    "\n",
    "# def draw_barchart(current_day):\n",
    "#     dff = g[g['day'].eq(current_day)].sort_values(by='value', ascending=True).tail(10)\n",
    "#     ax.clear()\n",
    "#     ax.barh(dff['name'], dff['value'], color=[colors[group_lk[x]] for x in dff['name']])\n",
    "#     dx = dff['value'].max() / 200\n",
    "    \n",
    "#     for i, (value, name) in enumerate(zip(dff['value'], dff['name'])):\n",
    "#         ax.text(value-dx, i,     name,           size=14, weight=600, ha='right', va='bottom')\n",
    "#         ax.text(value-dx, i-.25, group_lk[name], size=10, color='#444444', ha='right', va='baseline')\n",
    "#         ax.text(value+dx, i,     f'{value:,.0f}',  size=14, ha='left',  va='center')\n",
    "#     ax.text(1, 0.4, current_day, transform=ax.transAxes, color='#777777', size=46, ha='right', weight=800)\n",
    "#     ax.text(0, 1.06, 'Population (thousands)', transform=ax.transAxes, size=12, color='#777777')\n",
    "#     ax.xaxis.set_major_formatter(ticker.StrMethodFormatter('{x:,.0f}'))\n",
    "#     ax.xaxis.set_ticks_position('top')\n",
    "#     ax.tick_params(axis='x', colors='#777777', labelsize=12)\n",
    "#     ax.set_yticks([])\n",
    "#     ax.margins(0, 0.01)\n",
    "#     ax.grid(which='major', axis='x', linestyle='-')\n",
    "#     ax.set_axisbelow(True)\n",
    "    \n",
    "#     ax.text(0, 1.15, 'Coronavirus',\n",
    "#             transform=ax.transAxes, size=24, weight=600, ha='left', va='top')\n",
    "# #     ax.text(1, 0, 'by @pratapvardhan; credit @jburnmurdoch', transform=ax.transAxes, color='#777777', ha='right',\n",
    "# #             bbox=dict(facecolor='white', alpha=0.8, edgecolor='white'))\n",
    "#     plt.box(False)"
   ]
  },
  {
   "cell_type": "code",
   "execution_count": 42,
   "metadata": {
    "execution": {
     "iopub.execute_input": "2021-01-13T00:37:39.147727Z",
     "iopub.status.busy": "2021-01-13T00:37:39.147110Z",
     "iopub.status.idle": "2021-01-13T00:37:39.149207Z",
     "shell.execute_reply": "2021-01-13T00:37:39.149660Z"
    },
    "papermill": {
     "duration": 0.038723,
     "end_time": "2021-01-13T00:37:39.149780",
     "exception": false,
     "start_time": "2021-01-13T00:37:39.111057",
     "status": "completed"
    },
    "tags": []
   },
   "outputs": [],
   "source": [
    "# #hide_input\n",
    "# fig, ax = plt.subplots(figsize=(15, 8))\n",
    "# animator = animation.FuncAnimation(fig, draw_barchart, frames=range(g.day.values.min(), g.day.values.max()))\n",
    "# HTML(animator.to_jshtml())\n",
    "# # or use animator.to_html5_video() or animator.save() "
   ]
  },
  {
   "cell_type": "code",
   "execution_count": null,
   "metadata": {
    "papermill": {
     "duration": 0.03122,
     "end_time": "2021-01-13T00:37:39.212463",
     "exception": false,
     "start_time": "2021-01-13T00:37:39.181243",
     "status": "completed"
    },
    "tags": []
   },
   "outputs": [],
   "source": []
  },
  {
   "cell_type": "code",
   "execution_count": null,
   "metadata": {
    "papermill": {
     "duration": 0.030342,
     "end_time": "2021-01-13T00:37:39.275065",
     "exception": false,
     "start_time": "2021-01-13T00:37:39.244723",
     "status": "completed"
    },
    "tags": []
   },
   "outputs": [],
   "source": []
  },
  {
   "cell_type": "code",
   "execution_count": null,
   "metadata": {
    "papermill": {
     "duration": 0.030935,
     "end_time": "2021-01-13T00:37:39.337937",
     "exception": false,
     "start_time": "2021-01-13T00:37:39.307002",
     "status": "completed"
    },
    "tags": []
   },
   "outputs": [],
   "source": []
  }
 ],
 "metadata": {
  "kernelspec": {
   "display_name": "Python 3",
   "language": "python",
   "name": "python3"
  },
  "language_info": {
   "codemirror_mode": {
    "name": "ipython",
    "version": 3
   },
   "file_extension": ".py",
   "mimetype": "text/x-python",
   "name": "python",
   "nbconvert_exporter": "python",
   "pygments_lexer": "ipython3",
   "version": "3.6.12"
  },
  "papermill": {
   "duration": 7.577726,
   "end_time": "2021-01-13T00:37:39.676891",
   "environment_variables": {},
   "exception": null,
   "input_path": "2020-03-21-covid19exp.ipynb",
   "output_path": "2020-03-21-covid19exp.ipynb",
   "parameters": {},
   "start_time": "2021-01-13T00:37:32.099165",
   "version": "2.0.0"
  }
 },
 "nbformat": 4,
 "nbformat_minor": 4
}