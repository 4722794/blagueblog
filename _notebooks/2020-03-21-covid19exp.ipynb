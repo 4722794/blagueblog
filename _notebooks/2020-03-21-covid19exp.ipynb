{
 "cells": [
  {
   "cell_type": "markdown",
   "id": "muslim-click",
   "metadata": {
    "papermill": {
     "duration": 0.041428,
     "end_time": "2021-03-06T12:07:21.814456",
     "exception": false,
     "start_time": "2021-03-06T12:07:21.773028",
     "status": "completed"
    },
    "tags": []
   },
   "source": [
    "# COVID-19 Case Race\n",
    "> A race chart to see rising cases around the world\n",
    "\n",
    "- author: Hargun Oberoi\n",
    "- image: images/covid-overview.png\n",
    "- hide: false\n",
    "- badges: false"
   ]
  },
  {
   "cell_type": "code",
   "execution_count": 1,
   "id": "proof-material",
   "metadata": {
    "execution": {
     "iopub.execute_input": "2021-03-06T12:07:21.907276Z",
     "iopub.status.busy": "2021-03-06T12:07:21.906398Z",
     "iopub.status.idle": "2021-03-06T12:07:22.250712Z",
     "shell.execute_reply": "2021-03-06T12:07:22.250162Z"
    },
    "papermill": {
     "duration": 0.396762,
     "end_time": "2021-03-06T12:07:22.250870",
     "exception": false,
     "start_time": "2021-03-06T12:07:21.854108",
     "status": "completed"
    },
    "tags": []
   },
   "outputs": [],
   "source": [
    "#hide\n",
    "import numpy as np\n",
    "import pandas as pd\n",
    "from jinja2 import Template\n",
    "from IPython.display import HTML"
   ]
  },
  {
   "cell_type": "code",
   "execution_count": 2,
   "id": "developed-terminology",
   "metadata": {
    "execution": {
     "iopub.execute_input": "2021-03-06T12:07:22.325195Z",
     "iopub.status.busy": "2021-03-06T12:07:22.324548Z",
     "iopub.status.idle": "2021-03-06T12:07:22.326865Z",
     "shell.execute_reply": "2021-03-06T12:07:22.326352Z"
    },
    "papermill": {
     "duration": 0.041573,
     "end_time": "2021-03-06T12:07:22.326994",
     "exception": false,
     "start_time": "2021-03-06T12:07:22.285421",
     "status": "completed"
    },
    "tags": []
   },
   "outputs": [],
   "source": [
    "#hide\n",
    "\n",
    "# FETCH\n",
    "base_url = 'https://raw.githubusercontent.com/pratapvardhan/notebooks/master/covid19/'\n",
    "paths = {\n",
    "    'mapping': base_url + 'mapping_countries.csv',\n",
    "    'overview': base_url + 'overview.tpl'\n",
    "}"
   ]
  },
  {
   "cell_type": "code",
   "execution_count": 3,
   "id": "dynamic-saver",
   "metadata": {
    "execution": {
     "iopub.execute_input": "2021-03-06T12:07:22.406736Z",
     "iopub.status.busy": "2021-03-06T12:07:22.406136Z",
     "iopub.status.idle": "2021-03-06T12:07:22.409255Z",
     "shell.execute_reply": "2021-03-06T12:07:22.408737Z"
    },
    "papermill": {
     "duration": 0.048041,
     "end_time": "2021-03-06T12:07:22.409377",
     "exception": false,
     "start_time": "2021-03-06T12:07:22.361336",
     "status": "completed"
    },
    "tags": []
   },
   "outputs": [
    {
     "data": {
      "text/plain": [
       "'https://raw.githubusercontent.com/pratapvardhan/notebooks/master/covid19/mapping_countries.csv'"
      ]
     },
     "execution_count": 3,
     "metadata": {},
     "output_type": "execute_result"
    }
   ],
   "source": [
    "#hide\n",
    "paths['mapping']"
   ]
  },
  {
   "cell_type": "code",
   "execution_count": 4,
   "id": "urban-software",
   "metadata": {
    "execution": {
     "iopub.execute_input": "2021-03-06T12:07:22.484209Z",
     "iopub.status.busy": "2021-03-06T12:07:22.483600Z",
     "iopub.status.idle": "2021-03-06T12:07:22.485805Z",
     "shell.execute_reply": "2021-03-06T12:07:22.485298Z"
    },
    "papermill": {
     "duration": 0.041849,
     "end_time": "2021-03-06T12:07:22.485924",
     "exception": false,
     "start_time": "2021-03-06T12:07:22.444075",
     "status": "completed"
    },
    "tags": []
   },
   "outputs": [],
   "source": [
    "#hide\n",
    "def get_mappings(url):\n",
    "    df = pd.read_csv(url)\n",
    "    return {\n",
    "        'df': df,\n",
    "        'replace.country': dict(df.dropna(subset=['Name']).set_index('Country')['Name']),\n",
    "        'map.continent': dict(df.set_index('Name')['Continent'])\n",
    "    }"
   ]
  },
  {
   "cell_type": "code",
   "execution_count": 5,
   "id": "intimate-machinery",
   "metadata": {
    "execution": {
     "iopub.execute_input": "2021-03-06T12:07:22.561207Z",
     "iopub.status.busy": "2021-03-06T12:07:22.560607Z",
     "iopub.status.idle": "2021-03-06T12:07:22.606602Z",
     "shell.execute_reply": "2021-03-06T12:07:22.605733Z"
    },
    "papermill": {
     "duration": 0.086172,
     "end_time": "2021-03-06T12:07:22.606729",
     "exception": false,
     "start_time": "2021-03-06T12:07:22.520557",
     "status": "completed"
    },
    "tags": []
   },
   "outputs": [],
   "source": [
    "#hide\n",
    "mapping = get_mappings(paths['mapping'])"
   ]
  },
  {
   "cell_type": "code",
   "execution_count": 6,
   "id": "certified-tactics",
   "metadata": {
    "execution": {
     "iopub.execute_input": "2021-03-06T12:07:22.686998Z",
     "iopub.status.busy": "2021-03-06T12:07:22.686388Z",
     "iopub.status.idle": "2021-03-06T12:07:22.688235Z",
     "shell.execute_reply": "2021-03-06T12:07:22.688693Z"
    },
    "papermill": {
     "duration": 0.044912,
     "end_time": "2021-03-06T12:07:22.688835",
     "exception": false,
     "start_time": "2021-03-06T12:07:22.643923",
     "status": "completed"
    },
    "tags": []
   },
   "outputs": [],
   "source": [
    "#hide\n",
    "def get_template(path):\n",
    "    from urllib.parse import urlparse\n",
    "    if bool(urlparse(path).netloc):\n",
    "        from urllib.request import urlopen\n",
    "        return urlopen(path).read().decode('utf8')\n",
    "    return open(path).read()"
   ]
  },
  {
   "cell_type": "code",
   "execution_count": 7,
   "id": "realistic-blast",
   "metadata": {
    "execution": {
     "iopub.execute_input": "2021-03-06T12:07:22.768539Z",
     "iopub.status.busy": "2021-03-06T12:07:22.767934Z",
     "iopub.status.idle": "2021-03-06T12:07:22.770451Z",
     "shell.execute_reply": "2021-03-06T12:07:22.769938Z"
    },
    "papermill": {
     "duration": 0.042951,
     "end_time": "2021-03-06T12:07:22.770573",
     "exception": false,
     "start_time": "2021-03-06T12:07:22.727622",
     "status": "completed"
    },
    "tags": []
   },
   "outputs": [],
   "source": [
    "#hide\n",
    "def get_frame(name):\n",
    "    url = (\n",
    "        'https://raw.githubusercontent.com/CSSEGISandData/COVID-19/master/csse_covid_19_data/'\n",
    "        f'csse_covid_19_time_series/time_series_covid19_{name}_global.csv')\n",
    "    df = pd.read_csv(url)\n",
    "    # rename countries\n",
    "    df['Country/Region'] = df['Country/Region'].replace(mapping['replace.country'])\n",
    "    return df"
   ]
  },
  {
   "cell_type": "code",
   "execution_count": 8,
   "id": "affiliated-characterization",
   "metadata": {
    "execution": {
     "iopub.execute_input": "2021-03-06T12:07:22.846123Z",
     "iopub.status.busy": "2021-03-06T12:07:22.845515Z",
     "iopub.status.idle": "2021-03-06T12:07:22.847809Z",
     "shell.execute_reply": "2021-03-06T12:07:22.847189Z"
    },
    "papermill": {
     "duration": 0.042605,
     "end_time": "2021-03-06T12:07:22.847930",
     "exception": false,
     "start_time": "2021-03-06T12:07:22.805325",
     "status": "completed"
    },
    "tags": []
   },
   "outputs": [],
   "source": [
    "#hide\n",
    "def get_dates(df):\n",
    "    dt_cols = df.columns[~df.columns.isin(['Province/State', 'Country/Region', 'Lat', 'Long'])]\n",
    "    LAST_DATE_I = -1\n",
    "    # sometimes last column may be empty, then go backwards\n",
    "    for i in range(-1, -len(dt_cols), -1):\n",
    "        if not df[dt_cols[i]].fillna(0).eq(0).all():\n",
    "            LAST_DATE_I = i\n",
    "            break\n",
    "    return LAST_DATE_I, dt_cols"
   ]
  },
  {
   "cell_type": "code",
   "execution_count": 9,
   "id": "recent-optimization",
   "metadata": {
    "execution": {
     "iopub.execute_input": "2021-03-06T12:07:22.923676Z",
     "iopub.status.busy": "2021-03-06T12:07:22.922798Z",
     "iopub.status.idle": "2021-03-06T12:07:23.211320Z",
     "shell.execute_reply": "2021-03-06T12:07:23.210773Z"
    },
    "papermill": {
     "duration": 0.329142,
     "end_time": "2021-03-06T12:07:23.211588",
     "exception": false,
     "start_time": "2021-03-06T12:07:22.882446",
     "status": "completed"
    },
    "tags": []
   },
   "outputs": [],
   "source": [
    "#hide\n",
    "COL_REGION = 'Country/Region'\n",
    "# Confirmed, Recovered, Deaths\n",
    "df = get_frame('confirmed')\n",
    "# dft_: timeseries, dfc_: today country agg\n",
    "dft_cases = df\n",
    "dft_deaths = get_frame('deaths')\n",
    "dft_recovered = get_frame('recovered')\n",
    "LAST_DATE_I, dt_cols = get_dates(df)"
   ]
  },
  {
   "cell_type": "code",
   "execution_count": 10,
   "id": "absolute-copper",
   "metadata": {
    "execution": {
     "iopub.execute_input": "2021-03-06T12:07:23.287925Z",
     "iopub.status.busy": "2021-03-06T12:07:23.286923Z",
     "iopub.status.idle": "2021-03-06T12:07:23.288602Z",
     "shell.execute_reply": "2021-03-06T12:07:23.289082Z"
    },
    "papermill": {
     "duration": 0.042471,
     "end_time": "2021-03-06T12:07:23.289227",
     "exception": false,
     "start_time": "2021-03-06T12:07:23.246756",
     "status": "completed"
    },
    "tags": []
   },
   "outputs": [],
   "source": [
    "#hide\n",
    "LAST_DATE_I, dt_cols = get_dates(df)\n",
    "dt_today =dt_cols[LAST_DATE_I]\n",
    "# dt_5day = dt_cols[LAST_DATE_I - 5]\n",
    "dt_yday = dt_cols[LAST_DATE_I - 1]"
   ]
  },
  {
   "cell_type": "code",
   "execution_count": 11,
   "id": "restricted-sheriff",
   "metadata": {
    "execution": {
     "iopub.execute_input": "2021-03-06T12:07:23.372521Z",
     "iopub.status.busy": "2021-03-06T12:07:23.371900Z",
     "iopub.status.idle": "2021-03-06T12:07:23.379782Z",
     "shell.execute_reply": "2021-03-06T12:07:23.379230Z"
    },
    "papermill": {
     "duration": 0.051525,
     "end_time": "2021-03-06T12:07:23.379911",
     "exception": false,
     "start_time": "2021-03-06T12:07:23.328386",
     "status": "completed"
    },
    "tags": []
   },
   "outputs": [],
   "source": [
    "#hide\n",
    "dfc_cases = dft_cases.groupby(COL_REGION)[dt_today].sum()\n",
    "dfc_deaths = dft_deaths.groupby(COL_REGION)[dt_today].sum()\n",
    "# dfp_cases = dft_cases.groupby(COL_REGION)[dt_5day].sum()\n",
    "# dfp_deaths = dft_deaths.groupby(COL_REGION)[dt_5day].sum()\n",
    "dfp_cases = dft_cases.groupby(COL_REGION)[dt_yday].sum()\n",
    "dfp_deaths = dft_deaths.groupby(COL_REGION)[dt_yday].sum()"
   ]
  },
  {
   "cell_type": "code",
   "execution_count": 12,
   "id": "deluxe-hepatitis",
   "metadata": {
    "execution": {
     "iopub.execute_input": "2021-03-06T12:07:23.457808Z",
     "iopub.status.busy": "2021-03-06T12:07:23.452603Z",
     "iopub.status.idle": "2021-03-06T12:07:23.463862Z",
     "shell.execute_reply": "2021-03-06T12:07:23.464424Z"
    },
    "papermill": {
     "duration": 0.049811,
     "end_time": "2021-03-06T12:07:23.464564",
     "exception": false,
     "start_time": "2021-03-06T12:07:23.414753",
     "status": "completed"
    },
    "tags": []
   },
   "outputs": [],
   "source": [
    "#hide\n",
    "df_table = (pd.DataFrame(dict(Cases = dfc_cases, Deaths = dfc_deaths, PCases = dfp_cases, PDeaths = dfp_deaths))\n",
    "            .sort_values(by = ['Cases','Deaths'], ascending = [False, False])\n",
    "            .reset_index())"
   ]
  },
  {
   "cell_type": "code",
   "execution_count": 13,
   "id": "educational-chancellor",
   "metadata": {
    "execution": {
     "iopub.execute_input": "2021-03-06T12:07:23.557693Z",
     "iopub.status.busy": "2021-03-06T12:07:23.553317Z",
     "iopub.status.idle": "2021-03-06T12:07:23.560981Z",
     "shell.execute_reply": "2021-03-06T12:07:23.560496Z"
    },
    "papermill": {
     "duration": 0.061995,
     "end_time": "2021-03-06T12:07:23.561107",
     "exception": false,
     "start_time": "2021-03-06T12:07:23.499112",
     "status": "completed"
    },
    "tags": []
   },
   "outputs": [
    {
     "data": {
      "text/html": [
       "<div>\n",
       "<style scoped>\n",
       "    .dataframe tbody tr th:only-of-type {\n",
       "        vertical-align: middle;\n",
       "    }\n",
       "\n",
       "    .dataframe tbody tr th {\n",
       "        vertical-align: top;\n",
       "    }\n",
       "\n",
       "    .dataframe thead th {\n",
       "        text-align: right;\n",
       "    }\n",
       "</style>\n",
       "<table border=\"1\" class=\"dataframe\">\n",
       "  <thead>\n",
       "    <tr style=\"text-align: right;\">\n",
       "      <th></th>\n",
       "      <th>Country/Region</th>\n",
       "      <th>Cases</th>\n",
       "      <th>Deaths</th>\n",
       "      <th>PCases</th>\n",
       "      <th>PDeaths</th>\n",
       "      <th>Cases (+)</th>\n",
       "      <th>Deaths (+)</th>\n",
       "      <th>Fatality Rate</th>\n",
       "      <th>Continent</th>\n",
       "    </tr>\n",
       "  </thead>\n",
       "  <tbody>\n",
       "    <tr>\n",
       "      <th>0</th>\n",
       "      <td>US</td>\n",
       "      <td>28891374</td>\n",
       "      <td>522832</td>\n",
       "      <td>28827144</td>\n",
       "      <td>520356</td>\n",
       "      <td>64230</td>\n",
       "      <td>2476</td>\n",
       "      <td>1.81</td>\n",
       "      <td>North America</td>\n",
       "    </tr>\n",
       "    <tr>\n",
       "      <th>1</th>\n",
       "      <td>India</td>\n",
       "      <td>11192045</td>\n",
       "      <td>157656</td>\n",
       "      <td>11173761</td>\n",
       "      <td>157548</td>\n",
       "      <td>18284</td>\n",
       "      <td>108</td>\n",
       "      <td>1.41</td>\n",
       "      <td>Asia</td>\n",
       "    </tr>\n",
       "    <tr>\n",
       "      <th>2</th>\n",
       "      <td>Brazil</td>\n",
       "      <td>10869227</td>\n",
       "      <td>262770</td>\n",
       "      <td>10793732</td>\n",
       "      <td>260970</td>\n",
       "      <td>75495</td>\n",
       "      <td>1800</td>\n",
       "      <td>2.42</td>\n",
       "      <td>South America</td>\n",
       "    </tr>\n",
       "    <tr>\n",
       "      <th>3</th>\n",
       "      <td>Russia</td>\n",
       "      <td>4252876</td>\n",
       "      <td>86821</td>\n",
       "      <td>4241970</td>\n",
       "      <td>86368</td>\n",
       "      <td>10906</td>\n",
       "      <td>453</td>\n",
       "      <td>2.04</td>\n",
       "      <td>Europe</td>\n",
       "    </tr>\n",
       "    <tr>\n",
       "      <th>4</th>\n",
       "      <td>United Kingdom</td>\n",
       "      <td>4219788</td>\n",
       "      <td>124495</td>\n",
       "      <td>4213764</td>\n",
       "      <td>124259</td>\n",
       "      <td>6024</td>\n",
       "      <td>236</td>\n",
       "      <td>2.95</td>\n",
       "      <td>Europe</td>\n",
       "    </tr>\n",
       "  </tbody>\n",
       "</table>\n",
       "</div>"
      ],
      "text/plain": [
       "   Country/Region     Cases  Deaths    PCases  PDeaths  Cases (+)  Deaths (+)  \\\n",
       "0              US  28891374  522832  28827144   520356      64230        2476   \n",
       "1           India  11192045  157656  11173761   157548      18284         108   \n",
       "2          Brazil  10869227  262770  10793732   260970      75495        1800   \n",
       "3          Russia   4252876   86821   4241970    86368      10906         453   \n",
       "4  United Kingdom   4219788  124495   4213764   124259       6024         236   \n",
       "\n",
       "   Fatality Rate      Continent  \n",
       "0           1.81  North America  \n",
       "1           1.41           Asia  \n",
       "2           2.42  South America  \n",
       "3           2.04         Europe  \n",
       "4           2.95         Europe  "
      ]
     },
     "execution_count": 13,
     "metadata": {},
     "output_type": "execute_result"
    }
   ],
   "source": [
    "#hide\n",
    "for c in 'Cases, Deaths'.split(', '):\n",
    "    df_table[f'{c} (+)'] = (df_table[c] - df_table[f'P{c}']).clip(0)\n",
    "    #Clip ça veut dire, les chiffres negatif sont interdit\n",
    "df_table['Fatality Rate'] = (100* df_table['Deaths']/ df_table['Cases']).round(2)\n",
    "df_table['Continent'] = df_table['Country/Region'].map(mapping['map.continent'])\n",
    "df_table.head(5)"
   ]
  },
  {
   "cell_type": "code",
   "execution_count": 14,
   "id": "aboriginal-bulgaria",
   "metadata": {
    "execution": {
     "iopub.execute_input": "2021-03-06T12:07:23.637763Z",
     "iopub.status.busy": "2021-03-06T12:07:23.637159Z",
     "iopub.status.idle": "2021-03-06T12:07:23.639569Z",
     "shell.execute_reply": "2021-03-06T12:07:23.638941Z"
    },
    "papermill": {
     "duration": 0.043297,
     "end_time": "2021-03-06T12:07:23.639695",
     "exception": false,
     "start_time": "2021-03-06T12:07:23.596398",
     "status": "completed"
    },
    "tags": []
   },
   "outputs": [],
   "source": [
    "#hide\n",
    "#delete problematic countries from table\n",
    "df_table = df_table[~df_table['Country/Region'].isin(['Cape Verde', 'Cruise Ship', 'Kosovo'])]"
   ]
  },
  {
   "cell_type": "code",
   "execution_count": 15,
   "id": "fantastic-effect",
   "metadata": {
    "execution": {
     "iopub.execute_input": "2021-03-06T12:07:23.718327Z",
     "iopub.status.busy": "2021-03-06T12:07:23.717716Z",
     "iopub.status.idle": "2021-03-06T12:07:23.739983Z",
     "shell.execute_reply": "2021-03-06T12:07:23.739458Z"
    },
    "papermill": {
     "duration": 0.065485,
     "end_time": "2021-03-06T12:07:23.740108",
     "exception": false,
     "start_time": "2021-03-06T12:07:23.674623",
     "status": "completed"
    },
    "tags": []
   },
   "outputs": [
    {
     "data": {
      "text/html": [
       "<div>\n",
       "<style scoped>\n",
       "    .dataframe tbody tr th:only-of-type {\n",
       "        vertical-align: middle;\n",
       "    }\n",
       "\n",
       "    .dataframe tbody tr th {\n",
       "        vertical-align: top;\n",
       "    }\n",
       "\n",
       "    .dataframe thead th {\n",
       "        text-align: right;\n",
       "    }\n",
       "</style>\n",
       "<table border=\"1\" class=\"dataframe\">\n",
       "  <thead>\n",
       "    <tr style=\"text-align: right;\">\n",
       "      <th></th>\n",
       "      <th>Country/Region</th>\n",
       "      <th>Cases</th>\n",
       "      <th>Deaths</th>\n",
       "      <th>PCases</th>\n",
       "      <th>PDeaths</th>\n",
       "      <th>Cases (+)</th>\n",
       "      <th>Deaths (+)</th>\n",
       "      <th>Fatality Rate</th>\n",
       "      <th>Continent</th>\n",
       "    </tr>\n",
       "  </thead>\n",
       "  <tbody>\n",
       "    <tr>\n",
       "      <th>0</th>\n",
       "      <td>US</td>\n",
       "      <td>28891374</td>\n",
       "      <td>522832</td>\n",
       "      <td>28827144</td>\n",
       "      <td>520356</td>\n",
       "      <td>64230</td>\n",
       "      <td>2476</td>\n",
       "      <td>1.8</td>\n",
       "      <td>North America</td>\n",
       "    </tr>\n",
       "    <tr>\n",
       "      <th>1</th>\n",
       "      <td>India</td>\n",
       "      <td>11192045</td>\n",
       "      <td>157656</td>\n",
       "      <td>11173761</td>\n",
       "      <td>157548</td>\n",
       "      <td>18284</td>\n",
       "      <td>108</td>\n",
       "      <td>1.4</td>\n",
       "      <td>Asia</td>\n",
       "    </tr>\n",
       "    <tr>\n",
       "      <th>2</th>\n",
       "      <td>Brazil</td>\n",
       "      <td>10869227</td>\n",
       "      <td>262770</td>\n",
       "      <td>10793732</td>\n",
       "      <td>260970</td>\n",
       "      <td>75495</td>\n",
       "      <td>1800</td>\n",
       "      <td>2.4</td>\n",
       "      <td>South America</td>\n",
       "    </tr>\n",
       "    <tr>\n",
       "      <th>3</th>\n",
       "      <td>Russia</td>\n",
       "      <td>4252876</td>\n",
       "      <td>86821</td>\n",
       "      <td>4241970</td>\n",
       "      <td>86368</td>\n",
       "      <td>10906</td>\n",
       "      <td>453</td>\n",
       "      <td>2.0</td>\n",
       "      <td>Europe</td>\n",
       "    </tr>\n",
       "    <tr>\n",
       "      <th>4</th>\n",
       "      <td>United Kingdom</td>\n",
       "      <td>4219788</td>\n",
       "      <td>124495</td>\n",
       "      <td>4213764</td>\n",
       "      <td>124259</td>\n",
       "      <td>6024</td>\n",
       "      <td>236</td>\n",
       "      <td>3.0</td>\n",
       "      <td>Europe</td>\n",
       "    </tr>\n",
       "  </tbody>\n",
       "</table>\n",
       "</div>"
      ],
      "text/plain": [
       "   Country/Region     Cases  Deaths    PCases  PDeaths  Cases (+)  Deaths (+)  \\\n",
       "0              US  28891374  522832  28827144   520356      64230        2476   \n",
       "1           India  11192045  157656  11173761   157548      18284         108   \n",
       "2          Brazil  10869227  262770  10793732   260970      75495        1800   \n",
       "3          Russia   4252876   86821   4241970    86368      10906         453   \n",
       "4  United Kingdom   4219788  124495   4213764   124259       6024         236   \n",
       "\n",
       "   Fatality Rate      Continent  \n",
       "0            1.8  North America  \n",
       "1            1.4           Asia  \n",
       "2            2.4  South America  \n",
       "3            2.0         Europe  \n",
       "4            3.0         Europe  "
      ]
     },
     "execution_count": 15,
     "metadata": {},
     "output_type": "execute_result"
    }
   ],
   "source": [
    "#hide\n",
    "df_table = (pd.DataFrame(dict(Cases=dfc_cases, Deaths=dfc_deaths, PCases=dfp_cases, PDeaths=dfp_deaths))\n",
    "             .sort_values(by=['Cases', 'Deaths'], ascending=[False, False])\n",
    "             .reset_index())\n",
    "df_table.rename(columns={'index': 'Country/Region'}, inplace=True)\n",
    "for c in 'Cases, Deaths'.split(', '):\n",
    "    df_table[f'{c} (+)'] = (df_table[c] - df_table[f'P{c}']).clip(0)  # DATA BUG\n",
    "df_table['Fatality Rate'] = (100 * df_table['Deaths'] / df_table['Cases']).round(1)\n",
    "df_table['Continent'] = df_table['Country/Region'].map(mapping['map.continent'])\n",
    "df_table.head(5)"
   ]
  },
  {
   "cell_type": "code",
   "execution_count": 16,
   "id": "fewer-occasion",
   "metadata": {
    "execution": {
     "iopub.execute_input": "2021-03-06T12:07:23.819173Z",
     "iopub.status.busy": "2021-03-06T12:07:23.818569Z",
     "iopub.status.idle": "2021-03-06T12:07:23.821753Z",
     "shell.execute_reply": "2021-03-06T12:07:23.821232Z"
    },
    "papermill": {
     "duration": 0.045773,
     "end_time": "2021-03-06T12:07:23.821876",
     "exception": false,
     "start_time": "2021-03-06T12:07:23.776103",
     "status": "completed"
    },
    "tags": []
   },
   "outputs": [],
   "source": [
    "#hide\n",
    "#delete problematic countries from table\n",
    "df_table = df_table[~df_table['Country/Region'].isin(['Cape Verde', 'Cruise Ship', 'Kosovo'])]"
   ]
  },
  {
   "cell_type": "code",
   "execution_count": 17,
   "id": "related-center",
   "metadata": {
    "execution": {
     "iopub.execute_input": "2021-03-06T12:07:23.903129Z",
     "iopub.status.busy": "2021-03-06T12:07:23.902515Z",
     "iopub.status.idle": "2021-03-06T12:07:23.916611Z",
     "shell.execute_reply": "2021-03-06T12:07:23.917188Z"
    },
    "papermill": {
     "duration": 0.060013,
     "end_time": "2021-03-06T12:07:23.917325",
     "exception": false,
     "start_time": "2021-03-06T12:07:23.857312",
     "status": "completed"
    },
    "tags": []
   },
   "outputs": [],
   "source": [
    "#hide\n",
    "metrics = [df_table.columns[index] for index in [1,2,5,6]]\n",
    "# s_china = df_table[df_table['Country/Region'].eq('China')][metrics].sum().add_prefix('China ')\n",
    "s_us = df_table[df_table['Country/Region'].eq('US')][metrics].sum().add_prefix('US ')\n",
    "s_eu = df_table[df_table['Continent'].eq('Europe')][metrics].sum().add_prefix('EU ')\n",
    "s_ind = df_table[df_table['Country/Region'].eq('India')][metrics].sum().add_prefix('India ')\n",
    "summary = {'updated': pd.to_datetime(dt_today), 'since': pd.to_datetime(dt_yday)}\n",
    "summary = {'updated': pd.to_datetime(dt_today), 'since': pd.to_datetime(dt_yday)}\n",
    "summary = {**summary, **df_table[metrics].sum(), **s_ind, **s_us, **s_eu}"
   ]
  },
  {
   "cell_type": "code",
   "execution_count": 18,
   "id": "engaging-syndrome",
   "metadata": {
    "execution": {
     "iopub.execute_input": "2021-03-06T12:07:23.996673Z",
     "iopub.status.busy": "2021-03-06T12:07:23.996057Z",
     "iopub.status.idle": "2021-03-06T12:07:24.007962Z",
     "shell.execute_reply": "2021-03-06T12:07:24.007461Z"
    },
    "papermill": {
     "duration": 0.055105,
     "end_time": "2021-03-06T12:07:24.008092",
     "exception": false,
     "start_time": "2021-03-06T12:07:23.952987",
     "status": "completed"
    },
    "tags": []
   },
   "outputs": [],
   "source": [
    "#hide\n",
    "dft_ct_new_cases = dft_cases.groupby(COL_REGION)[dt_cols].sum().diff(axis=1).fillna(0).astype(int)"
   ]
  },
  {
   "cell_type": "code",
   "execution_count": 19,
   "id": "neutral-assignment",
   "metadata": {
    "execution": {
     "iopub.execute_input": "2021-03-06T12:07:24.087124Z",
     "iopub.status.busy": "2021-03-06T12:07:24.086508Z",
     "iopub.status.idle": "2021-03-06T12:07:24.088293Z",
     "shell.execute_reply": "2021-03-06T12:07:24.088811Z"
    },
    "papermill": {
     "duration": 0.044592,
     "end_time": "2021-03-06T12:07:24.088954",
     "exception": false,
     "start_time": "2021-03-06T12:07:24.044362",
     "status": "completed"
    },
    "tags": []
   },
   "outputs": [],
   "source": [
    "#hide\n",
    "everydaycases = dft_ct_new_cases.cumsum(axis=1)"
   ]
  },
  {
   "cell_type": "code",
   "execution_count": 20,
   "id": "parliamentary-calgary",
   "metadata": {
    "execution": {
     "iopub.execute_input": "2021-03-06T12:07:24.166747Z",
     "iopub.status.busy": "2021-03-06T12:07:24.166147Z",
     "iopub.status.idle": "2021-03-06T12:07:26.268252Z",
     "shell.execute_reply": "2021-03-06T12:07:26.267632Z"
    },
    "papermill": {
     "duration": 2.143699,
     "end_time": "2021-03-06T12:07:26.268411",
     "exception": false,
     "start_time": "2021-03-06T12:07:24.124712",
     "status": "completed"
    },
    "tags": []
   },
   "outputs": [],
   "source": [
    "#hide\n",
    "import pandas as pd\n",
    "import matplotlib.pyplot as plt\n",
    "import matplotlib.ticker as ticker\n",
    "import matplotlib.animation as animation\n",
    "from IPython.display import HTML"
   ]
  },
  {
   "cell_type": "code",
   "execution_count": 21,
   "id": "lasting-extraction",
   "metadata": {
    "execution": {
     "iopub.execute_input": "2021-03-06T12:07:26.347993Z",
     "iopub.status.busy": "2021-03-06T12:07:26.346821Z",
     "iopub.status.idle": "2021-03-06T12:07:26.353951Z",
     "shell.execute_reply": "2021-03-06T12:07:26.353289Z"
    },
    "papermill": {
     "duration": 0.049363,
     "end_time": "2021-03-06T12:07:26.354090",
     "exception": false,
     "start_time": "2021-03-06T12:07:26.304727",
     "status": "completed"
    },
    "tags": []
   },
   "outputs": [],
   "source": [
    "#hide\n",
    "t = everydaycases.stack()"
   ]
  },
  {
   "cell_type": "code",
   "execution_count": 22,
   "id": "premier-sleeve",
   "metadata": {
    "execution": {
     "iopub.execute_input": "2021-03-06T12:07:26.434527Z",
     "iopub.status.busy": "2021-03-06T12:07:26.433903Z",
     "iopub.status.idle": "2021-03-06T12:07:26.440857Z",
     "shell.execute_reply": "2021-03-06T12:07:26.441332Z"
    },
    "papermill": {
     "duration": 0.049523,
     "end_time": "2021-03-06T12:07:26.441478",
     "exception": false,
     "start_time": "2021-03-06T12:07:26.391955",
     "status": "completed"
    },
    "tags": []
   },
   "outputs": [],
   "source": [
    "#hide\n",
    "g = t.reset_index(['Country/Region'])"
   ]
  },
  {
   "cell_type": "code",
   "execution_count": 23,
   "id": "distributed-pittsburgh",
   "metadata": {
    "execution": {
     "iopub.execute_input": "2021-03-06T12:07:26.517959Z",
     "iopub.status.busy": "2021-03-06T12:07:26.517327Z",
     "iopub.status.idle": "2021-03-06T12:07:26.519130Z",
     "shell.execute_reply": "2021-03-06T12:07:26.519673Z"
    },
    "papermill": {
     "duration": 0.04194,
     "end_time": "2021-03-06T12:07:26.519817",
     "exception": false,
     "start_time": "2021-03-06T12:07:26.477877",
     "status": "completed"
    },
    "tags": []
   },
   "outputs": [],
   "source": [
    "#hide\n",
    "g.index.name = 'date'"
   ]
  },
  {
   "cell_type": "code",
   "execution_count": 24,
   "id": "naked-donor",
   "metadata": {
    "execution": {
     "iopub.execute_input": "2021-03-06T12:07:26.605614Z",
     "iopub.status.busy": "2021-03-06T12:07:26.604998Z",
     "iopub.status.idle": "2021-03-06T12:07:26.607406Z",
     "shell.execute_reply": "2021-03-06T12:07:26.606871Z"
    },
    "papermill": {
     "duration": 0.048631,
     "end_time": "2021-03-06T12:07:26.607532",
     "exception": false,
     "start_time": "2021-03-06T12:07:26.558901",
     "status": "completed"
    },
    "tags": []
   },
   "outputs": [],
   "source": [
    "# #hide\n",
    "# g = g.reset_index(['date'])"
   ]
  },
  {
   "cell_type": "code",
   "execution_count": 25,
   "id": "incomplete-mustang",
   "metadata": {
    "execution": {
     "iopub.execute_input": "2021-03-06T12:07:26.688089Z",
     "iopub.status.busy": "2021-03-06T12:07:26.687470Z",
     "iopub.status.idle": "2021-03-06T12:07:26.689835Z",
     "shell.execute_reply": "2021-03-06T12:07:26.689242Z"
    },
    "papermill": {
     "duration": 0.044086,
     "end_time": "2021-03-06T12:07:26.689960",
     "exception": false,
     "start_time": "2021-03-06T12:07:26.645874",
     "status": "completed"
    },
    "tags": []
   },
   "outputs": [],
   "source": [
    "#hide\n",
    "# g.head()"
   ]
  },
  {
   "cell_type": "code",
   "execution_count": 26,
   "id": "specific-kruger",
   "metadata": {
    "execution": {
     "iopub.execute_input": "2021-03-06T12:07:26.767008Z",
     "iopub.status.busy": "2021-03-06T12:07:26.766392Z",
     "iopub.status.idle": "2021-03-06T12:07:26.768172Z",
     "shell.execute_reply": "2021-03-06T12:07:26.768683Z"
    },
    "papermill": {
     "duration": 0.041368,
     "end_time": "2021-03-06T12:07:26.768826",
     "exception": false,
     "start_time": "2021-03-06T12:07:26.727458",
     "status": "completed"
    },
    "tags": []
   },
   "outputs": [],
   "source": [
    "#hide\n",
    "# g.columns = ['date','country','cases']"
   ]
  },
  {
   "cell_type": "code",
   "execution_count": 27,
   "id": "tender-conversion",
   "metadata": {
    "execution": {
     "iopub.execute_input": "2021-03-06T12:07:26.848290Z",
     "iopub.status.busy": "2021-03-06T12:07:26.847668Z",
     "iopub.status.idle": "2021-03-06T12:07:26.850109Z",
     "shell.execute_reply": "2021-03-06T12:07:26.849535Z"
    },
    "papermill": {
     "duration": 0.042415,
     "end_time": "2021-03-06T12:07:26.850241",
     "exception": false,
     "start_time": "2021-03-06T12:07:26.807826",
     "status": "completed"
    },
    "tags": []
   },
   "outputs": [],
   "source": [
    "#hide\n",
    "# g['continent'] = g.country"
   ]
  },
  {
   "cell_type": "code",
   "execution_count": 28,
   "id": "substantial-wilderness",
   "metadata": {
    "execution": {
     "iopub.execute_input": "2021-03-06T12:07:26.926951Z",
     "iopub.status.busy": "2021-03-06T12:07:26.926324Z",
     "iopub.status.idle": "2021-03-06T12:07:26.928619Z",
     "shell.execute_reply": "2021-03-06T12:07:26.928108Z"
    },
    "papermill": {
     "duration": 0.042203,
     "end_time": "2021-03-06T12:07:26.928743",
     "exception": false,
     "start_time": "2021-03-06T12:07:26.886540",
     "status": "completed"
    },
    "tags": []
   },
   "outputs": [],
   "source": [
    "#hide\n",
    "# cols = list(g.columns.values)"
   ]
  },
  {
   "cell_type": "code",
   "execution_count": 29,
   "id": "solved-farming",
   "metadata": {
    "execution": {
     "iopub.execute_input": "2021-03-06T12:07:27.004137Z",
     "iopub.status.busy": "2021-03-06T12:07:27.003518Z",
     "iopub.status.idle": "2021-03-06T12:07:27.005317Z",
     "shell.execute_reply": "2021-03-06T12:07:27.005832Z"
    },
    "papermill": {
     "duration": 0.041575,
     "end_time": "2021-03-06T12:07:27.005973",
     "exception": false,
     "start_time": "2021-03-06T12:07:26.964398",
     "status": "completed"
    },
    "tags": []
   },
   "outputs": [],
   "source": [
    "#hide\n",
    "# cols.insert(0, cols.pop())"
   ]
  },
  {
   "cell_type": "code",
   "execution_count": 30,
   "id": "executed-adoption",
   "metadata": {
    "execution": {
     "iopub.execute_input": "2021-03-06T12:07:27.082097Z",
     "iopub.status.busy": "2021-03-06T12:07:27.081470Z",
     "iopub.status.idle": "2021-03-06T12:07:27.083852Z",
     "shell.execute_reply": "2021-03-06T12:07:27.083289Z"
    },
    "papermill": {
     "duration": 0.041947,
     "end_time": "2021-03-06T12:07:27.083981",
     "exception": false,
     "start_time": "2021-03-06T12:07:27.042034",
     "status": "completed"
    },
    "tags": []
   },
   "outputs": [],
   "source": [
    "#hide\n",
    "# g = g[cols]"
   ]
  },
  {
   "cell_type": "code",
   "execution_count": 31,
   "id": "subject-dublin",
   "metadata": {
    "execution": {
     "iopub.execute_input": "2021-03-06T12:07:27.188445Z",
     "iopub.status.busy": "2021-03-06T12:07:27.186003Z",
     "iopub.status.idle": "2021-03-06T12:07:27.191699Z",
     "shell.execute_reply": "2021-03-06T12:07:27.192815Z"
    },
    "papermill": {
     "duration": 0.069726,
     "end_time": "2021-03-06T12:07:27.192974",
     "exception": false,
     "start_time": "2021-03-06T12:07:27.123248",
     "status": "completed"
    },
    "tags": []
   },
   "outputs": [],
   "source": [
    "#hide\n",
    "# g['continent'] = g['continent'].map(mapping['map.continent'])"
   ]
  },
  {
   "cell_type": "code",
   "execution_count": 32,
   "id": "freelance-scout",
   "metadata": {
    "execution": {
     "iopub.execute_input": "2021-03-06T12:07:27.323814Z",
     "iopub.status.busy": "2021-03-06T12:07:27.323158Z",
     "iopub.status.idle": "2021-03-06T12:07:27.325501Z",
     "shell.execute_reply": "2021-03-06T12:07:27.324990Z"
    },
    "papermill": {
     "duration": 0.096431,
     "end_time": "2021-03-06T12:07:27.325626",
     "exception": false,
     "start_time": "2021-03-06T12:07:27.229195",
     "status": "completed"
    },
    "tags": []
   },
   "outputs": [],
   "source": [
    "#hide\n",
    "# g.head()"
   ]
  },
  {
   "cell_type": "code",
   "execution_count": 33,
   "id": "limited-engine",
   "metadata": {
    "execution": {
     "iopub.execute_input": "2021-03-06T12:07:27.406366Z",
     "iopub.status.busy": "2021-03-06T12:07:27.405754Z",
     "iopub.status.idle": "2021-03-06T12:07:27.408065Z",
     "shell.execute_reply": "2021-03-06T12:07:27.407463Z"
    },
    "papermill": {
     "duration": 0.044207,
     "end_time": "2021-03-06T12:07:27.408267",
     "exception": false,
     "start_time": "2021-03-06T12:07:27.364060",
     "status": "completed"
    },
    "tags": []
   },
   "outputs": [],
   "source": [
    "# hide\n",
    "# g['date'] = g['date'].astype('datetime64[ns]')"
   ]
  },
  {
   "cell_type": "code",
   "execution_count": 34,
   "id": "sophisticated-supervisor",
   "metadata": {
    "execution": {
     "iopub.execute_input": "2021-03-06T12:07:27.487654Z",
     "iopub.status.busy": "2021-03-06T12:07:27.487003Z",
     "iopub.status.idle": "2021-03-06T12:07:27.489107Z",
     "shell.execute_reply": "2021-03-06T12:07:27.489567Z"
    },
    "papermill": {
     "duration": 0.043897,
     "end_time": "2021-03-06T12:07:27.489711",
     "exception": false,
     "start_time": "2021-03-06T12:07:27.445814",
     "status": "completed"
    },
    "tags": []
   },
   "outputs": [],
   "source": [
    "#hide\n",
    "# g['date'] = g.date.dt.dayofyear"
   ]
  },
  {
   "cell_type": "code",
   "execution_count": 35,
   "id": "inside-dubai",
   "metadata": {
    "execution": {
     "iopub.execute_input": "2021-03-06T12:07:27.570114Z",
     "iopub.status.busy": "2021-03-06T12:07:27.569489Z",
     "iopub.status.idle": "2021-03-06T12:07:27.571924Z",
     "shell.execute_reply": "2021-03-06T12:07:27.571394Z"
    },
    "papermill": {
     "duration": 0.045421,
     "end_time": "2021-03-06T12:07:27.572047",
     "exception": false,
     "start_time": "2021-03-06T12:07:27.526626",
     "status": "completed"
    },
    "tags": []
   },
   "outputs": [],
   "source": [
    "#hide\n",
    "# g = g.rename(columns= {'continent':'group','country':'name','cases':'value'})"
   ]
  },
  {
   "cell_type": "code",
   "execution_count": 36,
   "id": "fleet-motorcycle",
   "metadata": {
    "execution": {
     "iopub.execute_input": "2021-03-06T12:07:27.657233Z",
     "iopub.status.busy": "2021-03-06T12:07:27.656628Z",
     "iopub.status.idle": "2021-03-06T12:07:27.659502Z",
     "shell.execute_reply": "2021-03-06T12:07:27.658959Z"
    },
    "papermill": {
     "duration": 0.045149,
     "end_time": "2021-03-06T12:07:27.659627",
     "exception": false,
     "start_time": "2021-03-06T12:07:27.614478",
     "status": "completed"
    },
    "tags": []
   },
   "outputs": [],
   "source": [
    "#hide\n",
    "# cols = ['name','group','day','value']"
   ]
  },
  {
   "cell_type": "code",
   "execution_count": 37,
   "id": "continued-sleeping",
   "metadata": {
    "execution": {
     "iopub.execute_input": "2021-03-06T12:07:27.740743Z",
     "iopub.status.busy": "2021-03-06T12:07:27.740130Z",
     "iopub.status.idle": "2021-03-06T12:07:27.741972Z",
     "shell.execute_reply": "2021-03-06T12:07:27.742545Z"
    },
    "papermill": {
     "duration": 0.045093,
     "end_time": "2021-03-06T12:07:27.742685",
     "exception": false,
     "start_time": "2021-03-06T12:07:27.697592",
     "status": "completed"
    },
    "tags": []
   },
   "outputs": [],
   "source": [
    "#hide\n",
    "# g.rename(columns= {'date':'day'},inplace = True)"
   ]
  },
  {
   "cell_type": "code",
   "execution_count": 38,
   "id": "major-fight",
   "metadata": {
    "execution": {
     "iopub.execute_input": "2021-03-06T12:07:27.819814Z",
     "iopub.status.busy": "2021-03-06T12:07:27.819136Z",
     "iopub.status.idle": "2021-03-06T12:07:27.820833Z",
     "shell.execute_reply": "2021-03-06T12:07:27.821316Z"
    },
    "papermill": {
     "duration": 0.042589,
     "end_time": "2021-03-06T12:07:27.821461",
     "exception": false,
     "start_time": "2021-03-06T12:07:27.778872",
     "status": "completed"
    },
    "tags": []
   },
   "outputs": [],
   "source": [
    "#hide\n",
    "# g = g[cols]"
   ]
  },
  {
   "cell_type": "code",
   "execution_count": 39,
   "id": "structured-mobile",
   "metadata": {
    "execution": {
     "iopub.execute_input": "2021-03-06T12:07:27.898127Z",
     "iopub.status.busy": "2021-03-06T12:07:27.897517Z",
     "iopub.status.idle": "2021-03-06T12:07:27.899907Z",
     "shell.execute_reply": "2021-03-06T12:07:27.900478Z"
    },
    "papermill": {
     "duration": 0.043317,
     "end_time": "2021-03-06T12:07:27.900620",
     "exception": false,
     "start_time": "2021-03-06T12:07:27.857303",
     "status": "completed"
    },
    "tags": []
   },
   "outputs": [],
   "source": [
    "# #hide\n",
    "# g = g[g.group.notna()]"
   ]
  },
  {
   "cell_type": "code",
   "execution_count": 40,
   "id": "determined-closing",
   "metadata": {
    "execution": {
     "iopub.execute_input": "2021-03-06T12:07:27.977224Z",
     "iopub.status.busy": "2021-03-06T12:07:27.976096Z",
     "iopub.status.idle": "2021-03-06T12:07:27.977874Z",
     "shell.execute_reply": "2021-03-06T12:07:27.978348Z"
    },
    "papermill": {
     "duration": 0.042115,
     "end_time": "2021-03-06T12:07:27.978488",
     "exception": false,
     "start_time": "2021-03-06T12:07:27.936373",
     "status": "completed"
    },
    "tags": []
   },
   "outputs": [],
   "source": [
    "# #hide\n",
    "# colors = dict(zip(\n",
    "#     [\"Oceania\", \"Europe\", \"Asia\", \"South America\", \"Middle East\", \"North America\", \"Africa\"],\n",
    "#     [\"#adb0ff\", \"#ffb3ff\", \"#90d595\", \"#e48381\", \"#aafbff\", \"#f7bb5f\", \"#eafb50\"]\n",
    "# ))\n",
    "# group_lk = g.set_index('name')['group'].to_dict()"
   ]
  },
  {
   "cell_type": "code",
   "execution_count": null,
   "id": "gross-drinking",
   "metadata": {
    "papermill": {
     "duration": 0.041623,
     "end_time": "2021-03-06T12:07:28.056814",
     "exception": false,
     "start_time": "2021-03-06T12:07:28.015191",
     "status": "completed"
    },
    "tags": []
   },
   "outputs": [],
   "source": []
  },
  {
   "cell_type": "code",
   "execution_count": 41,
   "id": "subject-macintosh",
   "metadata": {
    "execution": {
     "iopub.execute_input": "2021-03-06T12:07:28.140118Z",
     "iopub.status.busy": "2021-03-06T12:07:28.139400Z",
     "iopub.status.idle": "2021-03-06T12:07:28.140898Z",
     "shell.execute_reply": "2021-03-06T12:07:28.141454Z"
    },
    "papermill": {
     "duration": 0.045015,
     "end_time": "2021-03-06T12:07:28.141596",
     "exception": false,
     "start_time": "2021-03-06T12:07:28.096581",
     "status": "completed"
    },
    "tags": []
   },
   "outputs": [],
   "source": [
    "# #hide\n",
    "# fig, ax = plt.subplots(figsize=(15, 8))\n",
    "\n",
    "# def draw_barchart(current_day):\n",
    "#     dff = g[g['day'].eq(current_day)].sort_values(by='value', ascending=True).tail(10)\n",
    "#     ax.clear()\n",
    "#     ax.barh(dff['name'], dff['value'], color=[colors[group_lk[x]] for x in dff['name']])\n",
    "#     dx = dff['value'].max() / 200\n",
    "    \n",
    "#     for i, (value, name) in enumerate(zip(dff['value'], dff['name'])):\n",
    "#         ax.text(value-dx, i,     name,           size=14, weight=600, ha='right', va='bottom')\n",
    "#         ax.text(value-dx, i-.25, group_lk[name], size=10, color='#444444', ha='right', va='baseline')\n",
    "#         ax.text(value+dx, i,     f'{value:,.0f}',  size=14, ha='left',  va='center')\n",
    "#     ax.text(1, 0.4, current_day, transform=ax.transAxes, color='#777777', size=46, ha='right', weight=800)\n",
    "#     ax.text(0, 1.06, 'Population (thousands)', transform=ax.transAxes, size=12, color='#777777')\n",
    "#     ax.xaxis.set_major_formatter(ticker.StrMethodFormatter('{x:,.0f}'))\n",
    "#     ax.xaxis.set_ticks_position('top')\n",
    "#     ax.tick_params(axis='x', colors='#777777', labelsize=12)\n",
    "#     ax.set_yticks([])\n",
    "#     ax.margins(0, 0.01)\n",
    "#     ax.grid(which='major', axis='x', linestyle='-')\n",
    "#     ax.set_axisbelow(True)\n",
    "    \n",
    "#     ax.text(0, 1.15, 'Coronavirus',\n",
    "#             transform=ax.transAxes, size=24, weight=600, ha='left', va='top')\n",
    "# #     ax.text(1, 0, 'by @pratapvardhan; credit @jburnmurdoch', transform=ax.transAxes, color='#777777', ha='right',\n",
    "# #             bbox=dict(facecolor='white', alpha=0.8, edgecolor='white'))\n",
    "#     plt.box(False)"
   ]
  },
  {
   "cell_type": "code",
   "execution_count": 42,
   "id": "sexual-wages",
   "metadata": {
    "execution": {
     "iopub.execute_input": "2021-03-06T12:07:28.217378Z",
     "iopub.status.busy": "2021-03-06T12:07:28.216761Z",
     "iopub.status.idle": "2021-03-06T12:07:28.219058Z",
     "shell.execute_reply": "2021-03-06T12:07:28.218545Z"
    },
    "papermill": {
     "duration": 0.041893,
     "end_time": "2021-03-06T12:07:28.219184",
     "exception": false,
     "start_time": "2021-03-06T12:07:28.177291",
     "status": "completed"
    },
    "tags": []
   },
   "outputs": [],
   "source": [
    "# #hide_input\n",
    "# fig, ax = plt.subplots(figsize=(15, 8))\n",
    "# animator = animation.FuncAnimation(fig, draw_barchart, frames=range(g.day.values.min(), g.day.values.max()))\n",
    "# HTML(animator.to_jshtml())\n",
    "# # or use animator.to_html5_video() or animator.save() "
   ]
  },
  {
   "cell_type": "code",
   "execution_count": null,
   "id": "australian-container",
   "metadata": {
    "papermill": {
     "duration": 0.035589,
     "end_time": "2021-03-06T12:07:28.290848",
     "exception": false,
     "start_time": "2021-03-06T12:07:28.255259",
     "status": "completed"
    },
    "tags": []
   },
   "outputs": [],
   "source": []
  },
  {
   "cell_type": "code",
   "execution_count": null,
   "id": "mediterranean-pontiac",
   "metadata": {
    "papermill": {
     "duration": 0.035577,
     "end_time": "2021-03-06T12:07:28.362009",
     "exception": false,
     "start_time": "2021-03-06T12:07:28.326432",
     "status": "completed"
    },
    "tags": []
   },
   "outputs": [],
   "source": []
  },
  {
   "cell_type": "code",
   "execution_count": null,
   "id": "aging-legislature",
   "metadata": {
    "papermill": {
     "duration": 0.035628,
     "end_time": "2021-03-06T12:07:28.433480",
     "exception": false,
     "start_time": "2021-03-06T12:07:28.397852",
     "status": "completed"
    },
    "tags": []
   },
   "outputs": [],
   "source": []
  }
 ],
 "metadata": {
  "kernelspec": {
   "display_name": "Python 3",
   "language": "python",
   "name": "python3"
  },
  "language_info": {
   "codemirror_mode": {
    "name": "ipython",
    "version": 3
   },
   "file_extension": ".py",
   "mimetype": "text/x-python",
   "name": "python",
   "nbconvert_exporter": "python",
   "pygments_lexer": "ipython3",
   "version": "3.6.13"
  },
  "papermill": {
   "duration": 8.113078,
   "end_time": "2021-03-06T12:07:28.777139",
   "environment_variables": {},
   "exception": null,
   "input_path": "2020-03-21-covid19exp.ipynb",
   "output_path": "2020-03-21-covid19exp.ipynb",
   "parameters": {},
   "start_time": "2021-03-06T12:07:20.664061",
   "version": "2.0.0"
  }
 },
 "nbformat": 4,
 "nbformat_minor": 5
}