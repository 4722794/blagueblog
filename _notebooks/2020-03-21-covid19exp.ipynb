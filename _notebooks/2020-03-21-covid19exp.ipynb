{
 "cells": [
  {
   "cell_type": "markdown",
   "id": "muslim-click",
   "metadata": {
    "papermill": {
     "duration": 0.057539,
     "end_time": "2022-10-14T01:05:49.121887",
     "exception": false,
     "start_time": "2022-10-14T01:05:49.064348",
     "status": "completed"
    },
    "tags": []
   },
   "source": [
    "# COVID-19 Case Race\n",
    "> A race chart to see rising cases around the world\n",
    "\n",
    "- author: Hargun Oberoi\n",
    "- image: images/covid-overview.png\n",
    "- hide: false\n",
    "- badges: false"
   ]
  },
  {
   "cell_type": "code",
   "execution_count": 1,
   "id": "proof-material",
   "metadata": {
    "execution": {
     "iopub.execute_input": "2022-10-14T01:05:49.218866Z",
     "iopub.status.busy": "2022-10-14T01:05:49.217900Z",
     "iopub.status.idle": "2022-10-14T01:05:49.659111Z",
     "shell.execute_reply": "2022-10-14T01:05:49.658362Z"
    },
    "papermill": {
     "duration": 0.493993,
     "end_time": "2022-10-14T01:05:49.659265",
     "exception": false,
     "start_time": "2022-10-14T01:05:49.165272",
     "status": "completed"
    },
    "tags": []
   },
   "outputs": [],
   "source": [
    "#hide\n",
    "import numpy as np\n",
    "import pandas as pd\n",
    "from jinja2 import Template\n",
    "from IPython.display import HTML"
   ]
  },
  {
   "cell_type": "code",
   "execution_count": 2,
   "id": "developed-terminology",
   "metadata": {
    "execution": {
     "iopub.execute_input": "2022-10-14T01:05:49.749690Z",
     "iopub.status.busy": "2022-10-14T01:05:49.748887Z",
     "iopub.status.idle": "2022-10-14T01:05:49.751738Z",
     "shell.execute_reply": "2022-10-14T01:05:49.752346Z"
    },
    "papermill": {
     "duration": 0.051597,
     "end_time": "2022-10-14T01:05:49.752538",
     "exception": false,
     "start_time": "2022-10-14T01:05:49.700941",
     "status": "completed"
    },
    "tags": []
   },
   "outputs": [],
   "source": [
    "#hide\n",
    "\n",
    "# FETCH\n",
    "base_url = 'https://raw.githubusercontent.com/pratapvardhan/notebooks/master/covid19/'\n",
    "paths = {\n",
    "    'mapping': base_url + 'mapping_countries.csv',\n",
    "    'overview': base_url + 'overview.tpl'\n",
    "}"
   ]
  },
  {
   "cell_type": "code",
   "execution_count": 3,
   "id": "dynamic-saver",
   "metadata": {
    "execution": {
     "iopub.execute_input": "2022-10-14T01:05:49.848782Z",
     "iopub.status.busy": "2022-10-14T01:05:49.847968Z",
     "iopub.status.idle": "2022-10-14T01:05:49.851917Z",
     "shell.execute_reply": "2022-10-14T01:05:49.852674Z"
    },
    "papermill": {
     "duration": 0.057606,
     "end_time": "2022-10-14T01:05:49.852844",
     "exception": false,
     "start_time": "2022-10-14T01:05:49.795238",
     "status": "completed"
    },
    "tags": []
   },
   "outputs": [
    {
     "data": {
      "text/plain": [
       "'https://raw.githubusercontent.com/pratapvardhan/notebooks/master/covid19/mapping_countries.csv'"
      ]
     },
     "execution_count": 3,
     "metadata": {},
     "output_type": "execute_result"
    }
   ],
   "source": [
    "#hide\n",
    "paths['mapping']"
   ]
  },
  {
   "cell_type": "code",
   "execution_count": 4,
   "id": "urban-software",
   "metadata": {
    "execution": {
     "iopub.execute_input": "2022-10-14T01:05:49.943811Z",
     "iopub.status.busy": "2022-10-14T01:05:49.943028Z",
     "iopub.status.idle": "2022-10-14T01:05:49.946516Z",
     "shell.execute_reply": "2022-10-14T01:05:49.945813Z"
    },
    "papermill": {
     "duration": 0.050182,
     "end_time": "2022-10-14T01:05:49.946664",
     "exception": false,
     "start_time": "2022-10-14T01:05:49.896482",
     "status": "completed"
    },
    "tags": []
   },
   "outputs": [],
   "source": [
    "#hide\n",
    "def get_mappings(url):\n",
    "    df = pd.read_csv(url)\n",
    "    return {\n",
    "        'df': df,\n",
    "        'replace.country': dict(df.dropna(subset=['Name']).set_index('Country')['Name']),\n",
    "        'map.continent': dict(df.set_index('Name')['Continent'])\n",
    "    }"
   ]
  },
  {
   "cell_type": "code",
   "execution_count": 5,
   "id": "intimate-machinery",
   "metadata": {
    "execution": {
     "iopub.execute_input": "2022-10-14T01:05:50.032682Z",
     "iopub.status.busy": "2022-10-14T01:05:50.031876Z",
     "iopub.status.idle": "2022-10-14T01:05:50.083695Z",
     "shell.execute_reply": "2022-10-14T01:05:50.082977Z"
    },
    "papermill": {
     "duration": 0.097078,
     "end_time": "2022-10-14T01:05:50.083845",
     "exception": false,
     "start_time": "2022-10-14T01:05:49.986767",
     "status": "completed"
    },
    "tags": []
   },
   "outputs": [],
   "source": [
    "#hide\n",
    "mapping = get_mappings(paths['mapping'])"
   ]
  },
  {
   "cell_type": "code",
   "execution_count": 6,
   "id": "certified-tactics",
   "metadata": {
    "execution": {
     "iopub.execute_input": "2022-10-14T01:05:50.172767Z",
     "iopub.status.busy": "2022-10-14T01:05:50.171431Z",
     "iopub.status.idle": "2022-10-14T01:05:50.173517Z",
     "shell.execute_reply": "2022-10-14T01:05:50.172115Z"
    },
    "papermill": {
     "duration": 0.050033,
     "end_time": "2022-10-14T01:05:50.173663",
     "exception": false,
     "start_time": "2022-10-14T01:05:50.123630",
     "status": "completed"
    },
    "tags": []
   },
   "outputs": [],
   "source": [
    "#hide\n",
    "def get_template(path):\n",
    "    from urllib.parse import urlparse\n",
    "    if bool(urlparse(path).netloc):\n",
    "        from urllib.request import urlopen\n",
    "        return urlopen(path).read().decode('utf8')\n",
    "    return open(path).read()"
   ]
  },
  {
   "cell_type": "code",
   "execution_count": 7,
   "id": "realistic-blast",
   "metadata": {
    "execution": {
     "iopub.execute_input": "2022-10-14T01:05:50.260549Z",
     "iopub.status.busy": "2022-10-14T01:05:50.259743Z",
     "iopub.status.idle": "2022-10-14T01:05:50.262308Z",
     "shell.execute_reply": "2022-10-14T01:05:50.263023Z"
    },
    "papermill": {
     "duration": 0.049774,
     "end_time": "2022-10-14T01:05:50.263244",
     "exception": false,
     "start_time": "2022-10-14T01:05:50.213470",
     "status": "completed"
    },
    "tags": []
   },
   "outputs": [],
   "source": [
    "#hide\n",
    "def get_frame(name):\n",
    "    url = (\n",
    "        'https://raw.githubusercontent.com/CSSEGISandData/COVID-19/master/csse_covid_19_data/'\n",
    "        f'csse_covid_19_time_series/time_series_covid19_{name}_global.csv')\n",
    "    df = pd.read_csv(url)\n",
    "    # rename countries\n",
    "    df['Country/Region'] = df['Country/Region'].replace(mapping['replace.country'])\n",
    "    return df"
   ]
  },
  {
   "cell_type": "code",
   "execution_count": 8,
   "id": "affiliated-characterization",
   "metadata": {
    "execution": {
     "iopub.execute_input": "2022-10-14T01:05:50.355046Z",
     "iopub.status.busy": "2022-10-14T01:05:50.354160Z",
     "iopub.status.idle": "2022-10-14T01:05:50.356215Z",
     "shell.execute_reply": "2022-10-14T01:05:50.356946Z"
    },
    "papermill": {
     "duration": 0.049786,
     "end_time": "2022-10-14T01:05:50.357106",
     "exception": false,
     "start_time": "2022-10-14T01:05:50.307320",
     "status": "completed"
    },
    "tags": []
   },
   "outputs": [],
   "source": [
    "#hide\n",
    "def get_dates(df):\n",
    "    dt_cols = df.columns[~df.columns.isin(['Province/State', 'Country/Region', 'Lat', 'Long'])]\n",
    "    LAST_DATE_I = -1\n",
    "    # sometimes last column may be empty, then go backwards\n",
    "    for i in range(-1, -len(dt_cols), -1):\n",
    "        if not df[dt_cols[i]].fillna(0).eq(0).all():\n",
    "            LAST_DATE_I = i\n",
    "            break\n",
    "    return LAST_DATE_I, dt_cols"
   ]
  },
  {
   "cell_type": "code",
   "execution_count": 9,
   "id": "recent-optimization",
   "metadata": {
    "execution": {
     "iopub.execute_input": "2022-10-14T01:05:50.448147Z",
     "iopub.status.busy": "2022-10-14T01:05:50.447334Z",
     "iopub.status.idle": "2022-10-14T01:05:51.235319Z",
     "shell.execute_reply": "2022-10-14T01:05:51.233706Z"
    },
    "papermill": {
     "duration": 0.838704,
     "end_time": "2022-10-14T01:05:51.235491",
     "exception": false,
     "start_time": "2022-10-14T01:05:50.396787",
     "status": "completed"
    },
    "tags": []
   },
   "outputs": [],
   "source": [
    "#hide\n",
    "COL_REGION = 'Country/Region'\n",
    "# Confirmed, Recovered, Deaths\n",
    "df = get_frame('confirmed')\n",
    "# dft_: timeseries, dfc_: today country agg\n",
    "dft_cases = df\n",
    "dft_deaths = get_frame('deaths')\n",
    "dft_recovered = get_frame('recovered')\n",
    "LAST_DATE_I, dt_cols = get_dates(df)"
   ]
  },
  {
   "cell_type": "code",
   "execution_count": 10,
   "id": "absolute-copper",
   "metadata": {
    "execution": {
     "iopub.execute_input": "2022-10-14T01:05:51.326887Z",
     "iopub.status.busy": "2022-10-14T01:05:51.324903Z",
     "iopub.status.idle": "2022-10-14T01:05:51.327744Z",
     "shell.execute_reply": "2022-10-14T01:05:51.328339Z"
    },
    "papermill": {
     "duration": 0.052243,
     "end_time": "2022-10-14T01:05:51.328520",
     "exception": false,
     "start_time": "2022-10-14T01:05:51.276277",
     "status": "completed"
    },
    "tags": []
   },
   "outputs": [],
   "source": [
    "#hide\n",
    "LAST_DATE_I, dt_cols = get_dates(df)\n",
    "dt_today =dt_cols[LAST_DATE_I]\n",
    "# dt_5day = dt_cols[LAST_DATE_I - 5]\n",
    "dt_yday = dt_cols[LAST_DATE_I - 1]"
   ]
  },
  {
   "cell_type": "code",
   "execution_count": 11,
   "id": "restricted-sheriff",
   "metadata": {
    "execution": {
     "iopub.execute_input": "2022-10-14T01:05:51.431749Z",
     "iopub.status.busy": "2022-10-14T01:05:51.430946Z",
     "iopub.status.idle": "2022-10-14T01:05:51.435869Z",
     "shell.execute_reply": "2022-10-14T01:05:51.436542Z"
    },
    "papermill": {
     "duration": 0.060893,
     "end_time": "2022-10-14T01:05:51.436717",
     "exception": false,
     "start_time": "2022-10-14T01:05:51.375824",
     "status": "completed"
    },
    "tags": []
   },
   "outputs": [],
   "source": [
    "#hide\n",
    "dfc_cases = dft_cases.groupby(COL_REGION)[dt_today].sum()\n",
    "dfc_deaths = dft_deaths.groupby(COL_REGION)[dt_today].sum()\n",
    "# dfp_cases = dft_cases.groupby(COL_REGION)[dt_5day].sum()\n",
    "# dfp_deaths = dft_deaths.groupby(COL_REGION)[dt_5day].sum()\n",
    "dfp_cases = dft_cases.groupby(COL_REGION)[dt_yday].sum()\n",
    "dfp_deaths = dft_deaths.groupby(COL_REGION)[dt_yday].sum()"
   ]
  },
  {
   "cell_type": "code",
   "execution_count": 12,
   "id": "deluxe-hepatitis",
   "metadata": {
    "execution": {
     "iopub.execute_input": "2022-10-14T01:05:51.531527Z",
     "iopub.status.busy": "2022-10-14T01:05:51.530630Z",
     "iopub.status.idle": "2022-10-14T01:05:51.537427Z",
     "shell.execute_reply": "2022-10-14T01:05:51.536790Z"
    },
    "papermill": {
     "duration": 0.054534,
     "end_time": "2022-10-14T01:05:51.537634",
     "exception": false,
     "start_time": "2022-10-14T01:05:51.483100",
     "status": "completed"
    },
    "tags": []
   },
   "outputs": [],
   "source": [
    "#hide\n",
    "df_table = (pd.DataFrame(dict(Cases = dfc_cases, Deaths = dfc_deaths, PCases = dfp_cases, PDeaths = dfp_deaths))\n",
    "            .sort_values(by = ['Cases','Deaths'], ascending = [False, False])\n",
    "            .reset_index())"
   ]
  },
  {
   "cell_type": "code",
   "execution_count": 13,
   "id": "educational-chancellor",
   "metadata": {
    "execution": {
     "iopub.execute_input": "2022-10-14T01:05:51.637554Z",
     "iopub.status.busy": "2022-10-14T01:05:51.636636Z",
     "iopub.status.idle": "2022-10-14T01:05:51.652551Z",
     "shell.execute_reply": "2022-10-14T01:05:51.653182Z"
    },
    "papermill": {
     "duration": 0.074729,
     "end_time": "2022-10-14T01:05:51.653349",
     "exception": false,
     "start_time": "2022-10-14T01:05:51.578620",
     "status": "completed"
    },
    "tags": []
   },
   "outputs": [
    {
     "data": {
      "text/html": [
       "<div>\n",
       "<style scoped>\n",
       "    .dataframe tbody tr th:only-of-type {\n",
       "        vertical-align: middle;\n",
       "    }\n",
       "\n",
       "    .dataframe tbody tr th {\n",
       "        vertical-align: top;\n",
       "    }\n",
       "\n",
       "    .dataframe thead th {\n",
       "        text-align: right;\n",
       "    }\n",
       "</style>\n",
       "<table border=\"1\" class=\"dataframe\">\n",
       "  <thead>\n",
       "    <tr style=\"text-align: right;\">\n",
       "      <th></th>\n",
       "      <th>Country/Region</th>\n",
       "      <th>Cases</th>\n",
       "      <th>Deaths</th>\n",
       "      <th>PCases</th>\n",
       "      <th>PDeaths</th>\n",
       "      <th>Cases (+)</th>\n",
       "      <th>Deaths (+)</th>\n",
       "      <th>Fatality Rate</th>\n",
       "      <th>Continent</th>\n",
       "    </tr>\n",
       "  </thead>\n",
       "  <tbody>\n",
       "    <tr>\n",
       "      <th>0</th>\n",
       "      <td>US</td>\n",
       "      <td>96836953</td>\n",
       "      <td>1064058</td>\n",
       "      <td>96772267</td>\n",
       "      <td>1063310</td>\n",
       "      <td>64686</td>\n",
       "      <td>748</td>\n",
       "      <td>1.10</td>\n",
       "      <td>North America</td>\n",
       "    </tr>\n",
       "    <tr>\n",
       "      <th>1</th>\n",
       "      <td>India</td>\n",
       "      <td>44621319</td>\n",
       "      <td>528847</td>\n",
       "      <td>44616235</td>\n",
       "      <td>528835</td>\n",
       "      <td>5084</td>\n",
       "      <td>12</td>\n",
       "      <td>1.19</td>\n",
       "      <td>Asia</td>\n",
       "    </tr>\n",
       "    <tr>\n",
       "      <th>2</th>\n",
       "      <td>France</td>\n",
       "      <td>36255606</td>\n",
       "      <td>156715</td>\n",
       "      <td>36187658</td>\n",
       "      <td>156660</td>\n",
       "      <td>67948</td>\n",
       "      <td>55</td>\n",
       "      <td>0.43</td>\n",
       "      <td>Europe</td>\n",
       "    </tr>\n",
       "    <tr>\n",
       "      <th>3</th>\n",
       "      <td>Brazil</td>\n",
       "      <td>34731539</td>\n",
       "      <td>686963</td>\n",
       "      <td>34731539</td>\n",
       "      <td>686963</td>\n",
       "      <td>0</td>\n",
       "      <td>0</td>\n",
       "      <td>1.98</td>\n",
       "      <td>South America</td>\n",
       "    </tr>\n",
       "    <tr>\n",
       "      <th>4</th>\n",
       "      <td>Germany</td>\n",
       "      <td>34403129</td>\n",
       "      <td>151095</td>\n",
       "      <td>34257916</td>\n",
       "      <td>150919</td>\n",
       "      <td>145213</td>\n",
       "      <td>176</td>\n",
       "      <td>0.44</td>\n",
       "      <td>Europe</td>\n",
       "    </tr>\n",
       "  </tbody>\n",
       "</table>\n",
       "</div>"
      ],
      "text/plain": [
       "  Country/Region     Cases   Deaths    PCases  PDeaths  Cases (+)  Deaths (+)  \\\n",
       "0             US  96836953  1064058  96772267  1063310      64686         748   \n",
       "1          India  44621319   528847  44616235   528835       5084          12   \n",
       "2         France  36255606   156715  36187658   156660      67948          55   \n",
       "3         Brazil  34731539   686963  34731539   686963          0           0   \n",
       "4        Germany  34403129   151095  34257916   150919     145213         176   \n",
       "\n",
       "   Fatality Rate      Continent  \n",
       "0           1.10  North America  \n",
       "1           1.19           Asia  \n",
       "2           0.43         Europe  \n",
       "3           1.98  South America  \n",
       "4           0.44         Europe  "
      ]
     },
     "execution_count": 13,
     "metadata": {},
     "output_type": "execute_result"
    }
   ],
   "source": [
    "#hide\n",
    "for c in 'Cases, Deaths'.split(', '):\n",
    "    df_table[f'{c} (+)'] = (df_table[c] - df_table[f'P{c}']).clip(0)\n",
    "    #Clip ça veut dire, les chiffres negatif sont interdit\n",
    "df_table['Fatality Rate'] = (100* df_table['Deaths']/ df_table['Cases']).round(2)\n",
    "df_table['Continent'] = df_table['Country/Region'].map(mapping['map.continent'])\n",
    "df_table.head(5)"
   ]
  },
  {
   "cell_type": "code",
   "execution_count": 14,
   "id": "aboriginal-bulgaria",
   "metadata": {
    "execution": {
     "iopub.execute_input": "2022-10-14T01:05:51.742896Z",
     "iopub.status.busy": "2022-10-14T01:05:51.742115Z",
     "iopub.status.idle": "2022-10-14T01:05:51.745204Z",
     "shell.execute_reply": "2022-10-14T01:05:51.744580Z"
    },
    "papermill": {
     "duration": 0.051573,
     "end_time": "2022-10-14T01:05:51.745350",
     "exception": false,
     "start_time": "2022-10-14T01:05:51.693777",
     "status": "completed"
    },
    "tags": []
   },
   "outputs": [],
   "source": [
    "#hide\n",
    "#delete problematic countries from table\n",
    "df_table = df_table[~df_table['Country/Region'].isin(['Cape Verde', 'Cruise Ship', 'Kosovo'])]"
   ]
  },
  {
   "cell_type": "code",
   "execution_count": 15,
   "id": "fantastic-effect",
   "metadata": {
    "execution": {
     "iopub.execute_input": "2022-10-14T01:05:51.843170Z",
     "iopub.status.busy": "2022-10-14T01:05:51.842317Z",
     "iopub.status.idle": "2022-10-14T01:05:51.873152Z",
     "shell.execute_reply": "2022-10-14T01:05:51.872444Z"
    },
    "papermill": {
     "duration": 0.082773,
     "end_time": "2022-10-14T01:05:51.873304",
     "exception": false,
     "start_time": "2022-10-14T01:05:51.790531",
     "status": "completed"
    },
    "tags": []
   },
   "outputs": [
    {
     "data": {
      "text/html": [
       "<div>\n",
       "<style scoped>\n",
       "    .dataframe tbody tr th:only-of-type {\n",
       "        vertical-align: middle;\n",
       "    }\n",
       "\n",
       "    .dataframe tbody tr th {\n",
       "        vertical-align: top;\n",
       "    }\n",
       "\n",
       "    .dataframe thead th {\n",
       "        text-align: right;\n",
       "    }\n",
       "</style>\n",
       "<table border=\"1\" class=\"dataframe\">\n",
       "  <thead>\n",
       "    <tr style=\"text-align: right;\">\n",
       "      <th></th>\n",
       "      <th>Country/Region</th>\n",
       "      <th>Cases</th>\n",
       "      <th>Deaths</th>\n",
       "      <th>PCases</th>\n",
       "      <th>PDeaths</th>\n",
       "      <th>Cases (+)</th>\n",
       "      <th>Deaths (+)</th>\n",
       "      <th>Fatality Rate</th>\n",
       "      <th>Continent</th>\n",
       "    </tr>\n",
       "  </thead>\n",
       "  <tbody>\n",
       "    <tr>\n",
       "      <th>0</th>\n",
       "      <td>US</td>\n",
       "      <td>96836953</td>\n",
       "      <td>1064058</td>\n",
       "      <td>96772267</td>\n",
       "      <td>1063310</td>\n",
       "      <td>64686</td>\n",
       "      <td>748</td>\n",
       "      <td>1.1</td>\n",
       "      <td>North America</td>\n",
       "    </tr>\n",
       "    <tr>\n",
       "      <th>1</th>\n",
       "      <td>India</td>\n",
       "      <td>44621319</td>\n",
       "      <td>528847</td>\n",
       "      <td>44616235</td>\n",
       "      <td>528835</td>\n",
       "      <td>5084</td>\n",
       "      <td>12</td>\n",
       "      <td>1.2</td>\n",
       "      <td>Asia</td>\n",
       "    </tr>\n",
       "    <tr>\n",
       "      <th>2</th>\n",
       "      <td>France</td>\n",
       "      <td>36255606</td>\n",
       "      <td>156715</td>\n",
       "      <td>36187658</td>\n",
       "      <td>156660</td>\n",
       "      <td>67948</td>\n",
       "      <td>55</td>\n",
       "      <td>0.4</td>\n",
       "      <td>Europe</td>\n",
       "    </tr>\n",
       "    <tr>\n",
       "      <th>3</th>\n",
       "      <td>Brazil</td>\n",
       "      <td>34731539</td>\n",
       "      <td>686963</td>\n",
       "      <td>34731539</td>\n",
       "      <td>686963</td>\n",
       "      <td>0</td>\n",
       "      <td>0</td>\n",
       "      <td>2.0</td>\n",
       "      <td>South America</td>\n",
       "    </tr>\n",
       "    <tr>\n",
       "      <th>4</th>\n",
       "      <td>Germany</td>\n",
       "      <td>34403129</td>\n",
       "      <td>151095</td>\n",
       "      <td>34257916</td>\n",
       "      <td>150919</td>\n",
       "      <td>145213</td>\n",
       "      <td>176</td>\n",
       "      <td>0.4</td>\n",
       "      <td>Europe</td>\n",
       "    </tr>\n",
       "  </tbody>\n",
       "</table>\n",
       "</div>"
      ],
      "text/plain": [
       "  Country/Region     Cases   Deaths    PCases  PDeaths  Cases (+)  Deaths (+)  \\\n",
       "0             US  96836953  1064058  96772267  1063310      64686         748   \n",
       "1          India  44621319   528847  44616235   528835       5084          12   \n",
       "2         France  36255606   156715  36187658   156660      67948          55   \n",
       "3         Brazil  34731539   686963  34731539   686963          0           0   \n",
       "4        Germany  34403129   151095  34257916   150919     145213         176   \n",
       "\n",
       "   Fatality Rate      Continent  \n",
       "0            1.1  North America  \n",
       "1            1.2           Asia  \n",
       "2            0.4         Europe  \n",
       "3            2.0  South America  \n",
       "4            0.4         Europe  "
      ]
     },
     "execution_count": 15,
     "metadata": {},
     "output_type": "execute_result"
    }
   ],
   "source": [
    "#hide\n",
    "df_table = (pd.DataFrame(dict(Cases=dfc_cases, Deaths=dfc_deaths, PCases=dfp_cases, PDeaths=dfp_deaths))\n",
    "             .sort_values(by=['Cases', 'Deaths'], ascending=[False, False])\n",
    "             .reset_index())\n",
    "df_table.rename(columns={'index': 'Country/Region'}, inplace=True)\n",
    "for c in 'Cases, Deaths'.split(', '):\n",
    "    df_table[f'{c} (+)'] = (df_table[c] - df_table[f'P{c}']).clip(0)  # DATA BUG\n",
    "df_table['Fatality Rate'] = (100 * df_table['Deaths'] / df_table['Cases']).round(1)\n",
    "df_table['Continent'] = df_table['Country/Region'].map(mapping['map.continent'])\n",
    "df_table.head(5)"
   ]
  },
  {
   "cell_type": "code",
   "execution_count": 16,
   "id": "fewer-occasion",
   "metadata": {
    "execution": {
     "iopub.execute_input": "2022-10-14T01:05:51.966258Z",
     "iopub.status.busy": "2022-10-14T01:05:51.965384Z",
     "iopub.status.idle": "2022-10-14T01:05:51.969288Z",
     "shell.execute_reply": "2022-10-14T01:05:51.969901Z"
    },
    "papermill": {
     "duration": 0.055987,
     "end_time": "2022-10-14T01:05:51.970199",
     "exception": false,
     "start_time": "2022-10-14T01:05:51.914212",
     "status": "completed"
    },
    "tags": []
   },
   "outputs": [],
   "source": [
    "#hide\n",
    "#delete problematic countries from table\n",
    "df_table = df_table[~df_table['Country/Region'].isin(['Cape Verde', 'Cruise Ship', 'Kosovo'])]"
   ]
  },
  {
   "cell_type": "code",
   "execution_count": 17,
   "id": "related-center",
   "metadata": {
    "execution": {
     "iopub.execute_input": "2022-10-14T01:05:52.067608Z",
     "iopub.status.busy": "2022-10-14T01:05:52.066447Z",
     "iopub.status.idle": "2022-10-14T01:05:52.082254Z",
     "shell.execute_reply": "2022-10-14T01:05:52.082933Z"
    },
    "papermill": {
     "duration": 0.072001,
     "end_time": "2022-10-14T01:05:52.083113",
     "exception": false,
     "start_time": "2022-10-14T01:05:52.011112",
     "status": "completed"
    },
    "tags": []
   },
   "outputs": [],
   "source": [
    "#hide\n",
    "metrics = [df_table.columns[index] for index in [1,2,5,6]]\n",
    "# s_china = df_table[df_table['Country/Region'].eq('China')][metrics].sum().add_prefix('China ')\n",
    "s_us = df_table[df_table['Country/Region'].eq('US')][metrics].sum().add_prefix('US ')\n",
    "s_eu = df_table[df_table['Continent'].eq('Europe')][metrics].sum().add_prefix('EU ')\n",
    "s_ind = df_table[df_table['Country/Region'].eq('India')][metrics].sum().add_prefix('India ')\n",
    "summary = {'updated': pd.to_datetime(dt_today), 'since': pd.to_datetime(dt_yday)}\n",
    "summary = {'updated': pd.to_datetime(dt_today), 'since': pd.to_datetime(dt_yday)}\n",
    "summary = {**summary, **df_table[metrics].sum(), **s_ind, **s_us, **s_eu}"
   ]
  },
  {
   "cell_type": "code",
   "execution_count": 18,
   "id": "engaging-syndrome",
   "metadata": {
    "execution": {
     "iopub.execute_input": "2022-10-14T01:05:52.182711Z",
     "iopub.status.busy": "2022-10-14T01:05:52.177470Z",
     "iopub.status.idle": "2022-10-14T01:05:52.203068Z",
     "shell.execute_reply": "2022-10-14T01:05:52.202263Z"
    },
    "papermill": {
     "duration": 0.076911,
     "end_time": "2022-10-14T01:05:52.203221",
     "exception": false,
     "start_time": "2022-10-14T01:05:52.126310",
     "status": "completed"
    },
    "tags": []
   },
   "outputs": [],
   "source": [
    "#hide\n",
    "dft_ct_new_cases = dft_cases.groupby(COL_REGION)[dt_cols].sum().diff(axis=1).fillna(0).astype(int)"
   ]
  },
  {
   "cell_type": "code",
   "execution_count": 19,
   "id": "neutral-assignment",
   "metadata": {
    "execution": {
     "iopub.execute_input": "2022-10-14T01:05:52.298044Z",
     "iopub.status.busy": "2022-10-14T01:05:52.297171Z",
     "iopub.status.idle": "2022-10-14T01:05:52.301087Z",
     "shell.execute_reply": "2022-10-14T01:05:52.300394Z"
    },
    "papermill": {
     "duration": 0.056293,
     "end_time": "2022-10-14T01:05:52.301226",
     "exception": false,
     "start_time": "2022-10-14T01:05:52.244933",
     "status": "completed"
    },
    "tags": []
   },
   "outputs": [],
   "source": [
    "#hide\n",
    "everydaycases = dft_ct_new_cases.cumsum(axis=1)"
   ]
  },
  {
   "cell_type": "code",
   "execution_count": 20,
   "id": "parliamentary-calgary",
   "metadata": {
    "execution": {
     "iopub.execute_input": "2022-10-14T01:05:52.387992Z",
     "iopub.status.busy": "2022-10-14T01:05:52.387145Z",
     "iopub.status.idle": "2022-10-14T01:05:53.104850Z",
     "shell.execute_reply": "2022-10-14T01:05:53.104136Z"
    },
    "papermill": {
     "duration": 0.763475,
     "end_time": "2022-10-14T01:05:53.104999",
     "exception": false,
     "start_time": "2022-10-14T01:05:52.341524",
     "status": "completed"
    },
    "tags": []
   },
   "outputs": [],
   "source": [
    "#hide\n",
    "import pandas as pd\n",
    "import matplotlib.pyplot as plt\n",
    "import matplotlib.ticker as ticker\n",
    "import matplotlib.animation as animation\n",
    "from IPython.display import HTML"
   ]
  },
  {
   "cell_type": "code",
   "execution_count": 21,
   "id": "lasting-extraction",
   "metadata": {
    "execution": {
     "iopub.execute_input": "2022-10-14T01:05:53.201256Z",
     "iopub.status.busy": "2022-10-14T01:05:53.200470Z",
     "iopub.status.idle": "2022-10-14T01:05:53.209868Z",
     "shell.execute_reply": "2022-10-14T01:05:53.209200Z"
    },
    "papermill": {
     "duration": 0.064408,
     "end_time": "2022-10-14T01:05:53.210050",
     "exception": false,
     "start_time": "2022-10-14T01:05:53.145642",
     "status": "completed"
    },
    "tags": []
   },
   "outputs": [],
   "source": [
    "#hide\n",
    "t = everydaycases.stack()"
   ]
  },
  {
   "cell_type": "code",
   "execution_count": 22,
   "id": "premier-sleeve",
   "metadata": {
    "execution": {
     "iopub.execute_input": "2022-10-14T01:05:53.303908Z",
     "iopub.status.busy": "2022-10-14T01:05:53.303079Z",
     "iopub.status.idle": "2022-10-14T01:05:53.320147Z",
     "shell.execute_reply": "2022-10-14T01:05:53.319278Z"
    },
    "papermill": {
     "duration": 0.06837,
     "end_time": "2022-10-14T01:05:53.320301",
     "exception": false,
     "start_time": "2022-10-14T01:05:53.251931",
     "status": "completed"
    },
    "tags": []
   },
   "outputs": [],
   "source": [
    "#hide\n",
    "g = t.reset_index(['Country/Region'])"
   ]
  },
  {
   "cell_type": "code",
   "execution_count": 23,
   "id": "distributed-pittsburgh",
   "metadata": {
    "execution": {
     "iopub.execute_input": "2022-10-14T01:05:53.412201Z",
     "iopub.status.busy": "2022-10-14T01:05:53.411427Z",
     "iopub.status.idle": "2022-10-14T01:05:53.416324Z",
     "shell.execute_reply": "2022-10-14T01:05:53.416944Z"
    },
    "papermill": {
     "duration": 0.054869,
     "end_time": "2022-10-14T01:05:53.417168",
     "exception": false,
     "start_time": "2022-10-14T01:05:53.362299",
     "status": "completed"
    },
    "tags": []
   },
   "outputs": [],
   "source": [
    "#hide\n",
    "g.index.name = 'date'"
   ]
  },
  {
   "cell_type": "code",
   "execution_count": 24,
   "id": "naked-donor",
   "metadata": {
    "execution": {
     "iopub.execute_input": "2022-10-14T01:05:53.504162Z",
     "iopub.status.busy": "2022-10-14T01:05:53.503325Z",
     "iopub.status.idle": "2022-10-14T01:05:53.506134Z",
     "shell.execute_reply": "2022-10-14T01:05:53.505317Z"
    },
    "papermill": {
     "duration": 0.047994,
     "end_time": "2022-10-14T01:05:53.506265",
     "exception": false,
     "start_time": "2022-10-14T01:05:53.458271",
     "status": "completed"
    },
    "tags": []
   },
   "outputs": [],
   "source": [
    "# #hide\n",
    "# g = g.reset_index(['date'])"
   ]
  },
  {
   "cell_type": "code",
   "execution_count": 25,
   "id": "incomplete-mustang",
   "metadata": {
    "execution": {
     "iopub.execute_input": "2022-10-14T01:05:53.593926Z",
     "iopub.status.busy": "2022-10-14T01:05:53.593114Z",
     "iopub.status.idle": "2022-10-14T01:05:53.596655Z",
     "shell.execute_reply": "2022-10-14T01:05:53.595969Z"
    },
    "papermill": {
     "duration": 0.049762,
     "end_time": "2022-10-14T01:05:53.597165",
     "exception": false,
     "start_time": "2022-10-14T01:05:53.547403",
     "status": "completed"
    },
    "tags": []
   },
   "outputs": [],
   "source": [
    "#hide\n",
    "# g.head()"
   ]
  },
  {
   "cell_type": "code",
   "execution_count": 26,
   "id": "specific-kruger",
   "metadata": {
    "execution": {
     "iopub.execute_input": "2022-10-14T01:05:53.686905Z",
     "iopub.status.busy": "2022-10-14T01:05:53.686054Z",
     "iopub.status.idle": "2022-10-14T01:05:53.690522Z",
     "shell.execute_reply": "2022-10-14T01:05:53.689637Z"
    },
    "papermill": {
     "duration": 0.048794,
     "end_time": "2022-10-14T01:05:53.690675",
     "exception": false,
     "start_time": "2022-10-14T01:05:53.641881",
     "status": "completed"
    },
    "tags": []
   },
   "outputs": [],
   "source": [
    "#hide\n",
    "# g.columns = ['date','country','cases']"
   ]
  },
  {
   "cell_type": "code",
   "execution_count": 27,
   "id": "tender-conversion",
   "metadata": {
    "execution": {
     "iopub.execute_input": "2022-10-14T01:05:53.779054Z",
     "iopub.status.busy": "2022-10-14T01:05:53.778101Z",
     "iopub.status.idle": "2022-10-14T01:05:53.780979Z",
     "shell.execute_reply": "2022-10-14T01:05:53.781729Z"
    },
    "papermill": {
     "duration": 0.048856,
     "end_time": "2022-10-14T01:05:53.781884",
     "exception": false,
     "start_time": "2022-10-14T01:05:53.733028",
     "status": "completed"
    },
    "tags": []
   },
   "outputs": [],
   "source": [
    "#hide\n",
    "# g['continent'] = g.country"
   ]
  },
  {
   "cell_type": "code",
   "execution_count": 28,
   "id": "substantial-wilderness",
   "metadata": {
    "execution": {
     "iopub.execute_input": "2022-10-14T01:05:53.875885Z",
     "iopub.status.busy": "2022-10-14T01:05:53.875040Z",
     "iopub.status.idle": "2022-10-14T01:05:53.878082Z",
     "shell.execute_reply": "2022-10-14T01:05:53.878716Z"
    },
    "papermill": {
     "duration": 0.053397,
     "end_time": "2022-10-14T01:05:53.878874",
     "exception": false,
     "start_time": "2022-10-14T01:05:53.825477",
     "status": "completed"
    },
    "tags": []
   },
   "outputs": [],
   "source": [
    "#hide\n",
    "# cols = list(g.columns.values)"
   ]
  },
  {
   "cell_type": "code",
   "execution_count": 29,
   "id": "solved-farming",
   "metadata": {
    "execution": {
     "iopub.execute_input": "2022-10-14T01:05:53.968834Z",
     "iopub.status.busy": "2022-10-14T01:05:53.968009Z",
     "iopub.status.idle": "2022-10-14T01:05:53.970167Z",
     "shell.execute_reply": "2022-10-14T01:05:53.970831Z"
    },
    "papermill": {
     "duration": 0.051276,
     "end_time": "2022-10-14T01:05:53.971001",
     "exception": false,
     "start_time": "2022-10-14T01:05:53.919725",
     "status": "completed"
    },
    "tags": []
   },
   "outputs": [],
   "source": [
    "#hide\n",
    "# cols.insert(0, cols.pop())"
   ]
  },
  {
   "cell_type": "code",
   "execution_count": 30,
   "id": "executed-adoption",
   "metadata": {
    "execution": {
     "iopub.execute_input": "2022-10-14T01:05:54.070401Z",
     "iopub.status.busy": "2022-10-14T01:05:54.069543Z",
     "iopub.status.idle": "2022-10-14T01:05:54.072212Z",
     "shell.execute_reply": "2022-10-14T01:05:54.072874Z"
    },
    "papermill": {
     "duration": 0.060972,
     "end_time": "2022-10-14T01:05:54.073037",
     "exception": false,
     "start_time": "2022-10-14T01:05:54.012065",
     "status": "completed"
    },
    "tags": []
   },
   "outputs": [],
   "source": [
    "#hide\n",
    "# g = g[cols]"
   ]
  },
  {
   "cell_type": "code",
   "execution_count": 31,
   "id": "subject-dublin",
   "metadata": {
    "execution": {
     "iopub.execute_input": "2022-10-14T01:05:54.161918Z",
     "iopub.status.busy": "2022-10-14T01:05:54.161086Z",
     "iopub.status.idle": "2022-10-14T01:05:54.164486Z",
     "shell.execute_reply": "2022-10-14T01:05:54.163808Z"
    },
    "papermill": {
     "duration": 0.049701,
     "end_time": "2022-10-14T01:05:54.164637",
     "exception": false,
     "start_time": "2022-10-14T01:05:54.114936",
     "status": "completed"
    },
    "tags": []
   },
   "outputs": [],
   "source": [
    "#hide\n",
    "# g['continent'] = g['continent'].map(mapping['map.continent'])"
   ]
  },
  {
   "cell_type": "code",
   "execution_count": 32,
   "id": "freelance-scout",
   "metadata": {
    "execution": {
     "iopub.execute_input": "2022-10-14T01:05:54.251141Z",
     "iopub.status.busy": "2022-10-14T01:05:54.250282Z",
     "iopub.status.idle": "2022-10-14T01:05:54.254938Z",
     "shell.execute_reply": "2022-10-14T01:05:54.253696Z"
    },
    "papermill": {
     "duration": 0.048601,
     "end_time": "2022-10-14T01:05:54.255093",
     "exception": false,
     "start_time": "2022-10-14T01:05:54.206492",
     "status": "completed"
    },
    "tags": []
   },
   "outputs": [],
   "source": [
    "#hide\n",
    "# g.head()"
   ]
  },
  {
   "cell_type": "code",
   "execution_count": 33,
   "id": "limited-engine",
   "metadata": {
    "execution": {
     "iopub.execute_input": "2022-10-14T01:05:54.344377Z",
     "iopub.status.busy": "2022-10-14T01:05:54.343582Z",
     "iopub.status.idle": "2022-10-14T01:05:54.348361Z",
     "shell.execute_reply": "2022-10-14T01:05:54.348983Z"
    },
    "papermill": {
     "duration": 0.052509,
     "end_time": "2022-10-14T01:05:54.349170",
     "exception": false,
     "start_time": "2022-10-14T01:05:54.296661",
     "status": "completed"
    },
    "tags": []
   },
   "outputs": [],
   "source": [
    "# hide\n",
    "# g['date'] = g['date'].astype('datetime64[ns]')"
   ]
  },
  {
   "cell_type": "code",
   "execution_count": 34,
   "id": "sophisticated-supervisor",
   "metadata": {
    "execution": {
     "iopub.execute_input": "2022-10-14T01:05:54.439998Z",
     "iopub.status.busy": "2022-10-14T01:05:54.439239Z",
     "iopub.status.idle": "2022-10-14T01:05:54.443888Z",
     "shell.execute_reply": "2022-10-14T01:05:54.443142Z"
    },
    "papermill": {
     "duration": 0.052721,
     "end_time": "2022-10-14T01:05:54.444019",
     "exception": false,
     "start_time": "2022-10-14T01:05:54.391298",
     "status": "completed"
    },
    "tags": []
   },
   "outputs": [],
   "source": [
    "#hide\n",
    "# g['date'] = g.date.dt.dayofyear"
   ]
  },
  {
   "cell_type": "code",
   "execution_count": 35,
   "id": "inside-dubai",
   "metadata": {
    "execution": {
     "iopub.execute_input": "2022-10-14T01:05:54.533090Z",
     "iopub.status.busy": "2022-10-14T01:05:54.532180Z",
     "iopub.status.idle": "2022-10-14T01:05:54.537433Z",
     "shell.execute_reply": "2022-10-14T01:05:54.538070Z"
    },
    "papermill": {
     "duration": 0.0508,
     "end_time": "2022-10-14T01:05:54.538299",
     "exception": false,
     "start_time": "2022-10-14T01:05:54.487499",
     "status": "completed"
    },
    "tags": []
   },
   "outputs": [],
   "source": [
    "#hide\n",
    "# g = g.rename(columns= {'continent':'group','country':'name','cases':'value'})"
   ]
  },
  {
   "cell_type": "code",
   "execution_count": 36,
   "id": "fleet-motorcycle",
   "metadata": {
    "execution": {
     "iopub.execute_input": "2022-10-14T01:05:54.623549Z",
     "iopub.status.busy": "2022-10-14T01:05:54.622820Z",
     "iopub.status.idle": "2022-10-14T01:05:54.625466Z",
     "shell.execute_reply": "2022-10-14T01:05:54.624735Z"
    },
    "papermill": {
     "duration": 0.047186,
     "end_time": "2022-10-14T01:05:54.625594",
     "exception": false,
     "start_time": "2022-10-14T01:05:54.578408",
     "status": "completed"
    },
    "tags": []
   },
   "outputs": [],
   "source": [
    "#hide\n",
    "# cols = ['name','group','day','value']"
   ]
  },
  {
   "cell_type": "code",
   "execution_count": 37,
   "id": "continued-sleeping",
   "metadata": {
    "execution": {
     "iopub.execute_input": "2022-10-14T01:05:54.721341Z",
     "iopub.status.busy": "2022-10-14T01:05:54.720435Z",
     "iopub.status.idle": "2022-10-14T01:05:54.723795Z",
     "shell.execute_reply": "2022-10-14T01:05:54.723111Z"
    },
    "papermill": {
     "duration": 0.047276,
     "end_time": "2022-10-14T01:05:54.723920",
     "exception": false,
     "start_time": "2022-10-14T01:05:54.676644",
     "status": "completed"
    },
    "tags": []
   },
   "outputs": [],
   "source": [
    "#hide\n",
    "# g.rename(columns= {'date':'day'},inplace = True)"
   ]
  },
  {
   "cell_type": "code",
   "execution_count": 38,
   "id": "major-fight",
   "metadata": {
    "execution": {
     "iopub.execute_input": "2022-10-14T01:05:54.814345Z",
     "iopub.status.busy": "2022-10-14T01:05:54.813542Z",
     "iopub.status.idle": "2022-10-14T01:05:54.818350Z",
     "shell.execute_reply": "2022-10-14T01:05:54.817710Z"
    },
    "papermill": {
     "duration": 0.053743,
     "end_time": "2022-10-14T01:05:54.818505",
     "exception": false,
     "start_time": "2022-10-14T01:05:54.764762",
     "status": "completed"
    },
    "tags": []
   },
   "outputs": [],
   "source": [
    "#hide\n",
    "# g = g[cols]"
   ]
  },
  {
   "cell_type": "code",
   "execution_count": 39,
   "id": "structured-mobile",
   "metadata": {
    "execution": {
     "iopub.execute_input": "2022-10-14T01:05:54.906263Z",
     "iopub.status.busy": "2022-10-14T01:05:54.905452Z",
     "iopub.status.idle": "2022-10-14T01:05:54.908956Z",
     "shell.execute_reply": "2022-10-14T01:05:54.908345Z"
    },
    "papermill": {
     "duration": 0.050413,
     "end_time": "2022-10-14T01:05:54.909086",
     "exception": false,
     "start_time": "2022-10-14T01:05:54.858673",
     "status": "completed"
    },
    "tags": []
   },
   "outputs": [],
   "source": [
    "# #hide\n",
    "# g = g[g.group.notna()]"
   ]
  },
  {
   "cell_type": "code",
   "execution_count": 40,
   "id": "determined-closing",
   "metadata": {
    "execution": {
     "iopub.execute_input": "2022-10-14T01:05:54.995182Z",
     "iopub.status.busy": "2022-10-14T01:05:54.994181Z",
     "iopub.status.idle": "2022-10-14T01:05:54.997401Z",
     "shell.execute_reply": "2022-10-14T01:05:54.996760Z"
    },
    "papermill": {
     "duration": 0.048421,
     "end_time": "2022-10-14T01:05:54.997556",
     "exception": false,
     "start_time": "2022-10-14T01:05:54.949135",
     "status": "completed"
    },
    "tags": []
   },
   "outputs": [],
   "source": [
    "# #hide\n",
    "# colors = dict(zip(\n",
    "#     [\"Oceania\", \"Europe\", \"Asia\", \"South America\", \"Middle East\", \"North America\", \"Africa\"],\n",
    "#     [\"#adb0ff\", \"#ffb3ff\", \"#90d595\", \"#e48381\", \"#aafbff\", \"#f7bb5f\", \"#eafb50\"]\n",
    "# ))\n",
    "# group_lk = g.set_index('name')['group'].to_dict()"
   ]
  },
  {
   "cell_type": "code",
   "execution_count": null,
   "id": "gross-drinking",
   "metadata": {
    "papermill": {
     "duration": 0.041359,
     "end_time": "2022-10-14T01:05:55.082159",
     "exception": false,
     "start_time": "2022-10-14T01:05:55.040800",
     "status": "completed"
    },
    "tags": []
   },
   "outputs": [],
   "source": []
  },
  {
   "cell_type": "code",
   "execution_count": 41,
   "id": "subject-macintosh",
   "metadata": {
    "execution": {
     "iopub.execute_input": "2022-10-14T01:05:55.171966Z",
     "iopub.status.busy": "2022-10-14T01:05:55.171160Z",
     "iopub.status.idle": "2022-10-14T01:05:55.173837Z",
     "shell.execute_reply": "2022-10-14T01:05:55.174563Z"
    },
    "papermill": {
     "duration": 0.049809,
     "end_time": "2022-10-14T01:05:55.174714",
     "exception": false,
     "start_time": "2022-10-14T01:05:55.124905",
     "status": "completed"
    },
    "tags": []
   },
   "outputs": [],
   "source": [
    "# #hide\n",
    "# fig, ax = plt.subplots(figsize=(15, 8))\n",
    "\n",
    "# def draw_barchart(current_day):\n",
    "#     dff = g[g['day'].eq(current_day)].sort_values(by='value', ascending=True).tail(10)\n",
    "#     ax.clear()\n",
    "#     ax.barh(dff['name'], dff['value'], color=[colors[group_lk[x]] for x in dff['name']])\n",
    "#     dx = dff['value'].max() / 200\n",
    "    \n",
    "#     for i, (value, name) in enumerate(zip(dff['value'], dff['name'])):\n",
    "#         ax.text(value-dx, i,     name,           size=14, weight=600, ha='right', va='bottom')\n",
    "#         ax.text(value-dx, i-.25, group_lk[name], size=10, color='#444444', ha='right', va='baseline')\n",
    "#         ax.text(value+dx, i,     f'{value:,.0f}',  size=14, ha='left',  va='center')\n",
    "#     ax.text(1, 0.4, current_day, transform=ax.transAxes, color='#777777', size=46, ha='right', weight=800)\n",
    "#     ax.text(0, 1.06, 'Population (thousands)', transform=ax.transAxes, size=12, color='#777777')\n",
    "#     ax.xaxis.set_major_formatter(ticker.StrMethodFormatter('{x:,.0f}'))\n",
    "#     ax.xaxis.set_ticks_position('top')\n",
    "#     ax.tick_params(axis='x', colors='#777777', labelsize=12)\n",
    "#     ax.set_yticks([])\n",
    "#     ax.margins(0, 0.01)\n",
    "#     ax.grid(which='major', axis='x', linestyle='-')\n",
    "#     ax.set_axisbelow(True)\n",
    "    \n",
    "#     ax.text(0, 1.15, 'Coronavirus',\n",
    "#             transform=ax.transAxes, size=24, weight=600, ha='left', va='top')\n",
    "# #     ax.text(1, 0, 'by @pratapvardhan; credit @jburnmurdoch', transform=ax.transAxes, color='#777777', ha='right',\n",
    "# #             bbox=dict(facecolor='white', alpha=0.8, edgecolor='white'))\n",
    "#     plt.box(False)"
   ]
  },
  {
   "cell_type": "code",
   "execution_count": 42,
   "id": "sexual-wages",
   "metadata": {
    "execution": {
     "iopub.execute_input": "2022-10-14T01:05:55.263811Z",
     "iopub.status.busy": "2022-10-14T01:05:55.263043Z",
     "iopub.status.idle": "2022-10-14T01:05:55.268102Z",
     "shell.execute_reply": "2022-10-14T01:05:55.268687Z"
    },
    "papermill": {
     "duration": 0.053835,
     "end_time": "2022-10-14T01:05:55.268876",
     "exception": false,
     "start_time": "2022-10-14T01:05:55.215041",
     "status": "completed"
    },
    "tags": []
   },
   "outputs": [],
   "source": [
    "# #hide_input\n",
    "# fig, ax = plt.subplots(figsize=(15, 8))\n",
    "# animator = animation.FuncAnimation(fig, draw_barchart, frames=range(g.day.values.min(), g.day.values.max()))\n",
    "# HTML(animator.to_jshtml())\n",
    "# # or use animator.to_html5_video() or animator.save() "
   ]
  },
  {
   "cell_type": "code",
   "execution_count": null,
   "id": "australian-container",
   "metadata": {
    "papermill": {
     "duration": 0.052468,
     "end_time": "2022-10-14T01:05:55.366387",
     "exception": false,
     "start_time": "2022-10-14T01:05:55.313919",
     "status": "completed"
    },
    "tags": []
   },
   "outputs": [],
   "source": []
  },
  {
   "cell_type": "code",
   "execution_count": null,
   "id": "mediterranean-pontiac",
   "metadata": {
    "papermill": {
     "duration": 0.040166,
     "end_time": "2022-10-14T01:05:55.449683",
     "exception": false,
     "start_time": "2022-10-14T01:05:55.409517",
     "status": "completed"
    },
    "tags": []
   },
   "outputs": [],
   "source": []
  },
  {
   "cell_type": "code",
   "execution_count": null,
   "id": "aging-legislature",
   "metadata": {
    "papermill": {
     "duration": 0.038919,
     "end_time": "2022-10-14T01:05:55.535769",
     "exception": false,
     "start_time": "2022-10-14T01:05:55.496850",
     "status": "completed"
    },
    "tags": []
   },
   "outputs": [],
   "source": []
  }
 ],
 "metadata": {
  "kernelspec": {
   "display_name": "Python 3",
   "language": "python",
   "name": "python3"
  },
  "language_info": {
   "codemirror_mode": {
    "name": "ipython",
    "version": 3
   },
   "file_extension": ".py",
   "mimetype": "text/x-python",
   "name": "python",
   "nbconvert_exporter": "python",
   "pygments_lexer": "ipython3",
   "version": "3.6.15"
  },
  "papermill": {
   "duration": 8.210719,
   "end_time": "2022-10-14T01:05:55.997871",
   "environment_variables": {},
   "exception": null,
   "input_path": "2020-03-21-covid19exp.ipynb",
   "output_path": "2020-03-21-covid19exp.ipynb",
   "parameters": {},
   "start_time": "2022-10-14T01:05:47.787152",
   "version": "2.0.0"
  }
 },
 "nbformat": 4,
 "nbformat_minor": 5
}