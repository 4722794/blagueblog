{
 "cells": [
  {
   "cell_type": "markdown",
   "id": "muslim-click",
   "metadata": {
    "papermill": {
     "duration": 0.029252,
     "end_time": "2022-02-25T00:31:09.432207",
     "exception": false,
     "start_time": "2022-02-25T00:31:09.402955",
     "status": "completed"
    },
    "tags": []
   },
   "source": [
    "# COVID-19 Case Race\n",
    "> A race chart to see rising cases around the world\n",
    "\n",
    "- author: Hargun Oberoi\n",
    "- image: images/covid-overview.png\n",
    "- hide: false\n",
    "- badges: false"
   ]
  },
  {
   "cell_type": "code",
   "execution_count": 1,
   "id": "proof-material",
   "metadata": {
    "execution": {
     "iopub.execute_input": "2022-02-25T00:31:09.494375Z",
     "iopub.status.busy": "2022-02-25T00:31:09.493909Z",
     "iopub.status.idle": "2022-02-25T00:31:09.784332Z",
     "shell.execute_reply": "2022-02-25T00:31:09.784830Z"
    },
    "papermill": {
     "duration": 0.325242,
     "end_time": "2022-02-25T00:31:09.785018",
     "exception": false,
     "start_time": "2022-02-25T00:31:09.459776",
     "status": "completed"
    },
    "tags": []
   },
   "outputs": [],
   "source": [
    "#hide\n",
    "import numpy as np\n",
    "import pandas as pd\n",
    "from jinja2 import Template\n",
    "from IPython.display import HTML"
   ]
  },
  {
   "cell_type": "code",
   "execution_count": 2,
   "id": "developed-terminology",
   "metadata": {
    "execution": {
     "iopub.execute_input": "2022-02-25T00:31:09.842766Z",
     "iopub.status.busy": "2022-02-25T00:31:09.842301Z",
     "iopub.status.idle": "2022-02-25T00:31:09.844327Z",
     "shell.execute_reply": "2022-02-25T00:31:09.844775Z"
    },
    "papermill": {
     "duration": 0.033869,
     "end_time": "2022-02-25T00:31:09.844888",
     "exception": false,
     "start_time": "2022-02-25T00:31:09.811019",
     "status": "completed"
    },
    "tags": []
   },
   "outputs": [],
   "source": [
    "#hide\n",
    "\n",
    "# FETCH\n",
    "base_url = 'https://raw.githubusercontent.com/pratapvardhan/notebooks/master/covid19/'\n",
    "paths = {\n",
    "    'mapping': base_url + 'mapping_countries.csv',\n",
    "    'overview': base_url + 'overview.tpl'\n",
    "}"
   ]
  },
  {
   "cell_type": "code",
   "execution_count": 3,
   "id": "dynamic-saver",
   "metadata": {
    "execution": {
     "iopub.execute_input": "2022-02-25T00:31:09.906407Z",
     "iopub.status.busy": "2022-02-25T00:31:09.905953Z",
     "iopub.status.idle": "2022-02-25T00:31:09.908685Z",
     "shell.execute_reply": "2022-02-25T00:31:09.909028Z"
    },
    "papermill": {
     "duration": 0.038527,
     "end_time": "2022-02-25T00:31:09.909157",
     "exception": false,
     "start_time": "2022-02-25T00:31:09.870630",
     "status": "completed"
    },
    "tags": []
   },
   "outputs": [
    {
     "data": {
      "text/plain": [
       "'https://raw.githubusercontent.com/pratapvardhan/notebooks/master/covid19/mapping_countries.csv'"
      ]
     },
     "execution_count": 3,
     "metadata": {},
     "output_type": "execute_result"
    }
   ],
   "source": [
    "#hide\n",
    "paths['mapping']"
   ]
  },
  {
   "cell_type": "code",
   "execution_count": 4,
   "id": "urban-software",
   "metadata": {
    "execution": {
     "iopub.execute_input": "2022-02-25T00:31:09.967471Z",
     "iopub.status.busy": "2022-02-25T00:31:09.967015Z",
     "iopub.status.idle": "2022-02-25T00:31:09.969256Z",
     "shell.execute_reply": "2022-02-25T00:31:09.968890Z"
    },
    "papermill": {
     "duration": 0.034039,
     "end_time": "2022-02-25T00:31:09.969358",
     "exception": false,
     "start_time": "2022-02-25T00:31:09.935319",
     "status": "completed"
    },
    "tags": []
   },
   "outputs": [],
   "source": [
    "#hide\n",
    "def get_mappings(url):\n",
    "    df = pd.read_csv(url)\n",
    "    return {\n",
    "        'df': df,\n",
    "        'replace.country': dict(df.dropna(subset=['Name']).set_index('Country')['Name']),\n",
    "        'map.continent': dict(df.set_index('Name')['Continent'])\n",
    "    }"
   ]
  },
  {
   "cell_type": "code",
   "execution_count": 5,
   "id": "intimate-machinery",
   "metadata": {
    "execution": {
     "iopub.execute_input": "2022-02-25T00:31:10.026643Z",
     "iopub.status.busy": "2022-02-25T00:31:10.026179Z",
     "iopub.status.idle": "2022-02-25T00:31:10.061132Z",
     "shell.execute_reply": "2022-02-25T00:31:10.060605Z"
    },
    "papermill": {
     "duration": 0.065949,
     "end_time": "2022-02-25T00:31:10.061270",
     "exception": false,
     "start_time": "2022-02-25T00:31:09.995321",
     "status": "completed"
    },
    "tags": []
   },
   "outputs": [],
   "source": [
    "#hide\n",
    "mapping = get_mappings(paths['mapping'])"
   ]
  },
  {
   "cell_type": "code",
   "execution_count": 6,
   "id": "certified-tactics",
   "metadata": {
    "execution": {
     "iopub.execute_input": "2022-02-25T00:31:10.119787Z",
     "iopub.status.busy": "2022-02-25T00:31:10.119162Z",
     "iopub.status.idle": "2022-02-25T00:31:10.121478Z",
     "shell.execute_reply": "2022-02-25T00:31:10.120998Z"
    },
    "papermill": {
     "duration": 0.033866,
     "end_time": "2022-02-25T00:31:10.121607",
     "exception": false,
     "start_time": "2022-02-25T00:31:10.087741",
     "status": "completed"
    },
    "tags": []
   },
   "outputs": [],
   "source": [
    "#hide\n",
    "def get_template(path):\n",
    "    from urllib.parse import urlparse\n",
    "    if bool(urlparse(path).netloc):\n",
    "        from urllib.request import urlopen\n",
    "        return urlopen(path).read().decode('utf8')\n",
    "    return open(path).read()"
   ]
  },
  {
   "cell_type": "code",
   "execution_count": 7,
   "id": "realistic-blast",
   "metadata": {
    "execution": {
     "iopub.execute_input": "2022-02-25T00:31:10.179450Z",
     "iopub.status.busy": "2022-02-25T00:31:10.178959Z",
     "iopub.status.idle": "2022-02-25T00:31:10.180782Z",
     "shell.execute_reply": "2022-02-25T00:31:10.181148Z"
    },
    "papermill": {
     "duration": 0.033094,
     "end_time": "2022-02-25T00:31:10.181272",
     "exception": false,
     "start_time": "2022-02-25T00:31:10.148178",
     "status": "completed"
    },
    "tags": []
   },
   "outputs": [],
   "source": [
    "#hide\n",
    "def get_frame(name):\n",
    "    url = (\n",
    "        'https://raw.githubusercontent.com/CSSEGISandData/COVID-19/master/csse_covid_19_data/'\n",
    "        f'csse_covid_19_time_series/time_series_covid19_{name}_global.csv')\n",
    "    df = pd.read_csv(url)\n",
    "    # rename countries\n",
    "    df['Country/Region'] = df['Country/Region'].replace(mapping['replace.country'])\n",
    "    return df"
   ]
  },
  {
   "cell_type": "code",
   "execution_count": 8,
   "id": "affiliated-characterization",
   "metadata": {
    "execution": {
     "iopub.execute_input": "2022-02-25T00:31:10.240562Z",
     "iopub.status.busy": "2022-02-25T00:31:10.239888Z",
     "iopub.status.idle": "2022-02-25T00:31:10.242664Z",
     "shell.execute_reply": "2022-02-25T00:31:10.243114Z"
    },
    "papermill": {
     "duration": 0.035512,
     "end_time": "2022-02-25T00:31:10.243266",
     "exception": false,
     "start_time": "2022-02-25T00:31:10.207754",
     "status": "completed"
    },
    "tags": []
   },
   "outputs": [],
   "source": [
    "#hide\n",
    "def get_dates(df):\n",
    "    dt_cols = df.columns[~df.columns.isin(['Province/State', 'Country/Region', 'Lat', 'Long'])]\n",
    "    LAST_DATE_I = -1\n",
    "    # sometimes last column may be empty, then go backwards\n",
    "    for i in range(-1, -len(dt_cols), -1):\n",
    "        if not df[dt_cols[i]].fillna(0).eq(0).all():\n",
    "            LAST_DATE_I = i\n",
    "            break\n",
    "    return LAST_DATE_I, dt_cols"
   ]
  },
  {
   "cell_type": "code",
   "execution_count": 9,
   "id": "recent-optimization",
   "metadata": {
    "execution": {
     "iopub.execute_input": "2022-02-25T00:31:10.301549Z",
     "iopub.status.busy": "2022-02-25T00:31:10.300938Z",
     "iopub.status.idle": "2022-02-25T00:31:10.623272Z",
     "shell.execute_reply": "2022-02-25T00:31:10.622818Z"
    },
    "papermill": {
     "duration": 0.353258,
     "end_time": "2022-02-25T00:31:10.623408",
     "exception": false,
     "start_time": "2022-02-25T00:31:10.270150",
     "status": "completed"
    },
    "tags": []
   },
   "outputs": [],
   "source": [
    "#hide\n",
    "COL_REGION = 'Country/Region'\n",
    "# Confirmed, Recovered, Deaths\n",
    "df = get_frame('confirmed')\n",
    "# dft_: timeseries, dfc_: today country agg\n",
    "dft_cases = df\n",
    "dft_deaths = get_frame('deaths')\n",
    "dft_recovered = get_frame('recovered')\n",
    "LAST_DATE_I, dt_cols = get_dates(df)"
   ]
  },
  {
   "cell_type": "code",
   "execution_count": 10,
   "id": "absolute-copper",
   "metadata": {
    "execution": {
     "iopub.execute_input": "2022-02-25T00:31:10.682534Z",
     "iopub.status.busy": "2022-02-25T00:31:10.681452Z",
     "iopub.status.idle": "2022-02-25T00:31:10.683064Z",
     "shell.execute_reply": "2022-02-25T00:31:10.683423Z"
    },
    "papermill": {
     "duration": 0.033574,
     "end_time": "2022-02-25T00:31:10.683544",
     "exception": false,
     "start_time": "2022-02-25T00:31:10.649970",
     "status": "completed"
    },
    "tags": []
   },
   "outputs": [],
   "source": [
    "#hide\n",
    "LAST_DATE_I, dt_cols = get_dates(df)\n",
    "dt_today =dt_cols[LAST_DATE_I]\n",
    "# dt_5day = dt_cols[LAST_DATE_I - 5]\n",
    "dt_yday = dt_cols[LAST_DATE_I - 1]"
   ]
  },
  {
   "cell_type": "code",
   "execution_count": 11,
   "id": "restricted-sheriff",
   "metadata": {
    "execution": {
     "iopub.execute_input": "2022-02-25T00:31:10.745278Z",
     "iopub.status.busy": "2022-02-25T00:31:10.743761Z",
     "iopub.status.idle": "2022-02-25T00:31:10.749522Z",
     "shell.execute_reply": "2022-02-25T00:31:10.749891Z"
    },
    "papermill": {
     "duration": 0.040168,
     "end_time": "2022-02-25T00:31:10.750016",
     "exception": false,
     "start_time": "2022-02-25T00:31:10.709848",
     "status": "completed"
    },
    "tags": []
   },
   "outputs": [],
   "source": [
    "#hide\n",
    "dfc_cases = dft_cases.groupby(COL_REGION)[dt_today].sum()\n",
    "dfc_deaths = dft_deaths.groupby(COL_REGION)[dt_today].sum()\n",
    "# dfp_cases = dft_cases.groupby(COL_REGION)[dt_5day].sum()\n",
    "# dfp_deaths = dft_deaths.groupby(COL_REGION)[dt_5day].sum()\n",
    "dfp_cases = dft_cases.groupby(COL_REGION)[dt_yday].sum()\n",
    "dfp_deaths = dft_deaths.groupby(COL_REGION)[dt_yday].sum()"
   ]
  },
  {
   "cell_type": "code",
   "execution_count": 12,
   "id": "deluxe-hepatitis",
   "metadata": {
    "execution": {
     "iopub.execute_input": "2022-02-25T00:31:10.808841Z",
     "iopub.status.busy": "2022-02-25T00:31:10.808340Z",
     "iopub.status.idle": "2022-02-25T00:31:10.812013Z",
     "shell.execute_reply": "2022-02-25T00:31:10.812413Z"
    },
    "papermill": {
     "duration": 0.036073,
     "end_time": "2022-02-25T00:31:10.812542",
     "exception": false,
     "start_time": "2022-02-25T00:31:10.776469",
     "status": "completed"
    },
    "tags": []
   },
   "outputs": [],
   "source": [
    "#hide\n",
    "df_table = (pd.DataFrame(dict(Cases = dfc_cases, Deaths = dfc_deaths, PCases = dfp_cases, PDeaths = dfp_deaths))\n",
    "            .sort_values(by = ['Cases','Deaths'], ascending = [False, False])\n",
    "            .reset_index())"
   ]
  },
  {
   "cell_type": "code",
   "execution_count": 13,
   "id": "educational-chancellor",
   "metadata": {
    "execution": {
     "iopub.execute_input": "2022-02-25T00:31:10.881960Z",
     "iopub.status.busy": "2022-02-25T00:31:10.881469Z",
     "iopub.status.idle": "2022-02-25T00:31:10.888045Z",
     "shell.execute_reply": "2022-02-25T00:31:10.888446Z"
    },
    "papermill": {
     "duration": 0.049688,
     "end_time": "2022-02-25T00:31:10.888577",
     "exception": false,
     "start_time": "2022-02-25T00:31:10.838889",
     "status": "completed"
    },
    "tags": []
   },
   "outputs": [
    {
     "data": {
      "text/html": [
       "<div>\n",
       "<style scoped>\n",
       "    .dataframe tbody tr th:only-of-type {\n",
       "        vertical-align: middle;\n",
       "    }\n",
       "\n",
       "    .dataframe tbody tr th {\n",
       "        vertical-align: top;\n",
       "    }\n",
       "\n",
       "    .dataframe thead th {\n",
       "        text-align: right;\n",
       "    }\n",
       "</style>\n",
       "<table border=\"1\" class=\"dataframe\">\n",
       "  <thead>\n",
       "    <tr style=\"text-align: right;\">\n",
       "      <th></th>\n",
       "      <th>Country/Region</th>\n",
       "      <th>Cases</th>\n",
       "      <th>Deaths</th>\n",
       "      <th>PCases</th>\n",
       "      <th>PDeaths</th>\n",
       "      <th>Cases (+)</th>\n",
       "      <th>Deaths (+)</th>\n",
       "      <th>Fatality Rate</th>\n",
       "      <th>Continent</th>\n",
       "    </tr>\n",
       "  </thead>\n",
       "  <tbody>\n",
       "    <tr>\n",
       "      <th>0</th>\n",
       "      <td>US</td>\n",
       "      <td>78733498</td>\n",
       "      <td>941889</td>\n",
       "      <td>78648693</td>\n",
       "      <td>939064</td>\n",
       "      <td>84805</td>\n",
       "      <td>2825</td>\n",
       "      <td>1.20</td>\n",
       "      <td>North America</td>\n",
       "    </tr>\n",
       "    <tr>\n",
       "      <th>1</th>\n",
       "      <td>India</td>\n",
       "      <td>42881179</td>\n",
       "      <td>512924</td>\n",
       "      <td>42867031</td>\n",
       "      <td>512622</td>\n",
       "      <td>14148</td>\n",
       "      <td>302</td>\n",
       "      <td>1.20</td>\n",
       "      <td>Asia</td>\n",
       "    </tr>\n",
       "    <tr>\n",
       "      <th>2</th>\n",
       "      <td>Brazil</td>\n",
       "      <td>28493336</td>\n",
       "      <td>646714</td>\n",
       "      <td>28361951</td>\n",
       "      <td>645735</td>\n",
       "      <td>131385</td>\n",
       "      <td>979</td>\n",
       "      <td>2.27</td>\n",
       "      <td>South America</td>\n",
       "    </tr>\n",
       "    <tr>\n",
       "      <th>3</th>\n",
       "      <td>France</td>\n",
       "      <td>22638153</td>\n",
       "      <td>138502</td>\n",
       "      <td>22563594</td>\n",
       "      <td>138277</td>\n",
       "      <td>74559</td>\n",
       "      <td>225</td>\n",
       "      <td>0.61</td>\n",
       "      <td>Europe</td>\n",
       "    </tr>\n",
       "    <tr>\n",
       "      <th>4</th>\n",
       "      <td>United Kingdom</td>\n",
       "      <td>18867585</td>\n",
       "      <td>161549</td>\n",
       "      <td>18826968</td>\n",
       "      <td>161384</td>\n",
       "      <td>40617</td>\n",
       "      <td>165</td>\n",
       "      <td>0.86</td>\n",
       "      <td>Europe</td>\n",
       "    </tr>\n",
       "  </tbody>\n",
       "</table>\n",
       "</div>"
      ],
      "text/plain": [
       "   Country/Region     Cases  Deaths    PCases  PDeaths  Cases (+)  Deaths (+)  \\\n",
       "0              US  78733498  941889  78648693   939064      84805        2825   \n",
       "1           India  42881179  512924  42867031   512622      14148         302   \n",
       "2          Brazil  28493336  646714  28361951   645735     131385         979   \n",
       "3          France  22638153  138502  22563594   138277      74559         225   \n",
       "4  United Kingdom  18867585  161549  18826968   161384      40617         165   \n",
       "\n",
       "   Fatality Rate      Continent  \n",
       "0           1.20  North America  \n",
       "1           1.20           Asia  \n",
       "2           2.27  South America  \n",
       "3           0.61         Europe  \n",
       "4           0.86         Europe  "
      ]
     },
     "execution_count": 13,
     "metadata": {},
     "output_type": "execute_result"
    }
   ],
   "source": [
    "#hide\n",
    "for c in 'Cases, Deaths'.split(', '):\n",
    "    df_table[f'{c} (+)'] = (df_table[c] - df_table[f'P{c}']).clip(0)\n",
    "    #Clip ça veut dire, les chiffres negatif sont interdit\n",
    "df_table['Fatality Rate'] = (100* df_table['Deaths']/ df_table['Cases']).round(2)\n",
    "df_table['Continent'] = df_table['Country/Region'].map(mapping['map.continent'])\n",
    "df_table.head(5)"
   ]
  },
  {
   "cell_type": "code",
   "execution_count": 14,
   "id": "aboriginal-bulgaria",
   "metadata": {
    "execution": {
     "iopub.execute_input": "2022-02-25T00:31:10.948711Z",
     "iopub.status.busy": "2022-02-25T00:31:10.948025Z",
     "iopub.status.idle": "2022-02-25T00:31:10.951362Z",
     "shell.execute_reply": "2022-02-25T00:31:10.950853Z"
    },
    "papermill": {
     "duration": 0.036026,
     "end_time": "2022-02-25T00:31:10.951478",
     "exception": false,
     "start_time": "2022-02-25T00:31:10.915452",
     "status": "completed"
    },
    "tags": []
   },
   "outputs": [],
   "source": [
    "#hide\n",
    "#delete problematic countries from table\n",
    "df_table = df_table[~df_table['Country/Region'].isin(['Cape Verde', 'Cruise Ship', 'Kosovo'])]"
   ]
  },
  {
   "cell_type": "code",
   "execution_count": 15,
   "id": "fantastic-effect",
   "metadata": {
    "execution": {
     "iopub.execute_input": "2022-02-25T00:31:11.018836Z",
     "iopub.status.busy": "2022-02-25T00:31:11.018356Z",
     "iopub.status.idle": "2022-02-25T00:31:11.034692Z",
     "shell.execute_reply": "2022-02-25T00:31:11.034304Z"
    },
    "papermill": {
     "duration": 0.051532,
     "end_time": "2022-02-25T00:31:11.034802",
     "exception": false,
     "start_time": "2022-02-25T00:31:10.983270",
     "status": "completed"
    },
    "tags": []
   },
   "outputs": [
    {
     "data": {
      "text/html": [
       "<div>\n",
       "<style scoped>\n",
       "    .dataframe tbody tr th:only-of-type {\n",
       "        vertical-align: middle;\n",
       "    }\n",
       "\n",
       "    .dataframe tbody tr th {\n",
       "        vertical-align: top;\n",
       "    }\n",
       "\n",
       "    .dataframe thead th {\n",
       "        text-align: right;\n",
       "    }\n",
       "</style>\n",
       "<table border=\"1\" class=\"dataframe\">\n",
       "  <thead>\n",
       "    <tr style=\"text-align: right;\">\n",
       "      <th></th>\n",
       "      <th>Country/Region</th>\n",
       "      <th>Cases</th>\n",
       "      <th>Deaths</th>\n",
       "      <th>PCases</th>\n",
       "      <th>PDeaths</th>\n",
       "      <th>Cases (+)</th>\n",
       "      <th>Deaths (+)</th>\n",
       "      <th>Fatality Rate</th>\n",
       "      <th>Continent</th>\n",
       "    </tr>\n",
       "  </thead>\n",
       "  <tbody>\n",
       "    <tr>\n",
       "      <th>0</th>\n",
       "      <td>US</td>\n",
       "      <td>78733498</td>\n",
       "      <td>941889</td>\n",
       "      <td>78648693</td>\n",
       "      <td>939064</td>\n",
       "      <td>84805</td>\n",
       "      <td>2825</td>\n",
       "      <td>1.2</td>\n",
       "      <td>North America</td>\n",
       "    </tr>\n",
       "    <tr>\n",
       "      <th>1</th>\n",
       "      <td>India</td>\n",
       "      <td>42881179</td>\n",
       "      <td>512924</td>\n",
       "      <td>42867031</td>\n",
       "      <td>512622</td>\n",
       "      <td>14148</td>\n",
       "      <td>302</td>\n",
       "      <td>1.2</td>\n",
       "      <td>Asia</td>\n",
       "    </tr>\n",
       "    <tr>\n",
       "      <th>2</th>\n",
       "      <td>Brazil</td>\n",
       "      <td>28493336</td>\n",
       "      <td>646714</td>\n",
       "      <td>28361951</td>\n",
       "      <td>645735</td>\n",
       "      <td>131385</td>\n",
       "      <td>979</td>\n",
       "      <td>2.3</td>\n",
       "      <td>South America</td>\n",
       "    </tr>\n",
       "    <tr>\n",
       "      <th>3</th>\n",
       "      <td>France</td>\n",
       "      <td>22638153</td>\n",
       "      <td>138502</td>\n",
       "      <td>22563594</td>\n",
       "      <td>138277</td>\n",
       "      <td>74559</td>\n",
       "      <td>225</td>\n",
       "      <td>0.6</td>\n",
       "      <td>Europe</td>\n",
       "    </tr>\n",
       "    <tr>\n",
       "      <th>4</th>\n",
       "      <td>United Kingdom</td>\n",
       "      <td>18867585</td>\n",
       "      <td>161549</td>\n",
       "      <td>18826968</td>\n",
       "      <td>161384</td>\n",
       "      <td>40617</td>\n",
       "      <td>165</td>\n",
       "      <td>0.9</td>\n",
       "      <td>Europe</td>\n",
       "    </tr>\n",
       "  </tbody>\n",
       "</table>\n",
       "</div>"
      ],
      "text/plain": [
       "   Country/Region     Cases  Deaths    PCases  PDeaths  Cases (+)  Deaths (+)  \\\n",
       "0              US  78733498  941889  78648693   939064      84805        2825   \n",
       "1           India  42881179  512924  42867031   512622      14148         302   \n",
       "2          Brazil  28493336  646714  28361951   645735     131385         979   \n",
       "3          France  22638153  138502  22563594   138277      74559         225   \n",
       "4  United Kingdom  18867585  161549  18826968   161384      40617         165   \n",
       "\n",
       "   Fatality Rate      Continent  \n",
       "0            1.2  North America  \n",
       "1            1.2           Asia  \n",
       "2            2.3  South America  \n",
       "3            0.6         Europe  \n",
       "4            0.9         Europe  "
      ]
     },
     "execution_count": 15,
     "metadata": {},
     "output_type": "execute_result"
    }
   ],
   "source": [
    "#hide\n",
    "df_table = (pd.DataFrame(dict(Cases=dfc_cases, Deaths=dfc_deaths, PCases=dfp_cases, PDeaths=dfp_deaths))\n",
    "             .sort_values(by=['Cases', 'Deaths'], ascending=[False, False])\n",
    "             .reset_index())\n",
    "df_table.rename(columns={'index': 'Country/Region'}, inplace=True)\n",
    "for c in 'Cases, Deaths'.split(', '):\n",
    "    df_table[f'{c} (+)'] = (df_table[c] - df_table[f'P{c}']).clip(0)  # DATA BUG\n",
    "df_table['Fatality Rate'] = (100 * df_table['Deaths'] / df_table['Cases']).round(1)\n",
    "df_table['Continent'] = df_table['Country/Region'].map(mapping['map.continent'])\n",
    "df_table.head(5)"
   ]
  },
  {
   "cell_type": "code",
   "execution_count": 16,
   "id": "fewer-occasion",
   "metadata": {
    "execution": {
     "iopub.execute_input": "2022-02-25T00:31:11.095607Z",
     "iopub.status.busy": "2022-02-25T00:31:11.095095Z",
     "iopub.status.idle": "2022-02-25T00:31:11.098208Z",
     "shell.execute_reply": "2022-02-25T00:31:11.098556Z"
    },
    "papermill": {
     "duration": 0.036449,
     "end_time": "2022-02-25T00:31:11.098683",
     "exception": false,
     "start_time": "2022-02-25T00:31:11.062234",
     "status": "completed"
    },
    "tags": []
   },
   "outputs": [],
   "source": [
    "#hide\n",
    "#delete problematic countries from table\n",
    "df_table = df_table[~df_table['Country/Region'].isin(['Cape Verde', 'Cruise Ship', 'Kosovo'])]"
   ]
  },
  {
   "cell_type": "code",
   "execution_count": 17,
   "id": "related-center",
   "metadata": {
    "execution": {
     "iopub.execute_input": "2022-02-25T00:31:11.169498Z",
     "iopub.status.busy": "2022-02-25T00:31:11.168966Z",
     "iopub.status.idle": "2022-02-25T00:31:11.171633Z",
     "shell.execute_reply": "2022-02-25T00:31:11.171226Z"
    },
    "papermill": {
     "duration": 0.045786,
     "end_time": "2022-02-25T00:31:11.171738",
     "exception": false,
     "start_time": "2022-02-25T00:31:11.125952",
     "status": "completed"
    },
    "tags": []
   },
   "outputs": [],
   "source": [
    "#hide\n",
    "metrics = [df_table.columns[index] for index in [1,2,5,6]]\n",
    "# s_china = df_table[df_table['Country/Region'].eq('China')][metrics].sum().add_prefix('China ')\n",
    "s_us = df_table[df_table['Country/Region'].eq('US')][metrics].sum().add_prefix('US ')\n",
    "s_eu = df_table[df_table['Continent'].eq('Europe')][metrics].sum().add_prefix('EU ')\n",
    "s_ind = df_table[df_table['Country/Region'].eq('India')][metrics].sum().add_prefix('India ')\n",
    "summary = {'updated': pd.to_datetime(dt_today), 'since': pd.to_datetime(dt_yday)}\n",
    "summary = {'updated': pd.to_datetime(dt_today), 'since': pd.to_datetime(dt_yday)}\n",
    "summary = {**summary, **df_table[metrics].sum(), **s_ind, **s_us, **s_eu}"
   ]
  },
  {
   "cell_type": "code",
   "execution_count": 18,
   "id": "engaging-syndrome",
   "metadata": {
    "execution": {
     "iopub.execute_input": "2022-02-25T00:31:11.231688Z",
     "iopub.status.busy": "2022-02-25T00:31:11.231209Z",
     "iopub.status.idle": "2022-02-25T00:31:11.247344Z",
     "shell.execute_reply": "2022-02-25T00:31:11.247703Z"
    },
    "papermill": {
     "duration": 0.048506,
     "end_time": "2022-02-25T00:31:11.247836",
     "exception": false,
     "start_time": "2022-02-25T00:31:11.199330",
     "status": "completed"
    },
    "tags": []
   },
   "outputs": [],
   "source": [
    "#hide\n",
    "dft_ct_new_cases = dft_cases.groupby(COL_REGION)[dt_cols].sum().diff(axis=1).fillna(0).astype(int)"
   ]
  },
  {
   "cell_type": "code",
   "execution_count": 19,
   "id": "neutral-assignment",
   "metadata": {
    "execution": {
     "iopub.execute_input": "2022-02-25T00:31:11.308192Z",
     "iopub.status.busy": "2022-02-25T00:31:11.307659Z",
     "iopub.status.idle": "2022-02-25T00:31:11.310861Z",
     "shell.execute_reply": "2022-02-25T00:31:11.310486Z"
    },
    "papermill": {
     "duration": 0.035843,
     "end_time": "2022-02-25T00:31:11.310969",
     "exception": false,
     "start_time": "2022-02-25T00:31:11.275126",
     "status": "completed"
    },
    "tags": []
   },
   "outputs": [],
   "source": [
    "#hide\n",
    "everydaycases = dft_ct_new_cases.cumsum(axis=1)"
   ]
  },
  {
   "cell_type": "code",
   "execution_count": 20,
   "id": "parliamentary-calgary",
   "metadata": {
    "execution": {
     "iopub.execute_input": "2022-02-25T00:31:11.371450Z",
     "iopub.status.busy": "2022-02-25T00:31:11.370969Z",
     "iopub.status.idle": "2022-02-25T00:31:11.929977Z",
     "shell.execute_reply": "2022-02-25T00:31:11.930418Z"
    },
    "papermill": {
     "duration": 0.59258,
     "end_time": "2022-02-25T00:31:11.931057",
     "exception": false,
     "start_time": "2022-02-25T00:31:11.338477",
     "status": "completed"
    },
    "tags": []
   },
   "outputs": [],
   "source": [
    "#hide\n",
    "import pandas as pd\n",
    "import matplotlib.pyplot as plt\n",
    "import matplotlib.ticker as ticker\n",
    "import matplotlib.animation as animation\n",
    "from IPython.display import HTML"
   ]
  },
  {
   "cell_type": "code",
   "execution_count": 21,
   "id": "lasting-extraction",
   "metadata": {
    "execution": {
     "iopub.execute_input": "2022-02-25T00:31:12.002956Z",
     "iopub.status.busy": "2022-02-25T00:31:12.002484Z",
     "iopub.status.idle": "2022-02-25T00:31:12.008382Z",
     "shell.execute_reply": "2022-02-25T00:31:12.007955Z"
    },
    "papermill": {
     "duration": 0.038499,
     "end_time": "2022-02-25T00:31:12.008498",
     "exception": false,
     "start_time": "2022-02-25T00:31:11.969999",
     "status": "completed"
    },
    "tags": []
   },
   "outputs": [],
   "source": [
    "#hide\n",
    "t = everydaycases.stack()"
   ]
  },
  {
   "cell_type": "code",
   "execution_count": 22,
   "id": "premier-sleeve",
   "metadata": {
    "execution": {
     "iopub.execute_input": "2022-02-25T00:31:12.067676Z",
     "iopub.status.busy": "2022-02-25T00:31:12.067192Z",
     "iopub.status.idle": "2022-02-25T00:31:12.077001Z",
     "shell.execute_reply": "2022-02-25T00:31:12.076518Z"
    },
    "papermill": {
     "duration": 0.041111,
     "end_time": "2022-02-25T00:31:12.077132",
     "exception": false,
     "start_time": "2022-02-25T00:31:12.036021",
     "status": "completed"
    },
    "tags": []
   },
   "outputs": [],
   "source": [
    "#hide\n",
    "g = t.reset_index(['Country/Region'])"
   ]
  },
  {
   "cell_type": "code",
   "execution_count": 23,
   "id": "distributed-pittsburgh",
   "metadata": {
    "execution": {
     "iopub.execute_input": "2022-02-25T00:31:12.137191Z",
     "iopub.status.busy": "2022-02-25T00:31:12.136727Z",
     "iopub.status.idle": "2022-02-25T00:31:12.138522Z",
     "shell.execute_reply": "2022-02-25T00:31:12.138961Z"
    },
    "papermill": {
     "duration": 0.033313,
     "end_time": "2022-02-25T00:31:12.139084",
     "exception": false,
     "start_time": "2022-02-25T00:31:12.105771",
     "status": "completed"
    },
    "tags": []
   },
   "outputs": [],
   "source": [
    "#hide\n",
    "g.index.name = 'date'"
   ]
  },
  {
   "cell_type": "code",
   "execution_count": 24,
   "id": "naked-donor",
   "metadata": {
    "execution": {
     "iopub.execute_input": "2022-02-25T00:31:12.197839Z",
     "iopub.status.busy": "2022-02-25T00:31:12.197361Z",
     "iopub.status.idle": "2022-02-25T00:31:12.199493Z",
     "shell.execute_reply": "2022-02-25T00:31:12.199032Z"
    },
    "papermill": {
     "duration": 0.033119,
     "end_time": "2022-02-25T00:31:12.199598",
     "exception": false,
     "start_time": "2022-02-25T00:31:12.166479",
     "status": "completed"
    },
    "tags": []
   },
   "outputs": [],
   "source": [
    "# #hide\n",
    "# g = g.reset_index(['date'])"
   ]
  },
  {
   "cell_type": "code",
   "execution_count": 25,
   "id": "incomplete-mustang",
   "metadata": {
    "execution": {
     "iopub.execute_input": "2022-02-25T00:31:12.257443Z",
     "iopub.status.busy": "2022-02-25T00:31:12.256952Z",
     "iopub.status.idle": "2022-02-25T00:31:12.258995Z",
     "shell.execute_reply": "2022-02-25T00:31:12.258576Z"
    },
    "papermill": {
     "duration": 0.032334,
     "end_time": "2022-02-25T00:31:12.259099",
     "exception": false,
     "start_time": "2022-02-25T00:31:12.226765",
     "status": "completed"
    },
    "tags": []
   },
   "outputs": [],
   "source": [
    "#hide\n",
    "# g.head()"
   ]
  },
  {
   "cell_type": "code",
   "execution_count": 26,
   "id": "specific-kruger",
   "metadata": {
    "execution": {
     "iopub.execute_input": "2022-02-25T00:31:12.317777Z",
     "iopub.status.busy": "2022-02-25T00:31:12.317206Z",
     "iopub.status.idle": "2022-02-25T00:31:12.318653Z",
     "shell.execute_reply": "2022-02-25T00:31:12.319053Z"
    },
    "papermill": {
     "duration": 0.032698,
     "end_time": "2022-02-25T00:31:12.319194",
     "exception": false,
     "start_time": "2022-02-25T00:31:12.286496",
     "status": "completed"
    },
    "tags": []
   },
   "outputs": [],
   "source": [
    "#hide\n",
    "# g.columns = ['date','country','cases']"
   ]
  },
  {
   "cell_type": "code",
   "execution_count": 27,
   "id": "tender-conversion",
   "metadata": {
    "execution": {
     "iopub.execute_input": "2022-02-25T00:31:12.377589Z",
     "iopub.status.busy": "2022-02-25T00:31:12.376966Z",
     "iopub.status.idle": "2022-02-25T00:31:12.381014Z",
     "shell.execute_reply": "2022-02-25T00:31:12.380534Z"
    },
    "papermill": {
     "duration": 0.034678,
     "end_time": "2022-02-25T00:31:12.381143",
     "exception": false,
     "start_time": "2022-02-25T00:31:12.346465",
     "status": "completed"
    },
    "tags": []
   },
   "outputs": [],
   "source": [
    "#hide\n",
    "# g['continent'] = g.country"
   ]
  },
  {
   "cell_type": "code",
   "execution_count": 28,
   "id": "substantial-wilderness",
   "metadata": {
    "execution": {
     "iopub.execute_input": "2022-02-25T00:31:12.441805Z",
     "iopub.status.busy": "2022-02-25T00:31:12.441175Z",
     "iopub.status.idle": "2022-02-25T00:31:12.443034Z",
     "shell.execute_reply": "2022-02-25T00:31:12.442493Z"
    },
    "papermill": {
     "duration": 0.032815,
     "end_time": "2022-02-25T00:31:12.443136",
     "exception": false,
     "start_time": "2022-02-25T00:31:12.410321",
     "status": "completed"
    },
    "tags": []
   },
   "outputs": [],
   "source": [
    "#hide\n",
    "# cols = list(g.columns.values)"
   ]
  },
  {
   "cell_type": "code",
   "execution_count": 29,
   "id": "solved-farming",
   "metadata": {
    "execution": {
     "iopub.execute_input": "2022-02-25T00:31:12.501632Z",
     "iopub.status.busy": "2022-02-25T00:31:12.501003Z",
     "iopub.status.idle": "2022-02-25T00:31:12.502248Z",
     "shell.execute_reply": "2022-02-25T00:31:12.502799Z"
    },
    "papermill": {
     "duration": 0.032587,
     "end_time": "2022-02-25T00:31:12.502942",
     "exception": false,
     "start_time": "2022-02-25T00:31:12.470355",
     "status": "completed"
    },
    "tags": []
   },
   "outputs": [],
   "source": [
    "#hide\n",
    "# cols.insert(0, cols.pop())"
   ]
  },
  {
   "cell_type": "code",
   "execution_count": 30,
   "id": "executed-adoption",
   "metadata": {
    "execution": {
     "iopub.execute_input": "2022-02-25T00:31:12.561462Z",
     "iopub.status.busy": "2022-02-25T00:31:12.560964Z",
     "iopub.status.idle": "2022-02-25T00:31:12.564418Z",
     "shell.execute_reply": "2022-02-25T00:31:12.563963Z"
    },
    "papermill": {
     "duration": 0.033887,
     "end_time": "2022-02-25T00:31:12.564529",
     "exception": false,
     "start_time": "2022-02-25T00:31:12.530642",
     "status": "completed"
    },
    "tags": []
   },
   "outputs": [],
   "source": [
    "#hide\n",
    "# g = g[cols]"
   ]
  },
  {
   "cell_type": "code",
   "execution_count": 31,
   "id": "subject-dublin",
   "metadata": {
    "execution": {
     "iopub.execute_input": "2022-02-25T00:31:12.623556Z",
     "iopub.status.busy": "2022-02-25T00:31:12.623078Z",
     "iopub.status.idle": "2022-02-25T00:31:12.625487Z",
     "shell.execute_reply": "2022-02-25T00:31:12.625111Z"
    },
    "papermill": {
     "duration": 0.033049,
     "end_time": "2022-02-25T00:31:12.625596",
     "exception": false,
     "start_time": "2022-02-25T00:31:12.592547",
     "status": "completed"
    },
    "tags": []
   },
   "outputs": [],
   "source": [
    "#hide\n",
    "# g['continent'] = g['continent'].map(mapping['map.continent'])"
   ]
  },
  {
   "cell_type": "code",
   "execution_count": 32,
   "id": "freelance-scout",
   "metadata": {
    "execution": {
     "iopub.execute_input": "2022-02-25T00:31:12.684712Z",
     "iopub.status.busy": "2022-02-25T00:31:12.683965Z",
     "iopub.status.idle": "2022-02-25T00:31:12.685298Z",
     "shell.execute_reply": "2022-02-25T00:31:12.685781Z"
    },
    "papermill": {
     "duration": 0.032862,
     "end_time": "2022-02-25T00:31:12.685913",
     "exception": false,
     "start_time": "2022-02-25T00:31:12.653051",
     "status": "completed"
    },
    "tags": []
   },
   "outputs": [],
   "source": [
    "#hide\n",
    "# g.head()"
   ]
  },
  {
   "cell_type": "code",
   "execution_count": 33,
   "id": "limited-engine",
   "metadata": {
    "execution": {
     "iopub.execute_input": "2022-02-25T00:31:12.757519Z",
     "iopub.status.busy": "2022-02-25T00:31:12.756886Z",
     "iopub.status.idle": "2022-02-25T00:31:12.758406Z",
     "shell.execute_reply": "2022-02-25T00:31:12.758801Z"
    },
    "papermill": {
     "duration": 0.040978,
     "end_time": "2022-02-25T00:31:12.758923",
     "exception": false,
     "start_time": "2022-02-25T00:31:12.717945",
     "status": "completed"
    },
    "tags": []
   },
   "outputs": [],
   "source": [
    "# hide\n",
    "# g['date'] = g['date'].astype('datetime64[ns]')"
   ]
  },
  {
   "cell_type": "code",
   "execution_count": 34,
   "id": "sophisticated-supervisor",
   "metadata": {
    "execution": {
     "iopub.execute_input": "2022-02-25T00:31:12.818147Z",
     "iopub.status.busy": "2022-02-25T00:31:12.817680Z",
     "iopub.status.idle": "2022-02-25T00:31:12.819358Z",
     "shell.execute_reply": "2022-02-25T00:31:12.819724Z"
    },
    "papermill": {
     "duration": 0.033533,
     "end_time": "2022-02-25T00:31:12.819842",
     "exception": false,
     "start_time": "2022-02-25T00:31:12.786309",
     "status": "completed"
    },
    "tags": []
   },
   "outputs": [],
   "source": [
    "#hide\n",
    "# g['date'] = g.date.dt.dayofyear"
   ]
  },
  {
   "cell_type": "code",
   "execution_count": 35,
   "id": "inside-dubai",
   "metadata": {
    "execution": {
     "iopub.execute_input": "2022-02-25T00:31:12.877695Z",
     "iopub.status.busy": "2022-02-25T00:31:12.877206Z",
     "iopub.status.idle": "2022-02-25T00:31:12.880654Z",
     "shell.execute_reply": "2022-02-25T00:31:12.880270Z"
    },
    "papermill": {
     "duration": 0.033789,
     "end_time": "2022-02-25T00:31:12.880759",
     "exception": false,
     "start_time": "2022-02-25T00:31:12.846970",
     "status": "completed"
    },
    "tags": []
   },
   "outputs": [],
   "source": [
    "#hide\n",
    "# g = g.rename(columns= {'continent':'group','country':'name','cases':'value'})"
   ]
  },
  {
   "cell_type": "code",
   "execution_count": 36,
   "id": "fleet-motorcycle",
   "metadata": {
    "execution": {
     "iopub.execute_input": "2022-02-25T00:31:12.938900Z",
     "iopub.status.busy": "2022-02-25T00:31:12.938401Z",
     "iopub.status.idle": "2022-02-25T00:31:12.939986Z",
     "shell.execute_reply": "2022-02-25T00:31:12.940357Z"
    },
    "papermill": {
     "duration": 0.032254,
     "end_time": "2022-02-25T00:31:12.940484",
     "exception": false,
     "start_time": "2022-02-25T00:31:12.908230",
     "status": "completed"
    },
    "tags": []
   },
   "outputs": [],
   "source": [
    "#hide\n",
    "# cols = ['name','group','day','value']"
   ]
  },
  {
   "cell_type": "code",
   "execution_count": 37,
   "id": "continued-sleeping",
   "metadata": {
    "execution": {
     "iopub.execute_input": "2022-02-25T00:31:12.999020Z",
     "iopub.status.busy": "2022-02-25T00:31:12.998399Z",
     "iopub.status.idle": "2022-02-25T00:31:13.001874Z",
     "shell.execute_reply": "2022-02-25T00:31:13.002315Z"
    },
    "papermill": {
     "duration": 0.034814,
     "end_time": "2022-02-25T00:31:13.002466",
     "exception": false,
     "start_time": "2022-02-25T00:31:12.967652",
     "status": "completed"
    },
    "tags": []
   },
   "outputs": [],
   "source": [
    "#hide\n",
    "# g.rename(columns= {'date':'day'},inplace = True)"
   ]
  },
  {
   "cell_type": "code",
   "execution_count": 38,
   "id": "major-fight",
   "metadata": {
    "execution": {
     "iopub.execute_input": "2022-02-25T00:31:13.068353Z",
     "iopub.status.busy": "2022-02-25T00:31:13.067708Z",
     "iopub.status.idle": "2022-02-25T00:31:13.069981Z",
     "shell.execute_reply": "2022-02-25T00:31:13.069399Z"
    },
    "papermill": {
     "duration": 0.03647,
     "end_time": "2022-02-25T00:31:13.070108",
     "exception": false,
     "start_time": "2022-02-25T00:31:13.033638",
     "status": "completed"
    },
    "tags": []
   },
   "outputs": [],
   "source": [
    "#hide\n",
    "# g = g[cols]"
   ]
  },
  {
   "cell_type": "code",
   "execution_count": 39,
   "id": "structured-mobile",
   "metadata": {
    "execution": {
     "iopub.execute_input": "2022-02-25T00:31:13.129273Z",
     "iopub.status.busy": "2022-02-25T00:31:13.128781Z",
     "iopub.status.idle": "2022-02-25T00:31:13.132176Z",
     "shell.execute_reply": "2022-02-25T00:31:13.131777Z"
    },
    "papermill": {
     "duration": 0.033723,
     "end_time": "2022-02-25T00:31:13.132285",
     "exception": false,
     "start_time": "2022-02-25T00:31:13.098562",
     "status": "completed"
    },
    "tags": []
   },
   "outputs": [],
   "source": [
    "# #hide\n",
    "# g = g[g.group.notna()]"
   ]
  },
  {
   "cell_type": "code",
   "execution_count": 40,
   "id": "determined-closing",
   "metadata": {
    "execution": {
     "iopub.execute_input": "2022-02-25T00:31:13.190636Z",
     "iopub.status.busy": "2022-02-25T00:31:13.190107Z",
     "iopub.status.idle": "2022-02-25T00:31:13.191838Z",
     "shell.execute_reply": "2022-02-25T00:31:13.191375Z"
    },
    "papermill": {
     "duration": 0.032305,
     "end_time": "2022-02-25T00:31:13.191943",
     "exception": false,
     "start_time": "2022-02-25T00:31:13.159638",
     "status": "completed"
    },
    "tags": []
   },
   "outputs": [],
   "source": [
    "# #hide\n",
    "# colors = dict(zip(\n",
    "#     [\"Oceania\", \"Europe\", \"Asia\", \"South America\", \"Middle East\", \"North America\", \"Africa\"],\n",
    "#     [\"#adb0ff\", \"#ffb3ff\", \"#90d595\", \"#e48381\", \"#aafbff\", \"#f7bb5f\", \"#eafb50\"]\n",
    "# ))\n",
    "# group_lk = g.set_index('name')['group'].to_dict()"
   ]
  },
  {
   "cell_type": "code",
   "execution_count": null,
   "id": "gross-drinking",
   "metadata": {
    "papermill": {
     "duration": 0.027205,
     "end_time": "2022-02-25T00:31:13.246546",
     "exception": false,
     "start_time": "2022-02-25T00:31:13.219341",
     "status": "completed"
    },
    "tags": []
   },
   "outputs": [],
   "source": []
  },
  {
   "cell_type": "code",
   "execution_count": 41,
   "id": "subject-macintosh",
   "metadata": {
    "execution": {
     "iopub.execute_input": "2022-02-25T00:31:13.310170Z",
     "iopub.status.busy": "2022-02-25T00:31:13.309660Z",
     "iopub.status.idle": "2022-02-25T00:31:13.311942Z",
     "shell.execute_reply": "2022-02-25T00:31:13.311564Z"
    },
    "papermill": {
     "duration": 0.033537,
     "end_time": "2022-02-25T00:31:13.312049",
     "exception": false,
     "start_time": "2022-02-25T00:31:13.278512",
     "status": "completed"
    },
    "tags": []
   },
   "outputs": [],
   "source": [
    "# #hide\n",
    "# fig, ax = plt.subplots(figsize=(15, 8))\n",
    "\n",
    "# def draw_barchart(current_day):\n",
    "#     dff = g[g['day'].eq(current_day)].sort_values(by='value', ascending=True).tail(10)\n",
    "#     ax.clear()\n",
    "#     ax.barh(dff['name'], dff['value'], color=[colors[group_lk[x]] for x in dff['name']])\n",
    "#     dx = dff['value'].max() / 200\n",
    "    \n",
    "#     for i, (value, name) in enumerate(zip(dff['value'], dff['name'])):\n",
    "#         ax.text(value-dx, i,     name,           size=14, weight=600, ha='right', va='bottom')\n",
    "#         ax.text(value-dx, i-.25, group_lk[name], size=10, color='#444444', ha='right', va='baseline')\n",
    "#         ax.text(value+dx, i,     f'{value:,.0f}',  size=14, ha='left',  va='center')\n",
    "#     ax.text(1, 0.4, current_day, transform=ax.transAxes, color='#777777', size=46, ha='right', weight=800)\n",
    "#     ax.text(0, 1.06, 'Population (thousands)', transform=ax.transAxes, size=12, color='#777777')\n",
    "#     ax.xaxis.set_major_formatter(ticker.StrMethodFormatter('{x:,.0f}'))\n",
    "#     ax.xaxis.set_ticks_position('top')\n",
    "#     ax.tick_params(axis='x', colors='#777777', labelsize=12)\n",
    "#     ax.set_yticks([])\n",
    "#     ax.margins(0, 0.01)\n",
    "#     ax.grid(which='major', axis='x', linestyle='-')\n",
    "#     ax.set_axisbelow(True)\n",
    "    \n",
    "#     ax.text(0, 1.15, 'Coronavirus',\n",
    "#             transform=ax.transAxes, size=24, weight=600, ha='left', va='top')\n",
    "# #     ax.text(1, 0, 'by @pratapvardhan; credit @jburnmurdoch', transform=ax.transAxes, color='#777777', ha='right',\n",
    "# #             bbox=dict(facecolor='white', alpha=0.8, edgecolor='white'))\n",
    "#     plt.box(False)"
   ]
  },
  {
   "cell_type": "code",
   "execution_count": 42,
   "id": "sexual-wages",
   "metadata": {
    "execution": {
     "iopub.execute_input": "2022-02-25T00:31:13.370071Z",
     "iopub.status.busy": "2022-02-25T00:31:13.369553Z",
     "iopub.status.idle": "2022-02-25T00:31:13.371228Z",
     "shell.execute_reply": "2022-02-25T00:31:13.370775Z"
    },
    "papermill": {
     "duration": 0.03195,
     "end_time": "2022-02-25T00:31:13.371335",
     "exception": false,
     "start_time": "2022-02-25T00:31:13.339385",
     "status": "completed"
    },
    "tags": []
   },
   "outputs": [],
   "source": [
    "# #hide_input\n",
    "# fig, ax = plt.subplots(figsize=(15, 8))\n",
    "# animator = animation.FuncAnimation(fig, draw_barchart, frames=range(g.day.values.min(), g.day.values.max()))\n",
    "# HTML(animator.to_jshtml())\n",
    "# # or use animator.to_html5_video() or animator.save() "
   ]
  },
  {
   "cell_type": "code",
   "execution_count": null,
   "id": "australian-container",
   "metadata": {
    "papermill": {
     "duration": 0.028084,
     "end_time": "2022-02-25T00:31:13.426790",
     "exception": false,
     "start_time": "2022-02-25T00:31:13.398706",
     "status": "completed"
    },
    "tags": []
   },
   "outputs": [],
   "source": []
  },
  {
   "cell_type": "code",
   "execution_count": null,
   "id": "mediterranean-pontiac",
   "metadata": {
    "papermill": {
     "duration": 0.027067,
     "end_time": "2022-02-25T00:31:13.480994",
     "exception": false,
     "start_time": "2022-02-25T00:31:13.453927",
     "status": "completed"
    },
    "tags": []
   },
   "outputs": [],
   "source": []
  },
  {
   "cell_type": "code",
   "execution_count": null,
   "id": "aging-legislature",
   "metadata": {
    "papermill": {
     "duration": 0.027064,
     "end_time": "2022-02-25T00:31:13.535402",
     "exception": false,
     "start_time": "2022-02-25T00:31:13.508338",
     "status": "completed"
    },
    "tags": []
   },
   "outputs": [],
   "source": []
  }
 ],
 "metadata": {
  "kernelspec": {
   "display_name": "Python 3",
   "language": "python",
   "name": "python3"
  },
  "language_info": {
   "codemirror_mode": {
    "name": "ipython",
    "version": 3
   },
   "file_extension": ".py",
   "mimetype": "text/x-python",
   "name": "python",
   "nbconvert_exporter": "python",
   "pygments_lexer": "ipython3",
   "version": "3.6.15"
  },
  "papermill": {
   "duration": 5.66957,
   "end_time": "2022-02-25T00:31:13.981527",
   "environment_variables": {},
   "exception": null,
   "input_path": "2020-03-21-covid19exp.ipynb",
   "output_path": "2020-03-21-covid19exp.ipynb",
   "parameters": {},
   "start_time": "2022-02-25T00:31:08.311957",
   "version": "2.0.0"
  }
 },
 "nbformat": 4,
 "nbformat_minor": 5
}