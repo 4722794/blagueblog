{
 "cells": [
  {
   "cell_type": "markdown",
   "id": "muslim-click",
   "metadata": {
    "papermill": {
     "duration": 0.035674,
     "end_time": "2022-07-19T00:51:46.723271",
     "exception": false,
     "start_time": "2022-07-19T00:51:46.687597",
     "status": "completed"
    },
    "tags": []
   },
   "source": [
    "# COVID-19 Case Race\n",
    "> A race chart to see rising cases around the world\n",
    "\n",
    "- author: Hargun Oberoi\n",
    "- image: images/covid-overview.png\n",
    "- hide: false\n",
    "- badges: false"
   ]
  },
  {
   "cell_type": "code",
   "execution_count": 1,
   "id": "proof-material",
   "metadata": {
    "execution": {
     "iopub.execute_input": "2022-07-19T00:51:46.786641Z",
     "iopub.status.busy": "2022-07-19T00:51:46.785980Z",
     "iopub.status.idle": "2022-07-19T00:51:47.133494Z",
     "shell.execute_reply": "2022-07-19T00:51:47.132921Z"
    },
    "papermill": {
     "duration": 0.379983,
     "end_time": "2022-07-19T00:51:47.133645",
     "exception": false,
     "start_time": "2022-07-19T00:51:46.753662",
     "status": "completed"
    },
    "tags": []
   },
   "outputs": [],
   "source": [
    "#hide\n",
    "import numpy as np\n",
    "import pandas as pd\n",
    "from jinja2 import Template\n",
    "from IPython.display import HTML"
   ]
  },
  {
   "cell_type": "code",
   "execution_count": 2,
   "id": "developed-terminology",
   "metadata": {
    "execution": {
     "iopub.execute_input": "2022-07-19T00:51:47.200225Z",
     "iopub.status.busy": "2022-07-19T00:51:47.199546Z",
     "iopub.status.idle": "2022-07-19T00:51:47.202184Z",
     "shell.execute_reply": "2022-07-19T00:51:47.201693Z"
    },
    "papermill": {
     "duration": 0.037464,
     "end_time": "2022-07-19T00:51:47.202302",
     "exception": false,
     "start_time": "2022-07-19T00:51:47.164838",
     "status": "completed"
    },
    "tags": []
   },
   "outputs": [],
   "source": [
    "#hide\n",
    "\n",
    "# FETCH\n",
    "base_url = 'https://raw.githubusercontent.com/pratapvardhan/notebooks/master/covid19/'\n",
    "paths = {\n",
    "    'mapping': base_url + 'mapping_countries.csv',\n",
    "    'overview': base_url + 'overview.tpl'\n",
    "}"
   ]
  },
  {
   "cell_type": "code",
   "execution_count": 3,
   "id": "dynamic-saver",
   "metadata": {
    "execution": {
     "iopub.execute_input": "2022-07-19T00:51:47.272065Z",
     "iopub.status.busy": "2022-07-19T00:51:47.271455Z",
     "iopub.status.idle": "2022-07-19T00:51:47.275161Z",
     "shell.execute_reply": "2022-07-19T00:51:47.274675Z"
    },
    "papermill": {
     "duration": 0.043482,
     "end_time": "2022-07-19T00:51:47.275280",
     "exception": false,
     "start_time": "2022-07-19T00:51:47.231798",
     "status": "completed"
    },
    "tags": []
   },
   "outputs": [
    {
     "data": {
      "text/plain": [
       "'https://raw.githubusercontent.com/pratapvardhan/notebooks/master/covid19/mapping_countries.csv'"
      ]
     },
     "execution_count": 3,
     "metadata": {},
     "output_type": "execute_result"
    }
   ],
   "source": [
    "#hide\n",
    "paths['mapping']"
   ]
  },
  {
   "cell_type": "code",
   "execution_count": 4,
   "id": "urban-software",
   "metadata": {
    "execution": {
     "iopub.execute_input": "2022-07-19T00:51:47.340525Z",
     "iopub.status.busy": "2022-07-19T00:51:47.339894Z",
     "iopub.status.idle": "2022-07-19T00:51:47.342393Z",
     "shell.execute_reply": "2022-07-19T00:51:47.342964Z"
    },
    "papermill": {
     "duration": 0.038008,
     "end_time": "2022-07-19T00:51:47.343100",
     "exception": false,
     "start_time": "2022-07-19T00:51:47.305092",
     "status": "completed"
    },
    "tags": []
   },
   "outputs": [],
   "source": [
    "#hide\n",
    "def get_mappings(url):\n",
    "    df = pd.read_csv(url)\n",
    "    return {\n",
    "        'df': df,\n",
    "        'replace.country': dict(df.dropna(subset=['Name']).set_index('Country')['Name']),\n",
    "        'map.continent': dict(df.set_index('Name')['Continent'])\n",
    "    }"
   ]
  },
  {
   "cell_type": "code",
   "execution_count": 5,
   "id": "intimate-machinery",
   "metadata": {
    "execution": {
     "iopub.execute_input": "2022-07-19T00:51:47.407834Z",
     "iopub.status.busy": "2022-07-19T00:51:47.407227Z",
     "iopub.status.idle": "2022-07-19T00:51:47.434673Z",
     "shell.execute_reply": "2022-07-19T00:51:47.434168Z"
    },
    "papermill": {
     "duration": 0.062189,
     "end_time": "2022-07-19T00:51:47.434793",
     "exception": false,
     "start_time": "2022-07-19T00:51:47.372604",
     "status": "completed"
    },
    "tags": []
   },
   "outputs": [],
   "source": [
    "#hide\n",
    "mapping = get_mappings(paths['mapping'])"
   ]
  },
  {
   "cell_type": "code",
   "execution_count": 6,
   "id": "certified-tactics",
   "metadata": {
    "execution": {
     "iopub.execute_input": "2022-07-19T00:51:47.499873Z",
     "iopub.status.busy": "2022-07-19T00:51:47.499239Z",
     "iopub.status.idle": "2022-07-19T00:51:47.502027Z",
     "shell.execute_reply": "2022-07-19T00:51:47.501533Z"
    },
    "papermill": {
     "duration": 0.03757,
     "end_time": "2022-07-19T00:51:47.502144",
     "exception": false,
     "start_time": "2022-07-19T00:51:47.464574",
     "status": "completed"
    },
    "tags": []
   },
   "outputs": [],
   "source": [
    "#hide\n",
    "def get_template(path):\n",
    "    from urllib.parse import urlparse\n",
    "    if bool(urlparse(path).netloc):\n",
    "        from urllib.request import urlopen\n",
    "        return urlopen(path).read().decode('utf8')\n",
    "    return open(path).read()"
   ]
  },
  {
   "cell_type": "code",
   "execution_count": 7,
   "id": "realistic-blast",
   "metadata": {
    "execution": {
     "iopub.execute_input": "2022-07-19T00:51:47.567464Z",
     "iopub.status.busy": "2022-07-19T00:51:47.566744Z",
     "iopub.status.idle": "2022-07-19T00:51:47.569192Z",
     "shell.execute_reply": "2022-07-19T00:51:47.568594Z"
    },
    "papermill": {
     "duration": 0.037458,
     "end_time": "2022-07-19T00:51:47.569310",
     "exception": false,
     "start_time": "2022-07-19T00:51:47.531852",
     "status": "completed"
    },
    "tags": []
   },
   "outputs": [],
   "source": [
    "#hide\n",
    "def get_frame(name):\n",
    "    url = (\n",
    "        'https://raw.githubusercontent.com/CSSEGISandData/COVID-19/master/csse_covid_19_data/'\n",
    "        f'csse_covid_19_time_series/time_series_covid19_{name}_global.csv')\n",
    "    df = pd.read_csv(url)\n",
    "    # rename countries\n",
    "    df['Country/Region'] = df['Country/Region'].replace(mapping['replace.country'])\n",
    "    return df"
   ]
  },
  {
   "cell_type": "code",
   "execution_count": 8,
   "id": "affiliated-characterization",
   "metadata": {
    "execution": {
     "iopub.execute_input": "2022-07-19T00:51:47.635907Z",
     "iopub.status.busy": "2022-07-19T00:51:47.635180Z",
     "iopub.status.idle": "2022-07-19T00:51:47.637869Z",
     "shell.execute_reply": "2022-07-19T00:51:47.637321Z"
    },
    "papermill": {
     "duration": 0.038812,
     "end_time": "2022-07-19T00:51:47.637999",
     "exception": false,
     "start_time": "2022-07-19T00:51:47.599187",
     "status": "completed"
    },
    "tags": []
   },
   "outputs": [],
   "source": [
    "#hide\n",
    "def get_dates(df):\n",
    "    dt_cols = df.columns[~df.columns.isin(['Province/State', 'Country/Region', 'Lat', 'Long'])]\n",
    "    LAST_DATE_I = -1\n",
    "    # sometimes last column may be empty, then go backwards\n",
    "    for i in range(-1, -len(dt_cols), -1):\n",
    "        if not df[dt_cols[i]].fillna(0).eq(0).all():\n",
    "            LAST_DATE_I = i\n",
    "            break\n",
    "    return LAST_DATE_I, dt_cols"
   ]
  },
  {
   "cell_type": "code",
   "execution_count": 9,
   "id": "recent-optimization",
   "metadata": {
    "execution": {
     "iopub.execute_input": "2022-07-19T00:51:47.708010Z",
     "iopub.status.busy": "2022-07-19T00:51:47.707388Z",
     "iopub.status.idle": "2022-07-19T00:51:48.068151Z",
     "shell.execute_reply": "2022-07-19T00:51:48.068742Z"
    },
    "papermill": {
     "duration": 0.40104,
     "end_time": "2022-07-19T00:51:48.068910",
     "exception": false,
     "start_time": "2022-07-19T00:51:47.667870",
     "status": "completed"
    },
    "tags": []
   },
   "outputs": [],
   "source": [
    "#hide\n",
    "COL_REGION = 'Country/Region'\n",
    "# Confirmed, Recovered, Deaths\n",
    "df = get_frame('confirmed')\n",
    "# dft_: timeseries, dfc_: today country agg\n",
    "dft_cases = df\n",
    "dft_deaths = get_frame('deaths')\n",
    "dft_recovered = get_frame('recovered')\n",
    "LAST_DATE_I, dt_cols = get_dates(df)"
   ]
  },
  {
   "cell_type": "code",
   "execution_count": 10,
   "id": "absolute-copper",
   "metadata": {
    "execution": {
     "iopub.execute_input": "2022-07-19T00:51:48.135757Z",
     "iopub.status.busy": "2022-07-19T00:51:48.135011Z",
     "iopub.status.idle": "2022-07-19T00:51:48.136850Z",
     "shell.execute_reply": "2022-07-19T00:51:48.137334Z"
    },
    "papermill": {
     "duration": 0.038383,
     "end_time": "2022-07-19T00:51:48.137477",
     "exception": false,
     "start_time": "2022-07-19T00:51:48.099094",
     "status": "completed"
    },
    "tags": []
   },
   "outputs": [],
   "source": [
    "#hide\n",
    "LAST_DATE_I, dt_cols = get_dates(df)\n",
    "dt_today =dt_cols[LAST_DATE_I]\n",
    "# dt_5day = dt_cols[LAST_DATE_I - 5]\n",
    "dt_yday = dt_cols[LAST_DATE_I - 1]"
   ]
  },
  {
   "cell_type": "code",
   "execution_count": 11,
   "id": "restricted-sheriff",
   "metadata": {
    "execution": {
     "iopub.execute_input": "2022-07-19T00:51:48.208780Z",
     "iopub.status.busy": "2022-07-19T00:51:48.208147Z",
     "iopub.status.idle": "2022-07-19T00:51:48.214068Z",
     "shell.execute_reply": "2022-07-19T00:51:48.214556Z"
    },
    "papermill": {
     "duration": 0.047499,
     "end_time": "2022-07-19T00:51:48.214698",
     "exception": false,
     "start_time": "2022-07-19T00:51:48.167199",
     "status": "completed"
    },
    "tags": []
   },
   "outputs": [],
   "source": [
    "#hide\n",
    "dfc_cases = dft_cases.groupby(COL_REGION)[dt_today].sum()\n",
    "dfc_deaths = dft_deaths.groupby(COL_REGION)[dt_today].sum()\n",
    "# dfp_cases = dft_cases.groupby(COL_REGION)[dt_5day].sum()\n",
    "# dfp_deaths = dft_deaths.groupby(COL_REGION)[dt_5day].sum()\n",
    "dfp_cases = dft_cases.groupby(COL_REGION)[dt_yday].sum()\n",
    "dfp_deaths = dft_deaths.groupby(COL_REGION)[dt_yday].sum()"
   ]
  },
  {
   "cell_type": "code",
   "execution_count": 12,
   "id": "deluxe-hepatitis",
   "metadata": {
    "execution": {
     "iopub.execute_input": "2022-07-19T00:51:48.280103Z",
     "iopub.status.busy": "2022-07-19T00:51:48.279503Z",
     "iopub.status.idle": "2022-07-19T00:51:48.284390Z",
     "shell.execute_reply": "2022-07-19T00:51:48.284963Z"
    },
    "papermill": {
     "duration": 0.040559,
     "end_time": "2022-07-19T00:51:48.285098",
     "exception": false,
     "start_time": "2022-07-19T00:51:48.244539",
     "status": "completed"
    },
    "tags": []
   },
   "outputs": [],
   "source": [
    "#hide\n",
    "df_table = (pd.DataFrame(dict(Cases = dfc_cases, Deaths = dfc_deaths, PCases = dfp_cases, PDeaths = dfp_deaths))\n",
    "            .sort_values(by = ['Cases','Deaths'], ascending = [False, False])\n",
    "            .reset_index())"
   ]
  },
  {
   "cell_type": "code",
   "execution_count": 13,
   "id": "educational-chancellor",
   "metadata": {
    "execution": {
     "iopub.execute_input": "2022-07-19T00:51:48.363421Z",
     "iopub.status.busy": "2022-07-19T00:51:48.362791Z",
     "iopub.status.idle": "2022-07-19T00:51:48.370731Z",
     "shell.execute_reply": "2022-07-19T00:51:48.371291Z"
    },
    "papermill": {
     "duration": 0.056839,
     "end_time": "2022-07-19T00:51:48.371441",
     "exception": false,
     "start_time": "2022-07-19T00:51:48.314602",
     "status": "completed"
    },
    "tags": []
   },
   "outputs": [
    {
     "data": {
      "text/html": [
       "<div>\n",
       "<style scoped>\n",
       "    .dataframe tbody tr th:only-of-type {\n",
       "        vertical-align: middle;\n",
       "    }\n",
       "\n",
       "    .dataframe tbody tr th {\n",
       "        vertical-align: top;\n",
       "    }\n",
       "\n",
       "    .dataframe thead th {\n",
       "        text-align: right;\n",
       "    }\n",
       "</style>\n",
       "<table border=\"1\" class=\"dataframe\">\n",
       "  <thead>\n",
       "    <tr style=\"text-align: right;\">\n",
       "      <th></th>\n",
       "      <th>Country/Region</th>\n",
       "      <th>Cases</th>\n",
       "      <th>Deaths</th>\n",
       "      <th>PCases</th>\n",
       "      <th>PDeaths</th>\n",
       "      <th>Cases (+)</th>\n",
       "      <th>Deaths (+)</th>\n",
       "      <th>Fatality Rate</th>\n",
       "      <th>Continent</th>\n",
       "    </tr>\n",
       "  </thead>\n",
       "  <tbody>\n",
       "    <tr>\n",
       "      <th>0</th>\n",
       "      <td>US</td>\n",
       "      <td>89547884</td>\n",
       "      <td>1023829</td>\n",
       "      <td>89521016</td>\n",
       "      <td>1023788</td>\n",
       "      <td>26868</td>\n",
       "      <td>41</td>\n",
       "      <td>1.14</td>\n",
       "      <td>North America</td>\n",
       "    </tr>\n",
       "    <tr>\n",
       "      <th>1</th>\n",
       "      <td>India</td>\n",
       "      <td>43767534</td>\n",
       "      <td>525760</td>\n",
       "      <td>43750599</td>\n",
       "      <td>525709</td>\n",
       "      <td>16935</td>\n",
       "      <td>51</td>\n",
       "      <td>1.20</td>\n",
       "      <td>Asia</td>\n",
       "    </tr>\n",
       "    <tr>\n",
       "      <th>2</th>\n",
       "      <td>Brazil</td>\n",
       "      <td>33301118</td>\n",
       "      <td>675350</td>\n",
       "      <td>33290266</td>\n",
       "      <td>675295</td>\n",
       "      <td>10852</td>\n",
       "      <td>55</td>\n",
       "      <td>2.03</td>\n",
       "      <td>South America</td>\n",
       "    </tr>\n",
       "    <tr>\n",
       "      <th>3</th>\n",
       "      <td>France</td>\n",
       "      <td>32881809</td>\n",
       "      <td>151454</td>\n",
       "      <td>32881809</td>\n",
       "      <td>151454</td>\n",
       "      <td>0</td>\n",
       "      <td>0</td>\n",
       "      <td>0.46</td>\n",
       "      <td>Europe</td>\n",
       "    </tr>\n",
       "    <tr>\n",
       "      <th>4</th>\n",
       "      <td>Germany</td>\n",
       "      <td>29692989</td>\n",
       "      <td>142533</td>\n",
       "      <td>29692989</td>\n",
       "      <td>142533</td>\n",
       "      <td>0</td>\n",
       "      <td>0</td>\n",
       "      <td>0.48</td>\n",
       "      <td>Europe</td>\n",
       "    </tr>\n",
       "  </tbody>\n",
       "</table>\n",
       "</div>"
      ],
      "text/plain": [
       "  Country/Region     Cases   Deaths    PCases  PDeaths  Cases (+)  Deaths (+)  \\\n",
       "0             US  89547884  1023829  89521016  1023788      26868          41   \n",
       "1          India  43767534   525760  43750599   525709      16935          51   \n",
       "2         Brazil  33301118   675350  33290266   675295      10852          55   \n",
       "3         France  32881809   151454  32881809   151454          0           0   \n",
       "4        Germany  29692989   142533  29692989   142533          0           0   \n",
       "\n",
       "   Fatality Rate      Continent  \n",
       "0           1.14  North America  \n",
       "1           1.20           Asia  \n",
       "2           2.03  South America  \n",
       "3           0.46         Europe  \n",
       "4           0.48         Europe  "
      ]
     },
     "execution_count": 13,
     "metadata": {},
     "output_type": "execute_result"
    }
   ],
   "source": [
    "#hide\n",
    "for c in 'Cases, Deaths'.split(', '):\n",
    "    df_table[f'{c} (+)'] = (df_table[c] - df_table[f'P{c}']).clip(0)\n",
    "    #Clip ça veut dire, les chiffres negatif sont interdit\n",
    "df_table['Fatality Rate'] = (100* df_table['Deaths']/ df_table['Cases']).round(2)\n",
    "df_table['Continent'] = df_table['Country/Region'].map(mapping['map.continent'])\n",
    "df_table.head(5)"
   ]
  },
  {
   "cell_type": "code",
   "execution_count": 14,
   "id": "aboriginal-bulgaria",
   "metadata": {
    "execution": {
     "iopub.execute_input": "2022-07-19T00:51:48.438014Z",
     "iopub.status.busy": "2022-07-19T00:51:48.437400Z",
     "iopub.status.idle": "2022-07-19T00:51:48.440750Z",
     "shell.execute_reply": "2022-07-19T00:51:48.441326Z"
    },
    "papermill": {
     "duration": 0.039477,
     "end_time": "2022-07-19T00:51:48.441465",
     "exception": false,
     "start_time": "2022-07-19T00:51:48.401988",
     "status": "completed"
    },
    "tags": []
   },
   "outputs": [],
   "source": [
    "#hide\n",
    "#delete problematic countries from table\n",
    "df_table = df_table[~df_table['Country/Region'].isin(['Cape Verde', 'Cruise Ship', 'Kosovo'])]"
   ]
  },
  {
   "cell_type": "code",
   "execution_count": 15,
   "id": "fantastic-effect",
   "metadata": {
    "execution": {
     "iopub.execute_input": "2022-07-19T00:51:48.510113Z",
     "iopub.status.busy": "2022-07-19T00:51:48.509494Z",
     "iopub.status.idle": "2022-07-19T00:51:48.527074Z",
     "shell.execute_reply": "2022-07-19T00:51:48.527577Z"
    },
    "papermill": {
     "duration": 0.056135,
     "end_time": "2022-07-19T00:51:48.527724",
     "exception": false,
     "start_time": "2022-07-19T00:51:48.471589",
     "status": "completed"
    },
    "tags": []
   },
   "outputs": [
    {
     "data": {
      "text/html": [
       "<div>\n",
       "<style scoped>\n",
       "    .dataframe tbody tr th:only-of-type {\n",
       "        vertical-align: middle;\n",
       "    }\n",
       "\n",
       "    .dataframe tbody tr th {\n",
       "        vertical-align: top;\n",
       "    }\n",
       "\n",
       "    .dataframe thead th {\n",
       "        text-align: right;\n",
       "    }\n",
       "</style>\n",
       "<table border=\"1\" class=\"dataframe\">\n",
       "  <thead>\n",
       "    <tr style=\"text-align: right;\">\n",
       "      <th></th>\n",
       "      <th>Country/Region</th>\n",
       "      <th>Cases</th>\n",
       "      <th>Deaths</th>\n",
       "      <th>PCases</th>\n",
       "      <th>PDeaths</th>\n",
       "      <th>Cases (+)</th>\n",
       "      <th>Deaths (+)</th>\n",
       "      <th>Fatality Rate</th>\n",
       "      <th>Continent</th>\n",
       "    </tr>\n",
       "  </thead>\n",
       "  <tbody>\n",
       "    <tr>\n",
       "      <th>0</th>\n",
       "      <td>US</td>\n",
       "      <td>89547884</td>\n",
       "      <td>1023829</td>\n",
       "      <td>89521016</td>\n",
       "      <td>1023788</td>\n",
       "      <td>26868</td>\n",
       "      <td>41</td>\n",
       "      <td>1.1</td>\n",
       "      <td>North America</td>\n",
       "    </tr>\n",
       "    <tr>\n",
       "      <th>1</th>\n",
       "      <td>India</td>\n",
       "      <td>43767534</td>\n",
       "      <td>525760</td>\n",
       "      <td>43750599</td>\n",
       "      <td>525709</td>\n",
       "      <td>16935</td>\n",
       "      <td>51</td>\n",
       "      <td>1.2</td>\n",
       "      <td>Asia</td>\n",
       "    </tr>\n",
       "    <tr>\n",
       "      <th>2</th>\n",
       "      <td>Brazil</td>\n",
       "      <td>33301118</td>\n",
       "      <td>675350</td>\n",
       "      <td>33290266</td>\n",
       "      <td>675295</td>\n",
       "      <td>10852</td>\n",
       "      <td>55</td>\n",
       "      <td>2.0</td>\n",
       "      <td>South America</td>\n",
       "    </tr>\n",
       "    <tr>\n",
       "      <th>3</th>\n",
       "      <td>France</td>\n",
       "      <td>32881809</td>\n",
       "      <td>151454</td>\n",
       "      <td>32881809</td>\n",
       "      <td>151454</td>\n",
       "      <td>0</td>\n",
       "      <td>0</td>\n",
       "      <td>0.5</td>\n",
       "      <td>Europe</td>\n",
       "    </tr>\n",
       "    <tr>\n",
       "      <th>4</th>\n",
       "      <td>Germany</td>\n",
       "      <td>29692989</td>\n",
       "      <td>142533</td>\n",
       "      <td>29692989</td>\n",
       "      <td>142533</td>\n",
       "      <td>0</td>\n",
       "      <td>0</td>\n",
       "      <td>0.5</td>\n",
       "      <td>Europe</td>\n",
       "    </tr>\n",
       "  </tbody>\n",
       "</table>\n",
       "</div>"
      ],
      "text/plain": [
       "  Country/Region     Cases   Deaths    PCases  PDeaths  Cases (+)  Deaths (+)  \\\n",
       "0             US  89547884  1023829  89521016  1023788      26868          41   \n",
       "1          India  43767534   525760  43750599   525709      16935          51   \n",
       "2         Brazil  33301118   675350  33290266   675295      10852          55   \n",
       "3         France  32881809   151454  32881809   151454          0           0   \n",
       "4        Germany  29692989   142533  29692989   142533          0           0   \n",
       "\n",
       "   Fatality Rate      Continent  \n",
       "0            1.1  North America  \n",
       "1            1.2           Asia  \n",
       "2            2.0  South America  \n",
       "3            0.5         Europe  \n",
       "4            0.5         Europe  "
      ]
     },
     "execution_count": 15,
     "metadata": {},
     "output_type": "execute_result"
    }
   ],
   "source": [
    "#hide\n",
    "df_table = (pd.DataFrame(dict(Cases=dfc_cases, Deaths=dfc_deaths, PCases=dfp_cases, PDeaths=dfp_deaths))\n",
    "             .sort_values(by=['Cases', 'Deaths'], ascending=[False, False])\n",
    "             .reset_index())\n",
    "df_table.rename(columns={'index': 'Country/Region'}, inplace=True)\n",
    "for c in 'Cases, Deaths'.split(', '):\n",
    "    df_table[f'{c} (+)'] = (df_table[c] - df_table[f'P{c}']).clip(0)  # DATA BUG\n",
    "df_table['Fatality Rate'] = (100 * df_table['Deaths'] / df_table['Cases']).round(1)\n",
    "df_table['Continent'] = df_table['Country/Region'].map(mapping['map.continent'])\n",
    "df_table.head(5)"
   ]
  },
  {
   "cell_type": "code",
   "execution_count": 16,
   "id": "fewer-occasion",
   "metadata": {
    "execution": {
     "iopub.execute_input": "2022-07-19T00:51:48.595838Z",
     "iopub.status.busy": "2022-07-19T00:51:48.595186Z",
     "iopub.status.idle": "2022-07-19T00:51:48.597856Z",
     "shell.execute_reply": "2022-07-19T00:51:48.597392Z"
    },
    "papermill": {
     "duration": 0.039316,
     "end_time": "2022-07-19T00:51:48.597977",
     "exception": false,
     "start_time": "2022-07-19T00:51:48.558661",
     "status": "completed"
    },
    "tags": []
   },
   "outputs": [],
   "source": [
    "#hide\n",
    "#delete problematic countries from table\n",
    "df_table = df_table[~df_table['Country/Region'].isin(['Cape Verde', 'Cruise Ship', 'Kosovo'])]"
   ]
  },
  {
   "cell_type": "code",
   "execution_count": 17,
   "id": "related-center",
   "metadata": {
    "execution": {
     "iopub.execute_input": "2022-07-19T00:51:48.670495Z",
     "iopub.status.busy": "2022-07-19T00:51:48.669857Z",
     "iopub.status.idle": "2022-07-19T00:51:48.679623Z",
     "shell.execute_reply": "2022-07-19T00:51:48.680210Z"
    },
    "papermill": {
     "duration": 0.051654,
     "end_time": "2022-07-19T00:51:48.680360",
     "exception": false,
     "start_time": "2022-07-19T00:51:48.628706",
     "status": "completed"
    },
    "tags": []
   },
   "outputs": [],
   "source": [
    "#hide\n",
    "metrics = [df_table.columns[index] for index in [1,2,5,6]]\n",
    "# s_china = df_table[df_table['Country/Region'].eq('China')][metrics].sum().add_prefix('China ')\n",
    "s_us = df_table[df_table['Country/Region'].eq('US')][metrics].sum().add_prefix('US ')\n",
    "s_eu = df_table[df_table['Continent'].eq('Europe')][metrics].sum().add_prefix('EU ')\n",
    "s_ind = df_table[df_table['Country/Region'].eq('India')][metrics].sum().add_prefix('India ')\n",
    "summary = {'updated': pd.to_datetime(dt_today), 'since': pd.to_datetime(dt_yday)}\n",
    "summary = {'updated': pd.to_datetime(dt_today), 'since': pd.to_datetime(dt_yday)}\n",
    "summary = {**summary, **df_table[metrics].sum(), **s_ind, **s_us, **s_eu}"
   ]
  },
  {
   "cell_type": "code",
   "execution_count": 18,
   "id": "engaging-syndrome",
   "metadata": {
    "execution": {
     "iopub.execute_input": "2022-07-19T00:51:48.748439Z",
     "iopub.status.busy": "2022-07-19T00:51:48.747792Z",
     "iopub.status.idle": "2022-07-19T00:51:48.767914Z",
     "shell.execute_reply": "2022-07-19T00:51:48.767426Z"
    },
    "papermill": {
     "duration": 0.056628,
     "end_time": "2022-07-19T00:51:48.768041",
     "exception": false,
     "start_time": "2022-07-19T00:51:48.711413",
     "status": "completed"
    },
    "tags": []
   },
   "outputs": [],
   "source": [
    "#hide\n",
    "dft_ct_new_cases = dft_cases.groupby(COL_REGION)[dt_cols].sum().diff(axis=1).fillna(0).astype(int)"
   ]
  },
  {
   "cell_type": "code",
   "execution_count": 19,
   "id": "neutral-assignment",
   "metadata": {
    "execution": {
     "iopub.execute_input": "2022-07-19T00:51:48.837114Z",
     "iopub.status.busy": "2022-07-19T00:51:48.836501Z",
     "iopub.status.idle": "2022-07-19T00:51:48.838569Z",
     "shell.execute_reply": "2022-07-19T00:51:48.839143Z"
    },
    "papermill": {
     "duration": 0.04037,
     "end_time": "2022-07-19T00:51:48.839280",
     "exception": false,
     "start_time": "2022-07-19T00:51:48.798910",
     "status": "completed"
    },
    "tags": []
   },
   "outputs": [],
   "source": [
    "#hide\n",
    "everydaycases = dft_ct_new_cases.cumsum(axis=1)"
   ]
  },
  {
   "cell_type": "code",
   "execution_count": 20,
   "id": "parliamentary-calgary",
   "metadata": {
    "execution": {
     "iopub.execute_input": "2022-07-19T00:51:48.905880Z",
     "iopub.status.busy": "2022-07-19T00:51:48.905273Z",
     "iopub.status.idle": "2022-07-19T00:51:49.463776Z",
     "shell.execute_reply": "2022-07-19T00:51:49.464354Z"
    },
    "papermill": {
     "duration": 0.594242,
     "end_time": "2022-07-19T00:51:49.464521",
     "exception": false,
     "start_time": "2022-07-19T00:51:48.870279",
     "status": "completed"
    },
    "tags": []
   },
   "outputs": [],
   "source": [
    "#hide\n",
    "import pandas as pd\n",
    "import matplotlib.pyplot as plt\n",
    "import matplotlib.ticker as ticker\n",
    "import matplotlib.animation as animation\n",
    "from IPython.display import HTML"
   ]
  },
  {
   "cell_type": "code",
   "execution_count": 21,
   "id": "lasting-extraction",
   "metadata": {
    "execution": {
     "iopub.execute_input": "2022-07-19T00:51:49.533322Z",
     "iopub.status.busy": "2022-07-19T00:51:49.532703Z",
     "iopub.status.idle": "2022-07-19T00:51:49.539756Z",
     "shell.execute_reply": "2022-07-19T00:51:49.540219Z"
    },
    "papermill": {
     "duration": 0.045094,
     "end_time": "2022-07-19T00:51:49.540369",
     "exception": false,
     "start_time": "2022-07-19T00:51:49.495275",
     "status": "completed"
    },
    "tags": []
   },
   "outputs": [],
   "source": [
    "#hide\n",
    "t = everydaycases.stack()"
   ]
  },
  {
   "cell_type": "code",
   "execution_count": 22,
   "id": "premier-sleeve",
   "metadata": {
    "execution": {
     "iopub.execute_input": "2022-07-19T00:51:49.606858Z",
     "iopub.status.busy": "2022-07-19T00:51:49.606245Z",
     "iopub.status.idle": "2022-07-19T00:51:49.617612Z",
     "shell.execute_reply": "2022-07-19T00:51:49.618177Z"
    },
    "papermill": {
     "duration": 0.047199,
     "end_time": "2022-07-19T00:51:49.618319",
     "exception": false,
     "start_time": "2022-07-19T00:51:49.571120",
     "status": "completed"
    },
    "tags": []
   },
   "outputs": [],
   "source": [
    "#hide\n",
    "g = t.reset_index(['Country/Region'])"
   ]
  },
  {
   "cell_type": "code",
   "execution_count": 23,
   "id": "distributed-pittsburgh",
   "metadata": {
    "execution": {
     "iopub.execute_input": "2022-07-19T00:51:49.681787Z",
     "iopub.status.busy": "2022-07-19T00:51:49.681221Z",
     "iopub.status.idle": "2022-07-19T00:51:49.684355Z",
     "shell.execute_reply": "2022-07-19T00:51:49.684909Z"
    },
    "papermill": {
     "duration": 0.036246,
     "end_time": "2022-07-19T00:51:49.685032",
     "exception": false,
     "start_time": "2022-07-19T00:51:49.648786",
     "status": "completed"
    },
    "tags": []
   },
   "outputs": [],
   "source": [
    "#hide\n",
    "g.index.name = 'date'"
   ]
  },
  {
   "cell_type": "code",
   "execution_count": 24,
   "id": "naked-donor",
   "metadata": {
    "execution": {
     "iopub.execute_input": "2022-07-19T00:51:49.750027Z",
     "iopub.status.busy": "2022-07-19T00:51:49.749337Z",
     "iopub.status.idle": "2022-07-19T00:51:49.752260Z",
     "shell.execute_reply": "2022-07-19T00:51:49.751581Z"
    },
    "papermill": {
     "duration": 0.036833,
     "end_time": "2022-07-19T00:51:49.752390",
     "exception": false,
     "start_time": "2022-07-19T00:51:49.715557",
     "status": "completed"
    },
    "tags": []
   },
   "outputs": [],
   "source": [
    "# #hide\n",
    "# g = g.reset_index(['date'])"
   ]
  },
  {
   "cell_type": "code",
   "execution_count": 25,
   "id": "incomplete-mustang",
   "metadata": {
    "execution": {
     "iopub.execute_input": "2022-07-19T00:51:49.821452Z",
     "iopub.status.busy": "2022-07-19T00:51:49.820751Z",
     "iopub.status.idle": "2022-07-19T00:51:49.823466Z",
     "shell.execute_reply": "2022-07-19T00:51:49.822885Z"
    },
    "papermill": {
     "duration": 0.036551,
     "end_time": "2022-07-19T00:51:49.823593",
     "exception": false,
     "start_time": "2022-07-19T00:51:49.787042",
     "status": "completed"
    },
    "tags": []
   },
   "outputs": [],
   "source": [
    "#hide\n",
    "# g.head()"
   ]
  },
  {
   "cell_type": "code",
   "execution_count": 26,
   "id": "specific-kruger",
   "metadata": {
    "execution": {
     "iopub.execute_input": "2022-07-19T00:51:49.892992Z",
     "iopub.status.busy": "2022-07-19T00:51:49.892271Z",
     "iopub.status.idle": "2022-07-19T00:51:49.894009Z",
     "shell.execute_reply": "2022-07-19T00:51:49.893539Z"
    },
    "papermill": {
     "duration": 0.039634,
     "end_time": "2022-07-19T00:51:49.894122",
     "exception": false,
     "start_time": "2022-07-19T00:51:49.854488",
     "status": "completed"
    },
    "tags": []
   },
   "outputs": [],
   "source": [
    "#hide\n",
    "# g.columns = ['date','country','cases']"
   ]
  },
  {
   "cell_type": "code",
   "execution_count": 27,
   "id": "tender-conversion",
   "metadata": {
    "execution": {
     "iopub.execute_input": "2022-07-19T00:51:49.959181Z",
     "iopub.status.busy": "2022-07-19T00:51:49.958489Z",
     "iopub.status.idle": "2022-07-19T00:51:49.961193Z",
     "shell.execute_reply": "2022-07-19T00:51:49.960525Z"
    },
    "papermill": {
     "duration": 0.036881,
     "end_time": "2022-07-19T00:51:49.961321",
     "exception": false,
     "start_time": "2022-07-19T00:51:49.924440",
     "status": "completed"
    },
    "tags": []
   },
   "outputs": [],
   "source": [
    "#hide\n",
    "# g['continent'] = g.country"
   ]
  },
  {
   "cell_type": "code",
   "execution_count": 28,
   "id": "substantial-wilderness",
   "metadata": {
    "execution": {
     "iopub.execute_input": "2022-07-19T00:51:50.032022Z",
     "iopub.status.busy": "2022-07-19T00:51:50.031308Z",
     "iopub.status.idle": "2022-07-19T00:51:50.034083Z",
     "shell.execute_reply": "2022-07-19T00:51:50.033407Z"
    },
    "papermill": {
     "duration": 0.037357,
     "end_time": "2022-07-19T00:51:50.034213",
     "exception": false,
     "start_time": "2022-07-19T00:51:49.996856",
     "status": "completed"
    },
    "tags": []
   },
   "outputs": [],
   "source": [
    "#hide\n",
    "# cols = list(g.columns.values)"
   ]
  },
  {
   "cell_type": "code",
   "execution_count": 29,
   "id": "solved-farming",
   "metadata": {
    "execution": {
     "iopub.execute_input": "2022-07-19T00:51:50.104630Z",
     "iopub.status.busy": "2022-07-19T00:51:50.103965Z",
     "iopub.status.idle": "2022-07-19T00:51:50.106536Z",
     "shell.execute_reply": "2022-07-19T00:51:50.106052Z"
    },
    "papermill": {
     "duration": 0.041516,
     "end_time": "2022-07-19T00:51:50.106656",
     "exception": false,
     "start_time": "2022-07-19T00:51:50.065140",
     "status": "completed"
    },
    "tags": []
   },
   "outputs": [],
   "source": [
    "#hide\n",
    "# cols.insert(0, cols.pop())"
   ]
  },
  {
   "cell_type": "code",
   "execution_count": 30,
   "id": "executed-adoption",
   "metadata": {
    "execution": {
     "iopub.execute_input": "2022-07-19T00:51:50.171309Z",
     "iopub.status.busy": "2022-07-19T00:51:50.170705Z",
     "iopub.status.idle": "2022-07-19T00:51:50.173792Z",
     "shell.execute_reply": "2022-07-19T00:51:50.174372Z"
    },
    "papermill": {
     "duration": 0.037144,
     "end_time": "2022-07-19T00:51:50.174508",
     "exception": false,
     "start_time": "2022-07-19T00:51:50.137364",
     "status": "completed"
    },
    "tags": []
   },
   "outputs": [],
   "source": [
    "#hide\n",
    "# g = g[cols]"
   ]
  },
  {
   "cell_type": "code",
   "execution_count": 31,
   "id": "subject-dublin",
   "metadata": {
    "execution": {
     "iopub.execute_input": "2022-07-19T00:51:50.240452Z",
     "iopub.status.busy": "2022-07-19T00:51:50.239665Z",
     "iopub.status.idle": "2022-07-19T00:51:50.241945Z",
     "shell.execute_reply": "2022-07-19T00:51:50.242423Z"
    },
    "papermill": {
     "duration": 0.037501,
     "end_time": "2022-07-19T00:51:50.242563",
     "exception": false,
     "start_time": "2022-07-19T00:51:50.205062",
     "status": "completed"
    },
    "tags": []
   },
   "outputs": [],
   "source": [
    "#hide\n",
    "# g['continent'] = g['continent'].map(mapping['map.continent'])"
   ]
  },
  {
   "cell_type": "code",
   "execution_count": 32,
   "id": "freelance-scout",
   "metadata": {
    "execution": {
     "iopub.execute_input": "2022-07-19T00:51:50.311507Z",
     "iopub.status.busy": "2022-07-19T00:51:50.310906Z",
     "iopub.status.idle": "2022-07-19T00:51:50.313228Z",
     "shell.execute_reply": "2022-07-19T00:51:50.313659Z"
    },
    "papermill": {
     "duration": 0.037198,
     "end_time": "2022-07-19T00:51:50.313797",
     "exception": false,
     "start_time": "2022-07-19T00:51:50.276599",
     "status": "completed"
    },
    "tags": []
   },
   "outputs": [],
   "source": [
    "#hide\n",
    "# g.head()"
   ]
  },
  {
   "cell_type": "code",
   "execution_count": 33,
   "id": "limited-engine",
   "metadata": {
    "execution": {
     "iopub.execute_input": "2022-07-19T00:51:50.378327Z",
     "iopub.status.busy": "2022-07-19T00:51:50.377743Z",
     "iopub.status.idle": "2022-07-19T00:51:50.379635Z",
     "shell.execute_reply": "2022-07-19T00:51:50.380224Z"
    },
    "papermill": {
     "duration": 0.036316,
     "end_time": "2022-07-19T00:51:50.380361",
     "exception": false,
     "start_time": "2022-07-19T00:51:50.344045",
     "status": "completed"
    },
    "tags": []
   },
   "outputs": [],
   "source": [
    "# hide\n",
    "# g['date'] = g['date'].astype('datetime64[ns]')"
   ]
  },
  {
   "cell_type": "code",
   "execution_count": 34,
   "id": "sophisticated-supervisor",
   "metadata": {
    "execution": {
     "iopub.execute_input": "2022-07-19T00:51:50.446488Z",
     "iopub.status.busy": "2022-07-19T00:51:50.445773Z",
     "iopub.status.idle": "2022-07-19T00:51:50.447879Z",
     "shell.execute_reply": "2022-07-19T00:51:50.448337Z"
    },
    "papermill": {
     "duration": 0.037344,
     "end_time": "2022-07-19T00:51:50.448483",
     "exception": false,
     "start_time": "2022-07-19T00:51:50.411139",
     "status": "completed"
    },
    "tags": []
   },
   "outputs": [],
   "source": [
    "#hide\n",
    "# g['date'] = g.date.dt.dayofyear"
   ]
  },
  {
   "cell_type": "code",
   "execution_count": 35,
   "id": "inside-dubai",
   "metadata": {
    "execution": {
     "iopub.execute_input": "2022-07-19T00:51:50.517065Z",
     "iopub.status.busy": "2022-07-19T00:51:50.516445Z",
     "iopub.status.idle": "2022-07-19T00:51:50.519063Z",
     "shell.execute_reply": "2022-07-19T00:51:50.518478Z"
    },
    "papermill": {
     "duration": 0.036253,
     "end_time": "2022-07-19T00:51:50.519177",
     "exception": false,
     "start_time": "2022-07-19T00:51:50.482924",
     "status": "completed"
    },
    "tags": []
   },
   "outputs": [],
   "source": [
    "#hide\n",
    "# g = g.rename(columns= {'continent':'group','country':'name','cases':'value'})"
   ]
  },
  {
   "cell_type": "code",
   "execution_count": 36,
   "id": "fleet-motorcycle",
   "metadata": {
    "execution": {
     "iopub.execute_input": "2022-07-19T00:51:50.584975Z",
     "iopub.status.busy": "2022-07-19T00:51:50.584351Z",
     "iopub.status.idle": "2022-07-19T00:51:50.587123Z",
     "shell.execute_reply": "2022-07-19T00:51:50.587552Z"
    },
    "papermill": {
     "duration": 0.037907,
     "end_time": "2022-07-19T00:51:50.587687",
     "exception": false,
     "start_time": "2022-07-19T00:51:50.549780",
     "status": "completed"
    },
    "tags": []
   },
   "outputs": [],
   "source": [
    "#hide\n",
    "# cols = ['name','group','day','value']"
   ]
  },
  {
   "cell_type": "code",
   "execution_count": 37,
   "id": "continued-sleeping",
   "metadata": {
    "execution": {
     "iopub.execute_input": "2022-07-19T00:51:50.652531Z",
     "iopub.status.busy": "2022-07-19T00:51:50.651851Z",
     "iopub.status.idle": "2022-07-19T00:51:50.654048Z",
     "shell.execute_reply": "2022-07-19T00:51:50.654678Z"
    },
    "papermill": {
     "duration": 0.036767,
     "end_time": "2022-07-19T00:51:50.654820",
     "exception": false,
     "start_time": "2022-07-19T00:51:50.618053",
     "status": "completed"
    },
    "tags": []
   },
   "outputs": [],
   "source": [
    "#hide\n",
    "# g.rename(columns= {'date':'day'},inplace = True)"
   ]
  },
  {
   "cell_type": "code",
   "execution_count": 38,
   "id": "major-fight",
   "metadata": {
    "execution": {
     "iopub.execute_input": "2022-07-19T00:51:50.724437Z",
     "iopub.status.busy": "2022-07-19T00:51:50.723758Z",
     "iopub.status.idle": "2022-07-19T00:51:50.726051Z",
     "shell.execute_reply": "2022-07-19T00:51:50.726524Z"
    },
    "papermill": {
     "duration": 0.036903,
     "end_time": "2022-07-19T00:51:50.726669",
     "exception": false,
     "start_time": "2022-07-19T00:51:50.689766",
     "status": "completed"
    },
    "tags": []
   },
   "outputs": [],
   "source": [
    "#hide\n",
    "# g = g[cols]"
   ]
  },
  {
   "cell_type": "code",
   "execution_count": 39,
   "id": "structured-mobile",
   "metadata": {
    "execution": {
     "iopub.execute_input": "2022-07-19T00:51:50.792208Z",
     "iopub.status.busy": "2022-07-19T00:51:50.791582Z",
     "iopub.status.idle": "2022-07-19T00:51:50.794096Z",
     "shell.execute_reply": "2022-07-19T00:51:50.793617Z"
    },
    "papermill": {
     "duration": 0.036815,
     "end_time": "2022-07-19T00:51:50.794213",
     "exception": false,
     "start_time": "2022-07-19T00:51:50.757398",
     "status": "completed"
    },
    "tags": []
   },
   "outputs": [],
   "source": [
    "# #hide\n",
    "# g = g[g.group.notna()]"
   ]
  },
  {
   "cell_type": "code",
   "execution_count": 40,
   "id": "determined-closing",
   "metadata": {
    "execution": {
     "iopub.execute_input": "2022-07-19T00:51:50.859778Z",
     "iopub.status.busy": "2022-07-19T00:51:50.859060Z",
     "iopub.status.idle": "2022-07-19T00:51:50.861692Z",
     "shell.execute_reply": "2022-07-19T00:51:50.861018Z"
    },
    "papermill": {
     "duration": 0.036797,
     "end_time": "2022-07-19T00:51:50.861821",
     "exception": false,
     "start_time": "2022-07-19T00:51:50.825024",
     "status": "completed"
    },
    "tags": []
   },
   "outputs": [],
   "source": [
    "# #hide\n",
    "# colors = dict(zip(\n",
    "#     [\"Oceania\", \"Europe\", \"Asia\", \"South America\", \"Middle East\", \"North America\", \"Africa\"],\n",
    "#     [\"#adb0ff\", \"#ffb3ff\", \"#90d595\", \"#e48381\", \"#aafbff\", \"#f7bb5f\", \"#eafb50\"]\n",
    "# ))\n",
    "# group_lk = g.set_index('name')['group'].to_dict()"
   ]
  },
  {
   "cell_type": "code",
   "execution_count": null,
   "id": "gross-drinking",
   "metadata": {
    "papermill": {
     "duration": 0.030427,
     "end_time": "2022-07-19T00:51:50.923319",
     "exception": false,
     "start_time": "2022-07-19T00:51:50.892892",
     "status": "completed"
    },
    "tags": []
   },
   "outputs": [],
   "source": []
  },
  {
   "cell_type": "code",
   "execution_count": 41,
   "id": "subject-macintosh",
   "metadata": {
    "execution": {
     "iopub.execute_input": "2022-07-19T00:51:50.989202Z",
     "iopub.status.busy": "2022-07-19T00:51:50.988432Z",
     "iopub.status.idle": "2022-07-19T00:51:50.991060Z",
     "shell.execute_reply": "2022-07-19T00:51:50.990578Z"
    },
    "papermill": {
     "duration": 0.037374,
     "end_time": "2022-07-19T00:51:50.991174",
     "exception": false,
     "start_time": "2022-07-19T00:51:50.953800",
     "status": "completed"
    },
    "tags": []
   },
   "outputs": [],
   "source": [
    "# #hide\n",
    "# fig, ax = plt.subplots(figsize=(15, 8))\n",
    "\n",
    "# def draw_barchart(current_day):\n",
    "#     dff = g[g['day'].eq(current_day)].sort_values(by='value', ascending=True).tail(10)\n",
    "#     ax.clear()\n",
    "#     ax.barh(dff['name'], dff['value'], color=[colors[group_lk[x]] for x in dff['name']])\n",
    "#     dx = dff['value'].max() / 200\n",
    "    \n",
    "#     for i, (value, name) in enumerate(zip(dff['value'], dff['name'])):\n",
    "#         ax.text(value-dx, i,     name,           size=14, weight=600, ha='right', va='bottom')\n",
    "#         ax.text(value-dx, i-.25, group_lk[name], size=10, color='#444444', ha='right', va='baseline')\n",
    "#         ax.text(value+dx, i,     f'{value:,.0f}',  size=14, ha='left',  va='center')\n",
    "#     ax.text(1, 0.4, current_day, transform=ax.transAxes, color='#777777', size=46, ha='right', weight=800)\n",
    "#     ax.text(0, 1.06, 'Population (thousands)', transform=ax.transAxes, size=12, color='#777777')\n",
    "#     ax.xaxis.set_major_formatter(ticker.StrMethodFormatter('{x:,.0f}'))\n",
    "#     ax.xaxis.set_ticks_position('top')\n",
    "#     ax.tick_params(axis='x', colors='#777777', labelsize=12)\n",
    "#     ax.set_yticks([])\n",
    "#     ax.margins(0, 0.01)\n",
    "#     ax.grid(which='major', axis='x', linestyle='-')\n",
    "#     ax.set_axisbelow(True)\n",
    "    \n",
    "#     ax.text(0, 1.15, 'Coronavirus',\n",
    "#             transform=ax.transAxes, size=24, weight=600, ha='left', va='top')\n",
    "# #     ax.text(1, 0, 'by @pratapvardhan; credit @jburnmurdoch', transform=ax.transAxes, color='#777777', ha='right',\n",
    "# #             bbox=dict(facecolor='white', alpha=0.8, edgecolor='white'))\n",
    "#     plt.box(False)"
   ]
  },
  {
   "cell_type": "code",
   "execution_count": 42,
   "id": "sexual-wages",
   "metadata": {
    "execution": {
     "iopub.execute_input": "2022-07-19T00:51:51.057106Z",
     "iopub.status.busy": "2022-07-19T00:51:51.055935Z",
     "iopub.status.idle": "2022-07-19T00:51:51.060089Z",
     "shell.execute_reply": "2022-07-19T00:51:51.060567Z"
    },
    "papermill": {
     "duration": 0.039148,
     "end_time": "2022-07-19T00:51:51.060710",
     "exception": false,
     "start_time": "2022-07-19T00:51:51.021562",
     "status": "completed"
    },
    "tags": []
   },
   "outputs": [],
   "source": [
    "# #hide_input\n",
    "# fig, ax = plt.subplots(figsize=(15, 8))\n",
    "# animator = animation.FuncAnimation(fig, draw_barchart, frames=range(g.day.values.min(), g.day.values.max()))\n",
    "# HTML(animator.to_jshtml())\n",
    "# # or use animator.to_html5_video() or animator.save() "
   ]
  },
  {
   "cell_type": "code",
   "execution_count": null,
   "id": "australian-container",
   "metadata": {
    "papermill": {
     "duration": 0.030496,
     "end_time": "2022-07-19T00:51:51.126470",
     "exception": false,
     "start_time": "2022-07-19T00:51:51.095974",
     "status": "completed"
    },
    "tags": []
   },
   "outputs": [],
   "source": []
  },
  {
   "cell_type": "code",
   "execution_count": null,
   "id": "mediterranean-pontiac",
   "metadata": {
    "papermill": {
     "duration": 0.030326,
     "end_time": "2022-07-19T00:51:51.187743",
     "exception": false,
     "start_time": "2022-07-19T00:51:51.157417",
     "status": "completed"
    },
    "tags": []
   },
   "outputs": [],
   "source": []
  },
  {
   "cell_type": "code",
   "execution_count": null,
   "id": "aging-legislature",
   "metadata": {
    "papermill": {
     "duration": 0.030679,
     "end_time": "2022-07-19T00:51:51.249291",
     "exception": false,
     "start_time": "2022-07-19T00:51:51.218612",
     "status": "completed"
    },
    "tags": []
   },
   "outputs": [],
   "source": []
  }
 ],
 "metadata": {
  "kernelspec": {
   "display_name": "Python 3",
   "language": "python",
   "name": "python3"
  },
  "language_info": {
   "codemirror_mode": {
    "name": "ipython",
    "version": 3
   },
   "file_extension": ".py",
   "mimetype": "text/x-python",
   "name": "python",
   "nbconvert_exporter": "python",
   "pygments_lexer": "ipython3",
   "version": "3.6.15"
  },
  "papermill": {
   "duration": 6.050469,
   "end_time": "2022-07-19T00:51:51.598498",
   "environment_variables": {},
   "exception": null,
   "input_path": "2020-03-21-covid19exp.ipynb",
   "output_path": "2020-03-21-covid19exp.ipynb",
   "parameters": {},
   "start_time": "2022-07-19T00:51:45.548029",
   "version": "2.0.0"
  }
 },
 "nbformat": 4,
 "nbformat_minor": 5
}