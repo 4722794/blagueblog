{
 "cells": [
  {
   "cell_type": "markdown",
   "id": "muslim-click",
   "metadata": {
    "papermill": {
     "duration": 0.035138,
     "end_time": "2022-10-02T12:18:25.567730",
     "exception": false,
     "start_time": "2022-10-02T12:18:25.532592",
     "status": "completed"
    },
    "tags": []
   },
   "source": [
    "# COVID-19 Case Race\n",
    "> A race chart to see rising cases around the world\n",
    "\n",
    "- author: Hargun Oberoi\n",
    "- image: images/covid-overview.png\n",
    "- hide: false\n",
    "- badges: false"
   ]
  },
  {
   "cell_type": "code",
   "execution_count": 1,
   "id": "proof-material",
   "metadata": {
    "execution": {
     "iopub.execute_input": "2022-10-02T12:18:25.640596Z",
     "iopub.status.busy": "2022-10-02T12:18:25.640034Z",
     "iopub.status.idle": "2022-10-02T12:18:25.951145Z",
     "shell.execute_reply": "2022-10-02T12:18:25.950212Z"
    },
    "papermill": {
     "duration": 0.348663,
     "end_time": "2022-10-02T12:18:25.951304",
     "exception": false,
     "start_time": "2022-10-02T12:18:25.602641",
     "status": "completed"
    },
    "tags": []
   },
   "outputs": [],
   "source": [
    "#hide\n",
    "import numpy as np\n",
    "import pandas as pd\n",
    "from jinja2 import Template\n",
    "from IPython.display import HTML"
   ]
  },
  {
   "cell_type": "code",
   "execution_count": 2,
   "id": "developed-terminology",
   "metadata": {
    "execution": {
     "iopub.execute_input": "2022-10-02T12:18:26.016108Z",
     "iopub.status.busy": "2022-10-02T12:18:26.015537Z",
     "iopub.status.idle": "2022-10-02T12:18:26.017328Z",
     "shell.execute_reply": "2022-10-02T12:18:26.017752Z"
    },
    "papermill": {
     "duration": 0.036354,
     "end_time": "2022-10-02T12:18:26.017868",
     "exception": false,
     "start_time": "2022-10-02T12:18:25.981514",
     "status": "completed"
    },
    "tags": []
   },
   "outputs": [],
   "source": [
    "#hide\n",
    "\n",
    "# FETCH\n",
    "base_url = 'https://raw.githubusercontent.com/pratapvardhan/notebooks/master/covid19/'\n",
    "paths = {\n",
    "    'mapping': base_url + 'mapping_countries.csv',\n",
    "    'overview': base_url + 'overview.tpl'\n",
    "}"
   ]
  },
  {
   "cell_type": "code",
   "execution_count": 3,
   "id": "dynamic-saver",
   "metadata": {
    "execution": {
     "iopub.execute_input": "2022-10-02T12:18:26.086646Z",
     "iopub.status.busy": "2022-10-02T12:18:26.086085Z",
     "iopub.status.idle": "2022-10-02T12:18:26.089256Z",
     "shell.execute_reply": "2022-10-02T12:18:26.088723Z"
    },
    "papermill": {
     "duration": 0.04165,
     "end_time": "2022-10-02T12:18:26.089357",
     "exception": false,
     "start_time": "2022-10-02T12:18:26.047707",
     "status": "completed"
    },
    "tags": []
   },
   "outputs": [
    {
     "data": {
      "text/plain": [
       "'https://raw.githubusercontent.com/pratapvardhan/notebooks/master/covid19/mapping_countries.csv'"
      ]
     },
     "execution_count": 3,
     "metadata": {},
     "output_type": "execute_result"
    }
   ],
   "source": [
    "#hide\n",
    "paths['mapping']"
   ]
  },
  {
   "cell_type": "code",
   "execution_count": 4,
   "id": "urban-software",
   "metadata": {
    "execution": {
     "iopub.execute_input": "2022-10-02T12:18:26.154392Z",
     "iopub.status.busy": "2022-10-02T12:18:26.153832Z",
     "iopub.status.idle": "2022-10-02T12:18:26.156083Z",
     "shell.execute_reply": "2022-10-02T12:18:26.156495Z"
    },
    "papermill": {
     "duration": 0.037079,
     "end_time": "2022-10-02T12:18:26.156609",
     "exception": false,
     "start_time": "2022-10-02T12:18:26.119530",
     "status": "completed"
    },
    "tags": []
   },
   "outputs": [],
   "source": [
    "#hide\n",
    "def get_mappings(url):\n",
    "    df = pd.read_csv(url)\n",
    "    return {\n",
    "        'df': df,\n",
    "        'replace.country': dict(df.dropna(subset=['Name']).set_index('Country')['Name']),\n",
    "        'map.continent': dict(df.set_index('Name')['Continent'])\n",
    "    }"
   ]
  },
  {
   "cell_type": "code",
   "execution_count": 5,
   "id": "intimate-machinery",
   "metadata": {
    "execution": {
     "iopub.execute_input": "2022-10-02T12:18:26.222035Z",
     "iopub.status.busy": "2022-10-02T12:18:26.221466Z",
     "iopub.status.idle": "2022-10-02T12:18:26.281882Z",
     "shell.execute_reply": "2022-10-02T12:18:26.282315Z"
    },
    "papermill": {
     "duration": 0.095748,
     "end_time": "2022-10-02T12:18:26.282444",
     "exception": false,
     "start_time": "2022-10-02T12:18:26.186696",
     "status": "completed"
    },
    "tags": []
   },
   "outputs": [],
   "source": [
    "#hide\n",
    "mapping = get_mappings(paths['mapping'])"
   ]
  },
  {
   "cell_type": "code",
   "execution_count": 6,
   "id": "certified-tactics",
   "metadata": {
    "execution": {
     "iopub.execute_input": "2022-10-02T12:18:26.348139Z",
     "iopub.status.busy": "2022-10-02T12:18:26.347556Z",
     "iopub.status.idle": "2022-10-02T12:18:26.349832Z",
     "shell.execute_reply": "2022-10-02T12:18:26.349295Z"
    },
    "papermill": {
     "duration": 0.037181,
     "end_time": "2022-10-02T12:18:26.349935",
     "exception": false,
     "start_time": "2022-10-02T12:18:26.312754",
     "status": "completed"
    },
    "tags": []
   },
   "outputs": [],
   "source": [
    "#hide\n",
    "def get_template(path):\n",
    "    from urllib.parse import urlparse\n",
    "    if bool(urlparse(path).netloc):\n",
    "        from urllib.request import urlopen\n",
    "        return urlopen(path).read().decode('utf8')\n",
    "    return open(path).read()"
   ]
  },
  {
   "cell_type": "code",
   "execution_count": 7,
   "id": "realistic-blast",
   "metadata": {
    "execution": {
     "iopub.execute_input": "2022-10-02T12:18:26.419314Z",
     "iopub.status.busy": "2022-10-02T12:18:26.418718Z",
     "iopub.status.idle": "2022-10-02T12:18:26.421162Z",
     "shell.execute_reply": "2022-10-02T12:18:26.420719Z"
    },
    "papermill": {
     "duration": 0.036917,
     "end_time": "2022-10-02T12:18:26.421262",
     "exception": false,
     "start_time": "2022-10-02T12:18:26.384345",
     "status": "completed"
    },
    "tags": []
   },
   "outputs": [],
   "source": [
    "#hide\n",
    "def get_frame(name):\n",
    "    url = (\n",
    "        'https://raw.githubusercontent.com/CSSEGISandData/COVID-19/master/csse_covid_19_data/'\n",
    "        f'csse_covid_19_time_series/time_series_covid19_{name}_global.csv')\n",
    "    df = pd.read_csv(url)\n",
    "    # rename countries\n",
    "    df['Country/Region'] = df['Country/Region'].replace(mapping['replace.country'])\n",
    "    return df"
   ]
  },
  {
   "cell_type": "code",
   "execution_count": 8,
   "id": "affiliated-characterization",
   "metadata": {
    "execution": {
     "iopub.execute_input": "2022-10-02T12:18:26.492177Z",
     "iopub.status.busy": "2022-10-02T12:18:26.491609Z",
     "iopub.status.idle": "2022-10-02T12:18:26.494004Z",
     "shell.execute_reply": "2022-10-02T12:18:26.493564Z"
    },
    "papermill": {
     "duration": 0.042608,
     "end_time": "2022-10-02T12:18:26.494105",
     "exception": false,
     "start_time": "2022-10-02T12:18:26.451497",
     "status": "completed"
    },
    "tags": []
   },
   "outputs": [],
   "source": [
    "#hide\n",
    "def get_dates(df):\n",
    "    dt_cols = df.columns[~df.columns.isin(['Province/State', 'Country/Region', 'Lat', 'Long'])]\n",
    "    LAST_DATE_I = -1\n",
    "    # sometimes last column may be empty, then go backwards\n",
    "    for i in range(-1, -len(dt_cols), -1):\n",
    "        if not df[dt_cols[i]].fillna(0).eq(0).all():\n",
    "            LAST_DATE_I = i\n",
    "            break\n",
    "    return LAST_DATE_I, dt_cols"
   ]
  },
  {
   "cell_type": "code",
   "execution_count": 9,
   "id": "recent-optimization",
   "metadata": {
    "execution": {
     "iopub.execute_input": "2022-10-02T12:18:26.558985Z",
     "iopub.status.busy": "2022-10-02T12:18:26.558403Z",
     "iopub.status.idle": "2022-10-02T12:18:27.200203Z",
     "shell.execute_reply": "2022-10-02T12:18:27.199719Z"
    },
    "papermill": {
     "duration": 0.676189,
     "end_time": "2022-10-02T12:18:27.200324",
     "exception": false,
     "start_time": "2022-10-02T12:18:26.524135",
     "status": "completed"
    },
    "tags": []
   },
   "outputs": [],
   "source": [
    "#hide\n",
    "COL_REGION = 'Country/Region'\n",
    "# Confirmed, Recovered, Deaths\n",
    "df = get_frame('confirmed')\n",
    "# dft_: timeseries, dfc_: today country agg\n",
    "dft_cases = df\n",
    "dft_deaths = get_frame('deaths')\n",
    "dft_recovered = get_frame('recovered')\n",
    "LAST_DATE_I, dt_cols = get_dates(df)"
   ]
  },
  {
   "cell_type": "code",
   "execution_count": 10,
   "id": "absolute-copper",
   "metadata": {
    "execution": {
     "iopub.execute_input": "2022-10-02T12:18:27.266090Z",
     "iopub.status.busy": "2022-10-02T12:18:27.265526Z",
     "iopub.status.idle": "2022-10-02T12:18:27.267615Z",
     "shell.execute_reply": "2022-10-02T12:18:27.268053Z"
    },
    "papermill": {
     "duration": 0.037374,
     "end_time": "2022-10-02T12:18:27.268173",
     "exception": false,
     "start_time": "2022-10-02T12:18:27.230799",
     "status": "completed"
    },
    "tags": []
   },
   "outputs": [],
   "source": [
    "#hide\n",
    "LAST_DATE_I, dt_cols = get_dates(df)\n",
    "dt_today =dt_cols[LAST_DATE_I]\n",
    "# dt_5day = dt_cols[LAST_DATE_I - 5]\n",
    "dt_yday = dt_cols[LAST_DATE_I - 1]"
   ]
  },
  {
   "cell_type": "code",
   "execution_count": 11,
   "id": "restricted-sheriff",
   "metadata": {
    "execution": {
     "iopub.execute_input": "2022-10-02T12:18:27.334261Z",
     "iopub.status.busy": "2022-10-02T12:18:27.333708Z",
     "iopub.status.idle": "2022-10-02T12:18:27.340855Z",
     "shell.execute_reply": "2022-10-02T12:18:27.340411Z"
    },
    "papermill": {
     "duration": 0.042749,
     "end_time": "2022-10-02T12:18:27.340955",
     "exception": false,
     "start_time": "2022-10-02T12:18:27.298206",
     "status": "completed"
    },
    "tags": []
   },
   "outputs": [],
   "source": [
    "#hide\n",
    "dfc_cases = dft_cases.groupby(COL_REGION)[dt_today].sum()\n",
    "dfc_deaths = dft_deaths.groupby(COL_REGION)[dt_today].sum()\n",
    "# dfp_cases = dft_cases.groupby(COL_REGION)[dt_5day].sum()\n",
    "# dfp_deaths = dft_deaths.groupby(COL_REGION)[dt_5day].sum()\n",
    "dfp_cases = dft_cases.groupby(COL_REGION)[dt_yday].sum()\n",
    "dfp_deaths = dft_deaths.groupby(COL_REGION)[dt_yday].sum()"
   ]
  },
  {
   "cell_type": "code",
   "execution_count": 12,
   "id": "deluxe-hepatitis",
   "metadata": {
    "execution": {
     "iopub.execute_input": "2022-10-02T12:18:27.407398Z",
     "iopub.status.busy": "2022-10-02T12:18:27.406823Z",
     "iopub.status.idle": "2022-10-02T12:18:27.411081Z",
     "shell.execute_reply": "2022-10-02T12:18:27.411559Z"
    },
    "papermill": {
     "duration": 0.040344,
     "end_time": "2022-10-02T12:18:27.411678",
     "exception": false,
     "start_time": "2022-10-02T12:18:27.371334",
     "status": "completed"
    },
    "tags": []
   },
   "outputs": [],
   "source": [
    "#hide\n",
    "df_table = (pd.DataFrame(dict(Cases = dfc_cases, Deaths = dfc_deaths, PCases = dfp_cases, PDeaths = dfp_deaths))\n",
    "            .sort_values(by = ['Cases','Deaths'], ascending = [False, False])\n",
    "            .reset_index())"
   ]
  },
  {
   "cell_type": "code",
   "execution_count": 13,
   "id": "educational-chancellor",
   "metadata": {
    "execution": {
     "iopub.execute_input": "2022-10-02T12:18:27.484508Z",
     "iopub.status.busy": "2022-10-02T12:18:27.483941Z",
     "iopub.status.idle": "2022-10-02T12:18:27.495499Z",
     "shell.execute_reply": "2022-10-02T12:18:27.495957Z"
    },
    "papermill": {
     "duration": 0.054304,
     "end_time": "2022-10-02T12:18:27.496077",
     "exception": false,
     "start_time": "2022-10-02T12:18:27.441773",
     "status": "completed"
    },
    "tags": []
   },
   "outputs": [
    {
     "data": {
      "text/html": [
       "<div>\n",
       "<style scoped>\n",
       "    .dataframe tbody tr th:only-of-type {\n",
       "        vertical-align: middle;\n",
       "    }\n",
       "\n",
       "    .dataframe tbody tr th {\n",
       "        vertical-align: top;\n",
       "    }\n",
       "\n",
       "    .dataframe thead th {\n",
       "        text-align: right;\n",
       "    }\n",
       "</style>\n",
       "<table border=\"1\" class=\"dataframe\">\n",
       "  <thead>\n",
       "    <tr style=\"text-align: right;\">\n",
       "      <th></th>\n",
       "      <th>Country/Region</th>\n",
       "      <th>Cases</th>\n",
       "      <th>Deaths</th>\n",
       "      <th>PCases</th>\n",
       "      <th>PDeaths</th>\n",
       "      <th>Cases (+)</th>\n",
       "      <th>Deaths (+)</th>\n",
       "      <th>Fatality Rate</th>\n",
       "      <th>Continent</th>\n",
       "    </tr>\n",
       "  </thead>\n",
       "  <tbody>\n",
       "    <tr>\n",
       "      <th>0</th>\n",
       "      <td>US</td>\n",
       "      <td>96392543</td>\n",
       "      <td>1059605</td>\n",
       "      <td>96385048</td>\n",
       "      <td>1059579</td>\n",
       "      <td>7495</td>\n",
       "      <td>26</td>\n",
       "      <td>1.10</td>\n",
       "      <td>North America</td>\n",
       "    </tr>\n",
       "    <tr>\n",
       "      <th>1</th>\n",
       "      <td>India</td>\n",
       "      <td>44594487</td>\n",
       "      <td>528673</td>\n",
       "      <td>44591112</td>\n",
       "      <td>528655</td>\n",
       "      <td>3375</td>\n",
       "      <td>18</td>\n",
       "      <td>1.19</td>\n",
       "      <td>Asia</td>\n",
       "    </tr>\n",
       "    <tr>\n",
       "      <th>2</th>\n",
       "      <td>France</td>\n",
       "      <td>35608285</td>\n",
       "      <td>156152</td>\n",
       "      <td>35608285</td>\n",
       "      <td>156152</td>\n",
       "      <td>0</td>\n",
       "      <td>0</td>\n",
       "      <td>0.44</td>\n",
       "      <td>Europe</td>\n",
       "    </tr>\n",
       "    <tr>\n",
       "      <th>3</th>\n",
       "      <td>Brazil</td>\n",
       "      <td>34672524</td>\n",
       "      <td>686036</td>\n",
       "      <td>34672524</td>\n",
       "      <td>686036</td>\n",
       "      <td>0</td>\n",
       "      <td>0</td>\n",
       "      <td>1.98</td>\n",
       "      <td>South America</td>\n",
       "    </tr>\n",
       "    <tr>\n",
       "      <th>4</th>\n",
       "      <td>Germany</td>\n",
       "      <td>33386229</td>\n",
       "      <td>150064</td>\n",
       "      <td>33386229</td>\n",
       "      <td>150064</td>\n",
       "      <td>0</td>\n",
       "      <td>0</td>\n",
       "      <td>0.45</td>\n",
       "      <td>Europe</td>\n",
       "    </tr>\n",
       "  </tbody>\n",
       "</table>\n",
       "</div>"
      ],
      "text/plain": [
       "  Country/Region     Cases   Deaths    PCases  PDeaths  Cases (+)  Deaths (+)  \\\n",
       "0             US  96392543  1059605  96385048  1059579       7495          26   \n",
       "1          India  44594487   528673  44591112   528655       3375          18   \n",
       "2         France  35608285   156152  35608285   156152          0           0   \n",
       "3         Brazil  34672524   686036  34672524   686036          0           0   \n",
       "4        Germany  33386229   150064  33386229   150064          0           0   \n",
       "\n",
       "   Fatality Rate      Continent  \n",
       "0           1.10  North America  \n",
       "1           1.19           Asia  \n",
       "2           0.44         Europe  \n",
       "3           1.98  South America  \n",
       "4           0.45         Europe  "
      ]
     },
     "execution_count": 13,
     "metadata": {},
     "output_type": "execute_result"
    }
   ],
   "source": [
    "#hide\n",
    "for c in 'Cases, Deaths'.split(', '):\n",
    "    df_table[f'{c} (+)'] = (df_table[c] - df_table[f'P{c}']).clip(0)\n",
    "    #Clip ça veut dire, les chiffres negatif sont interdit\n",
    "df_table['Fatality Rate'] = (100* df_table['Deaths']/ df_table['Cases']).round(2)\n",
    "df_table['Continent'] = df_table['Country/Region'].map(mapping['map.continent'])\n",
    "df_table.head(5)"
   ]
  },
  {
   "cell_type": "code",
   "execution_count": 14,
   "id": "aboriginal-bulgaria",
   "metadata": {
    "execution": {
     "iopub.execute_input": "2022-10-02T12:18:27.563175Z",
     "iopub.status.busy": "2022-10-02T12:18:27.562610Z",
     "iopub.status.idle": "2022-10-02T12:18:27.564938Z",
     "shell.execute_reply": "2022-10-02T12:18:27.564411Z"
    },
    "papermill": {
     "duration": 0.038288,
     "end_time": "2022-10-02T12:18:27.565041",
     "exception": false,
     "start_time": "2022-10-02T12:18:27.526753",
     "status": "completed"
    },
    "tags": []
   },
   "outputs": [],
   "source": [
    "#hide\n",
    "#delete problematic countries from table\n",
    "df_table = df_table[~df_table['Country/Region'].isin(['Cape Verde', 'Cruise Ship', 'Kosovo'])]"
   ]
  },
  {
   "cell_type": "code",
   "execution_count": 15,
   "id": "fantastic-effect",
   "metadata": {
    "execution": {
     "iopub.execute_input": "2022-10-02T12:18:27.635230Z",
     "iopub.status.busy": "2022-10-02T12:18:27.634452Z",
     "iopub.status.idle": "2022-10-02T12:18:27.650743Z",
     "shell.execute_reply": "2022-10-02T12:18:27.651184Z"
    },
    "papermill": {
     "duration": 0.055538,
     "end_time": "2022-10-02T12:18:27.651335",
     "exception": false,
     "start_time": "2022-10-02T12:18:27.595797",
     "status": "completed"
    },
    "tags": []
   },
   "outputs": [
    {
     "data": {
      "text/html": [
       "<div>\n",
       "<style scoped>\n",
       "    .dataframe tbody tr th:only-of-type {\n",
       "        vertical-align: middle;\n",
       "    }\n",
       "\n",
       "    .dataframe tbody tr th {\n",
       "        vertical-align: top;\n",
       "    }\n",
       "\n",
       "    .dataframe thead th {\n",
       "        text-align: right;\n",
       "    }\n",
       "</style>\n",
       "<table border=\"1\" class=\"dataframe\">\n",
       "  <thead>\n",
       "    <tr style=\"text-align: right;\">\n",
       "      <th></th>\n",
       "      <th>Country/Region</th>\n",
       "      <th>Cases</th>\n",
       "      <th>Deaths</th>\n",
       "      <th>PCases</th>\n",
       "      <th>PDeaths</th>\n",
       "      <th>Cases (+)</th>\n",
       "      <th>Deaths (+)</th>\n",
       "      <th>Fatality Rate</th>\n",
       "      <th>Continent</th>\n",
       "    </tr>\n",
       "  </thead>\n",
       "  <tbody>\n",
       "    <tr>\n",
       "      <th>0</th>\n",
       "      <td>US</td>\n",
       "      <td>96392543</td>\n",
       "      <td>1059605</td>\n",
       "      <td>96385048</td>\n",
       "      <td>1059579</td>\n",
       "      <td>7495</td>\n",
       "      <td>26</td>\n",
       "      <td>1.1</td>\n",
       "      <td>North America</td>\n",
       "    </tr>\n",
       "    <tr>\n",
       "      <th>1</th>\n",
       "      <td>India</td>\n",
       "      <td>44594487</td>\n",
       "      <td>528673</td>\n",
       "      <td>44591112</td>\n",
       "      <td>528655</td>\n",
       "      <td>3375</td>\n",
       "      <td>18</td>\n",
       "      <td>1.2</td>\n",
       "      <td>Asia</td>\n",
       "    </tr>\n",
       "    <tr>\n",
       "      <th>2</th>\n",
       "      <td>France</td>\n",
       "      <td>35608285</td>\n",
       "      <td>156152</td>\n",
       "      <td>35608285</td>\n",
       "      <td>156152</td>\n",
       "      <td>0</td>\n",
       "      <td>0</td>\n",
       "      <td>0.4</td>\n",
       "      <td>Europe</td>\n",
       "    </tr>\n",
       "    <tr>\n",
       "      <th>3</th>\n",
       "      <td>Brazil</td>\n",
       "      <td>34672524</td>\n",
       "      <td>686036</td>\n",
       "      <td>34672524</td>\n",
       "      <td>686036</td>\n",
       "      <td>0</td>\n",
       "      <td>0</td>\n",
       "      <td>2.0</td>\n",
       "      <td>South America</td>\n",
       "    </tr>\n",
       "    <tr>\n",
       "      <th>4</th>\n",
       "      <td>Germany</td>\n",
       "      <td>33386229</td>\n",
       "      <td>150064</td>\n",
       "      <td>33386229</td>\n",
       "      <td>150064</td>\n",
       "      <td>0</td>\n",
       "      <td>0</td>\n",
       "      <td>0.4</td>\n",
       "      <td>Europe</td>\n",
       "    </tr>\n",
       "  </tbody>\n",
       "</table>\n",
       "</div>"
      ],
      "text/plain": [
       "  Country/Region     Cases   Deaths    PCases  PDeaths  Cases (+)  Deaths (+)  \\\n",
       "0             US  96392543  1059605  96385048  1059579       7495          26   \n",
       "1          India  44594487   528673  44591112   528655       3375          18   \n",
       "2         France  35608285   156152  35608285   156152          0           0   \n",
       "3         Brazil  34672524   686036  34672524   686036          0           0   \n",
       "4        Germany  33386229   150064  33386229   150064          0           0   \n",
       "\n",
       "   Fatality Rate      Continent  \n",
       "0            1.1  North America  \n",
       "1            1.2           Asia  \n",
       "2            0.4         Europe  \n",
       "3            2.0  South America  \n",
       "4            0.4         Europe  "
      ]
     },
     "execution_count": 15,
     "metadata": {},
     "output_type": "execute_result"
    }
   ],
   "source": [
    "#hide\n",
    "df_table = (pd.DataFrame(dict(Cases=dfc_cases, Deaths=dfc_deaths, PCases=dfp_cases, PDeaths=dfp_deaths))\n",
    "             .sort_values(by=['Cases', 'Deaths'], ascending=[False, False])\n",
    "             .reset_index())\n",
    "df_table.rename(columns={'index': 'Country/Region'}, inplace=True)\n",
    "for c in 'Cases, Deaths'.split(', '):\n",
    "    df_table[f'{c} (+)'] = (df_table[c] - df_table[f'P{c}']).clip(0)  # DATA BUG\n",
    "df_table['Fatality Rate'] = (100 * df_table['Deaths'] / df_table['Cases']).round(1)\n",
    "df_table['Continent'] = df_table['Country/Region'].map(mapping['map.continent'])\n",
    "df_table.head(5)"
   ]
  },
  {
   "cell_type": "code",
   "execution_count": 16,
   "id": "fewer-occasion",
   "metadata": {
    "execution": {
     "iopub.execute_input": "2022-10-02T12:18:27.719725Z",
     "iopub.status.busy": "2022-10-02T12:18:27.719139Z",
     "iopub.status.idle": "2022-10-02T12:18:27.721435Z",
     "shell.execute_reply": "2022-10-02T12:18:27.721855Z"
    },
    "papermill": {
     "duration": 0.038936,
     "end_time": "2022-10-02T12:18:27.721970",
     "exception": false,
     "start_time": "2022-10-02T12:18:27.683034",
     "status": "completed"
    },
    "tags": []
   },
   "outputs": [],
   "source": [
    "#hide\n",
    "#delete problematic countries from table\n",
    "df_table = df_table[~df_table['Country/Region'].isin(['Cape Verde', 'Cruise Ship', 'Kosovo'])]"
   ]
  },
  {
   "cell_type": "code",
   "execution_count": 17,
   "id": "related-center",
   "metadata": {
    "execution": {
     "iopub.execute_input": "2022-10-02T12:18:27.801109Z",
     "iopub.status.busy": "2022-10-02T12:18:27.800541Z",
     "iopub.status.idle": "2022-10-02T12:18:27.802913Z",
     "shell.execute_reply": "2022-10-02T12:18:27.803363Z"
    },
    "papermill": {
     "duration": 0.050373,
     "end_time": "2022-10-02T12:18:27.803482",
     "exception": false,
     "start_time": "2022-10-02T12:18:27.753109",
     "status": "completed"
    },
    "tags": []
   },
   "outputs": [],
   "source": [
    "#hide\n",
    "metrics = [df_table.columns[index] for index in [1,2,5,6]]\n",
    "# s_china = df_table[df_table['Country/Region'].eq('China')][metrics].sum().add_prefix('China ')\n",
    "s_us = df_table[df_table['Country/Region'].eq('US')][metrics].sum().add_prefix('US ')\n",
    "s_eu = df_table[df_table['Continent'].eq('Europe')][metrics].sum().add_prefix('EU ')\n",
    "s_ind = df_table[df_table['Country/Region'].eq('India')][metrics].sum().add_prefix('India ')\n",
    "summary = {'updated': pd.to_datetime(dt_today), 'since': pd.to_datetime(dt_yday)}\n",
    "summary = {'updated': pd.to_datetime(dt_today), 'since': pd.to_datetime(dt_yday)}\n",
    "summary = {**summary, **df_table[metrics].sum(), **s_ind, **s_us, **s_eu}"
   ]
  },
  {
   "cell_type": "code",
   "execution_count": 18,
   "id": "engaging-syndrome",
   "metadata": {
    "execution": {
     "iopub.execute_input": "2022-10-02T12:18:27.870882Z",
     "iopub.status.busy": "2022-10-02T12:18:27.870319Z",
     "iopub.status.idle": "2022-10-02T12:18:27.889778Z",
     "shell.execute_reply": "2022-10-02T12:18:27.889306Z"
    },
    "papermill": {
     "duration": 0.055289,
     "end_time": "2022-10-02T12:18:27.889894",
     "exception": false,
     "start_time": "2022-10-02T12:18:27.834605",
     "status": "completed"
    },
    "tags": []
   },
   "outputs": [],
   "source": [
    "#hide\n",
    "dft_ct_new_cases = dft_cases.groupby(COL_REGION)[dt_cols].sum().diff(axis=1).fillna(0).astype(int)"
   ]
  },
  {
   "cell_type": "code",
   "execution_count": 19,
   "id": "neutral-assignment",
   "metadata": {
    "execution": {
     "iopub.execute_input": "2022-10-02T12:18:27.959084Z",
     "iopub.status.busy": "2022-10-02T12:18:27.958496Z",
     "iopub.status.idle": "2022-10-02T12:18:27.961873Z",
     "shell.execute_reply": "2022-10-02T12:18:27.962299Z"
    },
    "papermill": {
     "duration": 0.041144,
     "end_time": "2022-10-02T12:18:27.962419",
     "exception": false,
     "start_time": "2022-10-02T12:18:27.921275",
     "status": "completed"
    },
    "tags": []
   },
   "outputs": [],
   "source": [
    "#hide\n",
    "everydaycases = dft_ct_new_cases.cumsum(axis=1)"
   ]
  },
  {
   "cell_type": "code",
   "execution_count": 20,
   "id": "parliamentary-calgary",
   "metadata": {
    "execution": {
     "iopub.execute_input": "2022-10-02T12:18:28.033408Z",
     "iopub.status.busy": "2022-10-02T12:18:28.032840Z",
     "iopub.status.idle": "2022-10-02T12:18:28.568408Z",
     "shell.execute_reply": "2022-10-02T12:18:28.567927Z"
    },
    "papermill": {
     "duration": 0.570597,
     "end_time": "2022-10-02T12:18:28.568526",
     "exception": false,
     "start_time": "2022-10-02T12:18:27.997929",
     "status": "completed"
    },
    "tags": []
   },
   "outputs": [],
   "source": [
    "#hide\n",
    "import pandas as pd\n",
    "import matplotlib.pyplot as plt\n",
    "import matplotlib.ticker as ticker\n",
    "import matplotlib.animation as animation\n",
    "from IPython.display import HTML"
   ]
  },
  {
   "cell_type": "code",
   "execution_count": 21,
   "id": "lasting-extraction",
   "metadata": {
    "execution": {
     "iopub.execute_input": "2022-10-02T12:18:28.641787Z",
     "iopub.status.busy": "2022-10-02T12:18:28.641229Z",
     "iopub.status.idle": "2022-10-02T12:18:28.647976Z",
     "shell.execute_reply": "2022-10-02T12:18:28.647434Z"
    },
    "papermill": {
     "duration": 0.043992,
     "end_time": "2022-10-02T12:18:28.648079",
     "exception": false,
     "start_time": "2022-10-02T12:18:28.604087",
     "status": "completed"
    },
    "tags": []
   },
   "outputs": [],
   "source": [
    "#hide\n",
    "t = everydaycases.stack()"
   ]
  },
  {
   "cell_type": "code",
   "execution_count": 22,
   "id": "premier-sleeve",
   "metadata": {
    "execution": {
     "iopub.execute_input": "2022-10-02T12:18:28.715133Z",
     "iopub.status.busy": "2022-10-02T12:18:28.714573Z",
     "iopub.status.idle": "2022-10-02T12:18:28.726579Z",
     "shell.execute_reply": "2022-10-02T12:18:28.726129Z"
    },
    "papermill": {
     "duration": 0.046937,
     "end_time": "2022-10-02T12:18:28.726684",
     "exception": false,
     "start_time": "2022-10-02T12:18:28.679747",
     "status": "completed"
    },
    "tags": []
   },
   "outputs": [],
   "source": [
    "#hide\n",
    "g = t.reset_index(['Country/Region'])"
   ]
  },
  {
   "cell_type": "code",
   "execution_count": 23,
   "id": "distributed-pittsburgh",
   "metadata": {
    "execution": {
     "iopub.execute_input": "2022-10-02T12:18:28.796155Z",
     "iopub.status.busy": "2022-10-02T12:18:28.795591Z",
     "iopub.status.idle": "2022-10-02T12:18:28.797376Z",
     "shell.execute_reply": "2022-10-02T12:18:28.797774Z"
    },
    "papermill": {
     "duration": 0.040117,
     "end_time": "2022-10-02T12:18:28.797890",
     "exception": false,
     "start_time": "2022-10-02T12:18:28.757773",
     "status": "completed"
    },
    "tags": []
   },
   "outputs": [],
   "source": [
    "#hide\n",
    "g.index.name = 'date'"
   ]
  },
  {
   "cell_type": "code",
   "execution_count": 24,
   "id": "naked-donor",
   "metadata": {
    "execution": {
     "iopub.execute_input": "2022-10-02T12:18:28.863846Z",
     "iopub.status.busy": "2022-10-02T12:18:28.863268Z",
     "iopub.status.idle": "2022-10-02T12:18:28.865718Z",
     "shell.execute_reply": "2022-10-02T12:18:28.865193Z"
    },
    "papermill": {
     "duration": 0.036583,
     "end_time": "2022-10-02T12:18:28.865820",
     "exception": false,
     "start_time": "2022-10-02T12:18:28.829237",
     "status": "completed"
    },
    "tags": []
   },
   "outputs": [],
   "source": [
    "# #hide\n",
    "# g = g.reset_index(['date'])"
   ]
  },
  {
   "cell_type": "code",
   "execution_count": 25,
   "id": "incomplete-mustang",
   "metadata": {
    "execution": {
     "iopub.execute_input": "2022-10-02T12:18:28.936379Z",
     "iopub.status.busy": "2022-10-02T12:18:28.935817Z",
     "iopub.status.idle": "2022-10-02T12:18:28.937915Z",
     "shell.execute_reply": "2022-10-02T12:18:28.937396Z"
    },
    "papermill": {
     "duration": 0.036456,
     "end_time": "2022-10-02T12:18:28.938016",
     "exception": false,
     "start_time": "2022-10-02T12:18:28.901560",
     "status": "completed"
    },
    "tags": []
   },
   "outputs": [],
   "source": [
    "#hide\n",
    "# g.head()"
   ]
  },
  {
   "cell_type": "code",
   "execution_count": 26,
   "id": "specific-kruger",
   "metadata": {
    "execution": {
     "iopub.execute_input": "2022-10-02T12:18:29.008481Z",
     "iopub.status.busy": "2022-10-02T12:18:29.007917Z",
     "iopub.status.idle": "2022-10-02T12:18:29.009727Z",
     "shell.execute_reply": "2022-10-02T12:18:29.010121Z"
    },
    "papermill": {
     "duration": 0.040919,
     "end_time": "2022-10-02T12:18:29.010241",
     "exception": false,
     "start_time": "2022-10-02T12:18:28.969322",
     "status": "completed"
    },
    "tags": []
   },
   "outputs": [],
   "source": [
    "#hide\n",
    "# g.columns = ['date','country','cases']"
   ]
  },
  {
   "cell_type": "code",
   "execution_count": 27,
   "id": "tender-conversion",
   "metadata": {
    "execution": {
     "iopub.execute_input": "2022-10-02T12:18:29.076384Z",
     "iopub.status.busy": "2022-10-02T12:18:29.075827Z",
     "iopub.status.idle": "2022-10-02T12:18:29.078231Z",
     "shell.execute_reply": "2022-10-02T12:18:29.077693Z"
    },
    "papermill": {
     "duration": 0.036949,
     "end_time": "2022-10-02T12:18:29.078331",
     "exception": false,
     "start_time": "2022-10-02T12:18:29.041382",
     "status": "completed"
    },
    "tags": []
   },
   "outputs": [],
   "source": [
    "#hide\n",
    "# g['continent'] = g.country"
   ]
  },
  {
   "cell_type": "code",
   "execution_count": 28,
   "id": "substantial-wilderness",
   "metadata": {
    "execution": {
     "iopub.execute_input": "2022-10-02T12:18:29.148730Z",
     "iopub.status.busy": "2022-10-02T12:18:29.148164Z",
     "iopub.status.idle": "2022-10-02T12:18:29.150248Z",
     "shell.execute_reply": "2022-10-02T12:18:29.150653Z"
    },
    "papermill": {
     "duration": 0.036768,
     "end_time": "2022-10-02T12:18:29.150770",
     "exception": false,
     "start_time": "2022-10-02T12:18:29.114002",
     "status": "completed"
    },
    "tags": []
   },
   "outputs": [],
   "source": [
    "#hide\n",
    "# cols = list(g.columns.values)"
   ]
  },
  {
   "cell_type": "code",
   "execution_count": 29,
   "id": "solved-farming",
   "metadata": {
    "execution": {
     "iopub.execute_input": "2022-10-02T12:18:29.220944Z",
     "iopub.status.busy": "2022-10-02T12:18:29.220335Z",
     "iopub.status.idle": "2022-10-02T12:18:29.222583Z",
     "shell.execute_reply": "2022-10-02T12:18:29.222145Z"
    },
    "papermill": {
     "duration": 0.036807,
     "end_time": "2022-10-02T12:18:29.222683",
     "exception": false,
     "start_time": "2022-10-02T12:18:29.185876",
     "status": "completed"
    },
    "tags": []
   },
   "outputs": [],
   "source": [
    "#hide\n",
    "# cols.insert(0, cols.pop())"
   ]
  },
  {
   "cell_type": "code",
   "execution_count": 30,
   "id": "executed-adoption",
   "metadata": {
    "execution": {
     "iopub.execute_input": "2022-10-02T12:18:29.288586Z",
     "iopub.status.busy": "2022-10-02T12:18:29.287994Z",
     "iopub.status.idle": "2022-10-02T12:18:29.290452Z",
     "shell.execute_reply": "2022-10-02T12:18:29.290014Z"
    },
    "papermill": {
     "duration": 0.036699,
     "end_time": "2022-10-02T12:18:29.290552",
     "exception": false,
     "start_time": "2022-10-02T12:18:29.253853",
     "status": "completed"
    },
    "tags": []
   },
   "outputs": [],
   "source": [
    "#hide\n",
    "# g = g[cols]"
   ]
  },
  {
   "cell_type": "code",
   "execution_count": 31,
   "id": "subject-dublin",
   "metadata": {
    "execution": {
     "iopub.execute_input": "2022-10-02T12:18:29.356818Z",
     "iopub.status.busy": "2022-10-02T12:18:29.356246Z",
     "iopub.status.idle": "2022-10-02T12:18:29.358528Z",
     "shell.execute_reply": "2022-10-02T12:18:29.358000Z"
    },
    "papermill": {
     "duration": 0.036745,
     "end_time": "2022-10-02T12:18:29.358628",
     "exception": false,
     "start_time": "2022-10-02T12:18:29.321883",
     "status": "completed"
    },
    "tags": []
   },
   "outputs": [],
   "source": [
    "#hide\n",
    "# g['continent'] = g['continent'].map(mapping['map.continent'])"
   ]
  },
  {
   "cell_type": "code",
   "execution_count": 32,
   "id": "freelance-scout",
   "metadata": {
    "execution": {
     "iopub.execute_input": "2022-10-02T12:18:29.424827Z",
     "iopub.status.busy": "2022-10-02T12:18:29.424259Z",
     "iopub.status.idle": "2022-10-02T12:18:29.426620Z",
     "shell.execute_reply": "2022-10-02T12:18:29.426095Z"
    },
    "papermill": {
     "duration": 0.036683,
     "end_time": "2022-10-02T12:18:29.426723",
     "exception": false,
     "start_time": "2022-10-02T12:18:29.390040",
     "status": "completed"
    },
    "tags": []
   },
   "outputs": [],
   "source": [
    "#hide\n",
    "# g.head()"
   ]
  },
  {
   "cell_type": "code",
   "execution_count": 33,
   "id": "limited-engine",
   "metadata": {
    "execution": {
     "iopub.execute_input": "2022-10-02T12:18:29.496606Z",
     "iopub.status.busy": "2022-10-02T12:18:29.496039Z",
     "iopub.status.idle": "2022-10-02T12:18:29.498439Z",
     "shell.execute_reply": "2022-10-02T12:18:29.498000Z"
    },
    "papermill": {
     "duration": 0.040797,
     "end_time": "2022-10-02T12:18:29.498536",
     "exception": false,
     "start_time": "2022-10-02T12:18:29.457739",
     "status": "completed"
    },
    "tags": []
   },
   "outputs": [],
   "source": [
    "# hide\n",
    "# g['date'] = g['date'].astype('datetime64[ns]')"
   ]
  },
  {
   "cell_type": "code",
   "execution_count": 34,
   "id": "sophisticated-supervisor",
   "metadata": {
    "execution": {
     "iopub.execute_input": "2022-10-02T12:18:29.564253Z",
     "iopub.status.busy": "2022-10-02T12:18:29.563681Z",
     "iopub.status.idle": "2022-10-02T12:18:29.566128Z",
     "shell.execute_reply": "2022-10-02T12:18:29.565697Z"
    },
    "papermill": {
     "duration": 0.036539,
     "end_time": "2022-10-02T12:18:29.566226",
     "exception": false,
     "start_time": "2022-10-02T12:18:29.529687",
     "status": "completed"
    },
    "tags": []
   },
   "outputs": [],
   "source": [
    "#hide\n",
    "# g['date'] = g.date.dt.dayofyear"
   ]
  },
  {
   "cell_type": "code",
   "execution_count": 35,
   "id": "inside-dubai",
   "metadata": {
    "execution": {
     "iopub.execute_input": "2022-10-02T12:18:29.631611Z",
     "iopub.status.busy": "2022-10-02T12:18:29.630927Z",
     "iopub.status.idle": "2022-10-02T12:18:29.633299Z",
     "shell.execute_reply": "2022-10-02T12:18:29.632862Z"
    },
    "papermill": {
     "duration": 0.036162,
     "end_time": "2022-10-02T12:18:29.633397",
     "exception": false,
     "start_time": "2022-10-02T12:18:29.597235",
     "status": "completed"
    },
    "tags": []
   },
   "outputs": [],
   "source": [
    "#hide\n",
    "# g = g.rename(columns= {'continent':'group','country':'name','cases':'value'})"
   ]
  },
  {
   "cell_type": "code",
   "execution_count": 36,
   "id": "fleet-motorcycle",
   "metadata": {
    "execution": {
     "iopub.execute_input": "2022-10-02T12:18:29.700663Z",
     "iopub.status.busy": "2022-10-02T12:18:29.700085Z",
     "iopub.status.idle": "2022-10-02T12:18:29.702552Z",
     "shell.execute_reply": "2022-10-02T12:18:29.702116Z"
    },
    "papermill": {
     "duration": 0.038144,
     "end_time": "2022-10-02T12:18:29.702649",
     "exception": false,
     "start_time": "2022-10-02T12:18:29.664505",
     "status": "completed"
    },
    "tags": []
   },
   "outputs": [],
   "source": [
    "#hide\n",
    "# cols = ['name','group','day','value']"
   ]
  },
  {
   "cell_type": "code",
   "execution_count": 37,
   "id": "continued-sleeping",
   "metadata": {
    "execution": {
     "iopub.execute_input": "2022-10-02T12:18:29.768825Z",
     "iopub.status.busy": "2022-10-02T12:18:29.768251Z",
     "iopub.status.idle": "2022-10-02T12:18:29.770540Z",
     "shell.execute_reply": "2022-10-02T12:18:29.770018Z"
    },
    "papermill": {
     "duration": 0.036861,
     "end_time": "2022-10-02T12:18:29.770640",
     "exception": false,
     "start_time": "2022-10-02T12:18:29.733779",
     "status": "completed"
    },
    "tags": []
   },
   "outputs": [],
   "source": [
    "#hide\n",
    "# g.rename(columns= {'date':'day'},inplace = True)"
   ]
  },
  {
   "cell_type": "code",
   "execution_count": 38,
   "id": "major-fight",
   "metadata": {
    "execution": {
     "iopub.execute_input": "2022-10-02T12:18:29.836619Z",
     "iopub.status.busy": "2022-10-02T12:18:29.836040Z",
     "iopub.status.idle": "2022-10-02T12:18:29.838240Z",
     "shell.execute_reply": "2022-10-02T12:18:29.837711Z"
    },
    "papermill": {
     "duration": 0.036515,
     "end_time": "2022-10-02T12:18:29.838342",
     "exception": false,
     "start_time": "2022-10-02T12:18:29.801827",
     "status": "completed"
    },
    "tags": []
   },
   "outputs": [],
   "source": [
    "#hide\n",
    "# g = g[cols]"
   ]
  },
  {
   "cell_type": "code",
   "execution_count": 39,
   "id": "structured-mobile",
   "metadata": {
    "execution": {
     "iopub.execute_input": "2022-10-02T12:18:29.908190Z",
     "iopub.status.busy": "2022-10-02T12:18:29.907614Z",
     "iopub.status.idle": "2022-10-02T12:18:29.910056Z",
     "shell.execute_reply": "2022-10-02T12:18:29.909618Z"
    },
    "papermill": {
     "duration": 0.040818,
     "end_time": "2022-10-02T12:18:29.910157",
     "exception": false,
     "start_time": "2022-10-02T12:18:29.869339",
     "status": "completed"
    },
    "tags": []
   },
   "outputs": [],
   "source": [
    "# #hide\n",
    "# g = g[g.group.notna()]"
   ]
  },
  {
   "cell_type": "code",
   "execution_count": 40,
   "id": "determined-closing",
   "metadata": {
    "execution": {
     "iopub.execute_input": "2022-10-02T12:18:29.976131Z",
     "iopub.status.busy": "2022-10-02T12:18:29.975551Z",
     "iopub.status.idle": "2022-10-02T12:18:29.977818Z",
     "shell.execute_reply": "2022-10-02T12:18:29.977293Z"
    },
    "papermill": {
     "duration": 0.036524,
     "end_time": "2022-10-02T12:18:29.977918",
     "exception": false,
     "start_time": "2022-10-02T12:18:29.941394",
     "status": "completed"
    },
    "tags": []
   },
   "outputs": [],
   "source": [
    "# #hide\n",
    "# colors = dict(zip(\n",
    "#     [\"Oceania\", \"Europe\", \"Asia\", \"South America\", \"Middle East\", \"North America\", \"Africa\"],\n",
    "#     [\"#adb0ff\", \"#ffb3ff\", \"#90d595\", \"#e48381\", \"#aafbff\", \"#f7bb5f\", \"#eafb50\"]\n",
    "# ))\n",
    "# group_lk = g.set_index('name')['group'].to_dict()"
   ]
  },
  {
   "cell_type": "code",
   "execution_count": null,
   "id": "gross-drinking",
   "metadata": {
    "papermill": {
     "duration": 0.030904,
     "end_time": "2022-10-02T12:18:30.039936",
     "exception": false,
     "start_time": "2022-10-02T12:18:30.009032",
     "status": "completed"
    },
    "tags": []
   },
   "outputs": [],
   "source": []
  },
  {
   "cell_type": "code",
   "execution_count": 41,
   "id": "subject-macintosh",
   "metadata": {
    "execution": {
     "iopub.execute_input": "2022-10-02T12:18:30.106373Z",
     "iopub.status.busy": "2022-10-02T12:18:30.105785Z",
     "iopub.status.idle": "2022-10-02T12:18:30.108247Z",
     "shell.execute_reply": "2022-10-02T12:18:30.107804Z"
    },
    "papermill": {
     "duration": 0.037298,
     "end_time": "2022-10-02T12:18:30.108348",
     "exception": false,
     "start_time": "2022-10-02T12:18:30.071050",
     "status": "completed"
    },
    "tags": []
   },
   "outputs": [],
   "source": [
    "# #hide\n",
    "# fig, ax = plt.subplots(figsize=(15, 8))\n",
    "\n",
    "# def draw_barchart(current_day):\n",
    "#     dff = g[g['day'].eq(current_day)].sort_values(by='value', ascending=True).tail(10)\n",
    "#     ax.clear()\n",
    "#     ax.barh(dff['name'], dff['value'], color=[colors[group_lk[x]] for x in dff['name']])\n",
    "#     dx = dff['value'].max() / 200\n",
    "    \n",
    "#     for i, (value, name) in enumerate(zip(dff['value'], dff['name'])):\n",
    "#         ax.text(value-dx, i,     name,           size=14, weight=600, ha='right', va='bottom')\n",
    "#         ax.text(value-dx, i-.25, group_lk[name], size=10, color='#444444', ha='right', va='baseline')\n",
    "#         ax.text(value+dx, i,     f'{value:,.0f}',  size=14, ha='left',  va='center')\n",
    "#     ax.text(1, 0.4, current_day, transform=ax.transAxes, color='#777777', size=46, ha='right', weight=800)\n",
    "#     ax.text(0, 1.06, 'Population (thousands)', transform=ax.transAxes, size=12, color='#777777')\n",
    "#     ax.xaxis.set_major_formatter(ticker.StrMethodFormatter('{x:,.0f}'))\n",
    "#     ax.xaxis.set_ticks_position('top')\n",
    "#     ax.tick_params(axis='x', colors='#777777', labelsize=12)\n",
    "#     ax.set_yticks([])\n",
    "#     ax.margins(0, 0.01)\n",
    "#     ax.grid(which='major', axis='x', linestyle='-')\n",
    "#     ax.set_axisbelow(True)\n",
    "    \n",
    "#     ax.text(0, 1.15, 'Coronavirus',\n",
    "#             transform=ax.transAxes, size=24, weight=600, ha='left', va='top')\n",
    "# #     ax.text(1, 0, 'by @pratapvardhan; credit @jburnmurdoch', transform=ax.transAxes, color='#777777', ha='right',\n",
    "# #             bbox=dict(facecolor='white', alpha=0.8, edgecolor='white'))\n",
    "#     plt.box(False)"
   ]
  },
  {
   "cell_type": "code",
   "execution_count": 42,
   "id": "sexual-wages",
   "metadata": {
    "execution": {
     "iopub.execute_input": "2022-10-02T12:18:30.174383Z",
     "iopub.status.busy": "2022-10-02T12:18:30.173804Z",
     "iopub.status.idle": "2022-10-02T12:18:30.176237Z",
     "shell.execute_reply": "2022-10-02T12:18:30.175806Z"
    },
    "papermill": {
     "duration": 0.036795,
     "end_time": "2022-10-02T12:18:30.176334",
     "exception": false,
     "start_time": "2022-10-02T12:18:30.139539",
     "status": "completed"
    },
    "tags": []
   },
   "outputs": [],
   "source": [
    "# #hide_input\n",
    "# fig, ax = plt.subplots(figsize=(15, 8))\n",
    "# animator = animation.FuncAnimation(fig, draw_barchart, frames=range(g.day.values.min(), g.day.values.max()))\n",
    "# HTML(animator.to_jshtml())\n",
    "# # or use animator.to_html5_video() or animator.save() "
   ]
  },
  {
   "cell_type": "code",
   "execution_count": null,
   "id": "australian-container",
   "metadata": {
    "papermill": {
     "duration": 0.031013,
     "end_time": "2022-10-02T12:18:30.238684",
     "exception": false,
     "start_time": "2022-10-02T12:18:30.207671",
     "status": "completed"
    },
    "tags": []
   },
   "outputs": [],
   "source": []
  },
  {
   "cell_type": "code",
   "execution_count": null,
   "id": "mediterranean-pontiac",
   "metadata": {
    "papermill": {
     "duration": 0.030958,
     "end_time": "2022-10-02T12:18:30.300627",
     "exception": false,
     "start_time": "2022-10-02T12:18:30.269669",
     "status": "completed"
    },
    "tags": []
   },
   "outputs": [],
   "source": []
  },
  {
   "cell_type": "code",
   "execution_count": null,
   "id": "aging-legislature",
   "metadata": {
    "papermill": {
     "duration": 0.030937,
     "end_time": "2022-10-02T12:18:30.362848",
     "exception": false,
     "start_time": "2022-10-02T12:18:30.331911",
     "status": "completed"
    },
    "tags": []
   },
   "outputs": [],
   "source": []
  }
 ],
 "metadata": {
  "kernelspec": {
   "display_name": "Python 3",
   "language": "python",
   "name": "python3"
  },
  "language_info": {
   "codemirror_mode": {
    "name": "ipython",
    "version": 3
   },
   "file_extension": ".py",
   "mimetype": "text/x-python",
   "name": "python",
   "nbconvert_exporter": "python",
   "pygments_lexer": "ipython3",
   "version": "3.6.15"
  },
  "papermill": {
   "duration": 6.110365,
   "end_time": "2022-10-02T12:18:30.711024",
   "environment_variables": {},
   "exception": null,
   "input_path": "2020-03-21-covid19exp.ipynb",
   "output_path": "2020-03-21-covid19exp.ipynb",
   "parameters": {},
   "start_time": "2022-10-02T12:18:24.600659",
   "version": "2.0.0"
  }
 },
 "nbformat": 4,
 "nbformat_minor": 5
}