{
 "cells": [
  {
   "cell_type": "markdown",
   "id": "muslim-click",
   "metadata": {
    "papermill": {
     "duration": 0.041563,
     "end_time": "2021-09-17T00:24:21.099753",
     "exception": false,
     "start_time": "2021-09-17T00:24:21.058190",
     "status": "completed"
    },
    "tags": []
   },
   "source": [
    "# COVID-19 Case Race\n",
    "> A race chart to see rising cases around the world\n",
    "\n",
    "- author: Hargun Oberoi\n",
    "- image: images/covid-overview.png\n",
    "- hide: false\n",
    "- badges: false"
   ]
  },
  {
   "cell_type": "code",
   "execution_count": 1,
   "id": "proof-material",
   "metadata": {
    "execution": {
     "iopub.execute_input": "2021-09-17T00:24:21.188844Z",
     "iopub.status.busy": "2021-09-17T00:24:21.188132Z",
     "iopub.status.idle": "2021-09-17T00:24:21.564118Z",
     "shell.execute_reply": "2021-09-17T00:24:21.563001Z"
    },
    "papermill": {
     "duration": 0.425209,
     "end_time": "2021-09-17T00:24:21.564284",
     "exception": false,
     "start_time": "2021-09-17T00:24:21.139075",
     "status": "completed"
    },
    "tags": []
   },
   "outputs": [],
   "source": [
    "#hide\n",
    "import numpy as np\n",
    "import pandas as pd\n",
    "from jinja2 import Template\n",
    "from IPython.display import HTML"
   ]
  },
  {
   "cell_type": "code",
   "execution_count": 2,
   "id": "developed-terminology",
   "metadata": {
    "execution": {
     "iopub.execute_input": "2021-09-17T00:24:21.651625Z",
     "iopub.status.busy": "2021-09-17T00:24:21.650949Z",
     "iopub.status.idle": "2021-09-17T00:24:21.653351Z",
     "shell.execute_reply": "2021-09-17T00:24:21.652791Z"
    },
    "papermill": {
     "duration": 0.04848,
     "end_time": "2021-09-17T00:24:21.653479",
     "exception": false,
     "start_time": "2021-09-17T00:24:21.604999",
     "status": "completed"
    },
    "tags": []
   },
   "outputs": [],
   "source": [
    "#hide\n",
    "\n",
    "# FETCH\n",
    "base_url = 'https://raw.githubusercontent.com/pratapvardhan/notebooks/master/covid19/'\n",
    "paths = {\n",
    "    'mapping': base_url + 'mapping_countries.csv',\n",
    "    'overview': base_url + 'overview.tpl'\n",
    "}"
   ]
  },
  {
   "cell_type": "code",
   "execution_count": 3,
   "id": "dynamic-saver",
   "metadata": {
    "execution": {
     "iopub.execute_input": "2021-09-17T00:24:21.736501Z",
     "iopub.status.busy": "2021-09-17T00:24:21.735746Z",
     "iopub.status.idle": "2021-09-17T00:24:21.742358Z",
     "shell.execute_reply": "2021-09-17T00:24:21.741815Z"
    },
    "papermill": {
     "duration": 0.051704,
     "end_time": "2021-09-17T00:24:21.742484",
     "exception": false,
     "start_time": "2021-09-17T00:24:21.690780",
     "status": "completed"
    },
    "tags": []
   },
   "outputs": [
    {
     "data": {
      "text/plain": [
       "'https://raw.githubusercontent.com/pratapvardhan/notebooks/master/covid19/mapping_countries.csv'"
      ]
     },
     "execution_count": 3,
     "metadata": {},
     "output_type": "execute_result"
    }
   ],
   "source": [
    "#hide\n",
    "paths['mapping']"
   ]
  },
  {
   "cell_type": "code",
   "execution_count": 4,
   "id": "urban-software",
   "metadata": {
    "execution": {
     "iopub.execute_input": "2021-09-17T00:24:21.823981Z",
     "iopub.status.busy": "2021-09-17T00:24:21.823341Z",
     "iopub.status.idle": "2021-09-17T00:24:21.825806Z",
     "shell.execute_reply": "2021-09-17T00:24:21.825185Z"
    },
    "papermill": {
     "duration": 0.045708,
     "end_time": "2021-09-17T00:24:21.825927",
     "exception": false,
     "start_time": "2021-09-17T00:24:21.780219",
     "status": "completed"
    },
    "tags": []
   },
   "outputs": [],
   "source": [
    "#hide\n",
    "def get_mappings(url):\n",
    "    df = pd.read_csv(url)\n",
    "    return {\n",
    "        'df': df,\n",
    "        'replace.country': dict(df.dropna(subset=['Name']).set_index('Country')['Name']),\n",
    "        'map.continent': dict(df.set_index('Name')['Continent'])\n",
    "    }"
   ]
  },
  {
   "cell_type": "code",
   "execution_count": 5,
   "id": "intimate-machinery",
   "metadata": {
    "execution": {
     "iopub.execute_input": "2021-09-17T00:24:21.907089Z",
     "iopub.status.busy": "2021-09-17T00:24:21.906451Z",
     "iopub.status.idle": "2021-09-17T00:24:21.947799Z",
     "shell.execute_reply": "2021-09-17T00:24:21.947248Z"
    },
    "papermill": {
     "duration": 0.084234,
     "end_time": "2021-09-17T00:24:21.947943",
     "exception": false,
     "start_time": "2021-09-17T00:24:21.863709",
     "status": "completed"
    },
    "tags": []
   },
   "outputs": [],
   "source": [
    "#hide\n",
    "mapping = get_mappings(paths['mapping'])"
   ]
  },
  {
   "cell_type": "code",
   "execution_count": 6,
   "id": "certified-tactics",
   "metadata": {
    "execution": {
     "iopub.execute_input": "2021-09-17T00:24:22.030477Z",
     "iopub.status.busy": "2021-09-17T00:24:22.029841Z",
     "iopub.status.idle": "2021-09-17T00:24:22.032360Z",
     "shell.execute_reply": "2021-09-17T00:24:22.031710Z"
    },
    "papermill": {
     "duration": 0.044803,
     "end_time": "2021-09-17T00:24:22.032480",
     "exception": false,
     "start_time": "2021-09-17T00:24:21.987677",
     "status": "completed"
    },
    "tags": []
   },
   "outputs": [],
   "source": [
    "#hide\n",
    "def get_template(path):\n",
    "    from urllib.parse import urlparse\n",
    "    if bool(urlparse(path).netloc):\n",
    "        from urllib.request import urlopen\n",
    "        return urlopen(path).read().decode('utf8')\n",
    "    return open(path).read()"
   ]
  },
  {
   "cell_type": "code",
   "execution_count": 7,
   "id": "realistic-blast",
   "metadata": {
    "execution": {
     "iopub.execute_input": "2021-09-17T00:24:22.112998Z",
     "iopub.status.busy": "2021-09-17T00:24:22.112351Z",
     "iopub.status.idle": "2021-09-17T00:24:22.115017Z",
     "shell.execute_reply": "2021-09-17T00:24:22.114479Z"
    },
    "papermill": {
     "duration": 0.04482,
     "end_time": "2021-09-17T00:24:22.115140",
     "exception": false,
     "start_time": "2021-09-17T00:24:22.070320",
     "status": "completed"
    },
    "tags": []
   },
   "outputs": [],
   "source": [
    "#hide\n",
    "def get_frame(name):\n",
    "    url = (\n",
    "        'https://raw.githubusercontent.com/CSSEGISandData/COVID-19/master/csse_covid_19_data/'\n",
    "        f'csse_covid_19_time_series/time_series_covid19_{name}_global.csv')\n",
    "    df = pd.read_csv(url)\n",
    "    # rename countries\n",
    "    df['Country/Region'] = df['Country/Region'].replace(mapping['replace.country'])\n",
    "    return df"
   ]
  },
  {
   "cell_type": "code",
   "execution_count": 8,
   "id": "affiliated-characterization",
   "metadata": {
    "execution": {
     "iopub.execute_input": "2021-09-17T00:24:22.203176Z",
     "iopub.status.busy": "2021-09-17T00:24:22.202526Z",
     "iopub.status.idle": "2021-09-17T00:24:22.204991Z",
     "shell.execute_reply": "2021-09-17T00:24:22.204439Z"
    },
    "papermill": {
     "duration": 0.051421,
     "end_time": "2021-09-17T00:24:22.205120",
     "exception": false,
     "start_time": "2021-09-17T00:24:22.153699",
     "status": "completed"
    },
    "tags": []
   },
   "outputs": [],
   "source": [
    "#hide\n",
    "def get_dates(df):\n",
    "    dt_cols = df.columns[~df.columns.isin(['Province/State', 'Country/Region', 'Lat', 'Long'])]\n",
    "    LAST_DATE_I = -1\n",
    "    # sometimes last column may be empty, then go backwards\n",
    "    for i in range(-1, -len(dt_cols), -1):\n",
    "        if not df[dt_cols[i]].fillna(0).eq(0).all():\n",
    "            LAST_DATE_I = i\n",
    "            break\n",
    "    return LAST_DATE_I, dt_cols"
   ]
  },
  {
   "cell_type": "code",
   "execution_count": 9,
   "id": "recent-optimization",
   "metadata": {
    "execution": {
     "iopub.execute_input": "2021-09-17T00:24:22.304045Z",
     "iopub.status.busy": "2021-09-17T00:24:22.303387Z",
     "iopub.status.idle": "2021-09-17T00:24:22.724985Z",
     "shell.execute_reply": "2021-09-17T00:24:22.723897Z"
    },
    "papermill": {
     "duration": 0.478588,
     "end_time": "2021-09-17T00:24:22.725130",
     "exception": false,
     "start_time": "2021-09-17T00:24:22.246542",
     "status": "completed"
    },
    "tags": []
   },
   "outputs": [],
   "source": [
    "#hide\n",
    "COL_REGION = 'Country/Region'\n",
    "# Confirmed, Recovered, Deaths\n",
    "df = get_frame('confirmed')\n",
    "# dft_: timeseries, dfc_: today country agg\n",
    "dft_cases = df\n",
    "dft_deaths = get_frame('deaths')\n",
    "dft_recovered = get_frame('recovered')\n",
    "LAST_DATE_I, dt_cols = get_dates(df)"
   ]
  },
  {
   "cell_type": "code",
   "execution_count": 10,
   "id": "absolute-copper",
   "metadata": {
    "execution": {
     "iopub.execute_input": "2021-09-17T00:24:22.808928Z",
     "iopub.status.busy": "2021-09-17T00:24:22.808251Z",
     "iopub.status.idle": "2021-09-17T00:24:22.811330Z",
     "shell.execute_reply": "2021-09-17T00:24:22.810777Z"
    },
    "papermill": {
     "duration": 0.047007,
     "end_time": "2021-09-17T00:24:22.811459",
     "exception": false,
     "start_time": "2021-09-17T00:24:22.764452",
     "status": "completed"
    },
    "tags": []
   },
   "outputs": [],
   "source": [
    "#hide\n",
    "LAST_DATE_I, dt_cols = get_dates(df)\n",
    "dt_today =dt_cols[LAST_DATE_I]\n",
    "# dt_5day = dt_cols[LAST_DATE_I - 5]\n",
    "dt_yday = dt_cols[LAST_DATE_I - 1]"
   ]
  },
  {
   "cell_type": "code",
   "execution_count": 11,
   "id": "restricted-sheriff",
   "metadata": {
    "execution": {
     "iopub.execute_input": "2021-09-17T00:24:22.895275Z",
     "iopub.status.busy": "2021-09-17T00:24:22.894633Z",
     "iopub.status.idle": "2021-09-17T00:24:22.901535Z",
     "shell.execute_reply": "2021-09-17T00:24:22.902089Z"
    },
    "papermill": {
     "duration": 0.052835,
     "end_time": "2021-09-17T00:24:22.902231",
     "exception": false,
     "start_time": "2021-09-17T00:24:22.849396",
     "status": "completed"
    },
    "tags": []
   },
   "outputs": [],
   "source": [
    "#hide\n",
    "dfc_cases = dft_cases.groupby(COL_REGION)[dt_today].sum()\n",
    "dfc_deaths = dft_deaths.groupby(COL_REGION)[dt_today].sum()\n",
    "# dfp_cases = dft_cases.groupby(COL_REGION)[dt_5day].sum()\n",
    "# dfp_deaths = dft_deaths.groupby(COL_REGION)[dt_5day].sum()\n",
    "dfp_cases = dft_cases.groupby(COL_REGION)[dt_yday].sum()\n",
    "dfp_deaths = dft_deaths.groupby(COL_REGION)[dt_yday].sum()"
   ]
  },
  {
   "cell_type": "code",
   "execution_count": 12,
   "id": "deluxe-hepatitis",
   "metadata": {
    "execution": {
     "iopub.execute_input": "2021-09-17T00:24:22.985366Z",
     "iopub.status.busy": "2021-09-17T00:24:22.984638Z",
     "iopub.status.idle": "2021-09-17T00:24:22.989122Z",
     "shell.execute_reply": "2021-09-17T00:24:22.989735Z"
    },
    "papermill": {
     "duration": 0.050249,
     "end_time": "2021-09-17T00:24:22.989872",
     "exception": false,
     "start_time": "2021-09-17T00:24:22.939623",
     "status": "completed"
    },
    "tags": []
   },
   "outputs": [],
   "source": [
    "#hide\n",
    "df_table = (pd.DataFrame(dict(Cases = dfc_cases, Deaths = dfc_deaths, PCases = dfp_cases, PDeaths = dfp_deaths))\n",
    "            .sort_values(by = ['Cases','Deaths'], ascending = [False, False])\n",
    "            .reset_index())"
   ]
  },
  {
   "cell_type": "code",
   "execution_count": 13,
   "id": "educational-chancellor",
   "metadata": {
    "execution": {
     "iopub.execute_input": "2021-09-17T00:24:23.087657Z",
     "iopub.status.busy": "2021-09-17T00:24:23.086888Z",
     "iopub.status.idle": "2021-09-17T00:24:23.095618Z",
     "shell.execute_reply": "2021-09-17T00:24:23.096214Z"
    },
    "papermill": {
     "duration": 0.06731,
     "end_time": "2021-09-17T00:24:23.096397",
     "exception": false,
     "start_time": "2021-09-17T00:24:23.029087",
     "status": "completed"
    },
    "tags": []
   },
   "outputs": [
    {
     "data": {
      "text/html": [
       "<div>\n",
       "<style scoped>\n",
       "    .dataframe tbody tr th:only-of-type {\n",
       "        vertical-align: middle;\n",
       "    }\n",
       "\n",
       "    .dataframe tbody tr th {\n",
       "        vertical-align: top;\n",
       "    }\n",
       "\n",
       "    .dataframe thead th {\n",
       "        text-align: right;\n",
       "    }\n",
       "</style>\n",
       "<table border=\"1\" class=\"dataframe\">\n",
       "  <thead>\n",
       "    <tr style=\"text-align: right;\">\n",
       "      <th></th>\n",
       "      <th>Country/Region</th>\n",
       "      <th>Cases</th>\n",
       "      <th>Deaths</th>\n",
       "      <th>PCases</th>\n",
       "      <th>PDeaths</th>\n",
       "      <th>Cases (+)</th>\n",
       "      <th>Deaths (+)</th>\n",
       "      <th>Fatality Rate</th>\n",
       "      <th>Continent</th>\n",
       "    </tr>\n",
       "  </thead>\n",
       "  <tbody>\n",
       "    <tr>\n",
       "      <th>0</th>\n",
       "      <td>US</td>\n",
       "      <td>41627946</td>\n",
       "      <td>666607</td>\n",
       "      <td>41461662</td>\n",
       "      <td>663929</td>\n",
       "      <td>166284</td>\n",
       "      <td>2678</td>\n",
       "      <td>1.60</td>\n",
       "      <td>North America</td>\n",
       "    </tr>\n",
       "    <tr>\n",
       "      <th>1</th>\n",
       "      <td>India</td>\n",
       "      <td>33347325</td>\n",
       "      <td>443928</td>\n",
       "      <td>33316755</td>\n",
       "      <td>443497</td>\n",
       "      <td>30570</td>\n",
       "      <td>431</td>\n",
       "      <td>1.33</td>\n",
       "      <td>Asia</td>\n",
       "    </tr>\n",
       "    <tr>\n",
       "      <th>2</th>\n",
       "      <td>Brazil</td>\n",
       "      <td>21034610</td>\n",
       "      <td>588597</td>\n",
       "      <td>21019830</td>\n",
       "      <td>587797</td>\n",
       "      <td>14780</td>\n",
       "      <td>800</td>\n",
       "      <td>2.80</td>\n",
       "      <td>South America</td>\n",
       "    </tr>\n",
       "    <tr>\n",
       "      <th>3</th>\n",
       "      <td>United Kingdom</td>\n",
       "      <td>7346832</td>\n",
       "      <td>134975</td>\n",
       "      <td>7316931</td>\n",
       "      <td>134774</td>\n",
       "      <td>29901</td>\n",
       "      <td>201</td>\n",
       "      <td>1.84</td>\n",
       "      <td>Europe</td>\n",
       "    </tr>\n",
       "    <tr>\n",
       "      <th>4</th>\n",
       "      <td>Russia</td>\n",
       "      <td>7091368</td>\n",
       "      <td>191566</td>\n",
       "      <td>7072825</td>\n",
       "      <td>190793</td>\n",
       "      <td>18543</td>\n",
       "      <td>773</td>\n",
       "      <td>2.70</td>\n",
       "      <td>Europe</td>\n",
       "    </tr>\n",
       "  </tbody>\n",
       "</table>\n",
       "</div>"
      ],
      "text/plain": [
       "   Country/Region     Cases  Deaths    PCases  PDeaths  Cases (+)  Deaths (+)  \\\n",
       "0              US  41627946  666607  41461662   663929     166284        2678   \n",
       "1           India  33347325  443928  33316755   443497      30570         431   \n",
       "2          Brazil  21034610  588597  21019830   587797      14780         800   \n",
       "3  United Kingdom   7346832  134975   7316931   134774      29901         201   \n",
       "4          Russia   7091368  191566   7072825   190793      18543         773   \n",
       "\n",
       "   Fatality Rate      Continent  \n",
       "0           1.60  North America  \n",
       "1           1.33           Asia  \n",
       "2           2.80  South America  \n",
       "3           1.84         Europe  \n",
       "4           2.70         Europe  "
      ]
     },
     "execution_count": 13,
     "metadata": {},
     "output_type": "execute_result"
    }
   ],
   "source": [
    "#hide\n",
    "for c in 'Cases, Deaths'.split(', '):\n",
    "    df_table[f'{c} (+)'] = (df_table[c] - df_table[f'P{c}']).clip(0)\n",
    "    #Clip ça veut dire, les chiffres negatif sont interdit\n",
    "df_table['Fatality Rate'] = (100* df_table['Deaths']/ df_table['Cases']).round(2)\n",
    "df_table['Continent'] = df_table['Country/Region'].map(mapping['map.continent'])\n",
    "df_table.head(5)"
   ]
  },
  {
   "cell_type": "code",
   "execution_count": 14,
   "id": "aboriginal-bulgaria",
   "metadata": {
    "execution": {
     "iopub.execute_input": "2021-09-17T00:24:23.179102Z",
     "iopub.status.busy": "2021-09-17T00:24:23.178463Z",
     "iopub.status.idle": "2021-09-17T00:24:23.180365Z",
     "shell.execute_reply": "2021-09-17T00:24:23.180889Z"
    },
    "papermill": {
     "duration": 0.045959,
     "end_time": "2021-09-17T00:24:23.181027",
     "exception": false,
     "start_time": "2021-09-17T00:24:23.135068",
     "status": "completed"
    },
    "tags": []
   },
   "outputs": [],
   "source": [
    "#hide\n",
    "#delete problematic countries from table\n",
    "df_table = df_table[~df_table['Country/Region'].isin(['Cape Verde', 'Cruise Ship', 'Kosovo'])]"
   ]
  },
  {
   "cell_type": "code",
   "execution_count": 15,
   "id": "fantastic-effect",
   "metadata": {
    "execution": {
     "iopub.execute_input": "2021-09-17T00:24:23.265493Z",
     "iopub.status.busy": "2021-09-17T00:24:23.264853Z",
     "iopub.status.idle": "2021-09-17T00:24:23.287637Z",
     "shell.execute_reply": "2021-09-17T00:24:23.288163Z"
    },
    "papermill": {
     "duration": 0.069279,
     "end_time": "2021-09-17T00:24:23.288330",
     "exception": false,
     "start_time": "2021-09-17T00:24:23.219051",
     "status": "completed"
    },
    "tags": []
   },
   "outputs": [
    {
     "data": {
      "text/html": [
       "<div>\n",
       "<style scoped>\n",
       "    .dataframe tbody tr th:only-of-type {\n",
       "        vertical-align: middle;\n",
       "    }\n",
       "\n",
       "    .dataframe tbody tr th {\n",
       "        vertical-align: top;\n",
       "    }\n",
       "\n",
       "    .dataframe thead th {\n",
       "        text-align: right;\n",
       "    }\n",
       "</style>\n",
       "<table border=\"1\" class=\"dataframe\">\n",
       "  <thead>\n",
       "    <tr style=\"text-align: right;\">\n",
       "      <th></th>\n",
       "      <th>Country/Region</th>\n",
       "      <th>Cases</th>\n",
       "      <th>Deaths</th>\n",
       "      <th>PCases</th>\n",
       "      <th>PDeaths</th>\n",
       "      <th>Cases (+)</th>\n",
       "      <th>Deaths (+)</th>\n",
       "      <th>Fatality Rate</th>\n",
       "      <th>Continent</th>\n",
       "    </tr>\n",
       "  </thead>\n",
       "  <tbody>\n",
       "    <tr>\n",
       "      <th>0</th>\n",
       "      <td>US</td>\n",
       "      <td>41627946</td>\n",
       "      <td>666607</td>\n",
       "      <td>41461662</td>\n",
       "      <td>663929</td>\n",
       "      <td>166284</td>\n",
       "      <td>2678</td>\n",
       "      <td>1.6</td>\n",
       "      <td>North America</td>\n",
       "    </tr>\n",
       "    <tr>\n",
       "      <th>1</th>\n",
       "      <td>India</td>\n",
       "      <td>33347325</td>\n",
       "      <td>443928</td>\n",
       "      <td>33316755</td>\n",
       "      <td>443497</td>\n",
       "      <td>30570</td>\n",
       "      <td>431</td>\n",
       "      <td>1.3</td>\n",
       "      <td>Asia</td>\n",
       "    </tr>\n",
       "    <tr>\n",
       "      <th>2</th>\n",
       "      <td>Brazil</td>\n",
       "      <td>21034610</td>\n",
       "      <td>588597</td>\n",
       "      <td>21019830</td>\n",
       "      <td>587797</td>\n",
       "      <td>14780</td>\n",
       "      <td>800</td>\n",
       "      <td>2.8</td>\n",
       "      <td>South America</td>\n",
       "    </tr>\n",
       "    <tr>\n",
       "      <th>3</th>\n",
       "      <td>United Kingdom</td>\n",
       "      <td>7346832</td>\n",
       "      <td>134975</td>\n",
       "      <td>7316931</td>\n",
       "      <td>134774</td>\n",
       "      <td>29901</td>\n",
       "      <td>201</td>\n",
       "      <td>1.8</td>\n",
       "      <td>Europe</td>\n",
       "    </tr>\n",
       "    <tr>\n",
       "      <th>4</th>\n",
       "      <td>Russia</td>\n",
       "      <td>7091368</td>\n",
       "      <td>191566</td>\n",
       "      <td>7072825</td>\n",
       "      <td>190793</td>\n",
       "      <td>18543</td>\n",
       "      <td>773</td>\n",
       "      <td>2.7</td>\n",
       "      <td>Europe</td>\n",
       "    </tr>\n",
       "  </tbody>\n",
       "</table>\n",
       "</div>"
      ],
      "text/plain": [
       "   Country/Region     Cases  Deaths    PCases  PDeaths  Cases (+)  Deaths (+)  \\\n",
       "0              US  41627946  666607  41461662   663929     166284        2678   \n",
       "1           India  33347325  443928  33316755   443497      30570         431   \n",
       "2          Brazil  21034610  588597  21019830   587797      14780         800   \n",
       "3  United Kingdom   7346832  134975   7316931   134774      29901         201   \n",
       "4          Russia   7091368  191566   7072825   190793      18543         773   \n",
       "\n",
       "   Fatality Rate      Continent  \n",
       "0            1.6  North America  \n",
       "1            1.3           Asia  \n",
       "2            2.8  South America  \n",
       "3            1.8         Europe  \n",
       "4            2.7         Europe  "
      ]
     },
     "execution_count": 15,
     "metadata": {},
     "output_type": "execute_result"
    }
   ],
   "source": [
    "#hide\n",
    "df_table = (pd.DataFrame(dict(Cases=dfc_cases, Deaths=dfc_deaths, PCases=dfp_cases, PDeaths=dfp_deaths))\n",
    "             .sort_values(by=['Cases', 'Deaths'], ascending=[False, False])\n",
    "             .reset_index())\n",
    "df_table.rename(columns={'index': 'Country/Region'}, inplace=True)\n",
    "for c in 'Cases, Deaths'.split(', '):\n",
    "    df_table[f'{c} (+)'] = (df_table[c] - df_table[f'P{c}']).clip(0)  # DATA BUG\n",
    "df_table['Fatality Rate'] = (100 * df_table['Deaths'] / df_table['Cases']).round(1)\n",
    "df_table['Continent'] = df_table['Country/Region'].map(mapping['map.continent'])\n",
    "df_table.head(5)"
   ]
  },
  {
   "cell_type": "code",
   "execution_count": 16,
   "id": "fewer-occasion",
   "metadata": {
    "execution": {
     "iopub.execute_input": "2021-09-17T00:24:23.373802Z",
     "iopub.status.busy": "2021-09-17T00:24:23.373160Z",
     "iopub.status.idle": "2021-09-17T00:24:23.376128Z",
     "shell.execute_reply": "2021-09-17T00:24:23.375585Z"
    },
    "papermill": {
     "duration": 0.048526,
     "end_time": "2021-09-17T00:24:23.376263",
     "exception": false,
     "start_time": "2021-09-17T00:24:23.327737",
     "status": "completed"
    },
    "tags": []
   },
   "outputs": [],
   "source": [
    "#hide\n",
    "#delete problematic countries from table\n",
    "df_table = df_table[~df_table['Country/Region'].isin(['Cape Verde', 'Cruise Ship', 'Kosovo'])]"
   ]
  },
  {
   "cell_type": "code",
   "execution_count": 17,
   "id": "related-center",
   "metadata": {
    "execution": {
     "iopub.execute_input": "2021-09-17T00:24:23.465741Z",
     "iopub.status.busy": "2021-09-17T00:24:23.465094Z",
     "iopub.status.idle": "2021-09-17T00:24:23.479900Z",
     "shell.execute_reply": "2021-09-17T00:24:23.478935Z"
    },
    "papermill": {
     "duration": 0.064562,
     "end_time": "2021-09-17T00:24:23.480029",
     "exception": false,
     "start_time": "2021-09-17T00:24:23.415467",
     "status": "completed"
    },
    "tags": []
   },
   "outputs": [],
   "source": [
    "#hide\n",
    "metrics = [df_table.columns[index] for index in [1,2,5,6]]\n",
    "# s_china = df_table[df_table['Country/Region'].eq('China')][metrics].sum().add_prefix('China ')\n",
    "s_us = df_table[df_table['Country/Region'].eq('US')][metrics].sum().add_prefix('US ')\n",
    "s_eu = df_table[df_table['Continent'].eq('Europe')][metrics].sum().add_prefix('EU ')\n",
    "s_ind = df_table[df_table['Country/Region'].eq('India')][metrics].sum().add_prefix('India ')\n",
    "summary = {'updated': pd.to_datetime(dt_today), 'since': pd.to_datetime(dt_yday)}\n",
    "summary = {'updated': pd.to_datetime(dt_today), 'since': pd.to_datetime(dt_yday)}\n",
    "summary = {**summary, **df_table[metrics].sum(), **s_ind, **s_us, **s_eu}"
   ]
  },
  {
   "cell_type": "code",
   "execution_count": 18,
   "id": "engaging-syndrome",
   "metadata": {
    "execution": {
     "iopub.execute_input": "2021-09-17T00:24:23.565567Z",
     "iopub.status.busy": "2021-09-17T00:24:23.564912Z",
     "iopub.status.idle": "2021-09-17T00:24:23.579188Z",
     "shell.execute_reply": "2021-09-17T00:24:23.579705Z"
    },
    "papermill": {
     "duration": 0.060086,
     "end_time": "2021-09-17T00:24:23.579860",
     "exception": false,
     "start_time": "2021-09-17T00:24:23.519774",
     "status": "completed"
    },
    "tags": []
   },
   "outputs": [],
   "source": [
    "#hide\n",
    "dft_ct_new_cases = dft_cases.groupby(COL_REGION)[dt_cols].sum().diff(axis=1).fillna(0).astype(int)"
   ]
  },
  {
   "cell_type": "code",
   "execution_count": 19,
   "id": "neutral-assignment",
   "metadata": {
    "execution": {
     "iopub.execute_input": "2021-09-17T00:24:23.668511Z",
     "iopub.status.busy": "2021-09-17T00:24:23.667834Z",
     "iopub.status.idle": "2021-09-17T00:24:23.670210Z",
     "shell.execute_reply": "2021-09-17T00:24:23.669577Z"
    },
    "papermill": {
     "duration": 0.050356,
     "end_time": "2021-09-17T00:24:23.670337",
     "exception": false,
     "start_time": "2021-09-17T00:24:23.619981",
     "status": "completed"
    },
    "tags": []
   },
   "outputs": [],
   "source": [
    "#hide\n",
    "everydaycases = dft_ct_new_cases.cumsum(axis=1)"
   ]
  },
  {
   "cell_type": "code",
   "execution_count": 20,
   "id": "parliamentary-calgary",
   "metadata": {
    "execution": {
     "iopub.execute_input": "2021-09-17T00:24:23.754760Z",
     "iopub.status.busy": "2021-09-17T00:24:23.754113Z",
     "iopub.status.idle": "2021-09-17T00:24:24.666824Z",
     "shell.execute_reply": "2021-09-17T00:24:24.667353Z"
    },
    "papermill": {
     "duration": 0.957334,
     "end_time": "2021-09-17T00:24:24.667527",
     "exception": false,
     "start_time": "2021-09-17T00:24:23.710193",
     "status": "completed"
    },
    "tags": []
   },
   "outputs": [],
   "source": [
    "#hide\n",
    "import pandas as pd\n",
    "import matplotlib.pyplot as plt\n",
    "import matplotlib.ticker as ticker\n",
    "import matplotlib.animation as animation\n",
    "from IPython.display import HTML"
   ]
  },
  {
   "cell_type": "code",
   "execution_count": 21,
   "id": "lasting-extraction",
   "metadata": {
    "execution": {
     "iopub.execute_input": "2021-09-17T00:24:24.752447Z",
     "iopub.status.busy": "2021-09-17T00:24:24.751716Z",
     "iopub.status.idle": "2021-09-17T00:24:24.757165Z",
     "shell.execute_reply": "2021-09-17T00:24:24.757794Z"
    },
    "papermill": {
     "duration": 0.051355,
     "end_time": "2021-09-17T00:24:24.757948",
     "exception": false,
     "start_time": "2021-09-17T00:24:24.706593",
     "status": "completed"
    },
    "tags": []
   },
   "outputs": [],
   "source": [
    "#hide\n",
    "t = everydaycases.stack()"
   ]
  },
  {
   "cell_type": "code",
   "execution_count": 22,
   "id": "premier-sleeve",
   "metadata": {
    "execution": {
     "iopub.execute_input": "2021-09-17T00:24:24.844133Z",
     "iopub.status.busy": "2021-09-17T00:24:24.843341Z",
     "iopub.status.idle": "2021-09-17T00:24:24.856441Z",
     "shell.execute_reply": "2021-09-17T00:24:24.857037Z"
    },
    "papermill": {
     "duration": 0.060519,
     "end_time": "2021-09-17T00:24:24.857201",
     "exception": false,
     "start_time": "2021-09-17T00:24:24.796682",
     "status": "completed"
    },
    "tags": []
   },
   "outputs": [],
   "source": [
    "#hide\n",
    "g = t.reset_index(['Country/Region'])"
   ]
  },
  {
   "cell_type": "code",
   "execution_count": 23,
   "id": "distributed-pittsburgh",
   "metadata": {
    "execution": {
     "iopub.execute_input": "2021-09-17T00:24:24.942768Z",
     "iopub.status.busy": "2021-09-17T00:24:24.942117Z",
     "iopub.status.idle": "2021-09-17T00:24:24.943862Z",
     "shell.execute_reply": "2021-09-17T00:24:24.944514Z"
    },
    "papermill": {
     "duration": 0.045119,
     "end_time": "2021-09-17T00:24:24.944660",
     "exception": false,
     "start_time": "2021-09-17T00:24:24.899541",
     "status": "completed"
    },
    "tags": []
   },
   "outputs": [],
   "source": [
    "#hide\n",
    "g.index.name = 'date'"
   ]
  },
  {
   "cell_type": "code",
   "execution_count": 24,
   "id": "naked-donor",
   "metadata": {
    "execution": {
     "iopub.execute_input": "2021-09-17T00:24:25.029421Z",
     "iopub.status.busy": "2021-09-17T00:24:25.028764Z",
     "iopub.status.idle": "2021-09-17T00:24:25.030179Z",
     "shell.execute_reply": "2021-09-17T00:24:25.030798Z"
    },
    "papermill": {
     "duration": 0.046962,
     "end_time": "2021-09-17T00:24:25.030939",
     "exception": false,
     "start_time": "2021-09-17T00:24:24.983977",
     "status": "completed"
    },
    "tags": []
   },
   "outputs": [],
   "source": [
    "# #hide\n",
    "# g = g.reset_index(['date'])"
   ]
  },
  {
   "cell_type": "code",
   "execution_count": 25,
   "id": "incomplete-mustang",
   "metadata": {
    "execution": {
     "iopub.execute_input": "2021-09-17T00:24:25.125637Z",
     "iopub.status.busy": "2021-09-17T00:24:25.124986Z",
     "iopub.status.idle": "2021-09-17T00:24:25.127690Z",
     "shell.execute_reply": "2021-09-17T00:24:25.127134Z"
    },
    "papermill": {
     "duration": 0.049037,
     "end_time": "2021-09-17T00:24:25.127821",
     "exception": false,
     "start_time": "2021-09-17T00:24:25.078784",
     "status": "completed"
    },
    "tags": []
   },
   "outputs": [],
   "source": [
    "#hide\n",
    "# g.head()"
   ]
  },
  {
   "cell_type": "code",
   "execution_count": 26,
   "id": "specific-kruger",
   "metadata": {
    "execution": {
     "iopub.execute_input": "2021-09-17T00:24:25.212200Z",
     "iopub.status.busy": "2021-09-17T00:24:25.211545Z",
     "iopub.status.idle": "2021-09-17T00:24:25.214746Z",
     "shell.execute_reply": "2021-09-17T00:24:25.215873Z"
    },
    "papermill": {
     "duration": 0.047654,
     "end_time": "2021-09-17T00:24:25.216027",
     "exception": false,
     "start_time": "2021-09-17T00:24:25.168373",
     "status": "completed"
    },
    "tags": []
   },
   "outputs": [],
   "source": [
    "#hide\n",
    "# g.columns = ['date','country','cases']"
   ]
  },
  {
   "cell_type": "code",
   "execution_count": 27,
   "id": "tender-conversion",
   "metadata": {
    "execution": {
     "iopub.execute_input": "2021-09-17T00:24:25.301612Z",
     "iopub.status.busy": "2021-09-17T00:24:25.300892Z",
     "iopub.status.idle": "2021-09-17T00:24:25.302777Z",
     "shell.execute_reply": "2021-09-17T00:24:25.303332Z"
    },
    "papermill": {
     "duration": 0.047047,
     "end_time": "2021-09-17T00:24:25.303475",
     "exception": false,
     "start_time": "2021-09-17T00:24:25.256428",
     "status": "completed"
    },
    "tags": []
   },
   "outputs": [],
   "source": [
    "#hide\n",
    "# g['continent'] = g.country"
   ]
  },
  {
   "cell_type": "code",
   "execution_count": 28,
   "id": "substantial-wilderness",
   "metadata": {
    "execution": {
     "iopub.execute_input": "2021-09-17T00:24:25.387782Z",
     "iopub.status.busy": "2021-09-17T00:24:25.386945Z",
     "iopub.status.idle": "2021-09-17T00:24:25.388606Z",
     "shell.execute_reply": "2021-09-17T00:24:25.389230Z"
    },
    "papermill": {
     "duration": 0.045777,
     "end_time": "2021-09-17T00:24:25.389375",
     "exception": false,
     "start_time": "2021-09-17T00:24:25.343598",
     "status": "completed"
    },
    "tags": []
   },
   "outputs": [],
   "source": [
    "#hide\n",
    "# cols = list(g.columns.values)"
   ]
  },
  {
   "cell_type": "code",
   "execution_count": 29,
   "id": "solved-farming",
   "metadata": {
    "execution": {
     "iopub.execute_input": "2021-09-17T00:24:25.471032Z",
     "iopub.status.busy": "2021-09-17T00:24:25.470384Z",
     "iopub.status.idle": "2021-09-17T00:24:25.472259Z",
     "shell.execute_reply": "2021-09-17T00:24:25.472850Z"
    },
    "papermill": {
     "duration": 0.044365,
     "end_time": "2021-09-17T00:24:25.472995",
     "exception": false,
     "start_time": "2021-09-17T00:24:25.428630",
     "status": "completed"
    },
    "tags": []
   },
   "outputs": [],
   "source": [
    "#hide\n",
    "# cols.insert(0, cols.pop())"
   ]
  },
  {
   "cell_type": "code",
   "execution_count": 30,
   "id": "executed-adoption",
   "metadata": {
    "execution": {
     "iopub.execute_input": "2021-09-17T00:24:25.554221Z",
     "iopub.status.busy": "2021-09-17T00:24:25.553572Z",
     "iopub.status.idle": "2021-09-17T00:24:25.556215Z",
     "shell.execute_reply": "2021-09-17T00:24:25.555484Z"
    },
    "papermill": {
     "duration": 0.044746,
     "end_time": "2021-09-17T00:24:25.556372",
     "exception": false,
     "start_time": "2021-09-17T00:24:25.511626",
     "status": "completed"
    },
    "tags": []
   },
   "outputs": [],
   "source": [
    "#hide\n",
    "# g = g[cols]"
   ]
  },
  {
   "cell_type": "code",
   "execution_count": 31,
   "id": "subject-dublin",
   "metadata": {
    "execution": {
     "iopub.execute_input": "2021-09-17T00:24:25.642202Z",
     "iopub.status.busy": "2021-09-17T00:24:25.641541Z",
     "iopub.status.idle": "2021-09-17T00:24:25.643879Z",
     "shell.execute_reply": "2021-09-17T00:24:25.643241Z"
    },
    "papermill": {
     "duration": 0.049073,
     "end_time": "2021-09-17T00:24:25.644007",
     "exception": false,
     "start_time": "2021-09-17T00:24:25.594934",
     "status": "completed"
    },
    "tags": []
   },
   "outputs": [],
   "source": [
    "#hide\n",
    "# g['continent'] = g['continent'].map(mapping['map.continent'])"
   ]
  },
  {
   "cell_type": "code",
   "execution_count": 32,
   "id": "freelance-scout",
   "metadata": {
    "execution": {
     "iopub.execute_input": "2021-09-17T00:24:25.725905Z",
     "iopub.status.busy": "2021-09-17T00:24:25.725257Z",
     "iopub.status.idle": "2021-09-17T00:24:25.727727Z",
     "shell.execute_reply": "2021-09-17T00:24:25.727176Z"
    },
    "papermill": {
     "duration": 0.045325,
     "end_time": "2021-09-17T00:24:25.727856",
     "exception": false,
     "start_time": "2021-09-17T00:24:25.682531",
     "status": "completed"
    },
    "tags": []
   },
   "outputs": [],
   "source": [
    "#hide\n",
    "# g.head()"
   ]
  },
  {
   "cell_type": "code",
   "execution_count": 33,
   "id": "limited-engine",
   "metadata": {
    "execution": {
     "iopub.execute_input": "2021-09-17T00:24:25.819814Z",
     "iopub.status.busy": "2021-09-17T00:24:25.819155Z",
     "iopub.status.idle": "2021-09-17T00:24:25.821246Z",
     "shell.execute_reply": "2021-09-17T00:24:25.821741Z"
    },
    "papermill": {
     "duration": 0.045805,
     "end_time": "2021-09-17T00:24:25.821889",
     "exception": false,
     "start_time": "2021-09-17T00:24:25.776084",
     "status": "completed"
    },
    "tags": []
   },
   "outputs": [],
   "source": [
    "# hide\n",
    "# g['date'] = g['date'].astype('datetime64[ns]')"
   ]
  },
  {
   "cell_type": "code",
   "execution_count": 34,
   "id": "sophisticated-supervisor",
   "metadata": {
    "execution": {
     "iopub.execute_input": "2021-09-17T00:24:25.907506Z",
     "iopub.status.busy": "2021-09-17T00:24:25.906852Z",
     "iopub.status.idle": "2021-09-17T00:24:25.908758Z",
     "shell.execute_reply": "2021-09-17T00:24:25.909288Z"
    },
    "papermill": {
     "duration": 0.045359,
     "end_time": "2021-09-17T00:24:25.909440",
     "exception": false,
     "start_time": "2021-09-17T00:24:25.864081",
     "status": "completed"
    },
    "tags": []
   },
   "outputs": [],
   "source": [
    "#hide\n",
    "# g['date'] = g.date.dt.dayofyear"
   ]
  },
  {
   "cell_type": "code",
   "execution_count": 35,
   "id": "inside-dubai",
   "metadata": {
    "execution": {
     "iopub.execute_input": "2021-09-17T00:24:26.005236Z",
     "iopub.status.busy": "2021-09-17T00:24:26.004151Z",
     "iopub.status.idle": "2021-09-17T00:24:26.007214Z",
     "shell.execute_reply": "2021-09-17T00:24:26.006610Z"
    },
    "papermill": {
     "duration": 0.055969,
     "end_time": "2021-09-17T00:24:26.007347",
     "exception": false,
     "start_time": "2021-09-17T00:24:25.951378",
     "status": "completed"
    },
    "tags": []
   },
   "outputs": [],
   "source": [
    "#hide\n",
    "# g = g.rename(columns= {'continent':'group','country':'name','cases':'value'})"
   ]
  },
  {
   "cell_type": "code",
   "execution_count": 36,
   "id": "fleet-motorcycle",
   "metadata": {
    "execution": {
     "iopub.execute_input": "2021-09-17T00:24:26.100204Z",
     "iopub.status.busy": "2021-09-17T00:24:26.099557Z",
     "iopub.status.idle": "2021-09-17T00:24:26.101455Z",
     "shell.execute_reply": "2021-09-17T00:24:26.101979Z"
    },
    "papermill": {
     "duration": 0.047088,
     "end_time": "2021-09-17T00:24:26.102124",
     "exception": false,
     "start_time": "2021-09-17T00:24:26.055036",
     "status": "completed"
    },
    "tags": []
   },
   "outputs": [],
   "source": [
    "#hide\n",
    "# cols = ['name','group','day','value']"
   ]
  },
  {
   "cell_type": "code",
   "execution_count": 37,
   "id": "continued-sleeping",
   "metadata": {
    "execution": {
     "iopub.execute_input": "2021-09-17T00:24:26.188481Z",
     "iopub.status.busy": "2021-09-17T00:24:26.187799Z",
     "iopub.status.idle": "2021-09-17T00:24:26.189665Z",
     "shell.execute_reply": "2021-09-17T00:24:26.190221Z"
    },
    "papermill": {
     "duration": 0.046737,
     "end_time": "2021-09-17T00:24:26.190376",
     "exception": false,
     "start_time": "2021-09-17T00:24:26.143639",
     "status": "completed"
    },
    "tags": []
   },
   "outputs": [],
   "source": [
    "#hide\n",
    "# g.rename(columns= {'date':'day'},inplace = True)"
   ]
  },
  {
   "cell_type": "code",
   "execution_count": 38,
   "id": "major-fight",
   "metadata": {
    "execution": {
     "iopub.execute_input": "2021-09-17T00:24:26.274345Z",
     "iopub.status.busy": "2021-09-17T00:24:26.273701Z",
     "iopub.status.idle": "2021-09-17T00:24:26.276330Z",
     "shell.execute_reply": "2021-09-17T00:24:26.275762Z"
    },
    "papermill": {
     "duration": 0.04709,
     "end_time": "2021-09-17T00:24:26.276463",
     "exception": false,
     "start_time": "2021-09-17T00:24:26.229373",
     "status": "completed"
    },
    "tags": []
   },
   "outputs": [],
   "source": [
    "#hide\n",
    "# g = g[cols]"
   ]
  },
  {
   "cell_type": "code",
   "execution_count": 39,
   "id": "structured-mobile",
   "metadata": {
    "execution": {
     "iopub.execute_input": "2021-09-17T00:24:26.362131Z",
     "iopub.status.busy": "2021-09-17T00:24:26.361474Z",
     "iopub.status.idle": "2021-09-17T00:24:26.363806Z",
     "shell.execute_reply": "2021-09-17T00:24:26.363169Z"
    },
    "papermill": {
     "duration": 0.045313,
     "end_time": "2021-09-17T00:24:26.363936",
     "exception": false,
     "start_time": "2021-09-17T00:24:26.318623",
     "status": "completed"
    },
    "tags": []
   },
   "outputs": [],
   "source": [
    "# #hide\n",
    "# g = g[g.group.notna()]"
   ]
  },
  {
   "cell_type": "code",
   "execution_count": 40,
   "id": "determined-closing",
   "metadata": {
    "execution": {
     "iopub.execute_input": "2021-09-17T00:24:26.449224Z",
     "iopub.status.busy": "2021-09-17T00:24:26.448359Z",
     "iopub.status.idle": "2021-09-17T00:24:26.449977Z",
     "shell.execute_reply": "2021-09-17T00:24:26.450517Z"
    },
    "papermill": {
     "duration": 0.045957,
     "end_time": "2021-09-17T00:24:26.450664",
     "exception": false,
     "start_time": "2021-09-17T00:24:26.404707",
     "status": "completed"
    },
    "tags": []
   },
   "outputs": [],
   "source": [
    "# #hide\n",
    "# colors = dict(zip(\n",
    "#     [\"Oceania\", \"Europe\", \"Asia\", \"South America\", \"Middle East\", \"North America\", \"Africa\"],\n",
    "#     [\"#adb0ff\", \"#ffb3ff\", \"#90d595\", \"#e48381\", \"#aafbff\", \"#f7bb5f\", \"#eafb50\"]\n",
    "# ))\n",
    "# group_lk = g.set_index('name')['group'].to_dict()"
   ]
  },
  {
   "cell_type": "code",
   "execution_count": null,
   "id": "gross-drinking",
   "metadata": {
    "papermill": {
     "duration": 0.046448,
     "end_time": "2021-09-17T00:24:26.542707",
     "exception": false,
     "start_time": "2021-09-17T00:24:26.496259",
     "status": "completed"
    },
    "tags": []
   },
   "outputs": [],
   "source": []
  },
  {
   "cell_type": "code",
   "execution_count": 41,
   "id": "subject-macintosh",
   "metadata": {
    "execution": {
     "iopub.execute_input": "2021-09-17T00:24:26.640567Z",
     "iopub.status.busy": "2021-09-17T00:24:26.639820Z",
     "iopub.status.idle": "2021-09-17T00:24:26.642277Z",
     "shell.execute_reply": "2021-09-17T00:24:26.641724Z"
    },
    "papermill": {
     "duration": 0.048075,
     "end_time": "2021-09-17T00:24:26.642405",
     "exception": false,
     "start_time": "2021-09-17T00:24:26.594330",
     "status": "completed"
    },
    "tags": []
   },
   "outputs": [],
   "source": [
    "# #hide\n",
    "# fig, ax = plt.subplots(figsize=(15, 8))\n",
    "\n",
    "# def draw_barchart(current_day):\n",
    "#     dff = g[g['day'].eq(current_day)].sort_values(by='value', ascending=True).tail(10)\n",
    "#     ax.clear()\n",
    "#     ax.barh(dff['name'], dff['value'], color=[colors[group_lk[x]] for x in dff['name']])\n",
    "#     dx = dff['value'].max() / 200\n",
    "    \n",
    "#     for i, (value, name) in enumerate(zip(dff['value'], dff['name'])):\n",
    "#         ax.text(value-dx, i,     name,           size=14, weight=600, ha='right', va='bottom')\n",
    "#         ax.text(value-dx, i-.25, group_lk[name], size=10, color='#444444', ha='right', va='baseline')\n",
    "#         ax.text(value+dx, i,     f'{value:,.0f}',  size=14, ha='left',  va='center')\n",
    "#     ax.text(1, 0.4, current_day, transform=ax.transAxes, color='#777777', size=46, ha='right', weight=800)\n",
    "#     ax.text(0, 1.06, 'Population (thousands)', transform=ax.transAxes, size=12, color='#777777')\n",
    "#     ax.xaxis.set_major_formatter(ticker.StrMethodFormatter('{x:,.0f}'))\n",
    "#     ax.xaxis.set_ticks_position('top')\n",
    "#     ax.tick_params(axis='x', colors='#777777', labelsize=12)\n",
    "#     ax.set_yticks([])\n",
    "#     ax.margins(0, 0.01)\n",
    "#     ax.grid(which='major', axis='x', linestyle='-')\n",
    "#     ax.set_axisbelow(True)\n",
    "    \n",
    "#     ax.text(0, 1.15, 'Coronavirus',\n",
    "#             transform=ax.transAxes, size=24, weight=600, ha='left', va='top')\n",
    "# #     ax.text(1, 0, 'by @pratapvardhan; credit @jburnmurdoch', transform=ax.transAxes, color='#777777', ha='right',\n",
    "# #             bbox=dict(facecolor='white', alpha=0.8, edgecolor='white'))\n",
    "#     plt.box(False)"
   ]
  },
  {
   "cell_type": "code",
   "execution_count": 42,
   "id": "sexual-wages",
   "metadata": {
    "execution": {
     "iopub.execute_input": "2021-09-17T00:24:26.725559Z",
     "iopub.status.busy": "2021-09-17T00:24:26.724910Z",
     "iopub.status.idle": "2021-09-17T00:24:26.726778Z",
     "shell.execute_reply": "2021-09-17T00:24:26.727337Z"
    },
    "papermill": {
     "duration": 0.044463,
     "end_time": "2021-09-17T00:24:26.727473",
     "exception": false,
     "start_time": "2021-09-17T00:24:26.683010",
     "status": "completed"
    },
    "tags": []
   },
   "outputs": [],
   "source": [
    "# #hide_input\n",
    "# fig, ax = plt.subplots(figsize=(15, 8))\n",
    "# animator = animation.FuncAnimation(fig, draw_barchart, frames=range(g.day.values.min(), g.day.values.max()))\n",
    "# HTML(animator.to_jshtml())\n",
    "# # or use animator.to_html5_video() or animator.save() "
   ]
  },
  {
   "cell_type": "code",
   "execution_count": null,
   "id": "australian-container",
   "metadata": {
    "papermill": {
     "duration": 0.037835,
     "end_time": "2021-09-17T00:24:26.804671",
     "exception": false,
     "start_time": "2021-09-17T00:24:26.766836",
     "status": "completed"
    },
    "tags": []
   },
   "outputs": [],
   "source": []
  },
  {
   "cell_type": "code",
   "execution_count": null,
   "id": "mediterranean-pontiac",
   "metadata": {
    "papermill": {
     "duration": 0.046919,
     "end_time": "2021-09-17T00:24:26.890916",
     "exception": false,
     "start_time": "2021-09-17T00:24:26.843997",
     "status": "completed"
    },
    "tags": []
   },
   "outputs": [],
   "source": []
  },
  {
   "cell_type": "code",
   "execution_count": null,
   "id": "aging-legislature",
   "metadata": {
    "papermill": {
     "duration": 0.039644,
     "end_time": "2021-09-17T00:24:26.970650",
     "exception": false,
     "start_time": "2021-09-17T00:24:26.931006",
     "status": "completed"
    },
    "tags": []
   },
   "outputs": [],
   "source": []
  }
 ],
 "metadata": {
  "kernelspec": {
   "display_name": "Python 3",
   "language": "python",
   "name": "python3"
  },
  "language_info": {
   "codemirror_mode": {
    "name": "ipython",
    "version": 3
   },
   "file_extension": ".py",
   "mimetype": "text/x-python",
   "name": "python",
   "nbconvert_exporter": "python",
   "pygments_lexer": "ipython3",
   "version": "3.6.15"
  },
  "papermill": {
   "duration": 7.370718,
   "end_time": "2021-09-17T00:24:27.319528",
   "environment_variables": {},
   "exception": null,
   "input_path": "2020-03-21-covid19exp.ipynb",
   "output_path": "2020-03-21-covid19exp.ipynb",
   "parameters": {},
   "start_time": "2021-09-17T00:24:19.948810",
   "version": "2.0.0"
  }
 },
 "nbformat": 4,
 "nbformat_minor": 5
}