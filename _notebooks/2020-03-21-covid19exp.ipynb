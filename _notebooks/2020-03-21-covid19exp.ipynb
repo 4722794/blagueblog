{
 "cells": [
  {
   "cell_type": "markdown",
   "id": "muslim-click",
   "metadata": {
    "papermill": {
     "duration": 0.042826,
     "end_time": "2022-08-23T00:55:25.242671",
     "exception": false,
     "start_time": "2022-08-23T00:55:25.199845",
     "status": "completed"
    },
    "tags": []
   },
   "source": [
    "# COVID-19 Case Race\n",
    "> A race chart to see rising cases around the world\n",
    "\n",
    "- author: Hargun Oberoi\n",
    "- image: images/covid-overview.png\n",
    "- hide: false\n",
    "- badges: false"
   ]
  },
  {
   "cell_type": "code",
   "execution_count": 1,
   "id": "proof-material",
   "metadata": {
    "execution": {
     "iopub.execute_input": "2022-08-23T00:55:25.333998Z",
     "iopub.status.busy": "2022-08-23T00:55:25.333166Z",
     "iopub.status.idle": "2022-08-23T00:55:25.756008Z",
     "shell.execute_reply": "2022-08-23T00:55:25.754736Z"
    },
    "papermill": {
     "duration": 0.476968,
     "end_time": "2022-08-23T00:55:25.756188",
     "exception": false,
     "start_time": "2022-08-23T00:55:25.279220",
     "status": "completed"
    },
    "tags": []
   },
   "outputs": [],
   "source": [
    "#hide\n",
    "import numpy as np\n",
    "import pandas as pd\n",
    "from jinja2 import Template\n",
    "from IPython.display import HTML"
   ]
  },
  {
   "cell_type": "code",
   "execution_count": 2,
   "id": "developed-terminology",
   "metadata": {
    "execution": {
     "iopub.execute_input": "2022-08-23T00:55:25.839766Z",
     "iopub.status.busy": "2022-08-23T00:55:25.838201Z",
     "iopub.status.idle": "2022-08-23T00:55:25.840851Z",
     "shell.execute_reply": "2022-08-23T00:55:25.841533Z"
    },
    "papermill": {
     "duration": 0.048022,
     "end_time": "2022-08-23T00:55:25.841696",
     "exception": false,
     "start_time": "2022-08-23T00:55:25.793674",
     "status": "completed"
    },
    "tags": []
   },
   "outputs": [],
   "source": [
    "#hide\n",
    "\n",
    "# FETCH\n",
    "base_url = 'https://raw.githubusercontent.com/pratapvardhan/notebooks/master/covid19/'\n",
    "paths = {\n",
    "    'mapping': base_url + 'mapping_countries.csv',\n",
    "    'overview': base_url + 'overview.tpl'\n",
    "}"
   ]
  },
  {
   "cell_type": "code",
   "execution_count": 3,
   "id": "dynamic-saver",
   "metadata": {
    "execution": {
     "iopub.execute_input": "2022-08-23T00:55:25.929030Z",
     "iopub.status.busy": "2022-08-23T00:55:25.928126Z",
     "iopub.status.idle": "2022-08-23T00:55:25.932509Z",
     "shell.execute_reply": "2022-08-23T00:55:25.931876Z"
    },
    "papermill": {
     "duration": 0.053898,
     "end_time": "2022-08-23T00:55:25.932654",
     "exception": false,
     "start_time": "2022-08-23T00:55:25.878756",
     "status": "completed"
    },
    "tags": []
   },
   "outputs": [
    {
     "data": {
      "text/plain": [
       "'https://raw.githubusercontent.com/pratapvardhan/notebooks/master/covid19/mapping_countries.csv'"
      ]
     },
     "execution_count": 3,
     "metadata": {},
     "output_type": "execute_result"
    }
   ],
   "source": [
    "#hide\n",
    "paths['mapping']"
   ]
  },
  {
   "cell_type": "code",
   "execution_count": 4,
   "id": "urban-software",
   "metadata": {
    "execution": {
     "iopub.execute_input": "2022-08-23T00:55:26.012683Z",
     "iopub.status.busy": "2022-08-23T00:55:26.011987Z",
     "iopub.status.idle": "2022-08-23T00:55:26.014990Z",
     "shell.execute_reply": "2022-08-23T00:55:26.014314Z"
    },
    "papermill": {
     "duration": 0.044433,
     "end_time": "2022-08-23T00:55:26.015141",
     "exception": false,
     "start_time": "2022-08-23T00:55:25.970708",
     "status": "completed"
    },
    "tags": []
   },
   "outputs": [],
   "source": [
    "#hide\n",
    "def get_mappings(url):\n",
    "    df = pd.read_csv(url)\n",
    "    return {\n",
    "        'df': df,\n",
    "        'replace.country': dict(df.dropna(subset=['Name']).set_index('Country')['Name']),\n",
    "        'map.continent': dict(df.set_index('Name')['Continent'])\n",
    "    }"
   ]
  },
  {
   "cell_type": "code",
   "execution_count": 5,
   "id": "intimate-machinery",
   "metadata": {
    "execution": {
     "iopub.execute_input": "2022-08-23T00:55:26.107149Z",
     "iopub.status.busy": "2022-08-23T00:55:26.106371Z",
     "iopub.status.idle": "2022-08-23T00:55:26.160695Z",
     "shell.execute_reply": "2022-08-23T00:55:26.161412Z"
    },
    "papermill": {
     "duration": 0.107518,
     "end_time": "2022-08-23T00:55:26.161647",
     "exception": false,
     "start_time": "2022-08-23T00:55:26.054129",
     "status": "completed"
    },
    "tags": []
   },
   "outputs": [],
   "source": [
    "#hide\n",
    "mapping = get_mappings(paths['mapping'])"
   ]
  },
  {
   "cell_type": "code",
   "execution_count": 6,
   "id": "certified-tactics",
   "metadata": {
    "execution": {
     "iopub.execute_input": "2022-08-23T00:55:26.262892Z",
     "iopub.status.busy": "2022-08-23T00:55:26.262094Z",
     "iopub.status.idle": "2022-08-23T00:55:26.265870Z",
     "shell.execute_reply": "2022-08-23T00:55:26.264929Z"
    },
    "papermill": {
     "duration": 0.054268,
     "end_time": "2022-08-23T00:55:26.266023",
     "exception": false,
     "start_time": "2022-08-23T00:55:26.211755",
     "status": "completed"
    },
    "tags": []
   },
   "outputs": [],
   "source": [
    "#hide\n",
    "def get_template(path):\n",
    "    from urllib.parse import urlparse\n",
    "    if bool(urlparse(path).netloc):\n",
    "        from urllib.request import urlopen\n",
    "        return urlopen(path).read().decode('utf8')\n",
    "    return open(path).read()"
   ]
  },
  {
   "cell_type": "code",
   "execution_count": 7,
   "id": "realistic-blast",
   "metadata": {
    "execution": {
     "iopub.execute_input": "2022-08-23T00:55:26.354008Z",
     "iopub.status.busy": "2022-08-23T00:55:26.353215Z",
     "iopub.status.idle": "2022-08-23T00:55:26.356359Z",
     "shell.execute_reply": "2022-08-23T00:55:26.355741Z"
    },
    "papermill": {
     "duration": 0.049582,
     "end_time": "2022-08-23T00:55:26.356514",
     "exception": false,
     "start_time": "2022-08-23T00:55:26.306932",
     "status": "completed"
    },
    "tags": []
   },
   "outputs": [],
   "source": [
    "#hide\n",
    "def get_frame(name):\n",
    "    url = (\n",
    "        'https://raw.githubusercontent.com/CSSEGISandData/COVID-19/master/csse_covid_19_data/'\n",
    "        f'csse_covid_19_time_series/time_series_covid19_{name}_global.csv')\n",
    "    df = pd.read_csv(url)\n",
    "    # rename countries\n",
    "    df['Country/Region'] = df['Country/Region'].replace(mapping['replace.country'])\n",
    "    return df"
   ]
  },
  {
   "cell_type": "code",
   "execution_count": 8,
   "id": "affiliated-characterization",
   "metadata": {
    "execution": {
     "iopub.execute_input": "2022-08-23T00:55:26.445677Z",
     "iopub.status.busy": "2022-08-23T00:55:26.444673Z",
     "iopub.status.idle": "2022-08-23T00:55:26.449538Z",
     "shell.execute_reply": "2022-08-23T00:55:26.448840Z"
    },
    "papermill": {
     "duration": 0.051973,
     "end_time": "2022-08-23T00:55:26.449693",
     "exception": false,
     "start_time": "2022-08-23T00:55:26.397720",
     "status": "completed"
    },
    "tags": []
   },
   "outputs": [],
   "source": [
    "#hide\n",
    "def get_dates(df):\n",
    "    dt_cols = df.columns[~df.columns.isin(['Province/State', 'Country/Region', 'Lat', 'Long'])]\n",
    "    LAST_DATE_I = -1\n",
    "    # sometimes last column may be empty, then go backwards\n",
    "    for i in range(-1, -len(dt_cols), -1):\n",
    "        if not df[dt_cols[i]].fillna(0).eq(0).all():\n",
    "            LAST_DATE_I = i\n",
    "            break\n",
    "    return LAST_DATE_I, dt_cols"
   ]
  },
  {
   "cell_type": "code",
   "execution_count": 9,
   "id": "recent-optimization",
   "metadata": {
    "execution": {
     "iopub.execute_input": "2022-08-23T00:55:26.539691Z",
     "iopub.status.busy": "2022-08-23T00:55:26.538944Z",
     "iopub.status.idle": "2022-08-23T00:55:27.202101Z",
     "shell.execute_reply": "2022-08-23T00:55:27.201468Z"
    },
    "papermill": {
     "duration": 0.707352,
     "end_time": "2022-08-23T00:55:27.202271",
     "exception": false,
     "start_time": "2022-08-23T00:55:26.494919",
     "status": "completed"
    },
    "tags": []
   },
   "outputs": [],
   "source": [
    "#hide\n",
    "COL_REGION = 'Country/Region'\n",
    "# Confirmed, Recovered, Deaths\n",
    "df = get_frame('confirmed')\n",
    "# dft_: timeseries, dfc_: today country agg\n",
    "dft_cases = df\n",
    "dft_deaths = get_frame('deaths')\n",
    "dft_recovered = get_frame('recovered')\n",
    "LAST_DATE_I, dt_cols = get_dates(df)"
   ]
  },
  {
   "cell_type": "code",
   "execution_count": 10,
   "id": "absolute-copper",
   "metadata": {
    "execution": {
     "iopub.execute_input": "2022-08-23T00:55:27.289697Z",
     "iopub.status.busy": "2022-08-23T00:55:27.287961Z",
     "iopub.status.idle": "2022-08-23T00:55:27.290506Z",
     "shell.execute_reply": "2022-08-23T00:55:27.291051Z"
    },
    "papermill": {
     "duration": 0.047744,
     "end_time": "2022-08-23T00:55:27.291238",
     "exception": false,
     "start_time": "2022-08-23T00:55:27.243494",
     "status": "completed"
    },
    "tags": []
   },
   "outputs": [],
   "source": [
    "#hide\n",
    "LAST_DATE_I, dt_cols = get_dates(df)\n",
    "dt_today =dt_cols[LAST_DATE_I]\n",
    "# dt_5day = dt_cols[LAST_DATE_I - 5]\n",
    "dt_yday = dt_cols[LAST_DATE_I - 1]"
   ]
  },
  {
   "cell_type": "code",
   "execution_count": 11,
   "id": "restricted-sheriff",
   "metadata": {
    "execution": {
     "iopub.execute_input": "2022-08-23T00:55:27.373043Z",
     "iopub.status.busy": "2022-08-23T00:55:27.372325Z",
     "iopub.status.idle": "2022-08-23T00:55:27.379443Z",
     "shell.execute_reply": "2022-08-23T00:55:27.380253Z"
    },
    "papermill": {
     "duration": 0.054037,
     "end_time": "2022-08-23T00:55:27.380398",
     "exception": false,
     "start_time": "2022-08-23T00:55:27.326361",
     "status": "completed"
    },
    "tags": []
   },
   "outputs": [],
   "source": [
    "#hide\n",
    "dfc_cases = dft_cases.groupby(COL_REGION)[dt_today].sum()\n",
    "dfc_deaths = dft_deaths.groupby(COL_REGION)[dt_today].sum()\n",
    "# dfp_cases = dft_cases.groupby(COL_REGION)[dt_5day].sum()\n",
    "# dfp_deaths = dft_deaths.groupby(COL_REGION)[dt_5day].sum()\n",
    "dfp_cases = dft_cases.groupby(COL_REGION)[dt_yday].sum()\n",
    "dfp_deaths = dft_deaths.groupby(COL_REGION)[dt_yday].sum()"
   ]
  },
  {
   "cell_type": "code",
   "execution_count": 12,
   "id": "deluxe-hepatitis",
   "metadata": {
    "execution": {
     "iopub.execute_input": "2022-08-23T00:55:27.465626Z",
     "iopub.status.busy": "2022-08-23T00:55:27.464816Z",
     "iopub.status.idle": "2022-08-23T00:55:27.470576Z",
     "shell.execute_reply": "2022-08-23T00:55:27.469952Z"
    },
    "papermill": {
     "duration": 0.052433,
     "end_time": "2022-08-23T00:55:27.470721",
     "exception": false,
     "start_time": "2022-08-23T00:55:27.418288",
     "status": "completed"
    },
    "tags": []
   },
   "outputs": [],
   "source": [
    "#hide\n",
    "df_table = (pd.DataFrame(dict(Cases = dfc_cases, Deaths = dfc_deaths, PCases = dfp_cases, PDeaths = dfp_deaths))\n",
    "            .sort_values(by = ['Cases','Deaths'], ascending = [False, False])\n",
    "            .reset_index())"
   ]
  },
  {
   "cell_type": "code",
   "execution_count": 13,
   "id": "educational-chancellor",
   "metadata": {
    "execution": {
     "iopub.execute_input": "2022-08-23T00:55:27.571570Z",
     "iopub.status.busy": "2022-08-23T00:55:27.565189Z",
     "iopub.status.idle": "2022-08-23T00:55:27.583433Z",
     "shell.execute_reply": "2022-08-23T00:55:27.582743Z"
    },
    "papermill": {
     "duration": 0.074361,
     "end_time": "2022-08-23T00:55:27.583590",
     "exception": false,
     "start_time": "2022-08-23T00:55:27.509229",
     "status": "completed"
    },
    "tags": []
   },
   "outputs": [
    {
     "data": {
      "text/html": [
       "<div>\n",
       "<style scoped>\n",
       "    .dataframe tbody tr th:only-of-type {\n",
       "        vertical-align: middle;\n",
       "    }\n",
       "\n",
       "    .dataframe tbody tr th {\n",
       "        vertical-align: top;\n",
       "    }\n",
       "\n",
       "    .dataframe thead th {\n",
       "        text-align: right;\n",
       "    }\n",
       "</style>\n",
       "<table border=\"1\" class=\"dataframe\">\n",
       "  <thead>\n",
       "    <tr style=\"text-align: right;\">\n",
       "      <th></th>\n",
       "      <th>Country/Region</th>\n",
       "      <th>Cases</th>\n",
       "      <th>Deaths</th>\n",
       "      <th>PCases</th>\n",
       "      <th>PDeaths</th>\n",
       "      <th>Cases (+)</th>\n",
       "      <th>Deaths (+)</th>\n",
       "      <th>Fatality Rate</th>\n",
       "      <th>Continent</th>\n",
       "    </tr>\n",
       "  </thead>\n",
       "  <tbody>\n",
       "    <tr>\n",
       "      <th>0</th>\n",
       "      <td>US</td>\n",
       "      <td>93517372</td>\n",
       "      <td>1041149</td>\n",
       "      <td>93509836</td>\n",
       "      <td>1040379</td>\n",
       "      <td>7536</td>\n",
       "      <td>770</td>\n",
       "      <td>1.11</td>\n",
       "      <td>North America</td>\n",
       "    </tr>\n",
       "    <tr>\n",
       "      <th>1</th>\n",
       "      <td>India</td>\n",
       "      <td>44348960</td>\n",
       "      <td>527368</td>\n",
       "      <td>44339429</td>\n",
       "      <td>527332</td>\n",
       "      <td>9531</td>\n",
       "      <td>36</td>\n",
       "      <td>1.19</td>\n",
       "      <td>Asia</td>\n",
       "    </tr>\n",
       "    <tr>\n",
       "      <th>2</th>\n",
       "      <td>France</td>\n",
       "      <td>34535255</td>\n",
       "      <td>154541</td>\n",
       "      <td>34535255</td>\n",
       "      <td>154541</td>\n",
       "      <td>0</td>\n",
       "      <td>0</td>\n",
       "      <td>0.45</td>\n",
       "      <td>Europe</td>\n",
       "    </tr>\n",
       "    <tr>\n",
       "      <th>3</th>\n",
       "      <td>Brazil</td>\n",
       "      <td>34264237</td>\n",
       "      <td>682358</td>\n",
       "      <td>34264237</td>\n",
       "      <td>682358</td>\n",
       "      <td>0</td>\n",
       "      <td>0</td>\n",
       "      <td>1.99</td>\n",
       "      <td>South America</td>\n",
       "    </tr>\n",
       "    <tr>\n",
       "      <th>4</th>\n",
       "      <td>Germany</td>\n",
       "      <td>31808228</td>\n",
       "      <td>146504</td>\n",
       "      <td>31808179</td>\n",
       "      <td>146504</td>\n",
       "      <td>49</td>\n",
       "      <td>0</td>\n",
       "      <td>0.46</td>\n",
       "      <td>Europe</td>\n",
       "    </tr>\n",
       "  </tbody>\n",
       "</table>\n",
       "</div>"
      ],
      "text/plain": [
       "  Country/Region     Cases   Deaths    PCases  PDeaths  Cases (+)  Deaths (+)  \\\n",
       "0             US  93517372  1041149  93509836  1040379       7536         770   \n",
       "1          India  44348960   527368  44339429   527332       9531          36   \n",
       "2         France  34535255   154541  34535255   154541          0           0   \n",
       "3         Brazil  34264237   682358  34264237   682358          0           0   \n",
       "4        Germany  31808228   146504  31808179   146504         49           0   \n",
       "\n",
       "   Fatality Rate      Continent  \n",
       "0           1.11  North America  \n",
       "1           1.19           Asia  \n",
       "2           0.45         Europe  \n",
       "3           1.99  South America  \n",
       "4           0.46         Europe  "
      ]
     },
     "execution_count": 13,
     "metadata": {},
     "output_type": "execute_result"
    }
   ],
   "source": [
    "#hide\n",
    "for c in 'Cases, Deaths'.split(', '):\n",
    "    df_table[f'{c} (+)'] = (df_table[c] - df_table[f'P{c}']).clip(0)\n",
    "    #Clip ça veut dire, les chiffres negatif sont interdit\n",
    "df_table['Fatality Rate'] = (100* df_table['Deaths']/ df_table['Cases']).round(2)\n",
    "df_table['Continent'] = df_table['Country/Region'].map(mapping['map.continent'])\n",
    "df_table.head(5)"
   ]
  },
  {
   "cell_type": "code",
   "execution_count": 14,
   "id": "aboriginal-bulgaria",
   "metadata": {
    "execution": {
     "iopub.execute_input": "2022-08-23T00:55:27.666313Z",
     "iopub.status.busy": "2022-08-23T00:55:27.665577Z",
     "iopub.status.idle": "2022-08-23T00:55:27.670582Z",
     "shell.execute_reply": "2022-08-23T00:55:27.671292Z"
    },
    "papermill": {
     "duration": 0.050711,
     "end_time": "2022-08-23T00:55:27.671450",
     "exception": false,
     "start_time": "2022-08-23T00:55:27.620739",
     "status": "completed"
    },
    "tags": []
   },
   "outputs": [],
   "source": [
    "#hide\n",
    "#delete problematic countries from table\n",
    "df_table = df_table[~df_table['Country/Region'].isin(['Cape Verde', 'Cruise Ship', 'Kosovo'])]"
   ]
  },
  {
   "cell_type": "code",
   "execution_count": 15,
   "id": "fantastic-effect",
   "metadata": {
    "execution": {
     "iopub.execute_input": "2022-08-23T00:55:27.758558Z",
     "iopub.status.busy": "2022-08-23T00:55:27.757704Z",
     "iopub.status.idle": "2022-08-23T00:55:27.781388Z",
     "shell.execute_reply": "2022-08-23T00:55:27.782020Z"
    },
    "papermill": {
     "duration": 0.071107,
     "end_time": "2022-08-23T00:55:27.782185",
     "exception": false,
     "start_time": "2022-08-23T00:55:27.711078",
     "status": "completed"
    },
    "tags": []
   },
   "outputs": [
    {
     "data": {
      "text/html": [
       "<div>\n",
       "<style scoped>\n",
       "    .dataframe tbody tr th:only-of-type {\n",
       "        vertical-align: middle;\n",
       "    }\n",
       "\n",
       "    .dataframe tbody tr th {\n",
       "        vertical-align: top;\n",
       "    }\n",
       "\n",
       "    .dataframe thead th {\n",
       "        text-align: right;\n",
       "    }\n",
       "</style>\n",
       "<table border=\"1\" class=\"dataframe\">\n",
       "  <thead>\n",
       "    <tr style=\"text-align: right;\">\n",
       "      <th></th>\n",
       "      <th>Country/Region</th>\n",
       "      <th>Cases</th>\n",
       "      <th>Deaths</th>\n",
       "      <th>PCases</th>\n",
       "      <th>PDeaths</th>\n",
       "      <th>Cases (+)</th>\n",
       "      <th>Deaths (+)</th>\n",
       "      <th>Fatality Rate</th>\n",
       "      <th>Continent</th>\n",
       "    </tr>\n",
       "  </thead>\n",
       "  <tbody>\n",
       "    <tr>\n",
       "      <th>0</th>\n",
       "      <td>US</td>\n",
       "      <td>93517372</td>\n",
       "      <td>1041149</td>\n",
       "      <td>93509836</td>\n",
       "      <td>1040379</td>\n",
       "      <td>7536</td>\n",
       "      <td>770</td>\n",
       "      <td>1.1</td>\n",
       "      <td>North America</td>\n",
       "    </tr>\n",
       "    <tr>\n",
       "      <th>1</th>\n",
       "      <td>India</td>\n",
       "      <td>44348960</td>\n",
       "      <td>527368</td>\n",
       "      <td>44339429</td>\n",
       "      <td>527332</td>\n",
       "      <td>9531</td>\n",
       "      <td>36</td>\n",
       "      <td>1.2</td>\n",
       "      <td>Asia</td>\n",
       "    </tr>\n",
       "    <tr>\n",
       "      <th>2</th>\n",
       "      <td>France</td>\n",
       "      <td>34535255</td>\n",
       "      <td>154541</td>\n",
       "      <td>34535255</td>\n",
       "      <td>154541</td>\n",
       "      <td>0</td>\n",
       "      <td>0</td>\n",
       "      <td>0.4</td>\n",
       "      <td>Europe</td>\n",
       "    </tr>\n",
       "    <tr>\n",
       "      <th>3</th>\n",
       "      <td>Brazil</td>\n",
       "      <td>34264237</td>\n",
       "      <td>682358</td>\n",
       "      <td>34264237</td>\n",
       "      <td>682358</td>\n",
       "      <td>0</td>\n",
       "      <td>0</td>\n",
       "      <td>2.0</td>\n",
       "      <td>South America</td>\n",
       "    </tr>\n",
       "    <tr>\n",
       "      <th>4</th>\n",
       "      <td>Germany</td>\n",
       "      <td>31808228</td>\n",
       "      <td>146504</td>\n",
       "      <td>31808179</td>\n",
       "      <td>146504</td>\n",
       "      <td>49</td>\n",
       "      <td>0</td>\n",
       "      <td>0.5</td>\n",
       "      <td>Europe</td>\n",
       "    </tr>\n",
       "  </tbody>\n",
       "</table>\n",
       "</div>"
      ],
      "text/plain": [
       "  Country/Region     Cases   Deaths    PCases  PDeaths  Cases (+)  Deaths (+)  \\\n",
       "0             US  93517372  1041149  93509836  1040379       7536         770   \n",
       "1          India  44348960   527368  44339429   527332       9531          36   \n",
       "2         France  34535255   154541  34535255   154541          0           0   \n",
       "3         Brazil  34264237   682358  34264237   682358          0           0   \n",
       "4        Germany  31808228   146504  31808179   146504         49           0   \n",
       "\n",
       "   Fatality Rate      Continent  \n",
       "0            1.1  North America  \n",
       "1            1.2           Asia  \n",
       "2            0.4         Europe  \n",
       "3            2.0  South America  \n",
       "4            0.5         Europe  "
      ]
     },
     "execution_count": 15,
     "metadata": {},
     "output_type": "execute_result"
    }
   ],
   "source": [
    "#hide\n",
    "df_table = (pd.DataFrame(dict(Cases=dfc_cases, Deaths=dfc_deaths, PCases=dfp_cases, PDeaths=dfp_deaths))\n",
    "             .sort_values(by=['Cases', 'Deaths'], ascending=[False, False])\n",
    "             .reset_index())\n",
    "df_table.rename(columns={'index': 'Country/Region'}, inplace=True)\n",
    "for c in 'Cases, Deaths'.split(', '):\n",
    "    df_table[f'{c} (+)'] = (df_table[c] - df_table[f'P{c}']).clip(0)  # DATA BUG\n",
    "df_table['Fatality Rate'] = (100 * df_table['Deaths'] / df_table['Cases']).round(1)\n",
    "df_table['Continent'] = df_table['Country/Region'].map(mapping['map.continent'])\n",
    "df_table.head(5)"
   ]
  },
  {
   "cell_type": "code",
   "execution_count": 16,
   "id": "fewer-occasion",
   "metadata": {
    "execution": {
     "iopub.execute_input": "2022-08-23T00:55:27.867685Z",
     "iopub.status.busy": "2022-08-23T00:55:27.866852Z",
     "iopub.status.idle": "2022-08-23T00:55:27.870607Z",
     "shell.execute_reply": "2022-08-23T00:55:27.871354Z"
    },
    "papermill": {
     "duration": 0.048983,
     "end_time": "2022-08-23T00:55:27.871526",
     "exception": false,
     "start_time": "2022-08-23T00:55:27.822543",
     "status": "completed"
    },
    "tags": []
   },
   "outputs": [],
   "source": [
    "#hide\n",
    "#delete problematic countries from table\n",
    "df_table = df_table[~df_table['Country/Region'].isin(['Cape Verde', 'Cruise Ship', 'Kosovo'])]"
   ]
  },
  {
   "cell_type": "code",
   "execution_count": 17,
   "id": "related-center",
   "metadata": {
    "execution": {
     "iopub.execute_input": "2022-08-23T00:55:27.970742Z",
     "iopub.status.busy": "2022-08-23T00:55:27.969917Z",
     "iopub.status.idle": "2022-08-23T00:55:27.972973Z",
     "shell.execute_reply": "2022-08-23T00:55:27.973837Z"
    },
    "papermill": {
     "duration": 0.063679,
     "end_time": "2022-08-23T00:55:27.974362",
     "exception": false,
     "start_time": "2022-08-23T00:55:27.910683",
     "status": "completed"
    },
    "tags": []
   },
   "outputs": [],
   "source": [
    "#hide\n",
    "metrics = [df_table.columns[index] for index in [1,2,5,6]]\n",
    "# s_china = df_table[df_table['Country/Region'].eq('China')][metrics].sum().add_prefix('China ')\n",
    "s_us = df_table[df_table['Country/Region'].eq('US')][metrics].sum().add_prefix('US ')\n",
    "s_eu = df_table[df_table['Continent'].eq('Europe')][metrics].sum().add_prefix('EU ')\n",
    "s_ind = df_table[df_table['Country/Region'].eq('India')][metrics].sum().add_prefix('India ')\n",
    "summary = {'updated': pd.to_datetime(dt_today), 'since': pd.to_datetime(dt_yday)}\n",
    "summary = {'updated': pd.to_datetime(dt_today), 'since': pd.to_datetime(dt_yday)}\n",
    "summary = {**summary, **df_table[metrics].sum(), **s_ind, **s_us, **s_eu}"
   ]
  },
  {
   "cell_type": "code",
   "execution_count": 18,
   "id": "engaging-syndrome",
   "metadata": {
    "execution": {
     "iopub.execute_input": "2022-08-23T00:55:28.062237Z",
     "iopub.status.busy": "2022-08-23T00:55:28.061416Z",
     "iopub.status.idle": "2022-08-23T00:55:28.088771Z",
     "shell.execute_reply": "2022-08-23T00:55:28.088130Z"
    },
    "papermill": {
     "duration": 0.075442,
     "end_time": "2022-08-23T00:55:28.088927",
     "exception": false,
     "start_time": "2022-08-23T00:55:28.013485",
     "status": "completed"
    },
    "tags": []
   },
   "outputs": [],
   "source": [
    "#hide\n",
    "dft_ct_new_cases = dft_cases.groupby(COL_REGION)[dt_cols].sum().diff(axis=1).fillna(0).astype(int)"
   ]
  },
  {
   "cell_type": "code",
   "execution_count": 19,
   "id": "neutral-assignment",
   "metadata": {
    "execution": {
     "iopub.execute_input": "2022-08-23T00:55:28.176690Z",
     "iopub.status.busy": "2022-08-23T00:55:28.175794Z",
     "iopub.status.idle": "2022-08-23T00:55:28.179048Z",
     "shell.execute_reply": "2022-08-23T00:55:28.178284Z"
    },
    "papermill": {
     "duration": 0.051069,
     "end_time": "2022-08-23T00:55:28.179215",
     "exception": false,
     "start_time": "2022-08-23T00:55:28.128146",
     "status": "completed"
    },
    "tags": []
   },
   "outputs": [],
   "source": [
    "#hide\n",
    "everydaycases = dft_ct_new_cases.cumsum(axis=1)"
   ]
  },
  {
   "cell_type": "code",
   "execution_count": 20,
   "id": "parliamentary-calgary",
   "metadata": {
    "execution": {
     "iopub.execute_input": "2022-08-23T00:55:28.262767Z",
     "iopub.status.busy": "2022-08-23T00:55:28.259123Z",
     "iopub.status.idle": "2022-08-23T00:55:28.912278Z",
     "shell.execute_reply": "2022-08-23T00:55:28.911705Z"
    },
    "papermill": {
     "duration": 0.694891,
     "end_time": "2022-08-23T00:55:28.912414",
     "exception": false,
     "start_time": "2022-08-23T00:55:28.217523",
     "status": "completed"
    },
    "tags": []
   },
   "outputs": [],
   "source": [
    "#hide\n",
    "import pandas as pd\n",
    "import matplotlib.pyplot as plt\n",
    "import matplotlib.ticker as ticker\n",
    "import matplotlib.animation as animation\n",
    "from IPython.display import HTML"
   ]
  },
  {
   "cell_type": "code",
   "execution_count": 21,
   "id": "lasting-extraction",
   "metadata": {
    "execution": {
     "iopub.execute_input": "2022-08-23T00:55:28.989996Z",
     "iopub.status.busy": "2022-08-23T00:55:28.989254Z",
     "iopub.status.idle": "2022-08-23T00:55:28.997498Z",
     "shell.execute_reply": "2022-08-23T00:55:28.996919Z"
    },
    "papermill": {
     "duration": 0.050198,
     "end_time": "2022-08-23T00:55:28.997622",
     "exception": false,
     "start_time": "2022-08-23T00:55:28.947424",
     "status": "completed"
    },
    "tags": []
   },
   "outputs": [],
   "source": [
    "#hide\n",
    "t = everydaycases.stack()"
   ]
  },
  {
   "cell_type": "code",
   "execution_count": 22,
   "id": "premier-sleeve",
   "metadata": {
    "execution": {
     "iopub.execute_input": "2022-08-23T00:55:29.089854Z",
     "iopub.status.busy": "2022-08-23T00:55:29.089068Z",
     "iopub.status.idle": "2022-08-23T00:55:29.103165Z",
     "shell.execute_reply": "2022-08-23T00:55:29.103734Z"
    },
    "papermill": {
     "duration": 0.06708,
     "end_time": "2022-08-23T00:55:29.103917",
     "exception": false,
     "start_time": "2022-08-23T00:55:29.036837",
     "status": "completed"
    },
    "tags": []
   },
   "outputs": [],
   "source": [
    "#hide\n",
    "g = t.reset_index(['Country/Region'])"
   ]
  },
  {
   "cell_type": "code",
   "execution_count": 23,
   "id": "distributed-pittsburgh",
   "metadata": {
    "execution": {
     "iopub.execute_input": "2022-08-23T00:55:29.196272Z",
     "iopub.status.busy": "2022-08-23T00:55:29.195483Z",
     "iopub.status.idle": "2022-08-23T00:55:29.198823Z",
     "shell.execute_reply": "2022-08-23T00:55:29.198009Z"
    },
    "papermill": {
     "duration": 0.051807,
     "end_time": "2022-08-23T00:55:29.198965",
     "exception": false,
     "start_time": "2022-08-23T00:55:29.147158",
     "status": "completed"
    },
    "tags": []
   },
   "outputs": [],
   "source": [
    "#hide\n",
    "g.index.name = 'date'"
   ]
  },
  {
   "cell_type": "code",
   "execution_count": 24,
   "id": "naked-donor",
   "metadata": {
    "execution": {
     "iopub.execute_input": "2022-08-23T00:55:29.295596Z",
     "iopub.status.busy": "2022-08-23T00:55:29.294850Z",
     "iopub.status.idle": "2022-08-23T00:55:29.298027Z",
     "shell.execute_reply": "2022-08-23T00:55:29.297274Z"
    },
    "papermill": {
     "duration": 0.059563,
     "end_time": "2022-08-23T00:55:29.298177",
     "exception": false,
     "start_time": "2022-08-23T00:55:29.238614",
     "status": "completed"
    },
    "tags": []
   },
   "outputs": [],
   "source": [
    "# #hide\n",
    "# g = g.reset_index(['date'])"
   ]
  },
  {
   "cell_type": "code",
   "execution_count": 25,
   "id": "incomplete-mustang",
   "metadata": {
    "execution": {
     "iopub.execute_input": "2022-08-23T00:55:29.389881Z",
     "iopub.status.busy": "2022-08-23T00:55:29.388988Z",
     "iopub.status.idle": "2022-08-23T00:55:29.392545Z",
     "shell.execute_reply": "2022-08-23T00:55:29.393117Z"
    },
    "papermill": {
     "duration": 0.05339,
     "end_time": "2022-08-23T00:55:29.393289",
     "exception": false,
     "start_time": "2022-08-23T00:55:29.339899",
     "status": "completed"
    },
    "tags": []
   },
   "outputs": [],
   "source": [
    "#hide\n",
    "# g.head()"
   ]
  },
  {
   "cell_type": "code",
   "execution_count": 26,
   "id": "specific-kruger",
   "metadata": {
    "execution": {
     "iopub.execute_input": "2022-08-23T00:55:29.481564Z",
     "iopub.status.busy": "2022-08-23T00:55:29.480666Z",
     "iopub.status.idle": "2022-08-23T00:55:29.483759Z",
     "shell.execute_reply": "2022-08-23T00:55:29.483106Z"
    },
    "papermill": {
     "duration": 0.048393,
     "end_time": "2022-08-23T00:55:29.483913",
     "exception": false,
     "start_time": "2022-08-23T00:55:29.435520",
     "status": "completed"
    },
    "tags": []
   },
   "outputs": [],
   "source": [
    "#hide\n",
    "# g.columns = ['date','country','cases']"
   ]
  },
  {
   "cell_type": "code",
   "execution_count": 27,
   "id": "tender-conversion",
   "metadata": {
    "execution": {
     "iopub.execute_input": "2022-08-23T00:55:29.567251Z",
     "iopub.status.busy": "2022-08-23T00:55:29.566430Z",
     "iopub.status.idle": "2022-08-23T00:55:29.570712Z",
     "shell.execute_reply": "2022-08-23T00:55:29.571444Z"
    },
    "papermill": {
     "duration": 0.048245,
     "end_time": "2022-08-23T00:55:29.571612",
     "exception": false,
     "start_time": "2022-08-23T00:55:29.523367",
     "status": "completed"
    },
    "tags": []
   },
   "outputs": [],
   "source": [
    "#hide\n",
    "# g['continent'] = g.country"
   ]
  },
  {
   "cell_type": "code",
   "execution_count": 28,
   "id": "substantial-wilderness",
   "metadata": {
    "execution": {
     "iopub.execute_input": "2022-08-23T00:55:29.661402Z",
     "iopub.status.busy": "2022-08-23T00:55:29.660597Z",
     "iopub.status.idle": "2022-08-23T00:55:29.663671Z",
     "shell.execute_reply": "2022-08-23T00:55:29.664240Z"
    },
    "papermill": {
     "duration": 0.053917,
     "end_time": "2022-08-23T00:55:29.664418",
     "exception": false,
     "start_time": "2022-08-23T00:55:29.610501",
     "status": "completed"
    },
    "tags": []
   },
   "outputs": [],
   "source": [
    "#hide\n",
    "# cols = list(g.columns.values)"
   ]
  },
  {
   "cell_type": "code",
   "execution_count": 29,
   "id": "solved-farming",
   "metadata": {
    "execution": {
     "iopub.execute_input": "2022-08-23T00:55:29.753272Z",
     "iopub.status.busy": "2022-08-23T00:55:29.752418Z",
     "iopub.status.idle": "2022-08-23T00:55:29.755249Z",
     "shell.execute_reply": "2022-08-23T00:55:29.755839Z"
    },
    "papermill": {
     "duration": 0.047828,
     "end_time": "2022-08-23T00:55:29.755991",
     "exception": false,
     "start_time": "2022-08-23T00:55:29.708163",
     "status": "completed"
    },
    "tags": []
   },
   "outputs": [],
   "source": [
    "#hide\n",
    "# cols.insert(0, cols.pop())"
   ]
  },
  {
   "cell_type": "code",
   "execution_count": 30,
   "id": "executed-adoption",
   "metadata": {
    "execution": {
     "iopub.execute_input": "2022-08-23T00:55:29.836061Z",
     "iopub.status.busy": "2022-08-23T00:55:29.835362Z",
     "iopub.status.idle": "2022-08-23T00:55:29.838190Z",
     "shell.execute_reply": "2022-08-23T00:55:29.838748Z"
    },
    "papermill": {
     "duration": 0.04569,
     "end_time": "2022-08-23T00:55:29.838896",
     "exception": false,
     "start_time": "2022-08-23T00:55:29.793206",
     "status": "completed"
    },
    "tags": []
   },
   "outputs": [],
   "source": [
    "#hide\n",
    "# g = g[cols]"
   ]
  },
  {
   "cell_type": "code",
   "execution_count": 31,
   "id": "subject-dublin",
   "metadata": {
    "execution": {
     "iopub.execute_input": "2022-08-23T00:55:29.925613Z",
     "iopub.status.busy": "2022-08-23T00:55:29.924659Z",
     "iopub.status.idle": "2022-08-23T00:55:29.930052Z",
     "shell.execute_reply": "2022-08-23T00:55:29.929026Z"
    },
    "papermill": {
     "duration": 0.051007,
     "end_time": "2022-08-23T00:55:29.930207",
     "exception": false,
     "start_time": "2022-08-23T00:55:29.879200",
     "status": "completed"
    },
    "tags": []
   },
   "outputs": [],
   "source": [
    "#hide\n",
    "# g['continent'] = g['continent'].map(mapping['map.continent'])"
   ]
  },
  {
   "cell_type": "code",
   "execution_count": 32,
   "id": "freelance-scout",
   "metadata": {
    "execution": {
     "iopub.execute_input": "2022-08-23T00:55:30.014773Z",
     "iopub.status.busy": "2022-08-23T00:55:30.014074Z",
     "iopub.status.idle": "2022-08-23T00:55:30.017097Z",
     "shell.execute_reply": "2022-08-23T00:55:30.016398Z"
    },
    "papermill": {
     "duration": 0.04584,
     "end_time": "2022-08-23T00:55:30.017230",
     "exception": false,
     "start_time": "2022-08-23T00:55:29.971390",
     "status": "completed"
    },
    "tags": []
   },
   "outputs": [],
   "source": [
    "#hide\n",
    "# g.head()"
   ]
  },
  {
   "cell_type": "code",
   "execution_count": 33,
   "id": "limited-engine",
   "metadata": {
    "execution": {
     "iopub.execute_input": "2022-08-23T00:55:30.109584Z",
     "iopub.status.busy": "2022-08-23T00:55:30.108813Z",
     "iopub.status.idle": "2022-08-23T00:55:30.112174Z",
     "shell.execute_reply": "2022-08-23T00:55:30.111234Z"
    },
    "papermill": {
     "duration": 0.057225,
     "end_time": "2022-08-23T00:55:30.112313",
     "exception": false,
     "start_time": "2022-08-23T00:55:30.055088",
     "status": "completed"
    },
    "tags": []
   },
   "outputs": [],
   "source": [
    "# hide\n",
    "# g['date'] = g['date'].astype('datetime64[ns]')"
   ]
  },
  {
   "cell_type": "code",
   "execution_count": 34,
   "id": "sophisticated-supervisor",
   "metadata": {
    "execution": {
     "iopub.execute_input": "2022-08-23T00:55:30.196685Z",
     "iopub.status.busy": "2022-08-23T00:55:30.195913Z",
     "iopub.status.idle": "2022-08-23T00:55:30.199283Z",
     "shell.execute_reply": "2022-08-23T00:55:30.198660Z"
    },
    "papermill": {
     "duration": 0.047622,
     "end_time": "2022-08-23T00:55:30.199409",
     "exception": false,
     "start_time": "2022-08-23T00:55:30.151787",
     "status": "completed"
    },
    "tags": []
   },
   "outputs": [],
   "source": [
    "#hide\n",
    "# g['date'] = g.date.dt.dayofyear"
   ]
  },
  {
   "cell_type": "code",
   "execution_count": 35,
   "id": "inside-dubai",
   "metadata": {
    "execution": {
     "iopub.execute_input": "2022-08-23T00:55:30.281846Z",
     "iopub.status.busy": "2022-08-23T00:55:30.281078Z",
     "iopub.status.idle": "2022-08-23T00:55:30.283613Z",
     "shell.execute_reply": "2022-08-23T00:55:30.284175Z"
    },
    "papermill": {
     "duration": 0.046374,
     "end_time": "2022-08-23T00:55:30.284328",
     "exception": false,
     "start_time": "2022-08-23T00:55:30.237954",
     "status": "completed"
    },
    "tags": []
   },
   "outputs": [],
   "source": [
    "#hide\n",
    "# g = g.rename(columns= {'continent':'group','country':'name','cases':'value'})"
   ]
  },
  {
   "cell_type": "code",
   "execution_count": 36,
   "id": "fleet-motorcycle",
   "metadata": {
    "execution": {
     "iopub.execute_input": "2022-08-23T00:55:30.367262Z",
     "iopub.status.busy": "2022-08-23T00:55:30.366351Z",
     "iopub.status.idle": "2022-08-23T00:55:30.369816Z",
     "shell.execute_reply": "2022-08-23T00:55:30.369209Z"
    },
    "papermill": {
     "duration": 0.046906,
     "end_time": "2022-08-23T00:55:30.369967",
     "exception": false,
     "start_time": "2022-08-23T00:55:30.323061",
     "status": "completed"
    },
    "tags": []
   },
   "outputs": [],
   "source": [
    "#hide\n",
    "# cols = ['name','group','day','value']"
   ]
  },
  {
   "cell_type": "code",
   "execution_count": 37,
   "id": "continued-sleeping",
   "metadata": {
    "execution": {
     "iopub.execute_input": "2022-08-23T00:55:30.453970Z",
     "iopub.status.busy": "2022-08-23T00:55:30.453151Z",
     "iopub.status.idle": "2022-08-23T00:55:30.455653Z",
     "shell.execute_reply": "2022-08-23T00:55:30.456236Z"
    },
    "papermill": {
     "duration": 0.046629,
     "end_time": "2022-08-23T00:55:30.456386",
     "exception": false,
     "start_time": "2022-08-23T00:55:30.409757",
     "status": "completed"
    },
    "tags": []
   },
   "outputs": [],
   "source": [
    "#hide\n",
    "# g.rename(columns= {'date':'day'},inplace = True)"
   ]
  },
  {
   "cell_type": "code",
   "execution_count": 38,
   "id": "major-fight",
   "metadata": {
    "execution": {
     "iopub.execute_input": "2022-08-23T00:55:30.545740Z",
     "iopub.status.busy": "2022-08-23T00:55:30.542343Z",
     "iopub.status.idle": "2022-08-23T00:55:30.549678Z",
     "shell.execute_reply": "2022-08-23T00:55:30.548945Z"
    },
    "papermill": {
     "duration": 0.053033,
     "end_time": "2022-08-23T00:55:30.549841",
     "exception": false,
     "start_time": "2022-08-23T00:55:30.496808",
     "status": "completed"
    },
    "tags": []
   },
   "outputs": [],
   "source": [
    "#hide\n",
    "# g = g[cols]"
   ]
  },
  {
   "cell_type": "code",
   "execution_count": 39,
   "id": "structured-mobile",
   "metadata": {
    "execution": {
     "iopub.execute_input": "2022-08-23T00:55:30.634611Z",
     "iopub.status.busy": "2022-08-23T00:55:30.633817Z",
     "iopub.status.idle": "2022-08-23T00:55:30.636380Z",
     "shell.execute_reply": "2022-08-23T00:55:30.636952Z"
    },
    "papermill": {
     "duration": 0.046596,
     "end_time": "2022-08-23T00:55:30.637126",
     "exception": false,
     "start_time": "2022-08-23T00:55:30.590530",
     "status": "completed"
    },
    "tags": []
   },
   "outputs": [],
   "source": [
    "# #hide\n",
    "# g = g[g.group.notna()]"
   ]
  },
  {
   "cell_type": "code",
   "execution_count": 40,
   "id": "determined-closing",
   "metadata": {
    "execution": {
     "iopub.execute_input": "2022-08-23T00:55:30.723851Z",
     "iopub.status.busy": "2022-08-23T00:55:30.723067Z",
     "iopub.status.idle": "2022-08-23T00:55:30.726331Z",
     "shell.execute_reply": "2022-08-23T00:55:30.725695Z"
    },
    "papermill": {
     "duration": 0.048757,
     "end_time": "2022-08-23T00:55:30.726473",
     "exception": false,
     "start_time": "2022-08-23T00:55:30.677716",
     "status": "completed"
    },
    "tags": []
   },
   "outputs": [],
   "source": [
    "# #hide\n",
    "# colors = dict(zip(\n",
    "#     [\"Oceania\", \"Europe\", \"Asia\", \"South America\", \"Middle East\", \"North America\", \"Africa\"],\n",
    "#     [\"#adb0ff\", \"#ffb3ff\", \"#90d595\", \"#e48381\", \"#aafbff\", \"#f7bb5f\", \"#eafb50\"]\n",
    "# ))\n",
    "# group_lk = g.set_index('name')['group'].to_dict()"
   ]
  },
  {
   "cell_type": "code",
   "execution_count": null,
   "id": "gross-drinking",
   "metadata": {
    "papermill": {
     "duration": 0.038936,
     "end_time": "2022-08-23T00:55:30.806361",
     "exception": false,
     "start_time": "2022-08-23T00:55:30.767425",
     "status": "completed"
    },
    "tags": []
   },
   "outputs": [],
   "source": []
  },
  {
   "cell_type": "code",
   "execution_count": 41,
   "id": "subject-macintosh",
   "metadata": {
    "execution": {
     "iopub.execute_input": "2022-08-23T00:55:30.890072Z",
     "iopub.status.busy": "2022-08-23T00:55:30.889276Z",
     "iopub.status.idle": "2022-08-23T00:55:30.892386Z",
     "shell.execute_reply": "2022-08-23T00:55:30.891820Z"
    },
    "papermill": {
     "duration": 0.047351,
     "end_time": "2022-08-23T00:55:30.892520",
     "exception": false,
     "start_time": "2022-08-23T00:55:30.845169",
     "status": "completed"
    },
    "tags": []
   },
   "outputs": [],
   "source": [
    "# #hide\n",
    "# fig, ax = plt.subplots(figsize=(15, 8))\n",
    "\n",
    "# def draw_barchart(current_day):\n",
    "#     dff = g[g['day'].eq(current_day)].sort_values(by='value', ascending=True).tail(10)\n",
    "#     ax.clear()\n",
    "#     ax.barh(dff['name'], dff['value'], color=[colors[group_lk[x]] for x in dff['name']])\n",
    "#     dx = dff['value'].max() / 200\n",
    "    \n",
    "#     for i, (value, name) in enumerate(zip(dff['value'], dff['name'])):\n",
    "#         ax.text(value-dx, i,     name,           size=14, weight=600, ha='right', va='bottom')\n",
    "#         ax.text(value-dx, i-.25, group_lk[name], size=10, color='#444444', ha='right', va='baseline')\n",
    "#         ax.text(value+dx, i,     f'{value:,.0f}',  size=14, ha='left',  va='center')\n",
    "#     ax.text(1, 0.4, current_day, transform=ax.transAxes, color='#777777', size=46, ha='right', weight=800)\n",
    "#     ax.text(0, 1.06, 'Population (thousands)', transform=ax.transAxes, size=12, color='#777777')\n",
    "#     ax.xaxis.set_major_formatter(ticker.StrMethodFormatter('{x:,.0f}'))\n",
    "#     ax.xaxis.set_ticks_position('top')\n",
    "#     ax.tick_params(axis='x', colors='#777777', labelsize=12)\n",
    "#     ax.set_yticks([])\n",
    "#     ax.margins(0, 0.01)\n",
    "#     ax.grid(which='major', axis='x', linestyle='-')\n",
    "#     ax.set_axisbelow(True)\n",
    "    \n",
    "#     ax.text(0, 1.15, 'Coronavirus',\n",
    "#             transform=ax.transAxes, size=24, weight=600, ha='left', va='top')\n",
    "# #     ax.text(1, 0, 'by @pratapvardhan; credit @jburnmurdoch', transform=ax.transAxes, color='#777777', ha='right',\n",
    "# #             bbox=dict(facecolor='white', alpha=0.8, edgecolor='white'))\n",
    "#     plt.box(False)"
   ]
  },
  {
   "cell_type": "code",
   "execution_count": 42,
   "id": "sexual-wages",
   "metadata": {
    "execution": {
     "iopub.execute_input": "2022-08-23T00:55:30.978705Z",
     "iopub.status.busy": "2022-08-23T00:55:30.977847Z",
     "iopub.status.idle": "2022-08-23T00:55:30.980521Z",
     "shell.execute_reply": "2022-08-23T00:55:30.981108Z"
    },
    "papermill": {
     "duration": 0.048531,
     "end_time": "2022-08-23T00:55:30.981274",
     "exception": false,
     "start_time": "2022-08-23T00:55:30.932743",
     "status": "completed"
    },
    "tags": []
   },
   "outputs": [],
   "source": [
    "# #hide_input\n",
    "# fig, ax = plt.subplots(figsize=(15, 8))\n",
    "# animator = animation.FuncAnimation(fig, draw_barchart, frames=range(g.day.values.min(), g.day.values.max()))\n",
    "# HTML(animator.to_jshtml())\n",
    "# # or use animator.to_html5_video() or animator.save() "
   ]
  },
  {
   "cell_type": "code",
   "execution_count": null,
   "id": "australian-container",
   "metadata": {
    "papermill": {
     "duration": 0.045076,
     "end_time": "2022-08-23T00:55:31.069122",
     "exception": false,
     "start_time": "2022-08-23T00:55:31.024046",
     "status": "completed"
    },
    "tags": []
   },
   "outputs": [],
   "source": []
  },
  {
   "cell_type": "code",
   "execution_count": null,
   "id": "mediterranean-pontiac",
   "metadata": {
    "papermill": {
     "duration": 0.038518,
     "end_time": "2022-08-23T00:55:31.148670",
     "exception": false,
     "start_time": "2022-08-23T00:55:31.110152",
     "status": "completed"
    },
    "tags": []
   },
   "outputs": [],
   "source": []
  },
  {
   "cell_type": "code",
   "execution_count": null,
   "id": "aging-legislature",
   "metadata": {
    "papermill": {
     "duration": 0.037437,
     "end_time": "2022-08-23T00:55:31.225271",
     "exception": false,
     "start_time": "2022-08-23T00:55:31.187834",
     "status": "completed"
    },
    "tags": []
   },
   "outputs": [],
   "source": []
  }
 ],
 "metadata": {
  "kernelspec": {
   "display_name": "Python 3",
   "language": "python",
   "name": "python3"
  },
  "language_info": {
   "codemirror_mode": {
    "name": "ipython",
    "version": 3
   },
   "file_extension": ".py",
   "mimetype": "text/x-python",
   "name": "python",
   "nbconvert_exporter": "python",
   "pygments_lexer": "ipython3",
   "version": "3.6.15"
  },
  "papermill": {
   "duration": 7.950712,
   "end_time": "2022-08-23T00:55:31.691141",
   "environment_variables": {},
   "exception": null,
   "input_path": "2020-03-21-covid19exp.ipynb",
   "output_path": "2020-03-21-covid19exp.ipynb",
   "parameters": {},
   "start_time": "2022-08-23T00:55:23.740429",
   "version": "2.0.0"
  }
 },
 "nbformat": 4,
 "nbformat_minor": 5
}