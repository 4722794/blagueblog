{
 "cells": [
  {
   "cell_type": "markdown",
   "id": "muslim-click",
   "metadata": {
    "papermill": {
     "duration": 0.034921,
     "end_time": "2022-03-18T12:13:53.331656",
     "exception": false,
     "start_time": "2022-03-18T12:13:53.296735",
     "status": "completed"
    },
    "tags": []
   },
   "source": [
    "# COVID-19 Case Race\n",
    "> A race chart to see rising cases around the world\n",
    "\n",
    "- author: Hargun Oberoi\n",
    "- image: images/covid-overview.png\n",
    "- hide: false\n",
    "- badges: false"
   ]
  },
  {
   "cell_type": "code",
   "execution_count": 1,
   "id": "proof-material",
   "metadata": {
    "execution": {
     "iopub.execute_input": "2022-03-18T12:13:53.402360Z",
     "iopub.status.busy": "2022-03-18T12:13:53.401839Z",
     "iopub.status.idle": "2022-03-18T12:13:53.715696Z",
     "shell.execute_reply": "2022-03-18T12:13:53.716185Z"
    },
    "papermill": {
     "duration": 0.353229,
     "end_time": "2022-03-18T12:13:53.716368",
     "exception": false,
     "start_time": "2022-03-18T12:13:53.363139",
     "status": "completed"
    },
    "tags": []
   },
   "outputs": [],
   "source": [
    "#hide\n",
    "import numpy as np\n",
    "import pandas as pd\n",
    "from jinja2 import Template\n",
    "from IPython.display import HTML"
   ]
  },
  {
   "cell_type": "code",
   "execution_count": 2,
   "id": "developed-terminology",
   "metadata": {
    "execution": {
     "iopub.execute_input": "2022-03-18T12:13:53.781389Z",
     "iopub.status.busy": "2022-03-18T12:13:53.780866Z",
     "iopub.status.idle": "2022-03-18T12:13:53.782965Z",
     "shell.execute_reply": "2022-03-18T12:13:53.783356Z"
    },
    "papermill": {
     "duration": 0.036547,
     "end_time": "2022-03-18T12:13:53.783483",
     "exception": false,
     "start_time": "2022-03-18T12:13:53.746936",
     "status": "completed"
    },
    "tags": []
   },
   "outputs": [],
   "source": [
    "#hide\n",
    "\n",
    "# FETCH\n",
    "base_url = 'https://raw.githubusercontent.com/pratapvardhan/notebooks/master/covid19/'\n",
    "paths = {\n",
    "    'mapping': base_url + 'mapping_countries.csv',\n",
    "    'overview': base_url + 'overview.tpl'\n",
    "}"
   ]
  },
  {
   "cell_type": "code",
   "execution_count": 3,
   "id": "dynamic-saver",
   "metadata": {
    "execution": {
     "iopub.execute_input": "2022-03-18T12:13:53.850922Z",
     "iopub.status.busy": "2022-03-18T12:13:53.849645Z",
     "iopub.status.idle": "2022-03-18T12:13:53.853354Z",
     "shell.execute_reply": "2022-03-18T12:13:53.853733Z"
    },
    "papermill": {
     "duration": 0.040968,
     "end_time": "2022-03-18T12:13:53.853854",
     "exception": false,
     "start_time": "2022-03-18T12:13:53.812886",
     "status": "completed"
    },
    "tags": []
   },
   "outputs": [
    {
     "data": {
      "text/plain": [
       "'https://raw.githubusercontent.com/pratapvardhan/notebooks/master/covid19/mapping_countries.csv'"
      ]
     },
     "execution_count": 3,
     "metadata": {},
     "output_type": "execute_result"
    }
   ],
   "source": [
    "#hide\n",
    "paths['mapping']"
   ]
  },
  {
   "cell_type": "code",
   "execution_count": 4,
   "id": "urban-software",
   "metadata": {
    "execution": {
     "iopub.execute_input": "2022-03-18T12:13:53.918387Z",
     "iopub.status.busy": "2022-03-18T12:13:53.917874Z",
     "iopub.status.idle": "2022-03-18T12:13:53.919666Z",
     "shell.execute_reply": "2022-03-18T12:13:53.920048Z"
    },
    "papermill": {
     "duration": 0.036591,
     "end_time": "2022-03-18T12:13:53.920165",
     "exception": false,
     "start_time": "2022-03-18T12:13:53.883574",
     "status": "completed"
    },
    "tags": []
   },
   "outputs": [],
   "source": [
    "#hide\n",
    "def get_mappings(url):\n",
    "    df = pd.read_csv(url)\n",
    "    return {\n",
    "        'df': df,\n",
    "        'replace.country': dict(df.dropna(subset=['Name']).set_index('Country')['Name']),\n",
    "        'map.continent': dict(df.set_index('Name')['Continent'])\n",
    "    }"
   ]
  },
  {
   "cell_type": "code",
   "execution_count": 5,
   "id": "intimate-machinery",
   "metadata": {
    "execution": {
     "iopub.execute_input": "2022-03-18T12:13:53.984756Z",
     "iopub.status.busy": "2022-03-18T12:13:53.984250Z",
     "iopub.status.idle": "2022-03-18T12:13:54.012173Z",
     "shell.execute_reply": "2022-03-18T12:13:54.011688Z"
    },
    "papermill": {
     "duration": 0.062247,
     "end_time": "2022-03-18T12:13:54.012287",
     "exception": false,
     "start_time": "2022-03-18T12:13:53.950040",
     "status": "completed"
    },
    "tags": []
   },
   "outputs": [],
   "source": [
    "#hide\n",
    "mapping = get_mappings(paths['mapping'])"
   ]
  },
  {
   "cell_type": "code",
   "execution_count": 6,
   "id": "certified-tactics",
   "metadata": {
    "execution": {
     "iopub.execute_input": "2022-03-18T12:13:54.077877Z",
     "iopub.status.busy": "2022-03-18T12:13:54.077288Z",
     "iopub.status.idle": "2022-03-18T12:13:54.078920Z",
     "shell.execute_reply": "2022-03-18T12:13:54.079308Z"
    },
    "papermill": {
     "duration": 0.036404,
     "end_time": "2022-03-18T12:13:54.079426",
     "exception": false,
     "start_time": "2022-03-18T12:13:54.043022",
     "status": "completed"
    },
    "tags": []
   },
   "outputs": [],
   "source": [
    "#hide\n",
    "def get_template(path):\n",
    "    from urllib.parse import urlparse\n",
    "    if bool(urlparse(path).netloc):\n",
    "        from urllib.request import urlopen\n",
    "        return urlopen(path).read().decode('utf8')\n",
    "    return open(path).read()"
   ]
  },
  {
   "cell_type": "code",
   "execution_count": 7,
   "id": "realistic-blast",
   "metadata": {
    "execution": {
     "iopub.execute_input": "2022-03-18T12:13:54.143664Z",
     "iopub.status.busy": "2022-03-18T12:13:54.143065Z",
     "iopub.status.idle": "2022-03-18T12:13:54.145164Z",
     "shell.execute_reply": "2022-03-18T12:13:54.144707Z"
    },
    "papermill": {
     "duration": 0.036179,
     "end_time": "2022-03-18T12:13:54.145281",
     "exception": false,
     "start_time": "2022-03-18T12:13:54.109102",
     "status": "completed"
    },
    "tags": []
   },
   "outputs": [],
   "source": [
    "#hide\n",
    "def get_frame(name):\n",
    "    url = (\n",
    "        'https://raw.githubusercontent.com/CSSEGISandData/COVID-19/master/csse_covid_19_data/'\n",
    "        f'csse_covid_19_time_series/time_series_covid19_{name}_global.csv')\n",
    "    df = pd.read_csv(url)\n",
    "    # rename countries\n",
    "    df['Country/Region'] = df['Country/Region'].replace(mapping['replace.country'])\n",
    "    return df"
   ]
  },
  {
   "cell_type": "code",
   "execution_count": 8,
   "id": "affiliated-characterization",
   "metadata": {
    "execution": {
     "iopub.execute_input": "2022-03-18T12:13:54.211743Z",
     "iopub.status.busy": "2022-03-18T12:13:54.211224Z",
     "iopub.status.idle": "2022-03-18T12:13:54.213188Z",
     "shell.execute_reply": "2022-03-18T12:13:54.213621Z"
    },
    "papermill": {
     "duration": 0.037887,
     "end_time": "2022-03-18T12:13:54.213743",
     "exception": false,
     "start_time": "2022-03-18T12:13:54.175856",
     "status": "completed"
    },
    "tags": []
   },
   "outputs": [],
   "source": [
    "#hide\n",
    "def get_dates(df):\n",
    "    dt_cols = df.columns[~df.columns.isin(['Province/State', 'Country/Region', 'Lat', 'Long'])]\n",
    "    LAST_DATE_I = -1\n",
    "    # sometimes last column may be empty, then go backwards\n",
    "    for i in range(-1, -len(dt_cols), -1):\n",
    "        if not df[dt_cols[i]].fillna(0).eq(0).all():\n",
    "            LAST_DATE_I = i\n",
    "            break\n",
    "    return LAST_DATE_I, dt_cols"
   ]
  },
  {
   "cell_type": "code",
   "execution_count": 9,
   "id": "recent-optimization",
   "metadata": {
    "execution": {
     "iopub.execute_input": "2022-03-18T12:13:54.278272Z",
     "iopub.status.busy": "2022-03-18T12:13:54.277732Z",
     "iopub.status.idle": "2022-03-18T12:13:54.631227Z",
     "shell.execute_reply": "2022-03-18T12:13:54.630682Z"
    },
    "papermill": {
     "duration": 0.387897,
     "end_time": "2022-03-18T12:13:54.631370",
     "exception": false,
     "start_time": "2022-03-18T12:13:54.243473",
     "status": "completed"
    },
    "tags": []
   },
   "outputs": [],
   "source": [
    "#hide\n",
    "COL_REGION = 'Country/Region'\n",
    "# Confirmed, Recovered, Deaths\n",
    "df = get_frame('confirmed')\n",
    "# dft_: timeseries, dfc_: today country agg\n",
    "dft_cases = df\n",
    "dft_deaths = get_frame('deaths')\n",
    "dft_recovered = get_frame('recovered')\n",
    "LAST_DATE_I, dt_cols = get_dates(df)"
   ]
  },
  {
   "cell_type": "code",
   "execution_count": 10,
   "id": "absolute-copper",
   "metadata": {
    "execution": {
     "iopub.execute_input": "2022-03-18T12:13:54.699341Z",
     "iopub.status.busy": "2022-03-18T12:13:54.698760Z",
     "iopub.status.idle": "2022-03-18T12:13:54.700785Z",
     "shell.execute_reply": "2022-03-18T12:13:54.700281Z"
    },
    "papermill": {
     "duration": 0.03754,
     "end_time": "2022-03-18T12:13:54.700894",
     "exception": false,
     "start_time": "2022-03-18T12:13:54.663354",
     "status": "completed"
    },
    "tags": []
   },
   "outputs": [],
   "source": [
    "#hide\n",
    "LAST_DATE_I, dt_cols = get_dates(df)\n",
    "dt_today =dt_cols[LAST_DATE_I]\n",
    "# dt_5day = dt_cols[LAST_DATE_I - 5]\n",
    "dt_yday = dt_cols[LAST_DATE_I - 1]"
   ]
  },
  {
   "cell_type": "code",
   "execution_count": 11,
   "id": "restricted-sheriff",
   "metadata": {
    "execution": {
     "iopub.execute_input": "2022-03-18T12:13:54.765957Z",
     "iopub.status.busy": "2022-03-18T12:13:54.765447Z",
     "iopub.status.idle": "2022-03-18T12:13:54.773548Z",
     "shell.execute_reply": "2022-03-18T12:13:54.773137Z"
    },
    "papermill": {
     "duration": 0.042939,
     "end_time": "2022-03-18T12:13:54.773660",
     "exception": false,
     "start_time": "2022-03-18T12:13:54.730721",
     "status": "completed"
    },
    "tags": []
   },
   "outputs": [],
   "source": [
    "#hide\n",
    "dfc_cases = dft_cases.groupby(COL_REGION)[dt_today].sum()\n",
    "dfc_deaths = dft_deaths.groupby(COL_REGION)[dt_today].sum()\n",
    "# dfp_cases = dft_cases.groupby(COL_REGION)[dt_5day].sum()\n",
    "# dfp_deaths = dft_deaths.groupby(COL_REGION)[dt_5day].sum()\n",
    "dfp_cases = dft_cases.groupby(COL_REGION)[dt_yday].sum()\n",
    "dfp_deaths = dft_deaths.groupby(COL_REGION)[dt_yday].sum()"
   ]
  },
  {
   "cell_type": "code",
   "execution_count": 12,
   "id": "deluxe-hepatitis",
   "metadata": {
    "execution": {
     "iopub.execute_input": "2022-03-18T12:13:54.839564Z",
     "iopub.status.busy": "2022-03-18T12:13:54.839051Z",
     "iopub.status.idle": "2022-03-18T12:13:54.843966Z",
     "shell.execute_reply": "2022-03-18T12:13:54.843564Z"
    },
    "papermill": {
     "duration": 0.040314,
     "end_time": "2022-03-18T12:13:54.844077",
     "exception": false,
     "start_time": "2022-03-18T12:13:54.803763",
     "status": "completed"
    },
    "tags": []
   },
   "outputs": [],
   "source": [
    "#hide\n",
    "df_table = (pd.DataFrame(dict(Cases = dfc_cases, Deaths = dfc_deaths, PCases = dfp_cases, PDeaths = dfp_deaths))\n",
    "            .sort_values(by = ['Cases','Deaths'], ascending = [False, False])\n",
    "            .reset_index())"
   ]
  },
  {
   "cell_type": "code",
   "execution_count": 13,
   "id": "educational-chancellor",
   "metadata": {
    "execution": {
     "iopub.execute_input": "2022-03-18T12:13:54.921913Z",
     "iopub.status.busy": "2022-03-18T12:13:54.921387Z",
     "iopub.status.idle": "2022-03-18T12:13:54.928567Z",
     "shell.execute_reply": "2022-03-18T12:13:54.928166Z"
    },
    "papermill": {
     "duration": 0.054813,
     "end_time": "2022-03-18T12:13:54.928679",
     "exception": false,
     "start_time": "2022-03-18T12:13:54.873866",
     "status": "completed"
    },
    "tags": []
   },
   "outputs": [
    {
     "data": {
      "text/html": [
       "<div>\n",
       "<style scoped>\n",
       "    .dataframe tbody tr th:only-of-type {\n",
       "        vertical-align: middle;\n",
       "    }\n",
       "\n",
       "    .dataframe tbody tr th {\n",
       "        vertical-align: top;\n",
       "    }\n",
       "\n",
       "    .dataframe thead th {\n",
       "        text-align: right;\n",
       "    }\n",
       "</style>\n",
       "<table border=\"1\" class=\"dataframe\">\n",
       "  <thead>\n",
       "    <tr style=\"text-align: right;\">\n",
       "      <th></th>\n",
       "      <th>Country/Region</th>\n",
       "      <th>Cases</th>\n",
       "      <th>Deaths</th>\n",
       "      <th>PCases</th>\n",
       "      <th>PDeaths</th>\n",
       "      <th>Cases (+)</th>\n",
       "      <th>Deaths (+)</th>\n",
       "      <th>Fatality Rate</th>\n",
       "      <th>Continent</th>\n",
       "    </tr>\n",
       "  </thead>\n",
       "  <tbody>\n",
       "    <tr>\n",
       "      <th>0</th>\n",
       "      <td>US</td>\n",
       "      <td>79683737</td>\n",
       "      <td>970009</td>\n",
       "      <td>79630853</td>\n",
       "      <td>968324</td>\n",
       "      <td>52884</td>\n",
       "      <td>1685</td>\n",
       "      <td>1.22</td>\n",
       "      <td>North America</td>\n",
       "    </tr>\n",
       "    <tr>\n",
       "      <th>1</th>\n",
       "      <td>India</td>\n",
       "      <td>43004005</td>\n",
       "      <td>516281</td>\n",
       "      <td>43001477</td>\n",
       "      <td>516132</td>\n",
       "      <td>2528</td>\n",
       "      <td>149</td>\n",
       "      <td>1.20</td>\n",
       "      <td>Asia</td>\n",
       "    </tr>\n",
       "    <tr>\n",
       "      <th>2</th>\n",
       "      <td>Brazil</td>\n",
       "      <td>29532810</td>\n",
       "      <td>656693</td>\n",
       "      <td>29488777</td>\n",
       "      <td>656231</td>\n",
       "      <td>44033</td>\n",
       "      <td>462</td>\n",
       "      <td>2.22</td>\n",
       "      <td>South America</td>\n",
       "    </tr>\n",
       "    <tr>\n",
       "      <th>3</th>\n",
       "      <td>France</td>\n",
       "      <td>24046195</td>\n",
       "      <td>141757</td>\n",
       "      <td>23943801</td>\n",
       "      <td>141640</td>\n",
       "      <td>102394</td>\n",
       "      <td>117</td>\n",
       "      <td>0.59</td>\n",
       "      <td>Europe</td>\n",
       "    </tr>\n",
       "    <tr>\n",
       "      <th>4</th>\n",
       "      <td>United Kingdom</td>\n",
       "      <td>20150847</td>\n",
       "      <td>163972</td>\n",
       "      <td>20059641</td>\n",
       "      <td>163833</td>\n",
       "      <td>91206</td>\n",
       "      <td>139</td>\n",
       "      <td>0.81</td>\n",
       "      <td>Europe</td>\n",
       "    </tr>\n",
       "  </tbody>\n",
       "</table>\n",
       "</div>"
      ],
      "text/plain": [
       "   Country/Region     Cases  Deaths    PCases  PDeaths  Cases (+)  Deaths (+)  \\\n",
       "0              US  79683737  970009  79630853   968324      52884        1685   \n",
       "1           India  43004005  516281  43001477   516132       2528         149   \n",
       "2          Brazil  29532810  656693  29488777   656231      44033         462   \n",
       "3          France  24046195  141757  23943801   141640     102394         117   \n",
       "4  United Kingdom  20150847  163972  20059641   163833      91206         139   \n",
       "\n",
       "   Fatality Rate      Continent  \n",
       "0           1.22  North America  \n",
       "1           1.20           Asia  \n",
       "2           2.22  South America  \n",
       "3           0.59         Europe  \n",
       "4           0.81         Europe  "
      ]
     },
     "execution_count": 13,
     "metadata": {},
     "output_type": "execute_result"
    }
   ],
   "source": [
    "#hide\n",
    "for c in 'Cases, Deaths'.split(', '):\n",
    "    df_table[f'{c} (+)'] = (df_table[c] - df_table[f'P{c}']).clip(0)\n",
    "    #Clip ça veut dire, les chiffres negatif sont interdit\n",
    "df_table['Fatality Rate'] = (100* df_table['Deaths']/ df_table['Cases']).round(2)\n",
    "df_table['Continent'] = df_table['Country/Region'].map(mapping['map.continent'])\n",
    "df_table.head(5)"
   ]
  },
  {
   "cell_type": "code",
   "execution_count": 14,
   "id": "aboriginal-bulgaria",
   "metadata": {
    "execution": {
     "iopub.execute_input": "2022-03-18T12:13:54.995304Z",
     "iopub.status.busy": "2022-03-18T12:13:54.994758Z",
     "iopub.status.idle": "2022-03-18T12:13:54.997133Z",
     "shell.execute_reply": "2022-03-18T12:13:54.996730Z"
    },
    "papermill": {
     "duration": 0.038083,
     "end_time": "2022-03-18T12:13:54.997246",
     "exception": false,
     "start_time": "2022-03-18T12:13:54.959163",
     "status": "completed"
    },
    "tags": []
   },
   "outputs": [],
   "source": [
    "#hide\n",
    "#delete problematic countries from table\n",
    "df_table = df_table[~df_table['Country/Region'].isin(['Cape Verde', 'Cruise Ship', 'Kosovo'])]"
   ]
  },
  {
   "cell_type": "code",
   "execution_count": 15,
   "id": "fantastic-effect",
   "metadata": {
    "execution": {
     "iopub.execute_input": "2022-03-18T12:13:55.066883Z",
     "iopub.status.busy": "2022-03-18T12:13:55.065566Z",
     "iopub.status.idle": "2022-03-18T12:13:55.084023Z",
     "shell.execute_reply": "2022-03-18T12:13:55.084432Z"
    },
    "papermill": {
     "duration": 0.056776,
     "end_time": "2022-03-18T12:13:55.084564",
     "exception": false,
     "start_time": "2022-03-18T12:13:55.027788",
     "status": "completed"
    },
    "tags": []
   },
   "outputs": [
    {
     "data": {
      "text/html": [
       "<div>\n",
       "<style scoped>\n",
       "    .dataframe tbody tr th:only-of-type {\n",
       "        vertical-align: middle;\n",
       "    }\n",
       "\n",
       "    .dataframe tbody tr th {\n",
       "        vertical-align: top;\n",
       "    }\n",
       "\n",
       "    .dataframe thead th {\n",
       "        text-align: right;\n",
       "    }\n",
       "</style>\n",
       "<table border=\"1\" class=\"dataframe\">\n",
       "  <thead>\n",
       "    <tr style=\"text-align: right;\">\n",
       "      <th></th>\n",
       "      <th>Country/Region</th>\n",
       "      <th>Cases</th>\n",
       "      <th>Deaths</th>\n",
       "      <th>PCases</th>\n",
       "      <th>PDeaths</th>\n",
       "      <th>Cases (+)</th>\n",
       "      <th>Deaths (+)</th>\n",
       "      <th>Fatality Rate</th>\n",
       "      <th>Continent</th>\n",
       "    </tr>\n",
       "  </thead>\n",
       "  <tbody>\n",
       "    <tr>\n",
       "      <th>0</th>\n",
       "      <td>US</td>\n",
       "      <td>79683737</td>\n",
       "      <td>970009</td>\n",
       "      <td>79630853</td>\n",
       "      <td>968324</td>\n",
       "      <td>52884</td>\n",
       "      <td>1685</td>\n",
       "      <td>1.2</td>\n",
       "      <td>North America</td>\n",
       "    </tr>\n",
       "    <tr>\n",
       "      <th>1</th>\n",
       "      <td>India</td>\n",
       "      <td>43004005</td>\n",
       "      <td>516281</td>\n",
       "      <td>43001477</td>\n",
       "      <td>516132</td>\n",
       "      <td>2528</td>\n",
       "      <td>149</td>\n",
       "      <td>1.2</td>\n",
       "      <td>Asia</td>\n",
       "    </tr>\n",
       "    <tr>\n",
       "      <th>2</th>\n",
       "      <td>Brazil</td>\n",
       "      <td>29532810</td>\n",
       "      <td>656693</td>\n",
       "      <td>29488777</td>\n",
       "      <td>656231</td>\n",
       "      <td>44033</td>\n",
       "      <td>462</td>\n",
       "      <td>2.2</td>\n",
       "      <td>South America</td>\n",
       "    </tr>\n",
       "    <tr>\n",
       "      <th>3</th>\n",
       "      <td>France</td>\n",
       "      <td>24046195</td>\n",
       "      <td>141757</td>\n",
       "      <td>23943801</td>\n",
       "      <td>141640</td>\n",
       "      <td>102394</td>\n",
       "      <td>117</td>\n",
       "      <td>0.6</td>\n",
       "      <td>Europe</td>\n",
       "    </tr>\n",
       "    <tr>\n",
       "      <th>4</th>\n",
       "      <td>United Kingdom</td>\n",
       "      <td>20150847</td>\n",
       "      <td>163972</td>\n",
       "      <td>20059641</td>\n",
       "      <td>163833</td>\n",
       "      <td>91206</td>\n",
       "      <td>139</td>\n",
       "      <td>0.8</td>\n",
       "      <td>Europe</td>\n",
       "    </tr>\n",
       "  </tbody>\n",
       "</table>\n",
       "</div>"
      ],
      "text/plain": [
       "   Country/Region     Cases  Deaths    PCases  PDeaths  Cases (+)  Deaths (+)  \\\n",
       "0              US  79683737  970009  79630853   968324      52884        1685   \n",
       "1           India  43004005  516281  43001477   516132       2528         149   \n",
       "2          Brazil  29532810  656693  29488777   656231      44033         462   \n",
       "3          France  24046195  141757  23943801   141640     102394         117   \n",
       "4  United Kingdom  20150847  163972  20059641   163833      91206         139   \n",
       "\n",
       "   Fatality Rate      Continent  \n",
       "0            1.2  North America  \n",
       "1            1.2           Asia  \n",
       "2            2.2  South America  \n",
       "3            0.6         Europe  \n",
       "4            0.8         Europe  "
      ]
     },
     "execution_count": 15,
     "metadata": {},
     "output_type": "execute_result"
    }
   ],
   "source": [
    "#hide\n",
    "df_table = (pd.DataFrame(dict(Cases=dfc_cases, Deaths=dfc_deaths, PCases=dfp_cases, PDeaths=dfp_deaths))\n",
    "             .sort_values(by=['Cases', 'Deaths'], ascending=[False, False])\n",
    "             .reset_index())\n",
    "df_table.rename(columns={'index': 'Country/Region'}, inplace=True)\n",
    "for c in 'Cases, Deaths'.split(', '):\n",
    "    df_table[f'{c} (+)'] = (df_table[c] - df_table[f'P{c}']).clip(0)  # DATA BUG\n",
    "df_table['Fatality Rate'] = (100 * df_table['Deaths'] / df_table['Cases']).round(1)\n",
    "df_table['Continent'] = df_table['Country/Region'].map(mapping['map.continent'])\n",
    "df_table.head(5)"
   ]
  },
  {
   "cell_type": "code",
   "execution_count": 16,
   "id": "fewer-occasion",
   "metadata": {
    "execution": {
     "iopub.execute_input": "2022-03-18T12:13:55.152361Z",
     "iopub.status.busy": "2022-03-18T12:13:55.151830Z",
     "iopub.status.idle": "2022-03-18T12:13:55.154379Z",
     "shell.execute_reply": "2022-03-18T12:13:55.153937Z"
    },
    "papermill": {
     "duration": 0.038913,
     "end_time": "2022-03-18T12:13:55.154491",
     "exception": false,
     "start_time": "2022-03-18T12:13:55.115578",
     "status": "completed"
    },
    "tags": []
   },
   "outputs": [],
   "source": [
    "#hide\n",
    "#delete problematic countries from table\n",
    "df_table = df_table[~df_table['Country/Region'].isin(['Cape Verde', 'Cruise Ship', 'Kosovo'])]"
   ]
  },
  {
   "cell_type": "code",
   "execution_count": 17,
   "id": "related-center",
   "metadata": {
    "execution": {
     "iopub.execute_input": "2022-03-18T12:13:55.234756Z",
     "iopub.status.busy": "2022-03-18T12:13:55.234232Z",
     "iopub.status.idle": "2022-03-18T12:13:55.236283Z",
     "shell.execute_reply": "2022-03-18T12:13:55.236663Z"
    },
    "papermill": {
     "duration": 0.051357,
     "end_time": "2022-03-18T12:13:55.236793",
     "exception": false,
     "start_time": "2022-03-18T12:13:55.185436",
     "status": "completed"
    },
    "tags": []
   },
   "outputs": [],
   "source": [
    "#hide\n",
    "metrics = [df_table.columns[index] for index in [1,2,5,6]]\n",
    "# s_china = df_table[df_table['Country/Region'].eq('China')][metrics].sum().add_prefix('China ')\n",
    "s_us = df_table[df_table['Country/Region'].eq('US')][metrics].sum().add_prefix('US ')\n",
    "s_eu = df_table[df_table['Continent'].eq('Europe')][metrics].sum().add_prefix('EU ')\n",
    "s_ind = df_table[df_table['Country/Region'].eq('India')][metrics].sum().add_prefix('India ')\n",
    "summary = {'updated': pd.to_datetime(dt_today), 'since': pd.to_datetime(dt_yday)}\n",
    "summary = {'updated': pd.to_datetime(dt_today), 'since': pd.to_datetime(dt_yday)}\n",
    "summary = {**summary, **df_table[metrics].sum(), **s_ind, **s_us, **s_eu}"
   ]
  },
  {
   "cell_type": "code",
   "execution_count": 18,
   "id": "engaging-syndrome",
   "metadata": {
    "execution": {
     "iopub.execute_input": "2022-03-18T12:13:55.303773Z",
     "iopub.status.busy": "2022-03-18T12:13:55.303267Z",
     "iopub.status.idle": "2022-03-18T12:13:55.319457Z",
     "shell.execute_reply": "2022-03-18T12:13:55.319035Z"
    },
    "papermill": {
     "duration": 0.051798,
     "end_time": "2022-03-18T12:13:55.319575",
     "exception": false,
     "start_time": "2022-03-18T12:13:55.267777",
     "status": "completed"
    },
    "tags": []
   },
   "outputs": [],
   "source": [
    "#hide\n",
    "dft_ct_new_cases = dft_cases.groupby(COL_REGION)[dt_cols].sum().diff(axis=1).fillna(0).astype(int)"
   ]
  },
  {
   "cell_type": "code",
   "execution_count": 19,
   "id": "neutral-assignment",
   "metadata": {
    "execution": {
     "iopub.execute_input": "2022-03-18T12:13:55.385486Z",
     "iopub.status.busy": "2022-03-18T12:13:55.384981Z",
     "iopub.status.idle": "2022-03-18T12:13:55.389735Z",
     "shell.execute_reply": "2022-03-18T12:13:55.389335Z"
    },
    "papermill": {
     "duration": 0.039239,
     "end_time": "2022-03-18T12:13:55.389844",
     "exception": false,
     "start_time": "2022-03-18T12:13:55.350605",
     "status": "completed"
    },
    "tags": []
   },
   "outputs": [],
   "source": [
    "#hide\n",
    "everydaycases = dft_ct_new_cases.cumsum(axis=1)"
   ]
  },
  {
   "cell_type": "code",
   "execution_count": 20,
   "id": "parliamentary-calgary",
   "metadata": {
    "execution": {
     "iopub.execute_input": "2022-03-18T12:13:55.455716Z",
     "iopub.status.busy": "2022-03-18T12:13:55.455194Z",
     "iopub.status.idle": "2022-03-18T12:13:56.041001Z",
     "shell.execute_reply": "2022-03-18T12:13:56.040487Z"
    },
    "papermill": {
     "duration": 0.620489,
     "end_time": "2022-03-18T12:13:56.041139",
     "exception": false,
     "start_time": "2022-03-18T12:13:55.420650",
     "status": "completed"
    },
    "tags": []
   },
   "outputs": [],
   "source": [
    "#hide\n",
    "import pandas as pd\n",
    "import matplotlib.pyplot as plt\n",
    "import matplotlib.ticker as ticker\n",
    "import matplotlib.animation as animation\n",
    "from IPython.display import HTML"
   ]
  },
  {
   "cell_type": "code",
   "execution_count": 21,
   "id": "lasting-extraction",
   "metadata": {
    "execution": {
     "iopub.execute_input": "2022-03-18T12:13:56.110108Z",
     "iopub.status.busy": "2022-03-18T12:13:56.109601Z",
     "iopub.status.idle": "2022-03-18T12:13:56.115959Z",
     "shell.execute_reply": "2022-03-18T12:13:56.115555Z"
    },
    "papermill": {
     "duration": 0.042831,
     "end_time": "2022-03-18T12:13:56.116071",
     "exception": false,
     "start_time": "2022-03-18T12:13:56.073240",
     "status": "completed"
    },
    "tags": []
   },
   "outputs": [],
   "source": [
    "#hide\n",
    "t = everydaycases.stack()"
   ]
  },
  {
   "cell_type": "code",
   "execution_count": 22,
   "id": "premier-sleeve",
   "metadata": {
    "execution": {
     "iopub.execute_input": "2022-03-18T12:13:56.181738Z",
     "iopub.status.busy": "2022-03-18T12:13:56.181227Z",
     "iopub.status.idle": "2022-03-18T12:13:56.190857Z",
     "shell.execute_reply": "2022-03-18T12:13:56.191335Z"
    },
    "papermill": {
     "duration": 0.044554,
     "end_time": "2022-03-18T12:13:56.191456",
     "exception": false,
     "start_time": "2022-03-18T12:13:56.146902",
     "status": "completed"
    },
    "tags": []
   },
   "outputs": [],
   "source": [
    "#hide\n",
    "g = t.reset_index(['Country/Region'])"
   ]
  },
  {
   "cell_type": "code",
   "execution_count": 23,
   "id": "distributed-pittsburgh",
   "metadata": {
    "execution": {
     "iopub.execute_input": "2022-03-18T12:13:56.256619Z",
     "iopub.status.busy": "2022-03-18T12:13:56.256030Z",
     "iopub.status.idle": "2022-03-18T12:13:56.258246Z",
     "shell.execute_reply": "2022-03-18T12:13:56.257784Z"
    },
    "papermill": {
     "duration": 0.036228,
     "end_time": "2022-03-18T12:13:56.258365",
     "exception": false,
     "start_time": "2022-03-18T12:13:56.222137",
     "status": "completed"
    },
    "tags": []
   },
   "outputs": [],
   "source": [
    "#hide\n",
    "g.index.name = 'date'"
   ]
  },
  {
   "cell_type": "code",
   "execution_count": 24,
   "id": "naked-donor",
   "metadata": {
    "execution": {
     "iopub.execute_input": "2022-03-18T12:13:56.324884Z",
     "iopub.status.busy": "2022-03-18T12:13:56.324271Z",
     "iopub.status.idle": "2022-03-18T12:13:56.325822Z",
     "shell.execute_reply": "2022-03-18T12:13:56.326200Z"
    },
    "papermill": {
     "duration": 0.036289,
     "end_time": "2022-03-18T12:13:56.326325",
     "exception": false,
     "start_time": "2022-03-18T12:13:56.290036",
     "status": "completed"
    },
    "tags": []
   },
   "outputs": [],
   "source": [
    "# #hide\n",
    "# g = g.reset_index(['date'])"
   ]
  },
  {
   "cell_type": "code",
   "execution_count": 25,
   "id": "incomplete-mustang",
   "metadata": {
    "execution": {
     "iopub.execute_input": "2022-03-18T12:13:56.394023Z",
     "iopub.status.busy": "2022-03-18T12:13:56.393420Z",
     "iopub.status.idle": "2022-03-18T12:13:56.394990Z",
     "shell.execute_reply": "2022-03-18T12:13:56.395430Z"
    },
    "papermill": {
     "duration": 0.03837,
     "end_time": "2022-03-18T12:13:56.395573",
     "exception": false,
     "start_time": "2022-03-18T12:13:56.357203",
     "status": "completed"
    },
    "tags": []
   },
   "outputs": [],
   "source": [
    "#hide\n",
    "# g.head()"
   ]
  },
  {
   "cell_type": "code",
   "execution_count": 26,
   "id": "specific-kruger",
   "metadata": {
    "execution": {
     "iopub.execute_input": "2022-03-18T12:13:56.461056Z",
     "iopub.status.busy": "2022-03-18T12:13:56.460460Z",
     "iopub.status.idle": "2022-03-18T12:13:56.462643Z",
     "shell.execute_reply": "2022-03-18T12:13:56.462185Z"
    },
    "papermill": {
     "duration": 0.036185,
     "end_time": "2022-03-18T12:13:56.462764",
     "exception": false,
     "start_time": "2022-03-18T12:13:56.426579",
     "status": "completed"
    },
    "tags": []
   },
   "outputs": [],
   "source": [
    "#hide\n",
    "# g.columns = ['date','country','cases']"
   ]
  },
  {
   "cell_type": "code",
   "execution_count": 27,
   "id": "tender-conversion",
   "metadata": {
    "execution": {
     "iopub.execute_input": "2022-03-18T12:13:56.528540Z",
     "iopub.status.busy": "2022-03-18T12:13:56.527946Z",
     "iopub.status.idle": "2022-03-18T12:13:56.531377Z",
     "shell.execute_reply": "2022-03-18T12:13:56.530963Z"
    },
    "papermill": {
     "duration": 0.037377,
     "end_time": "2022-03-18T12:13:56.531486",
     "exception": false,
     "start_time": "2022-03-18T12:13:56.494109",
     "status": "completed"
    },
    "tags": []
   },
   "outputs": [],
   "source": [
    "#hide\n",
    "# g['continent'] = g.country"
   ]
  },
  {
   "cell_type": "code",
   "execution_count": 28,
   "id": "substantial-wilderness",
   "metadata": {
    "execution": {
     "iopub.execute_input": "2022-03-18T12:13:56.597443Z",
     "iopub.status.busy": "2022-03-18T12:13:56.596858Z",
     "iopub.status.idle": "2022-03-18T12:13:56.599065Z",
     "shell.execute_reply": "2022-03-18T12:13:56.598474Z"
    },
    "papermill": {
     "duration": 0.036868,
     "end_time": "2022-03-18T12:13:56.599185",
     "exception": false,
     "start_time": "2022-03-18T12:13:56.562317",
     "status": "completed"
    },
    "tags": []
   },
   "outputs": [],
   "source": [
    "#hide\n",
    "# cols = list(g.columns.values)"
   ]
  },
  {
   "cell_type": "code",
   "execution_count": 29,
   "id": "solved-farming",
   "metadata": {
    "execution": {
     "iopub.execute_input": "2022-03-18T12:13:56.664622Z",
     "iopub.status.busy": "2022-03-18T12:13:56.663633Z",
     "iopub.status.idle": "2022-03-18T12:13:56.665310Z",
     "shell.execute_reply": "2022-03-18T12:13:56.665849Z"
    },
    "papermill": {
     "duration": 0.035897,
     "end_time": "2022-03-18T12:13:56.665976",
     "exception": false,
     "start_time": "2022-03-18T12:13:56.630079",
     "status": "completed"
    },
    "tags": []
   },
   "outputs": [],
   "source": [
    "#hide\n",
    "# cols.insert(0, cols.pop())"
   ]
  },
  {
   "cell_type": "code",
   "execution_count": 30,
   "id": "executed-adoption",
   "metadata": {
    "execution": {
     "iopub.execute_input": "2022-03-18T12:13:56.731600Z",
     "iopub.status.busy": "2022-03-18T12:13:56.731035Z",
     "iopub.status.idle": "2022-03-18T12:13:56.734541Z",
     "shell.execute_reply": "2022-03-18T12:13:56.734140Z"
    },
    "papermill": {
     "duration": 0.037281,
     "end_time": "2022-03-18T12:13:56.734644",
     "exception": false,
     "start_time": "2022-03-18T12:13:56.697363",
     "status": "completed"
    },
    "tags": []
   },
   "outputs": [],
   "source": [
    "#hide\n",
    "# g = g[cols]"
   ]
  },
  {
   "cell_type": "code",
   "execution_count": 31,
   "id": "subject-dublin",
   "metadata": {
    "execution": {
     "iopub.execute_input": "2022-03-18T12:13:56.799610Z",
     "iopub.status.busy": "2022-03-18T12:13:56.799027Z",
     "iopub.status.idle": "2022-03-18T12:13:56.800644Z",
     "shell.execute_reply": "2022-03-18T12:13:56.801079Z"
    },
    "papermill": {
     "duration": 0.03574,
     "end_time": "2022-03-18T12:13:56.801210",
     "exception": false,
     "start_time": "2022-03-18T12:13:56.765470",
     "status": "completed"
    },
    "tags": []
   },
   "outputs": [],
   "source": [
    "#hide\n",
    "# g['continent'] = g['continent'].map(mapping['map.continent'])"
   ]
  },
  {
   "cell_type": "code",
   "execution_count": 32,
   "id": "freelance-scout",
   "metadata": {
    "execution": {
     "iopub.execute_input": "2022-03-18T12:13:56.866538Z",
     "iopub.status.busy": "2022-03-18T12:13:56.865952Z",
     "iopub.status.idle": "2022-03-18T12:13:56.869826Z",
     "shell.execute_reply": "2022-03-18T12:13:56.869358Z"
    },
    "papermill": {
     "duration": 0.037817,
     "end_time": "2022-03-18T12:13:56.869948",
     "exception": false,
     "start_time": "2022-03-18T12:13:56.832131",
     "status": "completed"
    },
    "tags": []
   },
   "outputs": [],
   "source": [
    "#hide\n",
    "# g.head()"
   ]
  },
  {
   "cell_type": "code",
   "execution_count": 33,
   "id": "limited-engine",
   "metadata": {
    "execution": {
     "iopub.execute_input": "2022-03-18T12:13:56.935994Z",
     "iopub.status.busy": "2022-03-18T12:13:56.935472Z",
     "iopub.status.idle": "2022-03-18T12:13:56.937822Z",
     "shell.execute_reply": "2022-03-18T12:13:56.937417Z"
    },
    "papermill": {
     "duration": 0.036565,
     "end_time": "2022-03-18T12:13:56.937931",
     "exception": false,
     "start_time": "2022-03-18T12:13:56.901366",
     "status": "completed"
    },
    "tags": []
   },
   "outputs": [],
   "source": [
    "# hide\n",
    "# g['date'] = g['date'].astype('datetime64[ns]')"
   ]
  },
  {
   "cell_type": "code",
   "execution_count": 34,
   "id": "sophisticated-supervisor",
   "metadata": {
    "execution": {
     "iopub.execute_input": "2022-03-18T12:13:57.003534Z",
     "iopub.status.busy": "2022-03-18T12:13:57.002936Z",
     "iopub.status.idle": "2022-03-18T12:13:57.004810Z",
     "shell.execute_reply": "2022-03-18T12:13:57.004250Z"
    },
    "papermill": {
     "duration": 0.035997,
     "end_time": "2022-03-18T12:13:57.004928",
     "exception": false,
     "start_time": "2022-03-18T12:13:56.968931",
     "status": "completed"
    },
    "tags": []
   },
   "outputs": [],
   "source": [
    "#hide\n",
    "# g['date'] = g.date.dt.dayofyear"
   ]
  },
  {
   "cell_type": "code",
   "execution_count": 35,
   "id": "inside-dubai",
   "metadata": {
    "execution": {
     "iopub.execute_input": "2022-03-18T12:13:57.069958Z",
     "iopub.status.busy": "2022-03-18T12:13:57.069371Z",
     "iopub.status.idle": "2022-03-18T12:13:57.073234Z",
     "shell.execute_reply": "2022-03-18T12:13:57.072769Z"
    },
    "papermill": {
     "duration": 0.037644,
     "end_time": "2022-03-18T12:13:57.073356",
     "exception": false,
     "start_time": "2022-03-18T12:13:57.035712",
     "status": "completed"
    },
    "tags": []
   },
   "outputs": [],
   "source": [
    "#hide\n",
    "# g = g.rename(columns= {'continent':'group','country':'name','cases':'value'})"
   ]
  },
  {
   "cell_type": "code",
   "execution_count": 36,
   "id": "fleet-motorcycle",
   "metadata": {
    "execution": {
     "iopub.execute_input": "2022-03-18T12:13:57.138948Z",
     "iopub.status.busy": "2022-03-18T12:13:57.138406Z",
     "iopub.status.idle": "2022-03-18T12:13:57.141492Z",
     "shell.execute_reply": "2022-03-18T12:13:57.141092Z"
    },
    "papermill": {
     "duration": 0.036961,
     "end_time": "2022-03-18T12:13:57.141598",
     "exception": false,
     "start_time": "2022-03-18T12:13:57.104637",
     "status": "completed"
    },
    "tags": []
   },
   "outputs": [],
   "source": [
    "#hide\n",
    "# cols = ['name','group','day','value']"
   ]
  },
  {
   "cell_type": "code",
   "execution_count": 37,
   "id": "continued-sleeping",
   "metadata": {
    "execution": {
     "iopub.execute_input": "2022-03-18T12:13:57.206460Z",
     "iopub.status.busy": "2022-03-18T12:13:57.205872Z",
     "iopub.status.idle": "2022-03-18T12:13:57.207517Z",
     "shell.execute_reply": "2022-03-18T12:13:57.207974Z"
    },
    "papermill": {
     "duration": 0.03576,
     "end_time": "2022-03-18T12:13:57.208103",
     "exception": false,
     "start_time": "2022-03-18T12:13:57.172343",
     "status": "completed"
    },
    "tags": []
   },
   "outputs": [],
   "source": [
    "#hide\n",
    "# g.rename(columns= {'date':'day'},inplace = True)"
   ]
  },
  {
   "cell_type": "code",
   "execution_count": 38,
   "id": "major-fight",
   "metadata": {
    "execution": {
     "iopub.execute_input": "2022-03-18T12:13:57.273264Z",
     "iopub.status.busy": "2022-03-18T12:13:57.272676Z",
     "iopub.status.idle": "2022-03-18T12:13:57.274367Z",
     "shell.execute_reply": "2022-03-18T12:13:57.274825Z"
    },
    "papermill": {
     "duration": 0.035939,
     "end_time": "2022-03-18T12:13:57.274965",
     "exception": false,
     "start_time": "2022-03-18T12:13:57.239026",
     "status": "completed"
    },
    "tags": []
   },
   "outputs": [],
   "source": [
    "#hide\n",
    "# g = g[cols]"
   ]
  },
  {
   "cell_type": "code",
   "execution_count": 39,
   "id": "structured-mobile",
   "metadata": {
    "execution": {
     "iopub.execute_input": "2022-03-18T12:13:57.340207Z",
     "iopub.status.busy": "2022-03-18T12:13:57.339630Z",
     "iopub.status.idle": "2022-03-18T12:13:57.341214Z",
     "shell.execute_reply": "2022-03-18T12:13:57.341614Z"
    },
    "papermill": {
     "duration": 0.035396,
     "end_time": "2022-03-18T12:13:57.341728",
     "exception": false,
     "start_time": "2022-03-18T12:13:57.306332",
     "status": "completed"
    },
    "tags": []
   },
   "outputs": [],
   "source": [
    "# #hide\n",
    "# g = g[g.group.notna()]"
   ]
  },
  {
   "cell_type": "code",
   "execution_count": 40,
   "id": "determined-closing",
   "metadata": {
    "execution": {
     "iopub.execute_input": "2022-03-18T12:13:57.406645Z",
     "iopub.status.busy": "2022-03-18T12:13:57.406050Z",
     "iopub.status.idle": "2022-03-18T12:13:57.407700Z",
     "shell.execute_reply": "2022-03-18T12:13:57.408164Z"
    },
    "papermill": {
     "duration": 0.035751,
     "end_time": "2022-03-18T12:13:57.408294",
     "exception": false,
     "start_time": "2022-03-18T12:13:57.372543",
     "status": "completed"
    },
    "tags": []
   },
   "outputs": [],
   "source": [
    "# #hide\n",
    "# colors = dict(zip(\n",
    "#     [\"Oceania\", \"Europe\", \"Asia\", \"South America\", \"Middle East\", \"North America\", \"Africa\"],\n",
    "#     [\"#adb0ff\", \"#ffb3ff\", \"#90d595\", \"#e48381\", \"#aafbff\", \"#f7bb5f\", \"#eafb50\"]\n",
    "# ))\n",
    "# group_lk = g.set_index('name')['group'].to_dict()"
   ]
  },
  {
   "cell_type": "code",
   "execution_count": null,
   "id": "gross-drinking",
   "metadata": {
    "papermill": {
     "duration": 0.030586,
     "end_time": "2022-03-18T12:13:57.469793",
     "exception": false,
     "start_time": "2022-03-18T12:13:57.439207",
     "status": "completed"
    },
    "tags": []
   },
   "outputs": [],
   "source": []
  },
  {
   "cell_type": "code",
   "execution_count": 41,
   "id": "subject-macintosh",
   "metadata": {
    "execution": {
     "iopub.execute_input": "2022-03-18T12:13:57.535456Z",
     "iopub.status.busy": "2022-03-18T12:13:57.534930Z",
     "iopub.status.idle": "2022-03-18T12:13:57.536850Z",
     "shell.execute_reply": "2022-03-18T12:13:57.537281Z"
    },
    "papermill": {
     "duration": 0.036733,
     "end_time": "2022-03-18T12:13:57.537397",
     "exception": false,
     "start_time": "2022-03-18T12:13:57.500664",
     "status": "completed"
    },
    "tags": []
   },
   "outputs": [],
   "source": [
    "# #hide\n",
    "# fig, ax = plt.subplots(figsize=(15, 8))\n",
    "\n",
    "# def draw_barchart(current_day):\n",
    "#     dff = g[g['day'].eq(current_day)].sort_values(by='value', ascending=True).tail(10)\n",
    "#     ax.clear()\n",
    "#     ax.barh(dff['name'], dff['value'], color=[colors[group_lk[x]] for x in dff['name']])\n",
    "#     dx = dff['value'].max() / 200\n",
    "    \n",
    "#     for i, (value, name) in enumerate(zip(dff['value'], dff['name'])):\n",
    "#         ax.text(value-dx, i,     name,           size=14, weight=600, ha='right', va='bottom')\n",
    "#         ax.text(value-dx, i-.25, group_lk[name], size=10, color='#444444', ha='right', va='baseline')\n",
    "#         ax.text(value+dx, i,     f'{value:,.0f}',  size=14, ha='left',  va='center')\n",
    "#     ax.text(1, 0.4, current_day, transform=ax.transAxes, color='#777777', size=46, ha='right', weight=800)\n",
    "#     ax.text(0, 1.06, 'Population (thousands)', transform=ax.transAxes, size=12, color='#777777')\n",
    "#     ax.xaxis.set_major_formatter(ticker.StrMethodFormatter('{x:,.0f}'))\n",
    "#     ax.xaxis.set_ticks_position('top')\n",
    "#     ax.tick_params(axis='x', colors='#777777', labelsize=12)\n",
    "#     ax.set_yticks([])\n",
    "#     ax.margins(0, 0.01)\n",
    "#     ax.grid(which='major', axis='x', linestyle='-')\n",
    "#     ax.set_axisbelow(True)\n",
    "    \n",
    "#     ax.text(0, 1.15, 'Coronavirus',\n",
    "#             transform=ax.transAxes, size=24, weight=600, ha='left', va='top')\n",
    "# #     ax.text(1, 0, 'by @pratapvardhan; credit @jburnmurdoch', transform=ax.transAxes, color='#777777', ha='right',\n",
    "# #             bbox=dict(facecolor='white', alpha=0.8, edgecolor='white'))\n",
    "#     plt.box(False)"
   ]
  },
  {
   "cell_type": "code",
   "execution_count": 42,
   "id": "sexual-wages",
   "metadata": {
    "execution": {
     "iopub.execute_input": "2022-03-18T12:13:57.602368Z",
     "iopub.status.busy": "2022-03-18T12:13:57.601770Z",
     "iopub.status.idle": "2022-03-18T12:13:57.603960Z",
     "shell.execute_reply": "2022-03-18T12:13:57.603501Z"
    },
    "papermill": {
     "duration": 0.036046,
     "end_time": "2022-03-18T12:13:57.604078",
     "exception": false,
     "start_time": "2022-03-18T12:13:57.568032",
     "status": "completed"
    },
    "tags": []
   },
   "outputs": [],
   "source": [
    "# #hide_input\n",
    "# fig, ax = plt.subplots(figsize=(15, 8))\n",
    "# animator = animation.FuncAnimation(fig, draw_barchart, frames=range(g.day.values.min(), g.day.values.max()))\n",
    "# HTML(animator.to_jshtml())\n",
    "# # or use animator.to_html5_video() or animator.save() "
   ]
  },
  {
   "cell_type": "code",
   "execution_count": null,
   "id": "australian-container",
   "metadata": {
    "papermill": {
     "duration": 0.030815,
     "end_time": "2022-03-18T12:13:57.665892",
     "exception": false,
     "start_time": "2022-03-18T12:13:57.635077",
     "status": "completed"
    },
    "tags": []
   },
   "outputs": [],
   "source": []
  },
  {
   "cell_type": "code",
   "execution_count": null,
   "id": "mediterranean-pontiac",
   "metadata": {
    "papermill": {
     "duration": 0.030653,
     "end_time": "2022-03-18T12:13:57.727351",
     "exception": false,
     "start_time": "2022-03-18T12:13:57.696698",
     "status": "completed"
    },
    "tags": []
   },
   "outputs": [],
   "source": []
  },
  {
   "cell_type": "code",
   "execution_count": null,
   "id": "aging-legislature",
   "metadata": {
    "papermill": {
     "duration": 0.030649,
     "end_time": "2022-03-18T12:13:57.788900",
     "exception": false,
     "start_time": "2022-03-18T12:13:57.758251",
     "status": "completed"
    },
    "tags": []
   },
   "outputs": [],
   "source": []
  }
 ],
 "metadata": {
  "kernelspec": {
   "display_name": "Python 3",
   "language": "python",
   "name": "python3"
  },
  "language_info": {
   "codemirror_mode": {
    "name": "ipython",
    "version": 3
   },
   "file_extension": ".py",
   "mimetype": "text/x-python",
   "name": "python",
   "nbconvert_exporter": "python",
   "pygments_lexer": "ipython3",
   "version": "3.6.15"
  },
  "papermill": {
   "duration": 5.765084,
   "end_time": "2022-03-18T12:13:58.137433",
   "environment_variables": {},
   "exception": null,
   "input_path": "2020-03-21-covid19exp.ipynb",
   "output_path": "2020-03-21-covid19exp.ipynb",
   "parameters": {},
   "start_time": "2022-03-18T12:13:52.372349",
   "version": "2.0.0"
  }
 },
 "nbformat": 4,
 "nbformat_minor": 5
}