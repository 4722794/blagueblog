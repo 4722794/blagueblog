{
 "cells": [
  {
   "cell_type": "markdown",
   "id": "muslim-click",
   "metadata": {
    "papermill": {
     "duration": 0.045812,
     "end_time": "2022-06-10T12:16:42.281251",
     "exception": false,
     "start_time": "2022-06-10T12:16:42.235439",
     "status": "completed"
    },
    "tags": []
   },
   "source": [
    "# COVID-19 Case Race\n",
    "> A race chart to see rising cases around the world\n",
    "\n",
    "- author: Hargun Oberoi\n",
    "- image: images/covid-overview.png\n",
    "- hide: false\n",
    "- badges: false"
   ]
  },
  {
   "cell_type": "code",
   "execution_count": 1,
   "id": "proof-material",
   "metadata": {
    "execution": {
     "iopub.execute_input": "2022-06-10T12:16:42.382260Z",
     "iopub.status.busy": "2022-06-10T12:16:42.381445Z",
     "iopub.status.idle": "2022-06-10T12:16:42.859945Z",
     "shell.execute_reply": "2022-06-10T12:16:42.859230Z"
    },
    "papermill": {
     "duration": 0.528848,
     "end_time": "2022-06-10T12:16:42.860120",
     "exception": false,
     "start_time": "2022-06-10T12:16:42.331272",
     "status": "completed"
    },
    "tags": []
   },
   "outputs": [],
   "source": [
    "#hide\n",
    "import numpy as np\n",
    "import pandas as pd\n",
    "from jinja2 import Template\n",
    "from IPython.display import HTML"
   ]
  },
  {
   "cell_type": "code",
   "execution_count": 2,
   "id": "developed-terminology",
   "metadata": {
    "execution": {
     "iopub.execute_input": "2022-06-10T12:16:42.957295Z",
     "iopub.status.busy": "2022-06-10T12:16:42.956454Z",
     "iopub.status.idle": "2022-06-10T12:16:42.962022Z",
     "shell.execute_reply": "2022-06-10T12:16:42.961372Z"
    },
    "papermill": {
     "duration": 0.055084,
     "end_time": "2022-06-10T12:16:42.962165",
     "exception": false,
     "start_time": "2022-06-10T12:16:42.907081",
     "status": "completed"
    },
    "tags": []
   },
   "outputs": [],
   "source": [
    "#hide\n",
    "\n",
    "# FETCH\n",
    "base_url = 'https://raw.githubusercontent.com/pratapvardhan/notebooks/master/covid19/'\n",
    "paths = {\n",
    "    'mapping': base_url + 'mapping_countries.csv',\n",
    "    'overview': base_url + 'overview.tpl'\n",
    "}"
   ]
  },
  {
   "cell_type": "code",
   "execution_count": 3,
   "id": "dynamic-saver",
   "metadata": {
    "execution": {
     "iopub.execute_input": "2022-06-10T12:16:43.068065Z",
     "iopub.status.busy": "2022-06-10T12:16:43.066035Z",
     "iopub.status.idle": "2022-06-10T12:16:43.070956Z",
     "shell.execute_reply": "2022-06-10T12:16:43.070219Z"
    },
    "papermill": {
     "duration": 0.065313,
     "end_time": "2022-06-10T12:16:43.071107",
     "exception": false,
     "start_time": "2022-06-10T12:16:43.005794",
     "status": "completed"
    },
    "tags": []
   },
   "outputs": [
    {
     "data": {
      "text/plain": [
       "'https://raw.githubusercontent.com/pratapvardhan/notebooks/master/covid19/mapping_countries.csv'"
      ]
     },
     "execution_count": 3,
     "metadata": {},
     "output_type": "execute_result"
    }
   ],
   "source": [
    "#hide\n",
    "paths['mapping']"
   ]
  },
  {
   "cell_type": "code",
   "execution_count": 4,
   "id": "urban-software",
   "metadata": {
    "execution": {
     "iopub.execute_input": "2022-06-10T12:16:43.174642Z",
     "iopub.status.busy": "2022-06-10T12:16:43.173857Z",
     "iopub.status.idle": "2022-06-10T12:16:43.179953Z",
     "shell.execute_reply": "2022-06-10T12:16:43.179330Z"
    },
    "papermill": {
     "duration": 0.061493,
     "end_time": "2022-06-10T12:16:43.180105",
     "exception": false,
     "start_time": "2022-06-10T12:16:43.118612",
     "status": "completed"
    },
    "tags": []
   },
   "outputs": [],
   "source": [
    "#hide\n",
    "def get_mappings(url):\n",
    "    df = pd.read_csv(url)\n",
    "    return {\n",
    "        'df': df,\n",
    "        'replace.country': dict(df.dropna(subset=['Name']).set_index('Country')['Name']),\n",
    "        'map.continent': dict(df.set_index('Name')['Continent'])\n",
    "    }"
   ]
  },
  {
   "cell_type": "code",
   "execution_count": 5,
   "id": "intimate-machinery",
   "metadata": {
    "execution": {
     "iopub.execute_input": "2022-06-10T12:16:43.273778Z",
     "iopub.status.busy": "2022-06-10T12:16:43.273001Z",
     "iopub.status.idle": "2022-06-10T12:16:43.313312Z",
     "shell.execute_reply": "2022-06-10T12:16:43.311918Z"
    },
    "papermill": {
     "duration": 0.091138,
     "end_time": "2022-06-10T12:16:43.313471",
     "exception": false,
     "start_time": "2022-06-10T12:16:43.222333",
     "status": "completed"
    },
    "tags": []
   },
   "outputs": [],
   "source": [
    "#hide\n",
    "mapping = get_mappings(paths['mapping'])"
   ]
  },
  {
   "cell_type": "code",
   "execution_count": 6,
   "id": "certified-tactics",
   "metadata": {
    "execution": {
     "iopub.execute_input": "2022-06-10T12:16:43.400341Z",
     "iopub.status.busy": "2022-06-10T12:16:43.399550Z",
     "iopub.status.idle": "2022-06-10T12:16:43.403007Z",
     "shell.execute_reply": "2022-06-10T12:16:43.402121Z"
    },
    "papermill": {
     "duration": 0.049826,
     "end_time": "2022-06-10T12:16:43.403155",
     "exception": false,
     "start_time": "2022-06-10T12:16:43.353329",
     "status": "completed"
    },
    "tags": []
   },
   "outputs": [],
   "source": [
    "#hide\n",
    "def get_template(path):\n",
    "    from urllib.parse import urlparse\n",
    "    if bool(urlparse(path).netloc):\n",
    "        from urllib.request import urlopen\n",
    "        return urlopen(path).read().decode('utf8')\n",
    "    return open(path).read()"
   ]
  },
  {
   "cell_type": "code",
   "execution_count": 7,
   "id": "realistic-blast",
   "metadata": {
    "execution": {
     "iopub.execute_input": "2022-06-10T12:16:43.509671Z",
     "iopub.status.busy": "2022-06-10T12:16:43.508822Z",
     "iopub.status.idle": "2022-06-10T12:16:43.512307Z",
     "shell.execute_reply": "2022-06-10T12:16:43.511415Z"
    },
    "papermill": {
     "duration": 0.053224,
     "end_time": "2022-06-10T12:16:43.512452",
     "exception": false,
     "start_time": "2022-06-10T12:16:43.459228",
     "status": "completed"
    },
    "tags": []
   },
   "outputs": [],
   "source": [
    "#hide\n",
    "def get_frame(name):\n",
    "    url = (\n",
    "        'https://raw.githubusercontent.com/CSSEGISandData/COVID-19/master/csse_covid_19_data/'\n",
    "        f'csse_covid_19_time_series/time_series_covid19_{name}_global.csv')\n",
    "    df = pd.read_csv(url)\n",
    "    # rename countries\n",
    "    df['Country/Region'] = df['Country/Region'].replace(mapping['replace.country'])\n",
    "    return df"
   ]
  },
  {
   "cell_type": "code",
   "execution_count": 8,
   "id": "affiliated-characterization",
   "metadata": {
    "execution": {
     "iopub.execute_input": "2022-06-10T12:16:43.611105Z",
     "iopub.status.busy": "2022-06-10T12:16:43.610197Z",
     "iopub.status.idle": "2022-06-10T12:16:43.615185Z",
     "shell.execute_reply": "2022-06-10T12:16:43.614142Z"
    },
    "papermill": {
     "duration": 0.057269,
     "end_time": "2022-06-10T12:16:43.615336",
     "exception": false,
     "start_time": "2022-06-10T12:16:43.558067",
     "status": "completed"
    },
    "tags": []
   },
   "outputs": [],
   "source": [
    "#hide\n",
    "def get_dates(df):\n",
    "    dt_cols = df.columns[~df.columns.isin(['Province/State', 'Country/Region', 'Lat', 'Long'])]\n",
    "    LAST_DATE_I = -1\n",
    "    # sometimes last column may be empty, then go backwards\n",
    "    for i in range(-1, -len(dt_cols), -1):\n",
    "        if not df[dt_cols[i]].fillna(0).eq(0).all():\n",
    "            LAST_DATE_I = i\n",
    "            break\n",
    "    return LAST_DATE_I, dt_cols"
   ]
  },
  {
   "cell_type": "code",
   "execution_count": 9,
   "id": "recent-optimization",
   "metadata": {
    "execution": {
     "iopub.execute_input": "2022-06-10T12:16:43.713707Z",
     "iopub.status.busy": "2022-06-10T12:16:43.712324Z",
     "iopub.status.idle": "2022-06-10T12:16:44.194783Z",
     "shell.execute_reply": "2022-06-10T12:16:44.195721Z"
    },
    "papermill": {
     "duration": 0.539285,
     "end_time": "2022-06-10T12:16:44.195903",
     "exception": false,
     "start_time": "2022-06-10T12:16:43.656618",
     "status": "completed"
    },
    "tags": []
   },
   "outputs": [],
   "source": [
    "#hide\n",
    "COL_REGION = 'Country/Region'\n",
    "# Confirmed, Recovered, Deaths\n",
    "df = get_frame('confirmed')\n",
    "# dft_: timeseries, dfc_: today country agg\n",
    "dft_cases = df\n",
    "dft_deaths = get_frame('deaths')\n",
    "dft_recovered = get_frame('recovered')\n",
    "LAST_DATE_I, dt_cols = get_dates(df)"
   ]
  },
  {
   "cell_type": "code",
   "execution_count": 10,
   "id": "absolute-copper",
   "metadata": {
    "execution": {
     "iopub.execute_input": "2022-06-10T12:16:44.284737Z",
     "iopub.status.busy": "2022-06-10T12:16:44.283953Z",
     "iopub.status.idle": "2022-06-10T12:16:44.293222Z",
     "shell.execute_reply": "2022-06-10T12:16:44.293809Z"
    },
    "papermill": {
     "duration": 0.057109,
     "end_time": "2022-06-10T12:16:44.293992",
     "exception": false,
     "start_time": "2022-06-10T12:16:44.236883",
     "status": "completed"
    },
    "tags": []
   },
   "outputs": [],
   "source": [
    "#hide\n",
    "LAST_DATE_I, dt_cols = get_dates(df)\n",
    "dt_today =dt_cols[LAST_DATE_I]\n",
    "# dt_5day = dt_cols[LAST_DATE_I - 5]\n",
    "dt_yday = dt_cols[LAST_DATE_I - 1]"
   ]
  },
  {
   "cell_type": "code",
   "execution_count": 11,
   "id": "restricted-sheriff",
   "metadata": {
    "execution": {
     "iopub.execute_input": "2022-06-10T12:16:44.388030Z",
     "iopub.status.busy": "2022-06-10T12:16:44.387243Z",
     "iopub.status.idle": "2022-06-10T12:16:44.394431Z",
     "shell.execute_reply": "2022-06-10T12:16:44.393562Z"
    },
    "papermill": {
     "duration": 0.059042,
     "end_time": "2022-06-10T12:16:44.394597",
     "exception": false,
     "start_time": "2022-06-10T12:16:44.335555",
     "status": "completed"
    },
    "tags": []
   },
   "outputs": [],
   "source": [
    "#hide\n",
    "dfc_cases = dft_cases.groupby(COL_REGION)[dt_today].sum()\n",
    "dfc_deaths = dft_deaths.groupby(COL_REGION)[dt_today].sum()\n",
    "# dfp_cases = dft_cases.groupby(COL_REGION)[dt_5day].sum()\n",
    "# dfp_deaths = dft_deaths.groupby(COL_REGION)[dt_5day].sum()\n",
    "dfp_cases = dft_cases.groupby(COL_REGION)[dt_yday].sum()\n",
    "dfp_deaths = dft_deaths.groupby(COL_REGION)[dt_yday].sum()"
   ]
  },
  {
   "cell_type": "code",
   "execution_count": 12,
   "id": "deluxe-hepatitis",
   "metadata": {
    "execution": {
     "iopub.execute_input": "2022-06-10T12:16:44.506878Z",
     "iopub.status.busy": "2022-06-10T12:16:44.506059Z",
     "iopub.status.idle": "2022-06-10T12:16:44.515027Z",
     "shell.execute_reply": "2022-06-10T12:16:44.514302Z"
    },
    "papermill": {
     "duration": 0.065604,
     "end_time": "2022-06-10T12:16:44.515180",
     "exception": false,
     "start_time": "2022-06-10T12:16:44.449576",
     "status": "completed"
    },
    "tags": []
   },
   "outputs": [],
   "source": [
    "#hide\n",
    "df_table = (pd.DataFrame(dict(Cases = dfc_cases, Deaths = dfc_deaths, PCases = dfp_cases, PDeaths = dfp_deaths))\n",
    "            .sort_values(by = ['Cases','Deaths'], ascending = [False, False])\n",
    "            .reset_index())"
   ]
  },
  {
   "cell_type": "code",
   "execution_count": 13,
   "id": "educational-chancellor",
   "metadata": {
    "execution": {
     "iopub.execute_input": "2022-06-10T12:16:44.614271Z",
     "iopub.status.busy": "2022-06-10T12:16:44.613483Z",
     "iopub.status.idle": "2022-06-10T12:16:44.637938Z",
     "shell.execute_reply": "2022-06-10T12:16:44.638692Z"
    },
    "papermill": {
     "duration": 0.079628,
     "end_time": "2022-06-10T12:16:44.638903",
     "exception": false,
     "start_time": "2022-06-10T12:16:44.559275",
     "status": "completed"
    },
    "tags": []
   },
   "outputs": [
    {
     "data": {
      "text/html": [
       "<div>\n",
       "<style scoped>\n",
       "    .dataframe tbody tr th:only-of-type {\n",
       "        vertical-align: middle;\n",
       "    }\n",
       "\n",
       "    .dataframe tbody tr th {\n",
       "        vertical-align: top;\n",
       "    }\n",
       "\n",
       "    .dataframe thead th {\n",
       "        text-align: right;\n",
       "    }\n",
       "</style>\n",
       "<table border=\"1\" class=\"dataframe\">\n",
       "  <thead>\n",
       "    <tr style=\"text-align: right;\">\n",
       "      <th></th>\n",
       "      <th>Country/Region</th>\n",
       "      <th>Cases</th>\n",
       "      <th>Deaths</th>\n",
       "      <th>PCases</th>\n",
       "      <th>PDeaths</th>\n",
       "      <th>Cases (+)</th>\n",
       "      <th>Deaths (+)</th>\n",
       "      <th>Fatality Rate</th>\n",
       "      <th>Continent</th>\n",
       "    </tr>\n",
       "  </thead>\n",
       "  <tbody>\n",
       "    <tr>\n",
       "      <th>0</th>\n",
       "      <td>US</td>\n",
       "      <td>85329656</td>\n",
       "      <td>1010805</td>\n",
       "      <td>85214036</td>\n",
       "      <td>1010520</td>\n",
       "      <td>115620</td>\n",
       "      <td>285</td>\n",
       "      <td>1.18</td>\n",
       "      <td>North America</td>\n",
       "    </tr>\n",
       "    <tr>\n",
       "      <th>1</th>\n",
       "      <td>India</td>\n",
       "      <td>43205106</td>\n",
       "      <td>524747</td>\n",
       "      <td>43197522</td>\n",
       "      <td>524723</td>\n",
       "      <td>7584</td>\n",
       "      <td>24</td>\n",
       "      <td>1.21</td>\n",
       "      <td>Asia</td>\n",
       "    </tr>\n",
       "    <tr>\n",
       "      <th>2</th>\n",
       "      <td>Brazil</td>\n",
       "      <td>31360850</td>\n",
       "      <td>667790</td>\n",
       "      <td>31315777</td>\n",
       "      <td>667647</td>\n",
       "      <td>45073</td>\n",
       "      <td>143</td>\n",
       "      <td>2.13</td>\n",
       "      <td>South America</td>\n",
       "    </tr>\n",
       "    <tr>\n",
       "      <th>3</th>\n",
       "      <td>France</td>\n",
       "      <td>29946603</td>\n",
       "      <td>149749</td>\n",
       "      <td>29906452</td>\n",
       "      <td>149707</td>\n",
       "      <td>40151</td>\n",
       "      <td>42</td>\n",
       "      <td>0.50</td>\n",
       "      <td>Europe</td>\n",
       "    </tr>\n",
       "    <tr>\n",
       "      <th>4</th>\n",
       "      <td>Germany</td>\n",
       "      <td>26738530</td>\n",
       "      <td>139729</td>\n",
       "      <td>26660652</td>\n",
       "      <td>139623</td>\n",
       "      <td>77878</td>\n",
       "      <td>106</td>\n",
       "      <td>0.52</td>\n",
       "      <td>Europe</td>\n",
       "    </tr>\n",
       "  </tbody>\n",
       "</table>\n",
       "</div>"
      ],
      "text/plain": [
       "  Country/Region     Cases   Deaths    PCases  PDeaths  Cases (+)  Deaths (+)  \\\n",
       "0             US  85329656  1010805  85214036  1010520     115620         285   \n",
       "1          India  43205106   524747  43197522   524723       7584          24   \n",
       "2         Brazil  31360850   667790  31315777   667647      45073         143   \n",
       "3         France  29946603   149749  29906452   149707      40151          42   \n",
       "4        Germany  26738530   139729  26660652   139623      77878         106   \n",
       "\n",
       "   Fatality Rate      Continent  \n",
       "0           1.18  North America  \n",
       "1           1.21           Asia  \n",
       "2           2.13  South America  \n",
       "3           0.50         Europe  \n",
       "4           0.52         Europe  "
      ]
     },
     "execution_count": 13,
     "metadata": {},
     "output_type": "execute_result"
    }
   ],
   "source": [
    "#hide\n",
    "for c in 'Cases, Deaths'.split(', '):\n",
    "    df_table[f'{c} (+)'] = (df_table[c] - df_table[f'P{c}']).clip(0)\n",
    "    #Clip ça veut dire, les chiffres negatif sont interdit\n",
    "df_table['Fatality Rate'] = (100* df_table['Deaths']/ df_table['Cases']).round(2)\n",
    "df_table['Continent'] = df_table['Country/Region'].map(mapping['map.continent'])\n",
    "df_table.head(5)"
   ]
  },
  {
   "cell_type": "code",
   "execution_count": 14,
   "id": "aboriginal-bulgaria",
   "metadata": {
    "execution": {
     "iopub.execute_input": "2022-06-10T12:16:44.731859Z",
     "iopub.status.busy": "2022-06-10T12:16:44.731090Z",
     "iopub.status.idle": "2022-06-10T12:16:44.734937Z",
     "shell.execute_reply": "2022-06-10T12:16:44.735743Z"
    },
    "papermill": {
     "duration": 0.056679,
     "end_time": "2022-06-10T12:16:44.735900",
     "exception": false,
     "start_time": "2022-06-10T12:16:44.679221",
     "status": "completed"
    },
    "tags": []
   },
   "outputs": [],
   "source": [
    "#hide\n",
    "#delete problematic countries from table\n",
    "df_table = df_table[~df_table['Country/Region'].isin(['Cape Verde', 'Cruise Ship', 'Kosovo'])]"
   ]
  },
  {
   "cell_type": "code",
   "execution_count": 15,
   "id": "fantastic-effect",
   "metadata": {
    "execution": {
     "iopub.execute_input": "2022-06-10T12:16:44.830361Z",
     "iopub.status.busy": "2022-06-10T12:16:44.829579Z",
     "iopub.status.idle": "2022-06-10T12:16:44.857252Z",
     "shell.execute_reply": "2022-06-10T12:16:44.858050Z"
    },
    "papermill": {
     "duration": 0.080726,
     "end_time": "2022-06-10T12:16:44.858433",
     "exception": false,
     "start_time": "2022-06-10T12:16:44.777707",
     "status": "completed"
    },
    "tags": []
   },
   "outputs": [
    {
     "data": {
      "text/html": [
       "<div>\n",
       "<style scoped>\n",
       "    .dataframe tbody tr th:only-of-type {\n",
       "        vertical-align: middle;\n",
       "    }\n",
       "\n",
       "    .dataframe tbody tr th {\n",
       "        vertical-align: top;\n",
       "    }\n",
       "\n",
       "    .dataframe thead th {\n",
       "        text-align: right;\n",
       "    }\n",
       "</style>\n",
       "<table border=\"1\" class=\"dataframe\">\n",
       "  <thead>\n",
       "    <tr style=\"text-align: right;\">\n",
       "      <th></th>\n",
       "      <th>Country/Region</th>\n",
       "      <th>Cases</th>\n",
       "      <th>Deaths</th>\n",
       "      <th>PCases</th>\n",
       "      <th>PDeaths</th>\n",
       "      <th>Cases (+)</th>\n",
       "      <th>Deaths (+)</th>\n",
       "      <th>Fatality Rate</th>\n",
       "      <th>Continent</th>\n",
       "    </tr>\n",
       "  </thead>\n",
       "  <tbody>\n",
       "    <tr>\n",
       "      <th>0</th>\n",
       "      <td>US</td>\n",
       "      <td>85329656</td>\n",
       "      <td>1010805</td>\n",
       "      <td>85214036</td>\n",
       "      <td>1010520</td>\n",
       "      <td>115620</td>\n",
       "      <td>285</td>\n",
       "      <td>1.2</td>\n",
       "      <td>North America</td>\n",
       "    </tr>\n",
       "    <tr>\n",
       "      <th>1</th>\n",
       "      <td>India</td>\n",
       "      <td>43205106</td>\n",
       "      <td>524747</td>\n",
       "      <td>43197522</td>\n",
       "      <td>524723</td>\n",
       "      <td>7584</td>\n",
       "      <td>24</td>\n",
       "      <td>1.2</td>\n",
       "      <td>Asia</td>\n",
       "    </tr>\n",
       "    <tr>\n",
       "      <th>2</th>\n",
       "      <td>Brazil</td>\n",
       "      <td>31360850</td>\n",
       "      <td>667790</td>\n",
       "      <td>31315777</td>\n",
       "      <td>667647</td>\n",
       "      <td>45073</td>\n",
       "      <td>143</td>\n",
       "      <td>2.1</td>\n",
       "      <td>South America</td>\n",
       "    </tr>\n",
       "    <tr>\n",
       "      <th>3</th>\n",
       "      <td>France</td>\n",
       "      <td>29946603</td>\n",
       "      <td>149749</td>\n",
       "      <td>29906452</td>\n",
       "      <td>149707</td>\n",
       "      <td>40151</td>\n",
       "      <td>42</td>\n",
       "      <td>0.5</td>\n",
       "      <td>Europe</td>\n",
       "    </tr>\n",
       "    <tr>\n",
       "      <th>4</th>\n",
       "      <td>Germany</td>\n",
       "      <td>26738530</td>\n",
       "      <td>139729</td>\n",
       "      <td>26660652</td>\n",
       "      <td>139623</td>\n",
       "      <td>77878</td>\n",
       "      <td>106</td>\n",
       "      <td>0.5</td>\n",
       "      <td>Europe</td>\n",
       "    </tr>\n",
       "  </tbody>\n",
       "</table>\n",
       "</div>"
      ],
      "text/plain": [
       "  Country/Region     Cases   Deaths    PCases  PDeaths  Cases (+)  Deaths (+)  \\\n",
       "0             US  85329656  1010805  85214036  1010520     115620         285   \n",
       "1          India  43205106   524747  43197522   524723       7584          24   \n",
       "2         Brazil  31360850   667790  31315777   667647      45073         143   \n",
       "3         France  29946603   149749  29906452   149707      40151          42   \n",
       "4        Germany  26738530   139729  26660652   139623      77878         106   \n",
       "\n",
       "   Fatality Rate      Continent  \n",
       "0            1.2  North America  \n",
       "1            1.2           Asia  \n",
       "2            2.1  South America  \n",
       "3            0.5         Europe  \n",
       "4            0.5         Europe  "
      ]
     },
     "execution_count": 15,
     "metadata": {},
     "output_type": "execute_result"
    }
   ],
   "source": [
    "#hide\n",
    "df_table = (pd.DataFrame(dict(Cases=dfc_cases, Deaths=dfc_deaths, PCases=dfp_cases, PDeaths=dfp_deaths))\n",
    "             .sort_values(by=['Cases', 'Deaths'], ascending=[False, False])\n",
    "             .reset_index())\n",
    "df_table.rename(columns={'index': 'Country/Region'}, inplace=True)\n",
    "for c in 'Cases, Deaths'.split(', '):\n",
    "    df_table[f'{c} (+)'] = (df_table[c] - df_table[f'P{c}']).clip(0)  # DATA BUG\n",
    "df_table['Fatality Rate'] = (100 * df_table['Deaths'] / df_table['Cases']).round(1)\n",
    "df_table['Continent'] = df_table['Country/Region'].map(mapping['map.continent'])\n",
    "df_table.head(5)"
   ]
  },
  {
   "cell_type": "code",
   "execution_count": 16,
   "id": "fewer-occasion",
   "metadata": {
    "execution": {
     "iopub.execute_input": "2022-06-10T12:16:44.956552Z",
     "iopub.status.busy": "2022-06-10T12:16:44.955589Z",
     "iopub.status.idle": "2022-06-10T12:16:44.959325Z",
     "shell.execute_reply": "2022-06-10T12:16:44.959957Z"
    },
    "papermill": {
     "duration": 0.055663,
     "end_time": "2022-06-10T12:16:44.960124",
     "exception": false,
     "start_time": "2022-06-10T12:16:44.904461",
     "status": "completed"
    },
    "tags": []
   },
   "outputs": [],
   "source": [
    "#hide\n",
    "#delete problematic countries from table\n",
    "df_table = df_table[~df_table['Country/Region'].isin(['Cape Verde', 'Cruise Ship', 'Kosovo'])]"
   ]
  },
  {
   "cell_type": "code",
   "execution_count": 17,
   "id": "related-center",
   "metadata": {
    "execution": {
     "iopub.execute_input": "2022-06-10T12:16:45.085137Z",
     "iopub.status.busy": "2022-06-10T12:16:45.084252Z",
     "iopub.status.idle": "2022-06-10T12:16:45.093685Z",
     "shell.execute_reply": "2022-06-10T12:16:45.092914Z"
    },
    "papermill": {
     "duration": 0.086333,
     "end_time": "2022-06-10T12:16:45.093845",
     "exception": false,
     "start_time": "2022-06-10T12:16:45.007512",
     "status": "completed"
    },
    "tags": []
   },
   "outputs": [],
   "source": [
    "#hide\n",
    "metrics = [df_table.columns[index] for index in [1,2,5,6]]\n",
    "# s_china = df_table[df_table['Country/Region'].eq('China')][metrics].sum().add_prefix('China ')\n",
    "s_us = df_table[df_table['Country/Region'].eq('US')][metrics].sum().add_prefix('US ')\n",
    "s_eu = df_table[df_table['Continent'].eq('Europe')][metrics].sum().add_prefix('EU ')\n",
    "s_ind = df_table[df_table['Country/Region'].eq('India')][metrics].sum().add_prefix('India ')\n",
    "summary = {'updated': pd.to_datetime(dt_today), 'since': pd.to_datetime(dt_yday)}\n",
    "summary = {'updated': pd.to_datetime(dt_today), 'since': pd.to_datetime(dt_yday)}\n",
    "summary = {**summary, **df_table[metrics].sum(), **s_ind, **s_us, **s_eu}"
   ]
  },
  {
   "cell_type": "code",
   "execution_count": 18,
   "id": "engaging-syndrome",
   "metadata": {
    "execution": {
     "iopub.execute_input": "2022-06-10T12:16:45.198640Z",
     "iopub.status.busy": "2022-06-10T12:16:45.197844Z",
     "iopub.status.idle": "2022-06-10T12:16:45.225653Z",
     "shell.execute_reply": "2022-06-10T12:16:45.224928Z"
    },
    "papermill": {
     "duration": 0.079213,
     "end_time": "2022-06-10T12:16:45.225813",
     "exception": false,
     "start_time": "2022-06-10T12:16:45.146600",
     "status": "completed"
    },
    "tags": []
   },
   "outputs": [],
   "source": [
    "#hide\n",
    "dft_ct_new_cases = dft_cases.groupby(COL_REGION)[dt_cols].sum().diff(axis=1).fillna(0).astype(int)"
   ]
  },
  {
   "cell_type": "code",
   "execution_count": 19,
   "id": "neutral-assignment",
   "metadata": {
    "execution": {
     "iopub.execute_input": "2022-06-10T12:16:45.324892Z",
     "iopub.status.busy": "2022-06-10T12:16:45.324117Z",
     "iopub.status.idle": "2022-06-10T12:16:45.332443Z",
     "shell.execute_reply": "2022-06-10T12:16:45.331806Z"
    },
    "papermill": {
     "duration": 0.062356,
     "end_time": "2022-06-10T12:16:45.332603",
     "exception": false,
     "start_time": "2022-06-10T12:16:45.270247",
     "status": "completed"
    },
    "tags": []
   },
   "outputs": [],
   "source": [
    "#hide\n",
    "everydaycases = dft_ct_new_cases.cumsum(axis=1)"
   ]
  },
  {
   "cell_type": "code",
   "execution_count": 20,
   "id": "parliamentary-calgary",
   "metadata": {
    "execution": {
     "iopub.execute_input": "2022-06-10T12:16:45.421598Z",
     "iopub.status.busy": "2022-06-10T12:16:45.420808Z",
     "iopub.status.idle": "2022-06-10T12:16:46.220084Z",
     "shell.execute_reply": "2022-06-10T12:16:46.220831Z"
    },
    "papermill": {
     "duration": 0.846465,
     "end_time": "2022-06-10T12:16:46.221019",
     "exception": false,
     "start_time": "2022-06-10T12:16:45.374554",
     "status": "completed"
    },
    "tags": []
   },
   "outputs": [],
   "source": [
    "#hide\n",
    "import pandas as pd\n",
    "import matplotlib.pyplot as plt\n",
    "import matplotlib.ticker as ticker\n",
    "import matplotlib.animation as animation\n",
    "from IPython.display import HTML"
   ]
  },
  {
   "cell_type": "code",
   "execution_count": 21,
   "id": "lasting-extraction",
   "metadata": {
    "execution": {
     "iopub.execute_input": "2022-06-10T12:16:46.332216Z",
     "iopub.status.busy": "2022-06-10T12:16:46.331276Z",
     "iopub.status.idle": "2022-06-10T12:16:46.342358Z",
     "shell.execute_reply": "2022-06-10T12:16:46.341573Z"
    },
    "papermill": {
     "duration": 0.066972,
     "end_time": "2022-06-10T12:16:46.342516",
     "exception": false,
     "start_time": "2022-06-10T12:16:46.275544",
     "status": "completed"
    },
    "tags": []
   },
   "outputs": [],
   "source": [
    "#hide\n",
    "t = everydaycases.stack()"
   ]
  },
  {
   "cell_type": "code",
   "execution_count": 22,
   "id": "premier-sleeve",
   "metadata": {
    "execution": {
     "iopub.execute_input": "2022-06-10T12:16:46.452321Z",
     "iopub.status.busy": "2022-06-10T12:16:46.451476Z",
     "iopub.status.idle": "2022-06-10T12:16:46.466819Z",
     "shell.execute_reply": "2022-06-10T12:16:46.466029Z"
    },
    "papermill": {
     "duration": 0.070067,
     "end_time": "2022-06-10T12:16:46.466985",
     "exception": false,
     "start_time": "2022-06-10T12:16:46.396918",
     "status": "completed"
    },
    "tags": []
   },
   "outputs": [],
   "source": [
    "#hide\n",
    "g = t.reset_index(['Country/Region'])"
   ]
  },
  {
   "cell_type": "code",
   "execution_count": 23,
   "id": "distributed-pittsburgh",
   "metadata": {
    "execution": {
     "iopub.execute_input": "2022-06-10T12:16:46.567130Z",
     "iopub.status.busy": "2022-06-10T12:16:46.566245Z",
     "iopub.status.idle": "2022-06-10T12:16:46.569740Z",
     "shell.execute_reply": "2022-06-10T12:16:46.569106Z"
    },
    "papermill": {
     "duration": 0.054239,
     "end_time": "2022-06-10T12:16:46.569872",
     "exception": false,
     "start_time": "2022-06-10T12:16:46.515633",
     "status": "completed"
    },
    "tags": []
   },
   "outputs": [],
   "source": [
    "#hide\n",
    "g.index.name = 'date'"
   ]
  },
  {
   "cell_type": "code",
   "execution_count": 24,
   "id": "naked-donor",
   "metadata": {
    "execution": {
     "iopub.execute_input": "2022-06-10T12:16:46.669714Z",
     "iopub.status.busy": "2022-06-10T12:16:46.668929Z",
     "iopub.status.idle": "2022-06-10T12:16:46.672334Z",
     "shell.execute_reply": "2022-06-10T12:16:46.671696Z"
    },
    "papermill": {
     "duration": 0.052085,
     "end_time": "2022-06-10T12:16:46.672473",
     "exception": false,
     "start_time": "2022-06-10T12:16:46.620388",
     "status": "completed"
    },
    "tags": []
   },
   "outputs": [],
   "source": [
    "# #hide\n",
    "# g = g.reset_index(['date'])"
   ]
  },
  {
   "cell_type": "code",
   "execution_count": 25,
   "id": "incomplete-mustang",
   "metadata": {
    "execution": {
     "iopub.execute_input": "2022-06-10T12:16:46.764730Z",
     "iopub.status.busy": "2022-06-10T12:16:46.763947Z",
     "iopub.status.idle": "2022-06-10T12:16:46.767218Z",
     "shell.execute_reply": "2022-06-10T12:16:46.766512Z"
    },
    "papermill": {
     "duration": 0.05131,
     "end_time": "2022-06-10T12:16:46.767364",
     "exception": false,
     "start_time": "2022-06-10T12:16:46.716054",
     "status": "completed"
    },
    "tags": []
   },
   "outputs": [],
   "source": [
    "#hide\n",
    "# g.head()"
   ]
  },
  {
   "cell_type": "code",
   "execution_count": 26,
   "id": "specific-kruger",
   "metadata": {
    "execution": {
     "iopub.execute_input": "2022-06-10T12:16:46.867733Z",
     "iopub.status.busy": "2022-06-10T12:16:46.866934Z",
     "iopub.status.idle": "2022-06-10T12:16:46.870081Z",
     "shell.execute_reply": "2022-06-10T12:16:46.870682Z"
    },
    "papermill": {
     "duration": 0.057381,
     "end_time": "2022-06-10T12:16:46.870929",
     "exception": false,
     "start_time": "2022-06-10T12:16:46.813548",
     "status": "completed"
    },
    "tags": []
   },
   "outputs": [],
   "source": [
    "#hide\n",
    "# g.columns = ['date','country','cases']"
   ]
  },
  {
   "cell_type": "code",
   "execution_count": 27,
   "id": "tender-conversion",
   "metadata": {
    "execution": {
     "iopub.execute_input": "2022-06-10T12:16:46.963917Z",
     "iopub.status.busy": "2022-06-10T12:16:46.963105Z",
     "iopub.status.idle": "2022-06-10T12:16:46.966087Z",
     "shell.execute_reply": "2022-06-10T12:16:46.965470Z"
    },
    "papermill": {
     "duration": 0.049383,
     "end_time": "2022-06-10T12:16:46.966323",
     "exception": false,
     "start_time": "2022-06-10T12:16:46.916940",
     "status": "completed"
    },
    "tags": []
   },
   "outputs": [],
   "source": [
    "#hide\n",
    "# g['continent'] = g.country"
   ]
  },
  {
   "cell_type": "code",
   "execution_count": 28,
   "id": "substantial-wilderness",
   "metadata": {
    "execution": {
     "iopub.execute_input": "2022-06-10T12:16:47.065637Z",
     "iopub.status.busy": "2022-06-10T12:16:47.064725Z",
     "iopub.status.idle": "2022-06-10T12:16:47.068282Z",
     "shell.execute_reply": "2022-06-10T12:16:47.067516Z"
    },
    "papermill": {
     "duration": 0.058853,
     "end_time": "2022-06-10T12:16:47.068427",
     "exception": false,
     "start_time": "2022-06-10T12:16:47.009574",
     "status": "completed"
    },
    "tags": []
   },
   "outputs": [],
   "source": [
    "#hide\n",
    "# cols = list(g.columns.values)"
   ]
  },
  {
   "cell_type": "code",
   "execution_count": 29,
   "id": "solved-farming",
   "metadata": {
    "execution": {
     "iopub.execute_input": "2022-06-10T12:16:47.160816Z",
     "iopub.status.busy": "2022-06-10T12:16:47.159729Z",
     "iopub.status.idle": "2022-06-10T12:16:47.163409Z",
     "shell.execute_reply": "2022-06-10T12:16:47.169135Z"
    },
    "papermill": {
     "duration": 0.054365,
     "end_time": "2022-06-10T12:16:47.169328",
     "exception": false,
     "start_time": "2022-06-10T12:16:47.114963",
     "status": "completed"
    },
    "tags": []
   },
   "outputs": [],
   "source": [
    "#hide\n",
    "# cols.insert(0, cols.pop())"
   ]
  },
  {
   "cell_type": "code",
   "execution_count": 30,
   "id": "executed-adoption",
   "metadata": {
    "execution": {
     "iopub.execute_input": "2022-06-10T12:16:47.263373Z",
     "iopub.status.busy": "2022-06-10T12:16:47.262536Z",
     "iopub.status.idle": "2022-06-10T12:16:47.266514Z",
     "shell.execute_reply": "2022-06-10T12:16:47.267178Z"
    },
    "papermill": {
     "duration": 0.051558,
     "end_time": "2022-06-10T12:16:47.267352",
     "exception": false,
     "start_time": "2022-06-10T12:16:47.215794",
     "status": "completed"
    },
    "tags": []
   },
   "outputs": [],
   "source": [
    "#hide\n",
    "# g = g[cols]"
   ]
  },
  {
   "cell_type": "code",
   "execution_count": 31,
   "id": "subject-dublin",
   "metadata": {
    "execution": {
     "iopub.execute_input": "2022-06-10T12:16:47.383414Z",
     "iopub.status.busy": "2022-06-10T12:16:47.382437Z",
     "iopub.status.idle": "2022-06-10T12:16:47.387020Z",
     "shell.execute_reply": "2022-06-10T12:16:47.386172Z"
    },
    "papermill": {
     "duration": 0.053351,
     "end_time": "2022-06-10T12:16:47.387175",
     "exception": false,
     "start_time": "2022-06-10T12:16:47.333824",
     "status": "completed"
    },
    "tags": []
   },
   "outputs": [],
   "source": [
    "#hide\n",
    "# g['continent'] = g['continent'].map(mapping['map.continent'])"
   ]
  },
  {
   "cell_type": "code",
   "execution_count": 32,
   "id": "freelance-scout",
   "metadata": {
    "execution": {
     "iopub.execute_input": "2022-06-10T12:16:47.479341Z",
     "iopub.status.busy": "2022-06-10T12:16:47.477773Z",
     "iopub.status.idle": "2022-06-10T12:16:47.481403Z",
     "shell.execute_reply": "2022-06-10T12:16:47.481985Z"
    },
    "papermill": {
     "duration": 0.051817,
     "end_time": "2022-06-10T12:16:47.482163",
     "exception": false,
     "start_time": "2022-06-10T12:16:47.430346",
     "status": "completed"
    },
    "tags": []
   },
   "outputs": [],
   "source": [
    "#hide\n",
    "# g.head()"
   ]
  },
  {
   "cell_type": "code",
   "execution_count": 33,
   "id": "limited-engine",
   "metadata": {
    "execution": {
     "iopub.execute_input": "2022-06-10T12:16:47.586142Z",
     "iopub.status.busy": "2022-06-10T12:16:47.584587Z",
     "iopub.status.idle": "2022-06-10T12:16:47.587640Z",
     "shell.execute_reply": "2022-06-10T12:16:47.588243Z"
    },
    "papermill": {
     "duration": 0.053037,
     "end_time": "2022-06-10T12:16:47.588409",
     "exception": false,
     "start_time": "2022-06-10T12:16:47.535372",
     "status": "completed"
    },
    "tags": []
   },
   "outputs": [],
   "source": [
    "# hide\n",
    "# g['date'] = g['date'].astype('datetime64[ns]')"
   ]
  },
  {
   "cell_type": "code",
   "execution_count": 34,
   "id": "sophisticated-supervisor",
   "metadata": {
    "execution": {
     "iopub.execute_input": "2022-06-10T12:16:47.684676Z",
     "iopub.status.busy": "2022-06-10T12:16:47.683716Z",
     "iopub.status.idle": "2022-06-10T12:16:47.687506Z",
     "shell.execute_reply": "2022-06-10T12:16:47.686791Z"
    },
    "papermill": {
     "duration": 0.055189,
     "end_time": "2022-06-10T12:16:47.687654",
     "exception": false,
     "start_time": "2022-06-10T12:16:47.632465",
     "status": "completed"
    },
    "tags": []
   },
   "outputs": [],
   "source": [
    "#hide\n",
    "# g['date'] = g.date.dt.dayofyear"
   ]
  },
  {
   "cell_type": "code",
   "execution_count": 35,
   "id": "inside-dubai",
   "metadata": {
    "execution": {
     "iopub.execute_input": "2022-06-10T12:16:47.790534Z",
     "iopub.status.busy": "2022-06-10T12:16:47.789741Z",
     "iopub.status.idle": "2022-06-10T12:16:47.794373Z",
     "shell.execute_reply": "2022-06-10T12:16:47.793462Z"
    },
    "papermill": {
     "duration": 0.055987,
     "end_time": "2022-06-10T12:16:47.794529",
     "exception": false,
     "start_time": "2022-06-10T12:16:47.738542",
     "status": "completed"
    },
    "tags": []
   },
   "outputs": [],
   "source": [
    "#hide\n",
    "# g = g.rename(columns= {'continent':'group','country':'name','cases':'value'})"
   ]
  },
  {
   "cell_type": "code",
   "execution_count": 36,
   "id": "fleet-motorcycle",
   "metadata": {
    "execution": {
     "iopub.execute_input": "2022-06-10T12:16:47.896695Z",
     "iopub.status.busy": "2022-06-10T12:16:47.895903Z",
     "iopub.status.idle": "2022-06-10T12:16:47.899031Z",
     "shell.execute_reply": "2022-06-10T12:16:47.898346Z"
    },
    "papermill": {
     "duration": 0.056155,
     "end_time": "2022-06-10T12:16:47.899184",
     "exception": false,
     "start_time": "2022-06-10T12:16:47.843029",
     "status": "completed"
    },
    "tags": []
   },
   "outputs": [],
   "source": [
    "#hide\n",
    "# cols = ['name','group','day','value']"
   ]
  },
  {
   "cell_type": "code",
   "execution_count": 37,
   "id": "continued-sleeping",
   "metadata": {
    "execution": {
     "iopub.execute_input": "2022-06-10T12:16:47.995485Z",
     "iopub.status.busy": "2022-06-10T12:16:47.994619Z",
     "iopub.status.idle": "2022-06-10T12:16:47.996746Z",
     "shell.execute_reply": "2022-06-10T12:16:47.997407Z"
    },
    "papermill": {
     "duration": 0.054089,
     "end_time": "2022-06-10T12:16:47.997589",
     "exception": false,
     "start_time": "2022-06-10T12:16:47.943500",
     "status": "completed"
    },
    "tags": []
   },
   "outputs": [],
   "source": [
    "#hide\n",
    "# g.rename(columns= {'date':'day'},inplace = True)"
   ]
  },
  {
   "cell_type": "code",
   "execution_count": 38,
   "id": "major-fight",
   "metadata": {
    "execution": {
     "iopub.execute_input": "2022-06-10T12:16:48.095438Z",
     "iopub.status.busy": "2022-06-10T12:16:48.094362Z",
     "iopub.status.idle": "2022-06-10T12:16:48.098172Z",
     "shell.execute_reply": "2022-06-10T12:16:48.097309Z"
    },
    "papermill": {
     "duration": 0.057692,
     "end_time": "2022-06-10T12:16:48.098319",
     "exception": false,
     "start_time": "2022-06-10T12:16:48.040627",
     "status": "completed"
    },
    "tags": []
   },
   "outputs": [],
   "source": [
    "#hide\n",
    "# g = g[cols]"
   ]
  },
  {
   "cell_type": "code",
   "execution_count": 39,
   "id": "structured-mobile",
   "metadata": {
    "execution": {
     "iopub.execute_input": "2022-06-10T12:16:48.195588Z",
     "iopub.status.busy": "2022-06-10T12:16:48.194805Z",
     "iopub.status.idle": "2022-06-10T12:16:48.199289Z",
     "shell.execute_reply": "2022-06-10T12:16:48.199999Z"
    },
    "papermill": {
     "duration": 0.055646,
     "end_time": "2022-06-10T12:16:48.200169",
     "exception": false,
     "start_time": "2022-06-10T12:16:48.144523",
     "status": "completed"
    },
    "tags": []
   },
   "outputs": [],
   "source": [
    "# #hide\n",
    "# g = g[g.group.notna()]"
   ]
  },
  {
   "cell_type": "code",
   "execution_count": 40,
   "id": "determined-closing",
   "metadata": {
    "execution": {
     "iopub.execute_input": "2022-06-10T12:16:48.298131Z",
     "iopub.status.busy": "2022-06-10T12:16:48.296166Z",
     "iopub.status.idle": "2022-06-10T12:16:48.299056Z",
     "shell.execute_reply": "2022-06-10T12:16:48.299625Z"
    },
    "papermill": {
     "duration": 0.052918,
     "end_time": "2022-06-10T12:16:48.299799",
     "exception": false,
     "start_time": "2022-06-10T12:16:48.246881",
     "status": "completed"
    },
    "tags": []
   },
   "outputs": [],
   "source": [
    "# #hide\n",
    "# colors = dict(zip(\n",
    "#     [\"Oceania\", \"Europe\", \"Asia\", \"South America\", \"Middle East\", \"North America\", \"Africa\"],\n",
    "#     [\"#adb0ff\", \"#ffb3ff\", \"#90d595\", \"#e48381\", \"#aafbff\", \"#f7bb5f\", \"#eafb50\"]\n",
    "# ))\n",
    "# group_lk = g.set_index('name')['group'].to_dict()"
   ]
  },
  {
   "cell_type": "code",
   "execution_count": null,
   "id": "gross-drinking",
   "metadata": {
    "papermill": {
     "duration": 0.04359,
     "end_time": "2022-06-10T12:16:48.388775",
     "exception": false,
     "start_time": "2022-06-10T12:16:48.345185",
     "status": "completed"
    },
    "tags": []
   },
   "outputs": [],
   "source": []
  },
  {
   "cell_type": "code",
   "execution_count": 41,
   "id": "subject-macintosh",
   "metadata": {
    "execution": {
     "iopub.execute_input": "2022-06-10T12:16:48.482022Z",
     "iopub.status.busy": "2022-06-10T12:16:48.481198Z",
     "iopub.status.idle": "2022-06-10T12:16:48.487097Z",
     "shell.execute_reply": "2022-06-10T12:16:48.486337Z"
    },
    "papermill": {
     "duration": 0.055186,
     "end_time": "2022-06-10T12:16:48.487252",
     "exception": false,
     "start_time": "2022-06-10T12:16:48.432066",
     "status": "completed"
    },
    "tags": []
   },
   "outputs": [],
   "source": [
    "# #hide\n",
    "# fig, ax = plt.subplots(figsize=(15, 8))\n",
    "\n",
    "# def draw_barchart(current_day):\n",
    "#     dff = g[g['day'].eq(current_day)].sort_values(by='value', ascending=True).tail(10)\n",
    "#     ax.clear()\n",
    "#     ax.barh(dff['name'], dff['value'], color=[colors[group_lk[x]] for x in dff['name']])\n",
    "#     dx = dff['value'].max() / 200\n",
    "    \n",
    "#     for i, (value, name) in enumerate(zip(dff['value'], dff['name'])):\n",
    "#         ax.text(value-dx, i,     name,           size=14, weight=600, ha='right', va='bottom')\n",
    "#         ax.text(value-dx, i-.25, group_lk[name], size=10, color='#444444', ha='right', va='baseline')\n",
    "#         ax.text(value+dx, i,     f'{value:,.0f}',  size=14, ha='left',  va='center')\n",
    "#     ax.text(1, 0.4, current_day, transform=ax.transAxes, color='#777777', size=46, ha='right', weight=800)\n",
    "#     ax.text(0, 1.06, 'Population (thousands)', transform=ax.transAxes, size=12, color='#777777')\n",
    "#     ax.xaxis.set_major_formatter(ticker.StrMethodFormatter('{x:,.0f}'))\n",
    "#     ax.xaxis.set_ticks_position('top')\n",
    "#     ax.tick_params(axis='x', colors='#777777', labelsize=12)\n",
    "#     ax.set_yticks([])\n",
    "#     ax.margins(0, 0.01)\n",
    "#     ax.grid(which='major', axis='x', linestyle='-')\n",
    "#     ax.set_axisbelow(True)\n",
    "    \n",
    "#     ax.text(0, 1.15, 'Coronavirus',\n",
    "#             transform=ax.transAxes, size=24, weight=600, ha='left', va='top')\n",
    "# #     ax.text(1, 0, 'by @pratapvardhan; credit @jburnmurdoch', transform=ax.transAxes, color='#777777', ha='right',\n",
    "# #             bbox=dict(facecolor='white', alpha=0.8, edgecolor='white'))\n",
    "#     plt.box(False)"
   ]
  },
  {
   "cell_type": "code",
   "execution_count": 42,
   "id": "sexual-wages",
   "metadata": {
    "execution": {
     "iopub.execute_input": "2022-06-10T12:16:48.583939Z",
     "iopub.status.busy": "2022-06-10T12:16:48.583141Z",
     "iopub.status.idle": "2022-06-10T12:16:48.586180Z",
     "shell.execute_reply": "2022-06-10T12:16:48.585554Z"
    },
    "papermill": {
     "duration": 0.054229,
     "end_time": "2022-06-10T12:16:48.586323",
     "exception": false,
     "start_time": "2022-06-10T12:16:48.532094",
     "status": "completed"
    },
    "tags": []
   },
   "outputs": [],
   "source": [
    "# #hide_input\n",
    "# fig, ax = plt.subplots(figsize=(15, 8))\n",
    "# animator = animation.FuncAnimation(fig, draw_barchart, frames=range(g.day.values.min(), g.day.values.max()))\n",
    "# HTML(animator.to_jshtml())\n",
    "# # or use animator.to_html5_video() or animator.save() "
   ]
  },
  {
   "cell_type": "code",
   "execution_count": null,
   "id": "australian-container",
   "metadata": {
    "papermill": {
     "duration": 0.047281,
     "end_time": "2022-06-10T12:16:48.680115",
     "exception": false,
     "start_time": "2022-06-10T12:16:48.632834",
     "status": "completed"
    },
    "tags": []
   },
   "outputs": [],
   "source": []
  },
  {
   "cell_type": "code",
   "execution_count": null,
   "id": "mediterranean-pontiac",
   "metadata": {
    "papermill": {
     "duration": 0.043464,
     "end_time": "2022-06-10T12:16:48.768619",
     "exception": false,
     "start_time": "2022-06-10T12:16:48.725155",
     "status": "completed"
    },
    "tags": []
   },
   "outputs": [],
   "source": []
  },
  {
   "cell_type": "code",
   "execution_count": null,
   "id": "aging-legislature",
   "metadata": {
    "papermill": {
     "duration": 0.044555,
     "end_time": "2022-06-10T12:16:48.860597",
     "exception": false,
     "start_time": "2022-06-10T12:16:48.816042",
     "status": "completed"
    },
    "tags": []
   },
   "outputs": [],
   "source": []
  }
 ],
 "metadata": {
  "kernelspec": {
   "display_name": "Python 3",
   "language": "python",
   "name": "python3"
  },
  "language_info": {
   "codemirror_mode": {
    "name": "ipython",
    "version": 3
   },
   "file_extension": ".py",
   "mimetype": "text/x-python",
   "name": "python",
   "nbconvert_exporter": "python",
   "pygments_lexer": "ipython3",
   "version": "3.6.15"
  },
  "papermill": {
   "duration": 8.418907,
   "end_time": "2022-06-10T12:16:49.328529",
   "environment_variables": {},
   "exception": null,
   "input_path": "2020-03-21-covid19exp.ipynb",
   "output_path": "2020-03-21-covid19exp.ipynb",
   "parameters": {},
   "start_time": "2022-06-10T12:16:40.909622",
   "version": "2.0.0"
  }
 },
 "nbformat": 4,
 "nbformat_minor": 5
}