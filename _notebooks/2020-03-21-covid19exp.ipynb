{
 "cells": [
  {
   "cell_type": "markdown",
   "id": "muslim-click",
   "metadata": {
    "papermill": {
     "duration": 0.044802,
     "end_time": "2021-08-23T00:21:14.373223",
     "exception": false,
     "start_time": "2021-08-23T00:21:14.328421",
     "status": "completed"
    },
    "tags": []
   },
   "source": [
    "# COVID-19 Case Race\n",
    "> A race chart to see rising cases around the world\n",
    "\n",
    "- author: Hargun Oberoi\n",
    "- image: images/covid-overview.png\n",
    "- hide: false\n",
    "- badges: false"
   ]
  },
  {
   "cell_type": "code",
   "execution_count": 1,
   "id": "proof-material",
   "metadata": {
    "execution": {
     "iopub.execute_input": "2021-08-23T00:21:14.461650Z",
     "iopub.status.busy": "2021-08-23T00:21:14.461032Z",
     "iopub.status.idle": "2021-08-23T00:21:14.828868Z",
     "shell.execute_reply": "2021-08-23T00:21:14.828318Z"
    },
    "papermill": {
     "duration": 0.417727,
     "end_time": "2021-08-23T00:21:14.829011",
     "exception": false,
     "start_time": "2021-08-23T00:21:14.411284",
     "status": "completed"
    },
    "tags": []
   },
   "outputs": [],
   "source": [
    "#hide\n",
    "import numpy as np\n",
    "import pandas as pd\n",
    "from jinja2 import Template\n",
    "from IPython.display import HTML"
   ]
  },
  {
   "cell_type": "code",
   "execution_count": 2,
   "id": "developed-terminology",
   "metadata": {
    "execution": {
     "iopub.execute_input": "2021-08-23T00:21:14.906409Z",
     "iopub.status.busy": "2021-08-23T00:21:14.905791Z",
     "iopub.status.idle": "2021-08-23T00:21:14.907637Z",
     "shell.execute_reply": "2021-08-23T00:21:14.908143Z"
    },
    "papermill": {
     "duration": 0.043642,
     "end_time": "2021-08-23T00:21:14.908282",
     "exception": false,
     "start_time": "2021-08-23T00:21:14.864640",
     "status": "completed"
    },
    "tags": []
   },
   "outputs": [],
   "source": [
    "#hide\n",
    "\n",
    "# FETCH\n",
    "base_url = 'https://raw.githubusercontent.com/pratapvardhan/notebooks/master/covid19/'\n",
    "paths = {\n",
    "    'mapping': base_url + 'mapping_countries.csv',\n",
    "    'overview': base_url + 'overview.tpl'\n",
    "}"
   ]
  },
  {
   "cell_type": "code",
   "execution_count": 3,
   "id": "dynamic-saver",
   "metadata": {
    "execution": {
     "iopub.execute_input": "2021-08-23T00:21:14.992616Z",
     "iopub.status.busy": "2021-08-23T00:21:14.991985Z",
     "iopub.status.idle": "2021-08-23T00:21:14.996690Z",
     "shell.execute_reply": "2021-08-23T00:21:14.995934Z"
    },
    "papermill": {
     "duration": 0.052247,
     "end_time": "2021-08-23T00:21:14.996885",
     "exception": false,
     "start_time": "2021-08-23T00:21:14.944638",
     "status": "completed"
    },
    "tags": []
   },
   "outputs": [
    {
     "data": {
      "text/plain": [
       "'https://raw.githubusercontent.com/pratapvardhan/notebooks/master/covid19/mapping_countries.csv'"
      ]
     },
     "execution_count": 3,
     "metadata": {},
     "output_type": "execute_result"
    }
   ],
   "source": [
    "#hide\n",
    "paths['mapping']"
   ]
  },
  {
   "cell_type": "code",
   "execution_count": 4,
   "id": "urban-software",
   "metadata": {
    "execution": {
     "iopub.execute_input": "2021-08-23T00:21:15.082258Z",
     "iopub.status.busy": "2021-08-23T00:21:15.081183Z",
     "iopub.status.idle": "2021-08-23T00:21:15.083582Z",
     "shell.execute_reply": "2021-08-23T00:21:15.084463Z"
    },
    "papermill": {
     "duration": 0.046164,
     "end_time": "2021-08-23T00:21:15.084698",
     "exception": false,
     "start_time": "2021-08-23T00:21:15.038534",
     "status": "completed"
    },
    "tags": []
   },
   "outputs": [],
   "source": [
    "#hide\n",
    "def get_mappings(url):\n",
    "    df = pd.read_csv(url)\n",
    "    return {\n",
    "        'df': df,\n",
    "        'replace.country': dict(df.dropna(subset=['Name']).set_index('Country')['Name']),\n",
    "        'map.continent': dict(df.set_index('Name')['Continent'])\n",
    "    }"
   ]
  },
  {
   "cell_type": "code",
   "execution_count": 5,
   "id": "intimate-machinery",
   "metadata": {
    "execution": {
     "iopub.execute_input": "2021-08-23T00:21:15.162529Z",
     "iopub.status.busy": "2021-08-23T00:21:15.161927Z",
     "iopub.status.idle": "2021-08-23T00:21:15.204512Z",
     "shell.execute_reply": "2021-08-23T00:21:15.203743Z"
    },
    "papermill": {
     "duration": 0.083926,
     "end_time": "2021-08-23T00:21:15.204705",
     "exception": false,
     "start_time": "2021-08-23T00:21:15.120779",
     "status": "completed"
    },
    "tags": []
   },
   "outputs": [],
   "source": [
    "#hide\n",
    "mapping = get_mappings(paths['mapping'])"
   ]
  },
  {
   "cell_type": "code",
   "execution_count": 6,
   "id": "certified-tactics",
   "metadata": {
    "execution": {
     "iopub.execute_input": "2021-08-23T00:21:15.282748Z",
     "iopub.status.busy": "2021-08-23T00:21:15.282150Z",
     "iopub.status.idle": "2021-08-23T00:21:15.284174Z",
     "shell.execute_reply": "2021-08-23T00:21:15.284684Z"
    },
    "papermill": {
     "duration": 0.042865,
     "end_time": "2021-08-23T00:21:15.284834",
     "exception": false,
     "start_time": "2021-08-23T00:21:15.241969",
     "status": "completed"
    },
    "tags": []
   },
   "outputs": [],
   "source": [
    "#hide\n",
    "def get_template(path):\n",
    "    from urllib.parse import urlparse\n",
    "    if bool(urlparse(path).netloc):\n",
    "        from urllib.request import urlopen\n",
    "        return urlopen(path).read().decode('utf8')\n",
    "    return open(path).read()"
   ]
  },
  {
   "cell_type": "code",
   "execution_count": 7,
   "id": "realistic-blast",
   "metadata": {
    "execution": {
     "iopub.execute_input": "2021-08-23T00:21:15.362307Z",
     "iopub.status.busy": "2021-08-23T00:21:15.361691Z",
     "iopub.status.idle": "2021-08-23T00:21:15.363157Z",
     "shell.execute_reply": "2021-08-23T00:21:15.363690Z"
    },
    "papermill": {
     "duration": 0.040811,
     "end_time": "2021-08-23T00:21:15.363835",
     "exception": false,
     "start_time": "2021-08-23T00:21:15.323024",
     "status": "completed"
    },
    "tags": []
   },
   "outputs": [],
   "source": [
    "#hide\n",
    "def get_frame(name):\n",
    "    url = (\n",
    "        'https://raw.githubusercontent.com/CSSEGISandData/COVID-19/master/csse_covid_19_data/'\n",
    "        f'csse_covid_19_time_series/time_series_covid19_{name}_global.csv')\n",
    "    df = pd.read_csv(url)\n",
    "    # rename countries\n",
    "    df['Country/Region'] = df['Country/Region'].replace(mapping['replace.country'])\n",
    "    return df"
   ]
  },
  {
   "cell_type": "code",
   "execution_count": 8,
   "id": "affiliated-characterization",
   "metadata": {
    "execution": {
     "iopub.execute_input": "2021-08-23T00:21:15.438832Z",
     "iopub.status.busy": "2021-08-23T00:21:15.438239Z",
     "iopub.status.idle": "2021-08-23T00:21:15.440470Z",
     "shell.execute_reply": "2021-08-23T00:21:15.440916Z"
    },
    "papermill": {
     "duration": 0.042998,
     "end_time": "2021-08-23T00:21:15.441062",
     "exception": false,
     "start_time": "2021-08-23T00:21:15.398064",
     "status": "completed"
    },
    "tags": []
   },
   "outputs": [],
   "source": [
    "#hide\n",
    "def get_dates(df):\n",
    "    dt_cols = df.columns[~df.columns.isin(['Province/State', 'Country/Region', 'Lat', 'Long'])]\n",
    "    LAST_DATE_I = -1\n",
    "    # sometimes last column may be empty, then go backwards\n",
    "    for i in range(-1, -len(dt_cols), -1):\n",
    "        if not df[dt_cols[i]].fillna(0).eq(0).all():\n",
    "            LAST_DATE_I = i\n",
    "            break\n",
    "    return LAST_DATE_I, dt_cols"
   ]
  },
  {
   "cell_type": "code",
   "execution_count": 9,
   "id": "recent-optimization",
   "metadata": {
    "execution": {
     "iopub.execute_input": "2021-08-23T00:21:15.514562Z",
     "iopub.status.busy": "2021-08-23T00:21:15.513926Z",
     "iopub.status.idle": "2021-08-23T00:21:15.891908Z",
     "shell.execute_reply": "2021-08-23T00:21:15.890226Z"
    },
    "papermill": {
     "duration": 0.417376,
     "end_time": "2021-08-23T00:21:15.892738",
     "exception": false,
     "start_time": "2021-08-23T00:21:15.475362",
     "status": "completed"
    },
    "tags": []
   },
   "outputs": [],
   "source": [
    "#hide\n",
    "COL_REGION = 'Country/Region'\n",
    "# Confirmed, Recovered, Deaths\n",
    "df = get_frame('confirmed')\n",
    "# dft_: timeseries, dfc_: today country agg\n",
    "dft_cases = df\n",
    "dft_deaths = get_frame('deaths')\n",
    "dft_recovered = get_frame('recovered')\n",
    "LAST_DATE_I, dt_cols = get_dates(df)"
   ]
  },
  {
   "cell_type": "code",
   "execution_count": 10,
   "id": "absolute-copper",
   "metadata": {
    "execution": {
     "iopub.execute_input": "2021-08-23T00:21:15.971923Z",
     "iopub.status.busy": "2021-08-23T00:21:15.970808Z",
     "iopub.status.idle": "2021-08-23T00:21:15.975078Z",
     "shell.execute_reply": "2021-08-23T00:21:15.974552Z"
    },
    "papermill": {
     "duration": 0.047093,
     "end_time": "2021-08-23T00:21:15.975205",
     "exception": false,
     "start_time": "2021-08-23T00:21:15.928112",
     "status": "completed"
    },
    "tags": []
   },
   "outputs": [],
   "source": [
    "#hide\n",
    "LAST_DATE_I, dt_cols = get_dates(df)\n",
    "dt_today =dt_cols[LAST_DATE_I]\n",
    "# dt_5day = dt_cols[LAST_DATE_I - 5]\n",
    "dt_yday = dt_cols[LAST_DATE_I - 1]"
   ]
  },
  {
   "cell_type": "code",
   "execution_count": 11,
   "id": "restricted-sheriff",
   "metadata": {
    "execution": {
     "iopub.execute_input": "2021-08-23T00:21:16.055311Z",
     "iopub.status.busy": "2021-08-23T00:21:16.054649Z",
     "iopub.status.idle": "2021-08-23T00:21:16.057355Z",
     "shell.execute_reply": "2021-08-23T00:21:16.056756Z"
    },
    "papermill": {
     "duration": 0.048412,
     "end_time": "2021-08-23T00:21:16.057485",
     "exception": false,
     "start_time": "2021-08-23T00:21:16.009073",
     "status": "completed"
    },
    "tags": []
   },
   "outputs": [],
   "source": [
    "#hide\n",
    "dfc_cases = dft_cases.groupby(COL_REGION)[dt_today].sum()\n",
    "dfc_deaths = dft_deaths.groupby(COL_REGION)[dt_today].sum()\n",
    "# dfp_cases = dft_cases.groupby(COL_REGION)[dt_5day].sum()\n",
    "# dfp_deaths = dft_deaths.groupby(COL_REGION)[dt_5day].sum()\n",
    "dfp_cases = dft_cases.groupby(COL_REGION)[dt_yday].sum()\n",
    "dfp_deaths = dft_deaths.groupby(COL_REGION)[dt_yday].sum()"
   ]
  },
  {
   "cell_type": "code",
   "execution_count": 12,
   "id": "deluxe-hepatitis",
   "metadata": {
    "execution": {
     "iopub.execute_input": "2021-08-23T00:21:16.132798Z",
     "iopub.status.busy": "2021-08-23T00:21:16.132190Z",
     "iopub.status.idle": "2021-08-23T00:21:16.135885Z",
     "shell.execute_reply": "2021-08-23T00:21:16.136445Z"
    },
    "papermill": {
     "duration": 0.04507,
     "end_time": "2021-08-23T00:21:16.136596",
     "exception": false,
     "start_time": "2021-08-23T00:21:16.091526",
     "status": "completed"
    },
    "tags": []
   },
   "outputs": [],
   "source": [
    "#hide\n",
    "df_table = (pd.DataFrame(dict(Cases = dfc_cases, Deaths = dfc_deaths, PCases = dfp_cases, PDeaths = dfp_deaths))\n",
    "            .sort_values(by = ['Cases','Deaths'], ascending = [False, False])\n",
    "            .reset_index())"
   ]
  },
  {
   "cell_type": "code",
   "execution_count": 13,
   "id": "educational-chancellor",
   "metadata": {
    "execution": {
     "iopub.execute_input": "2021-08-23T00:21:16.225686Z",
     "iopub.status.busy": "2021-08-23T00:21:16.225045Z",
     "iopub.status.idle": "2021-08-23T00:21:16.233468Z",
     "shell.execute_reply": "2021-08-23T00:21:16.232980Z"
    },
    "papermill": {
     "duration": 0.063278,
     "end_time": "2021-08-23T00:21:16.233600",
     "exception": false,
     "start_time": "2021-08-23T00:21:16.170322",
     "status": "completed"
    },
    "tags": []
   },
   "outputs": [
    {
     "data": {
      "text/html": [
       "<div>\n",
       "<style scoped>\n",
       "    .dataframe tbody tr th:only-of-type {\n",
       "        vertical-align: middle;\n",
       "    }\n",
       "\n",
       "    .dataframe tbody tr th {\n",
       "        vertical-align: top;\n",
       "    }\n",
       "\n",
       "    .dataframe thead th {\n",
       "        text-align: right;\n",
       "    }\n",
       "</style>\n",
       "<table border=\"1\" class=\"dataframe\">\n",
       "  <thead>\n",
       "    <tr style=\"text-align: right;\">\n",
       "      <th></th>\n",
       "      <th>Country/Region</th>\n",
       "      <th>Cases</th>\n",
       "      <th>Deaths</th>\n",
       "      <th>PCases</th>\n",
       "      <th>PDeaths</th>\n",
       "      <th>Cases (+)</th>\n",
       "      <th>Deaths (+)</th>\n",
       "      <th>Fatality Rate</th>\n",
       "      <th>Continent</th>\n",
       "    </tr>\n",
       "  </thead>\n",
       "  <tbody>\n",
       "    <tr>\n",
       "      <th>0</th>\n",
       "      <td>US</td>\n",
       "      <td>37673118</td>\n",
       "      <td>628303</td>\n",
       "      <td>37613597</td>\n",
       "      <td>627843</td>\n",
       "      <td>59521</td>\n",
       "      <td>460</td>\n",
       "      <td>1.67</td>\n",
       "      <td>North America</td>\n",
       "    </tr>\n",
       "    <tr>\n",
       "      <th>1</th>\n",
       "      <td>India</td>\n",
       "      <td>32424234</td>\n",
       "      <td>434367</td>\n",
       "      <td>32393286</td>\n",
       "      <td>433964</td>\n",
       "      <td>30948</td>\n",
       "      <td>403</td>\n",
       "      <td>1.34</td>\n",
       "      <td>Asia</td>\n",
       "    </tr>\n",
       "    <tr>\n",
       "      <th>2</th>\n",
       "      <td>Brazil</td>\n",
       "      <td>20556487</td>\n",
       "      <td>574209</td>\n",
       "      <td>20528099</td>\n",
       "      <td>573511</td>\n",
       "      <td>28388</td>\n",
       "      <td>698</td>\n",
       "      <td>2.79</td>\n",
       "      <td>South America</td>\n",
       "    </tr>\n",
       "    <tr>\n",
       "      <th>3</th>\n",
       "      <td>France</td>\n",
       "      <td>6682952</td>\n",
       "      <td>113472</td>\n",
       "      <td>6660315</td>\n",
       "      <td>113472</td>\n",
       "      <td>22637</td>\n",
       "      <td>0</td>\n",
       "      <td>1.70</td>\n",
       "      <td>Europe</td>\n",
       "    </tr>\n",
       "    <tr>\n",
       "      <th>4</th>\n",
       "      <td>Russia</td>\n",
       "      <td>6633521</td>\n",
       "      <td>172257</td>\n",
       "      <td>6613107</td>\n",
       "      <td>171480</td>\n",
       "      <td>20414</td>\n",
       "      <td>777</td>\n",
       "      <td>2.60</td>\n",
       "      <td>Europe</td>\n",
       "    </tr>\n",
       "  </tbody>\n",
       "</table>\n",
       "</div>"
      ],
      "text/plain": [
       "  Country/Region     Cases  Deaths    PCases  PDeaths  Cases (+)  Deaths (+)  \\\n",
       "0             US  37673118  628303  37613597   627843      59521         460   \n",
       "1          India  32424234  434367  32393286   433964      30948         403   \n",
       "2         Brazil  20556487  574209  20528099   573511      28388         698   \n",
       "3         France   6682952  113472   6660315   113472      22637           0   \n",
       "4         Russia   6633521  172257   6613107   171480      20414         777   \n",
       "\n",
       "   Fatality Rate      Continent  \n",
       "0           1.67  North America  \n",
       "1           1.34           Asia  \n",
       "2           2.79  South America  \n",
       "3           1.70         Europe  \n",
       "4           2.60         Europe  "
      ]
     },
     "execution_count": 13,
     "metadata": {},
     "output_type": "execute_result"
    }
   ],
   "source": [
    "#hide\n",
    "for c in 'Cases, Deaths'.split(', '):\n",
    "    df_table[f'{c} (+)'] = (df_table[c] - df_table[f'P{c}']).clip(0)\n",
    "    #Clip ça veut dire, les chiffres negatif sont interdit\n",
    "df_table['Fatality Rate'] = (100* df_table['Deaths']/ df_table['Cases']).round(2)\n",
    "df_table['Continent'] = df_table['Country/Region'].map(mapping['map.continent'])\n",
    "df_table.head(5)"
   ]
  },
  {
   "cell_type": "code",
   "execution_count": 14,
   "id": "aboriginal-bulgaria",
   "metadata": {
    "execution": {
     "iopub.execute_input": "2021-08-23T00:21:16.309523Z",
     "iopub.status.busy": "2021-08-23T00:21:16.308888Z",
     "iopub.status.idle": "2021-08-23T00:21:16.313328Z",
     "shell.execute_reply": "2021-08-23T00:21:16.312810Z"
    },
    "papermill": {
     "duration": 0.045432,
     "end_time": "2021-08-23T00:21:16.313464",
     "exception": false,
     "start_time": "2021-08-23T00:21:16.268032",
     "status": "completed"
    },
    "tags": []
   },
   "outputs": [],
   "source": [
    "#hide\n",
    "#delete problematic countries from table\n",
    "df_table = df_table[~df_table['Country/Region'].isin(['Cape Verde', 'Cruise Ship', 'Kosovo'])]"
   ]
  },
  {
   "cell_type": "code",
   "execution_count": 15,
   "id": "fantastic-effect",
   "metadata": {
    "execution": {
     "iopub.execute_input": "2021-08-23T00:21:16.394485Z",
     "iopub.status.busy": "2021-08-23T00:21:16.390919Z",
     "iopub.status.idle": "2021-08-23T00:21:16.415085Z",
     "shell.execute_reply": "2021-08-23T00:21:16.415781Z"
    },
    "papermill": {
     "duration": 0.068139,
     "end_time": "2021-08-23T00:21:16.415984",
     "exception": false,
     "start_time": "2021-08-23T00:21:16.347845",
     "status": "completed"
    },
    "tags": []
   },
   "outputs": [
    {
     "data": {
      "text/html": [
       "<div>\n",
       "<style scoped>\n",
       "    .dataframe tbody tr th:only-of-type {\n",
       "        vertical-align: middle;\n",
       "    }\n",
       "\n",
       "    .dataframe tbody tr th {\n",
       "        vertical-align: top;\n",
       "    }\n",
       "\n",
       "    .dataframe thead th {\n",
       "        text-align: right;\n",
       "    }\n",
       "</style>\n",
       "<table border=\"1\" class=\"dataframe\">\n",
       "  <thead>\n",
       "    <tr style=\"text-align: right;\">\n",
       "      <th></th>\n",
       "      <th>Country/Region</th>\n",
       "      <th>Cases</th>\n",
       "      <th>Deaths</th>\n",
       "      <th>PCases</th>\n",
       "      <th>PDeaths</th>\n",
       "      <th>Cases (+)</th>\n",
       "      <th>Deaths (+)</th>\n",
       "      <th>Fatality Rate</th>\n",
       "      <th>Continent</th>\n",
       "    </tr>\n",
       "  </thead>\n",
       "  <tbody>\n",
       "    <tr>\n",
       "      <th>0</th>\n",
       "      <td>US</td>\n",
       "      <td>37673118</td>\n",
       "      <td>628303</td>\n",
       "      <td>37613597</td>\n",
       "      <td>627843</td>\n",
       "      <td>59521</td>\n",
       "      <td>460</td>\n",
       "      <td>1.7</td>\n",
       "      <td>North America</td>\n",
       "    </tr>\n",
       "    <tr>\n",
       "      <th>1</th>\n",
       "      <td>India</td>\n",
       "      <td>32424234</td>\n",
       "      <td>434367</td>\n",
       "      <td>32393286</td>\n",
       "      <td>433964</td>\n",
       "      <td>30948</td>\n",
       "      <td>403</td>\n",
       "      <td>1.3</td>\n",
       "      <td>Asia</td>\n",
       "    </tr>\n",
       "    <tr>\n",
       "      <th>2</th>\n",
       "      <td>Brazil</td>\n",
       "      <td>20556487</td>\n",
       "      <td>574209</td>\n",
       "      <td>20528099</td>\n",
       "      <td>573511</td>\n",
       "      <td>28388</td>\n",
       "      <td>698</td>\n",
       "      <td>2.8</td>\n",
       "      <td>South America</td>\n",
       "    </tr>\n",
       "    <tr>\n",
       "      <th>3</th>\n",
       "      <td>France</td>\n",
       "      <td>6682952</td>\n",
       "      <td>113472</td>\n",
       "      <td>6660315</td>\n",
       "      <td>113472</td>\n",
       "      <td>22637</td>\n",
       "      <td>0</td>\n",
       "      <td>1.7</td>\n",
       "      <td>Europe</td>\n",
       "    </tr>\n",
       "    <tr>\n",
       "      <th>4</th>\n",
       "      <td>Russia</td>\n",
       "      <td>6633521</td>\n",
       "      <td>172257</td>\n",
       "      <td>6613107</td>\n",
       "      <td>171480</td>\n",
       "      <td>20414</td>\n",
       "      <td>777</td>\n",
       "      <td>2.6</td>\n",
       "      <td>Europe</td>\n",
       "    </tr>\n",
       "  </tbody>\n",
       "</table>\n",
       "</div>"
      ],
      "text/plain": [
       "  Country/Region     Cases  Deaths    PCases  PDeaths  Cases (+)  Deaths (+)  \\\n",
       "0             US  37673118  628303  37613597   627843      59521         460   \n",
       "1          India  32424234  434367  32393286   433964      30948         403   \n",
       "2         Brazil  20556487  574209  20528099   573511      28388         698   \n",
       "3         France   6682952  113472   6660315   113472      22637           0   \n",
       "4         Russia   6633521  172257   6613107   171480      20414         777   \n",
       "\n",
       "   Fatality Rate      Continent  \n",
       "0            1.7  North America  \n",
       "1            1.3           Asia  \n",
       "2            2.8  South America  \n",
       "3            1.7         Europe  \n",
       "4            2.6         Europe  "
      ]
     },
     "execution_count": 15,
     "metadata": {},
     "output_type": "execute_result"
    }
   ],
   "source": [
    "#hide\n",
    "df_table = (pd.DataFrame(dict(Cases=dfc_cases, Deaths=dfc_deaths, PCases=dfp_cases, PDeaths=dfp_deaths))\n",
    "             .sort_values(by=['Cases', 'Deaths'], ascending=[False, False])\n",
    "             .reset_index())\n",
    "df_table.rename(columns={'index': 'Country/Region'}, inplace=True)\n",
    "for c in 'Cases, Deaths'.split(', '):\n",
    "    df_table[f'{c} (+)'] = (df_table[c] - df_table[f'P{c}']).clip(0)  # DATA BUG\n",
    "df_table['Fatality Rate'] = (100 * df_table['Deaths'] / df_table['Cases']).round(1)\n",
    "df_table['Continent'] = df_table['Country/Region'].map(mapping['map.continent'])\n",
    "df_table.head(5)"
   ]
  },
  {
   "cell_type": "code",
   "execution_count": 16,
   "id": "fewer-occasion",
   "metadata": {
    "execution": {
     "iopub.execute_input": "2021-08-23T00:21:16.493799Z",
     "iopub.status.busy": "2021-08-23T00:21:16.493170Z",
     "iopub.status.idle": "2021-08-23T00:21:16.494642Z",
     "shell.execute_reply": "2021-08-23T00:21:16.495189Z"
    },
    "papermill": {
     "duration": 0.043138,
     "end_time": "2021-08-23T00:21:16.495340",
     "exception": false,
     "start_time": "2021-08-23T00:21:16.452202",
     "status": "completed"
    },
    "tags": []
   },
   "outputs": [],
   "source": [
    "#hide\n",
    "#delete problematic countries from table\n",
    "df_table = df_table[~df_table['Country/Region'].isin(['Cape Verde', 'Cruise Ship', 'Kosovo'])]"
   ]
  },
  {
   "cell_type": "code",
   "execution_count": 17,
   "id": "related-center",
   "metadata": {
    "execution": {
     "iopub.execute_input": "2021-08-23T00:21:16.574217Z",
     "iopub.status.busy": "2021-08-23T00:21:16.573592Z",
     "iopub.status.idle": "2021-08-23T00:21:16.589859Z",
     "shell.execute_reply": "2021-08-23T00:21:16.589334Z"
    },
    "papermill": {
     "duration": 0.059877,
     "end_time": "2021-08-23T00:21:16.589991",
     "exception": false,
     "start_time": "2021-08-23T00:21:16.530114",
     "status": "completed"
    },
    "tags": []
   },
   "outputs": [],
   "source": [
    "#hide\n",
    "metrics = [df_table.columns[index] for index in [1,2,5,6]]\n",
    "# s_china = df_table[df_table['Country/Region'].eq('China')][metrics].sum().add_prefix('China ')\n",
    "s_us = df_table[df_table['Country/Region'].eq('US')][metrics].sum().add_prefix('US ')\n",
    "s_eu = df_table[df_table['Continent'].eq('Europe')][metrics].sum().add_prefix('EU ')\n",
    "s_ind = df_table[df_table['Country/Region'].eq('India')][metrics].sum().add_prefix('India ')\n",
    "summary = {'updated': pd.to_datetime(dt_today), 'since': pd.to_datetime(dt_yday)}\n",
    "summary = {'updated': pd.to_datetime(dt_today), 'since': pd.to_datetime(dt_yday)}\n",
    "summary = {**summary, **df_table[metrics].sum(), **s_ind, **s_us, **s_eu}"
   ]
  },
  {
   "cell_type": "code",
   "execution_count": 18,
   "id": "engaging-syndrome",
   "metadata": {
    "execution": {
     "iopub.execute_input": "2021-08-23T00:21:16.667636Z",
     "iopub.status.busy": "2021-08-23T00:21:16.666999Z",
     "iopub.status.idle": "2021-08-23T00:21:16.681975Z",
     "shell.execute_reply": "2021-08-23T00:21:16.682457Z"
    },
    "papermill": {
     "duration": 0.057614,
     "end_time": "2021-08-23T00:21:16.682613",
     "exception": false,
     "start_time": "2021-08-23T00:21:16.624999",
     "status": "completed"
    },
    "tags": []
   },
   "outputs": [],
   "source": [
    "#hide\n",
    "dft_ct_new_cases = dft_cases.groupby(COL_REGION)[dt_cols].sum().diff(axis=1).fillna(0).astype(int)"
   ]
  },
  {
   "cell_type": "code",
   "execution_count": 19,
   "id": "neutral-assignment",
   "metadata": {
    "execution": {
     "iopub.execute_input": "2021-08-23T00:21:16.760450Z",
     "iopub.status.busy": "2021-08-23T00:21:16.759824Z",
     "iopub.status.idle": "2021-08-23T00:21:16.761565Z",
     "shell.execute_reply": "2021-08-23T00:21:16.762042Z"
    },
    "papermill": {
     "duration": 0.044603,
     "end_time": "2021-08-23T00:21:16.762189",
     "exception": false,
     "start_time": "2021-08-23T00:21:16.717586",
     "status": "completed"
    },
    "tags": []
   },
   "outputs": [],
   "source": [
    "#hide\n",
    "everydaycases = dft_ct_new_cases.cumsum(axis=1)"
   ]
  },
  {
   "cell_type": "code",
   "execution_count": 20,
   "id": "parliamentary-calgary",
   "metadata": {
    "execution": {
     "iopub.execute_input": "2021-08-23T00:21:16.838301Z",
     "iopub.status.busy": "2021-08-23T00:21:16.837686Z",
     "iopub.status.idle": "2021-08-23T00:21:17.509157Z",
     "shell.execute_reply": "2021-08-23T00:21:17.508234Z"
    },
    "papermill": {
     "duration": 0.711969,
     "end_time": "2021-08-23T00:21:17.509298",
     "exception": false,
     "start_time": "2021-08-23T00:21:16.797329",
     "status": "completed"
    },
    "tags": []
   },
   "outputs": [],
   "source": [
    "#hide\n",
    "import pandas as pd\n",
    "import matplotlib.pyplot as plt\n",
    "import matplotlib.ticker as ticker\n",
    "import matplotlib.animation as animation\n",
    "from IPython.display import HTML"
   ]
  },
  {
   "cell_type": "code",
   "execution_count": 21,
   "id": "lasting-extraction",
   "metadata": {
    "execution": {
     "iopub.execute_input": "2021-08-23T00:21:17.585589Z",
     "iopub.status.busy": "2021-08-23T00:21:17.584997Z",
     "iopub.status.idle": "2021-08-23T00:21:17.590571Z",
     "shell.execute_reply": "2021-08-23T00:21:17.591123Z"
    },
    "papermill": {
     "duration": 0.046949,
     "end_time": "2021-08-23T00:21:17.591275",
     "exception": false,
     "start_time": "2021-08-23T00:21:17.544326",
     "status": "completed"
    },
    "tags": []
   },
   "outputs": [],
   "source": [
    "#hide\n",
    "t = everydaycases.stack()"
   ]
  },
  {
   "cell_type": "code",
   "execution_count": 22,
   "id": "premier-sleeve",
   "metadata": {
    "execution": {
     "iopub.execute_input": "2021-08-23T00:21:17.666847Z",
     "iopub.status.busy": "2021-08-23T00:21:17.666218Z",
     "iopub.status.idle": "2021-08-23T00:21:17.676964Z",
     "shell.execute_reply": "2021-08-23T00:21:17.676417Z"
    },
    "papermill": {
     "duration": 0.050581,
     "end_time": "2021-08-23T00:21:17.677094",
     "exception": false,
     "start_time": "2021-08-23T00:21:17.626513",
     "status": "completed"
    },
    "tags": []
   },
   "outputs": [],
   "source": [
    "#hide\n",
    "g = t.reset_index(['Country/Region'])"
   ]
  },
  {
   "cell_type": "code",
   "execution_count": 23,
   "id": "distributed-pittsburgh",
   "metadata": {
    "execution": {
     "iopub.execute_input": "2021-08-23T00:21:17.752763Z",
     "iopub.status.busy": "2021-08-23T00:21:17.752153Z",
     "iopub.status.idle": "2021-08-23T00:21:17.753915Z",
     "shell.execute_reply": "2021-08-23T00:21:17.754385Z"
    },
    "papermill": {
     "duration": 0.042541,
     "end_time": "2021-08-23T00:21:17.754531",
     "exception": false,
     "start_time": "2021-08-23T00:21:17.711990",
     "status": "completed"
    },
    "tags": []
   },
   "outputs": [],
   "source": [
    "#hide\n",
    "g.index.name = 'date'"
   ]
  },
  {
   "cell_type": "code",
   "execution_count": 24,
   "id": "naked-donor",
   "metadata": {
    "execution": {
     "iopub.execute_input": "2021-08-23T00:21:17.829575Z",
     "iopub.status.busy": "2021-08-23T00:21:17.828968Z",
     "iopub.status.idle": "2021-08-23T00:21:17.832804Z",
     "shell.execute_reply": "2021-08-23T00:21:17.833259Z"
    },
    "papermill": {
     "duration": 0.044017,
     "end_time": "2021-08-23T00:21:17.833411",
     "exception": false,
     "start_time": "2021-08-23T00:21:17.789394",
     "status": "completed"
    },
    "tags": []
   },
   "outputs": [],
   "source": [
    "# #hide\n",
    "# g = g.reset_index(['date'])"
   ]
  },
  {
   "cell_type": "code",
   "execution_count": 25,
   "id": "incomplete-mustang",
   "metadata": {
    "execution": {
     "iopub.execute_input": "2021-08-23T00:21:17.907524Z",
     "iopub.status.busy": "2021-08-23T00:21:17.906860Z",
     "iopub.status.idle": "2021-08-23T00:21:17.909450Z",
     "shell.execute_reply": "2021-08-23T00:21:17.909905Z"
    },
    "papermill": {
     "duration": 0.041739,
     "end_time": "2021-08-23T00:21:17.910057",
     "exception": false,
     "start_time": "2021-08-23T00:21:17.868318",
     "status": "completed"
    },
    "tags": []
   },
   "outputs": [],
   "source": [
    "#hide\n",
    "# g.head()"
   ]
  },
  {
   "cell_type": "code",
   "execution_count": 26,
   "id": "specific-kruger",
   "metadata": {
    "execution": {
     "iopub.execute_input": "2021-08-23T00:21:17.984862Z",
     "iopub.status.busy": "2021-08-23T00:21:17.984250Z",
     "iopub.status.idle": "2021-08-23T00:21:17.985959Z",
     "shell.execute_reply": "2021-08-23T00:21:17.986519Z"
    },
    "papermill": {
     "duration": 0.041487,
     "end_time": "2021-08-23T00:21:17.986665",
     "exception": false,
     "start_time": "2021-08-23T00:21:17.945178",
     "status": "completed"
    },
    "tags": []
   },
   "outputs": [],
   "source": [
    "#hide\n",
    "# g.columns = ['date','country','cases']"
   ]
  },
  {
   "cell_type": "code",
   "execution_count": 27,
   "id": "tender-conversion",
   "metadata": {
    "execution": {
     "iopub.execute_input": "2021-08-23T00:21:18.061393Z",
     "iopub.status.busy": "2021-08-23T00:21:18.060789Z",
     "iopub.status.idle": "2021-08-23T00:21:18.063142Z",
     "shell.execute_reply": "2021-08-23T00:21:18.063748Z"
    },
    "papermill": {
     "duration": 0.042372,
     "end_time": "2021-08-23T00:21:18.063900",
     "exception": false,
     "start_time": "2021-08-23T00:21:18.021528",
     "status": "completed"
    },
    "tags": []
   },
   "outputs": [],
   "source": [
    "#hide\n",
    "# g['continent'] = g.country"
   ]
  },
  {
   "cell_type": "code",
   "execution_count": 28,
   "id": "substantial-wilderness",
   "metadata": {
    "execution": {
     "iopub.execute_input": "2021-08-23T00:21:18.141447Z",
     "iopub.status.busy": "2021-08-23T00:21:18.140439Z",
     "iopub.status.idle": "2021-08-23T00:21:18.142823Z",
     "shell.execute_reply": "2021-08-23T00:21:18.142095Z"
    },
    "papermill": {
     "duration": 0.044133,
     "end_time": "2021-08-23T00:21:18.143061",
     "exception": false,
     "start_time": "2021-08-23T00:21:18.098928",
     "status": "completed"
    },
    "tags": []
   },
   "outputs": [],
   "source": [
    "#hide\n",
    "# cols = list(g.columns.values)"
   ]
  },
  {
   "cell_type": "code",
   "execution_count": 29,
   "id": "solved-farming",
   "metadata": {
    "execution": {
     "iopub.execute_input": "2021-08-23T00:21:18.221370Z",
     "iopub.status.busy": "2021-08-23T00:21:18.220760Z",
     "iopub.status.idle": "2021-08-23T00:21:18.222527Z",
     "shell.execute_reply": "2021-08-23T00:21:18.222981Z"
    },
    "papermill": {
     "duration": 0.040907,
     "end_time": "2021-08-23T00:21:18.223134",
     "exception": false,
     "start_time": "2021-08-23T00:21:18.182227",
     "status": "completed"
    },
    "tags": []
   },
   "outputs": [],
   "source": [
    "#hide\n",
    "# cols.insert(0, cols.pop())"
   ]
  },
  {
   "cell_type": "code",
   "execution_count": 30,
   "id": "executed-adoption",
   "metadata": {
    "execution": {
     "iopub.execute_input": "2021-08-23T00:21:18.298529Z",
     "iopub.status.busy": "2021-08-23T00:21:18.297908Z",
     "iopub.status.idle": "2021-08-23T00:21:18.300523Z",
     "shell.execute_reply": "2021-08-23T00:21:18.301002Z"
    },
    "papermill": {
     "duration": 0.042997,
     "end_time": "2021-08-23T00:21:18.301149",
     "exception": false,
     "start_time": "2021-08-23T00:21:18.258152",
     "status": "completed"
    },
    "tags": []
   },
   "outputs": [],
   "source": [
    "#hide\n",
    "# g = g[cols]"
   ]
  },
  {
   "cell_type": "code",
   "execution_count": 31,
   "id": "subject-dublin",
   "metadata": {
    "execution": {
     "iopub.execute_input": "2021-08-23T00:21:18.375679Z",
     "iopub.status.busy": "2021-08-23T00:21:18.375016Z",
     "iopub.status.idle": "2021-08-23T00:21:18.377398Z",
     "shell.execute_reply": "2021-08-23T00:21:18.377967Z"
    },
    "papermill": {
     "duration": 0.041989,
     "end_time": "2021-08-23T00:21:18.378118",
     "exception": false,
     "start_time": "2021-08-23T00:21:18.336129",
     "status": "completed"
    },
    "tags": []
   },
   "outputs": [],
   "source": [
    "#hide\n",
    "# g['continent'] = g['continent'].map(mapping['map.continent'])"
   ]
  },
  {
   "cell_type": "code",
   "execution_count": 32,
   "id": "freelance-scout",
   "metadata": {
    "execution": {
     "iopub.execute_input": "2021-08-23T00:21:18.452524Z",
     "iopub.status.busy": "2021-08-23T00:21:18.451910Z",
     "iopub.status.idle": "2021-08-23T00:21:18.454330Z",
     "shell.execute_reply": "2021-08-23T00:21:18.454818Z"
    },
    "papermill": {
     "duration": 0.041802,
     "end_time": "2021-08-23T00:21:18.454969",
     "exception": false,
     "start_time": "2021-08-23T00:21:18.413167",
     "status": "completed"
    },
    "tags": []
   },
   "outputs": [],
   "source": [
    "#hide\n",
    "# g.head()"
   ]
  },
  {
   "cell_type": "code",
   "execution_count": 33,
   "id": "limited-engine",
   "metadata": {
    "execution": {
     "iopub.execute_input": "2021-08-23T00:21:18.530087Z",
     "iopub.status.busy": "2021-08-23T00:21:18.529478Z",
     "iopub.status.idle": "2021-08-23T00:21:18.531995Z",
     "shell.execute_reply": "2021-08-23T00:21:18.532573Z"
    },
    "papermill": {
     "duration": 0.042846,
     "end_time": "2021-08-23T00:21:18.532723",
     "exception": false,
     "start_time": "2021-08-23T00:21:18.489877",
     "status": "completed"
    },
    "tags": []
   },
   "outputs": [],
   "source": [
    "# hide\n",
    "# g['date'] = g['date'].astype('datetime64[ns]')"
   ]
  },
  {
   "cell_type": "code",
   "execution_count": 34,
   "id": "sophisticated-supervisor",
   "metadata": {
    "execution": {
     "iopub.execute_input": "2021-08-23T00:21:18.607742Z",
     "iopub.status.busy": "2021-08-23T00:21:18.607109Z",
     "iopub.status.idle": "2021-08-23T00:21:18.608930Z",
     "shell.execute_reply": "2021-08-23T00:21:18.609378Z"
    },
    "papermill": {
     "duration": 0.041709,
     "end_time": "2021-08-23T00:21:18.609526",
     "exception": false,
     "start_time": "2021-08-23T00:21:18.567817",
     "status": "completed"
    },
    "tags": []
   },
   "outputs": [],
   "source": [
    "#hide\n",
    "# g['date'] = g.date.dt.dayofyear"
   ]
  },
  {
   "cell_type": "code",
   "execution_count": 35,
   "id": "inside-dubai",
   "metadata": {
    "execution": {
     "iopub.execute_input": "2021-08-23T00:21:18.683708Z",
     "iopub.status.busy": "2021-08-23T00:21:18.683075Z",
     "iopub.status.idle": "2021-08-23T00:21:18.685487Z",
     "shell.execute_reply": "2021-08-23T00:21:18.686061Z"
    },
    "papermill": {
     "duration": 0.041985,
     "end_time": "2021-08-23T00:21:18.686208",
     "exception": false,
     "start_time": "2021-08-23T00:21:18.644223",
     "status": "completed"
    },
    "tags": []
   },
   "outputs": [],
   "source": [
    "#hide\n",
    "# g = g.rename(columns= {'continent':'group','country':'name','cases':'value'})"
   ]
  },
  {
   "cell_type": "code",
   "execution_count": 36,
   "id": "fleet-motorcycle",
   "metadata": {
    "execution": {
     "iopub.execute_input": "2021-08-23T00:21:18.761320Z",
     "iopub.status.busy": "2021-08-23T00:21:18.760696Z",
     "iopub.status.idle": "2021-08-23T00:21:18.762924Z",
     "shell.execute_reply": "2021-08-23T00:21:18.762423Z"
    },
    "papermill": {
     "duration": 0.041924,
     "end_time": "2021-08-23T00:21:18.763050",
     "exception": false,
     "start_time": "2021-08-23T00:21:18.721126",
     "status": "completed"
    },
    "tags": []
   },
   "outputs": [],
   "source": [
    "#hide\n",
    "# cols = ['name','group','day','value']"
   ]
  },
  {
   "cell_type": "code",
   "execution_count": 37,
   "id": "continued-sleeping",
   "metadata": {
    "execution": {
     "iopub.execute_input": "2021-08-23T00:21:18.837936Z",
     "iopub.status.busy": "2021-08-23T00:21:18.837331Z",
     "iopub.status.idle": "2021-08-23T00:21:18.839870Z",
     "shell.execute_reply": "2021-08-23T00:21:18.840451Z"
    },
    "papermill": {
     "duration": 0.042798,
     "end_time": "2021-08-23T00:21:18.840600",
     "exception": false,
     "start_time": "2021-08-23T00:21:18.797802",
     "status": "completed"
    },
    "tags": []
   },
   "outputs": [],
   "source": [
    "#hide\n",
    "# g.rename(columns= {'date':'day'},inplace = True)"
   ]
  },
  {
   "cell_type": "code",
   "execution_count": 38,
   "id": "major-fight",
   "metadata": {
    "execution": {
     "iopub.execute_input": "2021-08-23T00:21:18.914662Z",
     "iopub.status.busy": "2021-08-23T00:21:18.914061Z",
     "iopub.status.idle": "2021-08-23T00:21:18.916201Z",
     "shell.execute_reply": "2021-08-23T00:21:18.916677Z"
    },
    "papermill": {
     "duration": 0.041169,
     "end_time": "2021-08-23T00:21:18.916826",
     "exception": false,
     "start_time": "2021-08-23T00:21:18.875657",
     "status": "completed"
    },
    "tags": []
   },
   "outputs": [],
   "source": [
    "#hide\n",
    "# g = g[cols]"
   ]
  },
  {
   "cell_type": "code",
   "execution_count": 39,
   "id": "structured-mobile",
   "metadata": {
    "execution": {
     "iopub.execute_input": "2021-08-23T00:21:18.990448Z",
     "iopub.status.busy": "2021-08-23T00:21:18.989854Z",
     "iopub.status.idle": "2021-08-23T00:21:18.991649Z",
     "shell.execute_reply": "2021-08-23T00:21:18.992133Z"
    },
    "papermill": {
     "duration": 0.040861,
     "end_time": "2021-08-23T00:21:18.992282",
     "exception": false,
     "start_time": "2021-08-23T00:21:18.951421",
     "status": "completed"
    },
    "tags": []
   },
   "outputs": [],
   "source": [
    "# #hide\n",
    "# g = g[g.group.notna()]"
   ]
  },
  {
   "cell_type": "code",
   "execution_count": 40,
   "id": "determined-closing",
   "metadata": {
    "execution": {
     "iopub.execute_input": "2021-08-23T00:21:19.066856Z",
     "iopub.status.busy": "2021-08-23T00:21:19.066224Z",
     "iopub.status.idle": "2021-08-23T00:21:19.068782Z",
     "shell.execute_reply": "2021-08-23T00:21:19.069269Z"
    },
    "papermill": {
     "duration": 0.042183,
     "end_time": "2021-08-23T00:21:19.069421",
     "exception": false,
     "start_time": "2021-08-23T00:21:19.027238",
     "status": "completed"
    },
    "tags": []
   },
   "outputs": [],
   "source": [
    "# #hide\n",
    "# colors = dict(zip(\n",
    "#     [\"Oceania\", \"Europe\", \"Asia\", \"South America\", \"Middle East\", \"North America\", \"Africa\"],\n",
    "#     [\"#adb0ff\", \"#ffb3ff\", \"#90d595\", \"#e48381\", \"#aafbff\", \"#f7bb5f\", \"#eafb50\"]\n",
    "# ))\n",
    "# group_lk = g.set_index('name')['group'].to_dict()"
   ]
  },
  {
   "cell_type": "code",
   "execution_count": null,
   "id": "gross-drinking",
   "metadata": {
    "papermill": {
     "duration": 0.034864,
     "end_time": "2021-08-23T00:21:19.139030",
     "exception": false,
     "start_time": "2021-08-23T00:21:19.104166",
     "status": "completed"
    },
    "tags": []
   },
   "outputs": [],
   "source": []
  },
  {
   "cell_type": "code",
   "execution_count": 41,
   "id": "subject-macintosh",
   "metadata": {
    "execution": {
     "iopub.execute_input": "2021-08-23T00:21:19.213809Z",
     "iopub.status.busy": "2021-08-23T00:21:19.213179Z",
     "iopub.status.idle": "2021-08-23T00:21:19.214983Z",
     "shell.execute_reply": "2021-08-23T00:21:19.215434Z"
    },
    "papermill": {
     "duration": 0.041608,
     "end_time": "2021-08-23T00:21:19.215611",
     "exception": false,
     "start_time": "2021-08-23T00:21:19.174003",
     "status": "completed"
    },
    "tags": []
   },
   "outputs": [],
   "source": [
    "# #hide\n",
    "# fig, ax = plt.subplots(figsize=(15, 8))\n",
    "\n",
    "# def draw_barchart(current_day):\n",
    "#     dff = g[g['day'].eq(current_day)].sort_values(by='value', ascending=True).tail(10)\n",
    "#     ax.clear()\n",
    "#     ax.barh(dff['name'], dff['value'], color=[colors[group_lk[x]] for x in dff['name']])\n",
    "#     dx = dff['value'].max() / 200\n",
    "    \n",
    "#     for i, (value, name) in enumerate(zip(dff['value'], dff['name'])):\n",
    "#         ax.text(value-dx, i,     name,           size=14, weight=600, ha='right', va='bottom')\n",
    "#         ax.text(value-dx, i-.25, group_lk[name], size=10, color='#444444', ha='right', va='baseline')\n",
    "#         ax.text(value+dx, i,     f'{value:,.0f}',  size=14, ha='left',  va='center')\n",
    "#     ax.text(1, 0.4, current_day, transform=ax.transAxes, color='#777777', size=46, ha='right', weight=800)\n",
    "#     ax.text(0, 1.06, 'Population (thousands)', transform=ax.transAxes, size=12, color='#777777')\n",
    "#     ax.xaxis.set_major_formatter(ticker.StrMethodFormatter('{x:,.0f}'))\n",
    "#     ax.xaxis.set_ticks_position('top')\n",
    "#     ax.tick_params(axis='x', colors='#777777', labelsize=12)\n",
    "#     ax.set_yticks([])\n",
    "#     ax.margins(0, 0.01)\n",
    "#     ax.grid(which='major', axis='x', linestyle='-')\n",
    "#     ax.set_axisbelow(True)\n",
    "    \n",
    "#     ax.text(0, 1.15, 'Coronavirus',\n",
    "#             transform=ax.transAxes, size=24, weight=600, ha='left', va='top')\n",
    "# #     ax.text(1, 0, 'by @pratapvardhan; credit @jburnmurdoch', transform=ax.transAxes, color='#777777', ha='right',\n",
    "# #             bbox=dict(facecolor='white', alpha=0.8, edgecolor='white'))\n",
    "#     plt.box(False)"
   ]
  },
  {
   "cell_type": "code",
   "execution_count": 42,
   "id": "sexual-wages",
   "metadata": {
    "execution": {
     "iopub.execute_input": "2021-08-23T00:21:19.289837Z",
     "iopub.status.busy": "2021-08-23T00:21:19.289225Z",
     "iopub.status.idle": "2021-08-23T00:21:19.291059Z",
     "shell.execute_reply": "2021-08-23T00:21:19.291554Z"
    },
    "papermill": {
     "duration": 0.041005,
     "end_time": "2021-08-23T00:21:19.291706",
     "exception": false,
     "start_time": "2021-08-23T00:21:19.250701",
     "status": "completed"
    },
    "tags": []
   },
   "outputs": [],
   "source": [
    "# #hide_input\n",
    "# fig, ax = plt.subplots(figsize=(15, 8))\n",
    "# animator = animation.FuncAnimation(fig, draw_barchart, frames=range(g.day.values.min(), g.day.values.max()))\n",
    "# HTML(animator.to_jshtml())\n",
    "# # or use animator.to_html5_video() or animator.save() "
   ]
  },
  {
   "cell_type": "code",
   "execution_count": null,
   "id": "australian-container",
   "metadata": {
    "papermill": {
     "duration": 0.034897,
     "end_time": "2021-08-23T00:21:19.361586",
     "exception": false,
     "start_time": "2021-08-23T00:21:19.326689",
     "status": "completed"
    },
    "tags": []
   },
   "outputs": [],
   "source": []
  },
  {
   "cell_type": "code",
   "execution_count": null,
   "id": "mediterranean-pontiac",
   "metadata": {
    "papermill": {
     "duration": 0.034688,
     "end_time": "2021-08-23T00:21:19.431019",
     "exception": false,
     "start_time": "2021-08-23T00:21:19.396331",
     "status": "completed"
    },
    "tags": []
   },
   "outputs": [],
   "source": []
  },
  {
   "cell_type": "code",
   "execution_count": null,
   "id": "aging-legislature",
   "metadata": {
    "papermill": {
     "duration": 0.034676,
     "end_time": "2021-08-23T00:21:19.500669",
     "exception": false,
     "start_time": "2021-08-23T00:21:19.465993",
     "status": "completed"
    },
    "tags": []
   },
   "outputs": [],
   "source": []
  }
 ],
 "metadata": {
  "kernelspec": {
   "display_name": "Python 3",
   "language": "python",
   "name": "python3"
  },
  "language_info": {
   "codemirror_mode": {
    "name": "ipython",
    "version": 3
   },
   "file_extension": ".py",
   "mimetype": "text/x-python",
   "name": "python",
   "nbconvert_exporter": "python",
   "pygments_lexer": "ipython3",
   "version": "3.6.14"
  },
  "papermill": {
   "duration": 6.707031,
   "end_time": "2021-08-23T00:21:19.946131",
   "environment_variables": {},
   "exception": null,
   "input_path": "2020-03-21-covid19exp.ipynb",
   "output_path": "2020-03-21-covid19exp.ipynb",
   "parameters": {},
   "start_time": "2021-08-23T00:21:13.239100",
   "version": "2.0.0"
  }
 },
 "nbformat": 4,
 "nbformat_minor": 5
}