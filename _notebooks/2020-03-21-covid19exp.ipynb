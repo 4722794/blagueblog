{
 "cells": [
  {
   "cell_type": "markdown",
   "id": "muslim-click",
   "metadata": {
    "papermill": {
     "duration": 0.046377,
     "end_time": "2021-03-17T00:11:21.557190",
     "exception": false,
     "start_time": "2021-03-17T00:11:21.510813",
     "status": "completed"
    },
    "tags": []
   },
   "source": [
    "# COVID-19 Case Race\n",
    "> A race chart to see rising cases around the world\n",
    "\n",
    "- author: Hargun Oberoi\n",
    "- image: images/covid-overview.png\n",
    "- hide: false\n",
    "- badges: false"
   ]
  },
  {
   "cell_type": "code",
   "execution_count": 1,
   "id": "proof-material",
   "metadata": {
    "execution": {
     "iopub.execute_input": "2021-03-17T00:11:21.653094Z",
     "iopub.status.busy": "2021-03-17T00:11:21.652199Z",
     "iopub.status.idle": "2021-03-17T00:11:22.031100Z",
     "shell.execute_reply": "2021-03-17T00:11:22.029984Z"
    },
    "papermill": {
     "duration": 0.433983,
     "end_time": "2021-03-17T00:11:22.031268",
     "exception": false,
     "start_time": "2021-03-17T00:11:21.597285",
     "status": "completed"
    },
    "tags": []
   },
   "outputs": [],
   "source": [
    "#hide\n",
    "import numpy as np\n",
    "import pandas as pd\n",
    "from jinja2 import Template\n",
    "from IPython.display import HTML"
   ]
  },
  {
   "cell_type": "code",
   "execution_count": 2,
   "id": "developed-terminology",
   "metadata": {
    "execution": {
     "iopub.execute_input": "2021-03-17T00:11:22.115838Z",
     "iopub.status.busy": "2021-03-17T00:11:22.115154Z",
     "iopub.status.idle": "2021-03-17T00:11:22.117999Z",
     "shell.execute_reply": "2021-03-17T00:11:22.117112Z"
    },
    "papermill": {
     "duration": 0.04735,
     "end_time": "2021-03-17T00:11:22.118140",
     "exception": false,
     "start_time": "2021-03-17T00:11:22.070790",
     "status": "completed"
    },
    "tags": []
   },
   "outputs": [],
   "source": [
    "#hide\n",
    "\n",
    "# FETCH\n",
    "base_url = 'https://raw.githubusercontent.com/pratapvardhan/notebooks/master/covid19/'\n",
    "paths = {\n",
    "    'mapping': base_url + 'mapping_countries.csv',\n",
    "    'overview': base_url + 'overview.tpl'\n",
    "}"
   ]
  },
  {
   "cell_type": "code",
   "execution_count": 3,
   "id": "dynamic-saver",
   "metadata": {
    "execution": {
     "iopub.execute_input": "2021-03-17T00:11:22.223491Z",
     "iopub.status.busy": "2021-03-17T00:11:22.222739Z",
     "iopub.status.idle": "2021-03-17T00:11:22.225430Z",
     "shell.execute_reply": "2021-03-17T00:11:22.226085Z"
    },
    "papermill": {
     "duration": 0.056746,
     "end_time": "2021-03-17T00:11:22.226238",
     "exception": false,
     "start_time": "2021-03-17T00:11:22.169492",
     "status": "completed"
    },
    "tags": []
   },
   "outputs": [
    {
     "data": {
      "text/plain": [
       "'https://raw.githubusercontent.com/pratapvardhan/notebooks/master/covid19/mapping_countries.csv'"
      ]
     },
     "execution_count": 3,
     "metadata": {},
     "output_type": "execute_result"
    }
   ],
   "source": [
    "#hide\n",
    "paths['mapping']"
   ]
  },
  {
   "cell_type": "code",
   "execution_count": 4,
   "id": "urban-software",
   "metadata": {
    "execution": {
     "iopub.execute_input": "2021-03-17T00:11:22.315138Z",
     "iopub.status.busy": "2021-03-17T00:11:22.314452Z",
     "iopub.status.idle": "2021-03-17T00:11:22.316406Z",
     "shell.execute_reply": "2021-03-17T00:11:22.318091Z"
    },
    "papermill": {
     "duration": 0.050758,
     "end_time": "2021-03-17T00:11:22.318333",
     "exception": false,
     "start_time": "2021-03-17T00:11:22.267575",
     "status": "completed"
    },
    "tags": []
   },
   "outputs": [],
   "source": [
    "#hide\n",
    "def get_mappings(url):\n",
    "    df = pd.read_csv(url)\n",
    "    return {\n",
    "        'df': df,\n",
    "        'replace.country': dict(df.dropna(subset=['Name']).set_index('Country')['Name']),\n",
    "        'map.continent': dict(df.set_index('Name')['Continent'])\n",
    "    }"
   ]
  },
  {
   "cell_type": "code",
   "execution_count": 5,
   "id": "intimate-machinery",
   "metadata": {
    "execution": {
     "iopub.execute_input": "2021-03-17T00:11:22.408411Z",
     "iopub.status.busy": "2021-03-17T00:11:22.407701Z",
     "iopub.status.idle": "2021-03-17T00:11:22.446402Z",
     "shell.execute_reply": "2021-03-17T00:11:22.445760Z"
    },
    "papermill": {
     "duration": 0.083895,
     "end_time": "2021-03-17T00:11:22.446552",
     "exception": false,
     "start_time": "2021-03-17T00:11:22.362657",
     "status": "completed"
    },
    "tags": []
   },
   "outputs": [],
   "source": [
    "#hide\n",
    "mapping = get_mappings(paths['mapping'])"
   ]
  },
  {
   "cell_type": "code",
   "execution_count": 6,
   "id": "certified-tactics",
   "metadata": {
    "execution": {
     "iopub.execute_input": "2021-03-17T00:11:22.532769Z",
     "iopub.status.busy": "2021-03-17T00:11:22.532106Z",
     "iopub.status.idle": "2021-03-17T00:11:22.533468Z",
     "shell.execute_reply": "2021-03-17T00:11:22.534048Z"
    },
    "papermill": {
     "duration": 0.048239,
     "end_time": "2021-03-17T00:11:22.534195",
     "exception": false,
     "start_time": "2021-03-17T00:11:22.485956",
     "status": "completed"
    },
    "tags": []
   },
   "outputs": [],
   "source": [
    "#hide\n",
    "def get_template(path):\n",
    "    from urllib.parse import urlparse\n",
    "    if bool(urlparse(path).netloc):\n",
    "        from urllib.request import urlopen\n",
    "        return urlopen(path).read().decode('utf8')\n",
    "    return open(path).read()"
   ]
  },
  {
   "cell_type": "code",
   "execution_count": 7,
   "id": "realistic-blast",
   "metadata": {
    "execution": {
     "iopub.execute_input": "2021-03-17T00:11:22.618935Z",
     "iopub.status.busy": "2021-03-17T00:11:22.618221Z",
     "iopub.status.idle": "2021-03-17T00:11:22.620872Z",
     "shell.execute_reply": "2021-03-17T00:11:22.620301Z"
    },
    "papermill": {
     "duration": 0.047286,
     "end_time": "2021-03-17T00:11:22.621028",
     "exception": false,
     "start_time": "2021-03-17T00:11:22.573742",
     "status": "completed"
    },
    "tags": []
   },
   "outputs": [],
   "source": [
    "#hide\n",
    "def get_frame(name):\n",
    "    url = (\n",
    "        'https://raw.githubusercontent.com/CSSEGISandData/COVID-19/master/csse_covid_19_data/'\n",
    "        f'csse_covid_19_time_series/time_series_covid19_{name}_global.csv')\n",
    "    df = pd.read_csv(url)\n",
    "    # rename countries\n",
    "    df['Country/Region'] = df['Country/Region'].replace(mapping['replace.country'])\n",
    "    return df"
   ]
  },
  {
   "cell_type": "code",
   "execution_count": 8,
   "id": "affiliated-characterization",
   "metadata": {
    "execution": {
     "iopub.execute_input": "2021-03-17T00:11:22.709121Z",
     "iopub.status.busy": "2021-03-17T00:11:22.708406Z",
     "iopub.status.idle": "2021-03-17T00:11:22.710372Z",
     "shell.execute_reply": "2021-03-17T00:11:22.710989Z"
    },
    "papermill": {
     "duration": 0.04953,
     "end_time": "2021-03-17T00:11:22.711142",
     "exception": false,
     "start_time": "2021-03-17T00:11:22.661612",
     "status": "completed"
    },
    "tags": []
   },
   "outputs": [],
   "source": [
    "#hide\n",
    "def get_dates(df):\n",
    "    dt_cols = df.columns[~df.columns.isin(['Province/State', 'Country/Region', 'Lat', 'Long'])]\n",
    "    LAST_DATE_I = -1\n",
    "    # sometimes last column may be empty, then go backwards\n",
    "    for i in range(-1, -len(dt_cols), -1):\n",
    "        if not df[dt_cols[i]].fillna(0).eq(0).all():\n",
    "            LAST_DATE_I = i\n",
    "            break\n",
    "    return LAST_DATE_I, dt_cols"
   ]
  },
  {
   "cell_type": "code",
   "execution_count": 9,
   "id": "recent-optimization",
   "metadata": {
    "execution": {
     "iopub.execute_input": "2021-03-17T00:11:22.797191Z",
     "iopub.status.busy": "2021-03-17T00:11:22.796536Z",
     "iopub.status.idle": "2021-03-17T00:11:23.121790Z",
     "shell.execute_reply": "2021-03-17T00:11:23.119818Z"
    },
    "papermill": {
     "duration": 0.370948,
     "end_time": "2021-03-17T00:11:23.121956",
     "exception": false,
     "start_time": "2021-03-17T00:11:22.751008",
     "status": "completed"
    },
    "tags": []
   },
   "outputs": [],
   "source": [
    "#hide\n",
    "COL_REGION = 'Country/Region'\n",
    "# Confirmed, Recovered, Deaths\n",
    "df = get_frame('confirmed')\n",
    "# dft_: timeseries, dfc_: today country agg\n",
    "dft_cases = df\n",
    "dft_deaths = get_frame('deaths')\n",
    "dft_recovered = get_frame('recovered')\n",
    "LAST_DATE_I, dt_cols = get_dates(df)"
   ]
  },
  {
   "cell_type": "code",
   "execution_count": 10,
   "id": "absolute-copper",
   "metadata": {
    "execution": {
     "iopub.execute_input": "2021-03-17T00:11:23.207321Z",
     "iopub.status.busy": "2021-03-17T00:11:23.206433Z",
     "iopub.status.idle": "2021-03-17T00:11:23.211607Z",
     "shell.execute_reply": "2021-03-17T00:11:23.210952Z"
    },
    "papermill": {
     "duration": 0.050587,
     "end_time": "2021-03-17T00:11:23.211768",
     "exception": false,
     "start_time": "2021-03-17T00:11:23.161181",
     "status": "completed"
    },
    "tags": []
   },
   "outputs": [],
   "source": [
    "#hide\n",
    "LAST_DATE_I, dt_cols = get_dates(df)\n",
    "dt_today =dt_cols[LAST_DATE_I]\n",
    "# dt_5day = dt_cols[LAST_DATE_I - 5]\n",
    "dt_yday = dt_cols[LAST_DATE_I - 1]"
   ]
  },
  {
   "cell_type": "code",
   "execution_count": 11,
   "id": "restricted-sheriff",
   "metadata": {
    "execution": {
     "iopub.execute_input": "2021-03-17T00:11:23.297726Z",
     "iopub.status.busy": "2021-03-17T00:11:23.297020Z",
     "iopub.status.idle": "2021-03-17T00:11:23.308104Z",
     "shell.execute_reply": "2021-03-17T00:11:23.308701Z"
    },
    "papermill": {
     "duration": 0.05703,
     "end_time": "2021-03-17T00:11:23.308895",
     "exception": false,
     "start_time": "2021-03-17T00:11:23.251865",
     "status": "completed"
    },
    "tags": []
   },
   "outputs": [],
   "source": [
    "#hide\n",
    "dfc_cases = dft_cases.groupby(COL_REGION)[dt_today].sum()\n",
    "dfc_deaths = dft_deaths.groupby(COL_REGION)[dt_today].sum()\n",
    "# dfp_cases = dft_cases.groupby(COL_REGION)[dt_5day].sum()\n",
    "# dfp_deaths = dft_deaths.groupby(COL_REGION)[dt_5day].sum()\n",
    "dfp_cases = dft_cases.groupby(COL_REGION)[dt_yday].sum()\n",
    "dfp_deaths = dft_deaths.groupby(COL_REGION)[dt_yday].sum()"
   ]
  },
  {
   "cell_type": "code",
   "execution_count": 12,
   "id": "deluxe-hepatitis",
   "metadata": {
    "execution": {
     "iopub.execute_input": "2021-03-17T00:11:23.399523Z",
     "iopub.status.busy": "2021-03-17T00:11:23.398848Z",
     "iopub.status.idle": "2021-03-17T00:11:23.404507Z",
     "shell.execute_reply": "2021-03-17T00:11:23.403886Z"
    },
    "papermill": {
     "duration": 0.052889,
     "end_time": "2021-03-17T00:11:23.404772",
     "exception": false,
     "start_time": "2021-03-17T00:11:23.351883",
     "status": "completed"
    },
    "tags": []
   },
   "outputs": [],
   "source": [
    "#hide\n",
    "df_table = (pd.DataFrame(dict(Cases = dfc_cases, Deaths = dfc_deaths, PCases = dfp_cases, PDeaths = dfp_deaths))\n",
    "            .sort_values(by = ['Cases','Deaths'], ascending = [False, False])\n",
    "            .reset_index())"
   ]
  },
  {
   "cell_type": "code",
   "execution_count": 13,
   "id": "educational-chancellor",
   "metadata": {
    "execution": {
     "iopub.execute_input": "2021-03-17T00:11:23.507749Z",
     "iopub.status.busy": "2021-03-17T00:11:23.506880Z",
     "iopub.status.idle": "2021-03-17T00:11:23.522105Z",
     "shell.execute_reply": "2021-03-17T00:11:23.522623Z"
    },
    "papermill": {
     "duration": 0.071704,
     "end_time": "2021-03-17T00:11:23.522845",
     "exception": false,
     "start_time": "2021-03-17T00:11:23.451141",
     "status": "completed"
    },
    "tags": []
   },
   "outputs": [
    {
     "data": {
      "text/html": [
       "<div>\n",
       "<style scoped>\n",
       "    .dataframe tbody tr th:only-of-type {\n",
       "        vertical-align: middle;\n",
       "    }\n",
       "\n",
       "    .dataframe tbody tr th {\n",
       "        vertical-align: top;\n",
       "    }\n",
       "\n",
       "    .dataframe thead th {\n",
       "        text-align: right;\n",
       "    }\n",
       "</style>\n",
       "<table border=\"1\" class=\"dataframe\">\n",
       "  <thead>\n",
       "    <tr style=\"text-align: right;\">\n",
       "      <th></th>\n",
       "      <th>Country/Region</th>\n",
       "      <th>Cases</th>\n",
       "      <th>Deaths</th>\n",
       "      <th>PCases</th>\n",
       "      <th>PDeaths</th>\n",
       "      <th>Cases (+)</th>\n",
       "      <th>Deaths (+)</th>\n",
       "      <th>Fatality Rate</th>\n",
       "      <th>Continent</th>\n",
       "    </tr>\n",
       "  </thead>\n",
       "  <tbody>\n",
       "    <tr>\n",
       "      <th>0</th>\n",
       "      <td>US</td>\n",
       "      <td>29495424</td>\n",
       "      <td>535628</td>\n",
       "      <td>29438775</td>\n",
       "      <td>534888</td>\n",
       "      <td>56649</td>\n",
       "      <td>740</td>\n",
       "      <td>1.82</td>\n",
       "      <td>North America</td>\n",
       "    </tr>\n",
       "    <tr>\n",
       "      <th>1</th>\n",
       "      <td>Brazil</td>\n",
       "      <td>11519609</td>\n",
       "      <td>279286</td>\n",
       "      <td>11483370</td>\n",
       "      <td>278229</td>\n",
       "      <td>36239</td>\n",
       "      <td>1057</td>\n",
       "      <td>2.42</td>\n",
       "      <td>South America</td>\n",
       "    </tr>\n",
       "    <tr>\n",
       "      <th>2</th>\n",
       "      <td>India</td>\n",
       "      <td>11409831</td>\n",
       "      <td>158856</td>\n",
       "      <td>11385339</td>\n",
       "      <td>158725</td>\n",
       "      <td>24492</td>\n",
       "      <td>131</td>\n",
       "      <td>1.39</td>\n",
       "      <td>Asia</td>\n",
       "    </tr>\n",
       "    <tr>\n",
       "      <th>3</th>\n",
       "      <td>Russia</td>\n",
       "      <td>4350728</td>\n",
       "      <td>90958</td>\n",
       "      <td>4341381</td>\n",
       "      <td>90558</td>\n",
       "      <td>9347</td>\n",
       "      <td>400</td>\n",
       "      <td>2.09</td>\n",
       "      <td>Europe</td>\n",
       "    </tr>\n",
       "    <tr>\n",
       "      <th>4</th>\n",
       "      <td>United Kingdom</td>\n",
       "      <td>4276840</td>\n",
       "      <td>125817</td>\n",
       "      <td>4271710</td>\n",
       "      <td>125753</td>\n",
       "      <td>5130</td>\n",
       "      <td>64</td>\n",
       "      <td>2.94</td>\n",
       "      <td>Europe</td>\n",
       "    </tr>\n",
       "  </tbody>\n",
       "</table>\n",
       "</div>"
      ],
      "text/plain": [
       "   Country/Region     Cases  Deaths    PCases  PDeaths  Cases (+)  Deaths (+)  \\\n",
       "0              US  29495424  535628  29438775   534888      56649         740   \n",
       "1          Brazil  11519609  279286  11483370   278229      36239        1057   \n",
       "2           India  11409831  158856  11385339   158725      24492         131   \n",
       "3          Russia   4350728   90958   4341381    90558       9347         400   \n",
       "4  United Kingdom   4276840  125817   4271710   125753       5130          64   \n",
       "\n",
       "   Fatality Rate      Continent  \n",
       "0           1.82  North America  \n",
       "1           2.42  South America  \n",
       "2           1.39           Asia  \n",
       "3           2.09         Europe  \n",
       "4           2.94         Europe  "
      ]
     },
     "execution_count": 13,
     "metadata": {},
     "output_type": "execute_result"
    }
   ],
   "source": [
    "#hide\n",
    "for c in 'Cases, Deaths'.split(', '):\n",
    "    df_table[f'{c} (+)'] = (df_table[c] - df_table[f'P{c}']).clip(0)\n",
    "    #Clip ça veut dire, les chiffres negatif sont interdit\n",
    "df_table['Fatality Rate'] = (100* df_table['Deaths']/ df_table['Cases']).round(2)\n",
    "df_table['Continent'] = df_table['Country/Region'].map(mapping['map.continent'])\n",
    "df_table.head(5)"
   ]
  },
  {
   "cell_type": "code",
   "execution_count": 14,
   "id": "aboriginal-bulgaria",
   "metadata": {
    "execution": {
     "iopub.execute_input": "2021-03-17T00:11:23.611768Z",
     "iopub.status.busy": "2021-03-17T00:11:23.611049Z",
     "iopub.status.idle": "2021-03-17T00:11:23.613009Z",
     "shell.execute_reply": "2021-03-17T00:11:23.613764Z"
    },
    "papermill": {
     "duration": 0.050348,
     "end_time": "2021-03-17T00:11:23.613918",
     "exception": false,
     "start_time": "2021-03-17T00:11:23.563570",
     "status": "completed"
    },
    "tags": []
   },
   "outputs": [],
   "source": [
    "#hide\n",
    "#delete problematic countries from table\n",
    "df_table = df_table[~df_table['Country/Region'].isin(['Cape Verde', 'Cruise Ship', 'Kosovo'])]"
   ]
  },
  {
   "cell_type": "code",
   "execution_count": 15,
   "id": "fantastic-effect",
   "metadata": {
    "execution": {
     "iopub.execute_input": "2021-03-17T00:11:23.704330Z",
     "iopub.status.busy": "2021-03-17T00:11:23.703430Z",
     "iopub.status.idle": "2021-03-17T00:11:23.726801Z",
     "shell.execute_reply": "2021-03-17T00:11:23.727354Z"
    },
    "papermill": {
     "duration": 0.073695,
     "end_time": "2021-03-17T00:11:23.727524",
     "exception": false,
     "start_time": "2021-03-17T00:11:23.653829",
     "status": "completed"
    },
    "tags": []
   },
   "outputs": [
    {
     "data": {
      "text/html": [
       "<div>\n",
       "<style scoped>\n",
       "    .dataframe tbody tr th:only-of-type {\n",
       "        vertical-align: middle;\n",
       "    }\n",
       "\n",
       "    .dataframe tbody tr th {\n",
       "        vertical-align: top;\n",
       "    }\n",
       "\n",
       "    .dataframe thead th {\n",
       "        text-align: right;\n",
       "    }\n",
       "</style>\n",
       "<table border=\"1\" class=\"dataframe\">\n",
       "  <thead>\n",
       "    <tr style=\"text-align: right;\">\n",
       "      <th></th>\n",
       "      <th>Country/Region</th>\n",
       "      <th>Cases</th>\n",
       "      <th>Deaths</th>\n",
       "      <th>PCases</th>\n",
       "      <th>PDeaths</th>\n",
       "      <th>Cases (+)</th>\n",
       "      <th>Deaths (+)</th>\n",
       "      <th>Fatality Rate</th>\n",
       "      <th>Continent</th>\n",
       "    </tr>\n",
       "  </thead>\n",
       "  <tbody>\n",
       "    <tr>\n",
       "      <th>0</th>\n",
       "      <td>US</td>\n",
       "      <td>29495424</td>\n",
       "      <td>535628</td>\n",
       "      <td>29438775</td>\n",
       "      <td>534888</td>\n",
       "      <td>56649</td>\n",
       "      <td>740</td>\n",
       "      <td>1.8</td>\n",
       "      <td>North America</td>\n",
       "    </tr>\n",
       "    <tr>\n",
       "      <th>1</th>\n",
       "      <td>Brazil</td>\n",
       "      <td>11519609</td>\n",
       "      <td>279286</td>\n",
       "      <td>11483370</td>\n",
       "      <td>278229</td>\n",
       "      <td>36239</td>\n",
       "      <td>1057</td>\n",
       "      <td>2.4</td>\n",
       "      <td>South America</td>\n",
       "    </tr>\n",
       "    <tr>\n",
       "      <th>2</th>\n",
       "      <td>India</td>\n",
       "      <td>11409831</td>\n",
       "      <td>158856</td>\n",
       "      <td>11385339</td>\n",
       "      <td>158725</td>\n",
       "      <td>24492</td>\n",
       "      <td>131</td>\n",
       "      <td>1.4</td>\n",
       "      <td>Asia</td>\n",
       "    </tr>\n",
       "    <tr>\n",
       "      <th>3</th>\n",
       "      <td>Russia</td>\n",
       "      <td>4350728</td>\n",
       "      <td>90958</td>\n",
       "      <td>4341381</td>\n",
       "      <td>90558</td>\n",
       "      <td>9347</td>\n",
       "      <td>400</td>\n",
       "      <td>2.1</td>\n",
       "      <td>Europe</td>\n",
       "    </tr>\n",
       "    <tr>\n",
       "      <th>4</th>\n",
       "      <td>United Kingdom</td>\n",
       "      <td>4276840</td>\n",
       "      <td>125817</td>\n",
       "      <td>4271710</td>\n",
       "      <td>125753</td>\n",
       "      <td>5130</td>\n",
       "      <td>64</td>\n",
       "      <td>2.9</td>\n",
       "      <td>Europe</td>\n",
       "    </tr>\n",
       "  </tbody>\n",
       "</table>\n",
       "</div>"
      ],
      "text/plain": [
       "   Country/Region     Cases  Deaths    PCases  PDeaths  Cases (+)  Deaths (+)  \\\n",
       "0              US  29495424  535628  29438775   534888      56649         740   \n",
       "1          Brazil  11519609  279286  11483370   278229      36239        1057   \n",
       "2           India  11409831  158856  11385339   158725      24492         131   \n",
       "3          Russia   4350728   90958   4341381    90558       9347         400   \n",
       "4  United Kingdom   4276840  125817   4271710   125753       5130          64   \n",
       "\n",
       "   Fatality Rate      Continent  \n",
       "0            1.8  North America  \n",
       "1            2.4  South America  \n",
       "2            1.4           Asia  \n",
       "3            2.1         Europe  \n",
       "4            2.9         Europe  "
      ]
     },
     "execution_count": 15,
     "metadata": {},
     "output_type": "execute_result"
    }
   ],
   "source": [
    "#hide\n",
    "df_table = (pd.DataFrame(dict(Cases=dfc_cases, Deaths=dfc_deaths, PCases=dfp_cases, PDeaths=dfp_deaths))\n",
    "             .sort_values(by=['Cases', 'Deaths'], ascending=[False, False])\n",
    "             .reset_index())\n",
    "df_table.rename(columns={'index': 'Country/Region'}, inplace=True)\n",
    "for c in 'Cases, Deaths'.split(', '):\n",
    "    df_table[f'{c} (+)'] = (df_table[c] - df_table[f'P{c}']).clip(0)  # DATA BUG\n",
    "df_table['Fatality Rate'] = (100 * df_table['Deaths'] / df_table['Cases']).round(1)\n",
    "df_table['Continent'] = df_table['Country/Region'].map(mapping['map.continent'])\n",
    "df_table.head(5)"
   ]
  },
  {
   "cell_type": "code",
   "execution_count": 16,
   "id": "fewer-occasion",
   "metadata": {
    "execution": {
     "iopub.execute_input": "2021-03-17T00:11:23.817178Z",
     "iopub.status.busy": "2021-03-17T00:11:23.816242Z",
     "iopub.status.idle": "2021-03-17T00:11:23.820089Z",
     "shell.execute_reply": "2021-03-17T00:11:23.819387Z"
    },
    "papermill": {
     "duration": 0.05121,
     "end_time": "2021-03-17T00:11:23.820232",
     "exception": false,
     "start_time": "2021-03-17T00:11:23.769022",
     "status": "completed"
    },
    "tags": []
   },
   "outputs": [],
   "source": [
    "#hide\n",
    "#delete problematic countries from table\n",
    "df_table = df_table[~df_table['Country/Region'].isin(['Cape Verde', 'Cruise Ship', 'Kosovo'])]"
   ]
  },
  {
   "cell_type": "code",
   "execution_count": 17,
   "id": "related-center",
   "metadata": {
    "execution": {
     "iopub.execute_input": "2021-03-17T00:11:23.917723Z",
     "iopub.status.busy": "2021-03-17T00:11:23.916988Z",
     "iopub.status.idle": "2021-03-17T00:11:23.926396Z",
     "shell.execute_reply": "2021-03-17T00:11:23.925710Z"
    },
    "papermill": {
     "duration": 0.065221,
     "end_time": "2021-03-17T00:11:23.926556",
     "exception": false,
     "start_time": "2021-03-17T00:11:23.861335",
     "status": "completed"
    },
    "tags": []
   },
   "outputs": [],
   "source": [
    "#hide\n",
    "metrics = [df_table.columns[index] for index in [1,2,5,6]]\n",
    "# s_china = df_table[df_table['Country/Region'].eq('China')][metrics].sum().add_prefix('China ')\n",
    "s_us = df_table[df_table['Country/Region'].eq('US')][metrics].sum().add_prefix('US ')\n",
    "s_eu = df_table[df_table['Continent'].eq('Europe')][metrics].sum().add_prefix('EU ')\n",
    "s_ind = df_table[df_table['Country/Region'].eq('India')][metrics].sum().add_prefix('India ')\n",
    "summary = {'updated': pd.to_datetime(dt_today), 'since': pd.to_datetime(dt_yday)}\n",
    "summary = {'updated': pd.to_datetime(dt_today), 'since': pd.to_datetime(dt_yday)}\n",
    "summary = {**summary, **df_table[metrics].sum(), **s_ind, **s_us, **s_eu}"
   ]
  },
  {
   "cell_type": "code",
   "execution_count": 18,
   "id": "engaging-syndrome",
   "metadata": {
    "execution": {
     "iopub.execute_input": "2021-03-17T00:11:24.015595Z",
     "iopub.status.busy": "2021-03-17T00:11:24.014863Z",
     "iopub.status.idle": "2021-03-17T00:11:24.027774Z",
     "shell.execute_reply": "2021-03-17T00:11:24.027136Z"
    },
    "papermill": {
     "duration": 0.060108,
     "end_time": "2021-03-17T00:11:24.028009",
     "exception": false,
     "start_time": "2021-03-17T00:11:23.967901",
     "status": "completed"
    },
    "tags": []
   },
   "outputs": [],
   "source": [
    "#hide\n",
    "dft_ct_new_cases = dft_cases.groupby(COL_REGION)[dt_cols].sum().diff(axis=1).fillna(0).astype(int)"
   ]
  },
  {
   "cell_type": "code",
   "execution_count": 19,
   "id": "neutral-assignment",
   "metadata": {
    "execution": {
     "iopub.execute_input": "2021-03-17T00:11:24.117683Z",
     "iopub.status.busy": "2021-03-17T00:11:24.117022Z",
     "iopub.status.idle": "2021-03-17T00:11:24.120034Z",
     "shell.execute_reply": "2021-03-17T00:11:24.119376Z"
    },
    "papermill": {
     "duration": 0.051264,
     "end_time": "2021-03-17T00:11:24.120179",
     "exception": false,
     "start_time": "2021-03-17T00:11:24.068915",
     "status": "completed"
    },
    "tags": []
   },
   "outputs": [],
   "source": [
    "#hide\n",
    "everydaycases = dft_ct_new_cases.cumsum(axis=1)"
   ]
  },
  {
   "cell_type": "code",
   "execution_count": 20,
   "id": "parliamentary-calgary",
   "metadata": {
    "execution": {
     "iopub.execute_input": "2021-03-17T00:11:24.208800Z",
     "iopub.status.busy": "2021-03-17T00:11:24.208115Z",
     "iopub.status.idle": "2021-03-17T00:11:24.871831Z",
     "shell.execute_reply": "2021-03-17T00:11:24.871245Z"
    },
    "papermill": {
     "duration": 0.711287,
     "end_time": "2021-03-17T00:11:24.872017",
     "exception": false,
     "start_time": "2021-03-17T00:11:24.160730",
     "status": "completed"
    },
    "tags": []
   },
   "outputs": [],
   "source": [
    "#hide\n",
    "import pandas as pd\n",
    "import matplotlib.pyplot as plt\n",
    "import matplotlib.ticker as ticker\n",
    "import matplotlib.animation as animation\n",
    "from IPython.display import HTML"
   ]
  },
  {
   "cell_type": "code",
   "execution_count": 21,
   "id": "lasting-extraction",
   "metadata": {
    "execution": {
     "iopub.execute_input": "2021-03-17T00:11:24.964114Z",
     "iopub.status.busy": "2021-03-17T00:11:24.963413Z",
     "iopub.status.idle": "2021-03-17T00:11:24.968651Z",
     "shell.execute_reply": "2021-03-17T00:11:24.969183Z"
    },
    "papermill": {
     "duration": 0.052521,
     "end_time": "2021-03-17T00:11:24.969339",
     "exception": false,
     "start_time": "2021-03-17T00:11:24.916818",
     "status": "completed"
    },
    "tags": []
   },
   "outputs": [],
   "source": [
    "#hide\n",
    "t = everydaycases.stack()"
   ]
  },
  {
   "cell_type": "code",
   "execution_count": 22,
   "id": "premier-sleeve",
   "metadata": {
    "execution": {
     "iopub.execute_input": "2021-03-17T00:11:25.057489Z",
     "iopub.status.busy": "2021-03-17T00:11:25.056727Z",
     "iopub.status.idle": "2021-03-17T00:11:25.067551Z",
     "shell.execute_reply": "2021-03-17T00:11:25.066315Z"
    },
    "papermill": {
     "duration": 0.057185,
     "end_time": "2021-03-17T00:11:25.067710",
     "exception": false,
     "start_time": "2021-03-17T00:11:25.010525",
     "status": "completed"
    },
    "tags": []
   },
   "outputs": [],
   "source": [
    "#hide\n",
    "g = t.reset_index(['Country/Region'])"
   ]
  },
  {
   "cell_type": "code",
   "execution_count": 23,
   "id": "distributed-pittsburgh",
   "metadata": {
    "execution": {
     "iopub.execute_input": "2021-03-17T00:11:25.160248Z",
     "iopub.status.busy": "2021-03-17T00:11:25.159442Z",
     "iopub.status.idle": "2021-03-17T00:11:25.161498Z",
     "shell.execute_reply": "2021-03-17T00:11:25.162257Z"
    },
    "papermill": {
     "duration": 0.0515,
     "end_time": "2021-03-17T00:11:25.162409",
     "exception": false,
     "start_time": "2021-03-17T00:11:25.110909",
     "status": "completed"
    },
    "tags": []
   },
   "outputs": [],
   "source": [
    "#hide\n",
    "g.index.name = 'date'"
   ]
  },
  {
   "cell_type": "code",
   "execution_count": 24,
   "id": "naked-donor",
   "metadata": {
    "execution": {
     "iopub.execute_input": "2021-03-17T00:11:25.248127Z",
     "iopub.status.busy": "2021-03-17T00:11:25.246506Z",
     "iopub.status.idle": "2021-03-17T00:11:25.248862Z",
     "shell.execute_reply": "2021-03-17T00:11:25.249439Z"
    },
    "papermill": {
     "duration": 0.046844,
     "end_time": "2021-03-17T00:11:25.249609",
     "exception": false,
     "start_time": "2021-03-17T00:11:25.202765",
     "status": "completed"
    },
    "tags": []
   },
   "outputs": [],
   "source": [
    "# #hide\n",
    "# g = g.reset_index(['date'])"
   ]
  },
  {
   "cell_type": "code",
   "execution_count": 25,
   "id": "incomplete-mustang",
   "metadata": {
    "execution": {
     "iopub.execute_input": "2021-03-17T00:11:25.337726Z",
     "iopub.status.busy": "2021-03-17T00:11:25.336874Z",
     "iopub.status.idle": "2021-03-17T00:11:25.341309Z",
     "shell.execute_reply": "2021-03-17T00:11:25.341886Z"
    },
    "papermill": {
     "duration": 0.051165,
     "end_time": "2021-03-17T00:11:25.342047",
     "exception": false,
     "start_time": "2021-03-17T00:11:25.290882",
     "status": "completed"
    },
    "tags": []
   },
   "outputs": [],
   "source": [
    "#hide\n",
    "# g.head()"
   ]
  },
  {
   "cell_type": "code",
   "execution_count": 26,
   "id": "specific-kruger",
   "metadata": {
    "execution": {
     "iopub.execute_input": "2021-03-17T00:11:25.450463Z",
     "iopub.status.busy": "2021-03-17T00:11:25.449762Z",
     "iopub.status.idle": "2021-03-17T00:11:25.453838Z",
     "shell.execute_reply": "2021-03-17T00:11:25.454580Z"
    },
    "papermill": {
     "duration": 0.069226,
     "end_time": "2021-03-17T00:11:25.454801",
     "exception": false,
     "start_time": "2021-03-17T00:11:25.385575",
     "status": "completed"
    },
    "tags": []
   },
   "outputs": [],
   "source": [
    "#hide\n",
    "# g.columns = ['date','country','cases']"
   ]
  },
  {
   "cell_type": "code",
   "execution_count": 27,
   "id": "tender-conversion",
   "metadata": {
    "execution": {
     "iopub.execute_input": "2021-03-17T00:11:25.545895Z",
     "iopub.status.busy": "2021-03-17T00:11:25.545220Z",
     "iopub.status.idle": "2021-03-17T00:11:25.547172Z",
     "shell.execute_reply": "2021-03-17T00:11:25.547856Z"
    },
    "papermill": {
     "duration": 0.049221,
     "end_time": "2021-03-17T00:11:25.548087",
     "exception": false,
     "start_time": "2021-03-17T00:11:25.498866",
     "status": "completed"
    },
    "tags": []
   },
   "outputs": [],
   "source": [
    "#hide\n",
    "# g['continent'] = g.country"
   ]
  },
  {
   "cell_type": "code",
   "execution_count": 28,
   "id": "substantial-wilderness",
   "metadata": {
    "execution": {
     "iopub.execute_input": "2021-03-17T00:11:25.640775Z",
     "iopub.status.busy": "2021-03-17T00:11:25.640112Z",
     "iopub.status.idle": "2021-03-17T00:11:25.642459Z",
     "shell.execute_reply": "2021-03-17T00:11:25.643211Z"
    },
    "papermill": {
     "duration": 0.05174,
     "end_time": "2021-03-17T00:11:25.643381",
     "exception": false,
     "start_time": "2021-03-17T00:11:25.591641",
     "status": "completed"
    },
    "tags": []
   },
   "outputs": [],
   "source": [
    "#hide\n",
    "# cols = list(g.columns.values)"
   ]
  },
  {
   "cell_type": "code",
   "execution_count": 29,
   "id": "solved-farming",
   "metadata": {
    "execution": {
     "iopub.execute_input": "2021-03-17T00:11:25.735445Z",
     "iopub.status.busy": "2021-03-17T00:11:25.734762Z",
     "iopub.status.idle": "2021-03-17T00:11:25.737186Z",
     "shell.execute_reply": "2021-03-17T00:11:25.736466Z"
    },
    "papermill": {
     "duration": 0.049945,
     "end_time": "2021-03-17T00:11:25.737327",
     "exception": false,
     "start_time": "2021-03-17T00:11:25.687382",
     "status": "completed"
    },
    "tags": []
   },
   "outputs": [],
   "source": [
    "#hide\n",
    "# cols.insert(0, cols.pop())"
   ]
  },
  {
   "cell_type": "code",
   "execution_count": 30,
   "id": "executed-adoption",
   "metadata": {
    "execution": {
     "iopub.execute_input": "2021-03-17T00:11:25.836420Z",
     "iopub.status.busy": "2021-03-17T00:11:25.835312Z",
     "iopub.status.idle": "2021-03-17T00:11:25.837397Z",
     "shell.execute_reply": "2021-03-17T00:11:25.838519Z"
    },
    "papermill": {
     "duration": 0.059874,
     "end_time": "2021-03-17T00:11:25.838714",
     "exception": false,
     "start_time": "2021-03-17T00:11:25.778840",
     "status": "completed"
    },
    "tags": []
   },
   "outputs": [],
   "source": [
    "#hide\n",
    "# g = g[cols]"
   ]
  },
  {
   "cell_type": "code",
   "execution_count": 31,
   "id": "subject-dublin",
   "metadata": {
    "execution": {
     "iopub.execute_input": "2021-03-17T00:11:25.928298Z",
     "iopub.status.busy": "2021-03-17T00:11:25.927607Z",
     "iopub.status.idle": "2021-03-17T00:11:25.930205Z",
     "shell.execute_reply": "2021-03-17T00:11:25.929548Z"
    },
    "papermill": {
     "duration": 0.047291,
     "end_time": "2021-03-17T00:11:25.930338",
     "exception": false,
     "start_time": "2021-03-17T00:11:25.883047",
     "status": "completed"
    },
    "tags": []
   },
   "outputs": [],
   "source": [
    "#hide\n",
    "# g['continent'] = g['continent'].map(mapping['map.continent'])"
   ]
  },
  {
   "cell_type": "code",
   "execution_count": 32,
   "id": "freelance-scout",
   "metadata": {
    "execution": {
     "iopub.execute_input": "2021-03-17T00:11:26.016800Z",
     "iopub.status.busy": "2021-03-17T00:11:26.016112Z",
     "iopub.status.idle": "2021-03-17T00:11:26.018085Z",
     "shell.execute_reply": "2021-03-17T00:11:26.018647Z"
    },
    "papermill": {
     "duration": 0.04785,
     "end_time": "2021-03-17T00:11:26.018799",
     "exception": false,
     "start_time": "2021-03-17T00:11:25.970949",
     "status": "completed"
    },
    "tags": []
   },
   "outputs": [],
   "source": [
    "#hide\n",
    "# g.head()"
   ]
  },
  {
   "cell_type": "code",
   "execution_count": 33,
   "id": "limited-engine",
   "metadata": {
    "execution": {
     "iopub.execute_input": "2021-03-17T00:11:26.108500Z",
     "iopub.status.busy": "2021-03-17T00:11:26.107845Z",
     "iopub.status.idle": "2021-03-17T00:11:26.109839Z",
     "shell.execute_reply": "2021-03-17T00:11:26.110490Z"
    },
    "papermill": {
     "duration": 0.04983,
     "end_time": "2021-03-17T00:11:26.110638",
     "exception": false,
     "start_time": "2021-03-17T00:11:26.060808",
     "status": "completed"
    },
    "tags": []
   },
   "outputs": [],
   "source": [
    "# hide\n",
    "# g['date'] = g['date'].astype('datetime64[ns]')"
   ]
  },
  {
   "cell_type": "code",
   "execution_count": 34,
   "id": "sophisticated-supervisor",
   "metadata": {
    "execution": {
     "iopub.execute_input": "2021-03-17T00:11:26.196668Z",
     "iopub.status.busy": "2021-03-17T00:11:26.195916Z",
     "iopub.status.idle": "2021-03-17T00:11:26.198200Z",
     "shell.execute_reply": "2021-03-17T00:11:26.198743Z"
    },
    "papermill": {
     "duration": 0.047434,
     "end_time": "2021-03-17T00:11:26.198921",
     "exception": false,
     "start_time": "2021-03-17T00:11:26.151487",
     "status": "completed"
    },
    "tags": []
   },
   "outputs": [],
   "source": [
    "#hide\n",
    "# g['date'] = g.date.dt.dayofyear"
   ]
  },
  {
   "cell_type": "code",
   "execution_count": 35,
   "id": "inside-dubai",
   "metadata": {
    "execution": {
     "iopub.execute_input": "2021-03-17T00:11:26.283828Z",
     "iopub.status.busy": "2021-03-17T00:11:26.283200Z",
     "iopub.status.idle": "2021-03-17T00:11:26.285747Z",
     "shell.execute_reply": "2021-03-17T00:11:26.285049Z"
    },
    "papermill": {
     "duration": 0.046537,
     "end_time": "2021-03-17T00:11:26.285937",
     "exception": false,
     "start_time": "2021-03-17T00:11:26.239400",
     "status": "completed"
    },
    "tags": []
   },
   "outputs": [],
   "source": [
    "#hide\n",
    "# g = g.rename(columns= {'continent':'group','country':'name','cases':'value'})"
   ]
  },
  {
   "cell_type": "code",
   "execution_count": 36,
   "id": "fleet-motorcycle",
   "metadata": {
    "execution": {
     "iopub.execute_input": "2021-03-17T00:11:26.371722Z",
     "iopub.status.busy": "2021-03-17T00:11:26.370889Z",
     "iopub.status.idle": "2021-03-17T00:11:26.374143Z",
     "shell.execute_reply": "2021-03-17T00:11:26.374865Z"
    },
    "papermill": {
     "duration": 0.04899,
     "end_time": "2021-03-17T00:11:26.375028",
     "exception": false,
     "start_time": "2021-03-17T00:11:26.326038",
     "status": "completed"
    },
    "tags": []
   },
   "outputs": [],
   "source": [
    "#hide\n",
    "# cols = ['name','group','day','value']"
   ]
  },
  {
   "cell_type": "code",
   "execution_count": 37,
   "id": "continued-sleeping",
   "metadata": {
    "execution": {
     "iopub.execute_input": "2021-03-17T00:11:26.464235Z",
     "iopub.status.busy": "2021-03-17T00:11:26.463498Z",
     "iopub.status.idle": "2021-03-17T00:11:26.465549Z",
     "shell.execute_reply": "2021-03-17T00:11:26.466085Z"
    },
    "papermill": {
     "duration": 0.049419,
     "end_time": "2021-03-17T00:11:26.466244",
     "exception": false,
     "start_time": "2021-03-17T00:11:26.416825",
     "status": "completed"
    },
    "tags": []
   },
   "outputs": [],
   "source": [
    "#hide\n",
    "# g.rename(columns= {'date':'day'},inplace = True)"
   ]
  },
  {
   "cell_type": "code",
   "execution_count": 38,
   "id": "major-fight",
   "metadata": {
    "execution": {
     "iopub.execute_input": "2021-03-17T00:11:26.555645Z",
     "iopub.status.busy": "2021-03-17T00:11:26.554915Z",
     "iopub.status.idle": "2021-03-17T00:11:26.561996Z",
     "shell.execute_reply": "2021-03-17T00:11:26.562662Z"
    },
    "papermill": {
     "duration": 0.056307,
     "end_time": "2021-03-17T00:11:26.563015",
     "exception": false,
     "start_time": "2021-03-17T00:11:26.506708",
     "status": "completed"
    },
    "tags": []
   },
   "outputs": [],
   "source": [
    "#hide\n",
    "# g = g[cols]"
   ]
  },
  {
   "cell_type": "code",
   "execution_count": 39,
   "id": "structured-mobile",
   "metadata": {
    "execution": {
     "iopub.execute_input": "2021-03-17T00:11:26.650172Z",
     "iopub.status.busy": "2021-03-17T00:11:26.649433Z",
     "iopub.status.idle": "2021-03-17T00:11:26.652061Z",
     "shell.execute_reply": "2021-03-17T00:11:26.651265Z"
    },
    "papermill": {
     "duration": 0.046908,
     "end_time": "2021-03-17T00:11:26.652210",
     "exception": false,
     "start_time": "2021-03-17T00:11:26.605302",
     "status": "completed"
    },
    "tags": []
   },
   "outputs": [],
   "source": [
    "# #hide\n",
    "# g = g[g.group.notna()]"
   ]
  },
  {
   "cell_type": "code",
   "execution_count": 40,
   "id": "determined-closing",
   "metadata": {
    "execution": {
     "iopub.execute_input": "2021-03-17T00:11:26.739892Z",
     "iopub.status.busy": "2021-03-17T00:11:26.739224Z",
     "iopub.status.idle": "2021-03-17T00:11:26.741868Z",
     "shell.execute_reply": "2021-03-17T00:11:26.741347Z"
    },
    "papermill": {
     "duration": 0.048082,
     "end_time": "2021-03-17T00:11:26.742028",
     "exception": false,
     "start_time": "2021-03-17T00:11:26.693946",
     "status": "completed"
    },
    "tags": []
   },
   "outputs": [],
   "source": [
    "# #hide\n",
    "# colors = dict(zip(\n",
    "#     [\"Oceania\", \"Europe\", \"Asia\", \"South America\", \"Middle East\", \"North America\", \"Africa\"],\n",
    "#     [\"#adb0ff\", \"#ffb3ff\", \"#90d595\", \"#e48381\", \"#aafbff\", \"#f7bb5f\", \"#eafb50\"]\n",
    "# ))\n",
    "# group_lk = g.set_index('name')['group'].to_dict()"
   ]
  },
  {
   "cell_type": "code",
   "execution_count": null,
   "id": "gross-drinking",
   "metadata": {
    "papermill": {
     "duration": 0.040166,
     "end_time": "2021-03-17T00:11:26.822686",
     "exception": false,
     "start_time": "2021-03-17T00:11:26.782520",
     "status": "completed"
    },
    "tags": []
   },
   "outputs": [],
   "source": []
  },
  {
   "cell_type": "code",
   "execution_count": 41,
   "id": "subject-macintosh",
   "metadata": {
    "execution": {
     "iopub.execute_input": "2021-03-17T00:11:26.909610Z",
     "iopub.status.busy": "2021-03-17T00:11:26.908919Z",
     "iopub.status.idle": "2021-03-17T00:11:26.911135Z",
     "shell.execute_reply": "2021-03-17T00:11:26.911693Z"
    },
    "papermill": {
     "duration": 0.049055,
     "end_time": "2021-03-17T00:11:26.911896",
     "exception": false,
     "start_time": "2021-03-17T00:11:26.862841",
     "status": "completed"
    },
    "tags": []
   },
   "outputs": [],
   "source": [
    "# #hide\n",
    "# fig, ax = plt.subplots(figsize=(15, 8))\n",
    "\n",
    "# def draw_barchart(current_day):\n",
    "#     dff = g[g['day'].eq(current_day)].sort_values(by='value', ascending=True).tail(10)\n",
    "#     ax.clear()\n",
    "#     ax.barh(dff['name'], dff['value'], color=[colors[group_lk[x]] for x in dff['name']])\n",
    "#     dx = dff['value'].max() / 200\n",
    "    \n",
    "#     for i, (value, name) in enumerate(zip(dff['value'], dff['name'])):\n",
    "#         ax.text(value-dx, i,     name,           size=14, weight=600, ha='right', va='bottom')\n",
    "#         ax.text(value-dx, i-.25, group_lk[name], size=10, color='#444444', ha='right', va='baseline')\n",
    "#         ax.text(value+dx, i,     f'{value:,.0f}',  size=14, ha='left',  va='center')\n",
    "#     ax.text(1, 0.4, current_day, transform=ax.transAxes, color='#777777', size=46, ha='right', weight=800)\n",
    "#     ax.text(0, 1.06, 'Population (thousands)', transform=ax.transAxes, size=12, color='#777777')\n",
    "#     ax.xaxis.set_major_formatter(ticker.StrMethodFormatter('{x:,.0f}'))\n",
    "#     ax.xaxis.set_ticks_position('top')\n",
    "#     ax.tick_params(axis='x', colors='#777777', labelsize=12)\n",
    "#     ax.set_yticks([])\n",
    "#     ax.margins(0, 0.01)\n",
    "#     ax.grid(which='major', axis='x', linestyle='-')\n",
    "#     ax.set_axisbelow(True)\n",
    "    \n",
    "#     ax.text(0, 1.15, 'Coronavirus',\n",
    "#             transform=ax.transAxes, size=24, weight=600, ha='left', va='top')\n",
    "# #     ax.text(1, 0, 'by @pratapvardhan; credit @jburnmurdoch', transform=ax.transAxes, color='#777777', ha='right',\n",
    "# #             bbox=dict(facecolor='white', alpha=0.8, edgecolor='white'))\n",
    "#     plt.box(False)"
   ]
  },
  {
   "cell_type": "code",
   "execution_count": 42,
   "id": "sexual-wages",
   "metadata": {
    "execution": {
     "iopub.execute_input": "2021-03-17T00:11:26.998931Z",
     "iopub.status.busy": "2021-03-17T00:11:26.998276Z",
     "iopub.status.idle": "2021-03-17T00:11:27.000899Z",
     "shell.execute_reply": "2021-03-17T00:11:27.000301Z"
    },
    "papermill": {
     "duration": 0.047976,
     "end_time": "2021-03-17T00:11:27.001036",
     "exception": false,
     "start_time": "2021-03-17T00:11:26.953060",
     "status": "completed"
    },
    "tags": []
   },
   "outputs": [],
   "source": [
    "# #hide_input\n",
    "# fig, ax = plt.subplots(figsize=(15, 8))\n",
    "# animator = animation.FuncAnimation(fig, draw_barchart, frames=range(g.day.values.min(), g.day.values.max()))\n",
    "# HTML(animator.to_jshtml())\n",
    "# # or use animator.to_html5_video() or animator.save() "
   ]
  },
  {
   "cell_type": "code",
   "execution_count": null,
   "id": "australian-container",
   "metadata": {
    "papermill": {
     "duration": 0.04147,
     "end_time": "2021-03-17T00:11:27.082863",
     "exception": false,
     "start_time": "2021-03-17T00:11:27.041393",
     "status": "completed"
    },
    "tags": []
   },
   "outputs": [],
   "source": []
  },
  {
   "cell_type": "code",
   "execution_count": null,
   "id": "mediterranean-pontiac",
   "metadata": {
    "papermill": {
     "duration": 0.040463,
     "end_time": "2021-03-17T00:11:27.163688",
     "exception": false,
     "start_time": "2021-03-17T00:11:27.123225",
     "status": "completed"
    },
    "tags": []
   },
   "outputs": [],
   "source": []
  },
  {
   "cell_type": "code",
   "execution_count": null,
   "id": "aging-legislature",
   "metadata": {
    "papermill": {
     "duration": 0.041463,
     "end_time": "2021-03-17T00:11:27.245518",
     "exception": false,
     "start_time": "2021-03-17T00:11:27.204055",
     "status": "completed"
    },
    "tags": []
   },
   "outputs": [],
   "source": []
  }
 ],
 "metadata": {
  "kernelspec": {
   "display_name": "Python 3",
   "language": "python",
   "name": "python3"
  },
  "language_info": {
   "codemirror_mode": {
    "name": "ipython",
    "version": 3
   },
   "file_extension": ".py",
   "mimetype": "text/x-python",
   "name": "python",
   "nbconvert_exporter": "python",
   "pygments_lexer": "ipython3",
   "version": "3.6.13"
  },
  "papermill": {
   "duration": 7.277508,
   "end_time": "2021-03-17T00:11:27.593805",
   "environment_variables": {},
   "exception": null,
   "input_path": "2020-03-21-covid19exp.ipynb",
   "output_path": "2020-03-21-covid19exp.ipynb",
   "parameters": {},
   "start_time": "2021-03-17T00:11:20.316297",
   "version": "2.0.0"
  }
 },
 "nbformat": 4,
 "nbformat_minor": 5
}