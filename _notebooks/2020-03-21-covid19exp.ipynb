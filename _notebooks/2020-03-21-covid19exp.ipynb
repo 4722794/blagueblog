{
 "cells": [
  {
   "cell_type": "markdown",
   "id": "muslim-click",
   "metadata": {
    "papermill": {
     "duration": 0.037236,
     "end_time": "2022-01-06T12:13:43.218912",
     "exception": false,
     "start_time": "2022-01-06T12:13:43.181676",
     "status": "completed"
    },
    "tags": []
   },
   "source": [
    "# COVID-19 Case Race\n",
    "> A race chart to see rising cases around the world\n",
    "\n",
    "- author: Hargun Oberoi\n",
    "- image: images/covid-overview.png\n",
    "- hide: false\n",
    "- badges: false"
   ]
  },
  {
   "cell_type": "code",
   "execution_count": 1,
   "id": "proof-material",
   "metadata": {
    "execution": {
     "iopub.execute_input": "2022-01-06T12:13:43.297167Z",
     "iopub.status.busy": "2022-01-06T12:13:43.296299Z",
     "iopub.status.idle": "2022-01-06T12:13:43.662997Z",
     "shell.execute_reply": "2022-01-06T12:13:43.663471Z"
    },
    "papermill": {
     "duration": 0.411857,
     "end_time": "2022-01-06T12:13:43.663652",
     "exception": false,
     "start_time": "2022-01-06T12:13:43.251795",
     "status": "completed"
    },
    "tags": []
   },
   "outputs": [],
   "source": [
    "#hide\n",
    "import numpy as np\n",
    "import pandas as pd\n",
    "from jinja2 import Template\n",
    "from IPython.display import HTML"
   ]
  },
  {
   "cell_type": "code",
   "execution_count": 2,
   "id": "developed-terminology",
   "metadata": {
    "execution": {
     "iopub.execute_input": "2022-01-06T12:13:43.739603Z",
     "iopub.status.busy": "2022-01-06T12:13:43.738986Z",
     "iopub.status.idle": "2022-01-06T12:13:43.741868Z",
     "shell.execute_reply": "2022-01-06T12:13:43.741399Z"
    },
    "papermill": {
     "duration": 0.04254,
     "end_time": "2022-01-06T12:13:43.741986",
     "exception": false,
     "start_time": "2022-01-06T12:13:43.699446",
     "status": "completed"
    },
    "tags": []
   },
   "outputs": [],
   "source": [
    "#hide\n",
    "\n",
    "# FETCH\n",
    "base_url = 'https://raw.githubusercontent.com/pratapvardhan/notebooks/master/covid19/'\n",
    "paths = {\n",
    "    'mapping': base_url + 'mapping_countries.csv',\n",
    "    'overview': base_url + 'overview.tpl'\n",
    "}"
   ]
  },
  {
   "cell_type": "code",
   "execution_count": 3,
   "id": "dynamic-saver",
   "metadata": {
    "execution": {
     "iopub.execute_input": "2022-01-06T12:13:43.820090Z",
     "iopub.status.busy": "2022-01-06T12:13:43.819491Z",
     "iopub.status.idle": "2022-01-06T12:13:43.823246Z",
     "shell.execute_reply": "2022-01-06T12:13:43.822503Z"
    },
    "papermill": {
     "duration": 0.048181,
     "end_time": "2022-01-06T12:13:43.823422",
     "exception": false,
     "start_time": "2022-01-06T12:13:43.775241",
     "status": "completed"
    },
    "tags": []
   },
   "outputs": [
    {
     "data": {
      "text/plain": [
       "'https://raw.githubusercontent.com/pratapvardhan/notebooks/master/covid19/mapping_countries.csv'"
      ]
     },
     "execution_count": 3,
     "metadata": {},
     "output_type": "execute_result"
    }
   ],
   "source": [
    "#hide\n",
    "paths['mapping']"
   ]
  },
  {
   "cell_type": "code",
   "execution_count": 4,
   "id": "urban-software",
   "metadata": {
    "execution": {
     "iopub.execute_input": "2022-01-06T12:13:43.897722Z",
     "iopub.status.busy": "2022-01-06T12:13:43.897009Z",
     "iopub.status.idle": "2022-01-06T12:13:43.899213Z",
     "shell.execute_reply": "2022-01-06T12:13:43.899774Z"
    },
    "papermill": {
     "duration": 0.042237,
     "end_time": "2022-01-06T12:13:43.899904",
     "exception": false,
     "start_time": "2022-01-06T12:13:43.857667",
     "status": "completed"
    },
    "tags": []
   },
   "outputs": [],
   "source": [
    "#hide\n",
    "def get_mappings(url):\n",
    "    df = pd.read_csv(url)\n",
    "    return {\n",
    "        'df': df,\n",
    "        'replace.country': dict(df.dropna(subset=['Name']).set_index('Country')['Name']),\n",
    "        'map.continent': dict(df.set_index('Name')['Continent'])\n",
    "    }"
   ]
  },
  {
   "cell_type": "code",
   "execution_count": 5,
   "id": "intimate-machinery",
   "metadata": {
    "execution": {
     "iopub.execute_input": "2022-01-06T12:13:43.978120Z",
     "iopub.status.busy": "2022-01-06T12:13:43.977531Z",
     "iopub.status.idle": "2022-01-06T12:13:44.015962Z",
     "shell.execute_reply": "2022-01-06T12:13:44.016469Z"
    },
    "papermill": {
     "duration": 0.082772,
     "end_time": "2022-01-06T12:13:44.016616",
     "exception": false,
     "start_time": "2022-01-06T12:13:43.933844",
     "status": "completed"
    },
    "tags": []
   },
   "outputs": [],
   "source": [
    "#hide\n",
    "mapping = get_mappings(paths['mapping'])"
   ]
  },
  {
   "cell_type": "code",
   "execution_count": 6,
   "id": "certified-tactics",
   "metadata": {
    "execution": {
     "iopub.execute_input": "2022-01-06T12:13:44.095055Z",
     "iopub.status.busy": "2022-01-06T12:13:44.094155Z",
     "iopub.status.idle": "2022-01-06T12:13:44.097154Z",
     "shell.execute_reply": "2022-01-06T12:13:44.096427Z"
    },
    "papermill": {
     "duration": 0.046716,
     "end_time": "2022-01-06T12:13:44.097358",
     "exception": false,
     "start_time": "2022-01-06T12:13:44.050642",
     "status": "completed"
    },
    "tags": []
   },
   "outputs": [],
   "source": [
    "#hide\n",
    "def get_template(path):\n",
    "    from urllib.parse import urlparse\n",
    "    if bool(urlparse(path).netloc):\n",
    "        from urllib.request import urlopen\n",
    "        return urlopen(path).read().decode('utf8')\n",
    "    return open(path).read()"
   ]
  },
  {
   "cell_type": "code",
   "execution_count": 7,
   "id": "realistic-blast",
   "metadata": {
    "execution": {
     "iopub.execute_input": "2022-01-06T12:13:44.177240Z",
     "iopub.status.busy": "2022-01-06T12:13:44.176511Z",
     "iopub.status.idle": "2022-01-06T12:13:44.180100Z",
     "shell.execute_reply": "2022-01-06T12:13:44.179587Z"
    },
    "papermill": {
     "duration": 0.042873,
     "end_time": "2022-01-06T12:13:44.180224",
     "exception": false,
     "start_time": "2022-01-06T12:13:44.137351",
     "status": "completed"
    },
    "tags": []
   },
   "outputs": [],
   "source": [
    "#hide\n",
    "def get_frame(name):\n",
    "    url = (\n",
    "        'https://raw.githubusercontent.com/CSSEGISandData/COVID-19/master/csse_covid_19_data/'\n",
    "        f'csse_covid_19_time_series/time_series_covid19_{name}_global.csv')\n",
    "    df = pd.read_csv(url)\n",
    "    # rename countries\n",
    "    df['Country/Region'] = df['Country/Region'].replace(mapping['replace.country'])\n",
    "    return df"
   ]
  },
  {
   "cell_type": "code",
   "execution_count": 8,
   "id": "affiliated-characterization",
   "metadata": {
    "execution": {
     "iopub.execute_input": "2022-01-06T12:13:44.256539Z",
     "iopub.status.busy": "2022-01-06T12:13:44.255687Z",
     "iopub.status.idle": "2022-01-06T12:13:44.258122Z",
     "shell.execute_reply": "2022-01-06T12:13:44.258617Z"
    },
    "papermill": {
     "duration": 0.042898,
     "end_time": "2022-01-06T12:13:44.258751",
     "exception": false,
     "start_time": "2022-01-06T12:13:44.215853",
     "status": "completed"
    },
    "tags": []
   },
   "outputs": [],
   "source": [
    "#hide\n",
    "def get_dates(df):\n",
    "    dt_cols = df.columns[~df.columns.isin(['Province/State', 'Country/Region', 'Lat', 'Long'])]\n",
    "    LAST_DATE_I = -1\n",
    "    # sometimes last column may be empty, then go backwards\n",
    "    for i in range(-1, -len(dt_cols), -1):\n",
    "        if not df[dt_cols[i]].fillna(0).eq(0).all():\n",
    "            LAST_DATE_I = i\n",
    "            break\n",
    "    return LAST_DATE_I, dt_cols"
   ]
  },
  {
   "cell_type": "code",
   "execution_count": 9,
   "id": "recent-optimization",
   "metadata": {
    "execution": {
     "iopub.execute_input": "2022-01-06T12:13:44.333462Z",
     "iopub.status.busy": "2022-01-06T12:13:44.332753Z",
     "iopub.status.idle": "2022-01-06T12:13:44.759728Z",
     "shell.execute_reply": "2022-01-06T12:13:44.758599Z"
    },
    "papermill": {
     "duration": 0.467719,
     "end_time": "2022-01-06T12:13:44.759866",
     "exception": false,
     "start_time": "2022-01-06T12:13:44.292147",
     "status": "completed"
    },
    "tags": []
   },
   "outputs": [],
   "source": [
    "#hide\n",
    "COL_REGION = 'Country/Region'\n",
    "# Confirmed, Recovered, Deaths\n",
    "df = get_frame('confirmed')\n",
    "# dft_: timeseries, dfc_: today country agg\n",
    "dft_cases = df\n",
    "dft_deaths = get_frame('deaths')\n",
    "dft_recovered = get_frame('recovered')\n",
    "LAST_DATE_I, dt_cols = get_dates(df)"
   ]
  },
  {
   "cell_type": "code",
   "execution_count": 10,
   "id": "absolute-copper",
   "metadata": {
    "execution": {
     "iopub.execute_input": "2022-01-06T12:13:44.836059Z",
     "iopub.status.busy": "2022-01-06T12:13:44.835465Z",
     "iopub.status.idle": "2022-01-06T12:13:44.837737Z",
     "shell.execute_reply": "2022-01-06T12:13:44.837098Z"
    },
    "papermill": {
     "duration": 0.042497,
     "end_time": "2022-01-06T12:13:44.837864",
     "exception": false,
     "start_time": "2022-01-06T12:13:44.795367",
     "status": "completed"
    },
    "tags": []
   },
   "outputs": [],
   "source": [
    "#hide\n",
    "LAST_DATE_I, dt_cols = get_dates(df)\n",
    "dt_today =dt_cols[LAST_DATE_I]\n",
    "# dt_5day = dt_cols[LAST_DATE_I - 5]\n",
    "dt_yday = dt_cols[LAST_DATE_I - 1]"
   ]
  },
  {
   "cell_type": "code",
   "execution_count": 11,
   "id": "restricted-sheriff",
   "metadata": {
    "execution": {
     "iopub.execute_input": "2022-01-06T12:13:44.913793Z",
     "iopub.status.busy": "2022-01-06T12:13:44.913065Z",
     "iopub.status.idle": "2022-01-06T12:13:44.921453Z",
     "shell.execute_reply": "2022-01-06T12:13:44.922043Z"
    },
    "papermill": {
     "duration": 0.050217,
     "end_time": "2022-01-06T12:13:44.922181",
     "exception": false,
     "start_time": "2022-01-06T12:13:44.871964",
     "status": "completed"
    },
    "tags": []
   },
   "outputs": [],
   "source": [
    "#hide\n",
    "dfc_cases = dft_cases.groupby(COL_REGION)[dt_today].sum()\n",
    "dfc_deaths = dft_deaths.groupby(COL_REGION)[dt_today].sum()\n",
    "# dfp_cases = dft_cases.groupby(COL_REGION)[dt_5day].sum()\n",
    "# dfp_deaths = dft_deaths.groupby(COL_REGION)[dt_5day].sum()\n",
    "dfp_cases = dft_cases.groupby(COL_REGION)[dt_yday].sum()\n",
    "dfp_deaths = dft_deaths.groupby(COL_REGION)[dt_yday].sum()"
   ]
  },
  {
   "cell_type": "code",
   "execution_count": 12,
   "id": "deluxe-hepatitis",
   "metadata": {
    "execution": {
     "iopub.execute_input": "2022-01-06T12:13:44.998978Z",
     "iopub.status.busy": "2022-01-06T12:13:44.998354Z",
     "iopub.status.idle": "2022-01-06T12:13:45.003060Z",
     "shell.execute_reply": "2022-01-06T12:13:45.004095Z"
    },
    "papermill": {
     "duration": 0.046991,
     "end_time": "2022-01-06T12:13:45.004313",
     "exception": false,
     "start_time": "2022-01-06T12:13:44.957322",
     "status": "completed"
    },
    "tags": []
   },
   "outputs": [],
   "source": [
    "#hide\n",
    "df_table = (pd.DataFrame(dict(Cases = dfc_cases, Deaths = dfc_deaths, PCases = dfp_cases, PDeaths = dfp_deaths))\n",
    "            .sort_values(by = ['Cases','Deaths'], ascending = [False, False])\n",
    "            .reset_index())"
   ]
  },
  {
   "cell_type": "code",
   "execution_count": 13,
   "id": "educational-chancellor",
   "metadata": {
    "execution": {
     "iopub.execute_input": "2022-01-06T12:13:45.092873Z",
     "iopub.status.busy": "2022-01-06T12:13:45.092261Z",
     "iopub.status.idle": "2022-01-06T12:13:45.100213Z",
     "shell.execute_reply": "2022-01-06T12:13:45.100813Z"
    },
    "papermill": {
     "duration": 0.063678,
     "end_time": "2022-01-06T12:13:45.100961",
     "exception": false,
     "start_time": "2022-01-06T12:13:45.037283",
     "status": "completed"
    },
    "tags": []
   },
   "outputs": [
    {
     "data": {
      "text/html": [
       "<div>\n",
       "<style scoped>\n",
       "    .dataframe tbody tr th:only-of-type {\n",
       "        vertical-align: middle;\n",
       "    }\n",
       "\n",
       "    .dataframe tbody tr th {\n",
       "        vertical-align: top;\n",
       "    }\n",
       "\n",
       "    .dataframe thead th {\n",
       "        text-align: right;\n",
       "    }\n",
       "</style>\n",
       "<table border=\"1\" class=\"dataframe\">\n",
       "  <thead>\n",
       "    <tr style=\"text-align: right;\">\n",
       "      <th></th>\n",
       "      <th>Country/Region</th>\n",
       "      <th>Cases</th>\n",
       "      <th>Deaths</th>\n",
       "      <th>PCases</th>\n",
       "      <th>PDeaths</th>\n",
       "      <th>Cases (+)</th>\n",
       "      <th>Deaths (+)</th>\n",
       "      <th>Fatality Rate</th>\n",
       "      <th>Continent</th>\n",
       "    </tr>\n",
       "  </thead>\n",
       "  <tbody>\n",
       "    <tr>\n",
       "      <th>0</th>\n",
       "      <td>US</td>\n",
       "      <td>57702394</td>\n",
       "      <td>832118</td>\n",
       "      <td>57058734</td>\n",
       "      <td>830132</td>\n",
       "      <td>643660</td>\n",
       "      <td>1986</td>\n",
       "      <td>1.44</td>\n",
       "      <td>North America</td>\n",
       "    </tr>\n",
       "    <tr>\n",
       "      <th>1</th>\n",
       "      <td>India</td>\n",
       "      <td>35109286</td>\n",
       "      <td>482876</td>\n",
       "      <td>35018358</td>\n",
       "      <td>482551</td>\n",
       "      <td>90928</td>\n",
       "      <td>325</td>\n",
       "      <td>1.38</td>\n",
       "      <td>Asia</td>\n",
       "    </tr>\n",
       "    <tr>\n",
       "      <th>2</th>\n",
       "      <td>Brazil</td>\n",
       "      <td>22328252</td>\n",
       "      <td>619654</td>\n",
       "      <td>22328252</td>\n",
       "      <td>619654</td>\n",
       "      <td>0</td>\n",
       "      <td>0</td>\n",
       "      <td>2.78</td>\n",
       "      <td>South America</td>\n",
       "    </tr>\n",
       "    <tr>\n",
       "      <th>3</th>\n",
       "      <td>United Kingdom</td>\n",
       "      <td>13918510</td>\n",
       "      <td>149761</td>\n",
       "      <td>13723275</td>\n",
       "      <td>149417</td>\n",
       "      <td>195235</td>\n",
       "      <td>344</td>\n",
       "      <td>1.08</td>\n",
       "      <td>Europe</td>\n",
       "    </tr>\n",
       "    <tr>\n",
       "      <th>4</th>\n",
       "      <td>France</td>\n",
       "      <td>11027112</td>\n",
       "      <td>125797</td>\n",
       "      <td>10694804</td>\n",
       "      <td>125551</td>\n",
       "      <td>332308</td>\n",
       "      <td>246</td>\n",
       "      <td>1.14</td>\n",
       "      <td>Europe</td>\n",
       "    </tr>\n",
       "  </tbody>\n",
       "</table>\n",
       "</div>"
      ],
      "text/plain": [
       "   Country/Region     Cases  Deaths    PCases  PDeaths  Cases (+)  Deaths (+)  \\\n",
       "0              US  57702394  832118  57058734   830132     643660        1986   \n",
       "1           India  35109286  482876  35018358   482551      90928         325   \n",
       "2          Brazil  22328252  619654  22328252   619654          0           0   \n",
       "3  United Kingdom  13918510  149761  13723275   149417     195235         344   \n",
       "4          France  11027112  125797  10694804   125551     332308         246   \n",
       "\n",
       "   Fatality Rate      Continent  \n",
       "0           1.44  North America  \n",
       "1           1.38           Asia  \n",
       "2           2.78  South America  \n",
       "3           1.08         Europe  \n",
       "4           1.14         Europe  "
      ]
     },
     "execution_count": 13,
     "metadata": {},
     "output_type": "execute_result"
    }
   ],
   "source": [
    "#hide\n",
    "for c in 'Cases, Deaths'.split(', '):\n",
    "    df_table[f'{c} (+)'] = (df_table[c] - df_table[f'P{c}']).clip(0)\n",
    "    #Clip ça veut dire, les chiffres negatif sont interdit\n",
    "df_table['Fatality Rate'] = (100* df_table['Deaths']/ df_table['Cases']).round(2)\n",
    "df_table['Continent'] = df_table['Country/Region'].map(mapping['map.continent'])\n",
    "df_table.head(5)"
   ]
  },
  {
   "cell_type": "code",
   "execution_count": 14,
   "id": "aboriginal-bulgaria",
   "metadata": {
    "execution": {
     "iopub.execute_input": "2022-01-06T12:13:45.177221Z",
     "iopub.status.busy": "2022-01-06T12:13:45.176592Z",
     "iopub.status.idle": "2022-01-06T12:13:45.178873Z",
     "shell.execute_reply": "2022-01-06T12:13:45.179360Z"
    },
    "papermill": {
     "duration": 0.042663,
     "end_time": "2022-01-06T12:13:45.179509",
     "exception": false,
     "start_time": "2022-01-06T12:13:45.136846",
     "status": "completed"
    },
    "tags": []
   },
   "outputs": [],
   "source": [
    "#hide\n",
    "#delete problematic countries from table\n",
    "df_table = df_table[~df_table['Country/Region'].isin(['Cape Verde', 'Cruise Ship', 'Kosovo'])]"
   ]
  },
  {
   "cell_type": "code",
   "execution_count": 15,
   "id": "fantastic-effect",
   "metadata": {
    "execution": {
     "iopub.execute_input": "2022-01-06T12:13:45.258305Z",
     "iopub.status.busy": "2022-01-06T12:13:45.257558Z",
     "iopub.status.idle": "2022-01-06T12:13:45.278406Z",
     "shell.execute_reply": "2022-01-06T12:13:45.277906Z"
    },
    "papermill": {
     "duration": 0.064007,
     "end_time": "2022-01-06T12:13:45.278532",
     "exception": false,
     "start_time": "2022-01-06T12:13:45.214525",
     "status": "completed"
    },
    "tags": []
   },
   "outputs": [
    {
     "data": {
      "text/html": [
       "<div>\n",
       "<style scoped>\n",
       "    .dataframe tbody tr th:only-of-type {\n",
       "        vertical-align: middle;\n",
       "    }\n",
       "\n",
       "    .dataframe tbody tr th {\n",
       "        vertical-align: top;\n",
       "    }\n",
       "\n",
       "    .dataframe thead th {\n",
       "        text-align: right;\n",
       "    }\n",
       "</style>\n",
       "<table border=\"1\" class=\"dataframe\">\n",
       "  <thead>\n",
       "    <tr style=\"text-align: right;\">\n",
       "      <th></th>\n",
       "      <th>Country/Region</th>\n",
       "      <th>Cases</th>\n",
       "      <th>Deaths</th>\n",
       "      <th>PCases</th>\n",
       "      <th>PDeaths</th>\n",
       "      <th>Cases (+)</th>\n",
       "      <th>Deaths (+)</th>\n",
       "      <th>Fatality Rate</th>\n",
       "      <th>Continent</th>\n",
       "    </tr>\n",
       "  </thead>\n",
       "  <tbody>\n",
       "    <tr>\n",
       "      <th>0</th>\n",
       "      <td>US</td>\n",
       "      <td>57702394</td>\n",
       "      <td>832118</td>\n",
       "      <td>57058734</td>\n",
       "      <td>830132</td>\n",
       "      <td>643660</td>\n",
       "      <td>1986</td>\n",
       "      <td>1.4</td>\n",
       "      <td>North America</td>\n",
       "    </tr>\n",
       "    <tr>\n",
       "      <th>1</th>\n",
       "      <td>India</td>\n",
       "      <td>35109286</td>\n",
       "      <td>482876</td>\n",
       "      <td>35018358</td>\n",
       "      <td>482551</td>\n",
       "      <td>90928</td>\n",
       "      <td>325</td>\n",
       "      <td>1.4</td>\n",
       "      <td>Asia</td>\n",
       "    </tr>\n",
       "    <tr>\n",
       "      <th>2</th>\n",
       "      <td>Brazil</td>\n",
       "      <td>22328252</td>\n",
       "      <td>619654</td>\n",
       "      <td>22328252</td>\n",
       "      <td>619654</td>\n",
       "      <td>0</td>\n",
       "      <td>0</td>\n",
       "      <td>2.8</td>\n",
       "      <td>South America</td>\n",
       "    </tr>\n",
       "    <tr>\n",
       "      <th>3</th>\n",
       "      <td>United Kingdom</td>\n",
       "      <td>13918510</td>\n",
       "      <td>149761</td>\n",
       "      <td>13723275</td>\n",
       "      <td>149417</td>\n",
       "      <td>195235</td>\n",
       "      <td>344</td>\n",
       "      <td>1.1</td>\n",
       "      <td>Europe</td>\n",
       "    </tr>\n",
       "    <tr>\n",
       "      <th>4</th>\n",
       "      <td>France</td>\n",
       "      <td>11027112</td>\n",
       "      <td>125797</td>\n",
       "      <td>10694804</td>\n",
       "      <td>125551</td>\n",
       "      <td>332308</td>\n",
       "      <td>246</td>\n",
       "      <td>1.1</td>\n",
       "      <td>Europe</td>\n",
       "    </tr>\n",
       "  </tbody>\n",
       "</table>\n",
       "</div>"
      ],
      "text/plain": [
       "   Country/Region     Cases  Deaths    PCases  PDeaths  Cases (+)  Deaths (+)  \\\n",
       "0              US  57702394  832118  57058734   830132     643660        1986   \n",
       "1           India  35109286  482876  35018358   482551      90928         325   \n",
       "2          Brazil  22328252  619654  22328252   619654          0           0   \n",
       "3  United Kingdom  13918510  149761  13723275   149417     195235         344   \n",
       "4          France  11027112  125797  10694804   125551     332308         246   \n",
       "\n",
       "   Fatality Rate      Continent  \n",
       "0            1.4  North America  \n",
       "1            1.4           Asia  \n",
       "2            2.8  South America  \n",
       "3            1.1         Europe  \n",
       "4            1.1         Europe  "
      ]
     },
     "execution_count": 15,
     "metadata": {},
     "output_type": "execute_result"
    }
   ],
   "source": [
    "#hide\n",
    "df_table = (pd.DataFrame(dict(Cases=dfc_cases, Deaths=dfc_deaths, PCases=dfp_cases, PDeaths=dfp_deaths))\n",
    "             .sort_values(by=['Cases', 'Deaths'], ascending=[False, False])\n",
    "             .reset_index())\n",
    "df_table.rename(columns={'index': 'Country/Region'}, inplace=True)\n",
    "for c in 'Cases, Deaths'.split(', '):\n",
    "    df_table[f'{c} (+)'] = (df_table[c] - df_table[f'P{c}']).clip(0)  # DATA BUG\n",
    "df_table['Fatality Rate'] = (100 * df_table['Deaths'] / df_table['Cases']).round(1)\n",
    "df_table['Continent'] = df_table['Country/Region'].map(mapping['map.continent'])\n",
    "df_table.head(5)"
   ]
  },
  {
   "cell_type": "code",
   "execution_count": 16,
   "id": "fewer-occasion",
   "metadata": {
    "execution": {
     "iopub.execute_input": "2022-01-06T12:13:45.355656Z",
     "iopub.status.busy": "2022-01-06T12:13:45.355003Z",
     "iopub.status.idle": "2022-01-06T12:13:45.358030Z",
     "shell.execute_reply": "2022-01-06T12:13:45.358522Z"
    },
    "papermill": {
     "duration": 0.044146,
     "end_time": "2022-01-06T12:13:45.358657",
     "exception": false,
     "start_time": "2022-01-06T12:13:45.314511",
     "status": "completed"
    },
    "tags": []
   },
   "outputs": [],
   "source": [
    "#hide\n",
    "#delete problematic countries from table\n",
    "df_table = df_table[~df_table['Country/Region'].isin(['Cape Verde', 'Cruise Ship', 'Kosovo'])]"
   ]
  },
  {
   "cell_type": "code",
   "execution_count": 17,
   "id": "related-center",
   "metadata": {
    "execution": {
     "iopub.execute_input": "2022-01-06T12:13:45.449411Z",
     "iopub.status.busy": "2022-01-06T12:13:45.448732Z",
     "iopub.status.idle": "2022-01-06T12:13:45.451048Z",
     "shell.execute_reply": "2022-01-06T12:13:45.451498Z"
    },
    "papermill": {
     "duration": 0.059414,
     "end_time": "2022-01-06T12:13:45.451651",
     "exception": false,
     "start_time": "2022-01-06T12:13:45.392237",
     "status": "completed"
    },
    "tags": []
   },
   "outputs": [],
   "source": [
    "#hide\n",
    "metrics = [df_table.columns[index] for index in [1,2,5,6]]\n",
    "# s_china = df_table[df_table['Country/Region'].eq('China')][metrics].sum().add_prefix('China ')\n",
    "s_us = df_table[df_table['Country/Region'].eq('US')][metrics].sum().add_prefix('US ')\n",
    "s_eu = df_table[df_table['Continent'].eq('Europe')][metrics].sum().add_prefix('EU ')\n",
    "s_ind = df_table[df_table['Country/Region'].eq('India')][metrics].sum().add_prefix('India ')\n",
    "summary = {'updated': pd.to_datetime(dt_today), 'since': pd.to_datetime(dt_yday)}\n",
    "summary = {'updated': pd.to_datetime(dt_today), 'since': pd.to_datetime(dt_yday)}\n",
    "summary = {**summary, **df_table[metrics].sum(), **s_ind, **s_us, **s_eu}"
   ]
  },
  {
   "cell_type": "code",
   "execution_count": 18,
   "id": "engaging-syndrome",
   "metadata": {
    "execution": {
     "iopub.execute_input": "2022-01-06T12:13:45.532427Z",
     "iopub.status.busy": "2022-01-06T12:13:45.531830Z",
     "iopub.status.idle": "2022-01-06T12:13:45.546809Z",
     "shell.execute_reply": "2022-01-06T12:13:45.547361Z"
    },
    "papermill": {
     "duration": 0.058113,
     "end_time": "2022-01-06T12:13:45.547512",
     "exception": false,
     "start_time": "2022-01-06T12:13:45.489399",
     "status": "completed"
    },
    "tags": []
   },
   "outputs": [],
   "source": [
    "#hide\n",
    "dft_ct_new_cases = dft_cases.groupby(COL_REGION)[dt_cols].sum().diff(axis=1).fillna(0).astype(int)"
   ]
  },
  {
   "cell_type": "code",
   "execution_count": 19,
   "id": "neutral-assignment",
   "metadata": {
    "execution": {
     "iopub.execute_input": "2022-01-06T12:13:45.627341Z",
     "iopub.status.busy": "2022-01-06T12:13:45.626732Z",
     "iopub.status.idle": "2022-01-06T12:13:45.629612Z",
     "shell.execute_reply": "2022-01-06T12:13:45.628912Z"
    },
    "papermill": {
     "duration": 0.044594,
     "end_time": "2022-01-06T12:13:45.629773",
     "exception": false,
     "start_time": "2022-01-06T12:13:45.585179",
     "status": "completed"
    },
    "tags": []
   },
   "outputs": [],
   "source": [
    "#hide\n",
    "everydaycases = dft_ct_new_cases.cumsum(axis=1)"
   ]
  },
  {
   "cell_type": "code",
   "execution_count": 20,
   "id": "parliamentary-calgary",
   "metadata": {
    "execution": {
     "iopub.execute_input": "2022-01-06T12:13:45.705879Z",
     "iopub.status.busy": "2022-01-06T12:13:45.705208Z",
     "iopub.status.idle": "2022-01-06T12:13:46.342665Z",
     "shell.execute_reply": "2022-01-06T12:13:46.342108Z"
    },
    "papermill": {
     "duration": 0.677357,
     "end_time": "2022-01-06T12:13:46.342844",
     "exception": false,
     "start_time": "2022-01-06T12:13:45.665487",
     "status": "completed"
    },
    "tags": []
   },
   "outputs": [],
   "source": [
    "#hide\n",
    "import pandas as pd\n",
    "import matplotlib.pyplot as plt\n",
    "import matplotlib.ticker as ticker\n",
    "import matplotlib.animation as animation\n",
    "from IPython.display import HTML"
   ]
  },
  {
   "cell_type": "code",
   "execution_count": 21,
   "id": "lasting-extraction",
   "metadata": {
    "execution": {
     "iopub.execute_input": "2022-01-06T12:13:46.421172Z",
     "iopub.status.busy": "2022-01-06T12:13:46.420558Z",
     "iopub.status.idle": "2022-01-06T12:13:46.426879Z",
     "shell.execute_reply": "2022-01-06T12:13:46.426297Z"
    },
    "papermill": {
     "duration": 0.048118,
     "end_time": "2022-01-06T12:13:46.427000",
     "exception": false,
     "start_time": "2022-01-06T12:13:46.378882",
     "status": "completed"
    },
    "tags": []
   },
   "outputs": [],
   "source": [
    "#hide\n",
    "t = everydaycases.stack()"
   ]
  },
  {
   "cell_type": "code",
   "execution_count": 22,
   "id": "premier-sleeve",
   "metadata": {
    "execution": {
     "iopub.execute_input": "2022-01-06T12:13:46.507839Z",
     "iopub.status.busy": "2022-01-06T12:13:46.506569Z",
     "iopub.status.idle": "2022-01-06T12:13:46.516294Z",
     "shell.execute_reply": "2022-01-06T12:13:46.517047Z"
    },
    "papermill": {
     "duration": 0.055032,
     "end_time": "2022-01-06T12:13:46.517231",
     "exception": false,
     "start_time": "2022-01-06T12:13:46.462199",
     "status": "completed"
    },
    "tags": []
   },
   "outputs": [],
   "source": [
    "#hide\n",
    "g = t.reset_index(['Country/Region'])"
   ]
  },
  {
   "cell_type": "code",
   "execution_count": 23,
   "id": "distributed-pittsburgh",
   "metadata": {
    "execution": {
     "iopub.execute_input": "2022-01-06T12:13:46.593202Z",
     "iopub.status.busy": "2022-01-06T12:13:46.592574Z",
     "iopub.status.idle": "2022-01-06T12:13:46.596031Z",
     "shell.execute_reply": "2022-01-06T12:13:46.595461Z"
    },
    "papermill": {
     "duration": 0.044024,
     "end_time": "2022-01-06T12:13:46.596154",
     "exception": false,
     "start_time": "2022-01-06T12:13:46.552130",
     "status": "completed"
    },
    "tags": []
   },
   "outputs": [],
   "source": [
    "#hide\n",
    "g.index.name = 'date'"
   ]
  },
  {
   "cell_type": "code",
   "execution_count": 24,
   "id": "naked-donor",
   "metadata": {
    "execution": {
     "iopub.execute_input": "2022-01-06T12:13:46.671389Z",
     "iopub.status.busy": "2022-01-06T12:13:46.670809Z",
     "iopub.status.idle": "2022-01-06T12:13:46.673185Z",
     "shell.execute_reply": "2022-01-06T12:13:46.672696Z"
    },
    "papermill": {
     "duration": 0.041478,
     "end_time": "2022-01-06T12:13:46.673307",
     "exception": false,
     "start_time": "2022-01-06T12:13:46.631829",
     "status": "completed"
    },
    "tags": []
   },
   "outputs": [],
   "source": [
    "# #hide\n",
    "# g = g.reset_index(['date'])"
   ]
  },
  {
   "cell_type": "code",
   "execution_count": 25,
   "id": "incomplete-mustang",
   "metadata": {
    "execution": {
     "iopub.execute_input": "2022-01-06T12:13:46.748936Z",
     "iopub.status.busy": "2022-01-06T12:13:46.748087Z",
     "iopub.status.idle": "2022-01-06T12:13:46.751669Z",
     "shell.execute_reply": "2022-01-06T12:13:46.752215Z"
    },
    "papermill": {
     "duration": 0.044456,
     "end_time": "2022-01-06T12:13:46.752406",
     "exception": false,
     "start_time": "2022-01-06T12:13:46.707950",
     "status": "completed"
    },
    "tags": []
   },
   "outputs": [],
   "source": [
    "#hide\n",
    "# g.head()"
   ]
  },
  {
   "cell_type": "code",
   "execution_count": 26,
   "id": "specific-kruger",
   "metadata": {
    "execution": {
     "iopub.execute_input": "2022-01-06T12:13:46.828487Z",
     "iopub.status.busy": "2022-01-06T12:13:46.827909Z",
     "iopub.status.idle": "2022-01-06T12:13:46.830396Z",
     "shell.execute_reply": "2022-01-06T12:13:46.829907Z"
    },
    "papermill": {
     "duration": 0.04123,
     "end_time": "2022-01-06T12:13:46.830515",
     "exception": false,
     "start_time": "2022-01-06T12:13:46.789285",
     "status": "completed"
    },
    "tags": []
   },
   "outputs": [],
   "source": [
    "#hide\n",
    "# g.columns = ['date','country','cases']"
   ]
  },
  {
   "cell_type": "code",
   "execution_count": 27,
   "id": "tender-conversion",
   "metadata": {
    "execution": {
     "iopub.execute_input": "2022-01-06T12:13:46.904476Z",
     "iopub.status.busy": "2022-01-06T12:13:46.903871Z",
     "iopub.status.idle": "2022-01-06T12:13:46.906492Z",
     "shell.execute_reply": "2022-01-06T12:13:46.905937Z"
    },
    "papermill": {
     "duration": 0.041299,
     "end_time": "2022-01-06T12:13:46.906632",
     "exception": false,
     "start_time": "2022-01-06T12:13:46.865333",
     "status": "completed"
    },
    "tags": []
   },
   "outputs": [],
   "source": [
    "#hide\n",
    "# g['continent'] = g.country"
   ]
  },
  {
   "cell_type": "code",
   "execution_count": 28,
   "id": "substantial-wilderness",
   "metadata": {
    "execution": {
     "iopub.execute_input": "2022-01-06T12:13:46.981032Z",
     "iopub.status.busy": "2022-01-06T12:13:46.980121Z",
     "iopub.status.idle": "2022-01-06T12:13:46.984017Z",
     "shell.execute_reply": "2022-01-06T12:13:46.984505Z"
    },
    "papermill": {
     "duration": 0.042886,
     "end_time": "2022-01-06T12:13:46.984646",
     "exception": false,
     "start_time": "2022-01-06T12:13:46.941760",
     "status": "completed"
    },
    "tags": []
   },
   "outputs": [],
   "source": [
    "#hide\n",
    "# cols = list(g.columns.values)"
   ]
  },
  {
   "cell_type": "code",
   "execution_count": 29,
   "id": "solved-farming",
   "metadata": {
    "execution": {
     "iopub.execute_input": "2022-01-06T12:13:47.062773Z",
     "iopub.status.busy": "2022-01-06T12:13:47.062011Z",
     "iopub.status.idle": "2022-01-06T12:13:47.065927Z",
     "shell.execute_reply": "2022-01-06T12:13:47.066424Z"
    },
    "papermill": {
     "duration": 0.045947,
     "end_time": "2022-01-06T12:13:47.066564",
     "exception": false,
     "start_time": "2022-01-06T12:13:47.020617",
     "status": "completed"
    },
    "tags": []
   },
   "outputs": [],
   "source": [
    "#hide\n",
    "# cols.insert(0, cols.pop())"
   ]
  },
  {
   "cell_type": "code",
   "execution_count": 30,
   "id": "executed-adoption",
   "metadata": {
    "execution": {
     "iopub.execute_input": "2022-01-06T12:13:47.140689Z",
     "iopub.status.busy": "2022-01-06T12:13:47.140017Z",
     "iopub.status.idle": "2022-01-06T12:13:47.143909Z",
     "shell.execute_reply": "2022-01-06T12:13:47.144404Z"
    },
    "papermill": {
     "duration": 0.042621,
     "end_time": "2022-01-06T12:13:47.144545",
     "exception": false,
     "start_time": "2022-01-06T12:13:47.101924",
     "status": "completed"
    },
    "tags": []
   },
   "outputs": [],
   "source": [
    "#hide\n",
    "# g = g[cols]"
   ]
  },
  {
   "cell_type": "code",
   "execution_count": 31,
   "id": "subject-dublin",
   "metadata": {
    "execution": {
     "iopub.execute_input": "2022-01-06T12:13:47.219101Z",
     "iopub.status.busy": "2022-01-06T12:13:47.218503Z",
     "iopub.status.idle": "2022-01-06T12:13:47.222081Z",
     "shell.execute_reply": "2022-01-06T12:13:47.222526Z"
    },
    "papermill": {
     "duration": 0.042639,
     "end_time": "2022-01-06T12:13:47.222667",
     "exception": false,
     "start_time": "2022-01-06T12:13:47.180028",
     "status": "completed"
    },
    "tags": []
   },
   "outputs": [],
   "source": [
    "#hide\n",
    "# g['continent'] = g['continent'].map(mapping['map.continent'])"
   ]
  },
  {
   "cell_type": "code",
   "execution_count": 32,
   "id": "freelance-scout",
   "metadata": {
    "execution": {
     "iopub.execute_input": "2022-01-06T12:13:47.297098Z",
     "iopub.status.busy": "2022-01-06T12:13:47.296369Z",
     "iopub.status.idle": "2022-01-06T12:13:47.298752Z",
     "shell.execute_reply": "2022-01-06T12:13:47.298265Z"
    },
    "papermill": {
     "duration": 0.041129,
     "end_time": "2022-01-06T12:13:47.298879",
     "exception": false,
     "start_time": "2022-01-06T12:13:47.257750",
     "status": "completed"
    },
    "tags": []
   },
   "outputs": [],
   "source": [
    "#hide\n",
    "# g.head()"
   ]
  },
  {
   "cell_type": "code",
   "execution_count": 33,
   "id": "limited-engine",
   "metadata": {
    "execution": {
     "iopub.execute_input": "2022-01-06T12:13:47.378940Z",
     "iopub.status.busy": "2022-01-06T12:13:47.378287Z",
     "iopub.status.idle": "2022-01-06T12:13:47.380689Z",
     "shell.execute_reply": "2022-01-06T12:13:47.380187Z"
    },
    "papermill": {
     "duration": 0.04129,
     "end_time": "2022-01-06T12:13:47.380809",
     "exception": false,
     "start_time": "2022-01-06T12:13:47.339519",
     "status": "completed"
    },
    "tags": []
   },
   "outputs": [],
   "source": [
    "# hide\n",
    "# g['date'] = g['date'].astype('datetime64[ns]')"
   ]
  },
  {
   "cell_type": "code",
   "execution_count": 34,
   "id": "sophisticated-supervisor",
   "metadata": {
    "execution": {
     "iopub.execute_input": "2022-01-06T12:13:47.456634Z",
     "iopub.status.busy": "2022-01-06T12:13:47.455919Z",
     "iopub.status.idle": "2022-01-06T12:13:47.458237Z",
     "shell.execute_reply": "2022-01-06T12:13:47.457758Z"
    },
    "papermill": {
     "duration": 0.04113,
     "end_time": "2022-01-06T12:13:47.458353",
     "exception": false,
     "start_time": "2022-01-06T12:13:47.417223",
     "status": "completed"
    },
    "tags": []
   },
   "outputs": [],
   "source": [
    "#hide\n",
    "# g['date'] = g.date.dt.dayofyear"
   ]
  },
  {
   "cell_type": "code",
   "execution_count": 35,
   "id": "inside-dubai",
   "metadata": {
    "execution": {
     "iopub.execute_input": "2022-01-06T12:13:47.532595Z",
     "iopub.status.busy": "2022-01-06T12:13:47.531983Z",
     "iopub.status.idle": "2022-01-06T12:13:47.535569Z",
     "shell.execute_reply": "2022-01-06T12:13:47.536052Z"
    },
    "papermill": {
     "duration": 0.042858,
     "end_time": "2022-01-06T12:13:47.536302",
     "exception": false,
     "start_time": "2022-01-06T12:13:47.493444",
     "status": "completed"
    },
    "tags": []
   },
   "outputs": [],
   "source": [
    "#hide\n",
    "# g = g.rename(columns= {'continent':'group','country':'name','cases':'value'})"
   ]
  },
  {
   "cell_type": "code",
   "execution_count": 36,
   "id": "fleet-motorcycle",
   "metadata": {
    "execution": {
     "iopub.execute_input": "2022-01-06T12:13:47.612584Z",
     "iopub.status.busy": "2022-01-06T12:13:47.611980Z",
     "iopub.status.idle": "2022-01-06T12:13:47.614363Z",
     "shell.execute_reply": "2022-01-06T12:13:47.613768Z"
    },
    "papermill": {
     "duration": 0.042141,
     "end_time": "2022-01-06T12:13:47.614490",
     "exception": false,
     "start_time": "2022-01-06T12:13:47.572349",
     "status": "completed"
    },
    "tags": []
   },
   "outputs": [],
   "source": [
    "#hide\n",
    "# cols = ['name','group','day','value']"
   ]
  },
  {
   "cell_type": "code",
   "execution_count": 37,
   "id": "continued-sleeping",
   "metadata": {
    "execution": {
     "iopub.execute_input": "2022-01-06T12:13:47.690764Z",
     "iopub.status.busy": "2022-01-06T12:13:47.690127Z",
     "iopub.status.idle": "2022-01-06T12:13:47.692141Z",
     "shell.execute_reply": "2022-01-06T12:13:47.692712Z"
    },
    "papermill": {
     "duration": 0.042714,
     "end_time": "2022-01-06T12:13:47.692873",
     "exception": false,
     "start_time": "2022-01-06T12:13:47.650159",
     "status": "completed"
    },
    "tags": []
   },
   "outputs": [],
   "source": [
    "#hide\n",
    "# g.rename(columns= {'date':'day'},inplace = True)"
   ]
  },
  {
   "cell_type": "code",
   "execution_count": 38,
   "id": "major-fight",
   "metadata": {
    "execution": {
     "iopub.execute_input": "2022-01-06T12:13:47.768192Z",
     "iopub.status.busy": "2022-01-06T12:13:47.767378Z",
     "iopub.status.idle": "2022-01-06T12:13:47.770112Z",
     "shell.execute_reply": "2022-01-06T12:13:47.769632Z"
    },
    "papermill": {
     "duration": 0.040817,
     "end_time": "2022-01-06T12:13:47.770235",
     "exception": false,
     "start_time": "2022-01-06T12:13:47.729418",
     "status": "completed"
    },
    "tags": []
   },
   "outputs": [],
   "source": [
    "#hide\n",
    "# g = g[cols]"
   ]
  },
  {
   "cell_type": "code",
   "execution_count": 39,
   "id": "structured-mobile",
   "metadata": {
    "execution": {
     "iopub.execute_input": "2022-01-06T12:13:47.845251Z",
     "iopub.status.busy": "2022-01-06T12:13:47.844631Z",
     "iopub.status.idle": "2022-01-06T12:13:47.848085Z",
     "shell.execute_reply": "2022-01-06T12:13:47.847517Z"
    },
    "papermill": {
     "duration": 0.043176,
     "end_time": "2022-01-06T12:13:47.848211",
     "exception": false,
     "start_time": "2022-01-06T12:13:47.805035",
     "status": "completed"
    },
    "tags": []
   },
   "outputs": [],
   "source": [
    "# #hide\n",
    "# g = g[g.group.notna()]"
   ]
  },
  {
   "cell_type": "code",
   "execution_count": 40,
   "id": "determined-closing",
   "metadata": {
    "execution": {
     "iopub.execute_input": "2022-01-06T12:13:47.927981Z",
     "iopub.status.busy": "2022-01-06T12:13:47.927258Z",
     "iopub.status.idle": "2022-01-06T12:13:47.931540Z",
     "shell.execute_reply": "2022-01-06T12:13:47.932008Z"
    },
    "papermill": {
     "duration": 0.046819,
     "end_time": "2022-01-06T12:13:47.932170",
     "exception": false,
     "start_time": "2022-01-06T12:13:47.885351",
     "status": "completed"
    },
    "tags": []
   },
   "outputs": [],
   "source": [
    "# #hide\n",
    "# colors = dict(zip(\n",
    "#     [\"Oceania\", \"Europe\", \"Asia\", \"South America\", \"Middle East\", \"North America\", \"Africa\"],\n",
    "#     [\"#adb0ff\", \"#ffb3ff\", \"#90d595\", \"#e48381\", \"#aafbff\", \"#f7bb5f\", \"#eafb50\"]\n",
    "# ))\n",
    "# group_lk = g.set_index('name')['group'].to_dict()"
   ]
  },
  {
   "cell_type": "code",
   "execution_count": null,
   "id": "gross-drinking",
   "metadata": {
    "papermill": {
     "duration": 0.03592,
     "end_time": "2022-01-06T12:13:48.005214",
     "exception": false,
     "start_time": "2022-01-06T12:13:47.969294",
     "status": "completed"
    },
    "tags": []
   },
   "outputs": [],
   "source": []
  },
  {
   "cell_type": "code",
   "execution_count": 41,
   "id": "subject-macintosh",
   "metadata": {
    "execution": {
     "iopub.execute_input": "2022-01-06T12:13:48.084662Z",
     "iopub.status.busy": "2022-01-06T12:13:48.083846Z",
     "iopub.status.idle": "2022-01-06T12:13:48.086409Z",
     "shell.execute_reply": "2022-01-06T12:13:48.085886Z"
    },
    "papermill": {
     "duration": 0.045092,
     "end_time": "2022-01-06T12:13:48.086537",
     "exception": false,
     "start_time": "2022-01-06T12:13:48.041445",
     "status": "completed"
    },
    "tags": []
   },
   "outputs": [],
   "source": [
    "# #hide\n",
    "# fig, ax = plt.subplots(figsize=(15, 8))\n",
    "\n",
    "# def draw_barchart(current_day):\n",
    "#     dff = g[g['day'].eq(current_day)].sort_values(by='value', ascending=True).tail(10)\n",
    "#     ax.clear()\n",
    "#     ax.barh(dff['name'], dff['value'], color=[colors[group_lk[x]] for x in dff['name']])\n",
    "#     dx = dff['value'].max() / 200\n",
    "    \n",
    "#     for i, (value, name) in enumerate(zip(dff['value'], dff['name'])):\n",
    "#         ax.text(value-dx, i,     name,           size=14, weight=600, ha='right', va='bottom')\n",
    "#         ax.text(value-dx, i-.25, group_lk[name], size=10, color='#444444', ha='right', va='baseline')\n",
    "#         ax.text(value+dx, i,     f'{value:,.0f}',  size=14, ha='left',  va='center')\n",
    "#     ax.text(1, 0.4, current_day, transform=ax.transAxes, color='#777777', size=46, ha='right', weight=800)\n",
    "#     ax.text(0, 1.06, 'Population (thousands)', transform=ax.transAxes, size=12, color='#777777')\n",
    "#     ax.xaxis.set_major_formatter(ticker.StrMethodFormatter('{x:,.0f}'))\n",
    "#     ax.xaxis.set_ticks_position('top')\n",
    "#     ax.tick_params(axis='x', colors='#777777', labelsize=12)\n",
    "#     ax.set_yticks([])\n",
    "#     ax.margins(0, 0.01)\n",
    "#     ax.grid(which='major', axis='x', linestyle='-')\n",
    "#     ax.set_axisbelow(True)\n",
    "    \n",
    "#     ax.text(0, 1.15, 'Coronavirus',\n",
    "#             transform=ax.transAxes, size=24, weight=600, ha='left', va='top')\n",
    "# #     ax.text(1, 0, 'by @pratapvardhan; credit @jburnmurdoch', transform=ax.transAxes, color='#777777', ha='right',\n",
    "# #             bbox=dict(facecolor='white', alpha=0.8, edgecolor='white'))\n",
    "#     plt.box(False)"
   ]
  },
  {
   "cell_type": "code",
   "execution_count": 42,
   "id": "sexual-wages",
   "metadata": {
    "execution": {
     "iopub.execute_input": "2022-01-06T12:13:48.163824Z",
     "iopub.status.busy": "2022-01-06T12:13:48.163200Z",
     "iopub.status.idle": "2022-01-06T12:13:48.165589Z",
     "shell.execute_reply": "2022-01-06T12:13:48.165080Z"
    },
    "papermill": {
     "duration": 0.042409,
     "end_time": "2022-01-06T12:13:48.165710",
     "exception": false,
     "start_time": "2022-01-06T12:13:48.123301",
     "status": "completed"
    },
    "tags": []
   },
   "outputs": [],
   "source": [
    "# #hide_input\n",
    "# fig, ax = plt.subplots(figsize=(15, 8))\n",
    "# animator = animation.FuncAnimation(fig, draw_barchart, frames=range(g.day.values.min(), g.day.values.max()))\n",
    "# HTML(animator.to_jshtml())\n",
    "# # or use animator.to_html5_video() or animator.save() "
   ]
  },
  {
   "cell_type": "code",
   "execution_count": null,
   "id": "australian-container",
   "metadata": {
    "papermill": {
     "duration": 0.035191,
     "end_time": "2022-01-06T12:13:48.236621",
     "exception": false,
     "start_time": "2022-01-06T12:13:48.201430",
     "status": "completed"
    },
    "tags": []
   },
   "outputs": [],
   "source": []
  },
  {
   "cell_type": "code",
   "execution_count": null,
   "id": "mediterranean-pontiac",
   "metadata": {
    "papermill": {
     "duration": 0.035415,
     "end_time": "2022-01-06T12:13:48.307146",
     "exception": false,
     "start_time": "2022-01-06T12:13:48.271731",
     "status": "completed"
    },
    "tags": []
   },
   "outputs": [],
   "source": []
  },
  {
   "cell_type": "code",
   "execution_count": null,
   "id": "aging-legislature",
   "metadata": {
    "papermill": {
     "duration": 0.036117,
     "end_time": "2022-01-06T12:13:48.387740",
     "exception": false,
     "start_time": "2022-01-06T12:13:48.351623",
     "status": "completed"
    },
    "tags": []
   },
   "outputs": [],
   "source": []
  }
 ],
 "metadata": {
  "kernelspec": {
   "display_name": "Python 3",
   "language": "python",
   "name": "python3"
  },
  "language_info": {
   "codemirror_mode": {
    "name": "ipython",
    "version": 3
   },
   "file_extension": ".py",
   "mimetype": "text/x-python",
   "name": "python",
   "nbconvert_exporter": "python",
   "pygments_lexer": "ipython3",
   "version": "3.6.15"
  },
  "papermill": {
   "duration": 6.700687,
   "end_time": "2022-01-06T12:13:48.731246",
   "environment_variables": {},
   "exception": null,
   "input_path": "2020-03-21-covid19exp.ipynb",
   "output_path": "2020-03-21-covid19exp.ipynb",
   "parameters": {},
   "start_time": "2022-01-06T12:13:42.030559",
   "version": "2.0.0"
  }
 },
 "nbformat": 4,
 "nbformat_minor": 5
}