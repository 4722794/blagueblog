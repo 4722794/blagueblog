{
 "cells": [
  {
   "cell_type": "markdown",
   "id": "muslim-click",
   "metadata": {
    "papermill": {
     "duration": 0.039755,
     "end_time": "2022-04-08T12:14:57.060341",
     "exception": false,
     "start_time": "2022-04-08T12:14:57.020586",
     "status": "completed"
    },
    "tags": []
   },
   "source": [
    "# COVID-19 Case Race\n",
    "> A race chart to see rising cases around the world\n",
    "\n",
    "- author: Hargun Oberoi\n",
    "- image: images/covid-overview.png\n",
    "- hide: false\n",
    "- badges: false"
   ]
  },
  {
   "cell_type": "code",
   "execution_count": 1,
   "id": "proof-material",
   "metadata": {
    "execution": {
     "iopub.execute_input": "2022-04-08T12:14:57.146141Z",
     "iopub.status.busy": "2022-04-08T12:14:57.145527Z",
     "iopub.status.idle": "2022-04-08T12:14:57.531586Z",
     "shell.execute_reply": "2022-04-08T12:14:57.530388Z"
    },
    "papermill": {
     "duration": 0.431541,
     "end_time": "2022-04-08T12:14:57.531762",
     "exception": false,
     "start_time": "2022-04-08T12:14:57.100221",
     "status": "completed"
    },
    "tags": []
   },
   "outputs": [],
   "source": [
    "#hide\n",
    "import numpy as np\n",
    "import pandas as pd\n",
    "from jinja2 import Template\n",
    "from IPython.display import HTML"
   ]
  },
  {
   "cell_type": "code",
   "execution_count": 2,
   "id": "developed-terminology",
   "metadata": {
    "execution": {
     "iopub.execute_input": "2022-04-08T12:14:57.606252Z",
     "iopub.status.busy": "2022-04-08T12:14:57.604500Z",
     "iopub.status.idle": "2022-04-08T12:14:57.606931Z",
     "shell.execute_reply": "2022-04-08T12:14:57.607392Z"
    },
    "papermill": {
     "duration": 0.042034,
     "end_time": "2022-04-08T12:14:57.607536",
     "exception": false,
     "start_time": "2022-04-08T12:14:57.565502",
     "status": "completed"
    },
    "tags": []
   },
   "outputs": [],
   "source": [
    "#hide\n",
    "\n",
    "# FETCH\n",
    "base_url = 'https://raw.githubusercontent.com/pratapvardhan/notebooks/master/covid19/'\n",
    "paths = {\n",
    "    'mapping': base_url + 'mapping_countries.csv',\n",
    "    'overview': base_url + 'overview.tpl'\n",
    "}"
   ]
  },
  {
   "cell_type": "code",
   "execution_count": 3,
   "id": "dynamic-saver",
   "metadata": {
    "execution": {
     "iopub.execute_input": "2022-04-08T12:14:57.688678Z",
     "iopub.status.busy": "2022-04-08T12:14:57.688032Z",
     "iopub.status.idle": "2022-04-08T12:14:57.690496Z",
     "shell.execute_reply": "2022-04-08T12:14:57.690970Z"
    },
    "papermill": {
     "duration": 0.049823,
     "end_time": "2022-04-08T12:14:57.691253",
     "exception": false,
     "start_time": "2022-04-08T12:14:57.641430",
     "status": "completed"
    },
    "tags": []
   },
   "outputs": [
    {
     "data": {
      "text/plain": [
       "'https://raw.githubusercontent.com/pratapvardhan/notebooks/master/covid19/mapping_countries.csv'"
      ]
     },
     "execution_count": 3,
     "metadata": {},
     "output_type": "execute_result"
    }
   ],
   "source": [
    "#hide\n",
    "paths['mapping']"
   ]
  },
  {
   "cell_type": "code",
   "execution_count": 4,
   "id": "urban-software",
   "metadata": {
    "execution": {
     "iopub.execute_input": "2022-04-08T12:14:57.770499Z",
     "iopub.status.busy": "2022-04-08T12:14:57.769879Z",
     "iopub.status.idle": "2022-04-08T12:14:57.772887Z",
     "shell.execute_reply": "2022-04-08T12:14:57.772218Z"
    },
    "papermill": {
     "duration": 0.046651,
     "end_time": "2022-04-08T12:14:57.773017",
     "exception": false,
     "start_time": "2022-04-08T12:14:57.726366",
     "status": "completed"
    },
    "tags": []
   },
   "outputs": [],
   "source": [
    "#hide\n",
    "def get_mappings(url):\n",
    "    df = pd.read_csv(url)\n",
    "    return {\n",
    "        'df': df,\n",
    "        'replace.country': dict(df.dropna(subset=['Name']).set_index('Country')['Name']),\n",
    "        'map.continent': dict(df.set_index('Name')['Continent'])\n",
    "    }"
   ]
  },
  {
   "cell_type": "code",
   "execution_count": 5,
   "id": "intimate-machinery",
   "metadata": {
    "execution": {
     "iopub.execute_input": "2022-04-08T12:14:57.847699Z",
     "iopub.status.busy": "2022-04-08T12:14:57.847083Z",
     "iopub.status.idle": "2022-04-08T12:14:57.889864Z",
     "shell.execute_reply": "2022-04-08T12:14:57.889310Z"
    },
    "papermill": {
     "duration": 0.082999,
     "end_time": "2022-04-08T12:14:57.890004",
     "exception": false,
     "start_time": "2022-04-08T12:14:57.807005",
     "status": "completed"
    },
    "tags": []
   },
   "outputs": [],
   "source": [
    "#hide\n",
    "mapping = get_mappings(paths['mapping'])"
   ]
  },
  {
   "cell_type": "code",
   "execution_count": 6,
   "id": "certified-tactics",
   "metadata": {
    "execution": {
     "iopub.execute_input": "2022-04-08T12:14:57.964811Z",
     "iopub.status.busy": "2022-04-08T12:14:57.964111Z",
     "iopub.status.idle": "2022-04-08T12:14:57.967844Z",
     "shell.execute_reply": "2022-04-08T12:14:57.967368Z"
    },
    "papermill": {
     "duration": 0.043901,
     "end_time": "2022-04-08T12:14:57.967971",
     "exception": false,
     "start_time": "2022-04-08T12:14:57.924070",
     "status": "completed"
    },
    "tags": []
   },
   "outputs": [],
   "source": [
    "#hide\n",
    "def get_template(path):\n",
    "    from urllib.parse import urlparse\n",
    "    if bool(urlparse(path).netloc):\n",
    "        from urllib.request import urlopen\n",
    "        return urlopen(path).read().decode('utf8')\n",
    "    return open(path).read()"
   ]
  },
  {
   "cell_type": "code",
   "execution_count": 7,
   "id": "realistic-blast",
   "metadata": {
    "execution": {
     "iopub.execute_input": "2022-04-08T12:14:58.045230Z",
     "iopub.status.busy": "2022-04-08T12:14:58.044486Z",
     "iopub.status.idle": "2022-04-08T12:14:58.047716Z",
     "shell.execute_reply": "2022-04-08T12:14:58.048284Z"
    },
    "papermill": {
     "duration": 0.043954,
     "end_time": "2022-04-08T12:14:58.048435",
     "exception": false,
     "start_time": "2022-04-08T12:14:58.004481",
     "status": "completed"
    },
    "tags": []
   },
   "outputs": [],
   "source": [
    "#hide\n",
    "def get_frame(name):\n",
    "    url = (\n",
    "        'https://raw.githubusercontent.com/CSSEGISandData/COVID-19/master/csse_covid_19_data/'\n",
    "        f'csse_covid_19_time_series/time_series_covid19_{name}_global.csv')\n",
    "    df = pd.read_csv(url)\n",
    "    # rename countries\n",
    "    df['Country/Region'] = df['Country/Region'].replace(mapping['replace.country'])\n",
    "    return df"
   ]
  },
  {
   "cell_type": "code",
   "execution_count": 8,
   "id": "affiliated-characterization",
   "metadata": {
    "execution": {
     "iopub.execute_input": "2022-04-08T12:14:58.125808Z",
     "iopub.status.busy": "2022-04-08T12:14:58.125187Z",
     "iopub.status.idle": "2022-04-08T12:14:58.127392Z",
     "shell.execute_reply": "2022-04-08T12:14:58.127842Z"
    },
    "papermill": {
     "duration": 0.045191,
     "end_time": "2022-04-08T12:14:58.127987",
     "exception": false,
     "start_time": "2022-04-08T12:14:58.082796",
     "status": "completed"
    },
    "tags": []
   },
   "outputs": [],
   "source": [
    "#hide\n",
    "def get_dates(df):\n",
    "    dt_cols = df.columns[~df.columns.isin(['Province/State', 'Country/Region', 'Lat', 'Long'])]\n",
    "    LAST_DATE_I = -1\n",
    "    # sometimes last column may be empty, then go backwards\n",
    "    for i in range(-1, -len(dt_cols), -1):\n",
    "        if not df[dt_cols[i]].fillna(0).eq(0).all():\n",
    "            LAST_DATE_I = i\n",
    "            break\n",
    "    return LAST_DATE_I, dt_cols"
   ]
  },
  {
   "cell_type": "code",
   "execution_count": 9,
   "id": "recent-optimization",
   "metadata": {
    "execution": {
     "iopub.execute_input": "2022-04-08T12:14:58.202644Z",
     "iopub.status.busy": "2022-04-08T12:14:58.201978Z",
     "iopub.status.idle": "2022-04-08T12:14:58.587021Z",
     "shell.execute_reply": "2022-04-08T12:14:58.586138Z"
    },
    "papermill": {
     "duration": 0.425402,
     "end_time": "2022-04-08T12:14:58.587243",
     "exception": false,
     "start_time": "2022-04-08T12:14:58.161841",
     "status": "completed"
    },
    "tags": []
   },
   "outputs": [],
   "source": [
    "#hide\n",
    "COL_REGION = 'Country/Region'\n",
    "# Confirmed, Recovered, Deaths\n",
    "df = get_frame('confirmed')\n",
    "# dft_: timeseries, dfc_: today country agg\n",
    "dft_cases = df\n",
    "dft_deaths = get_frame('deaths')\n",
    "dft_recovered = get_frame('recovered')\n",
    "LAST_DATE_I, dt_cols = get_dates(df)"
   ]
  },
  {
   "cell_type": "code",
   "execution_count": 10,
   "id": "absolute-copper",
   "metadata": {
    "execution": {
     "iopub.execute_input": "2022-04-08T12:14:58.662904Z",
     "iopub.status.busy": "2022-04-08T12:14:58.662289Z",
     "iopub.status.idle": "2022-04-08T12:14:58.664480Z",
     "shell.execute_reply": "2022-04-08T12:14:58.665099Z"
    },
    "papermill": {
     "duration": 0.042367,
     "end_time": "2022-04-08T12:14:58.665249",
     "exception": false,
     "start_time": "2022-04-08T12:14:58.622882",
     "status": "completed"
    },
    "tags": []
   },
   "outputs": [],
   "source": [
    "#hide\n",
    "LAST_DATE_I, dt_cols = get_dates(df)\n",
    "dt_today =dt_cols[LAST_DATE_I]\n",
    "# dt_5day = dt_cols[LAST_DATE_I - 5]\n",
    "dt_yday = dt_cols[LAST_DATE_I - 1]"
   ]
  },
  {
   "cell_type": "code",
   "execution_count": 11,
   "id": "restricted-sheriff",
   "metadata": {
    "execution": {
     "iopub.execute_input": "2022-04-08T12:14:58.739904Z",
     "iopub.status.busy": "2022-04-08T12:14:58.739295Z",
     "iopub.status.idle": "2022-04-08T12:14:58.747043Z",
     "shell.execute_reply": "2022-04-08T12:14:58.747486Z"
    },
    "papermill": {
     "duration": 0.048771,
     "end_time": "2022-04-08T12:14:58.747628",
     "exception": false,
     "start_time": "2022-04-08T12:14:58.698857",
     "status": "completed"
    },
    "tags": []
   },
   "outputs": [],
   "source": [
    "#hide\n",
    "dfc_cases = dft_cases.groupby(COL_REGION)[dt_today].sum()\n",
    "dfc_deaths = dft_deaths.groupby(COL_REGION)[dt_today].sum()\n",
    "# dfp_cases = dft_cases.groupby(COL_REGION)[dt_5day].sum()\n",
    "# dfp_deaths = dft_deaths.groupby(COL_REGION)[dt_5day].sum()\n",
    "dfp_cases = dft_cases.groupby(COL_REGION)[dt_yday].sum()\n",
    "dfp_deaths = dft_deaths.groupby(COL_REGION)[dt_yday].sum()"
   ]
  },
  {
   "cell_type": "code",
   "execution_count": 12,
   "id": "deluxe-hepatitis",
   "metadata": {
    "execution": {
     "iopub.execute_input": "2022-04-08T12:14:58.822740Z",
     "iopub.status.busy": "2022-04-08T12:14:58.822098Z",
     "iopub.status.idle": "2022-04-08T12:14:58.827252Z",
     "shell.execute_reply": "2022-04-08T12:14:58.827670Z"
    },
    "papermill": {
     "duration": 0.046287,
     "end_time": "2022-04-08T12:14:58.827813",
     "exception": false,
     "start_time": "2022-04-08T12:14:58.781526",
     "status": "completed"
    },
    "tags": []
   },
   "outputs": [],
   "source": [
    "#hide\n",
    "df_table = (pd.DataFrame(dict(Cases = dfc_cases, Deaths = dfc_deaths, PCases = dfp_cases, PDeaths = dfp_deaths))\n",
    "            .sort_values(by = ['Cases','Deaths'], ascending = [False, False])\n",
    "            .reset_index())"
   ]
  },
  {
   "cell_type": "code",
   "execution_count": 13,
   "id": "educational-chancellor",
   "metadata": {
    "execution": {
     "iopub.execute_input": "2022-04-08T12:14:58.917030Z",
     "iopub.status.busy": "2022-04-08T12:14:58.903310Z",
     "iopub.status.idle": "2022-04-08T12:14:58.926076Z",
     "shell.execute_reply": "2022-04-08T12:14:58.925566Z"
    },
    "papermill": {
     "duration": 0.06593,
     "end_time": "2022-04-08T12:14:58.926205",
     "exception": false,
     "start_time": "2022-04-08T12:14:58.860275",
     "status": "completed"
    },
    "tags": []
   },
   "outputs": [
    {
     "data": {
      "text/html": [
       "<div>\n",
       "<style scoped>\n",
       "    .dataframe tbody tr th:only-of-type {\n",
       "        vertical-align: middle;\n",
       "    }\n",
       "\n",
       "    .dataframe tbody tr th {\n",
       "        vertical-align: top;\n",
       "    }\n",
       "\n",
       "    .dataframe thead th {\n",
       "        text-align: right;\n",
       "    }\n",
       "</style>\n",
       "<table border=\"1\" class=\"dataframe\">\n",
       "  <thead>\n",
       "    <tr style=\"text-align: right;\">\n",
       "      <th></th>\n",
       "      <th>Country/Region</th>\n",
       "      <th>Cases</th>\n",
       "      <th>Deaths</th>\n",
       "      <th>PCases</th>\n",
       "      <th>PDeaths</th>\n",
       "      <th>Cases (+)</th>\n",
       "      <th>Deaths (+)</th>\n",
       "      <th>Fatality Rate</th>\n",
       "      <th>Continent</th>\n",
       "    </tr>\n",
       "  </thead>\n",
       "  <tbody>\n",
       "    <tr>\n",
       "      <th>0</th>\n",
       "      <td>US</td>\n",
       "      <td>80289237</td>\n",
       "      <td>984571</td>\n",
       "      <td>80248986</td>\n",
       "      <td>983817</td>\n",
       "      <td>40251</td>\n",
       "      <td>754</td>\n",
       "      <td>1.23</td>\n",
       "      <td>North America</td>\n",
       "    </tr>\n",
       "    <tr>\n",
       "      <th>1</th>\n",
       "      <td>India</td>\n",
       "      <td>43033067</td>\n",
       "      <td>521573</td>\n",
       "      <td>43031958</td>\n",
       "      <td>521530</td>\n",
       "      <td>1109</td>\n",
       "      <td>43</td>\n",
       "      <td>1.21</td>\n",
       "      <td>Asia</td>\n",
       "    </tr>\n",
       "    <tr>\n",
       "      <th>2</th>\n",
       "      <td>Brazil</td>\n",
       "      <td>30095328</td>\n",
       "      <td>661228</td>\n",
       "      <td>30069094</td>\n",
       "      <td>660980</td>\n",
       "      <td>26234</td>\n",
       "      <td>248</td>\n",
       "      <td>2.20</td>\n",
       "      <td>South America</td>\n",
       "    </tr>\n",
       "    <tr>\n",
       "      <th>3</th>\n",
       "      <td>France</td>\n",
       "      <td>26738483</td>\n",
       "      <td>144054</td>\n",
       "      <td>26579448</td>\n",
       "      <td>143949</td>\n",
       "      <td>159035</td>\n",
       "      <td>105</td>\n",
       "      <td>0.54</td>\n",
       "      <td>Europe</td>\n",
       "    </tr>\n",
       "    <tr>\n",
       "      <th>4</th>\n",
       "      <td>Germany</td>\n",
       "      <td>22478703</td>\n",
       "      <td>131370</td>\n",
       "      <td>22303440</td>\n",
       "      <td>131036</td>\n",
       "      <td>175263</td>\n",
       "      <td>334</td>\n",
       "      <td>0.58</td>\n",
       "      <td>Europe</td>\n",
       "    </tr>\n",
       "  </tbody>\n",
       "</table>\n",
       "</div>"
      ],
      "text/plain": [
       "  Country/Region     Cases  Deaths    PCases  PDeaths  Cases (+)  Deaths (+)  \\\n",
       "0             US  80289237  984571  80248986   983817      40251         754   \n",
       "1          India  43033067  521573  43031958   521530       1109          43   \n",
       "2         Brazil  30095328  661228  30069094   660980      26234         248   \n",
       "3         France  26738483  144054  26579448   143949     159035         105   \n",
       "4        Germany  22478703  131370  22303440   131036     175263         334   \n",
       "\n",
       "   Fatality Rate      Continent  \n",
       "0           1.23  North America  \n",
       "1           1.21           Asia  \n",
       "2           2.20  South America  \n",
       "3           0.54         Europe  \n",
       "4           0.58         Europe  "
      ]
     },
     "execution_count": 13,
     "metadata": {},
     "output_type": "execute_result"
    }
   ],
   "source": [
    "#hide\n",
    "for c in 'Cases, Deaths'.split(', '):\n",
    "    df_table[f'{c} (+)'] = (df_table[c] - df_table[f'P{c}']).clip(0)\n",
    "    #Clip ça veut dire, les chiffres negatif sont interdit\n",
    "df_table['Fatality Rate'] = (100* df_table['Deaths']/ df_table['Cases']).round(2)\n",
    "df_table['Continent'] = df_table['Country/Region'].map(mapping['map.continent'])\n",
    "df_table.head(5)"
   ]
  },
  {
   "cell_type": "code",
   "execution_count": 14,
   "id": "aboriginal-bulgaria",
   "metadata": {
    "execution": {
     "iopub.execute_input": "2022-04-08T12:14:59.002835Z",
     "iopub.status.busy": "2022-04-08T12:14:59.002173Z",
     "iopub.status.idle": "2022-04-08T12:14:59.003797Z",
     "shell.execute_reply": "2022-04-08T12:14:59.004260Z"
    },
    "papermill": {
     "duration": 0.043538,
     "end_time": "2022-04-08T12:14:59.004414",
     "exception": false,
     "start_time": "2022-04-08T12:14:58.960876",
     "status": "completed"
    },
    "tags": []
   },
   "outputs": [],
   "source": [
    "#hide\n",
    "#delete problematic countries from table\n",
    "df_table = df_table[~df_table['Country/Region'].isin(['Cape Verde', 'Cruise Ship', 'Kosovo'])]"
   ]
  },
  {
   "cell_type": "code",
   "execution_count": 15,
   "id": "fantastic-effect",
   "metadata": {
    "execution": {
     "iopub.execute_input": "2022-04-08T12:14:59.090029Z",
     "iopub.status.busy": "2022-04-08T12:14:59.089384Z",
     "iopub.status.idle": "2022-04-08T12:14:59.108795Z",
     "shell.execute_reply": "2022-04-08T12:14:59.109379Z"
    },
    "papermill": {
     "duration": 0.068653,
     "end_time": "2022-04-08T12:14:59.109533",
     "exception": false,
     "start_time": "2022-04-08T12:14:59.040880",
     "status": "completed"
    },
    "tags": []
   },
   "outputs": [
    {
     "data": {
      "text/html": [
       "<div>\n",
       "<style scoped>\n",
       "    .dataframe tbody tr th:only-of-type {\n",
       "        vertical-align: middle;\n",
       "    }\n",
       "\n",
       "    .dataframe tbody tr th {\n",
       "        vertical-align: top;\n",
       "    }\n",
       "\n",
       "    .dataframe thead th {\n",
       "        text-align: right;\n",
       "    }\n",
       "</style>\n",
       "<table border=\"1\" class=\"dataframe\">\n",
       "  <thead>\n",
       "    <tr style=\"text-align: right;\">\n",
       "      <th></th>\n",
       "      <th>Country/Region</th>\n",
       "      <th>Cases</th>\n",
       "      <th>Deaths</th>\n",
       "      <th>PCases</th>\n",
       "      <th>PDeaths</th>\n",
       "      <th>Cases (+)</th>\n",
       "      <th>Deaths (+)</th>\n",
       "      <th>Fatality Rate</th>\n",
       "      <th>Continent</th>\n",
       "    </tr>\n",
       "  </thead>\n",
       "  <tbody>\n",
       "    <tr>\n",
       "      <th>0</th>\n",
       "      <td>US</td>\n",
       "      <td>80289237</td>\n",
       "      <td>984571</td>\n",
       "      <td>80248986</td>\n",
       "      <td>983817</td>\n",
       "      <td>40251</td>\n",
       "      <td>754</td>\n",
       "      <td>1.2</td>\n",
       "      <td>North America</td>\n",
       "    </tr>\n",
       "    <tr>\n",
       "      <th>1</th>\n",
       "      <td>India</td>\n",
       "      <td>43033067</td>\n",
       "      <td>521573</td>\n",
       "      <td>43031958</td>\n",
       "      <td>521530</td>\n",
       "      <td>1109</td>\n",
       "      <td>43</td>\n",
       "      <td>1.2</td>\n",
       "      <td>Asia</td>\n",
       "    </tr>\n",
       "    <tr>\n",
       "      <th>2</th>\n",
       "      <td>Brazil</td>\n",
       "      <td>30095328</td>\n",
       "      <td>661228</td>\n",
       "      <td>30069094</td>\n",
       "      <td>660980</td>\n",
       "      <td>26234</td>\n",
       "      <td>248</td>\n",
       "      <td>2.2</td>\n",
       "      <td>South America</td>\n",
       "    </tr>\n",
       "    <tr>\n",
       "      <th>3</th>\n",
       "      <td>France</td>\n",
       "      <td>26738483</td>\n",
       "      <td>144054</td>\n",
       "      <td>26579448</td>\n",
       "      <td>143949</td>\n",
       "      <td>159035</td>\n",
       "      <td>105</td>\n",
       "      <td>0.5</td>\n",
       "      <td>Europe</td>\n",
       "    </tr>\n",
       "    <tr>\n",
       "      <th>4</th>\n",
       "      <td>Germany</td>\n",
       "      <td>22478703</td>\n",
       "      <td>131370</td>\n",
       "      <td>22303440</td>\n",
       "      <td>131036</td>\n",
       "      <td>175263</td>\n",
       "      <td>334</td>\n",
       "      <td>0.6</td>\n",
       "      <td>Europe</td>\n",
       "    </tr>\n",
       "  </tbody>\n",
       "</table>\n",
       "</div>"
      ],
      "text/plain": [
       "  Country/Region     Cases  Deaths    PCases  PDeaths  Cases (+)  Deaths (+)  \\\n",
       "0             US  80289237  984571  80248986   983817      40251         754   \n",
       "1          India  43033067  521573  43031958   521530       1109          43   \n",
       "2         Brazil  30095328  661228  30069094   660980      26234         248   \n",
       "3         France  26738483  144054  26579448   143949     159035         105   \n",
       "4        Germany  22478703  131370  22303440   131036     175263         334   \n",
       "\n",
       "   Fatality Rate      Continent  \n",
       "0            1.2  North America  \n",
       "1            1.2           Asia  \n",
       "2            2.2  South America  \n",
       "3            0.5         Europe  \n",
       "4            0.6         Europe  "
      ]
     },
     "execution_count": 15,
     "metadata": {},
     "output_type": "execute_result"
    }
   ],
   "source": [
    "#hide\n",
    "df_table = (pd.DataFrame(dict(Cases=dfc_cases, Deaths=dfc_deaths, PCases=dfp_cases, PDeaths=dfp_deaths))\n",
    "             .sort_values(by=['Cases', 'Deaths'], ascending=[False, False])\n",
    "             .reset_index())\n",
    "df_table.rename(columns={'index': 'Country/Region'}, inplace=True)\n",
    "for c in 'Cases, Deaths'.split(', '):\n",
    "    df_table[f'{c} (+)'] = (df_table[c] - df_table[f'P{c}']).clip(0)  # DATA BUG\n",
    "df_table['Fatality Rate'] = (100 * df_table['Deaths'] / df_table['Cases']).round(1)\n",
    "df_table['Continent'] = df_table['Country/Region'].map(mapping['map.continent'])\n",
    "df_table.head(5)"
   ]
  },
  {
   "cell_type": "code",
   "execution_count": 16,
   "id": "fewer-occasion",
   "metadata": {
    "execution": {
     "iopub.execute_input": "2022-04-08T12:14:59.189776Z",
     "iopub.status.busy": "2022-04-08T12:14:59.188413Z",
     "iopub.status.idle": "2022-04-08T12:14:59.191394Z",
     "shell.execute_reply": "2022-04-08T12:14:59.191848Z"
    },
    "papermill": {
     "duration": 0.047157,
     "end_time": "2022-04-08T12:14:59.192005",
     "exception": false,
     "start_time": "2022-04-08T12:14:59.144848",
     "status": "completed"
    },
    "tags": []
   },
   "outputs": [],
   "source": [
    "#hide\n",
    "#delete problematic countries from table\n",
    "df_table = df_table[~df_table['Country/Region'].isin(['Cape Verde', 'Cruise Ship', 'Kosovo'])]"
   ]
  },
  {
   "cell_type": "code",
   "execution_count": 17,
   "id": "related-center",
   "metadata": {
    "execution": {
     "iopub.execute_input": "2022-04-08T12:14:59.283317Z",
     "iopub.status.busy": "2022-04-08T12:14:59.282666Z",
     "iopub.status.idle": "2022-04-08T12:14:59.285244Z",
     "shell.execute_reply": "2022-04-08T12:14:59.284517Z"
    },
    "papermill": {
     "duration": 0.058382,
     "end_time": "2022-04-08T12:14:59.285385",
     "exception": false,
     "start_time": "2022-04-08T12:14:59.227003",
     "status": "completed"
    },
    "tags": []
   },
   "outputs": [],
   "source": [
    "#hide\n",
    "metrics = [df_table.columns[index] for index in [1,2,5,6]]\n",
    "# s_china = df_table[df_table['Country/Region'].eq('China')][metrics].sum().add_prefix('China ')\n",
    "s_us = df_table[df_table['Country/Region'].eq('US')][metrics].sum().add_prefix('US ')\n",
    "s_eu = df_table[df_table['Continent'].eq('Europe')][metrics].sum().add_prefix('EU ')\n",
    "s_ind = df_table[df_table['Country/Region'].eq('India')][metrics].sum().add_prefix('India ')\n",
    "summary = {'updated': pd.to_datetime(dt_today), 'since': pd.to_datetime(dt_yday)}\n",
    "summary = {'updated': pd.to_datetime(dt_today), 'since': pd.to_datetime(dt_yday)}\n",
    "summary = {**summary, **df_table[metrics].sum(), **s_ind, **s_us, **s_eu}"
   ]
  },
  {
   "cell_type": "code",
   "execution_count": 18,
   "id": "engaging-syndrome",
   "metadata": {
    "execution": {
     "iopub.execute_input": "2022-04-08T12:14:59.364364Z",
     "iopub.status.busy": "2022-04-08T12:14:59.363748Z",
     "iopub.status.idle": "2022-04-08T12:14:59.382603Z",
     "shell.execute_reply": "2022-04-08T12:14:59.383056Z"
    },
    "papermill": {
     "duration": 0.061612,
     "end_time": "2022-04-08T12:14:59.383210",
     "exception": false,
     "start_time": "2022-04-08T12:14:59.321598",
     "status": "completed"
    },
    "tags": []
   },
   "outputs": [],
   "source": [
    "#hide\n",
    "dft_ct_new_cases = dft_cases.groupby(COL_REGION)[dt_cols].sum().diff(axis=1).fillna(0).astype(int)"
   ]
  },
  {
   "cell_type": "code",
   "execution_count": 19,
   "id": "neutral-assignment",
   "metadata": {
    "execution": {
     "iopub.execute_input": "2022-04-08T12:14:59.462814Z",
     "iopub.status.busy": "2022-04-08T12:14:59.462172Z",
     "iopub.status.idle": "2022-04-08T12:14:59.464537Z",
     "shell.execute_reply": "2022-04-08T12:14:59.464060Z"
    },
    "papermill": {
     "duration": 0.045249,
     "end_time": "2022-04-08T12:14:59.464692",
     "exception": false,
     "start_time": "2022-04-08T12:14:59.419443",
     "status": "completed"
    },
    "tags": []
   },
   "outputs": [],
   "source": [
    "#hide\n",
    "everydaycases = dft_ct_new_cases.cumsum(axis=1)"
   ]
  },
  {
   "cell_type": "code",
   "execution_count": 20,
   "id": "parliamentary-calgary",
   "metadata": {
    "execution": {
     "iopub.execute_input": "2022-04-08T12:14:59.544548Z",
     "iopub.status.busy": "2022-04-08T12:14:59.543906Z",
     "iopub.status.idle": "2022-04-08T12:15:00.329098Z",
     "shell.execute_reply": "2022-04-08T12:15:00.328494Z"
    },
    "papermill": {
     "duration": 0.82626,
     "end_time": "2022-04-08T12:15:00.329245",
     "exception": false,
     "start_time": "2022-04-08T12:14:59.502985",
     "status": "completed"
    },
    "tags": []
   },
   "outputs": [],
   "source": [
    "#hide\n",
    "import pandas as pd\n",
    "import matplotlib.pyplot as plt\n",
    "import matplotlib.ticker as ticker\n",
    "import matplotlib.animation as animation\n",
    "from IPython.display import HTML"
   ]
  },
  {
   "cell_type": "code",
   "execution_count": 21,
   "id": "lasting-extraction",
   "metadata": {
    "execution": {
     "iopub.execute_input": "2022-04-08T12:15:00.407280Z",
     "iopub.status.busy": "2022-04-08T12:15:00.406661Z",
     "iopub.status.idle": "2022-04-08T12:15:00.415582Z",
     "shell.execute_reply": "2022-04-08T12:15:00.415046Z"
    },
    "papermill": {
     "duration": 0.050966,
     "end_time": "2022-04-08T12:15:00.415715",
     "exception": false,
     "start_time": "2022-04-08T12:15:00.364749",
     "status": "completed"
    },
    "tags": []
   },
   "outputs": [],
   "source": [
    "#hide\n",
    "t = everydaycases.stack()"
   ]
  },
  {
   "cell_type": "code",
   "execution_count": 22,
   "id": "premier-sleeve",
   "metadata": {
    "execution": {
     "iopub.execute_input": "2022-04-08T12:15:00.491376Z",
     "iopub.status.busy": "2022-04-08T12:15:00.490765Z",
     "iopub.status.idle": "2022-04-08T12:15:00.503196Z",
     "shell.execute_reply": "2022-04-08T12:15:00.503707Z"
    },
    "papermill": {
     "duration": 0.052866,
     "end_time": "2022-04-08T12:15:00.503859",
     "exception": false,
     "start_time": "2022-04-08T12:15:00.450993",
     "status": "completed"
    },
    "tags": []
   },
   "outputs": [],
   "source": [
    "#hide\n",
    "g = t.reset_index(['Country/Region'])"
   ]
  },
  {
   "cell_type": "code",
   "execution_count": 23,
   "id": "distributed-pittsburgh",
   "metadata": {
    "execution": {
     "iopub.execute_input": "2022-04-08T12:15:00.578992Z",
     "iopub.status.busy": "2022-04-08T12:15:00.578252Z",
     "iopub.status.idle": "2022-04-08T12:15:00.579606Z",
     "shell.execute_reply": "2022-04-08T12:15:00.580167Z"
    },
    "papermill": {
     "duration": 0.041571,
     "end_time": "2022-04-08T12:15:00.580311",
     "exception": false,
     "start_time": "2022-04-08T12:15:00.538740",
     "status": "completed"
    },
    "tags": []
   },
   "outputs": [],
   "source": [
    "#hide\n",
    "g.index.name = 'date'"
   ]
  },
  {
   "cell_type": "code",
   "execution_count": 24,
   "id": "naked-donor",
   "metadata": {
    "execution": {
     "iopub.execute_input": "2022-04-08T12:15:00.657603Z",
     "iopub.status.busy": "2022-04-08T12:15:00.656480Z",
     "iopub.status.idle": "2022-04-08T12:15:00.660784Z",
     "shell.execute_reply": "2022-04-08T12:15:00.659901Z"
    },
    "papermill": {
     "duration": 0.044787,
     "end_time": "2022-04-08T12:15:00.660918",
     "exception": false,
     "start_time": "2022-04-08T12:15:00.616131",
     "status": "completed"
    },
    "tags": []
   },
   "outputs": [],
   "source": [
    "# #hide\n",
    "# g = g.reset_index(['date'])"
   ]
  },
  {
   "cell_type": "code",
   "execution_count": 25,
   "id": "incomplete-mustang",
   "metadata": {
    "execution": {
     "iopub.execute_input": "2022-04-08T12:15:00.735609Z",
     "iopub.status.busy": "2022-04-08T12:15:00.735000Z",
     "iopub.status.idle": "2022-04-08T12:15:00.737391Z",
     "shell.execute_reply": "2022-04-08T12:15:00.737875Z"
    },
    "papermill": {
     "duration": 0.042019,
     "end_time": "2022-04-08T12:15:00.738026",
     "exception": false,
     "start_time": "2022-04-08T12:15:00.696007",
     "status": "completed"
    },
    "tags": []
   },
   "outputs": [],
   "source": [
    "#hide\n",
    "# g.head()"
   ]
  },
  {
   "cell_type": "code",
   "execution_count": 26,
   "id": "specific-kruger",
   "metadata": {
    "execution": {
     "iopub.execute_input": "2022-04-08T12:15:00.812749Z",
     "iopub.status.busy": "2022-04-08T12:15:00.811925Z",
     "iopub.status.idle": "2022-04-08T12:15:00.813679Z",
     "shell.execute_reply": "2022-04-08T12:15:00.814345Z"
    },
    "papermill": {
     "duration": 0.041238,
     "end_time": "2022-04-08T12:15:00.814503",
     "exception": false,
     "start_time": "2022-04-08T12:15:00.773265",
     "status": "completed"
    },
    "tags": []
   },
   "outputs": [],
   "source": [
    "#hide\n",
    "# g.columns = ['date','country','cases']"
   ]
  },
  {
   "cell_type": "code",
   "execution_count": 27,
   "id": "tender-conversion",
   "metadata": {
    "execution": {
     "iopub.execute_input": "2022-04-08T12:15:00.896850Z",
     "iopub.status.busy": "2022-04-08T12:15:00.896190Z",
     "iopub.status.idle": "2022-04-08T12:15:00.898581Z",
     "shell.execute_reply": "2022-04-08T12:15:00.898098Z"
    },
    "papermill": {
     "duration": 0.044985,
     "end_time": "2022-04-08T12:15:00.898712",
     "exception": false,
     "start_time": "2022-04-08T12:15:00.853727",
     "status": "completed"
    },
    "tags": []
   },
   "outputs": [],
   "source": [
    "#hide\n",
    "# g['continent'] = g.country"
   ]
  },
  {
   "cell_type": "code",
   "execution_count": 28,
   "id": "substantial-wilderness",
   "metadata": {
    "execution": {
     "iopub.execute_input": "2022-04-08T12:15:00.972258Z",
     "iopub.status.busy": "2022-04-08T12:15:00.971540Z",
     "iopub.status.idle": "2022-04-08T12:15:00.976312Z",
     "shell.execute_reply": "2022-04-08T12:15:00.975642Z"
    },
    "papermill": {
     "duration": 0.043021,
     "end_time": "2022-04-08T12:15:00.976535",
     "exception": false,
     "start_time": "2022-04-08T12:15:00.933514",
     "status": "completed"
    },
    "tags": []
   },
   "outputs": [],
   "source": [
    "#hide\n",
    "# cols = list(g.columns.values)"
   ]
  },
  {
   "cell_type": "code",
   "execution_count": 29,
   "id": "solved-farming",
   "metadata": {
    "execution": {
     "iopub.execute_input": "2022-04-08T12:15:01.055127Z",
     "iopub.status.busy": "2022-04-08T12:15:01.054092Z",
     "iopub.status.idle": "2022-04-08T12:15:01.056222Z",
     "shell.execute_reply": "2022-04-08T12:15:01.056927Z"
    },
    "papermill": {
     "duration": 0.043881,
     "end_time": "2022-04-08T12:15:01.057073",
     "exception": false,
     "start_time": "2022-04-08T12:15:01.013192",
     "status": "completed"
    },
    "tags": []
   },
   "outputs": [],
   "source": [
    "#hide\n",
    "# cols.insert(0, cols.pop())"
   ]
  },
  {
   "cell_type": "code",
   "execution_count": 30,
   "id": "executed-adoption",
   "metadata": {
    "execution": {
     "iopub.execute_input": "2022-04-08T12:15:01.131553Z",
     "iopub.status.busy": "2022-04-08T12:15:01.130933Z",
     "iopub.status.idle": "2022-04-08T12:15:01.133231Z",
     "shell.execute_reply": "2022-04-08T12:15:01.132632Z"
    },
    "papermill": {
     "duration": 0.041012,
     "end_time": "2022-04-08T12:15:01.133355",
     "exception": false,
     "start_time": "2022-04-08T12:15:01.092343",
     "status": "completed"
    },
    "tags": []
   },
   "outputs": [],
   "source": [
    "#hide\n",
    "# g = g[cols]"
   ]
  },
  {
   "cell_type": "code",
   "execution_count": 31,
   "id": "subject-dublin",
   "metadata": {
    "execution": {
     "iopub.execute_input": "2022-04-08T12:15:01.206141Z",
     "iopub.status.busy": "2022-04-08T12:15:01.205544Z",
     "iopub.status.idle": "2022-04-08T12:15:01.208279Z",
     "shell.execute_reply": "2022-04-08T12:15:01.208789Z"
    },
    "papermill": {
     "duration": 0.041022,
     "end_time": "2022-04-08T12:15:01.208937",
     "exception": false,
     "start_time": "2022-04-08T12:15:01.167915",
     "status": "completed"
    },
    "tags": []
   },
   "outputs": [],
   "source": [
    "#hide\n",
    "# g['continent'] = g['continent'].map(mapping['map.continent'])"
   ]
  },
  {
   "cell_type": "code",
   "execution_count": 32,
   "id": "freelance-scout",
   "metadata": {
    "execution": {
     "iopub.execute_input": "2022-04-08T12:15:01.283113Z",
     "iopub.status.busy": "2022-04-08T12:15:01.282488Z",
     "iopub.status.idle": "2022-04-08T12:15:01.285354Z",
     "shell.execute_reply": "2022-04-08T12:15:01.285839Z"
    },
    "papermill": {
     "duration": 0.042404,
     "end_time": "2022-04-08T12:15:01.286013",
     "exception": false,
     "start_time": "2022-04-08T12:15:01.243609",
     "status": "completed"
    },
    "tags": []
   },
   "outputs": [],
   "source": [
    "#hide\n",
    "# g.head()"
   ]
  },
  {
   "cell_type": "code",
   "execution_count": 33,
   "id": "limited-engine",
   "metadata": {
    "execution": {
     "iopub.execute_input": "2022-04-08T12:15:01.360466Z",
     "iopub.status.busy": "2022-04-08T12:15:01.359875Z",
     "iopub.status.idle": "2022-04-08T12:15:01.362678Z",
     "shell.execute_reply": "2022-04-08T12:15:01.363206Z"
    },
    "papermill": {
     "duration": 0.042658,
     "end_time": "2022-04-08T12:15:01.363341",
     "exception": false,
     "start_time": "2022-04-08T12:15:01.320683",
     "status": "completed"
    },
    "tags": []
   },
   "outputs": [],
   "source": [
    "# hide\n",
    "# g['date'] = g['date'].astype('datetime64[ns]')"
   ]
  },
  {
   "cell_type": "code",
   "execution_count": 34,
   "id": "sophisticated-supervisor",
   "metadata": {
    "execution": {
     "iopub.execute_input": "2022-04-08T12:15:01.435450Z",
     "iopub.status.busy": "2022-04-08T12:15:01.434852Z",
     "iopub.status.idle": "2022-04-08T12:15:01.438858Z",
     "shell.execute_reply": "2022-04-08T12:15:01.438383Z"
    },
    "papermill": {
     "duration": 0.040964,
     "end_time": "2022-04-08T12:15:01.439001",
     "exception": false,
     "start_time": "2022-04-08T12:15:01.398037",
     "status": "completed"
    },
    "tags": []
   },
   "outputs": [],
   "source": [
    "#hide\n",
    "# g['date'] = g.date.dt.dayofyear"
   ]
  },
  {
   "cell_type": "code",
   "execution_count": 35,
   "id": "inside-dubai",
   "metadata": {
    "execution": {
     "iopub.execute_input": "2022-04-08T12:15:01.513632Z",
     "iopub.status.busy": "2022-04-08T12:15:01.512695Z",
     "iopub.status.idle": "2022-04-08T12:15:01.514384Z",
     "shell.execute_reply": "2022-04-08T12:15:01.514846Z"
    },
    "papermill": {
     "duration": 0.041586,
     "end_time": "2022-04-08T12:15:01.514988",
     "exception": false,
     "start_time": "2022-04-08T12:15:01.473402",
     "status": "completed"
    },
    "tags": []
   },
   "outputs": [],
   "source": [
    "#hide\n",
    "# g = g.rename(columns= {'continent':'group','country':'name','cases':'value'})"
   ]
  },
  {
   "cell_type": "code",
   "execution_count": 36,
   "id": "fleet-motorcycle",
   "metadata": {
    "execution": {
     "iopub.execute_input": "2022-04-08T12:15:01.590371Z",
     "iopub.status.busy": "2022-04-08T12:15:01.589299Z",
     "iopub.status.idle": "2022-04-08T12:15:01.592406Z",
     "shell.execute_reply": "2022-04-08T12:15:01.591506Z"
    },
    "papermill": {
     "duration": 0.04317,
     "end_time": "2022-04-08T12:15:01.592649",
     "exception": false,
     "start_time": "2022-04-08T12:15:01.549479",
     "status": "completed"
    },
    "tags": []
   },
   "outputs": [],
   "source": [
    "#hide\n",
    "# cols = ['name','group','day','value']"
   ]
  },
  {
   "cell_type": "code",
   "execution_count": 37,
   "id": "continued-sleeping",
   "metadata": {
    "execution": {
     "iopub.execute_input": "2022-04-08T12:15:01.668488Z",
     "iopub.status.busy": "2022-04-08T12:15:01.667866Z",
     "iopub.status.idle": "2022-04-08T12:15:01.670203Z",
     "shell.execute_reply": "2022-04-08T12:15:01.669693Z"
    },
    "papermill": {
     "duration": 0.041542,
     "end_time": "2022-04-08T12:15:01.670332",
     "exception": false,
     "start_time": "2022-04-08T12:15:01.628790",
     "status": "completed"
    },
    "tags": []
   },
   "outputs": [],
   "source": [
    "#hide\n",
    "# g.rename(columns= {'date':'day'},inplace = True)"
   ]
  },
  {
   "cell_type": "code",
   "execution_count": 38,
   "id": "major-fight",
   "metadata": {
    "execution": {
     "iopub.execute_input": "2022-04-08T12:15:01.746582Z",
     "iopub.status.busy": "2022-04-08T12:15:01.745955Z",
     "iopub.status.idle": "2022-04-08T12:15:01.747812Z",
     "shell.execute_reply": "2022-04-08T12:15:01.748263Z"
    },
    "papermill": {
     "duration": 0.042208,
     "end_time": "2022-04-08T12:15:01.748411",
     "exception": false,
     "start_time": "2022-04-08T12:15:01.706203",
     "status": "completed"
    },
    "tags": []
   },
   "outputs": [],
   "source": [
    "#hide\n",
    "# g = g[cols]"
   ]
  },
  {
   "cell_type": "code",
   "execution_count": 39,
   "id": "structured-mobile",
   "metadata": {
    "execution": {
     "iopub.execute_input": "2022-04-08T12:15:01.822884Z",
     "iopub.status.busy": "2022-04-08T12:15:01.822168Z",
     "iopub.status.idle": "2022-04-08T12:15:01.823702Z",
     "shell.execute_reply": "2022-04-08T12:15:01.824357Z"
    },
    "papermill": {
     "duration": 0.041094,
     "end_time": "2022-04-08T12:15:01.824521",
     "exception": false,
     "start_time": "2022-04-08T12:15:01.783427",
     "status": "completed"
    },
    "tags": []
   },
   "outputs": [],
   "source": [
    "# #hide\n",
    "# g = g[g.group.notna()]"
   ]
  },
  {
   "cell_type": "code",
   "execution_count": 40,
   "id": "determined-closing",
   "metadata": {
    "execution": {
     "iopub.execute_input": "2022-04-08T12:15:01.901947Z",
     "iopub.status.busy": "2022-04-08T12:15:01.901333Z",
     "iopub.status.idle": "2022-04-08T12:15:01.903686Z",
     "shell.execute_reply": "2022-04-08T12:15:01.903208Z"
    },
    "papermill": {
     "duration": 0.042988,
     "end_time": "2022-04-08T12:15:01.903814",
     "exception": false,
     "start_time": "2022-04-08T12:15:01.860826",
     "status": "completed"
    },
    "tags": []
   },
   "outputs": [],
   "source": [
    "# #hide\n",
    "# colors = dict(zip(\n",
    "#     [\"Oceania\", \"Europe\", \"Asia\", \"South America\", \"Middle East\", \"North America\", \"Africa\"],\n",
    "#     [\"#adb0ff\", \"#ffb3ff\", \"#90d595\", \"#e48381\", \"#aafbff\", \"#f7bb5f\", \"#eafb50\"]\n",
    "# ))\n",
    "# group_lk = g.set_index('name')['group'].to_dict()"
   ]
  },
  {
   "cell_type": "code",
   "execution_count": null,
   "id": "gross-drinking",
   "metadata": {
    "papermill": {
     "duration": 0.035101,
     "end_time": "2022-04-08T12:15:01.973969",
     "exception": false,
     "start_time": "2022-04-08T12:15:01.938868",
     "status": "completed"
    },
    "tags": []
   },
   "outputs": [],
   "source": []
  },
  {
   "cell_type": "code",
   "execution_count": 41,
   "id": "subject-macintosh",
   "metadata": {
    "execution": {
     "iopub.execute_input": "2022-04-08T12:15:02.047462Z",
     "iopub.status.busy": "2022-04-08T12:15:02.046851Z",
     "iopub.status.idle": "2022-04-08T12:15:02.051408Z",
     "shell.execute_reply": "2022-04-08T12:15:02.050818Z"
    },
    "papermill": {
     "duration": 0.042267,
     "end_time": "2022-04-08T12:15:02.051532",
     "exception": false,
     "start_time": "2022-04-08T12:15:02.009265",
     "status": "completed"
    },
    "tags": []
   },
   "outputs": [],
   "source": [
    "# #hide\n",
    "# fig, ax = plt.subplots(figsize=(15, 8))\n",
    "\n",
    "# def draw_barchart(current_day):\n",
    "#     dff = g[g['day'].eq(current_day)].sort_values(by='value', ascending=True).tail(10)\n",
    "#     ax.clear()\n",
    "#     ax.barh(dff['name'], dff['value'], color=[colors[group_lk[x]] for x in dff['name']])\n",
    "#     dx = dff['value'].max() / 200\n",
    "    \n",
    "#     for i, (value, name) in enumerate(zip(dff['value'], dff['name'])):\n",
    "#         ax.text(value-dx, i,     name,           size=14, weight=600, ha='right', va='bottom')\n",
    "#         ax.text(value-dx, i-.25, group_lk[name], size=10, color='#444444', ha='right', va='baseline')\n",
    "#         ax.text(value+dx, i,     f'{value:,.0f}',  size=14, ha='left',  va='center')\n",
    "#     ax.text(1, 0.4, current_day, transform=ax.transAxes, color='#777777', size=46, ha='right', weight=800)\n",
    "#     ax.text(0, 1.06, 'Population (thousands)', transform=ax.transAxes, size=12, color='#777777')\n",
    "#     ax.xaxis.set_major_formatter(ticker.StrMethodFormatter('{x:,.0f}'))\n",
    "#     ax.xaxis.set_ticks_position('top')\n",
    "#     ax.tick_params(axis='x', colors='#777777', labelsize=12)\n",
    "#     ax.set_yticks([])\n",
    "#     ax.margins(0, 0.01)\n",
    "#     ax.grid(which='major', axis='x', linestyle='-')\n",
    "#     ax.set_axisbelow(True)\n",
    "    \n",
    "#     ax.text(0, 1.15, 'Coronavirus',\n",
    "#             transform=ax.transAxes, size=24, weight=600, ha='left', va='top')\n",
    "# #     ax.text(1, 0, 'by @pratapvardhan; credit @jburnmurdoch', transform=ax.transAxes, color='#777777', ha='right',\n",
    "# #             bbox=dict(facecolor='white', alpha=0.8, edgecolor='white'))\n",
    "#     plt.box(False)"
   ]
  },
  {
   "cell_type": "code",
   "execution_count": 42,
   "id": "sexual-wages",
   "metadata": {
    "execution": {
     "iopub.execute_input": "2022-04-08T12:15:02.127189Z",
     "iopub.status.busy": "2022-04-08T12:15:02.126480Z",
     "iopub.status.idle": "2022-04-08T12:15:02.127951Z",
     "shell.execute_reply": "2022-04-08T12:15:02.128611Z"
    },
    "papermill": {
     "duration": 0.042217,
     "end_time": "2022-04-08T12:15:02.128777",
     "exception": false,
     "start_time": "2022-04-08T12:15:02.086560",
     "status": "completed"
    },
    "tags": []
   },
   "outputs": [],
   "source": [
    "# #hide_input\n",
    "# fig, ax = plt.subplots(figsize=(15, 8))\n",
    "# animator = animation.FuncAnimation(fig, draw_barchart, frames=range(g.day.values.min(), g.day.values.max()))\n",
    "# HTML(animator.to_jshtml())\n",
    "# # or use animator.to_html5_video() or animator.save() "
   ]
  },
  {
   "cell_type": "code",
   "execution_count": null,
   "id": "australian-container",
   "metadata": {
    "papermill": {
     "duration": 0.038786,
     "end_time": "2022-04-08T12:15:02.208972",
     "exception": false,
     "start_time": "2022-04-08T12:15:02.170186",
     "status": "completed"
    },
    "tags": []
   },
   "outputs": [],
   "source": []
  },
  {
   "cell_type": "code",
   "execution_count": null,
   "id": "mediterranean-pontiac",
   "metadata": {
    "papermill": {
     "duration": 0.039067,
     "end_time": "2022-04-08T12:15:02.286281",
     "exception": false,
     "start_time": "2022-04-08T12:15:02.247214",
     "status": "completed"
    },
    "tags": []
   },
   "outputs": [],
   "source": []
  },
  {
   "cell_type": "code",
   "execution_count": null,
   "id": "aging-legislature",
   "metadata": {
    "papermill": {
     "duration": 0.034473,
     "end_time": "2022-04-08T12:15:02.354878",
     "exception": false,
     "start_time": "2022-04-08T12:15:02.320405",
     "status": "completed"
    },
    "tags": []
   },
   "outputs": [],
   "source": []
  }
 ],
 "metadata": {
  "kernelspec": {
   "display_name": "Python 3",
   "language": "python",
   "name": "python3"
  },
  "language_info": {
   "codemirror_mode": {
    "name": "ipython",
    "version": 3
   },
   "file_extension": ".py",
   "mimetype": "text/x-python",
   "name": "python",
   "nbconvert_exporter": "python",
   "pygments_lexer": "ipython3",
   "version": "3.6.15"
  },
  "papermill": {
   "duration": 7.082353,
   "end_time": "2022-04-08T12:15:02.809303",
   "environment_variables": {},
   "exception": null,
   "input_path": "2020-03-21-covid19exp.ipynb",
   "output_path": "2020-03-21-covid19exp.ipynb",
   "parameters": {},
   "start_time": "2022-04-08T12:14:55.726950",
   "version": "2.0.0"
  }
 },
 "nbformat": 4,
 "nbformat_minor": 5
}