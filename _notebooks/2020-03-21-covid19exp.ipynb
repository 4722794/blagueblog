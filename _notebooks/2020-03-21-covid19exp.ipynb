{
 "cells": [
  {
   "cell_type": "markdown",
   "id": "muslim-click",
   "metadata": {
    "papermill": {
     "duration": 0.039959,
     "end_time": "2021-07-05T12:10:11.066236",
     "exception": false,
     "start_time": "2021-07-05T12:10:11.026277",
     "status": "completed"
    },
    "tags": []
   },
   "source": [
    "# COVID-19 Case Race\n",
    "> A race chart to see rising cases around the world\n",
    "\n",
    "- author: Hargun Oberoi\n",
    "- image: images/covid-overview.png\n",
    "- hide: false\n",
    "- badges: false"
   ]
  },
  {
   "cell_type": "code",
   "execution_count": 1,
   "id": "proof-material",
   "metadata": {
    "execution": {
     "iopub.execute_input": "2021-07-05T12:10:11.150732Z",
     "iopub.status.busy": "2021-07-05T12:10:11.150106Z",
     "iopub.status.idle": "2021-07-05T12:10:11.539207Z",
     "shell.execute_reply": "2021-07-05T12:10:11.538318Z"
    },
    "papermill": {
     "duration": 0.43671,
     "end_time": "2021-07-05T12:10:11.539447",
     "exception": false,
     "start_time": "2021-07-05T12:10:11.102737",
     "status": "completed"
    },
    "tags": []
   },
   "outputs": [],
   "source": [
    "#hide\n",
    "import numpy as np\n",
    "import pandas as pd\n",
    "from jinja2 import Template\n",
    "from IPython.display import HTML"
   ]
  },
  {
   "cell_type": "code",
   "execution_count": 2,
   "id": "developed-terminology",
   "metadata": {
    "execution": {
     "iopub.execute_input": "2021-07-05T12:10:11.614625Z",
     "iopub.status.busy": "2021-07-05T12:10:11.613960Z",
     "iopub.status.idle": "2021-07-05T12:10:11.620549Z",
     "shell.execute_reply": "2021-07-05T12:10:11.619507Z"
    },
    "papermill": {
     "duration": 0.045266,
     "end_time": "2021-07-05T12:10:11.620703",
     "exception": false,
     "start_time": "2021-07-05T12:10:11.575437",
     "status": "completed"
    },
    "tags": []
   },
   "outputs": [],
   "source": [
    "#hide\n",
    "\n",
    "# FETCH\n",
    "base_url = 'https://raw.githubusercontent.com/pratapvardhan/notebooks/master/covid19/'\n",
    "paths = {\n",
    "    'mapping': base_url + 'mapping_countries.csv',\n",
    "    'overview': base_url + 'overview.tpl'\n",
    "}"
   ]
  },
  {
   "cell_type": "code",
   "execution_count": 3,
   "id": "dynamic-saver",
   "metadata": {
    "execution": {
     "iopub.execute_input": "2021-07-05T12:10:11.706007Z",
     "iopub.status.busy": "2021-07-05T12:10:11.704841Z",
     "iopub.status.idle": "2021-07-05T12:10:11.709270Z",
     "shell.execute_reply": "2021-07-05T12:10:11.708775Z"
    },
    "papermill": {
     "duration": 0.053275,
     "end_time": "2021-07-05T12:10:11.709399",
     "exception": false,
     "start_time": "2021-07-05T12:10:11.656124",
     "status": "completed"
    },
    "tags": []
   },
   "outputs": [
    {
     "data": {
      "text/plain": [
       "'https://raw.githubusercontent.com/pratapvardhan/notebooks/master/covid19/mapping_countries.csv'"
      ]
     },
     "execution_count": 3,
     "metadata": {},
     "output_type": "execute_result"
    }
   ],
   "source": [
    "#hide\n",
    "paths['mapping']"
   ]
  },
  {
   "cell_type": "code",
   "execution_count": 4,
   "id": "urban-software",
   "metadata": {
    "execution": {
     "iopub.execute_input": "2021-07-05T12:10:11.787729Z",
     "iopub.status.busy": "2021-07-05T12:10:11.787112Z",
     "iopub.status.idle": "2021-07-05T12:10:11.789368Z",
     "shell.execute_reply": "2021-07-05T12:10:11.788756Z"
    },
    "papermill": {
     "duration": 0.044456,
     "end_time": "2021-07-05T12:10:11.789494",
     "exception": false,
     "start_time": "2021-07-05T12:10:11.745038",
     "status": "completed"
    },
    "tags": []
   },
   "outputs": [],
   "source": [
    "#hide\n",
    "def get_mappings(url):\n",
    "    df = pd.read_csv(url)\n",
    "    return {\n",
    "        'df': df,\n",
    "        'replace.country': dict(df.dropna(subset=['Name']).set_index('Country')['Name']),\n",
    "        'map.continent': dict(df.set_index('Name')['Continent'])\n",
    "    }"
   ]
  },
  {
   "cell_type": "code",
   "execution_count": 5,
   "id": "intimate-machinery",
   "metadata": {
    "execution": {
     "iopub.execute_input": "2021-07-05T12:10:11.868346Z",
     "iopub.status.busy": "2021-07-05T12:10:11.867733Z",
     "iopub.status.idle": "2021-07-05T12:10:11.900116Z",
     "shell.execute_reply": "2021-07-05T12:10:11.899256Z"
    },
    "papermill": {
     "duration": 0.075133,
     "end_time": "2021-07-05T12:10:11.900330",
     "exception": false,
     "start_time": "2021-07-05T12:10:11.825197",
     "status": "completed"
    },
    "tags": []
   },
   "outputs": [],
   "source": [
    "#hide\n",
    "mapping = get_mappings(paths['mapping'])"
   ]
  },
  {
   "cell_type": "code",
   "execution_count": 6,
   "id": "certified-tactics",
   "metadata": {
    "execution": {
     "iopub.execute_input": "2021-07-05T12:10:11.980447Z",
     "iopub.status.busy": "2021-07-05T12:10:11.979821Z",
     "iopub.status.idle": "2021-07-05T12:10:11.982636Z",
     "shell.execute_reply": "2021-07-05T12:10:11.982080Z"
    },
    "papermill": {
     "duration": 0.044465,
     "end_time": "2021-07-05T12:10:11.982764",
     "exception": false,
     "start_time": "2021-07-05T12:10:11.938299",
     "status": "completed"
    },
    "tags": []
   },
   "outputs": [],
   "source": [
    "#hide\n",
    "def get_template(path):\n",
    "    from urllib.parse import urlparse\n",
    "    if bool(urlparse(path).netloc):\n",
    "        from urllib.request import urlopen\n",
    "        return urlopen(path).read().decode('utf8')\n",
    "    return open(path).read()"
   ]
  },
  {
   "cell_type": "code",
   "execution_count": 7,
   "id": "realistic-blast",
   "metadata": {
    "execution": {
     "iopub.execute_input": "2021-07-05T12:10:12.060222Z",
     "iopub.status.busy": "2021-07-05T12:10:12.059600Z",
     "iopub.status.idle": "2021-07-05T12:10:12.062076Z",
     "shell.execute_reply": "2021-07-05T12:10:12.062648Z"
    },
    "papermill": {
     "duration": 0.044332,
     "end_time": "2021-07-05T12:10:12.062797",
     "exception": false,
     "start_time": "2021-07-05T12:10:12.018465",
     "status": "completed"
    },
    "tags": []
   },
   "outputs": [],
   "source": [
    "#hide\n",
    "def get_frame(name):\n",
    "    url = (\n",
    "        'https://raw.githubusercontent.com/CSSEGISandData/COVID-19/master/csse_covid_19_data/'\n",
    "        f'csse_covid_19_time_series/time_series_covid19_{name}_global.csv')\n",
    "    df = pd.read_csv(url)\n",
    "    # rename countries\n",
    "    df['Country/Region'] = df['Country/Region'].replace(mapping['replace.country'])\n",
    "    return df"
   ]
  },
  {
   "cell_type": "code",
   "execution_count": 8,
   "id": "affiliated-characterization",
   "metadata": {
    "execution": {
     "iopub.execute_input": "2021-07-05T12:10:12.140965Z",
     "iopub.status.busy": "2021-07-05T12:10:12.140323Z",
     "iopub.status.idle": "2021-07-05T12:10:12.142190Z",
     "shell.execute_reply": "2021-07-05T12:10:12.142647Z"
    },
    "papermill": {
     "duration": 0.044248,
     "end_time": "2021-07-05T12:10:12.142792",
     "exception": false,
     "start_time": "2021-07-05T12:10:12.098544",
     "status": "completed"
    },
    "tags": []
   },
   "outputs": [],
   "source": [
    "#hide\n",
    "def get_dates(df):\n",
    "    dt_cols = df.columns[~df.columns.isin(['Province/State', 'Country/Region', 'Lat', 'Long'])]\n",
    "    LAST_DATE_I = -1\n",
    "    # sometimes last column may be empty, then go backwards\n",
    "    for i in range(-1, -len(dt_cols), -1):\n",
    "        if not df[dt_cols[i]].fillna(0).eq(0).all():\n",
    "            LAST_DATE_I = i\n",
    "            break\n",
    "    return LAST_DATE_I, dt_cols"
   ]
  },
  {
   "cell_type": "code",
   "execution_count": 9,
   "id": "recent-optimization",
   "metadata": {
    "execution": {
     "iopub.execute_input": "2021-07-05T12:10:12.220241Z",
     "iopub.status.busy": "2021-07-05T12:10:12.219630Z",
     "iopub.status.idle": "2021-07-05T12:10:12.577742Z",
     "shell.execute_reply": "2021-07-05T12:10:12.577149Z"
    },
    "papermill": {
     "duration": 0.399692,
     "end_time": "2021-07-05T12:10:12.577879",
     "exception": false,
     "start_time": "2021-07-05T12:10:12.178187",
     "status": "completed"
    },
    "tags": []
   },
   "outputs": [],
   "source": [
    "#hide\n",
    "COL_REGION = 'Country/Region'\n",
    "# Confirmed, Recovered, Deaths\n",
    "df = get_frame('confirmed')\n",
    "# dft_: timeseries, dfc_: today country agg\n",
    "dft_cases = df\n",
    "dft_deaths = get_frame('deaths')\n",
    "dft_recovered = get_frame('recovered')\n",
    "LAST_DATE_I, dt_cols = get_dates(df)"
   ]
  },
  {
   "cell_type": "code",
   "execution_count": 10,
   "id": "absolute-copper",
   "metadata": {
    "execution": {
     "iopub.execute_input": "2021-07-05T12:10:12.655367Z",
     "iopub.status.busy": "2021-07-05T12:10:12.654754Z",
     "iopub.status.idle": "2021-07-05T12:10:12.657031Z",
     "shell.execute_reply": "2021-07-05T12:10:12.656495Z"
    },
    "papermill": {
     "duration": 0.043389,
     "end_time": "2021-07-05T12:10:12.657157",
     "exception": false,
     "start_time": "2021-07-05T12:10:12.613768",
     "status": "completed"
    },
    "tags": []
   },
   "outputs": [],
   "source": [
    "#hide\n",
    "LAST_DATE_I, dt_cols = get_dates(df)\n",
    "dt_today =dt_cols[LAST_DATE_I]\n",
    "# dt_5day = dt_cols[LAST_DATE_I - 5]\n",
    "dt_yday = dt_cols[LAST_DATE_I - 1]"
   ]
  },
  {
   "cell_type": "code",
   "execution_count": 11,
   "id": "restricted-sheriff",
   "metadata": {
    "execution": {
     "iopub.execute_input": "2021-07-05T12:10:12.738943Z",
     "iopub.status.busy": "2021-07-05T12:10:12.738330Z",
     "iopub.status.idle": "2021-07-05T12:10:12.745660Z",
     "shell.execute_reply": "2021-07-05T12:10:12.745144Z"
    },
    "papermill": {
     "duration": 0.053224,
     "end_time": "2021-07-05T12:10:12.745785",
     "exception": false,
     "start_time": "2021-07-05T12:10:12.692561",
     "status": "completed"
    },
    "tags": []
   },
   "outputs": [],
   "source": [
    "#hide\n",
    "dfc_cases = dft_cases.groupby(COL_REGION)[dt_today].sum()\n",
    "dfc_deaths = dft_deaths.groupby(COL_REGION)[dt_today].sum()\n",
    "# dfp_cases = dft_cases.groupby(COL_REGION)[dt_5day].sum()\n",
    "# dfp_deaths = dft_deaths.groupby(COL_REGION)[dt_5day].sum()\n",
    "dfp_cases = dft_cases.groupby(COL_REGION)[dt_yday].sum()\n",
    "dfp_deaths = dft_deaths.groupby(COL_REGION)[dt_yday].sum()"
   ]
  },
  {
   "cell_type": "code",
   "execution_count": 12,
   "id": "deluxe-hepatitis",
   "metadata": {
    "execution": {
     "iopub.execute_input": "2021-07-05T12:10:12.824229Z",
     "iopub.status.busy": "2021-07-05T12:10:12.823625Z",
     "iopub.status.idle": "2021-07-05T12:10:12.828622Z",
     "shell.execute_reply": "2021-07-05T12:10:12.828135Z"
    },
    "papermill": {
     "duration": 0.047636,
     "end_time": "2021-07-05T12:10:12.828772",
     "exception": false,
     "start_time": "2021-07-05T12:10:12.781136",
     "status": "completed"
    },
    "tags": []
   },
   "outputs": [],
   "source": [
    "#hide\n",
    "df_table = (pd.DataFrame(dict(Cases = dfc_cases, Deaths = dfc_deaths, PCases = dfp_cases, PDeaths = dfp_deaths))\n",
    "            .sort_values(by = ['Cases','Deaths'], ascending = [False, False])\n",
    "            .reset_index())"
   ]
  },
  {
   "cell_type": "code",
   "execution_count": 13,
   "id": "educational-chancellor",
   "metadata": {
    "execution": {
     "iopub.execute_input": "2021-07-05T12:10:12.919830Z",
     "iopub.status.busy": "2021-07-05T12:10:12.919200Z",
     "iopub.status.idle": "2021-07-05T12:10:12.929156Z",
     "shell.execute_reply": "2021-07-05T12:10:12.928520Z"
    },
    "papermill": {
     "duration": 0.065275,
     "end_time": "2021-07-05T12:10:12.929285",
     "exception": false,
     "start_time": "2021-07-05T12:10:12.864010",
     "status": "completed"
    },
    "tags": []
   },
   "outputs": [
    {
     "data": {
      "text/html": [
       "<div>\n",
       "<style scoped>\n",
       "    .dataframe tbody tr th:only-of-type {\n",
       "        vertical-align: middle;\n",
       "    }\n",
       "\n",
       "    .dataframe tbody tr th {\n",
       "        vertical-align: top;\n",
       "    }\n",
       "\n",
       "    .dataframe thead th {\n",
       "        text-align: right;\n",
       "    }\n",
       "</style>\n",
       "<table border=\"1\" class=\"dataframe\">\n",
       "  <thead>\n",
       "    <tr style=\"text-align: right;\">\n",
       "      <th></th>\n",
       "      <th>Country/Region</th>\n",
       "      <th>Cases</th>\n",
       "      <th>Deaths</th>\n",
       "      <th>PCases</th>\n",
       "      <th>PDeaths</th>\n",
       "      <th>Cases (+)</th>\n",
       "      <th>Deaths (+)</th>\n",
       "      <th>Fatality Rate</th>\n",
       "      <th>Continent</th>\n",
       "    </tr>\n",
       "  </thead>\n",
       "  <tbody>\n",
       "    <tr>\n",
       "      <th>0</th>\n",
       "      <td>US</td>\n",
       "      <td>33717567</td>\n",
       "      <td>605526</td>\n",
       "      <td>33713870</td>\n",
       "      <td>605493</td>\n",
       "      <td>3697</td>\n",
       "      <td>33</td>\n",
       "      <td>1.80</td>\n",
       "      <td>North America</td>\n",
       "    </tr>\n",
       "    <tr>\n",
       "      <th>1</th>\n",
       "      <td>India</td>\n",
       "      <td>30585229</td>\n",
       "      <td>402728</td>\n",
       "      <td>30545433</td>\n",
       "      <td>402005</td>\n",
       "      <td>39796</td>\n",
       "      <td>723</td>\n",
       "      <td>1.32</td>\n",
       "      <td>Asia</td>\n",
       "    </tr>\n",
       "    <tr>\n",
       "      <th>2</th>\n",
       "      <td>Brazil</td>\n",
       "      <td>18769808</td>\n",
       "      <td>524417</td>\n",
       "      <td>18742025</td>\n",
       "      <td>523587</td>\n",
       "      <td>27783</td>\n",
       "      <td>830</td>\n",
       "      <td>2.79</td>\n",
       "      <td>South America</td>\n",
       "    </tr>\n",
       "    <tr>\n",
       "      <th>3</th>\n",
       "      <td>France</td>\n",
       "      <td>5848171</td>\n",
       "      <td>111323</td>\n",
       "      <td>5845622</td>\n",
       "      <td>111314</td>\n",
       "      <td>2549</td>\n",
       "      <td>9</td>\n",
       "      <td>1.90</td>\n",
       "      <td>Europe</td>\n",
       "    </tr>\n",
       "    <tr>\n",
       "      <th>4</th>\n",
       "      <td>Russia</td>\n",
       "      <td>5544209</td>\n",
       "      <td>135637</td>\n",
       "      <td>5519516</td>\n",
       "      <td>134987</td>\n",
       "      <td>24693</td>\n",
       "      <td>650</td>\n",
       "      <td>2.45</td>\n",
       "      <td>Europe</td>\n",
       "    </tr>\n",
       "  </tbody>\n",
       "</table>\n",
       "</div>"
      ],
      "text/plain": [
       "  Country/Region     Cases  Deaths    PCases  PDeaths  Cases (+)  Deaths (+)  \\\n",
       "0             US  33717567  605526  33713870   605493       3697          33   \n",
       "1          India  30585229  402728  30545433   402005      39796         723   \n",
       "2         Brazil  18769808  524417  18742025   523587      27783         830   \n",
       "3         France   5848171  111323   5845622   111314       2549           9   \n",
       "4         Russia   5544209  135637   5519516   134987      24693         650   \n",
       "\n",
       "   Fatality Rate      Continent  \n",
       "0           1.80  North America  \n",
       "1           1.32           Asia  \n",
       "2           2.79  South America  \n",
       "3           1.90         Europe  \n",
       "4           2.45         Europe  "
      ]
     },
     "execution_count": 13,
     "metadata": {},
     "output_type": "execute_result"
    }
   ],
   "source": [
    "#hide\n",
    "for c in 'Cases, Deaths'.split(', '):\n",
    "    df_table[f'{c} (+)'] = (df_table[c] - df_table[f'P{c}']).clip(0)\n",
    "    #Clip ça veut dire, les chiffres negatif sont interdit\n",
    "df_table['Fatality Rate'] = (100* df_table['Deaths']/ df_table['Cases']).round(2)\n",
    "df_table['Continent'] = df_table['Country/Region'].map(mapping['map.continent'])\n",
    "df_table.head(5)"
   ]
  },
  {
   "cell_type": "code",
   "execution_count": 14,
   "id": "aboriginal-bulgaria",
   "metadata": {
    "execution": {
     "iopub.execute_input": "2021-07-05T12:10:13.009603Z",
     "iopub.status.busy": "2021-07-05T12:10:13.008972Z",
     "iopub.status.idle": "2021-07-05T12:10:13.011342Z",
     "shell.execute_reply": "2021-07-05T12:10:13.011912Z"
    },
    "papermill": {
     "duration": 0.0468,
     "end_time": "2021-07-05T12:10:13.012056",
     "exception": false,
     "start_time": "2021-07-05T12:10:12.965256",
     "status": "completed"
    },
    "tags": []
   },
   "outputs": [],
   "source": [
    "#hide\n",
    "#delete problematic countries from table\n",
    "df_table = df_table[~df_table['Country/Region'].isin(['Cape Verde', 'Cruise Ship', 'Kosovo'])]"
   ]
  },
  {
   "cell_type": "code",
   "execution_count": 15,
   "id": "fantastic-effect",
   "metadata": {
    "execution": {
     "iopub.execute_input": "2021-07-05T12:10:13.095561Z",
     "iopub.status.busy": "2021-07-05T12:10:13.094948Z",
     "iopub.status.idle": "2021-07-05T12:10:13.115653Z",
     "shell.execute_reply": "2021-07-05T12:10:13.115132Z"
    },
    "papermill": {
     "duration": 0.067899,
     "end_time": "2021-07-05T12:10:13.115781",
     "exception": false,
     "start_time": "2021-07-05T12:10:13.047882",
     "status": "completed"
    },
    "tags": []
   },
   "outputs": [
    {
     "data": {
      "text/html": [
       "<div>\n",
       "<style scoped>\n",
       "    .dataframe tbody tr th:only-of-type {\n",
       "        vertical-align: middle;\n",
       "    }\n",
       "\n",
       "    .dataframe tbody tr th {\n",
       "        vertical-align: top;\n",
       "    }\n",
       "\n",
       "    .dataframe thead th {\n",
       "        text-align: right;\n",
       "    }\n",
       "</style>\n",
       "<table border=\"1\" class=\"dataframe\">\n",
       "  <thead>\n",
       "    <tr style=\"text-align: right;\">\n",
       "      <th></th>\n",
       "      <th>Country/Region</th>\n",
       "      <th>Cases</th>\n",
       "      <th>Deaths</th>\n",
       "      <th>PCases</th>\n",
       "      <th>PDeaths</th>\n",
       "      <th>Cases (+)</th>\n",
       "      <th>Deaths (+)</th>\n",
       "      <th>Fatality Rate</th>\n",
       "      <th>Continent</th>\n",
       "    </tr>\n",
       "  </thead>\n",
       "  <tbody>\n",
       "    <tr>\n",
       "      <th>0</th>\n",
       "      <td>US</td>\n",
       "      <td>33717567</td>\n",
       "      <td>605526</td>\n",
       "      <td>33713870</td>\n",
       "      <td>605493</td>\n",
       "      <td>3697</td>\n",
       "      <td>33</td>\n",
       "      <td>1.8</td>\n",
       "      <td>North America</td>\n",
       "    </tr>\n",
       "    <tr>\n",
       "      <th>1</th>\n",
       "      <td>India</td>\n",
       "      <td>30585229</td>\n",
       "      <td>402728</td>\n",
       "      <td>30545433</td>\n",
       "      <td>402005</td>\n",
       "      <td>39796</td>\n",
       "      <td>723</td>\n",
       "      <td>1.3</td>\n",
       "      <td>Asia</td>\n",
       "    </tr>\n",
       "    <tr>\n",
       "      <th>2</th>\n",
       "      <td>Brazil</td>\n",
       "      <td>18769808</td>\n",
       "      <td>524417</td>\n",
       "      <td>18742025</td>\n",
       "      <td>523587</td>\n",
       "      <td>27783</td>\n",
       "      <td>830</td>\n",
       "      <td>2.8</td>\n",
       "      <td>South America</td>\n",
       "    </tr>\n",
       "    <tr>\n",
       "      <th>3</th>\n",
       "      <td>France</td>\n",
       "      <td>5848171</td>\n",
       "      <td>111323</td>\n",
       "      <td>5845622</td>\n",
       "      <td>111314</td>\n",
       "      <td>2549</td>\n",
       "      <td>9</td>\n",
       "      <td>1.9</td>\n",
       "      <td>Europe</td>\n",
       "    </tr>\n",
       "    <tr>\n",
       "      <th>4</th>\n",
       "      <td>Russia</td>\n",
       "      <td>5544209</td>\n",
       "      <td>135637</td>\n",
       "      <td>5519516</td>\n",
       "      <td>134987</td>\n",
       "      <td>24693</td>\n",
       "      <td>650</td>\n",
       "      <td>2.4</td>\n",
       "      <td>Europe</td>\n",
       "    </tr>\n",
       "  </tbody>\n",
       "</table>\n",
       "</div>"
      ],
      "text/plain": [
       "  Country/Region     Cases  Deaths    PCases  PDeaths  Cases (+)  Deaths (+)  \\\n",
       "0             US  33717567  605526  33713870   605493       3697          33   \n",
       "1          India  30585229  402728  30545433   402005      39796         723   \n",
       "2         Brazil  18769808  524417  18742025   523587      27783         830   \n",
       "3         France   5848171  111323   5845622   111314       2549           9   \n",
       "4         Russia   5544209  135637   5519516   134987      24693         650   \n",
       "\n",
       "   Fatality Rate      Continent  \n",
       "0            1.8  North America  \n",
       "1            1.3           Asia  \n",
       "2            2.8  South America  \n",
       "3            1.9         Europe  \n",
       "4            2.4         Europe  "
      ]
     },
     "execution_count": 15,
     "metadata": {},
     "output_type": "execute_result"
    }
   ],
   "source": [
    "#hide\n",
    "df_table = (pd.DataFrame(dict(Cases=dfc_cases, Deaths=dfc_deaths, PCases=dfp_cases, PDeaths=dfp_deaths))\n",
    "             .sort_values(by=['Cases', 'Deaths'], ascending=[False, False])\n",
    "             .reset_index())\n",
    "df_table.rename(columns={'index': 'Country/Region'}, inplace=True)\n",
    "for c in 'Cases, Deaths'.split(', '):\n",
    "    df_table[f'{c} (+)'] = (df_table[c] - df_table[f'P{c}']).clip(0)  # DATA BUG\n",
    "df_table['Fatality Rate'] = (100 * df_table['Deaths'] / df_table['Cases']).round(1)\n",
    "df_table['Continent'] = df_table['Country/Region'].map(mapping['map.continent'])\n",
    "df_table.head(5)"
   ]
  },
  {
   "cell_type": "code",
   "execution_count": 16,
   "id": "fewer-occasion",
   "metadata": {
    "execution": {
     "iopub.execute_input": "2021-07-05T12:10:13.197468Z",
     "iopub.status.busy": "2021-07-05T12:10:13.196839Z",
     "iopub.status.idle": "2021-07-05T12:10:13.199112Z",
     "shell.execute_reply": "2021-07-05T12:10:13.198599Z"
    },
    "papermill": {
     "duration": 0.0465,
     "end_time": "2021-07-05T12:10:13.199238",
     "exception": false,
     "start_time": "2021-07-05T12:10:13.152738",
     "status": "completed"
    },
    "tags": []
   },
   "outputs": [],
   "source": [
    "#hide\n",
    "#delete problematic countries from table\n",
    "df_table = df_table[~df_table['Country/Region'].isin(['Cape Verde', 'Cruise Ship', 'Kosovo'])]"
   ]
  },
  {
   "cell_type": "code",
   "execution_count": 17,
   "id": "related-center",
   "metadata": {
    "execution": {
     "iopub.execute_input": "2021-07-05T12:10:13.294045Z",
     "iopub.status.busy": "2021-07-05T12:10:13.293408Z",
     "iopub.status.idle": "2021-07-05T12:10:13.296104Z",
     "shell.execute_reply": "2021-07-05T12:10:13.295568Z"
    },
    "papermill": {
     "duration": 0.060529,
     "end_time": "2021-07-05T12:10:13.296233",
     "exception": false,
     "start_time": "2021-07-05T12:10:13.235704",
     "status": "completed"
    },
    "tags": []
   },
   "outputs": [],
   "source": [
    "#hide\n",
    "metrics = [df_table.columns[index] for index in [1,2,5,6]]\n",
    "# s_china = df_table[df_table['Country/Region'].eq('China')][metrics].sum().add_prefix('China ')\n",
    "s_us = df_table[df_table['Country/Region'].eq('US')][metrics].sum().add_prefix('US ')\n",
    "s_eu = df_table[df_table['Continent'].eq('Europe')][metrics].sum().add_prefix('EU ')\n",
    "s_ind = df_table[df_table['Country/Region'].eq('India')][metrics].sum().add_prefix('India ')\n",
    "summary = {'updated': pd.to_datetime(dt_today), 'since': pd.to_datetime(dt_yday)}\n",
    "summary = {'updated': pd.to_datetime(dt_today), 'since': pd.to_datetime(dt_yday)}\n",
    "summary = {**summary, **df_table[metrics].sum(), **s_ind, **s_us, **s_eu}"
   ]
  },
  {
   "cell_type": "code",
   "execution_count": 18,
   "id": "engaging-syndrome",
   "metadata": {
    "execution": {
     "iopub.execute_input": "2021-07-05T12:10:13.378365Z",
     "iopub.status.busy": "2021-07-05T12:10:13.374808Z",
     "iopub.status.idle": "2021-07-05T12:10:13.389391Z",
     "shell.execute_reply": "2021-07-05T12:10:13.389883Z"
    },
    "papermill": {
     "duration": 0.057089,
     "end_time": "2021-07-05T12:10:13.390035",
     "exception": false,
     "start_time": "2021-07-05T12:10:13.332946",
     "status": "completed"
    },
    "tags": []
   },
   "outputs": [],
   "source": [
    "#hide\n",
    "dft_ct_new_cases = dft_cases.groupby(COL_REGION)[dt_cols].sum().diff(axis=1).fillna(0).astype(int)"
   ]
  },
  {
   "cell_type": "code",
   "execution_count": 19,
   "id": "neutral-assignment",
   "metadata": {
    "execution": {
     "iopub.execute_input": "2021-07-05T12:10:13.469652Z",
     "iopub.status.busy": "2021-07-05T12:10:13.469021Z",
     "iopub.status.idle": "2021-07-05T12:10:13.471236Z",
     "shell.execute_reply": "2021-07-05T12:10:13.471726Z"
    },
    "papermill": {
     "duration": 0.045359,
     "end_time": "2021-07-05T12:10:13.471876",
     "exception": false,
     "start_time": "2021-07-05T12:10:13.426517",
     "status": "completed"
    },
    "tags": []
   },
   "outputs": [],
   "source": [
    "#hide\n",
    "everydaycases = dft_ct_new_cases.cumsum(axis=1)"
   ]
  },
  {
   "cell_type": "code",
   "execution_count": 20,
   "id": "parliamentary-calgary",
   "metadata": {
    "execution": {
     "iopub.execute_input": "2021-07-05T12:10:13.551576Z",
     "iopub.status.busy": "2021-07-05T12:10:13.550963Z",
     "iopub.status.idle": "2021-07-05T12:10:14.166732Z",
     "shell.execute_reply": "2021-07-05T12:10:14.165874Z"
    },
    "papermill": {
     "duration": 0.658421,
     "end_time": "2021-07-05T12:10:14.166942",
     "exception": false,
     "start_time": "2021-07-05T12:10:13.508521",
     "status": "completed"
    },
    "tags": []
   },
   "outputs": [],
   "source": [
    "#hide\n",
    "import pandas as pd\n",
    "import matplotlib.pyplot as plt\n",
    "import matplotlib.ticker as ticker\n",
    "import matplotlib.animation as animation\n",
    "from IPython.display import HTML"
   ]
  },
  {
   "cell_type": "code",
   "execution_count": 21,
   "id": "lasting-extraction",
   "metadata": {
    "execution": {
     "iopub.execute_input": "2021-07-05T12:10:14.248759Z",
     "iopub.status.busy": "2021-07-05T12:10:14.248128Z",
     "iopub.status.idle": "2021-07-05T12:10:14.255135Z",
     "shell.execute_reply": "2021-07-05T12:10:14.254642Z"
    },
    "papermill": {
     "duration": 0.050756,
     "end_time": "2021-07-05T12:10:14.255262",
     "exception": false,
     "start_time": "2021-07-05T12:10:14.204506",
     "status": "completed"
    },
    "tags": []
   },
   "outputs": [],
   "source": [
    "#hide\n",
    "t = everydaycases.stack()"
   ]
  },
  {
   "cell_type": "code",
   "execution_count": 22,
   "id": "premier-sleeve",
   "metadata": {
    "execution": {
     "iopub.execute_input": "2021-07-05T12:10:14.335873Z",
     "iopub.status.busy": "2021-07-05T12:10:14.332369Z",
     "iopub.status.idle": "2021-07-05T12:10:14.342536Z",
     "shell.execute_reply": "2021-07-05T12:10:14.343016Z"
    },
    "papermill": {
     "duration": 0.051521,
     "end_time": "2021-07-05T12:10:14.343157",
     "exception": false,
     "start_time": "2021-07-05T12:10:14.291636",
     "status": "completed"
    },
    "tags": []
   },
   "outputs": [],
   "source": [
    "#hide\n",
    "g = t.reset_index(['Country/Region'])"
   ]
  },
  {
   "cell_type": "code",
   "execution_count": 23,
   "id": "distributed-pittsburgh",
   "metadata": {
    "execution": {
     "iopub.execute_input": "2021-07-05T12:10:14.421113Z",
     "iopub.status.busy": "2021-07-05T12:10:14.420492Z",
     "iopub.status.idle": "2021-07-05T12:10:14.423359Z",
     "shell.execute_reply": "2021-07-05T12:10:14.423931Z"
    },
    "papermill": {
     "duration": 0.044668,
     "end_time": "2021-07-05T12:10:14.424071",
     "exception": false,
     "start_time": "2021-07-05T12:10:14.379403",
     "status": "completed"
    },
    "tags": []
   },
   "outputs": [],
   "source": [
    "#hide\n",
    "g.index.name = 'date'"
   ]
  },
  {
   "cell_type": "code",
   "execution_count": 24,
   "id": "naked-donor",
   "metadata": {
    "execution": {
     "iopub.execute_input": "2021-07-05T12:10:14.501290Z",
     "iopub.status.busy": "2021-07-05T12:10:14.500662Z",
     "iopub.status.idle": "2021-07-05T12:10:14.503070Z",
     "shell.execute_reply": "2021-07-05T12:10:14.503636Z"
    },
    "papermill": {
     "duration": 0.043308,
     "end_time": "2021-07-05T12:10:14.503772",
     "exception": false,
     "start_time": "2021-07-05T12:10:14.460464",
     "status": "completed"
    },
    "tags": []
   },
   "outputs": [],
   "source": [
    "# #hide\n",
    "# g = g.reset_index(['date'])"
   ]
  },
  {
   "cell_type": "code",
   "execution_count": 25,
   "id": "incomplete-mustang",
   "metadata": {
    "execution": {
     "iopub.execute_input": "2021-07-05T12:10:14.580225Z",
     "iopub.status.busy": "2021-07-05T12:10:14.579630Z",
     "iopub.status.idle": "2021-07-05T12:10:14.582314Z",
     "shell.execute_reply": "2021-07-05T12:10:14.582796Z"
    },
    "papermill": {
     "duration": 0.042869,
     "end_time": "2021-07-05T12:10:14.582935",
     "exception": false,
     "start_time": "2021-07-05T12:10:14.540066",
     "status": "completed"
    },
    "tags": []
   },
   "outputs": [],
   "source": [
    "#hide\n",
    "# g.head()"
   ]
  },
  {
   "cell_type": "code",
   "execution_count": 26,
   "id": "specific-kruger",
   "metadata": {
    "execution": {
     "iopub.execute_input": "2021-07-05T12:10:14.660143Z",
     "iopub.status.busy": "2021-07-05T12:10:14.659528Z",
     "iopub.status.idle": "2021-07-05T12:10:14.662233Z",
     "shell.execute_reply": "2021-07-05T12:10:14.662773Z"
    },
    "papermill": {
     "duration": 0.043523,
     "end_time": "2021-07-05T12:10:14.662919",
     "exception": false,
     "start_time": "2021-07-05T12:10:14.619396",
     "status": "completed"
    },
    "tags": []
   },
   "outputs": [],
   "source": [
    "#hide\n",
    "# g.columns = ['date','country','cases']"
   ]
  },
  {
   "cell_type": "code",
   "execution_count": 27,
   "id": "tender-conversion",
   "metadata": {
    "execution": {
     "iopub.execute_input": "2021-07-05T12:10:14.740660Z",
     "iopub.status.busy": "2021-07-05T12:10:14.740064Z",
     "iopub.status.idle": "2021-07-05T12:10:14.742286Z",
     "shell.execute_reply": "2021-07-05T12:10:14.741782Z"
    },
    "papermill": {
     "duration": 0.043028,
     "end_time": "2021-07-05T12:10:14.742406",
     "exception": false,
     "start_time": "2021-07-05T12:10:14.699378",
     "status": "completed"
    },
    "tags": []
   },
   "outputs": [],
   "source": [
    "#hide\n",
    "# g['continent'] = g.country"
   ]
  },
  {
   "cell_type": "code",
   "execution_count": 28,
   "id": "substantial-wilderness",
   "metadata": {
    "execution": {
     "iopub.execute_input": "2021-07-05T12:10:14.819636Z",
     "iopub.status.busy": "2021-07-05T12:10:14.819027Z",
     "iopub.status.idle": "2021-07-05T12:10:14.822253Z",
     "shell.execute_reply": "2021-07-05T12:10:14.821749Z"
    },
    "papermill": {
     "duration": 0.043329,
     "end_time": "2021-07-05T12:10:14.822371",
     "exception": false,
     "start_time": "2021-07-05T12:10:14.779042",
     "status": "completed"
    },
    "tags": []
   },
   "outputs": [],
   "source": [
    "#hide\n",
    "# cols = list(g.columns.values)"
   ]
  },
  {
   "cell_type": "code",
   "execution_count": 29,
   "id": "solved-farming",
   "metadata": {
    "execution": {
     "iopub.execute_input": "2021-07-05T12:10:14.901085Z",
     "iopub.status.busy": "2021-07-05T12:10:14.900464Z",
     "iopub.status.idle": "2021-07-05T12:10:14.903155Z",
     "shell.execute_reply": "2021-07-05T12:10:14.902652Z"
    },
    "papermill": {
     "duration": 0.0433,
     "end_time": "2021-07-05T12:10:14.903274",
     "exception": false,
     "start_time": "2021-07-05T12:10:14.859974",
     "status": "completed"
    },
    "tags": []
   },
   "outputs": [],
   "source": [
    "#hide\n",
    "# cols.insert(0, cols.pop())"
   ]
  },
  {
   "cell_type": "code",
   "execution_count": 30,
   "id": "executed-adoption",
   "metadata": {
    "execution": {
     "iopub.execute_input": "2021-07-05T12:10:14.980204Z",
     "iopub.status.busy": "2021-07-05T12:10:14.979600Z",
     "iopub.status.idle": "2021-07-05T12:10:14.982058Z",
     "shell.execute_reply": "2021-07-05T12:10:14.982611Z"
    },
    "papermill": {
     "duration": 0.043158,
     "end_time": "2021-07-05T12:10:14.982750",
     "exception": false,
     "start_time": "2021-07-05T12:10:14.939592",
     "status": "completed"
    },
    "tags": []
   },
   "outputs": [],
   "source": [
    "#hide\n",
    "# g = g[cols]"
   ]
  },
  {
   "cell_type": "code",
   "execution_count": 31,
   "id": "subject-dublin",
   "metadata": {
    "execution": {
     "iopub.execute_input": "2021-07-05T12:10:15.060110Z",
     "iopub.status.busy": "2021-07-05T12:10:15.059502Z",
     "iopub.status.idle": "2021-07-05T12:10:15.061946Z",
     "shell.execute_reply": "2021-07-05T12:10:15.062508Z"
    },
    "papermill": {
     "duration": 0.043508,
     "end_time": "2021-07-05T12:10:15.062654",
     "exception": false,
     "start_time": "2021-07-05T12:10:15.019146",
     "status": "completed"
    },
    "tags": []
   },
   "outputs": [],
   "source": [
    "#hide\n",
    "# g['continent'] = g['continent'].map(mapping['map.continent'])"
   ]
  },
  {
   "cell_type": "code",
   "execution_count": 32,
   "id": "freelance-scout",
   "metadata": {
    "execution": {
     "iopub.execute_input": "2021-07-05T12:10:15.140350Z",
     "iopub.status.busy": "2021-07-05T12:10:15.139735Z",
     "iopub.status.idle": "2021-07-05T12:10:15.142182Z",
     "shell.execute_reply": "2021-07-05T12:10:15.142743Z"
    },
    "papermill": {
     "duration": 0.043292,
     "end_time": "2021-07-05T12:10:15.142885",
     "exception": false,
     "start_time": "2021-07-05T12:10:15.099593",
     "status": "completed"
    },
    "tags": []
   },
   "outputs": [],
   "source": [
    "#hide\n",
    "# g.head()"
   ]
  },
  {
   "cell_type": "code",
   "execution_count": 33,
   "id": "limited-engine",
   "metadata": {
    "execution": {
     "iopub.execute_input": "2021-07-05T12:10:15.220464Z",
     "iopub.status.busy": "2021-07-05T12:10:15.219607Z",
     "iopub.status.idle": "2021-07-05T12:10:15.222717Z",
     "shell.execute_reply": "2021-07-05T12:10:15.223195Z"
    },
    "papermill": {
     "duration": 0.044048,
     "end_time": "2021-07-05T12:10:15.223338",
     "exception": false,
     "start_time": "2021-07-05T12:10:15.179290",
     "status": "completed"
    },
    "tags": []
   },
   "outputs": [],
   "source": [
    "# hide\n",
    "# g['date'] = g['date'].astype('datetime64[ns]')"
   ]
  },
  {
   "cell_type": "code",
   "execution_count": 34,
   "id": "sophisticated-supervisor",
   "metadata": {
    "execution": {
     "iopub.execute_input": "2021-07-05T12:10:15.301216Z",
     "iopub.status.busy": "2021-07-05T12:10:15.300576Z",
     "iopub.status.idle": "2021-07-05T12:10:15.303016Z",
     "shell.execute_reply": "2021-07-05T12:10:15.303590Z"
    },
    "papermill": {
     "duration": 0.043879,
     "end_time": "2021-07-05T12:10:15.303733",
     "exception": false,
     "start_time": "2021-07-05T12:10:15.259854",
     "status": "completed"
    },
    "tags": []
   },
   "outputs": [],
   "source": [
    "#hide\n",
    "# g['date'] = g.date.dt.dayofyear"
   ]
  },
  {
   "cell_type": "code",
   "execution_count": 35,
   "id": "inside-dubai",
   "metadata": {
    "execution": {
     "iopub.execute_input": "2021-07-05T12:10:15.380744Z",
     "iopub.status.busy": "2021-07-05T12:10:15.380122Z",
     "iopub.status.idle": "2021-07-05T12:10:15.383147Z",
     "shell.execute_reply": "2021-07-05T12:10:15.382562Z"
    },
    "papermill": {
     "duration": 0.043201,
     "end_time": "2021-07-05T12:10:15.383266",
     "exception": false,
     "start_time": "2021-07-05T12:10:15.340065",
     "status": "completed"
    },
    "tags": []
   },
   "outputs": [],
   "source": [
    "#hide\n",
    "# g = g.rename(columns= {'continent':'group','country':'name','cases':'value'})"
   ]
  },
  {
   "cell_type": "code",
   "execution_count": 36,
   "id": "fleet-motorcycle",
   "metadata": {
    "execution": {
     "iopub.execute_input": "2021-07-05T12:10:15.461049Z",
     "iopub.status.busy": "2021-07-05T12:10:15.460416Z",
     "iopub.status.idle": "2021-07-05T12:10:15.463184Z",
     "shell.execute_reply": "2021-07-05T12:10:15.462678Z"
    },
    "papermill": {
     "duration": 0.043496,
     "end_time": "2021-07-05T12:10:15.463304",
     "exception": false,
     "start_time": "2021-07-05T12:10:15.419808",
     "status": "completed"
    },
    "tags": []
   },
   "outputs": [],
   "source": [
    "#hide\n",
    "# cols = ['name','group','day','value']"
   ]
  },
  {
   "cell_type": "code",
   "execution_count": 37,
   "id": "continued-sleeping",
   "metadata": {
    "execution": {
     "iopub.execute_input": "2021-07-05T12:10:15.540386Z",
     "iopub.status.busy": "2021-07-05T12:10:15.539788Z",
     "iopub.status.idle": "2021-07-05T12:10:15.542179Z",
     "shell.execute_reply": "2021-07-05T12:10:15.542748Z"
    },
    "papermill": {
     "duration": 0.043374,
     "end_time": "2021-07-05T12:10:15.542883",
     "exception": false,
     "start_time": "2021-07-05T12:10:15.499509",
     "status": "completed"
    },
    "tags": []
   },
   "outputs": [],
   "source": [
    "#hide\n",
    "# g.rename(columns= {'date':'day'},inplace = True)"
   ]
  },
  {
   "cell_type": "code",
   "execution_count": 38,
   "id": "major-fight",
   "metadata": {
    "execution": {
     "iopub.execute_input": "2021-07-05T12:10:15.620129Z",
     "iopub.status.busy": "2021-07-05T12:10:15.619538Z",
     "iopub.status.idle": "2021-07-05T12:10:15.621966Z",
     "shell.execute_reply": "2021-07-05T12:10:15.622532Z"
    },
    "papermill": {
     "duration": 0.043451,
     "end_time": "2021-07-05T12:10:15.622667",
     "exception": false,
     "start_time": "2021-07-05T12:10:15.579216",
     "status": "completed"
    },
    "tags": []
   },
   "outputs": [],
   "source": [
    "#hide\n",
    "# g = g[cols]"
   ]
  },
  {
   "cell_type": "code",
   "execution_count": 39,
   "id": "structured-mobile",
   "metadata": {
    "execution": {
     "iopub.execute_input": "2021-07-05T12:10:15.698200Z",
     "iopub.status.busy": "2021-07-05T12:10:15.697601Z",
     "iopub.status.idle": "2021-07-05T12:10:15.702598Z",
     "shell.execute_reply": "2021-07-05T12:10:15.702120Z"
    },
    "papermill": {
     "duration": 0.043952,
     "end_time": "2021-07-05T12:10:15.702717",
     "exception": false,
     "start_time": "2021-07-05T12:10:15.658765",
     "status": "completed"
    },
    "tags": []
   },
   "outputs": [],
   "source": [
    "# #hide\n",
    "# g = g[g.group.notna()]"
   ]
  },
  {
   "cell_type": "code",
   "execution_count": 40,
   "id": "determined-closing",
   "metadata": {
    "execution": {
     "iopub.execute_input": "2021-07-05T12:10:15.779983Z",
     "iopub.status.busy": "2021-07-05T12:10:15.779385Z",
     "iopub.status.idle": "2021-07-05T12:10:15.782230Z",
     "shell.execute_reply": "2021-07-05T12:10:15.782797Z"
    },
    "papermill": {
     "duration": 0.043755,
     "end_time": "2021-07-05T12:10:15.782929",
     "exception": false,
     "start_time": "2021-07-05T12:10:15.739174",
     "status": "completed"
    },
    "tags": []
   },
   "outputs": [],
   "source": [
    "# #hide\n",
    "# colors = dict(zip(\n",
    "#     [\"Oceania\", \"Europe\", \"Asia\", \"South America\", \"Middle East\", \"North America\", \"Africa\"],\n",
    "#     [\"#adb0ff\", \"#ffb3ff\", \"#90d595\", \"#e48381\", \"#aafbff\", \"#f7bb5f\", \"#eafb50\"]\n",
    "# ))\n",
    "# group_lk = g.set_index('name')['group'].to_dict()"
   ]
  },
  {
   "cell_type": "code",
   "execution_count": null,
   "id": "gross-drinking",
   "metadata": {
    "papermill": {
     "duration": 0.036082,
     "end_time": "2021-07-05T12:10:15.855099",
     "exception": false,
     "start_time": "2021-07-05T12:10:15.819017",
     "status": "completed"
    },
    "tags": []
   },
   "outputs": [],
   "source": []
  },
  {
   "cell_type": "code",
   "execution_count": 41,
   "id": "subject-macintosh",
   "metadata": {
    "execution": {
     "iopub.execute_input": "2021-07-05T12:10:15.932595Z",
     "iopub.status.busy": "2021-07-05T12:10:15.931961Z",
     "iopub.status.idle": "2021-07-05T12:10:15.934600Z",
     "shell.execute_reply": "2021-07-05T12:10:15.935157Z"
    },
    "papermill": {
     "duration": 0.04401,
     "end_time": "2021-07-05T12:10:15.935296",
     "exception": false,
     "start_time": "2021-07-05T12:10:15.891286",
     "status": "completed"
    },
    "tags": []
   },
   "outputs": [],
   "source": [
    "# #hide\n",
    "# fig, ax = plt.subplots(figsize=(15, 8))\n",
    "\n",
    "# def draw_barchart(current_day):\n",
    "#     dff = g[g['day'].eq(current_day)].sort_values(by='value', ascending=True).tail(10)\n",
    "#     ax.clear()\n",
    "#     ax.barh(dff['name'], dff['value'], color=[colors[group_lk[x]] for x in dff['name']])\n",
    "#     dx = dff['value'].max() / 200\n",
    "    \n",
    "#     for i, (value, name) in enumerate(zip(dff['value'], dff['name'])):\n",
    "#         ax.text(value-dx, i,     name,           size=14, weight=600, ha='right', va='bottom')\n",
    "#         ax.text(value-dx, i-.25, group_lk[name], size=10, color='#444444', ha='right', va='baseline')\n",
    "#         ax.text(value+dx, i,     f'{value:,.0f}',  size=14, ha='left',  va='center')\n",
    "#     ax.text(1, 0.4, current_day, transform=ax.transAxes, color='#777777', size=46, ha='right', weight=800)\n",
    "#     ax.text(0, 1.06, 'Population (thousands)', transform=ax.transAxes, size=12, color='#777777')\n",
    "#     ax.xaxis.set_major_formatter(ticker.StrMethodFormatter('{x:,.0f}'))\n",
    "#     ax.xaxis.set_ticks_position('top')\n",
    "#     ax.tick_params(axis='x', colors='#777777', labelsize=12)\n",
    "#     ax.set_yticks([])\n",
    "#     ax.margins(0, 0.01)\n",
    "#     ax.grid(which='major', axis='x', linestyle='-')\n",
    "#     ax.set_axisbelow(True)\n",
    "    \n",
    "#     ax.text(0, 1.15, 'Coronavirus',\n",
    "#             transform=ax.transAxes, size=24, weight=600, ha='left', va='top')\n",
    "# #     ax.text(1, 0, 'by @pratapvardhan; credit @jburnmurdoch', transform=ax.transAxes, color='#777777', ha='right',\n",
    "# #             bbox=dict(facecolor='white', alpha=0.8, edgecolor='white'))\n",
    "#     plt.box(False)"
   ]
  },
  {
   "cell_type": "code",
   "execution_count": 42,
   "id": "sexual-wages",
   "metadata": {
    "execution": {
     "iopub.execute_input": "2021-07-05T12:10:16.011895Z",
     "iopub.status.busy": "2021-07-05T12:10:16.011295Z",
     "iopub.status.idle": "2021-07-05T12:10:16.013549Z",
     "shell.execute_reply": "2021-07-05T12:10:16.012959Z"
    },
    "papermill": {
     "duration": 0.042162,
     "end_time": "2021-07-05T12:10:16.013664",
     "exception": false,
     "start_time": "2021-07-05T12:10:15.971502",
     "status": "completed"
    },
    "tags": []
   },
   "outputs": [],
   "source": [
    "# #hide_input\n",
    "# fig, ax = plt.subplots(figsize=(15, 8))\n",
    "# animator = animation.FuncAnimation(fig, draw_barchart, frames=range(g.day.values.min(), g.day.values.max()))\n",
    "# HTML(animator.to_jshtml())\n",
    "# # or use animator.to_html5_video() or animator.save() "
   ]
  },
  {
   "cell_type": "code",
   "execution_count": null,
   "id": "australian-container",
   "metadata": {
    "papermill": {
     "duration": 0.03605,
     "end_time": "2021-07-05T12:10:16.085898",
     "exception": false,
     "start_time": "2021-07-05T12:10:16.049848",
     "status": "completed"
    },
    "tags": []
   },
   "outputs": [],
   "source": []
  },
  {
   "cell_type": "code",
   "execution_count": null,
   "id": "mediterranean-pontiac",
   "metadata": {
    "papermill": {
     "duration": 0.036001,
     "end_time": "2021-07-05T12:10:16.158963",
     "exception": false,
     "start_time": "2021-07-05T12:10:16.122962",
     "status": "completed"
    },
    "tags": []
   },
   "outputs": [],
   "source": []
  },
  {
   "cell_type": "code",
   "execution_count": null,
   "id": "aging-legislature",
   "metadata": {
    "papermill": {
     "duration": 0.036043,
     "end_time": "2021-07-05T12:10:16.231256",
     "exception": false,
     "start_time": "2021-07-05T12:10:16.195213",
     "status": "completed"
    },
    "tags": []
   },
   "outputs": [],
   "source": []
  }
 ],
 "metadata": {
  "kernelspec": {
   "display_name": "Python 3",
   "language": "python",
   "name": "python3"
  },
  "language_info": {
   "codemirror_mode": {
    "name": "ipython",
    "version": 3
   },
   "file_extension": ".py",
   "mimetype": "text/x-python",
   "name": "python",
   "nbconvert_exporter": "python",
   "pygments_lexer": "ipython3",
   "version": "3.6.13"
  },
  "papermill": {
   "duration": 6.832669,
   "end_time": "2021-07-05T12:10:16.574802",
   "environment_variables": {},
   "exception": null,
   "input_path": "2020-03-21-covid19exp.ipynb",
   "output_path": "2020-03-21-covid19exp.ipynb",
   "parameters": {},
   "start_time": "2021-07-05T12:10:09.742133",
   "version": "2.0.0"
  }
 },
 "nbformat": 4,
 "nbformat_minor": 5
}