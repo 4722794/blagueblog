{
 "cells": [
  {
   "cell_type": "markdown",
   "id": "muslim-click",
   "metadata": {
    "papermill": {
     "duration": 0.03747,
     "end_time": "2021-08-30T12:11:03.114705",
     "exception": false,
     "start_time": "2021-08-30T12:11:03.077235",
     "status": "completed"
    },
    "tags": []
   },
   "source": [
    "# COVID-19 Case Race\n",
    "> A race chart to see rising cases around the world\n",
    "\n",
    "- author: Hargun Oberoi\n",
    "- image: images/covid-overview.png\n",
    "- hide: false\n",
    "- badges: false"
   ]
  },
  {
   "cell_type": "code",
   "execution_count": 1,
   "id": "proof-material",
   "metadata": {
    "execution": {
     "iopub.execute_input": "2021-08-30T12:11:03.184758Z",
     "iopub.status.busy": "2021-08-30T12:11:03.184166Z",
     "iopub.status.idle": "2021-08-30T12:11:03.558359Z",
     "shell.execute_reply": "2021-08-30T12:11:03.557279Z"
    },
    "papermill": {
     "duration": 0.409996,
     "end_time": "2021-08-30T12:11:03.558517",
     "exception": false,
     "start_time": "2021-08-30T12:11:03.148521",
     "status": "completed"
    },
    "tags": []
   },
   "outputs": [],
   "source": [
    "#hide\n",
    "import numpy as np\n",
    "import pandas as pd\n",
    "from jinja2 import Template\n",
    "from IPython.display import HTML"
   ]
  },
  {
   "cell_type": "code",
   "execution_count": 2,
   "id": "developed-terminology",
   "metadata": {
    "execution": {
     "iopub.execute_input": "2021-08-30T12:11:03.631647Z",
     "iopub.status.busy": "2021-08-30T12:11:03.630606Z",
     "iopub.status.idle": "2021-08-30T12:11:03.632730Z",
     "shell.execute_reply": "2021-08-30T12:11:03.633556Z"
    },
    "papermill": {
     "duration": 0.042035,
     "end_time": "2021-08-30T12:11:03.633787",
     "exception": false,
     "start_time": "2021-08-30T12:11:03.591752",
     "status": "completed"
    },
    "tags": []
   },
   "outputs": [],
   "source": [
    "#hide\n",
    "\n",
    "# FETCH\n",
    "base_url = 'https://raw.githubusercontent.com/pratapvardhan/notebooks/master/covid19/'\n",
    "paths = {\n",
    "    'mapping': base_url + 'mapping_countries.csv',\n",
    "    'overview': base_url + 'overview.tpl'\n",
    "}"
   ]
  },
  {
   "cell_type": "code",
   "execution_count": 3,
   "id": "dynamic-saver",
   "metadata": {
    "execution": {
     "iopub.execute_input": "2021-08-30T12:11:03.711443Z",
     "iopub.status.busy": "2021-08-30T12:11:03.708317Z",
     "iopub.status.idle": "2021-08-30T12:11:03.714888Z",
     "shell.execute_reply": "2021-08-30T12:11:03.714396Z"
    },
    "papermill": {
     "duration": 0.047797,
     "end_time": "2021-08-30T12:11:03.715011",
     "exception": false,
     "start_time": "2021-08-30T12:11:03.667214",
     "status": "completed"
    },
    "tags": []
   },
   "outputs": [
    {
     "data": {
      "text/plain": [
       "'https://raw.githubusercontent.com/pratapvardhan/notebooks/master/covid19/mapping_countries.csv'"
      ]
     },
     "execution_count": 3,
     "metadata": {},
     "output_type": "execute_result"
    }
   ],
   "source": [
    "#hide\n",
    "paths['mapping']"
   ]
  },
  {
   "cell_type": "code",
   "execution_count": 4,
   "id": "urban-software",
   "metadata": {
    "execution": {
     "iopub.execute_input": "2021-08-30T12:11:03.791116Z",
     "iopub.status.busy": "2021-08-30T12:11:03.790533Z",
     "iopub.status.idle": "2021-08-30T12:11:03.792788Z",
     "shell.execute_reply": "2021-08-30T12:11:03.792264Z"
    },
    "papermill": {
     "duration": 0.043135,
     "end_time": "2021-08-30T12:11:03.792942",
     "exception": false,
     "start_time": "2021-08-30T12:11:03.749807",
     "status": "completed"
    },
    "tags": []
   },
   "outputs": [],
   "source": [
    "#hide\n",
    "def get_mappings(url):\n",
    "    df = pd.read_csv(url)\n",
    "    return {\n",
    "        'df': df,\n",
    "        'replace.country': dict(df.dropna(subset=['Name']).set_index('Country')['Name']),\n",
    "        'map.continent': dict(df.set_index('Name')['Continent'])\n",
    "    }"
   ]
  },
  {
   "cell_type": "code",
   "execution_count": 5,
   "id": "intimate-machinery",
   "metadata": {
    "execution": {
     "iopub.execute_input": "2021-08-30T12:11:03.869643Z",
     "iopub.status.busy": "2021-08-30T12:11:03.869048Z",
     "iopub.status.idle": "2021-08-30T12:11:03.900274Z",
     "shell.execute_reply": "2021-08-30T12:11:03.899692Z"
    },
    "papermill": {
     "duration": 0.073563,
     "end_time": "2021-08-30T12:11:03.900400",
     "exception": false,
     "start_time": "2021-08-30T12:11:03.826837",
     "status": "completed"
    },
    "tags": []
   },
   "outputs": [],
   "source": [
    "#hide\n",
    "mapping = get_mappings(paths['mapping'])"
   ]
  },
  {
   "cell_type": "code",
   "execution_count": 6,
   "id": "certified-tactics",
   "metadata": {
    "execution": {
     "iopub.execute_input": "2021-08-30T12:11:03.973222Z",
     "iopub.status.busy": "2021-08-30T12:11:03.972602Z",
     "iopub.status.idle": "2021-08-30T12:11:03.974890Z",
     "shell.execute_reply": "2021-08-30T12:11:03.974383Z"
    },
    "papermill": {
     "duration": 0.041056,
     "end_time": "2021-08-30T12:11:03.975009",
     "exception": false,
     "start_time": "2021-08-30T12:11:03.933953",
     "status": "completed"
    },
    "tags": []
   },
   "outputs": [],
   "source": [
    "#hide\n",
    "def get_template(path):\n",
    "    from urllib.parse import urlparse\n",
    "    if bool(urlparse(path).netloc):\n",
    "        from urllib.request import urlopen\n",
    "        return urlopen(path).read().decode('utf8')\n",
    "    return open(path).read()"
   ]
  },
  {
   "cell_type": "code",
   "execution_count": 7,
   "id": "realistic-blast",
   "metadata": {
    "execution": {
     "iopub.execute_input": "2021-08-30T12:11:04.047930Z",
     "iopub.status.busy": "2021-08-30T12:11:04.047334Z",
     "iopub.status.idle": "2021-08-30T12:11:04.049819Z",
     "shell.execute_reply": "2021-08-30T12:11:04.050312Z"
    },
    "papermill": {
     "duration": 0.042917,
     "end_time": "2021-08-30T12:11:04.050454",
     "exception": false,
     "start_time": "2021-08-30T12:11:04.007537",
     "status": "completed"
    },
    "tags": []
   },
   "outputs": [],
   "source": [
    "#hide\n",
    "def get_frame(name):\n",
    "    url = (\n",
    "        'https://raw.githubusercontent.com/CSSEGISandData/COVID-19/master/csse_covid_19_data/'\n",
    "        f'csse_covid_19_time_series/time_series_covid19_{name}_global.csv')\n",
    "    df = pd.read_csv(url)\n",
    "    # rename countries\n",
    "    df['Country/Region'] = df['Country/Region'].replace(mapping['replace.country'])\n",
    "    return df"
   ]
  },
  {
   "cell_type": "code",
   "execution_count": 8,
   "id": "affiliated-characterization",
   "metadata": {
    "execution": {
     "iopub.execute_input": "2021-08-30T12:11:04.123828Z",
     "iopub.status.busy": "2021-08-30T12:11:04.123240Z",
     "iopub.status.idle": "2021-08-30T12:11:04.125457Z",
     "shell.execute_reply": "2021-08-30T12:11:04.124862Z"
    },
    "papermill": {
     "duration": 0.041603,
     "end_time": "2021-08-30T12:11:04.125579",
     "exception": false,
     "start_time": "2021-08-30T12:11:04.083976",
     "status": "completed"
    },
    "tags": []
   },
   "outputs": [],
   "source": [
    "#hide\n",
    "def get_dates(df):\n",
    "    dt_cols = df.columns[~df.columns.isin(['Province/State', 'Country/Region', 'Lat', 'Long'])]\n",
    "    LAST_DATE_I = -1\n",
    "    # sometimes last column may be empty, then go backwards\n",
    "    for i in range(-1, -len(dt_cols), -1):\n",
    "        if not df[dt_cols[i]].fillna(0).eq(0).all():\n",
    "            LAST_DATE_I = i\n",
    "            break\n",
    "    return LAST_DATE_I, dt_cols"
   ]
  },
  {
   "cell_type": "code",
   "execution_count": 9,
   "id": "recent-optimization",
   "metadata": {
    "execution": {
     "iopub.execute_input": "2021-08-30T12:11:04.197411Z",
     "iopub.status.busy": "2021-08-30T12:11:04.196789Z",
     "iopub.status.idle": "2021-08-30T12:11:04.502904Z",
     "shell.execute_reply": "2021-08-30T12:11:04.501530Z"
    },
    "papermill": {
     "duration": 0.343835,
     "end_time": "2021-08-30T12:11:04.503124",
     "exception": false,
     "start_time": "2021-08-30T12:11:04.159289",
     "status": "completed"
    },
    "tags": []
   },
   "outputs": [],
   "source": [
    "#hide\n",
    "COL_REGION = 'Country/Region'\n",
    "# Confirmed, Recovered, Deaths\n",
    "df = get_frame('confirmed')\n",
    "# dft_: timeseries, dfc_: today country agg\n",
    "dft_cases = df\n",
    "dft_deaths = get_frame('deaths')\n",
    "dft_recovered = get_frame('recovered')\n",
    "LAST_DATE_I, dt_cols = get_dates(df)"
   ]
  },
  {
   "cell_type": "code",
   "execution_count": 10,
   "id": "absolute-copper",
   "metadata": {
    "execution": {
     "iopub.execute_input": "2021-08-30T12:11:04.579513Z",
     "iopub.status.busy": "2021-08-30T12:11:04.578841Z",
     "iopub.status.idle": "2021-08-30T12:11:04.582687Z",
     "shell.execute_reply": "2021-08-30T12:11:04.582250Z"
    },
    "papermill": {
     "duration": 0.044854,
     "end_time": "2021-08-30T12:11:04.582803",
     "exception": false,
     "start_time": "2021-08-30T12:11:04.537949",
     "status": "completed"
    },
    "tags": []
   },
   "outputs": [],
   "source": [
    "#hide\n",
    "LAST_DATE_I, dt_cols = get_dates(df)\n",
    "dt_today =dt_cols[LAST_DATE_I]\n",
    "# dt_5day = dt_cols[LAST_DATE_I - 5]\n",
    "dt_yday = dt_cols[LAST_DATE_I - 1]"
   ]
  },
  {
   "cell_type": "code",
   "execution_count": 11,
   "id": "restricted-sheriff",
   "metadata": {
    "execution": {
     "iopub.execute_input": "2021-08-30T12:11:04.655280Z",
     "iopub.status.busy": "2021-08-30T12:11:04.654697Z",
     "iopub.status.idle": "2021-08-30T12:11:04.661136Z",
     "shell.execute_reply": "2021-08-30T12:11:04.660537Z"
    },
    "papermill": {
     "duration": 0.046294,
     "end_time": "2021-08-30T12:11:04.661288",
     "exception": false,
     "start_time": "2021-08-30T12:11:04.614994",
     "status": "completed"
    },
    "tags": []
   },
   "outputs": [],
   "source": [
    "#hide\n",
    "dfc_cases = dft_cases.groupby(COL_REGION)[dt_today].sum()\n",
    "dfc_deaths = dft_deaths.groupby(COL_REGION)[dt_today].sum()\n",
    "# dfp_cases = dft_cases.groupby(COL_REGION)[dt_5day].sum()\n",
    "# dfp_deaths = dft_deaths.groupby(COL_REGION)[dt_5day].sum()\n",
    "dfp_cases = dft_cases.groupby(COL_REGION)[dt_yday].sum()\n",
    "dfp_deaths = dft_deaths.groupby(COL_REGION)[dt_yday].sum()"
   ]
  },
  {
   "cell_type": "code",
   "execution_count": 12,
   "id": "deluxe-hepatitis",
   "metadata": {
    "execution": {
     "iopub.execute_input": "2021-08-30T12:11:04.733370Z",
     "iopub.status.busy": "2021-08-30T12:11:04.732714Z",
     "iopub.status.idle": "2021-08-30T12:11:04.737384Z",
     "shell.execute_reply": "2021-08-30T12:11:04.736876Z"
    },
    "papermill": {
     "duration": 0.043396,
     "end_time": "2021-08-30T12:11:04.737507",
     "exception": false,
     "start_time": "2021-08-30T12:11:04.694111",
     "status": "completed"
    },
    "tags": []
   },
   "outputs": [],
   "source": [
    "#hide\n",
    "df_table = (pd.DataFrame(dict(Cases = dfc_cases, Deaths = dfc_deaths, PCases = dfp_cases, PDeaths = dfp_deaths))\n",
    "            .sort_values(by = ['Cases','Deaths'], ascending = [False, False])\n",
    "            .reset_index())"
   ]
  },
  {
   "cell_type": "code",
   "execution_count": 13,
   "id": "educational-chancellor",
   "metadata": {
    "execution": {
     "iopub.execute_input": "2021-08-30T12:11:04.814331Z",
     "iopub.status.busy": "2021-08-30T12:11:04.813781Z",
     "iopub.status.idle": "2021-08-30T12:11:04.831417Z",
     "shell.execute_reply": "2021-08-30T12:11:04.830920Z"
    },
    "papermill": {
     "duration": 0.061712,
     "end_time": "2021-08-30T12:11:04.831536",
     "exception": false,
     "start_time": "2021-08-30T12:11:04.769824",
     "status": "completed"
    },
    "tags": []
   },
   "outputs": [
    {
     "data": {
      "text/html": [
       "<div>\n",
       "<style scoped>\n",
       "    .dataframe tbody tr th:only-of-type {\n",
       "        vertical-align: middle;\n",
       "    }\n",
       "\n",
       "    .dataframe tbody tr th {\n",
       "        vertical-align: top;\n",
       "    }\n",
       "\n",
       "    .dataframe thead th {\n",
       "        text-align: right;\n",
       "    }\n",
       "</style>\n",
       "<table border=\"1\" class=\"dataframe\">\n",
       "  <thead>\n",
       "    <tr style=\"text-align: right;\">\n",
       "      <th></th>\n",
       "      <th>Country/Region</th>\n",
       "      <th>Cases</th>\n",
       "      <th>Deaths</th>\n",
       "      <th>PCases</th>\n",
       "      <th>PDeaths</th>\n",
       "      <th>Cases (+)</th>\n",
       "      <th>Deaths (+)</th>\n",
       "      <th>Fatality Rate</th>\n",
       "      <th>Continent</th>\n",
       "    </tr>\n",
       "  </thead>\n",
       "  <tbody>\n",
       "    <tr>\n",
       "      <th>0</th>\n",
       "      <td>US</td>\n",
       "      <td>38796746</td>\n",
       "      <td>637531</td>\n",
       "      <td>38760363</td>\n",
       "      <td>637254</td>\n",
       "      <td>36383</td>\n",
       "      <td>277</td>\n",
       "      <td>1.64</td>\n",
       "      <td>North America</td>\n",
       "    </tr>\n",
       "    <tr>\n",
       "      <th>1</th>\n",
       "      <td>India</td>\n",
       "      <td>32737939</td>\n",
       "      <td>438210</td>\n",
       "      <td>32695030</td>\n",
       "      <td>437830</td>\n",
       "      <td>42909</td>\n",
       "      <td>380</td>\n",
       "      <td>1.34</td>\n",
       "      <td>Asia</td>\n",
       "    </tr>\n",
       "    <tr>\n",
       "      <th>2</th>\n",
       "      <td>Brazil</td>\n",
       "      <td>20741815</td>\n",
       "      <td>579308</td>\n",
       "      <td>20728605</td>\n",
       "      <td>579010</td>\n",
       "      <td>13210</td>\n",
       "      <td>298</td>\n",
       "      <td>2.79</td>\n",
       "      <td>South America</td>\n",
       "    </tr>\n",
       "    <tr>\n",
       "      <th>3</th>\n",
       "      <td>France</td>\n",
       "      <td>6827146</td>\n",
       "      <td>114506</td>\n",
       "      <td>6813516</td>\n",
       "      <td>114453</td>\n",
       "      <td>13630</td>\n",
       "      <td>53</td>\n",
       "      <td>1.68</td>\n",
       "      <td>Europe</td>\n",
       "    </tr>\n",
       "    <tr>\n",
       "      <th>4</th>\n",
       "      <td>Russia</td>\n",
       "      <td>6785465</td>\n",
       "      <td>178457</td>\n",
       "      <td>6766667</td>\n",
       "      <td>177679</td>\n",
       "      <td>18798</td>\n",
       "      <td>778</td>\n",
       "      <td>2.63</td>\n",
       "      <td>Europe</td>\n",
       "    </tr>\n",
       "  </tbody>\n",
       "</table>\n",
       "</div>"
      ],
      "text/plain": [
       "  Country/Region     Cases  Deaths    PCases  PDeaths  Cases (+)  Deaths (+)  \\\n",
       "0             US  38796746  637531  38760363   637254      36383         277   \n",
       "1          India  32737939  438210  32695030   437830      42909         380   \n",
       "2         Brazil  20741815  579308  20728605   579010      13210         298   \n",
       "3         France   6827146  114506   6813516   114453      13630          53   \n",
       "4         Russia   6785465  178457   6766667   177679      18798         778   \n",
       "\n",
       "   Fatality Rate      Continent  \n",
       "0           1.64  North America  \n",
       "1           1.34           Asia  \n",
       "2           2.79  South America  \n",
       "3           1.68         Europe  \n",
       "4           2.63         Europe  "
      ]
     },
     "execution_count": 13,
     "metadata": {},
     "output_type": "execute_result"
    }
   ],
   "source": [
    "#hide\n",
    "for c in 'Cases, Deaths'.split(', '):\n",
    "    df_table[f'{c} (+)'] = (df_table[c] - df_table[f'P{c}']).clip(0)\n",
    "    #Clip ça veut dire, les chiffres negatif sont interdit\n",
    "df_table['Fatality Rate'] = (100* df_table['Deaths']/ df_table['Cases']).round(2)\n",
    "df_table['Continent'] = df_table['Country/Region'].map(mapping['map.continent'])\n",
    "df_table.head(5)"
   ]
  },
  {
   "cell_type": "code",
   "execution_count": 14,
   "id": "aboriginal-bulgaria",
   "metadata": {
    "execution": {
     "iopub.execute_input": "2021-08-30T12:11:04.904967Z",
     "iopub.status.busy": "2021-08-30T12:11:04.904362Z",
     "iopub.status.idle": "2021-08-30T12:11:04.907887Z",
     "shell.execute_reply": "2021-08-30T12:11:04.907396Z"
    },
    "papermill": {
     "duration": 0.043164,
     "end_time": "2021-08-30T12:11:04.908006",
     "exception": false,
     "start_time": "2021-08-30T12:11:04.864842",
     "status": "completed"
    },
    "tags": []
   },
   "outputs": [],
   "source": [
    "#hide\n",
    "#delete problematic countries from table\n",
    "df_table = df_table[~df_table['Country/Region'].isin(['Cape Verde', 'Cruise Ship', 'Kosovo'])]"
   ]
  },
  {
   "cell_type": "code",
   "execution_count": 15,
   "id": "fantastic-effect",
   "metadata": {
    "execution": {
     "iopub.execute_input": "2021-08-30T12:11:04.983006Z",
     "iopub.status.busy": "2021-08-30T12:11:04.982417Z",
     "iopub.status.idle": "2021-08-30T12:11:05.001715Z",
     "shell.execute_reply": "2021-08-30T12:11:05.002294Z"
    },
    "papermill": {
     "duration": 0.061882,
     "end_time": "2021-08-30T12:11:05.002457",
     "exception": false,
     "start_time": "2021-08-30T12:11:04.940575",
     "status": "completed"
    },
    "tags": []
   },
   "outputs": [
    {
     "data": {
      "text/html": [
       "<div>\n",
       "<style scoped>\n",
       "    .dataframe tbody tr th:only-of-type {\n",
       "        vertical-align: middle;\n",
       "    }\n",
       "\n",
       "    .dataframe tbody tr th {\n",
       "        vertical-align: top;\n",
       "    }\n",
       "\n",
       "    .dataframe thead th {\n",
       "        text-align: right;\n",
       "    }\n",
       "</style>\n",
       "<table border=\"1\" class=\"dataframe\">\n",
       "  <thead>\n",
       "    <tr style=\"text-align: right;\">\n",
       "      <th></th>\n",
       "      <th>Country/Region</th>\n",
       "      <th>Cases</th>\n",
       "      <th>Deaths</th>\n",
       "      <th>PCases</th>\n",
       "      <th>PDeaths</th>\n",
       "      <th>Cases (+)</th>\n",
       "      <th>Deaths (+)</th>\n",
       "      <th>Fatality Rate</th>\n",
       "      <th>Continent</th>\n",
       "    </tr>\n",
       "  </thead>\n",
       "  <tbody>\n",
       "    <tr>\n",
       "      <th>0</th>\n",
       "      <td>US</td>\n",
       "      <td>38796746</td>\n",
       "      <td>637531</td>\n",
       "      <td>38760363</td>\n",
       "      <td>637254</td>\n",
       "      <td>36383</td>\n",
       "      <td>277</td>\n",
       "      <td>1.6</td>\n",
       "      <td>North America</td>\n",
       "    </tr>\n",
       "    <tr>\n",
       "      <th>1</th>\n",
       "      <td>India</td>\n",
       "      <td>32737939</td>\n",
       "      <td>438210</td>\n",
       "      <td>32695030</td>\n",
       "      <td>437830</td>\n",
       "      <td>42909</td>\n",
       "      <td>380</td>\n",
       "      <td>1.3</td>\n",
       "      <td>Asia</td>\n",
       "    </tr>\n",
       "    <tr>\n",
       "      <th>2</th>\n",
       "      <td>Brazil</td>\n",
       "      <td>20741815</td>\n",
       "      <td>579308</td>\n",
       "      <td>20728605</td>\n",
       "      <td>579010</td>\n",
       "      <td>13210</td>\n",
       "      <td>298</td>\n",
       "      <td>2.8</td>\n",
       "      <td>South America</td>\n",
       "    </tr>\n",
       "    <tr>\n",
       "      <th>3</th>\n",
       "      <td>France</td>\n",
       "      <td>6827146</td>\n",
       "      <td>114506</td>\n",
       "      <td>6813516</td>\n",
       "      <td>114453</td>\n",
       "      <td>13630</td>\n",
       "      <td>53</td>\n",
       "      <td>1.7</td>\n",
       "      <td>Europe</td>\n",
       "    </tr>\n",
       "    <tr>\n",
       "      <th>4</th>\n",
       "      <td>Russia</td>\n",
       "      <td>6785465</td>\n",
       "      <td>178457</td>\n",
       "      <td>6766667</td>\n",
       "      <td>177679</td>\n",
       "      <td>18798</td>\n",
       "      <td>778</td>\n",
       "      <td>2.6</td>\n",
       "      <td>Europe</td>\n",
       "    </tr>\n",
       "  </tbody>\n",
       "</table>\n",
       "</div>"
      ],
      "text/plain": [
       "  Country/Region     Cases  Deaths    PCases  PDeaths  Cases (+)  Deaths (+)  \\\n",
       "0             US  38796746  637531  38760363   637254      36383         277   \n",
       "1          India  32737939  438210  32695030   437830      42909         380   \n",
       "2         Brazil  20741815  579308  20728605   579010      13210         298   \n",
       "3         France   6827146  114506   6813516   114453      13630          53   \n",
       "4         Russia   6785465  178457   6766667   177679      18798         778   \n",
       "\n",
       "   Fatality Rate      Continent  \n",
       "0            1.6  North America  \n",
       "1            1.3           Asia  \n",
       "2            2.8  South America  \n",
       "3            1.7         Europe  \n",
       "4            2.6         Europe  "
      ]
     },
     "execution_count": 15,
     "metadata": {},
     "output_type": "execute_result"
    }
   ],
   "source": [
    "#hide\n",
    "df_table = (pd.DataFrame(dict(Cases=dfc_cases, Deaths=dfc_deaths, PCases=dfp_cases, PDeaths=dfp_deaths))\n",
    "             .sort_values(by=['Cases', 'Deaths'], ascending=[False, False])\n",
    "             .reset_index())\n",
    "df_table.rename(columns={'index': 'Country/Region'}, inplace=True)\n",
    "for c in 'Cases, Deaths'.split(', '):\n",
    "    df_table[f'{c} (+)'] = (df_table[c] - df_table[f'P{c}']).clip(0)  # DATA BUG\n",
    "df_table['Fatality Rate'] = (100 * df_table['Deaths'] / df_table['Cases']).round(1)\n",
    "df_table['Continent'] = df_table['Country/Region'].map(mapping['map.continent'])\n",
    "df_table.head(5)"
   ]
  },
  {
   "cell_type": "code",
   "execution_count": 16,
   "id": "fewer-occasion",
   "metadata": {
    "execution": {
     "iopub.execute_input": "2021-08-30T12:11:05.078302Z",
     "iopub.status.busy": "2021-08-30T12:11:05.077714Z",
     "iopub.status.idle": "2021-08-30T12:11:05.079523Z",
     "shell.execute_reply": "2021-08-30T12:11:05.079964Z"
    },
    "papermill": {
     "duration": 0.04321,
     "end_time": "2021-08-30T12:11:05.080107",
     "exception": false,
     "start_time": "2021-08-30T12:11:05.036897",
     "status": "completed"
    },
    "tags": []
   },
   "outputs": [],
   "source": [
    "#hide\n",
    "#delete problematic countries from table\n",
    "df_table = df_table[~df_table['Country/Region'].isin(['Cape Verde', 'Cruise Ship', 'Kosovo'])]"
   ]
  },
  {
   "cell_type": "code",
   "execution_count": 17,
   "id": "related-center",
   "metadata": {
    "execution": {
     "iopub.execute_input": "2021-08-30T12:11:05.154858Z",
     "iopub.status.busy": "2021-08-30T12:11:05.154275Z",
     "iopub.status.idle": "2021-08-30T12:11:05.168258Z",
     "shell.execute_reply": "2021-08-30T12:11:05.167667Z"
    },
    "papermill": {
     "duration": 0.054549,
     "end_time": "2021-08-30T12:11:05.168379",
     "exception": false,
     "start_time": "2021-08-30T12:11:05.113830",
     "status": "completed"
    },
    "tags": []
   },
   "outputs": [],
   "source": [
    "#hide\n",
    "metrics = [df_table.columns[index] for index in [1,2,5,6]]\n",
    "# s_china = df_table[df_table['Country/Region'].eq('China')][metrics].sum().add_prefix('China ')\n",
    "s_us = df_table[df_table['Country/Region'].eq('US')][metrics].sum().add_prefix('US ')\n",
    "s_eu = df_table[df_table['Continent'].eq('Europe')][metrics].sum().add_prefix('EU ')\n",
    "s_ind = df_table[df_table['Country/Region'].eq('India')][metrics].sum().add_prefix('India ')\n",
    "summary = {'updated': pd.to_datetime(dt_today), 'since': pd.to_datetime(dt_yday)}\n",
    "summary = {'updated': pd.to_datetime(dt_today), 'since': pd.to_datetime(dt_yday)}\n",
    "summary = {**summary, **df_table[metrics].sum(), **s_ind, **s_us, **s_eu}"
   ]
  },
  {
   "cell_type": "code",
   "execution_count": 18,
   "id": "engaging-syndrome",
   "metadata": {
    "execution": {
     "iopub.execute_input": "2021-08-30T12:11:05.241873Z",
     "iopub.status.busy": "2021-08-30T12:11:05.241284Z",
     "iopub.status.idle": "2021-08-30T12:11:05.255850Z",
     "shell.execute_reply": "2021-08-30T12:11:05.256346Z"
    },
    "papermill": {
     "duration": 0.054155,
     "end_time": "2021-08-30T12:11:05.256489",
     "exception": false,
     "start_time": "2021-08-30T12:11:05.202334",
     "status": "completed"
    },
    "tags": []
   },
   "outputs": [],
   "source": [
    "#hide\n",
    "dft_ct_new_cases = dft_cases.groupby(COL_REGION)[dt_cols].sum().diff(axis=1).fillna(0).astype(int)"
   ]
  },
  {
   "cell_type": "code",
   "execution_count": 19,
   "id": "neutral-assignment",
   "metadata": {
    "execution": {
     "iopub.execute_input": "2021-08-30T12:11:05.332625Z",
     "iopub.status.busy": "2021-08-30T12:11:05.332040Z",
     "iopub.status.idle": "2021-08-30T12:11:05.334341Z",
     "shell.execute_reply": "2021-08-30T12:11:05.333907Z"
    },
    "papermill": {
     "duration": 0.043375,
     "end_time": "2021-08-30T12:11:05.334458",
     "exception": false,
     "start_time": "2021-08-30T12:11:05.291083",
     "status": "completed"
    },
    "tags": []
   },
   "outputs": [],
   "source": [
    "#hide\n",
    "everydaycases = dft_ct_new_cases.cumsum(axis=1)"
   ]
  },
  {
   "cell_type": "code",
   "execution_count": 20,
   "id": "parliamentary-calgary",
   "metadata": {
    "execution": {
     "iopub.execute_input": "2021-08-30T12:11:05.408517Z",
     "iopub.status.busy": "2021-08-30T12:11:05.407925Z",
     "iopub.status.idle": "2021-08-30T12:11:06.002750Z",
     "shell.execute_reply": "2021-08-30T12:11:06.002204Z"
    },
    "papermill": {
     "duration": 0.634444,
     "end_time": "2021-08-30T12:11:06.002890",
     "exception": false,
     "start_time": "2021-08-30T12:11:05.368446",
     "status": "completed"
    },
    "tags": []
   },
   "outputs": [],
   "source": [
    "#hide\n",
    "import pandas as pd\n",
    "import matplotlib.pyplot as plt\n",
    "import matplotlib.ticker as ticker\n",
    "import matplotlib.animation as animation\n",
    "from IPython.display import HTML"
   ]
  },
  {
   "cell_type": "code",
   "execution_count": 21,
   "id": "lasting-extraction",
   "metadata": {
    "execution": {
     "iopub.execute_input": "2021-08-30T12:11:06.077413Z",
     "iopub.status.busy": "2021-08-30T12:11:06.076784Z",
     "iopub.status.idle": "2021-08-30T12:11:06.082784Z",
     "shell.execute_reply": "2021-08-30T12:11:06.082251Z"
    },
    "papermill": {
     "duration": 0.045693,
     "end_time": "2021-08-30T12:11:06.082918",
     "exception": false,
     "start_time": "2021-08-30T12:11:06.037225",
     "status": "completed"
    },
    "tags": []
   },
   "outputs": [],
   "source": [
    "#hide\n",
    "t = everydaycases.stack()"
   ]
  },
  {
   "cell_type": "code",
   "execution_count": 22,
   "id": "premier-sleeve",
   "metadata": {
    "execution": {
     "iopub.execute_input": "2021-08-30T12:11:06.156143Z",
     "iopub.status.busy": "2021-08-30T12:11:06.155550Z",
     "iopub.status.idle": "2021-08-30T12:11:06.164873Z",
     "shell.execute_reply": "2021-08-30T12:11:06.164374Z"
    },
    "papermill": {
     "duration": 0.048609,
     "end_time": "2021-08-30T12:11:06.165047",
     "exception": false,
     "start_time": "2021-08-30T12:11:06.116438",
     "status": "completed"
    },
    "tags": []
   },
   "outputs": [],
   "source": [
    "#hide\n",
    "g = t.reset_index(['Country/Region'])"
   ]
  },
  {
   "cell_type": "code",
   "execution_count": 23,
   "id": "distributed-pittsburgh",
   "metadata": {
    "execution": {
     "iopub.execute_input": "2021-08-30T12:11:06.237746Z",
     "iopub.status.busy": "2021-08-30T12:11:06.237177Z",
     "iopub.status.idle": "2021-08-30T12:11:06.239068Z",
     "shell.execute_reply": "2021-08-30T12:11:06.239529Z"
    },
    "papermill": {
     "duration": 0.04018,
     "end_time": "2021-08-30T12:11:06.239666",
     "exception": false,
     "start_time": "2021-08-30T12:11:06.199486",
     "status": "completed"
    },
    "tags": []
   },
   "outputs": [],
   "source": [
    "#hide\n",
    "g.index.name = 'date'"
   ]
  },
  {
   "cell_type": "code",
   "execution_count": 24,
   "id": "naked-donor",
   "metadata": {
    "execution": {
     "iopub.execute_input": "2021-08-30T12:11:06.311997Z",
     "iopub.status.busy": "2021-08-30T12:11:06.311413Z",
     "iopub.status.idle": "2021-08-30T12:11:06.313811Z",
     "shell.execute_reply": "2021-08-30T12:11:06.313346Z"
    },
    "papermill": {
     "duration": 0.039812,
     "end_time": "2021-08-30T12:11:06.313933",
     "exception": false,
     "start_time": "2021-08-30T12:11:06.274121",
     "status": "completed"
    },
    "tags": []
   },
   "outputs": [],
   "source": [
    "# #hide\n",
    "# g = g.reset_index(['date'])"
   ]
  },
  {
   "cell_type": "code",
   "execution_count": 25,
   "id": "incomplete-mustang",
   "metadata": {
    "execution": {
     "iopub.execute_input": "2021-08-30T12:11:06.386265Z",
     "iopub.status.busy": "2021-08-30T12:11:06.385662Z",
     "iopub.status.idle": "2021-08-30T12:11:06.387896Z",
     "shell.execute_reply": "2021-08-30T12:11:06.388371Z"
    },
    "papermill": {
     "duration": 0.040556,
     "end_time": "2021-08-30T12:11:06.388507",
     "exception": false,
     "start_time": "2021-08-30T12:11:06.347951",
     "status": "completed"
    },
    "tags": []
   },
   "outputs": [],
   "source": [
    "#hide\n",
    "# g.head()"
   ]
  },
  {
   "cell_type": "code",
   "execution_count": 26,
   "id": "specific-kruger",
   "metadata": {
    "execution": {
     "iopub.execute_input": "2021-08-30T12:11:06.460321Z",
     "iopub.status.busy": "2021-08-30T12:11:06.459773Z",
     "iopub.status.idle": "2021-08-30T12:11:06.462384Z",
     "shell.execute_reply": "2021-08-30T12:11:06.461883Z"
    },
    "papermill": {
     "duration": 0.039812,
     "end_time": "2021-08-30T12:11:06.462503",
     "exception": false,
     "start_time": "2021-08-30T12:11:06.422691",
     "status": "completed"
    },
    "tags": []
   },
   "outputs": [],
   "source": [
    "#hide\n",
    "# g.columns = ['date','country','cases']"
   ]
  },
  {
   "cell_type": "code",
   "execution_count": 27,
   "id": "tender-conversion",
   "metadata": {
    "execution": {
     "iopub.execute_input": "2021-08-30T12:11:06.533724Z",
     "iopub.status.busy": "2021-08-30T12:11:06.533141Z",
     "iopub.status.idle": "2021-08-30T12:11:06.535514Z",
     "shell.execute_reply": "2021-08-30T12:11:06.536066Z"
    },
    "papermill": {
     "duration": 0.040006,
     "end_time": "2021-08-30T12:11:06.536199",
     "exception": false,
     "start_time": "2021-08-30T12:11:06.496193",
     "status": "completed"
    },
    "tags": []
   },
   "outputs": [],
   "source": [
    "#hide\n",
    "# g['continent'] = g.country"
   ]
  },
  {
   "cell_type": "code",
   "execution_count": 28,
   "id": "substantial-wilderness",
   "metadata": {
    "execution": {
     "iopub.execute_input": "2021-08-30T12:11:06.607795Z",
     "iopub.status.busy": "2021-08-30T12:11:06.607213Z",
     "iopub.status.idle": "2021-08-30T12:11:06.609811Z",
     "shell.execute_reply": "2021-08-30T12:11:06.610342Z"
    },
    "papermill": {
     "duration": 0.040482,
     "end_time": "2021-08-30T12:11:06.610467",
     "exception": false,
     "start_time": "2021-08-30T12:11:06.569985",
     "status": "completed"
    },
    "tags": []
   },
   "outputs": [],
   "source": [
    "#hide\n",
    "# cols = list(g.columns.values)"
   ]
  },
  {
   "cell_type": "code",
   "execution_count": 29,
   "id": "solved-farming",
   "metadata": {
    "execution": {
     "iopub.execute_input": "2021-08-30T12:11:06.681063Z",
     "iopub.status.busy": "2021-08-30T12:11:06.680405Z",
     "iopub.status.idle": "2021-08-30T12:11:06.682939Z",
     "shell.execute_reply": "2021-08-30T12:11:06.682483Z"
    },
    "papermill": {
     "duration": 0.039513,
     "end_time": "2021-08-30T12:11:06.683050",
     "exception": false,
     "start_time": "2021-08-30T12:11:06.643537",
     "status": "completed"
    },
    "tags": []
   },
   "outputs": [],
   "source": [
    "#hide\n",
    "# cols.insert(0, cols.pop())"
   ]
  },
  {
   "cell_type": "code",
   "execution_count": 30,
   "id": "executed-adoption",
   "metadata": {
    "execution": {
     "iopub.execute_input": "2021-08-30T12:11:06.753454Z",
     "iopub.status.busy": "2021-08-30T12:11:06.752869Z",
     "iopub.status.idle": "2021-08-30T12:11:06.755194Z",
     "shell.execute_reply": "2021-08-30T12:11:06.754741Z"
    },
    "papermill": {
     "duration": 0.038868,
     "end_time": "2021-08-30T12:11:06.755305",
     "exception": false,
     "start_time": "2021-08-30T12:11:06.716437",
     "status": "completed"
    },
    "tags": []
   },
   "outputs": [],
   "source": [
    "#hide\n",
    "# g = g[cols]"
   ]
  },
  {
   "cell_type": "code",
   "execution_count": 31,
   "id": "subject-dublin",
   "metadata": {
    "execution": {
     "iopub.execute_input": "2021-08-30T12:11:06.826296Z",
     "iopub.status.busy": "2021-08-30T12:11:06.825720Z",
     "iopub.status.idle": "2021-08-30T12:11:06.828636Z",
     "shell.execute_reply": "2021-08-30T12:11:06.829126Z"
    },
    "papermill": {
     "duration": 0.041376,
     "end_time": "2021-08-30T12:11:06.829262",
     "exception": false,
     "start_time": "2021-08-30T12:11:06.787886",
     "status": "completed"
    },
    "tags": []
   },
   "outputs": [],
   "source": [
    "#hide\n",
    "# g['continent'] = g['continent'].map(mapping['map.continent'])"
   ]
  },
  {
   "cell_type": "code",
   "execution_count": 32,
   "id": "freelance-scout",
   "metadata": {
    "execution": {
     "iopub.execute_input": "2021-08-30T12:11:06.901102Z",
     "iopub.status.busy": "2021-08-30T12:11:06.900493Z",
     "iopub.status.idle": "2021-08-30T12:11:06.902834Z",
     "shell.execute_reply": "2021-08-30T12:11:06.903386Z"
    },
    "papermill": {
     "duration": 0.04089,
     "end_time": "2021-08-30T12:11:06.903522",
     "exception": false,
     "start_time": "2021-08-30T12:11:06.862632",
     "status": "completed"
    },
    "tags": []
   },
   "outputs": [],
   "source": [
    "#hide\n",
    "# g.head()"
   ]
  },
  {
   "cell_type": "code",
   "execution_count": 33,
   "id": "limited-engine",
   "metadata": {
    "execution": {
     "iopub.execute_input": "2021-08-30T12:11:06.976006Z",
     "iopub.status.busy": "2021-08-30T12:11:06.975412Z",
     "iopub.status.idle": "2021-08-30T12:11:06.978010Z",
     "shell.execute_reply": "2021-08-30T12:11:06.977541Z"
    },
    "papermill": {
     "duration": 0.040841,
     "end_time": "2021-08-30T12:11:06.978134",
     "exception": false,
     "start_time": "2021-08-30T12:11:06.937293",
     "status": "completed"
    },
    "tags": []
   },
   "outputs": [],
   "source": [
    "# hide\n",
    "# g['date'] = g['date'].astype('datetime64[ns]')"
   ]
  },
  {
   "cell_type": "code",
   "execution_count": 34,
   "id": "sophisticated-supervisor",
   "metadata": {
    "execution": {
     "iopub.execute_input": "2021-08-30T12:11:07.052048Z",
     "iopub.status.busy": "2021-08-30T12:11:07.051453Z",
     "iopub.status.idle": "2021-08-30T12:11:07.053863Z",
     "shell.execute_reply": "2021-08-30T12:11:07.054422Z"
    },
    "papermill": {
     "duration": 0.041628,
     "end_time": "2021-08-30T12:11:07.054563",
     "exception": false,
     "start_time": "2021-08-30T12:11:07.012935",
     "status": "completed"
    },
    "tags": []
   },
   "outputs": [],
   "source": [
    "#hide\n",
    "# g['date'] = g.date.dt.dayofyear"
   ]
  },
  {
   "cell_type": "code",
   "execution_count": 35,
   "id": "inside-dubai",
   "metadata": {
    "execution": {
     "iopub.execute_input": "2021-08-30T12:11:07.128091Z",
     "iopub.status.busy": "2021-08-30T12:11:07.127503Z",
     "iopub.status.idle": "2021-08-30T12:11:07.129992Z",
     "shell.execute_reply": "2021-08-30T12:11:07.130459Z"
    },
    "papermill": {
     "duration": 0.041774,
     "end_time": "2021-08-30T12:11:07.130599",
     "exception": false,
     "start_time": "2021-08-30T12:11:07.088825",
     "status": "completed"
    },
    "tags": []
   },
   "outputs": [],
   "source": [
    "#hide\n",
    "# g = g.rename(columns= {'continent':'group','country':'name','cases':'value'})"
   ]
  },
  {
   "cell_type": "code",
   "execution_count": 36,
   "id": "fleet-motorcycle",
   "metadata": {
    "execution": {
     "iopub.execute_input": "2021-08-30T12:11:07.203631Z",
     "iopub.status.busy": "2021-08-30T12:11:07.203044Z",
     "iopub.status.idle": "2021-08-30T12:11:07.205573Z",
     "shell.execute_reply": "2021-08-30T12:11:07.206033Z"
    },
    "papermill": {
     "duration": 0.040803,
     "end_time": "2021-08-30T12:11:07.206162",
     "exception": false,
     "start_time": "2021-08-30T12:11:07.165359",
     "status": "completed"
    },
    "tags": []
   },
   "outputs": [],
   "source": [
    "#hide\n",
    "# cols = ['name','group','day','value']"
   ]
  },
  {
   "cell_type": "code",
   "execution_count": 37,
   "id": "continued-sleeping",
   "metadata": {
    "execution": {
     "iopub.execute_input": "2021-08-30T12:11:07.276851Z",
     "iopub.status.busy": "2021-08-30T12:11:07.276250Z",
     "iopub.status.idle": "2021-08-30T12:11:07.278769Z",
     "shell.execute_reply": "2021-08-30T12:11:07.279318Z"
    },
    "papermill": {
     "duration": 0.040542,
     "end_time": "2021-08-30T12:11:07.279457",
     "exception": false,
     "start_time": "2021-08-30T12:11:07.238915",
     "status": "completed"
    },
    "tags": []
   },
   "outputs": [],
   "source": [
    "#hide\n",
    "# g.rename(columns= {'date':'day'},inplace = True)"
   ]
  },
  {
   "cell_type": "code",
   "execution_count": 38,
   "id": "major-fight",
   "metadata": {
    "execution": {
     "iopub.execute_input": "2021-08-30T12:11:07.370432Z",
     "iopub.status.busy": "2021-08-30T12:11:07.369849Z",
     "iopub.status.idle": "2021-08-30T12:11:07.372659Z",
     "shell.execute_reply": "2021-08-30T12:11:07.372091Z"
    },
    "papermill": {
     "duration": 0.042497,
     "end_time": "2021-08-30T12:11:07.372778",
     "exception": false,
     "start_time": "2021-08-30T12:11:07.330281",
     "status": "completed"
    },
    "tags": []
   },
   "outputs": [],
   "source": [
    "#hide\n",
    "# g = g[cols]"
   ]
  },
  {
   "cell_type": "code",
   "execution_count": 39,
   "id": "structured-mobile",
   "metadata": {
    "execution": {
     "iopub.execute_input": "2021-08-30T12:11:07.473594Z",
     "iopub.status.busy": "2021-08-30T12:11:07.472989Z",
     "iopub.status.idle": "2021-08-30T12:11:07.477495Z",
     "shell.execute_reply": "2021-08-30T12:11:07.475351Z"
    },
    "papermill": {
     "duration": 0.048086,
     "end_time": "2021-08-30T12:11:07.477627",
     "exception": false,
     "start_time": "2021-08-30T12:11:07.429541",
     "status": "completed"
    },
    "tags": []
   },
   "outputs": [],
   "source": [
    "# #hide\n",
    "# g = g[g.group.notna()]"
   ]
  },
  {
   "cell_type": "code",
   "execution_count": 40,
   "id": "determined-closing",
   "metadata": {
    "execution": {
     "iopub.execute_input": "2021-08-30T12:11:07.574272Z",
     "iopub.status.busy": "2021-08-30T12:11:07.572897Z",
     "iopub.status.idle": "2021-08-30T12:11:07.576368Z",
     "shell.execute_reply": "2021-08-30T12:11:07.576815Z"
    },
    "papermill": {
     "duration": 0.048087,
     "end_time": "2021-08-30T12:11:07.576988",
     "exception": false,
     "start_time": "2021-08-30T12:11:07.528901",
     "status": "completed"
    },
    "tags": []
   },
   "outputs": [],
   "source": [
    "# #hide\n",
    "# colors = dict(zip(\n",
    "#     [\"Oceania\", \"Europe\", \"Asia\", \"South America\", \"Middle East\", \"North America\", \"Africa\"],\n",
    "#     [\"#adb0ff\", \"#ffb3ff\", \"#90d595\", \"#e48381\", \"#aafbff\", \"#f7bb5f\", \"#eafb50\"]\n",
    "# ))\n",
    "# group_lk = g.set_index('name')['group'].to_dict()"
   ]
  },
  {
   "cell_type": "code",
   "execution_count": null,
   "id": "gross-drinking",
   "metadata": {
    "papermill": {
     "duration": 0.141362,
     "end_time": "2021-08-30T12:11:07.773972",
     "exception": false,
     "start_time": "2021-08-30T12:11:07.632610",
     "status": "completed"
    },
    "tags": []
   },
   "outputs": [],
   "source": []
  },
  {
   "cell_type": "code",
   "execution_count": 41,
   "id": "subject-macintosh",
   "metadata": {
    "execution": {
     "iopub.execute_input": "2021-08-30T12:11:07.881027Z",
     "iopub.status.busy": "2021-08-30T12:11:07.880342Z",
     "iopub.status.idle": "2021-08-30T12:11:07.883057Z",
     "shell.execute_reply": "2021-08-30T12:11:07.886220Z"
    },
    "papermill": {
     "duration": 0.052165,
     "end_time": "2021-08-30T12:11:07.886378",
     "exception": false,
     "start_time": "2021-08-30T12:11:07.834213",
     "status": "completed"
    },
    "tags": []
   },
   "outputs": [],
   "source": [
    "# #hide\n",
    "# fig, ax = plt.subplots(figsize=(15, 8))\n",
    "\n",
    "# def draw_barchart(current_day):\n",
    "#     dff = g[g['day'].eq(current_day)].sort_values(by='value', ascending=True).tail(10)\n",
    "#     ax.clear()\n",
    "#     ax.barh(dff['name'], dff['value'], color=[colors[group_lk[x]] for x in dff['name']])\n",
    "#     dx = dff['value'].max() / 200\n",
    "    \n",
    "#     for i, (value, name) in enumerate(zip(dff['value'], dff['name'])):\n",
    "#         ax.text(value-dx, i,     name,           size=14, weight=600, ha='right', va='bottom')\n",
    "#         ax.text(value-dx, i-.25, group_lk[name], size=10, color='#444444', ha='right', va='baseline')\n",
    "#         ax.text(value+dx, i,     f'{value:,.0f}',  size=14, ha='left',  va='center')\n",
    "#     ax.text(1, 0.4, current_day, transform=ax.transAxes, color='#777777', size=46, ha='right', weight=800)\n",
    "#     ax.text(0, 1.06, 'Population (thousands)', transform=ax.transAxes, size=12, color='#777777')\n",
    "#     ax.xaxis.set_major_formatter(ticker.StrMethodFormatter('{x:,.0f}'))\n",
    "#     ax.xaxis.set_ticks_position('top')\n",
    "#     ax.tick_params(axis='x', colors='#777777', labelsize=12)\n",
    "#     ax.set_yticks([])\n",
    "#     ax.margins(0, 0.01)\n",
    "#     ax.grid(which='major', axis='x', linestyle='-')\n",
    "#     ax.set_axisbelow(True)\n",
    "    \n",
    "#     ax.text(0, 1.15, 'Coronavirus',\n",
    "#             transform=ax.transAxes, size=24, weight=600, ha='left', va='top')\n",
    "# #     ax.text(1, 0, 'by @pratapvardhan; credit @jburnmurdoch', transform=ax.transAxes, color='#777777', ha='right',\n",
    "# #             bbox=dict(facecolor='white', alpha=0.8, edgecolor='white'))\n",
    "#     plt.box(False)"
   ]
  },
  {
   "cell_type": "code",
   "execution_count": 42,
   "id": "sexual-wages",
   "metadata": {
    "execution": {
     "iopub.execute_input": "2021-08-30T12:11:07.974256Z",
     "iopub.status.busy": "2021-08-30T12:11:07.973268Z",
     "iopub.status.idle": "2021-08-30T12:11:07.975258Z",
     "shell.execute_reply": "2021-08-30T12:11:07.976006Z"
    },
    "papermill": {
     "duration": 0.041829,
     "end_time": "2021-08-30T12:11:07.976217",
     "exception": false,
     "start_time": "2021-08-30T12:11:07.934388",
     "status": "completed"
    },
    "tags": []
   },
   "outputs": [],
   "source": [
    "# #hide_input\n",
    "# fig, ax = plt.subplots(figsize=(15, 8))\n",
    "# animator = animation.FuncAnimation(fig, draw_barchart, frames=range(g.day.values.min(), g.day.values.max()))\n",
    "# HTML(animator.to_jshtml())\n",
    "# # or use animator.to_html5_video() or animator.save() "
   ]
  },
  {
   "cell_type": "code",
   "execution_count": null,
   "id": "australian-container",
   "metadata": {
    "papermill": {
     "duration": 0.0332,
     "end_time": "2021-08-30T12:11:08.044852",
     "exception": false,
     "start_time": "2021-08-30T12:11:08.011652",
     "status": "completed"
    },
    "tags": []
   },
   "outputs": [],
   "source": []
  },
  {
   "cell_type": "code",
   "execution_count": null,
   "id": "mediterranean-pontiac",
   "metadata": {
    "papermill": {
     "duration": 0.032816,
     "end_time": "2021-08-30T12:11:08.111310",
     "exception": false,
     "start_time": "2021-08-30T12:11:08.078494",
     "status": "completed"
    },
    "tags": []
   },
   "outputs": [],
   "source": []
  },
  {
   "cell_type": "code",
   "execution_count": null,
   "id": "aging-legislature",
   "metadata": {
    "papermill": {
     "duration": 0.033996,
     "end_time": "2021-08-30T12:11:08.178583",
     "exception": false,
     "start_time": "2021-08-30T12:11:08.144587",
     "status": "completed"
    },
    "tags": []
   },
   "outputs": [],
   "source": []
  }
 ],
 "metadata": {
  "kernelspec": {
   "display_name": "Python 3",
   "language": "python",
   "name": "python3"
  },
  "language_info": {
   "codemirror_mode": {
    "name": "ipython",
    "version": 3
   },
   "file_extension": ".py",
   "mimetype": "text/x-python",
   "name": "python",
   "nbconvert_exporter": "python",
   "pygments_lexer": "ipython3",
   "version": "3.6.14"
  },
  "papermill": {
   "duration": 6.696502,
   "end_time": "2021-08-30T12:11:08.523157",
   "environment_variables": {},
   "exception": null,
   "input_path": "2020-03-21-covid19exp.ipynb",
   "output_path": "2020-03-21-covid19exp.ipynb",
   "parameters": {},
   "start_time": "2021-08-30T12:11:01.826655",
   "version": "2.0.0"
  }
 },
 "nbformat": 4,
 "nbformat_minor": 5
}