{
 "cells": [
  {
   "cell_type": "markdown",
   "id": "muslim-click",
   "metadata": {
    "papermill": {
     "duration": 0.041815,
     "end_time": "2021-07-04T12:09:38.746489",
     "exception": false,
     "start_time": "2021-07-04T12:09:38.704674",
     "status": "completed"
    },
    "tags": []
   },
   "source": [
    "# COVID-19 Case Race\n",
    "> A race chart to see rising cases around the world\n",
    "\n",
    "- author: Hargun Oberoi\n",
    "- image: images/covid-overview.png\n",
    "- hide: false\n",
    "- badges: false"
   ]
  },
  {
   "cell_type": "code",
   "execution_count": 1,
   "id": "proof-material",
   "metadata": {
    "execution": {
     "iopub.execute_input": "2021-07-04T12:09:38.834170Z",
     "iopub.status.busy": "2021-07-04T12:09:38.833106Z",
     "iopub.status.idle": "2021-07-04T12:09:39.253541Z",
     "shell.execute_reply": "2021-07-04T12:09:39.254106Z"
    },
    "papermill": {
     "duration": 0.46823,
     "end_time": "2021-07-04T12:09:39.254307",
     "exception": false,
     "start_time": "2021-07-04T12:09:38.786077",
     "status": "completed"
    },
    "tags": []
   },
   "outputs": [],
   "source": [
    "#hide\n",
    "import numpy as np\n",
    "import pandas as pd\n",
    "from jinja2 import Template\n",
    "from IPython.display import HTML"
   ]
  },
  {
   "cell_type": "code",
   "execution_count": 2,
   "id": "developed-terminology",
   "metadata": {
    "execution": {
     "iopub.execute_input": "2021-07-04T12:09:39.343486Z",
     "iopub.status.busy": "2021-07-04T12:09:39.342829Z",
     "iopub.status.idle": "2021-07-04T12:09:39.345003Z",
     "shell.execute_reply": "2021-07-04T12:09:39.345528Z"
    },
    "papermill": {
     "duration": 0.046775,
     "end_time": "2021-07-04T12:09:39.345674",
     "exception": false,
     "start_time": "2021-07-04T12:09:39.298899",
     "status": "completed"
    },
    "tags": []
   },
   "outputs": [],
   "source": [
    "#hide\n",
    "\n",
    "# FETCH\n",
    "base_url = 'https://raw.githubusercontent.com/pratapvardhan/notebooks/master/covid19/'\n",
    "paths = {\n",
    "    'mapping': base_url + 'mapping_countries.csv',\n",
    "    'overview': base_url + 'overview.tpl'\n",
    "}"
   ]
  },
  {
   "cell_type": "code",
   "execution_count": 3,
   "id": "dynamic-saver",
   "metadata": {
    "execution": {
     "iopub.execute_input": "2021-07-04T12:09:39.437075Z",
     "iopub.status.busy": "2021-07-04T12:09:39.436329Z",
     "iopub.status.idle": "2021-07-04T12:09:39.440360Z",
     "shell.execute_reply": "2021-07-04T12:09:39.439804Z"
    },
    "papermill": {
     "duration": 0.054631,
     "end_time": "2021-07-04T12:09:39.440499",
     "exception": false,
     "start_time": "2021-07-04T12:09:39.385868",
     "status": "completed"
    },
    "tags": []
   },
   "outputs": [
    {
     "data": {
      "text/plain": [
       "'https://raw.githubusercontent.com/pratapvardhan/notebooks/master/covid19/mapping_countries.csv'"
      ]
     },
     "execution_count": 3,
     "metadata": {},
     "output_type": "execute_result"
    }
   ],
   "source": [
    "#hide\n",
    "paths['mapping']"
   ]
  },
  {
   "cell_type": "code",
   "execution_count": 4,
   "id": "urban-software",
   "metadata": {
    "execution": {
     "iopub.execute_input": "2021-07-04T12:09:39.531773Z",
     "iopub.status.busy": "2021-07-04T12:09:39.531077Z",
     "iopub.status.idle": "2021-07-04T12:09:39.532708Z",
     "shell.execute_reply": "2021-07-04T12:09:39.533545Z"
    },
    "papermill": {
     "duration": 0.050933,
     "end_time": "2021-07-04T12:09:39.533691",
     "exception": false,
     "start_time": "2021-07-04T12:09:39.482758",
     "status": "completed"
    },
    "tags": []
   },
   "outputs": [],
   "source": [
    "#hide\n",
    "def get_mappings(url):\n",
    "    df = pd.read_csv(url)\n",
    "    return {\n",
    "        'df': df,\n",
    "        'replace.country': dict(df.dropna(subset=['Name']).set_index('Country')['Name']),\n",
    "        'map.continent': dict(df.set_index('Name')['Continent'])\n",
    "    }"
   ]
  },
  {
   "cell_type": "code",
   "execution_count": 5,
   "id": "intimate-machinery",
   "metadata": {
    "execution": {
     "iopub.execute_input": "2021-07-04T12:09:39.625681Z",
     "iopub.status.busy": "2021-07-04T12:09:39.624943Z",
     "iopub.status.idle": "2021-07-04T12:09:39.657816Z",
     "shell.execute_reply": "2021-07-04T12:09:39.658447Z"
    },
    "papermill": {
     "duration": 0.082827,
     "end_time": "2021-07-04T12:09:39.658646",
     "exception": false,
     "start_time": "2021-07-04T12:09:39.575819",
     "status": "completed"
    },
    "tags": []
   },
   "outputs": [],
   "source": [
    "#hide\n",
    "mapping = get_mappings(paths['mapping'])"
   ]
  },
  {
   "cell_type": "code",
   "execution_count": 6,
   "id": "certified-tactics",
   "metadata": {
    "execution": {
     "iopub.execute_input": "2021-07-04T12:09:39.750100Z",
     "iopub.status.busy": "2021-07-04T12:09:39.749414Z",
     "iopub.status.idle": "2021-07-04T12:09:39.751774Z",
     "shell.execute_reply": "2021-07-04T12:09:39.751082Z"
    },
    "papermill": {
     "duration": 0.050476,
     "end_time": "2021-07-04T12:09:39.751924",
     "exception": false,
     "start_time": "2021-07-04T12:09:39.701448",
     "status": "completed"
    },
    "tags": []
   },
   "outputs": [],
   "source": [
    "#hide\n",
    "def get_template(path):\n",
    "    from urllib.parse import urlparse\n",
    "    if bool(urlparse(path).netloc):\n",
    "        from urllib.request import urlopen\n",
    "        return urlopen(path).read().decode('utf8')\n",
    "    return open(path).read()"
   ]
  },
  {
   "cell_type": "code",
   "execution_count": 7,
   "id": "realistic-blast",
   "metadata": {
    "execution": {
     "iopub.execute_input": "2021-07-04T12:09:39.844789Z",
     "iopub.status.busy": "2021-07-04T12:09:39.844068Z",
     "iopub.status.idle": "2021-07-04T12:09:39.846274Z",
     "shell.execute_reply": "2021-07-04T12:09:39.846956Z"
    },
    "papermill": {
     "duration": 0.049682,
     "end_time": "2021-07-04T12:09:39.847138",
     "exception": false,
     "start_time": "2021-07-04T12:09:39.797456",
     "status": "completed"
    },
    "tags": []
   },
   "outputs": [],
   "source": [
    "#hide\n",
    "def get_frame(name):\n",
    "    url = (\n",
    "        'https://raw.githubusercontent.com/CSSEGISandData/COVID-19/master/csse_covid_19_data/'\n",
    "        f'csse_covid_19_time_series/time_series_covid19_{name}_global.csv')\n",
    "    df = pd.read_csv(url)\n",
    "    # rename countries\n",
    "    df['Country/Region'] = df['Country/Region'].replace(mapping['replace.country'])\n",
    "    return df"
   ]
  },
  {
   "cell_type": "code",
   "execution_count": 8,
   "id": "affiliated-characterization",
   "metadata": {
    "execution": {
     "iopub.execute_input": "2021-07-04T12:09:39.943298Z",
     "iopub.status.busy": "2021-07-04T12:09:39.942493Z",
     "iopub.status.idle": "2021-07-04T12:09:39.945046Z",
     "shell.execute_reply": "2021-07-04T12:09:39.945669Z"
    },
    "papermill": {
     "duration": 0.051576,
     "end_time": "2021-07-04T12:09:39.945818",
     "exception": false,
     "start_time": "2021-07-04T12:09:39.894242",
     "status": "completed"
    },
    "tags": []
   },
   "outputs": [],
   "source": [
    "#hide\n",
    "def get_dates(df):\n",
    "    dt_cols = df.columns[~df.columns.isin(['Province/State', 'Country/Region', 'Lat', 'Long'])]\n",
    "    LAST_DATE_I = -1\n",
    "    # sometimes last column may be empty, then go backwards\n",
    "    for i in range(-1, -len(dt_cols), -1):\n",
    "        if not df[dt_cols[i]].fillna(0).eq(0).all():\n",
    "            LAST_DATE_I = i\n",
    "            break\n",
    "    return LAST_DATE_I, dt_cols"
   ]
  },
  {
   "cell_type": "code",
   "execution_count": 9,
   "id": "recent-optimization",
   "metadata": {
    "execution": {
     "iopub.execute_input": "2021-07-04T12:09:40.036141Z",
     "iopub.status.busy": "2021-07-04T12:09:40.035447Z",
     "iopub.status.idle": "2021-07-04T12:09:40.443278Z",
     "shell.execute_reply": "2021-07-04T12:09:40.443858Z"
    },
    "papermill": {
     "duration": 0.455659,
     "end_time": "2021-07-04T12:09:40.444037",
     "exception": false,
     "start_time": "2021-07-04T12:09:39.988378",
     "status": "completed"
    },
    "tags": []
   },
   "outputs": [],
   "source": [
    "#hide\n",
    "COL_REGION = 'Country/Region'\n",
    "# Confirmed, Recovered, Deaths\n",
    "df = get_frame('confirmed')\n",
    "# dft_: timeseries, dfc_: today country agg\n",
    "dft_cases = df\n",
    "dft_deaths = get_frame('deaths')\n",
    "dft_recovered = get_frame('recovered')\n",
    "LAST_DATE_I, dt_cols = get_dates(df)"
   ]
  },
  {
   "cell_type": "code",
   "execution_count": 10,
   "id": "absolute-copper",
   "metadata": {
    "execution": {
     "iopub.execute_input": "2021-07-04T12:09:40.540694Z",
     "iopub.status.busy": "2021-07-04T12:09:40.540016Z",
     "iopub.status.idle": "2021-07-04T12:09:40.542574Z",
     "shell.execute_reply": "2021-07-04T12:09:40.541990Z"
    },
    "papermill": {
     "duration": 0.050486,
     "end_time": "2021-07-04T12:09:40.542724",
     "exception": false,
     "start_time": "2021-07-04T12:09:40.492238",
     "status": "completed"
    },
    "tags": []
   },
   "outputs": [],
   "source": [
    "#hide\n",
    "LAST_DATE_I, dt_cols = get_dates(df)\n",
    "dt_today =dt_cols[LAST_DATE_I]\n",
    "# dt_5day = dt_cols[LAST_DATE_I - 5]\n",
    "dt_yday = dt_cols[LAST_DATE_I - 1]"
   ]
  },
  {
   "cell_type": "code",
   "execution_count": 11,
   "id": "restricted-sheriff",
   "metadata": {
    "execution": {
     "iopub.execute_input": "2021-07-04T12:09:40.638230Z",
     "iopub.status.busy": "2021-07-04T12:09:40.637540Z",
     "iopub.status.idle": "2021-07-04T12:09:40.645900Z",
     "shell.execute_reply": "2021-07-04T12:09:40.645283Z"
    },
    "papermill": {
     "duration": 0.058103,
     "end_time": "2021-07-04T12:09:40.646153",
     "exception": false,
     "start_time": "2021-07-04T12:09:40.588050",
     "status": "completed"
    },
    "tags": []
   },
   "outputs": [],
   "source": [
    "#hide\n",
    "dfc_cases = dft_cases.groupby(COL_REGION)[dt_today].sum()\n",
    "dfc_deaths = dft_deaths.groupby(COL_REGION)[dt_today].sum()\n",
    "# dfp_cases = dft_cases.groupby(COL_REGION)[dt_5day].sum()\n",
    "# dfp_deaths = dft_deaths.groupby(COL_REGION)[dt_5day].sum()\n",
    "dfp_cases = dft_cases.groupby(COL_REGION)[dt_yday].sum()\n",
    "dfp_deaths = dft_deaths.groupby(COL_REGION)[dt_yday].sum()"
   ]
  },
  {
   "cell_type": "code",
   "execution_count": 12,
   "id": "deluxe-hepatitis",
   "metadata": {
    "execution": {
     "iopub.execute_input": "2021-07-04T12:09:40.732358Z",
     "iopub.status.busy": "2021-07-04T12:09:40.731693Z",
     "iopub.status.idle": "2021-07-04T12:09:40.741382Z",
     "shell.execute_reply": "2021-07-04T12:09:40.740742Z"
    },
    "papermill": {
     "duration": 0.054343,
     "end_time": "2021-07-04T12:09:40.741535",
     "exception": false,
     "start_time": "2021-07-04T12:09:40.687192",
     "status": "completed"
    },
    "tags": []
   },
   "outputs": [],
   "source": [
    "#hide\n",
    "df_table = (pd.DataFrame(dict(Cases = dfc_cases, Deaths = dfc_deaths, PCases = dfp_cases, PDeaths = dfp_deaths))\n",
    "            .sort_values(by = ['Cases','Deaths'], ascending = [False, False])\n",
    "            .reset_index())"
   ]
  },
  {
   "cell_type": "code",
   "execution_count": 13,
   "id": "educational-chancellor",
   "metadata": {
    "execution": {
     "iopub.execute_input": "2021-07-04T12:09:40.855106Z",
     "iopub.status.busy": "2021-07-04T12:09:40.854412Z",
     "iopub.status.idle": "2021-07-04T12:09:40.857902Z",
     "shell.execute_reply": "2021-07-04T12:09:40.857245Z"
    },
    "papermill": {
     "duration": 0.07748,
     "end_time": "2021-07-04T12:09:40.858043",
     "exception": false,
     "start_time": "2021-07-04T12:09:40.780563",
     "status": "completed"
    },
    "tags": []
   },
   "outputs": [
    {
     "data": {
      "text/html": [
       "<div>\n",
       "<style scoped>\n",
       "    .dataframe tbody tr th:only-of-type {\n",
       "        vertical-align: middle;\n",
       "    }\n",
       "\n",
       "    .dataframe tbody tr th {\n",
       "        vertical-align: top;\n",
       "    }\n",
       "\n",
       "    .dataframe thead th {\n",
       "        text-align: right;\n",
       "    }\n",
       "</style>\n",
       "<table border=\"1\" class=\"dataframe\">\n",
       "  <thead>\n",
       "    <tr style=\"text-align: right;\">\n",
       "      <th></th>\n",
       "      <th>Country/Region</th>\n",
       "      <th>Cases</th>\n",
       "      <th>Deaths</th>\n",
       "      <th>PCases</th>\n",
       "      <th>PDeaths</th>\n",
       "      <th>Cases (+)</th>\n",
       "      <th>Deaths (+)</th>\n",
       "      <th>Fatality Rate</th>\n",
       "      <th>Continent</th>\n",
       "    </tr>\n",
       "  </thead>\n",
       "  <tbody>\n",
       "    <tr>\n",
       "      <th>0</th>\n",
       "      <td>US</td>\n",
       "      <td>33713870</td>\n",
       "      <td>605493</td>\n",
       "      <td>33709131</td>\n",
       "      <td>605524</td>\n",
       "      <td>4739</td>\n",
       "      <td>0</td>\n",
       "      <td>1.80</td>\n",
       "      <td>North America</td>\n",
       "    </tr>\n",
       "    <tr>\n",
       "      <th>1</th>\n",
       "      <td>India</td>\n",
       "      <td>30545433</td>\n",
       "      <td>402005</td>\n",
       "      <td>30502362</td>\n",
       "      <td>401050</td>\n",
       "      <td>43071</td>\n",
       "      <td>955</td>\n",
       "      <td>1.32</td>\n",
       "      <td>Asia</td>\n",
       "    </tr>\n",
       "    <tr>\n",
       "      <th>2</th>\n",
       "      <td>Brazil</td>\n",
       "      <td>18742025</td>\n",
       "      <td>523587</td>\n",
       "      <td>18687469</td>\n",
       "      <td>521952</td>\n",
       "      <td>54556</td>\n",
       "      <td>1635</td>\n",
       "      <td>2.79</td>\n",
       "      <td>South America</td>\n",
       "    </tr>\n",
       "    <tr>\n",
       "      <th>3</th>\n",
       "      <td>France</td>\n",
       "      <td>5845622</td>\n",
       "      <td>111314</td>\n",
       "      <td>5842616</td>\n",
       "      <td>111297</td>\n",
       "      <td>3006</td>\n",
       "      <td>17</td>\n",
       "      <td>1.90</td>\n",
       "      <td>Europe</td>\n",
       "    </tr>\n",
       "    <tr>\n",
       "      <th>4</th>\n",
       "      <td>Russia</td>\n",
       "      <td>5519516</td>\n",
       "      <td>134987</td>\n",
       "      <td>5495513</td>\n",
       "      <td>134302</td>\n",
       "      <td>24003</td>\n",
       "      <td>685</td>\n",
       "      <td>2.45</td>\n",
       "      <td>Europe</td>\n",
       "    </tr>\n",
       "  </tbody>\n",
       "</table>\n",
       "</div>"
      ],
      "text/plain": [
       "  Country/Region     Cases  Deaths    PCases  PDeaths  Cases (+)  Deaths (+)  \\\n",
       "0             US  33713870  605493  33709131   605524       4739           0   \n",
       "1          India  30545433  402005  30502362   401050      43071         955   \n",
       "2         Brazil  18742025  523587  18687469   521952      54556        1635   \n",
       "3         France   5845622  111314   5842616   111297       3006          17   \n",
       "4         Russia   5519516  134987   5495513   134302      24003         685   \n",
       "\n",
       "   Fatality Rate      Continent  \n",
       "0           1.80  North America  \n",
       "1           1.32           Asia  \n",
       "2           2.79  South America  \n",
       "3           1.90         Europe  \n",
       "4           2.45         Europe  "
      ]
     },
     "execution_count": 13,
     "metadata": {},
     "output_type": "execute_result"
    }
   ],
   "source": [
    "#hide\n",
    "for c in 'Cases, Deaths'.split(', '):\n",
    "    df_table[f'{c} (+)'] = (df_table[c] - df_table[f'P{c}']).clip(0)\n",
    "    #Clip ça veut dire, les chiffres negatif sont interdit\n",
    "df_table['Fatality Rate'] = (100* df_table['Deaths']/ df_table['Cases']).round(2)\n",
    "df_table['Continent'] = df_table['Country/Region'].map(mapping['map.continent'])\n",
    "df_table.head(5)"
   ]
  },
  {
   "cell_type": "code",
   "execution_count": 14,
   "id": "aboriginal-bulgaria",
   "metadata": {
    "execution": {
     "iopub.execute_input": "2021-07-04T12:09:40.951296Z",
     "iopub.status.busy": "2021-07-04T12:09:40.950603Z",
     "iopub.status.idle": "2021-07-04T12:09:40.953197Z",
     "shell.execute_reply": "2021-07-04T12:09:40.953841Z"
    },
    "papermill": {
     "duration": 0.054905,
     "end_time": "2021-07-04T12:09:40.954004",
     "exception": false,
     "start_time": "2021-07-04T12:09:40.899099",
     "status": "completed"
    },
    "tags": []
   },
   "outputs": [],
   "source": [
    "#hide\n",
    "#delete problematic countries from table\n",
    "df_table = df_table[~df_table['Country/Region'].isin(['Cape Verde', 'Cruise Ship', 'Kosovo'])]"
   ]
  },
  {
   "cell_type": "code",
   "execution_count": 15,
   "id": "fantastic-effect",
   "metadata": {
    "execution": {
     "iopub.execute_input": "2021-07-04T12:09:41.041806Z",
     "iopub.status.busy": "2021-07-04T12:09:41.041046Z",
     "iopub.status.idle": "2021-07-04T12:09:41.065001Z",
     "shell.execute_reply": "2021-07-04T12:09:41.064446Z"
    },
    "papermill": {
     "duration": 0.072169,
     "end_time": "2021-07-04T12:09:41.065227",
     "exception": false,
     "start_time": "2021-07-04T12:09:40.993058",
     "status": "completed"
    },
    "tags": []
   },
   "outputs": [
    {
     "data": {
      "text/html": [
       "<div>\n",
       "<style scoped>\n",
       "    .dataframe tbody tr th:only-of-type {\n",
       "        vertical-align: middle;\n",
       "    }\n",
       "\n",
       "    .dataframe tbody tr th {\n",
       "        vertical-align: top;\n",
       "    }\n",
       "\n",
       "    .dataframe thead th {\n",
       "        text-align: right;\n",
       "    }\n",
       "</style>\n",
       "<table border=\"1\" class=\"dataframe\">\n",
       "  <thead>\n",
       "    <tr style=\"text-align: right;\">\n",
       "      <th></th>\n",
       "      <th>Country/Region</th>\n",
       "      <th>Cases</th>\n",
       "      <th>Deaths</th>\n",
       "      <th>PCases</th>\n",
       "      <th>PDeaths</th>\n",
       "      <th>Cases (+)</th>\n",
       "      <th>Deaths (+)</th>\n",
       "      <th>Fatality Rate</th>\n",
       "      <th>Continent</th>\n",
       "    </tr>\n",
       "  </thead>\n",
       "  <tbody>\n",
       "    <tr>\n",
       "      <th>0</th>\n",
       "      <td>US</td>\n",
       "      <td>33713870</td>\n",
       "      <td>605493</td>\n",
       "      <td>33709131</td>\n",
       "      <td>605524</td>\n",
       "      <td>4739</td>\n",
       "      <td>0</td>\n",
       "      <td>1.8</td>\n",
       "      <td>North America</td>\n",
       "    </tr>\n",
       "    <tr>\n",
       "      <th>1</th>\n",
       "      <td>India</td>\n",
       "      <td>30545433</td>\n",
       "      <td>402005</td>\n",
       "      <td>30502362</td>\n",
       "      <td>401050</td>\n",
       "      <td>43071</td>\n",
       "      <td>955</td>\n",
       "      <td>1.3</td>\n",
       "      <td>Asia</td>\n",
       "    </tr>\n",
       "    <tr>\n",
       "      <th>2</th>\n",
       "      <td>Brazil</td>\n",
       "      <td>18742025</td>\n",
       "      <td>523587</td>\n",
       "      <td>18687469</td>\n",
       "      <td>521952</td>\n",
       "      <td>54556</td>\n",
       "      <td>1635</td>\n",
       "      <td>2.8</td>\n",
       "      <td>South America</td>\n",
       "    </tr>\n",
       "    <tr>\n",
       "      <th>3</th>\n",
       "      <td>France</td>\n",
       "      <td>5845622</td>\n",
       "      <td>111314</td>\n",
       "      <td>5842616</td>\n",
       "      <td>111297</td>\n",
       "      <td>3006</td>\n",
       "      <td>17</td>\n",
       "      <td>1.9</td>\n",
       "      <td>Europe</td>\n",
       "    </tr>\n",
       "    <tr>\n",
       "      <th>4</th>\n",
       "      <td>Russia</td>\n",
       "      <td>5519516</td>\n",
       "      <td>134987</td>\n",
       "      <td>5495513</td>\n",
       "      <td>134302</td>\n",
       "      <td>24003</td>\n",
       "      <td>685</td>\n",
       "      <td>2.4</td>\n",
       "      <td>Europe</td>\n",
       "    </tr>\n",
       "  </tbody>\n",
       "</table>\n",
       "</div>"
      ],
      "text/plain": [
       "  Country/Region     Cases  Deaths    PCases  PDeaths  Cases (+)  Deaths (+)  \\\n",
       "0             US  33713870  605493  33709131   605524       4739           0   \n",
       "1          India  30545433  402005  30502362   401050      43071         955   \n",
       "2         Brazil  18742025  523587  18687469   521952      54556        1635   \n",
       "3         France   5845622  111314   5842616   111297       3006          17   \n",
       "4         Russia   5519516  134987   5495513   134302      24003         685   \n",
       "\n",
       "   Fatality Rate      Continent  \n",
       "0            1.8  North America  \n",
       "1            1.3           Asia  \n",
       "2            2.8  South America  \n",
       "3            1.9         Europe  \n",
       "4            2.4         Europe  "
      ]
     },
     "execution_count": 15,
     "metadata": {},
     "output_type": "execute_result"
    }
   ],
   "source": [
    "#hide\n",
    "df_table = (pd.DataFrame(dict(Cases=dfc_cases, Deaths=dfc_deaths, PCases=dfp_cases, PDeaths=dfp_deaths))\n",
    "             .sort_values(by=['Cases', 'Deaths'], ascending=[False, False])\n",
    "             .reset_index())\n",
    "df_table.rename(columns={'index': 'Country/Region'}, inplace=True)\n",
    "for c in 'Cases, Deaths'.split(', '):\n",
    "    df_table[f'{c} (+)'] = (df_table[c] - df_table[f'P{c}']).clip(0)  # DATA BUG\n",
    "df_table['Fatality Rate'] = (100 * df_table['Deaths'] / df_table['Cases']).round(1)\n",
    "df_table['Continent'] = df_table['Country/Region'].map(mapping['map.continent'])\n",
    "df_table.head(5)"
   ]
  },
  {
   "cell_type": "code",
   "execution_count": 16,
   "id": "fewer-occasion",
   "metadata": {
    "execution": {
     "iopub.execute_input": "2021-07-04T12:09:41.152972Z",
     "iopub.status.busy": "2021-07-04T12:09:41.152322Z",
     "iopub.status.idle": "2021-07-04T12:09:41.155413Z",
     "shell.execute_reply": "2021-07-04T12:09:41.155922Z"
    },
    "papermill": {
     "duration": 0.048809,
     "end_time": "2021-07-04T12:09:41.156073",
     "exception": false,
     "start_time": "2021-07-04T12:09:41.107264",
     "status": "completed"
    },
    "tags": []
   },
   "outputs": [],
   "source": [
    "#hide\n",
    "#delete problematic countries from table\n",
    "df_table = df_table[~df_table['Country/Region'].isin(['Cape Verde', 'Cruise Ship', 'Kosovo'])]"
   ]
  },
  {
   "cell_type": "code",
   "execution_count": 17,
   "id": "related-center",
   "metadata": {
    "execution": {
     "iopub.execute_input": "2021-07-04T12:09:41.256780Z",
     "iopub.status.busy": "2021-07-04T12:09:41.256071Z",
     "iopub.status.idle": "2021-07-04T12:09:41.268079Z",
     "shell.execute_reply": "2021-07-04T12:09:41.267489Z"
    },
    "papermill": {
     "duration": 0.071578,
     "end_time": "2021-07-04T12:09:41.268222",
     "exception": false,
     "start_time": "2021-07-04T12:09:41.196644",
     "status": "completed"
    },
    "tags": []
   },
   "outputs": [],
   "source": [
    "#hide\n",
    "metrics = [df_table.columns[index] for index in [1,2,5,6]]\n",
    "# s_china = df_table[df_table['Country/Region'].eq('China')][metrics].sum().add_prefix('China ')\n",
    "s_us = df_table[df_table['Country/Region'].eq('US')][metrics].sum().add_prefix('US ')\n",
    "s_eu = df_table[df_table['Continent'].eq('Europe')][metrics].sum().add_prefix('EU ')\n",
    "s_ind = df_table[df_table['Country/Region'].eq('India')][metrics].sum().add_prefix('India ')\n",
    "summary = {'updated': pd.to_datetime(dt_today), 'since': pd.to_datetime(dt_yday)}\n",
    "summary = {'updated': pd.to_datetime(dt_today), 'since': pd.to_datetime(dt_yday)}\n",
    "summary = {**summary, **df_table[metrics].sum(), **s_ind, **s_us, **s_eu}"
   ]
  },
  {
   "cell_type": "code",
   "execution_count": 18,
   "id": "engaging-syndrome",
   "metadata": {
    "execution": {
     "iopub.execute_input": "2021-07-04T12:09:41.358373Z",
     "iopub.status.busy": "2021-07-04T12:09:41.357721Z",
     "iopub.status.idle": "2021-07-04T12:09:41.387020Z",
     "shell.execute_reply": "2021-07-04T12:09:41.386416Z"
    },
    "papermill": {
     "duration": 0.076494,
     "end_time": "2021-07-04T12:09:41.387199",
     "exception": false,
     "start_time": "2021-07-04T12:09:41.310705",
     "status": "completed"
    },
    "tags": []
   },
   "outputs": [],
   "source": [
    "#hide\n",
    "dft_ct_new_cases = dft_cases.groupby(COL_REGION)[dt_cols].sum().diff(axis=1).fillna(0).astype(int)"
   ]
  },
  {
   "cell_type": "code",
   "execution_count": 19,
   "id": "neutral-assignment",
   "metadata": {
    "execution": {
     "iopub.execute_input": "2021-07-04T12:09:41.468959Z",
     "iopub.status.busy": "2021-07-04T12:09:41.467996Z",
     "iopub.status.idle": "2021-07-04T12:09:41.471272Z",
     "shell.execute_reply": "2021-07-04T12:09:41.470664Z"
    },
    "papermill": {
     "duration": 0.045532,
     "end_time": "2021-07-04T12:09:41.471409",
     "exception": false,
     "start_time": "2021-07-04T12:09:41.425877",
     "status": "completed"
    },
    "tags": []
   },
   "outputs": [],
   "source": [
    "#hide\n",
    "everydaycases = dft_ct_new_cases.cumsum(axis=1)"
   ]
  },
  {
   "cell_type": "code",
   "execution_count": 20,
   "id": "parliamentary-calgary",
   "metadata": {
    "execution": {
     "iopub.execute_input": "2021-07-04T12:09:41.554587Z",
     "iopub.status.busy": "2021-07-04T12:09:41.553835Z",
     "iopub.status.idle": "2021-07-04T12:09:42.193259Z",
     "shell.execute_reply": "2021-07-04T12:09:42.192618Z"
    },
    "papermill": {
     "duration": 0.68147,
     "end_time": "2021-07-04T12:09:42.193423",
     "exception": false,
     "start_time": "2021-07-04T12:09:41.511953",
     "status": "completed"
    },
    "tags": []
   },
   "outputs": [],
   "source": [
    "#hide\n",
    "import pandas as pd\n",
    "import matplotlib.pyplot as plt\n",
    "import matplotlib.ticker as ticker\n",
    "import matplotlib.animation as animation\n",
    "from IPython.display import HTML"
   ]
  },
  {
   "cell_type": "code",
   "execution_count": 21,
   "id": "lasting-extraction",
   "metadata": {
    "execution": {
     "iopub.execute_input": "2021-07-04T12:09:42.276314Z",
     "iopub.status.busy": "2021-07-04T12:09:42.275737Z",
     "iopub.status.idle": "2021-07-04T12:09:42.281337Z",
     "shell.execute_reply": "2021-07-04T12:09:42.281790Z"
    },
    "papermill": {
     "duration": 0.049467,
     "end_time": "2021-07-04T12:09:42.281925",
     "exception": false,
     "start_time": "2021-07-04T12:09:42.232458",
     "status": "completed"
    },
    "tags": []
   },
   "outputs": [],
   "source": [
    "#hide\n",
    "t = everydaycases.stack()"
   ]
  },
  {
   "cell_type": "code",
   "execution_count": 22,
   "id": "premier-sleeve",
   "metadata": {
    "execution": {
     "iopub.execute_input": "2021-07-04T12:09:42.367360Z",
     "iopub.status.busy": "2021-07-04T12:09:42.366729Z",
     "iopub.status.idle": "2021-07-04T12:09:42.374951Z",
     "shell.execute_reply": "2021-07-04T12:09:42.375470Z"
    },
    "papermill": {
     "duration": 0.052662,
     "end_time": "2021-07-04T12:09:42.375616",
     "exception": false,
     "start_time": "2021-07-04T12:09:42.322954",
     "status": "completed"
    },
    "tags": []
   },
   "outputs": [],
   "source": [
    "#hide\n",
    "g = t.reset_index(['Country/Region'])"
   ]
  },
  {
   "cell_type": "code",
   "execution_count": 23,
   "id": "distributed-pittsburgh",
   "metadata": {
    "execution": {
     "iopub.execute_input": "2021-07-04T12:09:42.461347Z",
     "iopub.status.busy": "2021-07-04T12:09:42.460538Z",
     "iopub.status.idle": "2021-07-04T12:09:42.462473Z",
     "shell.execute_reply": "2021-07-04T12:09:42.463073Z"
    },
    "papermill": {
     "duration": 0.047369,
     "end_time": "2021-07-04T12:09:42.463212",
     "exception": false,
     "start_time": "2021-07-04T12:09:42.415843",
     "status": "completed"
    },
    "tags": []
   },
   "outputs": [],
   "source": [
    "#hide\n",
    "g.index.name = 'date'"
   ]
  },
  {
   "cell_type": "code",
   "execution_count": 24,
   "id": "naked-donor",
   "metadata": {
    "execution": {
     "iopub.execute_input": "2021-07-04T12:09:42.550685Z",
     "iopub.status.busy": "2021-07-04T12:09:42.548836Z",
     "iopub.status.idle": "2021-07-04T12:09:42.551462Z",
     "shell.execute_reply": "2021-07-04T12:09:42.552309Z"
    },
    "papermill": {
     "duration": 0.049015,
     "end_time": "2021-07-04T12:09:42.552480",
     "exception": false,
     "start_time": "2021-07-04T12:09:42.503465",
     "status": "completed"
    },
    "tags": []
   },
   "outputs": [],
   "source": [
    "# #hide\n",
    "# g = g.reset_index(['date'])"
   ]
  },
  {
   "cell_type": "code",
   "execution_count": 25,
   "id": "incomplete-mustang",
   "metadata": {
    "execution": {
     "iopub.execute_input": "2021-07-04T12:09:42.636364Z",
     "iopub.status.busy": "2021-07-04T12:09:42.635660Z",
     "iopub.status.idle": "2021-07-04T12:09:42.638135Z",
     "shell.execute_reply": "2021-07-04T12:09:42.637607Z"
    },
    "papermill": {
     "duration": 0.045422,
     "end_time": "2021-07-04T12:09:42.638282",
     "exception": false,
     "start_time": "2021-07-04T12:09:42.592860",
     "status": "completed"
    },
    "tags": []
   },
   "outputs": [],
   "source": [
    "#hide\n",
    "# g.head()"
   ]
  },
  {
   "cell_type": "code",
   "execution_count": 26,
   "id": "specific-kruger",
   "metadata": {
    "execution": {
     "iopub.execute_input": "2021-07-04T12:09:42.722944Z",
     "iopub.status.busy": "2021-07-04T12:09:42.722151Z",
     "iopub.status.idle": "2021-07-04T12:09:42.724874Z",
     "shell.execute_reply": "2021-07-04T12:09:42.724355Z"
    },
    "papermill": {
     "duration": 0.046141,
     "end_time": "2021-07-04T12:09:42.724990",
     "exception": false,
     "start_time": "2021-07-04T12:09:42.678849",
     "status": "completed"
    },
    "tags": []
   },
   "outputs": [],
   "source": [
    "#hide\n",
    "# g.columns = ['date','country','cases']"
   ]
  },
  {
   "cell_type": "code",
   "execution_count": 27,
   "id": "tender-conversion",
   "metadata": {
    "execution": {
     "iopub.execute_input": "2021-07-04T12:09:42.808161Z",
     "iopub.status.busy": "2021-07-04T12:09:42.807457Z",
     "iopub.status.idle": "2021-07-04T12:09:42.810166Z",
     "shell.execute_reply": "2021-07-04T12:09:42.809662Z"
    },
    "papermill": {
     "duration": 0.045908,
     "end_time": "2021-07-04T12:09:42.810284",
     "exception": false,
     "start_time": "2021-07-04T12:09:42.764376",
     "status": "completed"
    },
    "tags": []
   },
   "outputs": [],
   "source": [
    "#hide\n",
    "# g['continent'] = g.country"
   ]
  },
  {
   "cell_type": "code",
   "execution_count": 28,
   "id": "substantial-wilderness",
   "metadata": {
    "execution": {
     "iopub.execute_input": "2021-07-04T12:09:42.889818Z",
     "iopub.status.busy": "2021-07-04T12:09:42.889115Z",
     "iopub.status.idle": "2021-07-04T12:09:42.891694Z",
     "shell.execute_reply": "2021-07-04T12:09:42.891192Z"
    },
    "papermill": {
     "duration": 0.044553,
     "end_time": "2021-07-04T12:09:42.891813",
     "exception": false,
     "start_time": "2021-07-04T12:09:42.847260",
     "status": "completed"
    },
    "tags": []
   },
   "outputs": [],
   "source": [
    "#hide\n",
    "# cols = list(g.columns.values)"
   ]
  },
  {
   "cell_type": "code",
   "execution_count": 29,
   "id": "solved-farming",
   "metadata": {
    "execution": {
     "iopub.execute_input": "2021-07-04T12:09:42.977325Z",
     "iopub.status.busy": "2021-07-04T12:09:42.976668Z",
     "iopub.status.idle": "2021-07-04T12:09:42.978516Z",
     "shell.execute_reply": "2021-07-04T12:09:42.979077Z"
    },
    "papermill": {
     "duration": 0.046211,
     "end_time": "2021-07-04T12:09:42.979241",
     "exception": false,
     "start_time": "2021-07-04T12:09:42.933030",
     "status": "completed"
    },
    "tags": []
   },
   "outputs": [],
   "source": [
    "#hide\n",
    "# cols.insert(0, cols.pop())"
   ]
  },
  {
   "cell_type": "code",
   "execution_count": 30,
   "id": "executed-adoption",
   "metadata": {
    "execution": {
     "iopub.execute_input": "2021-07-04T12:09:43.062779Z",
     "iopub.status.busy": "2021-07-04T12:09:43.061987Z",
     "iopub.status.idle": "2021-07-04T12:09:43.064382Z",
     "shell.execute_reply": "2021-07-04T12:09:43.065008Z"
    },
    "papermill": {
     "duration": 0.044556,
     "end_time": "2021-07-04T12:09:43.065248",
     "exception": false,
     "start_time": "2021-07-04T12:09:43.020692",
     "status": "completed"
    },
    "tags": []
   },
   "outputs": [],
   "source": [
    "#hide\n",
    "# g = g[cols]"
   ]
  },
  {
   "cell_type": "code",
   "execution_count": 31,
   "id": "subject-dublin",
   "metadata": {
    "execution": {
     "iopub.execute_input": "2021-07-04T12:09:43.150459Z",
     "iopub.status.busy": "2021-07-04T12:09:43.149869Z",
     "iopub.status.idle": "2021-07-04T12:09:43.152141Z",
     "shell.execute_reply": "2021-07-04T12:09:43.151521Z"
    },
    "papermill": {
     "duration": 0.046299,
     "end_time": "2021-07-04T12:09:43.152259",
     "exception": false,
     "start_time": "2021-07-04T12:09:43.105960",
     "status": "completed"
    },
    "tags": []
   },
   "outputs": [],
   "source": [
    "#hide\n",
    "# g['continent'] = g['continent'].map(mapping['map.continent'])"
   ]
  },
  {
   "cell_type": "code",
   "execution_count": 32,
   "id": "freelance-scout",
   "metadata": {
    "execution": {
     "iopub.execute_input": "2021-07-04T12:09:43.234614Z",
     "iopub.status.busy": "2021-07-04T12:09:43.233946Z",
     "iopub.status.idle": "2021-07-04T12:09:43.237043Z",
     "shell.execute_reply": "2021-07-04T12:09:43.236246Z"
    },
    "papermill": {
     "duration": 0.047168,
     "end_time": "2021-07-04T12:09:43.237213",
     "exception": false,
     "start_time": "2021-07-04T12:09:43.190045",
     "status": "completed"
    },
    "tags": []
   },
   "outputs": [],
   "source": [
    "#hide\n",
    "# g.head()"
   ]
  },
  {
   "cell_type": "code",
   "execution_count": 33,
   "id": "limited-engine",
   "metadata": {
    "execution": {
     "iopub.execute_input": "2021-07-04T12:09:43.323534Z",
     "iopub.status.busy": "2021-07-04T12:09:43.322866Z",
     "iopub.status.idle": "2021-07-04T12:09:43.325301Z",
     "shell.execute_reply": "2021-07-04T12:09:43.324653Z"
    },
    "papermill": {
     "duration": 0.04561,
     "end_time": "2021-07-04T12:09:43.325427",
     "exception": false,
     "start_time": "2021-07-04T12:09:43.279817",
     "status": "completed"
    },
    "tags": []
   },
   "outputs": [],
   "source": [
    "# hide\n",
    "# g['date'] = g['date'].astype('datetime64[ns]')"
   ]
  },
  {
   "cell_type": "code",
   "execution_count": 34,
   "id": "sophisticated-supervisor",
   "metadata": {
    "execution": {
     "iopub.execute_input": "2021-07-04T12:09:43.402847Z",
     "iopub.status.busy": "2021-07-04T12:09:43.402287Z",
     "iopub.status.idle": "2021-07-04T12:09:43.404567Z",
     "shell.execute_reply": "2021-07-04T12:09:43.403818Z"
    },
    "papermill": {
     "duration": 0.042105,
     "end_time": "2021-07-04T12:09:43.404696",
     "exception": false,
     "start_time": "2021-07-04T12:09:43.362591",
     "status": "completed"
    },
    "tags": []
   },
   "outputs": [],
   "source": [
    "#hide\n",
    "# g['date'] = g.date.dt.dayofyear"
   ]
  },
  {
   "cell_type": "code",
   "execution_count": 35,
   "id": "inside-dubai",
   "metadata": {
    "execution": {
     "iopub.execute_input": "2021-07-04T12:09:43.490160Z",
     "iopub.status.busy": "2021-07-04T12:09:43.489546Z",
     "iopub.status.idle": "2021-07-04T12:09:43.491736Z",
     "shell.execute_reply": "2021-07-04T12:09:43.491149Z"
    },
    "papermill": {
     "duration": 0.046812,
     "end_time": "2021-07-04T12:09:43.491860",
     "exception": false,
     "start_time": "2021-07-04T12:09:43.445048",
     "status": "completed"
    },
    "tags": []
   },
   "outputs": [],
   "source": [
    "#hide\n",
    "# g = g.rename(columns= {'continent':'group','country':'name','cases':'value'})"
   ]
  },
  {
   "cell_type": "code",
   "execution_count": 36,
   "id": "fleet-motorcycle",
   "metadata": {
    "execution": {
     "iopub.execute_input": "2021-07-04T12:09:43.571005Z",
     "iopub.status.busy": "2021-07-04T12:09:43.570265Z",
     "iopub.status.idle": "2021-07-04T12:09:43.572287Z",
     "shell.execute_reply": "2021-07-04T12:09:43.572945Z"
    },
    "papermill": {
     "duration": 0.044842,
     "end_time": "2021-07-04T12:09:43.573076",
     "exception": false,
     "start_time": "2021-07-04T12:09:43.528234",
     "status": "completed"
    },
    "tags": []
   },
   "outputs": [],
   "source": [
    "#hide\n",
    "# cols = ['name','group','day','value']"
   ]
  },
  {
   "cell_type": "code",
   "execution_count": 37,
   "id": "continued-sleeping",
   "metadata": {
    "execution": {
     "iopub.execute_input": "2021-07-04T12:09:43.652256Z",
     "iopub.status.busy": "2021-07-04T12:09:43.651648Z",
     "iopub.status.idle": "2021-07-04T12:09:43.654148Z",
     "shell.execute_reply": "2021-07-04T12:09:43.653586Z"
    },
    "papermill": {
     "duration": 0.042578,
     "end_time": "2021-07-04T12:09:43.654278",
     "exception": false,
     "start_time": "2021-07-04T12:09:43.611700",
     "status": "completed"
    },
    "tags": []
   },
   "outputs": [],
   "source": [
    "#hide\n",
    "# g.rename(columns= {'date':'day'},inplace = True)"
   ]
  },
  {
   "cell_type": "code",
   "execution_count": 38,
   "id": "major-fight",
   "metadata": {
    "execution": {
     "iopub.execute_input": "2021-07-04T12:09:43.732984Z",
     "iopub.status.busy": "2021-07-04T12:09:43.732334Z",
     "iopub.status.idle": "2021-07-04T12:09:43.734597Z",
     "shell.execute_reply": "2021-07-04T12:09:43.735111Z"
    },
    "papermill": {
     "duration": 0.044766,
     "end_time": "2021-07-04T12:09:43.735245",
     "exception": false,
     "start_time": "2021-07-04T12:09:43.690479",
     "status": "completed"
    },
    "tags": []
   },
   "outputs": [],
   "source": [
    "#hide\n",
    "# g = g[cols]"
   ]
  },
  {
   "cell_type": "code",
   "execution_count": 39,
   "id": "structured-mobile",
   "metadata": {
    "execution": {
     "iopub.execute_input": "2021-07-04T12:09:43.815405Z",
     "iopub.status.busy": "2021-07-04T12:09:43.814719Z",
     "iopub.status.idle": "2021-07-04T12:09:43.816561Z",
     "shell.execute_reply": "2021-07-04T12:09:43.817033Z"
    },
    "papermill": {
     "duration": 0.04241,
     "end_time": "2021-07-04T12:09:43.817174",
     "exception": false,
     "start_time": "2021-07-04T12:09:43.774764",
     "status": "completed"
    },
    "tags": []
   },
   "outputs": [],
   "source": [
    "# #hide\n",
    "# g = g[g.group.notna()]"
   ]
  },
  {
   "cell_type": "code",
   "execution_count": 40,
   "id": "determined-closing",
   "metadata": {
    "execution": {
     "iopub.execute_input": "2021-07-04T12:09:43.896364Z",
     "iopub.status.busy": "2021-07-04T12:09:43.895748Z",
     "iopub.status.idle": "2021-07-04T12:09:43.897578Z",
     "shell.execute_reply": "2021-07-04T12:09:43.898027Z"
    },
    "papermill": {
     "duration": 0.042922,
     "end_time": "2021-07-04T12:09:43.898172",
     "exception": false,
     "start_time": "2021-07-04T12:09:43.855250",
     "status": "completed"
    },
    "tags": []
   },
   "outputs": [],
   "source": [
    "# #hide\n",
    "# colors = dict(zip(\n",
    "#     [\"Oceania\", \"Europe\", \"Asia\", \"South America\", \"Middle East\", \"North America\", \"Africa\"],\n",
    "#     [\"#adb0ff\", \"#ffb3ff\", \"#90d595\", \"#e48381\", \"#aafbff\", \"#f7bb5f\", \"#eafb50\"]\n",
    "# ))\n",
    "# group_lk = g.set_index('name')['group'].to_dict()"
   ]
  },
  {
   "cell_type": "code",
   "execution_count": null,
   "id": "gross-drinking",
   "metadata": {
    "papermill": {
     "duration": 0.036896,
     "end_time": "2021-07-04T12:09:43.972757",
     "exception": false,
     "start_time": "2021-07-04T12:09:43.935861",
     "status": "completed"
    },
    "tags": []
   },
   "outputs": [],
   "source": []
  },
  {
   "cell_type": "code",
   "execution_count": 41,
   "id": "subject-macintosh",
   "metadata": {
    "execution": {
     "iopub.execute_input": "2021-07-04T12:09:44.049548Z",
     "iopub.status.busy": "2021-07-04T12:09:44.048831Z",
     "iopub.status.idle": "2021-07-04T12:09:44.050701Z",
     "shell.execute_reply": "2021-07-04T12:09:44.051126Z"
    },
    "papermill": {
     "duration": 0.042337,
     "end_time": "2021-07-04T12:09:44.051253",
     "exception": false,
     "start_time": "2021-07-04T12:09:44.008916",
     "status": "completed"
    },
    "tags": []
   },
   "outputs": [],
   "source": [
    "# #hide\n",
    "# fig, ax = plt.subplots(figsize=(15, 8))\n",
    "\n",
    "# def draw_barchart(current_day):\n",
    "#     dff = g[g['day'].eq(current_day)].sort_values(by='value', ascending=True).tail(10)\n",
    "#     ax.clear()\n",
    "#     ax.barh(dff['name'], dff['value'], color=[colors[group_lk[x]] for x in dff['name']])\n",
    "#     dx = dff['value'].max() / 200\n",
    "    \n",
    "#     for i, (value, name) in enumerate(zip(dff['value'], dff['name'])):\n",
    "#         ax.text(value-dx, i,     name,           size=14, weight=600, ha='right', va='bottom')\n",
    "#         ax.text(value-dx, i-.25, group_lk[name], size=10, color='#444444', ha='right', va='baseline')\n",
    "#         ax.text(value+dx, i,     f'{value:,.0f}',  size=14, ha='left',  va='center')\n",
    "#     ax.text(1, 0.4, current_day, transform=ax.transAxes, color='#777777', size=46, ha='right', weight=800)\n",
    "#     ax.text(0, 1.06, 'Population (thousands)', transform=ax.transAxes, size=12, color='#777777')\n",
    "#     ax.xaxis.set_major_formatter(ticker.StrMethodFormatter('{x:,.0f}'))\n",
    "#     ax.xaxis.set_ticks_position('top')\n",
    "#     ax.tick_params(axis='x', colors='#777777', labelsize=12)\n",
    "#     ax.set_yticks([])\n",
    "#     ax.margins(0, 0.01)\n",
    "#     ax.grid(which='major', axis='x', linestyle='-')\n",
    "#     ax.set_axisbelow(True)\n",
    "    \n",
    "#     ax.text(0, 1.15, 'Coronavirus',\n",
    "#             transform=ax.transAxes, size=24, weight=600, ha='left', va='top')\n",
    "# #     ax.text(1, 0, 'by @pratapvardhan; credit @jburnmurdoch', transform=ax.transAxes, color='#777777', ha='right',\n",
    "# #             bbox=dict(facecolor='white', alpha=0.8, edgecolor='white'))\n",
    "#     plt.box(False)"
   ]
  },
  {
   "cell_type": "code",
   "execution_count": 42,
   "id": "sexual-wages",
   "metadata": {
    "execution": {
     "iopub.execute_input": "2021-07-04T12:09:44.129758Z",
     "iopub.status.busy": "2021-07-04T12:09:44.129041Z",
     "iopub.status.idle": "2021-07-04T12:09:44.132380Z",
     "shell.execute_reply": "2021-07-04T12:09:44.131802Z"
    },
    "papermill": {
     "duration": 0.043498,
     "end_time": "2021-07-04T12:09:44.132502",
     "exception": false,
     "start_time": "2021-07-04T12:09:44.089004",
     "status": "completed"
    },
    "tags": []
   },
   "outputs": [],
   "source": [
    "# #hide_input\n",
    "# fig, ax = plt.subplots(figsize=(15, 8))\n",
    "# animator = animation.FuncAnimation(fig, draw_barchart, frames=range(g.day.values.min(), g.day.values.max()))\n",
    "# HTML(animator.to_jshtml())\n",
    "# # or use animator.to_html5_video() or animator.save() "
   ]
  },
  {
   "cell_type": "code",
   "execution_count": null,
   "id": "australian-container",
   "metadata": {
    "papermill": {
     "duration": 0.035768,
     "end_time": "2021-07-04T12:09:44.202955",
     "exception": false,
     "start_time": "2021-07-04T12:09:44.167187",
     "status": "completed"
    },
    "tags": []
   },
   "outputs": [],
   "source": []
  },
  {
   "cell_type": "code",
   "execution_count": null,
   "id": "mediterranean-pontiac",
   "metadata": {
    "papermill": {
     "duration": 0.036976,
     "end_time": "2021-07-04T12:09:44.275794",
     "exception": false,
     "start_time": "2021-07-04T12:09:44.238818",
     "status": "completed"
    },
    "tags": []
   },
   "outputs": [],
   "source": []
  },
  {
   "cell_type": "code",
   "execution_count": null,
   "id": "aging-legislature",
   "metadata": {
    "papermill": {
     "duration": 0.036822,
     "end_time": "2021-07-04T12:09:44.350242",
     "exception": false,
     "start_time": "2021-07-04T12:09:44.313420",
     "status": "completed"
    },
    "tags": []
   },
   "outputs": [],
   "source": []
  }
 ],
 "metadata": {
  "kernelspec": {
   "display_name": "Python 3",
   "language": "python",
   "name": "python3"
  },
  "language_info": {
   "codemirror_mode": {
    "name": "ipython",
    "version": 3
   },
   "file_extension": ".py",
   "mimetype": "text/x-python",
   "name": "python",
   "nbconvert_exporter": "python",
   "pygments_lexer": "ipython3",
   "version": "3.6.13"
  },
  "papermill": {
   "duration": 7.121543,
   "end_time": "2021-07-04T12:09:44.696415",
   "environment_variables": {},
   "exception": null,
   "input_path": "2020-03-21-covid19exp.ipynb",
   "output_path": "2020-03-21-covid19exp.ipynb",
   "parameters": {},
   "start_time": "2021-07-04T12:09:37.574872",
   "version": "2.0.0"
  }
 },
 "nbformat": 4,
 "nbformat_minor": 5
}