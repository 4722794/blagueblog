{
 "cells": [
  {
   "cell_type": "markdown",
   "id": "muslim-click",
   "metadata": {
    "papermill": {
     "duration": 0.033436,
     "end_time": "2022-07-02T12:14:23.694381",
     "exception": false,
     "start_time": "2022-07-02T12:14:23.660945",
     "status": "completed"
    },
    "tags": []
   },
   "source": [
    "# COVID-19 Case Race\n",
    "> A race chart to see rising cases around the world\n",
    "\n",
    "- author: Hargun Oberoi\n",
    "- image: images/covid-overview.png\n",
    "- hide: false\n",
    "- badges: false"
   ]
  },
  {
   "cell_type": "code",
   "execution_count": 1,
   "id": "proof-material",
   "metadata": {
    "execution": {
     "iopub.execute_input": "2022-07-02T12:14:23.765603Z",
     "iopub.status.busy": "2022-07-02T12:14:23.765034Z",
     "iopub.status.idle": "2022-07-02T12:14:24.070723Z",
     "shell.execute_reply": "2022-07-02T12:14:24.069749Z"
    },
    "papermill": {
     "duration": 0.344749,
     "end_time": "2022-07-02T12:14:24.070860",
     "exception": false,
     "start_time": "2022-07-02T12:14:23.726111",
     "status": "completed"
    },
    "tags": []
   },
   "outputs": [],
   "source": [
    "#hide\n",
    "import numpy as np\n",
    "import pandas as pd\n",
    "from jinja2 import Template\n",
    "from IPython.display import HTML"
   ]
  },
  {
   "cell_type": "code",
   "execution_count": 2,
   "id": "developed-terminology",
   "metadata": {
    "execution": {
     "iopub.execute_input": "2022-07-02T12:14:24.135377Z",
     "iopub.status.busy": "2022-07-02T12:14:24.134804Z",
     "iopub.status.idle": "2022-07-02T12:14:24.137024Z",
     "shell.execute_reply": "2022-07-02T12:14:24.136479Z"
    },
    "papermill": {
     "duration": 0.036053,
     "end_time": "2022-07-02T12:14:24.137127",
     "exception": false,
     "start_time": "2022-07-02T12:14:24.101074",
     "status": "completed"
    },
    "tags": []
   },
   "outputs": [],
   "source": [
    "#hide\n",
    "\n",
    "# FETCH\n",
    "base_url = 'https://raw.githubusercontent.com/pratapvardhan/notebooks/master/covid19/'\n",
    "paths = {\n",
    "    'mapping': base_url + 'mapping_countries.csv',\n",
    "    'overview': base_url + 'overview.tpl'\n",
    "}"
   ]
  },
  {
   "cell_type": "code",
   "execution_count": 3,
   "id": "dynamic-saver",
   "metadata": {
    "execution": {
     "iopub.execute_input": "2022-07-02T12:14:24.205108Z",
     "iopub.status.busy": "2022-07-02T12:14:24.203893Z",
     "iopub.status.idle": "2022-07-02T12:14:24.207801Z",
     "shell.execute_reply": "2022-07-02T12:14:24.208256Z"
    },
    "papermill": {
     "duration": 0.041596,
     "end_time": "2022-07-02T12:14:24.208368",
     "exception": false,
     "start_time": "2022-07-02T12:14:24.166772",
     "status": "completed"
    },
    "tags": []
   },
   "outputs": [
    {
     "data": {
      "text/plain": [
       "'https://raw.githubusercontent.com/pratapvardhan/notebooks/master/covid19/mapping_countries.csv'"
      ]
     },
     "execution_count": 3,
     "metadata": {},
     "output_type": "execute_result"
    }
   ],
   "source": [
    "#hide\n",
    "paths['mapping']"
   ]
  },
  {
   "cell_type": "code",
   "execution_count": 4,
   "id": "urban-software",
   "metadata": {
    "execution": {
     "iopub.execute_input": "2022-07-02T12:14:24.273489Z",
     "iopub.status.busy": "2022-07-02T12:14:24.272923Z",
     "iopub.status.idle": "2022-07-02T12:14:24.275389Z",
     "shell.execute_reply": "2022-07-02T12:14:24.274941Z"
    },
    "papermill": {
     "duration": 0.037091,
     "end_time": "2022-07-02T12:14:24.275487",
     "exception": false,
     "start_time": "2022-07-02T12:14:24.238396",
     "status": "completed"
    },
    "tags": []
   },
   "outputs": [],
   "source": [
    "#hide\n",
    "def get_mappings(url):\n",
    "    df = pd.read_csv(url)\n",
    "    return {\n",
    "        'df': df,\n",
    "        'replace.country': dict(df.dropna(subset=['Name']).set_index('Country')['Name']),\n",
    "        'map.continent': dict(df.set_index('Name')['Continent'])\n",
    "    }"
   ]
  },
  {
   "cell_type": "code",
   "execution_count": 5,
   "id": "intimate-machinery",
   "metadata": {
    "execution": {
     "iopub.execute_input": "2022-07-02T12:14:24.340012Z",
     "iopub.status.busy": "2022-07-02T12:14:24.339444Z",
     "iopub.status.idle": "2022-07-02T12:14:24.394004Z",
     "shell.execute_reply": "2022-07-02T12:14:24.393535Z"
    },
    "papermill": {
     "duration": 0.088788,
     "end_time": "2022-07-02T12:14:24.394108",
     "exception": false,
     "start_time": "2022-07-02T12:14:24.305320",
     "status": "completed"
    },
    "tags": []
   },
   "outputs": [],
   "source": [
    "#hide\n",
    "mapping = get_mappings(paths['mapping'])"
   ]
  },
  {
   "cell_type": "code",
   "execution_count": 6,
   "id": "certified-tactics",
   "metadata": {
    "execution": {
     "iopub.execute_input": "2022-07-02T12:14:24.459051Z",
     "iopub.status.busy": "2022-07-02T12:14:24.458487Z",
     "iopub.status.idle": "2022-07-02T12:14:24.460901Z",
     "shell.execute_reply": "2022-07-02T12:14:24.460377Z"
    },
    "papermill": {
     "duration": 0.0366,
     "end_time": "2022-07-02T12:14:24.460999",
     "exception": false,
     "start_time": "2022-07-02T12:14:24.424399",
     "status": "completed"
    },
    "tags": []
   },
   "outputs": [],
   "source": [
    "#hide\n",
    "def get_template(path):\n",
    "    from urllib.parse import urlparse\n",
    "    if bool(urlparse(path).netloc):\n",
    "        from urllib.request import urlopen\n",
    "        return urlopen(path).read().decode('utf8')\n",
    "    return open(path).read()"
   ]
  },
  {
   "cell_type": "code",
   "execution_count": 7,
   "id": "realistic-blast",
   "metadata": {
    "execution": {
     "iopub.execute_input": "2022-07-02T12:14:24.525531Z",
     "iopub.status.busy": "2022-07-02T12:14:24.524967Z",
     "iopub.status.idle": "2022-07-02T12:14:24.527638Z",
     "shell.execute_reply": "2022-07-02T12:14:24.527160Z"
    },
    "papermill": {
     "duration": 0.036806,
     "end_time": "2022-07-02T12:14:24.527756",
     "exception": false,
     "start_time": "2022-07-02T12:14:24.490950",
     "status": "completed"
    },
    "tags": []
   },
   "outputs": [],
   "source": [
    "#hide\n",
    "def get_frame(name):\n",
    "    url = (\n",
    "        'https://raw.githubusercontent.com/CSSEGISandData/COVID-19/master/csse_covid_19_data/'\n",
    "        f'csse_covid_19_time_series/time_series_covid19_{name}_global.csv')\n",
    "    df = pd.read_csv(url)\n",
    "    # rename countries\n",
    "    df['Country/Region'] = df['Country/Region'].replace(mapping['replace.country'])\n",
    "    return df"
   ]
  },
  {
   "cell_type": "code",
   "execution_count": 8,
   "id": "affiliated-characterization",
   "metadata": {
    "execution": {
     "iopub.execute_input": "2022-07-02T12:14:24.593402Z",
     "iopub.status.busy": "2022-07-02T12:14:24.592830Z",
     "iopub.status.idle": "2022-07-02T12:14:24.594982Z",
     "shell.execute_reply": "2022-07-02T12:14:24.595400Z"
    },
    "papermill": {
     "duration": 0.037527,
     "end_time": "2022-07-02T12:14:24.595518",
     "exception": false,
     "start_time": "2022-07-02T12:14:24.557991",
     "status": "completed"
    },
    "tags": []
   },
   "outputs": [],
   "source": [
    "#hide\n",
    "def get_dates(df):\n",
    "    dt_cols = df.columns[~df.columns.isin(['Province/State', 'Country/Region', 'Lat', 'Long'])]\n",
    "    LAST_DATE_I = -1\n",
    "    # sometimes last column may be empty, then go backwards\n",
    "    for i in range(-1, -len(dt_cols), -1):\n",
    "        if not df[dt_cols[i]].fillna(0).eq(0).all():\n",
    "            LAST_DATE_I = i\n",
    "            break\n",
    "    return LAST_DATE_I, dt_cols"
   ]
  },
  {
   "cell_type": "code",
   "execution_count": 9,
   "id": "recent-optimization",
   "metadata": {
    "execution": {
     "iopub.execute_input": "2022-07-02T12:14:24.659766Z",
     "iopub.status.busy": "2022-07-02T12:14:24.659166Z",
     "iopub.status.idle": "2022-07-02T12:14:25.162662Z",
     "shell.execute_reply": "2022-07-02T12:14:25.162165Z"
    },
    "papermill": {
     "duration": 0.537433,
     "end_time": "2022-07-02T12:14:25.162770",
     "exception": false,
     "start_time": "2022-07-02T12:14:24.625337",
     "status": "completed"
    },
    "tags": []
   },
   "outputs": [],
   "source": [
    "#hide\n",
    "COL_REGION = 'Country/Region'\n",
    "# Confirmed, Recovered, Deaths\n",
    "df = get_frame('confirmed')\n",
    "# dft_: timeseries, dfc_: today country agg\n",
    "dft_cases = df\n",
    "dft_deaths = get_frame('deaths')\n",
    "dft_recovered = get_frame('recovered')\n",
    "LAST_DATE_I, dt_cols = get_dates(df)"
   ]
  },
  {
   "cell_type": "code",
   "execution_count": 10,
   "id": "absolute-copper",
   "metadata": {
    "execution": {
     "iopub.execute_input": "2022-07-02T12:14:25.229617Z",
     "iopub.status.busy": "2022-07-02T12:14:25.229028Z",
     "iopub.status.idle": "2022-07-02T12:14:25.231512Z",
     "shell.execute_reply": "2022-07-02T12:14:25.231074Z"
    },
    "papermill": {
     "duration": 0.037531,
     "end_time": "2022-07-02T12:14:25.231616",
     "exception": false,
     "start_time": "2022-07-02T12:14:25.194085",
     "status": "completed"
    },
    "tags": []
   },
   "outputs": [],
   "source": [
    "#hide\n",
    "LAST_DATE_I, dt_cols = get_dates(df)\n",
    "dt_today =dt_cols[LAST_DATE_I]\n",
    "# dt_5day = dt_cols[LAST_DATE_I - 5]\n",
    "dt_yday = dt_cols[LAST_DATE_I - 1]"
   ]
  },
  {
   "cell_type": "code",
   "execution_count": 11,
   "id": "restricted-sheriff",
   "metadata": {
    "execution": {
     "iopub.execute_input": "2022-07-02T12:14:25.300036Z",
     "iopub.status.busy": "2022-07-02T12:14:25.299436Z",
     "iopub.status.idle": "2022-07-02T12:14:25.305519Z",
     "shell.execute_reply": "2022-07-02T12:14:25.304984Z"
    },
    "papermill": {
     "duration": 0.042436,
     "end_time": "2022-07-02T12:14:25.305623",
     "exception": false,
     "start_time": "2022-07-02T12:14:25.263187",
     "status": "completed"
    },
    "tags": []
   },
   "outputs": [],
   "source": [
    "#hide\n",
    "dfc_cases = dft_cases.groupby(COL_REGION)[dt_today].sum()\n",
    "dfc_deaths = dft_deaths.groupby(COL_REGION)[dt_today].sum()\n",
    "# dfp_cases = dft_cases.groupby(COL_REGION)[dt_5day].sum()\n",
    "# dfp_deaths = dft_deaths.groupby(COL_REGION)[dt_5day].sum()\n",
    "dfp_cases = dft_cases.groupby(COL_REGION)[dt_yday].sum()\n",
    "dfp_deaths = dft_deaths.groupby(COL_REGION)[dt_yday].sum()"
   ]
  },
  {
   "cell_type": "code",
   "execution_count": 12,
   "id": "deluxe-hepatitis",
   "metadata": {
    "execution": {
     "iopub.execute_input": "2022-07-02T12:14:25.371675Z",
     "iopub.status.busy": "2022-07-02T12:14:25.371098Z",
     "iopub.status.idle": "2022-07-02T12:14:25.375791Z",
     "shell.execute_reply": "2022-07-02T12:14:25.375326Z"
    },
    "papermill": {
     "duration": 0.040059,
     "end_time": "2022-07-02T12:14:25.375893",
     "exception": false,
     "start_time": "2022-07-02T12:14:25.335834",
     "status": "completed"
    },
    "tags": []
   },
   "outputs": [],
   "source": [
    "#hide\n",
    "df_table = (pd.DataFrame(dict(Cases = dfc_cases, Deaths = dfc_deaths, PCases = dfp_cases, PDeaths = dfp_deaths))\n",
    "            .sort_values(by = ['Cases','Deaths'], ascending = [False, False])\n",
    "            .reset_index())"
   ]
  },
  {
   "cell_type": "code",
   "execution_count": 13,
   "id": "educational-chancellor",
   "metadata": {
    "execution": {
     "iopub.execute_input": "2022-07-02T12:14:25.448843Z",
     "iopub.status.busy": "2022-07-02T12:14:25.448278Z",
     "iopub.status.idle": "2022-07-02T12:14:25.460113Z",
     "shell.execute_reply": "2022-07-02T12:14:25.459550Z"
    },
    "papermill": {
     "duration": 0.054187,
     "end_time": "2022-07-02T12:14:25.460219",
     "exception": false,
     "start_time": "2022-07-02T12:14:25.406032",
     "status": "completed"
    },
    "tags": []
   },
   "outputs": [
    {
     "data": {
      "text/html": [
       "<div>\n",
       "<style scoped>\n",
       "    .dataframe tbody tr th:only-of-type {\n",
       "        vertical-align: middle;\n",
       "    }\n",
       "\n",
       "    .dataframe tbody tr th {\n",
       "        vertical-align: top;\n",
       "    }\n",
       "\n",
       "    .dataframe thead th {\n",
       "        text-align: right;\n",
       "    }\n",
       "</style>\n",
       "<table border=\"1\" class=\"dataframe\">\n",
       "  <thead>\n",
       "    <tr style=\"text-align: right;\">\n",
       "      <th></th>\n",
       "      <th>Country/Region</th>\n",
       "      <th>Cases</th>\n",
       "      <th>Deaths</th>\n",
       "      <th>PCases</th>\n",
       "      <th>PDeaths</th>\n",
       "      <th>Cases (+)</th>\n",
       "      <th>Deaths (+)</th>\n",
       "      <th>Fatality Rate</th>\n",
       "      <th>Continent</th>\n",
       "    </tr>\n",
       "  </thead>\n",
       "  <tbody>\n",
       "    <tr>\n",
       "      <th>0</th>\n",
       "      <td>US</td>\n",
       "      <td>87821971</td>\n",
       "      <td>1017817</td>\n",
       "      <td>87627486</td>\n",
       "      <td>1017277</td>\n",
       "      <td>194485</td>\n",
       "      <td>540</td>\n",
       "      <td>1.16</td>\n",
       "      <td>North America</td>\n",
       "    </tr>\n",
       "    <tr>\n",
       "      <th>1</th>\n",
       "      <td>India</td>\n",
       "      <td>43486326</td>\n",
       "      <td>525168</td>\n",
       "      <td>43469234</td>\n",
       "      <td>525139</td>\n",
       "      <td>17092</td>\n",
       "      <td>29</td>\n",
       "      <td>1.21</td>\n",
       "      <td>Asia</td>\n",
       "    </tr>\n",
       "    <tr>\n",
       "      <th>2</th>\n",
       "      <td>Brazil</td>\n",
       "      <td>32434063</td>\n",
       "      <td>671700</td>\n",
       "      <td>32358018</td>\n",
       "      <td>671416</td>\n",
       "      <td>76045</td>\n",
       "      <td>284</td>\n",
       "      <td>2.07</td>\n",
       "      <td>South America</td>\n",
       "    </tr>\n",
       "    <tr>\n",
       "      <th>3</th>\n",
       "      <td>France</td>\n",
       "      <td>31410383</td>\n",
       "      <td>150624</td>\n",
       "      <td>31285317</td>\n",
       "      <td>150572</td>\n",
       "      <td>125066</td>\n",
       "      <td>52</td>\n",
       "      <td>0.48</td>\n",
       "      <td>Europe</td>\n",
       "    </tr>\n",
       "    <tr>\n",
       "      <th>4</th>\n",
       "      <td>Germany</td>\n",
       "      <td>28392629</td>\n",
       "      <td>141292</td>\n",
       "      <td>28293960</td>\n",
       "      <td>141189</td>\n",
       "      <td>98669</td>\n",
       "      <td>103</td>\n",
       "      <td>0.50</td>\n",
       "      <td>Europe</td>\n",
       "    </tr>\n",
       "  </tbody>\n",
       "</table>\n",
       "</div>"
      ],
      "text/plain": [
       "  Country/Region     Cases   Deaths    PCases  PDeaths  Cases (+)  Deaths (+)  \\\n",
       "0             US  87821971  1017817  87627486  1017277     194485         540   \n",
       "1          India  43486326   525168  43469234   525139      17092          29   \n",
       "2         Brazil  32434063   671700  32358018   671416      76045         284   \n",
       "3         France  31410383   150624  31285317   150572     125066          52   \n",
       "4        Germany  28392629   141292  28293960   141189      98669         103   \n",
       "\n",
       "   Fatality Rate      Continent  \n",
       "0           1.16  North America  \n",
       "1           1.21           Asia  \n",
       "2           2.07  South America  \n",
       "3           0.48         Europe  \n",
       "4           0.50         Europe  "
      ]
     },
     "execution_count": 13,
     "metadata": {},
     "output_type": "execute_result"
    }
   ],
   "source": [
    "#hide\n",
    "for c in 'Cases, Deaths'.split(', '):\n",
    "    df_table[f'{c} (+)'] = (df_table[c] - df_table[f'P{c}']).clip(0)\n",
    "    #Clip ça veut dire, les chiffres negatif sont interdit\n",
    "df_table['Fatality Rate'] = (100* df_table['Deaths']/ df_table['Cases']).round(2)\n",
    "df_table['Continent'] = df_table['Country/Region'].map(mapping['map.continent'])\n",
    "df_table.head(5)"
   ]
  },
  {
   "cell_type": "code",
   "execution_count": 14,
   "id": "aboriginal-bulgaria",
   "metadata": {
    "execution": {
     "iopub.execute_input": "2022-07-02T12:14:25.526888Z",
     "iopub.status.busy": "2022-07-02T12:14:25.526323Z",
     "iopub.status.idle": "2022-07-02T12:14:25.529062Z",
     "shell.execute_reply": "2022-07-02T12:14:25.528617Z"
    },
    "papermill": {
     "duration": 0.038356,
     "end_time": "2022-07-02T12:14:25.529162",
     "exception": false,
     "start_time": "2022-07-02T12:14:25.490806",
     "status": "completed"
    },
    "tags": []
   },
   "outputs": [],
   "source": [
    "#hide\n",
    "#delete problematic countries from table\n",
    "df_table = df_table[~df_table['Country/Region'].isin(['Cape Verde', 'Cruise Ship', 'Kosovo'])]"
   ]
  },
  {
   "cell_type": "code",
   "execution_count": 15,
   "id": "fantastic-effect",
   "metadata": {
    "execution": {
     "iopub.execute_input": "2022-07-02T12:14:25.597862Z",
     "iopub.status.busy": "2022-07-02T12:14:25.597302Z",
     "iopub.status.idle": "2022-07-02T12:14:25.614410Z",
     "shell.execute_reply": "2022-07-02T12:14:25.613875Z"
    },
    "papermill": {
     "duration": 0.054896,
     "end_time": "2022-07-02T12:14:25.614511",
     "exception": false,
     "start_time": "2022-07-02T12:14:25.559615",
     "status": "completed"
    },
    "tags": []
   },
   "outputs": [
    {
     "data": {
      "text/html": [
       "<div>\n",
       "<style scoped>\n",
       "    .dataframe tbody tr th:only-of-type {\n",
       "        vertical-align: middle;\n",
       "    }\n",
       "\n",
       "    .dataframe tbody tr th {\n",
       "        vertical-align: top;\n",
       "    }\n",
       "\n",
       "    .dataframe thead th {\n",
       "        text-align: right;\n",
       "    }\n",
       "</style>\n",
       "<table border=\"1\" class=\"dataframe\">\n",
       "  <thead>\n",
       "    <tr style=\"text-align: right;\">\n",
       "      <th></th>\n",
       "      <th>Country/Region</th>\n",
       "      <th>Cases</th>\n",
       "      <th>Deaths</th>\n",
       "      <th>PCases</th>\n",
       "      <th>PDeaths</th>\n",
       "      <th>Cases (+)</th>\n",
       "      <th>Deaths (+)</th>\n",
       "      <th>Fatality Rate</th>\n",
       "      <th>Continent</th>\n",
       "    </tr>\n",
       "  </thead>\n",
       "  <tbody>\n",
       "    <tr>\n",
       "      <th>0</th>\n",
       "      <td>US</td>\n",
       "      <td>87821971</td>\n",
       "      <td>1017817</td>\n",
       "      <td>87627486</td>\n",
       "      <td>1017277</td>\n",
       "      <td>194485</td>\n",
       "      <td>540</td>\n",
       "      <td>1.2</td>\n",
       "      <td>North America</td>\n",
       "    </tr>\n",
       "    <tr>\n",
       "      <th>1</th>\n",
       "      <td>India</td>\n",
       "      <td>43486326</td>\n",
       "      <td>525168</td>\n",
       "      <td>43469234</td>\n",
       "      <td>525139</td>\n",
       "      <td>17092</td>\n",
       "      <td>29</td>\n",
       "      <td>1.2</td>\n",
       "      <td>Asia</td>\n",
       "    </tr>\n",
       "    <tr>\n",
       "      <th>2</th>\n",
       "      <td>Brazil</td>\n",
       "      <td>32434063</td>\n",
       "      <td>671700</td>\n",
       "      <td>32358018</td>\n",
       "      <td>671416</td>\n",
       "      <td>76045</td>\n",
       "      <td>284</td>\n",
       "      <td>2.1</td>\n",
       "      <td>South America</td>\n",
       "    </tr>\n",
       "    <tr>\n",
       "      <th>3</th>\n",
       "      <td>France</td>\n",
       "      <td>31410383</td>\n",
       "      <td>150624</td>\n",
       "      <td>31285317</td>\n",
       "      <td>150572</td>\n",
       "      <td>125066</td>\n",
       "      <td>52</td>\n",
       "      <td>0.5</td>\n",
       "      <td>Europe</td>\n",
       "    </tr>\n",
       "    <tr>\n",
       "      <th>4</th>\n",
       "      <td>Germany</td>\n",
       "      <td>28392629</td>\n",
       "      <td>141292</td>\n",
       "      <td>28293960</td>\n",
       "      <td>141189</td>\n",
       "      <td>98669</td>\n",
       "      <td>103</td>\n",
       "      <td>0.5</td>\n",
       "      <td>Europe</td>\n",
       "    </tr>\n",
       "  </tbody>\n",
       "</table>\n",
       "</div>"
      ],
      "text/plain": [
       "  Country/Region     Cases   Deaths    PCases  PDeaths  Cases (+)  Deaths (+)  \\\n",
       "0             US  87821971  1017817  87627486  1017277     194485         540   \n",
       "1          India  43486326   525168  43469234   525139      17092          29   \n",
       "2         Brazil  32434063   671700  32358018   671416      76045         284   \n",
       "3         France  31410383   150624  31285317   150572     125066          52   \n",
       "4        Germany  28392629   141292  28293960   141189      98669         103   \n",
       "\n",
       "   Fatality Rate      Continent  \n",
       "0            1.2  North America  \n",
       "1            1.2           Asia  \n",
       "2            2.1  South America  \n",
       "3            0.5         Europe  \n",
       "4            0.5         Europe  "
      ]
     },
     "execution_count": 15,
     "metadata": {},
     "output_type": "execute_result"
    }
   ],
   "source": [
    "#hide\n",
    "df_table = (pd.DataFrame(dict(Cases=dfc_cases, Deaths=dfc_deaths, PCases=dfp_cases, PDeaths=dfp_deaths))\n",
    "             .sort_values(by=['Cases', 'Deaths'], ascending=[False, False])\n",
    "             .reset_index())\n",
    "df_table.rename(columns={'index': 'Country/Region'}, inplace=True)\n",
    "for c in 'Cases, Deaths'.split(', '):\n",
    "    df_table[f'{c} (+)'] = (df_table[c] - df_table[f'P{c}']).clip(0)  # DATA BUG\n",
    "df_table['Fatality Rate'] = (100 * df_table['Deaths'] / df_table['Cases']).round(1)\n",
    "df_table['Continent'] = df_table['Country/Region'].map(mapping['map.continent'])\n",
    "df_table.head(5)"
   ]
  },
  {
   "cell_type": "code",
   "execution_count": 16,
   "id": "fewer-occasion",
   "metadata": {
    "execution": {
     "iopub.execute_input": "2022-07-02T12:14:25.682054Z",
     "iopub.status.busy": "2022-07-02T12:14:25.681468Z",
     "iopub.status.idle": "2022-07-02T12:14:25.685109Z",
     "shell.execute_reply": "2022-07-02T12:14:25.685521Z"
    },
    "papermill": {
     "duration": 0.040056,
     "end_time": "2022-07-02T12:14:25.685643",
     "exception": false,
     "start_time": "2022-07-02T12:14:25.645587",
     "status": "completed"
    },
    "tags": []
   },
   "outputs": [],
   "source": [
    "#hide\n",
    "#delete problematic countries from table\n",
    "df_table = df_table[~df_table['Country/Region'].isin(['Cape Verde', 'Cruise Ship', 'Kosovo'])]"
   ]
  },
  {
   "cell_type": "code",
   "execution_count": 17,
   "id": "related-center",
   "metadata": {
    "execution": {
     "iopub.execute_input": "2022-07-02T12:14:25.764536Z",
     "iopub.status.busy": "2022-07-02T12:14:25.763962Z",
     "iopub.status.idle": "2022-07-02T12:14:25.766328Z",
     "shell.execute_reply": "2022-07-02T12:14:25.765803Z"
    },
    "papermill": {
     "duration": 0.049843,
     "end_time": "2022-07-02T12:14:25.766426",
     "exception": false,
     "start_time": "2022-07-02T12:14:25.716583",
     "status": "completed"
    },
    "tags": []
   },
   "outputs": [],
   "source": [
    "#hide\n",
    "metrics = [df_table.columns[index] for index in [1,2,5,6]]\n",
    "# s_china = df_table[df_table['Country/Region'].eq('China')][metrics].sum().add_prefix('China ')\n",
    "s_us = df_table[df_table['Country/Region'].eq('US')][metrics].sum().add_prefix('US ')\n",
    "s_eu = df_table[df_table['Continent'].eq('Europe')][metrics].sum().add_prefix('EU ')\n",
    "s_ind = df_table[df_table['Country/Region'].eq('India')][metrics].sum().add_prefix('India ')\n",
    "summary = {'updated': pd.to_datetime(dt_today), 'since': pd.to_datetime(dt_yday)}\n",
    "summary = {'updated': pd.to_datetime(dt_today), 'since': pd.to_datetime(dt_yday)}\n",
    "summary = {**summary, **df_table[metrics].sum(), **s_ind, **s_us, **s_eu}"
   ]
  },
  {
   "cell_type": "code",
   "execution_count": 18,
   "id": "engaging-syndrome",
   "metadata": {
    "execution": {
     "iopub.execute_input": "2022-07-02T12:14:25.833811Z",
     "iopub.status.busy": "2022-07-02T12:14:25.833237Z",
     "iopub.status.idle": "2022-07-02T12:14:25.851095Z",
     "shell.execute_reply": "2022-07-02T12:14:25.850541Z"
    },
    "papermill": {
     "duration": 0.053808,
     "end_time": "2022-07-02T12:14:25.851202",
     "exception": false,
     "start_time": "2022-07-02T12:14:25.797394",
     "status": "completed"
    },
    "tags": []
   },
   "outputs": [],
   "source": [
    "#hide\n",
    "dft_ct_new_cases = dft_cases.groupby(COL_REGION)[dt_cols].sum().diff(axis=1).fillna(0).astype(int)"
   ]
  },
  {
   "cell_type": "code",
   "execution_count": 19,
   "id": "neutral-assignment",
   "metadata": {
    "execution": {
     "iopub.execute_input": "2022-07-02T12:14:25.919056Z",
     "iopub.status.busy": "2022-07-02T12:14:25.918495Z",
     "iopub.status.idle": "2022-07-02T12:14:25.920929Z",
     "shell.execute_reply": "2022-07-02T12:14:25.921369Z"
    },
    "papermill": {
     "duration": 0.039142,
     "end_time": "2022-07-02T12:14:25.921491",
     "exception": false,
     "start_time": "2022-07-02T12:14:25.882349",
     "status": "completed"
    },
    "tags": []
   },
   "outputs": [],
   "source": [
    "#hide\n",
    "everydaycases = dft_ct_new_cases.cumsum(axis=1)"
   ]
  },
  {
   "cell_type": "code",
   "execution_count": 20,
   "id": "parliamentary-calgary",
   "metadata": {
    "execution": {
     "iopub.execute_input": "2022-07-02T12:14:25.988071Z",
     "iopub.status.busy": "2022-07-02T12:14:25.987456Z",
     "iopub.status.idle": "2022-07-02T12:14:26.544554Z",
     "shell.execute_reply": "2022-07-02T12:14:26.543795Z"
    },
    "papermill": {
     "duration": 0.592118,
     "end_time": "2022-07-02T12:14:26.544668",
     "exception": false,
     "start_time": "2022-07-02T12:14:25.952550",
     "status": "completed"
    },
    "tags": []
   },
   "outputs": [],
   "source": [
    "#hide\n",
    "import pandas as pd\n",
    "import matplotlib.pyplot as plt\n",
    "import matplotlib.ticker as ticker\n",
    "import matplotlib.animation as animation\n",
    "from IPython.display import HTML"
   ]
  },
  {
   "cell_type": "code",
   "execution_count": 21,
   "id": "lasting-extraction",
   "metadata": {
    "execution": {
     "iopub.execute_input": "2022-07-02T12:14:26.615058Z",
     "iopub.status.busy": "2022-07-02T12:14:26.614397Z",
     "iopub.status.idle": "2022-07-02T12:14:26.618834Z",
     "shell.execute_reply": "2022-07-02T12:14:26.619297Z"
    },
    "papermill": {
     "duration": 0.043559,
     "end_time": "2022-07-02T12:14:26.619419",
     "exception": false,
     "start_time": "2022-07-02T12:14:26.575860",
     "status": "completed"
    },
    "tags": []
   },
   "outputs": [],
   "source": [
    "#hide\n",
    "t = everydaycases.stack()"
   ]
  },
  {
   "cell_type": "code",
   "execution_count": 22,
   "id": "premier-sleeve",
   "metadata": {
    "execution": {
     "iopub.execute_input": "2022-07-02T12:14:26.686366Z",
     "iopub.status.busy": "2022-07-02T12:14:26.685221Z",
     "iopub.status.idle": "2022-07-02T12:14:26.697952Z",
     "shell.execute_reply": "2022-07-02T12:14:26.696945Z"
    },
    "papermill": {
     "duration": 0.047421,
     "end_time": "2022-07-02T12:14:26.698059",
     "exception": false,
     "start_time": "2022-07-02T12:14:26.650638",
     "status": "completed"
    },
    "tags": []
   },
   "outputs": [],
   "source": [
    "#hide\n",
    "g = t.reset_index(['Country/Region'])"
   ]
  },
  {
   "cell_type": "code",
   "execution_count": 23,
   "id": "distributed-pittsburgh",
   "metadata": {
    "execution": {
     "iopub.execute_input": "2022-07-02T12:14:26.763470Z",
     "iopub.status.busy": "2022-07-02T12:14:26.762911Z",
     "iopub.status.idle": "2022-07-02T12:14:26.765070Z",
     "shell.execute_reply": "2022-07-02T12:14:26.765480Z"
    },
    "papermill": {
     "duration": 0.036674,
     "end_time": "2022-07-02T12:14:26.765595",
     "exception": false,
     "start_time": "2022-07-02T12:14:26.728921",
     "status": "completed"
    },
    "tags": []
   },
   "outputs": [],
   "source": [
    "#hide\n",
    "g.index.name = 'date'"
   ]
  },
  {
   "cell_type": "code",
   "execution_count": 24,
   "id": "naked-donor",
   "metadata": {
    "execution": {
     "iopub.execute_input": "2022-07-02T12:14:26.830966Z",
     "iopub.status.busy": "2022-07-02T12:14:26.830413Z",
     "iopub.status.idle": "2022-07-02T12:14:26.832620Z",
     "shell.execute_reply": "2022-07-02T12:14:26.832197Z"
    },
    "papermill": {
     "duration": 0.036325,
     "end_time": "2022-07-02T12:14:26.832723",
     "exception": false,
     "start_time": "2022-07-02T12:14:26.796398",
     "status": "completed"
    },
    "tags": []
   },
   "outputs": [],
   "source": [
    "# #hide\n",
    "# g = g.reset_index(['date'])"
   ]
  },
  {
   "cell_type": "code",
   "execution_count": 25,
   "id": "incomplete-mustang",
   "metadata": {
    "execution": {
     "iopub.execute_input": "2022-07-02T12:14:26.898175Z",
     "iopub.status.busy": "2022-07-02T12:14:26.897621Z",
     "iopub.status.idle": "2022-07-02T12:14:26.899901Z",
     "shell.execute_reply": "2022-07-02T12:14:26.899370Z"
    },
    "papermill": {
     "duration": 0.036268,
     "end_time": "2022-07-02T12:14:26.900001",
     "exception": false,
     "start_time": "2022-07-02T12:14:26.863733",
     "status": "completed"
    },
    "tags": []
   },
   "outputs": [],
   "source": [
    "#hide\n",
    "# g.head()"
   ]
  },
  {
   "cell_type": "code",
   "execution_count": 26,
   "id": "specific-kruger",
   "metadata": {
    "execution": {
     "iopub.execute_input": "2022-07-02T12:14:26.965173Z",
     "iopub.status.busy": "2022-07-02T12:14:26.964596Z",
     "iopub.status.idle": "2022-07-02T12:14:26.967021Z",
     "shell.execute_reply": "2022-07-02T12:14:26.966583Z"
    },
    "papermill": {
     "duration": 0.036312,
     "end_time": "2022-07-02T12:14:26.967118",
     "exception": false,
     "start_time": "2022-07-02T12:14:26.930806",
     "status": "completed"
    },
    "tags": []
   },
   "outputs": [],
   "source": [
    "#hide\n",
    "# g.columns = ['date','country','cases']"
   ]
  },
  {
   "cell_type": "code",
   "execution_count": 27,
   "id": "tender-conversion",
   "metadata": {
    "execution": {
     "iopub.execute_input": "2022-07-02T12:14:27.032263Z",
     "iopub.status.busy": "2022-07-02T12:14:27.031663Z",
     "iopub.status.idle": "2022-07-02T12:14:27.034832Z",
     "shell.execute_reply": "2022-07-02T12:14:27.034297Z"
    },
    "papermill": {
     "duration": 0.037047,
     "end_time": "2022-07-02T12:14:27.034928",
     "exception": false,
     "start_time": "2022-07-02T12:14:26.997881",
     "status": "completed"
    },
    "tags": []
   },
   "outputs": [],
   "source": [
    "#hide\n",
    "# g['continent'] = g.country"
   ]
  },
  {
   "cell_type": "code",
   "execution_count": 28,
   "id": "substantial-wilderness",
   "metadata": {
    "execution": {
     "iopub.execute_input": "2022-07-02T12:14:27.099947Z",
     "iopub.status.busy": "2022-07-02T12:14:27.099350Z",
     "iopub.status.idle": "2022-07-02T12:14:27.101761Z",
     "shell.execute_reply": "2022-07-02T12:14:27.101326Z"
    },
    "papermill": {
     "duration": 0.036099,
     "end_time": "2022-07-02T12:14:27.101858",
     "exception": false,
     "start_time": "2022-07-02T12:14:27.065759",
     "status": "completed"
    },
    "tags": []
   },
   "outputs": [],
   "source": [
    "#hide\n",
    "# cols = list(g.columns.values)"
   ]
  },
  {
   "cell_type": "code",
   "execution_count": 29,
   "id": "solved-farming",
   "metadata": {
    "execution": {
     "iopub.execute_input": "2022-07-02T12:14:27.166665Z",
     "iopub.status.busy": "2022-07-02T12:14:27.166112Z",
     "iopub.status.idle": "2022-07-02T12:14:27.169559Z",
     "shell.execute_reply": "2022-07-02T12:14:27.169971Z"
    },
    "papermill": {
     "duration": 0.037486,
     "end_time": "2022-07-02T12:14:27.170087",
     "exception": false,
     "start_time": "2022-07-02T12:14:27.132601",
     "status": "completed"
    },
    "tags": []
   },
   "outputs": [],
   "source": [
    "#hide\n",
    "# cols.insert(0, cols.pop())"
   ]
  },
  {
   "cell_type": "code",
   "execution_count": 30,
   "id": "executed-adoption",
   "metadata": {
    "execution": {
     "iopub.execute_input": "2022-07-02T12:14:27.235529Z",
     "iopub.status.busy": "2022-07-02T12:14:27.234978Z",
     "iopub.status.idle": "2022-07-02T12:14:27.237237Z",
     "shell.execute_reply": "2022-07-02T12:14:27.236800Z"
    },
    "papermill": {
     "duration": 0.03648,
     "end_time": "2022-07-02T12:14:27.237337",
     "exception": false,
     "start_time": "2022-07-02T12:14:27.200857",
     "status": "completed"
    },
    "tags": []
   },
   "outputs": [],
   "source": [
    "#hide\n",
    "# g = g[cols]"
   ]
  },
  {
   "cell_type": "code",
   "execution_count": 31,
   "id": "subject-dublin",
   "metadata": {
    "execution": {
     "iopub.execute_input": "2022-07-02T12:14:27.302182Z",
     "iopub.status.busy": "2022-07-02T12:14:27.301620Z",
     "iopub.status.idle": "2022-07-02T12:14:27.304019Z",
     "shell.execute_reply": "2022-07-02T12:14:27.303480Z"
    },
    "papermill": {
     "duration": 0.036015,
     "end_time": "2022-07-02T12:14:27.304116",
     "exception": false,
     "start_time": "2022-07-02T12:14:27.268101",
     "status": "completed"
    },
    "tags": []
   },
   "outputs": [],
   "source": [
    "#hide\n",
    "# g['continent'] = g['continent'].map(mapping['map.continent'])"
   ]
  },
  {
   "cell_type": "code",
   "execution_count": 32,
   "id": "freelance-scout",
   "metadata": {
    "execution": {
     "iopub.execute_input": "2022-07-02T12:14:27.368955Z",
     "iopub.status.busy": "2022-07-02T12:14:27.368400Z",
     "iopub.status.idle": "2022-07-02T12:14:27.370757Z",
     "shell.execute_reply": "2022-07-02T12:14:27.370321Z"
    },
    "papermill": {
     "duration": 0.035893,
     "end_time": "2022-07-02T12:14:27.370852",
     "exception": false,
     "start_time": "2022-07-02T12:14:27.334959",
     "status": "completed"
    },
    "tags": []
   },
   "outputs": [],
   "source": [
    "#hide\n",
    "# g.head()"
   ]
  },
  {
   "cell_type": "code",
   "execution_count": 33,
   "id": "limited-engine",
   "metadata": {
    "execution": {
     "iopub.execute_input": "2022-07-02T12:14:27.436061Z",
     "iopub.status.busy": "2022-07-02T12:14:27.435467Z",
     "iopub.status.idle": "2022-07-02T12:14:27.437917Z",
     "shell.execute_reply": "2022-07-02T12:14:27.437482Z"
    },
    "papermill": {
     "duration": 0.036311,
     "end_time": "2022-07-02T12:14:27.438012",
     "exception": false,
     "start_time": "2022-07-02T12:14:27.401701",
     "status": "completed"
    },
    "tags": []
   },
   "outputs": [],
   "source": [
    "# hide\n",
    "# g['date'] = g['date'].astype('datetime64[ns]')"
   ]
  },
  {
   "cell_type": "code",
   "execution_count": 34,
   "id": "sophisticated-supervisor",
   "metadata": {
    "execution": {
     "iopub.execute_input": "2022-07-02T12:14:27.503112Z",
     "iopub.status.busy": "2022-07-02T12:14:27.502543Z",
     "iopub.status.idle": "2022-07-02T12:14:27.504909Z",
     "shell.execute_reply": "2022-07-02T12:14:27.504387Z"
    },
    "papermill": {
     "duration": 0.035976,
     "end_time": "2022-07-02T12:14:27.505007",
     "exception": false,
     "start_time": "2022-07-02T12:14:27.469031",
     "status": "completed"
    },
    "tags": []
   },
   "outputs": [],
   "source": [
    "#hide\n",
    "# g['date'] = g.date.dt.dayofyear"
   ]
  },
  {
   "cell_type": "code",
   "execution_count": 35,
   "id": "inside-dubai",
   "metadata": {
    "execution": {
     "iopub.execute_input": "2022-07-02T12:14:27.570199Z",
     "iopub.status.busy": "2022-07-02T12:14:27.569631Z",
     "iopub.status.idle": "2022-07-02T12:14:27.571613Z",
     "shell.execute_reply": "2022-07-02T12:14:27.572050Z"
    },
    "papermill": {
     "duration": 0.036396,
     "end_time": "2022-07-02T12:14:27.572167",
     "exception": false,
     "start_time": "2022-07-02T12:14:27.535771",
     "status": "completed"
    },
    "tags": []
   },
   "outputs": [],
   "source": [
    "#hide\n",
    "# g = g.rename(columns= {'continent':'group','country':'name','cases':'value'})"
   ]
  },
  {
   "cell_type": "code",
   "execution_count": 36,
   "id": "fleet-motorcycle",
   "metadata": {
    "execution": {
     "iopub.execute_input": "2022-07-02T12:14:27.637356Z",
     "iopub.status.busy": "2022-07-02T12:14:27.636791Z",
     "iopub.status.idle": "2022-07-02T12:14:27.639161Z",
     "shell.execute_reply": "2022-07-02T12:14:27.638637Z"
    },
    "papermill": {
     "duration": 0.036109,
     "end_time": "2022-07-02T12:14:27.639258",
     "exception": false,
     "start_time": "2022-07-02T12:14:27.603149",
     "status": "completed"
    },
    "tags": []
   },
   "outputs": [],
   "source": [
    "#hide\n",
    "# cols = ['name','group','day','value']"
   ]
  },
  {
   "cell_type": "code",
   "execution_count": 37,
   "id": "continued-sleeping",
   "metadata": {
    "execution": {
     "iopub.execute_input": "2022-07-02T12:14:27.704432Z",
     "iopub.status.busy": "2022-07-02T12:14:27.703862Z",
     "iopub.status.idle": "2022-07-02T12:14:27.706235Z",
     "shell.execute_reply": "2022-07-02T12:14:27.705799Z"
    },
    "papermill": {
     "duration": 0.036108,
     "end_time": "2022-07-02T12:14:27.706329",
     "exception": false,
     "start_time": "2022-07-02T12:14:27.670221",
     "status": "completed"
    },
    "tags": []
   },
   "outputs": [],
   "source": [
    "#hide\n",
    "# g.rename(columns= {'date':'day'},inplace = True)"
   ]
  },
  {
   "cell_type": "code",
   "execution_count": 38,
   "id": "major-fight",
   "metadata": {
    "execution": {
     "iopub.execute_input": "2022-07-02T12:14:27.771578Z",
     "iopub.status.busy": "2022-07-02T12:14:27.771009Z",
     "iopub.status.idle": "2022-07-02T12:14:27.773438Z",
     "shell.execute_reply": "2022-07-02T12:14:27.772912Z"
    },
    "papermill": {
     "duration": 0.036237,
     "end_time": "2022-07-02T12:14:27.773538",
     "exception": false,
     "start_time": "2022-07-02T12:14:27.737301",
     "status": "completed"
    },
    "tags": []
   },
   "outputs": [],
   "source": [
    "#hide\n",
    "# g = g[cols]"
   ]
  },
  {
   "cell_type": "code",
   "execution_count": 39,
   "id": "structured-mobile",
   "metadata": {
    "execution": {
     "iopub.execute_input": "2022-07-02T12:14:27.839301Z",
     "iopub.status.busy": "2022-07-02T12:14:27.838728Z",
     "iopub.status.idle": "2022-07-02T12:14:27.841166Z",
     "shell.execute_reply": "2022-07-02T12:14:27.840727Z"
    },
    "papermill": {
     "duration": 0.036706,
     "end_time": "2022-07-02T12:14:27.841264",
     "exception": false,
     "start_time": "2022-07-02T12:14:27.804558",
     "status": "completed"
    },
    "tags": []
   },
   "outputs": [],
   "source": [
    "# #hide\n",
    "# g = g[g.group.notna()]"
   ]
  },
  {
   "cell_type": "code",
   "execution_count": 40,
   "id": "determined-closing",
   "metadata": {
    "execution": {
     "iopub.execute_input": "2022-07-02T12:14:27.906181Z",
     "iopub.status.busy": "2022-07-02T12:14:27.905614Z",
     "iopub.status.idle": "2022-07-02T12:14:27.907801Z",
     "shell.execute_reply": "2022-07-02T12:14:27.907267Z"
    },
    "papermill": {
     "duration": 0.035663,
     "end_time": "2022-07-02T12:14:27.907898",
     "exception": false,
     "start_time": "2022-07-02T12:14:27.872235",
     "status": "completed"
    },
    "tags": []
   },
   "outputs": [],
   "source": [
    "# #hide\n",
    "# colors = dict(zip(\n",
    "#     [\"Oceania\", \"Europe\", \"Asia\", \"South America\", \"Middle East\", \"North America\", \"Africa\"],\n",
    "#     [\"#adb0ff\", \"#ffb3ff\", \"#90d595\", \"#e48381\", \"#aafbff\", \"#f7bb5f\", \"#eafb50\"]\n",
    "# ))\n",
    "# group_lk = g.set_index('name')['group'].to_dict()"
   ]
  },
  {
   "cell_type": "code",
   "execution_count": null,
   "id": "gross-drinking",
   "metadata": {
    "papermill": {
     "duration": 0.030886,
     "end_time": "2022-07-02T12:14:27.969557",
     "exception": false,
     "start_time": "2022-07-02T12:14:27.938671",
     "status": "completed"
    },
    "tags": []
   },
   "outputs": [],
   "source": []
  },
  {
   "cell_type": "code",
   "execution_count": 41,
   "id": "subject-macintosh",
   "metadata": {
    "execution": {
     "iopub.execute_input": "2022-07-02T12:14:28.036290Z",
     "iopub.status.busy": "2022-07-02T12:14:28.035697Z",
     "iopub.status.idle": "2022-07-02T12:14:28.038172Z",
     "shell.execute_reply": "2022-07-02T12:14:28.037722Z"
    },
    "papermill": {
     "duration": 0.037818,
     "end_time": "2022-07-02T12:14:28.038268",
     "exception": false,
     "start_time": "2022-07-02T12:14:28.000450",
     "status": "completed"
    },
    "tags": []
   },
   "outputs": [],
   "source": [
    "# #hide\n",
    "# fig, ax = plt.subplots(figsize=(15, 8))\n",
    "\n",
    "# def draw_barchart(current_day):\n",
    "#     dff = g[g['day'].eq(current_day)].sort_values(by='value', ascending=True).tail(10)\n",
    "#     ax.clear()\n",
    "#     ax.barh(dff['name'], dff['value'], color=[colors[group_lk[x]] for x in dff['name']])\n",
    "#     dx = dff['value'].max() / 200\n",
    "    \n",
    "#     for i, (value, name) in enumerate(zip(dff['value'], dff['name'])):\n",
    "#         ax.text(value-dx, i,     name,           size=14, weight=600, ha='right', va='bottom')\n",
    "#         ax.text(value-dx, i-.25, group_lk[name], size=10, color='#444444', ha='right', va='baseline')\n",
    "#         ax.text(value+dx, i,     f'{value:,.0f}',  size=14, ha='left',  va='center')\n",
    "#     ax.text(1, 0.4, current_day, transform=ax.transAxes, color='#777777', size=46, ha='right', weight=800)\n",
    "#     ax.text(0, 1.06, 'Population (thousands)', transform=ax.transAxes, size=12, color='#777777')\n",
    "#     ax.xaxis.set_major_formatter(ticker.StrMethodFormatter('{x:,.0f}'))\n",
    "#     ax.xaxis.set_ticks_position('top')\n",
    "#     ax.tick_params(axis='x', colors='#777777', labelsize=12)\n",
    "#     ax.set_yticks([])\n",
    "#     ax.margins(0, 0.01)\n",
    "#     ax.grid(which='major', axis='x', linestyle='-')\n",
    "#     ax.set_axisbelow(True)\n",
    "    \n",
    "#     ax.text(0, 1.15, 'Coronavirus',\n",
    "#             transform=ax.transAxes, size=24, weight=600, ha='left', va='top')\n",
    "# #     ax.text(1, 0, 'by @pratapvardhan; credit @jburnmurdoch', transform=ax.transAxes, color='#777777', ha='right',\n",
    "# #             bbox=dict(facecolor='white', alpha=0.8, edgecolor='white'))\n",
    "#     plt.box(False)"
   ]
  },
  {
   "cell_type": "code",
   "execution_count": 42,
   "id": "sexual-wages",
   "metadata": {
    "execution": {
     "iopub.execute_input": "2022-07-02T12:14:28.103484Z",
     "iopub.status.busy": "2022-07-02T12:14:28.102912Z",
     "iopub.status.idle": "2022-07-02T12:14:28.105378Z",
     "shell.execute_reply": "2022-07-02T12:14:28.104854Z"
    },
    "papermill": {
     "duration": 0.036543,
     "end_time": "2022-07-02T12:14:28.105475",
     "exception": false,
     "start_time": "2022-07-02T12:14:28.068932",
     "status": "completed"
    },
    "tags": []
   },
   "outputs": [],
   "source": [
    "# #hide_input\n",
    "# fig, ax = plt.subplots(figsize=(15, 8))\n",
    "# animator = animation.FuncAnimation(fig, draw_barchart, frames=range(g.day.values.min(), g.day.values.max()))\n",
    "# HTML(animator.to_jshtml())\n",
    "# # or use animator.to_html5_video() or animator.save() "
   ]
  },
  {
   "cell_type": "code",
   "execution_count": null,
   "id": "australian-container",
   "metadata": {
    "papermill": {
     "duration": 0.03059,
     "end_time": "2022-07-02T12:14:28.167016",
     "exception": false,
     "start_time": "2022-07-02T12:14:28.136426",
     "status": "completed"
    },
    "tags": []
   },
   "outputs": [],
   "source": []
  },
  {
   "cell_type": "code",
   "execution_count": null,
   "id": "mediterranean-pontiac",
   "metadata": {
    "papermill": {
     "duration": 0.030882,
     "end_time": "2022-07-02T12:14:28.228501",
     "exception": false,
     "start_time": "2022-07-02T12:14:28.197619",
     "status": "completed"
    },
    "tags": []
   },
   "outputs": [],
   "source": []
  },
  {
   "cell_type": "code",
   "execution_count": null,
   "id": "aging-legislature",
   "metadata": {
    "papermill": {
     "duration": 0.030745,
     "end_time": "2022-07-02T12:14:28.289992",
     "exception": false,
     "start_time": "2022-07-02T12:14:28.259247",
     "status": "completed"
    },
    "tags": []
   },
   "outputs": [],
   "source": []
  }
 ],
 "metadata": {
  "kernelspec": {
   "display_name": "Python 3",
   "language": "python",
   "name": "python3"
  },
  "language_info": {
   "codemirror_mode": {
    "name": "ipython",
    "version": 3
   },
   "file_extension": ".py",
   "mimetype": "text/x-python",
   "name": "python",
   "nbconvert_exporter": "python",
   "pygments_lexer": "ipython3",
   "version": "3.6.15"
  },
  "papermill": {
   "duration": 5.902659,
   "end_time": "2022-07-02T12:14:28.639028",
   "environment_variables": {},
   "exception": null,
   "input_path": "2020-03-21-covid19exp.ipynb",
   "output_path": "2020-03-21-covid19exp.ipynb",
   "parameters": {},
   "start_time": "2022-07-02T12:14:22.736369",
   "version": "2.0.0"
  }
 },
 "nbformat": 4,
 "nbformat_minor": 5
}