{
 "cells": [
  {
   "cell_type": "markdown",
   "id": "muslim-click",
   "metadata": {
    "papermill": {
     "duration": 0.037627,
     "end_time": "2021-09-21T12:11:02.675833",
     "exception": false,
     "start_time": "2021-09-21T12:11:02.638206",
     "status": "completed"
    },
    "tags": []
   },
   "source": [
    "# COVID-19 Case Race\n",
    "> A race chart to see rising cases around the world\n",
    "\n",
    "- author: Hargun Oberoi\n",
    "- image: images/covid-overview.png\n",
    "- hide: false\n",
    "- badges: false"
   ]
  },
  {
   "cell_type": "code",
   "execution_count": 1,
   "id": "proof-material",
   "metadata": {
    "execution": {
     "iopub.execute_input": "2021-09-21T12:11:02.758318Z",
     "iopub.status.busy": "2021-09-21T12:11:02.757685Z",
     "iopub.status.idle": "2021-09-21T12:11:03.115223Z",
     "shell.execute_reply": "2021-09-21T12:11:03.115768Z"
    },
    "papermill": {
     "duration": 0.402518,
     "end_time": "2021-09-21T12:11:03.115991",
     "exception": false,
     "start_time": "2021-09-21T12:11:02.713473",
     "status": "completed"
    },
    "tags": []
   },
   "outputs": [],
   "source": [
    "#hide\n",
    "import numpy as np\n",
    "import pandas as pd\n",
    "from jinja2 import Template\n",
    "from IPython.display import HTML"
   ]
  },
  {
   "cell_type": "code",
   "execution_count": 2,
   "id": "developed-terminology",
   "metadata": {
    "execution": {
     "iopub.execute_input": "2021-09-21T12:11:03.195052Z",
     "iopub.status.busy": "2021-09-21T12:11:03.194349Z",
     "iopub.status.idle": "2021-09-21T12:11:03.196364Z",
     "shell.execute_reply": "2021-09-21T12:11:03.196827Z"
    },
    "papermill": {
     "duration": 0.044396,
     "end_time": "2021-09-21T12:11:03.196950",
     "exception": false,
     "start_time": "2021-09-21T12:11:03.152554",
     "status": "completed"
    },
    "tags": []
   },
   "outputs": [],
   "source": [
    "#hide\n",
    "\n",
    "# FETCH\n",
    "base_url = 'https://raw.githubusercontent.com/pratapvardhan/notebooks/master/covid19/'\n",
    "paths = {\n",
    "    'mapping': base_url + 'mapping_countries.csv',\n",
    "    'overview': base_url + 'overview.tpl'\n",
    "}"
   ]
  },
  {
   "cell_type": "code",
   "execution_count": 3,
   "id": "dynamic-saver",
   "metadata": {
    "execution": {
     "iopub.execute_input": "2021-09-21T12:11:03.278787Z",
     "iopub.status.busy": "2021-09-21T12:11:03.278170Z",
     "iopub.status.idle": "2021-09-21T12:11:03.280569Z",
     "shell.execute_reply": "2021-09-21T12:11:03.281272Z"
    },
    "papermill": {
     "duration": 0.050776,
     "end_time": "2021-09-21T12:11:03.281431",
     "exception": false,
     "start_time": "2021-09-21T12:11:03.230655",
     "status": "completed"
    },
    "tags": []
   },
   "outputs": [
    {
     "data": {
      "text/plain": [
       "'https://raw.githubusercontent.com/pratapvardhan/notebooks/master/covid19/mapping_countries.csv'"
      ]
     },
     "execution_count": 3,
     "metadata": {},
     "output_type": "execute_result"
    }
   ],
   "source": [
    "#hide\n",
    "paths['mapping']"
   ]
  },
  {
   "cell_type": "code",
   "execution_count": 4,
   "id": "urban-software",
   "metadata": {
    "execution": {
     "iopub.execute_input": "2021-09-21T12:11:03.360535Z",
     "iopub.status.busy": "2021-09-21T12:11:03.359897Z",
     "iopub.status.idle": "2021-09-21T12:11:03.361889Z",
     "shell.execute_reply": "2021-09-21T12:11:03.362608Z"
    },
    "papermill": {
     "duration": 0.044514,
     "end_time": "2021-09-21T12:11:03.362760",
     "exception": false,
     "start_time": "2021-09-21T12:11:03.318246",
     "status": "completed"
    },
    "tags": []
   },
   "outputs": [],
   "source": [
    "#hide\n",
    "def get_mappings(url):\n",
    "    df = pd.read_csv(url)\n",
    "    return {\n",
    "        'df': df,\n",
    "        'replace.country': dict(df.dropna(subset=['Name']).set_index('Country')['Name']),\n",
    "        'map.continent': dict(df.set_index('Name')['Continent'])\n",
    "    }"
   ]
  },
  {
   "cell_type": "code",
   "execution_count": 5,
   "id": "intimate-machinery",
   "metadata": {
    "execution": {
     "iopub.execute_input": "2021-09-21T12:11:03.441330Z",
     "iopub.status.busy": "2021-09-21T12:11:03.440731Z",
     "iopub.status.idle": "2021-09-21T12:11:03.499783Z",
     "shell.execute_reply": "2021-09-21T12:11:03.500351Z"
    },
    "papermill": {
     "duration": 0.101309,
     "end_time": "2021-09-21T12:11:03.500500",
     "exception": false,
     "start_time": "2021-09-21T12:11:03.399191",
     "status": "completed"
    },
    "tags": []
   },
   "outputs": [],
   "source": [
    "#hide\n",
    "mapping = get_mappings(paths['mapping'])"
   ]
  },
  {
   "cell_type": "code",
   "execution_count": 6,
   "id": "certified-tactics",
   "metadata": {
    "execution": {
     "iopub.execute_input": "2021-09-21T12:11:03.578630Z",
     "iopub.status.busy": "2021-09-21T12:11:03.578062Z",
     "iopub.status.idle": "2021-09-21T12:11:03.580003Z",
     "shell.execute_reply": "2021-09-21T12:11:03.580570Z"
    },
    "papermill": {
     "duration": 0.042232,
     "end_time": "2021-09-21T12:11:03.580691",
     "exception": false,
     "start_time": "2021-09-21T12:11:03.538459",
     "status": "completed"
    },
    "tags": []
   },
   "outputs": [],
   "source": [
    "#hide\n",
    "def get_template(path):\n",
    "    from urllib.parse import urlparse\n",
    "    if bool(urlparse(path).netloc):\n",
    "        from urllib.request import urlopen\n",
    "        return urlopen(path).read().decode('utf8')\n",
    "    return open(path).read()"
   ]
  },
  {
   "cell_type": "code",
   "execution_count": 7,
   "id": "realistic-blast",
   "metadata": {
    "execution": {
     "iopub.execute_input": "2021-09-21T12:11:03.655998Z",
     "iopub.status.busy": "2021-09-21T12:11:03.655409Z",
     "iopub.status.idle": "2021-09-21T12:11:03.657387Z",
     "shell.execute_reply": "2021-09-21T12:11:03.657962Z"
    },
    "papermill": {
     "duration": 0.043634,
     "end_time": "2021-09-21T12:11:03.658086",
     "exception": false,
     "start_time": "2021-09-21T12:11:03.614452",
     "status": "completed"
    },
    "tags": []
   },
   "outputs": [],
   "source": [
    "#hide\n",
    "def get_frame(name):\n",
    "    url = (\n",
    "        'https://raw.githubusercontent.com/CSSEGISandData/COVID-19/master/csse_covid_19_data/'\n",
    "        f'csse_covid_19_time_series/time_series_covid19_{name}_global.csv')\n",
    "    df = pd.read_csv(url)\n",
    "    # rename countries\n",
    "    df['Country/Region'] = df['Country/Region'].replace(mapping['replace.country'])\n",
    "    return df"
   ]
  },
  {
   "cell_type": "code",
   "execution_count": 8,
   "id": "affiliated-characterization",
   "metadata": {
    "execution": {
     "iopub.execute_input": "2021-09-21T12:11:03.737269Z",
     "iopub.status.busy": "2021-09-21T12:11:03.736626Z",
     "iopub.status.idle": "2021-09-21T12:11:03.740913Z",
     "shell.execute_reply": "2021-09-21T12:11:03.740100Z"
    },
    "papermill": {
     "duration": 0.047352,
     "end_time": "2021-09-21T12:11:03.741062",
     "exception": false,
     "start_time": "2021-09-21T12:11:03.693710",
     "status": "completed"
    },
    "tags": []
   },
   "outputs": [],
   "source": [
    "#hide\n",
    "def get_dates(df):\n",
    "    dt_cols = df.columns[~df.columns.isin(['Province/State', 'Country/Region', 'Lat', 'Long'])]\n",
    "    LAST_DATE_I = -1\n",
    "    # sometimes last column may be empty, then go backwards\n",
    "    for i in range(-1, -len(dt_cols), -1):\n",
    "        if not df[dt_cols[i]].fillna(0).eq(0).all():\n",
    "            LAST_DATE_I = i\n",
    "            break\n",
    "    return LAST_DATE_I, dt_cols"
   ]
  },
  {
   "cell_type": "code",
   "execution_count": 9,
   "id": "recent-optimization",
   "metadata": {
    "execution": {
     "iopub.execute_input": "2021-09-21T12:11:03.820560Z",
     "iopub.status.busy": "2021-09-21T12:11:03.819732Z",
     "iopub.status.idle": "2021-09-21T12:11:04.361494Z",
     "shell.execute_reply": "2021-09-21T12:11:04.360928Z"
    },
    "papermill": {
     "duration": 0.584212,
     "end_time": "2021-09-21T12:11:04.361626",
     "exception": false,
     "start_time": "2021-09-21T12:11:03.777414",
     "status": "completed"
    },
    "tags": []
   },
   "outputs": [],
   "source": [
    "#hide\n",
    "COL_REGION = 'Country/Region'\n",
    "# Confirmed, Recovered, Deaths\n",
    "df = get_frame('confirmed')\n",
    "# dft_: timeseries, dfc_: today country agg\n",
    "dft_cases = df\n",
    "dft_deaths = get_frame('deaths')\n",
    "dft_recovered = get_frame('recovered')\n",
    "LAST_DATE_I, dt_cols = get_dates(df)"
   ]
  },
  {
   "cell_type": "code",
   "execution_count": 10,
   "id": "absolute-copper",
   "metadata": {
    "execution": {
     "iopub.execute_input": "2021-09-21T12:11:04.440343Z",
     "iopub.status.busy": "2021-09-21T12:11:04.439141Z",
     "iopub.status.idle": "2021-09-21T12:11:04.440946Z",
     "shell.execute_reply": "2021-09-21T12:11:04.441387Z"
    },
    "papermill": {
     "duration": 0.042874,
     "end_time": "2021-09-21T12:11:04.441510",
     "exception": false,
     "start_time": "2021-09-21T12:11:04.398636",
     "status": "completed"
    },
    "tags": []
   },
   "outputs": [],
   "source": [
    "#hide\n",
    "LAST_DATE_I, dt_cols = get_dates(df)\n",
    "dt_today =dt_cols[LAST_DATE_I]\n",
    "# dt_5day = dt_cols[LAST_DATE_I - 5]\n",
    "dt_yday = dt_cols[LAST_DATE_I - 1]"
   ]
  },
  {
   "cell_type": "code",
   "execution_count": 11,
   "id": "restricted-sheriff",
   "metadata": {
    "execution": {
     "iopub.execute_input": "2021-09-21T12:11:04.514750Z",
     "iopub.status.busy": "2021-09-21T12:11:04.512767Z",
     "iopub.status.idle": "2021-09-21T12:11:04.527367Z",
     "shell.execute_reply": "2021-09-21T12:11:04.527812Z"
    },
    "papermill": {
     "duration": 0.053527,
     "end_time": "2021-09-21T12:11:04.527935",
     "exception": false,
     "start_time": "2021-09-21T12:11:04.474408",
     "status": "completed"
    },
    "tags": []
   },
   "outputs": [],
   "source": [
    "#hide\n",
    "dfc_cases = dft_cases.groupby(COL_REGION)[dt_today].sum()\n",
    "dfc_deaths = dft_deaths.groupby(COL_REGION)[dt_today].sum()\n",
    "# dfp_cases = dft_cases.groupby(COL_REGION)[dt_5day].sum()\n",
    "# dfp_deaths = dft_deaths.groupby(COL_REGION)[dt_5day].sum()\n",
    "dfp_cases = dft_cases.groupby(COL_REGION)[dt_yday].sum()\n",
    "dfp_deaths = dft_deaths.groupby(COL_REGION)[dt_yday].sum()"
   ]
  },
  {
   "cell_type": "code",
   "execution_count": 12,
   "id": "deluxe-hepatitis",
   "metadata": {
    "execution": {
     "iopub.execute_input": "2021-09-21T12:11:04.619823Z",
     "iopub.status.busy": "2021-09-21T12:11:04.619250Z",
     "iopub.status.idle": "2021-09-21T12:11:04.623697Z",
     "shell.execute_reply": "2021-09-21T12:11:04.624210Z"
    },
    "papermill": {
     "duration": 0.05296,
     "end_time": "2021-09-21T12:11:04.624329",
     "exception": false,
     "start_time": "2021-09-21T12:11:04.571369",
     "status": "completed"
    },
    "tags": []
   },
   "outputs": [],
   "source": [
    "#hide\n",
    "df_table = (pd.DataFrame(dict(Cases = dfc_cases, Deaths = dfc_deaths, PCases = dfp_cases, PDeaths = dfp_deaths))\n",
    "            .sort_values(by = ['Cases','Deaths'], ascending = [False, False])\n",
    "            .reset_index())"
   ]
  },
  {
   "cell_type": "code",
   "execution_count": 13,
   "id": "educational-chancellor",
   "metadata": {
    "execution": {
     "iopub.execute_input": "2021-09-21T12:11:04.702621Z",
     "iopub.status.busy": "2021-09-21T12:11:04.702012Z",
     "iopub.status.idle": "2021-09-21T12:11:04.714963Z",
     "shell.execute_reply": "2021-09-21T12:11:04.715466Z"
    },
    "papermill": {
     "duration": 0.06042,
     "end_time": "2021-09-21T12:11:04.715599",
     "exception": false,
     "start_time": "2021-09-21T12:11:04.655179",
     "status": "completed"
    },
    "tags": []
   },
   "outputs": [
    {
     "data": {
      "text/html": [
       "<div>\n",
       "<style scoped>\n",
       "    .dataframe tbody tr th:only-of-type {\n",
       "        vertical-align: middle;\n",
       "    }\n",
       "\n",
       "    .dataframe tbody tr th {\n",
       "        vertical-align: top;\n",
       "    }\n",
       "\n",
       "    .dataframe thead th {\n",
       "        text-align: right;\n",
       "    }\n",
       "</style>\n",
       "<table border=\"1\" class=\"dataframe\">\n",
       "  <thead>\n",
       "    <tr style=\"text-align: right;\">\n",
       "      <th></th>\n",
       "      <th>Country/Region</th>\n",
       "      <th>Cases</th>\n",
       "      <th>Deaths</th>\n",
       "      <th>PCases</th>\n",
       "      <th>PDeaths</th>\n",
       "      <th>Cases (+)</th>\n",
       "      <th>Deaths (+)</th>\n",
       "      <th>Fatality Rate</th>\n",
       "      <th>Continent</th>\n",
       "    </tr>\n",
       "  </thead>\n",
       "  <tbody>\n",
       "    <tr>\n",
       "      <th>0</th>\n",
       "      <td>US</td>\n",
       "      <td>42289819</td>\n",
       "      <td>676076</td>\n",
       "      <td>42088171</td>\n",
       "      <td>673774</td>\n",
       "      <td>201648</td>\n",
       "      <td>2302</td>\n",
       "      <td>1.60</td>\n",
       "      <td>North America</td>\n",
       "    </tr>\n",
       "    <tr>\n",
       "      <th>1</th>\n",
       "      <td>India</td>\n",
       "      <td>33504534</td>\n",
       "      <td>445385</td>\n",
       "      <td>33478419</td>\n",
       "      <td>445133</td>\n",
       "      <td>26115</td>\n",
       "      <td>252</td>\n",
       "      <td>1.33</td>\n",
       "      <td>Asia</td>\n",
       "    </tr>\n",
       "    <tr>\n",
       "      <th>2</th>\n",
       "      <td>Brazil</td>\n",
       "      <td>21247667</td>\n",
       "      <td>590955</td>\n",
       "      <td>21239783</td>\n",
       "      <td>590752</td>\n",
       "      <td>7884</td>\n",
       "      <td>203</td>\n",
       "      <td>2.78</td>\n",
       "      <td>South America</td>\n",
       "    </tr>\n",
       "    <tr>\n",
       "      <th>3</th>\n",
       "      <td>United Kingdom</td>\n",
       "      <td>7500734</td>\n",
       "      <td>135589</td>\n",
       "      <td>7464791</td>\n",
       "      <td>135539</td>\n",
       "      <td>35943</td>\n",
       "      <td>50</td>\n",
       "      <td>1.81</td>\n",
       "      <td>Europe</td>\n",
       "    </tr>\n",
       "    <tr>\n",
       "      <th>4</th>\n",
       "      <td>Russia</td>\n",
       "      <td>7189445</td>\n",
       "      <td>195438</td>\n",
       "      <td>7170069</td>\n",
       "      <td>194671</td>\n",
       "      <td>19376</td>\n",
       "      <td>767</td>\n",
       "      <td>2.72</td>\n",
       "      <td>Europe</td>\n",
       "    </tr>\n",
       "  </tbody>\n",
       "</table>\n",
       "</div>"
      ],
      "text/plain": [
       "   Country/Region     Cases  Deaths    PCases  PDeaths  Cases (+)  Deaths (+)  \\\n",
       "0              US  42289819  676076  42088171   673774     201648        2302   \n",
       "1           India  33504534  445385  33478419   445133      26115         252   \n",
       "2          Brazil  21247667  590955  21239783   590752       7884         203   \n",
       "3  United Kingdom   7500734  135589   7464791   135539      35943          50   \n",
       "4          Russia   7189445  195438   7170069   194671      19376         767   \n",
       "\n",
       "   Fatality Rate      Continent  \n",
       "0           1.60  North America  \n",
       "1           1.33           Asia  \n",
       "2           2.78  South America  \n",
       "3           1.81         Europe  \n",
       "4           2.72         Europe  "
      ]
     },
     "execution_count": 13,
     "metadata": {},
     "output_type": "execute_result"
    }
   ],
   "source": [
    "#hide\n",
    "for c in 'Cases, Deaths'.split(', '):\n",
    "    df_table[f'{c} (+)'] = (df_table[c] - df_table[f'P{c}']).clip(0)\n",
    "    #Clip ça veut dire, les chiffres negatif sont interdit\n",
    "df_table['Fatality Rate'] = (100* df_table['Deaths']/ df_table['Cases']).round(2)\n",
    "df_table['Continent'] = df_table['Country/Region'].map(mapping['map.continent'])\n",
    "df_table.head(5)"
   ]
  },
  {
   "cell_type": "code",
   "execution_count": 14,
   "id": "aboriginal-bulgaria",
   "metadata": {
    "execution": {
     "iopub.execute_input": "2021-09-21T12:11:04.789626Z",
     "iopub.status.busy": "2021-09-21T12:11:04.789055Z",
     "iopub.status.idle": "2021-09-21T12:11:04.792515Z",
     "shell.execute_reply": "2021-09-21T12:11:04.792084Z"
    },
    "papermill": {
     "duration": 0.041982,
     "end_time": "2021-09-21T12:11:04.792618",
     "exception": false,
     "start_time": "2021-09-21T12:11:04.750636",
     "status": "completed"
    },
    "tags": []
   },
   "outputs": [],
   "source": [
    "#hide\n",
    "#delete problematic countries from table\n",
    "df_table = df_table[~df_table['Country/Region'].isin(['Cape Verde', 'Cruise Ship', 'Kosovo'])]"
   ]
  },
  {
   "cell_type": "code",
   "execution_count": 15,
   "id": "fantastic-effect",
   "metadata": {
    "execution": {
     "iopub.execute_input": "2021-09-21T12:11:04.868966Z",
     "iopub.status.busy": "2021-09-21T12:11:04.868276Z",
     "iopub.status.idle": "2021-09-21T12:11:04.891537Z",
     "shell.execute_reply": "2021-09-21T12:11:04.891037Z"
    },
    "papermill": {
     "duration": 0.064973,
     "end_time": "2021-09-21T12:11:04.891656",
     "exception": false,
     "start_time": "2021-09-21T12:11:04.826683",
     "status": "completed"
    },
    "tags": []
   },
   "outputs": [
    {
     "data": {
      "text/html": [
       "<div>\n",
       "<style scoped>\n",
       "    .dataframe tbody tr th:only-of-type {\n",
       "        vertical-align: middle;\n",
       "    }\n",
       "\n",
       "    .dataframe tbody tr th {\n",
       "        vertical-align: top;\n",
       "    }\n",
       "\n",
       "    .dataframe thead th {\n",
       "        text-align: right;\n",
       "    }\n",
       "</style>\n",
       "<table border=\"1\" class=\"dataframe\">\n",
       "  <thead>\n",
       "    <tr style=\"text-align: right;\">\n",
       "      <th></th>\n",
       "      <th>Country/Region</th>\n",
       "      <th>Cases</th>\n",
       "      <th>Deaths</th>\n",
       "      <th>PCases</th>\n",
       "      <th>PDeaths</th>\n",
       "      <th>Cases (+)</th>\n",
       "      <th>Deaths (+)</th>\n",
       "      <th>Fatality Rate</th>\n",
       "      <th>Continent</th>\n",
       "    </tr>\n",
       "  </thead>\n",
       "  <tbody>\n",
       "    <tr>\n",
       "      <th>0</th>\n",
       "      <td>US</td>\n",
       "      <td>42289819</td>\n",
       "      <td>676076</td>\n",
       "      <td>42088171</td>\n",
       "      <td>673774</td>\n",
       "      <td>201648</td>\n",
       "      <td>2302</td>\n",
       "      <td>1.6</td>\n",
       "      <td>North America</td>\n",
       "    </tr>\n",
       "    <tr>\n",
       "      <th>1</th>\n",
       "      <td>India</td>\n",
       "      <td>33504534</td>\n",
       "      <td>445385</td>\n",
       "      <td>33478419</td>\n",
       "      <td>445133</td>\n",
       "      <td>26115</td>\n",
       "      <td>252</td>\n",
       "      <td>1.3</td>\n",
       "      <td>Asia</td>\n",
       "    </tr>\n",
       "    <tr>\n",
       "      <th>2</th>\n",
       "      <td>Brazil</td>\n",
       "      <td>21247667</td>\n",
       "      <td>590955</td>\n",
       "      <td>21239783</td>\n",
       "      <td>590752</td>\n",
       "      <td>7884</td>\n",
       "      <td>203</td>\n",
       "      <td>2.8</td>\n",
       "      <td>South America</td>\n",
       "    </tr>\n",
       "    <tr>\n",
       "      <th>3</th>\n",
       "      <td>United Kingdom</td>\n",
       "      <td>7500734</td>\n",
       "      <td>135589</td>\n",
       "      <td>7464791</td>\n",
       "      <td>135539</td>\n",
       "      <td>35943</td>\n",
       "      <td>50</td>\n",
       "      <td>1.8</td>\n",
       "      <td>Europe</td>\n",
       "    </tr>\n",
       "    <tr>\n",
       "      <th>4</th>\n",
       "      <td>Russia</td>\n",
       "      <td>7189445</td>\n",
       "      <td>195438</td>\n",
       "      <td>7170069</td>\n",
       "      <td>194671</td>\n",
       "      <td>19376</td>\n",
       "      <td>767</td>\n",
       "      <td>2.7</td>\n",
       "      <td>Europe</td>\n",
       "    </tr>\n",
       "  </tbody>\n",
       "</table>\n",
       "</div>"
      ],
      "text/plain": [
       "   Country/Region     Cases  Deaths    PCases  PDeaths  Cases (+)  Deaths (+)  \\\n",
       "0              US  42289819  676076  42088171   673774     201648        2302   \n",
       "1           India  33504534  445385  33478419   445133      26115         252   \n",
       "2          Brazil  21247667  590955  21239783   590752       7884         203   \n",
       "3  United Kingdom   7500734  135589   7464791   135539      35943          50   \n",
       "4          Russia   7189445  195438   7170069   194671      19376         767   \n",
       "\n",
       "   Fatality Rate      Continent  \n",
       "0            1.6  North America  \n",
       "1            1.3           Asia  \n",
       "2            2.8  South America  \n",
       "3            1.8         Europe  \n",
       "4            2.7         Europe  "
      ]
     },
     "execution_count": 15,
     "metadata": {},
     "output_type": "execute_result"
    }
   ],
   "source": [
    "#hide\n",
    "df_table = (pd.DataFrame(dict(Cases=dfc_cases, Deaths=dfc_deaths, PCases=dfp_cases, PDeaths=dfp_deaths))\n",
    "             .sort_values(by=['Cases', 'Deaths'], ascending=[False, False])\n",
    "             .reset_index())\n",
    "df_table.rename(columns={'index': 'Country/Region'}, inplace=True)\n",
    "for c in 'Cases, Deaths'.split(', '):\n",
    "    df_table[f'{c} (+)'] = (df_table[c] - df_table[f'P{c}']).clip(0)  # DATA BUG\n",
    "df_table['Fatality Rate'] = (100 * df_table['Deaths'] / df_table['Cases']).round(1)\n",
    "df_table['Continent'] = df_table['Country/Region'].map(mapping['map.continent'])\n",
    "df_table.head(5)"
   ]
  },
  {
   "cell_type": "code",
   "execution_count": 16,
   "id": "fewer-occasion",
   "metadata": {
    "execution": {
     "iopub.execute_input": "2021-09-21T12:11:04.965330Z",
     "iopub.status.busy": "2021-09-21T12:11:04.964693Z",
     "iopub.status.idle": "2021-09-21T12:11:04.967042Z",
     "shell.execute_reply": "2021-09-21T12:11:04.967550Z"
    },
    "papermill": {
     "duration": 0.041128,
     "end_time": "2021-09-21T12:11:04.967663",
     "exception": false,
     "start_time": "2021-09-21T12:11:04.926535",
     "status": "completed"
    },
    "tags": []
   },
   "outputs": [],
   "source": [
    "#hide\n",
    "#delete problematic countries from table\n",
    "df_table = df_table[~df_table['Country/Region'].isin(['Cape Verde', 'Cruise Ship', 'Kosovo'])]"
   ]
  },
  {
   "cell_type": "code",
   "execution_count": 17,
   "id": "related-center",
   "metadata": {
    "execution": {
     "iopub.execute_input": "2021-09-21T12:11:05.055068Z",
     "iopub.status.busy": "2021-09-21T12:11:05.054371Z",
     "iopub.status.idle": "2021-09-21T12:11:05.056359Z",
     "shell.execute_reply": "2021-09-21T12:11:05.056812Z"
    },
    "papermill": {
     "duration": 0.054009,
     "end_time": "2021-09-21T12:11:05.056929",
     "exception": false,
     "start_time": "2021-09-21T12:11:05.002920",
     "status": "completed"
    },
    "tags": []
   },
   "outputs": [],
   "source": [
    "#hide\n",
    "metrics = [df_table.columns[index] for index in [1,2,5,6]]\n",
    "# s_china = df_table[df_table['Country/Region'].eq('China')][metrics].sum().add_prefix('China ')\n",
    "s_us = df_table[df_table['Country/Region'].eq('US')][metrics].sum().add_prefix('US ')\n",
    "s_eu = df_table[df_table['Continent'].eq('Europe')][metrics].sum().add_prefix('EU ')\n",
    "s_ind = df_table[df_table['Country/Region'].eq('India')][metrics].sum().add_prefix('India ')\n",
    "summary = {'updated': pd.to_datetime(dt_today), 'since': pd.to_datetime(dt_yday)}\n",
    "summary = {'updated': pd.to_datetime(dt_today), 'since': pd.to_datetime(dt_yday)}\n",
    "summary = {**summary, **df_table[metrics].sum(), **s_ind, **s_us, **s_eu}"
   ]
  },
  {
   "cell_type": "code",
   "execution_count": 18,
   "id": "engaging-syndrome",
   "metadata": {
    "execution": {
     "iopub.execute_input": "2021-09-21T12:11:05.137715Z",
     "iopub.status.busy": "2021-09-21T12:11:05.137050Z",
     "iopub.status.idle": "2021-09-21T12:11:05.150806Z",
     "shell.execute_reply": "2021-09-21T12:11:05.151487Z"
    },
    "papermill": {
     "duration": 0.056068,
     "end_time": "2021-09-21T12:11:05.151662",
     "exception": false,
     "start_time": "2021-09-21T12:11:05.095594",
     "status": "completed"
    },
    "tags": []
   },
   "outputs": [],
   "source": [
    "#hide\n",
    "dft_ct_new_cases = dft_cases.groupby(COL_REGION)[dt_cols].sum().diff(axis=1).fillna(0).astype(int)"
   ]
  },
  {
   "cell_type": "code",
   "execution_count": 19,
   "id": "neutral-assignment",
   "metadata": {
    "execution": {
     "iopub.execute_input": "2021-09-21T12:11:05.231313Z",
     "iopub.status.busy": "2021-09-21T12:11:05.230701Z",
     "iopub.status.idle": "2021-09-21T12:11:05.233293Z",
     "shell.execute_reply": "2021-09-21T12:11:05.232799Z"
    },
    "papermill": {
     "duration": 0.046263,
     "end_time": "2021-09-21T12:11:05.233430",
     "exception": false,
     "start_time": "2021-09-21T12:11:05.187167",
     "status": "completed"
    },
    "tags": []
   },
   "outputs": [],
   "source": [
    "#hide\n",
    "everydaycases = dft_ct_new_cases.cumsum(axis=1)"
   ]
  },
  {
   "cell_type": "code",
   "execution_count": 20,
   "id": "parliamentary-calgary",
   "metadata": {
    "execution": {
     "iopub.execute_input": "2021-09-21T12:11:05.312206Z",
     "iopub.status.busy": "2021-09-21T12:11:05.311583Z",
     "iopub.status.idle": "2021-09-21T12:11:05.892080Z",
     "shell.execute_reply": "2021-09-21T12:11:05.891551Z"
    },
    "papermill": {
     "duration": 0.622291,
     "end_time": "2021-09-21T12:11:05.892229",
     "exception": false,
     "start_time": "2021-09-21T12:11:05.269938",
     "status": "completed"
    },
    "tags": []
   },
   "outputs": [],
   "source": [
    "#hide\n",
    "import pandas as pd\n",
    "import matplotlib.pyplot as plt\n",
    "import matplotlib.ticker as ticker\n",
    "import matplotlib.animation as animation\n",
    "from IPython.display import HTML"
   ]
  },
  {
   "cell_type": "code",
   "execution_count": 21,
   "id": "lasting-extraction",
   "metadata": {
    "execution": {
     "iopub.execute_input": "2021-09-21T12:11:05.967621Z",
     "iopub.status.busy": "2021-09-21T12:11:05.967035Z",
     "iopub.status.idle": "2021-09-21T12:11:05.972776Z",
     "shell.execute_reply": "2021-09-21T12:11:05.973323Z"
    },
    "papermill": {
     "duration": 0.044849,
     "end_time": "2021-09-21T12:11:05.973443",
     "exception": false,
     "start_time": "2021-09-21T12:11:05.928594",
     "status": "completed"
    },
    "tags": []
   },
   "outputs": [],
   "source": [
    "#hide\n",
    "t = everydaycases.stack()"
   ]
  },
  {
   "cell_type": "code",
   "execution_count": 22,
   "id": "premier-sleeve",
   "metadata": {
    "execution": {
     "iopub.execute_input": "2021-09-21T12:11:06.045679Z",
     "iopub.status.busy": "2021-09-21T12:11:06.045142Z",
     "iopub.status.idle": "2021-09-21T12:11:06.053752Z",
     "shell.execute_reply": "2021-09-21T12:11:06.053249Z"
    },
    "papermill": {
     "duration": 0.047126,
     "end_time": "2021-09-21T12:11:06.053861",
     "exception": false,
     "start_time": "2021-09-21T12:11:06.006735",
     "status": "completed"
    },
    "tags": []
   },
   "outputs": [],
   "source": [
    "#hide\n",
    "g = t.reset_index(['Country/Region'])"
   ]
  },
  {
   "cell_type": "code",
   "execution_count": 23,
   "id": "distributed-pittsburgh",
   "metadata": {
    "execution": {
     "iopub.execute_input": "2021-09-21T12:11:06.134114Z",
     "iopub.status.busy": "2021-09-21T12:11:06.133359Z",
     "iopub.status.idle": "2021-09-21T12:11:06.135862Z",
     "shell.execute_reply": "2021-09-21T12:11:06.135280Z"
    },
    "papermill": {
     "duration": 0.043497,
     "end_time": "2021-09-21T12:11:06.135979",
     "exception": false,
     "start_time": "2021-09-21T12:11:06.092482",
     "status": "completed"
    },
    "tags": []
   },
   "outputs": [],
   "source": [
    "#hide\n",
    "g.index.name = 'date'"
   ]
  },
  {
   "cell_type": "code",
   "execution_count": 24,
   "id": "naked-donor",
   "metadata": {
    "execution": {
     "iopub.execute_input": "2021-09-21T12:11:06.212036Z",
     "iopub.status.busy": "2021-09-21T12:11:06.211225Z",
     "iopub.status.idle": "2021-09-21T12:11:06.213451Z",
     "shell.execute_reply": "2021-09-21T12:11:06.212890Z"
    },
    "papermill": {
     "duration": 0.040782,
     "end_time": "2021-09-21T12:11:06.213558",
     "exception": false,
     "start_time": "2021-09-21T12:11:06.172776",
     "status": "completed"
    },
    "tags": []
   },
   "outputs": [],
   "source": [
    "# #hide\n",
    "# g = g.reset_index(['date'])"
   ]
  },
  {
   "cell_type": "code",
   "execution_count": 25,
   "id": "incomplete-mustang",
   "metadata": {
    "execution": {
     "iopub.execute_input": "2021-09-21T12:11:06.290315Z",
     "iopub.status.busy": "2021-09-21T12:11:06.289628Z",
     "iopub.status.idle": "2021-09-21T12:11:06.292430Z",
     "shell.execute_reply": "2021-09-21T12:11:06.291533Z"
    },
    "papermill": {
     "duration": 0.043396,
     "end_time": "2021-09-21T12:11:06.292545",
     "exception": false,
     "start_time": "2021-09-21T12:11:06.249149",
     "status": "completed"
    },
    "tags": []
   },
   "outputs": [],
   "source": [
    "#hide\n",
    "# g.head()"
   ]
  },
  {
   "cell_type": "code",
   "execution_count": 26,
   "id": "specific-kruger",
   "metadata": {
    "execution": {
     "iopub.execute_input": "2021-09-21T12:11:06.380126Z",
     "iopub.status.busy": "2021-09-21T12:11:06.379530Z",
     "iopub.status.idle": "2021-09-21T12:11:06.382010Z",
     "shell.execute_reply": "2021-09-21T12:11:06.381542Z"
    },
    "papermill": {
     "duration": 0.052911,
     "end_time": "2021-09-21T12:11:06.382123",
     "exception": false,
     "start_time": "2021-09-21T12:11:06.329212",
     "status": "completed"
    },
    "tags": []
   },
   "outputs": [],
   "source": [
    "#hide\n",
    "# g.columns = ['date','country','cases']"
   ]
  },
  {
   "cell_type": "code",
   "execution_count": 27,
   "id": "tender-conversion",
   "metadata": {
    "execution": {
     "iopub.execute_input": "2021-09-21T12:11:06.458978Z",
     "iopub.status.busy": "2021-09-21T12:11:06.458400Z",
     "iopub.status.idle": "2021-09-21T12:11:06.460787Z",
     "shell.execute_reply": "2021-09-21T12:11:06.460304Z"
    },
    "papermill": {
     "duration": 0.040995,
     "end_time": "2021-09-21T12:11:06.460893",
     "exception": false,
     "start_time": "2021-09-21T12:11:06.419898",
     "status": "completed"
    },
    "tags": []
   },
   "outputs": [],
   "source": [
    "#hide\n",
    "# g['continent'] = g.country"
   ]
  },
  {
   "cell_type": "code",
   "execution_count": 28,
   "id": "substantial-wilderness",
   "metadata": {
    "execution": {
     "iopub.execute_input": "2021-09-21T12:11:06.532814Z",
     "iopub.status.busy": "2021-09-21T12:11:06.532236Z",
     "iopub.status.idle": "2021-09-21T12:11:06.534960Z",
     "shell.execute_reply": "2021-09-21T12:11:06.534495Z"
    },
    "papermill": {
     "duration": 0.039738,
     "end_time": "2021-09-21T12:11:06.535084",
     "exception": false,
     "start_time": "2021-09-21T12:11:06.495346",
     "status": "completed"
    },
    "tags": []
   },
   "outputs": [],
   "source": [
    "#hide\n",
    "# cols = list(g.columns.values)"
   ]
  },
  {
   "cell_type": "code",
   "execution_count": 29,
   "id": "solved-farming",
   "metadata": {
    "execution": {
     "iopub.execute_input": "2021-09-21T12:11:06.607027Z",
     "iopub.status.busy": "2021-09-21T12:11:06.606427Z",
     "iopub.status.idle": "2021-09-21T12:11:06.608336Z",
     "shell.execute_reply": "2021-09-21T12:11:06.608793Z"
    },
    "papermill": {
     "duration": 0.040826,
     "end_time": "2021-09-21T12:11:06.608957",
     "exception": false,
     "start_time": "2021-09-21T12:11:06.568131",
     "status": "completed"
    },
    "tags": []
   },
   "outputs": [],
   "source": [
    "#hide\n",
    "# cols.insert(0, cols.pop())"
   ]
  },
  {
   "cell_type": "code",
   "execution_count": 30,
   "id": "executed-adoption",
   "metadata": {
    "execution": {
     "iopub.execute_input": "2021-09-21T12:11:06.677796Z",
     "iopub.status.busy": "2021-09-21T12:11:06.677211Z",
     "iopub.status.idle": "2021-09-21T12:11:06.679134Z",
     "shell.execute_reply": "2021-09-21T12:11:06.679673Z"
    },
    "papermill": {
     "duration": 0.038218,
     "end_time": "2021-09-21T12:11:06.679800",
     "exception": false,
     "start_time": "2021-09-21T12:11:06.641582",
     "status": "completed"
    },
    "tags": []
   },
   "outputs": [],
   "source": [
    "#hide\n",
    "# g = g[cols]"
   ]
  },
  {
   "cell_type": "code",
   "execution_count": 31,
   "id": "subject-dublin",
   "metadata": {
    "execution": {
     "iopub.execute_input": "2021-09-21T12:11:06.752591Z",
     "iopub.status.busy": "2021-09-21T12:11:06.752000Z",
     "iopub.status.idle": "2021-09-21T12:11:06.754379Z",
     "shell.execute_reply": "2021-09-21T12:11:06.753948Z"
    },
    "papermill": {
     "duration": 0.041116,
     "end_time": "2021-09-21T12:11:06.754480",
     "exception": false,
     "start_time": "2021-09-21T12:11:06.713364",
     "status": "completed"
    },
    "tags": []
   },
   "outputs": [],
   "source": [
    "#hide\n",
    "# g['continent'] = g['continent'].map(mapping['map.continent'])"
   ]
  },
  {
   "cell_type": "code",
   "execution_count": 32,
   "id": "freelance-scout",
   "metadata": {
    "execution": {
     "iopub.execute_input": "2021-09-21T12:11:06.829012Z",
     "iopub.status.busy": "2021-09-21T12:11:06.828441Z",
     "iopub.status.idle": "2021-09-21T12:11:06.830867Z",
     "shell.execute_reply": "2021-09-21T12:11:06.830312Z"
    },
    "papermill": {
     "duration": 0.042117,
     "end_time": "2021-09-21T12:11:06.830992",
     "exception": false,
     "start_time": "2021-09-21T12:11:06.788875",
     "status": "completed"
    },
    "tags": []
   },
   "outputs": [],
   "source": [
    "#hide\n",
    "# g.head()"
   ]
  },
  {
   "cell_type": "code",
   "execution_count": 33,
   "id": "limited-engine",
   "metadata": {
    "execution": {
     "iopub.execute_input": "2021-09-21T12:11:06.902768Z",
     "iopub.status.busy": "2021-09-21T12:11:06.901509Z",
     "iopub.status.idle": "2021-09-21T12:11:06.903646Z",
     "shell.execute_reply": "2021-09-21T12:11:06.904104Z"
    },
    "papermill": {
     "duration": 0.038853,
     "end_time": "2021-09-21T12:11:06.904217",
     "exception": false,
     "start_time": "2021-09-21T12:11:06.865364",
     "status": "completed"
    },
    "tags": []
   },
   "outputs": [],
   "source": [
    "# hide\n",
    "# g['date'] = g['date'].astype('datetime64[ns]')"
   ]
  },
  {
   "cell_type": "code",
   "execution_count": 34,
   "id": "sophisticated-supervisor",
   "metadata": {
    "execution": {
     "iopub.execute_input": "2021-09-21T12:11:06.975321Z",
     "iopub.status.busy": "2021-09-21T12:11:06.974698Z",
     "iopub.status.idle": "2021-09-21T12:11:06.976933Z",
     "shell.execute_reply": "2021-09-21T12:11:06.976503Z"
    },
    "papermill": {
     "duration": 0.03784,
     "end_time": "2021-09-21T12:11:06.977035",
     "exception": false,
     "start_time": "2021-09-21T12:11:06.939195",
     "status": "completed"
    },
    "tags": []
   },
   "outputs": [],
   "source": [
    "#hide\n",
    "# g['date'] = g.date.dt.dayofyear"
   ]
  },
  {
   "cell_type": "code",
   "execution_count": 35,
   "id": "inside-dubai",
   "metadata": {
    "execution": {
     "iopub.execute_input": "2021-09-21T12:11:07.047989Z",
     "iopub.status.busy": "2021-09-21T12:11:07.047435Z",
     "iopub.status.idle": "2021-09-21T12:11:07.049952Z",
     "shell.execute_reply": "2021-09-21T12:11:07.049479Z"
    },
    "papermill": {
     "duration": 0.039678,
     "end_time": "2021-09-21T12:11:07.050076",
     "exception": false,
     "start_time": "2021-09-21T12:11:07.010398",
     "status": "completed"
    },
    "tags": []
   },
   "outputs": [],
   "source": [
    "#hide\n",
    "# g = g.rename(columns= {'continent':'group','country':'name','cases':'value'})"
   ]
  },
  {
   "cell_type": "code",
   "execution_count": 36,
   "id": "fleet-motorcycle",
   "metadata": {
    "execution": {
     "iopub.execute_input": "2021-09-21T12:11:07.122936Z",
     "iopub.status.busy": "2021-09-21T12:11:07.122267Z",
     "iopub.status.idle": "2021-09-21T12:11:07.124393Z",
     "shell.execute_reply": "2021-09-21T12:11:07.124809Z"
    },
    "papermill": {
     "duration": 0.041092,
     "end_time": "2021-09-21T12:11:07.124931",
     "exception": false,
     "start_time": "2021-09-21T12:11:07.083839",
     "status": "completed"
    },
    "tags": []
   },
   "outputs": [],
   "source": [
    "#hide\n",
    "# cols = ['name','group','day','value']"
   ]
  },
  {
   "cell_type": "code",
   "execution_count": 37,
   "id": "continued-sleeping",
   "metadata": {
    "execution": {
     "iopub.execute_input": "2021-09-21T12:11:07.197224Z",
     "iopub.status.busy": "2021-09-21T12:11:07.196678Z",
     "iopub.status.idle": "2021-09-21T12:11:07.199164Z",
     "shell.execute_reply": "2021-09-21T12:11:07.198706Z"
    },
    "papermill": {
     "duration": 0.03922,
     "end_time": "2021-09-21T12:11:07.199268",
     "exception": false,
     "start_time": "2021-09-21T12:11:07.160048",
     "status": "completed"
    },
    "tags": []
   },
   "outputs": [],
   "source": [
    "#hide\n",
    "# g.rename(columns= {'date':'day'},inplace = True)"
   ]
  },
  {
   "cell_type": "code",
   "execution_count": 38,
   "id": "major-fight",
   "metadata": {
    "execution": {
     "iopub.execute_input": "2021-09-21T12:11:07.269411Z",
     "iopub.status.busy": "2021-09-21T12:11:07.268800Z",
     "iopub.status.idle": "2021-09-21T12:11:07.271513Z",
     "shell.execute_reply": "2021-09-21T12:11:07.270901Z"
    },
    "papermill": {
     "duration": 0.038988,
     "end_time": "2021-09-21T12:11:07.271621",
     "exception": false,
     "start_time": "2021-09-21T12:11:07.232633",
     "status": "completed"
    },
    "tags": []
   },
   "outputs": [],
   "source": [
    "#hide\n",
    "# g = g[cols]"
   ]
  },
  {
   "cell_type": "code",
   "execution_count": 39,
   "id": "structured-mobile",
   "metadata": {
    "execution": {
     "iopub.execute_input": "2021-09-21T12:11:07.343274Z",
     "iopub.status.busy": "2021-09-21T12:11:07.342556Z",
     "iopub.status.idle": "2021-09-21T12:11:07.344685Z",
     "shell.execute_reply": "2021-09-21T12:11:07.345257Z"
    },
    "papermill": {
     "duration": 0.039528,
     "end_time": "2021-09-21T12:11:07.345392",
     "exception": false,
     "start_time": "2021-09-21T12:11:07.305864",
     "status": "completed"
    },
    "tags": []
   },
   "outputs": [],
   "source": [
    "# #hide\n",
    "# g = g[g.group.notna()]"
   ]
  },
  {
   "cell_type": "code",
   "execution_count": 40,
   "id": "determined-closing",
   "metadata": {
    "execution": {
     "iopub.execute_input": "2021-09-21T12:11:07.418923Z",
     "iopub.status.busy": "2021-09-21T12:11:07.418301Z",
     "iopub.status.idle": "2021-09-21T12:11:07.420731Z",
     "shell.execute_reply": "2021-09-21T12:11:07.420252Z"
    },
    "papermill": {
     "duration": 0.039727,
     "end_time": "2021-09-21T12:11:07.420842",
     "exception": false,
     "start_time": "2021-09-21T12:11:07.381115",
     "status": "completed"
    },
    "tags": []
   },
   "outputs": [],
   "source": [
    "# #hide\n",
    "# colors = dict(zip(\n",
    "#     [\"Oceania\", \"Europe\", \"Asia\", \"South America\", \"Middle East\", \"North America\", \"Africa\"],\n",
    "#     [\"#adb0ff\", \"#ffb3ff\", \"#90d595\", \"#e48381\", \"#aafbff\", \"#f7bb5f\", \"#eafb50\"]\n",
    "# ))\n",
    "# group_lk = g.set_index('name')['group'].to_dict()"
   ]
  },
  {
   "cell_type": "code",
   "execution_count": null,
   "id": "gross-drinking",
   "metadata": {
    "papermill": {
     "duration": 0.032739,
     "end_time": "2021-09-21T12:11:07.487580",
     "exception": false,
     "start_time": "2021-09-21T12:11:07.454841",
     "status": "completed"
    },
    "tags": []
   },
   "outputs": [],
   "source": []
  },
  {
   "cell_type": "code",
   "execution_count": 41,
   "id": "subject-macintosh",
   "metadata": {
    "execution": {
     "iopub.execute_input": "2021-09-21T12:11:07.559962Z",
     "iopub.status.busy": "2021-09-21T12:11:07.559297Z",
     "iopub.status.idle": "2021-09-21T12:11:07.561433Z",
     "shell.execute_reply": "2021-09-21T12:11:07.560881Z"
    },
    "papermill": {
     "duration": 0.039248,
     "end_time": "2021-09-21T12:11:07.561540",
     "exception": false,
     "start_time": "2021-09-21T12:11:07.522292",
     "status": "completed"
    },
    "tags": []
   },
   "outputs": [],
   "source": [
    "# #hide\n",
    "# fig, ax = plt.subplots(figsize=(15, 8))\n",
    "\n",
    "# def draw_barchart(current_day):\n",
    "#     dff = g[g['day'].eq(current_day)].sort_values(by='value', ascending=True).tail(10)\n",
    "#     ax.clear()\n",
    "#     ax.barh(dff['name'], dff['value'], color=[colors[group_lk[x]] for x in dff['name']])\n",
    "#     dx = dff['value'].max() / 200\n",
    "    \n",
    "#     for i, (value, name) in enumerate(zip(dff['value'], dff['name'])):\n",
    "#         ax.text(value-dx, i,     name,           size=14, weight=600, ha='right', va='bottom')\n",
    "#         ax.text(value-dx, i-.25, group_lk[name], size=10, color='#444444', ha='right', va='baseline')\n",
    "#         ax.text(value+dx, i,     f'{value:,.0f}',  size=14, ha='left',  va='center')\n",
    "#     ax.text(1, 0.4, current_day, transform=ax.transAxes, color='#777777', size=46, ha='right', weight=800)\n",
    "#     ax.text(0, 1.06, 'Population (thousands)', transform=ax.transAxes, size=12, color='#777777')\n",
    "#     ax.xaxis.set_major_formatter(ticker.StrMethodFormatter('{x:,.0f}'))\n",
    "#     ax.xaxis.set_ticks_position('top')\n",
    "#     ax.tick_params(axis='x', colors='#777777', labelsize=12)\n",
    "#     ax.set_yticks([])\n",
    "#     ax.margins(0, 0.01)\n",
    "#     ax.grid(which='major', axis='x', linestyle='-')\n",
    "#     ax.set_axisbelow(True)\n",
    "    \n",
    "#     ax.text(0, 1.15, 'Coronavirus',\n",
    "#             transform=ax.transAxes, size=24, weight=600, ha='left', va='top')\n",
    "# #     ax.text(1, 0, 'by @pratapvardhan; credit @jburnmurdoch', transform=ax.transAxes, color='#777777', ha='right',\n",
    "# #             bbox=dict(facecolor='white', alpha=0.8, edgecolor='white'))\n",
    "#     plt.box(False)"
   ]
  },
  {
   "cell_type": "code",
   "execution_count": 42,
   "id": "sexual-wages",
   "metadata": {
    "execution": {
     "iopub.execute_input": "2021-09-21T12:11:07.631057Z",
     "iopub.status.busy": "2021-09-21T12:11:07.630448Z",
     "iopub.status.idle": "2021-09-21T12:11:07.632930Z",
     "shell.execute_reply": "2021-09-21T12:11:07.632497Z"
    },
    "papermill": {
     "duration": 0.039702,
     "end_time": "2021-09-21T12:11:07.633065",
     "exception": false,
     "start_time": "2021-09-21T12:11:07.593363",
     "status": "completed"
    },
    "tags": []
   },
   "outputs": [],
   "source": [
    "# #hide_input\n",
    "# fig, ax = plt.subplots(figsize=(15, 8))\n",
    "# animator = animation.FuncAnimation(fig, draw_barchart, frames=range(g.day.values.min(), g.day.values.max()))\n",
    "# HTML(animator.to_jshtml())\n",
    "# # or use animator.to_html5_video() or animator.save() "
   ]
  },
  {
   "cell_type": "code",
   "execution_count": null,
   "id": "australian-container",
   "metadata": {
    "papermill": {
     "duration": 0.032011,
     "end_time": "2021-09-21T12:11:07.697295",
     "exception": false,
     "start_time": "2021-09-21T12:11:07.665284",
     "status": "completed"
    },
    "tags": []
   },
   "outputs": [],
   "source": []
  },
  {
   "cell_type": "code",
   "execution_count": null,
   "id": "mediterranean-pontiac",
   "metadata": {
    "papermill": {
     "duration": 0.035041,
     "end_time": "2021-09-21T12:11:07.766769",
     "exception": false,
     "start_time": "2021-09-21T12:11:07.731728",
     "status": "completed"
    },
    "tags": []
   },
   "outputs": [],
   "source": []
  },
  {
   "cell_type": "code",
   "execution_count": null,
   "id": "aging-legislature",
   "metadata": {
    "papermill": {
     "duration": 0.035276,
     "end_time": "2021-09-21T12:11:07.834298",
     "exception": false,
     "start_time": "2021-09-21T12:11:07.799022",
     "status": "completed"
    },
    "tags": []
   },
   "outputs": [],
   "source": []
  }
 ],
 "metadata": {
  "kernelspec": {
   "display_name": "Python 3",
   "language": "python",
   "name": "python3"
  },
  "language_info": {
   "codemirror_mode": {
    "name": "ipython",
    "version": 3
   },
   "file_extension": ".py",
   "mimetype": "text/x-python",
   "name": "python",
   "nbconvert_exporter": "python",
   "pygments_lexer": "ipython3",
   "version": "3.6.15"
  },
  "papermill": {
   "duration": 6.610621,
   "end_time": "2021-09-21T12:11:08.176128",
   "environment_variables": {},
   "exception": null,
   "input_path": "2020-03-21-covid19exp.ipynb",
   "output_path": "2020-03-21-covid19exp.ipynb",
   "parameters": {},
   "start_time": "2021-09-21T12:11:01.565507",
   "version": "2.0.0"
  }
 },
 "nbformat": 4,
 "nbformat_minor": 5
}