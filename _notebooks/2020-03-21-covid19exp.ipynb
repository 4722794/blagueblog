{
 "cells": [
  {
   "cell_type": "markdown",
   "id": "muslim-click",
   "metadata": {
    "papermill": {
     "duration": 0.041276,
     "end_time": "2022-01-02T00:28:25.185268",
     "exception": false,
     "start_time": "2022-01-02T00:28:25.143992",
     "status": "completed"
    },
    "tags": []
   },
   "source": [
    "# COVID-19 Case Race\n",
    "> A race chart to see rising cases around the world\n",
    "\n",
    "- author: Hargun Oberoi\n",
    "- image: images/covid-overview.png\n",
    "- hide: false\n",
    "- badges: false"
   ]
  },
  {
   "cell_type": "code",
   "execution_count": 1,
   "id": "proof-material",
   "metadata": {
    "execution": {
     "iopub.execute_input": "2022-01-02T00:28:25.274834Z",
     "iopub.status.busy": "2022-01-02T00:28:25.274200Z",
     "iopub.status.idle": "2022-01-02T00:28:25.679781Z",
     "shell.execute_reply": "2022-01-02T00:28:25.679196Z"
    },
    "papermill": {
     "duration": 0.457936,
     "end_time": "2022-01-02T00:28:25.679950",
     "exception": false,
     "start_time": "2022-01-02T00:28:25.222014",
     "status": "completed"
    },
    "tags": []
   },
   "outputs": [],
   "source": [
    "#hide\n",
    "import numpy as np\n",
    "import pandas as pd\n",
    "from jinja2 import Template\n",
    "from IPython.display import HTML"
   ]
  },
  {
   "cell_type": "code",
   "execution_count": 2,
   "id": "developed-terminology",
   "metadata": {
    "execution": {
     "iopub.execute_input": "2022-01-02T00:28:25.761851Z",
     "iopub.status.busy": "2022-01-02T00:28:25.761105Z",
     "iopub.status.idle": "2022-01-02T00:28:25.765002Z",
     "shell.execute_reply": "2022-01-02T00:28:25.765496Z"
    },
    "papermill": {
     "duration": 0.047818,
     "end_time": "2022-01-02T00:28:25.765649",
     "exception": false,
     "start_time": "2022-01-02T00:28:25.717831",
     "status": "completed"
    },
    "tags": []
   },
   "outputs": [],
   "source": [
    "#hide\n",
    "\n",
    "# FETCH\n",
    "base_url = 'https://raw.githubusercontent.com/pratapvardhan/notebooks/master/covid19/'\n",
    "paths = {\n",
    "    'mapping': base_url + 'mapping_countries.csv',\n",
    "    'overview': base_url + 'overview.tpl'\n",
    "}"
   ]
  },
  {
   "cell_type": "code",
   "execution_count": 3,
   "id": "dynamic-saver",
   "metadata": {
    "execution": {
     "iopub.execute_input": "2022-01-02T00:28:25.853823Z",
     "iopub.status.busy": "2022-01-02T00:28:25.850024Z",
     "iopub.status.idle": "2022-01-02T00:28:25.856915Z",
     "shell.execute_reply": "2022-01-02T00:28:25.857434Z"
    },
    "papermill": {
     "duration": 0.053405,
     "end_time": "2022-01-02T00:28:25.857621",
     "exception": false,
     "start_time": "2022-01-02T00:28:25.804216",
     "status": "completed"
    },
    "tags": []
   },
   "outputs": [
    {
     "data": {
      "text/plain": [
       "'https://raw.githubusercontent.com/pratapvardhan/notebooks/master/covid19/mapping_countries.csv'"
      ]
     },
     "execution_count": 3,
     "metadata": {},
     "output_type": "execute_result"
    }
   ],
   "source": [
    "#hide\n",
    "paths['mapping']"
   ]
  },
  {
   "cell_type": "code",
   "execution_count": 4,
   "id": "urban-software",
   "metadata": {
    "execution": {
     "iopub.execute_input": "2022-01-02T00:28:25.942177Z",
     "iopub.status.busy": "2022-01-02T00:28:25.941463Z",
     "iopub.status.idle": "2022-01-02T00:28:25.944262Z",
     "shell.execute_reply": "2022-01-02T00:28:25.943430Z"
    },
    "papermill": {
     "duration": 0.04706,
     "end_time": "2022-01-02T00:28:25.944392",
     "exception": false,
     "start_time": "2022-01-02T00:28:25.897332",
     "status": "completed"
    },
    "tags": []
   },
   "outputs": [],
   "source": [
    "#hide\n",
    "def get_mappings(url):\n",
    "    df = pd.read_csv(url)\n",
    "    return {\n",
    "        'df': df,\n",
    "        'replace.country': dict(df.dropna(subset=['Name']).set_index('Country')['Name']),\n",
    "        'map.continent': dict(df.set_index('Name')['Continent'])\n",
    "    }"
   ]
  },
  {
   "cell_type": "code",
   "execution_count": 5,
   "id": "intimate-machinery",
   "metadata": {
    "execution": {
     "iopub.execute_input": "2022-01-02T00:28:26.024237Z",
     "iopub.status.busy": "2022-01-02T00:28:26.023615Z",
     "iopub.status.idle": "2022-01-02T00:28:26.076971Z",
     "shell.execute_reply": "2022-01-02T00:28:26.076377Z"
    },
    "papermill": {
     "duration": 0.095987,
     "end_time": "2022-01-02T00:28:26.077113",
     "exception": false,
     "start_time": "2022-01-02T00:28:25.981126",
     "status": "completed"
    },
    "tags": []
   },
   "outputs": [],
   "source": [
    "#hide\n",
    "mapping = get_mappings(paths['mapping'])"
   ]
  },
  {
   "cell_type": "code",
   "execution_count": 6,
   "id": "certified-tactics",
   "metadata": {
    "execution": {
     "iopub.execute_input": "2022-01-02T00:28:26.159694Z",
     "iopub.status.busy": "2022-01-02T00:28:26.158989Z",
     "iopub.status.idle": "2022-01-02T00:28:26.161837Z",
     "shell.execute_reply": "2022-01-02T00:28:26.161240Z"
    },
    "papermill": {
     "duration": 0.047413,
     "end_time": "2022-01-02T00:28:26.161971",
     "exception": false,
     "start_time": "2022-01-02T00:28:26.114558",
     "status": "completed"
    },
    "tags": []
   },
   "outputs": [],
   "source": [
    "#hide\n",
    "def get_template(path):\n",
    "    from urllib.parse import urlparse\n",
    "    if bool(urlparse(path).netloc):\n",
    "        from urllib.request import urlopen\n",
    "        return urlopen(path).read().decode('utf8')\n",
    "    return open(path).read()"
   ]
  },
  {
   "cell_type": "code",
   "execution_count": 7,
   "id": "realistic-blast",
   "metadata": {
    "execution": {
     "iopub.execute_input": "2022-01-02T00:28:26.248521Z",
     "iopub.status.busy": "2022-01-02T00:28:26.247820Z",
     "iopub.status.idle": "2022-01-02T00:28:26.250446Z",
     "shell.execute_reply": "2022-01-02T00:28:26.249785Z"
    },
    "papermill": {
     "duration": 0.048619,
     "end_time": "2022-01-02T00:28:26.250580",
     "exception": false,
     "start_time": "2022-01-02T00:28:26.201961",
     "status": "completed"
    },
    "tags": []
   },
   "outputs": [],
   "source": [
    "#hide\n",
    "def get_frame(name):\n",
    "    url = (\n",
    "        'https://raw.githubusercontent.com/CSSEGISandData/COVID-19/master/csse_covid_19_data/'\n",
    "        f'csse_covid_19_time_series/time_series_covid19_{name}_global.csv')\n",
    "    df = pd.read_csv(url)\n",
    "    # rename countries\n",
    "    df['Country/Region'] = df['Country/Region'].replace(mapping['replace.country'])\n",
    "    return df"
   ]
  },
  {
   "cell_type": "code",
   "execution_count": 8,
   "id": "affiliated-characterization",
   "metadata": {
    "execution": {
     "iopub.execute_input": "2022-01-02T00:28:26.338072Z",
     "iopub.status.busy": "2022-01-02T00:28:26.337249Z",
     "iopub.status.idle": "2022-01-02T00:28:26.339807Z",
     "shell.execute_reply": "2022-01-02T00:28:26.339214Z"
    },
    "papermill": {
     "duration": 0.04747,
     "end_time": "2022-01-02T00:28:26.339928",
     "exception": false,
     "start_time": "2022-01-02T00:28:26.292458",
     "status": "completed"
    },
    "tags": []
   },
   "outputs": [],
   "source": [
    "#hide\n",
    "def get_dates(df):\n",
    "    dt_cols = df.columns[~df.columns.isin(['Province/State', 'Country/Region', 'Lat', 'Long'])]\n",
    "    LAST_DATE_I = -1\n",
    "    # sometimes last column may be empty, then go backwards\n",
    "    for i in range(-1, -len(dt_cols), -1):\n",
    "        if not df[dt_cols[i]].fillna(0).eq(0).all():\n",
    "            LAST_DATE_I = i\n",
    "            break\n",
    "    return LAST_DATE_I, dt_cols"
   ]
  },
  {
   "cell_type": "code",
   "execution_count": 9,
   "id": "recent-optimization",
   "metadata": {
    "execution": {
     "iopub.execute_input": "2022-01-02T00:28:26.422555Z",
     "iopub.status.busy": "2022-01-02T00:28:26.421881Z",
     "iopub.status.idle": "2022-01-02T00:28:26.890407Z",
     "shell.execute_reply": "2022-01-02T00:28:26.889858Z"
    },
    "papermill": {
     "duration": 0.512185,
     "end_time": "2022-01-02T00:28:26.890536",
     "exception": false,
     "start_time": "2022-01-02T00:28:26.378351",
     "status": "completed"
    },
    "tags": []
   },
   "outputs": [],
   "source": [
    "#hide\n",
    "COL_REGION = 'Country/Region'\n",
    "# Confirmed, Recovered, Deaths\n",
    "df = get_frame('confirmed')\n",
    "# dft_: timeseries, dfc_: today country agg\n",
    "dft_cases = df\n",
    "dft_deaths = get_frame('deaths')\n",
    "dft_recovered = get_frame('recovered')\n",
    "LAST_DATE_I, dt_cols = get_dates(df)"
   ]
  },
  {
   "cell_type": "code",
   "execution_count": 10,
   "id": "absolute-copper",
   "metadata": {
    "execution": {
     "iopub.execute_input": "2022-01-02T00:28:26.970363Z",
     "iopub.status.busy": "2022-01-02T00:28:26.969674Z",
     "iopub.status.idle": "2022-01-02T00:28:26.973607Z",
     "shell.execute_reply": "2022-01-02T00:28:26.974154Z"
    },
    "papermill": {
     "duration": 0.046367,
     "end_time": "2022-01-02T00:28:26.974489",
     "exception": false,
     "start_time": "2022-01-02T00:28:26.928122",
     "status": "completed"
    },
    "tags": []
   },
   "outputs": [],
   "source": [
    "#hide\n",
    "LAST_DATE_I, dt_cols = get_dates(df)\n",
    "dt_today =dt_cols[LAST_DATE_I]\n",
    "# dt_5day = dt_cols[LAST_DATE_I - 5]\n",
    "dt_yday = dt_cols[LAST_DATE_I - 1]"
   ]
  },
  {
   "cell_type": "code",
   "execution_count": 11,
   "id": "restricted-sheriff",
   "metadata": {
    "execution": {
     "iopub.execute_input": "2022-01-02T00:28:27.066364Z",
     "iopub.status.busy": "2022-01-02T00:28:27.065402Z",
     "iopub.status.idle": "2022-01-02T00:28:27.068540Z",
     "shell.execute_reply": "2022-01-02T00:28:27.069263Z"
    },
    "papermill": {
     "duration": 0.057217,
     "end_time": "2022-01-02T00:28:27.069432",
     "exception": false,
     "start_time": "2022-01-02T00:28:27.012215",
     "status": "completed"
    },
    "tags": []
   },
   "outputs": [],
   "source": [
    "#hide\n",
    "dfc_cases = dft_cases.groupby(COL_REGION)[dt_today].sum()\n",
    "dfc_deaths = dft_deaths.groupby(COL_REGION)[dt_today].sum()\n",
    "# dfp_cases = dft_cases.groupby(COL_REGION)[dt_5day].sum()\n",
    "# dfp_deaths = dft_deaths.groupby(COL_REGION)[dt_5day].sum()\n",
    "dfp_cases = dft_cases.groupby(COL_REGION)[dt_yday].sum()\n",
    "dfp_deaths = dft_deaths.groupby(COL_REGION)[dt_yday].sum()"
   ]
  },
  {
   "cell_type": "code",
   "execution_count": 12,
   "id": "deluxe-hepatitis",
   "metadata": {
    "execution": {
     "iopub.execute_input": "2022-01-02T00:28:27.156019Z",
     "iopub.status.busy": "2022-01-02T00:28:27.155305Z",
     "iopub.status.idle": "2022-01-02T00:28:27.157957Z",
     "shell.execute_reply": "2022-01-02T00:28:27.157453Z"
    },
    "papermill": {
     "duration": 0.049087,
     "end_time": "2022-01-02T00:28:27.158086",
     "exception": false,
     "start_time": "2022-01-02T00:28:27.108999",
     "status": "completed"
    },
    "tags": []
   },
   "outputs": [],
   "source": [
    "#hide\n",
    "df_table = (pd.DataFrame(dict(Cases = dfc_cases, Deaths = dfc_deaths, PCases = dfp_cases, PDeaths = dfp_deaths))\n",
    "            .sort_values(by = ['Cases','Deaths'], ascending = [False, False])\n",
    "            .reset_index())"
   ]
  },
  {
   "cell_type": "code",
   "execution_count": 13,
   "id": "educational-chancellor",
   "metadata": {
    "execution": {
     "iopub.execute_input": "2022-01-02T00:28:27.247033Z",
     "iopub.status.busy": "2022-01-02T00:28:27.246366Z",
     "iopub.status.idle": "2022-01-02T00:28:27.269153Z",
     "shell.execute_reply": "2022-01-02T00:28:27.269842Z"
    },
    "papermill": {
     "duration": 0.073422,
     "end_time": "2022-01-02T00:28:27.270001",
     "exception": false,
     "start_time": "2022-01-02T00:28:27.196579",
     "status": "completed"
    },
    "tags": []
   },
   "outputs": [
    {
     "data": {
      "text/html": [
       "<div>\n",
       "<style scoped>\n",
       "    .dataframe tbody tr th:only-of-type {\n",
       "        vertical-align: middle;\n",
       "    }\n",
       "\n",
       "    .dataframe tbody tr th {\n",
       "        vertical-align: top;\n",
       "    }\n",
       "\n",
       "    .dataframe thead th {\n",
       "        text-align: right;\n",
       "    }\n",
       "</style>\n",
       "<table border=\"1\" class=\"dataframe\">\n",
       "  <thead>\n",
       "    <tr style=\"text-align: right;\">\n",
       "      <th></th>\n",
       "      <th>Country/Region</th>\n",
       "      <th>Cases</th>\n",
       "      <th>Deaths</th>\n",
       "      <th>PCases</th>\n",
       "      <th>PDeaths</th>\n",
       "      <th>Cases (+)</th>\n",
       "      <th>Deaths (+)</th>\n",
       "      <th>Fatality Rate</th>\n",
       "      <th>Continent</th>\n",
       "    </tr>\n",
       "  </thead>\n",
       "  <tbody>\n",
       "    <tr>\n",
       "      <th>0</th>\n",
       "      <td>US</td>\n",
       "      <td>54743982</td>\n",
       "      <td>825536</td>\n",
       "      <td>54246831</td>\n",
       "      <td>824301</td>\n",
       "      <td>497151</td>\n",
       "      <td>1235</td>\n",
       "      <td>1.51</td>\n",
       "      <td>North America</td>\n",
       "    </tr>\n",
       "    <tr>\n",
       "      <th>1</th>\n",
       "      <td>India</td>\n",
       "      <td>34861579</td>\n",
       "      <td>481486</td>\n",
       "      <td>34838804</td>\n",
       "      <td>481080</td>\n",
       "      <td>22775</td>\n",
       "      <td>406</td>\n",
       "      <td>1.38</td>\n",
       "      <td>Asia</td>\n",
       "    </tr>\n",
       "    <tr>\n",
       "      <th>2</th>\n",
       "      <td>Brazil</td>\n",
       "      <td>22291839</td>\n",
       "      <td>619334</td>\n",
       "      <td>22281649</td>\n",
       "      <td>619249</td>\n",
       "      <td>10190</td>\n",
       "      <td>85</td>\n",
       "      <td>2.78</td>\n",
       "      <td>South America</td>\n",
       "    </tr>\n",
       "    <tr>\n",
       "      <th>3</th>\n",
       "      <td>United Kingdom</td>\n",
       "      <td>13011556</td>\n",
       "      <td>149096</td>\n",
       "      <td>12820359</td>\n",
       "      <td>148893</td>\n",
       "      <td>191197</td>\n",
       "      <td>203</td>\n",
       "      <td>1.15</td>\n",
       "      <td>Europe</td>\n",
       "    </tr>\n",
       "    <tr>\n",
       "      <th>4</th>\n",
       "      <td>Russia</td>\n",
       "      <td>10320405</td>\n",
       "      <td>302671</td>\n",
       "      <td>10299923</td>\n",
       "      <td>301791</td>\n",
       "      <td>20482</td>\n",
       "      <td>880</td>\n",
       "      <td>2.93</td>\n",
       "      <td>Europe</td>\n",
       "    </tr>\n",
       "  </tbody>\n",
       "</table>\n",
       "</div>"
      ],
      "text/plain": [
       "   Country/Region     Cases  Deaths    PCases  PDeaths  Cases (+)  Deaths (+)  \\\n",
       "0              US  54743982  825536  54246831   824301     497151        1235   \n",
       "1           India  34861579  481486  34838804   481080      22775         406   \n",
       "2          Brazil  22291839  619334  22281649   619249      10190          85   \n",
       "3  United Kingdom  13011556  149096  12820359   148893     191197         203   \n",
       "4          Russia  10320405  302671  10299923   301791      20482         880   \n",
       "\n",
       "   Fatality Rate      Continent  \n",
       "0           1.51  North America  \n",
       "1           1.38           Asia  \n",
       "2           2.78  South America  \n",
       "3           1.15         Europe  \n",
       "4           2.93         Europe  "
      ]
     },
     "execution_count": 13,
     "metadata": {},
     "output_type": "execute_result"
    }
   ],
   "source": [
    "#hide\n",
    "for c in 'Cases, Deaths'.split(', '):\n",
    "    df_table[f'{c} (+)'] = (df_table[c] - df_table[f'P{c}']).clip(0)\n",
    "    #Clip ça veut dire, les chiffres negatif sont interdit\n",
    "df_table['Fatality Rate'] = (100* df_table['Deaths']/ df_table['Cases']).round(2)\n",
    "df_table['Continent'] = df_table['Country/Region'].map(mapping['map.continent'])\n",
    "df_table.head(5)"
   ]
  },
  {
   "cell_type": "code",
   "execution_count": 14,
   "id": "aboriginal-bulgaria",
   "metadata": {
    "execution": {
     "iopub.execute_input": "2022-01-02T00:28:27.356653Z",
     "iopub.status.busy": "2022-01-02T00:28:27.355982Z",
     "iopub.status.idle": "2022-01-02T00:28:27.362914Z",
     "shell.execute_reply": "2022-01-02T00:28:27.363546Z"
    },
    "papermill": {
     "duration": 0.053729,
     "end_time": "2022-01-02T00:28:27.363698",
     "exception": false,
     "start_time": "2022-01-02T00:28:27.309969",
     "status": "completed"
    },
    "tags": []
   },
   "outputs": [],
   "source": [
    "#hide\n",
    "#delete problematic countries from table\n",
    "df_table = df_table[~df_table['Country/Region'].isin(['Cape Verde', 'Cruise Ship', 'Kosovo'])]"
   ]
  },
  {
   "cell_type": "code",
   "execution_count": 15,
   "id": "fantastic-effect",
   "metadata": {
    "execution": {
     "iopub.execute_input": "2022-01-02T00:28:27.459234Z",
     "iopub.status.busy": "2022-01-02T00:28:27.458486Z",
     "iopub.status.idle": "2022-01-02T00:28:27.484446Z",
     "shell.execute_reply": "2022-01-02T00:28:27.483827Z"
    },
    "papermill": {
     "duration": 0.081831,
     "end_time": "2022-01-02T00:28:27.484578",
     "exception": false,
     "start_time": "2022-01-02T00:28:27.402747",
     "status": "completed"
    },
    "tags": []
   },
   "outputs": [
    {
     "data": {
      "text/html": [
       "<div>\n",
       "<style scoped>\n",
       "    .dataframe tbody tr th:only-of-type {\n",
       "        vertical-align: middle;\n",
       "    }\n",
       "\n",
       "    .dataframe tbody tr th {\n",
       "        vertical-align: top;\n",
       "    }\n",
       "\n",
       "    .dataframe thead th {\n",
       "        text-align: right;\n",
       "    }\n",
       "</style>\n",
       "<table border=\"1\" class=\"dataframe\">\n",
       "  <thead>\n",
       "    <tr style=\"text-align: right;\">\n",
       "      <th></th>\n",
       "      <th>Country/Region</th>\n",
       "      <th>Cases</th>\n",
       "      <th>Deaths</th>\n",
       "      <th>PCases</th>\n",
       "      <th>PDeaths</th>\n",
       "      <th>Cases (+)</th>\n",
       "      <th>Deaths (+)</th>\n",
       "      <th>Fatality Rate</th>\n",
       "      <th>Continent</th>\n",
       "    </tr>\n",
       "  </thead>\n",
       "  <tbody>\n",
       "    <tr>\n",
       "      <th>0</th>\n",
       "      <td>US</td>\n",
       "      <td>54743982</td>\n",
       "      <td>825536</td>\n",
       "      <td>54246831</td>\n",
       "      <td>824301</td>\n",
       "      <td>497151</td>\n",
       "      <td>1235</td>\n",
       "      <td>1.5</td>\n",
       "      <td>North America</td>\n",
       "    </tr>\n",
       "    <tr>\n",
       "      <th>1</th>\n",
       "      <td>India</td>\n",
       "      <td>34861579</td>\n",
       "      <td>481486</td>\n",
       "      <td>34838804</td>\n",
       "      <td>481080</td>\n",
       "      <td>22775</td>\n",
       "      <td>406</td>\n",
       "      <td>1.4</td>\n",
       "      <td>Asia</td>\n",
       "    </tr>\n",
       "    <tr>\n",
       "      <th>2</th>\n",
       "      <td>Brazil</td>\n",
       "      <td>22291839</td>\n",
       "      <td>619334</td>\n",
       "      <td>22281649</td>\n",
       "      <td>619249</td>\n",
       "      <td>10190</td>\n",
       "      <td>85</td>\n",
       "      <td>2.8</td>\n",
       "      <td>South America</td>\n",
       "    </tr>\n",
       "    <tr>\n",
       "      <th>3</th>\n",
       "      <td>United Kingdom</td>\n",
       "      <td>13011556</td>\n",
       "      <td>149096</td>\n",
       "      <td>12820359</td>\n",
       "      <td>148893</td>\n",
       "      <td>191197</td>\n",
       "      <td>203</td>\n",
       "      <td>1.1</td>\n",
       "      <td>Europe</td>\n",
       "    </tr>\n",
       "    <tr>\n",
       "      <th>4</th>\n",
       "      <td>Russia</td>\n",
       "      <td>10320405</td>\n",
       "      <td>302671</td>\n",
       "      <td>10299923</td>\n",
       "      <td>301791</td>\n",
       "      <td>20482</td>\n",
       "      <td>880</td>\n",
       "      <td>2.9</td>\n",
       "      <td>Europe</td>\n",
       "    </tr>\n",
       "  </tbody>\n",
       "</table>\n",
       "</div>"
      ],
      "text/plain": [
       "   Country/Region     Cases  Deaths    PCases  PDeaths  Cases (+)  Deaths (+)  \\\n",
       "0              US  54743982  825536  54246831   824301     497151        1235   \n",
       "1           India  34861579  481486  34838804   481080      22775         406   \n",
       "2          Brazil  22291839  619334  22281649   619249      10190          85   \n",
       "3  United Kingdom  13011556  149096  12820359   148893     191197         203   \n",
       "4          Russia  10320405  302671  10299923   301791      20482         880   \n",
       "\n",
       "   Fatality Rate      Continent  \n",
       "0            1.5  North America  \n",
       "1            1.4           Asia  \n",
       "2            2.8  South America  \n",
       "3            1.1         Europe  \n",
       "4            2.9         Europe  "
      ]
     },
     "execution_count": 15,
     "metadata": {},
     "output_type": "execute_result"
    }
   ],
   "source": [
    "#hide\n",
    "df_table = (pd.DataFrame(dict(Cases=dfc_cases, Deaths=dfc_deaths, PCases=dfp_cases, PDeaths=dfp_deaths))\n",
    "             .sort_values(by=['Cases', 'Deaths'], ascending=[False, False])\n",
    "             .reset_index())\n",
    "df_table.rename(columns={'index': 'Country/Region'}, inplace=True)\n",
    "for c in 'Cases, Deaths'.split(', '):\n",
    "    df_table[f'{c} (+)'] = (df_table[c] - df_table[f'P{c}']).clip(0)  # DATA BUG\n",
    "df_table['Fatality Rate'] = (100 * df_table['Deaths'] / df_table['Cases']).round(1)\n",
    "df_table['Continent'] = df_table['Country/Region'].map(mapping['map.continent'])\n",
    "df_table.head(5)"
   ]
  },
  {
   "cell_type": "code",
   "execution_count": 16,
   "id": "fewer-occasion",
   "metadata": {
    "execution": {
     "iopub.execute_input": "2022-01-02T00:28:27.577208Z",
     "iopub.status.busy": "2022-01-02T00:28:27.576589Z",
     "iopub.status.idle": "2022-01-02T00:28:27.579635Z",
     "shell.execute_reply": "2022-01-02T00:28:27.580243Z"
    },
    "papermill": {
     "duration": 0.051059,
     "end_time": "2022-01-02T00:28:27.580432",
     "exception": false,
     "start_time": "2022-01-02T00:28:27.529373",
     "status": "completed"
    },
    "tags": []
   },
   "outputs": [],
   "source": [
    "#hide\n",
    "#delete problematic countries from table\n",
    "df_table = df_table[~df_table['Country/Region'].isin(['Cape Verde', 'Cruise Ship', 'Kosovo'])]"
   ]
  },
  {
   "cell_type": "code",
   "execution_count": 17,
   "id": "related-center",
   "metadata": {
    "execution": {
     "iopub.execute_input": "2022-01-02T00:28:27.667171Z",
     "iopub.status.busy": "2022-01-02T00:28:27.666522Z",
     "iopub.status.idle": "2022-01-02T00:28:27.680926Z",
     "shell.execute_reply": "2022-01-02T00:28:27.680391Z"
    },
    "papermill": {
     "duration": 0.061936,
     "end_time": "2022-01-02T00:28:27.681050",
     "exception": false,
     "start_time": "2022-01-02T00:28:27.619114",
     "status": "completed"
    },
    "tags": []
   },
   "outputs": [],
   "source": [
    "#hide\n",
    "metrics = [df_table.columns[index] for index in [1,2,5,6]]\n",
    "# s_china = df_table[df_table['Country/Region'].eq('China')][metrics].sum().add_prefix('China ')\n",
    "s_us = df_table[df_table['Country/Region'].eq('US')][metrics].sum().add_prefix('US ')\n",
    "s_eu = df_table[df_table['Continent'].eq('Europe')][metrics].sum().add_prefix('EU ')\n",
    "s_ind = df_table[df_table['Country/Region'].eq('India')][metrics].sum().add_prefix('India ')\n",
    "summary = {'updated': pd.to_datetime(dt_today), 'since': pd.to_datetime(dt_yday)}\n",
    "summary = {'updated': pd.to_datetime(dt_today), 'since': pd.to_datetime(dt_yday)}\n",
    "summary = {**summary, **df_table[metrics].sum(), **s_ind, **s_us, **s_eu}"
   ]
  },
  {
   "cell_type": "code",
   "execution_count": 18,
   "id": "engaging-syndrome",
   "metadata": {
    "execution": {
     "iopub.execute_input": "2022-01-02T00:28:27.770228Z",
     "iopub.status.busy": "2022-01-02T00:28:27.769502Z",
     "iopub.status.idle": "2022-01-02T00:28:27.786894Z",
     "shell.execute_reply": "2022-01-02T00:28:27.786367Z"
    },
    "papermill": {
     "duration": 0.063887,
     "end_time": "2022-01-02T00:28:27.787023",
     "exception": false,
     "start_time": "2022-01-02T00:28:27.723136",
     "status": "completed"
    },
    "tags": []
   },
   "outputs": [],
   "source": [
    "#hide\n",
    "dft_ct_new_cases = dft_cases.groupby(COL_REGION)[dt_cols].sum().diff(axis=1).fillna(0).astype(int)"
   ]
  },
  {
   "cell_type": "code",
   "execution_count": 19,
   "id": "neutral-assignment",
   "metadata": {
    "execution": {
     "iopub.execute_input": "2022-01-02T00:28:27.870412Z",
     "iopub.status.busy": "2022-01-02T00:28:27.869718Z",
     "iopub.status.idle": "2022-01-02T00:28:27.872043Z",
     "shell.execute_reply": "2022-01-02T00:28:27.872694Z"
    },
    "papermill": {
     "duration": 0.047741,
     "end_time": "2022-01-02T00:28:27.872834",
     "exception": false,
     "start_time": "2022-01-02T00:28:27.825093",
     "status": "completed"
    },
    "tags": []
   },
   "outputs": [],
   "source": [
    "#hide\n",
    "everydaycases = dft_ct_new_cases.cumsum(axis=1)"
   ]
  },
  {
   "cell_type": "code",
   "execution_count": 20,
   "id": "parliamentary-calgary",
   "metadata": {
    "execution": {
     "iopub.execute_input": "2022-01-02T00:28:27.953959Z",
     "iopub.status.busy": "2022-01-02T00:28:27.953315Z",
     "iopub.status.idle": "2022-01-02T00:28:28.734171Z",
     "shell.execute_reply": "2022-01-02T00:28:28.733440Z"
    },
    "papermill": {
     "duration": 0.823632,
     "end_time": "2022-01-02T00:28:28.734339",
     "exception": false,
     "start_time": "2022-01-02T00:28:27.910707",
     "status": "completed"
    },
    "tags": []
   },
   "outputs": [],
   "source": [
    "#hide\n",
    "import pandas as pd\n",
    "import matplotlib.pyplot as plt\n",
    "import matplotlib.ticker as ticker\n",
    "import matplotlib.animation as animation\n",
    "from IPython.display import HTML"
   ]
  },
  {
   "cell_type": "code",
   "execution_count": 21,
   "id": "lasting-extraction",
   "metadata": {
    "execution": {
     "iopub.execute_input": "2022-01-02T00:28:28.827671Z",
     "iopub.status.busy": "2022-01-02T00:28:28.826756Z",
     "iopub.status.idle": "2022-01-02T00:28:28.834005Z",
     "shell.execute_reply": "2022-01-02T00:28:28.833475Z"
    },
    "papermill": {
     "duration": 0.056422,
     "end_time": "2022-01-02T00:28:28.834212",
     "exception": false,
     "start_time": "2022-01-02T00:28:28.777790",
     "status": "completed"
    },
    "tags": []
   },
   "outputs": [],
   "source": [
    "#hide\n",
    "t = everydaycases.stack()"
   ]
  },
  {
   "cell_type": "code",
   "execution_count": 22,
   "id": "premier-sleeve",
   "metadata": {
    "execution": {
     "iopub.execute_input": "2022-01-02T00:28:28.932067Z",
     "iopub.status.busy": "2022-01-02T00:28:28.931397Z",
     "iopub.status.idle": "2022-01-02T00:28:28.947149Z",
     "shell.execute_reply": "2022-01-02T00:28:28.947667Z"
    },
    "papermill": {
     "duration": 0.071265,
     "end_time": "2022-01-02T00:28:28.947825",
     "exception": false,
     "start_time": "2022-01-02T00:28:28.876560",
     "status": "completed"
    },
    "tags": []
   },
   "outputs": [],
   "source": [
    "#hide\n",
    "g = t.reset_index(['Country/Region'])"
   ]
  },
  {
   "cell_type": "code",
   "execution_count": 23,
   "id": "distributed-pittsburgh",
   "metadata": {
    "execution": {
     "iopub.execute_input": "2022-01-02T00:28:29.039157Z",
     "iopub.status.busy": "2022-01-02T00:28:29.038457Z",
     "iopub.status.idle": "2022-01-02T00:28:29.040331Z",
     "shell.execute_reply": "2022-01-02T00:28:29.041152Z"
    },
    "papermill": {
     "duration": 0.04568,
     "end_time": "2022-01-02T00:28:29.041329",
     "exception": false,
     "start_time": "2022-01-02T00:28:28.995649",
     "status": "completed"
    },
    "tags": []
   },
   "outputs": [],
   "source": [
    "#hide\n",
    "g.index.name = 'date'"
   ]
  },
  {
   "cell_type": "code",
   "execution_count": 24,
   "id": "naked-donor",
   "metadata": {
    "execution": {
     "iopub.execute_input": "2022-01-02T00:28:29.127237Z",
     "iopub.status.busy": "2022-01-02T00:28:29.126131Z",
     "iopub.status.idle": "2022-01-02T00:28:29.130207Z",
     "shell.execute_reply": "2022-01-02T00:28:29.130683Z"
    },
    "papermill": {
     "duration": 0.045357,
     "end_time": "2022-01-02T00:28:29.130817",
     "exception": false,
     "start_time": "2022-01-02T00:28:29.085460",
     "status": "completed"
    },
    "tags": []
   },
   "outputs": [],
   "source": [
    "# #hide\n",
    "# g = g.reset_index(['date'])"
   ]
  },
  {
   "cell_type": "code",
   "execution_count": 25,
   "id": "incomplete-mustang",
   "metadata": {
    "execution": {
     "iopub.execute_input": "2022-01-02T00:28:29.211437Z",
     "iopub.status.busy": "2022-01-02T00:28:29.210809Z",
     "iopub.status.idle": "2022-01-02T00:28:29.214946Z",
     "shell.execute_reply": "2022-01-02T00:28:29.215443Z"
    },
    "papermill": {
     "duration": 0.045598,
     "end_time": "2022-01-02T00:28:29.215603",
     "exception": false,
     "start_time": "2022-01-02T00:28:29.170005",
     "status": "completed"
    },
    "tags": []
   },
   "outputs": [],
   "source": [
    "#hide\n",
    "# g.head()"
   ]
  },
  {
   "cell_type": "code",
   "execution_count": 26,
   "id": "specific-kruger",
   "metadata": {
    "execution": {
     "iopub.execute_input": "2022-01-02T00:28:29.301270Z",
     "iopub.status.busy": "2022-01-02T00:28:29.299776Z",
     "iopub.status.idle": "2022-01-02T00:28:29.301991Z",
     "shell.execute_reply": "2022-01-02T00:28:29.302478Z"
    },
    "papermill": {
     "duration": 0.047266,
     "end_time": "2022-01-02T00:28:29.302617",
     "exception": false,
     "start_time": "2022-01-02T00:28:29.255351",
     "status": "completed"
    },
    "tags": []
   },
   "outputs": [],
   "source": [
    "#hide\n",
    "# g.columns = ['date','country','cases']"
   ]
  },
  {
   "cell_type": "code",
   "execution_count": 27,
   "id": "tender-conversion",
   "metadata": {
    "execution": {
     "iopub.execute_input": "2022-01-02T00:28:29.385308Z",
     "iopub.status.busy": "2022-01-02T00:28:29.383708Z",
     "iopub.status.idle": "2022-01-02T00:28:29.385974Z",
     "shell.execute_reply": "2022-01-02T00:28:29.386664Z"
    },
    "papermill": {
     "duration": 0.044924,
     "end_time": "2022-01-02T00:28:29.386785",
     "exception": false,
     "start_time": "2022-01-02T00:28:29.341861",
     "status": "completed"
    },
    "tags": []
   },
   "outputs": [],
   "source": [
    "#hide\n",
    "# g['continent'] = g.country"
   ]
  },
  {
   "cell_type": "code",
   "execution_count": 28,
   "id": "substantial-wilderness",
   "metadata": {
    "execution": {
     "iopub.execute_input": "2022-01-02T00:28:29.467505Z",
     "iopub.status.busy": "2022-01-02T00:28:29.466160Z",
     "iopub.status.idle": "2022-01-02T00:28:29.468201Z",
     "shell.execute_reply": "2022-01-02T00:28:29.468702Z"
    },
    "papermill": {
     "duration": 0.043894,
     "end_time": "2022-01-02T00:28:29.468828",
     "exception": false,
     "start_time": "2022-01-02T00:28:29.424934",
     "status": "completed"
    },
    "tags": []
   },
   "outputs": [],
   "source": [
    "#hide\n",
    "# cols = list(g.columns.values)"
   ]
  },
  {
   "cell_type": "code",
   "execution_count": 29,
   "id": "solved-farming",
   "metadata": {
    "execution": {
     "iopub.execute_input": "2022-01-02T00:28:29.547627Z",
     "iopub.status.busy": "2022-01-02T00:28:29.546891Z",
     "iopub.status.idle": "2022-01-02T00:28:29.549629Z",
     "shell.execute_reply": "2022-01-02T00:28:29.548988Z"
    },
    "papermill": {
     "duration": 0.043807,
     "end_time": "2022-01-02T00:28:29.549754",
     "exception": false,
     "start_time": "2022-01-02T00:28:29.505947",
     "status": "completed"
    },
    "tags": []
   },
   "outputs": [],
   "source": [
    "#hide\n",
    "# cols.insert(0, cols.pop())"
   ]
  },
  {
   "cell_type": "code",
   "execution_count": 30,
   "id": "executed-adoption",
   "metadata": {
    "execution": {
     "iopub.execute_input": "2022-01-02T00:28:29.633074Z",
     "iopub.status.busy": "2022-01-02T00:28:29.632150Z",
     "iopub.status.idle": "2022-01-02T00:28:29.636286Z",
     "shell.execute_reply": "2022-01-02T00:28:29.635686Z"
    },
    "papermill": {
     "duration": 0.047438,
     "end_time": "2022-01-02T00:28:29.636438",
     "exception": false,
     "start_time": "2022-01-02T00:28:29.589000",
     "status": "completed"
    },
    "tags": []
   },
   "outputs": [],
   "source": [
    "#hide\n",
    "# g = g[cols]"
   ]
  },
  {
   "cell_type": "code",
   "execution_count": 31,
   "id": "subject-dublin",
   "metadata": {
    "execution": {
     "iopub.execute_input": "2022-01-02T00:28:29.724036Z",
     "iopub.status.busy": "2022-01-02T00:28:29.723417Z",
     "iopub.status.idle": "2022-01-02T00:28:29.727423Z",
     "shell.execute_reply": "2022-01-02T00:28:29.727921Z"
    },
    "papermill": {
     "duration": 0.048116,
     "end_time": "2022-01-02T00:28:29.728062",
     "exception": false,
     "start_time": "2022-01-02T00:28:29.679946",
     "status": "completed"
    },
    "tags": []
   },
   "outputs": [],
   "source": [
    "#hide\n",
    "# g['continent'] = g['continent'].map(mapping['map.continent'])"
   ]
  },
  {
   "cell_type": "code",
   "execution_count": 32,
   "id": "freelance-scout",
   "metadata": {
    "execution": {
     "iopub.execute_input": "2022-01-02T00:28:29.809478Z",
     "iopub.status.busy": "2022-01-02T00:28:29.808850Z",
     "iopub.status.idle": "2022-01-02T00:28:29.811070Z",
     "shell.execute_reply": "2022-01-02T00:28:29.811537Z"
    },
    "papermill": {
     "duration": 0.044771,
     "end_time": "2022-01-02T00:28:29.811672",
     "exception": false,
     "start_time": "2022-01-02T00:28:29.766901",
     "status": "completed"
    },
    "tags": []
   },
   "outputs": [],
   "source": [
    "#hide\n",
    "# g.head()"
   ]
  },
  {
   "cell_type": "code",
   "execution_count": 33,
   "id": "limited-engine",
   "metadata": {
    "execution": {
     "iopub.execute_input": "2022-01-02T00:28:29.894310Z",
     "iopub.status.busy": "2022-01-02T00:28:29.893486Z",
     "iopub.status.idle": "2022-01-02T00:28:29.896007Z",
     "shell.execute_reply": "2022-01-02T00:28:29.896469Z"
    },
    "papermill": {
     "duration": 0.045515,
     "end_time": "2022-01-02T00:28:29.896641",
     "exception": false,
     "start_time": "2022-01-02T00:28:29.851126",
     "status": "completed"
    },
    "tags": []
   },
   "outputs": [],
   "source": [
    "# hide\n",
    "# g['date'] = g['date'].astype('datetime64[ns]')"
   ]
  },
  {
   "cell_type": "code",
   "execution_count": 34,
   "id": "sophisticated-supervisor",
   "metadata": {
    "execution": {
     "iopub.execute_input": "2022-01-02T00:28:29.976359Z",
     "iopub.status.busy": "2022-01-02T00:28:29.975766Z",
     "iopub.status.idle": "2022-01-02T00:28:29.977569Z",
     "shell.execute_reply": "2022-01-02T00:28:29.977006Z"
    },
    "papermill": {
     "duration": 0.043924,
     "end_time": "2022-01-02T00:28:29.977698",
     "exception": false,
     "start_time": "2022-01-02T00:28:29.933774",
     "status": "completed"
    },
    "tags": []
   },
   "outputs": [],
   "source": [
    "#hide\n",
    "# g['date'] = g.date.dt.dayofyear"
   ]
  },
  {
   "cell_type": "code",
   "execution_count": 35,
   "id": "inside-dubai",
   "metadata": {
    "execution": {
     "iopub.execute_input": "2022-01-02T00:28:30.061357Z",
     "iopub.status.busy": "2022-01-02T00:28:30.060435Z",
     "iopub.status.idle": "2022-01-02T00:28:30.065256Z",
     "shell.execute_reply": "2022-01-02T00:28:30.065960Z"
    },
    "papermill": {
     "duration": 0.049247,
     "end_time": "2022-01-02T00:28:30.066095",
     "exception": false,
     "start_time": "2022-01-02T00:28:30.016848",
     "status": "completed"
    },
    "tags": []
   },
   "outputs": [],
   "source": [
    "#hide\n",
    "# g = g.rename(columns= {'continent':'group','country':'name','cases':'value'})"
   ]
  },
  {
   "cell_type": "code",
   "execution_count": 36,
   "id": "fleet-motorcycle",
   "metadata": {
    "execution": {
     "iopub.execute_input": "2022-01-02T00:28:30.146631Z",
     "iopub.status.busy": "2022-01-02T00:28:30.145936Z",
     "iopub.status.idle": "2022-01-02T00:28:30.148559Z",
     "shell.execute_reply": "2022-01-02T00:28:30.147956Z"
    },
    "papermill": {
     "duration": 0.044528,
     "end_time": "2022-01-02T00:28:30.148710",
     "exception": false,
     "start_time": "2022-01-02T00:28:30.104182",
     "status": "completed"
    },
    "tags": []
   },
   "outputs": [],
   "source": [
    "#hide\n",
    "# cols = ['name','group','day','value']"
   ]
  },
  {
   "cell_type": "code",
   "execution_count": 37,
   "id": "continued-sleeping",
   "metadata": {
    "execution": {
     "iopub.execute_input": "2022-01-02T00:28:30.230200Z",
     "iopub.status.busy": "2022-01-02T00:28:30.229558Z",
     "iopub.status.idle": "2022-01-02T00:28:30.232192Z",
     "shell.execute_reply": "2022-01-02T00:28:30.231538Z"
    },
    "papermill": {
     "duration": 0.044245,
     "end_time": "2022-01-02T00:28:30.232333",
     "exception": false,
     "start_time": "2022-01-02T00:28:30.188088",
     "status": "completed"
    },
    "tags": []
   },
   "outputs": [],
   "source": [
    "#hide\n",
    "# g.rename(columns= {'date':'day'},inplace = True)"
   ]
  },
  {
   "cell_type": "code",
   "execution_count": 38,
   "id": "major-fight",
   "metadata": {
    "execution": {
     "iopub.execute_input": "2022-01-02T00:28:30.315051Z",
     "iopub.status.busy": "2022-01-02T00:28:30.314420Z",
     "iopub.status.idle": "2022-01-02T00:28:30.318294Z",
     "shell.execute_reply": "2022-01-02T00:28:30.318828Z"
    },
    "papermill": {
     "duration": 0.04798,
     "end_time": "2022-01-02T00:28:30.319182",
     "exception": false,
     "start_time": "2022-01-02T00:28:30.271202",
     "status": "completed"
    },
    "tags": []
   },
   "outputs": [],
   "source": [
    "#hide\n",
    "# g = g[cols]"
   ]
  },
  {
   "cell_type": "code",
   "execution_count": 39,
   "id": "structured-mobile",
   "metadata": {
    "execution": {
     "iopub.execute_input": "2022-01-02T00:28:30.399725Z",
     "iopub.status.busy": "2022-01-02T00:28:30.399138Z",
     "iopub.status.idle": "2022-01-02T00:28:30.402628Z",
     "shell.execute_reply": "2022-01-02T00:28:30.402050Z"
    },
    "papermill": {
     "duration": 0.045342,
     "end_time": "2022-01-02T00:28:30.402795",
     "exception": false,
     "start_time": "2022-01-02T00:28:30.357453",
     "status": "completed"
    },
    "tags": []
   },
   "outputs": [],
   "source": [
    "# #hide\n",
    "# g = g[g.group.notna()]"
   ]
  },
  {
   "cell_type": "code",
   "execution_count": 40,
   "id": "determined-closing",
   "metadata": {
    "execution": {
     "iopub.execute_input": "2022-01-02T00:28:30.483963Z",
     "iopub.status.busy": "2022-01-02T00:28:30.483336Z",
     "iopub.status.idle": "2022-01-02T00:28:30.485519Z",
     "shell.execute_reply": "2022-01-02T00:28:30.485984Z"
    },
    "papermill": {
     "duration": 0.043736,
     "end_time": "2022-01-02T00:28:30.486119",
     "exception": false,
     "start_time": "2022-01-02T00:28:30.442383",
     "status": "completed"
    },
    "tags": []
   },
   "outputs": [],
   "source": [
    "# #hide\n",
    "# colors = dict(zip(\n",
    "#     [\"Oceania\", \"Europe\", \"Asia\", \"South America\", \"Middle East\", \"North America\", \"Africa\"],\n",
    "#     [\"#adb0ff\", \"#ffb3ff\", \"#90d595\", \"#e48381\", \"#aafbff\", \"#f7bb5f\", \"#eafb50\"]\n",
    "# ))\n",
    "# group_lk = g.set_index('name')['group'].to_dict()"
   ]
  },
  {
   "cell_type": "code",
   "execution_count": null,
   "id": "gross-drinking",
   "metadata": {
    "papermill": {
     "duration": 0.036889,
     "end_time": "2022-01-02T00:28:30.563041",
     "exception": false,
     "start_time": "2022-01-02T00:28:30.526152",
     "status": "completed"
    },
    "tags": []
   },
   "outputs": [],
   "source": []
  },
  {
   "cell_type": "code",
   "execution_count": 41,
   "id": "subject-macintosh",
   "metadata": {
    "execution": {
     "iopub.execute_input": "2022-01-02T00:28:30.646021Z",
     "iopub.status.busy": "2022-01-02T00:28:30.645343Z",
     "iopub.status.idle": "2022-01-02T00:28:30.647694Z",
     "shell.execute_reply": "2022-01-02T00:28:30.647076Z"
    },
    "papermill": {
     "duration": 0.046798,
     "end_time": "2022-01-02T00:28:30.647823",
     "exception": false,
     "start_time": "2022-01-02T00:28:30.601025",
     "status": "completed"
    },
    "tags": []
   },
   "outputs": [],
   "source": [
    "# #hide\n",
    "# fig, ax = plt.subplots(figsize=(15, 8))\n",
    "\n",
    "# def draw_barchart(current_day):\n",
    "#     dff = g[g['day'].eq(current_day)].sort_values(by='value', ascending=True).tail(10)\n",
    "#     ax.clear()\n",
    "#     ax.barh(dff['name'], dff['value'], color=[colors[group_lk[x]] for x in dff['name']])\n",
    "#     dx = dff['value'].max() / 200\n",
    "    \n",
    "#     for i, (value, name) in enumerate(zip(dff['value'], dff['name'])):\n",
    "#         ax.text(value-dx, i,     name,           size=14, weight=600, ha='right', va='bottom')\n",
    "#         ax.text(value-dx, i-.25, group_lk[name], size=10, color='#444444', ha='right', va='baseline')\n",
    "#         ax.text(value+dx, i,     f'{value:,.0f}',  size=14, ha='left',  va='center')\n",
    "#     ax.text(1, 0.4, current_day, transform=ax.transAxes, color='#777777', size=46, ha='right', weight=800)\n",
    "#     ax.text(0, 1.06, 'Population (thousands)', transform=ax.transAxes, size=12, color='#777777')\n",
    "#     ax.xaxis.set_major_formatter(ticker.StrMethodFormatter('{x:,.0f}'))\n",
    "#     ax.xaxis.set_ticks_position('top')\n",
    "#     ax.tick_params(axis='x', colors='#777777', labelsize=12)\n",
    "#     ax.set_yticks([])\n",
    "#     ax.margins(0, 0.01)\n",
    "#     ax.grid(which='major', axis='x', linestyle='-')\n",
    "#     ax.set_axisbelow(True)\n",
    "    \n",
    "#     ax.text(0, 1.15, 'Coronavirus',\n",
    "#             transform=ax.transAxes, size=24, weight=600, ha='left', va='top')\n",
    "# #     ax.text(1, 0, 'by @pratapvardhan; credit @jburnmurdoch', transform=ax.transAxes, color='#777777', ha='right',\n",
    "# #             bbox=dict(facecolor='white', alpha=0.8, edgecolor='white'))\n",
    "#     plt.box(False)"
   ]
  },
  {
   "cell_type": "code",
   "execution_count": 42,
   "id": "sexual-wages",
   "metadata": {
    "execution": {
     "iopub.execute_input": "2022-01-02T00:28:30.727786Z",
     "iopub.status.busy": "2022-01-02T00:28:30.727087Z",
     "iopub.status.idle": "2022-01-02T00:28:30.730843Z",
     "shell.execute_reply": "2022-01-02T00:28:30.731347Z"
    },
    "papermill": {
     "duration": 0.04574,
     "end_time": "2022-01-02T00:28:30.731513",
     "exception": false,
     "start_time": "2022-01-02T00:28:30.685773",
     "status": "completed"
    },
    "tags": []
   },
   "outputs": [],
   "source": [
    "# #hide_input\n",
    "# fig, ax = plt.subplots(figsize=(15, 8))\n",
    "# animator = animation.FuncAnimation(fig, draw_barchart, frames=range(g.day.values.min(), g.day.values.max()))\n",
    "# HTML(animator.to_jshtml())\n",
    "# # or use animator.to_html5_video() or animator.save() "
   ]
  },
  {
   "cell_type": "code",
   "execution_count": null,
   "id": "australian-container",
   "metadata": {
    "papermill": {
     "duration": 0.038068,
     "end_time": "2022-01-02T00:28:30.808566",
     "exception": false,
     "start_time": "2022-01-02T00:28:30.770498",
     "status": "completed"
    },
    "tags": []
   },
   "outputs": [],
   "source": []
  },
  {
   "cell_type": "code",
   "execution_count": null,
   "id": "mediterranean-pontiac",
   "metadata": {
    "papermill": {
     "duration": 0.038441,
     "end_time": "2022-01-02T00:28:30.886460",
     "exception": false,
     "start_time": "2022-01-02T00:28:30.848019",
     "status": "completed"
    },
    "tags": []
   },
   "outputs": [],
   "source": []
  },
  {
   "cell_type": "code",
   "execution_count": null,
   "id": "aging-legislature",
   "metadata": {
    "papermill": {
     "duration": 0.039952,
     "end_time": "2022-01-02T00:28:30.966277",
     "exception": false,
     "start_time": "2022-01-02T00:28:30.926325",
     "status": "completed"
    },
    "tags": []
   },
   "outputs": [],
   "source": []
  }
 ],
 "metadata": {
  "kernelspec": {
   "display_name": "Python 3",
   "language": "python",
   "name": "python3"
  },
  "language_info": {
   "codemirror_mode": {
    "name": "ipython",
    "version": 3
   },
   "file_extension": ".py",
   "mimetype": "text/x-python",
   "name": "python",
   "nbconvert_exporter": "python",
   "pygments_lexer": "ipython3",
   "version": "3.6.15"
  },
  "papermill": {
   "duration": 7.492166,
   "end_time": "2022-01-02T00:28:31.323339",
   "environment_variables": {},
   "exception": null,
   "input_path": "2020-03-21-covid19exp.ipynb",
   "output_path": "2020-03-21-covid19exp.ipynb",
   "parameters": {},
   "start_time": "2022-01-02T00:28:23.831173",
   "version": "2.0.0"
  }
 },
 "nbformat": 4,
 "nbformat_minor": 5
}