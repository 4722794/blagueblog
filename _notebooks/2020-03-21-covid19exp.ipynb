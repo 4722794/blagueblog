{
 "cells": [
  {
   "cell_type": "markdown",
   "id": "muslim-click",
   "metadata": {
    "papermill": {
     "duration": 0.034388,
     "end_time": "2022-09-18T12:17:12.520731",
     "exception": false,
     "start_time": "2022-09-18T12:17:12.486343",
     "status": "completed"
    },
    "tags": []
   },
   "source": [
    "# COVID-19 Case Race\n",
    "> A race chart to see rising cases around the world\n",
    "\n",
    "- author: Hargun Oberoi\n",
    "- image: images/covid-overview.png\n",
    "- hide: false\n",
    "- badges: false"
   ]
  },
  {
   "cell_type": "code",
   "execution_count": 1,
   "id": "proof-material",
   "metadata": {
    "execution": {
     "iopub.execute_input": "2022-09-18T12:17:12.589400Z",
     "iopub.status.busy": "2022-09-18T12:17:12.588816Z",
     "iopub.status.idle": "2022-09-18T12:17:12.890541Z",
     "shell.execute_reply": "2022-09-18T12:17:12.890048Z"
    },
    "papermill": {
     "duration": 0.339896,
     "end_time": "2022-09-18T12:17:12.890669",
     "exception": false,
     "start_time": "2022-09-18T12:17:12.550773",
     "status": "completed"
    },
    "tags": []
   },
   "outputs": [],
   "source": [
    "#hide\n",
    "import numpy as np\n",
    "import pandas as pd\n",
    "from jinja2 import Template\n",
    "from IPython.display import HTML"
   ]
  },
  {
   "cell_type": "code",
   "execution_count": 2,
   "id": "developed-terminology",
   "metadata": {
    "execution": {
     "iopub.execute_input": "2022-09-18T12:17:12.954096Z",
     "iopub.status.busy": "2022-09-18T12:17:12.953535Z",
     "iopub.status.idle": "2022-09-18T12:17:12.957240Z",
     "shell.execute_reply": "2022-09-18T12:17:12.956744Z"
    },
    "papermill": {
     "duration": 0.036995,
     "end_time": "2022-09-18T12:17:12.957339",
     "exception": false,
     "start_time": "2022-09-18T12:17:12.920344",
     "status": "completed"
    },
    "tags": []
   },
   "outputs": [],
   "source": [
    "#hide\n",
    "\n",
    "# FETCH\n",
    "base_url = 'https://raw.githubusercontent.com/pratapvardhan/notebooks/master/covid19/'\n",
    "paths = {\n",
    "    'mapping': base_url + 'mapping_countries.csv',\n",
    "    'overview': base_url + 'overview.tpl'\n",
    "}"
   ]
  },
  {
   "cell_type": "code",
   "execution_count": 3,
   "id": "dynamic-saver",
   "metadata": {
    "execution": {
     "iopub.execute_input": "2022-09-18T12:17:13.023992Z",
     "iopub.status.busy": "2022-09-18T12:17:13.023221Z",
     "iopub.status.idle": "2022-09-18T12:17:13.026874Z",
     "shell.execute_reply": "2022-09-18T12:17:13.027320Z"
    },
    "papermill": {
     "duration": 0.040685,
     "end_time": "2022-09-18T12:17:13.027425",
     "exception": false,
     "start_time": "2022-09-18T12:17:12.986740",
     "status": "completed"
    },
    "tags": []
   },
   "outputs": [
    {
     "data": {
      "text/plain": [
       "'https://raw.githubusercontent.com/pratapvardhan/notebooks/master/covid19/mapping_countries.csv'"
      ]
     },
     "execution_count": 3,
     "metadata": {},
     "output_type": "execute_result"
    }
   ],
   "source": [
    "#hide\n",
    "paths['mapping']"
   ]
  },
  {
   "cell_type": "code",
   "execution_count": 4,
   "id": "urban-software",
   "metadata": {
    "execution": {
     "iopub.execute_input": "2022-09-18T12:17:13.091313Z",
     "iopub.status.busy": "2022-09-18T12:17:13.090744Z",
     "iopub.status.idle": "2022-09-18T12:17:13.093167Z",
     "shell.execute_reply": "2022-09-18T12:17:13.092614Z"
    },
    "papermill": {
     "duration": 0.03607,
     "end_time": "2022-09-18T12:17:13.093261",
     "exception": false,
     "start_time": "2022-09-18T12:17:13.057191",
     "status": "completed"
    },
    "tags": []
   },
   "outputs": [],
   "source": [
    "#hide\n",
    "def get_mappings(url):\n",
    "    df = pd.read_csv(url)\n",
    "    return {\n",
    "        'df': df,\n",
    "        'replace.country': dict(df.dropna(subset=['Name']).set_index('Country')['Name']),\n",
    "        'map.continent': dict(df.set_index('Name')['Continent'])\n",
    "    }"
   ]
  },
  {
   "cell_type": "code",
   "execution_count": 5,
   "id": "intimate-machinery",
   "metadata": {
    "execution": {
     "iopub.execute_input": "2022-09-18T12:17:13.157005Z",
     "iopub.status.busy": "2022-09-18T12:17:13.156439Z",
     "iopub.status.idle": "2022-09-18T12:17:13.216254Z",
     "shell.execute_reply": "2022-09-18T12:17:13.215697Z"
    },
    "papermill": {
     "duration": 0.093431,
     "end_time": "2022-09-18T12:17:13.216348",
     "exception": false,
     "start_time": "2022-09-18T12:17:13.122917",
     "status": "completed"
    },
    "tags": []
   },
   "outputs": [],
   "source": [
    "#hide\n",
    "mapping = get_mappings(paths['mapping'])"
   ]
  },
  {
   "cell_type": "code",
   "execution_count": 6,
   "id": "certified-tactics",
   "metadata": {
    "execution": {
     "iopub.execute_input": "2022-09-18T12:17:13.279872Z",
     "iopub.status.busy": "2022-09-18T12:17:13.279308Z",
     "iopub.status.idle": "2022-09-18T12:17:13.282213Z",
     "shell.execute_reply": "2022-09-18T12:17:13.281753Z"
    },
    "papermill": {
     "duration": 0.036291,
     "end_time": "2022-09-18T12:17:13.282304",
     "exception": false,
     "start_time": "2022-09-18T12:17:13.246013",
     "status": "completed"
    },
    "tags": []
   },
   "outputs": [],
   "source": [
    "#hide\n",
    "def get_template(path):\n",
    "    from urllib.parse import urlparse\n",
    "    if bool(urlparse(path).netloc):\n",
    "        from urllib.request import urlopen\n",
    "        return urlopen(path).read().decode('utf8')\n",
    "    return open(path).read()"
   ]
  },
  {
   "cell_type": "code",
   "execution_count": 7,
   "id": "realistic-blast",
   "metadata": {
    "execution": {
     "iopub.execute_input": "2022-09-18T12:17:13.345534Z",
     "iopub.status.busy": "2022-09-18T12:17:13.344956Z",
     "iopub.status.idle": "2022-09-18T12:17:13.347509Z",
     "shell.execute_reply": "2022-09-18T12:17:13.347063Z"
    },
    "papermill": {
     "duration": 0.035735,
     "end_time": "2022-09-18T12:17:13.347601",
     "exception": false,
     "start_time": "2022-09-18T12:17:13.311866",
     "status": "completed"
    },
    "tags": []
   },
   "outputs": [],
   "source": [
    "#hide\n",
    "def get_frame(name):\n",
    "    url = (\n",
    "        'https://raw.githubusercontent.com/CSSEGISandData/COVID-19/master/csse_covid_19_data/'\n",
    "        f'csse_covid_19_time_series/time_series_covid19_{name}_global.csv')\n",
    "    df = pd.read_csv(url)\n",
    "    # rename countries\n",
    "    df['Country/Region'] = df['Country/Region'].replace(mapping['replace.country'])\n",
    "    return df"
   ]
  },
  {
   "cell_type": "code",
   "execution_count": 8,
   "id": "affiliated-characterization",
   "metadata": {
    "execution": {
     "iopub.execute_input": "2022-09-18T12:17:13.411641Z",
     "iopub.status.busy": "2022-09-18T12:17:13.411060Z",
     "iopub.status.idle": "2022-09-18T12:17:13.413767Z",
     "shell.execute_reply": "2022-09-18T12:17:13.413298Z"
    },
    "papermill": {
     "duration": 0.036584,
     "end_time": "2022-09-18T12:17:13.413862",
     "exception": false,
     "start_time": "2022-09-18T12:17:13.377278",
     "status": "completed"
    },
    "tags": []
   },
   "outputs": [],
   "source": [
    "#hide\n",
    "def get_dates(df):\n",
    "    dt_cols = df.columns[~df.columns.isin(['Province/State', 'Country/Region', 'Lat', 'Long'])]\n",
    "    LAST_DATE_I = -1\n",
    "    # sometimes last column may be empty, then go backwards\n",
    "    for i in range(-1, -len(dt_cols), -1):\n",
    "        if not df[dt_cols[i]].fillna(0).eq(0).all():\n",
    "            LAST_DATE_I = i\n",
    "            break\n",
    "    return LAST_DATE_I, dt_cols"
   ]
  },
  {
   "cell_type": "code",
   "execution_count": 9,
   "id": "recent-optimization",
   "metadata": {
    "execution": {
     "iopub.execute_input": "2022-09-18T12:17:13.476743Z",
     "iopub.status.busy": "2022-09-18T12:17:13.475975Z",
     "iopub.status.idle": "2022-09-18T12:17:14.119092Z",
     "shell.execute_reply": "2022-09-18T12:17:14.118146Z"
    },
    "papermill": {
     "duration": 0.675972,
     "end_time": "2022-09-18T12:17:14.119216",
     "exception": false,
     "start_time": "2022-09-18T12:17:13.443244",
     "status": "completed"
    },
    "tags": []
   },
   "outputs": [],
   "source": [
    "#hide\n",
    "COL_REGION = 'Country/Region'\n",
    "# Confirmed, Recovered, Deaths\n",
    "df = get_frame('confirmed')\n",
    "# dft_: timeseries, dfc_: today country agg\n",
    "dft_cases = df\n",
    "dft_deaths = get_frame('deaths')\n",
    "dft_recovered = get_frame('recovered')\n",
    "LAST_DATE_I, dt_cols = get_dates(df)"
   ]
  },
  {
   "cell_type": "code",
   "execution_count": 10,
   "id": "absolute-copper",
   "metadata": {
    "execution": {
     "iopub.execute_input": "2022-09-18T12:17:14.183689Z",
     "iopub.status.busy": "2022-09-18T12:17:14.183123Z",
     "iopub.status.idle": "2022-09-18T12:17:14.185074Z",
     "shell.execute_reply": "2022-09-18T12:17:14.185531Z"
    },
    "papermill": {
     "duration": 0.036329,
     "end_time": "2022-09-18T12:17:14.185649",
     "exception": false,
     "start_time": "2022-09-18T12:17:14.149320",
     "status": "completed"
    },
    "tags": []
   },
   "outputs": [],
   "source": [
    "#hide\n",
    "LAST_DATE_I, dt_cols = get_dates(df)\n",
    "dt_today =dt_cols[LAST_DATE_I]\n",
    "# dt_5day = dt_cols[LAST_DATE_I - 5]\n",
    "dt_yday = dt_cols[LAST_DATE_I - 1]"
   ]
  },
  {
   "cell_type": "code",
   "execution_count": 11,
   "id": "restricted-sheriff",
   "metadata": {
    "execution": {
     "iopub.execute_input": "2022-09-18T12:17:14.249045Z",
     "iopub.status.busy": "2022-09-18T12:17:14.248484Z",
     "iopub.status.idle": "2022-09-18T12:17:14.255725Z",
     "shell.execute_reply": "2022-09-18T12:17:14.256170Z"
    },
    "papermill": {
     "duration": 0.041067,
     "end_time": "2022-09-18T12:17:14.256275",
     "exception": false,
     "start_time": "2022-09-18T12:17:14.215208",
     "status": "completed"
    },
    "tags": []
   },
   "outputs": [],
   "source": [
    "#hide\n",
    "dfc_cases = dft_cases.groupby(COL_REGION)[dt_today].sum()\n",
    "dfc_deaths = dft_deaths.groupby(COL_REGION)[dt_today].sum()\n",
    "# dfp_cases = dft_cases.groupby(COL_REGION)[dt_5day].sum()\n",
    "# dfp_deaths = dft_deaths.groupby(COL_REGION)[dt_5day].sum()\n",
    "dfp_cases = dft_cases.groupby(COL_REGION)[dt_yday].sum()\n",
    "dfp_deaths = dft_deaths.groupby(COL_REGION)[dt_yday].sum()"
   ]
  },
  {
   "cell_type": "code",
   "execution_count": 12,
   "id": "deluxe-hepatitis",
   "metadata": {
    "execution": {
     "iopub.execute_input": "2022-09-18T12:17:14.320017Z",
     "iopub.status.busy": "2022-09-18T12:17:14.319462Z",
     "iopub.status.idle": "2022-09-18T12:17:14.324414Z",
     "shell.execute_reply": "2022-09-18T12:17:14.324923Z"
    },
    "papermill": {
     "duration": 0.039048,
     "end_time": "2022-09-18T12:17:14.325026",
     "exception": false,
     "start_time": "2022-09-18T12:17:14.285978",
     "status": "completed"
    },
    "tags": []
   },
   "outputs": [],
   "source": [
    "#hide\n",
    "df_table = (pd.DataFrame(dict(Cases = dfc_cases, Deaths = dfc_deaths, PCases = dfp_cases, PDeaths = dfp_deaths))\n",
    "            .sort_values(by = ['Cases','Deaths'], ascending = [False, False])\n",
    "            .reset_index())"
   ]
  },
  {
   "cell_type": "code",
   "execution_count": 13,
   "id": "educational-chancellor",
   "metadata": {
    "execution": {
     "iopub.execute_input": "2022-09-18T12:17:14.399057Z",
     "iopub.status.busy": "2022-09-18T12:17:14.398493Z",
     "iopub.status.idle": "2022-09-18T12:17:14.406629Z",
     "shell.execute_reply": "2022-09-18T12:17:14.406182Z"
    },
    "papermill": {
     "duration": 0.052075,
     "end_time": "2022-09-18T12:17:14.406721",
     "exception": false,
     "start_time": "2022-09-18T12:17:14.354646",
     "status": "completed"
    },
    "tags": []
   },
   "outputs": [
    {
     "data": {
      "text/html": [
       "<div>\n",
       "<style scoped>\n",
       "    .dataframe tbody tr th:only-of-type {\n",
       "        vertical-align: middle;\n",
       "    }\n",
       "\n",
       "    .dataframe tbody tr th {\n",
       "        vertical-align: top;\n",
       "    }\n",
       "\n",
       "    .dataframe thead th {\n",
       "        text-align: right;\n",
       "    }\n",
       "</style>\n",
       "<table border=\"1\" class=\"dataframe\">\n",
       "  <thead>\n",
       "    <tr style=\"text-align: right;\">\n",
       "      <th></th>\n",
       "      <th>Country/Region</th>\n",
       "      <th>Cases</th>\n",
       "      <th>Deaths</th>\n",
       "      <th>PCases</th>\n",
       "      <th>PDeaths</th>\n",
       "      <th>Cases (+)</th>\n",
       "      <th>Deaths (+)</th>\n",
       "      <th>Fatality Rate</th>\n",
       "      <th>Continent</th>\n",
       "    </tr>\n",
       "  </thead>\n",
       "  <tbody>\n",
       "    <tr>\n",
       "      <th>0</th>\n",
       "      <td>US</td>\n",
       "      <td>95653526</td>\n",
       "      <td>1053412</td>\n",
       "      <td>95645794</td>\n",
       "      <td>1053389</td>\n",
       "      <td>7732</td>\n",
       "      <td>23</td>\n",
       "      <td>1.10</td>\n",
       "      <td>North America</td>\n",
       "    </tr>\n",
       "    <tr>\n",
       "      <th>1</th>\n",
       "      <td>India</td>\n",
       "      <td>44534188</td>\n",
       "      <td>528337</td>\n",
       "      <td>44528524</td>\n",
       "      <td>528302</td>\n",
       "      <td>5664</td>\n",
       "      <td>35</td>\n",
       "      <td>1.19</td>\n",
       "      <td>Asia</td>\n",
       "    </tr>\n",
       "    <tr>\n",
       "      <th>2</th>\n",
       "      <td>France</td>\n",
       "      <td>35076991</td>\n",
       "      <td>155712</td>\n",
       "      <td>35076991</td>\n",
       "      <td>155712</td>\n",
       "      <td>0</td>\n",
       "      <td>0</td>\n",
       "      <td>0.44</td>\n",
       "      <td>Europe</td>\n",
       "    </tr>\n",
       "    <tr>\n",
       "      <th>3</th>\n",
       "      <td>Brazil</td>\n",
       "      <td>34568833</td>\n",
       "      <td>685203</td>\n",
       "      <td>34568833</td>\n",
       "      <td>685203</td>\n",
       "      <td>0</td>\n",
       "      <td>0</td>\n",
       "      <td>1.98</td>\n",
       "      <td>South America</td>\n",
       "    </tr>\n",
       "    <tr>\n",
       "      <th>4</th>\n",
       "      <td>Germany</td>\n",
       "      <td>32680356</td>\n",
       "      <td>148933</td>\n",
       "      <td>32680355</td>\n",
       "      <td>148933</td>\n",
       "      <td>1</td>\n",
       "      <td>0</td>\n",
       "      <td>0.46</td>\n",
       "      <td>Europe</td>\n",
       "    </tr>\n",
       "  </tbody>\n",
       "</table>\n",
       "</div>"
      ],
      "text/plain": [
       "  Country/Region     Cases   Deaths    PCases  PDeaths  Cases (+)  Deaths (+)  \\\n",
       "0             US  95653526  1053412  95645794  1053389       7732          23   \n",
       "1          India  44534188   528337  44528524   528302       5664          35   \n",
       "2         France  35076991   155712  35076991   155712          0           0   \n",
       "3         Brazil  34568833   685203  34568833   685203          0           0   \n",
       "4        Germany  32680356   148933  32680355   148933          1           0   \n",
       "\n",
       "   Fatality Rate      Continent  \n",
       "0           1.10  North America  \n",
       "1           1.19           Asia  \n",
       "2           0.44         Europe  \n",
       "3           1.98  South America  \n",
       "4           0.46         Europe  "
      ]
     },
     "execution_count": 13,
     "metadata": {},
     "output_type": "execute_result"
    }
   ],
   "source": [
    "#hide\n",
    "for c in 'Cases, Deaths'.split(', '):\n",
    "    df_table[f'{c} (+)'] = (df_table[c] - df_table[f'P{c}']).clip(0)\n",
    "    #Clip ça veut dire, les chiffres negatif sont interdit\n",
    "df_table['Fatality Rate'] = (100* df_table['Deaths']/ df_table['Cases']).round(2)\n",
    "df_table['Continent'] = df_table['Country/Region'].map(mapping['map.continent'])\n",
    "df_table.head(5)"
   ]
  },
  {
   "cell_type": "code",
   "execution_count": 14,
   "id": "aboriginal-bulgaria",
   "metadata": {
    "execution": {
     "iopub.execute_input": "2022-09-18T12:17:14.470642Z",
     "iopub.status.busy": "2022-09-18T12:17:14.470095Z",
     "iopub.status.idle": "2022-09-18T12:17:14.473007Z",
     "shell.execute_reply": "2022-09-18T12:17:14.473468Z"
    },
    "papermill": {
     "duration": 0.036708,
     "end_time": "2022-09-18T12:17:14.473575",
     "exception": false,
     "start_time": "2022-09-18T12:17:14.436867",
     "status": "completed"
    },
    "tags": []
   },
   "outputs": [],
   "source": [
    "#hide\n",
    "#delete problematic countries from table\n",
    "df_table = df_table[~df_table['Country/Region'].isin(['Cape Verde', 'Cruise Ship', 'Kosovo'])]"
   ]
  },
  {
   "cell_type": "code",
   "execution_count": 15,
   "id": "fantastic-effect",
   "metadata": {
    "execution": {
     "iopub.execute_input": "2022-09-18T12:17:14.540366Z",
     "iopub.status.busy": "2022-09-18T12:17:14.539795Z",
     "iopub.status.idle": "2022-09-18T12:17:14.557812Z",
     "shell.execute_reply": "2022-09-18T12:17:14.557355Z"
    },
    "papermill": {
     "duration": 0.054385,
     "end_time": "2022-09-18T12:17:14.557906",
     "exception": false,
     "start_time": "2022-09-18T12:17:14.503521",
     "status": "completed"
    },
    "tags": []
   },
   "outputs": [
    {
     "data": {
      "text/html": [
       "<div>\n",
       "<style scoped>\n",
       "    .dataframe tbody tr th:only-of-type {\n",
       "        vertical-align: middle;\n",
       "    }\n",
       "\n",
       "    .dataframe tbody tr th {\n",
       "        vertical-align: top;\n",
       "    }\n",
       "\n",
       "    .dataframe thead th {\n",
       "        text-align: right;\n",
       "    }\n",
       "</style>\n",
       "<table border=\"1\" class=\"dataframe\">\n",
       "  <thead>\n",
       "    <tr style=\"text-align: right;\">\n",
       "      <th></th>\n",
       "      <th>Country/Region</th>\n",
       "      <th>Cases</th>\n",
       "      <th>Deaths</th>\n",
       "      <th>PCases</th>\n",
       "      <th>PDeaths</th>\n",
       "      <th>Cases (+)</th>\n",
       "      <th>Deaths (+)</th>\n",
       "      <th>Fatality Rate</th>\n",
       "      <th>Continent</th>\n",
       "    </tr>\n",
       "  </thead>\n",
       "  <tbody>\n",
       "    <tr>\n",
       "      <th>0</th>\n",
       "      <td>US</td>\n",
       "      <td>95653526</td>\n",
       "      <td>1053412</td>\n",
       "      <td>95645794</td>\n",
       "      <td>1053389</td>\n",
       "      <td>7732</td>\n",
       "      <td>23</td>\n",
       "      <td>1.1</td>\n",
       "      <td>North America</td>\n",
       "    </tr>\n",
       "    <tr>\n",
       "      <th>1</th>\n",
       "      <td>India</td>\n",
       "      <td>44534188</td>\n",
       "      <td>528337</td>\n",
       "      <td>44528524</td>\n",
       "      <td>528302</td>\n",
       "      <td>5664</td>\n",
       "      <td>35</td>\n",
       "      <td>1.2</td>\n",
       "      <td>Asia</td>\n",
       "    </tr>\n",
       "    <tr>\n",
       "      <th>2</th>\n",
       "      <td>France</td>\n",
       "      <td>35076991</td>\n",
       "      <td>155712</td>\n",
       "      <td>35076991</td>\n",
       "      <td>155712</td>\n",
       "      <td>0</td>\n",
       "      <td>0</td>\n",
       "      <td>0.4</td>\n",
       "      <td>Europe</td>\n",
       "    </tr>\n",
       "    <tr>\n",
       "      <th>3</th>\n",
       "      <td>Brazil</td>\n",
       "      <td>34568833</td>\n",
       "      <td>685203</td>\n",
       "      <td>34568833</td>\n",
       "      <td>685203</td>\n",
       "      <td>0</td>\n",
       "      <td>0</td>\n",
       "      <td>2.0</td>\n",
       "      <td>South America</td>\n",
       "    </tr>\n",
       "    <tr>\n",
       "      <th>4</th>\n",
       "      <td>Germany</td>\n",
       "      <td>32680356</td>\n",
       "      <td>148933</td>\n",
       "      <td>32680355</td>\n",
       "      <td>148933</td>\n",
       "      <td>1</td>\n",
       "      <td>0</td>\n",
       "      <td>0.5</td>\n",
       "      <td>Europe</td>\n",
       "    </tr>\n",
       "  </tbody>\n",
       "</table>\n",
       "</div>"
      ],
      "text/plain": [
       "  Country/Region     Cases   Deaths    PCases  PDeaths  Cases (+)  Deaths (+)  \\\n",
       "0             US  95653526  1053412  95645794  1053389       7732          23   \n",
       "1          India  44534188   528337  44528524   528302       5664          35   \n",
       "2         France  35076991   155712  35076991   155712          0           0   \n",
       "3         Brazil  34568833   685203  34568833   685203          0           0   \n",
       "4        Germany  32680356   148933  32680355   148933          1           0   \n",
       "\n",
       "   Fatality Rate      Continent  \n",
       "0            1.1  North America  \n",
       "1            1.2           Asia  \n",
       "2            0.4         Europe  \n",
       "3            2.0  South America  \n",
       "4            0.5         Europe  "
      ]
     },
     "execution_count": 15,
     "metadata": {},
     "output_type": "execute_result"
    }
   ],
   "source": [
    "#hide\n",
    "df_table = (pd.DataFrame(dict(Cases=dfc_cases, Deaths=dfc_deaths, PCases=dfp_cases, PDeaths=dfp_deaths))\n",
    "             .sort_values(by=['Cases', 'Deaths'], ascending=[False, False])\n",
    "             .reset_index())\n",
    "df_table.rename(columns={'index': 'Country/Region'}, inplace=True)\n",
    "for c in 'Cases, Deaths'.split(', '):\n",
    "    df_table[f'{c} (+)'] = (df_table[c] - df_table[f'P{c}']).clip(0)  # DATA BUG\n",
    "df_table['Fatality Rate'] = (100 * df_table['Deaths'] / df_table['Cases']).round(1)\n",
    "df_table['Continent'] = df_table['Country/Region'].map(mapping['map.continent'])\n",
    "df_table.head(5)"
   ]
  },
  {
   "cell_type": "code",
   "execution_count": 16,
   "id": "fewer-occasion",
   "metadata": {
    "execution": {
     "iopub.execute_input": "2022-09-18T12:17:14.624062Z",
     "iopub.status.busy": "2022-09-18T12:17:14.623512Z",
     "iopub.status.idle": "2022-09-18T12:17:14.625747Z",
     "shell.execute_reply": "2022-09-18T12:17:14.626166Z"
    },
    "papermill": {
     "duration": 0.037686,
     "end_time": "2022-09-18T12:17:14.626269",
     "exception": false,
     "start_time": "2022-09-18T12:17:14.588583",
     "status": "completed"
    },
    "tags": []
   },
   "outputs": [],
   "source": [
    "#hide\n",
    "#delete problematic countries from table\n",
    "df_table = df_table[~df_table['Country/Region'].isin(['Cape Verde', 'Cruise Ship', 'Kosovo'])]"
   ]
  },
  {
   "cell_type": "code",
   "execution_count": 17,
   "id": "related-center",
   "metadata": {
    "execution": {
     "iopub.execute_input": "2022-09-18T12:17:14.694247Z",
     "iopub.status.busy": "2022-09-18T12:17:14.693689Z",
     "iopub.status.idle": "2022-09-18T12:17:14.705426Z",
     "shell.execute_reply": "2022-09-18T12:17:14.704973Z"
    },
    "papermill": {
     "duration": 0.048713,
     "end_time": "2022-09-18T12:17:14.705520",
     "exception": false,
     "start_time": "2022-09-18T12:17:14.656807",
     "status": "completed"
    },
    "tags": []
   },
   "outputs": [],
   "source": [
    "#hide\n",
    "metrics = [df_table.columns[index] for index in [1,2,5,6]]\n",
    "# s_china = df_table[df_table['Country/Region'].eq('China')][metrics].sum().add_prefix('China ')\n",
    "s_us = df_table[df_table['Country/Region'].eq('US')][metrics].sum().add_prefix('US ')\n",
    "s_eu = df_table[df_table['Continent'].eq('Europe')][metrics].sum().add_prefix('EU ')\n",
    "s_ind = df_table[df_table['Country/Region'].eq('India')][metrics].sum().add_prefix('India ')\n",
    "summary = {'updated': pd.to_datetime(dt_today), 'since': pd.to_datetime(dt_yday)}\n",
    "summary = {'updated': pd.to_datetime(dt_today), 'since': pd.to_datetime(dt_yday)}\n",
    "summary = {**summary, **df_table[metrics].sum(), **s_ind, **s_us, **s_eu}"
   ]
  },
  {
   "cell_type": "code",
   "execution_count": 18,
   "id": "engaging-syndrome",
   "metadata": {
    "execution": {
     "iopub.execute_input": "2022-09-18T12:17:14.770626Z",
     "iopub.status.busy": "2022-09-18T12:17:14.770075Z",
     "iopub.status.idle": "2022-09-18T12:17:14.787156Z",
     "shell.execute_reply": "2022-09-18T12:17:14.786714Z"
    },
    "papermill": {
     "duration": 0.051167,
     "end_time": "2022-09-18T12:17:14.787249",
     "exception": false,
     "start_time": "2022-09-18T12:17:14.736082",
     "status": "completed"
    },
    "tags": []
   },
   "outputs": [],
   "source": [
    "#hide\n",
    "dft_ct_new_cases = dft_cases.groupby(COL_REGION)[dt_cols].sum().diff(axis=1).fillna(0).astype(int)"
   ]
  },
  {
   "cell_type": "code",
   "execution_count": 19,
   "id": "neutral-assignment",
   "metadata": {
    "execution": {
     "iopub.execute_input": "2022-09-18T12:17:14.853249Z",
     "iopub.status.busy": "2022-09-18T12:17:14.852681Z",
     "iopub.status.idle": "2022-09-18T12:17:14.854834Z",
     "shell.execute_reply": "2022-09-18T12:17:14.855340Z"
    },
    "papermill": {
     "duration": 0.037713,
     "end_time": "2022-09-18T12:17:14.855443",
     "exception": false,
     "start_time": "2022-09-18T12:17:14.817730",
     "status": "completed"
    },
    "tags": []
   },
   "outputs": [],
   "source": [
    "#hide\n",
    "everydaycases = dft_ct_new_cases.cumsum(axis=1)"
   ]
  },
  {
   "cell_type": "code",
   "execution_count": 20,
   "id": "parliamentary-calgary",
   "metadata": {
    "execution": {
     "iopub.execute_input": "2022-09-18T12:17:14.920044Z",
     "iopub.status.busy": "2022-09-18T12:17:14.919486Z",
     "iopub.status.idle": "2022-09-18T12:17:15.479331Z",
     "shell.execute_reply": "2022-09-18T12:17:15.478847Z"
    },
    "papermill": {
     "duration": 0.59343,
     "end_time": "2022-09-18T12:17:15.479449",
     "exception": false,
     "start_time": "2022-09-18T12:17:14.886019",
     "status": "completed"
    },
    "tags": []
   },
   "outputs": [],
   "source": [
    "#hide\n",
    "import pandas as pd\n",
    "import matplotlib.pyplot as plt\n",
    "import matplotlib.ticker as ticker\n",
    "import matplotlib.animation as animation\n",
    "from IPython.display import HTML"
   ]
  },
  {
   "cell_type": "code",
   "execution_count": 21,
   "id": "lasting-extraction",
   "metadata": {
    "execution": {
     "iopub.execute_input": "2022-09-18T12:17:15.546475Z",
     "iopub.status.busy": "2022-09-18T12:17:15.545917Z",
     "iopub.status.idle": "2022-09-18T12:17:15.552736Z",
     "shell.execute_reply": "2022-09-18T12:17:15.553157Z"
    },
    "papermill": {
     "duration": 0.043085,
     "end_time": "2022-09-18T12:17:15.553275",
     "exception": false,
     "start_time": "2022-09-18T12:17:15.510190",
     "status": "completed"
    },
    "tags": []
   },
   "outputs": [],
   "source": [
    "#hide\n",
    "t = everydaycases.stack()"
   ]
  },
  {
   "cell_type": "code",
   "execution_count": 22,
   "id": "premier-sleeve",
   "metadata": {
    "execution": {
     "iopub.execute_input": "2022-09-18T12:17:15.617836Z",
     "iopub.status.busy": "2022-09-18T12:17:15.617271Z",
     "iopub.status.idle": "2022-09-18T12:17:15.628595Z",
     "shell.execute_reply": "2022-09-18T12:17:15.629089Z"
    },
    "papermill": {
     "duration": 0.045161,
     "end_time": "2022-09-18T12:17:15.629214",
     "exception": false,
     "start_time": "2022-09-18T12:17:15.584053",
     "status": "completed"
    },
    "tags": []
   },
   "outputs": [],
   "source": [
    "#hide\n",
    "g = t.reset_index(['Country/Region'])"
   ]
  },
  {
   "cell_type": "code",
   "execution_count": 23,
   "id": "distributed-pittsburgh",
   "metadata": {
    "execution": {
     "iopub.execute_input": "2022-09-18T12:17:15.693455Z",
     "iopub.status.busy": "2022-09-18T12:17:15.692854Z",
     "iopub.status.idle": "2022-09-18T12:17:15.695276Z",
     "shell.execute_reply": "2022-09-18T12:17:15.694757Z"
    },
    "papermill": {
     "duration": 0.035758,
     "end_time": "2022-09-18T12:17:15.695368",
     "exception": false,
     "start_time": "2022-09-18T12:17:15.659610",
     "status": "completed"
    },
    "tags": []
   },
   "outputs": [],
   "source": [
    "#hide\n",
    "g.index.name = 'date'"
   ]
  },
  {
   "cell_type": "code",
   "execution_count": 24,
   "id": "naked-donor",
   "metadata": {
    "execution": {
     "iopub.execute_input": "2022-09-18T12:17:15.759558Z",
     "iopub.status.busy": "2022-09-18T12:17:15.758991Z",
     "iopub.status.idle": "2022-09-18T12:17:15.761457Z",
     "shell.execute_reply": "2022-09-18T12:17:15.760918Z"
    },
    "papermill": {
     "duration": 0.035567,
     "end_time": "2022-09-18T12:17:15.761551",
     "exception": false,
     "start_time": "2022-09-18T12:17:15.725984",
     "status": "completed"
    },
    "tags": []
   },
   "outputs": [],
   "source": [
    "# #hide\n",
    "# g = g.reset_index(['date'])"
   ]
  },
  {
   "cell_type": "code",
   "execution_count": 25,
   "id": "incomplete-mustang",
   "metadata": {
    "execution": {
     "iopub.execute_input": "2022-09-18T12:17:15.825612Z",
     "iopub.status.busy": "2022-09-18T12:17:15.825035Z",
     "iopub.status.idle": "2022-09-18T12:17:15.827401Z",
     "shell.execute_reply": "2022-09-18T12:17:15.826986Z"
    },
    "papermill": {
     "duration": 0.035442,
     "end_time": "2022-09-18T12:17:15.827494",
     "exception": false,
     "start_time": "2022-09-18T12:17:15.792052",
     "status": "completed"
    },
    "tags": []
   },
   "outputs": [],
   "source": [
    "#hide\n",
    "# g.head()"
   ]
  },
  {
   "cell_type": "code",
   "execution_count": 26,
   "id": "specific-kruger",
   "metadata": {
    "execution": {
     "iopub.execute_input": "2022-09-18T12:17:15.892332Z",
     "iopub.status.busy": "2022-09-18T12:17:15.891758Z",
     "iopub.status.idle": "2022-09-18T12:17:15.893802Z",
     "shell.execute_reply": "2022-09-18T12:17:15.894217Z"
    },
    "papermill": {
     "duration": 0.035736,
     "end_time": "2022-09-18T12:17:15.894321",
     "exception": false,
     "start_time": "2022-09-18T12:17:15.858585",
     "status": "completed"
    },
    "tags": []
   },
   "outputs": [],
   "source": [
    "#hide\n",
    "# g.columns = ['date','country','cases']"
   ]
  },
  {
   "cell_type": "code",
   "execution_count": 27,
   "id": "tender-conversion",
   "metadata": {
    "execution": {
     "iopub.execute_input": "2022-09-18T12:17:15.958550Z",
     "iopub.status.busy": "2022-09-18T12:17:15.957985Z",
     "iopub.status.idle": "2022-09-18T12:17:15.960438Z",
     "shell.execute_reply": "2022-09-18T12:17:15.959921Z"
    },
    "papermill": {
     "duration": 0.035734,
     "end_time": "2022-09-18T12:17:15.960529",
     "exception": false,
     "start_time": "2022-09-18T12:17:15.924795",
     "status": "completed"
    },
    "tags": []
   },
   "outputs": [],
   "source": [
    "#hide\n",
    "# g['continent'] = g.country"
   ]
  },
  {
   "cell_type": "code",
   "execution_count": 28,
   "id": "substantial-wilderness",
   "metadata": {
    "execution": {
     "iopub.execute_input": "2022-09-18T12:17:16.024980Z",
     "iopub.status.busy": "2022-09-18T12:17:16.024421Z",
     "iopub.status.idle": "2022-09-18T12:17:16.026871Z",
     "shell.execute_reply": "2022-09-18T12:17:16.026349Z"
    },
    "papermill": {
     "duration": 0.035688,
     "end_time": "2022-09-18T12:17:16.026964",
     "exception": false,
     "start_time": "2022-09-18T12:17:15.991276",
     "status": "completed"
    },
    "tags": []
   },
   "outputs": [],
   "source": [
    "#hide\n",
    "# cols = list(g.columns.values)"
   ]
  },
  {
   "cell_type": "code",
   "execution_count": 29,
   "id": "solved-farming",
   "metadata": {
    "execution": {
     "iopub.execute_input": "2022-09-18T12:17:16.091076Z",
     "iopub.status.busy": "2022-09-18T12:17:16.090510Z",
     "iopub.status.idle": "2022-09-18T12:17:16.092971Z",
     "shell.execute_reply": "2022-09-18T12:17:16.092540Z"
    },
    "papermill": {
     "duration": 0.035616,
     "end_time": "2022-09-18T12:17:16.093062",
     "exception": false,
     "start_time": "2022-09-18T12:17:16.057446",
     "status": "completed"
    },
    "tags": []
   },
   "outputs": [],
   "source": [
    "#hide\n",
    "# cols.insert(0, cols.pop())"
   ]
  },
  {
   "cell_type": "code",
   "execution_count": 30,
   "id": "executed-adoption",
   "metadata": {
    "execution": {
     "iopub.execute_input": "2022-09-18T12:17:16.157326Z",
     "iopub.status.busy": "2022-09-18T12:17:16.156690Z",
     "iopub.status.idle": "2022-09-18T12:17:16.158944Z",
     "shell.execute_reply": "2022-09-18T12:17:16.159352Z"
    },
    "papermill": {
     "duration": 0.035717,
     "end_time": "2022-09-18T12:17:16.159460",
     "exception": false,
     "start_time": "2022-09-18T12:17:16.123743",
     "status": "completed"
    },
    "tags": []
   },
   "outputs": [],
   "source": [
    "#hide\n",
    "# g = g[cols]"
   ]
  },
  {
   "cell_type": "code",
   "execution_count": 31,
   "id": "subject-dublin",
   "metadata": {
    "execution": {
     "iopub.execute_input": "2022-09-18T12:17:16.223687Z",
     "iopub.status.busy": "2022-09-18T12:17:16.223132Z",
     "iopub.status.idle": "2022-09-18T12:17:16.225056Z",
     "shell.execute_reply": "2022-09-18T12:17:16.224544Z"
    },
    "papermill": {
     "duration": 0.035151,
     "end_time": "2022-09-18T12:17:16.225164",
     "exception": false,
     "start_time": "2022-09-18T12:17:16.190013",
     "status": "completed"
    },
    "tags": []
   },
   "outputs": [],
   "source": [
    "#hide\n",
    "# g['continent'] = g['continent'].map(mapping['map.continent'])"
   ]
  },
  {
   "cell_type": "code",
   "execution_count": 32,
   "id": "freelance-scout",
   "metadata": {
    "execution": {
     "iopub.execute_input": "2022-09-18T12:17:16.289060Z",
     "iopub.status.busy": "2022-09-18T12:17:16.288488Z",
     "iopub.status.idle": "2022-09-18T12:17:16.290377Z",
     "shell.execute_reply": "2022-09-18T12:17:16.289867Z"
    },
    "papermill": {
     "duration": 0.03482,
     "end_time": "2022-09-18T12:17:16.290467",
     "exception": false,
     "start_time": "2022-09-18T12:17:16.255647",
     "status": "completed"
    },
    "tags": []
   },
   "outputs": [],
   "source": [
    "#hide\n",
    "# g.head()"
   ]
  },
  {
   "cell_type": "code",
   "execution_count": 33,
   "id": "limited-engine",
   "metadata": {
    "execution": {
     "iopub.execute_input": "2022-09-18T12:17:16.354376Z",
     "iopub.status.busy": "2022-09-18T12:17:16.353828Z",
     "iopub.status.idle": "2022-09-18T12:17:16.355977Z",
     "shell.execute_reply": "2022-09-18T12:17:16.356385Z"
    },
    "papermill": {
     "duration": 0.035578,
     "end_time": "2022-09-18T12:17:16.356491",
     "exception": false,
     "start_time": "2022-09-18T12:17:16.320913",
     "status": "completed"
    },
    "tags": []
   },
   "outputs": [],
   "source": [
    "# hide\n",
    "# g['date'] = g['date'].astype('datetime64[ns]')"
   ]
  },
  {
   "cell_type": "code",
   "execution_count": 34,
   "id": "sophisticated-supervisor",
   "metadata": {
    "execution": {
     "iopub.execute_input": "2022-09-18T12:17:16.420779Z",
     "iopub.status.busy": "2022-09-18T12:17:16.420220Z",
     "iopub.status.idle": "2022-09-18T12:17:16.422126Z",
     "shell.execute_reply": "2022-09-18T12:17:16.421617Z"
    },
    "papermill": {
     "duration": 0.035084,
     "end_time": "2022-09-18T12:17:16.422215",
     "exception": false,
     "start_time": "2022-09-18T12:17:16.387131",
     "status": "completed"
    },
    "tags": []
   },
   "outputs": [],
   "source": [
    "#hide\n",
    "# g['date'] = g.date.dt.dayofyear"
   ]
  },
  {
   "cell_type": "code",
   "execution_count": 35,
   "id": "inside-dubai",
   "metadata": {
    "execution": {
     "iopub.execute_input": "2022-09-18T12:17:16.486262Z",
     "iopub.status.busy": "2022-09-18T12:17:16.485697Z",
     "iopub.status.idle": "2022-09-18T12:17:16.487588Z",
     "shell.execute_reply": "2022-09-18T12:17:16.487076Z"
    },
    "papermill": {
     "duration": 0.034955,
     "end_time": "2022-09-18T12:17:16.487679",
     "exception": false,
     "start_time": "2022-09-18T12:17:16.452724",
     "status": "completed"
    },
    "tags": []
   },
   "outputs": [],
   "source": [
    "#hide\n",
    "# g = g.rename(columns= {'continent':'group','country':'name','cases':'value'})"
   ]
  },
  {
   "cell_type": "code",
   "execution_count": 36,
   "id": "fleet-motorcycle",
   "metadata": {
    "execution": {
     "iopub.execute_input": "2022-09-18T12:17:16.551874Z",
     "iopub.status.busy": "2022-09-18T12:17:16.551318Z",
     "iopub.status.idle": "2022-09-18T12:17:16.553321Z",
     "shell.execute_reply": "2022-09-18T12:17:16.553756Z"
    },
    "papermill": {
     "duration": 0.035494,
     "end_time": "2022-09-18T12:17:16.553859",
     "exception": false,
     "start_time": "2022-09-18T12:17:16.518365",
     "status": "completed"
    },
    "tags": []
   },
   "outputs": [],
   "source": [
    "#hide\n",
    "# cols = ['name','group','day','value']"
   ]
  },
  {
   "cell_type": "code",
   "execution_count": 37,
   "id": "continued-sleeping",
   "metadata": {
    "execution": {
     "iopub.execute_input": "2022-09-18T12:17:16.617987Z",
     "iopub.status.busy": "2022-09-18T12:17:16.617415Z",
     "iopub.status.idle": "2022-09-18T12:17:16.620184Z",
     "shell.execute_reply": "2022-09-18T12:17:16.619734Z"
    },
    "papermill": {
     "duration": 0.035766,
     "end_time": "2022-09-18T12:17:16.620275",
     "exception": false,
     "start_time": "2022-09-18T12:17:16.584509",
     "status": "completed"
    },
    "tags": []
   },
   "outputs": [],
   "source": [
    "#hide\n",
    "# g.rename(columns= {'date':'day'},inplace = True)"
   ]
  },
  {
   "cell_type": "code",
   "execution_count": 38,
   "id": "major-fight",
   "metadata": {
    "execution": {
     "iopub.execute_input": "2022-09-18T12:17:16.684486Z",
     "iopub.status.busy": "2022-09-18T12:17:16.683928Z",
     "iopub.status.idle": "2022-09-18T12:17:16.685769Z",
     "shell.execute_reply": "2022-09-18T12:17:16.686196Z"
    },
    "papermill": {
     "duration": 0.035367,
     "end_time": "2022-09-18T12:17:16.686299",
     "exception": false,
     "start_time": "2022-09-18T12:17:16.650932",
     "status": "completed"
    },
    "tags": []
   },
   "outputs": [],
   "source": [
    "#hide\n",
    "# g = g[cols]"
   ]
  },
  {
   "cell_type": "code",
   "execution_count": 39,
   "id": "structured-mobile",
   "metadata": {
    "execution": {
     "iopub.execute_input": "2022-09-18T12:17:16.750327Z",
     "iopub.status.busy": "2022-09-18T12:17:16.749757Z",
     "iopub.status.idle": "2022-09-18T12:17:16.752103Z",
     "shell.execute_reply": "2022-09-18T12:17:16.751587Z"
    },
    "papermill": {
     "duration": 0.035432,
     "end_time": "2022-09-18T12:17:16.752194",
     "exception": false,
     "start_time": "2022-09-18T12:17:16.716762",
     "status": "completed"
    },
    "tags": []
   },
   "outputs": [],
   "source": [
    "# #hide\n",
    "# g = g[g.group.notna()]"
   ]
  },
  {
   "cell_type": "code",
   "execution_count": 40,
   "id": "determined-closing",
   "metadata": {
    "execution": {
     "iopub.execute_input": "2022-09-18T12:17:16.816646Z",
     "iopub.status.busy": "2022-09-18T12:17:16.816066Z",
     "iopub.status.idle": "2022-09-18T12:17:16.818250Z",
     "shell.execute_reply": "2022-09-18T12:17:16.818652Z"
    },
    "papermill": {
     "duration": 0.035898,
     "end_time": "2022-09-18T12:17:16.818759",
     "exception": false,
     "start_time": "2022-09-18T12:17:16.782861",
     "status": "completed"
    },
    "tags": []
   },
   "outputs": [],
   "source": [
    "# #hide\n",
    "# colors = dict(zip(\n",
    "#     [\"Oceania\", \"Europe\", \"Asia\", \"South America\", \"Middle East\", \"North America\", \"Africa\"],\n",
    "#     [\"#adb0ff\", \"#ffb3ff\", \"#90d595\", \"#e48381\", \"#aafbff\", \"#f7bb5f\", \"#eafb50\"]\n",
    "# ))\n",
    "# group_lk = g.set_index('name')['group'].to_dict()"
   ]
  },
  {
   "cell_type": "code",
   "execution_count": null,
   "id": "gross-drinking",
   "metadata": {
    "papermill": {
     "duration": 0.030838,
     "end_time": "2022-09-18T12:17:16.880144",
     "exception": false,
     "start_time": "2022-09-18T12:17:16.849306",
     "status": "completed"
    },
    "tags": []
   },
   "outputs": [],
   "source": []
  },
  {
   "cell_type": "code",
   "execution_count": 41,
   "id": "subject-macintosh",
   "metadata": {
    "execution": {
     "iopub.execute_input": "2022-09-18T12:17:16.944967Z",
     "iopub.status.busy": "2022-09-18T12:17:16.944388Z",
     "iopub.status.idle": "2022-09-18T12:17:16.946300Z",
     "shell.execute_reply": "2022-09-18T12:17:16.945787Z"
    },
    "papermill": {
     "duration": 0.035609,
     "end_time": "2022-09-18T12:17:16.946391",
     "exception": false,
     "start_time": "2022-09-18T12:17:16.910782",
     "status": "completed"
    },
    "tags": []
   },
   "outputs": [],
   "source": [
    "# #hide\n",
    "# fig, ax = plt.subplots(figsize=(15, 8))\n",
    "\n",
    "# def draw_barchart(current_day):\n",
    "#     dff = g[g['day'].eq(current_day)].sort_values(by='value', ascending=True).tail(10)\n",
    "#     ax.clear()\n",
    "#     ax.barh(dff['name'], dff['value'], color=[colors[group_lk[x]] for x in dff['name']])\n",
    "#     dx = dff['value'].max() / 200\n",
    "    \n",
    "#     for i, (value, name) in enumerate(zip(dff['value'], dff['name'])):\n",
    "#         ax.text(value-dx, i,     name,           size=14, weight=600, ha='right', va='bottom')\n",
    "#         ax.text(value-dx, i-.25, group_lk[name], size=10, color='#444444', ha='right', va='baseline')\n",
    "#         ax.text(value+dx, i,     f'{value:,.0f}',  size=14, ha='left',  va='center')\n",
    "#     ax.text(1, 0.4, current_day, transform=ax.transAxes, color='#777777', size=46, ha='right', weight=800)\n",
    "#     ax.text(0, 1.06, 'Population (thousands)', transform=ax.transAxes, size=12, color='#777777')\n",
    "#     ax.xaxis.set_major_formatter(ticker.StrMethodFormatter('{x:,.0f}'))\n",
    "#     ax.xaxis.set_ticks_position('top')\n",
    "#     ax.tick_params(axis='x', colors='#777777', labelsize=12)\n",
    "#     ax.set_yticks([])\n",
    "#     ax.margins(0, 0.01)\n",
    "#     ax.grid(which='major', axis='x', linestyle='-')\n",
    "#     ax.set_axisbelow(True)\n",
    "    \n",
    "#     ax.text(0, 1.15, 'Coronavirus',\n",
    "#             transform=ax.transAxes, size=24, weight=600, ha='left', va='top')\n",
    "# #     ax.text(1, 0, 'by @pratapvardhan; credit @jburnmurdoch', transform=ax.transAxes, color='#777777', ha='right',\n",
    "# #             bbox=dict(facecolor='white', alpha=0.8, edgecolor='white'))\n",
    "#     plt.box(False)"
   ]
  },
  {
   "cell_type": "code",
   "execution_count": 42,
   "id": "sexual-wages",
   "metadata": {
    "execution": {
     "iopub.execute_input": "2022-09-18T12:17:17.010758Z",
     "iopub.status.busy": "2022-09-18T12:17:17.010205Z",
     "iopub.status.idle": "2022-09-18T12:17:17.012078Z",
     "shell.execute_reply": "2022-09-18T12:17:17.011571Z"
    },
    "papermill": {
     "duration": 0.035054,
     "end_time": "2022-09-18T12:17:17.012167",
     "exception": false,
     "start_time": "2022-09-18T12:17:16.977113",
     "status": "completed"
    },
    "tags": []
   },
   "outputs": [],
   "source": [
    "# #hide_input\n",
    "# fig, ax = plt.subplots(figsize=(15, 8))\n",
    "# animator = animation.FuncAnimation(fig, draw_barchart, frames=range(g.day.values.min(), g.day.values.max()))\n",
    "# HTML(animator.to_jshtml())\n",
    "# # or use animator.to_html5_video() or animator.save() "
   ]
  },
  {
   "cell_type": "code",
   "execution_count": null,
   "id": "australian-container",
   "metadata": {
    "papermill": {
     "duration": 0.030524,
     "end_time": "2022-09-18T12:17:17.073380",
     "exception": false,
     "start_time": "2022-09-18T12:17:17.042856",
     "status": "completed"
    },
    "tags": []
   },
   "outputs": [],
   "source": []
  },
  {
   "cell_type": "code",
   "execution_count": null,
   "id": "mediterranean-pontiac",
   "metadata": {
    "papermill": {
     "duration": 0.030493,
     "end_time": "2022-09-18T12:17:17.134407",
     "exception": false,
     "start_time": "2022-09-18T12:17:17.103914",
     "status": "completed"
    },
    "tags": []
   },
   "outputs": [],
   "source": []
  },
  {
   "cell_type": "code",
   "execution_count": null,
   "id": "aging-legislature",
   "metadata": {
    "papermill": {
     "duration": 0.030443,
     "end_time": "2022-09-18T12:17:17.195554",
     "exception": false,
     "start_time": "2022-09-18T12:17:17.165111",
     "status": "completed"
    },
    "tags": []
   },
   "outputs": [],
   "source": []
  }
 ],
 "metadata": {
  "kernelspec": {
   "display_name": "Python 3",
   "language": "python",
   "name": "python3"
  },
  "language_info": {
   "codemirror_mode": {
    "name": "ipython",
    "version": 3
   },
   "file_extension": ".py",
   "mimetype": "text/x-python",
   "name": "python",
   "nbconvert_exporter": "python",
   "pygments_lexer": "ipython3",
   "version": "3.6.15"
  },
  "papermill": {
   "duration": 5.97252,
   "end_time": "2022-09-18T12:17:17.543128",
   "environment_variables": {},
   "exception": null,
   "input_path": "2020-03-21-covid19exp.ipynb",
   "output_path": "2020-03-21-covid19exp.ipynb",
   "parameters": {},
   "start_time": "2022-09-18T12:17:11.570608",
   "version": "2.0.0"
  }
 },
 "nbformat": 4,
 "nbformat_minor": 5
}