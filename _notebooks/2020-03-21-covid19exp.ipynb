{
 "cells": [
  {
   "cell_type": "markdown",
   "id": "muslim-click",
   "metadata": {
    "papermill": {
     "duration": 0.038218,
     "end_time": "2021-10-14T12:12:07.150064",
     "exception": false,
     "start_time": "2021-10-14T12:12:07.111846",
     "status": "completed"
    },
    "tags": []
   },
   "source": [
    "# COVID-19 Case Race\n",
    "> A race chart to see rising cases around the world\n",
    "\n",
    "- author: Hargun Oberoi\n",
    "- image: images/covid-overview.png\n",
    "- hide: false\n",
    "- badges: false"
   ]
  },
  {
   "cell_type": "code",
   "execution_count": 1,
   "id": "proof-material",
   "metadata": {
    "execution": {
     "iopub.execute_input": "2021-10-14T12:12:07.228926Z",
     "iopub.status.busy": "2021-10-14T12:12:07.228275Z",
     "iopub.status.idle": "2021-10-14T12:12:07.667197Z",
     "shell.execute_reply": "2021-10-14T12:12:07.666286Z"
    },
    "papermill": {
     "duration": 0.483238,
     "end_time": "2021-10-14T12:12:07.667452",
     "exception": false,
     "start_time": "2021-10-14T12:12:07.184214",
     "status": "completed"
    },
    "tags": []
   },
   "outputs": [],
   "source": [
    "#hide\n",
    "import numpy as np\n",
    "import pandas as pd\n",
    "from jinja2 import Template\n",
    "from IPython.display import HTML"
   ]
  },
  {
   "cell_type": "code",
   "execution_count": 2,
   "id": "developed-terminology",
   "metadata": {
    "execution": {
     "iopub.execute_input": "2021-10-14T12:12:07.743140Z",
     "iopub.status.busy": "2021-10-14T12:12:07.742515Z",
     "iopub.status.idle": "2021-10-14T12:12:07.745250Z",
     "shell.execute_reply": "2021-10-14T12:12:07.745731Z"
    },
    "papermill": {
     "duration": 0.043722,
     "end_time": "2021-10-14T12:12:07.745881",
     "exception": false,
     "start_time": "2021-10-14T12:12:07.702159",
     "status": "completed"
    },
    "tags": []
   },
   "outputs": [],
   "source": [
    "#hide\n",
    "\n",
    "# FETCH\n",
    "base_url = 'https://raw.githubusercontent.com/pratapvardhan/notebooks/master/covid19/'\n",
    "paths = {\n",
    "    'mapping': base_url + 'mapping_countries.csv',\n",
    "    'overview': base_url + 'overview.tpl'\n",
    "}"
   ]
  },
  {
   "cell_type": "code",
   "execution_count": 3,
   "id": "dynamic-saver",
   "metadata": {
    "execution": {
     "iopub.execute_input": "2021-10-14T12:12:07.828095Z",
     "iopub.status.busy": "2021-10-14T12:12:07.827475Z",
     "iopub.status.idle": "2021-10-14T12:12:07.830672Z",
     "shell.execute_reply": "2021-10-14T12:12:07.830164Z"
    },
    "papermill": {
     "duration": 0.051823,
     "end_time": "2021-10-14T12:12:07.830799",
     "exception": false,
     "start_time": "2021-10-14T12:12:07.778976",
     "status": "completed"
    },
    "tags": []
   },
   "outputs": [
    {
     "data": {
      "text/plain": [
       "'https://raw.githubusercontent.com/pratapvardhan/notebooks/master/covid19/mapping_countries.csv'"
      ]
     },
     "execution_count": 3,
     "metadata": {},
     "output_type": "execute_result"
    }
   ],
   "source": [
    "#hide\n",
    "paths['mapping']"
   ]
  },
  {
   "cell_type": "code",
   "execution_count": 4,
   "id": "urban-software",
   "metadata": {
    "execution": {
     "iopub.execute_input": "2021-10-14T12:12:07.906284Z",
     "iopub.status.busy": "2021-10-14T12:12:07.905675Z",
     "iopub.status.idle": "2021-10-14T12:12:07.907183Z",
     "shell.execute_reply": "2021-10-14T12:12:07.907732Z"
    },
    "papermill": {
     "duration": 0.043193,
     "end_time": "2021-10-14T12:12:07.907886",
     "exception": false,
     "start_time": "2021-10-14T12:12:07.864693",
     "status": "completed"
    },
    "tags": []
   },
   "outputs": [],
   "source": [
    "#hide\n",
    "def get_mappings(url):\n",
    "    df = pd.read_csv(url)\n",
    "    return {\n",
    "        'df': df,\n",
    "        'replace.country': dict(df.dropna(subset=['Name']).set_index('Country')['Name']),\n",
    "        'map.continent': dict(df.set_index('Name')['Continent'])\n",
    "    }"
   ]
  },
  {
   "cell_type": "code",
   "execution_count": 5,
   "id": "intimate-machinery",
   "metadata": {
    "execution": {
     "iopub.execute_input": "2021-10-14T12:12:07.985018Z",
     "iopub.status.busy": "2021-10-14T12:12:07.984400Z",
     "iopub.status.idle": "2021-10-14T12:12:08.053557Z",
     "shell.execute_reply": "2021-10-14T12:12:08.052636Z"
    },
    "papermill": {
     "duration": 0.111834,
     "end_time": "2021-10-14T12:12:08.053788",
     "exception": false,
     "start_time": "2021-10-14T12:12:07.941954",
     "status": "completed"
    },
    "tags": []
   },
   "outputs": [],
   "source": [
    "#hide\n",
    "mapping = get_mappings(paths['mapping'])"
   ]
  },
  {
   "cell_type": "code",
   "execution_count": 6,
   "id": "certified-tactics",
   "metadata": {
    "execution": {
     "iopub.execute_input": "2021-10-14T12:12:08.129748Z",
     "iopub.status.busy": "2021-10-14T12:12:08.129125Z",
     "iopub.status.idle": "2021-10-14T12:12:08.131472Z",
     "shell.execute_reply": "2021-10-14T12:12:08.130994Z"
    },
    "papermill": {
     "duration": 0.041908,
     "end_time": "2021-10-14T12:12:08.131606",
     "exception": false,
     "start_time": "2021-10-14T12:12:08.089698",
     "status": "completed"
    },
    "tags": []
   },
   "outputs": [],
   "source": [
    "#hide\n",
    "def get_template(path):\n",
    "    from urllib.parse import urlparse\n",
    "    if bool(urlparse(path).netloc):\n",
    "        from urllib.request import urlopen\n",
    "        return urlopen(path).read().decode('utf8')\n",
    "    return open(path).read()"
   ]
  },
  {
   "cell_type": "code",
   "execution_count": 7,
   "id": "realistic-blast",
   "metadata": {
    "execution": {
     "iopub.execute_input": "2021-10-14T12:12:08.204850Z",
     "iopub.status.busy": "2021-10-14T12:12:08.202579Z",
     "iopub.status.idle": "2021-10-14T12:12:08.207281Z",
     "shell.execute_reply": "2021-10-14T12:12:08.206779Z"
    },
    "papermill": {
     "duration": 0.041974,
     "end_time": "2021-10-14T12:12:08.207409",
     "exception": false,
     "start_time": "2021-10-14T12:12:08.165435",
     "status": "completed"
    },
    "tags": []
   },
   "outputs": [],
   "source": [
    "#hide\n",
    "def get_frame(name):\n",
    "    url = (\n",
    "        'https://raw.githubusercontent.com/CSSEGISandData/COVID-19/master/csse_covid_19_data/'\n",
    "        f'csse_covid_19_time_series/time_series_covid19_{name}_global.csv')\n",
    "    df = pd.read_csv(url)\n",
    "    # rename countries\n",
    "    df['Country/Region'] = df['Country/Region'].replace(mapping['replace.country'])\n",
    "    return df"
   ]
  },
  {
   "cell_type": "code",
   "execution_count": 8,
   "id": "affiliated-characterization",
   "metadata": {
    "execution": {
     "iopub.execute_input": "2021-10-14T12:12:08.283817Z",
     "iopub.status.busy": "2021-10-14T12:12:08.283153Z",
     "iopub.status.idle": "2021-10-14T12:12:08.285988Z",
     "shell.execute_reply": "2021-10-14T12:12:08.285501Z"
    },
    "papermill": {
     "duration": 0.04473,
     "end_time": "2021-10-14T12:12:08.286125",
     "exception": false,
     "start_time": "2021-10-14T12:12:08.241395",
     "status": "completed"
    },
    "tags": []
   },
   "outputs": [],
   "source": [
    "#hide\n",
    "def get_dates(df):\n",
    "    dt_cols = df.columns[~df.columns.isin(['Province/State', 'Country/Region', 'Lat', 'Long'])]\n",
    "    LAST_DATE_I = -1\n",
    "    # sometimes last column may be empty, then go backwards\n",
    "    for i in range(-1, -len(dt_cols), -1):\n",
    "        if not df[dt_cols[i]].fillna(0).eq(0).all():\n",
    "            LAST_DATE_I = i\n",
    "            break\n",
    "    return LAST_DATE_I, dt_cols"
   ]
  },
  {
   "cell_type": "code",
   "execution_count": 9,
   "id": "recent-optimization",
   "metadata": {
    "execution": {
     "iopub.execute_input": "2021-10-14T12:12:08.360889Z",
     "iopub.status.busy": "2021-10-14T12:12:08.360263Z",
     "iopub.status.idle": "2021-10-14T12:12:08.879679Z",
     "shell.execute_reply": "2021-10-14T12:12:08.880509Z"
    },
    "papermill": {
     "duration": 0.560637,
     "end_time": "2021-10-14T12:12:08.880774",
     "exception": false,
     "start_time": "2021-10-14T12:12:08.320137",
     "status": "completed"
    },
    "tags": []
   },
   "outputs": [],
   "source": [
    "#hide\n",
    "COL_REGION = 'Country/Region'\n",
    "# Confirmed, Recovered, Deaths\n",
    "df = get_frame('confirmed')\n",
    "# dft_: timeseries, dfc_: today country agg\n",
    "dft_cases = df\n",
    "dft_deaths = get_frame('deaths')\n",
    "dft_recovered = get_frame('recovered')\n",
    "LAST_DATE_I, dt_cols = get_dates(df)"
   ]
  },
  {
   "cell_type": "code",
   "execution_count": 10,
   "id": "absolute-copper",
   "metadata": {
    "execution": {
     "iopub.execute_input": "2021-10-14T12:12:08.955381Z",
     "iopub.status.busy": "2021-10-14T12:12:08.954778Z",
     "iopub.status.idle": "2021-10-14T12:12:08.958543Z",
     "shell.execute_reply": "2021-10-14T12:12:08.958069Z"
    },
    "papermill": {
     "duration": 0.042165,
     "end_time": "2021-10-14T12:12:08.958674",
     "exception": false,
     "start_time": "2021-10-14T12:12:08.916509",
     "status": "completed"
    },
    "tags": []
   },
   "outputs": [],
   "source": [
    "#hide\n",
    "LAST_DATE_I, dt_cols = get_dates(df)\n",
    "dt_today =dt_cols[LAST_DATE_I]\n",
    "# dt_5day = dt_cols[LAST_DATE_I - 5]\n",
    "dt_yday = dt_cols[LAST_DATE_I - 1]"
   ]
  },
  {
   "cell_type": "code",
   "execution_count": 11,
   "id": "restricted-sheriff",
   "metadata": {
    "execution": {
     "iopub.execute_input": "2021-10-14T12:12:09.036220Z",
     "iopub.status.busy": "2021-10-14T12:12:09.035613Z",
     "iopub.status.idle": "2021-10-14T12:12:09.045501Z",
     "shell.execute_reply": "2021-10-14T12:12:09.044963Z"
    },
    "papermill": {
     "duration": 0.052961,
     "end_time": "2021-10-14T12:12:09.045644",
     "exception": false,
     "start_time": "2021-10-14T12:12:08.992683",
     "status": "completed"
    },
    "tags": []
   },
   "outputs": [],
   "source": [
    "#hide\n",
    "dfc_cases = dft_cases.groupby(COL_REGION)[dt_today].sum()\n",
    "dfc_deaths = dft_deaths.groupby(COL_REGION)[dt_today].sum()\n",
    "# dfp_cases = dft_cases.groupby(COL_REGION)[dt_5day].sum()\n",
    "# dfp_deaths = dft_deaths.groupby(COL_REGION)[dt_5day].sum()\n",
    "dfp_cases = dft_cases.groupby(COL_REGION)[dt_yday].sum()\n",
    "dfp_deaths = dft_deaths.groupby(COL_REGION)[dt_yday].sum()"
   ]
  },
  {
   "cell_type": "code",
   "execution_count": 12,
   "id": "deluxe-hepatitis",
   "metadata": {
    "execution": {
     "iopub.execute_input": "2021-10-14T12:12:09.120698Z",
     "iopub.status.busy": "2021-10-14T12:12:09.120088Z",
     "iopub.status.idle": "2021-10-14T12:12:09.124895Z",
     "shell.execute_reply": "2021-10-14T12:12:09.125526Z"
    },
    "papermill": {
     "duration": 0.045758,
     "end_time": "2021-10-14T12:12:09.125684",
     "exception": false,
     "start_time": "2021-10-14T12:12:09.079926",
     "status": "completed"
    },
    "tags": []
   },
   "outputs": [],
   "source": [
    "#hide\n",
    "df_table = (pd.DataFrame(dict(Cases = dfc_cases, Deaths = dfc_deaths, PCases = dfp_cases, PDeaths = dfp_deaths))\n",
    "            .sort_values(by = ['Cases','Deaths'], ascending = [False, False])\n",
    "            .reset_index())"
   ]
  },
  {
   "cell_type": "code",
   "execution_count": 13,
   "id": "educational-chancellor",
   "metadata": {
    "execution": {
     "iopub.execute_input": "2021-10-14T12:12:09.213417Z",
     "iopub.status.busy": "2021-10-14T12:12:09.212754Z",
     "iopub.status.idle": "2021-10-14T12:12:09.221992Z",
     "shell.execute_reply": "2021-10-14T12:12:09.222546Z"
    },
    "papermill": {
     "duration": 0.063299,
     "end_time": "2021-10-14T12:12:09.222704",
     "exception": false,
     "start_time": "2021-10-14T12:12:09.159405",
     "status": "completed"
    },
    "tags": []
   },
   "outputs": [
    {
     "data": {
      "text/html": [
       "<div>\n",
       "<style scoped>\n",
       "    .dataframe tbody tr th:only-of-type {\n",
       "        vertical-align: middle;\n",
       "    }\n",
       "\n",
       "    .dataframe tbody tr th {\n",
       "        vertical-align: top;\n",
       "    }\n",
       "\n",
       "    .dataframe thead th {\n",
       "        text-align: right;\n",
       "    }\n",
       "</style>\n",
       "<table border=\"1\" class=\"dataframe\">\n",
       "  <thead>\n",
       "    <tr style=\"text-align: right;\">\n",
       "      <th></th>\n",
       "      <th>Country/Region</th>\n",
       "      <th>Cases</th>\n",
       "      <th>Deaths</th>\n",
       "      <th>PCases</th>\n",
       "      <th>PDeaths</th>\n",
       "      <th>Cases (+)</th>\n",
       "      <th>Deaths (+)</th>\n",
       "      <th>Fatality Rate</th>\n",
       "      <th>Continent</th>\n",
       "    </tr>\n",
       "  </thead>\n",
       "  <tbody>\n",
       "    <tr>\n",
       "      <th>0</th>\n",
       "      <td>US</td>\n",
       "      <td>44683014</td>\n",
       "      <td>719525</td>\n",
       "      <td>44562693</td>\n",
       "      <td>716471</td>\n",
       "      <td>120321</td>\n",
       "      <td>3054</td>\n",
       "      <td>1.61</td>\n",
       "      <td>North America</td>\n",
       "    </tr>\n",
       "    <tr>\n",
       "      <th>1</th>\n",
       "      <td>India</td>\n",
       "      <td>34020730</td>\n",
       "      <td>451435</td>\n",
       "      <td>34001743</td>\n",
       "      <td>451189</td>\n",
       "      <td>18987</td>\n",
       "      <td>246</td>\n",
       "      <td>1.33</td>\n",
       "      <td>Asia</td>\n",
       "    </tr>\n",
       "    <tr>\n",
       "      <th>2</th>\n",
       "      <td>Brazil</td>\n",
       "      <td>21597949</td>\n",
       "      <td>601574</td>\n",
       "      <td>21590097</td>\n",
       "      <td>601398</td>\n",
       "      <td>7852</td>\n",
       "      <td>176</td>\n",
       "      <td>2.79</td>\n",
       "      <td>South America</td>\n",
       "    </tr>\n",
       "    <tr>\n",
       "      <th>3</th>\n",
       "      <td>United Kingdom</td>\n",
       "      <td>8311851</td>\n",
       "      <td>138487</td>\n",
       "      <td>8270182</td>\n",
       "      <td>138351</td>\n",
       "      <td>41669</td>\n",
       "      <td>136</td>\n",
       "      <td>1.67</td>\n",
       "      <td>Europe</td>\n",
       "    </tr>\n",
       "    <tr>\n",
       "      <th>4</th>\n",
       "      <td>Russia</td>\n",
       "      <td>7742899</td>\n",
       "      <td>215438</td>\n",
       "      <td>7714973</td>\n",
       "      <td>214476</td>\n",
       "      <td>27926</td>\n",
       "      <td>962</td>\n",
       "      <td>2.78</td>\n",
       "      <td>Europe</td>\n",
       "    </tr>\n",
       "  </tbody>\n",
       "</table>\n",
       "</div>"
      ],
      "text/plain": [
       "   Country/Region     Cases  Deaths    PCases  PDeaths  Cases (+)  Deaths (+)  \\\n",
       "0              US  44683014  719525  44562693   716471     120321        3054   \n",
       "1           India  34020730  451435  34001743   451189      18987         246   \n",
       "2          Brazil  21597949  601574  21590097   601398       7852         176   \n",
       "3  United Kingdom   8311851  138487   8270182   138351      41669         136   \n",
       "4          Russia   7742899  215438   7714973   214476      27926         962   \n",
       "\n",
       "   Fatality Rate      Continent  \n",
       "0           1.61  North America  \n",
       "1           1.33           Asia  \n",
       "2           2.79  South America  \n",
       "3           1.67         Europe  \n",
       "4           2.78         Europe  "
      ]
     },
     "execution_count": 13,
     "metadata": {},
     "output_type": "execute_result"
    }
   ],
   "source": [
    "#hide\n",
    "for c in 'Cases, Deaths'.split(', '):\n",
    "    df_table[f'{c} (+)'] = (df_table[c] - df_table[f'P{c}']).clip(0)\n",
    "    #Clip ça veut dire, les chiffres negatif sont interdit\n",
    "df_table['Fatality Rate'] = (100* df_table['Deaths']/ df_table['Cases']).round(2)\n",
    "df_table['Continent'] = df_table['Country/Region'].map(mapping['map.continent'])\n",
    "df_table.head(5)"
   ]
  },
  {
   "cell_type": "code",
   "execution_count": 14,
   "id": "aboriginal-bulgaria",
   "metadata": {
    "execution": {
     "iopub.execute_input": "2021-10-14T12:12:09.297861Z",
     "iopub.status.busy": "2021-10-14T12:12:09.297240Z",
     "iopub.status.idle": "2021-10-14T12:12:09.301531Z",
     "shell.execute_reply": "2021-10-14T12:12:09.301981Z"
    },
    "papermill": {
     "duration": 0.044842,
     "end_time": "2021-10-14T12:12:09.302145",
     "exception": false,
     "start_time": "2021-10-14T12:12:09.257303",
     "status": "completed"
    },
    "tags": []
   },
   "outputs": [],
   "source": [
    "#hide\n",
    "#delete problematic countries from table\n",
    "df_table = df_table[~df_table['Country/Region'].isin(['Cape Verde', 'Cruise Ship', 'Kosovo'])]"
   ]
  },
  {
   "cell_type": "code",
   "execution_count": 15,
   "id": "fantastic-effect",
   "metadata": {
    "execution": {
     "iopub.execute_input": "2021-10-14T12:12:09.380934Z",
     "iopub.status.busy": "2021-10-14T12:12:09.380332Z",
     "iopub.status.idle": "2021-10-14T12:12:09.401085Z",
     "shell.execute_reply": "2021-10-14T12:12:09.401665Z"
    },
    "papermill": {
     "duration": 0.065368,
     "end_time": "2021-10-14T12:12:09.401848",
     "exception": false,
     "start_time": "2021-10-14T12:12:09.336480",
     "status": "completed"
    },
    "tags": []
   },
   "outputs": [
    {
     "data": {
      "text/html": [
       "<div>\n",
       "<style scoped>\n",
       "    .dataframe tbody tr th:only-of-type {\n",
       "        vertical-align: middle;\n",
       "    }\n",
       "\n",
       "    .dataframe tbody tr th {\n",
       "        vertical-align: top;\n",
       "    }\n",
       "\n",
       "    .dataframe thead th {\n",
       "        text-align: right;\n",
       "    }\n",
       "</style>\n",
       "<table border=\"1\" class=\"dataframe\">\n",
       "  <thead>\n",
       "    <tr style=\"text-align: right;\">\n",
       "      <th></th>\n",
       "      <th>Country/Region</th>\n",
       "      <th>Cases</th>\n",
       "      <th>Deaths</th>\n",
       "      <th>PCases</th>\n",
       "      <th>PDeaths</th>\n",
       "      <th>Cases (+)</th>\n",
       "      <th>Deaths (+)</th>\n",
       "      <th>Fatality Rate</th>\n",
       "      <th>Continent</th>\n",
       "    </tr>\n",
       "  </thead>\n",
       "  <tbody>\n",
       "    <tr>\n",
       "      <th>0</th>\n",
       "      <td>US</td>\n",
       "      <td>44683014</td>\n",
       "      <td>719525</td>\n",
       "      <td>44562693</td>\n",
       "      <td>716471</td>\n",
       "      <td>120321</td>\n",
       "      <td>3054</td>\n",
       "      <td>1.6</td>\n",
       "      <td>North America</td>\n",
       "    </tr>\n",
       "    <tr>\n",
       "      <th>1</th>\n",
       "      <td>India</td>\n",
       "      <td>34020730</td>\n",
       "      <td>451435</td>\n",
       "      <td>34001743</td>\n",
       "      <td>451189</td>\n",
       "      <td>18987</td>\n",
       "      <td>246</td>\n",
       "      <td>1.3</td>\n",
       "      <td>Asia</td>\n",
       "    </tr>\n",
       "    <tr>\n",
       "      <th>2</th>\n",
       "      <td>Brazil</td>\n",
       "      <td>21597949</td>\n",
       "      <td>601574</td>\n",
       "      <td>21590097</td>\n",
       "      <td>601398</td>\n",
       "      <td>7852</td>\n",
       "      <td>176</td>\n",
       "      <td>2.8</td>\n",
       "      <td>South America</td>\n",
       "    </tr>\n",
       "    <tr>\n",
       "      <th>3</th>\n",
       "      <td>United Kingdom</td>\n",
       "      <td>8311851</td>\n",
       "      <td>138487</td>\n",
       "      <td>8270182</td>\n",
       "      <td>138351</td>\n",
       "      <td>41669</td>\n",
       "      <td>136</td>\n",
       "      <td>1.7</td>\n",
       "      <td>Europe</td>\n",
       "    </tr>\n",
       "    <tr>\n",
       "      <th>4</th>\n",
       "      <td>Russia</td>\n",
       "      <td>7742899</td>\n",
       "      <td>215438</td>\n",
       "      <td>7714973</td>\n",
       "      <td>214476</td>\n",
       "      <td>27926</td>\n",
       "      <td>962</td>\n",
       "      <td>2.8</td>\n",
       "      <td>Europe</td>\n",
       "    </tr>\n",
       "  </tbody>\n",
       "</table>\n",
       "</div>"
      ],
      "text/plain": [
       "   Country/Region     Cases  Deaths    PCases  PDeaths  Cases (+)  Deaths (+)  \\\n",
       "0              US  44683014  719525  44562693   716471     120321        3054   \n",
       "1           India  34020730  451435  34001743   451189      18987         246   \n",
       "2          Brazil  21597949  601574  21590097   601398       7852         176   \n",
       "3  United Kingdom   8311851  138487   8270182   138351      41669         136   \n",
       "4          Russia   7742899  215438   7714973   214476      27926         962   \n",
       "\n",
       "   Fatality Rate      Continent  \n",
       "0            1.6  North America  \n",
       "1            1.3           Asia  \n",
       "2            2.8  South America  \n",
       "3            1.7         Europe  \n",
       "4            2.8         Europe  "
      ]
     },
     "execution_count": 15,
     "metadata": {},
     "output_type": "execute_result"
    }
   ],
   "source": [
    "#hide\n",
    "df_table = (pd.DataFrame(dict(Cases=dfc_cases, Deaths=dfc_deaths, PCases=dfp_cases, PDeaths=dfp_deaths))\n",
    "             .sort_values(by=['Cases', 'Deaths'], ascending=[False, False])\n",
    "             .reset_index())\n",
    "df_table.rename(columns={'index': 'Country/Region'}, inplace=True)\n",
    "for c in 'Cases, Deaths'.split(', '):\n",
    "    df_table[f'{c} (+)'] = (df_table[c] - df_table[f'P{c}']).clip(0)  # DATA BUG\n",
    "df_table['Fatality Rate'] = (100 * df_table['Deaths'] / df_table['Cases']).round(1)\n",
    "df_table['Continent'] = df_table['Country/Region'].map(mapping['map.continent'])\n",
    "df_table.head(5)"
   ]
  },
  {
   "cell_type": "code",
   "execution_count": 16,
   "id": "fewer-occasion",
   "metadata": {
    "execution": {
     "iopub.execute_input": "2021-10-14T12:12:09.479119Z",
     "iopub.status.busy": "2021-10-14T12:12:09.478498Z",
     "iopub.status.idle": "2021-10-14T12:12:09.480251Z",
     "shell.execute_reply": "2021-10-14T12:12:09.480755Z"
    },
    "papermill": {
     "duration": 0.043314,
     "end_time": "2021-10-14T12:12:09.480907",
     "exception": false,
     "start_time": "2021-10-14T12:12:09.437593",
     "status": "completed"
    },
    "tags": []
   },
   "outputs": [],
   "source": [
    "#hide\n",
    "#delete problematic countries from table\n",
    "df_table = df_table[~df_table['Country/Region'].isin(['Cape Verde', 'Cruise Ship', 'Kosovo'])]"
   ]
  },
  {
   "cell_type": "code",
   "execution_count": 17,
   "id": "related-center",
   "metadata": {
    "execution": {
     "iopub.execute_input": "2021-10-14T12:12:09.575768Z",
     "iopub.status.busy": "2021-10-14T12:12:09.575092Z",
     "iopub.status.idle": "2021-10-14T12:12:09.578069Z",
     "shell.execute_reply": "2021-10-14T12:12:09.578549Z"
    },
    "papermill": {
     "duration": 0.062951,
     "end_time": "2021-10-14T12:12:09.578706",
     "exception": false,
     "start_time": "2021-10-14T12:12:09.515755",
     "status": "completed"
    },
    "tags": []
   },
   "outputs": [],
   "source": [
    "#hide\n",
    "metrics = [df_table.columns[index] for index in [1,2,5,6]]\n",
    "# s_china = df_table[df_table['Country/Region'].eq('China')][metrics].sum().add_prefix('China ')\n",
    "s_us = df_table[df_table['Country/Region'].eq('US')][metrics].sum().add_prefix('US ')\n",
    "s_eu = df_table[df_table['Continent'].eq('Europe')][metrics].sum().add_prefix('EU ')\n",
    "s_ind = df_table[df_table['Country/Region'].eq('India')][metrics].sum().add_prefix('India ')\n",
    "summary = {'updated': pd.to_datetime(dt_today), 'since': pd.to_datetime(dt_yday)}\n",
    "summary = {'updated': pd.to_datetime(dt_today), 'since': pd.to_datetime(dt_yday)}\n",
    "summary = {**summary, **df_table[metrics].sum(), **s_ind, **s_us, **s_eu}"
   ]
  },
  {
   "cell_type": "code",
   "execution_count": 18,
   "id": "engaging-syndrome",
   "metadata": {
    "execution": {
     "iopub.execute_input": "2021-10-14T12:12:09.656801Z",
     "iopub.status.busy": "2021-10-14T12:12:09.656197Z",
     "iopub.status.idle": "2021-10-14T12:12:09.673747Z",
     "shell.execute_reply": "2021-10-14T12:12:09.673232Z"
    },
    "papermill": {
     "duration": 0.059782,
     "end_time": "2021-10-14T12:12:09.673889",
     "exception": false,
     "start_time": "2021-10-14T12:12:09.614107",
     "status": "completed"
    },
    "tags": []
   },
   "outputs": [],
   "source": [
    "#hide\n",
    "dft_ct_new_cases = dft_cases.groupby(COL_REGION)[dt_cols].sum().diff(axis=1).fillna(0).astype(int)"
   ]
  },
  {
   "cell_type": "code",
   "execution_count": 19,
   "id": "neutral-assignment",
   "metadata": {
    "execution": {
     "iopub.execute_input": "2021-10-14T12:12:09.750061Z",
     "iopub.status.busy": "2021-10-14T12:12:09.749451Z",
     "iopub.status.idle": "2021-10-14T12:12:09.753026Z",
     "shell.execute_reply": "2021-10-14T12:12:09.752549Z"
    },
    "papermill": {
     "duration": 0.044191,
     "end_time": "2021-10-14T12:12:09.753196",
     "exception": false,
     "start_time": "2021-10-14T12:12:09.709005",
     "status": "completed"
    },
    "tags": []
   },
   "outputs": [],
   "source": [
    "#hide\n",
    "everydaycases = dft_ct_new_cases.cumsum(axis=1)"
   ]
  },
  {
   "cell_type": "code",
   "execution_count": 20,
   "id": "parliamentary-calgary",
   "metadata": {
    "execution": {
     "iopub.execute_input": "2021-10-14T12:12:09.828456Z",
     "iopub.status.busy": "2021-10-14T12:12:09.827836Z",
     "iopub.status.idle": "2021-10-14T12:12:10.636343Z",
     "shell.execute_reply": "2021-10-14T12:12:10.635800Z"
    },
    "papermill": {
     "duration": 0.848083,
     "end_time": "2021-10-14T12:12:10.636488",
     "exception": false,
     "start_time": "2021-10-14T12:12:09.788405",
     "status": "completed"
    },
    "tags": []
   },
   "outputs": [],
   "source": [
    "#hide\n",
    "import pandas as pd\n",
    "import matplotlib.pyplot as plt\n",
    "import matplotlib.ticker as ticker\n",
    "import matplotlib.animation as animation\n",
    "from IPython.display import HTML"
   ]
  },
  {
   "cell_type": "code",
   "execution_count": 21,
   "id": "lasting-extraction",
   "metadata": {
    "execution": {
     "iopub.execute_input": "2021-10-14T12:12:10.712852Z",
     "iopub.status.busy": "2021-10-14T12:12:10.712236Z",
     "iopub.status.idle": "2021-10-14T12:12:10.718592Z",
     "shell.execute_reply": "2021-10-14T12:12:10.719043Z"
    },
    "papermill": {
     "duration": 0.047801,
     "end_time": "2021-10-14T12:12:10.719209",
     "exception": false,
     "start_time": "2021-10-14T12:12:10.671408",
     "status": "completed"
    },
    "tags": []
   },
   "outputs": [],
   "source": [
    "#hide\n",
    "t = everydaycases.stack()"
   ]
  },
  {
   "cell_type": "code",
   "execution_count": 22,
   "id": "premier-sleeve",
   "metadata": {
    "execution": {
     "iopub.execute_input": "2021-10-14T12:12:10.796438Z",
     "iopub.status.busy": "2021-10-14T12:12:10.795819Z",
     "iopub.status.idle": "2021-10-14T12:12:10.807113Z",
     "shell.execute_reply": "2021-10-14T12:12:10.807589Z"
    },
    "papermill": {
     "duration": 0.053053,
     "end_time": "2021-10-14T12:12:10.807750",
     "exception": false,
     "start_time": "2021-10-14T12:12:10.754697",
     "status": "completed"
    },
    "tags": []
   },
   "outputs": [],
   "source": [
    "#hide\n",
    "g = t.reset_index(['Country/Region'])"
   ]
  },
  {
   "cell_type": "code",
   "execution_count": 23,
   "id": "distributed-pittsburgh",
   "metadata": {
    "execution": {
     "iopub.execute_input": "2021-10-14T12:12:10.882418Z",
     "iopub.status.busy": "2021-10-14T12:12:10.881813Z",
     "iopub.status.idle": "2021-10-14T12:12:10.883850Z",
     "shell.execute_reply": "2021-10-14T12:12:10.884323Z"
    },
    "papermill": {
     "duration": 0.041917,
     "end_time": "2021-10-14T12:12:10.884473",
     "exception": false,
     "start_time": "2021-10-14T12:12:10.842556",
     "status": "completed"
    },
    "tags": []
   },
   "outputs": [],
   "source": [
    "#hide\n",
    "g.index.name = 'date'"
   ]
  },
  {
   "cell_type": "code",
   "execution_count": 24,
   "id": "naked-donor",
   "metadata": {
    "execution": {
     "iopub.execute_input": "2021-10-14T12:12:10.959529Z",
     "iopub.status.busy": "2021-10-14T12:12:10.958908Z",
     "iopub.status.idle": "2021-10-14T12:12:10.961407Z",
     "shell.execute_reply": "2021-10-14T12:12:10.961985Z"
    },
    "papermill": {
     "duration": 0.042674,
     "end_time": "2021-10-14T12:12:10.962139",
     "exception": false,
     "start_time": "2021-10-14T12:12:10.919465",
     "status": "completed"
    },
    "tags": []
   },
   "outputs": [],
   "source": [
    "# #hide\n",
    "# g = g.reset_index(['date'])"
   ]
  },
  {
   "cell_type": "code",
   "execution_count": 25,
   "id": "incomplete-mustang",
   "metadata": {
    "execution": {
     "iopub.execute_input": "2021-10-14T12:12:11.036615Z",
     "iopub.status.busy": "2021-10-14T12:12:11.036013Z",
     "iopub.status.idle": "2021-10-14T12:12:11.043147Z",
     "shell.execute_reply": "2021-10-14T12:12:11.042600Z"
    },
    "papermill": {
     "duration": 0.046098,
     "end_time": "2021-10-14T12:12:11.043279",
     "exception": false,
     "start_time": "2021-10-14T12:12:10.997181",
     "status": "completed"
    },
    "tags": []
   },
   "outputs": [],
   "source": [
    "#hide\n",
    "# g.head()"
   ]
  },
  {
   "cell_type": "code",
   "execution_count": 26,
   "id": "specific-kruger",
   "metadata": {
    "execution": {
     "iopub.execute_input": "2021-10-14T12:12:11.117679Z",
     "iopub.status.busy": "2021-10-14T12:12:11.117032Z",
     "iopub.status.idle": "2021-10-14T12:12:11.119275Z",
     "shell.execute_reply": "2021-10-14T12:12:11.118804Z"
    },
    "papermill": {
     "duration": 0.040969,
     "end_time": "2021-10-14T12:12:11.119405",
     "exception": false,
     "start_time": "2021-10-14T12:12:11.078436",
     "status": "completed"
    },
    "tags": []
   },
   "outputs": [],
   "source": [
    "#hide\n",
    "# g.columns = ['date','country','cases']"
   ]
  },
  {
   "cell_type": "code",
   "execution_count": 27,
   "id": "tender-conversion",
   "metadata": {
    "execution": {
     "iopub.execute_input": "2021-10-14T12:12:11.193290Z",
     "iopub.status.busy": "2021-10-14T12:12:11.192660Z",
     "iopub.status.idle": "2021-10-14T12:12:11.195079Z",
     "shell.execute_reply": "2021-10-14T12:12:11.195642Z"
    },
    "papermill": {
     "duration": 0.041853,
     "end_time": "2021-10-14T12:12:11.195793",
     "exception": false,
     "start_time": "2021-10-14T12:12:11.153940",
     "status": "completed"
    },
    "tags": []
   },
   "outputs": [],
   "source": [
    "#hide\n",
    "# g['continent'] = g.country"
   ]
  },
  {
   "cell_type": "code",
   "execution_count": 28,
   "id": "substantial-wilderness",
   "metadata": {
    "execution": {
     "iopub.execute_input": "2021-10-14T12:12:11.269556Z",
     "iopub.status.busy": "2021-10-14T12:12:11.268922Z",
     "iopub.status.idle": "2021-10-14T12:12:11.270809Z",
     "shell.execute_reply": "2021-10-14T12:12:11.271251Z"
    },
    "papermill": {
     "duration": 0.040688,
     "end_time": "2021-10-14T12:12:11.271402",
     "exception": false,
     "start_time": "2021-10-14T12:12:11.230714",
     "status": "completed"
    },
    "tags": []
   },
   "outputs": [],
   "source": [
    "#hide\n",
    "# cols = list(g.columns.values)"
   ]
  },
  {
   "cell_type": "code",
   "execution_count": 29,
   "id": "solved-farming",
   "metadata": {
    "execution": {
     "iopub.execute_input": "2021-10-14T12:12:11.346151Z",
     "iopub.status.busy": "2021-10-14T12:12:11.345543Z",
     "iopub.status.idle": "2021-10-14T12:12:11.348524Z",
     "shell.execute_reply": "2021-10-14T12:12:11.349079Z"
    },
    "papermill": {
     "duration": 0.042939,
     "end_time": "2021-10-14T12:12:11.349229",
     "exception": false,
     "start_time": "2021-10-14T12:12:11.306290",
     "status": "completed"
    },
    "tags": []
   },
   "outputs": [],
   "source": [
    "#hide\n",
    "# cols.insert(0, cols.pop())"
   ]
  },
  {
   "cell_type": "code",
   "execution_count": 30,
   "id": "executed-adoption",
   "metadata": {
    "execution": {
     "iopub.execute_input": "2021-10-14T12:12:11.425115Z",
     "iopub.status.busy": "2021-10-14T12:12:11.424447Z",
     "iopub.status.idle": "2021-10-14T12:12:11.425871Z",
     "shell.execute_reply": "2021-10-14T12:12:11.426424Z"
    },
    "papermill": {
     "duration": 0.041948,
     "end_time": "2021-10-14T12:12:11.426575",
     "exception": false,
     "start_time": "2021-10-14T12:12:11.384627",
     "status": "completed"
    },
    "tags": []
   },
   "outputs": [],
   "source": [
    "#hide\n",
    "# g = g[cols]"
   ]
  },
  {
   "cell_type": "code",
   "execution_count": 31,
   "id": "subject-dublin",
   "metadata": {
    "execution": {
     "iopub.execute_input": "2021-10-14T12:12:11.499998Z",
     "iopub.status.busy": "2021-10-14T12:12:11.499380Z",
     "iopub.status.idle": "2021-10-14T12:12:11.502114Z",
     "shell.execute_reply": "2021-10-14T12:12:11.502685Z"
    },
    "papermill": {
     "duration": 0.041731,
     "end_time": "2021-10-14T12:12:11.502841",
     "exception": false,
     "start_time": "2021-10-14T12:12:11.461110",
     "status": "completed"
    },
    "tags": []
   },
   "outputs": [],
   "source": [
    "#hide\n",
    "# g['continent'] = g['continent'].map(mapping['map.continent'])"
   ]
  },
  {
   "cell_type": "code",
   "execution_count": 32,
   "id": "freelance-scout",
   "metadata": {
    "execution": {
     "iopub.execute_input": "2021-10-14T12:12:11.577643Z",
     "iopub.status.busy": "2021-10-14T12:12:11.576995Z",
     "iopub.status.idle": "2021-10-14T12:12:11.579284Z",
     "shell.execute_reply": "2021-10-14T12:12:11.578780Z"
    },
    "papermill": {
     "duration": 0.041575,
     "end_time": "2021-10-14T12:12:11.579415",
     "exception": false,
     "start_time": "2021-10-14T12:12:11.537840",
     "status": "completed"
    },
    "tags": []
   },
   "outputs": [],
   "source": [
    "#hide\n",
    "# g.head()"
   ]
  },
  {
   "cell_type": "code",
   "execution_count": 33,
   "id": "limited-engine",
   "metadata": {
    "execution": {
     "iopub.execute_input": "2021-10-14T12:12:11.655086Z",
     "iopub.status.busy": "2021-10-14T12:12:11.653815Z",
     "iopub.status.idle": "2021-10-14T12:12:11.655758Z",
     "shell.execute_reply": "2021-10-14T12:12:11.656221Z"
    },
    "papermill": {
     "duration": 0.041942,
     "end_time": "2021-10-14T12:12:11.656367",
     "exception": false,
     "start_time": "2021-10-14T12:12:11.614425",
     "status": "completed"
    },
    "tags": []
   },
   "outputs": [],
   "source": [
    "# hide\n",
    "# g['date'] = g['date'].astype('datetime64[ns]')"
   ]
  },
  {
   "cell_type": "code",
   "execution_count": 34,
   "id": "sophisticated-supervisor",
   "metadata": {
    "execution": {
     "iopub.execute_input": "2021-10-14T12:12:11.730755Z",
     "iopub.status.busy": "2021-10-14T12:12:11.730136Z",
     "iopub.status.idle": "2021-10-14T12:12:11.732492Z",
     "shell.execute_reply": "2021-10-14T12:12:11.732014Z"
    },
    "papermill": {
     "duration": 0.04117,
     "end_time": "2021-10-14T12:12:11.732637",
     "exception": false,
     "start_time": "2021-10-14T12:12:11.691467",
     "status": "completed"
    },
    "tags": []
   },
   "outputs": [],
   "source": [
    "#hide\n",
    "# g['date'] = g.date.dt.dayofyear"
   ]
  },
  {
   "cell_type": "code",
   "execution_count": 35,
   "id": "inside-dubai",
   "metadata": {
    "execution": {
     "iopub.execute_input": "2021-10-14T12:12:11.806485Z",
     "iopub.status.busy": "2021-10-14T12:12:11.805875Z",
     "iopub.status.idle": "2021-10-14T12:12:11.807765Z",
     "shell.execute_reply": "2021-10-14T12:12:11.808261Z"
    },
    "papermill": {
     "duration": 0.041006,
     "end_time": "2021-10-14T12:12:11.808413",
     "exception": false,
     "start_time": "2021-10-14T12:12:11.767407",
     "status": "completed"
    },
    "tags": []
   },
   "outputs": [],
   "source": [
    "#hide\n",
    "# g = g.rename(columns= {'continent':'group','country':'name','cases':'value'})"
   ]
  },
  {
   "cell_type": "code",
   "execution_count": 36,
   "id": "fleet-motorcycle",
   "metadata": {
    "execution": {
     "iopub.execute_input": "2021-10-14T12:12:11.882671Z",
     "iopub.status.busy": "2021-10-14T12:12:11.882062Z",
     "iopub.status.idle": "2021-10-14T12:12:11.884178Z",
     "shell.execute_reply": "2021-10-14T12:12:11.884744Z"
    },
    "papermill": {
     "duration": 0.041742,
     "end_time": "2021-10-14T12:12:11.884888",
     "exception": false,
     "start_time": "2021-10-14T12:12:11.843146",
     "status": "completed"
    },
    "tags": []
   },
   "outputs": [],
   "source": [
    "#hide\n",
    "# cols = ['name','group','day','value']"
   ]
  },
  {
   "cell_type": "code",
   "execution_count": 37,
   "id": "continued-sleeping",
   "metadata": {
    "execution": {
     "iopub.execute_input": "2021-10-14T12:12:11.959404Z",
     "iopub.status.busy": "2021-10-14T12:12:11.958788Z",
     "iopub.status.idle": "2021-10-14T12:12:11.961745Z",
     "shell.execute_reply": "2021-10-14T12:12:11.961261Z"
    },
    "papermill": {
     "duration": 0.042378,
     "end_time": "2021-10-14T12:12:11.961877",
     "exception": false,
     "start_time": "2021-10-14T12:12:11.919499",
     "status": "completed"
    },
    "tags": []
   },
   "outputs": [],
   "source": [
    "#hide\n",
    "# g.rename(columns= {'date':'day'},inplace = True)"
   ]
  },
  {
   "cell_type": "code",
   "execution_count": 38,
   "id": "major-fight",
   "metadata": {
    "execution": {
     "iopub.execute_input": "2021-10-14T12:12:12.036704Z",
     "iopub.status.busy": "2021-10-14T12:12:12.036107Z",
     "iopub.status.idle": "2021-10-14T12:12:12.038532Z",
     "shell.execute_reply": "2021-10-14T12:12:12.039099Z"
    },
    "papermill": {
     "duration": 0.042483,
     "end_time": "2021-10-14T12:12:12.039249",
     "exception": false,
     "start_time": "2021-10-14T12:12:11.996766",
     "status": "completed"
    },
    "tags": []
   },
   "outputs": [],
   "source": [
    "#hide\n",
    "# g = g[cols]"
   ]
  },
  {
   "cell_type": "code",
   "execution_count": 39,
   "id": "structured-mobile",
   "metadata": {
    "execution": {
     "iopub.execute_input": "2021-10-14T12:12:12.113300Z",
     "iopub.status.busy": "2021-10-14T12:12:12.112675Z",
     "iopub.status.idle": "2021-10-14T12:12:12.114984Z",
     "shell.execute_reply": "2021-10-14T12:12:12.114486Z"
    },
    "papermill": {
     "duration": 0.04116,
     "end_time": "2021-10-14T12:12:12.115111",
     "exception": false,
     "start_time": "2021-10-14T12:12:12.073951",
     "status": "completed"
    },
    "tags": []
   },
   "outputs": [],
   "source": [
    "# #hide\n",
    "# g = g[g.group.notna()]"
   ]
  },
  {
   "cell_type": "code",
   "execution_count": 40,
   "id": "determined-closing",
   "metadata": {
    "execution": {
     "iopub.execute_input": "2021-10-14T12:12:12.189669Z",
     "iopub.status.busy": "2021-10-14T12:12:12.188991Z",
     "iopub.status.idle": "2021-10-14T12:12:12.191402Z",
     "shell.execute_reply": "2021-10-14T12:12:12.191969Z"
    },
    "papermill": {
     "duration": 0.041797,
     "end_time": "2021-10-14T12:12:12.192127",
     "exception": false,
     "start_time": "2021-10-14T12:12:12.150330",
     "status": "completed"
    },
    "tags": []
   },
   "outputs": [],
   "source": [
    "# #hide\n",
    "# colors = dict(zip(\n",
    "#     [\"Oceania\", \"Europe\", \"Asia\", \"South America\", \"Middle East\", \"North America\", \"Africa\"],\n",
    "#     [\"#adb0ff\", \"#ffb3ff\", \"#90d595\", \"#e48381\", \"#aafbff\", \"#f7bb5f\", \"#eafb50\"]\n",
    "# ))\n",
    "# group_lk = g.set_index('name')['group'].to_dict()"
   ]
  },
  {
   "cell_type": "code",
   "execution_count": null,
   "id": "gross-drinking",
   "metadata": {
    "papermill": {
     "duration": 0.034768,
     "end_time": "2021-10-14T12:12:12.261724",
     "exception": false,
     "start_time": "2021-10-14T12:12:12.226956",
     "status": "completed"
    },
    "tags": []
   },
   "outputs": [],
   "source": []
  },
  {
   "cell_type": "code",
   "execution_count": 41,
   "id": "subject-macintosh",
   "metadata": {
    "execution": {
     "iopub.execute_input": "2021-10-14T12:12:12.335961Z",
     "iopub.status.busy": "2021-10-14T12:12:12.335340Z",
     "iopub.status.idle": "2021-10-14T12:12:12.338101Z",
     "shell.execute_reply": "2021-10-14T12:12:12.337626Z"
    },
    "papermill": {
     "duration": 0.041807,
     "end_time": "2021-10-14T12:12:12.338237",
     "exception": false,
     "start_time": "2021-10-14T12:12:12.296430",
     "status": "completed"
    },
    "tags": []
   },
   "outputs": [],
   "source": [
    "# #hide\n",
    "# fig, ax = plt.subplots(figsize=(15, 8))\n",
    "\n",
    "# def draw_barchart(current_day):\n",
    "#     dff = g[g['day'].eq(current_day)].sort_values(by='value', ascending=True).tail(10)\n",
    "#     ax.clear()\n",
    "#     ax.barh(dff['name'], dff['value'], color=[colors[group_lk[x]] for x in dff['name']])\n",
    "#     dx = dff['value'].max() / 200\n",
    "    \n",
    "#     for i, (value, name) in enumerate(zip(dff['value'], dff['name'])):\n",
    "#         ax.text(value-dx, i,     name,           size=14, weight=600, ha='right', va='bottom')\n",
    "#         ax.text(value-dx, i-.25, group_lk[name], size=10, color='#444444', ha='right', va='baseline')\n",
    "#         ax.text(value+dx, i,     f'{value:,.0f}',  size=14, ha='left',  va='center')\n",
    "#     ax.text(1, 0.4, current_day, transform=ax.transAxes, color='#777777', size=46, ha='right', weight=800)\n",
    "#     ax.text(0, 1.06, 'Population (thousands)', transform=ax.transAxes, size=12, color='#777777')\n",
    "#     ax.xaxis.set_major_formatter(ticker.StrMethodFormatter('{x:,.0f}'))\n",
    "#     ax.xaxis.set_ticks_position('top')\n",
    "#     ax.tick_params(axis='x', colors='#777777', labelsize=12)\n",
    "#     ax.set_yticks([])\n",
    "#     ax.margins(0, 0.01)\n",
    "#     ax.grid(which='major', axis='x', linestyle='-')\n",
    "#     ax.set_axisbelow(True)\n",
    "    \n",
    "#     ax.text(0, 1.15, 'Coronavirus',\n",
    "#             transform=ax.transAxes, size=24, weight=600, ha='left', va='top')\n",
    "# #     ax.text(1, 0, 'by @pratapvardhan; credit @jburnmurdoch', transform=ax.transAxes, color='#777777', ha='right',\n",
    "# #             bbox=dict(facecolor='white', alpha=0.8, edgecolor='white'))\n",
    "#     plt.box(False)"
   ]
  },
  {
   "cell_type": "code",
   "execution_count": 42,
   "id": "sexual-wages",
   "metadata": {
    "execution": {
     "iopub.execute_input": "2021-10-14T12:12:12.412992Z",
     "iopub.status.busy": "2021-10-14T12:12:12.412385Z",
     "iopub.status.idle": "2021-10-14T12:12:12.414674Z",
     "shell.execute_reply": "2021-10-14T12:12:12.414173Z"
    },
    "papermill": {
     "duration": 0.041577,
     "end_time": "2021-10-14T12:12:12.414803",
     "exception": false,
     "start_time": "2021-10-14T12:12:12.373226",
     "status": "completed"
    },
    "tags": []
   },
   "outputs": [],
   "source": [
    "# #hide_input\n",
    "# fig, ax = plt.subplots(figsize=(15, 8))\n",
    "# animator = animation.FuncAnimation(fig, draw_barchart, frames=range(g.day.values.min(), g.day.values.max()))\n",
    "# HTML(animator.to_jshtml())\n",
    "# # or use animator.to_html5_video() or animator.save() "
   ]
  },
  {
   "cell_type": "code",
   "execution_count": null,
   "id": "australian-container",
   "metadata": {
    "papermill": {
     "duration": 0.034724,
     "end_time": "2021-10-14T12:12:12.484416",
     "exception": false,
     "start_time": "2021-10-14T12:12:12.449692",
     "status": "completed"
    },
    "tags": []
   },
   "outputs": [],
   "source": []
  },
  {
   "cell_type": "code",
   "execution_count": null,
   "id": "mediterranean-pontiac",
   "metadata": {
    "papermill": {
     "duration": 0.0347,
     "end_time": "2021-10-14T12:12:12.553720",
     "exception": false,
     "start_time": "2021-10-14T12:12:12.519020",
     "status": "completed"
    },
    "tags": []
   },
   "outputs": [],
   "source": []
  },
  {
   "cell_type": "code",
   "execution_count": null,
   "id": "aging-legislature",
   "metadata": {
    "papermill": {
     "duration": 0.034443,
     "end_time": "2021-10-14T12:12:12.622860",
     "exception": false,
     "start_time": "2021-10-14T12:12:12.588417",
     "status": "completed"
    },
    "tags": []
   },
   "outputs": [],
   "source": []
  }
 ],
 "metadata": {
  "kernelspec": {
   "display_name": "Python 3",
   "language": "python",
   "name": "python3"
  },
  "language_info": {
   "codemirror_mode": {
    "name": "ipython",
    "version": 3
   },
   "file_extension": ".py",
   "mimetype": "text/x-python",
   "name": "python",
   "nbconvert_exporter": "python",
   "pygments_lexer": "ipython3",
   "version": "3.6.15"
  },
  "papermill": {
   "duration": 7.069161,
   "end_time": "2021-10-14T12:12:13.067421",
   "environment_variables": {},
   "exception": null,
   "input_path": "2020-03-21-covid19exp.ipynb",
   "output_path": "2020-03-21-covid19exp.ipynb",
   "parameters": {},
   "start_time": "2021-10-14T12:12:05.998260",
   "version": "2.0.0"
  }
 },
 "nbformat": 4,
 "nbformat_minor": 5
}