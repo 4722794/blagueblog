{
 "cells": [
  {
   "cell_type": "markdown",
   "id": "muslim-click",
   "metadata": {
    "papermill": {
     "duration": 0.033922,
     "end_time": "2021-07-17T00:22:15.702085",
     "exception": false,
     "start_time": "2021-07-17T00:22:15.668163",
     "status": "completed"
    },
    "tags": []
   },
   "source": [
    "# COVID-19 Case Race\n",
    "> A race chart to see rising cases around the world\n",
    "\n",
    "- author: Hargun Oberoi\n",
    "- image: images/covid-overview.png\n",
    "- hide: false\n",
    "- badges: false"
   ]
  },
  {
   "cell_type": "code",
   "execution_count": 1,
   "id": "proof-material",
   "metadata": {
    "execution": {
     "iopub.execute_input": "2021-07-17T00:22:15.770074Z",
     "iopub.status.busy": "2021-07-17T00:22:15.769554Z",
     "iopub.status.idle": "2021-07-17T00:22:16.096195Z",
     "shell.execute_reply": "2021-07-17T00:22:16.095644Z"
    },
    "papermill": {
     "duration": 0.364705,
     "end_time": "2021-07-17T00:22:16.096352",
     "exception": false,
     "start_time": "2021-07-17T00:22:15.731647",
     "status": "completed"
    },
    "tags": []
   },
   "outputs": [],
   "source": [
    "#hide\n",
    "import numpy as np\n",
    "import pandas as pd\n",
    "from jinja2 import Template\n",
    "from IPython.display import HTML"
   ]
  },
  {
   "cell_type": "code",
   "execution_count": 2,
   "id": "developed-terminology",
   "metadata": {
    "execution": {
     "iopub.execute_input": "2021-07-17T00:22:16.159679Z",
     "iopub.status.busy": "2021-07-17T00:22:16.159060Z",
     "iopub.status.idle": "2021-07-17T00:22:16.160430Z",
     "shell.execute_reply": "2021-07-17T00:22:16.160851Z"
    },
    "papermill": {
     "duration": 0.035195,
     "end_time": "2021-07-17T00:22:16.160977",
     "exception": false,
     "start_time": "2021-07-17T00:22:16.125782",
     "status": "completed"
    },
    "tags": []
   },
   "outputs": [],
   "source": [
    "#hide\n",
    "\n",
    "# FETCH\n",
    "base_url = 'https://raw.githubusercontent.com/pratapvardhan/notebooks/master/covid19/'\n",
    "paths = {\n",
    "    'mapping': base_url + 'mapping_countries.csv',\n",
    "    'overview': base_url + 'overview.tpl'\n",
    "}"
   ]
  },
  {
   "cell_type": "code",
   "execution_count": 3,
   "id": "dynamic-saver",
   "metadata": {
    "execution": {
     "iopub.execute_input": "2021-07-17T00:22:16.227523Z",
     "iopub.status.busy": "2021-07-17T00:22:16.227019Z",
     "iopub.status.idle": "2021-07-17T00:22:16.229940Z",
     "shell.execute_reply": "2021-07-17T00:22:16.229512Z"
    },
    "papermill": {
     "duration": 0.040304,
     "end_time": "2021-07-17T00:22:16.230047",
     "exception": false,
     "start_time": "2021-07-17T00:22:16.189743",
     "status": "completed"
    },
    "tags": []
   },
   "outputs": [
    {
     "data": {
      "text/plain": [
       "'https://raw.githubusercontent.com/pratapvardhan/notebooks/master/covid19/mapping_countries.csv'"
      ]
     },
     "execution_count": 3,
     "metadata": {},
     "output_type": "execute_result"
    }
   ],
   "source": [
    "#hide\n",
    "paths['mapping']"
   ]
  },
  {
   "cell_type": "code",
   "execution_count": 4,
   "id": "urban-software",
   "metadata": {
    "execution": {
     "iopub.execute_input": "2021-07-17T00:22:16.294042Z",
     "iopub.status.busy": "2021-07-17T00:22:16.293539Z",
     "iopub.status.idle": "2021-07-17T00:22:16.295315Z",
     "shell.execute_reply": "2021-07-17T00:22:16.295741Z"
    },
    "papermill": {
     "duration": 0.036668,
     "end_time": "2021-07-17T00:22:16.295864",
     "exception": false,
     "start_time": "2021-07-17T00:22:16.259196",
     "status": "completed"
    },
    "tags": []
   },
   "outputs": [],
   "source": [
    "#hide\n",
    "def get_mappings(url):\n",
    "    df = pd.read_csv(url)\n",
    "    return {\n",
    "        'df': df,\n",
    "        'replace.country': dict(df.dropna(subset=['Name']).set_index('Country')['Name']),\n",
    "        'map.continent': dict(df.set_index('Name')['Continent'])\n",
    "    }"
   ]
  },
  {
   "cell_type": "code",
   "execution_count": 5,
   "id": "intimate-machinery",
   "metadata": {
    "execution": {
     "iopub.execute_input": "2021-07-17T00:22:16.359160Z",
     "iopub.status.busy": "2021-07-17T00:22:16.358666Z",
     "iopub.status.idle": "2021-07-17T00:22:16.407487Z",
     "shell.execute_reply": "2021-07-17T00:22:16.406986Z"
    },
    "papermill": {
     "duration": 0.082843,
     "end_time": "2021-07-17T00:22:16.407607",
     "exception": false,
     "start_time": "2021-07-17T00:22:16.324764",
     "status": "completed"
    },
    "tags": []
   },
   "outputs": [],
   "source": [
    "#hide\n",
    "mapping = get_mappings(paths['mapping'])"
   ]
  },
  {
   "cell_type": "code",
   "execution_count": 6,
   "id": "certified-tactics",
   "metadata": {
    "execution": {
     "iopub.execute_input": "2021-07-17T00:22:16.471780Z",
     "iopub.status.busy": "2021-07-17T00:22:16.471276Z",
     "iopub.status.idle": "2021-07-17T00:22:16.473536Z",
     "shell.execute_reply": "2021-07-17T00:22:16.473113Z"
    },
    "papermill": {
     "duration": 0.036074,
     "end_time": "2021-07-17T00:22:16.473640",
     "exception": false,
     "start_time": "2021-07-17T00:22:16.437566",
     "status": "completed"
    },
    "tags": []
   },
   "outputs": [],
   "source": [
    "#hide\n",
    "def get_template(path):\n",
    "    from urllib.parse import urlparse\n",
    "    if bool(urlparse(path).netloc):\n",
    "        from urllib.request import urlopen\n",
    "        return urlopen(path).read().decode('utf8')\n",
    "    return open(path).read()"
   ]
  },
  {
   "cell_type": "code",
   "execution_count": 7,
   "id": "realistic-blast",
   "metadata": {
    "execution": {
     "iopub.execute_input": "2021-07-17T00:22:16.536326Z",
     "iopub.status.busy": "2021-07-17T00:22:16.535830Z",
     "iopub.status.idle": "2021-07-17T00:22:16.537527Z",
     "shell.execute_reply": "2021-07-17T00:22:16.537947Z"
    },
    "papermill": {
     "duration": 0.035484,
     "end_time": "2021-07-17T00:22:16.538070",
     "exception": false,
     "start_time": "2021-07-17T00:22:16.502586",
     "status": "completed"
    },
    "tags": []
   },
   "outputs": [],
   "source": [
    "#hide\n",
    "def get_frame(name):\n",
    "    url = (\n",
    "        'https://raw.githubusercontent.com/CSSEGISandData/COVID-19/master/csse_covid_19_data/'\n",
    "        f'csse_covid_19_time_series/time_series_covid19_{name}_global.csv')\n",
    "    df = pd.read_csv(url)\n",
    "    # rename countries\n",
    "    df['Country/Region'] = df['Country/Region'].replace(mapping['replace.country'])\n",
    "    return df"
   ]
  },
  {
   "cell_type": "code",
   "execution_count": 8,
   "id": "affiliated-characterization",
   "metadata": {
    "execution": {
     "iopub.execute_input": "2021-07-17T00:22:16.602621Z",
     "iopub.status.busy": "2021-07-17T00:22:16.602088Z",
     "iopub.status.idle": "2021-07-17T00:22:16.604616Z",
     "shell.execute_reply": "2021-07-17T00:22:16.604211Z"
    },
    "papermill": {
     "duration": 0.037273,
     "end_time": "2021-07-17T00:22:16.604727",
     "exception": false,
     "start_time": "2021-07-17T00:22:16.567454",
     "status": "completed"
    },
    "tags": []
   },
   "outputs": [],
   "source": [
    "#hide\n",
    "def get_dates(df):\n",
    "    dt_cols = df.columns[~df.columns.isin(['Province/State', 'Country/Region', 'Lat', 'Long'])]\n",
    "    LAST_DATE_I = -1\n",
    "    # sometimes last column may be empty, then go backwards\n",
    "    for i in range(-1, -len(dt_cols), -1):\n",
    "        if not df[dt_cols[i]].fillna(0).eq(0).all():\n",
    "            LAST_DATE_I = i\n",
    "            break\n",
    "    return LAST_DATE_I, dt_cols"
   ]
  },
  {
   "cell_type": "code",
   "execution_count": 9,
   "id": "recent-optimization",
   "metadata": {
    "execution": {
     "iopub.execute_input": "2021-07-17T00:22:16.668311Z",
     "iopub.status.busy": "2021-07-17T00:22:16.667808Z",
     "iopub.status.idle": "2021-07-17T00:22:17.240993Z",
     "shell.execute_reply": "2021-07-17T00:22:17.240478Z"
    },
    "papermill": {
     "duration": 0.607209,
     "end_time": "2021-07-17T00:22:17.241126",
     "exception": false,
     "start_time": "2021-07-17T00:22:16.633917",
     "status": "completed"
    },
    "tags": []
   },
   "outputs": [],
   "source": [
    "#hide\n",
    "COL_REGION = 'Country/Region'\n",
    "# Confirmed, Recovered, Deaths\n",
    "df = get_frame('confirmed')\n",
    "# dft_: timeseries, dfc_: today country agg\n",
    "dft_cases = df\n",
    "dft_deaths = get_frame('deaths')\n",
    "dft_recovered = get_frame('recovered')\n",
    "LAST_DATE_I, dt_cols = get_dates(df)"
   ]
  },
  {
   "cell_type": "code",
   "execution_count": 10,
   "id": "absolute-copper",
   "metadata": {
    "execution": {
     "iopub.execute_input": "2021-07-17T00:22:17.306488Z",
     "iopub.status.busy": "2021-07-17T00:22:17.305955Z",
     "iopub.status.idle": "2021-07-17T00:22:17.307952Z",
     "shell.execute_reply": "2021-07-17T00:22:17.308352Z"
    },
    "papermill": {
     "duration": 0.036886,
     "end_time": "2021-07-17T00:22:17.308478",
     "exception": false,
     "start_time": "2021-07-17T00:22:17.271592",
     "status": "completed"
    },
    "tags": []
   },
   "outputs": [],
   "source": [
    "#hide\n",
    "LAST_DATE_I, dt_cols = get_dates(df)\n",
    "dt_today =dt_cols[LAST_DATE_I]\n",
    "# dt_5day = dt_cols[LAST_DATE_I - 5]\n",
    "dt_yday = dt_cols[LAST_DATE_I - 1]"
   ]
  },
  {
   "cell_type": "code",
   "execution_count": 11,
   "id": "restricted-sheriff",
   "metadata": {
    "execution": {
     "iopub.execute_input": "2021-07-17T00:22:17.372372Z",
     "iopub.status.busy": "2021-07-17T00:22:17.371867Z",
     "iopub.status.idle": "2021-07-17T00:22:17.380029Z",
     "shell.execute_reply": "2021-07-17T00:22:17.379617Z"
    },
    "papermill": {
     "duration": 0.04251,
     "end_time": "2021-07-17T00:22:17.380141",
     "exception": false,
     "start_time": "2021-07-17T00:22:17.337631",
     "status": "completed"
    },
    "tags": []
   },
   "outputs": [],
   "source": [
    "#hide\n",
    "dfc_cases = dft_cases.groupby(COL_REGION)[dt_today].sum()\n",
    "dfc_deaths = dft_deaths.groupby(COL_REGION)[dt_today].sum()\n",
    "# dfp_cases = dft_cases.groupby(COL_REGION)[dt_5day].sum()\n",
    "# dfp_deaths = dft_deaths.groupby(COL_REGION)[dt_5day].sum()\n",
    "dfp_cases = dft_cases.groupby(COL_REGION)[dt_yday].sum()\n",
    "dfp_deaths = dft_deaths.groupby(COL_REGION)[dt_yday].sum()"
   ]
  },
  {
   "cell_type": "code",
   "execution_count": 12,
   "id": "deluxe-hepatitis",
   "metadata": {
    "execution": {
     "iopub.execute_input": "2021-07-17T00:22:17.444655Z",
     "iopub.status.busy": "2021-07-17T00:22:17.444152Z",
     "iopub.status.idle": "2021-07-17T00:22:17.448905Z",
     "shell.execute_reply": "2021-07-17T00:22:17.448499Z"
    },
    "papermill": {
     "duration": 0.039704,
     "end_time": "2021-07-17T00:22:17.449015",
     "exception": false,
     "start_time": "2021-07-17T00:22:17.409311",
     "status": "completed"
    },
    "tags": []
   },
   "outputs": [],
   "source": [
    "#hide\n",
    "df_table = (pd.DataFrame(dict(Cases = dfc_cases, Deaths = dfc_deaths, PCases = dfp_cases, PDeaths = dfp_deaths))\n",
    "            .sort_values(by = ['Cases','Deaths'], ascending = [False, False])\n",
    "            .reset_index())"
   ]
  },
  {
   "cell_type": "code",
   "execution_count": 13,
   "id": "educational-chancellor",
   "metadata": {
    "execution": {
     "iopub.execute_input": "2021-07-17T00:22:17.524032Z",
     "iopub.status.busy": "2021-07-17T00:22:17.523523Z",
     "iopub.status.idle": "2021-07-17T00:22:17.530911Z",
     "shell.execute_reply": "2021-07-17T00:22:17.530504Z"
    },
    "papermill": {
     "duration": 0.053042,
     "end_time": "2021-07-17T00:22:17.531021",
     "exception": false,
     "start_time": "2021-07-17T00:22:17.477979",
     "status": "completed"
    },
    "tags": []
   },
   "outputs": [
    {
     "data": {
      "text/html": [
       "<div>\n",
       "<style scoped>\n",
       "    .dataframe tbody tr th:only-of-type {\n",
       "        vertical-align: middle;\n",
       "    }\n",
       "\n",
       "    .dataframe tbody tr th {\n",
       "        vertical-align: top;\n",
       "    }\n",
       "\n",
       "    .dataframe thead th {\n",
       "        text-align: right;\n",
       "    }\n",
       "</style>\n",
       "<table border=\"1\" class=\"dataframe\">\n",
       "  <thead>\n",
       "    <tr style=\"text-align: right;\">\n",
       "      <th></th>\n",
       "      <th>Country/Region</th>\n",
       "      <th>Cases</th>\n",
       "      <th>Deaths</th>\n",
       "      <th>PCases</th>\n",
       "      <th>PDeaths</th>\n",
       "      <th>Cases (+)</th>\n",
       "      <th>Deaths (+)</th>\n",
       "      <th>Fatality Rate</th>\n",
       "      <th>Continent</th>\n",
       "    </tr>\n",
       "  </thead>\n",
       "  <tbody>\n",
       "    <tr>\n",
       "      <th>0</th>\n",
       "      <td>US</td>\n",
       "      <td>33975642</td>\n",
       "      <td>608398</td>\n",
       "      <td>33947230</td>\n",
       "      <td>608115</td>\n",
       "      <td>28412</td>\n",
       "      <td>283</td>\n",
       "      <td>1.79</td>\n",
       "      <td>North America</td>\n",
       "    </tr>\n",
       "    <tr>\n",
       "      <th>1</th>\n",
       "      <td>India</td>\n",
       "      <td>31026829</td>\n",
       "      <td>412531</td>\n",
       "      <td>30987880</td>\n",
       "      <td>411989</td>\n",
       "      <td>38949</td>\n",
       "      <td>542</td>\n",
       "      <td>1.33</td>\n",
       "      <td>Asia</td>\n",
       "    </tr>\n",
       "    <tr>\n",
       "      <th>2</th>\n",
       "      <td>Brazil</td>\n",
       "      <td>19262518</td>\n",
       "      <td>538942</td>\n",
       "      <td>19209729</td>\n",
       "      <td>537394</td>\n",
       "      <td>52789</td>\n",
       "      <td>1548</td>\n",
       "      <td>2.80</td>\n",
       "      <td>South America</td>\n",
       "    </tr>\n",
       "    <tr>\n",
       "      <th>3</th>\n",
       "      <td>France</td>\n",
       "      <td>5895453</td>\n",
       "      <td>111619</td>\n",
       "      <td>5884395</td>\n",
       "      <td>111609</td>\n",
       "      <td>11058</td>\n",
       "      <td>10</td>\n",
       "      <td>1.89</td>\n",
       "      <td>Europe</td>\n",
       "    </tr>\n",
       "    <tr>\n",
       "      <th>4</th>\n",
       "      <td>Russia</td>\n",
       "      <td>5810335</td>\n",
       "      <td>143657</td>\n",
       "      <td>5785542</td>\n",
       "      <td>142877</td>\n",
       "      <td>24793</td>\n",
       "      <td>780</td>\n",
       "      <td>2.47</td>\n",
       "      <td>Europe</td>\n",
       "    </tr>\n",
       "  </tbody>\n",
       "</table>\n",
       "</div>"
      ],
      "text/plain": [
       "  Country/Region     Cases  Deaths    PCases  PDeaths  Cases (+)  Deaths (+)  \\\n",
       "0             US  33975642  608398  33947230   608115      28412         283   \n",
       "1          India  31026829  412531  30987880   411989      38949         542   \n",
       "2         Brazil  19262518  538942  19209729   537394      52789        1548   \n",
       "3         France   5895453  111619   5884395   111609      11058          10   \n",
       "4         Russia   5810335  143657   5785542   142877      24793         780   \n",
       "\n",
       "   Fatality Rate      Continent  \n",
       "0           1.79  North America  \n",
       "1           1.33           Asia  \n",
       "2           2.80  South America  \n",
       "3           1.89         Europe  \n",
       "4           2.47         Europe  "
      ]
     },
     "execution_count": 13,
     "metadata": {},
     "output_type": "execute_result"
    }
   ],
   "source": [
    "#hide\n",
    "for c in 'Cases, Deaths'.split(', '):\n",
    "    df_table[f'{c} (+)'] = (df_table[c] - df_table[f'P{c}']).clip(0)\n",
    "    #Clip ça veut dire, les chiffres negatif sont interdit\n",
    "df_table['Fatality Rate'] = (100* df_table['Deaths']/ df_table['Cases']).round(2)\n",
    "df_table['Continent'] = df_table['Country/Region'].map(mapping['map.continent'])\n",
    "df_table.head(5)"
   ]
  },
  {
   "cell_type": "code",
   "execution_count": 14,
   "id": "aboriginal-bulgaria",
   "metadata": {
    "execution": {
     "iopub.execute_input": "2021-07-17T00:22:17.594983Z",
     "iopub.status.busy": "2021-07-17T00:22:17.594480Z",
     "iopub.status.idle": "2021-07-17T00:22:17.597047Z",
     "shell.execute_reply": "2021-07-17T00:22:17.597423Z"
    },
    "papermill": {
     "duration": 0.03675,
     "end_time": "2021-07-17T00:22:17.597550",
     "exception": false,
     "start_time": "2021-07-17T00:22:17.560800",
     "status": "completed"
    },
    "tags": []
   },
   "outputs": [],
   "source": [
    "#hide\n",
    "#delete problematic countries from table\n",
    "df_table = df_table[~df_table['Country/Region'].isin(['Cape Verde', 'Cruise Ship', 'Kosovo'])]"
   ]
  },
  {
   "cell_type": "code",
   "execution_count": 15,
   "id": "fantastic-effect",
   "metadata": {
    "execution": {
     "iopub.execute_input": "2021-07-17T00:22:17.665224Z",
     "iopub.status.busy": "2021-07-17T00:22:17.664714Z",
     "iopub.status.idle": "2021-07-17T00:22:17.681849Z",
     "shell.execute_reply": "2021-07-17T00:22:17.681442Z"
    },
    "papermill": {
     "duration": 0.054661,
     "end_time": "2021-07-17T00:22:17.681964",
     "exception": false,
     "start_time": "2021-07-17T00:22:17.627303",
     "status": "completed"
    },
    "tags": []
   },
   "outputs": [
    {
     "data": {
      "text/html": [
       "<div>\n",
       "<style scoped>\n",
       "    .dataframe tbody tr th:only-of-type {\n",
       "        vertical-align: middle;\n",
       "    }\n",
       "\n",
       "    .dataframe tbody tr th {\n",
       "        vertical-align: top;\n",
       "    }\n",
       "\n",
       "    .dataframe thead th {\n",
       "        text-align: right;\n",
       "    }\n",
       "</style>\n",
       "<table border=\"1\" class=\"dataframe\">\n",
       "  <thead>\n",
       "    <tr style=\"text-align: right;\">\n",
       "      <th></th>\n",
       "      <th>Country/Region</th>\n",
       "      <th>Cases</th>\n",
       "      <th>Deaths</th>\n",
       "      <th>PCases</th>\n",
       "      <th>PDeaths</th>\n",
       "      <th>Cases (+)</th>\n",
       "      <th>Deaths (+)</th>\n",
       "      <th>Fatality Rate</th>\n",
       "      <th>Continent</th>\n",
       "    </tr>\n",
       "  </thead>\n",
       "  <tbody>\n",
       "    <tr>\n",
       "      <th>0</th>\n",
       "      <td>US</td>\n",
       "      <td>33975642</td>\n",
       "      <td>608398</td>\n",
       "      <td>33947230</td>\n",
       "      <td>608115</td>\n",
       "      <td>28412</td>\n",
       "      <td>283</td>\n",
       "      <td>1.8</td>\n",
       "      <td>North America</td>\n",
       "    </tr>\n",
       "    <tr>\n",
       "      <th>1</th>\n",
       "      <td>India</td>\n",
       "      <td>31026829</td>\n",
       "      <td>412531</td>\n",
       "      <td>30987880</td>\n",
       "      <td>411989</td>\n",
       "      <td>38949</td>\n",
       "      <td>542</td>\n",
       "      <td>1.3</td>\n",
       "      <td>Asia</td>\n",
       "    </tr>\n",
       "    <tr>\n",
       "      <th>2</th>\n",
       "      <td>Brazil</td>\n",
       "      <td>19262518</td>\n",
       "      <td>538942</td>\n",
       "      <td>19209729</td>\n",
       "      <td>537394</td>\n",
       "      <td>52789</td>\n",
       "      <td>1548</td>\n",
       "      <td>2.8</td>\n",
       "      <td>South America</td>\n",
       "    </tr>\n",
       "    <tr>\n",
       "      <th>3</th>\n",
       "      <td>France</td>\n",
       "      <td>5895453</td>\n",
       "      <td>111619</td>\n",
       "      <td>5884395</td>\n",
       "      <td>111609</td>\n",
       "      <td>11058</td>\n",
       "      <td>10</td>\n",
       "      <td>1.9</td>\n",
       "      <td>Europe</td>\n",
       "    </tr>\n",
       "    <tr>\n",
       "      <th>4</th>\n",
       "      <td>Russia</td>\n",
       "      <td>5810335</td>\n",
       "      <td>143657</td>\n",
       "      <td>5785542</td>\n",
       "      <td>142877</td>\n",
       "      <td>24793</td>\n",
       "      <td>780</td>\n",
       "      <td>2.5</td>\n",
       "      <td>Europe</td>\n",
       "    </tr>\n",
       "  </tbody>\n",
       "</table>\n",
       "</div>"
      ],
      "text/plain": [
       "  Country/Region     Cases  Deaths    PCases  PDeaths  Cases (+)  Deaths (+)  \\\n",
       "0             US  33975642  608398  33947230   608115      28412         283   \n",
       "1          India  31026829  412531  30987880   411989      38949         542   \n",
       "2         Brazil  19262518  538942  19209729   537394      52789        1548   \n",
       "3         France   5895453  111619   5884395   111609      11058          10   \n",
       "4         Russia   5810335  143657   5785542   142877      24793         780   \n",
       "\n",
       "   Fatality Rate      Continent  \n",
       "0            1.8  North America  \n",
       "1            1.3           Asia  \n",
       "2            2.8  South America  \n",
       "3            1.9         Europe  \n",
       "4            2.5         Europe  "
      ]
     },
     "execution_count": 15,
     "metadata": {},
     "output_type": "execute_result"
    }
   ],
   "source": [
    "#hide\n",
    "df_table = (pd.DataFrame(dict(Cases=dfc_cases, Deaths=dfc_deaths, PCases=dfp_cases, PDeaths=dfp_deaths))\n",
    "             .sort_values(by=['Cases', 'Deaths'], ascending=[False, False])\n",
    "             .reset_index())\n",
    "df_table.rename(columns={'index': 'Country/Region'}, inplace=True)\n",
    "for c in 'Cases, Deaths'.split(', '):\n",
    "    df_table[f'{c} (+)'] = (df_table[c] - df_table[f'P{c}']).clip(0)  # DATA BUG\n",
    "df_table['Fatality Rate'] = (100 * df_table['Deaths'] / df_table['Cases']).round(1)\n",
    "df_table['Continent'] = df_table['Country/Region'].map(mapping['map.continent'])\n",
    "df_table.head(5)"
   ]
  },
  {
   "cell_type": "code",
   "execution_count": 16,
   "id": "fewer-occasion",
   "metadata": {
    "execution": {
     "iopub.execute_input": "2021-07-17T00:22:17.747710Z",
     "iopub.status.busy": "2021-07-17T00:22:17.747210Z",
     "iopub.status.idle": "2021-07-17T00:22:17.749290Z",
     "shell.execute_reply": "2021-07-17T00:22:17.749715Z"
    },
    "papermill": {
     "duration": 0.037622,
     "end_time": "2021-07-17T00:22:17.749839",
     "exception": false,
     "start_time": "2021-07-17T00:22:17.712217",
     "status": "completed"
    },
    "tags": []
   },
   "outputs": [],
   "source": [
    "#hide\n",
    "#delete problematic countries from table\n",
    "df_table = df_table[~df_table['Country/Region'].isin(['Cape Verde', 'Cruise Ship', 'Kosovo'])]"
   ]
  },
  {
   "cell_type": "code",
   "execution_count": 17,
   "id": "related-center",
   "metadata": {
    "execution": {
     "iopub.execute_input": "2021-07-17T00:22:17.827352Z",
     "iopub.status.busy": "2021-07-17T00:22:17.826827Z",
     "iopub.status.idle": "2021-07-17T00:22:17.829219Z",
     "shell.execute_reply": "2021-07-17T00:22:17.828796Z"
    },
    "papermill": {
     "duration": 0.049513,
     "end_time": "2021-07-17T00:22:17.829324",
     "exception": false,
     "start_time": "2021-07-17T00:22:17.779811",
     "status": "completed"
    },
    "tags": []
   },
   "outputs": [],
   "source": [
    "#hide\n",
    "metrics = [df_table.columns[index] for index in [1,2,5,6]]\n",
    "# s_china = df_table[df_table['Country/Region'].eq('China')][metrics].sum().add_prefix('China ')\n",
    "s_us = df_table[df_table['Country/Region'].eq('US')][metrics].sum().add_prefix('US ')\n",
    "s_eu = df_table[df_table['Continent'].eq('Europe')][metrics].sum().add_prefix('EU ')\n",
    "s_ind = df_table[df_table['Country/Region'].eq('India')][metrics].sum().add_prefix('India ')\n",
    "summary = {'updated': pd.to_datetime(dt_today), 'since': pd.to_datetime(dt_yday)}\n",
    "summary = {'updated': pd.to_datetime(dt_today), 'since': pd.to_datetime(dt_yday)}\n",
    "summary = {**summary, **df_table[metrics].sum(), **s_ind, **s_us, **s_eu}"
   ]
  },
  {
   "cell_type": "code",
   "execution_count": 18,
   "id": "engaging-syndrome",
   "metadata": {
    "execution": {
     "iopub.execute_input": "2021-07-17T00:22:17.894397Z",
     "iopub.status.busy": "2021-07-17T00:22:17.893881Z",
     "iopub.status.idle": "2021-07-17T00:22:17.907154Z",
     "shell.execute_reply": "2021-07-17T00:22:17.907541Z"
    },
    "papermill": {
     "duration": 0.048237,
     "end_time": "2021-07-17T00:22:17.907675",
     "exception": false,
     "start_time": "2021-07-17T00:22:17.859438",
     "status": "completed"
    },
    "tags": []
   },
   "outputs": [],
   "source": [
    "#hide\n",
    "dft_ct_new_cases = dft_cases.groupby(COL_REGION)[dt_cols].sum().diff(axis=1).fillna(0).astype(int)"
   ]
  },
  {
   "cell_type": "code",
   "execution_count": 19,
   "id": "neutral-assignment",
   "metadata": {
    "execution": {
     "iopub.execute_input": "2021-07-17T00:22:17.973674Z",
     "iopub.status.busy": "2021-07-17T00:22:17.973184Z",
     "iopub.status.idle": "2021-07-17T00:22:17.975055Z",
     "shell.execute_reply": "2021-07-17T00:22:17.975474Z"
    },
    "papermill": {
     "duration": 0.037769,
     "end_time": "2021-07-17T00:22:17.975595",
     "exception": false,
     "start_time": "2021-07-17T00:22:17.937826",
     "status": "completed"
    },
    "tags": []
   },
   "outputs": [],
   "source": [
    "#hide\n",
    "everydaycases = dft_ct_new_cases.cumsum(axis=1)"
   ]
  },
  {
   "cell_type": "code",
   "execution_count": 20,
   "id": "parliamentary-calgary",
   "metadata": {
    "execution": {
     "iopub.execute_input": "2021-07-17T00:22:18.040131Z",
     "iopub.status.busy": "2021-07-17T00:22:18.039628Z",
     "iopub.status.idle": "2021-07-17T00:22:18.699648Z",
     "shell.execute_reply": "2021-07-17T00:22:18.700100Z"
    },
    "papermill": {
     "duration": 0.694544,
     "end_time": "2021-07-17T00:22:18.700244",
     "exception": false,
     "start_time": "2021-07-17T00:22:18.005700",
     "status": "completed"
    },
    "tags": []
   },
   "outputs": [],
   "source": [
    "#hide\n",
    "import pandas as pd\n",
    "import matplotlib.pyplot as plt\n",
    "import matplotlib.ticker as ticker\n",
    "import matplotlib.animation as animation\n",
    "from IPython.display import HTML"
   ]
  },
  {
   "cell_type": "code",
   "execution_count": 21,
   "id": "lasting-extraction",
   "metadata": {
    "execution": {
     "iopub.execute_input": "2021-07-17T00:22:18.766321Z",
     "iopub.status.busy": "2021-07-17T00:22:18.765789Z",
     "iopub.status.idle": "2021-07-17T00:22:18.771174Z",
     "shell.execute_reply": "2021-07-17T00:22:18.771597Z"
    },
    "papermill": {
     "duration": 0.0413,
     "end_time": "2021-07-17T00:22:18.771729",
     "exception": false,
     "start_time": "2021-07-17T00:22:18.730429",
     "status": "completed"
    },
    "tags": []
   },
   "outputs": [],
   "source": [
    "#hide\n",
    "t = everydaycases.stack()"
   ]
  },
  {
   "cell_type": "code",
   "execution_count": 22,
   "id": "premier-sleeve",
   "metadata": {
    "execution": {
     "iopub.execute_input": "2021-07-17T00:22:18.836428Z",
     "iopub.status.busy": "2021-07-17T00:22:18.835916Z",
     "iopub.status.idle": "2021-07-17T00:22:18.844412Z",
     "shell.execute_reply": "2021-07-17T00:22:18.844002Z"
    },
    "papermill": {
     "duration": 0.042583,
     "end_time": "2021-07-17T00:22:18.844527",
     "exception": false,
     "start_time": "2021-07-17T00:22:18.801944",
     "status": "completed"
    },
    "tags": []
   },
   "outputs": [],
   "source": [
    "#hide\n",
    "g = t.reset_index(['Country/Region'])"
   ]
  },
  {
   "cell_type": "code",
   "execution_count": 23,
   "id": "distributed-pittsburgh",
   "metadata": {
    "execution": {
     "iopub.execute_input": "2021-07-17T00:22:18.909377Z",
     "iopub.status.busy": "2021-07-17T00:22:18.908870Z",
     "iopub.status.idle": "2021-07-17T00:22:18.911132Z",
     "shell.execute_reply": "2021-07-17T00:22:18.910721Z"
    },
    "papermill": {
     "duration": 0.036673,
     "end_time": "2021-07-17T00:22:18.911244",
     "exception": false,
     "start_time": "2021-07-17T00:22:18.874571",
     "status": "completed"
    },
    "tags": []
   },
   "outputs": [],
   "source": [
    "#hide\n",
    "g.index.name = 'date'"
   ]
  },
  {
   "cell_type": "code",
   "execution_count": 24,
   "id": "naked-donor",
   "metadata": {
    "execution": {
     "iopub.execute_input": "2021-07-17T00:22:18.975498Z",
     "iopub.status.busy": "2021-07-17T00:22:18.974993Z",
     "iopub.status.idle": "2021-07-17T00:22:18.977104Z",
     "shell.execute_reply": "2021-07-17T00:22:18.976701Z"
    },
    "papermill": {
     "duration": 0.035761,
     "end_time": "2021-07-17T00:22:18.977212",
     "exception": false,
     "start_time": "2021-07-17T00:22:18.941451",
     "status": "completed"
    },
    "tags": []
   },
   "outputs": [],
   "source": [
    "# #hide\n",
    "# g = g.reset_index(['date'])"
   ]
  },
  {
   "cell_type": "code",
   "execution_count": 25,
   "id": "incomplete-mustang",
   "metadata": {
    "execution": {
     "iopub.execute_input": "2021-07-17T00:22:19.041041Z",
     "iopub.status.busy": "2021-07-17T00:22:19.040539Z",
     "iopub.status.idle": "2021-07-17T00:22:19.042806Z",
     "shell.execute_reply": "2021-07-17T00:22:19.042399Z"
    },
    "papermill": {
     "duration": 0.035716,
     "end_time": "2021-07-17T00:22:19.042914",
     "exception": false,
     "start_time": "2021-07-17T00:22:19.007198",
     "status": "completed"
    },
    "tags": []
   },
   "outputs": [],
   "source": [
    "#hide\n",
    "# g.head()"
   ]
  },
  {
   "cell_type": "code",
   "execution_count": 26,
   "id": "specific-kruger",
   "metadata": {
    "execution": {
     "iopub.execute_input": "2021-07-17T00:22:19.107198Z",
     "iopub.status.busy": "2021-07-17T00:22:19.106693Z",
     "iopub.status.idle": "2021-07-17T00:22:19.108866Z",
     "shell.execute_reply": "2021-07-17T00:22:19.108442Z"
    },
    "papermill": {
     "duration": 0.035706,
     "end_time": "2021-07-17T00:22:19.108973",
     "exception": false,
     "start_time": "2021-07-17T00:22:19.073267",
     "status": "completed"
    },
    "tags": []
   },
   "outputs": [],
   "source": [
    "#hide\n",
    "# g.columns = ['date','country','cases']"
   ]
  },
  {
   "cell_type": "code",
   "execution_count": 27,
   "id": "tender-conversion",
   "metadata": {
    "execution": {
     "iopub.execute_input": "2021-07-17T00:22:19.174006Z",
     "iopub.status.busy": "2021-07-17T00:22:19.173503Z",
     "iopub.status.idle": "2021-07-17T00:22:19.175396Z",
     "shell.execute_reply": "2021-07-17T00:22:19.175772Z"
    },
    "papermill": {
     "duration": 0.036894,
     "end_time": "2021-07-17T00:22:19.175903",
     "exception": false,
     "start_time": "2021-07-17T00:22:19.139009",
     "status": "completed"
    },
    "tags": []
   },
   "outputs": [],
   "source": [
    "#hide\n",
    "# g['continent'] = g.country"
   ]
  },
  {
   "cell_type": "code",
   "execution_count": 28,
   "id": "substantial-wilderness",
   "metadata": {
    "execution": {
     "iopub.execute_input": "2021-07-17T00:22:19.240039Z",
     "iopub.status.busy": "2021-07-17T00:22:19.239535Z",
     "iopub.status.idle": "2021-07-17T00:22:19.241710Z",
     "shell.execute_reply": "2021-07-17T00:22:19.241313Z"
    },
    "papermill": {
     "duration": 0.035774,
     "end_time": "2021-07-17T00:22:19.241818",
     "exception": false,
     "start_time": "2021-07-17T00:22:19.206044",
     "status": "completed"
    },
    "tags": []
   },
   "outputs": [],
   "source": [
    "#hide\n",
    "# cols = list(g.columns.values)"
   ]
  },
  {
   "cell_type": "code",
   "execution_count": 29,
   "id": "solved-farming",
   "metadata": {
    "execution": {
     "iopub.execute_input": "2021-07-17T00:22:19.305244Z",
     "iopub.status.busy": "2021-07-17T00:22:19.304740Z",
     "iopub.status.idle": "2021-07-17T00:22:19.307021Z",
     "shell.execute_reply": "2021-07-17T00:22:19.306622Z"
    },
    "papermill": {
     "duration": 0.035445,
     "end_time": "2021-07-17T00:22:19.307132",
     "exception": false,
     "start_time": "2021-07-17T00:22:19.271687",
     "status": "completed"
    },
    "tags": []
   },
   "outputs": [],
   "source": [
    "#hide\n",
    "# cols.insert(0, cols.pop())"
   ]
  },
  {
   "cell_type": "code",
   "execution_count": 30,
   "id": "executed-adoption",
   "metadata": {
    "execution": {
     "iopub.execute_input": "2021-07-17T00:22:19.371034Z",
     "iopub.status.busy": "2021-07-17T00:22:19.370522Z",
     "iopub.status.idle": "2021-07-17T00:22:19.372598Z",
     "shell.execute_reply": "2021-07-17T00:22:19.372180Z"
    },
    "papermill": {
     "duration": 0.03544,
     "end_time": "2021-07-17T00:22:19.372702",
     "exception": false,
     "start_time": "2021-07-17T00:22:19.337262",
     "status": "completed"
    },
    "tags": []
   },
   "outputs": [],
   "source": [
    "#hide\n",
    "# g = g[cols]"
   ]
  },
  {
   "cell_type": "code",
   "execution_count": 31,
   "id": "subject-dublin",
   "metadata": {
    "execution": {
     "iopub.execute_input": "2021-07-17T00:22:19.436344Z",
     "iopub.status.busy": "2021-07-17T00:22:19.435837Z",
     "iopub.status.idle": "2021-07-17T00:22:19.437636Z",
     "shell.execute_reply": "2021-07-17T00:22:19.438056Z"
    },
    "papermill": {
     "duration": 0.035567,
     "end_time": "2021-07-17T00:22:19.438181",
     "exception": false,
     "start_time": "2021-07-17T00:22:19.402614",
     "status": "completed"
    },
    "tags": []
   },
   "outputs": [],
   "source": [
    "#hide\n",
    "# g['continent'] = g['continent'].map(mapping['map.continent'])"
   ]
  },
  {
   "cell_type": "code",
   "execution_count": 32,
   "id": "freelance-scout",
   "metadata": {
    "execution": {
     "iopub.execute_input": "2021-07-17T00:22:19.502175Z",
     "iopub.status.busy": "2021-07-17T00:22:19.501667Z",
     "iopub.status.idle": "2021-07-17T00:22:19.503802Z",
     "shell.execute_reply": "2021-07-17T00:22:19.503404Z"
    },
    "papermill": {
     "duration": 0.035534,
     "end_time": "2021-07-17T00:22:19.503911",
     "exception": false,
     "start_time": "2021-07-17T00:22:19.468377",
     "status": "completed"
    },
    "tags": []
   },
   "outputs": [],
   "source": [
    "#hide\n",
    "# g.head()"
   ]
  },
  {
   "cell_type": "code",
   "execution_count": 33,
   "id": "limited-engine",
   "metadata": {
    "execution": {
     "iopub.execute_input": "2021-07-17T00:22:19.567646Z",
     "iopub.status.busy": "2021-07-17T00:22:19.567152Z",
     "iopub.status.idle": "2021-07-17T00:22:19.569005Z",
     "shell.execute_reply": "2021-07-17T00:22:19.569432Z"
    },
    "papermill": {
     "duration": 0.035618,
     "end_time": "2021-07-17T00:22:19.569553",
     "exception": false,
     "start_time": "2021-07-17T00:22:19.533935",
     "status": "completed"
    },
    "tags": []
   },
   "outputs": [],
   "source": [
    "# hide\n",
    "# g['date'] = g['date'].astype('datetime64[ns]')"
   ]
  },
  {
   "cell_type": "code",
   "execution_count": 34,
   "id": "sophisticated-supervisor",
   "metadata": {
    "execution": {
     "iopub.execute_input": "2021-07-17T00:22:19.633592Z",
     "iopub.status.busy": "2021-07-17T00:22:19.633095Z",
     "iopub.status.idle": "2021-07-17T00:22:19.634832Z",
     "shell.execute_reply": "2021-07-17T00:22:19.635229Z"
    },
    "papermill": {
     "duration": 0.035391,
     "end_time": "2021-07-17T00:22:19.635345",
     "exception": false,
     "start_time": "2021-07-17T00:22:19.599954",
     "status": "completed"
    },
    "tags": []
   },
   "outputs": [],
   "source": [
    "#hide\n",
    "# g['date'] = g.date.dt.dayofyear"
   ]
  },
  {
   "cell_type": "code",
   "execution_count": 35,
   "id": "inside-dubai",
   "metadata": {
    "execution": {
     "iopub.execute_input": "2021-07-17T00:22:19.698863Z",
     "iopub.status.busy": "2021-07-17T00:22:19.698355Z",
     "iopub.status.idle": "2021-07-17T00:22:19.700168Z",
     "shell.execute_reply": "2021-07-17T00:22:19.700594Z"
    },
    "papermill": {
     "duration": 0.035495,
     "end_time": "2021-07-17T00:22:19.700716",
     "exception": false,
     "start_time": "2021-07-17T00:22:19.665221",
     "status": "completed"
    },
    "tags": []
   },
   "outputs": [],
   "source": [
    "#hide\n",
    "# g = g.rename(columns= {'continent':'group','country':'name','cases':'value'})"
   ]
  },
  {
   "cell_type": "code",
   "execution_count": 36,
   "id": "fleet-motorcycle",
   "metadata": {
    "execution": {
     "iopub.execute_input": "2021-07-17T00:22:19.764400Z",
     "iopub.status.busy": "2021-07-17T00:22:19.763897Z",
     "iopub.status.idle": "2021-07-17T00:22:19.766079Z",
     "shell.execute_reply": "2021-07-17T00:22:19.765681Z"
    },
    "papermill": {
     "duration": 0.035471,
     "end_time": "2021-07-17T00:22:19.766202",
     "exception": false,
     "start_time": "2021-07-17T00:22:19.730731",
     "status": "completed"
    },
    "tags": []
   },
   "outputs": [],
   "source": [
    "#hide\n",
    "# cols = ['name','group','day','value']"
   ]
  },
  {
   "cell_type": "code",
   "execution_count": 37,
   "id": "continued-sleeping",
   "metadata": {
    "execution": {
     "iopub.execute_input": "2021-07-17T00:22:19.829233Z",
     "iopub.status.busy": "2021-07-17T00:22:19.828740Z",
     "iopub.status.idle": "2021-07-17T00:22:19.830577Z",
     "shell.execute_reply": "2021-07-17T00:22:19.831052Z"
    },
    "papermill": {
     "duration": 0.03509,
     "end_time": "2021-07-17T00:22:19.831171",
     "exception": false,
     "start_time": "2021-07-17T00:22:19.796081",
     "status": "completed"
    },
    "tags": []
   },
   "outputs": [],
   "source": [
    "#hide\n",
    "# g.rename(columns= {'date':'day'},inplace = True)"
   ]
  },
  {
   "cell_type": "code",
   "execution_count": 38,
   "id": "major-fight",
   "metadata": {
    "execution": {
     "iopub.execute_input": "2021-07-17T00:22:19.894347Z",
     "iopub.status.busy": "2021-07-17T00:22:19.893827Z",
     "iopub.status.idle": "2021-07-17T00:22:19.896096Z",
     "shell.execute_reply": "2021-07-17T00:22:19.895702Z"
    },
    "papermill": {
     "duration": 0.035142,
     "end_time": "2021-07-17T00:22:19.896196",
     "exception": false,
     "start_time": "2021-07-17T00:22:19.861054",
     "status": "completed"
    },
    "tags": []
   },
   "outputs": [],
   "source": [
    "#hide\n",
    "# g = g[cols]"
   ]
  },
  {
   "cell_type": "code",
   "execution_count": 39,
   "id": "structured-mobile",
   "metadata": {
    "execution": {
     "iopub.execute_input": "2021-07-17T00:22:19.959733Z",
     "iopub.status.busy": "2021-07-17T00:22:19.959241Z",
     "iopub.status.idle": "2021-07-17T00:22:19.960982Z",
     "shell.execute_reply": "2021-07-17T00:22:19.961452Z"
    },
    "papermill": {
     "duration": 0.035001,
     "end_time": "2021-07-17T00:22:19.961567",
     "exception": false,
     "start_time": "2021-07-17T00:22:19.926566",
     "status": "completed"
    },
    "tags": []
   },
   "outputs": [],
   "source": [
    "# #hide\n",
    "# g = g[g.group.notna()]"
   ]
  },
  {
   "cell_type": "code",
   "execution_count": 40,
   "id": "determined-closing",
   "metadata": {
    "execution": {
     "iopub.execute_input": "2021-07-17T00:22:20.024695Z",
     "iopub.status.busy": "2021-07-17T00:22:20.024199Z",
     "iopub.status.idle": "2021-07-17T00:22:20.026405Z",
     "shell.execute_reply": "2021-07-17T00:22:20.025962Z"
    },
    "papermill": {
     "duration": 0.035067,
     "end_time": "2021-07-17T00:22:20.026506",
     "exception": false,
     "start_time": "2021-07-17T00:22:19.991439",
     "status": "completed"
    },
    "tags": []
   },
   "outputs": [],
   "source": [
    "# #hide\n",
    "# colors = dict(zip(\n",
    "#     [\"Oceania\", \"Europe\", \"Asia\", \"South America\", \"Middle East\", \"North America\", \"Africa\"],\n",
    "#     [\"#adb0ff\", \"#ffb3ff\", \"#90d595\", \"#e48381\", \"#aafbff\", \"#f7bb5f\", \"#eafb50\"]\n",
    "# ))\n",
    "# group_lk = g.set_index('name')['group'].to_dict()"
   ]
  },
  {
   "cell_type": "code",
   "execution_count": null,
   "id": "gross-drinking",
   "metadata": {
    "papermill": {
     "duration": 0.029945,
     "end_time": "2021-07-17T00:22:20.086105",
     "exception": false,
     "start_time": "2021-07-17T00:22:20.056160",
     "status": "completed"
    },
    "tags": []
   },
   "outputs": [],
   "source": []
  },
  {
   "cell_type": "code",
   "execution_count": 41,
   "id": "subject-macintosh",
   "metadata": {
    "execution": {
     "iopub.execute_input": "2021-07-17T00:22:20.150413Z",
     "iopub.status.busy": "2021-07-17T00:22:20.149873Z",
     "iopub.status.idle": "2021-07-17T00:22:20.151628Z",
     "shell.execute_reply": "2021-07-17T00:22:20.152001Z"
    },
    "papermill": {
     "duration": 0.036054,
     "end_time": "2021-07-17T00:22:20.152129",
     "exception": false,
     "start_time": "2021-07-17T00:22:20.116075",
     "status": "completed"
    },
    "tags": []
   },
   "outputs": [],
   "source": [
    "# #hide\n",
    "# fig, ax = plt.subplots(figsize=(15, 8))\n",
    "\n",
    "# def draw_barchart(current_day):\n",
    "#     dff = g[g['day'].eq(current_day)].sort_values(by='value', ascending=True).tail(10)\n",
    "#     ax.clear()\n",
    "#     ax.barh(dff['name'], dff['value'], color=[colors[group_lk[x]] for x in dff['name']])\n",
    "#     dx = dff['value'].max() / 200\n",
    "    \n",
    "#     for i, (value, name) in enumerate(zip(dff['value'], dff['name'])):\n",
    "#         ax.text(value-dx, i,     name,           size=14, weight=600, ha='right', va='bottom')\n",
    "#         ax.text(value-dx, i-.25, group_lk[name], size=10, color='#444444', ha='right', va='baseline')\n",
    "#         ax.text(value+dx, i,     f'{value:,.0f}',  size=14, ha='left',  va='center')\n",
    "#     ax.text(1, 0.4, current_day, transform=ax.transAxes, color='#777777', size=46, ha='right', weight=800)\n",
    "#     ax.text(0, 1.06, 'Population (thousands)', transform=ax.transAxes, size=12, color='#777777')\n",
    "#     ax.xaxis.set_major_formatter(ticker.StrMethodFormatter('{x:,.0f}'))\n",
    "#     ax.xaxis.set_ticks_position('top')\n",
    "#     ax.tick_params(axis='x', colors='#777777', labelsize=12)\n",
    "#     ax.set_yticks([])\n",
    "#     ax.margins(0, 0.01)\n",
    "#     ax.grid(which='major', axis='x', linestyle='-')\n",
    "#     ax.set_axisbelow(True)\n",
    "    \n",
    "#     ax.text(0, 1.15, 'Coronavirus',\n",
    "#             transform=ax.transAxes, size=24, weight=600, ha='left', va='top')\n",
    "# #     ax.text(1, 0, 'by @pratapvardhan; credit @jburnmurdoch', transform=ax.transAxes, color='#777777', ha='right',\n",
    "# #             bbox=dict(facecolor='white', alpha=0.8, edgecolor='white'))\n",
    "#     plt.box(False)"
   ]
  },
  {
   "cell_type": "code",
   "execution_count": 42,
   "id": "sexual-wages",
   "metadata": {
    "execution": {
     "iopub.execute_input": "2021-07-17T00:22:20.215522Z",
     "iopub.status.busy": "2021-07-17T00:22:20.215019Z",
     "iopub.status.idle": "2021-07-17T00:22:20.217297Z",
     "shell.execute_reply": "2021-07-17T00:22:20.216895Z"
    },
    "papermill": {
     "duration": 0.03545,
     "end_time": "2021-07-17T00:22:20.217403",
     "exception": false,
     "start_time": "2021-07-17T00:22:20.181953",
     "status": "completed"
    },
    "tags": []
   },
   "outputs": [],
   "source": [
    "# #hide_input\n",
    "# fig, ax = plt.subplots(figsize=(15, 8))\n",
    "# animator = animation.FuncAnimation(fig, draw_barchart, frames=range(g.day.values.min(), g.day.values.max()))\n",
    "# HTML(animator.to_jshtml())\n",
    "# # or use animator.to_html5_video() or animator.save() "
   ]
  },
  {
   "cell_type": "code",
   "execution_count": null,
   "id": "australian-container",
   "metadata": {
    "papermill": {
     "duration": 0.029856,
     "end_time": "2021-07-17T00:22:20.277316",
     "exception": false,
     "start_time": "2021-07-17T00:22:20.247460",
     "status": "completed"
    },
    "tags": []
   },
   "outputs": [],
   "source": []
  },
  {
   "cell_type": "code",
   "execution_count": null,
   "id": "mediterranean-pontiac",
   "metadata": {
    "papermill": {
     "duration": 0.029997,
     "end_time": "2021-07-17T00:22:20.337259",
     "exception": false,
     "start_time": "2021-07-17T00:22:20.307262",
     "status": "completed"
    },
    "tags": []
   },
   "outputs": [],
   "source": []
  },
  {
   "cell_type": "code",
   "execution_count": null,
   "id": "aging-legislature",
   "metadata": {
    "papermill": {
     "duration": 0.030167,
     "end_time": "2021-07-17T00:22:20.397675",
     "exception": false,
     "start_time": "2021-07-17T00:22:20.367508",
     "status": "completed"
    },
    "tags": []
   },
   "outputs": [],
   "source": []
  }
 ],
 "metadata": {
  "kernelspec": {
   "display_name": "Python 3",
   "language": "python",
   "name": "python3"
  },
  "language_info": {
   "codemirror_mode": {
    "name": "ipython",
    "version": 3
   },
   "file_extension": ".py",
   "mimetype": "text/x-python",
   "name": "python",
   "nbconvert_exporter": "python",
   "pygments_lexer": "ipython3",
   "version": "3.6.14"
  },
  "papermill": {
   "duration": 6.117969,
   "end_time": "2021-07-17T00:22:20.735518",
   "environment_variables": {},
   "exception": null,
   "input_path": "2020-03-21-covid19exp.ipynb",
   "output_path": "2020-03-21-covid19exp.ipynb",
   "parameters": {},
   "start_time": "2021-07-17T00:22:14.617549",
   "version": "2.0.0"
  }
 },
 "nbformat": 4,
 "nbformat_minor": 5
}