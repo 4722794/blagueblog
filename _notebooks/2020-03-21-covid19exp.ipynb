{
 "cells": [
  {
   "cell_type": "markdown",
   "id": "muslim-click",
   "metadata": {
    "papermill": {
     "duration": 0.048125,
     "end_time": "2021-08-11T00:29:00.673263",
     "exception": false,
     "start_time": "2021-08-11T00:29:00.625138",
     "status": "completed"
    },
    "tags": []
   },
   "source": [
    "# COVID-19 Case Race\n",
    "> A race chart to see rising cases around the world\n",
    "\n",
    "- author: Hargun Oberoi\n",
    "- image: images/covid-overview.png\n",
    "- hide: false\n",
    "- badges: false"
   ]
  },
  {
   "cell_type": "code",
   "execution_count": 1,
   "id": "proof-material",
   "metadata": {
    "execution": {
     "iopub.execute_input": "2021-08-11T00:29:00.769859Z",
     "iopub.status.busy": "2021-08-11T00:29:00.769151Z",
     "iopub.status.idle": "2021-08-11T00:29:01.182838Z",
     "shell.execute_reply": "2021-08-11T00:29:01.182217Z"
    },
    "papermill": {
     "duration": 0.467715,
     "end_time": "2021-08-11T00:29:01.183018",
     "exception": false,
     "start_time": "2021-08-11T00:29:00.715303",
     "status": "completed"
    },
    "tags": []
   },
   "outputs": [],
   "source": [
    "#hide\n",
    "import numpy as np\n",
    "import pandas as pd\n",
    "from jinja2 import Template\n",
    "from IPython.display import HTML"
   ]
  },
  {
   "cell_type": "code",
   "execution_count": 2,
   "id": "developed-terminology",
   "metadata": {
    "execution": {
     "iopub.execute_input": "2021-08-11T00:29:01.268568Z",
     "iopub.status.busy": "2021-08-11T00:29:01.267866Z",
     "iopub.status.idle": "2021-08-11T00:29:01.269784Z",
     "shell.execute_reply": "2021-08-11T00:29:01.270423Z"
    },
    "papermill": {
     "duration": 0.047082,
     "end_time": "2021-08-11T00:29:01.270605",
     "exception": false,
     "start_time": "2021-08-11T00:29:01.223523",
     "status": "completed"
    },
    "tags": []
   },
   "outputs": [],
   "source": [
    "#hide\n",
    "\n",
    "# FETCH\n",
    "base_url = 'https://raw.githubusercontent.com/pratapvardhan/notebooks/master/covid19/'\n",
    "paths = {\n",
    "    'mapping': base_url + 'mapping_countries.csv',\n",
    "    'overview': base_url + 'overview.tpl'\n",
    "}"
   ]
  },
  {
   "cell_type": "code",
   "execution_count": 3,
   "id": "dynamic-saver",
   "metadata": {
    "execution": {
     "iopub.execute_input": "2021-08-11T00:29:01.358551Z",
     "iopub.status.busy": "2021-08-11T00:29:01.356343Z",
     "iopub.status.idle": "2021-08-11T00:29:01.361300Z",
     "shell.execute_reply": "2021-08-11T00:29:01.362467Z"
    },
    "papermill": {
     "duration": 0.054645,
     "end_time": "2021-08-11T00:29:01.362803",
     "exception": false,
     "start_time": "2021-08-11T00:29:01.308158",
     "status": "completed"
    },
    "tags": []
   },
   "outputs": [
    {
     "data": {
      "text/plain": [
       "'https://raw.githubusercontent.com/pratapvardhan/notebooks/master/covid19/mapping_countries.csv'"
      ]
     },
     "execution_count": 3,
     "metadata": {},
     "output_type": "execute_result"
    }
   ],
   "source": [
    "#hide\n",
    "paths['mapping']"
   ]
  },
  {
   "cell_type": "code",
   "execution_count": 4,
   "id": "urban-software",
   "metadata": {
    "execution": {
     "iopub.execute_input": "2021-08-11T00:29:01.447289Z",
     "iopub.status.busy": "2021-08-11T00:29:01.446562Z",
     "iopub.status.idle": "2021-08-11T00:29:01.449590Z",
     "shell.execute_reply": "2021-08-11T00:29:01.449037Z"
    },
    "papermill": {
     "duration": 0.047301,
     "end_time": "2021-08-11T00:29:01.449754",
     "exception": false,
     "start_time": "2021-08-11T00:29:01.402453",
     "status": "completed"
    },
    "tags": []
   },
   "outputs": [],
   "source": [
    "#hide\n",
    "def get_mappings(url):\n",
    "    df = pd.read_csv(url)\n",
    "    return {\n",
    "        'df': df,\n",
    "        'replace.country': dict(df.dropna(subset=['Name']).set_index('Country')['Name']),\n",
    "        'map.continent': dict(df.set_index('Name')['Continent'])\n",
    "    }"
   ]
  },
  {
   "cell_type": "code",
   "execution_count": 5,
   "id": "intimate-machinery",
   "metadata": {
    "execution": {
     "iopub.execute_input": "2021-08-11T00:29:01.534819Z",
     "iopub.status.busy": "2021-08-11T00:29:01.534167Z",
     "iopub.status.idle": "2021-08-11T00:29:01.595581Z",
     "shell.execute_reply": "2021-08-11T00:29:01.594820Z"
    },
    "papermill": {
     "duration": 0.105262,
     "end_time": "2021-08-11T00:29:01.595743",
     "exception": false,
     "start_time": "2021-08-11T00:29:01.490481",
     "status": "completed"
    },
    "tags": []
   },
   "outputs": [],
   "source": [
    "#hide\n",
    "mapping = get_mappings(paths['mapping'])"
   ]
  },
  {
   "cell_type": "code",
   "execution_count": 6,
   "id": "certified-tactics",
   "metadata": {
    "execution": {
     "iopub.execute_input": "2021-08-11T00:29:01.679090Z",
     "iopub.status.busy": "2021-08-11T00:29:01.678386Z",
     "iopub.status.idle": "2021-08-11T00:29:01.681056Z",
     "shell.execute_reply": "2021-08-11T00:29:01.680471Z"
    },
    "papermill": {
     "duration": 0.047125,
     "end_time": "2021-08-11T00:29:01.681196",
     "exception": false,
     "start_time": "2021-08-11T00:29:01.634071",
     "status": "completed"
    },
    "tags": []
   },
   "outputs": [],
   "source": [
    "#hide\n",
    "def get_template(path):\n",
    "    from urllib.parse import urlparse\n",
    "    if bool(urlparse(path).netloc):\n",
    "        from urllib.request import urlopen\n",
    "        return urlopen(path).read().decode('utf8')\n",
    "    return open(path).read()"
   ]
  },
  {
   "cell_type": "code",
   "execution_count": 7,
   "id": "realistic-blast",
   "metadata": {
    "execution": {
     "iopub.execute_input": "2021-08-11T00:29:01.763251Z",
     "iopub.status.busy": "2021-08-11T00:29:01.762582Z",
     "iopub.status.idle": "2021-08-11T00:29:01.764555Z",
     "shell.execute_reply": "2021-08-11T00:29:01.765229Z"
    },
    "papermill": {
     "duration": 0.046872,
     "end_time": "2021-08-11T00:29:01.765370",
     "exception": false,
     "start_time": "2021-08-11T00:29:01.718498",
     "status": "completed"
    },
    "tags": []
   },
   "outputs": [],
   "source": [
    "#hide\n",
    "def get_frame(name):\n",
    "    url = (\n",
    "        'https://raw.githubusercontent.com/CSSEGISandData/COVID-19/master/csse_covid_19_data/'\n",
    "        f'csse_covid_19_time_series/time_series_covid19_{name}_global.csv')\n",
    "    df = pd.read_csv(url)\n",
    "    # rename countries\n",
    "    df['Country/Region'] = df['Country/Region'].replace(mapping['replace.country'])\n",
    "    return df"
   ]
  },
  {
   "cell_type": "code",
   "execution_count": 8,
   "id": "affiliated-characterization",
   "metadata": {
    "execution": {
     "iopub.execute_input": "2021-08-11T00:29:01.849732Z",
     "iopub.status.busy": "2021-08-11T00:29:01.849081Z",
     "iopub.status.idle": "2021-08-11T00:29:01.851662Z",
     "shell.execute_reply": "2021-08-11T00:29:01.851069Z"
    },
    "papermill": {
     "duration": 0.047445,
     "end_time": "2021-08-11T00:29:01.851785",
     "exception": false,
     "start_time": "2021-08-11T00:29:01.804340",
     "status": "completed"
    },
    "tags": []
   },
   "outputs": [],
   "source": [
    "#hide\n",
    "def get_dates(df):\n",
    "    dt_cols = df.columns[~df.columns.isin(['Province/State', 'Country/Region', 'Lat', 'Long'])]\n",
    "    LAST_DATE_I = -1\n",
    "    # sometimes last column may be empty, then go backwards\n",
    "    for i in range(-1, -len(dt_cols), -1):\n",
    "        if not df[dt_cols[i]].fillna(0).eq(0).all():\n",
    "            LAST_DATE_I = i\n",
    "            break\n",
    "    return LAST_DATE_I, dt_cols"
   ]
  },
  {
   "cell_type": "code",
   "execution_count": 9,
   "id": "recent-optimization",
   "metadata": {
    "execution": {
     "iopub.execute_input": "2021-08-11T00:29:01.934628Z",
     "iopub.status.busy": "2021-08-11T00:29:01.933963Z",
     "iopub.status.idle": "2021-08-11T00:29:02.385792Z",
     "shell.execute_reply": "2021-08-11T00:29:02.386491Z"
    },
    "papermill": {
     "duration": 0.496226,
     "end_time": "2021-08-11T00:29:02.386660",
     "exception": false,
     "start_time": "2021-08-11T00:29:01.890434",
     "status": "completed"
    },
    "tags": []
   },
   "outputs": [],
   "source": [
    "#hide\n",
    "COL_REGION = 'Country/Region'\n",
    "# Confirmed, Recovered, Deaths\n",
    "df = get_frame('confirmed')\n",
    "# dft_: timeseries, dfc_: today country agg\n",
    "dft_cases = df\n",
    "dft_deaths = get_frame('deaths')\n",
    "dft_recovered = get_frame('recovered')\n",
    "LAST_DATE_I, dt_cols = get_dates(df)"
   ]
  },
  {
   "cell_type": "code",
   "execution_count": 10,
   "id": "absolute-copper",
   "metadata": {
    "execution": {
     "iopub.execute_input": "2021-08-11T00:29:02.470175Z",
     "iopub.status.busy": "2021-08-11T00:29:02.469498Z",
     "iopub.status.idle": "2021-08-11T00:29:02.471408Z",
     "shell.execute_reply": "2021-08-11T00:29:02.471931Z"
    },
    "papermill": {
     "duration": 0.047002,
     "end_time": "2021-08-11T00:29:02.472137",
     "exception": false,
     "start_time": "2021-08-11T00:29:02.425135",
     "status": "completed"
    },
    "tags": []
   },
   "outputs": [],
   "source": [
    "#hide\n",
    "LAST_DATE_I, dt_cols = get_dates(df)\n",
    "dt_today =dt_cols[LAST_DATE_I]\n",
    "# dt_5day = dt_cols[LAST_DATE_I - 5]\n",
    "dt_yday = dt_cols[LAST_DATE_I - 1]"
   ]
  },
  {
   "cell_type": "code",
   "execution_count": 11,
   "id": "restricted-sheriff",
   "metadata": {
    "execution": {
     "iopub.execute_input": "2021-08-11T00:29:02.554220Z",
     "iopub.status.busy": "2021-08-11T00:29:02.553582Z",
     "iopub.status.idle": "2021-08-11T00:29:02.562443Z",
     "shell.execute_reply": "2021-08-11T00:29:02.561733Z"
    },
    "papermill": {
     "duration": 0.052599,
     "end_time": "2021-08-11T00:29:02.562586",
     "exception": false,
     "start_time": "2021-08-11T00:29:02.509987",
     "status": "completed"
    },
    "tags": []
   },
   "outputs": [],
   "source": [
    "#hide\n",
    "dfc_cases = dft_cases.groupby(COL_REGION)[dt_today].sum()\n",
    "dfc_deaths = dft_deaths.groupby(COL_REGION)[dt_today].sum()\n",
    "# dfp_cases = dft_cases.groupby(COL_REGION)[dt_5day].sum()\n",
    "# dfp_deaths = dft_deaths.groupby(COL_REGION)[dt_5day].sum()\n",
    "dfp_cases = dft_cases.groupby(COL_REGION)[dt_yday].sum()\n",
    "dfp_deaths = dft_deaths.groupby(COL_REGION)[dt_yday].sum()"
   ]
  },
  {
   "cell_type": "code",
   "execution_count": 12,
   "id": "deluxe-hepatitis",
   "metadata": {
    "execution": {
     "iopub.execute_input": "2021-08-11T00:29:02.647909Z",
     "iopub.status.busy": "2021-08-11T00:29:02.647260Z",
     "iopub.status.idle": "2021-08-11T00:29:02.652154Z",
     "shell.execute_reply": "2021-08-11T00:29:02.652727Z"
    },
    "papermill": {
     "duration": 0.050514,
     "end_time": "2021-08-11T00:29:02.652904",
     "exception": false,
     "start_time": "2021-08-11T00:29:02.602390",
     "status": "completed"
    },
    "tags": []
   },
   "outputs": [],
   "source": [
    "#hide\n",
    "df_table = (pd.DataFrame(dict(Cases = dfc_cases, Deaths = dfc_deaths, PCases = dfp_cases, PDeaths = dfp_deaths))\n",
    "            .sort_values(by = ['Cases','Deaths'], ascending = [False, False])\n",
    "            .reset_index())"
   ]
  },
  {
   "cell_type": "code",
   "execution_count": 13,
   "id": "educational-chancellor",
   "metadata": {
    "execution": {
     "iopub.execute_input": "2021-08-11T00:29:02.749634Z",
     "iopub.status.busy": "2021-08-11T00:29:02.748875Z",
     "iopub.status.idle": "2021-08-11T00:29:02.763396Z",
     "shell.execute_reply": "2021-08-11T00:29:02.762830Z"
    },
    "papermill": {
     "duration": 0.069394,
     "end_time": "2021-08-11T00:29:02.763527",
     "exception": false,
     "start_time": "2021-08-11T00:29:02.694133",
     "status": "completed"
    },
    "tags": []
   },
   "outputs": [
    {
     "data": {
      "text/html": [
       "<div>\n",
       "<style scoped>\n",
       "    .dataframe tbody tr th:only-of-type {\n",
       "        vertical-align: middle;\n",
       "    }\n",
       "\n",
       "    .dataframe tbody tr th {\n",
       "        vertical-align: top;\n",
       "    }\n",
       "\n",
       "    .dataframe thead th {\n",
       "        text-align: right;\n",
       "    }\n",
       "</style>\n",
       "<table border=\"1\" class=\"dataframe\">\n",
       "  <thead>\n",
       "    <tr style=\"text-align: right;\">\n",
       "      <th></th>\n",
       "      <th>Country/Region</th>\n",
       "      <th>Cases</th>\n",
       "      <th>Deaths</th>\n",
       "      <th>PCases</th>\n",
       "      <th>PDeaths</th>\n",
       "      <th>Cases (+)</th>\n",
       "      <th>Deaths (+)</th>\n",
       "      <th>Fatality Rate</th>\n",
       "      <th>Continent</th>\n",
       "    </tr>\n",
       "  </thead>\n",
       "  <tbody>\n",
       "    <tr>\n",
       "      <th>0</th>\n",
       "      <td>US</td>\n",
       "      <td>35948131</td>\n",
       "      <td>617321</td>\n",
       "      <td>35763785</td>\n",
       "      <td>616829</td>\n",
       "      <td>184346</td>\n",
       "      <td>492</td>\n",
       "      <td>1.72</td>\n",
       "      <td>North America</td>\n",
       "    </tr>\n",
       "    <tr>\n",
       "      <th>1</th>\n",
       "      <td>India</td>\n",
       "      <td>31998158</td>\n",
       "      <td>428682</td>\n",
       "      <td>31969954</td>\n",
       "      <td>428309</td>\n",
       "      <td>28204</td>\n",
       "      <td>373</td>\n",
       "      <td>1.34</td>\n",
       "      <td>Asia</td>\n",
       "    </tr>\n",
       "    <tr>\n",
       "      <th>2</th>\n",
       "      <td>Brazil</td>\n",
       "      <td>20177757</td>\n",
       "      <td>563562</td>\n",
       "      <td>20165672</td>\n",
       "      <td>563151</td>\n",
       "      <td>12085</td>\n",
       "      <td>411</td>\n",
       "      <td>2.79</td>\n",
       "      <td>South America</td>\n",
       "    </tr>\n",
       "    <tr>\n",
       "      <th>3</th>\n",
       "      <td>Russia</td>\n",
       "      <td>6384195</td>\n",
       "      <td>162860</td>\n",
       "      <td>6362641</td>\n",
       "      <td>162109</td>\n",
       "      <td>21554</td>\n",
       "      <td>751</td>\n",
       "      <td>2.55</td>\n",
       "      <td>Europe</td>\n",
       "    </tr>\n",
       "    <tr>\n",
       "      <th>4</th>\n",
       "      <td>France</td>\n",
       "      <td>6375268</td>\n",
       "      <td>112430</td>\n",
       "      <td>6371349</td>\n",
       "      <td>112407</td>\n",
       "      <td>3919</td>\n",
       "      <td>23</td>\n",
       "      <td>1.76</td>\n",
       "      <td>Europe</td>\n",
       "    </tr>\n",
       "  </tbody>\n",
       "</table>\n",
       "</div>"
      ],
      "text/plain": [
       "  Country/Region     Cases  Deaths    PCases  PDeaths  Cases (+)  Deaths (+)  \\\n",
       "0             US  35948131  617321  35763785   616829     184346         492   \n",
       "1          India  31998158  428682  31969954   428309      28204         373   \n",
       "2         Brazil  20177757  563562  20165672   563151      12085         411   \n",
       "3         Russia   6384195  162860   6362641   162109      21554         751   \n",
       "4         France   6375268  112430   6371349   112407       3919          23   \n",
       "\n",
       "   Fatality Rate      Continent  \n",
       "0           1.72  North America  \n",
       "1           1.34           Asia  \n",
       "2           2.79  South America  \n",
       "3           2.55         Europe  \n",
       "4           1.76         Europe  "
      ]
     },
     "execution_count": 13,
     "metadata": {},
     "output_type": "execute_result"
    }
   ],
   "source": [
    "#hide\n",
    "for c in 'Cases, Deaths'.split(', '):\n",
    "    df_table[f'{c} (+)'] = (df_table[c] - df_table[f'P{c}']).clip(0)\n",
    "    #Clip ça veut dire, les chiffres negatif sont interdit\n",
    "df_table['Fatality Rate'] = (100* df_table['Deaths']/ df_table['Cases']).round(2)\n",
    "df_table['Continent'] = df_table['Country/Region'].map(mapping['map.continent'])\n",
    "df_table.head(5)"
   ]
  },
  {
   "cell_type": "code",
   "execution_count": 14,
   "id": "aboriginal-bulgaria",
   "metadata": {
    "execution": {
     "iopub.execute_input": "2021-08-11T00:29:02.849534Z",
     "iopub.status.busy": "2021-08-11T00:29:02.848841Z",
     "iopub.status.idle": "2021-08-11T00:29:02.850885Z",
     "shell.execute_reply": "2021-08-11T00:29:02.851504Z"
    },
    "papermill": {
     "duration": 0.04863,
     "end_time": "2021-08-11T00:29:02.851643",
     "exception": false,
     "start_time": "2021-08-11T00:29:02.803013",
     "status": "completed"
    },
    "tags": []
   },
   "outputs": [],
   "source": [
    "#hide\n",
    "#delete problematic countries from table\n",
    "df_table = df_table[~df_table['Country/Region'].isin(['Cape Verde', 'Cruise Ship', 'Kosovo'])]"
   ]
  },
  {
   "cell_type": "code",
   "execution_count": 15,
   "id": "fantastic-effect",
   "metadata": {
    "execution": {
     "iopub.execute_input": "2021-08-11T00:29:02.939579Z",
     "iopub.status.busy": "2021-08-11T00:29:02.938883Z",
     "iopub.status.idle": "2021-08-11T00:29:02.960497Z",
     "shell.execute_reply": "2021-08-11T00:29:02.959901Z"
    },
    "papermill": {
     "duration": 0.068995,
     "end_time": "2021-08-11T00:29:02.960626",
     "exception": false,
     "start_time": "2021-08-11T00:29:02.891631",
     "status": "completed"
    },
    "tags": []
   },
   "outputs": [
    {
     "data": {
      "text/html": [
       "<div>\n",
       "<style scoped>\n",
       "    .dataframe tbody tr th:only-of-type {\n",
       "        vertical-align: middle;\n",
       "    }\n",
       "\n",
       "    .dataframe tbody tr th {\n",
       "        vertical-align: top;\n",
       "    }\n",
       "\n",
       "    .dataframe thead th {\n",
       "        text-align: right;\n",
       "    }\n",
       "</style>\n",
       "<table border=\"1\" class=\"dataframe\">\n",
       "  <thead>\n",
       "    <tr style=\"text-align: right;\">\n",
       "      <th></th>\n",
       "      <th>Country/Region</th>\n",
       "      <th>Cases</th>\n",
       "      <th>Deaths</th>\n",
       "      <th>PCases</th>\n",
       "      <th>PDeaths</th>\n",
       "      <th>Cases (+)</th>\n",
       "      <th>Deaths (+)</th>\n",
       "      <th>Fatality Rate</th>\n",
       "      <th>Continent</th>\n",
       "    </tr>\n",
       "  </thead>\n",
       "  <tbody>\n",
       "    <tr>\n",
       "      <th>0</th>\n",
       "      <td>US</td>\n",
       "      <td>35948131</td>\n",
       "      <td>617321</td>\n",
       "      <td>35763785</td>\n",
       "      <td>616829</td>\n",
       "      <td>184346</td>\n",
       "      <td>492</td>\n",
       "      <td>1.7</td>\n",
       "      <td>North America</td>\n",
       "    </tr>\n",
       "    <tr>\n",
       "      <th>1</th>\n",
       "      <td>India</td>\n",
       "      <td>31998158</td>\n",
       "      <td>428682</td>\n",
       "      <td>31969954</td>\n",
       "      <td>428309</td>\n",
       "      <td>28204</td>\n",
       "      <td>373</td>\n",
       "      <td>1.3</td>\n",
       "      <td>Asia</td>\n",
       "    </tr>\n",
       "    <tr>\n",
       "      <th>2</th>\n",
       "      <td>Brazil</td>\n",
       "      <td>20177757</td>\n",
       "      <td>563562</td>\n",
       "      <td>20165672</td>\n",
       "      <td>563151</td>\n",
       "      <td>12085</td>\n",
       "      <td>411</td>\n",
       "      <td>2.8</td>\n",
       "      <td>South America</td>\n",
       "    </tr>\n",
       "    <tr>\n",
       "      <th>3</th>\n",
       "      <td>Russia</td>\n",
       "      <td>6384195</td>\n",
       "      <td>162860</td>\n",
       "      <td>6362641</td>\n",
       "      <td>162109</td>\n",
       "      <td>21554</td>\n",
       "      <td>751</td>\n",
       "      <td>2.6</td>\n",
       "      <td>Europe</td>\n",
       "    </tr>\n",
       "    <tr>\n",
       "      <th>4</th>\n",
       "      <td>France</td>\n",
       "      <td>6375268</td>\n",
       "      <td>112430</td>\n",
       "      <td>6371349</td>\n",
       "      <td>112407</td>\n",
       "      <td>3919</td>\n",
       "      <td>23</td>\n",
       "      <td>1.8</td>\n",
       "      <td>Europe</td>\n",
       "    </tr>\n",
       "  </tbody>\n",
       "</table>\n",
       "</div>"
      ],
      "text/plain": [
       "  Country/Region     Cases  Deaths    PCases  PDeaths  Cases (+)  Deaths (+)  \\\n",
       "0             US  35948131  617321  35763785   616829     184346         492   \n",
       "1          India  31998158  428682  31969954   428309      28204         373   \n",
       "2         Brazil  20177757  563562  20165672   563151      12085         411   \n",
       "3         Russia   6384195  162860   6362641   162109      21554         751   \n",
       "4         France   6375268  112430   6371349   112407       3919          23   \n",
       "\n",
       "   Fatality Rate      Continent  \n",
       "0            1.7  North America  \n",
       "1            1.3           Asia  \n",
       "2            2.8  South America  \n",
       "3            2.6         Europe  \n",
       "4            1.8         Europe  "
      ]
     },
     "execution_count": 15,
     "metadata": {},
     "output_type": "execute_result"
    }
   ],
   "source": [
    "#hide\n",
    "df_table = (pd.DataFrame(dict(Cases=dfc_cases, Deaths=dfc_deaths, PCases=dfp_cases, PDeaths=dfp_deaths))\n",
    "             .sort_values(by=['Cases', 'Deaths'], ascending=[False, False])\n",
    "             .reset_index())\n",
    "df_table.rename(columns={'index': 'Country/Region'}, inplace=True)\n",
    "for c in 'Cases, Deaths'.split(', '):\n",
    "    df_table[f'{c} (+)'] = (df_table[c] - df_table[f'P{c}']).clip(0)  # DATA BUG\n",
    "df_table['Fatality Rate'] = (100 * df_table['Deaths'] / df_table['Cases']).round(1)\n",
    "df_table['Continent'] = df_table['Country/Region'].map(mapping['map.continent'])\n",
    "df_table.head(5)"
   ]
  },
  {
   "cell_type": "code",
   "execution_count": 16,
   "id": "fewer-occasion",
   "metadata": {
    "execution": {
     "iopub.execute_input": "2021-08-11T00:29:03.044325Z",
     "iopub.status.busy": "2021-08-11T00:29:03.043657Z",
     "iopub.status.idle": "2021-08-11T00:29:03.046672Z",
     "shell.execute_reply": "2021-08-11T00:29:03.047278Z"
    },
    "papermill": {
     "duration": 0.047339,
     "end_time": "2021-08-11T00:29:03.047442",
     "exception": false,
     "start_time": "2021-08-11T00:29:03.000103",
     "status": "completed"
    },
    "tags": []
   },
   "outputs": [],
   "source": [
    "#hide\n",
    "#delete problematic countries from table\n",
    "df_table = df_table[~df_table['Country/Region'].isin(['Cape Verde', 'Cruise Ship', 'Kosovo'])]"
   ]
  },
  {
   "cell_type": "code",
   "execution_count": 17,
   "id": "related-center",
   "metadata": {
    "execution": {
     "iopub.execute_input": "2021-08-11T00:29:03.149103Z",
     "iopub.status.busy": "2021-08-11T00:29:03.148424Z",
     "iopub.status.idle": "2021-08-11T00:29:03.150019Z",
     "shell.execute_reply": "2021-08-11T00:29:03.150671Z"
    },
    "papermill": {
     "duration": 0.062621,
     "end_time": "2021-08-11T00:29:03.150838",
     "exception": false,
     "start_time": "2021-08-11T00:29:03.088217",
     "status": "completed"
    },
    "tags": []
   },
   "outputs": [],
   "source": [
    "#hide\n",
    "metrics = [df_table.columns[index] for index in [1,2,5,6]]\n",
    "# s_china = df_table[df_table['Country/Region'].eq('China')][metrics].sum().add_prefix('China ')\n",
    "s_us = df_table[df_table['Country/Region'].eq('US')][metrics].sum().add_prefix('US ')\n",
    "s_eu = df_table[df_table['Continent'].eq('Europe')][metrics].sum().add_prefix('EU ')\n",
    "s_ind = df_table[df_table['Country/Region'].eq('India')][metrics].sum().add_prefix('India ')\n",
    "summary = {'updated': pd.to_datetime(dt_today), 'since': pd.to_datetime(dt_yday)}\n",
    "summary = {'updated': pd.to_datetime(dt_today), 'since': pd.to_datetime(dt_yday)}\n",
    "summary = {**summary, **df_table[metrics].sum(), **s_ind, **s_us, **s_eu}"
   ]
  },
  {
   "cell_type": "code",
   "execution_count": 18,
   "id": "engaging-syndrome",
   "metadata": {
    "execution": {
     "iopub.execute_input": "2021-08-11T00:29:03.236088Z",
     "iopub.status.busy": "2021-08-11T00:29:03.235408Z",
     "iopub.status.idle": "2021-08-11T00:29:03.250427Z",
     "shell.execute_reply": "2021-08-11T00:29:03.249758Z"
    },
    "papermill": {
     "duration": 0.059727,
     "end_time": "2021-08-11T00:29:03.250592",
     "exception": false,
     "start_time": "2021-08-11T00:29:03.190865",
     "status": "completed"
    },
    "tags": []
   },
   "outputs": [],
   "source": [
    "#hide\n",
    "dft_ct_new_cases = dft_cases.groupby(COL_REGION)[dt_cols].sum().diff(axis=1).fillna(0).astype(int)"
   ]
  },
  {
   "cell_type": "code",
   "execution_count": 19,
   "id": "neutral-assignment",
   "metadata": {
    "execution": {
     "iopub.execute_input": "2021-08-11T00:29:03.336997Z",
     "iopub.status.busy": "2021-08-11T00:29:03.336281Z",
     "iopub.status.idle": "2021-08-11T00:29:03.338719Z",
     "shell.execute_reply": "2021-08-11T00:29:03.339310Z"
    },
    "papermill": {
     "duration": 0.04766,
     "end_time": "2021-08-11T00:29:03.339477",
     "exception": false,
     "start_time": "2021-08-11T00:29:03.291817",
     "status": "completed"
    },
    "tags": []
   },
   "outputs": [],
   "source": [
    "#hide\n",
    "everydaycases = dft_ct_new_cases.cumsum(axis=1)"
   ]
  },
  {
   "cell_type": "code",
   "execution_count": 20,
   "id": "parliamentary-calgary",
   "metadata": {
    "execution": {
     "iopub.execute_input": "2021-08-11T00:29:03.423104Z",
     "iopub.status.busy": "2021-08-11T00:29:03.422420Z",
     "iopub.status.idle": "2021-08-11T00:29:04.120058Z",
     "shell.execute_reply": "2021-08-11T00:29:04.120589Z"
    },
    "papermill": {
     "duration": 0.742036,
     "end_time": "2021-08-11T00:29:04.120758",
     "exception": false,
     "start_time": "2021-08-11T00:29:03.378722",
     "status": "completed"
    },
    "tags": []
   },
   "outputs": [],
   "source": [
    "#hide\n",
    "import pandas as pd\n",
    "import matplotlib.pyplot as plt\n",
    "import matplotlib.ticker as ticker\n",
    "import matplotlib.animation as animation\n",
    "from IPython.display import HTML"
   ]
  },
  {
   "cell_type": "code",
   "execution_count": 21,
   "id": "lasting-extraction",
   "metadata": {
    "execution": {
     "iopub.execute_input": "2021-08-11T00:29:04.210213Z",
     "iopub.status.busy": "2021-08-11T00:29:04.209423Z",
     "iopub.status.idle": "2021-08-11T00:29:04.215711Z",
     "shell.execute_reply": "2021-08-11T00:29:04.215099Z"
    },
    "papermill": {
     "duration": 0.051736,
     "end_time": "2021-08-11T00:29:04.215852",
     "exception": false,
     "start_time": "2021-08-11T00:29:04.164116",
     "status": "completed"
    },
    "tags": []
   },
   "outputs": [],
   "source": [
    "#hide\n",
    "t = everydaycases.stack()"
   ]
  },
  {
   "cell_type": "code",
   "execution_count": 22,
   "id": "premier-sleeve",
   "metadata": {
    "execution": {
     "iopub.execute_input": "2021-08-11T00:29:04.306424Z",
     "iopub.status.busy": "2021-08-11T00:29:04.305778Z",
     "iopub.status.idle": "2021-08-11T00:29:04.314910Z",
     "shell.execute_reply": "2021-08-11T00:29:04.314294Z"
    },
    "papermill": {
     "duration": 0.054774,
     "end_time": "2021-08-11T00:29:04.315044",
     "exception": false,
     "start_time": "2021-08-11T00:29:04.260270",
     "status": "completed"
    },
    "tags": []
   },
   "outputs": [],
   "source": [
    "#hide\n",
    "g = t.reset_index(['Country/Region'])"
   ]
  },
  {
   "cell_type": "code",
   "execution_count": 23,
   "id": "distributed-pittsburgh",
   "metadata": {
    "execution": {
     "iopub.execute_input": "2021-08-11T00:29:04.407240Z",
     "iopub.status.busy": "2021-08-11T00:29:04.406560Z",
     "iopub.status.idle": "2021-08-11T00:29:04.408569Z",
     "shell.execute_reply": "2021-08-11T00:29:04.409251Z"
    },
    "papermill": {
     "duration": 0.048352,
     "end_time": "2021-08-11T00:29:04.409438",
     "exception": false,
     "start_time": "2021-08-11T00:29:04.361086",
     "status": "completed"
    },
    "tags": []
   },
   "outputs": [],
   "source": [
    "#hide\n",
    "g.index.name = 'date'"
   ]
  },
  {
   "cell_type": "code",
   "execution_count": 24,
   "id": "naked-donor",
   "metadata": {
    "execution": {
     "iopub.execute_input": "2021-08-11T00:29:04.488379Z",
     "iopub.status.busy": "2021-08-11T00:29:04.487667Z",
     "iopub.status.idle": "2021-08-11T00:29:04.491850Z",
     "shell.execute_reply": "2021-08-11T00:29:04.491181Z"
    },
    "papermill": {
     "duration": 0.043637,
     "end_time": "2021-08-11T00:29:04.491994",
     "exception": false,
     "start_time": "2021-08-11T00:29:04.448357",
     "status": "completed"
    },
    "tags": []
   },
   "outputs": [],
   "source": [
    "# #hide\n",
    "# g = g.reset_index(['date'])"
   ]
  },
  {
   "cell_type": "code",
   "execution_count": 25,
   "id": "incomplete-mustang",
   "metadata": {
    "execution": {
     "iopub.execute_input": "2021-08-11T00:29:04.573793Z",
     "iopub.status.busy": "2021-08-11T00:29:04.572432Z",
     "iopub.status.idle": "2021-08-11T00:29:04.574532Z",
     "shell.execute_reply": "2021-08-11T00:29:04.575020Z"
    },
    "papermill": {
     "duration": 0.045742,
     "end_time": "2021-08-11T00:29:04.575182",
     "exception": false,
     "start_time": "2021-08-11T00:29:04.529440",
     "status": "completed"
    },
    "tags": []
   },
   "outputs": [],
   "source": [
    "#hide\n",
    "# g.head()"
   ]
  },
  {
   "cell_type": "code",
   "execution_count": 26,
   "id": "specific-kruger",
   "metadata": {
    "execution": {
     "iopub.execute_input": "2021-08-11T00:29:04.656091Z",
     "iopub.status.busy": "2021-08-11T00:29:04.654679Z",
     "iopub.status.idle": "2021-08-11T00:29:04.656818Z",
     "shell.execute_reply": "2021-08-11T00:29:04.657409Z"
    },
    "papermill": {
     "duration": 0.044131,
     "end_time": "2021-08-11T00:29:04.657554",
     "exception": false,
     "start_time": "2021-08-11T00:29:04.613423",
     "status": "completed"
    },
    "tags": []
   },
   "outputs": [],
   "source": [
    "#hide\n",
    "# g.columns = ['date','country','cases']"
   ]
  },
  {
   "cell_type": "code",
   "execution_count": 27,
   "id": "tender-conversion",
   "metadata": {
    "execution": {
     "iopub.execute_input": "2021-08-11T00:29:04.740366Z",
     "iopub.status.busy": "2021-08-11T00:29:04.739645Z",
     "iopub.status.idle": "2021-08-11T00:29:04.742206Z",
     "shell.execute_reply": "2021-08-11T00:29:04.741669Z"
    },
    "papermill": {
     "duration": 0.045693,
     "end_time": "2021-08-11T00:29:04.742366",
     "exception": false,
     "start_time": "2021-08-11T00:29:04.696673",
     "status": "completed"
    },
    "tags": []
   },
   "outputs": [],
   "source": [
    "#hide\n",
    "# g['continent'] = g.country"
   ]
  },
  {
   "cell_type": "code",
   "execution_count": 28,
   "id": "substantial-wilderness",
   "metadata": {
    "execution": {
     "iopub.execute_input": "2021-08-11T00:29:04.826514Z",
     "iopub.status.busy": "2021-08-11T00:29:04.825863Z",
     "iopub.status.idle": "2021-08-11T00:29:04.828004Z",
     "shell.execute_reply": "2021-08-11T00:29:04.828715Z"
    },
    "papermill": {
     "duration": 0.047948,
     "end_time": "2021-08-11T00:29:04.828861",
     "exception": false,
     "start_time": "2021-08-11T00:29:04.780913",
     "status": "completed"
    },
    "tags": []
   },
   "outputs": [],
   "source": [
    "#hide\n",
    "# cols = list(g.columns.values)"
   ]
  },
  {
   "cell_type": "code",
   "execution_count": 29,
   "id": "solved-farming",
   "metadata": {
    "execution": {
     "iopub.execute_input": "2021-08-11T00:29:04.917405Z",
     "iopub.status.busy": "2021-08-11T00:29:04.916758Z",
     "iopub.status.idle": "2021-08-11T00:29:04.919549Z",
     "shell.execute_reply": "2021-08-11T00:29:04.918818Z"
    },
    "papermill": {
     "duration": 0.052049,
     "end_time": "2021-08-11T00:29:04.919682",
     "exception": false,
     "start_time": "2021-08-11T00:29:04.867633",
     "status": "completed"
    },
    "tags": []
   },
   "outputs": [],
   "source": [
    "#hide\n",
    "# cols.insert(0, cols.pop())"
   ]
  },
  {
   "cell_type": "code",
   "execution_count": 30,
   "id": "executed-adoption",
   "metadata": {
    "execution": {
     "iopub.execute_input": "2021-08-11T00:29:05.005532Z",
     "iopub.status.busy": "2021-08-11T00:29:05.004873Z",
     "iopub.status.idle": "2021-08-11T00:29:05.007531Z",
     "shell.execute_reply": "2021-08-11T00:29:05.006985Z"
    },
    "papermill": {
     "duration": 0.049098,
     "end_time": "2021-08-11T00:29:05.007658",
     "exception": false,
     "start_time": "2021-08-11T00:29:04.958560",
     "status": "completed"
    },
    "tags": []
   },
   "outputs": [],
   "source": [
    "#hide\n",
    "# g = g[cols]"
   ]
  },
  {
   "cell_type": "code",
   "execution_count": 31,
   "id": "subject-dublin",
   "metadata": {
    "execution": {
     "iopub.execute_input": "2021-08-11T00:29:05.093268Z",
     "iopub.status.busy": "2021-08-11T00:29:05.092607Z",
     "iopub.status.idle": "2021-08-11T00:29:05.094566Z",
     "shell.execute_reply": "2021-08-11T00:29:05.095177Z"
    },
    "papermill": {
     "duration": 0.048236,
     "end_time": "2021-08-11T00:29:05.095319",
     "exception": false,
     "start_time": "2021-08-11T00:29:05.047083",
     "status": "completed"
    },
    "tags": []
   },
   "outputs": [],
   "source": [
    "#hide\n",
    "# g['continent'] = g['continent'].map(mapping['map.continent'])"
   ]
  },
  {
   "cell_type": "code",
   "execution_count": 32,
   "id": "freelance-scout",
   "metadata": {
    "execution": {
     "iopub.execute_input": "2021-08-11T00:29:05.177727Z",
     "iopub.status.busy": "2021-08-11T00:29:05.177053Z",
     "iopub.status.idle": "2021-08-11T00:29:05.179570Z",
     "shell.execute_reply": "2021-08-11T00:29:05.179022Z"
    },
    "papermill": {
     "duration": 0.045014,
     "end_time": "2021-08-11T00:29:05.179694",
     "exception": false,
     "start_time": "2021-08-11T00:29:05.134680",
     "status": "completed"
    },
    "tags": []
   },
   "outputs": [],
   "source": [
    "#hide\n",
    "# g.head()"
   ]
  },
  {
   "cell_type": "code",
   "execution_count": 33,
   "id": "limited-engine",
   "metadata": {
    "execution": {
     "iopub.execute_input": "2021-08-11T00:29:05.264165Z",
     "iopub.status.busy": "2021-08-11T00:29:05.263451Z",
     "iopub.status.idle": "2021-08-11T00:29:05.265492Z",
     "shell.execute_reply": "2021-08-11T00:29:05.266097Z"
    },
    "papermill": {
     "duration": 0.045697,
     "end_time": "2021-08-11T00:29:05.266237",
     "exception": false,
     "start_time": "2021-08-11T00:29:05.220540",
     "status": "completed"
    },
    "tags": []
   },
   "outputs": [],
   "source": [
    "# hide\n",
    "# g['date'] = g['date'].astype('datetime64[ns]')"
   ]
  },
  {
   "cell_type": "code",
   "execution_count": 34,
   "id": "sophisticated-supervisor",
   "metadata": {
    "execution": {
     "iopub.execute_input": "2021-08-11T00:29:05.348722Z",
     "iopub.status.busy": "2021-08-11T00:29:05.348057Z",
     "iopub.status.idle": "2021-08-11T00:29:05.355204Z",
     "shell.execute_reply": "2021-08-11T00:29:05.354520Z"
    },
    "papermill": {
     "duration": 0.050048,
     "end_time": "2021-08-11T00:29:05.355348",
     "exception": false,
     "start_time": "2021-08-11T00:29:05.305300",
     "status": "completed"
    },
    "tags": []
   },
   "outputs": [],
   "source": [
    "#hide\n",
    "# g['date'] = g.date.dt.dayofyear"
   ]
  },
  {
   "cell_type": "code",
   "execution_count": 35,
   "id": "inside-dubai",
   "metadata": {
    "execution": {
     "iopub.execute_input": "2021-08-11T00:29:05.440018Z",
     "iopub.status.busy": "2021-08-11T00:29:05.439303Z",
     "iopub.status.idle": "2021-08-11T00:29:05.441978Z",
     "shell.execute_reply": "2021-08-11T00:29:05.441383Z"
    },
    "papermill": {
     "duration": 0.045648,
     "end_time": "2021-08-11T00:29:05.442104",
     "exception": false,
     "start_time": "2021-08-11T00:29:05.396456",
     "status": "completed"
    },
    "tags": []
   },
   "outputs": [],
   "source": [
    "#hide\n",
    "# g = g.rename(columns= {'continent':'group','country':'name','cases':'value'})"
   ]
  },
  {
   "cell_type": "code",
   "execution_count": 36,
   "id": "fleet-motorcycle",
   "metadata": {
    "execution": {
     "iopub.execute_input": "2021-08-11T00:29:05.528719Z",
     "iopub.status.busy": "2021-08-11T00:29:05.528062Z",
     "iopub.status.idle": "2021-08-11T00:29:05.530774Z",
     "shell.execute_reply": "2021-08-11T00:29:05.530197Z"
    },
    "papermill": {
     "duration": 0.047558,
     "end_time": "2021-08-11T00:29:05.530898",
     "exception": false,
     "start_time": "2021-08-11T00:29:05.483340",
     "status": "completed"
    },
    "tags": []
   },
   "outputs": [],
   "source": [
    "#hide\n",
    "# cols = ['name','group','day','value']"
   ]
  },
  {
   "cell_type": "code",
   "execution_count": 37,
   "id": "continued-sleeping",
   "metadata": {
    "execution": {
     "iopub.execute_input": "2021-08-11T00:29:05.620555Z",
     "iopub.status.busy": "2021-08-11T00:29:05.619795Z",
     "iopub.status.idle": "2021-08-11T00:29:05.622428Z",
     "shell.execute_reply": "2021-08-11T00:29:05.621802Z"
    },
    "papermill": {
     "duration": 0.051178,
     "end_time": "2021-08-11T00:29:05.622558",
     "exception": false,
     "start_time": "2021-08-11T00:29:05.571380",
     "status": "completed"
    },
    "tags": []
   },
   "outputs": [],
   "source": [
    "#hide\n",
    "# g.rename(columns= {'date':'day'},inplace = True)"
   ]
  },
  {
   "cell_type": "code",
   "execution_count": 38,
   "id": "major-fight",
   "metadata": {
    "execution": {
     "iopub.execute_input": "2021-08-11T00:29:05.708278Z",
     "iopub.status.busy": "2021-08-11T00:29:05.707592Z",
     "iopub.status.idle": "2021-08-11T00:29:05.710289Z",
     "shell.execute_reply": "2021-08-11T00:29:05.709722Z"
    },
    "papermill": {
     "duration": 0.047802,
     "end_time": "2021-08-11T00:29:05.710443",
     "exception": false,
     "start_time": "2021-08-11T00:29:05.662641",
     "status": "completed"
    },
    "tags": []
   },
   "outputs": [],
   "source": [
    "#hide\n",
    "# g = g[cols]"
   ]
  },
  {
   "cell_type": "code",
   "execution_count": 39,
   "id": "structured-mobile",
   "metadata": {
    "execution": {
     "iopub.execute_input": "2021-08-11T00:29:05.794294Z",
     "iopub.status.busy": "2021-08-11T00:29:05.793637Z",
     "iopub.status.idle": "2021-08-11T00:29:05.797072Z",
     "shell.execute_reply": "2021-08-11T00:29:05.795553Z"
    },
    "papermill": {
     "duration": 0.046557,
     "end_time": "2021-08-11T00:29:05.797213",
     "exception": false,
     "start_time": "2021-08-11T00:29:05.750656",
     "status": "completed"
    },
    "tags": []
   },
   "outputs": [],
   "source": [
    "# #hide\n",
    "# g = g[g.group.notna()]"
   ]
  },
  {
   "cell_type": "code",
   "execution_count": 40,
   "id": "determined-closing",
   "metadata": {
    "execution": {
     "iopub.execute_input": "2021-08-11T00:29:05.880116Z",
     "iopub.status.busy": "2021-08-11T00:29:05.879403Z",
     "iopub.status.idle": "2021-08-11T00:29:05.881825Z",
     "shell.execute_reply": "2021-08-11T00:29:05.881161Z"
    },
    "papermill": {
     "duration": 0.045414,
     "end_time": "2021-08-11T00:29:05.881960",
     "exception": false,
     "start_time": "2021-08-11T00:29:05.836546",
     "status": "completed"
    },
    "tags": []
   },
   "outputs": [],
   "source": [
    "# #hide\n",
    "# colors = dict(zip(\n",
    "#     [\"Oceania\", \"Europe\", \"Asia\", \"South America\", \"Middle East\", \"North America\", \"Africa\"],\n",
    "#     [\"#adb0ff\", \"#ffb3ff\", \"#90d595\", \"#e48381\", \"#aafbff\", \"#f7bb5f\", \"#eafb50\"]\n",
    "# ))\n",
    "# group_lk = g.set_index('name')['group'].to_dict()"
   ]
  },
  {
   "cell_type": "code",
   "execution_count": null,
   "id": "gross-drinking",
   "metadata": {
    "papermill": {
     "duration": 0.038639,
     "end_time": "2021-08-11T00:29:05.961970",
     "exception": false,
     "start_time": "2021-08-11T00:29:05.923331",
     "status": "completed"
    },
    "tags": []
   },
   "outputs": [],
   "source": []
  },
  {
   "cell_type": "code",
   "execution_count": 41,
   "id": "subject-macintosh",
   "metadata": {
    "execution": {
     "iopub.execute_input": "2021-08-11T00:29:06.046721Z",
     "iopub.status.busy": "2021-08-11T00:29:06.045993Z",
     "iopub.status.idle": "2021-08-11T00:29:06.048717Z",
     "shell.execute_reply": "2021-08-11T00:29:06.048103Z"
    },
    "papermill": {
     "duration": 0.046779,
     "end_time": "2021-08-11T00:29:06.048852",
     "exception": false,
     "start_time": "2021-08-11T00:29:06.002073",
     "status": "completed"
    },
    "tags": []
   },
   "outputs": [],
   "source": [
    "# #hide\n",
    "# fig, ax = plt.subplots(figsize=(15, 8))\n",
    "\n",
    "# def draw_barchart(current_day):\n",
    "#     dff = g[g['day'].eq(current_day)].sort_values(by='value', ascending=True).tail(10)\n",
    "#     ax.clear()\n",
    "#     ax.barh(dff['name'], dff['value'], color=[colors[group_lk[x]] for x in dff['name']])\n",
    "#     dx = dff['value'].max() / 200\n",
    "    \n",
    "#     for i, (value, name) in enumerate(zip(dff['value'], dff['name'])):\n",
    "#         ax.text(value-dx, i,     name,           size=14, weight=600, ha='right', va='bottom')\n",
    "#         ax.text(value-dx, i-.25, group_lk[name], size=10, color='#444444', ha='right', va='baseline')\n",
    "#         ax.text(value+dx, i,     f'{value:,.0f}',  size=14, ha='left',  va='center')\n",
    "#     ax.text(1, 0.4, current_day, transform=ax.transAxes, color='#777777', size=46, ha='right', weight=800)\n",
    "#     ax.text(0, 1.06, 'Population (thousands)', transform=ax.transAxes, size=12, color='#777777')\n",
    "#     ax.xaxis.set_major_formatter(ticker.StrMethodFormatter('{x:,.0f}'))\n",
    "#     ax.xaxis.set_ticks_position('top')\n",
    "#     ax.tick_params(axis='x', colors='#777777', labelsize=12)\n",
    "#     ax.set_yticks([])\n",
    "#     ax.margins(0, 0.01)\n",
    "#     ax.grid(which='major', axis='x', linestyle='-')\n",
    "#     ax.set_axisbelow(True)\n",
    "    \n",
    "#     ax.text(0, 1.15, 'Coronavirus',\n",
    "#             transform=ax.transAxes, size=24, weight=600, ha='left', va='top')\n",
    "# #     ax.text(1, 0, 'by @pratapvardhan; credit @jburnmurdoch', transform=ax.transAxes, color='#777777', ha='right',\n",
    "# #             bbox=dict(facecolor='white', alpha=0.8, edgecolor='white'))\n",
    "#     plt.box(False)"
   ]
  },
  {
   "cell_type": "code",
   "execution_count": 42,
   "id": "sexual-wages",
   "metadata": {
    "execution": {
     "iopub.execute_input": "2021-08-11T00:29:06.135678Z",
     "iopub.status.busy": "2021-08-11T00:29:06.135040Z",
     "iopub.status.idle": "2021-08-11T00:29:06.137431Z",
     "shell.execute_reply": "2021-08-11T00:29:06.136883Z"
    },
    "papermill": {
     "duration": 0.046518,
     "end_time": "2021-08-11T00:29:06.137556",
     "exception": false,
     "start_time": "2021-08-11T00:29:06.091038",
     "status": "completed"
    },
    "tags": []
   },
   "outputs": [],
   "source": [
    "# #hide_input\n",
    "# fig, ax = plt.subplots(figsize=(15, 8))\n",
    "# animator = animation.FuncAnimation(fig, draw_barchart, frames=range(g.day.values.min(), g.day.values.max()))\n",
    "# HTML(animator.to_jshtml())\n",
    "# # or use animator.to_html5_video() or animator.save() "
   ]
  },
  {
   "cell_type": "code",
   "execution_count": null,
   "id": "australian-container",
   "metadata": {
    "papermill": {
     "duration": 0.049669,
     "end_time": "2021-08-11T00:29:06.226790",
     "exception": false,
     "start_time": "2021-08-11T00:29:06.177121",
     "status": "completed"
    },
    "tags": []
   },
   "outputs": [],
   "source": []
  },
  {
   "cell_type": "code",
   "execution_count": null,
   "id": "mediterranean-pontiac",
   "metadata": {
    "papermill": {
     "duration": 0.042543,
     "end_time": "2021-08-11T00:29:06.322080",
     "exception": false,
     "start_time": "2021-08-11T00:29:06.279537",
     "status": "completed"
    },
    "tags": []
   },
   "outputs": [],
   "source": []
  },
  {
   "cell_type": "code",
   "execution_count": null,
   "id": "aging-legislature",
   "metadata": {
    "papermill": {
     "duration": 0.042473,
     "end_time": "2021-08-11T00:29:06.407075",
     "exception": false,
     "start_time": "2021-08-11T00:29:06.364602",
     "status": "completed"
    },
    "tags": []
   },
   "outputs": [],
   "source": []
  }
 ],
 "metadata": {
  "kernelspec": {
   "display_name": "Python 3",
   "language": "python",
   "name": "python3"
  },
  "language_info": {
   "codemirror_mode": {
    "name": "ipython",
    "version": 3
   },
   "file_extension": ".py",
   "mimetype": "text/x-python",
   "name": "python",
   "nbconvert_exporter": "python",
   "pygments_lexer": "ipython3",
   "version": "3.6.14"
  },
  "papermill": {
   "duration": 7.263851,
   "end_time": "2021-08-11T00:29:06.754137",
   "environment_variables": {},
   "exception": null,
   "input_path": "2020-03-21-covid19exp.ipynb",
   "output_path": "2020-03-21-covid19exp.ipynb",
   "parameters": {},
   "start_time": "2021-08-11T00:28:59.490286",
   "version": "2.0.0"
  }
 },
 "nbformat": 4,
 "nbformat_minor": 5
}