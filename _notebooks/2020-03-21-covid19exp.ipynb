{
 "cells": [
  {
   "cell_type": "markdown",
   "id": "muslim-click",
   "metadata": {
    "papermill": {
     "duration": 0.048499,
     "end_time": "2022-11-06T00:47:59.578682",
     "exception": false,
     "start_time": "2022-11-06T00:47:59.530183",
     "status": "completed"
    },
    "tags": []
   },
   "source": [
    "# COVID-19 Case Race\n",
    "> A race chart to see rising cases around the world\n",
    "\n",
    "- author: Hargun Oberoi\n",
    "- image: images/covid-overview.png\n",
    "- hide: false\n",
    "- badges: false"
   ]
  },
  {
   "cell_type": "code",
   "execution_count": 1,
   "id": "proof-material",
   "metadata": {
    "execution": {
     "iopub.execute_input": "2022-11-06T00:47:59.679686Z",
     "iopub.status.busy": "2022-11-06T00:47:59.678737Z",
     "iopub.status.idle": "2022-11-06T00:48:00.115108Z",
     "shell.execute_reply": "2022-11-06T00:48:00.114272Z"
    },
    "papermill": {
     "duration": 0.490868,
     "end_time": "2022-11-06T00:48:00.115291",
     "exception": false,
     "start_time": "2022-11-06T00:47:59.624423",
     "status": "completed"
    },
    "tags": []
   },
   "outputs": [],
   "source": [
    "#hide\n",
    "import numpy as np\n",
    "import pandas as pd\n",
    "from jinja2 import Template\n",
    "from IPython.display import HTML"
   ]
  },
  {
   "cell_type": "code",
   "execution_count": 2,
   "id": "developed-terminology",
   "metadata": {
    "execution": {
     "iopub.execute_input": "2022-11-06T00:48:00.204293Z",
     "iopub.status.busy": "2022-11-06T00:48:00.203485Z",
     "iopub.status.idle": "2022-11-06T00:48:00.207245Z",
     "shell.execute_reply": "2022-11-06T00:48:00.206616Z"
    },
    "papermill": {
     "duration": 0.050412,
     "end_time": "2022-11-06T00:48:00.207459",
     "exception": false,
     "start_time": "2022-11-06T00:48:00.157047",
     "status": "completed"
    },
    "tags": []
   },
   "outputs": [],
   "source": [
    "#hide\n",
    "\n",
    "# FETCH\n",
    "base_url = 'https://raw.githubusercontent.com/pratapvardhan/notebooks/master/covid19/'\n",
    "paths = {\n",
    "    'mapping': base_url + 'mapping_countries.csv',\n",
    "    'overview': base_url + 'overview.tpl'\n",
    "}"
   ]
  },
  {
   "cell_type": "code",
   "execution_count": 3,
   "id": "dynamic-saver",
   "metadata": {
    "execution": {
     "iopub.execute_input": "2022-11-06T00:48:00.303895Z",
     "iopub.status.busy": "2022-11-06T00:48:00.303184Z",
     "iopub.status.idle": "2022-11-06T00:48:00.308147Z",
     "shell.execute_reply": "2022-11-06T00:48:00.307157Z"
    },
    "papermill": {
     "duration": 0.057657,
     "end_time": "2022-11-06T00:48:00.308305",
     "exception": false,
     "start_time": "2022-11-06T00:48:00.250648",
     "status": "completed"
    },
    "tags": []
   },
   "outputs": [
    {
     "data": {
      "text/plain": [
       "'https://raw.githubusercontent.com/pratapvardhan/notebooks/master/covid19/mapping_countries.csv'"
      ]
     },
     "execution_count": 3,
     "metadata": {},
     "output_type": "execute_result"
    }
   ],
   "source": [
    "#hide\n",
    "paths['mapping']"
   ]
  },
  {
   "cell_type": "code",
   "execution_count": 4,
   "id": "urban-software",
   "metadata": {
    "execution": {
     "iopub.execute_input": "2022-11-06T00:48:00.403274Z",
     "iopub.status.busy": "2022-11-06T00:48:00.402398Z",
     "iopub.status.idle": "2022-11-06T00:48:00.405835Z",
     "shell.execute_reply": "2022-11-06T00:48:00.405127Z"
    },
    "papermill": {
     "duration": 0.052466,
     "end_time": "2022-11-06T00:48:00.405994",
     "exception": false,
     "start_time": "2022-11-06T00:48:00.353528",
     "status": "completed"
    },
    "tags": []
   },
   "outputs": [],
   "source": [
    "#hide\n",
    "def get_mappings(url):\n",
    "    df = pd.read_csv(url)\n",
    "    return {\n",
    "        'df': df,\n",
    "        'replace.country': dict(df.dropna(subset=['Name']).set_index('Country')['Name']),\n",
    "        'map.continent': dict(df.set_index('Name')['Continent'])\n",
    "    }"
   ]
  },
  {
   "cell_type": "code",
   "execution_count": 5,
   "id": "intimate-machinery",
   "metadata": {
    "execution": {
     "iopub.execute_input": "2022-11-06T00:48:00.494742Z",
     "iopub.status.busy": "2022-11-06T00:48:00.493779Z",
     "iopub.status.idle": "2022-11-06T00:48:00.538916Z",
     "shell.execute_reply": "2022-11-06T00:48:00.538208Z"
    },
    "papermill": {
     "duration": 0.092784,
     "end_time": "2022-11-06T00:48:00.539140",
     "exception": false,
     "start_time": "2022-11-06T00:48:00.446356",
     "status": "completed"
    },
    "tags": []
   },
   "outputs": [],
   "source": [
    "#hide\n",
    "mapping = get_mappings(paths['mapping'])"
   ]
  },
  {
   "cell_type": "code",
   "execution_count": 6,
   "id": "certified-tactics",
   "metadata": {
    "execution": {
     "iopub.execute_input": "2022-11-06T00:48:00.630108Z",
     "iopub.status.busy": "2022-11-06T00:48:00.629199Z",
     "iopub.status.idle": "2022-11-06T00:48:00.632679Z",
     "shell.execute_reply": "2022-11-06T00:48:00.631905Z"
    },
    "papermill": {
     "duration": 0.051342,
     "end_time": "2022-11-06T00:48:00.632819",
     "exception": false,
     "start_time": "2022-11-06T00:48:00.581477",
     "status": "completed"
    },
    "tags": []
   },
   "outputs": [],
   "source": [
    "#hide\n",
    "def get_template(path):\n",
    "    from urllib.parse import urlparse\n",
    "    if bool(urlparse(path).netloc):\n",
    "        from urllib.request import urlopen\n",
    "        return urlopen(path).read().decode('utf8')\n",
    "    return open(path).read()"
   ]
  },
  {
   "cell_type": "code",
   "execution_count": 7,
   "id": "realistic-blast",
   "metadata": {
    "execution": {
     "iopub.execute_input": "2022-11-06T00:48:00.732498Z",
     "iopub.status.busy": "2022-11-06T00:48:00.730770Z",
     "iopub.status.idle": "2022-11-06T00:48:00.734159Z",
     "shell.execute_reply": "2022-11-06T00:48:00.735489Z"
    },
    "papermill": {
     "duration": 0.058778,
     "end_time": "2022-11-06T00:48:00.735976",
     "exception": false,
     "start_time": "2022-11-06T00:48:00.677198",
     "status": "completed"
    },
    "tags": []
   },
   "outputs": [],
   "source": [
    "#hide\n",
    "def get_frame(name):\n",
    "    url = (\n",
    "        'https://raw.githubusercontent.com/CSSEGISandData/COVID-19/master/csse_covid_19_data/'\n",
    "        f'csse_covid_19_time_series/time_series_covid19_{name}_global.csv')\n",
    "    df = pd.read_csv(url)\n",
    "    # rename countries\n",
    "    df['Country/Region'] = df['Country/Region'].replace(mapping['replace.country'])\n",
    "    return df"
   ]
  },
  {
   "cell_type": "code",
   "execution_count": 8,
   "id": "affiliated-characterization",
   "metadata": {
    "execution": {
     "iopub.execute_input": "2022-11-06T00:48:00.828713Z",
     "iopub.status.busy": "2022-11-06T00:48:00.827929Z",
     "iopub.status.idle": "2022-11-06T00:48:00.830948Z",
     "shell.execute_reply": "2022-11-06T00:48:00.831781Z"
    },
    "papermill": {
     "duration": 0.052719,
     "end_time": "2022-11-06T00:48:00.831936",
     "exception": false,
     "start_time": "2022-11-06T00:48:00.779217",
     "status": "completed"
    },
    "tags": []
   },
   "outputs": [],
   "source": [
    "#hide\n",
    "def get_dates(df):\n",
    "    dt_cols = df.columns[~df.columns.isin(['Province/State', 'Country/Region', 'Lat', 'Long'])]\n",
    "    LAST_DATE_I = -1\n",
    "    # sometimes last column may be empty, then go backwards\n",
    "    for i in range(-1, -len(dt_cols), -1):\n",
    "        if not df[dt_cols[i]].fillna(0).eq(0).all():\n",
    "            LAST_DATE_I = i\n",
    "            break\n",
    "    return LAST_DATE_I, dt_cols"
   ]
  },
  {
   "cell_type": "code",
   "execution_count": 9,
   "id": "recent-optimization",
   "metadata": {
    "execution": {
     "iopub.execute_input": "2022-11-06T00:48:00.924180Z",
     "iopub.status.busy": "2022-11-06T00:48:00.923281Z",
     "iopub.status.idle": "2022-11-06T00:48:01.498456Z",
     "shell.execute_reply": "2022-11-06T00:48:01.497720Z"
    },
    "papermill": {
     "duration": 0.622714,
     "end_time": "2022-11-06T00:48:01.498635",
     "exception": false,
     "start_time": "2022-11-06T00:48:00.875921",
     "status": "completed"
    },
    "tags": []
   },
   "outputs": [],
   "source": [
    "#hide\n",
    "COL_REGION = 'Country/Region'\n",
    "# Confirmed, Recovered, Deaths\n",
    "df = get_frame('confirmed')\n",
    "# dft_: timeseries, dfc_: today country agg\n",
    "dft_cases = df\n",
    "dft_deaths = get_frame('deaths')\n",
    "dft_recovered = get_frame('recovered')\n",
    "LAST_DATE_I, dt_cols = get_dates(df)"
   ]
  },
  {
   "cell_type": "code",
   "execution_count": 10,
   "id": "absolute-copper",
   "metadata": {
    "execution": {
     "iopub.execute_input": "2022-11-06T00:48:01.590237Z",
     "iopub.status.busy": "2022-11-06T00:48:01.589358Z",
     "iopub.status.idle": "2022-11-06T00:48:01.594075Z",
     "shell.execute_reply": "2022-11-06T00:48:01.594654Z"
    },
    "papermill": {
     "duration": 0.05344,
     "end_time": "2022-11-06T00:48:01.594843",
     "exception": false,
     "start_time": "2022-11-06T00:48:01.541403",
     "status": "completed"
    },
    "tags": []
   },
   "outputs": [],
   "source": [
    "#hide\n",
    "LAST_DATE_I, dt_cols = get_dates(df)\n",
    "dt_today =dt_cols[LAST_DATE_I]\n",
    "# dt_5day = dt_cols[LAST_DATE_I - 5]\n",
    "dt_yday = dt_cols[LAST_DATE_I - 1]"
   ]
  },
  {
   "cell_type": "code",
   "execution_count": 11,
   "id": "restricted-sheriff",
   "metadata": {
    "execution": {
     "iopub.execute_input": "2022-11-06T00:48:01.686378Z",
     "iopub.status.busy": "2022-11-06T00:48:01.685526Z",
     "iopub.status.idle": "2022-11-06T00:48:01.698194Z",
     "shell.execute_reply": "2022-11-06T00:48:01.697395Z"
    },
    "papermill": {
     "duration": 0.062118,
     "end_time": "2022-11-06T00:48:01.698344",
     "exception": false,
     "start_time": "2022-11-06T00:48:01.636226",
     "status": "completed"
    },
    "tags": []
   },
   "outputs": [],
   "source": [
    "#hide\n",
    "dfc_cases = dft_cases.groupby(COL_REGION)[dt_today].sum()\n",
    "dfc_deaths = dft_deaths.groupby(COL_REGION)[dt_today].sum()\n",
    "# dfp_cases = dft_cases.groupby(COL_REGION)[dt_5day].sum()\n",
    "# dfp_deaths = dft_deaths.groupby(COL_REGION)[dt_5day].sum()\n",
    "dfp_cases = dft_cases.groupby(COL_REGION)[dt_yday].sum()\n",
    "dfp_deaths = dft_deaths.groupby(COL_REGION)[dt_yday].sum()"
   ]
  },
  {
   "cell_type": "code",
   "execution_count": 12,
   "id": "deluxe-hepatitis",
   "metadata": {
    "execution": {
     "iopub.execute_input": "2022-11-06T00:48:01.793869Z",
     "iopub.status.busy": "2022-11-06T00:48:01.792966Z",
     "iopub.status.idle": "2022-11-06T00:48:01.801718Z",
     "shell.execute_reply": "2022-11-06T00:48:01.800933Z"
    },
    "papermill": {
     "duration": 0.059531,
     "end_time": "2022-11-06T00:48:01.801863",
     "exception": false,
     "start_time": "2022-11-06T00:48:01.742332",
     "status": "completed"
    },
    "tags": []
   },
   "outputs": [],
   "source": [
    "#hide\n",
    "df_table = (pd.DataFrame(dict(Cases = dfc_cases, Deaths = dfc_deaths, PCases = dfp_cases, PDeaths = dfp_deaths))\n",
    "            .sort_values(by = ['Cases','Deaths'], ascending = [False, False])\n",
    "            .reset_index())"
   ]
  },
  {
   "cell_type": "code",
   "execution_count": 13,
   "id": "educational-chancellor",
   "metadata": {
    "execution": {
     "iopub.execute_input": "2022-11-06T00:48:01.896703Z",
     "iopub.status.busy": "2022-11-06T00:48:01.895912Z",
     "iopub.status.idle": "2022-11-06T00:48:01.921790Z",
     "shell.execute_reply": "2022-11-06T00:48:01.920973Z"
    },
    "papermill": {
     "duration": 0.078011,
     "end_time": "2022-11-06T00:48:01.921946",
     "exception": false,
     "start_time": "2022-11-06T00:48:01.843935",
     "status": "completed"
    },
    "tags": []
   },
   "outputs": [
    {
     "data": {
      "text/html": [
       "<div>\n",
       "<style scoped>\n",
       "    .dataframe tbody tr th:only-of-type {\n",
       "        vertical-align: middle;\n",
       "    }\n",
       "\n",
       "    .dataframe tbody tr th {\n",
       "        vertical-align: top;\n",
       "    }\n",
       "\n",
       "    .dataframe thead th {\n",
       "        text-align: right;\n",
       "    }\n",
       "</style>\n",
       "<table border=\"1\" class=\"dataframe\">\n",
       "  <thead>\n",
       "    <tr style=\"text-align: right;\">\n",
       "      <th></th>\n",
       "      <th>Country/Region</th>\n",
       "      <th>Cases</th>\n",
       "      <th>Deaths</th>\n",
       "      <th>PCases</th>\n",
       "      <th>PDeaths</th>\n",
       "      <th>Cases (+)</th>\n",
       "      <th>Deaths (+)</th>\n",
       "      <th>Fatality Rate</th>\n",
       "      <th>Continent</th>\n",
       "    </tr>\n",
       "  </thead>\n",
       "  <tbody>\n",
       "    <tr>\n",
       "      <th>0</th>\n",
       "      <td>US</td>\n",
       "      <td>97729653</td>\n",
       "      <td>1072561</td>\n",
       "      <td>97692050</td>\n",
       "      <td>1072222</td>\n",
       "      <td>37603</td>\n",
       "      <td>339</td>\n",
       "      <td>1.10</td>\n",
       "      <td>North America</td>\n",
       "    </tr>\n",
       "    <tr>\n",
       "      <th>1</th>\n",
       "      <td>India</td>\n",
       "      <td>44659447</td>\n",
       "      <td>530486</td>\n",
       "      <td>44658365</td>\n",
       "      <td>530479</td>\n",
       "      <td>1082</td>\n",
       "      <td>7</td>\n",
       "      <td>1.19</td>\n",
       "      <td>Asia</td>\n",
       "    </tr>\n",
       "    <tr>\n",
       "      <th>2</th>\n",
       "      <td>France</td>\n",
       "      <td>37140238</td>\n",
       "      <td>158317</td>\n",
       "      <td>37110800</td>\n",
       "      <td>158239</td>\n",
       "      <td>29438</td>\n",
       "      <td>78</td>\n",
       "      <td>0.43</td>\n",
       "      <td>Europe</td>\n",
       "    </tr>\n",
       "    <tr>\n",
       "      <th>3</th>\n",
       "      <td>Germany</td>\n",
       "      <td>35823771</td>\n",
       "      <td>154535</td>\n",
       "      <td>35784912</td>\n",
       "      <td>154328</td>\n",
       "      <td>38859</td>\n",
       "      <td>207</td>\n",
       "      <td>0.43</td>\n",
       "      <td>Europe</td>\n",
       "    </tr>\n",
       "    <tr>\n",
       "      <th>4</th>\n",
       "      <td>Brazil</td>\n",
       "      <td>34849063</td>\n",
       "      <td>688332</td>\n",
       "      <td>34846308</td>\n",
       "      <td>688267</td>\n",
       "      <td>2755</td>\n",
       "      <td>65</td>\n",
       "      <td>1.98</td>\n",
       "      <td>South America</td>\n",
       "    </tr>\n",
       "  </tbody>\n",
       "</table>\n",
       "</div>"
      ],
      "text/plain": [
       "  Country/Region     Cases   Deaths    PCases  PDeaths  Cases (+)  Deaths (+)  \\\n",
       "0             US  97729653  1072561  97692050  1072222      37603         339   \n",
       "1          India  44659447   530486  44658365   530479       1082           7   \n",
       "2         France  37140238   158317  37110800   158239      29438          78   \n",
       "3        Germany  35823771   154535  35784912   154328      38859         207   \n",
       "4         Brazil  34849063   688332  34846308   688267       2755          65   \n",
       "\n",
       "   Fatality Rate      Continent  \n",
       "0           1.10  North America  \n",
       "1           1.19           Asia  \n",
       "2           0.43         Europe  \n",
       "3           0.43         Europe  \n",
       "4           1.98  South America  "
      ]
     },
     "execution_count": 13,
     "metadata": {},
     "output_type": "execute_result"
    }
   ],
   "source": [
    "#hide\n",
    "for c in 'Cases, Deaths'.split(', '):\n",
    "    df_table[f'{c} (+)'] = (df_table[c] - df_table[f'P{c}']).clip(0)\n",
    "    #Clip ça veut dire, les chiffres negatif sont interdit\n",
    "df_table['Fatality Rate'] = (100* df_table['Deaths']/ df_table['Cases']).round(2)\n",
    "df_table['Continent'] = df_table['Country/Region'].map(mapping['map.continent'])\n",
    "df_table.head(5)"
   ]
  },
  {
   "cell_type": "code",
   "execution_count": 14,
   "id": "aboriginal-bulgaria",
   "metadata": {
    "execution": {
     "iopub.execute_input": "2022-11-06T00:48:02.017346Z",
     "iopub.status.busy": "2022-11-06T00:48:02.016489Z",
     "iopub.status.idle": "2022-11-06T00:48:02.019438Z",
     "shell.execute_reply": "2022-11-06T00:48:02.020313Z"
    },
    "papermill": {
     "duration": 0.056034,
     "end_time": "2022-11-06T00:48:02.020578",
     "exception": false,
     "start_time": "2022-11-06T00:48:01.964544",
     "status": "completed"
    },
    "tags": []
   },
   "outputs": [],
   "source": [
    "#hide\n",
    "#delete problematic countries from table\n",
    "df_table = df_table[~df_table['Country/Region'].isin(['Cape Verde', 'Cruise Ship', 'Kosovo'])]"
   ]
  },
  {
   "cell_type": "code",
   "execution_count": 15,
   "id": "fantastic-effect",
   "metadata": {
    "execution": {
     "iopub.execute_input": "2022-11-06T00:48:02.117329Z",
     "iopub.status.busy": "2022-11-06T00:48:02.116406Z",
     "iopub.status.idle": "2022-11-06T00:48:02.141511Z",
     "shell.execute_reply": "2022-11-06T00:48:02.142394Z"
    },
    "papermill": {
     "duration": 0.078948,
     "end_time": "2022-11-06T00:48:02.142576",
     "exception": false,
     "start_time": "2022-11-06T00:48:02.063628",
     "status": "completed"
    },
    "tags": []
   },
   "outputs": [
    {
     "data": {
      "text/html": [
       "<div>\n",
       "<style scoped>\n",
       "    .dataframe tbody tr th:only-of-type {\n",
       "        vertical-align: middle;\n",
       "    }\n",
       "\n",
       "    .dataframe tbody tr th {\n",
       "        vertical-align: top;\n",
       "    }\n",
       "\n",
       "    .dataframe thead th {\n",
       "        text-align: right;\n",
       "    }\n",
       "</style>\n",
       "<table border=\"1\" class=\"dataframe\">\n",
       "  <thead>\n",
       "    <tr style=\"text-align: right;\">\n",
       "      <th></th>\n",
       "      <th>Country/Region</th>\n",
       "      <th>Cases</th>\n",
       "      <th>Deaths</th>\n",
       "      <th>PCases</th>\n",
       "      <th>PDeaths</th>\n",
       "      <th>Cases (+)</th>\n",
       "      <th>Deaths (+)</th>\n",
       "      <th>Fatality Rate</th>\n",
       "      <th>Continent</th>\n",
       "    </tr>\n",
       "  </thead>\n",
       "  <tbody>\n",
       "    <tr>\n",
       "      <th>0</th>\n",
       "      <td>US</td>\n",
       "      <td>97729653</td>\n",
       "      <td>1072561</td>\n",
       "      <td>97692050</td>\n",
       "      <td>1072222</td>\n",
       "      <td>37603</td>\n",
       "      <td>339</td>\n",
       "      <td>1.1</td>\n",
       "      <td>North America</td>\n",
       "    </tr>\n",
       "    <tr>\n",
       "      <th>1</th>\n",
       "      <td>India</td>\n",
       "      <td>44659447</td>\n",
       "      <td>530486</td>\n",
       "      <td>44658365</td>\n",
       "      <td>530479</td>\n",
       "      <td>1082</td>\n",
       "      <td>7</td>\n",
       "      <td>1.2</td>\n",
       "      <td>Asia</td>\n",
       "    </tr>\n",
       "    <tr>\n",
       "      <th>2</th>\n",
       "      <td>France</td>\n",
       "      <td>37140238</td>\n",
       "      <td>158317</td>\n",
       "      <td>37110800</td>\n",
       "      <td>158239</td>\n",
       "      <td>29438</td>\n",
       "      <td>78</td>\n",
       "      <td>0.4</td>\n",
       "      <td>Europe</td>\n",
       "    </tr>\n",
       "    <tr>\n",
       "      <th>3</th>\n",
       "      <td>Germany</td>\n",
       "      <td>35823771</td>\n",
       "      <td>154535</td>\n",
       "      <td>35784912</td>\n",
       "      <td>154328</td>\n",
       "      <td>38859</td>\n",
       "      <td>207</td>\n",
       "      <td>0.4</td>\n",
       "      <td>Europe</td>\n",
       "    </tr>\n",
       "    <tr>\n",
       "      <th>4</th>\n",
       "      <td>Brazil</td>\n",
       "      <td>34849063</td>\n",
       "      <td>688332</td>\n",
       "      <td>34846308</td>\n",
       "      <td>688267</td>\n",
       "      <td>2755</td>\n",
       "      <td>65</td>\n",
       "      <td>2.0</td>\n",
       "      <td>South America</td>\n",
       "    </tr>\n",
       "  </tbody>\n",
       "</table>\n",
       "</div>"
      ],
      "text/plain": [
       "  Country/Region     Cases   Deaths    PCases  PDeaths  Cases (+)  Deaths (+)  \\\n",
       "0             US  97729653  1072561  97692050  1072222      37603         339   \n",
       "1          India  44659447   530486  44658365   530479       1082           7   \n",
       "2         France  37140238   158317  37110800   158239      29438          78   \n",
       "3        Germany  35823771   154535  35784912   154328      38859         207   \n",
       "4         Brazil  34849063   688332  34846308   688267       2755          65   \n",
       "\n",
       "   Fatality Rate      Continent  \n",
       "0            1.1  North America  \n",
       "1            1.2           Asia  \n",
       "2            0.4         Europe  \n",
       "3            0.4         Europe  \n",
       "4            2.0  South America  "
      ]
     },
     "execution_count": 15,
     "metadata": {},
     "output_type": "execute_result"
    }
   ],
   "source": [
    "#hide\n",
    "df_table = (pd.DataFrame(dict(Cases=dfc_cases, Deaths=dfc_deaths, PCases=dfp_cases, PDeaths=dfp_deaths))\n",
    "             .sort_values(by=['Cases', 'Deaths'], ascending=[False, False])\n",
    "             .reset_index())\n",
    "df_table.rename(columns={'index': 'Country/Region'}, inplace=True)\n",
    "for c in 'Cases, Deaths'.split(', '):\n",
    "    df_table[f'{c} (+)'] = (df_table[c] - df_table[f'P{c}']).clip(0)  # DATA BUG\n",
    "df_table['Fatality Rate'] = (100 * df_table['Deaths'] / df_table['Cases']).round(1)\n",
    "df_table['Continent'] = df_table['Country/Region'].map(mapping['map.continent'])\n",
    "df_table.head(5)"
   ]
  },
  {
   "cell_type": "code",
   "execution_count": 16,
   "id": "fewer-occasion",
   "metadata": {
    "execution": {
     "iopub.execute_input": "2022-11-06T00:48:02.237616Z",
     "iopub.status.busy": "2022-11-06T00:48:02.236756Z",
     "iopub.status.idle": "2022-11-06T00:48:02.240004Z",
     "shell.execute_reply": "2022-11-06T00:48:02.239294Z"
    },
    "papermill": {
     "duration": 0.054196,
     "end_time": "2022-11-06T00:48:02.240148",
     "exception": false,
     "start_time": "2022-11-06T00:48:02.185952",
     "status": "completed"
    },
    "tags": []
   },
   "outputs": [],
   "source": [
    "#hide\n",
    "#delete problematic countries from table\n",
    "df_table = df_table[~df_table['Country/Region'].isin(['Cape Verde', 'Cruise Ship', 'Kosovo'])]"
   ]
  },
  {
   "cell_type": "code",
   "execution_count": 17,
   "id": "related-center",
   "metadata": {
    "execution": {
     "iopub.execute_input": "2022-11-06T00:48:02.346413Z",
     "iopub.status.busy": "2022-11-06T00:48:02.345613Z",
     "iopub.status.idle": "2022-11-06T00:48:02.355968Z",
     "shell.execute_reply": "2022-11-06T00:48:02.356628Z"
    },
    "papermill": {
     "duration": 0.071841,
     "end_time": "2022-11-06T00:48:02.356786",
     "exception": false,
     "start_time": "2022-11-06T00:48:02.284945",
     "status": "completed"
    },
    "tags": []
   },
   "outputs": [],
   "source": [
    "#hide\n",
    "metrics = [df_table.columns[index] for index in [1,2,5,6]]\n",
    "# s_china = df_table[df_table['Country/Region'].eq('China')][metrics].sum().add_prefix('China ')\n",
    "s_us = df_table[df_table['Country/Region'].eq('US')][metrics].sum().add_prefix('US ')\n",
    "s_eu = df_table[df_table['Continent'].eq('Europe')][metrics].sum().add_prefix('EU ')\n",
    "s_ind = df_table[df_table['Country/Region'].eq('India')][metrics].sum().add_prefix('India ')\n",
    "summary = {'updated': pd.to_datetime(dt_today), 'since': pd.to_datetime(dt_yday)}\n",
    "summary = {'updated': pd.to_datetime(dt_today), 'since': pd.to_datetime(dt_yday)}\n",
    "summary = {**summary, **df_table[metrics].sum(), **s_ind, **s_us, **s_eu}"
   ]
  },
  {
   "cell_type": "code",
   "execution_count": 18,
   "id": "engaging-syndrome",
   "metadata": {
    "execution": {
     "iopub.execute_input": "2022-11-06T00:48:02.449163Z",
     "iopub.status.busy": "2022-11-06T00:48:02.448360Z",
     "iopub.status.idle": "2022-11-06T00:48:02.474804Z",
     "shell.execute_reply": "2022-11-06T00:48:02.473993Z"
    },
    "papermill": {
     "duration": 0.075977,
     "end_time": "2022-11-06T00:48:02.474961",
     "exception": false,
     "start_time": "2022-11-06T00:48:02.398984",
     "status": "completed"
    },
    "tags": []
   },
   "outputs": [],
   "source": [
    "#hide\n",
    "dft_ct_new_cases = dft_cases.groupby(COL_REGION)[dt_cols].sum().diff(axis=1).fillna(0).astype(int)"
   ]
  },
  {
   "cell_type": "code",
   "execution_count": 19,
   "id": "neutral-assignment",
   "metadata": {
    "execution": {
     "iopub.execute_input": "2022-11-06T00:48:02.572105Z",
     "iopub.status.busy": "2022-11-06T00:48:02.571141Z",
     "iopub.status.idle": "2022-11-06T00:48:02.573492Z",
     "shell.execute_reply": "2022-11-06T00:48:02.574263Z"
    },
    "papermill": {
     "duration": 0.054342,
     "end_time": "2022-11-06T00:48:02.574442",
     "exception": false,
     "start_time": "2022-11-06T00:48:02.520100",
     "status": "completed"
    },
    "tags": []
   },
   "outputs": [],
   "source": [
    "#hide\n",
    "everydaycases = dft_ct_new_cases.cumsum(axis=1)"
   ]
  },
  {
   "cell_type": "code",
   "execution_count": 20,
   "id": "parliamentary-calgary",
   "metadata": {
    "execution": {
     "iopub.execute_input": "2022-11-06T00:48:02.668976Z",
     "iopub.status.busy": "2022-11-06T00:48:02.668108Z",
     "iopub.status.idle": "2022-11-06T00:48:03.378732Z",
     "shell.execute_reply": "2022-11-06T00:48:03.377371Z"
    },
    "papermill": {
     "duration": 0.76023,
     "end_time": "2022-11-06T00:48:03.378884",
     "exception": false,
     "start_time": "2022-11-06T00:48:02.618654",
     "status": "completed"
    },
    "tags": []
   },
   "outputs": [],
   "source": [
    "#hide\n",
    "import pandas as pd\n",
    "import matplotlib.pyplot as plt\n",
    "import matplotlib.ticker as ticker\n",
    "import matplotlib.animation as animation\n",
    "from IPython.display import HTML"
   ]
  },
  {
   "cell_type": "code",
   "execution_count": 21,
   "id": "lasting-extraction",
   "metadata": {
    "execution": {
     "iopub.execute_input": "2022-11-06T00:48:03.469141Z",
     "iopub.status.busy": "2022-11-06T00:48:03.468293Z",
     "iopub.status.idle": "2022-11-06T00:48:03.476736Z",
     "shell.execute_reply": "2022-11-06T00:48:03.477441Z"
    },
    "papermill": {
     "duration": 0.057666,
     "end_time": "2022-11-06T00:48:03.477609",
     "exception": false,
     "start_time": "2022-11-06T00:48:03.419943",
     "status": "completed"
    },
    "tags": []
   },
   "outputs": [],
   "source": [
    "#hide\n",
    "t = everydaycases.stack()"
   ]
  },
  {
   "cell_type": "code",
   "execution_count": 22,
   "id": "premier-sleeve",
   "metadata": {
    "execution": {
     "iopub.execute_input": "2022-11-06T00:48:03.569130Z",
     "iopub.status.busy": "2022-11-06T00:48:03.568311Z",
     "iopub.status.idle": "2022-11-06T00:48:03.585038Z",
     "shell.execute_reply": "2022-11-06T00:48:03.584386Z"
    },
    "papermill": {
     "duration": 0.065582,
     "end_time": "2022-11-06T00:48:03.585187",
     "exception": false,
     "start_time": "2022-11-06T00:48:03.519605",
     "status": "completed"
    },
    "tags": []
   },
   "outputs": [],
   "source": [
    "#hide\n",
    "g = t.reset_index(['Country/Region'])"
   ]
  },
  {
   "cell_type": "code",
   "execution_count": 23,
   "id": "distributed-pittsburgh",
   "metadata": {
    "execution": {
     "iopub.execute_input": "2022-11-06T00:48:03.678558Z",
     "iopub.status.busy": "2022-11-06T00:48:03.677722Z",
     "iopub.status.idle": "2022-11-06T00:48:03.682282Z",
     "shell.execute_reply": "2022-11-06T00:48:03.682914Z"
    },
    "papermill": {
     "duration": 0.054462,
     "end_time": "2022-11-06T00:48:03.683071",
     "exception": false,
     "start_time": "2022-11-06T00:48:03.628609",
     "status": "completed"
    },
    "tags": []
   },
   "outputs": [],
   "source": [
    "#hide\n",
    "g.index.name = 'date'"
   ]
  },
  {
   "cell_type": "code",
   "execution_count": 24,
   "id": "naked-donor",
   "metadata": {
    "execution": {
     "iopub.execute_input": "2022-11-06T00:48:03.771806Z",
     "iopub.status.busy": "2022-11-06T00:48:03.770906Z",
     "iopub.status.idle": "2022-11-06T00:48:03.774569Z",
     "shell.execute_reply": "2022-11-06T00:48:03.773707Z"
    },
    "papermill": {
     "duration": 0.050498,
     "end_time": "2022-11-06T00:48:03.774715",
     "exception": false,
     "start_time": "2022-11-06T00:48:03.724217",
     "status": "completed"
    },
    "tags": []
   },
   "outputs": [],
   "source": [
    "# #hide\n",
    "# g = g.reset_index(['date'])"
   ]
  },
  {
   "cell_type": "code",
   "execution_count": 25,
   "id": "incomplete-mustang",
   "metadata": {
    "execution": {
     "iopub.execute_input": "2022-11-06T00:48:03.869183Z",
     "iopub.status.busy": "2022-11-06T00:48:03.868362Z",
     "iopub.status.idle": "2022-11-06T00:48:03.871774Z",
     "shell.execute_reply": "2022-11-06T00:48:03.870944Z"
    },
    "papermill": {
     "duration": 0.051813,
     "end_time": "2022-11-06T00:48:03.871914",
     "exception": false,
     "start_time": "2022-11-06T00:48:03.820101",
     "status": "completed"
    },
    "tags": []
   },
   "outputs": [],
   "source": [
    "#hide\n",
    "# g.head()"
   ]
  },
  {
   "cell_type": "code",
   "execution_count": 26,
   "id": "specific-kruger",
   "metadata": {
    "execution": {
     "iopub.execute_input": "2022-11-06T00:48:03.965245Z",
     "iopub.status.busy": "2022-11-06T00:48:03.964358Z",
     "iopub.status.idle": "2022-11-06T00:48:03.967761Z",
     "shell.execute_reply": "2022-11-06T00:48:03.967061Z"
    },
    "papermill": {
     "duration": 0.05145,
     "end_time": "2022-11-06T00:48:03.967899",
     "exception": false,
     "start_time": "2022-11-06T00:48:03.916449",
     "status": "completed"
    },
    "tags": []
   },
   "outputs": [],
   "source": [
    "#hide\n",
    "# g.columns = ['date','country','cases']"
   ]
  },
  {
   "cell_type": "code",
   "execution_count": 27,
   "id": "tender-conversion",
   "metadata": {
    "execution": {
     "iopub.execute_input": "2022-11-06T00:48:04.063739Z",
     "iopub.status.busy": "2022-11-06T00:48:04.062963Z",
     "iopub.status.idle": "2022-11-06T00:48:04.066520Z",
     "shell.execute_reply": "2022-11-06T00:48:04.065928Z"
    },
    "papermill": {
     "duration": 0.054034,
     "end_time": "2022-11-06T00:48:04.067173",
     "exception": false,
     "start_time": "2022-11-06T00:48:04.013139",
     "status": "completed"
    },
    "tags": []
   },
   "outputs": [],
   "source": [
    "#hide\n",
    "# g['continent'] = g.country"
   ]
  },
  {
   "cell_type": "code",
   "execution_count": 28,
   "id": "substantial-wilderness",
   "metadata": {
    "execution": {
     "iopub.execute_input": "2022-11-06T00:48:04.157274Z",
     "iopub.status.busy": "2022-11-06T00:48:04.156521Z",
     "iopub.status.idle": "2022-11-06T00:48:04.159778Z",
     "shell.execute_reply": "2022-11-06T00:48:04.158878Z"
    },
    "papermill": {
     "duration": 0.048063,
     "end_time": "2022-11-06T00:48:04.159938",
     "exception": false,
     "start_time": "2022-11-06T00:48:04.111875",
     "status": "completed"
    },
    "tags": []
   },
   "outputs": [],
   "source": [
    "#hide\n",
    "# cols = list(g.columns.values)"
   ]
  },
  {
   "cell_type": "code",
   "execution_count": 29,
   "id": "solved-farming",
   "metadata": {
    "execution": {
     "iopub.execute_input": "2022-11-06T00:48:04.253061Z",
     "iopub.status.busy": "2022-11-06T00:48:04.252294Z",
     "iopub.status.idle": "2022-11-06T00:48:04.254797Z",
     "shell.execute_reply": "2022-11-06T00:48:04.255458Z"
    },
    "papermill": {
     "duration": 0.051415,
     "end_time": "2022-11-06T00:48:04.255640",
     "exception": false,
     "start_time": "2022-11-06T00:48:04.204225",
     "status": "completed"
    },
    "tags": []
   },
   "outputs": [],
   "source": [
    "#hide\n",
    "# cols.insert(0, cols.pop())"
   ]
  },
  {
   "cell_type": "code",
   "execution_count": 30,
   "id": "executed-adoption",
   "metadata": {
    "execution": {
     "iopub.execute_input": "2022-11-06T00:48:04.346687Z",
     "iopub.status.busy": "2022-11-06T00:48:04.345942Z",
     "iopub.status.idle": "2022-11-06T00:48:04.349210Z",
     "shell.execute_reply": "2022-11-06T00:48:04.348415Z"
    },
    "papermill": {
     "duration": 0.04916,
     "end_time": "2022-11-06T00:48:04.349346",
     "exception": false,
     "start_time": "2022-11-06T00:48:04.300186",
     "status": "completed"
    },
    "tags": []
   },
   "outputs": [],
   "source": [
    "#hide\n",
    "# g = g[cols]"
   ]
  },
  {
   "cell_type": "code",
   "execution_count": 31,
   "id": "subject-dublin",
   "metadata": {
    "execution": {
     "iopub.execute_input": "2022-11-06T00:48:04.438201Z",
     "iopub.status.busy": "2022-11-06T00:48:04.437488Z",
     "iopub.status.idle": "2022-11-06T00:48:04.441476Z",
     "shell.execute_reply": "2022-11-06T00:48:04.440324Z"
    },
    "papermill": {
     "duration": 0.048561,
     "end_time": "2022-11-06T00:48:04.441613",
     "exception": false,
     "start_time": "2022-11-06T00:48:04.393052",
     "status": "completed"
    },
    "tags": []
   },
   "outputs": [],
   "source": [
    "#hide\n",
    "# g['continent'] = g['continent'].map(mapping['map.continent'])"
   ]
  },
  {
   "cell_type": "code",
   "execution_count": 32,
   "id": "freelance-scout",
   "metadata": {
    "execution": {
     "iopub.execute_input": "2022-11-06T00:48:04.534213Z",
     "iopub.status.busy": "2022-11-06T00:48:04.533214Z",
     "iopub.status.idle": "2022-11-06T00:48:04.536358Z",
     "shell.execute_reply": "2022-11-06T00:48:04.535721Z"
    },
    "papermill": {
     "duration": 0.050474,
     "end_time": "2022-11-06T00:48:04.536539",
     "exception": false,
     "start_time": "2022-11-06T00:48:04.486065",
     "status": "completed"
    },
    "tags": []
   },
   "outputs": [],
   "source": [
    "#hide\n",
    "# g.head()"
   ]
  },
  {
   "cell_type": "code",
   "execution_count": 33,
   "id": "limited-engine",
   "metadata": {
    "execution": {
     "iopub.execute_input": "2022-11-06T00:48:04.628790Z",
     "iopub.status.busy": "2022-11-06T00:48:04.627937Z",
     "iopub.status.idle": "2022-11-06T00:48:04.630959Z",
     "shell.execute_reply": "2022-11-06T00:48:04.631581Z"
    },
    "papermill": {
     "duration": 0.051917,
     "end_time": "2022-11-06T00:48:04.631837",
     "exception": false,
     "start_time": "2022-11-06T00:48:04.579920",
     "status": "completed"
    },
    "tags": []
   },
   "outputs": [],
   "source": [
    "# hide\n",
    "# g['date'] = g['date'].astype('datetime64[ns]')"
   ]
  },
  {
   "cell_type": "code",
   "execution_count": 34,
   "id": "sophisticated-supervisor",
   "metadata": {
    "execution": {
     "iopub.execute_input": "2022-11-06T00:48:04.723244Z",
     "iopub.status.busy": "2022-11-06T00:48:04.722371Z",
     "iopub.status.idle": "2022-11-06T00:48:04.726211Z",
     "shell.execute_reply": "2022-11-06T00:48:04.725660Z"
    },
    "papermill": {
     "duration": 0.052273,
     "end_time": "2022-11-06T00:48:04.726346",
     "exception": false,
     "start_time": "2022-11-06T00:48:04.674073",
     "status": "completed"
    },
    "tags": []
   },
   "outputs": [],
   "source": [
    "#hide\n",
    "# g['date'] = g.date.dt.dayofyear"
   ]
  },
  {
   "cell_type": "code",
   "execution_count": 35,
   "id": "inside-dubai",
   "metadata": {
    "execution": {
     "iopub.execute_input": "2022-11-06T00:48:04.815962Z",
     "iopub.status.busy": "2022-11-06T00:48:04.815206Z",
     "iopub.status.idle": "2022-11-06T00:48:04.818453Z",
     "shell.execute_reply": "2022-11-06T00:48:04.817645Z"
    },
    "papermill": {
     "duration": 0.048771,
     "end_time": "2022-11-06T00:48:04.818591",
     "exception": false,
     "start_time": "2022-11-06T00:48:04.769820",
     "status": "completed"
    },
    "tags": []
   },
   "outputs": [],
   "source": [
    "#hide\n",
    "# g = g.rename(columns= {'continent':'group','country':'name','cases':'value'})"
   ]
  },
  {
   "cell_type": "code",
   "execution_count": 36,
   "id": "fleet-motorcycle",
   "metadata": {
    "execution": {
     "iopub.execute_input": "2022-11-06T00:48:04.912885Z",
     "iopub.status.busy": "2022-11-06T00:48:04.912155Z",
     "iopub.status.idle": "2022-11-06T00:48:04.917618Z",
     "shell.execute_reply": "2022-11-06T00:48:04.918182Z"
    },
    "papermill": {
     "duration": 0.053985,
     "end_time": "2022-11-06T00:48:04.918346",
     "exception": false,
     "start_time": "2022-11-06T00:48:04.864361",
     "status": "completed"
    },
    "tags": []
   },
   "outputs": [],
   "source": [
    "#hide\n",
    "# cols = ['name','group','day','value']"
   ]
  },
  {
   "cell_type": "code",
   "execution_count": 37,
   "id": "continued-sleeping",
   "metadata": {
    "execution": {
     "iopub.execute_input": "2022-11-06T00:48:05.010283Z",
     "iopub.status.busy": "2022-11-06T00:48:05.009454Z",
     "iopub.status.idle": "2022-11-06T00:48:05.012664Z",
     "shell.execute_reply": "2022-11-06T00:48:05.011960Z"
    },
    "papermill": {
     "duration": 0.04893,
     "end_time": "2022-11-06T00:48:05.012798",
     "exception": false,
     "start_time": "2022-11-06T00:48:04.963868",
     "status": "completed"
    },
    "tags": []
   },
   "outputs": [],
   "source": [
    "#hide\n",
    "# g.rename(columns= {'date':'day'},inplace = True)"
   ]
  },
  {
   "cell_type": "code",
   "execution_count": 38,
   "id": "major-fight",
   "metadata": {
    "execution": {
     "iopub.execute_input": "2022-11-06T00:48:05.103978Z",
     "iopub.status.busy": "2022-11-06T00:48:05.103127Z",
     "iopub.status.idle": "2022-11-06T00:48:05.107714Z",
     "shell.execute_reply": "2022-11-06T00:48:05.106947Z"
    },
    "papermill": {
     "duration": 0.053032,
     "end_time": "2022-11-06T00:48:05.107852",
     "exception": false,
     "start_time": "2022-11-06T00:48:05.054820",
     "status": "completed"
    },
    "tags": []
   },
   "outputs": [],
   "source": [
    "#hide\n",
    "# g = g[cols]"
   ]
  },
  {
   "cell_type": "code",
   "execution_count": 39,
   "id": "structured-mobile",
   "metadata": {
    "execution": {
     "iopub.execute_input": "2022-11-06T00:48:05.198533Z",
     "iopub.status.busy": "2022-11-06T00:48:05.197671Z",
     "iopub.status.idle": "2022-11-06T00:48:05.202753Z",
     "shell.execute_reply": "2022-11-06T00:48:05.203288Z"
    },
    "papermill": {
     "duration": 0.05317,
     "end_time": "2022-11-06T00:48:05.203470",
     "exception": false,
     "start_time": "2022-11-06T00:48:05.150300",
     "status": "completed"
    },
    "tags": []
   },
   "outputs": [],
   "source": [
    "# #hide\n",
    "# g = g[g.group.notna()]"
   ]
  },
  {
   "cell_type": "code",
   "execution_count": 40,
   "id": "determined-closing",
   "metadata": {
    "execution": {
     "iopub.execute_input": "2022-11-06T00:48:05.313050Z",
     "iopub.status.busy": "2022-11-06T00:48:05.311818Z",
     "iopub.status.idle": "2022-11-06T00:48:05.315738Z",
     "shell.execute_reply": "2022-11-06T00:48:05.314627Z"
    },
    "papermill": {
     "duration": 0.063824,
     "end_time": "2022-11-06T00:48:05.316038",
     "exception": false,
     "start_time": "2022-11-06T00:48:05.252214",
     "status": "completed"
    },
    "tags": []
   },
   "outputs": [],
   "source": [
    "# #hide\n",
    "# colors = dict(zip(\n",
    "#     [\"Oceania\", \"Europe\", \"Asia\", \"South America\", \"Middle East\", \"North America\", \"Africa\"],\n",
    "#     [\"#adb0ff\", \"#ffb3ff\", \"#90d595\", \"#e48381\", \"#aafbff\", \"#f7bb5f\", \"#eafb50\"]\n",
    "# ))\n",
    "# group_lk = g.set_index('name')['group'].to_dict()"
   ]
  },
  {
   "cell_type": "code",
   "execution_count": null,
   "id": "gross-drinking",
   "metadata": {
    "papermill": {
     "duration": 0.04902,
     "end_time": "2022-11-06T00:48:05.418464",
     "exception": false,
     "start_time": "2022-11-06T00:48:05.369444",
     "status": "completed"
    },
    "tags": []
   },
   "outputs": [],
   "source": []
  },
  {
   "cell_type": "code",
   "execution_count": 41,
   "id": "subject-macintosh",
   "metadata": {
    "execution": {
     "iopub.execute_input": "2022-11-06T00:48:05.509639Z",
     "iopub.status.busy": "2022-11-06T00:48:05.508852Z",
     "iopub.status.idle": "2022-11-06T00:48:05.513772Z",
     "shell.execute_reply": "2022-11-06T00:48:05.513178Z"
    },
    "papermill": {
     "duration": 0.051906,
     "end_time": "2022-11-06T00:48:05.513900",
     "exception": false,
     "start_time": "2022-11-06T00:48:05.461994",
     "status": "completed"
    },
    "tags": []
   },
   "outputs": [],
   "source": [
    "# #hide\n",
    "# fig, ax = plt.subplots(figsize=(15, 8))\n",
    "\n",
    "# def draw_barchart(current_day):\n",
    "#     dff = g[g['day'].eq(current_day)].sort_values(by='value', ascending=True).tail(10)\n",
    "#     ax.clear()\n",
    "#     ax.barh(dff['name'], dff['value'], color=[colors[group_lk[x]] for x in dff['name']])\n",
    "#     dx = dff['value'].max() / 200\n",
    "    \n",
    "#     for i, (value, name) in enumerate(zip(dff['value'], dff['name'])):\n",
    "#         ax.text(value-dx, i,     name,           size=14, weight=600, ha='right', va='bottom')\n",
    "#         ax.text(value-dx, i-.25, group_lk[name], size=10, color='#444444', ha='right', va='baseline')\n",
    "#         ax.text(value+dx, i,     f'{value:,.0f}',  size=14, ha='left',  va='center')\n",
    "#     ax.text(1, 0.4, current_day, transform=ax.transAxes, color='#777777', size=46, ha='right', weight=800)\n",
    "#     ax.text(0, 1.06, 'Population (thousands)', transform=ax.transAxes, size=12, color='#777777')\n",
    "#     ax.xaxis.set_major_formatter(ticker.StrMethodFormatter('{x:,.0f}'))\n",
    "#     ax.xaxis.set_ticks_position('top')\n",
    "#     ax.tick_params(axis='x', colors='#777777', labelsize=12)\n",
    "#     ax.set_yticks([])\n",
    "#     ax.margins(0, 0.01)\n",
    "#     ax.grid(which='major', axis='x', linestyle='-')\n",
    "#     ax.set_axisbelow(True)\n",
    "    \n",
    "#     ax.text(0, 1.15, 'Coronavirus',\n",
    "#             transform=ax.transAxes, size=24, weight=600, ha='left', va='top')\n",
    "# #     ax.text(1, 0, 'by @pratapvardhan; credit @jburnmurdoch', transform=ax.transAxes, color='#777777', ha='right',\n",
    "# #             bbox=dict(facecolor='white', alpha=0.8, edgecolor='white'))\n",
    "#     plt.box(False)"
   ]
  },
  {
   "cell_type": "code",
   "execution_count": 42,
   "id": "sexual-wages",
   "metadata": {
    "execution": {
     "iopub.execute_input": "2022-11-06T00:48:05.600057Z",
     "iopub.status.busy": "2022-11-06T00:48:05.599086Z",
     "iopub.status.idle": "2022-11-06T00:48:05.602272Z",
     "shell.execute_reply": "2022-11-06T00:48:05.601690Z"
    },
    "papermill": {
     "duration": 0.048943,
     "end_time": "2022-11-06T00:48:05.602402",
     "exception": false,
     "start_time": "2022-11-06T00:48:05.553459",
     "status": "completed"
    },
    "tags": []
   },
   "outputs": [],
   "source": [
    "# #hide_input\n",
    "# fig, ax = plt.subplots(figsize=(15, 8))\n",
    "# animator = animation.FuncAnimation(fig, draw_barchart, frames=range(g.day.values.min(), g.day.values.max()))\n",
    "# HTML(animator.to_jshtml())\n",
    "# # or use animator.to_html5_video() or animator.save() "
   ]
  },
  {
   "cell_type": "code",
   "execution_count": null,
   "id": "australian-container",
   "metadata": {
    "papermill": {
     "duration": 0.042564,
     "end_time": "2022-11-06T00:48:05.686227",
     "exception": false,
     "start_time": "2022-11-06T00:48:05.643663",
     "status": "completed"
    },
    "tags": []
   },
   "outputs": [],
   "source": []
  },
  {
   "cell_type": "code",
   "execution_count": null,
   "id": "mediterranean-pontiac",
   "metadata": {
    "papermill": {
     "duration": 0.040108,
     "end_time": "2022-11-06T00:48:05.768828",
     "exception": false,
     "start_time": "2022-11-06T00:48:05.728720",
     "status": "completed"
    },
    "tags": []
   },
   "outputs": [],
   "source": []
  },
  {
   "cell_type": "code",
   "execution_count": null,
   "id": "aging-legislature",
   "metadata": {
    "papermill": {
     "duration": 0.039917,
     "end_time": "2022-11-06T00:48:05.848861",
     "exception": false,
     "start_time": "2022-11-06T00:48:05.808944",
     "status": "completed"
    },
    "tags": []
   },
   "outputs": [],
   "source": []
  }
 ],
 "metadata": {
  "kernelspec": {
   "display_name": "Python 3",
   "language": "python",
   "name": "python3"
  },
  "language_info": {
   "codemirror_mode": {
    "name": "ipython",
    "version": 3
   },
   "file_extension": ".py",
   "mimetype": "text/x-python",
   "name": "python",
   "nbconvert_exporter": "python",
   "pygments_lexer": "ipython3",
   "version": "3.6.15"
  },
  "papermill": {
   "duration": 8.02691,
   "end_time": "2022-11-06T00:48:06.313923",
   "environment_variables": {},
   "exception": null,
   "input_path": "2020-03-21-covid19exp.ipynb",
   "output_path": "2020-03-21-covid19exp.ipynb",
   "parameters": {},
   "start_time": "2022-11-06T00:47:58.287013",
   "version": "2.0.0"
  }
 },
 "nbformat": 4,
 "nbformat_minor": 5
}