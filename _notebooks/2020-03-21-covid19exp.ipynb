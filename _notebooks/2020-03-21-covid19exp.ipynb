{
 "cells": [
  {
   "cell_type": "markdown",
   "id": "muslim-click",
   "metadata": {
    "papermill": {
     "duration": 0.041384,
     "end_time": "2022-06-06T12:17:00.188443",
     "exception": false,
     "start_time": "2022-06-06T12:17:00.147059",
     "status": "completed"
    },
    "tags": []
   },
   "source": [
    "# COVID-19 Case Race\n",
    "> A race chart to see rising cases around the world\n",
    "\n",
    "- author: Hargun Oberoi\n",
    "- image: images/covid-overview.png\n",
    "- hide: false\n",
    "- badges: false"
   ]
  },
  {
   "cell_type": "code",
   "execution_count": 1,
   "id": "proof-material",
   "metadata": {
    "execution": {
     "iopub.execute_input": "2022-06-06T12:17:00.268214Z",
     "iopub.status.busy": "2022-06-06T12:17:00.267347Z",
     "iopub.status.idle": "2022-06-06T12:17:00.650520Z",
     "shell.execute_reply": "2022-06-06T12:17:00.649350Z"
    },
    "papermill": {
     "duration": 0.428025,
     "end_time": "2022-06-06T12:17:00.650741",
     "exception": false,
     "start_time": "2022-06-06T12:17:00.222716",
     "status": "completed"
    },
    "tags": []
   },
   "outputs": [],
   "source": [
    "#hide\n",
    "import numpy as np\n",
    "import pandas as pd\n",
    "from jinja2 import Template\n",
    "from IPython.display import HTML"
   ]
  },
  {
   "cell_type": "code",
   "execution_count": 2,
   "id": "developed-terminology",
   "metadata": {
    "execution": {
     "iopub.execute_input": "2022-06-06T12:17:00.725140Z",
     "iopub.status.busy": "2022-06-06T12:17:00.724452Z",
     "iopub.status.idle": "2022-06-06T12:17:00.727201Z",
     "shell.execute_reply": "2022-06-06T12:17:00.727839Z"
    },
    "papermill": {
     "duration": 0.041965,
     "end_time": "2022-06-06T12:17:00.727985",
     "exception": false,
     "start_time": "2022-06-06T12:17:00.686020",
     "status": "completed"
    },
    "tags": []
   },
   "outputs": [],
   "source": [
    "#hide\n",
    "\n",
    "# FETCH\n",
    "base_url = 'https://raw.githubusercontent.com/pratapvardhan/notebooks/master/covid19/'\n",
    "paths = {\n",
    "    'mapping': base_url + 'mapping_countries.csv',\n",
    "    'overview': base_url + 'overview.tpl'\n",
    "}"
   ]
  },
  {
   "cell_type": "code",
   "execution_count": 3,
   "id": "dynamic-saver",
   "metadata": {
    "execution": {
     "iopub.execute_input": "2022-06-06T12:17:00.805391Z",
     "iopub.status.busy": "2022-06-06T12:17:00.804713Z",
     "iopub.status.idle": "2022-06-06T12:17:00.808733Z",
     "shell.execute_reply": "2022-06-06T12:17:00.808185Z"
    },
    "papermill": {
     "duration": 0.047782,
     "end_time": "2022-06-06T12:17:00.808859",
     "exception": false,
     "start_time": "2022-06-06T12:17:00.761077",
     "status": "completed"
    },
    "tags": []
   },
   "outputs": [
    {
     "data": {
      "text/plain": [
       "'https://raw.githubusercontent.com/pratapvardhan/notebooks/master/covid19/mapping_countries.csv'"
      ]
     },
     "execution_count": 3,
     "metadata": {},
     "output_type": "execute_result"
    }
   ],
   "source": [
    "#hide\n",
    "paths['mapping']"
   ]
  },
  {
   "cell_type": "code",
   "execution_count": 4,
   "id": "urban-software",
   "metadata": {
    "execution": {
     "iopub.execute_input": "2022-06-06T12:17:00.885379Z",
     "iopub.status.busy": "2022-06-06T12:17:00.884539Z",
     "iopub.status.idle": "2022-06-06T12:17:00.886122Z",
     "shell.execute_reply": "2022-06-06T12:17:00.886673Z"
    },
    "papermill": {
     "duration": 0.044193,
     "end_time": "2022-06-06T12:17:00.886829",
     "exception": false,
     "start_time": "2022-06-06T12:17:00.842636",
     "status": "completed"
    },
    "tags": []
   },
   "outputs": [],
   "source": [
    "#hide\n",
    "def get_mappings(url):\n",
    "    df = pd.read_csv(url)\n",
    "    return {\n",
    "        'df': df,\n",
    "        'replace.country': dict(df.dropna(subset=['Name']).set_index('Country')['Name']),\n",
    "        'map.continent': dict(df.set_index('Name')['Continent'])\n",
    "    }"
   ]
  },
  {
   "cell_type": "code",
   "execution_count": 5,
   "id": "intimate-machinery",
   "metadata": {
    "execution": {
     "iopub.execute_input": "2022-06-06T12:17:00.963074Z",
     "iopub.status.busy": "2022-06-06T12:17:00.961121Z",
     "iopub.status.idle": "2022-06-06T12:17:01.011064Z",
     "shell.execute_reply": "2022-06-06T12:17:01.010189Z"
    },
    "papermill": {
     "duration": 0.089821,
     "end_time": "2022-06-06T12:17:01.011314",
     "exception": false,
     "start_time": "2022-06-06T12:17:00.921493",
     "status": "completed"
    },
    "tags": []
   },
   "outputs": [],
   "source": [
    "#hide\n",
    "mapping = get_mappings(paths['mapping'])"
   ]
  },
  {
   "cell_type": "code",
   "execution_count": 6,
   "id": "certified-tactics",
   "metadata": {
    "execution": {
     "iopub.execute_input": "2022-06-06T12:17:01.091338Z",
     "iopub.status.busy": "2022-06-06T12:17:01.090415Z",
     "iopub.status.idle": "2022-06-06T12:17:01.092449Z",
     "shell.execute_reply": "2022-06-06T12:17:01.093303Z"
    },
    "papermill": {
     "duration": 0.046048,
     "end_time": "2022-06-06T12:17:01.093465",
     "exception": false,
     "start_time": "2022-06-06T12:17:01.047417",
     "status": "completed"
    },
    "tags": []
   },
   "outputs": [],
   "source": [
    "#hide\n",
    "def get_template(path):\n",
    "    from urllib.parse import urlparse\n",
    "    if bool(urlparse(path).netloc):\n",
    "        from urllib.request import urlopen\n",
    "        return urlopen(path).read().decode('utf8')\n",
    "    return open(path).read()"
   ]
  },
  {
   "cell_type": "code",
   "execution_count": 7,
   "id": "realistic-blast",
   "metadata": {
    "execution": {
     "iopub.execute_input": "2022-06-06T12:17:01.176053Z",
     "iopub.status.busy": "2022-06-06T12:17:01.171703Z",
     "iopub.status.idle": "2022-06-06T12:17:01.177293Z",
     "shell.execute_reply": "2022-06-06T12:17:01.176742Z"
    },
    "papermill": {
     "duration": 0.046878,
     "end_time": "2022-06-06T12:17:01.177421",
     "exception": false,
     "start_time": "2022-06-06T12:17:01.130543",
     "status": "completed"
    },
    "tags": []
   },
   "outputs": [],
   "source": [
    "#hide\n",
    "def get_frame(name):\n",
    "    url = (\n",
    "        'https://raw.githubusercontent.com/CSSEGISandData/COVID-19/master/csse_covid_19_data/'\n",
    "        f'csse_covid_19_time_series/time_series_covid19_{name}_global.csv')\n",
    "    df = pd.read_csv(url)\n",
    "    # rename countries\n",
    "    df['Country/Region'] = df['Country/Region'].replace(mapping['replace.country'])\n",
    "    return df"
   ]
  },
  {
   "cell_type": "code",
   "execution_count": 8,
   "id": "affiliated-characterization",
   "metadata": {
    "execution": {
     "iopub.execute_input": "2022-06-06T12:17:01.252831Z",
     "iopub.status.busy": "2022-06-06T12:17:01.252088Z",
     "iopub.status.idle": "2022-06-06T12:17:01.255249Z",
     "shell.execute_reply": "2022-06-06T12:17:01.254339Z"
    },
    "papermill": {
     "duration": 0.043639,
     "end_time": "2022-06-06T12:17:01.255403",
     "exception": false,
     "start_time": "2022-06-06T12:17:01.211764",
     "status": "completed"
    },
    "tags": []
   },
   "outputs": [],
   "source": [
    "#hide\n",
    "def get_dates(df):\n",
    "    dt_cols = df.columns[~df.columns.isin(['Province/State', 'Country/Region', 'Lat', 'Long'])]\n",
    "    LAST_DATE_I = -1\n",
    "    # sometimes last column may be empty, then go backwards\n",
    "    for i in range(-1, -len(dt_cols), -1):\n",
    "        if not df[dt_cols[i]].fillna(0).eq(0).all():\n",
    "            LAST_DATE_I = i\n",
    "            break\n",
    "    return LAST_DATE_I, dt_cols"
   ]
  },
  {
   "cell_type": "code",
   "execution_count": 9,
   "id": "recent-optimization",
   "metadata": {
    "execution": {
     "iopub.execute_input": "2022-06-06T12:17:01.329371Z",
     "iopub.status.busy": "2022-06-06T12:17:01.328642Z",
     "iopub.status.idle": "2022-06-06T12:17:01.888551Z",
     "shell.execute_reply": "2022-06-06T12:17:01.889117Z"
    },
    "papermill": {
     "duration": 0.599701,
     "end_time": "2022-06-06T12:17:01.889279",
     "exception": false,
     "start_time": "2022-06-06T12:17:01.289578",
     "status": "completed"
    },
    "tags": []
   },
   "outputs": [],
   "source": [
    "#hide\n",
    "COL_REGION = 'Country/Region'\n",
    "# Confirmed, Recovered, Deaths\n",
    "df = get_frame('confirmed')\n",
    "# dft_: timeseries, dfc_: today country agg\n",
    "dft_cases = df\n",
    "dft_deaths = get_frame('deaths')\n",
    "dft_recovered = get_frame('recovered')\n",
    "LAST_DATE_I, dt_cols = get_dates(df)"
   ]
  },
  {
   "cell_type": "code",
   "execution_count": 10,
   "id": "absolute-copper",
   "metadata": {
    "execution": {
     "iopub.execute_input": "2022-06-06T12:17:01.966493Z",
     "iopub.status.busy": "2022-06-06T12:17:01.965750Z",
     "iopub.status.idle": "2022-06-06T12:17:01.967635Z",
     "shell.execute_reply": "2022-06-06T12:17:01.968154Z"
    },
    "papermill": {
     "duration": 0.041851,
     "end_time": "2022-06-06T12:17:01.968303",
     "exception": false,
     "start_time": "2022-06-06T12:17:01.926452",
     "status": "completed"
    },
    "tags": []
   },
   "outputs": [],
   "source": [
    "#hide\n",
    "LAST_DATE_I, dt_cols = get_dates(df)\n",
    "dt_today =dt_cols[LAST_DATE_I]\n",
    "# dt_5day = dt_cols[LAST_DATE_I - 5]\n",
    "dt_yday = dt_cols[LAST_DATE_I - 1]"
   ]
  },
  {
   "cell_type": "code",
   "execution_count": 11,
   "id": "restricted-sheriff",
   "metadata": {
    "execution": {
     "iopub.execute_input": "2022-06-06T12:17:02.041969Z",
     "iopub.status.busy": "2022-06-06T12:17:02.041279Z",
     "iopub.status.idle": "2022-06-06T12:17:02.050345Z",
     "shell.execute_reply": "2022-06-06T12:17:02.051003Z"
    },
    "papermill": {
     "duration": 0.049457,
     "end_time": "2022-06-06T12:17:02.051152",
     "exception": false,
     "start_time": "2022-06-06T12:17:02.001695",
     "status": "completed"
    },
    "tags": []
   },
   "outputs": [],
   "source": [
    "#hide\n",
    "dfc_cases = dft_cases.groupby(COL_REGION)[dt_today].sum()\n",
    "dfc_deaths = dft_deaths.groupby(COL_REGION)[dt_today].sum()\n",
    "# dfp_cases = dft_cases.groupby(COL_REGION)[dt_5day].sum()\n",
    "# dfp_deaths = dft_deaths.groupby(COL_REGION)[dt_5day].sum()\n",
    "dfp_cases = dft_cases.groupby(COL_REGION)[dt_yday].sum()\n",
    "dfp_deaths = dft_deaths.groupby(COL_REGION)[dt_yday].sum()"
   ]
  },
  {
   "cell_type": "code",
   "execution_count": 12,
   "id": "deluxe-hepatitis",
   "metadata": {
    "execution": {
     "iopub.execute_input": "2022-06-06T12:17:02.124864Z",
     "iopub.status.busy": "2022-06-06T12:17:02.124094Z",
     "iopub.status.idle": "2022-06-06T12:17:02.130216Z",
     "shell.execute_reply": "2022-06-06T12:17:02.129331Z"
    },
    "papermill": {
     "duration": 0.045771,
     "end_time": "2022-06-06T12:17:02.130394",
     "exception": false,
     "start_time": "2022-06-06T12:17:02.084623",
     "status": "completed"
    },
    "tags": []
   },
   "outputs": [],
   "source": [
    "#hide\n",
    "df_table = (pd.DataFrame(dict(Cases = dfc_cases, Deaths = dfc_deaths, PCases = dfp_cases, PDeaths = dfp_deaths))\n",
    "            .sort_values(by = ['Cases','Deaths'], ascending = [False, False])\n",
    "            .reset_index())"
   ]
  },
  {
   "cell_type": "code",
   "execution_count": 13,
   "id": "educational-chancellor",
   "metadata": {
    "execution": {
     "iopub.execute_input": "2022-06-06T12:17:02.224276Z",
     "iopub.status.busy": "2022-06-06T12:17:02.223537Z",
     "iopub.status.idle": "2022-06-06T12:17:02.232950Z",
     "shell.execute_reply": "2022-06-06T12:17:02.232384Z"
    },
    "papermill": {
     "duration": 0.064215,
     "end_time": "2022-06-06T12:17:02.233082",
     "exception": false,
     "start_time": "2022-06-06T12:17:02.168867",
     "status": "completed"
    },
    "tags": []
   },
   "outputs": [
    {
     "data": {
      "text/html": [
       "<div>\n",
       "<style scoped>\n",
       "    .dataframe tbody tr th:only-of-type {\n",
       "        vertical-align: middle;\n",
       "    }\n",
       "\n",
       "    .dataframe tbody tr th {\n",
       "        vertical-align: top;\n",
       "    }\n",
       "\n",
       "    .dataframe thead th {\n",
       "        text-align: right;\n",
       "    }\n",
       "</style>\n",
       "<table border=\"1\" class=\"dataframe\">\n",
       "  <thead>\n",
       "    <tr style=\"text-align: right;\">\n",
       "      <th></th>\n",
       "      <th>Country/Region</th>\n",
       "      <th>Cases</th>\n",
       "      <th>Deaths</th>\n",
       "      <th>PCases</th>\n",
       "      <th>PDeaths</th>\n",
       "      <th>Cases (+)</th>\n",
       "      <th>Deaths (+)</th>\n",
       "      <th>Fatality Rate</th>\n",
       "      <th>Continent</th>\n",
       "    </tr>\n",
       "  </thead>\n",
       "  <tbody>\n",
       "    <tr>\n",
       "      <th>0</th>\n",
       "      <td>US</td>\n",
       "      <td>84762022</td>\n",
       "      <td>1008585</td>\n",
       "      <td>84748884</td>\n",
       "      <td>1008567</td>\n",
       "      <td>13138</td>\n",
       "      <td>18</td>\n",
       "      <td>1.19</td>\n",
       "      <td>North America</td>\n",
       "    </tr>\n",
       "    <tr>\n",
       "      <th>1</th>\n",
       "      <td>India</td>\n",
       "      <td>43181335</td>\n",
       "      <td>524701</td>\n",
       "      <td>43176817</td>\n",
       "      <td>524692</td>\n",
       "      <td>4518</td>\n",
       "      <td>9</td>\n",
       "      <td>1.22</td>\n",
       "      <td>Asia</td>\n",
       "    </tr>\n",
       "    <tr>\n",
       "      <th>2</th>\n",
       "      <td>Brazil</td>\n",
       "      <td>31137479</td>\n",
       "      <td>666971</td>\n",
       "      <td>31137479</td>\n",
       "      <td>666971</td>\n",
       "      <td>0</td>\n",
       "      <td>0</td>\n",
       "      <td>2.14</td>\n",
       "      <td>South America</td>\n",
       "    </tr>\n",
       "    <tr>\n",
       "      <th>3</th>\n",
       "      <td>France</td>\n",
       "      <td>29834390</td>\n",
       "      <td>149509</td>\n",
       "      <td>29813848</td>\n",
       "      <td>149506</td>\n",
       "      <td>20542</td>\n",
       "      <td>3</td>\n",
       "      <td>0.50</td>\n",
       "      <td>Europe</td>\n",
       "    </tr>\n",
       "    <tr>\n",
       "      <th>4</th>\n",
       "      <td>Germany</td>\n",
       "      <td>26496611</td>\n",
       "      <td>139386</td>\n",
       "      <td>26493235</td>\n",
       "      <td>139386</td>\n",
       "      <td>3376</td>\n",
       "      <td>0</td>\n",
       "      <td>0.53</td>\n",
       "      <td>Europe</td>\n",
       "    </tr>\n",
       "  </tbody>\n",
       "</table>\n",
       "</div>"
      ],
      "text/plain": [
       "  Country/Region     Cases   Deaths    PCases  PDeaths  Cases (+)  Deaths (+)  \\\n",
       "0             US  84762022  1008585  84748884  1008567      13138          18   \n",
       "1          India  43181335   524701  43176817   524692       4518           9   \n",
       "2         Brazil  31137479   666971  31137479   666971          0           0   \n",
       "3         France  29834390   149509  29813848   149506      20542           3   \n",
       "4        Germany  26496611   139386  26493235   139386       3376           0   \n",
       "\n",
       "   Fatality Rate      Continent  \n",
       "0           1.19  North America  \n",
       "1           1.22           Asia  \n",
       "2           2.14  South America  \n",
       "3           0.50         Europe  \n",
       "4           0.53         Europe  "
      ]
     },
     "execution_count": 13,
     "metadata": {},
     "output_type": "execute_result"
    }
   ],
   "source": [
    "#hide\n",
    "for c in 'Cases, Deaths'.split(', '):\n",
    "    df_table[f'{c} (+)'] = (df_table[c] - df_table[f'P{c}']).clip(0)\n",
    "    #Clip ça veut dire, les chiffres negatif sont interdit\n",
    "df_table['Fatality Rate'] = (100* df_table['Deaths']/ df_table['Cases']).round(2)\n",
    "df_table['Continent'] = df_table['Country/Region'].map(mapping['map.continent'])\n",
    "df_table.head(5)"
   ]
  },
  {
   "cell_type": "code",
   "execution_count": 14,
   "id": "aboriginal-bulgaria",
   "metadata": {
    "execution": {
     "iopub.execute_input": "2022-06-06T12:17:02.304885Z",
     "iopub.status.busy": "2022-06-06T12:17:02.304161Z",
     "iopub.status.idle": "2022-06-06T12:17:02.311111Z",
     "shell.execute_reply": "2022-06-06T12:17:02.311759Z"
    },
    "papermill": {
     "duration": 0.044696,
     "end_time": "2022-06-06T12:17:02.311913",
     "exception": false,
     "start_time": "2022-06-06T12:17:02.267217",
     "status": "completed"
    },
    "tags": []
   },
   "outputs": [],
   "source": [
    "#hide\n",
    "#delete problematic countries from table\n",
    "df_table = df_table[~df_table['Country/Region'].isin(['Cape Verde', 'Cruise Ship', 'Kosovo'])]"
   ]
  },
  {
   "cell_type": "code",
   "execution_count": 15,
   "id": "fantastic-effect",
   "metadata": {
    "execution": {
     "iopub.execute_input": "2022-06-06T12:17:02.393502Z",
     "iopub.status.busy": "2022-06-06T12:17:02.389450Z",
     "iopub.status.idle": "2022-06-06T12:17:02.415105Z",
     "shell.execute_reply": "2022-06-06T12:17:02.414146Z"
    },
    "papermill": {
     "duration": 0.069018,
     "end_time": "2022-06-06T12:17:02.415248",
     "exception": false,
     "start_time": "2022-06-06T12:17:02.346230",
     "status": "completed"
    },
    "tags": []
   },
   "outputs": [
    {
     "data": {
      "text/html": [
       "<div>\n",
       "<style scoped>\n",
       "    .dataframe tbody tr th:only-of-type {\n",
       "        vertical-align: middle;\n",
       "    }\n",
       "\n",
       "    .dataframe tbody tr th {\n",
       "        vertical-align: top;\n",
       "    }\n",
       "\n",
       "    .dataframe thead th {\n",
       "        text-align: right;\n",
       "    }\n",
       "</style>\n",
       "<table border=\"1\" class=\"dataframe\">\n",
       "  <thead>\n",
       "    <tr style=\"text-align: right;\">\n",
       "      <th></th>\n",
       "      <th>Country/Region</th>\n",
       "      <th>Cases</th>\n",
       "      <th>Deaths</th>\n",
       "      <th>PCases</th>\n",
       "      <th>PDeaths</th>\n",
       "      <th>Cases (+)</th>\n",
       "      <th>Deaths (+)</th>\n",
       "      <th>Fatality Rate</th>\n",
       "      <th>Continent</th>\n",
       "    </tr>\n",
       "  </thead>\n",
       "  <tbody>\n",
       "    <tr>\n",
       "      <th>0</th>\n",
       "      <td>US</td>\n",
       "      <td>84762022</td>\n",
       "      <td>1008585</td>\n",
       "      <td>84748884</td>\n",
       "      <td>1008567</td>\n",
       "      <td>13138</td>\n",
       "      <td>18</td>\n",
       "      <td>1.2</td>\n",
       "      <td>North America</td>\n",
       "    </tr>\n",
       "    <tr>\n",
       "      <th>1</th>\n",
       "      <td>India</td>\n",
       "      <td>43181335</td>\n",
       "      <td>524701</td>\n",
       "      <td>43176817</td>\n",
       "      <td>524692</td>\n",
       "      <td>4518</td>\n",
       "      <td>9</td>\n",
       "      <td>1.2</td>\n",
       "      <td>Asia</td>\n",
       "    </tr>\n",
       "    <tr>\n",
       "      <th>2</th>\n",
       "      <td>Brazil</td>\n",
       "      <td>31137479</td>\n",
       "      <td>666971</td>\n",
       "      <td>31137479</td>\n",
       "      <td>666971</td>\n",
       "      <td>0</td>\n",
       "      <td>0</td>\n",
       "      <td>2.1</td>\n",
       "      <td>South America</td>\n",
       "    </tr>\n",
       "    <tr>\n",
       "      <th>3</th>\n",
       "      <td>France</td>\n",
       "      <td>29834390</td>\n",
       "      <td>149509</td>\n",
       "      <td>29813848</td>\n",
       "      <td>149506</td>\n",
       "      <td>20542</td>\n",
       "      <td>3</td>\n",
       "      <td>0.5</td>\n",
       "      <td>Europe</td>\n",
       "    </tr>\n",
       "    <tr>\n",
       "      <th>4</th>\n",
       "      <td>Germany</td>\n",
       "      <td>26496611</td>\n",
       "      <td>139386</td>\n",
       "      <td>26493235</td>\n",
       "      <td>139386</td>\n",
       "      <td>3376</td>\n",
       "      <td>0</td>\n",
       "      <td>0.5</td>\n",
       "      <td>Europe</td>\n",
       "    </tr>\n",
       "  </tbody>\n",
       "</table>\n",
       "</div>"
      ],
      "text/plain": [
       "  Country/Region     Cases   Deaths    PCases  PDeaths  Cases (+)  Deaths (+)  \\\n",
       "0             US  84762022  1008585  84748884  1008567      13138          18   \n",
       "1          India  43181335   524701  43176817   524692       4518           9   \n",
       "2         Brazil  31137479   666971  31137479   666971          0           0   \n",
       "3         France  29834390   149509  29813848   149506      20542           3   \n",
       "4        Germany  26496611   139386  26493235   139386       3376           0   \n",
       "\n",
       "   Fatality Rate      Continent  \n",
       "0            1.2  North America  \n",
       "1            1.2           Asia  \n",
       "2            2.1  South America  \n",
       "3            0.5         Europe  \n",
       "4            0.5         Europe  "
      ]
     },
     "execution_count": 15,
     "metadata": {},
     "output_type": "execute_result"
    }
   ],
   "source": [
    "#hide\n",
    "df_table = (pd.DataFrame(dict(Cases=dfc_cases, Deaths=dfc_deaths, PCases=dfp_cases, PDeaths=dfp_deaths))\n",
    "             .sort_values(by=['Cases', 'Deaths'], ascending=[False, False])\n",
    "             .reset_index())\n",
    "df_table.rename(columns={'index': 'Country/Region'}, inplace=True)\n",
    "for c in 'Cases, Deaths'.split(', '):\n",
    "    df_table[f'{c} (+)'] = (df_table[c] - df_table[f'P{c}']).clip(0)  # DATA BUG\n",
    "df_table['Fatality Rate'] = (100 * df_table['Deaths'] / df_table['Cases']).round(1)\n",
    "df_table['Continent'] = df_table['Country/Region'].map(mapping['map.continent'])\n",
    "df_table.head(5)"
   ]
  },
  {
   "cell_type": "code",
   "execution_count": 16,
   "id": "fewer-occasion",
   "metadata": {
    "execution": {
     "iopub.execute_input": "2022-06-06T12:17:02.493732Z",
     "iopub.status.busy": "2022-06-06T12:17:02.492991Z",
     "iopub.status.idle": "2022-06-06T12:17:02.495761Z",
     "shell.execute_reply": "2022-06-06T12:17:02.495102Z"
    },
    "papermill": {
     "duration": 0.045827,
     "end_time": "2022-06-06T12:17:02.495888",
     "exception": false,
     "start_time": "2022-06-06T12:17:02.450061",
     "status": "completed"
    },
    "tags": []
   },
   "outputs": [],
   "source": [
    "#hide\n",
    "#delete problematic countries from table\n",
    "df_table = df_table[~df_table['Country/Region'].isin(['Cape Verde', 'Cruise Ship', 'Kosovo'])]"
   ]
  },
  {
   "cell_type": "code",
   "execution_count": 17,
   "id": "related-center",
   "metadata": {
    "execution": {
     "iopub.execute_input": "2022-06-06T12:17:02.588814Z",
     "iopub.status.busy": "2022-06-06T12:17:02.588089Z",
     "iopub.status.idle": "2022-06-06T12:17:02.590278Z",
     "shell.execute_reply": "2022-06-06T12:17:02.590814Z"
    },
    "papermill": {
     "duration": 0.060376,
     "end_time": "2022-06-06T12:17:02.590976",
     "exception": false,
     "start_time": "2022-06-06T12:17:02.530600",
     "status": "completed"
    },
    "tags": []
   },
   "outputs": [],
   "source": [
    "#hide\n",
    "metrics = [df_table.columns[index] for index in [1,2,5,6]]\n",
    "# s_china = df_table[df_table['Country/Region'].eq('China')][metrics].sum().add_prefix('China ')\n",
    "s_us = df_table[df_table['Country/Region'].eq('US')][metrics].sum().add_prefix('US ')\n",
    "s_eu = df_table[df_table['Continent'].eq('Europe')][metrics].sum().add_prefix('EU ')\n",
    "s_ind = df_table[df_table['Country/Region'].eq('India')][metrics].sum().add_prefix('India ')\n",
    "summary = {'updated': pd.to_datetime(dt_today), 'since': pd.to_datetime(dt_yday)}\n",
    "summary = {'updated': pd.to_datetime(dt_today), 'since': pd.to_datetime(dt_yday)}\n",
    "summary = {**summary, **df_table[metrics].sum(), **s_ind, **s_us, **s_eu}"
   ]
  },
  {
   "cell_type": "code",
   "execution_count": 18,
   "id": "engaging-syndrome",
   "metadata": {
    "execution": {
     "iopub.execute_input": "2022-06-06T12:17:02.666794Z",
     "iopub.status.busy": "2022-06-06T12:17:02.666057Z",
     "iopub.status.idle": "2022-06-06T12:17:02.695273Z",
     "shell.execute_reply": "2022-06-06T12:17:02.694662Z"
    },
    "papermill": {
     "duration": 0.069637,
     "end_time": "2022-06-06T12:17:02.695410",
     "exception": false,
     "start_time": "2022-06-06T12:17:02.625773",
     "status": "completed"
    },
    "tags": []
   },
   "outputs": [],
   "source": [
    "#hide\n",
    "dft_ct_new_cases = dft_cases.groupby(COL_REGION)[dt_cols].sum().diff(axis=1).fillna(0).astype(int)"
   ]
  },
  {
   "cell_type": "code",
   "execution_count": 19,
   "id": "neutral-assignment",
   "metadata": {
    "execution": {
     "iopub.execute_input": "2022-06-06T12:17:02.772380Z",
     "iopub.status.busy": "2022-06-06T12:17:02.771689Z",
     "iopub.status.idle": "2022-06-06T12:17:02.774906Z",
     "shell.execute_reply": "2022-06-06T12:17:02.774196Z"
    },
    "papermill": {
     "duration": 0.0449,
     "end_time": "2022-06-06T12:17:02.775035",
     "exception": false,
     "start_time": "2022-06-06T12:17:02.730135",
     "status": "completed"
    },
    "tags": []
   },
   "outputs": [],
   "source": [
    "#hide\n",
    "everydaycases = dft_ct_new_cases.cumsum(axis=1)"
   ]
  },
  {
   "cell_type": "code",
   "execution_count": 20,
   "id": "parliamentary-calgary",
   "metadata": {
    "execution": {
     "iopub.execute_input": "2022-06-06T12:17:02.849514Z",
     "iopub.status.busy": "2022-06-06T12:17:02.848827Z",
     "iopub.status.idle": "2022-06-06T12:17:03.529322Z",
     "shell.execute_reply": "2022-06-06T12:17:03.528172Z"
    },
    "papermill": {
     "duration": 0.719818,
     "end_time": "2022-06-06T12:17:03.529479",
     "exception": false,
     "start_time": "2022-06-06T12:17:02.809661",
     "status": "completed"
    },
    "tags": []
   },
   "outputs": [],
   "source": [
    "#hide\n",
    "import pandas as pd\n",
    "import matplotlib.pyplot as plt\n",
    "import matplotlib.ticker as ticker\n",
    "import matplotlib.animation as animation\n",
    "from IPython.display import HTML"
   ]
  },
  {
   "cell_type": "code",
   "execution_count": 21,
   "id": "lasting-extraction",
   "metadata": {
    "execution": {
     "iopub.execute_input": "2022-06-06T12:17:03.607849Z",
     "iopub.status.busy": "2022-06-06T12:17:03.606819Z",
     "iopub.status.idle": "2022-06-06T12:17:03.613964Z",
     "shell.execute_reply": "2022-06-06T12:17:03.613369Z"
    },
    "papermill": {
     "duration": 0.049913,
     "end_time": "2022-06-06T12:17:03.614096",
     "exception": false,
     "start_time": "2022-06-06T12:17:03.564183",
     "status": "completed"
    },
    "tags": []
   },
   "outputs": [],
   "source": [
    "#hide\n",
    "t = everydaycases.stack()"
   ]
  },
  {
   "cell_type": "code",
   "execution_count": 22,
   "id": "premier-sleeve",
   "metadata": {
    "execution": {
     "iopub.execute_input": "2022-06-06T12:17:03.689622Z",
     "iopub.status.busy": "2022-06-06T12:17:03.688921Z",
     "iopub.status.idle": "2022-06-06T12:17:03.708295Z",
     "shell.execute_reply": "2022-06-06T12:17:03.707743Z"
    },
    "papermill": {
     "duration": 0.059504,
     "end_time": "2022-06-06T12:17:03.708436",
     "exception": false,
     "start_time": "2022-06-06T12:17:03.648932",
     "status": "completed"
    },
    "tags": []
   },
   "outputs": [],
   "source": [
    "#hide\n",
    "g = t.reset_index(['Country/Region'])"
   ]
  },
  {
   "cell_type": "code",
   "execution_count": 23,
   "id": "distributed-pittsburgh",
   "metadata": {
    "execution": {
     "iopub.execute_input": "2022-06-06T12:17:03.782921Z",
     "iopub.status.busy": "2022-06-06T12:17:03.782166Z",
     "iopub.status.idle": "2022-06-06T12:17:03.784819Z",
     "shell.execute_reply": "2022-06-06T12:17:03.784161Z"
    },
    "papermill": {
     "duration": 0.041904,
     "end_time": "2022-06-06T12:17:03.784949",
     "exception": false,
     "start_time": "2022-06-06T12:17:03.743045",
     "status": "completed"
    },
    "tags": []
   },
   "outputs": [],
   "source": [
    "#hide\n",
    "g.index.name = 'date'"
   ]
  },
  {
   "cell_type": "code",
   "execution_count": 24,
   "id": "naked-donor",
   "metadata": {
    "execution": {
     "iopub.execute_input": "2022-06-06T12:17:03.861113Z",
     "iopub.status.busy": "2022-06-06T12:17:03.859887Z",
     "iopub.status.idle": "2022-06-06T12:17:03.862165Z",
     "shell.execute_reply": "2022-06-06T12:17:03.862723Z"
    },
    "papermill": {
     "duration": 0.043124,
     "end_time": "2022-06-06T12:17:03.862880",
     "exception": false,
     "start_time": "2022-06-06T12:17:03.819756",
     "status": "completed"
    },
    "tags": []
   },
   "outputs": [],
   "source": [
    "# #hide\n",
    "# g = g.reset_index(['date'])"
   ]
  },
  {
   "cell_type": "code",
   "execution_count": 25,
   "id": "incomplete-mustang",
   "metadata": {
    "execution": {
     "iopub.execute_input": "2022-06-06T12:17:03.938491Z",
     "iopub.status.busy": "2022-06-06T12:17:03.937474Z",
     "iopub.status.idle": "2022-06-06T12:17:03.942297Z",
     "shell.execute_reply": "2022-06-06T12:17:03.941495Z"
    },
    "papermill": {
     "duration": 0.044924,
     "end_time": "2022-06-06T12:17:03.942437",
     "exception": false,
     "start_time": "2022-06-06T12:17:03.897513",
     "status": "completed"
    },
    "tags": []
   },
   "outputs": [],
   "source": [
    "#hide\n",
    "# g.head()"
   ]
  },
  {
   "cell_type": "code",
   "execution_count": 26,
   "id": "specific-kruger",
   "metadata": {
    "execution": {
     "iopub.execute_input": "2022-06-06T12:17:04.027022Z",
     "iopub.status.busy": "2022-06-06T12:17:04.026306Z",
     "iopub.status.idle": "2022-06-06T12:17:04.029061Z",
     "shell.execute_reply": "2022-06-06T12:17:04.028510Z"
    },
    "papermill": {
     "duration": 0.041867,
     "end_time": "2022-06-06T12:17:04.029191",
     "exception": false,
     "start_time": "2022-06-06T12:17:03.987324",
     "status": "completed"
    },
    "tags": []
   },
   "outputs": [],
   "source": [
    "#hide\n",
    "# g.columns = ['date','country','cases']"
   ]
  },
  {
   "cell_type": "code",
   "execution_count": 27,
   "id": "tender-conversion",
   "metadata": {
    "execution": {
     "iopub.execute_input": "2022-06-06T12:17:04.104221Z",
     "iopub.status.busy": "2022-06-06T12:17:04.103529Z",
     "iopub.status.idle": "2022-06-06T12:17:04.106913Z",
     "shell.execute_reply": "2022-06-06T12:17:04.107473Z"
    },
    "papermill": {
     "duration": 0.043786,
     "end_time": "2022-06-06T12:17:04.107629",
     "exception": false,
     "start_time": "2022-06-06T12:17:04.063843",
     "status": "completed"
    },
    "tags": []
   },
   "outputs": [],
   "source": [
    "#hide\n",
    "# g['continent'] = g.country"
   ]
  },
  {
   "cell_type": "code",
   "execution_count": 28,
   "id": "substantial-wilderness",
   "metadata": {
    "execution": {
     "iopub.execute_input": "2022-06-06T12:17:04.181408Z",
     "iopub.status.busy": "2022-06-06T12:17:04.180704Z",
     "iopub.status.idle": "2022-06-06T12:17:04.183415Z",
     "shell.execute_reply": "2022-06-06T12:17:04.182744Z"
    },
    "papermill": {
     "duration": 0.041015,
     "end_time": "2022-06-06T12:17:04.183546",
     "exception": false,
     "start_time": "2022-06-06T12:17:04.142531",
     "status": "completed"
    },
    "tags": []
   },
   "outputs": [],
   "source": [
    "#hide\n",
    "# cols = list(g.columns.values)"
   ]
  },
  {
   "cell_type": "code",
   "execution_count": 29,
   "id": "solved-farming",
   "metadata": {
    "execution": {
     "iopub.execute_input": "2022-06-06T12:17:04.258536Z",
     "iopub.status.busy": "2022-06-06T12:17:04.257825Z",
     "iopub.status.idle": "2022-06-06T12:17:04.261374Z",
     "shell.execute_reply": "2022-06-06T12:17:04.261927Z"
    },
    "papermill": {
     "duration": 0.043406,
     "end_time": "2022-06-06T12:17:04.262076",
     "exception": false,
     "start_time": "2022-06-06T12:17:04.218670",
     "status": "completed"
    },
    "tags": []
   },
   "outputs": [],
   "source": [
    "#hide\n",
    "# cols.insert(0, cols.pop())"
   ]
  },
  {
   "cell_type": "code",
   "execution_count": 30,
   "id": "executed-adoption",
   "metadata": {
    "execution": {
     "iopub.execute_input": "2022-06-06T12:17:04.336152Z",
     "iopub.status.busy": "2022-06-06T12:17:04.335446Z",
     "iopub.status.idle": "2022-06-06T12:17:04.339864Z",
     "shell.execute_reply": "2022-06-06T12:17:04.340437Z"
    },
    "papermill": {
     "duration": 0.043764,
     "end_time": "2022-06-06T12:17:04.340598",
     "exception": false,
     "start_time": "2022-06-06T12:17:04.296834",
     "status": "completed"
    },
    "tags": []
   },
   "outputs": [],
   "source": [
    "#hide\n",
    "# g = g[cols]"
   ]
  },
  {
   "cell_type": "code",
   "execution_count": 31,
   "id": "subject-dublin",
   "metadata": {
    "execution": {
     "iopub.execute_input": "2022-06-06T12:17:04.421152Z",
     "iopub.status.busy": "2022-06-06T12:17:04.420440Z",
     "iopub.status.idle": "2022-06-06T12:17:04.424583Z",
     "shell.execute_reply": "2022-06-06T12:17:04.425080Z"
    },
    "papermill": {
     "duration": 0.04457,
     "end_time": "2022-06-06T12:17:04.425234",
     "exception": false,
     "start_time": "2022-06-06T12:17:04.380664",
     "status": "completed"
    },
    "tags": []
   },
   "outputs": [],
   "source": [
    "#hide\n",
    "# g['continent'] = g['continent'].map(mapping['map.continent'])"
   ]
  },
  {
   "cell_type": "code",
   "execution_count": 32,
   "id": "freelance-scout",
   "metadata": {
    "execution": {
     "iopub.execute_input": "2022-06-06T12:17:04.500203Z",
     "iopub.status.busy": "2022-06-06T12:17:04.499180Z",
     "iopub.status.idle": "2022-06-06T12:17:04.501219Z",
     "shell.execute_reply": "2022-06-06T12:17:04.501755Z"
    },
    "papermill": {
     "duration": 0.041976,
     "end_time": "2022-06-06T12:17:04.501904",
     "exception": false,
     "start_time": "2022-06-06T12:17:04.459928",
     "status": "completed"
    },
    "tags": []
   },
   "outputs": [],
   "source": [
    "#hide\n",
    "# g.head()"
   ]
  },
  {
   "cell_type": "code",
   "execution_count": 33,
   "id": "limited-engine",
   "metadata": {
    "execution": {
     "iopub.execute_input": "2022-06-06T12:17:04.575795Z",
     "iopub.status.busy": "2022-06-06T12:17:04.575106Z",
     "iopub.status.idle": "2022-06-06T12:17:04.578374Z",
     "shell.execute_reply": "2022-06-06T12:17:04.579024Z"
    },
    "papermill": {
     "duration": 0.042671,
     "end_time": "2022-06-06T12:17:04.579172",
     "exception": false,
     "start_time": "2022-06-06T12:17:04.536501",
     "status": "completed"
    },
    "tags": []
   },
   "outputs": [],
   "source": [
    "# hide\n",
    "# g['date'] = g['date'].astype('datetime64[ns]')"
   ]
  },
  {
   "cell_type": "code",
   "execution_count": 34,
   "id": "sophisticated-supervisor",
   "metadata": {
    "execution": {
     "iopub.execute_input": "2022-06-06T12:17:04.654804Z",
     "iopub.status.busy": "2022-06-06T12:17:04.654043Z",
     "iopub.status.idle": "2022-06-06T12:17:04.655551Z",
     "shell.execute_reply": "2022-06-06T12:17:04.656058Z"
    },
    "papermill": {
     "duration": 0.042283,
     "end_time": "2022-06-06T12:17:04.656209",
     "exception": false,
     "start_time": "2022-06-06T12:17:04.613926",
     "status": "completed"
    },
    "tags": []
   },
   "outputs": [],
   "source": [
    "#hide\n",
    "# g['date'] = g.date.dt.dayofyear"
   ]
  },
  {
   "cell_type": "code",
   "execution_count": 35,
   "id": "inside-dubai",
   "metadata": {
    "execution": {
     "iopub.execute_input": "2022-06-06T12:17:04.730319Z",
     "iopub.status.busy": "2022-06-06T12:17:04.729424Z",
     "iopub.status.idle": "2022-06-06T12:17:04.732245Z",
     "shell.execute_reply": "2022-06-06T12:17:04.731258Z"
    },
    "papermill": {
     "duration": 0.041534,
     "end_time": "2022-06-06T12:17:04.732380",
     "exception": false,
     "start_time": "2022-06-06T12:17:04.690846",
     "status": "completed"
    },
    "tags": []
   },
   "outputs": [],
   "source": [
    "#hide\n",
    "# g = g.rename(columns= {'continent':'group','country':'name','cases':'value'})"
   ]
  },
  {
   "cell_type": "code",
   "execution_count": 36,
   "id": "fleet-motorcycle",
   "metadata": {
    "execution": {
     "iopub.execute_input": "2022-06-06T12:17:04.809525Z",
     "iopub.status.busy": "2022-06-06T12:17:04.808802Z",
     "iopub.status.idle": "2022-06-06T12:17:04.813286Z",
     "shell.execute_reply": "2022-06-06T12:17:04.812729Z"
    },
    "papermill": {
     "duration": 0.044275,
     "end_time": "2022-06-06T12:17:04.813415",
     "exception": false,
     "start_time": "2022-06-06T12:17:04.769140",
     "status": "completed"
    },
    "tags": []
   },
   "outputs": [],
   "source": [
    "#hide\n",
    "# cols = ['name','group','day','value']"
   ]
  },
  {
   "cell_type": "code",
   "execution_count": 37,
   "id": "continued-sleeping",
   "metadata": {
    "execution": {
     "iopub.execute_input": "2022-06-06T12:17:04.888450Z",
     "iopub.status.busy": "2022-06-06T12:17:04.887199Z",
     "iopub.status.idle": "2022-06-06T12:17:04.889537Z",
     "shell.execute_reply": "2022-06-06T12:17:04.890318Z"
    },
    "papermill": {
     "duration": 0.042229,
     "end_time": "2022-06-06T12:17:04.890529",
     "exception": false,
     "start_time": "2022-06-06T12:17:04.848300",
     "status": "completed"
    },
    "tags": []
   },
   "outputs": [],
   "source": [
    "#hide\n",
    "# g.rename(columns= {'date':'day'},inplace = True)"
   ]
  },
  {
   "cell_type": "code",
   "execution_count": 38,
   "id": "major-fight",
   "metadata": {
    "execution": {
     "iopub.execute_input": "2022-06-06T12:17:04.967410Z",
     "iopub.status.busy": "2022-06-06T12:17:04.966584Z",
     "iopub.status.idle": "2022-06-06T12:17:04.968504Z",
     "shell.execute_reply": "2022-06-06T12:17:04.969148Z"
    },
    "papermill": {
     "duration": 0.041512,
     "end_time": "2022-06-06T12:17:04.969356",
     "exception": false,
     "start_time": "2022-06-06T12:17:04.927844",
     "status": "completed"
    },
    "tags": []
   },
   "outputs": [],
   "source": [
    "#hide\n",
    "# g = g[cols]"
   ]
  },
  {
   "cell_type": "code",
   "execution_count": 39,
   "id": "structured-mobile",
   "metadata": {
    "execution": {
     "iopub.execute_input": "2022-06-06T12:17:05.045426Z",
     "iopub.status.busy": "2022-06-06T12:17:05.044742Z",
     "iopub.status.idle": "2022-06-06T12:17:05.050203Z",
     "shell.execute_reply": "2022-06-06T12:17:05.051069Z"
    },
    "papermill": {
     "duration": 0.046505,
     "end_time": "2022-06-06T12:17:05.051274",
     "exception": false,
     "start_time": "2022-06-06T12:17:05.004769",
     "status": "completed"
    },
    "tags": []
   },
   "outputs": [],
   "source": [
    "# #hide\n",
    "# g = g[g.group.notna()]"
   ]
  },
  {
   "cell_type": "code",
   "execution_count": 40,
   "id": "determined-closing",
   "metadata": {
    "execution": {
     "iopub.execute_input": "2022-06-06T12:17:05.132510Z",
     "iopub.status.busy": "2022-06-06T12:17:05.131772Z",
     "iopub.status.idle": "2022-06-06T12:17:05.133948Z",
     "shell.execute_reply": "2022-06-06T12:17:05.134490Z"
    },
    "papermill": {
     "duration": 0.045027,
     "end_time": "2022-06-06T12:17:05.134650",
     "exception": false,
     "start_time": "2022-06-06T12:17:05.089623",
     "status": "completed"
    },
    "tags": []
   },
   "outputs": [],
   "source": [
    "# #hide\n",
    "# colors = dict(zip(\n",
    "#     [\"Oceania\", \"Europe\", \"Asia\", \"South America\", \"Middle East\", \"North America\", \"Africa\"],\n",
    "#     [\"#adb0ff\", \"#ffb3ff\", \"#90d595\", \"#e48381\", \"#aafbff\", \"#f7bb5f\", \"#eafb50\"]\n",
    "# ))\n",
    "# group_lk = g.set_index('name')['group'].to_dict()"
   ]
  },
  {
   "cell_type": "code",
   "execution_count": null,
   "id": "gross-drinking",
   "metadata": {
    "papermill": {
     "duration": 0.034756,
     "end_time": "2022-06-06T12:17:05.204012",
     "exception": false,
     "start_time": "2022-06-06T12:17:05.169256",
     "status": "completed"
    },
    "tags": []
   },
   "outputs": [],
   "source": []
  },
  {
   "cell_type": "code",
   "execution_count": 41,
   "id": "subject-macintosh",
   "metadata": {
    "execution": {
     "iopub.execute_input": "2022-06-06T12:17:05.282668Z",
     "iopub.status.busy": "2022-06-06T12:17:05.281358Z",
     "iopub.status.idle": "2022-06-06T12:17:05.283740Z",
     "shell.execute_reply": "2022-06-06T12:17:05.284250Z"
    },
    "papermill": {
     "duration": 0.044731,
     "end_time": "2022-06-06T12:17:05.284400",
     "exception": false,
     "start_time": "2022-06-06T12:17:05.239669",
     "status": "completed"
    },
    "tags": []
   },
   "outputs": [],
   "source": [
    "# #hide\n",
    "# fig, ax = plt.subplots(figsize=(15, 8))\n",
    "\n",
    "# def draw_barchart(current_day):\n",
    "#     dff = g[g['day'].eq(current_day)].sort_values(by='value', ascending=True).tail(10)\n",
    "#     ax.clear()\n",
    "#     ax.barh(dff['name'], dff['value'], color=[colors[group_lk[x]] for x in dff['name']])\n",
    "#     dx = dff['value'].max() / 200\n",
    "    \n",
    "#     for i, (value, name) in enumerate(zip(dff['value'], dff['name'])):\n",
    "#         ax.text(value-dx, i,     name,           size=14, weight=600, ha='right', va='bottom')\n",
    "#         ax.text(value-dx, i-.25, group_lk[name], size=10, color='#444444', ha='right', va='baseline')\n",
    "#         ax.text(value+dx, i,     f'{value:,.0f}',  size=14, ha='left',  va='center')\n",
    "#     ax.text(1, 0.4, current_day, transform=ax.transAxes, color='#777777', size=46, ha='right', weight=800)\n",
    "#     ax.text(0, 1.06, 'Population (thousands)', transform=ax.transAxes, size=12, color='#777777')\n",
    "#     ax.xaxis.set_major_formatter(ticker.StrMethodFormatter('{x:,.0f}'))\n",
    "#     ax.xaxis.set_ticks_position('top')\n",
    "#     ax.tick_params(axis='x', colors='#777777', labelsize=12)\n",
    "#     ax.set_yticks([])\n",
    "#     ax.margins(0, 0.01)\n",
    "#     ax.grid(which='major', axis='x', linestyle='-')\n",
    "#     ax.set_axisbelow(True)\n",
    "    \n",
    "#     ax.text(0, 1.15, 'Coronavirus',\n",
    "#             transform=ax.transAxes, size=24, weight=600, ha='left', va='top')\n",
    "# #     ax.text(1, 0, 'by @pratapvardhan; credit @jburnmurdoch', transform=ax.transAxes, color='#777777', ha='right',\n",
    "# #             bbox=dict(facecolor='white', alpha=0.8, edgecolor='white'))\n",
    "#     plt.box(False)"
   ]
  },
  {
   "cell_type": "code",
   "execution_count": 42,
   "id": "sexual-wages",
   "metadata": {
    "execution": {
     "iopub.execute_input": "2022-06-06T12:17:05.364792Z",
     "iopub.status.busy": "2022-06-06T12:17:05.364035Z",
     "iopub.status.idle": "2022-06-06T12:17:05.367041Z",
     "shell.execute_reply": "2022-06-06T12:17:05.366478Z"
    },
    "papermill": {
     "duration": 0.046453,
     "end_time": "2022-06-06T12:17:05.367170",
     "exception": false,
     "start_time": "2022-06-06T12:17:05.320717",
     "status": "completed"
    },
    "tags": []
   },
   "outputs": [],
   "source": [
    "# #hide_input\n",
    "# fig, ax = plt.subplots(figsize=(15, 8))\n",
    "# animator = animation.FuncAnimation(fig, draw_barchart, frames=range(g.day.values.min(), g.day.values.max()))\n",
    "# HTML(animator.to_jshtml())\n",
    "# # or use animator.to_html5_video() or animator.save() "
   ]
  },
  {
   "cell_type": "code",
   "execution_count": null,
   "id": "australian-container",
   "metadata": {
    "papermill": {
     "duration": 0.034497,
     "end_time": "2022-06-06T12:17:05.436742",
     "exception": false,
     "start_time": "2022-06-06T12:17:05.402245",
     "status": "completed"
    },
    "tags": []
   },
   "outputs": [],
   "source": []
  },
  {
   "cell_type": "code",
   "execution_count": null,
   "id": "mediterranean-pontiac",
   "metadata": {
    "papermill": {
     "duration": 0.034443,
     "end_time": "2022-06-06T12:17:05.505791",
     "exception": false,
     "start_time": "2022-06-06T12:17:05.471348",
     "status": "completed"
    },
    "tags": []
   },
   "outputs": [],
   "source": []
  },
  {
   "cell_type": "code",
   "execution_count": null,
   "id": "aging-legislature",
   "metadata": {
    "papermill": {
     "duration": 0.03463,
     "end_time": "2022-06-06T12:17:05.575287",
     "exception": false,
     "start_time": "2022-06-06T12:17:05.540657",
     "status": "completed"
    },
    "tags": []
   },
   "outputs": [],
   "source": []
  }
 ],
 "metadata": {
  "kernelspec": {
   "display_name": "Python 3",
   "language": "python",
   "name": "python3"
  },
  "language_info": {
   "codemirror_mode": {
    "name": "ipython",
    "version": 3
   },
   "file_extension": ".py",
   "mimetype": "text/x-python",
   "name": "python",
   "nbconvert_exporter": "python",
   "pygments_lexer": "ipython3",
   "version": "3.6.15"
  },
  "papermill": {
   "duration": 7.19285,
   "end_time": "2022-06-06T12:17:06.031868",
   "environment_variables": {},
   "exception": null,
   "input_path": "2020-03-21-covid19exp.ipynb",
   "output_path": "2020-03-21-covid19exp.ipynb",
   "parameters": {},
   "start_time": "2022-06-06T12:16:58.839018",
   "version": "2.0.0"
  }
 },
 "nbformat": 4,
 "nbformat_minor": 5
}