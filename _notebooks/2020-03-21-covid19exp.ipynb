{
 "cells": [
  {
   "cell_type": "markdown",
   "id": "muslim-click",
   "metadata": {
    "papermill": {
     "duration": 0.038485,
     "end_time": "2022-03-27T12:13:40.445664",
     "exception": false,
     "start_time": "2022-03-27T12:13:40.407179",
     "status": "completed"
    },
    "tags": []
   },
   "source": [
    "# COVID-19 Case Race\n",
    "> A race chart to see rising cases around the world\n",
    "\n",
    "- author: Hargun Oberoi\n",
    "- image: images/covid-overview.png\n",
    "- hide: false\n",
    "- badges: false"
   ]
  },
  {
   "cell_type": "code",
   "execution_count": 1,
   "id": "proof-material",
   "metadata": {
    "execution": {
     "iopub.execute_input": "2022-03-27T12:13:40.528271Z",
     "iopub.status.busy": "2022-03-27T12:13:40.527587Z",
     "iopub.status.idle": "2022-03-27T12:13:40.900383Z",
     "shell.execute_reply": "2022-03-27T12:13:40.900956Z"
    },
    "papermill": {
     "duration": 0.41861,
     "end_time": "2022-03-27T12:13:40.901155",
     "exception": false,
     "start_time": "2022-03-27T12:13:40.482545",
     "status": "completed"
    },
    "tags": []
   },
   "outputs": [],
   "source": [
    "#hide\n",
    "import numpy as np\n",
    "import pandas as pd\n",
    "from jinja2 import Template\n",
    "from IPython.display import HTML"
   ]
  },
  {
   "cell_type": "code",
   "execution_count": 2,
   "id": "developed-terminology",
   "metadata": {
    "execution": {
     "iopub.execute_input": "2022-03-27T12:13:40.982217Z",
     "iopub.status.busy": "2022-03-27T12:13:40.981462Z",
     "iopub.status.idle": "2022-03-27T12:13:40.984052Z",
     "shell.execute_reply": "2022-03-27T12:13:40.983357Z"
    },
    "papermill": {
     "duration": 0.045465,
     "end_time": "2022-03-27T12:13:40.984180",
     "exception": false,
     "start_time": "2022-03-27T12:13:40.938715",
     "status": "completed"
    },
    "tags": []
   },
   "outputs": [],
   "source": [
    "#hide\n",
    "\n",
    "# FETCH\n",
    "base_url = 'https://raw.githubusercontent.com/pratapvardhan/notebooks/master/covid19/'\n",
    "paths = {\n",
    "    'mapping': base_url + 'mapping_countries.csv',\n",
    "    'overview': base_url + 'overview.tpl'\n",
    "}"
   ]
  },
  {
   "cell_type": "code",
   "execution_count": 3,
   "id": "dynamic-saver",
   "metadata": {
    "execution": {
     "iopub.execute_input": "2022-03-27T12:13:41.069533Z",
     "iopub.status.busy": "2022-03-27T12:13:41.068891Z",
     "iopub.status.idle": "2022-03-27T12:13:41.072592Z",
     "shell.execute_reply": "2022-03-27T12:13:41.072068Z"
    },
    "papermill": {
     "duration": 0.051228,
     "end_time": "2022-03-27T12:13:41.072715",
     "exception": false,
     "start_time": "2022-03-27T12:13:41.021487",
     "status": "completed"
    },
    "tags": []
   },
   "outputs": [
    {
     "data": {
      "text/plain": [
       "'https://raw.githubusercontent.com/pratapvardhan/notebooks/master/covid19/mapping_countries.csv'"
      ]
     },
     "execution_count": 3,
     "metadata": {},
     "output_type": "execute_result"
    }
   ],
   "source": [
    "#hide\n",
    "paths['mapping']"
   ]
  },
  {
   "cell_type": "code",
   "execution_count": 4,
   "id": "urban-software",
   "metadata": {
    "execution": {
     "iopub.execute_input": "2022-03-27T12:13:41.147587Z",
     "iopub.status.busy": "2022-03-27T12:13:41.146962Z",
     "iopub.status.idle": "2022-03-27T12:13:41.149380Z",
     "shell.execute_reply": "2022-03-27T12:13:41.148853Z"
    },
    "papermill": {
     "duration": 0.042088,
     "end_time": "2022-03-27T12:13:41.149505",
     "exception": false,
     "start_time": "2022-03-27T12:13:41.107417",
     "status": "completed"
    },
    "tags": []
   },
   "outputs": [],
   "source": [
    "#hide\n",
    "def get_mappings(url):\n",
    "    df = pd.read_csv(url)\n",
    "    return {\n",
    "        'df': df,\n",
    "        'replace.country': dict(df.dropna(subset=['Name']).set_index('Country')['Name']),\n",
    "        'map.continent': dict(df.set_index('Name')['Continent'])\n",
    "    }"
   ]
  },
  {
   "cell_type": "code",
   "execution_count": 5,
   "id": "intimate-machinery",
   "metadata": {
    "execution": {
     "iopub.execute_input": "2022-03-27T12:13:41.226835Z",
     "iopub.status.busy": "2022-03-27T12:13:41.226243Z",
     "iopub.status.idle": "2022-03-27T12:13:41.255508Z",
     "shell.execute_reply": "2022-03-27T12:13:41.254936Z"
    },
    "papermill": {
     "duration": 0.070656,
     "end_time": "2022-03-27T12:13:41.255632",
     "exception": false,
     "start_time": "2022-03-27T12:13:41.184976",
     "status": "completed"
    },
    "tags": []
   },
   "outputs": [],
   "source": [
    "#hide\n",
    "mapping = get_mappings(paths['mapping'])"
   ]
  },
  {
   "cell_type": "code",
   "execution_count": 6,
   "id": "certified-tactics",
   "metadata": {
    "execution": {
     "iopub.execute_input": "2022-03-27T12:13:41.331506Z",
     "iopub.status.busy": "2022-03-27T12:13:41.330831Z",
     "iopub.status.idle": "2022-03-27T12:13:41.333412Z",
     "shell.execute_reply": "2022-03-27T12:13:41.332871Z"
    },
    "papermill": {
     "duration": 0.041463,
     "end_time": "2022-03-27T12:13:41.333539",
     "exception": false,
     "start_time": "2022-03-27T12:13:41.292076",
     "status": "completed"
    },
    "tags": []
   },
   "outputs": [],
   "source": [
    "#hide\n",
    "def get_template(path):\n",
    "    from urllib.parse import urlparse\n",
    "    if bool(urlparse(path).netloc):\n",
    "        from urllib.request import urlopen\n",
    "        return urlopen(path).read().decode('utf8')\n",
    "    return open(path).read()"
   ]
  },
  {
   "cell_type": "code",
   "execution_count": 7,
   "id": "realistic-blast",
   "metadata": {
    "execution": {
     "iopub.execute_input": "2022-03-27T12:13:41.422432Z",
     "iopub.status.busy": "2022-03-27T12:13:41.421781Z",
     "iopub.status.idle": "2022-03-27T12:13:41.424454Z",
     "shell.execute_reply": "2022-03-27T12:13:41.423874Z"
    },
    "papermill": {
     "duration": 0.04326,
     "end_time": "2022-03-27T12:13:41.424576",
     "exception": false,
     "start_time": "2022-03-27T12:13:41.381316",
     "status": "completed"
    },
    "tags": []
   },
   "outputs": [],
   "source": [
    "#hide\n",
    "def get_frame(name):\n",
    "    url = (\n",
    "        'https://raw.githubusercontent.com/CSSEGISandData/COVID-19/master/csse_covid_19_data/'\n",
    "        f'csse_covid_19_time_series/time_series_covid19_{name}_global.csv')\n",
    "    df = pd.read_csv(url)\n",
    "    # rename countries\n",
    "    df['Country/Region'] = df['Country/Region'].replace(mapping['replace.country'])\n",
    "    return df"
   ]
  },
  {
   "cell_type": "code",
   "execution_count": 8,
   "id": "affiliated-characterization",
   "metadata": {
    "execution": {
     "iopub.execute_input": "2022-03-27T12:13:41.504077Z",
     "iopub.status.busy": "2022-03-27T12:13:41.503357Z",
     "iopub.status.idle": "2022-03-27T12:13:41.505822Z",
     "shell.execute_reply": "2022-03-27T12:13:41.505131Z"
    },
    "papermill": {
     "duration": 0.044908,
     "end_time": "2022-03-27T12:13:41.505950",
     "exception": false,
     "start_time": "2022-03-27T12:13:41.461042",
     "status": "completed"
    },
    "tags": []
   },
   "outputs": [],
   "source": [
    "#hide\n",
    "def get_dates(df):\n",
    "    dt_cols = df.columns[~df.columns.isin(['Province/State', 'Country/Region', 'Lat', 'Long'])]\n",
    "    LAST_DATE_I = -1\n",
    "    # sometimes last column may be empty, then go backwards\n",
    "    for i in range(-1, -len(dt_cols), -1):\n",
    "        if not df[dt_cols[i]].fillna(0).eq(0).all():\n",
    "            LAST_DATE_I = i\n",
    "            break\n",
    "    return LAST_DATE_I, dt_cols"
   ]
  },
  {
   "cell_type": "code",
   "execution_count": 9,
   "id": "recent-optimization",
   "metadata": {
    "execution": {
     "iopub.execute_input": "2022-03-27T12:13:41.591053Z",
     "iopub.status.busy": "2022-03-27T12:13:41.590281Z",
     "iopub.status.idle": "2022-03-27T12:13:42.003450Z",
     "shell.execute_reply": "2022-03-27T12:13:42.002867Z"
    },
    "papermill": {
     "duration": 0.456701,
     "end_time": "2022-03-27T12:13:42.003602",
     "exception": false,
     "start_time": "2022-03-27T12:13:41.546901",
     "status": "completed"
    },
    "tags": []
   },
   "outputs": [],
   "source": [
    "#hide\n",
    "COL_REGION = 'Country/Region'\n",
    "# Confirmed, Recovered, Deaths\n",
    "df = get_frame('confirmed')\n",
    "# dft_: timeseries, dfc_: today country agg\n",
    "dft_cases = df\n",
    "dft_deaths = get_frame('deaths')\n",
    "dft_recovered = get_frame('recovered')\n",
    "LAST_DATE_I, dt_cols = get_dates(df)"
   ]
  },
  {
   "cell_type": "code",
   "execution_count": 10,
   "id": "absolute-copper",
   "metadata": {
    "execution": {
     "iopub.execute_input": "2022-03-27T12:13:42.087473Z",
     "iopub.status.busy": "2022-03-27T12:13:42.086814Z",
     "iopub.status.idle": "2022-03-27T12:13:42.090472Z",
     "shell.execute_reply": "2022-03-27T12:13:42.090974Z"
    },
    "papermill": {
     "duration": 0.048453,
     "end_time": "2022-03-27T12:13:42.091137",
     "exception": false,
     "start_time": "2022-03-27T12:13:42.042684",
     "status": "completed"
    },
    "tags": []
   },
   "outputs": [],
   "source": [
    "#hide\n",
    "LAST_DATE_I, dt_cols = get_dates(df)\n",
    "dt_today =dt_cols[LAST_DATE_I]\n",
    "# dt_5day = dt_cols[LAST_DATE_I - 5]\n",
    "dt_yday = dt_cols[LAST_DATE_I - 1]"
   ]
  },
  {
   "cell_type": "code",
   "execution_count": 11,
   "id": "restricted-sheriff",
   "metadata": {
    "execution": {
     "iopub.execute_input": "2022-03-27T12:13:42.172779Z",
     "iopub.status.busy": "2022-03-27T12:13:42.171079Z",
     "iopub.status.idle": "2022-03-27T12:13:42.177696Z",
     "shell.execute_reply": "2022-03-27T12:13:42.178203Z"
    },
    "papermill": {
     "duration": 0.050464,
     "end_time": "2022-03-27T12:13:42.178335",
     "exception": false,
     "start_time": "2022-03-27T12:13:42.127871",
     "status": "completed"
    },
    "tags": []
   },
   "outputs": [],
   "source": [
    "#hide\n",
    "dfc_cases = dft_cases.groupby(COL_REGION)[dt_today].sum()\n",
    "dfc_deaths = dft_deaths.groupby(COL_REGION)[dt_today].sum()\n",
    "# dfp_cases = dft_cases.groupby(COL_REGION)[dt_5day].sum()\n",
    "# dfp_deaths = dft_deaths.groupby(COL_REGION)[dt_5day].sum()\n",
    "dfp_cases = dft_cases.groupby(COL_REGION)[dt_yday].sum()\n",
    "dfp_deaths = dft_deaths.groupby(COL_REGION)[dt_yday].sum()"
   ]
  },
  {
   "cell_type": "code",
   "execution_count": 12,
   "id": "deluxe-hepatitis",
   "metadata": {
    "execution": {
     "iopub.execute_input": "2022-03-27T12:13:42.258004Z",
     "iopub.status.busy": "2022-03-27T12:13:42.257387Z",
     "iopub.status.idle": "2022-03-27T12:13:42.262491Z",
     "shell.execute_reply": "2022-03-27T12:13:42.262946Z"
    },
    "papermill": {
     "duration": 0.047007,
     "end_time": "2022-03-27T12:13:42.263081",
     "exception": false,
     "start_time": "2022-03-27T12:13:42.216074",
     "status": "completed"
    },
    "tags": []
   },
   "outputs": [],
   "source": [
    "#hide\n",
    "df_table = (pd.DataFrame(dict(Cases = dfc_cases, Deaths = dfc_deaths, PCases = dfp_cases, PDeaths = dfp_deaths))\n",
    "            .sort_values(by = ['Cases','Deaths'], ascending = [False, False])\n",
    "            .reset_index())"
   ]
  },
  {
   "cell_type": "code",
   "execution_count": 13,
   "id": "educational-chancellor",
   "metadata": {
    "execution": {
     "iopub.execute_input": "2022-03-27T12:13:42.349899Z",
     "iopub.status.busy": "2022-03-27T12:13:42.344807Z",
     "iopub.status.idle": "2022-03-27T12:13:42.358934Z",
     "shell.execute_reply": "2022-03-27T12:13:42.358453Z"
    },
    "papermill": {
     "duration": 0.061749,
     "end_time": "2022-03-27T12:13:42.359055",
     "exception": false,
     "start_time": "2022-03-27T12:13:42.297306",
     "status": "completed"
    },
    "tags": []
   },
   "outputs": [
    {
     "data": {
      "text/html": [
       "<div>\n",
       "<style scoped>\n",
       "    .dataframe tbody tr th:only-of-type {\n",
       "        vertical-align: middle;\n",
       "    }\n",
       "\n",
       "    .dataframe tbody tr th {\n",
       "        vertical-align: top;\n",
       "    }\n",
       "\n",
       "    .dataframe thead th {\n",
       "        text-align: right;\n",
       "    }\n",
       "</style>\n",
       "<table border=\"1\" class=\"dataframe\">\n",
       "  <thead>\n",
       "    <tr style=\"text-align: right;\">\n",
       "      <th></th>\n",
       "      <th>Country/Region</th>\n",
       "      <th>Cases</th>\n",
       "      <th>Deaths</th>\n",
       "      <th>PCases</th>\n",
       "      <th>PDeaths</th>\n",
       "      <th>Cases (+)</th>\n",
       "      <th>Deaths (+)</th>\n",
       "      <th>Fatality Rate</th>\n",
       "      <th>Continent</th>\n",
       "    </tr>\n",
       "  </thead>\n",
       "  <tbody>\n",
       "    <tr>\n",
       "      <th>0</th>\n",
       "      <td>US</td>\n",
       "      <td>79946097</td>\n",
       "      <td>976652</td>\n",
       "      <td>79936777</td>\n",
       "      <td>976505</td>\n",
       "      <td>9320</td>\n",
       "      <td>147</td>\n",
       "      <td>1.22</td>\n",
       "      <td>North America</td>\n",
       "    </tr>\n",
       "    <tr>\n",
       "      <th>1</th>\n",
       "      <td>India</td>\n",
       "      <td>43019453</td>\n",
       "      <td>521004</td>\n",
       "      <td>43018032</td>\n",
       "      <td>520855</td>\n",
       "      <td>1421</td>\n",
       "      <td>149</td>\n",
       "      <td>1.21</td>\n",
       "      <td>Asia</td>\n",
       "    </tr>\n",
       "    <tr>\n",
       "      <th>2</th>\n",
       "      <td>Brazil</td>\n",
       "      <td>29839103</td>\n",
       "      <td>659046</td>\n",
       "      <td>29809769</td>\n",
       "      <td>658855</td>\n",
       "      <td>29334</td>\n",
       "      <td>191</td>\n",
       "      <td>2.21</td>\n",
       "      <td>South America</td>\n",
       "    </tr>\n",
       "    <tr>\n",
       "      <th>3</th>\n",
       "      <td>France</td>\n",
       "      <td>25106739</td>\n",
       "      <td>142664</td>\n",
       "      <td>24967222</td>\n",
       "      <td>142597</td>\n",
       "      <td>139517</td>\n",
       "      <td>67</td>\n",
       "      <td>0.57</td>\n",
       "      <td>Europe</td>\n",
       "    </tr>\n",
       "    <tr>\n",
       "      <th>4</th>\n",
       "      <td>United Kingdom</td>\n",
       "      <td>20848913</td>\n",
       "      <td>165046</td>\n",
       "      <td>20848912</td>\n",
       "      <td>165046</td>\n",
       "      <td>1</td>\n",
       "      <td>0</td>\n",
       "      <td>0.79</td>\n",
       "      <td>Europe</td>\n",
       "    </tr>\n",
       "  </tbody>\n",
       "</table>\n",
       "</div>"
      ],
      "text/plain": [
       "   Country/Region     Cases  Deaths    PCases  PDeaths  Cases (+)  Deaths (+)  \\\n",
       "0              US  79946097  976652  79936777   976505       9320         147   \n",
       "1           India  43019453  521004  43018032   520855       1421         149   \n",
       "2          Brazil  29839103  659046  29809769   658855      29334         191   \n",
       "3          France  25106739  142664  24967222   142597     139517          67   \n",
       "4  United Kingdom  20848913  165046  20848912   165046          1           0   \n",
       "\n",
       "   Fatality Rate      Continent  \n",
       "0           1.22  North America  \n",
       "1           1.21           Asia  \n",
       "2           2.21  South America  \n",
       "3           0.57         Europe  \n",
       "4           0.79         Europe  "
      ]
     },
     "execution_count": 13,
     "metadata": {},
     "output_type": "execute_result"
    }
   ],
   "source": [
    "#hide\n",
    "for c in 'Cases, Deaths'.split(', '):\n",
    "    df_table[f'{c} (+)'] = (df_table[c] - df_table[f'P{c}']).clip(0)\n",
    "    #Clip ça veut dire, les chiffres negatif sont interdit\n",
    "df_table['Fatality Rate'] = (100* df_table['Deaths']/ df_table['Cases']).round(2)\n",
    "df_table['Continent'] = df_table['Country/Region'].map(mapping['map.continent'])\n",
    "df_table.head(5)"
   ]
  },
  {
   "cell_type": "code",
   "execution_count": 14,
   "id": "aboriginal-bulgaria",
   "metadata": {
    "execution": {
     "iopub.execute_input": "2022-03-27T12:13:42.434464Z",
     "iopub.status.busy": "2022-03-27T12:13:42.433835Z",
     "iopub.status.idle": "2022-03-27T12:13:42.436904Z",
     "shell.execute_reply": "2022-03-27T12:13:42.437382Z"
    },
    "papermill": {
     "duration": 0.043491,
     "end_time": "2022-03-27T12:13:42.437509",
     "exception": false,
     "start_time": "2022-03-27T12:13:42.394018",
     "status": "completed"
    },
    "tags": []
   },
   "outputs": [],
   "source": [
    "#hide\n",
    "#delete problematic countries from table\n",
    "df_table = df_table[~df_table['Country/Region'].isin(['Cape Verde', 'Cruise Ship', 'Kosovo'])]"
   ]
  },
  {
   "cell_type": "code",
   "execution_count": 15,
   "id": "fantastic-effect",
   "metadata": {
    "execution": {
     "iopub.execute_input": "2022-03-27T12:13:42.514867Z",
     "iopub.status.busy": "2022-03-27T12:13:42.514019Z",
     "iopub.status.idle": "2022-03-27T12:13:42.536485Z",
     "shell.execute_reply": "2022-03-27T12:13:42.535978Z"
    },
    "papermill": {
     "duration": 0.063543,
     "end_time": "2022-03-27T12:13:42.536604",
     "exception": false,
     "start_time": "2022-03-27T12:13:42.473061",
     "status": "completed"
    },
    "tags": []
   },
   "outputs": [
    {
     "data": {
      "text/html": [
       "<div>\n",
       "<style scoped>\n",
       "    .dataframe tbody tr th:only-of-type {\n",
       "        vertical-align: middle;\n",
       "    }\n",
       "\n",
       "    .dataframe tbody tr th {\n",
       "        vertical-align: top;\n",
       "    }\n",
       "\n",
       "    .dataframe thead th {\n",
       "        text-align: right;\n",
       "    }\n",
       "</style>\n",
       "<table border=\"1\" class=\"dataframe\">\n",
       "  <thead>\n",
       "    <tr style=\"text-align: right;\">\n",
       "      <th></th>\n",
       "      <th>Country/Region</th>\n",
       "      <th>Cases</th>\n",
       "      <th>Deaths</th>\n",
       "      <th>PCases</th>\n",
       "      <th>PDeaths</th>\n",
       "      <th>Cases (+)</th>\n",
       "      <th>Deaths (+)</th>\n",
       "      <th>Fatality Rate</th>\n",
       "      <th>Continent</th>\n",
       "    </tr>\n",
       "  </thead>\n",
       "  <tbody>\n",
       "    <tr>\n",
       "      <th>0</th>\n",
       "      <td>US</td>\n",
       "      <td>79946097</td>\n",
       "      <td>976652</td>\n",
       "      <td>79936777</td>\n",
       "      <td>976505</td>\n",
       "      <td>9320</td>\n",
       "      <td>147</td>\n",
       "      <td>1.2</td>\n",
       "      <td>North America</td>\n",
       "    </tr>\n",
       "    <tr>\n",
       "      <th>1</th>\n",
       "      <td>India</td>\n",
       "      <td>43019453</td>\n",
       "      <td>521004</td>\n",
       "      <td>43018032</td>\n",
       "      <td>520855</td>\n",
       "      <td>1421</td>\n",
       "      <td>149</td>\n",
       "      <td>1.2</td>\n",
       "      <td>Asia</td>\n",
       "    </tr>\n",
       "    <tr>\n",
       "      <th>2</th>\n",
       "      <td>Brazil</td>\n",
       "      <td>29839103</td>\n",
       "      <td>659046</td>\n",
       "      <td>29809769</td>\n",
       "      <td>658855</td>\n",
       "      <td>29334</td>\n",
       "      <td>191</td>\n",
       "      <td>2.2</td>\n",
       "      <td>South America</td>\n",
       "    </tr>\n",
       "    <tr>\n",
       "      <th>3</th>\n",
       "      <td>France</td>\n",
       "      <td>25106739</td>\n",
       "      <td>142664</td>\n",
       "      <td>24967222</td>\n",
       "      <td>142597</td>\n",
       "      <td>139517</td>\n",
       "      <td>67</td>\n",
       "      <td>0.6</td>\n",
       "      <td>Europe</td>\n",
       "    </tr>\n",
       "    <tr>\n",
       "      <th>4</th>\n",
       "      <td>United Kingdom</td>\n",
       "      <td>20848913</td>\n",
       "      <td>165046</td>\n",
       "      <td>20848912</td>\n",
       "      <td>165046</td>\n",
       "      <td>1</td>\n",
       "      <td>0</td>\n",
       "      <td>0.8</td>\n",
       "      <td>Europe</td>\n",
       "    </tr>\n",
       "  </tbody>\n",
       "</table>\n",
       "</div>"
      ],
      "text/plain": [
       "   Country/Region     Cases  Deaths    PCases  PDeaths  Cases (+)  Deaths (+)  \\\n",
       "0              US  79946097  976652  79936777   976505       9320         147   \n",
       "1           India  43019453  521004  43018032   520855       1421         149   \n",
       "2          Brazil  29839103  659046  29809769   658855      29334         191   \n",
       "3          France  25106739  142664  24967222   142597     139517          67   \n",
       "4  United Kingdom  20848913  165046  20848912   165046          1           0   \n",
       "\n",
       "   Fatality Rate      Continent  \n",
       "0            1.2  North America  \n",
       "1            1.2           Asia  \n",
       "2            2.2  South America  \n",
       "3            0.6         Europe  \n",
       "4            0.8         Europe  "
      ]
     },
     "execution_count": 15,
     "metadata": {},
     "output_type": "execute_result"
    }
   ],
   "source": [
    "#hide\n",
    "df_table = (pd.DataFrame(dict(Cases=dfc_cases, Deaths=dfc_deaths, PCases=dfp_cases, PDeaths=dfp_deaths))\n",
    "             .sort_values(by=['Cases', 'Deaths'], ascending=[False, False])\n",
    "             .reset_index())\n",
    "df_table.rename(columns={'index': 'Country/Region'}, inplace=True)\n",
    "for c in 'Cases, Deaths'.split(', '):\n",
    "    df_table[f'{c} (+)'] = (df_table[c] - df_table[f'P{c}']).clip(0)  # DATA BUG\n",
    "df_table['Fatality Rate'] = (100 * df_table['Deaths'] / df_table['Cases']).round(1)\n",
    "df_table['Continent'] = df_table['Country/Region'].map(mapping['map.continent'])\n",
    "df_table.head(5)"
   ]
  },
  {
   "cell_type": "code",
   "execution_count": 16,
   "id": "fewer-occasion",
   "metadata": {
    "execution": {
     "iopub.execute_input": "2022-03-27T12:13:42.614969Z",
     "iopub.status.busy": "2022-03-27T12:13:42.614301Z",
     "iopub.status.idle": "2022-03-27T12:13:42.617421Z",
     "shell.execute_reply": "2022-03-27T12:13:42.616739Z"
    },
    "papermill": {
     "duration": 0.044652,
     "end_time": "2022-03-27T12:13:42.617562",
     "exception": false,
     "start_time": "2022-03-27T12:13:42.572910",
     "status": "completed"
    },
    "tags": []
   },
   "outputs": [],
   "source": [
    "#hide\n",
    "#delete problematic countries from table\n",
    "df_table = df_table[~df_table['Country/Region'].isin(['Cape Verde', 'Cruise Ship', 'Kosovo'])]"
   ]
  },
  {
   "cell_type": "code",
   "execution_count": 17,
   "id": "related-center",
   "metadata": {
    "execution": {
     "iopub.execute_input": "2022-03-27T12:13:42.712108Z",
     "iopub.status.busy": "2022-03-27T12:13:42.711415Z",
     "iopub.status.idle": "2022-03-27T12:13:42.713293Z",
     "shell.execute_reply": "2022-03-27T12:13:42.713800Z"
    },
    "papermill": {
     "duration": 0.058629,
     "end_time": "2022-03-27T12:13:42.713943",
     "exception": false,
     "start_time": "2022-03-27T12:13:42.655314",
     "status": "completed"
    },
    "tags": []
   },
   "outputs": [],
   "source": [
    "#hide\n",
    "metrics = [df_table.columns[index] for index in [1,2,5,6]]\n",
    "# s_china = df_table[df_table['Country/Region'].eq('China')][metrics].sum().add_prefix('China ')\n",
    "s_us = df_table[df_table['Country/Region'].eq('US')][metrics].sum().add_prefix('US ')\n",
    "s_eu = df_table[df_table['Continent'].eq('Europe')][metrics].sum().add_prefix('EU ')\n",
    "s_ind = df_table[df_table['Country/Region'].eq('India')][metrics].sum().add_prefix('India ')\n",
    "summary = {'updated': pd.to_datetime(dt_today), 'since': pd.to_datetime(dt_yday)}\n",
    "summary = {'updated': pd.to_datetime(dt_today), 'since': pd.to_datetime(dt_yday)}\n",
    "summary = {**summary, **df_table[metrics].sum(), **s_ind, **s_us, **s_eu}"
   ]
  },
  {
   "cell_type": "code",
   "execution_count": 18,
   "id": "engaging-syndrome",
   "metadata": {
    "execution": {
     "iopub.execute_input": "2022-03-27T12:13:42.795578Z",
     "iopub.status.busy": "2022-03-27T12:13:42.794920Z",
     "iopub.status.idle": "2022-03-27T12:13:42.811965Z",
     "shell.execute_reply": "2022-03-27T12:13:42.812483Z"
    },
    "papermill": {
     "duration": 0.061424,
     "end_time": "2022-03-27T12:13:42.812650",
     "exception": false,
     "start_time": "2022-03-27T12:13:42.751226",
     "status": "completed"
    },
    "tags": []
   },
   "outputs": [],
   "source": [
    "#hide\n",
    "dft_ct_new_cases = dft_cases.groupby(COL_REGION)[dt_cols].sum().diff(axis=1).fillna(0).astype(int)"
   ]
  },
  {
   "cell_type": "code",
   "execution_count": 19,
   "id": "neutral-assignment",
   "metadata": {
    "execution": {
     "iopub.execute_input": "2022-03-27T12:13:42.893678Z",
     "iopub.status.busy": "2022-03-27T12:13:42.893050Z",
     "iopub.status.idle": "2022-03-27T12:13:42.897286Z",
     "shell.execute_reply": "2022-03-27T12:13:42.896736Z"
    },
    "papermill": {
     "duration": 0.048201,
     "end_time": "2022-03-27T12:13:42.897414",
     "exception": false,
     "start_time": "2022-03-27T12:13:42.849213",
     "status": "completed"
    },
    "tags": []
   },
   "outputs": [],
   "source": [
    "#hide\n",
    "everydaycases = dft_ct_new_cases.cumsum(axis=1)"
   ]
  },
  {
   "cell_type": "code",
   "execution_count": 20,
   "id": "parliamentary-calgary",
   "metadata": {
    "execution": {
     "iopub.execute_input": "2022-03-27T12:13:42.988989Z",
     "iopub.status.busy": "2022-03-27T12:13:42.985796Z",
     "iopub.status.idle": "2022-03-27T12:13:43.638922Z",
     "shell.execute_reply": "2022-03-27T12:13:43.639501Z"
    },
    "papermill": {
     "duration": 0.69754,
     "end_time": "2022-03-27T12:13:43.639689",
     "exception": false,
     "start_time": "2022-03-27T12:13:42.942149",
     "status": "completed"
    },
    "tags": []
   },
   "outputs": [],
   "source": [
    "#hide\n",
    "import pandas as pd\n",
    "import matplotlib.pyplot as plt\n",
    "import matplotlib.ticker as ticker\n",
    "import matplotlib.animation as animation\n",
    "from IPython.display import HTML"
   ]
  },
  {
   "cell_type": "code",
   "execution_count": 21,
   "id": "lasting-extraction",
   "metadata": {
    "execution": {
     "iopub.execute_input": "2022-03-27T12:13:43.717795Z",
     "iopub.status.busy": "2022-03-27T12:13:43.717111Z",
     "iopub.status.idle": "2022-03-27T12:13:43.723567Z",
     "shell.execute_reply": "2022-03-27T12:13:43.724102Z"
    },
    "papermill": {
     "duration": 0.048603,
     "end_time": "2022-03-27T12:13:43.724301",
     "exception": false,
     "start_time": "2022-03-27T12:13:43.675698",
     "status": "completed"
    },
    "tags": []
   },
   "outputs": [],
   "source": [
    "#hide\n",
    "t = everydaycases.stack()"
   ]
  },
  {
   "cell_type": "code",
   "execution_count": 22,
   "id": "premier-sleeve",
   "metadata": {
    "execution": {
     "iopub.execute_input": "2022-03-27T12:13:43.803039Z",
     "iopub.status.busy": "2022-03-27T12:13:43.802408Z",
     "iopub.status.idle": "2022-03-27T12:13:43.814521Z",
     "shell.execute_reply": "2022-03-27T12:13:43.813956Z"
    },
    "papermill": {
     "duration": 0.053209,
     "end_time": "2022-03-27T12:13:43.814655",
     "exception": false,
     "start_time": "2022-03-27T12:13:43.761446",
     "status": "completed"
    },
    "tags": []
   },
   "outputs": [],
   "source": [
    "#hide\n",
    "g = t.reset_index(['Country/Region'])"
   ]
  },
  {
   "cell_type": "code",
   "execution_count": 23,
   "id": "distributed-pittsburgh",
   "metadata": {
    "execution": {
     "iopub.execute_input": "2022-03-27T12:13:43.888625Z",
     "iopub.status.busy": "2022-03-27T12:13:43.887991Z",
     "iopub.status.idle": "2022-03-27T12:13:43.890731Z",
     "shell.execute_reply": "2022-03-27T12:13:43.889952Z"
    },
    "papermill": {
     "duration": 0.040991,
     "end_time": "2022-03-27T12:13:43.890846",
     "exception": false,
     "start_time": "2022-03-27T12:13:43.849855",
     "status": "completed"
    },
    "tags": []
   },
   "outputs": [],
   "source": [
    "#hide\n",
    "g.index.name = 'date'"
   ]
  },
  {
   "cell_type": "code",
   "execution_count": 24,
   "id": "naked-donor",
   "metadata": {
    "execution": {
     "iopub.execute_input": "2022-03-27T12:13:43.973369Z",
     "iopub.status.busy": "2022-03-27T12:13:43.972747Z",
     "iopub.status.idle": "2022-03-27T12:13:43.976672Z",
     "shell.execute_reply": "2022-03-27T12:13:43.977155Z"
    },
    "papermill": {
     "duration": 0.04523,
     "end_time": "2022-03-27T12:13:43.977299",
     "exception": false,
     "start_time": "2022-03-27T12:13:43.932069",
     "status": "completed"
    },
    "tags": []
   },
   "outputs": [],
   "source": [
    "# #hide\n",
    "# g = g.reset_index(['date'])"
   ]
  },
  {
   "cell_type": "code",
   "execution_count": 25,
   "id": "incomplete-mustang",
   "metadata": {
    "execution": {
     "iopub.execute_input": "2022-03-27T12:13:44.062330Z",
     "iopub.status.busy": "2022-03-27T12:13:44.061674Z",
     "iopub.status.idle": "2022-03-27T12:13:44.064368Z",
     "shell.execute_reply": "2022-03-27T12:13:44.063809Z"
    },
    "papermill": {
     "duration": 0.047321,
     "end_time": "2022-03-27T12:13:44.064499",
     "exception": false,
     "start_time": "2022-03-27T12:13:44.017178",
     "status": "completed"
    },
    "tags": []
   },
   "outputs": [],
   "source": [
    "#hide\n",
    "# g.head()"
   ]
  },
  {
   "cell_type": "code",
   "execution_count": 26,
   "id": "specific-kruger",
   "metadata": {
    "execution": {
     "iopub.execute_input": "2022-03-27T12:13:44.148288Z",
     "iopub.status.busy": "2022-03-27T12:13:44.147612Z",
     "iopub.status.idle": "2022-03-27T12:13:44.149596Z",
     "shell.execute_reply": "2022-03-27T12:13:44.150108Z"
    },
    "papermill": {
     "duration": 0.045865,
     "end_time": "2022-03-27T12:13:44.150263",
     "exception": false,
     "start_time": "2022-03-27T12:13:44.104398",
     "status": "completed"
    },
    "tags": []
   },
   "outputs": [],
   "source": [
    "#hide\n",
    "# g.columns = ['date','country','cases']"
   ]
  },
  {
   "cell_type": "code",
   "execution_count": 27,
   "id": "tender-conversion",
   "metadata": {
    "execution": {
     "iopub.execute_input": "2022-03-27T12:13:44.234176Z",
     "iopub.status.busy": "2022-03-27T12:13:44.233482Z",
     "iopub.status.idle": "2022-03-27T12:13:44.239903Z",
     "shell.execute_reply": "2022-03-27T12:13:44.239214Z"
    },
    "papermill": {
     "duration": 0.050845,
     "end_time": "2022-03-27T12:13:44.240036",
     "exception": false,
     "start_time": "2022-03-27T12:13:44.189191",
     "status": "completed"
    },
    "tags": []
   },
   "outputs": [],
   "source": [
    "#hide\n",
    "# g['continent'] = g.country"
   ]
  },
  {
   "cell_type": "code",
   "execution_count": 28,
   "id": "substantial-wilderness",
   "metadata": {
    "execution": {
     "iopub.execute_input": "2022-03-27T12:13:44.334963Z",
     "iopub.status.busy": "2022-03-27T12:13:44.334291Z",
     "iopub.status.idle": "2022-03-27T12:13:44.339000Z",
     "shell.execute_reply": "2022-03-27T12:13:44.339549Z"
    },
    "papermill": {
     "duration": 0.052547,
     "end_time": "2022-03-27T12:13:44.339713",
     "exception": false,
     "start_time": "2022-03-27T12:13:44.287166",
     "status": "completed"
    },
    "tags": []
   },
   "outputs": [],
   "source": [
    "#hide\n",
    "# cols = list(g.columns.values)"
   ]
  },
  {
   "cell_type": "code",
   "execution_count": 29,
   "id": "solved-farming",
   "metadata": {
    "execution": {
     "iopub.execute_input": "2022-03-27T12:13:44.421653Z",
     "iopub.status.busy": "2022-03-27T12:13:44.420987Z",
     "iopub.status.idle": "2022-03-27T12:13:44.423629Z",
     "shell.execute_reply": "2022-03-27T12:13:44.423031Z"
    },
    "papermill": {
     "duration": 0.045102,
     "end_time": "2022-03-27T12:13:44.423763",
     "exception": false,
     "start_time": "2022-03-27T12:13:44.378661",
     "status": "completed"
    },
    "tags": []
   },
   "outputs": [],
   "source": [
    "#hide\n",
    "# cols.insert(0, cols.pop())"
   ]
  },
  {
   "cell_type": "code",
   "execution_count": 30,
   "id": "executed-adoption",
   "metadata": {
    "execution": {
     "iopub.execute_input": "2022-03-27T12:13:44.505196Z",
     "iopub.status.busy": "2022-03-27T12:13:44.504551Z",
     "iopub.status.idle": "2022-03-27T12:13:44.506650Z",
     "shell.execute_reply": "2022-03-27T12:13:44.507347Z"
    },
    "papermill": {
     "duration": 0.045005,
     "end_time": "2022-03-27T12:13:44.507516",
     "exception": false,
     "start_time": "2022-03-27T12:13:44.462511",
     "status": "completed"
    },
    "tags": []
   },
   "outputs": [],
   "source": [
    "#hide\n",
    "# g = g[cols]"
   ]
  },
  {
   "cell_type": "code",
   "execution_count": 31,
   "id": "subject-dublin",
   "metadata": {
    "execution": {
     "iopub.execute_input": "2022-03-27T12:13:44.587012Z",
     "iopub.status.busy": "2022-03-27T12:13:44.586345Z",
     "iopub.status.idle": "2022-03-27T12:13:44.588532Z",
     "shell.execute_reply": "2022-03-27T12:13:44.589095Z"
    },
    "papermill": {
     "duration": 0.044487,
     "end_time": "2022-03-27T12:13:44.589240",
     "exception": false,
     "start_time": "2022-03-27T12:13:44.544753",
     "status": "completed"
    },
    "tags": []
   },
   "outputs": [],
   "source": [
    "#hide\n",
    "# g['continent'] = g['continent'].map(mapping['map.continent'])"
   ]
  },
  {
   "cell_type": "code",
   "execution_count": 32,
   "id": "freelance-scout",
   "metadata": {
    "execution": {
     "iopub.execute_input": "2022-03-27T12:13:44.667563Z",
     "iopub.status.busy": "2022-03-27T12:13:44.666818Z",
     "iopub.status.idle": "2022-03-27T12:13:44.670319Z",
     "shell.execute_reply": "2022-03-27T12:13:44.670818Z"
    },
    "papermill": {
     "duration": 0.045348,
     "end_time": "2022-03-27T12:13:44.670963",
     "exception": false,
     "start_time": "2022-03-27T12:13:44.625615",
     "status": "completed"
    },
    "tags": []
   },
   "outputs": [],
   "source": [
    "#hide\n",
    "# g.head()"
   ]
  },
  {
   "cell_type": "code",
   "execution_count": 33,
   "id": "limited-engine",
   "metadata": {
    "execution": {
     "iopub.execute_input": "2022-03-27T12:13:44.757273Z",
     "iopub.status.busy": "2022-03-27T12:13:44.756616Z",
     "iopub.status.idle": "2022-03-27T12:13:44.758472Z",
     "shell.execute_reply": "2022-03-27T12:13:44.759016Z"
    },
    "papermill": {
     "duration": 0.046991,
     "end_time": "2022-03-27T12:13:44.759616",
     "exception": false,
     "start_time": "2022-03-27T12:13:44.712625",
     "status": "completed"
    },
    "tags": []
   },
   "outputs": [],
   "source": [
    "# hide\n",
    "# g['date'] = g['date'].astype('datetime64[ns]')"
   ]
  },
  {
   "cell_type": "code",
   "execution_count": 34,
   "id": "sophisticated-supervisor",
   "metadata": {
    "execution": {
     "iopub.execute_input": "2022-03-27T12:13:44.839700Z",
     "iopub.status.busy": "2022-03-27T12:13:44.839043Z",
     "iopub.status.idle": "2022-03-27T12:13:44.842001Z",
     "shell.execute_reply": "2022-03-27T12:13:44.841533Z"
    },
    "papermill": {
     "duration": 0.043463,
     "end_time": "2022-03-27T12:13:44.842116",
     "exception": false,
     "start_time": "2022-03-27T12:13:44.798653",
     "status": "completed"
    },
    "tags": []
   },
   "outputs": [],
   "source": [
    "#hide\n",
    "# g['date'] = g.date.dt.dayofyear"
   ]
  },
  {
   "cell_type": "code",
   "execution_count": 35,
   "id": "inside-dubai",
   "metadata": {
    "execution": {
     "iopub.execute_input": "2022-03-27T12:13:44.916280Z",
     "iopub.status.busy": "2022-03-27T12:13:44.915654Z",
     "iopub.status.idle": "2022-03-27T12:13:44.918162Z",
     "shell.execute_reply": "2022-03-27T12:13:44.917560Z"
    },
    "papermill": {
     "duration": 0.04079,
     "end_time": "2022-03-27T12:13:44.918301",
     "exception": false,
     "start_time": "2022-03-27T12:13:44.877511",
     "status": "completed"
    },
    "tags": []
   },
   "outputs": [],
   "source": [
    "#hide\n",
    "# g = g.rename(columns= {'continent':'group','country':'name','cases':'value'})"
   ]
  },
  {
   "cell_type": "code",
   "execution_count": 36,
   "id": "fleet-motorcycle",
   "metadata": {
    "execution": {
     "iopub.execute_input": "2022-03-27T12:13:44.997899Z",
     "iopub.status.busy": "2022-03-27T12:13:44.997237Z",
     "iopub.status.idle": "2022-03-27T12:13:45.001484Z",
     "shell.execute_reply": "2022-03-27T12:13:45.000888Z"
    },
    "papermill": {
     "duration": 0.046166,
     "end_time": "2022-03-27T12:13:45.001625",
     "exception": false,
     "start_time": "2022-03-27T12:13:44.955459",
     "status": "completed"
    },
    "tags": []
   },
   "outputs": [],
   "source": [
    "#hide\n",
    "# cols = ['name','group','day','value']"
   ]
  },
  {
   "cell_type": "code",
   "execution_count": 37,
   "id": "continued-sleeping",
   "metadata": {
    "execution": {
     "iopub.execute_input": "2022-03-27T12:13:45.080941Z",
     "iopub.status.busy": "2022-03-27T12:13:45.080238Z",
     "iopub.status.idle": "2022-03-27T12:13:45.084114Z",
     "shell.execute_reply": "2022-03-27T12:13:45.084643Z"
    },
    "papermill": {
     "duration": 0.046292,
     "end_time": "2022-03-27T12:13:45.084784",
     "exception": false,
     "start_time": "2022-03-27T12:13:45.038492",
     "status": "completed"
    },
    "tags": []
   },
   "outputs": [],
   "source": [
    "#hide\n",
    "# g.rename(columns= {'date':'day'},inplace = True)"
   ]
  },
  {
   "cell_type": "code",
   "execution_count": 38,
   "id": "major-fight",
   "metadata": {
    "execution": {
     "iopub.execute_input": "2022-03-27T12:13:45.168202Z",
     "iopub.status.busy": "2022-03-27T12:13:45.167491Z",
     "iopub.status.idle": "2022-03-27T12:13:45.170093Z",
     "shell.execute_reply": "2022-03-27T12:13:45.170582Z"
    },
    "papermill": {
     "duration": 0.046697,
     "end_time": "2022-03-27T12:13:45.170744",
     "exception": false,
     "start_time": "2022-03-27T12:13:45.124047",
     "status": "completed"
    },
    "tags": []
   },
   "outputs": [],
   "source": [
    "#hide\n",
    "# g = g[cols]"
   ]
  },
  {
   "cell_type": "code",
   "execution_count": 39,
   "id": "structured-mobile",
   "metadata": {
    "execution": {
     "iopub.execute_input": "2022-03-27T12:13:45.254512Z",
     "iopub.status.busy": "2022-03-27T12:13:45.253889Z",
     "iopub.status.idle": "2022-03-27T12:13:45.256693Z",
     "shell.execute_reply": "2022-03-27T12:13:45.256142Z"
    },
    "papermill": {
     "duration": 0.04249,
     "end_time": "2022-03-27T12:13:45.256842",
     "exception": false,
     "start_time": "2022-03-27T12:13:45.214352",
     "status": "completed"
    },
    "tags": []
   },
   "outputs": [],
   "source": [
    "# #hide\n",
    "# g = g[g.group.notna()]"
   ]
  },
  {
   "cell_type": "code",
   "execution_count": 40,
   "id": "determined-closing",
   "metadata": {
    "execution": {
     "iopub.execute_input": "2022-03-27T12:13:45.333916Z",
     "iopub.status.busy": "2022-03-27T12:13:45.333295Z",
     "iopub.status.idle": "2022-03-27T12:13:45.335423Z",
     "shell.execute_reply": "2022-03-27T12:13:45.335932Z"
    },
    "papermill": {
     "duration": 0.04142,
     "end_time": "2022-03-27T12:13:45.336059",
     "exception": false,
     "start_time": "2022-03-27T12:13:45.294639",
     "status": "completed"
    },
    "tags": []
   },
   "outputs": [],
   "source": [
    "# #hide\n",
    "# colors = dict(zip(\n",
    "#     [\"Oceania\", \"Europe\", \"Asia\", \"South America\", \"Middle East\", \"North America\", \"Africa\"],\n",
    "#     [\"#adb0ff\", \"#ffb3ff\", \"#90d595\", \"#e48381\", \"#aafbff\", \"#f7bb5f\", \"#eafb50\"]\n",
    "# ))\n",
    "# group_lk = g.set_index('name')['group'].to_dict()"
   ]
  },
  {
   "cell_type": "code",
   "execution_count": null,
   "id": "gross-drinking",
   "metadata": {
    "papermill": {
     "duration": 0.035977,
     "end_time": "2022-03-27T12:13:45.406687",
     "exception": false,
     "start_time": "2022-03-27T12:13:45.370710",
     "status": "completed"
    },
    "tags": []
   },
   "outputs": [],
   "source": []
  },
  {
   "cell_type": "code",
   "execution_count": 41,
   "id": "subject-macintosh",
   "metadata": {
    "execution": {
     "iopub.execute_input": "2022-03-27T12:13:45.481394Z",
     "iopub.status.busy": "2022-03-27T12:13:45.480798Z",
     "iopub.status.idle": "2022-03-27T12:13:45.483480Z",
     "shell.execute_reply": "2022-03-27T12:13:45.482857Z"
    },
    "papermill": {
     "duration": 0.041488,
     "end_time": "2022-03-27T12:13:45.483594",
     "exception": false,
     "start_time": "2022-03-27T12:13:45.442106",
     "status": "completed"
    },
    "tags": []
   },
   "outputs": [],
   "source": [
    "# #hide\n",
    "# fig, ax = plt.subplots(figsize=(15, 8))\n",
    "\n",
    "# def draw_barchart(current_day):\n",
    "#     dff = g[g['day'].eq(current_day)].sort_values(by='value', ascending=True).tail(10)\n",
    "#     ax.clear()\n",
    "#     ax.barh(dff['name'], dff['value'], color=[colors[group_lk[x]] for x in dff['name']])\n",
    "#     dx = dff['value'].max() / 200\n",
    "    \n",
    "#     for i, (value, name) in enumerate(zip(dff['value'], dff['name'])):\n",
    "#         ax.text(value-dx, i,     name,           size=14, weight=600, ha='right', va='bottom')\n",
    "#         ax.text(value-dx, i-.25, group_lk[name], size=10, color='#444444', ha='right', va='baseline')\n",
    "#         ax.text(value+dx, i,     f'{value:,.0f}',  size=14, ha='left',  va='center')\n",
    "#     ax.text(1, 0.4, current_day, transform=ax.transAxes, color='#777777', size=46, ha='right', weight=800)\n",
    "#     ax.text(0, 1.06, 'Population (thousands)', transform=ax.transAxes, size=12, color='#777777')\n",
    "#     ax.xaxis.set_major_formatter(ticker.StrMethodFormatter('{x:,.0f}'))\n",
    "#     ax.xaxis.set_ticks_position('top')\n",
    "#     ax.tick_params(axis='x', colors='#777777', labelsize=12)\n",
    "#     ax.set_yticks([])\n",
    "#     ax.margins(0, 0.01)\n",
    "#     ax.grid(which='major', axis='x', linestyle='-')\n",
    "#     ax.set_axisbelow(True)\n",
    "    \n",
    "#     ax.text(0, 1.15, 'Coronavirus',\n",
    "#             transform=ax.transAxes, size=24, weight=600, ha='left', va='top')\n",
    "# #     ax.text(1, 0, 'by @pratapvardhan; credit @jburnmurdoch', transform=ax.transAxes, color='#777777', ha='right',\n",
    "# #             bbox=dict(facecolor='white', alpha=0.8, edgecolor='white'))\n",
    "#     plt.box(False)"
   ]
  },
  {
   "cell_type": "code",
   "execution_count": 42,
   "id": "sexual-wages",
   "metadata": {
    "execution": {
     "iopub.execute_input": "2022-03-27T12:13:45.560334Z",
     "iopub.status.busy": "2022-03-27T12:13:45.559601Z",
     "iopub.status.idle": "2022-03-27T12:13:45.563371Z",
     "shell.execute_reply": "2022-03-27T12:13:45.563908Z"
    },
    "papermill": {
     "duration": 0.04359,
     "end_time": "2022-03-27T12:13:45.564054",
     "exception": false,
     "start_time": "2022-03-27T12:13:45.520464",
     "status": "completed"
    },
    "tags": []
   },
   "outputs": [],
   "source": [
    "# #hide_input\n",
    "# fig, ax = plt.subplots(figsize=(15, 8))\n",
    "# animator = animation.FuncAnimation(fig, draw_barchart, frames=range(g.day.values.min(), g.day.values.max()))\n",
    "# HTML(animator.to_jshtml())\n",
    "# # or use animator.to_html5_video() or animator.save() "
   ]
  },
  {
   "cell_type": "code",
   "execution_count": null,
   "id": "australian-container",
   "metadata": {
    "papermill": {
     "duration": 0.036546,
     "end_time": "2022-03-27T12:13:45.639910",
     "exception": false,
     "start_time": "2022-03-27T12:13:45.603364",
     "status": "completed"
    },
    "tags": []
   },
   "outputs": [],
   "source": []
  },
  {
   "cell_type": "code",
   "execution_count": null,
   "id": "mediterranean-pontiac",
   "metadata": {
    "papermill": {
     "duration": 0.039376,
     "end_time": "2022-03-27T12:13:45.723307",
     "exception": false,
     "start_time": "2022-03-27T12:13:45.683931",
     "status": "completed"
    },
    "tags": []
   },
   "outputs": [],
   "source": []
  },
  {
   "cell_type": "code",
   "execution_count": null,
   "id": "aging-legislature",
   "metadata": {
    "papermill": {
     "duration": 0.04003,
     "end_time": "2022-03-27T12:13:45.803796",
     "exception": false,
     "start_time": "2022-03-27T12:13:45.763766",
     "status": "completed"
    },
    "tags": []
   },
   "outputs": [],
   "source": []
  }
 ],
 "metadata": {
  "kernelspec": {
   "display_name": "Python 3",
   "language": "python",
   "name": "python3"
  },
  "language_info": {
   "codemirror_mode": {
    "name": "ipython",
    "version": 3
   },
   "file_extension": ".py",
   "mimetype": "text/x-python",
   "name": "python",
   "nbconvert_exporter": "python",
   "pygments_lexer": "ipython3",
   "version": "3.6.15"
  },
  "papermill": {
   "duration": 7.048804,
   "end_time": "2022-03-27T12:13:46.162446",
   "environment_variables": {},
   "exception": null,
   "input_path": "2020-03-21-covid19exp.ipynb",
   "output_path": "2020-03-21-covid19exp.ipynb",
   "parameters": {},
   "start_time": "2022-03-27T12:13:39.113642",
   "version": "2.0.0"
  }
 },
 "nbformat": 4,
 "nbformat_minor": 5
}