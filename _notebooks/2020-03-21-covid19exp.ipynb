{
 "cells": [
  {
   "cell_type": "markdown",
   "id": "muslim-click",
   "metadata": {
    "papermill": {
     "duration": 0.035005,
     "end_time": "2022-09-24T00:54:01.287114",
     "exception": false,
     "start_time": "2022-09-24T00:54:01.252109",
     "status": "completed"
    },
    "tags": []
   },
   "source": [
    "# COVID-19 Case Race\n",
    "> A race chart to see rising cases around the world\n",
    "\n",
    "- author: Hargun Oberoi\n",
    "- image: images/covid-overview.png\n",
    "- hide: false\n",
    "- badges: false"
   ]
  },
  {
   "cell_type": "code",
   "execution_count": 1,
   "id": "proof-material",
   "metadata": {
    "execution": {
     "iopub.execute_input": "2022-09-24T00:54:01.357888Z",
     "iopub.status.busy": "2022-09-24T00:54:01.357297Z",
     "iopub.status.idle": "2022-09-24T00:54:01.690549Z",
     "shell.execute_reply": "2022-09-24T00:54:01.690029Z"
    },
    "papermill": {
     "duration": 0.372689,
     "end_time": "2022-09-24T00:54:01.690682",
     "exception": false,
     "start_time": "2022-09-24T00:54:01.317993",
     "status": "completed"
    },
    "tags": []
   },
   "outputs": [],
   "source": [
    "#hide\n",
    "import numpy as np\n",
    "import pandas as pd\n",
    "from jinja2 import Template\n",
    "from IPython.display import HTML"
   ]
  },
  {
   "cell_type": "code",
   "execution_count": 2,
   "id": "developed-terminology",
   "metadata": {
    "execution": {
     "iopub.execute_input": "2022-09-24T00:54:01.755367Z",
     "iopub.status.busy": "2022-09-24T00:54:01.754790Z",
     "iopub.status.idle": "2022-09-24T00:54:01.757076Z",
     "shell.execute_reply": "2022-09-24T00:54:01.757526Z"
    },
    "papermill": {
     "duration": 0.03705,
     "end_time": "2022-09-24T00:54:01.757647",
     "exception": false,
     "start_time": "2022-09-24T00:54:01.720597",
     "status": "completed"
    },
    "tags": []
   },
   "outputs": [],
   "source": [
    "#hide\n",
    "\n",
    "# FETCH\n",
    "base_url = 'https://raw.githubusercontent.com/pratapvardhan/notebooks/master/covid19/'\n",
    "paths = {\n",
    "    'mapping': base_url + 'mapping_countries.csv',\n",
    "    'overview': base_url + 'overview.tpl'\n",
    "}"
   ]
  },
  {
   "cell_type": "code",
   "execution_count": 3,
   "id": "dynamic-saver",
   "metadata": {
    "execution": {
     "iopub.execute_input": "2022-09-24T00:54:01.826776Z",
     "iopub.status.busy": "2022-09-24T00:54:01.826138Z",
     "iopub.status.idle": "2022-09-24T00:54:01.828775Z",
     "shell.execute_reply": "2022-09-24T00:54:01.829213Z"
    },
    "papermill": {
     "duration": 0.041971,
     "end_time": "2022-09-24T00:54:01.829338",
     "exception": false,
     "start_time": "2022-09-24T00:54:01.787367",
     "status": "completed"
    },
    "tags": []
   },
   "outputs": [
    {
     "data": {
      "text/plain": [
       "'https://raw.githubusercontent.com/pratapvardhan/notebooks/master/covid19/mapping_countries.csv'"
      ]
     },
     "execution_count": 3,
     "metadata": {},
     "output_type": "execute_result"
    }
   ],
   "source": [
    "#hide\n",
    "paths['mapping']"
   ]
  },
  {
   "cell_type": "code",
   "execution_count": 4,
   "id": "urban-software",
   "metadata": {
    "execution": {
     "iopub.execute_input": "2022-09-24T00:54:01.895007Z",
     "iopub.status.busy": "2022-09-24T00:54:01.894410Z",
     "iopub.status.idle": "2022-09-24T00:54:01.896445Z",
     "shell.execute_reply": "2022-09-24T00:54:01.897092Z"
    },
    "papermill": {
     "duration": 0.037685,
     "end_time": "2022-09-24T00:54:01.897272",
     "exception": false,
     "start_time": "2022-09-24T00:54:01.859587",
     "status": "completed"
    },
    "tags": []
   },
   "outputs": [],
   "source": [
    "#hide\n",
    "def get_mappings(url):\n",
    "    df = pd.read_csv(url)\n",
    "    return {\n",
    "        'df': df,\n",
    "        'replace.country': dict(df.dropna(subset=['Name']).set_index('Country')['Name']),\n",
    "        'map.continent': dict(df.set_index('Name')['Continent'])\n",
    "    }"
   ]
  },
  {
   "cell_type": "code",
   "execution_count": 5,
   "id": "intimate-machinery",
   "metadata": {
    "execution": {
     "iopub.execute_input": "2022-09-24T00:54:01.970960Z",
     "iopub.status.busy": "2022-09-24T00:54:01.970265Z",
     "iopub.status.idle": "2022-09-24T00:54:01.997321Z",
     "shell.execute_reply": "2022-09-24T00:54:01.997854Z"
    },
    "papermill": {
     "duration": 0.065083,
     "end_time": "2022-09-24T00:54:01.997991",
     "exception": false,
     "start_time": "2022-09-24T00:54:01.932908",
     "status": "completed"
    },
    "tags": []
   },
   "outputs": [],
   "source": [
    "#hide\n",
    "mapping = get_mappings(paths['mapping'])"
   ]
  },
  {
   "cell_type": "code",
   "execution_count": 6,
   "id": "certified-tactics",
   "metadata": {
    "execution": {
     "iopub.execute_input": "2022-09-24T00:54:02.069892Z",
     "iopub.status.busy": "2022-09-24T00:54:02.069270Z",
     "iopub.status.idle": "2022-09-24T00:54:02.070643Z",
     "shell.execute_reply": "2022-09-24T00:54:02.071202Z"
    },
    "papermill": {
     "duration": 0.0393,
     "end_time": "2022-09-24T00:54:02.071341",
     "exception": false,
     "start_time": "2022-09-24T00:54:02.032041",
     "status": "completed"
    },
    "tags": []
   },
   "outputs": [],
   "source": [
    "#hide\n",
    "def get_template(path):\n",
    "    from urllib.parse import urlparse\n",
    "    if bool(urlparse(path).netloc):\n",
    "        from urllib.request import urlopen\n",
    "        return urlopen(path).read().decode('utf8')\n",
    "    return open(path).read()"
   ]
  },
  {
   "cell_type": "code",
   "execution_count": 7,
   "id": "realistic-blast",
   "metadata": {
    "execution": {
     "iopub.execute_input": "2022-09-24T00:54:02.142968Z",
     "iopub.status.busy": "2022-09-24T00:54:02.142340Z",
     "iopub.status.idle": "2022-09-24T00:54:02.144677Z",
     "shell.execute_reply": "2022-09-24T00:54:02.144229Z"
    },
    "papermill": {
     "duration": 0.040359,
     "end_time": "2022-09-24T00:54:02.144782",
     "exception": false,
     "start_time": "2022-09-24T00:54:02.104423",
     "status": "completed"
    },
    "tags": []
   },
   "outputs": [],
   "source": [
    "#hide\n",
    "def get_frame(name):\n",
    "    url = (\n",
    "        'https://raw.githubusercontent.com/CSSEGISandData/COVID-19/master/csse_covid_19_data/'\n",
    "        f'csse_covid_19_time_series/time_series_covid19_{name}_global.csv')\n",
    "    df = pd.read_csv(url)\n",
    "    # rename countries\n",
    "    df['Country/Region'] = df['Country/Region'].replace(mapping['replace.country'])\n",
    "    return df"
   ]
  },
  {
   "cell_type": "code",
   "execution_count": 8,
   "id": "affiliated-characterization",
   "metadata": {
    "execution": {
     "iopub.execute_input": "2022-09-24T00:54:02.207927Z",
     "iopub.status.busy": "2022-09-24T00:54:02.207360Z",
     "iopub.status.idle": "2022-09-24T00:54:02.212810Z",
     "shell.execute_reply": "2022-09-24T00:54:02.213255Z"
    },
    "papermill": {
     "duration": 0.038373,
     "end_time": "2022-09-24T00:54:02.213380",
     "exception": false,
     "start_time": "2022-09-24T00:54:02.175007",
     "status": "completed"
    },
    "tags": []
   },
   "outputs": [],
   "source": [
    "#hide\n",
    "def get_dates(df):\n",
    "    dt_cols = df.columns[~df.columns.isin(['Province/State', 'Country/Region', 'Lat', 'Long'])]\n",
    "    LAST_DATE_I = -1\n",
    "    # sometimes last column may be empty, then go backwards\n",
    "    for i in range(-1, -len(dt_cols), -1):\n",
    "        if not df[dt_cols[i]].fillna(0).eq(0).all():\n",
    "            LAST_DATE_I = i\n",
    "            break\n",
    "    return LAST_DATE_I, dt_cols"
   ]
  },
  {
   "cell_type": "code",
   "execution_count": 9,
   "id": "recent-optimization",
   "metadata": {
    "execution": {
     "iopub.execute_input": "2022-09-24T00:54:02.333091Z",
     "iopub.status.busy": "2022-09-24T00:54:02.332519Z",
     "iopub.status.idle": "2022-09-24T00:54:02.747913Z",
     "shell.execute_reply": "2022-09-24T00:54:02.747373Z"
    },
    "papermill": {
     "duration": 0.465094,
     "end_time": "2022-09-24T00:54:02.748028",
     "exception": false,
     "start_time": "2022-09-24T00:54:02.282934",
     "status": "completed"
    },
    "tags": []
   },
   "outputs": [],
   "source": [
    "#hide\n",
    "COL_REGION = 'Country/Region'\n",
    "# Confirmed, Recovered, Deaths\n",
    "df = get_frame('confirmed')\n",
    "# dft_: timeseries, dfc_: today country agg\n",
    "dft_cases = df\n",
    "dft_deaths = get_frame('deaths')\n",
    "dft_recovered = get_frame('recovered')\n",
    "LAST_DATE_I, dt_cols = get_dates(df)"
   ]
  },
  {
   "cell_type": "code",
   "execution_count": 10,
   "id": "absolute-copper",
   "metadata": {
    "execution": {
     "iopub.execute_input": "2022-09-24T00:54:02.814064Z",
     "iopub.status.busy": "2022-09-24T00:54:02.813435Z",
     "iopub.status.idle": "2022-09-24T00:54:02.815932Z",
     "shell.execute_reply": "2022-09-24T00:54:02.815375Z"
    },
    "papermill": {
     "duration": 0.037706,
     "end_time": "2022-09-24T00:54:02.816039",
     "exception": false,
     "start_time": "2022-09-24T00:54:02.778333",
     "status": "completed"
    },
    "tags": []
   },
   "outputs": [],
   "source": [
    "#hide\n",
    "LAST_DATE_I, dt_cols = get_dates(df)\n",
    "dt_today =dt_cols[LAST_DATE_I]\n",
    "# dt_5day = dt_cols[LAST_DATE_I - 5]\n",
    "dt_yday = dt_cols[LAST_DATE_I - 1]"
   ]
  },
  {
   "cell_type": "code",
   "execution_count": 11,
   "id": "restricted-sheriff",
   "metadata": {
    "execution": {
     "iopub.execute_input": "2022-09-24T00:54:02.882374Z",
     "iopub.status.busy": "2022-09-24T00:54:02.881767Z",
     "iopub.status.idle": "2022-09-24T00:54:02.889070Z",
     "shell.execute_reply": "2022-09-24T00:54:02.888598Z"
    },
    "papermill": {
     "duration": 0.043054,
     "end_time": "2022-09-24T00:54:02.889177",
     "exception": false,
     "start_time": "2022-09-24T00:54:02.846123",
     "status": "completed"
    },
    "tags": []
   },
   "outputs": [],
   "source": [
    "#hide\n",
    "dfc_cases = dft_cases.groupby(COL_REGION)[dt_today].sum()\n",
    "dfc_deaths = dft_deaths.groupby(COL_REGION)[dt_today].sum()\n",
    "# dfp_cases = dft_cases.groupby(COL_REGION)[dt_5day].sum()\n",
    "# dfp_deaths = dft_deaths.groupby(COL_REGION)[dt_5day].sum()\n",
    "dfp_cases = dft_cases.groupby(COL_REGION)[dt_yday].sum()\n",
    "dfp_deaths = dft_deaths.groupby(COL_REGION)[dt_yday].sum()"
   ]
  },
  {
   "cell_type": "code",
   "execution_count": 12,
   "id": "deluxe-hepatitis",
   "metadata": {
    "execution": {
     "iopub.execute_input": "2022-09-24T00:54:02.955751Z",
     "iopub.status.busy": "2022-09-24T00:54:02.955162Z",
     "iopub.status.idle": "2022-09-24T00:54:02.959708Z",
     "shell.execute_reply": "2022-09-24T00:54:02.960168Z"
    },
    "papermill": {
     "duration": 0.040838,
     "end_time": "2022-09-24T00:54:02.960291",
     "exception": false,
     "start_time": "2022-09-24T00:54:02.919453",
     "status": "completed"
    },
    "tags": []
   },
   "outputs": [],
   "source": [
    "#hide\n",
    "df_table = (pd.DataFrame(dict(Cases = dfc_cases, Deaths = dfc_deaths, PCases = dfp_cases, PDeaths = dfp_deaths))\n",
    "            .sort_values(by = ['Cases','Deaths'], ascending = [False, False])\n",
    "            .reset_index())"
   ]
  },
  {
   "cell_type": "code",
   "execution_count": 13,
   "id": "educational-chancellor",
   "metadata": {
    "execution": {
     "iopub.execute_input": "2022-09-24T00:54:03.033280Z",
     "iopub.status.busy": "2022-09-24T00:54:03.032687Z",
     "iopub.status.idle": "2022-09-24T00:54:03.045231Z",
     "shell.execute_reply": "2022-09-24T00:54:03.044768Z"
    },
    "papermill": {
     "duration": 0.054934,
     "end_time": "2022-09-24T00:54:03.045336",
     "exception": false,
     "start_time": "2022-09-24T00:54:02.990402",
     "status": "completed"
    },
    "tags": []
   },
   "outputs": [
    {
     "data": {
      "text/html": [
       "<div>\n",
       "<style scoped>\n",
       "    .dataframe tbody tr th:only-of-type {\n",
       "        vertical-align: middle;\n",
       "    }\n",
       "\n",
       "    .dataframe tbody tr th {\n",
       "        vertical-align: top;\n",
       "    }\n",
       "\n",
       "    .dataframe thead th {\n",
       "        text-align: right;\n",
       "    }\n",
       "</style>\n",
       "<table border=\"1\" class=\"dataframe\">\n",
       "  <thead>\n",
       "    <tr style=\"text-align: right;\">\n",
       "      <th></th>\n",
       "      <th>Country/Region</th>\n",
       "      <th>Cases</th>\n",
       "      <th>Deaths</th>\n",
       "      <th>PCases</th>\n",
       "      <th>PDeaths</th>\n",
       "      <th>Cases (+)</th>\n",
       "      <th>Deaths (+)</th>\n",
       "      <th>Fatality Rate</th>\n",
       "      <th>Continent</th>\n",
       "    </tr>\n",
       "  </thead>\n",
       "  <tbody>\n",
       "    <tr>\n",
       "      <th>0</th>\n",
       "      <td>US</td>\n",
       "      <td>95969895</td>\n",
       "      <td>1055922</td>\n",
       "      <td>95888756</td>\n",
       "      <td>1055287</td>\n",
       "      <td>81139</td>\n",
       "      <td>635</td>\n",
       "      <td>1.10</td>\n",
       "      <td>North America</td>\n",
       "    </tr>\n",
       "    <tr>\n",
       "      <th>1</th>\n",
       "      <td>India</td>\n",
       "      <td>44558425</td>\n",
       "      <td>528449</td>\n",
       "      <td>44553042</td>\n",
       "      <td>528429</td>\n",
       "      <td>5383</td>\n",
       "      <td>20</td>\n",
       "      <td>1.19</td>\n",
       "      <td>Asia</td>\n",
       "    </tr>\n",
       "    <tr>\n",
       "      <th>2</th>\n",
       "      <td>France</td>\n",
       "      <td>35267124</td>\n",
       "      <td>155894</td>\n",
       "      <td>35228660</td>\n",
       "      <td>155864</td>\n",
       "      <td>38464</td>\n",
       "      <td>30</td>\n",
       "      <td>0.44</td>\n",
       "      <td>Europe</td>\n",
       "    </tr>\n",
       "    <tr>\n",
       "      <th>3</th>\n",
       "      <td>Brazil</td>\n",
       "      <td>34616655</td>\n",
       "      <td>685677</td>\n",
       "      <td>34592027</td>\n",
       "      <td>685428</td>\n",
       "      <td>24628</td>\n",
       "      <td>249</td>\n",
       "      <td>1.98</td>\n",
       "      <td>South America</td>\n",
       "    </tr>\n",
       "    <tr>\n",
       "      <th>4</th>\n",
       "      <td>Germany</td>\n",
       "      <td>32905086</td>\n",
       "      <td>149368</td>\n",
       "      <td>32854286</td>\n",
       "      <td>149275</td>\n",
       "      <td>50800</td>\n",
       "      <td>93</td>\n",
       "      <td>0.45</td>\n",
       "      <td>Europe</td>\n",
       "    </tr>\n",
       "  </tbody>\n",
       "</table>\n",
       "</div>"
      ],
      "text/plain": [
       "  Country/Region     Cases   Deaths    PCases  PDeaths  Cases (+)  Deaths (+)  \\\n",
       "0             US  95969895  1055922  95888756  1055287      81139         635   \n",
       "1          India  44558425   528449  44553042   528429       5383          20   \n",
       "2         France  35267124   155894  35228660   155864      38464          30   \n",
       "3         Brazil  34616655   685677  34592027   685428      24628         249   \n",
       "4        Germany  32905086   149368  32854286   149275      50800          93   \n",
       "\n",
       "   Fatality Rate      Continent  \n",
       "0           1.10  North America  \n",
       "1           1.19           Asia  \n",
       "2           0.44         Europe  \n",
       "3           1.98  South America  \n",
       "4           0.45         Europe  "
      ]
     },
     "execution_count": 13,
     "metadata": {},
     "output_type": "execute_result"
    }
   ],
   "source": [
    "#hide\n",
    "for c in 'Cases, Deaths'.split(', '):\n",
    "    df_table[f'{c} (+)'] = (df_table[c] - df_table[f'P{c}']).clip(0)\n",
    "    #Clip ça veut dire, les chiffres negatif sont interdit\n",
    "df_table['Fatality Rate'] = (100* df_table['Deaths']/ df_table['Cases']).round(2)\n",
    "df_table['Continent'] = df_table['Country/Region'].map(mapping['map.continent'])\n",
    "df_table.head(5)"
   ]
  },
  {
   "cell_type": "code",
   "execution_count": 14,
   "id": "aboriginal-bulgaria",
   "metadata": {
    "execution": {
     "iopub.execute_input": "2022-09-24T00:54:03.112491Z",
     "iopub.status.busy": "2022-09-24T00:54:03.111909Z",
     "iopub.status.idle": "2022-09-24T00:54:03.114472Z",
     "shell.execute_reply": "2022-09-24T00:54:03.113922Z"
    },
    "papermill": {
     "duration": 0.038408,
     "end_time": "2022-09-24T00:54:03.114580",
     "exception": false,
     "start_time": "2022-09-24T00:54:03.076172",
     "status": "completed"
    },
    "tags": []
   },
   "outputs": [],
   "source": [
    "#hide\n",
    "#delete problematic countries from table\n",
    "df_table = df_table[~df_table['Country/Region'].isin(['Cape Verde', 'Cruise Ship', 'Kosovo'])]"
   ]
  },
  {
   "cell_type": "code",
   "execution_count": 15,
   "id": "fantastic-effect",
   "metadata": {
    "execution": {
     "iopub.execute_input": "2022-09-24T00:54:03.184272Z",
     "iopub.status.busy": "2022-09-24T00:54:03.183104Z",
     "iopub.status.idle": "2022-09-24T00:54:03.202423Z",
     "shell.execute_reply": "2022-09-24T00:54:03.201905Z"
    },
    "papermill": {
     "duration": 0.057183,
     "end_time": "2022-09-24T00:54:03.202531",
     "exception": false,
     "start_time": "2022-09-24T00:54:03.145348",
     "status": "completed"
    },
    "tags": []
   },
   "outputs": [
    {
     "data": {
      "text/html": [
       "<div>\n",
       "<style scoped>\n",
       "    .dataframe tbody tr th:only-of-type {\n",
       "        vertical-align: middle;\n",
       "    }\n",
       "\n",
       "    .dataframe tbody tr th {\n",
       "        vertical-align: top;\n",
       "    }\n",
       "\n",
       "    .dataframe thead th {\n",
       "        text-align: right;\n",
       "    }\n",
       "</style>\n",
       "<table border=\"1\" class=\"dataframe\">\n",
       "  <thead>\n",
       "    <tr style=\"text-align: right;\">\n",
       "      <th></th>\n",
       "      <th>Country/Region</th>\n",
       "      <th>Cases</th>\n",
       "      <th>Deaths</th>\n",
       "      <th>PCases</th>\n",
       "      <th>PDeaths</th>\n",
       "      <th>Cases (+)</th>\n",
       "      <th>Deaths (+)</th>\n",
       "      <th>Fatality Rate</th>\n",
       "      <th>Continent</th>\n",
       "    </tr>\n",
       "  </thead>\n",
       "  <tbody>\n",
       "    <tr>\n",
       "      <th>0</th>\n",
       "      <td>US</td>\n",
       "      <td>95969895</td>\n",
       "      <td>1055922</td>\n",
       "      <td>95888756</td>\n",
       "      <td>1055287</td>\n",
       "      <td>81139</td>\n",
       "      <td>635</td>\n",
       "      <td>1.1</td>\n",
       "      <td>North America</td>\n",
       "    </tr>\n",
       "    <tr>\n",
       "      <th>1</th>\n",
       "      <td>India</td>\n",
       "      <td>44558425</td>\n",
       "      <td>528449</td>\n",
       "      <td>44553042</td>\n",
       "      <td>528429</td>\n",
       "      <td>5383</td>\n",
       "      <td>20</td>\n",
       "      <td>1.2</td>\n",
       "      <td>Asia</td>\n",
       "    </tr>\n",
       "    <tr>\n",
       "      <th>2</th>\n",
       "      <td>France</td>\n",
       "      <td>35267124</td>\n",
       "      <td>155894</td>\n",
       "      <td>35228660</td>\n",
       "      <td>155864</td>\n",
       "      <td>38464</td>\n",
       "      <td>30</td>\n",
       "      <td>0.4</td>\n",
       "      <td>Europe</td>\n",
       "    </tr>\n",
       "    <tr>\n",
       "      <th>3</th>\n",
       "      <td>Brazil</td>\n",
       "      <td>34616655</td>\n",
       "      <td>685677</td>\n",
       "      <td>34592027</td>\n",
       "      <td>685428</td>\n",
       "      <td>24628</td>\n",
       "      <td>249</td>\n",
       "      <td>2.0</td>\n",
       "      <td>South America</td>\n",
       "    </tr>\n",
       "    <tr>\n",
       "      <th>4</th>\n",
       "      <td>Germany</td>\n",
       "      <td>32905086</td>\n",
       "      <td>149368</td>\n",
       "      <td>32854286</td>\n",
       "      <td>149275</td>\n",
       "      <td>50800</td>\n",
       "      <td>93</td>\n",
       "      <td>0.5</td>\n",
       "      <td>Europe</td>\n",
       "    </tr>\n",
       "  </tbody>\n",
       "</table>\n",
       "</div>"
      ],
      "text/plain": [
       "  Country/Region     Cases   Deaths    PCases  PDeaths  Cases (+)  Deaths (+)  \\\n",
       "0             US  95969895  1055922  95888756  1055287      81139         635   \n",
       "1          India  44558425   528449  44553042   528429       5383          20   \n",
       "2         France  35267124   155894  35228660   155864      38464          30   \n",
       "3         Brazil  34616655   685677  34592027   685428      24628         249   \n",
       "4        Germany  32905086   149368  32854286   149275      50800          93   \n",
       "\n",
       "   Fatality Rate      Continent  \n",
       "0            1.1  North America  \n",
       "1            1.2           Asia  \n",
       "2            0.4         Europe  \n",
       "3            2.0  South America  \n",
       "4            0.5         Europe  "
      ]
     },
     "execution_count": 15,
     "metadata": {},
     "output_type": "execute_result"
    }
   ],
   "source": [
    "#hide\n",
    "df_table = (pd.DataFrame(dict(Cases=dfc_cases, Deaths=dfc_deaths, PCases=dfp_cases, PDeaths=dfp_deaths))\n",
    "             .sort_values(by=['Cases', 'Deaths'], ascending=[False, False])\n",
    "             .reset_index())\n",
    "df_table.rename(columns={'index': 'Country/Region'}, inplace=True)\n",
    "for c in 'Cases, Deaths'.split(', '):\n",
    "    df_table[f'{c} (+)'] = (df_table[c] - df_table[f'P{c}']).clip(0)  # DATA BUG\n",
    "df_table['Fatality Rate'] = (100 * df_table['Deaths'] / df_table['Cases']).round(1)\n",
    "df_table['Continent'] = df_table['Country/Region'].map(mapping['map.continent'])\n",
    "df_table.head(5)"
   ]
  },
  {
   "cell_type": "code",
   "execution_count": 16,
   "id": "fewer-occasion",
   "metadata": {
    "execution": {
     "iopub.execute_input": "2022-09-24T00:54:03.270585Z",
     "iopub.status.busy": "2022-09-24T00:54:03.270004Z",
     "iopub.status.idle": "2022-09-24T00:54:03.272324Z",
     "shell.execute_reply": "2022-09-24T00:54:03.272745Z"
    },
    "papermill": {
     "duration": 0.039089,
     "end_time": "2022-09-24T00:54:03.272861",
     "exception": false,
     "start_time": "2022-09-24T00:54:03.233772",
     "status": "completed"
    },
    "tags": []
   },
   "outputs": [],
   "source": [
    "#hide\n",
    "#delete problematic countries from table\n",
    "df_table = df_table[~df_table['Country/Region'].isin(['Cape Verde', 'Cruise Ship', 'Kosovo'])]"
   ]
  },
  {
   "cell_type": "code",
   "execution_count": 17,
   "id": "related-center",
   "metadata": {
    "execution": {
     "iopub.execute_input": "2022-09-24T00:54:03.342809Z",
     "iopub.status.busy": "2022-09-24T00:54:03.342211Z",
     "iopub.status.idle": "2022-09-24T00:54:03.355145Z",
     "shell.execute_reply": "2022-09-24T00:54:03.354699Z"
    },
    "papermill": {
     "duration": 0.051405,
     "end_time": "2022-09-24T00:54:03.355256",
     "exception": false,
     "start_time": "2022-09-24T00:54:03.303851",
     "status": "completed"
    },
    "tags": []
   },
   "outputs": [],
   "source": [
    "#hide\n",
    "metrics = [df_table.columns[index] for index in [1,2,5,6]]\n",
    "# s_china = df_table[df_table['Country/Region'].eq('China')][metrics].sum().add_prefix('China ')\n",
    "s_us = df_table[df_table['Country/Region'].eq('US')][metrics].sum().add_prefix('US ')\n",
    "s_eu = df_table[df_table['Continent'].eq('Europe')][metrics].sum().add_prefix('EU ')\n",
    "s_ind = df_table[df_table['Country/Region'].eq('India')][metrics].sum().add_prefix('India ')\n",
    "summary = {'updated': pd.to_datetime(dt_today), 'since': pd.to_datetime(dt_yday)}\n",
    "summary = {'updated': pd.to_datetime(dt_today), 'since': pd.to_datetime(dt_yday)}\n",
    "summary = {**summary, **df_table[metrics].sum(), **s_ind, **s_us, **s_eu}"
   ]
  },
  {
   "cell_type": "code",
   "execution_count": 18,
   "id": "engaging-syndrome",
   "metadata": {
    "execution": {
     "iopub.execute_input": "2022-09-24T00:54:03.423056Z",
     "iopub.status.busy": "2022-09-24T00:54:03.422469Z",
     "iopub.status.idle": "2022-09-24T00:54:03.440864Z",
     "shell.execute_reply": "2022-09-24T00:54:03.441350Z"
    },
    "papermill": {
     "duration": 0.05507,
     "end_time": "2022-09-24T00:54:03.441476",
     "exception": false,
     "start_time": "2022-09-24T00:54:03.386406",
     "status": "completed"
    },
    "tags": []
   },
   "outputs": [],
   "source": [
    "#hide\n",
    "dft_ct_new_cases = dft_cases.groupby(COL_REGION)[dt_cols].sum().diff(axis=1).fillna(0).astype(int)"
   ]
  },
  {
   "cell_type": "code",
   "execution_count": 19,
   "id": "neutral-assignment",
   "metadata": {
    "execution": {
     "iopub.execute_input": "2022-09-24T00:54:03.510372Z",
     "iopub.status.busy": "2022-09-24T00:54:03.509801Z",
     "iopub.status.idle": "2022-09-24T00:54:03.512118Z",
     "shell.execute_reply": "2022-09-24T00:54:03.512546Z"
    },
    "papermill": {
     "duration": 0.039591,
     "end_time": "2022-09-24T00:54:03.512665",
     "exception": false,
     "start_time": "2022-09-24T00:54:03.473074",
     "status": "completed"
    },
    "tags": []
   },
   "outputs": [],
   "source": [
    "#hide\n",
    "everydaycases = dft_ct_new_cases.cumsum(axis=1)"
   ]
  },
  {
   "cell_type": "code",
   "execution_count": 20,
   "id": "parliamentary-calgary",
   "metadata": {
    "execution": {
     "iopub.execute_input": "2022-09-24T00:54:03.579052Z",
     "iopub.status.busy": "2022-09-24T00:54:03.578470Z",
     "iopub.status.idle": "2022-09-24T00:54:04.130799Z",
     "shell.execute_reply": "2022-09-24T00:54:04.130288Z"
    },
    "papermill": {
     "duration": 0.587117,
     "end_time": "2022-09-24T00:54:04.130920",
     "exception": false,
     "start_time": "2022-09-24T00:54:03.543803",
     "status": "completed"
    },
    "tags": []
   },
   "outputs": [],
   "source": [
    "#hide\n",
    "import pandas as pd\n",
    "import matplotlib.pyplot as plt\n",
    "import matplotlib.ticker as ticker\n",
    "import matplotlib.animation as animation\n",
    "from IPython.display import HTML"
   ]
  },
  {
   "cell_type": "code",
   "execution_count": 21,
   "id": "lasting-extraction",
   "metadata": {
    "execution": {
     "iopub.execute_input": "2022-09-24T00:54:04.199302Z",
     "iopub.status.busy": "2022-09-24T00:54:04.198744Z",
     "iopub.status.idle": "2022-09-24T00:54:04.205833Z",
     "shell.execute_reply": "2022-09-24T00:54:04.206261Z"
    },
    "papermill": {
     "duration": 0.044364,
     "end_time": "2022-09-24T00:54:04.206389",
     "exception": false,
     "start_time": "2022-09-24T00:54:04.162025",
     "status": "completed"
    },
    "tags": []
   },
   "outputs": [],
   "source": [
    "#hide\n",
    "t = everydaycases.stack()"
   ]
  },
  {
   "cell_type": "code",
   "execution_count": 22,
   "id": "premier-sleeve",
   "metadata": {
    "execution": {
     "iopub.execute_input": "2022-09-24T00:54:04.272742Z",
     "iopub.status.busy": "2022-09-24T00:54:04.272175Z",
     "iopub.status.idle": "2022-09-24T00:54:04.284193Z",
     "shell.execute_reply": "2022-09-24T00:54:04.283694Z"
    },
    "papermill": {
     "duration": 0.046859,
     "end_time": "2022-09-24T00:54:04.284302",
     "exception": false,
     "start_time": "2022-09-24T00:54:04.237443",
     "status": "completed"
    },
    "tags": []
   },
   "outputs": [],
   "source": [
    "#hide\n",
    "g = t.reset_index(['Country/Region'])"
   ]
  },
  {
   "cell_type": "code",
   "execution_count": 23,
   "id": "distributed-pittsburgh",
   "metadata": {
    "execution": {
     "iopub.execute_input": "2022-09-24T00:54:04.350385Z",
     "iopub.status.busy": "2022-09-24T00:54:04.349795Z",
     "iopub.status.idle": "2022-09-24T00:54:04.352337Z",
     "shell.execute_reply": "2022-09-24T00:54:04.351903Z"
    },
    "papermill": {
     "duration": 0.037085,
     "end_time": "2022-09-24T00:54:04.352444",
     "exception": false,
     "start_time": "2022-09-24T00:54:04.315359",
     "status": "completed"
    },
    "tags": []
   },
   "outputs": [],
   "source": [
    "#hide\n",
    "g.index.name = 'date'"
   ]
  },
  {
   "cell_type": "code",
   "execution_count": 24,
   "id": "naked-donor",
   "metadata": {
    "execution": {
     "iopub.execute_input": "2022-09-24T00:54:04.418905Z",
     "iopub.status.busy": "2022-09-24T00:54:04.418295Z",
     "iopub.status.idle": "2022-09-24T00:54:04.420535Z",
     "shell.execute_reply": "2022-09-24T00:54:04.420083Z"
    },
    "papermill": {
     "duration": 0.036925,
     "end_time": "2022-09-24T00:54:04.420641",
     "exception": false,
     "start_time": "2022-09-24T00:54:04.383716",
     "status": "completed"
    },
    "tags": []
   },
   "outputs": [],
   "source": [
    "# #hide\n",
    "# g = g.reset_index(['date'])"
   ]
  },
  {
   "cell_type": "code",
   "execution_count": 25,
   "id": "incomplete-mustang",
   "metadata": {
    "execution": {
     "iopub.execute_input": "2022-09-24T00:54:04.486413Z",
     "iopub.status.busy": "2022-09-24T00:54:04.485800Z",
     "iopub.status.idle": "2022-09-24T00:54:04.489310Z",
     "shell.execute_reply": "2022-09-24T00:54:04.488865Z"
    },
    "papermill": {
     "duration": 0.037683,
     "end_time": "2022-09-24T00:54:04.489417",
     "exception": false,
     "start_time": "2022-09-24T00:54:04.451734",
     "status": "completed"
    },
    "tags": []
   },
   "outputs": [],
   "source": [
    "#hide\n",
    "# g.head()"
   ]
  },
  {
   "cell_type": "code",
   "execution_count": 26,
   "id": "specific-kruger",
   "metadata": {
    "execution": {
     "iopub.execute_input": "2022-09-24T00:54:04.555227Z",
     "iopub.status.busy": "2022-09-24T00:54:04.554654Z",
     "iopub.status.idle": "2022-09-24T00:54:04.557198Z",
     "shell.execute_reply": "2022-09-24T00:54:04.556658Z"
    },
    "papermill": {
     "duration": 0.036772,
     "end_time": "2022-09-24T00:54:04.557301",
     "exception": false,
     "start_time": "2022-09-24T00:54:04.520529",
     "status": "completed"
    },
    "tags": []
   },
   "outputs": [],
   "source": [
    "#hide\n",
    "# g.columns = ['date','country','cases']"
   ]
  },
  {
   "cell_type": "code",
   "execution_count": 27,
   "id": "tender-conversion",
   "metadata": {
    "execution": {
     "iopub.execute_input": "2022-09-24T00:54:04.623167Z",
     "iopub.status.busy": "2022-09-24T00:54:04.622588Z",
     "iopub.status.idle": "2022-09-24T00:54:04.625124Z",
     "shell.execute_reply": "2022-09-24T00:54:04.624594Z"
    },
    "papermill": {
     "duration": 0.036704,
     "end_time": "2022-09-24T00:54:04.625226",
     "exception": false,
     "start_time": "2022-09-24T00:54:04.588522",
     "status": "completed"
    },
    "tags": []
   },
   "outputs": [],
   "source": [
    "#hide\n",
    "# g['continent'] = g.country"
   ]
  },
  {
   "cell_type": "code",
   "execution_count": 28,
   "id": "substantial-wilderness",
   "metadata": {
    "execution": {
     "iopub.execute_input": "2022-09-24T00:54:04.690962Z",
     "iopub.status.busy": "2022-09-24T00:54:04.690374Z",
     "iopub.status.idle": "2022-09-24T00:54:04.692925Z",
     "shell.execute_reply": "2022-09-24T00:54:04.692370Z"
    },
    "papermill": {
     "duration": 0.036676,
     "end_time": "2022-09-24T00:54:04.693031",
     "exception": false,
     "start_time": "2022-09-24T00:54:04.656355",
     "status": "completed"
    },
    "tags": []
   },
   "outputs": [],
   "source": [
    "#hide\n",
    "# cols = list(g.columns.values)"
   ]
  },
  {
   "cell_type": "code",
   "execution_count": 29,
   "id": "solved-farming",
   "metadata": {
    "execution": {
     "iopub.execute_input": "2022-09-24T00:54:04.758853Z",
     "iopub.status.busy": "2022-09-24T00:54:04.758274Z",
     "iopub.status.idle": "2022-09-24T00:54:04.760561Z",
     "shell.execute_reply": "2022-09-24T00:54:04.760037Z"
    },
    "papermill": {
     "duration": 0.036716,
     "end_time": "2022-09-24T00:54:04.760665",
     "exception": false,
     "start_time": "2022-09-24T00:54:04.723949",
     "status": "completed"
    },
    "tags": []
   },
   "outputs": [],
   "source": [
    "#hide\n",
    "# cols.insert(0, cols.pop())"
   ]
  },
  {
   "cell_type": "code",
   "execution_count": 30,
   "id": "executed-adoption",
   "metadata": {
    "execution": {
     "iopub.execute_input": "2022-09-24T00:54:04.826614Z",
     "iopub.status.busy": "2022-09-24T00:54:04.826009Z",
     "iopub.status.idle": "2022-09-24T00:54:04.828329Z",
     "shell.execute_reply": "2022-09-24T00:54:04.827802Z"
    },
    "papermill": {
     "duration": 0.036508,
     "end_time": "2022-09-24T00:54:04.828431",
     "exception": false,
     "start_time": "2022-09-24T00:54:04.791923",
     "status": "completed"
    },
    "tags": []
   },
   "outputs": [],
   "source": [
    "#hide\n",
    "# g = g[cols]"
   ]
  },
  {
   "cell_type": "code",
   "execution_count": 31,
   "id": "subject-dublin",
   "metadata": {
    "execution": {
     "iopub.execute_input": "2022-09-24T00:54:04.894013Z",
     "iopub.status.busy": "2022-09-24T00:54:04.893402Z",
     "iopub.status.idle": "2022-09-24T00:54:04.895497Z",
     "shell.execute_reply": "2022-09-24T00:54:04.895896Z"
    },
    "papermill": {
     "duration": 0.03661,
     "end_time": "2022-09-24T00:54:04.896013",
     "exception": false,
     "start_time": "2022-09-24T00:54:04.859403",
     "status": "completed"
    },
    "tags": []
   },
   "outputs": [],
   "source": [
    "#hide\n",
    "# g['continent'] = g['continent'].map(mapping['map.continent'])"
   ]
  },
  {
   "cell_type": "code",
   "execution_count": 32,
   "id": "freelance-scout",
   "metadata": {
    "execution": {
     "iopub.execute_input": "2022-09-24T00:54:04.961992Z",
     "iopub.status.busy": "2022-09-24T00:54:04.961409Z",
     "iopub.status.idle": "2022-09-24T00:54:04.963802Z",
     "shell.execute_reply": "2022-09-24T00:54:04.963261Z"
    },
    "papermill": {
     "duration": 0.036633,
     "end_time": "2022-09-24T00:54:04.963908",
     "exception": false,
     "start_time": "2022-09-24T00:54:04.927275",
     "status": "completed"
    },
    "tags": []
   },
   "outputs": [],
   "source": [
    "#hide\n",
    "# g.head()"
   ]
  },
  {
   "cell_type": "code",
   "execution_count": 33,
   "id": "limited-engine",
   "metadata": {
    "execution": {
     "iopub.execute_input": "2022-09-24T00:54:05.029514Z",
     "iopub.status.busy": "2022-09-24T00:54:05.028947Z",
     "iopub.status.idle": "2022-09-24T00:54:05.031388Z",
     "shell.execute_reply": "2022-09-24T00:54:05.030854Z"
    },
    "papermill": {
     "duration": 0.036545,
     "end_time": "2022-09-24T00:54:05.031492",
     "exception": false,
     "start_time": "2022-09-24T00:54:04.994947",
     "status": "completed"
    },
    "tags": []
   },
   "outputs": [],
   "source": [
    "# hide\n",
    "# g['date'] = g['date'].astype('datetime64[ns]')"
   ]
  },
  {
   "cell_type": "code",
   "execution_count": 34,
   "id": "sophisticated-supervisor",
   "metadata": {
    "execution": {
     "iopub.execute_input": "2022-09-24T00:54:05.097692Z",
     "iopub.status.busy": "2022-09-24T00:54:05.097095Z",
     "iopub.status.idle": "2022-09-24T00:54:05.099588Z",
     "shell.execute_reply": "2022-09-24T00:54:05.099030Z"
    },
    "papermill": {
     "duration": 0.036797,
     "end_time": "2022-09-24T00:54:05.099696",
     "exception": false,
     "start_time": "2022-09-24T00:54:05.062899",
     "status": "completed"
    },
    "tags": []
   },
   "outputs": [],
   "source": [
    "#hide\n",
    "# g['date'] = g.date.dt.dayofyear"
   ]
  },
  {
   "cell_type": "code",
   "execution_count": 35,
   "id": "inside-dubai",
   "metadata": {
    "execution": {
     "iopub.execute_input": "2022-09-24T00:54:05.165469Z",
     "iopub.status.busy": "2022-09-24T00:54:05.164884Z",
     "iopub.status.idle": "2022-09-24T00:54:05.167249Z",
     "shell.execute_reply": "2022-09-24T00:54:05.166802Z"
    },
    "papermill": {
     "duration": 0.036587,
     "end_time": "2022-09-24T00:54:05.167351",
     "exception": false,
     "start_time": "2022-09-24T00:54:05.130764",
     "status": "completed"
    },
    "tags": []
   },
   "outputs": [],
   "source": [
    "#hide\n",
    "# g = g.rename(columns= {'continent':'group','country':'name','cases':'value'})"
   ]
  },
  {
   "cell_type": "code",
   "execution_count": 36,
   "id": "fleet-motorcycle",
   "metadata": {
    "execution": {
     "iopub.execute_input": "2022-09-24T00:54:05.233396Z",
     "iopub.status.busy": "2022-09-24T00:54:05.232800Z",
     "iopub.status.idle": "2022-09-24T00:54:05.235127Z",
     "shell.execute_reply": "2022-09-24T00:54:05.235544Z"
    },
    "papermill": {
     "duration": 0.037248,
     "end_time": "2022-09-24T00:54:05.235666",
     "exception": false,
     "start_time": "2022-09-24T00:54:05.198418",
     "status": "completed"
    },
    "tags": []
   },
   "outputs": [],
   "source": [
    "#hide\n",
    "# cols = ['name','group','day','value']"
   ]
  },
  {
   "cell_type": "code",
   "execution_count": 37,
   "id": "continued-sleeping",
   "metadata": {
    "execution": {
     "iopub.execute_input": "2022-09-24T00:54:05.301223Z",
     "iopub.status.busy": "2022-09-24T00:54:05.300652Z",
     "iopub.status.idle": "2022-09-24T00:54:05.302568Z",
     "shell.execute_reply": "2022-09-24T00:54:05.302021Z"
    },
    "papermill": {
     "duration": 0.036118,
     "end_time": "2022-09-24T00:54:05.302671",
     "exception": false,
     "start_time": "2022-09-24T00:54:05.266553",
     "status": "completed"
    },
    "tags": []
   },
   "outputs": [],
   "source": [
    "#hide\n",
    "# g.rename(columns= {'date':'day'},inplace = True)"
   ]
  },
  {
   "cell_type": "code",
   "execution_count": 38,
   "id": "major-fight",
   "metadata": {
    "execution": {
     "iopub.execute_input": "2022-09-24T00:54:05.368631Z",
     "iopub.status.busy": "2022-09-24T00:54:05.368034Z",
     "iopub.status.idle": "2022-09-24T00:54:05.370514Z",
     "shell.execute_reply": "2022-09-24T00:54:05.370027Z"
    },
    "papermill": {
     "duration": 0.036863,
     "end_time": "2022-09-24T00:54:05.370624",
     "exception": false,
     "start_time": "2022-09-24T00:54:05.333761",
     "status": "completed"
    },
    "tags": []
   },
   "outputs": [],
   "source": [
    "#hide\n",
    "# g = g[cols]"
   ]
  },
  {
   "cell_type": "code",
   "execution_count": 39,
   "id": "structured-mobile",
   "metadata": {
    "execution": {
     "iopub.execute_input": "2022-09-24T00:54:05.435982Z",
     "iopub.status.busy": "2022-09-24T00:54:05.435408Z",
     "iopub.status.idle": "2022-09-24T00:54:05.437756Z",
     "shell.execute_reply": "2022-09-24T00:54:05.437225Z"
    },
    "papermill": {
     "duration": 0.036369,
     "end_time": "2022-09-24T00:54:05.437857",
     "exception": false,
     "start_time": "2022-09-24T00:54:05.401488",
     "status": "completed"
    },
    "tags": []
   },
   "outputs": [],
   "source": [
    "# #hide\n",
    "# g = g[g.group.notna()]"
   ]
  },
  {
   "cell_type": "code",
   "execution_count": 40,
   "id": "determined-closing",
   "metadata": {
    "execution": {
     "iopub.execute_input": "2022-09-24T00:54:05.503938Z",
     "iopub.status.busy": "2022-09-24T00:54:05.503359Z",
     "iopub.status.idle": "2022-09-24T00:54:05.505430Z",
     "shell.execute_reply": "2022-09-24T00:54:05.505853Z"
    },
    "papermill": {
     "duration": 0.036912,
     "end_time": "2022-09-24T00:54:05.505972",
     "exception": false,
     "start_time": "2022-09-24T00:54:05.469060",
     "status": "completed"
    },
    "tags": []
   },
   "outputs": [],
   "source": [
    "# #hide\n",
    "# colors = dict(zip(\n",
    "#     [\"Oceania\", \"Europe\", \"Asia\", \"South America\", \"Middle East\", \"North America\", \"Africa\"],\n",
    "#     [\"#adb0ff\", \"#ffb3ff\", \"#90d595\", \"#e48381\", \"#aafbff\", \"#f7bb5f\", \"#eafb50\"]\n",
    "# ))\n",
    "# group_lk = g.set_index('name')['group'].to_dict()"
   ]
  },
  {
   "cell_type": "code",
   "execution_count": null,
   "id": "gross-drinking",
   "metadata": {
    "papermill": {
     "duration": 0.030807,
     "end_time": "2022-09-24T00:54:05.567789",
     "exception": false,
     "start_time": "2022-09-24T00:54:05.536982",
     "status": "completed"
    },
    "tags": []
   },
   "outputs": [],
   "source": []
  },
  {
   "cell_type": "code",
   "execution_count": 41,
   "id": "subject-macintosh",
   "metadata": {
    "execution": {
     "iopub.execute_input": "2022-09-24T00:54:05.634659Z",
     "iopub.status.busy": "2022-09-24T00:54:05.634025Z",
     "iopub.status.idle": "2022-09-24T00:54:05.637064Z",
     "shell.execute_reply": "2022-09-24T00:54:05.636513Z"
    },
    "papermill": {
     "duration": 0.038049,
     "end_time": "2022-09-24T00:54:05.637168",
     "exception": false,
     "start_time": "2022-09-24T00:54:05.599119",
     "status": "completed"
    },
    "tags": []
   },
   "outputs": [],
   "source": [
    "# #hide\n",
    "# fig, ax = plt.subplots(figsize=(15, 8))\n",
    "\n",
    "# def draw_barchart(current_day):\n",
    "#     dff = g[g['day'].eq(current_day)].sort_values(by='value', ascending=True).tail(10)\n",
    "#     ax.clear()\n",
    "#     ax.barh(dff['name'], dff['value'], color=[colors[group_lk[x]] for x in dff['name']])\n",
    "#     dx = dff['value'].max() / 200\n",
    "    \n",
    "#     for i, (value, name) in enumerate(zip(dff['value'], dff['name'])):\n",
    "#         ax.text(value-dx, i,     name,           size=14, weight=600, ha='right', va='bottom')\n",
    "#         ax.text(value-dx, i-.25, group_lk[name], size=10, color='#444444', ha='right', va='baseline')\n",
    "#         ax.text(value+dx, i,     f'{value:,.0f}',  size=14, ha='left',  va='center')\n",
    "#     ax.text(1, 0.4, current_day, transform=ax.transAxes, color='#777777', size=46, ha='right', weight=800)\n",
    "#     ax.text(0, 1.06, 'Population (thousands)', transform=ax.transAxes, size=12, color='#777777')\n",
    "#     ax.xaxis.set_major_formatter(ticker.StrMethodFormatter('{x:,.0f}'))\n",
    "#     ax.xaxis.set_ticks_position('top')\n",
    "#     ax.tick_params(axis='x', colors='#777777', labelsize=12)\n",
    "#     ax.set_yticks([])\n",
    "#     ax.margins(0, 0.01)\n",
    "#     ax.grid(which='major', axis='x', linestyle='-')\n",
    "#     ax.set_axisbelow(True)\n",
    "    \n",
    "#     ax.text(0, 1.15, 'Coronavirus',\n",
    "#             transform=ax.transAxes, size=24, weight=600, ha='left', va='top')\n",
    "# #     ax.text(1, 0, 'by @pratapvardhan; credit @jburnmurdoch', transform=ax.transAxes, color='#777777', ha='right',\n",
    "# #             bbox=dict(facecolor='white', alpha=0.8, edgecolor='white'))\n",
    "#     plt.box(False)"
   ]
  },
  {
   "cell_type": "code",
   "execution_count": 42,
   "id": "sexual-wages",
   "metadata": {
    "execution": {
     "iopub.execute_input": "2022-09-24T00:54:05.703063Z",
     "iopub.status.busy": "2022-09-24T00:54:05.702479Z",
     "iopub.status.idle": "2022-09-24T00:54:05.704901Z",
     "shell.execute_reply": "2022-09-24T00:54:05.704449Z"
    },
    "papermill": {
     "duration": 0.036895,
     "end_time": "2022-09-24T00:54:05.705002",
     "exception": false,
     "start_time": "2022-09-24T00:54:05.668107",
     "status": "completed"
    },
    "tags": []
   },
   "outputs": [],
   "source": [
    "# #hide_input\n",
    "# fig, ax = plt.subplots(figsize=(15, 8))\n",
    "# animator = animation.FuncAnimation(fig, draw_barchart, frames=range(g.day.values.min(), g.day.values.max()))\n",
    "# HTML(animator.to_jshtml())\n",
    "# # or use animator.to_html5_video() or animator.save() "
   ]
  },
  {
   "cell_type": "code",
   "execution_count": null,
   "id": "australian-container",
   "metadata": {
    "papermill": {
     "duration": 0.030684,
     "end_time": "2022-09-24T00:54:05.766512",
     "exception": false,
     "start_time": "2022-09-24T00:54:05.735828",
     "status": "completed"
    },
    "tags": []
   },
   "outputs": [],
   "source": []
  },
  {
   "cell_type": "code",
   "execution_count": null,
   "id": "mediterranean-pontiac",
   "metadata": {
    "papermill": {
     "duration": 0.030716,
     "end_time": "2022-09-24T00:54:05.828000",
     "exception": false,
     "start_time": "2022-09-24T00:54:05.797284",
     "status": "completed"
    },
    "tags": []
   },
   "outputs": [],
   "source": []
  },
  {
   "cell_type": "code",
   "execution_count": null,
   "id": "aging-legislature",
   "metadata": {
    "papermill": {
     "duration": 0.030737,
     "end_time": "2022-09-24T00:54:05.889785",
     "exception": false,
     "start_time": "2022-09-24T00:54:05.859048",
     "status": "completed"
    },
    "tags": []
   },
   "outputs": [],
   "source": []
  }
 ],
 "metadata": {
  "kernelspec": {
   "display_name": "Python 3",
   "language": "python",
   "name": "python3"
  },
  "language_info": {
   "codemirror_mode": {
    "name": "ipython",
    "version": 3
   },
   "file_extension": ".py",
   "mimetype": "text/x-python",
   "name": "python",
   "nbconvert_exporter": "python",
   "pygments_lexer": "ipython3",
   "version": "3.6.15"
  },
  "papermill": {
   "duration": 5.936808,
   "end_time": "2022-09-24T00:54:06.239187",
   "environment_variables": {},
   "exception": null,
   "input_path": "2020-03-21-covid19exp.ipynb",
   "output_path": "2020-03-21-covid19exp.ipynb",
   "parameters": {},
   "start_time": "2022-09-24T00:54:00.302379",
   "version": "2.0.0"
  }
 },
 "nbformat": 4,
 "nbformat_minor": 5
}