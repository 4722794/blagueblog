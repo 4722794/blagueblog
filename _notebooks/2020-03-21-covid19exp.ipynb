{
 "cells": [
  {
   "cell_type": "markdown",
   "id": "muslim-click",
   "metadata": {
    "papermill": {
     "duration": 0.040864,
     "end_time": "2021-09-16T00:30:16.687433",
     "exception": false,
     "start_time": "2021-09-16T00:30:16.646569",
     "status": "completed"
    },
    "tags": []
   },
   "source": [
    "# COVID-19 Case Race\n",
    "> A race chart to see rising cases around the world\n",
    "\n",
    "- author: Hargun Oberoi\n",
    "- image: images/covid-overview.png\n",
    "- hide: false\n",
    "- badges: false"
   ]
  },
  {
   "cell_type": "code",
   "execution_count": 1,
   "id": "proof-material",
   "metadata": {
    "execution": {
     "iopub.execute_input": "2021-09-16T00:30:16.771933Z",
     "iopub.status.busy": "2021-09-16T00:30:16.769433Z",
     "iopub.status.idle": "2021-09-16T00:30:17.162063Z",
     "shell.execute_reply": "2021-09-16T00:30:17.161272Z"
    },
    "papermill": {
     "duration": 0.440741,
     "end_time": "2021-09-16T00:30:17.162231",
     "exception": false,
     "start_time": "2021-09-16T00:30:16.721490",
     "status": "completed"
    },
    "tags": []
   },
   "outputs": [],
   "source": [
    "#hide\n",
    "import numpy as np\n",
    "import pandas as pd\n",
    "from jinja2 import Template\n",
    "from IPython.display import HTML"
   ]
  },
  {
   "cell_type": "code",
   "execution_count": 2,
   "id": "developed-terminology",
   "metadata": {
    "execution": {
     "iopub.execute_input": "2021-09-16T00:30:17.237864Z",
     "iopub.status.busy": "2021-09-16T00:30:17.236832Z",
     "iopub.status.idle": "2021-09-16T00:30:17.242242Z",
     "shell.execute_reply": "2021-09-16T00:30:17.243318Z"
    },
    "papermill": {
     "duration": 0.047522,
     "end_time": "2021-09-16T00:30:17.243682",
     "exception": false,
     "start_time": "2021-09-16T00:30:17.196160",
     "status": "completed"
    },
    "tags": []
   },
   "outputs": [],
   "source": [
    "#hide\n",
    "\n",
    "# FETCH\n",
    "base_url = 'https://raw.githubusercontent.com/pratapvardhan/notebooks/master/covid19/'\n",
    "paths = {\n",
    "    'mapping': base_url + 'mapping_countries.csv',\n",
    "    'overview': base_url + 'overview.tpl'\n",
    "}"
   ]
  },
  {
   "cell_type": "code",
   "execution_count": 3,
   "id": "dynamic-saver",
   "metadata": {
    "execution": {
     "iopub.execute_input": "2021-09-16T00:30:17.368376Z",
     "iopub.status.busy": "2021-09-16T00:30:17.367736Z",
     "iopub.status.idle": "2021-09-16T00:30:17.371393Z",
     "shell.execute_reply": "2021-09-16T00:30:17.371873Z"
    },
    "papermill": {
     "duration": 0.060956,
     "end_time": "2021-09-16T00:30:17.372024",
     "exception": false,
     "start_time": "2021-09-16T00:30:17.311068",
     "status": "completed"
    },
    "tags": []
   },
   "outputs": [
    {
     "data": {
      "text/plain": [
       "'https://raw.githubusercontent.com/pratapvardhan/notebooks/master/covid19/mapping_countries.csv'"
      ]
     },
     "execution_count": 3,
     "metadata": {},
     "output_type": "execute_result"
    }
   ],
   "source": [
    "#hide\n",
    "paths['mapping']"
   ]
  },
  {
   "cell_type": "code",
   "execution_count": 4,
   "id": "urban-software",
   "metadata": {
    "execution": {
     "iopub.execute_input": "2021-09-16T00:30:17.445289Z",
     "iopub.status.busy": "2021-09-16T00:30:17.444671Z",
     "iopub.status.idle": "2021-09-16T00:30:17.447336Z",
     "shell.execute_reply": "2021-09-16T00:30:17.446807Z"
    },
    "papermill": {
     "duration": 0.041654,
     "end_time": "2021-09-16T00:30:17.447478",
     "exception": false,
     "start_time": "2021-09-16T00:30:17.405824",
     "status": "completed"
    },
    "tags": []
   },
   "outputs": [],
   "source": [
    "#hide\n",
    "def get_mappings(url):\n",
    "    df = pd.read_csv(url)\n",
    "    return {\n",
    "        'df': df,\n",
    "        'replace.country': dict(df.dropna(subset=['Name']).set_index('Country')['Name']),\n",
    "        'map.continent': dict(df.set_index('Name')['Continent'])\n",
    "    }"
   ]
  },
  {
   "cell_type": "code",
   "execution_count": 5,
   "id": "intimate-machinery",
   "metadata": {
    "execution": {
     "iopub.execute_input": "2021-09-16T00:30:17.522397Z",
     "iopub.status.busy": "2021-09-16T00:30:17.521757Z",
     "iopub.status.idle": "2021-09-16T00:30:17.566219Z",
     "shell.execute_reply": "2021-09-16T00:30:17.565682Z"
    },
    "papermill": {
     "duration": 0.08425,
     "end_time": "2021-09-16T00:30:17.566362",
     "exception": false,
     "start_time": "2021-09-16T00:30:17.482112",
     "status": "completed"
    },
    "tags": []
   },
   "outputs": [],
   "source": [
    "#hide\n",
    "mapping = get_mappings(paths['mapping'])"
   ]
  },
  {
   "cell_type": "code",
   "execution_count": 6,
   "id": "certified-tactics",
   "metadata": {
    "execution": {
     "iopub.execute_input": "2021-09-16T00:30:17.640106Z",
     "iopub.status.busy": "2021-09-16T00:30:17.639492Z",
     "iopub.status.idle": "2021-09-16T00:30:17.642249Z",
     "shell.execute_reply": "2021-09-16T00:30:17.642731Z"
    },
    "papermill": {
     "duration": 0.042287,
     "end_time": "2021-09-16T00:30:17.642906",
     "exception": false,
     "start_time": "2021-09-16T00:30:17.600619",
     "status": "completed"
    },
    "tags": []
   },
   "outputs": [],
   "source": [
    "#hide\n",
    "def get_template(path):\n",
    "    from urllib.parse import urlparse\n",
    "    if bool(urlparse(path).netloc):\n",
    "        from urllib.request import urlopen\n",
    "        return urlopen(path).read().decode('utf8')\n",
    "    return open(path).read()"
   ]
  },
  {
   "cell_type": "code",
   "execution_count": 7,
   "id": "realistic-blast",
   "metadata": {
    "execution": {
     "iopub.execute_input": "2021-09-16T00:30:17.716338Z",
     "iopub.status.busy": "2021-09-16T00:30:17.715722Z",
     "iopub.status.idle": "2021-09-16T00:30:17.717920Z",
     "shell.execute_reply": "2021-09-16T00:30:17.717334Z"
    },
    "papermill": {
     "duration": 0.041255,
     "end_time": "2021-09-16T00:30:17.718048",
     "exception": false,
     "start_time": "2021-09-16T00:30:17.676793",
     "status": "completed"
    },
    "tags": []
   },
   "outputs": [],
   "source": [
    "#hide\n",
    "def get_frame(name):\n",
    "    url = (\n",
    "        'https://raw.githubusercontent.com/CSSEGISandData/COVID-19/master/csse_covid_19_data/'\n",
    "        f'csse_covid_19_time_series/time_series_covid19_{name}_global.csv')\n",
    "    df = pd.read_csv(url)\n",
    "    # rename countries\n",
    "    df['Country/Region'] = df['Country/Region'].replace(mapping['replace.country'])\n",
    "    return df"
   ]
  },
  {
   "cell_type": "code",
   "execution_count": 8,
   "id": "affiliated-characterization",
   "metadata": {
    "execution": {
     "iopub.execute_input": "2021-09-16T00:30:17.795208Z",
     "iopub.status.busy": "2021-09-16T00:30:17.794512Z",
     "iopub.status.idle": "2021-09-16T00:30:17.796972Z",
     "shell.execute_reply": "2021-09-16T00:30:17.797606Z"
    },
    "papermill": {
     "duration": 0.045648,
     "end_time": "2021-09-16T00:30:17.797782",
     "exception": false,
     "start_time": "2021-09-16T00:30:17.752134",
     "status": "completed"
    },
    "tags": []
   },
   "outputs": [],
   "source": [
    "#hide\n",
    "def get_dates(df):\n",
    "    dt_cols = df.columns[~df.columns.isin(['Province/State', 'Country/Region', 'Lat', 'Long'])]\n",
    "    LAST_DATE_I = -1\n",
    "    # sometimes last column may be empty, then go backwards\n",
    "    for i in range(-1, -len(dt_cols), -1):\n",
    "        if not df[dt_cols[i]].fillna(0).eq(0).all():\n",
    "            LAST_DATE_I = i\n",
    "            break\n",
    "    return LAST_DATE_I, dt_cols"
   ]
  },
  {
   "cell_type": "code",
   "execution_count": 9,
   "id": "recent-optimization",
   "metadata": {
    "execution": {
     "iopub.execute_input": "2021-09-16T00:30:17.873247Z",
     "iopub.status.busy": "2021-09-16T00:30:17.872589Z",
     "iopub.status.idle": "2021-09-16T00:30:18.235618Z",
     "shell.execute_reply": "2021-09-16T00:30:18.234301Z"
    },
    "papermill": {
     "duration": 0.404074,
     "end_time": "2021-09-16T00:30:18.235765",
     "exception": false,
     "start_time": "2021-09-16T00:30:17.831691",
     "status": "completed"
    },
    "tags": []
   },
   "outputs": [],
   "source": [
    "#hide\n",
    "COL_REGION = 'Country/Region'\n",
    "# Confirmed, Recovered, Deaths\n",
    "df = get_frame('confirmed')\n",
    "# dft_: timeseries, dfc_: today country agg\n",
    "dft_cases = df\n",
    "dft_deaths = get_frame('deaths')\n",
    "dft_recovered = get_frame('recovered')\n",
    "LAST_DATE_I, dt_cols = get_dates(df)"
   ]
  },
  {
   "cell_type": "code",
   "execution_count": 10,
   "id": "absolute-copper",
   "metadata": {
    "execution": {
     "iopub.execute_input": "2021-09-16T00:30:18.319820Z",
     "iopub.status.busy": "2021-09-16T00:30:18.318146Z",
     "iopub.status.idle": "2021-09-16T00:30:18.320923Z",
     "shell.execute_reply": "2021-09-16T00:30:18.321390Z"
    },
    "papermill": {
     "duration": 0.043343,
     "end_time": "2021-09-16T00:30:18.321538",
     "exception": false,
     "start_time": "2021-09-16T00:30:18.278195",
     "status": "completed"
    },
    "tags": []
   },
   "outputs": [],
   "source": [
    "#hide\n",
    "LAST_DATE_I, dt_cols = get_dates(df)\n",
    "dt_today =dt_cols[LAST_DATE_I]\n",
    "# dt_5day = dt_cols[LAST_DATE_I - 5]\n",
    "dt_yday = dt_cols[LAST_DATE_I - 1]"
   ]
  },
  {
   "cell_type": "code",
   "execution_count": 11,
   "id": "restricted-sheriff",
   "metadata": {
    "execution": {
     "iopub.execute_input": "2021-09-16T00:30:18.395816Z",
     "iopub.status.busy": "2021-09-16T00:30:18.395202Z",
     "iopub.status.idle": "2021-09-16T00:30:18.407491Z",
     "shell.execute_reply": "2021-09-16T00:30:18.407982Z"
    },
    "papermill": {
     "duration": 0.052756,
     "end_time": "2021-09-16T00:30:18.408137",
     "exception": false,
     "start_time": "2021-09-16T00:30:18.355381",
     "status": "completed"
    },
    "tags": []
   },
   "outputs": [],
   "source": [
    "#hide\n",
    "dfc_cases = dft_cases.groupby(COL_REGION)[dt_today].sum()\n",
    "dfc_deaths = dft_deaths.groupby(COL_REGION)[dt_today].sum()\n",
    "# dfp_cases = dft_cases.groupby(COL_REGION)[dt_5day].sum()\n",
    "# dfp_deaths = dft_deaths.groupby(COL_REGION)[dt_5day].sum()\n",
    "dfp_cases = dft_cases.groupby(COL_REGION)[dt_yday].sum()\n",
    "dfp_deaths = dft_deaths.groupby(COL_REGION)[dt_yday].sum()"
   ]
  },
  {
   "cell_type": "code",
   "execution_count": 12,
   "id": "deluxe-hepatitis",
   "metadata": {
    "execution": {
     "iopub.execute_input": "2021-09-16T00:30:18.485793Z",
     "iopub.status.busy": "2021-09-16T00:30:18.485178Z",
     "iopub.status.idle": "2021-09-16T00:30:18.490377Z",
     "shell.execute_reply": "2021-09-16T00:30:18.489772Z"
    },
    "papermill": {
     "duration": 0.048342,
     "end_time": "2021-09-16T00:30:18.490505",
     "exception": false,
     "start_time": "2021-09-16T00:30:18.442163",
     "status": "completed"
    },
    "tags": []
   },
   "outputs": [],
   "source": [
    "#hide\n",
    "df_table = (pd.DataFrame(dict(Cases = dfc_cases, Deaths = dfc_deaths, PCases = dfp_cases, PDeaths = dfp_deaths))\n",
    "            .sort_values(by = ['Cases','Deaths'], ascending = [False, False])\n",
    "            .reset_index())"
   ]
  },
  {
   "cell_type": "code",
   "execution_count": 13,
   "id": "educational-chancellor",
   "metadata": {
    "execution": {
     "iopub.execute_input": "2021-09-16T00:30:18.580484Z",
     "iopub.status.busy": "2021-09-16T00:30:18.579840Z",
     "iopub.status.idle": "2021-09-16T00:30:18.591791Z",
     "shell.execute_reply": "2021-09-16T00:30:18.592280Z"
    },
    "papermill": {
     "duration": 0.068111,
     "end_time": "2021-09-16T00:30:18.592435",
     "exception": false,
     "start_time": "2021-09-16T00:30:18.524324",
     "status": "completed"
    },
    "tags": []
   },
   "outputs": [
    {
     "data": {
      "text/html": [
       "<div>\n",
       "<style scoped>\n",
       "    .dataframe tbody tr th:only-of-type {\n",
       "        vertical-align: middle;\n",
       "    }\n",
       "\n",
       "    .dataframe tbody tr th {\n",
       "        vertical-align: top;\n",
       "    }\n",
       "\n",
       "    .dataframe thead th {\n",
       "        text-align: right;\n",
       "    }\n",
       "</style>\n",
       "<table border=\"1\" class=\"dataframe\">\n",
       "  <thead>\n",
       "    <tr style=\"text-align: right;\">\n",
       "      <th></th>\n",
       "      <th>Country/Region</th>\n",
       "      <th>Cases</th>\n",
       "      <th>Deaths</th>\n",
       "      <th>PCases</th>\n",
       "      <th>PDeaths</th>\n",
       "      <th>Cases (+)</th>\n",
       "      <th>Deaths (+)</th>\n",
       "      <th>Fatality Rate</th>\n",
       "      <th>Continent</th>\n",
       "    </tr>\n",
       "  </thead>\n",
       "  <tbody>\n",
       "    <tr>\n",
       "      <th>0</th>\n",
       "      <td>US</td>\n",
       "      <td>41365161</td>\n",
       "      <td>663929</td>\n",
       "      <td>41221266</td>\n",
       "      <td>662106</td>\n",
       "      <td>143895</td>\n",
       "      <td>1823</td>\n",
       "      <td>1.61</td>\n",
       "      <td>North America</td>\n",
       "    </tr>\n",
       "    <tr>\n",
       "      <th>1</th>\n",
       "      <td>India</td>\n",
       "      <td>33316755</td>\n",
       "      <td>443497</td>\n",
       "      <td>33289579</td>\n",
       "      <td>443213</td>\n",
       "      <td>27176</td>\n",
       "      <td>284</td>\n",
       "      <td>1.33</td>\n",
       "      <td>Asia</td>\n",
       "    </tr>\n",
       "    <tr>\n",
       "      <th>2</th>\n",
       "      <td>Brazil</td>\n",
       "      <td>21019830</td>\n",
       "      <td>587797</td>\n",
       "      <td>21006424</td>\n",
       "      <td>587066</td>\n",
       "      <td>13406</td>\n",
       "      <td>731</td>\n",
       "      <td>2.80</td>\n",
       "      <td>South America</td>\n",
       "    </tr>\n",
       "    <tr>\n",
       "      <th>3</th>\n",
       "      <td>United Kingdom</td>\n",
       "      <td>7316931</td>\n",
       "      <td>134774</td>\n",
       "      <td>7290168</td>\n",
       "      <td>134587</td>\n",
       "      <td>26763</td>\n",
       "      <td>187</td>\n",
       "      <td>1.84</td>\n",
       "      <td>Europe</td>\n",
       "    </tr>\n",
       "    <tr>\n",
       "      <th>4</th>\n",
       "      <td>Russia</td>\n",
       "      <td>7072825</td>\n",
       "      <td>190793</td>\n",
       "      <td>7055296</td>\n",
       "      <td>190031</td>\n",
       "      <td>17529</td>\n",
       "      <td>762</td>\n",
       "      <td>2.70</td>\n",
       "      <td>Europe</td>\n",
       "    </tr>\n",
       "  </tbody>\n",
       "</table>\n",
       "</div>"
      ],
      "text/plain": [
       "   Country/Region     Cases  Deaths    PCases  PDeaths  Cases (+)  Deaths (+)  \\\n",
       "0              US  41365161  663929  41221266   662106     143895        1823   \n",
       "1           India  33316755  443497  33289579   443213      27176         284   \n",
       "2          Brazil  21019830  587797  21006424   587066      13406         731   \n",
       "3  United Kingdom   7316931  134774   7290168   134587      26763         187   \n",
       "4          Russia   7072825  190793   7055296   190031      17529         762   \n",
       "\n",
       "   Fatality Rate      Continent  \n",
       "0           1.61  North America  \n",
       "1           1.33           Asia  \n",
       "2           2.80  South America  \n",
       "3           1.84         Europe  \n",
       "4           2.70         Europe  "
      ]
     },
     "execution_count": 13,
     "metadata": {},
     "output_type": "execute_result"
    }
   ],
   "source": [
    "#hide\n",
    "for c in 'Cases, Deaths'.split(', '):\n",
    "    df_table[f'{c} (+)'] = (df_table[c] - df_table[f'P{c}']).clip(0)\n",
    "    #Clip ça veut dire, les chiffres negatif sont interdit\n",
    "df_table['Fatality Rate'] = (100* df_table['Deaths']/ df_table['Cases']).round(2)\n",
    "df_table['Continent'] = df_table['Country/Region'].map(mapping['map.continent'])\n",
    "df_table.head(5)"
   ]
  },
  {
   "cell_type": "code",
   "execution_count": 14,
   "id": "aboriginal-bulgaria",
   "metadata": {
    "execution": {
     "iopub.execute_input": "2021-09-16T00:30:18.667697Z",
     "iopub.status.busy": "2021-09-16T00:30:18.667064Z",
     "iopub.status.idle": "2021-09-16T00:30:18.670730Z",
     "shell.execute_reply": "2021-09-16T00:30:18.671211Z"
    },
    "papermill": {
     "duration": 0.044388,
     "end_time": "2021-09-16T00:30:18.671369",
     "exception": false,
     "start_time": "2021-09-16T00:30:18.626981",
     "status": "completed"
    },
    "tags": []
   },
   "outputs": [],
   "source": [
    "#hide\n",
    "#delete problematic countries from table\n",
    "df_table = df_table[~df_table['Country/Region'].isin(['Cape Verde', 'Cruise Ship', 'Kosovo'])]"
   ]
  },
  {
   "cell_type": "code",
   "execution_count": 15,
   "id": "fantastic-effect",
   "metadata": {
    "execution": {
     "iopub.execute_input": "2021-09-16T00:30:18.747983Z",
     "iopub.status.busy": "2021-09-16T00:30:18.747365Z",
     "iopub.status.idle": "2021-09-16T00:30:18.771644Z",
     "shell.execute_reply": "2021-09-16T00:30:18.772441Z"
    },
    "papermill": {
     "duration": 0.066998,
     "end_time": "2021-09-16T00:30:18.772648",
     "exception": false,
     "start_time": "2021-09-16T00:30:18.705650",
     "status": "completed"
    },
    "tags": []
   },
   "outputs": [
    {
     "data": {
      "text/html": [
       "<div>\n",
       "<style scoped>\n",
       "    .dataframe tbody tr th:only-of-type {\n",
       "        vertical-align: middle;\n",
       "    }\n",
       "\n",
       "    .dataframe tbody tr th {\n",
       "        vertical-align: top;\n",
       "    }\n",
       "\n",
       "    .dataframe thead th {\n",
       "        text-align: right;\n",
       "    }\n",
       "</style>\n",
       "<table border=\"1\" class=\"dataframe\">\n",
       "  <thead>\n",
       "    <tr style=\"text-align: right;\">\n",
       "      <th></th>\n",
       "      <th>Country/Region</th>\n",
       "      <th>Cases</th>\n",
       "      <th>Deaths</th>\n",
       "      <th>PCases</th>\n",
       "      <th>PDeaths</th>\n",
       "      <th>Cases (+)</th>\n",
       "      <th>Deaths (+)</th>\n",
       "      <th>Fatality Rate</th>\n",
       "      <th>Continent</th>\n",
       "    </tr>\n",
       "  </thead>\n",
       "  <tbody>\n",
       "    <tr>\n",
       "      <th>0</th>\n",
       "      <td>US</td>\n",
       "      <td>41365161</td>\n",
       "      <td>663929</td>\n",
       "      <td>41221266</td>\n",
       "      <td>662106</td>\n",
       "      <td>143895</td>\n",
       "      <td>1823</td>\n",
       "      <td>1.6</td>\n",
       "      <td>North America</td>\n",
       "    </tr>\n",
       "    <tr>\n",
       "      <th>1</th>\n",
       "      <td>India</td>\n",
       "      <td>33316755</td>\n",
       "      <td>443497</td>\n",
       "      <td>33289579</td>\n",
       "      <td>443213</td>\n",
       "      <td>27176</td>\n",
       "      <td>284</td>\n",
       "      <td>1.3</td>\n",
       "      <td>Asia</td>\n",
       "    </tr>\n",
       "    <tr>\n",
       "      <th>2</th>\n",
       "      <td>Brazil</td>\n",
       "      <td>21019830</td>\n",
       "      <td>587797</td>\n",
       "      <td>21006424</td>\n",
       "      <td>587066</td>\n",
       "      <td>13406</td>\n",
       "      <td>731</td>\n",
       "      <td>2.8</td>\n",
       "      <td>South America</td>\n",
       "    </tr>\n",
       "    <tr>\n",
       "      <th>3</th>\n",
       "      <td>United Kingdom</td>\n",
       "      <td>7316931</td>\n",
       "      <td>134774</td>\n",
       "      <td>7290168</td>\n",
       "      <td>134587</td>\n",
       "      <td>26763</td>\n",
       "      <td>187</td>\n",
       "      <td>1.8</td>\n",
       "      <td>Europe</td>\n",
       "    </tr>\n",
       "    <tr>\n",
       "      <th>4</th>\n",
       "      <td>Russia</td>\n",
       "      <td>7072825</td>\n",
       "      <td>190793</td>\n",
       "      <td>7055296</td>\n",
       "      <td>190031</td>\n",
       "      <td>17529</td>\n",
       "      <td>762</td>\n",
       "      <td>2.7</td>\n",
       "      <td>Europe</td>\n",
       "    </tr>\n",
       "  </tbody>\n",
       "</table>\n",
       "</div>"
      ],
      "text/plain": [
       "   Country/Region     Cases  Deaths    PCases  PDeaths  Cases (+)  Deaths (+)  \\\n",
       "0              US  41365161  663929  41221266   662106     143895        1823   \n",
       "1           India  33316755  443497  33289579   443213      27176         284   \n",
       "2          Brazil  21019830  587797  21006424   587066      13406         731   \n",
       "3  United Kingdom   7316931  134774   7290168   134587      26763         187   \n",
       "4          Russia   7072825  190793   7055296   190031      17529         762   \n",
       "\n",
       "   Fatality Rate      Continent  \n",
       "0            1.6  North America  \n",
       "1            1.3           Asia  \n",
       "2            2.8  South America  \n",
       "3            1.8         Europe  \n",
       "4            2.7         Europe  "
      ]
     },
     "execution_count": 15,
     "metadata": {},
     "output_type": "execute_result"
    }
   ],
   "source": [
    "#hide\n",
    "df_table = (pd.DataFrame(dict(Cases=dfc_cases, Deaths=dfc_deaths, PCases=dfp_cases, PDeaths=dfp_deaths))\n",
    "             .sort_values(by=['Cases', 'Deaths'], ascending=[False, False])\n",
    "             .reset_index())\n",
    "df_table.rename(columns={'index': 'Country/Region'}, inplace=True)\n",
    "for c in 'Cases, Deaths'.split(', '):\n",
    "    df_table[f'{c} (+)'] = (df_table[c] - df_table[f'P{c}']).clip(0)  # DATA BUG\n",
    "df_table['Fatality Rate'] = (100 * df_table['Deaths'] / df_table['Cases']).round(1)\n",
    "df_table['Continent'] = df_table['Country/Region'].map(mapping['map.continent'])\n",
    "df_table.head(5)"
   ]
  },
  {
   "cell_type": "code",
   "execution_count": 16,
   "id": "fewer-occasion",
   "metadata": {
    "execution": {
     "iopub.execute_input": "2021-09-16T00:30:18.851038Z",
     "iopub.status.busy": "2021-09-16T00:30:18.850385Z",
     "iopub.status.idle": "2021-09-16T00:30:18.852305Z",
     "shell.execute_reply": "2021-09-16T00:30:18.852779Z"
    },
    "papermill": {
     "duration": 0.043164,
     "end_time": "2021-09-16T00:30:18.852927",
     "exception": false,
     "start_time": "2021-09-16T00:30:18.809763",
     "status": "completed"
    },
    "tags": []
   },
   "outputs": [],
   "source": [
    "#hide\n",
    "#delete problematic countries from table\n",
    "df_table = df_table[~df_table['Country/Region'].isin(['Cape Verde', 'Cruise Ship', 'Kosovo'])]"
   ]
  },
  {
   "cell_type": "code",
   "execution_count": 17,
   "id": "related-center",
   "metadata": {
    "execution": {
     "iopub.execute_input": "2021-09-16T00:30:18.937593Z",
     "iopub.status.busy": "2021-09-16T00:30:18.936964Z",
     "iopub.status.idle": "2021-09-16T00:30:18.946511Z",
     "shell.execute_reply": "2021-09-16T00:30:18.946004Z"
    },
    "papermill": {
     "duration": 0.058097,
     "end_time": "2021-09-16T00:30:18.946650",
     "exception": false,
     "start_time": "2021-09-16T00:30:18.888553",
     "status": "completed"
    },
    "tags": []
   },
   "outputs": [],
   "source": [
    "#hide\n",
    "metrics = [df_table.columns[index] for index in [1,2,5,6]]\n",
    "# s_china = df_table[df_table['Country/Region'].eq('China')][metrics].sum().add_prefix('China ')\n",
    "s_us = df_table[df_table['Country/Region'].eq('US')][metrics].sum().add_prefix('US ')\n",
    "s_eu = df_table[df_table['Continent'].eq('Europe')][metrics].sum().add_prefix('EU ')\n",
    "s_ind = df_table[df_table['Country/Region'].eq('India')][metrics].sum().add_prefix('India ')\n",
    "summary = {'updated': pd.to_datetime(dt_today), 'since': pd.to_datetime(dt_yday)}\n",
    "summary = {'updated': pd.to_datetime(dt_today), 'since': pd.to_datetime(dt_yday)}\n",
    "summary = {**summary, **df_table[metrics].sum(), **s_ind, **s_us, **s_eu}"
   ]
  },
  {
   "cell_type": "code",
   "execution_count": 18,
   "id": "engaging-syndrome",
   "metadata": {
    "execution": {
     "iopub.execute_input": "2021-09-16T00:30:19.022360Z",
     "iopub.status.busy": "2021-09-16T00:30:19.021733Z",
     "iopub.status.idle": "2021-09-16T00:30:19.040707Z",
     "shell.execute_reply": "2021-09-16T00:30:19.040195Z"
    },
    "papermill": {
     "duration": 0.058948,
     "end_time": "2021-09-16T00:30:19.040845",
     "exception": false,
     "start_time": "2021-09-16T00:30:18.981897",
     "status": "completed"
    },
    "tags": []
   },
   "outputs": [],
   "source": [
    "#hide\n",
    "dft_ct_new_cases = dft_cases.groupby(COL_REGION)[dt_cols].sum().diff(axis=1).fillna(0).astype(int)"
   ]
  },
  {
   "cell_type": "code",
   "execution_count": 19,
   "id": "neutral-assignment",
   "metadata": {
    "execution": {
     "iopub.execute_input": "2021-09-16T00:30:19.117590Z",
     "iopub.status.busy": "2021-09-16T00:30:19.116977Z",
     "iopub.status.idle": "2021-09-16T00:30:19.119378Z",
     "shell.execute_reply": "2021-09-16T00:30:19.118886Z"
    },
    "papermill": {
     "duration": 0.043513,
     "end_time": "2021-09-16T00:30:19.119509",
     "exception": false,
     "start_time": "2021-09-16T00:30:19.075996",
     "status": "completed"
    },
    "tags": []
   },
   "outputs": [],
   "source": [
    "#hide\n",
    "everydaycases = dft_ct_new_cases.cumsum(axis=1)"
   ]
  },
  {
   "cell_type": "code",
   "execution_count": 20,
   "id": "parliamentary-calgary",
   "metadata": {
    "execution": {
     "iopub.execute_input": "2021-09-16T00:30:19.195524Z",
     "iopub.status.busy": "2021-09-16T00:30:19.194795Z",
     "iopub.status.idle": "2021-09-16T00:30:19.963604Z",
     "shell.execute_reply": "2021-09-16T00:30:19.963075Z"
    },
    "papermill": {
     "duration": 0.809187,
     "end_time": "2021-09-16T00:30:19.963745",
     "exception": false,
     "start_time": "2021-09-16T00:30:19.154558",
     "status": "completed"
    },
    "tags": []
   },
   "outputs": [],
   "source": [
    "#hide\n",
    "import pandas as pd\n",
    "import matplotlib.pyplot as plt\n",
    "import matplotlib.ticker as ticker\n",
    "import matplotlib.animation as animation\n",
    "from IPython.display import HTML"
   ]
  },
  {
   "cell_type": "code",
   "execution_count": 21,
   "id": "lasting-extraction",
   "metadata": {
    "execution": {
     "iopub.execute_input": "2021-09-16T00:30:20.039865Z",
     "iopub.status.busy": "2021-09-16T00:30:20.039239Z",
     "iopub.status.idle": "2021-09-16T00:30:20.048513Z",
     "shell.execute_reply": "2021-09-16T00:30:20.049007Z"
    },
    "papermill": {
     "duration": 0.0505,
     "end_time": "2021-09-16T00:30:20.049159",
     "exception": false,
     "start_time": "2021-09-16T00:30:19.998659",
     "status": "completed"
    },
    "tags": []
   },
   "outputs": [],
   "source": [
    "#hide\n",
    "t = everydaycases.stack()"
   ]
  },
  {
   "cell_type": "code",
   "execution_count": 22,
   "id": "premier-sleeve",
   "metadata": {
    "execution": {
     "iopub.execute_input": "2021-09-16T00:30:20.124084Z",
     "iopub.status.busy": "2021-09-16T00:30:20.123471Z",
     "iopub.status.idle": "2021-09-16T00:30:20.134704Z",
     "shell.execute_reply": "2021-09-16T00:30:20.135236Z"
    },
    "papermill": {
     "duration": 0.050836,
     "end_time": "2021-09-16T00:30:20.135397",
     "exception": false,
     "start_time": "2021-09-16T00:30:20.084561",
     "status": "completed"
    },
    "tags": []
   },
   "outputs": [],
   "source": [
    "#hide\n",
    "g = t.reset_index(['Country/Region'])"
   ]
  },
  {
   "cell_type": "code",
   "execution_count": 23,
   "id": "distributed-pittsburgh",
   "metadata": {
    "execution": {
     "iopub.execute_input": "2021-09-16T00:30:20.212193Z",
     "iopub.status.busy": "2021-09-16T00:30:20.211559Z",
     "iopub.status.idle": "2021-09-16T00:30:20.214736Z",
     "shell.execute_reply": "2021-09-16T00:30:20.215275Z"
    },
    "papermill": {
     "duration": 0.045238,
     "end_time": "2021-09-16T00:30:20.215430",
     "exception": false,
     "start_time": "2021-09-16T00:30:20.170192",
     "status": "completed"
    },
    "tags": []
   },
   "outputs": [],
   "source": [
    "#hide\n",
    "g.index.name = 'date'"
   ]
  },
  {
   "cell_type": "code",
   "execution_count": 24,
   "id": "naked-donor",
   "metadata": {
    "execution": {
     "iopub.execute_input": "2021-09-16T00:30:20.291989Z",
     "iopub.status.busy": "2021-09-16T00:30:20.291359Z",
     "iopub.status.idle": "2021-09-16T00:30:20.294768Z",
     "shell.execute_reply": "2021-09-16T00:30:20.294262Z"
    },
    "papermill": {
     "duration": 0.044451,
     "end_time": "2021-09-16T00:30:20.294920",
     "exception": false,
     "start_time": "2021-09-16T00:30:20.250469",
     "status": "completed"
    },
    "tags": []
   },
   "outputs": [],
   "source": [
    "# #hide\n",
    "# g = g.reset_index(['date'])"
   ]
  },
  {
   "cell_type": "code",
   "execution_count": 25,
   "id": "incomplete-mustang",
   "metadata": {
    "execution": {
     "iopub.execute_input": "2021-09-16T00:30:20.369569Z",
     "iopub.status.busy": "2021-09-16T00:30:20.368950Z",
     "iopub.status.idle": "2021-09-16T00:30:20.371230Z",
     "shell.execute_reply": "2021-09-16T00:30:20.371798Z"
    },
    "papermill": {
     "duration": 0.041801,
     "end_time": "2021-09-16T00:30:20.371952",
     "exception": false,
     "start_time": "2021-09-16T00:30:20.330151",
     "status": "completed"
    },
    "tags": []
   },
   "outputs": [],
   "source": [
    "#hide\n",
    "# g.head()"
   ]
  },
  {
   "cell_type": "code",
   "execution_count": 26,
   "id": "specific-kruger",
   "metadata": {
    "execution": {
     "iopub.execute_input": "2021-09-16T00:30:20.446312Z",
     "iopub.status.busy": "2021-09-16T00:30:20.445693Z",
     "iopub.status.idle": "2021-09-16T00:30:20.448313Z",
     "shell.execute_reply": "2021-09-16T00:30:20.448806Z"
    },
    "papermill": {
     "duration": 0.04197,
     "end_time": "2021-09-16T00:30:20.448958",
     "exception": false,
     "start_time": "2021-09-16T00:30:20.406988",
     "status": "completed"
    },
    "tags": []
   },
   "outputs": [],
   "source": [
    "#hide\n",
    "# g.columns = ['date','country','cases']"
   ]
  },
  {
   "cell_type": "code",
   "execution_count": 27,
   "id": "tender-conversion",
   "metadata": {
    "execution": {
     "iopub.execute_input": "2021-09-16T00:30:20.523074Z",
     "iopub.status.busy": "2021-09-16T00:30:20.522424Z",
     "iopub.status.idle": "2021-09-16T00:30:20.525617Z",
     "shell.execute_reply": "2021-09-16T00:30:20.526095Z"
    },
    "papermill": {
     "duration": 0.042412,
     "end_time": "2021-09-16T00:30:20.526242",
     "exception": false,
     "start_time": "2021-09-16T00:30:20.483830",
     "status": "completed"
    },
    "tags": []
   },
   "outputs": [],
   "source": [
    "#hide\n",
    "# g['continent'] = g.country"
   ]
  },
  {
   "cell_type": "code",
   "execution_count": 28,
   "id": "substantial-wilderness",
   "metadata": {
    "execution": {
     "iopub.execute_input": "2021-09-16T00:30:20.600804Z",
     "iopub.status.busy": "2021-09-16T00:30:20.600103Z",
     "iopub.status.idle": "2021-09-16T00:30:20.602861Z",
     "shell.execute_reply": "2021-09-16T00:30:20.603443Z"
    },
    "papermill": {
     "duration": 0.042223,
     "end_time": "2021-09-16T00:30:20.603595",
     "exception": false,
     "start_time": "2021-09-16T00:30:20.561372",
     "status": "completed"
    },
    "tags": []
   },
   "outputs": [],
   "source": [
    "#hide\n",
    "# cols = list(g.columns.values)"
   ]
  },
  {
   "cell_type": "code",
   "execution_count": 29,
   "id": "solved-farming",
   "metadata": {
    "execution": {
     "iopub.execute_input": "2021-09-16T00:30:20.698362Z",
     "iopub.status.busy": "2021-09-16T00:30:20.697744Z",
     "iopub.status.idle": "2021-09-16T00:30:20.700579Z",
     "shell.execute_reply": "2021-09-16T00:30:20.700091Z"
    },
    "papermill": {
     "duration": 0.043552,
     "end_time": "2021-09-16T00:30:20.700712",
     "exception": false,
     "start_time": "2021-09-16T00:30:20.657160",
     "status": "completed"
    },
    "tags": []
   },
   "outputs": [],
   "source": [
    "#hide\n",
    "# cols.insert(0, cols.pop())"
   ]
  },
  {
   "cell_type": "code",
   "execution_count": 30,
   "id": "executed-adoption",
   "metadata": {
    "execution": {
     "iopub.execute_input": "2021-09-16T00:30:20.775238Z",
     "iopub.status.busy": "2021-09-16T00:30:20.774599Z",
     "iopub.status.idle": "2021-09-16T00:30:20.777746Z",
     "shell.execute_reply": "2021-09-16T00:30:20.777258Z"
    },
    "papermill": {
     "duration": 0.04208,
     "end_time": "2021-09-16T00:30:20.777877",
     "exception": false,
     "start_time": "2021-09-16T00:30:20.735797",
     "status": "completed"
    },
    "tags": []
   },
   "outputs": [],
   "source": [
    "#hide\n",
    "# g = g[cols]"
   ]
  },
  {
   "cell_type": "code",
   "execution_count": 31,
   "id": "subject-dublin",
   "metadata": {
    "execution": {
     "iopub.execute_input": "2021-09-16T00:30:20.852137Z",
     "iopub.status.busy": "2021-09-16T00:30:20.851519Z",
     "iopub.status.idle": "2021-09-16T00:30:20.854950Z",
     "shell.execute_reply": "2021-09-16T00:30:20.854442Z"
    },
    "papermill": {
     "duration": 0.042327,
     "end_time": "2021-09-16T00:30:20.855083",
     "exception": false,
     "start_time": "2021-09-16T00:30:20.812756",
     "status": "completed"
    },
    "tags": []
   },
   "outputs": [],
   "source": [
    "#hide\n",
    "# g['continent'] = g['continent'].map(mapping['map.continent'])"
   ]
  },
  {
   "cell_type": "code",
   "execution_count": 32,
   "id": "freelance-scout",
   "metadata": {
    "execution": {
     "iopub.execute_input": "2021-09-16T00:30:20.929791Z",
     "iopub.status.busy": "2021-09-16T00:30:20.929167Z",
     "iopub.status.idle": "2021-09-16T00:30:20.931145Z",
     "shell.execute_reply": "2021-09-16T00:30:20.931624Z"
    },
    "papermill": {
     "duration": 0.041138,
     "end_time": "2021-09-16T00:30:20.931770",
     "exception": false,
     "start_time": "2021-09-16T00:30:20.890632",
     "status": "completed"
    },
    "tags": []
   },
   "outputs": [],
   "source": [
    "#hide\n",
    "# g.head()"
   ]
  },
  {
   "cell_type": "code",
   "execution_count": 33,
   "id": "limited-engine",
   "metadata": {
    "execution": {
     "iopub.execute_input": "2021-09-16T00:30:21.010027Z",
     "iopub.status.busy": "2021-09-16T00:30:21.008958Z",
     "iopub.status.idle": "2021-09-16T00:30:21.013024Z",
     "shell.execute_reply": "2021-09-16T00:30:21.012405Z"
    },
    "papermill": {
     "duration": 0.046622,
     "end_time": "2021-09-16T00:30:21.013153",
     "exception": false,
     "start_time": "2021-09-16T00:30:20.966531",
     "status": "completed"
    },
    "tags": []
   },
   "outputs": [],
   "source": [
    "# hide\n",
    "# g['date'] = g['date'].astype('datetime64[ns]')"
   ]
  },
  {
   "cell_type": "code",
   "execution_count": 34,
   "id": "sophisticated-supervisor",
   "metadata": {
    "execution": {
     "iopub.execute_input": "2021-09-16T00:30:21.087093Z",
     "iopub.status.busy": "2021-09-16T00:30:21.086453Z",
     "iopub.status.idle": "2021-09-16T00:30:21.088858Z",
     "shell.execute_reply": "2021-09-16T00:30:21.088349Z"
    },
    "papermill": {
     "duration": 0.040816,
     "end_time": "2021-09-16T00:30:21.088985",
     "exception": false,
     "start_time": "2021-09-16T00:30:21.048169",
     "status": "completed"
    },
    "tags": []
   },
   "outputs": [],
   "source": [
    "#hide\n",
    "# g['date'] = g.date.dt.dayofyear"
   ]
  },
  {
   "cell_type": "code",
   "execution_count": 35,
   "id": "inside-dubai",
   "metadata": {
    "execution": {
     "iopub.execute_input": "2021-09-16T00:30:21.165844Z",
     "iopub.status.busy": "2021-09-16T00:30:21.165223Z",
     "iopub.status.idle": "2021-09-16T00:30:21.167950Z",
     "shell.execute_reply": "2021-09-16T00:30:21.168461Z"
    },
    "papermill": {
     "duration": 0.044845,
     "end_time": "2021-09-16T00:30:21.168613",
     "exception": false,
     "start_time": "2021-09-16T00:30:21.123768",
     "status": "completed"
    },
    "tags": []
   },
   "outputs": [],
   "source": [
    "#hide\n",
    "# g = g.rename(columns= {'continent':'group','country':'name','cases':'value'})"
   ]
  },
  {
   "cell_type": "code",
   "execution_count": 36,
   "id": "fleet-motorcycle",
   "metadata": {
    "execution": {
     "iopub.execute_input": "2021-09-16T00:30:21.242710Z",
     "iopub.status.busy": "2021-09-16T00:30:21.242102Z",
     "iopub.status.idle": "2021-09-16T00:30:21.245614Z",
     "shell.execute_reply": "2021-09-16T00:30:21.245132Z"
    },
    "papermill": {
     "duration": 0.042014,
     "end_time": "2021-09-16T00:30:21.245746",
     "exception": false,
     "start_time": "2021-09-16T00:30:21.203732",
     "status": "completed"
    },
    "tags": []
   },
   "outputs": [],
   "source": [
    "#hide\n",
    "# cols = ['name','group','day','value']"
   ]
  },
  {
   "cell_type": "code",
   "execution_count": 37,
   "id": "continued-sleeping",
   "metadata": {
    "execution": {
     "iopub.execute_input": "2021-09-16T00:30:21.319616Z",
     "iopub.status.busy": "2021-09-16T00:30:21.318983Z",
     "iopub.status.idle": "2021-09-16T00:30:21.321341Z",
     "shell.execute_reply": "2021-09-16T00:30:21.321910Z"
    },
    "papermill": {
     "duration": 0.041368,
     "end_time": "2021-09-16T00:30:21.322066",
     "exception": false,
     "start_time": "2021-09-16T00:30:21.280698",
     "status": "completed"
    },
    "tags": []
   },
   "outputs": [],
   "source": [
    "#hide\n",
    "# g.rename(columns= {'date':'day'},inplace = True)"
   ]
  },
  {
   "cell_type": "code",
   "execution_count": 38,
   "id": "major-fight",
   "metadata": {
    "execution": {
     "iopub.execute_input": "2021-09-16T00:30:21.396038Z",
     "iopub.status.busy": "2021-09-16T00:30:21.395425Z",
     "iopub.status.idle": "2021-09-16T00:30:21.397989Z",
     "shell.execute_reply": "2021-09-16T00:30:21.397509Z"
    },
    "papermill": {
     "duration": 0.041046,
     "end_time": "2021-09-16T00:30:21.398120",
     "exception": false,
     "start_time": "2021-09-16T00:30:21.357074",
     "status": "completed"
    },
    "tags": []
   },
   "outputs": [],
   "source": [
    "#hide\n",
    "# g = g[cols]"
   ]
  },
  {
   "cell_type": "code",
   "execution_count": 39,
   "id": "structured-mobile",
   "metadata": {
    "execution": {
     "iopub.execute_input": "2021-09-16T00:30:21.471932Z",
     "iopub.status.busy": "2021-09-16T00:30:21.471300Z",
     "iopub.status.idle": "2021-09-16T00:30:21.473555Z",
     "shell.execute_reply": "2021-09-16T00:30:21.473042Z"
    },
    "papermill": {
     "duration": 0.040774,
     "end_time": "2021-09-16T00:30:21.473686",
     "exception": false,
     "start_time": "2021-09-16T00:30:21.432912",
     "status": "completed"
    },
    "tags": []
   },
   "outputs": [],
   "source": [
    "# #hide\n",
    "# g = g[g.group.notna()]"
   ]
  },
  {
   "cell_type": "code",
   "execution_count": 40,
   "id": "determined-closing",
   "metadata": {
    "execution": {
     "iopub.execute_input": "2021-09-16T00:30:21.548657Z",
     "iopub.status.busy": "2021-09-16T00:30:21.548024Z",
     "iopub.status.idle": "2021-09-16T00:30:21.550507Z",
     "shell.execute_reply": "2021-09-16T00:30:21.551110Z"
    },
    "papermill": {
     "duration": 0.042275,
     "end_time": "2021-09-16T00:30:21.551265",
     "exception": false,
     "start_time": "2021-09-16T00:30:21.508990",
     "status": "completed"
    },
    "tags": []
   },
   "outputs": [],
   "source": [
    "# #hide\n",
    "# colors = dict(zip(\n",
    "#     [\"Oceania\", \"Europe\", \"Asia\", \"South America\", \"Middle East\", \"North America\", \"Africa\"],\n",
    "#     [\"#adb0ff\", \"#ffb3ff\", \"#90d595\", \"#e48381\", \"#aafbff\", \"#f7bb5f\", \"#eafb50\"]\n",
    "# ))\n",
    "# group_lk = g.set_index('name')['group'].to_dict()"
   ]
  },
  {
   "cell_type": "code",
   "execution_count": null,
   "id": "gross-drinking",
   "metadata": {
    "papermill": {
     "duration": 0.034751,
     "end_time": "2021-09-16T00:30:21.620790",
     "exception": false,
     "start_time": "2021-09-16T00:30:21.586039",
     "status": "completed"
    },
    "tags": []
   },
   "outputs": [],
   "source": []
  },
  {
   "cell_type": "code",
   "execution_count": 41,
   "id": "subject-macintosh",
   "metadata": {
    "execution": {
     "iopub.execute_input": "2021-09-16T00:30:21.696395Z",
     "iopub.status.busy": "2021-09-16T00:30:21.695771Z",
     "iopub.status.idle": "2021-09-16T00:30:21.699398Z",
     "shell.execute_reply": "2021-09-16T00:30:21.698900Z"
    },
    "papermill": {
     "duration": 0.043916,
     "end_time": "2021-09-16T00:30:21.699532",
     "exception": false,
     "start_time": "2021-09-16T00:30:21.655616",
     "status": "completed"
    },
    "tags": []
   },
   "outputs": [],
   "source": [
    "# #hide\n",
    "# fig, ax = plt.subplots(figsize=(15, 8))\n",
    "\n",
    "# def draw_barchart(current_day):\n",
    "#     dff = g[g['day'].eq(current_day)].sort_values(by='value', ascending=True).tail(10)\n",
    "#     ax.clear()\n",
    "#     ax.barh(dff['name'], dff['value'], color=[colors[group_lk[x]] for x in dff['name']])\n",
    "#     dx = dff['value'].max() / 200\n",
    "    \n",
    "#     for i, (value, name) in enumerate(zip(dff['value'], dff['name'])):\n",
    "#         ax.text(value-dx, i,     name,           size=14, weight=600, ha='right', va='bottom')\n",
    "#         ax.text(value-dx, i-.25, group_lk[name], size=10, color='#444444', ha='right', va='baseline')\n",
    "#         ax.text(value+dx, i,     f'{value:,.0f}',  size=14, ha='left',  va='center')\n",
    "#     ax.text(1, 0.4, current_day, transform=ax.transAxes, color='#777777', size=46, ha='right', weight=800)\n",
    "#     ax.text(0, 1.06, 'Population (thousands)', transform=ax.transAxes, size=12, color='#777777')\n",
    "#     ax.xaxis.set_major_formatter(ticker.StrMethodFormatter('{x:,.0f}'))\n",
    "#     ax.xaxis.set_ticks_position('top')\n",
    "#     ax.tick_params(axis='x', colors='#777777', labelsize=12)\n",
    "#     ax.set_yticks([])\n",
    "#     ax.margins(0, 0.01)\n",
    "#     ax.grid(which='major', axis='x', linestyle='-')\n",
    "#     ax.set_axisbelow(True)\n",
    "    \n",
    "#     ax.text(0, 1.15, 'Coronavirus',\n",
    "#             transform=ax.transAxes, size=24, weight=600, ha='left', va='top')\n",
    "# #     ax.text(1, 0, 'by @pratapvardhan; credit @jburnmurdoch', transform=ax.transAxes, color='#777777', ha='right',\n",
    "# #             bbox=dict(facecolor='white', alpha=0.8, edgecolor='white'))\n",
    "#     plt.box(False)"
   ]
  },
  {
   "cell_type": "code",
   "execution_count": 42,
   "id": "sexual-wages",
   "metadata": {
    "execution": {
     "iopub.execute_input": "2021-09-16T00:30:21.773671Z",
     "iopub.status.busy": "2021-09-16T00:30:21.773050Z",
     "iopub.status.idle": "2021-09-16T00:30:21.775440Z",
     "shell.execute_reply": "2021-09-16T00:30:21.776004Z"
    },
    "papermill": {
     "duration": 0.041726,
     "end_time": "2021-09-16T00:30:21.776156",
     "exception": false,
     "start_time": "2021-09-16T00:30:21.734430",
     "status": "completed"
    },
    "tags": []
   },
   "outputs": [],
   "source": [
    "# #hide_input\n",
    "# fig, ax = plt.subplots(figsize=(15, 8))\n",
    "# animator = animation.FuncAnimation(fig, draw_barchart, frames=range(g.day.values.min(), g.day.values.max()))\n",
    "# HTML(animator.to_jshtml())\n",
    "# # or use animator.to_html5_video() or animator.save() "
   ]
  },
  {
   "cell_type": "code",
   "execution_count": null,
   "id": "australian-container",
   "metadata": {
    "papermill": {
     "duration": 0.034711,
     "end_time": "2021-09-16T00:30:21.845955",
     "exception": false,
     "start_time": "2021-09-16T00:30:21.811244",
     "status": "completed"
    },
    "tags": []
   },
   "outputs": [],
   "source": []
  },
  {
   "cell_type": "code",
   "execution_count": null,
   "id": "mediterranean-pontiac",
   "metadata": {
    "papermill": {
     "duration": 0.035335,
     "end_time": "2021-09-16T00:30:21.915964",
     "exception": false,
     "start_time": "2021-09-16T00:30:21.880629",
     "status": "completed"
    },
    "tags": []
   },
   "outputs": [],
   "source": []
  },
  {
   "cell_type": "code",
   "execution_count": null,
   "id": "aging-legislature",
   "metadata": {
    "papermill": {
     "duration": 0.034595,
     "end_time": "2021-09-16T00:30:21.985649",
     "exception": false,
     "start_time": "2021-09-16T00:30:21.951054",
     "status": "completed"
    },
    "tags": []
   },
   "outputs": [],
   "source": []
  }
 ],
 "metadata": {
  "kernelspec": {
   "display_name": "Python 3",
   "language": "python",
   "name": "python3"
  },
  "language_info": {
   "codemirror_mode": {
    "name": "ipython",
    "version": 3
   },
   "file_extension": ".py",
   "mimetype": "text/x-python",
   "name": "python",
   "nbconvert_exporter": "python",
   "pygments_lexer": "ipython3",
   "version": "3.6.14"
  },
  "papermill": {
   "duration": 6.89986,
   "end_time": "2021-09-16T00:30:22.429169",
   "environment_variables": {},
   "exception": null,
   "input_path": "2020-03-21-covid19exp.ipynb",
   "output_path": "2020-03-21-covid19exp.ipynb",
   "parameters": {},
   "start_time": "2021-09-16T00:30:15.529309",
   "version": "2.0.0"
  }
 },
 "nbformat": 4,
 "nbformat_minor": 5
}