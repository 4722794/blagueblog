{
 "cells": [
  {
   "cell_type": "markdown",
   "id": "muslim-click",
   "metadata": {
    "papermill": {
     "duration": 0.042584,
     "end_time": "2021-03-01T12:07:21.974194",
     "exception": false,
     "start_time": "2021-03-01T12:07:21.931610",
     "status": "completed"
    },
    "tags": []
   },
   "source": [
    "# COVID-19 Case Race\n",
    "> A race chart to see rising cases around the world\n",
    "\n",
    "- author: Hargun Oberoi\n",
    "- image: images/covid-overview.png\n",
    "- hide: false\n",
    "- badges: false"
   ]
  },
  {
   "cell_type": "code",
   "execution_count": 1,
   "id": "proof-material",
   "metadata": {
    "execution": {
     "iopub.execute_input": "2021-03-01T12:07:22.062755Z",
     "iopub.status.busy": "2021-03-01T12:07:22.062070Z",
     "iopub.status.idle": "2021-03-01T12:07:22.413574Z",
     "shell.execute_reply": "2021-03-01T12:07:22.412993Z"
    },
    "papermill": {
     "duration": 0.397736,
     "end_time": "2021-03-01T12:07:22.413732",
     "exception": false,
     "start_time": "2021-03-01T12:07:22.015996",
     "status": "completed"
    },
    "tags": []
   },
   "outputs": [],
   "source": [
    "#hide\n",
    "import numpy as np\n",
    "import pandas as pd\n",
    "from jinja2 import Template\n",
    "from IPython.display import HTML"
   ]
  },
  {
   "cell_type": "code",
   "execution_count": 2,
   "id": "developed-terminology",
   "metadata": {
    "execution": {
     "iopub.execute_input": "2021-03-01T12:07:22.491643Z",
     "iopub.status.busy": "2021-03-01T12:07:22.490981Z",
     "iopub.status.idle": "2021-03-01T12:07:22.493512Z",
     "shell.execute_reply": "2021-03-01T12:07:22.492944Z"
    },
    "papermill": {
     "duration": 0.043767,
     "end_time": "2021-03-01T12:07:22.493643",
     "exception": false,
     "start_time": "2021-03-01T12:07:22.449876",
     "status": "completed"
    },
    "tags": []
   },
   "outputs": [],
   "source": [
    "#hide\n",
    "\n",
    "# FETCH\n",
    "base_url = 'https://raw.githubusercontent.com/pratapvardhan/notebooks/master/covid19/'\n",
    "paths = {\n",
    "    'mapping': base_url + 'mapping_countries.csv',\n",
    "    'overview': base_url + 'overview.tpl'\n",
    "}"
   ]
  },
  {
   "cell_type": "code",
   "execution_count": 3,
   "id": "dynamic-saver",
   "metadata": {
    "execution": {
     "iopub.execute_input": "2021-03-01T12:07:22.578657Z",
     "iopub.status.busy": "2021-03-01T12:07:22.578002Z",
     "iopub.status.idle": "2021-03-01T12:07:22.580478Z",
     "shell.execute_reply": "2021-03-01T12:07:22.581098Z"
    },
    "papermill": {
     "duration": 0.048846,
     "end_time": "2021-03-01T12:07:22.581240",
     "exception": false,
     "start_time": "2021-03-01T12:07:22.532394",
     "status": "completed"
    },
    "tags": []
   },
   "outputs": [
    {
     "data": {
      "text/plain": [
       "'https://raw.githubusercontent.com/pratapvardhan/notebooks/master/covid19/mapping_countries.csv'"
      ]
     },
     "execution_count": 3,
     "metadata": {},
     "output_type": "execute_result"
    }
   ],
   "source": [
    "#hide\n",
    "paths['mapping']"
   ]
  },
  {
   "cell_type": "code",
   "execution_count": 4,
   "id": "urban-software",
   "metadata": {
    "execution": {
     "iopub.execute_input": "2021-03-01T12:07:22.663498Z",
     "iopub.status.busy": "2021-03-01T12:07:22.662843Z",
     "iopub.status.idle": "2021-03-01T12:07:22.665261Z",
     "shell.execute_reply": "2021-03-01T12:07:22.664700Z"
    },
    "papermill": {
     "duration": 0.045091,
     "end_time": "2021-03-01T12:07:22.665389",
     "exception": false,
     "start_time": "2021-03-01T12:07:22.620298",
     "status": "completed"
    },
    "tags": []
   },
   "outputs": [],
   "source": [
    "#hide\n",
    "def get_mappings(url):\n",
    "    df = pd.read_csv(url)\n",
    "    return {\n",
    "        'df': df,\n",
    "        'replace.country': dict(df.dropna(subset=['Name']).set_index('Country')['Name']),\n",
    "        'map.continent': dict(df.set_index('Name')['Continent'])\n",
    "    }"
   ]
  },
  {
   "cell_type": "code",
   "execution_count": 5,
   "id": "intimate-machinery",
   "metadata": {
    "execution": {
     "iopub.execute_input": "2021-03-01T12:07:22.747101Z",
     "iopub.status.busy": "2021-03-01T12:07:22.746448Z",
     "iopub.status.idle": "2021-03-01T12:07:22.791482Z",
     "shell.execute_reply": "2021-03-01T12:07:22.790404Z"
    },
    "papermill": {
     "duration": 0.087974,
     "end_time": "2021-03-01T12:07:22.791739",
     "exception": false,
     "start_time": "2021-03-01T12:07:22.703765",
     "status": "completed"
    },
    "tags": []
   },
   "outputs": [],
   "source": [
    "#hide\n",
    "mapping = get_mappings(paths['mapping'])"
   ]
  },
  {
   "cell_type": "code",
   "execution_count": 6,
   "id": "certified-tactics",
   "metadata": {
    "execution": {
     "iopub.execute_input": "2021-03-01T12:07:22.871968Z",
     "iopub.status.busy": "2021-03-01T12:07:22.871300Z",
     "iopub.status.idle": "2021-03-01T12:07:22.873229Z",
     "shell.execute_reply": "2021-03-01T12:07:22.873733Z"
    },
    "papermill": {
     "duration": 0.044871,
     "end_time": "2021-03-01T12:07:22.873879",
     "exception": false,
     "start_time": "2021-03-01T12:07:22.829008",
     "status": "completed"
    },
    "tags": []
   },
   "outputs": [],
   "source": [
    "#hide\n",
    "def get_template(path):\n",
    "    from urllib.parse import urlparse\n",
    "    if bool(urlparse(path).netloc):\n",
    "        from urllib.request import urlopen\n",
    "        return urlopen(path).read().decode('utf8')\n",
    "    return open(path).read()"
   ]
  },
  {
   "cell_type": "code",
   "execution_count": 7,
   "id": "realistic-blast",
   "metadata": {
    "execution": {
     "iopub.execute_input": "2021-03-01T12:07:22.955825Z",
     "iopub.status.busy": "2021-03-01T12:07:22.955164Z",
     "iopub.status.idle": "2021-03-01T12:07:22.956980Z",
     "shell.execute_reply": "2021-03-01T12:07:22.957590Z"
    },
    "papermill": {
     "duration": 0.047158,
     "end_time": "2021-03-01T12:07:22.957779",
     "exception": false,
     "start_time": "2021-03-01T12:07:22.910621",
     "status": "completed"
    },
    "tags": []
   },
   "outputs": [],
   "source": [
    "#hide\n",
    "def get_frame(name):\n",
    "    url = (\n",
    "        'https://raw.githubusercontent.com/CSSEGISandData/COVID-19/master/csse_covid_19_data/'\n",
    "        f'csse_covid_19_time_series/time_series_covid19_{name}_global.csv')\n",
    "    df = pd.read_csv(url)\n",
    "    # rename countries\n",
    "    df['Country/Region'] = df['Country/Region'].replace(mapping['replace.country'])\n",
    "    return df"
   ]
  },
  {
   "cell_type": "code",
   "execution_count": 8,
   "id": "affiliated-characterization",
   "metadata": {
    "execution": {
     "iopub.execute_input": "2021-03-01T12:07:23.051348Z",
     "iopub.status.busy": "2021-03-01T12:07:23.050695Z",
     "iopub.status.idle": "2021-03-01T12:07:23.053381Z",
     "shell.execute_reply": "2021-03-01T12:07:23.052830Z"
    },
    "papermill": {
     "duration": 0.055901,
     "end_time": "2021-03-01T12:07:23.053509",
     "exception": false,
     "start_time": "2021-03-01T12:07:22.997608",
     "status": "completed"
    },
    "tags": []
   },
   "outputs": [],
   "source": [
    "#hide\n",
    "def get_dates(df):\n",
    "    dt_cols = df.columns[~df.columns.isin(['Province/State', 'Country/Region', 'Lat', 'Long'])]\n",
    "    LAST_DATE_I = -1\n",
    "    # sometimes last column may be empty, then go backwards\n",
    "    for i in range(-1, -len(dt_cols), -1):\n",
    "        if not df[dt_cols[i]].fillna(0).eq(0).all():\n",
    "            LAST_DATE_I = i\n",
    "            break\n",
    "    return LAST_DATE_I, dt_cols"
   ]
  },
  {
   "cell_type": "code",
   "execution_count": 9,
   "id": "recent-optimization",
   "metadata": {
    "execution": {
     "iopub.execute_input": "2021-03-01T12:07:23.146473Z",
     "iopub.status.busy": "2021-03-01T12:07:23.145793Z",
     "iopub.status.idle": "2021-03-01T12:07:23.505808Z",
     "shell.execute_reply": "2021-03-01T12:07:23.504724Z"
    },
    "papermill": {
     "duration": 0.413251,
     "end_time": "2021-03-01T12:07:23.505980",
     "exception": false,
     "start_time": "2021-03-01T12:07:23.092729",
     "status": "completed"
    },
    "tags": []
   },
   "outputs": [],
   "source": [
    "#hide\n",
    "COL_REGION = 'Country/Region'\n",
    "# Confirmed, Recovered, Deaths\n",
    "df = get_frame('confirmed')\n",
    "# dft_: timeseries, dfc_: today country agg\n",
    "dft_cases = df\n",
    "dft_deaths = get_frame('deaths')\n",
    "dft_recovered = get_frame('recovered')\n",
    "LAST_DATE_I, dt_cols = get_dates(df)"
   ]
  },
  {
   "cell_type": "code",
   "execution_count": 10,
   "id": "absolute-copper",
   "metadata": {
    "execution": {
     "iopub.execute_input": "2021-03-01T12:07:23.587747Z",
     "iopub.status.busy": "2021-03-01T12:07:23.587085Z",
     "iopub.status.idle": "2021-03-01T12:07:23.589648Z",
     "shell.execute_reply": "2021-03-01T12:07:23.589040Z"
    },
    "papermill": {
     "duration": 0.044216,
     "end_time": "2021-03-01T12:07:23.589781",
     "exception": false,
     "start_time": "2021-03-01T12:07:23.545565",
     "status": "completed"
    },
    "tags": []
   },
   "outputs": [],
   "source": [
    "#hide\n",
    "LAST_DATE_I, dt_cols = get_dates(df)\n",
    "dt_today =dt_cols[LAST_DATE_I]\n",
    "# dt_5day = dt_cols[LAST_DATE_I - 5]\n",
    "dt_yday = dt_cols[LAST_DATE_I - 1]"
   ]
  },
  {
   "cell_type": "code",
   "execution_count": 11,
   "id": "restricted-sheriff",
   "metadata": {
    "execution": {
     "iopub.execute_input": "2021-03-01T12:07:23.669867Z",
     "iopub.status.busy": "2021-03-01T12:07:23.669208Z",
     "iopub.status.idle": "2021-03-01T12:07:23.676189Z",
     "shell.execute_reply": "2021-03-01T12:07:23.675544Z"
    },
    "papermill": {
     "duration": 0.050279,
     "end_time": "2021-03-01T12:07:23.676313",
     "exception": false,
     "start_time": "2021-03-01T12:07:23.626034",
     "status": "completed"
    },
    "tags": []
   },
   "outputs": [],
   "source": [
    "#hide\n",
    "dfc_cases = dft_cases.groupby(COL_REGION)[dt_today].sum()\n",
    "dfc_deaths = dft_deaths.groupby(COL_REGION)[dt_today].sum()\n",
    "# dfp_cases = dft_cases.groupby(COL_REGION)[dt_5day].sum()\n",
    "# dfp_deaths = dft_deaths.groupby(COL_REGION)[dt_5day].sum()\n",
    "dfp_cases = dft_cases.groupby(COL_REGION)[dt_yday].sum()\n",
    "dfp_deaths = dft_deaths.groupby(COL_REGION)[dt_yday].sum()"
   ]
  },
  {
   "cell_type": "code",
   "execution_count": 12,
   "id": "deluxe-hepatitis",
   "metadata": {
    "execution": {
     "iopub.execute_input": "2021-03-01T12:07:23.761062Z",
     "iopub.status.busy": "2021-03-01T12:07:23.760277Z",
     "iopub.status.idle": "2021-03-01T12:07:23.771431Z",
     "shell.execute_reply": "2021-03-01T12:07:23.770870Z"
    },
    "papermill": {
     "duration": 0.058027,
     "end_time": "2021-03-01T12:07:23.771559",
     "exception": false,
     "start_time": "2021-03-01T12:07:23.713532",
     "status": "completed"
    },
    "tags": []
   },
   "outputs": [],
   "source": [
    "#hide\n",
    "df_table = (pd.DataFrame(dict(Cases = dfc_cases, Deaths = dfc_deaths, PCases = dfp_cases, PDeaths = dfp_deaths))\n",
    "            .sort_values(by = ['Cases','Deaths'], ascending = [False, False])\n",
    "            .reset_index())"
   ]
  },
  {
   "cell_type": "code",
   "execution_count": 13,
   "id": "educational-chancellor",
   "metadata": {
    "execution": {
     "iopub.execute_input": "2021-03-01T12:07:23.867148Z",
     "iopub.status.busy": "2021-03-01T12:07:23.862412Z",
     "iopub.status.idle": "2021-03-01T12:07:23.875375Z",
     "shell.execute_reply": "2021-03-01T12:07:23.874735Z"
    },
    "papermill": {
     "duration": 0.063119,
     "end_time": "2021-03-01T12:07:23.875503",
     "exception": false,
     "start_time": "2021-03-01T12:07:23.812384",
     "status": "completed"
    },
    "tags": []
   },
   "outputs": [
    {
     "data": {
      "text/html": [
       "<div>\n",
       "<style scoped>\n",
       "    .dataframe tbody tr th:only-of-type {\n",
       "        vertical-align: middle;\n",
       "    }\n",
       "\n",
       "    .dataframe tbody tr th {\n",
       "        vertical-align: top;\n",
       "    }\n",
       "\n",
       "    .dataframe thead th {\n",
       "        text-align: right;\n",
       "    }\n",
       "</style>\n",
       "<table border=\"1\" class=\"dataframe\">\n",
       "  <thead>\n",
       "    <tr style=\"text-align: right;\">\n",
       "      <th></th>\n",
       "      <th>Country/Region</th>\n",
       "      <th>Cases</th>\n",
       "      <th>Deaths</th>\n",
       "      <th>PCases</th>\n",
       "      <th>PDeaths</th>\n",
       "      <th>Cases (+)</th>\n",
       "      <th>Deaths (+)</th>\n",
       "      <th>Fatality Rate</th>\n",
       "      <th>Continent</th>\n",
       "    </tr>\n",
       "  </thead>\n",
       "  <tbody>\n",
       "    <tr>\n",
       "      <th>0</th>\n",
       "      <td>US</td>\n",
       "      <td>28605669</td>\n",
       "      <td>513091</td>\n",
       "      <td>28554465</td>\n",
       "      <td>511994</td>\n",
       "      <td>51204</td>\n",
       "      <td>1097</td>\n",
       "      <td>1.79</td>\n",
       "      <td>North America</td>\n",
       "    </tr>\n",
       "    <tr>\n",
       "      <th>1</th>\n",
       "      <td>India</td>\n",
       "      <td>11112241</td>\n",
       "      <td>157157</td>\n",
       "      <td>11096731</td>\n",
       "      <td>157051</td>\n",
       "      <td>15510</td>\n",
       "      <td>106</td>\n",
       "      <td>1.41</td>\n",
       "      <td>Asia</td>\n",
       "    </tr>\n",
       "    <tr>\n",
       "      <th>2</th>\n",
       "      <td>Brazil</td>\n",
       "      <td>10551259</td>\n",
       "      <td>254942</td>\n",
       "      <td>10517232</td>\n",
       "      <td>254221</td>\n",
       "      <td>34027</td>\n",
       "      <td>721</td>\n",
       "      <td>2.42</td>\n",
       "      <td>South America</td>\n",
       "    </tr>\n",
       "    <tr>\n",
       "      <th>3</th>\n",
       "      <td>Russia</td>\n",
       "      <td>4198400</td>\n",
       "      <td>84700</td>\n",
       "      <td>4187166</td>\n",
       "      <td>84330</td>\n",
       "      <td>11234</td>\n",
       "      <td>370</td>\n",
       "      <td>2.02</td>\n",
       "      <td>Europe</td>\n",
       "    </tr>\n",
       "    <tr>\n",
       "      <th>4</th>\n",
       "      <td>United Kingdom</td>\n",
       "      <td>4188827</td>\n",
       "      <td>123083</td>\n",
       "      <td>4182772</td>\n",
       "      <td>122939</td>\n",
       "      <td>6055</td>\n",
       "      <td>144</td>\n",
       "      <td>2.94</td>\n",
       "      <td>Europe</td>\n",
       "    </tr>\n",
       "  </tbody>\n",
       "</table>\n",
       "</div>"
      ],
      "text/plain": [
       "   Country/Region     Cases  Deaths    PCases  PDeaths  Cases (+)  Deaths (+)  \\\n",
       "0              US  28605669  513091  28554465   511994      51204        1097   \n",
       "1           India  11112241  157157  11096731   157051      15510         106   \n",
       "2          Brazil  10551259  254942  10517232   254221      34027         721   \n",
       "3          Russia   4198400   84700   4187166    84330      11234         370   \n",
       "4  United Kingdom   4188827  123083   4182772   122939       6055         144   \n",
       "\n",
       "   Fatality Rate      Continent  \n",
       "0           1.79  North America  \n",
       "1           1.41           Asia  \n",
       "2           2.42  South America  \n",
       "3           2.02         Europe  \n",
       "4           2.94         Europe  "
      ]
     },
     "execution_count": 13,
     "metadata": {},
     "output_type": "execute_result"
    }
   ],
   "source": [
    "#hide\n",
    "for c in 'Cases, Deaths'.split(', '):\n",
    "    df_table[f'{c} (+)'] = (df_table[c] - df_table[f'P{c}']).clip(0)\n",
    "    #Clip ça veut dire, les chiffres negatif sont interdit\n",
    "df_table['Fatality Rate'] = (100* df_table['Deaths']/ df_table['Cases']).round(2)\n",
    "df_table['Continent'] = df_table['Country/Region'].map(mapping['map.continent'])\n",
    "df_table.head(5)"
   ]
  },
  {
   "cell_type": "code",
   "execution_count": 14,
   "id": "aboriginal-bulgaria",
   "metadata": {
    "execution": {
     "iopub.execute_input": "2021-03-01T12:07:23.957001Z",
     "iopub.status.busy": "2021-03-01T12:07:23.956346Z",
     "iopub.status.idle": "2021-03-01T12:07:23.959067Z",
     "shell.execute_reply": "2021-03-01T12:07:23.959599Z"
    },
    "papermill": {
     "duration": 0.046515,
     "end_time": "2021-03-01T12:07:23.959747",
     "exception": false,
     "start_time": "2021-03-01T12:07:23.913232",
     "status": "completed"
    },
    "tags": []
   },
   "outputs": [],
   "source": [
    "#hide\n",
    "#delete problematic countries from table\n",
    "df_table = df_table[~df_table['Country/Region'].isin(['Cape Verde', 'Cruise Ship', 'Kosovo'])]"
   ]
  },
  {
   "cell_type": "code",
   "execution_count": 15,
   "id": "fantastic-effect",
   "metadata": {
    "execution": {
     "iopub.execute_input": "2021-03-01T12:07:24.045659Z",
     "iopub.status.busy": "2021-03-01T12:07:24.044986Z",
     "iopub.status.idle": "2021-03-01T12:07:24.073324Z",
     "shell.execute_reply": "2021-03-01T12:07:24.074779Z"
    },
    "papermill": {
     "duration": 0.077982,
     "end_time": "2021-03-01T12:07:24.074948",
     "exception": false,
     "start_time": "2021-03-01T12:07:23.996966",
     "status": "completed"
    },
    "tags": []
   },
   "outputs": [
    {
     "data": {
      "text/html": [
       "<div>\n",
       "<style scoped>\n",
       "    .dataframe tbody tr th:only-of-type {\n",
       "        vertical-align: middle;\n",
       "    }\n",
       "\n",
       "    .dataframe tbody tr th {\n",
       "        vertical-align: top;\n",
       "    }\n",
       "\n",
       "    .dataframe thead th {\n",
       "        text-align: right;\n",
       "    }\n",
       "</style>\n",
       "<table border=\"1\" class=\"dataframe\">\n",
       "  <thead>\n",
       "    <tr style=\"text-align: right;\">\n",
       "      <th></th>\n",
       "      <th>Country/Region</th>\n",
       "      <th>Cases</th>\n",
       "      <th>Deaths</th>\n",
       "      <th>PCases</th>\n",
       "      <th>PDeaths</th>\n",
       "      <th>Cases (+)</th>\n",
       "      <th>Deaths (+)</th>\n",
       "      <th>Fatality Rate</th>\n",
       "      <th>Continent</th>\n",
       "    </tr>\n",
       "  </thead>\n",
       "  <tbody>\n",
       "    <tr>\n",
       "      <th>0</th>\n",
       "      <td>US</td>\n",
       "      <td>28605669</td>\n",
       "      <td>513091</td>\n",
       "      <td>28554465</td>\n",
       "      <td>511994</td>\n",
       "      <td>51204</td>\n",
       "      <td>1097</td>\n",
       "      <td>1.8</td>\n",
       "      <td>North America</td>\n",
       "    </tr>\n",
       "    <tr>\n",
       "      <th>1</th>\n",
       "      <td>India</td>\n",
       "      <td>11112241</td>\n",
       "      <td>157157</td>\n",
       "      <td>11096731</td>\n",
       "      <td>157051</td>\n",
       "      <td>15510</td>\n",
       "      <td>106</td>\n",
       "      <td>1.4</td>\n",
       "      <td>Asia</td>\n",
       "    </tr>\n",
       "    <tr>\n",
       "      <th>2</th>\n",
       "      <td>Brazil</td>\n",
       "      <td>10551259</td>\n",
       "      <td>254942</td>\n",
       "      <td>10517232</td>\n",
       "      <td>254221</td>\n",
       "      <td>34027</td>\n",
       "      <td>721</td>\n",
       "      <td>2.4</td>\n",
       "      <td>South America</td>\n",
       "    </tr>\n",
       "    <tr>\n",
       "      <th>3</th>\n",
       "      <td>Russia</td>\n",
       "      <td>4198400</td>\n",
       "      <td>84700</td>\n",
       "      <td>4187166</td>\n",
       "      <td>84330</td>\n",
       "      <td>11234</td>\n",
       "      <td>370</td>\n",
       "      <td>2.0</td>\n",
       "      <td>Europe</td>\n",
       "    </tr>\n",
       "    <tr>\n",
       "      <th>4</th>\n",
       "      <td>United Kingdom</td>\n",
       "      <td>4188827</td>\n",
       "      <td>123083</td>\n",
       "      <td>4182772</td>\n",
       "      <td>122939</td>\n",
       "      <td>6055</td>\n",
       "      <td>144</td>\n",
       "      <td>2.9</td>\n",
       "      <td>Europe</td>\n",
       "    </tr>\n",
       "  </tbody>\n",
       "</table>\n",
       "</div>"
      ],
      "text/plain": [
       "   Country/Region     Cases  Deaths    PCases  PDeaths  Cases (+)  Deaths (+)  \\\n",
       "0              US  28605669  513091  28554465   511994      51204        1097   \n",
       "1           India  11112241  157157  11096731   157051      15510         106   \n",
       "2          Brazil  10551259  254942  10517232   254221      34027         721   \n",
       "3          Russia   4198400   84700   4187166    84330      11234         370   \n",
       "4  United Kingdom   4188827  123083   4182772   122939       6055         144   \n",
       "\n",
       "   Fatality Rate      Continent  \n",
       "0            1.8  North America  \n",
       "1            1.4           Asia  \n",
       "2            2.4  South America  \n",
       "3            2.0         Europe  \n",
       "4            2.9         Europe  "
      ]
     },
     "execution_count": 15,
     "metadata": {},
     "output_type": "execute_result"
    }
   ],
   "source": [
    "#hide\n",
    "df_table = (pd.DataFrame(dict(Cases=dfc_cases, Deaths=dfc_deaths, PCases=dfp_cases, PDeaths=dfp_deaths))\n",
    "             .sort_values(by=['Cases', 'Deaths'], ascending=[False, False])\n",
    "             .reset_index())\n",
    "df_table.rename(columns={'index': 'Country/Region'}, inplace=True)\n",
    "for c in 'Cases, Deaths'.split(', '):\n",
    "    df_table[f'{c} (+)'] = (df_table[c] - df_table[f'P{c}']).clip(0)  # DATA BUG\n",
    "df_table['Fatality Rate'] = (100 * df_table['Deaths'] / df_table['Cases']).round(1)\n",
    "df_table['Continent'] = df_table['Country/Region'].map(mapping['map.continent'])\n",
    "df_table.head(5)"
   ]
  },
  {
   "cell_type": "code",
   "execution_count": 16,
   "id": "fewer-occasion",
   "metadata": {
    "execution": {
     "iopub.execute_input": "2021-03-01T12:07:24.162140Z",
     "iopub.status.busy": "2021-03-01T12:07:24.161449Z",
     "iopub.status.idle": "2021-03-01T12:07:24.167385Z",
     "shell.execute_reply": "2021-03-01T12:07:24.166773Z"
    },
    "papermill": {
     "duration": 0.05459,
     "end_time": "2021-03-01T12:07:24.167658",
     "exception": false,
     "start_time": "2021-03-01T12:07:24.113068",
     "status": "completed"
    },
    "tags": []
   },
   "outputs": [],
   "source": [
    "#hide\n",
    "#delete problematic countries from table\n",
    "df_table = df_table[~df_table['Country/Region'].isin(['Cape Verde', 'Cruise Ship', 'Kosovo'])]"
   ]
  },
  {
   "cell_type": "code",
   "execution_count": 17,
   "id": "related-center",
   "metadata": {
    "execution": {
     "iopub.execute_input": "2021-03-01T12:07:24.265835Z",
     "iopub.status.busy": "2021-03-01T12:07:24.265183Z",
     "iopub.status.idle": "2021-03-01T12:07:24.270700Z",
     "shell.execute_reply": "2021-03-01T12:07:24.271205Z"
    },
    "papermill": {
     "duration": 0.065306,
     "end_time": "2021-03-01T12:07:24.271354",
     "exception": false,
     "start_time": "2021-03-01T12:07:24.206048",
     "status": "completed"
    },
    "tags": []
   },
   "outputs": [],
   "source": [
    "#hide\n",
    "metrics = [df_table.columns[index] for index in [1,2,5,6]]\n",
    "# s_china = df_table[df_table['Country/Region'].eq('China')][metrics].sum().add_prefix('China ')\n",
    "s_us = df_table[df_table['Country/Region'].eq('US')][metrics].sum().add_prefix('US ')\n",
    "s_eu = df_table[df_table['Continent'].eq('Europe')][metrics].sum().add_prefix('EU ')\n",
    "s_ind = df_table[df_table['Country/Region'].eq('India')][metrics].sum().add_prefix('India ')\n",
    "summary = {'updated': pd.to_datetime(dt_today), 'since': pd.to_datetime(dt_yday)}\n",
    "summary = {'updated': pd.to_datetime(dt_today), 'since': pd.to_datetime(dt_yday)}\n",
    "summary = {**summary, **df_table[metrics].sum(), **s_ind, **s_us, **s_eu}"
   ]
  },
  {
   "cell_type": "code",
   "execution_count": 18,
   "id": "engaging-syndrome",
   "metadata": {
    "execution": {
     "iopub.execute_input": "2021-03-01T12:07:24.568864Z",
     "iopub.status.busy": "2021-03-01T12:07:24.566615Z",
     "iopub.status.idle": "2021-03-01T12:07:24.579200Z",
     "shell.execute_reply": "2021-03-01T12:07:24.578656Z"
    },
    "papermill": {
     "duration": 0.260562,
     "end_time": "2021-03-01T12:07:24.579340",
     "exception": false,
     "start_time": "2021-03-01T12:07:24.318778",
     "status": "completed"
    },
    "tags": []
   },
   "outputs": [],
   "source": [
    "#hide\n",
    "dft_ct_new_cases = dft_cases.groupby(COL_REGION)[dt_cols].sum().diff(axis=1).fillna(0).astype(int)"
   ]
  },
  {
   "cell_type": "code",
   "execution_count": 19,
   "id": "neutral-assignment",
   "metadata": {
    "execution": {
     "iopub.execute_input": "2021-03-01T12:07:24.661996Z",
     "iopub.status.busy": "2021-03-01T12:07:24.661326Z",
     "iopub.status.idle": "2021-03-01T12:07:24.663602Z",
     "shell.execute_reply": "2021-03-01T12:07:24.664140Z"
    },
    "papermill": {
     "duration": 0.046132,
     "end_time": "2021-03-01T12:07:24.664281",
     "exception": false,
     "start_time": "2021-03-01T12:07:24.618149",
     "status": "completed"
    },
    "tags": []
   },
   "outputs": [],
   "source": [
    "#hide\n",
    "everydaycases = dft_ct_new_cases.cumsum(axis=1)"
   ]
  },
  {
   "cell_type": "code",
   "execution_count": 20,
   "id": "parliamentary-calgary",
   "metadata": {
    "execution": {
     "iopub.execute_input": "2021-03-01T12:07:24.746992Z",
     "iopub.status.busy": "2021-03-01T12:07:24.746339Z",
     "iopub.status.idle": "2021-03-01T12:07:27.470488Z",
     "shell.execute_reply": "2021-03-01T12:07:27.469493Z"
    },
    "papermill": {
     "duration": 2.765273,
     "end_time": "2021-03-01T12:07:27.470631",
     "exception": false,
     "start_time": "2021-03-01T12:07:24.705358",
     "status": "completed"
    },
    "tags": []
   },
   "outputs": [],
   "source": [
    "#hide\n",
    "import pandas as pd\n",
    "import matplotlib.pyplot as plt\n",
    "import matplotlib.ticker as ticker\n",
    "import matplotlib.animation as animation\n",
    "from IPython.display import HTML"
   ]
  },
  {
   "cell_type": "code",
   "execution_count": 21,
   "id": "lasting-extraction",
   "metadata": {
    "execution": {
     "iopub.execute_input": "2021-03-01T12:07:27.553227Z",
     "iopub.status.busy": "2021-03-01T12:07:27.552562Z",
     "iopub.status.idle": "2021-03-01T12:07:27.558211Z",
     "shell.execute_reply": "2021-03-01T12:07:27.557595Z"
    },
    "papermill": {
     "duration": 0.050175,
     "end_time": "2021-03-01T12:07:27.558338",
     "exception": false,
     "start_time": "2021-03-01T12:07:27.508163",
     "status": "completed"
    },
    "tags": []
   },
   "outputs": [],
   "source": [
    "#hide\n",
    "t = everydaycases.stack()"
   ]
  },
  {
   "cell_type": "code",
   "execution_count": 22,
   "id": "premier-sleeve",
   "metadata": {
    "execution": {
     "iopub.execute_input": "2021-03-01T12:07:27.637710Z",
     "iopub.status.busy": "2021-03-01T12:07:27.637041Z",
     "iopub.status.idle": "2021-03-01T12:07:27.644464Z",
     "shell.execute_reply": "2021-03-01T12:07:27.643898Z"
    },
    "papermill": {
     "duration": 0.04794,
     "end_time": "2021-03-01T12:07:27.644595",
     "exception": false,
     "start_time": "2021-03-01T12:07:27.596655",
     "status": "completed"
    },
    "tags": []
   },
   "outputs": [],
   "source": [
    "#hide\n",
    "g = t.reset_index(['Country/Region'])"
   ]
  },
  {
   "cell_type": "code",
   "execution_count": 23,
   "id": "distributed-pittsburgh",
   "metadata": {
    "execution": {
     "iopub.execute_input": "2021-03-01T12:07:27.722915Z",
     "iopub.status.busy": "2021-03-01T12:07:27.722265Z",
     "iopub.status.idle": "2021-03-01T12:07:27.724599Z",
     "shell.execute_reply": "2021-03-01T12:07:27.723956Z"
    },
    "papermill": {
     "duration": 0.042207,
     "end_time": "2021-03-01T12:07:27.724720",
     "exception": false,
     "start_time": "2021-03-01T12:07:27.682513",
     "status": "completed"
    },
    "tags": []
   },
   "outputs": [],
   "source": [
    "#hide\n",
    "g.index.name = 'date'"
   ]
  },
  {
   "cell_type": "code",
   "execution_count": 24,
   "id": "naked-donor",
   "metadata": {
    "execution": {
     "iopub.execute_input": "2021-03-01T12:07:27.804693Z",
     "iopub.status.busy": "2021-03-01T12:07:27.804039Z",
     "iopub.status.idle": "2021-03-01T12:07:27.806506Z",
     "shell.execute_reply": "2021-03-01T12:07:27.805912Z"
    },
    "papermill": {
     "duration": 0.044865,
     "end_time": "2021-03-01T12:07:27.806631",
     "exception": false,
     "start_time": "2021-03-01T12:07:27.761766",
     "status": "completed"
    },
    "tags": []
   },
   "outputs": [],
   "source": [
    "# #hide\n",
    "# g = g.reset_index(['date'])"
   ]
  },
  {
   "cell_type": "code",
   "execution_count": 25,
   "id": "incomplete-mustang",
   "metadata": {
    "execution": {
     "iopub.execute_input": "2021-03-01T12:07:27.884900Z",
     "iopub.status.busy": "2021-03-01T12:07:27.884252Z",
     "iopub.status.idle": "2021-03-01T12:07:27.886822Z",
     "shell.execute_reply": "2021-03-01T12:07:27.886262Z"
    },
    "papermill": {
     "duration": 0.043108,
     "end_time": "2021-03-01T12:07:27.886948",
     "exception": false,
     "start_time": "2021-03-01T12:07:27.843840",
     "status": "completed"
    },
    "tags": []
   },
   "outputs": [],
   "source": [
    "#hide\n",
    "# g.head()"
   ]
  },
  {
   "cell_type": "code",
   "execution_count": 26,
   "id": "specific-kruger",
   "metadata": {
    "execution": {
     "iopub.execute_input": "2021-03-01T12:07:27.968151Z",
     "iopub.status.busy": "2021-03-01T12:07:27.967502Z",
     "iopub.status.idle": "2021-03-01T12:07:27.970073Z",
     "shell.execute_reply": "2021-03-01T12:07:27.969484Z"
    },
    "papermill": {
     "duration": 0.04622,
     "end_time": "2021-03-01T12:07:27.970200",
     "exception": false,
     "start_time": "2021-03-01T12:07:27.923980",
     "status": "completed"
    },
    "tags": []
   },
   "outputs": [],
   "source": [
    "#hide\n",
    "# g.columns = ['date','country','cases']"
   ]
  },
  {
   "cell_type": "code",
   "execution_count": 27,
   "id": "tender-conversion",
   "metadata": {
    "execution": {
     "iopub.execute_input": "2021-03-01T12:07:28.048225Z",
     "iopub.status.busy": "2021-03-01T12:07:28.047574Z",
     "iopub.status.idle": "2021-03-01T12:07:28.050018Z",
     "shell.execute_reply": "2021-03-01T12:07:28.049432Z"
    },
    "papermill": {
     "duration": 0.042868,
     "end_time": "2021-03-01T12:07:28.050146",
     "exception": false,
     "start_time": "2021-03-01T12:07:28.007278",
     "status": "completed"
    },
    "tags": []
   },
   "outputs": [],
   "source": [
    "#hide\n",
    "# g['continent'] = g.country"
   ]
  },
  {
   "cell_type": "code",
   "execution_count": 28,
   "id": "substantial-wilderness",
   "metadata": {
    "execution": {
     "iopub.execute_input": "2021-03-01T12:07:28.131585Z",
     "iopub.status.busy": "2021-03-01T12:07:28.130930Z",
     "iopub.status.idle": "2021-03-01T12:07:28.133423Z",
     "shell.execute_reply": "2021-03-01T12:07:28.132865Z"
    },
    "papermill": {
     "duration": 0.043225,
     "end_time": "2021-03-01T12:07:28.133551",
     "exception": false,
     "start_time": "2021-03-01T12:07:28.090326",
     "status": "completed"
    },
    "tags": []
   },
   "outputs": [],
   "source": [
    "#hide\n",
    "# cols = list(g.columns.values)"
   ]
  },
  {
   "cell_type": "code",
   "execution_count": 29,
   "id": "solved-farming",
   "metadata": {
    "execution": {
     "iopub.execute_input": "2021-03-01T12:07:28.215084Z",
     "iopub.status.busy": "2021-03-01T12:07:28.214436Z",
     "iopub.status.idle": "2021-03-01T12:07:28.216510Z",
     "shell.execute_reply": "2021-03-01T12:07:28.217008Z"
    },
    "papermill": {
     "duration": 0.045548,
     "end_time": "2021-03-01T12:07:28.217153",
     "exception": false,
     "start_time": "2021-03-01T12:07:28.171605",
     "status": "completed"
    },
    "tags": []
   },
   "outputs": [],
   "source": [
    "#hide\n",
    "# cols.insert(0, cols.pop())"
   ]
  },
  {
   "cell_type": "code",
   "execution_count": 30,
   "id": "executed-adoption",
   "metadata": {
    "execution": {
     "iopub.execute_input": "2021-03-01T12:07:28.300134Z",
     "iopub.status.busy": "2021-03-01T12:07:28.299474Z",
     "iopub.status.idle": "2021-03-01T12:07:28.301948Z",
     "shell.execute_reply": "2021-03-01T12:07:28.301391Z"
    },
    "papermill": {
     "duration": 0.04584,
     "end_time": "2021-03-01T12:07:28.302098",
     "exception": false,
     "start_time": "2021-03-01T12:07:28.256258",
     "status": "completed"
    },
    "tags": []
   },
   "outputs": [],
   "source": [
    "#hide\n",
    "# g = g[cols]"
   ]
  },
  {
   "cell_type": "code",
   "execution_count": 31,
   "id": "subject-dublin",
   "metadata": {
    "execution": {
     "iopub.execute_input": "2021-03-01T12:07:28.381055Z",
     "iopub.status.busy": "2021-03-01T12:07:28.380400Z",
     "iopub.status.idle": "2021-03-01T12:07:28.382889Z",
     "shell.execute_reply": "2021-03-01T12:07:28.382335Z"
    },
    "papermill": {
     "duration": 0.042663,
     "end_time": "2021-03-01T12:07:28.383013",
     "exception": false,
     "start_time": "2021-03-01T12:07:28.340350",
     "status": "completed"
    },
    "tags": []
   },
   "outputs": [],
   "source": [
    "#hide\n",
    "# g['continent'] = g['continent'].map(mapping['map.continent'])"
   ]
  },
  {
   "cell_type": "code",
   "execution_count": 32,
   "id": "freelance-scout",
   "metadata": {
    "execution": {
     "iopub.execute_input": "2021-03-01T12:07:28.460841Z",
     "iopub.status.busy": "2021-03-01T12:07:28.460186Z",
     "iopub.status.idle": "2021-03-01T12:07:28.462096Z",
     "shell.execute_reply": "2021-03-01T12:07:28.462659Z"
    },
    "papermill": {
     "duration": 0.042625,
     "end_time": "2021-03-01T12:07:28.462799",
     "exception": false,
     "start_time": "2021-03-01T12:07:28.420174",
     "status": "completed"
    },
    "tags": []
   },
   "outputs": [],
   "source": [
    "#hide\n",
    "# g.head()"
   ]
  },
  {
   "cell_type": "code",
   "execution_count": 33,
   "id": "limited-engine",
   "metadata": {
    "execution": {
     "iopub.execute_input": "2021-03-01T12:07:28.540844Z",
     "iopub.status.busy": "2021-03-01T12:07:28.540193Z",
     "iopub.status.idle": "2021-03-01T12:07:28.542701Z",
     "shell.execute_reply": "2021-03-01T12:07:28.542140Z"
    },
    "papermill": {
     "duration": 0.042889,
     "end_time": "2021-03-01T12:07:28.542828",
     "exception": false,
     "start_time": "2021-03-01T12:07:28.499939",
     "status": "completed"
    },
    "tags": []
   },
   "outputs": [],
   "source": [
    "# hide\n",
    "# g['date'] = g['date'].astype('datetime64[ns]')"
   ]
  },
  {
   "cell_type": "code",
   "execution_count": 34,
   "id": "sophisticated-supervisor",
   "metadata": {
    "execution": {
     "iopub.execute_input": "2021-03-01T12:07:28.623875Z",
     "iopub.status.busy": "2021-03-01T12:07:28.623215Z",
     "iopub.status.idle": "2021-03-01T12:07:28.625611Z",
     "shell.execute_reply": "2021-03-01T12:07:28.625051Z"
    },
    "papermill": {
     "duration": 0.044957,
     "end_time": "2021-03-01T12:07:28.625739",
     "exception": false,
     "start_time": "2021-03-01T12:07:28.580782",
     "status": "completed"
    },
    "tags": []
   },
   "outputs": [],
   "source": [
    "#hide\n",
    "# g['date'] = g.date.dt.dayofyear"
   ]
  },
  {
   "cell_type": "code",
   "execution_count": 35,
   "id": "inside-dubai",
   "metadata": {
    "execution": {
     "iopub.execute_input": "2021-03-01T12:07:28.704901Z",
     "iopub.status.busy": "2021-03-01T12:07:28.704254Z",
     "iopub.status.idle": "2021-03-01T12:07:28.706166Z",
     "shell.execute_reply": "2021-03-01T12:07:28.706732Z"
    },
    "papermill": {
     "duration": 0.043126,
     "end_time": "2021-03-01T12:07:28.706870",
     "exception": false,
     "start_time": "2021-03-01T12:07:28.663744",
     "status": "completed"
    },
    "tags": []
   },
   "outputs": [],
   "source": [
    "#hide\n",
    "# g = g.rename(columns= {'continent':'group','country':'name','cases':'value'})"
   ]
  },
  {
   "cell_type": "code",
   "execution_count": 36,
   "id": "fleet-motorcycle",
   "metadata": {
    "execution": {
     "iopub.execute_input": "2021-03-01T12:07:28.788602Z",
     "iopub.status.busy": "2021-03-01T12:07:28.787944Z",
     "iopub.status.idle": "2021-03-01T12:07:28.790347Z",
     "shell.execute_reply": "2021-03-01T12:07:28.789768Z"
    },
    "papermill": {
     "duration": 0.046002,
     "end_time": "2021-03-01T12:07:28.790472",
     "exception": false,
     "start_time": "2021-03-01T12:07:28.744470",
     "status": "completed"
    },
    "tags": []
   },
   "outputs": [],
   "source": [
    "#hide\n",
    "# cols = ['name','group','day','value']"
   ]
  },
  {
   "cell_type": "code",
   "execution_count": 37,
   "id": "continued-sleeping",
   "metadata": {
    "execution": {
     "iopub.execute_input": "2021-03-01T12:07:28.873750Z",
     "iopub.status.busy": "2021-03-01T12:07:28.873056Z",
     "iopub.status.idle": "2021-03-01T12:07:28.875609Z",
     "shell.execute_reply": "2021-03-01T12:07:28.875053Z"
    },
    "papermill": {
     "duration": 0.043108,
     "end_time": "2021-03-01T12:07:28.875734",
     "exception": false,
     "start_time": "2021-03-01T12:07:28.832626",
     "status": "completed"
    },
    "tags": []
   },
   "outputs": [],
   "source": [
    "#hide\n",
    "# g.rename(columns= {'date':'day'},inplace = True)"
   ]
  },
  {
   "cell_type": "code",
   "execution_count": 38,
   "id": "major-fight",
   "metadata": {
    "execution": {
     "iopub.execute_input": "2021-03-01T12:07:28.955142Z",
     "iopub.status.busy": "2021-03-01T12:07:28.954494Z",
     "iopub.status.idle": "2021-03-01T12:07:28.956389Z",
     "shell.execute_reply": "2021-03-01T12:07:28.956895Z"
    },
    "papermill": {
     "duration": 0.044101,
     "end_time": "2021-03-01T12:07:28.957038",
     "exception": false,
     "start_time": "2021-03-01T12:07:28.912937",
     "status": "completed"
    },
    "tags": []
   },
   "outputs": [],
   "source": [
    "#hide\n",
    "# g = g[cols]"
   ]
  },
  {
   "cell_type": "code",
   "execution_count": 39,
   "id": "structured-mobile",
   "metadata": {
    "execution": {
     "iopub.execute_input": "2021-03-01T12:07:29.037900Z",
     "iopub.status.busy": "2021-03-01T12:07:29.037242Z",
     "iopub.status.idle": "2021-03-01T12:07:29.039793Z",
     "shell.execute_reply": "2021-03-01T12:07:29.039235Z"
    },
    "papermill": {
     "duration": 0.045488,
     "end_time": "2021-03-01T12:07:29.039921",
     "exception": false,
     "start_time": "2021-03-01T12:07:28.994433",
     "status": "completed"
    },
    "tags": []
   },
   "outputs": [],
   "source": [
    "# #hide\n",
    "# g = g[g.group.notna()]"
   ]
  },
  {
   "cell_type": "code",
   "execution_count": 40,
   "id": "determined-closing",
   "metadata": {
    "execution": {
     "iopub.execute_input": "2021-03-01T12:07:29.124300Z",
     "iopub.status.busy": "2021-03-01T12:07:29.123636Z",
     "iopub.status.idle": "2021-03-01T12:07:29.126077Z",
     "shell.execute_reply": "2021-03-01T12:07:29.125466Z"
    },
    "papermill": {
     "duration": 0.045545,
     "end_time": "2021-03-01T12:07:29.126207",
     "exception": false,
     "start_time": "2021-03-01T12:07:29.080662",
     "status": "completed"
    },
    "tags": []
   },
   "outputs": [],
   "source": [
    "# #hide\n",
    "# colors = dict(zip(\n",
    "#     [\"Oceania\", \"Europe\", \"Asia\", \"South America\", \"Middle East\", \"North America\", \"Africa\"],\n",
    "#     [\"#adb0ff\", \"#ffb3ff\", \"#90d595\", \"#e48381\", \"#aafbff\", \"#f7bb5f\", \"#eafb50\"]\n",
    "# ))\n",
    "# group_lk = g.set_index('name')['group'].to_dict()"
   ]
  },
  {
   "cell_type": "code",
   "execution_count": null,
   "id": "gross-drinking",
   "metadata": {
    "papermill": {
     "duration": 0.03976,
     "end_time": "2021-03-01T12:07:29.204149",
     "exception": false,
     "start_time": "2021-03-01T12:07:29.164389",
     "status": "completed"
    },
    "tags": []
   },
   "outputs": [],
   "source": []
  },
  {
   "cell_type": "code",
   "execution_count": 41,
   "id": "subject-macintosh",
   "metadata": {
    "execution": {
     "iopub.execute_input": "2021-03-01T12:07:29.287143Z",
     "iopub.status.busy": "2021-03-01T12:07:29.286473Z",
     "iopub.status.idle": "2021-03-01T12:07:29.288572Z",
     "shell.execute_reply": "2021-03-01T12:07:29.289073Z"
    },
    "papermill": {
     "duration": 0.045093,
     "end_time": "2021-03-01T12:07:29.289220",
     "exception": false,
     "start_time": "2021-03-01T12:07:29.244127",
     "status": "completed"
    },
    "tags": []
   },
   "outputs": [],
   "source": [
    "# #hide\n",
    "# fig, ax = plt.subplots(figsize=(15, 8))\n",
    "\n",
    "# def draw_barchart(current_day):\n",
    "#     dff = g[g['day'].eq(current_day)].sort_values(by='value', ascending=True).tail(10)\n",
    "#     ax.clear()\n",
    "#     ax.barh(dff['name'], dff['value'], color=[colors[group_lk[x]] for x in dff['name']])\n",
    "#     dx = dff['value'].max() / 200\n",
    "    \n",
    "#     for i, (value, name) in enumerate(zip(dff['value'], dff['name'])):\n",
    "#         ax.text(value-dx, i,     name,           size=14, weight=600, ha='right', va='bottom')\n",
    "#         ax.text(value-dx, i-.25, group_lk[name], size=10, color='#444444', ha='right', va='baseline')\n",
    "#         ax.text(value+dx, i,     f'{value:,.0f}',  size=14, ha='left',  va='center')\n",
    "#     ax.text(1, 0.4, current_day, transform=ax.transAxes, color='#777777', size=46, ha='right', weight=800)\n",
    "#     ax.text(0, 1.06, 'Population (thousands)', transform=ax.transAxes, size=12, color='#777777')\n",
    "#     ax.xaxis.set_major_formatter(ticker.StrMethodFormatter('{x:,.0f}'))\n",
    "#     ax.xaxis.set_ticks_position('top')\n",
    "#     ax.tick_params(axis='x', colors='#777777', labelsize=12)\n",
    "#     ax.set_yticks([])\n",
    "#     ax.margins(0, 0.01)\n",
    "#     ax.grid(which='major', axis='x', linestyle='-')\n",
    "#     ax.set_axisbelow(True)\n",
    "    \n",
    "#     ax.text(0, 1.15, 'Coronavirus',\n",
    "#             transform=ax.transAxes, size=24, weight=600, ha='left', va='top')\n",
    "# #     ax.text(1, 0, 'by @pratapvardhan; credit @jburnmurdoch', transform=ax.transAxes, color='#777777', ha='right',\n",
    "# #             bbox=dict(facecolor='white', alpha=0.8, edgecolor='white'))\n",
    "#     plt.box(False)"
   ]
  },
  {
   "cell_type": "code",
   "execution_count": 42,
   "id": "sexual-wages",
   "metadata": {
    "execution": {
     "iopub.execute_input": "2021-03-01T12:07:29.369676Z",
     "iopub.status.busy": "2021-03-01T12:07:29.369011Z",
     "iopub.status.idle": "2021-03-01T12:07:29.371425Z",
     "shell.execute_reply": "2021-03-01T12:07:29.371933Z"
    },
    "papermill": {
     "duration": 0.043718,
     "end_time": "2021-03-01T12:07:29.372082",
     "exception": false,
     "start_time": "2021-03-01T12:07:29.328364",
     "status": "completed"
    },
    "tags": []
   },
   "outputs": [],
   "source": [
    "# #hide_input\n",
    "# fig, ax = plt.subplots(figsize=(15, 8))\n",
    "# animator = animation.FuncAnimation(fig, draw_barchart, frames=range(g.day.values.min(), g.day.values.max()))\n",
    "# HTML(animator.to_jshtml())\n",
    "# # or use animator.to_html5_video() or animator.save() "
   ]
  },
  {
   "cell_type": "code",
   "execution_count": null,
   "id": "australian-container",
   "metadata": {
    "papermill": {
     "duration": 0.098538,
     "end_time": "2021-03-01T12:07:29.513308",
     "exception": false,
     "start_time": "2021-03-01T12:07:29.414770",
     "status": "completed"
    },
    "tags": []
   },
   "outputs": [],
   "source": []
  },
  {
   "cell_type": "code",
   "execution_count": null,
   "id": "mediterranean-pontiac",
   "metadata": {
    "papermill": {
     "duration": 0.139512,
     "end_time": "2021-03-01T12:07:29.905169",
     "exception": false,
     "start_time": "2021-03-01T12:07:29.765657",
     "status": "completed"
    },
    "tags": []
   },
   "outputs": [],
   "source": []
  },
  {
   "cell_type": "code",
   "execution_count": null,
   "id": "aging-legislature",
   "metadata": {
    "papermill": {
     "duration": 0.088074,
     "end_time": "2021-03-01T12:07:30.105801",
     "exception": false,
     "start_time": "2021-03-01T12:07:30.017727",
     "status": "completed"
    },
    "tags": []
   },
   "outputs": [],
   "source": []
  }
 ],
 "metadata": {
  "kernelspec": {
   "display_name": "Python 3",
   "language": "python",
   "name": "python3"
  },
  "language_info": {
   "codemirror_mode": {
    "name": "ipython",
    "version": 3
   },
   "file_extension": ".py",
   "mimetype": "text/x-python",
   "name": "python",
   "nbconvert_exporter": "python",
   "pygments_lexer": "ipython3",
   "version": "3.6.13"
  },
  "papermill": {
   "duration": 9.65294,
   "end_time": "2021-03-01T12:07:30.455226",
   "environment_variables": {},
   "exception": null,
   "input_path": "2020-03-21-covid19exp.ipynb",
   "output_path": "2020-03-21-covid19exp.ipynb",
   "parameters": {},
   "start_time": "2021-03-01T12:07:20.802286",
   "version": "2.0.0"
  }
 },
 "nbformat": 4,
 "nbformat_minor": 5
}