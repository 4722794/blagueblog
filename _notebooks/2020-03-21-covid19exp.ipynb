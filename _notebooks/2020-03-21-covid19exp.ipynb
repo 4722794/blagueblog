{
 "cells": [
  {
   "cell_type": "markdown",
   "id": "muslim-click",
   "metadata": {
    "papermill": {
     "duration": 0.058531,
     "end_time": "2021-11-12T12:12:34.197561",
     "exception": false,
     "start_time": "2021-11-12T12:12:34.139030",
     "status": "completed"
    },
    "tags": []
   },
   "source": [
    "# COVID-19 Case Race\n",
    "> A race chart to see rising cases around the world\n",
    "\n",
    "- author: Hargun Oberoi\n",
    "- image: images/covid-overview.png\n",
    "- hide: false\n",
    "- badges: false"
   ]
  },
  {
   "cell_type": "code",
   "execution_count": 1,
   "id": "proof-material",
   "metadata": {
    "execution": {
     "iopub.execute_input": "2021-11-12T12:12:34.311367Z",
     "iopub.status.busy": "2021-11-12T12:12:34.310501Z",
     "iopub.status.idle": "2021-11-12T12:12:34.769579Z",
     "shell.execute_reply": "2021-11-12T12:12:34.770116Z"
    },
    "papermill": {
     "duration": 0.513802,
     "end_time": "2021-11-12T12:12:34.770320",
     "exception": false,
     "start_time": "2021-11-12T12:12:34.256518",
     "status": "completed"
    },
    "tags": []
   },
   "outputs": [],
   "source": [
    "#hide\n",
    "import numpy as np\n",
    "import pandas as pd\n",
    "from jinja2 import Template\n",
    "from IPython.display import HTML"
   ]
  },
  {
   "cell_type": "code",
   "execution_count": 2,
   "id": "developed-terminology",
   "metadata": {
    "execution": {
     "iopub.execute_input": "2021-11-12T12:12:34.856591Z",
     "iopub.status.busy": "2021-11-12T12:12:34.855900Z",
     "iopub.status.idle": "2021-11-12T12:12:34.858359Z",
     "shell.execute_reply": "2021-11-12T12:12:34.857824Z"
    },
    "papermill": {
     "duration": 0.048446,
     "end_time": "2021-11-12T12:12:34.858505",
     "exception": false,
     "start_time": "2021-11-12T12:12:34.810059",
     "status": "completed"
    },
    "tags": []
   },
   "outputs": [],
   "source": [
    "#hide\n",
    "\n",
    "# FETCH\n",
    "base_url = 'https://raw.githubusercontent.com/pratapvardhan/notebooks/master/covid19/'\n",
    "paths = {\n",
    "    'mapping': base_url + 'mapping_countries.csv',\n",
    "    'overview': base_url + 'overview.tpl'\n",
    "}"
   ]
  },
  {
   "cell_type": "code",
   "execution_count": 3,
   "id": "dynamic-saver",
   "metadata": {
    "execution": {
     "iopub.execute_input": "2021-11-12T12:12:34.952217Z",
     "iopub.status.busy": "2021-11-12T12:12:34.950119Z",
     "iopub.status.idle": "2021-11-12T12:12:34.957092Z",
     "shell.execute_reply": "2021-11-12T12:12:34.957630Z"
    },
    "papermill": {
     "duration": 0.059035,
     "end_time": "2021-11-12T12:12:34.957799",
     "exception": false,
     "start_time": "2021-11-12T12:12:34.898764",
     "status": "completed"
    },
    "tags": []
   },
   "outputs": [
    {
     "data": {
      "text/plain": [
       "'https://raw.githubusercontent.com/pratapvardhan/notebooks/master/covid19/mapping_countries.csv'"
      ]
     },
     "execution_count": 3,
     "metadata": {},
     "output_type": "execute_result"
    }
   ],
   "source": [
    "#hide\n",
    "paths['mapping']"
   ]
  },
  {
   "cell_type": "code",
   "execution_count": 4,
   "id": "urban-software",
   "metadata": {
    "execution": {
     "iopub.execute_input": "2021-11-12T12:12:35.045341Z",
     "iopub.status.busy": "2021-11-12T12:12:35.044668Z",
     "iopub.status.idle": "2021-11-12T12:12:35.047475Z",
     "shell.execute_reply": "2021-11-12T12:12:35.046812Z"
    },
    "papermill": {
     "duration": 0.047562,
     "end_time": "2021-11-12T12:12:35.047614",
     "exception": false,
     "start_time": "2021-11-12T12:12:35.000052",
     "status": "completed"
    },
    "tags": []
   },
   "outputs": [],
   "source": [
    "#hide\n",
    "def get_mappings(url):\n",
    "    df = pd.read_csv(url)\n",
    "    return {\n",
    "        'df': df,\n",
    "        'replace.country': dict(df.dropna(subset=['Name']).set_index('Country')['Name']),\n",
    "        'map.continent': dict(df.set_index('Name')['Continent'])\n",
    "    }"
   ]
  },
  {
   "cell_type": "code",
   "execution_count": 5,
   "id": "intimate-machinery",
   "metadata": {
    "execution": {
     "iopub.execute_input": "2021-11-12T12:12:35.133006Z",
     "iopub.status.busy": "2021-11-12T12:12:35.132313Z",
     "iopub.status.idle": "2021-11-12T12:12:35.174774Z",
     "shell.execute_reply": "2021-11-12T12:12:35.175301Z"
    },
    "papermill": {
     "duration": 0.087931,
     "end_time": "2021-11-12T12:12:35.175485",
     "exception": false,
     "start_time": "2021-11-12T12:12:35.087554",
     "status": "completed"
    },
    "tags": []
   },
   "outputs": [],
   "source": [
    "#hide\n",
    "mapping = get_mappings(paths['mapping'])"
   ]
  },
  {
   "cell_type": "code",
   "execution_count": 6,
   "id": "certified-tactics",
   "metadata": {
    "execution": {
     "iopub.execute_input": "2021-11-12T12:12:35.264461Z",
     "iopub.status.busy": "2021-11-12T12:12:35.263769Z",
     "iopub.status.idle": "2021-11-12T12:12:35.266269Z",
     "shell.execute_reply": "2021-11-12T12:12:35.265604Z"
    },
    "papermill": {
     "duration": 0.047658,
     "end_time": "2021-11-12T12:12:35.266422",
     "exception": false,
     "start_time": "2021-11-12T12:12:35.218764",
     "status": "completed"
    },
    "tags": []
   },
   "outputs": [],
   "source": [
    "#hide\n",
    "def get_template(path):\n",
    "    from urllib.parse import urlparse\n",
    "    if bool(urlparse(path).netloc):\n",
    "        from urllib.request import urlopen\n",
    "        return urlopen(path).read().decode('utf8')\n",
    "    return open(path).read()"
   ]
  },
  {
   "cell_type": "code",
   "execution_count": 7,
   "id": "realistic-blast",
   "metadata": {
    "execution": {
     "iopub.execute_input": "2021-11-12T12:12:35.352636Z",
     "iopub.status.busy": "2021-11-12T12:12:35.351928Z",
     "iopub.status.idle": "2021-11-12T12:12:35.354435Z",
     "shell.execute_reply": "2021-11-12T12:12:35.353873Z"
    },
    "papermill": {
     "duration": 0.047599,
     "end_time": "2021-11-12T12:12:35.354582",
     "exception": false,
     "start_time": "2021-11-12T12:12:35.306983",
     "status": "completed"
    },
    "tags": []
   },
   "outputs": [],
   "source": [
    "#hide\n",
    "def get_frame(name):\n",
    "    url = (\n",
    "        'https://raw.githubusercontent.com/CSSEGISandData/COVID-19/master/csse_covid_19_data/'\n",
    "        f'csse_covid_19_time_series/time_series_covid19_{name}_global.csv')\n",
    "    df = pd.read_csv(url)\n",
    "    # rename countries\n",
    "    df['Country/Region'] = df['Country/Region'].replace(mapping['replace.country'])\n",
    "    return df"
   ]
  },
  {
   "cell_type": "code",
   "execution_count": 8,
   "id": "affiliated-characterization",
   "metadata": {
    "execution": {
     "iopub.execute_input": "2021-11-12T12:12:35.443533Z",
     "iopub.status.busy": "2021-11-12T12:12:35.442797Z",
     "iopub.status.idle": "2021-11-12T12:12:35.446388Z",
     "shell.execute_reply": "2021-11-12T12:12:35.445716Z"
    },
    "papermill": {
     "duration": 0.050892,
     "end_time": "2021-11-12T12:12:35.446559",
     "exception": false,
     "start_time": "2021-11-12T12:12:35.395667",
     "status": "completed"
    },
    "tags": []
   },
   "outputs": [],
   "source": [
    "#hide\n",
    "def get_dates(df):\n",
    "    dt_cols = df.columns[~df.columns.isin(['Province/State', 'Country/Region', 'Lat', 'Long'])]\n",
    "    LAST_DATE_I = -1\n",
    "    # sometimes last column may be empty, then go backwards\n",
    "    for i in range(-1, -len(dt_cols), -1):\n",
    "        if not df[dt_cols[i]].fillna(0).eq(0).all():\n",
    "            LAST_DATE_I = i\n",
    "            break\n",
    "    return LAST_DATE_I, dt_cols"
   ]
  },
  {
   "cell_type": "code",
   "execution_count": 9,
   "id": "recent-optimization",
   "metadata": {
    "execution": {
     "iopub.execute_input": "2021-11-12T12:12:35.538634Z",
     "iopub.status.busy": "2021-11-12T12:12:35.537890Z",
     "iopub.status.idle": "2021-11-12T12:12:36.017959Z",
     "shell.execute_reply": "2021-11-12T12:12:36.017345Z"
    },
    "papermill": {
     "duration": 0.527348,
     "end_time": "2021-11-12T12:12:36.018114",
     "exception": false,
     "start_time": "2021-11-12T12:12:35.490766",
     "status": "completed"
    },
    "tags": []
   },
   "outputs": [],
   "source": [
    "#hide\n",
    "COL_REGION = 'Country/Region'\n",
    "# Confirmed, Recovered, Deaths\n",
    "df = get_frame('confirmed')\n",
    "# dft_: timeseries, dfc_: today country agg\n",
    "dft_cases = df\n",
    "dft_deaths = get_frame('deaths')\n",
    "dft_recovered = get_frame('recovered')\n",
    "LAST_DATE_I, dt_cols = get_dates(df)"
   ]
  },
  {
   "cell_type": "code",
   "execution_count": 10,
   "id": "absolute-copper",
   "metadata": {
    "execution": {
     "iopub.execute_input": "2021-11-12T12:12:36.103506Z",
     "iopub.status.busy": "2021-11-12T12:12:36.102814Z",
     "iopub.status.idle": "2021-11-12T12:12:36.106066Z",
     "shell.execute_reply": "2021-11-12T12:12:36.106573Z"
    },
    "papermill": {
     "duration": 0.048637,
     "end_time": "2021-11-12T12:12:36.106773",
     "exception": false,
     "start_time": "2021-11-12T12:12:36.058136",
     "status": "completed"
    },
    "tags": []
   },
   "outputs": [],
   "source": [
    "#hide\n",
    "LAST_DATE_I, dt_cols = get_dates(df)\n",
    "dt_today =dt_cols[LAST_DATE_I]\n",
    "# dt_5day = dt_cols[LAST_DATE_I - 5]\n",
    "dt_yday = dt_cols[LAST_DATE_I - 1]"
   ]
  },
  {
   "cell_type": "code",
   "execution_count": 11,
   "id": "restricted-sheriff",
   "metadata": {
    "execution": {
     "iopub.execute_input": "2021-11-12T12:12:36.189911Z",
     "iopub.status.busy": "2021-11-12T12:12:36.189211Z",
     "iopub.status.idle": "2021-11-12T12:12:36.199432Z",
     "shell.execute_reply": "2021-11-12T12:12:36.199956Z"
    },
    "papermill": {
     "duration": 0.055052,
     "end_time": "2021-11-12T12:12:36.200135",
     "exception": false,
     "start_time": "2021-11-12T12:12:36.145083",
     "status": "completed"
    },
    "tags": []
   },
   "outputs": [],
   "source": [
    "#hide\n",
    "dfc_cases = dft_cases.groupby(COL_REGION)[dt_today].sum()\n",
    "dfc_deaths = dft_deaths.groupby(COL_REGION)[dt_today].sum()\n",
    "# dfp_cases = dft_cases.groupby(COL_REGION)[dt_5day].sum()\n",
    "# dfp_deaths = dft_deaths.groupby(COL_REGION)[dt_5day].sum()\n",
    "dfp_cases = dft_cases.groupby(COL_REGION)[dt_yday].sum()\n",
    "dfp_deaths = dft_deaths.groupby(COL_REGION)[dt_yday].sum()"
   ]
  },
  {
   "cell_type": "code",
   "execution_count": 12,
   "id": "deluxe-hepatitis",
   "metadata": {
    "execution": {
     "iopub.execute_input": "2021-11-12T12:12:36.284903Z",
     "iopub.status.busy": "2021-11-12T12:12:36.284186Z",
     "iopub.status.idle": "2021-11-12T12:12:36.289514Z",
     "shell.execute_reply": "2021-11-12T12:12:36.290085Z"
    },
    "papermill": {
     "duration": 0.051127,
     "end_time": "2021-11-12T12:12:36.290268",
     "exception": false,
     "start_time": "2021-11-12T12:12:36.239141",
     "status": "completed"
    },
    "tags": []
   },
   "outputs": [],
   "source": [
    "#hide\n",
    "df_table = (pd.DataFrame(dict(Cases = dfc_cases, Deaths = dfc_deaths, PCases = dfp_cases, PDeaths = dfp_deaths))\n",
    "            .sort_values(by = ['Cases','Deaths'], ascending = [False, False])\n",
    "            .reset_index())"
   ]
  },
  {
   "cell_type": "code",
   "execution_count": 13,
   "id": "educational-chancellor",
   "metadata": {
    "execution": {
     "iopub.execute_input": "2021-11-12T12:12:36.380652Z",
     "iopub.status.busy": "2021-11-12T12:12:36.379948Z",
     "iopub.status.idle": "2021-11-12T12:12:36.400189Z",
     "shell.execute_reply": "2021-11-12T12:12:36.399601Z"
    },
    "papermill": {
     "duration": 0.07115,
     "end_time": "2021-11-12T12:12:36.400353",
     "exception": false,
     "start_time": "2021-11-12T12:12:36.329203",
     "status": "completed"
    },
    "tags": []
   },
   "outputs": [
    {
     "data": {
      "text/html": [
       "<div>\n",
       "<style scoped>\n",
       "    .dataframe tbody tr th:only-of-type {\n",
       "        vertical-align: middle;\n",
       "    }\n",
       "\n",
       "    .dataframe tbody tr th {\n",
       "        vertical-align: top;\n",
       "    }\n",
       "\n",
       "    .dataframe thead th {\n",
       "        text-align: right;\n",
       "    }\n",
       "</style>\n",
       "<table border=\"1\" class=\"dataframe\">\n",
       "  <thead>\n",
       "    <tr style=\"text-align: right;\">\n",
       "      <th></th>\n",
       "      <th>Country/Region</th>\n",
       "      <th>Cases</th>\n",
       "      <th>Deaths</th>\n",
       "      <th>PCases</th>\n",
       "      <th>PDeaths</th>\n",
       "      <th>Cases (+)</th>\n",
       "      <th>Deaths (+)</th>\n",
       "      <th>Fatality Rate</th>\n",
       "      <th>Continent</th>\n",
       "    </tr>\n",
       "  </thead>\n",
       "  <tbody>\n",
       "    <tr>\n",
       "      <th>0</th>\n",
       "      <td>US</td>\n",
       "      <td>46852276</td>\n",
       "      <td>759676</td>\n",
       "      <td>46789031</td>\n",
       "      <td>758916</td>\n",
       "      <td>63245</td>\n",
       "      <td>760</td>\n",
       "      <td>1.62</td>\n",
       "      <td>North America</td>\n",
       "    </tr>\n",
       "    <tr>\n",
       "      <th>1</th>\n",
       "      <td>India</td>\n",
       "      <td>34414186</td>\n",
       "      <td>462690</td>\n",
       "      <td>34401670</td>\n",
       "      <td>462189</td>\n",
       "      <td>12516</td>\n",
       "      <td>501</td>\n",
       "      <td>1.34</td>\n",
       "      <td>Asia</td>\n",
       "    </tr>\n",
       "    <tr>\n",
       "      <th>2</th>\n",
       "      <td>Brazil</td>\n",
       "      <td>21924598</td>\n",
       "      <td>610224</td>\n",
       "      <td>21909298</td>\n",
       "      <td>610036</td>\n",
       "      <td>15300</td>\n",
       "      <td>188</td>\n",
       "      <td>2.78</td>\n",
       "      <td>South America</td>\n",
       "    </tr>\n",
       "    <tr>\n",
       "      <th>3</th>\n",
       "      <td>United Kingdom</td>\n",
       "      <td>9495395</td>\n",
       "      <td>142971</td>\n",
       "      <td>9451884</td>\n",
       "      <td>142772</td>\n",
       "      <td>43511</td>\n",
       "      <td>199</td>\n",
       "      <td>1.51</td>\n",
       "      <td>Europe</td>\n",
       "    </tr>\n",
       "    <tr>\n",
       "      <th>4</th>\n",
       "      <td>Russia</td>\n",
       "      <td>8804297</td>\n",
       "      <td>247000</td>\n",
       "      <td>8764713</td>\n",
       "      <td>245794</td>\n",
       "      <td>39584</td>\n",
       "      <td>1206</td>\n",
       "      <td>2.81</td>\n",
       "      <td>Europe</td>\n",
       "    </tr>\n",
       "  </tbody>\n",
       "</table>\n",
       "</div>"
      ],
      "text/plain": [
       "   Country/Region     Cases  Deaths    PCases  PDeaths  Cases (+)  Deaths (+)  \\\n",
       "0              US  46852276  759676  46789031   758916      63245         760   \n",
       "1           India  34414186  462690  34401670   462189      12516         501   \n",
       "2          Brazil  21924598  610224  21909298   610036      15300         188   \n",
       "3  United Kingdom   9495395  142971   9451884   142772      43511         199   \n",
       "4          Russia   8804297  247000   8764713   245794      39584        1206   \n",
       "\n",
       "   Fatality Rate      Continent  \n",
       "0           1.62  North America  \n",
       "1           1.34           Asia  \n",
       "2           2.78  South America  \n",
       "3           1.51         Europe  \n",
       "4           2.81         Europe  "
      ]
     },
     "execution_count": 13,
     "metadata": {},
     "output_type": "execute_result"
    }
   ],
   "source": [
    "#hide\n",
    "for c in 'Cases, Deaths'.split(', '):\n",
    "    df_table[f'{c} (+)'] = (df_table[c] - df_table[f'P{c}']).clip(0)\n",
    "    #Clip ça veut dire, les chiffres negatif sont interdit\n",
    "df_table['Fatality Rate'] = (100* df_table['Deaths']/ df_table['Cases']).round(2)\n",
    "df_table['Continent'] = df_table['Country/Region'].map(mapping['map.continent'])\n",
    "df_table.head(5)"
   ]
  },
  {
   "cell_type": "code",
   "execution_count": 14,
   "id": "aboriginal-bulgaria",
   "metadata": {
    "execution": {
     "iopub.execute_input": "2021-11-12T12:12:36.484922Z",
     "iopub.status.busy": "2021-11-12T12:12:36.484228Z",
     "iopub.status.idle": "2021-11-12T12:12:36.486173Z",
     "shell.execute_reply": "2021-11-12T12:12:36.486968Z"
    },
    "papermill": {
     "duration": 0.048383,
     "end_time": "2021-11-12T12:12:36.487159",
     "exception": false,
     "start_time": "2021-11-12T12:12:36.438776",
     "status": "completed"
    },
    "tags": []
   },
   "outputs": [],
   "source": [
    "#hide\n",
    "#delete problematic countries from table\n",
    "df_table = df_table[~df_table['Country/Region'].isin(['Cape Verde', 'Cruise Ship', 'Kosovo'])]"
   ]
  },
  {
   "cell_type": "code",
   "execution_count": 15,
   "id": "fantastic-effect",
   "metadata": {
    "execution": {
     "iopub.execute_input": "2021-11-12T12:12:36.576670Z",
     "iopub.status.busy": "2021-11-12T12:12:36.575965Z",
     "iopub.status.idle": "2021-11-12T12:12:36.598527Z",
     "shell.execute_reply": "2021-11-12T12:12:36.597861Z"
    },
    "papermill": {
     "duration": 0.07152,
     "end_time": "2021-11-12T12:12:36.598704",
     "exception": false,
     "start_time": "2021-11-12T12:12:36.527184",
     "status": "completed"
    },
    "tags": []
   },
   "outputs": [
    {
     "data": {
      "text/html": [
       "<div>\n",
       "<style scoped>\n",
       "    .dataframe tbody tr th:only-of-type {\n",
       "        vertical-align: middle;\n",
       "    }\n",
       "\n",
       "    .dataframe tbody tr th {\n",
       "        vertical-align: top;\n",
       "    }\n",
       "\n",
       "    .dataframe thead th {\n",
       "        text-align: right;\n",
       "    }\n",
       "</style>\n",
       "<table border=\"1\" class=\"dataframe\">\n",
       "  <thead>\n",
       "    <tr style=\"text-align: right;\">\n",
       "      <th></th>\n",
       "      <th>Country/Region</th>\n",
       "      <th>Cases</th>\n",
       "      <th>Deaths</th>\n",
       "      <th>PCases</th>\n",
       "      <th>PDeaths</th>\n",
       "      <th>Cases (+)</th>\n",
       "      <th>Deaths (+)</th>\n",
       "      <th>Fatality Rate</th>\n",
       "      <th>Continent</th>\n",
       "    </tr>\n",
       "  </thead>\n",
       "  <tbody>\n",
       "    <tr>\n",
       "      <th>0</th>\n",
       "      <td>US</td>\n",
       "      <td>46852276</td>\n",
       "      <td>759676</td>\n",
       "      <td>46789031</td>\n",
       "      <td>758916</td>\n",
       "      <td>63245</td>\n",
       "      <td>760</td>\n",
       "      <td>1.6</td>\n",
       "      <td>North America</td>\n",
       "    </tr>\n",
       "    <tr>\n",
       "      <th>1</th>\n",
       "      <td>India</td>\n",
       "      <td>34414186</td>\n",
       "      <td>462690</td>\n",
       "      <td>34401670</td>\n",
       "      <td>462189</td>\n",
       "      <td>12516</td>\n",
       "      <td>501</td>\n",
       "      <td>1.3</td>\n",
       "      <td>Asia</td>\n",
       "    </tr>\n",
       "    <tr>\n",
       "      <th>2</th>\n",
       "      <td>Brazil</td>\n",
       "      <td>21924598</td>\n",
       "      <td>610224</td>\n",
       "      <td>21909298</td>\n",
       "      <td>610036</td>\n",
       "      <td>15300</td>\n",
       "      <td>188</td>\n",
       "      <td>2.8</td>\n",
       "      <td>South America</td>\n",
       "    </tr>\n",
       "    <tr>\n",
       "      <th>3</th>\n",
       "      <td>United Kingdom</td>\n",
       "      <td>9495395</td>\n",
       "      <td>142971</td>\n",
       "      <td>9451884</td>\n",
       "      <td>142772</td>\n",
       "      <td>43511</td>\n",
       "      <td>199</td>\n",
       "      <td>1.5</td>\n",
       "      <td>Europe</td>\n",
       "    </tr>\n",
       "    <tr>\n",
       "      <th>4</th>\n",
       "      <td>Russia</td>\n",
       "      <td>8804297</td>\n",
       "      <td>247000</td>\n",
       "      <td>8764713</td>\n",
       "      <td>245794</td>\n",
       "      <td>39584</td>\n",
       "      <td>1206</td>\n",
       "      <td>2.8</td>\n",
       "      <td>Europe</td>\n",
       "    </tr>\n",
       "  </tbody>\n",
       "</table>\n",
       "</div>"
      ],
      "text/plain": [
       "   Country/Region     Cases  Deaths    PCases  PDeaths  Cases (+)  Deaths (+)  \\\n",
       "0              US  46852276  759676  46789031   758916      63245         760   \n",
       "1           India  34414186  462690  34401670   462189      12516         501   \n",
       "2          Brazil  21924598  610224  21909298   610036      15300         188   \n",
       "3  United Kingdom   9495395  142971   9451884   142772      43511         199   \n",
       "4          Russia   8804297  247000   8764713   245794      39584        1206   \n",
       "\n",
       "   Fatality Rate      Continent  \n",
       "0            1.6  North America  \n",
       "1            1.3           Asia  \n",
       "2            2.8  South America  \n",
       "3            1.5         Europe  \n",
       "4            2.8         Europe  "
      ]
     },
     "execution_count": 15,
     "metadata": {},
     "output_type": "execute_result"
    }
   ],
   "source": [
    "#hide\n",
    "df_table = (pd.DataFrame(dict(Cases=dfc_cases, Deaths=dfc_deaths, PCases=dfp_cases, PDeaths=dfp_deaths))\n",
    "             .sort_values(by=['Cases', 'Deaths'], ascending=[False, False])\n",
    "             .reset_index())\n",
    "df_table.rename(columns={'index': 'Country/Region'}, inplace=True)\n",
    "for c in 'Cases, Deaths'.split(', '):\n",
    "    df_table[f'{c} (+)'] = (df_table[c] - df_table[f'P{c}']).clip(0)  # DATA BUG\n",
    "df_table['Fatality Rate'] = (100 * df_table['Deaths'] / df_table['Cases']).round(1)\n",
    "df_table['Continent'] = df_table['Country/Region'].map(mapping['map.continent'])\n",
    "df_table.head(5)"
   ]
  },
  {
   "cell_type": "code",
   "execution_count": 16,
   "id": "fewer-occasion",
   "metadata": {
    "execution": {
     "iopub.execute_input": "2021-11-12T12:12:36.686456Z",
     "iopub.status.busy": "2021-11-12T12:12:36.685759Z",
     "iopub.status.idle": "2021-11-12T12:12:36.693435Z",
     "shell.execute_reply": "2021-11-12T12:12:36.692872Z"
    },
    "papermill": {
     "duration": 0.053687,
     "end_time": "2021-11-12T12:12:36.693587",
     "exception": false,
     "start_time": "2021-11-12T12:12:36.639900",
     "status": "completed"
    },
    "tags": []
   },
   "outputs": [],
   "source": [
    "#hide\n",
    "#delete problematic countries from table\n",
    "df_table = df_table[~df_table['Country/Region'].isin(['Cape Verde', 'Cruise Ship', 'Kosovo'])]"
   ]
  },
  {
   "cell_type": "code",
   "execution_count": 17,
   "id": "related-center",
   "metadata": {
    "execution": {
     "iopub.execute_input": "2021-11-12T12:12:36.807949Z",
     "iopub.status.busy": "2021-11-12T12:12:36.804567Z",
     "iopub.status.idle": "2021-11-12T12:12:36.810900Z",
     "shell.execute_reply": "2021-11-12T12:12:36.810268Z"
    },
    "papermill": {
     "duration": 0.075439,
     "end_time": "2021-11-12T12:12:36.811050",
     "exception": false,
     "start_time": "2021-11-12T12:12:36.735611",
     "status": "completed"
    },
    "tags": []
   },
   "outputs": [],
   "source": [
    "#hide\n",
    "metrics = [df_table.columns[index] for index in [1,2,5,6]]\n",
    "# s_china = df_table[df_table['Country/Region'].eq('China')][metrics].sum().add_prefix('China ')\n",
    "s_us = df_table[df_table['Country/Region'].eq('US')][metrics].sum().add_prefix('US ')\n",
    "s_eu = df_table[df_table['Continent'].eq('Europe')][metrics].sum().add_prefix('EU ')\n",
    "s_ind = df_table[df_table['Country/Region'].eq('India')][metrics].sum().add_prefix('India ')\n",
    "summary = {'updated': pd.to_datetime(dt_today), 'since': pd.to_datetime(dt_yday)}\n",
    "summary = {'updated': pd.to_datetime(dt_today), 'since': pd.to_datetime(dt_yday)}\n",
    "summary = {**summary, **df_table[metrics].sum(), **s_ind, **s_us, **s_eu}"
   ]
  },
  {
   "cell_type": "code",
   "execution_count": 18,
   "id": "engaging-syndrome",
   "metadata": {
    "execution": {
     "iopub.execute_input": "2021-11-12T12:12:36.897046Z",
     "iopub.status.busy": "2021-11-12T12:12:36.896388Z",
     "iopub.status.idle": "2021-11-12T12:12:36.912401Z",
     "shell.execute_reply": "2021-11-12T12:12:36.911820Z"
    },
    "papermill": {
     "duration": 0.061668,
     "end_time": "2021-11-12T12:12:36.912557",
     "exception": false,
     "start_time": "2021-11-12T12:12:36.850889",
     "status": "completed"
    },
    "tags": []
   },
   "outputs": [],
   "source": [
    "#hide\n",
    "dft_ct_new_cases = dft_cases.groupby(COL_REGION)[dt_cols].sum().diff(axis=1).fillna(0).astype(int)"
   ]
  },
  {
   "cell_type": "code",
   "execution_count": 19,
   "id": "neutral-assignment",
   "metadata": {
    "execution": {
     "iopub.execute_input": "2021-11-12T12:12:37.001379Z",
     "iopub.status.busy": "2021-11-12T12:12:37.000701Z",
     "iopub.status.idle": "2021-11-12T12:12:37.002744Z",
     "shell.execute_reply": "2021-11-12T12:12:37.003295Z"
    },
    "papermill": {
     "duration": 0.052114,
     "end_time": "2021-11-12T12:12:37.003462",
     "exception": false,
     "start_time": "2021-11-12T12:12:36.951348",
     "status": "completed"
    },
    "tags": []
   },
   "outputs": [],
   "source": [
    "#hide\n",
    "everydaycases = dft_ct_new_cases.cumsum(axis=1)"
   ]
  },
  {
   "cell_type": "code",
   "execution_count": 20,
   "id": "parliamentary-calgary",
   "metadata": {
    "execution": {
     "iopub.execute_input": "2021-11-12T12:12:37.096831Z",
     "iopub.status.busy": "2021-11-12T12:12:37.096114Z",
     "iopub.status.idle": "2021-11-12T12:12:37.878980Z",
     "shell.execute_reply": "2021-11-12T12:12:37.878340Z"
    },
    "papermill": {
     "duration": 0.836068,
     "end_time": "2021-11-12T12:12:37.879133",
     "exception": false,
     "start_time": "2021-11-12T12:12:37.043065",
     "status": "completed"
    },
    "tags": []
   },
   "outputs": [],
   "source": [
    "#hide\n",
    "import pandas as pd\n",
    "import matplotlib.pyplot as plt\n",
    "import matplotlib.ticker as ticker\n",
    "import matplotlib.animation as animation\n",
    "from IPython.display import HTML"
   ]
  },
  {
   "cell_type": "code",
   "execution_count": 21,
   "id": "lasting-extraction",
   "metadata": {
    "execution": {
     "iopub.execute_input": "2021-11-12T12:12:37.965088Z",
     "iopub.status.busy": "2021-11-12T12:12:37.964383Z",
     "iopub.status.idle": "2021-11-12T12:12:37.970919Z",
     "shell.execute_reply": "2021-11-12T12:12:37.970333Z"
    },
    "papermill": {
     "duration": 0.051648,
     "end_time": "2021-11-12T12:12:37.971073",
     "exception": false,
     "start_time": "2021-11-12T12:12:37.919425",
     "status": "completed"
    },
    "tags": []
   },
   "outputs": [],
   "source": [
    "#hide\n",
    "t = everydaycases.stack()"
   ]
  },
  {
   "cell_type": "code",
   "execution_count": 22,
   "id": "premier-sleeve",
   "metadata": {
    "execution": {
     "iopub.execute_input": "2021-11-12T12:12:38.062648Z",
     "iopub.status.busy": "2021-11-12T12:12:38.061744Z",
     "iopub.status.idle": "2021-11-12T12:12:38.078517Z",
     "shell.execute_reply": "2021-11-12T12:12:38.079113Z"
    },
    "papermill": {
     "duration": 0.069404,
     "end_time": "2021-11-12T12:12:38.079309",
     "exception": false,
     "start_time": "2021-11-12T12:12:38.009905",
     "status": "completed"
    },
    "tags": []
   },
   "outputs": [],
   "source": [
    "#hide\n",
    "g = t.reset_index(['Country/Region'])"
   ]
  },
  {
   "cell_type": "code",
   "execution_count": 23,
   "id": "distributed-pittsburgh",
   "metadata": {
    "execution": {
     "iopub.execute_input": "2021-11-12T12:12:38.163879Z",
     "iopub.status.busy": "2021-11-12T12:12:38.163126Z",
     "iopub.status.idle": "2021-11-12T12:12:38.167203Z",
     "shell.execute_reply": "2021-11-12T12:12:38.166653Z"
    },
    "papermill": {
     "duration": 0.04752,
     "end_time": "2021-11-12T12:12:38.167354",
     "exception": false,
     "start_time": "2021-11-12T12:12:38.119834",
     "status": "completed"
    },
    "tags": []
   },
   "outputs": [],
   "source": [
    "#hide\n",
    "g.index.name = 'date'"
   ]
  },
  {
   "cell_type": "code",
   "execution_count": 24,
   "id": "naked-donor",
   "metadata": {
    "execution": {
     "iopub.execute_input": "2021-11-12T12:12:38.250091Z",
     "iopub.status.busy": "2021-11-12T12:12:38.249427Z",
     "iopub.status.idle": "2021-11-12T12:12:38.253283Z",
     "shell.execute_reply": "2021-11-12T12:12:38.253786Z"
    },
    "papermill": {
     "duration": 0.046954,
     "end_time": "2021-11-12T12:12:38.253953",
     "exception": false,
     "start_time": "2021-11-12T12:12:38.206999",
     "status": "completed"
    },
    "tags": []
   },
   "outputs": [],
   "source": [
    "# #hide\n",
    "# g = g.reset_index(['date'])"
   ]
  },
  {
   "cell_type": "code",
   "execution_count": 25,
   "id": "incomplete-mustang",
   "metadata": {
    "execution": {
     "iopub.execute_input": "2021-11-12T12:12:38.339689Z",
     "iopub.status.busy": "2021-11-12T12:12:38.338193Z",
     "iopub.status.idle": "2021-11-12T12:12:38.340415Z",
     "shell.execute_reply": "2021-11-12T12:12:38.340946Z"
    },
    "papermill": {
     "duration": 0.04771,
     "end_time": "2021-11-12T12:12:38.341114",
     "exception": false,
     "start_time": "2021-11-12T12:12:38.293404",
     "status": "completed"
    },
    "tags": []
   },
   "outputs": [],
   "source": [
    "#hide\n",
    "# g.head()"
   ]
  },
  {
   "cell_type": "code",
   "execution_count": 26,
   "id": "specific-kruger",
   "metadata": {
    "execution": {
     "iopub.execute_input": "2021-11-12T12:12:38.425634Z",
     "iopub.status.busy": "2021-11-12T12:12:38.424961Z",
     "iopub.status.idle": "2021-11-12T12:12:38.428878Z",
     "shell.execute_reply": "2021-11-12T12:12:38.429388Z"
    },
    "papermill": {
     "duration": 0.049199,
     "end_time": "2021-11-12T12:12:38.429564",
     "exception": false,
     "start_time": "2021-11-12T12:12:38.380365",
     "status": "completed"
    },
    "tags": []
   },
   "outputs": [],
   "source": [
    "#hide\n",
    "# g.columns = ['date','country','cases']"
   ]
  },
  {
   "cell_type": "code",
   "execution_count": 27,
   "id": "tender-conversion",
   "metadata": {
    "execution": {
     "iopub.execute_input": "2021-11-12T12:12:38.513719Z",
     "iopub.status.busy": "2021-11-12T12:12:38.513047Z",
     "iopub.status.idle": "2021-11-12T12:12:38.515443Z",
     "shell.execute_reply": "2021-11-12T12:12:38.514778Z"
    },
    "papermill": {
     "duration": 0.046363,
     "end_time": "2021-11-12T12:12:38.515589",
     "exception": false,
     "start_time": "2021-11-12T12:12:38.469226",
     "status": "completed"
    },
    "tags": []
   },
   "outputs": [],
   "source": [
    "#hide\n",
    "# g['continent'] = g.country"
   ]
  },
  {
   "cell_type": "code",
   "execution_count": 28,
   "id": "substantial-wilderness",
   "metadata": {
    "execution": {
     "iopub.execute_input": "2021-11-12T12:12:38.598132Z",
     "iopub.status.busy": "2021-11-12T12:12:38.597278Z",
     "iopub.status.idle": "2021-11-12T12:12:38.599538Z",
     "shell.execute_reply": "2021-11-12T12:12:38.600073Z"
    },
    "papermill": {
     "duration": 0.045524,
     "end_time": "2021-11-12T12:12:38.600246",
     "exception": false,
     "start_time": "2021-11-12T12:12:38.554722",
     "status": "completed"
    },
    "tags": []
   },
   "outputs": [],
   "source": [
    "#hide\n",
    "# cols = list(g.columns.values)"
   ]
  },
  {
   "cell_type": "code",
   "execution_count": 29,
   "id": "solved-farming",
   "metadata": {
    "execution": {
     "iopub.execute_input": "2021-11-12T12:12:38.686171Z",
     "iopub.status.busy": "2021-11-12T12:12:38.685508Z",
     "iopub.status.idle": "2021-11-12T12:12:38.687520Z",
     "shell.execute_reply": "2021-11-12T12:12:38.688024Z"
    },
    "papermill": {
     "duration": 0.046907,
     "end_time": "2021-11-12T12:12:38.688257",
     "exception": false,
     "start_time": "2021-11-12T12:12:38.641350",
     "status": "completed"
    },
    "tags": []
   },
   "outputs": [],
   "source": [
    "#hide\n",
    "# cols.insert(0, cols.pop())"
   ]
  },
  {
   "cell_type": "code",
   "execution_count": 30,
   "id": "executed-adoption",
   "metadata": {
    "execution": {
     "iopub.execute_input": "2021-11-12T12:12:38.770985Z",
     "iopub.status.busy": "2021-11-12T12:12:38.770296Z",
     "iopub.status.idle": "2021-11-12T12:12:38.772747Z",
     "shell.execute_reply": "2021-11-12T12:12:38.772098Z"
    },
    "papermill": {
     "duration": 0.045972,
     "end_time": "2021-11-12T12:12:38.772887",
     "exception": false,
     "start_time": "2021-11-12T12:12:38.726915",
     "status": "completed"
    },
    "tags": []
   },
   "outputs": [],
   "source": [
    "#hide\n",
    "# g = g[cols]"
   ]
  },
  {
   "cell_type": "code",
   "execution_count": 31,
   "id": "subject-dublin",
   "metadata": {
    "execution": {
     "iopub.execute_input": "2021-11-12T12:12:38.855907Z",
     "iopub.status.busy": "2021-11-12T12:12:38.855246Z",
     "iopub.status.idle": "2021-11-12T12:12:38.859423Z",
     "shell.execute_reply": "2021-11-12T12:12:38.858865Z"
    },
    "papermill": {
     "duration": 0.047945,
     "end_time": "2021-11-12T12:12:38.859562",
     "exception": false,
     "start_time": "2021-11-12T12:12:38.811617",
     "status": "completed"
    },
    "tags": []
   },
   "outputs": [],
   "source": [
    "#hide\n",
    "# g['continent'] = g['continent'].map(mapping['map.continent'])"
   ]
  },
  {
   "cell_type": "code",
   "execution_count": 32,
   "id": "freelance-scout",
   "metadata": {
    "execution": {
     "iopub.execute_input": "2021-11-12T12:12:38.943378Z",
     "iopub.status.busy": "2021-11-12T12:12:38.942673Z",
     "iopub.status.idle": "2021-11-12T12:12:38.946237Z",
     "shell.execute_reply": "2021-11-12T12:12:38.945609Z"
    },
    "papermill": {
     "duration": 0.047958,
     "end_time": "2021-11-12T12:12:38.946401",
     "exception": false,
     "start_time": "2021-11-12T12:12:38.898443",
     "status": "completed"
    },
    "tags": []
   },
   "outputs": [],
   "source": [
    "#hide\n",
    "# g.head()"
   ]
  },
  {
   "cell_type": "code",
   "execution_count": 33,
   "id": "limited-engine",
   "metadata": {
    "execution": {
     "iopub.execute_input": "2021-11-12T12:12:39.031235Z",
     "iopub.status.busy": "2021-11-12T12:12:39.030395Z",
     "iopub.status.idle": "2021-11-12T12:12:39.033048Z",
     "shell.execute_reply": "2021-11-12T12:12:39.032472Z"
    },
    "papermill": {
     "duration": 0.046846,
     "end_time": "2021-11-12T12:12:39.033196",
     "exception": false,
     "start_time": "2021-11-12T12:12:38.986350",
     "status": "completed"
    },
    "tags": []
   },
   "outputs": [],
   "source": [
    "# hide\n",
    "# g['date'] = g['date'].astype('datetime64[ns]')"
   ]
  },
  {
   "cell_type": "code",
   "execution_count": 34,
   "id": "sophisticated-supervisor",
   "metadata": {
    "execution": {
     "iopub.execute_input": "2021-11-12T12:12:39.120663Z",
     "iopub.status.busy": "2021-11-12T12:12:39.119994Z",
     "iopub.status.idle": "2021-11-12T12:12:39.125551Z",
     "shell.execute_reply": "2021-11-12T12:12:39.124974Z"
    },
    "papermill": {
     "duration": 0.04872,
     "end_time": "2021-11-12T12:12:39.125747",
     "exception": false,
     "start_time": "2021-11-12T12:12:39.077027",
     "status": "completed"
    },
    "tags": []
   },
   "outputs": [],
   "source": [
    "#hide\n",
    "# g['date'] = g.date.dt.dayofyear"
   ]
  },
  {
   "cell_type": "code",
   "execution_count": 35,
   "id": "inside-dubai",
   "metadata": {
    "execution": {
     "iopub.execute_input": "2021-11-12T12:12:39.208122Z",
     "iopub.status.busy": "2021-11-12T12:12:39.206591Z",
     "iopub.status.idle": "2021-11-12T12:12:39.208837Z",
     "shell.execute_reply": "2021-11-12T12:12:39.209369Z"
    },
    "papermill": {
     "duration": 0.045073,
     "end_time": "2021-11-12T12:12:39.209536",
     "exception": false,
     "start_time": "2021-11-12T12:12:39.164463",
     "status": "completed"
    },
    "tags": []
   },
   "outputs": [],
   "source": [
    "#hide\n",
    "# g = g.rename(columns= {'continent':'group','country':'name','cases':'value'})"
   ]
  },
  {
   "cell_type": "code",
   "execution_count": 36,
   "id": "fleet-motorcycle",
   "metadata": {
    "execution": {
     "iopub.execute_input": "2021-11-12T12:12:39.293939Z",
     "iopub.status.busy": "2021-11-12T12:12:39.293195Z",
     "iopub.status.idle": "2021-11-12T12:12:39.297070Z",
     "shell.execute_reply": "2021-11-12T12:12:39.297575Z"
    },
    "papermill": {
     "duration": 0.048354,
     "end_time": "2021-11-12T12:12:39.297746",
     "exception": false,
     "start_time": "2021-11-12T12:12:39.249392",
     "status": "completed"
    },
    "tags": []
   },
   "outputs": [],
   "source": [
    "#hide\n",
    "# cols = ['name','group','day','value']"
   ]
  },
  {
   "cell_type": "code",
   "execution_count": 37,
   "id": "continued-sleeping",
   "metadata": {
    "execution": {
     "iopub.execute_input": "2021-11-12T12:12:39.388894Z",
     "iopub.status.busy": "2021-11-12T12:12:39.386141Z",
     "iopub.status.idle": "2021-11-12T12:12:39.389894Z",
     "shell.execute_reply": "2021-11-12T12:12:39.390497Z"
    },
    "papermill": {
     "duration": 0.052406,
     "end_time": "2021-11-12T12:12:39.390868",
     "exception": false,
     "start_time": "2021-11-12T12:12:39.338462",
     "status": "completed"
    },
    "tags": []
   },
   "outputs": [],
   "source": [
    "#hide\n",
    "# g.rename(columns= {'date':'day'},inplace = True)"
   ]
  },
  {
   "cell_type": "code",
   "execution_count": 38,
   "id": "major-fight",
   "metadata": {
    "execution": {
     "iopub.execute_input": "2021-11-12T12:12:39.485097Z",
     "iopub.status.busy": "2021-11-12T12:12:39.484400Z",
     "iopub.status.idle": "2021-11-12T12:12:39.488700Z",
     "shell.execute_reply": "2021-11-12T12:12:39.489222Z"
    },
    "papermill": {
     "duration": 0.050093,
     "end_time": "2021-11-12T12:12:39.489404",
     "exception": false,
     "start_time": "2021-11-12T12:12:39.439311",
     "status": "completed"
    },
    "tags": []
   },
   "outputs": [],
   "source": [
    "#hide\n",
    "# g = g[cols]"
   ]
  },
  {
   "cell_type": "code",
   "execution_count": 39,
   "id": "structured-mobile",
   "metadata": {
    "execution": {
     "iopub.execute_input": "2021-11-12T12:12:39.573795Z",
     "iopub.status.busy": "2021-11-12T12:12:39.573055Z",
     "iopub.status.idle": "2021-11-12T12:12:39.575439Z",
     "shell.execute_reply": "2021-11-12T12:12:39.574754Z"
    },
    "papermill": {
     "duration": 0.046446,
     "end_time": "2021-11-12T12:12:39.575592",
     "exception": false,
     "start_time": "2021-11-12T12:12:39.529146",
     "status": "completed"
    },
    "tags": []
   },
   "outputs": [],
   "source": [
    "# #hide\n",
    "# g = g[g.group.notna()]"
   ]
  },
  {
   "cell_type": "code",
   "execution_count": 40,
   "id": "determined-closing",
   "metadata": {
    "execution": {
     "iopub.execute_input": "2021-11-12T12:12:39.660833Z",
     "iopub.status.busy": "2021-11-12T12:12:39.660128Z",
     "iopub.status.idle": "2021-11-12T12:12:39.662570Z",
     "shell.execute_reply": "2021-11-12T12:12:39.662001Z"
    },
    "papermill": {
     "duration": 0.047142,
     "end_time": "2021-11-12T12:12:39.662747",
     "exception": false,
     "start_time": "2021-11-12T12:12:39.615605",
     "status": "completed"
    },
    "tags": []
   },
   "outputs": [],
   "source": [
    "# #hide\n",
    "# colors = dict(zip(\n",
    "#     [\"Oceania\", \"Europe\", \"Asia\", \"South America\", \"Middle East\", \"North America\", \"Africa\"],\n",
    "#     [\"#adb0ff\", \"#ffb3ff\", \"#90d595\", \"#e48381\", \"#aafbff\", \"#f7bb5f\", \"#eafb50\"]\n",
    "# ))\n",
    "# group_lk = g.set_index('name')['group'].to_dict()"
   ]
  },
  {
   "cell_type": "code",
   "execution_count": null,
   "id": "gross-drinking",
   "metadata": {
    "papermill": {
     "duration": 0.039593,
     "end_time": "2021-11-12T12:12:39.741093",
     "exception": false,
     "start_time": "2021-11-12T12:12:39.701500",
     "status": "completed"
    },
    "tags": []
   },
   "outputs": [],
   "source": []
  },
  {
   "cell_type": "code",
   "execution_count": 41,
   "id": "subject-macintosh",
   "metadata": {
    "execution": {
     "iopub.execute_input": "2021-11-12T12:12:39.824686Z",
     "iopub.status.busy": "2021-11-12T12:12:39.823998Z",
     "iopub.status.idle": "2021-11-12T12:12:39.826396Z",
     "shell.execute_reply": "2021-11-12T12:12:39.826962Z"
    },
    "papermill": {
     "duration": 0.046449,
     "end_time": "2021-11-12T12:12:39.827136",
     "exception": false,
     "start_time": "2021-11-12T12:12:39.780687",
     "status": "completed"
    },
    "tags": []
   },
   "outputs": [],
   "source": [
    "# #hide\n",
    "# fig, ax = plt.subplots(figsize=(15, 8))\n",
    "\n",
    "# def draw_barchart(current_day):\n",
    "#     dff = g[g['day'].eq(current_day)].sort_values(by='value', ascending=True).tail(10)\n",
    "#     ax.clear()\n",
    "#     ax.barh(dff['name'], dff['value'], color=[colors[group_lk[x]] for x in dff['name']])\n",
    "#     dx = dff['value'].max() / 200\n",
    "    \n",
    "#     for i, (value, name) in enumerate(zip(dff['value'], dff['name'])):\n",
    "#         ax.text(value-dx, i,     name,           size=14, weight=600, ha='right', va='bottom')\n",
    "#         ax.text(value-dx, i-.25, group_lk[name], size=10, color='#444444', ha='right', va='baseline')\n",
    "#         ax.text(value+dx, i,     f'{value:,.0f}',  size=14, ha='left',  va='center')\n",
    "#     ax.text(1, 0.4, current_day, transform=ax.transAxes, color='#777777', size=46, ha='right', weight=800)\n",
    "#     ax.text(0, 1.06, 'Population (thousands)', transform=ax.transAxes, size=12, color='#777777')\n",
    "#     ax.xaxis.set_major_formatter(ticker.StrMethodFormatter('{x:,.0f}'))\n",
    "#     ax.xaxis.set_ticks_position('top')\n",
    "#     ax.tick_params(axis='x', colors='#777777', labelsize=12)\n",
    "#     ax.set_yticks([])\n",
    "#     ax.margins(0, 0.01)\n",
    "#     ax.grid(which='major', axis='x', linestyle='-')\n",
    "#     ax.set_axisbelow(True)\n",
    "    \n",
    "#     ax.text(0, 1.15, 'Coronavirus',\n",
    "#             transform=ax.transAxes, size=24, weight=600, ha='left', va='top')\n",
    "# #     ax.text(1, 0, 'by @pratapvardhan; credit @jburnmurdoch', transform=ax.transAxes, color='#777777', ha='right',\n",
    "# #             bbox=dict(facecolor='white', alpha=0.8, edgecolor='white'))\n",
    "#     plt.box(False)"
   ]
  },
  {
   "cell_type": "code",
   "execution_count": 42,
   "id": "sexual-wages",
   "metadata": {
    "execution": {
     "iopub.execute_input": "2021-11-12T12:12:39.910895Z",
     "iopub.status.busy": "2021-11-12T12:12:39.909733Z",
     "iopub.status.idle": "2021-11-12T12:12:39.914120Z",
     "shell.execute_reply": "2021-11-12T12:12:39.913558Z"
    },
    "papermill": {
     "duration": 0.047805,
     "end_time": "2021-11-12T12:12:39.914272",
     "exception": false,
     "start_time": "2021-11-12T12:12:39.866467",
     "status": "completed"
    },
    "tags": []
   },
   "outputs": [],
   "source": [
    "# #hide_input\n",
    "# fig, ax = plt.subplots(figsize=(15, 8))\n",
    "# animator = animation.FuncAnimation(fig, draw_barchart, frames=range(g.day.values.min(), g.day.values.max()))\n",
    "# HTML(animator.to_jshtml())\n",
    "# # or use animator.to_html5_video() or animator.save() "
   ]
  },
  {
   "cell_type": "code",
   "execution_count": null,
   "id": "australian-container",
   "metadata": {
    "papermill": {
     "duration": 0.039133,
     "end_time": "2021-11-12T12:12:39.992930",
     "exception": false,
     "start_time": "2021-11-12T12:12:39.953797",
     "status": "completed"
    },
    "tags": []
   },
   "outputs": [],
   "source": []
  },
  {
   "cell_type": "code",
   "execution_count": null,
   "id": "mediterranean-pontiac",
   "metadata": {
    "papermill": {
     "duration": 0.040522,
     "end_time": "2021-11-12T12:12:40.073373",
     "exception": false,
     "start_time": "2021-11-12T12:12:40.032851",
     "status": "completed"
    },
    "tags": []
   },
   "outputs": [],
   "source": []
  },
  {
   "cell_type": "code",
   "execution_count": null,
   "id": "aging-legislature",
   "metadata": {
    "papermill": {
     "duration": 0.040559,
     "end_time": "2021-11-12T12:12:40.153033",
     "exception": false,
     "start_time": "2021-11-12T12:12:40.112474",
     "status": "completed"
    },
    "tags": []
   },
   "outputs": [],
   "source": []
  }
 ],
 "metadata": {
  "kernelspec": {
   "display_name": "Python 3",
   "language": "python",
   "name": "python3"
  },
  "language_info": {
   "codemirror_mode": {
    "name": "ipython",
    "version": 3
   },
   "file_extension": ".py",
   "mimetype": "text/x-python",
   "name": "python",
   "nbconvert_exporter": "python",
   "pygments_lexer": "ipython3",
   "version": "3.6.15"
  },
  "papermill": {
   "duration": 7.816875,
   "end_time": "2021-11-12T12:12:40.703506",
   "environment_variables": {},
   "exception": null,
   "input_path": "2020-03-21-covid19exp.ipynb",
   "output_path": "2020-03-21-covid19exp.ipynb",
   "parameters": {},
   "start_time": "2021-11-12T12:12:32.886631",
   "version": "2.0.0"
  }
 },
 "nbformat": 4,
 "nbformat_minor": 5
}