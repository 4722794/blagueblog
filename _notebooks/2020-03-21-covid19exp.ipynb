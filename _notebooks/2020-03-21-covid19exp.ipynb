{
 "cells": [
  {
   "cell_type": "markdown",
   "id": "muslim-click",
   "metadata": {
    "papermill": {
     "duration": 0.036775,
     "end_time": "2022-04-25T00:34:55.871286",
     "exception": false,
     "start_time": "2022-04-25T00:34:55.834511",
     "status": "completed"
    },
    "tags": []
   },
   "source": [
    "# COVID-19 Case Race\n",
    "> A race chart to see rising cases around the world\n",
    "\n",
    "- author: Hargun Oberoi\n",
    "- image: images/covid-overview.png\n",
    "- hide: false\n",
    "- badges: false"
   ]
  },
  {
   "cell_type": "code",
   "execution_count": 1,
   "id": "proof-material",
   "metadata": {
    "execution": {
     "iopub.execute_input": "2022-04-25T00:34:55.945565Z",
     "iopub.status.busy": "2022-04-25T00:34:55.945008Z",
     "iopub.status.idle": "2022-04-25T00:34:56.286282Z",
     "shell.execute_reply": "2022-04-25T00:34:56.285701Z"
    },
    "papermill": {
     "duration": 0.38314,
     "end_time": "2022-04-25T00:34:56.286432",
     "exception": false,
     "start_time": "2022-04-25T00:34:55.903292",
     "status": "completed"
    },
    "tags": []
   },
   "outputs": [],
   "source": [
    "#hide\n",
    "import numpy as np\n",
    "import pandas as pd\n",
    "from jinja2 import Template\n",
    "from IPython.display import HTML"
   ]
  },
  {
   "cell_type": "code",
   "execution_count": 2,
   "id": "developed-terminology",
   "metadata": {
    "execution": {
     "iopub.execute_input": "2022-04-25T00:34:56.357686Z",
     "iopub.status.busy": "2022-04-25T00:34:56.357014Z",
     "iopub.status.idle": "2022-04-25T00:34:56.359410Z",
     "shell.execute_reply": "2022-04-25T00:34:56.358898Z"
    },
    "papermill": {
     "duration": 0.039507,
     "end_time": "2022-04-25T00:34:56.359526",
     "exception": false,
     "start_time": "2022-04-25T00:34:56.320019",
     "status": "completed"
    },
    "tags": []
   },
   "outputs": [],
   "source": [
    "#hide\n",
    "\n",
    "# FETCH\n",
    "base_url = 'https://raw.githubusercontent.com/pratapvardhan/notebooks/master/covid19/'\n",
    "paths = {\n",
    "    'mapping': base_url + 'mapping_countries.csv',\n",
    "    'overview': base_url + 'overview.tpl'\n",
    "}"
   ]
  },
  {
   "cell_type": "code",
   "execution_count": 3,
   "id": "dynamic-saver",
   "metadata": {
    "execution": {
     "iopub.execute_input": "2022-04-25T00:34:56.437739Z",
     "iopub.status.busy": "2022-04-25T00:34:56.437180Z",
     "iopub.status.idle": "2022-04-25T00:34:56.440271Z",
     "shell.execute_reply": "2022-04-25T00:34:56.440867Z"
    },
    "papermill": {
     "duration": 0.049709,
     "end_time": "2022-04-25T00:34:56.441000",
     "exception": false,
     "start_time": "2022-04-25T00:34:56.391291",
     "status": "completed"
    },
    "tags": []
   },
   "outputs": [
    {
     "data": {
      "text/plain": [
       "'https://raw.githubusercontent.com/pratapvardhan/notebooks/master/covid19/mapping_countries.csv'"
      ]
     },
     "execution_count": 3,
     "metadata": {},
     "output_type": "execute_result"
    }
   ],
   "source": [
    "#hide\n",
    "paths['mapping']"
   ]
  },
  {
   "cell_type": "code",
   "execution_count": 4,
   "id": "urban-software",
   "metadata": {
    "execution": {
     "iopub.execute_input": "2022-04-25T00:34:56.513789Z",
     "iopub.status.busy": "2022-04-25T00:34:56.513196Z",
     "iopub.status.idle": "2022-04-25T00:34:56.515533Z",
     "shell.execute_reply": "2022-04-25T00:34:56.516211Z"
    },
    "papermill": {
     "duration": 0.042442,
     "end_time": "2022-04-25T00:34:56.516350",
     "exception": false,
     "start_time": "2022-04-25T00:34:56.473908",
     "status": "completed"
    },
    "tags": []
   },
   "outputs": [],
   "source": [
    "#hide\n",
    "def get_mappings(url):\n",
    "    df = pd.read_csv(url)\n",
    "    return {\n",
    "        'df': df,\n",
    "        'replace.country': dict(df.dropna(subset=['Name']).set_index('Country')['Name']),\n",
    "        'map.continent': dict(df.set_index('Name')['Continent'])\n",
    "    }"
   ]
  },
  {
   "cell_type": "code",
   "execution_count": 5,
   "id": "intimate-machinery",
   "metadata": {
    "execution": {
     "iopub.execute_input": "2022-04-25T00:34:56.583199Z",
     "iopub.status.busy": "2022-04-25T00:34:56.582613Z",
     "iopub.status.idle": "2022-04-25T00:34:56.618334Z",
     "shell.execute_reply": "2022-04-25T00:34:56.618782Z"
    },
    "papermill": {
     "duration": 0.071347,
     "end_time": "2022-04-25T00:34:56.618929",
     "exception": false,
     "start_time": "2022-04-25T00:34:56.547582",
     "status": "completed"
    },
    "tags": []
   },
   "outputs": [],
   "source": [
    "#hide\n",
    "mapping = get_mappings(paths['mapping'])"
   ]
  },
  {
   "cell_type": "code",
   "execution_count": 6,
   "id": "certified-tactics",
   "metadata": {
    "execution": {
     "iopub.execute_input": "2022-04-25T00:34:56.686197Z",
     "iopub.status.busy": "2022-04-25T00:34:56.685432Z",
     "iopub.status.idle": "2022-04-25T00:34:56.688033Z",
     "shell.execute_reply": "2022-04-25T00:34:56.687577Z"
    },
    "papermill": {
     "duration": 0.037883,
     "end_time": "2022-04-25T00:34:56.688138",
     "exception": false,
     "start_time": "2022-04-25T00:34:56.650255",
     "status": "completed"
    },
    "tags": []
   },
   "outputs": [],
   "source": [
    "#hide\n",
    "def get_template(path):\n",
    "    from urllib.parse import urlparse\n",
    "    if bool(urlparse(path).netloc):\n",
    "        from urllib.request import urlopen\n",
    "        return urlopen(path).read().decode('utf8')\n",
    "    return open(path).read()"
   ]
  },
  {
   "cell_type": "code",
   "execution_count": 7,
   "id": "realistic-blast",
   "metadata": {
    "execution": {
     "iopub.execute_input": "2022-04-25T00:34:56.759877Z",
     "iopub.status.busy": "2022-04-25T00:34:56.759309Z",
     "iopub.status.idle": "2022-04-25T00:34:56.763287Z",
     "shell.execute_reply": "2022-04-25T00:34:56.762858Z"
    },
    "papermill": {
     "duration": 0.04276,
     "end_time": "2022-04-25T00:34:56.763392",
     "exception": false,
     "start_time": "2022-04-25T00:34:56.720632",
     "status": "completed"
    },
    "tags": []
   },
   "outputs": [],
   "source": [
    "#hide\n",
    "def get_frame(name):\n",
    "    url = (\n",
    "        'https://raw.githubusercontent.com/CSSEGISandData/COVID-19/master/csse_covid_19_data/'\n",
    "        f'csse_covid_19_time_series/time_series_covid19_{name}_global.csv')\n",
    "    df = pd.read_csv(url)\n",
    "    # rename countries\n",
    "    df['Country/Region'] = df['Country/Region'].replace(mapping['replace.country'])\n",
    "    return df"
   ]
  },
  {
   "cell_type": "code",
   "execution_count": 8,
   "id": "affiliated-characterization",
   "metadata": {
    "execution": {
     "iopub.execute_input": "2022-04-25T00:34:56.830749Z",
     "iopub.status.busy": "2022-04-25T00:34:56.830168Z",
     "iopub.status.idle": "2022-04-25T00:34:56.832412Z",
     "shell.execute_reply": "2022-04-25T00:34:56.831979Z"
    },
    "papermill": {
     "duration": 0.038116,
     "end_time": "2022-04-25T00:34:56.832557",
     "exception": false,
     "start_time": "2022-04-25T00:34:56.794441",
     "status": "completed"
    },
    "tags": []
   },
   "outputs": [],
   "source": [
    "#hide\n",
    "def get_dates(df):\n",
    "    dt_cols = df.columns[~df.columns.isin(['Province/State', 'Country/Region', 'Lat', 'Long'])]\n",
    "    LAST_DATE_I = -1\n",
    "    # sometimes last column may be empty, then go backwards\n",
    "    for i in range(-1, -len(dt_cols), -1):\n",
    "        if not df[dt_cols[i]].fillna(0).eq(0).all():\n",
    "            LAST_DATE_I = i\n",
    "            break\n",
    "    return LAST_DATE_I, dt_cols"
   ]
  },
  {
   "cell_type": "code",
   "execution_count": 9,
   "id": "recent-optimization",
   "metadata": {
    "execution": {
     "iopub.execute_input": "2022-04-25T00:34:56.900210Z",
     "iopub.status.busy": "2022-04-25T00:34:56.899632Z",
     "iopub.status.idle": "2022-04-25T00:34:57.297868Z",
     "shell.execute_reply": "2022-04-25T00:34:57.297361Z"
    },
    "papermill": {
     "duration": 0.433142,
     "end_time": "2022-04-25T00:34:57.298005",
     "exception": false,
     "start_time": "2022-04-25T00:34:56.864863",
     "status": "completed"
    },
    "tags": []
   },
   "outputs": [],
   "source": [
    "#hide\n",
    "COL_REGION = 'Country/Region'\n",
    "# Confirmed, Recovered, Deaths\n",
    "df = get_frame('confirmed')\n",
    "# dft_: timeseries, dfc_: today country agg\n",
    "dft_cases = df\n",
    "dft_deaths = get_frame('deaths')\n",
    "dft_recovered = get_frame('recovered')\n",
    "LAST_DATE_I, dt_cols = get_dates(df)"
   ]
  },
  {
   "cell_type": "code",
   "execution_count": 10,
   "id": "absolute-copper",
   "metadata": {
    "execution": {
     "iopub.execute_input": "2022-04-25T00:34:57.372624Z",
     "iopub.status.busy": "2022-04-25T00:34:57.372088Z",
     "iopub.status.idle": "2022-04-25T00:34:57.374686Z",
     "shell.execute_reply": "2022-04-25T00:34:57.374136Z"
    },
    "papermill": {
     "duration": 0.04059,
     "end_time": "2022-04-25T00:34:57.374794",
     "exception": false,
     "start_time": "2022-04-25T00:34:57.334204",
     "status": "completed"
    },
    "tags": []
   },
   "outputs": [],
   "source": [
    "#hide\n",
    "LAST_DATE_I, dt_cols = get_dates(df)\n",
    "dt_today =dt_cols[LAST_DATE_I]\n",
    "# dt_5day = dt_cols[LAST_DATE_I - 5]\n",
    "dt_yday = dt_cols[LAST_DATE_I - 1]"
   ]
  },
  {
   "cell_type": "code",
   "execution_count": 11,
   "id": "restricted-sheriff",
   "metadata": {
    "execution": {
     "iopub.execute_input": "2022-04-25T00:34:57.445751Z",
     "iopub.status.busy": "2022-04-25T00:34:57.445138Z",
     "iopub.status.idle": "2022-04-25T00:34:57.454372Z",
     "shell.execute_reply": "2022-04-25T00:34:57.454929Z"
    },
    "papermill": {
     "duration": 0.048581,
     "end_time": "2022-04-25T00:34:57.455057",
     "exception": false,
     "start_time": "2022-04-25T00:34:57.406476",
     "status": "completed"
    },
    "tags": []
   },
   "outputs": [],
   "source": [
    "#hide\n",
    "dfc_cases = dft_cases.groupby(COL_REGION)[dt_today].sum()\n",
    "dfc_deaths = dft_deaths.groupby(COL_REGION)[dt_today].sum()\n",
    "# dfp_cases = dft_cases.groupby(COL_REGION)[dt_5day].sum()\n",
    "# dfp_deaths = dft_deaths.groupby(COL_REGION)[dt_5day].sum()\n",
    "dfp_cases = dft_cases.groupby(COL_REGION)[dt_yday].sum()\n",
    "dfp_deaths = dft_deaths.groupby(COL_REGION)[dt_yday].sum()"
   ]
  },
  {
   "cell_type": "code",
   "execution_count": 12,
   "id": "deluxe-hepatitis",
   "metadata": {
    "execution": {
     "iopub.execute_input": "2022-04-25T00:34:57.525326Z",
     "iopub.status.busy": "2022-04-25T00:34:57.523869Z",
     "iopub.status.idle": "2022-04-25T00:34:57.530799Z",
     "shell.execute_reply": "2022-04-25T00:34:57.531523Z"
    },
    "papermill": {
     "duration": 0.044867,
     "end_time": "2022-04-25T00:34:57.531660",
     "exception": false,
     "start_time": "2022-04-25T00:34:57.486793",
     "status": "completed"
    },
    "tags": []
   },
   "outputs": [],
   "source": [
    "#hide\n",
    "df_table = (pd.DataFrame(dict(Cases = dfc_cases, Deaths = dfc_deaths, PCases = dfp_cases, PDeaths = dfp_deaths))\n",
    "            .sort_values(by = ['Cases','Deaths'], ascending = [False, False])\n",
    "            .reset_index())"
   ]
  },
  {
   "cell_type": "code",
   "execution_count": 13,
   "id": "educational-chancellor",
   "metadata": {
    "execution": {
     "iopub.execute_input": "2022-04-25T00:34:57.621843Z",
     "iopub.status.busy": "2022-04-25T00:34:57.616987Z",
     "iopub.status.idle": "2022-04-25T00:34:57.631105Z",
     "shell.execute_reply": "2022-04-25T00:34:57.631758Z"
    },
    "papermill": {
     "duration": 0.064375,
     "end_time": "2022-04-25T00:34:57.631964",
     "exception": false,
     "start_time": "2022-04-25T00:34:57.567589",
     "status": "completed"
    },
    "tags": []
   },
   "outputs": [
    {
     "data": {
      "text/html": [
       "<div>\n",
       "<style scoped>\n",
       "    .dataframe tbody tr th:only-of-type {\n",
       "        vertical-align: middle;\n",
       "    }\n",
       "\n",
       "    .dataframe tbody tr th {\n",
       "        vertical-align: top;\n",
       "    }\n",
       "\n",
       "    .dataframe thead th {\n",
       "        text-align: right;\n",
       "    }\n",
       "</style>\n",
       "<table border=\"1\" class=\"dataframe\">\n",
       "  <thead>\n",
       "    <tr style=\"text-align: right;\">\n",
       "      <th></th>\n",
       "      <th>Country/Region</th>\n",
       "      <th>Cases</th>\n",
       "      <th>Deaths</th>\n",
       "      <th>PCases</th>\n",
       "      <th>PDeaths</th>\n",
       "      <th>Cases (+)</th>\n",
       "      <th>Deaths (+)</th>\n",
       "      <th>Fatality Rate</th>\n",
       "      <th>Continent</th>\n",
       "    </tr>\n",
       "  </thead>\n",
       "  <tbody>\n",
       "    <tr>\n",
       "      <th>0</th>\n",
       "      <td>US</td>\n",
       "      <td>80971930</td>\n",
       "      <td>991231</td>\n",
       "      <td>80952268</td>\n",
       "      <td>991169</td>\n",
       "      <td>19662</td>\n",
       "      <td>62</td>\n",
       "      <td>1.22</td>\n",
       "      <td>North America</td>\n",
       "    </tr>\n",
       "    <tr>\n",
       "      <th>1</th>\n",
       "      <td>India</td>\n",
       "      <td>43057545</td>\n",
       "      <td>522193</td>\n",
       "      <td>43054952</td>\n",
       "      <td>522149</td>\n",
       "      <td>2593</td>\n",
       "      <td>44</td>\n",
       "      <td>1.21</td>\n",
       "      <td>Asia</td>\n",
       "    </tr>\n",
       "    <tr>\n",
       "      <th>2</th>\n",
       "      <td>Brazil</td>\n",
       "      <td>30345808</td>\n",
       "      <td>662855</td>\n",
       "      <td>30338697</td>\n",
       "      <td>662802</td>\n",
       "      <td>7111</td>\n",
       "      <td>53</td>\n",
       "      <td>2.18</td>\n",
       "      <td>South America</td>\n",
       "    </tr>\n",
       "    <tr>\n",
       "      <th>3</th>\n",
       "      <td>France</td>\n",
       "      <td>28435100</td>\n",
       "      <td>146057</td>\n",
       "      <td>28354529</td>\n",
       "      <td>145982</td>\n",
       "      <td>80571</td>\n",
       "      <td>75</td>\n",
       "      <td>0.51</td>\n",
       "      <td>Europe</td>\n",
       "    </tr>\n",
       "    <tr>\n",
       "      <th>4</th>\n",
       "      <td>Germany</td>\n",
       "      <td>24180512</td>\n",
       "      <td>134179</td>\n",
       "      <td>24141333</td>\n",
       "      <td>134155</td>\n",
       "      <td>39179</td>\n",
       "      <td>24</td>\n",
       "      <td>0.55</td>\n",
       "      <td>Europe</td>\n",
       "    </tr>\n",
       "  </tbody>\n",
       "</table>\n",
       "</div>"
      ],
      "text/plain": [
       "  Country/Region     Cases  Deaths    PCases  PDeaths  Cases (+)  Deaths (+)  \\\n",
       "0             US  80971930  991231  80952268   991169      19662          62   \n",
       "1          India  43057545  522193  43054952   522149       2593          44   \n",
       "2         Brazil  30345808  662855  30338697   662802       7111          53   \n",
       "3         France  28435100  146057  28354529   145982      80571          75   \n",
       "4        Germany  24180512  134179  24141333   134155      39179          24   \n",
       "\n",
       "   Fatality Rate      Continent  \n",
       "0           1.22  North America  \n",
       "1           1.21           Asia  \n",
       "2           2.18  South America  \n",
       "3           0.51         Europe  \n",
       "4           0.55         Europe  "
      ]
     },
     "execution_count": 13,
     "metadata": {},
     "output_type": "execute_result"
    }
   ],
   "source": [
    "#hide\n",
    "for c in 'Cases, Deaths'.split(', '):\n",
    "    df_table[f'{c} (+)'] = (df_table[c] - df_table[f'P{c}']).clip(0)\n",
    "    #Clip ça veut dire, les chiffres negatif sont interdit\n",
    "df_table['Fatality Rate'] = (100* df_table['Deaths']/ df_table['Cases']).round(2)\n",
    "df_table['Continent'] = df_table['Country/Region'].map(mapping['map.continent'])\n",
    "df_table.head(5)"
   ]
  },
  {
   "cell_type": "code",
   "execution_count": 14,
   "id": "aboriginal-bulgaria",
   "metadata": {
    "execution": {
     "iopub.execute_input": "2022-04-25T00:34:57.707288Z",
     "iopub.status.busy": "2022-04-25T00:34:57.706644Z",
     "iopub.status.idle": "2022-04-25T00:34:57.708950Z",
     "shell.execute_reply": "2022-04-25T00:34:57.709552Z"
    },
    "papermill": {
     "duration": 0.043313,
     "end_time": "2022-04-25T00:34:57.709686",
     "exception": false,
     "start_time": "2022-04-25T00:34:57.666373",
     "status": "completed"
    },
    "tags": []
   },
   "outputs": [],
   "source": [
    "#hide\n",
    "#delete problematic countries from table\n",
    "df_table = df_table[~df_table['Country/Region'].isin(['Cape Verde', 'Cruise Ship', 'Kosovo'])]"
   ]
  },
  {
   "cell_type": "code",
   "execution_count": 15,
   "id": "fantastic-effect",
   "metadata": {
    "execution": {
     "iopub.execute_input": "2022-04-25T00:34:57.788688Z",
     "iopub.status.busy": "2022-04-25T00:34:57.788068Z",
     "iopub.status.idle": "2022-04-25T00:34:57.811226Z",
     "shell.execute_reply": "2022-04-25T00:34:57.812291Z"
    },
    "papermill": {
     "duration": 0.069553,
     "end_time": "2022-04-25T00:34:57.812522",
     "exception": false,
     "start_time": "2022-04-25T00:34:57.742969",
     "status": "completed"
    },
    "tags": []
   },
   "outputs": [
    {
     "data": {
      "text/html": [
       "<div>\n",
       "<style scoped>\n",
       "    .dataframe tbody tr th:only-of-type {\n",
       "        vertical-align: middle;\n",
       "    }\n",
       "\n",
       "    .dataframe tbody tr th {\n",
       "        vertical-align: top;\n",
       "    }\n",
       "\n",
       "    .dataframe thead th {\n",
       "        text-align: right;\n",
       "    }\n",
       "</style>\n",
       "<table border=\"1\" class=\"dataframe\">\n",
       "  <thead>\n",
       "    <tr style=\"text-align: right;\">\n",
       "      <th></th>\n",
       "      <th>Country/Region</th>\n",
       "      <th>Cases</th>\n",
       "      <th>Deaths</th>\n",
       "      <th>PCases</th>\n",
       "      <th>PDeaths</th>\n",
       "      <th>Cases (+)</th>\n",
       "      <th>Deaths (+)</th>\n",
       "      <th>Fatality Rate</th>\n",
       "      <th>Continent</th>\n",
       "    </tr>\n",
       "  </thead>\n",
       "  <tbody>\n",
       "    <tr>\n",
       "      <th>0</th>\n",
       "      <td>US</td>\n",
       "      <td>80971930</td>\n",
       "      <td>991231</td>\n",
       "      <td>80952268</td>\n",
       "      <td>991169</td>\n",
       "      <td>19662</td>\n",
       "      <td>62</td>\n",
       "      <td>1.2</td>\n",
       "      <td>North America</td>\n",
       "    </tr>\n",
       "    <tr>\n",
       "      <th>1</th>\n",
       "      <td>India</td>\n",
       "      <td>43057545</td>\n",
       "      <td>522193</td>\n",
       "      <td>43054952</td>\n",
       "      <td>522149</td>\n",
       "      <td>2593</td>\n",
       "      <td>44</td>\n",
       "      <td>1.2</td>\n",
       "      <td>Asia</td>\n",
       "    </tr>\n",
       "    <tr>\n",
       "      <th>2</th>\n",
       "      <td>Brazil</td>\n",
       "      <td>30345808</td>\n",
       "      <td>662855</td>\n",
       "      <td>30338697</td>\n",
       "      <td>662802</td>\n",
       "      <td>7111</td>\n",
       "      <td>53</td>\n",
       "      <td>2.2</td>\n",
       "      <td>South America</td>\n",
       "    </tr>\n",
       "    <tr>\n",
       "      <th>3</th>\n",
       "      <td>France</td>\n",
       "      <td>28435100</td>\n",
       "      <td>146057</td>\n",
       "      <td>28354529</td>\n",
       "      <td>145982</td>\n",
       "      <td>80571</td>\n",
       "      <td>75</td>\n",
       "      <td>0.5</td>\n",
       "      <td>Europe</td>\n",
       "    </tr>\n",
       "    <tr>\n",
       "      <th>4</th>\n",
       "      <td>Germany</td>\n",
       "      <td>24180512</td>\n",
       "      <td>134179</td>\n",
       "      <td>24141333</td>\n",
       "      <td>134155</td>\n",
       "      <td>39179</td>\n",
       "      <td>24</td>\n",
       "      <td>0.6</td>\n",
       "      <td>Europe</td>\n",
       "    </tr>\n",
       "  </tbody>\n",
       "</table>\n",
       "</div>"
      ],
      "text/plain": [
       "  Country/Region     Cases  Deaths    PCases  PDeaths  Cases (+)  Deaths (+)  \\\n",
       "0             US  80971930  991231  80952268   991169      19662          62   \n",
       "1          India  43057545  522193  43054952   522149       2593          44   \n",
       "2         Brazil  30345808  662855  30338697   662802       7111          53   \n",
       "3         France  28435100  146057  28354529   145982      80571          75   \n",
       "4        Germany  24180512  134179  24141333   134155      39179          24   \n",
       "\n",
       "   Fatality Rate      Continent  \n",
       "0            1.2  North America  \n",
       "1            1.2           Asia  \n",
       "2            2.2  South America  \n",
       "3            0.5         Europe  \n",
       "4            0.6         Europe  "
      ]
     },
     "execution_count": 15,
     "metadata": {},
     "output_type": "execute_result"
    }
   ],
   "source": [
    "#hide\n",
    "df_table = (pd.DataFrame(dict(Cases=dfc_cases, Deaths=dfc_deaths, PCases=dfp_cases, PDeaths=dfp_deaths))\n",
    "             .sort_values(by=['Cases', 'Deaths'], ascending=[False, False])\n",
    "             .reset_index())\n",
    "df_table.rename(columns={'index': 'Country/Region'}, inplace=True)\n",
    "for c in 'Cases, Deaths'.split(', '):\n",
    "    df_table[f'{c} (+)'] = (df_table[c] - df_table[f'P{c}']).clip(0)  # DATA BUG\n",
    "df_table['Fatality Rate'] = (100 * df_table['Deaths'] / df_table['Cases']).round(1)\n",
    "df_table['Continent'] = df_table['Country/Region'].map(mapping['map.continent'])\n",
    "df_table.head(5)"
   ]
  },
  {
   "cell_type": "code",
   "execution_count": 16,
   "id": "fewer-occasion",
   "metadata": {
    "execution": {
     "iopub.execute_input": "2022-04-25T00:34:57.916492Z",
     "iopub.status.busy": "2022-04-25T00:34:57.914939Z",
     "iopub.status.idle": "2022-04-25T00:34:57.918472Z",
     "shell.execute_reply": "2022-04-25T00:34:57.919664Z"
    },
    "papermill": {
     "duration": 0.060365,
     "end_time": "2022-04-25T00:34:57.920059",
     "exception": false,
     "start_time": "2022-04-25T00:34:57.859694",
     "status": "completed"
    },
    "tags": []
   },
   "outputs": [],
   "source": [
    "#hide\n",
    "#delete problematic countries from table\n",
    "df_table = df_table[~df_table['Country/Region'].isin(['Cape Verde', 'Cruise Ship', 'Kosovo'])]"
   ]
  },
  {
   "cell_type": "code",
   "execution_count": 17,
   "id": "related-center",
   "metadata": {
    "execution": {
     "iopub.execute_input": "2022-04-25T00:34:58.030583Z",
     "iopub.status.busy": "2022-04-25T00:34:58.029843Z",
     "iopub.status.idle": "2022-04-25T00:34:58.031894Z",
     "shell.execute_reply": "2022-04-25T00:34:58.032525Z"
    },
    "papermill": {
     "duration": 0.072127,
     "end_time": "2022-04-25T00:34:58.032679",
     "exception": false,
     "start_time": "2022-04-25T00:34:57.960552",
     "status": "completed"
    },
    "tags": []
   },
   "outputs": [],
   "source": [
    "#hide\n",
    "metrics = [df_table.columns[index] for index in [1,2,5,6]]\n",
    "# s_china = df_table[df_table['Country/Region'].eq('China')][metrics].sum().add_prefix('China ')\n",
    "s_us = df_table[df_table['Country/Region'].eq('US')][metrics].sum().add_prefix('US ')\n",
    "s_eu = df_table[df_table['Continent'].eq('Europe')][metrics].sum().add_prefix('EU ')\n",
    "s_ind = df_table[df_table['Country/Region'].eq('India')][metrics].sum().add_prefix('India ')\n",
    "summary = {'updated': pd.to_datetime(dt_today), 'since': pd.to_datetime(dt_yday)}\n",
    "summary = {'updated': pd.to_datetime(dt_today), 'since': pd.to_datetime(dt_yday)}\n",
    "summary = {**summary, **df_table[metrics].sum(), **s_ind, **s_us, **s_eu}"
   ]
  },
  {
   "cell_type": "code",
   "execution_count": 18,
   "id": "engaging-syndrome",
   "metadata": {
    "execution": {
     "iopub.execute_input": "2022-04-25T00:34:58.115036Z",
     "iopub.status.busy": "2022-04-25T00:34:58.114289Z",
     "iopub.status.idle": "2022-04-25T00:34:58.135106Z",
     "shell.execute_reply": "2022-04-25T00:34:58.134490Z"
    },
    "papermill": {
     "duration": 0.061483,
     "end_time": "2022-04-25T00:34:58.135251",
     "exception": false,
     "start_time": "2022-04-25T00:34:58.073768",
     "status": "completed"
    },
    "tags": []
   },
   "outputs": [],
   "source": [
    "#hide\n",
    "dft_ct_new_cases = dft_cases.groupby(COL_REGION)[dt_cols].sum().diff(axis=1).fillna(0).astype(int)"
   ]
  },
  {
   "cell_type": "code",
   "execution_count": 19,
   "id": "neutral-assignment",
   "metadata": {
    "execution": {
     "iopub.execute_input": "2022-04-25T00:34:58.215299Z",
     "iopub.status.busy": "2022-04-25T00:34:58.214631Z",
     "iopub.status.idle": "2022-04-25T00:34:58.216623Z",
     "shell.execute_reply": "2022-04-25T00:34:58.217065Z"
    },
    "papermill": {
     "duration": 0.042969,
     "end_time": "2022-04-25T00:34:58.217234",
     "exception": false,
     "start_time": "2022-04-25T00:34:58.174265",
     "status": "completed"
    },
    "tags": []
   },
   "outputs": [],
   "source": [
    "#hide\n",
    "everydaycases = dft_ct_new_cases.cumsum(axis=1)"
   ]
  },
  {
   "cell_type": "code",
   "execution_count": 20,
   "id": "parliamentary-calgary",
   "metadata": {
    "execution": {
     "iopub.execute_input": "2022-04-25T00:34:58.303319Z",
     "iopub.status.busy": "2022-04-25T00:34:58.302683Z",
     "iopub.status.idle": "2022-04-25T00:34:58.925651Z",
     "shell.execute_reply": "2022-04-25T00:34:58.925060Z"
    },
    "papermill": {
     "duration": 0.665994,
     "end_time": "2022-04-25T00:34:58.925834",
     "exception": false,
     "start_time": "2022-04-25T00:34:58.259840",
     "status": "completed"
    },
    "tags": []
   },
   "outputs": [],
   "source": [
    "#hide\n",
    "import pandas as pd\n",
    "import matplotlib.pyplot as plt\n",
    "import matplotlib.ticker as ticker\n",
    "import matplotlib.animation as animation\n",
    "from IPython.display import HTML"
   ]
  },
  {
   "cell_type": "code",
   "execution_count": 21,
   "id": "lasting-extraction",
   "metadata": {
    "execution": {
     "iopub.execute_input": "2022-04-25T00:34:59.007264Z",
     "iopub.status.busy": "2022-04-25T00:34:59.006659Z",
     "iopub.status.idle": "2022-04-25T00:34:59.013674Z",
     "shell.execute_reply": "2022-04-25T00:34:59.013190Z"
    },
    "papermill": {
     "duration": 0.049822,
     "end_time": "2022-04-25T00:34:59.013802",
     "exception": false,
     "start_time": "2022-04-25T00:34:58.963980",
     "status": "completed"
    },
    "tags": []
   },
   "outputs": [],
   "source": [
    "#hide\n",
    "t = everydaycases.stack()"
   ]
  },
  {
   "cell_type": "code",
   "execution_count": 22,
   "id": "premier-sleeve",
   "metadata": {
    "execution": {
     "iopub.execute_input": "2022-04-25T00:34:59.090755Z",
     "iopub.status.busy": "2022-04-25T00:34:59.090052Z",
     "iopub.status.idle": "2022-04-25T00:34:59.101200Z",
     "shell.execute_reply": "2022-04-25T00:34:59.101688Z"
    },
    "papermill": {
     "duration": 0.053962,
     "end_time": "2022-04-25T00:34:59.101841",
     "exception": false,
     "start_time": "2022-04-25T00:34:59.047879",
     "status": "completed"
    },
    "tags": []
   },
   "outputs": [],
   "source": [
    "#hide\n",
    "g = t.reset_index(['Country/Region'])"
   ]
  },
  {
   "cell_type": "code",
   "execution_count": 23,
   "id": "distributed-pittsburgh",
   "metadata": {
    "execution": {
     "iopub.execute_input": "2022-04-25T00:34:59.177781Z",
     "iopub.status.busy": "2022-04-25T00:34:59.177177Z",
     "iopub.status.idle": "2022-04-25T00:34:59.179672Z",
     "shell.execute_reply": "2022-04-25T00:34:59.179207Z"
    },
    "papermill": {
     "duration": 0.042939,
     "end_time": "2022-04-25T00:34:59.179796",
     "exception": false,
     "start_time": "2022-04-25T00:34:59.136857",
     "status": "completed"
    },
    "tags": []
   },
   "outputs": [],
   "source": [
    "#hide\n",
    "g.index.name = 'date'"
   ]
  },
  {
   "cell_type": "code",
   "execution_count": 24,
   "id": "naked-donor",
   "metadata": {
    "execution": {
     "iopub.execute_input": "2022-04-25T00:34:59.253919Z",
     "iopub.status.busy": "2022-04-25T00:34:59.253337Z",
     "iopub.status.idle": "2022-04-25T00:34:59.255813Z",
     "shell.execute_reply": "2022-04-25T00:34:59.255361Z"
    },
    "papermill": {
     "duration": 0.041277,
     "end_time": "2022-04-25T00:34:59.255930",
     "exception": false,
     "start_time": "2022-04-25T00:34:59.214653",
     "status": "completed"
    },
    "tags": []
   },
   "outputs": [],
   "source": [
    "# #hide\n",
    "# g = g.reset_index(['date'])"
   ]
  },
  {
   "cell_type": "code",
   "execution_count": 25,
   "id": "incomplete-mustang",
   "metadata": {
    "execution": {
     "iopub.execute_input": "2022-04-25T00:34:59.328959Z",
     "iopub.status.busy": "2022-04-25T00:34:59.328348Z",
     "iopub.status.idle": "2022-04-25T00:34:59.330577Z",
     "shell.execute_reply": "2022-04-25T00:34:59.329991Z"
    },
    "papermill": {
     "duration": 0.039733,
     "end_time": "2022-04-25T00:34:59.330696",
     "exception": false,
     "start_time": "2022-04-25T00:34:59.290963",
     "status": "completed"
    },
    "tags": []
   },
   "outputs": [],
   "source": [
    "#hide\n",
    "# g.head()"
   ]
  },
  {
   "cell_type": "code",
   "execution_count": 26,
   "id": "specific-kruger",
   "metadata": {
    "execution": {
     "iopub.execute_input": "2022-04-25T00:34:59.400663Z",
     "iopub.status.busy": "2022-04-25T00:34:59.400090Z",
     "iopub.status.idle": "2022-04-25T00:34:59.402895Z",
     "shell.execute_reply": "2022-04-25T00:34:59.402207Z"
    },
    "papermill": {
     "duration": 0.038574,
     "end_time": "2022-04-25T00:34:59.403019",
     "exception": false,
     "start_time": "2022-04-25T00:34:59.364445",
     "status": "completed"
    },
    "tags": []
   },
   "outputs": [],
   "source": [
    "#hide\n",
    "# g.columns = ['date','country','cases']"
   ]
  },
  {
   "cell_type": "code",
   "execution_count": 27,
   "id": "tender-conversion",
   "metadata": {
    "execution": {
     "iopub.execute_input": "2022-04-25T00:34:59.476808Z",
     "iopub.status.busy": "2022-04-25T00:34:59.476084Z",
     "iopub.status.idle": "2022-04-25T00:34:59.479156Z",
     "shell.execute_reply": "2022-04-25T00:34:59.478345Z"
    },
    "papermill": {
     "duration": 0.042518,
     "end_time": "2022-04-25T00:34:59.479293",
     "exception": false,
     "start_time": "2022-04-25T00:34:59.436775",
     "status": "completed"
    },
    "tags": []
   },
   "outputs": [],
   "source": [
    "#hide\n",
    "# g['continent'] = g.country"
   ]
  },
  {
   "cell_type": "code",
   "execution_count": 28,
   "id": "substantial-wilderness",
   "metadata": {
    "execution": {
     "iopub.execute_input": "2022-04-25T00:34:59.550959Z",
     "iopub.status.busy": "2022-04-25T00:34:59.550272Z",
     "iopub.status.idle": "2022-04-25T00:34:59.553809Z",
     "shell.execute_reply": "2022-04-25T00:34:59.554281Z"
    },
    "papermill": {
     "duration": 0.040447,
     "end_time": "2022-04-25T00:34:59.554420",
     "exception": false,
     "start_time": "2022-04-25T00:34:59.513973",
     "status": "completed"
    },
    "tags": []
   },
   "outputs": [],
   "source": [
    "#hide\n",
    "# cols = list(g.columns.values)"
   ]
  },
  {
   "cell_type": "code",
   "execution_count": 29,
   "id": "solved-farming",
   "metadata": {
    "execution": {
     "iopub.execute_input": "2022-04-25T00:34:59.628793Z",
     "iopub.status.busy": "2022-04-25T00:34:59.628193Z",
     "iopub.status.idle": "2022-04-25T00:34:59.630577Z",
     "shell.execute_reply": "2022-04-25T00:34:59.629965Z"
    },
    "papermill": {
     "duration": 0.043095,
     "end_time": "2022-04-25T00:34:59.630703",
     "exception": false,
     "start_time": "2022-04-25T00:34:59.587608",
     "status": "completed"
    },
    "tags": []
   },
   "outputs": [],
   "source": [
    "#hide\n",
    "# cols.insert(0, cols.pop())"
   ]
  },
  {
   "cell_type": "code",
   "execution_count": 30,
   "id": "executed-adoption",
   "metadata": {
    "execution": {
     "iopub.execute_input": "2022-04-25T00:34:59.706153Z",
     "iopub.status.busy": "2022-04-25T00:34:59.705529Z",
     "iopub.status.idle": "2022-04-25T00:34:59.707741Z",
     "shell.execute_reply": "2022-04-25T00:34:59.707240Z"
    },
    "papermill": {
     "duration": 0.041869,
     "end_time": "2022-04-25T00:34:59.707868",
     "exception": false,
     "start_time": "2022-04-25T00:34:59.665999",
     "status": "completed"
    },
    "tags": []
   },
   "outputs": [],
   "source": [
    "#hide\n",
    "# g = g[cols]"
   ]
  },
  {
   "cell_type": "code",
   "execution_count": 31,
   "id": "subject-dublin",
   "metadata": {
    "execution": {
     "iopub.execute_input": "2022-04-25T00:34:59.781603Z",
     "iopub.status.busy": "2022-04-25T00:34:59.781019Z",
     "iopub.status.idle": "2022-04-25T00:34:59.783492Z",
     "shell.execute_reply": "2022-04-25T00:34:59.782999Z"
    },
    "papermill": {
     "duration": 0.040862,
     "end_time": "2022-04-25T00:34:59.783616",
     "exception": false,
     "start_time": "2022-04-25T00:34:59.742754",
     "status": "completed"
    },
    "tags": []
   },
   "outputs": [],
   "source": [
    "#hide\n",
    "# g['continent'] = g['continent'].map(mapping['map.continent'])"
   ]
  },
  {
   "cell_type": "code",
   "execution_count": 32,
   "id": "freelance-scout",
   "metadata": {
    "execution": {
     "iopub.execute_input": "2022-04-25T00:34:59.857074Z",
     "iopub.status.busy": "2022-04-25T00:34:59.856337Z",
     "iopub.status.idle": "2022-04-25T00:34:59.858648Z",
     "shell.execute_reply": "2022-04-25T00:34:59.858030Z"
    },
    "papermill": {
     "duration": 0.040156,
     "end_time": "2022-04-25T00:34:59.858770",
     "exception": false,
     "start_time": "2022-04-25T00:34:59.818614",
     "status": "completed"
    },
    "tags": []
   },
   "outputs": [],
   "source": [
    "#hide\n",
    "# g.head()"
   ]
  },
  {
   "cell_type": "code",
   "execution_count": 33,
   "id": "limited-engine",
   "metadata": {
    "execution": {
     "iopub.execute_input": "2022-04-25T00:34:59.934876Z",
     "iopub.status.busy": "2022-04-25T00:34:59.934135Z",
     "iopub.status.idle": "2022-04-25T00:34:59.937150Z",
     "shell.execute_reply": "2022-04-25T00:34:59.936475Z"
    },
    "papermill": {
     "duration": 0.044426,
     "end_time": "2022-04-25T00:34:59.937341",
     "exception": false,
     "start_time": "2022-04-25T00:34:59.892915",
     "status": "completed"
    },
    "tags": []
   },
   "outputs": [],
   "source": [
    "# hide\n",
    "# g['date'] = g['date'].astype('datetime64[ns]')"
   ]
  },
  {
   "cell_type": "code",
   "execution_count": 34,
   "id": "sophisticated-supervisor",
   "metadata": {
    "execution": {
     "iopub.execute_input": "2022-04-25T00:35:00.016204Z",
     "iopub.status.busy": "2022-04-25T00:35:00.015618Z",
     "iopub.status.idle": "2022-04-25T00:35:00.017521Z",
     "shell.execute_reply": "2022-04-25T00:35:00.018192Z"
    },
    "papermill": {
     "duration": 0.043768,
     "end_time": "2022-04-25T00:35:00.018340",
     "exception": false,
     "start_time": "2022-04-25T00:34:59.974572",
     "status": "completed"
    },
    "tags": []
   },
   "outputs": [],
   "source": [
    "#hide\n",
    "# g['date'] = g.date.dt.dayofyear"
   ]
  },
  {
   "cell_type": "code",
   "execution_count": 35,
   "id": "inside-dubai",
   "metadata": {
    "execution": {
     "iopub.execute_input": "2022-04-25T00:35:00.096018Z",
     "iopub.status.busy": "2022-04-25T00:35:00.095387Z",
     "iopub.status.idle": "2022-04-25T00:35:00.097849Z",
     "shell.execute_reply": "2022-04-25T00:35:00.097324Z"
    },
    "papermill": {
     "duration": 0.043424,
     "end_time": "2022-04-25T00:35:00.097979",
     "exception": false,
     "start_time": "2022-04-25T00:35:00.054555",
     "status": "completed"
    },
    "tags": []
   },
   "outputs": [],
   "source": [
    "#hide\n",
    "# g = g.rename(columns= {'continent':'group','country':'name','cases':'value'})"
   ]
  },
  {
   "cell_type": "code",
   "execution_count": 36,
   "id": "fleet-motorcycle",
   "metadata": {
    "execution": {
     "iopub.execute_input": "2022-04-25T00:35:00.175146Z",
     "iopub.status.busy": "2022-04-25T00:35:00.174433Z",
     "iopub.status.idle": "2022-04-25T00:35:00.176254Z",
     "shell.execute_reply": "2022-04-25T00:35:00.176843Z"
    },
    "papermill": {
     "duration": 0.042506,
     "end_time": "2022-04-25T00:35:00.176982",
     "exception": false,
     "start_time": "2022-04-25T00:35:00.134476",
     "status": "completed"
    },
    "tags": []
   },
   "outputs": [],
   "source": [
    "#hide\n",
    "# cols = ['name','group','day','value']"
   ]
  },
  {
   "cell_type": "code",
   "execution_count": 37,
   "id": "continued-sleeping",
   "metadata": {
    "execution": {
     "iopub.execute_input": "2022-04-25T00:35:00.253918Z",
     "iopub.status.busy": "2022-04-25T00:35:00.253296Z",
     "iopub.status.idle": "2022-04-25T00:35:00.255702Z",
     "shell.execute_reply": "2022-04-25T00:35:00.255018Z"
    },
    "papermill": {
     "duration": 0.042484,
     "end_time": "2022-04-25T00:35:00.255824",
     "exception": false,
     "start_time": "2022-04-25T00:35:00.213340",
     "status": "completed"
    },
    "tags": []
   },
   "outputs": [],
   "source": [
    "#hide\n",
    "# g.rename(columns= {'date':'day'},inplace = True)"
   ]
  },
  {
   "cell_type": "code",
   "execution_count": 38,
   "id": "major-fight",
   "metadata": {
    "execution": {
     "iopub.execute_input": "2022-04-25T00:35:00.328797Z",
     "iopub.status.busy": "2022-04-25T00:35:00.328221Z",
     "iopub.status.idle": "2022-04-25T00:35:00.330610Z",
     "shell.execute_reply": "2022-04-25T00:35:00.330122Z"
    },
    "papermill": {
     "duration": 0.038784,
     "end_time": "2022-04-25T00:35:00.330722",
     "exception": false,
     "start_time": "2022-04-25T00:35:00.291938",
     "status": "completed"
    },
    "tags": []
   },
   "outputs": [],
   "source": [
    "#hide\n",
    "# g = g[cols]"
   ]
  },
  {
   "cell_type": "code",
   "execution_count": 39,
   "id": "structured-mobile",
   "metadata": {
    "execution": {
     "iopub.execute_input": "2022-04-25T00:35:00.401417Z",
     "iopub.status.busy": "2022-04-25T00:35:00.400853Z",
     "iopub.status.idle": "2022-04-25T00:35:00.403130Z",
     "shell.execute_reply": "2022-04-25T00:35:00.403729Z"
    },
    "papermill": {
     "duration": 0.039486,
     "end_time": "2022-04-25T00:35:00.403911",
     "exception": false,
     "start_time": "2022-04-25T00:35:00.364425",
     "status": "completed"
    },
    "tags": []
   },
   "outputs": [],
   "source": [
    "# #hide\n",
    "# g = g[g.group.notna()]"
   ]
  },
  {
   "cell_type": "code",
   "execution_count": 40,
   "id": "determined-closing",
   "metadata": {
    "execution": {
     "iopub.execute_input": "2022-04-25T00:35:00.476382Z",
     "iopub.status.busy": "2022-04-25T00:35:00.475776Z",
     "iopub.status.idle": "2022-04-25T00:35:00.479192Z",
     "shell.execute_reply": "2022-04-25T00:35:00.479633Z"
    },
    "papermill": {
     "duration": 0.042968,
     "end_time": "2022-04-25T00:35:00.479778",
     "exception": false,
     "start_time": "2022-04-25T00:35:00.436810",
     "status": "completed"
    },
    "tags": []
   },
   "outputs": [],
   "source": [
    "# #hide\n",
    "# colors = dict(zip(\n",
    "#     [\"Oceania\", \"Europe\", \"Asia\", \"South America\", \"Middle East\", \"North America\", \"Africa\"],\n",
    "#     [\"#adb0ff\", \"#ffb3ff\", \"#90d595\", \"#e48381\", \"#aafbff\", \"#f7bb5f\", \"#eafb50\"]\n",
    "# ))\n",
    "# group_lk = g.set_index('name')['group'].to_dict()"
   ]
  },
  {
   "cell_type": "code",
   "execution_count": null,
   "id": "gross-drinking",
   "metadata": {
    "papermill": {
     "duration": 0.034555,
     "end_time": "2022-04-25T00:35:00.548037",
     "exception": false,
     "start_time": "2022-04-25T00:35:00.513482",
     "status": "completed"
    },
    "tags": []
   },
   "outputs": [],
   "source": []
  },
  {
   "cell_type": "code",
   "execution_count": 41,
   "id": "subject-macintosh",
   "metadata": {
    "execution": {
     "iopub.execute_input": "2022-04-25T00:35:00.622184Z",
     "iopub.status.busy": "2022-04-25T00:35:00.621553Z",
     "iopub.status.idle": "2022-04-25T00:35:00.623466Z",
     "shell.execute_reply": "2022-04-25T00:35:00.624113Z"
    },
    "papermill": {
     "duration": 0.041921,
     "end_time": "2022-04-25T00:35:00.624285",
     "exception": false,
     "start_time": "2022-04-25T00:35:00.582364",
     "status": "completed"
    },
    "tags": []
   },
   "outputs": [],
   "source": [
    "# #hide\n",
    "# fig, ax = plt.subplots(figsize=(15, 8))\n",
    "\n",
    "# def draw_barchart(current_day):\n",
    "#     dff = g[g['day'].eq(current_day)].sort_values(by='value', ascending=True).tail(10)\n",
    "#     ax.clear()\n",
    "#     ax.barh(dff['name'], dff['value'], color=[colors[group_lk[x]] for x in dff['name']])\n",
    "#     dx = dff['value'].max() / 200\n",
    "    \n",
    "#     for i, (value, name) in enumerate(zip(dff['value'], dff['name'])):\n",
    "#         ax.text(value-dx, i,     name,           size=14, weight=600, ha='right', va='bottom')\n",
    "#         ax.text(value-dx, i-.25, group_lk[name], size=10, color='#444444', ha='right', va='baseline')\n",
    "#         ax.text(value+dx, i,     f'{value:,.0f}',  size=14, ha='left',  va='center')\n",
    "#     ax.text(1, 0.4, current_day, transform=ax.transAxes, color='#777777', size=46, ha='right', weight=800)\n",
    "#     ax.text(0, 1.06, 'Population (thousands)', transform=ax.transAxes, size=12, color='#777777')\n",
    "#     ax.xaxis.set_major_formatter(ticker.StrMethodFormatter('{x:,.0f}'))\n",
    "#     ax.xaxis.set_ticks_position('top')\n",
    "#     ax.tick_params(axis='x', colors='#777777', labelsize=12)\n",
    "#     ax.set_yticks([])\n",
    "#     ax.margins(0, 0.01)\n",
    "#     ax.grid(which='major', axis='x', linestyle='-')\n",
    "#     ax.set_axisbelow(True)\n",
    "    \n",
    "#     ax.text(0, 1.15, 'Coronavirus',\n",
    "#             transform=ax.transAxes, size=24, weight=600, ha='left', va='top')\n",
    "# #     ax.text(1, 0, 'by @pratapvardhan; credit @jburnmurdoch', transform=ax.transAxes, color='#777777', ha='right',\n",
    "# #             bbox=dict(facecolor='white', alpha=0.8, edgecolor='white'))\n",
    "#     plt.box(False)"
   ]
  },
  {
   "cell_type": "code",
   "execution_count": 42,
   "id": "sexual-wages",
   "metadata": {
    "execution": {
     "iopub.execute_input": "2022-04-25T00:35:00.700168Z",
     "iopub.status.busy": "2022-04-25T00:35:00.699499Z",
     "iopub.status.idle": "2022-04-25T00:35:00.701756Z",
     "shell.execute_reply": "2022-04-25T00:35:00.701155Z"
    },
    "papermill": {
     "duration": 0.040696,
     "end_time": "2022-04-25T00:35:00.701877",
     "exception": false,
     "start_time": "2022-04-25T00:35:00.661181",
     "status": "completed"
    },
    "tags": []
   },
   "outputs": [],
   "source": [
    "# #hide_input\n",
    "# fig, ax = plt.subplots(figsize=(15, 8))\n",
    "# animator = animation.FuncAnimation(fig, draw_barchart, frames=range(g.day.values.min(), g.day.values.max()))\n",
    "# HTML(animator.to_jshtml())\n",
    "# # or use animator.to_html5_video() or animator.save() "
   ]
  },
  {
   "cell_type": "code",
   "execution_count": null,
   "id": "australian-container",
   "metadata": {
    "papermill": {
     "duration": 0.035369,
     "end_time": "2022-04-25T00:35:00.771398",
     "exception": false,
     "start_time": "2022-04-25T00:35:00.736029",
     "status": "completed"
    },
    "tags": []
   },
   "outputs": [],
   "source": []
  },
  {
   "cell_type": "code",
   "execution_count": null,
   "id": "mediterranean-pontiac",
   "metadata": {
    "papermill": {
     "duration": 0.032979,
     "end_time": "2022-04-25T00:35:00.838761",
     "exception": false,
     "start_time": "2022-04-25T00:35:00.805782",
     "status": "completed"
    },
    "tags": []
   },
   "outputs": [],
   "source": []
  },
  {
   "cell_type": "code",
   "execution_count": null,
   "id": "aging-legislature",
   "metadata": {
    "papermill": {
     "duration": 0.034919,
     "end_time": "2022-04-25T00:35:00.905936",
     "exception": false,
     "start_time": "2022-04-25T00:35:00.871017",
     "status": "completed"
    },
    "tags": []
   },
   "outputs": [],
   "source": []
  }
 ],
 "metadata": {
  "kernelspec": {
   "display_name": "Python 3",
   "language": "python",
   "name": "python3"
  },
  "language_info": {
   "codemirror_mode": {
    "name": "ipython",
    "version": 3
   },
   "file_extension": ".py",
   "mimetype": "text/x-python",
   "name": "python",
   "nbconvert_exporter": "python",
   "pygments_lexer": "ipython3",
   "version": "3.6.15"
  },
  "papermill": {
   "duration": 6.516473,
   "end_time": "2022-04-25T00:35:01.263575",
   "environment_variables": {},
   "exception": null,
   "input_path": "2020-03-21-covid19exp.ipynb",
   "output_path": "2020-03-21-covid19exp.ipynb",
   "parameters": {},
   "start_time": "2022-04-25T00:34:54.747102",
   "version": "2.0.0"
  }
 },
 "nbformat": 4,
 "nbformat_minor": 5
}