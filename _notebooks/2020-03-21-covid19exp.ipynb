{
 "cells": [
  {
   "cell_type": "markdown",
   "id": "muslim-click",
   "metadata": {
    "papermill": {
     "duration": 0.036235,
     "end_time": "2021-08-27T12:10:32.640874",
     "exception": false,
     "start_time": "2021-08-27T12:10:32.604639",
     "status": "completed"
    },
    "tags": []
   },
   "source": [
    "# COVID-19 Case Race\n",
    "> A race chart to see rising cases around the world\n",
    "\n",
    "- author: Hargun Oberoi\n",
    "- image: images/covid-overview.png\n",
    "- hide: false\n",
    "- badges: false"
   ]
  },
  {
   "cell_type": "code",
   "execution_count": 1,
   "id": "proof-material",
   "metadata": {
    "execution": {
     "iopub.execute_input": "2021-08-27T12:10:32.712657Z",
     "iopub.status.busy": "2021-08-27T12:10:32.712129Z",
     "iopub.status.idle": "2021-08-27T12:10:33.057018Z",
     "shell.execute_reply": "2021-08-27T12:10:33.055686Z"
    },
    "papermill": {
     "duration": 0.384463,
     "end_time": "2021-08-27T12:10:33.057249",
     "exception": false,
     "start_time": "2021-08-27T12:10:32.672786",
     "status": "completed"
    },
    "tags": []
   },
   "outputs": [],
   "source": [
    "#hide\n",
    "import numpy as np\n",
    "import pandas as pd\n",
    "from jinja2 import Template\n",
    "from IPython.display import HTML"
   ]
  },
  {
   "cell_type": "code",
   "execution_count": 2,
   "id": "developed-terminology",
   "metadata": {
    "execution": {
     "iopub.execute_input": "2021-08-27T12:10:33.133180Z",
     "iopub.status.busy": "2021-08-27T12:10:33.132598Z",
     "iopub.status.idle": "2021-08-27T12:10:33.134569Z",
     "shell.execute_reply": "2021-08-27T12:10:33.135036Z"
    },
    "papermill": {
     "duration": 0.044418,
     "end_time": "2021-08-27T12:10:33.135191",
     "exception": false,
     "start_time": "2021-08-27T12:10:33.090773",
     "status": "completed"
    },
    "tags": []
   },
   "outputs": [],
   "source": [
    "#hide\n",
    "\n",
    "# FETCH\n",
    "base_url = 'https://raw.githubusercontent.com/pratapvardhan/notebooks/master/covid19/'\n",
    "paths = {\n",
    "    'mapping': base_url + 'mapping_countries.csv',\n",
    "    'overview': base_url + 'overview.tpl'\n",
    "}"
   ]
  },
  {
   "cell_type": "code",
   "execution_count": 3,
   "id": "dynamic-saver",
   "metadata": {
    "execution": {
     "iopub.execute_input": "2021-08-27T12:10:33.205608Z",
     "iopub.status.busy": "2021-08-27T12:10:33.200615Z",
     "iopub.status.idle": "2021-08-27T12:10:33.208310Z",
     "shell.execute_reply": "2021-08-27T12:10:33.207907Z"
    },
    "papermill": {
     "duration": 0.044175,
     "end_time": "2021-08-27T12:10:33.208419",
     "exception": false,
     "start_time": "2021-08-27T12:10:33.164244",
     "status": "completed"
    },
    "tags": []
   },
   "outputs": [
    {
     "data": {
      "text/plain": [
       "'https://raw.githubusercontent.com/pratapvardhan/notebooks/master/covid19/mapping_countries.csv'"
      ]
     },
     "execution_count": 3,
     "metadata": {},
     "output_type": "execute_result"
    }
   ],
   "source": [
    "#hide\n",
    "paths['mapping']"
   ]
  },
  {
   "cell_type": "code",
   "execution_count": 4,
   "id": "urban-software",
   "metadata": {
    "execution": {
     "iopub.execute_input": "2021-08-27T12:10:33.274569Z",
     "iopub.status.busy": "2021-08-27T12:10:33.273986Z",
     "iopub.status.idle": "2021-08-27T12:10:33.276339Z",
     "shell.execute_reply": "2021-08-27T12:10:33.275877Z"
    },
    "papermill": {
     "duration": 0.038143,
     "end_time": "2021-08-27T12:10:33.276447",
     "exception": false,
     "start_time": "2021-08-27T12:10:33.238304",
     "status": "completed"
    },
    "tags": []
   },
   "outputs": [],
   "source": [
    "#hide\n",
    "def get_mappings(url):\n",
    "    df = pd.read_csv(url)\n",
    "    return {\n",
    "        'df': df,\n",
    "        'replace.country': dict(df.dropna(subset=['Name']).set_index('Country')['Name']),\n",
    "        'map.continent': dict(df.set_index('Name')['Continent'])\n",
    "    }"
   ]
  },
  {
   "cell_type": "code",
   "execution_count": 5,
   "id": "intimate-machinery",
   "metadata": {
    "execution": {
     "iopub.execute_input": "2021-08-27T12:10:33.343720Z",
     "iopub.status.busy": "2021-08-27T12:10:33.343100Z",
     "iopub.status.idle": "2021-08-27T12:10:33.372821Z",
     "shell.execute_reply": "2021-08-27T12:10:33.372310Z"
    },
    "papermill": {
     "duration": 0.067601,
     "end_time": "2021-08-27T12:10:33.372950",
     "exception": false,
     "start_time": "2021-08-27T12:10:33.305349",
     "status": "completed"
    },
    "tags": []
   },
   "outputs": [],
   "source": [
    "#hide\n",
    "mapping = get_mappings(paths['mapping'])"
   ]
  },
  {
   "cell_type": "code",
   "execution_count": 6,
   "id": "certified-tactics",
   "metadata": {
    "execution": {
     "iopub.execute_input": "2021-08-27T12:10:33.438812Z",
     "iopub.status.busy": "2021-08-27T12:10:33.438220Z",
     "iopub.status.idle": "2021-08-27T12:10:33.440463Z",
     "shell.execute_reply": "2021-08-27T12:10:33.440007Z"
    },
    "papermill": {
     "duration": 0.036843,
     "end_time": "2021-08-27T12:10:33.440571",
     "exception": false,
     "start_time": "2021-08-27T12:10:33.403728",
     "status": "completed"
    },
    "tags": []
   },
   "outputs": [],
   "source": [
    "#hide\n",
    "def get_template(path):\n",
    "    from urllib.parse import urlparse\n",
    "    if bool(urlparse(path).netloc):\n",
    "        from urllib.request import urlopen\n",
    "        return urlopen(path).read().decode('utf8')\n",
    "    return open(path).read()"
   ]
  },
  {
   "cell_type": "code",
   "execution_count": 7,
   "id": "realistic-blast",
   "metadata": {
    "execution": {
     "iopub.execute_input": "2021-08-27T12:10:33.506151Z",
     "iopub.status.busy": "2021-08-27T12:10:33.505732Z",
     "iopub.status.idle": "2021-08-27T12:10:33.508869Z",
     "shell.execute_reply": "2021-08-27T12:10:33.508401Z"
    },
    "papermill": {
     "duration": 0.037806,
     "end_time": "2021-08-27T12:10:33.508988",
     "exception": false,
     "start_time": "2021-08-27T12:10:33.471182",
     "status": "completed"
    },
    "tags": []
   },
   "outputs": [],
   "source": [
    "#hide\n",
    "def get_frame(name):\n",
    "    url = (\n",
    "        'https://raw.githubusercontent.com/CSSEGISandData/COVID-19/master/csse_covid_19_data/'\n",
    "        f'csse_covid_19_time_series/time_series_covid19_{name}_global.csv')\n",
    "    df = pd.read_csv(url)\n",
    "    # rename countries\n",
    "    df['Country/Region'] = df['Country/Region'].replace(mapping['replace.country'])\n",
    "    return df"
   ]
  },
  {
   "cell_type": "code",
   "execution_count": 8,
   "id": "affiliated-characterization",
   "metadata": {
    "execution": {
     "iopub.execute_input": "2021-08-27T12:10:33.576259Z",
     "iopub.status.busy": "2021-08-27T12:10:33.574894Z",
     "iopub.status.idle": "2021-08-27T12:10:33.576912Z",
     "shell.execute_reply": "2021-08-27T12:10:33.577376Z"
    },
    "papermill": {
     "duration": 0.038669,
     "end_time": "2021-08-27T12:10:33.577513",
     "exception": false,
     "start_time": "2021-08-27T12:10:33.538844",
     "status": "completed"
    },
    "tags": []
   },
   "outputs": [],
   "source": [
    "#hide\n",
    "def get_dates(df):\n",
    "    dt_cols = df.columns[~df.columns.isin(['Province/State', 'Country/Region', 'Lat', 'Long'])]\n",
    "    LAST_DATE_I = -1\n",
    "    # sometimes last column may be empty, then go backwards\n",
    "    for i in range(-1, -len(dt_cols), -1):\n",
    "        if not df[dt_cols[i]].fillna(0).eq(0).all():\n",
    "            LAST_DATE_I = i\n",
    "            break\n",
    "    return LAST_DATE_I, dt_cols"
   ]
  },
  {
   "cell_type": "code",
   "execution_count": 9,
   "id": "recent-optimization",
   "metadata": {
    "execution": {
     "iopub.execute_input": "2021-08-27T12:10:33.641450Z",
     "iopub.status.busy": "2021-08-27T12:10:33.640779Z",
     "iopub.status.idle": "2021-08-27T12:10:33.947705Z",
     "shell.execute_reply": "2021-08-27T12:10:33.947078Z"
    },
    "papermill": {
     "duration": 0.339834,
     "end_time": "2021-08-27T12:10:33.947828",
     "exception": false,
     "start_time": "2021-08-27T12:10:33.607994",
     "status": "completed"
    },
    "tags": []
   },
   "outputs": [],
   "source": [
    "#hide\n",
    "COL_REGION = 'Country/Region'\n",
    "# Confirmed, Recovered, Deaths\n",
    "df = get_frame('confirmed')\n",
    "# dft_: timeseries, dfc_: today country agg\n",
    "dft_cases = df\n",
    "dft_deaths = get_frame('deaths')\n",
    "dft_recovered = get_frame('recovered')\n",
    "LAST_DATE_I, dt_cols = get_dates(df)"
   ]
  },
  {
   "cell_type": "code",
   "execution_count": 10,
   "id": "absolute-copper",
   "metadata": {
    "execution": {
     "iopub.execute_input": "2021-08-27T12:10:34.019392Z",
     "iopub.status.busy": "2021-08-27T12:10:34.018781Z",
     "iopub.status.idle": "2021-08-27T12:10:34.020949Z",
     "shell.execute_reply": "2021-08-27T12:10:34.020491Z"
    },
    "papermill": {
     "duration": 0.040468,
     "end_time": "2021-08-27T12:10:34.021061",
     "exception": false,
     "start_time": "2021-08-27T12:10:33.980593",
     "status": "completed"
    },
    "tags": []
   },
   "outputs": [],
   "source": [
    "#hide\n",
    "LAST_DATE_I, dt_cols = get_dates(df)\n",
    "dt_today =dt_cols[LAST_DATE_I]\n",
    "# dt_5day = dt_cols[LAST_DATE_I - 5]\n",
    "dt_yday = dt_cols[LAST_DATE_I - 1]"
   ]
  },
  {
   "cell_type": "code",
   "execution_count": 11,
   "id": "restricted-sheriff",
   "metadata": {
    "execution": {
     "iopub.execute_input": "2021-08-27T12:10:34.096777Z",
     "iopub.status.busy": "2021-08-27T12:10:34.094464Z",
     "iopub.status.idle": "2021-08-27T12:10:34.101717Z",
     "shell.execute_reply": "2021-08-27T12:10:34.100739Z"
    },
    "papermill": {
     "duration": 0.048924,
     "end_time": "2021-08-27T12:10:34.101838",
     "exception": false,
     "start_time": "2021-08-27T12:10:34.052914",
     "status": "completed"
    },
    "tags": []
   },
   "outputs": [],
   "source": [
    "#hide\n",
    "dfc_cases = dft_cases.groupby(COL_REGION)[dt_today].sum()\n",
    "dfc_deaths = dft_deaths.groupby(COL_REGION)[dt_today].sum()\n",
    "# dfp_cases = dft_cases.groupby(COL_REGION)[dt_5day].sum()\n",
    "# dfp_deaths = dft_deaths.groupby(COL_REGION)[dt_5day].sum()\n",
    "dfp_cases = dft_cases.groupby(COL_REGION)[dt_yday].sum()\n",
    "dfp_deaths = dft_deaths.groupby(COL_REGION)[dt_yday].sum()"
   ]
  },
  {
   "cell_type": "code",
   "execution_count": 12,
   "id": "deluxe-hepatitis",
   "metadata": {
    "execution": {
     "iopub.execute_input": "2021-08-27T12:10:34.171282Z",
     "iopub.status.busy": "2021-08-27T12:10:34.170654Z",
     "iopub.status.idle": "2021-08-27T12:10:34.175482Z",
     "shell.execute_reply": "2021-08-27T12:10:34.175958Z"
    },
    "papermill": {
     "duration": 0.042461,
     "end_time": "2021-08-27T12:10:34.176088",
     "exception": false,
     "start_time": "2021-08-27T12:10:34.133627",
     "status": "completed"
    },
    "tags": []
   },
   "outputs": [],
   "source": [
    "#hide\n",
    "df_table = (pd.DataFrame(dict(Cases = dfc_cases, Deaths = dfc_deaths, PCases = dfp_cases, PDeaths = dfp_deaths))\n",
    "            .sort_values(by = ['Cases','Deaths'], ascending = [False, False])\n",
    "            .reset_index())"
   ]
  },
  {
   "cell_type": "code",
   "execution_count": 13,
   "id": "educational-chancellor",
   "metadata": {
    "execution": {
     "iopub.execute_input": "2021-08-27T12:10:34.260373Z",
     "iopub.status.busy": "2021-08-27T12:10:34.259786Z",
     "iopub.status.idle": "2021-08-27T12:10:34.268032Z",
     "shell.execute_reply": "2021-08-27T12:10:34.267564Z"
    },
    "papermill": {
     "duration": 0.059894,
     "end_time": "2021-08-27T12:10:34.268145",
     "exception": false,
     "start_time": "2021-08-27T12:10:34.208251",
     "status": "completed"
    },
    "tags": []
   },
   "outputs": [
    {
     "data": {
      "text/html": [
       "<div>\n",
       "<style scoped>\n",
       "    .dataframe tbody tr th:only-of-type {\n",
       "        vertical-align: middle;\n",
       "    }\n",
       "\n",
       "    .dataframe tbody tr th {\n",
       "        vertical-align: top;\n",
       "    }\n",
       "\n",
       "    .dataframe thead th {\n",
       "        text-align: right;\n",
       "    }\n",
       "</style>\n",
       "<table border=\"1\" class=\"dataframe\">\n",
       "  <thead>\n",
       "    <tr style=\"text-align: right;\">\n",
       "      <th></th>\n",
       "      <th>Country/Region</th>\n",
       "      <th>Cases</th>\n",
       "      <th>Deaths</th>\n",
       "      <th>PCases</th>\n",
       "      <th>PDeaths</th>\n",
       "      <th>Cases (+)</th>\n",
       "      <th>Deaths (+)</th>\n",
       "      <th>Fatality Rate</th>\n",
       "      <th>Continent</th>\n",
       "    </tr>\n",
       "  </thead>\n",
       "  <tbody>\n",
       "    <tr>\n",
       "      <th>0</th>\n",
       "      <td>US</td>\n",
       "      <td>38384360</td>\n",
       "      <td>633564</td>\n",
       "      <td>38223029</td>\n",
       "      <td>632272</td>\n",
       "      <td>161331</td>\n",
       "      <td>1292</td>\n",
       "      <td>1.65</td>\n",
       "      <td>North America</td>\n",
       "    </tr>\n",
       "    <tr>\n",
       "      <th>1</th>\n",
       "      <td>India</td>\n",
       "      <td>32603188</td>\n",
       "      <td>436861</td>\n",
       "      <td>32558530</td>\n",
       "      <td>436365</td>\n",
       "      <td>44658</td>\n",
       "      <td>496</td>\n",
       "      <td>1.34</td>\n",
       "      <td>Asia</td>\n",
       "    </tr>\n",
       "    <tr>\n",
       "      <th>2</th>\n",
       "      <td>Brazil</td>\n",
       "      <td>20676561</td>\n",
       "      <td>577565</td>\n",
       "      <td>20645537</td>\n",
       "      <td>576645</td>\n",
       "      <td>31024</td>\n",
       "      <td>920</td>\n",
       "      <td>2.79</td>\n",
       "      <td>South America</td>\n",
       "    </tr>\n",
       "    <tr>\n",
       "      <th>3</th>\n",
       "      <td>France</td>\n",
       "      <td>6777676</td>\n",
       "      <td>114269</td>\n",
       "      <td>6757783</td>\n",
       "      <td>114144</td>\n",
       "      <td>19893</td>\n",
       "      <td>125</td>\n",
       "      <td>1.69</td>\n",
       "      <td>Europe</td>\n",
       "    </tr>\n",
       "    <tr>\n",
       "      <th>4</th>\n",
       "      <td>Russia</td>\n",
       "      <td>6728699</td>\n",
       "      <td>176127</td>\n",
       "      <td>6709605</td>\n",
       "      <td>175328</td>\n",
       "      <td>19094</td>\n",
       "      <td>799</td>\n",
       "      <td>2.62</td>\n",
       "      <td>Europe</td>\n",
       "    </tr>\n",
       "  </tbody>\n",
       "</table>\n",
       "</div>"
      ],
      "text/plain": [
       "  Country/Region     Cases  Deaths    PCases  PDeaths  Cases (+)  Deaths (+)  \\\n",
       "0             US  38384360  633564  38223029   632272     161331        1292   \n",
       "1          India  32603188  436861  32558530   436365      44658         496   \n",
       "2         Brazil  20676561  577565  20645537   576645      31024         920   \n",
       "3         France   6777676  114269   6757783   114144      19893         125   \n",
       "4         Russia   6728699  176127   6709605   175328      19094         799   \n",
       "\n",
       "   Fatality Rate      Continent  \n",
       "0           1.65  North America  \n",
       "1           1.34           Asia  \n",
       "2           2.79  South America  \n",
       "3           1.69         Europe  \n",
       "4           2.62         Europe  "
      ]
     },
     "execution_count": 13,
     "metadata": {},
     "output_type": "execute_result"
    }
   ],
   "source": [
    "#hide\n",
    "for c in 'Cases, Deaths'.split(', '):\n",
    "    df_table[f'{c} (+)'] = (df_table[c] - df_table[f'P{c}']).clip(0)\n",
    "    #Clip ça veut dire, les chiffres negatif sont interdit\n",
    "df_table['Fatality Rate'] = (100* df_table['Deaths']/ df_table['Cases']).round(2)\n",
    "df_table['Continent'] = df_table['Country/Region'].map(mapping['map.continent'])\n",
    "df_table.head(5)"
   ]
  },
  {
   "cell_type": "code",
   "execution_count": 14,
   "id": "aboriginal-bulgaria",
   "metadata": {
    "execution": {
     "iopub.execute_input": "2021-08-27T12:10:34.339863Z",
     "iopub.status.busy": "2021-08-27T12:10:34.339304Z",
     "iopub.status.idle": "2021-08-27T12:10:34.341857Z",
     "shell.execute_reply": "2021-08-27T12:10:34.341473Z"
    },
    "papermill": {
     "duration": 0.041796,
     "end_time": "2021-08-27T12:10:34.341955",
     "exception": false,
     "start_time": "2021-08-27T12:10:34.300159",
     "status": "completed"
    },
    "tags": []
   },
   "outputs": [],
   "source": [
    "#hide\n",
    "#delete problematic countries from table\n",
    "df_table = df_table[~df_table['Country/Region'].isin(['Cape Verde', 'Cruise Ship', 'Kosovo'])]"
   ]
  },
  {
   "cell_type": "code",
   "execution_count": 15,
   "id": "fantastic-effect",
   "metadata": {
    "execution": {
     "iopub.execute_input": "2021-08-27T12:10:34.416745Z",
     "iopub.status.busy": "2021-08-27T12:10:34.416160Z",
     "iopub.status.idle": "2021-08-27T12:10:34.434291Z",
     "shell.execute_reply": "2021-08-27T12:10:34.433792Z"
    },
    "papermill": {
     "duration": 0.059916,
     "end_time": "2021-08-27T12:10:34.434416",
     "exception": false,
     "start_time": "2021-08-27T12:10:34.374500",
     "status": "completed"
    },
    "tags": []
   },
   "outputs": [
    {
     "data": {
      "text/html": [
       "<div>\n",
       "<style scoped>\n",
       "    .dataframe tbody tr th:only-of-type {\n",
       "        vertical-align: middle;\n",
       "    }\n",
       "\n",
       "    .dataframe tbody tr th {\n",
       "        vertical-align: top;\n",
       "    }\n",
       "\n",
       "    .dataframe thead th {\n",
       "        text-align: right;\n",
       "    }\n",
       "</style>\n",
       "<table border=\"1\" class=\"dataframe\">\n",
       "  <thead>\n",
       "    <tr style=\"text-align: right;\">\n",
       "      <th></th>\n",
       "      <th>Country/Region</th>\n",
       "      <th>Cases</th>\n",
       "      <th>Deaths</th>\n",
       "      <th>PCases</th>\n",
       "      <th>PDeaths</th>\n",
       "      <th>Cases (+)</th>\n",
       "      <th>Deaths (+)</th>\n",
       "      <th>Fatality Rate</th>\n",
       "      <th>Continent</th>\n",
       "    </tr>\n",
       "  </thead>\n",
       "  <tbody>\n",
       "    <tr>\n",
       "      <th>0</th>\n",
       "      <td>US</td>\n",
       "      <td>38384360</td>\n",
       "      <td>633564</td>\n",
       "      <td>38223029</td>\n",
       "      <td>632272</td>\n",
       "      <td>161331</td>\n",
       "      <td>1292</td>\n",
       "      <td>1.7</td>\n",
       "      <td>North America</td>\n",
       "    </tr>\n",
       "    <tr>\n",
       "      <th>1</th>\n",
       "      <td>India</td>\n",
       "      <td>32603188</td>\n",
       "      <td>436861</td>\n",
       "      <td>32558530</td>\n",
       "      <td>436365</td>\n",
       "      <td>44658</td>\n",
       "      <td>496</td>\n",
       "      <td>1.3</td>\n",
       "      <td>Asia</td>\n",
       "    </tr>\n",
       "    <tr>\n",
       "      <th>2</th>\n",
       "      <td>Brazil</td>\n",
       "      <td>20676561</td>\n",
       "      <td>577565</td>\n",
       "      <td>20645537</td>\n",
       "      <td>576645</td>\n",
       "      <td>31024</td>\n",
       "      <td>920</td>\n",
       "      <td>2.8</td>\n",
       "      <td>South America</td>\n",
       "    </tr>\n",
       "    <tr>\n",
       "      <th>3</th>\n",
       "      <td>France</td>\n",
       "      <td>6777676</td>\n",
       "      <td>114269</td>\n",
       "      <td>6757783</td>\n",
       "      <td>114144</td>\n",
       "      <td>19893</td>\n",
       "      <td>125</td>\n",
       "      <td>1.7</td>\n",
       "      <td>Europe</td>\n",
       "    </tr>\n",
       "    <tr>\n",
       "      <th>4</th>\n",
       "      <td>Russia</td>\n",
       "      <td>6728699</td>\n",
       "      <td>176127</td>\n",
       "      <td>6709605</td>\n",
       "      <td>175328</td>\n",
       "      <td>19094</td>\n",
       "      <td>799</td>\n",
       "      <td>2.6</td>\n",
       "      <td>Europe</td>\n",
       "    </tr>\n",
       "  </tbody>\n",
       "</table>\n",
       "</div>"
      ],
      "text/plain": [
       "  Country/Region     Cases  Deaths    PCases  PDeaths  Cases (+)  Deaths (+)  \\\n",
       "0             US  38384360  633564  38223029   632272     161331        1292   \n",
       "1          India  32603188  436861  32558530   436365      44658         496   \n",
       "2         Brazil  20676561  577565  20645537   576645      31024         920   \n",
       "3         France   6777676  114269   6757783   114144      19893         125   \n",
       "4         Russia   6728699  176127   6709605   175328      19094         799   \n",
       "\n",
       "   Fatality Rate      Continent  \n",
       "0            1.7  North America  \n",
       "1            1.3           Asia  \n",
       "2            2.8  South America  \n",
       "3            1.7         Europe  \n",
       "4            2.6         Europe  "
      ]
     },
     "execution_count": 15,
     "metadata": {},
     "output_type": "execute_result"
    }
   ],
   "source": [
    "#hide\n",
    "df_table = (pd.DataFrame(dict(Cases=dfc_cases, Deaths=dfc_deaths, PCases=dfp_cases, PDeaths=dfp_deaths))\n",
    "             .sort_values(by=['Cases', 'Deaths'], ascending=[False, False])\n",
    "             .reset_index())\n",
    "df_table.rename(columns={'index': 'Country/Region'}, inplace=True)\n",
    "for c in 'Cases, Deaths'.split(', '):\n",
    "    df_table[f'{c} (+)'] = (df_table[c] - df_table[f'P{c}']).clip(0)  # DATA BUG\n",
    "df_table['Fatality Rate'] = (100 * df_table['Deaths'] / df_table['Cases']).round(1)\n",
    "df_table['Continent'] = df_table['Country/Region'].map(mapping['map.continent'])\n",
    "df_table.head(5)"
   ]
  },
  {
   "cell_type": "code",
   "execution_count": 16,
   "id": "fewer-occasion",
   "metadata": {
    "execution": {
     "iopub.execute_input": "2021-08-27T12:10:34.502824Z",
     "iopub.status.busy": "2021-08-27T12:10:34.502346Z",
     "iopub.status.idle": "2021-08-27T12:10:34.503975Z",
     "shell.execute_reply": "2021-08-27T12:10:34.504440Z"
    },
    "papermill": {
     "duration": 0.038673,
     "end_time": "2021-08-27T12:10:34.504569",
     "exception": false,
     "start_time": "2021-08-27T12:10:34.465896",
     "status": "completed"
    },
    "tags": []
   },
   "outputs": [],
   "source": [
    "#hide\n",
    "#delete problematic countries from table\n",
    "df_table = df_table[~df_table['Country/Region'].isin(['Cape Verde', 'Cruise Ship', 'Kosovo'])]"
   ]
  },
  {
   "cell_type": "code",
   "execution_count": 17,
   "id": "related-center",
   "metadata": {
    "execution": {
     "iopub.execute_input": "2021-08-27T12:10:34.578335Z",
     "iopub.status.busy": "2021-08-27T12:10:34.577844Z",
     "iopub.status.idle": "2021-08-27T12:10:34.591452Z",
     "shell.execute_reply": "2021-08-27T12:10:34.590979Z"
    },
    "papermill": {
     "duration": 0.054687,
     "end_time": "2021-08-27T12:10:34.591576",
     "exception": false,
     "start_time": "2021-08-27T12:10:34.536889",
     "status": "completed"
    },
    "tags": []
   },
   "outputs": [],
   "source": [
    "#hide\n",
    "metrics = [df_table.columns[index] for index in [1,2,5,6]]\n",
    "# s_china = df_table[df_table['Country/Region'].eq('China')][metrics].sum().add_prefix('China ')\n",
    "s_us = df_table[df_table['Country/Region'].eq('US')][metrics].sum().add_prefix('US ')\n",
    "s_eu = df_table[df_table['Continent'].eq('Europe')][metrics].sum().add_prefix('EU ')\n",
    "s_ind = df_table[df_table['Country/Region'].eq('India')][metrics].sum().add_prefix('India ')\n",
    "summary = {'updated': pd.to_datetime(dt_today), 'since': pd.to_datetime(dt_yday)}\n",
    "summary = {'updated': pd.to_datetime(dt_today), 'since': pd.to_datetime(dt_yday)}\n",
    "summary = {**summary, **df_table[metrics].sum(), **s_ind, **s_us, **s_eu}"
   ]
  },
  {
   "cell_type": "code",
   "execution_count": 18,
   "id": "engaging-syndrome",
   "metadata": {
    "execution": {
     "iopub.execute_input": "2021-08-27T12:10:34.661684Z",
     "iopub.status.busy": "2021-08-27T12:10:34.661138Z",
     "iopub.status.idle": "2021-08-27T12:10:34.676914Z",
     "shell.execute_reply": "2021-08-27T12:10:34.677333Z"
    },
    "papermill": {
     "duration": 0.054077,
     "end_time": "2021-08-27T12:10:34.677472",
     "exception": false,
     "start_time": "2021-08-27T12:10:34.623395",
     "status": "completed"
    },
    "tags": []
   },
   "outputs": [],
   "source": [
    "#hide\n",
    "dft_ct_new_cases = dft_cases.groupby(COL_REGION)[dt_cols].sum().diff(axis=1).fillna(0).astype(int)"
   ]
  },
  {
   "cell_type": "code",
   "execution_count": 19,
   "id": "neutral-assignment",
   "metadata": {
    "execution": {
     "iopub.execute_input": "2021-08-27T12:10:34.748413Z",
     "iopub.status.busy": "2021-08-27T12:10:34.747843Z",
     "iopub.status.idle": "2021-08-27T12:10:34.750455Z",
     "shell.execute_reply": "2021-08-27T12:10:34.750897Z"
    },
    "papermill": {
     "duration": 0.040688,
     "end_time": "2021-08-27T12:10:34.751049",
     "exception": false,
     "start_time": "2021-08-27T12:10:34.710361",
     "status": "completed"
    },
    "tags": []
   },
   "outputs": [],
   "source": [
    "#hide\n",
    "everydaycases = dft_ct_new_cases.cumsum(axis=1)"
   ]
  },
  {
   "cell_type": "code",
   "execution_count": 20,
   "id": "parliamentary-calgary",
   "metadata": {
    "execution": {
     "iopub.execute_input": "2021-08-27T12:10:34.820233Z",
     "iopub.status.busy": "2021-08-27T12:10:34.817763Z",
     "iopub.status.idle": "2021-08-27T12:10:35.376049Z",
     "shell.execute_reply": "2021-08-27T12:10:35.375478Z"
    },
    "papermill": {
     "duration": 0.593216,
     "end_time": "2021-08-27T12:10:35.376184",
     "exception": false,
     "start_time": "2021-08-27T12:10:34.782968",
     "status": "completed"
    },
    "tags": []
   },
   "outputs": [],
   "source": [
    "#hide\n",
    "import pandas as pd\n",
    "import matplotlib.pyplot as plt\n",
    "import matplotlib.ticker as ticker\n",
    "import matplotlib.animation as animation\n",
    "from IPython.display import HTML"
   ]
  },
  {
   "cell_type": "code",
   "execution_count": 21,
   "id": "lasting-extraction",
   "metadata": {
    "execution": {
     "iopub.execute_input": "2021-08-27T12:10:35.452744Z",
     "iopub.status.busy": "2021-08-27T12:10:35.452123Z",
     "iopub.status.idle": "2021-08-27T12:10:35.458578Z",
     "shell.execute_reply": "2021-08-27T12:10:35.458009Z"
    },
    "papermill": {
     "duration": 0.047054,
     "end_time": "2021-08-27T12:10:35.458701",
     "exception": false,
     "start_time": "2021-08-27T12:10:35.411647",
     "status": "completed"
    },
    "tags": []
   },
   "outputs": [],
   "source": [
    "#hide\n",
    "t = everydaycases.stack()"
   ]
  },
  {
   "cell_type": "code",
   "execution_count": 22,
   "id": "premier-sleeve",
   "metadata": {
    "execution": {
     "iopub.execute_input": "2021-08-27T12:10:35.536958Z",
     "iopub.status.busy": "2021-08-27T12:10:35.536339Z",
     "iopub.status.idle": "2021-08-27T12:10:35.545315Z",
     "shell.execute_reply": "2021-08-27T12:10:35.544842Z"
    },
    "papermill": {
     "duration": 0.049066,
     "end_time": "2021-08-27T12:10:35.545437",
     "exception": false,
     "start_time": "2021-08-27T12:10:35.496371",
     "status": "completed"
    },
    "tags": []
   },
   "outputs": [],
   "source": [
    "#hide\n",
    "g = t.reset_index(['Country/Region'])"
   ]
  },
  {
   "cell_type": "code",
   "execution_count": 23,
   "id": "distributed-pittsburgh",
   "metadata": {
    "execution": {
     "iopub.execute_input": "2021-08-27T12:10:35.614632Z",
     "iopub.status.busy": "2021-08-27T12:10:35.614031Z",
     "iopub.status.idle": "2021-08-27T12:10:35.616244Z",
     "shell.execute_reply": "2021-08-27T12:10:35.616760Z"
    },
    "papermill": {
     "duration": 0.038928,
     "end_time": "2021-08-27T12:10:35.616892",
     "exception": false,
     "start_time": "2021-08-27T12:10:35.577964",
     "status": "completed"
    },
    "tags": []
   },
   "outputs": [],
   "source": [
    "#hide\n",
    "g.index.name = 'date'"
   ]
  },
  {
   "cell_type": "code",
   "execution_count": 24,
   "id": "naked-donor",
   "metadata": {
    "execution": {
     "iopub.execute_input": "2021-08-27T12:10:35.683830Z",
     "iopub.status.busy": "2021-08-27T12:10:35.683091Z",
     "iopub.status.idle": "2021-08-27T12:10:35.687509Z",
     "shell.execute_reply": "2021-08-27T12:10:35.688025Z"
    },
    "papermill": {
     "duration": 0.039577,
     "end_time": "2021-08-27T12:10:35.688150",
     "exception": false,
     "start_time": "2021-08-27T12:10:35.648573",
     "status": "completed"
    },
    "tags": []
   },
   "outputs": [],
   "source": [
    "# #hide\n",
    "# g = g.reset_index(['date'])"
   ]
  },
  {
   "cell_type": "code",
   "execution_count": 25,
   "id": "incomplete-mustang",
   "metadata": {
    "execution": {
     "iopub.execute_input": "2021-08-27T12:10:35.756656Z",
     "iopub.status.busy": "2021-08-27T12:10:35.756116Z",
     "iopub.status.idle": "2021-08-27T12:10:35.758762Z",
     "shell.execute_reply": "2021-08-27T12:10:35.758302Z"
    },
    "papermill": {
     "duration": 0.037787,
     "end_time": "2021-08-27T12:10:35.758874",
     "exception": false,
     "start_time": "2021-08-27T12:10:35.721087",
     "status": "completed"
    },
    "tags": []
   },
   "outputs": [],
   "source": [
    "#hide\n",
    "# g.head()"
   ]
  },
  {
   "cell_type": "code",
   "execution_count": 26,
   "id": "specific-kruger",
   "metadata": {
    "execution": {
     "iopub.execute_input": "2021-08-27T12:10:35.827715Z",
     "iopub.status.busy": "2021-08-27T12:10:35.827093Z",
     "iopub.status.idle": "2021-08-27T12:10:35.829505Z",
     "shell.execute_reply": "2021-08-27T12:10:35.830057Z"
    },
    "papermill": {
     "duration": 0.040049,
     "end_time": "2021-08-27T12:10:35.830192",
     "exception": false,
     "start_time": "2021-08-27T12:10:35.790143",
     "status": "completed"
    },
    "tags": []
   },
   "outputs": [],
   "source": [
    "#hide\n",
    "# g.columns = ['date','country','cases']"
   ]
  },
  {
   "cell_type": "code",
   "execution_count": 27,
   "id": "tender-conversion",
   "metadata": {
    "execution": {
     "iopub.execute_input": "2021-08-27T12:10:35.897990Z",
     "iopub.status.busy": "2021-08-27T12:10:35.897449Z",
     "iopub.status.idle": "2021-08-27T12:10:35.899790Z",
     "shell.execute_reply": "2021-08-27T12:10:35.900359Z"
    },
    "papermill": {
     "duration": 0.039527,
     "end_time": "2021-08-27T12:10:35.900493",
     "exception": false,
     "start_time": "2021-08-27T12:10:35.860966",
     "status": "completed"
    },
    "tags": []
   },
   "outputs": [],
   "source": [
    "#hide\n",
    "# g['continent'] = g.country"
   ]
  },
  {
   "cell_type": "code",
   "execution_count": 28,
   "id": "substantial-wilderness",
   "metadata": {
    "execution": {
     "iopub.execute_input": "2021-08-27T12:10:35.969203Z",
     "iopub.status.busy": "2021-08-27T12:10:35.968614Z",
     "iopub.status.idle": "2021-08-27T12:10:35.970766Z",
     "shell.execute_reply": "2021-08-27T12:10:35.971303Z"
    },
    "papermill": {
     "duration": 0.039349,
     "end_time": "2021-08-27T12:10:35.971434",
     "exception": false,
     "start_time": "2021-08-27T12:10:35.932085",
     "status": "completed"
    },
    "tags": []
   },
   "outputs": [],
   "source": [
    "#hide\n",
    "# cols = list(g.columns.values)"
   ]
  },
  {
   "cell_type": "code",
   "execution_count": 29,
   "id": "solved-farming",
   "metadata": {
    "execution": {
     "iopub.execute_input": "2021-08-27T12:10:36.041245Z",
     "iopub.status.busy": "2021-08-27T12:10:36.040666Z",
     "iopub.status.idle": "2021-08-27T12:10:36.042928Z",
     "shell.execute_reply": "2021-08-27T12:10:36.043467Z"
    },
    "papermill": {
     "duration": 0.038912,
     "end_time": "2021-08-27T12:10:36.043597",
     "exception": false,
     "start_time": "2021-08-27T12:10:36.004685",
     "status": "completed"
    },
    "tags": []
   },
   "outputs": [],
   "source": [
    "#hide\n",
    "# cols.insert(0, cols.pop())"
   ]
  },
  {
   "cell_type": "code",
   "execution_count": 30,
   "id": "executed-adoption",
   "metadata": {
    "execution": {
     "iopub.execute_input": "2021-08-27T12:10:36.114785Z",
     "iopub.status.busy": "2021-08-27T12:10:36.114226Z",
     "iopub.status.idle": "2021-08-27T12:10:36.116142Z",
     "shell.execute_reply": "2021-08-27T12:10:36.116606Z"
    },
    "papermill": {
     "duration": 0.040021,
     "end_time": "2021-08-27T12:10:36.116734",
     "exception": false,
     "start_time": "2021-08-27T12:10:36.076713",
     "status": "completed"
    },
    "tags": []
   },
   "outputs": [],
   "source": [
    "#hide\n",
    "# g = g[cols]"
   ]
  },
  {
   "cell_type": "code",
   "execution_count": 31,
   "id": "subject-dublin",
   "metadata": {
    "execution": {
     "iopub.execute_input": "2021-08-27T12:10:36.184730Z",
     "iopub.status.busy": "2021-08-27T12:10:36.184154Z",
     "iopub.status.idle": "2021-08-27T12:10:36.187028Z",
     "shell.execute_reply": "2021-08-27T12:10:36.186534Z"
    },
    "papermill": {
     "duration": 0.038666,
     "end_time": "2021-08-27T12:10:36.187170",
     "exception": false,
     "start_time": "2021-08-27T12:10:36.148504",
     "status": "completed"
    },
    "tags": []
   },
   "outputs": [],
   "source": [
    "#hide\n",
    "# g['continent'] = g['continent'].map(mapping['map.continent'])"
   ]
  },
  {
   "cell_type": "code",
   "execution_count": 32,
   "id": "freelance-scout",
   "metadata": {
    "execution": {
     "iopub.execute_input": "2021-08-27T12:10:36.255932Z",
     "iopub.status.busy": "2021-08-27T12:10:36.255384Z",
     "iopub.status.idle": "2021-08-27T12:10:36.257385Z",
     "shell.execute_reply": "2021-08-27T12:10:36.257823Z"
    },
    "papermill": {
     "duration": 0.038624,
     "end_time": "2021-08-27T12:10:36.257950",
     "exception": false,
     "start_time": "2021-08-27T12:10:36.219326",
     "status": "completed"
    },
    "tags": []
   },
   "outputs": [],
   "source": [
    "#hide\n",
    "# g.head()"
   ]
  },
  {
   "cell_type": "code",
   "execution_count": 33,
   "id": "limited-engine",
   "metadata": {
    "execution": {
     "iopub.execute_input": "2021-08-27T12:10:36.328209Z",
     "iopub.status.busy": "2021-08-27T12:10:36.327599Z",
     "iopub.status.idle": "2021-08-27T12:10:36.329550Z",
     "shell.execute_reply": "2021-08-27T12:10:36.329976Z"
    },
    "papermill": {
     "duration": 0.039623,
     "end_time": "2021-08-27T12:10:36.330109",
     "exception": false,
     "start_time": "2021-08-27T12:10:36.290486",
     "status": "completed"
    },
    "tags": []
   },
   "outputs": [],
   "source": [
    "# hide\n",
    "# g['date'] = g['date'].astype('datetime64[ns]')"
   ]
  },
  {
   "cell_type": "code",
   "execution_count": 34,
   "id": "sophisticated-supervisor",
   "metadata": {
    "execution": {
     "iopub.execute_input": "2021-08-27T12:10:36.401128Z",
     "iopub.status.busy": "2021-08-27T12:10:36.400589Z",
     "iopub.status.idle": "2021-08-27T12:10:36.402832Z",
     "shell.execute_reply": "2021-08-27T12:10:36.403301Z"
    },
    "papermill": {
     "duration": 0.040266,
     "end_time": "2021-08-27T12:10:36.403419",
     "exception": false,
     "start_time": "2021-08-27T12:10:36.363153",
     "status": "completed"
    },
    "tags": []
   },
   "outputs": [],
   "source": [
    "#hide\n",
    "# g['date'] = g.date.dt.dayofyear"
   ]
  },
  {
   "cell_type": "code",
   "execution_count": 35,
   "id": "inside-dubai",
   "metadata": {
    "execution": {
     "iopub.execute_input": "2021-08-27T12:10:36.473170Z",
     "iopub.status.busy": "2021-08-27T12:10:36.472583Z",
     "iopub.status.idle": "2021-08-27T12:10:36.474984Z",
     "shell.execute_reply": "2021-08-27T12:10:36.475537Z"
    },
    "papermill": {
     "duration": 0.040669,
     "end_time": "2021-08-27T12:10:36.475691",
     "exception": false,
     "start_time": "2021-08-27T12:10:36.435022",
     "status": "completed"
    },
    "tags": []
   },
   "outputs": [],
   "source": [
    "#hide\n",
    "# g = g.rename(columns= {'continent':'group','country':'name','cases':'value'})"
   ]
  },
  {
   "cell_type": "code",
   "execution_count": 36,
   "id": "fleet-motorcycle",
   "metadata": {
    "execution": {
     "iopub.execute_input": "2021-08-27T12:10:36.544233Z",
     "iopub.status.busy": "2021-08-27T12:10:36.543648Z",
     "iopub.status.idle": "2021-08-27T12:10:36.545639Z",
     "shell.execute_reply": "2021-08-27T12:10:36.546079Z"
    },
    "papermill": {
     "duration": 0.03818,
     "end_time": "2021-08-27T12:10:36.546214",
     "exception": false,
     "start_time": "2021-08-27T12:10:36.508034",
     "status": "completed"
    },
    "tags": []
   },
   "outputs": [],
   "source": [
    "#hide\n",
    "# cols = ['name','group','day','value']"
   ]
  },
  {
   "cell_type": "code",
   "execution_count": 37,
   "id": "continued-sleeping",
   "metadata": {
    "execution": {
     "iopub.execute_input": "2021-08-27T12:10:36.615724Z",
     "iopub.status.busy": "2021-08-27T12:10:36.615230Z",
     "iopub.status.idle": "2021-08-27T12:10:36.617471Z",
     "shell.execute_reply": "2021-08-27T12:10:36.617920Z"
    },
    "papermill": {
     "duration": 0.039295,
     "end_time": "2021-08-27T12:10:36.618032",
     "exception": false,
     "start_time": "2021-08-27T12:10:36.578737",
     "status": "completed"
    },
    "tags": []
   },
   "outputs": [],
   "source": [
    "#hide\n",
    "# g.rename(columns= {'date':'day'},inplace = True)"
   ]
  },
  {
   "cell_type": "code",
   "execution_count": 38,
   "id": "major-fight",
   "metadata": {
    "execution": {
     "iopub.execute_input": "2021-08-27T12:10:36.685246Z",
     "iopub.status.busy": "2021-08-27T12:10:36.684661Z",
     "iopub.status.idle": "2021-08-27T12:10:36.687043Z",
     "shell.execute_reply": "2021-08-27T12:10:36.687527Z"
    },
    "papermill": {
     "duration": 0.039073,
     "end_time": "2021-08-27T12:10:36.687664",
     "exception": false,
     "start_time": "2021-08-27T12:10:36.648591",
     "status": "completed"
    },
    "tags": []
   },
   "outputs": [],
   "source": [
    "#hide\n",
    "# g = g[cols]"
   ]
  },
  {
   "cell_type": "code",
   "execution_count": 39,
   "id": "structured-mobile",
   "metadata": {
    "execution": {
     "iopub.execute_input": "2021-08-27T12:10:36.753416Z",
     "iopub.status.busy": "2021-08-27T12:10:36.752878Z",
     "iopub.status.idle": "2021-08-27T12:10:36.755377Z",
     "shell.execute_reply": "2021-08-27T12:10:36.754890Z"
    },
    "papermill": {
     "duration": 0.037409,
     "end_time": "2021-08-27T12:10:36.755499",
     "exception": false,
     "start_time": "2021-08-27T12:10:36.718090",
     "status": "completed"
    },
    "tags": []
   },
   "outputs": [],
   "source": [
    "# #hide\n",
    "# g = g[g.group.notna()]"
   ]
  },
  {
   "cell_type": "code",
   "execution_count": 40,
   "id": "determined-closing",
   "metadata": {
    "execution": {
     "iopub.execute_input": "2021-08-27T12:10:36.824381Z",
     "iopub.status.busy": "2021-08-27T12:10:36.823833Z",
     "iopub.status.idle": "2021-08-27T12:10:36.826606Z",
     "shell.execute_reply": "2021-08-27T12:10:36.826118Z"
    },
    "papermill": {
     "duration": 0.038844,
     "end_time": "2021-08-27T12:10:36.826757",
     "exception": false,
     "start_time": "2021-08-27T12:10:36.787913",
     "status": "completed"
    },
    "tags": []
   },
   "outputs": [],
   "source": [
    "# #hide\n",
    "# colors = dict(zip(\n",
    "#     [\"Oceania\", \"Europe\", \"Asia\", \"South America\", \"Middle East\", \"North America\", \"Africa\"],\n",
    "#     [\"#adb0ff\", \"#ffb3ff\", \"#90d595\", \"#e48381\", \"#aafbff\", \"#f7bb5f\", \"#eafb50\"]\n",
    "# ))\n",
    "# group_lk = g.set_index('name')['group'].to_dict()"
   ]
  },
  {
   "cell_type": "code",
   "execution_count": null,
   "id": "gross-drinking",
   "metadata": {
    "papermill": {
     "duration": 0.032333,
     "end_time": "2021-08-27T12:10:36.888485",
     "exception": false,
     "start_time": "2021-08-27T12:10:36.856152",
     "status": "completed"
    },
    "tags": []
   },
   "outputs": [],
   "source": []
  },
  {
   "cell_type": "code",
   "execution_count": 41,
   "id": "subject-macintosh",
   "metadata": {
    "execution": {
     "iopub.execute_input": "2021-08-27T12:10:36.958156Z",
     "iopub.status.busy": "2021-08-27T12:10:36.957598Z",
     "iopub.status.idle": "2021-08-27T12:10:36.959884Z",
     "shell.execute_reply": "2021-08-27T12:10:36.959386Z"
    },
    "papermill": {
     "duration": 0.03937,
     "end_time": "2021-08-27T12:10:36.960004",
     "exception": false,
     "start_time": "2021-08-27T12:10:36.920634",
     "status": "completed"
    },
    "tags": []
   },
   "outputs": [],
   "source": [
    "# #hide\n",
    "# fig, ax = plt.subplots(figsize=(15, 8))\n",
    "\n",
    "# def draw_barchart(current_day):\n",
    "#     dff = g[g['day'].eq(current_day)].sort_values(by='value', ascending=True).tail(10)\n",
    "#     ax.clear()\n",
    "#     ax.barh(dff['name'], dff['value'], color=[colors[group_lk[x]] for x in dff['name']])\n",
    "#     dx = dff['value'].max() / 200\n",
    "    \n",
    "#     for i, (value, name) in enumerate(zip(dff['value'], dff['name'])):\n",
    "#         ax.text(value-dx, i,     name,           size=14, weight=600, ha='right', va='bottom')\n",
    "#         ax.text(value-dx, i-.25, group_lk[name], size=10, color='#444444', ha='right', va='baseline')\n",
    "#         ax.text(value+dx, i,     f'{value:,.0f}',  size=14, ha='left',  va='center')\n",
    "#     ax.text(1, 0.4, current_day, transform=ax.transAxes, color='#777777', size=46, ha='right', weight=800)\n",
    "#     ax.text(0, 1.06, 'Population (thousands)', transform=ax.transAxes, size=12, color='#777777')\n",
    "#     ax.xaxis.set_major_formatter(ticker.StrMethodFormatter('{x:,.0f}'))\n",
    "#     ax.xaxis.set_ticks_position('top')\n",
    "#     ax.tick_params(axis='x', colors='#777777', labelsize=12)\n",
    "#     ax.set_yticks([])\n",
    "#     ax.margins(0, 0.01)\n",
    "#     ax.grid(which='major', axis='x', linestyle='-')\n",
    "#     ax.set_axisbelow(True)\n",
    "    \n",
    "#     ax.text(0, 1.15, 'Coronavirus',\n",
    "#             transform=ax.transAxes, size=24, weight=600, ha='left', va='top')\n",
    "# #     ax.text(1, 0, 'by @pratapvardhan; credit @jburnmurdoch', transform=ax.transAxes, color='#777777', ha='right',\n",
    "# #             bbox=dict(facecolor='white', alpha=0.8, edgecolor='white'))\n",
    "#     plt.box(False)"
   ]
  },
  {
   "cell_type": "code",
   "execution_count": 42,
   "id": "sexual-wages",
   "metadata": {
    "execution": {
     "iopub.execute_input": "2021-08-27T12:10:37.031321Z",
     "iopub.status.busy": "2021-08-27T12:10:37.030692Z",
     "iopub.status.idle": "2021-08-27T12:10:37.032758Z",
     "shell.execute_reply": "2021-08-27T12:10:37.033201Z"
    },
    "papermill": {
     "duration": 0.039332,
     "end_time": "2021-08-27T12:10:37.033343",
     "exception": false,
     "start_time": "2021-08-27T12:10:36.994011",
     "status": "completed"
    },
    "tags": []
   },
   "outputs": [],
   "source": [
    "# #hide_input\n",
    "# fig, ax = plt.subplots(figsize=(15, 8))\n",
    "# animator = animation.FuncAnimation(fig, draw_barchart, frames=range(g.day.values.min(), g.day.values.max()))\n",
    "# HTML(animator.to_jshtml())\n",
    "# # or use animator.to_html5_video() or animator.save() "
   ]
  },
  {
   "cell_type": "code",
   "execution_count": null,
   "id": "australian-container",
   "metadata": {
    "papermill": {
     "duration": 0.033111,
     "end_time": "2021-08-27T12:10:37.099936",
     "exception": false,
     "start_time": "2021-08-27T12:10:37.066825",
     "status": "completed"
    },
    "tags": []
   },
   "outputs": [],
   "source": []
  },
  {
   "cell_type": "code",
   "execution_count": null,
   "id": "mediterranean-pontiac",
   "metadata": {
    "papermill": {
     "duration": 0.031463,
     "end_time": "2021-08-27T12:10:37.163898",
     "exception": false,
     "start_time": "2021-08-27T12:10:37.132435",
     "status": "completed"
    },
    "tags": []
   },
   "outputs": [],
   "source": []
  },
  {
   "cell_type": "code",
   "execution_count": null,
   "id": "aging-legislature",
   "metadata": {
    "papermill": {
     "duration": 0.032617,
     "end_time": "2021-08-27T12:10:37.229640",
     "exception": false,
     "start_time": "2021-08-27T12:10:37.197023",
     "status": "completed"
    },
    "tags": []
   },
   "outputs": [],
   "source": []
  }
 ],
 "metadata": {
  "kernelspec": {
   "display_name": "Python 3",
   "language": "python",
   "name": "python3"
  },
  "language_info": {
   "codemirror_mode": {
    "name": "ipython",
    "version": 3
   },
   "file_extension": ".py",
   "mimetype": "text/x-python",
   "name": "python",
   "nbconvert_exporter": "python",
   "pygments_lexer": "ipython3",
   "version": "3.6.14"
  },
  "papermill": {
   "duration": 6.032897,
   "end_time": "2021-08-27T12:10:37.570529",
   "environment_variables": {},
   "exception": null,
   "input_path": "2020-03-21-covid19exp.ipynb",
   "output_path": "2020-03-21-covid19exp.ipynb",
   "parameters": {},
   "start_time": "2021-08-27T12:10:31.537632",
   "version": "2.0.0"
  }
 },
 "nbformat": 4,
 "nbformat_minor": 5
}