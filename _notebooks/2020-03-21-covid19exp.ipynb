{
 "cells": [
  {
   "cell_type": "markdown",
   "id": "muslim-click",
   "metadata": {
    "papermill": {
     "duration": 0.03549,
     "end_time": "2022-09-02T12:17:17.755238",
     "exception": false,
     "start_time": "2022-09-02T12:17:17.719748",
     "status": "completed"
    },
    "tags": []
   },
   "source": [
    "# COVID-19 Case Race\n",
    "> A race chart to see rising cases around the world\n",
    "\n",
    "- author: Hargun Oberoi\n",
    "- image: images/covid-overview.png\n",
    "- hide: false\n",
    "- badges: false"
   ]
  },
  {
   "cell_type": "code",
   "execution_count": 1,
   "id": "proof-material",
   "metadata": {
    "execution": {
     "iopub.execute_input": "2022-09-02T12:17:17.825538Z",
     "iopub.status.busy": "2022-09-02T12:17:17.824916Z",
     "iopub.status.idle": "2022-09-02T12:17:18.169687Z",
     "shell.execute_reply": "2022-09-02T12:17:18.168631Z"
    },
    "papermill": {
     "duration": 0.384227,
     "end_time": "2022-09-02T12:17:18.169850",
     "exception": false,
     "start_time": "2022-09-02T12:17:17.785623",
     "status": "completed"
    },
    "tags": []
   },
   "outputs": [],
   "source": [
    "#hide\n",
    "import numpy as np\n",
    "import pandas as pd\n",
    "from jinja2 import Template\n",
    "from IPython.display import HTML"
   ]
  },
  {
   "cell_type": "code",
   "execution_count": 2,
   "id": "developed-terminology",
   "metadata": {
    "execution": {
     "iopub.execute_input": "2022-09-02T12:17:18.235411Z",
     "iopub.status.busy": "2022-09-02T12:17:18.234772Z",
     "iopub.status.idle": "2022-09-02T12:17:18.237294Z",
     "shell.execute_reply": "2022-09-02T12:17:18.236814Z"
    },
    "papermill": {
     "duration": 0.037642,
     "end_time": "2022-09-02T12:17:18.237408",
     "exception": false,
     "start_time": "2022-09-02T12:17:18.199766",
     "status": "completed"
    },
    "tags": []
   },
   "outputs": [],
   "source": [
    "#hide\n",
    "\n",
    "# FETCH\n",
    "base_url = 'https://raw.githubusercontent.com/pratapvardhan/notebooks/master/covid19/'\n",
    "paths = {\n",
    "    'mapping': base_url + 'mapping_countries.csv',\n",
    "    'overview': base_url + 'overview.tpl'\n",
    "}"
   ]
  },
  {
   "cell_type": "code",
   "execution_count": 3,
   "id": "dynamic-saver",
   "metadata": {
    "execution": {
     "iopub.execute_input": "2022-09-02T12:17:18.308326Z",
     "iopub.status.busy": "2022-09-02T12:17:18.307722Z",
     "iopub.status.idle": "2022-09-02T12:17:18.310589Z",
     "shell.execute_reply": "2022-09-02T12:17:18.311016Z"
    },
    "papermill": {
     "duration": 0.0442,
     "end_time": "2022-09-02T12:17:18.311153",
     "exception": false,
     "start_time": "2022-09-02T12:17:18.266953",
     "status": "completed"
    },
    "tags": []
   },
   "outputs": [
    {
     "data": {
      "text/plain": [
       "'https://raw.githubusercontent.com/pratapvardhan/notebooks/master/covid19/mapping_countries.csv'"
      ]
     },
     "execution_count": 3,
     "metadata": {},
     "output_type": "execute_result"
    }
   ],
   "source": [
    "#hide\n",
    "paths['mapping']"
   ]
  },
  {
   "cell_type": "code",
   "execution_count": 4,
   "id": "urban-software",
   "metadata": {
    "execution": {
     "iopub.execute_input": "2022-09-02T12:17:18.377276Z",
     "iopub.status.busy": "2022-09-02T12:17:18.376639Z",
     "iopub.status.idle": "2022-09-02T12:17:18.379078Z",
     "shell.execute_reply": "2022-09-02T12:17:18.378503Z"
    },
    "papermill": {
     "duration": 0.038037,
     "end_time": "2022-09-02T12:17:18.379195",
     "exception": false,
     "start_time": "2022-09-02T12:17:18.341158",
     "status": "completed"
    },
    "tags": []
   },
   "outputs": [],
   "source": [
    "#hide\n",
    "def get_mappings(url):\n",
    "    df = pd.read_csv(url)\n",
    "    return {\n",
    "        'df': df,\n",
    "        'replace.country': dict(df.dropna(subset=['Name']).set_index('Country')['Name']),\n",
    "        'map.continent': dict(df.set_index('Name')['Continent'])\n",
    "    }"
   ]
  },
  {
   "cell_type": "code",
   "execution_count": 5,
   "id": "intimate-machinery",
   "metadata": {
    "execution": {
     "iopub.execute_input": "2022-09-02T12:17:18.445161Z",
     "iopub.status.busy": "2022-09-02T12:17:18.444573Z",
     "iopub.status.idle": "2022-09-02T12:17:18.472651Z",
     "shell.execute_reply": "2022-09-02T12:17:18.473203Z"
    },
    "papermill": {
     "duration": 0.064288,
     "end_time": "2022-09-02T12:17:18.473366",
     "exception": false,
     "start_time": "2022-09-02T12:17:18.409078",
     "status": "completed"
    },
    "tags": []
   },
   "outputs": [],
   "source": [
    "#hide\n",
    "mapping = get_mappings(paths['mapping'])"
   ]
  },
  {
   "cell_type": "code",
   "execution_count": 6,
   "id": "certified-tactics",
   "metadata": {
    "execution": {
     "iopub.execute_input": "2022-09-02T12:17:18.539965Z",
     "iopub.status.busy": "2022-09-02T12:17:18.539328Z",
     "iopub.status.idle": "2022-09-02T12:17:18.541799Z",
     "shell.execute_reply": "2022-09-02T12:17:18.541323Z"
    },
    "papermill": {
     "duration": 0.037939,
     "end_time": "2022-09-02T12:17:18.541912",
     "exception": false,
     "start_time": "2022-09-02T12:17:18.503973",
     "status": "completed"
    },
    "tags": []
   },
   "outputs": [],
   "source": [
    "#hide\n",
    "def get_template(path):\n",
    "    from urllib.parse import urlparse\n",
    "    if bool(urlparse(path).netloc):\n",
    "        from urllib.request import urlopen\n",
    "        return urlopen(path).read().decode('utf8')\n",
    "    return open(path).read()"
   ]
  },
  {
   "cell_type": "code",
   "execution_count": 7,
   "id": "realistic-blast",
   "metadata": {
    "execution": {
     "iopub.execute_input": "2022-09-02T12:17:18.608969Z",
     "iopub.status.busy": "2022-09-02T12:17:18.608380Z",
     "iopub.status.idle": "2022-09-02T12:17:18.610794Z",
     "shell.execute_reply": "2022-09-02T12:17:18.611344Z"
    },
    "papermill": {
     "duration": 0.039595,
     "end_time": "2022-09-02T12:17:18.611476",
     "exception": false,
     "start_time": "2022-09-02T12:17:18.571881",
     "status": "completed"
    },
    "tags": []
   },
   "outputs": [],
   "source": [
    "#hide\n",
    "def get_frame(name):\n",
    "    url = (\n",
    "        'https://raw.githubusercontent.com/CSSEGISandData/COVID-19/master/csse_covid_19_data/'\n",
    "        f'csse_covid_19_time_series/time_series_covid19_{name}_global.csv')\n",
    "    df = pd.read_csv(url)\n",
    "    # rename countries\n",
    "    df['Country/Region'] = df['Country/Region'].replace(mapping['replace.country'])\n",
    "    return df"
   ]
  },
  {
   "cell_type": "code",
   "execution_count": 8,
   "id": "affiliated-characterization",
   "metadata": {
    "execution": {
     "iopub.execute_input": "2022-09-02T12:17:18.679399Z",
     "iopub.status.busy": "2022-09-02T12:17:18.678646Z",
     "iopub.status.idle": "2022-09-02T12:17:18.680340Z",
     "shell.execute_reply": "2022-09-02T12:17:18.680882Z"
    },
    "papermill": {
     "duration": 0.039576,
     "end_time": "2022-09-02T12:17:18.681036",
     "exception": false,
     "start_time": "2022-09-02T12:17:18.641460",
     "status": "completed"
    },
    "tags": []
   },
   "outputs": [],
   "source": [
    "#hide\n",
    "def get_dates(df):\n",
    "    dt_cols = df.columns[~df.columns.isin(['Province/State', 'Country/Region', 'Lat', 'Long'])]\n",
    "    LAST_DATE_I = -1\n",
    "    # sometimes last column may be empty, then go backwards\n",
    "    for i in range(-1, -len(dt_cols), -1):\n",
    "        if not df[dt_cols[i]].fillna(0).eq(0).all():\n",
    "            LAST_DATE_I = i\n",
    "            break\n",
    "    return LAST_DATE_I, dt_cols"
   ]
  },
  {
   "cell_type": "code",
   "execution_count": 9,
   "id": "recent-optimization",
   "metadata": {
    "execution": {
     "iopub.execute_input": "2022-09-02T12:17:18.747488Z",
     "iopub.status.busy": "2022-09-02T12:17:18.746860Z",
     "iopub.status.idle": "2022-09-02T12:17:19.126268Z",
     "shell.execute_reply": "2022-09-02T12:17:19.125630Z"
    },
    "papermill": {
     "duration": 0.415238,
     "end_time": "2022-09-02T12:17:19.126417",
     "exception": false,
     "start_time": "2022-09-02T12:17:18.711179",
     "status": "completed"
    },
    "tags": []
   },
   "outputs": [],
   "source": [
    "#hide\n",
    "COL_REGION = 'Country/Region'\n",
    "# Confirmed, Recovered, Deaths\n",
    "df = get_frame('confirmed')\n",
    "# dft_: timeseries, dfc_: today country agg\n",
    "dft_cases = df\n",
    "dft_deaths = get_frame('deaths')\n",
    "dft_recovered = get_frame('recovered')\n",
    "LAST_DATE_I, dt_cols = get_dates(df)"
   ]
  },
  {
   "cell_type": "code",
   "execution_count": 10,
   "id": "absolute-copper",
   "metadata": {
    "execution": {
     "iopub.execute_input": "2022-09-02T12:17:19.194319Z",
     "iopub.status.busy": "2022-09-02T12:17:19.193639Z",
     "iopub.status.idle": "2022-09-02T12:17:19.196031Z",
     "shell.execute_reply": "2022-09-02T12:17:19.195549Z"
    },
    "papermill": {
     "duration": 0.038599,
     "end_time": "2022-09-02T12:17:19.196148",
     "exception": false,
     "start_time": "2022-09-02T12:17:19.157549",
     "status": "completed"
    },
    "tags": []
   },
   "outputs": [],
   "source": [
    "#hide\n",
    "LAST_DATE_I, dt_cols = get_dates(df)\n",
    "dt_today =dt_cols[LAST_DATE_I]\n",
    "# dt_5day = dt_cols[LAST_DATE_I - 5]\n",
    "dt_yday = dt_cols[LAST_DATE_I - 1]"
   ]
  },
  {
   "cell_type": "code",
   "execution_count": 11,
   "id": "restricted-sheriff",
   "metadata": {
    "execution": {
     "iopub.execute_input": "2022-09-02T12:17:19.262663Z",
     "iopub.status.busy": "2022-09-02T12:17:19.262033Z",
     "iopub.status.idle": "2022-09-02T12:17:19.269625Z",
     "shell.execute_reply": "2022-09-02T12:17:19.270183Z"
    },
    "papermill": {
     "duration": 0.044346,
     "end_time": "2022-09-02T12:17:19.270350",
     "exception": false,
     "start_time": "2022-09-02T12:17:19.226004",
     "status": "completed"
    },
    "tags": []
   },
   "outputs": [],
   "source": [
    "#hide\n",
    "dfc_cases = dft_cases.groupby(COL_REGION)[dt_today].sum()\n",
    "dfc_deaths = dft_deaths.groupby(COL_REGION)[dt_today].sum()\n",
    "# dfp_cases = dft_cases.groupby(COL_REGION)[dt_5day].sum()\n",
    "# dfp_deaths = dft_deaths.groupby(COL_REGION)[dt_5day].sum()\n",
    "dfp_cases = dft_cases.groupby(COL_REGION)[dt_yday].sum()\n",
    "dfp_deaths = dft_deaths.groupby(COL_REGION)[dt_yday].sum()"
   ]
  },
  {
   "cell_type": "code",
   "execution_count": 12,
   "id": "deluxe-hepatitis",
   "metadata": {
    "execution": {
     "iopub.execute_input": "2022-09-02T12:17:19.337624Z",
     "iopub.status.busy": "2022-09-02T12:17:19.337021Z",
     "iopub.status.idle": "2022-09-02T12:17:19.341682Z",
     "shell.execute_reply": "2022-09-02T12:17:19.342158Z"
    },
    "papermill": {
     "duration": 0.041895,
     "end_time": "2022-09-02T12:17:19.342321",
     "exception": false,
     "start_time": "2022-09-02T12:17:19.300426",
     "status": "completed"
    },
    "tags": []
   },
   "outputs": [],
   "source": [
    "#hide\n",
    "df_table = (pd.DataFrame(dict(Cases = dfc_cases, Deaths = dfc_deaths, PCases = dfp_cases, PDeaths = dfp_deaths))\n",
    "            .sort_values(by = ['Cases','Deaths'], ascending = [False, False])\n",
    "            .reset_index())"
   ]
  },
  {
   "cell_type": "code",
   "execution_count": 13,
   "id": "educational-chancellor",
   "metadata": {
    "execution": {
     "iopub.execute_input": "2022-09-02T12:17:19.421281Z",
     "iopub.status.busy": "2022-09-02T12:17:19.420653Z",
     "iopub.status.idle": "2022-09-02T12:17:19.428721Z",
     "shell.execute_reply": "2022-09-02T12:17:19.428242Z"
    },
    "papermill": {
     "duration": 0.05654,
     "end_time": "2022-09-02T12:17:19.428837",
     "exception": false,
     "start_time": "2022-09-02T12:17:19.372297",
     "status": "completed"
    },
    "tags": []
   },
   "outputs": [
    {
     "data": {
      "text/html": [
       "<div>\n",
       "<style scoped>\n",
       "    .dataframe tbody tr th:only-of-type {\n",
       "        vertical-align: middle;\n",
       "    }\n",
       "\n",
       "    .dataframe tbody tr th {\n",
       "        vertical-align: top;\n",
       "    }\n",
       "\n",
       "    .dataframe thead th {\n",
       "        text-align: right;\n",
       "    }\n",
       "</style>\n",
       "<table border=\"1\" class=\"dataframe\">\n",
       "  <thead>\n",
       "    <tr style=\"text-align: right;\">\n",
       "      <th></th>\n",
       "      <th>Country/Region</th>\n",
       "      <th>Cases</th>\n",
       "      <th>Deaths</th>\n",
       "      <th>PCases</th>\n",
       "      <th>PDeaths</th>\n",
       "      <th>Cases (+)</th>\n",
       "      <th>Deaths (+)</th>\n",
       "      <th>Fatality Rate</th>\n",
       "      <th>Continent</th>\n",
       "    </tr>\n",
       "  </thead>\n",
       "  <tbody>\n",
       "    <tr>\n",
       "      <th>0</th>\n",
       "      <td>US</td>\n",
       "      <td>94649469</td>\n",
       "      <td>1047006</td>\n",
       "      <td>94531854</td>\n",
       "      <td>1046327</td>\n",
       "      <td>117615</td>\n",
       "      <td>679</td>\n",
       "      <td>1.11</td>\n",
       "      <td>North America</td>\n",
       "    </tr>\n",
       "    <tr>\n",
       "      <th>1</th>\n",
       "      <td>India</td>\n",
       "      <td>44442507</td>\n",
       "      <td>527932</td>\n",
       "      <td>44436339</td>\n",
       "      <td>527911</td>\n",
       "      <td>6168</td>\n",
       "      <td>21</td>\n",
       "      <td>1.19</td>\n",
       "      <td>Asia</td>\n",
       "    </tr>\n",
       "    <tr>\n",
       "      <th>2</th>\n",
       "      <td>France</td>\n",
       "      <td>34764504</td>\n",
       "      <td>155174</td>\n",
       "      <td>34745833</td>\n",
       "      <td>155133</td>\n",
       "      <td>18671</td>\n",
       "      <td>41</td>\n",
       "      <td>0.45</td>\n",
       "      <td>Europe</td>\n",
       "    </tr>\n",
       "    <tr>\n",
       "      <th>3</th>\n",
       "      <td>Brazil</td>\n",
       "      <td>34429853</td>\n",
       "      <td>683965</td>\n",
       "      <td>34429853</td>\n",
       "      <td>683965</td>\n",
       "      <td>0</td>\n",
       "      <td>0</td>\n",
       "      <td>1.99</td>\n",
       "      <td>South America</td>\n",
       "    </tr>\n",
       "    <tr>\n",
       "      <th>4</th>\n",
       "      <td>Germany</td>\n",
       "      <td>32218483</td>\n",
       "      <td>147642</td>\n",
       "      <td>32184553</td>\n",
       "      <td>147494</td>\n",
       "      <td>33930</td>\n",
       "      <td>148</td>\n",
       "      <td>0.46</td>\n",
       "      <td>Europe</td>\n",
       "    </tr>\n",
       "  </tbody>\n",
       "</table>\n",
       "</div>"
      ],
      "text/plain": [
       "  Country/Region     Cases   Deaths    PCases  PDeaths  Cases (+)  Deaths (+)  \\\n",
       "0             US  94649469  1047006  94531854  1046327     117615         679   \n",
       "1          India  44442507   527932  44436339   527911       6168          21   \n",
       "2         France  34764504   155174  34745833   155133      18671          41   \n",
       "3         Brazil  34429853   683965  34429853   683965          0           0   \n",
       "4        Germany  32218483   147642  32184553   147494      33930         148   \n",
       "\n",
       "   Fatality Rate      Continent  \n",
       "0           1.11  North America  \n",
       "1           1.19           Asia  \n",
       "2           0.45         Europe  \n",
       "3           1.99  South America  \n",
       "4           0.46         Europe  "
      ]
     },
     "execution_count": 13,
     "metadata": {},
     "output_type": "execute_result"
    }
   ],
   "source": [
    "#hide\n",
    "for c in 'Cases, Deaths'.split(', '):\n",
    "    df_table[f'{c} (+)'] = (df_table[c] - df_table[f'P{c}']).clip(0)\n",
    "    #Clip ça veut dire, les chiffres negatif sont interdit\n",
    "df_table['Fatality Rate'] = (100* df_table['Deaths']/ df_table['Cases']).round(2)\n",
    "df_table['Continent'] = df_table['Country/Region'].map(mapping['map.continent'])\n",
    "df_table.head(5)"
   ]
  },
  {
   "cell_type": "code",
   "execution_count": 14,
   "id": "aboriginal-bulgaria",
   "metadata": {
    "execution": {
     "iopub.execute_input": "2022-09-02T12:17:19.496931Z",
     "iopub.status.busy": "2022-09-02T12:17:19.496315Z",
     "iopub.status.idle": "2022-09-02T12:17:19.498472Z",
     "shell.execute_reply": "2022-09-02T12:17:19.499026Z"
    },
    "papermill": {
     "duration": 0.039826,
     "end_time": "2022-09-02T12:17:19.499169",
     "exception": false,
     "start_time": "2022-09-02T12:17:19.459343",
     "status": "completed"
    },
    "tags": []
   },
   "outputs": [],
   "source": [
    "#hide\n",
    "#delete problematic countries from table\n",
    "df_table = df_table[~df_table['Country/Region'].isin(['Cape Verde', 'Cruise Ship', 'Kosovo'])]"
   ]
  },
  {
   "cell_type": "code",
   "execution_count": 15,
   "id": "fantastic-effect",
   "metadata": {
    "execution": {
     "iopub.execute_input": "2022-09-02T12:17:19.569558Z",
     "iopub.status.busy": "2022-09-02T12:17:19.568945Z",
     "iopub.status.idle": "2022-09-02T12:17:19.587549Z",
     "shell.execute_reply": "2022-09-02T12:17:19.588066Z"
    },
    "papermill": {
     "duration": 0.058557,
     "end_time": "2022-09-02T12:17:19.588218",
     "exception": false,
     "start_time": "2022-09-02T12:17:19.529661",
     "status": "completed"
    },
    "tags": []
   },
   "outputs": [
    {
     "data": {
      "text/html": [
       "<div>\n",
       "<style scoped>\n",
       "    .dataframe tbody tr th:only-of-type {\n",
       "        vertical-align: middle;\n",
       "    }\n",
       "\n",
       "    .dataframe tbody tr th {\n",
       "        vertical-align: top;\n",
       "    }\n",
       "\n",
       "    .dataframe thead th {\n",
       "        text-align: right;\n",
       "    }\n",
       "</style>\n",
       "<table border=\"1\" class=\"dataframe\">\n",
       "  <thead>\n",
       "    <tr style=\"text-align: right;\">\n",
       "      <th></th>\n",
       "      <th>Country/Region</th>\n",
       "      <th>Cases</th>\n",
       "      <th>Deaths</th>\n",
       "      <th>PCases</th>\n",
       "      <th>PDeaths</th>\n",
       "      <th>Cases (+)</th>\n",
       "      <th>Deaths (+)</th>\n",
       "      <th>Fatality Rate</th>\n",
       "      <th>Continent</th>\n",
       "    </tr>\n",
       "  </thead>\n",
       "  <tbody>\n",
       "    <tr>\n",
       "      <th>0</th>\n",
       "      <td>US</td>\n",
       "      <td>94649469</td>\n",
       "      <td>1047006</td>\n",
       "      <td>94531854</td>\n",
       "      <td>1046327</td>\n",
       "      <td>117615</td>\n",
       "      <td>679</td>\n",
       "      <td>1.1</td>\n",
       "      <td>North America</td>\n",
       "    </tr>\n",
       "    <tr>\n",
       "      <th>1</th>\n",
       "      <td>India</td>\n",
       "      <td>44442507</td>\n",
       "      <td>527932</td>\n",
       "      <td>44436339</td>\n",
       "      <td>527911</td>\n",
       "      <td>6168</td>\n",
       "      <td>21</td>\n",
       "      <td>1.2</td>\n",
       "      <td>Asia</td>\n",
       "    </tr>\n",
       "    <tr>\n",
       "      <th>2</th>\n",
       "      <td>France</td>\n",
       "      <td>34764504</td>\n",
       "      <td>155174</td>\n",
       "      <td>34745833</td>\n",
       "      <td>155133</td>\n",
       "      <td>18671</td>\n",
       "      <td>41</td>\n",
       "      <td>0.4</td>\n",
       "      <td>Europe</td>\n",
       "    </tr>\n",
       "    <tr>\n",
       "      <th>3</th>\n",
       "      <td>Brazil</td>\n",
       "      <td>34429853</td>\n",
       "      <td>683965</td>\n",
       "      <td>34429853</td>\n",
       "      <td>683965</td>\n",
       "      <td>0</td>\n",
       "      <td>0</td>\n",
       "      <td>2.0</td>\n",
       "      <td>South America</td>\n",
       "    </tr>\n",
       "    <tr>\n",
       "      <th>4</th>\n",
       "      <td>Germany</td>\n",
       "      <td>32218483</td>\n",
       "      <td>147642</td>\n",
       "      <td>32184553</td>\n",
       "      <td>147494</td>\n",
       "      <td>33930</td>\n",
       "      <td>148</td>\n",
       "      <td>0.5</td>\n",
       "      <td>Europe</td>\n",
       "    </tr>\n",
       "  </tbody>\n",
       "</table>\n",
       "</div>"
      ],
      "text/plain": [
       "  Country/Region     Cases   Deaths    PCases  PDeaths  Cases (+)  Deaths (+)  \\\n",
       "0             US  94649469  1047006  94531854  1046327     117615         679   \n",
       "1          India  44442507   527932  44436339   527911       6168          21   \n",
       "2         France  34764504   155174  34745833   155133      18671          41   \n",
       "3         Brazil  34429853   683965  34429853   683965          0           0   \n",
       "4        Germany  32218483   147642  32184553   147494      33930         148   \n",
       "\n",
       "   Fatality Rate      Continent  \n",
       "0            1.1  North America  \n",
       "1            1.2           Asia  \n",
       "2            0.4         Europe  \n",
       "3            2.0  South America  \n",
       "4            0.5         Europe  "
      ]
     },
     "execution_count": 15,
     "metadata": {},
     "output_type": "execute_result"
    }
   ],
   "source": [
    "#hide\n",
    "df_table = (pd.DataFrame(dict(Cases=dfc_cases, Deaths=dfc_deaths, PCases=dfp_cases, PDeaths=dfp_deaths))\n",
    "             .sort_values(by=['Cases', 'Deaths'], ascending=[False, False])\n",
    "             .reset_index())\n",
    "df_table.rename(columns={'index': 'Country/Region'}, inplace=True)\n",
    "for c in 'Cases, Deaths'.split(', '):\n",
    "    df_table[f'{c} (+)'] = (df_table[c] - df_table[f'P{c}']).clip(0)  # DATA BUG\n",
    "df_table['Fatality Rate'] = (100 * df_table['Deaths'] / df_table['Cases']).round(1)\n",
    "df_table['Continent'] = df_table['Country/Region'].map(mapping['map.continent'])\n",
    "df_table.head(5)"
   ]
  },
  {
   "cell_type": "code",
   "execution_count": 16,
   "id": "fewer-occasion",
   "metadata": {
    "execution": {
     "iopub.execute_input": "2022-09-02T12:17:19.657554Z",
     "iopub.status.busy": "2022-09-02T12:17:19.656903Z",
     "iopub.status.idle": "2022-09-02T12:17:19.658990Z",
     "shell.execute_reply": "2022-09-02T12:17:19.659411Z"
    },
    "papermill": {
     "duration": 0.039538,
     "end_time": "2022-09-02T12:17:19.659552",
     "exception": false,
     "start_time": "2022-09-02T12:17:19.620014",
     "status": "completed"
    },
    "tags": []
   },
   "outputs": [],
   "source": [
    "#hide\n",
    "#delete problematic countries from table\n",
    "df_table = df_table[~df_table['Country/Region'].isin(['Cape Verde', 'Cruise Ship', 'Kosovo'])]"
   ]
  },
  {
   "cell_type": "code",
   "execution_count": 17,
   "id": "related-center",
   "metadata": {
    "execution": {
     "iopub.execute_input": "2022-09-02T12:17:19.729404Z",
     "iopub.status.busy": "2022-09-02T12:17:19.728794Z",
     "iopub.status.idle": "2022-09-02T12:17:19.743263Z",
     "shell.execute_reply": "2022-09-02T12:17:19.742780Z"
    },
    "papermill": {
     "duration": 0.052878,
     "end_time": "2022-09-02T12:17:19.743390",
     "exception": false,
     "start_time": "2022-09-02T12:17:19.690512",
     "status": "completed"
    },
    "tags": []
   },
   "outputs": [],
   "source": [
    "#hide\n",
    "metrics = [df_table.columns[index] for index in [1,2,5,6]]\n",
    "# s_china = df_table[df_table['Country/Region'].eq('China')][metrics].sum().add_prefix('China ')\n",
    "s_us = df_table[df_table['Country/Region'].eq('US')][metrics].sum().add_prefix('US ')\n",
    "s_eu = df_table[df_table['Continent'].eq('Europe')][metrics].sum().add_prefix('EU ')\n",
    "s_ind = df_table[df_table['Country/Region'].eq('India')][metrics].sum().add_prefix('India ')\n",
    "summary = {'updated': pd.to_datetime(dt_today), 'since': pd.to_datetime(dt_yday)}\n",
    "summary = {'updated': pd.to_datetime(dt_today), 'since': pd.to_datetime(dt_yday)}\n",
    "summary = {**summary, **df_table[metrics].sum(), **s_ind, **s_us, **s_eu}"
   ]
  },
  {
   "cell_type": "code",
   "execution_count": 18,
   "id": "engaging-syndrome",
   "metadata": {
    "execution": {
     "iopub.execute_input": "2022-09-02T12:17:19.812636Z",
     "iopub.status.busy": "2022-09-02T12:17:19.812036Z",
     "iopub.status.idle": "2022-09-02T12:17:19.834151Z",
     "shell.execute_reply": "2022-09-02T12:17:19.833626Z"
    },
    "papermill": {
     "duration": 0.059085,
     "end_time": "2022-09-02T12:17:19.834313",
     "exception": false,
     "start_time": "2022-09-02T12:17:19.775228",
     "status": "completed"
    },
    "tags": []
   },
   "outputs": [],
   "source": [
    "#hide\n",
    "dft_ct_new_cases = dft_cases.groupby(COL_REGION)[dt_cols].sum().diff(axis=1).fillna(0).astype(int)"
   ]
  },
  {
   "cell_type": "code",
   "execution_count": 19,
   "id": "neutral-assignment",
   "metadata": {
    "execution": {
     "iopub.execute_input": "2022-09-02T12:17:19.904755Z",
     "iopub.status.busy": "2022-09-02T12:17:19.904089Z",
     "iopub.status.idle": "2022-09-02T12:17:19.906530Z",
     "shell.execute_reply": "2022-09-02T12:17:19.906021Z"
    },
    "papermill": {
     "duration": 0.041301,
     "end_time": "2022-09-02T12:17:19.906653",
     "exception": false,
     "start_time": "2022-09-02T12:17:19.865352",
     "status": "completed"
    },
    "tags": []
   },
   "outputs": [],
   "source": [
    "#hide\n",
    "everydaycases = dft_ct_new_cases.cumsum(axis=1)"
   ]
  },
  {
   "cell_type": "code",
   "execution_count": 20,
   "id": "parliamentary-calgary",
   "metadata": {
    "execution": {
     "iopub.execute_input": "2022-09-02T12:17:19.974399Z",
     "iopub.status.busy": "2022-09-02T12:17:19.973731Z",
     "iopub.status.idle": "2022-09-02T12:17:20.531598Z",
     "shell.execute_reply": "2022-09-02T12:17:20.530587Z"
    },
    "papermill": {
     "duration": 0.593955,
     "end_time": "2022-09-02T12:17:20.531740",
     "exception": false,
     "start_time": "2022-09-02T12:17:19.937785",
     "status": "completed"
    },
    "tags": []
   },
   "outputs": [],
   "source": [
    "#hide\n",
    "import pandas as pd\n",
    "import matplotlib.pyplot as plt\n",
    "import matplotlib.ticker as ticker\n",
    "import matplotlib.animation as animation\n",
    "from IPython.display import HTML"
   ]
  },
  {
   "cell_type": "code",
   "execution_count": 21,
   "id": "lasting-extraction",
   "metadata": {
    "execution": {
     "iopub.execute_input": "2022-09-02T12:17:20.601415Z",
     "iopub.status.busy": "2022-09-02T12:17:20.600793Z",
     "iopub.status.idle": "2022-09-02T12:17:20.608858Z",
     "shell.execute_reply": "2022-09-02T12:17:20.608386Z"
    },
    "papermill": {
     "duration": 0.04618,
     "end_time": "2022-09-02T12:17:20.608972",
     "exception": false,
     "start_time": "2022-09-02T12:17:20.562792",
     "status": "completed"
    },
    "tags": []
   },
   "outputs": [],
   "source": [
    "#hide\n",
    "t = everydaycases.stack()"
   ]
  },
  {
   "cell_type": "code",
   "execution_count": 22,
   "id": "premier-sleeve",
   "metadata": {
    "execution": {
     "iopub.execute_input": "2022-09-02T12:17:20.676126Z",
     "iopub.status.busy": "2022-09-02T12:17:20.675531Z",
     "iopub.status.idle": "2022-09-02T12:17:20.688394Z",
     "shell.execute_reply": "2022-09-02T12:17:20.687920Z"
    },
    "papermill": {
     "duration": 0.048407,
     "end_time": "2022-09-02T12:17:20.688513",
     "exception": false,
     "start_time": "2022-09-02T12:17:20.640106",
     "status": "completed"
    },
    "tags": []
   },
   "outputs": [],
   "source": [
    "#hide\n",
    "g = t.reset_index(['Country/Region'])"
   ]
  },
  {
   "cell_type": "code",
   "execution_count": 23,
   "id": "distributed-pittsburgh",
   "metadata": {
    "execution": {
     "iopub.execute_input": "2022-09-02T12:17:20.755254Z",
     "iopub.status.busy": "2022-09-02T12:17:20.754544Z",
     "iopub.status.idle": "2022-09-02T12:17:20.756368Z",
     "shell.execute_reply": "2022-09-02T12:17:20.756867Z"
    },
    "papermill": {
     "duration": 0.037621,
     "end_time": "2022-09-02T12:17:20.757015",
     "exception": false,
     "start_time": "2022-09-02T12:17:20.719394",
     "status": "completed"
    },
    "tags": []
   },
   "outputs": [],
   "source": [
    "#hide\n",
    "g.index.name = 'date'"
   ]
  },
  {
   "cell_type": "code",
   "execution_count": 24,
   "id": "naked-donor",
   "metadata": {
    "execution": {
     "iopub.execute_input": "2022-09-02T12:17:20.824945Z",
     "iopub.status.busy": "2022-09-02T12:17:20.824193Z",
     "iopub.status.idle": "2022-09-02T12:17:20.825986Z",
     "shell.execute_reply": "2022-09-02T12:17:20.826520Z"
    },
    "papermill": {
     "duration": 0.037575,
     "end_time": "2022-09-02T12:17:20.826669",
     "exception": false,
     "start_time": "2022-09-02T12:17:20.789094",
     "status": "completed"
    },
    "tags": []
   },
   "outputs": [],
   "source": [
    "# #hide\n",
    "# g = g.reset_index(['date'])"
   ]
  },
  {
   "cell_type": "code",
   "execution_count": 25,
   "id": "incomplete-mustang",
   "metadata": {
    "execution": {
     "iopub.execute_input": "2022-09-02T12:17:20.893190Z",
     "iopub.status.busy": "2022-09-02T12:17:20.892484Z",
     "iopub.status.idle": "2022-09-02T12:17:20.894364Z",
     "shell.execute_reply": "2022-09-02T12:17:20.894869Z"
    },
    "papermill": {
     "duration": 0.037241,
     "end_time": "2022-09-02T12:17:20.895013",
     "exception": false,
     "start_time": "2022-09-02T12:17:20.857772",
     "status": "completed"
    },
    "tags": []
   },
   "outputs": [],
   "source": [
    "#hide\n",
    "# g.head()"
   ]
  },
  {
   "cell_type": "code",
   "execution_count": 26,
   "id": "specific-kruger",
   "metadata": {
    "execution": {
     "iopub.execute_input": "2022-09-02T12:17:21.017823Z",
     "iopub.status.busy": "2022-09-02T12:17:21.017135Z",
     "iopub.status.idle": "2022-09-02T12:17:21.019448Z",
     "shell.execute_reply": "2022-09-02T12:17:21.018879Z"
    },
    "papermill": {
     "duration": 0.09296,
     "end_time": "2022-09-02T12:17:21.019567",
     "exception": false,
     "start_time": "2022-09-02T12:17:20.926607",
     "status": "completed"
    },
    "tags": []
   },
   "outputs": [],
   "source": [
    "#hide\n",
    "# g.columns = ['date','country','cases']"
   ]
  },
  {
   "cell_type": "code",
   "execution_count": 27,
   "id": "tender-conversion",
   "metadata": {
    "execution": {
     "iopub.execute_input": "2022-09-02T12:17:21.107787Z",
     "iopub.status.busy": "2022-09-02T12:17:21.107118Z",
     "iopub.status.idle": "2022-09-02T12:17:21.109081Z",
     "shell.execute_reply": "2022-09-02T12:17:21.109528Z"
    },
    "papermill": {
     "duration": 0.054617,
     "end_time": "2022-09-02T12:17:21.109672",
     "exception": false,
     "start_time": "2022-09-02T12:17:21.055055",
     "status": "completed"
    },
    "tags": []
   },
   "outputs": [],
   "source": [
    "#hide\n",
    "# g['continent'] = g.country"
   ]
  },
  {
   "cell_type": "code",
   "execution_count": 28,
   "id": "substantial-wilderness",
   "metadata": {
    "execution": {
     "iopub.execute_input": "2022-09-02T12:17:21.203247Z",
     "iopub.status.busy": "2022-09-02T12:17:21.202510Z",
     "iopub.status.idle": "2022-09-02T12:17:21.204236Z",
     "shell.execute_reply": "2022-09-02T12:17:21.203774Z"
    },
    "papermill": {
     "duration": 0.055128,
     "end_time": "2022-09-02T12:17:21.204348",
     "exception": false,
     "start_time": "2022-09-02T12:17:21.149220",
     "status": "completed"
    },
    "tags": []
   },
   "outputs": [],
   "source": [
    "#hide\n",
    "# cols = list(g.columns.values)"
   ]
  },
  {
   "cell_type": "code",
   "execution_count": 29,
   "id": "solved-farming",
   "metadata": {
    "execution": {
     "iopub.execute_input": "2022-09-02T12:17:21.313110Z",
     "iopub.status.busy": "2022-09-02T12:17:21.312425Z",
     "iopub.status.idle": "2022-09-02T12:17:21.313753Z",
     "shell.execute_reply": "2022-09-02T12:17:21.314330Z"
    },
    "papermill": {
     "duration": 0.054799,
     "end_time": "2022-09-02T12:17:21.314477",
     "exception": false,
     "start_time": "2022-09-02T12:17:21.259678",
     "status": "completed"
    },
    "tags": []
   },
   "outputs": [],
   "source": [
    "#hide\n",
    "# cols.insert(0, cols.pop())"
   ]
  },
  {
   "cell_type": "code",
   "execution_count": 30,
   "id": "executed-adoption",
   "metadata": {
    "execution": {
     "iopub.execute_input": "2022-09-02T12:17:21.406755Z",
     "iopub.status.busy": "2022-09-02T12:17:21.406125Z",
     "iopub.status.idle": "2022-09-02T12:17:21.409183Z",
     "shell.execute_reply": "2022-09-02T12:17:21.408705Z"
    },
    "papermill": {
     "duration": 0.054584,
     "end_time": "2022-09-02T12:17:21.409299",
     "exception": false,
     "start_time": "2022-09-02T12:17:21.354715",
     "status": "completed"
    },
    "tags": []
   },
   "outputs": [],
   "source": [
    "#hide\n",
    "# g = g[cols]"
   ]
  },
  {
   "cell_type": "code",
   "execution_count": 31,
   "id": "subject-dublin",
   "metadata": {
    "execution": {
     "iopub.execute_input": "2022-09-02T12:17:21.501916Z",
     "iopub.status.busy": "2022-09-02T12:17:21.501218Z",
     "iopub.status.idle": "2022-09-02T12:17:21.504899Z",
     "shell.execute_reply": "2022-09-02T12:17:21.505406Z"
    },
    "papermill": {
     "duration": 0.055955,
     "end_time": "2022-09-02T12:17:21.505553",
     "exception": false,
     "start_time": "2022-09-02T12:17:21.449598",
     "status": "completed"
    },
    "tags": []
   },
   "outputs": [],
   "source": [
    "#hide\n",
    "# g['continent'] = g['continent'].map(mapping['map.continent'])"
   ]
  },
  {
   "cell_type": "code",
   "execution_count": 32,
   "id": "freelance-scout",
   "metadata": {
    "execution": {
     "iopub.execute_input": "2022-09-02T12:17:21.612171Z",
     "iopub.status.busy": "2022-09-02T12:17:21.611388Z",
     "iopub.status.idle": "2022-09-02T12:17:21.613923Z",
     "shell.execute_reply": "2022-09-02T12:17:21.614410Z"
    },
    "papermill": {
     "duration": 0.053707,
     "end_time": "2022-09-02T12:17:21.614553",
     "exception": false,
     "start_time": "2022-09-02T12:17:21.560846",
     "status": "completed"
    },
    "tags": []
   },
   "outputs": [],
   "source": [
    "#hide\n",
    "# g.head()"
   ]
  },
  {
   "cell_type": "code",
   "execution_count": 33,
   "id": "limited-engine",
   "metadata": {
    "execution": {
     "iopub.execute_input": "2022-09-02T12:17:21.706824Z",
     "iopub.status.busy": "2022-09-02T12:17:21.706179Z",
     "iopub.status.idle": "2022-09-02T12:17:21.709062Z",
     "shell.execute_reply": "2022-09-02T12:17:21.709530Z"
    },
    "papermill": {
     "duration": 0.055762,
     "end_time": "2022-09-02T12:17:21.709669",
     "exception": false,
     "start_time": "2022-09-02T12:17:21.653907",
     "status": "completed"
    },
    "tags": []
   },
   "outputs": [],
   "source": [
    "# hide\n",
    "# g['date'] = g['date'].astype('datetime64[ns]')"
   ]
  },
  {
   "cell_type": "code",
   "execution_count": 34,
   "id": "sophisticated-supervisor",
   "metadata": {
    "execution": {
     "iopub.execute_input": "2022-09-02T12:17:21.807699Z",
     "iopub.status.busy": "2022-09-02T12:17:21.806996Z",
     "iopub.status.idle": "2022-09-02T12:17:21.808918Z",
     "shell.execute_reply": "2022-09-02T12:17:21.809455Z"
    },
    "papermill": {
     "duration": 0.058068,
     "end_time": "2022-09-02T12:17:21.809606",
     "exception": false,
     "start_time": "2022-09-02T12:17:21.751538",
     "status": "completed"
    },
    "tags": []
   },
   "outputs": [],
   "source": [
    "#hide\n",
    "# g['date'] = g.date.dt.dayofyear"
   ]
  },
  {
   "cell_type": "code",
   "execution_count": 35,
   "id": "inside-dubai",
   "metadata": {
    "execution": {
     "iopub.execute_input": "2022-09-02T12:17:21.918922Z",
     "iopub.status.busy": "2022-09-02T12:17:21.918219Z",
     "iopub.status.idle": "2022-09-02T12:17:21.921278Z",
     "shell.execute_reply": "2022-09-02T12:17:21.921702Z"
    },
    "papermill": {
     "duration": 0.060169,
     "end_time": "2022-09-02T12:17:21.921849",
     "exception": false,
     "start_time": "2022-09-02T12:17:21.861680",
     "status": "completed"
    },
    "tags": []
   },
   "outputs": [],
   "source": [
    "#hide\n",
    "# g = g.rename(columns= {'continent':'group','country':'name','cases':'value'})"
   ]
  },
  {
   "cell_type": "code",
   "execution_count": 36,
   "id": "fleet-motorcycle",
   "metadata": {
    "execution": {
     "iopub.execute_input": "2022-09-02T12:17:21.989679Z",
     "iopub.status.busy": "2022-09-02T12:17:21.989080Z",
     "iopub.status.idle": "2022-09-02T12:17:21.991475Z",
     "shell.execute_reply": "2022-09-02T12:17:21.991889Z"
    },
    "papermill": {
     "duration": 0.038315,
     "end_time": "2022-09-02T12:17:21.992025",
     "exception": false,
     "start_time": "2022-09-02T12:17:21.953710",
     "status": "completed"
    },
    "tags": []
   },
   "outputs": [],
   "source": [
    "#hide\n",
    "# cols = ['name','group','day','value']"
   ]
  },
  {
   "cell_type": "code",
   "execution_count": 37,
   "id": "continued-sleeping",
   "metadata": {
    "execution": {
     "iopub.execute_input": "2022-09-02T12:17:22.058219Z",
     "iopub.status.busy": "2022-09-02T12:17:22.057651Z",
     "iopub.status.idle": "2022-09-02T12:17:22.059961Z",
     "shell.execute_reply": "2022-09-02T12:17:22.060402Z"
    },
    "papermill": {
     "duration": 0.037598,
     "end_time": "2022-09-02T12:17:22.060535",
     "exception": false,
     "start_time": "2022-09-02T12:17:22.022937",
     "status": "completed"
    },
    "tags": []
   },
   "outputs": [],
   "source": [
    "#hide\n",
    "# g.rename(columns= {'date':'day'},inplace = True)"
   ]
  },
  {
   "cell_type": "code",
   "execution_count": 38,
   "id": "major-fight",
   "metadata": {
    "execution": {
     "iopub.execute_input": "2022-09-02T12:17:22.127295Z",
     "iopub.status.busy": "2022-09-02T12:17:22.126631Z",
     "iopub.status.idle": "2022-09-02T12:17:22.128871Z",
     "shell.execute_reply": "2022-09-02T12:17:22.129414Z"
    },
    "papermill": {
     "duration": 0.03799,
     "end_time": "2022-09-02T12:17:22.129553",
     "exception": false,
     "start_time": "2022-09-02T12:17:22.091563",
     "status": "completed"
    },
    "tags": []
   },
   "outputs": [],
   "source": [
    "#hide\n",
    "# g = g[cols]"
   ]
  },
  {
   "cell_type": "code",
   "execution_count": 39,
   "id": "structured-mobile",
   "metadata": {
    "execution": {
     "iopub.execute_input": "2022-09-02T12:17:22.196018Z",
     "iopub.status.busy": "2022-09-02T12:17:22.195284Z",
     "iopub.status.idle": "2022-09-02T12:17:22.197158Z",
     "shell.execute_reply": "2022-09-02T12:17:22.197665Z"
    },
    "papermill": {
     "duration": 0.037485,
     "end_time": "2022-09-02T12:17:22.197816",
     "exception": false,
     "start_time": "2022-09-02T12:17:22.160331",
     "status": "completed"
    },
    "tags": []
   },
   "outputs": [],
   "source": [
    "# #hide\n",
    "# g = g[g.group.notna()]"
   ]
  },
  {
   "cell_type": "code",
   "execution_count": 40,
   "id": "determined-closing",
   "metadata": {
    "execution": {
     "iopub.execute_input": "2022-09-02T12:17:22.265740Z",
     "iopub.status.busy": "2022-09-02T12:17:22.265069Z",
     "iopub.status.idle": "2022-09-02T12:17:22.267603Z",
     "shell.execute_reply": "2022-09-02T12:17:22.267027Z"
    },
    "papermill": {
     "duration": 0.038331,
     "end_time": "2022-09-02T12:17:22.267720",
     "exception": false,
     "start_time": "2022-09-02T12:17:22.229389",
     "status": "completed"
    },
    "tags": []
   },
   "outputs": [],
   "source": [
    "# #hide\n",
    "# colors = dict(zip(\n",
    "#     [\"Oceania\", \"Europe\", \"Asia\", \"South America\", \"Middle East\", \"North America\", \"Africa\"],\n",
    "#     [\"#adb0ff\", \"#ffb3ff\", \"#90d595\", \"#e48381\", \"#aafbff\", \"#f7bb5f\", \"#eafb50\"]\n",
    "# ))\n",
    "# group_lk = g.set_index('name')['group'].to_dict()"
   ]
  },
  {
   "cell_type": "code",
   "execution_count": null,
   "id": "gross-drinking",
   "metadata": {
    "papermill": {
     "duration": 0.030887,
     "end_time": "2022-09-02T12:17:22.329445",
     "exception": false,
     "start_time": "2022-09-02T12:17:22.298558",
     "status": "completed"
    },
    "tags": []
   },
   "outputs": [],
   "source": []
  },
  {
   "cell_type": "code",
   "execution_count": 41,
   "id": "subject-macintosh",
   "metadata": {
    "execution": {
     "iopub.execute_input": "2022-09-02T12:17:22.396116Z",
     "iopub.status.busy": "2022-09-02T12:17:22.395496Z",
     "iopub.status.idle": "2022-09-02T12:17:22.398152Z",
     "shell.execute_reply": "2022-09-02T12:17:22.398646Z"
    },
    "papermill": {
     "duration": 0.038351,
     "end_time": "2022-09-02T12:17:22.398797",
     "exception": false,
     "start_time": "2022-09-02T12:17:22.360446",
     "status": "completed"
    },
    "tags": []
   },
   "outputs": [],
   "source": [
    "# #hide\n",
    "# fig, ax = plt.subplots(figsize=(15, 8))\n",
    "\n",
    "# def draw_barchart(current_day):\n",
    "#     dff = g[g['day'].eq(current_day)].sort_values(by='value', ascending=True).tail(10)\n",
    "#     ax.clear()\n",
    "#     ax.barh(dff['name'], dff['value'], color=[colors[group_lk[x]] for x in dff['name']])\n",
    "#     dx = dff['value'].max() / 200\n",
    "    \n",
    "#     for i, (value, name) in enumerate(zip(dff['value'], dff['name'])):\n",
    "#         ax.text(value-dx, i,     name,           size=14, weight=600, ha='right', va='bottom')\n",
    "#         ax.text(value-dx, i-.25, group_lk[name], size=10, color='#444444', ha='right', va='baseline')\n",
    "#         ax.text(value+dx, i,     f'{value:,.0f}',  size=14, ha='left',  va='center')\n",
    "#     ax.text(1, 0.4, current_day, transform=ax.transAxes, color='#777777', size=46, ha='right', weight=800)\n",
    "#     ax.text(0, 1.06, 'Population (thousands)', transform=ax.transAxes, size=12, color='#777777')\n",
    "#     ax.xaxis.set_major_formatter(ticker.StrMethodFormatter('{x:,.0f}'))\n",
    "#     ax.xaxis.set_ticks_position('top')\n",
    "#     ax.tick_params(axis='x', colors='#777777', labelsize=12)\n",
    "#     ax.set_yticks([])\n",
    "#     ax.margins(0, 0.01)\n",
    "#     ax.grid(which='major', axis='x', linestyle='-')\n",
    "#     ax.set_axisbelow(True)\n",
    "    \n",
    "#     ax.text(0, 1.15, 'Coronavirus',\n",
    "#             transform=ax.transAxes, size=24, weight=600, ha='left', va='top')\n",
    "# #     ax.text(1, 0, 'by @pratapvardhan; credit @jburnmurdoch', transform=ax.transAxes, color='#777777', ha='right',\n",
    "# #             bbox=dict(facecolor='white', alpha=0.8, edgecolor='white'))\n",
    "#     plt.box(False)"
   ]
  },
  {
   "cell_type": "code",
   "execution_count": 42,
   "id": "sexual-wages",
   "metadata": {
    "execution": {
     "iopub.execute_input": "2022-09-02T12:17:22.465583Z",
     "iopub.status.busy": "2022-09-02T12:17:22.464852Z",
     "iopub.status.idle": "2022-09-02T12:17:22.469035Z",
     "shell.execute_reply": "2022-09-02T12:17:22.469495Z"
    },
    "papermill": {
     "duration": 0.039887,
     "end_time": "2022-09-02T12:17:22.469636",
     "exception": false,
     "start_time": "2022-09-02T12:17:22.429749",
     "status": "completed"
    },
    "tags": []
   },
   "outputs": [],
   "source": [
    "# #hide_input\n",
    "# fig, ax = plt.subplots(figsize=(15, 8))\n",
    "# animator = animation.FuncAnimation(fig, draw_barchart, frames=range(g.day.values.min(), g.day.values.max()))\n",
    "# HTML(animator.to_jshtml())\n",
    "# # or use animator.to_html5_video() or animator.save() "
   ]
  },
  {
   "cell_type": "code",
   "execution_count": null,
   "id": "australian-container",
   "metadata": {
    "papermill": {
     "duration": 0.031748,
     "end_time": "2022-09-02T12:17:22.532717",
     "exception": false,
     "start_time": "2022-09-02T12:17:22.500969",
     "status": "completed"
    },
    "tags": []
   },
   "outputs": [],
   "source": []
  },
  {
   "cell_type": "code",
   "execution_count": null,
   "id": "mediterranean-pontiac",
   "metadata": {
    "papermill": {
     "duration": 0.03085,
     "end_time": "2022-09-02T12:17:22.594412",
     "exception": false,
     "start_time": "2022-09-02T12:17:22.563562",
     "status": "completed"
    },
    "tags": []
   },
   "outputs": [],
   "source": []
  },
  {
   "cell_type": "code",
   "execution_count": null,
   "id": "aging-legislature",
   "metadata": {
    "papermill": {
     "duration": 0.030838,
     "end_time": "2022-09-02T12:17:22.656224",
     "exception": false,
     "start_time": "2022-09-02T12:17:22.625386",
     "status": "completed"
    },
    "tags": []
   },
   "outputs": [],
   "source": []
  }
 ],
 "metadata": {
  "kernelspec": {
   "display_name": "Python 3",
   "language": "python",
   "name": "python3"
  },
  "language_info": {
   "codemirror_mode": {
    "name": "ipython",
    "version": 3
   },
   "file_extension": ".py",
   "mimetype": "text/x-python",
   "name": "python",
   "nbconvert_exporter": "python",
   "pygments_lexer": "ipython3",
   "version": "3.6.15"
  },
  "papermill": {
   "duration": 6.649783,
   "end_time": "2022-09-02T12:17:23.106453",
   "environment_variables": {},
   "exception": null,
   "input_path": "2020-03-21-covid19exp.ipynb",
   "output_path": "2020-03-21-covid19exp.ipynb",
   "parameters": {},
   "start_time": "2022-09-02T12:17:16.456670",
   "version": "2.0.0"
  }
 },
 "nbformat": 4,
 "nbformat_minor": 5
}